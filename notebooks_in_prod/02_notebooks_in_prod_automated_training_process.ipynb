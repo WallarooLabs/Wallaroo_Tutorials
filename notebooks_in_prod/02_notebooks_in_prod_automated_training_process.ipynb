{
 "cells": [
  {
   "attachments": {},
   "cell_type": "markdown",
   "metadata": {},
   "source": [
    "The following tutorials are available from the [Wallaroo Tutorials Repository](https://github.com/WallarooLabs/Wallaroo_Tutorials/tree/main/notebooks_in_prod).\n",
    "\n",
    "# Stage 2: Training Process Automation Setup\n",
    " \n",
    "Now that we have decided on the type and structure of the model from Stage 1: Data Exploration And Model Selection, this notebook modularizes the various steps of the process in a structure that is compatible with production and with Wallaroo.\n",
    "\n",
    "We have pulled the preprocessing and postprocessing steps out of the training notebook into individual scripts that can also be used when the model is deployed.\n",
    "\n",
    "Assuming no changes are made to the structure of the model, this notebook, or a script based on this notebook, can then be scheduled to run on a regular basis, to refresh the model with more recent training data. We'd expect to run this notebook in conjunction with the Stage 3 notebook, `03_deploy_model.ipynb`.  For clarity in this demo, we have split the training/upload task into two notebooks, `02_automated_training_process.ipynb` and `03_deploy_model.ipynb`.\n",
    "\n",
    "## Resources\n",
    "\n",
    "The following resources are used as part of this tutorial:\n",
    "\n",
    "* **data**\n",
    "  * `data/seattle_housing_col_description.txt`: Describes the columns used as part data analysis.\n",
    "  * `data/seattle_housing.csv`: Sample data of the Seattle, Washington housing market between 2014 and 2015.\n",
    "* **code**\n",
    "  * `postprocess.py`: Formats the data after inference by the model is complete.\n",
    "  * `preprocess.py`: Formats the incoming data for the model.\n",
    "  * `simdb.py`: A simulated database to demonstrate sending and receiving queries.\n",
    "  * `wallaroo_client.py`: Additional methods used with the Wallaroo instance to create workspaces, etc.\n",
    "\n",
    "## Steps\n",
    "\n",
    "The following steps are part of this process:\n",
    "\n",
    "* [Retrieve Training Data](#retrieve-training-data): Connect to the data store and retrieve the training data.\n",
    "* [Data Transformations](#data-transformations): Evaluate the data and train the model.\n",
    "* [Generate and Test the Model](#generate-and-test-the-model): Create the model and verify it against the sample test data.\n",
    "* [Pickle The Model](#pickle-the-model): Prepare the model to be uploaded to Wallaroo.\n",
    "\n",
    "### Retrieve Training Data\n",
    "\n",
    "Note that this connection is simulated to demonstrate how data would be retrieved from an existing data store.  For training, we will use the data on all houses sold in this market with the last two years."
   ]
  },
  {
   "cell_type": "code",
   "execution_count": 14,
   "metadata": {},
   "outputs": [],
   "source": [
    "import numpy as np\n",
    "import pandas as pd\n",
    "\n",
    "import sklearn\n",
    "\n",
    "import xgboost as xgb\n",
    "\n",
    "import seaborn\n",
    "import matplotlib\n",
    "import matplotlib.pyplot as plt\n",
    "\n",
    "import pickle\n",
    "\n",
    "import simdb # module for the purpose of this demo to simulate pulling data from a database\n",
    "\n",
    "from preprocess import create_features  # our custom preprocessing\n",
    "from postprocess import postprocess    # our custom postprocessing\n",
    "\n",
    "matplotlib.rcParams[\"figure.figsize\"] = (12,6)\n",
    "\n",
    "# ignoring warnings for demonstration\n",
    "import warnings\n",
    "warnings.filterwarnings('ignore')"
   ]
  },
  {
   "cell_type": "code",
   "execution_count": 15,
   "metadata": {},
   "outputs": [
    {
     "name": "stdout",
     "output_type": "stream",
     "text": [
      "select * from house_listings where date > DATE(DATE(), '-24 month') AND sale_price is not NULL\n"
     ]
    },
    {
     "data": {
      "text/html": [
       "<div>\n",
       "<style scoped>\n",
       "    .dataframe tbody tr th:only-of-type {\n",
       "        vertical-align: middle;\n",
       "    }\n",
       "\n",
       "    .dataframe tbody tr th {\n",
       "        vertical-align: top;\n",
       "    }\n",
       "\n",
       "    .dataframe thead th {\n",
       "        text-align: right;\n",
       "    }\n",
       "</style>\n",
       "<table border=\"1\" class=\"dataframe\">\n",
       "  <thead>\n",
       "    <tr style=\"text-align: right;\">\n",
       "      <th></th>\n",
       "      <th>id</th>\n",
       "      <th>date</th>\n",
       "      <th>list_price</th>\n",
       "      <th>bedrooms</th>\n",
       "      <th>bathrooms</th>\n",
       "      <th>sqft_living</th>\n",
       "      <th>sqft_lot</th>\n",
       "    </tr>\n",
       "  </thead>\n",
       "  <tbody>\n",
       "    <tr>\n",
       "      <th>0</th>\n",
       "      <td>7129300520</td>\n",
<<<<<<< HEAD
       "      <td>2022-10-05</td>\n",
=======
       "      <td>2022-10-03</td>\n",
>>>>>>> 07b717a (pipeline logs and other updates/)
       "      <td>221900.0</td>\n",
       "      <td>3</td>\n",
       "      <td>1.00</td>\n",
       "      <td>1180</td>\n",
       "      <td>5650</td>\n",
       "    </tr>\n",
       "    <tr>\n",
       "      <th>1</th>\n",
       "      <td>6414100192</td>\n",
<<<<<<< HEAD
       "      <td>2022-12-01</td>\n",
=======
       "      <td>2022-11-29</td>\n",
>>>>>>> 07b717a (pipeline logs and other updates/)
       "      <td>538000.0</td>\n",
       "      <td>3</td>\n",
       "      <td>2.25</td>\n",
       "      <td>2570</td>\n",
       "      <td>7242</td>\n",
       "    </tr>\n",
       "    <tr>\n",
       "      <th>2</th>\n",
       "      <td>5631500400</td>\n",
<<<<<<< HEAD
       "      <td>2023-02-17</td>\n",
=======
       "      <td>2023-02-15</td>\n",
>>>>>>> 07b717a (pipeline logs and other updates/)
       "      <td>180000.0</td>\n",
       "      <td>2</td>\n",
       "      <td>1.00</td>\n",
       "      <td>770</td>\n",
       "      <td>10000</td>\n",
       "    </tr>\n",
       "    <tr>\n",
       "      <th>3</th>\n",
       "      <td>2487200875</td>\n",
<<<<<<< HEAD
       "      <td>2022-12-01</td>\n",
=======
       "      <td>2022-11-29</td>\n",
>>>>>>> 07b717a (pipeline logs and other updates/)
       "      <td>604000.0</td>\n",
       "      <td>4</td>\n",
       "      <td>3.00</td>\n",
       "      <td>1960</td>\n",
       "      <td>5000</td>\n",
       "    </tr>\n",
       "    <tr>\n",
       "      <th>4</th>\n",
       "      <td>1954400510</td>\n",
<<<<<<< HEAD
       "      <td>2023-02-10</td>\n",
=======
       "      <td>2023-02-08</td>\n",
>>>>>>> 07b717a (pipeline logs and other updates/)
       "      <td>510000.0</td>\n",
       "      <td>3</td>\n",
       "      <td>2.00</td>\n",
       "      <td>1680</td>\n",
       "      <td>8080</td>\n",
       "    </tr>\n",
       "    <tr>\n",
       "      <th>...</th>\n",
       "      <td>...</td>\n",
       "      <td>...</td>\n",
       "      <td>...</td>\n",
       "      <td>...</td>\n",
       "      <td>...</td>\n",
       "      <td>...</td>\n",
       "      <td>...</td>\n",
       "    </tr>\n",
       "    <tr>\n",
       "      <th>20518</th>\n",
       "      <td>263000018</td>\n",
<<<<<<< HEAD
       "      <td>2022-05-13</td>\n",
=======
       "      <td>2022-05-11</td>\n",
>>>>>>> 07b717a (pipeline logs and other updates/)
       "      <td>360000.0</td>\n",
       "      <td>3</td>\n",
       "      <td>2.50</td>\n",
       "      <td>1530</td>\n",
       "      <td>1131</td>\n",
       "    </tr>\n",
       "    <tr>\n",
       "      <th>20519</th>\n",
       "      <td>6600060120</td>\n",
<<<<<<< HEAD
       "      <td>2023-02-15</td>\n",
=======
       "      <td>2023-02-13</td>\n",
>>>>>>> 07b717a (pipeline logs and other updates/)
       "      <td>400000.0</td>\n",
       "      <td>4</td>\n",
       "      <td>2.50</td>\n",
       "      <td>2310</td>\n",
       "      <td>5813</td>\n",
       "    </tr>\n",
       "    <tr>\n",
       "      <th>20520</th>\n",
       "      <td>1523300141</td>\n",
<<<<<<< HEAD
       "      <td>2022-06-15</td>\n",
=======
       "      <td>2022-06-13</td>\n",
>>>>>>> 07b717a (pipeline logs and other updates/)
       "      <td>402101.0</td>\n",
       "      <td>2</td>\n",
       "      <td>0.75</td>\n",
       "      <td>1020</td>\n",
       "      <td>1350</td>\n",
       "    </tr>\n",
       "    <tr>\n",
       "      <th>20521</th>\n",
       "      <td>291310100</td>\n",
<<<<<<< HEAD
       "      <td>2023-01-08</td>\n",
=======
       "      <td>2023-01-06</td>\n",
>>>>>>> 07b717a (pipeline logs and other updates/)
       "      <td>400000.0</td>\n",
       "      <td>3</td>\n",
       "      <td>2.50</td>\n",
       "      <td>1600</td>\n",
       "      <td>2388</td>\n",
       "    </tr>\n",
       "    <tr>\n",
       "      <th>20522</th>\n",
       "      <td>1523300157</td>\n",
<<<<<<< HEAD
       "      <td>2022-10-07</td>\n",
=======
       "      <td>2022-10-05</td>\n",
>>>>>>> 07b717a (pipeline logs and other updates/)
       "      <td>325000.0</td>\n",
       "      <td>2</td>\n",
       "      <td>0.75</td>\n",
       "      <td>1020</td>\n",
       "      <td>1076</td>\n",
       "    </tr>\n",
       "  </tbody>\n",
       "</table>\n",
       "<p>20523 rows × 7 columns</p>\n",
       "</div>"
      ],
      "text/plain": [
       "               id        date  list_price  bedrooms  bathrooms  sqft_living  \\\n",
<<<<<<< HEAD
       "0      7129300520  2022-10-05    221900.0         3       1.00         1180   \n",
       "1      6414100192  2022-12-01    538000.0         3       2.25         2570   \n",
       "2      5631500400  2023-02-17    180000.0         2       1.00          770   \n",
       "3      2487200875  2022-12-01    604000.0         4       3.00         1960   \n",
       "4      1954400510  2023-02-10    510000.0         3       2.00         1680   \n",
       "...           ...         ...         ...       ...        ...          ...   \n",
       "20518   263000018  2022-05-13    360000.0         3       2.50         1530   \n",
       "20519  6600060120  2023-02-15    400000.0         4       2.50         2310   \n",
       "20520  1523300141  2022-06-15    402101.0         2       0.75         1020   \n",
       "20521   291310100  2023-01-08    400000.0         3       2.50         1600   \n",
       "20522  1523300157  2022-10-07    325000.0         2       0.75         1020   \n",
=======
       "0      7129300520  2022-10-03    221900.0         3       1.00         1180   \n",
       "1      6414100192  2022-11-29    538000.0         3       2.25         2570   \n",
       "2      5631500400  2023-02-15    180000.0         2       1.00          770   \n",
       "3      2487200875  2022-11-29    604000.0         4       3.00         1960   \n",
       "4      1954400510  2023-02-08    510000.0         3       2.00         1680   \n",
       "...           ...         ...         ...       ...        ...          ...   \n",
       "20518   263000018  2022-05-11    360000.0         3       2.50         1530   \n",
       "20519  6600060120  2023-02-13    400000.0         4       2.50         2310   \n",
       "20520  1523300141  2022-06-13    402101.0         2       0.75         1020   \n",
       "20521   291310100  2023-01-06    400000.0         3       2.50         1600   \n",
       "20522  1523300157  2022-10-05    325000.0         2       0.75         1020   \n",
>>>>>>> 07b717a (pipeline logs and other updates/)
       "\n",
       "       sqft_lot  \n",
       "0          5650  \n",
       "1          7242  \n",
       "2         10000  \n",
       "3          5000  \n",
       "4          8080  \n",
       "...         ...  \n",
       "20518      1131  \n",
       "20519      5813  \n",
       "20520      1350  \n",
       "20521      2388  \n",
       "20522      1076  \n",
       "\n",
       "[20523 rows x 7 columns]"
      ]
     },
     "execution_count": 15,
     "metadata": {},
     "output_type": "execute_result"
    }
   ],
   "source": [
    "conn = simdb.simulate_db_connection()\n",
    "tablename = simdb.tablename\n",
    "\n",
    "query = f\"select * from {tablename} where date > DATE(DATE(), '-24 month') AND sale_price is not NULL\"\n",
    "print(query)\n",
    "# read in the data\n",
    "housing_data = pd.read_sql_query(query, conn)\n",
    "\n",
    "conn.close()\n",
    "housing_data.loc[:, [\"id\", \"date\", \"list_price\", \"bedrooms\", \"bathrooms\", \"sqft_living\", \"sqft_lot\"]]"
   ]
  },
  {
   "attachments": {},
   "cell_type": "markdown",
   "metadata": {},
   "source": [
    "### Data transformations\n",
    "\n",
    "To improve relative error performance, we will predict on `log10` of the sale price.\n",
    "\n",
    "Predict on log10 price to try to improve relative error performance"
   ]
  },
  {
   "cell_type": "code",
   "execution_count": 16,
   "metadata": {},
   "outputs": [],
   "source": [
    "housing_data['logprice'] = np.log10(housing_data.list_price)"
   ]
  },
  {
   "cell_type": "code",
   "execution_count": 17,
   "metadata": {},
   "outputs": [],
   "source": [
    "# split data into training and test\n",
    "outcome = 'logprice'\n",
    "\n",
    "runif = np.random.default_rng(2206222).uniform(0, 1, housing_data.shape[0])\n",
    "gp = np.where(runif < 0.2, 'test', 'training')\n",
    "\n",
    "hd_train = housing_data.loc[gp=='training', :].reset_index(drop=True, inplace=False)\n",
    "hd_test = housing_data.loc[gp=='test', :].reset_index(drop=True, inplace=False)\n",
    "\n",
    "# split the training into training and val for xgboost\n",
    "runif = np.random.default_rng(123).uniform(0, 1, hd_train.shape[0])\n",
    "xgb_gp = np.where(runif < 0.2, 'val', 'train')"
   ]
  },
  {
   "cell_type": "code",
   "execution_count": 18,
   "metadata": {},
   "outputs": [
    {
     "name": "stdout",
     "output_type": "stream",
     "text": [
      "train_features: (13129, 18), train_labels: 13129\n",
      "val_features: (3300, 18), val_labels: 3300\n"
     ]
    }
   ],
   "source": [
    "# for xgboost\n",
    "train_features = hd_train.loc[xgb_gp=='train', :].reset_index(drop=True, inplace=False)\n",
    "train_features = np.array(create_features(train_features))\n",
    "train_labels = np.array(hd_train.loc[xgb_gp=='train', outcome])\n",
    "\n",
    "val_features = hd_train.loc[xgb_gp=='val', :].reset_index(drop=True, inplace=False)\n",
    "val_features = np.array(create_features(val_features))\n",
    "val_labels = np.array(hd_train.loc[xgb_gp=='val', outcome])\n",
    "\n",
    "print(f'train_features: {train_features.shape}, train_labels: {len(train_labels)}')\n",
    "print(f'val_features: {val_features.shape}, val_labels: {len(val_labels)}')\n"
   ]
  },
  {
   "attachments": {},
   "cell_type": "markdown",
   "metadata": {},
   "source": [
    "### Generate and Test the Model\n",
    "\n",
    "Based on the experimentation and testing performed in **Stage 1: Data Exploration And Model Selection**, XGBoost was selected as the ML model and the variables for training were selected.  The model will be generated and tested against sample data."
   ]
  },
  {
   "cell_type": "code",
   "execution_count": 19,
   "metadata": {},
   "outputs": [
    {
     "data": {
      "text/html": [
       "<style>#sk-container-id-2 {color: black;background-color: white;}#sk-container-id-2 pre{padding: 0;}#sk-container-id-2 div.sk-toggleable {background-color: white;}#sk-container-id-2 label.sk-toggleable__label {cursor: pointer;display: block;width: 100%;margin-bottom: 0;padding: 0.3em;box-sizing: border-box;text-align: center;}#sk-container-id-2 label.sk-toggleable__label-arrow:before {content: \"▸\";float: left;margin-right: 0.25em;color: #696969;}#sk-container-id-2 label.sk-toggleable__label-arrow:hover:before {color: black;}#sk-container-id-2 div.sk-estimator:hover label.sk-toggleable__label-arrow:before {color: black;}#sk-container-id-2 div.sk-toggleable__content {max-height: 0;max-width: 0;overflow: hidden;text-align: left;background-color: #f0f8ff;}#sk-container-id-2 div.sk-toggleable__content pre {margin: 0.2em;color: black;border-radius: 0.25em;background-color: #f0f8ff;}#sk-container-id-2 input.sk-toggleable__control:checked~div.sk-toggleable__content {max-height: 200px;max-width: 100%;overflow: auto;}#sk-container-id-2 input.sk-toggleable__control:checked~label.sk-toggleable__label-arrow:before {content: \"▾\";}#sk-container-id-2 div.sk-estimator input.sk-toggleable__control:checked~label.sk-toggleable__label {background-color: #d4ebff;}#sk-container-id-2 div.sk-label input.sk-toggleable__control:checked~label.sk-toggleable__label {background-color: #d4ebff;}#sk-container-id-2 input.sk-hidden--visually {border: 0;clip: rect(1px 1px 1px 1px);clip: rect(1px, 1px, 1px, 1px);height: 1px;margin: -1px;overflow: hidden;padding: 0;position: absolute;width: 1px;}#sk-container-id-2 div.sk-estimator {font-family: monospace;background-color: #f0f8ff;border: 1px dotted black;border-radius: 0.25em;box-sizing: border-box;margin-bottom: 0.5em;}#sk-container-id-2 div.sk-estimator:hover {background-color: #d4ebff;}#sk-container-id-2 div.sk-parallel-item::after {content: \"\";width: 100%;border-bottom: 1px solid gray;flex-grow: 1;}#sk-container-id-2 div.sk-label:hover label.sk-toggleable__label {background-color: #d4ebff;}#sk-container-id-2 div.sk-serial::before {content: \"\";position: absolute;border-left: 1px solid gray;box-sizing: border-box;top: 0;bottom: 0;left: 50%;z-index: 0;}#sk-container-id-2 div.sk-serial {display: flex;flex-direction: column;align-items: center;background-color: white;padding-right: 0.2em;padding-left: 0.2em;position: relative;}#sk-container-id-2 div.sk-item {position: relative;z-index: 1;}#sk-container-id-2 div.sk-parallel {display: flex;align-items: stretch;justify-content: center;background-color: white;position: relative;}#sk-container-id-2 div.sk-item::before, #sk-container-id-2 div.sk-parallel-item::before {content: \"\";position: absolute;border-left: 1px solid gray;box-sizing: border-box;top: 0;bottom: 0;left: 50%;z-index: -1;}#sk-container-id-2 div.sk-parallel-item {display: flex;flex-direction: column;z-index: 1;position: relative;background-color: white;}#sk-container-id-2 div.sk-parallel-item:first-child::after {align-self: flex-end;width: 50%;}#sk-container-id-2 div.sk-parallel-item:last-child::after {align-self: flex-start;width: 50%;}#sk-container-id-2 div.sk-parallel-item:only-child::after {width: 0;}#sk-container-id-2 div.sk-dashed-wrapped {border: 1px dashed gray;margin: 0 0.4em 0.5em 0.4em;box-sizing: border-box;padding-bottom: 0.4em;background-color: white;}#sk-container-id-2 div.sk-label label {font-family: monospace;font-weight: bold;display: inline-block;line-height: 1.2em;}#sk-container-id-2 div.sk-label-container {text-align: center;}#sk-container-id-2 div.sk-container {/* jupyter's `normalize.less` sets `[hidden] { display: none; }` but bootstrap.min.css set `[hidden] { display: none !important; }` so we also need the `!important` here to be able to override the default hidden behavior on the sphinx rendered scikit-learn.org. See: https://github.com/scikit-learn/scikit-learn/issues/21755 */display: inline-block !important;position: relative;}#sk-container-id-2 div.sk-text-repr-fallback {display: none;}</style><div id=\"sk-container-id-2\" class=\"sk-top-container\"><div class=\"sk-text-repr-fallback\"><pre>XGBRegressor(base_score=5.666446833601829, booster=&#x27;gbtree&#x27;, callbacks=None,\n",
       "             colsample_bylevel=1, colsample_bynode=1, colsample_bytree=1,\n",
       "             early_stopping_rounds=None, enable_categorical=False,\n",
       "             eval_metric=None, gamma=0, gpu_id=-1, grow_policy=&#x27;depthwise&#x27;,\n",
       "             importance_type=None, interaction_constraints=&#x27;&#x27;,\n",
       "             learning_rate=0.300000012, max_bin=256, max_cat_to_onehot=4,\n",
       "             max_delta_step=0, max_depth=5, max_leaves=0, min_child_weight=1,\n",
       "             missing=nan, monotone_constraints=&#x27;()&#x27;, n_estimators=100, n_jobs=0,\n",
       "             num_parallel_tree=1, predictor=&#x27;auto&#x27;, random_state=0, reg_alpha=0,\n",
       "             reg_lambda=1, ...)</pre><b>In a Jupyter environment, please rerun this cell to show the HTML representation or trust the notebook. <br />On GitHub, the HTML representation is unable to render, please try loading this page with nbviewer.org.</b></div><div class=\"sk-container\" hidden><div class=\"sk-item\"><div class=\"sk-estimator sk-toggleable\"><input class=\"sk-toggleable__control sk-hidden--visually\" id=\"sk-estimator-id-2\" type=\"checkbox\" checked><label for=\"sk-estimator-id-2\" class=\"sk-toggleable__label sk-toggleable__label-arrow\">XGBRegressor</label><div class=\"sk-toggleable__content\"><pre>XGBRegressor(base_score=5.666446833601829, booster=&#x27;gbtree&#x27;, callbacks=None,\n",
       "             colsample_bylevel=1, colsample_bynode=1, colsample_bytree=1,\n",
       "             early_stopping_rounds=None, enable_categorical=False,\n",
       "             eval_metric=None, gamma=0, gpu_id=-1, grow_policy=&#x27;depthwise&#x27;,\n",
       "             importance_type=None, interaction_constraints=&#x27;&#x27;,\n",
       "             learning_rate=0.300000012, max_bin=256, max_cat_to_onehot=4,\n",
       "             max_delta_step=0, max_depth=5, max_leaves=0, min_child_weight=1,\n",
       "             missing=nan, monotone_constraints=&#x27;()&#x27;, n_estimators=100, n_jobs=0,\n",
       "             num_parallel_tree=1, predictor=&#x27;auto&#x27;, random_state=0, reg_alpha=0,\n",
       "             reg_lambda=1, ...)</pre></div></div></div></div></div>"
      ],
      "text/plain": [
       "XGBRegressor(base_score=5.666446833601829, booster='gbtree', callbacks=None,\n",
       "             colsample_bylevel=1, colsample_bynode=1, colsample_bytree=1,\n",
       "             early_stopping_rounds=None, enable_categorical=False,\n",
       "             eval_metric=None, gamma=0, gpu_id=-1, grow_policy='depthwise',\n",
       "             importance_type=None, interaction_constraints='',\n",
       "             learning_rate=0.300000012, max_bin=256, max_cat_to_onehot=4,\n",
       "             max_delta_step=0, max_depth=5, max_leaves=0, min_child_weight=1,\n",
       "             missing=nan, monotone_constraints='()', n_estimators=100, n_jobs=0,\n",
       "             num_parallel_tree=1, predictor='auto', random_state=0, reg_alpha=0,\n",
       "             reg_lambda=1, ...)"
      ]
     },
     "execution_count": 19,
     "metadata": {},
     "output_type": "execute_result"
    }
   ],
   "source": [
    "\n",
    "xgb_model = xgb.XGBRegressor(\n",
    "    objective = 'reg:squarederror', \n",
    "    max_depth=5, \n",
    "    base_score = np.mean(hd_train[outcome])\n",
    "    )\n",
    "\n",
    "xgb_model.fit( \n",
    "    train_features,\n",
    "    train_labels,\n",
    "    eval_set=[(train_features, train_labels), (val_features, val_labels)],\n",
    "    verbose=False,\n",
    "    early_stopping_rounds=35\n",
    ")\n"
   ]
  },
  {
   "cell_type": "code",
   "execution_count": 20,
   "metadata": {},
   "outputs": [
    {
     "name": "stdout",
     "output_type": "stream",
     "text": [
      "0.07793614689092423\n",
      "99\n",
      "100\n"
     ]
    }
   ],
   "source": [
    "print(xgb_model.best_score)\n",
    "print(xgb_model.best_iteration)\n",
    "print(xgb_model.best_ntree_limit)"
   ]
  },
  {
   "cell_type": "code",
   "execution_count": 21,
   "metadata": {},
   "outputs": [
    {
     "data": {
      "image/png": "iVBORw0KGgoAAAANSUhEUgAAA9wAAAIjCAYAAADx4xNlAAAAOXRFWHRTb2Z0d2FyZQBNYXRwbG90bGliIHZlcnNpb24zLjUuMCwgaHR0cHM6Ly9tYXRwbG90bGliLm9yZy8/fFQqAAAACXBIWXMAAA9hAAAPYQGoP6dpAAC790lEQVR4nOzdd5icVd3/8fddp25Pr4QqXVQUBNsjitjFRijS0R9RUKwoKFEwKgiPhUcxID1YeMD6INgQFQsgCIhSAyF9s2122j1zl98fk102yU6yu9mZnd18XteVS3fuszPfmdmE/cw553uMKIoiRERERERERGRcmRNdgIiIiIiIiMhUpMAtIiIiIiIiUgMK3CIiIiIiIiI1oMAtIiIiIiIiUgMK3CIiIiIiIiI1oMAtIiIiIiIiUgMK3CIiIiIiIiI1oMAtIiIiIiIiUgMK3CIiIiIiIiI1oMAtIiIiIiIiUgMK3CIiIpPcvffey0UXXURvb2/NHuPLX/4yP/nJT2p2/yIiIlORAreIiMgkd++997J06VIFbhERkQajwC0iIiIiIiJSAwrcIiIik9hFF13EJz/5SQAWLVqEYRgYhsGzzz4LwE033cRLX/pSEokE7e3tHHfccTz//PNb3MeTTz7Ju9/9bmbNmkU8HmfevHkcd9xx9PX1AWAYBrlcjuuvv37w/k855ZR6Pk0REZFJyZ7oAkRERGTsjj32WJ544gluueUWrrjiCqZNmwbA9OnTueSSS7jwwgt53/vexxlnnEFnZyff+ta3ePWrX82DDz5Ia2srpVKJo48+Gs/z+MhHPsKsWbNYs2YNv/jFL+jt7aWlpYUbb7yRM844g5e//OWcddZZAOyxxx4T+bRFREQmBSOKomiiixAREZGxu+yyy/jkJz/JypUr2W233QB47rnn2GOPPfjiF7/IZz/72cGxjz76KIcccghLly7ls5/9LA899BCHHHIIP/7xj3nPe95T9THS6TTvec97uO6662r8bERERKYOLSkXERGZgm677TbCMOR973sfmzZtGvwza9Ys9tprL37/+98D0NLSAsCdd95JPp+fyJJFRESmnCkTuO+55x7e9ra3MWfOHAzDGFMn1SiKuOyyy9h7772JxWLMnTuXSy65ZPyLFRERqbEnn3ySKIrYa6+9mD59+hZ//v3vf7Nx40agsu/7vPPO4+qrr2batGkcffTRXHnllYP7t0VERGTspswe7lwux8EHH8xpp53GscceO6b7OPfcc7nrrru47LLLOPDAA+nu7qa7u3ucKxUREam9MAwxDIM77rgDy7K2uZ5Opwf//9e//nVOOeUUfvrTn3LXXXdxzjnnsGzZMv76178yb968epYtIiIypUyZwH3MMcdwzDHHVL3ueR6f+9znuOWWW+jt7eWAAw7gq1/9Kq997WsB+Pe//813vvMdHn30UfbZZx+g8qm/iIhIozMMY5vb9thjD6IoYtGiRey99947vI8DDzyQAw88kAsuuIB7772XI444gu9+97tcfPHFVR9DREREtm/KLCnfkQ9/+MP85S9/4Qc/+AEPP/ww733ve3nTm97Ek08+CcDPf/5zdt99d37xi1+waNEidtttN8444wzNcIuISMNLpVIA9Pb2Dt527LHHYlkWS5cuZev+qFEU0dXVBUAmk8H3/S2uH3jggZimied5WzzG0PsXERGRHZsyM9zbs2rVKq699lpWrVrFnDlzAPjEJz7Br371K6699lq+/OUv88wzz/Dcc8/x4x//mBtuuIEgCPjYxz7Ge97zHn73u99N8DMQERGp7qUvfSkAn/vc5zjuuONwHIe3ve1tXHzxxZx//vk8++yzvPOd76SpqYmVK1dy++23c9ZZZ/GJT3yC3/3ud3z4wx/mve99L3vvvTe+73PjjTdiWRbvfve7t3iM3/zmN1x++eXMmTOHRYsW8YpXvGKinrKIiMiksEsE7kceeYQgCLZZUud5Hh0dHUBlr5vnedxwww2D46655hpe+tKX8vjjjw8uMxcREWk0hx56KF/60pf47ne/y69+9SvCMGTlypV85jOfYe+99+aKK65g6dKlAMyfP583vvGNvP3tbwfg4IMP5uijj+bnP/85a9asIZlMcvDBB3PHHXdw2GGHDT7G5ZdfzllnncUFF1xAoVDg5JNPVuAWERHZgSl5DrdhGNx+++28853vBOCHP/whJ5xwAv/617+2aRyTTqeZNWsWX/jCF/jyl79MuVwevFYoFEgmk9x111284Q1vqOdTEBERERERkUlul5jhPuSQQwiCgI0bN/KqV71q2DFHHHEEvu/z9NNPs8ceewDwxBNPALBw4cK61SoiIiIiIiJTw5SZ4c5mszz11FNAJWBffvnlvO51r6O9vZ0FCxZw4okn8uc//5mvf/3rHHLIIXR2dvLb3/6Wgw46iLe85S2EYcihhx5KOp3mv//7vwnDkCVLltDc3Mxdd901wc9OREREREREJpspE7jvvvtuXve6121z+8knn8x1111HuVzm4osv5oYbbmDNmjVMmzaNww47jKVLl3LggQcCsHbtWj7ykY9w1113kUqlOOaYY/j6179Oe3t7vZ+OiIiIiIiITHJTJnCLiIiIiIiINJJd5hxuERERERERkXpS4BYRERERERGpgUndpTwMQ9auXUtTUxOGYUx0OSIiIiIiIjLFRVFEf38/c+bMwTS3P4c9oYE7CAIuuugibrrpJtavX8+cOXM45ZRTuOCCC0YUoNeuXcv8+fPrUKmIiIiIiIjIC55//nnmzZu33TETGri/+tWv8p3vfIfrr7+e/fffn/vvv59TTz2VlpYWzjnnnB1+f1NTE1B5os3NzbUuV0RERERERHZxmUyG+fPnD+bR7ZnQwH3vvffyjne8g7e85S0A7Lbbbtxyyy38/e9/H9H3D8yCNzc3K3CLiIiIiIhI3YxkVfaENk175StfyW9/+1ueeOIJAP75z3/ypz/9iWOOOWbY8Z7nkclktvgjIiIiIiIi0ogmdIb7M5/5DJlMhhe96EVYlkUQBFxyySWccMIJw45ftmwZS5curXOVIiIiIiIiIqM3oTPcP/rRj7j55ptZsWIF//jHP7j++uu57LLLuP7664cdf/7559PX1zf45/nnn69zxSIiIiIiIiIjY0RRFE3Ug8+fP5/PfOYzLFmyZPC2iy++mJtuuon//Oc/O/z+TCZDS0sLfX192sMtIiIiIiIiNTeaHDqhM9z5fH6bc8ssyyIMwwmqSERERERERGR8TOge7re97W1ccsklLFiwgP33358HH3yQyy+/nNNOO20iyxIRERERERHZaRO6pLy/v58LL7yQ22+/nY0bNzJnzhwWL17M5z//eVzX3eH3a0m5iIiIiIiI1NNocuiEBu6dpcAtIiIiIiIi9TRp9nCLiIiIiIiITFUK3CIiIiIiIiI1oMAtIiIiIiIiUgMK3CIiIiIiIiI1oMAtIiIiIiIiUgMK3CIiIiIiIiI1YE90ASIiIiIiIrLr8vyATMGnHIQ4lklzwiZmWxNd1rhQ4BYREREREZEJ0Zcvsaa3QBC+cFtnP8xtTdCSdCeusHGiJeUiIiIiIiJSd54fbBO2AYIQ1vQW8PxgYgobRwrcIiIiIiIiUneZgr9N2B4QhJXrk50Ct4iIiIiIiNRduVraHuH1yUCBW0REREREROrOsbYfR3d0fTKY/M9AREREREREJp3mhE21TG2ZleuTnQK3iIiIiIiI1F3MtpjbmtgmdFtmpUv5VDgabPJ/ZCAiIiIiIiKTUkvSJe5aOodbREREREREZLzFbIvpTVMjYG9NS8pFREREREREakCBW0RERERERKQGFLhFREREREREakCBW0RERERERKQGFLhFREREREREakCBW0RERERERKQGFLhFREREREREakCBW0RERERERKQGFLhFREREREREakCBW0RERERERKQGFLhFREREREREakCBW0RERERERKQGFLhFREREREREakCBW0RERERERKQGFLhFREREREREakCBW0RERERERKQGFLhFREREREREakCBW0RERERERKQGFLhFREREREREakCBW0RERERERKQGFLhFREREREREakCBW0RERERERKQGFLhFREREREREakCBW0RERERERKQGFLhFREREREREakCBW0RERERERKQGFLhFREREREREakCBW0RERERERKQGJjRw77bbbhiGsc2fJUuWTGRZIiIiIiIiIjvNnsgHv++++wiCYPDrRx99lDe84Q28973vncCqRERERERERHbehAbu6dOnb/H1V77yFfbYYw9e85rXTFBFIiIiIiIiIuNjQgP3UKVSiZtuuonzzjsPwzCGHeN5Hp7nDX6dyWTqVZ6IiIiIiIjIqDRM07Sf/OQn9Pb2csopp1Qds2zZMlpaWgb/zJ8/v34FioiIiIiIiIyCEUVRNNFFABx99NG4rsvPf/7zqmOGm+GeP38+fX19NDc316NMERERERER2YVlMhlaWlpGlEMbYkn5c889x29+8xtuu+227Y6LxWLEYrE6VSUiIiIiIiIydg2xpPzaa69lxowZvOUtb5noUkRERERERETGxYQH7jAMufbaazn55JOx7YaYcBcRERERERHZaRMeuH/zm9+watUqTjvttIkuRURERERERGTcTPiU8hvf+EYapG+biIiIiIiIyLiZ8BluERERERERkalIgVtERERERESkBhS4RURERERERGpAgVtERERERESkBhS4RURERERERGpAgVtERERERESkBhS4RURERERERGpAgVtERERERESkBhS4RURERERERGpAgVtERERERESkBhS4RURERERERGpAgVtERERERESkBhS4RURERERERGpAgVtERERERESkBhS4RURERERERGpAgVtERERERESkBhS4RURERERERGpAgVtERERERESkBhS4RURERERERGpAgVtERERERESkBhS4RURERERERGpAgVtERERERESkBhS4RURERERERGpAgVtERERERESkBhS4RURERERERGpAgVtERERERESkBhS4RURERERERGpAgVtERERERESkBhS4RURERERERGpAgVtERERERESkBhS4RURERERERGpAgVtERERERESkBhS4RURERERERGpAgVtERERERESkBhS4RURERERERGpAgVtERERERESkBhS4RURERERERGpAgVtERERERESkBhS4RURERERERGpAgVtERERERESkBhS4RURERERERGpAgVtERERERESkBhS4RURERERERGpAgVtERERERESkBhS4RURERERERGpgwgP3mjVrOPHEE+no6CCRSHDggQdy//33T3RZIiIiIiIiIjvFnsgH7+np4YgjjuB1r3sdd9xxB9OnT+fJJ5+kra1tIssSERERERER2WkTGri/+tWvMn/+fK699trB2xYtWlR1vOd5eJ43+HUmk6lpfSIiIiIiIiJjNaFLyn/2s5/xspe9jPe+973MmDGDQw45hOXLl1cdv2zZMlpaWgb/zJ8/v47VioiIiIiIiIycEUVRNFEPHo/HATjvvPN473vfy3333ce5557Ld7/7XU4++eRtxg83wz1//nz6+vpobm6uW90iIiIiIiKya8pkMrS0tIwoh05o4HZdl5e97GXce++9g7edc8453HffffzlL3/Z4feP5omKiIiIiIiI7KzR5NAJXVI+e/Zs9ttvvy1u23fffVm1atUEVSQiIiIiIiIyPiY0cB9xxBE8/vjjW9z2xBNPsHDhwgmqSERERERERGR8TGjg/tjHPsZf//pXvvzlL/PUU0+xYsUKvve977FkyZKJLEtERERERERkp01o4D700EO5/fbbueWWWzjggAP40pe+xH//939zwgknTGRZIiIiIiIiIjttQpum7Sw1TRMREREREZF6mjRN00RERERERESmKgVuERERERERkRpQ4BYRERERERGpAQVuERERERERkRpQ4BYRERERERGpAQVuERERERERkRpQ4BYRERERERGpAQVuERERERERkRpQ4BYRERERERGpAQVuERERERERkRpQ4BYRERERERGpAQVuERERERERkRpQ4BYRERERERGpAQVuERERERERkRpQ4BYRERERERGpAQVuERERERERkRpQ4BYRERERERGpAQVuERERERERkRpQ4BYRERERERGpAQVuERERERERkRpQ4BYRERERERGpAQVuERERERERkRpQ4BYRERERERGpAQVuERERERERkRqwJ7oAERERERER2bV5fkCm4FMOQhzLpDlhE7OtiS5rpylwi4iIiIiIyITpy5dY01sgCF+4rbMf5rYmaEm6E1fYONCSchEREREREZkQnh9sE7YBghDW9Bbw/GBiChsnCtwiIiIiIiIyITIFf5uwPSAIK9cnMwVuERERERERmRDlaml7hNcbnQK3iIiIiIiITAjH2n4k3dH1Rje5qxcREREREZFJqzlhUy1TW2bl+mSmwC0iIiIiIiITImZbzG1NbBO6LbPSpXyyHw02uT8uEBERERERkUmtJekSdy2dwy0iIiIiIiIy3mK2xfSmyR+wt6Yl5SIiIiIiIiI1oMAtIiIiIiIiUgMK3CIiIiIiIiI1oMAtIiIiIiIiUgMK3CIiIiIiIiI1oMAtIiIiIiIiE+qpjU/x6Vs/zaNrHp3oUsaVjgUTERERERGRuvvXmn9x8rUn88BzDwzedsejd/DwRQ9PYFXjS4FbRERERERE6uL+Z+/npGtO4j/r/zPs9Y/810fqXFFtKXCLiIiIiIhIzfzpyT9x/NXH83z388Neb0u2seLMFbzpgDfVubLaU+AWERERERGRcfXrx37N4uWL6cp2DXt9butcbj7jZl6zz2vqXFl9TWjTtIsuugjDMLb486IXvWgiSxIREREREZEx+MmDPyFxdgLjTIM3XvHGbcL23jP35m+f/RvR8ojVl66e8mEbGmCGe//99+c3v/nN4Ne2PeEliYiIiIiIyA5EUcQtf7+FE64+oeqYQxYcwnWnXsdB8w6qY2WNY8LTrW3bzJo1a6LLEBERERERkR2Iooir/3g1Z914VtUxR+x5BN8/+fvsPWvvOlbWmCY8cD/55JPMmTOHeDzO4YcfzrJly1iwYMGwYz3Pw/O8wa8zmUy9yhQREREREdklBWHAt373LT72w49VHfPG/d7IVSddxW7TdqtfYZOAEUVRNFEPfscdd5DNZtlnn31Yt24dS5cuZc2aNTz66KM0NTVtM/6iiy5i6dKl29ze19dHc3NzPUoWERERERGZ8sp+mUvvvJTP/eRzVce865B3ceXxVzK7dXYdK5t4mUyGlpaWEeXQCQ3cW+vt7WXhwoVcfvnlnH766dtcH26Ge/78+QrcIiIiIiIiO6lYLvKlX3yJL//fl6uOOeEVJ/Df7/9vpjVNq2NljWU0gXvCl5QP1drayt57781TTz017PVYLEYsFqtzVSIiIiIiIlNTzsvxuds/xzd++42qY8569Vl87d1foyXZUsfKpoaGCtzZbJann36ak046aaJLERERERERmZL68n188tZPsvyPy6uO+ehRH+Xid15MKpaqY2VTz4QG7k984hO87W1vY+HChaxdu5YvfOELWJbF4sWLJ7IsERERERGRKWVT/ybO/cG5rPj7iqpjPvfmz3HBWy8g7sTrWNnUNqGBe/Xq1SxevJiuri6mT5/OkUceyV//+lemT58+kWWJiIiIiIhMemt713L2zWfz04d+WnXMl9/1ZT7xxk/g2E4dK9t1TGjg/sEPfjCRDy8iIiIiIjKlPLvpWc668Sx+/divq475xnHfYMnrlmCZVh0r2zU11B5uERERERERGZ3H1z/Oadedxr1P31t1zPIPLOf0I0/HMIw6ViYK3CIiIiIiIpPMw6sf5gPXfIB/rv5n1TErzljBcS8/TiF7Ailwi4iIiIiITAJ/X/l3Trz6RJ7c+OSw15NukhVnruAdL35HnSuTahS4RUREREREGtTdj9/NCVefwNretcNen5aexs1n3Mwb939jnSuTkVDgFhERERERaSB3PHIHi5cvpq/QN+z1hR0Luen0mzhyryPrXJmMlgK3iIiIiIjIBPvfB/6XxcsXUw7Kw17fb/Z+3HD6Dbx04UvrXJnsDAVuERERERGROouiiBv/ciMnX3ty1TEvW/gyrj31Wg6Ye0AdK5PxpMAtIiIiIiJSB2EYctU9V3H2zWdXHfOavV/D1SdfzZ4z9qxjZVIrCtwiIiIiIiI1EoQBV/z6Cj556yerjnnzgW/muyd+l/nt8+tYmdSDAreIiIiIiMg4KvklvnLHV/jCz75Qdcx7XvoevrX4W8xqmVXHyqTeFLhFRERERER2UqFU4KKfXcTX7vxa1TEnH34yl7//ctpT7fUrTCaUAreIiIiIiMgY9Bf7Of+287ny91dWHXP2a89m2bHLaE4017EyaRQK3CIiIiIiIiPUk+vh4z/+ONf++dqqYz7xxk+w9O1LScaSdaxMGpECt4iIiIiIyHZszGzkI7d8hB/d/6OqY77wti/w2Td/Ftd261iZNDoFbhERERERka2s7l7Nh276EL985JdVx3ztPV/jY0d9DNtSrJLh6SdDREREREQEeKbzGc64/gx+//jvq4759vHf5v+95v9hmmYdK5PJSoFbRERERER2WY+tfYxTrzuVv6/8e9Ux155yLSe/8mQMw6hjZTIVKHCLiIiIiMgu5cFVD3LSNSfxr7X/Gva6ZVrccuYtvOel71HIlp2iwC0iIiIiIlPeX57+CydcfQIrN60c9npTvIkVZ6zgrQe/tc6VyVSmwC0iIiIiIlPSb//9W45ffjwb+zcOe31WyyxuPv1m/mvf/6pzZbKrUOAWEREREZEp4+f//DmLly8m5+WGvb7H9D248fQbOXyPw+tcmeyKFLhFRERERGTSiqKIH93/IxYvX0wURcOOOXDugdxw2g28eMGL61uc7PIUuEVEREREZFKJoohr/3wtp19/etUxh+1+GN8/5fvsO3vfOlYmsiUFbhERERERaXhhGHLl76/knB+cU3XM6/d9PctPWs6i6YvqWJlIdQrcIiIiIiLSkPzA5+t3fZ3P3PaZqmPedvDb+M4J32Fu29w6ViYyMgrcIiIiIiLSMLyyxyX/dwlf+sWXqo457tDj+MZx32BG84w6ViYyegrcIiIiIiIyofJengt/eiGX//ryqmNOP/J0LnvvZbQmW+tXmMhOUuAWEREREZG6yxQyfPp/P813//DdqmM+8l8f4cvv+jLpeLqOlYmMHwVuERERERGpi65sFx/74ce48a83Vh3zmWM+w+ff+nkSbqKOlYnUhgK3iIiIiIjUzPq+9SxZsYTb/nFb1TFfeseX+PSbPo1jO3WsTKT2FLhFRERERGRcrepaxQdv+iC/evRXVcdc/r7LOef152CZVh0rE6kvBW4REREREdlpT254ktOvP50/PvnHqmO+e+J3OfNVZ2KaZh0rE5k4CtwiIiIiIjImj655lJO/fzL/WPWPqmNuPP1GTnjFCRiGUcfKRBqDAreIiIiIiIzY/c/ez4nXnMjj6x8f9nrMjrHizBUc+5Jj61yZSONR4BYRERERke364xN/5IRrTuD57ueHvd6WbGPFmSt40wFvqnNlIo1NgVtERERERLZx56N3cvzVx9Od6x72+ry2edx0+k28Zp/X1LkykcljxIH72GNHviTkttuqt/wXEREREZHGdPs/bmfx8sV4vjfs9X1m7cONp93IoYsOrXNlIpPTiAN3S0tLLesQEREREZE6i6KIFX9bwYnXnFh1zCELDuG6U6/joHkH1bEykalhxIH72muvrWUdIiIiIiJSB1EUsfyPy/ngjR+sOubIPY/kmpOvYe9Ze9exMpGpR3u4RURERESmuCAM+OZvv8l5Pzqv6pij9z+aq066ioUdC+tYmcjUNubAfeutt/KjH/2IVatWUSqVtrj2j39UP4dPRERERERqr+yX+dqdX+OCn1xQdcy7DnkXVx5/JbNbZ9exMpFdhzmWb/rmN7/JqaeeysyZM3nwwQd5+ctfTkdHB8888wzHHHPMeNcoIiIiIiIjUCwX+extn8U408D9f+6wYfvEw06k8/JOouURt519m8K2SA2NaYb7f/7nf/je977H4sWLue666/jUpz7F7rvvzuc//3m6u4c/NkBERERERMZftpjlcz/5HN/87Terjvngqz/IV9/9VVqSaoQsUk9jCtyrVq3ila98JQCJRIL+/n4ATjrpJA477DC+/e1vj1+FIiIiIiKyhd58L5+89ZNc/cerq4752FEf40vv/BKpWKqOlYnIUGNaUj5r1qzBmewFCxbw17/+FYCVK1cSRdGYCvnKV76CYRh89KMfHdP3i4iIiIhMZZv6N3H88uMxzjRoO7dt2LB9wVsuoPg/RaLlEZe//3KFbZEJNqYZ7v/6r//iZz/7GYcccginnnoqH/vYx7j11lu5//77OfbYY0d9f/fddx9XXXUVBx2ks/1ERERERAas7V3L2TefzU8f+mnVMcuOXcbH3/BxHNupY2UiMhJjCtzf+973CMMQgCVLltDR0cG9997L29/+dj74wern+Q0nm81ywgknsHz5ci6++OKxlCMiIiIiMmU8u+lZzrzhTH7z799UHfON477BktctwTKtOlYmIqM1psBtmiam+cJq9OOOO47jjjtuTAUsWbKEt7zlLRx11FE7DNye5+F53uDXmUxmTI8pIiIiItJIHl//OKdedyp/efovVcdc/YGrOe3I0zAMo46VicjOGFPgvueee7Z7/dWvfvWI7ucHP/gB//jHP7jvvvtGNH7ZsmUsXbp0RGNFRERERBrZP5//Jx/4/gd4ePXDVcfccuYtvP/Q9ytki0xSYwrcr33ta7e5beg/AkEQ7PA+nn/+ec4991x+/etfE4/HR/S4559/Puedd97g15lMhvnz54/oe0VEREREJtrfnvkbJ15zIk9tfGrY60k3yYozV/COF7+jzpWJSC2MKXD39PRs8XW5XObBBx/kwgsv5JJLLhnRfTzwwANs3LiRl7zkJYO3BUHAPffcw7e//W08z8OyttyTEovFiMViYylZRERERGRC3P343Ry//HjW9a0b9vr0pumsOGMFR+13VJ0rE5FaG1Pgbmlp2ea2N7zhDbiuy3nnnccDDzyww/t4/etfzyOPPLLFbaeeeiovetGL+PSnP71N2BYRERERmSz+75H/Y/HyxWQKw/ccWtixkJtOv4kj9zqyzpWJSD2NKXBXM3PmTB5//PERjW1qauKAAw7Y4rZUKkVHR8c2t4uIiIiINLpbH7iVxcsX4wf+sNf3m70fN5x+Ay9d+NI6VyYiE2VMgfvhh7ds7BBFEevWreMrX/kKL37xi8ejLhERERGRhhZFETf85QZOufaUqmMO3e1Qrj3lWvafu3/9ChORhjGmwP3iF78YwzCIomiL2w877DC+//3vj7mYu+++e8zfKyIiIiJSa2EY8t0/fJclK5ZUHfOavV/D1SdfzZ4z9qxjZSLSiMYUuFeuXLnF16ZpMn369BF3GxcRERERmSyCMOCKX1/BJ2/9ZNUxbz7wzXz3xO8yv10n6IjIC8YUuP/whz/w/ve/f5uO4aVSiR/84Ad84AMfGJfiREREREQmQskvsez/lnHRzy+qOua9L30v3zr+W8xsnlm/wkRkUjGirdeFj4BlWaxbt44ZM2ZscXtXVxczZswY0Tnc4yGTydDS0kJfXx/Nzc11eUwRERERmZoKpQJf+NkXuPTOS6uOOfnwk7n8/ZfTnmqvY2Ui0khGk0PHNMMdRRGGYWxz++rVq4c9MkxEREREpBH1F/s5/7bzufL3V1Ydc/Zrz2bZsctoTmiCR0RGZ1SB+5BDDsEwDAzD4PWvfz22/cK3B0HAypUredOb3jTuRYqIiIiIjJeeXA/n/eg8rrv3uqpjPnn0J1n69qUk3ET9ChORKWdUgfud73wnAA899BBHH3006XR68Jrruuy22268+93vHtcCRUREpPF4fkCm4FMOQhzLpDlhE7OtiS5LpKqNmY18eMWH+fEDP6465qK3XcT5bz4f13brWJmITGWjCtxf+MIXANhtt9047rjjtmmaJiIiIlNfX77Emt4CQfjCbZ39MLc1QUtSQUUax+ru1Xzopg/xy0d+WXXMpe+5lI8e9VFsa0w7LUVEtmtM/7Lst99+PPTQQ7ziFa/Y4va//e1vWJbFy172snEpTkRERBqL5wfbhG2AIIQ1vQXirqWZbplQT298mjNuOIO7H7+76pgrj7+SD73mQ5imWb/CRGSXNKZ/ZZYsWcLzzz+/ze1r1qxhyZIlO12UiIiINKZMwd8mbA8Iwsp1kXp7bO1jvPySl2OcabDn5/YcNmxfe8q1hN8LiZZHnP26sxW2RaQuxjTD/dhjj/GSl7xkm9sPOeQQHnvssZ0uSkRERBpTuVra3uq69nhLrT246kFOuuYk/rX2X8Net0yLH5z1A97z0vfUuTIRkReMKXDHYjE2bNjA7rvvvsXt69at26JzuYiIiEwtjrX9WUHHMrXHW2rm3qfu5YSrT+DZrmeHvd6caGbFGSt4y0FvqW9hIiJVjCkdv/GNb+T888/npz/96eC52729vXz2s5/lDW94w7gWKCIiIo2jOWHT2c+wy8otExKOyaruvPZ4y7j57b9/y+Lli+ns7xz2+qyWWdx8+s38177/VefKRER2bEyB+7LLLuPVr341Cxcu5JBDDgEqR4XNnDmTG2+8cVwLFBERkcYRsy3mtia2mcG2zMoMdqEc7nCP9/QmBW7Zvp//8+csXr6YnJcb9voe0/fgptNv4rA9DqtzZSIiozOmwD137lwefvhhbr75Zv75z3+SSCQ49dRTWbx4MY7jjHeNIiIi0kBaki5x1xp2j/ba3sJ2v3dHe8Bl1xRFET+874csXr646piD5h3E9adez4sXvLh+hYmI7KQxb7hOpVIceeSRLFiwgFKpBMAdd9wBwNvf/vbxqU5EREQaUsy2hp2pHskebxGohOxr/3wtp19/etUxh+1+GN8/5fvsO3vfOlYmIjJ+xhS4n3nmGd71rnfxyCOPYBgGURRhGMbg9SAIxq1AERERmTx2tMe7OaHmqruyMAy58vdXcs4Pzqk65vX7vp7lJy1n0fRFdaxMRKQ2xvQx87nnnsuiRYvYuHEjyWSSRx99lD/84Q+87GUv4+677x7nEkVERGSyGNjjvfVE9sAebzVM2/X4gc9X7vgKxpkG1getYcP22w9+O6u/tppoecRvzvuNwraITBlj+pj5L3/5C7/73e+YNm0apmliWRZHHnkky5Yt45xzzuHBBx8c7zpFRERkktjeHm/ZNXhlj4t/eTEX//LiqmOOO/Q4vnHcN5jRPKOOlYmI1NeYAncQBDQ1NQEwbdo01q5dyz777MPChQt5/PHHx7VAERERmXyq7fGWqSvv5bnwpxdy+a8vrzrm9CNP57L3XkZrsrV+hYmITKAxBe4DDjiAf/7znyxatIhXvOIVfO1rX8N1Xb73ve+x++67j3eNIiIiItKAMoUMn7r1U1x1z1VVx5zz+nO45J2XkI6n61iZiEhjGFPgvuCCC8jlKucifvGLX+Stb30rr3rVq+jo6OCHP/zhuBYoIiIiIo2jK9vFR3/4UW76601Vx5x/zPl8/m2fJ+7E61iZiEjjMaIoisbjjrq7u2lra9uiW3mtZTIZWlpa6Ovro7m5uW6PKyIiIpOL5wfaU74T1vetZ8mKJdz2j9uqjvnSO77Ep9/0aRzbqWNlIiL1N5ocOm5nc7S3t4/XXYmIiIiMm758iTW9hS2OKuvsr3RNb0m6E1dYg1vVtYqzbjyLO/91Z9Uxl7/vcs55/TlYpj68EBEZjg7DFBERkSnL84NtwjZUzglf01sg7lqa6R7iyQ1Pctp1p/Gnp/5UdcxVJ13FGUeegWmO6XRZEZFdigK3iIiITFmZgr9N2B4QhJXru3o39UdWP8Ip157CP1b9o+qYG0+/kRNecUJdtw6KiEwFCtwiIiIyZZWrpe0RXp+q7n/2fk685kQeXz/8ca4xO8aKM1dw7EuOrXNlIiJTiwK3iIiITFmOtf1lzzu6PpXc88Q9nHD1CazuWT3s9fZUOzefcTNvOuBNda5MRGTqUuAWERGRKas5YdPZz7DLyi2zcn0qu/PROzn+6uPpznUPe31e2zxuOv0mXrPPa+pcmYjIrmFq/1dGREREdmkx22Jua2KbxmmWWelSPhUbpt3+j9tZvHwxnu8Ne32fWftw42k3cuiiQ+tcmYjIrkeBW0RERKa0lqRL3LWm7DncURRx899u5qRrTqo65iULXsJ1p17HgfMOrGNlIiKiwC0iIiJTXsy2plQ38iiKWP7H5Xzwxg9WHXPknkdyzcnXsPesvetYmYiIDKXALSIiIjIJBGHAN3/7Tc770XlVxxy9/9FcddJVLOxYWMfKRESkGgVuERERkQZV9st89Vdf5cKfXlh1zLEvOZZvL/42s1tn17EyEREZCQVuEREZV54fTNm9siL1UCwX+eLPv8iyO5ZVHXPiYSdyxfuuYFrTtDpWJiIio6XALSIi46YvX9qmG3Rnf6UbdEvSnbjCRBpctpjlcz/5HN/87Terjvngqz/IV9/9VVqSLXWsTEREdoYCt4iIjAvPD7YJ21A5/3hNb4G4a2mmW2SI3nwvn/jxJ7jmT9dUHXPeG87ji+/4IqlYqo6ViYjIeFHgFhGRcZEp+NuE7QFBWLk+lbpEi4xFZ38n5/7gXG75+y1Vx1zwlgu44C0XEHNidaxMRERqQYFbRETGRbla2h7hdZGpak3PGs6++Wx+9s+fVR2z7NhlfPwNH8exnTpWJiIitabALSIi48KxzJ26LqM3mRvUTebaR2Jl50rOvPFMfvvv31Yd883jvsnZrzsby5w6z1tERLakwC0iIuOiOWHT2c+wy8ots3Jdxs9kblA3mWvfnsfXP86p153KX57+S9UxV3/gak478jQMw6hjZSIiMlH024+IiIyLmG0xtzWxTZCyzEqQmkqzlxNtMjeoq3Xt9Z45f2jVQ5x87ck8vPrhqmNuOfMW3n/o+xWyRUR2QQrcIiIyblqSLnHXmtJLhRvBZG5QV8va6zVz/rdn/sYJV5/A051PD3s9FUux4owVvP3Fbx+3xxQRkclJgVtERMZVzLYaNuxNFZO5QV2taq/1zPnv//N7jr/6eNb3rR/2+vSm6aw4YwVH7XfUmB9DRESmHgVuERGRSWYyN6irVe21mDn/5cO/5PirjydTyAx7fbeO3bjpjJs4Ys8jRluuiIjsIib0v8jf+c53OOigg2hubqa5uZnDDz+cO+64YyJLEhERaXjNCZtqubTRG9QlHJNC2aevUCbv+UREg9d2pvbxmjm/9YFbsT9oY5xp8NZvvXWbsL3/nP154IIHiJZHrPzKSoVtERHZrgn9L/K8efP4yle+wl577UUURVx//fW84x3v4MEHH2T//fefyNJERGSzqX5802Q0WRvUDe6xDiK6ch5hCLZpMKc1TsK1dqr2sc6cR1HE9fdez6nXnVr1ew/d7VCuPeVa9p+r301ERGR0jCiKoh0Pq5/29nYuvfRSTj/99B2OzWQytLS00NfXR3Nzcx2qExHZtQzXhGog1E3m45umisn0YYjnBzy9MTv4s1QKAnJegB+GxG2Lg+a1kI4743b/Q1km7DEjPfjahGHId//wXZasWFL1/l67z2tZ/oHl7DljzzHXJCIiU9NocmjDrDkLgoAf//jH5HI5Dj/88GHHeJ6H53mDX2cyw++pEhGRnTeZj54ajckUWrc2mRrUbb3H2rUs3OQLtRfKIen42O9/R7P+lhFx2Z2X8clbP1n1Pt5y4Fv4zonfYX77/LEXIiIiMsSEB+5HHnmEww8/nGKxSDqd5vbbb2e//fYbduyyZctYunRpnSsUEdk1Teajp0aqXsdISX06q299LF0U+XznD5dyyS+/VPV73vvS9/Kt47/FzOaZO/34IiIiW5vwJeWlUolVq1bR19fHrbfeytVXX80f/vCHYUP3cDPc8+fP15JyEZEaWNtboCtbqnq9I+0ypzVRx4rG12iWIMvO6+z3WN9XrHp9Vkuc6U2xnX6cQqnAF372BS6989KqY0555Sl8/X1fpz3VvtOPJyIiu55JtaTcdV323LOyP+qlL30p9913H9/4xje46qqrthkbi8WIxXb+P8YiIrJjk/noqZHYFWbwG0lzwqazn6ofcOxMZ/X+Yj/n33Y+V/7+yqpjlrxuCcuOXUZTvGnMjyMiIjJaEx64txaG4Raz2CIiMjFqGZAaQT2WOMsLxruzeneum4//6ONcd+91Vcd88uhPsvTtS0m4k3clhoiITG4T+tvS+eefzzHHHMOCBQvo7+9nxYoV3H333dx5550TWZaIiDB5j54aqak+g9+Itt5jPdomdRsyG/jIio/w4wd+XHXMRW+7iPPffD6urT34IiIy8SY0cG/cuJEPfOADrFu3jpaWFg466CDuvPNO3vCGN0xkWSIistnOBqRGNtVn8BvVaDurr+5ezYdu+hC/fOSXVcdc+p5L+ehRH8W29J6JiEhjmfCmaTtD53CLiMjO0DnjjenpjU9zxg1ncPfjd1cdc+XxV/Kh13wI09RKBBERqa9J1TRNRERkokzlGfzJ5rG1j3HKtadw37P3VR1z3anX8YHDP4BhGHWsTEREZOwUuEVEZJc22iXOMn7+8dw/OOmak3hs3WPDXrctm1vOvIX3vPQ9da5MRERkfChwi4iISN38+ak/c8LVJ/Bc13PDXm9ONLPijBW85aC31LkyERGR8afALSIiU5rnB1oyPsF+89hvOP7q4+ns7xz2+uyW2dx8xs287kWvq3NlIiIitaXALSIi46bRwu1wTdE6+9UUrR5+9tDPWLx8MflSftjre87YkxtPu5HD9jiszpWJiIjUjwK3iMgk1yght9HCrecH29QDlWPA1vQWiLvWmF+nRnnNG0kURfzwvh+yePniqmMOmncQ1596PS9e8OL6FSYiIjKBFLhFRCaxRgm5tQy3Y5Up+MOesT1QV6bgj6lZWqO85o0giiK+/6fvc8YNZ1Qdc/geh/P9k7/Pi2a/qI6ViYiINAYFbhGRSaqRQm6twu3OKFcraITXh9NIr/lECcOQb//+25z7g3Orjjlq36P43knfY9H0RXWsTEREpPEocIuITFKNFHJrEW53lmOZO3V9OI30mteTH/hcdtdlnH/b+VXHvP3gt/M/J/wPc9vm1rEyERGRxqbALSIySTVSyK1FuN1ZzQmbzn6GDciWWbk+Wo30mteaV/a4+JcXc/EvL646ZvHLF/ON477B9KbpdaxMRERk8lDgFhGZpBop5NYi3O6smG0xtzWxzRJwy6zstx7L0u9Ges1rIe/lueAnF3DFb66oOub0I0/nsvdeRmuytX6FiYiITFIK3CIik1QjhdxahNvx0JJ0ibvWuHUUb6TXfLxkChk+deunuOqeq6qOOef153DJOy8hHU/XsTIREZHJb/L9ZiAiMsEa5UioRgu54x1ux0vMtsZtX3WjveZj1ZXt4qM//Cg3/fWmqmPOP+Z8Pv+2zxN34nWsTEREZGpR4BYRGYVGOxKq0ULueIbbRtVor/lIretdx5IVS7j9wdurjrn4nRfzqaM/hWM7daxMRERk6lLgFhEZoUY9EmpXCLmNZrK85qu6VnHWjWdx57/urDrm8vddzjmvPwfLbPznIyIiMtkocIuIjFCjHgnVKEvcpTE8sf4JTr/+dP701J+qjrnqpKs448gzMM3J3eRNRESk0Slwi4iMUCMeCdVoS9xlYjyy+hFOvvZkHlz1YNUxN51+E8e/4ngMw6hjZSIiIrs2BW4RkRFqtCOhGnWJu9THfSvv46Tvn8Tj6x8f9nrMjrHizBUc+5Jjd/qxtIpCRERkbBS4RURGqNGOhGrUJe5SO/c8cQ8nXH0Cq3tWD3u9PdXOzWfczJsOeNO4PaZWUYiIiIydAreIyAg12pFQo1nirhnKyevOR+9k8fLF9OR7hr0+v30+N51+E6/e+9Xj/thDV1GUgoCcF+CHIbZpUgoC9nVb9HMkIiKyHQrcIiKj0EhHQo10ibtmKCef2/9xO4uXL8bzvWGv7zNrH2487UYOXXRoTesYWEWRLZbZmPUIh/wM9eShJe6waHpTTWsQERGZzBS4RURGqVGOhBrJEnft854coiji5r/dzEnXnFR1zEsWvITrTr2OA+cdWLe6ykFIKQi2CdsAYQjr+jzmtCX1MyQiIlKFAreIyCQ1kiXunf3epNvn3cjL38eztjAMWf7H5Xzopg9VHfOqvV7FNSdfw14z9xpryTvFsUxyXrBN2B5gGUZD/gyJiIg0CgVuEZFJbEdL3BvxKLPtqefy99GG5/GoLQgDvvnbb3Lej86rOubo/Y/mqpOuYmHHwhE/l1rZXiNA2zRIxKyG+xkSERFpJArcIiKT3PaWuDfaUWbbU8/l76MNzztTW9kv89VffZULf3ph1XqOfcmxfHvxt5ndOntMz6dWYrbFgvYEffkyfhgN3m6bBnNa4xgYDfUzJCIi0mgUuEVEprBGO8pse+p1zNlYwvNoayuWiyz9+VK+csdXqtZx0mEnccX7r6Aj3THm51IPs1sT5Io+WS+gHEY4m2e2DYyG+xkSERFpNPqvpIjIFFbPo8x2dn/zSJe/7+zjjCXYj6S2bDHLZ2//LN/63beqjvvgqz/IV9/9VVqSLSOud6LFbIt57cmGOQ5PRERkMlHgFpEpqZEbb9VbPY4yG4/9zSNZ/j4ejzOWfe3VassUe/n6XRdy+4M3Vr2/895wHl98xxdJxVIjqq8eRvv3o5GOwxMREZlMFLhFZMrRudPbGs1RZqMNY+O193pHy98Tjsmq7vxOP85Y9rUPra07t4mv/OrT/OrR/616Hxe+9UI+9+bPEXNiO6yn3sb696NRjsMTERGZTBS4RWRK0bnTO2csYWy89l7vaPl7oRyOy+OMZV/7pv71fPzHH+RXj/6y6v0uO3YZH3/Dx3FsZ4c1TBT9/RAREakvBW4RmVLq1XhrwFRauj7WMDaeR49tb+ny2t7CuDzOSPe1r+xcyZk3nslv//3bqvd1+fv+m3Ne/2Esc3K85/X++yEiIrKrU+AWkSmlnudOT7Wl62MNY+N99Fi1pcvj+TjVgv3Kzid50zdO5a/P/LXq915z8jWcesSpGIYx4sdrFJPtXHYREZHJToFbRKaUep07PRWX5g6ErYiIwjBHQFULY9tbom0SUQ4C1vYWdnoFwHgfcTYQ7B9a9RAf+P4HeGTNI1XH3nLmLbz/0PdPypA91GQ6l11ERGQqUOAWkSllLKFsLMvCx2NpbqMtR3csk5IfsLa3iB9Gg7fbpsGc1njVMFZtibYfBPhBRJgtD962MysAxvOIs78+/VdOvOZEnu58etjrqViKFWes4O0vfvuo62xkk+lcdhERkalA/2UVkSlltKFsrMvCd3ZpbiMuR084JhsyW4ZtAD+M2JApss+spqrfu/USbQPY0F8gbm35n5mdXQGwM8dT/f4/v+f4q49nfd/6Ya9Pb5rOijNWcNR+R426rsminueyi4iIiAK3iExBIw1lO7MsfGeW5jbqcvRCOaQt6bIx6xEOqc00oS3pUiiHpOPVv3/o3uvOfg/LGP457GxzrtEcT/XLh3/J4uWL6S/2D3t9t47duOmMmzhizyPGVMtkpDO1RURE6keBW2QnNNqS4F1RtfegWigbOj5X9CmUA1xr23E7CoU7szS3UTtFl4OQdNzBdUxyXoAfhtimSSpm4VrWqBpqTURzLs8P6MuXuf3B/2XJipMJwmDYcfvP2Z8bTruBlyx8ybjXMFnoTG0REZH6UOAWGaNGXBK8qxnte7D1+L5Cma6cx4x0jHR827OTtxcKd2ZpbqN2ih6YlXctCzc5+i7hoxk7ns25oijiO3dfw5IVZ1Ydc+huh3Ldqdex35z9xu1xRURERHZEgVtkDBp1SfCuZLTvwXDjHdMgDGFj1sN1zG1muncUCse6NLdRO0WPZ0OtWjfnCsOQ7/zhO3x4xYerjjl0tyNZ+vZv8l/7HqS/jyIiIjIhFLhFxqBRlwTvSkb7Hgw3PhGzsE0DP4zIecEWs7ojDYVjWZrbqJ2ix7OhVi2ac/mBzxW/uYJP3fqpqmNevdfRXPDWy5nVPHfwNv19FBERkYmiwC0yBo26JHhXMtr3YLjxBpXjrirHYL1wvdYdmxu5U/TQWftiKaBYDnBsg1IQ4fnBqGobj+ZcJb/El//vyyz9+dKqY9560LF8/A1foSM9Y9jr+vsoIiIiE0WBW2QMGnVJ8ESrZxO50b4H1ca7tsXCaUkStkUqbm9Rdy2fTyN3io7ZFq4V0OmVCUIo+tBfDMbUo2AsKwDyXp4v/OwLXHbXZVXHnPLKU/j6+75Oe6qdzn6P9X3FqmN31b+PIiIiMvEUuEXGoFGXBE+kejeRG+17sL3xtmmwYFpyi7Bbj+fTqJ2iJ6JHQX+xn8/872f4n7v/p+qYJa9bwrJjl9EU3/I8cP19FBERkUal30JExqCRlwRPhIkIaKN9D0YzfldvilevHgXduW7O++F5XP+X66uO+dTRn+Kit19Ewk1UHaO/jyIiItKoJjRwL1u2jNtuu43//Oc/JBIJXvnKV/LVr36VffbZZyLLEhmRRl4SXG8T1URutO/BSMc3elO8Wi/dr2WPgg2ZDXx4xYe59YFbq45Z+valfOaYz+DaI19JoL+PIiIi0ogmNHD/4Q9/YMmSJRx66KH4vs9nP/tZ3vjGN/LYY4+RSqUmsjSREWnUJcH1NpFN5Eb7HoxkfCM3xRuvpe7bC+3j3aPg+e7n+dBNH+L/Hvm/qmOWHftVTj58CREmjmUSse17tKMPGvT3UURERBrNhAbuX/3qV1t8fd111zFjxgweeOABXv3qV09QVSIyWlOtiVyjPp/xWuq+o9A+Hnuin974NKdffzp/eOIPVcf8zwn/wwdf/UH6iz5regtsyvrD1jOSmidSPZsFioiIyOTSUHu4+/r6AGhvbx/2uud5eJ43+HUmk6lLXSKyfVOtaVWjPp/xWOo+0tA+lj3R/1rzL0659hTuf+7+qo9//anXc9LhJ2EYxojrARp2T30jfxAgIiIiE69hfgsOw5CPfvSjHHHEERxwwAHDjlm2bBlLl1Y/i1VEJsZUa1pVy+ezM7Oh47HUfaShfaR7oh947gE+cM0HeGzdY8Pep23Z3HDazRy17zsG76cUhIP3M5J6Bv7/jmqut129uZ6IiIjsWMME7iVLlvDoo4/ypz/9qeqY888/n/POO2/w60wmw/z58+tRnojswFRrWlWL57Mzs6GeH5Ar+nRmi9imSSpm4Vpb1jKSpe6jCe3V9kT/+ak/c8LVJ/Bc13PD3kdLooUVZ67gzQe+efA5Dz0ne+hzHo8PEcZjT/1YPghp9OZ6IiIiMvEaInB/+MMf5he/+AX33HMP8+bNqzouFosRi8XqWJmIjMZUa1o1ns9nZ2ZDB0KrH0bkigF+6NOThxnpGOm4A4x8qftY96f/+rFfc/zy49mU3TTs9dkts7n5jJt53YteN3jbSJ7zeOyX39k99WP9IKSRm+uJiIhIY5jQwB1FER/5yEe4/fbbufvuu1m0aNFEliMik8BkbVC19WxoKQjIeQF+GGKbJq1JjzmtyW2+b2hoNTCY0xpnbW8RP4zYmPVwHZOEY414qfto9qf/7KGfsXj5YvKl/LD3teeMPbnxtBs5bI/DRvSchxqYAR5pPbXaU78zH4Q0anM9ERERaRwTGriXLFnCihUr+OlPf0pTUxPr168HoKWlhUQiMZGliUxJkzWsDpjMDaqGznZmi2U2Zj3CIc/DNg1Srr3N89g6tLq2xcJpSQpeQL7sYwJNMYdSEOH5wQ7fz+3tT5/TEue2B37E8VcfX/X7D553MNefdj0Hzz94VM+52vWR7pev1Z76nVkW3qjN9URERKRxTOhvA9/5zncAeO1rX7vF7ddeey2nnHJK/QsSmcImc1iFyd+gamC2sxQE24RtAMswhn0ew4VWA4MwisgUfRzLwi6UoVAe8fs5dH96yQ/40f3Xc96Pzq46/vA9Duf7J3+fF81+0Sie8chngEeyX75WPQJ2Zln4VGsWKCIiIuNvwpeUi0jtbR1WIyIKXkA5jMh6PvvNbh7cC9yoJnODKs8P8IOQnnyJ/kIZzw9wzBdqtU2DRMwa9nkMF1qHhnbHNAZvH+mHD0EY8N27v81Hf/jRqmOO2vcovnfS91g0fexbfUYzAzyS/fK16BGws8vCp1qzQBERERlfWu8msgsYGlZLfjC4B3iAH0TsP6e5oWe669WgaryX3Q9dWZByLdb2FtiU9WhLuiRdG9us7Ms2MIZ9HsOF1pwXEIYvBPWhqn34UPbLXHbXZXz29s9WrfUdL34H/3PC/zCndc6Yn+9Qk2EGeDyWhU+1ZoEiIiIyfhS4RXYBAyEuItombAMUN8+AN/Ky7Fo2qBoI2T05j95CmbhjDQbgnVl2v/XKAte2WNSRwjYNoihiWpNDS8IdfKzhnsdwobXSaG3LoD7UwPvtlT2+9Isvccn/XVK1xsUvX8w3jvsG05umj/r5jUSjzwBPhg8FREREZPJS4BbZBQyEuIIXbBO2AWzTbPhl2bVqUDUwA10oB6zuKQzOHM9pjePa1k7tER9uGXwiVrkfP4yIImOLwFzteWwdWuO2ScEPhg3b+VKOK39+IVfd862qdZ3xqjO49D2X0ppsHdXzGatGnwFu9A8FREREZPJS4BbZBQyE1fIwYds0IbV5WXKjLsuG2sxEDp2BHlimDeCHlZUAC6clMTBG/GHE1s8755W3GbPl0V4vPJEdPY+hodXzA57emB18HfqLfVzx6y9w6z+uq1rbua8/l4vfeTHpeHq7z2FX1egfCoiIiMjkpMAtsgsYCKtZz9/idtOEGekYrlUJGuNxbvBIuqGPNZCP90zk0Blof6u24X5YaSyXjFX+mdzRhxF9+RKru/NkNzejc0wDw4QgiLZpSDdwtFfCtkjF7VE/j5htkXDynPODj/KLh39UddyZrzqPzxzzOea2tWi2VkRERGQCKHCL7CJaki77zW7GDyKKfoBtmqRi1mDYHo9zg0dydFextO2Y0eyTHs+ZyHIQUgoCcl5AtuiTKZZJuOZgB/GhKwK292GE5wc805lldU+BbNHHj8A2IBW3sE0T1zEHX+cBtmmwYFpyVEF4Xe86zr75bH7y0E+qjjn7tZ/lqBedBUblvXxkTYGu/oi9ZzU1dFM8ERERkalIgVtkF5KOO+w/p7lmDaJ2dHRXV9ajN18mCLc8mswxDVaH+VHvkx7LTPnQ7+nMFFjfW6AUVOrJFn36i9FgB/GBI7d29GFEd7bEs5tyrO3zCIaE9O68wYxml1I53CJwj+b1fq7rOc664SzueuyuqmOueP8VnPXqs1m5Mc8zm/Jb7NMPQ1ibKeI4Bvu6mukeqhZbH0RERESGUuAW2cXUskHUjpZd9+YrgXy4o8ls0yAVt9lt2sj2GFdbuj6zKUaIMexzG/o9pSDg+a48nf0e05vjEBlMb3Lp7C/Rky+RdE0SMWtE4bg7W9ombAMEYcS63gIL2pLYlkEUQWvSpiMd2+79PbH+CU67/jT+/NSfq4656qSrOOPIMzBNc/Nz98hWaYoXhpApBA3dFK/eRrL1QURERGRnKXCLTCEjnbGrVYOoHe0BN4zqR5P5YcSq7gKztwq3Q5+TQeX7gwCe78kT22qpdqEU8LeV3cxsiQ/ePhCi4q61RcDKeQERBi1Jh85MkVktccBidmucIIzYrSPN7JbEiD6MyJXK24Ttyox5mf6iz/pMkUTMxsCgN18m5W57n4+sfoSTrz2ZB1c9WPVxbjr9Jo5/xfEYxvBHgQ3XFG+AH4bj1hRvshvJ1gfNdIuIiMh4UOAWmSIaYcZuR0d3tSYcVnXlh52FHTB0FnaLGenNs+IhEc0xm96CP9j0LR13tgjyOS/ATVbuYyBEtSadLeoaaJLmWBYdTSbNcQfLMnFMg0TMYlo6xvSm2Iied9yxME2GdDkP6coW6c77GEC+FLC6K09TwsYwTLKez36zm3ls3YOcdM1JPLHhiSr3G2fFGSt410vetcManM21V2Ob5rg0xZsKdrT1QSsBREREZLwocItMAY0yY7ejo7virsXKTblhv3fgeLKBWdihz2nrWfFNWY/IAAeLjVkP1zHx/Wjw+tYdx4Owspx9KNt8IXwaGFiWSUvihW7iQ8PpjlYOTG+KM6Mpxsb+yrLynnyZQjnCAKY3uaRci1U9BYKuiO78Q/z3bz5Cd279sK9De6qdFWes4OgDjq72Mg+rOWGTjlnYprHNBxqmCc0Ja6eb4k0VO5rp10qAXZP29IuISC3oty+RKaDeM3bb+8V0R3vEZ7fE6Mx6DM3EAzPVALmiz9reArmijx9GGBgUvADPDwjCCMs0cCyTvqKPE7cIN5+hbQ5ZZj00TA/YehV2KmbRk6/MSleWqYf0Fco4pkE69kI4HcnKgaa4zZzWOF4poLtQIu1aJFyTsh+y+/QUv/3PXSz/48colDPDvp7z2+dz0+k38eq9Xz26N2KImG0xrz1JKQhZ3fPChxOmCXOa4yzqSA8bHnYUMqZiCNnRTL9WAux6GmGFkIiITE0K3CINZiwBp54zdiP5xXR7e8TntCXpK5bJFAL8MBw8nizn+azamGdGcwwrY1IqhxTKATOaXFZ25dmY8YjZBkEYYZsGTQkb2wQ/rMxop5zKP2cDM+Vba0049ORLg3W7lsWMdIw1vXl6cpWg7YebA6oRp1gKAEZ0zNkznVk6Mx65UkCxHNFf8lnV9Xtu+fsn8cPSsK/D7JY9+OhR3+C1+xzGPjPH58iulqTLfnNbmNWSoLdQ3mGTth29l6MJIZMpmO9o64NWAuxaGmWFkIiITE36rUKkgYx1lqXWM3YDYapYCoZtVjaaX0xjtsWijvQWz7Mv7/Hkhn460nF6c5Wl37mST9IxeXh1H+mYTcw22ZAp4vmVb2pOWkxLxuhoimOblY7iMdugLeluc+a1ZUJ72iW5VeM01zFxbIM9Z6aJYIuzydf0FmhLujs85qwnW2J1T5EIg8fW/5Jv/e6jVZ/7rOZ9Oemwr7CgY19mNMdwTIuSH43rL/Ux22J2a4LZrYntjttRyLBMY8QhZLLNDu5o68POvg+T6cMH0Z5+ERGpLQVukQaxM7MstZyxGxqm8p7Phoy3RbOyoXWO9BfTocvOc16ZnjzMaIrjD6nftQ26ch75ckhrwmFT1hsM24ZZaXaWcG38IGRua5zmhMvsljid/d4W53wHUcTsltg2j1sOQnJFn0XTmjDYttlYEEJvobzd59GdLXHjX6/ma3d+suqYfWe9nGNfcjGtiflkvYCZzS7NCRfHrLxOjmmM6y/1Iw17OwoZ63qLIwoh2WKZf63NUPSDLT6waPTZwVodjzfZPnwQ7ekXEZHaUuAWaRA7M8tSqxm7rT8EGDh2KgwZbFY2dDZ5NL+YDl12bhrmFmEbwDErwa0v8PGCiIRrUfRDIiKa4w62YRJSeX7NCXewo3hzwmFdb4FV3QWgsrw864U8vTE7GHoGHndtb4FitnrN0TDN1IMw4Oa/fYfL7rqg6ve9eP5rOPaQpcxtm8+iaUnW93l050p0pF1ScXswbNubO6LD+PxSP5qwt6PHK/jBsB9EDP3+vnyJxzf0syHjAWCbsCkb0hSzaYo7GBg8vTHH9KZYQ87yjvfxeFqaPDlpT7+IiNSSArdIg9jZWZZazNht/SHA0GOnBpqVDRy/BWP7xbQchFWPs0rFbDw/JOGYtCYd2pIOAxnYMk3mtMZJx51tXpt8KaBtq4A5XOjZUb2tSZvefJliucT3//TfXHn3l6uOPWzRMZzxqotpT80EKjPsMctkVkuSRdPSPN9dYFO2sp+7HAYEQcSMpljlXO6YNaLXbnuz16MNezt6vIRd+YCjuspS+JJfeUcMA9b0Fin54eYj0kJc22avGSmCMNolZnm1NHly0p5+ERGpJf1XRKRGRruPczxmWcZ7xm7rIJvY6tipocdv7egX02qvh2OZ29zvC8/HpCXpMKMlhrlV53HTZPAYr6GvzWhCz/Z+0faDIlf8+hIuu+vSqs9p8aEn8IHDP8+mnEMQGiTcF+qwTIO57XF2n54CwIgM+otlcl6ZCGiJ22SKARCQLRrs1p6s+jiw49nr0Ya9HYWM2a1xVnXnq143qCyFd0wD23whbFsmdPaXiDkmELKx32N6c5wgNKb8LK+WJk9Otd7TLyIiuzYFbpEaGMs+zrHMsgwXYoFxm+XeOuQbGMxpjQ+eiT1w/NaOfjEd+nqUgoCcV+kAvqA9wbR0DNvc8n5feN4Gr1jUTq7o05vztzjqakY6hmtZ27w25SAcfIyhXdAHlr5v8yGCY7Kuz8MyDCKjwLd++yVW/P17VV+Tk195Jpe+56u4Voo1vQUKJR/PL/B8V4HefMj0dJxU3B48imugi/nqniL5cpnH12UphSHTUjF2m5bCMgxmNsfZ0O+RTjhVj+7a0ez1aMPejkJGOu5s93pucxf3RMwi6IsobZ4NLwch5SDEtirvk2VVjnVLxuwpP8urpcmTV6329IuIiChwi4yzse7jHO0sy3Ch/tlOH9sysIfsq+7sh5lNMUKMUf8iOdyHAK5tsXBakmI5oCPlEIYGcceiFER4frDN/Q59PbLFMhuHnMHdly+z+7QkrcnKTPXCaUkKXkA5jHBtgz2mpehoipMtVo64WtmVwzQMpjXFSLr2sK+NV/ZZ3VPY4pzvnvwLTd4GQk9nf5EnN2TpzHZx1R+Wcsejt1R9Hc57w3l88R1fJBVLDT6npzdmKZQC1vZ6BBHMao5RDCIwYO+ZaXafngbgqfX9g+dihwF0pF3KQYhrGxRKZea1J/GDCD+MqobRkcxejyXs7ShkbO96Kajs2zYwaEk6WL1FgjAarNOxLdqSleZw5SEfokzlWV4tTZ7cxnuFkIiICChwi4y7rqzHpmxp2NnVHc3wjXSWZbhQXwoC1maKmBgsnJYcbHhVKAX8bWU3M1vig3WMdD/t0A8B/DDaIgzPaoqRLQUEYVTZ61soD3u/A2GxFARbhG0AP4zIegGGabCgPUmhHG7zvAc+WIgMg4XTUpXO42FEOmYyvSlOoRyytrdQWZrumOS9ABODkBdC3kCTt0Sscr+Pr3ues278MPc8+bOqz/38N3+OL7z1QmJObJtrmUJltn1gRt7AwLItUpv/Re3JlWF6ZVzWC15Ygh9VfgYSjs2GTJG+gg+RQdy1sU2DpGsNNn8baiSz1x1pd0xhb0cho9r1oeEy6djMbo3jlQLy5YCIiLmtCeKbz0Yfukd/Ks/yammyiIiIbE2BW2Qc9eVLPLspT9fm5liw5ewq7Dg8jWSWZbgZz5wXEIYQbj4OKxmziXghFA5tcDaarsktSZdSEPLkhuzg0U9RZPDo2gwzm+O4tjV4BFc5jMh6PvvNbt7m+Q7Ut7Xy5lnRQjncJmxu/cGCgUEyVvlna1N/ibwXEA7ppF0o+wRBNOzy9J7ser71uwv57b/vqPpc337wJzju5f+P3TtaaErYFMsGMWfbceUgpDAkSG+tOGSp/9DZXduAmG0MnidumpUQDpUPHzZmPOa3J7d5T0Yye13vsDf08RIxC8c0MVyDhGuRci1im8P20E7sjTzLO15nZ2tpsoiIiAzVmL/5iExCA+HQMioBsBwGFEohQRjSX/TZa0aapGvv1AzfQChY11eg4AUkYtbgTPbQBmYDIa/gBRR8n0KpcpwWVBqReX6IH4Y4psmCadsGvKGP15X1eHZTHsswmJaOYWDQky/h+ZUwP6c1xtpeb4vw6QcR+89ppiXpDj5ff7i0zQuznwPBfGjw6c+X6cp5gEEYRERGRNmPgIiuXIndOlI4tjm4X7tUDsmWyiyalmbhtCRPbXiaS/7vY/xj1R+rvqanH/lFDp77PiIqdZZ8c/BDgGofSjiWuUWQ3pptmoNha+jsbsy1iIrlwfPELdPE3nzZNCHmmMOugBjpUuV6h72hj5d0LTZmPGKOSakcsjHrYW7e829gNPQs73ifna2lySIiIjJAgVtknAzMOidiFuUgYGP/0OXTASvNLHtMS495hm9oKOjNl+nKlgabjbm2NdjADF4IsZliiY2ZSh2uabC+r0B3rkR70sU0DUp+SHfOoyPtkow5GLA5mBt4ZZ+8F9C1+bEqQlqTLj35Ml4pwHVNnu8uEFHpVO35IUEYkSmWWd2dJ+5ag2HRNrf9oGHo7KdjmVs2V/MDntyYZVPWo+SH+GFEyQ+Yno6TLfmkXZunwyxNcWcwKAVhyEOrH+OCn3yWx9c/WPW1/PSbruDlu70HwzAolnw6h6xICMIXjimrtgWgOWHj2sMfZWaaDB7z1ZywSQ/pwG5g0BS3MU2DiIiUaxJzrS2awA1dATH0w4eB5fJDZ/SHC7H1DnsDjze9Kcb89uRgvQPbGiJo6FlenZ0tIiIitaTALTJOBoJSOQiJO5UAXNpiVtfAtoYPaTuydShIxSx68gzuI144LTl4m0klxJaCgEI5wAQME2zboDdfxsDgiY39JGMWbXGXR9dkiFkGB89voa8QEBLRkXToypcxMUhuPuoqX/LpyZfYkCnRHLfZlC0RRCFzWxO4tjV4LBRA0Q8p+xGpuM1u09LMbU1QCgJ68gx+CDHwYcHA7GfCMQePoRpYCh+FEZv6S3iBj4VBRGU5dipmsbYvz0I7QX9vgFd+mit+cy7Pdf9n2NfPwOATb7ySEw47jmIpZFO2SK4U4FjW4JLuAQnHGvwQYOj7OlTMtthjWopN/R7ekDsYCM4JxxoMmPPak5SCcLBxWsy2mJF2ScQs5rUlsAwT2zIwjUoIH1gRMNysaxCFtCZcXNtqyBA7GWd2dXa2iIiI1JICt8g4GQhKOS8gCGFua3xwxtcyDea3JbEta0y/wG8dClzLoiPpsLq3QDaA5myJtrTLnOY4tmVgYJAplNnQV2nglo7bPLcpTxRVQnqxHOIHIdlCgOeHxByDXz26gYXTksQdm/5iqRLqTIuN/R6OabC6t0DZD7DMStAzTch7ETnPpy9fHgzbpgkJ18QPI1Z1F5i9eVnuvm4LLXFn8AiugeXwA7O0hXI4+BwH9kdHm+8vKoNPpVlbGEUYhsHTnQ/ynbsvoDP7/LCvWdxO8rm3fIcXzX4tSdumKWHTXwywN58hHXcsgjBk6ER1zDHZfXpqcJn+0Pd1ax1NcQ5d1L7F3vZUzCLhWFvMOrckXfab28KslgS9hTJhEDGjOUbMNtmYKVEIK8dr9eITsw1mt8SrzrpahkW+FDC7QZdmT0Y6O1tERERqSYFbZJwMLJ0e2Kvsh5U9upa55dLpsfwCv/X3ZIvlygy0aRD6If2lMk7RZK+ZaZoTDt3ZEs9uypKO2ewzO82m/jL9nk8QBHRmPRK2TVPcJlMI8IIQP4TObAnXNmlLuYRhRDJmMaMpgR+EdGV9uvorx19ZBjTFLBKuRRRGBGG4+UxuCIHWpEvCtticvwc/YIjZFoumNzGn7YVlx1BZZp0rBfTmy5SCoLKsevP+6FIQUvJDOrNFIkw6Mw/wu8cvIF/qGvZ1aklM49RXfp037Pt6TMvEMQz6S2VyJR8vGDKVHYU4lkVbUxzHNLAtE8uCOc0JbMukJ1/pMh+3LRZNS1Z9X6Y3xWlOODvcMx2zLWa3JpjdmgCgq7/I31Z2b7Hv3TShLenS2e/hB5FmXetEZ2eLiIhILSlwi4yTga7NvfkyffiDtw9dOg07/gV+uG7JQ79n6PFajmnhxC2mp+IkYzad/R7NCQfbMmlJuoOhd3arRSpfpidfIm77JGMm5aCyRDnnVRpemVRmv8t+5UCtDRkP0zDIeeXKXudyQGlzaM14PqZhcPCCFlZ1F9jQlcM0TGKOSXe2RLboM6c1TipmbfNhwcCy462XTOc9n/X9RWakYzib9zj35Es8ueEefvLQpykFuWFfr47UPD521DfZd86hdPV7TG+O4wXQkbCxDIMnO3P4YciM5hiOuTmkGiYREe1Jl7aUy6yWOL2FEgUvHDzD2zYNWlodVnXnt9s8ayzLqEMMZrbEB5u9DT0+Lgiht1De7vdr1nX86OxsERERqSX9JiGT3ngd5zMeWpIuB81r4bF1GUp+hGMaW3QS39Ev8END6MBRW0EUMSPtYhIRYmxzvNbQ2fOB2c+cV8YPw8r/BhG2ZRKzTRKuSQR4QURb0qQ7FxFFbJ7lNbCMynnVrmUShBFPb8xSLAfsPbOJ9pRLGFX2GM9Iu0QYhBEQVfYlD5zxDZVZ/mI5qHTpHuYDhmyxzL/WZrZcih2zcLIGa/vyPLLmV3zxF/+PKBo+WM5p2YtzX38F+80+mIIfMi3pUgwi2hIOYVRZwp+KWWQL/uBS90IpBJfBzvGWabKnCXM2zzpni2UeW5ehIxXb4n2rRfOschDiWtbgMW1bi6o3QAc06zqedHa2iIiI1JICt0xq432cz3hIxx32mdk06l/gh+7bLfnBFudId2Y9pqddEo611fFaIem4y6asNxhc+wolunMl1vUWWd9XpLdYxjZMOtIuCcck6ZjEYw5x28KywDQg6VpARKboDwblGc0x1vYWKQcR+VKAbRmEocGMpjj5UmU5eE+uRDrmML/Noui/EGQTroljWhTLweAHDJ4f0J0tsa4vz8aMR78XELdN/BC6cxF/X3kby+44t+rrOq/1QN51yMXsP2d//DBivzlNmIBZCugtBpT8gA0ZD9c22GtGGteyMC0fg4hSEFEolejNV/avO5ZJyrXozpboy5doSboUyiEJxyYxzLnb472Me0eBuTVp05sva9a1TnR2toiIiNSKfmuTSavRjvPZeqZ9QXuSQjkc0S/wnh+walOe9ZkijmWyqb8IvBDKgjCiJ1fGi0W0JWwMInJeQKYQkikWBgNufwF6ch5tKZes5+PaFu0pA68cki+XaUkmOWRhK/lSQL4Usse09ObXMGKvmU088GwPMcekNRGjUAqZ01JZFp4vhew/u4muXIm+go9lVkJjFBnMaokDDC5zH2Ca0JpwiNmV5ePPdGZ5titHZ9ajWI7oyRX597pb+eH9X6z6mu454xWc8PJL2GvW7piYtKds/MAgZlvMaokTBhHpICTnBeRLPkU/JOGaZEsB6VKZrv4S5TCiUPZ5dG2WcgBNcRsDmJF2edGspsGfle0t046I2JT1xi2M7WgZc0c6Rsq1NetaR5Oxw7qIiIg0PgVumbQa6Tif4WbaB8JRc8IlU/DpypaGDWsD39udK9OX9wnCkPWZIm1Jl6RrUw4COvtLJFyTtiBGGASs3JQHwyAIK13Q+4uVZmVWzCJbDLBMn5nNcdb3FcEHe/PRXpUO2ilakw7r+wqs7ingWJUlzLmSzz6zmknHTfKlCMeqjH+qM4dlmJXu4qZBwjEJokpH792mJXCsyj8jrmNusye5LRXD8wNWd+dZ3VOk3ytx6/3f4df/vrzqa7mg/UjecuCFvGTBHsQck/6Cj1eG5rhJMubSmnCxTGhNuGzKlgaXZrcmHcp+hB9GmMAznTnSMZuWuM3KziyWYWLYlXO2O9Iupmny7KYcrenK+1Nt1nlgtUFL0sHfvId9Z1dRjGQZc8y2NOsqIiIiMskpcMuk1SjH+Wxvpv2J9f0kXYtwyDFTnf0wsym2eT92mY39HnHHwjGNzd8XEYbQky/h2LCmt4jnR5iGTbHs4wcGcdeiJ18mDCP6CmUss3IcmdkexzZN+os+UVQ5mswgot8LKAch6ZiNbRu4lkUqbjO7NUmmUCLr+cQdh3+vy9CTN5nZ7NIUd3Fsg46ky7PdOdrTLv7mM6dNE9Ju5WiwIAqwDGubPckDS5839ee54jdf5po/X1r1Ndx75ht49V6fIhlrp+xHdKRdNvZ7RGGE61hkvDLZokPR90nPbmFBe5pcKdjiPspBSDpusaY3TxhWmrzFHZvWlEPcNikP3fdumMxsjtNXDOjNlpmeroTwrWedB84DD4lIDTmbezxWUYxkGbNmXUVEREQmNwVumbQa5TifoTPtpSAYnOUFyOTLzGqpdCgvh5UmapYFf1uZG+xS3ZUtYZsGs1tj2KZBsDl4RxE8t6lAb76MYYJrG2R6fHZrT2CbBs935Yg5FqUgxDQgHYMwjFjVk2d2awITSMYsHlvbT1+xRMmPaE7kad/g8Ird20m6Dm1Ji7akW+l83ldkWpODV66cc531fMJCSAgkbIummEVE5aizVMxkbksSy7BJuiYbMt4WDdCIPK7/y6V863dXVH3dDpr3To7c42PEnCYyBZ9UzMK2LJpiJsVSyPPdeWK2ycJpSYzIoDlh05aIYZgQd63BjulQaXg2sKS9Je7S7/nYISRcgyC0mNueIudV9kRbJqTjLt5AMzW/smd9uFnnghcQEjEjHduiKRyMzyoKBWoRERGRqU2BWyatRjnOZ2AmfWjoA8gUy+SKPp4f4NqVWmwT1vdVlienhwRzP4xY1+sxpzXGhj6PhGOypreIZYFhQnPcIeVYFM2AQsmnK1eiFEYkDYjZJmEE2VLA8z0FbMOkUPaxTfjn072Ug5BCOaQpbuPa0Fco8+jqXvac2UR7qrL/2rUs2tMuLZkYz2SzbOovkiuHOKbBnNYE05tiOJZBa9KlOeEOHmFV8gN68iVakw7FTJYrfvtFfvLQtVVfqyP2PIHD9/gwjpnEDyJMAyIgHbdIuhYz0nGe7c4DEZ5fWdYeBJCKVxqwTWuKYRmVWeGB979QDrZ43f0Qko5F3LHw/IiUaxISUfBDBpqex+wAd/NMctK1Bn9Wtp51tkxjcEXA9t57EREREZHhKHDLpNUox/k4lkm+5PNcd45yALYBMdciImRTzsM0IzrSJnHbxPMr4bfUX6I9GcN1XpiF98MIP4C5HQkc26C7UMIgIm47tCUdOvtLWJbBmkKRzn6PrOeTdi26cmWCKCTrBbQlHF6xqB3XqXT/7imUyHshu3UkyZZ8VncXaY7bPNcd0lv0OXLPaSRdh4iIjZkSlgnJmEE65tLsV2bVkzELyzToyZVJx+zBsB0R8fj6ddz41y/xq3/9sOrr8/E3foLFLzuP53sCVnUXyBRL9ObK+NHmo7Fsg0IpYk5LnCCCuG1SKFeWi1smNCUcbNOgKe7g+SFJtxJ0B97/f63NbHNM2pzWOGt7PfwwIu7YNLk2fhCRKZYxMHDsyuueipnsMyNddRm3Y5ms76t+RtdIV1E00tF1IiIiIlI/CtzScEYTThrhOB+TiGe7cmzMlAZvs02D3oJHT66EZRhkiwHpuENHqnLmVBBGeH5AW9qhJ89gYMyXfTr7A57dlCMII1rjDkU/ZENfkba0Q6boUwpCggj8IKQzWyLhWvQVAgwqs8UZz+fQWe1szBSZ1RwHDLyyT8q1ScegvHkpdakU8OTGfvad3cyGPo8N/QXCMKI5HiMKI2J2RE++RCkIiVsWfUUfP4oolnv4/r2f59eP/bTqa3LmkZ/mc285n4XTWoBKYzjT7Gd9pkAYgWEaRD7ELIOkaxOFEX5U2Vtt2yatduUc8LmtCWakY9i2gWO+cCTaQNBtSbrMb0tiGS8s2R84P3tOq8Ha3iKlIOSgeS08vLqv8gGCY2NbBqmYzSsWtTOzNVn1eYzHKopGPLpOREREROpDgVsayljCyUTug/X8gA39HtNSLj25MiU/xDJhY79HOfSZ2xanN+djWSYlP6Sz3yNmV8KhbVWWKnckHVb3FigFESYRG/s9Aiqdvv0QEo7Jyk0eG/qLtKdiBGFEoVzGMk38ICDhOliGS8w2wDCwTYOIiOaEg2OZmIAfWvTmS5VGaxEYwJ4zUpXzsPPd5Msh3bkSXuCTcCx2a0+xuqdIEFY+HLCNTfz4gc/x5MY/Vn0tTn3lhbz5wNOxzMo/K891l2hNVs64bkm67De3FSMy+OPTm+jsL+IHIV1BRL4UMq3JYVNfkZZUjCgEyzGZ3RJn9+mpweX4ALZpbhN0465FMrbtP2WubbFwWpKEXWkQN7c1SX+pTDmISNgWs1vjpOPDHLo9xGhXUWz9YVFla0DjHF0nIiIiIvWlwC0No9HO1R6JgYZpjm0xtzWO54eUgkpP8jByyZUDMCvLzKEyA21ZBum4Q8K1yRbLdOXLRBFkC2X8wGdTtsRu05J053yCMIIIHBNCTGyr8lgz0jGe2pgjU/AxDQPbMigHFnPbEsxoiuGH0Jp2aI47FMoBPb1F+gqVsA2Vfd+2Aau68uwzq4mmuE0URfiRzcaMx2PrMpjGBn54/wU83/NA1ef/wdd8mQ+84nS6cj5+uO3S66HvW8y2MKzK8WNtSZcwYnAPd2e2RFvS4UUzU/SXhobVIm2pyuy2aUJzwtom6G5vFto2DRZMS+7Uz81IV1EM92FRf7FMzDYH94sPVe+j60RERESk/hS4pWE00rnaQ21viftA06xUzKInX+ngbYURflg5Uso1DaalXVriDhGVmeVpTTG6syU2ZYv0F33CMKJYDnBsg56cTzmMWN1dZF5bgp58md6ix7rN+6sLJZ/WhFuZ0TVM4q5FwrXx/ICEbdKWsimUQ7JeCceM8bKFrTz4fB8lPySKIGYbuJZJe8olXw4p+gGmUZklLgcRz3X/h1v+/mnWZx6r+nqc/brLOe5lJ9KSdHhuU551fR59xTJQef4Jt9LxOxWztnnf+vJl+gsvHOcVRJWmZ/lSSL7k8eJ5BvvMbGJtb5FyUNnXHXcsUjGb2S0x5rRtG57rsZd/R6soqn1YVPQrXegXTktiDDkaboCaromIiIhMbQrc0jAa5VztoYabtdzYF5GMWcQcm1zRrwRrqzLrvDHrYW0+1svAYHqTg22aRFFlZjdf8rGoNAIjglzBJySk3/PJeSE5r8yG/hJtKYeWhIVpgGtatKUcvLJPMmbhBQHd3SVmN7mkEy4tCYtCKWROa5xnOvMk3BKZgktXokxb0uFlC1rIFHx68iX6vcrj9xUrXcyD0GBVz7+49s+fZF3fU8O+BpbpcPJhX+dlu72JpoSLYxqEm2ezZzS5/PP5XrryZVKuDQQUSgZ7zUgPdvYe+r5ZpoU55PsBws2tww0DSkFIX7FMa8oBIgxMOtIuu09PbTc4T/Re/mofFlW2BfgUvGDYZe/1OrpORERERCaGArc0jHqeq11t1trzA7qzJXoLZfwgpL9YIh13B2cnS37A2t4iIRHz2hIAbOgr0pF28aMIywBMg4RjYBgGzQmX3nwZzw/oyZfJe2XScRvLNFnZlWVdb5HnuvJYpkF7yqEp5uBaZXpyZZ7pyrGwPUUELGhL0JX1KIeVs7bzpYCFHQl682X+1ZMj4do831MgHTfZbVqKpGtjmdCRruz5fvmiVu5+fBOlwMA0TDb2P8TP//lZMsV1w74+CaeJT7zxWxy++1EU/RA/CNmQ8ejLl2Bzl++Bjt8zmmNERqX52UCH9mwpoDUIcC1ri/etPe0yPe3QmS0Phm7TMDEISLsWnh+ytqdI3DKwbZP2tIttGHRlSzsM0dVmoevRIbzah0EDKx/Kwyy3r+fRdSIiIiIyMfTbnjSM0XaEHmuQqtaYrSVus7HfY3VPET+MKJZ8uvIlZjTF2GN6Gsc2WdtbHNyrnPMC2pIuMdvk8fX9eOXKkV9FP8A2KwHwua4suVJIsRQQRREtSYdCOeSxtRkcqxLic6WAhGNSKIVEUZk5rQnW9hYolELKYWW/dQyTufMSPN+dx7IMOlIuxXKli7hlVpaJe+Uyvm/SXygxvSmGgYHnh6RiFjkP+r0HuPqPHyNX6h3+9Y/P4AOHXcZeMw8jFTN55e4drOzKY5smz2zK050tEbNN9pqRxsAgW/TpK/osaIvTHLeJOy+8P2FYeX0SaWuL921+W4IF7Ukss0ihFOBHkHBN1pbKRJHJ6u4CfUWfmG0yrcmlK+fRknQoZsPB92lua2LEs9n16hBe7cOggZUPlrXlcvKhy911ZJiIiIjI1KXALQ1jNHtxxxqkqu21LZQDVm7MEhLRnfcJwpCyH1EKQjb2eyQck6a4U1kSbhrEbBM/DCkFAcVyQL4UELctbMsgKlY6jAOU/BDbMHBtg1wxYF1vkY50jHzZp911SLlmpcHa5j9+WGn0tdeMFHHbZlrKYUZzjLTr8GxXrtJ0zTBJOLCqJ0tkQKEUkXCiypnem48gK5YCEq7NH574P778y/9H0S8M+3rMaNqNI3b/AvPaDyKMIma2xIk5Jrt1pHh4bYbpqRj9XpmUaxKlHKII1vQVmdsSpxxFlPyQYhCy+/QUGzOlbRqnbf2+peMOh+7WjrOql0zRpxxFrOvL05GK05Z26c5WjlbLl32e6ypzwJxWil5IMlZ5PYMQnunMYphgGS/c73DvfT2b8G3vw6KWpMOC9iSFcrhNqNaRYSIiIiJT24QG7nvuuYdLL72UBx54gHXr1nH77bfzzne+cyJLkgk2kr24OwpSlmkMG24AurMl+gv+Nmc257yAjVkPzw8o+ZX7C6OQ/mKZtmSMR9f0V/ZR+yEGBq5tss+sNH2FMl25MpuyHtPTcRzbwMAEAzKFEr15n+lpFyIwMFnXl6M7XyJX8pndHKct6TKnJUauFBK3zcpstm1S8iMsMyLpWnTnyqzszNOWdmhJOKzPFGlPunSkHLqyZeI2TG+Ksynr0ZKweWj1L1j6y/OrvsaLpu3He1+6jPlt+1IOQ4rlgLZEZeY94ZjsNT3FxqzHxkyJmGWQLfl0ZUuUw5BSAGEYYptgGQZhFNEUs0m6Dgun2RS8YPC1XdCRHAyNnh/QlfXozfsYBuw/t4WCH9KbL+FYBtlkmZIfMa3JJQgrS7SL5YD+Ypms5w/uf46IWN1TpCXp0JZ84WciCGFlV5aZpQQRlRnnchDUrQnfjj4sSscd0vEtv2cyduUXERERkdGZ0MCdy+U4+OCDOe200zj22GMnshQZRzu7RHZHHaG31828L1/mMS9DYsjy5oEZQ4AnN2Y3h8eAQinEMiPmtiYpln1682Vc2ySMQoIQYjaEUcQ/n+8l6Vo4lkFf0act6WCGsL6vQBRFrM94bMp62JZJ2Q9Juhare4rkvYBNOY+urEdT3MYyDXKej2nYxK1KV/DOjIdhwrS0jUnl/Oz1fUVitkVL0sYrBeT9kDCK2NRfZkZTnHIYVTqWl0PmdyTwg4DHN/yEH9x3QdXX7IA5h3L6kV9hXtte5Itl8n5AzgtxbRPHDDe/7pUPCp7ZlCOKoFAu88TGymz/M515CuUyzQmXloRDOQhobY7Tt/lc77znk4hVzsOOqHRd9/yAzn4Pk4hnOnM835un7EdYpkHSqZyD3ZFy2djv0ZmpzGybholpQaHsUw4iggiIXpg1L3gBfhjhh1v+AGSL5coHJqVoMJz3F8sYUPWs7fFuwjfaxm2N2pVfRERERMbPhAbuY445hmOOOWYiS5BxVo8lstWCUimozFJ3pGIkhmSsIITV3XnKm7th50uVjt0DmS1bzNIctwjCiGyxcp60ZUJnf5mOlMusJpcgjEi5lWOu+gtlFnYkWdNTJOlalP2AKIJNmRKGEfLUxkp4NAywLRMTA8+PKHhl9pyWIiDimU15egoeZT+qLLuOmRSDkJIf0hJ38YIQrxzwj9V9BGHEjOYY01IxiuWAuG1iRAGPrvkBdz9xWdXXaf/ZR3DiKy6hLTWX3qKPbZo8uynH2r4CzTGHlqTDmp4cQWjQ6/hEEURRyIKOFP2FEmt6CnSk4xhGBIQkXRvfD+jMBLSlHJ7tzNOcsOnNl8mXQmKWQSpm0ZUr0ZZ0yTiV/79yU5ZMISBb9AdrSzgm5TAk7Vo4pkHcNSiWXgjWlmkCIY5lkIq/8M/UQPOxgSX7Q9/3MNyyOZllGKzvL+I65mDH9KFG2oRvNB8g7ejDoqEasSu/iIiIiIyvSbWH2/M8PM8b/DqTyUxgNbK1ei2RrRaU8qWAsh/ilXzyQ5aLA2S9AC8Iidkm/cUyQydIS35IGNnkPJ+2lMPKTXnKfkg5iFjXVyRXKrP39CaypYBEzKAtHSNXCggJsU2L5riDYxqVoG4ZRFSCdr5QBsMgGbPpzZfoKZSZ1Rqjr79Mc9zGMMAyDTw/IO4mccOAGTMSrOzMkS+Veej5/OYZXog7Jl3ZHI9vuIWfPnR51dfmxfOP4sRXLGVB+1wcy+TJDf08310gJKIrjAijymvgRwFBVNmXviHjUSgHtKZsPC/kH8/10JF2yXo+GzK9lPxKR/bnunIkYzazW+Js6vdIODZNcYfmhE3csVjTm+ffG0rMaYnTW/DJegFJ1+TZzjz5UsDM5hieH2EYsKa3yLq+IvvNaiLnB3ilkIRbOd4MIOaYEFnMbYlvcZyWYxqYZqX794CcFwy+n475QnOyRMzC7K9sF3CTW/7cjbRDeC0/QKpnV34RERERmRiTKnAvW7aMpUuXTnQZUkUtlsgON7vYnLBZ0xuQKQT4YaVBWcw2eHpDP5uyJfqbXEzDpDlusaA9hWObZItlNvR7REDMMsl5ZaIowrYNfD+iWC4zvz3BhkyRMIxoTTr05MvYkUHCtnEsg96cR64U4vkBGAa5YpkF7Qlakw5Zz+fhNX2EUUSxHDEj5TK7LUHKtSpL1R2LmG2QchxWlfIYQDGICELwfJ9krEBf3mdaU4xnOnOUg5BsyccxAx7fcD3/++DNVV+jhR1v5JD557Jo2iz2mdHErNYkpgHr+gqsy5RwrUpH8VIQUgoqwbYl7tCXDwgjaE/F6M55EBn0FkrkywHTDJcQKl3Zo4iN/UX2ndtMk2vTmnBoSji41uaAHEG2GGBh4pgmpSAi7oAfRjzdmaucr+2HWCa4NnRly7gWlaPFvDKuY5KKW/h+xLS0S9EPSDgu89ripGPO4IcmAOmYxRwjvsWM9cDycnvzhywDDAzmtMbJlYItXq/hmvBV+9mr5QdIo+3KLyIiIiKTz6T6je7888/nvPPOG/w6k8kwf/78CaxIhhrvJbLbO74rCiv7tf0wImbBw5tyFMsBjm3Sky0RRtBfNPHKAc1xlzV9Bdb0Fugv+nilgBnNMZoTDtmiT8KxaEk4PNmZoydfYu+ZTazPFFnXWyTmVGauH1vfz8HzWniyM0vBD+lIuWzIeCQcg2I54KmNecIowjJN4k5Ib7GE2W/Q7NoUwgDP8wn9iKxXoiXpsKnfI1sIKG8Oi91ZDz+E1d0F5rYa3PXvK3ly44+qvjYHzHkXr9nroxhmiv6iTxiCbVoU/JB1fQVmNcfxg2hz47eIvqJP2a/sfy75EW0JB9OAkMqYmc0xbNuEKM66Po+kbbO2p4hjm8QA0zQoFAIy+TKd/SUWTU8SBjC3LUmEgR+G+JtXcwdDlg+UghDDqCw1X9fnkS/59OZ9bNugL1/mRbPSlbO6bRMjgr1nxZjZkqQ14dCerswgb/2BS7G0ZRC2TRPbrITroeEcwLUt5rQmKvvrR9lToNZ7rEfTlV9EREREJqdJFbhjsRixWGyiy9iljGb/qkGledbWHcAHjGSJ7MDj5bwyG/s94s6W91EoBzy7Kce89iQLpyXpL5RZ1Z0nUyiTLfmVJl2GSdK1MIBNico52uUoxCv7dGc9ykGEH4V050rEbYuYbRJ3KnuJHdNkdW+emGPTlnYoepUu44+szdDW7dCbKxNEIS2uxd4zUsxurcyKxxwD06gsEy+WYU1fga5siZcsbCNhWsSTJnNmJzCB3qLP2r4iYQjz2hM0xWzCMMfdT/43tz/086qvzf5zjuOlC84i7jaRsE0K5QAb8PzK6+1aRuW5BT7FRIBrG9iWyaasRxBWlnIbBqRjNp5fOdIsblv4ETgRzEy7BH6EZZbwIzY3ZouwLSiVIrx4SBhByjUIggjLMvHDgIjNM8yb3yZryP7qpGthGfB8T77yPCNwbFjXV6TsR/TmSuw+I13pDG/Ahv4SL9utY4tGZ1uH2phtbdGcrCPtVD5k2SpsV2qB9rQ7pvBajz3Wo220JiIiIiKTy6QK3FJfo9m/2pcvsaG/wPr+4uB+2oFZR9e2RrREdujj9eRLdGVLW9wHVPbrVhqQBSRilSOzjCjiue48GzMlTLMShOK2xb6z0uS9Ml2mQcIxScUcDDxM02BTtkQUwfSmGJZl8PiGSmdzIxnjn2t6sUyD57vzAHTnS+wxLcX0dJxUzMYrB8xpTfDvtRkC4LF1GbqyJfadnWZGKk5vocx+c5o3HzEW0lcss6GvSKYYMK8lzuymGOWZTThWll88fBFr+n5T9TU5aO7JvGqPsyj4Fu1ph+a4SxBFRBF0bijR0WSRcA1a4i5+GOFYBkH4wrnes5or+62DsDITnI4ZZL0ys1ti9Hs+fgQtCYeEa2KaJo5t0hJ3cGyY0RTHtkqEYUhPucys5hgxx6Q57tCejuNYlXPDBxqcxVwL1zZIuC8E7nTcxrVNrMEPAyLKQUTZj2hN2ti2ucV++jCIWNdbZK9Zw3cWH7B1c7KUa4/7THG99liPptGaiIiIiEwuExq4s9ksTz311ODXK1eu5KGHHqK9vZ0FCxZMYGUymv2rA2Mtw2JGOjbYMdoPI9b2Ftl9WpK5rcntBp+tH29gX+7AfSyclsTAoFQOKZZ8+r0Sm7Ih/cUSOc+nNeHQmfHwygGmaZKKWTyxMUvZj5jZElAKIsp+yP5zmlndW8A0DFoTNqmYxaZ+j7hj0Bxz6PYre7sHel2HUURLIkZvoUy+nOHpzhxxy+LZTTn2nJGmHFTmVRd1JOnKlVnTU8Q2DZoSNmnXYW5rglbPZm5LnGc6czxZ6uSfa67gqY2/r/pavHy3s3nZwg/QlfUJI+gpmmQKHo5l0ZnJsrAjRTkIaUlWGpaZRkTRD4mIyHk+qbhN0jHxygbNcZv2VCWkx22LuG3SmfUwDIOYZWEQkS8FJBwT2zRpiVu0JptY31fAMKAj5WIbsPu0FHHHpq9QphREtCZderyQ3acliTkmZb8yz73XjDTZ0gtNzIggaZvs3p4iVwoo+QFRNmJGs8uMphhRZFQaw1FpIBdzLQp+UO2lqaoWM8XaYy0iIiIiO2tCf2O8//77ed3rXjf49cD+7JNPPpnrrrtugqoSGN3+1aFj03EH1zHJeS80NGtLu4Mz4tWWqG/9eEOPffLDyox2GEWs7y8SBCF/fbqb/qJP0ffJl0L6C2XmtiV48PkeUq7F4xs8UjGLOS0JTAMsA3yjspQ5WyyzKedhm3H8KKK/WKaz3yTvBaRiDtObYnjlkFnNMdIJm2zBxw9CUq7LvLYkjmnS2V+kN+fTnnbYvSPJhqyHVw6JQuhojpH1AjaVivxnfUTS7eGXj3yRjdn7qr7eCzv+H63xtzKrNUXMMiiUIlpTNmEISddhetrBsUwc08DbvIe86IebG75F2KZB0rXJFH0WtidwLINZrQnW9RbpSLkYQMyxSMUsmhMOXdlKt//95zTjOjZhGOHYBgfN6+DpTTnijkXCtdjQX6IlbuMHEeszBVpTDtPScZoTDrPbLAxMZqTiLOqw2NRfabiWiiqd113bIBVzMQ0DTBOvFOBH0JYq8dSGfsKosg3BMiAyDKY3uRgYJIaE5FodyTUS2mMtIiIiIjtrQgP3a1/7WqIo2vFAqbvR7F/deqxrWThJk4IXUA4j+go+Helgm2ZX8MIS9a3vIxWz6MkzOFOaL/tkij5px+T3K7swDOgv+vQVymTy/ubu1x4L2pP0FX36+zwWdSQJI3h8Qz+uZZEtVcbvPj0JVPYyG1SOvCqUA3rzPqt6CnjlgKRrs2h6mr58ma5sge68h22ZhGGI61oEEazszlEIYnSkYmSLldnb9lSMvkIJP1zLY+suZVP24aqv4av2PB/HOoq2VIxNWY9SOWRaymF9X5HZLQnCALpyJUqJiLW9HnHXZM/pKQoln2LMpD3lkI5VQnQQgh9FzGmO05336S36WIZJW7LSVTwyos1Lym2e7y5iWVYlxDsm+VJAEIZYvollWRy5x3Se3pRjXluC/kJlxv+h5/tYNL2J5phFc8Il6Vb+6TBNaEs7pFybXNEnCCNMw6ApbmOYEAQRyZiNY5oYbmWPdcyBrmwMyzBIxGxmpGOYtomBQcw2mN0aB+pzpvtQw4V77bEWERERkZ2hNZGyhYHQ0Zsvk/f8bRqfDRi6f3Xg/5eCgJwXUPYDNvZ7WJaBY1qEUYTn+0Sb9xYPnf1OxSzW9BY2B+zSFrdvsTw9iDCI6C6UcGyDnlyZnOdjGmBsLsU0TXafnqYrWyTpWGzMejS5DknXASIMwDQMnt2Up6PJ5bmuHI5tEATQknIwIzCpNE6LuxYrO3MkXZP+UhnTMIgiKPsRTXGbaWkXP6gciZUr+riWgRlby1+euYRM8altXq8Br9rzIhzzVcxtS+JYBgnHBiJMYFV3njW9RVoSDj35EuUgohQEdFgOYRSRK/pkCgEYEWbeJ+3a+GHAtJRLU8Ih6Vp093s825Un5ljYm/dNx2yL3kKJmU0OjmUxc/O+9aa4zcZMafBDDdeO6M2VmdOS4OD5rWQKPsVSwLq+PIZpkin6uHblPa283jAjHaPkh/TmC4QYW5yZ3Vco05XzmOeYzGmNV44YCyMc02ZhR5JMwWdee5KBz9xitsHB81pIx526nek+WOsOwr32WIuIiIjIWChwy6ChoaMUBKzvL2L2Q3vKJcIY7Dxum8YW+1ebEzbPdvqszRQxgTW9RUp+iGnCtJRLKpYgUwjY0Fcg5pgUSiGmaWCEEcUwoilu/f/27jxI0ru+8/z7uY988qr77FNqXaD7QDYCwcAYLWZNjMfLeNmQ8AxjZkfiWMGOITwcCvCAx2CEAcvsQohxjDEYvOCBHfASMkiDjUC0ELpb6lbfXXdV3s/9e/aP7Cp1q7uFrlJ1o+8roiK6srKyvpmVIdXn+f1+3y8jgU2zl5Gpfvpa6fXD3FTdI04VlqmxMBvRCjNmmzGdKCNOczYPlZhtRHTpj7t6YrFDnheMlB26cUbFs0hVTtmx2FTzSQqFpWu4tslyJ6Hsmjwx16UAhksWlqERJoo4zWlHCVuHayx1MpI8w7d06n5//vRAySHNFa3oYb7/wEdoRgdP+prqms0rt9/CpsFrCeOUOFNEuQIK5tsJueqf+d42XKIZJv0RW3mBbYJr61QNi8MrIbahUfMd4ixjrNqf/b3cSbHN/tiyMFFUXYuVKKMZZQwYOo61esZeUfMsSq7JWMVlqu4x34443IiOCds6Y1UXXdM43AjZPhIwXO5PBHBtA8+21i6oHHtRxDYM0qw46fEDS9dQqn+Bpe7bbB7y13Y9TFRdRisOaV4QZjmeaTBec9e6k6/3SK5jvdjhXgghhBBCvHRI4BbAiaHDNgwC2+Dx+Q6HGxGb6i69VKFrcO5Y+YTvNw0NHW2tMzeAhoZp9FfHG72Eh2bajAT9s8crvRTraAfyPfMdzh4rMV3zaYcZvTQnyQpmWiHbhn1GApvdC13CJEPT+93PPVvHs3QWOxGjVZeVboptKqZrHnkB3TAjcE16SUY3ydDRmByr8MiRFlCQqpi5Voyt65wzXuHgco9e2l8xNg2NJFOEqSKMcsqOge/aJJni4EqPhUN38+jcfyJKF076Wpp6hcs3fwjPvoQkK+hEGQ8eaXLBeJnNQyUOLvfIVcGOsYCZRsyhlS6PzhR4dn/l3DIMyrZJmGXsXez1u7aHKaauoQrwLBPfMnAtDVPX+xdIMkWU5qi8QBVg6uBYT+5CiLMCpWAkcFkd5JUryFXRb1Zm6kD/gspTA+1q8zAbA9s/PngaOriWQZSdmI5XL86sNsDTjlkBN3QYr5/6HPSLMZJr1YsZ7oUQQgghxEuLBG4BnBg6kjynk+QMBDZpXjDXjtF1Hc/WeXyhSy9RDJVtbNOgG2UoYPOQz0IzIkwVpga2rZMkioNLIQeXO+RKkRUFK70UpQpSCg6u9NA1jSjOWe4m6Fo/PBYUpDE8crhN4JkcWAp59EiL0YpD1TU4vJLiWAadKMc0oO5b1HyL0bLLgUaP0ZrLUi9hthmR5gWWpvHg4SaebRAlOWXXJM0sAtfkSCMiVYpdc206ccbmQZ/hwGGgZBO4JoFj8sj8XXzr5x8gVZ2Tvn5Vb4z/6YKP0YrOIisKFtsxWqbwTJ0ooX+OGo1HZtskqaKb5sSZ4mWTVSgK0AocyyTLCnwblFawmmF9x6Sd9F9jQ9cYKtuAxnDZJcn7c7Khv13fMPozyCuujakdP7bKMXV8x6TimSx2EhxTJ84UuSrIVcH0gLu2Am0a2tpZ5V/WPCzJCwjTE14Tjf4FlfgpYfyZNB17sUZywYsb7oUQQgghxEuLBG4BnBgqunF/tJNnGix3IkpOP3gCdKKM3UmbmabF5qH+WdylbsxI4BC4FkGck+Y5s42YXBU4VkYjzGj2UkbKDkoVaBqsdFPyomCoZBOmitlWSDvKcCyTdpiw0svQKaiXLA4th/iWznwrxl7d4qsVzLcidA1eNlFl65DP/qUes+2I5U6CoqDs9c8/lxyT2XaEZRgMBTYzzRBT18iLglaYMDngMVx2yXJF4JhUXJOfH/gB37j3Q6giO+lr5tubmKq9l4HgfF67Y5j5dkTF1YmynCjtN9g6uNxloubRiXK6Sc5iu7+NXdP6AfgfHp7lqu3DhEl/nFcvzqmXbBaaEQvtGNc2KDsmFS9gqGTTS3OKAsquiWsZaFr//qAxGNgkac5kzaEZ5uTqyYaEnqUzPeDh2gZV32ay5jLXioiOXhxBg3v3N6j6/XPeqigoimLtDPPTNQ+Ls/yU47M82+CcsTJhqp5V07EXcyTXixnuhRBCCCHES4sEbgGcGCpWtwHHmSLJFNV+42hSlbPSS6h69tq4rgJFo5fS6KVsHvQAxUI7eTLwFWAaOrWSxUo3wdChEaZAgWP2V1IDx+CHjy6SFwW6XhClCg2NqZrLPftWcAyd1DWZaYX9xl51jwHX5sptdSarPoebPX62bwXL1Ptbv5d6XLl9gH0LXcJUYVkagW3i2ybjFZc0VQSuSZ4XbBsNKFTBQifm0Zn/zp7F/3zK18m3z+bVZ38Q29hCJ05pRv2LC700R9P6566PNHpkucIxDXzLxNB0HKvAPbr6HLgmeVj0O5CrgsVORAHUSjaHVjq0o5SpmsdAyeLQSkQvySm7BkmeM1p2QdNY6MRrq/FFoVGydEYCh4mqy96FLhXPohv1x3C5ls7WIR/P7q9ux1lOO06xzf7sbVN/8tx90k6YrLlrnc+PPcN8qrFbv2wFPHAtAvfZvR9fzJFcMm9bCCGEEEKsF/lLUgAnho7VOdhrZ3ztfsAJE4VS9FdFgVaUEKc5zW5CL1MUqqDqmaS5Qtc0dB08R8dONEzNZLETY5kGcZrjWgZTNYfBoD8Ky7Y0ar5NN87xLMVsK6YRJnTDjNqARzNM0TSdsmez0kvZu9Dl4s11frR7kVacMeRb+G5/NvTUgM+h5R4l12Sk4mHo0DVzJuoezV7KeM0lyRXLnYif7Ps6+5Y/e8rXZqp+Kf/q8o9y734X29IpCo2HZltMVl1sQ8e3TKYHPHbPZURxzqYBH7Xc7xSuVV2U6p99VxT0koySY5Kk/deq4jmAjlb0z3rrhsbmwRIPHm5y5dYBNhsGzTDDszUumqzimgYPzbSpeha6rtFNckYCg0KDAyshU3WPgZLNbCtmou7hmsbaWerVoLrQjjG0J7vAr15UASgocG0d2zCO/v6f2Rnm9Rif9WKN5JJ520IIIYQQYr1I4BbAiaFjdQ62Y+oMl+210WC5Uhi6hmHCSi+m1YNWlOE7Bo0wZamb0E0yHFNjsGxT9/qhKc8LDjdCukmOmSkKBfWjq7AVr+DQSo/5Vsze+S7tNMO3DUxN43CaUwtslrsJS90Ey9Bo9FKqvsWOkRLnjZQxAE2D4cDlcLPHSpLSSXIWmxFbhkpQJNR8i1QV3H9oha3DPv+457/yswOnDtlDwZWcO/Z/sGN0C08s9LCNQcZqIbvn2ui6RprDYjelUAVu1eHAYpcjKyEXbx5g32IXCgCtv6rt2diWzp65NpsGfeq+RdkxaEYZjqHhWBoTNR9d07AMjcV2zEjVpVaySPIC29TJcphpJWwa8Nk06NFNctIchksOzTAlzhX1oxcr6r6D55jEqWKi1t9GfmxQXT0+ELgWtqWz0IoJXAPj6Bl9+ykB85meYT7VCvjzsR6PeTIyb1sIIYQQQqwHCdwC6HcpT/IC3+6Peap5FgO+RTfO2LsYro3rsk0Dy9CYaUTEWT+YhHFOmCgm6w6uZaJpGgvtCFs3cKz+anfZM7E7GoMlm8GyjU7BXCOi5Fo8OttmoR0Tphm+azDXiai6Bo5lcPZIQJIrTDQCy2CoahOnBWXXYiCwidK8PyIsVzwy08Y1Da7YOsDdTywyVHapuibDNY/HZpbZPf9XPDTzJXj05K/BWOVV7Bh+J547TCfK0IBWmKMBs82IiapLlGY0w4yqm6NRsGU0YLRs8/CRFtNDPsvdGK2AXztriEOrq9xAO0o5d6JKxTM5uNQ9esZbY7zu0w1T5ppxv1FcDuMVG882yHPwHYOVXoquF2wa8Kn5FjOtJ8d55UVBmPY/WeklDAU2dd9e+53OtkNKtkWa5wwGDo5pHHd8wDYM6r699hjw5O6GVet5hnl17vvpEHJfrHAvhBBCCCFeOiRwv8TFWc6RlR4zzRhD03AdnShW5EXBeNVhy1CAa5s8NtshU4rANXjoUIdcgW1qPL7QoeablByT3XMxIxUHVcByt/94YZKTFjlxrGh1U8aqHouthDDL2L/URdc1Gt0E3dBJM0XFtfi1swbZO9+lE2UcWukx24oZ8mw2DZc4stID4ImFLp0kYyRwqfoWvqZRcvorlPfsW2I4sPGdgl8c/gI/vfvLp3z+54+9kUs2vYuKW2ep2z9X3gwzXFNnrh1T9iw6R2dPN3oxF0xUaEcprdDH0KEXZ3STnLJnM1n16SYZscr5/kNzeI7BlqESaaYYqXmUHYNdsx1aRxvSVTwDU4OKZ3H2aECcK+aaEZquMVp1qdgWUV6gaxqeZbBl2Ge5k66FbUPvb9lfpRRkeUEnSjnc6DHX6gdw2zTQdZiouOwYK59wfODJ8V0Fut7f3bBqPc8wHzv3fdVCm7VGbUIIIYQQQpzpJHC/hDV7CXuXOuxfClEK0jyn2UsZrrgUBSx0Ygb9EF3XqHoWWa44uNJltOKgaxqHGxGDgU2UZMyGIcMVj5UwIU5ySq7JoeUunTil6lkcWukxFNg8eKRByTaPjuDKmai6nDte4ZEjbWLVP+Os2gWZKtDQKBRsHvBxTI1DKyG9OKcVpUzUXDpJzkwrYqkXs2WghKaDKkLuPfBF5tp/d8rnvWXwzVy55UYW2jrTAz4FsNxNCJOcWsmiu5IyWLZJc5M4ycmVohllBI5JyTF4bLZNqhSuaWDoGkcaEUOBQ54XLLQSlILhqkOeAxSM1Tx6UcKWIZ9z0Jge8NDRcK1+N/DAtVhoxVR9i/GqRyNMqXo2uqZTMiFwfEbLLrZhYpoZtqmTq4Lhso2uaWvPy9A1TENnrhUx10rWzt9DP4wfaUVYlsZ549Xjjg+sju+aa0XUfXvt/PZ6nmF+6tz3VU9t1CaEEEIIIcSZTAL3S9Rq4GmF/dXWgmKts/hsM2Ky5rLcSzi41MU0DCaPzlNe7iU0exnJ0S3A7TihGyl0HR6fbWIYOrap9cN0xWO07JArGCm75HnBSNlF1/rN2KIko+watMKEy7fWmG/FVDyLZjdhU81nJeyPEWt0UwZLFkcaTYYCB8/WGSrZREmOY5m0oiY/3f8ZHp399imf73Dw20zVr6dklxivuhgaDAQFB5d7+LbJSpjSjTPiTDFac0nSnM0DAe04o+pZaFp/7NZcI6IoYL6VkKn+2Cxd11joRFw4VWW5F+NaJmj9kVh13ybNFMMVF9+2sKsGhgG2rrHcS9HorywPlm0826TqmVxZreNaBq5t4pkGQ2WbMM1p9DJKtsnLJyssdxMyBabOcQE8yxVhkq/dXhQFuVI4pk6m+lvk+03QnBPOLD+X8V3P1VPnvhcUazPALV1juZMwXvPW5WcLIYQQQgjxYpHA/RK1GnjWxn8lT85tTjJFL82YbcWYmoYqFHGm0ICZRv+sdWAbKE3D1HRmW13COOeVZw9xuNEjTBSao7HYi4mz/nzpRw62aGc5C+2Y4bLD1IDHpZvqrHQTDrdCFjsJjtU/XzxS9Wj1UrpJyq7ZmKwoMAwf3zZJMkUnzqm4DX605z+x1P3hKZ/j1sHrOXvkf0PXrKMXC1LaUYahx2wfLTG30MOzDdpxynBgU3FNyq5JYJtU6x6Pz3XIFBxa6TFe9fBMnfPGK7RjBRq0o4zRqkPNs/FsjUL1O7N3kgzPMqh5Fr0kpxvnxLlispbTDHMMXWOgZFIUkOT911zXdKqeyeaBEoFrMRj052E3w4RHZto4Vr9zuKFrLIb9Ff4sh1QVDJT6TeUUYBoaaLDcTQlck5kkBvrhe6zqkim11gTtZGeWn+34rufq2EZsSZZzpBGt9QkAiHOFf3RmuBBCCCGEEGcqCdwvUauBZ7VBlqZpmDrkBRgaJFlBmuU4Tv8tkqv+zGxDhzDpr4o7JkSpohNnTA94NHsxeQGHmyGdKMO3TUxdwzQ0rto6wCMzbQr6AbGXZDw23yZKc3pJzvRgiXaYsnexS6o6mHo/ONqGznwzwrMMutECD858ioMr/3jK5/XyiX/Hb1/6DjpRwQ8eX8B3XOKk3zDMNHQ6cdbfrmwYZLlioOYSp4osV2R5waHlkKGg37RssZNSFAWBbVAvWZR9k/sPNyhZBiNll/EqbBksEaY5s82QI82Yc8YqzLcjDF1jrOpyqNGj5JhMVj06Sb/RWq6gE+fUSxZx1u/8bpsGW4cCfNskSjJWOgU5sH+xt3a2eiRwCFyLum8z14qZGvDxj3aPr3kWvmPQixVLnZiKZx63gpxkitlmxGBQWdcmaM/Uag0FxQlhe5VsLRdCCCGEEGc6CdwvASfrBL0aeEqOQaMH862IuXaMZWiooiDOMsYrLgWKOAXbgP3LXQ4s9VjqJkBB3XfYNlzirOH+Nu3AtYgXuuwYDrBMg/l2RJwVxGlOmBYMBf2Z20leUPVs5lsxjmViahrdKMXSNbaOVdiz1KVk6ix2Yx5f2stM48+4Z//PT/n8Xj75bi6d/l9wLJO5VoxtWoxWdKaqLo1eStkxmW+GoOsMlmxGKy4jZZvlmssDh5pUPJsky6iXLKJUw9B1BjyLrYM+9ZKNZfZHkXmGQTfOUUBO/0LC4UbE3sUu1ZJJzbUYKduMVGxKtoWm9ceV2YZB2e2vsjuWTpoXhIli66BPkhVEeU7ZMaGAvMgwDQ2FRhhna0FUKZjvxNiWvjbOyzMNSq553PbvI42jW+R7GUdnk63JlMLQinVrgvZsrDZua4f5CWF7tXHbM50BLoQQQgghxOlq4//yFutqtRN0pp48I2ubGpMV9+gc7ZQnFjq0wgxNL1jqJrimyWKnhyq6+JbGQOCwZ7FNzXewDI3NA16/sZYOy52Q0YrHnvkOnm0Q54ooU1hazlTNY89cG8/SmW2GKKXopoon5jucNRJQ8y1UUTBQ90mLnMPLEXsWuzyxsIt9S5+kHZ9ifhdwwfh/oGS/lrJr4doGD810mKr7+LbBw4ebbBsJqPoWrShjsRszWfNY6qb4lsG2oRJJqphvxVimTi/NSFNFL8mZGnDZOuQfPUNtoGkFjm6wfThg32J3bYvzUGBTcfsjulzbxDZM4gxMQ6fsmdQ8h6IoKIp+M7M46y83W4ZOvWQSJqq/emtpuKofKONckYTg20fnZT8liCoF3TjH9g1sox+2J04456wxWulvHV9tnAb9EDtUshkK3NNixXh17vtDvdZxt6+u5K82bnumM8CFEEIIIYQ4HUng/hW22hgtTHLmmhG9tH9O2zQ0ds00cSyDQ8sRj813KNv9AB04JkoVGDq0uhlJqtGKcg4u9/rNxnToJRnLacJCJ2a04jLfbjNZd1kJUx6Z6W8T1zWNxa7DK7YOsPNAAydTTNVdmmFKt+owNeBzYKlDo5fijOvsnnuAn+7/T7SjJ07xbDSuPfujXDr1BjzP5L4DTTzHYKEds38pBGCuHZFkOVduGWS+nTBccjB1nQJY6iQEtsFIxeHhww22DQcMBw6K/szxLC/QtP4557JjkigFaOi6znjdI80U20cCMlXgmQYDvkXgWWiGtrZ1O3AMhsoOqji6Su5bLHXTtbANYOg6lm4QlEyKQqP2lDPKC52II42UzUM+lq7xVKtn7uHk87Eto78CvnU4YDDon1kvgLJrUvUs6iXn2byF1lXVt9ky5JOpgkwpTF2n5BhrYRvWdwa4EEIIIYQQ600C92ngZFu+X4hVyFbY35I804g41AjJlUIp1Q9hGjiWgWcZjFdsPMvg8fkumqY4vBLhOyaqKNg0ENAKU6YHPTQ0hjybg40I29A4ezRgrOwx145QOaRJTifOAJio9c8bR6liy6BH3Xc4tBLSijJqvs19B1ZoRw+zZ/GP+eHjh09av655bB74A/7ni97EQidmsuri2QadKGWhG1NXNjPNiDwvqJUs9AI0dEwNjjQjJqZrmIbWD3K2iSpgsR3i2hY79zeol2w2D5SwDJ0sL2iGKY1uvzP6ciel4pm4ls5KL2Wq7vUvJOg6F05ViJKcOCsYDlySTGHoGsNlG9vQyQqFqWvUAoupmsehRkiS9Tu5e7aOqWtUfRPXPvF3bOo6mcoI4/y4+djHfh1OPR97dau2jcFQYDAUPPm19Zyp/VwNBg6NXnrCeDA4PesVQgghhBDi2ZC/ZjfY6pbvYwPHQrs///j5dmhOc0UY5xxqhKS5YqmTYBoFhxohWVZAUXDppgGUKjjSDOkkKZ6lo2kQJhmNMMU2dCbrHvtmWwyUHHYvdPAcnR0jFR6fbbNiJPTinJUsYajscsG4IlEFnThj/0KXAd+mKAru2beCaxs8ePifONz4z8TZ8klrNvUar9j2YWz9Ilxbpx1lLHQiDq+EuJZO0SmolyzOHSnTiBI0wLUNqq5JnCrqnkUnzrEMHVUoenHOSNXGtjQa3ZR6yWGll5BrcKjR42UTNVShWO4mlFyTmmvS6KacPVKiEWYMVxwCx2T/Ug9Ng+1DASu9jLJjELgGFc9ivh1j6BqGrjESOGuN4nR0xmv9MWir57Qrrk3gGFimTpyd2Cis5Bis9Prbyf2j87FXm4qtnm1+uvnYq1u1n/qeWs+Z2s/HmVavEEIIIYQQz4YE7g20uuX7qat7uXphOjRbR7ty50qx0k0wDdi30GWxm2JpMFRxmW/H6EdXTQPbRNfgrJGAJC8YjFImaj62AaNlF9/SGShZdMOMx+faVAOHLM/xXYOsV/DQ4SaTdQ8V5RR5wXDFRamCvUv/g/+x+0PkKjxpnSVngkun/5Ca/3LmmxEjJY8oy5mq+rTcFB0N1zRo9TKWujGaXiJVinNGy3imSZTlVD2LfYtduknGWN1l95E2K72UxW7MkWZEqhQjFYfLpuvsmu9w3pjDwUaXhU4MRUGc5RQFnD9WRgHnT1aZqHqshAmPz3WYrvuUfRMdHaWgHedUXJutQx7bhgKiNMcyNUqOtbYqu7prYaLmUVAA2toOhlaYMduMTngtbMNgJHAwjP52cts02DzkE6U5taNbwn/ZDoiqb58wY3s9Z2o/X2davUIIIYQQQjxTErg30Oos7JN5th2aV7eld+OUNCtwLQPDAF0vSJWiFWb00ox9S10MTePs6RpPLHbpRhnbRwL2zHdIc9gxGjDTCBkMHEYrLolSKAWXbR6gHSXMtfqjr3bPt/nx7gUu3FRjuZuwf7lHxbU4uNwjU4oo+0fu3P1R4ORP0LO28OodH2alO8n0oE+7l6KU6nfdNjU03cSzNQ42Ump+vyv3ci9mphnhWjpDQX/cV0FBlisavQTT0KiXbJZaEZMDHrPNfgdx1zbIVMFo2SUpCnxHZ6UX4Zo6TtkhVwXjpodl6qDBeWMVrt4+RJj2Z37X/BPPPSsFvTTHNHTGayc/F/10v7uK19/JcLLff9W32DTgE6bqOQfQk83YPp2dafUKIYQQQgjxTEjg3kCn6sCc5DndOD+6KsoJYevYM99QECY5B5ZDmt2EpTBGQ8PU+uGzEyVkaU7gaHSTnPMmqqR5TifKaXQTCkcx145wbJPA0JhthQz4Dk8sdDENjdGyQz1w+OneJYYDm26ccu+BmCRTvHLHEI1uykTNpdlL2b/033li6VOnfL5l51wumno/pjGFY5qMVVxmmw00IHAtekmGYx5dlS9AaS4lx2DfYg9d78+arnoWS52E8yeqLLVjulFGPbBZaCfUSjaXTte4/2CDsmczFDhoRn/0VL1kUfYsAsfkvB2j/NPuRdpRxmI3Ic4KSrbBtopD3bP5te2DBK5FKwpP6BR+rEyp59xF+5dtpQ5ci8B9Tg8thBBCCCGEOE1I4N5AJ+vA3IlS5jsxSoFj6Mw2o+POdB975rsTpSx3Yw4u9wCNQ82QdpSiAWGSU/MtxsouS72EimNhajrzrYjq0bnTW4d9pmslHjrSJMsVg75DpvqBd6jssNiKGSo77JnvoukwrDlsHy2zb6FLnCvmmiGPzv0//Pzgp0/5HIeCS/m1re+nmw5CoTFadcjyoj/OShVsHy6RZYo4U1Rck6m6z2InpuKZTFY9HptpM171MHQ40ggZLjs4lkG7l3LZphqNKEej4IIJjTjJaXZTJusecZpTL9mUXYvSuE695GCbBldtGeKssYBtwwE/2btEO0rRNXCPzrS+fNMA4zV/7fdzsk7hq0xdf15dtGUrtRBCCCGEEL/aJHBvoNWO0qsrnEmer4VtU9fwnH7wWj3TbejaWthO8pzDzR5hoti92MHU9P7M6U5MK0oxNGiFJpM1B9c08GyNwDHJgZJlYJk2hVLYpsZ4zWOxHdNNcnqpot1L2DpU4oLJCrauc/ZIiU6S8/h8h9lml3sP/Fcenv3CKZ/XWOXXePnEzWwf3sS+5R69RFGyDUxDZ6mTYBkaSZpRcS1eedYQjy906EYZnmXw0OEm20YDRisuhxs9clUQpRmqgPG6x0wjxNQ1wiQlVorZZoRWQCfJcO2jXderLsu9lCQv0DSNHeN16iWXiYrLWWMBjmmwfaTMaMVlphERZjmeaTBecwlc67jfT3CSTuHQnxdd8Yzn3UVbtlKf3Hp17hdCCCGEEOLFJIF7Az11W3E3ztfC9kTNRePJ1dVcwUwjWgvnC+2I2WZMrhRRosjyjChTeJaOjtkPkHUPA4PxqsnhZshiN+5v1VYF+w/3cG2N7cMlbF3HdQwqroVraNSDQfYvdWnHGVN1n7ufmOG7D72bdvzAKZ9L4FzDdO3fs2N0kvGay8MzLeZaMYMlizgraIcp501UOLDUw9Bh23DAjx5b4r6DLQLPJMsVlqkzNegx347QCxgMbLYMlVjpJvTSnDDKGCm71HwLCtC0gqHAJc1zkqNznKNEMeA75Hl/C/rmQY/NgwH1ksXWweC40Ba4FmePWad8To5pMDXgk+SKQyvRWujWdZiouCc8nnhhrGfnfiGEEEIIIV5MErg32LHbigsKHEPHc4zjwjb0V7RbYcpSNyZXBYudiFwV6JrG4ZWw32gM+qO/gEvOHyXJcnpJxkor4eEjHYpCkRxtqBa4JmXHJFPQihL2zHW4ZLrGQMXh/oMNUtXl/3vk37HS23PK2idr1/GKLe/CMCocboRYOsy2YqIs56yhEtNDAQcWu5RsHcfUaUcp7ThnvGrTiTNs22Cw4uCZOku9BK2AMOuPL7M0nYNLPS7aVMXUoJcpJmouUzWflV5MnmugwZ75DkcaEYauEaY5gW1iGxqjFYeLN9XYPhwwPRg85xXSqm9z/mSVsapHI0wpCqj5JoOBI2F7Hax3534hhBBCCCFeTBK4TwPHbis+2aioTpQy0+rS6mU8Pt8hVaAXBUMVG1Vo/VnPQJTmqExx4XSNdpyuNVIrexZhlFIv29S9/s8xjgb0/qq4weVb6iz1Fvm/v3M9vXTulLV61jRXbr2NTmwyErjYlkmSFfi2wQUTFfYv9aj7FttHAh490iIvCkqOSZLrVFwLW49ohRmGlrB3sYvvGAyVHAoKzhv1aUbp0RFm/VX3PYshw2WbRKVkqqCbZrSjnCONiDDJ2DocoB89Z61rMDngM1R2eNlEhcGyy1DgMFw+eRfxZ/P7Ga95jNe85/U44pd7ITv3CyGEEEIIsdEkcJ9Gjj3TXVAQxjm9NGOxFTHTikhSRSfqz6WeHvKJUsU9e5ewDB1TK7h88wC2Y6IDexe6eIbGXKYYsw32JBlpq2B6oMSRlS6jFQ/X1tkzt5+7dr+NJO+esq6SfTabBj7BRLVOXijSHCquxkjZIc0UYxWbkmOwZ66NaeloGsw2QoYrDgud/hxr3zVp9FIMQ8PQNTpxiqlD1bUoioJOlHHfkQY6cKQZoesajV7KRNWjE+XMtSPKnkWhCqYGSkwP+ERZTskxGau6JGnOQOCwbbjESNVFp9/M7Pk0NRMvvl/W9f25doUXQgghhBBiI0jgPs14ls6hlZDZVoyhayx3Yh6baWFbOlGcM1Htz4vOVcGeuTZV12Q4cBgsO/xsf4PRioNl6uimxlkjAeN1n26Ycu54mTQraPYSbGuRv7rnLU9bh29fxGWbPo4qLCxDpxWmoGmMVjyiRJHkOWGagwZzrYjFTkzVt5ioeKgCLtpU5ZEjbaI4R9dhdqWHbRpsHSrRSVJcQ2ei5kNR0I1zpgY8Di71OGe8jAbMNGNMs79yrQqFb5nkqqAe2OQ5DAQ224fLZJmil+b4tonvmMdtxTd0nndTM/Hi+mUXSOQCihBCCCGEOJNIGjlNrDaKCtOMI40ey52UvFBEac75k2V2z3coezZRlrPcS2iGKaauoxWKLUMBuxfabBnysQyNMFf8cNcC0zWPkmXg2SZxup+/vudfPW0NWwdfwyWbPsRyTzHfjFGFxUqYsmWgRJopTF0jSnKyXFFzbS6YLJNmimYvPXrGOWG2GeE7Jg8cbPHzgw02DZawzP4Z7ppn4TsmK2HCWSMlljoxw4HTP4s926Ee2NQ9G0PTqPo2C52ErCgIXJPpAY+JWomqa6JrGtN1H8c0cUww9AzT0E4I25M1T877nmGe2rn/WHIBRQghhBBCnGnkr9cNFmc5y52Ex+c79JKUMM55eKbNUjvBBi7cWmPnvhWSLCdTMXlRkCSKbcMlLF1jrO6xa65NmhcsdHqoon+W+4KxCoudffztz58+ZI+W38AFE+8jzgrOGS2jaxpxGuI5Oo1uynDZoZdkDAU2O0bLWLpOqhSTdY9WNyFK+yvMh4+O6xope+SFYq4V4VomM40eZ42UyZXi4EqP7cMBJdsiTjMmax6NXkKjm7AcZSR5znDZoWSb1AOHyXqJumeweaCEaehkClxLY7jiYhtPBmnXNsmLnKHApgAZI3UGe2rn/lVyAUUIIYQQQpyJJHC/CJ46U9izdMJUsdKNWekmdOKUXfMdfFOnFacUueKsYZ/NQz737Fth93yXqbpLJ85o9jImay4l1+TAUo/7Z1ocaUaYuoala0zWFrnj0Q/Sih47ZT2bBn6Hl038ew6vxIzX3KOjxRI6ccamus98KyawLWxDYWhw9mhAxXMwUEwP+uw60uQXB5qUXIPJusu24RI13yZKcxq9hOVuQtm1aPQSJmoeYxWXimdy7liFkquzdyHEMnRmWwmmDhMDJUquTZjljJQdGmFOUWiMVV3Gqi7jFbe/Mt5LcAz9uLC9ytD6c76fb4M0sfGO7dwvc7iFEEIIIcSZTAL3OnvqTOFOlLLSSxgMbA4u9ziwHJKpHNfU2bXY5dByl02DAUcaIaZpMBjYXDRVZbzqMt/qn2t2DJ0nFroMBTY7D6ww336EufafEqUHTlnHVO16zhm9gfGqx77lHr5jgRZTAK6hc+54BVODJFVcvX2A/UshWaEYLNl04pQwThkObP7fXxyh5JpUPJvNAz7dOCN3C5Y6ETOtmGaY4pg6jqUzPeAxGDikuSJXoIBM6Wwa8vvnyaOIVEE3yRkMbLaPlNALjbSAum9i6Dqg4TlPBq1j//1U0lDrV8exnfuFEEIIIYQ4U0ngXkfHzhQuKGiGCbONCE3TaC92aPRSWr2EiarLSi/Btw0u2zLIQjum5FjMNnrsXwnxTZ2sKDi03ANgrOpyz75/Ys/iH9OJZ0/6sy0j4MKp/0jVvQJNA8cwWAlTNK0/r9oxdHzHIE5zhuseJdNgOUy4aFOJXUdalEs2ea440giplWy2Dvj8cNcCtbJNzbPxLB2lQauXsGXIZ7JewrVMGmGGqWuUHJ2tgyW6SU7VtzF1UIVG2TUp2QbdJGOkbJOqfqO4yarLvuWIkmMwUbaJMgVoTNRcNDQMHTYNeLSj/JSvtzTUEkIIIYQQQpxOJHCvo9WZwkmWsXexy0IrpptkaJpGmikqnompQZjnRGmOZRk8cLiFY+n4psFP9i3hOwbjFY+wEfHo3D/y8Mwfkeatk/482xhk+8gHqLgXMhQ4RKmiG6Vousb4sEcOLHVizhurMFyySHNFzbPQNZ3BwKLkmXzv/iOUfYtYKYpCY7LmE8YZaV6wZbiEaxosdWPSTCNKFIahs38ppBdnBG6/KZpnGVRcC9c2GCi7DPgWcVYwVffQNY2DjR7dRKEU2KbOYOASZjBZc6n6FpsGfGxTR0M77kw2QG++Iw21hBBCCCGEEGcESSjrKM0VcZZx955lZtsRYaJo9hLKrkknztFRGJqOH2fMNyNaccZjc222DZVQRcFI2WX/8p3c8ehHyVV80p/hmJNsG/oPnDd2KQdWwqNzsT10rcAxTOZaESNluz+rG4jzfpdx1zR4+WSVJxa6lByNXpRhmDovn67RTRTLnRi0gl8cDNk+GvDjJxYx9P6ZbVPX6cU5pYpJO8yoeRabRwIWWxFxrhgIbDR0DF1noORQFODasHW4RMW1MAyNumfRjjMsvd8MDcDQNS4YrzBYdk/5mkpDLSGEEEIIIcSZQgL3OtKAx2bbHFjpkSvIVI5tajyx2CVTiq0DPp5j8NhMB1UoWlHGlkGfld4P+Kcnbjnl4w4FO7hk6gN040nOGi1zpBliGjqNMKHqWWgFnDVcxrWMfrhPcqZqPkmaUw9KDPoOT8y3OdyMmKh5+JYOmoZv9edsL3UTHFPHs3VsXePAcoih6UzVXXIFlqmxtVIizhRVX2fTYInNQyVKmwd4YqGDpoGp90eBZQp0HSYqLoOBg2ManDNaPjoCLacb52SqfwHg7NHgacM2SEMtIYQQQgghxJlDAvc66kYpBxshhQJDg6yAkm3gmRqdqMA0NHQ0Vrox3ez73HvgP5/ysQLnfM4e+T8pu9OYmsbLp2r8fP8Kj822OW+izGDJwTH6IXklTNi/1KWXZkzVXbYNV5kacChQNDopO/ct045zFAWeZfBPe5a4cvsgBTq6oTFYdtB1mGkmFLbO9tGAAd+h2UuYbcf4tkk3znAdky01j7NHAqp+vzv4lsESqcoBnUwpTF2n4hlsHQzWQvHzDc3SUEsIIYQQQghxJtCKoig2uojnqtVqUa1WaTabVCqVjS7nOHGWs3PfCo/OtPjxE0s0w5RcFVgGLLYTxqo2+5e+yY/2fOqUjxE4l3LdBf+Rmj/BrpkOYZZTdk26UYap61y9bQDd0Kj4/SZmzV7KfDtBqYJWmGAYOgYarTjlnJEA09DppTkaUACGphNn/TPlNc/ENHQcy2S4bGHqGmGqKLs2I2WbvChY6fZnZecKuklGzbOZHvCo+8eP4hoMLCzDkBVoIYQQQgghxK+cZ5NDZYV7nbTCDEPTWOjE5EWBbeosd7rsbvwN9x/+v075faPlVzJdv5HpwWl6cYbvuKii31BsoZsQpjljNY9mlPLwXJtzR8v9xmiFga6BQUEnTjEMnYpr4hg6BVAPHAxdZ2m+TaOXEGYKpTTqJRNT1zENjZdNBgCMVTyqXn8c2GDZWZt7PRj0t4BrRxO77xgnzMQ2dNa2jgshhBBCCCHES5kE7nWS5opE5XTjDL1o8Vc/ef0p77up/npq/tsZr40CBe0wQ6mCkqOzedCnE6YM+DajFRfHNmhHGee7lX5nbr+/Gm0YGj95fImVOKMVpgyUbDpxhobGuWMBlqHRiVNeNlVjthmSZIqhwGahk2BqcP5UFQ0d3zYZKDmUPZOzxwIW2vFagzLbMPACg8maByDNy4QQQgghhBDiaUjgXieWodONcobLLt976CsnfP2s4d/iwsn/naIocd54hb2LXVShcG2DmpvjWgZbh0ostCOaYUaSq/42cDQC12Q5TChZBo6pY9omy72EkarLlGmiawpVaMRpjuuY/VFbgyVGKy4L7ZizRwOW2jFLvZTtnsVQ4JADlm5g6hqB0w/VVd+m4lmnPGstzcuEEEIIIYQQ4tQkcK+Timdi6BpFAa8993+lGx9G1we4auu/J05MbENnpOrSDBNaYcJZwz7LvZR6YJNlBZ0wZd9iF8cyaIYps60I29QYClyqukWWK1JDI1MFj821sQ2DQivQdFhup3i2Sckz2T4UUHItLpyqUS85XLJJJ0wVK92YRpjiWv2z1t04B2DTgMf4MavUT9egTJqXCSGEEEIIIcSpSeBeJ45psG24xL7FLlVvkt+57FMsdxPSvMB0C8IkJ1MFcarI0oJE5fziUIvhwEYvQDcMtAJePukzWLIZCRxs28Q3NRbbMdMDHsMVl7woOGesQjvOiDLFwcUuU4MeEzWfobLLcOBw9mjA8DHjtgIXhssOcZbLCrUQQgghhBBCrJPTokv55z//ef7kT/6E2dlZLrroIj772c9y5ZVX/tLvO527lEO/U/nDhxrsmm8z04jRdVjppiz3YsquDYWiUAWea7LQiGglGYMlG5UXZKqgHljYuoFpaFR8iyjJWWrHWJZBzbXZPOwzXvFIVEGSKuIsx3d0BksOFc+i5FgSooUQQgghhBDiBXRGdSn/2te+xs0338xf/MVfcNVVV3HrrbfyG7/xG+zatYuRkZGNLu95cUyDbSNlbNNgtByz2InZOujTDFMyBZlSDJYc5loRC+2EiapH1XdY7kSMlmwCx6QVpUwNeNQ8mzRXnDdRYcBzGKu7jFX7zctklVoIIYQQQgghTj8bvsJ91VVXccUVV/C5z30OAKUU09PTvPOd7+T973//037v6b7CvWp163Y3TkmzgqKAxW6MoWvEmSJMMpphTN13SHKFpmmYOhSFhm3qbB0MKLmmhGkhhBBCCCGE2GBnzAp3kiTs3LmTD3zgA2u36brO6173On784x+fcP84jonjeO3zVqv1otT5fK02FxsuO2u3bc7841amdQrmjhnBBU+O2ar69gZULYQQQgghhBDi+djQwL24uEie54yOjh53++joKI8++ugJ9//4xz/OLbfc8mKVt65O1uE7eJoRXEIIIYQQQgghziz6RhfwbHzgAx+g2WyufRw8eHCjS3pB9UO4w0TNY7jsSNgWQgghhBBCiDPYhq5wDw0NYRgGc3Nzx90+NzfH2NjYCfd3HAfHcU64XQghhBBCCCGEON1s6Aq3bdtcdtll3HHHHWu3KaW44447uPrqqzewMiGEEEIIIYQQ4vnZ8LFgN998MzfccAOXX345V155Jbfeeivdbpff+73f2+jShBBCCCGEEEKI52zDA/db3vIWFhYW+NCHPsTs7CwXX3wx3/ve905opCaEEEIIIYQQQpxJNnwO9/NxpszhFkIIIYQQQgjxq+HZ5NAzqku5EEIIIYQQQghxppDALYQQQgghhBBCrAMJ3EIIIYQQQgghxDqQwC2EEEIIIYQQQqwDCdxCCCGEEEIIIcQ6kMAthBBCCCGEEEKsAwncQgghhBBCCCHEOpDALYQQQgghhBBCrAMJ3EIIIYQQQgghxDowN7qA56MoCgBardYGVyKEEEIIIYQQ4qVgNX+u5tGnc0YH7na7DcD09PQGVyKEEEIIIYQQ4qWk3W5TrVaf9j5a8Uxi+WlKKcWRI0col8tomvaCPW6r1WJ6epqDBw9SqVResMcV4oUi71FxupP3qDjdyXtUnO7kPSpOZy/192dRFLTbbSYmJtD1pz+lfUavcOu6ztTU1Lo9fqVSeUm+gcSZQ96j4nQn71FxupP3qDjdyXtUnM5eyu/PX7ayvUqapgkhhBBCCCGEEOtAArcQQgghhBBCCLEOJHCfhOM4fPjDH8ZxnI0uRYiTkveoON3Je1Sc7uQ9Kk538h4VpzN5fz5zZ3TTNCGEEEIIIYQQ4nQlK9xCCCGEEEIIIcQ6kMAthBBCCCGEEEKsAwncQgghhBBCCCHEOpDALYQQQgghhBBCrAMJ3E/x+c9/ni1btuC6LldddRU//elPN7okIdbcddddvOlNb2JiYgJN0/jWt7610SUJsebjH/84V1xxBeVymZGREd785jeza9eujS5LiDW33XYbF154IZVKhUqlwtVXX813v/vdjS5LiFP6xCc+gaZpvOc979noUoQA4CMf+Qiaph33ce655250Wac1CdzH+NrXvsbNN9/Mhz/8Ye69914uuugifuM3foP5+fmNLk0IALrdLhdddBGf//znN7oUIU5w5513cuONN3L33Xfz/e9/nzRN+ef//J/T7XY3ujQhAJiamuITn/gEO3fu5Gc/+xmvfe1r+a3f+i0eeuihjS5NiBPcc889fOELX+DCCy/c6FKEOM4FF1zAzMzM2sePfvSjjS7ptCZjwY5x1VVXccUVV/C5z30OAKUU09PTvPOd7+T973//BlcnxPE0TeOb3/wmb37zmze6FCFOamFhgZGREe68805e9apXbXQ5QpzUwMAAf/Inf8K/+Tf/ZqNLEWJNp9Ph0ksv5c///M/52Mc+xsUXX8ytt9660WUJwUc+8hG+9a1vcd999210KWcMWeE+KkkSdu7cyete97q123Rd53Wvex0//vGPN7AyIYQ4MzWbTaAfaIQ43eR5zle/+lW63S5XX331RpcjxHFuvPFG3vjGNx73d6kQp4vHH3+ciYkJtm3bxlvf+lYOHDiw0SWd1syNLuB0sbi4SJ7njI6OHnf76Ogojz766AZVJYQQZyalFO95z3v49V//dV72spdtdDlCrHnggQe4+uqriaKIIAj45je/yfnnn7/RZQmx5qtf/Sr33nsv99xzz0aXIsQJrrrqKr785S9zzjnnMDMzwy233MI111zDgw8+SLlc3ujyTksSuIUQQrzgbrzxRh588EE51yVOO+eccw733XcfzWaTb3zjG9xwww3ceeedErrFaeHgwYO8+93v5vvf/z6u6250OUKc4Lrrrlv794UXXshVV13F5s2b+Zu/+Rs5mnMKEriPGhoawjAM5ubmjrt9bm6OsbGxDapKCCHOPDfddBPf+c53uOuuu5iamtrocoQ4jm3bnHXWWQBcdtll3HPPPXzmM5/hC1/4wgZXJgTs3LmT+fl5Lr300rXb8jznrrvu4nOf+xxxHGMYxgZWKMTxarUaO3bsYPfu3RtdymlLznAfZds2l112GXfcccfabUop7rjjDjnbJYQQz0BRFNx0001885vf5B/+4R/YunXrRpckxC+llCKO440uQwgA/tk/+2c88MAD3HfffWsfl19+OW9961u57777JGyL006n02HPnj2Mj49vdCmnLVnhPsbNN9/MDTfcwOWXX86VV17JrbfeSrfb5fd+7/c2ujQhgP5/1I69grh3717uu+8+BgYG2LRp0wZWJkR/G/lXvvIV/u7v/o5yuczs7CwA1WoVz/M2uDoh4AMf+ADXXXcdmzZtot1u85WvfIUf/vCH/P3f//1GlyYEAOVy+YS+F6VSicHBQemHIU4L73vf+3jTm97E5s2bOXLkCB/+8IcxDIPf/d3f3ejSTlsSuI/xlre8hYWFBT70oQ8xOzvLxRdfzPe+970TGqkJsVF+9rOf8ZrXvGbt85tvvhmAG264gS9/+csbVJUQfbfddhsA11577XG333777bztbW978QsS4inm5+e5/vrrmZmZoVqtcuGFF/L3f//3vP71r9/o0oQQ4oxw6NAhfvd3f5elpSWGh4d55Stfyd13383w8PBGl3bakjncQgghhBBCCCHEOpAz3EIIIYQQQgghxDqQwC2EEEIIIYQQQqwDCdxCCCGEEEIIIcQ6kMAthBBCCCGEEEKsAwncQgghhBBCCCHEOpDALYQQQgghhBBCrAMJ3EIIIYQQQgghxDqQwC2EEEIIIYQQ4lfGXXfdxZve9CYmJibQNI1vfetbz/oxiqLgk5/8JDt27MBxHCYnJ/mjP/qjZ/04EriFEEII8Yxt2bKFW2+9daPLEEIIIU6p2+1y0UUX8fnPf/45P8a73/1uvvjFL/LJT36SRx99lP/23/4bV1555bN+HPM5VyCEEEIIIYQQQpxmrrvuOq677rpTfj2OY/7wD/+Qv/7rv6bRaPCyl72MP/7jP+baa68F4JFHHuG2227jwQcf5JxzzgFg69atz6kWWeEWQgghXmKSJNnoEoQQQogNc9NNN/HjH/+Yr371q9x///38zu/8Dm94wxt4/PHHAfj2t7/Ntm3b+M53vsPWrVvZsmULb3/721leXn7WP0sCtxBCCHGGu/baa7npppu46aabqFarDA0N8cEPfpCiKID+NvCPfvSjXH/99VQqFX7/938fgB/96Edcc801eJ7H9PQ073rXu+h2u2uPOz8/z5ve9CY8z2Pr1q381V/91YY8PyGEEOKFcuDAAW6//Xa+/vWvc80117B9+3be97738cpXvpLbb78dgCeeeIL9+/fz9a9/nb/8y7/ky1/+Mjt37uRf/st/+ax/ngRuIYQQ4lfAf/kv/wXTNPnpT3/KZz7zGf70T/+UL37xi2tf/+QnP8lFF13Ez3/+cz74wQ+yZ88e3vCGN/Dbv/3b3H///Xzta1/jRz/6ETfddNPa97ztbW/j4MGD/OAHP+Ab3/gGf/7nf878/PxGPD0hhBDiBfHAAw+Q5zk7duwgCIK1jzvvvJM9e/YAoJQijmP+8i//kmuuuYZrr72WL33pS/zgBz9g165dz+rnyRluIYQQ4lfA9PQ0n/70p9E0jXPOOYcHHniAT3/60/zbf/tvAXjta1/Le9/73rX7v/3tb+etb30r73nPewA4++yz+bM/+zNe/epXc9ttt3HgwAG++93v8tOf/pQrrrgCgC996Uucd955L/pzE0IIIV4onU4HwzDYuXMnhmEc97UgCAAYHx/HNE127Nix9rXV//8dOHBg7Vz3MyGBWwghhPgV8IpXvAJN09Y+v/rqq/nUpz5FnucAXH755cfd/xe/+AX333//cdvEi6JAKcXevXt57LHHME2Tyy67bO3r5557LrVabX2fiBBCCLGOLrnkEvI8Z35+nmuuueak9/n1X/91sixjz549bN++HYDHHnsMgM2bNz+rnyeBWwghhHgJKJVKx33e6XR4xzvewbve9a4T7rtp06a1PyyEEEKIM02n02H37t1rn+/du5f77ruPgYEBduzYwVvf+lauv/56PvWpT3HJJZewsLDAHXfcwYUXXsgb3/hGXve613HppZfyr//1v+bWW29FKcWNN97I61//+uNWvZ8JCdxCCCHEr4Cf/OQnx31+9913c/bZZ5+wXW7VpZdeysMPP8xZZ5110q+fe+65ZFnGzp0717aU79q1i0aj8YLWLYQQQrzQfvazn/Ga17xm7fObb74ZgBtuuIEvf/nL3H777XzsYx/jve99L4cPH2ZoaIhXvOIV/OZv/iYAuq7z7W9/m3e+85286lWvolQqcd111/GpT33qWdcigVsIIYT4FXDgwAFuvvlm3vGOd3Dvvffy2c9+9mn/MPiDP/gDXvGKV3DTTTfx9re/nVKpxMMPP8z3v/99Pve5z3HOOefwhje8gXe84x3cdtttmKbJe97zHjzPexGflRBCCPHsXXvttWuTOk7GsixuueUWbrnlllPeZ2Jigr/927993rVIl3IhhBDiV8D1119PGIZceeWV3Hjjjbz73e9eG/91MhdeeCF33nknjz32GNdccw2XXHIJH/rQh5iYmFi7z+23387ExASvfvWr+Rf/4l/w+7//+4yMjLwYT0cIIYT4laAVTxf9hRBCCHHau/baa7n44ou59dZbN7oUIYQQQhxDVriFEEIIIYQQQoh1IIFbCCGEEEIIIYRYB7KlXAghhBBCCCGEWAeywi2EEEIIIYQQQqwDCdxCCCGEEEIIIcQ6kMAthBBCCCGEEEKsAwncQgghhBBCCCHEOpDALYQQQgghhBBCrAMJ3EIIIYQQQgghxDqQwC2EEEIIIYQQQqwDCdxCCCGEEEIIIcQ6+P8BbfZ6xeitUs0AAAAASUVORK5CYII=",
      "text/plain": [
       "<Figure size 1200x600 with 1 Axes>"
      ]
     },
     "metadata": {},
     "output_type": "display_data"
    }
   ],
   "source": [
    "test_features = np.array(create_features(hd_test.copy()))\n",
    "test_labels = np.array(hd_test.loc[:, outcome])\n",
    "\n",
    "pframe = pd.DataFrame({\n",
    "    'pred' : postprocess(xgb_model.predict(test_features)),\n",
    "    'actual' : postprocess(test_labels)\n",
    "})\n",
    "\n",
    "ax = seaborn.scatterplot(\n",
    "    data=pframe,\n",
    "    x='pred',\n",
    "    y='actual',\n",
    "    alpha=0.2\n",
    ")\n",
    "matplotlib.pyplot.plot(pframe.pred, pframe.pred, color='DarkGreen')\n",
    "matplotlib.pyplot.title(\"test\")\n",
    "plt.show()"
   ]
  },
  {
   "cell_type": "code",
   "execution_count": 22,
   "metadata": {},
   "outputs": [
    {
     "data": {
      "text/html": [
       "<div>\n",
       "<style scoped>\n",
       "    .dataframe tbody tr th:only-of-type {\n",
       "        vertical-align: middle;\n",
       "    }\n",
       "\n",
       "    .dataframe tbody tr th {\n",
       "        vertical-align: top;\n",
       "    }\n",
       "\n",
       "    .dataframe thead th {\n",
       "        text-align: right;\n",
       "    }\n",
       "</style>\n",
       "<table border=\"1\" class=\"dataframe\">\n",
       "  <thead>\n",
       "    <tr style=\"text-align: right;\">\n",
       "      <th></th>\n",
       "      <th>pred</th>\n",
       "      <th>actual</th>\n",
       "      <th>se</th>\n",
       "      <th>pct_err</th>\n",
       "    </tr>\n",
       "  </thead>\n",
       "  <tbody>\n",
       "    <tr>\n",
       "      <th>count</th>\n",
       "      <td>4.094000e+03</td>\n",
       "      <td>4.094000e+03</td>\n",
       "      <td>4.094000e+03</td>\n",
       "      <td>4094.000000</td>\n",
       "    </tr>\n",
       "    <tr>\n",
       "      <th>mean</th>\n",
       "      <td>5.340824e+05</td>\n",
       "      <td>5.396937e+05</td>\n",
       "      <td>1.657722e+10</td>\n",
       "      <td>12.857674</td>\n",
       "    </tr>\n",
       "    <tr>\n",
       "      <th>std</th>\n",
       "      <td>3.413714e+05</td>\n",
       "      <td>3.761666e+05</td>\n",
       "      <td>1.276017e+11</td>\n",
       "      <td>13.512028</td>\n",
       "    </tr>\n",
       "    <tr>\n",
       "      <th>min</th>\n",
       "      <td>1.216140e+05</td>\n",
       "      <td>8.200000e+04</td>\n",
       "      <td>1.000000e+00</td>\n",
       "      <td>0.000500</td>\n",
       "    </tr>\n",
       "    <tr>\n",
       "      <th>25%</th>\n",
       "      <td>3.167628e+05</td>\n",
       "      <td>3.200000e+05</td>\n",
       "      <td>3.245312e+08</td>\n",
       "      <td>4.252492</td>\n",
       "    </tr>\n",
       "    <tr>\n",
       "      <th>50%</th>\n",
       "      <td>4.568700e+05</td>\n",
       "      <td>4.500000e+05</td>\n",
       "      <td>1.602001e+09</td>\n",
       "      <td>9.101485</td>\n",
       "    </tr>\n",
       "    <tr>\n",
       "      <th>75%</th>\n",
       "      <td>6.310372e+05</td>\n",
       "      <td>6.355250e+05</td>\n",
       "      <td>6.575385e+09</td>\n",
       "      <td>17.041227</td>\n",
       "    </tr>\n",
       "    <tr>\n",
       "      <th>max</th>\n",
       "      <td>5.126706e+06</td>\n",
       "      <td>7.700000e+06</td>\n",
       "      <td>6.637466e+12</td>\n",
       "      <td>252.097895</td>\n",
       "    </tr>\n",
       "  </tbody>\n",
       "</table>\n",
       "</div>"
      ],
      "text/plain": [
       "               pred        actual            se      pct_err\n",
       "count  4.094000e+03  4.094000e+03  4.094000e+03  4094.000000\n",
       "mean   5.340824e+05  5.396937e+05  1.657722e+10    12.857674\n",
       "std    3.413714e+05  3.761666e+05  1.276017e+11    13.512028\n",
       "min    1.216140e+05  8.200000e+04  1.000000e+00     0.000500\n",
       "25%    3.167628e+05  3.200000e+05  3.245312e+08     4.252492\n",
       "50%    4.568700e+05  4.500000e+05  1.602001e+09     9.101485\n",
       "75%    6.310372e+05  6.355250e+05  6.575385e+09    17.041227\n",
       "max    5.126706e+06  7.700000e+06  6.637466e+12   252.097895"
      ]
     },
     "execution_count": 22,
     "metadata": {},
     "output_type": "execute_result"
    }
   ],
   "source": [
    "pframe['se'] = (pframe.pred - pframe.actual)**2\n",
    "\n",
    "pframe['pct_err'] = 100*np.abs(pframe.pred - pframe.actual)/pframe.actual\n",
    "pframe.describe()"
   ]
  },
  {
   "cell_type": "code",
   "execution_count": 23,
   "metadata": {},
   "outputs": [
    {
     "name": "stdout",
     "output_type": "stream",
     "text": [
      "rmse = 128752.54982046234, mape = 12.857674005250548\n"
     ]
    }
   ],
   "source": [
    "rmse = np.sqrt(np.mean(pframe.se))\n",
    "mape = np.mean(pframe.pct_err)\n",
    "\n",
    "print(f'rmse = {rmse}, mape = {mape}')"
   ]
  },
  {
   "attachments": {},
   "cell_type": "markdown",
   "metadata": {},
   "source": [
    "### Convert the Model to Onnx\n",
    "\n",
    "This step converts the model to onnx for easy import into Wallaroo."
   ]
  },
  {
   "cell_type": "code",
   "execution_count": 24,
   "metadata": {},
   "outputs": [],
   "source": [
    "import onnx\n",
    "from onnxmltools.convert import convert_xgboost\n",
    "\n",
    "from skl2onnx.common.data_types import FloatTensorType, DoubleTensorType\n",
    "\n",
    "import preprocess\n",
    "\n",
    "# set the number of columns\n",
    "ncols = len(preprocess._vars)\n",
    "\n",
    "# derive the opset value\n",
    "\n",
    "from onnx.defs import onnx_opset_version\n",
    "from onnxconverter_common.onnx_ex import DEFAULT_OPSET_NUMBER\n",
    "TARGET_OPSET = min(DEFAULT_OPSET_NUMBER, onnx_opset_version())"
   ]
  },
  {
   "cell_type": "code",
   "execution_count": 25,
   "metadata": {},
   "outputs": [],
   "source": [
    "# Convert the model to onnx\n",
    "\n",
    "onnx_model_converted = convert_xgboost(xgb_model, 'tree-based classifier',\n",
    "                             [('input', FloatTensorType([None, ncols]))],\n",
    "                             target_opset=TARGET_OPSET)\n",
    "\n",
    "# Save the model\n",
    "\n",
    "onnx.save_model(onnx_model_converted, \"housing_model_xgb.onnx\")"
   ]
  },
  {
   "attachments": {},
   "cell_type": "markdown",
   "metadata": {},
   "source": [
    "With the model trained and ready, we can now go to Stage 3: Deploy the Model in Wallaroo."
   ]
  }
 ],
 "metadata": {
  "kernelspec": {
   "display_name": "arrowtests",
   "language": "python",
   "name": "python3"
  },
  "language_info": {
   "codemirror_mode": {
    "name": "ipython",
    "version": 3
   },
   "file_extension": ".py",
   "mimetype": "text/x-python",
   "name": "python",
   "nbconvert_exporter": "python",
   "pygments_lexer": "ipython3",
   "version": "3.9.16"
  },
  "vscode": {
   "interpreter": {
    "hash": "7dda4bf3640b7fafcd1648658b879b4cc9f6ba6084e8fb356fdaaa1a461d1690"
   }
  }
 },
 "nbformat": 4,
 "nbformat_minor": 4
}
