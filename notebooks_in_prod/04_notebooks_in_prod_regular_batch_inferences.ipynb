{
 "cells": [
  {
   "attachments": {},
   "cell_type": "markdown",
   "metadata": {},
   "source": [
    "The following tutorials are available from the [Wallaroo Tutorials Repository](https://github.com/WallarooLabs/Wallaroo_Tutorials/tree/main/notebooks_in_prod).\n",
    "\n",
    "# Stage 4: Regular Batch Inference\n",
    "\n",
    "In Stage 3: Deploy the Model in Wallaroo, the housing model created and tested in Stage 2: Training Process Automation Setup was uploaded to a Wallaroo instance and added to the pipeline `housing-pipe` in the workspace `housepricing`.  This pipeline can be deployed at any point and time and used with new inferences.\n",
    "\n",
    "For the purposes of this demo, let's say that every month we find the newly entered and still-unsold houses and predict their sale price.\n",
    "\n",
    "The predictions are entered into a staging table, for further inspection before being joined to the primary housing data table.\n",
    "\n",
    "We show this as a notebook, but this can also be scripted and scheduled, using CRON or some other process.\n",
    "\n",
    "## Resources\n",
    "\n",
    "The following resources are used as part of this tutorial:\n",
    "\n",
    "* **data**\n",
    "  * `data/seattle_housing_col_description.txt`: Describes the columns used as part data analysis.\n",
    "  * `data/seattle_housing.csv`: Sample data of the Seattle, Washington housing market between 2014 and 2015.\n",
    "* **code**\n",
    "  * `postprocess.py`: Formats the data after inference by the model is complete.\n",
    "  * `simdb.py`: A simulated database to demonstrate sending and receiving queries.\n",
    "  * `wallaroo_client.py`: Additional methods used with the Wallaroo instance to create workspaces, etc.\n",
    "* **models**\n",
    "  * `housing_model_xgb.onnx`: Model created in Stage 2: Training Process Automation Setup."
   ]
  },
  {
   "attachments": {},
   "cell_type": "markdown",
   "metadata": {},
   "source": [
    "## Steps\n",
    "\n",
    "This process will use the following steps:\n",
    "\n",
    "* [Connect to Wallaroo](#connect-to-wallaroo): Connect to the Wallaroo instance and the `housepricing` workspace.\n",
    "* [Deploy the Pipeline](#deploy-the-pipeline): Deploy the pipeline to prepare it to run inferences.\n",
    "* [Read In New House Listings](#read-in-new-house-listings): Read in the previous month's house listings and submit them to the pipeline for inference.\n",
    "* [Send Predictions to Results Staging Table](#send-predictions-to-results-staging-table): Add the inference results to the results staging table."
   ]
  },
  {
   "attachments": {},
   "cell_type": "markdown",
   "metadata": {},
   "source": [
    "### Connect to Wallaroo\n",
    "\n",
    "Connect to the Wallaroo instance and set the `housepricing` workspace as the current workspace."
   ]
  },
  {
   "cell_type": "code",
   "execution_count": 1,
   "metadata": {},
   "outputs": [],
   "source": [
    "import json\n",
    "import pickle\n",
    "import wallaroo\n",
    "import pandas as pd\n",
    "import numpy as np\n",
    "import pyarrow as pa\n",
    "import datetime\n",
    "\n",
    "import simdb # module for the purpose of this demo to simulate pulling data from a database\n",
    "\n",
    "from wallaroo_client import get_workspace\n",
    "\n",
    "# used to display dataframe information without truncating\n",
    "from IPython.display import display\n",
    "pd.set_option('display.max_colwidth', None)\n"
   ]
  },
  {
   "attachments": {},
   "cell_type": "markdown",
   "metadata": {},
   "source": [
    "### Connect to the Wallaroo Instance\n",
    "\n",
    "The first step is to connect to Wallaroo through the Wallaroo client.  The Python library is included in the Wallaroo install and available through the Jupyter Hub interface provided with your Wallaroo environment.\n",
    "\n",
    "This is accomplished using the `wallaroo.Client()` command, which provides a URL to grant the SDK permission to your specific Wallaroo environment.  When displayed, enter the URL into a browser and confirm permissions.  Store the connection into a variable that can be referenced later.\n",
    "\n",
    "If logging into the Wallaroo instance through the internal JupyterHub service, use `wl = wallaroo.Client()`.  For more information on Wallaroo Client settings, see the [Client Connection guide](https://docs.wallaroo.ai/wallaroo-developer-guides/wallaroo-sdk-guides/wallaroo-sdk-essentials-guide/wallaroo-sdk-essentials-client/)."
   ]
  },
  {
   "cell_type": "code",
   "execution_count": 2,
   "metadata": {},
   "outputs": [],
   "source": [
    "# Login through local Wallaroo instance\n",
    "\n",
    "wl = wallaroo.Client()"
   ]
  },
  {
   "cell_type": "code",
   "execution_count": 3,
   "metadata": {},
   "outputs": [],
   "source": [
    "def get_workspace(name):\n",
    "    workspace = None\n",
    "    for ws in wl.list_workspaces():\n",
    "        if ws.name() == name:\n",
    "            workspace= ws\n",
    "    if(workspace == None):\n",
    "        workspace = wl.create_workspace(name)\n",
    "    return workspace\n",
    "\n",
    "def get_pipeline(name):\n",
    "    try:\n",
    "        pipeline = wl.pipelines_by_name(name)[0]\n",
    "    except EntityNotFoundError:\n",
    "        pipeline = wl.build_pipeline(name)\n",
    "    return pipeline"
   ]
  },
  {
   "cell_type": "code",
   "execution_count": 4,
   "metadata": {},
   "outputs": [],
   "source": [
    "workspace_name = 'housepricing'\n",
    "model_name = \"housepricemodel\"\n",
    "model_file = \"./housing_model_xgb.onnx\"\n",
    "pipeline_name = \"housing-pipe\""
   ]
  },
  {
   "cell_type": "code",
   "execution_count": 5,
   "metadata": {},
   "outputs": [],
   "source": [
    "new_workspace = get_workspace(workspace_name)\n",
    "_ = wl.set_current_workspace(new_workspace)"
   ]
  },
  {
   "attachments": {},
   "cell_type": "markdown",
   "metadata": {},
   "source": [
    "### Deploy the Pipeline\n",
    "\n",
    "Deploy the `housing-pipe` workspace established in Stage 3: Deploy the Model in Wallaroo (`03_deploy_model.ipynb`)."
   ]
  },
  {
   "cell_type": "code",
   "execution_count": 6,
   "metadata": {},
   "outputs": [
    {
     "data": {
      "text/html": [
       "<table><tr><th>name</th> <td>housing-pipe</td></tr><tr><th>created</th> <td>2023-09-05 18:08:50.854139+00:00</td></tr><tr><th>last_updated</th> <td>2023-09-05 19:05:23.216037+00:00</td></tr><tr><th>deployed</th> <td>True</td></tr><tr><th>tags</th> <td></td></tr><tr><th>versions</th> <td>671acb30-b6f3-4b24-83ed-390b9aaa29fd, 7341d56f-d9e0-45e6-ad07-a36b136264d1, d7f48b2c-93f4-48d3-80b6-399c30eeb3d7, 8f199fb9-cb4b-4e2b-9a91-35c002016018, dc3351f3-408d-46a4-b761-d22d24f83a2b, 6006adf0-3244-4490-9fd6-229a86c72a73, c81ee0b1-bb26-40ea-bba0-c1eab788f41f, fa1f1348-0b8a-46c7-8c4c-dde666a2ca41</td></tr><tr><th>steps</th> <td>housepricemodel</td></tr><tr><th>published</th> <td>False</td></tr></table>"
      ],
      "text/plain": [
       "{'name': 'housing-pipe', 'create_time': datetime.datetime(2023, 9, 5, 18, 8, 50, 854139, tzinfo=tzutc()), 'definition': \"[{'ModelInference': {'models': [{'name': 'housepricemodel', 'version': '6787ee0a-5a56-464f-ab6b-23c076ed080b', 'sha': '7404007c88906331c8159c42379f30966a21fd29fe2629049e69541d0083db9a'}]}}, {'ModelInference': {'models': [{'name': 'postprocess', 'version': 'f7ff9062-8890-49ac-989c-8be2652c20fd', 'sha': 'd6bb78f3d5635f2d30974bd0681348e3f1bcf370300d0e94f02e531157e636ba'}]}}]\"}"
      ]
     },
     "execution_count": 6,
     "metadata": {},
     "output_type": "execute_result"
    }
   ],
   "source": [
    "pipeline = get_pipeline(pipeline_name)\n",
    "pipeline.deploy()"
   ]
  },
  {
   "attachments": {},
   "cell_type": "markdown",
   "metadata": {},
   "source": [
    "### Read In New House Listings\n",
    "\n",
    "From the data store, load the previous month's house listing, prepare it as a DataFrame, then submit it for inferencing."
   ]
  },
  {
   "cell_type": "code",
   "execution_count": 7,
   "metadata": {},
   "outputs": [
    {
     "name": "stdout",
     "output_type": "stream",
     "text": [
      "select * from house_listings where date > DATE(DATE(), '-1 month') AND sale_price is NULL\n"
     ]
    },
    {
     "data": {
      "text/plain": [
       "(1090, 22)"
      ]
     },
     "execution_count": 7,
     "metadata": {},
     "output_type": "execute_result"
    }
   ],
   "source": [
    "conn = simdb.simulate_db_connection()\n",
    "\n",
    "# create the query\n",
    "query = f\"select * from {simdb.tablename} where date > DATE(DATE(), '-1 month') AND sale_price is NULL\"\n",
    "print(query)\n",
    "\n",
    "# read in the data\n",
    "newbatch = pd.read_sql_query(query, conn)\n",
    "newbatch.shape"
   ]
  },
  {
   "cell_type": "code",
   "execution_count": 8,
   "metadata": {},
   "outputs": [
    {
     "data": {
      "text/html": [
       "<div>\n",
       "<style scoped>\n",
       "    .dataframe tbody tr th:only-of-type {\n",
       "        vertical-align: middle;\n",
       "    }\n",
       "\n",
       "    .dataframe tbody tr th {\n",
       "        vertical-align: top;\n",
       "    }\n",
       "\n",
       "    .dataframe thead th {\n",
       "        text-align: right;\n",
       "    }\n",
       "</style>\n",
       "<table border=\"1\" class=\"dataframe\">\n",
       "  <thead>\n",
       "    <tr style=\"text-align: right;\">\n",
       "      <th></th>\n",
       "      <th>tensor</th>\n",
       "    </tr>\n",
       "  </thead>\n",
       "  <tbody>\n",
       "    <tr>\n",
       "      <th>0</th>\n",
       "      <td>[3.0, 1.75, 1250.0, 5963.0, 1.0, 0.0, 0.0, 4.0, 7.0, 1250.0, 0.0, 47.6796, -122.301, 970.0, 5100.0, 70.0, 0.0, 0.0]</td>\n",
       "    </tr>\n",
       "    <tr>\n",
       "      <th>1</th>\n",
       "      <td>[4.0, 1.0, 1610.0, 2982.0, 1.5, 0.0, 0.0, 4.0, 7.0, 1610.0, 0.0, 47.587, -122.294, 1610.0, 4040.0, 98.0, 0.0, 0.0]</td>\n",
       "    </tr>\n",
       "    <tr>\n",
       "      <th>2</th>\n",
       "      <td>[4.0, 2.25, 2010.0, 9603.0, 1.0, 0.0, 0.0, 3.0, 8.0, 1440.0, 570.0, 47.5343, -122.054, 2060.0, 9793.0, 37.0, 0.0, 0.0]</td>\n",
       "    </tr>\n",
       "    <tr>\n",
       "      <th>3</th>\n",
       "      <td>[3.0, 1.0, 1610.0, 8579.0, 1.0, 0.0, 0.0, 4.0, 7.0, 1010.0, 600.0, 47.4563, -122.171, 1610.0, 8579.0, 61.0, 0.0, 0.0]</td>\n",
       "    </tr>\n",
       "    <tr>\n",
       "      <th>4</th>\n",
       "      <td>[3.0, 1.0, 1300.0, 8316.0, 1.0, 0.0, 0.0, 4.0, 6.0, 1300.0, 0.0, 47.3221, -122.216, 1260.0, 8316.0, 69.0, 0.0, 0.0]</td>\n",
       "    </tr>\n",
       "    <tr>\n",
       "      <th>...</th>\n",
       "      <td>...</td>\n",
       "    </tr>\n",
       "    <tr>\n",
       "      <th>1085</th>\n",
       "      <td>[4.0, 2.75, 2460.0, 8643.0, 2.0, 0.0, 0.0, 3.0, 9.0, 2460.0, 0.0, 47.4828, -122.133, 3110.0, 8626.0, 12.0, 0.0, 0.0]</td>\n",
       "    </tr>\n",
       "    <tr>\n",
       "      <th>1086</th>\n",
       "      <td>[4.0, 2.5, 3650.0, 7090.0, 2.0, 0.0, 0.0, 3.0, 10.0, 3650.0, 0.0, 47.606, -122.052, 3860.0, 7272.0, 15.0, 0.0, 0.0]</td>\n",
       "    </tr>\n",
       "    <tr>\n",
       "      <th>1087</th>\n",
       "      <td>[3.0, 2.25, 1610.0, 3764.0, 2.0, 0.0, 0.0, 3.0, 7.0, 1610.0, 0.0, 47.3589, -122.083, 1610.0, 3825.0, 11.0, 0.0, 0.0]</td>\n",
       "    </tr>\n",
       "    <tr>\n",
       "      <th>1088</th>\n",
       "      <td>[4.0, 3.5, 2850.0, 5577.0, 2.0, 0.0, 0.0, 3.0, 8.0, 1950.0, 900.0, 47.5252, -122.192, 2850.0, 5708.0, 9.0, 0.0, 0.0]</td>\n",
       "    </tr>\n",
       "    <tr>\n",
       "      <th>1089</th>\n",
       "      <td>[3.0, 3.0, 2780.0, 6000.0, 2.0, 0.0, 0.0, 3.0, 9.0, 2780.0, 0.0, 47.5184, -121.886, 2850.0, 6000.0, 10.0, 0.0, 0.0]</td>\n",
       "    </tr>\n",
       "  </tbody>\n",
       "</table>\n",
       "<p>1090 rows × 1 columns</p>\n",
       "</div>"
      ],
      "text/plain": [
       "                                                                                                                      tensor\n",
       "0        [3.0, 1.75, 1250.0, 5963.0, 1.0, 0.0, 0.0, 4.0, 7.0, 1250.0, 0.0, 47.6796, -122.301, 970.0, 5100.0, 70.0, 0.0, 0.0]\n",
       "1         [4.0, 1.0, 1610.0, 2982.0, 1.5, 0.0, 0.0, 4.0, 7.0, 1610.0, 0.0, 47.587, -122.294, 1610.0, 4040.0, 98.0, 0.0, 0.0]\n",
       "2     [4.0, 2.25, 2010.0, 9603.0, 1.0, 0.0, 0.0, 3.0, 8.0, 1440.0, 570.0, 47.5343, -122.054, 2060.0, 9793.0, 37.0, 0.0, 0.0]\n",
       "3      [3.0, 1.0, 1610.0, 8579.0, 1.0, 0.0, 0.0, 4.0, 7.0, 1010.0, 600.0, 47.4563, -122.171, 1610.0, 8579.0, 61.0, 0.0, 0.0]\n",
       "4        [3.0, 1.0, 1300.0, 8316.0, 1.0, 0.0, 0.0, 4.0, 6.0, 1300.0, 0.0, 47.3221, -122.216, 1260.0, 8316.0, 69.0, 0.0, 0.0]\n",
       "...                                                                                                                      ...\n",
       "1085    [4.0, 2.75, 2460.0, 8643.0, 2.0, 0.0, 0.0, 3.0, 9.0, 2460.0, 0.0, 47.4828, -122.133, 3110.0, 8626.0, 12.0, 0.0, 0.0]\n",
       "1086     [4.0, 2.5, 3650.0, 7090.0, 2.0, 0.0, 0.0, 3.0, 10.0, 3650.0, 0.0, 47.606, -122.052, 3860.0, 7272.0, 15.0, 0.0, 0.0]\n",
       "1087    [3.0, 2.25, 1610.0, 3764.0, 2.0, 0.0, 0.0, 3.0, 7.0, 1610.0, 0.0, 47.3589, -122.083, 1610.0, 3825.0, 11.0, 0.0, 0.0]\n",
       "1088    [4.0, 3.5, 2850.0, 5577.0, 2.0, 0.0, 0.0, 3.0, 8.0, 1950.0, 900.0, 47.5252, -122.192, 2850.0, 5708.0, 9.0, 0.0, 0.0]\n",
       "1089     [3.0, 3.0, 2780.0, 6000.0, 2.0, 0.0, 0.0, 3.0, 9.0, 2780.0, 0.0, 47.5184, -121.886, 2850.0, 6000.0, 10.0, 0.0, 0.0]\n",
       "\n",
       "[1090 rows x 1 columns]"
      ]
     },
     "execution_count": 8,
     "metadata": {},
     "output_type": "execute_result"
    }
   ],
   "source": [
    "_vars = ['bedrooms', 'bathrooms', 'sqft_living', 'sqft_lot', 'floors', 'waterfront', 'view',\n",
    "'condition', 'grade', 'sqft_above', 'sqft_basement', 'lat', 'long', 'sqft_living15', 'sqft_lot15', 'house_age', 'renovated', 'yrs_since_reno']\n",
    "\n",
    "def create_features(housing_data):\n",
    "    thisyear = datetime.datetime.now().year\n",
    "    housing_data['house_age'] = thisyear - housing_data['yr_built']\n",
    "    housing_data['renovated'] =  np.where((housing_data['yr_renovated'] > 0), 1, 0) \n",
    "    housing_data['yrs_since_reno'] =  np.where(housing_data['renovated'], housing_data['yr_renovated'] - housing_data['yr_built'], 0)\n",
    "    return pd.DataFrame({\n",
    "        \"tensor\": housing_data.loc[:, _vars].to_numpy().tolist()\n",
    "        }\n",
    "    )\n",
    "\n",
    "evaluation_frame = create_features(newbatch)\n",
    "evaluation_frame"
   ]
  },
  {
   "cell_type": "code",
   "execution_count": 9,
   "metadata": {},
   "outputs": [
    {
     "data": {
      "text/html": [
       "<div>\n",
       "<style scoped>\n",
       "    .dataframe tbody tr th:only-of-type {\n",
       "        vertical-align: middle;\n",
       "    }\n",
       "\n",
       "    .dataframe tbody tr th {\n",
       "        vertical-align: top;\n",
       "    }\n",
       "\n",
       "    .dataframe thead th {\n",
       "        text-align: right;\n",
       "    }\n",
       "</style>\n",
       "<table border=\"1\" class=\"dataframe\">\n",
       "  <thead>\n",
       "    <tr style=\"text-align: right;\">\n",
       "      <th></th>\n",
       "      <th>prediction</th>\n",
       "    </tr>\n",
       "  </thead>\n",
       "  <tbody>\n",
       "    <tr>\n",
       "      <th>0</th>\n",
       "      <td>508255.0</td>\n",
       "    </tr>\n",
       "    <tr>\n",
       "      <th>1</th>\n",
       "      <td>500198.0</td>\n",
       "    </tr>\n",
       "    <tr>\n",
       "      <th>2</th>\n",
       "      <td>539598.0</td>\n",
       "    </tr>\n",
       "    <tr>\n",
       "      <th>3</th>\n",
       "      <td>270739.0</td>\n",
       "    </tr>\n",
       "    <tr>\n",
       "      <th>4</th>\n",
       "      <td>191304.0</td>\n",
       "    </tr>\n",
       "  </tbody>\n",
       "</table>\n",
       "</div>"
      ],
      "text/plain": [
       "   prediction\n",
       "0    508255.0\n",
       "1    500198.0\n",
       "2    539598.0\n",
       "3    270739.0\n",
       "4    191304.0"
      ]
     },
     "metadata": {},
     "output_type": "display_data"
    }
   ],
   "source": [
    "# query = {'query': newbatch.to_json()}\n",
    "\n",
    "result = pipeline.infer(evaluation_frame)\n",
    "# display(result)\n",
    "predicted_prices = pd.DataFrame(result['out.variable'].apply(lambda x: x[0])).rename(columns={'out.variable':'prediction'})\n",
    "display(predicted_prices[0:5])"
   ]
  },
  {
   "attachments": {},
   "cell_type": "markdown",
   "metadata": {},
   "source": [
    "### Send Predictions to Results Staging Table\n",
    "\n",
    "Take the predicted prices based on the inference results so they can be joined into the `house_listings` table.\n",
    "\n",
    "Once complete, undeploy the pipeline to return the resources back to the Kubernetes environment."
   ]
  },
  {
   "cell_type": "code",
   "execution_count": 10,
   "metadata": {},
   "outputs": [
    {
     "data": {
      "text/html": [
       "<div>\n",
       "<style scoped>\n",
       "    .dataframe tbody tr th:only-of-type {\n",
       "        vertical-align: middle;\n",
       "    }\n",
       "\n",
       "    .dataframe tbody tr th {\n",
       "        vertical-align: top;\n",
       "    }\n",
       "\n",
       "    .dataframe thead th {\n",
       "        text-align: right;\n",
       "    }\n",
       "</style>\n",
       "<table border=\"1\" class=\"dataframe\">\n",
       "  <thead>\n",
       "    <tr style=\"text-align: right;\">\n",
       "      <th></th>\n",
       "      <th>id</th>\n",
       "      <th>saleprice_estimate</th>\n",
       "    </tr>\n",
       "  </thead>\n",
       "  <tbody>\n",
       "    <tr>\n",
       "      <th>0</th>\n",
       "      <td>9215400105</td>\n",
       "      <td>508255.0</td>\n",
       "    </tr>\n",
       "    <tr>\n",
       "      <th>1</th>\n",
       "      <td>1695900060</td>\n",
       "      <td>500198.0</td>\n",
       "    </tr>\n",
       "    <tr>\n",
       "      <th>2</th>\n",
       "      <td>9545240070</td>\n",
       "      <td>539598.0</td>\n",
       "    </tr>\n",
       "    <tr>\n",
       "      <th>3</th>\n",
       "      <td>1432900240</td>\n",
       "      <td>270739.0</td>\n",
       "    </tr>\n",
       "    <tr>\n",
       "      <th>4</th>\n",
       "      <td>6131600075</td>\n",
       "      <td>191304.0</td>\n",
       "    </tr>\n",
       "    <tr>\n",
       "      <th>...</th>\n",
       "      <td>...</td>\n",
       "      <td>...</td>\n",
       "    </tr>\n",
       "    <tr>\n",
       "      <th>1085</th>\n",
       "      <td>3304300300</td>\n",
       "      <td>577492.0</td>\n",
       "    </tr>\n",
       "    <tr>\n",
       "      <th>1086</th>\n",
       "      <td>6453550090</td>\n",
       "      <td>882930.0</td>\n",
       "    </tr>\n",
       "    <tr>\n",
       "      <th>1087</th>\n",
       "      <td>1760650820</td>\n",
       "      <td>271484.0</td>\n",
       "    </tr>\n",
       "    <tr>\n",
       "      <th>1088</th>\n",
       "      <td>3345700207</td>\n",
       "      <td>537434.0</td>\n",
       "    </tr>\n",
       "    <tr>\n",
       "      <th>1089</th>\n",
       "      <td>7853420110</td>\n",
       "      <td>634226.0</td>\n",
       "    </tr>\n",
       "  </tbody>\n",
       "</table>\n",
       "<p>1090 rows × 2 columns</p>\n",
       "</div>"
      ],
      "text/plain": [
       "              id  saleprice_estimate\n",
       "0     9215400105            508255.0\n",
       "1     1695900060            500198.0\n",
       "2     9545240070            539598.0\n",
       "3     1432900240            270739.0\n",
       "4     6131600075            191304.0\n",
       "...          ...                 ...\n",
       "1085  3304300300            577492.0\n",
       "1086  6453550090            882930.0\n",
       "1087  1760650820            271484.0\n",
       "1088  3345700207            537434.0\n",
       "1089  7853420110            634226.0\n",
       "\n",
       "[1090 rows x 2 columns]"
      ]
     },
     "metadata": {},
     "output_type": "display_data"
    }
   ],
   "source": [
    "result_table = pd.DataFrame({\n",
    "    'id': newbatch['id'],\n",
    "    'saleprice_estimate': predicted_prices['prediction']\n",
    "})\n",
    "\n",
    "display(result_table)\n",
    "\n",
    "result_table.to_sql('results_table', conn, index=False, if_exists='append')"
   ]
  },
  {
   "cell_type": "code",
   "execution_count": 11,
   "metadata": {},
   "outputs": [
    {
     "data": {
      "text/html": [
       "<div>\n",
       "<style scoped>\n",
       "    .dataframe tbody tr th:only-of-type {\n",
       "        vertical-align: middle;\n",
       "    }\n",
       "\n",
       "    .dataframe tbody tr th {\n",
       "        vertical-align: top;\n",
       "    }\n",
       "\n",
       "    .dataframe thead th {\n",
       "        text-align: right;\n",
       "    }\n",
       "</style>\n",
       "<table border=\"1\" class=\"dataframe\">\n",
       "  <thead>\n",
       "    <tr style=\"text-align: right;\">\n",
       "      <th></th>\n",
       "      <th>id</th>\n",
       "      <th>saleprice_estimate</th>\n",
       "    </tr>\n",
       "  </thead>\n",
       "  <tbody>\n",
       "    <tr>\n",
       "      <th>0</th>\n",
       "      <td>9215400105</td>\n",
       "      <td>508255.0</td>\n",
       "    </tr>\n",
       "    <tr>\n",
       "      <th>1</th>\n",
       "      <td>1695900060</td>\n",
       "      <td>500198.0</td>\n",
       "    </tr>\n",
       "    <tr>\n",
       "      <th>2</th>\n",
       "      <td>9545240070</td>\n",
       "      <td>539598.0</td>\n",
       "    </tr>\n",
       "    <tr>\n",
       "      <th>3</th>\n",
       "      <td>1432900240</td>\n",
       "      <td>270739.0</td>\n",
       "    </tr>\n",
       "    <tr>\n",
       "      <th>4</th>\n",
       "      <td>6131600075</td>\n",
       "      <td>191304.0</td>\n",
       "    </tr>\n",
       "  </tbody>\n",
       "</table>\n",
       "</div>"
      ],
      "text/plain": [
       "           id  saleprice_estimate\n",
       "0  9215400105            508255.0\n",
       "1  1695900060            500198.0\n",
       "2  9545240070            539598.0\n",
       "3  1432900240            270739.0\n",
       "4  6131600075            191304.0"
      ]
     },
     "execution_count": 11,
     "metadata": {},
     "output_type": "execute_result"
    }
   ],
   "source": [
    "# Display the top of the table for confirmation\n",
    "pd.read_sql_query(\"select * from results_table limit 5\", conn)"
   ]
  },
  {
   "cell_type": "code",
   "execution_count": 12,
   "metadata": {},
   "outputs": [
    {
     "data": {
      "text/html": [
       "<table><tr><th>name</th> <td>housing-pipe</td></tr><tr><th>created</th> <td>2023-09-05 18:08:50.854139+00:00</td></tr><tr><th>last_updated</th> <td>2023-09-05 19:05:23.216037+00:00</td></tr><tr><th>deployed</th> <td>False</td></tr><tr><th>tags</th> <td></td></tr><tr><th>versions</th> <td>671acb30-b6f3-4b24-83ed-390b9aaa29fd, 7341d56f-d9e0-45e6-ad07-a36b136264d1, d7f48b2c-93f4-48d3-80b6-399c30eeb3d7, 8f199fb9-cb4b-4e2b-9a91-35c002016018, dc3351f3-408d-46a4-b761-d22d24f83a2b, 6006adf0-3244-4490-9fd6-229a86c72a73, c81ee0b1-bb26-40ea-bba0-c1eab788f41f, fa1f1348-0b8a-46c7-8c4c-dde666a2ca41</td></tr><tr><th>steps</th> <td>housepricemodel</td></tr><tr><th>published</th> <td>False</td></tr></table>"
      ],
      "text/plain": [
       "{'name': 'housing-pipe', 'create_time': datetime.datetime(2023, 9, 5, 18, 8, 50, 854139, tzinfo=tzutc()), 'definition': \"[{'ModelInference': {'models': [{'name': 'housepricemodel', 'version': '6787ee0a-5a56-464f-ab6b-23c076ed080b', 'sha': '7404007c88906331c8159c42379f30966a21fd29fe2629049e69541d0083db9a'}]}}, {'ModelInference': {'models': [{'name': 'postprocess', 'version': 'f7ff9062-8890-49ac-989c-8be2652c20fd', 'sha': 'd6bb78f3d5635f2d30974bd0681348e3f1bcf370300d0e94f02e531157e636ba'}]}}]\"}"
      ]
     },
     "execution_count": 12,
     "metadata": {},
     "output_type": "execute_result"
    }
   ],
   "source": [
    "conn.close()\n",
    "pipeline.undeploy()"
   ]
  },
  {
   "attachments": {},
   "cell_type": "markdown",
   "metadata": {},
   "source": [
    "From here, organizations can automate this process.  Other features could be used such as data analysis using Wallaroo assays, or other features such as shadow deployments to test champion and challenger models to find which models provide the best results."
   ]
  }
 ],
 "metadata": {
  "kernelspec": {
   "display_name": "Python 3 (ipykernel)",
   "language": "python",
   "name": "python3"
  },
  "language_info": {
   "codemirror_mode": {
    "name": "ipython",
    "version": 3
   },
   "file_extension": ".py",
   "mimetype": "text/x-python",
   "name": "python",
   "nbconvert_exporter": "python",
   "pygments_lexer": "ipython3",
   "version": "3.8.17"
  },
  "vscode": {
   "interpreter": {
    "hash": "7dda4bf3640b7fafcd1648658b879b4cc9f6ba6084e8fb356fdaaa1a461d1690"
   }
  }
 },
 "nbformat": 4,
 "nbformat_minor": 4
}
