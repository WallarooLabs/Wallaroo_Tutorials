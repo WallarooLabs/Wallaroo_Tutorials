{
 "cells": [
  {
   "attachments": {},
   "cell_type": "markdown",
   "metadata": {},
   "source": [
    "The following tutorials are available from the [Wallaroo Tutorials Repository](https://github.com/WallarooLabs/Wallaroo_Tutorials/tree/main/notebooks_in_prod).\n",
    "\n",
    "# Stage 4: Regular Batch Inference\n",
    "\n",
    "In Stage 3: Deploy the Model in Wallaroo, the housing model created and tested in Stage 2: Training Process Automation Setup was uploaded to a Wallaroo instance and added to the pipeline `housing-pipe` in the workspace `housepricing`.  This pipeline can be deployed at any point and time and used with new inferences.\n",
    "\n",
    "For the purposes of this demo, let's say that every month we find the newly entered and still-unsold houses and predict their sale price.\n",
    "\n",
    "The predictions are entered into a staging table, for further inspection before being joined to the primary housing data table.\n",
    "\n",
    "We show this as a notebook, but this can also be scripted and scheduled, using CRON or some other process.\n",
    "\n",
    "## Resources\n",
    "\n",
    "The following resources are used as part of this tutorial:\n",
    "\n",
    "* **data**\n",
    "  * `data/seattle_housing_col_description.txt`: Describes the columns used as part data analysis.\n",
    "  * `data/seattle_housing.csv`: Sample data of the Seattle, Washington housing market between 2014 and 2015.\n",
    "* **code**\n",
    "  * `postprocess.py`: Formats the data after inference by the model is complete.\n",
    "  * `simdb.py`: A simulated database to demonstrate sending and receiving queries.\n",
    "  * `wallaroo_client.py`: Additional methods used with the Wallaroo instance to create workspaces, etc.\n",
    "* **models**\n",
    "  * `housing_model_xgb.onnx`: Model created in Stage 2: Training Process Automation Setup."
   ]
  },
  {
   "attachments": {},
   "cell_type": "markdown",
   "metadata": {},
   "source": [
    "## Steps\n",
    "\n",
    "This process will use the following steps:\n",
    "\n",
    "* [Connect to Wallaroo](#connect-to-wallaroo): Connect to the Wallaroo instance and the `housepricing` workspace.\n",
    "* [Deploy the Pipeline](#deploy-the-pipeline): Deploy the pipeline to prepare it to run inferences.\n",
    "* [Read In New House Listings](#read-in-new-house-listings): Read in the previous month's house listings and submit them to the pipeline for inference.\n",
    "* [Send Predictions to Results Staging Table](#send-predictions-to-results-staging-table): Add the inference results to the results staging table."
   ]
  },
  {
   "attachments": {},
   "cell_type": "markdown",
   "metadata": {},
   "source": [
    "### Connect to Wallaroo\n",
    "\n",
    "Connect to the Wallaroo instance and set the `housepricing` workspace as the current workspace."
   ]
  },
  {
   "cell_type": "code",
   "execution_count": 1,
   "metadata": {},
   "outputs": [],
   "source": [
    "import json\n",
    "import pickle\n",
    "import wallaroo\n",
    "import pandas as pd\n",
    "import numpy as np\n",
    "import pyarrow as pa\n",
    "import datetime\n",
    "\n",
    "import simdb # module for the purpose of this demo to simulate pulling data from a database\n",
    "\n",
    "from wallaroo_client import get_workspace\n",
    "\n",
    "# used to display dataframe information without truncating\n",
    "from IPython.display import display\n",
    "pd.set_option('display.max_colwidth', None)\n"
   ]
  },
  {
   "attachments": {},
   "cell_type": "markdown",
   "metadata": {},
   "source": [
    "### Connect to the Wallaroo Instance\n",
    "\n",
    "The first step is to connect to Wallaroo through the Wallaroo client.  The Python library is included in the Wallaroo install and available through the Jupyter Hub interface provided with your Wallaroo environment.\n",
    "\n",
    "This is accomplished using the `wallaroo.Client()` command, which provides a URL to grant the SDK permission to your specific Wallaroo environment.  When displayed, enter the URL into a browser and confirm permissions.  Store the connection into a variable that can be referenced later.\n",
    "\n",
    "If logging into the Wallaroo instance through the internal JupyterHub service, use `wl = wallaroo.Client()`.  For more information on Wallaroo Client settings, see the [Client Connection guide](https://docs.wallaroo.ai/wallaroo-developer-guides/wallaroo-sdk-guides/wallaroo-sdk-essentials-guide/wallaroo-sdk-essentials-client/)."
   ]
  },
  {
   "cell_type": "code",
   "execution_count": 2,
   "metadata": {},
   "outputs": [],
   "source": [
    "# Login through local Wallaroo instance\n",
    "\n",
    "wl = wallaroo.Client()"
   ]
  },
  {
   "cell_type": "code",
   "execution_count": 3,
   "metadata": {},
   "outputs": [],
   "source": [
    "def get_workspace(name):\n",
    "    workspace = None\n",
    "    for ws in wl.list_workspaces():\n",
    "        if ws.name() == name:\n",
    "            workspace= ws\n",
    "    if(workspace == None):\n",
    "        workspace = wl.create_workspace(name)\n",
    "    return workspace\n",
    "\n",
    "def get_pipeline(name):\n",
    "    try:\n",
    "        pipeline = wl.pipelines_by_name(name)[0]\n",
    "    except EntityNotFoundError:\n",
    "        pipeline = wl.build_pipeline(name)\n",
    "    return pipeline"
   ]
  },
  {
   "cell_type": "code",
   "execution_count": 4,
   "metadata": {},
   "outputs": [],
   "source": [
    "workspace_name = 'housepricing'\n",
    "model_name = \"housepricemodel\"\n",
    "model_file = \"./housing_model_xgb.onnx\"\n",
    "pipeline_name = \"housing-pipe\""
   ]
  },
  {
   "cell_type": "code",
   "execution_count": 5,
   "metadata": {},
   "outputs": [],
   "source": [
    "new_workspace = get_workspace(workspace_name)\n",
    "_ = wl.set_current_workspace(new_workspace)"
   ]
  },
  {
   "attachments": {},
   "cell_type": "markdown",
   "metadata": {},
   "source": [
    "### Deploy the Pipeline\n",
    "\n",
    "Deploy the `housing-pipe` workspace established in Stage 3: Deploy the Model in Wallaroo (`03_deploy_model.ipynb`)."
   ]
  },
  {
   "cell_type": "code",
   "execution_count": 6,
   "metadata": {},
   "outputs": [
    {
     "data": {
      "text/html": [
       "<table><tr><th>name</th> <td>housing-pipe</td></tr><tr><th>created</th> <td>2023-09-12 17:35:52.273091+00:00</td></tr><tr><th>last_updated</th> <td>2023-09-12 17:37:27.074611+00:00</td></tr><tr><th>deployed</th> <td>True</td></tr><tr><th>tags</th> <td></td></tr><tr><th>versions</th> <td>d957ce8d-9d70-477e-bc03-d58b70cd047a, ba8a411e-9318-4ba5-95f5-22c22be8c064, ab42a8de-3551-4551-bc36-9a71d323f81c</td></tr><tr><th>steps</th> <td>preprocess</td></tr><tr><th>published</th> <td>False</td></tr></table>"
      ],
      "text/plain": [
       "{'name': 'housing-pipe', 'create_time': datetime.datetime(2023, 9, 12, 17, 35, 52, 273091, tzinfo=tzutc()), 'definition': \"[{'ModelInference': {'models': [{'name': 'preprocess', 'version': '16d82ba9-e9d5-4dab-a6f2-f74ffeace1ef', 'sha': '5efdef46f069584318a04d1b05ce280bd0a75218019352df65def74dd6242bff'}]}}, {'ModelInference': {'models': [{'name': 'housepricemodel', 'version': 'd4148347-9521-469b-90cc-2e5199c726c4', 'sha': '7404007c88906331c8159c42379f30966a21fd29fe2629049e69541d0083db9a'}]}}, {'ModelInference': {'models': [{'name': 'postprocess', 'version': 'eedafc2e-75f8-457b-92ec-71d5d880c219', 'sha': 'd6bb78f3d5635f2d30974bd0681348e3f1bcf370300d0e94f02e531157e636ba'}]}}]\"}"
      ]
     },
     "execution_count": 6,
     "metadata": {},
     "output_type": "execute_result"
    }
   ],
   "source": [
    "pipeline = get_pipeline(pipeline_name)\n",
    "pipeline.deploy()"
   ]
  },
  {
   "attachments": {},
   "cell_type": "markdown",
   "metadata": {},
   "source": [
    "### Read In New House Listings\n",
    "\n",
    "From the data store, load the previous month's house listing, prepare it as a DataFrame, then submit it for inferencing."
   ]
  },
  {
   "cell_type": "code",
   "execution_count": 7,
   "metadata": {},
   "outputs": [
    {
     "name": "stdout",
     "output_type": "stream",
     "text": [
      "select * from house_listings where date > DATE(DATE(), '-1 month') AND sale_price is NULL\n"
     ]
    },
    {
     "data": {
      "text/plain": [
       "(1090, 22)"
      ]
     },
     "metadata": {},
     "output_type": "display_data"
    },
    {
     "data": {
      "text/html": [
       "<div>\n",
       "<style scoped>\n",
       "    .dataframe tbody tr th:only-of-type {\n",
       "        vertical-align: middle;\n",
       "    }\n",
       "\n",
       "    .dataframe tbody tr th {\n",
       "        vertical-align: top;\n",
       "    }\n",
       "\n",
       "    .dataframe thead th {\n",
       "        text-align: right;\n",
       "    }\n",
       "</style>\n",
       "<table border=\"1\" class=\"dataframe\">\n",
       "  <thead>\n",
       "    <tr style=\"text-align: right;\">\n",
       "      <th></th>\n",
       "      <th>id</th>\n",
       "      <th>date</th>\n",
       "      <th>list_price</th>\n",
       "      <th>bedrooms</th>\n",
       "      <th>bathrooms</th>\n",
       "      <th>sqft_living</th>\n",
       "      <th>sqft_lot</th>\n",
       "    </tr>\n",
       "  </thead>\n",
       "  <tbody>\n",
       "    <tr>\n",
       "      <th>0</th>\n",
       "      <td>9215400105</td>\n",
       "      <td>2023-08-14</td>\n",
       "      <td>450000.0</td>\n",
       "      <td>3</td>\n",
       "      <td>1.75</td>\n",
       "      <td>1250</td>\n",
       "      <td>5963</td>\n",
       "    </tr>\n",
       "    <tr>\n",
       "      <th>1</th>\n",
       "      <td>1695900060</td>\n",
       "      <td>2023-08-27</td>\n",
       "      <td>535000.0</td>\n",
       "      <td>4</td>\n",
       "      <td>1.00</td>\n",
       "      <td>1610</td>\n",
       "      <td>2982</td>\n",
       "    </tr>\n",
       "    <tr>\n",
       "      <th>2</th>\n",
       "      <td>9545240070</td>\n",
       "      <td>2023-08-14</td>\n",
       "      <td>660500.0</td>\n",
       "      <td>4</td>\n",
       "      <td>2.25</td>\n",
       "      <td>2010</td>\n",
       "      <td>9603</td>\n",
       "    </tr>\n",
       "    <tr>\n",
       "      <th>3</th>\n",
       "      <td>1432900240</td>\n",
       "      <td>2023-08-24</td>\n",
       "      <td>205000.0</td>\n",
       "      <td>3</td>\n",
       "      <td>1.00</td>\n",
       "      <td>1610</td>\n",
       "      <td>8579</td>\n",
       "    </tr>\n",
       "    <tr>\n",
       "      <th>4</th>\n",
       "      <td>6131600075</td>\n",
       "      <td>2023-08-13</td>\n",
       "      <td>225000.0</td>\n",
       "      <td>3</td>\n",
       "      <td>1.00</td>\n",
       "      <td>1300</td>\n",
       "      <td>8316</td>\n",
       "    </tr>\n",
       "    <tr>\n",
       "      <th>5</th>\n",
       "      <td>1400300055</td>\n",
       "      <td>2023-08-14</td>\n",
       "      <td>425000.0</td>\n",
       "      <td>2</td>\n",
       "      <td>1.00</td>\n",
       "      <td>770</td>\n",
       "      <td>5040</td>\n",
       "    </tr>\n",
       "    <tr>\n",
       "      <th>6</th>\n",
       "      <td>7960900060</td>\n",
       "      <td>2023-08-20</td>\n",
       "      <td>2900000.0</td>\n",
       "      <td>4</td>\n",
       "      <td>3.25</td>\n",
       "      <td>5050</td>\n",
       "      <td>20100</td>\n",
       "    </tr>\n",
       "    <tr>\n",
       "      <th>7</th>\n",
       "      <td>6378500125</td>\n",
       "      <td>2023-08-17</td>\n",
       "      <td>436000.0</td>\n",
       "      <td>2</td>\n",
       "      <td>1.00</td>\n",
       "      <td>1040</td>\n",
       "      <td>7538</td>\n",
       "    </tr>\n",
       "    <tr>\n",
       "      <th>8</th>\n",
       "      <td>2022069200</td>\n",
       "      <td>2023-08-21</td>\n",
       "      <td>455000.0</td>\n",
       "      <td>4</td>\n",
       "      <td>2.50</td>\n",
       "      <td>2210</td>\n",
       "      <td>49375</td>\n",
       "    </tr>\n",
       "    <tr>\n",
       "      <th>9</th>\n",
       "      <td>9412900055</td>\n",
       "      <td>2023-08-21</td>\n",
       "      <td>405000.0</td>\n",
       "      <td>3</td>\n",
       "      <td>1.75</td>\n",
       "      <td>2390</td>\n",
       "      <td>6000</td>\n",
       "    </tr>\n",
       "  </tbody>\n",
       "</table>\n",
       "</div>"
      ],
      "text/plain": [
       "           id        date  list_price  bedrooms  bathrooms  sqft_living  \\\n",
       "0  9215400105  2023-08-14    450000.0         3       1.75         1250   \n",
       "1  1695900060  2023-08-27    535000.0         4       1.00         1610   \n",
       "2  9545240070  2023-08-14    660500.0         4       2.25         2010   \n",
       "3  1432900240  2023-08-24    205000.0         3       1.00         1610   \n",
       "4  6131600075  2023-08-13    225000.0         3       1.00         1300   \n",
       "5  1400300055  2023-08-14    425000.0         2       1.00          770   \n",
       "6  7960900060  2023-08-20   2900000.0         4       3.25         5050   \n",
       "7  6378500125  2023-08-17    436000.0         2       1.00         1040   \n",
       "8  2022069200  2023-08-21    455000.0         4       2.50         2210   \n",
       "9  9412900055  2023-08-21    405000.0         3       1.75         2390   \n",
       "\n",
       "   sqft_lot  \n",
       "0      5963  \n",
       "1      2982  \n",
       "2      9603  \n",
       "3      8579  \n",
       "4      8316  \n",
       "5      5040  \n",
       "6     20100  \n",
       "7      7538  \n",
       "8     49375  \n",
       "9      6000  "
      ]
     },
     "metadata": {},
     "output_type": "display_data"
    }
   ],
   "source": [
    "conn = simdb.simulate_db_connection()\n",
    "\n",
    "\n",
    "\n",
    "# create the query\n",
    "query = f\"select * from {simdb.tablename} where date > DATE(DATE(), '-1 month') AND sale_price is NULL\"\n",
    "print(query)\n",
    "\n",
    "# read in the data\n",
    "# can't have null values - turn them into 0\n",
    "newbatch = pd.read_sql_query(query, conn)\n",
    "newbatch['sale_price'] = newbatch.sale_price.apply(lambda x: 0)\n",
    "display(newbatch.shape)\n",
    "display(newbatch.head(10).loc[:, [\"id\", \"date\", \"list_price\", \"bedrooms\", \"bathrooms\", \"sqft_living\", \"sqft_lot\"]])"
   ]
  },
  {
   "cell_type": "code",
   "execution_count": 8,
   "metadata": {},
   "outputs": [
    {
     "data": {
      "text/html": [
       "<div>\n",
       "<style scoped>\n",
       "    .dataframe tbody tr th:only-of-type {\n",
       "        vertical-align: middle;\n",
       "    }\n",
       "\n",
       "    .dataframe tbody tr th {\n",
       "        vertical-align: top;\n",
       "    }\n",
       "\n",
       "    .dataframe thead th {\n",
       "        text-align: right;\n",
       "    }\n",
       "</style>\n",
       "<table border=\"1\" class=\"dataframe\">\n",
       "  <thead>\n",
       "    <tr style=\"text-align: right;\">\n",
       "      <th></th>\n",
       "      <th>prediction</th>\n",
       "    </tr>\n",
       "  </thead>\n",
       "  <tbody>\n",
       "    <tr>\n",
       "      <th>0</th>\n",
       "      <td>508255.0</td>\n",
       "    </tr>\n",
       "    <tr>\n",
       "      <th>1</th>\n",
       "      <td>500198.0</td>\n",
       "    </tr>\n",
       "    <tr>\n",
       "      <th>2</th>\n",
       "      <td>539598.0</td>\n",
       "    </tr>\n",
       "    <tr>\n",
       "      <th>3</th>\n",
       "      <td>270739.0</td>\n",
       "    </tr>\n",
       "    <tr>\n",
       "      <th>4</th>\n",
       "      <td>191304.0</td>\n",
       "    </tr>\n",
       "  </tbody>\n",
       "</table>\n",
       "</div>"
      ],
      "text/plain": [
       "   prediction\n",
       "0    508255.0\n",
       "1    500198.0\n",
       "2    539598.0\n",
       "3    270739.0\n",
       "4    191304.0"
      ]
     },
     "metadata": {},
     "output_type": "display_data"
    }
   ],
   "source": [
    "# query = {'query': newbatch.to_json()}\n",
    "\n",
    "result = pipeline.infer(newbatch)\n",
    "# display(result)\n",
    "predicted_prices = pd.DataFrame(result['out.variable'].apply(lambda x: x[0])).rename(columns={'out.variable':'prediction'})\n",
    "display(predicted_prices[0:5])"
   ]
  },
  {
   "attachments": {},
   "cell_type": "markdown",
   "metadata": {},
   "source": [
    "### Send Predictions to Results Staging Table\n",
    "\n",
    "Take the predicted prices based on the inference results so they can be joined into the `house_listings` table.\n",
    "\n",
    "Once complete, undeploy the pipeline to return the resources back to the Kubernetes environment."
   ]
  },
  {
   "cell_type": "code",
   "execution_count": 9,
   "metadata": {},
   "outputs": [
    {
     "data": {
      "text/html": [
       "<div>\n",
       "<style scoped>\n",
       "    .dataframe tbody tr th:only-of-type {\n",
       "        vertical-align: middle;\n",
       "    }\n",
       "\n",
       "    .dataframe tbody tr th {\n",
       "        vertical-align: top;\n",
       "    }\n",
       "\n",
       "    .dataframe thead th {\n",
       "        text-align: right;\n",
       "    }\n",
       "</style>\n",
       "<table border=\"1\" class=\"dataframe\">\n",
       "  <thead>\n",
       "    <tr style=\"text-align: right;\">\n",
       "      <th></th>\n",
       "      <th>id</th>\n",
       "      <th>saleprice_estimate</th>\n",
       "    </tr>\n",
       "  </thead>\n",
       "  <tbody>\n",
       "    <tr>\n",
       "      <th>0</th>\n",
       "      <td>9215400105</td>\n",
       "      <td>508255.0</td>\n",
       "    </tr>\n",
       "    <tr>\n",
       "      <th>1</th>\n",
       "      <td>1695900060</td>\n",
       "      <td>500198.0</td>\n",
       "    </tr>\n",
       "    <tr>\n",
       "      <th>2</th>\n",
       "      <td>9545240070</td>\n",
       "      <td>539598.0</td>\n",
       "    </tr>\n",
       "    <tr>\n",
       "      <th>3</th>\n",
       "      <td>1432900240</td>\n",
       "      <td>270739.0</td>\n",
       "    </tr>\n",
       "    <tr>\n",
       "      <th>4</th>\n",
       "      <td>6131600075</td>\n",
       "      <td>191304.0</td>\n",
       "    </tr>\n",
       "    <tr>\n",
       "      <th>...</th>\n",
       "      <td>...</td>\n",
       "      <td>...</td>\n",
       "    </tr>\n",
       "    <tr>\n",
       "      <th>1085</th>\n",
       "      <td>3304300300</td>\n",
       "      <td>577492.0</td>\n",
       "    </tr>\n",
       "    <tr>\n",
       "      <th>1086</th>\n",
       "      <td>6453550090</td>\n",
       "      <td>882930.0</td>\n",
       "    </tr>\n",
       "    <tr>\n",
       "      <th>1087</th>\n",
       "      <td>1760650820</td>\n",
       "      <td>271484.0</td>\n",
       "    </tr>\n",
       "    <tr>\n",
       "      <th>1088</th>\n",
       "      <td>3345700207</td>\n",
       "      <td>537434.0</td>\n",
       "    </tr>\n",
       "    <tr>\n",
       "      <th>1089</th>\n",
       "      <td>7853420110</td>\n",
       "      <td>634226.0</td>\n",
       "    </tr>\n",
       "  </tbody>\n",
       "</table>\n",
       "<p>1090 rows × 2 columns</p>\n",
       "</div>"
      ],
      "text/plain": [
       "              id  saleprice_estimate\n",
       "0     9215400105            508255.0\n",
       "1     1695900060            500198.0\n",
       "2     9545240070            539598.0\n",
       "3     1432900240            270739.0\n",
       "4     6131600075            191304.0\n",
       "...          ...                 ...\n",
       "1085  3304300300            577492.0\n",
       "1086  6453550090            882930.0\n",
       "1087  1760650820            271484.0\n",
       "1088  3345700207            537434.0\n",
       "1089  7853420110            634226.0\n",
       "\n",
       "[1090 rows x 2 columns]"
      ]
     },
     "metadata": {},
     "output_type": "display_data"
    }
   ],
   "source": [
    "result_table = pd.DataFrame({\n",
    "    'id': newbatch['id'],\n",
    "    'saleprice_estimate': predicted_prices['prediction']\n",
    "})\n",
    "\n",
    "display(result_table)\n",
    "\n",
    "result_table.to_sql('results_table', conn, index=False, if_exists='append')"
   ]
  },
  {
   "cell_type": "code",
   "execution_count": 10,
   "metadata": {},
   "outputs": [
    {
     "data": {
      "text/html": [
       "<div>\n",
       "<style scoped>\n",
       "    .dataframe tbody tr th:only-of-type {\n",
       "        vertical-align: middle;\n",
       "    }\n",
       "\n",
       "    .dataframe tbody tr th {\n",
       "        vertical-align: top;\n",
       "    }\n",
       "\n",
       "    .dataframe thead th {\n",
       "        text-align: right;\n",
       "    }\n",
       "</style>\n",
       "<table border=\"1\" class=\"dataframe\">\n",
       "  <thead>\n",
       "    <tr style=\"text-align: right;\">\n",
       "      <th></th>\n",
       "      <th>id</th>\n",
       "      <th>saleprice_estimate</th>\n",
       "    </tr>\n",
       "  </thead>\n",
       "  <tbody>\n",
       "    <tr>\n",
       "      <th>0</th>\n",
       "      <td>9215400105</td>\n",
       "      <td>508255.0</td>\n",
       "    </tr>\n",
       "    <tr>\n",
       "      <th>1</th>\n",
       "      <td>1695900060</td>\n",
       "      <td>500198.0</td>\n",
       "    </tr>\n",
       "    <tr>\n",
       "      <th>2</th>\n",
       "      <td>9545240070</td>\n",
       "      <td>539598.0</td>\n",
       "    </tr>\n",
       "    <tr>\n",
       "      <th>3</th>\n",
       "      <td>1432900240</td>\n",
       "      <td>270739.0</td>\n",
       "    </tr>\n",
       "    <tr>\n",
       "      <th>4</th>\n",
       "      <td>6131600075</td>\n",
       "      <td>191304.0</td>\n",
       "    </tr>\n",
       "  </tbody>\n",
       "</table>\n",
       "</div>"
      ],
      "text/plain": [
       "           id  saleprice_estimate\n",
       "0  9215400105            508255.0\n",
       "1  1695900060            500198.0\n",
       "2  9545240070            539598.0\n",
       "3  1432900240            270739.0\n",
       "4  6131600075            191304.0"
      ]
     },
     "execution_count": 10,
     "metadata": {},
     "output_type": "execute_result"
    }
   ],
   "source": [
    "# Display the top of the table for confirmation\n",
    "pd.read_sql_query(\"select * from results_table limit 5\", conn)"
   ]
  },
  {
   "cell_type": "code",
   "execution_count": 11,
   "metadata": {},
   "outputs": [
    {
     "data": {
      "text/html": [
       "<table><tr><th>name</th> <td>housing-pipe</td></tr><tr><th>created</th> <td>2023-09-12 17:35:52.273091+00:00</td></tr><tr><th>last_updated</th> <td>2023-09-12 17:37:27.074611+00:00</td></tr><tr><th>deployed</th> <td>False</td></tr><tr><th>tags</th> <td></td></tr><tr><th>versions</th> <td>d957ce8d-9d70-477e-bc03-d58b70cd047a, ba8a411e-9318-4ba5-95f5-22c22be8c064, ab42a8de-3551-4551-bc36-9a71d323f81c</td></tr><tr><th>steps</th> <td>preprocess</td></tr><tr><th>published</th> <td>False</td></tr></table>"
      ],
      "text/plain": [
       "{'name': 'housing-pipe', 'create_time': datetime.datetime(2023, 9, 12, 17, 35, 52, 273091, tzinfo=tzutc()), 'definition': \"[{'ModelInference': {'models': [{'name': 'preprocess', 'version': '16d82ba9-e9d5-4dab-a6f2-f74ffeace1ef', 'sha': '5efdef46f069584318a04d1b05ce280bd0a75218019352df65def74dd6242bff'}]}}, {'ModelInference': {'models': [{'name': 'housepricemodel', 'version': 'd4148347-9521-469b-90cc-2e5199c726c4', 'sha': '7404007c88906331c8159c42379f30966a21fd29fe2629049e69541d0083db9a'}]}}, {'ModelInference': {'models': [{'name': 'postprocess', 'version': 'eedafc2e-75f8-457b-92ec-71d5d880c219', 'sha': 'd6bb78f3d5635f2d30974bd0681348e3f1bcf370300d0e94f02e531157e636ba'}]}}]\"}"
      ]
     },
     "execution_count": 11,
     "metadata": {},
     "output_type": "execute_result"
    }
   ],
   "source": [
    "conn.close()\n",
    "pipeline.undeploy()"
   ]
  },
  {
   "attachments": {},
   "cell_type": "markdown",
   "metadata": {},
   "source": [
    "From here, organizations can automate this process.  Other features could be used such as data analysis using Wallaroo assays, or other features such as shadow deployments to test champion and challenger models to find which models provide the best results."
   ]
  }
 ],
 "metadata": {
  "kernelspec": {
   "display_name": "Python 3 (ipykernel)",
   "language": "python",
   "name": "python3"
  },
  "language_info": {
   "codemirror_mode": {
    "name": "ipython",
    "version": 3
   },
   "file_extension": ".py",
   "mimetype": "text/x-python",
   "name": "python",
   "nbconvert_exporter": "python",
   "pygments_lexer": "ipython3",
   "version": "3.8.17"
  },
  "vscode": {
   "interpreter": {
    "hash": "7dda4bf3640b7fafcd1648658b879b4cc9f6ba6084e8fb356fdaaa1a461d1690"
   }
  }
 },
 "nbformat": 4,
 "nbformat_minor": 4
}
