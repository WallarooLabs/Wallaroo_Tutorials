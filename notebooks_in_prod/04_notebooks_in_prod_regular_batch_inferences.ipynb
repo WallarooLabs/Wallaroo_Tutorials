{
 "cells": [
  {
   "cell_type": "markdown",
   "metadata": {},
   "source": [
    "For more details on this tutorial's setup and process, see `00_Introduction.ipynb`.\n",
    "\n",
    "# Stage 4: Regular Batch Inference\n",
    "\n",
    "In Stage 3: Deploy the Model in Wallaroo, the housing model created and tested in Stage 2: Training Process Automation Setup was uploaded to a Wallaroo instance and added to the pipeline `housing-pipe` in the workspace `housepricing`.  This pipeline can be deployed at any point and time and used with new inferences.\n",
    "\n",
    "For the purposes of this demo, let's say that every month we find the newly entered and still-unsold houses and predict their sale price.\n",
    "\n",
    "The predictions are entered into a staging table, for further inspection before being joined to the primary housing data table.\n",
    "\n",
    "We show this as a notebook, but this can also be scripted and scheduled, using CRON or some other process.\n",
    "\n",
    "## Resources\n",
    "\n",
    "The following resources are used as part of this tutorial:\n",
    "\n",
    "* **data**\n",
    "  * `data/seattle_housing_col_description.txt`: Describes the columns used as part data analysis.\n",
    "  * `data/seattle_housing.csv`: Sample data of the Seattle, Washington housing market between 2014 and 2015.\n",
    "* **code**\n",
    "  * `postprocess.py`: Formats the data after inference by the model is complete.\n",
    "  * `preprocess.py`: Formats the incoming data for the model.\n",
    "  * `simdb.py`: A simulated database to demonstrate sending and receiving queries.\n",
    "  * `wallaroo_client.py`: Additional methods used with the Wallaroo instance to create workspaces, etc.\n",
    "* **models**\n",
    "  * `housing_model_xgb.onnx`: Model created in Stage 2: Training Process Automation Setup."
   ]
  },
  {
   "cell_type": "markdown",
   "metadata": {},
   "source": [
    "## Steps\n",
    "\n",
    "This process will use the following steps:\n",
    "\n",
    "* [Connect to Wallaroo](#connect-to-wallaroo): Connect to the Wallaroo instance and the `housepricing` workspace.\n",
    "* [Deploy the Pipeline](#deploy-the-pipeline): Deploy the pipeline to prepare it to run inferences.\n",
    "* [Read In New House Listings](#read-in-new-house-listings): Read in the previous month's house listings and submit them to the pipeline for inference.\n",
    "* [Send Predictions to Results Staging Table](#send-predictions-to-results-staging-table): Add the inference results to the results staging table."
   ]
  },
  {
   "cell_type": "markdown",
   "metadata": {},
   "source": [
    "### Connect to Wallaroo\n",
    "\n",
    "Connect to the Wallaroo instance and set the `housepricing` workspace as the current workspace."
   ]
  },
  {
   "cell_type": "code",
   "execution_count": 1,
   "metadata": {},
   "outputs": [],
   "source": [
    "import json\n",
    "import pickle\n",
    "import wallaroo\n",
    "import pandas as pd\n",
    "import numpy as np\n",
    "import pyarrow as pa\n",
    "\n",
    "import simdb # module for the purpose of this demo to simulate pulling data from a database\n",
    "\n",
    "from wallaroo_client import get_workspace\n",
    "\n",
    "import os\n",
    "# Only set the below to make the OS environment ARROW_ENABLED to TRUE.  Otherwise, leave as is.\n",
    "os.environ[\"ARROW_ENABLED\"]=\"True\"\n",
    "\n",
    "# used to display dataframe information without truncating\n",
    "from IPython.display import display\n",
    "pd.set_option('display.max_colwidth', None)\n",
    "\n",
    "import preprocess\n",
    "\n",
    "import postprocess"
   ]
  },
  {
   "cell_type": "code",
   "execution_count": 2,
   "metadata": {},
   "outputs": [],
   "source": [
    "# Login through local Wallaroo instance\n",
    "\n",
    "wl = wallaroo.Client()\n",
    "\n",
    "# SSO login through keycloak\n",
    "\n",
    "wallarooPrefix = \"YOUR PREFIX\"\n",
    "wallarooSuffix = \"YOUR PREFIX\"\n",
    "\n",
    "wallarooPrefix = \"doc-test\"\n",
    "wallarooSuffix = \"wallaroocommunity.ninja\"\n",
    "\n",
    "wl = wallaroo.Client(api_endpoint=f\"https://{wallarooPrefix}.api.{wallarooSuffix}\", \n",
    "                    auth_endpoint=f\"https://{wallarooPrefix}.keycloak.{wallarooSuffix}\", \n",
    "                    auth_type=\"sso\")"
   ]
  },
  {
   "cell_type": "code",
   "execution_count": 3,
   "metadata": {},
   "outputs": [],
   "source": [
    "def get_workspace(name):\n",
    "    workspace = None\n",
    "    for ws in wl.list_workspaces():\n",
    "        if ws.name() == name:\n",
    "            workspace= ws\n",
    "    if(workspace == None):\n",
    "        workspace = wl.create_workspace(name)\n",
    "    return workspace\n",
    "\n",
    "def get_pipeline(name):\n",
    "    try:\n",
    "        pipeline = wl.pipelines_by_name(name)[0]\n",
    "    except EntityNotFoundError:\n",
    "        pipeline = wl.build_pipeline(name)\n",
    "    return pipeline"
   ]
  },
  {
   "cell_type": "code",
   "execution_count": 4,
   "metadata": {},
   "outputs": [],
   "source": [
    "new_workspace = get_workspace(\"housepricing\")\n",
    "_ = wl.set_current_workspace(new_workspace)"
   ]
  },
  {
   "cell_type": "markdown",
   "metadata": {},
   "source": [
    "### Deploy the Pipeline\n",
    "\n",
    "Deploy the `housing-pipe` workspace established in Stage 3: Deploy the Model in Wallaroo (`03_deploy_model.ipynb`)."
   ]
  },
  {
   "cell_type": "code",
   "execution_count": 5,
   "metadata": {},
   "outputs": [
    {
     "data": {
      "text/html": [
       "<table><tr><th>name</th> <td>housing-pipe</td></tr><tr><th>created</th> <td>2023-04-05 14:12:29.940751+00:00</td></tr><tr><th>last_updated</th> <td>2023-04-05 15:13:24.302152+00:00</td></tr><tr><th>deployed</th> <td>True</td></tr><tr><th>tags</th> <td></td></tr><tr><th>versions</th> <td>67f01bf2-80aa-4a77-a14e-0eb7f69e27c1, af0feb65-387f-41f0-aab7-2bcf4c3fcec4, 0ed359ab-00e0-46ff-9474-b0822594b06c, 3ca8047f-2bda-498d-a877-dd5e094098b1, 523949d2-402f-47cb-a673-f488fb10cd76, c8739f96-4bef-47af-85bb-fd01f49848cb, d7cb9f2d-e494-4c1d-8d95-d00e241dded3, ef16b668-4523-426d-9616-79371a5830ac, 8acb34ff-ade8-435c-bc6f-95bcae2d225d, db908602-2d8f-4013-bdbe-87c697d56d48</td></tr><tr><th>steps</th> <td>housepricemodel</td></tr></table>"
      ],
      "text/plain": [
       "{'name': 'housing-pipe', 'create_time': datetime.datetime(2023, 4, 5, 14, 12, 29, 940751, tzinfo=tzutc()), 'definition': \"[{'ModelInference': {'models': [{'name': 'housepricemodel', 'version': '97338965-853a-4af6-b087-6a3e65b77b15', 'sha': '7404007c88906331c8159c42379f30966a21fd29fe2629049e69541d0083db9a'}]}}]\"}"
      ]
     },
     "execution_count": 5,
     "metadata": {},
     "output_type": "execute_result"
    }
   ],
   "source": [
    "pipeline = wl.pipelines_by_name(\"housing-pipe\")[-1]\n",
    "pipeline.deploy()"
   ]
  },
  {
   "attachments": {},
   "cell_type": "markdown",
   "metadata": {},
   "source": [
    "### Read In New House Listings\n",
    "\n",
    "From the data store, load the previous month's house listing, prepare it as a DataFrame, then submit it for inferencing."
   ]
  },
  {
   "cell_type": "code",
   "execution_count": 6,
   "metadata": {},
   "outputs": [
    {
     "name": "stdout",
     "output_type": "stream",
     "text": [
      "select * from house_listings where date > DATE(DATE(), '-1 month') AND sale_price is NULL\n"
     ]
    },
    {
     "data": {
      "text/plain": [
       "(1090, 22)"
      ]
     },
     "execution_count": 6,
     "metadata": {},
     "output_type": "execute_result"
    }
   ],
   "source": [
    "conn = simdb.simulate_db_connection()\n",
    "\n",
    "# create the query\n",
    "query = f\"select * from {simdb.tablename} where date > DATE(DATE(), '-1 month') AND sale_price is NULL\"\n",
    "print(query)\n",
    "\n",
    "# read in the data\n",
    "newbatch = pd.read_sql_query(query, conn)\n",
    "newbatch.shape"
   ]
  },
  {
   "cell_type": "code",
   "execution_count": 7,
   "metadata": {},
   "outputs": [
    {
     "data": {
      "text/html": [
       "<div>\n",
       "<style scoped>\n",
       "    .dataframe tbody tr th:only-of-type {\n",
       "        vertical-align: middle;\n",
       "    }\n",
       "\n",
       "    .dataframe tbody tr th {\n",
       "        vertical-align: top;\n",
       "    }\n",
       "\n",
       "    .dataframe thead th {\n",
       "        text-align: right;\n",
       "    }\n",
       "</style>\n",
       "<table border=\"1\" class=\"dataframe\">\n",
       "  <thead>\n",
       "    <tr style=\"text-align: right;\">\n",
       "      <th></th>\n",
       "      <th>tensor</th>\n",
       "    </tr>\n",
       "  </thead>\n",
       "  <tbody>\n",
       "    <tr>\n",
       "      <th>0</th>\n",
       "      <td>[3.0, 1.75, 1250.0, 5963.0, 1.0, 0.0, 0.0, 4.0, 7.0, 1250.0, 0.0, 47.6796, -122.301, 970.0, 5100.0, 70.0, 0.0, 0.0]</td>\n",
       "    </tr>\n",
       "    <tr>\n",
       "      <th>1</th>\n",
       "      <td>[4.0, 1.0, 1610.0, 2982.0, 1.5, 0.0, 0.0, 4.0, 7.0, 1610.0, 0.0, 47.587, -122.294, 1610.0, 4040.0, 98.0, 0.0, 0.0]</td>\n",
       "    </tr>\n",
       "    <tr>\n",
       "      <th>2</th>\n",
       "      <td>[4.0, 2.25, 2010.0, 9603.0, 1.0, 0.0, 0.0, 3.0, 8.0, 1440.0, 570.0, 47.5343, -122.054, 2060.0, 9793.0, 37.0, 0.0, 0.0]</td>\n",
       "    </tr>\n",
       "    <tr>\n",
       "      <th>3</th>\n",
       "      <td>[3.0, 1.0, 1610.0, 8579.0, 1.0, 0.0, 0.0, 4.0, 7.0, 1010.0, 600.0, 47.4563, -122.171, 1610.0, 8579.0, 61.0, 0.0, 0.0]</td>\n",
       "    </tr>\n",
       "    <tr>\n",
       "      <th>4</th>\n",
       "      <td>[3.0, 1.0, 1300.0, 8316.0, 1.0, 0.0, 0.0, 4.0, 6.0, 1300.0, 0.0, 47.3221, -122.216, 1260.0, 8316.0, 69.0, 0.0, 0.0]</td>\n",
       "    </tr>\n",
       "    <tr>\n",
       "      <th>...</th>\n",
       "      <td>...</td>\n",
       "    </tr>\n",
       "    <tr>\n",
       "      <th>1085</th>\n",
       "      <td>[4.0, 2.75, 2460.0, 8643.0, 2.0, 0.0, 0.0, 3.0, 9.0, 2460.0, 0.0, 47.4828, -122.133, 3110.0, 8626.0, 12.0, 0.0, 0.0]</td>\n",
       "    </tr>\n",
       "    <tr>\n",
       "      <th>1086</th>\n",
       "      <td>[4.0, 2.5, 3650.0, 7090.0, 2.0, 0.0, 0.0, 3.0, 10.0, 3650.0, 0.0, 47.606, -122.052, 3860.0, 7272.0, 15.0, 0.0, 0.0]</td>\n",
       "    </tr>\n",
       "    <tr>\n",
       "      <th>1087</th>\n",
       "      <td>[3.0, 2.25, 1610.0, 3764.0, 2.0, 0.0, 0.0, 3.0, 7.0, 1610.0, 0.0, 47.3589, -122.083, 1610.0, 3825.0, 11.0, 0.0, 0.0]</td>\n",
       "    </tr>\n",
       "    <tr>\n",
       "      <th>1088</th>\n",
       "      <td>[4.0, 3.5, 2850.0, 5577.0, 2.0, 0.0, 0.0, 3.0, 8.0, 1950.0, 900.0, 47.5252, -122.192, 2850.0, 5708.0, 9.0, 0.0, 0.0]</td>\n",
       "    </tr>\n",
       "    <tr>\n",
       "      <th>1089</th>\n",
       "      <td>[3.0, 3.0, 2780.0, 6000.0, 2.0, 0.0, 0.0, 3.0, 9.0, 2780.0, 0.0, 47.5184, -121.886, 2850.0, 6000.0, 10.0, 0.0, 0.0]</td>\n",
       "    </tr>\n",
       "  </tbody>\n",
       "</table>\n",
       "<p>1090 rows × 1 columns</p>\n",
       "</div>"
      ],
      "text/plain": [
       "                                                                                                                      tensor\n",
       "0        [3.0, 1.75, 1250.0, 5963.0, 1.0, 0.0, 0.0, 4.0, 7.0, 1250.0, 0.0, 47.6796, -122.301, 970.0, 5100.0, 70.0, 0.0, 0.0]\n",
       "1         [4.0, 1.0, 1610.0, 2982.0, 1.5, 0.0, 0.0, 4.0, 7.0, 1610.0, 0.0, 47.587, -122.294, 1610.0, 4040.0, 98.0, 0.0, 0.0]\n",
       "2     [4.0, 2.25, 2010.0, 9603.0, 1.0, 0.0, 0.0, 3.0, 8.0, 1440.0, 570.0, 47.5343, -122.054, 2060.0, 9793.0, 37.0, 0.0, 0.0]\n",
       "3      [3.0, 1.0, 1610.0, 8579.0, 1.0, 0.0, 0.0, 4.0, 7.0, 1010.0, 600.0, 47.4563, -122.171, 1610.0, 8579.0, 61.0, 0.0, 0.0]\n",
       "4        [3.0, 1.0, 1300.0, 8316.0, 1.0, 0.0, 0.0, 4.0, 6.0, 1300.0, 0.0, 47.3221, -122.216, 1260.0, 8316.0, 69.0, 0.0, 0.0]\n",
       "...                                                                                                                      ...\n",
       "1085    [4.0, 2.75, 2460.0, 8643.0, 2.0, 0.0, 0.0, 3.0, 9.0, 2460.0, 0.0, 47.4828, -122.133, 3110.0, 8626.0, 12.0, 0.0, 0.0]\n",
       "1086     [4.0, 2.5, 3650.0, 7090.0, 2.0, 0.0, 0.0, 3.0, 10.0, 3650.0, 0.0, 47.606, -122.052, 3860.0, 7272.0, 15.0, 0.0, 0.0]\n",
       "1087    [3.0, 2.25, 1610.0, 3764.0, 2.0, 0.0, 0.0, 3.0, 7.0, 1610.0, 0.0, 47.3589, -122.083, 1610.0, 3825.0, 11.0, 0.0, 0.0]\n",
       "1088    [4.0, 3.5, 2850.0, 5577.0, 2.0, 0.0, 0.0, 3.0, 8.0, 1950.0, 900.0, 47.5252, -122.192, 2850.0, 5708.0, 9.0, 0.0, 0.0]\n",
       "1089     [3.0, 3.0, 2780.0, 6000.0, 2.0, 0.0, 0.0, 3.0, 9.0, 2780.0, 0.0, 47.5184, -121.886, 2850.0, 6000.0, 10.0, 0.0, 0.0]\n",
       "\n",
       "[1090 rows x 1 columns]"
      ]
     },
     "metadata": {},
     "output_type": "display_data"
    },
    {
     "data": {
      "text/html": [
       "<div>\n",
       "<style scoped>\n",
       "    .dataframe tbody tr th:only-of-type {\n",
       "        vertical-align: middle;\n",
       "    }\n",
       "\n",
       "    .dataframe tbody tr th {\n",
       "        vertical-align: top;\n",
       "    }\n",
       "\n",
       "    .dataframe thead th {\n",
       "        text-align: right;\n",
       "    }\n",
       "</style>\n",
       "<table border=\"1\" class=\"dataframe\">\n",
       "  <thead>\n",
       "    <tr style=\"text-align: right;\">\n",
       "      <th></th>\n",
       "      <th>time</th>\n",
       "      <th>in.tensor</th>\n",
       "      <th>out.variable</th>\n",
       "      <th>check_failures</th>\n",
       "      <th>prediction</th>\n",
       "    </tr>\n",
       "  </thead>\n",
       "  <tbody>\n",
       "    <tr>\n",
       "      <th>0</th>\n",
       "      <td>2023-04-05 15:13:43.777</td>\n",
       "      <td>[3.0, 1.75, 1250.0, 5963.0, 1.0, 0.0, 0.0, 4.0, 7.0, 1250.0, 0.0, 47.6796, -122.301, 970.0, 5100.0, 70.0, 0.0, 0.0]</td>\n",
       "      <td>[5.706082]</td>\n",
       "      <td>0</td>\n",
       "      <td>508255.0</td>\n",
       "    </tr>\n",
       "    <tr>\n",
       "      <th>1</th>\n",
       "      <td>2023-04-05 15:13:43.777</td>\n",
       "      <td>[4.0, 1.0, 1610.0, 2982.0, 1.5, 0.0, 0.0, 4.0, 7.0, 1610.0, 0.0, 47.587, -122.294, 1610.0, 4040.0, 98.0, 0.0, 0.0]</td>\n",
       "      <td>[5.699142]</td>\n",
       "      <td>0</td>\n",
       "      <td>500198.0</td>\n",
       "    </tr>\n",
       "    <tr>\n",
       "      <th>2</th>\n",
       "      <td>2023-04-05 15:13:43.777</td>\n",
       "      <td>[4.0, 2.25, 2010.0, 9603.0, 1.0, 0.0, 0.0, 3.0, 8.0, 1440.0, 570.0, 47.5343, -122.054, 2060.0, 9793.0, 37.0, 0.0, 0.0]</td>\n",
       "      <td>[5.73207]</td>\n",
       "      <td>0</td>\n",
       "      <td>539598.0</td>\n",
       "    </tr>\n",
       "    <tr>\n",
       "      <th>3</th>\n",
       "      <td>2023-04-05 15:13:43.777</td>\n",
       "      <td>[3.0, 1.0, 1610.0, 8579.0, 1.0, 0.0, 0.0, 4.0, 7.0, 1010.0, 600.0, 47.4563, -122.171, 1610.0, 8579.0, 61.0, 0.0, 0.0]</td>\n",
       "      <td>[5.432551]</td>\n",
       "      <td>0</td>\n",
       "      <td>270739.0</td>\n",
       "    </tr>\n",
       "    <tr>\n",
       "      <th>4</th>\n",
       "      <td>2023-04-05 15:13:43.777</td>\n",
       "      <td>[3.0, 1.0, 1300.0, 8316.0, 1.0, 0.0, 0.0, 4.0, 6.0, 1300.0, 0.0, 47.3221, -122.216, 1260.0, 8316.0, 69.0, 0.0, 0.0]</td>\n",
       "      <td>[5.281724]</td>\n",
       "      <td>0</td>\n",
       "      <td>191304.0</td>\n",
       "    </tr>\n",
       "  </tbody>\n",
       "</table>\n",
       "</div>"
      ],
      "text/plain": [
       "                     time  \\\n",
       "0 2023-04-05 15:13:43.777   \n",
       "1 2023-04-05 15:13:43.777   \n",
       "2 2023-04-05 15:13:43.777   \n",
       "3 2023-04-05 15:13:43.777   \n",
       "4 2023-04-05 15:13:43.777   \n",
       "\n",
       "                                                                                                                in.tensor  \\\n",
       "0     [3.0, 1.75, 1250.0, 5963.0, 1.0, 0.0, 0.0, 4.0, 7.0, 1250.0, 0.0, 47.6796, -122.301, 970.0, 5100.0, 70.0, 0.0, 0.0]   \n",
       "1      [4.0, 1.0, 1610.0, 2982.0, 1.5, 0.0, 0.0, 4.0, 7.0, 1610.0, 0.0, 47.587, -122.294, 1610.0, 4040.0, 98.0, 0.0, 0.0]   \n",
       "2  [4.0, 2.25, 2010.0, 9603.0, 1.0, 0.0, 0.0, 3.0, 8.0, 1440.0, 570.0, 47.5343, -122.054, 2060.0, 9793.0, 37.0, 0.0, 0.0]   \n",
       "3   [3.0, 1.0, 1610.0, 8579.0, 1.0, 0.0, 0.0, 4.0, 7.0, 1010.0, 600.0, 47.4563, -122.171, 1610.0, 8579.0, 61.0, 0.0, 0.0]   \n",
       "4     [3.0, 1.0, 1300.0, 8316.0, 1.0, 0.0, 0.0, 4.0, 6.0, 1300.0, 0.0, 47.3221, -122.216, 1260.0, 8316.0, 69.0, 0.0, 0.0]   \n",
       "\n",
       "  out.variable  check_failures  prediction  \n",
       "0   [5.706082]               0    508255.0  \n",
       "1   [5.699142]               0    500198.0  \n",
       "2    [5.73207]               0    539598.0  \n",
       "3   [5.432551]               0    270739.0  \n",
       "4   [5.281724]               0    191304.0  "
      ]
     },
     "metadata": {},
     "output_type": "display_data"
    },
    {
     "data": {
      "text/plain": [
       "1090"
      ]
     },
     "execution_count": 7,
     "metadata": {},
     "output_type": "execute_result"
    }
   ],
   "source": [
    "preprocessed = pd.DataFrame.from_records({'tensor': preprocess.create_features(newbatch)})\n",
    "display(preprocessed)\n",
    "\n",
    "result = pipeline.infer(preprocessed)\n",
    "# convert the result variable into a series of results in the column `prediction`\n",
    "result[\"prediction\"] = result[\"out.variable\"].apply(lambda x: postprocess.postprocess(x)[0])\n",
    "display(result.head(5))\n",
    "len(result)"
   ]
  },
  {
   "cell_type": "markdown",
   "metadata": {},
   "source": [
    "### Send Predictions to Results Staging Table\n",
    "\n",
    "Take the predicted prices based on the inference results so they can be joined into the `house_listings` table.\n",
    "\n",
    "Once complete, undeploy the pipeline to return the resources back to the Kubernetes environment."
   ]
  },
  {
   "cell_type": "code",
   "execution_count": 8,
   "metadata": {},
   "outputs": [],
   "source": [
    "result_table = pd.DataFrame({\n",
    "    'id': newbatch['id'],\n",
    "    'saleprice_estimate': result[\"prediction\"]\n",
    "})\n",
    "\n",
    "result_table.to_sql('results_table', conn, index=False, if_exists='append')"
   ]
  },
  {
   "cell_type": "code",
   "execution_count": 9,
   "metadata": {},
   "outputs": [
    {
     "data": {
      "text/html": [
       "<div>\n",
       "<style scoped>\n",
       "    .dataframe tbody tr th:only-of-type {\n",
       "        vertical-align: middle;\n",
       "    }\n",
       "\n",
       "    .dataframe tbody tr th {\n",
       "        vertical-align: top;\n",
       "    }\n",
       "\n",
       "    .dataframe thead th {\n",
       "        text-align: right;\n",
       "    }\n",
       "</style>\n",
       "<table border=\"1\" class=\"dataframe\">\n",
       "  <thead>\n",
       "    <tr style=\"text-align: right;\">\n",
       "      <th></th>\n",
       "      <th>id</th>\n",
       "      <th>saleprice_estimate</th>\n",
       "    </tr>\n",
       "  </thead>\n",
       "  <tbody>\n",
       "    <tr>\n",
       "      <th>0</th>\n",
       "      <td>9215400105</td>\n",
       "      <td>508255.0</td>\n",
       "    </tr>\n",
       "    <tr>\n",
       "      <th>1</th>\n",
       "      <td>1695900060</td>\n",
       "      <td>500198.0</td>\n",
       "    </tr>\n",
       "    <tr>\n",
       "      <th>2</th>\n",
       "      <td>9545240070</td>\n",
       "      <td>539598.0</td>\n",
       "    </tr>\n",
       "    <tr>\n",
       "      <th>3</th>\n",
       "      <td>1432900240</td>\n",
       "      <td>270739.0</td>\n",
       "    </tr>\n",
       "    <tr>\n",
       "      <th>4</th>\n",
       "      <td>6131600075</td>\n",
       "      <td>191304.0</td>\n",
       "    </tr>\n",
       "  </tbody>\n",
       "</table>\n",
       "</div>"
      ],
      "text/plain": [
       "           id  saleprice_estimate\n",
       "0  9215400105            508255.0\n",
       "1  1695900060            500198.0\n",
       "2  9545240070            539598.0\n",
       "3  1432900240            270739.0\n",
       "4  6131600075            191304.0"
      ]
     },
     "execution_count": 9,
     "metadata": {},
     "output_type": "execute_result"
    }
   ],
   "source": [
    "# Display the top of the table for confirmation\n",
    "pd.read_sql_query(\"select * from results_table limit 5\", conn)"
   ]
  },
  {
   "cell_type": "code",
   "execution_count": 10,
   "metadata": {},
   "outputs": [
    {
     "data": {
      "text/html": [
       "<table><tr><th>name</th> <td>housing-pipe</td></tr><tr><th>created</th> <td>2023-04-05 14:12:29.940751+00:00</td></tr><tr><th>last_updated</th> <td>2023-04-05 15:13:24.302152+00:00</td></tr><tr><th>deployed</th> <td>False</td></tr><tr><th>tags</th> <td></td></tr><tr><th>versions</th> <td>67f01bf2-80aa-4a77-a14e-0eb7f69e27c1, af0feb65-387f-41f0-aab7-2bcf4c3fcec4, 0ed359ab-00e0-46ff-9474-b0822594b06c, 3ca8047f-2bda-498d-a877-dd5e094098b1, 523949d2-402f-47cb-a673-f488fb10cd76, c8739f96-4bef-47af-85bb-fd01f49848cb, d7cb9f2d-e494-4c1d-8d95-d00e241dded3, ef16b668-4523-426d-9616-79371a5830ac, 8acb34ff-ade8-435c-bc6f-95bcae2d225d, db908602-2d8f-4013-bdbe-87c697d56d48</td></tr><tr><th>steps</th> <td>housepricemodel</td></tr></table>"
      ],
      "text/plain": [
       "{'name': 'housing-pipe', 'create_time': datetime.datetime(2023, 4, 5, 14, 12, 29, 940751, tzinfo=tzutc()), 'definition': \"[{'ModelInference': {'models': [{'name': 'housepricemodel', 'version': '97338965-853a-4af6-b087-6a3e65b77b15', 'sha': '7404007c88906331c8159c42379f30966a21fd29fe2629049e69541d0083db9a'}]}}]\"}"
      ]
     },
     "execution_count": 10,
     "metadata": {},
     "output_type": "execute_result"
    }
   ],
   "source": [
    "conn.close()\n",
    "pipeline.undeploy()"
   ]
  },
  {
   "cell_type": "markdown",
   "metadata": {},
   "source": [
    "From here, organizations can automate this process.  Other features could be used such as data analysis using Wallaroo assays, or other features such as shadow deployments to test champion and challenger models to find which models provide the best results."
   ]
  }
 ],
 "metadata": {
  "kernelspec": {
   "display_name": "arrowtests",
   "language": "python",
   "name": "python3"
  },
  "language_info": {
   "codemirror_mode": {
    "name": "ipython",
    "version": 3
   },
   "file_extension": ".py",
   "mimetype": "text/x-python",
   "name": "python",
   "nbconvert_exporter": "python",
   "pygments_lexer": "ipython3",
   "version": "3.8.12"
  },
  "vscode": {
   "interpreter": {
    "hash": "7dda4bf3640b7fafcd1648658b879b4cc9f6ba6084e8fb356fdaaa1a461d1690"
   }
  }
 },
 "nbformat": 4,
 "nbformat_minor": 4
}
