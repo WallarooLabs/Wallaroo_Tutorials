{
 "cells": [
  {
   "cell_type": "markdown",
   "metadata": {},
   "source": [
    "For more details on this tutorial's setup and process, see `00_Introduction.ipynb`.\n",
    "\n",
    "# Stage 3: Deploy the Model in Wallaroo\n",
    " \n",
    "In this stage, we upload the trained model and the processing steps to Wallaroo, then set up and deploy the inference pipeline. \n",
    "\n",
    "Once deployed we can feed the newest batch of data to the pipeline, do the inferences and write the results to a results table.\n",
    "\n",
    "For clarity in this demo, we have split the training/upload task into two notebooks:\n",
    "\n",
    "* `02_automated_training_process.ipynb`: Train and pickle ML model.\n",
    "* `03_deploy_model.ipynb`: Upload the model to Wallaroo and deploy into a pipeline.\n",
    "\n",
    "Assuming no changes are made to the structure of the model, these two notebooks, or a script based on them, can then be scheduled to run on a regular basis, to refresh the model with more recent training data and update the inference pipeline.\n",
    "\n",
    "This notebook is expected to run within the Wallaroo instance's Jupyter Hub service to provide access to all required Wallaroo libraries and functionality.\n",
    "\n",
    "## Resources\n",
    "\n",
    "The following resources are used as part of this tutorial:\n",
    "\n",
    "* **data**\n",
    "  * `data/seattle_housing_col_description.txt`: Describes the columns used as part data analysis.\n",
    "  * `data/seattle_housing.csv`: Sample data of the Seattle, Washington housing market between 2014 and 2015.\n",
    "* **code**\n",
    "  * `postprocess.py`: Formats the data after inference by the model is complete.\n",
    "  * `preprocess.py`: Formats the incoming data for the model.\n",
    "  * `simdb.py`: A simulated database to demonstrate sending and receiving queries.\n",
    "  * `wallaroo_client.py`: Additional methods used with the Wallaroo instance to create workspaces, etc.\n",
    "* **models**\n",
    "  * `housing_model_xgb.onnx`: Model created in Stage 2: Training Process Automation Setup."
   ]
  },
  {
   "cell_type": "markdown",
   "metadata": {},
   "source": [
    "## Steps\n",
    "\n",
    "The process of uploading the model to Wallaroo follows these steps:\n",
    "\n",
    "* [Connect to Wallaroo](#connect-to-wallaroo): Connect to the Wallaroo instance and set up the workspace.\n",
    "* [Upload The Model](#upload-the-model): Upload the model and autoconvert for use in the Wallaroo engine.\n",
    "* [Upload the Processing Modules](#upload-the-processing-modules): Upload the processing modules.\n",
    "* [Create and Deploy the Pipeline](#create-and-deploy-the-pipeline): Create the pipeline with the model and processing modules as steps, then deploy it.\n",
    "* [Test the Pipeline](#test-the-pipeline): Verify that the pipeline works with the sample data."
   ]
  },
  {
   "cell_type": "markdown",
   "metadata": {},
   "source": [
    "### Connect to Wallaroo\n",
    "\n",
    "First we import the required libraries to connect to the Wallaroo instance, then connect to the Wallaroo instance."
   ]
  },
  {
   "cell_type": "code",
   "execution_count": 1,
   "metadata": {},
   "outputs": [],
   "source": [
    "import json\n",
    "import pickle\n",
    "import pandas as pd\n",
    "import numpy as np\n",
    "\n",
    "import simdb # module for the purpose of this demo to simulate pulling data from a database\n",
    "\n",
    "from wallaroo.ModelConversion import ConvertXGBoostArgs, ModelConversionSource, ModelConversionInputType\n",
    "import wallaroo\n",
    "from wallaroo.object import EntityNotFoundError"
   ]
  },
  {
   "cell_type": "code",
   "execution_count": 2,
   "metadata": {},
   "outputs": [
    {
     "name": "stdout",
     "output_type": "stream",
     "text": [
      "Please log into the following URL in a web browser:\n",
      "\n",
      "\thttps://sparkly-apple-3026.keycloak.wallaroo.community/auth/realms/master/device?user_code=XRAD-UUUM\n",
      "\n",
      "Login successful!\n"
     ]
    }
   ],
   "source": [
    "wl = wallaroo.Client()"
   ]
  },
  {
   "cell_type": "code",
   "execution_count": 3,
   "metadata": {},
   "outputs": [],
   "source": [
    "def get_workspace(name):\n",
    "    workspace = None\n",
    "    for ws in wl.list_workspaces():\n",
    "        if ws.name() == name:\n",
    "            workspace= ws\n",
    "    if(workspace == None):\n",
    "        workspace = wl.create_workspace(name)\n",
    "    return workspace\n",
    "\n",
    "def get_pipeline(name):\n",
    "    try:\n",
    "        pipeline = wl.pipelines_by_name(pipeline_name)[0]\n",
    "    except EntityNotFoundError:\n",
    "        pipeline = wl.build_pipeline(pipeline_name)\n",
    "    return pipeline"
   ]
  },
  {
   "cell_type": "code",
   "execution_count": 4,
   "metadata": {},
   "outputs": [],
   "source": [
    "workspace_name = 'housepricing2'\n",
    "model_name = \"housepricemodel\"\n",
    "model_file = \"./housing_model_xgb.onnx\"\n",
    "pipeline_name = \"housing-pipe\""
   ]
  },
  {
   "cell_type": "markdown",
   "metadata": {},
   "source": [
    "The workspace `housepricing` will either be created or, if already existing, used and set to the current workspace."
   ]
  },
  {
   "cell_type": "code",
   "execution_count": 5,
   "metadata": {},
   "outputs": [
    {
     "data": {
      "text/plain": [
       "{'name': 'housepricing2', 'id': 50, 'archived': False, 'created_by': '6e87ec2b-ad7f-4b0f-b426-5100c26944ba', 'created_at': '2022-10-18T19:41:52.672007+00:00', 'models': [{'name': 'housepricemodel', 'version': 'b66c8053-e28b-4f19-94ff-82f718e12681', 'file_name': 'housing_model_xgb.onnx', 'image_path': None, 'last_update_time': datetime.datetime(2022, 10, 18, 20, 30, 13, 695855, tzinfo=tzutc())}, {'name': 'preprocess', 'version': '09fda370-b5d6-42ef-93cf-429d3d116df3', 'file_name': 'preprocess.py', 'image_path': None, 'last_update_time': datetime.datetime(2022, 10, 18, 20, 30, 17, 364846, tzinfo=tzutc())}, {'name': 'postprocess', 'version': 'ac030fe2-4e86-4cdc-917e-4b5ad7b72838', 'file_name': 'postprocess.py', 'image_path': None, 'last_update_time': datetime.datetime(2022, 10, 18, 20, 30, 17, 766274, tzinfo=tzutc())}], 'pipelines': [{'name': 'housing-pipe', 'create_time': datetime.datetime(2022, 10, 18, 20, 30, 19, 448654, tzinfo=tzutc()), 'definition': '[]'}]}"
      ]
     },
     "execution_count": 5,
     "metadata": {},
     "output_type": "execute_result"
    }
   ],
   "source": [
    "new_workspace = get_workspace(workspace_name)\n",
    "new_workspace"
   ]
  },
  {
   "cell_type": "code",
   "execution_count": 6,
   "metadata": {},
   "outputs": [],
   "source": [
    "_ = wl.set_current_workspace(new_workspace)"
   ]
  },
  {
   "cell_type": "markdown",
   "metadata": {},
   "source": [
    "### Upload The Model\n",
    "\n",
    "With the connection set and workspace prepared, upload the model created in `02_automated_training_process.ipynb` into the current workspace."
   ]
  },
  {
   "cell_type": "code",
   "execution_count": 11,
   "metadata": {},
   "outputs": [],
   "source": [
    "hpmodel = wl.upload_model(model_name, model_file).configure()"
   ]
  },
  {
   "cell_type": "markdown",
   "metadata": {},
   "source": [
    "## Upload the Processing Modules\n",
    "\n",
    "Upload the `preprocess.py` and `postprocess.py` modules as models to be added to the pipeline."
   ]
  },
  {
   "cell_type": "code",
   "execution_count": 8,
   "metadata": {},
   "outputs": [],
   "source": [
    "# load the preprocess module\n",
    "module_pre = wl.upload_model(\"preprocess\", \"./preprocess.py\").configure('python')"
   ]
  },
  {
   "cell_type": "code",
   "execution_count": 9,
   "metadata": {},
   "outputs": [],
   "source": [
    "# load the postprocess module\n",
    "module_post = wl.upload_model(\"postprocess\", \"./postprocess.py\").configure('python')"
   ]
  },
  {
   "cell_type": "markdown",
   "metadata": {},
   "source": [
    "### Create and Deploy the Pipeline\n",
    "\n",
    "Create the pipeline with the preprocess module, housing model, and postprocess module as pipeline steps, then deploy the newpipeline."
   ]
  },
  {
   "cell_type": "code",
   "execution_count": 12,
   "metadata": {},
   "outputs": [
    {
     "name": "stdout",
     "output_type": "stream",
     "text": [
      "Waiting for deployment - this will take up to 45s ......... ok\n"
     ]
    },
    {
     "data": {
      "text/html": [
       "<table><tr><th>name</th> <td>housing-pipe</td></tr><tr><th>created</th> <td>2022-10-18 20:30:19.448654+00:00</td></tr><tr><th>last_updated</th> <td>2022-10-19 17:24:17.505573+00:00</td></tr><tr><th>deployed</th> <td>True</td></tr><tr><th>tags</th> <td></td></tr><tr><th>steps</th> <td>preprocess</td></tr></table>"
      ],
      "text/plain": [
       "{'name': 'housing-pipe', 'create_time': datetime.datetime(2022, 10, 18, 20, 30, 19, 448654, tzinfo=tzutc()), 'definition': \"[{'ModelInference': {'models': [{'name': 'preprocess', 'version': '08b9cdd5-bebc-45d1-847c-a36cf5421d33', 'sha': '4f432271399d3b0f32152b16fe54197b07544e1bea9bdccaf9cb63c61b7241b8'}]}}, {'ModelInference': {'models': [{'name': 'housepricemodel', 'version': 'b37504a7-d88f-4be9-8c8d-9a95c4f4f5fd', 'sha': '91a2fe282251a34fd3fad48578f6b7034be55744dee4d66a6db221ba1738dd00'}]}}, {'ModelInference': {'models': [{'name': 'postprocess', 'version': 'a7ba9954-a397-442e-a1d5-48504ce99ed6', 'sha': 'fb6adc65bd0b637a685b81f63b0b8d4bde0ce0b68495ddc78ad8733f99e05728'}]}}]\"}"
      ]
     },
     "execution_count": 12,
     "metadata": {},
     "output_type": "execute_result"
    }
   ],
   "source": [
    "pipeline = (wl.build_pipeline(pipeline_name)\n",
    "              .add_model_step(module_pre)\n",
    "              .add_model_step(hpmodel)\n",
    "              .add_model_step(module_post)\n",
    "              .deploy()\n",
    "           )\n",
    "pipeline"
   ]
  },
  {
   "cell_type": "markdown",
   "metadata": {},
   "source": [
    "### Test the Pipeline\n",
    "\n",
    "We will use a single query from the simulated `housing_price` table and infer.  When successful, we will undeploy the pipeline to restore the resources back to the Kubernetes environment."
   ]
  },
  {
   "cell_type": "code",
   "execution_count": 13,
   "metadata": {},
   "outputs": [
    {
     "name": "stdout",
     "output_type": "stream",
     "text": [
      "select * from house_listings limit 1\n"
     ]
    },
    {
     "data": {
      "text/html": [
       "<div>\n",
       "<style scoped>\n",
       "    .dataframe tbody tr th:only-of-type {\n",
       "        vertical-align: middle;\n",
       "    }\n",
       "\n",
       "    .dataframe tbody tr th {\n",
       "        vertical-align: top;\n",
       "    }\n",
       "\n",
       "    .dataframe thead th {\n",
       "        text-align: right;\n",
       "    }\n",
       "</style>\n",
       "<table border=\"1\" class=\"dataframe\">\n",
       "  <thead>\n",
       "    <tr style=\"text-align: right;\">\n",
       "      <th></th>\n",
       "      <th>id</th>\n",
       "      <th>date</th>\n",
       "      <th>list_price</th>\n",
       "      <th>bedrooms</th>\n",
       "      <th>bathrooms</th>\n",
       "      <th>sqft_living</th>\n",
       "      <th>sqft_lot</th>\n",
       "      <th>floors</th>\n",
       "      <th>waterfront</th>\n",
       "      <th>view</th>\n",
       "      <th>...</th>\n",
       "      <th>sqft_above</th>\n",
       "      <th>sqft_basement</th>\n",
       "      <th>yr_built</th>\n",
       "      <th>yr_renovated</th>\n",
       "      <th>zipcode</th>\n",
       "      <th>lat</th>\n",
       "      <th>long</th>\n",
       "      <th>sqft_living15</th>\n",
       "      <th>sqft_lot15</th>\n",
       "      <th>sale_price</th>\n",
       "    </tr>\n",
       "  </thead>\n",
       "  <tbody>\n",
       "    <tr>\n",
       "      <th>0</th>\n",
       "      <td>7129300520</td>\n",
       "      <td>2022-03-07</td>\n",
       "      <td>221900.0</td>\n",
       "      <td>3</td>\n",
       "      <td>1.0</td>\n",
       "      <td>1180</td>\n",
       "      <td>5650</td>\n",
       "      <td>1.0</td>\n",
       "      <td>0</td>\n",
       "      <td>0</td>\n",
       "      <td>...</td>\n",
       "      <td>1180</td>\n",
       "      <td>0</td>\n",
       "      <td>1955</td>\n",
       "      <td>0</td>\n",
       "      <td>98178</td>\n",
       "      <td>47.5112</td>\n",
       "      <td>-122.257</td>\n",
       "      <td>1340</td>\n",
       "      <td>5650</td>\n",
       "      <td>221900.0</td>\n",
       "    </tr>\n",
       "  </tbody>\n",
       "</table>\n",
       "<p>1 rows × 22 columns</p>\n",
       "</div>"
      ],
      "text/plain": [
       "           id        date  list_price  bedrooms  bathrooms  sqft_living  \\\n",
       "0  7129300520  2022-03-07    221900.0         3        1.0         1180   \n",
       "\n",
       "   sqft_lot  floors  waterfront  view  ...  sqft_above  sqft_basement  \\\n",
       "0      5650     1.0           0     0  ...        1180              0   \n",
       "\n",
       "   yr_built  yr_renovated  zipcode      lat     long  sqft_living15  \\\n",
       "0      1955             0    98178  47.5112 -122.257           1340   \n",
       "\n",
       "   sqft_lot15  sale_price  \n",
       "0        5650    221900.0  \n",
       "\n",
       "[1 rows x 22 columns]"
      ]
     },
     "execution_count": 13,
     "metadata": {},
     "output_type": "execute_result"
    }
   ],
   "source": [
    "conn = simdb.simulate_db_connection()\n",
    "\n",
    "# create the query\n",
    "query = f\"select * from {simdb.tablename} limit 1\"\n",
    "print(query)\n",
    "\n",
    "# read in the data\n",
    "singleton = pd.read_sql_query(query, conn)\n",
    "conn.close()\n",
    "\n",
    "singleton"
   ]
  },
  {
   "cell_type": "code",
   "execution_count": 14,
   "metadata": {},
   "outputs": [
    {
     "name": "stdout",
     "output_type": "stream",
     "text": [
      "Waiting for inference response - this will take up to 45s .. ok\n"
     ]
    },
    {
     "data": {
      "text/plain": [
       "[array([224852.])]"
      ]
     },
     "execution_count": 14,
     "metadata": {},
     "output_type": "execute_result"
    }
   ],
   "source": [
    "result = pipeline.infer({'query': singleton.to_json()})\n",
    "# just display the output\n",
    "result[0].data()"
   ]
  },
  {
   "cell_type": "markdown",
   "metadata": {},
   "source": [
    "When finished, we undeploy the pipeline to return the resources back to the environment."
   ]
  },
  {
   "cell_type": "code",
   "execution_count": 15,
   "metadata": {},
   "outputs": [
    {
     "name": "stdout",
     "output_type": "stream",
     "text": [
      "Waiting for undeployment - this will take up to 45s ........................................... ok\n"
     ]
    },
    {
     "data": {
      "text/html": [
       "<table><tr><th>name</th> <td>housing-pipe</td></tr><tr><th>created</th> <td>2022-10-18 20:30:19.448654+00:00</td></tr><tr><th>last_updated</th> <td>2022-10-19 17:24:17.505573+00:00</td></tr><tr><th>deployed</th> <td>False</td></tr><tr><th>tags</th> <td></td></tr><tr><th>steps</th> <td>preprocess</td></tr></table>"
      ],
      "text/plain": [
       "{'name': 'housing-pipe', 'create_time': datetime.datetime(2022, 10, 18, 20, 30, 19, 448654, tzinfo=tzutc()), 'definition': \"[{'ModelInference': {'models': [{'name': 'preprocess', 'version': '08b9cdd5-bebc-45d1-847c-a36cf5421d33', 'sha': '4f432271399d3b0f32152b16fe54197b07544e1bea9bdccaf9cb63c61b7241b8'}]}}, {'ModelInference': {'models': [{'name': 'housepricemodel', 'version': 'b37504a7-d88f-4be9-8c8d-9a95c4f4f5fd', 'sha': '91a2fe282251a34fd3fad48578f6b7034be55744dee4d66a6db221ba1738dd00'}]}}, {'ModelInference': {'models': [{'name': 'postprocess', 'version': 'a7ba9954-a397-442e-a1d5-48504ce99ed6', 'sha': 'fb6adc65bd0b637a685b81f63b0b8d4bde0ce0b68495ddc78ad8733f99e05728'}]}}]\"}"
      ]
     },
     "execution_count": 15,
     "metadata": {},
     "output_type": "execute_result"
    }
   ],
   "source": [
    "pipeline.undeploy()"
   ]
  },
  {
   "cell_type": "markdown",
   "metadata": {},
   "source": [
    "With this stage complete, we can proceed to Stage 4: Regular Batch Inference."
   ]
  }
 ],
 "metadata": {
  "kernelspec": {
   "display_name": "Python 3 (ipykernel)",
   "language": "python",
   "name": "python3"
  },
  "language_info": {
   "codemirror_mode": {
    "name": "ipython",
    "version": 3
   },
   "file_extension": ".py",
   "mimetype": "text/x-python",
   "name": "python",
   "nbconvert_exporter": "python",
   "pygments_lexer": "ipython3",
   "version": "3.9.13"
  },
  "vscode": {
   "interpreter": {
    "hash": "b0fa6594d8f4cbf19f97940f81e996739fb7646882a419484c72d19e05852a7e"
   }
  }
 },
 "nbformat": 4,
 "nbformat_minor": 4
}
