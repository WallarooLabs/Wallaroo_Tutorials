{
 "cells": [
  {
   "attachments": {},
   "cell_type": "markdown",
   "metadata": {},
   "source": [
    "The following tutorials are available from the [Wallaroo Tutorials Repository](https://github.com/WallarooLabs/Wallaroo_Tutorials/tree/main/notebooks_in_prod).\n",
    "\n",
    "# Stage 3: Deploy the Model in Wallaroo\n",
    " \n",
    "In this stage, we upload the trained model and the processing steps to Wallaroo, then set up and deploy the inference pipeline. \n",
    "\n",
    "Once deployed we can feed the newest batch of data to the pipeline, do the inferences and write the results to a results table.\n",
    "\n",
    "For clarity in this demo, we have split the training/upload task into two notebooks:\n",
    "\n",
    "* `02_automated_training_process.ipynb`: Train and pickle ML model.\n",
    "* `03_deploy_model.ipynb`: Upload the model to Wallaroo and deploy into a pipeline.\n",
    "\n",
    "Assuming no changes are made to the structure of the model, these two notebooks, or a script based on them, can then be scheduled to run on a regular basis, to refresh the model with more recent training data and update the inference pipeline.\n",
    "\n",
    "This notebook is expected to run within the Wallaroo instance's Jupyter Hub service to provide access to all required Wallaroo libraries and functionality.\n",
    "\n",
    "## Resources\n",
    "\n",
    "The following resources are used as part of this tutorial:\n",
    "\n",
    "* **data**\n",
    "  * `data/seattle_housing_col_description.txt`: Describes the columns used as part data analysis.\n",
    "  * `data/seattle_housing.csv`: Sample data of the Seattle, Washington housing market between 2014 and 2015.\n",
    "* **code**\n",
    "  * `postprocess.py`: Formats the data after inference by the model is complete.\n",
    "  * `simdb.py`: A simulated database to demonstrate sending and receiving queries.\n",
    "  * `wallaroo_client.py`: Additional methods used with the Wallaroo instance to create workspaces, etc.\n",
    "* **models**\n",
    "  * `housing_model_xgb.onnx`: Model created in Stage 2: Training Process Automation Setup."
   ]
  },
  {
   "attachments": {},
   "cell_type": "markdown",
   "metadata": {},
   "source": [
    "## Steps\n",
    "\n",
    "The process of uploading the model to Wallaroo follows these steps:\n",
    "\n",
    "* [Connect to Wallaroo](#connect-to-wallaroo): Connect to the Wallaroo instance and set up the workspace.\n",
    "* [Upload The Model](#upload-the-model): Upload the model and autoconvert for use in the Wallaroo engine.\n",
    "* [Upload the Processing Modules](#upload-the-processing-modules): Upload the processing modules.\n",
    "* [Create and Deploy the Pipeline](#create-and-deploy-the-pipeline): Create the pipeline with the model and processing modules as steps, then deploy it.\n",
    "* [Test the Pipeline](#test-the-pipeline): Verify that the pipeline works with the sample data."
   ]
  },
  {
   "attachments": {},
   "cell_type": "markdown",
   "metadata": {},
   "source": [
    "### Connect to Wallaroo\n",
    "\n",
    "First we import the required libraries to connect to the Wallaroo instance, then connect to the Wallaroo instance."
   ]
  },
  {
   "cell_type": "code",
   "execution_count": 135,
   "metadata": {},
   "outputs": [],
   "source": [
    "import json\n",
    "import pickle\n",
    "import pandas as pd\n",
    "import numpy as np\n",
    "import pyarrow as pa\n",
    "\n",
    "import simdb # module for the purpose of this demo to simulate pulling data from a database\n",
    "\n",
    "# from wallaroo.ModelConversion import ConvertXGBoostArgs, ModelConversionSource, ModelConversionInputType\n",
    "import wallaroo\n",
    "from wallaroo.object import EntityNotFoundError\n",
    "\n",
    "# used to display dataframe information without truncating\n",
    "from IPython.display import display\n",
    "import pandas as pd\n",
    "pd.set_option('display.max_colwidth', None)\n",
    "\n",
    "import datetime"
   ]
  },
  {
   "attachments": {},
   "cell_type": "markdown",
   "metadata": {},
   "source": [
    "### Connect to the Wallaroo Instance\n",
    "\n",
    "The first step is to connect to Wallaroo through the Wallaroo client.  The Python library is included in the Wallaroo install and available through the Jupyter Hub interface provided with your Wallaroo environment.\n",
    "\n",
    "This is accomplished using the `wallaroo.Client()` command, which provides a URL to grant the SDK permission to your specific Wallaroo environment.  When displayed, enter the URL into a browser and confirm permissions.  Store the connection into a variable that can be referenced later.\n",
    "\n",
    "If logging into the Wallaroo instance through the internal JupyterHub service, use `wl = wallaroo.Client()`.  For more information on Wallaroo Client settings, see the [Client Connection guide](https://docs.wallaroo.ai/wallaroo-developer-guides/wallaroo-sdk-guides/wallaroo-sdk-essentials-guide/wallaroo-sdk-essentials-client/)."
   ]
  },
  {
   "cell_type": "code",
   "execution_count": 136,
   "metadata": {},
   "outputs": [],
   "source": [
    "# Login through local Wallaroo instance\n",
    "\n",
    "wl = wallaroo.Client()"
   ]
  },
  {
   "cell_type": "code",
   "execution_count": 137,
   "metadata": {},
   "outputs": [],
   "source": [
    "def get_workspace(name):\n",
    "    workspace = None\n",
    "    for ws in wl.list_workspaces():\n",
    "        if ws.name() == name:\n",
    "            workspace= ws\n",
    "    if(workspace == None):\n",
    "        workspace = wl.create_workspace(name)\n",
    "    return workspace\n",
    "\n",
    "def get_pipeline(name):\n",
    "    try:\n",
    "        pipeline = wl.pipelines_by_name(name)[0]\n",
    "    except EntityNotFoundError:\n",
    "        pipeline = wl.build_pipeline(name)\n",
    "    return pipeline"
   ]
  },
  {
   "cell_type": "code",
   "execution_count": 138,
   "metadata": {},
   "outputs": [],
   "source": [
    "workspace_name = 'housepricing'\n",
    "model_name = \"housepricemodel\"\n",
    "model_file = \"./housing_model_xgb.onnx\"\n",
    "pipeline_name = \"housing-pipe\""
   ]
  },
  {
   "attachments": {},
   "cell_type": "markdown",
   "metadata": {},
   "source": [
    "The workspace `housepricing` will either be created or, if already existing, used and set to the current workspace."
   ]
  },
  {
   "cell_type": "code",
   "execution_count": 139,
   "metadata": {},
   "outputs": [
    {
     "data": {
      "text/plain": [
       "{'name': 'housepricing', 'id': 12, 'archived': False, 'created_by': 'fa240e86-5fb9-4d58-bf5d-f82bf0b2b172', 'created_at': '2023-09-05T18:08:39.509632+00:00', 'models': [{'name': 'housepricemodel', 'versions': 4, 'owner_id': '\"\"', 'last_update_time': datetime.datetime(2023, 9, 6, 20, 35, 5, 856903, tzinfo=tzutc()), 'created_at': datetime.datetime(2023, 9, 5, 18, 8, 42, 560324, tzinfo=tzutc())}, {'name': 'preprocess', 'versions': 9, 'owner_id': '\"\"', 'last_update_time': datetime.datetime(2023, 9, 6, 20, 36, 15, 324648, tzinfo=tzutc()), 'created_at': datetime.datetime(2023, 9, 6, 19, 47, 41, 101597, tzinfo=tzutc())}, {'name': 'postprocess', 'versions': 8, 'owner_id': '\"\"', 'last_update_time': datetime.datetime(2023, 9, 6, 20, 36, 16, 399337, tzinfo=tzutc()), 'created_at': datetime.datetime(2023, 9, 5, 18, 8, 47, 58060, tzinfo=tzutc())}], 'pipelines': [{'name': 'housing-pipe', 'create_time': datetime.datetime(2023, 9, 5, 18, 8, 50, 854139, tzinfo=tzutc()), 'definition': '[]'}]}"
      ]
     },
     "execution_count": 139,
     "metadata": {},
     "output_type": "execute_result"
    }
   ],
   "source": [
    "new_workspace = get_workspace(workspace_name)\n",
    "new_workspace"
   ]
  },
  {
   "cell_type": "code",
   "execution_count": 140,
   "metadata": {},
   "outputs": [],
   "source": [
    "_ = wl.set_current_workspace(new_workspace)"
   ]
  },
  {
   "attachments": {},
   "cell_type": "markdown",
   "metadata": {},
   "source": [
    "### Upload The Model\n",
    "\n",
    "With the connection set and workspace prepared, upload the model created in `02_automated_training_process.ipynb` into the current workspace."
   ]
  },
  {
   "cell_type": "code",
   "execution_count": 141,
   "metadata": {},
   "outputs": [],
   "source": [
    "hpmodel = wl.upload_model(model_name, model_file, framework=wallaroo.framework.Framework.ONNX).configure()"
   ]
  },
  {
   "attachments": {},
   "cell_type": "markdown",
   "metadata": {},
   "source": [
    "## Upload the Processing Modules\n",
    "\n",
    "Upload the `postprocess.py` modules as models to be added to the pipeline."
   ]
  },
  {
   "cell_type": "code",
   "execution_count": 142,
   "metadata": {},
   "outputs": [],
   "source": [
    "# load the postprocess module\n",
    "\n",
    "preprocess_input_schema = pa.schema([\n",
    "    pa.field('id', pa.int64()),\n",
    "    pa.field('date', pa.string()),\n",
    "    pa.field('list_price', pa.float64()),\n",
    "    pa.field('bedrooms', pa.int64()),\n",
    "    pa.field('bathrooms', pa.float64()),\n",
    "    pa.field('sqft_living', pa.int64()),\n",
    "    pa.field('sqft_lot', pa.int64()),\n",
    "    pa.field('floors', pa.float64()),\n",
    "    pa.field('waterfront', pa.int64()),\n",
    "    pa.field('view', pa.int64()),\n",
    "    pa.field('condition', pa.int64()),\n",
    "    pa.field('grade', pa.int64()),\n",
    "    pa.field('sqft_above', pa.int64()),\n",
    "    pa.field('sqft_basement', pa.int64()),\n",
    "    pa.field('yr_built', pa.int64()),\n",
    "    pa.field('yr_renovated', pa.int64()),\n",
    "    pa.field('zipcode', pa.int64()),\n",
    "    pa.field('lat', pa.float64()),\n",
    "    pa.field('long', pa.float64()),\n",
    "    pa.field('sqft_living15', pa.int64()),\n",
    "    pa.field('sqft_lot15', pa.int64()),\n",
    "    pa.field('sale_price', pa.float64())\n",
    "])\n",
    "\n",
    "preprocess_output_schema = pa.schema([\n",
    "    pa.field('tensor', pa.list_(pa.float32()))\n",
    "])\n",
    "\n",
    "module_pre = (wl.upload_model(\"preprocess\", \n",
    "                              \"./preprocess.py\", \n",
    "                              framework=wallaroo.framework.Framework.PYTHON)\n",
    "                              .configure('python',\n",
    "                                         input_schema=preprocess_input_schema,\n",
    "                                         output_schema=preprocess_output_schema)\n",
    "                )"
   ]
  },
  {
   "cell_type": "code",
   "execution_count": 143,
   "metadata": {},
   "outputs": [],
   "source": [
    "# load the postprocess module\n",
    "\n",
    "input_schema = pa.schema([\n",
    "    pa.field('variable', pa.list_(pa.float64()))\n",
    "])\n",
    "\n",
    "\n",
    "output_schema = pa.schema([\n",
    "    pa.field('variable', pa.list_(pa.float64()))\n",
    "])\n",
    "\n",
    "\n",
    "\n",
    "module_post = (wl.upload_model(\"postprocess\", \n",
    "                              \"./postprocess.py\", \n",
    "                              framework=wallaroo.framework.Framework.PYTHON)\n",
    "                              .configure('python',\n",
    "                                         input_schema=input_schema,\n",
    "                                         output_schema=output_schema)\n",
    "                )"
   ]
  },
  {
   "attachments": {},
   "cell_type": "markdown",
   "metadata": {},
   "source": [
    "### Create and Deploy the Pipeline\n",
    "\n",
    "Create the pipeline with the preprocess module, housing model, and postprocess module as pipeline steps, then deploy the newpipeline."
   ]
  },
  {
   "cell_type": "code",
   "execution_count": 144,
   "metadata": {},
   "outputs": [
    {
     "data": {
      "text/html": [
       "<table><tr><th>name</th> <td>housing-pipe</td></tr><tr><th>created</th> <td>2023-09-05 18:08:50.854139+00:00</td></tr><tr><th>last_updated</th> <td>2023-09-06 20:40:27.726082+00:00</td></tr><tr><th>deployed</th> <td>True</td></tr><tr><th>tags</th> <td></td></tr><tr><th>versions</th> <td>6b68ebf4-99f4-4e0d-a3e1-e264e1f42351, e74437cf-dbc7-49fd-9819-73bb5d8bf023, 2c940af6-e8ee-4617-aaf6-1f94b8a0c0c1, 7e0002a8-ec2c-4e28-a292-1739bdd5335c, 880a1b06-b83c-4260-8d6e-3e87bafbced8, c7dfbbfe-706a-4b14-9d90-86f4530fc479, c2c25a8b-2549-4c9b-9c6f-6fe9016ece6f, 42627d4a-14d3-4cb5-9bbf-eb3469ed7299, 378d0c98-aa68-4cf2-ab37-b0937b79742a, 91c4cdce-526b-4402-b8e6-728efcd0097d, 63f46063-43b5-4497-9af3-3d0f7bacc26d, 671acb30-b6f3-4b24-83ed-390b9aaa29fd, 7341d56f-d9e0-45e6-ad07-a36b136264d1, d7f48b2c-93f4-48d3-80b6-399c30eeb3d7, 8f199fb9-cb4b-4e2b-9a91-35c002016018, dc3351f3-408d-46a4-b761-d22d24f83a2b, 6006adf0-3244-4490-9fd6-229a86c72a73, c81ee0b1-bb26-40ea-bba0-c1eab788f41f, fa1f1348-0b8a-46c7-8c4c-dde666a2ca41</td></tr><tr><th>steps</th> <td>postprocess</td></tr><tr><th>published</th> <td>False</td></tr></table>"
      ],
      "text/plain": [
       "{'name': 'housing-pipe', 'create_time': datetime.datetime(2023, 9, 5, 18, 8, 50, 854139, tzinfo=tzutc()), 'definition': \"[{'ModelInference': {'models': [{'name': 'preprocess', 'version': 'f8fe3633-a4f5-478f-9886-d6227c5c50fc', 'sha': '5efdef46f069584318a04d1b05ce280bd0a75218019352df65def74dd6242bff'}]}}, {'ModelInference': {'models': [{'name': 'housepricemodel', 'version': 'a6669fbe-ee46-4c9e-8546-e131ed06714a', 'sha': '7404007c88906331c8159c42379f30966a21fd29fe2629049e69541d0083db9a'}]}}, {'ModelInference': {'models': [{'name': 'postprocess', 'version': 'dc63735f-29f0-479b-af4d-ef3fe7dd123d', 'sha': 'd6bb78f3d5635f2d30974bd0681348e3f1bcf370300d0e94f02e531157e636ba'}]}}]\"}"
      ]
     },
     "execution_count": 144,
     "metadata": {},
     "output_type": "execute_result"
    }
   ],
   "source": [
    "pipeline = get_pipeline(pipeline_name)\n",
    "# clear if the tutorial was run before\n",
    "pipeline.clear()\n",
    "\n",
    "pipeline.add_model_step(module_pre)\n",
    "pipeline.add_model_step(hpmodel)\n",
    "pipeline.add_model_step(module_post)\n",
    "\n",
    "pipeline.deploy()"
   ]
  },
  {
   "attachments": {},
   "cell_type": "markdown",
   "metadata": {},
   "source": [
    "### Test the Pipeline\n",
    "\n",
    "We will use a single query from the simulated `housing_price` table and infer.  When successful, we will undeploy the pipeline to restore the resources back to the Kubernetes environment."
   ]
  },
  {
   "cell_type": "code",
   "execution_count": 145,
   "metadata": {},
   "outputs": [
    {
     "name": "stdout",
     "output_type": "stream",
     "text": [
      "select * from house_listings limit 1\n"
     ]
    },
    {
     "data": {
      "text/html": [
       "<div>\n",
       "<style scoped>\n",
       "    .dataframe tbody tr th:only-of-type {\n",
       "        vertical-align: middle;\n",
       "    }\n",
       "\n",
       "    .dataframe tbody tr th {\n",
       "        vertical-align: top;\n",
       "    }\n",
       "\n",
       "    .dataframe thead th {\n",
       "        text-align: right;\n",
       "    }\n",
       "</style>\n",
       "<table border=\"1\" class=\"dataframe\">\n",
       "  <thead>\n",
       "    <tr style=\"text-align: right;\">\n",
       "      <th></th>\n",
       "      <th>id</th>\n",
       "      <th>date</th>\n",
       "      <th>list_price</th>\n",
       "      <th>bedrooms</th>\n",
       "      <th>bathrooms</th>\n",
       "      <th>sqft_living</th>\n",
       "      <th>sqft_lot</th>\n",
       "    </tr>\n",
       "  </thead>\n",
       "  <tbody>\n",
       "    <tr>\n",
       "      <th>0</th>\n",
       "      <td>7129300520</td>\n",
       "      <td>2023-01-23</td>\n",
       "      <td>221900.0</td>\n",
       "      <td>3</td>\n",
       "      <td>1.0</td>\n",
       "      <td>1180</td>\n",
       "      <td>5650</td>\n",
       "    </tr>\n",
       "  </tbody>\n",
       "</table>\n",
       "</div>"
      ],
      "text/plain": [
       "           id        date  list_price  bedrooms  bathrooms  sqft_living  \\\n",
       "0  7129300520  2023-01-23    221900.0         3        1.0         1180   \n",
       "\n",
       "   sqft_lot  \n",
       "0      5650  "
      ]
     },
     "metadata": {},
     "output_type": "display_data"
    }
   ],
   "source": [
    "conn = simdb.simulate_db_connection()\n",
    "\n",
    "# create the query\n",
    "query = f\"select * from {simdb.tablename} limit 1\"\n",
    "print(query)\n",
    "\n",
    "# read in the data\n",
    "singleton = pd.read_sql_query(query, conn)\n",
    "conn.close()\n",
    "\n",
    "display(singleton.loc[:, [\"id\", \"date\", \"list_price\", \"bedrooms\", \"bathrooms\", \"sqft_living\", \"sqft_lot\"]])"
   ]
  },
  {
   "cell_type": "code",
   "execution_count": 146,
   "metadata": {},
   "outputs": [
    {
     "data": {
      "text/html": [
       "<div>\n",
       "<style scoped>\n",
       "    .dataframe tbody tr th:only-of-type {\n",
       "        vertical-align: middle;\n",
       "    }\n",
       "\n",
       "    .dataframe tbody tr th {\n",
       "        vertical-align: top;\n",
       "    }\n",
       "\n",
       "    .dataframe thead th {\n",
       "        text-align: right;\n",
       "    }\n",
       "</style>\n",
       "<table border=\"1\" class=\"dataframe\">\n",
       "  <thead>\n",
       "    <tr style=\"text-align: right;\">\n",
       "      <th></th>\n",
       "      <th>time</th>\n",
       "      <th>out.variable</th>\n",
       "    </tr>\n",
       "  </thead>\n",
       "  <tbody>\n",
       "    <tr>\n",
       "      <th>0</th>\n",
       "      <td>2023-09-06 20:40:46.110</td>\n",
       "      <td>[224852.0]</td>\n",
       "    </tr>\n",
       "  </tbody>\n",
       "</table>\n",
       "</div>"
      ],
      "text/plain": [
       "                     time out.variable\n",
       "0 2023-09-06 20:40:46.110   [224852.0]"
      ]
     },
     "metadata": {},
     "output_type": "display_data"
    }
   ],
   "source": [
    "result = pipeline.infer(singleton)\n",
    "display(result.loc[:, ['time', 'out.variable']])"
   ]
  },
  {
   "attachments": {},
   "cell_type": "markdown",
   "metadata": {},
   "source": [
    "When finished, we undeploy the pipeline to return the resources back to the environment."
   ]
  },
  {
   "cell_type": "code",
   "execution_count": 147,
   "metadata": {},
   "outputs": [
    {
     "data": {
      "text/html": [
       "<table><tr><th>name</th> <td>housing-pipe</td></tr><tr><th>created</th> <td>2023-09-05 18:08:50.854139+00:00</td></tr><tr><th>last_updated</th> <td>2023-09-06 20:40:27.726082+00:00</td></tr><tr><th>deployed</th> <td>False</td></tr><tr><th>tags</th> <td></td></tr><tr><th>versions</th> <td>6b68ebf4-99f4-4e0d-a3e1-e264e1f42351, e74437cf-dbc7-49fd-9819-73bb5d8bf023, 2c940af6-e8ee-4617-aaf6-1f94b8a0c0c1, 7e0002a8-ec2c-4e28-a292-1739bdd5335c, 880a1b06-b83c-4260-8d6e-3e87bafbced8, c7dfbbfe-706a-4b14-9d90-86f4530fc479, c2c25a8b-2549-4c9b-9c6f-6fe9016ece6f, 42627d4a-14d3-4cb5-9bbf-eb3469ed7299, 378d0c98-aa68-4cf2-ab37-b0937b79742a, 91c4cdce-526b-4402-b8e6-728efcd0097d, 63f46063-43b5-4497-9af3-3d0f7bacc26d, 671acb30-b6f3-4b24-83ed-390b9aaa29fd, 7341d56f-d9e0-45e6-ad07-a36b136264d1, d7f48b2c-93f4-48d3-80b6-399c30eeb3d7, 8f199fb9-cb4b-4e2b-9a91-35c002016018, dc3351f3-408d-46a4-b761-d22d24f83a2b, 6006adf0-3244-4490-9fd6-229a86c72a73, c81ee0b1-bb26-40ea-bba0-c1eab788f41f, fa1f1348-0b8a-46c7-8c4c-dde666a2ca41</td></tr><tr><th>steps</th> <td>postprocess</td></tr><tr><th>published</th> <td>False</td></tr></table>"
      ],
      "text/plain": [
       "{'name': 'housing-pipe', 'create_time': datetime.datetime(2023, 9, 5, 18, 8, 50, 854139, tzinfo=tzutc()), 'definition': \"[{'ModelInference': {'models': [{'name': 'preprocess', 'version': 'f8fe3633-a4f5-478f-9886-d6227c5c50fc', 'sha': '5efdef46f069584318a04d1b05ce280bd0a75218019352df65def74dd6242bff'}]}}, {'ModelInference': {'models': [{'name': 'housepricemodel', 'version': 'a6669fbe-ee46-4c9e-8546-e131ed06714a', 'sha': '7404007c88906331c8159c42379f30966a21fd29fe2629049e69541d0083db9a'}]}}, {'ModelInference': {'models': [{'name': 'postprocess', 'version': 'dc63735f-29f0-479b-af4d-ef3fe7dd123d', 'sha': 'd6bb78f3d5635f2d30974bd0681348e3f1bcf370300d0e94f02e531157e636ba'}]}}]\"}"
      ]
     },
     "execution_count": 147,
     "metadata": {},
     "output_type": "execute_result"
    }
   ],
   "source": [
    "pipeline.undeploy()"
   ]
  },
  {
   "attachments": {},
   "cell_type": "markdown",
   "metadata": {},
   "source": [
    "With this stage complete, we can proceed to Stage 4: Regular Batch Inference."
   ]
  }
 ],
 "metadata": {
  "kernelspec": {
   "display_name": "Python 3 (ipykernel)",
   "language": "python",
   "name": "python3"
  },
  "language_info": {
   "codemirror_mode": {
    "name": "ipython",
    "version": 3
   },
   "file_extension": ".py",
   "mimetype": "text/x-python",
   "name": "python",
   "nbconvert_exporter": "python",
   "pygments_lexer": "ipython3",
   "version": "3.8.17"
  }
 },
 "nbformat": 4,
 "nbformat_minor": 4
}
