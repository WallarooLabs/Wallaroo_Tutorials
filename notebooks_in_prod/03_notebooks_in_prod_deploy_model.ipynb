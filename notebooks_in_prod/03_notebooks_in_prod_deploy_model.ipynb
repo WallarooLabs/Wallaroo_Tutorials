{
 "cells": [
  {
   "cell_type": "markdown",
   "metadata": {},
   "source": [
    "The following tutorials are available from the [Wallaroo Tutorials Repository](https://github.com/WallarooLabs/Wallaroo_Tutorials/tree/main/notebooks_in_prod).\n",
    "\n",
    "# Stage 3: Deploy the Model in Wallaroo\n",
    " \n",
    "In this stage, we upload the trained model and the processing steps to Wallaroo, then set up and deploy the inference pipeline. \n",
    "\n",
    "Once deployed we can feed the newest batch of data to the pipeline, do the inferences and write the results to a results table.\n",
    "\n",
    "For clarity in this demo, we have split the training/upload task into two notebooks:\n",
    "\n",
    "* `02_automated_training_process.ipynb`: Train and pickle ML model.\n",
    "* `03_deploy_model.ipynb`: Upload the model to Wallaroo and deploy into a pipeline.\n",
    "\n",
    "Assuming no changes are made to the structure of the model, these two notebooks, or a script based on them, can then be scheduled to run on a regular basis, to refresh the model with more recent training data and update the inference pipeline.\n",
    "\n",
    "This notebook is expected to run within the Wallaroo instance's Jupyter Hub service to provide access to all required Wallaroo libraries and functionality.\n",
    "\n",
    "## Resources\n",
    "\n",
    "The following resources are used as part of this tutorial:\n",
    "\n",
    "* **data**\n",
    "  * `data/seattle_housing_col_description.txt`: Describes the columns used as part data analysis.\n",
    "  * `data/seattle_housing.csv`: Sample data of the Seattle, Washington housing market between 2014 and 2015.\n",
    "* **code**\n",
    "  * `simdb.py`: A simulated database to demonstrate sending and receiving queries.\n",
    "* **models**\n",
    "  * `housing_model_xgb.onnx`: Model created in Stage 2: Training Process Automation Setup.\n",
    "  * `./models/preprocess_byop.zip.`: Formats the incoming data for the model.\n",
    "  * `./models/postprocess_byop.zip`: Formats the outgoing data for the model."
   ]
  },
  {
   "cell_type": "markdown",
   "metadata": {},
   "source": [
    "## Steps\n",
    "\n",
    "The process of uploading the model to Wallaroo follows these steps:\n",
    "\n",
    "* [Connect to Wallaroo](#connect-to-wallaroo): Connect to the Wallaroo instance and set up the workspace.\n",
    "* [Upload The Model](#upload-the-model): Upload the model and autoconvert for use in the Wallaroo engine.\n",
    "* [Upload the Processing Modules](#upload-the-processing-modules): Upload the processing modules.\n",
    "* [Create and Deploy the Pipeline](#create-and-deploy-the-pipeline): Create the pipeline with the model and processing modules as steps, then deploy it.\n",
    "* [Test the Pipeline](#test-the-pipeline): Verify that the pipeline works with the sample data."
   ]
  },
  {
   "cell_type": "markdown",
   "metadata": {},
   "source": [
    "### Connect to Wallaroo\n",
    "\n",
    "First we import the required libraries to connect to the Wallaroo instance, then connect to the Wallaroo instance."
   ]
  },
  {
   "cell_type": "code",
   "execution_count": 1,
   "metadata": {},
   "outputs": [],
   "source": [
    "import json\n",
    "import pickle\n",
    "import pandas as pd\n",
    "import numpy as np\n",
    "import pyarrow as pa\n",
    "\n",
    "import simdb # module for the purpose of this demo to simulate pulling data from a database\n",
    "\n",
    "# from wallaroo.ModelConversion import ConvertXGBoostArgs, ModelConversionSource, ModelConversionInputType\n",
    "import wallaroo\n",
    "from wallaroo.object import EntityNotFoundError\n",
    "\n",
    "# used to display dataframe information without truncating\n",
    "from IPython.display import display\n",
    "import pandas as pd\n",
    "pd.set_option('display.max_colwidth', None)\n",
    "\n",
    "import datetime"
   ]
  },
  {
   "cell_type": "markdown",
   "metadata": {},
   "source": [
    "### Connect to the Wallaroo Instance\n",
    "\n",
    "The first step is to connect to Wallaroo through the Wallaroo client.  The Python library is included in the Wallaroo install and available through the Jupyter Hub interface provided with your Wallaroo environment.\n",
    "\n",
    "This is accomplished using the `wallaroo.Client()` command, which provides a URL to grant the SDK permission to your specific Wallaroo environment.  When displayed, enter the URL into a browser and confirm permissions.  Store the connection into a variable that can be referenced later.\n",
    "\n",
    "If logging into the Wallaroo instance through the internal JupyterHub service, use `wl = wallaroo.Client()`.  For more information on Wallaroo Client settings, see the [Client Connection guide](https://docs.wallaroo.ai/wallaroo-developer-guides/wallaroo-sdk-guides/wallaroo-sdk-essentials-guide/wallaroo-sdk-essentials-client/)."
   ]
  },
  {
   "cell_type": "code",
   "execution_count": 2,
   "metadata": {},
   "outputs": [],
   "source": [
    "# Login through local Wallaroo instance\n",
    "\n",
    "wl = wallaroo.Client()"
   ]
  },
  {
   "cell_type": "code",
   "execution_count": 3,
   "metadata": {},
   "outputs": [],
   "source": [
    "def get_workspace(name):\n",
    "    workspace = None\n",
    "    for ws in wl.list_workspaces():\n",
    "        if ws.name() == name:\n",
    "            workspace= ws\n",
    "    if(workspace == None):\n",
    "        workspace = wl.create_workspace(name)\n",
    "    return workspace\n",
    "\n",
    "def get_pipeline(name):\n",
    "    try:\n",
    "        pipeline = wl.pipelines_by_name(name)[0]\n",
    "    except EntityNotFoundError:\n",
    "        pipeline = wl.build_pipeline(name)\n",
    "    return pipeline"
   ]
  },
  {
   "cell_type": "code",
   "execution_count": 4,
   "metadata": {},
   "outputs": [],
   "source": [
    "workspace_name = 'housepricing'\n",
    "model_name = \"housepricemodel\"\n",
    "model_file = \"./housing_model_xgb.onnx\"\n",
    "pipeline_name = \"housing-pipe\""
   ]
  },
  {
   "cell_type": "markdown",
   "metadata": {},
   "source": [
    "The workspace `housepricing` will either be created or, if already existing, used and set to the current workspace."
   ]
  },
  {
   "cell_type": "code",
   "execution_count": 5,
   "metadata": {},
   "outputs": [
    {
     "data": {
      "text/plain": [
       "{'name': 'housepricing', 'id': 5, 'archived': False, 'created_by': '4a24979e-63e9-4f04-bab4-0cf828f15ae7', 'created_at': '2024-03-13T17:58:08.872971+00:00', 'models': [], 'pipelines': []}"
      ]
     },
     "execution_count": 5,
     "metadata": {},
     "output_type": "execute_result"
    }
   ],
   "source": [
    "new_workspace = get_workspace(workspace_name)\n",
    "new_workspace"
   ]
  },
  {
   "cell_type": "code",
   "execution_count": 6,
   "metadata": {},
   "outputs": [],
   "source": [
    "_ = wl.set_current_workspace(new_workspace)"
   ]
  },
  {
   "cell_type": "markdown",
   "metadata": {},
   "source": [
    "### Upload The Model\n",
    "\n",
    "With the connection set and workspace prepared, upload the model created in `02_automated_training_process.ipynb` into the current workspace.\n",
    "\n",
    "To ensure the model input contract matches the provided input, the configuration `tensor_fields=[\"tensor\"]` is used so regardless of what the model input type is, Wallaroo will ensure inputs of type `tensor` are accepted."
   ]
  },
  {
   "cell_type": "code",
   "execution_count": 7,
   "metadata": {},
   "outputs": [],
   "source": [
    "hpmodel = (wl.upload_model(model_name, \n",
    "                           model_file, \n",
    "                           framework=wallaroo.framework.Framework.ONNX)\n",
    "                           .configure(tensor_fields=[\"tensor\"]\n",
    "                                    )\n",
    "            )"
   ]
  },
  {
   "cell_type": "markdown",
   "metadata": {},
   "source": [
    "## Upload the Processing Modules"
   ]
  },
  {
   "cell_type": "markdown",
   "metadata": {},
   "source": [
    "Preprocess model:"
   ]
  },
  {
   "cell_type": "code",
   "execution_count": 9,
   "metadata": {},
   "outputs": [
    {
     "name": "stdout",
     "output_type": "stream",
     "text": [
      "Waiting for model loading - this will take up to 10.0min.\n",
      "Model is pending loading to a container runtime..\n",
      "Model is attempting loading to a container runtime........successful\n",
      "\n",
      "Ready\n"
     ]
    }
   ],
   "source": [
    "input_schema = pa.schema([\n",
    "    pa.field('id', pa.int64()),\n",
    "    pa.field('date', pa.string()),\n",
    "    pa.field('list_price', pa.float64()),\n",
    "    pa.field('bedrooms', pa.int64()),\n",
    "    pa.field('bathrooms', pa.float64()),\n",
    "    pa.field('sqft_living', pa.int64()),\n",
    "    pa.field('sqft_lot', pa.int64()),\n",
    "    pa.field('floors', pa.float64()),\n",
    "    pa.field('waterfront', pa.int64()),\n",
    "    pa.field('view', pa.int64()),\n",
    "    pa.field('condition', pa.int64()),\n",
    "    pa.field('grade', pa.int64()),\n",
    "    pa.field('sqft_above', pa.int64()),\n",
    "    pa.field('sqft_basement', pa.int64()),\n",
    "    pa.field('yr_built', pa.int64()),\n",
    "    pa.field('yr_renovated', pa.int64()),\n",
    "    pa.field('zipcode', pa.int64()),\n",
    "    pa.field('lat', pa.float64()),\n",
    "    pa.field('long', pa.float64()),\n",
    "    pa.field('sqft_living15', pa.int64()),\n",
    "    pa.field('sqft_lot15', pa.int64()),\n",
    "    pa.field('sale_price', pa.float64())\n",
    "])\n",
    "\n",
    "output_schema = pa.schema([\n",
    "    pa.field('tensor', pa.list_(pa.float32(), list_size=18))\n",
    "])\n",
    "\n",
    "preprocess_model = wl.upload_model(\"preprocess-byop\", \"./models/preprocess_byop.zip\", \\\n",
    "                                   framework=wallaroo.framework.Framework.CUSTOM, \\\n",
    "                                   input_schema=input_schema, output_schema=output_schema)"
   ]
  },
  {
   "cell_type": "markdown",
   "metadata": {},
   "source": [
    "Postprocess model:"
   ]
  },
  {
   "cell_type": "code",
   "execution_count": 10,
   "metadata": {},
   "outputs": [
    {
     "name": "stdout",
     "output_type": "stream",
     "text": [
      "Waiting for model loading - this will take up to 10.0min.\n",
      "Model is pending loading to a container runtime..\n",
      "Model is attempting loading to a container runtime........successful\n",
      "\n",
      "Ready\n"
     ]
    }
   ],
   "source": [
    "input_schema = pa.schema([\n",
    "    pa.field('variable', pa.list_(pa.float32()))\n",
    "])\n",
    "\n",
    "\n",
    "output_schema = pa.schema([\n",
    "    pa.field('variable', pa.list_(pa.float32()))\n",
    "])\n",
    "\n",
    "postprocess_model = wl.upload_model(\"postprocess-byop\", \"./models/postprocess_byop.zip\", \\\n",
    "                                   framework=wallaroo.framework.Framework.CUSTOM, \\\n",
    "                                   input_schema=input_schema, output_schema=output_schema)"
   ]
  },
  {
   "cell_type": "markdown",
   "metadata": {},
   "source": [
    "### Create and Deploy the Pipeline\n",
    "\n",
    "Create the pipeline with the preprocess module, housing model, and postprocess module as pipeline steps, then deploy the newpipeline."
   ]
  },
  {
   "cell_type": "code",
   "execution_count": null,
   "metadata": {},
   "outputs": [],
   "source": [
    "pipeline = get_pipeline(pipeline_name)\n",
    "# clear if the tutorial was run before\n",
    "pipeline.clear()\n",
    "\n",
    "pipeline.add_model_step(preprocess_model)\n",
    "pipeline.add_model_step(hpmodel)\n",
    "pipeline.add_model_step(postprocess_model)\n",
    "\n",
    "deploy_config = wallaroo.DeploymentConfigBuilder().replica_count(1).cpus(0.5).memory(\"1Gi\").build()\n",
    "pipeline.deploy(deployment_config=deploy_config)"
   ]
  },
  {
   "cell_type": "code",
   "execution_count": 12,
   "metadata": {},
   "outputs": [
    {
     "data": {
      "text/plain": [
       "{'status': 'Running',\n",
       " 'details': [],\n",
       " 'engines': [{'ip': '10.28.0.131',\n",
       "   'name': 'engine-686c9db4fd-jhxf2',\n",
       "   'status': 'Running',\n",
       "   'reason': None,\n",
       "   'details': [],\n",
       "   'pipeline_statuses': {'pipelines': [{'id': 'housing-pipe',\n",
       "      'status': 'Running'}]},\n",
       "   'model_statuses': {'models': [{'name': 'postprocess-byop',\n",
       "      'version': 'a4f60a10-2097-4b89-ae9b-b97fc3343f12',\n",
       "      'sha': '7b95b800dd05b11b664ae269820da05de0ba6c99fc7ef270f3d645f330608a05',\n",
       "      'status': 'Running'},\n",
       "     {'name': 'preprocess-byop',\n",
       "      'version': '28e338eb-3dd6-40b8-a57e-f7405840d8c9',\n",
       "      'sha': '4e5a026b792ec84baf54b04ebf3a5d5cb24079629921efede64872cf6ccde5ca',\n",
       "      'status': 'Running'},\n",
       "     {'name': 'housepricemodel',\n",
       "      'version': 'a5198e1e-5a0e-42b3-86b5-4bcdfd330f2d',\n",
       "      'sha': 'd8b79e526eed180d39d4653b39bebd9d06e6ae7f68293b5745775a9093a3ae7d',\n",
       "      'status': 'Running'}]}}],\n",
       " 'engine_lbs': [{'ip': '10.28.0.130',\n",
       "   'name': 'engine-lb-d7cc8fc9c-r45rc',\n",
       "   'status': 'Running',\n",
       "   'reason': None,\n",
       "   'details': []}],\n",
       " 'sidekicks': [{'ip': '10.28.0.129',\n",
       "   'name': 'engine-sidekick-postprocess-byop-4-c987744bf-82kxx',\n",
       "   'status': 'Running',\n",
       "   'reason': None,\n",
       "   'details': [],\n",
       "   'statuses': '\\n'},\n",
       "  {'ip': '10.28.2.104',\n",
       "   'name': 'engine-sidekick-preprocess-byop-3-ff88cfd96-gfmzr',\n",
       "   'status': 'Running',\n",
       "   'reason': None,\n",
       "   'details': [],\n",
       "   'statuses': '\\n'}]}"
      ]
     },
     "execution_count": 12,
     "metadata": {},
     "output_type": "execute_result"
    }
   ],
   "source": [
    "pipeline.status()"
   ]
  },
  {
   "cell_type": "markdown",
   "metadata": {},
   "source": [
    "### Test the Pipeline\n",
    "\n",
    "We will use a single query from the simulated `housing_price` table and infer.  When successful, we will undeploy the pipeline to restore the resources back to the Kubernetes environment."
   ]
  },
  {
   "cell_type": "code",
   "execution_count": 13,
   "metadata": {},
   "outputs": [
    {
     "name": "stdout",
     "output_type": "stream",
     "text": [
      "select * from house_listings limit 1\n"
     ]
    },
    {
     "data": {
      "text/html": [
       "<div>\n",
       "<style scoped>\n",
       "    .dataframe tbody tr th:only-of-type {\n",
       "        vertical-align: middle;\n",
       "    }\n",
       "\n",
       "    .dataframe tbody tr th {\n",
       "        vertical-align: top;\n",
       "    }\n",
       "\n",
       "    .dataframe thead th {\n",
       "        text-align: right;\n",
       "    }\n",
       "</style>\n",
       "<table border=\"1\" class=\"dataframe\">\n",
       "  <thead>\n",
       "    <tr style=\"text-align: right;\">\n",
       "      <th></th>\n",
       "      <th>id</th>\n",
       "      <th>date</th>\n",
       "      <th>list_price</th>\n",
       "      <th>bedrooms</th>\n",
       "      <th>bathrooms</th>\n",
       "      <th>sqft_living</th>\n",
       "      <th>sqft_lot</th>\n",
       "    </tr>\n",
       "  </thead>\n",
       "  <tbody>\n",
       "    <tr>\n",
       "      <th>0</th>\n",
       "      <td>7129300520</td>\n",
       "      <td>2023-07-31</td>\n",
       "      <td>221900.0</td>\n",
       "      <td>3</td>\n",
       "      <td>1.0</td>\n",
       "      <td>1180</td>\n",
       "      <td>5650</td>\n",
       "    </tr>\n",
       "  </tbody>\n",
       "</table>\n",
       "</div>"
      ],
      "text/plain": [
       "           id        date  list_price  bedrooms  bathrooms  sqft_living  \\\n",
       "0  7129300520  2023-07-31    221900.0         3        1.0         1180   \n",
       "\n",
       "   sqft_lot  \n",
       "0      5650  "
      ]
     },
     "metadata": {},
     "output_type": "display_data"
    }
   ],
   "source": [
    "conn = simdb.simulate_db_connection()\n",
    "\n",
    "# create the query\n",
    "query = f\"select * from {simdb.tablename} limit 1\"\n",
    "print(query)\n",
    "\n",
    "# read in the data\n",
    "singleton = pd.read_sql_query(query, conn)\n",
    "conn.close()\n",
    "\n",
    "display(singleton.loc[:, [\"id\", \"date\", \"list_price\", \"bedrooms\", \"bathrooms\", \"sqft_living\", \"sqft_lot\"]])"
   ]
  },
  {
   "cell_type": "code",
   "execution_count": 14,
   "metadata": {},
   "outputs": [
    {
     "data": {
      "text/html": [
       "<div>\n",
       "<style scoped>\n",
       "    .dataframe tbody tr th:only-of-type {\n",
       "        vertical-align: middle;\n",
       "    }\n",
       "\n",
       "    .dataframe tbody tr th {\n",
       "        vertical-align: top;\n",
       "    }\n",
       "\n",
       "    .dataframe thead th {\n",
       "        text-align: right;\n",
       "    }\n",
       "</style>\n",
       "<table border=\"1\" class=\"dataframe\">\n",
       "  <thead>\n",
       "    <tr style=\"text-align: right;\">\n",
       "      <th></th>\n",
       "      <th>time</th>\n",
       "      <th>out.variable</th>\n",
       "    </tr>\n",
       "  </thead>\n",
       "  <tbody>\n",
       "    <tr>\n",
       "      <th>0</th>\n",
       "      <td>2024-03-13 18:28:37.873</td>\n",
       "      <td>[224852.0]</td>\n",
       "    </tr>\n",
       "  </tbody>\n",
       "</table>\n",
       "</div>"
      ],
      "text/plain": [
       "                     time out.variable\n",
       "0 2024-03-13 18:28:37.873   [224852.0]"
      ]
     },
     "metadata": {},
     "output_type": "display_data"
    }
   ],
   "source": [
    "result = pipeline.infer(singleton)\n",
    "display(result.loc[:, ['time', 'out.variable']])"
   ]
  },
  {
   "cell_type": "markdown",
   "metadata": {},
   "source": [
    "When finished, we undeploy the pipeline to return the resources back to the environment."
   ]
  },
  {
   "cell_type": "code",
   "execution_count": 15,
   "metadata": {},
   "outputs": [
    {
     "name": "stdout",
     "output_type": "stream",
     "text": [
      "Waiting for undeployment - this will take up to 45s ..................................... ok\n"
     ]
    },
    {
     "data": {
      "text/html": [
       "<table><tr><th>name</th> <td>housing-pipe</td></tr><tr><th>created</th> <td>2024-03-13 18:19:37.008014+00:00</td></tr><tr><th>last_updated</th> <td>2024-03-13 18:19:37.077324+00:00</td></tr><tr><th>deployed</th> <td>False</td></tr><tr><th>arch</th> <td>None</td></tr><tr><th>tags</th> <td></td></tr><tr><th>versions</th> <td>bc52c554-6b82-4e3c-a3d1-f6402ee388b0, 6348f7aa-89ba-4051-ad91-1398e5cdd519</td></tr><tr><th>steps</th> <td>preprocess-byop</td></tr><tr><th>published</th> <td>False</td></tr></table>"
      ],
      "text/plain": [
       "{'name': 'housing-pipe', 'create_time': datetime.datetime(2024, 3, 13, 18, 19, 37, 8014, tzinfo=tzutc()), 'definition': \"[{'ModelInference': {'models': [{'name': 'preprocess-byop', 'version': '28e338eb-3dd6-40b8-a57e-f7405840d8c9', 'sha': '4e5a026b792ec84baf54b04ebf3a5d5cb24079629921efede64872cf6ccde5ca'}]}}, {'ModelInference': {'models': [{'name': 'housepricemodel', 'version': 'a5198e1e-5a0e-42b3-86b5-4bcdfd330f2d', 'sha': 'd8b79e526eed180d39d4653b39bebd9d06e6ae7f68293b5745775a9093a3ae7d'}]}}, {'ModelInference': {'models': [{'name': 'postprocess-byop', 'version': 'a4f60a10-2097-4b89-ae9b-b97fc3343f12', 'sha': '7b95b800dd05b11b664ae269820da05de0ba6c99fc7ef270f3d645f330608a05'}]}}]\"}"
      ]
     },
     "execution_count": 15,
     "metadata": {},
     "output_type": "execute_result"
    }
   ],
   "source": [
    "pipeline.undeploy()"
   ]
  },
  {
   "cell_type": "markdown",
   "metadata": {},
   "source": [
    "With this stage complete, we can proceed to Stage 4: Regular Batch Inference."
   ]
  }
 ],
 "metadata": {
  "kernelspec": {
   "display_name": "Python 3 (ipykernel)",
   "language": "python",
   "name": "python3"
  },
  "language_info": {
   "codemirror_mode": {
    "name": "ipython",
    "version": 3
   },
   "file_extension": ".py",
   "mimetype": "text/x-python",
   "name": "python",
   "nbconvert_exporter": "python",
   "pygments_lexer": "ipython3",
   "version": "3.9.18"
  }
 },
 "nbformat": 4,
 "nbformat_minor": 4
}
