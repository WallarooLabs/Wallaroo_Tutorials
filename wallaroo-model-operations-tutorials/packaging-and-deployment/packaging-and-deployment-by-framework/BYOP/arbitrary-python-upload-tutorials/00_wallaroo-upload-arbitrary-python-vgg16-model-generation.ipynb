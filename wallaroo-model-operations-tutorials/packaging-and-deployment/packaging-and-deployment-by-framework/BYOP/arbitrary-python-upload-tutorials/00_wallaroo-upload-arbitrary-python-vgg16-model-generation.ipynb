{
 "cells": [
  {
   "attachments": {},
   "cell_type": "markdown",
   "id": "55e78dca",
   "metadata": {},
   "source": [
    "This tutorial can be downloaded as part of the [Wallaroo Tutorials repository](https://github.com/WallarooLabs/Wallaroo_Tutorials/blob/wallaroo2025.1_tutorials/wallaroo-model-operations-tutorials/packaging-and-deployment/packaging-and-deployment-by-framework/BYOP/arbitrary-python-upload-tutorials).\n",
    "\n",
    "## Wallaroo SDK Upload Custom Model Tutorial: Generate Model\n",
    "\n",
    "This tutorial demonstrates how to use Wallaroo Custom Model as a ML Model in Wallaroo.  Custom Model allows organizations to use Python scripts that require specific libraries and artifacts as models in the Wallaroo engine.  This allows for highly flexible use of ML models with supporting scripts.\n",
    "\n",
    "### Tutorial Goals\n",
    "\n",
    "This tutorial is split into two parts:\n",
    "\n",
    "* **Wallaroo SDK Upload Custom Model Tutorial: Generate Model**: Train a dummy `KMeans` model for clustering images using a pre-trained `VGG16` model on `cifar10` as a feature extractor.  The Python entry points used for Wallaroo deployment will be added and described.\n",
    "  * A copy of the arbitrary Python model `models/model-auto-conversion-BYOP-vgg16-clustering.zip` is included in this tutorial, so this step can be skipped.\n",
    "* **Custom Model Tutorial Deploy Model in Wallaroo Upload and Deploy**: Deploys the `KMeans` model in an arbitrary Python package in Wallaroo, and perform sample inferences.  The file `models/model-auto-conversion-BYOP-vgg16-clustering.zip` is provided so users can go right to testing deployment.\n",
    "\n",
    "### Custom Model Script Requirements\n",
    "\n",
    "The entry point of the Wallaroo Custom Model is any python script that **must** include the following.\n",
    "\n",
    "* `class ImageClustering(Inference)`:  The default inference class.  This is used to perform the actual inferences.  Wallaroo uses the `_predict` method to receive the inference data and call the appropriate functions for the inference.\n",
    "  * `def __init__`:  Used to initialize this class and load in any other classes or other required settings.\n",
    "  * `def expected_model_types`: Used by Wallaroo to anticipate what model types are used by the script.\n",
    "  * `def model(self, model)`: Defines the model used for the inference.  Accepts the model instance used in the inference.\n",
    "    * `self._raise_error_if_model_is_wrong_type(model)`: Returns the error if the wrong model type is used.  This verifies that only the anticipated model type is used for the inference.\n",
    "    * `self._model = model`: Sets the submitted model as the model for this class, provided `_raise_error_if_model_is_wrong_type` is not raised.\n",
    "  * `def _predict(self, input_data: InferenceData)`:  This is the entry point for Wallaroo to perform the inference.  This will receive the inference data, then perform whatever steps and return a dictionary of numpy arrays.\n",
    "* `class ImageClusteringBuilder(InferenceBuilder)`: Loads the model and prepares it for inferencing.\n",
    "  * `def inference(self) -> ImageClustering`: Sets the inference class being used for the inferences.\n",
    "  * `def create(self, config: CustomInferenceConfig) -> ImageClustering`: Creates an inference subclass, assigning the model and any attributes required for it to function.\n",
    "\n",
    "All other methods used for the functioning of these classes are optional, as long as they meet the requirements listed above.\n",
    "\n",
    "The following `requirements.txt` specifies the libraries to use - these **must** match the versions specified [in the Wallaroo Model Upload documentation](https://docs.wallaroo.ai/wallaroo-model-operations/wallaroo-model-operations-deploy/wallaroo-model-operations-upload-register/).\n",
    "\n",
    "```text\n",
    "tensorflow==2.9.3\n",
    "scikit-learn==1.3.0\n",
    "```\n",
    "\n",
    "### Tutorial Prerequisites\n",
    "\n",
    "* Wallaroo Version 2024.2 or above instance.\n",
    "\n",
    "### References\n",
    "\n",
    "* [Wallaroo SDK Essentials Guide: Model Uploads and Registrations: Custom Model](https://docs.wallaroo.ai/wallaroo-developer-guides/wallaroo-sdk-guides/wallaroo-sdk-essentials-guide/wallaroo-sdk-model-uploads/wallaroo-sdk-model-arbitrary-python/)"
   ]
  },
  {
   "attachments": {},
   "cell_type": "markdown",
   "id": "d62d3dd1",
   "metadata": {},
   "source": [
    "## VGG16 Model Training Steps\n",
    "\n",
    "This process will train a dummy `KMeans` model for clustering images using a pre-trained `VGG16` model on `cifar10` as a feature extractor.  This model consists of the following elements:\n",
    "\n",
    "* All elements are stored in the folder `models/vgg16_clustering`.  This will be converted to the zip file `model-auto-conversion-BYOP-vgg16-clustering.zip`.\n",
    "* `models/vgg16_clustering` will contain the following:\n",
    "  * All necessary model artifacts\n",
    "  * One or multiple Python files implementing the classes `Inference` and `InferenceBuilder`.  The implemented classes can have any naming they desire as long as they inherit from the appropriate base classes.\n",
    "  * a `requirements.txt` file with all necessary pip requirements to successfully run the inference"
   ]
  },
  {
   "attachments": {},
   "cell_type": "markdown",
   "id": "0a5216bd-3044-42ac-8514-98c90e5bbb38",
   "metadata": {},
   "source": [
    "### Import Libraries\n",
    "\n",
    "The first step is to import the libraries we'll be using.  These are included by default in the Wallaroo instance's JupyterHub service."
   ]
  },
  {
   "cell_type": "code",
   "execution_count": 1,
   "id": "2fe9934d-7f28-4715-94df-e18da031a4c9",
   "metadata": {},
   "outputs": [
    {
     "name": "stderr",
     "output_type": "stream",
     "text": [
      "2023-07-07 16:16:26.511340: W tensorflow/stream_executor/platform/default/dso_loader.cc:64] Could not load dynamic library 'libcudart.so.11.0'; dlerror: libcudart.so.11.0: cannot open shared object file: No such file or directory\n",
      "2023-07-07 16:16:26.511369: I tensorflow/stream_executor/cuda/cudart_stub.cc:29] Ignore above cudart dlerror if you do not have a GPU set up on your machine.\n"
     ]
    }
   ],
   "source": [
    "import numpy as np\n",
    "import pandas as pd\n",
    "import json\n",
    "import os\n",
    "import pickle\n",
    "import pyarrow as pa\n",
    "import tensorflow as tf\n",
    "import warnings\n",
    "warnings.filterwarnings('ignore')\n",
    "\n",
    "from sklearn.cluster import KMeans\n",
    "from tensorflow.keras.datasets import cifar10\n",
    "from tensorflow.keras import Model\n",
    "from tensorflow.keras.layers import Flatten"
   ]
  },
  {
   "attachments": {},
   "cell_type": "markdown",
   "id": "bd8b929a",
   "metadata": {},
   "source": [
    "### Variables\n",
    "\n",
    "We'll use these variables in later steps rather than hard code them in.  In this case, the directory where we'll store our artifacts."
   ]
  },
  {
   "cell_type": "code",
   "execution_count": 2,
   "id": "f72d805d",
   "metadata": {},
   "outputs": [],
   "source": [
    "model_directory = './models/vgg16_clustering'"
   ]
  },
  {
   "attachments": {},
   "cell_type": "markdown",
   "id": "10bc8a4f-39d3-4b1d-aea4-2c53b313e84a",
   "metadata": {},
   "source": [
    "### Load Data Set\n",
    "\n",
    "In this section, we will load our sample data and shape it."
   ]
  },
  {
   "cell_type": "code",
   "execution_count": 3,
   "id": "95586b16-a287-4d4e-9502-198c26e85046",
   "metadata": {},
   "outputs": [],
   "source": [
    "# Load and preprocess the CIFAR-10 dataset\n",
    "(X_train, y_train), (X_test, y_test) = cifar10.load_data()\n",
    "\n",
    "# Normalize the pixel values to be between 0 and 1\n",
    "X_train = X_train / 255.0\n",
    "X_test = X_test / 255.0"
   ]
  },
  {
   "cell_type": "code",
   "execution_count": 4,
   "id": "12aad2d1-7394-445a-90e7-fbb3afb0bfde",
   "metadata": {},
   "outputs": [
    {
     "data": {
      "text/plain": [
       "(50000, 32, 32, 3)"
      ]
     },
     "execution_count": 4,
     "metadata": {},
     "output_type": "execute_result"
    }
   ],
   "source": [
    "X_train.shape"
   ]
  },
  {
   "attachments": {},
   "cell_type": "markdown",
   "id": "89f3d99c-0c4d-48f0-ada6-39284c51f1c1",
   "metadata": {},
   "source": [
    "### Train KMeans with VGG16 as feature extractor\n",
    "\n",
    "Now we will train our model."
   ]
  },
  {
   "cell_type": "code",
   "execution_count": 5,
   "id": "730452fe-4d65-460a-9155-debd2a9efa6b",
   "metadata": {},
   "outputs": [
    {
     "name": "stderr",
     "output_type": "stream",
     "text": [
      "2023-07-07 16:16:30.207936: W tensorflow/stream_executor/platform/default/dso_loader.cc:64] Could not load dynamic library 'libcuda.so.1'; dlerror: libcuda.so.1: cannot open shared object file: No such file or directory\n",
      "2023-07-07 16:16:30.207966: W tensorflow/stream_executor/cuda/cuda_driver.cc:269] failed call to cuInit: UNKNOWN ERROR (303)\n",
      "2023-07-07 16:16:30.207987: I tensorflow/stream_executor/cuda/cuda_diagnostics.cc:156] kernel driver does not appear to be running on this host (jupyter-john-2ehummel-40wallaroo-2eai): /proc/driver/nvidia/version does not exist\n",
      "2023-07-07 16:16:30.208169: I tensorflow/core/platform/cpu_feature_guard.cc:151] This TensorFlow binary is optimized with oneAPI Deep Neural Network Library (oneDNN) to use the following CPU instructions in performance-critical operations:  AVX2 AVX512F FMA\n",
      "To enable them in other operations, rebuild TensorFlow with the appropriate compiler flags.\n"
     ]
    }
   ],
   "source": [
    "pretrained_model = tf.keras.applications.VGG16(include_top=False, \n",
    "                                               weights='imagenet', \n",
    "                                               input_shape=(32, 32, 3)\n",
    "                                               )\n",
    "embedding_model = Model(inputs=pretrained_model.input, \n",
    "                        outputs=Flatten()(pretrained_model.output))"
   ]
  },
  {
   "cell_type": "code",
   "execution_count": 6,
   "id": "22977dc9-b92f-471b-ab3b-6f041c9c6968",
   "metadata": {},
   "outputs": [],
   "source": [
    "X_train_embeddings = embedding_model.predict(X_train[:100])\n",
    "X_test_embeddings = embedding_model.predict(X_test[:100])"
   ]
  },
  {
   "cell_type": "code",
   "execution_count": 7,
   "id": "26510975-9111-4feb-a045-3eda24d36d64",
   "metadata": {},
   "outputs": [],
   "source": [
    "kmeans = KMeans(n_clusters=2, random_state=0).fit(X_train_embeddings)"
   ]
  },
  {
   "attachments": {},
   "cell_type": "markdown",
   "id": "c23a1644-c813-4e42-bb38-2f29112a9252",
   "metadata": {},
   "source": [
    "### Save Models"
   ]
  },
  {
   "attachments": {},
   "cell_type": "markdown",
   "id": "5df02ac7-5199-431d-be49-65d13893a6da",
   "metadata": {},
   "source": [
    "Let's first create the directory where the model artifacts will be saved:"
   ]
  },
  {
   "cell_type": "code",
   "execution_count": 9,
   "id": "68a85cd0-4583-4119-93cb-0e469a851801",
   "metadata": {},
   "outputs": [],
   "source": [
    "os.makedirs(model_directory, exist_ok=True)"
   ]
  },
  {
   "attachments": {},
   "cell_type": "markdown",
   "id": "008584be-0980-47e5-9edc-6344ff33f242",
   "metadata": {
    "tags": []
   },
   "source": [
    "And now save the two models:"
   ]
  },
  {
   "cell_type": "code",
   "execution_count": 10,
   "id": "8d1a61a3-197a-4c0e-9bbc-787eef61e2a1",
   "metadata": {},
   "outputs": [],
   "source": [
    "with  open(f'{model_directory}/kmeans.pkl', 'wb') as fp:\n",
    "    pickle.dump(kmeans, fp)"
   ]
  },
  {
   "cell_type": "code",
   "execution_count": 11,
   "id": "4b381d54-6a8b-4200-ae98-05c560216ef7",
   "metadata": {},
   "outputs": [
    {
     "name": "stdout",
     "output_type": "stream",
     "text": [
      "WARNING:tensorflow:Compiled the loaded model, but the compiled metrics have yet to be built. `model.compile_metrics` will be empty until you train or evaluate the model.\n"
     ]
    }
   ],
   "source": [
    "embedding_model.save(f'{model_directory}/feature_extractor.h5')"
   ]
  },
  {
   "attachments": {},
   "cell_type": "markdown",
   "id": "cbc2ebdc-1a9f-4eac-98e2-6d8eb372a33e",
   "metadata": {},
   "source": [
    "All needed model artifacts have been now saved under our model directory."
   ]
  },
  {
   "attachments": {},
   "cell_type": "markdown",
   "id": "7acde461-fcda-4302-b738-272831f06c0f",
   "metadata": {},
   "source": [
    "### Sample Custom Model Script\n",
    "\n",
    "The following shows an example of extending the Inference and InferenceBuilder classes for our specific model.  This script is located in our model directory under `./models/vgg16_clustering`."
   ]
  },
  {
   "attachments": {},
   "cell_type": "markdown",
   "id": "92df76f9-0dca-4811-b710-9f60d64abd7b",
   "metadata": {},
   "source": [
    "```python\n",
    "\"\"\"This module features an example implementation of a custom Inference and its\n",
    "corresponding InferenceBuilder.\"\"\"\n",
    "\n",
    "import pathlib\n",
    "import pickle\n",
    "from typing import Any, Set\n",
    "\n",
    "import tensorflow as tf\n",
    "from mac.config.inference import CustomInferenceConfig\n",
    "from mac.inference import Inference\n",
    "from mac.inference.creation import InferenceBuilder\n",
    "from mac.types import InferenceData\n",
    "from sklearn.cluster import KMeans\n",
    "\n",
    "\n",
    "class ImageClustering(Inference):\n",
    "    \"\"\"Inference class for image clustering, that uses\n",
    "    a pre-trained VGG16 model on cifar10 as a feature extractor\n",
    "    and performs clustering on a trained KMeans model.\n",
    "\n",
    "    Attributes:\n",
    "        - feature_extractor: The embedding model we will use\n",
    "        as a feature extractor (i.e. a trained VGG16).\n",
    "        - expected_model_types: A set of model instance types that are expected by this inference.\n",
    "        - model: The model on which the inference is calculated.\n",
    "    \"\"\"\n",
    "\n",
    "    def __init__(self, feature_extractor: tf.keras.Model):\n",
    "        self.feature_extractor = feature_extractor\n",
    "        super().__init__()\n",
    "\n",
    "    @property\n",
    "    def expected_model_types(self) -> Set[Any]:\n",
    "        return {KMeans}\n",
    "\n",
    "    @Inference.model.setter  # type: ignore\n",
    "    def model(self, model) -> None:\n",
    "        \"\"\"Sets the model on which the inference is calculated.\n",
    "\n",
    "        :param model: A model instance on which the inference is calculated.\n",
    "\n",
    "        :raises TypeError: If the model is not an instance of expected_model_types\n",
    "            (i.e. KMeans).\n",
    "        \"\"\"\n",
    "        self._raise_error_if_model_is_wrong_type(model) # this will make sure an error will be raised if the model is of wrong type\n",
    "        self._model = model\n",
    "\n",
    "    def _predict(self, input_data: InferenceData) -> InferenceData:\n",
    "        \"\"\"Calculates the inference on the given input data.\n",
    "        This is the core function that each subclass needs to implement\n",
    "        in order to calculate the inference.\n",
    "\n",
    "        :param input_data: The input data on which the inference is calculated.\n",
    "        It is of type InferenceData, meaning it comes as a dictionary of numpy\n",
    "        arrays.\n",
    "\n",
    "        :raises InferenceDataValidationError: If the input data is not valid.\n",
    "        Ideally, every subclass should raise this error if the input data is not valid.\n",
    "\n",
    "        :return: The output of the model, that is a dictionary of numpy arrays.\n",
    "        \"\"\"\n",
    "\n",
    "        # input_data maps to the input_schema we have defined\n",
    "        # with PyArrow, coming as a dictionary of numpy arrays\n",
    "        inputs = input_data[\"images\"]\n",
    "\n",
    "        # Forward inputs to the models\n",
    "        embeddings = self.feature_extractor(inputs)\n",
    "        predictions = self.model.predict(embeddings.numpy())\n",
    "\n",
    "        # Return predictions as dictionary of numpy arrays\n",
    "        return {\"predictions\": predictions}\n",
    "\n",
    "\n",
    "class ImageClusteringBuilder(InferenceBuilder):\n",
    "    \"\"\"InferenceBuilder subclass for ImageClustering, that loads\n",
    "    a pre-trained VGG16 model on cifar10 as a feature extractor\n",
    "    and a trained KMeans model, and creates an ImageClustering object.\"\"\"\n",
    "\n",
    "    @property\n",
    "    def inference(self) -> ImageClustering:\n",
    "        return ImageClustering\n",
    "\n",
    "    def create(self, config: CustomInferenceConfig) -> ImageClustering:\n",
    "        \"\"\"Creates an Inference subclass and assigns a model and additionally\n",
    "        needed attributes to it.\n",
    "\n",
    "        :param config: Custom inference configuration. In particular, we're\n",
    "        interested in `config.model_path` that is a pathlib.Path object\n",
    "        pointing to the folder where the model artifacts are saved.\n",
    "        Every artifact we need to load from this folder has to be\n",
    "        relative to `config.model_path`.\n",
    "\n",
    "        :return: A custom Inference instance.\n",
    "        \"\"\"\n",
    "        feature_extractor = self._load_feature_extractor(\n",
    "            config.model_path / \"feature_extractor.h5\"\n",
    "        )\n",
    "        inference = self.inference(feature_extractor)\n",
    "        model = self._load_model(config.model_path / \"kmeans.pkl\")\n",
    "        inference.model = model\n",
    "\n",
    "        return inference\n",
    "\n",
    "    def _load_feature_extractor(\n",
    "        self, file_path: pathlib.Path\n",
    "    ) -> tf.keras.Model:\n",
    "        return tf.keras.models.load_model(file_path)\n",
    "\n",
    "    def _load_model(self, file_path: pathlib.Path) -> KMeans:\n",
    "        with open(file_path.as_posix(), \"rb\") as fp:\n",
    "            model = pickle.load(fp)\n",
    "        return model\n",
    "```"
   ]
  },
  {
   "attachments": {},
   "cell_type": "markdown",
   "id": "3d0deb66-e1b2-440a-b5c2-eec7ffc83cad",
   "metadata": {},
   "source": [
    "### Create Requirements File\n",
    "\n",
    "As a last step we need to create a `requirements.txt` file and save it under our `vgg_clustering/`. The file should contain all the necessary pip requirements needed to run the inference. It will have this data inside.\n",
    "\n",
    "* **IMPORTANT NOTE**:  Verify that the library versions match the [required model versions and libraries for Wallaroo](https://docs.wallaroo.ai/wallaroo-developer-guides/wallaroo-sdk-guides/wallaroo-sdk-essentials-guide/wallaroo-sdk-model-uploads/).  Otherwise the deployed models "
   ]
  },
  {
   "attachments": {},
   "cell_type": "markdown",
   "id": "9feed3f4-8ce2-4752-b1d3-7a84e3f2c6cc",
   "metadata": {},
   "source": [
    "```txt\n",
    "tensorflow==2.8.0\n",
    "scikit-learn==1.2.2\n",
    "```"
   ]
  },
  {
   "attachments": {},
   "cell_type": "markdown",
   "id": "2e6942ac-f177-4297-8d2b-b737dd648a06",
   "metadata": {},
   "source": [
    "### Zip model folder"
   ]
  },
  {
   "attachments": {},
   "cell_type": "markdown",
   "id": "a561b11f-bbe3-4785-a60c-7667f2128e5e",
   "metadata": {},
   "source": [
    "Assuming we have stored the following files inside out model directory `models/vgg_clustering/`:\n",
    "\n",
    "1. `feature_extractor.h5`\n",
    "1. `kmeans.pkl`\n",
    "1. `custom_inference.py`\n",
    "1. `requirements.txt`\n",
    "\n",
    "Now we will zip the file.  This is performed with the `zip` command and the `-r` option to zip the contents of the entire directory."
   ]
  },
  {
   "attachments": {},
   "cell_type": "markdown",
   "id": "fb85dde1-1af1-412e-b3a0-7740f94fb752",
   "metadata": {},
   "source": [
    "`zip -r model-auto-conversion-BYOP-vgg16-clustering.zip vgg16_clustering/`"
   ]
  },
  {
   "attachments": {},
   "cell_type": "markdown",
   "id": "dcefe1e1-22cd-4bb9-8ddd-9b294d916db3",
   "metadata": {},
   "source": [
    "The arbitrary Python custom model can now be uploaded to the Wallaroo instance."
   ]
  }
 ],
 "metadata": {
  "kernelspec": {
   "display_name": "Python 3 (ipykernel)",
   "language": "python",
   "name": "python3"
  },
  "language_info": {
   "codemirror_mode": {
    "name": "ipython",
    "version": 3
   },
   "file_extension": ".py",
   "mimetype": "text/x-python",
   "name": "python",
   "nbconvert_exporter": "python",
   "pygments_lexer": "ipython3",
   "version": "3.8.18"
  }
 },
 "nbformat": 4,
 "nbformat_minor": 5
}
