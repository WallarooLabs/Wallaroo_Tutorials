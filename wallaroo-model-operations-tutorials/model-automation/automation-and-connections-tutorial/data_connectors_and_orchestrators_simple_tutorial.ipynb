{
 "cells": [
  {
   "cell_type": "markdown",
   "id": "54d6daff",
   "metadata": {},
   "source": [
    "This can be downloaded as part of the [Wallaroo Tutorials repository](https://github.com/WallarooLabs/Wallaroo_Tutorials/blob/wallaroo2025.1_tutorials/wallaroo-model-operations-tutorials/model-automation/automation-and-connections-tutorial).\n",
    "\n",
    "## Wallaroo Connection and ML Workload Orchestration Simple Tutorial\n",
    "\n",
    "This tutorial provides a quick set of methods and examples regarding Wallaroo Connections and Wallaroo ML Workload Orchestration.  For full details, see the Wallaroo Documentation site.\n",
    "\n",
    "Wallaroo provides Data Connections and ML Workload Orchestrations to provide organizations with a method of creating and managing automated tasks that can either be run on demand or a regular schedule.\n",
    "\n",
    "## Definitions\n",
    "\n",
    "* **Orchestration**: A set of instructions written as a python script with a requirements library.  Orchestrations are uploaded to the Wallaroo instance as a .zip file.\n",
    "* **Task**: An implementation of an orchestration.  Tasks are run either once when requested, on a repeating schedule, or as a service.\n",
    "* **Connection**: Definitions set by MLOps engineers that are used by other Wallaroo users for connection information to a data source.  Usually paired with orchestrations.\n",
    "\n",
    "## Tutorial Goals\n",
    "\n",
    "The tutorial will demonstrate the following:\n",
    "\n",
    "1. Create a Wallaroo connection to retrieving information from an external source.\n",
    "1. Upload Wallaroo ML Workload Orchestration.\n",
    "1. Run the orchestration once as a Run Once Task and verify that the information was saved the pipeline logs.\n",
    "1. Schedule the orchestration as a Scheduled Task and verify that the information was saved to the pipeline logs."
   ]
  },
  {
   "cell_type": "markdown",
   "id": "67e1bb26",
   "metadata": {},
   "source": [
    "## Prerequisites\n",
    "\n",
    "* An installed Wallaroo instance.\n",
    "* The following Python libraries installed.  These are included by default in a Wallaroo instance's JupyterHub service.\n",
    "  * `os`\n",
    "  * [`wallaroo`](https://pypi.org/project/wallaroo/): The Wallaroo SDK. Included with the Wallaroo JupyterHub service by default.\n",
    "  * [`pandas`](https://pypi.org/project/pandas/): Pandas, mainly used for Pandas DataFrame\n",
    "  * [`pyarrow`](https://pypi.org/project/pyarrow/): PyArrow for Apache Arrow support"
   ]
  },
  {
   "cell_type": "markdown",
   "id": "a2b09330-0408-45eb-b321-b48b65041789",
   "metadata": {},
   "source": [
    "## Initial Steps\n",
    "\n",
    "For this tutorial, we'll create a workspace, upload our sample model and deploy a pipeline.  We'll perform some quick sample inferences to verify that everything it working.\n",
    "\n",
    "### Load Libraries\n",
    "\n",
    "Here we'll import the various libraries we'll use for the tutorial."
   ]
  },
  {
   "cell_type": "code",
   "execution_count": 60,
   "id": "43ee5f42",
   "metadata": {},
   "outputs": [],
   "source": [
    "import wallaroo\n",
    "from wallaroo.object import EntityNotFoundError, RequiredAttributeMissing\n",
    "\n",
    "# to display dataframe tables\n",
    "from IPython.display import display\n",
    "# used to display dataframe information without truncating\n",
    "import pandas as pd\n",
    "pd.set_option('display.max_colwidth', None)\n",
    "pd.set_option('display.max_columns', None)\n",
    "import pyarrow as pa\n",
    "\n",
    "import time"
   ]
  },
  {
   "cell_type": "markdown",
   "id": "ae645fd0",
   "metadata": {},
   "source": [
    "### Connect to the Wallaroo Instance\n",
    "\n",
    "The first step is to connect to Wallaroo through the Wallaroo client.  The Python library is included in the Wallaroo install and available through the Jupyter Hub interface provided with your Wallaroo environment.\n",
    "\n",
    "This is accomplished using the `wallaroo.Client()` command, which provides a URL to grant the SDK permission to your specific Wallaroo environment.  When displayed, enter the URL into a browser and confirm permissions.  Store the connection into a variable that can be referenced later.\n",
    "\n",
    "If logging into the Wallaroo instance through the internal JupyterHub service, use `wl = wallaroo.Client()`.  For more information on Wallaroo Client settings, see the [Client Connection guide](https://docs.wallaroo.ai/wallaroo-developer-guides/wallaroo-sdk-guides/wallaroo-sdk-essentials-guide/wallaroo-sdk-essentials-client/)."
   ]
  },
  {
   "cell_type": "code",
   "execution_count": 61,
   "id": "e9d19a6e",
   "metadata": {},
   "outputs": [],
   "source": [
    "# Login through local Wallaroo instance\n",
    "\n",
    "wl = wallaroo.Client()"
   ]
  },
  {
   "cell_type": "code",
   "execution_count": 62,
   "id": "06a981ef",
   "metadata": {},
   "outputs": [],
   "source": [
    "# Setting variables for later steps\n",
    "\n",
    "workspace_name = f'simpleorchestrationworkspace'\n",
    "pipeline_name = f'simpleorchestrationtutorial'\n",
    "model_name = f'simpleorchestrationmodel'\n",
    "model_file_name = './models/rf_model.onnx'\n",
    "\n",
    "inference_connection_name = f'external_inference_connection_sample'\n",
    "inference_connection_type = \"HTTP\"\n",
    "inference_connection_argument = {'host':'https://github.com/WallarooLabs/Wallaroo_Tutorials/raw/main/wallaroo-automate/orchestration_sdk_simple_tutorial/data/xtest-1k.arrow'}"
   ]
  },
  {
   "cell_type": "markdown",
   "id": "98b78cf9",
   "metadata": {},
   "source": [
    "### Create the Workspace and Pipeline\n",
    "\n",
    "We'll now create our workspace and pipeline for the tutorial.  If this tutorial has been run previously, then this will retrieve the existing ones with the assumption they're for us with this tutorial.\n",
    "\n",
    "We'll set the retrieved workspace as the current workspace in the SDK, so all commands will default to that workspace."
   ]
  },
  {
   "cell_type": "code",
   "execution_count": 63,
   "id": "59aa845d",
   "metadata": {},
   "outputs": [],
   "source": [
    "workspace = wl.get_workspace(name=workspace_name, create_if_not_exist=True)\n",
    "wl.set_current_workspace(workspace)\n",
    "\n",
    "pipeline = wl.build_pipeline(pipeline_name)"
   ]
  },
  {
   "cell_type": "markdown",
   "id": "8a9fc274",
   "metadata": {},
   "source": [
    "### Upload the Model and Deploy Pipeline\n",
    "\n",
    "We'll upload our model into our sample workspace, then add it as a pipeline step before deploying the pipeline to it's ready to accept inference requests."
   ]
  },
  {
   "cell_type": "code",
   "execution_count": 64,
   "id": "f6a69610",
   "metadata": {},
   "outputs": [
    {
     "data": {
      "text/html": [
       "<table><tr><th>name</th> <td>simpleorchestrationtutorial</td></tr><tr><th>created</th> <td>2024-12-09 20:55:16.678469+00:00</td></tr><tr><th>last_updated</th> <td>2024-12-09 20:58:36.402309+00:00</td></tr><tr><th>deployed</th> <td>True</td></tr><tr><th>workspace_id</th> <td>11</td></tr><tr><th>workspace_name</th> <td>simpleorchestrationworkspace</td></tr><tr><th>arch</th> <td>x86</td></tr><tr><th>accel</th> <td>none</td></tr><tr><th>tags</th> <td></td></tr><tr><th>versions</th> <td>ad484f85-d883-4b68-b570-ba9226cfd50e, 55a63232-8069-4800-80f6-1738cc1c83a8, 9c89d4a8-b42d-4381-a189-10cda5020de6, e97cd75a-72f9-486e-be03-accf47b9d111</td></tr><tr><th>steps</th> <td>simpleorchestrationmodel</td></tr><tr><th>published</th> <td>False</td></tr></table>"
      ],
      "text/plain": [
       "{'name': 'simpleorchestrationtutorial', 'create_time': datetime.datetime(2024, 12, 9, 20, 55, 16, 678469, tzinfo=tzutc()), 'definition': \"[{'ModelInference': {'models': [{'name': 'simpleorchestrationmodel', 'version': '758c0ae1-6c96-4d58-b1a0-4562bfcc7fed', 'sha': 'e22a0831aafd9917f3cc87a15ed267797f80e2afa12ad7d8810ca58f173b8cc6'}]}}]\"}"
      ]
     },
     "execution_count": 64,
     "metadata": {},
     "output_type": "execute_result"
    }
   ],
   "source": [
    "# Upload the model\n",
    "\n",
    "housing_model_control = (wl.upload_model(model_name, \n",
    "                                         model_file_name, \n",
    "                                         framework=wallaroo.framework.Framework.ONNX)\n",
    "                                         .configure(tensor_fields=[\"tensor\"])\n",
    "                        )\n",
    "\n",
    "# Add the model as a pipeline step\n",
    "\n",
    "pipeline.clear()\n",
    "pipeline.add_model_step(housing_model_control)"
   ]
  },
  {
   "cell_type": "code",
   "execution_count": 65,
   "id": "a484796e",
   "metadata": {},
   "outputs": [
    {
     "name": "stdout",
     "output_type": "stream",
     "text": [
      "Deployment initiated for simpleorchestrationtutorial. Please check pipeline status.\n"
     ]
    },
    {
     "data": {
      "text/html": [
       "<table><tr><th>name</th> <td>simpleorchestrationtutorial</td></tr><tr><th>created</th> <td>2024-12-09 20:55:16.678469+00:00</td></tr><tr><th>last_updated</th> <td>2024-12-09 20:58:40.614698+00:00</td></tr><tr><th>deployed</th> <td>True</td></tr><tr><th>workspace_id</th> <td>11</td></tr><tr><th>workspace_name</th> <td>simpleorchestrationworkspace</td></tr><tr><th>arch</th> <td>x86</td></tr><tr><th>accel</th> <td>none</td></tr><tr><th>tags</th> <td></td></tr><tr><th>versions</th> <td>de61b33b-cb0d-46ae-aa24-5a51e5287d87, ad484f85-d883-4b68-b570-ba9226cfd50e, 55a63232-8069-4800-80f6-1738cc1c83a8, 9c89d4a8-b42d-4381-a189-10cda5020de6, e97cd75a-72f9-486e-be03-accf47b9d111</td></tr><tr><th>steps</th> <td>simpleorchestrationmodel</td></tr><tr><th>published</th> <td>False</td></tr></table>"
      ],
      "text/plain": [
       "{'name': 'simpleorchestrationtutorial', 'create_time': datetime.datetime(2024, 12, 9, 20, 55, 16, 678469, tzinfo=tzutc()), 'definition': \"[{'ModelInference': {'models': [{'name': 'simpleorchestrationmodel', 'version': '758c0ae1-6c96-4d58-b1a0-4562bfcc7fed', 'sha': 'e22a0831aafd9917f3cc87a15ed267797f80e2afa12ad7d8810ca58f173b8cc6'}]}}]\"}"
      ]
     },
     "execution_count": 65,
     "metadata": {},
     "output_type": "execute_result"
    }
   ],
   "source": [
    "#deploy the pipeline\n",
    "pipeline.deploy(wait_for_status=False)"
   ]
  },
  {
   "cell_type": "code",
   "execution_count": null,
   "id": "7c791ebe",
   "metadata": {},
   "outputs": [
    {
     "data": {
      "text/plain": [
       "{'status': 'Running',\n",
       " 'details': [],\n",
       " 'engines': [{'ip': '10.28.0.3',\n",
       "   'name': 'engine-c6995ccd4-kbhd7',\n",
       "   'status': 'Running',\n",
       "   'reason': None,\n",
       "   'details': [],\n",
       "   'pipeline_statuses': {'pipelines': [{'id': 'simpleorchestrationtutorial',\n",
       "      'status': 'Running',\n",
       "      'version': 'de61b33b-cb0d-46ae-aa24-5a51e5287d87'}]},\n",
       "   'model_statuses': {'models': [{'model_version_id': 5,\n",
       "      'name': 'simpleorchestrationmodel',\n",
       "      'sha': 'e22a0831aafd9917f3cc87a15ed267797f80e2afa12ad7d8810ca58f173b8cc6',\n",
       "      'status': 'Running',\n",
       "      'version': 'd9ee6c33-8a50-41b6-92f6-5c1b6cdeec17'}]}}],\n",
       " 'engine_lbs': [{'ip': '10.28.0.4',\n",
       "   'name': 'engine-lb-6676794678-p8x2d',\n",
       "   'status': 'Running',\n",
       "   'reason': None,\n",
       "   'details': []}],\n",
       " 'sidekicks': []}"
      ]
     },
     "execution_count": 66,
     "metadata": {},
     "output_type": "execute_result"
    }
   ],
   "source": [
    "# check the pipeline status before performing an inference\n",
    "\n",
    "import time\n",
    "\n",
    "while pipeline.status()['status'] != 'Running':\n",
    "   time.sleep(15)\n",
    "\n",
    "pipeline.status()"
   ]
  },
  {
   "cell_type": "markdown",
   "id": "573bc347",
   "metadata": {},
   "source": [
    "## Create Connections\n",
    "\n",
    "We will create the data source connection via the Wallaroo client command `create_connection`.\n",
    "\n",
    "Connections are created with the Wallaroo client command [`create_connection`](https://docs.wallaroo.ai/wallaroo-developer-guides/wallaroo-sdk-guides/wallaroo-sdk-essentials-guide/wallaroo-sdk-essentials-ml-workload-orchestration/#create-orchestration) with the following parameters.\n",
    "\n",
    "| Parameter | Type | Description |\n",
    "| --- | --- | ---|\n",
    "| **name** | string (Required) | The name of the connection. This must be unique - **if submitting the name of an existing** connection it will return an error. |\n",
    "| **type** | string (Required) | The user defined type of connection. |\n",
    "| **details** | Dict (Required) | User defined configuration details for the data connection.  These can be `{'username':'dataperson', 'password':'datapassword', 'port': 3339}`, or `{'token':'abcde123==', 'host':'example.com', 'port:1234'}`, or other user defined combinations.  |\n",
    "\n",
    "* **IMPORTANT NOTE**:  Data connections names **must** be unique.  Attempting to create a data connection with the same `name` as an existing data connection will result in an error.\n",
    "\n",
    "We'll also create a data connection named `inference_results_connection` with our helper function `get_connection` that will either create **or** retrieve a connection if it already exists.  From there we'll create out connections:  \n",
    "\n",
    "* `houseprice_arrow_table`: An Apache Arrow file stored on GitHub that will be used for our inference input."
   ]
  },
  {
   "cell_type": "code",
   "execution_count": 67,
   "id": "5c10ee71",
   "metadata": {},
   "outputs": [
    {
     "data": {
      "text/html": [
       "\n",
       "        <table>\n",
       "          <tr>\n",
       "            <th>Field</th>\n",
       "            <th>Value</th>\n",
       "          </tr>\n",
       "          <tr>\n",
       "            <td>Name</td><td>external_inference_connection_sample</td>\n",
       "          </tr>\n",
       "          <tr>\n",
       "            <td>Connection Type</td><td>HTTP</td>\n",
       "          </tr>\n",
       "          <tr>\n",
       "            <td>Details</td><td>*****</td>\n",
       "          </tr>\n",
       "          <tr>\n",
       "            <td>Created At</td><td>2024-12-09T20:58:43.896309+00:00</td>\n",
       "          </tr>\n",
       "          <tr>\n",
       "            <td>Linked Workspaces</td><td>[]</td>\n",
       "          </tr>\n",
       "        </table>\n",
       "        "
      ],
      "text/plain": [
       "<wallaroo.connection.Connection at 0x1089d19c0>"
      ]
     },
     "execution_count": 67,
     "metadata": {},
     "output_type": "execute_result"
    }
   ],
   "source": [
    "wl.create_connection(inference_connection_name, inference_connection_type, inference_connection_argument)"
   ]
  },
  {
   "cell_type": "markdown",
   "id": "6caf6e64",
   "metadata": {},
   "source": [
    "### Get Connection by Name\n",
    "\n",
    "The Wallaroo client method `get_connection(name)` retrieves the connection that matches the `name` parameter.  We'll retrieve our connection and store it as `inference_source_connection`."
   ]
  },
  {
   "cell_type": "code",
   "execution_count": 68,
   "id": "6cc80cd3",
   "metadata": {},
   "outputs": [
    {
     "data": {
      "text/html": [
       "\n",
       "        <table>\n",
       "          <tr>\n",
       "            <th>Field</th>\n",
       "            <th>Value</th>\n",
       "          </tr>\n",
       "          <tr>\n",
       "            <td>Name</td><td>external_inference_connection_sample</td>\n",
       "          </tr>\n",
       "          <tr>\n",
       "            <td>Connection Type</td><td>HTTP</td>\n",
       "          </tr>\n",
       "          <tr>\n",
       "            <td>Details</td><td>*****</td>\n",
       "          </tr>\n",
       "          <tr>\n",
       "            <td>Created At</td><td>2024-12-09T20:58:43.896309+00:00</td>\n",
       "          </tr>\n",
       "          <tr>\n",
       "            <td>Linked Workspaces</td><td>[]</td>\n",
       "          </tr>\n",
       "        </table>\n",
       "        "
      ],
      "text/plain": [
       "<wallaroo.connection.Connection at 0x109e65b10>"
      ]
     },
     "metadata": {},
     "output_type": "display_data"
    }
   ],
   "source": [
    "inference_source_connection = wl.get_connection(name=inference_connection_name)\n",
    "display(inference_source_connection)"
   ]
  },
  {
   "cell_type": "markdown",
   "id": "884d3171",
   "metadata": {},
   "source": [
    "### Add Connection to Workspace\n",
    "\n",
    "The method Workspace [`add_connection(connection_name)`](https://docs.wallaroo.ai/wallaroo-developer-guides/wallaroo-sdk-guides/wallaroo-sdk-essentials-guide/wallaroo-sdk-essentials-dataconnections/#add-data-connection-to-workspace) adds a Data Connection to a workspace, and takes the following parameters.\n",
    "\n",
    "| Parameter | Type | Description |\n",
    "| --- | --- | ---|\n",
    "| **name** | string (Required) | The name of the Data Connection |\n",
    "\n",
    "We'll add both connections to our sample workspace, then list the connections available to the workspace to confirm."
   ]
  },
  {
   "cell_type": "code",
   "execution_count": 69,
   "id": "6d674d81",
   "metadata": {},
   "outputs": [
    {
     "data": {
      "text/html": [
       "<table><tr><th>name</th><th>connection type</th><th>details</th><th>created at</th><th>linked workspaces</th></tr><tr><td>external_inference_connection_sample</td><td>HTTP</td><td>*****</td><td>2024-12-09T20:58:43.896309+00:00</td><td>['simpleorchestrationworkspace']</td></tr></table>"
      ],
      "text/plain": [
       "[<wallaroo.connection.Connection at 0x109e64790>]"
      ]
     },
     "execution_count": 69,
     "metadata": {},
     "output_type": "execute_result"
    }
   ],
   "source": [
    "workspace.add_connection(inference_connection_name)\n",
    "workspace.list_connections()"
   ]
  },
  {
   "cell_type": "markdown",
   "id": "b8d44dc7",
   "metadata": {},
   "source": [
    "## Wallaroo ML Workload Orchestration Example\n",
    "\n",
    "With the pipeline deployed and our connections set, we will now generate our ML Workload Orchestration.  See the [Wallaroo ML Workload Orchestrations guide](https://docs.wallaroo.ai/wallaroo-developer-guides/wallaroo-sdk-guides/wallaroo-sdk-essentials-guide/wallaroo-sdk-essentials-ml-workload-orchestration/) for full details.\n",
    "\n",
    "Orchestrations are uploaded to the Wallaroo instance as a ZIP file with the following requirements:\n",
    "\n",
    "| Parameter | Type | Description |\n",
    "|---|---|---|\n",
    "| **User Code** | (*Required*) Python script as `.py` files | If `main.py` exists, then that will be used as the task entrypoint. Otherwise, the **first** `main.py` found in any subdirectory will be used as the entrypoint. |\n",
    "| Python Library Requirements | (*Optional*) `requirements.txt` file in the [requirements file format](https://pip.pypa.io/en/stable/reference/requirements-file-format/).  A standard Python requirements.txt for any dependencies to be provided in the task environment. The Wallaroo SDK will already be present and **should not be included in the requirements.txt**. Multiple requirements.txt files are not allowed. |\n",
    "| Other artifacts | &nbsp; | Other artifacts such as files, data, or code to support the orchestration.\n",
    "\n",
    "For our example, our orchestration will:\n",
    "\n",
    "1. Use the `inference_results_connection` to open a HTTP Get connection to the inference data file and use it in an inference request in the deployed pipeline.\n",
    "1. Submit the inference results to the location specified in the `external_inference_connection`.\n",
    "\n",
    "This sample script is stored in `remote_inference/main.py` with an empty `requirements.txt` file, and packaged into the orchestration as `./remote_inference/remote_inference.zip`.  We'll display the steps in uploading the orchestration to the Wallaroo instance.\n",
    "\n",
    "Note that the orchestration assumes the pipeline is already deployed."
   ]
  },
  {
   "cell_type": "markdown",
   "id": "c54d9602",
   "metadata": {},
   "source": [
    "### Upload the Orchestration\n",
    "\n",
    "Orchestrations are uploaded with the Wallaroo client `upload_orchestration(path)` method with the following parameters.\n",
    "\n",
    "| Parameter | Type | Description |\n",
    "| --- | --- | ---|\n",
    "| **path** | string (Required) | The path to the ZIP file to be uploaded. |\n",
    "\n",
    "Once uploaded, the deployment will be prepared and any requirements will be downloaded and installed.\n",
    "\n",
    "\n",
    "For this example, the orchestration `./remote_inference/remote_inference.zip` will be uploaded and saved to the variable `orchestration`.\n",
    "\n",
    "### Orchestration Status\n",
    "\n",
    "We will loop until the uploaded orchestration's `status` displays `ready`."
   ]
  },
  {
   "cell_type": "code",
   "execution_count": 70,
   "id": "00e6e6e5",
   "metadata": {},
   "outputs": [
    {
     "name": "stdout",
     "output_type": "stream",
     "text": [
      "pending_packaging\n",
      "packaging\n",
      "packaging\n",
      "packaging\n",
      "packaging\n",
      "packaging\n",
      "packaging\n",
      "packaging\n",
      "packaging\n"
     ]
    }
   ],
   "source": [
    "orchestration = wl.upload_orchestration(path=\"./remote_inference/remote_inference.zip\")\n",
    "\n",
    "while orchestration.status() != 'ready' and orchestration.status() != 'error':\n",
    "    print(orchestration.status())\n",
    "    time.sleep(5)"
   ]
  },
  {
   "cell_type": "code",
   "execution_count": 71,
   "id": "45beade8",
   "metadata": {},
   "outputs": [
    {
     "data": {
      "text/html": [
       "<table><tr><th>id</th><th>name</th><th>status</th><th>filename</th><th>sha</th><th>created at</th><th>updated at</th><th>workspace id</th><th>workspace name</th></tr><tr><td>26de20c7-4068-4f03-9ea1-d5bb534491e4</td><td>None</td><td>ready</td><td>remote_inference.zip</td><td>4dd816...df4e12</td><td>2024-09-Dec 19:48:45</td><td>2024-09-Dec 19:50:04</td><td>10</td><td>simpleorchestrationworkspace2</td></tr><tr><td>5182f394-bf3f-4c8d-9ccc-f03ee56cbf1a</td><td>uploadedbytesdemo</td><td>ready</td><td>inferencetest.zip</td><td>4dd816...df4e12</td><td>2024-09-Dec 19:50:09</td><td>2024-09-Dec 19:51:08</td><td>10</td><td>simpleorchestrationworkspace2</td></tr><tr><td>35eaff98-9683-4f76-bcd5-0b8f07f1651b</td><td>None</td><td>ready</td><td>remote_inference.zip</td><td>4dd816...df4e12</td><td>2024-09-Dec 20:58:45</td><td>2024-09-Dec 20:59:31</td><td>11</td><td>simpleorchestrationworkspace</td></tr></table>"
      ],
      "text/plain": [
       "[<wallaroo.orchestration.Orchestration at 0x109e53fd0>,\n",
       " <wallaroo.orchestration.Orchestration at 0x109f40370>,\n",
       " <wallaroo.orchestration.Orchestration at 0x109f41600>]"
      ]
     },
     "execution_count": 71,
     "metadata": {},
     "output_type": "execute_result"
    }
   ],
   "source": [
    "wl.list_orchestrations()"
   ]
  },
  {
   "cell_type": "markdown",
   "id": "7f394154",
   "metadata": {},
   "source": [
    "### Upload Orchestration via File Object\n",
    "\n",
    "Another method to upload the orchestration is as a file object.  For that, we will open the zip file as a binary, then upload it using the `bytes_buffer` parameter to specify the file object, and the `file_name` to give it a new name."
   ]
  },
  {
   "cell_type": "code",
   "execution_count": 72,
   "id": "4cebe286",
   "metadata": {},
   "outputs": [
    {
     "data": {
      "text/html": [
       "\n",
       "        <table>\n",
       "          <tr>\n",
       "            <th>Field</th>\n",
       "            <th>Value</th>\n",
       "          </tr>\n",
       "          <tr>\n",
       "            <td>ID</td><td>962b2ba9-498c-4802-a04f-22438dcd99a0</td>\n",
       "          </tr>\n",
       "          <tr>\n",
       "            <td>Name</td><td>uploadedbytesdemo</td>\n",
       "          </tr>\n",
       "          <tr>\n",
       "            <td>File Name</td><td>inferencetest.zip</td>\n",
       "          </tr>\n",
       "          <tr>\n",
       "            <td>SHA</td><td>4dd816a96203936dbca3386b6549736382886c84ff5ee4f480e6fb65b3df4e12</td>\n",
       "          </tr>\n",
       "          <tr>\n",
       "            <td>Status</td><td>pending_packaging</td>\n",
       "          </tr>\n",
       "          <tr>\n",
       "            <td>Created At</td><td>2024-09-Dec 20:59:37</td>\n",
       "          </tr>\n",
       "          <tr>\n",
       "            <td>Updated At</td><td>2024-09-Dec 20:59:37</td>\n",
       "          </tr>\n",
       "          <tr>\n",
       "            <td>Workspace ID</td><td>11</td>\n",
       "          </tr>\n",
       "          <tr>\n",
       "            <td>Workspace Name</td><td>simpleorchestrationworkspace</td>\n",
       "          </tr>\n",
       "        </table>\n",
       "        "
      ],
      "text/plain": [
       "<wallaroo.orchestration.Orchestration at 0x109e94bb0>"
      ]
     },
     "execution_count": 72,
     "metadata": {},
     "output_type": "execute_result"
    }
   ],
   "source": [
    "zipfile = open(\"./remote_inference/remote_inference.zip\", \"rb\").read()\n",
    "\n",
    "wl.upload_orchestration(bytes_buffer=zipfile, file_name=\"inferencetest.zip\", name=\"uploadedbytesdemo\")"
   ]
  },
  {
   "cell_type": "code",
   "execution_count": 73,
   "id": "48ff89c0",
   "metadata": {},
   "outputs": [
    {
     "data": {
      "text/html": [
       "<table><tr><th>id</th><th>name</th><th>status</th><th>filename</th><th>sha</th><th>created at</th><th>updated at</th><th>workspace id</th><th>workspace name</th></tr><tr><td>26de20c7-4068-4f03-9ea1-d5bb534491e4</td><td>None</td><td>ready</td><td>remote_inference.zip</td><td>4dd816...df4e12</td><td>2024-09-Dec 19:48:45</td><td>2024-09-Dec 19:50:04</td><td>10</td><td>simpleorchestrationworkspace2</td></tr><tr><td>5182f394-bf3f-4c8d-9ccc-f03ee56cbf1a</td><td>uploadedbytesdemo</td><td>ready</td><td>inferencetest.zip</td><td>4dd816...df4e12</td><td>2024-09-Dec 19:50:09</td><td>2024-09-Dec 19:51:08</td><td>10</td><td>simpleorchestrationworkspace2</td></tr><tr><td>35eaff98-9683-4f76-bcd5-0b8f07f1651b</td><td>None</td><td>ready</td><td>remote_inference.zip</td><td>4dd816...df4e12</td><td>2024-09-Dec 20:58:45</td><td>2024-09-Dec 20:59:31</td><td>11</td><td>simpleorchestrationworkspace</td></tr><tr><td>962b2ba9-498c-4802-a04f-22438dcd99a0</td><td>uploadedbytesdemo</td><td>pending_packaging</td><td>inferencetest.zip</td><td>4dd816...df4e12</td><td>2024-09-Dec 20:59:37</td><td>2024-09-Dec 20:59:37</td><td>11</td><td>simpleorchestrationworkspace</td></tr></table>"
      ],
      "text/plain": [
       "[<wallaroo.orchestration.Orchestration at 0x109e94730>,\n",
       " <wallaroo.orchestration.Orchestration at 0x109e66230>,\n",
       " <wallaroo.orchestration.Orchestration at 0x109e671c0>,\n",
       " <wallaroo.orchestration.Orchestration at 0x109e65180>]"
      ]
     },
     "execution_count": 73,
     "metadata": {},
     "output_type": "execute_result"
    }
   ],
   "source": [
    "wl.list_orchestrations()"
   ]
  },
  {
   "cell_type": "markdown",
   "id": "bf028e54",
   "metadata": {},
   "source": [
    "## Task Management Tutorial\n",
    "\n",
    "Once an Orchestration has the status `ready`, it can be run as a task.  Tasks have three run options.\n",
    "\n",
    "| Type | SDK Call |  How triggered |\n",
    "|---|---|:---|\n",
    "| Once       | `orchestration.run_once(name, json_args, timeout)` | Task runs once and exits.| Single batch, experimentation. |\n",
    "| Scheduled  | `orchestration.run_scheduled(name, schedule, timeout, json_args)` | User provides schedule. Task runs exits whenever schedule dictates. | Recurrent batch. |"
   ]
  },
  {
   "cell_type": "markdown",
   "id": "de1423fb",
   "metadata": {},
   "source": [
    "### Run Task Once\n",
    "\n",
    "We'll do both a Run Once task and generate our Run Once Task from our orchestration.\n",
    "\n",
    "Tasks are generated and run once with the Orchestration `run_once(name, json_args, timeout)` method.  Any arguments for the orchestration are passed in as a `Dict`.  If there are no arguments, then an empty set `{}` is passed."
   ]
  },
  {
   "cell_type": "code",
   "execution_count": 74,
   "id": "e53d7731",
   "metadata": {},
   "outputs": [],
   "source": [
    "# Example: run once\n",
    "\n",
    "import datetime\n",
    "task_start = datetime.datetime.now()\n",
    "task = orchestration.run_once(name=\"simpletaskdemo\", \n",
    "                              json_args={\"workspace_name\": workspace_name, \n",
    "                                         \"pipeline_name\": pipeline_name,\n",
    "                                         \"connection_name\": inference_connection_name\n",
    "                                            })"
   ]
  },
  {
   "cell_type": "markdown",
   "id": "0dcbc1d4",
   "metadata": {},
   "source": [
    "### Task Status\n",
    "\n",
    "The list of tasks in the Wallaroo instance is retrieves through the Wallaroo Client `list_tasks()` method.  This returns an array list of the following.\n",
    "\n",
    "| Parameter | Type | Description |\n",
    "| --- | --- | ---|\n",
    "| **id** | string | The UUID identifier for the task. |\n",
    "| **last run status** | string | The last reported status the task.  Values are: <br><ul><li>`pending`: The task has not been started.</li><li>`started`: The task has been scheduled to execute.</li><li>`pending_kill`: The task kill command has been issued and the task is scheduled to be stopped.</li></ul> |\n",
    "| **type** | string | The type of the task.  Values are: <br><ul><li>`Temporary Run`: The task runs once then stop.</li><li>`Scheduled Run`: The task repeats on a `cron` like schedule.</li></ul> |\n",
    "| **created at** | DateTime | The date and time the task was started. |\n",
    "| **updated at** | DateTime | The date and time the task was updated. |\n",
    "\n",
    "For this example, the status of the previously created task will be generated, then looped until it has reached status `started`."
   ]
  },
  {
   "cell_type": "code",
   "execution_count": 75,
   "id": "a05a299f",
   "metadata": {},
   "outputs": [
    {
     "data": {
      "text/plain": [
       "'pending'"
      ]
     },
     "metadata": {},
     "output_type": "display_data"
    },
    {
     "data": {
      "text/plain": [
       "'pending'"
      ]
     },
     "metadata": {},
     "output_type": "display_data"
    }
   ],
   "source": [
    "while task.status() != \"started\":\n",
    "    display(task.status())\n",
    "    time.sleep(5)"
   ]
  },
  {
   "cell_type": "markdown",
   "id": "7bd6a79a",
   "metadata": {},
   "source": [
    "### Task Results\n",
    "\n",
    "We can view the inferences from our logs and verify that new entries were added from our task.  We can do that with the task `last_runs()` method to see the list of task runs executed, then show the log from the last completed task run."
   ]
  },
  {
   "cell_type": "code",
   "execution_count": 76,
   "id": "818b5f3d",
   "metadata": {},
   "outputs": [
    {
     "data": {
      "text/html": [
       "\n",
       "            <table>\n",
       "              <tr><th>Field</th><th>Value</th></tr>\n",
       "              <tr><td>Task</td><td>5b95265f-52b5-4324-9d77-8004f0d9da4e</td></tr>\n",
       "              <tr><td>Pod ID</td><td>83aa2d14-0f32-45cc-8dcf-7a2c264080a3</td></tr>\n",
       "              <tr><td>Status</td><td>success</td></tr>\n",
       "              <tr><td>Created At</td><td>2024-09-Dec 20:59:44</td></tr>\n",
       "              <tr><td>Updated At</td><td>2024-09-Dec 20:59:44</td></tr>\n",
       "            </table>\n",
       "            "
      ],
      "text/plain": [
       "<wallaroo.task_run.TaskRun at 0x109efbc70>"
      ]
     },
     "execution_count": 76,
     "metadata": {},
     "output_type": "execute_result"
    }
   ],
   "source": [
    "task.last_runs()[0]"
   ]
  },
  {
   "cell_type": "code",
   "execution_count": 77,
   "id": "f3084671-9f4b-4d0e-80cd-065a42805223",
   "metadata": {},
   "outputs": [
    {
     "data": {
      "text/html": [
       "(no logs yet)"
      ],
      "text/plain": [
       "[]"
      ]
     },
     "execution_count": 77,
     "metadata": {},
     "output_type": "execute_result"
    }
   ],
   "source": [
    "task.last_runs()[0].logs()"
   ]
  },
  {
   "cell_type": "markdown",
   "id": "24d22c9a",
   "metadata": {},
   "source": [
    "## Scheduled Run Task Example\n",
    "\n",
    "The other method of using tasks is as a **scheduled run** through the Orchestration `run_scheduled(name, schedule, timeout, json_args)`.  This sets up a task to run on an regular schedule as defined by the `schedule` parameter in the `cron` service format.  For example:\n",
    "\n",
    "```python\n",
    "schedule={'42 * * * *'}\n",
    "```\n",
    "\n",
    "Runs on the 42nd minute of every hour.\n",
    "\n",
    "The following schedule runs every day at 12 noon from February 1 to February 15 2024 - and then ends.\n",
    "\n",
    "```python\n",
    "schedule={'0 0 12 1-15 2 2024'}\n",
    "```\n",
    "\n",
    "For our example, we will create a scheduled task to run every 5 minutes, display the inference results, then use the Orchestration `kill` task to keep the task from running any further.\n",
    "\n",
    "It is recommended that orchestrations that have pipeline deploy or undeploy commands be spaced out no less than 5 minutes to prevent colliding with other tasks that use the same pipeline."
   ]
  },
  {
   "cell_type": "code",
   "execution_count": 78,
   "id": "8ab45fdc",
   "metadata": {},
   "outputs": [],
   "source": [
    "scheduled_task = orchestration.run_scheduled(name=\"simple_inference_schedule\", \n",
    "                                             schedule=\"*/5 * * * *\", \n",
    "                                             timeout=120, \n",
    "                                             json_args={\"workspace_name\": workspace_name, \n",
    "                                                        \"pipeline_name\": pipeline_name,\n",
    "                                                        \"connection_name\": inference_connection_name\n",
    "                                            })"
   ]
  },
  {
   "cell_type": "code",
   "execution_count": 79,
   "id": "efac60c3",
   "metadata": {},
   "outputs": [],
   "source": [
    "while scheduled_task.status() != \"started\":\n",
    "    display(scheduled_task.status())\n",
    "    time.sleep(5)"
   ]
  },
  {
   "cell_type": "code",
   "execution_count": 80,
   "id": "98668880",
   "metadata": {},
   "outputs": [
    {
     "data": {
      "text/html": [
       "<pre><code>2024-09-Dec 21:05:02 WALLAROO: Setting up task run...\n",
       "2024-09-Dec 21:05:05 WALLAROO: *** If you don't see any output, Python is probably buffering stdout.                       ***\n",
       "2024-09-Dec 21:05:05 WALLAROO: *** Consider `print('...', flush=True)` or `sys.stdout.flush()` in your orchestration code. ***\n",
       "2024-09-Dec 21:05:08 Getting the workspace simpleorchestrationworkspace\n",
       "2024-09-Dec 21:05:05 WALLAROO: Task environment ready. Running...\n",
       "2024-09-Dec 21:05:08 Getting the pipeline simpleorchestrationtutorial\n",
       "2024-09-Dec 21:05:08 Getting arrow table file\n",
       "2024-09-Dec 21:05:08 Inference time.  Displaying results after.\n",
       "2024-09-Dec 21:05:08 1 2024-12-09 21:05:08.782  ...             0\n",
       "2024-09-Dec 21:05:08 0 2024-12-09 21:05:08.782  ...             0\n",
       "2024-09-Dec 21:05:08                      time  ... anomaly.count\n",
       "2024-09-Dec 21:05:08 2 2024-12-09 21:05:08.782  ...             0\n",
       "2024-09-Dec 21:05:08 3 2024-12-09 21:05:08.782  ...             0\n",
       "2024-09-Dec 21:05:08 4 2024-12-09 21:05:08.782  ...             0\n",
       "2024-09-Dec 21:05:08 \n",
       "2024-09-Dec 21:05:08 [5 rows x 4 columns]\n",
       "2024-09-Dec 21:05:09 WALLAROO: Task run complete. Status: success</code></pre>"
      ],
      "text/plain": [
       "['2024-12-09T21:05:02.330547228Z stdout F WALLAROO: Setting up task run...',\n",
       " \"2024-12-09T21:05:05.331497662Z stdout F WALLAROO: *** If you don't see any output, Python is probably buffering stdout.                       ***\",\n",
       " \"2024-12-09T21:05:05.331545022Z stdout F WALLAROO: *** Consider `print('...', flush=True)` or `sys.stdout.flush()` in your orchestration code. ***\",\n",
       " '2024-12-09T21:05:08.813347358Z stdout F Getting the workspace simpleorchestrationworkspace',\n",
       " '2024-12-09T21:05:05.331554182Z stdout F WALLAROO: Task environment ready. Running...',\n",
       " '2024-12-09T21:05:08.813406597Z stdout F Getting the pipeline simpleorchestrationtutorial',\n",
       " '2024-12-09T21:05:08.813413597Z stdout F Getting arrow table file',\n",
       " '2024-12-09T21:05:08.813417898Z stdout F Inference time.  Displaying results after.',\n",
       " '2024-12-09T21:05:08.813430528Z stdout F 1 2024-12-09 21:05:08.782  ...             0',\n",
       " '2024-12-09T21:05:08.813425988Z stdout F 0 2024-12-09 21:05:08.782  ...             0',\n",
       " '2024-12-09T21:05:08.813422048Z stdout F                      time  ... anomaly.count',\n",
       " '2024-12-09T21:05:08.813435788Z stdout F 2 2024-12-09 21:05:08.782  ...             0',\n",
       " '2024-12-09T21:05:08.813439948Z stdout F 3 2024-12-09 21:05:08.782  ...             0',\n",
       " '2024-12-09T21:05:08.813443918Z stdout F 4 2024-12-09 21:05:08.782  ...             0',\n",
       " '2024-12-09T21:05:08.813447708Z stdout F ',\n",
       " '2024-12-09T21:05:08.813452718Z stdout F [5 rows x 4 columns]',\n",
       " '2024-12-09T21:05:09.862770205Z stdout F WALLAROO: Task run complete. Status: success']"
      ]
     },
     "execution_count": 80,
     "metadata": {},
     "output_type": "execute_result"
    }
   ],
   "source": [
    "#wait 420 seconds to give the scheduled event time to finish\n",
    "time.sleep(420)\n",
    "scheduled_task.last_runs()[0].logs()"
   ]
  },
  {
   "cell_type": "markdown",
   "id": "e957bfc7",
   "metadata": {},
   "source": [
    "## Kill Task\n",
    "\n",
    "With our testing complete, we will kill the scheduled task so it will not run again.  First we'll show all the tasks to verify that our task is there, then issue it the kill command."
   ]
  },
  {
   "cell_type": "code",
   "execution_count": 81,
   "id": "7ee4c475",
   "metadata": {},
   "outputs": [
    {
     "data": {
      "text/html": [
       "<table><tr><th>id</th><th>name</th><th>last run status</th><th>type</th><th>active</th><th>schedule</th><th>created at</th><th>updated at</th><th>workspace id</th><th>workspace name</th></tr><tr><td>7736e7fc-0652-45ec-9b4c-45a647d38dc5</td><td>simple_inference_schedule</td><td>success</td><td>Scheduled Run</td><td>True</td><td>*/5 * * * *</td><td>2024-09-Dec 20:59:52</td><td>2024-09-Dec 20:59:52</td><td>11</td><td>simpleorchestrationworkspace</td></tr><tr><td>5b95265f-52b5-4324-9d77-8004f0d9da4e</td><td>simpletaskdemo</td><td>success</td><td>Temporary Run</td><td>True</td><td>-</td><td>2024-09-Dec 20:59:39</td><td>2024-09-Dec 20:59:51</td><td>11</td><td>simpleorchestrationworkspace</td></tr><tr><td>f7aa8740-d104-4eb9-a3b8-09f79b300d9f</td><td>simpletaskdemo</td><td>success</td><td>Temporary Run</td><td>True</td><td>-</td><td>2024-09-Dec 19:50:11</td><td>2024-09-Dec 19:50:44</td><td>10</td><td>simpleorchestrationworkspace2</td></tr></table>"
      ],
      "text/plain": [
       "[<wallaroo.task.Task at 0x109f41ba0>,\n",
       " <wallaroo.task.Task at 0x109f42440>,\n",
       " <wallaroo.task.Task at 0x109f42800>]"
      ]
     },
     "execution_count": 81,
     "metadata": {},
     "output_type": "execute_result"
    }
   ],
   "source": [
    "wl.list_tasks()"
   ]
  },
  {
   "cell_type": "code",
   "execution_count": 82,
   "id": "1e9eda3a",
   "metadata": {},
   "outputs": [
    {
     "data": {
      "text/plain": [
       "<ArbexStatus.PENDING_KILL: 'pending_kill'>"
      ]
     },
     "execution_count": 82,
     "metadata": {},
     "output_type": "execute_result"
    }
   ],
   "source": [
    "scheduled_task.kill()"
   ]
  },
  {
   "cell_type": "code",
   "execution_count": 83,
   "id": "c2ffb60a",
   "metadata": {},
   "outputs": [
    {
     "data": {
      "text/html": [
       "<table><tr><th>id</th><th>name</th><th>last run status</th><th>type</th><th>active</th><th>schedule</th><th>created at</th><th>updated at</th><th>workspace id</th><th>workspace name</th></tr><tr><td>7736e7fc-0652-45ec-9b4c-45a647d38dc5</td><td>simple_inference_schedule</td><td>success</td><td>Scheduled Run</td><td>True</td><td>*/5 * * * *</td><td>2024-09-Dec 20:59:52</td><td>2024-09-Dec 21:06:55</td><td>11</td><td>simpleorchestrationworkspace</td></tr><tr><td>5b95265f-52b5-4324-9d77-8004f0d9da4e</td><td>simpletaskdemo</td><td>success</td><td>Temporary Run</td><td>True</td><td>-</td><td>2024-09-Dec 20:59:39</td><td>2024-09-Dec 20:59:51</td><td>11</td><td>simpleorchestrationworkspace</td></tr><tr><td>f7aa8740-d104-4eb9-a3b8-09f79b300d9f</td><td>simpletaskdemo</td><td>success</td><td>Temporary Run</td><td>True</td><td>-</td><td>2024-09-Dec 19:50:11</td><td>2024-09-Dec 19:50:44</td><td>10</td><td>simpleorchestrationworkspace2</td></tr></table>"
      ],
      "text/plain": [
       "[<wallaroo.task.Task at 0x109ebabf0>,\n",
       " <wallaroo.task.Task at 0x109eb9060>,\n",
       " <wallaroo.task.Task at 0x109ebb310>]"
      ]
     },
     "execution_count": 83,
     "metadata": {},
     "output_type": "execute_result"
    }
   ],
   "source": [
    "wl.list_tasks()"
   ]
  },
  {
   "cell_type": "markdown",
   "id": "58207f04",
   "metadata": {},
   "source": [
    "## Cleanup\n",
    "\n",
    "With the tutorial complete, we can undeploy the pipeline and return the resources back to the Wallaroo instance."
   ]
  },
  {
   "cell_type": "code",
   "execution_count": 84,
   "id": "bb96a086",
   "metadata": {},
   "outputs": [
    {
     "data": {
      "text/html": [
       "<table><tr><th>name</th> <td>simpleorchestrationtutorial</td></tr><tr><th>created</th> <td>2024-12-09 20:55:16.678469+00:00</td></tr><tr><th>last_updated</th> <td>2024-12-09 20:58:40.614698+00:00</td></tr><tr><th>deployed</th> <td>False</td></tr><tr><th>workspace_id</th> <td>11</td></tr><tr><th>workspace_name</th> <td>simpleorchestrationworkspace</td></tr><tr><th>arch</th> <td>x86</td></tr><tr><th>accel</th> <td>none</td></tr><tr><th>tags</th> <td></td></tr><tr><th>versions</th> <td>de61b33b-cb0d-46ae-aa24-5a51e5287d87, ad484f85-d883-4b68-b570-ba9226cfd50e, 55a63232-8069-4800-80f6-1738cc1c83a8, 9c89d4a8-b42d-4381-a189-10cda5020de6, e97cd75a-72f9-486e-be03-accf47b9d111</td></tr><tr><th>steps</th> <td>simpleorchestrationmodel</td></tr><tr><th>published</th> <td>False</td></tr></table>"
      ],
      "text/plain": [
       "{'name': 'simpleorchestrationtutorial', 'create_time': datetime.datetime(2024, 12, 9, 20, 55, 16, 678469, tzinfo=tzutc()), 'definition': \"[{'ModelInference': {'models': [{'name': 'simpleorchestrationmodel', 'version': '758c0ae1-6c96-4d58-b1a0-4562bfcc7fed', 'sha': 'e22a0831aafd9917f3cc87a15ed267797f80e2afa12ad7d8810ca58f173b8cc6'}]}}]\"}"
      ]
     },
     "execution_count": 84,
     "metadata": {},
     "output_type": "execute_result"
    }
   ],
   "source": [
    "pipeline.undeploy()"
   ]
  },
  {
   "cell_type": "markdown",
   "id": "aebf8006-bd21-48c6-ba71-77397cabb2db",
   "metadata": {},
   "source": [
    "## View Orchestrations with Filter\n",
    "\n",
    "The following examples show listing and retrieving orchestrations and tasks with additional filters.\n",
    "\n",
    "### List Orchestrations\n",
    "\n",
    "List all orchestrations available across workspaces, then filtered by workspace id, then filtered by workspace name."
   ]
  },
  {
   "cell_type": "code",
   "execution_count": 85,
   "id": "40e3e32e-ba13-4447-b719-8a057e19dde0",
   "metadata": {},
   "outputs": [
    {
     "data": {
      "text/html": [
       "<table><tr><th>id</th><th>name</th><th>status</th><th>filename</th><th>sha</th><th>created at</th><th>updated at</th><th>workspace id</th><th>workspace name</th></tr><tr><td>26de20c7-4068-4f03-9ea1-d5bb534491e4</td><td>None</td><td>ready</td><td>remote_inference.zip</td><td>4dd816...df4e12</td><td>2024-09-Dec 19:48:45</td><td>2024-09-Dec 19:50:04</td><td>10</td><td>simpleorchestrationworkspace2</td></tr><tr><td>5182f394-bf3f-4c8d-9ccc-f03ee56cbf1a</td><td>uploadedbytesdemo</td><td>ready</td><td>inferencetest.zip</td><td>4dd816...df4e12</td><td>2024-09-Dec 19:50:09</td><td>2024-09-Dec 19:51:08</td><td>10</td><td>simpleorchestrationworkspace2</td></tr><tr><td>35eaff98-9683-4f76-bcd5-0b8f07f1651b</td><td>None</td><td>ready</td><td>remote_inference.zip</td><td>4dd816...df4e12</td><td>2024-09-Dec 20:58:45</td><td>2024-09-Dec 20:59:31</td><td>11</td><td>simpleorchestrationworkspace</td></tr><tr><td>962b2ba9-498c-4802-a04f-22438dcd99a0</td><td>uploadedbytesdemo</td><td>ready</td><td>inferencetest.zip</td><td>4dd816...df4e12</td><td>2024-09-Dec 20:59:37</td><td>2024-09-Dec 21:00:30</td><td>11</td><td>simpleorchestrationworkspace</td></tr></table>"
      ],
      "text/plain": [
       "[<wallaroo.orchestration.Orchestration at 0x145ce3520>,\n",
       " <wallaroo.orchestration.Orchestration at 0x109e64d00>,\n",
       " <wallaroo.orchestration.Orchestration at 0x109e674f0>,\n",
       " <wallaroo.orchestration.Orchestration at 0x109e643a0>]"
      ]
     },
     "execution_count": 85,
     "metadata": {},
     "output_type": "execute_result"
    }
   ],
   "source": [
    "wl.list_orchestrations()"
   ]
  },
  {
   "cell_type": "code",
   "execution_count": 89,
   "id": "76db271a-ec4c-45e8-bf90-7b6979765580",
   "metadata": {},
   "outputs": [
    {
     "data": {
      "text/html": [
       "<table><tr><th>id</th><th>name</th><th>status</th><th>filename</th><th>sha</th><th>created at</th><th>updated at</th><th>workspace id</th><th>workspace name</th></tr><tr><td>35eaff98-9683-4f76-bcd5-0b8f07f1651b</td><td>None</td><td>ready</td><td>remote_inference.zip</td><td>4dd816...df4e12</td><td>2024-09-Dec 20:58:45</td><td>2024-09-Dec 20:59:31</td><td>11</td><td>simpleorchestrationworkspace</td></tr><tr><td>962b2ba9-498c-4802-a04f-22438dcd99a0</td><td>uploadedbytesdemo</td><td>ready</td><td>inferencetest.zip</td><td>4dd816...df4e12</td><td>2024-09-Dec 20:59:37</td><td>2024-09-Dec 21:00:30</td><td>11</td><td>simpleorchestrationworkspace</td></tr></table>"
      ],
      "text/plain": [
       "[<wallaroo.orchestration.Orchestration at 0x109f42c20>,\n",
       " <wallaroo.orchestration.Orchestration at 0x109ed8610>]"
      ]
     },
     "execution_count": 89,
     "metadata": {},
     "output_type": "execute_result"
    }
   ],
   "source": [
    "wl.list_orchestrations(workspace_id=workspace.id())"
   ]
  },
  {
   "cell_type": "code",
   "execution_count": 90,
   "id": "17b36d96-183a-4b47-b7da-da34983fa941",
   "metadata": {},
   "outputs": [
    {
     "data": {
      "text/html": [
       "<table><tr><th>id</th><th>name</th><th>status</th><th>filename</th><th>sha</th><th>created at</th><th>updated at</th><th>workspace id</th><th>workspace name</th></tr><tr><td>35eaff98-9683-4f76-bcd5-0b8f07f1651b</td><td>None</td><td>ready</td><td>remote_inference.zip</td><td>4dd816...df4e12</td><td>2024-09-Dec 20:58:45</td><td>2024-09-Dec 20:59:31</td><td>11</td><td>simpleorchestrationworkspace</td></tr><tr><td>962b2ba9-498c-4802-a04f-22438dcd99a0</td><td>uploadedbytesdemo</td><td>ready</td><td>inferencetest.zip</td><td>4dd816...df4e12</td><td>2024-09-Dec 20:59:37</td><td>2024-09-Dec 21:00:30</td><td>11</td><td>simpleorchestrationworkspace</td></tr></table>"
      ],
      "text/plain": [
       "[<wallaroo.orchestration.Orchestration at 0x10946d720>,\n",
       " <wallaroo.orchestration.Orchestration at 0x109e64b20>]"
      ]
     },
     "execution_count": 90,
     "metadata": {},
     "output_type": "execute_result"
    }
   ],
   "source": [
    "wl.list_orchestrations(workspace_name=workspace_name)"
   ]
  },
  {
   "cell_type": "markdown",
   "id": "a4683f40-f54b-420a-b550-0f79f6529581",
   "metadata": {},
   "source": [
    "### List Tasks\n",
    "\n",
    "Lists all tasks available across workspaces, then filtered by workspace id, then filtered by workspace name."
   ]
  },
  {
   "cell_type": "code",
   "execution_count": 91,
   "id": "afac727e-7066-475e-afb9-2d718df830f7",
   "metadata": {},
   "outputs": [
    {
     "data": {
      "text/html": [
       "<table><tr><th>id</th><th>name</th><th>last run status</th><th>type</th><th>active</th><th>schedule</th><th>created at</th><th>updated at</th><th>workspace id</th><th>workspace name</th></tr><tr><td>5b95265f-52b5-4324-9d77-8004f0d9da4e</td><td>simpletaskdemo</td><td>success</td><td>Temporary Run</td><td>True</td><td>-</td><td>2024-09-Dec 20:59:39</td><td>2024-09-Dec 20:59:51</td><td>11</td><td>simpleorchestrationworkspace</td></tr><tr><td>f7aa8740-d104-4eb9-a3b8-09f79b300d9f</td><td>simpletaskdemo</td><td>success</td><td>Temporary Run</td><td>True</td><td>-</td><td>2024-09-Dec 19:50:11</td><td>2024-09-Dec 19:50:44</td><td>10</td><td>simpleorchestrationworkspace2</td></tr></table>"
      ],
      "text/plain": [
       "[<wallaroo.task.Task at 0x109ed8670>, <wallaroo.task.Task at 0x109ed8580>]"
      ]
     },
     "execution_count": 91,
     "metadata": {},
     "output_type": "execute_result"
    }
   ],
   "source": [
    "wl.list_tasks()"
   ]
  },
  {
   "cell_type": "code",
   "execution_count": 92,
   "id": "06e6dbc3-fba7-4f74-a16a-a102cd17c9c1",
   "metadata": {},
   "outputs": [
    {
     "data": {
      "text/html": [
       "<table><tr><th>id</th><th>name</th><th>last run status</th><th>type</th><th>active</th><th>schedule</th><th>created at</th><th>updated at</th><th>workspace id</th><th>workspace name</th></tr><tr><td>5b95265f-52b5-4324-9d77-8004f0d9da4e</td><td>simpletaskdemo</td><td>success</td><td>Temporary Run</td><td>True</td><td>-</td><td>2024-09-Dec 20:59:39</td><td>2024-09-Dec 20:59:51</td><td>11</td><td>simpleorchestrationworkspace</td></tr></table>"
      ],
      "text/plain": [
       "[<wallaroo.task.Task at 0x109e94280>]"
      ]
     },
     "execution_count": 92,
     "metadata": {},
     "output_type": "execute_result"
    }
   ],
   "source": [
    "wl.list_tasks(workspace_id=workspace.id())"
   ]
  },
  {
   "cell_type": "code",
   "execution_count": 93,
   "id": "40008460-14e4-4b04-a128-351886a51311",
   "metadata": {},
   "outputs": [
    {
     "data": {
      "text/html": [
       "<table><tr><th>id</th><th>name</th><th>last run status</th><th>type</th><th>active</th><th>schedule</th><th>created at</th><th>updated at</th><th>workspace id</th><th>workspace name</th></tr><tr><td>5b95265f-52b5-4324-9d77-8004f0d9da4e</td><td>simpletaskdemo</td><td>success</td><td>Temporary Run</td><td>True</td><td>-</td><td>2024-09-Dec 20:59:39</td><td>2024-09-Dec 20:59:51</td><td>11</td><td>simpleorchestrationworkspace</td></tr></table>"
      ],
      "text/plain": [
       "[<wallaroo.task.Task at 0x109eba830>]"
      ]
     },
     "execution_count": 93,
     "metadata": {},
     "output_type": "execute_result"
    }
   ],
   "source": [
    "wl.list_tasks(workspace_name=workspace_name)"
   ]
  }
 ],
 "metadata": {
  "kernelspec": {
   "display_name": "wallaroosdk2024.4",
   "language": "python",
   "name": "python3"
  },
  "language_info": {
   "codemirror_mode": {
    "name": "ipython",
    "version": 3
   },
   "file_extension": ".py",
   "mimetype": "text/x-python",
   "name": "python",
   "nbconvert_exporter": "python",
   "pygments_lexer": "ipython3",
   "version": "3.10.11"
  }
 },
 "nbformat": 4,
 "nbformat_minor": 5
}
