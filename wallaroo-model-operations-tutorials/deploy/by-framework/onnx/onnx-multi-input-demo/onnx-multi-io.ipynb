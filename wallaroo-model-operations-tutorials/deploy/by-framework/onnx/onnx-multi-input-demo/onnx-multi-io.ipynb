{
 "cells": [
  {
   "cell_type": "markdown",
   "metadata": {},
   "source": [
    "This tutorial and the assets can be downloaded as part of the [Wallaroo Tutorials repository](https://github.com/WallarooLabs/Wallaroo_Tutorials/blob/wallaroo2025.1_tutorials/wallaroo-model-operations-tutorials/deploy/by-framework/onnx/onnx-multi-input-demo).\n",
    "\n",
    "## ONNX Multiple Input Output Deployment in Wallaroo Tutorial\n",
    "\n",
    "The following example demonstrates some of the data and input requirements when working with ONNX models in Wallaroo.  This example will:\n",
    "\n",
    "* Upload an ONNX model trained to accept multiple inputs and return multiple outputs.\n",
    "* Deploy the model, and show how to format the data for inference requests through a Wallaroo pipeline.\n",
    "\n",
    "For more information on using ONNX models with Wallaroo, see [Wallaroo SDK Essentials Guide: Model Uploads and Registrations: ONNX](https://docs.wallaroo.ai/wallaroo-developer-guides/wallaroo-sdk-guides/wallaroo-sdk-essentials-guide/wallaroo-sdk-model-uploads/wallaroo-sdk-model-upload-onnx/)."
   ]
  },
  {
   "cell_type": "markdown",
   "metadata": {},
   "source": [
    "## Steps\n",
    "\n",
    "### Import Libraries\n",
    "\n",
    "The first step is to import the libraries used for our demonstration - primarily the Wallaroo SDK, which is used to connect to the Wallaroo Ops instance, upload models, etc.\n",
    "\n",
    "* References\n",
    "  * [Wallaroo SDK Install Guides](https://docs.wallaroo.ai/wallaroo-developer-guides/wallaroo-sdk-guides/wallaroo-sdk-install-guides/)"
   ]
  },
  {
   "cell_type": "code",
   "execution_count": 1,
   "id": "ea9d4bb6-3abe-488b-9e43-5b5d8011af90",
   "metadata": {},
   "outputs": [],
   "source": [
    "import wallaroo\n",
    "from wallaroo.deployment_config import DeploymentConfigBuilder\n",
    "from wallaroo.framework import Framework\n",
    "import pyarrow as pa\n",
    "import numpy as np\n",
    "import pandas as pd "
   ]
  },
  {
   "cell_type": "markdown",
   "metadata": {},
   "source": [
    "### Connect to the Wallaroo Instance\n",
    "\n",
    "The next step is to connect to Wallaroo through the Wallaroo client.  The Python library is included in the Wallaroo install and available through the Jupyter Hub interface provided with your Wallaroo environment.\n",
    "\n",
    "This is accomplished using the `wallaroo.Client()` command, which provides a URL to grant the SDK permission to your specific Wallaroo environment.  When displayed, enter the URL into a browser and confirm permissions.  Store the connection into a variable that can be referenced later.\n",
    "\n",
    "If logging into the Wallaroo instance through the internal JupyterHub service, use `wl = wallaroo.Client()`.  For more information on Wallaroo Client settings, see the [Client Connection guide](https://docs.wallaroo.ai/wallaroo-developer-guides/wallaroo-sdk-guides/wallaroo-sdk-essentials-guide/wallaroo-sdk-essentials-client/)."
   ]
  },
  {
   "cell_type": "code",
   "execution_count": 2,
   "metadata": {},
   "outputs": [],
   "source": [
    "# Login through local Wallaroo instance\n",
    "\n",
    "wl = wallaroo.Client()"
   ]
  },
  {
   "cell_type": "markdown",
   "metadata": {},
   "source": [
    "### Create Workspace\n",
    "\n",
    "We will create a workspace to manage our pipeline and models.  The following variables will set the name of our sample workspace then set it as the current workspace.  If this tutorial has been run before, the helper function `get_workspace` will either create or connect to an existing workspace.\n",
    "\n",
    "Workspace names must be unique; verify that no other workspaces have the same name when running this tutorial.  We then set the current workspace to our new workspace; all model uploads and other requests will use this "
   ]
  },
  {
   "cell_type": "code",
   "execution_count": 3,
   "id": "47b60d84",
   "metadata": {},
   "outputs": [
    {
     "data": {
      "text/plain": [
       "{'name': 'onnx-tutorial', 'id': 21, 'archived': False, 'created_by': '7ed7ae89-c45d-4ed7-ac5d-11cbccbbfa72', 'created_at': '2024-07-24T15:36:02.455876+00:00', 'models': [], 'pipelines': []}"
      ]
     },
     "execution_count": 3,
     "metadata": {},
     "output_type": "execute_result"
    }
   ],
   "source": [
    "workspace_name = 'onnx-tutorial'\n",
    "\n",
    "workspace = wl.get_workspace(name=workspace_name, create_if_not_exist=True)\n",
    "\n",
    "\n",
    "wl.set_current_workspace(workspace)"
   ]
  },
  {
   "cell_type": "markdown",
   "metadata": {},
   "source": [
    "### Upload Model\n",
    "\n",
    "The ONNX model `./models/multi_io.onnx` will be uploaded with the `wallaroo.client.upload_model` method.  This requires:\n",
    "\n",
    "* The designated model name.\n",
    "* The path for the file.\n",
    "* The framework aka what kind of model it is based on the `wallaroo.framework.Framework` options.\n",
    "\n",
    "If we wanted to overwrite the name of the input fields, we could use the `wallaroo.client.upload_model.configure(tensor_fields[field_names])` option.  This ONNX model takes the inputs `input_1` and `input_2`.\n",
    "\n",
    "* References\n",
    "  * [Wallaroo SDK Essentials Guide: Model Uploads and Registrations: ONNX](https://docs.wallaroo.ai/wallaroo-developer-guides/wallaroo-sdk-guides/wallaroo-sdk-essentials-guide/wallaroo-sdk-model-uploads/wallaroo-sdk-model-upload-onnx/)"
   ]
  },
  {
   "cell_type": "code",
   "execution_count": 4,
   "id": "0ed5cfdd-3b7b-4994-8d03-3d7f8f69c41e",
   "metadata": {},
   "outputs": [
    {
     "data": {
      "text/html": [
       "<table>\n",
       "        <tr>\n",
       "          <td>Name</td>\n",
       "          <td>onnx-multi-io-model</td>\n",
       "        </tr>\n",
       "        <tr>\n",
       "          <td>Version</td>\n",
       "          <td>a2a97ea0-ae8a-409c-8ef1-2e6c223f46e1</td>\n",
       "        </tr>\n",
       "        <tr>\n",
       "          <td>File Name</td>\n",
       "          <td>multi_io.onnx</td>\n",
       "        </tr>\n",
       "        <tr>\n",
       "          <td>SHA</td>\n",
       "          <td>bb3e51dfdaa6440359c2396033a84a4248656d0f81ba1f662751520b3f93de27</td>\n",
       "        </tr>\n",
       "        <tr>\n",
       "          <td>Status</td>\n",
       "          <td>ready</td>\n",
       "        </tr>\n",
       "        <tr>\n",
       "          <td>Image Path</td>\n",
       "          <td>None</td>\n",
       "        </tr>\n",
       "        <tr>\n",
       "          <td>Architecture</td>\n",
       "          <td>x86</td>\n",
       "        </tr>\n",
       "        <tr>\n",
       "          <td>Acceleration</td>\n",
       "          <td>none</td>\n",
       "        </tr>\n",
       "        <tr>\n",
       "          <td>Updated At</td>\n",
       "          <td>2024-24-Jul 15:36:04</td>\n",
       "        </tr>\n",
       "        <tr>\n",
       "          <td>Workspace id</td>\n",
       "          <td>21</td>\n",
       "        </tr>\n",
       "        <tr>\n",
       "          <td>Workspace name</td>\n",
       "          <td>onnx-tutorial</td>\n",
       "        </tr>\n",
       "      </table>"
      ],
      "text/plain": [
       "{'name': 'onnx-multi-io-model', 'version': 'a2a97ea0-ae8a-409c-8ef1-2e6c223f46e1', 'file_name': 'multi_io.onnx', 'image_path': None, 'arch': 'x86', 'accel': 'none', 'last_update_time': datetime.datetime(2024, 7, 24, 15, 36, 4, 94128, tzinfo=tzutc())}"
      ]
     },
     "execution_count": 4,
     "metadata": {},
     "output_type": "execute_result"
    }
   ],
   "source": [
    "model = wl.upload_model('onnx-multi-io-model', \n",
    "                        \"./models/multi_io.onnx\", \n",
    "                        framework=Framework.ONNX)\n",
    "model\n",
    "\n"
   ]
  },
  {
   "cell_type": "markdown",
   "metadata": {},
   "source": [
    "### Create the Pipeline and Add Steps\n",
    "\n",
    "A new pipeline 'multi-io-example' is created with the `wallaroo.client.build_pipeline` method that creates a new Wallaroo pipeline within our current workspace.  We then add our `onnx-multi-io-model` as a pipeline step.\n",
    "\n",
    "* References\n",
    "  * [Wallaroo SDK Essentials Guide: Pipeline Management](https://docs.wallaroo.ai/wallaroo-developer-guides/wallaroo-sdk-guides/wallaroo-sdk-essentials-guide/wallaroo-sdk-essentials-pipelines/wallaroo-sdk-essentials-pipeline/)"
   ]
  },
  {
   "cell_type": "code",
   "execution_count": 5,
   "metadata": {},
   "outputs": [
    {
     "data": {
      "text/html": [
       "<table><tr><th>name</th> <td>multi-io-example</td></tr><tr><th>created</th> <td>2024-07-24 15:36:04.720700+00:00</td></tr><tr><th>last_updated</th> <td>2024-07-24 15:36:04.720700+00:00</td></tr><tr><th>deployed</th> <td>(none)</td></tr><tr><th>workspace_id</th> <td>21</td></tr><tr><th>workspace_name</th> <td>onnx-tutorial</td></tr><tr><th>arch</th> <td>None</td></tr><tr><th>accel</th> <td>None</td></tr><tr><th>tags</th> <td></td></tr><tr><th>versions</th> <td>206549f4-fa0c-4bed-bcef-c8dfcae70128</td></tr><tr><th>steps</th> <td></td></tr><tr><th>published</th> <td>False</td></tr></table>"
      ],
      "text/plain": [
       "{'name': 'multi-io-example', 'create_time': datetime.datetime(2024, 7, 24, 15, 36, 4, 720700, tzinfo=tzutc()), 'definition': \"[{'ModelInference': {'models': [{'name': 'onnx-multi-io-model', 'version': 'a2a97ea0-ae8a-409c-8ef1-2e6c223f46e1', 'sha': 'bb3e51dfdaa6440359c2396033a84a4248656d0f81ba1f662751520b3f93de27'}]}}]\"}"
      ]
     },
     "execution_count": 5,
     "metadata": {},
     "output_type": "execute_result"
    }
   ],
   "source": [
    "pipeline_name = 'multi-io-example'\n",
    "\n",
    "pipeline = wl.build_pipeline(pipeline_name)\n",
    "\n",
    "# in case this pipeline was run before\n",
    "pipeline.clear()\n",
    "pipeline.add_model_step(model)"
   ]
  },
  {
   "cell_type": "markdown",
   "metadata": {},
   "source": [
    "### Deploy Pipeline\n",
    "\n",
    "With the model set, deploy the pipeline with a deployment configuration.  This sets the number of resources that the pipeline will be allocated from the Wallaroo Ops cluster and makes it available for inference requests.\n",
    "\n",
    "* References\n",
    "  * [Wallaroo SDK Essentials Guide: Pipeline Management](https://docs.wallaroo.ai/wallaroo-developer-guides/wallaroo-sdk-guides/wallaroo-sdk-essentials-guide/wallaroo-sdk-essentials-pipelines/wallaroo-sdk-essentials-pipeline/)\n",
    "  * [Wallaroo SDK Essentials Guide: Pipeline Deployment Configuration](https://docs.wallaroo.ai/wallaroo-developer-guides/wallaroo-sdk-guides/wallaroo-sdk-essentials-guide/wallaroo-sdk-essentials-pipelines/wallaroo-sdk-essentials-pipeline-deployment-config/)"
   ]
  },
  {
   "cell_type": "code",
   "execution_count": 6,
   "id": "88f7708d-e056-4078-98f2-aab12229e1a7",
   "metadata": {},
   "outputs": [
    {
     "data": {
      "text/plain": [
       "{'status': 'Running',\n",
       " 'details': [],\n",
       " 'engines': [{'ip': '10.28.5.31',\n",
       "   'name': 'engine-77b5d997ff-4rt54',\n",
       "   'status': 'Running',\n",
       "   'reason': None,\n",
       "   'details': [],\n",
       "   'pipeline_statuses': {'pipelines': [{'id': 'multi-io-example',\n",
       "      'status': 'Running',\n",
       "      'version': '4dbfa6f6-3bc2-4a06-ad78-1233738d9315'}]},\n",
       "   'model_statuses': {'models': [{'name': 'onnx-multi-io-model',\n",
       "      'sha': 'bb3e51dfdaa6440359c2396033a84a4248656d0f81ba1f662751520b3f93de27',\n",
       "      'status': 'Running',\n",
       "      'version': 'a2a97ea0-ae8a-409c-8ef1-2e6c223f46e1'}]}}],\n",
       " 'engine_lbs': [{'ip': '10.28.5.32',\n",
       "   'name': 'engine-lb-6b59985857-chgb2',\n",
       "   'status': 'Running',\n",
       "   'reason': None,\n",
       "   'details': []}],\n",
       " 'sidekicks': []}"
      ]
     },
     "execution_count": 6,
     "metadata": {},
     "output_type": "execute_result"
    }
   ],
   "source": [
    "deployment_config = DeploymentConfigBuilder() \\\n",
    "    .cpus(0.25).memory('1Gi') \\\n",
    "    .build()\n",
    "\n",
    "pipeline.deploy(deployment_config=deployment_config)\n",
    "pipeline.status()"
   ]
  },
  {
   "cell_type": "markdown",
   "metadata": {},
   "source": [
    "### Sample Inference\n",
    "\n",
    "For our inference request, we will create a dummy DataFrame with the following fields:\n",
    "\n",
    "* input_1: A list of randomly generated numbers.\n",
    "* input_2: A list of randomly generated numbers.\n",
    "\n",
    "10 rows will be created.\n",
    "\n",
    "Inference requests for Wallaroo for ONNX models must meet the following criteria:\n",
    "\n",
    "* Equal rows constraint:  The number of input rows and output rows must match.\n",
    "* All inputs are tensors:  The inputs are tensor arrays with the same shape.\n",
    "* Data Type Consistency:  Data types within each tensor are of the same type.\n",
    "\n",
    "Note that each input meets these requirements:\n",
    "\n",
    "* Each input is one row, and will correspond to a single output row.\n",
    "* Each input is a tensor.  Field values are a list contained within their field.\n",
    "* Each input is the same data type - for example, a list of floats.\n",
    "\n",
    "For more details, see [Wallaroo SDK Essentials Guide: Model Uploads and Registrations: ONNX](https://docs.wallaroo.ai/wallaroo-developer-guides/wallaroo-sdk-guides/wallaroo-sdk-essentials-guide/wallaroo-sdk-model-uploads/wallaroo-sdk-model-upload-onnx/)."
   ]
  },
  {
   "cell_type": "code",
   "execution_count": 7,
   "id": "f07fa183-4102-4ada-b461-66cadf0a2720",
   "metadata": {},
   "outputs": [
    {
     "data": {
      "text/html": [
       "<div>\n",
       "<style scoped>\n",
       "    .dataframe tbody tr th:only-of-type {\n",
       "        vertical-align: middle;\n",
       "    }\n",
       "\n",
       "    .dataframe tbody tr th {\n",
       "        vertical-align: top;\n",
       "    }\n",
       "\n",
       "    .dataframe thead th {\n",
       "        text-align: right;\n",
       "    }\n",
       "</style>\n",
       "<table border=\"1\" class=\"dataframe\">\n",
       "  <thead>\n",
       "    <tr style=\"text-align: right;\">\n",
       "      <th></th>\n",
       "      <th>input_1</th>\n",
       "      <th>input_2</th>\n",
       "    </tr>\n",
       "  </thead>\n",
       "  <tbody>\n",
       "    <tr>\n",
       "      <th>0</th>\n",
       "      <td>[0.417022004702574, 0.7203244934421581, 0.0001...</td>\n",
       "      <td>[0.32664490177209615, 0.5270581022576093, 0.88...</td>\n",
       "    </tr>\n",
       "    <tr>\n",
       "      <th>1</th>\n",
       "      <td>[0.4191945144032948, 0.6852195003967595, 0.204...</td>\n",
       "      <td>[0.6233601157918027, 0.015821242846556283, 0.9...</td>\n",
       "    </tr>\n",
       "    <tr>\n",
       "      <th>2</th>\n",
       "      <td>[0.8007445686755367, 0.9682615757193975, 0.313...</td>\n",
       "      <td>[0.17234050834532855, 0.13713574962887776, 0.9...</td>\n",
       "    </tr>\n",
       "    <tr>\n",
       "      <th>3</th>\n",
       "      <td>[0.0983468338330501, 0.42110762500505217, 0.95...</td>\n",
       "      <td>[0.7554630526024664, 0.7538761884612464, 0.923...</td>\n",
       "    </tr>\n",
       "    <tr>\n",
       "      <th>4</th>\n",
       "      <td>[0.9888610889064947, 0.7481656543798394, 0.280...</td>\n",
       "      <td>[0.01988013383979559, 0.026210986877719278, 0....</td>\n",
       "    </tr>\n",
       "    <tr>\n",
       "      <th>5</th>\n",
       "      <td>[0.019366957870297075, 0.678835532939891, 0.21...</td>\n",
       "      <td>[0.5388310643416528, 0.5528219786857659, 0.842...</td>\n",
       "    </tr>\n",
       "    <tr>\n",
       "      <th>6</th>\n",
       "      <td>[0.10233442882782584, 0.4140559878195683, 0.69...</td>\n",
       "      <td>[0.5857592714582879, 0.9695957483196745, 0.561...</td>\n",
       "    </tr>\n",
       "    <tr>\n",
       "      <th>7</th>\n",
       "      <td>[0.9034019152878835, 0.13747470414623753, 0.13...</td>\n",
       "      <td>[0.23297427384102043, 0.8071051956187791, 0.38...</td>\n",
       "    </tr>\n",
       "    <tr>\n",
       "      <th>8</th>\n",
       "      <td>[0.8833060912058098, 0.6236722070556089, 0.750...</td>\n",
       "      <td>[0.5562402339904189, 0.13645522566068502, 0.05...</td>\n",
       "    </tr>\n",
       "    <tr>\n",
       "      <th>9</th>\n",
       "      <td>[0.11474597295337519, 0.9494892587070712, 0.44...</td>\n",
       "      <td>[0.1074941291060929, 0.2257093386078547, 0.712...</td>\n",
       "    </tr>\n",
       "  </tbody>\n",
       "</table>\n",
       "</div>"
      ],
      "text/plain": [
       "                                             input_1  \\\n",
       "0  [0.417022004702574, 0.7203244934421581, 0.0001...   \n",
       "1  [0.4191945144032948, 0.6852195003967595, 0.204...   \n",
       "2  [0.8007445686755367, 0.9682615757193975, 0.313...   \n",
       "3  [0.0983468338330501, 0.42110762500505217, 0.95...   \n",
       "4  [0.9888610889064947, 0.7481656543798394, 0.280...   \n",
       "5  [0.019366957870297075, 0.678835532939891, 0.21...   \n",
       "6  [0.10233442882782584, 0.4140559878195683, 0.69...   \n",
       "7  [0.9034019152878835, 0.13747470414623753, 0.13...   \n",
       "8  [0.8833060912058098, 0.6236722070556089, 0.750...   \n",
       "9  [0.11474597295337519, 0.9494892587070712, 0.44...   \n",
       "\n",
       "                                             input_2  \n",
       "0  [0.32664490177209615, 0.5270581022576093, 0.88...  \n",
       "1  [0.6233601157918027, 0.015821242846556283, 0.9...  \n",
       "2  [0.17234050834532855, 0.13713574962887776, 0.9...  \n",
       "3  [0.7554630526024664, 0.7538761884612464, 0.923...  \n",
       "4  [0.01988013383979559, 0.026210986877719278, 0....  \n",
       "5  [0.5388310643416528, 0.5528219786857659, 0.842...  \n",
       "6  [0.5857592714582879, 0.9695957483196745, 0.561...  \n",
       "7  [0.23297427384102043, 0.8071051956187791, 0.38...  \n",
       "8  [0.5562402339904189, 0.13645522566068502, 0.05...  \n",
       "9  [0.1074941291060929, 0.2257093386078547, 0.712...  "
      ]
     },
     "metadata": {},
     "output_type": "display_data"
    }
   ],
   "source": [
    "np.random.seed(1)\n",
    "mock_inference_data = [np.random.rand(10, 10), np.random.rand(10, 5)]\n",
    "mock_dataframe = pd.DataFrame(\n",
    "    {\n",
    "        \"input_1\": mock_inference_data[0].tolist(),\n",
    "        \"input_2\": mock_inference_data[1].tolist(),\n",
    "    }\n",
    ")\n",
    "\n",
    "display(mock_dataframe)"
   ]
  },
  {
   "cell_type": "markdown",
   "metadata": {},
   "source": [
    "We now perform an inference with our sample inference request with the `wallaroo.pipeline.infer` method.  The returning DataFrame displays the input variables as `in.{variable_name}`, and the output variables as `out.{variable_name}`.  Each inference output row corresponds with an input row.\n",
    "\n",
    "* References\n",
    "  * [Wallaroo SDK Essentials Guide: Inference Management](https://docs.wallaroo.ai/wallaroo-developer-guides/wallaroo-sdk-guides/wallaroo-sdk-essentials-guide/wallaroo-sdk-essentials-inferences/)"
   ]
  },
  {
   "cell_type": "code",
   "execution_count": 8,
   "id": "ef8a0e92-5c13-4e1a-9b8e-b853670d9c17",
   "metadata": {},
   "outputs": [
    {
     "data": {
      "text/html": [
       "<div>\n",
       "<style scoped>\n",
       "    .dataframe tbody tr th:only-of-type {\n",
       "        vertical-align: middle;\n",
       "    }\n",
       "\n",
       "    .dataframe tbody tr th {\n",
       "        vertical-align: top;\n",
       "    }\n",
       "\n",
       "    .dataframe thead th {\n",
       "        text-align: right;\n",
       "    }\n",
       "</style>\n",
       "<table border=\"1\" class=\"dataframe\">\n",
       "  <thead>\n",
       "    <tr style=\"text-align: right;\">\n",
       "      <th></th>\n",
       "      <th>time</th>\n",
       "      <th>in.input_1</th>\n",
       "      <th>in.input_2</th>\n",
       "      <th>out.output_1</th>\n",
       "      <th>out.output_2</th>\n",
       "      <th>anomaly.count</th>\n",
       "    </tr>\n",
       "  </thead>\n",
       "  <tbody>\n",
       "    <tr>\n",
       "      <th>0</th>\n",
       "      <td>2024-07-24 15:36:20.175</td>\n",
       "      <td>[0.4170220047, 0.7203244934, 0.0001143748, 0.3...</td>\n",
       "      <td>[0.3266449018, 0.5270581023, 0.8859420993, 0.3...</td>\n",
       "      <td>[-0.16188532, -0.2735075, -0.10427341]</td>\n",
       "      <td>[-0.18745898, -0.035904408]</td>\n",
       "      <td>0</td>\n",
       "    </tr>\n",
       "    <tr>\n",
       "      <th>1</th>\n",
       "      <td>2024-07-24 15:36:20.175</td>\n",
       "      <td>[0.4191945144, 0.6852195004, 0.2044522497, 0.8...</td>\n",
       "      <td>[0.6233601158, 0.0158212428, 0.9294372337, 0.6...</td>\n",
       "      <td>[-0.16437894, -0.24449202, -0.10489924]</td>\n",
       "      <td>[-0.17241219, -0.09285815]</td>\n",
       "      <td>0</td>\n",
       "    </tr>\n",
       "    <tr>\n",
       "      <th>2</th>\n",
       "      <td>2024-07-24 15:36:20.175</td>\n",
       "      <td>[0.8007445687, 0.9682615757, 0.3134241782, 0.6...</td>\n",
       "      <td>[0.1723405083, 0.1371357496, 0.932595463, 0.69...</td>\n",
       "      <td>[-0.1431846, -0.33338487, -0.1858185]</td>\n",
       "      <td>[-0.25035447, -0.095617786]</td>\n",
       "      <td>0</td>\n",
       "    </tr>\n",
       "    <tr>\n",
       "      <th>3</th>\n",
       "      <td>2024-07-24 15:36:20.175</td>\n",
       "      <td>[0.0983468338, 0.421107625, 0.9578895302, 0.53...</td>\n",
       "      <td>[0.7554630526, 0.7538761885, 0.9230245355, 0.7...</td>\n",
       "      <td>[-0.21010575, -0.38097042, -0.26413786]</td>\n",
       "      <td>[-0.081432916, -0.12933002]</td>\n",
       "      <td>0</td>\n",
       "    </tr>\n",
       "    <tr>\n",
       "      <th>4</th>\n",
       "      <td>2024-07-24 15:36:20.175</td>\n",
       "      <td>[0.9888610889, 0.7481656544, 0.2804439921, 0.7...</td>\n",
       "      <td>[0.0198801338, 0.0262109869, 0.028306488, 0.24...</td>\n",
       "      <td>[-0.29807547, -0.362104, -0.04459526]</td>\n",
       "      <td>[-0.23403212, 0.019275911]</td>\n",
       "      <td>0</td>\n",
       "    </tr>\n",
       "    <tr>\n",
       "      <th>5</th>\n",
       "      <td>2024-07-24 15:36:20.175</td>\n",
       "      <td>[0.0193669579, 0.6788355329, 0.211628116, 0.26...</td>\n",
       "      <td>[0.5388310643, 0.5528219787, 0.8420308924, 0.1...</td>\n",
       "      <td>[-0.14283556, -0.29290834, -0.1613777]</td>\n",
       "      <td>[-0.20929304, -0.10064016]</td>\n",
       "      <td>0</td>\n",
       "    </tr>\n",
       "    <tr>\n",
       "      <th>6</th>\n",
       "      <td>2024-07-24 15:36:20.175</td>\n",
       "      <td>[0.1023344288, 0.4140559878, 0.6944001577, 0.4...</td>\n",
       "      <td>[0.5857592715, 0.9695957483, 0.5610302193, 0.0...</td>\n",
       "      <td>[-0.2372348, -0.29803842, -0.17791237]</td>\n",
       "      <td>[-0.20062584, -0.026013546]</td>\n",
       "      <td>0</td>\n",
       "    </tr>\n",
       "    <tr>\n",
       "      <th>7</th>\n",
       "      <td>2024-07-24 15:36:20.175</td>\n",
       "      <td>[0.9034019153, 0.1374747041, 0.1392763473, 0.8...</td>\n",
       "      <td>[0.2329742738, 0.8071051956, 0.3878606441, 0.8...</td>\n",
       "      <td>[-0.27525327, -0.46431914, -0.2719731]</td>\n",
       "      <td>[-0.17208403, -0.1618222]</td>\n",
       "      <td>0</td>\n",
       "    </tr>\n",
       "    <tr>\n",
       "      <th>8</th>\n",
       "      <td>2024-07-24 15:36:20.175</td>\n",
       "      <td>[0.8833060912, 0.6236722071, 0.750942434, 0.34...</td>\n",
       "      <td>[0.556240234, 0.1364552257, 0.0599176895, 0.12...</td>\n",
       "      <td>[-0.3599869, -0.37006766, 0.05214046]</td>\n",
       "      <td>[-0.26465484, 0.08243461]</td>\n",
       "      <td>0</td>\n",
       "    </tr>\n",
       "    <tr>\n",
       "      <th>9</th>\n",
       "      <td>2024-07-24 15:36:20.175</td>\n",
       "      <td>[0.114745973, 0.9494892587, 0.4499121335, 0.57...</td>\n",
       "      <td>[0.1074941291, 0.2257093386, 0.7129889804, 0.5...</td>\n",
       "      <td>[-0.20812269, -0.3822521, -0.14788152]</td>\n",
       "      <td>[-0.19157144, -0.12436578]</td>\n",
       "      <td>0</td>\n",
       "    </tr>\n",
       "  </tbody>\n",
       "</table>\n",
       "</div>"
      ],
      "text/plain": [
       "                     time                                         in.input_1  \\\n",
       "0 2024-07-24 15:36:20.175  [0.4170220047, 0.7203244934, 0.0001143748, 0.3...   \n",
       "1 2024-07-24 15:36:20.175  [0.4191945144, 0.6852195004, 0.2044522497, 0.8...   \n",
       "2 2024-07-24 15:36:20.175  [0.8007445687, 0.9682615757, 0.3134241782, 0.6...   \n",
       "3 2024-07-24 15:36:20.175  [0.0983468338, 0.421107625, 0.9578895302, 0.53...   \n",
       "4 2024-07-24 15:36:20.175  [0.9888610889, 0.7481656544, 0.2804439921, 0.7...   \n",
       "5 2024-07-24 15:36:20.175  [0.0193669579, 0.6788355329, 0.211628116, 0.26...   \n",
       "6 2024-07-24 15:36:20.175  [0.1023344288, 0.4140559878, 0.6944001577, 0.4...   \n",
       "7 2024-07-24 15:36:20.175  [0.9034019153, 0.1374747041, 0.1392763473, 0.8...   \n",
       "8 2024-07-24 15:36:20.175  [0.8833060912, 0.6236722071, 0.750942434, 0.34...   \n",
       "9 2024-07-24 15:36:20.175  [0.114745973, 0.9494892587, 0.4499121335, 0.57...   \n",
       "\n",
       "                                          in.input_2  \\\n",
       "0  [0.3266449018, 0.5270581023, 0.8859420993, 0.3...   \n",
       "1  [0.6233601158, 0.0158212428, 0.9294372337, 0.6...   \n",
       "2  [0.1723405083, 0.1371357496, 0.932595463, 0.69...   \n",
       "3  [0.7554630526, 0.7538761885, 0.9230245355, 0.7...   \n",
       "4  [0.0198801338, 0.0262109869, 0.028306488, 0.24...   \n",
       "5  [0.5388310643, 0.5528219787, 0.8420308924, 0.1...   \n",
       "6  [0.5857592715, 0.9695957483, 0.5610302193, 0.0...   \n",
       "7  [0.2329742738, 0.8071051956, 0.3878606441, 0.8...   \n",
       "8  [0.556240234, 0.1364552257, 0.0599176895, 0.12...   \n",
       "9  [0.1074941291, 0.2257093386, 0.7129889804, 0.5...   \n",
       "\n",
       "                              out.output_1                 out.output_2  \\\n",
       "0   [-0.16188532, -0.2735075, -0.10427341]  [-0.18745898, -0.035904408]   \n",
       "1  [-0.16437894, -0.24449202, -0.10489924]   [-0.17241219, -0.09285815]   \n",
       "2    [-0.1431846, -0.33338487, -0.1858185]  [-0.25035447, -0.095617786]   \n",
       "3  [-0.21010575, -0.38097042, -0.26413786]  [-0.081432916, -0.12933002]   \n",
       "4    [-0.29807547, -0.362104, -0.04459526]   [-0.23403212, 0.019275911]   \n",
       "5   [-0.14283556, -0.29290834, -0.1613777]   [-0.20929304, -0.10064016]   \n",
       "6   [-0.2372348, -0.29803842, -0.17791237]  [-0.20062584, -0.026013546]   \n",
       "7   [-0.27525327, -0.46431914, -0.2719731]    [-0.17208403, -0.1618222]   \n",
       "8    [-0.3599869, -0.37006766, 0.05214046]    [-0.26465484, 0.08243461]   \n",
       "9   [-0.20812269, -0.3822521, -0.14788152]   [-0.19157144, -0.12436578]   \n",
       "\n",
       "   anomaly.count  \n",
       "0              0  \n",
       "1              0  \n",
       "2              0  \n",
       "3              0  \n",
       "4              0  \n",
       "5              0  \n",
       "6              0  \n",
       "7              0  \n",
       "8              0  \n",
       "9              0  "
      ]
     },
     "execution_count": 8,
     "metadata": {},
     "output_type": "execute_result"
    }
   ],
   "source": [
    "results = pipeline.infer(mock_dataframe)\n",
    "results"
   ]
  },
  {
   "cell_type": "markdown",
   "metadata": {},
   "source": [
    "### Undeploy the Pipeline\n",
    "\n",
    "With the tutorial complete, we will undeploy the pipeline and return the resources back to the cluster."
   ]
  },
  {
   "cell_type": "code",
   "execution_count": 9,
   "id": "d81c28dc-7fe6-477f-b0c7-d0f9147481c8",
   "metadata": {},
   "outputs": [
    {
     "data": {
      "text/html": [
       "<table><tr><th>name</th> <td>multi-io-example</td></tr><tr><th>created</th> <td>2024-07-24 15:36:04.720700+00:00</td></tr><tr><th>last_updated</th> <td>2024-07-24 15:36:05.595340+00:00</td></tr><tr><th>deployed</th> <td>False</td></tr><tr><th>workspace_id</th> <td>21</td></tr><tr><th>workspace_name</th> <td>onnx-tutorial</td></tr><tr><th>arch</th> <td>x86</td></tr><tr><th>accel</th> <td>none</td></tr><tr><th>tags</th> <td></td></tr><tr><th>versions</th> <td>4dbfa6f6-3bc2-4a06-ad78-1233738d9315, 206549f4-fa0c-4bed-bcef-c8dfcae70128</td></tr><tr><th>steps</th> <td>onnx-multi-io-model</td></tr><tr><th>published</th> <td>False</td></tr></table>"
      ],
      "text/plain": [
       "{'name': 'multi-io-example', 'create_time': datetime.datetime(2024, 7, 24, 15, 36, 4, 720700, tzinfo=tzutc()), 'definition': \"[{'ModelInference': {'models': [{'name': 'onnx-multi-io-model', 'version': 'a2a97ea0-ae8a-409c-8ef1-2e6c223f46e1', 'sha': 'bb3e51dfdaa6440359c2396033a84a4248656d0f81ba1f662751520b3f93de27'}]}}]\"}"
      ]
     },
     "execution_count": 9,
     "metadata": {},
     "output_type": "execute_result"
    }
   ],
   "source": [
    "pipeline.undeploy()"
   ]
  }
 ],
 "metadata": {
  "kernelspec": {
   "display_name": "wallaroosdk2024.2",
   "language": "python",
   "name": "python3"
  },
  "language_info": {
   "codemirror_mode": {
    "name": "ipython",
    "version": 3
   },
   "file_extension": ".py",
   "mimetype": "text/x-python",
   "name": "python",
   "nbconvert_exporter": "python",
   "pygments_lexer": "ipython3",
   "version": "3.8.19"
  }
 },
 "nbformat": 4,
 "nbformat_minor": 5
}
