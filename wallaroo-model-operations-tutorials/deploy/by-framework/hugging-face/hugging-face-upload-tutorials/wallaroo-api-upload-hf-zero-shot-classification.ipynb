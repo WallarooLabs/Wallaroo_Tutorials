{
 "cells": [
  {
   "cell_type": "markdown",
   "id": "2cb6bead-18a0-4bbb-b489-a87dcd26b097",
   "metadata": {},
   "source": [
    "This tutorial can be downloaded as part of the [Wallaroo Tutorials repository](https://github.com/WallarooLabs/Wallaroo_Tutorials/blob/wallaroo2024.4_tutorials/wallaroo-model-operations-tutorials/deploy/by-framework/hugging-face/hugging-face-upload-tutorials).\n",
    "\n",
    "## Wallaroo Model Upload via MLops API: Hugging Face Zero Shot Classification\n",
    "\n",
    "The following tutorial demonstrates how to upload a Hugging Face Zero Shot model to a Wallaroo instance.\n",
    "\n",
    "### Tutorial Goals\n",
    "\n",
    "Demonstrate the following:\n",
    "\n",
    "* Upload a Hugging Face Zero Shot Model to a Wallaroo instance.\n",
    "* Create a pipeline and add the model as a pipeline step.\n",
    "* Perform a sample inference.\n",
    "\n",
    "### Prerequisites\n",
    "\n",
    "* Wallaroo Version 2023.2.1 or above instance\n",
    "\n",
    "### References\n",
    "\n",
    "* [Wallaroo MLOps API Essentials Guide: Model Upload and Registrations](https://docs.wallaroo.ai/wallaroo-developer-guides/wallaroo-api-guide/wallaroo-mlops-api-essential-guide/wallaroo-mlops-api-essentials-guide-model-uploads/)\n",
    "* [Wallaroo API Connection Guide](https://docs.wallaroo.ai/wallaroo-developer-guides/wallaroo-api-guide/wallaroo-mlops-connection-guide/)\n",
    "* [DNS Integration Guide](https://docs.wallaroo.ai/wallaroo-operations-guide/wallaroo-configuration/wallaroo-dns-guide/)"
   ]
  },
  {
   "cell_type": "markdown",
   "id": "a7cf9848",
   "metadata": {},
   "source": [
    "## Tutorial Steps\n",
    "\n",
    "### Import Libraries"
   ]
  },
  {
   "cell_type": "code",
   "execution_count": 1,
   "id": "c6927816-377d-4e70-91e5-42ffba68a071",
   "metadata": {},
   "outputs": [],
   "source": [
    "import json\n",
    "import os\n",
    "import requests\n",
    "import base64\n",
    "\n",
    "import wallaroo\n",
    "from wallaroo.pipeline   import Pipeline\n",
    "from wallaroo.deployment_config import DeploymentConfigBuilder\n",
    "from wallaroo.framework import Framework\n",
    "\n",
    "import pyarrow as pa\n",
    "import numpy as np\n",
    "import pandas as pd"
   ]
  },
  {
   "cell_type": "markdown",
   "id": "3bdd94a7",
   "metadata": {},
   "source": [
    "### Connect to Wallaroo\n",
    "\n",
    "To perform the various Wallaroo MLOps API requests, we will use the Wallaroo SDK to generate the necessary tokens.  For details on other methods of requesting and using authentication tokens with the Wallaroo MLOps API, see the [Wallaroo API Connection Guide](https://docs.wallaroo.ai/wallaroo-developer-guides/wallaroo-api-guide/wallaroo-mlops-connection-guide/).\n",
    "\n",
    "This is accomplished using the `wallaroo.Client()` command, which provides a URL to grant the SDK permission to your specific Wallaroo environment.  When displayed, enter the URL into a browser and confirm permissions.  Store the connection into a variable that can be referenced later.\n",
    "\n",
    "If logging into the Wallaroo instance through the internal JupyterHub service, use `wl = wallaroo.Client()`.  For more information on Wallaroo Client settings, see the [Client Connection guide](https://docs.wallaroo.ai/wallaroo-developer-guides/wallaroo-sdk-guides/wallaroo-sdk-essentials-guide/wallaroo-sdk-essentials-client/)."
   ]
  },
  {
   "cell_type": "code",
   "execution_count": 2,
   "id": "243f0dc2",
   "metadata": {},
   "outputs": [],
   "source": [
    "wl = wallaroo.Client()"
   ]
  },
  {
   "cell_type": "markdown",
   "id": "8926d86c",
   "metadata": {},
   "source": [
    "### Variables\n",
    "\n",
    "The following variables will be set for the rest of the tutorial to set the following:\n",
    "\n",
    "* Wallaroo Workspace\n",
    "* Wallaroo Pipeline\n",
    "* Wallaroo Model name and path\n",
    "* Wallaroo Model Framework\n",
    "* The DNS prefix and suffix for the Wallaroo instance.\n",
    "\n",
    "Verify that the Wallaroo Domain Name match `wallarooDomain` variable below."
   ]
  },
  {
   "cell_type": "code",
   "execution_count": 5,
   "id": "b1282ba2",
   "metadata": {},
   "outputs": [
    {
     "data": {
      "text/plain": [
       "'https://doc-test.api.wallaroocommunity.ninja'"
      ]
     },
     "execution_count": 5,
     "metadata": {},
     "output_type": "execute_result"
    }
   ],
   "source": [
    "workspace_name = f'hugging-face-zero-shot-api'\n",
    "pipeline_name = f'hugging-face-zero-shot'\n",
    "model_name = f'zero-shot-classification'\n",
    "model_file_name = \"./models/model-auto-conversion_hugging-face_dummy-pipelines_zero-shot-classification-pipeline.zip\"\n",
    "framework = \"hugging-face-zero-shot-classification\"\n",
    "\n",
    "wallarooDomain = \"YOUR WALLAROO DOMAIN NAME\"\n",
    "\n",
    "APIURL=f\"https://{wallarooDomain}\"\n",
    "APIURL"
   ]
  },
  {
   "cell_type": "markdown",
   "id": "abcbe509",
   "metadata": {},
   "source": [
    "### Create the Workspace\n",
    "\n",
    "In a production environment, the Wallaroo workspace that contains the pipeline and models would be created and deployed.  We will quickly recreate those steps using the MLOps API.\n",
    "\n",
    "Workspaces are created through the MLOps API with the `/v1/api/workspaces/create` command.  This requires the workspace name be provided, and that the workspace **not already exist** in the Wallaroo instance.\n",
    "\n",
    "Reference: [MLOps API Create Workspace](https://docs.wallaroo.ai/wallaroo-developer-guides/wallaroo-api-guide/wallaroo-mlops-api-essential-guide/wallaroo-mlops-api-essential-guide-workspaces/#create-workspace)"
   ]
  },
  {
   "cell_type": "code",
   "execution_count": 6,
   "id": "dafc32e3-faf2-4275-9914-92e707de0190",
   "metadata": {},
   "outputs": [
    {
     "data": {
      "text/plain": [
       "{'workspace_id': 22}"
      ]
     },
     "metadata": {},
     "output_type": "display_data"
    }
   ],
   "source": [
    "# Retrieve the token\n",
    "headers = wl.auth.auth_header()\n",
    "\n",
    "# set Content-Type type\n",
    "headers['Content-Type']='application/json'\n",
    "\n",
    "# Create workspace\n",
    "apiRequest = f\"{APIURL}/v1/api/workspaces/create\"\n",
    "\n",
    "data = {\n",
    "  \"workspace_name\": workspace_name\n",
    "}\n",
    "\n",
    "response = requests.post(apiRequest, json=data, headers=headers, verify=True).json()\n",
    "display(response)\n",
    "# Stored for future examples\n",
    "workspaceId = response['workspace_id']"
   ]
  },
  {
   "cell_type": "markdown",
   "id": "4599c29f-7d53-4302-9f81-0e9494311b73",
   "metadata": {},
   "source": [
    "### Upload the Model\n",
    "\n",
    "* Endpoint:\n",
    "  * `/v1/api/models/upload_and_convert`\n",
    "* Headers:\n",
    "  * **Content-Type**: `multipart/form-data`\n",
    "* Parameters\n",
    "  * **name** (*String* *Required*): The model name.\n",
    "  * **visibility** (*String* *Required*): Either `public` or `private`.\n",
    "  * **workspace_id** (*String* *Required*): The numerical ID of the workspace to upload the model to.\n",
    "  * **conversion** (*String* *Required*):  The conversion parameters that include the following:\n",
    "    * **framework** (*String* *Required*): The framework of the model being uploaded.  See the list of supported models for more details.\n",
    "    * **python_version** (*String* *Required*):  The version of Python required for model.\n",
    "    * **requirements**  (*String* *Required*):  Required libraries.  Can be `[]` if the requirements are default Wallaroo JupyterHub libraries.\n",
    "    * **input_schema**  (*String* *Optional*): The input schema from the Apache Arrow `pyarrow.lib.Schema` format, encoded with `base64.b64encode`.  Only required for non-native runtime models.\n",
    "    * **output_schema** (*String* *Optional*): The output schema from the Apache Arrow `pyarrow.lib.Schema` format, encoded with `base64.b64encode`.  Only required for non-native runtime models."
   ]
  },
  {
   "cell_type": "markdown",
   "id": "6df6d397",
   "metadata": {},
   "source": [
    "#### Set the Schemas\n",
    "\n",
    "The input and output schemas will be defined according to the [Wallaroo Hugging Face schema requirements](https://docs.wallaroo.ai/wallaroo-developer-guides/wallaroo-sdk-guides/wallaroo-sdk-essentials-guide/wallaroo-sdk-model-uploads/wallaroo-sdk-model-upload-hugging-face/).  The inputs are then base64 encoded for attachment in the API request."
   ]
  },
  {
   "cell_type": "code",
   "execution_count": 7,
   "id": "68a11377-f837-4583-bbeb-52e4316e4cb2",
   "metadata": {},
   "outputs": [],
   "source": [
    "input_schema = pa.schema([\n",
    "    pa.field('inputs', pa.string()), # required\n",
    "    pa.field('candidate_labels', pa.list_(pa.string(), list_size=2)), # required\n",
    "    pa.field('hypothesis_template', pa.string()), # optional\n",
    "    pa.field('multi_label', pa.bool_()), # optional\n",
    "])\n",
    "\n",
    "output_schema = pa.schema([\n",
    "    pa.field('sequence', pa.string()),\n",
    "    pa.field('scores', pa.list_(pa.float64(), list_size=2)), # same as number of candidate labels, list_size can be skipped by may result in slightly worse performance\n",
    "    pa.field('labels', pa.list_(pa.string(), list_size=2)), # same as number of candidate labels, list_size can be skipped by may result in slightly worse performance\n",
    "])"
   ]
  },
  {
   "cell_type": "code",
   "execution_count": 8,
   "id": "13de6c8a-4c21-43f2-9e94-637bb9466e92",
   "metadata": {},
   "outputs": [],
   "source": [
    "encoded_input_schema = base64.b64encode(\n",
    "                bytes(input_schema.serialize())\n",
    "            ).decode(\"utf8\")"
   ]
  },
  {
   "cell_type": "code",
   "execution_count": 9,
   "id": "f85093fc-45a7-42b8-a4d0-32584275e685",
   "metadata": {},
   "outputs": [],
   "source": [
    "encoded_output_schema = base64.b64encode(\n",
    "                bytes(output_schema.serialize())\n",
    "            ).decode(\"utf8\")"
   ]
  },
  {
   "cell_type": "markdown",
   "id": "44fe463a-4d4c-490f-9445-a1f3c17d5534",
   "metadata": {},
   "source": [
    "### Build the Request\n",
    "\n",
    "We will now build the request to include the required data.  We will be using the `workspaceId` returned when we created our workspace in a previous step, specifying the input and output schemas, and the framework."
   ]
  },
  {
   "cell_type": "code",
   "execution_count": 10,
   "id": "b9ec317e-398b-48a4-b45f-8f164378a68c",
   "metadata": {},
   "outputs": [],
   "source": [
    "metadata = {\n",
    "    \"name\": model_name,\n",
    "    \"visibility\": \"private\",\n",
    "    \"workspace_id\": workspaceId,\n",
    "    \"conversion\": {\n",
    "        \"framework\": framework,\n",
    "        \"python_version\": \"3.8\",\n",
    "        \"requirements\": []\n",
    "    },\n",
    "    \"input_schema\": encoded_input_schema,\n",
    "    \"output_schema\": encoded_output_schema,\n",
    "}"
   ]
  },
  {
   "cell_type": "markdown",
   "id": "07a1eb57",
   "metadata": {},
   "source": [
    "### Upload Model API Request\n",
    "\n",
    "Now we will make our upload and convert request.  The model is is stored for the next set of steps."
   ]
  },
  {
   "cell_type": "code",
   "execution_count": 11,
   "id": "b1c401db-3244-4085-ae16-af8c2637aa4e",
   "metadata": {
    "tags": []
   },
   "outputs": [
    {
     "name": "stdout",
     "output_type": "stream",
     "text": [
      "{'insert_models': {'returning': [{'models': [{'id': 105}]}]}}\n"
     ]
    }
   ],
   "source": [
    "headers = wl.auth.auth_header()\n",
    "\n",
    "files = {\n",
    "    'metadata': (None, json.dumps(metadata), \"application/json\"),\n",
    "    'file': (model_name, open(model_file_name,'rb'),'application/octet-stream')\n",
    "}\n",
    "\n",
    "response = requests.post(f'{APIURL}/v1/api/models/upload_and_convert', \n",
    "                         headers=headers, \n",
    "                         files=files)\n",
    "print(response.json())"
   ]
  },
  {
   "cell_type": "code",
   "execution_count": 13,
   "id": "5f806948",
   "metadata": {},
   "outputs": [
    {
     "data": {
      "text/plain": [
       "105"
      ]
     },
     "execution_count": 13,
     "metadata": {},
     "output_type": "execute_result"
    }
   ],
   "source": [
    "modelId = response.json()['insert_models']['returning'][0]['models'][0]['id']\n",
    "modelId"
   ]
  },
  {
   "cell_type": "code",
   "execution_count": 18,
   "id": "449dc510-9e3c-4bc8-9dea-cda7f1cce738",
   "metadata": {},
   "outputs": [
    {
     "data": {
      "text/plain": [
       "[{'sha': '3dcc14dd925489d4f0a3960e90a7ab5917ab685ce955beca8924aa7bb9a69398',\n",
       "  'models_pk_id': 105,\n",
       "  'model_version': '719a15be-4788-4d75-9799-eb3bd05762cc',\n",
       "  'owner_id': '\"\"',\n",
       "  'model_id': 'zero-shot-classification',\n",
       "  'id': 105,\n",
       "  'file_name': 'zero-shot-classification',\n",
       "  'image_path': None,\n",
       "  'status': 'attempting_load_container'}]"
      ]
     },
     "execution_count": 18,
     "metadata": {},
     "output_type": "execute_result"
    }
   ],
   "source": [
    "# Get the model details\n",
    "\n",
    "# Retrieve the token\n",
    "headers = wl.auth.auth_header()\n",
    "\n",
    "# set Content-Type type\n",
    "headers['Content-Type']='application/json'\n",
    "\n",
    "apiRequest = f\"{APIURL}/v1/api/models/list_versions\"\n",
    "\n",
    "data = {\n",
    "  \"model_id\": model_name,\n",
    "  \"models_pk_id\" : modelId\n",
    "}\n",
    "\n",
    "status = None\n",
    "\n",
    "response = requests.post(apiRequest, json=data, headers=headers, verify=True).json()\n",
    "response"
   ]
  },
  {
   "cell_type": "markdown",
   "id": "a1d00902-e31a-492e-9ac7-089d06a0d5c4",
   "metadata": {},
   "source": [
    "### Model Upload Complete\n",
    "\n",
    "With that, the model upload is complete and can be deployed into a Wallaroo pipeline."
   ]
  }
 ],
 "metadata": {
  "kernelspec": {
   "display_name": "Python 3 (ipykernel)",
   "language": "python",
   "name": "python3"
  },
  "language_info": {
   "codemirror_mode": {
    "name": "ipython",
    "version": 3
   },
   "file_extension": ".py",
   "mimetype": "text/x-python",
   "name": "python",
   "nbconvert_exporter": "python",
   "pygments_lexer": "ipython3",
   "version": "3.8.19"
  }
 },
 "nbformat": 4,
 "nbformat_minor": 5
}
