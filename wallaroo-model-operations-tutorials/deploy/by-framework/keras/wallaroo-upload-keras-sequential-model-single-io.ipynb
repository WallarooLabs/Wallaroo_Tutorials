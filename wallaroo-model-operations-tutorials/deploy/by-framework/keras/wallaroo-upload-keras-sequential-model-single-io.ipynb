{
 "cells": [
  {
   "cell_type": "markdown",
   "id": "c18c8461-a00a-4a16-b3d7-2dee9187f672",
   "metadata": {},
   "source": [
    "This tutorial can be downloaded as part of the [Wallaroo Tutorials repository](https://github.com/WallarooLabs/Wallaroo_Tutorials/blob/wallaroo2025.1_tutorials/wallaroo-model-operations-tutorials/deploy/by-framework/keras).\n",
    "\n",
    "## Wallaroo Model Upload via the Wallaroo SDK: TensorFlow keras Sequential Single IO\n",
    "\n",
    "The following tutorial demonstrates how to upload a TensorFlow keras Sequential Single IO model to a Wallaroo instance.\n",
    "\n",
    "### Tutorial Goals\n",
    "\n",
    "Demonstrate the following:\n",
    "\n",
    "* Upload a TensorFlow keras Sequential Single IO to a Wallaroo instance.\n",
    "* Create a pipeline and add the model as a pipeline step.\n",
    "* Perform a sample inference.\n",
    "\n",
    "### Prerequisites\n",
    "\n",
    "* Wallaroo Version 2023.2.1 or above instance.\n",
    "\n",
    "### References\n",
    "\n",
    "* [Wallaroo MLOps API Essentials Guide: Model Upload and Registrations](https://docs.wallaroo.ai/wallaroo-developer-guides/wallaroo-api-guide/wallaroo-mlops-api-essential-guide/wallaroo-mlops-api-essentials-guide-model-uploads/)\n",
    "* [Wallaroo API Connection Guide](https://docs.wallaroo.ai/wallaroo-developer-guides/wallaroo-api-guide/wallaroo-mlops-connection-guide/)\n",
    "* [DNS Integration Guide](https://docs.wallaroo.ai/wallaroo-operations-guide/wallaroo-configuration/wallaroo-dns-guide/)"
   ]
  },
  {
   "cell_type": "markdown",
   "id": "2af502b1",
   "metadata": {},
   "source": [
    "## Tutorial Steps\n",
    "\n",
    "### Import Libraries\n",
    "\n",
    "The first step is to import the libraries we'll be using.  These are included by default in the Wallaroo instance's JupyterHub service."
   ]
  },
  {
   "cell_type": "code",
   "execution_count": 1,
   "id": "3436bb69-bb45-4d18-bc19-d82f76ae9bfe",
   "metadata": {},
   "outputs": [],
   "source": [
    "import json\n",
    "import os\n",
    "import pickle\n",
    "\n",
    "import wallaroo\n",
    "from wallaroo.pipeline   import Pipeline\n",
    "from wallaroo.deployment_config import DeploymentConfigBuilder\n",
    "from wallaroo.framework import Framework\n",
    "from wallaroo.object import EntityNotFoundError\n",
    "\n",
    "import pyarrow as pa\n",
    "import numpy as np\n",
    "import pandas as pd\n",
    "\n",
    "from sklearn.datasets import load_iris\n",
    "from sklearn.linear_model import LogisticRegression\n",
    "\n",
    "import datetime"
   ]
  },
  {
   "cell_type": "markdown",
   "id": "ac906578",
   "metadata": {},
   "source": [
    "### Open a Connection to Wallaroo\n",
    "\n",
    "The next step is connect to Wallaroo through the Wallaroo client.  The Python library is included in the Wallaroo install and available through the Jupyter Hub interface provided with your Wallaroo environment.\n",
    "\n",
    "This is accomplished using the `wallaroo.Client()` command, which provides a URL to grant the SDK permission to your specific Wallaroo environment.  When displayed, enter the URL into a browser and confirm permissions.  Store the connection into a variable that can be referenced later.\n",
    "\n",
    "If logging into the Wallaroo instance through the internal JupyterHub service, use `wl = wallaroo.Client()`.  For more details on logging in through Wallaroo, see the [Wallaroo SDK Essentials Guide: Client Connection](https://docs.wallaroo.ai/wallaroo-developer-guides/wallaroo-sdk-guides/wallaroo-sdk-essentials-guide/wallaroo-sdk-essentials-client/)."
   ]
  },
  {
   "cell_type": "code",
   "execution_count": 2,
   "id": "8d568583-9c2d-4efe-b700-fe1a967d0506",
   "metadata": {},
   "outputs": [],
   "source": [
    "wl = wallaroo.Client()"
   ]
  },
  {
   "cell_type": "markdown",
   "id": "56fb4480",
   "metadata": {},
   "source": [
    "### Set Variables\n",
    "\n",
    "We'll set the name of our workspace, pipeline, models and files.  Workspace names must be unique across the Wallaroo workspace.  For this, we'll add in a randomly generated 4 characters to the workspace name to prevent collisions with other users' workspaces.  If running this tutorial, we recommend hard coding the workspace name so it will function in the same workspace each time it's run."
   ]
  },
  {
   "cell_type": "code",
   "execution_count": 3,
   "id": "c3ab8ea6",
   "metadata": {},
   "outputs": [],
   "source": [
    "workspace_name = f'keras-sequential-single-io'\n",
    "pipeline_name = f'keras-sequential-single-io'\n",
    "\n",
    "model_name = 'keras-sequential-single-io'\n",
    "model_file_name = 'models/model-auto-conversion_keras_single_io_keras_sequential_model.h5'"
   ]
  },
  {
   "cell_type": "markdown",
   "id": "6b7cd74b",
   "metadata": {},
   "source": [
    "### Create Workspace and Pipeline\n",
    "\n",
    "We will now create the Wallaroo workspace to store our model and set it as the current workspace.  Future commands will default to this workspace for pipeline creation, model uploads, etc.  We'll create our Wallaroo pipeline to deploy our model."
   ]
  },
  {
   "cell_type": "code",
   "execution_count": 4,
   "id": "e65ea6e1",
   "metadata": {},
   "outputs": [],
   "source": [
    "workspace = wl.get_workspace(name=workspace_name, create_if_not_exist=True)\n",
    "\n",
    "wl.set_current_workspace(workspace)\n",
    "\n",
    "pipeline = wl.build_pipeline(pipeline_name)"
   ]
  },
  {
   "cell_type": "markdown",
   "id": "f9da8253",
   "metadata": {},
   "source": [
    "### Configure Data Schemas\n",
    "\n",
    "The following parameters are required for TensorFlow keras models.  Note that while some fields are considered as **optional** for the `upload_model` method, they are required for proper uploading of a TensorFlow Keras model to Wallaroo.\n",
    "\n",
    "| Parameter | Type | Description |\n",
    "|---|---|---|\n",
    "|`name` | `string` (*Required*) | The name of the model.  Model names are unique per workspace.  Models that are uploaded with the same name are assigned as a new **version** of the model. |\n",
    "|`path` | `string` (*Required*) | The path to the model file being uploaded. \n",
    "|`framework` |`string` (*Upload Method Optional, TensorFlow keras model Required*) | Set as the `Framework.KERAS`. |\n",
    "|`input_schema` | `pyarrow.lib.Schema` (*Upload Method Optional, TensorFlow Keras model Required*) | The input schema in Apache Arrow schema format. |\n",
    "|`output_schema` | `pyarrow.lib.Schema` (*Upload Method Optional, TensorFlow Keras model Required*) | The output schema in Apache Arrow schema format. |\n",
    "| `convert_wait` | `bool` (*Upload Method Optional, TensorFlow model Optional*) (*Default: True*) | <ul><li>**True**: Waits in the script for the model conversion completion.</li><li>**False**:  Proceeds with the script without waiting for the model conversion process to display complete. |\n",
    "\n",
    "Once the upload process starts, the model is containerized by the Wallaroo instance.  This process may take up to 10 minutes."
   ]
  },
  {
   "cell_type": "code",
   "execution_count": 5,
   "id": "1167694d-d0ac-4432-9fde-4ba7a5e65846",
   "metadata": {},
   "outputs": [],
   "source": [
    "input_schema = pa.schema([\n",
    "    pa.field('input', pa.list_(pa.float64(), list_size=10))\n",
    "])\n",
    "output_schema = pa.schema([\n",
    "    pa.field('output', pa.list_(pa.float64(), list_size=32))\n",
    "])"
   ]
  },
  {
   "cell_type": "markdown",
   "id": "af676365-ebc8-48ce-b008-389ea3af91cd",
   "metadata": {
    "tags": []
   },
   "source": [
    "### Upload Model\n",
    "\n",
    "The model will be uploaded with the framework set as `Framework.KERAS`."
   ]
  },
  {
   "cell_type": "code",
   "execution_count": 6,
   "id": "3700515d-f91c-481f-a495-29ad82cab91f",
   "metadata": {},
   "outputs": [
    {
     "name": "stdout",
     "output_type": "stream",
     "text": [
      "Waiting for model loading - this will take up to 10.0min.\n",
      "Model is pending loading to a native runtime.......\n",
      "Model is pending loading to a container runtime..\n",
      "Model is attempting loading to a container runtime........successful\n",
      "\n",
      "Ready\n"
     ]
    },
    {
     "data": {
      "text/html": [
       "<table>\n",
       "        <tr>\n",
       "          <td>Name</td>\n",
       "          <td>keras-sequential-single-io</td>\n",
       "        </tr>\n",
       "        <tr>\n",
       "          <td>Version</td>\n",
       "          <td>dd9ea9c5-f8a9-4ed6-bd20-23c5a744c86d</td>\n",
       "        </tr>\n",
       "        <tr>\n",
       "          <td>File Name</td>\n",
       "          <td>model-auto-conversion_keras_single_io_keras_sequential_model.h5</td>\n",
       "        </tr>\n",
       "        <tr>\n",
       "          <td>SHA</td>\n",
       "          <td>f7e49538e38bebe066ce8df97bac8be239ae8c7d2733e500c8cd633706ae95a8</td>\n",
       "        </tr>\n",
       "        <tr>\n",
       "          <td>Status</td>\n",
       "          <td>ready</td>\n",
       "        </tr>\n",
       "        <tr>\n",
       "          <td>Image Path</td>\n",
       "          <td>proxy.replicated.com/proxy/wallaroo/ghcr.io/wallaroolabs/mac-deploy:v2024.2.0-main-5421</td>\n",
       "        </tr>\n",
       "        <tr>\n",
       "          <td>Architecture</td>\n",
       "          <td>x86</td>\n",
       "        </tr>\n",
       "        <tr>\n",
       "          <td>Acceleration</td>\n",
       "          <td>none</td>\n",
       "        </tr>\n",
       "        <tr>\n",
       "          <td>Updated At</td>\n",
       "          <td>2024-22-Jul 20:59:18</td>\n",
       "        </tr>\n",
       "        <tr>\n",
       "          <td>Workspace id</td>\n",
       "          <td>15</td>\n",
       "        </tr>\n",
       "        <tr>\n",
       "          <td>Workspace name</td>\n",
       "          <td>keras-sequential-single-io</td>\n",
       "        </tr>\n",
       "      </table>"
      ],
      "text/plain": [
       "{'name': 'keras-sequential-single-io', 'version': 'dd9ea9c5-f8a9-4ed6-bd20-23c5a744c86d', 'file_name': 'model-auto-conversion_keras_single_io_keras_sequential_model.h5', 'image_path': 'proxy.replicated.com/proxy/wallaroo/ghcr.io/wallaroolabs/mac-deploy:v2024.2.0-main-5421', 'arch': 'x86', 'accel': 'none', 'last_update_time': datetime.datetime(2024, 7, 22, 20, 59, 18, 187299, tzinfo=tzutc())}"
      ]
     },
     "execution_count": 6,
     "metadata": {},
     "output_type": "execute_result"
    }
   ],
   "source": [
    "framework=Framework.KERAS\n",
    "\n",
    "model = wl.upload_model(model_name, \n",
    "                        model_file_name, \n",
    "                        framework=framework, \n",
    "                        input_schema=input_schema, \n",
    "                        output_schema=output_schema)\n",
    "model"
   ]
  },
  {
   "cell_type": "code",
   "execution_count": 7,
   "id": "551e6989",
   "metadata": {},
   "outputs": [
    {
     "data": {
      "text/plain": [
       "'flight'"
      ]
     },
     "execution_count": 7,
     "metadata": {},
     "output_type": "execute_result"
    }
   ],
   "source": [
    "model.config().runtime()"
   ]
  },
  {
   "cell_type": "markdown",
   "id": "47fcab28-dce9-4385-802c-70a8f48fec38",
   "metadata": {
    "tags": []
   },
   "source": [
    "### Deploy Pipeline\n",
    "\n",
    "The model is uploaded and ready for use.  We'll add it as a step in our pipeline, then deploy the pipeline.  For this example we're allocated 0.25 cpu and 4 Gi RAM to the pipeline through the pipeline's deployment configuration."
   ]
  },
  {
   "cell_type": "code",
   "execution_count": 8,
   "id": "2a709f2c-1332-4984-9cf8-87c6328d6ae4",
   "metadata": {},
   "outputs": [],
   "source": [
    "deployment_config = DeploymentConfigBuilder() \\\n",
    "    .cpus(0.25).memory('1Gi') \\\n",
    "    .build()"
   ]
  },
  {
   "cell_type": "code",
   "execution_count": 9,
   "id": "ed1c83af-6bb3-491c-b8b8-649a53f30085",
   "metadata": {},
   "outputs": [
    {
     "name": "stdout",
     "output_type": "stream",
     "text": [
      "Waiting for deployment - this will take up to 45s ............................ ok\n"
     ]
    },
    {
     "data": {
      "text/plain": [
       "{'status': 'Running',\n",
       " 'details': [],\n",
       " 'engines': [{'ip': '10.28.1.28',\n",
       "   'name': 'engine-5cf46868bd-j754n',\n",
       "   'status': 'Running',\n",
       "   'reason': None,\n",
       "   'details': [],\n",
       "   'pipeline_statuses': {'pipelines': [{'id': 'keras-sequential-single-io',\n",
       "      'status': 'Running',\n",
       "      'version': 'a2523397-0a9f-43c8-b4c2-da4a9493e6f7'}]},\n",
       "   'model_statuses': {'models': [{'name': 'keras-sequential-single-io',\n",
       "      'sha': 'f7e49538e38bebe066ce8df97bac8be239ae8c7d2733e500c8cd633706ae95a8',\n",
       "      'status': 'Running',\n",
       "      'version': 'dd9ea9c5-f8a9-4ed6-bd20-23c5a744c86d'}]}}],\n",
       " 'engine_lbs': [{'ip': '10.28.1.27',\n",
       "   'name': 'engine-lb-6b59985857-jvxzw',\n",
       "   'status': 'Running',\n",
       "   'reason': None,\n",
       "   'details': []}],\n",
       " 'sidekicks': [{'ip': '10.28.1.29',\n",
       "   'name': 'engine-sidekick-keras-sequential-single-io-15-7d9db84465-4wxwf',\n",
       "   'status': 'Running',\n",
       "   'reason': None,\n",
       "   'details': [],\n",
       "   'statuses': '\\n'}]}"
      ]
     },
     "execution_count": 9,
     "metadata": {},
     "output_type": "execute_result"
    }
   ],
   "source": [
    "# clear the pipeline if used in a previous tutorial\n",
    "pipeline.undeploy()\n",
    "pipeline.clear()\n",
    "pipeline.add_model_step(model)\n",
    "\n",
    "pipeline.deploy(deployment_config=deployment_config)\n",
    "pipeline.status()"
   ]
  },
  {
   "cell_type": "markdown",
   "id": "60cb4aa0-601d-4556-a3f8-cdc59e758add",
   "metadata": {},
   "source": [
    "### Run Inference\n",
    "\n",
    "A sample inference will be run.  First the pandas DataFrame used for the inference is created, then the inference run through the pipeline's `infer` method."
   ]
  },
  {
   "cell_type": "code",
   "execution_count": 10,
   "id": "1eab3c59-c7a2-4e79-a468-e5bcb65d916c",
   "metadata": {},
   "outputs": [
    {
     "data": {
      "text/html": [
       "<div>\n",
       "<style scoped>\n",
       "    .dataframe tbody tr th:only-of-type {\n",
       "        vertical-align: middle;\n",
       "    }\n",
       "\n",
       "    .dataframe tbody tr th {\n",
       "        vertical-align: top;\n",
       "    }\n",
       "\n",
       "    .dataframe thead th {\n",
       "        text-align: right;\n",
       "    }\n",
       "</style>\n",
       "<table border=\"1\" class=\"dataframe\">\n",
       "  <thead>\n",
       "    <tr style=\"text-align: right;\">\n",
       "      <th></th>\n",
       "      <th>input</th>\n",
       "    </tr>\n",
       "  </thead>\n",
       "  <tbody>\n",
       "    <tr>\n",
       "      <th>0</th>\n",
       "      <td>[0.49673320526081977, 0.5586423614885364, 0.42...</td>\n",
       "    </tr>\n",
       "    <tr>\n",
       "      <th>1</th>\n",
       "      <td>[0.10126060560536199, 0.7037617073251677, 0.94...</td>\n",
       "    </tr>\n",
       "    <tr>\n",
       "      <th>2</th>\n",
       "      <td>[0.026495906590471185, 0.7190501964570059, 0.4...</td>\n",
       "    </tr>\n",
       "    <tr>\n",
       "      <th>3</th>\n",
       "      <td>[0.06432205620500386, 0.9834999537432707, 0.55...</td>\n",
       "    </tr>\n",
       "    <tr>\n",
       "      <th>4</th>\n",
       "      <td>[0.20412827260252786, 0.5799663571274025, 0.00...</td>\n",
       "    </tr>\n",
       "    <tr>\n",
       "      <th>5</th>\n",
       "      <td>[0.8978152460797632, 0.6898186677480959, 0.630...</td>\n",
       "    </tr>\n",
       "    <tr>\n",
       "      <th>6</th>\n",
       "      <td>[0.9104162964560322, 0.49879122361451433, 0.59...</td>\n",
       "    </tr>\n",
       "    <tr>\n",
       "      <th>7</th>\n",
       "      <td>[0.7798859682979128, 0.8083992826656565, 0.167...</td>\n",
       "    </tr>\n",
       "    <tr>\n",
       "      <th>8</th>\n",
       "      <td>[0.6489823855615262, 0.4121655701789879, 0.031...</td>\n",
       "    </tr>\n",
       "    <tr>\n",
       "      <th>9</th>\n",
       "      <td>[0.2535415531735996, 0.9149270943671959, 0.785...</td>\n",
       "    </tr>\n",
       "  </tbody>\n",
       "</table>\n",
       "</div>"
      ],
      "text/plain": [
       "                                               input\n",
       "0  [0.49673320526081977, 0.5586423614885364, 0.42...\n",
       "1  [0.10126060560536199, 0.7037617073251677, 0.94...\n",
       "2  [0.026495906590471185, 0.7190501964570059, 0.4...\n",
       "3  [0.06432205620500386, 0.9834999537432707, 0.55...\n",
       "4  [0.20412827260252786, 0.5799663571274025, 0.00...\n",
       "5  [0.8978152460797632, 0.6898186677480959, 0.630...\n",
       "6  [0.9104162964560322, 0.49879122361451433, 0.59...\n",
       "7  [0.7798859682979128, 0.8083992826656565, 0.167...\n",
       "8  [0.6489823855615262, 0.4121655701789879, 0.031...\n",
       "9  [0.2535415531735996, 0.9149270943671959, 0.785..."
      ]
     },
     "execution_count": 10,
     "metadata": {},
     "output_type": "execute_result"
    }
   ],
   "source": [
    "input_data = np.random.rand(10, 10)\n",
    "mock_dataframe = pd.DataFrame({\n",
    "    \"input\": input_data.tolist()\n",
    "})\n",
    "mock_dataframe"
   ]
  },
  {
   "cell_type": "code",
   "execution_count": 11,
   "id": "105fc39a-e4b3-441f-a26f-31c15fe45c59",
   "metadata": {},
   "outputs": [
    {
     "data": {
      "text/html": [
       "<div>\n",
       "<style scoped>\n",
       "    .dataframe tbody tr th:only-of-type {\n",
       "        vertical-align: middle;\n",
       "    }\n",
       "\n",
       "    .dataframe tbody tr th {\n",
       "        vertical-align: top;\n",
       "    }\n",
       "\n",
       "    .dataframe thead th {\n",
       "        text-align: right;\n",
       "    }\n",
       "</style>\n",
       "<table border=\"1\" class=\"dataframe\">\n",
       "  <thead>\n",
       "    <tr style=\"text-align: right;\">\n",
       "      <th></th>\n",
       "      <th>time</th>\n",
       "      <th>in.input</th>\n",
       "      <th>out.output</th>\n",
       "      <th>anomaly.count</th>\n",
       "    </tr>\n",
       "  </thead>\n",
       "  <tbody>\n",
       "    <tr>\n",
       "      <th>0</th>\n",
       "      <td>2024-07-22 20:59:50.780</td>\n",
       "      <td>[0.4967332053, 0.5586423615, 0.4240760061, 0.9...</td>\n",
       "      <td>[0.021340997889637947, 0.035429518669843674, 0...</td>\n",
       "      <td>0</td>\n",
       "    </tr>\n",
       "    <tr>\n",
       "      <th>1</th>\n",
       "      <td>2024-07-22 20:59:50.780</td>\n",
       "      <td>[0.1012606056, 0.7037617073, 0.9431607941, 0.1...</td>\n",
       "      <td>[0.03815283998847008, 0.019792448729276657, 0....</td>\n",
       "      <td>0</td>\n",
       "    </tr>\n",
       "    <tr>\n",
       "      <th>2</th>\n",
       "      <td>2024-07-22 20:59:50.780</td>\n",
       "      <td>[0.0264959066, 0.7190501965, 0.4100749177, 0.3...</td>\n",
       "      <td>[0.02965729497373104, 0.027410384267568588, 0....</td>\n",
       "      <td>0</td>\n",
       "    </tr>\n",
       "    <tr>\n",
       "      <th>3</th>\n",
       "      <td>2024-07-22 20:59:50.780</td>\n",
       "      <td>[0.0643220562, 0.9834999537, 0.5518424679, 0.8...</td>\n",
       "      <td>[0.029501374810934067, 0.027281081303954124, 0...</td>\n",
       "      <td>0</td>\n",
       "    </tr>\n",
       "    <tr>\n",
       "      <th>4</th>\n",
       "      <td>2024-07-22 20:59:50.780</td>\n",
       "      <td>[0.2041282726, 0.5799663571, 0.0084905288, 0.9...</td>\n",
       "      <td>[0.023593084886670113, 0.036172326654195786, 0...</td>\n",
       "      <td>0</td>\n",
       "    </tr>\n",
       "    <tr>\n",
       "      <th>5</th>\n",
       "      <td>2024-07-22 20:59:50.780</td>\n",
       "      <td>[0.8978152461, 0.6898186677, 0.6309531026, 0.0...</td>\n",
       "      <td>[0.027886733412742615, 0.02047501690685749, 0....</td>\n",
       "      <td>0</td>\n",
       "    </tr>\n",
       "    <tr>\n",
       "      <th>6</th>\n",
       "      <td>2024-07-22 20:59:50.780</td>\n",
       "      <td>[0.9104162965, 0.4987912236, 0.5974217079, 0.6...</td>\n",
       "      <td>[0.0301832165569067, 0.023524614050984383, 0.0...</td>\n",
       "      <td>0</td>\n",
       "    </tr>\n",
       "    <tr>\n",
       "      <th>7</th>\n",
       "      <td>2024-07-22 20:59:50.780</td>\n",
       "      <td>[0.7798859683, 0.8083992827, 0.1677991605, 0.3...</td>\n",
       "      <td>[0.02800787054002285, 0.024884404614567757, 0....</td>\n",
       "      <td>0</td>\n",
       "    </tr>\n",
       "    <tr>\n",
       "      <th>8</th>\n",
       "      <td>2024-07-22 20:59:50.780</td>\n",
       "      <td>[0.6489823856, 0.4121655702, 0.0318375282, 0.9...</td>\n",
       "      <td>[0.012989213690161705, 0.0409930981695652, 0.0...</td>\n",
       "      <td>0</td>\n",
       "    </tr>\n",
       "    <tr>\n",
       "      <th>9</th>\n",
       "      <td>2024-07-22 20:59:50.780</td>\n",
       "      <td>[0.2535415532, 0.9149270944, 0.7853113608, 0.0...</td>\n",
       "      <td>[0.03925394266843796, 0.02345191314816475, 0.0...</td>\n",
       "      <td>0</td>\n",
       "    </tr>\n",
       "  </tbody>\n",
       "</table>\n",
       "</div>"
      ],
      "text/plain": [
       "                     time                                           in.input  \\\n",
       "0 2024-07-22 20:59:50.780  [0.4967332053, 0.5586423615, 0.4240760061, 0.9...   \n",
       "1 2024-07-22 20:59:50.780  [0.1012606056, 0.7037617073, 0.9431607941, 0.1...   \n",
       "2 2024-07-22 20:59:50.780  [0.0264959066, 0.7190501965, 0.4100749177, 0.3...   \n",
       "3 2024-07-22 20:59:50.780  [0.0643220562, 0.9834999537, 0.5518424679, 0.8...   \n",
       "4 2024-07-22 20:59:50.780  [0.2041282726, 0.5799663571, 0.0084905288, 0.9...   \n",
       "5 2024-07-22 20:59:50.780  [0.8978152461, 0.6898186677, 0.6309531026, 0.0...   \n",
       "6 2024-07-22 20:59:50.780  [0.9104162965, 0.4987912236, 0.5974217079, 0.6...   \n",
       "7 2024-07-22 20:59:50.780  [0.7798859683, 0.8083992827, 0.1677991605, 0.3...   \n",
       "8 2024-07-22 20:59:50.780  [0.6489823856, 0.4121655702, 0.0318375282, 0.9...   \n",
       "9 2024-07-22 20:59:50.780  [0.2535415532, 0.9149270944, 0.7853113608, 0.0...   \n",
       "\n",
       "                                          out.output  anomaly.count  \n",
       "0  [0.021340997889637947, 0.035429518669843674, 0...              0  \n",
       "1  [0.03815283998847008, 0.019792448729276657, 0....              0  \n",
       "2  [0.02965729497373104, 0.027410384267568588, 0....              0  \n",
       "3  [0.029501374810934067, 0.027281081303954124, 0...              0  \n",
       "4  [0.023593084886670113, 0.036172326654195786, 0...              0  \n",
       "5  [0.027886733412742615, 0.02047501690685749, 0....              0  \n",
       "6  [0.0301832165569067, 0.023524614050984383, 0.0...              0  \n",
       "7  [0.02800787054002285, 0.024884404614567757, 0....              0  \n",
       "8  [0.012989213690161705, 0.0409930981695652, 0.0...              0  \n",
       "9  [0.03925394266843796, 0.02345191314816475, 0.0...              0  "
      ]
     },
     "execution_count": 11,
     "metadata": {},
     "output_type": "execute_result"
    }
   ],
   "source": [
    "pipeline.infer(mock_dataframe)"
   ]
  },
  {
   "cell_type": "markdown",
   "id": "17852d33",
   "metadata": {},
   "source": [
    "### Undeploy Pipelines\n",
    "\n",
    "With the tutorial complete, the pipeline is undeployed to return the resources back to the cluster."
   ]
  },
  {
   "cell_type": "code",
   "execution_count": 12,
   "id": "cbdc5a2e-266f-4da8-a88d-1733aca72f0d",
   "metadata": {},
   "outputs": [
    {
     "name": "stdout",
     "output_type": "stream",
     "text": [
      "Waiting for undeployment - this will take up to 45s .................................... ok\n"
     ]
    },
    {
     "data": {
      "text/html": [
       "<table><tr><th>name</th> <td>keras-sequential-single-io</td></tr><tr><th>created</th> <td>2024-07-22 20:57:54.646391+00:00</td></tr><tr><th>last_updated</th> <td>2024-07-22 20:59:21.166315+00:00</td></tr><tr><th>deployed</th> <td>False</td></tr><tr><th>workspace_id</th> <td>15</td></tr><tr><th>workspace_name</th> <td>keras-sequential-single-io</td></tr><tr><th>arch</th> <td>x86</td></tr><tr><th>accel</th> <td>none</td></tr><tr><th>tags</th> <td></td></tr><tr><th>versions</th> <td>a2523397-0a9f-43c8-b4c2-da4a9493e6f7, 39d9ef3c-778e-4ebf-9aaf-f8c15476cd6c</td></tr><tr><th>steps</th> <td>keras-sequential-single-io</td></tr><tr><th>published</th> <td>False</td></tr></table>"
      ],
      "text/plain": [
       "{'name': 'keras-sequential-single-io', 'create_time': datetime.datetime(2024, 7, 22, 20, 57, 54, 646391, tzinfo=tzutc()), 'definition': \"[{'ModelInference': {'models': [{'name': 'keras-sequential-single-io', 'version': 'dd9ea9c5-f8a9-4ed6-bd20-23c5a744c86d', 'sha': 'f7e49538e38bebe066ce8df97bac8be239ae8c7d2733e500c8cd633706ae95a8'}]}}]\"}"
      ]
     },
     "execution_count": 12,
     "metadata": {},
     "output_type": "execute_result"
    }
   ],
   "source": [
    "pipeline.undeploy()"
   ]
  }
 ],
 "metadata": {
  "kernelspec": {
   "display_name": "wallaroosdk2025.1",
   "language": "python",
   "name": "python3"
  },
  "language_info": {
   "codemirror_mode": {
    "name": "ipython",
    "version": 3
   },
   "file_extension": ".py",
   "mimetype": "text/x-python",
   "name": "python",
   "nbconvert_exporter": "python",
   "pygments_lexer": "ipython3",
   "version": "3.10.18"
  }
 },
 "nbformat": 4,
 "nbformat_minor": 5
}
