{
 "cells": [
  {
   "attachments": {},
   "cell_type": "markdown",
   "metadata": {},
   "source": [
    "This tutorial and the assets can be downloaded as part of the [Wallaroo Tutorials repository](https://github.com/WallarooLabs/Wallaroo_Tutorials/blob/wallaroo2025.1_tutorials/wallaroo-model-operations-tutorials/model-management/model-hot-swap).\n",
    "\n",
    "## In-Line Model Update Tutorial\n",
    "\n",
    "One of the biggest challenges facing organizations once they have a model trained is deploying the model:  Getting all of the resources together, MLOps configured and systems prepared to allow inferences to run.\n",
    "\n",
    "The next biggest challenge?  Replacing the model while keeping the existing production systems running.\n",
    "\n",
    "This tutorial demonstrates how Wallaroo updates a pipeline step with a new model with one command.  This lets organizations keep their production systems running while changing a ML model, with the change taking only milliseconds, and any inference requests in that time are processed after the in-line model update is completed.\n",
    "\n",
    "This example and sample data comes from the Machine Learning Group's demonstration on [Credit Card Fraud detection](https://www.kaggle.com/datasets/mlg-ulb/creditcardfraud).\n",
    "\n",
    "This tutorial provides the following:\n",
    "\n",
    "* Models:\n",
    "  * `rf_model.onnx`: The champion model that has been used in this environment for some time.\n",
    "  * `xgb_model.onnx` and `gbr_model.onnx`: Rival models that we will swap out from the champion model.\n",
    "* Data:\n",
    "  * xtest-1.df.json and xtest-1k.df.json:  DataFrame JSON inference inputs with 1 input and 1,000 inputs.\n",
    "  * xtest-1.arrow and xtest-1k.arrow:  Apache Arrow inference inputs with 1 input and 1,000 inputs.\n",
    "\n",
    "## Reference\n",
    "\n",
    "For more information about Wallaroo and related features, see the [Wallaroo Documentation Site](https://docs.wallaroo.ai).\n",
    "\n",
    "## Prerequisites\n",
    "\n",
    "* A deployed Wallaroo instance\n",
    "* The following Python libraries installed:\n",
    "  * `os`\n",
    "  * [`wallaroo`](https://pypi.org/project/wallaroo/): The Wallaroo SDK. Included with the Wallaroo JupyterHub service by default.\n",
    "  * [`pandas`](https://pypi.org/project/pandas/): Pandas, mainly used for Pandas DataFrame\n",
    "  * [`pyarrow`](https://pypi.org/project/pyarrow/): PyArrow for Apache Arrow support\n",
    "  * [`polars`](https://pypi.org/project/polars/): Polars for DataFrame with native Apache Arrow support"
   ]
  },
  {
   "attachments": {},
   "cell_type": "markdown",
   "metadata": {},
   "source": [
    "## Steps\n",
    "\n",
    "The following steps demonstrate the following:\n",
    "\n",
    "* Connect to a Wallaroo instance.\n",
    "* Create a workspace and pipeline.\n",
    "* Upload both models to the workspace.\n",
    "* Deploy the pipe with the `rf_model.onnx` model as a pipeline step.\n",
    "* Perform sample inferences.\n",
    "* Replace the existing model with the `xgb_model.onnx` while keeping the pipeline deployed.\n",
    "* Conduct additional inferences to demonstrate the model hot swap was successful.\n",
    "* In-line model update again with `gbr_model.onnx`, and perform more sample inferences.\n",
    "* Undeploy the pipeline and return the resources back to the Wallaroo instance."
   ]
  },
  {
   "attachments": {},
   "cell_type": "markdown",
   "metadata": {},
   "source": [
    "### Load the Libraries\n",
    "\n",
    "Load the Python libraries used to connect and interact with the Wallaroo instance."
   ]
  },
  {
   "cell_type": "code",
   "execution_count": 1,
   "metadata": {},
   "outputs": [],
   "source": [
    "import wallaroo\n",
    "from wallaroo.object import EntityNotFoundError\n",
    "\n",
    "# to display dataframe tables\n",
    "from IPython.display import display\n",
    "# used to display dataframe information without truncating\n",
    "import pandas as pd\n",
    "pd.set_option('display.max_colwidth', None)\n",
    "pd.set_option('display.max_columns', None)\n",
    "import pyarrow as pa"
   ]
  },
  {
   "attachments": {},
   "cell_type": "markdown",
   "metadata": {},
   "source": [
    "### Connect to the Wallaroo Instance\n",
    "\n",
    "The first step is to connect to Wallaroo through the Wallaroo client.  The Python library is included in the Wallaroo install and available through the Jupyter Hub interface provided with your Wallaroo environment.\n",
    "\n",
    "This is accomplished using the `wallaroo.Client()` command, which provides a URL to grant the SDK permission to your specific Wallaroo environment.  When displayed, enter the URL into a browser and confirm permissions.  Store the connection into a variable that can be referenced later.\n",
    "\n",
    "If logging into the Wallaroo instance through the internal JupyterHub service, use `wl = wallaroo.Client()`.  For more information on Wallaroo Client settings, see the [Client Connection guide](https://docs.wallaroo.ai/wallaroo-developer-guides/wallaroo-sdk-guides/wallaroo-sdk-essentials-guide/wallaroo-sdk-essentials-client/)."
   ]
  },
  {
   "cell_type": "code",
   "execution_count": 2,
   "metadata": {},
   "outputs": [],
   "source": [
    "# Login through local Wallaroo instance\n",
    "\n",
    "wl = wallaroo.Client()"
   ]
  },
  {
   "attachments": {},
   "cell_type": "markdown",
   "metadata": {},
   "source": [
    "### Set the Variables\n",
    "\n",
    "The following variables are used in the later steps for creating the workspace, pipeline, and uploading the models.  Modify them according to your organization's requirements.\n",
    "\n",
    "Just for the sake of this tutorial, we'll use the SDK below to create our workspace , assign as our **current workspace**, then display all of the workspaces we have at the moment.  We'll also set up for our models and pipelines down the road, so we have one spot to change names to whatever fits your organization's standards best."
   ]
  },
  {
   "cell_type": "code",
   "execution_count": 3,
   "metadata": {},
   "outputs": [],
   "source": [
    "workspace_name = f'hotswapworkspace'\n",
    "pipeline_name = f'hotswappipeline'\n",
    "original_model_name = f'housingmodelcontrol'\n",
    "original_model_file_name = './models/rf_model.onnx'\n",
    "replacement_model_name01 = f'gbrhousingchallenger'\n",
    "replacement_model_file_name01 = './models/gbr_model.onnx'\n",
    "replacement_model_name02 = f'xgbhousingchallenger'\n",
    "replacement_model_file_name02 = './models/xgb_model.onnx'\n"
   ]
  },
  {
   "attachments": {},
   "cell_type": "markdown",
   "metadata": {},
   "source": [
    "### Create the Workspace\n",
    "\n",
    "We will create a workspace based on the variable names set above, and set the new workspace as the `current` workspace.  This workspace is where new pipelines will be created in and store uploaded models for this session.\n",
    "\n",
    "Once set, the pipeline will be created."
   ]
  },
  {
   "cell_type": "code",
   "execution_count": 4,
   "metadata": {},
   "outputs": [
    {
     "data": {
      "text/html": [
       "<table><tr><th>name</th> <td>hotswappipeline</td></tr><tr><th>created</th> <td>2024-04-16 21:49:31.896046+00:00</td></tr><tr><th>last_updated</th> <td>2024-04-16 21:49:31.896046+00:00</td></tr><tr><th>deployed</th> <td>(none)</td></tr><tr><th>arch</th> <td>None</td></tr><tr><th>accel</th> <td>None</td></tr><tr><th>tags</th> <td></td></tr><tr><th>versions</th> <td>58a62f21-ca2e-4d37-99c5-c7fdf81c8932</td></tr><tr><th>steps</th> <td></td></tr><tr><th>published</th> <td>False</td></tr></table>"
      ],
      "text/plain": [
       "{'name': 'hotswappipeline', 'create_time': datetime.datetime(2024, 4, 16, 21, 49, 31, 896046, tzinfo=tzutc()), 'definition': '[]'}"
      ]
     },
     "execution_count": 4,
     "metadata": {},
     "output_type": "execute_result"
    }
   ],
   "source": [
    "workspace = wl.get_workspace(name=workspace_name, create_if_not_exist=True)\n",
    "\n",
    "wl.set_current_workspace(workspace)\n",
    "\n",
    "pipeline = wl.build_pipeline(pipeline_name)\n",
    "pipeline"
   ]
  },
  {
   "attachments": {},
   "cell_type": "markdown",
   "metadata": {},
   "source": [
    "### Upload Models\n",
    "\n",
    "We can now upload both of the models.  In a later step, only one model will be added as a [pipeline step](https://docs.wallaroo.ai/wallaroo-developer-guides/wallaroo-sdk-guides/wallaroo-sdk-essentials-guide/wallaroo-sdk-essentials-pipeline/#add-a-step-to-a-pipeline), where the pipeline will submit inference requests to the pipeline."
   ]
  },
  {
   "cell_type": "code",
   "execution_count": 5,
   "metadata": {},
   "outputs": [],
   "source": [
    "original_model = (wl.upload_model(original_model_name , \n",
    "                                  original_model_file_name, \n",
    "                                  framework=wallaroo.framework.Framework.ONNX)\n",
    "                                  .configure(tensor_fields=[\"tensor\"])\n",
    "                    )\n",
    "replacement_model01 = (wl.upload_model(replacement_model_name01 , \n",
    "                                       replacement_model_file_name01, \n",
    "                                       framework=wallaroo.framework.Framework.ONNX)\n",
    "                                       .configure(tensor_fields=[\"tensor\"])\n",
    "                        )\n",
    "replacement_model02 = (wl.upload_model(replacement_model_name02 , \n",
    "                                       replacement_model_file_name02, \n",
    "                                       framework=wallaroo.framework.Framework.ONNX)\n",
    "                                       .configure(tensor_fields=[\"tensor\"])\n",
    "                        )"
   ]
  },
  {
   "cell_type": "code",
   "execution_count": 6,
   "metadata": {},
   "outputs": [
    {
     "data": {
      "text/html": [
       "\n",
       "          <table>\n",
       "            <tr>\n",
       "              <th>Name</th>\n",
       "              <th># of Versions</th>\n",
       "              <th>Owner ID</th>\n",
       "              <th>Last Updated</th>\n",
       "              <th>Created At</th>\n",
       "            </tr>\n",
       "            \n",
       "            <tr>\n",
       "              <td>xgbhousingchallenger</td>\n",
       "              <td>1</td>\n",
       "              <td>\"\"</td>\n",
       "              <td>2024-04-16 21:49:35.976420+00:00</td>\n",
       "              <td>2024-04-16 21:49:35.976420+00:00</td>\n",
       "            </tr>\n",
       "           \n",
       "            <tr>\n",
       "              <td>gbrhousingchallenger</td>\n",
       "              <td>1</td>\n",
       "              <td>\"\"</td>\n",
       "              <td>2024-04-16 21:49:34.278449+00:00</td>\n",
       "              <td>2024-04-16 21:49:34.278449+00:00</td>\n",
       "            </tr>\n",
       "           \n",
       "            <tr>\n",
       "              <td>housingmodelcontrol</td>\n",
       "              <td>1</td>\n",
       "              <td>\"\"</td>\n",
       "              <td>2024-04-16 21:49:33.468351+00:00</td>\n",
       "              <td>2024-04-16 21:49:33.468351+00:00</td>\n",
       "            </tr>\n",
       "          \n",
       "          </table>\n",
       "        "
      ],
      "text/plain": [
       "[{'name': 'xgbhousingchallenger', 'versions': 1, 'owner_id': '\"\"', 'last_update_time': datetime.datetime(2024, 4, 16, 21, 49, 35, 976420, tzinfo=tzutc()), 'created_at': datetime.datetime(2024, 4, 16, 21, 49, 35, 976420, tzinfo=tzutc())},\n",
       " {'name': 'gbrhousingchallenger', 'versions': 1, 'owner_id': '\"\"', 'last_update_time': datetime.datetime(2024, 4, 16, 21, 49, 34, 278449, tzinfo=tzutc()), 'created_at': datetime.datetime(2024, 4, 16, 21, 49, 34, 278449, tzinfo=tzutc())},\n",
       " {'name': 'housingmodelcontrol', 'versions': 1, 'owner_id': '\"\"', 'last_update_time': datetime.datetime(2024, 4, 16, 21, 49, 33, 468351, tzinfo=tzutc()), 'created_at': datetime.datetime(2024, 4, 16, 21, 49, 33, 468351, tzinfo=tzutc())}]"
      ]
     },
     "execution_count": 6,
     "metadata": {},
     "output_type": "execute_result"
    }
   ],
   "source": [
    "wl.list_models()"
   ]
  },
  {
   "attachments": {},
   "cell_type": "markdown",
   "metadata": {},
   "source": [
    "### Add Model to Pipeline Step\n",
    "\n",
    "With the models uploaded, we will add the original model as a pipeline step, then deploy the pipeline so it is available for performing inferences."
   ]
  },
  {
   "cell_type": "code",
   "execution_count": 7,
   "metadata": {},
   "outputs": [
    {
     "data": {
      "text/html": [
       "<table><tr><th>name</th> <td>hotswappipeline</td></tr><tr><th>created</th> <td>2024-04-16 21:49:31.896046+00:00</td></tr><tr><th>last_updated</th> <td>2024-04-16 21:49:31.896046+00:00</td></tr><tr><th>deployed</th> <td>(none)</td></tr><tr><th>arch</th> <td>None</td></tr><tr><th>accel</th> <td>None</td></tr><tr><th>tags</th> <td></td></tr><tr><th>versions</th> <td>58a62f21-ca2e-4d37-99c5-c7fdf81c8932</td></tr><tr><th>steps</th> <td></td></tr><tr><th>published</th> <td>False</td></tr></table>"
      ],
      "text/plain": [
       "{'name': 'hotswappipeline', 'create_time': datetime.datetime(2024, 4, 16, 21, 49, 31, 896046, tzinfo=tzutc()), 'definition': \"[{'ModelInference': {'models': [{'name': 'housingmodelcontrol', 'version': '79b4b517-b008-48ba-b3b0-9ed81c035bc1', 'sha': 'e22a0831aafd9917f3cc87a15ed267797f80e2afa12ad7d8810ca58f173b8cc6'}]}}]\"}"
      ]
     },
     "execution_count": 7,
     "metadata": {},
     "output_type": "execute_result"
    }
   ],
   "source": [
    "pipeline.add_model_step(original_model)\n",
    "pipeline"
   ]
  },
  {
   "cell_type": "code",
   "execution_count": 8,
   "metadata": {},
   "outputs": [
    {
     "data": {
      "text/html": [
       "<table><tr><th>name</th> <td>hotswappipeline</td></tr><tr><th>created</th> <td>2024-04-16 21:49:31.896046+00:00</td></tr><tr><th>last_updated</th> <td>2024-04-16 21:49:37.537834+00:00</td></tr><tr><th>deployed</th> <td>True</td></tr><tr><th>arch</th> <td>x86</td></tr><tr><th>accel</th> <td>none</td></tr><tr><th>tags</th> <td></td></tr><tr><th>versions</th> <td>f473131c-49b0-4bb5-8580-32bdff43607a, 58a62f21-ca2e-4d37-99c5-c7fdf81c8932</td></tr><tr><th>steps</th> <td>housingmodelcontrol</td></tr><tr><th>published</th> <td>False</td></tr></table>"
      ],
      "text/plain": [
       "{'name': 'hotswappipeline', 'create_time': datetime.datetime(2024, 4, 16, 21, 49, 31, 896046, tzinfo=tzutc()), 'definition': \"[{'ModelInference': {'models': [{'name': 'housingmodelcontrol', 'version': '79b4b517-b008-48ba-b3b0-9ed81c035bc1', 'sha': 'e22a0831aafd9917f3cc87a15ed267797f80e2afa12ad7d8810ca58f173b8cc6'}]}}]\"}"
      ]
     },
     "execution_count": 8,
     "metadata": {},
     "output_type": "execute_result"
    }
   ],
   "source": [
    "pipeline.deploy()"
   ]
  },
  {
   "cell_type": "code",
   "execution_count": 9,
   "metadata": {},
   "outputs": [
    {
     "data": {
      "text/plain": [
       "{'status': 'Running',\n",
       " 'details': [],\n",
       " 'engines': [{'ip': '10.28.0.99',\n",
       "   'name': 'engine-58fcf56b5f-llvr4',\n",
       "   'status': 'Running',\n",
       "   'reason': None,\n",
       "   'details': [],\n",
       "   'pipeline_statuses': {'pipelines': [{'id': 'hotswappipeline',\n",
       "      'status': 'Running'}]},\n",
       "   'model_statuses': {'models': [{'name': 'housingmodelcontrol',\n",
       "      'sha': 'e22a0831aafd9917f3cc87a15ed267797f80e2afa12ad7d8810ca58f173b8cc6',\n",
       "      'status': 'Running',\n",
       "      'version': '79b4b517-b008-48ba-b3b0-9ed81c035bc1'}]}}],\n",
       " 'engine_lbs': [{'ip': '10.28.3.3',\n",
       "   'name': 'engine-lb-d7cc8fc9c-6dzrd',\n",
       "   'status': 'Running',\n",
       "   'reason': None,\n",
       "   'details': []}],\n",
       " 'sidekicks': []}"
      ]
     },
     "execution_count": 9,
     "metadata": {},
     "output_type": "execute_result"
    }
   ],
   "source": [
    "pipeline.status()"
   ]
  },
  {
   "attachments": {},
   "cell_type": "markdown",
   "metadata": {},
   "source": [
    "### Verify the Model\n",
    "\n",
    "The pipeline is deployed with our model.  The following will verify that the model is operating correctly.  The `high_fraud.json` file contains data that the model should process as a high likelihood of being a fraudulent transaction."
   ]
  },
  {
   "cell_type": "code",
   "execution_count": 10,
   "metadata": {},
   "outputs": [
    {
     "data": {
      "text/html": [
       "<div>\n",
       "<style scoped>\n",
       "    .dataframe tbody tr th:only-of-type {\n",
       "        vertical-align: middle;\n",
       "    }\n",
       "\n",
       "    .dataframe tbody tr th {\n",
       "        vertical-align: top;\n",
       "    }\n",
       "\n",
       "    .dataframe thead th {\n",
       "        text-align: right;\n",
       "    }\n",
       "</style>\n",
       "<table border=\"1\" class=\"dataframe\">\n",
       "  <thead>\n",
       "    <tr style=\"text-align: right;\">\n",
       "      <th></th>\n",
       "      <th>time</th>\n",
       "      <th>in.tensor</th>\n",
       "      <th>out.variable</th>\n",
       "      <th>anomaly.count</th>\n",
       "    </tr>\n",
       "  </thead>\n",
       "  <tbody>\n",
       "    <tr>\n",
       "      <th>0</th>\n",
       "      <td>2024-04-16 21:49:52.455</td>\n",
       "      <td>[4.0, 2.5, 2900.0, 5505.0, 2.0, 0.0, 0.0, 3.0, 8.0, 2900.0, 0.0, 47.6063, -122.02, 2970.0, 5251.0, 12.0, 0.0, 0.0]</td>\n",
       "      <td>[718013.7]</td>\n",
       "      <td>0</td>\n",
       "    </tr>\n",
       "  </tbody>\n",
       "</table>\n",
       "</div>"
      ],
      "text/plain": [
       "                     time  \\\n",
       "0 2024-04-16 21:49:52.455   \n",
       "\n",
       "                                                                                                            in.tensor  \\\n",
       "0  [4.0, 2.5, 2900.0, 5505.0, 2.0, 0.0, 0.0, 3.0, 8.0, 2900.0, 0.0, 47.6063, -122.02, 2970.0, 5251.0, 12.0, 0.0, 0.0]   \n",
       "\n",
       "  out.variable  anomaly.count  \n",
       "0   [718013.7]              0  "
      ]
     },
     "metadata": {},
     "output_type": "display_data"
    }
   ],
   "source": [
    "normal_input = pd.DataFrame.from_records({\"tensor\": [[4.0, 2.5, 2900.0, 5505.0, 2.0, 0.0, 0.0, 3.0, 8.0, 2900.0, 0.0, 47.6063, -122.02, 2970.0, 5251.0, 12.0, 0.0, 0.0]]})\n",
    "result = pipeline.infer(normal_input)\n",
    "display(result)"
   ]
  },
  {
   "cell_type": "code",
   "execution_count": 11,
   "metadata": {},
   "outputs": [
    {
     "data": {
      "text/html": [
       "<div>\n",
       "<style scoped>\n",
       "    .dataframe tbody tr th:only-of-type {\n",
       "        vertical-align: middle;\n",
       "    }\n",
       "\n",
       "    .dataframe tbody tr th {\n",
       "        vertical-align: top;\n",
       "    }\n",
       "\n",
       "    .dataframe thead th {\n",
       "        text-align: right;\n",
       "    }\n",
       "</style>\n",
       "<table border=\"1\" class=\"dataframe\">\n",
       "  <thead>\n",
       "    <tr style=\"text-align: right;\">\n",
       "      <th></th>\n",
       "      <th>time</th>\n",
       "      <th>in.tensor</th>\n",
       "      <th>out.variable</th>\n",
       "      <th>anomaly.count</th>\n",
       "    </tr>\n",
       "  </thead>\n",
       "  <tbody>\n",
       "    <tr>\n",
       "      <th>0</th>\n",
       "      <td>2024-04-16 21:49:52.656</td>\n",
       "      <td>[4.0, 3.0, 3710.0, 20000.0, 2.0, 0.0, 2.0, 5.0, 10.0, 2760.0, 950.0, 47.6696, -122.261, 3970.0, 20000.0, 79.0, 0.0, 0.0]</td>\n",
       "      <td>[1514079.4]</td>\n",
       "      <td>0</td>\n",
       "    </tr>\n",
       "  </tbody>\n",
       "</table>\n",
       "</div>"
      ],
      "text/plain": [
       "                     time  \\\n",
       "0 2024-04-16 21:49:52.656   \n",
       "\n",
       "                                                                                                                  in.tensor  \\\n",
       "0  [4.0, 3.0, 3710.0, 20000.0, 2.0, 0.0, 2.0, 5.0, 10.0, 2760.0, 950.0, 47.6696, -122.261, 3970.0, 20000.0, 79.0, 0.0, 0.0]   \n",
       "\n",
       "  out.variable  anomaly.count  \n",
       "0  [1514079.4]              0  "
      ]
     },
     "metadata": {},
     "output_type": "display_data"
    }
   ],
   "source": [
    "large_house_input = pd.DataFrame.from_records({'tensor': [[4.0, 3.0, 3710.0, 20000.0, 2.0, 0.0, 2.0, 5.0, 10.0, 2760.0, 950.0, 47.6696, -122.261, 3970.0, 20000.0, 79.0, 0.0, 0.0]]})\n",
    "large_house_result = pipeline.infer(large_house_input)\n",
    "display(large_house_result)"
   ]
  },
  {
   "attachments": {},
   "cell_type": "markdown",
   "metadata": {},
   "source": [
    "### Replace the Model\n",
    "\n",
    "The pipeline is currently deployed and is able to handle inferences.  The model will now be replaced without having to undeploy the pipeline.  This is done using the pipeline method [`replace_with_model_step(index, model)`](https://docs.wallaroo.ai/wallaroo-developer-guides/wallaroo-sdk-guides/wallaroo-sdk-reference-guide/pipeline/#Pipeline.replace_with_model_step).  Steps start at `0`, so the method called below will replace step 0 in our pipeline with the replacement model.\n",
    "\n",
    "As an exercise, this deployment can be performed while inferences are actively being submitted to the pipeline to show how quickly the swap takes place."
   ]
  },
  {
   "cell_type": "code",
   "execution_count": 12,
   "metadata": {},
   "outputs": [
    {
     "data": {
      "text/html": [
       "<table><tr><th>name</th> <td>hotswappipeline</td></tr><tr><th>created</th> <td>2024-04-16 21:49:31.896046+00:00</td></tr><tr><th>last_updated</th> <td>2024-04-16 21:49:52.919661+00:00</td></tr><tr><th>deployed</th> <td>True</td></tr><tr><th>arch</th> <td>x86</td></tr><tr><th>accel</th> <td>none</td></tr><tr><th>tags</th> <td></td></tr><tr><th>versions</th> <td>eb7eb1eb-d2e7-458d-a883-55f01028972b, f473131c-49b0-4bb5-8580-32bdff43607a, 58a62f21-ca2e-4d37-99c5-c7fdf81c8932</td></tr><tr><th>steps</th> <td>gbrhousingchallenger</td></tr><tr><th>published</th> <td>False</td></tr></table>"
      ],
      "text/plain": [
       "{'name': 'hotswappipeline', 'create_time': datetime.datetime(2024, 4, 16, 21, 49, 31, 896046, tzinfo=tzutc()), 'definition': \"[{'ModelInference': {'models': [{'name': 'gbrhousingchallenger', 'version': 'df7d16fe-c722-427b-a3d0-8a868e66f499', 'sha': 'ed6065a79d841f7e96307bb20d5ef22840f15da0b587efb51425c7ad60589d6a'}]}}]\"}"
      ]
     },
     "execution_count": 12,
     "metadata": {},
     "output_type": "execute_result"
    }
   ],
   "source": [
    "pipeline.replace_with_model_step(0, replacement_model01).deploy()"
   ]
  },
  {
   "attachments": {},
   "cell_type": "markdown",
   "metadata": {},
   "source": [
    "### Verify the Swap\n",
    "\n",
    "To verify the swap, we'll submit the same inferences and display the result.  Note that `out.variable` has a different output than with the original model."
   ]
  },
  {
   "cell_type": "code",
   "execution_count": 13,
   "metadata": {},
   "outputs": [
    {
     "data": {
      "text/html": [
       "<div>\n",
       "<style scoped>\n",
       "    .dataframe tbody tr th:only-of-type {\n",
       "        vertical-align: middle;\n",
       "    }\n",
       "\n",
       "    .dataframe tbody tr th {\n",
       "        vertical-align: top;\n",
       "    }\n",
       "\n",
       "    .dataframe thead th {\n",
       "        text-align: right;\n",
       "    }\n",
       "</style>\n",
       "<table border=\"1\" class=\"dataframe\">\n",
       "  <thead>\n",
       "    <tr style=\"text-align: right;\">\n",
       "      <th></th>\n",
       "      <th>time</th>\n",
       "      <th>in.tensor</th>\n",
       "      <th>out.variable</th>\n",
       "      <th>anomaly.count</th>\n",
       "    </tr>\n",
       "  </thead>\n",
       "  <tbody>\n",
       "    <tr>\n",
       "      <th>0</th>\n",
       "      <td>2024-04-16 21:49:55.341</td>\n",
       "      <td>[4.0, 2.5, 2900.0, 5505.0, 2.0, 0.0, 0.0, 3.0, 8.0, 2900.0, 0.0, 47.6063, -122.02, 2970.0, 5251.0, 12.0, 0.0, 0.0]</td>\n",
       "      <td>[704901.9]</td>\n",
       "      <td>0</td>\n",
       "    </tr>\n",
       "  </tbody>\n",
       "</table>\n",
       "</div>"
      ],
      "text/plain": [
       "                     time  \\\n",
       "0 2024-04-16 21:49:55.341   \n",
       "\n",
       "                                                                                                            in.tensor  \\\n",
       "0  [4.0, 2.5, 2900.0, 5505.0, 2.0, 0.0, 0.0, 3.0, 8.0, 2900.0, 0.0, 47.6063, -122.02, 2970.0, 5251.0, 12.0, 0.0, 0.0]   \n",
       "\n",
       "  out.variable  anomaly.count  \n",
       "0   [704901.9]              0  "
      ]
     },
     "metadata": {},
     "output_type": "display_data"
    }
   ],
   "source": [
    "normal_input = pd.DataFrame.from_records({\"tensor\": [[4.0, 2.5, 2900.0, 5505.0, 2.0, 0.0, 0.0, 3.0, 8.0, 2900.0, 0.0, 47.6063, -122.02, 2970.0, 5251.0, 12.0, 0.0, 0.0]]})\n",
    "result02 = pipeline.infer(normal_input)\n",
    "display(result02)"
   ]
  },
  {
   "cell_type": "code",
   "execution_count": 14,
   "metadata": {},
   "outputs": [
    {
     "data": {
      "text/html": [
       "<div>\n",
       "<style scoped>\n",
       "    .dataframe tbody tr th:only-of-type {\n",
       "        vertical-align: middle;\n",
       "    }\n",
       "\n",
       "    .dataframe tbody tr th {\n",
       "        vertical-align: top;\n",
       "    }\n",
       "\n",
       "    .dataframe thead th {\n",
       "        text-align: right;\n",
       "    }\n",
       "</style>\n",
       "<table border=\"1\" class=\"dataframe\">\n",
       "  <thead>\n",
       "    <tr style=\"text-align: right;\">\n",
       "      <th></th>\n",
       "      <th>time</th>\n",
       "      <th>in.tensor</th>\n",
       "      <th>out.variable</th>\n",
       "      <th>anomaly.count</th>\n",
       "    </tr>\n",
       "  </thead>\n",
       "  <tbody>\n",
       "    <tr>\n",
       "      <th>0</th>\n",
       "      <td>2024-04-16 21:49:55.510</td>\n",
       "      <td>[4.0, 3.0, 3710.0, 20000.0, 2.0, 0.0, 2.0, 5.0, 10.0, 2760.0, 950.0, 47.6696, -122.261, 3970.0, 20000.0, 79.0, 0.0, 0.0]</td>\n",
       "      <td>[1981238.0]</td>\n",
       "      <td>0</td>\n",
       "    </tr>\n",
       "  </tbody>\n",
       "</table>\n",
       "</div>"
      ],
      "text/plain": [
       "                     time  \\\n",
       "0 2024-04-16 21:49:55.510   \n",
       "\n",
       "                                                                                                                  in.tensor  \\\n",
       "0  [4.0, 3.0, 3710.0, 20000.0, 2.0, 0.0, 2.0, 5.0, 10.0, 2760.0, 950.0, 47.6696, -122.261, 3970.0, 20000.0, 79.0, 0.0, 0.0]   \n",
       "\n",
       "  out.variable  anomaly.count  \n",
       "0  [1981238.0]              0  "
      ]
     },
     "metadata": {},
     "output_type": "display_data"
    }
   ],
   "source": [
    "large_house_input = pd.DataFrame.from_records({'tensor': [[4.0, 3.0, 3710.0, 20000.0, 2.0, 0.0, 2.0, 5.0, 10.0, 2760.0, 950.0, 47.6696, -122.261, 3970.0, 20000.0, 79.0, 0.0, 0.0]]})\n",
    "large_house_result02 = pipeline.infer(large_house_input)\n",
    "display(large_house_result02)"
   ]
  },
  {
   "attachments": {},
   "cell_type": "markdown",
   "metadata": {},
   "source": [
    "### Replace the Model Again\n",
    "\n",
    "Let's do one more in-line model update, this time with our `replacement_model02`, then get some test inferences."
   ]
  },
  {
   "cell_type": "code",
   "execution_count": 15,
   "metadata": {},
   "outputs": [
    {
     "data": {
      "text/html": [
       "<table><tr><th>name</th> <td>hotswappipeline</td></tr><tr><th>created</th> <td>2024-04-16 21:49:31.896046+00:00</td></tr><tr><th>last_updated</th> <td>2024-04-16 21:49:55.906039+00:00</td></tr><tr><th>deployed</th> <td>True</td></tr><tr><th>arch</th> <td>x86</td></tr><tr><th>accel</th> <td>none</td></tr><tr><th>tags</th> <td></td></tr><tr><th>versions</th> <td>e4b525e6-4f9c-4989-a1be-e02628988e7a, eb7eb1eb-d2e7-458d-a883-55f01028972b, f473131c-49b0-4bb5-8580-32bdff43607a, 58a62f21-ca2e-4d37-99c5-c7fdf81c8932</td></tr><tr><th>steps</th> <td>xgbhousingchallenger</td></tr><tr><th>published</th> <td>False</td></tr></table>"
      ],
      "text/plain": [
       "{'name': 'hotswappipeline', 'create_time': datetime.datetime(2024, 4, 16, 21, 49, 31, 896046, tzinfo=tzutc()), 'definition': \"[{'ModelInference': {'models': [{'name': 'xgbhousingchallenger', 'version': 'f34eb9a0-6eb1-4930-ae1a-d24dac44a26c', 'sha': '31e92d6ccb27b041a324a7ac22cf95d9d6cc3aa7e8263a229f7c4aec4938657c'}]}}]\"}"
      ]
     },
     "execution_count": 15,
     "metadata": {},
     "output_type": "execute_result"
    }
   ],
   "source": [
    "pipeline.replace_with_model_step(0, replacement_model02).deploy()"
   ]
  },
  {
   "cell_type": "code",
   "execution_count": 16,
   "metadata": {},
   "outputs": [
    {
     "data": {
      "text/html": [
       "<div>\n",
       "<style scoped>\n",
       "    .dataframe tbody tr th:only-of-type {\n",
       "        vertical-align: middle;\n",
       "    }\n",
       "\n",
       "    .dataframe tbody tr th {\n",
       "        vertical-align: top;\n",
       "    }\n",
       "\n",
       "    .dataframe thead th {\n",
       "        text-align: right;\n",
       "    }\n",
       "</style>\n",
       "<table border=\"1\" class=\"dataframe\">\n",
       "  <thead>\n",
       "    <tr style=\"text-align: right;\">\n",
       "      <th></th>\n",
       "      <th>time</th>\n",
       "      <th>in.tensor</th>\n",
       "      <th>out.variable</th>\n",
       "      <th>anomaly.count</th>\n",
       "    </tr>\n",
       "  </thead>\n",
       "  <tbody>\n",
       "    <tr>\n",
       "      <th>0</th>\n",
       "      <td>2024-04-16 21:49:59.019</td>\n",
       "      <td>[4.0, 2.5, 2900.0, 5505.0, 2.0, 0.0, 0.0, 3.0, 8.0, 2900.0, 0.0, 47.6063, -122.02, 2970.0, 5251.0, 12.0, 0.0, 0.0]</td>\n",
       "      <td>[659806.0]</td>\n",
       "      <td>0</td>\n",
       "    </tr>\n",
       "  </tbody>\n",
       "</table>\n",
       "</div>"
      ],
      "text/plain": [
       "                     time  \\\n",
       "0 2024-04-16 21:49:59.019   \n",
       "\n",
       "                                                                                                            in.tensor  \\\n",
       "0  [4.0, 2.5, 2900.0, 5505.0, 2.0, 0.0, 0.0, 3.0, 8.0, 2900.0, 0.0, 47.6063, -122.02, 2970.0, 5251.0, 12.0, 0.0, 0.0]   \n",
       "\n",
       "  out.variable  anomaly.count  \n",
       "0   [659806.0]              0  "
      ]
     },
     "metadata": {},
     "output_type": "display_data"
    }
   ],
   "source": [
    "normal_input = pd.DataFrame.from_records({\"tensor\": [[4.0, 2.5, 2900.0, 5505.0, 2.0, 0.0, 0.0, 3.0, 8.0, 2900.0, 0.0, 47.6063, -122.02, 2970.0, 5251.0, 12.0, 0.0, 0.0]]})\n",
    "result03 = pipeline.infer(normal_input)\n",
    "display(result03)"
   ]
  },
  {
   "cell_type": "code",
   "execution_count": 17,
   "metadata": {},
   "outputs": [
    {
     "data": {
      "text/html": [
       "<div>\n",
       "<style scoped>\n",
       "    .dataframe tbody tr th:only-of-type {\n",
       "        vertical-align: middle;\n",
       "    }\n",
       "\n",
       "    .dataframe tbody tr th {\n",
       "        vertical-align: top;\n",
       "    }\n",
       "\n",
       "    .dataframe thead th {\n",
       "        text-align: right;\n",
       "    }\n",
       "</style>\n",
       "<table border=\"1\" class=\"dataframe\">\n",
       "  <thead>\n",
       "    <tr style=\"text-align: right;\">\n",
       "      <th></th>\n",
       "      <th>time</th>\n",
       "      <th>in.tensor</th>\n",
       "      <th>out.variable</th>\n",
       "      <th>anomaly.count</th>\n",
       "    </tr>\n",
       "  </thead>\n",
       "  <tbody>\n",
       "    <tr>\n",
       "      <th>0</th>\n",
       "      <td>2024-04-16 21:49:59.203</td>\n",
       "      <td>[4.0, 3.0, 3710.0, 20000.0, 2.0, 0.0, 2.0, 5.0, 10.0, 2760.0, 950.0, 47.6696, -122.261, 3970.0, 20000.0, 79.0, 0.0, 0.0]</td>\n",
       "      <td>[2176827.0]</td>\n",
       "      <td>0</td>\n",
       "    </tr>\n",
       "  </tbody>\n",
       "</table>\n",
       "</div>"
      ],
      "text/plain": [
       "                     time  \\\n",
       "0 2024-04-16 21:49:59.203   \n",
       "\n",
       "                                                                                                                  in.tensor  \\\n",
       "0  [4.0, 3.0, 3710.0, 20000.0, 2.0, 0.0, 2.0, 5.0, 10.0, 2760.0, 950.0, 47.6696, -122.261, 3970.0, 20000.0, 79.0, 0.0, 0.0]   \n",
       "\n",
       "  out.variable  anomaly.count  \n",
       "0  [2176827.0]              0  "
      ]
     },
     "metadata": {},
     "output_type": "display_data"
    }
   ],
   "source": [
    "large_house_input = pd.DataFrame.from_records({'tensor': [[4.0, 3.0, 3710.0, 20000.0, 2.0, 0.0, 2.0, 5.0, 10.0, 2760.0, 950.0, 47.6696, -122.261, 3970.0, 20000.0, 79.0, 0.0, 0.0]]})\n",
    "large_house_result03 = pipeline.infer(large_house_input)\n",
    "display(large_house_result03)"
   ]
  },
  {
   "attachments": {},
   "cell_type": "markdown",
   "metadata": {},
   "source": [
    "### Compare Outputs\n",
    "\n",
    "We'll display the outputs of our inferences through the different models for comparison."
   ]
  },
  {
   "cell_type": "code",
   "execution_count": 18,
   "metadata": {},
   "outputs": [
    {
     "data": {
      "text/plain": [
       "['housingmodelcontrol', [718013.7]]"
      ]
     },
     "metadata": {},
     "output_type": "display_data"
    },
    {
     "data": {
      "text/plain": [
       "['gbrhousingchallenger', [704901.9]]"
      ]
     },
     "metadata": {},
     "output_type": "display_data"
    },
    {
     "data": {
      "text/plain": [
       "['xgbhousingchallenger', [659806.0]]"
      ]
     },
     "metadata": {},
     "output_type": "display_data"
    }
   ],
   "source": [
    "display([original_model_name, result.loc[0, \"out.variable\"]])\n",
    "display([replacement_model_name01, result02.loc[0, \"out.variable\"]])\n",
    "display([replacement_model_name02, result03.loc[0, \"out.variable\"]])"
   ]
  },
  {
   "cell_type": "code",
   "execution_count": 19,
   "metadata": {},
   "outputs": [
    {
     "data": {
      "text/plain": [
       "['housingmodelcontrol', [1514079.4]]"
      ]
     },
     "metadata": {},
     "output_type": "display_data"
    },
    {
     "data": {
      "text/plain": [
       "['gbrhousingchallenger', [1981238.0]]"
      ]
     },
     "metadata": {},
     "output_type": "display_data"
    },
    {
     "data": {
      "text/plain": [
       "['xgbhousingchallenger', [2176827.0]]"
      ]
     },
     "metadata": {},
     "output_type": "display_data"
    }
   ],
   "source": [
    "display([original_model_name, large_house_result.loc[0, \"out.variable\"]])\n",
    "display([replacement_model_name01, large_house_result02.loc[0, \"out.variable\"]])\n",
    "display([replacement_model_name02, large_house_result03.loc[0, \"out.variable\"]])"
   ]
  },
  {
   "attachments": {},
   "cell_type": "markdown",
   "metadata": {},
   "source": [
    "### Undeploy the Pipeline\n",
    "\n",
    "With the tutorial complete, the pipeline is undeployed to return the resources back to the Wallaroo instance."
   ]
  },
  {
   "cell_type": "code",
   "execution_count": 20,
   "metadata": {},
   "outputs": [
    {
     "data": {
      "text/html": [
       "<table><tr><th>name</th> <td>hotswappipeline</td></tr><tr><th>created</th> <td>2024-04-16 21:49:31.896046+00:00</td></tr><tr><th>last_updated</th> <td>2024-04-16 21:49:55.906039+00:00</td></tr><tr><th>deployed</th> <td>False</td></tr><tr><th>arch</th> <td>x86</td></tr><tr><th>accel</th> <td>none</td></tr><tr><th>tags</th> <td></td></tr><tr><th>versions</th> <td>e4b525e6-4f9c-4989-a1be-e02628988e7a, eb7eb1eb-d2e7-458d-a883-55f01028972b, f473131c-49b0-4bb5-8580-32bdff43607a, 58a62f21-ca2e-4d37-99c5-c7fdf81c8932</td></tr><tr><th>steps</th> <td>xgbhousingchallenger</td></tr><tr><th>published</th> <td>False</td></tr></table>"
      ],
      "text/plain": [
       "{'name': 'hotswappipeline', 'create_time': datetime.datetime(2024, 4, 16, 21, 49, 31, 896046, tzinfo=tzutc()), 'definition': \"[{'ModelInference': {'models': [{'name': 'xgbhousingchallenger', 'version': 'f34eb9a0-6eb1-4930-ae1a-d24dac44a26c', 'sha': '31e92d6ccb27b041a324a7ac22cf95d9d6cc3aa7e8263a229f7c4aec4938657c'}]}}]\"}"
      ]
     },
     "execution_count": 20,
     "metadata": {},
     "output_type": "execute_result"
    }
   ],
   "source": [
    "pipeline.undeploy()"
   ]
  }
 ],
 "metadata": {
  "kernelspec": {
   "display_name": "wallaroosdk.2024.1",
   "language": "python",
   "name": "wallaroosdk.2024.1"
  },
  "language_info": {
   "codemirror_mode": {
    "name": "ipython",
    "version": 3
   },
   "file_extension": ".py",
   "mimetype": "text/x-python",
   "name": "python",
   "nbconvert_exporter": "python",
   "pygments_lexer": "ipython3",
   "version": "3.8.19"
  },
  "vscode": {
   "interpreter": {
    "hash": "e951b583e3fbbcadfc15df61f9ed97fb9a76f59b2130f2cdf4d0033aa05e7e64"
   }
  }
 },
 "nbformat": 4,
 "nbformat_minor": 4
}
