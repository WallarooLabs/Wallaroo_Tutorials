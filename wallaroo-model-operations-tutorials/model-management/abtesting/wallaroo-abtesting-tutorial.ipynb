{
 "cells": [
  {
   "attachments": {},
   "cell_type": "markdown",
   "metadata": {},
   "source": [
    "This tutorial and the assets can be downloaded as part of the [Wallaroo Tutorials repository](https://github.com/WallarooLabs/Wallaroo_Tutorials/blob/wallaroo2025.1_tutorials/wallaroo-optimize/abtesting).\n",
    "\n",
    "## A/B Testing\n",
    "\n",
    "A/B testing is a method that provides the ability to test out ML models for performance, accuracy or other useful benchmarks.  A/B testing is contrasted with the Wallaroo Shadow Deployment feature.  In both cases, two sets of models are added to a pipeline step:\n",
    "\n",
    "* Control or Champion model:  The model currently used for inferences.\n",
    "* Challenger model(s): One or more models that are to be compared to the champion model.\n",
    "\n",
    "The two feature are different in this way:\n",
    "\n",
    "| Feature | Description |\n",
    "|---|---|\n",
    "| A/B Testing | A subset of inferences are submitted to either the champion ML model or a challenger ML model. |\n",
    "| Shadow Deploy | All inferences are submitted to the champion model and one or more challenger models. |\n",
    "\n",
    "So to repeat:  A/B testing submits *some* of the inference requests to the champion model, some to the challenger model with one set of outputs, while shadow testing submits *all* of the inference requests to champion and shadow models, and has separate outputs.\n",
    "\n",
    "This tutorial demonstrate how to conduct A/B testing in Wallaroo.  For this example we will be using an open source model that uses an [Aloha CNN LSTM model](https://www.researchgate.net/publication/348920204_Using_Auxiliary_Inputs_in_Deep_Learning_Models_for_Detecting_DGA-based_Domain_Names) for classifying Domain names as being either legitimate or being used for nefarious purposes such as malware distribution.  \n",
    "\n",
    "For our example, we will perform the following:\n",
    "\n",
    "* Create a workspace for our work.\n",
    "* Upload the Aloha model and a challenger model.\n",
    "* Create a pipeline that can ingest our submitted data with the champion model and the challenger model set into a A/B step.\n",
    "* Run a series of sample inferences to display inferences that are run through the champion model versus the challenger model, then determine which is more efficient.\n",
    "\n",
    "All sample data and models are available through the [Wallaroo Quick Start Guide Samples repository](https://github.com/WallarooLabs/quickstartguide_samples).\n",
    "\n",
    "## Prerequisites\n",
    "\n",
    "* A deployed Wallaroo instance\n",
    "* The following Python libraries installed:\n",
    "  * `os`\n",
    "  * `json`\n",
    "  * [`wallaroo`](https://pypi.org/project/wallaroo/): The Wallaroo SDK. Included with the Wallaroo JupyterHub service by default.\n",
    "  * [`pandas`](https://pypi.org/project/pandas/): Pandas, mainly used for Pandas DataFrame"
   ]
  },
  {
   "attachments": {},
   "cell_type": "markdown",
   "metadata": {},
   "source": [
    "## Steps\n",
    "\n",
    "### Import libraries\n",
    "\n",
    "Here we will import the libraries needed for this notebook."
   ]
  },
  {
   "cell_type": "code",
   "execution_count": 1,
   "metadata": {},
   "outputs": [],
   "source": [
    "import wallaroo\n",
    "from wallaroo.object import EntityNotFoundError\n",
    "import os\n",
    "import pandas as pd\n",
    "import json\n",
    "from IPython.display import display\n",
    "\n",
    "# used to display dataframe information without truncating\n",
    "from IPython.display import display\n",
    "pd.set_option('display.max_colwidth', None)\n",
    "pd.set_option('display.max_columns', None)"
   ]
  },
  {
   "attachments": {},
   "cell_type": "markdown",
   "metadata": {},
   "source": [
    "### Connect to the Wallaroo Instance\n",
    "\n",
    "The first step is to connect to Wallaroo through the Wallaroo client.  The Python library is included in the Wallaroo install and available through the Jupyter Hub interface provided with your Wallaroo environment.\n",
    "\n",
    "This is accomplished using the `wallaroo.Client()` command, which provides a URL to grant the SDK permission to your specific Wallaroo environment.  When displayed, enter the URL into a browser and confirm permissions.  Store the connection into a variable that can be referenced later.\n",
    "\n",
    "If logging into the Wallaroo instance through the internal JupyterHub service, use `wl = wallaroo.Client()`.  For more information on Wallaroo Client settings, see the [Client Connection guide](https://docs.wallaroo.ai/wallaroo-developer-guides/wallaroo-sdk-guides/wallaroo-sdk-essentials-guide/wallaroo-sdk-essentials-client/)."
   ]
  },
  {
   "cell_type": "code",
   "execution_count": 2,
   "metadata": {},
   "outputs": [],
   "source": [
    "# Login through local Wallaroo instance\n",
    "\n",
    "wl = wallaroo.Client()"
   ]
  },
  {
   "attachments": {},
   "cell_type": "markdown",
   "metadata": {},
   "source": [
    "### Create Workspace\n",
    "\n",
    "We will create a workspace to manage our pipeline and models.  The following variables will set the name of our sample workspace then set it as the current workspace for all other commands."
   ]
  },
  {
   "cell_type": "code",
   "execution_count": 3,
   "metadata": {},
   "outputs": [],
   "source": [
    "workspace_name = 'abhousetesting'"
   ]
  },
  {
   "cell_type": "code",
   "execution_count": 4,
   "metadata": {},
   "outputs": [
    {
     "data": {
      "text/plain": [
       "{'name': 'abhousetesting', 'id': 30, 'archived': False, 'created_by': '65124b18-8382-49af-b3c8-ada3b9df3330', 'created_at': '2024-04-16T21:09:02.201859+00:00', 'models': [], 'pipelines': []}"
      ]
     },
     "execution_count": 4,
     "metadata": {},
     "output_type": "execute_result"
    }
   ],
   "source": [
    "workspace = wl.get_workspace(name=workspace_name, create_if_not_exist=True)\n",
    "\n",
    "wl.set_current_workspace(workspace)"
   ]
  },
  {
   "attachments": {},
   "cell_type": "markdown",
   "metadata": {},
   "source": [
    "### Set Up the Champion and Challenger Models\n",
    "\n",
    "Now we upload the Champion and Challenger models to our workspace.  We will use two models:\n",
    "\n",
    "1. `aloha-cnn-lstm` model.\n",
    "2. `aloha-cnn-lstm-new` (a retrained version)"
   ]
  },
  {
   "attachments": {},
   "cell_type": "markdown",
   "metadata": {},
   "source": [
    "### Set the Champion Model\n",
    "\n",
    "We upload our champion model, labeled as `control`."
   ]
  },
  {
   "cell_type": "code",
   "execution_count": 58,
   "metadata": {},
   "outputs": [],
   "source": [
    "control = wl.upload_model(\"houseprice-control\",\n",
    "                          'models/gbr_model.onnx', \n",
    "                          framework=wallaroo.framework.Framework.ONNX) \\\n",
    "                          .configure(tensor_fields=['tensor'])"
   ]
  },
  {
   "attachments": {},
   "cell_type": "markdown",
   "metadata": {},
   "source": [
    "### Set the Challenger Model\n",
    "\n",
    "Now we upload the Challenger model, labeled as `challenger`."
   ]
  },
  {
   "cell_type": "code",
   "execution_count": 59,
   "metadata": {},
   "outputs": [],
   "source": [
    "challenger = wl.upload_model(\"houseprice-challenger\",\n",
    "                          'models/rf_model.onnx', \n",
    "                          framework=wallaroo.framework.Framework.ONNX) \\\n",
    "                          .configure(tensor_fields=['tensor'])"
   ]
  },
  {
   "attachments": {},
   "cell_type": "markdown",
   "metadata": {},
   "source": [
    "### Define The Pipeline\n",
    "\n",
    "Here we will configure a pipeline with two models and set the control model with a random split chance of receiving 2/3 of the data.  Because this is a random split, it is possible for one model or the other to receive more inferences than a strict 2:1 ratio, but the more inferences are run, the more likely it is for the proper ratio split."
   ]
  },
  {
   "cell_type": "code",
   "execution_count": 60,
   "metadata": {},
   "outputs": [],
   "source": [
    "pipeline.undeploy()\n",
    "pipeline.clear()\n",
    "pipeline = (wl.build_pipeline(\"randomsplitpipeline-demo\")\n",
    "            .add_random_split([(2, control), \n",
    "                               (1, challenger)], \n",
    "                               \"session_id\"))"
   ]
  },
  {
   "attachments": {},
   "cell_type": "markdown",
   "metadata": {},
   "source": [
    "### Deploy the pipeline\n",
    "\n",
    "Now we deploy the pipeline so we can run our inference through it."
   ]
  },
  {
   "cell_type": "code",
   "execution_count": 61,
   "metadata": {},
   "outputs": [],
   "source": [
    "experiment_pipeline = pipeline.deploy()"
   ]
  },
  {
   "attachments": {},
   "cell_type": "markdown",
   "metadata": {},
   "source": [
    "# Run a single inference\n",
    "Now we have our deployment set up let's run a single inference. In the results we will be able to see the inference results as well as which model the inference went to under model_id.  We'll run the inference request 5 times, with the odds are that the challenger model being run at least once."
   ]
  },
  {
   "cell_type": "code",
   "execution_count": 62,
   "metadata": {},
   "outputs": [
    {
     "data": {
      "text/html": [
       "<div>\n",
       "<style scoped>\n",
       "    .dataframe tbody tr th:only-of-type {\n",
       "        vertical-align: middle;\n",
       "    }\n",
       "\n",
       "    .dataframe tbody tr th {\n",
       "        vertical-align: top;\n",
       "    }\n",
       "\n",
       "    .dataframe thead th {\n",
       "        text-align: right;\n",
       "    }\n",
       "</style>\n",
       "<table border=\"1\" class=\"dataframe\">\n",
       "  <thead>\n",
       "    <tr style=\"text-align: right;\">\n",
       "      <th></th>\n",
       "      <th>model</th>\n",
       "      <th>value</th>\n",
       "    </tr>\n",
       "  </thead>\n",
       "  <tbody>\n",
       "    <tr>\n",
       "      <th>0</th>\n",
       "      <td>houseprice-control</td>\n",
       "      <td>704901.9</td>\n",
       "    </tr>\n",
       "  </tbody>\n",
       "</table>\n",
       "</div>"
      ],
      "text/plain": [
       "                model     value\n",
       "0  houseprice-control  704901.9"
      ]
     },
     "metadata": {},
     "output_type": "display_data"
    },
    {
     "data": {
      "text/html": [
       "<div>\n",
       "<style scoped>\n",
       "    .dataframe tbody tr th:only-of-type {\n",
       "        vertical-align: middle;\n",
       "    }\n",
       "\n",
       "    .dataframe tbody tr th {\n",
       "        vertical-align: top;\n",
       "    }\n",
       "\n",
       "    .dataframe thead th {\n",
       "        text-align: right;\n",
       "    }\n",
       "</style>\n",
       "<table border=\"1\" class=\"dataframe\">\n",
       "  <thead>\n",
       "    <tr style=\"text-align: right;\">\n",
       "      <th></th>\n",
       "      <th>model</th>\n",
       "      <th>value</th>\n",
       "    </tr>\n",
       "  </thead>\n",
       "  <tbody>\n",
       "    <tr>\n",
       "      <th>0</th>\n",
       "      <td>houseprice-challenger</td>\n",
       "      <td>718013.7</td>\n",
       "    </tr>\n",
       "  </tbody>\n",
       "</table>\n",
       "</div>"
      ],
      "text/plain": [
       "                   model     value\n",
       "0  houseprice-challenger  718013.7"
      ]
     },
     "metadata": {},
     "output_type": "display_data"
    },
    {
     "data": {
      "text/html": [
       "<div>\n",
       "<style scoped>\n",
       "    .dataframe tbody tr th:only-of-type {\n",
       "        vertical-align: middle;\n",
       "    }\n",
       "\n",
       "    .dataframe tbody tr th {\n",
       "        vertical-align: top;\n",
       "    }\n",
       "\n",
       "    .dataframe thead th {\n",
       "        text-align: right;\n",
       "    }\n",
       "</style>\n",
       "<table border=\"1\" class=\"dataframe\">\n",
       "  <thead>\n",
       "    <tr style=\"text-align: right;\">\n",
       "      <th></th>\n",
       "      <th>model</th>\n",
       "      <th>value</th>\n",
       "    </tr>\n",
       "  </thead>\n",
       "  <tbody>\n",
       "    <tr>\n",
       "      <th>0</th>\n",
       "      <td>houseprice-control</td>\n",
       "      <td>704901.9</td>\n",
       "    </tr>\n",
       "  </tbody>\n",
       "</table>\n",
       "</div>"
      ],
      "text/plain": [
       "                model     value\n",
       "0  houseprice-control  704901.9"
      ]
     },
     "metadata": {},
     "output_type": "display_data"
    },
    {
     "data": {
      "text/html": [
       "<div>\n",
       "<style scoped>\n",
       "    .dataframe tbody tr th:only-of-type {\n",
       "        vertical-align: middle;\n",
       "    }\n",
       "\n",
       "    .dataframe tbody tr th {\n",
       "        vertical-align: top;\n",
       "    }\n",
       "\n",
       "    .dataframe thead th {\n",
       "        text-align: right;\n",
       "    }\n",
       "</style>\n",
       "<table border=\"1\" class=\"dataframe\">\n",
       "  <thead>\n",
       "    <tr style=\"text-align: right;\">\n",
       "      <th></th>\n",
       "      <th>model</th>\n",
       "      <th>value</th>\n",
       "    </tr>\n",
       "  </thead>\n",
       "  <tbody>\n",
       "    <tr>\n",
       "      <th>0</th>\n",
       "      <td>houseprice-challenger</td>\n",
       "      <td>718013.7</td>\n",
       "    </tr>\n",
       "  </tbody>\n",
       "</table>\n",
       "</div>"
      ],
      "text/plain": [
       "                   model     value\n",
       "0  houseprice-challenger  718013.7"
      ]
     },
     "metadata": {},
     "output_type": "display_data"
    },
    {
     "data": {
      "text/html": [
       "<div>\n",
       "<style scoped>\n",
       "    .dataframe tbody tr th:only-of-type {\n",
       "        vertical-align: middle;\n",
       "    }\n",
       "\n",
       "    .dataframe tbody tr th {\n",
       "        vertical-align: top;\n",
       "    }\n",
       "\n",
       "    .dataframe thead th {\n",
       "        text-align: right;\n",
       "    }\n",
       "</style>\n",
       "<table border=\"1\" class=\"dataframe\">\n",
       "  <thead>\n",
       "    <tr style=\"text-align: right;\">\n",
       "      <th></th>\n",
       "      <th>model</th>\n",
       "      <th>value</th>\n",
       "    </tr>\n",
       "  </thead>\n",
       "  <tbody>\n",
       "    <tr>\n",
       "      <th>0</th>\n",
       "      <td>houseprice-challenger</td>\n",
       "      <td>718013.7</td>\n",
       "    </tr>\n",
       "  </tbody>\n",
       "</table>\n",
       "</div>"
      ],
      "text/plain": [
       "                   model     value\n",
       "0  houseprice-challenger  718013.7"
      ]
     },
     "metadata": {},
     "output_type": "display_data"
    }
   ],
   "source": [
    "# use dataframe JSON files\n",
    "for x in range(5):\n",
    "    result = experiment_pipeline.infer_from_file(\"./data/xtest-1.df.json\")\n",
    "    value = result.loc[0][\"out.variable\"]\n",
    "    # model=\"test\"\n",
    "    model = json.loads(result.loc[0][\"out._model_split\"][0])['model_version']['name']\n",
    "    # display(model)\n",
    "    # model = json.loads(result.loc[0, [\"out._model_split\"]])\n",
    "    df = pd.DataFrame({'model': model, 'value': value})\n",
    "    display(df)  "
   ]
  },
  {
   "attachments": {},
   "cell_type": "markdown",
   "metadata": {},
   "source": [
    "### Run Inference Batch\n",
    "\n",
    "We will submit 1000 rows of test data through the pipeline, then loop through the responses and display which model each inference was performed in.  The results between the control and challenger should be approximately 2:1."
   ]
  },
  {
   "cell_type": "code",
   "execution_count": 63,
   "metadata": {},
   "outputs": [
    {
     "data": {
      "text/plain": [
       "houseprice-control       645\n",
       "houseprice-challenger    355\n",
       "Name: model, dtype: int64"
      ]
     },
     "metadata": {},
     "output_type": "display_data"
    }
   ],
   "source": [
    "responses = []\n",
    "test_data = pd.read_json('data/normal-inputs.df.json')\n",
    "# For each row, submit that row as a separate dataframe\n",
    "# Add the results to the responses array\n",
    "for index, row in test_data.head(1000).iterrows():\n",
    "    responses.append(experiment_pipeline.infer(row.to_frame('tensor').reset_index()))\n",
    "\n",
    "#now get our responses for each row\n",
    "l = [json.loads(r.loc[0][\"out._model_split\"][0])['model_version']['name'] for r in responses]\n",
    "df = pd.DataFrame({'model': l})\n",
    "display(df.model.value_counts())"
   ]
  },
  {
   "attachments": {},
   "cell_type": "markdown",
   "metadata": {},
   "source": [
    "### Logs\n",
    "\n",
    "Logs can be viewed with the Pipeline method `logs()`.  For this example, only the first 5 logs will be shown.  For Arrow enabled environments, the model type can be found in the column `out._model_split`."
   ]
  },
  {
   "cell_type": "code",
   "execution_count": 64,
   "metadata": {},
   "outputs": [
    {
     "name": "stderr",
     "output_type": "stream",
     "text": [
      "Warning: There are more logs available. Please set a larger limit or request a file using export_logs."
     ]
    },
    {
     "data": {
      "text/html": [
       "<div>\n",
       "<style scoped>\n",
       "    .dataframe tbody tr th:only-of-type {\n",
       "        vertical-align: middle;\n",
       "    }\n",
       "\n",
       "    .dataframe tbody tr th {\n",
       "        vertical-align: top;\n",
       "    }\n",
       "\n",
       "    .dataframe thead th {\n",
       "        text-align: right;\n",
       "    }\n",
       "</style>\n",
       "<table border=\"1\" class=\"dataframe\">\n",
       "  <thead>\n",
       "    <tr style=\"text-align: right;\">\n",
       "      <th></th>\n",
       "      <th>time</th>\n",
       "      <th>out._model_split</th>\n",
       "      <th>out.variable</th>\n",
       "    </tr>\n",
       "  </thead>\n",
       "  <tbody>\n",
       "    <tr>\n",
       "      <th>0</th>\n",
       "      <td>2024-04-16 21:40:10.160</td>\n",
       "      <td>[{\"model_version\":{\"name\":\"houseprice-control\",\"visibility\":\"private\",\"workspace_id\":30,\"conversion\":{\"arch\":\"x86\",\"accel\":\"none\",\"python_version\":\"3.8\",\"requirements\":[],\"framework\":\"onnx\"},\"id\":45,\"image_path\":null,\"status\":\"ready\",\"task_id\":null,\"file_info\":{\"version\":\"f92c6130-4c73-4a40-9869-5e4d17d30122\",\"sha\":\"ed6065a79d841f7e96307bb20d5ef22840f15da0b587efb51425c7ad60589d6a\",\"file_name\":\"gbr_model.onnx\"},\"created_on_version\":\"2024.1.0\"},\"config\":{\"id\":71,\"model_version_id\":45,\"runtime\":\"onnx\",\"filter_threshold\":null,\"tensor_fields\":[\"tensor\"],\"input_schema\":null,\"output_schema\":null,\"batch_config\":null,\"sidekick_uri\":null}}]</td>\n",
       "      <td>[704901.9]</td>\n",
       "    </tr>\n",
       "    <tr>\n",
       "      <th>1</th>\n",
       "      <td>2024-04-16 21:40:09.671</td>\n",
       "      <td>[{\"model_version\":{\"name\":\"houseprice-control\",\"visibility\":\"private\",\"workspace_id\":30,\"conversion\":{\"arch\":\"x86\",\"accel\":\"none\",\"python_version\":\"3.8\",\"requirements\":[],\"framework\":\"onnx\"},\"id\":45,\"image_path\":null,\"status\":\"ready\",\"task_id\":null,\"file_info\":{\"version\":\"f92c6130-4c73-4a40-9869-5e4d17d30122\",\"sha\":\"ed6065a79d841f7e96307bb20d5ef22840f15da0b587efb51425c7ad60589d6a\",\"file_name\":\"gbr_model.onnx\"},\"created_on_version\":\"2024.1.0\"},\"config\":{\"id\":71,\"model_version_id\":45,\"runtime\":\"onnx\",\"filter_threshold\":null,\"tensor_fields\":[\"tensor\"],\"input_schema\":null,\"output_schema\":null,\"batch_config\":null,\"sidekick_uri\":null}}]</td>\n",
       "      <td>[704901.9]</td>\n",
       "    </tr>\n",
       "    <tr>\n",
       "      <th>2</th>\n",
       "      <td>2024-04-16 21:40:09.513</td>\n",
       "      <td>[{\"model_version\":{\"name\":\"houseprice-control\",\"visibility\":\"private\",\"workspace_id\":30,\"conversion\":{\"arch\":\"x86\",\"accel\":\"none\",\"python_version\":\"3.8\",\"requirements\":[],\"framework\":\"onnx\"},\"id\":46,\"image_path\":null,\"status\":\"ready\",\"task_id\":null,\"file_info\":{\"version\":\"3860eca1-9501-4137-81a5-54f3b96f8322\",\"sha\":\"e22a0831aafd9917f3cc87a15ed267797f80e2afa12ad7d8810ca58f173b8cc6\",\"file_name\":\"rf_model.onnx\"},\"created_on_version\":\"2024.1.0\"},\"config\":{\"id\":73,\"model_version_id\":46,\"runtime\":\"onnx\",\"filter_threshold\":null,\"tensor_fields\":[\"tensor\"],\"input_schema\":null,\"output_schema\":null,\"batch_config\":null,\"sidekick_uri\":null}}]</td>\n",
       "      <td>[718013.7]</td>\n",
       "    </tr>\n",
       "    <tr>\n",
       "      <th>3</th>\n",
       "      <td>2024-04-16 21:40:09.352</td>\n",
       "      <td>[{\"model_version\":{\"name\":\"houseprice-control\",\"visibility\":\"private\",\"workspace_id\":30,\"conversion\":{\"arch\":\"x86\",\"accel\":\"none\",\"python_version\":\"3.8\",\"requirements\":[],\"framework\":\"onnx\"},\"id\":45,\"image_path\":null,\"status\":\"ready\",\"task_id\":null,\"file_info\":{\"version\":\"f92c6130-4c73-4a40-9869-5e4d17d30122\",\"sha\":\"ed6065a79d841f7e96307bb20d5ef22840f15da0b587efb51425c7ad60589d6a\",\"file_name\":\"gbr_model.onnx\"},\"created_on_version\":\"2024.1.0\"},\"config\":{\"id\":71,\"model_version_id\":45,\"runtime\":\"onnx\",\"filter_threshold\":null,\"tensor_fields\":[\"tensor\"],\"input_schema\":null,\"output_schema\":null,\"batch_config\":null,\"sidekick_uri\":null}}]</td>\n",
       "      <td>[704901.9]</td>\n",
       "    </tr>\n",
       "    <tr>\n",
       "      <th>4</th>\n",
       "      <td>2024-04-16 21:40:09.183</td>\n",
       "      <td>[{\"model_version\":{\"name\":\"houseprice-control\",\"visibility\":\"private\",\"workspace_id\":30,\"conversion\":{\"arch\":\"x86\",\"accel\":\"none\",\"python_version\":\"3.8\",\"requirements\":[],\"framework\":\"onnx\"},\"id\":45,\"image_path\":null,\"status\":\"ready\",\"task_id\":null,\"file_info\":{\"version\":\"f92c6130-4c73-4a40-9869-5e4d17d30122\",\"sha\":\"ed6065a79d841f7e96307bb20d5ef22840f15da0b587efb51425c7ad60589d6a\",\"file_name\":\"gbr_model.onnx\"},\"created_on_version\":\"2024.1.0\"},\"config\":{\"id\":71,\"model_version_id\":45,\"runtime\":\"onnx\",\"filter_threshold\":null,\"tensor_fields\":[\"tensor\"],\"input_schema\":null,\"output_schema\":null,\"batch_config\":null,\"sidekick_uri\":null}}]</td>\n",
       "      <td>[704901.9]</td>\n",
       "    </tr>\n",
       "  </tbody>\n",
       "</table>\n",
       "</div>"
      ],
      "text/plain": [
       "                     time  \\\n",
       "0 2024-04-16 21:40:10.160   \n",
       "1 2024-04-16 21:40:09.671   \n",
       "2 2024-04-16 21:40:09.513   \n",
       "3 2024-04-16 21:40:09.352   \n",
       "4 2024-04-16 21:40:09.183   \n",
       "\n",
       "                                                                                                                                                                                                                                                                                                                                                                                                                                                                                                                                                                                                                                                 out._model_split  \\\n",
       "0  [{\"model_version\":{\"name\":\"houseprice-control\",\"visibility\":\"private\",\"workspace_id\":30,\"conversion\":{\"arch\":\"x86\",\"accel\":\"none\",\"python_version\":\"3.8\",\"requirements\":[],\"framework\":\"onnx\"},\"id\":45,\"image_path\":null,\"status\":\"ready\",\"task_id\":null,\"file_info\":{\"version\":\"f92c6130-4c73-4a40-9869-5e4d17d30122\",\"sha\":\"ed6065a79d841f7e96307bb20d5ef22840f15da0b587efb51425c7ad60589d6a\",\"file_name\":\"gbr_model.onnx\"},\"created_on_version\":\"2024.1.0\"},\"config\":{\"id\":71,\"model_version_id\":45,\"runtime\":\"onnx\",\"filter_threshold\":null,\"tensor_fields\":[\"tensor\"],\"input_schema\":null,\"output_schema\":null,\"batch_config\":null,\"sidekick_uri\":null}}]   \n",
       "1  [{\"model_version\":{\"name\":\"houseprice-control\",\"visibility\":\"private\",\"workspace_id\":30,\"conversion\":{\"arch\":\"x86\",\"accel\":\"none\",\"python_version\":\"3.8\",\"requirements\":[],\"framework\":\"onnx\"},\"id\":45,\"image_path\":null,\"status\":\"ready\",\"task_id\":null,\"file_info\":{\"version\":\"f92c6130-4c73-4a40-9869-5e4d17d30122\",\"sha\":\"ed6065a79d841f7e96307bb20d5ef22840f15da0b587efb51425c7ad60589d6a\",\"file_name\":\"gbr_model.onnx\"},\"created_on_version\":\"2024.1.0\"},\"config\":{\"id\":71,\"model_version_id\":45,\"runtime\":\"onnx\",\"filter_threshold\":null,\"tensor_fields\":[\"tensor\"],\"input_schema\":null,\"output_schema\":null,\"batch_config\":null,\"sidekick_uri\":null}}]   \n",
       "2   [{\"model_version\":{\"name\":\"houseprice-control\",\"visibility\":\"private\",\"workspace_id\":30,\"conversion\":{\"arch\":\"x86\",\"accel\":\"none\",\"python_version\":\"3.8\",\"requirements\":[],\"framework\":\"onnx\"},\"id\":46,\"image_path\":null,\"status\":\"ready\",\"task_id\":null,\"file_info\":{\"version\":\"3860eca1-9501-4137-81a5-54f3b96f8322\",\"sha\":\"e22a0831aafd9917f3cc87a15ed267797f80e2afa12ad7d8810ca58f173b8cc6\",\"file_name\":\"rf_model.onnx\"},\"created_on_version\":\"2024.1.0\"},\"config\":{\"id\":73,\"model_version_id\":46,\"runtime\":\"onnx\",\"filter_threshold\":null,\"tensor_fields\":[\"tensor\"],\"input_schema\":null,\"output_schema\":null,\"batch_config\":null,\"sidekick_uri\":null}}]   \n",
       "3  [{\"model_version\":{\"name\":\"houseprice-control\",\"visibility\":\"private\",\"workspace_id\":30,\"conversion\":{\"arch\":\"x86\",\"accel\":\"none\",\"python_version\":\"3.8\",\"requirements\":[],\"framework\":\"onnx\"},\"id\":45,\"image_path\":null,\"status\":\"ready\",\"task_id\":null,\"file_info\":{\"version\":\"f92c6130-4c73-4a40-9869-5e4d17d30122\",\"sha\":\"ed6065a79d841f7e96307bb20d5ef22840f15da0b587efb51425c7ad60589d6a\",\"file_name\":\"gbr_model.onnx\"},\"created_on_version\":\"2024.1.0\"},\"config\":{\"id\":71,\"model_version_id\":45,\"runtime\":\"onnx\",\"filter_threshold\":null,\"tensor_fields\":[\"tensor\"],\"input_schema\":null,\"output_schema\":null,\"batch_config\":null,\"sidekick_uri\":null}}]   \n",
       "4  [{\"model_version\":{\"name\":\"houseprice-control\",\"visibility\":\"private\",\"workspace_id\":30,\"conversion\":{\"arch\":\"x86\",\"accel\":\"none\",\"python_version\":\"3.8\",\"requirements\":[],\"framework\":\"onnx\"},\"id\":45,\"image_path\":null,\"status\":\"ready\",\"task_id\":null,\"file_info\":{\"version\":\"f92c6130-4c73-4a40-9869-5e4d17d30122\",\"sha\":\"ed6065a79d841f7e96307bb20d5ef22840f15da0b587efb51425c7ad60589d6a\",\"file_name\":\"gbr_model.onnx\"},\"created_on_version\":\"2024.1.0\"},\"config\":{\"id\":71,\"model_version_id\":45,\"runtime\":\"onnx\",\"filter_threshold\":null,\"tensor_fields\":[\"tensor\"],\"input_schema\":null,\"output_schema\":null,\"batch_config\":null,\"sidekick_uri\":null}}]   \n",
       "\n",
       "  out.variable  \n",
       "0   [704901.9]  \n",
       "1   [704901.9]  \n",
       "2   [718013.7]  \n",
       "3   [704901.9]  \n",
       "4   [704901.9]  "
      ]
     },
     "metadata": {},
     "output_type": "display_data"
    }
   ],
   "source": [
    "logs = experiment_pipeline.logs(limit=5)\n",
    "display(logs.loc[:,['time', 'out._model_split', 'out.variable']])"
   ]
  },
  {
   "attachments": {},
   "cell_type": "markdown",
   "metadata": {
    "tags": []
   },
   "source": [
    "### Undeploy Pipeline\n",
    "\n",
    "With the testing complete, we undeploy the pipeline to return the resources back to the environment."
   ]
  },
  {
   "cell_type": "code",
   "execution_count": 65,
   "metadata": {},
   "outputs": [
    {
     "data": {
      "text/html": [
       "<table><tr><th>name</th> <td>randomsplitpipeline-demo</td></tr><tr><th>created</th> <td>2024-04-16 21:09:05.335685+00:00</td></tr><tr><th>last_updated</th> <td>2024-04-16 21:41:02.996170+00:00</td></tr><tr><th>deployed</th> <td>False</td></tr><tr><th>arch</th> <td>x86</td></tr><tr><th>accel</th> <td>none</td></tr><tr><th>tags</th> <td></td></tr><tr><th>versions</th> <td>b3c23fa4-9e31-4ac0-b312-81aab8a27c48, 4cf6ce88-1202-4d2d-8506-285884c8975a, 16d43d1a-7145-4f20-a64d-fd10c0e35913, f5e79bc5-cfef-40f6-a93b-04f1fe8c3366, 0d5684ae-d030-4eed-a218-f207e2a2a2e8, a6522c44-e2c3-4954-8702-bf191b53fa50, dc607540-e04e-467f-a8c9-d112fd9a593d, a2d6d6c3-8690-4f04-bc50-3f21a24fdd2d, fd3c9737-4bae-4106-8b7d-eb4262f19d4c, 388a009b-70fe-4613-b4b3-18c50cb03170, 7f81102b-2e73-434b-ad59-d74b0e4b5436, e38d5d00-4796-45a7-bbec-8fd05fb940d2</td></tr><tr><th>steps</th> <td>houseprice-control</td></tr><tr><th>published</th> <td>False</td></tr></table>"
      ],
      "text/plain": [
       "{'name': 'randomsplitpipeline-demo', 'create_time': datetime.datetime(2024, 4, 16, 21, 9, 5, 335685, tzinfo=tzutc()), 'definition': \"[{'RandomSplit': {'hash_key': 'session_id', 'weights': [{'model': {'name': 'houseprice-control', 'version': 'a622f392-1cfa-47ab-94ef-22915a3d887e', 'sha': 'ed6065a79d841f7e96307bb20d5ef22840f15da0b587efb51425c7ad60589d6a'}, 'weight': 2}, {'model': {'name': 'houseprice-challenger', 'version': '4def7f47-0530-4b6a-8eae-b06772e591ea', 'sha': 'e22a0831aafd9917f3cc87a15ed267797f80e2afa12ad7d8810ca58f173b8cc6'}, 'weight': 1}]}}]\"}"
      ]
     },
     "execution_count": 65,
     "metadata": {},
     "output_type": "execute_result"
    }
   ],
   "source": [
    "experiment_pipeline.undeploy()"
   ]
  }
 ],
 "metadata": {
  "kernelspec": {
   "display_name": "wallaroosdk.2024.1",
   "language": "python",
   "name": "wallaroosdk.2024.1"
  },
  "language_info": {
   "codemirror_mode": {
    "name": "ipython",
    "version": 3
   },
   "file_extension": ".py",
   "mimetype": "text/x-python",
   "name": "python",
   "nbconvert_exporter": "python",
   "pygments_lexer": "ipython3",
   "version": "3.8.19"
  },
  "vscode": {
   "interpreter": {
    "hash": "7dda4bf3640b7fafcd1648658b879b4cc9f6ba6084e8fb356fdaaa1a461d1690"
   }
  }
 },
 "nbformat": 4,
 "nbformat_minor": 4
}
