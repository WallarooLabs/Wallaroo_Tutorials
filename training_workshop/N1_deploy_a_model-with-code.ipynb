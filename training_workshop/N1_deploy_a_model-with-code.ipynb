{
 "cells": [
  {
   "cell_type": "markdown",
   "id": "842531aa-4f9f-41fc-884e-8bce107a19ee",
   "metadata": {},
   "source": [
    "# Workshop Notebook 1: Build and Deploy a Model\n",
    "\n",
    "For this workshop, let's pretend that you work for a real estate company wants to estimate the likely value of their listings portfolio. You have developed a model to predict the sale price of properties that the company has listed, based on data collected in the company's listings database.\n",
    "\n",
    "In this set of exercises, you will build a model to predict house sale prices, and deploy it to Wallaroo.\n",
    "\n",
    "Before we start, let's load some libraries that we will need for this notebook (note that this may not be a complete list).\n",
    "\n",
    "* **IMPORTANT NOTE**:  This tutorial is geared towards a Wallaroo 2023.2.1 environment."
   ]
  },
  {
   "cell_type": "code",
   "execution_count": 2,
   "id": "bb03a96b-3d13-4d5e-9aee-99913d9a37ab",
   "metadata": {},
   "outputs": [],
   "source": [
    "# preload needed libraries \n",
    "\n",
    "import wallaroo\n",
    "from wallaroo.object import EntityNotFoundError\n",
    "from wallaroo.framework import Framework\n",
    "\n",
    "from IPython.display import display\n",
    "\n",
    "# used to display DataFrame information without truncating\n",
    "from IPython.display import display\n",
    "import pandas as pd\n",
    "pd.set_option('display.max_colwidth', None)\n",
    "\n",
    "import json\n",
    "\n",
    "import datetime\n",
    "import time\n",
    "\n",
    "# used for unique connection names\n",
    "\n",
    "import string\n",
    "import random\n"
   ]
  },
  {
   "cell_type": "markdown",
   "id": "e0873200-de10-4822-b078-57915d1b51c6",
   "metadata": {},
   "source": [
    "<hr/>\n",
    "\n",
    "#### Exercise: Build a model\n",
    "\n",
    "Use the house price data `seattle_housing.csv` in the `data` subdirectory to build a model to predict the sales price of homes based on the features in the data set. \n",
    "\n",
    "At the end of the exercise, you should have a notebook and possibly other artifacts to produce a model for predicting house prices. For the purposes of the exercise, please use a framework that can be converted to ONNX, such as scikit-learn or XGBoost.\n",
    "\n",
    "For assistance converting a model to ONNX, see the [Wallaroo Model Conversion Tutorials](https://docs.wallaroo.ai/wallaroo-tutorials/wallaroo-tutorials-conversion-tutorials/) for some examples.\n",
    "\n",
    "**NOTE**\n",
    "\n",
    "If you prefer to shortcut this step, you can use one of the pre-trained model pickle files in the `models` subdirectory.\n"
   ]
  },
  {
   "cell_type": "code",
   "execution_count": 3,
   "id": "89803270-615f-4159-89c1-75f1530ca007",
   "metadata": {},
   "outputs": [],
   "source": [
    "## Blank space for training model, if needed\n",
    "\n",
    "\n"
   ]
  },
  {
   "cell_type": "markdown",
   "id": "08369f3e-757d-4f7c-aaf4-d884c5a2bcee",
   "metadata": {},
   "source": [
    "## Getting Ready to deploy\n",
    "\n",
    "Wallaroo natively supports models in the ONNX and Tensorflow frameworks, and other frameworks via containerization. For this exercise, we assume that you have a model that can be converted to the ONNX framework. The first steps to deploying in Wallaroo, then, is to convert your model to ONNX, and to add some extra functions to your processing modules so Wallaroo can call them.\n",
    "<hr/>\n",
    "\n",
    "#### Exercise: Convert your Model to ONNX\n",
    "\n",
    "Take the model that you created in the previous exercises, and convert it to ONNX. If you need help, see the [Wallaroo Conversion Tutorials](https://docs.wallaroo.ai/wallaroo-tutorials/wallaroo-tutorials-conversion-tutorials/), or other [conversion documentation](https://github.com/onnx/tutorials#converting-to-onnx-format). \n",
    "\n",
    "At the end of this exercise, you should have your model as a standalone artifact, for example, a file called `model.onnx`.\n",
    "\n",
    "**NOTE**\n",
    "\n",
    "If you prefer to shortcut this exercise, you can use one of the pre-converted onnx files in the `models` directory."
   ]
  },
  {
   "cell_type": "code",
   "execution_count": 4,
   "id": "d1ac6061-3e7e-4ee6-bd0d-45d9b859944d",
   "metadata": {},
   "outputs": [],
   "source": [
    "# Blank space to load for converting model, if needed\n",
    "\n",
    "\n"
   ]
  },
  {
   "cell_type": "markdown",
   "id": "a74c5788-1b13-44b5-9f2c-82fdc531df78",
   "metadata": {},
   "source": [
    "## Get ready to work with Wallaroo\n",
    "\n",
    "Now that you have a model ready to go, you can log into Wallaroo and set up a **workspace** to organize your deployment artifacts. A Wallaroo workspace is place to organize the deployment artifacts for a project, and to collaborate with other team members. For more information, see [the Wallaroo 101](https://docs.wallaroo.ai/wallaroo-101/). \n",
    "\n",
    "\n",
    "Logging into Wallaroo via the cluster's integrated JupyterLab is quite straightfoward:\n",
    "\n",
    "```python\n",
    "# Login through local Wallaroo instance \n",
    "wl = wallaroo.Client()\n",
    "```\n",
    "See [the documentation](https://docs.wallaroo.ai/wallaroo-101/#connect-to-the-wallaroo-instance) if you are logging into Wallaroo some other way.\n",
    "\n",
    "Once you are logged in, you can create a workspace and set it as your working environment. To make the first exercise easier, here is a convenience function to get or create a workspace:"
   ]
  },
  {
   "cell_type": "code",
   "execution_count": 5,
   "id": "cb44722d-e609-45eb-b1d2-aa35db3fee40",
   "metadata": {},
   "outputs": [],
   "source": [
    "# return the workspace called <name>, or create it if it does not exist.\n",
    "# this function assumes your connection to wallaroo is called wl\n",
    "def get_workspace(name):\n",
    "    workspace = None\n",
    "    for ws in wl.list_workspaces():\n",
    "        if ws.name() == name:\n",
    "            workspace= ws\n",
    "    if(workspace == None):\n",
    "        workspace = wl.create_workspace(name)\n",
    "    return workspace"
   ]
  },
  {
   "cell_type": "markdown",
   "id": "3d7cb3d0-aeb1-466f-8b8c-b0e7bd591637",
   "metadata": {},
   "source": [
    "Then logging in and creating a workspace looks something like this:\n",
    "\n",
    "```python\n",
    "# Login through local Wallaroo instance \n",
    "wl = wallaroo.Client()\n",
    "```\n",
    "\n",
    "Setting up the workspace may resemble this.  Verify that the workspace name is unique across the Wallaroo instance.\n",
    "\n",
    "```python\n",
    "# workspace names need to be globally unique, so add a random suffix to insure this\n",
    "# especially important if the \"main\" workspace name is potentially a common one\n",
    "\n",
    "suffix= ''.join(random.choice(string.ascii_lowercase) for i in range(4))\n",
    "workspace_name = \"my-workspace\"+suffix\n",
    "\n",
    "workspace = get_workspace(workspace_name)\n",
    "\n",
    "# set your current workspace to the workspace that you just created\n",
    "wl.set_current_workspace(workspace)\n",
    "\n",
    "# optionally, examine your current workspace\n",
    "wl.get_current_workspace()\n",
    "\n",
    "```\n",
    "\n",
    "<hr/>\n",
    "\n",
    "#### Exercise: Log in and create a workspace\n",
    "\n",
    "Log into wallaroo, and create a workspace for this workshop. Then set that new workspace to your current workspace.\n",
    "Make sure you remember the name that you gave the workspace, as you will need it for later notebooks. Set that workspace to be your working environment.\n",
    "\n",
    "**Notes**\n",
    "* Workspace names must be globally unique, so don't pick something too common. The \"random suffix\" trick in the code snippet is one way to try to generate a unique workspace name, if you suspect you are using a common name. \n",
    "\n",
    "At the end of the exercise, you should be in a new workspace to do further work.\n"
   ]
  },
  {
   "cell_type": "code",
   "execution_count": null,
   "id": "9c8d8b69-ea17-4f5e-b477-360c418429d8",
   "metadata": {},
   "outputs": [],
   "source": [
    "## Blank spot to log in\n",
    "\n",
    "wl = wallaroo.Client()"
   ]
  },
  {
   "cell_type": "code",
   "execution_count": 7,
   "id": "2df01536",
   "metadata": {},
   "outputs": [
    {
     "data": {
      "text/plain": [
       "{'name': 'tutorial-workspace-jch', 'id': 9, 'archived': False, 'created_by': 'c3a45eb6-37ff-4020-8d59-7166c3e153d0', 'created_at': '2023-07-20T14:35:12.650973+00:00', 'models': [{'name': 'tutorial-model', 'versions': 2, 'owner_id': '\"\"', 'last_update_time': datetime.datetime(2023, 7, 20, 14, 49, 46, 510495, tzinfo=tzutc()), 'created_at': datetime.datetime(2023, 7, 20, 14, 43, 43, 886638, tzinfo=tzutc())}], 'pipelines': [{'name': 'tutorialpipeline-jch', 'create_time': datetime.datetime(2023, 7, 20, 14, 43, 44, 606725, tzinfo=tzutc()), 'definition': '[]'}]}"
      ]
     },
     "execution_count": 7,
     "metadata": {},
     "output_type": "execute_result"
    }
   ],
   "source": [
    "## Blank spot to connect to the workspace\n",
    "\n",
    "suffix= ''.join(random.choice(string.ascii_lowercase) for i in range(4))\n",
    "workspace_name = \"tutorial-workspace-jch\"\n",
    "\n",
    "workspace = get_workspace(workspace_name)\n",
    "\n",
    "# set your current workspace to the workspace that you just created\n",
    "wl.set_current_workspace(workspace)\n",
    "\n",
    "# optionally, examine your current workspace\n",
    "wl.get_current_workspace()"
   ]
  },
  {
   "cell_type": "markdown",
   "id": "67b7b6f7-696f-436e-acde-2f50b361b8a1",
   "metadata": {},
   "source": [
    "## Deploy a Simple Single-Step Pipeline\n",
    "\n",
    "Once your model is in the ONNX format, and you have a workspace to work in, you can easily upload your model to Wallaroo's production platform with just a few lines of code. For example, if you have a model called `model.onnx`, and you wish to upload it to Wallaroo with the name `mymodel`, then upload the model as follows (once you are in the appropriate workspace):\n",
    "\n",
    "```python\n",
    "\n",
    "my_model = wl.upload_model(\"mymodel\", \"model.onnx\", framework=Framework.ONNX).configure()\n",
    "```\n",
    "\n",
    "See [Wallaroo SDK Essentials Guide: Model Uploads and Registrations: ONNX](https://docs.wallaroo.ai/wallaroo-developer-guides/wallaroo-sdk-guides/wallaroo-sdk-essentials-guide/wallaroo-sdk-model-uploads/wallaroo-sdk-model-upload-onnx/) for full details.\n",
    "\n",
    "The function `upload_model()` returns a handle to the uploaded model that you will continue to work with in the SDK.\n",
    "\n",
    "Once the model has been uploaded, you can create a **pipeline** that contains the model. The pipeline is the mechanism that manages deployments. A pipeline contains a series of **steps** - sequential sets of models which take in the data from the preceding step, process it through the model, then return a result. Some pipelines can have just one step, while others may have multiple models with multiple steps or arranged for A/B testing. Deployed pipelines allocate resources and can then process data either through local files or through a **deployment URL**.\n",
    "\n",
    "So for your model to accept inferences, you must add it to a pipeline. You can create a single step pipeline called `mypipeline` as follows.\n",
    "\n",
    "```python\n",
    "# create the pipeline\n",
    "my_pipeline = wl.build_pipeline(\"mypipeline\").add_model_step(my_model)\n",
    "\n",
    "# deploy the pipeline\n",
    "my_pipeline = my_pipeline.deploy()\n",
    "```\n",
    "\n",
    "Deploying the pipeline means that resources from the cluster are allocated to the pipeline, and it is ready to accept inferences. You can \"turn off\" the pipeline with the call `pipeline.undeploy()`, which returns the resources back to the cluster.  This is an important step - leaving pipeline deployed when they're no longer needed takes up resources that may be needed by other pipelines or services.\n",
    "\n",
    "See [Wallaroo SDK Essentials Guide: Pipeline Management](https://docs.wallaroo.ai/wallaroo-developer-guides/wallaroo-sdk-guides/wallaroo-sdk-essentials-guide/wallaroo-sdk-essentials-pipelines/wallaroo-sdk-essentials-pipeline/) for full details.\n",
    "\n",
    "**More Hints**\n",
    "\n",
    "* `workspace = wl.get_current_workspace()` gives you a handle to the current workspace\n",
    "* then `workspace.models()` will return a list of the models in the workspace\n",
    "* and `workspace.pipelines()` will return a list of the pipelines in the workspace\n",
    "\n",
    "<hr/>\n",
    "\n",
    "#### Exercise: Upload and deploy your model\n",
    "\n",
    "Upload and deploy the ONNX model that you created in the previous exercise. For simplicity, do any needed pre-processing in the notebook.\n",
    "\n",
    "At the end of the exercise, you should have a model and a deployed pipeline in your workspace."
   ]
  },
  {
   "cell_type": "code",
   "execution_count": 8,
   "id": "7e706bba-f56c-410e-8a64-7f5a20484076",
   "metadata": {},
   "outputs": [
    {
     "data": {
      "text/html": [
       "<table><tr><th>name</th> <td>tutorialpipeline-jch</td></tr><tr><th>created</th> <td>2023-07-20 14:43:44.606725+00:00</td></tr><tr><th>last_updated</th> <td>2023-07-20 16:03:12.376567+00:00</td></tr><tr><th>deployed</th> <td>True</td></tr><tr><th>tags</th> <td></td></tr><tr><th>versions</th> <td>83b4129b-3271-4e5a-aa5c-203b8b95e674, d7c7b6b1-04d5-4d20-a85b-39159cb79ede, 0f5b2df6-6498-4ace-a739-7c585284d6c6, da128b7e-26f5-4b9d-a58e-b244735843bd, 89094eea-ef47-4d4c-bf33-2829b2aeaf64</td></tr><tr><th>steps</th> <td>tutorial-model</td></tr></table>"
      ],
      "text/plain": [
       "{'name': 'tutorialpipeline-jch', 'create_time': datetime.datetime(2023, 7, 20, 14, 43, 44, 606725, tzinfo=tzutc()), 'definition': \"[{'ModelInference': {'models': [{'name': 'tutorial-model', 'version': '33523bc2-990b-4a04-84e4-e13f4a3f5163', 'sha': 'ed6065a79d841f7e96307bb20d5ef22840f15da0b587efb51425c7ad60589d6a'}]}}]\"}"
      ]
     },
     "execution_count": 8,
     "metadata": {},
     "output_type": "execute_result"
    }
   ],
   "source": [
    "## blank space to upload model, and create the pipeline\n",
    "\n",
    "from wallaroo.framework import Framework\n",
    "\n",
    "model = wl.upload_model('tutorial-model', './models/gbr_model.onnx', framework=Framework.ONNX)\n",
    "\n",
    "pipeline = wl.build_pipeline(\"tutorialpipeline-jch\").add_model_step(model)\n",
    "\n",
    "pipeline.deploy()\n"
   ]
  },
  {
   "cell_type": "markdown",
   "id": "deee7faa-261b-4177-96b9-e41ec1f42478",
   "metadata": {},
   "source": [
    "## Sending Data to your Pipeline\n",
    "\n",
    "ONNX models generally expect their input as an array in a dictionary, keyed by input name. In Wallaroo, the default input name is \"tensor\". So (outside of Wallaroo), an ONNX model that expected three numeric values as its input would expect input data similar to the below: (**Note: The below examples are only notional, they aren't intended to work with our example models.**)\n",
    "\n",
    "```python\n",
    "# one datum\n",
    "singleton = {'tensor': [[1, 2, 3]] }\n",
    "\n",
    "# two datums\n",
    "two_inputs = {'tensor': [[1, 2, 3], [4, 5, 6]] }\n",
    "```\n",
    "\n",
    "In the Wallaroo SDK, you can send a pandas DataFrame representation of this dictionary (pandas record format) to the pipeline, via the `pipeline.infer()` method.\n",
    "\n",
    "```python\n",
    "import pandas as pd\n",
    "\n",
    "# one datum (notional example)\n",
    "sdf = pd.DataFrame(singleton)\n",
    "sdf\n",
    "#       tensor\n",
    "# 0  [1, 2, 3]\n",
    "\n",
    "# send the datum to a pipeline for inference\n",
    "# notional example - not houseprice model!\n",
    "result = my_pipeline.infer(sdf)\n",
    "\n",
    "# two datums\n",
    "# Note that the value of 'tensor' must be a list, not a numpy array \n",
    "twodf = pd.DataFrame(two_inputs)\n",
    "twodf\n",
    "#      tensor\n",
    "# 0  [1, 2, 3]\n",
    "# 1  [4, 5, 6]\n",
    "\n",
    "# send the data to a pipeline for inference\n",
    "# notional example, not houseprice model!\n",
    "result = my_pipeline.infer(twodf)\n",
    "```\n",
    "\n",
    "To send data to a pipeline via the inference URL (for example, via CURL), you need the JSON representation of these data frames.\n",
    "\n",
    "```python\n",
    "#\n",
    "# notional examples, not houseprice model!\n",
    "#\n",
    "sdf.to_json(orient='records')\n",
    "# '[{\"tensor\":[1,2,3]}]'\n",
    "\n",
    "twodf.to_json(orient='records')\n",
    "# '[{\"tensor\":[1,2,3]},{\"tensor\":[4,5,6]}]'\n",
    "```\n",
    "\n",
    "If the JSON data is in a file, you can send it to the pipeline from within the SDK via the `pipeline.infer_from_file()` method. \n",
    "\n",
    "In either case, a successful inference will return a data frame of inference results. The model inference(s) will be in the `column out.<outputname>`.\n",
    "\n",
    "For more details, see [Wallaroo SDK Essentials Guide: Inference Management](https://docs.wallaroo.ai/wallaroo-developer-guides/wallaroo-sdk-guides/wallaroo-sdk-essentials-guide/wallaroo-sdk-essentials-inferences/).\n"
   ]
  },
  {
   "cell_type": "markdown",
   "id": "3aabfd92-23a2-4e5d-9f40-4e9265f84054",
   "metadata": {},
   "source": [
    "### Converting from tabular format\n",
    "\n",
    "If your input data is in a standard tabular format (like the `test_data.csv` example data in the `data` directory), then you need to convert to pandas record format to send the data to your pipeline.  See the pandas DataFrame documentation for methods on how to import a CSV file to a DataFrame.\n",
    "\n",
    "To help with the following exercises, here are some convenience functions you might find useful for doing this conversion. These functions convert input data in standard tabular format (in a pandas DataFrame) to the pandas record format that the model expects."
   ]
  },
  {
   "cell_type": "code",
   "execution_count": 9,
   "id": "92819d28-e3ae-4f04-8b06-c45770689daa",
   "metadata": {},
   "outputs": [],
   "source": [
    "# pull a single datum from a data frame \n",
    "# and convert it to the format the model expects\n",
    "def get_singleton(df, i):\n",
    "    singleton = df.iloc[i,:].to_numpy().tolist()\n",
    "    sdict = {'tensor': [singleton]}\n",
    "    return pd.DataFrame.from_dict(sdict)\n",
    "\n",
    "\n",
    "# pull a batch of data from a data frame\n",
    "# and convert to the format the model expects\n",
    "def get_batch(df, first=0, nrows=1):\n",
    "    last = first + nrows\n",
    "    batch = df.iloc[first:last, :].to_numpy().tolist()\n",
    "    return pd.DataFrame.from_dict({'tensor': batch})"
   ]
  },
  {
   "cell_type": "markdown",
   "id": "5901f489-f12e-4327-b0da-3e99b2838ddb",
   "metadata": {},
   "source": [
    "#### Execute the following code block to see examples of what `get_singleton` and `get_batch` do.\n"
   ]
  },
  {
   "cell_type": "code",
   "execution_count": 10,
   "id": "d575fcfc-0b87-4201-b662-fca2b59faf9a",
   "metadata": {},
   "outputs": [
    {
     "name": "stdout",
     "output_type": "stream",
     "text": [
      "TOY data for a model that takes inputs var1, var2, var3.\n",
      "The dataframe is called df.\n",
      "Pretend the model is in a Wallaroo pipeline called \"toypipeline\"\n"
     ]
    },
    {
     "data": {
      "text/html": [
       "<div>\n",
       "<style scoped>\n",
       "    .dataframe tbody tr th:only-of-type {\n",
       "        vertical-align: middle;\n",
       "    }\n",
       "\n",
       "    .dataframe tbody tr th {\n",
       "        vertical-align: top;\n",
       "    }\n",
       "\n",
       "    .dataframe thead th {\n",
       "        text-align: right;\n",
       "    }\n",
       "</style>\n",
       "<table border=\"1\" class=\"dataframe\">\n",
       "  <thead>\n",
       "    <tr style=\"text-align: right;\">\n",
       "      <th></th>\n",
       "      <th>var1</th>\n",
       "      <th>var2</th>\n",
       "      <th>var3</th>\n",
       "    </tr>\n",
       "  </thead>\n",
       "  <tbody>\n",
       "    <tr>\n",
       "      <th>0</th>\n",
       "      <td>1</td>\n",
       "      <td>33</td>\n",
       "      <td>6</td>\n",
       "    </tr>\n",
       "    <tr>\n",
       "      <th>1</th>\n",
       "      <td>3</td>\n",
       "      <td>88</td>\n",
       "      <td>20</td>\n",
       "    </tr>\n",
       "    <tr>\n",
       "      <th>2</th>\n",
       "      <td>5</td>\n",
       "      <td>45</td>\n",
       "      <td>5</td>\n",
       "    </tr>\n",
       "  </tbody>\n",
       "</table>\n",
       "</div>"
      ],
      "text/plain": [
       "   var1  var2  var3\n",
       "0     1    33     6\n",
       "1     3    88    20\n",
       "2     5    45     5"
      ]
     },
     "metadata": {},
     "output_type": "display_data"
    },
    {
     "name": "stdout",
     "output_type": "stream",
     "text": [
      "The command \"singleton = get_singleton(df, 0)\" converts\n",
      "the first row of the data frame into the format that Wallaroo pipelines accept.\n",
      "You could now get a prediction by: \"toypipeline.infer(singleton)\".\n",
      "\n"
     ]
    },
    {
     "data": {
      "text/html": [
       "<div>\n",
       "<style scoped>\n",
       "    .dataframe tbody tr th:only-of-type {\n",
       "        vertical-align: middle;\n",
       "    }\n",
       "\n",
       "    .dataframe tbody tr th {\n",
       "        vertical-align: top;\n",
       "    }\n",
       "\n",
       "    .dataframe thead th {\n",
       "        text-align: right;\n",
       "    }\n",
       "</style>\n",
       "<table border=\"1\" class=\"dataframe\">\n",
       "  <thead>\n",
       "    <tr style=\"text-align: right;\">\n",
       "      <th></th>\n",
       "      <th>tensor</th>\n",
       "    </tr>\n",
       "  </thead>\n",
       "  <tbody>\n",
       "    <tr>\n",
       "      <th>0</th>\n",
       "      <td>[1, 33, 6]</td>\n",
       "    </tr>\n",
       "  </tbody>\n",
       "</table>\n",
       "</div>"
      ],
      "text/plain": [
       "       tensor\n",
       "0  [1, 33, 6]"
      ]
     },
     "metadata": {},
     "output_type": "display_data"
    },
    {
     "name": "stdout",
     "output_type": "stream",
     "text": [
      "The command \"batch = get_batch(df, nrows=2)\" converts\n",
      "the the first two rows of the data frame into a batch format that Wallaroo pipelines accept.\n",
      "You could now get a batch prediction by: \"toypipeline.infer(batch)\".\n",
      "\n"
     ]
    },
    {
     "data": {
      "text/html": [
       "<div>\n",
       "<style scoped>\n",
       "    .dataframe tbody tr th:only-of-type {\n",
       "        vertical-align: middle;\n",
       "    }\n",
       "\n",
       "    .dataframe tbody tr th {\n",
       "        vertical-align: top;\n",
       "    }\n",
       "\n",
       "    .dataframe thead th {\n",
       "        text-align: right;\n",
       "    }\n",
       "</style>\n",
       "<table border=\"1\" class=\"dataframe\">\n",
       "  <thead>\n",
       "    <tr style=\"text-align: right;\">\n",
       "      <th></th>\n",
       "      <th>tensor</th>\n",
       "    </tr>\n",
       "  </thead>\n",
       "  <tbody>\n",
       "    <tr>\n",
       "      <th>0</th>\n",
       "      <td>[1, 33, 6]</td>\n",
       "    </tr>\n",
       "    <tr>\n",
       "      <th>1</th>\n",
       "      <td>[3, 88, 20]</td>\n",
       "    </tr>\n",
       "  </tbody>\n",
       "</table>\n",
       "</div>"
      ],
      "text/plain": [
       "        tensor\n",
       "0   [1, 33, 6]\n",
       "1  [3, 88, 20]"
      ]
     },
     "metadata": {},
     "output_type": "display_data"
    }
   ],
   "source": [
    "# RUN ME!\n",
    "\n",
    "print('''TOY data for a model that takes inputs var1, var2, var3.\n",
    "The dataframe is called df.\n",
    "Pretend the model is in a Wallaroo pipeline called \"toypipeline\"''')\n",
    "\n",
    "df = pd.DataFrame({\n",
    "    'var1': [1, 3, 5],\n",
    "    'var2': [33, 88, 45],\n",
    "    'var3': [6, 20, 5]\n",
    "})\n",
    "\n",
    "display(df)\n",
    "\n",
    "# create a model input from the first row\n",
    "# this is now in the format that a model would accept\n",
    "singleton = get_singleton(df, 0)\n",
    "\n",
    "print('''The command \"singleton = get_singleton(df, 0)\" converts\n",
    "the first row of the data frame into the format that Wallaroo pipelines accept.\n",
    "You could now get a prediction by: \"toypipeline.infer(singleton)\".\n",
    "''')\n",
    "display(singleton)\n",
    "\n",
    "\n",
    "# create a batch of queries from the entire dataframe\n",
    "batch = get_batch(df, nrows=2)\n",
    "\n",
    "print('''The command \"batch = get_batch(df, nrows=2)\" converts\n",
    "the the first two rows of the data frame into a batch format that Wallaroo pipelines accept.\n",
    "You could now get a batch prediction by: \"toypipeline.infer(batch)\".\n",
    "''')\n",
    "display(batch)\n"
   ]
  },
  {
   "cell_type": "markdown",
   "id": "68705c5c-0edd-44ff-8706-c5ae7e00f4e8",
   "metadata": {},
   "source": [
    "<hr/>\n",
    "\n",
    "#### Exercise: Send data to your pipeline for inference.\n",
    "\n",
    "Create some test data from the housing data and send it to the pipeline that you deployed in the previous exercise.  \n",
    "\n",
    "* If you used the pre-provided models, then you can use `test_data.csv` from the `data` directory.  This can be loaded directly into **your** sample pandas DataFrame - check the pandas documentation for a handy function for doing that.  (We mention yours because sometimes people try to use the example code above rather than their own data.)\n",
    "\n",
    "* Start easy, with just one datum; retrieve the inference results. You can try small batches, as well. Use the above example as a guide.\n",
    "* Examine the inference results; observe what the model prediction column is called; it should be of the form `out.<outputname>`.\n",
    "\n",
    "For more hints about the different ways of sending data to the pipeline, and to see an example of the inference result format, see the [\"Running Inferences\" section of Wallaroo 101](https://docs.wallaroo.ai/wallaroo-101/#running-interfences).\n",
    "\n",
    "At the end of the exercise, you should have a set of inference results that you got through the Wallaroo pipeline. "
   ]
  },
  {
   "cell_type": "code",
   "execution_count": 11,
   "id": "f0d5b522-8949-4c69-abf8-27191069af74",
   "metadata": {},
   "outputs": [
    {
     "data": {
      "text/html": [
       "<div>\n",
       "<style scoped>\n",
       "    .dataframe tbody tr th:only-of-type {\n",
       "        vertical-align: middle;\n",
       "    }\n",
       "\n",
       "    .dataframe tbody tr th {\n",
       "        vertical-align: top;\n",
       "    }\n",
       "\n",
       "    .dataframe thead th {\n",
       "        text-align: right;\n",
       "    }\n",
       "</style>\n",
       "<table border=\"1\" class=\"dataframe\">\n",
       "  <thead>\n",
       "    <tr style=\"text-align: right;\">\n",
       "      <th></th>\n",
       "      <th>tensor</th>\n",
       "    </tr>\n",
       "  </thead>\n",
       "  <tbody>\n",
       "    <tr>\n",
       "      <th>0</th>\n",
       "      <td>[4.0, 2.5, 2900.0, 5505.0, 2.0, 0.0, 0.0, 3.0, 8.0, 2900.0, 0.0, 47.6063, -122.02, 2970.0, 5251.0, 12.0, 0.0, 0.0]</td>\n",
       "    </tr>\n",
       "  </tbody>\n",
       "</table>\n",
       "</div>"
      ],
      "text/plain": [
       "                                                                                                               tensor\n",
       "0  [4.0, 2.5, 2900.0, 5505.0, 2.0, 0.0, 0.0, 3.0, 8.0, 2900.0, 0.0, 47.6063, -122.02, 2970.0, 5251.0, 12.0, 0.0, 0.0]"
      ]
     },
     "metadata": {},
     "output_type": "display_data"
    },
    {
     "data": {
      "text/html": [
       "<div>\n",
       "<style scoped>\n",
       "    .dataframe tbody tr th:only-of-type {\n",
       "        vertical-align: middle;\n",
       "    }\n",
       "\n",
       "    .dataframe tbody tr th {\n",
       "        vertical-align: top;\n",
       "    }\n",
       "\n",
       "    .dataframe thead th {\n",
       "        text-align: right;\n",
       "    }\n",
       "</style>\n",
       "<table border=\"1\" class=\"dataframe\">\n",
       "  <thead>\n",
       "    <tr style=\"text-align: right;\">\n",
       "      <th></th>\n",
       "      <th>time</th>\n",
       "      <th>in.tensor</th>\n",
       "      <th>out.variable</th>\n",
       "      <th>check_failures</th>\n",
       "    </tr>\n",
       "  </thead>\n",
       "  <tbody>\n",
       "    <tr>\n",
       "      <th>0</th>\n",
       "      <td>2023-07-20 16:03:16.621</td>\n",
       "      <td>[4.0, 2.5, 2900.0, 5505.0, 2.0, 0.0, 0.0, 3.0, 8.0, 2900.0, 0.0, 47.6063, -122.02, 2970.0, 5251.0, 12.0, 0.0, 0.0]</td>\n",
       "      <td>[704901.9]</td>\n",
       "      <td>0</td>\n",
       "    </tr>\n",
       "  </tbody>\n",
       "</table>\n",
       "</div>"
      ],
      "text/plain": [
       "                     time  \\\n",
       "0 2023-07-20 16:03:16.621   \n",
       "\n",
       "                                                                                                            in.tensor  \\\n",
       "0  [4.0, 2.5, 2900.0, 5505.0, 2.0, 0.0, 0.0, 3.0, 8.0, 2900.0, 0.0, 47.6063, -122.02, 2970.0, 5251.0, 12.0, 0.0, 0.0]   \n",
       "\n",
       "  out.variable  check_failures  \n",
       "0   [704901.9]               0  "
      ]
     },
     "metadata": {},
     "output_type": "display_data"
    },
    {
     "data": {
      "text/html": [
       "<div>\n",
       "<style scoped>\n",
       "    .dataframe tbody tr th:only-of-type {\n",
       "        vertical-align: middle;\n",
       "    }\n",
       "\n",
       "    .dataframe tbody tr th {\n",
       "        vertical-align: top;\n",
       "    }\n",
       "\n",
       "    .dataframe thead th {\n",
       "        text-align: right;\n",
       "    }\n",
       "</style>\n",
       "<table border=\"1\" class=\"dataframe\">\n",
       "  <thead>\n",
       "    <tr style=\"text-align: right;\">\n",
       "      <th></th>\n",
       "      <th>time</th>\n",
       "      <th>in.tensor</th>\n",
       "      <th>out.variable</th>\n",
       "      <th>check_failures</th>\n",
       "    </tr>\n",
       "  </thead>\n",
       "  <tbody>\n",
       "    <tr>\n",
       "      <th>0</th>\n",
       "      <td>2023-07-20 16:03:17.021</td>\n",
       "      <td>[4.0, 2.5, 2900.0, 5505.0, 2.0, 0.0, 0.0, 3.0, 8.0, 2900.0, 0.0, 47.6063, -122.02, 2970.0, 5251.0, 12.0, 0.0, 0.0]</td>\n",
       "      <td>[704901.9]</td>\n",
       "      <td>0</td>\n",
       "    </tr>\n",
       "    <tr>\n",
       "      <th>1</th>\n",
       "      <td>2023-07-20 16:03:17.021</td>\n",
       "      <td>[2.0, 2.5, 2170.0, 6361.0, 1.0, 0.0, 2.0, 3.0, 8.0, 2170.0, 0.0, 47.7109, -122.017, 2310.0, 7419.0, 6.0, 0.0, 0.0]</td>\n",
       "      <td>[695994.44]</td>\n",
       "      <td>0</td>\n",
       "    </tr>\n",
       "    <tr>\n",
       "      <th>2</th>\n",
       "      <td>2023-07-20 16:03:17.021</td>\n",
       "      <td>[3.0, 2.5, 1300.0, 812.0, 2.0, 0.0, 0.0, 3.0, 8.0, 880.0, 420.0, 47.5893, -122.317, 1300.0, 824.0, 6.0, 0.0, 0.0]</td>\n",
       "      <td>[416164.8]</td>\n",
       "      <td>0</td>\n",
       "    </tr>\n",
       "    <tr>\n",
       "      <th>3</th>\n",
       "      <td>2023-07-20 16:03:17.021</td>\n",
       "      <td>[4.0, 2.5, 2500.0, 8540.0, 2.0, 0.0, 0.0, 3.0, 9.0, 2500.0, 0.0, 47.5759, -121.994, 2560.0, 8475.0, 24.0, 0.0, 0.0]</td>\n",
       "      <td>[655277.2]</td>\n",
       "      <td>0</td>\n",
       "    </tr>\n",
       "    <tr>\n",
       "      <th>4</th>\n",
       "      <td>2023-07-20 16:03:17.021</td>\n",
       "      <td>[3.0, 1.75, 2200.0, 11520.0, 1.0, 0.0, 0.0, 4.0, 7.0, 2200.0, 0.0, 47.7659, -122.341, 1690.0, 8038.0, 62.0, 0.0, 0.0]</td>\n",
       "      <td>[426854.66]</td>\n",
       "      <td>0</td>\n",
       "    </tr>\n",
       "  </tbody>\n",
       "</table>\n",
       "</div>"
      ],
      "text/plain": [
       "                     time  \\\n",
       "0 2023-07-20 16:03:17.021   \n",
       "1 2023-07-20 16:03:17.021   \n",
       "2 2023-07-20 16:03:17.021   \n",
       "3 2023-07-20 16:03:17.021   \n",
       "4 2023-07-20 16:03:17.021   \n",
       "\n",
       "                                                                                                               in.tensor  \\\n",
       "0     [4.0, 2.5, 2900.0, 5505.0, 2.0, 0.0, 0.0, 3.0, 8.0, 2900.0, 0.0, 47.6063, -122.02, 2970.0, 5251.0, 12.0, 0.0, 0.0]   \n",
       "1     [2.0, 2.5, 2170.0, 6361.0, 1.0, 0.0, 2.0, 3.0, 8.0, 2170.0, 0.0, 47.7109, -122.017, 2310.0, 7419.0, 6.0, 0.0, 0.0]   \n",
       "2      [3.0, 2.5, 1300.0, 812.0, 2.0, 0.0, 0.0, 3.0, 8.0, 880.0, 420.0, 47.5893, -122.317, 1300.0, 824.0, 6.0, 0.0, 0.0]   \n",
       "3    [4.0, 2.5, 2500.0, 8540.0, 2.0, 0.0, 0.0, 3.0, 9.0, 2500.0, 0.0, 47.5759, -121.994, 2560.0, 8475.0, 24.0, 0.0, 0.0]   \n",
       "4  [3.0, 1.75, 2200.0, 11520.0, 1.0, 0.0, 0.0, 4.0, 7.0, 2200.0, 0.0, 47.7659, -122.341, 1690.0, 8038.0, 62.0, 0.0, 0.0]   \n",
       "\n",
       "  out.variable  check_failures  \n",
       "0   [704901.9]               0  \n",
       "1  [695994.44]               0  \n",
       "2   [416164.8]               0  \n",
       "3   [655277.2]               0  \n",
       "4  [426854.66]               0  "
      ]
     },
     "metadata": {},
     "output_type": "display_data"
    }
   ],
   "source": [
    "##  blank space to create test data, and send some data to your model\n",
    "\n",
    "df_from_csv = pd.read_csv('./data/test_data.csv')\n",
    "\n",
    "singleton = get_singleton(df_from_csv, 0)\n",
    "display(singleton)\n",
    "\n",
    "single_result = pipeline.infer(singleton)\n",
    "display(single_result)\n",
    "\n",
    "multiple_batch = get_batch(df_from_csv, nrows=5)\n",
    "multiple_result = pipeline.infer(multiple_batch)\n",
    "display(multiple_result)\n"
   ]
  },
  {
   "cell_type": "markdown",
   "id": "3d8cfeaa-acae-4c99-bd81-c9164945943e",
   "metadata": {},
   "source": [
    "## Undeploying Your Pipeline\n",
    "\n",
    "You should always undeploy your pipelines when you are done with them, or don't need them for a while. This releases the resources that the pipeline is using for other processes to use. You can always redeploy the pipeline when you need it again. As a reminder, here are the commands to deploy and undeploy a pipeline:\n",
    "\n",
    "```python\n",
    "\n",
    "# when the pipeline is deployed, it's ready to receive data and infer\n",
    "pipeline.deploy()\n",
    "\n",
    "# \"turn off\" the pipeline and releaase its resources\n",
    "pipeline.undeploy()\n",
    "\n",
    "```\n",
    "\n",
    "If you are continuing on to the next notebook now, you can leave the pipeline deployed to keep working; but if you are taking a break, then you should undeploy."
   ]
  },
  {
   "cell_type": "code",
   "execution_count": 12,
   "id": "574281a8-9d8b-4588-b82a-acd3dcf37bdc",
   "metadata": {},
   "outputs": [
    {
     "data": {
      "text/html": [
       "<table><tr><th>name</th> <td>tutorialpipeline-jch</td></tr><tr><th>created</th> <td>2023-07-20 14:43:44.606725+00:00</td></tr><tr><th>last_updated</th> <td>2023-07-20 16:03:12.376567+00:00</td></tr><tr><th>deployed</th> <td>False</td></tr><tr><th>tags</th> <td></td></tr><tr><th>versions</th> <td>83b4129b-3271-4e5a-aa5c-203b8b95e674, d7c7b6b1-04d5-4d20-a85b-39159cb79ede, 0f5b2df6-6498-4ace-a739-7c585284d6c6, da128b7e-26f5-4b9d-a58e-b244735843bd, 89094eea-ef47-4d4c-bf33-2829b2aeaf64</td></tr><tr><th>steps</th> <td>tutorial-model</td></tr></table>"
      ],
      "text/plain": [
       "{'name': 'tutorialpipeline-jch', 'create_time': datetime.datetime(2023, 7, 20, 14, 43, 44, 606725, tzinfo=tzutc()), 'definition': \"[{'ModelInference': {'models': [{'name': 'tutorial-model', 'version': '33523bc2-990b-4a04-84e4-e13f4a3f5163', 'sha': 'ed6065a79d841f7e96307bb20d5ef22840f15da0b587efb51425c7ad60589d6a'}]}}]\"}"
      ]
     },
     "execution_count": 12,
     "metadata": {},
     "output_type": "execute_result"
    }
   ],
   "source": [
    "## blank space to undeploy the pipeline, if needed\n",
    "\n",
    "pipeline.undeploy()\n",
    "\n"
   ]
  },
  {
   "cell_type": "markdown",
   "id": "94d3669d-b3b4-4747-8ded-e8585f38a6e5",
   "metadata": {},
   "source": [
    "## Congratulations!\n",
    "\n",
    "You have now \n",
    "\n",
    "* Successfully trained a model\n",
    "* Converted your model and uploaded it to Wallaroo\n",
    "* Created and deployed a simple single-step pipeline\n",
    "* Successfully send data to your pipeline for inference\n",
    "\n",
    "In the next notebook, you will look at two different ways to evaluate your model against the real world environment.\n",
    "\n"
   ]
  }
 ],
 "metadata": {
  "kernelspec": {
   "display_name": "Python 3 (ipykernel)",
   "language": "python",
   "name": "python3"
  },
  "language_info": {
   "codemirror_mode": {
    "name": "ipython",
    "version": 3
   },
   "file_extension": ".py",
   "mimetype": "text/x-python",
   "name": "python",
   "nbconvert_exporter": "python",
   "pygments_lexer": "ipython3",
   "version": "3.8.17"
  }
 },
 "nbformat": 4,
 "nbformat_minor": 5
}
