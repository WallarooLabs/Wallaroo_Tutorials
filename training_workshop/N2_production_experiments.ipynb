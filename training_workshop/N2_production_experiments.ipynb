{
 "cells": [
  {
   "attachments": {},
   "cell_type": "markdown",
   "id": "7d3757d4-9096-48d0-a0b3-ee52a1855d32",
   "metadata": {},
   "source": [
    "# Workshop Notebook 2: Vetting a Model With Production Experiments\n",
    "\n",
    "So far, we've discussed practices and methods for transitioning an ML model and related artifacts from development to production. However, just the act of pushing a model into production is not the only consideration. In many situations, it's important to vet a model's performance in the real world before fully activating it. Real world vetting can surface issues that may not have arisen during the development stage, when models are only checked using hold-out data.\n",
    "\n",
    "In this notebook, you will learn about two kinds of production ML model validation methods: A/B testing and Shadow Deployments. A/B tests and other types of experimentation are part of the ML lifecycle. The ability to quickly experiment and test new models in the real world helps data scientists to continually learn, innovate, and improve AI-driven decision processes."
   ]
  },
  {
   "attachments": {},
   "cell_type": "markdown",
   "id": "87581d25-ce36-498d-9051-6f0585a51387",
   "metadata": {},
   "source": [
    "## Preliminaries\n",
    "\n",
    "In the blocks below we will preload some required libraries; we will also redefine some of the convenience functions that you saw in the previous notebook.\n",
    "\n",
    "After that, you should log into Wallaroo and set your working environment to the workspace that you created in the previous notebook. "
   ]
  },
  {
   "cell_type": "code",
   "execution_count": null,
   "id": "01e8e99c-63f5-4c26-9d51-11b5ff134327",
   "metadata": {},
   "outputs": [],
   "source": [
    "# preload needed libraries \n",
    "\n",
    "import wallaroo\n",
    "from wallaroo.object import EntityNotFoundError\n",
    "from wallaroo.framework import Framework\n",
    "\n",
    "from IPython.display import display\n",
    "\n",
    "# used to display DataFrame information without truncating\n",
    "from IPython.display import display\n",
    "import pandas as pd\n",
    "pd.set_option('display.max_colwidth', None)\n",
    "\n",
    "import json\n",
    "import datetime\n",
    "import time\n",
    "\n",
    "# used for unique connection names\n",
    "\n",
    "import string\n",
    "import random"
   ]
  },
  {
   "cell_type": "code",
   "execution_count": null,
   "id": "cc3c1ab1-938b-49ff-b4bf-4a2daefcec3a",
   "metadata": {},
   "outputs": [],
   "source": [
    "## convenience functions from the previous notebook\n",
    "\n",
    "# return the workspace called <name>, or create it if it does not exist.\n",
    "# this function assumes your connection to wallaroo is called wl\n",
    "def get_workspace(name):\n",
    "    workspace = None\n",
    "    for ws in wl.list_workspaces():\n",
    "        if ws.name() == name:\n",
    "            workspace= ws\n",
    "    if(workspace == None):\n",
    "        workspace = wl.create_workspace(name)\n",
    "    return workspace\n",
    "\n",
    "\n",
    "# pull a single datum from a data frame \n",
    "# and convert it to the format the model expects\n",
    "def get_singleton(df, i):\n",
    "    singleton = df.iloc[i,:].to_numpy().tolist()\n",
    "    sdict = {'tensor': [singleton]}\n",
    "    return pd.DataFrame.from_dict(sdict)\n",
    "\n",
    "\n",
    "# pull a batch of data from a data frame\n",
    "# and convert to the format the model expects\n",
    "def get_batch(df, first=0, nrows=1):\n",
    "    last = first + nrows\n",
    "    batch = df.iloc[first:last, :].to_numpy().tolist()\n",
    "    return pd.DataFrame.from_dict({'tensor': batch})\n",
    "\n"
   ]
  },
  {
   "cell_type": "markdown",
   "id": "c2b76b8f",
   "metadata": {},
   "source": [
    "#### Pre-exercise\n",
    "\n",
    "If needed, log into Wallaroo and go to the workspace that you created in the previous notebook. Please refer to Notebook 1 to refresh yourself on how to log in and set your working environment to the appropriate workspace."
   ]
  },
  {
   "cell_type": "code",
   "execution_count": null,
   "id": "25618e30-3fc9-4cc2-81f5-9c864aad4afb",
   "metadata": {},
   "outputs": [],
   "source": [
    "## blank space to log in and go to the appropriate workspace\n"
   ]
  },
  {
   "attachments": {},
   "cell_type": "markdown",
   "id": "f795f5bb-b8e8-4826-932e-a2a4dd8204b2",
   "metadata": {},
   "source": [
    "## A/B Testing\n",
    "\n",
    "An [A/B test](https://en.wikipedia.org/wiki/A/B_testing), also called a controlled experiment or a randomized control trial, is a statistical method of determining which of a set of variants is the best. A/B tests allow organizations and policy-makers to make smarter, data-driven decisions that are less dependent on guesswork.\n",
    "\n",
    "In the simplest version of an A/B test, subjects are randomly assigned to either the **_control group_** (group A) or the **_treatment group_** (group B). Subjects in the treatment group receive the treatment (such as a new medicine, a special offer, or a new web page design) while the control group proceeds as normal without the treatment. Data is then collected on the outcomes and used to study the effects of the treatment.\n",
    "\n",
    "In data science, A/B tests are often used to choose between two or more candidate models in production, by measuring which model performs best in the real world. In this formulation, the control is often an existing model that is currently in production, sometimes called the **_champion_**. The treatment is a new model being considered to replace the old one. This new model is sometimes called the **_challenger_**. In our discussion, we'll use the terms *champion* and *challenger*, rather than *control* and *treatment*.\n",
    "\n",
    "When data is sent to a Wallaroo A/B test pipeline for inference, each datum is randomly sent to either the champion or challenger. After enough data has been sent to collect statistics on all the models in the A/B test pipeline, then those outcomes can be analyzed to determine the difference (if any) in the performance of the champion and challenger. Usually, the purpose of an A/B test is to decide whether or not to replace the champion with the challenger.\n",
    "\n",
    "Keep in mind that in machine learning, the terms experiments and trials also often refer to the process of finding a training configuration that works best for the problem at hand (this is sometimes called hyperparameter optimization). In this guide, we will use the term experiment to refer to the use of A/B tests to compare the performance of different models in production.\n",
    "<hr/>"
   ]
  },
  {
   "attachments": {},
   "cell_type": "markdown",
   "id": "cfbf4229-8826-49c9-a73e-711a4b7e9f0f",
   "metadata": {},
   "source": [
    "#### Exercise: Create some house price challenger models and upload them to Wallaroo\n",
    "\n",
    "Use the house price data from Notebook 1 to create at least one alternate house price prediction model. You can do this by varying the modeling algorithm, the inputs, the feature engineering, or all of the above. \n",
    "\n",
    "For the purpose of these exercises, please make sure that the predictions from the new model(s) are in the same units as the (champion) model that you created in Chapter 3. For example, if the champion model predicts log price, then the challenger models should also predict log price. If the champion model predicts price in units of $10,000, then the challenger models should, also.\n",
    "\n",
    "* **If you prefer to shortcut this step, you can use some of the pretrained model onnx files in the `models` directory**\n",
    "* Upload your new model(s) to Wallaroo, into your houseprice workspace\n",
    "\n",
    "At the end of this exercise, you should have at least one challenger model to compare to your champion model uploaded to your workspace."
   ]
  },
  {
   "cell_type": "code",
   "execution_count": null,
   "id": "9c17ea64-821a-4415-8062-a19cd3e053b6",
   "metadata": {},
   "outputs": [],
   "source": [
    "# blank space to train, convert, and upload new model\n"
   ]
  },
  {
   "attachments": {},
   "cell_type": "markdown",
   "id": "19095cbf-df5b-446e-a66d-404de380a8b7",
   "metadata": {},
   "source": [
    "There are a number of considerations to designing an A/B test; you can check out the article [*The What, Why, and How of A/B Testing*](https://wallarooai.medium.com/the-what-why-and-how-of-a-b-testing-64471847cd7e) for more details. In these exercises, we will concentrate on the deployment aspects.  You will need a champion model and  at least one challenger model. You also need to decide on a data split: for example 50-50 between the champion and challenger, or a 2:1 ratio between champion and challenger (two-thirds of the data to the champion, one-third to the challenger).\n",
    "\n",
    "As an example of creating an A/B test deployment, suppose you have a champion model called \"champion\", that you have been running in a one-step pipeline called \"pipeline\". You now want to compare it to a challenger model called \"challenger\". For your A/B test, you will send two-thirds of the data to the champion, and the other third to the challenger. Both models have already been uploaded. \n",
    "\n",
    "To help you with the exercises, here some convenience functions to retrieve a models and pipelines that have been previously uploaded to your workspace (in this example, `wl` is your `wallaroo.client()` object). "
   ]
  },
  {
   "cell_type": "code",
   "execution_count": null,
   "id": "f5e761d3-ea04-400c-87b0-c240ba49e116",
   "metadata": {},
   "outputs": [],
   "source": [
    "# Get the most recent version of a model.\n",
    "# Assumes that the most recent version is the first in the list of versions.\n",
    "# wl.get_current_workspace().models() returns a list of models in the current workspace\n",
    "\n",
    "def get_model(mname, modellist=wl.get_current_workspace().models()):\n",
    "    model = [m.versions()[0] for m in modellist if m.name() == mname]\n",
    "    if len(model) <= 0:\n",
    "        raise KeyError(f\"model {mname} not found in this workspace\")\n",
    "    return model[0]\n",
    "\n",
    "# get a pipeline by name in the workspace\n",
    "def get_pipeline(pname, plist = wl.get_current_workspace().pipelines()):\n",
    "    pipeline = [p for p in plist if p.name() == pname]\n",
    "    if len(pipeline) <= 0:\n",
    "        raise KeyError(f\"pipeline {pname} not found in this workspace\")\n",
    "    return pipeline[0]"
   ]
  },
  {
   "cell_type": "code",
   "execution_count": null,
   "id": "bfd0ca87",
   "metadata": {},
   "outputs": [],
   "source": [
    "# use the space here for retrieving the models and pipeline\n"
   ]
  },
  {
   "attachments": {},
   "cell_type": "markdown",
   "id": "6b65878e",
   "metadata": {},
   "source": [
    "Pipelines may have already been issued with pipeline steps.  Pipeline steps can be removed or replaced with other steps.\n",
    "\n",
    "The easiest way to clear **all** pipeline steps is with the Pipeline `clear()` method.\n",
    "\n",
    "To remove one step, use the Pipeline `remove_step(index)` method, where `index` is the step number ordered from zero.  For example, if a pipeline has one step, then `remove_step(0)` would remove that step.\n",
    "\n",
    "To replace a pipeline step, use the Pipeline `replace_with_model_step(index, model)`, where `index` is the step number ordered from zero, and the `model` is the model to be replacing it with.\n",
    "\n",
    "Updated pipeline steps are not saved until the pipeline is redeployed with the Pipeline `deploy()` method.\n",
    "\n",
    "Reference:  [Wallaroo SDK Essentials Guide: Pipeline Management\n",
    "](https://docs.wallaroo.ai/wallaroo-developer-guides/wallaroo-sdk-guides/wallaroo-sdk-essentials-guide/wallaroo-sdk-essentials-pipeline/)."
   ]
  },
  {
   "attachments": {},
   "cell_type": "markdown",
   "id": "05516165",
   "metadata": {},
   "source": [
    "For A/B testing, pipeline steps are **added** or **replace** an existing step.\n",
    "\n",
    "To **add** a A/B testing step use the Pipeline `add_random_split` method with the following parameters:\n",
    "\n",
    "| Parameter | Type | Description |\n",
    "| --- | --- | ---|\n",
    "| **champion_weight** | Float (Required) | The weight for the champion model. |\n",
    "| **champion_model** | Wallaroo.Model (Required) | The uploaded champion model. |\n",
    "| **challenger_weight** | Float (Required) | The weight of the challenger model. |\n",
    "| **challenger_model** | Wallaroo.Model (Required) | The uploaded challenger model. |\n",
    "| **hash_key** | String(Optional) | A key used instead of a random number for model selection.  This must be between 0.0 and 1.0. |\n",
    "\n",
    "\n",
    "Note that multiple challenger models with different weights can be added as the random split step.\n",
    "\n",
    "In this example, a pipeline will be built with a 2:1 weighted ratio between the champion and a single challenger model.\n",
    "\n",
    "```python\n",
    "pipeline.add_random_split([(2, control), (1, challenger)]))\n",
    "```\n",
    "\n",
    "To **replace** an existing pipeline step with an A/B testing step use the Pipeline `replace_with_random_split` method.\n",
    "\n",
    "| Parameter | Type | Description |\n",
    "| --- | --- | ---|\n",
    "| **index** | Integer (Required) | The pipeline step being replaced. |\n",
    "| **champion_weight** | Float (Required) | The weight for the champion model. |\n",
    "| **champion_model** | Wallaroo.Model (Required) | The uploaded champion model. |\n",
    "| **challenger_weight | Float (Required) | The weight of the challenger model. |\n",
    "| **challenger_model** | Wallaroo.Model (Required) | The uploaded challenger model. |\n",
    "| **hash_key** | String(Optional) | A key used instead of a random number for model selection.  This must be between 0.0 and 1.0. |\n",
    "\n",
    "This example replaces the first pipeline step with a 2:1 champion to challenger radio.\n",
    "\n",
    "```python\n",
    "pipeline.replace_with_random_split(0,[(2, control), (1, challenger)]))\n",
    "```\n",
    "\n",
    "In either case, the random split will randomly send inference data to one model based on the weighted ratio.  As more inferences are performed, the ratio between the champion and challengers will align more and more to the ratio specified.\n",
    "\n",
    "Reference:  [Wallaroo SDK Essentials Guide: Pipeline Management A/B Testing\n",
    "](https://docs.wallaroo.ai/wallaroo-developer-guides/wallaroo-sdk-guides/wallaroo-sdk-essentials-guide/wallaroo-sdk-essentials-pipeline/#ab-testing)."
   ]
  },
  {
   "attachments": {},
   "cell_type": "markdown",
   "id": "16c43b5c-78b9-4ab1-ac67-c2da03149ba6",
   "metadata": {},
   "source": [
    "Then creating an A/B test deployment would look something like this:\n",
    "\n",
    "First get the models used.\n",
    "\n",
    "```\n",
    "# retrieve handles to the most recent versions \n",
    "# of the champion and challenger models\n",
    "champion = get_model(\"champion\")\n",
    "challenger = get_model(\"challenger\")\n",
    "\n",
    "```\n"
   ]
  },
  {
   "cell_type": "code",
   "execution_count": null,
   "id": "9a13d3c9-8045-4694-9b42-3f7e523c70ee",
   "metadata": {},
   "outputs": [],
   "source": [
    "# blank space to get the model(s)\n"
   ]
  },
  {
   "attachments": {},
   "cell_type": "markdown",
   "id": "df4b5024",
   "metadata": {},
   "source": [
    "Second step is to retrieve the pipeline created in the previous Notebook, then redeploy it with the A/B testing split step.\n",
    "\n",
    "Here's some sample code:\n",
    "\n",
    "```python\n",
    "# get an existing single-step pipeline and undeploy it\n",
    "pipeline = get_pipeline(\"pipeline\")\n",
    "pipeline.undeploy()\n",
    "\n",
    "# clear the pipeline and add a random split\n",
    "pipeline.clear()\n",
    "pipeline.add_random_split([(2, champion), (1, challenger)])\n",
    "pipeline.deploy()\n",
    "```\n",
    "\n",
    "The above code clears out all the steps of the pipeline and adds a new step with a A/B test deployment, where the incoming data is randomly sent in a 2:1 ratio to the champion and the challenger, respectively.\n",
    "\n",
    "You can add multiple challengers to an A/B test::\n",
    "\n",
    "```\n",
    "pipeline.add_random_split([ (2, champion), (1, challenger01), (1, challenger02) ])\n",
    "```\n",
    "\n",
    "This pipeline will distribute data in the ratio 2:1:1 (or half to the champion, a quarter each to the challlengers) to the champion and challenger models, respectively.\n",
    "\n",
    "You can also create an A/B test deployment from scratch:\n",
    "\n",
    "```\n",
    "pipeline = wl.build_pipeline(\"pipeline\")\n",
    "pipeline.add_random_split([(2, champion), (1, challenger)])\n",
    "```\n",
    "\n",
    "<hr/>\n",
    "\n",
    "#### Exercise: Create an A/B test deployment of your house price models\n",
    "\n",
    "Use the champion and challenger models that you created in the previous exercises to create an A/B test deployment. You can either create one from scratch, or reconfigure an existing pipeline. \n",
    "\n",
    "* Send half the data to the champion, and distribute the rest among the challenger(s).\n",
    "\n",
    "At the end of this exercise, you should have an A/B test deployment and be ready to compare  multiple models.\n"
   ]
  },
  {
   "cell_type": "code",
   "execution_count": null,
   "id": "d5e70bd0",
   "metadata": {},
   "outputs": [],
   "source": [
    "# blank space to retrieve pipeline and redeploy with a/b testing step\n"
   ]
  },
  {
   "attachments": {},
   "cell_type": "markdown",
   "id": "16f7d416",
   "metadata": {},
   "source": [
    "The pipeline steps are displayed with the Pipeline `steps()` method.  This is used to verify the current **deployed** steps in the pipeline.\n",
    "\n",
    "* **IMPORTANT NOTE**: Verify that the pipeline is deployed before checking for pipeline steps.  Deploying the pipeline sets the steps into the Wallaroo system - until that happens, the steps only exist in the local system as *potential* steps."
   ]
  },
  {
   "cell_type": "code",
   "execution_count": null,
   "id": "90bbef0a",
   "metadata": {},
   "outputs": [],
   "source": [
    "# blank space to get the current pipeline steps\n"
   ]
  },
  {
   "attachments": {},
   "cell_type": "markdown",
   "id": "300a8d2a-58ee-44c5-b887-65f8da999fa3",
   "metadata": {},
   "source": [
    "Please note that for batch inferences, the entire batch will be sent to the same model. So in order to verify that your pipeline is distributing inferences in the proportion you specified, you will need to send your queries one datum at a time.\n",
    "\n",
    "To help with the next exercise, here is another convenience function you might find useful."
   ]
  },
  {
   "cell_type": "code",
   "execution_count": null,
   "id": "41df523d-b4bd-441c-a1ac-364828879019",
   "metadata": {},
   "outputs": [],
   "source": [
    "# get the names of the inferring models\n",
    "# from a dataframe of a/b test results\n",
    "def get_names(resultframe):\n",
    "    modelcol = resultframe['out._model_split']\n",
    "    jsonstrs = [mod[0]  for mod in modelcol]\n",
    "    return [json.loads(jstr)['name'] for jstr in jsonstrs]"
   ]
  },
  {
   "attachments": {},
   "cell_type": "markdown",
   "id": "73bdf844-6d07-4d41-acd9-7203eb0c3b41",
   "metadata": {},
   "source": [
    "Here's an example of how to send a large number of queries one at a time to your pipeline in the SDK\n",
    "\n",
    "```\n",
    "results = []\n",
    "\n",
    "# get a list of result frames\n",
    "for i in range(1000):\n",
    "    query = get_singleton(testdata, i)\n",
    "    results.append(pipeline.infer(query))\n",
    "\n",
    "# make one data frame of all results    \n",
    "allresults = pd.concat(results, ignore_index=True)\n",
    "\n",
    "# add a column to indicate which model made the inference\n",
    "allresults['modelname'] = get_names(allresults)\n",
    "\n",
    "# get the counts of how many inferences were made by each model\n",
    "allresults.modelname.value_counts()\n",
    "```  \n",
    "\n",
    "* **NOTE**:  Performing 1,000 inferences sequentially may take several minutes to complete.  Adjust the range for time as required.\n",
    "\n",
    "As with the single-step pipeline, the model predictions will be in a column named `out.<outputname>`. In addition, there will be a column named `out._model_split`  that contains information about the model that made a particular prediction. The `get_names()` convenience function above extracts the model name from the `out._model_split` column.\n",
    "\n",
    "<hr/>\n",
    "\n",
    "#### Exercise: Send some queries to your A/B test deployment\n",
    "\n",
    "1. Send a single datum to the A/B test pipeline you created in the previous exercise. You can use the same test data set that you created/downloaded in the previous notebook. Observe what the inference result looks like. If you send the singleton through the pipeline multiple times, you should observe that the model making the inference changes.\n",
    "2. Send a large number of queries (at least 100) one at a time to the pipeline.\n",
    "  * Note that approximately half the inferences were made by the champion model.\n",
    "  * The remaining inferences should be distributed as you specified.\n",
    "\n",
    "The more queries you send, the closer the distribution should be to what you specified.\n",
    "\n",
    "If you can align the actual house prices from your test data to the predictions, you can also compare the accuracy of the different models.\n",
    "\n",
    "**Don't forget to undeploy your pipeline after you are done**, to free up resources."
   ]
  },
  {
   "cell_type": "code",
   "execution_count": null,
   "id": "a0501188-52a7-4ac7-8325-d11202589650",
   "metadata": {},
   "outputs": [],
   "source": [
    "## blank space to test one inference\n",
    "\n",
    "##  blank space to create test data, and send some data to your model\n"
   ]
  },
  {
   "cell_type": "code",
   "execution_count": null,
   "id": "f18e1308-4c98-4b8e-8dcf-d7520b8ce705",
   "metadata": {},
   "outputs": [],
   "source": [
    "# blank space to send queries to A/B test pipeline and examine the results\n"
   ]
  },
  {
   "attachments": {},
   "cell_type": "markdown",
   "id": "4b0d8f88-8cb0-464c-97f0-d4b087ecb6d9",
   "metadata": {},
   "source": [
    "## Shadow Deployments\n",
    "\n",
    "Another way to vet your new model is to set it up in a shadow deployment. With shadow deployments, all the models in the experiment pipeline get all the data, and all inferences are recorded. However, the pipeline returns only one \"official\" prediction: the one from default, or champion model.\n",
    "\n",
    "Shadow deployments are useful for \"sanity checking\" a model before it goes truly live. For example, you might have built a smaller, leaner version of an existing model using knowledge distillation or other model optimization techniques, as discussed [here](https://wallaroo.ai/how-to-accelerate-computer-vision-model-inference/). A shadow deployment of the new model alongside the original model can help ensure that the new model meets desired accuracy and performance requirements before it's put into production.\n",
    "\n",
    "As an example of creating a shadow deployment, suppose you have a champion model called \"champion\", that you have been running in a one-step pipeline called \"pipeline\". You now want to put a challenger model called \"challenger\" into a shadow deployment with the champion. Both models have already been uploaded. \n",
    "\n",
    "Shadow deployments can be **added** as a pipeline step, or **replace** an existing pipeline step.\n",
    "\n",
    "Shadow deployment steps are added with the `add_shadow_deploy(champion, [model2, model3,...])` method, where the `champion` is the model that the inference results will be returned.  The array of models listed after are the models where inference data is also submitted with their results displayed as as shadow inference results.\n",
    "\n",
    "Shadow deployment steps replace an existing pipeline step with the  `replace_with_shadow_deploy(index, champion, [model2, model3,...])` method.  The `index` is the step being replaced with pipeline steps starting at 0, and the `champion` is the model that the inference results will be returned.  The array of models listed after are the models where inference data is also submitted with their results displayed as as shadow inference results.\n",
    "\n",
    "Then creating a shadow deployment from a previously created (and deployed) pipeline could look something like this:\n",
    "\n",
    "```\n",
    "# retrieve handles to the most recent versions \n",
    "# of the champion and challenger models\n",
    "# see the A/B test section for the definition of get_model()\n",
    "champion = get_model(\"champion\")\n",
    "challenger = get_model(\"challenger\")\n",
    "\n",
    "# get the existing pipeline and undeploy it\n",
    "# see the A/B test section for the definition of get_pipeline()\n",
    "pipeline = get_pipeline(\"pipeline\")\n",
    "pipeline.undeploy()\n",
    "\n",
    "# clear the pipeline and add a shadow deploy step\n",
    "pipeline.clear()\n",
    "pipeline.add_shadow_deploy(champion, [challenger])\n",
    "pipeline.deploy()\n",
    "```\n",
    "\n",
    "The above code clears the pipeline and adds a shadow deployment. The pipeline will still only return the inferences from the champion model, but it will also run the challenger model in parallel and log the inferences, so that you can compare what all the models do on the same inputs.\n",
    "\n",
    "You can add multiple challengers to a shadow deploy:\n",
    "\n",
    "```\n",
    "pipeline.add_shadow_deploy(champion, [challenger01, challenger02])\n",
    "```\n",
    "\n",
    "You can also create a shadow deployment from scratch with a new pipeline.  This example just uses two models - one champion, one challenger.\n",
    "\n",
    "```\n",
    "newpipeline = wl.build_pipeline(\"pipeline\")\n",
    "newpipeline.add_shadow_deploy(champion, [challenger])\n",
    "```\n",
    "\n",
    "<hr/>\n",
    "\n",
    "#### Exercise: Create a house price model shadow deployment\n",
    "\n",
    "Use the champion and challenger models that you created in the previous exercises to create a shadow deployment. You can either create one from scratch, or reconfigure an existing pipeline.\n",
    "\n",
    "At the end of this exercise, you should have a shadow deployment running multiple models in parallel.\n"
   ]
  },
  {
   "cell_type": "code",
   "execution_count": null,
   "id": "6ec27c70-e858-405a-9ff1-1909c08bff4d",
   "metadata": {},
   "outputs": [],
   "source": [
    "# blank space to create a shadow deployment\n"
   ]
  },
  {
   "attachments": {},
   "cell_type": "markdown",
   "id": "95b93beb-72a8-4075-a70b-6e474ad60b53",
   "metadata": {},
   "source": [
    "Since a shadow deployment returns multiple predictions for a single datum, its inference result will look a little different from those of an A/B test or a single-step pipelne. The next exercise will show you how to examine all the inferences from all the models.\n",
    "\n",
    "<hr/>\n",
    "\n",
    "#### Exercise: Examine shadow deployment inferences\n",
    "\n",
    "Use the test data that you created in a previous exercise to send a single datum to the shadow deployment that you created in the previous exercise.\n",
    "\n",
    "* Observe the inference result\n",
    "* You should see a column called `out.<outputname>`; this is the prediction from the champion model. It is the \"official\" prediction from the pipeline. If you used the same champion model in the A/B test exercise above, and in the single-step pipeline from the previous notebook, you should see the inference results from all those pipelines was also called `out.<outputname>`.\n",
    "* You should also see a column called `out_<challengermodel>.<outputname>` (or more than one, if you had multiple challengers). These are the predictions from the challenger models. \n",
    "\n",
    "For example, if your champion model is called \"champion\", your challenger model is called \"challenger\", and the outputname is \"output\",\n",
    "then you should see the \"official\" prediction `out.output` and the shadow prediction `out_challenger.output`.\n",
    "\n",
    "**Save the datum and the inference result from this exercise.** You will need it for the next exercise."
   ]
  },
  {
   "cell_type": "code",
   "execution_count": null,
   "id": "40438710-16eb-4eee-9129-c3b1d6241db8",
   "metadata": {},
   "outputs": [],
   "source": [
    "# blank space to send an inference and examine the result\n"
   ]
  },
  {
   "attachments": {},
   "cell_type": "markdown",
   "id": "0de32a40-5b54-45e7-af9e-c3b9525c4e61",
   "metadata": {},
   "source": [
    "## After the Experiment: Swapping in New Models\n",
    "\n",
    "You have seen two methods to validate models in production with test (challenger) models. \n",
    "The end result of an experiment is a decision about which model becomes the new champion. Let's say that you have been running the shadow deployment that you created in the previous exercise,  and you have decided that you want to replace the model \"champion\" with the model \"challenger\". To do this, you will clear all the steps out of the pipeline, and add only \"challenger\" back in.\n",
    "\n",
    "```\n",
    "# retrieve a handle to the challenger model\n",
    "# see the A/B test section for the definition of get_model()\n",
    "challenger = get_model(\"challenger\")\n",
    "\n",
    "# get the existing pipeline and undeploy it\n",
    "# see the A/B test section for the definition of get_pipeline()\n",
    "pipeline = get_pipeline(\"pipeline\")\n",
    "pipeline.undeploy()\n",
    "\n",
    "# clear out all the steps and add the champion back in \n",
    "pipeline.clear() \n",
    "pipeline.add_model_step(challenger).deploy()\n",
    "```\n",
    "\n",
    "<hr/> \n",
    "\n",
    "#### Exercise: Set a challenger model as the new active model\n",
    "\n",
    "Pick one of your challenger models as the new champion, and reconfigure your shadow deployment back into a single-step pipeline with the new chosen model.\n",
    "\n",
    "* Run the test datum from the previous exercise through the reconfigured pipeline.\n",
    "* Compare the results to the results from the previous exercise.\n",
    "* Notice that the pipeline predictions are different from the old champion, and consistent with the new one.\n",
    "\n",
    "At the end of this exercise, you should have a single step pipeline, running a new model.\n",
    "\n"
   ]
  },
  {
   "cell_type": "code",
   "execution_count": null,
   "id": "cf9d6835-8475-4cfd-a433-f470003673f2",
   "metadata": {},
   "outputs": [],
   "source": [
    "# Blank space - remove all steps, then redeploy with new champion model\n",
    "\n",
    "\n"
   ]
  },
  {
   "attachments": {},
   "cell_type": "markdown",
   "id": "e3285520-c245-4f9b-8aac-6e7221456413",
   "metadata": {},
   "source": [
    "## Congratulations!\n",
    "\n",
    "You have now \n",
    "* successfully trained new challenger models for the house price prediction problem\n",
    "* compared your models using an A/B test\n",
    "* compared your models using a shadow deployment\n",
    "* replaced your old model for a new one in the house price prediction pipeline\n",
    "\n",
    "In the next notebook, you will learn how to monitor your production pipeline for \"anomalous\" or out-of-range behavior.\n",
    "\n",
    "\n",
    "### Cleaning up.\n",
    "\n",
    "At this point, if you are not continuing on to the next notebook, undeploy your pipeline(s) to give the resources back to the environment."
   ]
  },
  {
   "cell_type": "code",
   "execution_count": null,
   "id": "15436251-ea58-4f5e-a861-0ffde818748e",
   "metadata": {},
   "outputs": [],
   "source": [
    "## blank space to undeploy the pipelines\n"
   ]
  }
 ],
 "metadata": {
  "kernelspec": {
   "display_name": "Python 3 (ipykernel)",
   "language": "python",
   "name": "python3"
  },
  "language_info": {
   "codemirror_mode": {
    "name": "ipython",
    "version": 3
   },
   "file_extension": ".py",
   "mimetype": "text/x-python",
   "name": "python",
   "nbconvert_exporter": "python",
   "pygments_lexer": "ipython3",
   "version": "3.8.17"
  }
 },
 "nbformat": 4,
 "nbformat_minor": 5
}
