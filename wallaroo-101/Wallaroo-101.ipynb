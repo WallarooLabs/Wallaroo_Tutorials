{
 "cells": [
  {
   "cell_type": "markdown",
   "metadata": {
    "jp-MarkdownHeadingCollapsed": true,
    "tags": []
   },
   "source": [
    "The Wallaroo 101 tutorial can be downloaded as part of the [Wallaroo Tutorials repository](https://github.com/WallarooLabs/Wallaroo_Tutorials/tree/main/wallaroo-101).\n",
    "\n",
    "## Introduction\n",
    "\n",
    "Welcome to the Wallaroo, the fastest, easiest, and most efficient production ready machine learning system.\n",
    "\n",
    "This tutorial is created to help you get started with Wallaroo right away.  We'll start with a brief explanation of how Wallaroo works, then provide the credit card fraud detection model so you can see it working.\n",
    "\n",
    "This guide assumes that you've installed Wallaroo in your cloud Kubernetes cluster.  This can be either:\n",
    "\n",
    "* Amazon Web Services (AWS)\n",
    "* Microsoft Azure\n",
    "* Google Cloud Platform\n",
    "\n",
    "For instructions on setting up your cloud Kubernetes environment, check out the [Wallaroo Environment Setup Guides](https://docs.wallaroo.ai/wallaroo-operations-guide/wallaroo-setup-environment/) for your particular cloud provider.\n",
    "\n",
    "### How to Use This Notebook\n",
    "\n",
    "It is recommended that you run this notebook command at a time so you can see the results and make any changes you need based on your own environment."
   ]
  },
  {
   "cell_type": "markdown",
   "metadata": {},
   "source": [
    "## SDK Introduction\n",
    "\n",
    "The Wallaroo SDK lets you quickly get your models working with your data and getting results.  The typical flow follows these steps:\n",
    "\n",
    "* **Connect**:  Connect to your Wallaroo Instance.\n",
    "* **Create or Connect to a Workspace**:  Create a new workspace that will contain your models and pipelines, or connect to an existing one.\n",
    "* **Upload or Use Existing Models**:  Upload your models to your workspace, or use ones that have already been uploaded.\n",
    "* **Create or Use Existing Pipelines**:  Create or use an existing pipeline.  This is where you'll set the **steps** that will ingest your data, submit it through each successive model, then return a result.\n",
    "* **Deploy Your Pipeline**:  Deploying a pipeline allocates resources from your Kubernetes environment for your models.\n",
    "* **Run an Inference**:  This is where it all comes together.  Submit data through your pipeline either as a file or to your pipeline's deployment url, and get results.\n",
    "* **Undeploy Your Pipeline**:  This returns the Kubernetes resources your pipeline used back to the Kubernetes environment.\n",
    "\n",
    "For a more detailed rundown of the Wallaroo SDK, see the [Wallaroo SDK Essentials Guide](https://docs.wallaroo.ai/wallaroo-sdk/wallaroo-sdk-essentials-guide/)."
   ]
  },
  {
   "cell_type": "markdown",
   "metadata": {},
   "source": [
    "### Introduction to Workspaces\n",
    "\n",
    "A Wallaroo **Workspace** allows you to manage a set of models and pipelines.  You can assign users to a workspace as either an **owner** or **collaborator**.\n",
    "\n",
    "When working within the Wallaroo SDK, the first thing you'll do after connecting is either create a workspace or set an existing workspace your **current workspace**.  From that point on, all models uploaded and pipelines created or used will be in the context of the current workspace."
   ]
  },
  {
   "cell_type": "markdown",
   "metadata": {},
   "source": [
    "### Introduction to Models\n",
    "\n",
    "A Wallaroo **model** is a trained Machine Learning model that is uploaded to your current workspace.  These are the engines that take in data, run it through whatever process they have been trained for, and return a result.\n",
    "\n",
    "Models don't work in a vacuum - they are allocated to a pipeline as detailed in the next step."
   ]
  },
  {
   "cell_type": "markdown",
   "metadata": {},
   "source": [
    "### Introduction to Pipelines\n",
    "\n",
    "A Wallaroo **pipeline** is where the real work occurs.  A pipeline contains a series of **steps** - sequential sets of models which take in the data from the preceding step, process it through the model, then return a result.  Some models can be simple, such as the `cc_fraud` example listed below where the pipeline has only one step:\n",
    "\n",
    "* Step 0: Take in data\n",
    "* Step 1: Submit data to the model `ccfraudModel`.\n",
    "* Step Final:  Return a result\n",
    "\n",
    "Some models can be more complex with a whole series of models - and those results can be submitted to still other pipeline.  You can make pipelines as simple or complex as long as it meets your needs.\n",
    "\n",
    "Once a step is created you can add additional steps, remove a step, or swap one out until everything is running perfectly.\n",
    "\n",
    "**Note**: The Community Edition of Wallaroo limits users to two active pipelines, with a maximum of five steps per pipeline."
   ]
  },
  {
   "cell_type": "markdown",
   "metadata": {},
   "source": [
    "With all of that introduction out of the way, let's proceed to our Credit Card Detection Model.\n",
    "\n",
    "This example will demonstrate how to use Wallaroo to detect credit card fraud through a trained model and sample data.  By the end of this example, you'll be able to:\n",
    "\n",
    "* Start the Wallaroo client.\n",
    "* Create a workspace.\n",
    "* Upload the credit card fraud detection model to the workspace.\n",
    "* Create a new pipeline and set it to our credit card fraud detection model.\n",
    "* Run a smoke test to verify the pipeline and model is working properly.\n",
    "* Perform a bulk inference and display the results.\n",
    "* Undeploy the pipeline to get back the resources from our Kubernetes cluster.\n",
    "\n",
    "This example and sample data comes from the Machine Learning Group's demonstration on [Credit Card Fraud detection](https://www.kaggle.com/datasets/mlg-ulb/creditcardfraud)."
   ]
  },
  {
   "cell_type": "markdown",
   "metadata": {},
   "source": [
    "## Open a Connection to Wallaroo\n",
    "\n",
    "The first step is to connect to Wallaroo through the Wallaroo client.  The Python library is included in the Wallaroo install and available through the Jupyter Hub interface provided with your Wallaroo environment.\n",
    "\n",
    "This is accomplished using the `wallaroo.Client()` command, which provides a URL to grant the SDK permission to your specific Wallaroo environment.  When displayed, enter the URL into a browser and confirm permissions.  Store the connection into a variable that can be referenced later.\n",
    "\n",
    "If logging into the Wallaroo instance through the internal JupyterHub service, use `wl = wallaroo.Client()`.  If logging in externally, update the `wallarooPrefix` and `wallarooSuffix` variables with the proper DNS information.  For more information on Wallaroo DNS settings, see the [Wallaroo DNS Integration Guide](https://docs.wallaroo.ai/wallaroo-operations-guide/wallaroo-configuration/wallaroo-dns-guide/)."
   ]
  },
  {
   "cell_type": "code",
   "execution_count": 1,
   "metadata": {},
   "outputs": [],
   "source": [
    "import wallaroo\n",
    "from wallaroo.object import EntityNotFoundError\n",
    "import pandas as pd\n",
    "import json\n",
    "from IPython.display import display\n",
    "\n",
    "# used to display dataframe information without truncating\n",
    "pd.set_option('display.max_colwidth', None)"
   ]
  },
  {
   "cell_type": "code",
   "execution_count": null,
   "metadata": {},
   "outputs": [],
   "source": [
    "wallaroo.__version__"
   ]
  },
  {
   "cell_type": "code",
   "execution_count": null,
   "metadata": {},
   "outputs": [],
   "source": [
    "# Login through local Wallaroo instance\n",
    "\n",
    "wl = wallaroo.Client()\n",
    "\n",
    "# SSO login through keycloak\n",
    "\n",
    "# wallarooPrefix = \"YOUR PREFIX\"\n",
    "# wallarooSuffix = \"YOUR SUFFIX\"\n",
    "\n",
    "# wl = wallaroo.Client(api_endpoint=f\"https://{wallarooPrefix}.api.{wallarooSuffix}\", \n",
    "#                     auth_endpoint=f\"https://{wallarooPrefix}.keycloak.{wallarooSuffix}\", \n",
    "#                     auth_type=\"sso\")"
   ]
  },
  {
   "cell_type": "markdown",
   "metadata": {},
   "source": [
    "### Arrow Support\n",
    "\n",
    "As of the 2023.1 release, Wallaroo provides support for dataframe and Arrow for inference inputs.  This tutorial allows users to adjust their experience based on whether they have enabled Arrow support in their Wallaroo instance or not.\n",
    "\n",
    "If Arrow support has been enabled, `arrowEnabled=True`. If disabled or you're not sure, set it to `arrowEnabled=False`\n",
    "\n",
    "The examples below will be shown in an arrow enabled environment."
   ]
  },
  {
   "cell_type": "code",
   "execution_count": 4,
   "metadata": {},
   "outputs": [],
   "source": [
    "import os\n",
    "arrowEnabled=True\n",
    "os.environ[\"ARROW_ENABLED\"]=f\"{arrowEnabled}\"\n"
   ]
  },
  {
   "cell_type": "markdown",
   "metadata": {},
   "source": [
    "## Create a New Workspace\n",
    "\n",
    "Next we're going to create a new workspace called `ccfraudworkspace` for our model, then set it as our current workspace context.  We'll be doing this through the SDK, but here's an example of doing it through the Wallaroo dashboard.\n",
    "\n",
    "The method we'll introduce below will either **create** a new workspace if it doesn't exist, or **select** an existing workspace.  So if you create the workspace `ccfraudworkspace` then you're covered either way.\n",
    "\n",
    "The first part is to return to your Wallaroo Dashboard.  In the top navigation panel next to your user name there's a drop down with your workspaces.  In this example it just has \"My Workspace\".  Select **View Workspaces**.\n",
    "\n",
    "![Select View Workspaces](./images/wallaroo-101/wallaroo-dashboard-select-view-workspaces.png)"
   ]
  },
  {
   "cell_type": "markdown",
   "metadata": {},
   "source": [
    "From here, enter the name of our new workspace as `ccfraud-workspace`.  If it already exists, you can skip this step.\n",
    "\n",
    "* **IMPORTANT NOTE**:  Workspaces do not have forced unique names.  It is highly recommended to use an existing workspace when possible, or establish a naming convention for your workspaces to keep their names unique to remove confusion with teams.\n",
    "\n",
    "![Create ccfraud-workspace](./images/wallaroo-101/wallaroo-dashboard-create-workspace-ccfraud.png)"
   ]
  },
  {
   "cell_type": "markdown",
   "metadata": {},
   "source": [
    "Once complete, you'll be able to select the workspace from the drop down list in your dashboard.\n",
    "\n",
    "![ccfraud-workspace exists](./images/wallaroo-101/wallaroo-dashboard-ccfraud-workspace-exists.png)"
   ]
  },
  {
   "cell_type": "markdown",
   "metadata": {},
   "source": [
    "Just for the sake of this tutorial, we'll use the SDK below to create our workspace , assign as our **current workspace**, then display all of the workspaces we have at the moment.  We'll also set up for our models and pipelines down the road, so we have one spot to change names to whatever fits your organization's standards best.\n",
    "\n",
    "To allow this tutorial to be run multiple times or by multiple users in the same Wallaroo instance, a random 4 character prefix will be added to the workspace, pipeline, and model.\n",
    "\n",
    "When we create our new workspace, we'll save it in the Python variable `workspace` so we can refer to it as needed."
   ]
  },
  {
   "cell_type": "code",
   "execution_count": 5,
   "metadata": {},
   "outputs": [],
   "source": [
    "import string\n",
    "import random\n",
    "\n",
    "# make a random 4 character prefix\n",
    "prefix= ''.join(random.choice(string.ascii_lowercase) for i in range(4))\n",
    "workspace_name = f'{prefix}ccfraudworkspace'\n",
    "pipeline_name = f'{prefix}ccfraudpipeline'\n",
    "model_name = f'{prefix}ccfraudmodel'\n",
    "model_file_name = './ccfraud.onnx'"
   ]
  },
  {
   "cell_type": "code",
   "execution_count": 6,
   "metadata": {},
   "outputs": [],
   "source": [
    "def get_workspace(name):\n",
    "    workspace = None\n",
    "    for ws in wl.list_workspaces():\n",
    "        if ws.name() == name:\n",
    "            workspace= ws\n",
    "    if(workspace == None):\n",
    "        workspace = wl.create_workspace(name)\n",
    "    return workspace\n",
    "\n",
    "def get_pipeline(name):\n",
    "    try:\n",
    "        pipeline = wl.pipelines_by_name(pipeline_name)[0]\n",
    "    except EntityNotFoundError:\n",
    "        pipeline = wl.build_pipeline(pipeline_name)\n",
    "    return pipeline"
   ]
  },
  {
   "cell_type": "code",
   "execution_count": 7,
   "metadata": {},
   "outputs": [
    {
     "data": {
      "text/plain": [
       "{'name': 'gipvccfraudworkspace', 'id': 57, 'archived': False, 'created_by': '39bf22e5-bb55-40ce-b1ab-36eed7a29150', 'created_at': '2023-02-15T23:06:48.703089+00:00', 'models': [], 'pipelines': []}"
      ]
     },
     "execution_count": 7,
     "metadata": {},
     "output_type": "execute_result"
    }
   ],
   "source": [
    "workspace = get_workspace(workspace_name)\n",
    "\n",
    "wl.set_current_workspace(workspace)"
   ]
  },
  {
   "cell_type": "code",
   "execution_count": 8,
   "metadata": {},
   "outputs": [
    {
     "data": {
      "text/html": [
       "\n",
       "        <table>\n",
       "            <tr>\n",
       "                <th>Name</th>\n",
       "                <th>Created At</th>\n",
       "                <th>Users</th>\n",
       "                <th>Models</th>\n",
       "                <th>Pipelines</th>\n",
       "            </tr>\n",
       "            \n",
       "        <tr >\n",
       "            <td>john.hansarick@wallaroo.ai - Default Workspace</td>\n",
       "            <td>2023-02-09 15:19:32</td>\n",
       "            <td>['john.hansarick@wallaroo.ai']</td>\n",
       "            <td>0</td>\n",
       "            <td>0</td>\n",
       "        </tr>\n",
       "        \n",
       "\n",
       "        <tr >\n",
       "            <td>jch-abtestworkspace</td>\n",
       "            <td>2023-02-09 15:56:46</td>\n",
       "            <td>['john.hansarick@wallaroo.ai']</td>\n",
       "            <td>2</td>\n",
       "            <td>1</td>\n",
       "        </tr>\n",
       "        \n",
       "\n",
       "        <tr >\n",
       "            <td>jch-ccfraudworkspacearrow</td>\n",
       "            <td>2023-02-09 21:49:18</td>\n",
       "            <td>['john.hansarick@wallaroo.ai']</td>\n",
       "            <td>1</td>\n",
       "            <td>1</td>\n",
       "        </tr>\n",
       "        \n",
       "\n",
       "        <tr >\n",
       "            <td>jchdataframeccfraudworkspacearrow</td>\n",
       "            <td>2023-02-10 21:05:15</td>\n",
       "            <td>['john.hansarick@wallaroo.ai']</td>\n",
       "            <td>1</td>\n",
       "            <td>1</td>\n",
       "        </tr>\n",
       "        \n",
       "\n",
       "        <tr >\n",
       "            <td>jchexternal-ccfraudworkspacearrow</td>\n",
       "            <td>2023-02-10 21:42:22</td>\n",
       "            <td>['john.hansarick@wallaroo.ai']</td>\n",
       "            <td>1</td>\n",
       "            <td>1</td>\n",
       "        </tr>\n",
       "        \n",
       "\n",
       "        <tr >\n",
       "            <td>jchexternal2-ccfraudworkspacearrow</td>\n",
       "            <td>2023-02-10 21:45:29</td>\n",
       "            <td>['john.hansarick@wallaroo.ai']</td>\n",
       "            <td>1</td>\n",
       "            <td>1</td>\n",
       "        </tr>\n",
       "        \n",
       "\n",
       "        <tr >\n",
       "            <td>demandcurveworkspace</td>\n",
       "            <td>2023-02-10 22:16:10</td>\n",
       "            <td>['john.hansarick@wallaroo.ai']</td>\n",
       "            <td>3</td>\n",
       "            <td>1</td>\n",
       "        </tr>\n",
       "        \n",
       "\n",
       "        <tr >\n",
       "            <td>jcharrow-imdbworkspace</td>\n",
       "            <td>2023-02-10 22:54:57</td>\n",
       "            <td>['john.hansarick@wallaroo.ai']</td>\n",
       "            <td>2</td>\n",
       "            <td>1</td>\n",
       "        </tr>\n",
       "        \n",
       "\n",
       "        <tr >\n",
       "            <td>imdbworkspace</td>\n",
       "            <td>2023-02-10 23:10:18</td>\n",
       "            <td>['john.hansarick@wallaroo.ai']</td>\n",
       "            <td>2</td>\n",
       "            <td>1</td>\n",
       "        </tr>\n",
       "        \n",
       "\n",
       "        <tr >\n",
       "            <td>hotswapworkspace</td>\n",
       "            <td>2023-02-10 23:18:49</td>\n",
       "            <td>['john.hansarick@wallaroo.ai']</td>\n",
       "            <td>2</td>\n",
       "            <td>1</td>\n",
       "        </tr>\n",
       "        \n",
       "\n",
       "        <tr >\n",
       "            <td>jcharrowbinary-ccfraudworkspacearrow</td>\n",
       "            <td>2023-02-13 19:18:09</td>\n",
       "            <td>['john.hansarick@wallaroo.ai']</td>\n",
       "            <td>1</td>\n",
       "            <td>1</td>\n",
       "        </tr>\n",
       "        \n",
       "\n",
       "        <tr >\n",
       "            <td>mpxpccfraudworkspace</td>\n",
       "            <td>2023-02-15 17:33:13</td>\n",
       "            <td>['john.hansarick@wallaroo.ai']</td>\n",
       "            <td>1</td>\n",
       "            <td>1</td>\n",
       "        </tr>\n",
       "        \n",
       "\n",
       "        <tr >\n",
       "            <td>eqejccfraudworkspace</td>\n",
       "            <td>2023-02-15 20:38:17</td>\n",
       "            <td>['john.hansarick@wallaroo.ai']</td>\n",
       "            <td>1</td>\n",
       "            <td>1</td>\n",
       "        </tr>\n",
       "        \n",
       "\n",
       "        <tr >\n",
       "            <td>dhlyccfraudworkspace</td>\n",
       "            <td>2023-02-15 21:33:51</td>\n",
       "            <td>['john.hansarick@wallaroo.ai']</td>\n",
       "            <td>1</td>\n",
       "            <td>1</td>\n",
       "        </tr>\n",
       "        \n",
       "\n",
       "        <tr >\n",
       "            <td>kmrtccfraudworkspace</td>\n",
       "            <td>2023-02-15 21:46:55</td>\n",
       "            <td>['john.hansarick@wallaroo.ai']</td>\n",
       "            <td>1</td>\n",
       "            <td>1</td>\n",
       "        </tr>\n",
       "        \n",
       "\n",
       "        <tr >\n",
       "            <td>laotccfraudworkspace</td>\n",
       "            <td>2023-02-15 22:08:04</td>\n",
       "            <td>['john.hansarick@wallaroo.ai']</td>\n",
       "            <td>1</td>\n",
       "            <td>1</td>\n",
       "        </tr>\n",
       "        \n",
       "\n",
       "        <tr >\n",
       "            <td>jquqccfraudworkspace</td>\n",
       "            <td>2023-02-15 22:41:57</td>\n",
       "            <td>['john.hansarick@wallaroo.ai']</td>\n",
       "            <td>1</td>\n",
       "            <td>1</td>\n",
       "        </tr>\n",
       "        \n",
       "\n",
       "        <tr >\n",
       "            <td>gipvccfraudworkspace</td>\n",
       "            <td>2023-02-15 23:06:48</td>\n",
       "            <td>['john.hansarick@wallaroo.ai']</td>\n",
       "            <td>0</td>\n",
       "            <td>0</td>\n",
       "        </tr>\n",
       "        \n",
       "        </table>\n",
       "        "
      ],
      "text/plain": [
       "[{'name': 'john.hansarick@wallaroo.ai - Default Workspace', 'id': 20, 'archived': False, 'created_by': '39bf22e5-bb55-40ce-b1ab-36eed7a29150', 'created_at': '2023-02-09T15:19:32.613295+00:00', 'models': [], 'pipelines': []},\n",
       " {'name': 'jch-abtestworkspace', 'id': 22, 'archived': False, 'created_by': '39bf22e5-bb55-40ce-b1ab-36eed7a29150', 'created_at': '2023-02-09T15:56:46.633626+00:00', 'models': [{'name': 'aloha-control', 'versions': 3, 'owner_id': '\"\"', 'last_update_time': datetime.datetime(2023, 2, 9, 20, 51, 25, 405835, tzinfo=tzutc()), 'created_at': datetime.datetime(2023, 2, 9, 15, 56, 47, 79783, tzinfo=tzutc())}, {'name': 'aloha-challenger', 'versions': 3, 'owner_id': '\"\"', 'last_update_time': datetime.datetime(2023, 2, 9, 20, 51, 26, 518494, tzinfo=tzutc()), 'created_at': datetime.datetime(2023, 2, 9, 15, 56, 47, 317142, tzinfo=tzutc())}], 'pipelines': [{'name': 'randomsplitpipeline-demo', 'create_time': datetime.datetime(2023, 2, 9, 15, 56, 47, 375680, tzinfo=tzutc()), 'definition': '[]'}]},\n",
       " {'name': 'jch-ccfraudworkspacearrow', 'id': 23, 'archived': False, 'created_by': '39bf22e5-bb55-40ce-b1ab-36eed7a29150', 'created_at': '2023-02-09T21:49:18.730848+00:00', 'models': [{'name': 'jch-ccfraudmodelarrow', 'versions': 1, 'owner_id': '\"\"', 'last_update_time': datetime.datetime(2023, 2, 9, 21, 49, 28, 449044, tzinfo=tzutc()), 'created_at': datetime.datetime(2023, 2, 9, 21, 49, 28, 449044, tzinfo=tzutc())}], 'pipelines': [{'name': 'jch-ccfraudpipelinearrow', 'create_time': datetime.datetime(2023, 2, 9, 21, 49, 31, 767814, tzinfo=tzutc()), 'definition': '[]'}]},\n",
       " {'name': 'jchdataframeccfraudworkspacearrow', 'id': 26, 'archived': False, 'created_by': '39bf22e5-bb55-40ce-b1ab-36eed7a29150', 'created_at': '2023-02-10T21:05:15.639085+00:00', 'models': [{'name': 'jchdataframeccfraudmodelarrow', 'versions': 1, 'owner_id': '\"\"', 'last_update_time': datetime.datetime(2023, 2, 10, 21, 5, 16, 786134, tzinfo=tzutc()), 'created_at': datetime.datetime(2023, 2, 10, 21, 5, 16, 786134, tzinfo=tzutc())}], 'pipelines': [{'name': 'jchdataframeccfraudpipelinearrow', 'create_time': datetime.datetime(2023, 2, 10, 21, 5, 17, 66316, tzinfo=tzutc()), 'definition': '[]'}]},\n",
       " {'name': 'jchexternal-ccfraudworkspacearrow', 'id': 28, 'archived': False, 'created_by': '39bf22e5-bb55-40ce-b1ab-36eed7a29150', 'created_at': '2023-02-10T21:42:22.008056+00:00', 'models': [{'name': 'jchexternal-ccfraudmodelarrow', 'versions': 1, 'owner_id': '\"\"', 'last_update_time': datetime.datetime(2023, 2, 10, 21, 42, 31, 312358, tzinfo=tzutc()), 'created_at': datetime.datetime(2023, 2, 10, 21, 42, 31, 312358, tzinfo=tzutc())}], 'pipelines': [{'name': 'jchexternal-ccfraudpipelinearrow', 'create_time': datetime.datetime(2023, 2, 10, 21, 42, 32, 482351, tzinfo=tzutc()), 'definition': '[]'}]},\n",
       " {'name': 'jchexternal2-ccfraudworkspacearrow', 'id': 29, 'archived': False, 'created_by': '39bf22e5-bb55-40ce-b1ab-36eed7a29150', 'created_at': '2023-02-10T21:45:29.00141+00:00', 'models': [{'name': 'jchexternal2-ccfraudmodelarrow', 'versions': 1, 'owner_id': '\"\"', 'last_update_time': datetime.datetime(2023, 2, 10, 21, 45, 49, 277336, tzinfo=tzutc()), 'created_at': datetime.datetime(2023, 2, 10, 21, 45, 49, 277336, tzinfo=tzutc())}], 'pipelines': [{'name': 'jchexternal2-ccfraudpipelinearrow', 'create_time': datetime.datetime(2023, 2, 10, 21, 45, 51, 120922, tzinfo=tzutc()), 'definition': '[]'}]},\n",
       " {'name': 'demandcurveworkspace', 'id': 30, 'archived': False, 'created_by': '39bf22e5-bb55-40ce-b1ab-36eed7a29150', 'created_at': '2023-02-10T22:16:10.86266+00:00', 'models': [{'name': 'demandcurvemodel', 'versions': 1, 'owner_id': '\"\"', 'last_update_time': datetime.datetime(2023, 2, 10, 22, 16, 11, 345655, tzinfo=tzutc()), 'created_at': datetime.datetime(2023, 2, 10, 22, 16, 11, 345655, tzinfo=tzutc())}, {'name': 'preprocess', 'versions': 1, 'owner_id': '\"\"', 'last_update_time': datetime.datetime(2023, 2, 10, 22, 16, 11, 547099, tzinfo=tzutc()), 'created_at': datetime.datetime(2023, 2, 10, 22, 16, 11, 547099, tzinfo=tzutc())}, {'name': 'postprocess', 'versions': 1, 'owner_id': '\"\"', 'last_update_time': datetime.datetime(2023, 2, 10, 22, 16, 11, 983517, tzinfo=tzutc()), 'created_at': datetime.datetime(2023, 2, 10, 22, 16, 11, 983517, tzinfo=tzutc())}], 'pipelines': [{'name': 'demandcurvepipeline', 'create_time': datetime.datetime(2023, 2, 10, 22, 16, 11, 49706, tzinfo=tzutc()), 'definition': '[]'}]},\n",
       " {'name': 'jcharrow-imdbworkspace', 'id': 31, 'archived': False, 'created_by': '39bf22e5-bb55-40ce-b1ab-36eed7a29150', 'created_at': '2023-02-10T22:54:57.606408+00:00', 'models': [{'name': 'embedder-o', 'versions': 1, 'owner_id': '\"\"', 'last_update_time': datetime.datetime(2023, 2, 10, 22, 54, 58, 158754, tzinfo=tzutc()), 'created_at': datetime.datetime(2023, 2, 10, 22, 54, 58, 158754, tzinfo=tzutc())}, {'name': 'smodel-o', 'versions': 1, 'owner_id': '\"\"', 'last_update_time': datetime.datetime(2023, 2, 10, 22, 54, 58, 349721, tzinfo=tzutc()), 'created_at': datetime.datetime(2023, 2, 10, 22, 54, 58, 349721, tzinfo=tzutc())}], 'pipelines': [{'name': 'jcharrow-imdbpipeline', 'create_time': datetime.datetime(2023, 2, 10, 22, 54, 57, 787804, tzinfo=tzutc()), 'definition': '[]'}]},\n",
       " {'name': 'imdbworkspace', 'id': 32, 'archived': False, 'created_by': '39bf22e5-bb55-40ce-b1ab-36eed7a29150', 'created_at': '2023-02-10T23:10:18.178492+00:00', 'models': [{'name': 'embedder-o', 'versions': 1, 'owner_id': '\"\"', 'last_update_time': datetime.datetime(2023, 2, 10, 23, 10, 18, 723291, tzinfo=tzutc()), 'created_at': datetime.datetime(2023, 2, 10, 23, 10, 18, 723291, tzinfo=tzutc())}, {'name': 'smodel-o', 'versions': 1, 'owner_id': '\"\"', 'last_update_time': datetime.datetime(2023, 2, 10, 23, 10, 18, 909506, tzinfo=tzutc()), 'created_at': datetime.datetime(2023, 2, 10, 23, 10, 18, 909506, tzinfo=tzutc())}], 'pipelines': [{'name': 'imdbpipeline', 'create_time': datetime.datetime(2023, 2, 10, 23, 10, 18, 355050, tzinfo=tzutc()), 'definition': '[]'}]},\n",
       " {'name': 'hotswapworkspace', 'id': 33, 'archived': False, 'created_by': '39bf22e5-bb55-40ce-b1ab-36eed7a29150', 'created_at': '2023-02-10T23:18:49.706982+00:00', 'models': [{'name': 'ccfraudoriginal', 'versions': 1, 'owner_id': '\"\"', 'last_update_time': datetime.datetime(2023, 2, 10, 23, 18, 51, 705621, tzinfo=tzutc()), 'created_at': datetime.datetime(2023, 2, 10, 23, 18, 51, 705621, tzinfo=tzutc())}, {'name': 'ccfraudreplacement', 'versions': 1, 'owner_id': '\"\"', 'last_update_time': datetime.datetime(2023, 2, 10, 23, 18, 51, 854121, tzinfo=tzutc()), 'created_at': datetime.datetime(2023, 2, 10, 23, 18, 51, 854121, tzinfo=tzutc())}], 'pipelines': [{'name': 'hotswappipeline', 'create_time': datetime.datetime(2023, 2, 10, 23, 18, 49, 896972, tzinfo=tzutc()), 'definition': '[]'}]},\n",
       " {'name': 'jcharrowbinary-ccfraudworkspacearrow', 'id': 34, 'archived': False, 'created_by': '39bf22e5-bb55-40ce-b1ab-36eed7a29150', 'created_at': '2023-02-13T19:18:09.798399+00:00', 'models': [{'name': 'jcharrowbinary-ccfraudmodelarrow', 'versions': 1, 'owner_id': '\"\"', 'last_update_time': datetime.datetime(2023, 2, 13, 19, 18, 16, 875969, tzinfo=tzutc()), 'created_at': datetime.datetime(2023, 2, 13, 19, 18, 16, 875969, tzinfo=tzutc())}], 'pipelines': [{'name': 'jcharrowbinary-ccfraudpipelinearrow', 'create_time': datetime.datetime(2023, 2, 13, 19, 18, 18, 687783, tzinfo=tzutc()), 'definition': '[]'}]},\n",
       " {'name': 'mpxpccfraudworkspace', 'id': 37, 'archived': False, 'created_by': '39bf22e5-bb55-40ce-b1ab-36eed7a29150', 'created_at': '2023-02-15T17:33:13.613629+00:00', 'models': [{'name': 'mpxpccfraudmodel', 'versions': 1, 'owner_id': '\"\"', 'last_update_time': datetime.datetime(2023, 2, 15, 17, 33, 40, 212475, tzinfo=tzutc()), 'created_at': datetime.datetime(2023, 2, 15, 17, 33, 40, 212475, tzinfo=tzutc())}], 'pipelines': [{'name': 'mpxpccfraudpipeline', 'create_time': datetime.datetime(2023, 2, 15, 17, 33, 45, 794854, tzinfo=tzutc()), 'definition': '[]'}]},\n",
       " {'name': 'eqejccfraudworkspace', 'id': 51, 'archived': False, 'created_by': '39bf22e5-bb55-40ce-b1ab-36eed7a29150', 'created_at': '2023-02-15T20:38:17.477484+00:00', 'models': [{'name': 'eqejccfraudmodel', 'versions': 1, 'owner_id': '\"\"', 'last_update_time': datetime.datetime(2023, 2, 15, 20, 38, 20, 396753, tzinfo=tzutc()), 'created_at': datetime.datetime(2023, 2, 15, 20, 38, 20, 396753, tzinfo=tzutc())}], 'pipelines': [{'name': 'eqejccfraudpipeline', 'create_time': datetime.datetime(2023, 2, 15, 20, 38, 20, 591146, tzinfo=tzutc()), 'definition': '[]'}]},\n",
       " {'name': 'dhlyccfraudworkspace', 'id': 52, 'archived': False, 'created_by': '39bf22e5-bb55-40ce-b1ab-36eed7a29150', 'created_at': '2023-02-15T21:33:51.588059+00:00', 'models': [{'name': 'dhlyccfraudmodel', 'versions': 1, 'owner_id': '\"\"', 'last_update_time': datetime.datetime(2023, 2, 15, 21, 34, 15, 94083, tzinfo=tzutc()), 'created_at': datetime.datetime(2023, 2, 15, 21, 34, 15, 94083, tzinfo=tzutc())}], 'pipelines': [{'name': 'dhlyccfraudpipeline', 'create_time': datetime.datetime(2023, 2, 15, 21, 34, 16, 595829, tzinfo=tzutc()), 'definition': '[]'}]},\n",
       " {'name': 'kmrtccfraudworkspace', 'id': 53, 'archived': False, 'created_by': '39bf22e5-bb55-40ce-b1ab-36eed7a29150', 'created_at': '2023-02-15T21:46:55.411613+00:00', 'models': [{'name': 'kmrtccfraudmodel', 'versions': 1, 'owner_id': '\"\"', 'last_update_time': datetime.datetime(2023, 2, 15, 21, 47, 21, 514090, tzinfo=tzutc()), 'created_at': datetime.datetime(2023, 2, 15, 21, 47, 21, 514090, tzinfo=tzutc())}], 'pipelines': [{'name': 'kmrtccfraudpipeline', 'create_time': datetime.datetime(2023, 2, 15, 21, 47, 23, 22885, tzinfo=tzutc()), 'definition': '[]'}]},\n",
       " {'name': 'laotccfraudworkspace', 'id': 54, 'archived': False, 'created_by': '39bf22e5-bb55-40ce-b1ab-36eed7a29150', 'created_at': '2023-02-15T22:08:04.393827+00:00', 'models': [{'name': 'laotccfraudmodel', 'versions': 1, 'owner_id': '\"\"', 'last_update_time': datetime.datetime(2023, 2, 15, 22, 8, 32, 991373, tzinfo=tzutc()), 'created_at': datetime.datetime(2023, 2, 15, 22, 8, 32, 991373, tzinfo=tzutc())}], 'pipelines': [{'name': 'laotccfraudpipeline', 'create_time': datetime.datetime(2023, 2, 15, 22, 8, 34, 564052, tzinfo=tzutc()), 'definition': '[]'}]},\n",
       " {'name': 'jquqccfraudworkspace', 'id': 56, 'archived': False, 'created_by': '39bf22e5-bb55-40ce-b1ab-36eed7a29150', 'created_at': '2023-02-15T22:41:57.691719+00:00', 'models': [{'name': 'jquqccfraudmodel', 'versions': 1, 'owner_id': '\"\"', 'last_update_time': datetime.datetime(2023, 2, 15, 22, 42, 25, 420486, tzinfo=tzutc()), 'created_at': datetime.datetime(2023, 2, 15, 22, 42, 25, 420486, tzinfo=tzutc())}], 'pipelines': [{'name': 'jquqccfraudpipeline', 'create_time': datetime.datetime(2023, 2, 15, 22, 42, 26, 938463, tzinfo=tzutc()), 'definition': '[]'}]},\n",
       " {'name': 'gipvccfraudworkspace', 'id': 57, 'archived': False, 'created_by': '39bf22e5-bb55-40ce-b1ab-36eed7a29150', 'created_at': '2023-02-15T23:06:48.703089+00:00', 'models': [], 'pipelines': []}]"
      ]
     },
     "execution_count": 8,
     "metadata": {},
     "output_type": "execute_result"
    }
   ],
   "source": [
    "wl.list_workspaces()"
   ]
  },
  {
   "cell_type": "markdown",
   "metadata": {},
   "source": [
    "Just to make sure, let's list our current workspace.  If everything is going right, it will show us we're in the `ccfraud-workspace` with the appropriate prefix."
   ]
  },
  {
   "cell_type": "code",
   "execution_count": 9,
   "metadata": {},
   "outputs": [
    {
     "data": {
      "text/plain": [
       "{'name': 'gipvccfraudworkspace', 'id': 57, 'archived': False, 'created_by': '39bf22e5-bb55-40ce-b1ab-36eed7a29150', 'created_at': '2023-02-15T23:06:48.703089+00:00', 'models': [], 'pipelines': []}"
      ]
     },
     "execution_count": 9,
     "metadata": {},
     "output_type": "execute_result"
    }
   ],
   "source": [
    "wl.set_current_workspace(workspace)\n",
    "wl.get_current_workspace()"
   ]
  },
  {
   "cell_type": "markdown",
   "metadata": {},
   "source": [
    "## Upload a model\n",
    "\n",
    "Our workspace is created.  Let's upload our credit card fraud model to it.  This is the file name `ccfraud.onnx`, and we'll upload it as `ccfraudmodel`.  The credit card fraud model is trained to detect credit card fraud based on a 0 to 1 model:  The closer to 0 the less likely the transactions indicate fraud, while the closer to 1 the more likely the transactions indicate fraud.\n",
    "\n",
    "\n",
    "Since we're already in our default workspace `ccfraudworkspace`, it'll be uploaded right to there.  Once that's done uploading, we'll list out all of the models currently deployed so we can see it included."
   ]
  },
  {
   "cell_type": "code",
   "execution_count": 10,
   "metadata": {},
   "outputs": [],
   "source": [
    "ccfraud_model = wl.upload_model(model_name, model_file_name).configure()"
   ]
  },
  {
   "cell_type": "markdown",
   "metadata": {},
   "source": [
    "We can verify that our model was uploaded by listing the models uploaded to our Wallaroo instance with the `list_models()` command.  Note that since we uploaded this model before, we now have different versions of it we can use for our testing."
   ]
  },
  {
   "cell_type": "code",
   "execution_count": 11,
   "metadata": {},
   "outputs": [
    {
     "data": {
      "text/html": [
       "\n",
       "          <table>\n",
       "            <tr>\n",
       "              <th>Name</th>\n",
       "              <th># of Versions</th>\n",
       "              <th>Owner ID</th>\n",
       "              <th>Last Updated</th>\n",
       "              <th>Created At</th>\n",
       "            </tr>\n",
       "            \n",
       "            <tr>\n",
       "              <td>gipvccfraudmodel</td>\n",
       "              <td>1</td>\n",
       "              <td>\"\"</td>\n",
       "              <td>2023-02-15 23:06:52.182707+00:00</td>\n",
       "              <td>2023-02-15 23:06:52.182707+00:00</td>\n",
       "            </tr>\n",
       "          \n",
       "          </table>\n",
       "        "
      ],
      "text/plain": [
       "[{'name': 'gipvccfraudmodel', 'versions': 1, 'owner_id': '\"\"', 'last_update_time': datetime.datetime(2023, 2, 15, 23, 6, 52, 182707, tzinfo=tzutc()), 'created_at': datetime.datetime(2023, 2, 15, 23, 6, 52, 182707, tzinfo=tzutc())}]"
      ]
     },
     "execution_count": 11,
     "metadata": {},
     "output_type": "execute_result"
    }
   ],
   "source": [
    "wl.list_models()"
   ]
  },
  {
   "cell_type": "markdown",
   "metadata": {},
   "source": [
    "## Create a Pipeline\n",
    "\n",
    "With our model uploaded, time to create our pipeline and deploy it so it can accept data and process it through our `ccfraudmodel`.  We'll call our pipeline `ccfraudpipeline`.\n",
    "\n",
    "* **NOTE**:  Pipeline names must be unique.  If two pipelines are assigned the same name, the new pipeline is created as a new **version** of the pipeline."
   ]
  },
  {
   "cell_type": "code",
   "execution_count": 12,
   "metadata": {},
   "outputs": [],
   "source": [
    "ccfraud_pipeline = get_pipeline(pipeline_name)"
   ]
  },
  {
   "cell_type": "markdown",
   "metadata": {},
   "source": [
    "Now our pipeline is set.  Let's add a single **step** to it - in this case, our `ccfraud_model` that we uploaded to our workspace."
   ]
  },
  {
   "cell_type": "code",
   "execution_count": 13,
   "metadata": {},
   "outputs": [
    {
     "data": {
      "text/html": [
       "<table><tr><th>name</th> <td>gipvccfraudpipeline</td></tr><tr><th>created</th> <td>2023-02-15 23:06:52.385008+00:00</td></tr><tr><th>last_updated</th> <td>2023-02-15 23:06:52.385008+00:00</td></tr><tr><th>deployed</th> <td>(none)</td></tr><tr><th>tags</th> <td></td></tr><tr><th>versions</th> <td>1bbd8c14-047a-41cc-9b3d-0d89823d6b73</td></tr><tr><th>steps</th> <td></td></tr></table>"
      ],
      "text/plain": [
       "{'name': 'gipvccfraudpipeline', 'create_time': datetime.datetime(2023, 2, 15, 23, 6, 52, 385008, tzinfo=tzutc()), 'definition': \"[{'ModelInference': {'models': [{'name': 'gipvccfraudmodel', 'version': 'a6dbafaa-40af-491a-9667-50900cab4971', 'sha': 'bc85ce596945f876256f41515c7501c399fd97ebcb9ab3dd41bf03f8937b4507'}]}}]\"}"
      ]
     },
     "execution_count": 13,
     "metadata": {},
     "output_type": "execute_result"
    }
   ],
   "source": [
    "ccfraud_pipeline.add_model_step(ccfraud_model)"
   ]
  },
  {
   "cell_type": "markdown",
   "metadata": {},
   "source": [
    "And now we can deploy our pipeline and assign resources to it.  This typically takes about 45 seconds once the command is issued."
   ]
  },
  {
   "cell_type": "code",
   "execution_count": 14,
   "metadata": {},
   "outputs": [
    {
     "name": "stdout",
     "output_type": "stream",
     "text": [
      "Waiting for deployment - this will take up to 45s .............. ok\n"
     ]
    },
    {
     "data": {
      "text/html": [
       "<table><tr><th>name</th> <td>gipvccfraudpipeline</td></tr><tr><th>created</th> <td>2023-02-15 23:06:52.385008+00:00</td></tr><tr><th>last_updated</th> <td>2023-02-15 23:06:52.523850+00:00</td></tr><tr><th>deployed</th> <td>True</td></tr><tr><th>tags</th> <td></td></tr><tr><th>versions</th> <td>54f0a3bd-8f73-4261-b2b2-41b84f7a2ad5, 1bbd8c14-047a-41cc-9b3d-0d89823d6b73</td></tr><tr><th>steps</th> <td>gipvccfraudmodel</td></tr></table>"
      ],
      "text/plain": [
       "{'name': 'gipvccfraudpipeline', 'create_time': datetime.datetime(2023, 2, 15, 23, 6, 52, 385008, tzinfo=tzutc()), 'definition': \"[{'ModelInference': {'models': [{'name': 'gipvccfraudmodel', 'version': 'a6dbafaa-40af-491a-9667-50900cab4971', 'sha': 'bc85ce596945f876256f41515c7501c399fd97ebcb9ab3dd41bf03f8937b4507'}]}}]\"}"
      ]
     },
     "execution_count": 14,
     "metadata": {},
     "output_type": "execute_result"
    }
   ],
   "source": [
    "ccfraud_pipeline.deploy()"
   ]
  },
  {
   "cell_type": "markdown",
   "metadata": {},
   "source": [
    "We can see our new pipeline with the `status()` command."
   ]
  },
  {
   "cell_type": "code",
   "execution_count": 15,
   "metadata": {},
   "outputs": [
    {
     "data": {
      "text/plain": [
       "{'status': 'Running',\n",
       " 'details': [],\n",
       " 'engines': [{'ip': '10.48.1.242',\n",
       "   'name': 'engine-596c477767-2xs8j',\n",
       "   'status': 'Running',\n",
       "   'reason': None,\n",
       "   'details': [],\n",
       "   'pipeline_statuses': {'pipelines': [{'id': 'gipvccfraudpipeline',\n",
       "      'status': 'Running'}]},\n",
       "   'model_statuses': {'models': [{'name': 'gipvccfraudmodel',\n",
       "      'version': 'a6dbafaa-40af-491a-9667-50900cab4971',\n",
       "      'sha': 'bc85ce596945f876256f41515c7501c399fd97ebcb9ab3dd41bf03f8937b4507',\n",
       "      'status': 'Running'}]}}],\n",
       " 'engine_lbs': [{'ip': '10.48.0.105',\n",
       "   'name': 'engine-lb-74b4969486-pfwmt',\n",
       "   'status': 'Running',\n",
       "   'reason': None,\n",
       "   'details': []}],\n",
       " 'sidekicks': []}"
      ]
     },
     "execution_count": 15,
     "metadata": {},
     "output_type": "execute_result"
    }
   ],
   "source": [
    "ccfraud_pipeline.status()"
   ]
  },
  {
   "cell_type": "markdown",
   "metadata": {},
   "source": [
    "## Running Interfences\n",
    "\n",
    "With our pipeline deployed, let's run a smoke test to make sure it's working right.  We'll run an inference through our pipeline from the file `smoke_test.json` and see the results.  This should give us a result near 0 - not likely a fraudulent activity."
   ]
  },
  {
   "cell_type": "code",
   "execution_count": 16,
   "metadata": {},
   "outputs": [
    {
     "data": {
      "text/html": [
       "<div>\n",
       "<style scoped>\n",
       "    .dataframe tbody tr th:only-of-type {\n",
       "        vertical-align: middle;\n",
       "    }\n",
       "\n",
       "    .dataframe tbody tr th {\n",
       "        vertical-align: top;\n",
       "    }\n",
       "\n",
       "    .dataframe thead th {\n",
       "        text-align: right;\n",
       "    }\n",
       "</style>\n",
       "<table border=\"1\" class=\"dataframe\">\n",
       "  <thead>\n",
       "    <tr style=\"text-align: right;\">\n",
       "      <th></th>\n",
       "      <th>time</th>\n",
       "      <th>in.tensor</th>\n",
       "      <th>out.dense_1</th>\n",
       "      <th>check_failures</th>\n",
       "    </tr>\n",
       "  </thead>\n",
       "  <tbody>\n",
       "    <tr>\n",
       "      <th>0</th>\n",
       "      <td>2023-02-15 23:07:07.497</td>\n",
       "      <td>[1.0678324729, 0.2177810266, -1.7115145262, 0.682285721, 1.0138553067, -0.4335000013, 0.7395859437, -0.2882839595, -0.447262688, 0.5146124988, 0.3791316964, 0.5190619748, -0.4904593222, 1.1656456469, -0.9776307444, -0.6322198963, -0.6891477694, 0.1783317857, 0.1397992467, -0.3554220649, 0.4394217877, 1.4588397512, -0.3886829615, 0.4353492889, 1.7420053483, -0.4434654615, -0.1515747891, -0.2668451725, -1.4549617756]</td>\n",
       "      <td>[0.0014974177]</td>\n",
       "      <td>0</td>\n",
       "    </tr>\n",
       "  </tbody>\n",
       "</table>\n",
       "</div>"
      ],
      "text/plain": [
       "                     time  \\\n",
       "0 2023-02-15 23:07:07.497   \n",
       "\n",
       "                                                                                                                                                                                                                                                                                                                                                                                                                            in.tensor  \\\n",
       "0  [1.0678324729, 0.2177810266, -1.7115145262, 0.682285721, 1.0138553067, -0.4335000013, 0.7395859437, -0.2882839595, -0.447262688, 0.5146124988, 0.3791316964, 0.5190619748, -0.4904593222, 1.1656456469, -0.9776307444, -0.6322198963, -0.6891477694, 0.1783317857, 0.1397992467, -0.3554220649, 0.4394217877, 1.4588397512, -0.3886829615, 0.4353492889, 1.7420053483, -0.4434654615, -0.1515747891, -0.2668451725, -1.4549617756]   \n",
       "\n",
       "      out.dense_1  check_failures  \n",
       "0  [0.0014974177]               0  "
      ]
     },
     "metadata": {},
     "output_type": "display_data"
    }
   ],
   "source": [
    "if arrowEnabled is True:\n",
    "    result = ccfraud_pipeline.infer_from_file('./data/smoke_test.df.json')\n",
    "else:\n",
    "    result = ccfraud_pipeline.infer_from_file('./data/smoke_test.json')\n",
    "display(result)"
   ]
  },
  {
   "cell_type": "markdown",
   "metadata": {},
   "source": [
    "Looks good!  Time to run the real test on some real data.  Run another inference this time from the file `high_fraud.json` and let's see the results.  This should give us an output that indicates a high level of fraud - well over 90%."
   ]
  },
  {
   "cell_type": "code",
   "execution_count": 17,
   "metadata": {},
   "outputs": [
    {
     "data": {
      "text/html": [
       "<div>\n",
       "<style scoped>\n",
       "    .dataframe tbody tr th:only-of-type {\n",
       "        vertical-align: middle;\n",
       "    }\n",
       "\n",
       "    .dataframe tbody tr th {\n",
       "        vertical-align: top;\n",
       "    }\n",
       "\n",
       "    .dataframe thead th {\n",
       "        text-align: right;\n",
       "    }\n",
       "</style>\n",
       "<table border=\"1\" class=\"dataframe\">\n",
       "  <thead>\n",
       "    <tr style=\"text-align: right;\">\n",
       "      <th></th>\n",
       "      <th>time</th>\n",
       "      <th>in.tensor</th>\n",
       "      <th>out.dense_1</th>\n",
       "      <th>check_failures</th>\n",
       "    </tr>\n",
       "  </thead>\n",
       "  <tbody>\n",
       "    <tr>\n",
       "      <th>0</th>\n",
       "      <td>2023-02-15 23:07:07.570</td>\n",
       "      <td>[1.0678324729, 18.1555563975, -1.6589551058, 5.2111788045, 2.3452470645, 10.4670835778, 5.0925820522, 12.8295153637, 4.9536770468, 2.3934736228, 23.912131818, 1.759956831, 0.8561037518, 1.1656456469, 0.5395988814, 0.7784221343, 6.7580610727, 3.9274118477, 12.4621782767, 12.3075382165, 13.7879519066, 1.4588397512, 3.6818346868, 1.753914366, 8.4843550037, 14.6454097667, 26.8523774363, 2.7165292377, 3.0611957069]</td>\n",
       "      <td>[0.981199]</td>\n",
       "      <td>0</td>\n",
       "    </tr>\n",
       "  </tbody>\n",
       "</table>\n",
       "</div>"
      ],
      "text/plain": [
       "                     time  \\\n",
       "0 2023-02-15 23:07:07.570   \n",
       "\n",
       "                                                                                                                                                                                                                                                                                                                                                                                                                       in.tensor  \\\n",
       "0  [1.0678324729, 18.1555563975, -1.6589551058, 5.2111788045, 2.3452470645, 10.4670835778, 5.0925820522, 12.8295153637, 4.9536770468, 2.3934736228, 23.912131818, 1.759956831, 0.8561037518, 1.1656456469, 0.5395988814, 0.7784221343, 6.7580610727, 3.9274118477, 12.4621782767, 12.3075382165, 13.7879519066, 1.4588397512, 3.6818346868, 1.753914366, 8.4843550037, 14.6454097667, 26.8523774363, 2.7165292377, 3.0611957069]   \n",
       "\n",
       "  out.dense_1  check_failures  \n",
       "0  [0.981199]               0  "
      ]
     },
     "metadata": {},
     "output_type": "display_data"
    }
   ],
   "source": [
    "if arrowEnabled is True:\n",
    "    result = ccfraud_pipeline.infer_from_file('./data/high_fraud.df.json')\n",
    "else:\n",
    "    result = ccfraud_pipeline.infer_from_file('./data/high_fraud.json')\n",
    "display(result)"
   ]
  },
  {
   "cell_type": "markdown",
   "metadata": {},
   "source": [
    "Now that we've tested our pipeline, let's run it with something larger.  We have two batch files - `cc_data_1k.json` that contains 1,000 credit card records to test for fraud.  The other is `cc_data_10k.json` which has 10,000 credit card records to test.\n",
    "\n",
    "First let's run a batch result for `cc_data_1k.json` and see the results.  \n",
    "\n",
    "For Arrow enabled instances of Wallaroo, inference results are returned as a [pandas.DataFrame](https://pandas.pydata.org/docs/reference/api/pandas.DataFrame.html) object.\n",
    "\n",
    "For non-Arrow enabled instances of Wallaroo, inferences are returned as the [InferenceResult object](https://docs.wallaroo.ai/wallaroo-sdk/wallaroo-sdk-essentials-guide/#inferenceresult-object).\n",
    "\n",
    "With the inference result we'll output just the cases likely to be fraud.  For Arrow enabled Wallaroo instances, we'll parse the dataframe returned as the inference result.  For non-Arrow Wallaroo instances, we'll use the Inference Result object's `data()` method."
   ]
  },
  {
   "cell_type": "code",
   "execution_count": 22,
   "metadata": {},
   "outputs": [
    {
     "data": {
      "text/plain": [
       "0        [0.99300325]\n",
       "1        [0.99300325]\n",
       "2        [0.99300325]\n",
       "3        [0.99300325]\n",
       "161             [1.0]\n",
       "941       [0.9873102]\n",
       "1445            [1.0]\n",
       "2092        [0.99999]\n",
       "2220     [0.91080534]\n",
       "4135     [0.98877275]\n",
       "4236     [0.95601666]\n",
       "5658            [1.0]\n",
       "6768      [0.9999745]\n",
       "6780      [0.9852645]\n",
       "7133            [1.0]\n",
       "7566      [0.9999705]\n",
       "7911      [0.9980203]\n",
       "8921     [0.99950194]\n",
       "9244      [0.9999876]\n",
       "10176           [1.0]\n",
       "Name: out.dense_1, dtype: object"
      ]
     },
     "metadata": {},
     "output_type": "display_data"
    }
   ],
   "source": [
    "outputs = None\n",
    "if arrowEnabled is True:\n",
    "    outputs = ccfraud_pipeline.infer_from_file('./data/cc_data_10k.df.json')\n",
    "    filter = [elt[0] > 0.75 for elt in outputs['out.dense_1']]\n",
    "    result = outputs.loc[filter, ['in.tensor','out.dense_1']]\n",
    "    display(result['out.dense_1'])\n",
    "    #display(outputs[['out.dense_1']])\n",
    "else:\n",
    "    outputs = ccfraud_pipeline.infer_from_file('./data/cc_data_10k.json')\n",
    "    sequence = outputs[0].data()\n",
    "    result = filter(lambda x: x > 0.75, sequence[0])\n",
    "    display(sequence[0])"
   ]
  },
  {
   "cell_type": "markdown",
   "metadata": {},
   "source": [
    "We can view the inputs either through the `in.tensor` column from our DataFrame for Arrow enabled environments, or with the InferenceResult object through the `input_data()` for non-Arrow enabled environments.  We'll display just the first row in either case."
   ]
  },
  {
   "cell_type": "code",
   "execution_count": 24,
   "metadata": {},
   "outputs": [
    {
     "data": {
      "text/plain": [
       "[-1.0603297501,\n",
       " 2.3544967095,\n",
       " -3.5638788326,\n",
       " 5.1387348926,\n",
       " -1.2308457019,\n",
       " -0.7687824608,\n",
       " -3.5881228109,\n",
       " 1.8880837663,\n",
       " -3.2789674274,\n",
       " -3.9563254554,\n",
       " 4.0993439118,\n",
       " -5.6539176395,\n",
       " -0.8775733373,\n",
       " -9.131571192,\n",
       " -0.6093537873,\n",
       " -3.7480276773,\n",
       " -5.0309125017,\n",
       " -0.8748149526,\n",
       " 1.9870535692,\n",
       " 0.7005485718,\n",
       " 0.9204422758,\n",
       " -0.1041491809,\n",
       " 0.3229564351,\n",
       " -0.7418141657,\n",
       " 0.0384120159,\n",
       " 1.0993439146,\n",
       " 1.2603409756,\n",
       " -0.1466244739,\n",
       " -1.4463212439]"
      ]
     },
     "metadata": {},
     "output_type": "display_data"
    }
   ],
   "source": [
    "if arrowEnabled is True:\n",
    "    display(result['in.tensor'][0])\n",
    "else:\n",
    "    display(outputs[0].input_data()[\"tensor\"][0])"
   ]
  },
  {
   "cell_type": "markdown",
   "metadata": {},
   "source": [
    "## Batch Deployment through a Pipeline Deployment URL\n",
    "\n",
    "This next step requires some manual use.  We're going to have `ccfraud_pipeline` display its deployment url - this allows us to submit data through a HTTP interface and get the results back.\n",
    "\n",
    "First we'll request the url with the `_deployment._url()` method.\n",
    "\n",
    "* **IMPORTANT NOTE**:  The `_deployment._url()` method will return an **internal** URL when using Python commands from within the Wallaroo instance - for example, the Wallaroo JupyterHub service.  When connecting via an external connection, `_deployment._url()` returns an **external** URL.  External URL connections requires [the authentication be included in the HTTP request](https://docs.wallaroo.ai/wallaroo-developer-guides/wallaroo-api-guide/), and that [Model Endpoints Guide](https://docs.wallaroo.ai/wallaroo-operations-guide/wallaroo-configuration/wallaroo-model-endpoints-guide/) external endpoints are enabled in the Wallaroo configuration options."
   ]
  },
  {
   "cell_type": "code",
   "execution_count": 25,
   "metadata": {},
   "outputs": [
    {
     "name": "stdout",
     "output_type": "stream",
     "text": [
      "http://engine-lb.gipvccfraudpipeline-67:29502/pipelines/gipvccfraudpipeline\n"
     ]
    }
   ],
   "source": [
    "deploy_url = ccfraud_pipeline._deployment._url()\n",
    "print(deploy_url)"
   ]
  },
  {
   "cell_type": "markdown",
   "metadata": {},
   "source": [
    "The API connection details can be retrieved through the Wallaroo client `mlops()` command.  This will display the connection URL, bearer token, and other information.  The bearer token is available for one hour before it expires.\n",
    "\n",
    "For this example, the API connection details will be retrieved, then used to submit an inference request through the external inference URL retrieved earlier."
   ]
  },
  {
   "cell_type": "code",
   "execution_count": 26,
   "metadata": {},
   "outputs": [
    {
     "data": {
      "text/plain": [
       "'eyJhbGciOiJSUzI1NiIsInR5cCIgOiAiSldUIiwia2lkIiA6ICJsbG1zQlljalVhQ2tvYzd5X3BaUHFyOWhmZzdJQzZyVGlxRGtDSzcyYWNvIn0.eyJleHAiOjE2NzY1MDI2ODMsImlhdCI6MTY3NjUwMjYyMywiYXV0aF90aW1lIjoxNjc2NDgyMzI2LCJqdGkiOiJkYzg2YjA0NS02M2JlLTRlNWYtODI0Ny02YTc5Njc1ZDM0YTQiLCJpc3MiOiJodHRwczovL3NwYXJrbHktYXBwbGUtMzAyNi5rZXljbG9hay53YWxsYXJvby5jb21tdW5pdHkvYXV0aC9yZWFsbXMvbWFzdGVyIiwiYXVkIjpbIm1hc3Rlci1yZWFsbSIsImFjY291bnQiXSwic3ViIjoiMzliZjIyZTUtYmI1NS00MGNlLWIxYWItMzZlZWQ3YTI5MTUwIiwidHlwIjoiQmVhcmVyIiwiYXpwIjoic2RrLWNsaWVudCIsInNlc3Npb25fc3RhdGUiOiJmYTU5NWQ5Yi0wZTFiLTQ4NDktODNkZS0zZjUzYjNjMWQyYjkiLCJhY3IiOiIwIiwicmVhbG1fYWNjZXNzIjp7InJvbGVzIjpbImNyZWF0ZS1yZWFsbSIsImRlZmF1bHQtcm9sZXMtbWFzdGVyIiwib2ZmbGluZV9hY2Nlc3MiLCJhZG1pbiIsInVtYV9hdXRob3JpemF0aW9uIl19LCJyZXNvdXJjZV9hY2Nlc3MiOnsibWFzdGVyLXJlYWxtIjp7InJvbGVzIjpbInZpZXctcmVhbG0iLCJ2aWV3LWlkZW50aXR5LXByb3ZpZGVycyIsIm1hbmFnZS1pZGVudGl0eS1wcm92aWRlcnMiLCJpbXBlcnNvbmF0aW9uIiwiY3JlYXRlLWNsaWVudCIsIm1hbmFnZS11c2VycyIsInF1ZXJ5LXJlYWxtcyIsInZpZXctYXV0aG9yaXphdGlvbiIsInF1ZXJ5LWNsaWVudHMiLCJxdWVyeS11c2VycyIsIm1hbmFnZS1ldmVudHMiLCJtYW5hZ2UtcmVhbG0iLCJ2aWV3LWV2ZW50cyIsInZpZXctdXNlcnMiLCJ2aWV3LWNsaWVudHMiLCJtYW5hZ2UtYXV0aG9yaXphdGlvbiIsIm1hbmFnZS1jbGllbnRzIiwicXVlcnktZ3JvdXBzIl19LCJhY2NvdW50Ijp7InJvbGVzIjpbIm1hbmFnZS1hY2NvdW50IiwibWFuYWdlLWFjY291bnQtbGlua3MiLCJ2aWV3LXByb2ZpbGUiXX19LCJzY29wZSI6ImVtYWlsIHByb2ZpbGUiLCJzaWQiOiJmYTU5NWQ5Yi0wZTFiLTQ4NDktODNkZS0zZjUzYjNjMWQyYjkiLCJlbWFpbF92ZXJpZmllZCI6dHJ1ZSwiaHR0cHM6Ly9oYXN1cmEuaW8vand0L2NsYWltcyI6eyJ4LWhhc3VyYS11c2VyLWlkIjoiMzliZjIyZTUtYmI1NS00MGNlLWIxYWItMzZlZWQ3YTI5MTUwIiwieC1oYXN1cmEtZGVmYXVsdC1yb2xlIjoidXNlciIsIngtaGFzdXJhLWFsbG93ZWQtcm9sZXMiOlsidXNlciJdLCJ4LWhhc3VyYS11c2VyLWdyb3VwcyI6Int9In0sInByZWZlcnJlZF91c2VybmFtZSI6ImpvaG4uaGFuc2FyaWNrQHdhbGxhcm9vLmFpIiwiZW1haWwiOiJqb2huLmhhbnNhcmlja0B3YWxsYXJvby5haSJ9.QlcpEXkzWxHJWPOlAQLzXz7Cai3j7DCXCu_4izcERBO5PyZ9H9oiCqBewxch6HvUXCw_0Wev5q1Da79XC9UjTeLTH2h8bUu_JwzPcWd5JHXNAWRAJDI2R1VCY9MjBgotE3iMc0GLFS9q7qrCCCjoZD3GmYlowjFo9vzMjoWuSvN387u90qscbhXKqiGHocLjLezGb2mbj-X_FH8b_qbdos7pekpZuk9M5TTYS8mjpsmTijjraryNImfDJFGf0stJpDbufFZ4j0Izs4kUCF4vQgH4WOKXzu5V6hDBe0_YQwkdyRyodv1vo_sFGrenrBaAGzq6HTZl_vzR0Qx85rt_6Q'"
      ]
     },
     "execution_count": 26,
     "metadata": {},
     "output_type": "execute_result"
    }
   ],
   "source": [
    "connection =wl.mlops().__dict__\n",
    "token = connection['token']\n",
    "token"
   ]
  },
  {
   "cell_type": "markdown",
   "metadata": {},
   "source": [
    "The `deploy_url` variable will be used to access the pipeline inference URL, and the `token` variable used to authenticate for this batch inference process."
   ]
  },
  {
   "cell_type": "code",
   "execution_count": 27,
   "metadata": {},
   "outputs": [],
   "source": [
    "if arrowEnabled is True:\n",
    "    dataFile=\"./data/cc_data_10k.df.json\"\n",
    "    contentType=\"application/json; format=pandas-records\"\n",
    "else:\n",
    "    dataFile=\"./data/cc_data_10k.json\"\n",
    "    contentType=\"application/json\""
   ]
  },
  {
   "cell_type": "code",
   "execution_count": 28,
   "metadata": {},
   "outputs": [
    {
     "name": "stdout",
     "output_type": "stream",
     "text": [
      "  % Total    % Received % Xferd  Average Speed   Time    Time     Time  Current\n",
      "                                 Dload  Upload   Total   Spent    Left  Speed\n",
      "100 13.7M  100 6325k  100 7743k  32.3M  39.5M --:--:-- --:--:-- --:--:-- 71.9M\n"
     ]
    }
   ],
   "source": [
    "!curl -X POST {deploy_url} -H \"Authorization: Bearer {token}\" -H \"Content-Type:{contentType}\" --data @{dataFile} > curl_response.txt"
   ]
  },
  {
   "cell_type": "markdown",
   "metadata": {},
   "source": [
    "With our work in the pipeline done, we'll undeploy it to get back our resources from the Kubernetes cluster.  If we keep the same settings we can redeploy the pipeline with the same configuration in the future."
   ]
  },
  {
   "cell_type": "code",
   "execution_count": 29,
   "metadata": {},
   "outputs": [
    {
     "name": "stdout",
     "output_type": "stream",
     "text": [
      "Waiting for undeployment - this will take up to 45s ...................................... ok\n"
     ]
    },
    {
     "data": {
      "text/html": [
       "<table><tr><th>name</th> <td>gipvccfraudpipeline</td></tr><tr><th>created</th> <td>2023-02-15 23:06:52.385008+00:00</td></tr><tr><th>last_updated</th> <td>2023-02-15 23:06:52.523850+00:00</td></tr><tr><th>deployed</th> <td>False</td></tr><tr><th>tags</th> <td></td></tr><tr><th>versions</th> <td>54f0a3bd-8f73-4261-b2b2-41b84f7a2ad5, 1bbd8c14-047a-41cc-9b3d-0d89823d6b73</td></tr><tr><th>steps</th> <td>gipvccfraudmodel</td></tr></table>"
      ],
      "text/plain": [
       "{'name': 'gipvccfraudpipeline', 'create_time': datetime.datetime(2023, 2, 15, 23, 6, 52, 385008, tzinfo=tzutc()), 'definition': \"[{'ModelInference': {'models': [{'name': 'gipvccfraudmodel', 'version': 'a6dbafaa-40af-491a-9667-50900cab4971', 'sha': 'bc85ce596945f876256f41515c7501c399fd97ebcb9ab3dd41bf03f8937b4507'}]}}]\"}"
      ]
     },
     "execution_count": 29,
     "metadata": {},
     "output_type": "execute_result"
    }
   ],
   "source": [
    "ccfraud_pipeline.undeploy()"
   ]
  },
  {
   "cell_type": "markdown",
   "metadata": {},
   "source": [
    "And there we have it!  Feel free to use this as a template for other models, inferences and pipelines that you want to deploy with Wallaroo!"
   ]
  }
 ],
 "metadata": {
  "kernelspec": {
   "display_name": "Python 3 (ipykernel)",
   "language": "python",
   "name": "python3"
  },
  "language_info": {
   "codemirror_mode": {
    "name": "ipython",
    "version": 3
   },
   "file_extension": ".py",
   "mimetype": "text/x-python",
   "name": "python",
   "nbconvert_exporter": "python",
   "pygments_lexer": "ipython3",
   "version": "3.9.13"
  },
  "vscode": {
   "interpreter": {
    "hash": "e951b583e3fbbcadfc15df61f9ed97fb9a76f59b2130f2cdf4d0033aa05e7e64"
   }
  }
 },
 "nbformat": 4,
 "nbformat_minor": 4
}
