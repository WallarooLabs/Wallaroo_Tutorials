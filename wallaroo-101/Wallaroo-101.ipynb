{
 "cells": [
  {
   "cell_type": "markdown",
   "metadata": {
    "jp-MarkdownHeadingCollapsed": true,
    "tags": []
   },
   "source": [
    "The Wallaroo 101 tutorial can be downloaded as part of the [Wallaroo Tutorials repository](https://github.com/WallarooLabs/Wallaroo_Tutorials/tree/main/wallaroo-101).\n",
    "\n",
    "## Introduction\n",
    "\n",
    "Welcome to the Wallaroo, the fastest, easiest, and most efficient production ready machine learning system.\n",
    "\n",
    "This tutorial is created to help you get started with Wallaroo right away.  We'll start with a brief explanation of how Wallaroo works, then provide the credit card fraud detection model so you can see it working.\n",
    "\n",
    "This guide assumes that you've installed Wallaroo in your cloud Kubernetes cluster.  This can be either:\n",
    "\n",
    "* Amazon Web Services (AWS)\n",
    "* Microsoft Azure\n",
    "* Google Cloud Platform\n",
    "\n",
    "For instructions on setting up your cloud Kubernetes environment, check out the [Wallaroo Environment Setup Guides](https://docs.wallaroo.ai/wallaroo-operations-guide/wallaroo-setup-environment/) for your particular cloud provider.\n",
    "\n",
    "### How to Use This Notebook\n",
    "\n",
    "It is recommended that you run this notebook command at a time so you can see the results and make any changes you need based on your own environment."
   ]
  },
  {
   "cell_type": "markdown",
   "metadata": {},
   "source": [
    "## SDK Introduction\n",
    "\n",
    "The Wallaroo SDK lets you quickly get your models working with your data and getting results.  The typical flow follows these steps:\n",
    "\n",
    "* **Connect**:  Connect to your Wallaroo Instance.\n",
    "* **Create or Connect to a Workspace**:  Create a new workspace that will contain your models and pipelines, or connect to an existing one.\n",
    "* **Upload or Use Existing Models**:  Upload your models to your workspace, or use ones that have already been uploaded.\n",
    "* **Create or Use Existing Pipelines**:  Create or use an existing pipeline.  This is where you'll set the **steps** that will ingest your data, submit it through each successive model, then return a result.\n",
    "* **Deploy Your Pipeline**:  Deploying a pipeline allocates resources from your Kubernetes environment for your models.\n",
    "* **Run an Inference**:  This is where it all comes together.  Submit data through your pipeline either as a file or to your pipeline's deployment url, and get results.\n",
    "* **Undeploy Your Pipeline**:  This returns the Kubernetes resources your pipeline used back to the Kubernetes environment.\n",
    "\n",
    "For a more detailed rundown of the Wallaroo SDK, see the [Wallaroo SDK Essentials Guide](https://docs.wallaroo.ai/wallaroo-sdk/wallaroo-sdk-essentials-guide/)."
   ]
  },
  {
   "cell_type": "markdown",
   "metadata": {},
   "source": [
    "### Introduction to Workspaces\n",
    "\n",
    "A Wallaroo **Workspace** allows you to manage a set of models and pipelines.  You can assign users to a workspace as either an **owner** or **collaborator**.\n",
    "\n",
    "When working within the Wallaroo SDK, the first thing you'll do after connecting is either create a workspace or set an existing workspace your **current workspace**.  From that point on, all models uploaded and pipelines created or used will be in the context of the current workspace."
   ]
  },
  {
   "cell_type": "markdown",
   "metadata": {},
   "source": [
    "### Introduction to Models\n",
    "\n",
    "A Wallaroo **model** is a trained Machine Learning model that is uploaded to your current workspace.  These are the engines that take in data, run it through whatever process they have been trained for, and return a result.\n",
    "\n",
    "Models don't work in a vacuum - they are allocated to a pipeline as detailed in the next step."
   ]
  },
  {
   "cell_type": "markdown",
   "metadata": {},
   "source": [
    "### Introduction to Pipelines\n",
    "\n",
    "A Wallaroo **pipeline** is where the real work occurs.  A pipeline contains a series of **steps** - sequential sets of models which take in the data from the preceding step, process it through the model, then return a result.  Some models can be simple, such as the `cc_fraud` example listed below where the pipeline has only one step:\n",
    "\n",
    "* Step 0: Take in data\n",
    "* Step 1: Submit data to the model `ccfraudModel`.\n",
    "* Step Final:  Return a result\n",
    "\n",
    "Some models can be more complex with a whole series of models - and those results can be submitted to still other pipeline.  You can make pipelines as simple or complex as long as it meets your needs.\n",
    "\n",
    "Once a step is created you can add additional steps, remove a step, or swap one out until everything is running perfectly.\n",
    "\n",
    "**Note**: The Community Edition of Wallaroo limits users to two active pipelines, with a maximum of five steps per pipeline."
   ]
  },
  {
   "cell_type": "markdown",
   "metadata": {},
   "source": [
    "With all of that introduction out of the way, let's proceed to our Credit Card Detection Model.\n",
    "\n",
    "This example will demonstrate how to use Wallaroo to detect credit card fraud through a trained model and sample data.  By the end of this example, you'll be able to:\n",
    "\n",
    "* Start the Wallaroo client.\n",
    "* Create a workspace.\n",
    "* Upload the credit card fraud detection model to the workspace.\n",
    "* Create a new pipeline and set it to our credit card fraud detection model.\n",
    "* Run a smoke test to verify the pipeline and model is working properly.\n",
    "* Perform a bulk inference and display the results.\n",
    "* Undeploy the pipeline to get back the resources from our Kubernetes cluster.\n",
    "\n",
    "This example and sample data comes from the Machine Learning Group's demonstration on [Credit Card Fraud detection](https://www.kaggle.com/datasets/mlg-ulb/creditcardfraud)."
   ]
  },
  {
   "cell_type": "markdown",
   "metadata": {},
   "source": [
    "## Open a Connection to Wallaroo\n",
    "\n",
    "The first step is to connect to Wallaroo through the Wallaroo client.  The Python library is included in the Wallaroo install and available through the Jupyter Hub interface provided with your Wallaroo environment.\n",
    "\n",
    "This is accomplished using the `wallaroo.Client()` command, which provides a URL to grant the SDK permission to your specific Wallaroo environment.  When displayed, enter the URL into a browser and confirm permissions.  Store the connection into a variable that can be referenced later.\n",
    "\n",
    "If logging into the Wallaroo instance through the internal JupyterHub service, use `wl = wallaroo.Client()`.  If logging in externally, update the `wallarooPrefix` and `wallarooSuffix` variables with the proper DNS information.  For more information on Wallaroo DNS settings, see the [Wallaroo DNS Integration Guide](https://docs.wallaroo.ai/wallaroo-operations-guide/wallaroo-configuration/wallaroo-dns-guide/)."
   ]
  },
  {
   "cell_type": "code",
   "execution_count": 1,
   "metadata": {},
   "outputs": [],
   "source": [
    "import wallaroo\n",
    "from wallaroo.object import EntityNotFoundError\n",
    "import json\n",
    "\n",
    "# used to display dataframe information without truncating\n",
    "from IPython.display import display\n",
    "import pandas as pd\n",
    "pd.set_option('display.max_colwidth', None)"
   ]
  },
  {
   "cell_type": "code",
   "execution_count": 2,
   "metadata": {},
   "outputs": [
    {
     "data": {
      "text/plain": [
       "'2023.1.0rc1'"
      ]
     },
     "execution_count": 2,
     "metadata": {},
     "output_type": "execute_result"
    }
   ],
   "source": [
    "wallaroo.__version__"
   ]
  },
  {
   "cell_type": "code",
   "execution_count": 3,
   "metadata": {},
   "outputs": [
    {
     "name": "stdout",
     "output_type": "stream",
     "text": [
      "Please log into the following URL in a web browser:\n",
      "\n",
      "\thttps://doc-test.keycloak.wallaroocommunity.ninja/auth/realms/master/device?user_code=UBDY-PRXW\n",
      "\n",
      "Login successful!\n"
     ]
    }
   ],
   "source": [
    "# Login through local Wallaroo instance\n",
    "\n",
    "# wl = wallaroo.Client()\n",
    "\n",
    "# SSO login through keycloak\n",
    "\n",
    "wallarooPrefix = \"YOUR PREFIX\"\n",
    "wallarooSuffix = \"YOUR PREFIX\"\n",
    "\n",
    "wallarooPrefix = \"doc-test\"\n",
    "wallarooSuffix = \"wallaroocommunity.ninja\"\n",
    "\n",
    "wl = wallaroo.Client(api_endpoint=f\"https://{wallarooPrefix}.api.{wallarooSuffix}\", \n",
    "                    auth_endpoint=f\"https://{wallarooPrefix}.keycloak.{wallarooSuffix}\", \n",
    "                    auth_type=\"sso\")"
   ]
  },
  {
   "attachments": {},
   "cell_type": "markdown",
   "metadata": {},
   "source": [
    "### Arrow Support\n",
    "\n",
    "As of the 2023.1 release, Wallaroo provides support for DataFrame and Arrow for inference inputs.  This tutorial allows users to adjust their experience based on whether they have enabled Arrow support in their Wallaroo instance or not.\n",
    "\n",
    "If Arrow support has been enabled, `arrowEnabled=True`. If disabled or you're not sure, set it to `arrowEnabled=False`\n",
    "\n",
    "The examples below will be shown in an arrow enabled environment."
   ]
  },
  {
   "cell_type": "code",
   "execution_count": 4,
   "metadata": {},
   "outputs": [],
   "source": [
    "import os\n",
    "arrowEnabled=True\n",
    "os.environ[\"ARROW_ENABLED\"]=f\"{arrowEnabled}\"\n"
   ]
  },
  {
   "cell_type": "markdown",
   "metadata": {},
   "source": [
    "## Create a New Workspace\n",
    "\n",
    "Next we're going to create a new workspace called `ccfraudworkspace` for our model, then set it as our current workspace context.  We'll be doing this through the SDK, but here's an example of doing it through the Wallaroo dashboard.\n",
    "\n",
    "The method we'll introduce below will either **create** a new workspace if it doesn't exist, or **select** an existing workspace.  So if you create the workspace `ccfraudworkspace` then you're covered either way.\n",
    "\n",
    "The first part is to return to your Wallaroo Dashboard.  In the top navigation panel next to your user name there's a drop down with your workspaces.  In this example it just has \"My Workspace\".  Select **View Workspaces**.\n",
    "\n",
    "![Select View Workspaces](./images/wallaroo-101/wallaroo-dashboard-select-view-workspaces.png)"
   ]
  },
  {
   "cell_type": "markdown",
   "metadata": {},
   "source": [
    "From here, enter the name of our new workspace as `ccfraud-workspace`.  If it already exists, you can skip this step.\n",
    "\n",
    "* **IMPORTANT NOTE**:  Workspaces do not have forced unique names.  It is highly recommended to use an existing workspace when possible, or establish a naming convention for your workspaces to keep their names unique to remove confusion with teams.\n",
    "\n",
    "![Create ccfraud-workspace](./images/wallaroo-101/wallaroo-dashboard-create-workspace-ccfraud.png)"
   ]
  },
  {
   "cell_type": "markdown",
   "metadata": {},
   "source": [
    "Once complete, you'll be able to select the workspace from the drop down list in your dashboard.\n",
    "\n",
    "![ccfraud-workspace exists](./images/wallaroo-101/wallaroo-dashboard-ccfraud-workspace-exists.png)"
   ]
  },
  {
   "cell_type": "markdown",
   "metadata": {},
   "source": [
    "Just for the sake of this tutorial, we'll use the SDK below to create our workspace , assign as our **current workspace**, then display all of the workspaces we have at the moment.  We'll also set up for our models and pipelines down the road, so we have one spot to change names to whatever fits your organization's standards best.\n",
    "\n",
    "To allow this tutorial to be run multiple times or by multiple users in the same Wallaroo instance, a random 4 character prefix will be added to the workspace, pipeline, and model.\n",
    "\n",
    "When we create our new workspace, we'll save it in the Python variable `workspace` so we can refer to it as needed."
   ]
  },
  {
   "cell_type": "code",
   "execution_count": 5,
   "metadata": {},
   "outputs": [],
   "source": [
    "import string\n",
    "import random\n",
    "\n",
    "# make a random 4 character prefix\n",
    "prefix= ''.join(random.choice(string.ascii_lowercase) for i in range(4))\n",
    "workspace_name = f'{prefix}ccfraudworkspace'\n",
    "pipeline_name = f'{prefix}ccfraudpipeline'\n",
    "model_name = f'{prefix}ccfraudmodel'\n",
    "model_file_name = './ccfraud.onnx'"
   ]
  },
  {
   "cell_type": "code",
   "execution_count": 6,
   "metadata": {},
   "outputs": [],
   "source": [
    "def get_workspace(name):\n",
    "    workspace = None\n",
    "    for ws in wl.list_workspaces():\n",
    "        if ws.name() == name:\n",
    "            workspace= ws\n",
    "    if(workspace == None):\n",
    "        workspace = wl.create_workspace(name)\n",
    "    return workspace\n",
    "\n",
    "def get_pipeline(name):\n",
    "    try:\n",
    "        pipeline = wl.pipelines_by_name(pipeline_name)[0]\n",
    "    except EntityNotFoundError:\n",
    "        pipeline = wl.build_pipeline(pipeline_name)\n",
    "    return pipeline"
   ]
  },
  {
   "cell_type": "code",
   "execution_count": 7,
   "metadata": {},
   "outputs": [
    {
     "data": {
      "text/plain": [
       "{'name': 'ldgsccfraudworkspace', 'id': 9, 'archived': False, 'created_by': 'b5b66734-9148-4181-9210-0d2313d7b783', 'created_at': '2023-02-24T21:25:25.289985+00:00', 'models': [], 'pipelines': []}"
      ]
     },
     "execution_count": 7,
     "metadata": {},
     "output_type": "execute_result"
    }
   ],
   "source": [
    "workspace = get_workspace(workspace_name)\n",
    "\n",
    "wl.set_current_workspace(workspace)"
   ]
  },
  {
   "cell_type": "code",
   "execution_count": 8,
   "metadata": {},
   "outputs": [
    {
     "data": {
      "text/html": [
       "\n",
       "        <table>\n",
       "            <tr>\n",
       "                <th>Name</th>\n",
       "                <th>Created At</th>\n",
       "                <th>Users</th>\n",
       "                <th>Models</th>\n",
       "                <th>Pipelines</th>\n",
       "            </tr>\n",
       "            \n",
       "        <tr >\n",
       "            <td>john.hummel@wallaroo.ai - Default Workspace</td>\n",
       "            <td>2023-02-24 15:27:46</td>\n",
       "            <td>['john.hummel@wallaroo.ai']</td>\n",
       "            <td>0</td>\n",
       "            <td>0</td>\n",
       "        </tr>\n",
       "        \n",
       "\n",
       "        <tr >\n",
       "            <td>mlflowstatsmodelworkspace</td>\n",
       "            <td>2023-02-24 15:28:32</td>\n",
       "            <td>['john.hummel@wallaroo.ai']</td>\n",
       "            <td>2</td>\n",
       "            <td>1</td>\n",
       "        </tr>\n",
       "        \n",
       "\n",
       "        <tr >\n",
       "            <td>xgboost-regression-autoconvert-workspace</td>\n",
       "            <td>2023-02-24 15:33:48</td>\n",
       "            <td>['john.hummel@wallaroo.ai']</td>\n",
       "            <td>0</td>\n",
       "            <td>1</td>\n",
       "        </tr>\n",
       "        \n",
       "\n",
       "        <tr >\n",
       "            <td>xgboost-classification-autoconvert-workspace</td>\n",
       "            <td>2023-02-24 15:34:52</td>\n",
       "            <td>['john.hummel@wallaroo.ai']</td>\n",
       "            <td>0</td>\n",
       "            <td>1</td>\n",
       "        </tr>\n",
       "        \n",
       "\n",
       "        <tr >\n",
       "            <td>statsmodelworkspace</td>\n",
       "            <td>2023-02-24 17:22:16</td>\n",
       "            <td>['john.hummel@wallaroo.ai']</td>\n",
       "            <td>2</td>\n",
       "            <td>1</td>\n",
       "        </tr>\n",
       "        \n",
       "\n",
       "        <tr >\n",
       "            <td>ldgsccfraudworkspace</td>\n",
       "            <td>2023-02-24 21:25:25</td>\n",
       "            <td>['john.hummel@wallaroo.ai']</td>\n",
       "            <td>0</td>\n",
       "            <td>0</td>\n",
       "        </tr>\n",
       "        \n",
       "        </table>\n",
       "        "
      ],
      "text/plain": [
       "[{'name': 'john.hummel@wallaroo.ai - Default Workspace', 'id': 1, 'archived': False, 'created_by': 'b5b66734-9148-4181-9210-0d2313d7b783', 'created_at': '2023-02-24T15:27:46.504439+00:00', 'models': [], 'pipelines': []},\n",
       " {'name': 'mlflowstatsmodelworkspace', 'id': 5, 'archived': False, 'created_by': 'b5b66734-9148-4181-9210-0d2313d7b783', 'created_at': '2023-02-24T15:28:32.671394+00:00', 'models': [{'name': 'mlflow-statmodels', 'versions': 1, 'owner_id': '\"\"', 'last_update_time': datetime.datetime(2023, 2, 24, 15, 28, 34, 108327, tzinfo=tzutc()), 'created_at': datetime.datetime(2023, 2, 24, 15, 28, 34, 108327, tzinfo=tzutc())}, {'name': 'mlflow-postprocess', 'versions': 1, 'owner_id': '\"\"', 'last_update_time': datetime.datetime(2023, 2, 24, 15, 28, 34, 746379, tzinfo=tzutc()), 'created_at': datetime.datetime(2023, 2, 24, 15, 28, 34, 746379, tzinfo=tzutc())}], 'pipelines': [{'name': 'mlflowstatsmodelpipeline', 'create_time': datetime.datetime(2023, 2, 24, 15, 28, 33, 733115, tzinfo=tzutc()), 'definition': '[]'}]},\n",
       " {'name': 'xgboost-regression-autoconvert-workspace', 'id': 6, 'archived': False, 'created_by': 'b5b66734-9148-4181-9210-0d2313d7b783', 'created_at': '2023-02-24T15:33:48.482733+00:00', 'models': [], 'pipelines': [{'name': 'xgboost-regression-autoconvert-pipeline', 'create_time': datetime.datetime(2023, 2, 24, 15, 33, 49, 560552, tzinfo=tzutc()), 'definition': '[]'}]},\n",
       " {'name': 'xgboost-classification-autoconvert-workspace', 'id': 7, 'archived': False, 'created_by': 'b5b66734-9148-4181-9210-0d2313d7b783', 'created_at': '2023-02-24T15:34:52.916293+00:00', 'models': [], 'pipelines': [{'name': 'xgboost-classification-autoconvert-pipeline', 'create_time': datetime.datetime(2023, 2, 24, 15, 34, 55, 760402, tzinfo=tzutc()), 'definition': '[]'}]},\n",
       " {'name': 'statsmodelworkspace', 'id': 8, 'archived': False, 'created_by': 'b5b66734-9148-4181-9210-0d2313d7b783', 'created_at': '2023-02-24T17:22:16.219645+00:00', 'models': [{'name': 'statsmodels-test-statmodels', 'versions': 1, 'owner_id': '\"\"', 'last_update_time': datetime.datetime(2023, 2, 24, 17, 22, 17, 702311, tzinfo=tzutc()), 'created_at': datetime.datetime(2023, 2, 24, 17, 22, 17, 702311, tzinfo=tzutc())}, {'name': 'statsmodels-test-postprocess', 'versions': 1, 'owner_id': '\"\"', 'last_update_time': datetime.datetime(2023, 2, 24, 17, 22, 18, 364945, tzinfo=tzutc()), 'created_at': datetime.datetime(2023, 2, 24, 17, 22, 18, 364945, tzinfo=tzutc())}], 'pipelines': [{'name': 'statsmodelpipeline', 'create_time': datetime.datetime(2023, 2, 24, 17, 22, 17, 322363, tzinfo=tzutc()), 'definition': '[]'}]},\n",
       " {'name': 'ldgsccfraudworkspace', 'id': 9, 'archived': False, 'created_by': 'b5b66734-9148-4181-9210-0d2313d7b783', 'created_at': '2023-02-24T21:25:25.289985+00:00', 'models': [], 'pipelines': []}]"
      ]
     },
     "execution_count": 8,
     "metadata": {},
     "output_type": "execute_result"
    }
   ],
   "source": [
    "wl.list_workspaces()"
   ]
  },
  {
   "cell_type": "markdown",
   "metadata": {},
   "source": [
    "Just to make sure, let's list our current workspace.  If everything is going right, it will show us we're in the `ccfraud-workspace` with the appropriate prefix."
   ]
  },
  {
   "cell_type": "code",
   "execution_count": 9,
   "metadata": {},
   "outputs": [
    {
     "data": {
      "text/plain": [
       "{'name': 'ldgsccfraudworkspace', 'id': 9, 'archived': False, 'created_by': 'b5b66734-9148-4181-9210-0d2313d7b783', 'created_at': '2023-02-24T21:25:25.289985+00:00', 'models': [], 'pipelines': []}"
      ]
     },
     "execution_count": 9,
     "metadata": {},
     "output_type": "execute_result"
    }
   ],
   "source": [
    "wl.set_current_workspace(workspace)\n",
    "wl.get_current_workspace()"
   ]
  },
  {
   "cell_type": "markdown",
   "metadata": {},
   "source": [
    "## Upload a model\n",
    "\n",
    "Our workspace is created.  Let's upload our credit card fraud model to it.  This is the file name `ccfraud.onnx`, and we'll upload it as `ccfraudmodel`.  The credit card fraud model is trained to detect credit card fraud based on a 0 to 1 model:  The closer to 0 the less likely the transactions indicate fraud, while the closer to 1 the more likely the transactions indicate fraud.\n",
    "\n",
    "\n",
    "Since we're already in our default workspace `ccfraudworkspace`, it'll be uploaded right to there.  Once that's done uploading, we'll list out all of the models currently deployed so we can see it included."
   ]
  },
  {
   "cell_type": "code",
   "execution_count": 10,
   "metadata": {},
   "outputs": [],
   "source": [
    "ccfraud_model = wl.upload_model(model_name, model_file_name).configure()"
   ]
  },
  {
   "cell_type": "markdown",
   "metadata": {},
   "source": [
    "We can verify that our model was uploaded by listing the models uploaded to our Wallaroo instance with the `list_models()` command.  Note that since we uploaded this model before, we now have different versions of it we can use for our testing."
   ]
  },
  {
   "cell_type": "code",
   "execution_count": 11,
   "metadata": {},
   "outputs": [
    {
     "data": {
      "text/html": [
       "\n",
       "          <table>\n",
       "            <tr>\n",
       "              <th>Name</th>\n",
       "              <th># of Versions</th>\n",
       "              <th>Owner ID</th>\n",
       "              <th>Last Updated</th>\n",
       "              <th>Created At</th>\n",
       "            </tr>\n",
       "            \n",
       "            <tr>\n",
       "              <td>ldgsccfraudmodel</td>\n",
       "              <td>1</td>\n",
       "              <td>\"\"</td>\n",
       "              <td>2023-02-24 21:25:40.335268+00:00</td>\n",
       "              <td>2023-02-24 21:25:40.335268+00:00</td>\n",
       "            </tr>\n",
       "          \n",
       "          </table>\n",
       "        "
      ],
      "text/plain": [
       "[{'name': 'ldgsccfraudmodel', 'versions': 1, 'owner_id': '\"\"', 'last_update_time': datetime.datetime(2023, 2, 24, 21, 25, 40, 335268, tzinfo=tzutc()), 'created_at': datetime.datetime(2023, 2, 24, 21, 25, 40, 335268, tzinfo=tzutc())}]"
      ]
     },
     "execution_count": 11,
     "metadata": {},
     "output_type": "execute_result"
    }
   ],
   "source": [
    "wl.list_models()"
   ]
  },
  {
   "cell_type": "markdown",
   "metadata": {},
   "source": [
    "## Create a Pipeline\n",
    "\n",
    "With our model uploaded, time to create our pipeline and deploy it so it can accept data and process it through our `ccfraudmodel`.  We'll call our pipeline `ccfraudpipeline`.\n",
    "\n",
    "* **NOTE**:  Pipeline names must be unique.  If two pipelines are assigned the same name, the new pipeline is created as a new **version** of the pipeline."
   ]
  },
  {
   "cell_type": "code",
   "execution_count": 12,
   "metadata": {},
   "outputs": [],
   "source": [
    "ccfraud_pipeline = get_pipeline(pipeline_name)"
   ]
  },
  {
   "cell_type": "markdown",
   "metadata": {},
   "source": [
    "Now our pipeline is set.  Let's add a single **step** to it - in this case, our `ccfraud_model` that we uploaded to our workspace."
   ]
  },
  {
   "cell_type": "code",
   "execution_count": 13,
   "metadata": {},
   "outputs": [
    {
     "data": {
      "text/html": [
       "<table><tr><th>name</th> <td>ldgsccfraudpipeline</td></tr><tr><th>created</th> <td>2023-02-24 21:25:42.520174+00:00</td></tr><tr><th>last_updated</th> <td>2023-02-24 21:25:42.520174+00:00</td></tr><tr><th>deployed</th> <td>(none)</td></tr><tr><th>tags</th> <td></td></tr><tr><th>versions</th> <td>eba54373-3b54-46a8-989b-a6416b1a53f7</td></tr><tr><th>steps</th> <td></td></tr></table>"
      ],
      "text/plain": [
       "{'name': 'ldgsccfraudpipeline', 'create_time': datetime.datetime(2023, 2, 24, 21, 25, 42, 520174, tzinfo=tzutc()), 'definition': \"[{'ModelInference': {'models': [{'name': 'ldgsccfraudmodel', 'version': 'ce4f6c53-fdf4-4354-ba11-de5ebbae844e', 'sha': 'bc85ce596945f876256f41515c7501c399fd97ebcb9ab3dd41bf03f8937b4507'}]}}]\"}"
      ]
     },
     "execution_count": 13,
     "metadata": {},
     "output_type": "execute_result"
    }
   ],
   "source": [
    "ccfraud_pipeline.add_model_step(ccfraud_model)"
   ]
  },
  {
   "cell_type": "markdown",
   "metadata": {},
   "source": [
    "And now we can deploy our pipeline and assign resources to it.  This typically takes about 45 seconds once the command is issued."
   ]
  },
  {
   "cell_type": "code",
   "execution_count": 14,
   "metadata": {},
   "outputs": [
    {
     "data": {
      "text/html": [
       "<table><tr><th>name</th> <td>ldgsccfraudpipeline</td></tr><tr><th>created</th> <td>2023-02-24 21:25:42.520174+00:00</td></tr><tr><th>last_updated</th> <td>2023-02-24 21:25:50.098424+00:00</td></tr><tr><th>deployed</th> <td>True</td></tr><tr><th>tags</th> <td></td></tr><tr><th>versions</th> <td>cc52820a-b2b1-4c22-9c29-ee1be600c179, eba54373-3b54-46a8-989b-a6416b1a53f7</td></tr><tr><th>steps</th> <td>ldgsccfraudmodel</td></tr></table>"
      ],
      "text/plain": [
       "{'name': 'ldgsccfraudpipeline', 'create_time': datetime.datetime(2023, 2, 24, 21, 25, 42, 520174, tzinfo=tzutc()), 'definition': \"[{'ModelInference': {'models': [{'name': 'ldgsccfraudmodel', 'version': 'ce4f6c53-fdf4-4354-ba11-de5ebbae844e', 'sha': 'bc85ce596945f876256f41515c7501c399fd97ebcb9ab3dd41bf03f8937b4507'}]}}]\"}"
      ]
     },
     "execution_count": 14,
     "metadata": {},
     "output_type": "execute_result"
    }
   ],
   "source": [
    "ccfraud_pipeline.deploy()"
   ]
  },
  {
   "cell_type": "markdown",
   "metadata": {},
   "source": [
    "We can see our new pipeline with the `status()` command."
   ]
  },
  {
   "cell_type": "code",
   "execution_count": 15,
   "metadata": {},
   "outputs": [
    {
     "data": {
      "text/plain": [
       "{'status': 'Running',\n",
       " 'details': [],\n",
       " 'engines': [{'ip': '10.244.1.27',\n",
       "   'name': 'engine-547454c955-6z687',\n",
       "   'status': 'Running',\n",
       "   'reason': None,\n",
       "   'details': [],\n",
       "   'pipeline_statuses': {'pipelines': [{'id': 'ldgsccfraudpipeline',\n",
       "      'status': 'Running'}]},\n",
       "   'model_statuses': {'models': [{'name': 'ldgsccfraudmodel',\n",
       "      'version': 'ce4f6c53-fdf4-4354-ba11-de5ebbae844e',\n",
       "      'sha': 'bc85ce596945f876256f41515c7501c399fd97ebcb9ab3dd41bf03f8937b4507',\n",
       "      'status': 'Running'}]}}],\n",
       " 'engine_lbs': [{'ip': '10.244.1.26',\n",
       "   'name': 'engine-lb-ddd995646-n69cj',\n",
       "   'status': 'Running',\n",
       "   'reason': None,\n",
       "   'details': []}],\n",
       " 'sidekicks': []}"
      ]
     },
     "execution_count": 15,
     "metadata": {},
     "output_type": "execute_result"
    }
   ],
   "source": [
    "ccfraud_pipeline.status()"
   ]
  },
  {
   "cell_type": "markdown",
   "metadata": {},
   "source": [
    "## Running Interfences\n",
    "\n",
    "With our pipeline deployed, let's run a smoke test to make sure it's working right.  We'll run an inference through our pipeline from the file `smoke_test.json` and see the results.  This should give us a result near 0 - not likely a fraudulent activity."
   ]
  },
  {
   "cell_type": "code",
   "execution_count": 16,
   "metadata": {},
   "outputs": [
    {
     "data": {
      "text/html": [
       "<div>\n",
       "<style scoped>\n",
       "    .dataframe tbody tr th:only-of-type {\n",
       "        vertical-align: middle;\n",
       "    }\n",
       "\n",
       "    .dataframe tbody tr th {\n",
       "        vertical-align: top;\n",
       "    }\n",
       "\n",
       "    .dataframe thead th {\n",
       "        text-align: right;\n",
       "    }\n",
       "</style>\n",
       "<table border=\"1\" class=\"dataframe\">\n",
       "  <thead>\n",
       "    <tr style=\"text-align: right;\">\n",
       "      <th></th>\n",
       "      <th>time</th>\n",
       "      <th>in.tensor</th>\n",
       "      <th>out.dense_1</th>\n",
       "      <th>check_failures</th>\n",
       "    </tr>\n",
       "  </thead>\n",
       "  <tbody>\n",
       "    <tr>\n",
       "      <th>0</th>\n",
       "      <td>2023-02-24 21:26:22.437</td>\n",
       "      <td>[1.0678324729, 0.2177810266, -1.7115145262, 0.682285721, 1.0138553067, -0.4335000013, 0.7395859437, -0.2882839595, -0.447262688, 0.5146124988, 0.3791316964, 0.5190619748, -0.4904593222, 1.1656456469, -0.9776307444, -0.6322198963, -0.6891477694, 0.1783317857, 0.1397992467, -0.3554220649, 0.4394217877, 1.4588397512, -0.3886829615, 0.4353492889, 1.7420053483, -0.4434654615, -0.1515747891, -0.2668451725, -1.4549617756]</td>\n",
       "      <td>[0.0014974177]</td>\n",
       "      <td>0</td>\n",
       "    </tr>\n",
       "  </tbody>\n",
       "</table>\n",
       "</div>"
      ],
      "text/plain": [
       "                     time  \\\n",
       "0 2023-02-24 21:26:22.437   \n",
       "\n",
       "                                                                                                                                                                                                                                                                                                                                                                                                                            in.tensor  \\\n",
       "0  [1.0678324729, 0.2177810266, -1.7115145262, 0.682285721, 1.0138553067, -0.4335000013, 0.7395859437, -0.2882839595, -0.447262688, 0.5146124988, 0.3791316964, 0.5190619748, -0.4904593222, 1.1656456469, -0.9776307444, -0.6322198963, -0.6891477694, 0.1783317857, 0.1397992467, -0.3554220649, 0.4394217877, 1.4588397512, -0.3886829615, 0.4353492889, 1.7420053483, -0.4434654615, -0.1515747891, -0.2668451725, -1.4549617756]   \n",
       "\n",
       "      out.dense_1  check_failures  \n",
       "0  [0.0014974177]               0  "
      ]
     },
     "metadata": {},
     "output_type": "display_data"
    }
   ],
   "source": [
    "if arrowEnabled is True:\n",
    "    result = ccfraud_pipeline.infer_from_file('./data/smoke_test.df.json')\n",
    "else:\n",
    "    result = ccfraud_pipeline.infer_from_file('./data/smoke_test.json')\n",
    "display(result)"
   ]
  },
  {
   "cell_type": "markdown",
   "metadata": {},
   "source": [
    "Looks good!  Time to run the real test on some real data.  Run another inference this time from the file `high_fraud.json` and let's see the results.  This should give us an output that indicates a high level of fraud - well over 90%."
   ]
  },
  {
   "cell_type": "code",
   "execution_count": 17,
   "metadata": {},
   "outputs": [
    {
     "data": {
      "text/html": [
       "<div>\n",
       "<style scoped>\n",
       "    .dataframe tbody tr th:only-of-type {\n",
       "        vertical-align: middle;\n",
       "    }\n",
       "\n",
       "    .dataframe tbody tr th {\n",
       "        vertical-align: top;\n",
       "    }\n",
       "\n",
       "    .dataframe thead th {\n",
       "        text-align: right;\n",
       "    }\n",
       "</style>\n",
       "<table border=\"1\" class=\"dataframe\">\n",
       "  <thead>\n",
       "    <tr style=\"text-align: right;\">\n",
       "      <th></th>\n",
       "      <th>time</th>\n",
       "      <th>in.tensor</th>\n",
       "      <th>out.dense_1</th>\n",
       "      <th>check_failures</th>\n",
       "    </tr>\n",
       "  </thead>\n",
       "  <tbody>\n",
       "    <tr>\n",
       "      <th>0</th>\n",
       "      <td>2023-02-24 21:26:22.916</td>\n",
       "      <td>[1.0678324729, 18.1555563975, -1.6589551058, 5.2111788045, 2.3452470645, 10.4670835778, 5.0925820522, 12.8295153637, 4.9536770468, 2.3934736228, 23.912131818, 1.759956831, 0.8561037518, 1.1656456469, 0.5395988814, 0.7784221343, 6.7580610727, 3.9274118477, 12.4621782767, 12.3075382165, 13.7879519066, 1.4588397512, 3.6818346868, 1.753914366, 8.4843550037, 14.6454097667, 26.8523774363, 2.7165292377, 3.0611957069]</td>\n",
       "      <td>[0.981199]</td>\n",
       "      <td>0</td>\n",
       "    </tr>\n",
       "  </tbody>\n",
       "</table>\n",
       "</div>"
      ],
      "text/plain": [
       "                     time  \\\n",
       "0 2023-02-24 21:26:22.916   \n",
       "\n",
       "                                                                                                                                                                                                                                                                                                                                                                                                                       in.tensor  \\\n",
       "0  [1.0678324729, 18.1555563975, -1.6589551058, 5.2111788045, 2.3452470645, 10.4670835778, 5.0925820522, 12.8295153637, 4.9536770468, 2.3934736228, 23.912131818, 1.759956831, 0.8561037518, 1.1656456469, 0.5395988814, 0.7784221343, 6.7580610727, 3.9274118477, 12.4621782767, 12.3075382165, 13.7879519066, 1.4588397512, 3.6818346868, 1.753914366, 8.4843550037, 14.6454097667, 26.8523774363, 2.7165292377, 3.0611957069]   \n",
       "\n",
       "  out.dense_1  check_failures  \n",
       "0  [0.981199]               0  "
      ]
     },
     "metadata": {},
     "output_type": "display_data"
    }
   ],
   "source": [
    "if arrowEnabled is True:\n",
    "    result = ccfraud_pipeline.infer_from_file('./data/high_fraud.df.json')\n",
    "else:\n",
    "    result = ccfraud_pipeline.infer_from_file('./data/high_fraud.json')\n",
    "display(result)"
   ]
  },
  {
   "cell_type": "markdown",
   "metadata": {},
   "source": [
    "Now that we've tested our pipeline, let's run it with something larger.  We have two batch files - `cc_data_1k.json` that contains 1,000 credit card records to test for fraud.  The other is `cc_data_10k.json` which has 10,000 credit card records to test.\n",
    "\n",
    "First let's run a batch result for `cc_data_1k.json` and see the results.  \n",
    "\n",
    "For Arrow enabled instances of Wallaroo, inference results are returned as a [pandas.DataFrame](https://pandas.pydata.org/docs/reference/api/pandas.DataFrame.html) object.\n",
    "\n",
    "For non-Arrow enabled instances of Wallaroo, inferences are returned as the [InferenceResult object](https://docs.wallaroo.ai/wallaroo-sdk/wallaroo-sdk-essentials-guide/#inferenceresult-object).\n",
    "\n",
    "With the inference result we'll output just the cases likely to be fraud.  For Arrow enabled Wallaroo instances, we'll parse the dataframe returned as the inference result.  For non-Arrow Wallaroo instances, we'll use the Inference Result object's `data()` method."
   ]
  },
  {
   "cell_type": "code",
   "execution_count": 18,
   "metadata": {},
   "outputs": [
    {
     "data": {
      "text/plain": [
       "0        [0.99300325]\n",
       "1        [0.99300325]\n",
       "2        [0.99300325]\n",
       "3        [0.99300325]\n",
       "161             [1.0]\n",
       "941       [0.9873102]\n",
       "1445            [1.0]\n",
       "2092        [0.99999]\n",
       "2220     [0.91080534]\n",
       "4135     [0.98877275]\n",
       "4236     [0.95601666]\n",
       "5658            [1.0]\n",
       "6768      [0.9999745]\n",
       "6780      [0.9852645]\n",
       "7133            [1.0]\n",
       "7566      [0.9999705]\n",
       "7911      [0.9980203]\n",
       "8921     [0.99950194]\n",
       "9244      [0.9999876]\n",
       "10176           [1.0]\n",
       "Name: out.dense_1, dtype: object"
      ]
     },
     "metadata": {},
     "output_type": "display_data"
    }
   ],
   "source": [
    "outputs = None\n",
    "if arrowEnabled is True:\n",
    "    outputs = ccfraud_pipeline.infer_from_file('./data/cc_data_10k.df.json')\n",
    "    filter = [elt[0] > 0.75 for elt in outputs['out.dense_1']]\n",
    "    result = outputs.loc[filter, ['in.tensor','out.dense_1']]\n",
    "    display(result['out.dense_1'])\n",
    "else:\n",
    "    outputs = ccfraud_pipeline.infer_from_file('./data/cc_data_10k.json')\n",
    "    sequence = outputs[0].data()\n",
    "    result = filter(lambda x: x > 0.75, sequence[0])\n",
    "    display(sequence[0])"
   ]
  },
  {
   "cell_type": "markdown",
   "metadata": {},
   "source": [
    "We can view the inputs either through the `in.tensor` column from our DataFrame for Arrow enabled environments, or with the InferenceResult object through the `input_data()` for non-Arrow enabled environments.  We'll display just the first row in either case."
   ]
  },
  {
   "cell_type": "code",
   "execution_count": 19,
   "metadata": {},
   "outputs": [
    {
     "data": {
      "text/plain": [
       "[-1.0603297501,\n",
       " 2.3544967095,\n",
       " -3.5638788326,\n",
       " 5.1387348926,\n",
       " -1.2308457019,\n",
       " -0.7687824608,\n",
       " -3.5881228109,\n",
       " 1.8880837663,\n",
       " -3.2789674274,\n",
       " -3.9563254554,\n",
       " 4.0993439118,\n",
       " -5.6539176395,\n",
       " -0.8775733373,\n",
       " -9.131571192,\n",
       " -0.6093537873,\n",
       " -3.7480276773,\n",
       " -5.0309125017,\n",
       " -0.8748149526,\n",
       " 1.9870535692,\n",
       " 0.7005485718,\n",
       " 0.9204422758,\n",
       " -0.1041491809,\n",
       " 0.3229564351,\n",
       " -0.7418141657,\n",
       " 0.0384120159,\n",
       " 1.0993439146,\n",
       " 1.2603409756,\n",
       " -0.1466244739,\n",
       " -1.4463212439]"
      ]
     },
     "metadata": {},
     "output_type": "display_data"
    }
   ],
   "source": [
    "if arrowEnabled is True:\n",
    "    display(result['in.tensor'][0])\n",
    "else:\n",
    "    display(outputs[0].input_data()[\"tensor\"][0])"
   ]
  },
  {
   "cell_type": "markdown",
   "metadata": {},
   "source": [
    "## Batch Deployment through a Pipeline Deployment URL\n",
    "\n",
    "This next step requires some manual use.  We're going to have `ccfraud_pipeline` display its deployment url - this allows us to submit data through a HTTP interface and get the results back.\n",
    "\n",
    "First we'll request the url with the `_deployment._url()` method.\n",
    "\n",
    "* **IMPORTANT NOTE**:  The `_deployment._url()` method will return an **internal** URL when using Python commands from within the Wallaroo instance - for example, the Wallaroo JupyterHub service.  When connecting via an external connection, `_deployment._url()` returns an **external** URL.  External URL connections requires [the authentication be included in the HTTP request](https://docs.wallaroo.ai/wallaroo-developer-guides/wallaroo-api-guide/), and that [Model Endpoints Guide](https://docs.wallaroo.ai/wallaroo-operations-guide/wallaroo-configuration/wallaroo-model-endpoints-guide/) external endpoints are enabled in the Wallaroo configuration options."
   ]
  },
  {
   "cell_type": "code",
   "execution_count": 20,
   "metadata": {},
   "outputs": [
    {
     "name": "stdout",
     "output_type": "stream",
     "text": [
      "https://sparkly-apple-3026.api.wallaroo.community/v1/api/pipelines/infer/yqecccfraudpipeline-67\n"
     ]
    }
   ],
   "source": [
    "deploy_url = ccfraud_pipeline._deployment._url()\n",
    "print(deploy_url)"
   ]
  },
  {
   "cell_type": "markdown",
   "metadata": {},
   "source": [
    "The API connection details can be retrieved through the Wallaroo client `mlops()` command.  This will display the connection URL, bearer token, and other information.  The bearer token is available for one hour before it expires.\n",
    "\n",
    "For this example, the API connection details will be retrieved, then used to submit an inference request through the external inference URL retrieved earlier."
   ]
  },
  {
   "cell_type": "code",
   "execution_count": 21,
   "metadata": {},
   "outputs": [
    {
     "data": {
      "text/plain": [
       "'eyJhbGciOiJSUzI1NiIsInR5cCIgOiAiSldUIiwia2lkIiA6ICJjTGZaYmhVQWl0a210Z0VLV0l1NnczTWlXYmUzWjc3cHdqVjJ2QWM2WUdZIn0.eyJleHAiOjE2NzcxNjgxNjksImlhdCI6MTY3NzE2ODEwOSwiYXV0aF90aW1lIjoxNjc3MTY1MjQ1LCJqdGkiOiI3MGM2YTkzMC1mODY0LTRhM2YtYWVlZi04YjgwODgxOTdkMmEiLCJpc3MiOiJodHRwczovL3NwYXJrbHktYXBwbGUtMzAyNi5rZXljbG9hay53YWxsYXJvby5jb21tdW5pdHkvYXV0aC9yZWFsbXMvbWFzdGVyIiwiYXVkIjpbIm1hc3Rlci1yZWFsbSIsImFjY291bnQiXSwic3ViIjoiMTM4YmQ3ZTYtNGRjOC00ZGMxLWE3NjAtYzllNzIxZWYzYzM3IiwidHlwIjoiQmVhcmVyIiwiYXpwIjoic2RrLWNsaWVudCIsInNlc3Npb25fc3RhdGUiOiI0ZmZkMTgxZC1lNDI1LTRmMGUtOWExMy05NzY5MGM5ZDc4ZWIiLCJhY3IiOiIwIiwicmVhbG1fYWNjZXNzIjp7InJvbGVzIjpbImNyZWF0ZS1yZWFsbSIsImRlZmF1bHQtcm9sZXMtbWFzdGVyIiwib2ZmbGluZV9hY2Nlc3MiLCJhZG1pbiIsInVtYV9hdXRob3JpemF0aW9uIl19LCJyZXNvdXJjZV9hY2Nlc3MiOnsibWFzdGVyLXJlYWxtIjp7InJvbGVzIjpbInZpZXctcmVhbG0iLCJ2aWV3LWlkZW50aXR5LXByb3ZpZGVycyIsIm1hbmFnZS1pZGVudGl0eS1wcm92aWRlcnMiLCJpbXBlcnNvbmF0aW9uIiwiY3JlYXRlLWNsaWVudCIsIm1hbmFnZS11c2VycyIsInF1ZXJ5LXJlYWxtcyIsInZpZXctYXV0aG9yaXphdGlvbiIsInF1ZXJ5LWNsaWVudHMiLCJxdWVyeS11c2VycyIsIm1hbmFnZS1ldmVudHMiLCJtYW5hZ2UtcmVhbG0iLCJ2aWV3LWV2ZW50cyIsInZpZXctdXNlcnMiLCJ2aWV3LWNsaWVudHMiLCJtYW5hZ2UtYXV0aG9yaXphdGlvbiIsIm1hbmFnZS1jbGllbnRzIiwicXVlcnktZ3JvdXBzIl19LCJhY2NvdW50Ijp7InJvbGVzIjpbIm1hbmFnZS1hY2NvdW50IiwibWFuYWdlLWFjY291bnQtbGlua3MiLCJ2aWV3LXByb2ZpbGUiXX19LCJzY29wZSI6ImVtYWlsIHByb2ZpbGUiLCJzaWQiOiI0ZmZkMTgxZC1lNDI1LTRmMGUtOWExMy05NzY5MGM5ZDc4ZWIiLCJlbWFpbF92ZXJpZmllZCI6dHJ1ZSwiaHR0cHM6Ly9oYXN1cmEuaW8vand0L2NsYWltcyI6eyJ4LWhhc3VyYS11c2VyLWlkIjoiMTM4YmQ3ZTYtNGRjOC00ZGMxLWE3NjAtYzllNzIxZWYzYzM3IiwieC1oYXN1cmEtZGVmYXVsdC1yb2xlIjoidXNlciIsIngtaGFzdXJhLWFsbG93ZWQtcm9sZXMiOlsidXNlciJdLCJ4LWhhc3VyYS11c2VyLWdyb3VwcyI6Int9In0sInByZWZlcnJlZF91c2VybmFtZSI6ImpvaG4uaGFuc2FyaWNrQHdhbGxhcm9vLmFpIiwiZW1haWwiOiJqb2huLmhhbnNhcmlja0B3YWxsYXJvby5haSJ9.IzPBxQJYpuU6ugheXIGoP_g7Yh82CE0f_X4v4lLO4ERzmBAwGReHzFLqVj-gkgPxvlZ_zgRVB9ld5TrHwLaeWJqVAGHIEAt7FSZl66CakA5823Zv9IiBHXv-Vd-QqHlokfSXvUwKXFTzVEn5NcsmD-F8MtHIi-BOkkVdoR0Fiv02g_sOCPiVORWiZzIx-4dGbeoo7VISpCXUw1Ik7aBrGDlC4-db8GSm0lgahhJygyp5MAKt2G5_nE5o8cGj2Q6ljugcB8hrQ9rj2VTnIV5qsk_QbDS953AOhCu9LK2r7XDlg3ZmmA_8DmrZo9muFh_lLZza4G4Ha_lUAUc076V8Aw'"
      ]
     },
     "execution_count": 21,
     "metadata": {},
     "output_type": "execute_result"
    }
   ],
   "source": [
    "connection =wl.mlops().__dict__\n",
    "token = connection['token']\n",
    "token"
   ]
  },
  {
   "cell_type": "markdown",
   "metadata": {},
   "source": [
    "The `deploy_url` variable will be used to access the pipeline inference URL, and the `token` variable used to authenticate for this batch inference process."
   ]
  },
  {
   "cell_type": "code",
   "execution_count": 22,
   "metadata": {},
   "outputs": [],
   "source": [
    "if arrowEnabled is True:\n",
    "    dataFile=\"./data/cc_data_10k.df.json\"\n",
    "    contentType=\"application/json; format=pandas-records\"\n",
    "else:\n",
    "    dataFile=\"./data/cc_data_10k.json\"\n",
    "    contentType=\"application/json\""
   ]
  },
  {
   "cell_type": "code",
   "execution_count": 23,
   "metadata": {},
   "outputs": [
    {
     "name": "stdout",
     "output_type": "stream",
     "text": [
      "  % Total    % Received % Xferd  Average Speed   Time    Time     Time  Current\n",
      "                                 Dload  Upload   Total   Spent    Left  Speed\n",
      "100 13.7M  100 6325k  100 7743k  1802k  2206k  0:00:03  0:00:03 --:--:-- 4010k\n"
     ]
    }
   ],
   "source": [
    "!curl -X POST {deploy_url} -H \"Authorization: Bearer {token}\" -H \"Content-Type:{contentType}\" --data @{dataFile} > curl_response.txt"
   ]
  },
  {
   "cell_type": "markdown",
   "metadata": {},
   "source": [
    "With our work in the pipeline done, we'll undeploy it to get back our resources from the Kubernetes cluster.  If we keep the same settings we can redeploy the pipeline with the same configuration in the future."
   ]
  },
  {
   "cell_type": "code",
   "execution_count": 26,
   "metadata": {},
   "outputs": [
    {
     "data": {
      "text/html": [
       "<table><tr><th>name</th> <td>ldgsccfraudpipeline</td></tr><tr><th>created</th> <td>2023-02-24 21:25:42.520174+00:00</td></tr><tr><th>last_updated</th> <td>2023-02-24 21:25:50.098424+00:00</td></tr><tr><th>deployed</th> <td>False</td></tr><tr><th>tags</th> <td></td></tr><tr><th>versions</th> <td>cc52820a-b2b1-4c22-9c29-ee1be600c179, eba54373-3b54-46a8-989b-a6416b1a53f7</td></tr><tr><th>steps</th> <td>ldgsccfraudmodel</td></tr></table>"
      ],
      "text/plain": [
       "{'name': 'ldgsccfraudpipeline', 'create_time': datetime.datetime(2023, 2, 24, 21, 25, 42, 520174, tzinfo=tzutc()), 'definition': \"[{'ModelInference': {'models': [{'name': 'ldgsccfraudmodel', 'version': 'ce4f6c53-fdf4-4354-ba11-de5ebbae844e', 'sha': 'bc85ce596945f876256f41515c7501c399fd97ebcb9ab3dd41bf03f8937b4507'}]}}]\"}"
      ]
     },
     "execution_count": 26,
     "metadata": {},
     "output_type": "execute_result"
    }
   ],
   "source": [
    "ccfraud_pipeline.undeploy()"
   ]
  },
  {
   "cell_type": "markdown",
   "metadata": {},
   "source": [
    "And there we have it!  Feel free to use this as a template for other models, inferences and pipelines that you want to deploy with Wallaroo!"
   ]
  }
 ],
 "metadata": {
  "kernelspec": {
   "display_name": "arrowtests",
   "language": "python",
   "name": "python3"
  },
  "language_info": {
   "codemirror_mode": {
    "name": "ipython",
    "version": 3
   },
   "file_extension": ".py",
   "mimetype": "text/x-python",
   "name": "python",
   "nbconvert_exporter": "python",
   "pygments_lexer": "ipython3",
   "version": "3.8.12"
  },
  "vscode": {
   "interpreter": {
    "hash": "7dda4bf3640b7fafcd1648658b879b4cc9f6ba6084e8fb356fdaaa1a461d1690"
   }
  }
 },
 "nbformat": 4,
 "nbformat_minor": 4
}
