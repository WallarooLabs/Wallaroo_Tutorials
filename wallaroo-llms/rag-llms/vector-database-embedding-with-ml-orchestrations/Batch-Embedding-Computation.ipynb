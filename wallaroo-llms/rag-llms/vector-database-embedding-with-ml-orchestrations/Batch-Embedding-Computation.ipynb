{
 "cells": [
  {
   "cell_type": "markdown",
   "id": "eca8fb86-66e0-4e18-b110-7e255ed17fc3",
   "metadata": {},
   "source": [
    "This tutorial and the assets can be downloaded as part of the [Wallaroo Tutorials repository](https://github.com/WallarooLabs/Wallaroo_Tutorials/blob/wallaroo2024.4_tutorials/wallaroo-llms/rag-llms/vector-database-embedding-with-ml-orchestrations).\n",
    "\n",
    "## RAG LLMs: Automated Vector Database Enrichment in Wallaroo\n",
    "\n",
    "The following demonstrates using a Bidirectional Attentive Autoencoder for Inducing Semantics (BAAI) general embedding (BGE) model to update embeddings in a vector database.  This process uses Wallaroo features to:\n",
    "\n",
    "* Deploy the BGE model for embedding computation.\n",
    "* Create a Wallaroo Data Connector to connect to a vector database.\n",
    "* Use Wallaroo Inference Automations to batch process documents on a regular basis to update embeddings in the vector database.\n",
    "\n",
    "These embeddings are used in a vector database to [generate context for RAG LLMs](https://docs.wallaroo.ai/wallaroo-llm/wallaroo-rag-llm/) - text matching the embedding is used by the RAG LLM to narrow its responses and prevent hallucinations.\n",
    "\n",
    "For this example, the [Mongo Atlas Vector Database](https://www.mongodb.com/lp/cloud/atlas/try4) is used as the representational database.\n",
    "\n",
    "For access to these sample models and for a demonstration of how to use a LLM Validation Listener.\n",
    "\n",
    "* Contact your Wallaroo Support Representative **OR**\n",
    "* [Schedule Your Wallaroo.AI Demo Today](https://wallaroo.ai/request-a-demo/)."
   ]
  },
  {
   "cell_type": "markdown",
   "id": "4805e006-510a-45f5-8f2e-48fc6d353a4b",
   "metadata": {},
   "source": [
    "## Library Import\n",
    "\n",
    "For this tutorial, import the [pymongo package](https://pypi.org/project/pymongo/).  This is used later to interact with the MongoDB Atlas Vector Database."
   ]
  },
  {
   "cell_type": "code",
   "execution_count": 1,
   "id": "031433c0-a081-4211-94ad-3cf745b5e1fc",
   "metadata": {},
   "outputs": [
    {
     "name": "stdout",
     "output_type": "stream",
     "text": [
      "Collecting pymongo\n",
      "  Using cached pymongo-4.7.3-cp39-cp39-manylinux_2_17_x86_64.manylinux2014_x86_64.whl (668 kB)\n",
      "Collecting dnspython<3.0.0,>=1.16.0\n",
      "  Using cached dnspython-2.6.1-py3-none-any.whl (307 kB)\n",
      "Installing collected packages: dnspython, pymongo\n",
      "Successfully installed dnspython-2.6.1 pymongo-4.7.3\n"
     ]
    }
   ],
   "source": [
    "!pip install pymongo"
   ]
  },
  {
   "cell_type": "markdown",
   "id": "782329bf",
   "metadata": {},
   "source": [
    "Next we import the libraries used for this tutorial into the notebook."
   ]
  },
  {
   "cell_type": "code",
   "execution_count": 2,
   "id": "582e78ef-ca34-49de-bc74-b6f8126e6c58",
   "metadata": {},
   "outputs": [],
   "source": [
    "import json\n",
    "import os\n",
    "import pymongo\n",
    "\n",
    "import wallaroo\n",
    "from wallaroo.pipeline   import Pipeline\n",
    "from wallaroo.deployment_config import DeploymentConfigBuilder\n",
    "from wallaroo.framework import Framework\n",
    "from wallaroo.engine_config import Architecture\n",
    "\n",
    "import pyarrow as pa\n",
    "import numpy as np\n",
    "import pandas as pd\n",
    "\n",
    "import zipfile\n",
    "import time"
   ]
  },
  {
   "cell_type": "markdown",
   "id": "8ef4360a",
   "metadata": {},
   "source": [
    "## Upload and Deploy BGE Model\n",
    "\n",
    "This process shows how to upload the sample BGE model to Wallaroo and perform sample inferences through it that generate the embeddings.\n",
    "\n",
    "### Connect to the Wallaroo Instance\n",
    "\n",
    "This step sets a connection to Wallaroo through the Wallaroo client.  The Python library is included in the Wallaroo install and available through the Jupyter Hub interface provided with your Wallaroo environment.\n",
    "\n",
    "This is accomplished using the `wallaroo.Client()` command, which provides a URL to grant the SDK permission to your specific Wallaroo environment.  When displayed, enter the URL into a browser and confirm permissions.  Store the connection into a variable that can be referenced later.\n",
    "\n",
    "If logging into the Wallaroo instance through the internal JupyterHub service, use `wl = wallaroo.Client()`.  For more information on Wallaroo Client settings, see the [Client Connection guide](https://docs.wallaroo.ai/wallaroo-developer-guides/wallaroo-sdk-guides/wallaroo-sdk-essentials-guide/wallaroo-sdk-essentials-client/)."
   ]
  },
  {
   "cell_type": "code",
   "execution_count": 4,
   "id": "b661af0e-2c88-4afd-aad9-374fa73dc693",
   "metadata": {},
   "outputs": [],
   "source": [
    "wl = wallaroo.Client(request_timeout=480)\n",
    "workspace = wl.get_workspace(\"embedding-computation\", create_if_not_exist=True)\n",
    "_ = wl.set_current_workspace(ws)"
   ]
  },
  {
   "cell_type": "markdown",
   "id": "efa3f2f8-8905-4515-9faa-50149014e34f",
   "metadata": {},
   "source": [
    "### Upload BGE Model\n",
    "\n",
    "Before uploading the BGE model, we define the input and output schemas in Apache PyArrow Schema format."
   ]
  },
  {
   "cell_type": "code",
   "execution_count": 5,
   "id": "37ea5af0-9bf5-4325-9a77-e292ff092d60",
   "metadata": {},
   "outputs": [],
   "source": [
    "input_schema = pa.schema([\n",
    "    pa.field('text', pa.string())\n",
    "])\n",
    "output_schema = pa.schema([\n",
    "    pa.field('embedding', \n",
    "        pa.list_(\n",
    "            pa.float64(), list_size=768\n",
    "        ),\n",
    "    )\n",
    "])"
   ]
  },
  {
   "cell_type": "markdown",
   "id": "3efc053a",
   "metadata": {},
   "source": [
    "The BGE model is a Hugging Face model in a Wallaroo BYOP framework in the file `byop_bge_base2.zip`.  We upload it to Wallaroo via the `wallaroo.client.Client.upload_model` method, providing the following parameters:\n",
    "\n",
    "* The name to assign to the BGE model.\n",
    "* The file path to upload the model.\n",
    "* The Framework set to `wallaroo.framework.Framework.CUSTOM` for our Hugging Face model encapsulated in the BYOP framework.\n",
    "* The input and output schemas.\n",
    "\n",
    "For more information, see the Wallaroo [Model Upload](https://docs.wallaroo.ai/wallaroo-model-operations/wallaroo-model-operations-deploy/wallaroo-model-operations-upload-register/) guide."
   ]
  },
  {
   "cell_type": "code",
   "execution_count": 6,
   "id": "81446a12-2766-4fd6-aead-132738620151",
   "metadata": {},
   "outputs": [
    {
     "name": "stdout",
     "output_type": "stream",
     "text": [
      "Waiting for model loading - this will take up to 10.0min.\n",
      "Model is pending loading to a container runtime..\n",
      "Model is attempting loading to a container runtime.......................................successful\n",
      "\n",
      "Ready\n"
     ]
    },
    {
     "data": {
      "text/html": [
       "<table>\n",
       "        <tr>\n",
       "          <td>Name</td>\n",
       "          <td>byop-bge-base-v2</td>\n",
       "        </tr>\n",
       "        <tr>\n",
       "          <td>Version</td>\n",
       "          <td>c5bb0af6-eb8a-403b-9ada-bd92d8bdcdc7</td>\n",
       "        </tr>\n",
       "        <tr>\n",
       "          <td>File Name</td>\n",
       "          <td>byop_bge_base2.zip</td>\n",
       "        </tr>\n",
       "        <tr>\n",
       "          <td>SHA</td>\n",
       "          <td>4854c685c46258ecbbfe55cf4e516b9f4b578bd87cc14cd0a9be4775e91ced6d</td>\n",
       "        </tr>\n",
       "        <tr>\n",
       "          <td>Status</td>\n",
       "          <td>ready</td>\n",
       "        </tr>\n",
       "        <tr>\n",
       "          <td>Image Path</td>\n",
       "          <td>proxy.replicated.com/proxy/wallaroo/ghcr.io/wallaroolabs/mac-deploy:v2024.1.0-5208</td>\n",
       "        </tr>\n",
       "        <tr>\n",
       "          <td>Architecture</td>\n",
       "          <td>x86</td>\n",
       "        </tr>\n",
       "        <tr>\n",
       "          <td>Acceleration</td>\n",
       "          <td>none</td>\n",
       "        </tr>\n",
       "        <tr>\n",
       "          <td>Updated At</td>\n",
       "          <td>2024-26-Jun 18:11:30</td>\n",
       "        </tr>\n",
       "      </table>"
      ],
      "text/plain": [
       "{'name': 'byop-bge-base-v2', 'version': 'c5bb0af6-eb8a-403b-9ada-bd92d8bdcdc7', 'file_name': 'byop_bge_base2.zip', 'image_path': 'proxy.replicated.com/proxy/wallaroo/ghcr.io/wallaroolabs/mac-deploy:v2024.1.0-5208', 'arch': 'x86', 'accel': 'none', 'last_update_time': datetime.datetime(2024, 6, 26, 18, 11, 30, 825830, tzinfo=tzutc())}"
      ]
     },
     "execution_count": 6,
     "metadata": {},
     "output_type": "execute_result"
    }
   ],
   "source": [
    "model = wl.upload_model('byop-bge-base-v2', \n",
    "    'byop_bge_base2.zip',\n",
    "    framework=Framework.CUSTOM,\n",
    "    input_schema=input_schema,\n",
    "    output_schema=output_schema,\n",
    ")\n",
    "model"
   ]
  },
  {
   "cell_type": "markdown",
   "id": "fad47c06-1588-4638-a17f-e864d81cca6a",
   "metadata": {},
   "source": [
    "### Deployment Configuration Settings\n",
    "\n",
    "Before deploying the model, we set the **deployment configuration**, which sets what resources are allocated to the model through the method `wallaroo.deployment_config.DeploymentConfigBuilder`.  For this example, the following resources are allocated to the BGE model:\n",
    "\n",
    "* Cpus: 4\n",
    "* Memory: 3 Gi\n",
    "\n",
    "For more details, see [Model Deployment Configuration](https://docs.wallaroo.ai/wallaroo-model-operations/wallaroo-model-operations-deploy/wallaroo-model-operations-deploy-model/wallaroo-model-operations-deploy-deployment-configuration/)."
   ]
  },
  {
   "cell_type": "code",
   "execution_count": 8,
   "id": "6f9b05d9-7f98-4dd5-906c-7717420a2fad",
   "metadata": {},
   "outputs": [],
   "source": [
    "deployment_config = DeploymentConfigBuilder() \\\n",
    "    .cpus(1).memory('2Gi') \\\n",
    "    .sidekick_cpus(model, 4) \\\n",
    "    .sidekick_memory(model, '3Gi') \\\n",
    "    .build()"
   ]
  },
  {
   "cell_type": "markdown",
   "id": "96870c9b",
   "metadata": {},
   "source": [
    "### Deploy BGE Model\n",
    "\n",
    "The BGE model is deployed through the following steps:\n",
    "\n",
    "1. Create a Wallaroo pipeline.\n",
    "2. Set the BGE model as a **pipeline step**.\n",
    "3. **Deploy** the pipeline with the `wallaroo.pipeline.Pipeline.deploy(deployment_config)` method. This deploys the pipeline and sets the deployment configuration.\n",
    "\n",
    "Once deployed, the BGE model is ready for inference requests."
   ]
  },
  {
   "cell_type": "code",
   "execution_count": 9,
   "id": "93590083-78ba-49e5-8c60-6212ccc27cf2",
   "metadata": {},
   "outputs": [
    {
     "name": "stdout",
     "output_type": "stream",
     "text": [
      "Waiting for deployment - this will take up to 480s ....................................................................................................... ok\n"
     ]
    },
    {
     "data": {
      "text/html": [
       "<table><tr><th>name</th> <td>byop-bge-pipe-base-v2</td></tr><tr><th>created</th> <td>2024-06-26 18:12:21.032554+00:00</td></tr><tr><th>last_updated</th> <td>2024-06-26 18:12:21.085707+00:00</td></tr><tr><th>deployed</th> <td>True</td></tr><tr><th>arch</th> <td>x86</td></tr><tr><th>accel</th> <td>none</td></tr><tr><th>tags</th> <td></td></tr><tr><th>versions</th> <td>e9e8a7de-9aff-400c-a3b3-4bd280ee1923, a0e0949b-01f2-413a-8a09-8875c32f00e8</td></tr><tr><th>steps</th> <td>byop-bge-base-v2</td></tr><tr><th>published</th> <td>False</td></tr></table>"
      ],
      "text/plain": [
       "{'name': 'byop-bge-pipe-base-v2', 'create_time': datetime.datetime(2024, 6, 26, 18, 12, 21, 32554, tzinfo=tzutc()), 'definition': \"[{'ModelInference': {'models': [{'name': 'byop-bge-base-v2', 'version': 'c5bb0af6-eb8a-403b-9ada-bd92d8bdcdc7', 'sha': '4854c685c46258ecbbfe55cf4e516b9f4b578bd87cc14cd0a9be4775e91ced6d'}]}}]\"}"
      ]
     },
     "execution_count": 9,
     "metadata": {},
     "output_type": "execute_result"
    }
   ],
   "source": [
    "pipeline = wl.build_pipeline(\"byop-bge-pipe-base-v2\")\n",
    "pipeline.add_model_step(model)\n",
    "pipeline.deploy(deployment_config=deployment_config)"
   ]
  },
  {
   "cell_type": "markdown",
   "id": "b93baa73",
   "metadata": {},
   "source": [
    "### Sample Inference\n",
    "\n",
    "Models deployed in Wallaroo accept either pandas DataFrames or Apache Arrow tables as inputs.  For our inference example, we submit a pandas DataFrame, then see the BGE embedding results in the column `out.embedding`."
   ]
  },
  {
   "cell_type": "code",
   "execution_count": 20,
   "id": "0b9b11e7-ccfa-4f04-9129-15fe92c35640",
   "metadata": {},
   "outputs": [
    {
     "data": {
      "text/html": [
       "<div>\n",
       "<style scoped>\n",
       "    .dataframe tbody tr th:only-of-type {\n",
       "        vertical-align: middle;\n",
       "    }\n",
       "\n",
       "    .dataframe tbody tr th {\n",
       "        vertical-align: top;\n",
       "    }\n",
       "\n",
       "    .dataframe thead th {\n",
       "        text-align: right;\n",
       "    }\n",
       "</style>\n",
       "<table border=\"1\" class=\"dataframe\">\n",
       "  <thead>\n",
       "    <tr style=\"text-align: right;\">\n",
       "      <th></th>\n",
       "      <th>time</th>\n",
       "      <th>in.text</th>\n",
       "      <th>out.embedding</th>\n",
       "      <th>anomaly.count</th>\n",
       "    </tr>\n",
       "  </thead>\n",
       "  <tbody>\n",
       "    <tr>\n",
       "      <th>0</th>\n",
       "      <td>2024-06-26 20:09:20.979</td>\n",
       "      <td>embed this sentence.</td>\n",
       "      <td>[0.02977638, -0.017274762, 0.048839126, -0.023...</td>\n",
       "      <td>0</td>\n",
       "    </tr>\n",
       "  </tbody>\n",
       "</table>\n",
       "</div>"
      ],
      "text/plain": [
       "                     time               in.text  \\\n",
       "0 2024-06-26 20:09:20.979  embed this sentence.   \n",
       "\n",
       "                                       out.embedding  anomaly.count  \n",
       "0  [0.02977638, -0.017274762, 0.048839126, -0.023...              0  "
      ]
     },
     "execution_count": 20,
     "metadata": {},
     "output_type": "execute_result"
    }
   ],
   "source": [
    "pipeline.infer(pd.DataFrame({\"text\": [\"embed this sentence.\"]}))"
   ]
  },
  {
   "cell_type": "markdown",
   "id": "491cbc06-f4c3-4ea5-ba32-64ab6ee42963",
   "metadata": {},
   "source": [
    "## Vector Database Connection with Wallaroo\n",
    "\n",
    "Wallaroo Data Connections define settings that are stored and used for connecting to different data sources.  For full details, see [Data Connections Management](https://docs.wallaroo.ai/wallaroo-developer-guides/wallaroo-sdk-guides/wallaroo-sdk-essentials-guide/wallaroo-sdk-essentials-dataconnections/).\n",
    "\n",
    "The following shows creating a Wallaroo Data Connection and saving the artifacts used to connect to the sample Mongo Atlas Vector database.  The Data Connection is assigned to the workspace for use by other workspace team members."
   ]
  },
  {
   "cell_type": "code",
   "execution_count": 13,
   "id": "c3905784-2dc1-4e68-8cc5-67525f16c2b4",
   "metadata": {},
   "outputs": [
    {
     "data": {
      "text/html": [
       "\n",
       "        <table>\n",
       "          <tr>\n",
       "            <th>Field</th>\n",
       "            <th>Value</th>\n",
       "          </tr>\n",
       "          <tr>\n",
       "            <td>Name</td><td>mongodb_atlas</td>\n",
       "          </tr>\n",
       "          <tr>\n",
       "            <td>Connection Type</td><td>mongodb</td>\n",
       "          </tr>\n",
       "          <tr>\n",
       "            <td>Details</td><td>*****</td>\n",
       "          </tr>\n",
       "          <tr>\n",
       "            <td>Created At</td><td>2024-06-20T22:00:39.396887+00:00</td>\n",
       "          </tr>\n",
       "          <tr>\n",
       "            <td>Linked Workspaces</td><td>[]</td>\n",
       "          </tr>\n",
       "        </table>\n",
       "        "
      ],
      "text/plain": [
       "<wallaroo.connection.Connection at 0x7fde2c0fca60>"
      ]
     },
     "execution_count": 13,
     "metadata": {},
     "output_type": "execute_result"
    }
   ],
   "source": [
    "connect = wl.create_connection(\"mongodb_atlas\", \n",
    "                     \"mongodb\", \n",
    "                     details={\"uri\":\"mongodb+srv://<username>:<password>@cluster0.lfnspv5.mongodb.net/?retryWrites=true&w=majority&appName=Cluster0\"}\n",
    "                     )\n",
    "\n",
    "workspace.add_connection(\"mongodb_atlas\")"
   ]
  },
  {
   "cell_type": "markdown",
   "id": "1274717f",
   "metadata": {},
   "source": [
    "We test the connection by using the connection `details()` method, which retrieves the stored credentials and other data, and store the `movie` data into the `collection` variable for use later."
   ]
  },
  {
   "cell_type": "code",
   "execution_count": 22,
   "id": "d137158b-8632-4372-902b-344dd69e0eb5",
   "metadata": {},
   "outputs": [
    {
     "name": "stdout",
     "output_type": "stream",
     "text": [
      "Pinged your deployment. You successfully connected to MongoDB!\n"
     ]
    }
   ],
   "source": [
    "client = pymongo.MongoClient(connect.details()[\"uri\"])\n",
    "db = client.sample_mflix\n",
    "collection = db.movies\n",
    "\n",
    "try:\n",
    "    client.admin.command('ping')\n",
    "    print(\"Pinged your deployment. You successfully connected to MongoDB!\")\n",
    "except Exception as e:\n",
    "    print(e)"
   ]
  },
  {
   "cell_type": "markdown",
   "id": "1e346c8f-922f-40d5-a1db-2d88b0f94b74",
   "metadata": {},
   "source": [
    "### Run Inference on Documents\n",
    "\n",
    "With out collection of movie data, we'll scan through and find any that have the `plot` value, then use that to create a DataFrame from those values.  For this example, we'll limit our selection to 10 elements."
   ]
  },
  {
   "cell_type": "code",
   "execution_count": 23,
   "id": "ad8c5adc-76b8-4261-9717-f662d6d8614b",
   "metadata": {},
   "outputs": [],
   "source": [
    "texts = []\n",
    "for doc in collection.find({'plot':{\"$exists\": True}}).limit(10):\n",
    "    texts.append(doc['plot'])"
   ]
  },
  {
   "cell_type": "code",
   "execution_count": 26,
   "id": "89796327-cf43-45e0-b5d6-23f90212fe4f",
   "metadata": {},
   "outputs": [
    {
     "data": {
      "text/html": [
       "<div>\n",
       "<style scoped>\n",
       "    .dataframe tbody tr th:only-of-type {\n",
       "        vertical-align: middle;\n",
       "    }\n",
       "\n",
       "    .dataframe tbody tr th {\n",
       "        vertical-align: top;\n",
       "    }\n",
       "\n",
       "    .dataframe thead th {\n",
       "        text-align: right;\n",
       "    }\n",
       "</style>\n",
       "<table border=\"1\" class=\"dataframe\">\n",
       "  <thead>\n",
       "    <tr style=\"text-align: right;\">\n",
       "      <th></th>\n",
       "      <th>text</th>\n",
       "    </tr>\n",
       "  </thead>\n",
       "  <tbody>\n",
       "    <tr>\n",
       "      <th>0</th>\n",
       "      <td>A group of bandits stage a brazen train hold-u...</td>\n",
       "    </tr>\n",
       "    <tr>\n",
       "      <th>1</th>\n",
       "      <td>A greedy tycoon decides, on a whim, to corner ...</td>\n",
       "    </tr>\n",
       "    <tr>\n",
       "      <th>2</th>\n",
       "      <td>Cartoon figures announce, via comic strip ball...</td>\n",
       "    </tr>\n",
       "    <tr>\n",
       "      <th>3</th>\n",
       "      <td>A woman, with the aid of her police officer sw...</td>\n",
       "    </tr>\n",
       "    <tr>\n",
       "      <th>4</th>\n",
       "      <td>The cartoonist, Winsor McCay, brings the Dinos...</td>\n",
       "    </tr>\n",
       "    <tr>\n",
       "      <th>5</th>\n",
       "      <td>Original advertising for the film describes it...</td>\n",
       "    </tr>\n",
       "    <tr>\n",
       "      <th>6</th>\n",
       "      <td>Young Pauline is left a lot of money when her ...</td>\n",
       "    </tr>\n",
       "    <tr>\n",
       "      <th>7</th>\n",
       "      <td>An immigrant leaves his sweetheart in Italy to...</td>\n",
       "    </tr>\n",
       "    <tr>\n",
       "      <th>8</th>\n",
       "      <td>At 10 years old, Owens becomes a ragged orphan...</td>\n",
       "    </tr>\n",
       "    <tr>\n",
       "      <th>9</th>\n",
       "      <td>Christ takes on the form of a pacifist count t...</td>\n",
       "    </tr>\n",
       "  </tbody>\n",
       "</table>\n",
       "</div>"
      ],
      "text/plain": [
       "                                                text\n",
       "0  A group of bandits stage a brazen train hold-u...\n",
       "1  A greedy tycoon decides, on a whim, to corner ...\n",
       "2  Cartoon figures announce, via comic strip ball...\n",
       "3  A woman, with the aid of her police officer sw...\n",
       "4  The cartoonist, Winsor McCay, brings the Dinos...\n",
       "5  Original advertising for the film describes it...\n",
       "6  Young Pauline is left a lot of money when her ...\n",
       "7  An immigrant leaves his sweetheart in Italy to...\n",
       "8  At 10 years old, Owens becomes a ragged orphan...\n",
       "9  Christ takes on the form of a pacifist count t..."
      ]
     },
     "execution_count": 26,
     "metadata": {},
     "output_type": "execute_result"
    }
   ],
   "source": [
    "data = pd.DataFrame({'text': texts})\n",
    "display(data)"
   ]
  },
  {
   "cell_type": "markdown",
   "id": "8ae5e0d7",
   "metadata": {},
   "source": [
    "We submit an inference request with our data and get the new embedding values from each submission."
   ]
  },
  {
   "cell_type": "code",
   "execution_count": 27,
   "id": "678fd43a-3c67-46ea-839d-8b01f329670d",
   "metadata": {},
   "outputs": [
    {
     "data": {
      "text/html": [
       "<div>\n",
       "<style scoped>\n",
       "    .dataframe tbody tr th:only-of-type {\n",
       "        vertical-align: middle;\n",
       "    }\n",
       "\n",
       "    .dataframe tbody tr th {\n",
       "        vertical-align: top;\n",
       "    }\n",
       "\n",
       "    .dataframe thead th {\n",
       "        text-align: right;\n",
       "    }\n",
       "</style>\n",
       "<table border=\"1\" class=\"dataframe\">\n",
       "  <thead>\n",
       "    <tr style=\"text-align: right;\">\n",
       "      <th></th>\n",
       "      <th>time</th>\n",
       "      <th>in.text</th>\n",
       "      <th>out.embedding</th>\n",
       "      <th>anomaly.count</th>\n",
       "    </tr>\n",
       "  </thead>\n",
       "  <tbody>\n",
       "    <tr>\n",
       "      <th>0</th>\n",
       "      <td>2024-06-26 20:15:35.259</td>\n",
       "      <td>A group of bandits stage a brazen train hold-u...</td>\n",
       "      <td>[-0.027950192, -0.054571882, -0.002392033, 0.0...</td>\n",
       "      <td>0</td>\n",
       "    </tr>\n",
       "    <tr>\n",
       "      <th>1</th>\n",
       "      <td>2024-06-26 20:15:35.259</td>\n",
       "      <td>A greedy tycoon decides, on a whim, to corner ...</td>\n",
       "      <td>[-0.071634166, -0.0073989113, -0.025931077, -0...</td>\n",
       "      <td>0</td>\n",
       "    </tr>\n",
       "    <tr>\n",
       "      <th>2</th>\n",
       "      <td>2024-06-26 20:15:35.259</td>\n",
       "      <td>Cartoon figures announce, via comic strip ball...</td>\n",
       "      <td>[-0.00864067, -0.020116393, 0.035886534, -0.00...</td>\n",
       "      <td>0</td>\n",
       "    </tr>\n",
       "    <tr>\n",
       "      <th>3</th>\n",
       "      <td>2024-06-26 20:15:35.259</td>\n",
       "      <td>A woman, with the aid of her police officer sw...</td>\n",
       "      <td>[-0.06523778, -0.09331782, -0.02681339, -0.007...</td>\n",
       "      <td>0</td>\n",
       "    </tr>\n",
       "    <tr>\n",
       "      <th>4</th>\n",
       "      <td>2024-06-26 20:15:35.259</td>\n",
       "      <td>The cartoonist, Winsor McCay, brings the Dinos...</td>\n",
       "      <td>[-0.07010095, -0.035720695, -0.03118671, 0.026...</td>\n",
       "      <td>0</td>\n",
       "    </tr>\n",
       "    <tr>\n",
       "      <th>5</th>\n",
       "      <td>2024-06-26 20:15:35.259</td>\n",
       "      <td>Original advertising for the film describes it...</td>\n",
       "      <td>[-0.02530954, 0.012174658, -0.016730076, -0.00...</td>\n",
       "      <td>0</td>\n",
       "    </tr>\n",
       "    <tr>\n",
       "      <th>6</th>\n",
       "      <td>2024-06-26 20:15:35.259</td>\n",
       "      <td>Young Pauline is left a lot of money when her ...</td>\n",
       "      <td>[-0.03885297, -0.018563386, 0.010222761, -0.00...</td>\n",
       "      <td>0</td>\n",
       "    </tr>\n",
       "    <tr>\n",
       "      <th>7</th>\n",
       "      <td>2024-06-26 20:15:35.259</td>\n",
       "      <td>An immigrant leaves his sweetheart in Italy to...</td>\n",
       "      <td>[-0.07279091, -0.050980825, 0.029236948, 0.016...</td>\n",
       "      <td>0</td>\n",
       "    </tr>\n",
       "    <tr>\n",
       "      <th>8</th>\n",
       "      <td>2024-06-26 20:15:35.259</td>\n",
       "      <td>At 10 years old, Owens becomes a ragged orphan...</td>\n",
       "      <td>[-0.10594661, 0.0073492057, -0.0008419599, -0....</td>\n",
       "      <td>0</td>\n",
       "    </tr>\n",
       "    <tr>\n",
       "      <th>9</th>\n",
       "      <td>2024-06-26 20:15:35.259</td>\n",
       "      <td>Christ takes on the form of a pacifist count t...</td>\n",
       "      <td>[-0.04602558, -0.013552995, 0.01844381, -0.022...</td>\n",
       "      <td>0</td>\n",
       "    </tr>\n",
       "  </tbody>\n",
       "</table>\n",
       "</div>"
      ],
      "text/plain": [
       "                     time                                            in.text  \\\n",
       "0 2024-06-26 20:15:35.259  A group of bandits stage a brazen train hold-u...   \n",
       "1 2024-06-26 20:15:35.259  A greedy tycoon decides, on a whim, to corner ...   \n",
       "2 2024-06-26 20:15:35.259  Cartoon figures announce, via comic strip ball...   \n",
       "3 2024-06-26 20:15:35.259  A woman, with the aid of her police officer sw...   \n",
       "4 2024-06-26 20:15:35.259  The cartoonist, Winsor McCay, brings the Dinos...   \n",
       "5 2024-06-26 20:15:35.259  Original advertising for the film describes it...   \n",
       "6 2024-06-26 20:15:35.259  Young Pauline is left a lot of money when her ...   \n",
       "7 2024-06-26 20:15:35.259  An immigrant leaves his sweetheart in Italy to...   \n",
       "8 2024-06-26 20:15:35.259  At 10 years old, Owens becomes a ragged orphan...   \n",
       "9 2024-06-26 20:15:35.259  Christ takes on the form of a pacifist count t...   \n",
       "\n",
       "                                       out.embedding  anomaly.count  \n",
       "0  [-0.027950192, -0.054571882, -0.002392033, 0.0...              0  \n",
       "1  [-0.071634166, -0.0073989113, -0.025931077, -0...              0  \n",
       "2  [-0.00864067, -0.020116393, 0.035886534, -0.00...              0  \n",
       "3  [-0.06523778, -0.09331782, -0.02681339, -0.007...              0  \n",
       "4  [-0.07010095, -0.035720695, -0.03118671, 0.026...              0  \n",
       "5  [-0.02530954, 0.012174658, -0.016730076, -0.00...              0  \n",
       "6  [-0.03885297, -0.018563386, 0.010222761, -0.00...              0  \n",
       "7  [-0.07279091, -0.050980825, 0.029236948, 0.016...              0  \n",
       "8  [-0.10594661, 0.0073492057, -0.0008419599, -0....              0  \n",
       "9  [-0.04602558, -0.013552995, 0.01844381, -0.022...              0  "
      ]
     },
     "execution_count": 27,
     "metadata": {},
     "output_type": "execute_result"
    }
   ],
   "source": [
    "result = pipeline.infer(data, timeout=10000)\n",
    "result"
   ]
  },
  {
   "cell_type": "markdown",
   "id": "5fb5da73-f282-4903-9b14-cba510942c5a",
   "metadata": {},
   "source": [
    "## Inference Automation Embedding Generation\n",
    "\n",
    "This step demonstrates using [Wallaroo Inference Automation](https://docs.wallaroo.ai/wallaroo-model-operations/wallaroo-model-operations-automate/) to generate the embeddings and store the results in our vector database either as a single task, or as a repeated task that scans the database and generates new embeddings on a regular schedule."
   ]
  },
  {
   "cell_type": "markdown",
   "id": "492ea03b",
   "metadata": {},
   "source": [
    "### Inference Automation Script\n",
    "\n",
    "The BGE Inference Automation contains the following items:\n",
    "\n",
    "* `main.py`:  A Python script that uses the Wallaroo connection defined in the step [Vector Database Connection with Wallaroo](#vector-database-connection-with-wallaroo) to retrieve Movie plot information, run the text through the BGE model, then upload the embeddings into the vector database.\n",
    "* `requirements.txt`: A list of the Python libraries required for the `main.py` script to execute, which includes `pymongo==4.7.3`.\n",
    "\n",
    "Before executing the embedding script, the database table doesn't contain the vector index values.  The following is an example of database pre-embedding:\n",
    "\n",
    "|title|plot|plot_embedding_hf|\n",
    "|---|---|---|\n",
    "|The Great Train Robbery|A group of bandits stage a brazen train hold-u...|&nbsp;|\n",
    "|A Corner in Wheat|A greedy tycoon decides, on a whim, to corner ...|&nbsp;|\n",
    "|Little Nemo|Cartoon figures announce, via comic strip ball...|&nbsp;|\n",
    "|Traffic in Souls|A woman, with the aid of her police officer sw...|&nbsp;|\n",
    "|Gertie the Dinosaur|The cartoonist, Winsor McCay, brings the Dinos...|&nbsp;|\n",
    "|In the Land of the Head Hunters|Original advertising for the film describes it...|&nbsp;|\n",
    "|The Perils of Pauline|Young Pauline is left a lot of money when her ...|&nbsp;|\n",
    "|The Italian|An immigrant leaves his sweetheart in Italy to...|&nbsp;|\n",
    "|The Regeneration|At 10 years old, Owens becomes a ragged orphan...|&nbsp;|\n",
    "|Civilization|Christ takes on the form of a pacifist count t...|&nbsp;|\n",
    "\n",
    "The following is a snippet from the `main.py` script showing the database connection, inferencing the text to create the embeddings, and uploading the embeddings into the vector database.\n",
    "\n",
    "```python\n",
    "    for doc in collection.find({'plot':{\"$exists\": True}}):\n",
    "        myquery = { 'plot': doc['plot']} # retrieve the plot\n",
    "        \n",
    "        data = pd.DataFrame({'text': doc['plot']}) # convert the plot into a pandas DataFrame\n",
    "        embedding = pipeline.infer(data)['out.embedding'] # infer on the plot text to create the embedding\n",
    "        update = { '$set': { 'plot_embedding_hf': embedding } } # add the embedding to the data set\n",
    "        \n",
    "        collection.updateOne(myquery, update) # update the vector database with the new embedding\n",
    "```\n",
    "\n",
    "The following is an example of database post-embedding:\n",
    "\n",
    "|title|plot|plot_embedding_hf|\n",
    "|---|---|---|\n",
    "|The Great Train Robbery|A group of bandits stage a brazen train hold-u...|[-0.027950192, -0.054571882, -0.002392033, 0.0...]|\n",
    "|A Corner in Wheat|A greedy tycoon decides, on a whim, to corner ...|[-0.071634166, -0.0073989113, -0.025931077, -0...]|\n",
    "|Little Nemo|Cartoon figures announce, via comic strip ball...|[-0.00864067, -0.020116393, 0.035886534, -0.00...]|\n",
    "|Traffic in Souls|A woman, with the aid of her police officer sw...|[-0.06523778, -0.09331782, -0.02681339, -0.007...]|\n",
    "|Gertie the Dinosaur|The cartoonist, Winsor McCay, brings the Dinos...|[-0.07010095, -0.035720695, -0.03118671, 0.026...]|\n",
    "|In the Land of the Head Hunters|Original advertising for the film describes it...|[-0.02530954, 0.012174658, -0.016730076, -0.00...]|\n",
    "|The Perils of Pauline|Young Pauline is left a lot of money when her ...|[-0.03885297, -0.018563386, 0.010222761, -0.00...]|\n",
    "|The Italian|An immigrant leaves his sweetheart in Italy to...|[-0.07279091, -0.050980825, 0.029236948, 0.016...]|\n",
    "|The Regeneration|At 10 years old, Owens becomes a ragged orphan...|[-0.10594661, 0.0073492057, -0.0008419599, -0....]|\n",
    "|Civilization|Christ takes on the form of a pacifist count t...|[-0.04602558, -0.013552995, 0.01844381, -0.022...]|\n"
   ]
  },
  {
   "cell_type": "markdown",
   "id": "de2e3af6-0f77-44c5-a9c0-91d70aa8bfae",
   "metadata": {},
   "source": [
    "### Upload the Inference Automation as Orchestration\n",
    "\n",
    "To generate the inference automation, we we zip all of the components:\n",
    "\n",
    "* The Python script that executes the task with the supplied arguments.\n",
    "* A `requirements.txt` file to set what Python libraries to use."
   ]
  },
  {
   "cell_type": "code",
   "execution_count": 57,
   "id": "bd9e054c-2eb5-4541-beae-f6ad5d88527a",
   "metadata": {},
   "outputs": [
    {
     "name": "stdout",
     "output_type": "stream",
     "text": [
      "File Name                                             Modified             Size\n",
      "main.py                                        2024-06-22 20:40:32         1725\n",
      "requirements.txt                               2024-06-22 20:10:28           42\n"
     ]
    }
   ],
   "source": [
    "files_to_include = [\n",
    "    'orchestration/main.py', # execution script\n",
    "    'orchestration/requirements.txt' # required if you have additional package dependencies beyond what's included in wallaroo environment\n",
    "]\n",
    "\n",
    "zipfile_name = 'orchestration.zip'\n",
    "\n",
    "with zipfile.ZipFile(zipfile_name, mode='w') as archive:\n",
    "    for filename in files_to_include:\n",
    "        archive.write(filename, filename.split('/')[-1])\n",
    "        \n",
    "# verify the contents\n",
    "with zipfile.ZipFile(zipfile_name, mode='r') as archive:\n",
    "    archive.printdir()"
   ]
  },
  {
   "cell_type": "markdown",
   "id": "27bcbb37",
   "metadata": {},
   "source": [
    "With the inference automation stored in our .zip file, we upload it.  Once it's status is `ready`, we can generate new tasks from the inference automation."
   ]
  },
  {
   "cell_type": "markdown",
   "id": "098c7f26-3f16-4777-809a-7a438cc383ed",
   "metadata": {},
   "source": [
    "Next we can upload our orchestration:"
   ]
  },
  {
   "cell_type": "code",
   "execution_count": 17,
   "id": "7f353daa-76b2-47b8-91d7-fb0edde8cbba",
   "metadata": {},
   "outputs": [
    {
     "name": "stdout",
     "output_type": "stream",
     "text": [
      "pending_packaging\n",
      "packaging\n",
      "packaging\n",
      "packaging\n"
     ]
    }
   ],
   "source": [
    "orchestration = wl.upload_orchestration(name='automated-embedding-generation', path='orchestration.zip')\n",
    "\n",
    "while orchestration.status() != 'ready' and orchestration.status() != 'error':\n",
    "    print(orchestration.status())\n",
    "    time.sleep(15)"
   ]
  },
  {
   "cell_type": "markdown",
   "id": "c5895859",
   "metadata": {},
   "source": [
    "### BGE Embedding Run Once Task\n",
    "\n",
    "With our inference automation uploaded and prepared, we can create two types of tasks:\n",
    "\n",
    "* Run Once Task:  Parameters are passed to the inference automation that generates one execution of the script.\n",
    "* Run Schedule Tasks:  The parameters and schedule are passed, which generates a new task from the automation inference every time the `cron` schedule is met.\n",
    "\n",
    "For more details, see [Inference Automation: Task Methods](https://docs.wallaroo.ai/wallaroo-model-operations/wallaroo-model-operations-automate/#task-methods).\n",
    "\n",
    "The following generates a Run Once task, specifying the Wallaroo Connection, pipeline, and workspace.  The `write_db` parameter indicates whether to write the new embeddings to the database or just retrieve the data and run through the embeddings generation process."
   ]
  },
  {
   "cell_type": "code",
   "execution_count": 28,
   "id": "e32c9c9c-90ce-4bac-b96f-0d608a39a046",
   "metadata": {},
   "outputs": [],
   "source": [
    "task = orchestration.run_once(name = 'sample embedding generation',\n",
    "                              json_args = {'connection_name': 'mongodb_atlas',\n",
    "                                           'pipeline_name': 'byop-bge-pipe-base-v2',\n",
    "                                           'workspace_name': 'embedding-computation',\n",
    "                                           'write_db': True\n",
    "                                          })"
   ]
  },
  {
   "cell_type": "code",
   "execution_count": 53,
   "id": "2ebf9d46-caec-42a6-8ce1-4f0da77c42b4",
   "metadata": {},
   "outputs": [
    {
     "data": {
      "text/html": [
       "\n",
       "        <table>\n",
       "          <tr>\n",
       "            <th>Field</th>\n",
       "            <th>Value</th>\n",
       "          </tr>\n",
       "          <tr>\n",
       "            <td>ID</td><td>cd125107-7663-40a7-a1e2-b41025288559</td>\n",
       "          </tr>\n",
       "          <tr>\n",
       "            <td>Name</td><td>sample embedding generation</td>\n",
       "          </tr>\n",
       "          <tr>\n",
       "            <td>Last Run Status</td><td>failure</td>\n",
       "          </tr>\n",
       "          <tr>\n",
       "            <td>Type</td><td>Temporary Run</td>\n",
       "          </tr>\n",
       "          <tr>\n",
       "            <td>Active</td><td>True</td>\n",
       "          </tr>\n",
       "          <tr>\n",
       "            <td>Schedule</td><td>-</td>\n",
       "          </tr>\n",
       "          <tr>\n",
       "            <td>Created At</td><td>2024-22-Jun 20:37:49</td>\n",
       "          </tr>\n",
       "          <tr>\n",
       "            <td>Updated At</td><td>2024-22-Jun 20:37:55</td>\n",
       "          </tr>\n",
       "        </table>\n",
       "        "
      ],
      "text/plain": [
       "<wallaroo.task.Task at 0x7f5d728d46d0>"
      ]
     },
     "execution_count": 53,
     "metadata": {},
     "output_type": "execute_result"
    }
   ],
   "source": [
    "task"
   ]
  },
  {
   "cell_type": "markdown",
   "id": "ea53fcdf",
   "metadata": {},
   "source": [
    "The following generates the Run Scheduled version of the same task, set to execute every 12:01 AM.  This allows for new embeddings as the database is updated."
   ]
  },
  {
   "cell_type": "code",
   "execution_count": null,
   "id": "3bca1c94-1433-43e0-a95f-9eb1e11a25fe",
   "metadata": {},
   "outputs": [],
   "source": [
    "task = orchestration.run_scheduled(name = 'sample embedding generation',\n",
    "                               schedule = '1 0 * * *',\n",
    "                              json_args = {'connection_name': 'mongodb_atlas',\n",
    "                                           'pipeline_name': 'byop-bge-pipe-base-v2',\n",
    "                                           'workspace_name': 'embedding-computation',\n",
    "                                           'write_db': True\n",
    "                                          })"
   ]
  },
  {
   "cell_type": "markdown",
   "id": "293f8afa",
   "metadata": {},
   "source": [
    "With the tutorial complete, we undeploy the model and return the resources back to the cluster."
   ]
  },
  {
   "cell_type": "code",
   "execution_count": null,
   "id": "c57d2806-31c7-4603-b543-b5688572a732",
   "metadata": {},
   "outputs": [],
   "source": [
    "pipeline.undeploy()"
   ]
  },
  {
   "cell_type": "markdown",
   "id": "cce60084",
   "metadata": {},
   "source": [
    "For access to these sample models and for a demonstration of how to use a LLM Validation Listener.\n",
    "\n",
    "* Contact your Wallaroo Support Representative **OR**\n",
    "* [Schedule Your Wallaroo.AI Demo Today](https://wallaroo.ai/request-a-demo/)."
   ]
  }
 ],
 "metadata": {
  "kernelspec": {
   "display_name": "Python 3 (ipykernel)",
   "language": "python",
   "name": "python3"
  },
  "language_info": {
   "codemirror_mode": {
    "name": "ipython",
    "version": 3
   },
   "file_extension": ".py",
   "mimetype": "text/x-python",
   "name": "python",
   "nbconvert_exporter": "python",
   "pygments_lexer": "ipython3",
   "version": "3.9.13"
  }
 },
 "nbformat": 4,
 "nbformat_minor": 5
}
