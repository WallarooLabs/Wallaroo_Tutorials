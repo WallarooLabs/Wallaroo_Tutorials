{
 "cells": [
  {
   "cell_type": "code",
   "execution_count": 50,
   "id": "7ca0bc3e-9a4a-4b34-bb17-bd0fffb6a3fb",
   "metadata": {},
   "outputs": [],
   "source": [
    "import json\n",
    "import os\n",
    "\n",
    "import wallaroo\n",
    "from wallaroo.pipeline   import Pipeline\n",
    "from wallaroo.deployment_config import DeploymentConfigBuilder\n",
    "from wallaroo.framework import Framework\n",
    "from wallaroo.engine_config import Architecture\n",
    "\n",
    "import pyarrow as pa\n",
    "import numpy as np\n",
    "import pandas as pd"
   ]
  },
  {
   "cell_type": "code",
   "execution_count": 51,
   "id": "8eae4778-24cd-413e-9a00-38384f5e685c",
   "metadata": {},
   "outputs": [],
   "source": [
    "# Helper functions\n",
    "\n",
    "def get_workspace(name):\n",
    "    workspace = None\n",
    "    for ws in wl.list_workspaces():\n",
    "        if ws.name() == name:\n",
    "            workspace= ws\n",
    "    if(workspace == None):\n",
    "        workspace = wl.create_workspace(name)\n",
    "    return workspace\n",
    "\n",
    "def get_pipeline(pipeline_name):\n",
    "    try:\n",
    "        pipeline = wl.pipelines_by_name(pipeline_name)[0]\n",
    "    except EntityNotFoundError:\n",
    "        pipeline = wl.build_pipeline(pipeline_name)\n",
    "    return pipeline\n",
    "\n",
    "def get_workspace_id_by_name(workspace_name: str, workspaces_list: []):\n",
    "    # Get the workspace ID from the list of workspaces\n",
    "    workspaceId = list(filter(lambda x:x[\"name\"]==workspace_name, workspaceList))[0]['id']\n",
    "    return workspaceId"
   ]
  },
  {
   "cell_type": "code",
   "execution_count": 52,
   "id": "6e6712f9-871f-4224-8a9e-d44520a25628",
   "metadata": {},
   "outputs": [],
   "source": [
    "wl = wallaroo.Client(request_timeout=1200)"
   ]
  },
  {
   "cell_type": "markdown",
   "id": "e2795362-a0a6-4fb8-aafa-d6f39d3decd1",
   "metadata": {},
   "source": [
    "# Select or Create Workspace\n"
   ]
  },
  {
   "cell_type": "code",
   "execution_count": 53,
   "id": "0dd26165-c47b-4515-8828-9d3ccad66857",
   "metadata": {},
   "outputs": [],
   "source": [
    "workspace_name = \"llm-models\"\n",
    "workspace = get_workspace(workspace_name)\n",
    "wl.set_current_workspace(workspace)\n",
    "workspace_id = workspace.id()"
   ]
  },
  {
   "cell_type": "markdown",
   "id": "3c5847c3-3d41-4568-8808-8d2370384434",
   "metadata": {},
   "source": [
    "# Get uploaded model"
   ]
  },
  {
   "cell_type": "code",
   "execution_count": 54,
   "id": "409284bc-f343-4875-a45d-f793887cea6b",
   "metadata": {},
   "outputs": [],
   "source": [
    "model = wl.search_models(\"llama3-instruct\")[0]"
   ]
  },
  {
   "cell_type": "code",
   "execution_count": 55,
   "id": "b8497d5b-e0e6-46cb-93d7-8e9db1ee6982",
   "metadata": {},
   "outputs": [
    {
     "data": {
      "text/html": [
       "<table>\n",
       "        <tr>\n",
       "          <td>Name</td>\n",
       "          <td>llama3-instruct</td>\n",
       "        </tr>\n",
       "        <tr>\n",
       "          <td>Version</td>\n",
       "          <td>700fe65c-53c9-45db-974a-d3bab7389658</td>\n",
       "        </tr>\n",
       "        <tr>\n",
       "          <td>File Name</td>\n",
       "          <td>model-auto-conversion_BYOP_llama_byop_llama3_instruct_8b_v2.zip</td>\n",
       "        </tr>\n",
       "        <tr>\n",
       "          <td>SHA</td>\n",
       "          <td>b92b26c9c53e32ef8d465922ff449288b8d305dd311d48f48aaef2ff3ebce2ec</td>\n",
       "        </tr>\n",
       "        <tr>\n",
       "          <td>Status</td>\n",
       "          <td>ready</td>\n",
       "        </tr>\n",
       "        <tr>\n",
       "          <td>Image Path</td>\n",
       "          <td>proxy.replicated.com/proxy/wallaroo/ghcr.io/wallaroolabs/mlflow-deploy:v2023.4.2-4668</td>\n",
       "        </tr>\n",
       "        <tr>\n",
       "          <td>Architecture</td>\n",
       "          <td>None</td>\n",
       "        </tr>\n",
       "        <tr>\n",
       "          <td>Updated At</td>\n",
       "          <td>2024-01-May 19:29:11</td>\n",
       "        </tr>\n",
       "      </table>"
      ],
      "text/plain": [
       "{'name': 'llama3-instruct', 'version': '700fe65c-53c9-45db-974a-d3bab7389658', 'file_name': 'model-auto-conversion_BYOP_llama_byop_llama3_instruct_8b_v2.zip', 'image_path': 'proxy.replicated.com/proxy/wallaroo/ghcr.io/wallaroolabs/mlflow-deploy:v2023.4.2-4668', 'arch': None, 'last_update_time': datetime.datetime(2024, 5, 1, 19, 29, 11, 124627, tzinfo=tzutc())}"
      ]
     },
     "execution_count": 55,
     "metadata": {},
     "output_type": "execute_result"
    }
   ],
   "source": [
    "model"
   ]
  },
  {
   "cell_type": "markdown",
   "id": "df0767f9-8b74-4025-831e-49ebb06599b6",
   "metadata": {},
   "source": [
    "### Deployment"
   ]
  },
  {
   "cell_type": "code",
   "execution_count": 56,
   "id": "10519c4b-c7c0-427a-ae20-d8ffbbd07126",
   "metadata": {},
   "outputs": [],
   "source": [
    "deployment_config = DeploymentConfigBuilder() \\\n",
    "    .cpus(1).memory('1Gi') \\\n",
    "    .sidekick_gpus(model, 1) \\\n",
    "    .deployment_label('wallaroo.ai/accelerator: a100') \\\n",
    "    .build()"
   ]
  },
  {
   "cell_type": "code",
   "execution_count": 57,
   "id": "76f0c6c5-bee6-4be3-9fd3-67f30532a0f6",
   "metadata": {},
   "outputs": [
    {
     "name": "stdout",
     "output_type": "stream",
     "text": [
      "Waiting for deployment - this will take up to 1200s ...................................................................................................................................................................................................................................................................................................................................................................................................................................................................................................................................................................................... ok\n"
     ]
    },
    {
     "data": {
      "text/html": [
       "<table><tr><th>name</th> <td>llamav3-instruct</td></tr><tr><th>created</th> <td>2024-05-01 19:51:08.240637+00:00</td></tr><tr><th>last_updated</th> <td>2024-05-01 19:51:08.307643+00:00</td></tr><tr><th>deployed</th> <td>True</td></tr><tr><th>arch</th> <td>None</td></tr><tr><th>tags</th> <td></td></tr><tr><th>versions</th> <td>4172bf2c-bcdc-4025-9768-bdeaad5e8770, 230101db-e555-4ca8-8e79-cd57464138cc</td></tr><tr><th>steps</th> <td>llama3-instruct</td></tr><tr><th>published</th> <td>False</td></tr></table>"
      ],
      "text/plain": [
       "{'name': 'llamav3-instruct', 'create_time': datetime.datetime(2024, 5, 1, 19, 51, 8, 240637, tzinfo=tzutc()), 'definition': \"[{'ModelInference': {'models': [{'name': 'llama3-instruct', 'version': '700fe65c-53c9-45db-974a-d3bab7389658', 'sha': 'b92b26c9c53e32ef8d465922ff449288b8d305dd311d48f48aaef2ff3ebce2ec'}]}}]\"}"
      ]
     },
     "execution_count": 57,
     "metadata": {},
     "output_type": "execute_result"
    }
   ],
   "source": [
    "pipeline = wl.build_pipeline(\"llamav3-instruct\")\n",
    "pipeline.add_model_step(model)\n",
    "pipeline.deploy(deployment_config=deployment_config)"
   ]
  },
  {
   "cell_type": "code",
   "execution_count": 58,
   "id": "2e1e7b8b-f92e-4caf-837c-4444061fdbb2",
   "metadata": {},
   "outputs": [
    {
     "data": {
      "text/plain": [
       "{'status': 'Running',\n",
       " 'details': [],\n",
       " 'engines': [{'ip': '10.60.3.8',\n",
       "   'name': 'engine-6bbc665cc6-hf8sd',\n",
       "   'status': 'Running',\n",
       "   'reason': None,\n",
       "   'details': [],\n",
       "   'pipeline_statuses': {'pipelines': [{'id': 'llamav3-instruct',\n",
       "      'status': 'Running'}]},\n",
       "   'model_statuses': {'models': [{'name': 'llama3-instruct',\n",
       "      'version': '700fe65c-53c9-45db-974a-d3bab7389658',\n",
       "      'sha': 'b92b26c9c53e32ef8d465922ff449288b8d305dd311d48f48aaef2ff3ebce2ec',\n",
       "      'status': 'Running'}]}}],\n",
       " 'engine_lbs': [{'ip': '10.60.4.32',\n",
       "   'name': 'engine-lb-5df9b487cf-l95cg',\n",
       "   'status': 'Running',\n",
       "   'reason': None,\n",
       "   'details': []}],\n",
       " 'sidekicks': [{'ip': '10.60.3.9',\n",
       "   'name': 'engine-sidekick-llama3-instruct-8-774475c8d7-dqkmf',\n",
       "   'status': 'Running',\n",
       "   'reason': None,\n",
       "   'details': [],\n",
       "   'statuses': '\\n'}]}"
      ]
     },
     "execution_count": 58,
     "metadata": {},
     "output_type": "execute_result"
    }
   ],
   "source": [
    "pipeline.status()"
   ]
  },
  {
   "cell_type": "markdown",
   "id": "8de95ca9-0a64-4d8f-b91f-60b1527e26f1",
   "metadata": {},
   "source": [
    "### Inference"
   ]
  },
  {
   "cell_type": "code",
   "execution_count": 59,
   "id": "c468b4da-ff9f-4639-b972-c8d7cd68da0e",
   "metadata": {},
   "outputs": [],
   "source": [
    "data = pd.DataFrame({'text': ['What is Wallaroo.AI?']})"
   ]
  },
  {
   "cell_type": "code",
   "execution_count": 60,
   "id": "8c9feef8-ce6d-4aca-9f2e-2105a8efd79e",
   "metadata": {},
   "outputs": [
    {
     "name": "stdout",
     "output_type": "stream",
     "text": [
      "CPU times: user 3 µs, sys: 1 µs, total: 4 µs\n",
      "Wall time: 8.82 µs\n"
     ]
    }
   ],
   "source": [
    "%time\n",
    "result = pipeline.infer(data, timeout=10000)"
   ]
  },
  {
   "cell_type": "code",
   "execution_count": 64,
   "id": "8affc08f-476f-48b4-85bc-6f3913a9b349",
   "metadata": {},
   "outputs": [
    {
     "data": {
      "text/plain": [
       "'Wallaroo.AI is an AI platform that enables developers to build, deploy, and manage AI and machine learning models at scale. It provides a cloud-based infrastructure for building, training, and deploying AI models, as well as a set of tools and APIs for integrating AI into various applications.\\n\\nWallaroo.AI is designed to make it easy for developers to build and deploy AI models, regardless of their level of expertise in machine learning. It provides a range of features, including support for popular machine learning frameworks such as TensorFlow and PyTorch, as well as a set of pre-built AI models and APIs for common use cases such as image and speech recognition, natural language processing, and predictive analytics.\\n\\nWallaroo.AI is particularly well-suited for developers who are looking to build AI-powered applications, but may not have extensive expertise in machine learning or AI development. It provides a range of tools and resources to help developers get started with building AI-powered applications, including a cloud-based development environment, a set of pre-built AI models and APIs, and a range of tutorials and documentation.'"
      ]
     },
     "execution_count": 64,
     "metadata": {},
     "output_type": "execute_result"
    }
   ],
   "source": [
    "result['out.generated_text'][0]"
   ]
  },
  {
   "cell_type": "markdown",
   "id": "9588d038-84e0-4174-a05d-342e7f14586b",
   "metadata": {},
   "source": [
    "### Undeploy"
   ]
  },
  {
   "cell_type": "code",
   "execution_count": 65,
   "id": "e6cb5e52-6c24-4a85-ab62-30875554c6d1",
   "metadata": {},
   "outputs": [
    {
     "name": "stdout",
     "output_type": "stream",
     "text": [
      "Waiting for undeployment - this will take up to 1200s ............................................ ok\n"
     ]
    },
    {
     "data": {
      "text/html": [
       "<table><tr><th>name</th> <td>llamav3-instruct</td></tr><tr><th>created</th> <td>2024-05-01 19:51:08.240637+00:00</td></tr><tr><th>last_updated</th> <td>2024-05-01 19:51:08.307643+00:00</td></tr><tr><th>deployed</th> <td>False</td></tr><tr><th>arch</th> <td>None</td></tr><tr><th>tags</th> <td></td></tr><tr><th>versions</th> <td>4172bf2c-bcdc-4025-9768-bdeaad5e8770, 230101db-e555-4ca8-8e79-cd57464138cc</td></tr><tr><th>steps</th> <td>llama3-instruct</td></tr><tr><th>published</th> <td>False</td></tr></table>"
      ],
      "text/plain": [
       "{'name': 'llamav3-instruct', 'create_time': datetime.datetime(2024, 5, 1, 19, 51, 8, 240637, tzinfo=tzutc()), 'definition': \"[{'ModelInference': {'models': [{'name': 'llama3-instruct', 'version': '700fe65c-53c9-45db-974a-d3bab7389658', 'sha': 'b92b26c9c53e32ef8d465922ff449288b8d305dd311d48f48aaef2ff3ebce2ec'}]}}]\"}"
      ]
     },
     "execution_count": 65,
     "metadata": {},
     "output_type": "execute_result"
    }
   ],
   "source": [
    "pipeline.undeploy()"
   ]
  },
  {
   "cell_type": "code",
   "execution_count": null,
   "id": "a4364d04-6403-4f1f-b6d3-249835a9a31a",
   "metadata": {},
   "outputs": [],
   "source": []
  }
 ],
 "metadata": {
  "kernelspec": {
   "display_name": "Python 3 (ipykernel)",
   "language": "python",
   "name": "python3"
  },
  "language_info": {
   "codemirror_mode": {
    "name": "ipython",
    "version": 3
   },
   "file_extension": ".py",
   "mimetype": "text/x-python",
   "name": "python",
   "nbconvert_exporter": "python",
   "pygments_lexer": "ipython3",
   "version": "3.9.13"
  }
 },
 "nbformat": 4,
 "nbformat_minor": 5
}
