{
 "cells": [
  {
   "cell_type": "markdown",
   "id": "9967cde1-bbd3-445b-8267-ab3575b4df2d",
   "metadata": {},
   "source": [
    "This tutorial and the assets can be downloaded as part of the [Wallaroo Tutorials repository](https://github.com/WallarooLabs/Wallaroo_Tutorials/blob/wallaroo2025.1_tutorials/wallaroo-llms/llm-performance-optimizations/continuous-batching-custom-llama).\n",
    "\n",
    "## Continuous Batching for Custom Llama with vLLM \n",
    "\n",
    "Wallaroo **continuous batching** for vLLMs provides:\n",
    "\n",
    "* Standards based vLLM deployment options.\n",
    "* Increased performance for vLLM deployments that leverage GPUs.\n",
    "\n",
    "**Continuous Batching** improves throughput by dynamically grouping incoming inference requests in real time to optimize processing. It’s useful for real concurrent inference requests when LLM-based or agentic AI applications run at scale, balancing latency, throughput, and resource use.\n",
    "\n",
    "Wallaroo continuous batching is available for the following frameworks:\n",
    "\n",
    "* `wallaroo.framework.Framework.VLLM`:  Native async vLLM implementations in Wallaroo compatible with NVIDIA CUDA.\n",
    "* `wallaroo.framework.Framework.CUSTOM`: Custom async vLLM implementations in Wallaroo using BYOP (Bring Your Own Predict) provide greater flexibility through a lightweight Python interface.\n",
    "\n",
    "For more details on Continuous Batching for vLLMs, see [Continuous Batching for LLMs](https://docs.wallaroo.ai/wallaroo-llm/wallaroo-llm-optimizations/wallaroo-llm-optimizations-continuous-batching/).\n",
    "\n",
    "This tutorial demonstrates deploying the Llama V3 Instruct LLM with continuous batching in Wallaroo with CUDA AI Acceleration with the Custom Framework.  For access to these sample models and for a demonstration of how to use Continuous Batching to improve LLM performance:\n",
    "\n",
    "* Contact your Wallaroo Support Representative **OR**\n",
    "* [Schedule Your Wallaroo.AI Demo Today](https://wallaroo.ai/request-a-demo/)\n",
    "\n",
    "## Tutorial Overview\n",
    "\n",
    "This tutorial demonstrates using Wallaroo to:\n",
    "\n",
    "* Upload a LLM with the following options:\n",
    "  * Framework:  `Custom`.  The Wallaroo Custom Model for this tutorial includes extensions to enable continuous batching with its deployment.\n",
    "  * Framework Configuration to specify LLM options.\n",
    "* Define a Continuous Batching Configuration and apply it to the LLM model configuration.\n",
    "* Deploy a the LLM with a Deployment Configuration that allocates resources to the LLM; the Framework Configuration is applied at the LLM level, so it inherited during deployment.\n",
    "* Demonstrate how to perform a sample inference.\n",
    "\n",
    "## Requirements\n",
    "\n",
    "The following tutorial requires the following:\n",
    "\n",
    "* Llama V3 Instruct vLLM encapsulated in the Wallaroo Custom Model aka BYOP Framework.  This is available through a Wallaroo representative.\n",
    "* Wallaroo version 2025.1 and above."
   ]
  },
  {
   "cell_type": "markdown",
   "id": "038d4e0c-2ea2-484b-b9bb-4ea47dcac996",
   "metadata": {},
   "source": [
    "## Tutorial Steps\n",
    "\n",
    "### Library Imports\n",
    "\n",
    "We start by importing the libraries used for this tutorial, including the [Wallaroo SDK](https://docs.wallaroo.ai/wallaroo-developer-guides/wallaroo-sdk-guides/).  This is provided by default when executing this Jupyter Notebook in the Wallaroo JupyterHub service."
   ]
  },
  {
   "cell_type": "code",
   "execution_count": null,
   "id": "4e04a573-b12a-41b5-83dc-fb0548aab169",
   "metadata": {},
   "outputs": [],
   "source": [
    "import base64\n",
    "import wallaroo\n",
    "import pyarrow as pa\n",
    "import pandas as pd\n",
    "from wallaroo.deployment_config import DeploymentConfigBuilder\n",
    "from wallaroo.framework import Framework\n",
    "from wallaroo.engine_config import Acceleration\n",
    "from wallaroo.continuous_batching_config import ContinuousBatchingConfig\n",
    "from wallaroo.object import EntityNotFoundError\n",
    "from wallaroo.framework import CustomConfig"
   ]
  },
  {
   "cell_type": "markdown",
   "id": "cb04b6e8",
   "metadata": {},
   "source": [
    "### Connect to the Wallaroo Instance\n",
    "\n",
    "The next step to connect to Wallaroo through the Wallaroo client.  The Python library is included in the Wallaroo install and available through the Jupyter Hub interface provided with your Wallaroo environment.\n",
    "\n",
    "This is accomplished using the `wallaroo.Client()` command, which provides a URL to grant the SDK permission to your specific Wallaroo environment.  When displayed, enter the URL into a browser and confirm permissions.  Store the connection into a variable that can be referenced later.\n",
    "\n",
    "If logging into the Wallaroo instance through the internal JupyterHub service, use `wl = wallaroo.Client()`.  For more information on Wallaroo Client settings, see the [Client Connection guide](https://docs.wallaroo.ai/wallaroo-developer-guides/wallaroo-sdk-guides/wallaroo-sdk-essentials-guide/wallaroo-sdk-essentials-client/)."
   ]
  },
  {
   "cell_type": "code",
   "execution_count": 2,
   "id": "7683298b-7e1b-4498-b184-7050a9034414",
   "metadata": {},
   "outputs": [],
   "source": [
    "wl = wallaroo.Client()"
   ]
  },
  {
   "cell_type": "markdown",
   "id": "51f39f33",
   "metadata": {},
   "source": [
    "### Custom vLLM Framework Requirements\n",
    "\n",
    "Custom vLLM deployments in Wallaroo use the Custom Model aka BYOP framework.  The following is a summary of the requirements for using Continuous Batching with Custom vLLM deployments.  For full details, see [Custom vLLM Requirements](https://docs.wallaroo.ai/wallaroo-llm/wallaroo-llm-optimizations/wallaroo-llm-optimizations-continuous-batching/#custom-vllm-requirements).\n",
    "\n",
    "Custom vLLM deployments include Python scripts that extend the Wallaroo SDK `mac.inference.Inference` and `mac.inference.creation.InferenceBuilder`.  For Continuous Batching support, the following additions are required:\n",
    "\n",
    "* In the `requirements.txt` file, the `vllm` library **must** be included.  For optional performance, use the version specified below.\n",
    "\n",
    "    ```python\n",
    "    vllm==0.6.6\n",
    "    ```\n",
    "\n",
    "* Import the following libraries into the Python script that extends the `mac.inference.Inference` and `mac.inference.creation.InferenceBuilder`:\n",
    "\n",
    "    ```python\n",
    "    from vllm import AsyncLLMEngine, SamplingParams\n",
    "    from vllm.engine.arg_utils import AsyncEngineArgs\n",
    "    ```\n",
    "\n",
    "* The class that accepts `InferenceBuilder` extends:\n",
    "  * `def inference(self) -> AsyncVLLMInference`: Specifies the Inference instance used by `create`.\n",
    "  * `def create(self, config: CustomInferenceConfig) -> AsyncVLLMInference:`  Creates the inference subclass and adds the vLLM for use with the inference requests.\n",
    "\n",
    "The following shows an example of extending the `inference` and `create` to for `AsyncVLLMInference`.  The entire code is available as part of this tutorials artifacts under `./models/main.py`.\n",
    "\n",
    "```python\n",
    "class AsyncVLLMInferenceBuilder(InferenceBuilder):\n",
    "    \"\"\"Inference builder class for AsyncVLLMInference.\"\"\"\n",
    "\n",
    "    @property\n",
    "    def inference(self) -> AsyncVLLMInference:\n",
    "        \"\"\"Returns an Inference subclass instance.\n",
    "        This specifies the Inference instance to be used\n",
    "        by create() to build additionally needed components.\"\"\"\n",
    "        return AsyncVLLMInference()\n",
    "\n",
    "    def create(self, config: CustomInferenceConfig) -> AsyncVLLMInference:\n",
    "        \"\"\"Creates an Inference subclass and assigns a model to it.\n",
    "\n",
    "        :param config: Inference configuration\n",
    "\n",
    "        :return: Inference subclass\n",
    "        \"\"\"\n",
    "        inference = self.inference\n",
    "        inference.model = AsyncLLMEngine.from_engine_args(\n",
    "            AsyncEngineArgs(\n",
    "                model=(config.model_path / \"model\").as_posix(),\n",
    "            ),\n",
    "        )\n",
    "        return inference\n",
    "\n",
    "```"
   ]
  },
  {
   "cell_type": "markdown",
   "id": "9d2206be-95e6-4ebc-9a4a-113c6dca0dfd",
   "metadata": {},
   "source": [
    "### Upload Model Custom vLLM Runtime\n",
    "\n",
    "Custom vLLM Runtimes are uploaded either via the Wallaroo SDK or the Wallaroo MLOps API.  The following procedures demonstrate both methods.\n",
    "\n",
    "#### Define Input and Output Schemas\n",
    "\n",
    "The input and output schemas are defined in Apache pyarrow format.\n"
   ]
  },
  {
   "cell_type": "code",
   "execution_count": 4,
   "id": "c006df23-acb4-4baa-b0db-129a1e7b9229",
   "metadata": {},
   "outputs": [],
   "source": [
    "input_schema = pa.schema([\n",
    "    pa.field('prompt', pa.string()),\n",
    "    pa.field('max_tokens', pa.int64()),\n",
    "])\n",
    "output_schema = pa.schema([\n",
    "    pa.field('generated_text', pa.string()),\n",
    "    pa.field('num_output_tokens', pa.int64())\n",
    "])"
   ]
  },
  {
   "cell_type": "markdown",
   "id": "105013f0-4688-424a-8aa7-5290fcca0323",
   "metadata": {
    "jp-MarkdownHeadingCollapsed": true
   },
   "source": [
    "#### Upload Custom vLLM Runtime via the MLOps API\n",
    "\n",
    "Wallaroo provides the Wallaroo MLOps API.  For full details on using the Wallaroo MLOps API including client connections, endpoints, etc, see the [Wallaroo API Guide](https://docs.wallaroo.ai/wallaroo-developer-guides/wallaroo-api-guide/).\n",
    "\n",
    "Models are uploaded via the Wallaroo MLOps API via the following endpoint:\n",
    "\n",
    "* `/v1/api/models/upload_and_convert`\n",
    "\n",
    "This endpoint accepts the following parameters.\n",
    "\n",
    "| Field | &nbsp; | Type | Description |\n",
    "|---|---|---|---|\n",
    "| **name** | &nbsp; | *String* (*Required*) | The model name. |\n",
    "| **visibility** | &nbsp; | *String* (*Required*) | Either `public` or `private`. |\n",
    "| **workspace_id** | &nbsp; | *String* (*Required*) | The numerical ID of the workspace to upload the model to. |\n",
    "| **conversion** | &nbsp; | *String* (*Required*) |  The conversion parameters that include the following: |\n",
    "| &nbsp; | **framework** | *String* (*Required*) |  The framework of the model being uploaded.  For Custom vLLM frameworks, this value is `custom` |\n",
    "| &nbsp; | **python_version** | *String* (*Required*) | The version of Python required for the model.  For Custom vLLM frameworks, this value is `3.8`. |\n",
    "| &nbsp; | **requirements** | *String* (*Required*) | Required libraries.  For Custom vLLM frameworks, this value is `[]`. |\n",
    "| &nbsp; | **framework_config** | *Dict* (*Optional*) | The framework configuration.  See [Framework Configuration Parameters for Custom vLLM Frameworks](#framework-configuration-parameters-for-custom-vllm-frameworks) for a list of parameters. |\n",
    "| &nbsp; | **input_schema** | *String* (*Optional*) | The input schema from the Apache Arrow `pyarrow.lib.Schema` format, encoded with `base64.b64encode`.  **Only required for Containerized Wallaroo Runtime models.** |\n",
    "| &nbsp; | **output_schema** | *String* (*Optional*) |  The output schema from the Apache Arrow `pyarrow.lib.Schema` format, encoded with `base64.b64encode`.  **Only required for non-native runtime models.** |\n",
    "\n",
    "##### Framework Configuration Parameters for Custom vLLM Frameworks\n",
    "\n",
    "The `framework_config` parameter accepts the following parameters.\n",
    "\n",
    "| Field | &nbsp; | Type | Description |\n",
    "|---|---|---|---|\n",
    "| **config** | &nbsp; | *Dict* The framework configuration values.  The following subset are parameters of the `config` field. |\n",
    "| &nbsp;| **max_num_seqs** | *Integer* (*Default: 256*) |\n",
    "| &nbsp;| **max_model_len** | *Integer* (*Default: None*) |\n",
    "| &nbsp;| **max_seq_len_to_capture** | *Integer* (*Default: 8192*) |\n",
    "| &nbsp;| **quantization** | (*Default: None*)  |\n",
    "| &nbsp;| **kv_cache_dtype** | (*Default: `'auto'`*) |\n",
    "| &nbsp;| **gpu_memory_utilization** | **Float** (*Default: 0.9*) |\n",
    "| &nbsp;| **block_size** | (*Default: None*)  |\n",
    "| &nbsp;| **device_group** |  (*Default: None*) This setting is ignored for CUDA acceleration. |\n",
    "| **framework** | &nbsp; | *String* The framework of the `framework_config` type.  For Custom vLLM frameworks, this value is `\"custom\"`. |\n",
    "\n",
    "##### Upload Example for Custom vLLM Frameworks via the MLOps API\n",
    "\n",
    "The following example demonstrates uploading a Custom vLLM Framework runt with the framework configuration via the Wallaroo MLOps API, then retrieving the model version from the Wallaroo SDK.  This model version is used to apply the optional Continuous Batching Configuration.  If no Continuous Batching Configuration is applied, then the default values are applied.\n",
    "\n",
    "We start by converting the input and output schemas to base64."
   ]
  },
  {
   "cell_type": "code",
   "execution_count": null,
   "id": "bcba6154-0eca-47a2-89ce-e70a7314d79b",
   "metadata": {},
   "outputs": [],
   "source": [
    "base64.b64encode(\n",
    "    bytes(input_schema.serialize())\n",
    ").decode(\"utf8\")"
   ]
  },
  {
   "cell_type": "code",
   "execution_count": null,
   "id": "c695e40c-63dd-4d41-a610-42cef02951ea",
   "metadata": {},
   "outputs": [],
   "source": [
    "base64.b64encode(\n",
    "    bytes(output_schema.serialize())\n",
    ").decode(\"utf8\")"
   ]
  },
  {
   "cell_type": "markdown",
   "id": "ec000884-a93a-424b-9d17-1e6ce6853af4",
   "metadata": {},
   "source": [
    "Run the following command in order to upload the model via the Wallaroo MLOps API via `curl`.\n",
    "\n",
    "```bash\n",
    "curl --progress-bar -X POST   -H \"Content-Type: multipart/form-data\"   -H \"Authorization: Bearer <your-auth-token-here>\"   -F 'metadata={\"name\": \"byop-vllm-tinyllama-async-fc-v3\", \"visibility\": \"private\", \"workspace_id\": <your-workspace-id-here>, \"conversion\": {\"framework\": \"custom\", \"python_version\": \"3.8\", \"requirements\": [], \"framework_config\": {\"config\": {\"gpu_memory_utilization\": 0.9, \"max_model_len\": 128}, \"framework\": \"custom\"}}, \"input_schema\": \"/////7AAAAAQAAAAAAAKAAwABgAFAAgACgAAAAABBAAMAAAACAAIAAAABAAIAAAABAAAAAIAAABUAAAABAAAAMT///8AAAECEAAAACQAAAAEAAAAAAAAAAoAAABtYXhfdG9rZW5zAAAIAAwACAAHAAgAAAAAAAABQAAAABAAFAAIAAYABwAMAAAAEAAQAAAAAAABBRAAAAAcAAAABAAAAAAAAAAGAAAAcHJvbXB0AAAEAAQABAAAAA==\", \"output_schema\": \"/////8AAAAAQAAAAAAAKAAwABgAFAAgACgAAAAABBAAMAAAACAAIAAAABAAIAAAABAAAAAIAAABcAAAABAAAALz///8AAAECEAAAACwAAAAEAAAAAAAAABEAAABudW1fb3V0cHV0X3Rva2VucwAAAAgADAAIAAcACAAAAAAAAAFAAAAAEAAUAAgABgAHAAwAAAAQABAAAAAAAAEFEAAAACQAAAAEAAAAAAAAAA4AAABnZW5lcmF0ZWRfdGV4dAAABAAEAAQAAAA=\"};type=application/json'   -F \"file=@byop-tinyllama-custom-config.zip;type=application/octet-stream\"   https://benchmarkscluster.wallaroocommunity.ninja/v1/api/models/upload_and_convert | cat\n",
    "```"
   ]
  },
  {
   "cell_type": "markdown",
   "id": "0ac11e02",
   "metadata": {},
   "source": [
    "The model is retrieved via the Wallaroo SDK method `wallaroo.client.Client.get_model` for additional configuration and deployment options."
   ]
  },
  {
   "cell_type": "code",
   "execution_count": null,
   "id": "216dfce1-e1f9-4574-bd0d-d748b04ec685",
   "metadata": {},
   "outputs": [],
   "source": [
    "# Retrieve the model\n",
    "custom_framework_model = wl.get_model(\"byop-vllm-tinyllama-async-fc-v3\")\n",
    "custom_framework_model"
   ]
  },
  {
   "cell_type": "markdown",
   "id": "0d39d8cc-3d86-4e94-ba07-32004aaae54f",
   "metadata": {},
   "source": [
    "#### Upload the LLM via the Wallaroo SDK\n",
    "\n",
    "The model is uploaded via the Wallaroo SDK method `wallaroo.client.Client.upload_model` which takes the following parameters.\n",
    "\n",
    "| Parameter | Type | Description |\n",
    "|---|---|---|\n",
    "| `name` | `string` (*Required*) | The name of the model.  Model names are unique **per workspace**.  Models that are uploaded with the same name are assigned as a new **version** of the model. |\n",
    "| `path` | `string` (*Required*) | The path to the model file being uploaded. |\n",
    "| `framework` |`string` (*Required*) | The framework of the model from `wallaroo.framework.Framework`.  For vLLMs, this framework is `wallaroo.framework.Framework.CUSTOM`.|\n",
    "| `input_schema` | `pyarrow.lib.Schema` <ul><li>Native Wallaroo Runtimes: (*Optional*)</li><li>Non-Native Wallaroo Runtimes: (*Required*)</li></ul> | The input schema in Apache Arrow schema format. |\n",
    "| `output_schema` | `pyarrow.lib.Schema` <ul><li>Native Wallaroo Runtimes: (*Optional*)</li><li>Non-Native Wallaroo Runtimes: (*Required*)</li></ul> | The output schema in Apache Arrow schema format. |\n",
    "| `framework_config` | `wallaroo.framework.VLLMConfig` (*Optional*) | Sets the vLLM configuration options based on the [Framework Configuration Parameters](#framework-configuration-parameters).  If no options are specified, the default values are applied. |\n",
    "| `convert_wait` | `bool` (*Optional*) | <ul><li>**True**: Waits in the script for the model conversion completion.</li><li>**False**:  Proceeds with the script without waiting for the model conversion process to display complete.</li></ul> |\n",
    "\n",
    "`wallaroo.framework.VLLMConfig` contains the following parameters.\n",
    "\n",
    "| Parameters | Type |\n",
    "|---|---|\n",
    "| **max_num_seqs** | *Integer* (*Default: 256*) |\n",
    "| **max_model_len** | *Integer* (*Default: None*) |\n",
    "| **max_seq_len_to_capture** | *Integer* (*Default: 8192*) |\n",
    "| **quantization** | (*Default: None*)  |\n",
    "| **kv_cache_dtype** (*Default: 'auto'*) |\n",
    "| **gpu_memory_utilization** | **Float** (*Default: 0.9*) |\n",
    "| **block_size** | (*Default: None*)  |\n",
    "| **device_group** |  (*Default: None*) This setting is ignored for CUDA acceleration. |"
   ]
  },
  {
   "cell_type": "markdown",
   "id": "2734d161",
   "metadata": {},
   "source": [
    "#### Define VLLMConfig\n",
    "\n",
    "We define the `wallaroo.framework.VLLMConfig` object and set the values.\n",
    "\n",
    "`wallaroo.framework.VLLMConfig` contains the following parameters.\n",
    "\n",
    "| Parameters | Type |\n",
    "|---|---|\n",
    "| **max_num_seqs** | *Integer* (*Default: 256*) |\n",
    "| **max_model_len** | *Integer* (*Default: None*) |\n",
    "| **max_seq_len_to_capture** | *Integer* (*Default: 8192*) |\n",
    "| **quantization** | (*Default: None*)  |\n",
    "| **kv_cache_dtype** (*Default: 'auto'*) |\n",
    "| **gpu_memory_utilization** | **Float** (*Default: 0.9*) |\n",
    "| **block_size** | (*Default: None*) |\n",
    "| **device_group** |  (*Default: None*) This setting is ignored for for CUDA acceleration. |\n",
    "\n",
    "For this example, the `VLLMConfig` parameters are set with the following:\n",
    "\n",
    "* `gpu_memory_utilization=0.9` \n",
    "* `max_model_len=128`\n",
    "\n",
    "Other parameters will use the default values."
   ]
  },
  {
   "cell_type": "code",
   "execution_count": null,
   "id": "00b8970a",
   "metadata": {},
   "outputs": [],
   "source": [
    "custom_framework_config = VLLMConfig(\n",
    "        gpu_memory_utilization=0.9, \n",
    "        max_model_len=128\n",
    "    )"
   ]
  },
  {
   "cell_type": "markdown",
   "id": "a80e057f",
   "metadata": {},
   "source": [
    "#### Upload model via the Wallaroo SDK\n",
    "\n",
    "With our values set, we upload the model with the `wallaroo.client.Client.upload_model` method with the following parameters:\n",
    "\n",
    "* Model name and path to the Llama V3 Instruct LLM.\n",
    "* `framework_config` set to our defined `VLLMConfig`.\n",
    "* Input and output schemas.\n",
    "* `accel` set to `from wallaroo.engine_config.Acceleration.CUDA`."
   ]
  },
  {
   "cell_type": "code",
   "execution_count": null,
   "id": "730a5fd6-2a75-4fb4-a1df-dd0cbf45a032",
   "metadata": {},
   "outputs": [
    {
     "name": "stdout",
     "output_type": "stream",
     "text": [
      "Waiting for model loading - this will take up to 10min.\n",
      ".odel is pending loading to a container runtime.\n",
      ".............................successfulner runtime.\n",
      "\n",
      "Ready\n"
     ]
    },
    {
     "data": {
      "text/html": [
       "<table>\n",
       "        <tr>\n",
       "          <td>Name</td>\n",
       "          <td>byop-vllm-tinyllama-ynsv5</td>\n",
       "        </tr>\n",
       "        <tr>\n",
       "          <td>Version</td>\n",
       "          <td>4b40ba86-8af1-4945-bde6-137245d5e618</td>\n",
       "        </tr>\n",
       "        <tr>\n",
       "          <td>File Name</td>\n",
       "          <td>byop_tinyllama_vllm_v4.zip</td>\n",
       "        </tr>\n",
       "        <tr>\n",
       "          <td>SHA</td>\n",
       "          <td>5e244d5ab73cf718256d1d08b7c0553102215f69c3d70936b2d4b89043499a2e</td>\n",
       "        </tr>\n",
       "        <tr>\n",
       "          <td>Status</td>\n",
       "          <td>ready</td>\n",
       "        </tr>\n",
       "        <tr>\n",
       "          <td>Image Path</td>\n",
       "          <td>proxy.replicated.com/proxy/wallaroo/ghcr.io/wallaroolabs/mac-deploy:v2025.1.0-main-6132</td>\n",
       "        </tr>\n",
       "        <tr>\n",
       "          <td>Architecture</td>\n",
       "          <td>x86</td>\n",
       "        </tr>\n",
       "        <tr>\n",
       "          <td>Acceleration</td>\n",
       "          <td>cuda</td>\n",
       "        </tr>\n",
       "        <tr>\n",
       "          <td>Updated At</td>\n",
       "          <td>2025-08-May 18:22:35</td>\n",
       "        </tr>\n",
       "        <tr>\n",
       "          <td>Workspace id</td>\n",
       "          <td>60</td>\n",
       "        </tr>\n",
       "        <tr>\n",
       "          <td>Workspace name</td>\n",
       "          <td>younes.amar@wallaroo.ai - Default Workspace</td>\n",
       "        </tr>\n",
       "      </table>"
      ],
      "text/plain": [
       "{'name': 'byop-vllm-tinyllama-ynsv5', 'version': '4b40ba86-8af1-4945-bde6-137245d5e618', 'file_name': 'byop_tinyllama_vllm_v4.zip', 'image_path': 'proxy.replicated.com/proxy/wallaroo/ghcr.io/wallaroolabs/mac-deploy:v2025.1.0-main-6132', 'arch': 'x86', 'accel': 'cuda', 'last_update_time': datetime.datetime(2025, 5, 8, 18, 22, 35, 480335, tzinfo=tzutc())}"
      ]
     },
     "execution_count": 6,
     "metadata": {},
     "output_type": "execute_result"
    }
   ],
   "source": [
    "custom_framework_model = wl.upload_model(\n",
    "    \"byop-vllm-tinyllama-ynsv5\", \n",
    "    \"./byop_tinyllama_vllm_v4.zip\",\n",
    "    framework=Framework.CUSTOM,\n",
    "    framework_config=custom_framework_config,\n",
    "    input_schema=input_schema, \n",
    "    output_schema=output_schema,\n",
    "    accel=Acceleration.CUDA\n",
    ")\n",
    "custom_framework_model"
   ]
  },
  {
   "cell_type": "markdown",
   "id": "44a7d06a",
   "metadata": {},
   "source": [
    "### Set Continuous Batching Configuration\n",
    "\n",
    "The model configuration is set either during model upload or post model upload.  We define the continuous batching configuration with the max current batch size set to `100`, then apply it to the model configuration.\n",
    "\n",
    "If the `max_concurrent_batch_size` is **not** specified it is set to the default to the value of `256`.\n",
    "\n",
    "When applying a continuous batch configuration to a model configuration, the input and output schemas **must** be included."
   ]
  },
  {
   "cell_type": "code",
   "execution_count": null,
   "id": "3cd4f16b-b40a-4d2f-bb83-806ff285aaaa",
   "metadata": {},
   "outputs": [],
   "source": [
    "# Define continuous batching for Async vLLM (you can choose the number of connections you want)\n",
    "cbc = ContinuousBatchingConfig(max_concurrent_batch_size = 100)"
   ]
  },
  {
   "cell_type": "code",
   "execution_count": null,
   "id": "c427430d-58b5-4d26-b930-52a175fb2fcc",
   "metadata": {},
   "outputs": [
    {
     "data": {
      "text/html": [
       "<table>\n",
       "        <tr>\n",
       "          <td>Name</td>\n",
       "          <td>byop-vllm-tinyllama-ynsv5</td>\n",
       "        </tr>\n",
       "        <tr>\n",
       "          <td>Version</td>\n",
       "          <td>4b40ba86-8af1-4945-bde6-137245d5e618</td>\n",
       "        </tr>\n",
       "        <tr>\n",
       "          <td>File Name</td>\n",
       "          <td>byop_tinyllama_vllm_v4.zip</td>\n",
       "        </tr>\n",
       "        <tr>\n",
       "          <td>SHA</td>\n",
       "          <td>5e244d5ab73cf718256d1d08b7c0553102215f69c3d70936b2d4b89043499a2e</td>\n",
       "        </tr>\n",
       "        <tr>\n",
       "          <td>Status</td>\n",
       "          <td>ready</td>\n",
       "        </tr>\n",
       "        <tr>\n",
       "          <td>Image Path</td>\n",
       "          <td>proxy.replicated.com/proxy/wallaroo/ghcr.io/wallaroolabs/mac-deploy:v2025.1.0-main-6132</td>\n",
       "        </tr>\n",
       "        <tr>\n",
       "          <td>Architecture</td>\n",
       "          <td>x86</td>\n",
       "        </tr>\n",
       "        <tr>\n",
       "          <td>Acceleration</td>\n",
       "          <td>cuda</td>\n",
       "        </tr>\n",
       "        <tr>\n",
       "          <td>Updated At</td>\n",
       "          <td>2025-08-May 18:22:35</td>\n",
       "        </tr>\n",
       "        <tr>\n",
       "          <td>Workspace id</td>\n",
       "          <td>60</td>\n",
       "        </tr>\n",
       "        <tr>\n",
       "          <td>Workspace name</td>\n",
       "          <td>younes.amar@wallaroo.ai - Default Workspace</td>\n",
       "        </tr>\n",
       "      </table>"
      ],
      "text/plain": [
       "{'name': 'byop-vllm-tinyllama-ynsv5', 'version': '4b40ba86-8af1-4945-bde6-137245d5e618', 'file_name': 'byop_tinyllama_vllm_v4.zip', 'image_path': 'proxy.replicated.com/proxy/wallaroo/ghcr.io/wallaroolabs/mac-deploy:v2025.1.0-main-6132', 'arch': 'x86', 'accel': 'cuda', 'last_update_time': datetime.datetime(2025, 5, 8, 18, 22, 35, 480335, tzinfo=tzutc())}"
      ]
     },
     "execution_count": 8,
     "metadata": {},
     "output_type": "execute_result"
    }
   ],
   "source": [
    "custom_framework_with_continuous_batching = custom_framework_model.configure(\n",
    "    input_schema = input_schema,\n",
    "    output_schema = output_schema,\n",
    "    continuous_batching_config = cbc\n",
    ")\n",
    "custom_framework_with_continuous_batching"
   ]
  },
  {
   "cell_type": "markdown",
   "id": "1e3496d0",
   "metadata": {},
   "source": [
    "### Deploy LLMs Using the Custom Wallaroo vLLM Runtime with Continuous Batch Configuration\n",
    "\n",
    "Models are deployed in Wallaroo via **Wallaroo Pipelines** through the following process.\n",
    "\n",
    "* Create a **deployment configuration**.  If no deployment configuration is specified, then the default values are used.  For our deployment, we specify the LLM is assigned the following resources:\n",
    "  * 1 cpu\n",
    "  * 10 Gi RAM\n",
    "  * 1 gpu from the nodepool `\"wallaroo.ai/accelerator:a100\"`.  Wallaroo deployments and pipelines inherit the acceleration settings from the model, so this will be `CUDA`.\n",
    "* Create the Wallaroo pipeline.\n",
    "* Assign the model as a **pipeline step** to processing incoming data and return the inference results.\n",
    "* Deploy the pipeline with the pipeline configuration.\n",
    "\n",
    "#### Define the Deployment Configuration\n",
    "\n",
    "The deployment configuration allocates resources for the LLM's exclusive use.  These resources are used by the LLM until the pipeline is **undeployed** and the resources returned."
   ]
  },
  {
   "cell_type": "code",
   "execution_count": null,
   "id": "20972f6c-594c-4b3b-b136-bdf25f6e1964",
   "metadata": {},
   "outputs": [],
   "source": [
    "deployment_config = DeploymentConfigBuilder() \\\n",
    "    .cpus(1.).memory('1Gi') \\\n",
    "    .sidekick_cpus(custom_framework_with_continuous_batching, 1.) \\\n",
    "    .sidekick_memory(custom_framework_with_continuous_batching, '10Gi') \\\n",
    "    .sidekick_gpus(custom_framework_with_continuous_batching, 1) \\\n",
    "    .deployment_label(\"wallaroo.ai/accelerator:t4-shared\") \\\n",
    "    .build()"
   ]
  },
  {
   "cell_type": "markdown",
   "id": "ce2695a7",
   "metadata": {},
   "source": [
    "####  Deploy the LLM pipeline With the Custom vLLM Runtime and Continuous Batching Configurations\n",
    "\n",
    "The next steps we deploy the model by creating the pipeline, adding the vLLM as the pipeline step, and deploying the pipeline with the deployment configuration.\n",
    "\n",
    "Once complete, the model is ready to accept inference requests."
   ]
  },
  {
   "cell_type": "code",
   "execution_count": null,
   "id": "1be23d51-b4c7-45c1-8f03-f6034f4fb0dd",
   "metadata": {},
   "outputs": [],
   "source": [
    "pipeline = wl.build_pipeline(\"byop-tinyllama-cutom-vllm\")\n",
    "pipeline.undeploy()\n",
    "pipeline.clear()\n",
    "\n",
    "pipeline.add_model_step(batch)\n",
    "pipeline.deploy(deployment_config=deployment_config)"
   ]
  },
  {
   "cell_type": "code",
   "execution_count": 17,
   "id": "e7caa327-22e9-4838-b582-0589430b6476",
   "metadata": {},
   "outputs": [
    {
     "data": {
      "text/plain": [
       "{'status': 'Running',\n",
       " 'details': [],\n",
       " 'engines': [{'ip': '10.4.7.8',\n",
       "   'name': 'engine-65bc55d64f-mdrnh',\n",
       "   'status': 'Running',\n",
       "   'reason': None,\n",
       "   'details': [],\n",
       "   'pipeline_statuses': {'pipelines': [{'id': 'byop-tinyllama-cutom-vllm',\n",
       "      'status': 'Running',\n",
       "      'version': '95a07681-e434-4108-8e9c-01c052b7b5ec'}]},\n",
       "   'model_statuses': {'models': [{'model_version_id': 434,\n",
       "      'name': 'byop-vllm-tinyllama-ynsv5',\n",
       "      'sha': '5e244d5ab73cf718256d1d08b7c0553102215f69c3d70936b2d4b89043499a2e',\n",
       "      'status': 'Running',\n",
       "      'version': '4b40ba86-8af1-4945-bde6-137245d5e618'}]}}],\n",
       " 'engine_lbs': [{'ip': '10.4.1.15',\n",
       "   'name': 'engine-lb-5cf49f9d5f-dkvsz',\n",
       "   'status': 'Running',\n",
       "   'reason': None,\n",
       "   'details': []}],\n",
       " 'sidekicks': [{'ip': '10.4.7.9',\n",
       "   'name': 'engine-sidekick-byop-vllm-tinyllama-ynsv5-434-5cc6f466fc-zqzbk',\n",
       "   'status': 'Running',\n",
       "   'reason': None,\n",
       "   'details': [],\n",
       "   'statuses': '\\n'}]}"
      ]
     },
     "execution_count": 17,
     "metadata": {},
     "output_type": "execute_result"
    }
   ],
   "source": [
    "pipeline.status()"
   ]
  },
  {
   "cell_type": "markdown",
   "id": "f3336d28",
   "metadata": {},
   "source": [
    "### Inference\n",
    "\n",
    "Inference requests are submitted to deployed models as either pandas DataFrames or Apache Arrow tables.  The inference data must match the input schemas defined earlier.\n",
    "\n",
    "Our sample inference request submits a pandas DataFrame with a simple prompt and the `max_tokens` field set to `200`.  We receive a pandas DataFrame in return with the outputs labeled as `out.{variable_name}`, with `variable_name` matching the output schemas defined at model upload."
   ]
  },
  {
   "cell_type": "code",
   "execution_count": 18,
   "id": "8691aaee-2a24-4ec5-90b0-7f87b13163f1",
   "metadata": {},
   "outputs": [],
   "source": [
    "data = pd.DataFrame({\"prompt\": [\"What is Wallaroo.AI?\"], \"max_tokens\": [200]})"
   ]
  },
  {
   "cell_type": "code",
   "execution_count": 19,
   "id": "4b89b57d-d8a3-47b0-bc7f-e28a551b932b",
   "metadata": {},
   "outputs": [
    {
     "data": {
      "text/html": [
       "<div>\n",
       "<style scoped>\n",
       "    .dataframe tbody tr th:only-of-type {\n",
       "        vertical-align: middle;\n",
       "    }\n",
       "\n",
       "    .dataframe tbody tr th {\n",
       "        vertical-align: top;\n",
       "    }\n",
       "\n",
       "    .dataframe thead th {\n",
       "        text-align: right;\n",
       "    }\n",
       "</style>\n",
       "<table border=\"1\" class=\"dataframe\">\n",
       "  <thead>\n",
       "    <tr style=\"text-align: right;\">\n",
       "      <th></th>\n",
       "      <th>time</th>\n",
       "      <th>in.max_tokens</th>\n",
       "      <th>in.prompt</th>\n",
       "      <th>out.generated_text</th>\n",
       "      <th>out.num_output_tokens</th>\n",
       "      <th>anomaly.count</th>\n",
       "    </tr>\n",
       "  </thead>\n",
       "  <tbody>\n",
       "    <tr>\n",
       "      <th>0</th>\n",
       "      <td>2025-05-08 18:41:35.436</td>\n",
       "      <td>200</td>\n",
       "      <td>What is Wallaroo.AI?</td>\n",
       "      <td>\\n2.2 How does Wallaroo.AI's Asset Composition...</td>\n",
       "      <td>200</td>\n",
       "      <td>0</td>\n",
       "    </tr>\n",
       "  </tbody>\n",
       "</table>\n",
       "</div>"
      ],
      "text/plain": [
       "                     time  in.max_tokens             in.prompt  \\\n",
       "0 2025-05-08 18:41:35.436            200  What is Wallaroo.AI?   \n",
       "\n",
       "                                  out.generated_text  out.num_output_tokens  \\\n",
       "0  \\n2.2 How does Wallaroo.AI's Asset Composition...                    200   \n",
       "\n",
       "   anomaly.count  \n",
       "0              0  "
      ]
     },
     "execution_count": 19,
     "metadata": {},
     "output_type": "execute_result"
    }
   ],
   "source": [
    "pipeline.infer(data, timeout=600)"
   ]
  },
  {
   "cell_type": "markdown",
   "id": "73c94a2a",
   "metadata": {},
   "source": [
    "### Undeploy\n",
    "\n",
    "With the tutorial complete, the pipeline is undeployed to return the resources back to the Wallaroo environment."
   ]
  },
  {
   "cell_type": "code",
   "execution_count": 14,
   "id": "ca5100af-0149-48a9-9501-6359f76988b4",
   "metadata": {},
   "outputs": [
    {
     "name": "stdout",
     "output_type": "stream",
     "text": [
      "Waiting for undeployment - this will take up to 45s ..................................... ok\n"
     ]
    },
    {
     "data": {
      "text/html": [
       "<table><tr><th>name</th> <td>byop-tinyllama-demo-yns-cudafix</td></tr><tr><th>created</th> <td>2025-05-08 18:23:23.012161+00:00</td></tr><tr><th>last_updated</th> <td>2025-05-08 18:23:23.094326+00:00</td></tr><tr><th>deployed</th> <td>False</td></tr><tr><th>workspace_id</th> <td>60</td></tr><tr><th>workspace_name</th> <td>younes.amar@wallaroo.ai - Default Workspace</td></tr><tr><th>arch</th> <td>x86</td></tr><tr><th>accel</th> <td>cuda</td></tr><tr><th>tags</th> <td></td></tr><tr><th>versions</th> <td>2ae66497-d235-44b5-8be5-52a6b83cf945, 2c8d7c28-1702-4e6a-9805-c8f5b918ab36</td></tr><tr><th>steps</th> <td>byop-vllm-tinyllama-ynsv5</td></tr><tr><th>published</th> <td>False</td></tr></table>"
      ],
      "text/plain": [
       "{'name': 'byop-tinyllama-demo-yns-cudafix', 'create_time': datetime.datetime(2025, 5, 8, 18, 23, 23, 12161, tzinfo=tzutc()), 'definition': \"[{'ModelInference': {'models': [{'name': 'byop-vllm-tinyllama-ynsv5', 'version': '4b40ba86-8af1-4945-bde6-137245d5e618', 'sha': '5e244d5ab73cf718256d1d08b7c0553102215f69c3d70936b2d4b89043499a2e'}]}}]\"}"
      ]
     },
     "execution_count": 14,
     "metadata": {},
     "output_type": "execute_result"
    }
   ],
   "source": [
    "pipeline.undeploy()"
   ]
  }
 ],
 "metadata": {
  "kernelspec": {
   "display_name": "Python 3 (ipykernel)",
   "language": "python",
   "name": "python3"
  },
  "language_info": {
   "codemirror_mode": {
    "name": "ipython",
    "version": 3
   },
   "file_extension": ".py",
   "mimetype": "text/x-python",
   "name": "python",
   "nbconvert_exporter": "python",
   "pygments_lexer": "ipython3",
   "version": "3.10.16"
  }
 },
 "nbformat": 4,
 "nbformat_minor": 5
}
