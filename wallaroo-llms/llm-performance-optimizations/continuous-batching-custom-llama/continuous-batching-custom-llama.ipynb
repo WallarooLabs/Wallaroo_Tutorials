{
 "cells": [
  {
   "cell_type": "markdown",
   "id": "9967cde1-bbd3-445b-8267-ab3575b4df2d",
   "metadata": {},
   "source": [
    "This tutorial and the assets can be downloaded as part of the [Wallaroo Tutorials repository](https://github.com/WallarooLabs/Wallaroo_Tutorials/blob/wallaroo2025.1_tutorials/wallaroo-llms/llm-performance-optimizations/continuous-batching-custom-llama).\n",
    "\n",
    "## Continuous Batching with Llama 3 8B Instruct Custom Config Tutorial\n",
    "\n",
    "Wallaroo **continuous batching** for vLLMs provides:\n",
    "\n",
    "* Standards based vLLM deployment options.\n",
    "* Increased performance for vLLM deployments that leverage GPUs.\n",
    "\n",
    "**Continuous Batching** improves throughput by dynamically grouping incoming inference requests in real time to optimize processing. It’s useful for real concurrent inference requests when LLM-based or agentic AI applications run at scale, balancing latency, throughput, and resource use.\n",
    "\n",
    "Wallaroo continuous batching is available for the following frameworks:\n",
    "\n",
    "* `wallaroo.framework.Framework.VLLM` aka \"Standard Framework\":  Hugging Face vLLM models compatible with NVIDIA CUDA.\n",
    "* `wallaroo.framework.Framework.CUSTOM` aka \"Custom Framework\":  Wallaroo Custom Models aka BYOP (Bring Your Own Predict) provide greater flexibility through Python scripts included with the model artifacts.  For more details, see [Custom Model Upload](https://docs.wallaroo.ai/wallaroo-developer-guides/wallaroo-sdk-guides/wallaroo-sdk-essentials-guide/wallaroo-sdk-model-uploads/wallaroo-sdk-model-arbitrary-python/).\n",
    "\n",
    "This tutorial demonstrates deploying the Llama V3 Instruct LLM with continuous batching in Wallaroo with CUDA AI Acceleration with the Custom configuration.  For access to these sample models and for a demonstration of how to use Continuous Batching to improve LLM performance:\n",
    "\n",
    "* Contact your Wallaroo Support Representative **OR**\n",
    "* [Schedule Your Wallaroo.AI Demo Today](https://wallaroo.ai/request-a-demo/)\n",
    "\n",
    "## Tutorial Overview\n",
    "\n",
    "This tutorial demonstrates using Wallaroo to:\n",
    "\n",
    "* Upload a LLM with the following options:\n",
    "  * Framework:  `Custom`.  The Wallaroo Custom Model for this tutorial includes extensions to enable continuous batching with its deployment.\n",
    "  * Framework Configuration to specify LLM options.\n",
    "* Define a Continuous Batching Configuration and apply it to the LLM model configuration.\n",
    "* Deploy a the LLM with a Deployment Configuration that allocates resources to the LLM; the Framework Configuration is applied at the LLM level, so it inherited during deployment.\n",
    "* Demonstrate how to perform a sample inference.\n",
    "\n",
    "## Requirements\n",
    "\n",
    "The following tutorial requires the following:\n",
    "\n",
    "* Llama V3 Instruct vLLM encapsulated in the Wallaroo Custom Model aka BYOP Framework.  This is available through a Wallaroo representative.\n",
    "* Wallaroo version 2025.1 and above.\n",
    "\n",
    "### Custom vLLM Requirements\n",
    "\n",
    "To leverage continuous batching for Custom Models, the following requirements must be met.  For full Custom model details, see [Custom Model aka BYOP](https://docs.wallaroo.ai/wallaroo-developer-guides/wallaroo-sdk-guides/wallaroo-sdk-essentials-guide/wallaroo-sdk-model-uploads/wallaroo-sdk-model-arbitrary-python/).\n",
    "\n",
    "Wallaroo Custom Model include the following artifacts.\n",
    "\n",
    "| Artifact | Type | Description |\n",
    "|---|---|---|\n",
    "| Python scripts aka `.py` files with classes that extend `mac.inference.AsyncInference` and `mac.inference.creation.InferenceBuilder` | Python Script | Extend the classes `mac.inference.Inference` and `mac.inference.creation.InferenceBuilder`.  These are included with the [Wallaroo SDK]({{<ref \"wallaroo-sdk-install-guides\">}}).  Further details are in [Custom Model Script Requirements](#arbitrary-python-script-requirements).  Note that there is no specified naming requirements for the classes that extend `mac.inference.AsyncInference` and `mac.inference.creation.InferenceBuilder` - any qualified class name is sufficient as long as these two classes are extended as defined below. |\n",
    "| `requirements.txt` | Python requirements file | This sets the Python libraries used for the Custom Model.  These libraries should be targeted for Python 3.10 compliance.  **These requirements and the versions of libraries should be exactly the same between creating the model and deploying it in Wallaroo**.  This insures that the script and methods will function exactly the same as during the model creation process. |\n",
    "| Other artifacts | Files | Other models, files, and other artifacts used in support of this model. |\n",
    "\n",
    "For Custom Models with continuous batching, the following additions to the standard Wallaroo Custom Models are required.\n",
    "\n",
    "* In the `requirements.txt` file, the `vllm` library **must** be included.    For optional performance, use the version specified below.\n",
    "\n",
    "    ```python\n",
    "    {{<param python_library_version_vllm>}}\n",
    "    ```\n",
    "\n",
    "* Import the following libraries\n",
    "\n",
    "    ```python\n",
    "    from vllm import AsyncLLMEngine, SamplingParams\n",
    "    from vllm.engine.arg_utils import AsyncEngineArgs\n",
    "    ```\n",
    "\n",
    "* The class that accepts `InferenceBuilder` extends:\n",
    "  * `def inference(self) -> AsyncVLLMInference`: Specifies the Inference instance used by `create`.\n",
    "  * `def create(self, config: CustomInferenceConfig) -> AsyncVLLMInference:`  Creates the inference subclass and adds the vLLM for use with the inference requests.\n",
    "\n",
    "The following shows an example of extending the `inference` and `create` to for `AsyncVLLMInference`.\n",
    "\n",
    "```python\n",
    "# vllm import libraries \n",
    "from vllm import AsyncLLMEngine, SamplingParams\n",
    "from vllm.engine.arg_utils import AsyncEngineArgs\n",
    "\n",
    "class AsyncVLLMInferenceBuilder(InferenceBuilder):\n",
    "    \"\"\"Inference builder class for AsyncVLLMInference.\"\"\"\n",
    "\n",
    "    def inference(self) -> AsyncVLLMInference: # extend mac.inference.AsyncInference\n",
    "        \"\"\"Returns an Inference subclass instance.\n",
    "        This specifies the Inference instance to be used\n",
    "        by create() to build additionally needed components.\"\"\"\n",
    "        return AsyncVLLMInference()\n",
    "\n",
    "    def create(self, config: CustomInferenceConfig) -> AsyncVLLMInference:\n",
    "        \"\"\"Creates an Inference subclass and assigns a model to it.\n",
    "        :param config: Inference configuration\n",
    "        :return: Inference subclass\n",
    "        \"\"\"\n",
    "        inference = self.inference\n",
    "        inference.model = AsyncLLMEngine.from_engine_args(\n",
    "            AsyncEngineArgs(\n",
    "                model=(config.model_path / \"model\").as_posix(),\n",
    "            ),\n",
    "        )\n",
    "        return inference\n",
    "```\n"
   ]
  },
  {
   "cell_type": "markdown",
   "id": "038d4e0c-2ea2-484b-b9bb-4ea47dcac996",
   "metadata": {},
   "source": [
    "## Tutorial Steps\n",
    "\n",
    "### Library Imports\n",
    "\n",
    "We start by importing the libraries used for this tutorial, including the [Wallaroo SDK](https://docs.wallaroo.ai/wallaroo-developer-guides/wallaroo-sdk-guides/).  This is provided by default when executing this Jupyter Notebook in the Wallaroo JupyterHub service."
   ]
  },
  {
   "cell_type": "code",
   "execution_count": null,
   "id": "4e04a573-b12a-41b5-83dc-fb0548aab169",
   "metadata": {},
   "outputs": [],
   "source": [
    "import wallaroo\n",
    "import pyarrow as pa\n",
    "import pandas as pd\n",
    "from wallaroo.deployment_config import DeploymentConfigBuilder\n",
    "from wallaroo.framework import Framework\n",
    "from wallaroo.engine_config import Acceleration\n",
    "from wallaroo.continuous_batching_config import ContinuousBatchingConfig\n",
    "from wallaroo.object import EntityNotFoundError"
   ]
  },
  {
   "cell_type": "markdown",
   "id": "86b666a3",
   "metadata": {},
   "source": [
    "### Connect to the Wallaroo Instance\n",
    "\n",
    "The next step to connect to Wallaroo through the Wallaroo client.  The Python library is included in the Wallaroo install and available through the Jupyter Hub interface provided with your Wallaroo environment.\n",
    "\n",
    "This is accomplished using the `wallaroo.Client()` command, which provides a URL to grant the SDK permission to your specific Wallaroo environment.  When displayed, enter the URL into a browser and confirm permissions.  Store the connection into a variable that can be referenced later.\n",
    "\n",
    "If logging into the Wallaroo instance through the internal JupyterHub service, use `wl = wallaroo.Client()`.  For more information on Wallaroo Client settings, see the [Client Connection guide](https://docs.wallaroo.ai/wallaroo-developer-guides/wallaroo-sdk-guides/wallaroo-sdk-essentials-guide/wallaroo-sdk-essentials-client/)."
   ]
  },
  {
   "cell_type": "code",
   "execution_count": null,
   "id": "7683298b-7e1b-4498-b184-7050a9034414",
   "metadata": {},
   "outputs": [],
   "source": [
    "wl = wallaroo.Client()"
   ]
  },
  {
   "cell_type": "markdown",
   "id": "9d2206be-95e6-4ebc-9a4a-113c6dca0dfd",
   "metadata": {},
   "source": [
    "### Define Schemas and Upload Model\n",
    "\n",
    "The model is uploaded via the Wallaroo SDK method `wallaroo.client.Client.upload_model` which takes the following parameters.\n",
    "\n",
    "| Parameter | Type | Description |\n",
    "|---|---|---|\n",
    "| `name` | `string` (*Required*) | The name of the model.  Model names are unique **per workspace**.  Models that are uploaded with the same name are assigned as a new **version** of the model. |\n",
    "| `path` | `string` (*Required*) | The path to the model file being uploaded. |\n",
    "| `framework` |`string` (*Required*) | The framework of the model from `wallaroo.framework.Framework`.  For vLLMs, this framework is `wallaroo.framework.Framework.VLLM`.|\n",
    "| `input_schema` | `pyarrow.lib.Schema` <ul><li>Native Wallaroo Runtimes: (*Optional*)</li><li>Non-Native Wallaroo Runtimes: (*Required*)</li></ul> | The input schema in Apache Arrow schema format. |\n",
    "| `output_schema` | `pyarrow.lib.Schema` <ul><li>Native Wallaroo Runtimes: (*Optional*)</li><li>Non-Native Wallaroo Runtimes: (*Required*)</li></ul> | The output schema in Apache Arrow schema format. |\n",
    "| `framework_config` | `wallaroo.framework.CustomConfig` (*Optional*) | Sets the vLLM configuration options based on the [Framework Configuration Parameters](#framework-configuration-parameters).  If no options are specified, the default values are applied. |\n",
    "| `convert_wait` | `bool` (*Optional*) | <ul><li>**True**: Waits in the script for the model conversion completion.</li><li>**False**:  Proceeds with the script without waiting for the model conversion process to display complete.</li></ul> |\n",
    "\n",
    "`wallaroo.framework.CustomConfig` contains the following parameters.\n",
    "\n",
    "| Parameters | Type |\n",
    "|---|---|\n",
    "| **max_num_seqs** | *Integer* (*Default: 256*) |\n",
    "| **max_model_len** | *Integer* (*Default: None*) |\n",
    "| **max_seq_len_to_capture** | *Integer* (*Default: 8192*) |\n",
    "| **quantization** | (*Default: None*)  |\n",
    "| **kv_cache_dtype** (*Default: 'auto'*)  |\n",
    "| **gpu_memory_utilization** | **Float** (*Default: 0.9*) |\n",
    "| **block_size** | (*Default: None*) Get data type |\n",
    "| **device_group** | (Default: `None`)  This setting is ignored for CUDA acceleration. |\n",
    "\n",
    "#### Define Input and Output Schemas\n",
    "\n",
    "The input and output schemas are defined in Apache pyarrow format.\n"
   ]
  },
  {
   "cell_type": "code",
   "execution_count": 4,
   "id": "c006df23-acb4-4baa-b0db-129a1e7b9229",
   "metadata": {},
   "outputs": [],
   "source": [
    "input_schema = pa.schema([\n",
    "    pa.field('prompt', pa.string()),\n",
    "    pa.field('max_tokens', pa.int64()),\n",
    "])\n",
    "output_schema = pa.schema([\n",
    "    pa.field('generated_text', pa.string()),\n",
    "    pa.field('num_output_tokens', pa.int64())\n",
    "])"
   ]
  },
  {
   "cell_type": "markdown",
   "id": "0d39d8cc-3d86-4e94-ba07-32004aaae54f",
   "metadata": {},
   "source": [
    "#### Define VLLMConfig\n",
    "\n",
    "We define the `wallaroo.framework.CustomConfig` object and `wallaroo.framework.CustomConfig` contains the following parameters.\n",
    "\n",
    "| Parameters | Type |\n",
    "|---|---|\n",
    "| **max_num_seqs** | *Integer* (*Default: 256*) |\n",
    "| **max_model_len** | *Integer* (*Default: None*) |\n",
    "| **max_seq_len_to_capture** | *Integer* (*Default: 8192*) |\n",
    "| **quantization** | (*Default: None*) |\n",
    "| **kv_cache_dtype** (*Default: 'auto'*) |\n",
    "| **gpu_memory_utilization** | **Float** (*Default: 0.9*) |\n",
    "| **block_size** | (*Default: None*)  |\n",
    "| **device_group** |  (*Default: None*) This setting is ignored for for CUDA acceleration. |\n",
    "\n",
    "For this example, the `VLLMConfig` parameters are set with the following:\n",
    "\n",
    "* `gpu_memory_utilization=0.9` \n",
    "* `max_model_len=128`\n",
    "\n",
    "Other parameters will use the default values."
   ]
  },
  {
   "cell_type": "code",
   "execution_count": null,
   "id": "2734d161",
   "metadata": {},
   "outputs": [],
   "source": [
    "from wallaroo.framework import CustomConfig\n",
    "\n",
    "custom_vllm_config = CustomConfig(\n",
    "        gpu_memory_utilization=0.9, \n",
    "        max_model_len=128\n",
    "    )"
   ]
  },
  {
   "cell_type": "markdown",
   "id": "033e0494",
   "metadata": {},
   "source": [
    "#### Upload model via the Wallaroo SDK\n",
    "\n",
    "With our values set, we upload the model with the `wallaroo.client.Client.upload_model` method with the following parameters:\n",
    "\n",
    "* Model name and path to the Llama V3 Instruct LLM.\n",
    "* `framework_config` set to our defined `VLLMConfig`.\n",
    "* Input and output schemas.\n",
    "* `accel` set to `from wallaroo.engine_config.Acceleration.CUDA`."
   ]
  },
  {
   "cell_type": "code",
   "execution_count": null,
   "id": "730a5fd6-2a75-4fb4-a1df-dd0cbf45a032",
   "metadata": {},
   "outputs": [
    {
     "name": "stdout",
     "output_type": "stream",
     "text": [
      "Waiting for model loading - this will take up to 10min.\n",
      ".odel is pending loading to a container runtime.\n",
      ".............................successfulner runtime.\n",
      "\n",
      "Ready\n"
     ]
    },
    {
     "data": {
      "text/html": [
       "<table>\n",
       "        <tr>\n",
       "          <td>Name</td>\n",
       "          <td>byop-vllm-tinyllama-ynsv5</td>\n",
       "        </tr>\n",
       "        <tr>\n",
       "          <td>Version</td>\n",
       "          <td>4b40ba86-8af1-4945-bde6-137245d5e618</td>\n",
       "        </tr>\n",
       "        <tr>\n",
       "          <td>File Name</td>\n",
       "          <td>byop_tinyllama_vllm_v4.zip</td>\n",
       "        </tr>\n",
       "        <tr>\n",
       "          <td>SHA</td>\n",
       "          <td>5e244d5ab73cf718256d1d08b7c0553102215f69c3d70936b2d4b89043499a2e</td>\n",
       "        </tr>\n",
       "        <tr>\n",
       "          <td>Status</td>\n",
       "          <td>ready</td>\n",
       "        </tr>\n",
       "        <tr>\n",
       "          <td>Image Path</td>\n",
       "          <td>proxy.replicated.com/proxy/wallaroo/ghcr.io/wallaroolabs/mac-deploy:v2025.1.0-main-6132</td>\n",
       "        </tr>\n",
       "        <tr>\n",
       "          <td>Architecture</td>\n",
       "          <td>x86</td>\n",
       "        </tr>\n",
       "        <tr>\n",
       "          <td>Acceleration</td>\n",
       "          <td>cuda</td>\n",
       "        </tr>\n",
       "        <tr>\n",
       "          <td>Updated At</td>\n",
       "          <td>2025-08-May 18:22:35</td>\n",
       "        </tr>\n",
       "        <tr>\n",
       "          <td>Workspace id</td>\n",
       "          <td>60</td>\n",
       "        </tr>\n",
       "        <tr>\n",
       "          <td>Workspace name</td>\n",
       "          <td>younes.amar@wallaroo.ai - Default Workspace</td>\n",
       "        </tr>\n",
       "      </table>"
      ],
      "text/plain": [
       "{'name': 'byop-vllm-tinyllama-ynsv5', 'version': '4b40ba86-8af1-4945-bde6-137245d5e618', 'file_name': 'byop_tinyllama_vllm_v4.zip', 'image_path': 'proxy.replicated.com/proxy/wallaroo/ghcr.io/wallaroolabs/mac-deploy:v2025.1.0-main-6132', 'arch': 'x86', 'accel': 'cuda', 'last_update_time': datetime.datetime(2025, 5, 8, 18, 22, 35, 480335, tzinfo=tzutc())}"
      ]
     },
     "execution_count": 6,
     "metadata": {},
     "output_type": "execute_result"
    }
   ],
   "source": [
    "model = wl.upload_model(\n",
    "    \"byop-vllm-tinyllama-ynsv5\", \n",
    "    \"./byop_tinyllama_vllm_v4.zip\",\n",
    "    framework=Framework.CUSTOM,\n",
    "    framework_config=custom_vllm_config,\n",
    "    input_schema=input_schema, \n",
    "    output_schema=output_schema,\n",
    "    accel=Acceleration.CUDA\n",
    ")\n",
    "model"
   ]
  },
  {
   "cell_type": "markdown",
   "id": "43f7f4f1",
   "metadata": {},
   "source": [
    "### Set Continuous Batching Configuration\n",
    "\n",
    "The model configuration is set either during model upload or post model upload.  We define the continuous batching configuration with the max current batch size set to 256, then apply it to the model configuration.\n",
    "\n",
    "When applying a continuous batch configuration to a model configuration, the input and output schemas **must** be included."
   ]
  },
  {
   "cell_type": "code",
   "execution_count": null,
   "id": "3cd4f16b-b40a-4d2f-bb83-806ff285aaaa",
   "metadata": {},
   "outputs": [],
   "source": [
    "# Define continuous batching for Async vLLM (you can choose the number of connections you want)\n",
    "cbc = ContinuousBatchingConfig(max_concurrent_batch_size = 256)"
   ]
  },
  {
   "cell_type": "code",
   "execution_count": 8,
   "id": "c427430d-58b5-4d26-b930-52a175fb2fcc",
   "metadata": {},
   "outputs": [
    {
     "data": {
      "text/html": [
       "<table>\n",
       "        <tr>\n",
       "          <td>Name</td>\n",
       "          <td>byop-vllm-tinyllama-ynsv5</td>\n",
       "        </tr>\n",
       "        <tr>\n",
       "          <td>Version</td>\n",
       "          <td>4b40ba86-8af1-4945-bde6-137245d5e618</td>\n",
       "        </tr>\n",
       "        <tr>\n",
       "          <td>File Name</td>\n",
       "          <td>byop_tinyllama_vllm_v4.zip</td>\n",
       "        </tr>\n",
       "        <tr>\n",
       "          <td>SHA</td>\n",
       "          <td>5e244d5ab73cf718256d1d08b7c0553102215f69c3d70936b2d4b89043499a2e</td>\n",
       "        </tr>\n",
       "        <tr>\n",
       "          <td>Status</td>\n",
       "          <td>ready</td>\n",
       "        </tr>\n",
       "        <tr>\n",
       "          <td>Image Path</td>\n",
       "          <td>proxy.replicated.com/proxy/wallaroo/ghcr.io/wallaroolabs/mac-deploy:v2025.1.0-main-6132</td>\n",
       "        </tr>\n",
       "        <tr>\n",
       "          <td>Architecture</td>\n",
       "          <td>x86</td>\n",
       "        </tr>\n",
       "        <tr>\n",
       "          <td>Acceleration</td>\n",
       "          <td>cuda</td>\n",
       "        </tr>\n",
       "        <tr>\n",
       "          <td>Updated At</td>\n",
       "          <td>2025-08-May 18:22:35</td>\n",
       "        </tr>\n",
       "        <tr>\n",
       "          <td>Workspace id</td>\n",
       "          <td>60</td>\n",
       "        </tr>\n",
       "        <tr>\n",
       "          <td>Workspace name</td>\n",
       "          <td>younes.amar@wallaroo.ai - Default Workspace</td>\n",
       "        </tr>\n",
       "      </table>"
      ],
      "text/plain": [
       "{'name': 'byop-vllm-tinyllama-ynsv5', 'version': '4b40ba86-8af1-4945-bde6-137245d5e618', 'file_name': 'byop_tinyllama_vllm_v4.zip', 'image_path': 'proxy.replicated.com/proxy/wallaroo/ghcr.io/wallaroolabs/mac-deploy:v2025.1.0-main-6132', 'arch': 'x86', 'accel': 'cuda', 'last_update_time': datetime.datetime(2025, 5, 8, 18, 22, 35, 480335, tzinfo=tzutc())}"
      ]
     },
     "execution_count": 8,
     "metadata": {},
     "output_type": "execute_result"
    }
   ],
   "source": [
    "batch = model.configure(\n",
    "    input_schema = input_schema,\n",
    "    output_schema = output_schema,\n",
    "    continuous_batching_config = cbc\n",
    ")\n",
    "batch"
   ]
  },
  {
   "cell_type": "markdown",
   "id": "1e3496d0",
   "metadata": {},
   "source": [
    "### Deploy Model\n",
    "\n",
    "Models are deployed in Wallaroo via **Wallaroo Pipelines** through the following process.\n",
    "\n",
    "* (Optional): Create a **deployment configuration**.  If no deployment configuration is specified, then the default values are used.  For our deployment, we specify the LLM is assigned the following resources:\n",
    "  * 1 cpu\n",
    "  * 10 Gi RAM\n",
    "  * 1 gpu from the nodepool `\"wallaroo.ai/accelerator:a100\"`.  Wallaroo deployments and pipelines inherit the acceleration settings from the model, so this will be `CUDA`.\n",
    "* Create the Wallaroo pipeline.\n",
    "* Assign the model as a **pipeline step** to processing incoming data and return the inference results.\n",
    "* Deploy the pipeline with the pipeline configuration.\n",
    "\n",
    "#### Define the Deployment Configuration\n",
    "\n",
    "The deployment configuration allocates resources for the LLM's exclusive use.  These resources are used by the LLM until the pipeline is **undeployed** and the resources returned."
   ]
  },
  {
   "cell_type": "code",
   "execution_count": 15,
   "id": "20972f6c-594c-4b3b-b136-bdf25f6e1964",
   "metadata": {},
   "outputs": [],
   "source": [
    "deployment_config = DeploymentConfigBuilder() \\\n",
    "    .cpus(1.).memory('1Gi') \\\n",
    "    .sidekick_cpus(batch, 1.) \\\n",
    "    .sidekick_memory(batch, '10Gi') \\\n",
    "    .sidekick_gpus(batch, 1) \\\n",
    "    .deployment_label(\"wallaroo.ai/accelerator:t4-shared\") \\\n",
    "    .build()"
   ]
  },
  {
   "cell_type": "markdown",
   "id": "6de0fc18",
   "metadata": {},
   "source": [
    "#### Deploy vLLM\n",
    "\n",
    "The next steps we deploy the model by creating the pipeline, adding the vLLM as the pipeline step, and deploying the pipeline with the deployment configuration.\n",
    "\n",
    "Once complete, the model is ready to accept inference requests."
   ]
  },
  {
   "cell_type": "code",
   "execution_count": null,
   "id": "1be23d51-b4c7-45c1-8f03-f6034f4fb0dd",
   "metadata": {},
   "outputs": [],
   "source": [
    "pipeline = wl.build_pipeline(\"byop-tinyllama-cutom-vllm\")\n",
    "pipeline.undeploy()\n",
    "pipeline.clear()\n",
    "\n",
    "pipeline.add_model_step(batch)\n",
    "pipeline.deploy(deployment_config=deployment_config)"
   ]
  },
  {
   "cell_type": "code",
   "execution_count": 17,
   "id": "e7caa327-22e9-4838-b582-0589430b6476",
   "metadata": {},
   "outputs": [
    {
     "data": {
      "text/plain": [
       "{'status': 'Running',\n",
       " 'details': [],\n",
       " 'engines': [{'ip': '10.4.7.8',\n",
       "   'name': 'engine-65bc55d64f-mdrnh',\n",
       "   'status': 'Running',\n",
       "   'reason': None,\n",
       "   'details': [],\n",
       "   'pipeline_statuses': {'pipelines': [{'id': 'byop-tinyllama-cutom-vllm',\n",
       "      'status': 'Running',\n",
       "      'version': '95a07681-e434-4108-8e9c-01c052b7b5ec'}]},\n",
       "   'model_statuses': {'models': [{'model_version_id': 434,\n",
       "      'name': 'byop-vllm-tinyllama-ynsv5',\n",
       "      'sha': '5e244d5ab73cf718256d1d08b7c0553102215f69c3d70936b2d4b89043499a2e',\n",
       "      'status': 'Running',\n",
       "      'version': '4b40ba86-8af1-4945-bde6-137245d5e618'}]}}],\n",
       " 'engine_lbs': [{'ip': '10.4.1.15',\n",
       "   'name': 'engine-lb-5cf49f9d5f-dkvsz',\n",
       "   'status': 'Running',\n",
       "   'reason': None,\n",
       "   'details': []}],\n",
       " 'sidekicks': [{'ip': '10.4.7.9',\n",
       "   'name': 'engine-sidekick-byop-vllm-tinyllama-ynsv5-434-5cc6f466fc-zqzbk',\n",
       "   'status': 'Running',\n",
       "   'reason': None,\n",
       "   'details': [],\n",
       "   'statuses': '\\n'}]}"
      ]
     },
     "execution_count": 17,
     "metadata": {},
     "output_type": "execute_result"
    }
   ],
   "source": [
    "pipeline.status()"
   ]
  },
  {
   "cell_type": "markdown",
   "id": "f3336d28",
   "metadata": {},
   "source": [
    "### Inference\n",
    "\n",
    "Inference requests are submitted to deployed models as either pandas DataFrames or Apache Arrow tables.  The inference data must match the input schemas defined earlier.\n",
    "\n",
    "Our sample inference request submits a pandas DataFrame with a simple prompt and the `max_tokens` field set to 200.  We receive a pandas DataFrame in return with the outputs labeled as `out.{variable_name}`, with `variable_name` matching the output schemas defined at model upload."
   ]
  },
  {
   "cell_type": "code",
   "execution_count": 18,
   "id": "8691aaee-2a24-4ec5-90b0-7f87b13163f1",
   "metadata": {},
   "outputs": [],
   "source": [
    "data = pd.DataFrame({\"prompt\": [\"What is Wallaroo.AI?\"], \"max_tokens\": [200]})"
   ]
  },
  {
   "cell_type": "code",
   "execution_count": 19,
   "id": "4b89b57d-d8a3-47b0-bc7f-e28a551b932b",
   "metadata": {},
   "outputs": [
    {
     "data": {
      "text/html": [
       "<div>\n",
       "<style scoped>\n",
       "    .dataframe tbody tr th:only-of-type {\n",
       "        vertical-align: middle;\n",
       "    }\n",
       "\n",
       "    .dataframe tbody tr th {\n",
       "        vertical-align: top;\n",
       "    }\n",
       "\n",
       "    .dataframe thead th {\n",
       "        text-align: right;\n",
       "    }\n",
       "</style>\n",
       "<table border=\"1\" class=\"dataframe\">\n",
       "  <thead>\n",
       "    <tr style=\"text-align: right;\">\n",
       "      <th></th>\n",
       "      <th>time</th>\n",
       "      <th>in.max_tokens</th>\n",
       "      <th>in.prompt</th>\n",
       "      <th>out.generated_text</th>\n",
       "      <th>out.num_output_tokens</th>\n",
       "      <th>anomaly.count</th>\n",
       "    </tr>\n",
       "  </thead>\n",
       "  <tbody>\n",
       "    <tr>\n",
       "      <th>0</th>\n",
       "      <td>2025-05-08 18:41:35.436</td>\n",
       "      <td>200</td>\n",
       "      <td>What is Wallaroo.AI?</td>\n",
       "      <td>\\n2.2 How does Wallaroo.AI's Asset Composition...</td>\n",
       "      <td>200</td>\n",
       "      <td>0</td>\n",
       "    </tr>\n",
       "  </tbody>\n",
       "</table>\n",
       "</div>"
      ],
      "text/plain": [
       "                     time  in.max_tokens             in.prompt  \\\n",
       "0 2025-05-08 18:41:35.436            200  What is Wallaroo.AI?   \n",
       "\n",
       "                                  out.generated_text  out.num_output_tokens  \\\n",
       "0  \\n2.2 How does Wallaroo.AI's Asset Composition...                    200   \n",
       "\n",
       "   anomaly.count  \n",
       "0              0  "
      ]
     },
     "execution_count": 19,
     "metadata": {},
     "output_type": "execute_result"
    }
   ],
   "source": [
    "pipeline.infer(data, timeout=600)"
   ]
  },
  {
   "cell_type": "markdown",
   "id": "73c94a2a",
   "metadata": {},
   "source": [
    "### Undeploy\n",
    "\n",
    "With the tutorial complete, the pipeline is undeployed to return the resources back to the Wallaroo environment."
   ]
  },
  {
   "cell_type": "code",
   "execution_count": 14,
   "id": "ca5100af-0149-48a9-9501-6359f76988b4",
   "metadata": {},
   "outputs": [
    {
     "name": "stdout",
     "output_type": "stream",
     "text": [
      "Waiting for undeployment - this will take up to 45s ..................................... ok\n"
     ]
    },
    {
     "data": {
      "text/html": [
       "<table><tr><th>name</th> <td>byop-tinyllama-demo-yns-cudafix</td></tr><tr><th>created</th> <td>2025-05-08 18:23:23.012161+00:00</td></tr><tr><th>last_updated</th> <td>2025-05-08 18:23:23.094326+00:00</td></tr><tr><th>deployed</th> <td>False</td></tr><tr><th>workspace_id</th> <td>60</td></tr><tr><th>workspace_name</th> <td>younes.amar@wallaroo.ai - Default Workspace</td></tr><tr><th>arch</th> <td>x86</td></tr><tr><th>accel</th> <td>cuda</td></tr><tr><th>tags</th> <td></td></tr><tr><th>versions</th> <td>2ae66497-d235-44b5-8be5-52a6b83cf945, 2c8d7c28-1702-4e6a-9805-c8f5b918ab36</td></tr><tr><th>steps</th> <td>byop-vllm-tinyllama-ynsv5</td></tr><tr><th>published</th> <td>False</td></tr></table>"
      ],
      "text/plain": [
       "{'name': 'byop-tinyllama-demo-yns-cudafix', 'create_time': datetime.datetime(2025, 5, 8, 18, 23, 23, 12161, tzinfo=tzutc()), 'definition': \"[{'ModelInference': {'models': [{'name': 'byop-vllm-tinyllama-ynsv5', 'version': '4b40ba86-8af1-4945-bde6-137245d5e618', 'sha': '5e244d5ab73cf718256d1d08b7c0553102215f69c3d70936b2d4b89043499a2e'}]}}]\"}"
      ]
     },
     "execution_count": 14,
     "metadata": {},
     "output_type": "execute_result"
    }
   ],
   "source": [
    "pipeline.undeploy()"
   ]
  },
  {
   "cell_type": "markdown",
   "id": "fcbb33b0-396e-4a46-852d-89b802f1c510",
   "metadata": {},
   "source": [
    "This tutorial demonstrates deploying the Llama V3 Instruct LLM with continuous batching in Wallaroo with CUDA AI Acceleration.  For access to these sample models and for a demonstration of how to use Continuous Batching to improve LLM performance:\n",
    "\n",
    "* Contact your Wallaroo Support Representative **OR**\n",
    "* [Schedule Your Wallaroo.AI Demo Today](https://wallaroo.ai/request-a-demo/)"
   ]
  }
 ],
 "metadata": {
  "kernelspec": {
   "display_name": "Python 3 (ipykernel)",
   "language": "python",
   "name": "python3"
  },
  "language_info": {
   "codemirror_mode": {
    "name": "ipython",
    "version": 3
   },
   "file_extension": ".py",
   "mimetype": "text/x-python",
   "name": "python",
   "nbconvert_exporter": "python",
   "pygments_lexer": "ipython3",
   "version": "3.10.16"
  }
 },
 "nbformat": 4,
 "nbformat_minor": 5
}
