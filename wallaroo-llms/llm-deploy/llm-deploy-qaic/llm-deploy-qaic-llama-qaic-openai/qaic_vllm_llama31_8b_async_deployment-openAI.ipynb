{
 "cells": [
  {
   "cell_type": "markdown",
   "id": "76d2f4fa",
   "metadata": {},
   "source": [
    "This tutorial and the assets can be downloaded as part of the [Wallaroo Tutorials repository](https://github.com/WallarooLabs/Wallaroo_Tutorials/blob/wallaroo2025.1.1_tutorials/wallaroo-llms/llm-deploy/llm-deploy-qaic/llm-deploy-qaic-llama-qaic-openai).\n",
    "\n",
    "## Deploy Llama with Continuous Batching Using Native vLLM Framework and QAIC AI Acceleration using OpenAI Compatibility\n",
    "\n",
    "The following tutorial demonstrates deploying the Llama LLM with the following enhancements:\n",
    "\n",
    "* The Wallaroo Native vLLM Framework: Provide performance optimizations with framework configuration options.\n",
    "* Continuous Batching: Configurable batch sizes balance latency and throughput use.\n",
    "* QAIC AI Acceleration:  x86 compatible architecture at low power with AI acceleration.\n",
    "* OpenAI API compatibility:  The LLM accepts inference requests using the OpenAI `completion` and `chat/completion` endpoints, compatible with OpenAI API clients.\n",
    "\n",
    "For access to these sample models and for a demonstration of how to use a LLM deployment with QAIC acceleration, OpenAI API compatibility, continuous batching, and other features:\n",
    "\n",
    "* Contact your Wallaroo Support Representative **OR**\n",
    "* [Schedule Your Wallaroo.AI Demo Today](https://wallaroo.ai/request-a-demo/)\n",
    "\n",
    "### Tutorial Goals\n",
    "\n",
    "This tutorial demonstrates the following procedure:\n",
    "\n",
    "* Upload a Llama LLM with:\n",
    "  * The Wallaroo Native vLLM runtime\n",
    "  * QAIC AI Acceleration enabled\n",
    "  * Framework configuration options to enhance performance\n",
    "* After upload, set the LLM configuration options:\n",
    "  * Configure continuous batching and settings.\n",
    "  * Enable OpenAI API compatibility and set inference options.\n",
    "* Set a deployment configuration to allocate hardware resources and deploy the LLM.\n",
    "* Publish the model and deployment configuration to an Open Container Initiative (OCI) registry for deployment in edge environments with QAIC AI accelerators installed.\n",
    "* Perform sample inferences via OpenAI API inference methods with and without token streaming.\n",
    "\n",
    "\n",
    "## Prerequisites\n",
    "\n",
    "* Wallaroo 2025.1 and above.\n",
    "* A cluster with [Qualcomm Cloud AI](https://www.qualcomm.com/products/technology/processors/cloud-artificial-intelligence) hardware.\n",
    "\n",
    "## Tutorial Steps\n",
    "\n",
    "### Import libraries\n",
    "\n",
    "The first step is to import the Python libraries required, mainly the Wallaroo SDK.\n"
   ]
  },
  {
   "cell_type": "markdown",
   "id": "80fd9d7f",
   "metadata": {},
   "source": [
    "## Imports"
   ]
  },
  {
   "cell_type": "code",
   "execution_count": 1,
   "id": "42912a45",
   "metadata": {},
   "outputs": [],
   "source": [
    "import base64\n",
    "\n",
    "import wallaroo\n",
    "from wallaroo.deployment_config import DeploymentConfigBuilder\n",
    "from wallaroo.framework import Framework\n",
    "from wallaroo.engine_config import Acceleration\n",
    "from wallaroo.object import EntityNotFoundError\n",
    "from wallaroo.engine_config import QaicConfig\n",
    "from wallaroo.framework import VLLMConfig\n",
    "import pyarrow as pa\n",
    "import pandas as pd\n",
    "from wallaroo.openai_config import OpenaiConfig\n",
    "from wallaroo.continuous_batching_config import ContinuousBatchingConfig"
   ]
  },
  {
   "cell_type": "markdown",
   "id": "a64073a9",
   "metadata": {},
   "source": [
    "### Connect to the Wallaroo Instance\n",
    "\n",
    "Next connect to Wallaroo through the Wallaroo client.  The Python library is included in the Wallaroo install and available through the Jupyter Hub interface provided with your Wallaroo environment.\n",
    "\n",
    "This is accomplished using the `wallaroo.Client()` command, which provides a URL to grant the SDK permission to your specific Wallaroo environment.  When displayed, enter the URL into a browser and confirm permissions.  Store the connection into a variable that can be referenced later.\n",
    "\n",
    "If logging into the Wallaroo instance through the internal JupyterHub service, use `wl = wallaroo.Client()`.  For more information on Wallaroo Client settings, see the [Client Connection guide](https://docs.wallaroo.ai/wallaroo-developer-guides/wallaroo-sdk-guides/wallaroo-sdk-essentials-guide/wallaroo-sdk-essentials-client/)."
   ]
  },
  {
   "cell_type": "code",
   "execution_count": 2,
   "id": "7a073475",
   "metadata": {},
   "outputs": [],
   "source": [
    "wl = wallaroo.Client()"
   ]
  },
  {
   "cell_type": "markdown",
   "id": "6a0e60d6",
   "metadata": {},
   "source": [
    "### LLM Upload\n",
    "\n",
    "Uploading the LLM takes the following steps:\n",
    "\n",
    "* Define Schemas:  The input and output schemas are defined in Apache PyArrow format.  For this tutorial, they are converted to base64 strings used for uploading through the Wallaroo MLOps API.\n",
    "* Upload the model via either the Wallaroo SDK or the Wallaroo MLOps API."
   ]
  },
  {
   "cell_type": "markdown",
   "id": "feac3a5d",
   "metadata": {},
   "source": [
    "#### Upload LLM\n",
    "\n",
    "LLM uploads to Wallaroo are either via the Wallaroo SDK or the Wallaroo MLOps API.\n",
    "\n",
    "The following demonstrates uploading the LLM via the SDK.  In this example the QAIC acceleration configuration is defined.  This is an **optional** step that fine tunes the QAIC AI Acceleration hardware performance to best fit the LLM."
   ]
  },
  {
   "cell_type": "code",
   "execution_count": 3,
   "id": "911786c7",
   "metadata": {},
   "outputs": [],
   "source": [
    "qaic_config = QaicConfig(\n",
    "    num_devices=4, \n",
    "    full_batch_size=16, \n",
    "    ctx_len=256, \n",
    "    prefill_seq_len=128, \n",
    "    mxfp6_matmul=True, \n",
    "    mxint8_kv_cache=True\n",
    ")"
   ]
  },
  {
   "cell_type": "markdown",
   "id": "7eeec9cb",
   "metadata": {},
   "source": [
    "LLMs are uploaded with the Wallaroo SDK method `wallaroo.client.Client.upload_model`.  This this step, the following options are configured:\n",
    "\n",
    "* The model name and file path.\n",
    "* The framework, in this case the native vLLM runtime.\n",
    "* The optional framework configuration, which sets specific options for the LLM's performance.\n",
    "* The input and output schemas.  For OpenAI compatibility, these are ignored so are set as empty sets.\n",
    "* The hardware acceleration set to `wallaroo.engine_config.Acceleration.QAIC.with_config`.  The addition `with_config` accepts the hardware configuration options."
   ]
  },
  {
   "cell_type": "code",
   "execution_count": 4,
   "id": "02d31eb8",
   "metadata": {},
   "outputs": [
    {
     "name": "stdout",
     "output_type": "stream",
     "text": [
      "Waiting for model loading - this will take up to 10min.\n",
      "\n",
      "Model is pending loading to a container runtime..\n",
      "Model is attempting loading to a container runtime..................................................................................................................................................................................................................................\n",
      "Successful\n",
      "Ready\n"
     ]
    }
   ],
   "source": [
    "model = wl.upload_model(\n",
    "    \"llama-qaic-openai\", \n",
    "    \"llama-31-8b.zip\", \n",
    "    framework=Framework.VLLM,\n",
    "    framework_config=VLLMConfig(\n",
    "        max_num_seqs=16,\n",
    "        max_model_len=256,\n",
    "        max_seq_len_to_capture=128, \n",
    "        quantization=\"mxfp6\",\n",
    "        kv_cache_dtype=\"mxint8\", \n",
    "        gpu_memory_utilization=1\n",
    "    ),\n",
    "    input_schema=pa.schema([]),\n",
    "    output_schema=pa.schema([]), \n",
    "    accel=Acceleration.QAIC.with_config(qaic_config)\n",
    ")"
   ]
  },
  {
   "cell_type": "markdown",
   "id": "8c3c98bf",
   "metadata": {},
   "source": [
    "The other upload option is the Wallaroo MLOps API endpoint `v1/api/models/upload_and_convert`.  For this option, the base64 converted input and output schemas are used, and the `framework_config` and `accel` options are specified in `dict` format.  Otherwise, the same parameters are set:\n",
    "\n",
    "* The model name and file path.\n",
    "* The `conversion` parameter which defines:\n",
    "  * The framework as native vLLM\n",
    "  * The optional framework configuration, which sets specific options for the LLM's performance.\n",
    "* The input and output schemas set as base64 strings.\n",
    "* The `accel` parameter which specifies the AI accelerator as `qaic` with the additional hardware configuration options."
   ]
  },
  {
   "cell_type": "markdown",
   "id": "ec78ba15",
   "metadata": {},
   "source": [
    "The other upload option is the Wallaroo MLOps API endpoint `v1/api/models/upload_and_convert`.  For this option, the base64 converted input and output schemas are used, and the `framework_config` and `accel` options are specified in `dict` format.  Otherwise, the same parameters are set:\n",
    "\n",
    "* The model name and file path.\n",
    "* The `conversion` parameter which defines:\n",
    "  * The framework as native vLLM\n",
    "  * The optional framework configuration, which sets specific options for the LLM's performance.\n",
    "* The input and output schemas set as base64 strings.\n",
    "* The `accel` parameter which specifies the AI accelerator as `qaic` with the additional hardware configuration options."
   ]
  },
  {
   "cell_type": "markdown",
   "id": "e9acbe26",
   "metadata": {},
   "source": [
    "```bash\n",
    "curl --progress-bar -X POST \\\n",
    "    -H \"Content-Type: multipart/form-data\" \\\n",
    "    -H \"Authorization: Bearer \"abc123\" \\\n",
    "    -F \\'metadata={\"name\": \"llama-qaic-openai\", \"visibility\": \"private\", \"workspace_id\": 6, \"conversion\": {\"arch\": \"x86\", \"accel\": {\"qaic\": {\"aic_enable_depth_first\": false, \"ctx_len\": 256, \"full_batch_size\": 16, \"mxfp6_matmul\": true, \"mxint8_kv_cache\": true, \"num_cores\": 16, \"num_devices\": 4, \"prefill_seq_len\": 128}}, \"framework\": \"vllm\", \"framework_config\": {\"config\": {\"gpu_memory_utilization\": 0.9, \"kv_cache_dtype\": \"auto\", \"max_num_seqs\": 256, \"max_seq_len_to_capture\": 8192, \"quantization\": \"none\"}, \"framework\": \"vllm\"}, \"python_version\": \"3.8\", \"requirements\": []}, \"input_schema\": \"/////zAAAAAQAAAAAAAKAAwABgAFAAgACgAAAAABBAAMAAAACAAIAAAABAAIAAAABAAAAAAAAAA=\", \"output_schema\": \"/////zAAAAAQAAAAAAAKAAwABgAFAAgACgAAAAABBAAMAAAACAAIAAAABAAIAAAABAAAAAAAAAA=\"};type=application/json\\' \\\n",
    "    -F \"file=@llama-31-8b.zip;type=application/octet-stream\" \\\n",
    "    https://doc-test.wallaroocommunity.ninja/v1/api/models/upload_and_convert | cat\n",
    "```"
   ]
  },
  {
   "cell_type": "markdown",
   "id": "d28e4a60",
   "metadata": {},
   "source": [
    "When the llm is uploaded, we retrieve it via the `wallaroo.client.Client.get_model` for use in later steps."
   ]
  },
  {
   "cell_type": "code",
   "execution_count": 6,
   "id": "639c1bd5",
   "metadata": {},
   "outputs": [
    {
     "data": {
      "text/html": [
       "<table>\n",
       "        <tr>\n",
       "          <td>Name</td>\n",
       "          <td>llama-qaic-openai</td>\n",
       "        </tr>\n",
       "        <tr>\n",
       "          <td>Version</td>\n",
       "          <td>0c97b5ba-daac-4688-8d8e-fc1f0bcd9b9d</td>\n",
       "        </tr>\n",
       "        <tr>\n",
       "          <td>File Name</td>\n",
       "          <td>llama-31-8b.zip</td>\n",
       "        </tr>\n",
       "        <tr>\n",
       "          <td>SHA</td>\n",
       "          <td>62c338e77c031d7c071fe25e1d202fcd1ded052377a007ebd18cb63eadddf838</td>\n",
       "        </tr>\n",
       "        <tr>\n",
       "          <td>Status</td>\n",
       "          <td>ready</td>\n",
       "        </tr>\n",
       "        <tr>\n",
       "          <td>Image Path</td>\n",
       "          <td>proxy.replicated.com/proxy/wallaroo/ghcr.io/wallaroolabs/mac-deploy-qaic-vllm:v2025.1.0-6231</td>\n",
       "        </tr>\n",
       "        <tr>\n",
       "          <td>Architecture</td>\n",
       "          <td>x86</td>\n",
       "        </tr>\n",
       "        <tr>\n",
       "          <td>Acceleration</td>\n",
       "          <td>{'qaic': {'ctx_len': 1024, 'num_cores': 16, 'num_devices': 4, 'mxfp6_matmul': True, 'full_batch_size': 16, 'mxint8_kv_cache': True, 'prefill_seq_len': 128, 'aic_enable_depth_first': False}}</td>\n",
       "        </tr>\n",
       "        <tr>\n",
       "          <td>Updated At</td>\n",
       "          <td>2025-02-Jul 17:54:00</td>\n",
       "        </tr>\n",
       "        <tr>\n",
       "          <td>Workspace id</td>\n",
       "          <td>9</td>\n",
       "        </tr>\n",
       "        <tr>\n",
       "          <td>Workspace name</td>\n",
       "          <td>younes@wallaroo.ai - Default Workspace</td>\n",
       "        </tr>\n",
       "      </table>"
      ],
      "text/plain": [
       "{'name': 'llama-qaic-openai', 'version': '0c97b5ba-daac-4688-8d8e-fc1f0bcd9b9d', 'file_name': 'llama-31-8b.zip', 'image_path': 'proxy.replicated.com/proxy/wallaroo/ghcr.io/wallaroolabs/mac-deploy-qaic-vllm:v2025.1.0-6231', 'arch': 'x86', 'accel': {'qaic': {'ctx_len': 1024, 'num_cores': 16, 'num_devices': 4, 'mxfp6_matmul': True, 'full_batch_size': 16, 'mxint8_kv_cache': True, 'prefill_seq_len': 128, 'aic_enable_depth_first': False}}, 'last_update_time': datetime.datetime(2025, 7, 2, 17, 54, 0, 554706, tzinfo=tzutc())}"
      ]
     },
     "execution_count": 6,
     "metadata": {},
     "output_type": "execute_result"
    }
   ],
   "source": [
    "model = wl.get_model(\"llama-qaic-openai\")\n",
    "model"
   ]
  },
  {
   "cell_type": "markdown",
   "id": "dbedf645",
   "metadata": {},
   "source": [
    "#### Configure Continuous Batching\n",
    "\n",
    "Continuous batching options are applied for the model configuration with the `model.Model.configure` parameter.  This method required both the input and output schemas, and the `wallaroo.continuous_batching_config.ContinuousBatchingConfig` settings."
   ]
  },
  {
   "cell_type": "code",
   "execution_count": null,
   "id": "802c5eee",
   "metadata": {},
   "outputs": [],
   "source": [
    "from wallaroo.continuous_batching_config import ContinuousBatchingConfig\n",
    "cbc = ContinuousBatchingConfig(max_concurrent_batch_size = 100)"
   ]
  },
  {
   "cell_type": "markdown",
   "id": "39f42e5f",
   "metadata": {},
   "source": [
    "#### Configure OpenAI Compatibility\n",
    "\n",
    "OpenAI compatibility options are set through the `wallaroo.openai_config.OpenaiConfig` object, with the most important being:\n",
    "\n",
    "* `enabled`:  Enables OpenAI compatibility\n",
    "* `completion_config`:  Sets the OpenAI `completion` endpoint options **except** `stream`; the `stream` option is only provided at inference.\n",
    "* `chat_completion_config`: Sets the OpenAI `chat/completion` endpoint options **except** `stream`; the `stream` option is only provided at inference.\n"
   ]
  },
  {
   "cell_type": "code",
   "execution_count": null,
   "id": "05eec8ee",
   "metadata": {},
   "outputs": [],
   "source": [
    "openai_config = OpenaiConfig(\n",
    "    enabled=True,\n",
    "    completion_config={\n",
    "        \"temperature\": .3,\n",
    "        \"max_tokens\": 200\n",
    "    },\n",
    "    chat_completion_config={\n",
    "        \"temperature\": .3,\n",
    "        \"max_tokens\": 200,\n",
    "        \"chat_template\": \"\"\"\n",
    "        {% for message in messages %}\n",
    "            {% if message['role'] == 'user' %}\n",
    "                {{ '<|user|>\\n' + message['content'] + eos_token }}\n",
    "            {% elif message['role'] == 'system' %}\n",
    "                {{ '<|system|>\\n' + message['content'] + eos_token }}\n",
    "            {% elif message['role'] == 'assistant' %}\n",
    "                {{ '<|assistant|>\\n'  + message['content'] + eos_token }}\n",
    "            {% endif %}\n",
    "            \n",
    "            {% if loop.last and add_generation_prompt %}\n",
    "                {{ '<|assistant|>' }}\n",
    "            {% endif %}\n",
    "        {% endfor %}\"\"\"\n",
    "    })"
   ]
  },
  {
   "cell_type": "markdown",
   "id": "7ce0cb5e",
   "metadata": {},
   "source": [
    "#### Set LLM Configuration\n",
    "\n",
    "Both the continuous deployment and OpenAI API compatibility are set through the LLM's `configure` method."
   ]
  },
  {
   "cell_type": "code",
   "execution_count": null,
   "id": "94feb0d4",
   "metadata": {},
   "outputs": [
    {
     "data": {
      "text/html": [
       "<table>\n",
       "        <tr>\n",
       "          <td>Name</td>\n",
       "          <td>llama-qaic-openai</td>\n",
       "        </tr>\n",
       "        <tr>\n",
       "          <td>Version</td>\n",
       "          <td>0c97b5ba-daac-4688-8d8e-fc1f0bcd9b9d</td>\n",
       "        </tr>\n",
       "        <tr>\n",
       "          <td>File Name</td>\n",
       "          <td>llama-31-8b.zip</td>\n",
       "        </tr>\n",
       "        <tr>\n",
       "          <td>SHA</td>\n",
       "          <td>62c338e77c031d7c071fe25e1d202fcd1ded052377a007ebd18cb63eadddf838</td>\n",
       "        </tr>\n",
       "        <tr>\n",
       "          <td>Status</td>\n",
       "          <td>ready</td>\n",
       "        </tr>\n",
       "        <tr>\n",
       "          <td>Image Path</td>\n",
       "          <td>proxy.replicated.com/proxy/wallaroo/ghcr.io/wallaroolabs/mac-deploy-qaic-vllm:v2025.1.0-6231</td>\n",
       "        </tr>\n",
       "        <tr>\n",
       "          <td>Architecture</td>\n",
       "          <td>x86</td>\n",
       "        </tr>\n",
       "        <tr>\n",
       "          <td>Acceleration</td>\n",
       "          <td>{'qaic': {'ctx_len': 1024, 'num_cores': 16, 'num_devices': 4, 'mxfp6_matmul': True, 'full_batch_size': 16, 'mxint8_kv_cache': True, 'prefill_seq_len': 128, 'aic_enable_depth_first': False}}</td>\n",
       "        </tr>\n",
       "        <tr>\n",
       "          <td>Updated At</td>\n",
       "          <td>2025-02-Jul 17:54:00</td>\n",
       "        </tr>\n",
       "        <tr>\n",
       "          <td>Workspace id</td>\n",
       "          <td>9</td>\n",
       "        </tr>\n",
       "        <tr>\n",
       "          <td>Workspace name</td>\n",
       "          <td>younes@wallaroo.ai - Default Workspace</td>\n",
       "        </tr>\n",
       "      </table>"
      ],
      "text/plain": [
       "{'name': 'llama-qaic-openai', 'version': '0c97b5ba-daac-4688-8d8e-fc1f0bcd9b9d', 'file_name': 'llama-31-8b.zip', 'image_path': 'proxy.replicated.com/proxy/wallaroo/ghcr.io/wallaroolabs/mac-deploy-qaic-vllm:v2025.1.0-6231', 'arch': 'x86', 'accel': {'qaic': {'ctx_len': 1024, 'num_cores': 16, 'num_devices': 4, 'mxfp6_matmul': True, 'full_batch_size': 16, 'mxint8_kv_cache': True, 'prefill_seq_len': 128, 'aic_enable_depth_first': False}}, 'last_update_time': datetime.datetime(2025, 7, 2, 17, 54, 0, 554706, tzinfo=tzutc())}"
      ]
     },
     "execution_count": 5,
     "metadata": {},
     "output_type": "execute_result"
    }
   ],
   "source": [
    "model = model.configure(openai_config=openai_config, continuous_batching_config = cbc)\n",
    "model"
   ]
  },
  {
   "cell_type": "markdown",
   "id": "8b6ed833",
   "metadata": {},
   "source": [
    "### Deploy the LLM\n",
    "\n",
    "Deploying the LLM takes the following steps:\n",
    "\n",
    "* Set the deployment configuration.\n",
    "* Deploy the LLM with the deployment configuration."
   ]
  },
  {
   "cell_type": "markdown",
   "id": "5c5f431a",
   "metadata": {},
   "source": [
    "#### Set the Deployment Configuration\n",
    "\n",
    "The deployment configuration determines what hardware resources allocated for the LLMs exclusive use.  The LLM options are set via the `sidekick` options.\n",
    "\n",
    "For this example, the deployment hardware includes a Qualcomm AI 100 and allocates the following resources:\n",
    "\n",
    "* Cpus: 4 \n",
    "* RAM:  12 Gi\n",
    "* gpus: 4\n",
    "  * For Wallaroo deployment configurations for QAIC, the `gpu` parameter specifies the number of System-on-Chips (SoCs) allocated.\n",
    "* Deployment label:  Specifies the node with the gpus."
   ]
  },
  {
   "cell_type": "code",
   "execution_count": 7,
   "id": "e4ab19c8",
   "metadata": {},
   "outputs": [],
   "source": [
    "deployment_config = DeploymentConfigBuilder() \\\n",
    "    .cpus(1).memory('1Gi') \\\n",
    "    .sidekick_cpus(model, 4) \\\n",
    "    .sidekick_memory(model, '12Gi') \\\n",
    "    .sidekick_gpus(model, 4) \\\n",
    "    .deployment_label(\"kubernetes.io/os:linux\") \\\n",
    "    .build()"
   ]
  },
  {
   "cell_type": "markdown",
   "id": "fb3ca88d",
   "metadata": {},
   "source": [
    "The LLm is applied to a Wallaroo pipeline as a pipeline step.  Once set, the pipeline is deployed with the deployment configuration.  When the deployment is complete, the LLM is ready for inference requests."
   ]
  },
  {
   "cell_type": "code",
   "execution_count": null,
   "id": "fa848a5f",
   "metadata": {},
   "outputs": [],
   "source": [
    "pipeline = wl.build_pipeline(\"llamaqaicopenaiedge\")\n",
    "pipeline.clear()\n",
    "pipeline.undeploy()\n",
    "pipeline.add_model_step(model)\n",
    "pipeline.deploy(deployment_config=deployment_config)"
   ]
  },
  {
   "cell_type": "markdown",
   "id": "f6e926f1",
   "metadata": {},
   "source": [
    "### Inference Examples\n",
    "\n",
    "LLMs deployed in Wallaroo accept pandas DataFrames as inference inputs.  These examples use the OpenAI API inference via the Wallaroo SDK and API clients.\n",
    "\n",
    "Inference requests via OpenAI compatible methods **override** the OpenAI configurations applied at the LLM level.  This provides additional optimizations and flexibility as needed."
   ]
  },
  {
   "cell_type": "markdown",
   "id": "97882a5a",
   "metadata": {},
   "source": [
    "<details>\n",
    "<summary><h4> OpenAI Inference via the Wallaroo SDK</h4></summary>\n",
    "\n",
    "Inference requests with OpenAI compatible enabled models in Wallaroo via the Wallaroo SDK use the following methods:\n",
    "\n",
    "* `wallaroo.pipeline.Pipeline.openai_chat_completion`:  Submits an inference request using the OpenAI API `chat/completion` endpoint parameters.\n",
    "* `wallaroo.pipeline.Pipeline.openai_completion`: Submits an inference request using the OpenAI API `completion` endpoint parameters.\n",
    "\n",
    "Each example demonstrates using these methods with and without token streaming.\n",
    "\n",
    "The following demonstrates performing an inference with `openai_chat_completion`.  Note that the same parameters passed match the ones used for the OpenAI `chat/completion` endpoint."
   ]
  },
  {
   "cell_type": "code",
   "execution_count": 11,
   "id": "60c573f7",
   "metadata": {},
   "outputs": [
    {
     "data": {
      "text/plain": [
       "'Hello! How can I assist you today?'"
      ]
     },
     "execution_count": 11,
     "metadata": {},
     "output_type": "execute_result"
    }
   ],
   "source": [
    "# Performing completions\n",
    "\n",
    "pipeline.openai_chat_completion(messages=[{\"role\": \"user\", \"content\": \"good morning\"}]).choices[0].message.content"
   ]
  },
  {
   "cell_type": "markdown",
   "id": "5e912396",
   "metadata": {},
   "source": [
    "This example uses the `openai_completion` method."
   ]
  },
  {
   "cell_type": "code",
   "execution_count": 12,
   "id": "bf898bb7",
   "metadata": {},
   "outputs": [
    {
     "data": {
      "text/plain": [
       "'\\nWallaroo.ai is a cloud-based platform that provides a suite of artificial intelligence (AI) and machine learning (ML) tools for data scientists, developers, and business users. The platform is designed to simplify the process of building, deploying, and managing AI and ML models, making it easier for organizations to leverage the power of AI to drive business outcomes.\\nKey Features of Wallaroo.ai:\\n1. Model Development: Wallaroo.ai provides a range of tools and libraries for building, training, and deploying AI and ML models, including support for popular frameworks like TensorFlow, PyTorch, and scikit-learn.\\n2. Model Serving: The platform offers a scalable and secure model serving layer that allows users to deploy and manage AI and ML models in production environments.\\n3. Data Integration: Wallaroo.ai provides seamless integration with various data sources, including relational databases, NoSQL databases, cloud storage, and streaming data sources.\\n4. Model Monitoring: The platform offers real-time monitoring and analytics capabilities'"
      ]
     },
     "execution_count": 12,
     "metadata": {},
     "output_type": "execute_result"
    }
   ],
   "source": [
    "pipeline.openai_completion(prompt=\"tell me about wallaroo.AI\", max_tokens=200).choices[0].text"
   ]
  },
  {
   "cell_type": "markdown",
   "id": "6ea305c7",
   "metadata": {},
   "source": [
    "The following examples show the same methods, with token streaming enabled."
   ]
  },
  {
   "cell_type": "code",
   "execution_count": 13,
   "id": "0d16b2f8-bb08-41ac-b3b2-bef08b64a76b",
   "metadata": {},
   "outputs": [
    {
     "name": "stdout",
     "output_type": "stream",
     "text": [
      "I'm happy to help you with your short story about love. What kind of love are you writing about? Is it romantic love, familial love, or something else?"
     ]
    }
   ],
   "source": [
    "# Now with streaming\n",
    "\n",
    "for chunk in pipeline.openai_chat_completion(messages=[{\"role\": \"user\", \"content\": \"this is a short story about love\"}], max_tokens=100, stream=True):\n",
    "    print(chunk.choices[0].delta.content, end=\"\", flush=True)"
   ]
  },
  {
   "cell_type": "code",
   "execution_count": 19,
   "id": "3bab4434",
   "metadata": {},
   "outputs": [
    {
     "name": "stdout",
     "output_type": "stream",
     "text": [
      "\n",
      "Wallaroo.ai is an AI platform that enables developers to build, deploy, and manage AI-powered applications with ease. Here's a brief overview of what it offers:\n",
      "Key Features of Wallaroo.ai:\n",
      "1. **Model Serving**: Wallaroo.ai provides a scalable and secure model serving platform that allows developers to deploy and manage AI models in production environments.\n",
      "2. **Model Management**: The platform offers a centralized model management system that enables developers to manage multiple models, track performance, and monitor metrics.\n",
      "3. **Auto-Scaling**: Wallaroo.ai's auto-scaling feature ensures that AI models can handle 맞 variable workloads, ensuring high performance and availability.\n",
      "4. **Security**: The platform provides robust security features, including encryption, access control, and auditing, to protect sensitive data and models.\n",
      "5. **Integration**: Wallaroo.ai supports integration with popular AI frameworks, such as TensorFlow, PyTorch, and scikit-learn, making it easy to deploy and manage AI models.\n",
      "6"
     ]
    }
   ],
   "source": [
    "# Now with streaming\n",
    "\n",
    "for chunk in pipeline.openai_completion(prompt=\"tell me about wallaroo.AI\", max_tokens=200, stream=True):\n",
    "    print(chunk.choices[0].text, end=\"\", flush=True)"
   ]
  },
  {
   "cell_type": "markdown",
   "id": "f59db6df",
   "metadata": {},
   "source": [
    "</details>\n",
    "\n",
    "<details>\n",
    "<summary><h4> OpenAI Inference via the OpenAI API Requests</h4></summary>\n",
    "\n",
    "Inference requests via the OpenAI API Client use the pipeline's **deployment inference endpoint** with the OpenAI API endpoints extensions.  For deployments with OpenAI compatibility enabled, the following additional endpoints are provided:\n",
    "\n",
    "* `{Deployment inference endpoint}/openai/v1/completions`:  Compatible with the OpenAI API endpoint `completion`.\n",
    "* `{Deployment inference endpoint}/openai/v1/chat/completions`:  Compatible with the OpenAI API endpoint `chat/completion`.\n",
    "\n",
    "These requests require the following:\n",
    "\n",
    "* A Wallaroo pipeline deployed with Wallaroo native vLLM runtime or Wallaroo Custom Models with OpenAI compatibility enabled.\n",
    "* Authentication to the Wallaroo MLOps API.  For more details, see the [Wallaroo API Connection Guide]({{<ref \"wallaroo-mlops-connection-guide\">}}).\n",
    "* Access to the deployed pipeline's OpenAPI API endpoints.\n",
    "\n",
    "The first example shows retrieving the authentication token to the Wallaroo instance."
   ]
  },
  {
   "cell_type": "code",
   "execution_count": 48,
   "id": "26a8355b-451a-4770-af61-7efecadf8b5f",
   "metadata": {},
   "outputs": [
    {
     "data": {
      "text/plain": [
       "'eyJhbGciOiJSUzI1NiIsInR5cCIgOiAiSldUIiwia2lkIiA6ICJPUXEwVDNzVnRJRV9YV3JNRjZRM0x1YVAtTjI2NmNiNG1nd19IT2FuWnBrIn0.eyJleHAiOjE3NTAxMjgyMzUsImlhdCI6MTc1MDEyNDYzNSwiYXV0aF90aW1lIjoxNzUwMTE2MDg2LCJqdGkiOiIzOGIwNDA5Mi02MTVlLTQ5NTEtODEyMC0xNGQwOGFlMGUwYzAiLCJpc3MiOiJodHRwczovL3FhaWMtcG9jLnBvdi53YWxsYXJvby5pby9hdXRoL3JlYWxtcy9tYXN0ZXIiLCJhdWQiOlsibWFzdGVyLXJlYWxtIiwiYWNjb3VudCJdLCJzdWIiOiJiM2JlMjEyZS04OTk3LTQ4YTUtYjVmZi0yNzhiMDBhODk5MDMiLCJ0eXAiOiJCZWFyZXIiLCJhenAiOiJzZGstY2xpZW50Iiwic2Vzc2lvbl9zdGF0ZSI6IjliMTg0MTA5LWM2MTMtNGUzYy1hYjRmLWRiYTA3NjFjNTgzZCIsImFjciI6IjAiLCJyZWFsbV9hY2Nlc3MiOnsicm9sZXMiOlsiY3JlYXRlLXJlYWxtIiwiZGVmYXVsdC1yb2xlcy1tYXN0ZXIiLCJvZmZsaW5lX2FjY2VzcyIsImFkbWluIiwidW1hX2F1dGhvcml6YXRpb24iXX0sInJlc291cmNlX2FjY2VzcyI6eyJtYXN0ZXItcmVhbG0iOnsicm9sZXMiOlsidmlldy1pZGVudGl0eS1wcm92aWRlcnMiLCJ2aWV3LXJlYWxtIiwibWFuYWdlLWlkZW50aXR5LXByb3ZpZGVycyIsImltcGVyc29uYXRpb24iLCJjcmVhdGUtY2xpZW50IiwibWFuYWdlLXVzZXJzIiwicXVlcnktcmVhbG1zIiwidmlldy1hdXRob3JpemF0aW9uIiwicXVlcnktY2xpZW50cyIsInF1ZXJ5LXVzZXJzIiwibWFuYWdlLWV2ZW50cyIsIm1hbmFnZS1yZWFsbSIsInZpZXctZXZlbnRzIiwidmlldy11c2VycyIsInZpZXctY2xpZW50cyIsIm1hbmFnZS1hdXRob3JpemF0aW9uIiwibWFuYWdlLWNsaWVudHMiLCJxdWVyeS1ncm91cHMiXX0sImFjY291bnQiOnsicm9sZXMiOlsibWFuYWdlLWFjY291bnQiLCJtYW5hZ2UtYWNjb3VudC1saW5rcyIsInZpZXctcHJvZmlsZSJdfX0sInNjb3BlIjoib3BlbmlkIHByb2ZpbGUgZW1haWwiLCJzaWQiOiI5YjE4NDEwOS1jNjEzLTRlM2MtYWI0Zi1kYmEwNzYxYzU4M2QiLCJlbWFpbF92ZXJpZmllZCI6dHJ1ZSwiaHR0cHM6Ly9oYXN1cmEuaW8vand0L2NsYWltcyI6eyJ4LWhhc3VyYS11c2VyLWlkIjoiYjNiZTIxMmUtODk5Ny00OGE1LWI1ZmYtMjc4YjAwYTg5OTAzIiwieC1oYXN1cmEtdXNlci1lbWFpbCI6InlvdW5lcy5hbWFyQHdhbGxhcm9vLmFpIiwieC1oYXN1cmEtZGVmYXVsdC1yb2xlIjoiYWRtaW5fdXNlciIsIngtaGFzdXJhLWFsbG93ZWQtcm9sZXMiOlsidXNlciIsImFkbWluX3VzZXIiXSwieC1oYXN1cmEtdXNlci1ncm91cHMiOiJ7fSJ9LCJwcmVmZXJyZWRfdXNlcm5hbWUiOiJ5b3VuZXNAd2FsbGFyb28uYWkiLCJlbWFpbCI6InlvdW5lcy5hbWFyQHdhbGxhcm9vLmFpIn0.SdU5iYhouVzT3SuPfKNDwnNubgpVMeS2CVwX9h1rSiqscmUzhAbVOsT81lPhwAIvk7N9uV9AF0PgQrKJrm1SzgXtrdSjrbc-Ha6IBdKnwOe4I8daEMNSxA_xyDdWjXJa8SnHLQ_7sJ6Rn6nEtIQWfGrUSPx_K9Rq5q1QflHxzxRJSbuUvL9wmYk3cnSM6UMK4EKTsaEpKMUFphRQjkuNw1TZCveBjBcSQNrrH_yHq-VmaDTG7v6SJT8PT79eYSbKVnciCZvLDaigqa0ODSzcB27kbgOGSmdWH6XEH49NoxDB3m-WLMkmNbuB9_i3QjxyxbGEiN3axxffpzBeVeLSHg'"
      ]
     },
     "execution_count": 48,
     "metadata": {},
     "output_type": "execute_result"
    }
   ],
   "source": [
    "token = wl.auth.auth_header()['Authorization'].split()[1]\n",
    "token"
   ]
  },
  {
   "cell_type": "markdown",
   "id": "aaa40122",
   "metadata": {},
   "source": [
    "This example performs an inference request **with token streaming enabled** on the `completions` endpoint."
   ]
  },
  {
   "cell_type": "code",
   "execution_count": null,
   "id": "9eb0b4fd-1a6d-4c92-b702-713fb105ece7",
   "metadata": {},
   "outputs": [
    {
     "name": "stdout",
     "output_type": "stream",
     "text": [
      "data: {\"id\":\"cmpl-5a1adc32e65849f2aee5edf2e37fdb7a\",\"created\":1750125678,\"model\":\"llama-31-8b.zip\",\"choices\":[{\"text\":\" about\",\"index\":0,\"logprobs\":null,\"finish_reason\":null,\"stop_reason\":null}],\"usage\":{\"prompt_tokens\":6,\"completion_tokens\":1,\"total_tokens\":7,\"ttft\":0.091563446,\"tps\":10.921388869527693}}\n",
      "\n",
      "data: {\"id\":\"cmpl-5a1adc32e65849f2aee5edf2e37fdb7a\",\"created\":1750125678,\"model\":\"llama-31-8b.zip\",\"choices\":[{\"text\":\" a\",\"index\":0,\"logprobs\":null,\"finish_reason\":null,\"stop_reason\":null}],\"usage\":{\"prompt_tokens\":6,\"completion_tokens\":2,\"total_tokens\":8,\"ttft\":0.091563446,\"tps\":16.38253480899562}}\n",
      "\n",
      "data: {\"id\":\"cmpl-5a1adc32e65849f2aee5edf2e37fdb7a\",\"created\":1750125678,\"model\":\"llama-31-8b.zip\",\"choices\":[{\"text\":\" character\",\"index\":0,\"logprobs\":null,\"finish_reason\":null,\"stop_reason\":null}],\"usage\":{\"prompt_tokens\":6,\"completion_tokens\":3,\"total_tokens\":9,\"ttft\":0.091563446,\"tps\":16.485729285058817}}\n",
      "\n",
      "data: {\"id\":\"cmpl-5a1adc32e65849f2aee5edf2e37fdb7a\",\"created\":1750125678,\"model\":\"llama-31-8b.zip\",\"choices\":[{\"text\":\" who\",\"index\":0,\"logprobs\":null,\"finish_reason\":null,\"stop_reason\":null}],\"usage\":{\"prompt_tokens\":6,\"completion_tokens\":4,\"total_tokens\":10,\"ttft\":0.091563446,\"tps\":14.331374762275633}}\n",
      "\n",
      "data: {\"id\":\"cmpl-5a1adc32e65849f2aee5edf2e37fdb7a\",\"created\":1750125678,\"model\":\"llama-31-8b.zip\",\"choices\":[{\"text\":\" has\",\"index\":0,\"logprobs\":null,\"finish_reason\":null,\"stop_reason\":null}],\"usage\":{\"prompt_tokens\":6,\"completion_tokens\":5,\"total_tokens\":11,\"ttft\":0.091563446,\"tps\":13.179256091301921}}\n",
      "\n",
      "data: {\"id\":\"cmpl-5a1adc32e65849f2aee5edf2e37fdb7a\",\"created\":1750125678,\"model\":\"llama-31-8b.zip\",\"choices\":[{\"text\":\" a\",\"index\":0,\"logprobs\":null,\"finish_reason\":null,\"stop_reason\":null}],\"usage\":{\"prompt_tokens\":6,\"completion_tokens\":6,\"total_tokens\":12,\"ttft\":0.091563446,\"tps\":12.525407188305717}}\n",
      "\n",
      "data: {\"id\":\"cmpl-5a1adc32e65849f2aee5edf2e37fdb7a\",\"created\":1750125678,\"model\":\"llama-31-8b.zip\",\"choices\":[{\"text\":\" very\",\"index\":0,\"logprobs\":null,\"finish_reason\":null,\"stop_reason\":null}],\"usage\":{\"prompt_tokens\":6,\"completion_tokens\":7,\"total_tokens\":13,\"ttft\":0.091563446,\"tps\":12.086098937800418}}\n",
      "\n",
      "data: {\"id\":\"cmpl-5a1adc32e65849f2aee5edf2e37fdb7a\",\"created\":1750125678,\"model\":\"llama-31-8b.zip\",\"choices\":[{\"text\":\" unique\",\"index\":0,\"logprobs\":null,\"finish_reason\":null,\"stop_reason\":null}],\"usage\":{\"prompt_tokens\":6,\"completion_tokens\":8,\"total_tokens\":14,\"ttft\":0.091563446,\"tps\":11.762296064649203}}\n",
      "\n",
      "data: {\"id\":\"cmpl-5a1adc32e65849f2aee5edf2e37fdb7a\",\"created\":1750125678,\"model\":\"llama-31-8b.zip\",\"choices\":[{\"text\":\" ability\",\"index\":0,\"logprobs\":null,\"finish_reason\":null,\"stop_reason\":null}],\"usage\":{\"prompt_tokens\":6,\"completion_tokens\":9,\"total_tokens\":15,\"ttft\":0.091563446,\"tps\":10.241512771029303}}\n",
      "\n",
      "data: {\"id\":\"cmpl-5a1adc32e65849f2aee5edf2e37fdb7a\",\"created\":1750125678,\"model\":\"llama-31-8b.zip\",\"choices\":[{\"text\":\"\\n\",\"index\":0,\"logprobs\":null,\"finish_reason\":null,\"stop_reason\":null}],\"usage\":{\"prompt_tokens\":6,\"completion_tokens\":10,\"total_tokens\":16,\"ttft\":0.091563446,\"tps\":10.21265671070236}}\n",
      "\n",
      "data: {\"id\":\"cmpl-5a1adc32e65849f2aee5edf2e37fdb7a\",\"created\":1750125678,\"model\":\"llama-31-8b.zip\",\"choices\":[{\"text\":\"Once\",\"index\":0,\"logprobs\":null,\"finish_reason\":null,\"stop_reason\":null}],\"usage\":{\"prompt_tokens\":6,\"completion_tokens\":11,\"total_tokens\":17,\"ttft\":0.091563446,\"tps\":10.192309543494822}}\n",
      "\n",
      "data: {\"id\":\"cmpl-5a1adc32e65849f2aee5edf2e37fdb7a\",\"created\":1750125678,\"model\":\"llama-31-8b.zip\",\"choices\":[{\"text\":\" upon\",\"index\":0,\"logprobs\":null,\"finish_reason\":null,\"stop_reason\":null}],\"usage\":{\"prompt_tokens\":6,\"completion_tokens\":12,\"total_tokens\":18,\"ttft\":0.091563446,\"tps\":10.159864769422889}}\n",
      "\n",
      "data: {\"id\":\"cmpl-5a1adc32e65849f2aee5edf2e37fdb7a\",\"created\":1750125678,\"model\":\"llama-31-8b.zip\",\"choices\":[{\"text\":\" a\",\"index\":0,\"logprobs\":null,\"finish_reason\":null,\"stop_reason\":null}],\"usage\":{\"prompt_tokens\":6,\"completion_tokens\":13,\"total_tokens\":19,\"ttft\":0.091563446,\"tps\":10.162826968749329}}\n",
      "\n",
      "data: {\"id\":\"cmpl-5a1adc32e65849f2aee5edf2e37fdb7a\",\"created\":1750125678,\"model\":\"llama-31-8b.zip\",\"choices\":[{\"text\":\" time\",\"index\":0,\"logprobs\":null,\"finish_reason\":null,\"stop_reason\":null}],\"usage\":{\"prompt_tokens\":6,\"completion_tokens\":14,\"total_tokens\":20,\"ttft\":0.091563446,\"tps\":10.150396555185099}}\n",
      "\n",
      "data: {\"id\":\"cmpl-5a1adc32e65849f2aee5edf2e37fdb7a\",\"created\":1750125678,\"model\":\"llama-31-8b.zip\",\"choices\":[{\"text\":\",\",\"index\":0,\"logprobs\":null,\"finish_reason\":null,\"stop_reason\":null}],\"usage\":{\"prompt_tokens\":6,\"completion_tokens\":15,\"total_tokens\":21,\"ttft\":0.091563446,\"tps\":10.140283240460091}}\n",
      "\n",
      "data: {\"id\":\"cmpl-5a1adc32e65849f2aee5edf2e37fdb7a\",\"created\":1750125678,\"model\":\"llama-31-8b.zip\",\"choices\":[{\"text\":\" in\",\"index\":0,\"logprobs\":null,\"finish_reason\":null,\"stop_reason\":null}],\"usage\":{\"prompt_tokens\":6,\"completion_tokens\":16,\"total_tokens\":22,\"ttft\":0.091563446,\"tps\":10.131495072503364}}\n",
      "\n",
      "data: {\"id\":\"cmpl-5a1adc32e65849f2aee5edf2e37fdb7a\",\"created\":1750125678,\"model\":\"llama-31-8b.zip\",\"choices\":[{\"text\":\" a\",\"index\":0,\"logprobs\":null,\"finish_reason\":null,\"stop_reason\":null}],\"usage\":{\"prompt_tokens\":6,\"completion_tokens\":17,\"total_tokens\":23,\"ttft\":0.091563446,\"tps\":10.114091924714756}}\n",
      "\n",
      "data: {\"id\":\"cmpl-5a1adc32e65849f2aee5edf2e37fdb7a\",\"created\":1750125678,\"model\":\"llama-31-8b.zip\",\"choices\":[{\"text\":\" small\",\"index\":0,\"logprobs\":null,\"finish_reason\":null,\"stop_reason\":null}],\"usage\":{\"prompt_tokens\":6,\"completion_tokens\":18,\"total_tokens\":24,\"ttft\":0.091563446,\"tps\":10.105650329825183}}\n",
      "\n",
      "data: {\"id\":\"cmpl-5a1adc32e65849f2aee5edf2e37fdb7a\",\"created\":1750125678,\"model\":\"llama-31-8b.zip\",\"choices\":[{\"text\":\" village\",\"index\":0,\"logprobs\":null,\"finish_reason\":null,\"stop_reason\":null}],\"usage\":{\"prompt_tokens\":6,\"completion_tokens\":19,\"total_tokens\":25,\"ttft\":0.091563446,\"tps\":10.110320803474941}}\n",
      "\n",
      "data: {\"id\":\"cmpl-5a1adc32e65849f2aee5edf2e37fdb7a\",\"created\":1750125678,\"model\":\"llama-31-8b.zip\",\"choices\":[{\"text\":\" nestled\",\"index\":0,\"logprobs\":null,\"finish_reason\":null,\"stop_reason\":null}],\"usage\":{\"prompt_tokens\":6,\"completion_tokens\":20,\"total_tokens\":26,\"ttft\":0.091563446,\"tps\":10.097113074323097}}\n",
      "\n",
      "data: {\"id\":\"cmpl-5a1adc32e65849f2aee5edf2e37fdb7a\",\"created\":1750125678,\"model\":\"llama-31-8b.zip\",\"choices\":[{\"text\":\" in\",\"index\":0,\"logprobs\":null,\"finish_reason\":null,\"stop_reason\":null}],\"usage\":{\"prompt_tokens\":6,\"completion_tokens\":21,\"total_tokens\":27,\"ttft\":0.091563446,\"tps\":10.100305834230568}}\n",
      "\n",
      "data: {\"id\":\"cmpl-5a1adc32e65849f2aee5edf2e37fdb7a\",\"created\":1750125678,\"model\":\"llama-31-8b.zip\",\"choices\":[{\"text\":\" the\",\"index\":0,\"logprobs\":null,\"finish_reason\":null,\"stop_reason\":null}],\"usage\":{\"prompt_tokens\":6,\"completion_tokens\":22,\"total_tokens\":28,\"ttft\":0.091563446,\"tps\":10.096131282315339}}\n",
      "\n",
      "data: {\"id\":\"cmpl-5a1adc32e65849f2aee5edf2e37fdb7a\",\"created\":1750125678,\"model\":\"llama-31-8b.zip\",\"choices\":[{\"text\":\" rolling\",\"index\":0,\"logprobs\":null,\"finish_reason\":null,\"stop_reason\":null}],\"usage\":{\"prompt_tokens\":6,\"completion_tokens\":23,\"total_tokens\":29,\"ttft\":0.091563446,\"tps\":10.092349353849862}}\n",
      "\n",
      "data: {\"id\":\"cmpl-5a1adc32e65849f2aee5edf2e37fdb7a\",\"created\":1750125678,\"model\":\"llama-31-8b.zip\",\"choices\":[{\"text\":\" hills\",\"index\":0,\"logprobs\":null,\"finish_reason\":null,\"stop_reason\":null}],\"usage\":{\"prompt_tokens\":6,\"completion_tokens\":24,\"total_tokens\":30,\"ttft\":0.091563446,\"tps\":10.088190248778089}}\n",
      "\n",
      "data: {\"id\":\"cmpl-5a1adc32e65849f2aee5edf2e37fdb7a\",\"created\":1750125678,\"model\":\"llama-31-8b.zip\",\"choices\":[{\"text\":\" of\",\"index\":0,\"logprobs\":null,\"finish_reason\":null,\"stop_reason\":null}],\"usage\":{\"prompt_tokens\":6,\"completion_tokens\":25,\"total_tokens\":31,\"ttft\":0.091563446,\"tps\":10.084475342617147}}\n",
      "\n",
      "data: {\"id\":\"cmpl-5a1adc32e65849f2aee5edf2e37fdb7a\",\"created\":1750125678,\"model\":\"llama-31-8b.zip\",\"choices\":[{\"text\":\" rural\",\"index\":0,\"logprobs\":null,\"finish_reason\":null,\"stop_reason\":null}],\"usage\":{\"prompt_tokens\":6,\"completion_tokens\":26,\"total_tokens\":32,\"ttft\":0.091563446,\"tps\":10.075802736433166}}\n",
      "\n",
      "data: {\"id\":\"cmpl-5a1adc32e65849f2aee5edf2e37fdb7a\",\"created\":1750125678,\"model\":\"llama-31-8b.zip\",\"choices\":[{\"text\":\" Japan\",\"index\":0,\"logprobs\":null,\"finish_reason\":null,\"stop_reason\":null}],\"usage\":{\"prompt_tokens\":6,\"completion_tokens\":27,\"total_tokens\":33,\"ttft\":0.091563446,\"tps\":10.3439149477432}}\n",
      "\n",
      "data: {\"id\":\"cmpl-5a1adc32e65849f2aee5edf2e37fdb7a\",\"created\":1750125678,\"model\":\"llama-31-8b.zip\",\"choices\":[{\"text\":\",\",\"index\":0,\"logprobs\":null,\"finish_reason\":null,\"stop_reason\":null}],\"usage\":{\"prompt_tokens\":6,\"completion_tokens\":28,\"total_tokens\":34,\"ttft\":0.091563446,\"tps\":10.45202411836668}}\n",
      "\n",
      "data: {\"id\":\"cmpl-5a1adc32e65849f2aee5edf2e37fdb7a\",\"created\":1750125678,\"model\":\"llama-31-8b.zip\",\"choices\":[{\"text\":\" there\",\"index\":0,\"logprobs\":null,\"finish_reason\":null,\"stop_reason\":null}],\"usage\":{\"prompt_tokens\":6,\"completion_tokens\":29,\"total_tokens\":35,\"ttft\":0.091563446,\"tps\":10.434109597050568}}\n",
      "\n",
      "data: {\"id\":\"cmpl-5a1adc32e65849f2aee5edf2e37fdb7a\",\"created\":1750125678,\"model\":\"llama-31-8b.zip\",\"choices\":[{\"text\":\" lived\",\"index\":0,\"logprobs\":null,\"finish_reason\":null,\"stop_reason\":null}],\"usage\":{\"prompt_tokens\":6,\"completion_tokens\":30,\"total_tokens\":36,\"ttft\":0.091563446,\"tps\":10.420343785279822}}\n",
      "\n",
      "data: {\"id\":\"cmpl-5a1adc32e65849f2aee5edf2e37fdb7a\",\"created\":1750125678,\"model\":\"llama-31-8b.zip\",\"choices\":[{\"text\":\" a\",\"index\":0,\"logprobs\":null,\"finish_reason\":null,\"stop_reason\":null}],\"usage\":{\"prompt_tokens\":6,\"completion_tokens\":31,\"total_tokens\":37,\"ttft\":0.091563446,\"tps\":10.4061959914232}}\n",
      "\n",
      "data: {\"id\":\"cmpl-5a1adc32e65849f2aee5edf2e37fdb7a\",\"created\":1750125678,\"model\":\"llama-31-8b.zip\",\"choices\":[{\"text\":\" young\",\"index\":0,\"logprobs\":null,\"finish_reason\":null,\"stop_reason\":null}],\"usage\":{\"prompt_tokens\":6,\"completion_tokens\":32,\"total_tokens\":38,\"ttft\":0.091563446,\"tps\":10.392855049079623}}\n",
      "\n",
      "data: {\"id\":\"cmpl-5a1adc32e65849f2aee5edf2e37fdb7a\",\"created\":1750125678,\"model\":\"llama-31-8b.zip\",\"choices\":[{\"text\":\" woman\",\"index\":0,\"logprobs\":null,\"finish_reason\":null,\"stop_reason\":null}],\"usage\":{\"prompt_tokens\":6,\"completion_tokens\":33,\"total_tokens\":39,\"ttft\":0.091563446,\"tps\":10.380747706760713}}\n",
      "\n",
      "data: {\"id\":\"cmpl-5a1adc32e65849f2aee5edf2e37fdb7a\",\"created\":1750125678,\"model\":\"llama-31-8b.zip\",\"choices\":[{\"text\":\" named\",\"index\":0,\"logprobs\":null,\"finish_reason\":null,\"stop_reason\":null}],\"usage\":{\"prompt_tokens\":6,\"completion_tokens\":34,\"total_tokens\":40,\"ttft\":0.091563446,\"tps\":10.36932306015667}}\n",
      "\n",
      "data: {\"id\":\"cmpl-5a1adc32e65849f2aee5edf2e37fdb7a\",\"created\":1750125678,\"model\":\"llama-31-8b.zip\",\"choices\":[{\"text\":\" K\",\"index\":0,\"logprobs\":null,\"finish_reason\":null,\"stop_reason\":null}],\"usage\":{\"prompt_tokens\":6,\"completion_tokens\":35,\"total_tokens\":41,\"ttft\":0.091563446,\"tps\":10.35840106759861}}\n",
      "\n",
      "data: {\"id\":\"cmpl-5a1adc32e65849f2aee5edf2e37fdb7a\",\"created\":1750125678,\"model\":\"llama-31-8b.zip\",\"choices\":[{\"text\":\"ait\",\"index\":0,\"logprobs\":null,\"finish_reason\":null,\"stop_reason\":null}],\"usage\":{\"prompt_tokens\":6,\"completion_tokens\":36,\"total_tokens\":42,\"ttft\":0.091563446,\"tps\":10.347960068344275}}\n",
      "\n",
      "data: {\"id\":\"cmpl-5a1adc32e65849f2aee5edf2e37fdb7a\",\"created\":1750125678,\"model\":\"llama-31-8b.zip\",\"choices\":[{\"text\":\"o\",\"index\":0,\"logprobs\":null,\"finish_reason\":null,\"stop_reason\":null}],\"usage\":{\"prompt_tokens\":6,\"completion_tokens\":37,\"total_tokens\":43,\"ttft\":0.091563446,\"tps\":10.338302644054458}}\n",
      "\n",
      "data: {\"id\":\"cmpl-5a1adc32e65849f2aee5edf2e37fdb7a\",\"created\":1750125678,\"model\":\"llama-31-8b.zip\",\"choices\":[{\"text\":\".\",\"index\":0,\"logprobs\":null,\"finish_reason\":null,\"stop_reason\":null}],\"usage\":{\"prompt_tokens\":6,\"completion_tokens\":38,\"total_tokens\":44,\"ttft\":0.091563446,\"tps\":10.329113260399945}}\n",
      "\n",
      "data: {\"id\":\"cmpl-5a1adc32e65849f2aee5edf2e37fdb7a\",\"created\":1750125678,\"model\":\"llama-31-8b.zip\",\"choices\":[{\"text\":\" K\",\"index\":0,\"logprobs\":null,\"finish_reason\":null,\"stop_reason\":null}],\"usage\":{\"prompt_tokens\":6,\"completion_tokens\":39,\"total_tokens\":45,\"ttft\":0.091563446,\"tps\":10.320314080881092}}\n",
      "\n",
      "data: {\"id\":\"cmpl-5a1adc32e65849f2aee5edf2e37fdb7a\",\"created\":1750125678,\"model\":\"llama-31-8b.zip\",\"choices\":[{\"text\":\"ait\",\"index\":0,\"logprobs\":null,\"finish_reason\":null,\"stop_reason\":null}],\"usage\":{\"prompt_tokens\":6,\"completion_tokens\":40,\"total_tokens\":46,\"ttft\":0.091563446,\"tps\":10.311847433022619}}\n",
      "\n",
      "data: {\"id\":\"cmpl-5a1adc32e65849f2aee5edf2e37fdb7a\",\"created\":1750125678,\"model\":\"llama-31-8b.zip\",\"choices\":[{\"text\":\"o\",\"index\":0,\"logprobs\":null,\"finish_reason\":null,\"stop_reason\":null}],\"usage\":{\"prompt_tokens\":6,\"completion_tokens\":41,\"total_tokens\":47,\"ttft\":0.091563446,\"tps\":10.304148102499823}}\n",
      "\n",
      "data: {\"id\":\"cmpl-5a1adc32e65849f2aee5edf2e37fdb7a\",\"created\":1750125678,\"model\":\"llama-31-8b.zip\",\"choices\":[{\"text\":\" was\",\"index\":0,\"logprobs\":null,\"finish_reason\":null,\"stop_reason\":null}],\"usage\":{\"prompt_tokens\":6,\"completion_tokens\":42,\"total_tokens\":48,\"ttft\":0.091563446,\"tps\":10.296677103190625}}\n",
      "\n",
      "data: {\"id\":\"cmpl-5a1adc32e65849f2aee5edf2e37fdb7a\",\"created\":1750125678,\"model\":\"llama-31-8b.zip\",\"choices\":[{\"text\":\" a\",\"index\":0,\"logprobs\":null,\"finish_reason\":null,\"stop_reason\":null}],\"usage\":{\"prompt_tokens\":6,\"completion_tokens\":43,\"total_tokens\":49,\"ttft\":0.091563446,\"tps\":10.289625449605333}}\n",
      "\n",
      "data: {\"id\":\"cmpl-5a1adc32e65849f2aee5edf2e37fdb7a\",\"created\":1750125678,\"model\":\"llama-31-8b.zip\",\"choices\":[{\"text\":\" quiet\",\"index\":0,\"logprobs\":null,\"finish_reason\":null,\"stop_reason\":null}],\"usage\":{\"prompt_tokens\":6,\"completion_tokens\":44,\"total_tokens\":50,\"ttft\":0.091563446,\"tps\":10.282843013869607}}\n",
      "\n",
      "data: {\"id\":\"cmpl-5a1adc32e65849f2aee5edf2e37fdb7a\",\"created\":1750125678,\"model\":\"llama-31-8b.zip\",\"choices\":[{\"text\":\" and\",\"index\":0,\"logprobs\":null,\"finish_reason\":null,\"stop_reason\":null}],\"usage\":{\"prompt_tokens\":6,\"completion_tokens\":45,\"total_tokens\":51,\"ttft\":0.091563446,\"tps\":10.276344305580942}}\n",
      "\n",
      "data: {\"id\":\"cmpl-5a1adc32e65849f2aee5edf2e37fdb7a\",\"created\":1750125678,\"model\":\"llama-31-8b.zip\",\"choices\":[{\"text\":\" reserved\",\"index\":0,\"logprobs\":null,\"finish_reason\":null,\"stop_reason\":null}],\"usage\":{\"prompt_tokens\":6,\"completion_tokens\":46,\"total_tokens\":52,\"ttft\":0.091563446,\"tps\":10.270294765224998}}\n",
      "\n",
      "data: {\"id\":\"cmpl-5a1adc32e65849f2aee5edf2e37fdb7a\",\"created\":1750125678,\"model\":\"llama-31-8b.zip\",\"choices\":[{\"text\":\" person\",\"index\":0,\"logprobs\":null,\"finish_reason\":null,\"stop_reason\":null}],\"usage\":{\"prompt_tokens\":6,\"completion_tokens\":47,\"total_tokens\":53,\"ttft\":0.091563446,\"tps\":10.26422349308703}}\n",
      "\n",
      "data: {\"id\":\"cmpl-5a1adc32e65849f2aee5edf2e37fdb7a\",\"created\":1750125678,\"model\":\"llama-31-8b.zip\",\"choices\":[{\"text\":\",\",\"index\":0,\"logprobs\":null,\"finish_reason\":null,\"stop_reason\":null}],\"usage\":{\"prompt_tokens\":6,\"completion_tokens\":48,\"total_tokens\":54,\"ttft\":0.091563446,\"tps\":10.258657555637154}}\n",
      "\n",
      "data: {\"id\":\"cmpl-5a1adc32e65849f2aee5edf2e37fdb7a\",\"created\":1750125678,\"model\":\"llama-31-8b.zip\",\"choices\":[{\"text\":\" but\",\"index\":0,\"logprobs\":null,\"finish_reason\":null,\"stop_reason\":null}],\"usage\":{\"prompt_tokens\":6,\"completion_tokens\":49,\"total_tokens\":55,\"ttft\":0.091563446,\"tps\":10.253237251301671}}\n",
      "\n",
      "data: {\"id\":\"cmpl-5a1adc32e65849f2aee5edf2e37fdb7a\",\"created\":1750125678,\"model\":\"llama-31-8b.zip\",\"choices\":[{\"text\":\" she\",\"index\":0,\"logprobs\":null,\"finish_reason\":null,\"stop_reason\":null}],\"usage\":{\"prompt_tokens\":6,\"completion_tokens\":50,\"total_tokens\":56,\"ttft\":0.091563446,\"tps\":10.248211918117468}}\n",
      "\n",
      "data: {\"id\":\"cmpl-5a1adc32e65849f2aee5edf2e37fdb7a\",\"created\":1750125678,\"model\":\"llama-31-8b.zip\",\"choices\":[{\"text\":\" possessed\",\"index\":0,\"logprobs\":null,\"finish_reason\":null,\"stop_reason\":null}],\"usage\":{\"prompt_tokens\":6,\"completion_tokens\":51,\"total_tokens\":57,\"ttft\":0.091563446,\"tps\":10.243288835161032}}\n",
      "\n",
      "data: {\"id\":\"cmpl-5a1adc32e65849f2aee5edf2e37fdb7a\",\"created\":1750125678,\"model\":\"llama-31-8b.zip\",\"choices\":[{\"text\":\" a\",\"index\":0,\"logprobs\":null,\"finish_reason\":null,\"stop_reason\":null}],\"usage\":{\"prompt_tokens\":6,\"completion_tokens\":52,\"total_tokens\":58,\"ttft\":0.091563446,\"tps\":10.238545791303398}}\n",
      "\n",
      "data: {\"id\":\"cmpl-5a1adc32e65849f2aee5edf2e37fdb7a\",\"created\":1750125678,\"model\":\"llama-31-8b.zip\",\"choices\":[{\"text\":\" unique\",\"index\":0,\"logprobs\":null,\"finish_reason\":null,\"stop_reason\":null}],\"usage\":{\"prompt_tokens\":6,\"completion_tokens\":53,\"total_tokens\":59,\"ttft\":0.091563446,\"tps\":10.233474765026271}}\n",
      "\n",
      "data: {\"id\":\"cmpl-5a1adc32e65849f2aee5edf2e37fdb7a\",\"created\":1750125678,\"model\":\"llama-31-8b.zip\",\"choices\":[{\"text\":\" ability\",\"index\":0,\"logprobs\":null,\"finish_reason\":null,\"stop_reason\":null}],\"usage\":{\"prompt_tokens\":6,\"completion_tokens\":54,\"total_tokens\":60,\"ttft\":0.091563446,\"tps\":10.22929048000566}}\n",
      "\n",
      "data: {\"id\":\"cmpl-5a1adc32e65849f2aee5edf2e37fdb7a\",\"created\":1750125678,\"model\":\"llama-31-8b.zip\",\"choices\":[{\"text\":\" that\",\"index\":0,\"logprobs\":null,\"finish_reason\":null,\"stop_reason\":null}],\"usage\":{\"prompt_tokens\":6,\"completion_tokens\":55,\"total_tokens\":61,\"ttft\":0.091563446,\"tps\":10.224500057909523}}\n",
      "\n",
      "data: {\"id\":\"cmpl-5a1adc32e65849f2aee5edf2e37fdb7a\",\"created\":1750125678,\"model\":\"llama-31-8b.zip\",\"choices\":[{\"text\":\" set\",\"index\":0,\"logprobs\":null,\"finish_reason\":null,\"stop_reason\":null}],\"usage\":{\"prompt_tokens\":6,\"completion_tokens\":56,\"total_tokens\":62,\"ttft\":0.091563446,\"tps\":10.216876630496404}}\n",
      "\n",
      "data: {\"id\":\"cmpl-5a1adc32e65849f2aee5edf2e37fdb7a\",\"created\":1750125678,\"model\":\"llama-31-8b.zip\",\"choices\":[{\"text\":\" her\",\"index\":0,\"logprobs\":null,\"finish_reason\":null,\"stop_reason\":null}],\"usage\":{\"prompt_tokens\":6,\"completion_tokens\":57,\"total_tokens\":63,\"ttft\":0.091563446,\"tps\":10.216920061496051}}\n",
      "\n",
      "data: {\"id\":\"cmpl-5a1adc32e65849f2aee5edf2e37fdb7a\",\"created\":1750125678,\"model\":\"llama-31-8b.zip\",\"choices\":[{\"text\":\" apart\",\"index\":0,\"logprobs\":null,\"finish_reason\":null,\"stop_reason\":null}],\"usage\":{\"prompt_tokens\":6,\"completion_tokens\":58,\"total_tokens\":64,\"ttft\":0.091563446,\"tps\":10.213043312232308}}\n",
      "\n",
      "data: {\"id\":\"cmpl-5a1adc32e65849f2aee5edf2e37fdb7a\",\"created\":1750125678,\"model\":\"llama-31-8b.zip\",\"choices\":[{\"text\":\" from\",\"index\":0,\"logprobs\":null,\"finish_reason\":null,\"stop_reason\":null}],\"usage\":{\"prompt_tokens\":6,\"completion_tokens\":59,\"total_tokens\":65,\"ttft\":0.091563446,\"tps\":10.209329150145042}}\n",
      "\n",
      "data: {\"id\":\"cmpl-5a1adc32e65849f2aee5edf2e37fdb7a\",\"created\":1750125678,\"model\":\"llama-31-8b.zip\",\"choices\":[{\"text\":\" the\",\"index\":0,\"logprobs\":null,\"finish_reason\":null,\"stop_reason\":null}],\"usage\":{\"prompt_tokens\":6,\"completion_tokens\":60,\"total_tokens\":66,\"ttft\":0.091563446,\"tps\":10.205723764848837}}\n",
      "\n",
      "data: {\"id\":\"cmpl-5a1adc32e65849f2aee5edf2e37fdb7a\",\"created\":1750125678,\"model\":\"llama-31-8b.zip\",\"choices\":[{\"text\":\" rest\",\"index\":0,\"logprobs\":null,\"finish_reason\":null,\"stop_reason\":null}],\"usage\":{\"prompt_tokens\":6,\"completion_tokens\":61,\"total_tokens\":67,\"ttft\":0.091563446,\"tps\":10.202302035790696}}\n",
      "\n",
      "data: {\"id\":\"cmpl-5a1adc32e65849f2aee5edf2e37fdb7a\",\"created\":1750125678,\"model\":\"llama-31-8b.zip\",\"choices\":[{\"text\":\" of\",\"index\":0,\"logprobs\":null,\"finish_reason\":null,\"stop_reason\":null}],\"usage\":{\"prompt_tokens\":6,\"completion_tokens\":62,\"total_tokens\":68,\"ttft\":0.091563446,\"tps\":10.199039931306636}}\n",
      "\n",
      "data: {\"id\":\"cmpl-5a1adc32e65849f2aee5edf2e37fdb7a\",\"created\":1750125678,\"model\":\"llama-31-8b.zip\",\"choices\":[{\"text\":\" the\",\"index\":0,\"logprobs\":null,\"finish_reason\":null,\"stop_reason\":null}],\"usage\":{\"prompt_tokens\":6,\"completion_tokens\":63,\"total_tokens\":69,\"ttft\":0.091563446,\"tps\":10.195746990961478}}\n",
      "\n",
      "data: {\"id\":\"cmpl-5a1adc32e65849f2aee5edf2e37fdb7a\",\"created\":1750125678,\"model\":\"llama-31-8b.zip\",\"choices\":[{\"text\":\" villagers\",\"index\":0,\"logprobs\":null,\"finish_reason\":null,\"stop_reason\":null}],\"usage\":{\"prompt_tokens\":6,\"completion_tokens\":64,\"total_tokens\":70,\"ttft\":0.091563446,\"tps\":10.192638182904167}}\n",
      "\n",
      "data: {\"id\":\"cmpl-5a1adc32e65849f2aee5edf2e37fdb7a\",\"created\":1750125678,\"model\":\"llama-31-8b.zip\",\"choices\":[{\"text\":\".\",\"index\":0,\"logprobs\":null,\"finish_reason\":null,\"stop_reason\":null}],\"usage\":{\"prompt_tokens\":6,\"completion_tokens\":65,\"total_tokens\":71,\"ttft\":0.091563446,\"tps\":10.189756615260029}}\n",
      "\n",
      "data: {\"id\":\"cmpl-5a1adc32e65849f2aee5edf2e37fdb7a\",\"created\":1750125678,\"model\":\"llama-31-8b.zip\",\"choices\":[{\"text\":\" K\",\"index\":0,\"logprobs\":null,\"finish_reason\":null,\"stop_reason\":null}],\"usage\":{\"prompt_tokens\":6,\"completion_tokens\":66,\"total_tokens\":72,\"ttft\":0.091563446,\"tps\":10.1869396088505}}\n",
      "\n",
      "data: {\"id\":\"cmpl-5a1adc32e65849f2aee5edf2e37fdb7a\",\"created\":1750125678,\"model\":\"llama-31-8b.zip\",\"choices\":[{\"text\":\"ait\",\"index\":0,\"logprobs\":null,\"finish_reason\":null,\"stop_reason\":null}],\"usage\":{\"prompt_tokens\":6,\"completion_tokens\":67,\"total_tokens\":73,\"ttft\":0.091563446,\"tps\":10.183862324691116}}\n",
      "\n",
      "data: {\"id\":\"cmpl-5a1adc32e65849f2aee5edf2e37fdb7a\",\"created\":1750125678,\"model\":\"llama-31-8b.zip\",\"choices\":[{\"text\":\"o\",\"index\":0,\"logprobs\":null,\"finish_reason\":null,\"stop_reason\":null}],\"usage\":{\"prompt_tokens\":6,\"completion_tokens\":68,\"total_tokens\":74,\"ttft\":0.091563446,\"tps\":10.031462910405757}}\n",
      "\n",
      "data: {\"id\":\"cmpl-5a1adc32e65849f2aee5edf2e37fdb7a\",\"created\":1750125678,\"model\":\"llama-31-8b.zip\",\"choices\":[{\"text\":\" had\",\"index\":0,\"logprobs\":null,\"finish_reason\":null,\"stop_reason\":null}],\"usage\":{\"prompt_tokens\":6,\"completion_tokens\":69,\"total_tokens\":75,\"ttft\":0.091563446,\"tps\":10.0304270635466}}\n",
      "\n",
      "data: {\"id\":\"cmpl-5a1adc32e65849f2aee5edf2e37fdb7a\",\"created\":1750125678,\"model\":\"llama-31-8b.zip\",\"choices\":[{\"text\":\" the\",\"index\":0,\"logprobs\":null,\"finish_reason\":null,\"stop_reason\":null}],\"usage\":{\"prompt_tokens\":6,\"completion_tokens\":70,\"total_tokens\":76,\"ttft\":0.091563446,\"tps\":10.029687281167895}}\n",
      "\n",
      "data: {\"id\":\"cmpl-5a1adc32e65849f2aee5edf2e37fdb7a\",\"created\":1750125678,\"model\":\"llama-31-8b.zip\",\"choices\":[{\"text\":\" ability\",\"index\":0,\"logprobs\":null,\"finish_reason\":null,\"stop_reason\":null}],\"usage\":{\"prompt_tokens\":6,\"completion_tokens\":71,\"total_tokens\":77,\"ttft\":0.091563446,\"tps\":10.02952350008321}}\n",
      "\n",
      "data: {\"id\":\"cmpl-5a1adc32e65849f2aee5edf2e37fdb7a\",\"created\":1750125678,\"model\":\"llama-31-8b.zip\",\"choices\":[{\"text\":\" to\",\"index\":0,\"logprobs\":null,\"finish_reason\":null,\"stop_reason\":null}],\"usage\":{\"prompt_tokens\":6,\"completion_tokens\":72,\"total_tokens\":78,\"ttft\":0.091563446,\"tps\":10.02938102015868}}\n",
      "\n",
      "data: {\"id\":\"cmpl-5a1adc32e65849f2aee5edf2e37fdb7a\",\"created\":1750125678,\"model\":\"llama-31-8b.zip\",\"choices\":[{\"text\":\" communicate\",\"index\":0,\"logprobs\":null,\"finish_reason\":null,\"stop_reason\":null}],\"usage\":{\"prompt_tokens\":6,\"completion_tokens\":73,\"total_tokens\":79,\"ttft\":0.091563446,\"tps\":10.028645697181016}}\n",
      "\n",
      "data: {\"id\":\"cmpl-5a1adc32e65849f2aee5edf2e37fdb7a\",\"created\":1750125678,\"model\":\"llama-31-8b.zip\",\"choices\":[{\"text\":\" with\",\"index\":0,\"logprobs\":null,\"finish_reason\":null,\"stop_reason\":null}],\"usage\":{\"prompt_tokens\":6,\"completion_tokens\":74,\"total_tokens\":80,\"ttft\":0.091563446,\"tps\":10.028621854820836}}\n",
      "\n",
      "data: {\"id\":\"cmpl-5a1adc32e65849f2aee5edf2e37fdb7a\",\"created\":1750125678,\"model\":\"llama-31-8b.zip\",\"choices\":[{\"text\":\" plants\",\"index\":0,\"logprobs\":null,\"finish_reason\":null,\"stop_reason\":null}],\"usage\":{\"prompt_tokens\":6,\"completion_tokens\":75,\"total_tokens\":81,\"ttft\":0.091563446,\"tps\":10.028081346047516}}\n",
      "\n",
      "data: {\"id\":\"cmpl-5a1adc32e65849f2aee5edf2e37fdb7a\",\"created\":1750125678,\"model\":\"llama-31-8b.zip\",\"choices\":[{\"text\":\".\\n\",\"index\":0,\"logprobs\":null,\"finish_reason\":null,\"stop_reason\":null}],\"usage\":{\"prompt_tokens\":6,\"completion_tokens\":76,\"total_tokens\":82,\"ttft\":0.091563446,\"tps\":10.02785666274787}}\n",
      "\n",
      "data: {\"id\":\"cmpl-5a1adc32e65849f2aee5edf2e37fdb7a\",\"created\":1750125678,\"model\":\"llama-31-8b.zip\",\"choices\":[{\"text\":\"Not\",\"index\":0,\"logprobs\":null,\"finish_reason\":null,\"stop_reason\":null}],\"usage\":{\"prompt_tokens\":6,\"completion_tokens\":77,\"total_tokens\":83,\"ttft\":0.091563446,\"tps\":10.027331852642991}}\n",
      "\n",
      "data: {\"id\":\"cmpl-5a1adc32e65849f2aee5edf2e37fdb7a\",\"created\":1750125678,\"model\":\"llama-31-8b.zip\",\"choices\":[{\"text\":\" only\",\"index\":0,\"logprobs\":null,\"finish_reason\":null,\"stop_reason\":null}],\"usage\":{\"prompt_tokens\":6,\"completion_tokens\":78,\"total_tokens\":84,\"ttft\":0.091563446,\"tps\":10.02695098133138}}\n",
      "\n",
      "data: {\"id\":\"cmpl-5a1adc32e65849f2aee5edf2e37fdb7a\",\"created\":1750125678,\"model\":\"llama-31-8b.zip\",\"choices\":[{\"text\":\" could\",\"index\":0,\"logprobs\":null,\"finish_reason\":null,\"stop_reason\":null}],\"usage\":{\"prompt_tokens\":6,\"completion_tokens\":79,\"total_tokens\":85,\"ttft\":0.091563446,\"tps\":10.026414867916978}}\n",
      "\n",
      "data: {\"id\":\"cmpl-5a1adc32e65849f2aee5edf2e37fdb7a\",\"created\":1750125678,\"model\":\"llama-31-8b.zip\",\"choices\":[{\"text\":\" she\",\"index\":0,\"logprobs\":null,\"finish_reason\":null,\"stop_reason\":null}],\"usage\":{\"prompt_tokens\":6,\"completion_tokens\":80,\"total_tokens\":86,\"ttft\":0.091563446,\"tps\":10.026509666685369}}\n",
      "\n",
      "data: {\"id\":\"cmpl-5a1adc32e65849f2aee5edf2e37fdb7a\",\"created\":1750125678,\"model\":\"llama-31-8b.zip\",\"choices\":[{\"text\":\" understand\",\"index\":0,\"logprobs\":null,\"finish_reason\":null,\"stop_reason\":null}],\"usage\":{\"prompt_tokens\":6,\"completion_tokens\":81,\"total_tokens\":87,\"ttft\":0.091563446,\"tps\":10.026102710849605}}\n",
      "\n",
      "data: {\"id\":\"cmpl-5a1adc32e65849f2aee5edf2e37fdb7a\",\"created\":1750125678,\"model\":\"llama-31-8b.zip\",\"choices\":[{\"text\":\" the\",\"index\":0,\"logprobs\":null,\"finish_reason\":null,\"stop_reason\":null}],\"usage\":{\"prompt_tokens\":6,\"completion_tokens\":82,\"total_tokens\":88,\"ttft\":0.091563446,\"tps\":10.025537519881857}}\n",
      "\n",
      "data: {\"id\":\"cmpl-5a1adc32e65849f2aee5edf2e37fdb7a\",\"created\":1750125678,\"model\":\"llama-31-8b.zip\",\"choices\":[{\"text\":\" language\",\"index\":0,\"logprobs\":null,\"finish_reason\":null,\"stop_reason\":null}],\"usage\":{\"prompt_tokens\":6,\"completion_tokens\":83,\"total_tokens\":89,\"ttft\":0.091563446,\"tps\":10.025274921109107}}\n",
      "\n",
      "data: {\"id\":\"cmpl-5a1adc32e65849f2aee5edf2e37fdb7a\",\"created\":1750125678,\"model\":\"llama-31-8b.zip\",\"choices\":[{\"text\":\" of\",\"index\":0,\"logprobs\":null,\"finish_reason\":null,\"stop_reason\":null}],\"usage\":{\"prompt_tokens\":6,\"completion_tokens\":84,\"total_tokens\":90,\"ttft\":0.091563446,\"tps\":10.024793337978332}}\n",
      "\n",
      "data: {\"id\":\"cmpl-5a1adc32e65849f2aee5edf2e37fdb7a\",\"created\":1750125678,\"model\":\"llama-31-8b.zip\",\"choices\":[{\"text\":\" plants\",\"index\":0,\"logprobs\":null,\"finish_reason\":null,\"stop_reason\":null}],\"usage\":{\"prompt_tokens\":6,\"completion_tokens\":85,\"total_tokens\":91,\"ttft\":0.091563446,\"tps\":10.024570716979685}}\n",
      "\n",
      "data: {\"id\":\"cmpl-5a1adc32e65849f2aee5edf2e37fdb7a\",\"created\":1750125678,\"model\":\"llama-31-8b.zip\",\"choices\":[{\"text\":\",\",\"index\":0,\"logprobs\":null,\"finish_reason\":null,\"stop_reason\":null}],\"usage\":{\"prompt_tokens\":6,\"completion_tokens\":86,\"total_tokens\":92,\"ttft\":0.091563446,\"tps\":10.024346975409317}}\n",
      "\n",
      "data: {\"id\":\"cmpl-5a1adc32e65849f2aee5edf2e37fdb7a\",\"created\":1750125678,\"model\":\"llama-31-8b.zip\",\"choices\":[{\"text\":\" but\",\"index\":0,\"logprobs\":null,\"finish_reason\":null,\"stop_reason\":null}],\"usage\":{\"prompt_tokens\":6,\"completion_tokens\":87,\"total_tokens\":93,\"ttft\":0.091563446,\"tps\":10.023963593847256}}\n",
      "\n",
      "data: {\"id\":\"cmpl-5a1adc32e65849f2aee5edf2e37fdb7a\",\"created\":1750125678,\"model\":\"llama-31-8b.zip\",\"choices\":[{\"text\":\" she\",\"index\":0,\"logprobs\":null,\"finish_reason\":null,\"stop_reason\":null}],\"usage\":{\"prompt_tokens\":6,\"completion_tokens\":88,\"total_tokens\":94,\"ttft\":0.091563446,\"tps\":10.02367085886634}}\n",
      "\n",
      "data: {\"id\":\"cmpl-5a1adc32e65849f2aee5edf2e37fdb7a\",\"created\":1750125678,\"model\":\"llama-31-8b.zip\",\"choices\":[{\"text\":\" could\",\"index\":0,\"logprobs\":null,\"finish_reason\":null,\"stop_reason\":null}],\"usage\":{\"prompt_tokens\":6,\"completion_tokens\":89,\"total_tokens\":95,\"ttft\":0.091563446,\"tps\":10.023577898040964}}\n",
      "\n",
      "data: {\"id\":\"cmpl-5a1adc32e65849f2aee5edf2e37fdb7a\",\"created\":1750125678,\"model\":\"llama-31-8b.zip\",\"choices\":[{\"text\":\" also\",\"index\":0,\"logprobs\":null,\"finish_reason\":null,\"stop_reason\":null}],\"usage\":{\"prompt_tokens\":6,\"completion_tokens\":90,\"total_tokens\":96,\"ttft\":0.091563446,\"tps\":10.023465964011308}}\n",
      "\n",
      "data: {\"id\":\"cmpl-5a1adc32e65849f2aee5edf2e37fdb7a\",\"created\":1750125678,\"model\":\"llama-31-8b.zip\",\"choices\":[{\"text\":\" manipulate\",\"index\":0,\"logprobs\":null,\"finish_reason\":null,\"stop_reason\":null}],\"usage\":{\"prompt_tokens\":6,\"completion_tokens\":91,\"total_tokens\":97,\"ttft\":0.091563446,\"tps\":10.022998692395294}}\n",
      "\n",
      "data: {\"id\":\"cmpl-5a1adc32e65849f2aee5edf2e37fdb7a\",\"created\":1750125678,\"model\":\"llama-31-8b.zip\",\"choices\":[{\"text\":\" their\",\"index\":0,\"logprobs\":null,\"finish_reason\":null,\"stop_reason\":null}],\"usage\":{\"prompt_tokens\":6,\"completion_tokens\":92,\"total_tokens\":98,\"ttft\":0.091563446,\"tps\":10.022834664701868}}\n",
      "\n",
      "data: {\"id\":\"cmpl-5a1adc32e65849f2aee5edf2e37fdb7a\",\"created\":1750125678,\"model\":\"llama-31-8b.zip\",\"choices\":[{\"text\":\" growth\",\"index\":0,\"logprobs\":null,\"finish_reason\":null,\"stop_reason\":null}],\"usage\":{\"prompt_tokens\":6,\"completion_tokens\":93,\"total_tokens\":99,\"ttft\":0.091563446,\"tps\":10.022595158375516}}\n",
      "\n",
      "data: {\"id\":\"cmpl-5a1adc32e65849f2aee5edf2e37fdb7a\",\"created\":1750125678,\"model\":\"llama-31-8b.zip\",\"choices\":[{\"text\":\" and\",\"index\":0,\"logprobs\":null,\"finish_reason\":null,\"stop_reason\":null}],\"usage\":{\"prompt_tokens\":6,\"completion_tokens\":94,\"total_tokens\":100,\"ttft\":0.091563446,\"tps\":10.022496600359025}}\n",
      "\n",
      "data: {\"id\":\"cmpl-5a1adc32e65849f2aee5edf2e37fdb7a\",\"created\":1750125678,\"model\":\"llama-31-8b.zip\",\"choices\":[{\"text\":\" development\",\"index\":0,\"logprobs\":null,\"finish_reason\":null,\"stop_reason\":null}],\"usage\":{\"prompt_tokens\":6,\"completion_tokens\":95,\"total_tokens\":101,\"ttft\":0.091563446,\"tps\":10.022125534273684}}\n",
      "\n",
      "data: {\"id\":\"cmpl-5a1adc32e65849f2aee5edf2e37fdb7a\",\"created\":1750125678,\"model\":\"llama-31-8b.zip\",\"choices\":[{\"text\":\".\",\"index\":0,\"logprobs\":null,\"finish_reason\":null,\"stop_reason\":null}],\"usage\":{\"prompt_tokens\":6,\"completion_tokens\":96,\"total_tokens\":102,\"ttft\":0.091563446,\"tps\":10.019749825552475}}\n",
      "\n",
      "data: {\"id\":\"cmpl-5a1adc32e65849f2aee5edf2e37fdb7a\",\"created\":1750125678,\"model\":\"llama-31-8b.zip\",\"choices\":[{\"text\":\" With\",\"index\":0,\"logprobs\":null,\"finish_reason\":null,\"stop_reason\":null}],\"usage\":{\"prompt_tokens\":6,\"completion_tokens\":97,\"total_tokens\":103,\"ttft\":0.091563446,\"tps\":9.98562770046297}}\n",
      "\n",
      "data: {\"id\":\"cmpl-5a1adc32e65849f2aee5edf2e37fdb7a\",\"created\":1750125678,\"model\":\"llama-31-8b.zip\",\"choices\":[{\"text\":\" a\",\"index\":0,\"logprobs\":null,\"finish_reason\":null,\"stop_reason\":null}],\"usage\":{\"prompt_tokens\":6,\"completion_tokens\":98,\"total_tokens\":104,\"ttft\":0.091563446,\"tps\":10.019027775639675}}\n",
      "\n",
      "data: {\"id\":\"cmpl-5a1adc32e65849f2aee5edf2e37fdb7a\",\"created\":1750125678,\"model\":\"llama-31-8b.zip\",\"choices\":[{\"text\":\" mere\",\"index\":0,\"logprobs\":null,\"finish_reason\":null,\"stop_reason\":null}],\"usage\":{\"prompt_tokens\":6,\"completion_tokens\":99,\"total_tokens\":105,\"ttft\":0.091563446,\"tps\":10.019649983937533}}\n",
      "\n",
      "data: {\"id\":\"cmpl-5a1adc32e65849f2aee5edf2e37fdb7a\",\"created\":1750125678,\"model\":\"llama-31-8b.zip\",\"choices\":[{\"text\":\" touch\",\"index\":0,\"logprobs\":null,\"finish_reason\":\"length\",\"stop_reason\":null}],\"usage\":{\"prompt_tokens\":6,\"completion_tokens\":100,\"total_tokens\":106,\"ttft\":0.091563446,\"tps\":10.020860629999026}}\n",
      "\n",
      "data: {\"id\":\"cmpl-5a1adc32e65849f2aee5edf2e37fdb7a\",\"created\":1750125678,\"model\":\"llama-31-8b.zip\",\"choices\":[],\"usage\":{\"prompt_tokens\":6,\"completion_tokens\":100,\"total_tokens\":106,\"ttft\":0.091563446,\"tps\":10.020269063389119}}\n",
      "\n",
      "data: [DONE]\n",
      "\n"
     ]
    }
   ],
   "source": [
    "# Streaming: Completion\n",
    "!curl -X POST \\\n",
    "  -H \"Authorization: Bearer abc123\" \\\n",
    "  -H \"Content-Type: application/json\" \\\n",
    "  -d '{\"model\": \"whatever\", \"prompt\": \"tell me a short story\", \"max_tokens\": 100, \"stream\": true, \"stream_options\": {\"include_usage\": true}}' \\\n",
    "  https://qaic-poc.pov.wallaroo.io/v1/api/pipelines/infer/llamaqaic-openai-32/llamaqaic-openai/openai/v1/completions"
   ]
  },
  {
   "cell_type": "markdown",
   "id": "501cdbcd",
   "metadata": {},
   "source": [
    "This example performs an inference request **with token streaming enabled** on the `chat/completions` endpoint."
   ]
  },
  {
   "cell_type": "code",
   "execution_count": null,
   "id": "d76ebfa2-73b6-4b64-9612-df1f0d526806",
   "metadata": {},
   "outputs": [
    {
     "name": "stdout",
     "output_type": "stream",
     "text": [
      "data: {\"id\":\"chat-02fbfe3ae2b54133a28b2deffd3aaab6\",\"object\":\"chat.completion.chunk\",\"created\":1750125657,\"model\":\"llama-31-8b.zip\",\"choices\":[{\"index\":0,\"finish_reason\":null,\"message\":null,\"delta\":{\"role\":\"assistant\"}}],\"usage\":{\"prompt_tokens\":39,\"completion_tokens\":0,\"total_tokens\":39,\"ttft\":0.093523807,\"tps\":0.0}}\n",
      "\n",
      "data: {\"id\":\"chat-02fbfe3ae2b54133a28b2deffd3aaab6\",\"object\":\"chat.completion.chunk\",\"created\":1750125657,\"model\":\"llama-31-8b.zip\",\"choices\":[{\"index\":0,\"finish_reason\":null,\"message\":null,\"delta\":{\"role\":null,\"content\":\"Once\"}}],\"usage\":{\"prompt_tokens\":39,\"completion_tokens\":1,\"total_tokens\":40,\"ttft\":0.093523807,\"tps\":10.679028938385025}}\n",
      "\n",
      "data: {\"id\":\"chat-02fbfe3ae2b54133a28b2deffd3aaab6\",\"object\":\"chat.completion.chunk\",\"created\":1750125657,\"model\":\"llama-31-8b.zip\",\"choices\":[{\"index\":0,\"finish_reason\":null,\"message\":null,\"delta\":{\"role\":null,\"content\":\" upon\"}}],\"usage\":{\"prompt_tokens\":39,\"completion_tokens\":2,\"total_tokens\":41,\"ttft\":0.093523807,\"tps\":15.893348258670727}}\n",
      "\n",
      "data: {\"id\":\"chat-02fbfe3ae2b54133a28b2deffd3aaab6\",\"object\":\"chat.completion.chunk\",\"created\":1750125657,\"model\":\"llama-31-8b.zip\",\"choices\":[{\"index\":0,\"finish_reason\":null,\"message\":null,\"delta\":{\"role\":null,\"content\":\" a\"}}],\"usage\":{\"prompt_tokens\":39,\"completion_tokens\":3,\"total_tokens\":42,\"ttft\":0.093523807,\"tps\":9.638854670419317}}\n",
      "\n",
      "data: {\"id\":\"chat-02fbfe3ae2b54133a28b2deffd3aaab6\",\"object\":\"chat.completion.chunk\",\"created\":1750125657,\"model\":\"llama-31-8b.zip\",\"choices\":[{\"index\":0,\"finish_reason\":null,\"message\":null,\"delta\":{\"role\":null,\"content\":\" time\"}}],\"usage\":{\"prompt_tokens\":39,\"completion_tokens\":4,\"total_tokens\":43,\"ttft\":0.093523807,\"tps\":12.792234356445363}}\n",
      "\n",
      "data: {\"id\":\"chat-02fbfe3ae2b54133a28b2deffd3aaab6\",\"object\":\"chat.completion.chunk\",\"created\":1750125657,\"model\":\"llama-31-8b.zip\",\"choices\":[{\"index\":0,\"finish_reason\":null,\"message\":null,\"delta\":{\"role\":null,\"content\":\",\"}}],\"usage\":{\"prompt_tokens\":39,\"completion_tokens\":5,\"total_tokens\":44,\"ttft\":0.093523807,\"tps\":12.097896058767747}}\n",
      "\n",
      "data: {\"id\":\"chat-02fbfe3ae2b54133a28b2deffd3aaab6\",\"object\":\"chat.completion.chunk\",\"created\":1750125657,\"model\":\"llama-31-8b.zip\",\"choices\":[{\"index\":0,\"finish_reason\":null,\"message\":null,\"delta\":{\"role\":null,\"content\":\" in\"}}],\"usage\":{\"prompt_tokens\":39,\"completion_tokens\":6,\"total_tokens\":45,\"ttft\":0.093523807,\"tps\":11.689909281413698}}\n",
      "\n",
      "data: {\"id\":\"chat-02fbfe3ae2b54133a28b2deffd3aaab6\",\"object\":\"chat.completion.chunk\",\"created\":1750125657,\"model\":\"llama-31-8b.zip\",\"choices\":[{\"index\":0,\"finish_reason\":null,\"message\":null,\"delta\":{\"role\":null,\"content\":\" a\"}}],\"usage\":{\"prompt_tokens\":39,\"completion_tokens\":7,\"total_tokens\":46,\"ttft\":0.093523807,\"tps\":11.4149325131089}}\n",
      "\n",
      "data: {\"id\":\"chat-02fbfe3ae2b54133a28b2deffd3aaab6\",\"object\":\"chat.completion.chunk\",\"created\":1750125657,\"model\":\"llama-31-8b.zip\",\"choices\":[{\"index\":0,\"finish_reason\":null,\"message\":null,\"delta\":{\"role\":null,\"content\":\" small\"}}],\"usage\":{\"prompt_tokens\":39,\"completion_tokens\":8,\"total_tokens\":47,\"ttft\":0.093523807,\"tps\":11.211161870876595}}\n",
      "\n",
      "data: {\"id\":\"chat-02fbfe3ae2b54133a28b2deffd3aaab6\",\"object\":\"chat.completion.chunk\",\"created\":1750125657,\"model\":\"llama-31-8b.zip\",\"choices\":[{\"index\":0,\"finish_reason\":null,\"message\":null,\"delta\":{\"role\":null,\"content\":\" village\"}}],\"usage\":{\"prompt_tokens\":39,\"completion_tokens\":9,\"total_tokens\":48,\"ttft\":0.093523807,\"tps\":11.064374210944154}}\n",
      "\n",
      "data: {\"id\":\"chat-02fbfe3ae2b54133a28b2deffd3aaab6\",\"object\":\"chat.completion.chunk\",\"created\":1750125657,\"model\":\"llama-31-8b.zip\",\"choices\":[{\"index\":0,\"finish_reason\":null,\"message\":null,\"delta\":{\"role\":null,\"content\":\" nestled\"}}],\"usage\":{\"prompt_tokens\":39,\"completion_tokens\":10,\"total_tokens\":49,\"ttft\":0.093523807,\"tps\":10.936130842555313}}\n",
      "\n",
      "data: {\"id\":\"chat-02fbfe3ae2b54133a28b2deffd3aaab6\",\"object\":\"chat.completion.chunk\",\"created\":1750125657,\"model\":\"llama-31-8b.zip\",\"choices\":[{\"index\":0,\"finish_reason\":null,\"message\":null,\"delta\":{\"role\":null,\"content\":\" between\"}}],\"usage\":{\"prompt_tokens\":39,\"completion_tokens\":11,\"total_tokens\":50,\"ttft\":0.093523807,\"tps\":10.854098898689053}}\n",
      "\n",
      "data: {\"id\":\"chat-02fbfe3ae2b54133a28b2deffd3aaab6\",\"object\":\"chat.completion.chunk\",\"created\":1750125657,\"model\":\"llama-31-8b.zip\",\"choices\":[{\"index\":0,\"finish_reason\":null,\"message\":null,\"delta\":{\"role\":null,\"content\":\" two\"}}],\"usage\":{\"prompt_tokens\":39,\"completion_tokens\":12,\"total_tokens\":51,\"ttft\":0.093523807,\"tps\":10.777865236262162}}\n",
      "\n",
      "data: {\"id\":\"chat-02fbfe3ae2b54133a28b2deffd3aaab6\",\"object\":\"chat.completion.chunk\",\"created\":1750125657,\"model\":\"llama-31-8b.zip\",\"choices\":[{\"index\":0,\"finish_reason\":null,\"message\":null,\"delta\":{\"role\":null,\"content\":\" great\"}}],\"usage\":{\"prompt_tokens\":39,\"completion_tokens\":13,\"total_tokens\":52,\"ttft\":0.093523807,\"tps\":10.714198543684102}}\n",
      "\n",
      "data: {\"id\":\"chat-02fbfe3ae2b54133a28b2deffd3aaab6\",\"object\":\"chat.completion.chunk\",\"created\":1750125657,\"model\":\"llama-31-8b.zip\",\"choices\":[{\"index\":0,\"finish_reason\":null,\"message\":null,\"delta\":{\"role\":null,\"content\":\" mountains\"}}],\"usage\":{\"prompt_tokens\":39,\"completion_tokens\":14,\"total_tokens\":53,\"ttft\":0.093523807,\"tps\":10.65864711681772}}\n",
      "\n",
      "data: {\"id\":\"chat-02fbfe3ae2b54133a28b2deffd3aaab6\",\"object\":\"chat.completion.chunk\",\"created\":1750125657,\"model\":\"llama-31-8b.zip\",\"choices\":[{\"index\":0,\"finish_reason\":null,\"message\":null,\"delta\":{\"role\":null,\"content\":\",\"}}],\"usage\":{\"prompt_tokens\":39,\"completion_tokens\":15,\"total_tokens\":54,\"ttft\":0.093523807,\"tps\":10.612495981817178}}\n",
      "\n",
      "data: {\"id\":\"chat-02fbfe3ae2b54133a28b2deffd3aaab6\",\"object\":\"chat.completion.chunk\",\"created\":1750125657,\"model\":\"llama-31-8b.zip\",\"choices\":[{\"index\":0,\"finish_reason\":null,\"message\":null,\"delta\":{\"role\":null,\"content\":\" there\"}}],\"usage\":{\"prompt_tokens\":39,\"completion_tokens\":16,\"total_tokens\":55,\"ttft\":0.093523807,\"tps\":10.571751033243963}}\n",
      "\n",
      "data: {\"id\":\"chat-02fbfe3ae2b54133a28b2deffd3aaab6\",\"object\":\"chat.completion.chunk\",\"created\":1750125657,\"model\":\"llama-31-8b.zip\",\"choices\":[{\"index\":0,\"finish_reason\":null,\"message\":null,\"delta\":{\"role\":null,\"content\":\" lived\"}}],\"usage\":{\"prompt_tokens\":39,\"completion_tokens\":17,\"total_tokens\":56,\"ttft\":0.093523807,\"tps\":10.535300065049963}}\n",
      "\n",
      "data: {\"id\":\"chat-02fbfe3ae2b54133a28b2deffd3aaab6\",\"object\":\"chat.completion.chunk\",\"created\":1750125657,\"model\":\"llama-31-8b.zip\",\"choices\":[{\"index\":0,\"finish_reason\":null,\"message\":null,\"delta\":{\"role\":null,\"content\":\" a\"}}],\"usage\":{\"prompt_tokens\":39,\"completion_tokens\":18,\"total_tokens\":57,\"ttft\":0.093523807,\"tps\":10.49247672368637}}\n",
      "\n",
      "data: {\"id\":\"chat-02fbfe3ae2b54133a28b2deffd3aaab6\",\"object\":\"chat.completion.chunk\",\"created\":1750125657,\"model\":\"llama-31-8b.zip\",\"choices\":[{\"index\":0,\"finish_reason\":null,\"message\":null,\"delta\":{\"role\":null,\"content\":\" young\"}}],\"usage\":{\"prompt_tokens\":39,\"completion_tokens\":19,\"total_tokens\":58,\"ttft\":0.093523807,\"tps\":10.304767842363969}}\n",
      "\n",
      "data: {\"id\":\"chat-02fbfe3ae2b54133a28b2deffd3aaab6\",\"object\":\"chat.completion.chunk\",\"created\":1750125657,\"model\":\"llama-31-8b.zip\",\"choices\":[{\"index\":0,\"finish_reason\":null,\"message\":null,\"delta\":{\"role\":null,\"content\":\" girl\"}}],\"usage\":{\"prompt_tokens\":39,\"completion_tokens\":20,\"total_tokens\":59,\"ttft\":0.093523807,\"tps\":10.302066150141606}}\n",
      "\n",
      "data: {\"id\":\"chat-02fbfe3ae2b54133a28b2deffd3aaab6\",\"object\":\"chat.completion.chunk\",\"created\":1750125657,\"model\":\"llama-31-8b.zip\",\"choices\":[{\"index\":0,\"finish_reason\":null,\"message\":null,\"delta\":{\"role\":null,\"content\":\" named\"}}],\"usage\":{\"prompt_tokens\":39,\"completion_tokens\":21,\"total_tokens\":60,\"ttft\":0.093523807,\"tps\":10.429638902538803}}\n",
      "\n",
      "data: {\"id\":\"chat-02fbfe3ae2b54133a28b2deffd3aaab6\",\"object\":\"chat.completion.chunk\",\"created\":1750125657,\"model\":\"llama-31-8b.zip\",\"choices\":[{\"index\":0,\"finish_reason\":null,\"message\":null,\"delta\":{\"role\":null,\"content\":\" Luna\"}}],\"usage\":{\"prompt_tokens\":39,\"completion_tokens\":22,\"total_tokens\":61,\"ttft\":0.093523807,\"tps\":10.766529145153692}}\n",
      "\n",
      "data: {\"id\":\"chat-02fbfe3ae2b54133a28b2deffd3aaab6\",\"object\":\"chat.completion.chunk\",\"created\":1750125657,\"model\":\"llama-31-8b.zip\",\"choices\":[{\"index\":0,\"finish_reason\":null,\"message\":null,\"delta\":{\"role\":null,\"content\":\".\"}}],\"usage\":{\"prompt_tokens\":39,\"completion_tokens\":23,\"total_tokens\":62,\"ttft\":0.093523807,\"tps\":10.880310681121758}}\n",
      "\n",
      "data: {\"id\":\"chat-02fbfe3ae2b54133a28b2deffd3aaab6\",\"object\":\"chat.completion.chunk\",\"created\":1750125657,\"model\":\"llama-31-8b.zip\",\"choices\":[{\"index\":0,\"finish_reason\":null,\"message\":null,\"delta\":{\"role\":null,\"content\":\" Luna\"}}],\"usage\":{\"prompt_tokens\":39,\"completion_tokens\":24,\"total_tokens\":63,\"ttft\":0.093523807,\"tps\":10.842890567306505}}\n",
      "\n",
      "data: {\"id\":\"chat-02fbfe3ae2b54133a28b2deffd3aaab6\",\"object\":\"chat.completion.chunk\",\"created\":1750125657,\"model\":\"llama-31-8b.zip\",\"choices\":[{\"index\":0,\"finish_reason\":null,\"message\":null,\"delta\":{\"role\":null,\"content\":\" was\"}}],\"usage\":{\"prompt_tokens\":39,\"completion_tokens\":25,\"total_tokens\":64,\"ttft\":0.093523807,\"tps\":11.134169853164014}}\n",
      "\n",
      "data: {\"id\":\"chat-02fbfe3ae2b54133a28b2deffd3aaab6\",\"object\":\"chat.completion.chunk\",\"created\":1750125657,\"model\":\"llama-31-8b.zip\",\"choices\":[{\"index\":0,\"finish_reason\":null,\"message\":null,\"delta\":{\"role\":null,\"content\":\" a\"}}],\"usage\":{\"prompt_tokens\":39,\"completion_tokens\":26,\"total_tokens\":65,\"ttft\":0.093523807,\"tps\":11.239963118222558}}\n",
      "\n",
      "data: {\"id\":\"chat-02fbfe3ae2b54133a28b2deffd3aaab6\",\"object\":\"chat.completion.chunk\",\"created\":1750125657,\"model\":\"llama-31-8b.zip\",\"choices\":[{\"index\":0,\"finish_reason\":null,\"message\":null,\"delta\":{\"role\":null,\"content\":\" curious\"}}],\"usage\":{\"prompt_tokens\":39,\"completion_tokens\":27,\"total_tokens\":66,\"ttft\":0.093523807,\"tps\":11.185705821330895}}\n",
      "\n",
      "data: {\"id\":\"chat-02fbfe3ae2b54133a28b2deffd3aaab6\",\"object\":\"chat.completion.chunk\",\"created\":1750125657,\"model\":\"llama-31-8b.zip\",\"choices\":[{\"index\":0,\"finish_reason\":null,\"message\":null,\"delta\":{\"role\":null,\"content\":\" and\"}}],\"usage\":{\"prompt_tokens\":39,\"completion_tokens\":28,\"total_tokens\":67,\"ttft\":0.093523807,\"tps\":11.140372386697315}}\n",
      "\n",
      "data: {\"id\":\"chat-02fbfe3ae2b54133a28b2deffd3aaab6\",\"object\":\"chat.completion.chunk\",\"created\":1750125657,\"model\":\"llama-31-8b.zip\",\"choices\":[{\"index\":0,\"finish_reason\":null,\"message\":null,\"delta\":{\"role\":null,\"content\":\" adventurous\"}}],\"usage\":{\"prompt_tokens\":39,\"completion_tokens\":29,\"total_tokens\":68,\"ttft\":0.093523807,\"tps\":11.233955255452175}}\n",
      "\n",
      "data: {\"id\":\"chat-02fbfe3ae2b54133a28b2deffd3aaab6\",\"object\":\"chat.completion.chunk\",\"created\":1750125657,\"model\":\"llama-31-8b.zip\",\"choices\":[{\"index\":0,\"finish_reason\":null,\"message\":null,\"delta\":{\"role\":null,\"content\":\" child\"}}],\"usage\":{\"prompt_tokens\":39,\"completion_tokens\":30,\"total_tokens\":69,\"ttft\":0.093523807,\"tps\":11.046526139531414}}\n",
      "\n",
      "data: {\"id\":\"chat-02fbfe3ae2b54133a28b2deffd3aaab6\",\"object\":\"chat.completion.chunk\",\"created\":1750125657,\"model\":\"llama-31-8b.zip\",\"choices\":[{\"index\":0,\"finish_reason\":null,\"message\":null,\"delta\":{\"role\":null,\"content\":\",\"}}],\"usage\":{\"prompt_tokens\":39,\"completion_tokens\":31,\"total_tokens\":70,\"ttft\":0.093523807,\"tps\":11.011429193226217}}\n",
      "\n",
      "data: {\"id\":\"chat-02fbfe3ae2b54133a28b2deffd3aaab6\",\"object\":\"chat.completion.chunk\",\"created\":1750125657,\"model\":\"llama-31-8b.zip\",\"choices\":[{\"index\":0,\"finish_reason\":null,\"message\":null,\"delta\":{\"role\":null,\"content\":\" with\"}}],\"usage\":{\"prompt_tokens\":39,\"completion_tokens\":32,\"total_tokens\":71,\"ttft\":0.093523807,\"tps\":10.97681105135485}}\n",
      "\n",
      "data: {\"id\":\"chat-02fbfe3ae2b54133a28b2deffd3aaab6\",\"object\":\"chat.completion.chunk\",\"created\":1750125657,\"model\":\"llama-31-8b.zip\",\"choices\":[{\"index\":0,\"finish_reason\":null,\"message\":null,\"delta\":{\"role\":null,\"content\":\" hair\"}}],\"usage\":{\"prompt_tokens\":39,\"completion_tokens\":33,\"total_tokens\":72,\"ttft\":0.093523807,\"tps\":11.200693587133646}}\n",
      "\n",
      "data: {\"id\":\"chat-02fbfe3ae2b54133a28b2deffd3aaab6\",\"object\":\"chat.completion.chunk\",\"created\":1750125657,\"model\":\"llama-31-8b.zip\",\"choices\":[{\"index\":0,\"finish_reason\":null,\"message\":null,\"delta\":{\"role\":null,\"content\":\" as\"}}],\"usage\":{\"prompt_tokens\":39,\"completion_tokens\":34,\"total_tokens\":73,\"ttft\":0.093523807,\"tps\":11.283990983422129}}\n",
      "\n",
      "data: {\"id\":\"chat-02fbfe3ae2b54133a28b2deffd3aaab6\",\"object\":\"chat.completion.chunk\",\"created\":1750125657,\"model\":\"llama-31-8b.zip\",\"choices\":[{\"index\":0,\"finish_reason\":null,\"message\":null,\"delta\":{\"role\":null,\"content\":\" white\"}}],\"usage\":{\"prompt_tokens\":39,\"completion_tokens\":35,\"total_tokens\":74,\"ttft\":0.093523807,\"tps\":11.240580242811589}}\n",
      "\n",
      "data: {\"id\":\"chat-02fbfe3ae2b54133a28b2deffd3aaab6\",\"object\":\"chat.completion.chunk\",\"created\":1750125657,\"model\":\"llama-31-8b.zip\",\"choices\":[{\"index\":0,\"finish_reason\":null,\"message\":null,\"delta\":{\"role\":null,\"content\":\" as\"}}],\"usage\":{\"prompt_tokens\":39,\"completion_tokens\":36,\"total_tokens\":75,\"ttft\":0.093523807,\"tps\":11.202515247474333}}\n",
      "\n",
      "data: {\"id\":\"chat-02fbfe3ae2b54133a28b2deffd3aaab6\",\"object\":\"chat.completion.chunk\",\"created\":1750125657,\"model\":\"llama-31-8b.zip\",\"choices\":[{\"index\":0,\"finish_reason\":null,\"message\":null,\"delta\":{\"role\":null,\"content\":\" the\"}}],\"usage\":{\"prompt_tokens\":39,\"completion_tokens\":37,\"total_tokens\":76,\"ttft\":0.093523807,\"tps\":11.40663095801526}}\n",
      "\n",
      "data: {\"id\":\"chat-02fbfe3ae2b54133a28b2deffd3aaab6\",\"object\":\"chat.completion.chunk\",\"created\":1750125657,\"model\":\"llama-31-8b.zip\",\"choices\":[{\"index\":0,\"finish_reason\":null,\"message\":null,\"delta\":{\"role\":null,\"content\":\"ايي\"}}],\"usage\":{\"prompt_tokens\":39,\"completion_tokens\":38,\"total_tokens\":77,\"ttft\":0.093523807,\"tps\":11.468678168754302}}\n",
      "\n",
      "data: {\"id\":\"chat-02fbfe3ae2b54133a28b2deffd3aaab6\",\"object\":\"chat.completion.chunk\",\"created\":1750125657,\"model\":\"llama-31-8b.zip\",\"choices\":[{\"index\":0,\"finish_reason\":null,\"message\":null,\"delta\":{\"role\":null,\"content\":\" snow\"}}],\"usage\":{\"prompt_tokens\":39,\"completion_tokens\":39,\"total_tokens\":78,\"ttft\":0.093523807,\"tps\":11.42592747732382}}\n",
      "\n",
      "data: {\"id\":\"chat-02fbfe3ae2b54133a28b2deffd3aaab6\",\"object\":\"chat.completion.chunk\",\"created\":1750125657,\"model\":\"llama-31-8b.zip\",\"choices\":[{\"index\":0,\"finish_reason\":null,\"message\":null,\"delta\":{\"role\":null,\"content\":\" that\"}}],\"usage\":{\"prompt_tokens\":39,\"completion_tokens\":40,\"total_tokens\":79,\"ttft\":0.093523807,\"tps\":11.385125976512857}}\n",
      "\n",
      "data: {\"id\":\"chat-02fbfe3ae2b54133a28b2deffd3aaab6\",\"object\":\"chat.completion.chunk\",\"created\":1750125657,\"model\":\"llama-31-8b.zip\",\"choices\":[{\"index\":0,\"finish_reason\":null,\"message\":null,\"delta\":{\"role\":null,\"content\":\" fell\"}}],\"usage\":{\"prompt_tokens\":39,\"completion_tokens\":41,\"total_tokens\":80,\"ttft\":0.093523807,\"tps\":11.346690819941223}}\n",
      "\n",
      "data: {\"id\":\"chat-02fbfe3ae2b54133a28b2deffd3aaab6\",\"object\":\"chat.completion.chunk\",\"created\":1750125657,\"model\":\"llama-31-8b.zip\",\"choices\":[{\"index\":0,\"finish_reason\":null,\"message\":null,\"delta\":{\"role\":null,\"content\":\" in\"}}],\"usage\":{\"prompt_tokens\":39,\"completion_tokens\":42,\"total_tokens\":81,\"ttft\":0.093523807,\"tps\":11.309509205575088}}\n",
      "\n",
      "data: {\"id\":\"chat-02fbfe3ae2b54133a28b2deffd3aaab6\",\"object\":\"chat.completion.chunk\",\"created\":1750125657,\"model\":\"llama-31-8b.zip\",\"choices\":[{\"index\":0,\"finish_reason\":null,\"message\":null,\"delta\":{\"role\":null,\"content\":\" the\"}}],\"usage\":{\"prompt_tokens\":39,\"completion_tokens\":43,\"total_tokens\":82,\"ttft\":0.093523807,\"tps\":11.27597977545512}}\n",
      "\n",
      "data: {\"id\":\"chat-02fbfe3ae2b54133a28b2deffd3aaab6\",\"object\":\"chat.completion.chunk\",\"created\":1750125657,\"model\":\"llama-31-8b.zip\",\"choices\":[{\"index\":0,\"finish_reason\":null,\"message\":null,\"delta\":{\"role\":null,\"content\":\" winter\"}}],\"usage\":{\"prompt_tokens\":39,\"completion_tokens\":44,\"total_tokens\":83,\"ttft\":0.093523807,\"tps\":11.243376514438195}}\n",
      "\n",
      "data: {\"id\":\"chat-02fbfe3ae2b54133a28b2deffd3aaab6\",\"object\":\"chat.completion.chunk\",\"created\":1750125657,\"model\":\"llama-31-8b.zip\",\"choices\":[{\"index\":0,\"finish_reason\":null,\"message\":null,\"delta\":{\"role\":null,\"content\":\" and\"}}],\"usage\":{\"prompt_tokens\":39,\"completion_tokens\":45,\"total_tokens\":84,\"ttft\":0.093523807,\"tps\":11.212460712369255}}\n",
      "\n",
      "data: {\"id\":\"chat-02fbfe3ae2b54133a28b2deffd3aaab6\",\"object\":\"chat.completion.chunk\",\"created\":1750125657,\"model\":\"llama-31-8b.zip\",\"choices\":[{\"index\":0,\"finish_reason\":null,\"message\":null,\"delta\":{\"role\":null,\"content\":\" eyes\"}}],\"usage\":{\"prompt_tokens\":39,\"completion_tokens\":46,\"total_tokens\":85,\"ttft\":0.093523807,\"tps\":11.183062312750105}}\n",
      "\n",
      "data: {\"id\":\"chat-02fbfe3ae2b54133a28b2deffd3aaab6\",\"object\":\"chat.completion.chunk\",\"created\":1750125657,\"model\":\"llama-31-8b.zip\",\"choices\":[{\"index\":0,\"finish_reason\":null,\"message\":null,\"delta\":{\"role\":null,\"content\":\" as\"}}],\"usage\":{\"prompt_tokens\":39,\"completion_tokens\":47,\"total_tokens\":86,\"ttft\":0.093523807,\"tps\":11.154976841833744}}\n",
      "\n",
      "data: {\"id\":\"chat-02fbfe3ae2b54133a28b2deffd3aaab6\",\"object\":\"chat.completion.chunk\",\"created\":1750125657,\"model\":\"llama-31-8b.zip\",\"choices\":[{\"index\":0,\"finish_reason\":null,\"message\":null,\"delta\":{\"role\":null,\"content\":\" blue\"}}],\"usage\":{\"prompt_tokens\":39,\"completion_tokens\":48,\"total_tokens\":87,\"ttft\":0.093523807,\"tps\":11.128300365566915}}\n",
      "\n",
      "data: {\"id\":\"chat-02fbfe3ae2b54133a28b2deffd3aaab6\",\"object\":\"chat.completion.chunk\",\"created\":1750125657,\"model\":\"llama-31-8b.zip\",\"choices\":[{\"index\":0,\"finish_reason\":null,\"message\":null,\"delta\":{\"role\":null,\"content\":\" as\"}}],\"usage\":{\"prompt_tokens\":39,\"completion_tokens\":49,\"total_tokens\":88,\"ttft\":0.093523807,\"tps\":11.102684946144986}}\n",
      "\n",
      "data: {\"id\":\"chat-02fbfe3ae2b54133a28b2deffd3aaab6\",\"object\":\"chat.completion.chunk\",\"created\":1750125657,\"model\":\"llama-31-8b.zip\",\"choices\":[{\"index\":0,\"finish_reason\":null,\"message\":null,\"delta\":{\"role\":null,\"content\":\" the\"}}],\"usage\":{\"prompt_tokens\":39,\"completion_tokens\":50,\"total_tokens\":89,\"ttft\":0.093523807,\"tps\":11.078075715728664}}\n",
      "\n",
      "data: {\"id\":\"chat-02fbfe3ae2b54133a28b2deffd3aaab6\",\"object\":\"chat.completion.chunk\",\"created\":1750125657,\"model\":\"llama-31-8b.zip\",\"choices\":[{\"index\":0,\"finish_reason\":null,\"message\":null,\"delta\":{\"role\":null,\"content\":\" clear\"}}],\"usage\":{\"prompt_tokens\":39,\"completion_tokens\":51,\"total_tokens\":90,\"ttft\":0.093523807,\"tps\":11.054406233816369}}\n",
      "\n",
      "data: {\"id\":\"chat-02fbfe3ae2b54133a28b2deffd3aaab6\",\"object\":\"chat.completion.chunk\",\"created\":1750125657,\"model\":\"llama-31-8b.zip\",\"choices\":[{\"index\":0,\"finish_reason\":null,\"message\":null,\"delta\":{\"role\":null,\"content\":\" summer\"}}],\"usage\":{\"prompt_tokens\":39,\"completion_tokens\":52,\"total_tokens\":91,\"ttft\":0.093523807,\"tps\":11.032337358208991}}\n",
      "\n",
      "data: {\"id\":\"chat-02fbfe3ae2b54133a28b2deffd3aaab6\",\"object\":\"chat.completion.chunk\",\"created\":1750125657,\"model\":\"llama-31-8b.zip\",\"choices\":[{\"index\":0,\"finish_reason\":null,\"message\":null,\"delta\":{\"role\":null,\"content\":\" sky\"}}],\"usage\":{\"prompt_tokens\":39,\"completion_tokens\":53,\"total_tokens\":92,\"ttft\":0.093523807,\"tps\":11.011128673094953}}\n",
      "\n",
      "data: {\"id\":\"chat-02fbfe3ae2b54133a28b2deffd3aaab6\",\"object\":\"chat.completion.chunk\",\"created\":1750125657,\"model\":\"llama-31-8b.zip\",\"choices\":[{\"index\":0,\"finish_reason\":null,\"message\":null,\"delta\":{\"role\":null,\"content\":\".\\n\\n\"}}],\"usage\":{\"prompt_tokens\":39,\"completion_tokens\":54,\"total_tokens\":93,\"ttft\":0.093523807,\"tps\":10.990523713601522}}\n",
      "\n",
      "data: {\"id\":\"chat-02fbfe3ae2b54133a28b2deffd3aaab6\",\"object\":\"chat.completion.chunk\",\"created\":1750125657,\"model\":\"llama-31-8b.zip\",\"choices\":[{\"index\":0,\"finish_reason\":null,\"message\":null,\"delta\":{\"role\":null,\"content\":\"L\"}}],\"usage\":{\"prompt_tokens\":39,\"completion_tokens\":55,\"total_tokens\":94,\"ttft\":0.093523807,\"tps\":10.970636317369635}}\n",
      "\n",
      "data: {\"id\":\"chat-02fbfe3ae2b54133a28b2deffd3aaab6\",\"object\":\"chat.completion.chunk\",\"created\":1750125657,\"model\":\"llama-31-8b.zip\",\"choices\":[{\"index\":0,\"finish_reason\":null,\"message\":null,\"delta\":{\"role\":null,\"content\":\"una\"}}],\"usage\":{\"prompt_tokens\":39,\"completion_tokens\":56,\"total_tokens\":95,\"ttft\":0.093523807,\"tps\":10.951739258873346}}\n",
      "\n",
      "data: {\"id\":\"chat-02fbfe3ae2b54133a28b2deffd3aaab6\",\"object\":\"chat.completion.chunk\",\"created\":1750125657,\"model\":\"llama-31-8b.zip\",\"choices\":[{\"index\":0,\"finish_reason\":null,\"message\":null,\"delta\":{\"role\":null,\"content\":\" lived\"}}],\"usage\":{\"prompt_tokens\":39,\"completion_tokens\":57,\"total_tokens\":96,\"ttft\":0.093523807,\"tps\":10.933472095692645}}\n",
      "\n",
      "data: {\"id\":\"chat-02fbfe3ae2b54133a28b2deffd3aaab6\",\"object\":\"chat.completion.chunk\",\"created\":1750125657,\"model\":\"llama-31-8b.zip\",\"choices\":[{\"index\":0,\"finish_reason\":null,\"message\":null,\"delta\":{\"role\":null,\"content\":\" with\"}}],\"usage\":{\"prompt_tokens\":39,\"completion_tokens\":58,\"total_tokens\":97,\"ttft\":0.093523807,\"tps\":10.91593120799726}}\n",
      "\n",
      "data: {\"id\":\"chat-02fbfe3ae2b54133a28b2deffd3aaab6\",\"object\":\"chat.completion.chunk\",\"created\":1750125657,\"model\":\"llama-31-8b.zip\",\"choices\":[{\"index\":0,\"finish_reason\":null,\"message\":null,\"delta\":{\"role\":null,\"content\":\" her\"}}],\"usage\":{\"prompt_tokens\":39,\"completion_tokens\":59,\"total_tokens\":98,\"ttft\":0.093523807,\"tps\":10.899055938368269}}\n",
      "\n",
      "data: {\"id\":\"chat-02fbfe3ae2b54133a28b2deffd3aaab6\",\"object\":\"chat.completion.chunk\",\"created\":1750125657,\"model\":\"llama-31-8b.zip\",\"choices\":[{\"index\":0,\"finish_reason\":null,\"message\":null,\"delta\":{\"role\":null,\"content\":\" wise\"}}],\"usage\":{\"prompt_tokens\":39,\"completion_tokens\":60,\"total_tokens\":99,\"ttft\":0.093523807,\"tps\":10.882676125396374}}\n",
      "\n",
      "data: {\"id\":\"chat-02fbfe3ae2b54133a28b2deffd3aaab6\",\"object\":\"chat.completion.chunk\",\"created\":1750125657,\"model\":\"llama-31-8b.zip\",\"choices\":[{\"index\":0,\"finish_reason\":null,\"message\":null,\"delta\":{\"role\":null,\"content\":\" and\"}}],\"usage\":{\"prompt_tokens\":39,\"completion_tokens\":61,\"total_tokens\":100,\"ttft\":0.093523807,\"tps\":10.866924214005687}}\n",
      "\n",
      "data: {\"id\":\"chat-02fbfe3ae2b54133a28b2deffd3aaab6\",\"object\":\"chat.completion.chunk\",\"created\":1750125657,\"model\":\"llama-31-8b.zip\",\"choices\":[{\"index\":0,\"finish_reason\":null,\"message\":null,\"delta\":{\"role\":null,\"content\":\" kind\"}}],\"usage\":{\"prompt_tokens\":39,\"completion_tokens\":62,\"total_tokens\":101,\"ttft\":0.093523807,\"tps\":10.851777257687916}}\n",
      "\n",
      "data: {\"id\":\"chat-02fbfe3ae2b54133a28b2deffd3aaab6\",\"object\":\"chat.completion.chunk\",\"created\":1750125657,\"model\":\"llama-31-8b.zip\",\"choices\":[{\"index\":0,\"finish_reason\":null,\"message\":null,\"delta\":{\"role\":null,\"content\":\" grandmother\"}}],\"usage\":{\"prompt_tokens\":39,\"completion_tokens\":63,\"total_tokens\":102,\"ttft\":0.093523807,\"tps\":10.837090191983293}}\n",
      "\n",
      "data: {\"id\":\"chat-02fbfe3ae2b54133a28b2deffd3aaab6\",\"object\":\"chat.completion.chunk\",\"created\":1750125657,\"model\":\"llama-31-8b.zip\",\"choices\":[{\"index\":0,\"finish_reason\":null,\"message\":null,\"delta\":{\"role\":null,\"content\":\",\"}}],\"usage\":{\"prompt_tokens\":39,\"completion_tokens\":64,\"total_tokens\":103,\"ttft\":0.093523807,\"tps\":10.82113789612987}}\n",
      "\n",
      "data: {\"id\":\"chat-02fbfe3ae2b54133a28b2deffd3aaab6\",\"object\":\"chat.completion.chunk\",\"created\":1750125657,\"model\":\"llama-31-8b.zip\",\"choices\":[{\"index\":0,\"finish_reason\":null,\"message\":null,\"delta\":{\"role\":null,\"content\":\" who\"}}],\"usage\":{\"prompt_tokens\":39,\"completion_tokens\":65,\"total_tokens\":104,\"ttft\":0.093523807,\"tps\":10.809091853293051}}\n",
      "\n",
      "data: {\"id\":\"chat-02fbfe3ae2b54133a28b2deffd3aaab6\",\"object\":\"chat.completion.chunk\",\"created\":1750125657,\"model\":\"llama-31-8b.zip\",\"choices\":[{\"index\":0,\"finish_reason\":null,\"message\":null,\"delta\":{\"role\":null,\"content\":\" was\"}}],\"usage\":{\"prompt_tokens\":39,\"completion_tokens\":66,\"total_tokens\":105,\"ttft\":0.093523807,\"tps\":10.795918009028618}}\n",
      "\n",
      "data: {\"id\":\"chat-02fbfe3ae2b54133a28b2deffd3aaab6\",\"object\":\"chat.completion.chunk\",\"created\":1750125657,\"model\":\"llama-31-8b.zip\",\"choices\":[{\"index\":0,\"finish_reason\":null,\"message\":null,\"delta\":{\"role\":null,\"content\":\" known\"}}],\"usage\":{\"prompt_tokens\":39,\"completion_tokens\":67,\"total_tokens\":106,\"ttft\":0.093523807,\"tps\":10.783146289277473}}\n",
      "\n",
      "data: {\"id\":\"chat-02fbfe3ae2b54133a28b2deffd3aaab6\",\"object\":\"chat.completion.chunk\",\"created\":1750125657,\"model\":\"llama-31-8b.zip\",\"choices\":[{\"index\":0,\"finish_reason\":null,\"message\":null,\"delta\":{\"role\":null,\"content\":\" throughout\"}}],\"usage\":{\"prompt_tokens\":39,\"completion_tokens\":68,\"total_tokens\":107,\"ttft\":0.093523807,\"tps\":10.770711926343678}}\n",
      "\n",
      "data: {\"id\":\"chat-02fbfe3ae2b54133a28b2deffd3aaab6\",\"object\":\"chat.completion.chunk\",\"created\":1750125657,\"model\":\"llama-31-8b.zip\",\"choices\":[{\"index\":0,\"finish_reason\":null,\"message\":null,\"delta\":{\"role\":null,\"content\":\" the\"}}],\"usage\":{\"prompt_tokens\":39,\"completion_tokens\":69,\"total_tokens\":108,\"ttft\":0.093523807,\"tps\":10.758576686270036}}\n",
      "\n",
      "data: {\"id\":\"chat-02fbfe3ae2b54133a28b2deffd3aaab6\",\"object\":\"chat.completion.chunk\",\"created\":1750125657,\"model\":\"llama-31-8b.zip\",\"choices\":[{\"index\":0,\"finish_reason\":null,\"message\":null,\"delta\":{\"role\":null,\"content\":\" village\"}}],\"usage\":{\"prompt_tokens\":39,\"completion_tokens\":70,\"total_tokens\":109,\"ttft\":0.093523807,\"tps\":10.746872783302043}}\n",
      "\n",
      "data: {\"id\":\"chat-02fbfe3ae2b54133a28b2deffd3aaab6\",\"object\":\"chat.completion.chunk\",\"created\":1750125657,\"model\":\"llama-31-8b.zip\",\"choices\":[{\"index\":0,\"finish_reason\":null,\"message\":null,\"delta\":{\"role\":null,\"content\":\" for\"}}],\"usage\":{\"prompt_tokens\":39,\"completion_tokens\":71,\"total_tokens\":110,\"ttft\":0.093523807,\"tps\":10.735734351732795}}\n",
      "\n",
      "data: {\"id\":\"chat-02fbfe3ae2b54133a28b2deffd3aaab6\",\"object\":\"chat.completion.chunk\",\"created\":1750125657,\"model\":\"llama-31-8b.zip\",\"choices\":[{\"index\":0,\"finish_reason\":null,\"message\":null,\"delta\":{\"role\":null,\"content\":\" her\"}}],\"usage\":{\"prompt_tokens\":39,\"completion_tokens\":72,\"total_tokens\":111,\"ttft\":0.093523807,\"tps\":10.724804014752687}}\n",
      "\n",
      "data: {\"id\":\"chat-02fbfe3ae2b54133a28b2deffd3aaab6\",\"object\":\"chat.completion.chunk\",\"created\":1750125657,\"model\":\"llama-31-8b.zip\",\"choices\":[{\"index\":0,\"finish_reason\":null,\"message\":null,\"delta\":{\"role\":null,\"content\":\" extraordinary\"}}],\"usage\":{\"prompt_tokens\":39,\"completion_tokens\":73,\"total_tokens\":112,\"ttft\":0.093523807,\"tps\":10.714137836119875}}\n",
      "\n",
      "data: {\"id\":\"chat-02fbfe3ae2b54133a28b2deffd3aaab6\",\"object\":\"chat.completion.chunk\",\"created\":1750125657,\"model\":\"llama-31-8b.zip\",\"choices\":[{\"index\":0,\"finish_reason\":null,\"message\":null,\"delta\":{\"role\":null,\"content\":\" gift\"}}],\"usage\":{\"prompt_tokens\":39,\"completion_tokens\":74,\"total_tokens\":113,\"ttft\":0.093523807,\"tps\":10.70382435996017}}\n",
      "\n",
      "data: {\"id\":\"chat-02fbfe3ae2b54133a28b2deffd3aaab6\",\"object\":\"chat.completion.chunk\",\"created\":1750125657,\"model\":\"llama-31-8b.zip\",\"choices\":[{\"index\":0,\"finish_reason\":null,\"message\":null,\"delta\":{\"role\":null,\"content\":\":\"}}],\"usage\":{\"prompt_tokens\":39,\"completion_tokens\":75,\"total_tokens\":114,\"ttft\":0.093523807,\"tps\":10.693774524641771}}\n",
      "\n",
      "data: {\"id\":\"chat-02fbfe3ae2b54133a28b2deffd3aaab6\",\"object\":\"chat.completion.chunk\",\"created\":1750125657,\"model\":\"llama-31-8b.zip\",\"choices\":[{\"index\":0,\"finish_reason\":null,\"message\":null,\"delta\":{\"role\":null,\"content\":\" the\"}}],\"usage\":{\"prompt_tokens\":39,\"completion_tokens\":76,\"total_tokens\":115,\"ttft\":0.093523807,\"tps\":10.68401075233219}}\n",
      "\n",
      "data: {\"id\":\"chat-02fbfe3ae2b54133a28b2deffd3aaab6\",\"object\":\"chat.completion.chunk\",\"created\":1750125657,\"model\":\"llama-31-8b.zip\",\"choices\":[{\"index\":0,\"finish_reason\":null,\"message\":null,\"delta\":{\"role\":null,\"content\":\" ability\"}}],\"usage\":{\"prompt_tokens\":39,\"completion_tokens\":77,\"total_tokens\":116,\"ttft\":0.093523807,\"tps\":10.674391545829438}}\n",
      "\n",
      "data: {\"id\":\"chat-02fbfe3ae2b54133a28b2deffd3aaab6\",\"object\":\"chat.completion.chunk\",\"created\":1750125657,\"model\":\"llama-31-8b.zip\",\"choices\":[{\"index\":0,\"finish_reason\":null,\"message\":null,\"delta\":{\"role\":null,\"content\":\" to\"}}],\"usage\":{\"prompt_tokens\":39,\"completion_tokens\":78,\"total_tokens\":117,\"ttft\":0.093523807,\"tps\":10.665258919580141}}\n",
      "\n",
      "data: {\"id\":\"chat-02fbfe3ae2b54133a28b2deffd3aaab6\",\"object\":\"chat.completion.chunk\",\"created\":1750125657,\"model\":\"llama-31-8b.zip\",\"choices\":[{\"index\":0,\"finish_reason\":null,\"message\":null,\"delta\":{\"role\":null,\"content\":\" communicate\"}}],\"usage\":{\"prompt_tokens\":39,\"completion_tokens\":79,\"total_tokens\":118,\"ttft\":0.093523807,\"tps\":10.656269078924302}}\n",
      "\n",
      "data: {\"id\":\"chat-02fbfe3ae2b54133a28b2deffd3aaab6\",\"object\":\"chat.completion.chunk\",\"created\":1750125657,\"model\":\"llama-31-8b.zip\",\"choices\":[{\"index\":0,\"finish_reason\":null,\"message\":null,\"delta\":{\"role\":null,\"content\":\" with\"}}],\"usage\":{\"prompt_tokens\":39,\"completion_tokens\":80,\"total_tokens\":119,\"ttft\":0.093523807,\"tps\":10.647090833185985}}\n",
      "\n",
      "data: {\"id\":\"chat-02fbfe3ae2b54133a28b2deffd3aaab6\",\"object\":\"chat.completion.chunk\",\"created\":1750125657,\"model\":\"llama-31-8b.zip\",\"choices\":[{\"index\":0,\"finish_reason\":null,\"message\":null,\"delta\":{\"role\":null,\"content\":\" animals\"}}],\"usage\":{\"prompt_tokens\":39,\"completion_tokens\":81,\"total_tokens\":120,\"ttft\":0.093523807,\"tps\":10.638952905712335}}\n",
      "\n",
      "data: {\"id\":\"chat-02fbfe3ae2b54133a28b2deffd3aaab6\",\"object\":\"chat.completion.chunk\",\"created\":1750125657,\"model\":\"llama-31-8b.zip\",\"choices\":[{\"index\":0,\"finish_reason\":null,\"message\":null,\"delta\":{\"role\":null,\"content\":\".\"}}],\"usage\":{\"prompt_tokens\":39,\"completion_tokens\":82,\"total_tokens\":121,\"ttft\":0.093523807,\"tps\":10.63095145732828}}\n",
      "\n",
      "data: {\"id\":\"chat-02fbfe3ae2b54133a28b2deffd3aaab6\",\"object\":\"chat.completion.chunk\",\"created\":1750125657,\"model\":\"llama-31-8b.zip\",\"choices\":[{\"index\":0,\"finish_reason\":null,\"message\":null,\"delta\":{\"role\":null,\"content\":\" The\"}}],\"usage\":{\"prompt_tokens\":39,\"completion_tokens\":83,\"total_tokens\":122,\"ttft\":0.093523807,\"tps\":10.622734345223376}}\n",
      "\n",
      "data: {\"id\":\"chat-02fbfe3ae2b54133a28b2deffd3aaab6\",\"object\":\"chat.completion.chunk\",\"created\":1750125657,\"model\":\"llama-31-8b.zip\",\"choices\":[{\"index\":0,\"finish_reason\":null,\"message\":null,\"delta\":{\"role\":null,\"content\":\" grandmother\"}}],\"usage\":{\"prompt_tokens\":39,\"completion_tokens\":84,\"total_tokens\":123,\"ttft\":0.093523807,\"tps\":10.614874987829367}}\n",
      "\n",
      "data: {\"id\":\"chat-02fbfe3ae2b54133a28b2deffd3aaab6\",\"object\":\"chat.completion.chunk\",\"created\":1750125657,\"model\":\"llama-31-8b.zip\",\"choices\":[{\"index\":0,\"finish_reason\":null,\"message\":null,\"delta\":{\"role\":null,\"content\":\",\"}}],\"usage\":{\"prompt_tokens\":39,\"completion_tokens\":85,\"total_tokens\":124,\"ttft\":0.093523807,\"tps\":10.607312787234106}}\n",
      "\n",
      "data: {\"id\":\"chat-02fbfe3ae2b54133a28b2deffd3aaab6\",\"object\":\"chat.completion.chunk\",\"created\":1750125657,\"model\":\"llama-31-8b.zip\",\"choices\":[{\"index\":0,\"finish_reason\":null,\"message\":null,\"delta\":{\"role\":null,\"content\":\" named\"}}],\"usage\":{\"prompt_tokens\":39,\"completion_tokens\":86,\"total_tokens\":125,\"ttft\":0.093523807,\"tps\":10.599761228841837}}\n",
      "\n",
      "data: {\"id\":\"chat-02fbfe3ae2b54133a28b2deffd3aaab6\",\"object\":\"chat.completion.chunk\",\"created\":1750125657,\"model\":\"llama-31-8b.zip\",\"choices\":[{\"index\":0,\"finish_reason\":null,\"message\":null,\"delta\":{\"role\":null,\"content\":\" Ak\"}}],\"usage\":{\"prompt_tokens\":39,\"completion_tokens\":87,\"total_tokens\":126,\"ttft\":0.093523807,\"tps\":10.589856764869298}}\n",
      "\n",
      "data: {\"id\":\"chat-02fbfe3ae2b54133a28b2deffd3aaab6\",\"object\":\"chat.completion.chunk\",\"created\":1750125657,\"model\":\"llama-31-8b.zip\",\"choices\":[{\"index\":0,\"finish_reason\":null,\"message\":null,\"delta\":{\"role\":null,\"content\":\"ira\"}}],\"usage\":{\"prompt_tokens\":39,\"completion_tokens\":88,\"total_tokens\":127,\"ttft\":0.093523807,\"tps\":10.585450518655998}}\n",
      "\n",
      "data: {\"id\":\"chat-02fbfe3ae2b54133a28b2deffd3aaab6\",\"object\":\"chat.completion.chunk\",\"created\":1750125657,\"model\":\"llama-31-8b.zip\",\"choices\":[{\"index\":0,\"finish_reason\":null,\"message\":null,\"delta\":{\"role\":null,\"content\":\",\"}}],\"usage\":{\"prompt_tokens\":39,\"completion_tokens\":89,\"total_tokens\":128,\"ttft\":0.093523807,\"tps\":10.578570294607275}}\n",
      "\n",
      "data: {\"id\":\"chat-02fbfe3ae2b54133a28b2deffd3aaab6\",\"object\":\"chat.completion.chunk\",\"created\":1750125657,\"model\":\"llama-31-8b.zip\",\"choices\":[{\"index\":0,\"finish_reason\":null,\"message\":null,\"delta\":{\"role\":null,\"content\":\" would\"}}],\"usage\":{\"prompt_tokens\":39,\"completion_tokens\":90,\"total_tokens\":129,\"ttft\":0.093523807,\"tps\":10.57170007812578}}\n",
      "\n",
      "data: {\"id\":\"chat-02fbfe3ae2b54133a28b2deffd3aaab6\",\"object\":\"chat.completion.chunk\",\"created\":1750125657,\"model\":\"llama-31-8b.zip\",\"choices\":[{\"index\":0,\"finish_reason\":null,\"message\":null,\"delta\":{\"role\":null,\"content\":\" often\"}}],\"usage\":{\"prompt_tokens\":39,\"completion_tokens\":91,\"total_tokens\":130,\"ttft\":0.093523807,\"tps\":10.564984630448128}}\n",
      "\n",
      "data: {\"id\":\"chat-02fbfe3ae2b54133a28b2deffd3aaab6\",\"object\":\"chat.completion.chunk\",\"created\":1750125657,\"model\":\"llama-31-8b.zip\",\"choices\":[{\"index\":0,\"finish_reason\":null,\"message\":null,\"delta\":{\"role\":null,\"content\":\" take\"}}],\"usage\":{\"prompt_tokens\":39,\"completion_tokens\":92,\"total_tokens\":131,\"ttft\":0.093523807,\"tps\":10.558447194364499}}\n",
      "\n",
      "data: {\"id\":\"chat-02fbfe3ae2b54133a28b2deffd3aaab6\",\"object\":\"chat.completion.chunk\",\"created\":1750125657,\"model\":\"llama-31-8b.zip\",\"choices\":[{\"index\":0,\"finish_reason\":null,\"message\":null,\"delta\":{\"role\":null,\"content\":\" Luna\"}}],\"usage\":{\"prompt_tokens\":39,\"completion_tokens\":93,\"total_tokens\":132,\"ttft\":0.093523807,\"tps\":10.552165227381643}}\n",
      "\n",
      "data: {\"id\":\"chat-02fbfe3ae2b54133a28b2deffd3aaab6\",\"object\":\"chat.completion.chunk\",\"created\":1750125657,\"model\":\"llama-31-8b.zip\",\"choices\":[{\"index\":0,\"finish_reason\":null,\"message\":null,\"delta\":{\"role\":null,\"content\":\" on\"}}],\"usage\":{\"prompt_tokens\":39,\"completion_tokens\":94,\"total_tokens\":133,\"ttft\":0.093523807,\"tps\":10.54601096686412}}\n",
      "\n",
      "data: {\"id\":\"chat-02fbfe3ae2b54133a28b2deffd3aaab6\",\"object\":\"chat.completion.chunk\",\"created\":1750125657,\"model\":\"llama-31-8b.zip\",\"choices\":[{\"index\":0,\"finish_reason\":null,\"message\":null,\"delta\":{\"role\":null,\"content\":\" walks\"}}],\"usage\":{\"prompt_tokens\":39,\"completion_tokens\":95,\"total_tokens\":134,\"ttft\":0.093523807,\"tps\":10.53987082362499}}\n",
      "\n",
      "data: {\"id\":\"chat-02fbfe3ae2b54133a28b2deffd3aaab6\",\"object\":\"chat.completion.chunk\",\"created\":1750125657,\"model\":\"llama-31-8b.zip\",\"choices\":[{\"index\":0,\"finish_reason\":null,\"message\":null,\"delta\":{\"role\":null,\"content\":\" through\"}}],\"usage\":{\"prompt_tokens\":39,\"completion_tokens\":96,\"total_tokens\":135,\"ttft\":0.093523807,\"tps\":10.534072389660455}}\n",
      "\n",
      "data: {\"id\":\"chat-02fbfe3ae2b54133a28b2deffd3aaab6\",\"object\":\"chat.completion.chunk\",\"created\":1750125657,\"model\":\"llama-31-8b.zip\",\"choices\":[{\"index\":0,\"finish_reason\":null,\"message\":null,\"delta\":{\"role\":null,\"content\":\" the\"}}],\"usage\":{\"prompt_tokens\":39,\"completion_tokens\":97,\"total_tokens\":136,\"ttft\":0.093523807,\"tps\":10.528121846218342}}\n",
      "\n",
      "data: {\"id\":\"chat-02fbfe3ae2b54133a28b2deffd3aaab6\",\"object\":\"chat.completion.chunk\",\"created\":1750125657,\"model\":\"llama-31-8b.zip\",\"choices\":[{\"index\":0,\"finish_reason\":null,\"message\":null,\"delta\":{\"role\":null,\"content\":\" forest\"}}],\"usage\":{\"prompt_tokens\":39,\"completion_tokens\":98,\"total_tokens\":137,\"ttft\":0.093523807,\"tps\":10.522547361228694}}\n",
      "\n",
      "data: {\"id\":\"chat-02fbfe3ae2b54133a28b2deffd3aaab6\",\"object\":\"chat.completion.chunk\",\"created\":1750125657,\"model\":\"llama-31-8b.zip\",\"choices\":[{\"index\":0,\"finish_reason\":null,\"message\":null,\"delta\":{\"role\":null,\"content\":\",\"}}],\"usage\":{\"prompt_tokens\":39,\"completion_tokens\":99,\"total_tokens\":138,\"ttft\":0.093523807,\"tps\":10.516952064534435}}\n",
      "\n",
      "data: {\"id\":\"chat-02fbfe3ae2b54133a28b2deffd3aaab6\",\"object\":\"chat.completion.chunk\",\"created\":1750125657,\"model\":\"llama-31-8b.zip\",\"choices\":[{\"index\":0,\"finish_reason\":\"length\",\"message\":null,\"delta\":{\"role\":null,\"content\":\" pointing\"}}],\"usage\":{\"prompt_tokens\":39,\"completion_tokens\":100,\"total_tokens\":139,\"ttft\":0.093523807,\"tps\":10.511513285045494}}\n",
      "\n",
      "data: {\"id\":\"chat-02fbfe3ae2b54133a28b2deffd3aaab6\",\"object\":\"chat.completion.chunk\",\"created\":1750125657,\"model\":\"llama-31-8b.zip\",\"choices\":[],\"usage\":{\"prompt_tokens\":39,\"completion_tokens\":100,\"total_tokens\":139,\"ttft\":0.093523807,\"tps\":10.511361686804662}}\n",
      "\n",
      "data: [DONE]\n",
      "\n"
     ]
    }
   ],
   "source": [
    "# Streaming: Chat completion\n",
    "!curl -X POST \\\n",
    "  -H \"Authorization: Bearer abc123\" \\\n",
    "  -H \"Content-Type: application/json\" \\\n",
    "  -d '{\"model\": \"whatever\", \"messages\": [{\"role\": \"user\", \"content\": \"tell me a story\"}], \"max_tokens\": 100, \"stream\": true, \"stream_options\": {\"include_usage\": true}}' \\\n",
    "  https://qaic-poc.pov.wallaroo.io/v1/api/pipelines/infer/llamaqaic-openai-32/llamaqaic-openai/openai/v1/chat/completions\n"
   ]
  },
  {
   "cell_type": "markdown",
   "id": "f9d2ae5a",
   "metadata": {},
   "source": [
    "</details>\n",
    "\n",
    "<details>\n",
    "<summary><h4> OpenAI Inference via the OpenAI Python Library</h4></summary>\n",
    "\n",
    "The following uses the OpenAI Python library to perform the inferences, using the same OpenAI endpoints."
   ]
  },
  {
   "cell_type": "code",
   "execution_count": 28,
   "id": "9947462a-1762-41d9-af7a-e9dff716bf21",
   "metadata": {},
   "outputs": [],
   "source": [
    "from openai import OpenAI\n",
    "client = OpenAI(\n",
    "    base_url='https://qaic-poc.pov.wallaroo.io/v1/api/pipelines/infer/llamaqaic-openai-32/llamaqaic-openai/openai/v1',\n",
    "    api_key=token\n",
    ")"
   ]
  },
  {
   "cell_type": "code",
   "execution_count": 29,
   "id": "f78c900f-7e41-4f2f-bdc6-50267f665e8d",
   "metadata": {},
   "outputs": [
    {
     "name": "stdout",
     "output_type": "stream",
     "text": [
      "I'd love to hear it. Please go ahead and share the short story about love. I'll be happy to listen and respond."
     ]
    }
   ],
   "source": [
    "for chunk in client.chat.completions.create(model=\"dummy\", messages=[{\"role\": \"user\", \"content\": \"this is a short story about love\"}], max_tokens=100, stream=True):\n",
    "    print(chunk.choices[0].delta.content, end=\"\", flush=True)"
   ]
  },
  {
   "cell_type": "code",
   "execution_count": 30,
   "id": "e6162a46-e183-46a7-9b73-b3a1c332d92c",
   "metadata": {},
   "outputs": [
    {
     "name": "stdout",
     "output_type": "stream",
     "text": [
      "\n",
      "Introducing wallaroo.AI\n",
      "Wallايي буду Towards a Optimization Approach\n",
      "For AI-Driven Sports Optimization and Trading\n",
      "Background: One-click strategy models, platform agnostic, similarity testing\n",
      "Theory: Extreme Value Theory ( EVT ) , GARCH , Kalman Filter algorithm\n",
      "Impact: speeding through complex sett FL startup focusing implementation wallaroo.Readingmy Business model\n",
      "wallaroo.ai is an AI-driven platform that aims to revolutionize the way we approach sports optimization and trading. The platform leverages"
     ]
    }
   ],
   "source": [
    "for chunk in client.completions.create(model=\"dummy\", prompt=\"tell me about wallaroo.AI\", max_tokens=100, stream=True):\n",
    "    print(chunk.choices[0].text, end=\"\", flush=True)"
   ]
  },
  {
   "cell_type": "markdown",
   "id": "8f7a5130",
   "metadata": {},
   "source": [
    "</details>\n",
    "\n",
    "<details>\n",
    "<summary><h3>Pipeline Publish</h3></summary>\n",
    "\n",
    "Pipelines are saved to an OCI registry via the `wallaroo.pipeline.Pipeline.publish_pipeline(deployment_config)` command.  During this step, the following is uploaded to an OCI registry configured to work with the Wallaroo Ops Center:\n",
    "\n",
    "* The LLM and pipeline steps.\n",
    "* The included deployment configuration.\n",
    "* The Wallaroo Inference Engine compatible with the architecture and acceleration inherited from the model settings, in this case the `QAIC` AI accelerator.\n",
    "\n",
    "Once published, the LLM is deployed with Docker, Podman, or Helm - each command provided as part of the output.  For more details, see [Edge and Multi-cloud Deployment and Inference](https://staging.docs.wallaroo.ai/wallaroo-model-operations-run-anywhere/wallaroo-model-operations-run-anywhere-inference/wallaroo-model-operations-run-anywhere-deploy/)."
   ]
  },
  {
   "cell_type": "code",
   "execution_count": 9,
   "id": "9503c9b4-aa3d-408a-b4d7-a3bdffecf11e",
   "metadata": {},
   "outputs": [
    {
     "name": "stdout",
     "output_type": "stream",
     "text": [
      "Waiting for pipeline publish... It may take up to 600 sec.\n",
      "....................................................................................... Published.\n"
     ]
    },
    {
     "data": {
      "text/html": [
       "\n",
       "          <table>\n",
       "              <tr><td>ID</td><td>20</td></tr>\n",
       "              <tr><td>Pipeline Name</td><td>llamaqaicopenaiedge</td></tr>\n",
       "              <tr><td>Pipeline Version</td><td>a0db44db-cc58-437e-9e73-2da3e3ae45e9</td></tr>\n",
       "              <tr><td>Status</td><td>Published</td></tr>\n",
       "              <tr><td>Workspace Id</td><td>9</td></tr>\n",
       "              <tr><td>Workspace Name</td><td>younes@wallaroo.ai - Default Workspace</td></tr>\n",
       "              <tr><td>Edges</td><td></td></tr>\n",
       "              <tr><td>Engine URL</td><td><a href='https://us-west1-docker.pkg.dev/wallaroo-dev-253816/testqaic/engines/proxy/wallaroo/ghcr.io/wallaroolabs/fitzroy-mini-qaic-vllm:v2025.1.0-6261'>us-west1-docker.pkg.dev/wallaroo-dev-253816/testqaic/engines/proxy/wallaroo/ghcr.io/wallaroolabs/fitzroy-mini-qaic-vllm:v2025.1.0-6261</a></td></tr>\n",
       "              <tr><td>Pipeline URL</td><td><a href='https://us-west1-docker.pkg.dev/wallaroo-dev-253816/testqaic/pipelines/llamaqaicopenaiedge:a0db44db-cc58-437e-9e73-2da3e3ae45e9'>us-west1-docker.pkg.dev/wallaroo-dev-253816/testqaic/pipelines/llamaqaicopenaiedge:a0db44db-cc58-437e-9e73-2da3e3ae45e9</a></td></tr>\n",
       "              <tr><td>Helm Chart URL</td><td>oci://<a href='https://us-west1-docker.pkg.dev/wallaroo-dev-253816/testqaic/charts/llamaqaicopenaiedge'>us-west1-docker.pkg.dev/wallaroo-dev-253816/testqaic/charts/llamaqaicopenaiedge</a></td></tr>\n",
       "              <tr><td>Helm Chart Reference</td><td>us-west1-docker.pkg.dev/wallaroo-dev-253816/testqaic/charts@sha256:bf9847efbca0c798d823afb11820b7e74f802233d0762d60b409b2023ab04d2e</td></tr>\n",
       "              <tr><td>Helm Chart Version</td><td>0.0.1-a0db44db-cc58-437e-9e73-2da3e3ae45e9</td></tr>\n",
       "              <tr><td>Engine Config</td><td>{'engine': {'resources': {'limits': {'cpu': 1.0, 'memory': '1Gi'}, 'requests': {'cpu': 1.0, 'memory': '1Gi'}, 'accel': {'qaic': {'aic_enable_depth_first': False, 'ctx_len': 1024, 'full_batch_size': 16, 'mxfp6_matmul': True, 'mxint8_kv_cache': True, 'num_cores': 16, 'num_devices': 4, 'prefill_seq_len': 128}}, 'arch': 'x86', 'gpu': False}}, 'engineAux': {'autoscale': {'type': 'none', 'cpu_utilization': 50.0}, 'images': {'llama-qaic-openai-113': {'resources': {'limits': {'cpu': 4.0, 'memory': '12Gi'}, 'requests': {'cpu': 4.0, 'memory': '12Gi'}, 'accel': {'qaic': {'aic_enable_depth_first': False, 'ctx_len': 1024, 'full_batch_size': 16, 'mxfp6_matmul': True, 'mxint8_kv_cache': True, 'num_cores': 16, 'num_devices': 4, 'prefill_seq_len': 128}}, 'arch': 'x86', 'gpu': False}}}}}</td></tr>\n",
       "              <tr><td>User Images</td><td>[]</td></tr>\n",
       "              <tr><td>Created By</td><td>younes.amar@wallaroo.ai</td></tr>\n",
       "              <tr><td>Created At</td><td>2025-07-16 18:51:02.396949+00:00</td></tr>\n",
       "              <tr><td>Updated At</td><td>2025-07-16 18:51:02.396949+00:00</td></tr>\n",
       "              <tr><td>Replaces</td><td></td></tr>\n",
       "              <tr>\n",
       "                  <td>Docker Run Command</td>\n",
       "                  <td>\n",
       "                      <table><tr><td>\n",
       "<pre style=\"text-align: left\">docker run \\\n",
       "    -p $EDGE_PORT:8080 \\\n",
       "    -e OCI_USERNAME=$OCI_USERNAME \\\n",
       "    -e OCI_PASSWORD=$OCI_PASSWORD \\\n",
       "    -e PIPELINE_URL=us-west1-docker.pkg.dev/wallaroo-dev-253816/testqaic/pipelines/llamaqaicopenaiedge:a0db44db-cc58-437e-9e73-2da3e3ae45e9 \\\n",
       "    -e CONFIG_CPUS=1.0 --cpus=5.0 --memory=13g \\\n",
       "    us-west1-docker.pkg.dev/wallaroo-dev-253816/testqaic/engines/proxy/wallaroo/ghcr.io/wallaroolabs/fitzroy-mini-qaic-vllm:v2025.1.0-6261</pre></td></tr></table>\n",
       "                      <br />\n",
       "                      <i>\n",
       "                          Note: Please set the <code>EDGE_PORT</code>, <code>OCI_USERNAME</code>, and <code>OCI_PASSWORD</code> environment variables.\n",
       "                      </i>\n",
       "                  </td>\n",
       "              </tr>\n",
       "              <tr>\n",
       "                  <td>Podman Run Command</td>\n",
       "                  <td>\n",
       "                      <table><tr><td>\n",
       "<pre style=\"text-align: left\">podman run \\\n",
       "    -p $EDGE_PORT:8080 \\\n",
       "    -e OCI_USERNAME=$OCI_USERNAME \\\n",
       "    -e OCI_PASSWORD=$OCI_PASSWORD \\\n",
       "    -e PIPELINE_URL=us-west1-docker.pkg.dev/wallaroo-dev-253816/testqaic/pipelines/llamaqaicopenaiedge:a0db44db-cc58-437e-9e73-2da3e3ae45e9 \\\n",
       "    -e CONFIG_CPUS=1.0 --cpus=5.0 --memory=13g \\\n",
       "    us-west1-docker.pkg.dev/wallaroo-dev-253816/testqaic/engines/proxy/wallaroo/ghcr.io/wallaroolabs/fitzroy-mini-qaic-vllm:v2025.1.0-6261</pre></td></tr></table>\n",
       "                      <br />\n",
       "                      <i>\n",
       "                          Note: Please set the <code>EDGE_PORT</code>, <code>OCI_USERNAME</code>, and <code>OCI_PASSWORD</code> environment variables.\n",
       "                      </i>\n",
       "                  </td>\n",
       "              </tr>\n",
       "              <tr>\n",
       "                  <td>Helm Install Command</td>\n",
       "                  <td>\n",
       "                      <table><tr><td>\n",
       "<pre style=\"text-align: left\">helm install --atomic $HELM_INSTALL_NAME \\\n",
       "    oci://us-west1-docker.pkg.dev/wallaroo-dev-253816/testqaic/charts/llamaqaicopenaiedge \\\n",
       "    --namespace $HELM_INSTALL_NAMESPACE \\\n",
       "    --version 0.0.1-a0db44db-cc58-437e-9e73-2da3e3ae45e9 \\\n",
       "    --set ociRegistry.username=$OCI_USERNAME \\\n",
       "    --set ociRegistry.password=$OCI_PASSWORD</pre></td></tr></table>\n",
       "                      <br />\n",
       "                      <i>\n",
       "                          Note: Please set the <code>HELM_INSTALL_NAME</code>, <code>HELM_INSTALL_NAMESPACE</code>,\n",
       "                          <code>OCI_USERNAME</code>, and <code>OCI_PASSWORD</code> environment variables.\n",
       "                      </i>\n",
       "                  </td>\n",
       "              </tr>\n",
       "              \n",
       "          </table>\n",
       "        "
      ],
      "text/plain": [
       "PipelinePublish(created_at=datetime.datetime(2025, 7, 16, 18, 51, 2, 396949, tzinfo=tzutc()), docker_run_variables={'PIPELINE_URL': 'us-west1-docker.pkg.dev/wallaroo-dev-253816/testqaic/pipelines/llamaqaicopenaiedge:a0db44db-cc58-437e-9e73-2da3e3ae45e9'}, engine_config={'engine': {'resources': {'limits': {'cpu': 1.0, 'memory': '1Gi'}, 'requests': {'cpu': 1.0, 'memory': '1Gi'}, 'accel': {'qaic': {'aic_enable_depth_first': False, 'ctx_len': 1024, 'full_batch_size': 16, 'mxfp6_matmul': True, 'mxint8_kv_cache': True, 'num_cores': 16, 'num_devices': 4, 'prefill_seq_len': 128}}, 'arch': 'x86', 'gpu': False}}, 'engineAux': {'autoscale': {'type': 'none', 'cpu_utilization': 50.0}, 'images': {'llama-qaic-openai-113': {'resources': {'limits': {'cpu': 4.0, 'memory': '12Gi'}, 'requests': {'cpu': 4.0, 'memory': '12Gi'}, 'accel': {'qaic': {'aic_enable_depth_first': False, 'ctx_len': 1024, 'full_batch_size': 16, 'mxfp6_matmul': True, 'mxint8_kv_cache': True, 'num_cores': 16, 'num_devices': 4, 'prefill_seq_len': 128}}, 'arch': 'x86', 'gpu': False}}}}}, id=20, pipeline_name='llamaqaicopenaiedge', pipeline_version_id=466, replaces=[], status='Published', updated_at=datetime.datetime(2025, 7, 16, 18, 51, 2, 396949, tzinfo=tzutc()), user_images=[], created_by='b3be212e-8997-48a5-b5ff-278b00a89903', created_on_version='2025.1.2', edge_bundles=<wallaroo.wallaroo_ml_ops_api_client.types.Unset object at 0x7f1c709dec80>, engine_url='us-west1-docker.pkg.dev/wallaroo-dev-253816/testqaic/engines/proxy/wallaroo/ghcr.io/wallaroolabs/fitzroy-mini-qaic-vllm:v2025.1.0-6261', error=None, helm={'reference': 'us-west1-docker.pkg.dev/wallaroo-dev-253816/testqaic/charts@sha256:bf9847efbca0c798d823afb11820b7e74f802233d0762d60b409b2023ab04d2e', 'values': {}, 'chart': 'us-west1-docker.pkg.dev/wallaroo-dev-253816/testqaic/charts/llamaqaicopenaiedge', 'version': '0.0.1-a0db44db-cc58-437e-9e73-2da3e3ae45e9'}, pipeline_url='us-west1-docker.pkg.dev/wallaroo-dev-253816/testqaic/pipelines/llamaqaicopenaiedge:a0db44db-cc58-437e-9e73-2da3e3ae45e9', pipeline_version_name='a0db44db-cc58-437e-9e73-2da3e3ae45e9', workspace_id=9, workspace_name='younes@wallaroo.ai - Default Workspace', additional_properties={})"
      ]
     },
     "execution_count": 9,
     "metadata": {},
     "output_type": "execute_result"
    }
   ],
   "source": [
    "pipeline.publish(deployment_config=deployment_config)"
   ]
  },
  {
   "cell_type": "markdown",
   "id": "a68b754b",
   "metadata": {},
   "source": [
    "</details>\n",
    "\n",
    "<details>\n",
    "<summary><h3>Deploy on Edge Devices</h3></summary>\n",
    "\n",
    "Deploying ML Models with **Qualcomm QAIC hardware with Intel GPUs** in edge and multi-cloud environments via `docker run` require additional parameters.\n",
    "\n",
    "For QAIC deployments via `docker`, additional parameters are required depending on the devices used.\n",
    "\n",
    "* **For All Devices**:  For all devices on the edge deployment, the parameter `--privileged` is **required**.  The following example is a sample command deploying a Wallaroo pipeline published in an OCI registry on an edge device with QAIC AI accelerators.  Based on the previous example:\n",
    "\n",
    "    ```bash\n",
    "    docker run \\\n",
    "      -p $EDGE_PORT:8080 \\\n",
    "      -e OCI_USERNAME=$OCI_USERNAME \\\n",
    "      -e OCI_PASSWORD=$OCI_PASSWORD \\\n",
    "      -e PIPELINE_URL=us-west1-docker.pkg.dev/wallaroo-dev-253816/testqaic/pipelines/llamaqaicopenaiedge:a0db44db-cc58-437e-9e73-2da3e3ae45e9 \\\n",
    "      -e CONFIG_CPUS=1.0 --cpus=5.0 --memory=13g \\\n",
    "      --privileged \\\n",
    "      us-west1-docker.pkg.dev/wallaroo-dev-253816/testqaic/engines/proxy/wallaroo/ghcr.io/wallaroolabs/fitzroy-mini-qaic-vllm:v2025.1.0-6261\n",
    "    ```\n",
    "\n",
    "* For **specific devices**, each device is specified via the `--device` parameter.  The following example specifies devices `accel4` through `accel7`:\n",
    "\n",
    "    ```bash\n",
    "    docker run \\\n",
    "      -p $EDGE_PORT:8080 \\\n",
    "      -e OCI_USERNAME=$OCI_USERNAME \\\n",
    "      -e OCI_PASSWORD=$OCI_PASSWORD \\\n",
    "      -e PIPELINE_URL=us-west1-docker.pkg.dev/wallaroo-dev-253816/testqaic/pipelines/llamaqaicopenaiedge:a0db44db-cc58-437e-9e73-2da3e3ae45e9 \\\n",
    "      -e CONFIG_CPUS=1.0 --cpus=5.0 --memory=13g \\\n",
    "    --device=/dev/accel/accel4 \\\n",
    "    --device=/dev/accel/accel5 \\\n",
    "    --device=/dev/accel/accel6 \\\n",
    "    --device=/dev/accel/accel7 \\\n",
    "    us-west1-docker.pkg.dev/wallaroo-dev-253816/testqaic/engines/proxy/wallaroo/ghcr.io/wallaroolabs/fitzroy-mini-qaic-vllm:v2025.1.0-6261\n",
    "    ```\n",
    "\n",
    "</details>"
   ]
  }
 ],
 "metadata": {
  "kernelspec": {
   "display_name": "wallaroosdk2025.1.2",
   "language": "python",
   "name": "python3"
  },
  "language_info": {
   "codemirror_mode": {
    "name": "ipython",
    "version": 3
   },
   "file_extension": ".py",
   "mimetype": "text/x-python",
   "name": "python",
   "nbconvert_exporter": "python",
   "pygments_lexer": "ipython3",
   "version": "3.10.18"
  }
 },
 "nbformat": 4,
 "nbformat_minor": 5
}
