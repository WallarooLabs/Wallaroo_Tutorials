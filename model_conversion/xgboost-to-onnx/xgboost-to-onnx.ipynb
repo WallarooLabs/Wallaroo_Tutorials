{
 "cells": [
  {
   "cell_type": "markdown",
   "metadata": {},
   "source": [
    "This tutorial and the assets can be downloaded as part of the [Wallaroo Tutorials repository](https://github.com/WallarooLabs/Wallaroo_Tutorials/tree/main/model_conversion/xgboost-to-onnx).\n",
    "\n",
    "## How to Convert XGBoost to ONNX\n",
    "\n",
    "The following tutorial is a brief example of how to convert a [XGBoost](https://xgboost.readthedocs.io/en/stable/index.html) ML model to the [ONNX](https://onnx.ai/ ) standard.  This allows organizations that have trained XGBoost models to convert them and use them with Wallaroo.\n",
    "\n",
    "This tutorial assumes that you have a Wallaroo instance and are running this Notebook from the Wallaroo Jupyter Hub service."
   ]
  },
  {
   "cell_type": "markdown",
   "metadata": {},
   "source": [
    "This tutorial provides the following:\n",
    "\n",
    "* `housing_model_xgb.pkl`: A pretrained model used as part of the [Notebooks in Production tutorial](https://github.com/WallarooLabs/Wallaroo_Tutorials/tree/main/notebooks_in_prod).  This model has a total of 18 columns."
   ]
  },
  {
   "cell_type": "markdown",
   "metadata": {},
   "source": [
    "## Conversion Process\n",
    "\n",
    "### Libraries\n",
    "\n",
    "The first step is to import our libraries we will be using."
   ]
  },
  {
   "cell_type": "code",
   "execution_count": 8,
   "metadata": {},
   "outputs": [],
   "source": [
    "import onnx\n",
    "from onnxmltools.convert import convert_xgboost\n",
    "\n",
    "from skl2onnx.common.data_types import FloatTensorType, DoubleTensorType"
   ]
  },
  {
   "cell_type": "markdown",
   "metadata": {},
   "source": [
    "### Set Variables\n",
    "\n",
    "The following variables are required to be known before the process can be started:\n",
    "\n",
    "* **number of columns**:  The number of columns used by the model.\n",
    "* **TARGET_OPSET**: Verify the TARGET_OPSET value taht will be used in the conversion process matches the current [Wallaroo model uploads requirements](https://docs.wallaroo.ai/wallaroo-operations-guide/wallaroo-model-management/#upload-models-to-a-workspace)."
   ]
  },
  {
   "cell_type": "code",
   "execution_count": 9,
   "metadata": {},
   "outputs": [],
   "source": [
    "# set the number of columns\n",
    "ncols = 18\n",
    "\n",
    "# derive the opset value\n",
    "\n",
    "# from onnx.defs import onnx_opset_version\n",
    "#from onnxconverter_common.onnx_ex import DEFAULT_OPSET_NUMBER\n",
    "#TARGET_OPSET = min(DEFAULT_OPSET_NUMBER, onnx_opset_version())\n",
    "\n",
    "TARGET_OPSET = 15"
   ]
  },
  {
   "cell_type": "markdown",
   "metadata": {},
   "source": [
    "### Load the XGBoost Model\n",
    "\n",
    "Next we will load our model that has been saved in the `pickle` format and unpickle it."
   ]
  },
  {
   "cell_type": "code",
   "execution_count": 10,
   "metadata": {},
   "outputs": [],
   "source": [
    "# load the xgboost model\n",
    "with open(\"housing_model_xgb.pkl\", \"rb\") as f:\n",
    "    xgboost_model = pickle.load(f)"
   ]
  },
  {
   "cell_type": "markdown",
   "metadata": {},
   "source": [
    "### Conversion Inputs\n",
    "\n",
    "The `convert_xgboost` method has the following format and requires the following inputs:\n",
    "\n",
    "```\n",
    "convert_xgboost({XGBoost Model}, \n",
    "                {XGBoost Model Type},\n",
    "                [\n",
    "                    ('input', \n",
    "                    {Tensor Data Type}([None, {ncols}]))\n",
    "                ],\n",
    "                target_opset={TARGET_OPSET})\n",
    "```\n",
    "    \n",
    "1. **XGBoost Model**:  The XGBoost Model to convert.\n",
    "1. **XGBoost Model Type**: The type of XGBoost model.  In this example is it a `tree-based classifier`.\n",
    "1. **Tensor Data Type**:  Either `FloatTensorType` or `DoubleTensorType` from the `skl2onnx.common.data_types` library.\n",
    "1. **ncols**:  Number of columns in the model.\n",
    "1. **TARGET_OPSET**:  The target opset which can be derived in code showed below."
   ]
  },
  {
   "cell_type": "markdown",
   "metadata": {},
   "source": [
    "## Convert the Model\n",
    "\n",
    "With all of our data in place we can now convert our XBBoost model to ONNX using the `convert_xgboost` method."
   ]
  },
  {
   "cell_type": "code",
   "execution_count": 11,
   "metadata": {},
   "outputs": [],
   "source": [
    "onnx_model_converted = convert_xgboost(xgboost_model, 'tree-based classifier',\n",
    "                             [('input', FloatTensorType([None, ncols]))],\n",
    "                             target_opset=TARGET_OPSET)"
   ]
  },
  {
   "cell_type": "markdown",
   "metadata": {},
   "source": [
    "## Save the Model\n",
    "\n",
    "With the model converted to ONNX, we can now save it and use it in a Wallaroo pipeline."
   ]
  },
  {
   "cell_type": "code",
   "execution_count": 13,
   "metadata": {},
   "outputs": [],
   "source": [
    "onnx.save_model(onnx_model_converted, \"housing_model_xgb.onnx\")"
   ]
  }
 ],
 "metadata": {
  "kernelspec": {
   "display_name": "Python 3.10.8 64-bit",
   "language": "python",
   "name": "python3"
  },
  "language_info": {
   "codemirror_mode": {
    "name": "ipython",
    "version": 3
   },
   "file_extension": ".py",
   "mimetype": "text/x-python",
   "name": "python",
   "nbconvert_exporter": "python",
   "pygments_lexer": "ipython3",
   "version": "3.10.8"
  },
  "vscode": {
   "interpreter": {
    "hash": "b0fa6594d8f4cbf19f97940f81e996739fb7646882a419484c72d19e05852a7e"
   }
  }
 },
 "nbformat": 4,
 "nbformat_minor": 4
}
