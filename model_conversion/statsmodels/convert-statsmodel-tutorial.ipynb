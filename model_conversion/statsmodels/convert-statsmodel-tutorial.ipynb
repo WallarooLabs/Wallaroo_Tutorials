{
 "cells": [
  {
   "cell_type": "markdown",
   "metadata": {},
   "source": [
    "This tutorial and the assets can be downloaded as part of the [Wallaroo Tutorials repository](https://github.com/WallarooLabs/Wallaroo_Tutorials/tree/main/model_conversion/statsmodels).\n",
    "\n",
    "## Introduction\n",
    "\n",
    "Organizations can deploy a Machine Learning (ML) model based on the [statsmodels](https://www.statsmodels.org/stable/index.html) directly into Wallaroo through the following process.  This conversion process transforms the model into an open format that can be run across different frameworks at compiled C-language speeds.\n",
    "\n",
    "This example provides the following:\n",
    "\n",
    "* `train-statsmodel.ipynb`: A sample Jupyter Notebook that trains a sample model.  The model predicts how many bikes will be rented on each of the next 7 days, based on the previous 7 days' bike rentals, temperature, and wind speed.  Additional files to support this example are:\n",
    "  * `day.csv`: Data used to train the sample `statsmodel` example.\n",
    "  * `infer.py`: The inference script that is part of the `statsmodel`.\n",
    "* `convert-statsmodel-tutorial.ipynb`: A sample Jupyter Notebook that demonstrates how to upload, convert, and deploy the `statsmodel` example into a Wallaroo instance.    Additional files to support this example are:\n",
    "  * `bike_day_model.pkl`: A `statsmodel` ML model trained from the `train-statsmodel.ipynb` Notebook.\n",
    "\n",
    "    **IMPORTANT NOTE:** The `statsmodel` ML model is composed of two parts that are contained in the .pkl file:\n",
    "\n",
    "    * The pickled Python runtime expects a dictionary with two keys: `model` and `script`:\n",
    "\n",
    "      * `model`—the pickled model, which will be automatically loaded into the python runtime with the name 'model'\n",
    "      * `script`—the text of the python script to be run, in a format similar to the existing python script steps (i.e. defining a wallaroo_json method which operates on the data).  In this cae, the file `infer.py` is the script used.\n",
    "\n",
    "  * `bike_day_eval.json`: Evaluation data used to test the model's performance."
   ]
  },
  {
   "cell_type": "markdown",
   "metadata": {},
   "source": [
    "## Steps\n",
    "\n",
    "The following steps will perform the following:\n",
    "    \n",
    "1. Upload the `statsmodel` ML model `bike_day_model.pkl` into a Wallaroo.\n",
    "2. Deploy the model into a pipeline.\n",
    "3. Run a test inference.\n",
    "4. Undeploy the pipeline."
   ]
  },
  {
   "cell_type": "markdown",
   "metadata": {},
   "source": [
    "### Import Libraries\n",
    "\n",
    "The first step is to import the libraries that we will need."
   ]
  },
  {
   "cell_type": "code",
   "execution_count": 1,
   "metadata": {},
   "outputs": [],
   "source": [
    "import json\n",
    "import os\n",
    "import datetime\n",
    "\n",
    "import wallaroo\n",
    "from wallaroo.object import EntityNotFoundError"
   ]
  },
  {
   "cell_type": "markdown",
   "metadata": {},
   "source": [
    "### Initialize connection\n",
    "\n",
    "Start a connect to the Wallaroo instance and save the connection into the variable `wl`."
   ]
  },
  {
   "cell_type": "code",
   "execution_count": null,
   "metadata": {},
   "outputs": [],
   "source": [
    "wl = wallaroo.Client()"
   ]
  },
  {
   "cell_type": "markdown",
   "metadata": {},
   "source": [
    "### Set Configurations\n",
    "\n",
    "The following will set the workspace, model name, and pipeline that will be used for this example.  If the workspace or pipeline already exist, then they will assigned for use in this example.  If they do not exist, they will be created based on the names listed below."
   ]
  },
  {
   "cell_type": "code",
   "execution_count": 3,
   "metadata": {},
   "outputs": [],
   "source": [
    "workspace_name = 'bikedayevalworkspace'\n",
    "pipeline_name = 'bikedayevalpipeline'\n",
    "model_name = 'bikedaymodel'\n",
    "model_file_name = 'bike_day_model.pkl'"
   ]
  },
  {
   "cell_type": "markdown",
   "metadata": {},
   "source": [
    "## Set the Workspace and Pipeline\n",
    "\n",
    "This sample code will create or use the existing workspace `bike-day-workspace` as the current workspace."
   ]
  },
  {
   "cell_type": "code",
   "execution_count": 4,
   "metadata": {},
   "outputs": [
    {
     "data": {
      "text/html": [
       "<table><tr><th>name</th> <td>bike-day-evel-pipeline</td></tr><tr><th>created</th> <td>2022-07-05 19:09:22.895067+00:00</td></tr><tr><th>last_updated</th> <td>2022-07-05 19:11:16.553505+00:00</td></tr><tr><th>deployed</th> <td>False</td></tr><tr><th>tags</th> <td></td></tr><tr><th>steps</th> <td>bike-day-model</td></tr></table>"
      ],
      "text/plain": [
       "{'name': 'bike-day-evel-pipeline', 'create_time': datetime.datetime(2022, 7, 5, 19, 9, 22, 895067, tzinfo=tzutc()), 'definition': '[]'}"
      ]
     },
     "execution_count": 4,
     "metadata": {},
     "output_type": "execute_result"
    }
   ],
   "source": [
    "def get_workspace(name):\n",
    "    workspace = None\n",
    "    for ws in wl.list_workspaces():\n",
    "        if ws.name() == name:\n",
    "            workspace= ws\n",
    "    if(workspace == None):\n",
    "        workspace = wl.create_workspace(name)\n",
    "    return workspace\n",
    "\n",
    "def get_pipeline(name):\n",
    "    try:\n",
    "        pipeline = wl.pipelines_by_name(pipeline_name)[0]\n",
    "    except EntityNotFoundError:\n",
    "        pipeline = wl.build_pipeline(pipeline_name)\n",
    "    return pipeline\n",
    "\n",
    "workspace = get_workspace(workspace_name)\n",
    "\n",
    "wl.set_current_workspace(workspace)\n",
    "\n",
    "pipeline = get_pipeline(pipeline_name)\n",
    "pipeline"
   ]
  },
  {
   "cell_type": "markdown",
   "metadata": {},
   "source": [
    "### Upload Pickled Package Statsmodel Model\n",
    "\n",
    "Upload the statsmodel stored into the pickled package `bike_day_model.pkl`.  See the Notebook `train-statsmodel.ipynb` for more details on creating this package.\n",
    "\n",
    "Note that this package is being specified as a `python` configuration."
   ]
  },
  {
   "cell_type": "code",
   "execution_count": 5,
   "metadata": {},
   "outputs": [],
   "source": [
    "file_name = \"bike_day_model.pkl\"\n",
    "\n",
    "bike_day_model = wl.upload_model(model_name, model_file_name).configure(runtime=\"python\")"
   ]
  },
  {
   "cell_type": "markdown",
   "metadata": {},
   "source": [
    "### Deploy the Pipeline\n",
    "\n",
    "We will now add the uploaded model as a step for the pipeline, then deploy it."
   ]
  },
  {
   "cell_type": "code",
   "execution_count": 6,
   "metadata": {},
   "outputs": [
    {
     "data": {
      "text/html": [
       "<table><tr><th>name</th> <td>bike-day-evel-pipeline</td></tr><tr><th>created</th> <td>2022-07-05 19:09:22.895067+00:00</td></tr><tr><th>last_updated</th> <td>2022-07-05 19:11:16.553505+00:00</td></tr><tr><th>deployed</th> <td>False</td></tr><tr><th>tags</th> <td></td></tr><tr><th>steps</th> <td>bike-day-model</td></tr></table>"
      ],
      "text/plain": [
       "{'name': 'bike-day-evel-pipeline', 'create_time': datetime.datetime(2022, 7, 5, 19, 9, 22, 895067, tzinfo=tzutc()), 'definition': \"[{'ModelInference': {'models': [{'name': 'bike-day-model', 'version': 'ff154938-4e49-468e-ac6a-4ee37d62a724', 'sha': 'ba1fc2a6e8b876684f2fd11534ee6212f840f02cbaefaa48615016cb9e90b30c'}]}}]\"}"
      ]
     },
     "execution_count": 6,
     "metadata": {},
     "output_type": "execute_result"
    }
   ],
   "source": [
    "pipeline.add_model_step(bike_day_model)"
   ]
  },
  {
   "cell_type": "code",
   "execution_count": 7,
   "metadata": {},
   "outputs": [
    {
     "name": "stdout",
     "output_type": "stream",
     "text": [
      "Waiting for deployment - this will take up to 45s ................. ok\n"
     ]
    },
    {
     "data": {
      "text/html": [
       "<table><tr><th>name</th> <td>bike-day-evel-pipeline</td></tr><tr><th>created</th> <td>2022-07-05 19:09:22.895067+00:00</td></tr><tr><th>last_updated</th> <td>2022-07-05 20:10:27.589019+00:00</td></tr><tr><th>deployed</th> <td>True</td></tr><tr><th>tags</th> <td></td></tr><tr><th>steps</th> <td>bike-day-model</td></tr></table>"
      ],
      "text/plain": [
       "{'name': 'bike-day-evel-pipeline', 'create_time': datetime.datetime(2022, 7, 5, 19, 9, 22, 895067, tzinfo=tzutc()), 'definition': \"[{'ModelInference': {'models': [{'name': 'bike-day-model', 'version': 'ff154938-4e49-468e-ac6a-4ee37d62a724', 'sha': 'ba1fc2a6e8b876684f2fd11534ee6212f840f02cbaefaa48615016cb9e90b30c'}]}}]\"}"
      ]
     },
     "execution_count": 7,
     "metadata": {},
     "output_type": "execute_result"
    }
   ],
   "source": [
    "pipeline.deploy()"
   ]
  },
  {
   "cell_type": "code",
   "execution_count": 8,
   "metadata": {},
   "outputs": [
    {
     "data": {
      "text/plain": [
       "{'status': 'Running',\n",
       " 'details': None,\n",
       " 'engines': [{'ip': '10.164.3.4',\n",
       "   'name': 'engine-5f75f487c6-9d456',\n",
       "   'status': 'Running',\n",
       "   'reason': None,\n",
       "   'pipeline_statuses': {'pipelines': [{'id': 'bike-day-evel-pipeline',\n",
       "      'status': 'Running'}]},\n",
       "   'model_statuses': {'models': [{'name': 'bike-day-model',\n",
       "      'version': 'ff154938-4e49-468e-ac6a-4ee37d62a724',\n",
       "      'sha': 'ba1fc2a6e8b876684f2fd11534ee6212f840f02cbaefaa48615016cb9e90b30c',\n",
       "      'status': 'Running'}]}}],\n",
       " 'engine_lbs': [{'ip': '10.164.5.61',\n",
       "   'name': 'engine-lb-85846c64f8-khznn',\n",
       "   'status': 'Running',\n",
       "   'reason': None}]}"
      ]
     },
     "execution_count": 8,
     "metadata": {},
     "output_type": "execute_result"
    }
   ],
   "source": [
    "pipeline.status()"
   ]
  },
  {
   "cell_type": "markdown",
   "metadata": {},
   "source": [
    "### Run Inference\n",
    "\n",
    "Perform an inference from the evaluation data JSON file `bike_day_eval.json`."
   ]
  },
  {
   "cell_type": "code",
   "execution_count": 9,
   "metadata": {},
   "outputs": [
    {
     "name": "stdout",
     "output_type": "stream",
     "text": [
      "Waiting for inference response - this will take up to 45s .. ok\n"
     ]
    },
    {
     "data": {
      "text/plain": [
       "[InferenceResult({'check_failures': [],\n",
       "  'elapsed': 5369777,\n",
       "  'model_name': 'bike-day-model',\n",
       "  'model_version': 'ff154938-4e49-468e-ac6a-4ee37d62a724',\n",
       "  'original_data': {'holiday': {'0': 0,\n",
       "                                '1': 0,\n",
       "                                '2': 0,\n",
       "                                '3': 0,\n",
       "                                '4': 0,\n",
       "                                '5': 0,\n",
       "                                '6': 0},\n",
       "                    'temp': {'0': 0.317391,\n",
       "                             '1': 0.365217,\n",
       "                             '2': 0.415,\n",
       "                             '3': 0.54,\n",
       "                             '4': 0.4725,\n",
       "                             '5': 0.3325,\n",
       "                             '6': 0.430435},\n",
       "                    'windspeed': {'0': 0.184309,\n",
       "                                  '1': 0.203117,\n",
       "                                  '2': 0.209579,\n",
       "                                  '3': 0.231017,\n",
       "                                  '4': 0.368167,\n",
       "                                  '5': 0.207721,\n",
       "                                  '6': 0.288783},\n",
       "                    'workingday': {'0': 1,\n",
       "                                   '1': 1,\n",
       "                                   '2': 1,\n",
       "                                   '3': 1,\n",
       "                                   '4': 0,\n",
       "                                   '5': 0,\n",
       "                                   '6': 1}},\n",
       "  'outputs': [{'Json': {'data': [{'forecast': [1882.3784554842296,\n",
       "                                               2130.607915715519,\n",
       "                                               2340.8400538168335,\n",
       "                                               2895.754978556798,\n",
       "                                               2163.65751556893,\n",
       "                                               1509.1792126536425,\n",
       "                                               2431.1838923984033]}],\n",
       "                        'dim': [1],\n",
       "                        'v': 1}}],\n",
       "  'pipeline_name': 'bike-day-evel-pipeline',\n",
       "  'time': 1657051854529})]"
      ]
     },
     "execution_count": 9,
     "metadata": {},
     "output_type": "execute_result"
    }
   ],
   "source": [
    "pipeline.infer_from_file('bike_day_eval.json')"
   ]
  },
  {
   "cell_type": "markdown",
   "metadata": {},
   "source": [
    "### Undeploy the Pipeline\n",
    "\n",
    "Undeploy the pipeline and return the resources back to the Wallaroo instance."
   ]
  },
  {
   "cell_type": "code",
   "execution_count": 10,
   "metadata": {},
   "outputs": [
    {
     "name": "stdout",
     "output_type": "stream",
     "text": [
      "Waiting for undeployment - this will take up to 45s ................................ ok\n"
     ]
    },
    {
     "data": {
      "text/html": [
       "<table><tr><th>name</th> <td>bike-day-evel-pipeline</td></tr><tr><th>created</th> <td>2022-07-05 19:09:22.895067+00:00</td></tr><tr><th>last_updated</th> <td>2022-07-05 20:10:27.589019+00:00</td></tr><tr><th>deployed</th> <td>False</td></tr><tr><th>tags</th> <td></td></tr><tr><th>steps</th> <td>bike-day-model</td></tr></table>"
      ],
      "text/plain": [
       "{'name': 'bike-day-evel-pipeline', 'create_time': datetime.datetime(2022, 7, 5, 19, 9, 22, 895067, tzinfo=tzutc()), 'definition': \"[{'ModelInference': {'models': [{'name': 'bike-day-model', 'version': 'ff154938-4e49-468e-ac6a-4ee37d62a724', 'sha': 'ba1fc2a6e8b876684f2fd11534ee6212f840f02cbaefaa48615016cb9e90b30c'}]}}]\"}"
      ]
     },
     "execution_count": 10,
     "metadata": {},
     "output_type": "execute_result"
    }
   ],
   "source": [
    "pipeline.undeploy()"
   ]
  },
  {
   "cell_type": "code",
   "execution_count": null,
   "metadata": {},
   "outputs": [],
   "source": []
  }
 ],
 "metadata": {
  "kernelspec": {
   "display_name": "Python 3",
   "language": "python",
   "name": "python3"
  },
  "language_info": {
   "codemirror_mode": {
    "name": "ipython",
    "version": 3
   },
   "file_extension": ".py",
   "mimetype": "text/x-python",
   "name": "python",
   "nbconvert_exporter": "python",
   "pygments_lexer": "ipython3",
   "version": "3.10.6"
  },
  "vscode": {
   "interpreter": {
    "hash": "b0fa6594d8f4cbf19f97940f81e996739fb7646882a419484c72d19e05852a7e"
   }
  }
 },
 "nbformat": 4,
 "nbformat_minor": 4
}
