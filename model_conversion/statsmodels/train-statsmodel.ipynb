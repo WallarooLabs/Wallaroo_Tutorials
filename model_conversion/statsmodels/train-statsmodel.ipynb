{
 "cells": [
  {
   "cell_type": "markdown",
   "metadata": {},
   "source": [
    "## Introduction\n",
    "\n",
    "This sample Notebook creates a [statsmodels](https://www.statsmodels.org/stable/index.html) Machine Learning (ML) model that can be used with the `convert-statsmodel-tutorial.ipynb` tutorial.\n",
    "\n",
    "This example provides the following:\n",
    "\n",
    "* `train-statsmodel.ipynb`: A sample Jupyter Notebook that trains a sample model.  The model predicts how many bikes will be rented on each of the next 7 days, based on the previous 7 days' bike rentals, temperature, and wind speed.\n",
    "   Additional files to support this example are:\n",
    "  * `day.csv`: Data used to train the sample `statsmodel` example.\n",
    "  * `infer.py`: The inference script that is part of the `statsmodel`.\n",
    "* `convert-statsmodel-tutorial.ipynb`: A sample Jupyter Notebook that demonstrates how to upload, convert, and deploy the `statsmodel` example into a Wallaroo instance.    Additional files to support this example are:\n",
    "  * `bike_day_model.pkl`: A `statsmodel` ML model trained from the `train-statsmodel.ipynb` Notebook.\n",
    "  * `bike_day_eval.json`: Evaluation data used to test the model's performance.\n",
    "\n"
   ]
  },
  {
   "cell_type": "markdown",
   "metadata": {},
   "source": [
    "## Steps\n",
    "\n",
    "### Import Libraries\n",
    "\n",
    "Start by importing the libraries we will need to train the model."
   ]
  },
  {
   "cell_type": "code",
   "execution_count": 1,
   "metadata": {},
   "outputs": [],
   "source": [
    "import pandas as pd\n",
    "import datetime"
   ]
  },
  {
   "cell_type": "markdown",
   "metadata": {},
   "source": [
    "### Train the Model\n",
    "\n",
    "Load the data from the file `day.csv` and prepare it to be used in the training."
   ]
  },
  {
   "cell_type": "code",
   "execution_count": 2,
   "metadata": {},
   "outputs": [],
   "source": [
    "bike_day_frame = pd.read_csv(\n",
    "        'day.csv',\n",
    "    low_memory=False)\n",
    "\n",
    "bike_day_frame['date'] = pd.to_datetime(bike_day_frame['dteday']).dt.date\n",
    "assert bike_day_frame['date'][0] == datetime.datetime.fromisoformat('2011-01-01').date()\n",
    "\n",
    "# limit down to just the columns I want\n",
    "extra_regressors = [\"temp\", \"holiday\", \"workingday\", \"windspeed\"] \n",
    "bike_day_frame = bike_day_frame.loc[:, ['date', 'cnt'] + extra_regressors]\n",
    "\n",
    "# get dates we want to work with\n",
    "startday = datetime.datetime.fromisoformat('2011-03-15').date() # day of first forecast\n",
    "nforecast = 7\n",
    "# limit to range we want\n",
    "delta_days = (bike_day_frame['date'] - startday).dt.days"
   ]
  },
  {
   "cell_type": "markdown",
   "metadata": {},
   "source": [
    "### Split and Train\n",
    "\n",
    "With the data loaded, we can now train the model."
   ]
  },
  {
   "cell_type": "code",
   "execution_count": 3,
   "metadata": {},
   "outputs": [],
   "source": [
    "# limit down to the training period (basically, delta_days < 0) and the days we want to forecast\n",
    "training_frame = bike_day_frame.loc[(delta_days < 0), :].reset_index(drop=True, inplace=False)\n",
    "evaluation_frame = bike_day_frame.loc[(delta_days >= 0) & (delta_days<nforecast), :].reset_index(drop=True, inplace=False)"
   ]
  },
  {
   "cell_type": "code",
   "execution_count": 5,
   "metadata": {},
   "outputs": [],
   "source": [
    "from statsmodels.tsa.statespace.sarimax import SARIMAX\n",
    "model = SARIMAX(training_frame.cnt, training_frame.loc[:, extra_regressors], order=(1,0,1)).fit(disp=False)"
   ]
  },
  {
   "cell_type": "markdown",
   "metadata": {},
   "source": [
    "### Create Pickle Package\n",
    "\n",
    "The pickled Python runtime expects a dictionary with two keys: `model` and `script`:\n",
    "\n",
    "* `model`—the pickled model, which will be automatically loaded into the python runtime with the name 'model'\n",
    "* `script`—the text of the python script to be run, in a format similar to the existing python script steps (i.e. defining a wallaroo_json method which operates on the data)\n",
    "\n",
    "In this case, we use `infer.py` as the source for our python script, which has the following contents:\n",
    "```python\n",
    "import json\n",
    "import pandas as pd\n",
    "\n",
    "\n",
    "def wallaroo_json(data):\n",
    "    obj = json.loads(data)\n",
    "    evaluation_frame = pd.DataFrame.from_dict(obj)\n",
    "    extra_regressors = [\"temp\", \"holiday\", \"workingday\", \"windspeed\"]\n",
    "    forecast = model.forecast(steps=7, exog=evaluation_frame.loc[:, extra_regressors])\n",
    "\n",
    "    return {\"forecast\": forecast.tolist()}\n",
    "```"
   ]
  },
  {
   "cell_type": "code",
   "execution_count": 6,
   "metadata": {},
   "outputs": [],
   "source": [
    "# create the pickled dictionary\n",
    "\n",
    "import pickle\n",
    "\n",
    "# add the model\n",
    "package = {\n",
    "    'model': model\n",
    "}\n",
    "\n",
    "# add the text of the inference script\n",
    "with open('infer.py', 'r') as f:\n",
    "    package['script'] = f.read()\n",
    "\n",
    "# save off your pickled file\n",
    "pickle.dump(package, open(\"bike_day_model.pkl\",\"wb\"))"
   ]
  },
  {
   "cell_type": "markdown",
   "metadata": {},
   "source": [
    "### Prepare evaluation data\n",
    "\n",
    "For ease of inference, we save off the evaluation data to a separate json file."
   ]
  },
  {
   "cell_type": "code",
   "execution_count": 7,
   "metadata": {},
   "outputs": [],
   "source": [
    "# save off the evaluation frame json, too\n",
    "with open(\"bike_day_eval.json\", \"w\") as f:\n",
    "    f.write(evaluation_frame.loc[:, extra_regressors].to_json())"
   ]
  }
 ],
 "metadata": {
  "kernelspec": {
   "display_name": "Python 3.10.6 64-bit",
   "language": "python",
   "name": "python3"
  },
  "language_info": {
   "codemirror_mode": {
    "name": "ipython",
    "version": 3
   },
   "file_extension": ".py",
   "mimetype": "text/x-python",
   "name": "python",
   "nbconvert_exporter": "python",
   "pygments_lexer": "ipython3",
   "version": "3.10.6"
  },
  "vscode": {
   "interpreter": {
    "hash": "b0fa6594d8f4cbf19f97940f81e996739fb7646882a419484c72d19e05852a7e"
   }
  }
 },
 "nbformat": 4,
 "nbformat_minor": 4
}
