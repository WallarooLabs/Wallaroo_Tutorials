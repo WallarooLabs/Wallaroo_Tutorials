{
 "cells": [
  {
   "cell_type": "markdown",
   "metadata": {},
   "source": [
    "## Auto-Conversion And Upload Tutorial\n",
    "\n",
    "Machine Learning (ML) models can be converted into a Wallaroo and uploaded into Wallaroo workspace using the Wallaroo Client `convert_model(path, source_type, conversion_arguments)` method.  This conversion process transforms the model into an open format that can be run across different frameworks at compiled C-language speeds.\n",
    "\n",
    "The three input parameters are:\n",
    "\n",
    "* `path` (STRING):  The path to the ML model file.\n",
    "* `source_type` (ModelConversionSource): The type of ML model to be converted.  As of this time Wallaroo auto-conversion supports the following source types and their associated `ModelConversionSource`:\n",
    "  * **sklearn**: `ModelConversionSource.SKLEARN`\n",
    "  * **xgboost**: `ModelConversionSource.XGBOOST`\n",
    "* `conversion_arguments`:  The arguments for the conversion:\n",
    "  * `name`: The name of the model being converted.\n",
    "  * `comment`: Any comments for the model.\n",
    "  * `number_of_columns`: The number of columns the model was trained for.\n",
    "  * `input_type`: The ModelConversationInputType, typically `Float` or `Double` depending on the model.\n",
    "  \n",
    "The following tutorial demonstrates how to convert a **sklearn** Linear Model and a **XGBoost** Regression Model, and upload them into a Wallaroo Workspace.  The following is provided for the tutorial:\n",
    "\n",
    "* `sklearn-linear-model.pickle`: A sklearn linear model.  An example of training the model is provided in the Jupyter Notebook `sklearn-linear-model-example.ipynb`.  It has 25 columns.\n",
    "* `xgb_reg.pickle`:  A XGBoost regression model.  An example of training the model is provided in the Jupyter Notebook `xgboost-regression-model-example.ipynb`.  It has 25 columns."
   ]
  },
  {
   "cell_type": "markdown",
   "metadata": {},
   "source": [
    "## Steps\n",
    "\n",
    "### Prerequisites\n",
    "\n",
    "Before starting, the following must be available:\n",
    "\n",
    "* The model to upload into a workspace.\n",
    "* The number of columns the model was trained for."
   ]
  },
  {
   "cell_type": "markdown",
   "metadata": {},
   "source": [
    "### Import Libraries\n",
    "\n",
    "Import the libraries that will be used for the auto-conversion process."
   ]
  },
  {
   "cell_type": "code",
   "execution_count": 1,
   "metadata": {},
   "outputs": [],
   "source": [
    "import pickle\n",
    "import json\n",
    "\n",
    "import wallaroo\n",
    "\n",
    "from wallaroo.ModelConversion import ConvertSKLearnArguments, ConvertXGBoostArgs, ModelConversionSource, ModelConversionInputType\n",
    "from wallaroo.object import EntityNotFoundError"
   ]
  },
  {
   "cell_type": "markdown",
   "metadata": {},
   "source": [
    "The following code is used to either connect to an existing workspace or to create a new one.  For more details on working with workspaces, see the [Wallaroo Workspace Management Guide](https://docs.wallaroo.ai/wallaroo-operations-guide/wallaroo-workspace-management/)."
   ]
  },
  {
   "cell_type": "markdown",
   "metadata": {},
   "source": [
    "### Connect to Wallaroo\n",
    "\n",
    "Connect to your Wallaroo instance."
   ]
  },
  {
   "cell_type": "code",
   "execution_count": null,
   "metadata": {},
   "outputs": [],
   "source": [
    "wl = wallaroo.Client()"
   ]
  },
  {
   "cell_type": "markdown",
   "metadata": {},
   "source": [
    "### Set the Workspace\n",
    "\n",
    "We'll connect or create the workspace `testautoconversion` and use it for our model testing."
   ]
  },
  {
   "cell_type": "code",
   "execution_count": null,
   "metadata": {},
   "outputs": [],
   "source": [
    "workspace_name = 'testautoconversion'\n"
   ]
  },
  {
   "cell_type": "code",
   "execution_count": 2,
   "metadata": {},
   "outputs": [],
   "source": [
    "def get_workspace(name):\n",
    "    workspace = None\n",
    "    for ws in wl.list_workspaces():\n",
    "        if ws.name() == name:\n",
    "            workspace= ws\n",
    "    if(workspace == None):\n",
    "        workspace = wl.create_workspace(name)\n",
    "    return workspace"
   ]
  },
  {
   "cell_type": "code",
   "execution_count": 4,
   "metadata": {},
   "outputs": [
    {
     "data": {
      "text/plain": [
       "{'name': 'testautoconversion', 'id': 12, 'archived': False, 'created_by': '13f4ce0d-cb22-4a5c-b07b-c65e4d730315', 'created_at': '2022-08-02T22:16:30.552476+00:00', 'models': [], 'pipelines': []}"
      ]
     },
     "execution_count": 4,
     "metadata": {},
     "output_type": "execute_result"
    }
   ],
   "source": [
    "workspace = get_workspace(workspace_name)\n",
    "\n",
    "wl.set_current_workspace(workspace)\n",
    "\n",
    "wl.get_current_workspace()"
   ]
  },
  {
   "cell_type": "markdown",
   "metadata": {},
   "source": [
    "### Set the Model Conversion Arguments\n",
    "\n",
    "We'll create two different configurations, one for each of our models:\n",
    "\n",
    "* `sklearn_model_conversion_args`: Used for our sklearn model.\n",
    "* `xgboost_model_converstion_args`: Used for our XGBoost model."
   ]
  },
  {
   "cell_type": "code",
   "execution_count": 5,
   "metadata": {},
   "outputs": [],
   "source": [
    "# The number of columns\n",
    "NF=25\n",
    "\n",
    "sklearn_model_conversion_args = ConvertSKLearnArguments(\n",
    "    name=\"lm-test\",\n",
    "    comment=\"test linear regression\",\n",
    "    number_of_columns=NF,\n",
    "    input_type=ModelConversionInputType.Double\n",
    ")\n",
    "sklearn_model_conversion_type = ModelConversionSource.SKLEARN\n",
    "\n",
    "xgboost_model_conversion_args = ConvertXGBoostArgs(\n",
    "    name=\"xgb-test-reg\",\n",
    "    comment=\"xgboost regression model test\",\n",
    "    number_of_columns=NF,\n",
    "    input_type=ModelConversionInputType.Float32\n",
    ")\n",
    "xgboost_model_conversion_type = ModelConversionSource.XGBOOST"
   ]
  },
  {
   "cell_type": "markdown",
   "metadata": {},
   "source": [
    "### Convert the Models\n",
    "\n",
    "The `convert_model` method converts the model using the arguments, and uploads it into the current workspace - in this case, `testconversion`.  Once complete, we can run `get_current_workspace` to verify that the models were uploaded."
   ]
  },
  {
   "cell_type": "code",
   "execution_count": 6,
   "metadata": {},
   "outputs": [
    {
     "data": {
      "text/plain": [
       "{'name': 'xgb-test-reg', 'version': '9ade0e7a-dc3f-4935-8974-ed8bda12d148', 'file_name': '39c215bb-ae23-4a05-b520-aa0b8d94ba42-converted.onnx', 'last_update_time': datetime.datetime(2022, 8, 3, 14, 26, 58, 413122, tzinfo=tzutc())}"
      ]
     },
     "execution_count": 6,
     "metadata": {},
     "output_type": "execute_result"
    }
   ],
   "source": [
    "# converts and uploads the sklearn model.\n",
    "wl.convert_model('sklearn-linear-model.pickle', sklearn_model_conversion_type, sklearn_model_conversion_args)\n",
    "\n",
    "# converts and uploads the XGBoost model.\n",
    "wl.convert_model('xgb_reg.pickle', xgboost_model_conversion_type, xgboost_model_conversion_args)"
   ]
  },
  {
   "cell_type": "code",
   "execution_count": 7,
   "metadata": {},
   "outputs": [
    {
     "data": {
      "text/plain": [
       "{'name': 'testautoconversion', 'id': 12, 'archived': False, 'created_by': '13f4ce0d-cb22-4a5c-b07b-c65e4d730315', 'created_at': '2022-08-02T22:16:30.552476+00:00', 'models': [{'name': 'lm-test', 'version': '2227f4a5-3139-4bc8-844c-3587546f326a', 'file_name': '2fb7d46d-d92f-4371-872c-5300c52188bb-converted.onnx', 'last_update_time': datetime.datetime(2022, 8, 3, 14, 26, 55, 892457, tzinfo=tzutc())}, {'name': 'xgb-test-reg', 'version': '9ade0e7a-dc3f-4935-8974-ed8bda12d148', 'file_name': '39c215bb-ae23-4a05-b520-aa0b8d94ba42-converted.onnx', 'last_update_time': datetime.datetime(2022, 8, 3, 14, 26, 58, 413122, tzinfo=tzutc())}], 'pipelines': []}"
      ]
     },
     "execution_count": 7,
     "metadata": {},
     "output_type": "execute_result"
    }
   ],
   "source": [
    "wl.get_current_workspace()"
   ]
  }
 ],
 "metadata": {
  "kernelspec": {
   "display_name": "Python 3",
   "language": "python",
   "name": "python3"
  },
  "language_info": {
   "codemirror_mode": {
    "name": "ipython",
    "version": 3
   },
   "file_extension": ".py",
   "mimetype": "text/x-python",
   "name": "python",
   "nbconvert_exporter": "python",
   "pygments_lexer": "ipython3",
   "version": "3.10.6"
  },
  "vscode": {
   "interpreter": {
    "hash": "b0fa6594d8f4cbf19f97940f81e996739fb7646882a419484c72d19e05852a7e"
   }
  }
 },
 "nbformat": 4,
 "nbformat_minor": 4
}
