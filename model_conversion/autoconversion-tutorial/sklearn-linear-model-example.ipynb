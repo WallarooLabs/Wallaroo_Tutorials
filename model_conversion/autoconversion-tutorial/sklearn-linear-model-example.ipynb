{
 "cells": [
  {
   "cell_type": "markdown",
   "metadata": {},
   "source": [
    "## Sklearn Linear Regression Model Generation\n",
    "  \n",
    "The following tutorial demonstrates how to generate a **sklearn** Linear Regression Model.  This is used as part of the `auto-convert-to-onnx-tutorial.ipynb` tutorial."
   ]
  },
  {
   "cell_type": "code",
   "execution_count": 5,
   "metadata": {},
   "outputs": [],
   "source": [
    "import numpy as np\n",
    "import pandas as pd\n",
    "\n",
    "import sklearn\n",
    "import sklearn.linear_model\n",
    "import sklearn.datasets\n",
    "\n",
    "import pickle\n",
    "import json\n",
    "\n",
    "import wallaroo\n",
    "\n",
    "from wallaroo.ModelConversion import ConvertSKLearnArguments, ModelConversionSource, ModelConversionInputType"
   ]
  },
  {
   "cell_type": "markdown",
   "metadata": {},
   "source": [
    "# Linear Regression"
   ]
  },
  {
   "cell_type": "code",
   "execution_count": 7,
   "metadata": {},
   "outputs": [
    {
     "data": {
      "text/plain": [
       "LinearRegression()"
      ]
     },
     "execution_count": 7,
     "metadata": {},
     "output_type": "execute_result"
    }
   ],
   "source": [
    "# create data\n",
    "N = 1000\n",
    "Neval = 5\n",
    "NF = 25\n",
    "Ninformative = 10\n",
    "\n",
    "X, Y = sklearn.datasets.make_regression(n_samples=N, n_features=NF, n_informative=Ninformative)\n",
    "\n",
    "Ntrain = N - Neval\n",
    "Xtrain = X[0:Ntrain, :]\n",
    "Ytrain = Y[0:Ntrain]\n",
    "\n",
    "Xeval = X[Ntrain:N, :]\n",
    "Yeval = Y[Ntrain:N]\n",
    "\n",
    "# create and fit model\n",
    "lm = sklearn.linear_model.LinearRegression()\n",
    "lm.fit(Xtrain, Ytrain)"
   ]
  },
  {
   "cell_type": "code",
   "execution_count": 8,
   "metadata": {},
   "outputs": [
    {
     "data": {
      "text/plain": [
       "array([ 173.41230126,   55.88947637,  -94.05667871, -147.37732616,\n",
       "       -137.24328133])"
      ]
     },
     "execution_count": 8,
     "metadata": {},
     "output_type": "execute_result"
    }
   ],
   "source": [
    "# predict locally\n",
    "lm.predict(Xeval)"
   ]
  },
  {
   "cell_type": "code",
   "execution_count": 9,
   "metadata": {},
   "outputs": [],
   "source": [
    "with open('sklearn-linear-model.pickle', 'wb') as f:\n",
    "    pickle.dump(lm, f)"
   ]
  }
 ],
 "metadata": {
  "kernelspec": {
   "display_name": "Python 3",
   "language": "python",
   "name": "python3"
  },
  "language_info": {
   "codemirror_mode": {
    "name": "ipython",
    "version": 3
   },
   "file_extension": ".py",
   "mimetype": "text/x-python",
   "name": "python",
   "nbconvert_exporter": "python",
   "pygments_lexer": "ipython3",
   "version": "3.8.6"
  }
 },
 "nbformat": 4,
 "nbformat_minor": 4
}
