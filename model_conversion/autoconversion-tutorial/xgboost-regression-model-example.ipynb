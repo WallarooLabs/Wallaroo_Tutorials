{
 "cells": [
  {
   "cell_type": "markdown",
   "metadata": {},
   "source": [
    "## XBBoost Regression Model Generation\n",
    "  \n",
    "The following tutorial demonstrates how to generate a **XGBoost** Regression Model.  This is used as part of the `auto-convert-to-onnx-tutorial.ipynb` tutorial."
   ]
  },
  {
   "cell_type": "code",
   "execution_count": 1,
   "metadata": {},
   "outputs": [],
   "source": [
    "import numpy as np\n",
    "import pandas as pd\n",
    "\n",
    "import sklearn\n",
    "import sklearn.datasets\n",
    "\n",
    "import xgboost as xgb\n",
    "\n",
    "import pickle\n",
    "import json"
   ]
  },
  {
   "cell_type": "markdown",
   "metadata": {},
   "source": [
    "# Regression"
   ]
  },
  {
   "cell_type": "code",
   "execution_count": 2,
   "metadata": {},
   "outputs": [
    {
     "name": "stdout",
     "output_type": "stream",
     "text": [
      "(1000, 25)\n",
      "(1000, 25)\n",
      "(5, 25)\n"
     ]
    }
   ],
   "source": [
    "# create data\n",
    "Ntrain = 1000\n",
    "Nvalid = 1000\n",
    "Neval = 5\n",
    "N = Ntrain+Nvalid+Neval\n",
    "\n",
    "NF = 25\n",
    "Ninformative = 10\n",
    "\n",
    "X, Y = sklearn.datasets.make_regression(n_samples=N, n_features=NF, n_informative=Ninformative)\n",
    "\n",
    "row_use = np.array(['train']*Ntrain + ['validate']*Nvalid + ['eval']*Neval)\n",
    "\n",
    "\n",
    "Xtrain = X[row_use=='train', :]\n",
    "Ytrain = Y[row_use=='train']\n",
    "\n",
    "Xvalid = X[row_use=='validate', :]\n",
    "Yvalid = Y[row_use=='validate']\n",
    "\n",
    "Xeval = X[row_use=='eval', :]\n",
    "Yeval = Y[row_use=='eval']\n",
    "\n",
    "print(Xtrain.shape)\n",
    "print(Xvalid.shape)\n",
    "print(Xeval.shape)"
   ]
  },
  {
   "cell_type": "code",
   "execution_count": 3,
   "metadata": {},
   "outputs": [
    {
     "data": {
      "text/plain": [
       "XGBRegressor(base_score=0.5, booster='gbtree', colsample_bylevel=1,\n",
       "             colsample_bynode=1, colsample_bytree=1, gamma=0, gpu_id=-1,\n",
       "             importance_type='gain', interaction_constraints='',\n",
       "             learning_rate=0.300000012, max_delta_step=0, max_depth=6,\n",
       "             min_child_weight=1, missing=nan, monotone_constraints='()',\n",
       "             n_estimators=100, n_jobs=2, nthread=2, num_parallel_tree=1,\n",
       "             random_state=0, reg_alpha=0, reg_lambda=1, scale_pos_weight=1,\n",
       "             subsample=1, tree_method='exact', validate_parameters=1,\n",
       "             verbosity=None)"
      ]
     },
     "execution_count": 3,
     "metadata": {},
     "output_type": "execute_result"
    }
   ],
   "source": [
    "# create and fit model\n",
    "xgb_reg = xgb.XGBRegressor(nthread=2)\n",
    "xgb_reg.fit(\n",
    "    Xtrain,\n",
    "    Ytrain,\n",
    "    eval_set=[(Xtrain, Ytrain), (Xvalid, Yvalid)],\n",
    "    verbose=False,\n",
    "    early_stopping_rounds=20\n",
    ")"
   ]
  },
  {
   "cell_type": "code",
   "execution_count": 4,
   "metadata": {},
   "outputs": [
    {
     "data": {
      "text/plain": [
       "array([ 154.1054  ,  160.67448 ,  -49.945793,  -98.16371 , -195.32375 ],\n",
       "      dtype=float32)"
      ]
     },
     "execution_count": 4,
     "metadata": {},
     "output_type": "execute_result"
    }
   ],
   "source": [
    "# predict locally\n",
    "xgb_reg.predict(Xeval)"
   ]
  },
  {
   "cell_type": "code",
   "execution_count": 5,
   "metadata": {},
   "outputs": [],
   "source": [
    "with open('xgb_reg.pickle', 'wb') as f:\n",
    "    pickle.dump(xgb_reg, f)"
   ]
  }
 ],
 "metadata": {
  "kernelspec": {
   "display_name": "Python 3.10.6 64-bit",
   "language": "python",
   "name": "python3"
  },
  "language_info": {
   "codemirror_mode": {
    "name": "ipython",
    "version": 3
   },
   "file_extension": ".py",
   "mimetype": "text/x-python",
   "name": "python",
   "nbconvert_exporter": "python",
   "pygments_lexer": "ipython3",
   "version": "3.10.6"
  },
  "vscode": {
   "interpreter": {
    "hash": "b0fa6594d8f4cbf19f97940f81e996739fb7646882a419484c72d19e05852a7e"
   }
  }
 },
 "nbformat": 4,
 "nbformat_minor": 4
}
