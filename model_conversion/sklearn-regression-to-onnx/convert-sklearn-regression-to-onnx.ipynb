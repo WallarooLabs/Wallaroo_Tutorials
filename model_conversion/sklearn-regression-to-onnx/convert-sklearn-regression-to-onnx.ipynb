{
 "cells": [
  {
   "cell_type": "markdown",
   "metadata": {},
   "source": [
    "This tutorial and the assets can be downloaded as part of the [Wallaroo Tutorials repository](https://github.com/WallarooLabs/Wallaroo_Tutorials/tree/main/model_conversion/sklearn-regression-to-onnx).\n",
    "\n",
    "## How to Convert sk-learn Regression Model to ONNX\n",
    "\n",
    "The following tutorial is a brief example of how to convert a [scikit-learn](https://scikit-learn.org/stable/) (aka sk-learn) regression ML model to the [ONNX](https://onnx.ai/ ).\n",
    "\n",
    "This tutorial assumes that you have a Wallaroo instance and are running this Notebook from the Wallaroo Jupyter Hub service."
   ]
  },
  {
   "attachments": {},
   "cell_type": "markdown",
   "metadata": {},
   "source": [
    "This tutorial provides the following:\n",
    "\n",
    "* `demand_curve.pickle`: a demand curve trained sk-learn model.  Once this file is converted to ONNX format, it can be used as part of the [Demand Curve Pipeline Tutorial](/demand_curve/demandcurve_demo.ipynb).\n",
    "\n",
    "    This model contains 3 columns: `UnitPrice`, `cust_known`, and `UnitPriceXcust_known`.\n",
    "\n",
    "## Prerequisites\n",
    "\n",
    "* An installed Wallaroo instance.\n",
    "* The following Python libraries installed:\n",
    "  * `pickle`\n",
    "  * [`skl2onnx`](https://pypi.org/project/skl2onnx/)\n",
    "  * [`onnxmltools`](https://pypi.org/project/onnxmltools/)\n",
    "  * [`onnx`](https://pypi.org/project/onnx/)\n",
    "  * `warnings`"
   ]
  },
  {
   "cell_type": "markdown",
   "metadata": {},
   "source": [
    "## Conversion Process\n",
    "\n",
    "### Libraries\n",
    "\n",
    "The first step is to import our libraries we will be using."
   ]
  },
  {
   "cell_type": "code",
   "execution_count": 1,
   "metadata": {},
   "outputs": [],
   "source": [
    "# Used to load the sk-learn model\n",
    "import pickle\n",
    "\n",
    "# Used for the conversion process\n",
    "import onnx, skl2onnx, onnxmltools\n",
    "from skl2onnx.common.data_types import FloatTensorType\n",
    "from skl2onnx.common.data_types import DoubleTensorType\n",
    "\n",
    "# ignoring warnings for demonstration\n",
    "import warnings\n",
    "warnings.filterwarnings('ignore')"
   ]
  },
  {
   "cell_type": "markdown",
   "metadata": {},
   "source": [
    "Next let's define our `model_to_onnx` method for converting a sk-learn model to ONNX. This has the following inputs:\n",
    "\n",
    "* `model`:  The sk-learn model we're converting.\n",
    "* `cols`: The number of inputs the model expects\n",
    "* `input_type`: Determines how to manage float values, which can either be `DoubleTensorType` or `FloatTensorType`.\n"
   ]
  },
  {
   "cell_type": "code",
   "execution_count": 2,
   "metadata": {},
   "outputs": [],
   "source": [
    "# convert model to ONNX\n",
    "\n",
    "def model_to_onnx(model, cols, *, input_type='Double'):\n",
    "    input_type_lower=input_type.lower()\n",
    "    # How to manage float values\n",
    "    if input_type=='Double':\n",
    "        tensor_type=DoubleTensorType\n",
    "    elif input_type=='Float':\n",
    "        tensor_type=FloatTensorType\n",
    "    else:\n",
    "        raise ValueError(\"bad input type\")\n",
    "    tensor_size=cols\n",
    "    initial_type=[(f'{input_type_lower}_input', tensor_type([None, tensor_size]))]\n",
    "    onnx_model=onnxmltools.convert_sklearn(model,initial_types=initial_type)\n",
    "    return onnx_model"
   ]
  },
  {
   "cell_type": "markdown",
   "metadata": {},
   "source": [
    "With our method defined, now it's time to convert.  Let's load our sk-learn model and save it into the variable `sklearn_model`."
   ]
  },
  {
   "cell_type": "code",
   "execution_count": 3,
   "metadata": {},
   "outputs": [],
   "source": [
    "# pickle the model, so I can try the Wallaroo converter on it\n",
    "\n",
    "sklearn_model = pickle.load(open('./demand_curve.pickle', 'rb'))"
   ]
  },
  {
   "cell_type": "markdown",
   "metadata": {},
   "source": [
    "Now we'll convert our `sklearn-model` into the variable `onnx_model` using our `model_to_onnx` method.  Recall that our `sklearn-model` has 3 columns."
   ]
  },
  {
   "cell_type": "code",
   "execution_count": 4,
   "metadata": {},
   "outputs": [],
   "source": [
    "onnx_model_converted = model_to_onnx(sklearn_model, 3)"
   ]
  },
  {
   "cell_type": "markdown",
   "metadata": {},
   "source": [
    "Now we can save our model to a `onnx` file."
   ]
  },
  {
   "cell_type": "code",
   "execution_count": 5,
   "metadata": {},
   "outputs": [],
   "source": [
    "onnx.save_model(onnx_model_converted, \"demand_curve.onnx\")"
   ]
  }
 ],
 "metadata": {
  "kernelspec": {
   "display_name": "arrowtests",
   "language": "python",
   "name": "python3"
  },
  "language_info": {
   "codemirror_mode": {
    "name": "ipython",
    "version": 3
   },
   "file_extension": ".py",
   "mimetype": "text/x-python",
   "name": "python",
   "nbconvert_exporter": "python",
   "pygments_lexer": "ipython3",
   "version": "3.8.12"
  },
  "vscode": {
   "interpreter": {
    "hash": "7dda4bf3640b7fafcd1648658b879b4cc9f6ba6084e8fb356fdaaa1a461d1690"
   }
  }
 },
 "nbformat": 4,
 "nbformat_minor": 4
}
