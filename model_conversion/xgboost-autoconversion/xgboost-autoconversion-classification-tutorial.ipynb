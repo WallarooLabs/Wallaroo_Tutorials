{
 "cells": [
  {
   "attachments": {},
   "cell_type": "markdown",
   "metadata": {},
   "source": [
    "This tutorial and the assets can be downloaded as part of the [Wallaroo Tutorials repository](https://github.com/WallarooLabs/Wallaroo_Tutorials/tree/main/model_conversion/xgboost-autoconversion).\n",
    "\n",
    "## Introduction\n",
    "\n",
    "The following tutorial is a brief example of how to convert a [XGBoost](https://xgboost.readthedocs.io/en/stable/index.html) Classification ML model with the `convert_model` method and upload it into your Wallaroo instance.\n",
    "\n",
    "This tutorial assumes that you have a Wallaroo instance and are running this Notebook from the Wallaroo Jupyter Hub service.\n",
    "\n",
    "* Convert a `XGBoost` Classification ML model and upload it into the Wallaroo engine.\n",
    "* Run a sample inference on the converted model in a Wallaroo instance.\n",
    "\n",
    "This tutorial provides the following:\n",
    "\n",
    "* `xgb_class.pickle`: A pretrained `XGBoost` Classification model with 25 columns.\n",
    "* `xgb_class_eval.json`: Test data to perform a sample inference.\n",
    "\n",
    "## Prerequisites\n",
    "\n",
    "Wallaroo supports the following model versions:\n",
    "\n",
    "* XGBoost:  Version 1.6.0\n",
    "* SKLearn: 1.1.2"
   ]
  },
  {
   "attachments": {},
   "cell_type": "markdown",
   "metadata": {},
   "source": [
    "## Conversion Steps\n",
    "\n",
    "To use the Wallaroo autoconverter `convert_model(path, source_type, conversion_arguments)` method takes 3 parameters.  The parameters for `XGBoost` conversions are:\n",
    "\n",
    "* `path` (STRING):  The path to the ML model file.\n",
    "* `source_type` (ModelConversionSource): The type of ML model to be converted.  As of this time Wallaroo auto-conversion supports the following source types and their associated `ModelConversionSource`:\n",
    "  * **sklearn**: `ModelConversionSource.SKLEARN`\n",
    "  * **xgboost**: `ModelConversionSource.XGBOOST`\n",
    "  * **keras**: `ModelConversionSource.KERAS`\n",
    "* `conversion_arguments`:  The arguments for the conversion based on the type of model being converted.  These are:\n",
    "    * `wallaroo.ModelConversion.ConvertXGBoostArgs`: Used for `XGBoost` models and takes the following parameters:\n",
    "    * `name`: The name of the model being converted.\n",
    "    * `comment`: Any comments for the model.\n",
    "    * `number_of_columns`: The number of columns the model was trained for.\n",
    "    * `input_type`: A [tensorflow Dtype](https://www.tensorflow.org/api_docs/python/tf/dtypes/DType) called in the format `ModelConversionInputType.{type}`, where `{type}` is `Float`, `Double`, etc depending on the model."
   ]
  },
  {
   "attachments": {},
   "cell_type": "markdown",
   "metadata": {},
   "source": [
    "### Import Libraries\n",
    "\n",
    "The first step is to import the libraries needed."
   ]
  },
  {
   "cell_type": "code",
   "execution_count": 1,
   "metadata": {},
   "outputs": [],
   "source": [
    "import wallaroo\n",
    "\n",
    "from wallaroo.ModelConversion import ConvertXGBoostArgs, ModelConversionSource, ModelConversionInputType\n",
    "from wallaroo.object import EntityNotFoundError\n",
    "\n",
    "# used to display dataframe information without truncating\n",
    "from IPython.display import display\n",
    "import pandas as pd\n",
    "pd.set_option('display.max_colwidth', None)"
   ]
  },
  {
   "attachments": {},
   "cell_type": "markdown",
   "metadata": {},
   "source": [
    "### Connect to the Wallaroo Instance\n",
    "\n",
    "The first step is to connect to Wallaroo through the Wallaroo client.  The Python library is included in the Wallaroo install and available through the Jupyter Hub interface provided with your Wallaroo environment.\n",
    "\n",
    "This is accomplished using the `wallaroo.Client()` command, which provides a URL to grant the SDK permission to your specific Wallaroo environment.  When displayed, enter the URL into a browser and confirm permissions.  Store the connection into a variable that can be referenced later.\n",
    "\n",
    "If logging into the Wallaroo instance through the internal JupyterHub service, use `wl = wallaroo.Client()`.  For more information on Wallaroo DNS settings, see the [Wallaroo DNS Integration Guide](https://docs.wallaroo.ai/wallaroo-operations-guide/wallaroo-configuration/wallaroo-dns-guide/)."
   ]
  },
  {
   "cell_type": "code",
   "execution_count": 2,
   "metadata": {},
   "outputs": [],
   "source": [
    "# Login through local Wallaroo instance\n",
    "\n",
    "wl = wallaroo.Client()"
   ]
  },
  {
   "attachments": {},
   "cell_type": "markdown",
   "metadata": {},
   "source": [
    "### Configuration and Methods\n",
    "\n",
    "The following will set the workspace, pipeline, model name, the model file name used when uploading and converting the `keras` model, and the sample data.\n",
    "\n",
    "The functions `get_workspace(name)` will either set the current workspace to the requested name, or create it if it does not exist.  The function `get_pipeline(name)` will either set the pipeline used to the name requested, or create it in the current workspace if it does not exist."
   ]
  },
  {
   "cell_type": "code",
   "execution_count": 3,
   "metadata": {},
   "outputs": [],
   "source": [
    "workspace_name = 'xgboost-classification-autoconvert-workspace'\n",
    "pipeline_name = 'xgboost-classification-autoconvert-pipeline'\n",
    "model_name = 'xgb-class-model'\n",
    "model_file_name = 'xgb_class.pickle'\n",
    "\n",
    "def get_workspace(name):\n",
    "    workspace = None\n",
    "    for ws in wl.list_workspaces():\n",
    "        if ws.name() == name:\n",
    "            workspace= ws\n",
    "    if(workspace == None):\n",
    "        workspace = wl.create_workspace(name)\n",
    "    return workspace\n",
    "\n",
    "def get_pipeline(name):\n",
    "    try:\n",
    "        pipeline = wl.pipelines_by_name(name)[0]\n",
    "    except EntityNotFoundError:\n",
    "        pipeline = wl.build_pipeline(name)\n",
    "    return pipeline"
   ]
  },
  {
   "attachments": {},
   "cell_type": "markdown",
   "metadata": {},
   "source": [
    "### Set the Workspace and Pipeline\n",
    "\n",
    "Set or create the workspace and pipeline based on the names configured earlier."
   ]
  },
  {
   "cell_type": "code",
   "execution_count": 4,
   "metadata": {},
   "outputs": [
    {
     "data": {
      "text/html": [
       "<table><tr><th>name</th> <td>xgboost-classification-autoconvert-pipeline</td></tr><tr><th>created</th> <td>2023-05-17 21:21:19.962450+00:00</td></tr><tr><th>last_updated</th> <td>2023-05-17 21:21:19.962450+00:00</td></tr><tr><th>deployed</th> <td>(none)</td></tr><tr><th>tags</th> <td></td></tr><tr><th>versions</th> <td>bbe4dce4-f62a-4f4f-a45c-aebbfce23304</td></tr><tr><th>steps</th> <td></td></tr></table>"
      ],
      "text/plain": [
       "{'name': 'xgboost-classification-autoconvert-pipeline', 'create_time': datetime.datetime(2023, 5, 17, 21, 21, 19, 962450, tzinfo=tzutc()), 'definition': '[]'}"
      ]
     },
     "execution_count": 4,
     "metadata": {},
     "output_type": "execute_result"
    }
   ],
   "source": [
    "workspace = get_workspace(workspace_name)\n",
    "\n",
    "wl.set_current_workspace(workspace)\n",
    "\n",
    "pipeline = get_pipeline(pipeline_name)\n",
    "pipeline"
   ]
  },
  {
   "attachments": {},
   "cell_type": "markdown",
   "metadata": {},
   "source": [
    "### Set the Model Autoconvert Parameters\n",
    "\n",
    "Set the paramters for converting the `xgb-class-model`."
   ]
  },
  {
   "cell_type": "code",
   "execution_count": 5,
   "metadata": {},
   "outputs": [],
   "source": [
    "#the number of columns\n",
    "NF = 25\n",
    "\n",
    "model_conversion_args = ConvertXGBoostArgs(\n",
    "    name=model_name,\n",
    "    comment=\"xgboost classification model test\",\n",
    "    number_of_columns=NF,\n",
    "    input_type=ModelConversionInputType.Float32\n",
    ")\n",
    "model_conversion_type = ModelConversionSource.XGBOOST"
   ]
  },
  {
   "attachments": {},
   "cell_type": "markdown",
   "metadata": {},
   "source": [
    "### Upload and Convert the Model\n",
    "\n",
    "Now we can upload the convert the model.  Once finished, it will be stored as `{unique-file-id}-converted.onnx`."
   ]
  },
  {
   "cell_type": "code",
   "execution_count": 6,
   "metadata": {},
   "outputs": [],
   "source": [
    "# convert and upload\n",
    "model_wl = wl.convert_model(model_file_name, model_conversion_type, model_conversion_args)"
   ]
  },
  {
   "attachments": {},
   "cell_type": "markdown",
   "metadata": {},
   "source": [
    "## Test Inference\n",
    "\n",
    "With the model uploaded and converted, we can run a sample inference.\n",
    "\n",
    "### Deploy the Pipeline\n",
    "\n",
    "Add the uploaded and converted `model_wl` as a step in the pipeline, then deploy it."
   ]
  },
  {
   "cell_type": "code",
   "execution_count": 7,
   "metadata": {},
   "outputs": [
    {
     "data": {
      "text/html": [
       "<table><tr><th>name</th> <td>xgboost-classification-autoconvert-pipeline</td></tr><tr><th>created</th> <td>2023-05-17 21:21:19.962450+00:00</td></tr><tr><th>last_updated</th> <td>2023-05-17 21:21:22.906665+00:00</td></tr><tr><th>deployed</th> <td>True</td></tr><tr><th>tags</th> <td></td></tr><tr><th>versions</th> <td>5f7bb0cc-f60d-4cee-8425-c5e85331ae2f, bbe4dce4-f62a-4f4f-a45c-aebbfce23304</td></tr><tr><th>steps</th> <td>xgb-class-model</td></tr></table>"
      ],
      "text/plain": [
       "{'name': 'xgboost-classification-autoconvert-pipeline', 'create_time': datetime.datetime(2023, 5, 17, 21, 21, 19, 962450, tzinfo=tzutc()), 'definition': \"[{'ModelInference': {'models': [{'name': 'xgb-class-model', 'version': '18dea6b4-5328-48c8-8aab-e3135e8af3d6', 'sha': 'f11fe9bc07b0482a4e365d62f2cbb74acc3f09a2bb70922019bbc5e611661d37'}]}}]\"}"
      ]
     },
     "execution_count": 7,
     "metadata": {},
     "output_type": "execute_result"
    }
   ],
   "source": [
    "pipeline.add_model_step(model_wl).deploy()"
   ]
  },
  {
   "attachments": {},
   "cell_type": "markdown",
   "metadata": {},
   "source": [
    "### Run the Inference\n",
    "\n",
    "Use the evaluation data to verify the process completed successfully."
   ]
  },
  {
   "cell_type": "code",
   "execution_count": 8,
   "metadata": {},
   "outputs": [
    {
     "data": {
      "text/html": [
       "<div>\n",
       "<style scoped>\n",
       "    .dataframe tbody tr th:only-of-type {\n",
       "        vertical-align: middle;\n",
       "    }\n",
       "\n",
       "    .dataframe tbody tr th {\n",
       "        vertical-align: top;\n",
       "    }\n",
       "\n",
       "    .dataframe thead th {\n",
       "        text-align: right;\n",
       "    }\n",
       "</style>\n",
       "<table border=\"1\" class=\"dataframe\">\n",
       "  <thead>\n",
       "    <tr style=\"text-align: right;\">\n",
       "      <th></th>\n",
       "      <th>time</th>\n",
       "      <th>in.tensor</th>\n",
       "      <th>out.label</th>\n",
       "      <th>out.probabilities</th>\n",
       "      <th>check_failures</th>\n",
       "    </tr>\n",
       "  </thead>\n",
       "  <tbody>\n",
       "    <tr>\n",
       "      <th>0</th>\n",
       "      <td>2023-05-17 21:21:34.273</td>\n",
       "      <td>[-0.9650039837, 1.7162569382, 1.8570196174, 0.7225873636, 1.4614264692, 1.9567455469, 3.1280554236, 2.4737274835, 2.045634687, 0.0697759683, -0.7334890238, 1.4661397464, -1.7339080123, -0.3295498275, -0.5405674404, 0.9325072938, -0.1753815275, 0.8389569878, 0.2995238298, 2.020354449, 0.307715435, -0.786562628, 1.6198295619, -3.1550540615, 2.4493095715]</td>\n",
       "      <td>[1]</td>\n",
       "      <td>[0.45164853, 0.54835147]</td>\n",
       "      <td>0</td>\n",
       "    </tr>\n",
       "    <tr>\n",
       "      <th>1</th>\n",
       "      <td>2023-05-17 21:21:34.273</td>\n",
       "      <td>[-0.24290676, -2.7621478465, -1.0460044448, -0.4367771067, 0.7114974086, 3.1152360132, 0.8780655791, 1.5959052391, 0.1291853603, -0.4705432269, -0.2870965835, 0.2758634598, -2.5296629025, -0.8581708475, -0.0447250952, -0.8147113092, 0.3394927614, 0.1165005518, 0.5214230106, 1.0323965467, 0.824008803, -0.2602068525, -2.5164397098, -2.2480625668, 0.7147467132]</td>\n",
       "      <td>[0]</td>\n",
       "      <td>[0.76527536, 0.23472464]</td>\n",
       "      <td>0</td>\n",
       "    </tr>\n",
       "    <tr>\n",
       "      <th>2</th>\n",
       "      <td>2023-05-17 21:21:34.273</td>\n",
       "      <td>[0.3261925153, -1.1340263025, -0.0210165684, -0.402436985, 0.1136841647, 1.9756910921, -1.6567823116, -3.0377564302, 1.0839562248, 1.535350752, -1.5641493986, -0.4037836272, -0.0502258358, -1.383033319, -2.1692714889, 0.5474654104, 0.5884733316, -0.6575750129, -0.4456088906, 1.9450809267, -0.5395060067, 0.0020371202, -2.0035740797, 5.3368805176, -1.3683109303]</td>\n",
       "      <td>[1]</td>\n",
       "      <td>[0.011478066, 0.98852193]</td>\n",
       "      <td>0</td>\n",
       "    </tr>\n",
       "    <tr>\n",
       "      <th>3</th>\n",
       "      <td>2023-05-17 21:21:34.273</td>\n",
       "      <td>[0.7071268106, -1.1177500788, 0.1311702635, -0.0342823916, 1.4166474292, -0.7600812269, -1.643252821, 1.1809622308, 1.1552655664, -1.4616319423, -1.3196760448, -0.3871231717, -1.0052010294, 0.3757483273, 0.8164121104, 0.6636194102, 0.2054206669, 0.3971757239, 1.0712736575, 0.5687901164, 0.545534547, -0.4022272078, 0.5202183853, -1.1450692638, -1.6687803276]</td>\n",
       "      <td>[1]</td>\n",
       "      <td>[0.40538806, 0.59461194]</td>\n",
       "      <td>0</td>\n",
       "    </tr>\n",
       "    <tr>\n",
       "      <th>4</th>\n",
       "      <td>2023-05-17 21:21:34.273</td>\n",
       "      <td>[-0.4753271684, 0.9648567582, 4.1002801029, -0.3474129796, 0.5912316716, -0.3616544697, -2.9339075495, 0.8583809009, -0.7625328481, -1.447786717, -0.0183969915, -0.1028844583, -1.9931308252, -0.6141588978, 1.5368353642, -0.5482829279, 2.1576770706, 0.4772412627, 0.9956210462, 1.7124754134, -0.7415852899, -0.3876944367, 5.7178008466, 7.1237030134, 0.1815704771]</td>\n",
       "      <td>[1]</td>\n",
       "      <td>[0.0016139746, 0.998386]</td>\n",
       "      <td>0</td>\n",
       "    </tr>\n",
       "  </tbody>\n",
       "</table>\n",
       "</div>"
      ],
      "text/plain": [
       "                     time  \\\n",
       "0 2023-05-17 21:21:34.273   \n",
       "1 2023-05-17 21:21:34.273   \n",
       "2 2023-05-17 21:21:34.273   \n",
       "3 2023-05-17 21:21:34.273   \n",
       "4 2023-05-17 21:21:34.273   \n",
       "\n",
       "                                                                                                                                                                                                                                                                                                                                                                    in.tensor  \\\n",
       "0          [-0.9650039837, 1.7162569382, 1.8570196174, 0.7225873636, 1.4614264692, 1.9567455469, 3.1280554236, 2.4737274835, 2.045634687, 0.0697759683, -0.7334890238, 1.4661397464, -1.7339080123, -0.3295498275, -0.5405674404, 0.9325072938, -0.1753815275, 0.8389569878, 0.2995238298, 2.020354449, 0.307715435, -0.786562628, 1.6198295619, -3.1550540615, 2.4493095715]   \n",
       "1    [-0.24290676, -2.7621478465, -1.0460044448, -0.4367771067, 0.7114974086, 3.1152360132, 0.8780655791, 1.5959052391, 0.1291853603, -0.4705432269, -0.2870965835, 0.2758634598, -2.5296629025, -0.8581708475, -0.0447250952, -0.8147113092, 0.3394927614, 0.1165005518, 0.5214230106, 1.0323965467, 0.824008803, -0.2602068525, -2.5164397098, -2.2480625668, 0.7147467132]   \n",
       "2  [0.3261925153, -1.1340263025, -0.0210165684, -0.402436985, 0.1136841647, 1.9756910921, -1.6567823116, -3.0377564302, 1.0839562248, 1.535350752, -1.5641493986, -0.4037836272, -0.0502258358, -1.383033319, -2.1692714889, 0.5474654104, 0.5884733316, -0.6575750129, -0.4456088906, 1.9450809267, -0.5395060067, 0.0020371202, -2.0035740797, 5.3368805176, -1.3683109303]   \n",
       "3     [0.7071268106, -1.1177500788, 0.1311702635, -0.0342823916, 1.4166474292, -0.7600812269, -1.643252821, 1.1809622308, 1.1552655664, -1.4616319423, -1.3196760448, -0.3871231717, -1.0052010294, 0.3757483273, 0.8164121104, 0.6636194102, 0.2054206669, 0.3971757239, 1.0712736575, 0.5687901164, 0.545534547, -0.4022272078, 0.5202183853, -1.1450692638, -1.6687803276]   \n",
       "4  [-0.4753271684, 0.9648567582, 4.1002801029, -0.3474129796, 0.5912316716, -0.3616544697, -2.9339075495, 0.8583809009, -0.7625328481, -1.447786717, -0.0183969915, -0.1028844583, -1.9931308252, -0.6141588978, 1.5368353642, -0.5482829279, 2.1576770706, 0.4772412627, 0.9956210462, 1.7124754134, -0.7415852899, -0.3876944367, 5.7178008466, 7.1237030134, 0.1815704771]   \n",
       "\n",
       "  out.label          out.probabilities  check_failures  \n",
       "0       [1]   [0.45164853, 0.54835147]               0  \n",
       "1       [0]   [0.76527536, 0.23472464]               0  \n",
       "2       [1]  [0.011478066, 0.98852193]               0  \n",
       "3       [1]   [0.40538806, 0.59461194]               0  \n",
       "4       [1]   [0.0016139746, 0.998386]               0  "
      ]
     },
     "metadata": {},
     "output_type": "display_data"
    }
   ],
   "source": [
    "sample_data = 'xgb_class_eval.df.json'\n",
    "result = pipeline.infer_from_file(sample_data)\n",
    "display(result)"
   ]
  },
  {
   "attachments": {},
   "cell_type": "markdown",
   "metadata": {},
   "source": [
    "### Undeploy the Pipeline\n",
    "\n",
    "With the tests complete, we will undeploy the pipeline to return the resources back to the Wallaroo instance."
   ]
  },
  {
   "cell_type": "code",
   "execution_count": 9,
   "metadata": {},
   "outputs": [
    {
     "data": {
      "text/html": [
       "<table><tr><th>name</th> <td>xgboost-classification-autoconvert-pipeline</td></tr><tr><th>created</th> <td>2023-05-17 21:21:19.962450+00:00</td></tr><tr><th>last_updated</th> <td>2023-05-17 21:21:22.906665+00:00</td></tr><tr><th>deployed</th> <td>False</td></tr><tr><th>tags</th> <td></td></tr><tr><th>versions</th> <td>5f7bb0cc-f60d-4cee-8425-c5e85331ae2f, bbe4dce4-f62a-4f4f-a45c-aebbfce23304</td></tr><tr><th>steps</th> <td>xgb-class-model</td></tr></table>"
      ],
      "text/plain": [
       "{'name': 'xgboost-classification-autoconvert-pipeline', 'create_time': datetime.datetime(2023, 5, 17, 21, 21, 19, 962450, tzinfo=tzutc()), 'definition': \"[{'ModelInference': {'models': [{'name': 'xgb-class-model', 'version': '18dea6b4-5328-48c8-8aab-e3135e8af3d6', 'sha': 'f11fe9bc07b0482a4e365d62f2cbb74acc3f09a2bb70922019bbc5e611661d37'}]}}]\"}"
      ]
     },
     "execution_count": 9,
     "metadata": {},
     "output_type": "execute_result"
    }
   ],
   "source": [
    "pipeline.undeploy()"
   ]
  }
 ],
 "metadata": {
  "kernelspec": {
   "display_name": "wallaroosdk202302preview",
   "language": "python",
   "name": "python3"
  },
  "language_info": {
   "codemirror_mode": {
    "name": "ipython",
    "version": 3
   },
   "file_extension": ".py",
   "mimetype": "text/x-python",
   "name": "python",
   "nbconvert_exporter": "python",
   "pygments_lexer": "ipython3",
   "version": "3.9.16"
  }
 },
 "nbformat": 4,
 "nbformat_minor": 4
}
