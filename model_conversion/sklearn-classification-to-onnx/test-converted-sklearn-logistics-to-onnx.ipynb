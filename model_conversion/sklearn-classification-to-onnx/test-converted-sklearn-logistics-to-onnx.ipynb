{
 "cells": [
  {
   "cell_type": "markdown",
   "metadata": {},
   "source": [
    "## Logistic Version of the Isolet Model Test in Wallaroo\n",
    "\n",
    "The following demonstrates how to use a converted sk-learn Logistics ML model converted to ONNX  in Wallaroo.  This is meant to be a follow up to the tutorial `convert-sklearn-logistic-to-onnx.ipyb`, which demonstrates how to convert the sk-learn logicistics model to ONNX format and generates the file `isolet_logistic_model_numclass.onnx` that is used in this tutorial.\n",
    "\n",
    "For more details on using Wallaroo workspaces, pipelines, and models, see the [Wallaroo Documentation site](https://docs.wallaroo.ai).\n",
    "\n",
    "This tutorial includes the following assets:\n",
    "\n",
    "* `isolet_test_data.tsv`:  A test file that can be used to verify the output of the converted logistic model.\n",
    "* `test-converted-sklearn-logistics-to-onnx.ipynb`: This Jupyter Notebook that demonstrates the use of the converted sk-learn logistic ML model in ONNX with Wallaroo."
   ]
  },
  {
   "cell_type": "markdown",
   "metadata": {},
   "source": [
    "## Test Steps\n",
    "\n",
    "### Load Libraries\n",
    "\n",
    "The first step in the process is to load the necessary libraries."
   ]
  },
  {
   "cell_type": "code",
   "execution_count": 1,
   "metadata": {},
   "outputs": [],
   "source": [
    "# from their artifacts\n",
    "\n",
    "import json\n",
    "import wallaroo\n",
    "import numpy\n",
    "import pandas\n",
    "\n",
    "from wallaroo.object import EntityNotFoundError"
   ]
  },
  {
   "cell_type": "markdown",
   "metadata": {},
   "source": [
    "### Connect to Wallaroo Instance\n",
    "\n",
    "Next we'll connect to the Wallaroo Instance with the `Client` method."
   ]
  },
  {
   "cell_type": "code",
   "execution_count": 2,
   "metadata": {},
   "outputs": [],
   "source": [
    "wl = wallaroo.Client()"
   ]
  },
  {
   "cell_type": "markdown",
   "metadata": {},
   "source": [
    "### Connect to Workspace\n",
    "\n",
    "Either create or use an existing workspace.  In this example, we will connect to the existing workspace `isolettest` by using the `set_current_workspace` command.  For more details on connecting to a workspace, see the [Wallaroo SDK Essentials guide](https://docs.wallaroo.ai/wallaroo-sdk/wallaroo-sdk-essentials-guide/).\n",
    "\n",
    "![Wallaroo Workspace Example](../../images/wallaroo-tutorials/isolet-workspace-example.png)"
   ]
  },
  {
   "cell_type": "code",
   "execution_count": 3,
   "metadata": {},
   "outputs": [],
   "source": [
    "workspace_name = 'isolettest'\n",
    "pipeline_name = 'isoletpipeline'\n",
    "model_name = 'isolettest'"
   ]
  },
  {
   "cell_type": "code",
   "execution_count": 4,
   "metadata": {},
   "outputs": [
    {
     "data": {
      "text/html": [
       "<table><tr><th>name</th> <td>isolet-pipeline</td></tr><tr><th>created</th> <td>2022-08-03 15:19:30.768979+00:00</td></tr><tr><th>last_updated</th> <td>2022-08-03 15:21:09.416945+00:00</td></tr><tr><th>deployed</th> <td>False</td></tr><tr><th>tags</th> <td></td></tr><tr><th>steps</th> <td>isolet-test</td></tr></table>"
      ],
      "text/plain": [
       "{'name': 'isolet-pipeline', 'create_time': datetime.datetime(2022, 8, 3, 15, 19, 30, 768979, tzinfo=tzutc()), 'definition': '[]'}"
      ]
     },
     "execution_count": 4,
     "metadata": {},
     "output_type": "execute_result"
    }
   ],
   "source": [
    "def get_workspace(name):\n",
    "    workspace = None\n",
    "    for ws in wl.list_workspaces():\n",
    "        if ws.name() == name:\n",
    "            workspace= ws\n",
    "    if(workspace == None):\n",
    "        workspace = wl.create_workspace(name)\n",
    "    return workspace\n",
    "\n",
    "def get_pipeline(name):\n",
    "    try:\n",
    "        pipeline = wl.pipelines_by_name(pipeline_name)[0]\n",
    "    except EntityNotFoundError:\n",
    "        pipeline = wl.build_pipeline(pipeline_name)\n",
    "    return pipeline\n",
    "\n",
    "workspace = get_workspace(workspace_name)\n",
    "\n",
    "wl.set_current_workspace(workspace)\n",
    "\n",
    "isoletpipeline = get_pipeline(pipeline_name)\n",
    "isoletpipeline"
   ]
  },
  {
   "cell_type": "markdown",
   "metadata": {},
   "source": [
    "### Upload Model\n",
    "\n",
    "Upload the `isolet_logistic_model_numclass.onnx` model as `isolet-test` with the `upload_model` method:"
   ]
  },
  {
   "cell_type": "code",
   "execution_count": 5,
   "metadata": {},
   "outputs": [],
   "source": [
    "model = wl.upload_model(model_name, './isolet_logistic_model_numclass.onnx').configure()"
   ]
  },
  {
   "cell_type": "code",
   "execution_count": 6,
   "metadata": {},
   "outputs": [
    {
     "data": {
      "text/html": [
       "<table><tr><th>name</th> <td>isolet-pipeline</td></tr><tr><th>created</th> <td>2022-08-03 15:19:30.768979+00:00</td></tr><tr><th>last_updated</th> <td>2022-08-03 15:21:09.416945+00:00</td></tr><tr><th>deployed</th> <td>False</td></tr><tr><th>tags</th> <td></td></tr><tr><th>steps</th> <td>isolet-test</td></tr></table>"
      ],
      "text/plain": [
       "{'name': 'isolet-pipeline', 'create_time': datetime.datetime(2022, 8, 3, 15, 19, 30, 768979, tzinfo=tzutc()), 'definition': \"[{'ModelInference': {'models': [{'name': 'isolet-test', 'version': 'd3f2f95b-d184-46f3-b578-76a4bdd7ab1d', 'sha': '782de04e1c5d5afa5e7df0ccc5c76cca797a757644b8b22f6b2ccc4aa494dd23'}]}}]\"}"
      ]
     },
     "execution_count": 6,
     "metadata": {},
     "output_type": "execute_result"
    }
   ],
   "source": [
    "isoletpipeline.add_model_step(model)"
   ]
  },
  {
   "cell_type": "markdown",
   "metadata": {},
   "source": [
    "### Deploy Pipeline\n",
    "\n",
    "Pipelines can be deployed either with the Wallaroo Dashboard user interface or through the SDK.  For this example, we have the pipeline `isolet-pipeline` deployed and assigned to the variable `isoletpipeline`.  For more details, see the [Wallaroo Pipeline Guide](https://docs.wallaroo.ai/wallaroo-operations-guide/wallaroo-pipeline-management/).\n",
    "\n",
    "![Wallaroo Workspace Example](../../images/wallaroo-tutorials/isolet-pipeline-example.png)\n",
    "\n",
    "We can check the status of the pipeline with the Wallaroo pipeline `status` method."
   ]
  },
  {
   "cell_type": "code",
   "execution_count": 7,
   "metadata": {},
   "outputs": [
    {
     "name": "stdout",
     "output_type": "stream",
     "text": [
      "Waiting for deployment - this will take up to 45s .... ok\n"
     ]
    },
    {
     "data": {
      "text/html": [
       "<table><tr><th>name</th> <td>isolet-pipeline</td></tr><tr><th>created</th> <td>2022-08-03 15:19:30.768979+00:00</td></tr><tr><th>last_updated</th> <td>2022-08-03 15:26:20.643739+00:00</td></tr><tr><th>deployed</th> <td>True</td></tr><tr><th>tags</th> <td></td></tr><tr><th>steps</th> <td>isolet-test</td></tr></table>"
      ],
      "text/plain": [
       "{'name': 'isolet-pipeline', 'create_time': datetime.datetime(2022, 8, 3, 15, 19, 30, 768979, tzinfo=tzutc()), 'definition': \"[{'ModelInference': {'models': [{'name': 'isolet-test', 'version': 'd3f2f95b-d184-46f3-b578-76a4bdd7ab1d', 'sha': '782de04e1c5d5afa5e7df0ccc5c76cca797a757644b8b22f6b2ccc4aa494dd23'}]}}]\"}"
      ]
     },
     "execution_count": 7,
     "metadata": {},
     "output_type": "execute_result"
    }
   ],
   "source": [
    "isoletpipeline.deploy()"
   ]
  },
  {
   "cell_type": "markdown",
   "metadata": {},
   "source": [
    "### Load the Data\n",
    "\n",
    "Load the data from the file `isolet_test_data.tsv` into the variable `testdata`, and turn it into a data dictionary variable labeled `input_dict`."
   ]
  },
  {
   "cell_type": "code",
   "execution_count": 8,
   "metadata": {},
   "outputs": [],
   "source": [
    "# read in data\n",
    "testdata = pandas.read_csv('isolet_test_data.tsv', sep='\\t')\n",
    "\n",
    "input_dict = {\n",
    "    'tensor': testdata.values.tolist()\n",
    "}"
   ]
  },
  {
   "cell_type": "markdown",
   "metadata": {},
   "source": [
    "We'll display the data shape to verify it has 9 rows and 617 columsn per row."
   ]
  },
  {
   "cell_type": "code",
   "execution_count": 9,
   "metadata": {},
   "outputs": [
    {
     "data": {
      "text/plain": [
       "(9, 617)"
      ]
     },
     "execution_count": 9,
     "metadata": {},
     "output_type": "execute_result"
    }
   ],
   "source": [
    "# report the size of the data  -  9 rows, 617 columns each\n",
    "testdata.shape"
   ]
  },
  {
   "cell_type": "markdown",
   "metadata": {},
   "source": [
    "### Run Inference\n",
    "\n",
    "Use the Wallaroo pipeline `infer` method to run an inference and store the results into the variable `result`, then display the data from the result."
   ]
  },
  {
   "cell_type": "code",
   "execution_count": 10,
   "metadata": {},
   "outputs": [
    {
     "name": "stdout",
     "output_type": "stream",
     "text": [
      "Waiting for inference response - this will take up to 45s ....... ok\n"
     ]
    }
   ],
   "source": [
    "result = isoletpipeline.infer(input_dict)"
   ]
  },
  {
   "cell_type": "code",
   "execution_count": 11,
   "metadata": {},
   "outputs": [
    {
     "data": {
      "text/plain": [
       "[{'Int64': {'v': 1, 'dim': [9], 'data': [0, 0, 1, 1, 0, 0, 1, 1, 0]}},\n",
       " {'Float': {'v': 1,\n",
       "   'dim': [9, 2],\n",
       "   'data': [0.9999629855155945,\n",
       "    3.701448440551758e-05,\n",
       "    0.9977498650550842,\n",
       "    0.0022501349449157715,\n",
       "    0.004735887050628662,\n",
       "    0.9952641129493713,\n",
       "    0.03107866644859314,\n",
       "    0.9689213037490845,\n",
       "    0.9996306896209717,\n",
       "    0.0003693103790283203,\n",
       "    0.9992027282714844,\n",
       "    0.000797271728515625,\n",
       "    0.14781257510185242,\n",
       "    0.8521873950958252,\n",
       "    0.08045655488967896,\n",
       "    0.919543445110321,\n",
       "    0.9987874031066895,\n",
       "    0.0012125670909881592]}}]"
      ]
     },
     "execution_count": 11,
     "metadata": {},
     "output_type": "execute_result"
    }
   ],
   "source": [
    "result[0].raw['outputs']"
   ]
  },
  {
   "cell_type": "markdown",
   "metadata": {},
   "source": [
    "### Closing\n",
    "\n",
    "Once the tests are done, the pipeline should be undeployed to allocate the resources back to the Wallaroo instance.  For more details, see the [Wallaroo Pipeline Guide](https://docs.wallaroo.ai/wallaroo-operations-guide/wallaroo-pipeline-management/)."
   ]
  },
  {
   "cell_type": "code",
   "execution_count": 12,
   "metadata": {},
   "outputs": [
    {
     "name": "stdout",
     "output_type": "stream",
     "text": [
      "Waiting for undeployment - this will take up to 45s .............................. ok\n"
     ]
    },
    {
     "data": {
      "text/html": [
       "<table><tr><th>name</th> <td>isolet-pipeline</td></tr><tr><th>created</th> <td>2022-08-03 15:19:30.768979+00:00</td></tr><tr><th>last_updated</th> <td>2022-08-03 15:26:20.643739+00:00</td></tr><tr><th>deployed</th> <td>False</td></tr><tr><th>tags</th> <td></td></tr><tr><th>steps</th> <td>isolet-test</td></tr></table>"
      ],
      "text/plain": [
       "{'name': 'isolet-pipeline', 'create_time': datetime.datetime(2022, 8, 3, 15, 19, 30, 768979, tzinfo=tzutc()), 'definition': \"[{'ModelInference': {'models': [{'name': 'isolet-test', 'version': 'd3f2f95b-d184-46f3-b578-76a4bdd7ab1d', 'sha': '782de04e1c5d5afa5e7df0ccc5c76cca797a757644b8b22f6b2ccc4aa494dd23'}]}}]\"}"
      ]
     },
     "execution_count": 12,
     "metadata": {},
     "output_type": "execute_result"
    }
   ],
   "source": [
    "isoletpipeline.undeploy()"
   ]
  }
 ],
 "metadata": {
  "kernelspec": {
   "display_name": "Python 3",
   "language": "python",
   "name": "python3"
  },
  "language_info": {
   "codemirror_mode": {
    "name": "ipython",
    "version": 3
   },
   "file_extension": ".py",
   "mimetype": "text/x-python",
   "name": "python",
   "nbconvert_exporter": "python",
   "pygments_lexer": "ipython3",
   "version": "3.10.6"
  },
  "vscode": {
   "interpreter": {
    "hash": "b0fa6594d8f4cbf19f97940f81e996739fb7646882a419484c72d19e05852a7e"
   }
  }
 },
 "nbformat": 4,
 "nbformat_minor": 4
}
