{
 "cells": [
  {
   "cell_type": "markdown",
   "metadata": {},
   "source": [
    "## Logistic Version of the Isolet Model Test in Wallaroo\n",
    "\n",
    "The following demonstrates how to use a converted sk-learn Logistics ML model converted to ONNX  in Wallaroo.  This is meant to be a follow up to the tutorial `convert-sklearn-logistic-to-onnx.ipyb`, which demonstrates how to convert the sk-learn logicistics model to ONNX format and generates the file `isolet_logistic_model_numclass.onnx` that is used in this tutorial.\n",
    "\n",
    "For more details on using Wallaroo workspaces, pipelines, and models, see the [Wallaroo Documentation site](https://docs.wallaroo.ai).\n",
    "\n",
    "This tutorial includes the following assets:\n",
    "\n",
    "* `isolet_test_data.tsv`:  A test file that can be used to verify the output of the converted logistic model.\n",
    "* `test-converted-sklearn-logistics-to-onnx.ipynb`: This Jupyter Notebook that demonstrates the use of the converted sk-learn logistic ML model in ONNX with Wallaroo."
   ]
  },
  {
   "cell_type": "markdown",
   "metadata": {},
   "source": [
    "## Test Steps\n",
    "\n",
    "### Load Libraries\n",
    "\n",
    "The first step in the process is to load the necessary libraries."
   ]
  },
  {
   "cell_type": "code",
   "execution_count": 1,
   "metadata": {},
   "outputs": [],
   "source": [
    "# from their artifacts\n",
    "\n",
    "import json\n",
    "import wallaroo\n",
    "import numpy\n",
    "import pandas\n",
    "\n",
    "from wallaroo.object import EntityNotFoundError\n",
    "\n",
    "# used to display dataframe information without truncating\n",
    "from IPython.display import display\n",
    "import pandas as pd\n",
    "pd.set_option('display.max_colwidth', None)"
   ]
  },
  {
   "attachments": {},
   "cell_type": "markdown",
   "metadata": {},
   "source": [
    "### Arrow Support\n",
    "\n",
    "As of the 2023.1 release, Wallaroo provides support for dataframe and Arrow for inference inputs.  This tutorial allows users to adjust their experience based on whether they have enabled Arrow support in their Wallaroo instance or not.\n",
    "\n",
    "If Arrow support has been enabled, `arrowEnabled=True`. If disabled or you're not sure, set it to `arrowEnabled=False`\n",
    "\n",
    "The examples below will be shown in an arrow enabled environment."
   ]
  },
  {
   "cell_type": "code",
   "execution_count": 2,
   "metadata": {},
   "outputs": [],
   "source": [
    "import os\n",
    "arrowEnabled=True\n",
    "os.environ[\"ARROW_ENABLED\"]=f\"{arrowEnabled}\"\n"
   ]
  },
  {
   "cell_type": "markdown",
   "metadata": {},
   "source": [
    "### Connect to Wallaroo Instance\n",
    "\n",
    "Next we'll connect to the Wallaroo Instance with the `Client` method."
   ]
  },
  {
   "cell_type": "code",
   "execution_count": null,
   "metadata": {},
   "outputs": [],
   "source": [
    "# Login through local Wallaroo instance\n",
    "\n",
    "wl = wallaroo.Client()\n",
    "\n",
    "# SSO login through keycloak\n",
    "\n",
    "# wallarooPrefix = \"YOUR PREFIX\"\n",
    "# wallarooSuffix = \"YOUR PREFIX\"\n",
    "\n",
    "# wl = wallaroo.Client(api_endpoint=f\"https://{wallarooPrefix}.api.{wallarooSuffix}\", \n",
    "#                     auth_endpoint=f\"https://{wallarooPrefix}.keycloak.{wallarooSuffix}\", \n",
    "#                     auth_type=\"sso\")"
   ]
  },
  {
   "attachments": {},
   "cell_type": "markdown",
   "metadata": {},
   "source": [
    "### Connect to Workspace\n",
    "\n",
    "Either create or use an existing workspace.  In this example, we will connect to the existing workspace `isolettest` by using the `set_current_workspace` command.  For more details on connecting to a workspace, see the [Wallaroo SDK Essentials guide](https://docs.wallaroo.ai/wallaroo-sdk/wallaroo-sdk-essentials-guide/).\n",
    "\n",
    "![Wallaroo Workspace Example](./images/wallaroo-tutorials/isolet-workspace-example.png)"
   ]
  },
  {
   "cell_type": "code",
   "execution_count": 7,
   "metadata": {},
   "outputs": [],
   "source": [
    "workspace_name = 'isolettest'\n",
    "pipeline_name = 'isoletpipeline'\n",
    "model_name = 'isolettest'"
   ]
  },
  {
   "cell_type": "code",
   "execution_count": 8,
   "metadata": {},
   "outputs": [
    {
     "data": {
      "text/html": [
       "<table><tr><th>name</th> <td>isoletpipeline</td></tr><tr><th>created</th> <td>2023-02-21 21:24:34.687987+00:00</td></tr><tr><th>last_updated</th> <td>2023-02-21 21:24:34.687987+00:00</td></tr><tr><th>deployed</th> <td>(none)</td></tr><tr><th>tags</th> <td></td></tr><tr><th>versions</th> <td>5a346b73-750d-4059-a3d3-2b6803ed1e1e</td></tr><tr><th>steps</th> <td></td></tr></table>"
      ],
      "text/plain": [
       "{'name': 'isoletpipeline', 'create_time': datetime.datetime(2023, 2, 21, 21, 24, 34, 687987, tzinfo=tzutc()), 'definition': '[]'}"
      ]
     },
     "execution_count": 8,
     "metadata": {},
     "output_type": "execute_result"
    }
   ],
   "source": [
    "def get_workspace(name):\n",
    "    workspace = None\n",
    "    for ws in wl.list_workspaces():\n",
    "        if ws.name() == name:\n",
    "            workspace= ws\n",
    "    if(workspace == None):\n",
    "        workspace = wl.create_workspace(name)\n",
    "    return workspace\n",
    "\n",
    "def get_pipeline(name):\n",
    "    try:\n",
    "        pipeline = wl.pipelines_by_name(pipeline_name)[0]\n",
    "    except EntityNotFoundError:\n",
    "        pipeline = wl.build_pipeline(pipeline_name)\n",
    "    return pipeline\n",
    "\n",
    "workspace = get_workspace(workspace_name)\n",
    "\n",
    "wl.set_current_workspace(workspace)\n",
    "\n",
    "isoletpipeline = get_pipeline(pipeline_name)\n",
    "isoletpipeline"
   ]
  },
  {
   "cell_type": "markdown",
   "metadata": {},
   "source": [
    "### Upload Model\n",
    "\n",
    "Upload the `isolet_logistic_model_numclass.onnx` model as `isolet-test` with the `upload_model` method:"
   ]
  },
  {
   "cell_type": "code",
   "execution_count": 9,
   "metadata": {},
   "outputs": [],
   "source": [
    "model = wl.upload_model(model_name, './isolet_logistic_model_numclass.onnx').configure()"
   ]
  },
  {
   "cell_type": "code",
   "execution_count": 10,
   "metadata": {},
   "outputs": [
    {
     "data": {
      "text/html": [
       "<table><tr><th>name</th> <td>isoletpipeline</td></tr><tr><th>created</th> <td>2023-02-21 21:24:34.687987+00:00</td></tr><tr><th>last_updated</th> <td>2023-02-21 21:24:34.687987+00:00</td></tr><tr><th>deployed</th> <td>(none)</td></tr><tr><th>tags</th> <td></td></tr><tr><th>versions</th> <td>5a346b73-750d-4059-a3d3-2b6803ed1e1e</td></tr><tr><th>steps</th> <td></td></tr></table>"
      ],
      "text/plain": [
       "{'name': 'isoletpipeline', 'create_time': datetime.datetime(2023, 2, 21, 21, 24, 34, 687987, tzinfo=tzutc()), 'definition': \"[{'ModelInference': {'models': [{'name': 'isolettest', 'version': 'fa4743a0-be54-4a10-b852-1ae27293fbf4', 'sha': '58f31aa4a8dcecd3285bab022e5a724de514e03eb6d5ccd61b23780a9c374651'}]}}]\"}"
      ]
     },
     "execution_count": 10,
     "metadata": {},
     "output_type": "execute_result"
    }
   ],
   "source": [
    "isoletpipeline.add_model_step(model)"
   ]
  },
  {
   "attachments": {},
   "cell_type": "markdown",
   "metadata": {},
   "source": [
    "### Deploy Pipeline\n",
    "\n",
    "Pipelines can be deployed either with the Wallaroo Dashboard user interface or through the SDK.  For this example, we have the pipeline `isolet-pipeline` deployed and assigned to the variable `isoletpipeline`.  For more details, see the [Wallaroo Pipeline Guide](https://docs.wallaroo.ai/wallaroo-operations-guide/wallaroo-pipeline-management/).\n",
    "\n",
    "![Wallaroo Workspace Example](./images/wallaroo-tutorials/isolet-pipeline-example.png)\n",
    "\n",
    "We can check the status of the pipeline with the Wallaroo pipeline `status` method."
   ]
  },
  {
   "cell_type": "code",
   "execution_count": 138,
   "metadata": {},
   "outputs": [
    {
     "data": {
      "text/html": [
       "<table><tr><th>name</th> <td>isoletpipeline</td></tr><tr><th>created</th> <td>2023-02-21 21:24:34.687987+00:00</td></tr><tr><th>last_updated</th> <td>2023-02-21 23:34:40.975970+00:00</td></tr><tr><th>deployed</th> <td>True</td></tr><tr><th>tags</th> <td></td></tr><tr><th>versions</th> <td>7eaf3d89-91d8-4b74-a096-d5ca4a01c8bf, 90eaf9ec-29f6-4723-8999-d09ab82b18fe, 5a346b73-750d-4059-a3d3-2b6803ed1e1e</td></tr><tr><th>steps</th> <td>isolettest</td></tr></table>"
      ],
      "text/plain": [
       "{'name': 'isoletpipeline', 'create_time': datetime.datetime(2023, 2, 21, 21, 24, 34, 687987, tzinfo=tzutc()), 'definition': \"[{'ModelInference': {'models': [{'name': 'isolettest', 'version': 'fa4743a0-be54-4a10-b852-1ae27293fbf4', 'sha': '58f31aa4a8dcecd3285bab022e5a724de514e03eb6d5ccd61b23780a9c374651'}]}}]\"}"
      ]
     },
     "execution_count": 138,
     "metadata": {},
     "output_type": "execute_result"
    }
   ],
   "source": [
    "isoletpipeline.deploy()"
   ]
  },
  {
   "attachments": {},
   "cell_type": "markdown",
   "metadata": {},
   "source": [
    "### Load the Data\n",
    "\n",
    "For Arrow enabled environments, we'll directly input the isolet test data into the pipeline.\n",
    "\n",
    "For Arrow disabled environments, we'll load the data from the file `isolet_test_data.tsv`."
   ]
  },
  {
   "cell_type": "code",
   "execution_count": 129,
   "metadata": {},
   "outputs": [],
   "source": [
    "# read in data\n",
    "testdata = pandas.read_csv('isolet_test_data.tsv', sep='\\t')"
   ]
  },
  {
   "cell_type": "markdown",
   "metadata": {},
   "source": [
    "We'll display the data shape to verify it has 9 rows and 617 columsn per row."
   ]
  },
  {
   "cell_type": "code",
   "execution_count": 135,
   "metadata": {},
   "outputs": [
    {
     "data": {
      "text/plain": [
       "(9, 617)"
      ]
     },
     "execution_count": 135,
     "metadata": {},
     "output_type": "execute_result"
    }
   ],
   "source": [
    "# report the size of the data  -  9 rows, 617 columns each\n",
    "testdata.shape"
   ]
  },
  {
   "cell_type": "markdown",
   "metadata": {},
   "source": [
    "### Run Inference\n",
    "\n",
    "Use the Wallaroo pipeline `infer` method to run an inference and store the results into the variable `result`, then display the data from the result."
   ]
  },
  {
   "cell_type": "code",
   "execution_count": 144,
   "metadata": {},
   "outputs": [
    {
     "data": {
      "text/plain": [
       "0     [0.999963, 3.7014484e-05]\n",
       "1     [0.99774987, 0.002250135]\n",
       "2      [0.004735887, 0.9952641]\n",
       "3      [0.031078666, 0.9689213]\n",
       "4    [0.9996307, 0.00036931038]\n",
       "5     [0.9992027, 0.0007972717]\n",
       "6       [0.14781258, 0.8521874]\n",
       "7     [0.080456555, 0.91954345]\n",
       "8     [0.9987874, 0.0012125671]\n",
       "Name: out.probabilities, dtype: object"
      ]
     },
     "metadata": {},
     "output_type": "display_data"
    }
   ],
   "source": [
    "if arrowEnabled is True:\n",
    "    # convert to a tensor dataframe\n",
    "    inputdata = pd.DataFrame(columns=['tensor'])\n",
    "    for index, row in testdata.iterrows():\n",
    "        inputdata = inputdata.append({'tensor': row.values.tolist()}, ignore_index=True)\n",
    "    result = isoletpipeline.infer(inputdata)\n",
    "    display(result['out.probabilities'])\n",
    "else:\n",
    "    # convert data into Wallaroo tensor JSON\n",
    "    input_dict = {\n",
    "        'tensor': testdata.values.tolist()\n",
    "    }\n",
    "    result = isoletpipeline.infer(input_dict)\n",
    "    display(result[0].raw['outputs'])"
   ]
  },
  {
   "cell_type": "markdown",
   "metadata": {},
   "source": [
    "### Closing\n",
    "\n",
    "Once the tests are done, the pipeline should be undeployed to allocate the resources back to the Wallaroo instance.  For more details, see the [Wallaroo Pipeline Guide](https://docs.wallaroo.ai/wallaroo-operations-guide/wallaroo-pipeline-management/)."
   ]
  },
  {
   "cell_type": "code",
   "execution_count": 145,
   "metadata": {},
   "outputs": [
    {
     "data": {
      "text/html": [
       "<table><tr><th>name</th> <td>isoletpipeline</td></tr><tr><th>created</th> <td>2023-02-21 21:24:34.687987+00:00</td></tr><tr><th>last_updated</th> <td>2023-02-21 23:34:40.975970+00:00</td></tr><tr><th>deployed</th> <td>False</td></tr><tr><th>tags</th> <td></td></tr><tr><th>versions</th> <td>7eaf3d89-91d8-4b74-a096-d5ca4a01c8bf, 90eaf9ec-29f6-4723-8999-d09ab82b18fe, 5a346b73-750d-4059-a3d3-2b6803ed1e1e</td></tr><tr><th>steps</th> <td>isolettest</td></tr></table>"
      ],
      "text/plain": [
       "{'name': 'isoletpipeline', 'create_time': datetime.datetime(2023, 2, 21, 21, 24, 34, 687987, tzinfo=tzutc()), 'definition': \"[{'ModelInference': {'models': [{'name': 'isolettest', 'version': 'fa4743a0-be54-4a10-b852-1ae27293fbf4', 'sha': '58f31aa4a8dcecd3285bab022e5a724de514e03eb6d5ccd61b23780a9c374651'}]}}]\"}"
      ]
     },
     "execution_count": 145,
     "metadata": {},
     "output_type": "execute_result"
    }
   ],
   "source": [
    "isoletpipeline.undeploy()"
   ]
  },
  {
   "cell_type": "code",
   "execution_count": null,
   "metadata": {},
   "outputs": [],
   "source": []
  }
 ],
 "metadata": {
  "kernelspec": {
   "display_name": "arrowtests",
   "language": "python",
   "name": "python3"
  },
  "language_info": {
   "codemirror_mode": {
    "name": "ipython",
    "version": 3
   },
   "file_extension": ".py",
   "mimetype": "text/x-python",
   "name": "python",
   "nbconvert_exporter": "python",
   "pygments_lexer": "ipython3",
   "version": "3.8.12"
  },
  "vscode": {
   "interpreter": {
    "hash": "7dda4bf3640b7fafcd1648658b879b4cc9f6ba6084e8fb356fdaaa1a461d1690"
   }
  }
 },
 "nbformat": 4,
 "nbformat_minor": 4
}
