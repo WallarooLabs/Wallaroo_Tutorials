{
 "cells": [
  {
   "attachments": {},
   "cell_type": "markdown",
   "metadata": {},
   "source": [
    "## Logistic Version of the Isolet Model Test in Wallaroo\n",
    "\n",
    "The following demonstrates how to use a converted sk-learn Logistics ML model converted to ONNX  in Wallaroo.  This is meant to be a follow up to the tutorial `convert-sklearn-logistic-to-onnx.ipyb`, which demonstrates how to convert the sk-learn logicistics model to ONNX format and generates the file `isolet_logistic_model_numclass.onnx` that is used in this tutorial.\n",
    "\n",
    "For more details on using Wallaroo workspaces, pipelines, and models, see the [Wallaroo Documentation site](https://docs.wallaroo.ai).\n",
    "\n",
    "This tutorial includes the following assets:\n",
    "\n",
    "* `isolet_test_data.tsv`:  A test file that can be used to verify the output of the converted logistic model.\n",
    "* `test-converted-sklearn-logistics-to-onnx.ipynb`: This Jupyter Notebook that demonstrates the use of the converted sk-learn logistic ML model in ONNX with Wallaroo.\n",
    "\n",
    "## Prerequisites\n",
    "\n",
    "* An installed Wallaroo instance.\n",
    "* The following Python libraries installed:\n",
    "  * `os`\n",
    "  * [`wallaroo`](https://pypi.org/project/wallaroo/): The Wallaroo SDK. Included with the Wallaroo JupyterHub service by default.\n",
    "  * [`pandas`](https://pypi.org/project/pandas/): Pandas, mainly used for Pandas DataFrame"
   ]
  },
  {
   "attachments": {},
   "cell_type": "markdown",
   "metadata": {},
   "source": [
    "## Test Steps\n",
    "\n",
    "### Load Libraries\n",
    "\n",
    "The first step in the process is to load the necessary libraries."
   ]
  },
  {
   "cell_type": "code",
   "execution_count": 1,
   "metadata": {},
   "outputs": [],
   "source": [
    "# from their artifacts\n",
    "\n",
    "import wallaroo\n",
    "\n",
    "from wallaroo.object import EntityNotFoundError\n",
    "\n",
    "# used to display dataframe information without truncating\n",
    "from IPython.display import display\n",
    "import pandas as pd\n",
    "pd.set_option('display.max_colwidth', None)"
   ]
  },
  {
   "attachments": {},
   "cell_type": "markdown",
   "metadata": {},
   "source": [
    "### Connect to the Wallaroo Instance\n",
    "\n",
    "The first step is to connect to Wallaroo through the Wallaroo client.  The Python library is included in the Wallaroo install and available through the Jupyter Hub interface provided with your Wallaroo environment.\n",
    "\n",
    "This is accomplished using the `wallaroo.Client()` command, which provides a URL to grant the SDK permission to your specific Wallaroo environment.  When displayed, enter the URL into a browser and confirm permissions.  Store the connection into a variable that can be referenced later.\n",
    "\n",
    "If logging into the Wallaroo instance through the internal JupyterHub service, use `wl = wallaroo.Client()`.  For more information on Wallaroo DNS settings, see the [Wallaroo DNS Integration Guide](https://docs.wallaroo.ai/wallaroo-operations-guide/wallaroo-configuration/wallaroo-dns-guide/)."
   ]
  },
  {
   "cell_type": "code",
   "execution_count": 2,
   "metadata": {},
   "outputs": [],
   "source": [
    "# Login through local Wallaroo instance\n",
    "\n",
    "wl = wallaroo.Client()"
   ]
  },
  {
   "attachments": {},
   "cell_type": "markdown",
   "metadata": {},
   "source": [
    "### Connect to Workspace\n",
    "\n",
    "Either create or use an existing workspace.  In this example, we will connect to the existing workspace `isolettest` by using the `set_current_workspace` command.  For more details on connecting to a workspace, see the [Wallaroo SDK Essentials guide](https://docs.wallaroo.ai/wallaroo-sdk/wallaroo-sdk-essentials-guide/).\n",
    "\n",
    "![Wallaroo Workspace Example](./images/wallaroo-tutorials/isolet-workspace-example.png)"
   ]
  },
  {
   "cell_type": "code",
   "execution_count": 3,
   "metadata": {},
   "outputs": [],
   "source": [
    "workspace_name = 'isolettest'\n",
    "pipeline_name = 'isoletpipeline'\n",
    "model_name = 'isolettest'"
   ]
  },
  {
   "cell_type": "code",
   "execution_count": 4,
   "metadata": {},
   "outputs": [
    {
     "data": {
      "text/html": [
       "<table><tr><th>name</th> <td>isoletpipeline</td></tr><tr><th>created</th> <td>2023-05-17 21:17:33.444632+00:00</td></tr><tr><th>last_updated</th> <td>2023-05-17 21:17:33.444632+00:00</td></tr><tr><th>deployed</th> <td>(none)</td></tr><tr><th>tags</th> <td></td></tr><tr><th>versions</th> <td>145b768e-79f2-44fd-ab6b-14d675501b83</td></tr><tr><th>steps</th> <td></td></tr></table>"
      ],
      "text/plain": [
       "{'name': 'isoletpipeline', 'create_time': datetime.datetime(2023, 5, 17, 21, 17, 33, 444632, tzinfo=tzutc()), 'definition': '[]'}"
      ]
     },
     "execution_count": 4,
     "metadata": {},
     "output_type": "execute_result"
    }
   ],
   "source": [
    "def get_workspace(name):\n",
    "    workspace = None\n",
    "    for ws in wl.list_workspaces():\n",
    "        if ws.name() == name:\n",
    "            workspace= ws\n",
    "    if(workspace == None):\n",
    "        workspace = wl.create_workspace(name)\n",
    "    return workspace\n",
    "\n",
    "def get_pipeline(name):\n",
    "    try:\n",
    "        pipeline = wl.pipelines_by_name(name)[0]\n",
    "    except EntityNotFoundError:\n",
    "        pipeline = wl.build_pipeline(name)\n",
    "    return pipeline\n",
    "\n",
    "workspace = get_workspace(workspace_name)\n",
    "\n",
    "wl.set_current_workspace(workspace)\n",
    "\n",
    "isoletpipeline = get_pipeline(pipeline_name)\n",
    "isoletpipeline"
   ]
  },
  {
   "attachments": {},
   "cell_type": "markdown",
   "metadata": {},
   "source": [
    "### Upload Model\n",
    "\n",
    "Upload the `isolet_logistic_model_numclass.onnx` model as `isolet-test` with the `upload_model` method:"
   ]
  },
  {
   "cell_type": "code",
   "execution_count": 5,
   "metadata": {},
   "outputs": [],
   "source": [
    "model = wl.upload_model(model_name, './isolet_logistic_model_numclass.onnx').configure()"
   ]
  },
  {
   "cell_type": "code",
   "execution_count": 6,
   "metadata": {},
   "outputs": [
    {
     "data": {
      "text/html": [
       "<table><tr><th>name</th> <td>isoletpipeline</td></tr><tr><th>created</th> <td>2023-05-17 21:17:33.444632+00:00</td></tr><tr><th>last_updated</th> <td>2023-05-17 21:17:33.444632+00:00</td></tr><tr><th>deployed</th> <td>(none)</td></tr><tr><th>tags</th> <td></td></tr><tr><th>versions</th> <td>145b768e-79f2-44fd-ab6b-14d675501b83</td></tr><tr><th>steps</th> <td></td></tr></table>"
      ],
      "text/plain": [
       "{'name': 'isoletpipeline', 'create_time': datetime.datetime(2023, 5, 17, 21, 17, 33, 444632, tzinfo=tzutc()), 'definition': \"[{'ModelInference': {'models': [{'name': 'isolettest', 'version': '7b3885e9-8bef-4f24-93ab-ff87d13c2e42', 'sha': '1e920fd5287f7a6faa70da9cfcaaa80dda5fa2ecb388d7e541cefd84d269c1e9'}]}}]\"}"
      ]
     },
     "execution_count": 6,
     "metadata": {},
     "output_type": "execute_result"
    }
   ],
   "source": [
    "isoletpipeline.add_model_step(model)"
   ]
  },
  {
   "attachments": {},
   "cell_type": "markdown",
   "metadata": {},
   "source": [
    "### Deploy Pipeline\n",
    "\n",
    "Pipelines can be deployed either with the Wallaroo Dashboard user interface or through the SDK.  For this example, we have the pipeline `isolet-pipeline` deployed and assigned to the variable `isoletpipeline`.  For more details, see the [Wallaroo Pipeline Guide](https://docs.wallaroo.ai/wallaroo-operations-guide/wallaroo-pipeline-management/).\n",
    "\n",
    "![Wallaroo Workspace Example](./images/wallaroo-tutorials/isolet-pipeline-example.png)\n",
    "\n",
    "We can check the status of the pipeline with the Wallaroo pipeline `status` method."
   ]
  },
  {
   "cell_type": "code",
   "execution_count": 7,
   "metadata": {},
   "outputs": [
    {
     "data": {
      "text/html": [
       "<table><tr><th>name</th> <td>isoletpipeline</td></tr><tr><th>created</th> <td>2023-05-17 21:17:33.444632+00:00</td></tr><tr><th>last_updated</th> <td>2023-05-17 21:17:44.618177+00:00</td></tr><tr><th>deployed</th> <td>True</td></tr><tr><th>tags</th> <td></td></tr><tr><th>versions</th> <td>c129b33c-cefc-4873-ad2c-d186fe2b8228, 145b768e-79f2-44fd-ab6b-14d675501b83</td></tr><tr><th>steps</th> <td>isolettest</td></tr></table>"
      ],
      "text/plain": [
       "{'name': 'isoletpipeline', 'create_time': datetime.datetime(2023, 5, 17, 21, 17, 33, 444632, tzinfo=tzutc()), 'definition': \"[{'ModelInference': {'models': [{'name': 'isolettest', 'version': '7b3885e9-8bef-4f24-93ab-ff87d13c2e42', 'sha': '1e920fd5287f7a6faa70da9cfcaaa80dda5fa2ecb388d7e541cefd84d269c1e9'}]}}]\"}"
      ]
     },
     "execution_count": 7,
     "metadata": {},
     "output_type": "execute_result"
    }
   ],
   "source": [
    "isoletpipeline.deploy()"
   ]
  },
  {
   "attachments": {},
   "cell_type": "markdown",
   "metadata": {},
   "source": [
    "### Load the Data\n",
    "\n",
    "We'll load the data from the file `isolet_test_data.tsv`."
   ]
  },
  {
   "cell_type": "code",
   "execution_count": 8,
   "metadata": {},
   "outputs": [],
   "source": [
    "# read in data\n",
    "testdata = pd.read_csv('isolet_test_data.tsv', sep='\\t')"
   ]
  },
  {
   "attachments": {},
   "cell_type": "markdown",
   "metadata": {},
   "source": [
    "We'll display the data shape to verify it has 9 rows and 617 columsn per row."
   ]
  },
  {
   "cell_type": "code",
   "execution_count": 9,
   "metadata": {},
   "outputs": [
    {
     "data": {
      "text/plain": [
       "(9, 617)"
      ]
     },
     "execution_count": 9,
     "metadata": {},
     "output_type": "execute_result"
    }
   ],
   "source": [
    "# report the size of the data  -  9 rows, 617 columns each\n",
    "testdata.shape"
   ]
  },
  {
   "attachments": {},
   "cell_type": "markdown",
   "metadata": {},
   "source": [
    "### Run Inference\n",
    "\n",
    "Use the Wallaroo pipeline `infer` method to run an inference and store the results into the variable `result`, then display the data from the result."
   ]
  },
  {
   "cell_type": "code",
   "execution_count": 10,
   "metadata": {},
   "outputs": [
    {
     "data": {
      "text/plain": [
       "0     [0.999963, 3.7014484e-05]\n",
       "1     [0.99774987, 0.002250135]\n",
       "2      [0.004735887, 0.9952641]\n",
       "3      [0.031078666, 0.9689213]\n",
       "4    [0.9996307, 0.00036931038]\n",
       "5     [0.9992027, 0.0007972717]\n",
       "6       [0.14781258, 0.8521874]\n",
       "7     [0.080456555, 0.91954345]\n",
       "8     [0.9987874, 0.0012125671]\n",
       "Name: out.probabilities, dtype: object"
      ]
     },
     "metadata": {},
     "output_type": "display_data"
    }
   ],
   "source": [
    "# convert to a tensor dataframe\n",
    "inputdata = pd.DataFrame(columns=['tensor'])\n",
    "for index, row in testdata.iterrows():\n",
    "    inputdata = inputdata.append({'tensor': row.values.tolist()}, ignore_index=True)\n",
    "result = isoletpipeline.infer(inputdata)\n",
    "display(result['out.probabilities'])"
   ]
  },
  {
   "attachments": {},
   "cell_type": "markdown",
   "metadata": {},
   "source": [
    "### Closing\n",
    "\n",
    "Once the tests are done, the pipeline should be undeployed to allocate the resources back to the Wallaroo instance.  For more details, see the [Wallaroo Pipeline Guide](https://docs.wallaroo.ai/wallaroo-operations-guide/wallaroo-pipeline-management/)."
   ]
  },
  {
   "cell_type": "code",
   "execution_count": 11,
   "metadata": {},
   "outputs": [
    {
     "data": {
      "text/html": [
       "<table><tr><th>name</th> <td>isoletpipeline</td></tr><tr><th>created</th> <td>2023-05-17 21:17:33.444632+00:00</td></tr><tr><th>last_updated</th> <td>2023-05-17 21:17:44.618177+00:00</td></tr><tr><th>deployed</th> <td>False</td></tr><tr><th>tags</th> <td></td></tr><tr><th>versions</th> <td>c129b33c-cefc-4873-ad2c-d186fe2b8228, 145b768e-79f2-44fd-ab6b-14d675501b83</td></tr><tr><th>steps</th> <td>isolettest</td></tr></table>"
      ],
      "text/plain": [
       "{'name': 'isoletpipeline', 'create_time': datetime.datetime(2023, 5, 17, 21, 17, 33, 444632, tzinfo=tzutc()), 'definition': \"[{'ModelInference': {'models': [{'name': 'isolettest', 'version': '7b3885e9-8bef-4f24-93ab-ff87d13c2e42', 'sha': '1e920fd5287f7a6faa70da9cfcaaa80dda5fa2ecb388d7e541cefd84d269c1e9'}]}}]\"}"
      ]
     },
     "execution_count": 11,
     "metadata": {},
     "output_type": "execute_result"
    }
   ],
   "source": [
    "isoletpipeline.undeploy()"
   ]
  }
 ],
 "metadata": {
  "kernelspec": {
   "display_name": "arrowtests",
   "language": "python",
   "name": "python3"
  },
  "language_info": {
   "codemirror_mode": {
    "name": "ipython",
    "version": 3
   },
   "file_extension": ".py",
   "mimetype": "text/x-python",
   "name": "python",
   "nbconvert_exporter": "python",
   "pygments_lexer": "ipython3",
   "version": "3.9.16"
  },
  "vscode": {
   "interpreter": {
    "hash": "7dda4bf3640b7fafcd1648658b879b4cc9f6ba6084e8fb356fdaaa1a461d1690"
   }
  }
 },
 "nbformat": 4,
 "nbformat_minor": 4
}
