{
 "cells": [
  {
   "attachments": {},
   "cell_type": "markdown",
   "metadata": {},
   "source": [
    "This tutorial and the assets can be downloaded as part of the [Wallaroo Tutorials repository](https://github.com/WallarooLabs/Wallaroo_Tutorials/tree/main/wallaroo-model-cookbooks/demand_curve).\n",
    "\n",
    "## Demand Curve Pipeline Tutorial\n",
    "\n",
    "This worksheet demonstrates a Wallaroo pipeline with data preprocessing, a model, and data postprocessing.\n",
    "\n",
    "The model is a \"demand curve\" that predicts the expected number of units of a product that will be sold to a customer as a function of unit price and facts about the customer. Such models can be used for price optimization or sales volume forecasting.  This is purely a \"toy\" demonstration, but is useful for detailing the process of working with models and pipelines.\n",
    "\n",
    "Data preprocessing is required to create the features used by the model. Simple postprocessing prevents nonsensical estimates (e.g. negative units sold).\n",
    "\n",
    "## Prerequisites\n",
    "\n",
    "* An installed Wallaroo instance.\n",
    "* The following Python libraries installed:\n",
    "  * `os`\n",
    "  * [`wallaroo`](https://pypi.org/project/wallaroo/): The Wallaroo SDK. Included with the Wallaroo JupyterHub service by default."
   ]
  },
  {
   "cell_type": "code",
   "execution_count": 104,
   "metadata": {},
   "outputs": [],
   "source": [
    "import json\n",
    "import wallaroo\n",
    "from wallaroo.object import EntityNotFoundError\n",
    "import pandas\n",
    "import numpy\n",
    "import conversion\n",
    "from wallaroo.object import EntityNotFoundError\n",
    "import pyarrow as pa\n",
    "\n",
    "# used to display dataframe information without truncating\n",
    "from IPython.display import display\n",
    "import pandas as pd\n",
    "pd.set_option('display.max_colwidth', None)\n",
    "\n",
    "# ignoring warnings for demonstration\n",
    "import warnings\n",
    "warnings.filterwarnings('ignore')"
   ]
  },
  {
   "attachments": {},
   "cell_type": "markdown",
   "metadata": {},
   "source": [
    "### Connect to the Wallaroo Instance\n",
    "\n",
    "The first step is to connect to Wallaroo through the Wallaroo client.  The Python library is included in the Wallaroo install and available through the Jupyter Hub interface provided with your Wallaroo environment.\n",
    "\n",
    "This is accomplished using the `wallaroo.Client()` command, which provides a URL to grant the SDK permission to your specific Wallaroo environment.  When displayed, enter the URL into a browser and confirm permissions.  Store the connection into a variable that can be referenced later.\n",
    "\n",
    "If logging into the Wallaroo instance through the internal JupyterHub service, use `wl = wallaroo.Client()`.  For more information on Wallaroo Client settings, see the [Client Connection guide](https://docs.wallaroo.ai/wallaroo-developer-guides/wallaroo-sdk-guides/wallaroo-sdk-essentials-guide/wallaroo-sdk-essentials-client/)."
   ]
  },
  {
   "cell_type": "code",
   "execution_count": 105,
   "metadata": {},
   "outputs": [],
   "source": [
    "# Login through local Wallaroo instance\n",
    "\n",
    "wl = wallaroo.Client()"
   ]
  },
  {
   "attachments": {},
   "cell_type": "markdown",
   "metadata": {},
   "source": [
    "Now that the Wallaroo client has been initialized, we can create the workspace and call it `demandcurveworkspace`, then set it as our current workspace.  We'll also create our pipeline so it's ready when we add our models to it."
   ]
  },
  {
   "attachments": {},
   "cell_type": "markdown",
   "metadata": {},
   "source": [
    "We'll set some variables and methods to create our workspace, pipelines and models.  Note that as of the July 2022 release of Wallaroo, workspace names must be unique.  Pipelines with the same name will be created as a new version when built."
   ]
  },
  {
   "cell_type": "code",
   "execution_count": 106,
   "metadata": {},
   "outputs": [],
   "source": [
    "workspace_name = 'demandcurveworkspace'\n",
    "pipeline_name = 'demandcurvepipeline'\n",
    "model_name = 'demandcurvemodel'\n",
    "model_file_name = './demand_curve_v1.onnx'"
   ]
  },
  {
   "cell_type": "code",
   "execution_count": 107,
   "metadata": {},
   "outputs": [],
   "source": [
    "def get_workspace(name):\n",
    "    workspace = None\n",
    "    for ws in wl.list_workspaces():\n",
    "        if ws.name() == name:\n",
    "            workspace= ws\n",
    "    if(workspace == None):\n",
    "        workspace = wl.create_workspace(name)\n",
    "    return workspace\n",
    "\n",
    "def get_pipeline(name):\n",
    "    try:\n",
    "        pipeline = wl.pipelines_by_name(name)[0]\n",
    "    except EntityNotFoundError:\n",
    "        pipeline = wl.build_pipeline(name)\n",
    "    return pipeline"
   ]
  },
  {
   "cell_type": "code",
   "execution_count": 108,
   "metadata": {},
   "outputs": [
    {
     "data": {
      "text/html": [
       "<table><tr><th>name</th> <td>demandcurvepipeline</td></tr><tr><th>created</th> <td>2024-02-13 17:42:28.947252+00:00</td></tr><tr><th>last_updated</th> <td>2024-02-13 19:00:43.226475+00:00</td></tr><tr><th>deployed</th> <td>False</td></tr><tr><th>arch</th> <td>None</td></tr><tr><th>accel</th> <td>None</td></tr><tr><th>tags</th> <td></td></tr><tr><th>versions</th> <td>f82b1315-ad7c-486a-9984-997596911cb3, cff86420-76e7-4204-bebd-bca35c343bc1, 59e8b52f-0f55-45cd-b348-31926cfffcf1, 55334083-061d-451d-a517-c02af05b71a8, b5ac75a7-2e07-4ed3-b81d-457a094eaa41, 10e7ae2d-369d-4bb3-84c8-3ccdcb85dd55, fe408a5c-0d73-4340-be88-66aa4e4e070a, 78126450-25b9-4a5c-a07e-7a183c144ae1, a0ed67d5-32c0-4d09-83eb-56690186931c, d14c9f6f-f29f-42bd-b94a-b5cd24eb6fde, e79b3f83-436e-4b75-b24b-d7eea3e1ea0a, 3380490c-3862-49ad-9d88-6b8bc2c3b1fb, 4ec8cd65-0690-44a9-8a50-babe78fb0f93, 1d7baa00-4d07-44d7-a7a6-4ec2f1a20580, d7e7e52a-5a25-4fd6-96c5-c223b167ea18</td></tr><tr><th>steps</th> <td>curve-preprocess</td></tr><tr><th>published</th> <td>False</td></tr></table>"
      ],
      "text/plain": [
       "{'name': 'demandcurvepipeline', 'create_time': datetime.datetime(2024, 2, 13, 17, 42, 28, 947252, tzinfo=tzutc()), 'definition': '[]'}"
      ]
     },
     "execution_count": 108,
     "metadata": {},
     "output_type": "execute_result"
    }
   ],
   "source": [
    "workspace = get_workspace(workspace_name)\n",
    "\n",
    "wl.set_current_workspace(workspace)\n",
    "\n",
    "demandcurve_pipeline = get_pipeline(pipeline_name)\n",
    "demandcurve_pipeline"
   ]
  },
  {
   "attachments": {},
   "cell_type": "markdown",
   "metadata": {},
   "source": [
    "With our workspace established, we'll upload two models:\n",
    "\n",
    "* `preprocess.py`: A Python step that converts the incoming DataFrame into tensor values.\n",
    "* `demand_curve_v1.onnx`: Our demand_curve model.  We'll store the upload configuration into `demand_curve_model`.\n",
    "\n",
    "Note that the order we upload our models isn't important - we'll be establishing the actual process of moving data from one model to the next when we set up our pipeline."
   ]
  },
  {
   "cell_type": "code",
   "execution_count": 109,
   "metadata": {},
   "outputs": [],
   "source": [
    "demand_curve_model = (wl.upload_model(model_name, \n",
    "                                      model_file_name, \n",
    "                                      framework=wallaroo.framework.Framework.ONNX)\n",
    "                                      .configure(tensor_fields=[\"tensor\"])\n",
    "                    )\n",
    "\n",
    "preprocess_input_schema = pa.schema([\n",
    "    pa.field('Date', pa.string()),\n",
    "    pa.field('cust_known', pa.bool_()),\n",
    "    pa.field('StockCode', pa.int32()),\n",
    "    pa.field('UnitPrice', pa.float32()),\n",
    "    pa.field('UnitsSold', pa.int32())\n",
    "])\n",
    "\n",
    "preprocess_input_output = pa.schema([\n",
    "    pa.field('tensor', pa.list_(pa.float64()))\n",
    "])\n",
    "\n",
    "preprocess_step = (wl.upload_model('curve-preprocess', \n",
    "                        './preprocess.py', \n",
    "                        framework=wallaroo.framework.Framework.PYTHON)\n",
    "                        .configure(\n",
    "                            'python', \n",
    "                            input_schema=preprocess_input_schema, \n",
    "                            output_schema=preprocess_input_output\n",
    "                        )\n",
    "        )"
   ]
  },
  {
   "attachments": {},
   "cell_type": "markdown",
   "metadata": {},
   "source": [
    "With our models uploaded, we're going to create our own pipeline and give it three steps:\n",
    "\n",
    "* First, we apply the data to our `demand_curve_model`."
   ]
  },
  {
   "cell_type": "code",
   "execution_count": 110,
   "metadata": {},
   "outputs": [
    {
     "data": {
      "text/html": [
       "<table><tr><th>name</th> <td>demandcurvepipeline</td></tr><tr><th>created</th> <td>2024-02-13 17:42:28.947252+00:00</td></tr><tr><th>last_updated</th> <td>2024-02-13 19:00:43.226475+00:00</td></tr><tr><th>deployed</th> <td>False</td></tr><tr><th>arch</th> <td>None</td></tr><tr><th>accel</th> <td>None</td></tr><tr><th>tags</th> <td></td></tr><tr><th>versions</th> <td>f82b1315-ad7c-486a-9984-997596911cb3, cff86420-76e7-4204-bebd-bca35c343bc1, 59e8b52f-0f55-45cd-b348-31926cfffcf1, 55334083-061d-451d-a517-c02af05b71a8, b5ac75a7-2e07-4ed3-b81d-457a094eaa41, 10e7ae2d-369d-4bb3-84c8-3ccdcb85dd55, fe408a5c-0d73-4340-be88-66aa4e4e070a, 78126450-25b9-4a5c-a07e-7a183c144ae1, a0ed67d5-32c0-4d09-83eb-56690186931c, d14c9f6f-f29f-42bd-b94a-b5cd24eb6fde, e79b3f83-436e-4b75-b24b-d7eea3e1ea0a, 3380490c-3862-49ad-9d88-6b8bc2c3b1fb, 4ec8cd65-0690-44a9-8a50-babe78fb0f93, 1d7baa00-4d07-44d7-a7a6-4ec2f1a20580, d7e7e52a-5a25-4fd6-96c5-c223b167ea18</td></tr><tr><th>steps</th> <td>curve-preprocess</td></tr><tr><th>published</th> <td>False</td></tr></table>"
      ],
      "text/plain": [
       "{'name': 'demandcurvepipeline', 'create_time': datetime.datetime(2024, 2, 13, 17, 42, 28, 947252, tzinfo=tzutc()), 'definition': \"[{'ModelInference': {'models': [{'name': 'curve-preprocess', 'version': '093d64b7-8280-4b5c-b43d-120115445252', 'sha': '3b2b32fb6408ccee5a1886ef5cdb493692080ff6699f49de518b20d9a6f6a133'}]}}, {'ModelInference': {'models': [{'name': 'demandcurvemodel', 'version': '0eeec65f-1efc-4604-b2e5-f1c0f5b00a96', 'sha': '2820b42c9e778ae259918315f25afc8685ecab9967bad0a3d241e6191b414a0d'}]}}]\"}"
      ]
     },
     "execution_count": 110,
     "metadata": {},
     "output_type": "execute_result"
    }
   ],
   "source": [
    "# now make a pipeline\n",
    "demandcurve_pipeline.undeploy()\n",
    "demandcurve_pipeline.clear()\n",
    "demandcurve_pipeline.add_model_step(preprocess_step)\n",
    "demandcurve_pipeline.add_model_step(demand_curve_model)"
   ]
  },
  {
   "attachments": {},
   "cell_type": "markdown",
   "metadata": {},
   "source": [
    "And with that - let's deploy our model pipeline.  This usually takes about 45 seconds for the deployment to finish."
   ]
  },
  {
   "cell_type": "code",
   "execution_count": 111,
   "metadata": {},
   "outputs": [
    {
     "data": {
      "text/html": [
       "<table><tr><th>name</th> <td>demandcurvepipeline</td></tr><tr><th>created</th> <td>2024-02-13 17:42:28.947252+00:00</td></tr><tr><th>last_updated</th> <td>2024-02-13 19:05:33.325520+00:00</td></tr><tr><th>deployed</th> <td>True</td></tr><tr><th>arch</th> <td>None</td></tr><tr><th>accel</th> <td>None</td></tr><tr><th>tags</th> <td></td></tr><tr><th>versions</th> <td>ab0bb94b-6247-4fab-bab5-be45f60e44d0, f82b1315-ad7c-486a-9984-997596911cb3, cff86420-76e7-4204-bebd-bca35c343bc1, 59e8b52f-0f55-45cd-b348-31926cfffcf1, 55334083-061d-451d-a517-c02af05b71a8, b5ac75a7-2e07-4ed3-b81d-457a094eaa41, 10e7ae2d-369d-4bb3-84c8-3ccdcb85dd55, fe408a5c-0d73-4340-be88-66aa4e4e070a, 78126450-25b9-4a5c-a07e-7a183c144ae1, a0ed67d5-32c0-4d09-83eb-56690186931c, d14c9f6f-f29f-42bd-b94a-b5cd24eb6fde, e79b3f83-436e-4b75-b24b-d7eea3e1ea0a, 3380490c-3862-49ad-9d88-6b8bc2c3b1fb, 4ec8cd65-0690-44a9-8a50-babe78fb0f93, 1d7baa00-4d07-44d7-a7a6-4ec2f1a20580, d7e7e52a-5a25-4fd6-96c5-c223b167ea18</td></tr><tr><th>steps</th> <td>curve-preprocess</td></tr><tr><th>published</th> <td>False</td></tr></table>"
      ],
      "text/plain": [
       "{'name': 'demandcurvepipeline', 'create_time': datetime.datetime(2024, 2, 13, 17, 42, 28, 947252, tzinfo=tzutc()), 'definition': \"[{'ModelInference': {'models': [{'name': 'curve-preprocess', 'version': '093d64b7-8280-4b5c-b43d-120115445252', 'sha': '3b2b32fb6408ccee5a1886ef5cdb493692080ff6699f49de518b20d9a6f6a133'}]}}, {'ModelInference': {'models': [{'name': 'demandcurvemodel', 'version': '0eeec65f-1efc-4604-b2e5-f1c0f5b00a96', 'sha': '2820b42c9e778ae259918315f25afc8685ecab9967bad0a3d241e6191b414a0d'}]}}]\"}"
      ]
     },
     "execution_count": 111,
     "metadata": {},
     "output_type": "execute_result"
    }
   ],
   "source": [
    "deploy_config = wallaroo.DeploymentConfigBuilder().replica_count(1).cpus(1).memory(\"1Gi\").build()\n",
    "demandcurve_pipeline.deploy(deployment_config=deploy_config)"
   ]
  },
  {
   "attachments": {},
   "cell_type": "markdown",
   "metadata": {},
   "source": [
    "We can check the status of our pipeline to make sure everything was set up correctly:"
   ]
  },
  {
   "cell_type": "code",
   "execution_count": 112,
   "metadata": {},
   "outputs": [
    {
     "data": {
      "text/plain": [
       "{'status': 'Running',\n",
       " 'details': [],\n",
       " 'engines': [{'ip': '10.100.1.151',\n",
       "   'name': 'engine-66f647b6ff-j8l5p',\n",
       "   'status': 'Running',\n",
       "   'reason': None,\n",
       "   'details': [],\n",
       "   'pipeline_statuses': {'pipelines': [{'id': 'demandcurvepipeline',\n",
       "      'status': 'Running'}]},\n",
       "   'model_statuses': {'models': [{'name': 'curve-preprocess',\n",
       "      'version': '093d64b7-8280-4b5c-b43d-120115445252',\n",
       "      'sha': '3b2b32fb6408ccee5a1886ef5cdb493692080ff6699f49de518b20d9a6f6a133',\n",
       "      'status': 'Running'},\n",
       "     {'name': 'demandcurvemodel',\n",
       "      'version': '0eeec65f-1efc-4604-b2e5-f1c0f5b00a96',\n",
       "      'sha': '2820b42c9e778ae259918315f25afc8685ecab9967bad0a3d241e6191b414a0d',\n",
       "      'status': 'Running'}]}}],\n",
       " 'engine_lbs': [{'ip': '10.100.0.87',\n",
       "   'name': 'engine-lb-dcd9c8cd7-76mhp',\n",
       "   'status': 'Running',\n",
       "   'reason': None,\n",
       "   'details': []}],\n",
       " 'sidekicks': []}"
      ]
     },
     "execution_count": 112,
     "metadata": {},
     "output_type": "execute_result"
    }
   ],
   "source": [
    "demandcurve_pipeline.status()"
   ]
  },
  {
   "attachments": {},
   "cell_type": "markdown",
   "metadata": {},
   "source": [
    "Everything is ready.  Let's feed our pipeline some data.  We have some information prepared with the `daily_purchasses.csv` spreadsheet.  We'll start with just one row to make sure that everything is working correctly."
   ]
  },
  {
   "cell_type": "code",
   "execution_count": 113,
   "metadata": {},
   "outputs": [
    {
     "data": {
      "text/html": [
       "<div>\n",
       "<style scoped>\n",
       "    .dataframe tbody tr th:only-of-type {\n",
       "        vertical-align: middle;\n",
       "    }\n",
       "\n",
       "    .dataframe tbody tr th {\n",
       "        vertical-align: top;\n",
       "    }\n",
       "\n",
       "    .dataframe thead th {\n",
       "        text-align: right;\n",
       "    }\n",
       "</style>\n",
       "<table border=\"1\" class=\"dataframe\">\n",
       "  <thead>\n",
       "    <tr style=\"text-align: right;\">\n",
       "      <th></th>\n",
       "      <th>Date</th>\n",
       "      <th>cust_known</th>\n",
       "      <th>StockCode</th>\n",
       "      <th>UnitPrice</th>\n",
       "      <th>UnitsSold</th>\n",
       "    </tr>\n",
       "  </thead>\n",
       "  <tbody>\n",
       "    <tr>\n",
       "      <th>0</th>\n",
       "      <td>2010-12-01</td>\n",
       "      <td>False</td>\n",
       "      <td>21928</td>\n",
       "      <td>4.21</td>\n",
       "      <td>1</td>\n",
       "    </tr>\n",
       "  </tbody>\n",
       "</table>\n",
       "</div>"
      ],
      "text/plain": [
       "         Date  cust_known StockCode  UnitPrice  UnitsSold\n",
       "0  2010-12-01       False     21928       4.21          1"
      ]
     },
     "execution_count": 113,
     "metadata": {},
     "output_type": "execute_result"
    }
   ],
   "source": [
    "# read in some purchase data\n",
    "purchases = pandas.read_csv('daily_purchases.csv')\n",
    "\n",
    "# start with a one-row data frame for testing\n",
    "subsamp_raw = purchases.iloc[0:1,: ]\n",
    "subsamp_raw"
   ]
  },
  {
   "cell_type": "code",
   "execution_count": 114,
   "metadata": {},
   "outputs": [
    {
     "data": {
      "text/html": [
       "<div>\n",
       "<style scoped>\n",
       "    .dataframe tbody tr th:only-of-type {\n",
       "        vertical-align: middle;\n",
       "    }\n",
       "\n",
       "    .dataframe tbody tr th {\n",
       "        vertical-align: top;\n",
       "    }\n",
       "\n",
       "    .dataframe thead th {\n",
       "        text-align: right;\n",
       "    }\n",
       "</style>\n",
       "<table border=\"1\" class=\"dataframe\">\n",
       "  <thead>\n",
       "    <tr style=\"text-align: right;\">\n",
       "      <th></th>\n",
       "      <th>time</th>\n",
       "      <th>in.Date</th>\n",
       "      <th>in.StockCode</th>\n",
       "      <th>in.UnitPrice</th>\n",
       "      <th>in.UnitsSold</th>\n",
       "      <th>in.cust_known</th>\n",
       "      <th>out.variable</th>\n",
       "      <th>anomaly.count</th>\n",
       "    </tr>\n",
       "  </thead>\n",
       "  <tbody>\n",
       "    <tr>\n",
       "      <th>0</th>\n",
       "      <td>2024-02-13 19:05:54.701</td>\n",
       "      <td>2010-12-01</td>\n",
       "      <td>21928</td>\n",
       "      <td>4.21</td>\n",
       "      <td>1</td>\n",
       "      <td>False</td>\n",
       "      <td>[6.680255142999893]</td>\n",
       "      <td>0</td>\n",
       "    </tr>\n",
       "  </tbody>\n",
       "</table>\n",
       "</div>"
      ],
      "text/plain": [
       "                     time     in.Date in.StockCode  in.UnitPrice  \\\n",
       "0 2024-02-13 19:05:54.701  2010-12-01        21928          4.21   \n",
       "\n",
       "   in.UnitsSold  in.cust_known         out.variable  anomaly.count  \n",
       "0             1          False  [6.680255142999893]              0  "
      ]
     },
     "metadata": {},
     "output_type": "display_data"
    }
   ],
   "source": [
    "result = demandcurve_pipeline.infer(subsamp_raw)\n",
    "display(result)"
   ]
  },
  {
   "attachments": {},
   "cell_type": "markdown",
   "metadata": {},
   "source": [
    "We can see from the `out.variable` field that the demand curve has a predicted slope of 6.68 from our sample data.  We can isolate that by specifying just the data output below."
   ]
  },
  {
   "cell_type": "code",
   "execution_count": 115,
   "metadata": {},
   "outputs": [
    {
     "data": {
      "text/plain": [
       "[6.680255142999893]"
      ]
     },
     "metadata": {},
     "output_type": "display_data"
    }
   ],
   "source": [
    "display(result.loc[0, ['out.variable']][0])"
   ]
  },
  {
   "attachments": {},
   "cell_type": "markdown",
   "metadata": {},
   "source": [
    "# Bulk Inference"
   ]
  },
  {
   "attachments": {},
   "cell_type": "markdown",
   "metadata": {},
   "source": [
    "The initial test went perfectly.  Now let's throw some more data into our pipeline.  We'll draw 10 random rows from our spreadsheet, perform an inference from that, and then display the results and the logs showing the pipeline's actions."
   ]
  },
  {
   "cell_type": "code",
   "execution_count": 116,
   "metadata": {},
   "outputs": [
    {
     "data": {
      "text/html": [
       "<div>\n",
       "<style scoped>\n",
       "    .dataframe tbody tr th:only-of-type {\n",
       "        vertical-align: middle;\n",
       "    }\n",
       "\n",
       "    .dataframe tbody tr th {\n",
       "        vertical-align: top;\n",
       "    }\n",
       "\n",
       "    .dataframe thead th {\n",
       "        text-align: right;\n",
       "    }\n",
       "</style>\n",
       "<table border=\"1\" class=\"dataframe\">\n",
       "  <thead>\n",
       "    <tr style=\"text-align: right;\">\n",
       "      <th></th>\n",
       "      <th>Date</th>\n",
       "      <th>cust_known</th>\n",
       "      <th>StockCode</th>\n",
       "      <th>UnitPrice</th>\n",
       "      <th>UnitsSold</th>\n",
       "    </tr>\n",
       "  </thead>\n",
       "  <tbody>\n",
       "    <tr>\n",
       "      <th>0</th>\n",
       "      <td>2011-10-31</td>\n",
       "      <td>True</td>\n",
       "      <td>20711</td>\n",
       "      <td>2.08</td>\n",
       "      <td>10</td>\n",
       "    </tr>\n",
       "    <tr>\n",
       "      <th>1</th>\n",
       "      <td>2011-08-26</td>\n",
       "      <td>True</td>\n",
       "      <td>23203</td>\n",
       "      <td>2.08</td>\n",
       "      <td>44</td>\n",
       "    </tr>\n",
       "    <tr>\n",
       "      <th>2</th>\n",
       "      <td>2011-05-06</td>\n",
       "      <td>False</td>\n",
       "      <td>21930</td>\n",
       "      <td>4.13</td>\n",
       "      <td>7</td>\n",
       "    </tr>\n",
       "    <tr>\n",
       "      <th>3</th>\n",
       "      <td>2011-05-05</td>\n",
       "      <td>False</td>\n",
       "      <td>22385</td>\n",
       "      <td>2.08</td>\n",
       "      <td>5</td>\n",
       "    </tr>\n",
       "    <tr>\n",
       "      <th>4</th>\n",
       "      <td>2011-05-22</td>\n",
       "      <td>True</td>\n",
       "      <td>22385</td>\n",
       "      <td>2.08</td>\n",
       "      <td>1</td>\n",
       "    </tr>\n",
       "    <tr>\n",
       "      <th>5</th>\n",
       "      <td>2011-08-18</td>\n",
       "      <td>True</td>\n",
       "      <td>20712</td>\n",
       "      <td>2.08</td>\n",
       "      <td>50</td>\n",
       "    </tr>\n",
       "    <tr>\n",
       "      <th>6</th>\n",
       "      <td>2011-11-16</td>\n",
       "      <td>False</td>\n",
       "      <td>21931</td>\n",
       "      <td>4.13</td>\n",
       "      <td>7</td>\n",
       "    </tr>\n",
       "    <tr>\n",
       "      <th>7</th>\n",
       "      <td>2010-12-07</td>\n",
       "      <td>False</td>\n",
       "      <td>85099F</td>\n",
       "      <td>4.21</td>\n",
       "      <td>1</td>\n",
       "    </tr>\n",
       "    <tr>\n",
       "      <th>8</th>\n",
       "      <td>2011-09-04</td>\n",
       "      <td>True</td>\n",
       "      <td>21929</td>\n",
       "      <td>2.08</td>\n",
       "      <td>12</td>\n",
       "    </tr>\n",
       "    <tr>\n",
       "      <th>9</th>\n",
       "      <td>2011-05-12</td>\n",
       "      <td>True</td>\n",
       "      <td>23201</td>\n",
       "      <td>1.95</td>\n",
       "      <td>10</td>\n",
       "    </tr>\n",
       "  </tbody>\n",
       "</table>\n",
       "</div>"
      ],
      "text/plain": [
       "         Date  cust_known StockCode  UnitPrice  UnitsSold\n",
       "0  2011-10-31        True     20711       2.08         10\n",
       "1  2011-08-26        True     23203       2.08         44\n",
       "2  2011-05-06       False     21930       4.13          7\n",
       "3  2011-05-05       False     22385       2.08          5\n",
       "4  2011-05-22        True     22385       2.08          1\n",
       "5  2011-08-18        True     20712       2.08         50\n",
       "6  2011-11-16       False     21931       4.13          7\n",
       "7  2010-12-07       False    85099F       4.21          1\n",
       "8  2011-09-04        True     21929       2.08         12\n",
       "9  2011-05-12        True     23201       1.95         10"
      ]
     },
     "metadata": {},
     "output_type": "display_data"
    },
    {
     "data": {
      "text/html": [
       "<div>\n",
       "<style scoped>\n",
       "    .dataframe tbody tr th:only-of-type {\n",
       "        vertical-align: middle;\n",
       "    }\n",
       "\n",
       "    .dataframe tbody tr th {\n",
       "        vertical-align: top;\n",
       "    }\n",
       "\n",
       "    .dataframe thead th {\n",
       "        text-align: right;\n",
       "    }\n",
       "</style>\n",
       "<table border=\"1\" class=\"dataframe\">\n",
       "  <thead>\n",
       "    <tr style=\"text-align: right;\">\n",
       "      <th></th>\n",
       "      <th>time</th>\n",
       "      <th>in.Date</th>\n",
       "      <th>in.StockCode</th>\n",
       "      <th>in.UnitPrice</th>\n",
       "      <th>in.UnitsSold</th>\n",
       "      <th>in.cust_known</th>\n",
       "      <th>out.variable</th>\n",
       "      <th>anomaly.count</th>\n",
       "    </tr>\n",
       "  </thead>\n",
       "  <tbody>\n",
       "    <tr>\n",
       "      <th>0</th>\n",
       "      <td>2024-02-13 19:05:55.139</td>\n",
       "      <td>2011-10-31</td>\n",
       "      <td>20711</td>\n",
       "      <td>2.08</td>\n",
       "      <td>10</td>\n",
       "      <td>True</td>\n",
       "      <td>[33.125327529877765]</td>\n",
       "      <td>0</td>\n",
       "    </tr>\n",
       "    <tr>\n",
       "      <th>1</th>\n",
       "      <td>2024-02-13 19:05:55.139</td>\n",
       "      <td>2011-08-26</td>\n",
       "      <td>23203</td>\n",
       "      <td>2.08</td>\n",
       "      <td>44</td>\n",
       "      <td>True</td>\n",
       "      <td>[33.125327529877765]</td>\n",
       "      <td>0</td>\n",
       "    </tr>\n",
       "    <tr>\n",
       "      <th>2</th>\n",
       "      <td>2024-02-13 19:05:55.139</td>\n",
       "      <td>2011-05-06</td>\n",
       "      <td>21930</td>\n",
       "      <td>4.13</td>\n",
       "      <td>7</td>\n",
       "      <td>False</td>\n",
       "      <td>[6.7715457962084376]</td>\n",
       "      <td>0</td>\n",
       "    </tr>\n",
       "    <tr>\n",
       "      <th>3</th>\n",
       "      <td>2024-02-13 19:05:55.139</td>\n",
       "      <td>2011-05-05</td>\n",
       "      <td>22385</td>\n",
       "      <td>2.08</td>\n",
       "      <td>5</td>\n",
       "      <td>False</td>\n",
       "      <td>[9.110871233285868]</td>\n",
       "      <td>0</td>\n",
       "    </tr>\n",
       "    <tr>\n",
       "      <th>4</th>\n",
       "      <td>2024-02-13 19:05:55.139</td>\n",
       "      <td>2011-05-22</td>\n",
       "      <td>22385</td>\n",
       "      <td>2.08</td>\n",
       "      <td>1</td>\n",
       "      <td>True</td>\n",
       "      <td>[33.125327529877765]</td>\n",
       "      <td>0</td>\n",
       "    </tr>\n",
       "    <tr>\n",
       "      <th>5</th>\n",
       "      <td>2024-02-13 19:05:55.139</td>\n",
       "      <td>2011-08-18</td>\n",
       "      <td>20712</td>\n",
       "      <td>2.08</td>\n",
       "      <td>50</td>\n",
       "      <td>True</td>\n",
       "      <td>[33.125327529877765]</td>\n",
       "      <td>0</td>\n",
       "    </tr>\n",
       "    <tr>\n",
       "      <th>6</th>\n",
       "      <td>2024-02-13 19:05:55.139</td>\n",
       "      <td>2011-11-16</td>\n",
       "      <td>21931</td>\n",
       "      <td>4.13</td>\n",
       "      <td>7</td>\n",
       "      <td>False</td>\n",
       "      <td>[6.7715457962084376]</td>\n",
       "      <td>0</td>\n",
       "    </tr>\n",
       "    <tr>\n",
       "      <th>7</th>\n",
       "      <td>2024-02-13 19:05:55.139</td>\n",
       "      <td>2010-12-07</td>\n",
       "      <td>85099F</td>\n",
       "      <td>4.21</td>\n",
       "      <td>1</td>\n",
       "      <td>False</td>\n",
       "      <td>[6.680255142999893]</td>\n",
       "      <td>0</td>\n",
       "    </tr>\n",
       "    <tr>\n",
       "      <th>8</th>\n",
       "      <td>2024-02-13 19:05:55.139</td>\n",
       "      <td>2011-09-04</td>\n",
       "      <td>21929</td>\n",
       "      <td>2.08</td>\n",
       "      <td>12</td>\n",
       "      <td>True</td>\n",
       "      <td>[33.125327529877765]</td>\n",
       "      <td>0</td>\n",
       "    </tr>\n",
       "    <tr>\n",
       "      <th>9</th>\n",
       "      <td>2024-02-13 19:05:55.139</td>\n",
       "      <td>2011-05-12</td>\n",
       "      <td>23201</td>\n",
       "      <td>1.95</td>\n",
       "      <td>10</td>\n",
       "      <td>True</td>\n",
       "      <td>[40.57067616108544]</td>\n",
       "      <td>0</td>\n",
       "    </tr>\n",
       "  </tbody>\n",
       "</table>\n",
       "</div>"
      ],
      "text/plain": [
       "                     time     in.Date in.StockCode  in.UnitPrice  \\\n",
       "0 2024-02-13 19:05:55.139  2011-10-31        20711          2.08   \n",
       "1 2024-02-13 19:05:55.139  2011-08-26        23203          2.08   \n",
       "2 2024-02-13 19:05:55.139  2011-05-06        21930          4.13   \n",
       "3 2024-02-13 19:05:55.139  2011-05-05        22385          2.08   \n",
       "4 2024-02-13 19:05:55.139  2011-05-22        22385          2.08   \n",
       "5 2024-02-13 19:05:55.139  2011-08-18        20712          2.08   \n",
       "6 2024-02-13 19:05:55.139  2011-11-16        21931          4.13   \n",
       "7 2024-02-13 19:05:55.139  2010-12-07       85099F          4.21   \n",
       "8 2024-02-13 19:05:55.139  2011-09-04        21929          2.08   \n",
       "9 2024-02-13 19:05:55.139  2011-05-12        23201          1.95   \n",
       "\n",
       "   in.UnitsSold  in.cust_known          out.variable  anomaly.count  \n",
       "0            10           True  [33.125327529877765]              0  \n",
       "1            44           True  [33.125327529877765]              0  \n",
       "2             7          False  [6.7715457962084376]              0  \n",
       "3             5          False   [9.110871233285868]              0  \n",
       "4             1           True  [33.125327529877765]              0  \n",
       "5            50           True  [33.125327529877765]              0  \n",
       "6             7          False  [6.7715457962084376]              0  \n",
       "7             1          False   [6.680255142999893]              0  \n",
       "8            12           True  [33.125327529877765]              0  \n",
       "9            10           True   [40.57067616108544]              0  "
      ]
     },
     "metadata": {},
     "output_type": "display_data"
    }
   ],
   "source": [
    "ix = numpy.random.choice(purchases.shape[0], size=10, replace=False)\n",
    "converted = conversion.pandas_to_dict(purchases.iloc[ix,: ])\n",
    "test_df = pd.DataFrame(converted['query'], columns=converted['colnames'])\n",
    "display(test_df)\n",
    "\n",
    "output = demandcurve_pipeline.infer(test_df)\n",
    "display(output)"
   ]
  },
  {
   "attachments": {},
   "cell_type": "markdown",
   "metadata": {},
   "source": [
    "## Undeploy the Pipeline\n",
    "\n",
    "Once we've finished with our demand curve demo, we'll undeploy the pipeline and give the resources back to our Kubernetes cluster."
   ]
  },
  {
   "cell_type": "code",
   "execution_count": 118,
   "metadata": {},
   "outputs": [
    {
     "data": {
      "text/html": [
       "<table><tr><th>name</th> <td>demandcurvepipeline</td></tr><tr><th>created</th> <td>2024-02-13 17:42:28.947252+00:00</td></tr><tr><th>last_updated</th> <td>2024-02-13 19:05:33.325520+00:00</td></tr><tr><th>deployed</th> <td>False</td></tr><tr><th>arch</th> <td>None</td></tr><tr><th>accel</th> <td>None</td></tr><tr><th>tags</th> <td></td></tr><tr><th>versions</th> <td>ab0bb94b-6247-4fab-bab5-be45f60e44d0, f82b1315-ad7c-486a-9984-997596911cb3, cff86420-76e7-4204-bebd-bca35c343bc1, 59e8b52f-0f55-45cd-b348-31926cfffcf1, 55334083-061d-451d-a517-c02af05b71a8, b5ac75a7-2e07-4ed3-b81d-457a094eaa41, 10e7ae2d-369d-4bb3-84c8-3ccdcb85dd55, fe408a5c-0d73-4340-be88-66aa4e4e070a, 78126450-25b9-4a5c-a07e-7a183c144ae1, a0ed67d5-32c0-4d09-83eb-56690186931c, d14c9f6f-f29f-42bd-b94a-b5cd24eb6fde, e79b3f83-436e-4b75-b24b-d7eea3e1ea0a, 3380490c-3862-49ad-9d88-6b8bc2c3b1fb, 4ec8cd65-0690-44a9-8a50-babe78fb0f93, 1d7baa00-4d07-44d7-a7a6-4ec2f1a20580, d7e7e52a-5a25-4fd6-96c5-c223b167ea18</td></tr><tr><th>steps</th> <td>curve-preprocess</td></tr><tr><th>published</th> <td>False</td></tr></table>"
      ],
      "text/plain": [
       "{'name': 'demandcurvepipeline', 'create_time': datetime.datetime(2024, 2, 13, 17, 42, 28, 947252, tzinfo=tzutc()), 'definition': \"[{'ModelInference': {'models': [{'name': 'curve-preprocess', 'version': '093d64b7-8280-4b5c-b43d-120115445252', 'sha': '3b2b32fb6408ccee5a1886ef5cdb493692080ff6699f49de518b20d9a6f6a133'}]}}, {'ModelInference': {'models': [{'name': 'demandcurvemodel', 'version': '0eeec65f-1efc-4604-b2e5-f1c0f5b00a96', 'sha': '2820b42c9e778ae259918315f25afc8685ecab9967bad0a3d241e6191b414a0d'}]}}]\"}"
      ]
     },
     "execution_count": 118,
     "metadata": {},
     "output_type": "execute_result"
    }
   ],
   "source": [
    "demandcurve_pipeline.undeploy()"
   ]
  },
  {
   "attachments": {},
   "cell_type": "markdown",
   "metadata": {},
   "source": [
    "Thank you for being a part of this demonstration.  If you have additional questions, please feel free to contact us at Wallaroo."
   ]
  }
 ],
 "metadata": {
  "kernelspec": {
   "display_name": "Python 3 (ipykernel)",
   "language": "python",
   "name": "python3"
  },
  "language_info": {
   "codemirror_mode": {
    "name": "ipython",
    "version": 3
   },
   "file_extension": ".py",
   "mimetype": "text/x-python",
   "name": "python",
   "nbconvert_exporter": "python",
   "pygments_lexer": "ipython3",
   "version": "3.9.18"
  },
  "vscode": {
   "interpreter": {
    "hash": "7dda4bf3640b7fafcd1648658b879b4cc9f6ba6084e8fb356fdaaa1a461d1690"
   }
  }
 },
 "nbformat": 4,
 "nbformat_minor": 4
}
