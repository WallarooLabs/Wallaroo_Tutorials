{
 "cells": [
  {
   "cell_type": "markdown",
   "id": "c18c8461-a00a-4a16-b3d7-2dee9187f672",
   "metadata": {},
   "source": [
    "This tutorial can be downloaded as part of the [Wallaroo Tutorials repository](https://github.com/WallarooLabs/Wallaroo_Tutorials/tree/main/model_uploads/keras-upload-tutorials).\n",
    "\n",
    "## Wallaroo Model Upload via the Wallaroo SDK: TensorFlow keras Sequential Single IO\n",
    "\n",
    "The following tutorial demonstrates how to upload a TensorFlow keras Sequential Single IO model to a Wallaroo instance.\n",
    "\n",
    "### Tutorial Goals\n",
    "\n",
    "Demonstrate the following:\n",
    "\n",
    "* Upload a TensorFlow keras Sequential Single IO to a Wallaroo instance.\n",
    "* Create a pipeline and add the model as a pipeline step.\n",
    "* Perform a sample inference.\n",
    "\n",
    "### Prerequisites\n",
    "\n",
    "* A Wallaroo version 2023.2.1 or above instance.\n",
    "\n",
    "### References\n",
    "\n",
    "* [Wallaroo MLOps API Essentials Guide: Model Upload and Registrations](https://docs.wallaroo.ai/wallaroo-developer-guides/wallaroo-api-guide/wallaroo-mlops-api-essential-guide/wallaroo-mlops-api-essentials-guide-model-uploads/)\n",
    "* [Wallaroo API Connection Guide](https://docs.wallaroo.ai/wallaroo-developer-guides/wallaroo-api-guide/wallaroo-mlops-connection-guide/)\n",
    "* [DNS Integration Guide](https://docs.wallaroo.ai/wallaroo-operations-guide/wallaroo-configuration/wallaroo-dns-guide/)"
   ]
  },
  {
   "cell_type": "markdown",
   "id": "2af502b1",
   "metadata": {},
   "source": [
    "## Tutorial Steps\n",
    "\n",
    "### Import Libraries\n",
    "\n",
    "The first step is to import the libraries we'll be using.  These are included by default in the Wallaroo instance's JupyterHub service."
   ]
  },
  {
   "cell_type": "code",
   "execution_count": 1,
   "id": "3436bb69-bb45-4d18-bc19-d82f76ae9bfe",
   "metadata": {},
   "outputs": [],
   "source": [
    "import json\n",
    "import os\n",
    "import pickle\n",
    "\n",
    "import wallaroo\n",
    "from wallaroo.pipeline   import Pipeline\n",
    "from wallaroo.deployment_config import DeploymentConfigBuilder\n",
    "from wallaroo.framework import Framework\n",
    "from wallaroo.object import EntityNotFoundError\n",
    "\n",
    "import os\n",
    "os.environ[\"MODELS_ENABLED\"] = \"true\"\n",
    "\n",
    "import pyarrow as pa\n",
    "import numpy as np\n",
    "import pandas as pd\n",
    "\n",
    "from sklearn.datasets import load_iris\n",
    "from sklearn.linear_model import LogisticRegression\n",
    "\n",
    "import datetime"
   ]
  },
  {
   "cell_type": "markdown",
   "id": "ac906578",
   "metadata": {},
   "source": [
    "### Open a Connection to Wallaroo\n",
    "\n",
    "The next step is connect to Wallaroo through the Wallaroo client.  The Python library is included in the Wallaroo install and available through the Jupyter Hub interface provided with your Wallaroo environment.\n",
    "\n",
    "This is accomplished using the `wallaroo.Client()` command, which provides a URL to grant the SDK permission to your specific Wallaroo environment.  When displayed, enter the URL into a browser and confirm permissions.  Store the connection into a variable that can be referenced later.\n",
    "\n",
    "If logging into the Wallaroo instance through the internal JupyterHub service, use `wl = wallaroo.Client()`.  If logging in externally, update the `wallarooPrefix` and `wallarooSuffix` variables with the proper DNS information.  For more information on Wallaroo DNS settings, see the [Wallaroo DNS Integration Guide](https://docs.wallaroo.ai/wallaroo-operations-guide/wallaroo-configuration/wallaroo-dns-guide/)."
   ]
  },
  {
   "cell_type": "code",
   "execution_count": 2,
   "id": "8d568583-9c2d-4efe-b700-fe1a967d0506",
   "metadata": {},
   "outputs": [],
   "source": [
    "wl = wallaroo.Client()"
   ]
  },
  {
   "cell_type": "markdown",
   "id": "56fb4480",
   "metadata": {},
   "source": [
    "### Set Variables and Helper Functions\n",
    "\n",
    "We'll set the name of our workspace, pipeline, models and files.  Workspace names must be unique across the Wallaroo workspace.  For this, we'll add in a randomly generated 4 characters to the workspace name to prevent collisions with other users' workspaces.  If running this tutorial, we recommend hard coding the workspace name so it will function in the same workspace each time it's run.\n",
    "\n",
    "We'll set up some helper functions that will either use existing workspaces and pipelines, or create them if they do not already exist."
   ]
  },
  {
   "cell_type": "code",
   "execution_count": 3,
   "id": "170bf187-321c-45ea-867a-0cc2879b0256",
   "metadata": {},
   "outputs": [],
   "source": [
    "def get_workspace(name, client):\n",
    "    workspace = None\n",
    "    for ws in client.list_workspaces():\n",
    "        if ws.name() == name:\n",
    "            workspace= ws\n",
    "    if(workspace == None):\n",
    "        workspace = client.create_workspace(name)\n",
    "    return workspace\n",
    "\n",
    "\n",
    "import string\n",
    "import random\n",
    "\n",
    "# make a random 4 character suffix to prevent overwriting other user's workspaces\n",
    "suffix= ''.join(random.choice(string.ascii_lowercase) for i in range(4))\n",
    "\n",
    "suffix=''\n",
    "\n",
    "workspace_name = f'keras-sequential-single-io{suffix}'\n",
    "pipeline_name = f'keras-sequential-single-io'\n",
    "\n",
    "model_name = 'keras-sequential-single-io'\n",
    "model_file_name = 'models/model-auto-conversion_keras_single_io_keras_sequential_model.h5'"
   ]
  },
  {
   "cell_type": "markdown",
   "id": "6b7cd74b",
   "metadata": {},
   "source": [
    "### Create Workspace and Pipeline\n",
    "\n",
    "We will now create the Wallaroo workspace to store our model and set it as the current workspace.  Future commands will default to this workspace for pipeline creation, model uploads, etc.  We'll create our Wallaroo pipeline to deploy our model."
   ]
  },
  {
   "cell_type": "code",
   "execution_count": 4,
   "id": "e65ea6e1",
   "metadata": {},
   "outputs": [],
   "source": [
    "workspace = get_workspace(workspace_name, wl)\n",
    "wl.set_current_workspace(workspace)\n",
    "\n",
    "pipeline = wl.build_pipeline(pipeline_name)"
   ]
  },
  {
   "cell_type": "markdown",
   "id": "f9da8253",
   "metadata": {},
   "source": [
    "### Configure Data Schemas\n",
    "\n",
    "The following parameters are required for TensorFlow keras models.  Note that while some fields are considered as **optional** for the `upload_model` method, they are required for proper uploading of a TensorFlow Keras model to Wallaroo.\n",
    "\n",
    "| Parameter | Type | Description |\n",
    "|---|---|---|\n",
    "|`name` | `string` (*Required*) | The name of the model.  Model names are unique per workspace.  Models that are uploaded with the same name are assigned as a new **version** of the model. |\n",
    "|`path` | `string` (*Required*) | The path to the model file being uploaded. \n",
    "|`framework` |`string` (*Upload Method Optional, TensorFlow keras model Required*) | Set as the `Framework.KERAS`. |\n",
    "|`input_schema` | `pyarrow.lib.Schema` (*Upload Method Optional, TensorFlow Keras model Required*) | The input schema in Apache Arrow schema format. |\n",
    "|`output_schema` | `pyarrow.lib.Schema` (*Upload Method Optional, TensorFlow Keras model Required*) | The output schema in Apache Arrow schema format. |\n",
    "| `convert_wait` | `bool` (*Upload Method Optional, TensorFlow model Optional*) (*Default: True*) | <ul><li>**True**: Waits in the script for the model conversion completion.</li><li>**False**:  Proceeds with the script without waiting for the model conversion process to display complete. |\n",
    "\n",
    "Once the upload process starts, the model is containerized by the Wallaroo instance.  This process may take up to 10 minutes."
   ]
  },
  {
   "cell_type": "code",
   "execution_count": 5,
   "id": "1167694d-d0ac-4432-9fde-4ba7a5e65846",
   "metadata": {},
   "outputs": [],
   "source": [
    "input_schema = pa.schema([\n",
    "    pa.field('input', pa.list_(pa.float64(), list_size=10))\n",
    "])\n",
    "output_schema = pa.schema([\n",
    "    pa.field('output', pa.list_(pa.float64(), list_size=32))\n",
    "])"
   ]
  },
  {
   "cell_type": "markdown",
   "id": "af676365-ebc8-48ce-b008-389ea3af91cd",
   "metadata": {
    "tags": []
   },
   "source": [
    "### Upload Model\n",
    "\n",
    "The model will be uploaded with the framework set as `Framework.KERAS`."
   ]
  },
  {
   "cell_type": "code",
   "execution_count": 6,
   "id": "3700515d-f91c-481f-a495-29ad82cab91f",
   "metadata": {},
   "outputs": [
    {
     "name": "stdout",
     "output_type": "stream",
     "text": [
      "Waiting for model loading - this will take up to 10.0min.\n",
      "Model is pending loading to a native runtime.......\n",
      "Model is pending loading to a container runtime.\n",
      "Model is attempting loading to a container runtime...............................................successful\n",
      "\n",
      "Ready\n"
     ]
    },
    {
     "data": {
      "text/html": [
       "<table>\n",
       "        <tr>\n",
       "          <td>Name</td>\n",
       "          <td>keras-sequential-single-io</td>\n",
       "        </tr>\n",
       "        <tr>\n",
       "          <td>Version</td>\n",
       "          <td>46a40cac-24de-404c-922e-f7ba6136419c</td>\n",
       "        </tr>\n",
       "        <tr>\n",
       "          <td>File Name</td>\n",
       "          <td>model-auto-conversion_keras_single_io_keras_sequential_model.h5</td>\n",
       "        </tr>\n",
       "        <tr>\n",
       "          <td>SHA</td>\n",
       "          <td>f7e49538e38bebe066ce8df97bac8be239ae8c7d2733e500c8cd633706ae95a8</td>\n",
       "        </tr>\n",
       "        <tr>\n",
       "          <td>Status</td>\n",
       "          <td>ready</td>\n",
       "        </tr>\n",
       "        <tr>\n",
       "          <td>Image Path</td>\n",
       "          <td>proxy.replicated.com/proxy/wallaroo/ghcr.io/wallaroolabs/mlflow-deploy:v2023.4.1-4514</td>\n",
       "        </tr>\n",
       "        <tr>\n",
       "          <td>Architecture</td>\n",
       "          <td>None</td>\n",
       "        </tr>\n",
       "        <tr>\n",
       "          <td>Updated At</td>\n",
       "          <td>2024-15-Feb 20:28:10</td>\n",
       "        </tr>\n",
       "      </table>"
      ],
      "text/plain": [
       "{'name': 'keras-sequential-single-io', 'version': '46a40cac-24de-404c-922e-f7ba6136419c', 'file_name': 'model-auto-conversion_keras_single_io_keras_sequential_model.h5', 'image_path': 'proxy.replicated.com/proxy/wallaroo/ghcr.io/wallaroolabs/mlflow-deploy:v2023.4.1-4514', 'arch': None, 'last_update_time': datetime.datetime(2024, 2, 15, 20, 28, 10, 548748, tzinfo=tzutc())}"
      ]
     },
     "execution_count": 6,
     "metadata": {},
     "output_type": "execute_result"
    }
   ],
   "source": [
    "framework=Framework.KERAS\n",
    "\n",
    "model = wl.upload_model(model_name, \n",
    "                        model_file_name, \n",
    "                        framework=framework, \n",
    "                        input_schema=input_schema, \n",
    "                        output_schema=output_schema)\n",
    "model"
   ]
  },
  {
   "cell_type": "code",
   "execution_count": 7,
   "id": "551e6989",
   "metadata": {},
   "outputs": [
    {
     "data": {
      "text/plain": [
       "'flight'"
      ]
     },
     "execution_count": 7,
     "metadata": {},
     "output_type": "execute_result"
    }
   ],
   "source": [
    "model.config().runtime()"
   ]
  },
  {
   "cell_type": "markdown",
   "id": "47fcab28-dce9-4385-802c-70a8f48fec38",
   "metadata": {
    "tags": []
   },
   "source": [
    "### Deploy Pipeline\n",
    "\n",
    "The model is uploaded and ready for use.  We'll add it as a step in our pipeline, then deploy the pipeline.  For this example we're allocated 0.25 cpu and 4 Gi RAM to the pipeline through the pipeline's deployment configuration."
   ]
  },
  {
   "cell_type": "code",
   "execution_count": 8,
   "id": "2a709f2c-1332-4984-9cf8-87c6328d6ae4",
   "metadata": {},
   "outputs": [],
   "source": [
    "deployment_config = DeploymentConfigBuilder() \\\n",
    "    .cpus(0.25).memory('1Gi') \\\n",
    "    .build()"
   ]
  },
  {
   "cell_type": "code",
   "execution_count": null,
   "id": "ed1c83af-6bb3-491c-b8b8-649a53f30085",
   "metadata": {},
   "outputs": [],
   "source": [
    "# clear the pipeline if used in a previous tutorial\n",
    "pipeline.undeploy()\n",
    "pipeline.clear()\n",
    "pipeline.add_model_step(model)\n",
    "\n",
    "pipeline.deploy(deployment_config=deployment_config)"
   ]
  },
  {
   "cell_type": "code",
   "execution_count": 10,
   "id": "4cd88d82-f2f7-4e90-a04b-e75dc162ef78",
   "metadata": {},
   "outputs": [
    {
     "data": {
      "text/plain": [
       "{'status': 'Running',\n",
       " 'details': [],\n",
       " 'engines': [{'ip': '10.100.1.158',\n",
       "   'name': 'engine-7cf8d599df-5tkd6',\n",
       "   'status': 'Running',\n",
       "   'reason': None,\n",
       "   'details': [],\n",
       "   'pipeline_statuses': {'pipelines': [{'id': 'keras-sequential-single-io',\n",
       "      'status': 'Running'}]},\n",
       "   'model_statuses': {'models': [{'name': 'keras-sequential-single-io',\n",
       "      'version': '46a40cac-24de-404c-922e-f7ba6136419c',\n",
       "      'sha': 'f7e49538e38bebe066ce8df97bac8be239ae8c7d2733e500c8cd633706ae95a8',\n",
       "      'status': 'Running'}]}}],\n",
       " 'engine_lbs': [{'ip': '10.100.1.157',\n",
       "   'name': 'engine-lb-dcd9c8cd7-tdv5b',\n",
       "   'status': 'Running',\n",
       "   'reason': None,\n",
       "   'details': []}],\n",
       " 'sidekicks': [{'ip': '10.100.2.218',\n",
       "   'name': 'engine-sidekick-keras-sequential-single-io-13-66f7ccb8-dp2l2',\n",
       "   'status': 'Running',\n",
       "   'reason': None,\n",
       "   'details': [],\n",
       "   'statuses': '\\n'}]}"
      ]
     },
     "execution_count": 10,
     "metadata": {},
     "output_type": "execute_result"
    }
   ],
   "source": [
    "pipeline.status()"
   ]
  },
  {
   "cell_type": "markdown",
   "id": "60cb4aa0-601d-4556-a3f8-cdc59e758add",
   "metadata": {},
   "source": [
    "### Run Inference\n",
    "\n",
    "A sample inference will be run.  First the pandas DataFrame used for the inference is created, then the inference run through the pipeline's `infer` method."
   ]
  },
  {
   "cell_type": "code",
   "execution_count": 11,
   "id": "1eab3c59-c7a2-4e79-a468-e5bcb65d916c",
   "metadata": {},
   "outputs": [
    {
     "data": {
      "text/html": [
       "<div>\n",
       "<style scoped>\n",
       "    .dataframe tbody tr th:only-of-type {\n",
       "        vertical-align: middle;\n",
       "    }\n",
       "\n",
       "    .dataframe tbody tr th {\n",
       "        vertical-align: top;\n",
       "    }\n",
       "\n",
       "    .dataframe thead th {\n",
       "        text-align: right;\n",
       "    }\n",
       "</style>\n",
       "<table border=\"1\" class=\"dataframe\">\n",
       "  <thead>\n",
       "    <tr style=\"text-align: right;\">\n",
       "      <th></th>\n",
       "      <th>input</th>\n",
       "    </tr>\n",
       "  </thead>\n",
       "  <tbody>\n",
       "    <tr>\n",
       "      <th>0</th>\n",
       "      <td>[0.8464678722700603, 0.004712729033793495, 0.2...</td>\n",
       "    </tr>\n",
       "    <tr>\n",
       "      <th>1</th>\n",
       "      <td>[0.33516546044403395, 0.5002405914748614, 0.57...</td>\n",
       "    </tr>\n",
       "    <tr>\n",
       "      <th>2</th>\n",
       "      <td>[0.5166812251109929, 0.3730966067105581, 0.606...</td>\n",
       "    </tr>\n",
       "    <tr>\n",
       "      <th>3</th>\n",
       "      <td>[0.09040120831712439, 0.24578455913569452, 0.4...</td>\n",
       "    </tr>\n",
       "    <tr>\n",
       "      <th>4</th>\n",
       "      <td>[0.42772724890984193, 0.4738742002929611, 0.63...</td>\n",
       "    </tr>\n",
       "    <tr>\n",
       "      <th>5</th>\n",
       "      <td>[0.3517207116450022, 0.16363064332614197, 0.22...</td>\n",
       "    </tr>\n",
       "    <tr>\n",
       "      <th>6</th>\n",
       "      <td>[0.8389813355923412, 0.09430098323471248, 0.51...</td>\n",
       "    </tr>\n",
       "    <tr>\n",
       "      <th>7</th>\n",
       "      <td>[0.14887831854864786, 0.9237666630636983, 0.92...</td>\n",
       "    </tr>\n",
       "    <tr>\n",
       "      <th>8</th>\n",
       "      <td>[0.1965534410534433, 0.19881344315974903, 0.38...</td>\n",
       "    </tr>\n",
       "    <tr>\n",
       "      <th>9</th>\n",
       "      <td>[0.07447775662589717, 0.24736476983489442, 0.1...</td>\n",
       "    </tr>\n",
       "  </tbody>\n",
       "</table>\n",
       "</div>"
      ],
      "text/plain": [
       "                                               input\n",
       "0  [0.8464678722700603, 0.004712729033793495, 0.2...\n",
       "1  [0.33516546044403395, 0.5002405914748614, 0.57...\n",
       "2  [0.5166812251109929, 0.3730966067105581, 0.606...\n",
       "3  [0.09040120831712439, 0.24578455913569452, 0.4...\n",
       "4  [0.42772724890984193, 0.4738742002929611, 0.63...\n",
       "5  [0.3517207116450022, 0.16363064332614197, 0.22...\n",
       "6  [0.8389813355923412, 0.09430098323471248, 0.51...\n",
       "7  [0.14887831854864786, 0.9237666630636983, 0.92...\n",
       "8  [0.1965534410534433, 0.19881344315974903, 0.38...\n",
       "9  [0.07447775662589717, 0.24736476983489442, 0.1..."
      ]
     },
     "execution_count": 11,
     "metadata": {},
     "output_type": "execute_result"
    }
   ],
   "source": [
    "input_data = np.random.rand(10, 10)\n",
    "mock_dataframe = pd.DataFrame({\n",
    "    \"input\": input_data.tolist()\n",
    "})\n",
    "mock_dataframe"
   ]
  },
  {
   "cell_type": "code",
   "execution_count": 12,
   "id": "105fc39a-e4b3-441f-a26f-31c15fe45c59",
   "metadata": {},
   "outputs": [
    {
     "data": {
      "text/html": [
       "<div>\n",
       "<style scoped>\n",
       "    .dataframe tbody tr th:only-of-type {\n",
       "        vertical-align: middle;\n",
       "    }\n",
       "\n",
       "    .dataframe tbody tr th {\n",
       "        vertical-align: top;\n",
       "    }\n",
       "\n",
       "    .dataframe thead th {\n",
       "        text-align: right;\n",
       "    }\n",
       "</style>\n",
       "<table border=\"1\" class=\"dataframe\">\n",
       "  <thead>\n",
       "    <tr style=\"text-align: right;\">\n",
       "      <th></th>\n",
       "      <th>time</th>\n",
       "      <th>in.input</th>\n",
       "      <th>out.output</th>\n",
       "      <th>anomaly.count</th>\n",
       "    </tr>\n",
       "  </thead>\n",
       "  <tbody>\n",
       "    <tr>\n",
       "      <th>0</th>\n",
       "      <td>2024-02-15 20:33:32.212</td>\n",
       "      <td>[0.8464678723, 0.004712729, 0.2860953943, 0.34...</td>\n",
       "      <td>[0.013701703, 0.032981858, 0.050229844, 0.0267...</td>\n",
       "      <td>0</td>\n",
       "    </tr>\n",
       "    <tr>\n",
       "      <th>1</th>\n",
       "      <td>2024-02-15 20:33:32.212</td>\n",
       "      <td>[0.3351654604, 0.5002405915, 0.5741851642, 0.4...</td>\n",
       "      <td>[0.02636054, 0.02276153, 0.038808007, 0.023839...</td>\n",
       "      <td>0</td>\n",
       "    </tr>\n",
       "    <tr>\n",
       "      <th>2</th>\n",
       "      <td>2024-02-15 20:33:32.212</td>\n",
       "      <td>[0.5166812251, 0.3730966067, 0.6066198208, 0.9...</td>\n",
       "      <td>[0.027724463, 0.033646047, 0.039318968, 0.0227...</td>\n",
       "      <td>0</td>\n",
       "    </tr>\n",
       "    <tr>\n",
       "      <th>3</th>\n",
       "      <td>2024-02-15 20:33:32.212</td>\n",
       "      <td>[0.0904012083, 0.2457845591, 0.4080044601, 0.1...</td>\n",
       "      <td>[0.02969934, 0.028276617, 0.036782112, 0.03051...</td>\n",
       "      <td>0</td>\n",
       "    </tr>\n",
       "    <tr>\n",
       "      <th>4</th>\n",
       "      <td>2024-02-15 20:33:32.212</td>\n",
       "      <td>[0.4277272489, 0.4738742003, 0.6334509482, 0.2...</td>\n",
       "      <td>[0.031070076, 0.028843837, 0.037906397, 0.0269...</td>\n",
       "      <td>0</td>\n",
       "    </tr>\n",
       "    <tr>\n",
       "      <th>5</th>\n",
       "      <td>2024-02-15 20:33:32.212</td>\n",
       "      <td>[0.3517207116, 0.1636306433, 0.2234592269, 0.1...</td>\n",
       "      <td>[0.021969147, 0.028880928, 0.032175012, 0.0386...</td>\n",
       "      <td>0</td>\n",
       "    </tr>\n",
       "    <tr>\n",
       "      <th>6</th>\n",
       "      <td>2024-02-15 20:33:32.212</td>\n",
       "      <td>[0.8389813356, 0.0943009832, 0.5161445909, 0.3...</td>\n",
       "      <td>[0.017825508, 0.030305669, 0.035085037, 0.0335...</td>\n",
       "      <td>0</td>\n",
       "    </tr>\n",
       "    <tr>\n",
       "      <th>7</th>\n",
       "      <td>2024-02-15 20:33:32.212</td>\n",
       "      <td>[0.1488783185, 0.9237666631, 0.9294735798, 0.4...</td>\n",
       "      <td>[0.048920896, 0.020634957, 0.03702375, 0.02326...</td>\n",
       "      <td>0</td>\n",
       "    </tr>\n",
       "    <tr>\n",
       "      <th>8</th>\n",
       "      <td>2024-02-15 20:33:32.212</td>\n",
       "      <td>[0.1965534411, 0.1988134432, 0.382808345, 0.74...</td>\n",
       "      <td>[0.02632338, 0.033858623, 0.031603366, 0.02763...</td>\n",
       "      <td>0</td>\n",
       "    </tr>\n",
       "    <tr>\n",
       "      <th>9</th>\n",
       "      <td>2024-02-15 20:33:32.212</td>\n",
       "      <td>[0.0744777566, 0.2473647698, 0.1291640678, 0.3...</td>\n",
       "      <td>[0.026177717, 0.03367166, 0.027417077, 0.03656...</td>\n",
       "      <td>0</td>\n",
       "    </tr>\n",
       "  </tbody>\n",
       "</table>\n",
       "</div>"
      ],
      "text/plain": [
       "                     time                                           in.input  \\\n",
       "0 2024-02-15 20:33:32.212  [0.8464678723, 0.004712729, 0.2860953943, 0.34...   \n",
       "1 2024-02-15 20:33:32.212  [0.3351654604, 0.5002405915, 0.5741851642, 0.4...   \n",
       "2 2024-02-15 20:33:32.212  [0.5166812251, 0.3730966067, 0.6066198208, 0.9...   \n",
       "3 2024-02-15 20:33:32.212  [0.0904012083, 0.2457845591, 0.4080044601, 0.1...   \n",
       "4 2024-02-15 20:33:32.212  [0.4277272489, 0.4738742003, 0.6334509482, 0.2...   \n",
       "5 2024-02-15 20:33:32.212  [0.3517207116, 0.1636306433, 0.2234592269, 0.1...   \n",
       "6 2024-02-15 20:33:32.212  [0.8389813356, 0.0943009832, 0.5161445909, 0.3...   \n",
       "7 2024-02-15 20:33:32.212  [0.1488783185, 0.9237666631, 0.9294735798, 0.4...   \n",
       "8 2024-02-15 20:33:32.212  [0.1965534411, 0.1988134432, 0.382808345, 0.74...   \n",
       "9 2024-02-15 20:33:32.212  [0.0744777566, 0.2473647698, 0.1291640678, 0.3...   \n",
       "\n",
       "                                          out.output  anomaly.count  \n",
       "0  [0.013701703, 0.032981858, 0.050229844, 0.0267...              0  \n",
       "1  [0.02636054, 0.02276153, 0.038808007, 0.023839...              0  \n",
       "2  [0.027724463, 0.033646047, 0.039318968, 0.0227...              0  \n",
       "3  [0.02969934, 0.028276617, 0.036782112, 0.03051...              0  \n",
       "4  [0.031070076, 0.028843837, 0.037906397, 0.0269...              0  \n",
       "5  [0.021969147, 0.028880928, 0.032175012, 0.0386...              0  \n",
       "6  [0.017825508, 0.030305669, 0.035085037, 0.0335...              0  \n",
       "7  [0.048920896, 0.020634957, 0.03702375, 0.02326...              0  \n",
       "8  [0.02632338, 0.033858623, 0.031603366, 0.02763...              0  \n",
       "9  [0.026177717, 0.03367166, 0.027417077, 0.03656...              0  "
      ]
     },
     "execution_count": 12,
     "metadata": {},
     "output_type": "execute_result"
    }
   ],
   "source": [
    "pipeline.infer(mock_dataframe)"
   ]
  },
  {
   "cell_type": "markdown",
   "id": "17852d33",
   "metadata": {},
   "source": [
    "### Undeploy Pipelines\n",
    "\n",
    "With the tutorial complete, the pipeline is undeployed to return the resources back to the cluster."
   ]
  },
  {
   "cell_type": "code",
   "execution_count": 13,
   "id": "cbdc5a2e-266f-4da8-a88d-1733aca72f0d",
   "metadata": {},
   "outputs": [
    {
     "name": "stdout",
     "output_type": "stream",
     "text": [
      "Waiting for undeployment - this will take up to 45s ..................................... ok\n"
     ]
    },
    {
     "data": {
      "text/html": [
       "<table><tr><th>name</th> <td>keras-sequential-single-io</td></tr><tr><th>created</th> <td>2024-02-15 20:23:36.681423+00:00</td></tr><tr><th>last_updated</th> <td>2024-02-15 20:28:15.115453+00:00</td></tr><tr><th>deployed</th> <td>False</td></tr><tr><th>arch</th> <td>None</td></tr><tr><th>tags</th> <td></td></tr><tr><th>versions</th> <td>2ce1e769-f54a-4170-831d-749876c3e683, f1a51e9d-254e-477a-8fa9-830ec9984ae4</td></tr><tr><th>steps</th> <td>keras-sequential-single-io</td></tr><tr><th>published</th> <td>False</td></tr></table>"
      ],
      "text/plain": [
       "{'name': 'keras-sequential-single-io', 'create_time': datetime.datetime(2024, 2, 15, 20, 23, 36, 681423, tzinfo=tzutc()), 'definition': \"[{'ModelInference': {'models': [{'name': 'keras-sequential-single-io', 'version': '46a40cac-24de-404c-922e-f7ba6136419c', 'sha': 'f7e49538e38bebe066ce8df97bac8be239ae8c7d2733e500c8cd633706ae95a8'}]}}]\"}"
      ]
     },
     "execution_count": 13,
     "metadata": {},
     "output_type": "execute_result"
    }
   ],
   "source": [
    "pipeline.undeploy()"
   ]
  }
 ],
 "metadata": {
  "kernelspec": {
   "display_name": "Python 3 (ipykernel)",
   "language": "python",
   "name": "python3"
  },
  "language_info": {
   "codemirror_mode": {
    "name": "ipython",
    "version": 3
   },
   "file_extension": ".py",
   "mimetype": "text/x-python",
   "name": "python",
   "nbconvert_exporter": "python",
   "pygments_lexer": "ipython3",
   "version": "3.9.13"
  }
 },
 "nbformat": 4,
 "nbformat_minor": 5
}
