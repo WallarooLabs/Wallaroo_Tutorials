{
 "cells": [
  {
   "cell_type": "markdown",
   "id": "c18c8461-a00a-4a16-b3d7-2dee9187f672",
   "metadata": {},
   "source": [
    "This tutorial can be downloaded as part of the [Wallaroo Tutorials repository](https://github.com/WallarooLabs/Wallaroo_Tutorials/tree/main/model_uploads/pytorch-upload-tutorials).\n",
    "\n",
    "## Wallaroo Model Upload via the Wallaroo SDK: Pytorch Multiple Input Output\n",
    "\n",
    "The following tutorial demonstrates how to upload a Pytorch Multiple Input Output model to a Wallaroo instance.\n",
    "\n",
    "### Tutorial Goals\n",
    "\n",
    "Demonstrate the following:\n",
    "\n",
    "* Upload a Pytorch Multiple Input Output to a Wallaroo instance.\n",
    "* Create a pipeline and add the model as a pipeline step.\n",
    "* Perform a sample inference.\n",
    "\n",
    "### Prerequisites\n",
    "\n",
    "* A Wallaroo version 2023.2.1 or above instance.\n",
    "\n",
    "### References\n",
    "\n",
    "* [Wallaroo MLOps API Essentials Guide: Model Upload and Registrations](https://docs.wallaroo.ai/wallaroo-developer-guides/wallaroo-api-guide/wallaroo-mlops-api-essential-guide/wallaroo-mlops-api-essentials-guide-model-uploads/)\n",
    "* [Wallaroo API Connection Guide](https://docs.wallaroo.ai/wallaroo-developer-guides/wallaroo-api-guide/wallaroo-mlops-connection-guide/)\n",
    "* [DNS Integration Guide](https://docs.wallaroo.ai/wallaroo-operations-guide/wallaroo-configuration/wallaroo-dns-guide/)"
   ]
  },
  {
   "cell_type": "markdown",
   "id": "9379fe2c",
   "metadata": {},
   "source": [
    "## Tutorial Steps\n",
    "\n",
    "### Import Libraries\n",
    "\n",
    "The first step is to import the libraries we'll be using.  These are included by default in the Wallaroo instance's JupyterHub service."
   ]
  },
  {
   "cell_type": "code",
   "execution_count": 1,
   "id": "3436bb69-bb45-4d18-bc19-d82f76ae9bfe",
   "metadata": {},
   "outputs": [],
   "source": [
    "import json\n",
    "import os\n",
    "import pickle\n",
    "\n",
    "import wallaroo\n",
    "from wallaroo.pipeline import Pipeline\n",
    "from wallaroo.deployment_config import DeploymentConfigBuilder\n",
    "from wallaroo.object import EntityNotFoundError\n",
    "from wallaroo.framework import Framework\n",
    "\n",
    "import pyarrow as pa\n",
    "import numpy as np\n",
    "import pandas as pd\n"
   ]
  },
  {
   "cell_type": "markdown",
   "id": "ed4be291",
   "metadata": {},
   "source": [
    "### Open a Connection to Wallaroo\n",
    "\n",
    "The next step is connect to Wallaroo through the Wallaroo client.  The Python library is included in the Wallaroo install and available through the Jupyter Hub interface provided with your Wallaroo environment.\n",
    "\n",
    "This is accomplished using the `wallaroo.Client()` command, which provides a URL to grant the SDK permission to your specific Wallaroo environment.  When displayed, enter the URL into a browser and confirm permissions.  Store the connection into a variable that can be referenced later.\n",
    "\n",
    "If logging into the Wallaroo instance through the internal JupyterHub service, use `wl = wallaroo.Client()`.  If logging in externally, update the `wallarooPrefix` and `wallarooSuffix` variables with the proper DNS information.  For more information on Wallaroo DNS settings, see the [Wallaroo DNS Integration Guide](https://docs.wallaroo.ai/wallaroo-operations-guide/wallaroo-configuration/wallaroo-dns-guide/)."
   ]
  },
  {
   "cell_type": "code",
   "execution_count": 2,
   "id": "dd04b48a",
   "metadata": {},
   "outputs": [],
   "source": [
    "\n",
    "wl = wallaroo.Client()"
   ]
  },
  {
   "cell_type": "markdown",
   "id": "f89c8bfb",
   "metadata": {},
   "source": [
    "### Set Variables and Helper Functions\n",
    "\n",
    "We'll set the name of our workspace, pipeline, models and files.  Workspace names must be unique across the Wallaroo workspace.  For this, we'll add in a randomly generated 4 characters to the workspace name to prevent collisions with other users' workspaces.  If running this tutorial, we recommend hard coding the workspace name so it will function in the same workspace each time it's run.\n",
    "\n",
    "We'll set up some helper functions that will either use existing workspaces and pipelines, or create them if they do not already exist."
   ]
  },
  {
   "cell_type": "code",
   "execution_count": 3,
   "id": "170bf187-321c-45ea-867a-0cc2879b0256",
   "metadata": {},
   "outputs": [],
   "source": [
    "def get_workspace(name):\n",
    "    workspace = None\n",
    "    for ws in wl.list_workspaces():\n",
    "        if ws.name() == name:\n",
    "            workspace= ws\n",
    "    if(workspace == None):\n",
    "        workspace = wl.create_workspace(name)\n",
    "    return workspace\n",
    "\n",
    "def get_pipeline(name):\n",
    "    try:\n",
    "        pipeline = wl.pipelines_by_name(name)[0]\n",
    "    except EntityNotFoundError:\n",
    "        pipeline = wl.build_pipeline(name)\n",
    "    return pipeline\n",
    "\n",
    "\n",
    "import string\n",
    "import random\n",
    "\n",
    "# make a random 4 character suffix to prevent overwriting other user's workspaces\n",
    "suffix= ''.join(random.choice(string.ascii_lowercase) for i in range(4))\n",
    "\n",
    "suffix=''\n",
    "\n",
    "workspace_name = f'pytorch-multi-io{suffix}'\n",
    "pipeline_name = f'pytorch-multi-io'\n",
    "\n",
    "model_name = 'pytorch-multi-io'\n",
    "model_file_name = \"./models/model-auto-conversion_pytorch_multi_io_model.pt\""
   ]
  },
  {
   "cell_type": "markdown",
   "id": "49808c3c",
   "metadata": {},
   "source": [
    "### Create Workspace and Pipeline\n",
    "\n",
    "We will now create the Wallaroo workspace to store our model and set it as the current workspace.  Future commands will default to this workspace for pipeline creation, model uploads, etc.  We'll create our Wallaroo pipeline to deploy our model."
   ]
  },
  {
   "cell_type": "code",
   "execution_count": 4,
   "id": "6df649fa-329a-41c9-a5e6-6676383f1330",
   "metadata": {},
   "outputs": [],
   "source": [
    "workspace = get_workspace(workspace_name)\n",
    "wl.set_current_workspace(workspace)\n",
    "\n",
    "pipeline = get_pipeline(pipeline_name)"
   ]
  },
  {
   "cell_type": "markdown",
   "id": "74194b68",
   "metadata": {},
   "source": [
    "### Configure Data Schemas\n",
    "\n",
    "The following parameters are required for PyTorch models.  Note that while some fields are considered as **optional** for the `upload_model` method, they are required for proper uploading of a PyTorch model to Wallaroo.\n",
    "\n",
    "| Parameter | Type | Description |\n",
    "|---|---|---|\n",
    "|`name` | `string` (*Required*) | The name of the model.  Model names are unique per workspace.  Models that are uploaded with the same name are assigned as a new **version** of the model. |\n",
    "|`path` | `string` (*Required*) | The path to the model file being uploaded. \n",
    "|`framework` |`string` (*Upload Method Optional, PyTorch model Required*) | Set as the `Framework.PyTorch`. |\n",
    "|`input_schema` | `pyarrow.lib.Schema` (*Upload Method Optional, PyTorch model Required*) | The input schema in Apache Arrow schema format. Note that float values **must** be `pyarrow.float32()`. |\n",
    "|`output_schema` | `pyarrow.lib.Schema` (*Upload Method Optional, PyTorch model Required*) | The output schema in Apache Arrow schema format. Note that float values **must** be `pyarrow.float32()`. |\n",
    "| `convert_wait` | `bool` (*Upload Method Optional, PyTorch model Optional*) (*Default: True*) | <ul><li>**True**: Waits in the script for the model conversion completion.</li><li>**False**:  Proceeds with the script without waiting for the model conversion process to display complete. |\n",
    "\n",
    "Once the upload process starts, the model is containerized by the Wallaroo instance.  This process may take up to 10 minutes."
   ]
  },
  {
   "cell_type": "code",
   "execution_count": 5,
   "id": "c4439653",
   "metadata": {},
   "outputs": [],
   "source": [
    "input_schema = pa.schema([\n",
    "    pa.field('input_1', pa.list_(pa.float32(), list_size=10)),\n",
    "    pa.field('input_2', pa.list_(pa.float32(), list_size=5))\n",
    "])\n",
    "output_schema = pa.schema([\n",
    "    pa.field('output_1', pa.list_(pa.float32(), list_size=3)),\n",
    "    pa.field('output_2', pa.list_(pa.float32(), list_size=2))\n",
    "])"
   ]
  },
  {
   "cell_type": "markdown",
   "id": "2a7ab7eb-90de-4e94-90d5-316e13eae5ab",
   "metadata": {},
   "source": [
    "### Upload Model\n",
    "\n",
    "The model will be uploaded with the framework set as `Framework.PYTORCH`."
   ]
  },
  {
   "cell_type": "code",
   "execution_count": 6,
   "id": "b36b29d8",
   "metadata": {},
   "outputs": [
    {
     "name": "stdout",
     "output_type": "stream",
     "text": [
      "Waiting for model loading - this will take up to 10.0min.\n",
      "Model is pending loading to a native runtime.\n",
      "Model is attempting loading to a native runtime.successful\n",
      "\n",
      "Ready\n"
     ]
    },
    {
     "data": {
      "text/html": [
       "<table>\n",
       "        <tr>\n",
       "          <td>Name</td>\n",
       "          <td>pytorch-multi-io</td>\n",
       "        </tr>\n",
       "        <tr>\n",
       "          <td>Version</td>\n",
       "          <td>a8e42173-391f-446f-989d-bd8a4d13eb0d</td>\n",
       "        </tr>\n",
       "        <tr>\n",
       "          <td>File Name</td>\n",
       "          <td>model-auto-conversion_pytorch_multi_io_model.pt</td>\n",
       "        </tr>\n",
       "        <tr>\n",
       "          <td>SHA</td>\n",
       "          <td>792db9ee9f41aded3c1d4705f50ccdedd21cafb8b6232c03e4a849b6da1050a8</td>\n",
       "        </tr>\n",
       "        <tr>\n",
       "          <td>Status</td>\n",
       "          <td>ready</td>\n",
       "        </tr>\n",
       "        <tr>\n",
       "          <td>Image Path</td>\n",
       "          <td>None</td>\n",
       "        </tr>\n",
       "        <tr>\n",
       "          <td>Architecture</td>\n",
       "          <td>None</td>\n",
       "        </tr>\n",
       "        <tr>\n",
       "          <td>Acceleration</td>\n",
       "          <td>None</td>\n",
       "        </tr>\n",
       "        <tr>\n",
       "          <td>Updated At</td>\n",
       "          <td>2024-13-Feb 19:09:20</td>\n",
       "        </tr>\n",
       "      </table>"
      ],
      "text/plain": [
       "{'name': 'pytorch-multi-io', 'version': 'a8e42173-391f-446f-989d-bd8a4d13eb0d', 'file_name': 'model-auto-conversion_pytorch_multi_io_model.pt', 'image_path': None, 'arch': None, 'accel': None, 'last_update_time': datetime.datetime(2024, 2, 13, 19, 9, 20, 798619, tzinfo=tzutc())}"
      ]
     },
     "execution_count": 6,
     "metadata": {},
     "output_type": "execute_result"
    }
   ],
   "source": [
    "model = wl.upload_model(model_name, \n",
    "                        model_file_name, \n",
    "                        framework=Framework.PYTORCH, \n",
    "                        input_schema=input_schema, \n",
    "                        output_schema=output_schema\n",
    "                       )\n",
    "model"
   ]
  },
  {
   "cell_type": "code",
   "execution_count": 7,
   "id": "18e58d1c",
   "metadata": {},
   "outputs": [
    {
     "data": {
      "text/plain": [
       "'onnx'"
      ]
     },
     "execution_count": 7,
     "metadata": {},
     "output_type": "execute_result"
    }
   ],
   "source": [
    "model.config().runtime()"
   ]
  },
  {
   "cell_type": "markdown",
   "id": "d007c496",
   "metadata": {},
   "source": [
    "### Deploy Pipeline\n",
    "\n",
    "The model is uploaded and ready for use.  We'll add it as a step in our pipeline, then deploy the pipeline.  For this example we're allocated 0.25 cpu and 4 Gi RAM to the pipeline through the pipeline's deployment configuration."
   ]
  },
  {
   "cell_type": "code",
   "execution_count": 8,
   "id": "2a709f2c-1332-4984-9cf8-87c6328d6ae4",
   "metadata": {},
   "outputs": [],
   "source": [
    "deployment_config = DeploymentConfigBuilder() \\\n",
    "    .cpus(0.25).memory('1Gi') \\\n",
    "    .build()"
   ]
  },
  {
   "cell_type": "code",
   "execution_count": 9,
   "id": "5ecc0a18-5912-4052-98a7-074b9db350b1",
   "metadata": {},
   "outputs": [
    {
     "data": {
      "text/plain": [
       "{'status': 'Running',\n",
       " 'details': [],\n",
       " 'engines': [{'ip': '10.100.1.152',\n",
       "   'name': 'engine-7b8f694d5c-4r9jw',\n",
       "   'status': 'Running',\n",
       "   'reason': None,\n",
       "   'details': [],\n",
       "   'pipeline_statuses': {'pipelines': [{'id': 'pytorch-multi-io',\n",
       "      'status': 'Running'}]},\n",
       "   'model_statuses': {'models': [{'name': 'pytorch-multi-io',\n",
       "      'version': 'a8e42173-391f-446f-989d-bd8a4d13eb0d',\n",
       "      'sha': '792db9ee9f41aded3c1d4705f50ccdedd21cafb8b6232c03e4a849b6da1050a8',\n",
       "      'status': 'Running'}]}}],\n",
       " 'engine_lbs': [{'ip': '10.100.0.90',\n",
       "   'name': 'engine-lb-dcd9c8cd7-njj76',\n",
       "   'status': 'Running',\n",
       "   'reason': None,\n",
       "   'details': []}],\n",
       " 'sidekicks': []}"
      ]
     },
     "execution_count": 9,
     "metadata": {},
     "output_type": "execute_result"
    }
   ],
   "source": [
    "# clear the pipeline if it was used before\n",
    "pipeline.clear()\n",
    "\n",
    "pipeline.add_model_step(model)\n",
    "\n",
    "pipeline.deploy(deployment_config=deployment_config)\n",
    "pipeline.status()"
   ]
  },
  {
   "cell_type": "markdown",
   "id": "60cb4aa0-601d-4556-a3f8-cdc59e758add",
   "metadata": {},
   "source": [
    "### Run Inference\n",
    "\n",
    "A sample inference will be run.  First the pandas DataFrame used for the inference is created, then the inference run through the pipeline's `infer` method."
   ]
  },
  {
   "cell_type": "code",
   "execution_count": 10,
   "id": "52bdb987",
   "metadata": {},
   "outputs": [],
   "source": [
    "mock_inference_data = [np.random.rand(10, 10), np.random.rand(10, 5)]\n",
    "mock_dataframe = pd.DataFrame(\n",
    "    {\n",
    "        \"input_1\": mock_inference_data[0].tolist(),\n",
    "        \"input_2\": mock_inference_data[1].tolist(),\n",
    "    }\n",
    ")"
   ]
  },
  {
   "cell_type": "code",
   "execution_count": 11,
   "id": "1eab3c59-c7a2-4e79-a468-e5bcb65d916c",
   "metadata": {},
   "outputs": [
    {
     "data": {
      "text/html": [
       "<div>\n",
       "<style scoped>\n",
       "    .dataframe tbody tr th:only-of-type {\n",
       "        vertical-align: middle;\n",
       "    }\n",
       "\n",
       "    .dataframe tbody tr th {\n",
       "        vertical-align: top;\n",
       "    }\n",
       "\n",
       "    .dataframe thead th {\n",
       "        text-align: right;\n",
       "    }\n",
       "</style>\n",
       "<table border=\"1\" class=\"dataframe\">\n",
       "  <thead>\n",
       "    <tr style=\"text-align: right;\">\n",
       "      <th></th>\n",
       "      <th>time</th>\n",
       "      <th>in.input_1</th>\n",
       "      <th>in.input_2</th>\n",
       "      <th>out.output_1</th>\n",
       "      <th>out.output_2</th>\n",
       "      <th>anomaly.count</th>\n",
       "    </tr>\n",
       "  </thead>\n",
       "  <tbody>\n",
       "    <tr>\n",
       "      <th>0</th>\n",
       "      <td>2024-02-13 19:09:38.950</td>\n",
       "      <td>[0.6841677322, 0.1807222014, 0.4044378146, 0.2...</td>\n",
       "      <td>[0.4666296263, 0.9242240276, 0.7538949394, 0.6...</td>\n",
       "      <td>[-0.10101657, 0.058848124, 0.28901264]</td>\n",
       "      <td>[-0.12994565, -0.10862556]</td>\n",
       "      <td>0</td>\n",
       "    </tr>\n",
       "    <tr>\n",
       "      <th>1</th>\n",
       "      <td>2024-02-13 19:09:38.950</td>\n",
       "      <td>[0.1661862341, 0.3172618066, 0.3830702442, 0.3...</td>\n",
       "      <td>[0.1306921405, 0.9781285472, 0.23512599, 0.584...</td>\n",
       "      <td>[-0.09766423, -0.012812179, 0.252462]</td>\n",
       "      <td>[-0.07967451, -0.1563291]</td>\n",
       "      <td>0</td>\n",
       "    </tr>\n",
       "    <tr>\n",
       "      <th>2</th>\n",
       "      <td>2024-02-13 19:09:38.950</td>\n",
       "      <td>[0.1045097892, 0.3283348476, 0.4891823965, 0.3...</td>\n",
       "      <td>[0.9959155436, 0.5100609033, 0.9112522474, 0.7...</td>\n",
       "      <td>[-0.036320925, -0.1215433, 0.32613605]</td>\n",
       "      <td>[-0.06854919, 0.08576059]</td>\n",
       "      <td>0</td>\n",
       "    </tr>\n",
       "    <tr>\n",
       "      <th>3</th>\n",
       "      <td>2024-02-13 19:09:38.950</td>\n",
       "      <td>[0.0711935278, 0.1454028233, 0.8773375856, 0.7...</td>\n",
       "      <td>[0.5942909393, 0.3638316714, 0.7758301051, 0.6...</td>\n",
       "      <td>[-0.032149002, -0.08917303, 0.28324488]</td>\n",
       "      <td>[0.150363, 0.05229862]</td>\n",
       "      <td>0</td>\n",
       "    </tr>\n",
       "    <tr>\n",
       "      <th>4</th>\n",
       "      <td>2024-02-13 19:09:38.950</td>\n",
       "      <td>[0.5132806823, 0.2214367759, 0.1522990439, 0.8...</td>\n",
       "      <td>[0.1184583246, 0.2849093711, 0.4934625845, 0.6...</td>\n",
       "      <td>[-0.07428986, -0.0474118, 0.18959253]</td>\n",
       "      <td>[-0.021057557, -0.093709774]</td>\n",
       "      <td>0</td>\n",
       "    </tr>\n",
       "    <tr>\n",
       "      <th>5</th>\n",
       "      <td>2024-02-13 19:09:38.950</td>\n",
       "      <td>[0.4624022797, 0.2883695717, 0.6251142116, 0.8...</td>\n",
       "      <td>[0.8308445333, 0.7138760827, 0.7440608071, 0.2...</td>\n",
       "      <td>[-0.025463045, -0.061832134, 0.16245914]</td>\n",
       "      <td>[0.024273798, 0.015264243]</td>\n",
       "      <td>0</td>\n",
       "    </tr>\n",
       "    <tr>\n",
       "      <th>6</th>\n",
       "      <td>2024-02-13 19:09:38.950</td>\n",
       "      <td>[0.5190652023, 0.3741201072, 0.2891511983, 0.7...</td>\n",
       "      <td>[0.7821363998, 0.9289637841, 0.8958883474, 0.6...</td>\n",
       "      <td>[-0.078385934, -0.014036655, 0.21711908]</td>\n",
       "      <td>[-0.014037868, -0.12455477]</td>\n",
       "      <td>0</td>\n",
       "    </tr>\n",
       "    <tr>\n",
       "      <th>7</th>\n",
       "      <td>2024-02-13 19:09:38.950</td>\n",
       "      <td>[0.4376977187, 0.5516232433, 0.3359479437, 0.7...</td>\n",
       "      <td>[0.5330120259, 0.3526138879, 0.4385310666, 0.6...</td>\n",
       "      <td>[-0.045134243, -0.0151004195, 0.19396316]</td>\n",
       "      <td>[0.018248288, 0.0025458485]</td>\n",
       "      <td>0</td>\n",
       "    </tr>\n",
       "    <tr>\n",
       "      <th>8</th>\n",
       "      <td>2024-02-13 19:09:38.950</td>\n",
       "      <td>[0.420121827, 0.9279616795, 0.3745078043, 0.85...</td>\n",
       "      <td>[0.7552034807, 0.7273257552, 0.0195262221, 0.6...</td>\n",
       "      <td>[-0.058705688, -0.014976103, 0.1577933]</td>\n",
       "      <td>[-0.15129606, 0.028029606]</td>\n",
       "      <td>0</td>\n",
       "    </tr>\n",
       "    <tr>\n",
       "      <th>9</th>\n",
       "      <td>2024-02-13 19:09:38.950</td>\n",
       "      <td>[0.2407957153, 0.1921562214, 0.1859864299, 0.4...</td>\n",
       "      <td>[0.7745044138, 0.6805588759, 0.4389954558, 0.2...</td>\n",
       "      <td>[-0.054730702, -0.055193268, 0.20420705]</td>\n",
       "      <td>[-0.12578416, 0.044233248]</td>\n",
       "      <td>0</td>\n",
       "    </tr>\n",
       "  </tbody>\n",
       "</table>\n",
       "</div>"
      ],
      "text/plain": [
       "                     time                                         in.input_1  \\\n",
       "0 2024-02-13 19:09:38.950  [0.6841677322, 0.1807222014, 0.4044378146, 0.2...   \n",
       "1 2024-02-13 19:09:38.950  [0.1661862341, 0.3172618066, 0.3830702442, 0.3...   \n",
       "2 2024-02-13 19:09:38.950  [0.1045097892, 0.3283348476, 0.4891823965, 0.3...   \n",
       "3 2024-02-13 19:09:38.950  [0.0711935278, 0.1454028233, 0.8773375856, 0.7...   \n",
       "4 2024-02-13 19:09:38.950  [0.5132806823, 0.2214367759, 0.1522990439, 0.8...   \n",
       "5 2024-02-13 19:09:38.950  [0.4624022797, 0.2883695717, 0.6251142116, 0.8...   \n",
       "6 2024-02-13 19:09:38.950  [0.5190652023, 0.3741201072, 0.2891511983, 0.7...   \n",
       "7 2024-02-13 19:09:38.950  [0.4376977187, 0.5516232433, 0.3359479437, 0.7...   \n",
       "8 2024-02-13 19:09:38.950  [0.420121827, 0.9279616795, 0.3745078043, 0.85...   \n",
       "9 2024-02-13 19:09:38.950  [0.2407957153, 0.1921562214, 0.1859864299, 0.4...   \n",
       "\n",
       "                                          in.input_2  \\\n",
       "0  [0.4666296263, 0.9242240276, 0.7538949394, 0.6...   \n",
       "1  [0.1306921405, 0.9781285472, 0.23512599, 0.584...   \n",
       "2  [0.9959155436, 0.5100609033, 0.9112522474, 0.7...   \n",
       "3  [0.5942909393, 0.3638316714, 0.7758301051, 0.6...   \n",
       "4  [0.1184583246, 0.2849093711, 0.4934625845, 0.6...   \n",
       "5  [0.8308445333, 0.7138760827, 0.7440608071, 0.2...   \n",
       "6  [0.7821363998, 0.9289637841, 0.8958883474, 0.6...   \n",
       "7  [0.5330120259, 0.3526138879, 0.4385310666, 0.6...   \n",
       "8  [0.7552034807, 0.7273257552, 0.0195262221, 0.6...   \n",
       "9  [0.7745044138, 0.6805588759, 0.4389954558, 0.2...   \n",
       "\n",
       "                                out.output_1                  out.output_2  \\\n",
       "0     [-0.10101657, 0.058848124, 0.28901264]    [-0.12994565, -0.10862556]   \n",
       "1      [-0.09766423, -0.012812179, 0.252462]     [-0.07967451, -0.1563291]   \n",
       "2     [-0.036320925, -0.1215433, 0.32613605]     [-0.06854919, 0.08576059]   \n",
       "3    [-0.032149002, -0.08917303, 0.28324488]        [0.150363, 0.05229862]   \n",
       "4      [-0.07428986, -0.0474118, 0.18959253]  [-0.021057557, -0.093709774]   \n",
       "5   [-0.025463045, -0.061832134, 0.16245914]    [0.024273798, 0.015264243]   \n",
       "6   [-0.078385934, -0.014036655, 0.21711908]   [-0.014037868, -0.12455477]   \n",
       "7  [-0.045134243, -0.0151004195, 0.19396316]   [0.018248288, 0.0025458485]   \n",
       "8    [-0.058705688, -0.014976103, 0.1577933]    [-0.15129606, 0.028029606]   \n",
       "9   [-0.054730702, -0.055193268, 0.20420705]    [-0.12578416, 0.044233248]   \n",
       "\n",
       "   anomaly.count  \n",
       "0              0  \n",
       "1              0  \n",
       "2              0  \n",
       "3              0  \n",
       "4              0  \n",
       "5              0  \n",
       "6              0  \n",
       "7              0  \n",
       "8              0  \n",
       "9              0  "
      ]
     },
     "execution_count": 11,
     "metadata": {},
     "output_type": "execute_result"
    }
   ],
   "source": [
    "pipeline.infer(mock_dataframe)"
   ]
  },
  {
   "cell_type": "markdown",
   "id": "e467f616",
   "metadata": {},
   "source": [
    "### Undeploy Pipelines\n",
    "\n",
    "With the tutorial complete, the pipeline is undeployed to return the resources back to the cluster."
   ]
  },
  {
   "cell_type": "code",
   "execution_count": 12,
   "id": "cbdc5a2e-266f-4da8-a88d-1733aca72f0d",
   "metadata": {},
   "outputs": [
    {
     "data": {
      "text/html": [
       "<table><tr><th>name</th> <td>pytorch-multi-io</td></tr><tr><th>created</th> <td>2024-02-13 19:09:08.686761+00:00</td></tr><tr><th>last_updated</th> <td>2024-02-13 19:09:22.224009+00:00</td></tr><tr><th>deployed</th> <td>False</td></tr><tr><th>arch</th> <td>None</td></tr><tr><th>accel</th> <td>None</td></tr><tr><th>tags</th> <td></td></tr><tr><th>versions</th> <td>8e8c9d94-3bb8-4c70-9867-a207a786f8c2, 621d3e8f-ad9d-4612-a4c0-dd10ffe2b523</td></tr><tr><th>steps</th> <td>pytorch-multi-io</td></tr><tr><th>published</th> <td>False</td></tr></table>"
      ],
      "text/plain": [
       "{'name': 'pytorch-multi-io', 'create_time': datetime.datetime(2024, 2, 13, 19, 9, 8, 686761, tzinfo=tzutc()), 'definition': \"[{'ModelInference': {'models': [{'name': 'pytorch-multi-io', 'version': 'a8e42173-391f-446f-989d-bd8a4d13eb0d', 'sha': '792db9ee9f41aded3c1d4705f50ccdedd21cafb8b6232c03e4a849b6da1050a8'}]}}]\"}"
      ]
     },
     "execution_count": 12,
     "metadata": {},
     "output_type": "execute_result"
    }
   ],
   "source": [
    "pipeline.undeploy()"
   ]
  }
 ],
 "metadata": {
  "kernelspec": {
   "display_name": "Python 3 (ipykernel)",
   "language": "python",
   "name": "python3"
  },
  "language_info": {
   "codemirror_mode": {
    "name": "ipython",
    "version": 3
   },
   "file_extension": ".py",
   "mimetype": "text/x-python",
   "name": "python",
   "nbconvert_exporter": "python",
   "pygments_lexer": "ipython3",
   "version": "3.9.18"
  }
 },
 "nbformat": 4,
 "nbformat_minor": 5
}
