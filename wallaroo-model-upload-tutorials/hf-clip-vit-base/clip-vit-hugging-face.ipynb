{
 "cells": [
  {
   "cell_type": "markdown",
   "id": "46cc9341",
   "metadata": {},
   "source": [
    "This tutorial and the assets can be downloaded as part of the [Wallaroo Tutorials repository](https://github.com/WallarooLabs/Wallaroo_Tutorials/tree/main/wallaroo-model-cookbooks/hf-clip-vit-base).\n",
    "\n",
    "## CLIP ViT-B/32 Transformer Demonstration with Wallaroo\n",
    "\n",
    "The following tutorial demonstrates deploying and performing sample inferences with the Hugging Face CLIP ViT-B/32 Transformer model.\n",
    "\n",
    "### Prerequisites\n",
    "\n",
    "This tutorial is geared towards the Wallaroo version 2023.2.1 and above.  The model `clip-vit-base-patch-32.zip` must be downloaded and placed into the `./models` directory.  This is available from the following URL:\n",
    "\n",
    "[https://storage.googleapis.com/wallaroo-public-data/hf-clip-vit-b32/clip-vit-base-patch-32.zip](https://storage.googleapis.com/wallaroo-public-data/hf-clip-vit-b32/clip-vit-base-patch-32.zip)\n",
    "\n",
    "If performing this tutorial from outside the Wallaroo JupyterHub environment, install the [Wallaroo SDK](https://pypi.org/project/wallaroo/)."
   ]
  },
  {
   "cell_type": "markdown",
   "id": "1c33e888-28a8-48cc-b418-2d95ad206d98",
   "metadata": {},
   "source": [
    "## Steps\n",
    "\n",
    "### Imports\n",
    "\n",
    "The first step is to import the libraries used for the example."
   ]
  },
  {
   "cell_type": "code",
   "execution_count": 1,
   "id": "af8228fc-00ce-4770-a863-8985633605b3",
   "metadata": {},
   "outputs": [],
   "source": [
    "import json\n",
    "import os\n",
    "import requests\n",
    "\n",
    "import wallaroo\n",
    "from wallaroo.pipeline   import Pipeline\n",
    "from wallaroo.deployment_config import DeploymentConfigBuilder\n",
    "from wallaroo.framework import Framework\n",
    "from wallaroo.object import EntityNotFoundError\n",
    "\n",
    "import pyarrow as pa\n",
    "import numpy as np\n",
    "import pandas as pd\n",
    "\n",
    "from PIL import Image"
   ]
  },
  {
   "cell_type": "markdown",
   "id": "f8d5b2b4",
   "metadata": {},
   "source": [
    "### Connect to the Wallaroo Instance\n",
    "\n",
    "The first step is to connect to Wallaroo through the Wallaroo client.  The Python library is included in the Wallaroo install and available through the Jupyter Hub interface provided with your Wallaroo environment.\n",
    "\n",
    "This is accomplished using the `wallaroo.Client()` command, which provides a URL to grant the SDK permission to your specific Wallaroo environment.  When displayed, enter the URL into a browser and confirm permissions.  Store the connection into a variable that can be referenced later.\n",
    "\n",
    "If logging into the Wallaroo instance through the internal JupyterHub service, use `wl = wallaroo.Client()`.  For more information on Wallaroo Client settings, see the [Client Connection guide](https://docs.wallaroo.ai/wallaroo-developer-guides/wallaroo-sdk-guides/wallaroo-sdk-essentials-guide/wallaroo-sdk-essentials-client/)."
   ]
  },
  {
   "cell_type": "code",
   "execution_count": 2,
   "id": "84693247",
   "metadata": {},
   "outputs": [],
   "source": [
    "wl = wallaroo.Client()"
   ]
  },
  {
   "cell_type": "markdown",
   "id": "c4d702df",
   "metadata": {},
   "source": [
    "### Set Workspace and Pipeline\n",
    "\n",
    "The next step is to create the Wallaroo workspace and pipeline used for the inference requests.\n",
    "\n",
    "* References\n",
    "  * [Wallaroo SDK Essentials Guide: Workspace Management](https://docs.wallaroo.ai/wallaroo-developer-guides/wallaroo-sdk-guides/wallaroo-sdk-essentials-guide/wallaroo-sdk-essentials-workspace/)\n",
    "  * [Wallaroo SDK Essentials Guide: Pipeline Management](https://docs.wallaroo.ai/wallaroo-developer-guides/wallaroo-sdk-guides/wallaroo-sdk-essentials-guide/wallaroo-sdk-essentials-pipelines/wallaroo-sdk-essentials-pipeline/)"
   ]
  },
  {
   "cell_type": "code",
   "execution_count": 3,
   "id": "ae9977c9",
   "metadata": {},
   "outputs": [],
   "source": [
    "# return the workspace called <name> through the Wallaroo client.\n",
    "\n",
    "def get_workspace(name, client):\n",
    "    workspace = None\n",
    "    for ws in client.list_workspaces():\n",
    "        if ws.name() == name:\n",
    "            workspace= ws\n",
    "            return workspace\n",
    "    # if no workspaces were found\n",
    "    if workspace==None:\n",
    "        workspace = wl.create_workspace(name)\n",
    "    return workspace"
   ]
  },
  {
   "cell_type": "code",
   "execution_count": 4,
   "id": "938d8a78",
   "metadata": {},
   "outputs": [
    {
     "data": {
      "text/plain": [
       "{'name': 'clip-demo', 'id': 19, 'archived': False, 'created_by': '92b0e5e2-b5de-46af-baa6-0a86c702cfb4', 'created_at': '2024-02-15T21:17:56.301345+00:00', 'models': [{'name': 'clip-vit', 'versions': 3, 'owner_id': '\"\"', 'last_update_time': datetime.datetime(2024, 2, 15, 21, 47, 56, 478712, tzinfo=tzutc()), 'created_at': datetime.datetime(2024, 2, 15, 21, 18, 14, 886516, tzinfo=tzutc())}], 'pipelines': [{'name': 'clip-demo', 'create_time': datetime.datetime(2024, 2, 15, 21, 17, 56, 593808, tzinfo=tzutc()), 'definition': '[]'}]}"
      ]
     },
     "metadata": {},
     "output_type": "display_data"
    },
    {
     "data": {
      "text/html": [
       "<table><tr><th>name</th> <td>clip-demo</td></tr><tr><th>created</th> <td>2024-02-15 21:17:56.593808+00:00</td></tr><tr><th>last_updated</th> <td>2024-02-15 22:12:16.419873+00:00</td></tr><tr><th>deployed</th> <td>(none)</td></tr><tr><th>arch</th> <td>None</td></tr><tr><th>tags</th> <td></td></tr><tr><th>versions</th> <td>52b8dd4d-572e-4754-8087-3de896b1d1f9, 44134c94-2f06-4123-8d48-6c60115c42ca</td></tr><tr><th>steps</th> <td></td></tr><tr><th>published</th> <td>False</td></tr></table>"
      ],
      "text/plain": [
       "{'name': 'clip-demo', 'create_time': datetime.datetime(2024, 2, 15, 21, 17, 56, 593808, tzinfo=tzutc()), 'definition': '[]'}"
      ]
     },
     "execution_count": 4,
     "metadata": {},
     "output_type": "execute_result"
    }
   ],
   "source": [
    "# create the workspace and pipeline\n",
    "\n",
    "workspace_name = 'clip-demo'\n",
    "pipeline_name = 'clip-demo'\n",
    "\n",
    "\n",
    "workspace = get_workspace(workspace_name, wl)\n",
    "\n",
    "wl.set_current_workspace(workspace)\n",
    "display(wl.get_current_workspace())\n",
    "\n",
    "pipeline = wl.build_pipeline(pipeline_name)\n",
    "pipeline"
   ]
  },
  {
   "cell_type": "markdown",
   "id": "a72de5f7-02ef-4b0b-a478-f6a21335270a",
   "metadata": {
    "tags": []
   },
   "source": [
    "### Configure and Upload Model\n",
    "\n",
    "The 🤗 Hugging Face model is uploaded to Wallaroo by defining the input and output schema, and specifying the model's framework as `wallaroo.framework.Framework.HUGGING_FACE_ZERO_SHOT_IMAGE_CLASSIFICATION`.\n",
    "\n",
    "The data schemas are defined in Apache PyArrow Schema format.\n",
    "\n",
    "The model is converted to the Wallaroo Containerized runtime after the upload is complete.\n",
    "\n",
    "* References\n",
    "  * [Wallaroo SDK Essentials Guide: Model Uploads and Registrations: Hugging Face](https://docs.wallaroo.ai/wallaroo-developer-guides/wallaroo-sdk-guides/wallaroo-sdk-essentials-guide/wallaroo-sdk-model-uploads/wallaroo-sdk-model-upload-hugging-face/)"
   ]
  },
  {
   "cell_type": "code",
   "execution_count": 5,
   "id": "ef115ab9-9c73-4c28-aad8-e915a92a746b",
   "metadata": {},
   "outputs": [],
   "source": [
    "input_schema = pa.schema([\n",
    "    pa.field('inputs', # required, fixed image dimensions\n",
    "        pa.list_(\n",
    "            pa.list_(\n",
    "                pa.list_(\n",
    "                    pa.int64(),\n",
    "                    list_size=3\n",
    "                ),\n",
    "                list_size=640 \n",
    "            ),\n",
    "        list_size=480\n",
    "    )),\n",
    "    pa.field('candidate_labels', pa.list_(pa.string(), list_size=4)), # required, equivalent to `options` in the provided demo\n",
    "]) \n",
    "\n",
    "output_schema = pa.schema([\n",
    "    pa.field('score', pa.list_(pa.float64(), list_size=4)), # has to be same as number of candidate labels\n",
    "    pa.field('label', pa.list_(pa.string(), list_size=4)), # has to be same as number of candidate labels\n",
    "])"
   ]
  },
  {
   "cell_type": "markdown",
   "id": "1600b756",
   "metadata": {},
   "source": [
    "### Upload Model"
   ]
  },
  {
   "cell_type": "code",
   "execution_count": 6,
   "id": "953e0857-45ec-4603-b0be-3bba13df5db8",
   "metadata": {
    "tags": []
   },
   "outputs": [
    {
     "name": "stdout",
     "output_type": "stream",
     "text": [
      "Waiting for model loading - this will take up to 10.0min.\n",
      "Model is pending loading to a container runtime..\n",
      "Model is attempting loading to a container runtime..............................................successful\n",
      "\n",
      "Ready\n"
     ]
    },
    {
     "data": {
      "text/html": [
       "<table>\n",
       "        <tr>\n",
       "          <td>Name</td>\n",
       "          <td>clip-vit</td>\n",
       "        </tr>\n",
       "        <tr>\n",
       "          <td>Version</td>\n",
       "          <td>d6a5a1c2-0584-40df-b94e-99c93f2b2832</td>\n",
       "        </tr>\n",
       "        <tr>\n",
       "          <td>File Name</td>\n",
       "          <td>clip-vit-base-patch-32.zip</td>\n",
       "        </tr>\n",
       "        <tr>\n",
       "          <td>SHA</td>\n",
       "          <td>4efc24685a14e1682301cc0085b9db931aeb5f3f8247854bedc6863275ed0646</td>\n",
       "        </tr>\n",
       "        <tr>\n",
       "          <td>Status</td>\n",
       "          <td>ready</td>\n",
       "        </tr>\n",
       "        <tr>\n",
       "          <td>Image Path</td>\n",
       "          <td>proxy.replicated.com/proxy/wallaroo/ghcr.io/wallaroolabs/mlflow-deploy:v2023.4.1-4514</td>\n",
       "        </tr>\n",
       "        <tr>\n",
       "          <td>Architecture</td>\n",
       "          <td>None</td>\n",
       "        </tr>\n",
       "        <tr>\n",
       "          <td>Updated At</td>\n",
       "          <td>2024-15-Feb 22:16:37</td>\n",
       "        </tr>\n",
       "      </table>"
      ],
      "text/plain": [
       "{'name': 'clip-vit', 'version': 'd6a5a1c2-0584-40df-b94e-99c93f2b2832', 'file_name': 'clip-vit-base-patch-32.zip', 'image_path': 'proxy.replicated.com/proxy/wallaroo/ghcr.io/wallaroolabs/mlflow-deploy:v2023.4.1-4514', 'arch': None, 'last_update_time': datetime.datetime(2024, 2, 15, 22, 16, 37, 48028, tzinfo=tzutc())}"
      ]
     },
     "execution_count": 6,
     "metadata": {},
     "output_type": "execute_result"
    }
   ],
   "source": [
    "model = wl.upload_model('clip-vit', './models/clip-vit-base-patch-32.zip', \n",
    "                        framework=Framework.HUGGING_FACE_ZERO_SHOT_IMAGE_CLASSIFICATION, \n",
    "                        input_schema=input_schema, \n",
    "                        output_schema=output_schema)\n",
    "model"
   ]
  },
  {
   "cell_type": "markdown",
   "id": "bdbb0930-8246-4731-84f9-eb1e0e1d9091",
   "metadata": {},
   "source": [
    "### Deploy Pipeline\n",
    "\n",
    "With the model uploaded and prepared, we add the model as a pipeline step and deploy it.  For this example, we will allocate 4 Gi of RAM and 1 CPU to the model's use through the pipeline deployment configuration.\n",
    "\n",
    "* References\n",
    "  * [Wallaroo SDK Essentials Guide: Pipeline Deployment Configuration](https://docs.wallaroo.ai/wallaroo-developer-guides/wallaroo-sdk-guides/wallaroo-sdk-essentials-guide/wallaroo-sdk-essentials-pipelines/wallaroo-sdk-essentials-pipeline-deployment-config/)"
   ]
  },
  {
   "cell_type": "code",
   "execution_count": 9,
   "id": "c1ac85a4-1978-4fb9-91c4-a4d728ed04af",
   "metadata": {},
   "outputs": [],
   "source": [
    "deployment_config = wallaroo.DeploymentConfigBuilder() \\\n",
    "    .cpus(.25).memory('1Gi') \\\n",
    "    .sidekick_memory(model, '4Gi') \\\n",
    "    .sidekick_cpus(model, 1.0) \\\n",
    "    .build()"
   ]
  },
  {
   "cell_type": "markdown",
   "id": "bb7c7e2c",
   "metadata": {},
   "source": [
    "The pipeline is deployed with the specified engine deployment.\n",
    "\n",
    "Because the model is converted to the Wallaroo Containerized Runtime, the deployment step may timeout with the `status` still as `Starting`.  If this occurs, wait an additional 60 seconds, then run the `pipeline.status()` cell.  Once the status is `Running`, the rest of the tutorial can proceed."
   ]
  },
  {
   "cell_type": "code",
   "execution_count": 10,
   "id": "ea455f46-6f8b-4d5f-a195-74634c0c886b",
   "metadata": {
    "tags": []
   },
   "outputs": [
    {
     "name": "stdout",
     "output_type": "stream",
     "text": [
      " ok\n"
     ]
    },
    {
     "data": {
      "text/html": [
       "<table><tr><th>name</th> <td>clip-demo</td></tr><tr><th>created</th> <td>2024-02-15 21:17:56.593808+00:00</td></tr><tr><th>last_updated</th> <td>2024-02-15 22:21:06.549681+00:00</td></tr><tr><th>deployed</th> <td>True</td></tr><tr><th>arch</th> <td>None</td></tr><tr><th>tags</th> <td></td></tr><tr><th>versions</th> <td>5d9fcea3-49af-4bec-8e78-7ac9aeaabb5f, a270a215-2fe6-457e-8d6a-ae3c73ce78a1, 52b8dd4d-572e-4754-8087-3de896b1d1f9, 44134c94-2f06-4123-8d48-6c60115c42ca</td></tr><tr><th>steps</th> <td>clip-vit</td></tr><tr><th>published</th> <td>False</td></tr></table>"
      ],
      "text/plain": [
       "{'name': 'clip-demo', 'create_time': datetime.datetime(2024, 2, 15, 21, 17, 56, 593808, tzinfo=tzutc()), 'definition': \"[{'ModelInference': {'models': [{'name': 'clip-vit', 'version': 'd6a5a1c2-0584-40df-b94e-99c93f2b2832', 'sha': '4efc24685a14e1682301cc0085b9db931aeb5f3f8247854bedc6863275ed0646'}]}}]\"}"
      ]
     },
     "execution_count": 10,
     "metadata": {},
     "output_type": "execute_result"
    }
   ],
   "source": [
    "pipeline.clear()\n",
    "pipeline.add_model_step(model)\n",
    "pipeline.deploy(deployment_config=deployment_config)"
   ]
  },
  {
   "cell_type": "code",
   "execution_count": 17,
   "id": "5b5dd7fe-e2bb-4421-abb1-953228cbd3d7",
   "metadata": {},
   "outputs": [
    {
     "data": {
      "text/plain": [
       "{'status': 'Running',\n",
       " 'details': [],\n",
       " 'engines': [{'ip': '10.100.1.169',\n",
       "   'name': 'engine-6bffc9f549-7ngg6',\n",
       "   'status': 'Running',\n",
       "   'reason': None,\n",
       "   'details': [],\n",
       "   'pipeline_statuses': {'pipelines': [{'id': 'clip-demo',\n",
       "      'status': 'Running'}]},\n",
       "   'model_statuses': {'models': [{'name': 'clip-vit',\n",
       "      'version': 'd6a5a1c2-0584-40df-b94e-99c93f2b2832',\n",
       "      'sha': '4efc24685a14e1682301cc0085b9db931aeb5f3f8247854bedc6863275ed0646',\n",
       "      'status': 'Running'}]}}],\n",
       " 'engine_lbs': [{'ip': '10.100.0.69',\n",
       "   'name': 'engine-lb-dcd9c8cd7-qkl6c',\n",
       "   'status': 'Running',\n",
       "   'reason': None,\n",
       "   'details': []}],\n",
       " 'sidekicks': [{'ip': '10.100.2.231',\n",
       "   'name': 'engine-sidekick-clip-vit-24-54bdd55ff5-rld5r',\n",
       "   'status': 'Running',\n",
       "   'reason': None,\n",
       "   'details': [],\n",
       "   'statuses': '\\n'}]}"
      ]
     },
     "execution_count": 17,
     "metadata": {},
     "output_type": "execute_result"
    }
   ],
   "source": [
    "pipeline.status()"
   ]
  },
  {
   "cell_type": "markdown",
   "id": "8f305561-adc4-4362-9b83-547815a73fa5",
   "metadata": {
    "toc-hr-collapsed": true
   },
   "source": [
    "### Run Inference\n",
    "\n",
    "We verify the pipeline is deployed by checking the `status()`.\n",
    "\n",
    "The sample images in the `./data` directory are converted into numpy arrays, and the candidate labels added as inputs.  Both are set as DataFrame arrays where the field `inputs` are the image values, and `candidate_labels` the labels."
   ]
  },
  {
   "cell_type": "code",
   "execution_count": 12,
   "id": "792817ce-f8fa-445b-8154-98263a646d37",
   "metadata": {},
   "outputs": [],
   "source": [
    "image_paths = [\n",
    "    \"./data/bear-in-tree.jpg\",\n",
    "    \"./data/elephant-and-zebras.jpg\",\n",
    "    \"./data/horse-and-dogs.jpg\",\n",
    "    \"./data/kittens.jpg\",\n",
    "    \"./data/remote-monitor.jpg\"\n",
    "]\n",
    "images = []\n",
    "\n",
    "for iu in image_paths:\n",
    "    image = Image.open(iu)\n",
    "    image = image.resize((640, 480)) # fixed image dimensions\n",
    "    images.append(np.array(image))\n",
    "\n",
    "dataframe = pd.DataFrame({\"images\": images})"
   ]
  },
  {
   "cell_type": "code",
   "execution_count": 13,
   "id": "b6d85172-8168-4f02-8442-426331ccdcd6",
   "metadata": {
    "tags": []
   },
   "outputs": [
    {
     "data": {
      "text/html": [
       "<div>\n",
       "<style scoped>\n",
       "    .dataframe tbody tr th:only-of-type {\n",
       "        vertical-align: middle;\n",
       "    }\n",
       "\n",
       "    .dataframe tbody tr th {\n",
       "        vertical-align: top;\n",
       "    }\n",
       "\n",
       "    .dataframe thead th {\n",
       "        text-align: right;\n",
       "    }\n",
       "</style>\n",
       "<table border=\"1\" class=\"dataframe\">\n",
       "  <thead>\n",
       "    <tr style=\"text-align: right;\">\n",
       "      <th></th>\n",
       "      <th>inputs</th>\n",
       "      <th>candidate_labels</th>\n",
       "    </tr>\n",
       "  </thead>\n",
       "  <tbody>\n",
       "    <tr>\n",
       "      <th>0</th>\n",
       "      <td>[[[60, 62, 61], [62, 64, 63], [67, 69, 68], [7...</td>\n",
       "      <td>[cat, dog, horse, elephant]</td>\n",
       "    </tr>\n",
       "    <tr>\n",
       "      <th>1</th>\n",
       "      <td>[[[228, 235, 241], [229, 236, 242], [230, 237,...</td>\n",
       "      <td>[cat, dog, horse, elephant]</td>\n",
       "    </tr>\n",
       "    <tr>\n",
       "      <th>2</th>\n",
       "      <td>[[[177, 177, 177], [177, 177, 177], [177, 177,...</td>\n",
       "      <td>[cat, dog, horse, elephant]</td>\n",
       "    </tr>\n",
       "    <tr>\n",
       "      <th>3</th>\n",
       "      <td>[[[140, 25, 56], [144, 25, 67], [146, 24, 73],...</td>\n",
       "      <td>[cat, dog, horse, elephant]</td>\n",
       "    </tr>\n",
       "    <tr>\n",
       "      <th>4</th>\n",
       "      <td>[[[24, 20, 11], [22, 18, 9], [18, 14, 5], [21,...</td>\n",
       "      <td>[cat, dog, horse, elephant]</td>\n",
       "    </tr>\n",
       "  </tbody>\n",
       "</table>\n",
       "</div>"
      ],
      "text/plain": [
       "                                              inputs  \\\n",
       "0  [[[60, 62, 61], [62, 64, 63], [67, 69, 68], [7...   \n",
       "1  [[[228, 235, 241], [229, 236, 242], [230, 237,...   \n",
       "2  [[[177, 177, 177], [177, 177, 177], [177, 177,...   \n",
       "3  [[[140, 25, 56], [144, 25, 67], [146, 24, 73],...   \n",
       "4  [[[24, 20, 11], [22, 18, 9], [18, 14, 5], [21,...   \n",
       "\n",
       "              candidate_labels  \n",
       "0  [cat, dog, horse, elephant]  \n",
       "1  [cat, dog, horse, elephant]  \n",
       "2  [cat, dog, horse, elephant]  \n",
       "3  [cat, dog, horse, elephant]  \n",
       "4  [cat, dog, horse, elephant]  "
      ]
     },
     "execution_count": 13,
     "metadata": {},
     "output_type": "execute_result"
    }
   ],
   "source": [
    "input_data = {\n",
    "        \"inputs\": images,\n",
    "        \"candidate_labels\": [[\"cat\", \"dog\", \"horse\", \"elephant\"]] * 5,\n",
    "}\n",
    "dataframe = pd.DataFrame(input_data)\n",
    "dataframe"
   ]
  },
  {
   "cell_type": "markdown",
   "id": "692dc278",
   "metadata": {},
   "source": [
    "### Inference Outputs\n",
    "\n",
    "The inference is run, and the labels with their corresponding confidence values for each label are mapped to `out.label` and `out.score` for each image."
   ]
  },
  {
   "cell_type": "code",
   "execution_count": 21,
   "id": "fa078ffd-859e-4706-8729-9e7d78f8bf60",
   "metadata": {},
   "outputs": [
    {
     "data": {
      "text/html": [
       "<div>\n",
       "<style scoped>\n",
       "    .dataframe tbody tr th:only-of-type {\n",
       "        vertical-align: middle;\n",
       "    }\n",
       "\n",
       "    .dataframe tbody tr th {\n",
       "        vertical-align: top;\n",
       "    }\n",
       "\n",
       "    .dataframe thead th {\n",
       "        text-align: right;\n",
       "    }\n",
       "</style>\n",
       "<table border=\"1\" class=\"dataframe\">\n",
       "  <thead>\n",
       "    <tr style=\"text-align: right;\">\n",
       "      <th></th>\n",
       "      <th>time</th>\n",
       "      <th>in.candidate_labels</th>\n",
       "      <th>in.inputs</th>\n",
       "      <th>out.label</th>\n",
       "      <th>out.score</th>\n",
       "      <th>anomaly.count</th>\n",
       "    </tr>\n",
       "  </thead>\n",
       "  <tbody>\n",
       "    <tr>\n",
       "      <th>0</th>\n",
       "      <td>2024-02-15 22:24:56.801</td>\n",
       "      <td>[cat, dog, horse, elephant]</td>\n",
       "      <td>[60, 62, 61, 62, 64, 63, 67, 69, 68, 72, 74, 73, 76, 78, 77, 77, 79, 78, 76, 78, 77, 74, 76, 75, 73, 75, 74, 75, 77, 76, 79, 81, 80, 83, 85, 84, 83, 85, 84, 83, 85, 84, 85, 87, 86, 87, 89, 88, 88, 90, 89, 88, 90, 89, 88, 89, 89, 88, 88, 88, 88, 88, 88, 88, 88, 88, 90, 90, 90, 91, 91, 91, 93, 93, 93, 94, 94, 94, 95, 95, 95, 94, 94, 94, 96, 96, 96, 97, 97, 97, 100, 100, 100, 102, 102, 102, 105, 105, 105, 106, ...]</td>\n",
       "      <td>[elephant, dog, horse, cat]</td>\n",
       "      <td>[0.4146825075149536, 0.34838539361953735, 0.1285744309425354, 0.10835769772529602]</td>\n",
       "      <td>0</td>\n",
       "    </tr>\n",
       "    <tr>\n",
       "      <th>1</th>\n",
       "      <td>2024-02-15 22:24:56.801</td>\n",
       "      <td>[cat, dog, horse, elephant]</td>\n",
       "      <td>[228, 235, 241, 229, 236, 242, 230, 237, 243, 230, 237, 243, 231, 238, 244, 232, 237, 243, 232, 237, 243, 231, 236, 242, 232, 237, 243, 233, 238, 244, 233, 238, 244, 233, 238, 244, 233, 238, 244, 234, 239, 245, 234, 239, 245, 234, 239, 245, 235, 240, 246, 235, 240, 246, 235, 240, 246, 235, 240, 246, 235, 240, 246, 235, 240, 244, 235, 240, 244, 235, 240, 244, 236, 241, 245, 236, 241, 245, 236, 241, 245, 236, 241, 245, 236, 241, 245, 236, 241, 245, 236, 241, 245, 236, 241, 245, 235, 240, 244, 235, ...]</td>\n",
       "      <td>[elephant, horse, dog, cat]</td>\n",
       "      <td>[0.9981434345245361, 0.001765842898748815, 6.823761941632256e-05, 2.2441257897298783e-05]</td>\n",
       "      <td>0</td>\n",
       "    </tr>\n",
       "    <tr>\n",
       "      <th>2</th>\n",
       "      <td>2024-02-15 22:24:56.801</td>\n",
       "      <td>[cat, dog, horse, elephant]</td>\n",
       "      <td>[177, 177, 177, 177, 177, 177, 177, 177, 177, 177, 177, 177, 177, 177, 177, 177, 177, 177, 177, 177, 177, 177, 177, 177, 177, 177, 177, 177, 177, 177, 176, 176, 176, 176, 176, 176, 176, 176, 176, 176, 176, 176, 177, 177, 177, 178, 178, 178, 175, 177, 176, 175, 177, 176, 175, 177, 176, 175, 177, 176, 175, 177, 176, 175, 177, 176, 175, 176, 178, 175, 176, 178, 174, 175, 177, 174, 175, 177, 174, 175, 177, 174, 175, 177, 174, 175, 177, 174, 175, 177, 174, 175, 177, 174, 175, 177, 175, 176, 180, 175, ...]</td>\n",
       "      <td>[horse, dog, elephant, cat]</td>\n",
       "      <td>[0.7596790790557861, 0.2171126902103424, 0.020392922684550285, 0.0028152712620794773]</td>\n",
       "      <td>0</td>\n",
       "    </tr>\n",
       "    <tr>\n",
       "      <th>3</th>\n",
       "      <td>2024-02-15 22:24:56.801</td>\n",
       "      <td>[cat, dog, horse, elephant]</td>\n",
       "      <td>[140, 25, 56, 144, 25, 67, 146, 24, 73, 142, 19, 65, 144, 18, 66, 154, 25, 81, 157, 28, 82, 145, 18, 63, 139, 13, 37, 155, 26, 64, 157, 30, 75, 159, 32, 77, 151, 22, 78, 152, 23, 88, 158, 30, 89, 142, 17, 59, 162, 31, 73, 162, 35, 65, 154, 29, 61, 151, 26, 70, 154, 29, 73, 146, 22, 56, 153, 26, 71, 160, 27, 93, 144, 22, 73, 156, 31, 87, 153, 22, 88, 174, 41, 96, 167, 32, 73, 163, 23, 86, 161, 20, 89, 171, 34, 76, 165, 34, 78, 157, ...]</td>\n",
       "      <td>[cat, dog, elephant, horse]</td>\n",
       "      <td>[0.9870226979255676, 0.006646943278610706, 0.0032716323621571064, 0.003058752976357937]</td>\n",
       "      <td>0</td>\n",
       "    </tr>\n",
       "    <tr>\n",
       "      <th>4</th>\n",
       "      <td>2024-02-15 22:24:56.801</td>\n",
       "      <td>[cat, dog, horse, elephant]</td>\n",
       "      <td>[24, 20, 11, 22, 18, 9, 18, 14, 5, 21, 17, 8, 22, 18, 9, 21, 17, 8, 24, 19, 13, 16, 11, 5, 18, 15, 8, 17, 14, 7, 15, 12, 5, 18, 15, 8, 21, 18, 11, 18, 15, 8, 15, 12, 7, 20, 17, 12, 18, 15, 8, 15, 12, 5, 17, 14, 7, 18, 15, 8, 17, 14, 5, 18, 15, 6, 18, 15, 6, 14, 11, 2, 16, 13, 4, 16, 13, 4, 21, 18, 11, 16, 13, 6, 14, 11, 6, 16, 13, 8, 14, 11, 6, 19, 16, 11, 17, 14, 9, 14, ...]</td>\n",
       "      <td>[dog, horse, cat, elephant]</td>\n",
       "      <td>[0.5713969469070435, 0.17229345440864563, 0.15523967146873474, 0.10106996446847916]</td>\n",
       "      <td>0</td>\n",
       "    </tr>\n",
       "  </tbody>\n",
       "</table>\n",
       "</div>"
      ],
      "text/plain": [
       "                     time          in.candidate_labels  \\\n",
       "0 2024-02-15 22:24:56.801  [cat, dog, horse, elephant]   \n",
       "1 2024-02-15 22:24:56.801  [cat, dog, horse, elephant]   \n",
       "2 2024-02-15 22:24:56.801  [cat, dog, horse, elephant]   \n",
       "3 2024-02-15 22:24:56.801  [cat, dog, horse, elephant]   \n",
       "4 2024-02-15 22:24:56.801  [cat, dog, horse, elephant]   \n",
       "\n",
       "                                                                                                                                                                                                                                                                                                                                                                                                                                                                                                                   in.inputs  \\\n",
       "0                                                                                            [60, 62, 61, 62, 64, 63, 67, 69, 68, 72, 74, 73, 76, 78, 77, 77, 79, 78, 76, 78, 77, 74, 76, 75, 73, 75, 74, 75, 77, 76, 79, 81, 80, 83, 85, 84, 83, 85, 84, 83, 85, 84, 85, 87, 86, 87, 89, 88, 88, 90, 89, 88, 90, 89, 88, 89, 89, 88, 88, 88, 88, 88, 88, 88, 88, 88, 90, 90, 90, 91, 91, 91, 93, 93, 93, 94, 94, 94, 95, 95, 95, 94, 94, 94, 96, 96, 96, 97, 97, 97, 100, 100, 100, 102, 102, 102, 105, 105, 105, 106, ...]   \n",
       "1  [228, 235, 241, 229, 236, 242, 230, 237, 243, 230, 237, 243, 231, 238, 244, 232, 237, 243, 232, 237, 243, 231, 236, 242, 232, 237, 243, 233, 238, 244, 233, 238, 244, 233, 238, 244, 233, 238, 244, 234, 239, 245, 234, 239, 245, 234, 239, 245, 235, 240, 246, 235, 240, 246, 235, 240, 246, 235, 240, 246, 235, 240, 246, 235, 240, 244, 235, 240, 244, 235, 240, 244, 236, 241, 245, 236, 241, 245, 236, 241, 245, 236, 241, 245, 236, 241, 245, 236, 241, 245, 236, 241, 245, 236, 241, 245, 235, 240, 244, 235, ...]   \n",
       "2  [177, 177, 177, 177, 177, 177, 177, 177, 177, 177, 177, 177, 177, 177, 177, 177, 177, 177, 177, 177, 177, 177, 177, 177, 177, 177, 177, 177, 177, 177, 176, 176, 176, 176, 176, 176, 176, 176, 176, 176, 176, 176, 177, 177, 177, 178, 178, 178, 175, 177, 176, 175, 177, 176, 175, 177, 176, 175, 177, 176, 175, 177, 176, 175, 177, 176, 175, 176, 178, 175, 176, 178, 174, 175, 177, 174, 175, 177, 174, 175, 177, 174, 175, 177, 174, 175, 177, 174, 175, 177, 174, 175, 177, 174, 175, 177, 175, 176, 180, 175, ...]   \n",
       "3                                                                    [140, 25, 56, 144, 25, 67, 146, 24, 73, 142, 19, 65, 144, 18, 66, 154, 25, 81, 157, 28, 82, 145, 18, 63, 139, 13, 37, 155, 26, 64, 157, 30, 75, 159, 32, 77, 151, 22, 78, 152, 23, 88, 158, 30, 89, 142, 17, 59, 162, 31, 73, 162, 35, 65, 154, 29, 61, 151, 26, 70, 154, 29, 73, 146, 22, 56, 153, 26, 71, 160, 27, 93, 144, 22, 73, 156, 31, 87, 153, 22, 88, 174, 41, 96, 167, 32, 73, 163, 23, 86, 161, 20, 89, 171, 34, 76, 165, 34, 78, 157, ...]   \n",
       "4                                                                                                                                 [24, 20, 11, 22, 18, 9, 18, 14, 5, 21, 17, 8, 22, 18, 9, 21, 17, 8, 24, 19, 13, 16, 11, 5, 18, 15, 8, 17, 14, 7, 15, 12, 5, 18, 15, 8, 21, 18, 11, 18, 15, 8, 15, 12, 7, 20, 17, 12, 18, 15, 8, 15, 12, 5, 17, 14, 7, 18, 15, 8, 17, 14, 5, 18, 15, 6, 18, 15, 6, 14, 11, 2, 16, 13, 4, 16, 13, 4, 21, 18, 11, 16, 13, 6, 14, 11, 6, 16, 13, 8, 14, 11, 6, 19, 16, 11, 17, 14, 9, 14, ...]   \n",
       "\n",
       "                     out.label  \\\n",
       "0  [elephant, dog, horse, cat]   \n",
       "1  [elephant, horse, dog, cat]   \n",
       "2  [horse, dog, elephant, cat]   \n",
       "3  [cat, dog, elephant, horse]   \n",
       "4  [dog, horse, cat, elephant]   \n",
       "\n",
       "                                                                                   out.score  \\\n",
       "0         [0.4146825075149536, 0.34838539361953735, 0.1285744309425354, 0.10835769772529602]   \n",
       "1  [0.9981434345245361, 0.001765842898748815, 6.823761941632256e-05, 2.2441257897298783e-05]   \n",
       "2      [0.7596790790557861, 0.2171126902103424, 0.020392922684550285, 0.0028152712620794773]   \n",
       "3    [0.9870226979255676, 0.006646943278610706, 0.0032716323621571064, 0.003058752976357937]   \n",
       "4        [0.5713969469070435, 0.17229345440864563, 0.15523967146873474, 0.10106996446847916]   \n",
       "\n",
       "   anomaly.count  \n",
       "0              0  \n",
       "1              0  \n",
       "2              0  \n",
       "3              0  \n",
       "4              0  "
      ]
     },
     "metadata": {},
     "output_type": "display_data"
    }
   ],
   "source": [
    "results = pipeline.infer(dataframe, timeout=600)\n",
    "pd.set_option('display.max_colwidth', None)\n",
    "display(results)"
   ]
  },
  {
   "cell_type": "markdown",
   "id": "10efccd7-fd4a-4628-907c-e5d84397ea1c",
   "metadata": {},
   "source": [
    "### Undeploy Pipelines\n",
    "\n",
    "With the tutorial complete, the pipeline is undeployed and the resources returned back to the cluster."
   ]
  },
  {
   "cell_type": "code",
   "execution_count": 22,
   "id": "34d053bc-b225-45e0-8e84-f45c30122f89",
   "metadata": {},
   "outputs": [
    {
     "name": "stdout",
     "output_type": "stream",
     "text": [
      "Waiting for undeployment - this will take up to 45s .................................... ok\n"
     ]
    },
    {
     "data": {
      "text/html": [
       "<table><tr><th>name</th> <td>clip-demo</td></tr><tr><th>created</th> <td>2024-02-15 21:17:56.593808+00:00</td></tr><tr><th>last_updated</th> <td>2024-02-15 22:21:06.549681+00:00</td></tr><tr><th>deployed</th> <td>False</td></tr><tr><th>arch</th> <td>None</td></tr><tr><th>tags</th> <td></td></tr><tr><th>versions</th> <td>5d9fcea3-49af-4bec-8e78-7ac9aeaabb5f, a270a215-2fe6-457e-8d6a-ae3c73ce78a1, 52b8dd4d-572e-4754-8087-3de896b1d1f9, 44134c94-2f06-4123-8d48-6c60115c42ca</td></tr><tr><th>steps</th> <td>clip-vit</td></tr><tr><th>published</th> <td>False</td></tr></table>"
      ],
      "text/plain": [
       "{'name': 'clip-demo', 'create_time': datetime.datetime(2024, 2, 15, 21, 17, 56, 593808, tzinfo=tzutc()), 'definition': \"[{'ModelInference': {'models': [{'name': 'clip-vit', 'version': 'd6a5a1c2-0584-40df-b94e-99c93f2b2832', 'sha': '4efc24685a14e1682301cc0085b9db931aeb5f3f8247854bedc6863275ed0646'}]}}]\"}"
      ]
     },
     "execution_count": 22,
     "metadata": {},
     "output_type": "execute_result"
    }
   ],
   "source": [
    "pipeline.undeploy()"
   ]
  }
 ],
 "metadata": {
  "kernelspec": {
   "display_name": "Python 3 (ipykernel)",
   "language": "python",
   "name": "python3"
  },
  "language_info": {
   "codemirror_mode": {
    "name": "ipython",
    "version": 3
   },
   "file_extension": ".py",
   "mimetype": "text/x-python",
   "name": "python",
   "nbconvert_exporter": "python",
   "pygments_lexer": "ipython3",
   "version": "3.9.13"
  }
 },
 "nbformat": 4,
 "nbformat_minor": 5
}
