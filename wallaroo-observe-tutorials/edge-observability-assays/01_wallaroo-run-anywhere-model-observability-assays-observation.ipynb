{
 "cells": [
  {
   "cell_type": "markdown",
   "metadata": {},
   "source": [
    "This tutorial and the assets can be downloaded as part of the [Wallaroo Tutorials repository](https://github.com/WallarooLabs/Wallaroo_Tutorials/blob/20240208_anomaly_detection/wallaroo-observe-tutorials/wallaro-model-observability-assays).\n",
    "\n",
    "## Wallaroo Run Anywhere Model Drift Observability with Assays\n",
    "\n",
    "The Model Insights feature lets you monitor how the environment that your model operates within may be changing in ways that affect it's predictions so that you can intervene (retrain) in an efficient and timely manner. Changes in the inputs, **data drift**, can occur due to errors in the data processing pipeline or due to changes in the environment such as user preference or behavior. \n",
    "\n",
    "Wallaroo Run Anywhere allows models to be deployed on edge and other locations, and have their inference result logs uploaded to the Wallaroo Ops center.  Wallaroo assays allow for model drift detection to include the inference results from one or more deployment locations and compare any one or multiple locations results against an established baseline.\n",
    "\n",
    "This notebook is designed to demonstrate the Wallaroo Run Anywhere with Model Drift Observability with Wallaroo Assays.  This notebook will walk through the process of:\n",
    "\n",
    "* Setting up a workspace, pipeline, and model for deriving the price of a house based on inputs.\n",
    "* Performing a sample set of inferences used to demonstrate potential model drift.\n",
    "* Publish the deployed model to an Open Container Initiative (OCI) Registry, and use that to deploy the model to an edge device.\n",
    "* Perform similar inferences on the edge device and show those inference results in the Wallaroo Ops pipeline logs.\n",
    "* Perform the steps in creating an assay:\n",
    "  * Build an assay baseline.\n",
    "  * Preview the assay and show different assay configurations based on selecting the inference data from the Wallaroo Ops model deployment versus the edge deployment.\n",
    "  * Create the assay.\n",
    "  * View assay results.\n",
    "\n",
    "This notebook focuses on interactive exploration over historical data. After you are comfortable with how your data has behaved historically, you can schedule this same analysis (called an *assay*) to automatically run periodically, looking for indications of data drift or concept drift.  For this tutorial, the locations used to collect analysis data is changed to allow for edge deployment results to be included in the model drift detection analysis.\n",
    "\n",
    "In this notebook, we will be running a drift assay on an ONNX model pre-trained to predict house prices.\n",
    "\n",
    "## Goal\n",
    "\n",
    "Model insights monitors the output of the house price model over a designated time window and compares it to an expected baseline distribution. We measure the performance of model deployments in different locations and compare that to the baseline to detect model drift.\n",
    "\n",
    "### Resources\n",
    "\n",
    "This tutorial provides the following:\n",
    "\n",
    "* Models:\n",
    "  * `models/rf_model.onnx`: The champion model that has been used in this environment for some time.\n",
    "  * Various inputs:\n",
    "    * `smallinputs.df.json`: A set of house inputs that tends to generate low house price values.\n",
    "    * `biginputs.df.json`: A set of house inputs that tends to generate high house price values.\n",
    "\n",
    "### Prerequisites\n",
    "\n",
    "* A deployed Wallaroo instance with [Edge Registry Services](https://docs.wallaroo.ai/wallaroo-operations-guide/wallaroo-configuration/wallaroo-edge-deployment/#enable-wallaroo-edge-deployment-registry) and [Edge Observability enabled](https://docs.wallaroo.ai/wallaroo-operations-guide/wallaroo-configuration/wallaroo-edge-deployment/#set-edge-observability-service).\n",
    "* The following Python libraries installed:\n",
    "  * [`wallaroo`](https://pypi.org/project/wallaroo/): The Wallaroo SDK. Included with the Wallaroo JupyterHub service by default.\n",
    "  * [`pandas`](https://pypi.org/project/pandas/): Pandas, mainly used for Pandas DataFrame\n",
    "* A X64 Docker deployment to deploy the model on an edge location.\n"
   ]
  },
  {
   "cell_type": "markdown",
   "metadata": {},
   "source": [
    "## Steps\n",
    "\n",
    "* Deploying a sample ML model used to determine house prices based on a set of input parameters.\n",
    "* Build an assay baseline from a set of baseline start and end dates, and an assay baseline from a numpy array.\n",
    "* Preview the assay and show different assay configurations.\n",
    "* Upload the assay.\n",
    "* View assay results.\n",
    "* Pause and resume the assay.\n",
    "\n",
    "### Import Libraries\n",
    "\n",
    "The first step will be to import our libraries, and set variables used through this tutorial."
   ]
  },
  {
   "cell_type": "code",
   "execution_count": 1,
   "metadata": {},
   "outputs": [],
   "source": [
    "import wallaroo\n",
    "from wallaroo.object import EntityNotFoundError\n",
    "from wallaroo.framework import Framework\n",
    "\n",
    "from IPython.display import display\n",
    "\n",
    "# used to display DataFrame information without truncating\n",
    "from IPython.display import display\n",
    "import pandas as pd\n",
    "pd.set_option('display.max_colwidth', None)\n",
    "\n",
    "import datetime\n",
    "import time\n",
    "\n",
    "workspace_name = f'run-anywhere-assay-demonstration-tutorial'\n",
    "main_pipeline_name = f'assay-demonstration-tutorial'\n",
    "model_name_control = f'house-price-estimator'\n",
    "model_file_name_control = './models/rf_model.onnx'\n",
    "\n",
    "# Set the name of the assay\n",
    "assay_name=\"ops assay example\"\n",
    "edge_assay_name = \"edge assay example\"\n",
    "combined_assay_name = \"combined assay example\"\n",
    "\n",
    "# ignoring warnings for demonstration\n",
    "import warnings\n",
    "warnings.filterwarnings('ignore')\n",
    "\n",
    "# used to display DataFrame information without truncating\n",
    "from IPython.display import display\n",
    "import pandas as pd\n",
    "pd.set_option('display.max_colwidth', None)"
   ]
  },
  {
   "cell_type": "code",
   "execution_count": 2,
   "metadata": {},
   "outputs": [],
   "source": [
    "def get_workspace(name, client):\n",
    "    workspace = None\n",
    "    for ws in client.list_workspaces():\n",
    "        if ws.name() == name:\n",
    "            workspace= ws\n",
    "    return workspace"
   ]
  },
  {
   "cell_type": "markdown",
   "metadata": {},
   "source": [
    "### Connect to the Wallaroo Instance\n",
    "\n",
    "The first step is to connect to Wallaroo through the Wallaroo client.  The Python library is included in the Wallaroo install and available through the Jupyter Hub interface provided with your Wallaroo environment.\n",
    "\n",
    "This is accomplished using the `wallaroo.Client()` command, which provides a URL to grant the SDK permission to your specific Wallaroo environment.  When displayed, enter the URL into a browser and confirm permissions.  Store the connection into a variable that can be referenced later.\n",
    "\n",
    "If logging into the Wallaroo instance through the internal JupyterHub service, use `wl = wallaroo.Client()`.  For more information on Wallaroo Client settings, see the [Client Connection guide](https://docs.wallaroo.ai/wallaroo-developer-guides/wallaroo-sdk-guides/wallaroo-sdk-essentials-guide/wallaroo-sdk-essentials-client/)."
   ]
  },
  {
   "cell_type": "code",
   "execution_count": 3,
   "metadata": {},
   "outputs": [],
   "source": [
    "# Login through local Wallaroo instance\n",
    "\n",
    "wl = wallaroo.Client()\n",
    "\n",
    "wl = wallaroo.Client()\n",
    "\n",
    "wl = wallaroo.Client()\n",
    "\n",
    "wallarooPrefix = \"\"\n",
    "wallarooSuffix = \"autoscale-uat-gcp.wallaroo.dev\"\n",
    "\n",
    "wl = wallaroo.Client(api_endpoint=f\"https://{wallarooPrefix}api.{wallarooSuffix}\", \n",
    "                    auth_endpoint=f\"https://{wallarooPrefix}keycloak.{wallarooSuffix}\", \n",
    "                    auth_type=\"sso\")"
   ]
  },
  {
   "cell_type": "markdown",
   "metadata": {},
   "source": [
    "### Retrieve Workspace and Pipeline\n",
    "\n",
    "For our example, we will retrieve the same workspace and pipeline that were used to create the edge locations.  This requires that the preparation notebook is run first @TODO: name and file name of the notebook."
   ]
  },
  {
   "cell_type": "code",
   "execution_count": 4,
   "metadata": {},
   "outputs": [
    {
     "data": {
      "text/plain": [
       "{'name': 'run-anywhere-assay-demonstration-tutorial', 'id': 39, 'archived': False, 'created_by': 'b4a9aa3d-83fc-407a-b4eb-37796e96f1ef', 'created_at': '2024-02-28T17:07:43.828688+00:00', 'models': [], 'pipelines': []}"
      ]
     },
     "execution_count": 4,
     "metadata": {},
     "output_type": "execute_result"
    }
   ],
   "source": [
    "workspace = get_workspace(workspace_name, wl)\n",
    "\n",
    "wl.set_current_workspace(workspace)\n",
    "\n",
    "mainpipeline = wl.build_pipeline(main_pipeline_name)"
   ]
  },
  {
   "cell_type": "markdown",
   "metadata": {},
   "source": [
    "### List Pipeline Edges\n",
    "\n",
    "List the pipeline edges with the `wallaroo.pipeline.list_edges` methods.  This tutorial requires that @TODO: name and file name of the notebook was run and the generated edge publishes were deployed."
   ]
  },
  {
   "cell_type": "code",
   "execution_count": 6,
   "metadata": {},
   "outputs": [
    {
     "data": {
      "text/html": [
       "<table><tr><th>name</th> <td>assay-demonstration-tutorial</td></tr><tr><th>created</th> <td>2024-02-28 17:09:13.517363+00:00</td></tr><tr><th>last_updated</th> <td>2024-02-28 17:09:14.388029+00:00</td></tr><tr><th>deployed</th> <td>True</td></tr><tr><th>arch</th> <td>None</td></tr><tr><th>accel</th> <td>None</td></tr><tr><th>tags</th> <td></td></tr><tr><th>versions</th> <td>84cc722a-4c2a-49fa-ab85-3b9ebd0f12af, a2ec7a67-a55f-4886-84da-9f0f5d074bb4</td></tr><tr><th>steps</th> <td>house-price-estimator</td></tr><tr><th>published</th> <td>False</td></tr></table>"
      ],
      "text/plain": [
       "{'name': 'assay-demonstration-tutorial', 'create_time': datetime.datetime(2024, 2, 28, 17, 9, 13, 517363, tzinfo=tzutc()), 'definition': \"[{'ModelInference': {'models': [{'name': 'house-price-estimator', 'version': 'fa4be80e-dd8f-4e42-8385-e8eca9fd8500', 'sha': 'e22a0831aafd9917f3cc87a15ed267797f80e2afa12ad7d8810ca58f173b8cc6'}]}}]\"}"
      ]
     },
     "execution_count": 6,
     "metadata": {},
     "output_type": "execute_result"
    }
   ],
   "source": [
    "mainpipeline = wl.build_pipeline(main_pipeline_name)\n",
    "\n",
    "# list the publishes\n",
    "\n",
    "mainpipeline.publishes()\n",
    "\n",
    "# get the edges\n",
    "\n",
    "mainpipeline.list_edges()"
   ]
  },
  {
   "cell_type": "markdown",
   "metadata": {},
   "source": [
    "### Edge Inferences\n",
    "\n",
    "We will perform sample inference on our edge location, then verify that the inference results are added to our pipeline logs with the name of our edge location.  For these example, the edge location is on the hostname `testboy.local`.  Change this hostname to the host name of your edge deployment.\n",
    "\n",
    "We will submit two sets of inferences:\n",
    "\n",
    "* A normal set will is unlikely to trigger an assay alert when compared against the baseline.  These are run through the location `houseprice-edge-01`.\n",
    "* A set of inferences that will return large house values that is likely to trigger an assay alert when compared against the baseline.  These are run through the location `houseprice-edge-02`."
   ]
  },
  {
   "cell_type": "code",
   "execution_count": 19,
   "metadata": {},
   "outputs": [],
   "source": [
    "!curl -X POST testboy.local:8080/pipelines"
   ]
  },
  {
   "cell_type": "code",
   "execution_count": 17,
   "metadata": {},
   "outputs": [
    {
     "name": "stdout",
     "output_type": "stream",
     "text": [
      "{\"status\":\"Error\",\"error\":\"No model with name 'house-price-estimator' and version 'fa4be80e-dd8f-4e42-8385-e8eca9fd8500'\"}"
     ]
    }
   ],
   "source": [
    "!curl -X POST testboy.local:8080/pipelines/{main_pipeline_name} \\\n",
    "    -H \"Content-Type: Content-Type: application/json; format=pandas-records\" \\\n",
    "    --data @./data/smallinputs.df.json"
   ]
  },
  {
   "cell_type": "code",
   "execution_count": null,
   "metadata": {},
   "outputs": [],
   "source": [
    "assay_baseline_start = datetime.datetime.now()\n",
    "\n",
    "time.sleep(65)\n",
    "# generate a set of large house values that will trigger an assay alert based on our baseline\n",
    "!curl -X POST testboy.local:8080/pipelines/{main_pipeline_name} \\\n",
    "    -H \"Content-Type: Content-Type: application/json; format=pandas-records\" \\\n",
    "    --data @./data/smallinputs.df.json\n",
    "\n",
    "assay_baseline_end = datetime.datetime.now()\n",
    "\n",
    "time.sleep(65)\n",
    "\n",
    "# set the start of the assay window period\n",
    "assay_window_start = datetime.datetime.now()\n",
    "\n",
    "# generate a set of normal house values\n",
    "!curl -X POST testboy.local:8080/pipelines/{main_pipeline_name} \\\n",
    "    -H \"Content-Type: Content-Type: application/json; format=pandas-records\" \\\n",
    "    --data @./data/normal-inputs.df.json\n",
    "\n",
    "\n"
   ]
  },
  {
   "cell_type": "code",
   "execution_count": 20,
   "metadata": {},
   "outputs": [
    {
     "name": "stdout",
     "output_type": "stream",
     "text": [
      "curl: (7) Failed to connect to testboy.local port 8081 after 2041 ms: Couldn't connect to server\n"
     ]
    }
   ],
   "source": [
    "!curl -X POST testboy.local:8081/pipelines"
   ]
  },
  {
   "cell_type": "code",
   "execution_count": null,
   "metadata": {},
   "outputs": [],
   "source": [
    "# set of values for the second edge location\n",
    "# generate a set of normal house values\n",
    "!curl -X POST testboy.local:8081/pipelines/{main_pipeline_name} \\\n",
    "    -H \"Content-Type: Content-Type: application/json; format=pandas-records\" \\\n",
    "    --data @./data/normal-inputs.df.json\n",
    "\n",
    "time.sleep(65)\n",
    "# generate a set of large house values that will trigger an assay alert based on our baseline\n",
    "!curl -X POST testboy.local:8081/pipelines/{main_pipeline_name} \\\n",
    "    -H \"Content-Type: Content-Type: application/json; format=pandas-records\" \\\n",
    "    --data @./data/biginputs.df.json"
   ]
  },
  {
   "cell_type": "markdown",
   "metadata": {},
   "source": [
    "## Run Anywhere Model Insights via the Wallaroo SDK\n",
    "\n",
    "Assays generated through the Wallaroo SDK can be previewed, configured, and uploaded to the Wallaroo Ops instance.  The following is a condensed version of this process.  For full details see the [Wallaroo SDK Essentials Guide: Assays Management](https://docs.wallaroo.ai/wallaroo-developer-guides/wallaroo-sdk-guides/wallaroo-sdk-essentials-guide/wallaroo-sdk-essentials-assays/) guide.\n",
    "\n",
    "Model drift detection with assays using the Wallaroo SDK follows this general process.\n",
    "\n",
    "* Define the Baseline: From either historical inference data for a specific model in a pipeline, or from a pre-determine array of data, a **baseline** is formed.\n",
    "* Assay Preview:  Once the baseline is formed, we **preview the assay** and configure the different options until we have the the best method of detecting environment or model drift.\n",
    "  * For this tutorial, we focus on limiting the locations included in the assay analyses.\n",
    "* Create Assay:  With the previews and configuration complete, we **upload** the assay.  The assay will perform an analysis on a regular scheduled based on the configuration.\n",
    "* Get Assay Results:  Retrieve the analyses and use them to detect model drift and possible sources.\n",
    "* Pause/Resume Assay:  Pause or restart an assay as needed.\n",
    "\n",
    "### Define the Baseline\n",
    "\n",
    "Assay baselines are defined with the [`wallaroo.client.build_assay`](https://docs.wallaroo.ai/wallaroo-developer-guides/wallaroo-sdk-guides/wallaroo-sdk-reference-guide/client/#Client.build_assay) method. Through this process we define the baseline from either a range of dates or pre-generated values.\n",
    "\n",
    "`wallaroo.client.build_assay` take the following parameters:\n",
    "\n",
    "| Parameter | Type | Description |\n",
    "|---|---|---|\n",
    "| **assay_name** | *String* (*Required*) - required | The name of the assay.  Assay names **must** be unique across the Wallaroo instance. |\n",
    "| **pipeline** | *wallaroo.pipeline.Pipeline* (*Required*) | The pipeline the assay is monitoring. |\n",
    "| **model_name** | *String* (*Required*)  | The name of the model to monitor.\n",
    "| **iopath** | *String* (*Required*) | The input/output data for the model being tracked in the format `input/output field index`.  Only one value is tracked for any assay.  For example, to track the **output** of the model's field `house_value` at index `0`, the `iopath` is `'output house_value 0`. |\n",
    "| **baseline_start** | *datetime.datetime* (*Optional*) | The start time for the inferences to use as the baseline.  **Must be included with `baseline_end`.  Cannot be included with `baseline_data`**. |\n",
    "| **baseline_end** | *datetime.datetime* (*Optional*) | The end time of the baseline window. the baseline. Windows start immediately after the baseline window and are run at regular intervals continuously until the assay is deactivated or deleted.  **Must be included with `baseline_start`.  Cannot be included with `baseline_data`.**. |\n",
    "| **baseline_data** | *numpy.array* (*Optional*) | The baseline data in numpy array format.  **Cannot be included with either `baseline_start` or `baseline_data`**. |\n",
    "\n",
    "Baselines are created in one of two ways:\n",
    "\n",
    "* **Date Range**:  The `baseline_start` and `baseline_end` retrieves the inference requests and results for the pipeline from the start and end period.  This data is summarized and used to create the baseline.\n",
    "* **Numpy Values**:  The `baseline_data` sets the baseline from a provided numpy array.\n",
    "\n",
    "#### Define the Baseline Example\n",
    "\n",
    "This example shows the assay defined from the date ranges from the inferences performed earlier.\n",
    "\n",
    "The following parameters are used:\n",
    "\n",
    "| Parameter | Value |\n",
    "|---|---|\n",
    "| **assay_name** | `\"assays from date baseline\"` and `\"assays from numpy\"` |\n",
    "| **pipeline** | `mainpipeline`:  A pipeline with a ML model that predicts house prices.  The output field for this model is `variable`. |\n",
    "| **model_name** | `\"houseprice-predictor\"` - the model name set during model upload. |\n",
    "| **iopath** | These assays monitor the model's **output** field **variable** at index 0.  From this, the `iopath` setting is `\"output variable 0\"`.  |\n",
    "| **baseline_start** | The start date for inference requests and results to gather for the baseline. |\n",
    "| **baseline_end** | The end date for for inference requests and results to gather for the baseline. |\n",
    "\n",
    "For each of our assays, we will set the time period of inference data to compare against the baseline data.\n",
    "\n",
    "@TODO:  By default locations include all pipeline inference data across all locations, this example specifies one."
   ]
  },
  {
   "cell_type": "code",
   "execution_count": null,
   "metadata": {},
   "outputs": [],
   "source": [
    "# edge locations\n",
    "\n",
    "location_01 = \"houseprice-edge-demonstration-01\"\n",
    "location_02 = \"houseprice-edge-demonstration-02\""
   ]
  },
  {
   "cell_type": "code",
   "execution_count": null,
   "metadata": {},
   "outputs": [],
   "source": [
    "# Build the assay, based on the start and end of our baseline time, \n",
    "# and tracking the output variable index 0\n",
    "assay_builder_from_dates = wl.build_assay(assay_name=\"run anywhere from dates\", \n",
    "                                          pipeline=mainpipeline, \n",
    "                                          model_name=\"house-price-estimator\", \n",
    "                                          iopath=\"output variable 0\",\n",
    "                                          baseline_start=assay_baseline_start, \n",
    "                                          baseline_end=assay_baseline_end)\n",
    "\n",
    "# set the location to use for baseline data\n",
    "\n",
    "# set the location to the ops center\n",
    "assay_builder_from_dates.window_builder().add_location_filter([location_01])\n",
    "# set the width, interval, and time period \n",
    "assay_builder_from_dates.add_run_until(datetime.datetime.now())\n",
    "assay_builder_from_dates.window_builder().add_width(minutes=1).add_interval(minutes=1).add_start(assay_window_start)\n",
    "assay_config_from_dates = assay_builder_from_dates.build()\n",
    "assay_results_from_dates = assay_config_from_dates.interactive_run()"
   ]
  },
  {
   "cell_type": "markdown",
   "metadata": {},
   "source": [
    "#### Baseline DataFrame\n",
    "\n",
    "The method [`wallaroo.assay_config.AssayBuilder.baseline_dataframe`](https://docs.wallaroo.ai/wallaroo-developer-guides/wallaroo-sdk-guides/wallaroo-sdk-reference-guide/assay_config/#AssayBuilder.baseline_dataframe) returns a DataFrame of the assay baseline generated from the provided parameters.  This includes:\n",
    "\n",
    "* `metadata`:  The inference metadata with the model information, inference time, and other related factors.\n",
    "* `in` data:  Each input field assigned with the label `in.{input field name}`.\n",
    "* `out` data:  Each output field assigned with the label `out.{output field name}`\n",
    "\n",
    "Note that for assays generated from numpy values, there is only the `out` data based on the supplied baseline data.\n",
    "\n",
    "In the following example, the baseline DataFrame is retrieved.  "
   ]
  },
  {
   "cell_type": "code",
   "execution_count": null,
   "metadata": {},
   "outputs": [],
   "source": [
    "display(assay_builder_from_dates.baseline_dataframe())"
   ]
  },
  {
   "cell_type": "markdown",
   "metadata": {},
   "source": [
    "#### Baseline Stats\n",
    "\n",
    "The method `wallaroo.assay.AssayAnalysis.baseline_stats()` returns a `pandas.core.frame.DataFrame` of the baseline stats.\n",
    "\n",
    "The baseline stats for each assay are displayed in the examples below."
   ]
  },
  {
   "cell_type": "code",
   "execution_count": null,
   "metadata": {},
   "outputs": [],
   "source": [
    "assay_results_from_dates[0].baseline_stats()"
   ]
  },
  {
   "cell_type": "markdown",
   "metadata": {},
   "source": [
    "#### Baseline Bins\n",
    "\n",
    "The method `wallaroo.assay.AssayAnalysis.baseline_bins` a simple dataframe to with the edge/bin data for a baseline."
   ]
  },
  {
   "cell_type": "code",
   "execution_count": null,
   "metadata": {},
   "outputs": [],
   "source": [
    "assay_results_from_dates[0].baseline_bins()"
   ]
  },
  {
   "cell_type": "markdown",
   "metadata": {},
   "source": [
    "#### Baseline Histogram Chart\n",
    "\n",
    "The method [`wallaroo.assay_config.AssayBuilder.baseline_histogram`](https://docs.wallaroo.ai/wallaroo-developer-guides/wallaroo-sdk-guides/wallaroo-sdk-reference-guide/assay_config/#AssayBuilder.baseline_dataframe) returns a histogram chart of the assay baseline generated from the provided parameters."
   ]
  },
  {
   "cell_type": "code",
   "execution_count": null,
   "metadata": {},
   "outputs": [],
   "source": [
    "assay_builder_from_dates.baseline_histogram()"
   ]
  },
  {
   "cell_type": "markdown",
   "metadata": {},
   "source": [
    "### Assay Preview\n",
    "\n",
    "Now that the baseline is defined, we look at different configuration options and view how the assay baseline and results changes.  Once we determine what gives us the best method of determining model drift, we can create the assay."
   ]
  },
  {
   "cell_type": "markdown",
   "metadata": {},
   "source": [
    "#### Analysis List Chart Scores\n",
    "\n",
    "Analysis List scores show the assay scores for each assay result interval in one chart.  Values that are outside of the alert threshold are colored red, while scores within the alert threshold are green.\n",
    "\n",
    "Assay chart scores are displayed with the method [`wallaroo.assay.AssayAnalysisList.chart_scores(title: Optional[str] = None)`](https://docs.wallaroo.ai/wallaroo-developer-guides/wallaroo-sdk-guides/wallaroo-sdk-reference-guide/assay/#AssayAnalysisList.chart_scores), with ability to display an optional title with the chart.\n",
    "\n",
    "The following example shows retrieving the assay results and displaying the chart scores.  From our example, we have two windows - the first should be green, and the second is red showing that values were outside the alert threshold."
   ]
  },
  {
   "cell_type": "code",
   "execution_count": null,
   "metadata": {},
   "outputs": [],
   "source": [
    "# Build the assay, based on the start and end of our baseline time, \n",
    "# and tracking the output variable index 0\n",
    "assay_builder_from_dates = wl.build_assay(assay_name=\"run anywhere from dates\", \n",
    "                                          pipeline=mainpipeline, \n",
    "                                          model_name=\"house-price-estimator\", \n",
    "                                          iopath=\"output variable 0\",\n",
    "                                          baseline_start=assay_baseline_start, \n",
    "                                          baseline_end=assay_baseline_end)\n",
    "\n",
    "# set the width, interval, and time period \n",
    "assay_builder_from_dates.add_run_until(datetime.datetime.now())\n",
    "assay_builder_from_dates.window_builder().add_width(minutes=1).add_interval(minutes=1).add_start(assay_window_start)\n",
    "assay_config_from_dates = assay_builder_from_dates.build()\n",
    "assay_results_from_dates = assay_config_from_dates.interactive_run()\n",
    "\n",
    "assay_results_from_dates.chart_scores()"
   ]
  },
  {
   "cell_type": "markdown",
   "metadata": {},
   "source": [
    "#### Analysis Chart\n",
    "\n",
    "The method `wallaroo.assay.AssayAnalysis.chart()` displays a comparison between the baseline and an interval of inference data.\n",
    "\n",
    "This is compared to the [Chart Scores](#analysis-list-chart-scores), which is a **list** of all of the inference data split into intervals, while the **Analysis Chart** shows the breakdown of one set of inference data against the baseline.\n",
    "\n",
    "Score from the [Analysis List Chart Scores](#analysis-list-chart-scores) and each element from the [Analysis List DataFrame](#analysis-list-dataframe) generates \n",
    "\n",
    "The following fields are included.\n",
    "\n",
    "| Field | Type | Description |\n",
    "|---|---|---|\n",
    "| **baseline mean** | **Float** | The mean of the baseline values. |\n",
    "| **window mean** | **Float** | The mean of the window values. |\n",
    "| **baseline median** | **Float** | The median of the baseline values. |\n",
    "| **window median** | **Float** | The median of the window values. |\n",
    "| **bin_mode** | **String** | The binning mode used for the assay. |\n",
    "| **aggregation** | **String** | The aggregation mode used for the assay. |\n",
    "| **metric** | **String** | The metric mode used for the assay. |\n",
    "| **weighted** | **Bool** | Whether the bins were manually weighted. |\n",
    "| **score** | **Float** | The score from the assay window. |\n",
    "| **scores** | **List(Float)** | The score from each assay window bin. |\n",
    "| **index** | **Integer/None** | The window index.  Interactive assay runs are `None`. |"
   ]
  },
  {
   "cell_type": "code",
   "execution_count": null,
   "metadata": {},
   "outputs": [],
   "source": [
    "# Build the assay, based on the start and end of our baseline time, \n",
    "# and tracking the output variable index 0\n",
    "assay_builder_from_dates = wl.build_assay(assay_name=\"run anywhere from dates\", \n",
    "                                          pipeline=mainpipeline, \n",
    "                                          model_name=\"house-price-estimator\", \n",
    "                                          iopath=\"output variable 0\",\n",
    "                                          baseline_start=assay_baseline_start, \n",
    "                                          baseline_end=assay_baseline_end)\n",
    "\n",
    "# set the width, interval, and time period \n",
    "assay_builder_from_dates.add_run_until(datetime.datetime.now())\n",
    "assay_builder_from_dates.window_builder().add_width(minutes=1).add_interval(minutes=1).add_start(assay_window_start)\n",
    "assay_config_from_dates = assay_builder_from_dates.build()\n",
    "assay_results_from_dates = assay_config_from_dates.interactive_run()\n",
    "\n",
    "assay_results_from_dates[0].chart()"
   ]
  },
  {
   "cell_type": "markdown",
   "metadata": {},
   "source": [
    "#### Analysis List DataFrame\n",
    "\n",
    "`wallaroo.assay.AssayAnalysisList.to_dataframe()` returns a DataFrame showing the assay results for each window aka individual analysis.  This DataFrame contains the following fields:\n",
    "\n",
    "| Field | Type | Description |\n",
    "|---|---|---|\n",
    "| **assay_id** | *Integer/None* | The assay id.  Only provided from uploaded and executed assays. |\n",
    "| **name** | *String/None* | The name of the assay.  Only provided from uploaded and executed assays. |\n",
    "| **iopath** | *String/None* | The iopath of the assay.  Only provided from uploaded and executed assays. |\n",
    "| **score** | *Float* | The assay score. |\n",
    "| **start** | *DateTime* | The DateTime start of the assay window.\n",
    "| **min** | *Float* | The minimum value in the assay window.\n",
    "| **max**  | *Float* | The maximum value in the assay window.\n",
    "| **mean** | *Float* | The mean value in the assay window.\n",
    "| **median** | *Float* | The median value in the assay window.\n",
    "| **std** | *Float* | The standard deviation value in the assay window.\n",
    "| **warning_threshold** | *Float/None* | The warning threshold of the assay window.\n",
    "| **alert_threshold** | *Float/None* | The alert threshold of the assay window.\n",
    "| **status** | *String* | The assay window status.  Values are:  <ul><li>`OK`: The score is within accepted thresholds.</li><li>`Warning`: The score has triggered the `warning_threshold` if exists, but not the `alert_threshold`.</li><li>`Alert`: The score has triggered the the `alert_threshold`.</li></ul> |\n",
    "\n",
    "For this example, the assay analysis list DataFrame is listed.  \n",
    "\n",
    "From this tutorial, we should have 2 windows of dta to look at, each one minute apart.  The first window should show `status: OK`, with the second window with the very large house prices will show `status: alert`"
   ]
  },
  {
   "cell_type": "code",
   "execution_count": null,
   "metadata": {},
   "outputs": [],
   "source": [
    "# Build the assay, based on the start and end of our baseline time, \n",
    "# and tracking the output variable index 0\n",
    "assay_builder_from_dates = wl.build_assay(assay_name=\"assays from date baseline\", \n",
    "                                          pipeline=mainpipeline, \n",
    "                                          model_name=\"house-price-estimator\", \n",
    "                                          iopath=\"output variable 0\",\n",
    "                                          baseline_start=assay_baseline_start, \n",
    "                                          baseline_end=assay_baseline_end)\n",
    "\n",
    "# set the width, interval, and time period \n",
    "assay_builder_from_dates.add_run_until(datetime.datetime.now())\n",
    "assay_builder_from_dates.window_builder().add_width(minutes=1).add_interval(minutes=1).add_start(assay_window_start)\n",
    "assay_config_from_dates = assay_builder_from_dates.build()\n",
    "assay_results_from_dates = assay_config_from_dates.interactive_run()\n",
    "\n",
    "assay_results_from_dates.to_dataframe()"
   ]
  },
  {
   "cell_type": "markdown",
   "metadata": {},
   "source": [
    "#### Configure Assays\n",
    "\n",
    "Before creating the assay, **configure** the assay and continue to preview it until the best method for detecting drift is set.\n",
    "\n",
    "##### Location Filter\n",
    "\n",
    "This tutorial focuses on the assay configuration method `wallaroo.assay_config.WindowBuilder.add_location_filter` which takes the following parameters.\n",
    "\n",
    "| Parameter | Type | Description |\n",
    "|---|---|---|\n",
    "| **locations** | List(String) | The list of model deployment locations for the assay. |\n",
    "\n",
    "By default, the `locations` parameter includes **all locations** as part of the pipeline.  This is seen in the default where no location filter is set, and of the inference data is shown."
   ]
  },
  {
   "cell_type": "code",
   "execution_count": null,
   "metadata": {},
   "outputs": [],
   "source": [
    "# Build the assay, based on the start and end of our baseline time, \n",
    "# and tracking the output variable index 0\n",
    "assay_builder_from_dates = wl.build_assay(assay_name=\"run anywhere from dates\", \n",
    "                                          pipeline=mainpipeline, \n",
    "                                          model_name=\"house-price-estimator\", \n",
    "                                          iopath=\"output variable 0\",\n",
    "                                          baseline_start=assay_baseline_start, \n",
    "                                          baseline_end=assay_baseline_end)\n",
    "\n",
    "\n",
    "# set the width, interval, and time period\n",
    "assay_builder_from_dates.add_run_until(datetime.datetime.now())\n",
    "assay_builder_from_dates.window_builder().add_width(minutes=1).add_interval(minutes=1).add_start(assay_window_start)\n",
    "assay_config_from_dates = assay_builder_from_dates.build()\n",
    "assay_results_from_dates = assay_config_from_dates.interactive_run()\n",
    "\n",
    "assay_results_from_dates.chart_scores()\n",
    "assay_results_from_dates.to_dataframe()"
   ]
  },
  {
   "cell_type": "markdown",
   "metadata": {},
   "source": [
    "Now we will set the location to the ops center only pipeline and display the results."
   ]
  },
  {
   "cell_type": "code",
   "execution_count": null,
   "metadata": {},
   "outputs": [],
   "source": [
    "# Build the assay, based on the start and end of our baseline time, \n",
    "# and tracking the output variable index 0\n",
    "assay_builder_from_dates = wl.build_assay(assay_name=\"run anywhere from dates\", \n",
    "                                          pipeline=mainpipeline, \n",
    "                                          model_name=\"house-price-estimator\", \n",
    "                                          iopath=\"output variable 0\",\n",
    "                                          baseline_start=assay_baseline_start, \n",
    "                                          baseline_end=assay_baseline_end)\n",
    "\n",
    "# set the location to the ops center\n",
    "assay_builder_from_dates.window_builder().add_location_filter([location_01])\n",
    "\n",
    "\n",
    "# set the width, interval, and time period\n",
    "assay_builder_from_dates.add_run_until(datetime.datetime.now())\n",
    "assay_builder_from_dates.window_builder().add_width(minutes=1).add_interval(minutes=1).add_start(assay_window_start)\n",
    "assay_config_from_dates = assay_builder_from_dates.build()\n",
    "assay_results_from_dates = assay_config_from_dates.interactive_run()\n",
    "\n",
    "assay_results_from_dates.chart_scores()\n",
    "assay_results_from_dates.to_dataframe()"
   ]
  },
  {
   "cell_type": "markdown",
   "metadata": {},
   "source": [
    "Now we specify only our edge deployment location."
   ]
  },
  {
   "cell_type": "code",
   "execution_count": null,
   "metadata": {},
   "outputs": [],
   "source": [
    "# Build the assay, based on the start and end of our baseline time, \n",
    "# and tracking the output variable index 0\n",
    "assay_builder_from_dates = wl.build_assay(assay_name=\"run anywhere from dates\", \n",
    "                                          pipeline=mainpipeline, \n",
    "                                          model_name=\"house-price-estimator\", \n",
    "                                          iopath=\"output variable 0\",\n",
    "                                          baseline_start=assay_baseline_start, \n",
    "                                          baseline_end=assay_baseline_end)\n",
    "\n",
    "# set the location to the the edge location\n",
    "assay_builder_from_dates.window_builder().add_location_filter([location_02])\n",
    "\n",
    "\n",
    "# set the width, interval, and time period\n",
    "assay_builder_from_dates.add_run_until(datetime.datetime.now())\n",
    "assay_builder_from_dates.window_builder().add_width(minutes=1).add_interval(minutes=1).add_start(assay_window_start)\n",
    "assay_config_from_dates = assay_builder_from_dates.build()\n",
    "assay_results_from_dates = assay_config_from_dates.interactive_run()\n",
    "\n",
    "assay_results_from_dates.chart_scores()\n",
    "assay_results_from_dates.to_dataframe()"
   ]
  },
  {
   "cell_type": "markdown",
   "metadata": {},
   "source": [
    "Now we specify both the Wallaroo Ops deployed pipeilne and the edge pipeline."
   ]
  },
  {
   "cell_type": "code",
   "execution_count": null,
   "metadata": {},
   "outputs": [],
   "source": [
    "# Build the assay, based on the start and end of our baseline time, \n",
    "# and tracking the output variable index 0\n",
    "assay_builder_from_dates = wl.build_assay(assay_name=\"run anywhere from dates\", \n",
    "                                          pipeline=mainpipeline, \n",
    "                                          model_name=\"house-price-estimator\", \n",
    "                                          iopath=\"output variable 0\",\n",
    "                                          baseline_start=assay_baseline_start, \n",
    "                                          baseline_end=assay_baseline_end)\n",
    "\n",
    "# set the location to both the edge locations\n",
    "assay_builder_from_dates.window_builder().add_location_filter([location_01, location_02])\n",
    "\n",
    "\n",
    "# set the width, interval, and time period\n",
    "assay_builder_from_dates.add_run_until(datetime.datetime.now())\n",
    "assay_builder_from_dates.window_builder().add_width(minutes=1).add_interval(minutes=1).add_start(assay_window_start)\n",
    "assay_config_from_dates = assay_builder_from_dates.build()\n",
    "assay_results_from_dates = assay_config_from_dates.interactive_run()\n",
    "\n",
    "assay_results_from_dates.chart_scores()\n",
    "assay_results_from_dates.to_dataframe()"
   ]
  },
  {
   "cell_type": "markdown",
   "metadata": {},
   "source": [
    "### Create Assay\n",
    "\n",
    "With the assay previewed and configuration options determined, we officially create it by uploading it to the Wallaroo instance.\n",
    "\n",
    "Once it is uploaded, the assay runs an analysis based on the window width, interval, and the other settings configured.\n",
    "\n",
    "Assays are uploaded with the `wallaroo.assay_config.upload()` method. This uploads the assay into the Wallaroo database with the configurations applied and returns the assay id. Note that assay names **must be unique across the Wallaroo instance**; attempting to upload an assay with the same name as an existing one will return an error.\n",
    "\n",
    "`wallaroo.assay_config.upload()` returns the assay id for the assay.\n",
    "\n",
    "Typically we would just call `wallaroo.assay_config.upload()` after configuring the assay.  For the example below, we will perform the complete configuration in one window to show all of the configuration steps at once before creating the assay, and narrow the locations to only the Wallaroo Ops deployed pipeline and the single edge."
   ]
  },
  {
   "cell_type": "code",
   "execution_count": null,
   "metadata": {},
   "outputs": [],
   "source": [
    "# Build the assay, based on the start and end of our baseline time, \n",
    "# and tracking the output variable index 0\n",
    "assay_builder_from_dates = wl.build_assay(assay_name=\"run anywhere from dates\", \n",
    "                                          pipeline=mainpipeline, \n",
    "                                          model_name=\"house-price-estimator\", \n",
    "                                          iopath=\"output variable 0\",\n",
    "                                          baseline_start=assay_baseline_start, \n",
    "                                          baseline_end=assay_baseline_end)\n",
    "\n",
    "# set the location to both the edge locations\n",
    "assay_builder_from_dates.window_builder().add_location_filter([location_01, location_02])\n",
    "\n",
    "\n",
    "# set the width, interval, and time period\n",
    "assay_builder_from_dates.add_run_until(datetime.datetime.now())\n",
    "assay_builder_from_dates.window_builder().add_width(minutes=1).add_interval(minutes=1).add_start(assay_window_start)\n",
    "\n",
    "\n",
    "assay_id = assay_builder_from_dates.upload()\n",
    "\n",
    "# wait 65 seconds for the first analysis run performed\n",
    "time.sleep(65)\n"
   ]
  },
  {
   "cell_type": "markdown",
   "metadata": {},
   "source": [
    "The assay is now visible through the Wallaroo UI by selecting the workspace, then the pipeline, then **Insights**.  The following is an example of another assay in the Wallaroo Dashboard.\n",
    "\n",
    "![Sample assay in the UI](images/housepricesaga-sample-assay.png)"
   ]
  },
  {
   "cell_type": "markdown",
   "metadata": {},
   "source": [
    "### Get Assay Results\n",
    "\n",
    "Once an assay is created the assay runs an analysis based on the window width, interval, and the other settings configured.\n",
    "\n",
    "Assay results are retrieved with the `wallaroo.client.get_assay_results` method, which takes the following parameters:\n",
    "\n",
    "| Parameter | Type | Description |\n",
    "|---|---|---|\n",
    "| **assay_id** | *Integer* (*Required*) | The numerical id of the assay. |\n",
    "| **start** | *Datetime.Datetime* (*Required*) | The start date and time of historical data from the pipeline to start analyses from. |\n",
    "| **end** | *Datetime.Datetime* (*Required*) | The end date and time of historical data from the pipeline to limit analyses to. |\n",
    "\n",
    "* **IMPORTANT NOTE**:  This process requires that additional historical data is generated from the time the assay is created to when the results are available. To add additional inference data, use the [Assay Test Data](#assay-test-data) section above."
   ]
  },
  {
   "cell_type": "code",
   "execution_count": null,
   "metadata": {},
   "outputs": [],
   "source": [
    "assay_results = wl.get_assay_results(assay_id=assay_id,\n",
    "                     start=assay_window_start,\n",
    "                     end=datetime.datetime.now())\n",
    "\n",
    "assay_results.chart_scores()"
   ]
  },
  {
   "cell_type": "code",
   "execution_count": null,
   "metadata": {},
   "outputs": [],
   "source": [
    "assay_results[0].chart()"
   ]
  }
 ],
 "metadata": {
  "kernelspec": {
   "display_name": "Python 3 (ipykernel)",
   "language": "python",
   "name": "python3"
  },
  "language_info": {
   "codemirror_mode": {
    "name": "ipython",
    "version": 3
   },
   "file_extension": ".py",
   "mimetype": "text/x-python",
   "name": "python",
   "nbconvert_exporter": "python",
   "pygments_lexer": "ipython3",
   "version": "3.9.18"
  },
  "vscode": {
   "interpreter": {
    "hash": "7dda4bf3640b7fafcd1648658b879b4cc9f6ba6084e8fb356fdaaa1a461d1690"
   }
  }
 },
 "nbformat": 4,
 "nbformat_minor": 4
}
