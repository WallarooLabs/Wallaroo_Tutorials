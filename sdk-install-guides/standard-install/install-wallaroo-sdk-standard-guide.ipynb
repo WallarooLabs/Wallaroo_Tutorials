{
 "cells": [
  {
   "cell_type": "markdown",
   "metadata": {},
   "source": [
    "This tutorial and the assets can be downloaded as part of the [Wallaroo Tutorials repository](https://github.com/WallarooLabs/Wallaroo_Tutorials/tree/main/sdk-install-guides/standard-install).\n",
    "\n",
    "## Installing the Wallaroo SDK\n",
    "\n",
    "Organizations that develop machine learning models can deploy models to Wallaroo from their local systems to a Wallaroo instance through the [Wallaroo SDK](https://docs.wallaroo.ai/wallaroo-developer-guides/wallaroo-sdk-guides/).  The following guide is created to assist users with installing the Wallaroo SDK and making a standard connection to a Wallaroo instance.\n",
    "\n",
    "These instructions are based on the on the [Connect to Wallaroo](https://docs.wallaroo.ai/wallaroo-developer-guides/wallaroo-sdk-guides/wallaroo-sdk-essentials-guide/#connect-to-wallaroo) guides.\n",
    "\n",
    "This tutorial provides the following:\n",
    "\n",
    "* `libraries/wallaroo-0.35.0-py3-none-any.whl`: Wallaroo Python wheel version 0.35.0.  This file is a placeholder until the Wallaroo public library is available.\n",
    "* `aloha-cnn-lstm.zip`: A pre-trained open source model that uses an [Aloha CNN LSTM model](https://www.researchgate.net/publication/348920204_Using_Auxiliary_Inputs_in_Deep_Learning_Models_for_Detecting_DGA-based_Domain_Names) for classifying Domain names as being either legitimate or being used for nefarious purposes such as malware distribution.\n",
    "* `data-1.json`, `data-1k.json`, `data-25k.json`: Data files with 1, 1,000, and 25,000 records for testing.\n",
    "\n",
    "For this example, a virtual python environment will be used.  This will set the necessary libraries and specific Python version required.\n",
    "\n",
    "## Prerequisites\n",
    "\n",
    "The following is required for this tutorial:\n",
    "\n",
    "* A Wallaroo instance version 2022.4 or later.\n",
    "* Python 3.8 or later installed locally\n",
    "* [Conda](https://docs.conda.io/en/latest/):  Used for managing python virtual environments.\n",
    "\n",
    "## General Steps\n",
    "\n",
    "For our example, we will perform the following:\n",
    "\n",
    "* Wallaroo SDK Install\n",
    "  * Set up a Python virtual environment through `conda` with the libraries that enable the virtual environment for use in a Jupyter Hub environment.\n",
    "  * Install the Wallaroo Python wheel file.\n",
    "  * Connect to a remote Wallaroo instance.  This instance is configured to use the standard Keycloak service.\n",
    "* Wallaroo SDK from remote JupyterHub Demonstration (Optional)\n",
    "  * The following steps are used to demonstrate using the Wallaroo SDK in a external from the Wallaroo instance JupyterHub or Jupyter Notebook environment.  The entire tutorial can be found on the [Wallaroo Tutorials repository](https://github.com/WallarooLabs/Wallaroo_Tutorials/tree/main/sdk-install-guides/standard-install).\n",
    "  * Create a workspace for our work.\n",
    "  * Upload the Aloha model.\n",
    "  * Create a pipeline that can ingest our submitted data, submit it to the model, and export the results\n",
    "  * Run a sample inference through our pipeline by loading a file\n",
    "  * Retrieve the external deployment URL.  This sample Wallaroo instance has been configured to create external inference URLs for pipelines.  For more information, see the [External Inference URL Guide](https://docs.wallaroo.aiwallaroo-operations-guide/wallaroo-configuration/wallaroo-model-endpoints-guide/).\n",
    "  * Run a sample inference through our pipeline's external URL and store the results in a file.  This assumes that the External Inference URLs have been enabled for the target Wallaroo instance.\n",
    "  * Undeploy the pipeline and return resources back to the Wallaroo instance's Kubernetes environment."
   ]
  },
  {
   "cell_type": "markdown",
   "metadata": {},
   "source": [
    "## Install Wallaroo SDK\n",
    "\n",
    "### Set Up Virtual Python Environment\n",
    "\n",
    "To set up the Python virtual environment for use of the Wallaroo SDK:\n",
    "\n",
    "1. Download the Wallaroo SDK Python wheel file `wallaroo-0.35.0-py-non-any.whl` to the system where the virtual environment will be established.\n",
    "1. From a terminal shell, create the Python virtual environment with `conda`.  Replace `wallaroosdk` with the name of the virtual environment as required by your organization.  Note that Python 3.8 is specified as a requirement for Python libraries used with the Wallaroo SDK.\n",
    "\n",
    "    ```bash\n",
    "    conda create -n wallaroosdk python=3.8\n",
    "    ```\n",
    "\n",
    "1. Activate the new environment.\n",
    "\n",
    "    ```bash\n",
    "    conda activate wallaroosdk\n",
    "    ```\n",
    "\n",
    "1. (Optional) For organizations who want to use the Wallaroo SDk from within Jupyter and similar environments:\n",
    "    1. Install the `ipykernel` library.  This allows the JupyterHub notebooks to access the Python virtual environment as a kernel, and it required for the second part of this tutorial.\n",
    "\n",
    "        ```bash\n",
    "        conda install ipykernel\n",
    "        ```\n",
    "    \n",
    "    1. Install the new virtual environment as a python kernel.\n",
    "\n",
    "        ```bash\n",
    "        ipython kernel install --user --name=wallaroosdk\n",
    "        ```\n",
    "    \n",
    "1. Install the Wallaroo SDK from the uploaded wheel file.  This process may take several minutes while the other required Python libraries are added to the virtual environment.\n",
    "\n",
    "    ```bash\n",
    "    pip install --user ./libraries/wallaroo-0.35.0-py3-none-any.whl\n",
    "    ```"
   ]
  },
  {
   "cell_type": "markdown",
   "metadata": {},
   "source": [
    "For organizations who will be using the Wallaroo SDK with Jupyter or similar services, the conda virtual environment has been installed, it can either be selected as a new Jupyter Notebook kernel, or the Notebook's kernel can be set to an existing Jupyter notebook.\n",
    "\n",
    "![](/images/wallaroo-developer-guides/wallaroo-sdk-guides/wallaroo-sdk-install-guides/wallaroo-select-kernel.png)\n",
    "\n",
    "To use a new Notebook:\n",
    "\n",
    "1. From the main menu, select **File->New-Notebook**.\n",
    "1. From the Kernel selection dropbox, select the new virtual environment - in this case, **wallaroosdk**.\n",
    "\n",
    "To update an existing Notebook to use the new virtual environment as a kernel:\n",
    "\n",
    "1. From the main menu, select **Kernel->Change Kernel**."
   ]
  },
  {
   "cell_type": "markdown",
   "metadata": {},
   "source": [
    "### "
   ]
  },
  {
   "cell_type": "markdown",
   "metadata": {},
   "source": [
    "## Sample Wallaroo Connection\n",
    "\n",
    "With the Wallaroo Python SDK installed, remote commands and inferences can be performed through the following steps.\n",
    "\n",
    "### Open a Connection to Wallaroo\n",
    "\n",
    "The first step is to connect to Wallaroo through the Wallaroo client.\n",
    "\n",
    "This is accomplished using the `wallaroo.Client(api_endpoint, auth_endpoint, auth_type command)` command that connects to the Wallaroo instance services.  For more information on the DNS names of Wallaroo services, see the [DNS Integration Guide](https://docs.wallaroo.ai/wallaroo-operations-guide/wallaroo-configuration/wallaroo-dns-guide/).\n",
    "\n",
    "The `Client` method takes the following parameters:\n",
    "\n",
    "* **api_endpoint** (*String*): The URL to the Wallaroo instance API service.\n",
    "* **auth_endpoint** (*String*): The URL to the Wallaroo instance Keycloak service.\n",
    "* **auth_type command** (*String*): The authorization type.  In this case, `SSO`.\n",
    "\n",
    "Once run, the `wallaroo.Client` command provides a URL to grant the SDK permission to your specific Wallaroo environment.  When displayed, enter the URL into a browser and confirm permissions.  Store the connection into a variable that can be referenced later."
   ]
  },
  {
   "cell_type": "code",
   "execution_count": 1,
   "metadata": {},
   "outputs": [],
   "source": [
    "import wallaroo\n",
    "from wallaroo.object import EntityNotFoundError"
   ]
  },
  {
   "cell_type": "code",
   "execution_count": 2,
   "metadata": {},
   "outputs": [
    {
     "name": "stdout",
     "output_type": "stream",
     "text": [
      "Please log into the following URL in a web browser:\n",
      "\n",
      "\thttps://magical-bear-3782.keycloak.wallaroo.community/auth/realms/master/device?user_code=GGRF-SRFX\n",
      "\n",
      "Login successful!\n"
     ]
    }
   ],
   "source": [
    "# SSO login through keycloak\n",
    "\n",
    "wl = wallaroo.Client(api_endpoint=\"https://magical-bear-3782.api.wallaroo.community\", \n",
    "                    auth_endpoint=\"https://magical-bear-3782.keycloak.wallaroo.community\", \n",
    "                    auth_type=\"sso\")"
   ]
  },
  {
   "cell_type": "markdown",
   "metadata": {},
   "source": [
    "## Wallaroo Remote SDK Examples\n",
    "\n",
    "The following examples can be used by an organization to test using the Wallaroo SDK from a remote location from their Wallaroo instance.  These examples show how to create workspaces, deploy pipelines, and perform inferences through the SDK and API."
   ]
  },
  {
   "cell_type": "markdown",
   "metadata": {},
   "source": [
    "### Create the Workspace\n",
    "\n",
    "We will create a workspace to work in and call it the `sdkworkspace`, then set it as current workspace environment.  We'll also create our pipeline in advance as `sdkpipeline`."
   ]
  },
  {
   "cell_type": "code",
   "execution_count": 3,
   "metadata": {},
   "outputs": [],
   "source": [
    "workspace_name = 'sdkworkspace'\n",
    "pipeline_name = 'sdkpipeline'\n",
    "model_name = 'sdkmodel'\n",
    "model_file_name = './aloha-cnn-lstm.zip'"
   ]
  },
  {
   "cell_type": "code",
   "execution_count": 4,
   "metadata": {},
   "outputs": [],
   "source": [
    "def get_workspace(name):\n",
    "    workspace = None\n",
    "    for ws in wl.list_workspaces():\n",
    "        if ws.name() == name:\n",
    "            workspace= ws\n",
    "    if(workspace == None):\n",
    "        workspace = wl.create_workspace(name)\n",
    "    return workspace\n",
    "\n",
    "def get_pipeline(name):\n",
    "    try:\n",
    "        pipeline = wl.pipelines_by_name(pipeline_name)[0]\n",
    "    except EntityNotFoundError:\n",
    "        pipeline = wl.build_pipeline(pipeline_name)\n",
    "    return pipeline"
   ]
  },
  {
   "cell_type": "code",
   "execution_count": 5,
   "metadata": {},
   "outputs": [
    {
     "data": {
      "text/html": [
       "<table><tr><th>name</th> <td>sdkpipeline</td></tr><tr><th>created</th> <td>2022-12-07 15:18:15.704015+00:00</td></tr><tr><th>last_updated</th> <td>2022-12-07 15:18:15.704015+00:00</td></tr><tr><th>deployed</th> <td>(none)</td></tr><tr><th>tags</th> <td></td></tr><tr><th>versions</th> <td>6736057c-e9e8-48d4-a657-158d10af1273</td></tr><tr><th>steps</th> <td></td></tr></table>"
      ],
      "text/plain": [
       "{'name': 'sdkpipeline', 'create_time': datetime.datetime(2022, 12, 7, 15, 18, 15, 704015, tzinfo=tzutc()), 'definition': '[]'}"
      ]
     },
     "execution_count": 5,
     "metadata": {},
     "output_type": "execute_result"
    }
   ],
   "source": [
    "workspace = get_workspace(workspace_name)\n",
    "\n",
    "wl.set_current_workspace(workspace)\n",
    "\n",
    "pipeline = get_pipeline(pipeline_name)\n",
    "pipeline"
   ]
  },
  {
   "cell_type": "markdown",
   "metadata": {},
   "source": [
    "We can verify the workspace is created the current default workspace with the `get_current_workspace()` command."
   ]
  },
  {
   "cell_type": "code",
   "execution_count": 6,
   "metadata": {},
   "outputs": [
    {
     "data": {
      "text/plain": [
       "{'name': 'sdkworkspace', 'id': 12, 'archived': False, 'created_by': '0bbf2f62-a4f1-4fe5-aad8-ec1cb7485939', 'created_at': '2022-12-07T15:18:14.569577+00:00', 'models': [], 'pipelines': [{'name': 'sdkpipeline', 'create_time': datetime.datetime(2022, 12, 7, 15, 18, 15, 704015, tzinfo=tzutc()), 'definition': '[]'}]}"
      ]
     },
     "execution_count": 6,
     "metadata": {},
     "output_type": "execute_result"
    }
   ],
   "source": [
    "wl.get_current_workspace()"
   ]
  },
  {
   "cell_type": "markdown",
   "metadata": {},
   "source": [
    "### Upload the Models\n",
    "\n",
    "Now we will upload our model.  Note that for this example we are applying the model from a .ZIP file.  The Aloha model is a [protobuf](https://developers.google.com/protocol-buffers) file that has been defined for evaluating web pages, and we will configure it to use data in the `tensorflow` format."
   ]
  },
  {
   "cell_type": "code",
   "execution_count": 7,
   "metadata": {},
   "outputs": [],
   "source": [
    "model = wl.upload_model(model_name, model_file_name).configure(\"tensorflow\")"
   ]
  },
  {
   "cell_type": "markdown",
   "metadata": {},
   "source": [
    "### Deploy a Model\n",
    "\n",
    "Now that we have a model that we want to use we will create a deployment for it. \n",
    "\n",
    "We will tell the deployment we are using a tensorflow model and give the deployment name and the configuration we want for the deployment.\n",
    "\n",
    "To do this, we'll create our pipeline that can ingest the data, pass the data to our Aloha model, and give us a final output.  We'll call our pipeline `externalsdkpipeline`, then deploy it so it's ready to receive data.  The deployment process usually takes about 45 seconds."
   ]
  },
  {
   "cell_type": "code",
   "execution_count": 8,
   "metadata": {},
   "outputs": [
    {
     "data": {
      "text/html": [
       "<table><tr><th>name</th> <td>sdkpipeline</td></tr><tr><th>created</th> <td>2022-12-07 15:18:15.704015+00:00</td></tr><tr><th>last_updated</th> <td>2022-12-07 15:18:15.704015+00:00</td></tr><tr><th>deployed</th> <td>(none)</td></tr><tr><th>tags</th> <td></td></tr><tr><th>versions</th> <td>6736057c-e9e8-48d4-a657-158d10af1273</td></tr><tr><th>steps</th> <td></td></tr></table>"
      ],
      "text/plain": [
       "{'name': 'sdkpipeline', 'create_time': datetime.datetime(2022, 12, 7, 15, 18, 15, 704015, tzinfo=tzutc()), 'definition': \"[{'ModelInference': {'models': [{'name': 'sdkmodel', 'version': 'fd1832a7-723d-4318-a0d7-c677b1956206', 'sha': '7c89707252ce389980d5348c37885d6d72af4c20cd303422e2de7e66dd7ff184'}]}}]\"}"
      ]
     },
     "execution_count": 8,
     "metadata": {},
     "output_type": "execute_result"
    }
   ],
   "source": [
    "pipeline.add_model_step(model)"
   ]
  },
  {
   "cell_type": "code",
   "execution_count": 9,
   "metadata": {},
   "outputs": [
    {
     "data": {
      "text/html": [
       "<table><tr><th>name</th> <td>sdkpipeline</td></tr><tr><th>created</th> <td>2022-12-07 15:18:15.704015+00:00</td></tr><tr><th>last_updated</th> <td>2022-12-07 15:18:20.882795+00:00</td></tr><tr><th>deployed</th> <td>True</td></tr><tr><th>tags</th> <td></td></tr><tr><th>versions</th> <td>af2526e0-1410-47bf-8475-9a2fa157212d, 6736057c-e9e8-48d4-a657-158d10af1273</td></tr><tr><th>steps</th> <td>sdkmodel</td></tr></table>"
      ],
      "text/plain": [
       "{'name': 'sdkpipeline', 'create_time': datetime.datetime(2022, 12, 7, 15, 18, 15, 704015, tzinfo=tzutc()), 'definition': \"[{'ModelInference': {'models': [{'name': 'sdkmodel', 'version': 'fd1832a7-723d-4318-a0d7-c677b1956206', 'sha': '7c89707252ce389980d5348c37885d6d72af4c20cd303422e2de7e66dd7ff184'}]}}]\"}"
      ]
     },
     "execution_count": 9,
     "metadata": {},
     "output_type": "execute_result"
    }
   ],
   "source": [
    "pipeline.deploy()"
   ]
  },
  {
   "cell_type": "markdown",
   "metadata": {},
   "source": [
    "We can verify that the pipeline is running and list what models are associated with it."
   ]
  },
  {
   "cell_type": "code",
   "execution_count": 10,
   "metadata": {},
   "outputs": [
    {
     "data": {
      "text/plain": [
       "{'status': 'Running',\n",
       " 'details': [],\n",
       " 'engines': [{'ip': '10.244.3.50',\n",
       "   'name': 'engine-7766467cdb-jj448',\n",
       "   'status': 'Running',\n",
       "   'reason': None,\n",
       "   'details': ['containers with unready status: [engine]',\n",
       "    'containers with unready status: [engine]'],\n",
       "   'pipeline_statuses': {'pipelines': [{'id': 'sdkpipeline',\n",
       "      'status': 'Running'}]},\n",
       "   'model_statuses': {'models': [{'name': 'sdkmodel',\n",
       "      'version': 'fd1832a7-723d-4318-a0d7-c677b1956206',\n",
       "      'sha': '7c89707252ce389980d5348c37885d6d72af4c20cd303422e2de7e66dd7ff184',\n",
       "      'status': 'Running'}]}}],\n",
       " 'engine_lbs': [{'ip': '10.244.2.6',\n",
       "   'name': 'engine-lb-c6485cfd5-h75v5',\n",
       "   'status': 'Running',\n",
       "   'reason': None,\n",
       "   'details': []}],\n",
       " 'sidekicks': []}"
      ]
     },
     "execution_count": 10,
     "metadata": {},
     "output_type": "execute_result"
    }
   ],
   "source": [
    "pipeline.status()"
   ]
  },
  {
   "cell_type": "markdown",
   "metadata": {},
   "source": [
    "## Interferences\n",
    "\n",
    "### Infer 1 row\n",
    "\n",
    "Now that the pipeline is deployed and our Aloha model is in place, we'll perform a smoke test to verify the pipeline is up and running properly.  We'll use the `infer_from_file` command to load a single encoded URL into the inference engine and print the results back out.\n",
    "\n",
    "The result should tell us that the tokenized URL is legitimate (0) or fraud (1).  This sample data should return close to 0."
   ]
  },
  {
   "cell_type": "code",
   "execution_count": 12,
   "metadata": {},
   "outputs": [],
   "source": [
    "result = pipeline.infer_from_file(\"./data-1.json\")\n"
   ]
  },
  {
   "cell_type": "code",
   "execution_count": 13,
   "metadata": {},
   "outputs": [
    {
     "data": {
      "text/plain": [
       "[array([[0.00151959]]),\n",
       " array([[0.98291481]]),\n",
       " array([[0.01209957]]),\n",
       " array([[4.75912966e-05]]),\n",
       " array([[2.02893716e-05]]),\n",
       " array([[0.00031977]]),\n",
       " array([[0.01102928]]),\n",
       " array([[0.99756402]]),\n",
       " array([[0.01034162]]),\n",
       " array([[0.00803896]]),\n",
       " array([[0.01615506]]),\n",
       " array([[0.00623623]]),\n",
       " array([[0.00099858]]),\n",
       " array([[1.79337805e-26]]),\n",
       " array([[1.38899512e-27]])]"
      ]
     },
     "execution_count": 13,
     "metadata": {},
     "output_type": "execute_result"
    }
   ],
   "source": [
    "result[0].data()"
   ]
  },
  {
   "cell_type": "markdown",
   "metadata": {},
   "source": [
    "### Batch Inference\n",
    "\n",
    "Now that our smoke test is successful, let's really give it some data.  We have two inference files we can use:\n",
    "\n",
    "* `data-1k.json`:  Contains 1,0000 inferences\n",
    "* `data-25k.json`: Contains 25,000 inferences\n",
    "\n",
    "We'll pipe the `data-25k.json` file through the `pipeline` deployment URL, and place the results in a file named `response.txt`.  We'll also display the time this takes.  Note that for larger batches of 50,000 inferences or more can be difficult to view in Juypter Hub because of its size.\n",
    "\n",
    "When retrieving the pipeline inference URL through an external SDK connection, the External Inference URL will be returned.  This URL will function provided that the **Enable external URL inference endpoints** is enabled.  For more information, see the [Wallaroo Documentation Site](https://docs.wallaroo.ai)."
   ]
  },
  {
   "cell_type": "code",
   "execution_count": 14,
   "metadata": {},
   "outputs": [
    {
     "data": {
      "text/plain": [
       "'https://magical-bear-3782.api.wallaroo.community/v1/api/pipelines/infer/sdkpipeline-14'"
      ]
     },
     "execution_count": 14,
     "metadata": {},
     "output_type": "execute_result"
    }
   ],
   "source": [
    "external_url = pipeline._deployment._url()\n",
    "external_url"
   ]
  },
  {
   "cell_type": "markdown",
   "metadata": {},
   "source": [
    "The API connection details can be retrieved through the Wallaroo client `mlops()` command.  This will display the connection URL, bearer token, and other information.  The bearer token is available for one hour before it expires.\n",
    "\n",
    "For this example, the API connection details will be retrieved, then used to submit an inference request through the external inference URL retrieved earlier."
   ]
  },
  {
   "cell_type": "code",
   "execution_count": 15,
   "metadata": {},
   "outputs": [
    {
     "data": {
      "text/plain": [
       "'eyJhbGciOiJSUzI1NiIsInR5cCIgOiAiSldUIiwia2lkIiA6ICJyb3dHSmdNdnlCODFyRFBzQURxc3RIM0hIbFdZdmdhMnluUmtGXzllSWhjIn0.eyJleHAiOjE2NzA0MjY0MDgsImlhdCI6MTY3MDQyNjM0OCwiYXV0aF90aW1lIjoxNjcwNDI2MjkyLCJqdGkiOiJiZDVkYTU0NS03MDMwLTRiZTktODRhOS00MDgyN2JjNjJhNTMiLCJpc3MiOiJodHRwczovL21hZ2ljYWwtYmVhci0zNzgyLmtleWNsb2FrLndhbGxhcm9vLmNvbW11bml0eS9hdXRoL3JlYWxtcy9tYXN0ZXIiLCJhdWQiOlsibWFzdGVyLXJlYWxtIiwiYWNjb3VudCJdLCJzdWIiOiIwYmJmMmY2Mi1hNGYxLTRmZTUtYWFkOC1lYzFjYjc0ODU5MzkiLCJ0eXAiOiJCZWFyZXIiLCJhenAiOiJzZGstY2xpZW50Iiwic2Vzc2lvbl9zdGF0ZSI6ImU0MTJkMDA0LTYyODMtNDZhNC05NDExLTYzMTFkOGI0ZDczZCIsImFjciI6IjEiLCJyZWFsbV9hY2Nlc3MiOnsicm9sZXMiOlsiY3JlYXRlLXJlYWxtIiwiZGVmYXVsdC1yb2xlcy1tYXN0ZXIiLCJvZmZsaW5lX2FjY2VzcyIsImFkbWluIiwidW1hX2F1dGhvcml6YXRpb24iXX0sInJlc291cmNlX2FjY2VzcyI6eyJtYXN0ZXItcmVhbG0iOnsicm9sZXMiOlsidmlldy1yZWFsbSIsInZpZXctaWRlbnRpdHktcHJvdmlkZXJzIiwibWFuYWdlLWlkZW50aXR5LXByb3ZpZGVycyIsImltcGVyc29uYXRpb24iLCJjcmVhdGUtY2xpZW50IiwibWFuYWdlLXVzZXJzIiwicXVlcnktcmVhbG1zIiwidmlldy1hdXRob3JpemF0aW9uIiwicXVlcnktY2xpZW50cyIsInF1ZXJ5LXVzZXJzIiwibWFuYWdlLWV2ZW50cyIsIm1hbmFnZS1yZWFsbSIsInZpZXctZXZlbnRzIiwidmlldy11c2VycyIsInZpZXctY2xpZW50cyIsIm1hbmFnZS1hdXRob3JpemF0aW9uIiwibWFuYWdlLWNsaWVudHMiLCJxdWVyeS1ncm91cHMiXX0sImFjY291bnQiOnsicm9sZXMiOlsibWFuYWdlLWFjY291bnQiLCJtYW5hZ2UtYWNjb3VudC1saW5rcyIsInZpZXctcHJvZmlsZSJdfX0sInNjb3BlIjoicHJvZmlsZSBlbWFpbCIsInNpZCI6ImU0MTJkMDA0LTYyODMtNDZhNC05NDExLTYzMTFkOGI0ZDczZCIsImVtYWlsX3ZlcmlmaWVkIjp0cnVlLCJodHRwczovL2hhc3VyYS5pby9qd3QvY2xhaW1zIjp7IngtaGFzdXJhLXVzZXItaWQiOiIwYmJmMmY2Mi1hNGYxLTRmZTUtYWFkOC1lYzFjYjc0ODU5MzkiLCJ4LWhhc3VyYS1kZWZhdWx0LXJvbGUiOiJ1c2VyIiwieC1oYXN1cmEtYWxsb3dlZC1yb2xlcyI6WyJ1c2VyIl0sIngtaGFzdXJhLXVzZXItZ3JvdXBzIjoie30ifSwicHJlZmVycmVkX3VzZXJuYW1lIjoiam9obi5oYW5zYXJpY2tAd2FsbGFyb28uYWkiLCJlbWFpbCI6ImpvaG4uaGFuc2FyaWNrQHdhbGxhcm9vLmFpIn0.gC4yOFYeUURmfFCTh88-TLDlm_ns38__lJUH7jP9SiZJafLAq6p2R5Fj-j-G62D9Ne2qiwwQoniOdLWrc9wkkA8JKMq890p-0Vq89VXsXQd-Ut9QdL7wIXNKMJjDshWNNJpcMRPLbXTnQytVXlNYLTSQPLWnqMtfQYYtq862FNVU7MfazApZGFsP8Z0LlHWyPpepR-q2o-_sBQd2qj35O7swT4lyvTTwVNqDgp8eJL2ZXqWk5vH4hXQjRinctiGj4W6WgS5-O78Gs-VtFVqYwMhY9GfjU9HN8R_IwIRlx3rc3hd9YEjARZzhwdlc-h9DCH3HKSaZQg28Us6-kFHbsQ'"
      ]
     },
     "execution_count": 15,
     "metadata": {},
     "output_type": "execute_result"
    }
   ],
   "source": [
    "connection =wl.mlops().__dict__\n",
    "token = connection['token']\n",
    "token"
   ]
  },
  {
   "cell_type": "code",
   "execution_count": 16,
   "metadata": {},
   "outputs": [
    {
     "name": "stdout",
     "output_type": "stream",
     "text": [
      "  % Total    % Received % Xferd  Average Speed   Time    Time     Time  Current\n",
      "                                 Dload  Upload   Total   Spent    Left  Speed\n",
      "100 13.0M  100 10.1M  100 2886k  1409k   389k  0:00:07  0:00:07 --:--:-- 2478k-  0:00:07  365k\n"
     ]
    }
   ],
   "source": [
    "!curl -X POST {external_url} -H \"Content-Type:application/json\" -H \"Authorization: Bearer {token}\" --data @data-25k.json > curl_response.txt"
   ]
  },
  {
   "cell_type": "markdown",
   "metadata": {},
   "source": [
    "## Undeploy Pipeline\n",
    "\n",
    "When finished with our tests, we will undeploy the pipeline so we have the Kubernetes resources back for other tasks.  Note that if the deployment variable is unchanged pipeline.deploy() will restart the inference engine in the same configuration as before."
   ]
  },
  {
   "cell_type": "code",
   "execution_count": 17,
   "metadata": {},
   "outputs": [
    {
     "data": {
      "text/html": [
       "<table><tr><th>name</th> <td>sdkpipeline</td></tr><tr><th>created</th> <td>2022-12-07 15:18:15.704015+00:00</td></tr><tr><th>last_updated</th> <td>2022-12-07 15:18:20.882795+00:00</td></tr><tr><th>deployed</th> <td>False</td></tr><tr><th>tags</th> <td></td></tr><tr><th>versions</th> <td>af2526e0-1410-47bf-8475-9a2fa157212d, 6736057c-e9e8-48d4-a657-158d10af1273</td></tr><tr><th>steps</th> <td>sdkmodel</td></tr></table>"
      ],
      "text/plain": [
       "{'name': 'sdkpipeline', 'create_time': datetime.datetime(2022, 12, 7, 15, 18, 15, 704015, tzinfo=tzutc()), 'definition': \"[{'ModelInference': {'models': [{'name': 'sdkmodel', 'version': 'fd1832a7-723d-4318-a0d7-c677b1956206', 'sha': '7c89707252ce389980d5348c37885d6d72af4c20cd303422e2de7e66dd7ff184'}]}}]\"}"
      ]
     },
     "execution_count": 17,
     "metadata": {},
     "output_type": "execute_result"
    }
   ],
   "source": [
    "pipeline.undeploy()"
   ]
  },
  {
   "cell_type": "code",
   "execution_count": null,
   "metadata": {},
   "outputs": [],
   "source": []
  }
 ],
 "metadata": {
  "environment": {
   "kernel": "wallaroosdk",
   "name": "common-cpu.m100",
   "type": "gcloud",
   "uri": "gcr.io/deeplearning-platform-release/base-cpu:m100"
  },
  "kernelspec": {
   "display_name": "Python 3.8.15 ('wallaroosdk')",
   "language": "python",
   "name": "python3"
  },
  "language_info": {
   "codemirror_mode": {
    "name": "ipython",
    "version": 3
   },
   "file_extension": ".py",
   "mimetype": "text/x-python",
   "name": "python",
   "nbconvert_exporter": "python",
   "pygments_lexer": "ipython3",
   "version": "3.8.15"
  },
  "vscode": {
   "interpreter": {
    "hash": "e951b583e3fbbcadfc15df61f9ed97fb9a76f59b2130f2cdf4d0033aa05e7e64"
   }
  }
 },
 "nbformat": 4,
 "nbformat_minor": 4
}
