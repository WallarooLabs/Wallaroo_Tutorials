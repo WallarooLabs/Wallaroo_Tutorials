{
 "cells": [
  {
   "cell_type": "markdown",
   "id": "8a6b7ac3",
   "metadata": {},
   "source": [
    "# Summarization (text) Pipeline Example"
   ]
  },
  {
   "cell_type": "markdown",
   "id": "1c33e888-28a8-48cc-b418-2d95ad206d98",
   "metadata": {},
   "source": [
    "## Imports"
   ]
  },
  {
   "cell_type": "code",
   "execution_count": 1,
   "id": "af8228fc-00ce-4770-a863-8985633605b3",
   "metadata": {},
   "outputs": [],
   "source": [
    "import json\n",
    "import os\n",
    "\n",
    "import wallaroo\n",
    "from wallaroo.pipeline   import Pipeline\n",
    "from wallaroo.deployment_config import DeploymentConfigBuilder\n",
    "from wallaroo.framework import Framework\n",
    "\n",
    "import pyarrow as pa\n",
    "import numpy as np\n",
    "import pandas as pd\n"
   ]
  },
  {
   "cell_type": "markdown",
   "id": "dabff59c",
   "metadata": {},
   "source": [
    "login"
   ]
  },
  {
   "cell_type": "code",
   "execution_count": 2,
   "id": "56ae7304",
   "metadata": {},
   "outputs": [
    {
     "name": "stdout",
     "output_type": "stream",
     "text": [
      "Please log into the following URL in a web browser:\n",
      "\n",
      "\thttps://doc-test.keycloak.wallaroocommunity.ninja/auth/realms/master/device?user_code=WVNJ-KUKM\n",
      "\n",
      "Login successful!\n"
     ]
    }
   ],
   "source": [
    "#wl = wallaroo.Client(auth_type=\"sso\", interactive=True)\n",
    "\n",
    "wallarooPrefix = \"doc-test.\"\n",
    "wallarooSuffix = \"wallaroocommunity.ninja\"\n",
    "\n",
    "wl = wallaroo.Client(api_endpoint=f\"https://{wallarooPrefix}api.{wallarooSuffix}\", \n",
    "                    auth_endpoint=f\"https://{wallarooPrefix}keycloak.{wallarooSuffix}\", \n",
    "                    auth_type=\"sso\")"
   ]
  },
  {
   "cell_type": "markdown",
   "id": "c4a6a089-7c58-4525-8af9-69552637d3d7",
   "metadata": {},
   "source": [
    "### Configure PyArrow Schema"
   ]
  },
  {
   "cell_type": "markdown",
   "id": "b08a8480-293f-405b-a58f-b8e852dbe2ad",
   "metadata": {},
   "source": [
    "You can find more info on the available inputs under [TextSummarizationInputs](https://github.com/WallarooLabs/platform/blob/main/conductor/model-auto-conversion/flavors/hugging-face/src/io/pipeline_inputs/text_summarization_inputs.py#L14) or under the [official source code](https://github.com/huggingface/transformers/blob/v4.28.1/src/transformers/pipelines/text2text_generation.py#L241) from `🤗 Hugging Face`."
   ]
  },
  {
   "cell_type": "code",
   "execution_count": 3,
   "id": "ef115ab9-9c73-4c28-aad8-e915a92a746b",
   "metadata": {},
   "outputs": [],
   "source": [
    "input_schema = pa.schema([\n",
    "    pa.field('inputs', pa.string()),\n",
    "    pa.field('return_text', pa.bool_()),\n",
    "    pa.field('return_tensors', pa.bool_()),\n",
    "    pa.field('clean_up_tokenization_spaces', pa.bool_()),\n",
    "    # pa.field('generate_kwargs', pa.map_(pa.string(), pa.null())), # dictionaries are not currently supported by the engine\n",
    "])\n",
    "\n",
    "output_schema = pa.schema([\n",
    "    pa.field('summary_text', pa.string()),\n",
    "])"
   ]
  },
  {
   "cell_type": "markdown",
   "id": "2e8b396e",
   "metadata": {},
   "source": [
    "### Get Model"
   ]
  },
  {
   "cell_type": "code",
   "execution_count": 5,
   "id": "3173ef82-80e7-4783-ab63-9aa097dd5edf",
   "metadata": {},
   "outputs": [
    {
     "name": "stdout",
     "output_type": "stream",
     "text": [
      "Waiting for model loading - this will take up to 10.0min.\n",
      "Model is pending loading to a container runtime..\n",
      "Model is attempting loading to a container runtime.....................successful\n",
      "\n",
      "Ready\n"
     ]
    },
    {
     "data": {
      "text/html": [
       "<table>\n",
       "        <tr>\n",
       "          <td>Name</td>\n",
       "          <td>hf-summarization-demoyns2</td>\n",
       "        </tr>\n",
       "        <tr>\n",
       "          <td>Version</td>\n",
       "          <td>48d72805-dbc0-42be-a4b9-4af0e11568bc</td>\n",
       "        </tr>\n",
       "        <tr>\n",
       "          <td>File Name</td>\n",
       "          <td>model-auto-conversion_hugging-face_complex-pipelines_hf-summarisation-bart-large-samsun.zip</td>\n",
       "        </tr>\n",
       "        <tr>\n",
       "          <td>SHA</td>\n",
       "          <td>ee71d066a83708e7ca4a3c07caf33fdc528bb000039b6ca2ef77fa2428dc6268</td>\n",
       "        </tr>\n",
       "        <tr>\n",
       "          <td>Status</td>\n",
       "          <td>ready</td>\n",
       "        </tr>\n",
       "        <tr>\n",
       "          <td>Image Path</td>\n",
       "          <td>proxy.replicated.com/proxy/wallaroo/ghcr.io/wallaroolabs/mlflow-deploy:v2023.3.0-main-3731</td>\n",
       "        </tr>\n",
       "        <tr>\n",
       "          <td>Updated At</td>\n",
       "          <td>2023-25-Aug 15:51:53</td>\n",
       "        </tr>\n",
       "      </table>"
      ],
      "text/plain": [
       "{'name': 'hf-summarization-demoyns2', 'version': '48d72805-dbc0-42be-a4b9-4af0e11568bc', 'file_name': 'model-auto-conversion_hugging-face_complex-pipelines_hf-summarisation-bart-large-samsun.zip', 'image_path': 'proxy.replicated.com/proxy/wallaroo/ghcr.io/wallaroolabs/mlflow-deploy:v2023.3.0-main-3731', 'last_update_time': datetime.datetime(2023, 8, 25, 15, 51, 53, 239165, tzinfo=tzutc())}"
      ]
     },
     "execution_count": 5,
     "metadata": {},
     "output_type": "execute_result"
    }
   ],
   "source": [
    "model = wl.upload_model('hf-summarization-demoyns2', \n",
    "                        'model-auto-conversion_hugging-face_complex-pipelines_hf-summarisation-bart-large-samsun.zip', \n",
    "                        framework=Framework.HUGGING_FACE_SUMMARIZATION, \n",
    "                        input_schema=input_schema, \n",
    "                        output_schema=output_schema\n",
    "                        )\n",
    "model"
   ]
  },
  {
   "cell_type": "code",
   "execution_count": 10,
   "id": "6dab12d0-ff93-42a6-8078-a3e767d2eba4",
   "metadata": {},
   "outputs": [],
   "source": [
    "# def get_model(mname):\n",
    "#     modellist = wl.get_current_workspace().models()\n",
    "#     model = [m.versions()[0] for m in modellist if m.name() == mname]\n",
    "#     if len(model) <= 0:\n",
    "#         raise KeyError(f\"model {mname} not found in this workspace\")\n",
    "#     return model[0]"
   ]
  },
  {
   "cell_type": "code",
   "execution_count": 11,
   "id": "953e0857-45ec-4603-b0be-3bba13df5db8",
   "metadata": {
    "tags": []
   },
   "outputs": [
    {
     "data": {
      "text/html": [
       "<table>\n",
       "        <tr>\n",
       "          <td>Name</td>\n",
       "          <td>hf-summarization-demoyns</td>\n",
       "        </tr>\n",
       "        <tr>\n",
       "          <td>Version</td>\n",
       "          <td>12ed6066-1708-42c1-906d-46e1c7673f36</td>\n",
       "        </tr>\n",
       "        <tr>\n",
       "          <td>File Name</td>\n",
       "          <td>hf-summarisation-bart-large-samsun.zip</td>\n",
       "        </tr>\n",
       "        <tr>\n",
       "          <td>SHA</td>\n",
       "          <td>ee71d066a83708e7ca4a3c07caf33fdc528bb000039b6ca2ef77fa2428dc6268</td>\n",
       "        </tr>\n",
       "        <tr>\n",
       "          <td>Status</td>\n",
       "          <td>error</td>\n",
       "        </tr>\n",
       "        <tr>\n",
       "          <td>Image Path</td>\n",
       "          <td>None</td>\n",
       "        </tr>\n",
       "        <tr>\n",
       "          <td>Updated At</td>\n",
       "          <td>2023-22-Aug 17:57:21</td>\n",
       "        </tr>\n",
       "      </table>"
      ],
      "text/plain": [
       "{'name': 'hf-summarization-demoyns', 'version': '12ed6066-1708-42c1-906d-46e1c7673f36', 'file_name': 'hf-summarisation-bart-large-samsun.zip', 'image_path': None, 'last_update_time': datetime.datetime(2023, 8, 22, 17, 57, 21, 858869, tzinfo=tzutc())}"
      ]
     },
     "execution_count": 11,
     "metadata": {},
     "output_type": "execute_result"
    }
   ],
   "source": [
    "# model = get_model('hf-summarization-demoyns')\n",
    "# model"
   ]
  },
  {
   "cell_type": "code",
   "execution_count": 13,
   "id": "c73d910f-bc58-4a06-8bb2-d555ab9a9aa7",
   "metadata": {},
   "outputs": [
    {
     "data": {
      "text/plain": [
       "'ready'"
      ]
     },
     "execution_count": 13,
     "metadata": {},
     "output_type": "execute_result"
    }
   ],
   "source": [
    "model.status()"
   ]
  },
  {
   "cell_type": "markdown",
   "id": "489878b9-69e1-4850-b420-b267f7f4be80",
   "metadata": {},
   "source": [
    "## Configure Model"
   ]
  },
  {
   "cell_type": "code",
   "execution_count": 13,
   "id": "8dd543a1-af61-43ac-8d8f-75b2a7420581",
   "metadata": {},
   "outputs": [
    {
     "data": {
      "text/html": [
       "<table>\n",
       "        <tr>\n",
       "          <td>Name</td>\n",
       "          <td>hf-summarization-demoyns</td>\n",
       "        </tr>\n",
       "        <tr>\n",
       "          <td>Version</td>\n",
       "          <td>12ed6066-1708-42c1-906d-46e1c7673f36</td>\n",
       "        </tr>\n",
       "        <tr>\n",
       "          <td>File Name</td>\n",
       "          <td>hf-summarisation-bart-large-samsun.zip</td>\n",
       "        </tr>\n",
       "        <tr>\n",
       "          <td>SHA</td>\n",
       "          <td>ee71d066a83708e7ca4a3c07caf33fdc528bb000039b6ca2ef77fa2428dc6268</td>\n",
       "        </tr>\n",
       "        <tr>\n",
       "          <td>Status</td>\n",
       "          <td>error</td>\n",
       "        </tr>\n",
       "        <tr>\n",
       "          <td>Image Path</td>\n",
       "          <td>None</td>\n",
       "        </tr>\n",
       "        <tr>\n",
       "          <td>Updated At</td>\n",
       "          <td>2023-22-Aug 17:57:21</td>\n",
       "        </tr>\n",
       "      </table>"
      ],
      "text/plain": [
       "{'name': 'hf-summarization-demoyns', 'version': '12ed6066-1708-42c1-906d-46e1c7673f36', 'file_name': 'hf-summarisation-bart-large-samsun.zip', 'image_path': None, 'last_update_time': datetime.datetime(2023, 8, 22, 17, 57, 21, 858869, tzinfo=tzutc())}"
      ]
     },
     "execution_count": 13,
     "metadata": {},
     "output_type": "execute_result"
    }
   ],
   "source": [
    "#model.configure(runtime=\"mlflow\", input_schema=input_schema, output_schema=output_schema)"
   ]
  },
  {
   "cell_type": "markdown",
   "id": "bdbb0930-8246-4731-84f9-eb1e0e1d9091",
   "metadata": {},
   "source": [
    "## Deploy Pipeline"
   ]
  },
  {
   "cell_type": "code",
   "execution_count": 14,
   "id": "c1ac85a4-1978-4fb9-91c4-a4d728ed04af",
   "metadata": {},
   "outputs": [],
   "source": [
    "deployment_config = DeploymentConfigBuilder() \\\n",
    "    .cpus(0.25).memory('1Gi') \\\n",
    "    .sidekick_cpus(model, 4) \\\n",
    "    .sidekick_memory(model, \"8Gi\") \\\n",
    "    .build()"
   ]
  },
  {
   "cell_type": "code",
   "execution_count": 15,
   "id": "1527954b-1a42-4014-9f02-171d30463b0b",
   "metadata": {},
   "outputs": [],
   "source": [
    "pipeline_name = \"hf-summarization-pipeline-edge\""
   ]
  },
  {
   "cell_type": "code",
   "execution_count": 16,
   "id": "ea455f46-6f8b-4d5f-a195-74634c0c886b",
   "metadata": {
    "tags": []
   },
   "outputs": [
    {
     "data": {
      "text/plain": [
       "{'status': 'Running',\n",
       " 'details': [],\n",
       " 'engines': [{'ip': '10.244.3.87',\n",
       "   'name': 'engine-845875546b-zdwxp',\n",
       "   'status': 'Running',\n",
       "   'reason': None,\n",
       "   'details': [],\n",
       "   'pipeline_statuses': {'pipelines': [{'id': 'hf-summarization-pipeline-edge',\n",
       "      'status': 'Running'}]},\n",
       "   'model_statuses': {'models': [{'name': 'hf-summarization-demoyns2',\n",
       "      'version': '48d72805-dbc0-42be-a4b9-4af0e11568bc',\n",
       "      'sha': 'ee71d066a83708e7ca4a3c07caf33fdc528bb000039b6ca2ef77fa2428dc6268',\n",
       "      'status': 'Running'}]}}],\n",
       " 'engine_lbs': [{'ip': '10.244.4.104',\n",
       "   'name': 'engine-lb-584f54c899-spzfs',\n",
       "   'status': 'Running',\n",
       "   'reason': None,\n",
       "   'details': []}],\n",
       " 'sidekicks': [{'ip': '10.244.3.88',\n",
       "   'name': 'engine-sidekick-hf-summarization-demoyns2-4-5fd489bb6d-x2v8b',\n",
       "   'status': 'Running',\n",
       "   'reason': None,\n",
       "   'details': [],\n",
       "   'statuses': '\\n'}]}"
      ]
     },
     "execution_count": 16,
     "metadata": {},
     "output_type": "execute_result"
    }
   ],
   "source": [
    "pipeline = wl.build_pipeline(pipeline_name)\n",
    "pipeline.add_model_step(model)\n",
    "\n",
    "pipeline.deploy(deployment_config=deployment_config)"
   ]
  },
  {
   "cell_type": "code",
   "execution_count": 17,
   "id": "96aaab25-1fa2-4576-adb5-bf9352de6432",
   "metadata": {},
   "outputs": [
    {
     "data": {
      "text/plain": [
       "{'status': 'Running',\n",
       " 'details': [],\n",
       " 'engines': [{'ip': '10.244.3.87',\n",
       "   'name': 'engine-845875546b-zdwxp',\n",
       "   'status': 'Running',\n",
       "   'reason': None,\n",
       "   'details': [],\n",
       "   'pipeline_statuses': {'pipelines': [{'id': 'hf-summarization-pipeline-edge',\n",
       "      'status': 'Running'}]},\n",
       "   'model_statuses': {'models': [{'name': 'hf-summarization-demoyns2',\n",
       "      'version': '48d72805-dbc0-42be-a4b9-4af0e11568bc',\n",
       "      'sha': 'ee71d066a83708e7ca4a3c07caf33fdc528bb000039b6ca2ef77fa2428dc6268',\n",
       "      'status': 'Running'}]}}],\n",
       " 'engine_lbs': [{'ip': '10.244.4.104',\n",
       "   'name': 'engine-lb-584f54c899-spzfs',\n",
       "   'status': 'Running',\n",
       "   'reason': None,\n",
       "   'details': []}],\n",
       " 'sidekicks': [{'ip': '10.244.3.88',\n",
       "   'name': 'engine-sidekick-hf-summarization-demoyns2-4-5fd489bb6d-x2v8b',\n",
       "   'status': 'Running',\n",
       "   'reason': None,\n",
       "   'details': [],\n",
       "   'statuses': '\\n'}]}"
      ]
     },
     "execution_count": 17,
     "metadata": {},
     "output_type": "execute_result"
    }
   ],
   "source": [
    "pipeline.status()"
   ]
  },
  {
   "cell_type": "code",
   "execution_count": 35,
   "id": "c5420216-1c4c-46fe-94a3-70d60ff2fab6",
   "metadata": {},
   "outputs": [
    {
     "data": {
      "text/html": [
       "<table><tr><th>name</th> <td>hf-summarization-pipeline-ynstest</td></tr><tr><th>created</th> <td>2023-08-22 17:37:02.588226+00:00</td></tr><tr><th>last_updated</th> <td>2023-08-23 01:45:08.347653+00:00</td></tr><tr><th>deployed</th> <td>False</td></tr><tr><th>tags</th> <td></td></tr><tr><th>versions</th> <td>1d15fa20-47f3-40a4-8c85-101eda0639db, daf4209c-b789-4519-a541-1ff586ef428b, 63033389-d2f4-4b7c-8da6-926e52e2560f, 5dc8db1a-f722-4dc5-aba9-60c5fd0ec8a9, 11802776-e2c7-48b7-8f9c-13c118d3d16e, 51f88106-c710-41ac-8d19-c317da3f92b4, 34b633ab-bfe4-4c61-97d1-eeeefb94f33a, 684f985c-05c3-4b5d-bc28-7ade9ba60ac6, 82612dbb-eae7-49a4-b6b9-175e53ec4cc9</td></tr><tr><th>steps</th> <td>hf-summarization-demo</td></tr><tr><th>published</th> <td>True</td></tr></table>"
      ],
      "text/plain": [
       "{'name': 'hf-summarization-pipeline-ynstest', 'create_time': datetime.datetime(2023, 8, 22, 17, 37, 2, 588226, tzinfo=tzutc()), 'definition': '[]'}"
      ]
     },
     "execution_count": 35,
     "metadata": {},
     "output_type": "execute_result"
    }
   ],
   "source": [
    "# pipeline=wl.pipelines_by_name(pipeline_name)[0]\n",
    "# pipeline"
   ]
  },
  {
   "cell_type": "code",
   "execution_count": 18,
   "id": "ea05b884-a46e-418b-bf20-167f3a627000",
   "metadata": {},
   "outputs": [
    {
     "name": "stdout",
     "output_type": "stream",
     "text": [
      "Waiting for pipeline publish... It may take up to 600 sec.\n",
      "Pipeline is Publishing........Published.\n"
     ]
    },
    {
     "data": {
      "text/html": [
       "\n",
       "          <table>\n",
       "              <tr><td>ID</td><td>4</td></tr>\n",
       "              <tr><td>Pipeline Version</td><td>c8d94cce-b237-4d03-bef4-eca89d8d5c88</td></tr>\n",
       "              <tr><td>Status</td><td>Published</td></tr>\n",
       "              <tr><td>Engine URL</td><td><a href='https://ghcr.io/wallaroolabs/doc-samples/engine:v2023.3.0-main-3731'>ghcr.io/wallaroolabs/doc-samples/engine:v2023.3.0-main-3731</a></td></tr>\n",
       "              <tr><td>Pipeline URL</td><td><a href='https://ghcr.io/wallaroolabs/doc-samples/pipelines/hf-summarization-pipeline-edge:c8d94cce-b237-4d03-bef4-eca89d8d5c88'>ghcr.io/wallaroolabs/doc-samples/pipelines/hf-summarization-pipeline-edge:c8d94cce-b237-4d03-bef4-eca89d8d5c88</a></td></tr>\n",
       "              <tr><td>Helm Chart URL</td><td><a href='https://ghcr.io/wallaroolabs/doc-samples/charts/hf-summarization-pipeline-edge'>ghcr.io/wallaroolabs/doc-samples/charts/hf-summarization-pipeline-edge</a></td></tr>\n",
       "              <tr><td>Helm Chart Reference</td><td>ghcr.io/wallaroolabs/doc-samples/charts@sha256:f69f767dab856c6507ad8686e5f8fdf3e4b3698181735bdd8b7a3601cb5a3e2a</td></tr>\n",
       "              <tr><td>Helm Chart Version</td><td>0.0.1-c8d94cce-b237-4d03-bef4-eca89d8d5c88</td></tr>\n",
       "              <tr><td>Engine Config</td><td>{'engine': {'resources': {'limits': {'cpu': 0.25, 'memory': '1Gi'}, 'requests': {'cpu': 0.25, 'memory': '1Gi'}}}, 'engineAux': {'images': {'hf-summarization-demoyns2-4': {'resources': {'limits': {'cpu': 4.0, 'memory': '8Gi'}, 'requests': {'cpu': 4.0, 'memory': '8Gi'}}}}}, 'enginelb': {}}</td></tr>\n",
       "              <tr><td>Created By</td><td>john.hummel@wallaroo.ai</td></tr>\n",
       "              <tr><td>Created At</td><td>2023-08-25 16:24:05.335543+00:00</td></tr>\n",
       "              <tr><td>Updated At</td><td>2023-08-25 16:24:05.335543+00:00</td></tr>\n",
       "          </table>\n",
       "        "
      ],
      "text/plain": [
       "PipelinePublish(created_at=datetime.datetime(2023, 8, 25, 16, 24, 5, 335543, tzinfo=tzutc()), engine_config={'engine': {'resources': {'limits': {'cpu': 0.25, 'memory': '1Gi'}, 'requests': {'cpu': 0.25, 'memory': '1Gi'}}}, 'engineAux': {'images': {'hf-summarization-demoyns2-4': {'resources': {'limits': {'cpu': 4.0, 'memory': '8Gi'}, 'requests': {'cpu': 4.0, 'memory': '8Gi'}}}}}, 'enginelb': {}}, id=4, pipeline_version_id=12, status='Published', updated_at=datetime.datetime(2023, 8, 25, 16, 24, 5, 335543, tzinfo=tzutc()), created_by='db364f8c-b866-4865-96b7-0b65662cb384', engine_url='ghcr.io/wallaroolabs/doc-samples/engine:v2023.3.0-main-3731', helm={'reference': 'ghcr.io/wallaroolabs/doc-samples/charts@sha256:f69f767dab856c6507ad8686e5f8fdf3e4b3698181735bdd8b7a3601cb5a3e2a', 'chart': 'ghcr.io/wallaroolabs/doc-samples/charts/hf-summarization-pipeline-edge', 'version': '0.0.1-c8d94cce-b237-4d03-bef4-eca89d8d5c88'}, pipeline_url='ghcr.io/wallaroolabs/doc-samples/pipelines/hf-summarization-pipeline-edge:c8d94cce-b237-4d03-bef4-eca89d8d5c88', pipeline_version_name='c8d94cce-b237-4d03-bef4-eca89d8d5c88', additional_properties={})"
      ]
     },
     "execution_count": 18,
     "metadata": {},
     "output_type": "execute_result"
    }
   ],
   "source": [
    "## This may still show an error status despite but if both containers show running it should be good to go\n",
    "pipeline.publish(deployment_config)"
   ]
  },
  {
   "cell_type": "markdown",
   "id": "8f305561-adc4-4362-9b83-547815a73fa5",
   "metadata": {
    "toc-hr-collapsed": true
   },
   "source": [
    "## Run inference"
   ]
  },
  {
   "cell_type": "code",
   "execution_count": 31,
   "id": "063afee0-c19a-4a20-842e-b462ad3960c7",
   "metadata": {},
   "outputs": [
    {
     "data": {
      "text/html": [
       "<div>\n",
       "<style scoped>\n",
       "    .dataframe tbody tr th:only-of-type {\n",
       "        vertical-align: middle;\n",
       "    }\n",
       "\n",
       "    .dataframe tbody tr th {\n",
       "        vertical-align: top;\n",
       "    }\n",
       "\n",
       "    .dataframe thead th {\n",
       "        text-align: right;\n",
       "    }\n",
       "</style>\n",
       "<table border=\"1\" class=\"dataframe\">\n",
       "  <thead>\n",
       "    <tr style=\"text-align: right;\">\n",
       "      <th></th>\n",
       "      <th>inputs</th>\n",
       "      <th>return_text</th>\n",
       "      <th>return_tensors</th>\n",
       "      <th>clean_up_tokenization_spaces</th>\n",
       "    </tr>\n",
       "  </thead>\n",
       "  <tbody>\n",
       "    <tr>\n",
       "      <th>0</th>\n",
       "      <td>LinkedIn (/lɪŋktˈɪn/) is a business and employ...</td>\n",
       "      <td>True</td>\n",
       "      <td>False</td>\n",
       "      <td>False</td>\n",
       "    </tr>\n",
       "  </tbody>\n",
       "</table>\n",
       "</div>"
      ],
      "text/plain": [
       "                                              inputs  return_text  \\\n",
       "0  LinkedIn (/lɪŋktˈɪn/) is a business and employ...         True   \n",
       "\n",
       "   return_tensors  clean_up_tokenization_spaces  \n",
       "0           False                         False  "
      ]
     },
     "execution_count": 31,
     "metadata": {},
     "output_type": "execute_result"
    }
   ],
   "source": [
    "input_data = {\n",
    "        \"inputs\": [\"LinkedIn (/lɪŋktˈɪn/) is a business and employment-focused social media platform that works through websites and mobile apps. It launched on May 5, 2003. It is now owned by Microsoft. The platform is primarily used for professional networking and career development, and allows jobseekers to post their CVs and employers to post jobs. From 2015 most of the company's revenue came from selling access to information about its members to recruiters and sales professionals. Since December 2016, it has been a wholly owned subsidiary of Microsoft. As of March 2023, LinkedIn has more than 900 million registered members from over 200 countries and territories. LinkedIn allows members (both workers and employers) to create profiles and connect with each other in an online social network which may represent real-world professional relationships. Members can invite anyone (whether an existing member or not) to become a connection. LinkedIn can also be used to organize offline events, join groups, write articles, publish job postings, post photos and videos, and more\"], # required\n",
    "        \"return_text\": [True], # optional: using the defaults, similar to not passing this parameter\n",
    "        \"return_tensors\": [False], # optional: using the defaults, similar to not passing this parameter\n",
    "        \"clean_up_tokenization_spaces\": [False], # optional: using the defaults, similar to not passing this parameter\n",
    "}\n",
    "dataframe = pd.DataFrame(input_data)\n",
    "dataframe"
   ]
  },
  {
   "cell_type": "code",
   "execution_count": 32,
   "id": "27ae92a6",
   "metadata": {},
   "outputs": [],
   "source": [
    "dataframe.to_json('./data/test_summarization.df.json', orient=\"records\")"
   ]
  },
  {
   "cell_type": "code",
   "execution_count": 20,
   "id": "fa078ffd-859e-4706-8729-9e7d78f8bf60",
   "metadata": {},
   "outputs": [
    {
     "data": {
      "text/html": [
       "<div>\n",
       "<style scoped>\n",
       "    .dataframe tbody tr th:only-of-type {\n",
       "        vertical-align: middle;\n",
       "    }\n",
       "\n",
       "    .dataframe tbody tr th {\n",
       "        vertical-align: top;\n",
       "    }\n",
       "\n",
       "    .dataframe thead th {\n",
       "        text-align: right;\n",
       "    }\n",
       "</style>\n",
       "<table border=\"1\" class=\"dataframe\">\n",
       "  <thead>\n",
       "    <tr style=\"text-align: right;\">\n",
       "      <th></th>\n",
       "      <th>time</th>\n",
       "      <th>in.clean_up_tokenization_spaces</th>\n",
       "      <th>in.inputs</th>\n",
       "      <th>in.return_tensors</th>\n",
       "      <th>in.return_text</th>\n",
       "      <th>out.summary_text</th>\n",
       "      <th>check_failures</th>\n",
       "    </tr>\n",
       "  </thead>\n",
       "  <tbody>\n",
       "    <tr>\n",
       "      <th>0</th>\n",
       "      <td>2023-08-25 16:35:18.658</td>\n",
       "      <td>False</td>\n",
       "      <td>LinkedIn (/lɪŋktˈɪn/) is a business and employ...</td>\n",
       "      <td>False</td>\n",
       "      <td>True</td>\n",
       "      <td>LinkedIn is a business and employment-focused ...</td>\n",
       "      <td>0</td>\n",
       "    </tr>\n",
       "  </tbody>\n",
       "</table>\n",
       "</div>"
      ],
      "text/plain": [
       "                     time  in.clean_up_tokenization_spaces  \\\n",
       "0 2023-08-25 16:35:18.658                            False   \n",
       "\n",
       "                                           in.inputs  in.return_tensors  \\\n",
       "0  LinkedIn (/lɪŋktˈɪn/) is a business and employ...              False   \n",
       "\n",
       "   in.return_text                                   out.summary_text  \\\n",
       "0            True  LinkedIn is a business and employment-focused ...   \n",
       "\n",
       "   check_failures  \n",
       "0               0  "
      ]
     },
     "execution_count": 20,
     "metadata": {},
     "output_type": "execute_result"
    }
   ],
   "source": [
    "# Adjust timeout as needed, started liberally with a 10 min timeout\n",
    "out = pipeline.infer(dataframe, timeout=600)\n",
    "out"
   ]
  },
  {
   "cell_type": "code",
   "execution_count": 21,
   "id": "9e6709b9-e846-47a6-a086-f9eb7b657f48",
   "metadata": {},
   "outputs": [
    {
     "data": {
      "text/html": [
       "<div>\n",
       "<style scoped>\n",
       "    .dataframe tbody tr th:only-of-type {\n",
       "        vertical-align: middle;\n",
       "    }\n",
       "\n",
       "    .dataframe tbody tr th {\n",
       "        vertical-align: top;\n",
       "    }\n",
       "\n",
       "    .dataframe thead th {\n",
       "        text-align: right;\n",
       "    }\n",
       "</style>\n",
       "<table border=\"1\" class=\"dataframe\">\n",
       "  <thead>\n",
       "    <tr style=\"text-align: right;\">\n",
       "      <th></th>\n",
       "      <th>time</th>\n",
       "      <th>in.clean_up_tokenization_spaces</th>\n",
       "      <th>in.inputs</th>\n",
       "      <th>in.return_tensors</th>\n",
       "      <th>in.return_text</th>\n",
       "      <th>out.summary_text</th>\n",
       "      <th>check_failures</th>\n",
       "    </tr>\n",
       "  </thead>\n",
       "  <tbody>\n",
       "    <tr>\n",
       "      <th>0</th>\n",
       "      <td>2023-08-24 18:01:19.372</td>\n",
       "      <td>False</td>\n",
       "      <td>LinkedIn (/lɪŋktˈɪn/) is a business and employ...</td>\n",
       "      <td>False</td>\n",
       "      <td>True</td>\n",
       "      <td>LinkedIn is a business and employment-focused ...</td>\n",
       "      <td>0</td>\n",
       "    </tr>\n",
       "  </tbody>\n",
       "</table>\n",
       "</div>"
      ],
      "text/plain": [
       "                     time  in.clean_up_tokenization_spaces  \\\n",
       "0 2023-08-24 18:01:19.372                            False   \n",
       "\n",
       "                                           in.inputs  in.return_tensors  \\\n",
       "0  LinkedIn (/lɪŋktˈɪn/) is a business and employ...              False   \n",
       "\n",
       "   in.return_text                                   out.summary_text  \\\n",
       "0            True  LinkedIn is a business and employment-focused ...   \n",
       "\n",
       "   check_failures  \n",
       "0               0  "
      ]
     },
     "execution_count": 21,
     "metadata": {},
     "output_type": "execute_result"
    }
   ],
   "source": [
    "out = pipeline.infer_from_file('test_summarization.json', timeout=600)\n",
    "out"
   ]
  },
  {
   "cell_type": "code",
   "execution_count": 21,
   "id": "af628bea-8a5a-4b7e-8c24-dfed150332d7",
   "metadata": {},
   "outputs": [
    {
     "data": {
      "text/plain": [
       "'LinkedIn is a business and employment-focused social media platform that works through websites and mobile apps. It launched on May 5, 2003. LinkedIn allows members (both workers and employers) to create profiles and connect with each other in an online social network which may represent real-world professional relationships.'"
      ]
     },
     "execution_count": 21,
     "metadata": {},
     "output_type": "execute_result"
    }
   ],
   "source": [
    "out[\"out.summary_text\"][0]"
   ]
  },
  {
   "cell_type": "markdown",
   "id": "10efccd7-fd4a-4628-907c-e5d84397ea1c",
   "metadata": {},
   "source": [
    "## Undeploy Pipeline"
   ]
  },
  {
   "cell_type": "code",
   "execution_count": 22,
   "id": "31ad18bb-bc94-49e9-a0e0-c23dda71b3c2",
   "metadata": {},
   "outputs": [
    {
     "data": {
      "text/html": [
       "<table><tr><th>name</th> <td>hf-summarization-pipeline-edge</td></tr><tr><th>created</th> <td>2023-08-25 15:52:02.329988+00:00</td></tr><tr><th>last_updated</th> <td>2023-08-25 16:24:04.045981+00:00</td></tr><tr><th>deployed</th> <td>False</td></tr><tr><th>tags</th> <td></td></tr><tr><th>versions</th> <td>c8d94cce-b237-4d03-bef4-eca89d8d5c88, c7a067bc-997b-47c2-89c7-29ddd507cf7d, c1164da4-e044-49d3-a079-2c6c6a8cdc3f, 28176ea4-5717-4c60-b9c0-91a695bfb78d, 2d55d49d-45d6-4d88-9c6b-a3225a2ba565, 55760fa6-3919-4790-93a2-121be29d1962</td></tr><tr><th>steps</th> <td>hf-summarization-demoyns2</td></tr><tr><th>published</th> <td>True</td></tr></table>"
      ],
      "text/plain": [
       "{'name': 'hf-summarization-pipeline-edge', 'create_time': datetime.datetime(2023, 8, 25, 15, 52, 2, 329988, tzinfo=tzutc()), 'definition': \"[{'ModelInference': {'models': [{'name': 'hf-summarization-demoyns2', 'version': '48d72805-dbc0-42be-a4b9-4af0e11568bc', 'sha': 'ee71d066a83708e7ca4a3c07caf33fdc528bb000039b6ca2ef77fa2428dc6268'}]}}]\"}"
      ]
     },
     "execution_count": 22,
     "metadata": {},
     "output_type": "execute_result"
    }
   ],
   "source": [
    "pipeline.undeploy()"
   ]
  },
  {
   "cell_type": "markdown",
   "id": "f55f8d2a-9182-4040-a61c-77a643907657",
   "metadata": {},
   "source": [
    "### Edge: Publish pipeline "
   ]
  },
  {
   "cell_type": "code",
   "execution_count": 23,
   "id": "c682c9a7-a42c-4d41-ad58-3e597ac288cb",
   "metadata": {},
   "outputs": [
    {
     "data": {
      "text/plain": [
       "'http://engine-lb.hf-summarization-pipeline-edge-6:29502/pipelines/hf-summarization-pipeline-edge'"
      ]
     },
     "execution_count": 23,
     "metadata": {},
     "output_type": "execute_result"
    }
   ],
   "source": [
    "pipeline.url()"
   ]
  },
  {
   "cell_type": "code",
   "execution_count": 31,
   "id": "21b3a869-6370-4cb9-abb1-01b9df12d555",
   "metadata": {},
   "outputs": [
    {
     "name": "stdout",
     "output_type": "stream",
     "text": [
      "[{\"time\":1692900759318,\"in\":{\"clean_up_tokenization_spaces\":[false],\"inputs\":[\"LinkedIn (/lɪŋktˈɪn/) is a business and employment-focused social media platform that works through websites and mobile apps. It launched on May 5, 2003. It is now owned by Microsoft. The platform is primarily used for professional networking and career development, and allows jobseekers to post their CVs and employers to post jobs. From 2015 most of the company's revenue came from selling access to information about its members to recruiters and sales professionals. Since December 2016, it has been a wholly owned subsidiary of Microsoft. As of March 2023, LinkedIn has more than 900 million registered members from over 200 countries and territories. LinkedIn allows members (both workers and employers) to create profiles and connect with each other in an online social network which may represent real-world professional relationships. Members can invite anyone (whether an existing member or not) to become a connection. LinkedIn can also be used to organize offline events, join groups, write articles, publish job postings, post photos and videos, and more\"],\"return_tensors\":[false],\"return_text\":[true]},\"out\":{\"summary_text\":\"LinkedIn is a business and employment-focused social media platform that works through websites and mobile apps. It launched on May 5, 2003. LinkedIn allows members (both workers and employers) to create profiles and connect with each other in an online social network which may represent real-world professional relationships.\"},\"check_failures\":[],\"metadata\":{\"last_model\":\"{\\\"model_name\\\":\\\"hf-summarization-demoyns2\\\",\\\"model_sha\\\":\\\"ee71d066a83708e7ca4a3c07caf33fdc528bb000039b6ca2ef77fa2428dc6268\\\"}\",\"pipeline_version\":\"b20ac9da-b64d-4aef-9686-4acf254d9c00\",\"elapsed\":[65100,3907644314],\"dropped\":[]}}]"
     ]
    }
   ],
   "source": [
    "!curl -X POST http://testboy.hf-summarization-pipeline-edge-6:8080/pipelines/hf-summarization-pipeline-edge -H \"Content-Type: application/json; format=pandas-records\" -d @test_summarization.json"
   ]
  },
  {
   "cell_type": "code",
   "execution_count": 24,
   "id": "dd047f61-bc28-4836-aefc-cc727f55dddd",
   "metadata": {},
   "outputs": [
    {
     "name": "stdout",
     "output_type": "stream",
     "text": [
      "curl: (7) Failed to connect to testboy.local port 80 after 23 ms: Couldn't connect to server\n"
     ]
    }
   ],
   "source": [
    "!curl http://testboy.local/pipelines"
   ]
  },
  {
   "cell_type": "code",
   "execution_count": 36,
   "id": "66e92baa",
   "metadata": {},
   "outputs": [
    {
     "data": {
      "text/plain": [
       "'LinkedIn is a business and employment-focused social media platform that works through websites and mobile apps. It launched on May 5, 2003. LinkedIn allows members (both workers and employers) to create profiles and connect with each other in an online social network which may represent real-world professional relationships.'"
      ]
     },
     "metadata": {},
     "output_type": "display_data"
    }
   ],
   "source": [
    "import json\n",
    "import requests\n",
    "\n",
    "# set the content type and accept headers\n",
    "headers = {\n",
    "    'Content-Type': 'application/json; format=pandas-records'\n",
    "}\n",
    "\n",
    "# Submit arrow file\n",
    "dataFile=\"./data/test_summarization.df.json\"\n",
    "\n",
    "data = json.load(open(dataFile))\n",
    "\n",
    "host = 'http://testboy.local:8080'\n",
    "\n",
    "deployurl = f'{host}/pipelines/hf-summarization-pipeline-edge'\n",
    "\n",
    "response = requests.post(\n",
    "                    deployurl, \n",
    "                    headers=headers, \n",
    "                    json=data, \n",
    "                    verify=True\n",
    "                )\n",
    "\n",
    "# display(response)\n",
    "display(response.json()[0]['outputs'][0]['String']['data'][0])\n"
   ]
  }
 ],
 "metadata": {
  "kernelspec": {
   "display_name": "Python 3 (ipykernel)",
   "language": "python",
   "name": "python3"
  },
  "language_info": {
   "codemirror_mode": {
    "name": "ipython",
    "version": 3
   },
   "file_extension": ".py",
   "mimetype": "text/x-python",
   "name": "python",
   "nbconvert_exporter": "python",
   "pygments_lexer": "ipython3",
   "version": "3.8.17"
  }
 },
 "nbformat": 4,
 "nbformat_minor": 5
}
