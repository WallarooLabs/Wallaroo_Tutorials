{
 "cells": [
  {
   "cell_type": "markdown",
   "id": "8a6b7ac3",
   "metadata": {},
   "source": [
    "The following tutorial is available on the [Wallaroo Github Repository](https://github.com/WallarooLabs/Wallaroo_Tutorials/blob/2023.3.0-updates/pipeline-edge-publish/edge-llm-summarization).\n",
    "\n",
    "## Summarization Text Edge Deployment Demonstration\n",
    "\n",
    "This notebook will walk through building a summarization text pipeline in Wallaroo, deploying it to the local cluster for testing, and then publishing it for edge deployment.\n",
    "\n",
    "This demonstration will focus on deployment to the edge.  The sample model is available at the following URL.  This model should be downloaded and placed into the `./models` folder before beginning this demonstration.\n",
    "\n",
    "[model-auto-conversion_hugging-face_complex-pipelines_hf-summarisation-bart-large-samsun.zip (1.4 GB)](https://storage.googleapis.com/wallaroo-public-data/llm-models/model-auto-conversion_hugging-face_complex-pipelines_hf-summarisation-bart-large-samsun.zip)\n",
    "\n",
    "This demonstration will perform the following:\n",
    "\n",
    "1. As a Data Scientist:\n",
    "    1. Upload a computer vision model to Wallaroo, deploy it in a Wallaroo pipeline, then perform a sample inference.\n",
    "    1. Publish the pipeline to an Open Container Initiative (OCI) Registry service.  This is configured in the Wallaroo instance.  See [Edge Deployment Registry Guide](https://staging.docs.wallaroo.ai/wallaroo-operations-guide/wallaroo-configuration/wallaroo-edge-deployment/) for details on adding an OCI Registry Service to Wallaroo as the Edge Deployment Registry.\n",
    "    1. View the pipeline publish details.\n",
    "1. As a DevOps Engineer:\n",
    "    1. Deploy the published pipeline into an edge instance.  This example will use Docker.\n",
    "    1. Perform a sample inference into the deployed pipeline with the same data used in the data scientist example."
   ]
  },
  {
   "cell_type": "markdown",
   "id": "1c33e888-28a8-48cc-b418-2d95ad206d98",
   "metadata": {},
   "source": [
    "## Data Scientist Pipeline Publish Steps\n",
    "\n",
    "### Load Libraries\n",
    "\n",
    "The first step is to import the libraries used in this notebook."
   ]
  },
  {
   "cell_type": "code",
   "execution_count": 1,
   "id": "af8228fc-00ce-4770-a863-8985633605b3",
   "metadata": {},
   "outputs": [],
   "source": [
    "import wallaroo\n",
    "from wallaroo.object import EntityNotFoundError\n",
    "\n",
    "import pyarrow as pa\n",
    "import pandas as pd\n",
    "\n",
    "# used to display dataframe information without truncating\n",
    "from IPython.display import display\n",
    "pd.set_option('display.max_colwidth', None)"
   ]
  },
  {
   "cell_type": "markdown",
   "id": "dabff59c",
   "metadata": {},
   "source": [
    "### Connect to the Wallaroo Instance through the User Interface\n",
    "\n",
    "The next step is to connect to Wallaroo through the Wallaroo client.  The Python library is included in the Wallaroo install and available through the Jupyter Hub interface provided with your Wallaroo environment.\n",
    "\n",
    "This is accomplished using the `wallaroo.Client()` command, which provides a URL to grant the SDK permission to your specific Wallaroo environment.  When displayed, enter the URL into a browser and confirm permissions.  Store the connection into a variable that can be referenced later.\n",
    "\n",
    "If logging into the Wallaroo instance through the internal JupyterHub service, use `wl = wallaroo.Client()`.  For more information on Wallaroo Client settings, see the [Client Connection guide](https://docs.wallaroo.ai/wallaroo-developer-guides/wallaroo-sdk-guides/wallaroo-sdk-essentials-guide/wallaroo-sdk-essentials-client/)."
   ]
  },
  {
   "cell_type": "code",
   "execution_count": 2,
   "id": "56ae7304",
   "metadata": {},
   "outputs": [],
   "source": [
    "wl = wallaroo.Client()\n",
    "\n",
    "wallarooPrefix = \"doc-test.\"\n",
    "wallarooSuffix = \"wallaroocommunity.ninja\"\n",
    "\n",
    "wl = wallaroo.Client(api_endpoint=f\"https://{wallarooPrefix}api.{wallarooSuffix}\", \n",
    "                    auth_endpoint=f\"https://{wallarooPrefix}keycloak.{wallarooSuffix}\", \n",
    "                    auth_type=\"sso\")"
   ]
  },
  {
   "cell_type": "markdown",
   "id": "8ba23ebf",
   "metadata": {},
   "source": [
    "### Create a New Workspace\n",
    "\n",
    "We'll use the SDK below to create our workspace , assign as our **current workspace**, then display all of the workspaces we have at the moment.  We'll also set up variables for our models and pipelines down the road, so we have one spot to change names to whatever fits your organization's standards best.\n",
    "\n",
    "To allow this tutorial to be run by multiple users in the same Wallaroo instance, a random 4 character prefix will be added to the workspace, pipeline, and model.  Feel free to set `suffix=''` if this is not required."
   ]
  },
  {
   "cell_type": "code",
   "execution_count": 3,
   "id": "5ef4d235",
   "metadata": {},
   "outputs": [],
   "source": [
    "import string\n",
    "import random\n",
    "\n",
    "# make a random 4 character prefix\n",
    "suffix= ''.join(random.choice(string.ascii_lowercase) for i in range(4))\n",
    "\n",
    "suffix=''\n",
    "\n",
    "workspace_name = f'edge-hf-summarization{suffix}'\n",
    "pipeline_name = 'edge-hf-summarization'\n",
    "model_name = 'hf-summarization'\n",
    "model_file_name = './models/model-auto-conversion_hugging-face_complex-pipelines_hf-summarisation-bart-large-samsun.zip'"
   ]
  },
  {
   "cell_type": "code",
   "execution_count": 4,
   "id": "ebf193e4",
   "metadata": {},
   "outputs": [],
   "source": [
    "def get_workspace(name):\n",
    "    workspace = None\n",
    "    for ws in wl.list_workspaces():\n",
    "        if ws.name() == name:\n",
    "            workspace= ws\n",
    "    if(workspace == None):\n",
    "        workspace = wl.create_workspace(name)\n",
    "    return workspace\n",
    "\n",
    "def get_pipeline(name):\n",
    "    try:\n",
    "        pipeline = wl.pipelines_by_name(name)[0]\n",
    "    except EntityNotFoundError:\n",
    "        pipeline = wl.build_pipeline(name)\n",
    "    return pipeline"
   ]
  },
  {
   "cell_type": "code",
   "execution_count": 5,
   "id": "a3b7b495",
   "metadata": {},
   "outputs": [
    {
     "data": {
      "text/plain": [
       "{'name': 'edge-hf-summarization', 'id': 8, 'archived': False, 'created_by': 'db364f8c-b866-4865-96b7-0b65662cb384', 'created_at': '2023-08-25T18:43:02.41099+00:00', 'models': [], 'pipelines': []}"
      ]
     },
     "execution_count": 5,
     "metadata": {},
     "output_type": "execute_result"
    }
   ],
   "source": [
    "workspace = get_workspace(workspace_name)\n",
    "\n",
    "wl.set_current_workspace(workspace)"
   ]
  },
  {
   "cell_type": "markdown",
   "id": "b08a8480-293f-405b-a58f-b8e852dbe2ad",
   "metadata": {},
   "source": [
    "### Configure PyArrow Schema\n",
    "\n",
    "This is required for non-native runtimes for models deployed to Wallaroo.\n",
    "\n",
    "You can find more info on the available inputs under [TextSummarizationInputs](https://github.com/WallarooLabs/platform/blob/main/conductor/model-auto-conversion/flavors/hugging-face/src/io/pipeline_inputs/text_summarization_inputs.py#L14) or under the [official source code](https://github.com/huggingface/transformers/blob/v4.28.1/src/transformers/pipelines/text2text_generation.py#L241) from `🤗 Hugging Face`."
   ]
  },
  {
   "cell_type": "code",
   "execution_count": 6,
   "id": "ef115ab9-9c73-4c28-aad8-e915a92a746b",
   "metadata": {},
   "outputs": [],
   "source": [
    "input_schema = pa.schema([\n",
    "    pa.field('inputs', pa.string()),\n",
    "    pa.field('return_text', pa.bool_()),\n",
    "    pa.field('return_tensors', pa.bool_()),\n",
    "    pa.field('clean_up_tokenization_spaces', pa.bool_()),\n",
    "    # pa.field('generate_kwargs', pa.map_(pa.string(), pa.null())), # dictionaries are not currently supported by the engine\n",
    "])\n",
    "\n",
    "output_schema = pa.schema([\n",
    "    pa.field('summary_text', pa.string()),\n",
    "])"
   ]
  },
  {
   "cell_type": "markdown",
   "id": "2e8b396e",
   "metadata": {},
   "source": [
    "### Upload the Model\n",
    "\n",
    "When a model is uploaded to a Wallaroo cluster, it is optimized and packaged to make it ready to run as part of a pipeline. In many times, the Wallaroo Server can natively run a model without any Python overhead. In other cases, such as a Python script, a custom Python environment will be automatically generated. This is comparable to the process of \"containerizing\" a model by adding a small HTTP server and other wrapping around it.\n",
    "\n",
    "Our pretrained model is in HuggingFace format, which is specified in the `framework` parameter.  The input and output schemas are included as part of the model upload.  For more information, see [Wallaroo SDK Essentials Guide: Model Uploads and Registrations: Hugging Face](https://docs.wallaroo.ai/wallaroo-developer-guides/wallaroo-sdk-guides/wallaroo-sdk-essentials-guide/wallaroo-sdk-model-uploads/wallaroo-sdk-model-upload-hugging-face/)."
   ]
  },
  {
   "cell_type": "code",
   "execution_count": 7,
   "id": "3173ef82-80e7-4783-ab63-9aa097dd5edf",
   "metadata": {},
   "outputs": [
    {
     "name": "stdout",
     "output_type": "stream",
     "text": [
      "Waiting for model loading - this will take up to 10.0min.\n",
      "Model is pending loading to a container runtime..\n",
      "Model is attempting loading to a container runtime...................successful\n",
      "\n",
      "Ready\n"
     ]
    },
    {
     "data": {
      "text/html": [
       "<table>\n",
       "        <tr>\n",
       "          <td>Name</td>\n",
       "          <td>hf-summarization</td>\n",
       "        </tr>\n",
       "        <tr>\n",
       "          <td>Version</td>\n",
       "          <td>88025146-7eae-4299-a8e2-f30cf6bef103</td>\n",
       "        </tr>\n",
       "        <tr>\n",
       "          <td>File Name</td>\n",
       "          <td>model-auto-conversion_hugging-face_complex-pipelines_hf-summarisation-bart-large-samsun.zip</td>\n",
       "        </tr>\n",
       "        <tr>\n",
       "          <td>SHA</td>\n",
       "          <td>ee71d066a83708e7ca4a3c07caf33fdc528bb000039b6ca2ef77fa2428dc6268</td>\n",
       "        </tr>\n",
       "        <tr>\n",
       "          <td>Status</td>\n",
       "          <td>ready</td>\n",
       "        </tr>\n",
       "        <tr>\n",
       "          <td>Image Path</td>\n",
       "          <td>proxy.replicated.com/proxy/wallaroo/ghcr.io/wallaroolabs/mlflow-deploy:v2023.3.0-main-3731</td>\n",
       "        </tr>\n",
       "        <tr>\n",
       "          <td>Updated At</td>\n",
       "          <td>2023-25-Aug 18:51:29</td>\n",
       "        </tr>\n",
       "      </table>"
      ],
      "text/plain": [
       "{'name': 'hf-summarization', 'version': '88025146-7eae-4299-a8e2-f30cf6bef103', 'file_name': 'model-auto-conversion_hugging-face_complex-pipelines_hf-summarisation-bart-large-samsun.zip', 'image_path': 'proxy.replicated.com/proxy/wallaroo/ghcr.io/wallaroolabs/mlflow-deploy:v2023.3.0-main-3731', 'last_update_time': datetime.datetime(2023, 8, 25, 18, 51, 29, 186055, tzinfo=tzutc())}"
      ]
     },
     "execution_count": 7,
     "metadata": {},
     "output_type": "execute_result"
    }
   ],
   "source": [
    "model = wl.upload_model(model_name, \n",
    "                        model_file_name, \n",
    "                        framework=wallaroo.framework.Framework.HUGGING_FACE_SUMMARIZATION, \n",
    "                        input_schema=input_schema, \n",
    "                        output_schema=output_schema\n",
    "                        )\n",
    "model"
   ]
  },
  {
   "cell_type": "markdown",
   "id": "bdbb0930-8246-4731-84f9-eb1e0e1d9091",
   "metadata": {},
   "source": [
    "### Reserve Pipeline Resources\n",
    "\n",
    "Before deploying an inference engine we need to tell wallaroo what resources it will need.\n",
    "To do this we will use the wallaroo DeploymentConfigBuilder() and fill in the options listed below to determine what the properties of our inference engine will be.\n",
    "\n",
    "We will be testing this deployment for an edge scenario, so the resource specifications are kept small -- what's the minimum needed to meet the expected load on the planned hardware.\n",
    "\n",
    "- cpus - 8 => allow the engine to use 8 CPU cores when running the neural net\n",
    "- memory - 8Gi => each inference engine will have 8 GB of memory, which is plenty for processing a single image at a time."
   ]
  },
  {
   "cell_type": "code",
   "execution_count": 9,
   "id": "c1ac85a4-1978-4fb9-91c4-a4d728ed04af",
   "metadata": {},
   "outputs": [],
   "source": [
    "deployment_config = wallaroo.DeploymentConfigBuilder() \\\n",
    "    .cpus(0.25).memory('1Gi') \\\n",
    "    .sidekick_cpus(model, 4) \\\n",
    "    .sidekick_memory(model, \"8Gi\") \\\n",
    "    .build()"
   ]
  },
  {
   "cell_type": "markdown",
   "id": "03673e03",
   "metadata": {},
   "source": [
    "### Simulated Edge Deployment\n",
    "\n",
    "We will now deploy our pipeline into the current Kubernetes environment using the specified resource constraints. This is a \"simulated edge\" deploy in that we try to mimic the edge hardware as closely as possible.\n"
   ]
  },
  {
   "cell_type": "code",
   "execution_count": 10,
   "id": "ea455f46-6f8b-4d5f-a195-74634c0c886b",
   "metadata": {
    "tags": []
   },
   "outputs": [
    {
     "data": {
      "text/html": [
       "<table><tr><th>name</th> <td>edge-hf-summarization</td></tr><tr><th>created</th> <td>2023-08-25 18:53:19.465175+00:00</td></tr><tr><th>last_updated</th> <td>2023-08-25 18:53:20.194327+00:00</td></tr><tr><th>deployed</th> <td>True</td></tr><tr><th>tags</th> <td></td></tr><tr><th>versions</th> <td>ad77bf95-36c9-4669-9fca-69163f5de601, e0ad32af-21e4-42bd-9eb1-273532cf4f15</td></tr><tr><th>steps</th> <td>hf-summarization</td></tr><tr><th>published</th> <td>False</td></tr></table>"
      ],
      "text/plain": [
       "{'name': 'edge-hf-summarization', 'create_time': datetime.datetime(2023, 8, 25, 18, 53, 19, 465175, tzinfo=tzutc()), 'definition': \"[{'ModelInference': {'models': [{'name': 'hf-summarization', 'version': '88025146-7eae-4299-a8e2-f30cf6bef103', 'sha': 'ee71d066a83708e7ca4a3c07caf33fdc528bb000039b6ca2ef77fa2428dc6268'}]}}]\"}"
      ]
     },
     "execution_count": 10,
     "metadata": {},
     "output_type": "execute_result"
    }
   ],
   "source": [
    "pipeline = wl.build_pipeline(pipeline_name)\n",
    "pipeline.add_model_step(model)\n",
    "\n",
    "pipeline.deploy(deployment_config=deployment_config)"
   ]
  },
  {
   "cell_type": "code",
   "execution_count": 11,
   "id": "96aaab25-1fa2-4576-adb5-bf9352de6432",
   "metadata": {},
   "outputs": [
    {
     "data": {
      "text/plain": [
       "{'status': 'Running',\n",
       " 'details': [],\n",
       " 'engines': [{'ip': '10.244.3.90',\n",
       "   'name': 'engine-56f478fd4d-kngpb',\n",
       "   'status': 'Running',\n",
       "   'reason': None,\n",
       "   'details': [],\n",
       "   'pipeline_statuses': {'pipelines': [{'id': 'edge-hf-summarization',\n",
       "      'status': 'Running'}]},\n",
       "   'model_statuses': {'models': [{'name': 'hf-summarization',\n",
       "      'version': '88025146-7eae-4299-a8e2-f30cf6bef103',\n",
       "      'sha': 'ee71d066a83708e7ca4a3c07caf33fdc528bb000039b6ca2ef77fa2428dc6268',\n",
       "      'status': 'Running'}]}}],\n",
       " 'engine_lbs': [{'ip': '10.244.4.105',\n",
       "   'name': 'engine-lb-584f54c899-9qmw9',\n",
       "   'status': 'Running',\n",
       "   'reason': None,\n",
       "   'details': []}],\n",
       " 'sidekicks': [{'ip': '10.244.3.89',\n",
       "   'name': 'engine-sidekick-hf-summarization-5-b6bc5994f-7wpdn',\n",
       "   'status': 'Running',\n",
       "   'reason': None,\n",
       "   'details': [],\n",
       "   'statuses': '\\n'}]}"
      ]
     },
     "execution_count": 11,
     "metadata": {},
     "output_type": "execute_result"
    }
   ],
   "source": [
    "pipeline.status()"
   ]
  },
  {
   "cell_type": "markdown",
   "id": "8f305561-adc4-4362-9b83-547815a73fa5",
   "metadata": {
    "toc-hr-collapsed": true
   },
   "source": [
    "### Run Sample Inference\n",
    "\n",
    "A single inference using sample input data is prepared below.  We'll run through it to verify the pipeline inference is working."
   ]
  },
  {
   "cell_type": "code",
   "execution_count": 12,
   "id": "063afee0-c19a-4a20-842e-b462ad3960c7",
   "metadata": {},
   "outputs": [
    {
     "data": {
      "text/html": [
       "<div>\n",
       "<style scoped>\n",
       "    .dataframe tbody tr th:only-of-type {\n",
       "        vertical-align: middle;\n",
       "    }\n",
       "\n",
       "    .dataframe tbody tr th {\n",
       "        vertical-align: top;\n",
       "    }\n",
       "\n",
       "    .dataframe thead th {\n",
       "        text-align: right;\n",
       "    }\n",
       "</style>\n",
       "<table border=\"1\" class=\"dataframe\">\n",
       "  <thead>\n",
       "    <tr style=\"text-align: right;\">\n",
       "      <th></th>\n",
       "      <th>inputs</th>\n",
       "      <th>return_text</th>\n",
       "      <th>return_tensors</th>\n",
       "      <th>clean_up_tokenization_spaces</th>\n",
       "    </tr>\n",
       "  </thead>\n",
       "  <tbody>\n",
       "    <tr>\n",
       "      <th>0</th>\n",
       "      <td>LinkedIn (/lɪŋktˈɪn/) is a business and employment-focused social media platform that works through websites and mobile apps. It launched on May 5, 2003. It is now owned by Microsoft. The platform is primarily used for professional networking and career development, and allows jobseekers to post their CVs and employers to post jobs. From 2015 most of the company's revenue came from selling access to information about its members to recruiters and sales professionals. Since December 2016, it has been a wholly owned subsidiary of Microsoft. As of March 2023, LinkedIn has more than 900 million registered members from over 200 countries and territories. LinkedIn allows members (both workers and employers) to create profiles and connect with each other in an online social network which may represent real-world professional relationships. Members can invite anyone (whether an existing member or not) to become a connection. LinkedIn can also be used to organize offline events, join groups, write articles, publish job postings, post photos and videos, and more</td>\n",
       "      <td>True</td>\n",
       "      <td>False</td>\n",
       "      <td>False</td>\n",
       "    </tr>\n",
       "  </tbody>\n",
       "</table>\n",
       "</div>"
      ],
      "text/plain": [
       "                                                                                                                                                                                                                                                                                                                                                                                                                                                                                                                                                                                                                                                                                                                                                                                                                                                                                                                                                                                                                                                                                                         inputs  \\\n",
       "0  LinkedIn (/lɪŋktˈɪn/) is a business and employment-focused social media platform that works through websites and mobile apps. It launched on May 5, 2003. It is now owned by Microsoft. The platform is primarily used for professional networking and career development, and allows jobseekers to post their CVs and employers to post jobs. From 2015 most of the company's revenue came from selling access to information about its members to recruiters and sales professionals. Since December 2016, it has been a wholly owned subsidiary of Microsoft. As of March 2023, LinkedIn has more than 900 million registered members from over 200 countries and territories. LinkedIn allows members (both workers and employers) to create profiles and connect with each other in an online social network which may represent real-world professional relationships. Members can invite anyone (whether an existing member or not) to become a connection. LinkedIn can also be used to organize offline events, join groups, write articles, publish job postings, post photos and videos, and more   \n",
       "\n",
       "   return_text  return_tensors  clean_up_tokenization_spaces  \n",
       "0         True           False                         False  "
      ]
     },
     "execution_count": 12,
     "metadata": {},
     "output_type": "execute_result"
    }
   ],
   "source": [
    "input_data = {\n",
    "        \"inputs\": [\"LinkedIn (/lɪŋktˈɪn/) is a business and employment-focused social media platform that works through websites and mobile apps. It launched on May 5, 2003. It is now owned by Microsoft. The platform is primarily used for professional networking and career development, and allows jobseekers to post their CVs and employers to post jobs. From 2015 most of the company's revenue came from selling access to information about its members to recruiters and sales professionals. Since December 2016, it has been a wholly owned subsidiary of Microsoft. As of March 2023, LinkedIn has more than 900 million registered members from over 200 countries and territories. LinkedIn allows members (both workers and employers) to create profiles and connect with each other in an online social network which may represent real-world professional relationships. Members can invite anyone (whether an existing member or not) to become a connection. LinkedIn can also be used to organize offline events, join groups, write articles, publish job postings, post photos and videos, and more\"], # required\n",
    "        \"return_text\": [True], # optional: using the defaults, similar to not passing this parameter\n",
    "        \"return_tensors\": [False], # optional: using the defaults, similar to not passing this parameter\n",
    "        \"clean_up_tokenization_spaces\": [False], # optional: using the defaults, similar to not passing this parameter\n",
    "}\n",
    "dataframe = pd.DataFrame(input_data)\n",
    "dataframe"
   ]
  },
  {
   "cell_type": "code",
   "execution_count": 13,
   "id": "fa078ffd-859e-4706-8729-9e7d78f8bf60",
   "metadata": {},
   "outputs": [
    {
     "data": {
      "text/html": [
       "<div>\n",
       "<style scoped>\n",
       "    .dataframe tbody tr th:only-of-type {\n",
       "        vertical-align: middle;\n",
       "    }\n",
       "\n",
       "    .dataframe tbody tr th {\n",
       "        vertical-align: top;\n",
       "    }\n",
       "\n",
       "    .dataframe thead th {\n",
       "        text-align: right;\n",
       "    }\n",
       "</style>\n",
       "<table border=\"1\" class=\"dataframe\">\n",
       "  <thead>\n",
       "    <tr style=\"text-align: right;\">\n",
       "      <th></th>\n",
       "      <th>time</th>\n",
       "      <th>in.clean_up_tokenization_spaces</th>\n",
       "      <th>in.inputs</th>\n",
       "      <th>in.return_tensors</th>\n",
       "      <th>in.return_text</th>\n",
       "      <th>out.summary_text</th>\n",
       "      <th>check_failures</th>\n",
       "    </tr>\n",
       "  </thead>\n",
       "  <tbody>\n",
       "    <tr>\n",
       "      <th>0</th>\n",
       "      <td>2023-08-25 18:54:01.406</td>\n",
       "      <td>False</td>\n",
       "      <td>LinkedIn (/lɪŋktˈɪn/) is a business and employment-focused social media platform that works through websites and mobile apps. It launched on May 5, 2003. It is now owned by Microsoft. The platform is primarily used for professional networking and career development, and allows jobseekers to post their CVs and employers to post jobs. From 2015 most of the company's revenue came from selling access to information about its members to recruiters and sales professionals. Since December 2016, it has been a wholly owned subsidiary of Microsoft. As of March 2023, LinkedIn has more than 900 million registered members from over 200 countries and territories. LinkedIn allows members (both workers and employers) to create profiles and connect with each other in an online social network which may represent real-world professional relationships. Members can invite anyone (whether an existing member or not) to become a connection. LinkedIn can also be used to organize offline events, join groups, write articles, publish job postings, post photos and videos, and more</td>\n",
       "      <td>False</td>\n",
       "      <td>True</td>\n",
       "      <td>LinkedIn is a business and employment-focused social media platform that works through websites and mobile apps. It launched on May 5, 2003. LinkedIn allows members (both workers and employers) to create profiles and connect with each other in an online social network which may represent real-world professional relationships.</td>\n",
       "      <td>0</td>\n",
       "    </tr>\n",
       "  </tbody>\n",
       "</table>\n",
       "</div>"
      ],
      "text/plain": [
       "                     time  in.clean_up_tokenization_spaces  \\\n",
       "0 2023-08-25 18:54:01.406                            False   \n",
       "\n",
       "                                                                                                                                                                                                                                                                                                                                                                                                                                                                                                                                                                                                                                                                                                                                                                                                                                                                                                                                                                                                                                                                                                      in.inputs  \\\n",
       "0  LinkedIn (/lɪŋktˈɪn/) is a business and employment-focused social media platform that works through websites and mobile apps. It launched on May 5, 2003. It is now owned by Microsoft. The platform is primarily used for professional networking and career development, and allows jobseekers to post their CVs and employers to post jobs. From 2015 most of the company's revenue came from selling access to information about its members to recruiters and sales professionals. Since December 2016, it has been a wholly owned subsidiary of Microsoft. As of March 2023, LinkedIn has more than 900 million registered members from over 200 countries and territories. LinkedIn allows members (both workers and employers) to create profiles and connect with each other in an online social network which may represent real-world professional relationships. Members can invite anyone (whether an existing member or not) to become a connection. LinkedIn can also be used to organize offline events, join groups, write articles, publish job postings, post photos and videos, and more   \n",
       "\n",
       "   in.return_tensors  in.return_text  \\\n",
       "0              False            True   \n",
       "\n",
       "                                                                                                                                                                                                                                                                                                                          out.summary_text  \\\n",
       "0  LinkedIn is a business and employment-focused social media platform that works through websites and mobile apps. It launched on May 5, 2003. LinkedIn allows members (both workers and employers) to create profiles and connect with each other in an online social network which may represent real-world professional relationships.   \n",
       "\n",
       "   check_failures  \n",
       "0               0  "
      ]
     },
     "execution_count": 13,
     "metadata": {},
     "output_type": "execute_result"
    }
   ],
   "source": [
    "# Adjust timeout as needed, started liberally with a 10 min timeout\n",
    "out = pipeline.infer(dataframe, timeout=600)\n",
    "out"
   ]
  },
  {
   "cell_type": "code",
   "execution_count": 14,
   "id": "af628bea-8a5a-4b7e-8c24-dfed150332d7",
   "metadata": {},
   "outputs": [
    {
     "data": {
      "text/plain": [
       "'LinkedIn is a business and employment-focused social media platform that works through websites and mobile apps. It launched on May 5, 2003. LinkedIn allows members (both workers and employers) to create profiles and connect with each other in an online social network which may represent real-world professional relationships.'"
      ]
     },
     "execution_count": 14,
     "metadata": {},
     "output_type": "execute_result"
    }
   ],
   "source": [
    "out[\"out.summary_text\"][0]"
   ]
  },
  {
   "cell_type": "markdown",
   "id": "10efccd7-fd4a-4628-907c-e5d84397ea1c",
   "metadata": {},
   "source": [
    "### Undeploy the Pipeline\n",
    "\n",
    "Just to clear up resources, we'll undeploy the pipeline."
   ]
  },
  {
   "cell_type": "code",
   "execution_count": 15,
   "id": "31ad18bb-bc94-49e9-a0e0-c23dda71b3c2",
   "metadata": {},
   "outputs": [
    {
     "data": {
      "text/html": [
       "<table><tr><th>name</th> <td>edge-hf-summarization</td></tr><tr><th>created</th> <td>2023-08-25 18:53:19.465175+00:00</td></tr><tr><th>last_updated</th> <td>2023-08-25 18:53:20.194327+00:00</td></tr><tr><th>deployed</th> <td>False</td></tr><tr><th>tags</th> <td></td></tr><tr><th>versions</th> <td>ad77bf95-36c9-4669-9fca-69163f5de601, e0ad32af-21e4-42bd-9eb1-273532cf4f15</td></tr><tr><th>steps</th> <td>hf-summarization</td></tr><tr><th>published</th> <td>False</td></tr></table>"
      ],
      "text/plain": [
       "{'name': 'edge-hf-summarization', 'create_time': datetime.datetime(2023, 8, 25, 18, 53, 19, 465175, tzinfo=tzutc()), 'definition': \"[{'ModelInference': {'models': [{'name': 'hf-summarization', 'version': '88025146-7eae-4299-a8e2-f30cf6bef103', 'sha': 'ee71d066a83708e7ca4a3c07caf33fdc528bb000039b6ca2ef77fa2428dc6268'}]}}]\"}"
      ]
     },
     "execution_count": 15,
     "metadata": {},
     "output_type": "execute_result"
    }
   ],
   "source": [
    "pipeline.undeploy()"
   ]
  },
  {
   "cell_type": "markdown",
   "id": "f55f8d2a-9182-4040-a61c-77a643907657",
   "metadata": {},
   "source": [
    "### Publish the Pipeline for Edge Deployment\n",
    "\n",
    "It worked! For a demo, we'll take working once as \"tested\". So now that we've tested our pipeline, we are ready to publish it for edge deployment.\n",
    "\n",
    "Publishing it means assembling all of the configuration files and model assets and pushing them to an Open Container Initiative (OCI) repository set in the Wallaroo instance as the Edge Registry service.  DevOps engineers then retrieve that image and deploy it through Docker, Kubernetes, or similar deployments.\n",
    "\n",
    "See [Edge Deployment Registry Guide](https://staging.docs.wallaroo.ai/wallaroo-operations-guide/wallaroo-configuration/wallaroo-edge-deployment/) for details on adding an OCI Registry Service to Wallaroo as the Edge Deployment Registry.\n",
    "\n",
    "This is done through the SDK command `wallaroo.pipeline.publish(deployment_config)` which has the following parameters and returns.\n",
    "\n",
    "#### Publish a Pipeline Parameters\n",
    "\n",
    "The `publish` method takes the following parameters.  The containerized pipeline will be pushed to the Edge registry service with the model, pipeline configurations, and other artifacts needed to deploy the pipeline.\n",
    "\n",
    "| Parameter | Type | Description |\n",
    "|---|---|---|\n",
    "| `deployment_config` | `wallaroo.deployment_config.DeploymentConfig` (*Optional*) | Sets the pipeline deployment configuration.  For example:    For more information on pipeline deployment configuration, see the [Wallaroo SDK Essentials Guide: Pipeline Deployment Configuration]({{<ref \"wallaroo-sdk-essentials-pipeline-deployment-config\">}}).\n",
    "\n",
    "#### Publish a Pipeline Returns\n",
    "\n",
    "| Field | Type | Description |\n",
    "|---|---|---|\n",
    "| id | integer | Numerical Wallaroo id of the published pipeline. |\n",
    "| pipeline version id | integer | Numerical Wallaroo id of the pipeline version published. |\n",
    "| status | string | The status of the pipeline publication.  Values include:  <ul><li>PendingPublish: The pipeline publication is about to be uploaded or is in the process of being uploaded.</li><li>Published:  The pipeline is published and ready for use.</li></ul> |\n",
    "| Engine URL | string | The URL of the published pipeline engine in the edge registry. |\n",
    "| Pipeline URL | string | The URL of the published pipeline in the edge registry. |\n",
    "| Helm Chart URL | string | The URL of the helm chart for the published pipeline in the edge registry. |\n",
    "| Helm Chart Reference | string | The help chart reference. |\n",
    "| Helm Chart Version | string | The version of the Helm Chart of the published pipeline.  This is also used as the Docker tag. |\n",
    "| Engine Config | `wallaroo.deployment_config.DeploymentConfig` | The pipeline configuration included with the published pipeline. |\n",
    "| Created At | DateTime | When the published pipeline was created. |\n",
    "| Updated At | DateTime | When the published pipeline was updated. |\n",
    "\n",
    "### Publish Example\n",
    "\n",
    "We will now publish the pipeline to our Edge Deployment Registry with the `pipeline.publish(deployment_config)` command.  `deployment_config` is an optional field that specifies the pipeline deployment.  This can be overridden by the DevOps engineer during deployment."
   ]
  },
  {
   "cell_type": "code",
   "execution_count": 16,
   "id": "ea05b884-a46e-418b-bf20-167f3a627000",
   "metadata": {},
   "outputs": [
    {
     "name": "stdout",
     "output_type": "stream",
     "text": [
      "Waiting for pipeline publish... It may take up to 600 sec.\n",
      "Pipeline is Publishing.........Published.\n"
     ]
    },
    {
     "data": {
      "text/html": [
       "\n",
       "          <table>\n",
       "              <tr><td>ID</td><td>5</td></tr>\n",
       "              <tr><td>Pipeline Version</td><td>af77957c-6af6-4332-aeeb-a4d9e1a22963</td></tr>\n",
       "              <tr><td>Status</td><td>Published</td></tr>\n",
       "              <tr><td>Engine URL</td><td><a href='https://ghcr.io/wallaroolabs/doc-samples/engine:v2023.3.0-main-3731'>ghcr.io/wallaroolabs/doc-samples/engine:v2023.3.0-main-3731</a></td></tr>\n",
       "              <tr><td>Pipeline URL</td><td><a href='https://ghcr.io/wallaroolabs/doc-samples/pipelines/edge-hf-summarization:af77957c-6af6-4332-aeeb-a4d9e1a22963'>ghcr.io/wallaroolabs/doc-samples/pipelines/edge-hf-summarization:af77957c-6af6-4332-aeeb-a4d9e1a22963</a></td></tr>\n",
       "              <tr><td>Helm Chart URL</td><td><a href='https://ghcr.io/wallaroolabs/doc-samples/charts/edge-hf-summarization'>ghcr.io/wallaroolabs/doc-samples/charts/edge-hf-summarization</a></td></tr>\n",
       "              <tr><td>Helm Chart Reference</td><td>ghcr.io/wallaroolabs/doc-samples/charts@sha256:f65885c83790bc47f6fc989d55d152fdbfc61df67f64a28857dc10c53aa799ab</td></tr>\n",
       "              <tr><td>Helm Chart Version</td><td>0.0.1-af77957c-6af6-4332-aeeb-a4d9e1a22963</td></tr>\n",
       "              <tr><td>Engine Config</td><td>{'engine': {'resources': {'limits': {'cpu': 0.25, 'memory': '1Gi'}, 'requests': {'cpu': 0.25, 'memory': '1Gi'}}}, 'engineAux': {'images': {'hf-summarization-5': {'resources': {'limits': {'cpu': 4.0, 'memory': '8Gi'}, 'requests': {'cpu': 4.0, 'memory': '8Gi'}}}}}, 'enginelb': {}}</td></tr>\n",
       "              <tr><td>Created By</td><td>john.hummel@wallaroo.ai</td></tr>\n",
       "              <tr><td>Created At</td><td>2023-08-25 18:54:50.065020+00:00</td></tr>\n",
       "              <tr><td>Updated At</td><td>2023-08-25 18:54:50.065020+00:00</td></tr>\n",
       "          </table>\n",
       "        "
      ],
      "text/plain": [
       "PipelinePublish(created_at=datetime.datetime(2023, 8, 25, 18, 54, 50, 65020, tzinfo=tzutc()), engine_config={'engine': {'resources': {'limits': {'cpu': 0.25, 'memory': '1Gi'}, 'requests': {'cpu': 0.25, 'memory': '1Gi'}}}, 'engineAux': {'images': {'hf-summarization-5': {'resources': {'limits': {'cpu': 4.0, 'memory': '8Gi'}, 'requests': {'cpu': 4.0, 'memory': '8Gi'}}}}}, 'enginelb': {}}, id=5, pipeline_version_id=15, status='Published', updated_at=datetime.datetime(2023, 8, 25, 18, 54, 50, 65020, tzinfo=tzutc()), created_by='db364f8c-b866-4865-96b7-0b65662cb384', engine_url='ghcr.io/wallaroolabs/doc-samples/engine:v2023.3.0-main-3731', helm={'reference': 'ghcr.io/wallaroolabs/doc-samples/charts@sha256:f65885c83790bc47f6fc989d55d152fdbfc61df67f64a28857dc10c53aa799ab', 'chart': 'ghcr.io/wallaroolabs/doc-samples/charts/edge-hf-summarization', 'version': '0.0.1-af77957c-6af6-4332-aeeb-a4d9e1a22963'}, pipeline_url='ghcr.io/wallaroolabs/doc-samples/pipelines/edge-hf-summarization:af77957c-6af6-4332-aeeb-a4d9e1a22963', pipeline_version_name='af77957c-6af6-4332-aeeb-a4d9e1a22963', additional_properties={})"
      ]
     },
     "execution_count": 16,
     "metadata": {},
     "output_type": "execute_result"
    }
   ],
   "source": [
    "## This may still show an error status despite but if both containers show running it should be good to go\n",
    "pipeline.publish(deployment_config)"
   ]
  },
  {
   "cell_type": "markdown",
   "id": "d2ed29f8",
   "metadata": {},
   "source": [
    "### List Published Pipeline\n",
    "\n",
    "The method `wallaroo.client.list_pipelines()` shows a list of all pipelines in the Wallaroo instance, and includes the `published` field that indicates whether the pipeline was published to the registry (`True`), or has not yet been published (`False`)."
   ]
  },
  {
   "cell_type": "code",
   "execution_count": 17,
   "id": "a6cd3ae5",
   "metadata": {},
   "outputs": [
    {
     "data": {
      "text/html": [
       "<table><tr><th>name</th><th>created</th><th>last_updated</th><th>deployed</th><th>tags</th><th>versions</th><th>steps</th><th>published</th></tr><tr><td>edge-hf-summarization</td><td>2023-25-Aug 18:53:19</td><td>2023-25-Aug 18:54:49</td><td>False</td><td></td><td>af77957c-6af6-4332-aeeb-a4d9e1a22963, ad77bf95-36c9-4669-9fca-69163f5de601, e0ad32af-21e4-42bd-9eb1-273532cf4f15</td><td>hf-summarization</td><td>True</td></tr><tr><td>hf-summarization-pipeline-edge</td><td>2023-25-Aug 15:52:02</td><td>2023-25-Aug 16:24:04</td><td>False</td><td></td><td>c8d94cce-b237-4d03-bef4-eca89d8d5c88, c7a067bc-997b-47c2-89c7-29ddd507cf7d, c1164da4-e044-49d3-a079-2c6c6a8cdc3f, 28176ea4-5717-4c60-b9c0-91a695bfb78d, 2d55d49d-45d6-4d88-9c6b-a3225a2ba565, 55760fa6-3919-4790-93a2-121be29d1962</td><td>hf-summarization-demoyns2</td><td>True</td></tr><tr><td>houseprice-estimator</td><td>2023-24-Aug 21:16:00</td><td>2023-24-Aug 21:22:22</td><td>False</td><td></td><td>72dbd1e6-2852-4790-885b-9c24865e5126, acd2c0fb-107f-49d6-9041-77ffb8c6979a</td><td>house-price-prime</td><td>False</td></tr><tr><td>edge-pipeline</td><td>2023-24-Aug 16:57:29</td><td>2023-24-Aug 17:05:01</td><td>True</td><td></td><td>710aad65-1437-487b-b6db-0f732b5d2d73, 44c71e77-d8fa-4015-aeee-1cdbccfeb0ef, 7c4383d2-b79d-4179-91a1-b592803e1373, d0a55f2b-0938-45a0-ae58-7d78b9b590d6</td><td>ccfraud</td><td>True</td></tr></table>"
      ],
      "text/plain": [
       "[{'name': 'edge-hf-summarization', 'create_time': datetime.datetime(2023, 8, 25, 18, 53, 19, 465175, tzinfo=tzutc()), 'definition': '[]'},\n",
       " {'name': 'hf-summarization-pipeline-edge', 'create_time': datetime.datetime(2023, 8, 25, 15, 52, 2, 329988, tzinfo=tzutc()), 'definition': '[]'},\n",
       " {'name': 'houseprice-estimator', 'create_time': datetime.datetime(2023, 8, 24, 21, 16, 0, 405934, tzinfo=tzutc()), 'definition': '[]'},\n",
       " {'name': 'edge-pipeline', 'create_time': datetime.datetime(2023, 8, 24, 16, 57, 29, 486951, tzinfo=tzutc()), 'definition': '[]'}]"
      ]
     },
     "execution_count": 17,
     "metadata": {},
     "output_type": "execute_result"
    }
   ],
   "source": [
    "wl.list_pipelines()"
   ]
  },
  {
   "cell_type": "markdown",
   "id": "e707e02b",
   "metadata": {},
   "source": [
    "### List Publishes from a Pipeline\n",
    "\n",
    "All publishes created from a pipeline are displayed with the `wallaroo.pipeline.publishes` method.  The `pipeline_version_id` is used to know what version of the pipeline was used in that specific publish.  This allows for pipelines to be updated over time, and newer versions to be sent and tracked to the Edge Deployment Registry service.\n",
    "\n",
    "#### List Publishes Parameters\n",
    "\n",
    "N/A\n",
    "\n",
    "#### List Publishes Returns\n",
    "\n",
    "A List of the following fields:\n",
    "\n",
    "| Field | Type | Description |\n",
    "|---|---|---|\n",
    "| id | integer | Numerical Wallaroo id of the published pipeline. |\n",
    "| pipeline_version_id | integer | Numerical Wallaroo id of the pipeline version published. |\n",
    "| engine_url | string | The URL of the published pipeline engine in the edge registry. |\n",
    "| pipeline_url | string | The URL of the published pipeline in the edge registry. |\n",
    "| created_by | string | The email address of the user that published the pipeline.\n",
    "| Created At | DateTime | When the published pipeline was created. |\n",
    "| Updated At | DateTime | When the published pipeline was updated. |"
   ]
  },
  {
   "cell_type": "code",
   "execution_count": 18,
   "id": "7d006cbd",
   "metadata": {},
   "outputs": [
    {
     "data": {
      "text/html": [
       "<table><tr><th>id</th><th>pipeline_version_name</th><th>engine_url</th><th>pipeline_url</th><th>created_by</th><th>created_at</th><th>updated_at</th></tr><tr><td>5</td><td>af77957c-6af6-4332-aeeb-a4d9e1a22963</td><td><a href='https://ghcr.io/wallaroolabs/doc-samples/engine:v2023.3.0-main-3731'>ghcr.io/wallaroolabs/doc-samples/engine:v2023.3.0-main-3731</a></td><td><a href='https://ghcr.io/wallaroolabs/doc-samples/pipelines/edge-hf-summarization:af77957c-6af6-4332-aeeb-a4d9e1a22963'>ghcr.io/wallaroolabs/doc-samples/pipelines/edge-hf-summarization:af77957c-6af6-4332-aeeb-a4d9e1a22963</a></td><td>john.hummel@wallaroo.ai</td><td>2023-25-Aug 18:54:50</td><td>2023-25-Aug 18:54:50</td></tr></table>"
      ],
      "text/plain": [
       "[PipelinePublish(created_at=datetime.datetime(2023, 8, 25, 18, 54, 50, 65020, tzinfo=tzutc()), engine_config={'engine': {'resources': {'limits': {'cpu': 0.25, 'memory': '1Gi'}, 'requests': {'cpu': 0.25, 'memory': '1Gi'}}}, 'enginelb': {}, 'engineAux': {'images': {'hf-summarization-5': {'resources': {'limits': {'cpu': 4.0, 'memory': '8Gi'}, 'requests': {'cpu': 4.0, 'memory': '8Gi'}}}}}}, id=5, pipeline_version_id=15, status='Published', updated_at=datetime.datetime(2023, 8, 25, 18, 54, 50, 65020, tzinfo=tzutc()), created_by='db364f8c-b866-4865-96b7-0b65662cb384', engine_url='ghcr.io/wallaroolabs/doc-samples/engine:v2023.3.0-main-3731', helm={'reference': 'ghcr.io/wallaroolabs/doc-samples/charts@sha256:f65885c83790bc47f6fc989d55d152fdbfc61df67f64a28857dc10c53aa799ab', 'chart': 'ghcr.io/wallaroolabs/doc-samples/charts/edge-hf-summarization', 'version': '0.0.1-af77957c-6af6-4332-aeeb-a4d9e1a22963'}, pipeline_url='ghcr.io/wallaroolabs/doc-samples/pipelines/edge-hf-summarization:af77957c-6af6-4332-aeeb-a4d9e1a22963', pipeline_version_name='af77957c-6af6-4332-aeeb-a4d9e1a22963', additional_properties={})]"
      ]
     },
     "execution_count": 18,
     "metadata": {},
     "output_type": "execute_result"
    }
   ],
   "source": [
    "pipeline.publishes()"
   ]
  },
  {
   "cell_type": "markdown",
   "id": "56ac1656",
   "metadata": {},
   "source": [
    "## DevOps Deployment\n",
    "\n",
    "We now have our pipeline published to our Edge Registry service.  We can deploy this in a x86 environment running Docker that is logged into the same registry service that we deployed to.\n",
    "\n",
    "For more details, check with the documentation on your artifact service.  The following are provided for the three major cloud services:\n",
    "\n",
    "* [Google: Set up authentication for Docker](https://cloud.google.com/artifact-registry/docs/docker/authentication)\n",
    "* [Azure: Authenticate with an Azure container registry](https://learn.microsoft.com/en-us/azure/container-registry/container-registry-authentication?tabs=azure-cli)\n",
    "* [AWS: Authenticating Amazon ECR Repositories for Docker CLI with Credential Helper](https://aws.amazon.com/blogs/compute/authenticating-amazon-ecr-repositories-for-docker-cli-with-credential-helper/)"
   ]
  },
  {
   "cell_type": "markdown",
   "id": "81288037",
   "metadata": {},
   "source": [
    "Using our sample environment, here's sample deployment using Docker.\n",
    "\n",
    "```bash\n",
    "docker run -p 8080:8080 \\\n",
    "    -e DEBUG=true -e OCI_REGISTRY={your registry server} \\\n",
    "    -e CONFIG_CPUS=4 \\\n",
    "    -e OCI_USERNAME={registry username here} \\\n",
    "    -e OCI_PASSWORD={registry token here} \\\n",
    "    -e PIPELINE_URL={your registry server}/pipelines/edge-hf-summarization:af77957c-6af6-4332-aeeb-a4d9e1a22963 \\\n",
    "    {your registry server}/engine:v2023.3.0-main-3707\n",
    "```"
   ]
  },
  {
   "cell_type": "markdown",
   "id": "5a1d4e70",
   "metadata": {},
   "source": [
    "Once deployed, we can check the pipelines and models available.  We'll use a `curl` command, but any HTTP based request will work the same way.\n",
    "\n",
    "The endpoint `/pipelines` returns:\n",
    "\n",
    "* **id** (*String*):  The name of the pipeline.\n",
    "* **status** (*String*):  The status as either `Running`, or `Error` if there are any issues.\n",
    "\n",
    "```bash\n",
    "curl localhost:8080/pipelines\n",
    "{\"pipelines\":[{\"id\":\"edge-cv-retail\",\"status\":\"Running\"}]}\n",
    "```\n",
    "\n",
    "The endpoint `/models` returns a List of models with the following fields:\n",
    "\n",
    "* **name** (*String*): The model name.\n",
    "* **sha** (*String*): The sha hash value of the ML model.\n",
    "* **status** (*String*):  The status of either Running or Error if there are any issues.\n",
    "* **version** (*String*):  The model version.  This matches the version designation used by Wallaroo to track model versions in UUID format.\n",
    "\n",
    "```bash\n",
    "curl localhost:8080/models\n",
    "{\"models\":[{\"name\":\"resnet-50\",\"sha\":\"c6c8869645962e7711132a7e17aced2ac0f60dcdc2c7faa79b2de73847a87984\",\"status\":\"Running\",\"version\":\"693e19b5-0dc7-4afb-9922-e3f7feefe66d\"}]}\n",
    "```"
   ]
  },
  {
   "cell_type": "code",
   "execution_count": 20,
   "id": "d6905d4d",
   "metadata": {},
   "outputs": [
    {
     "name": "stdout",
     "output_type": "stream",
     "text": [
      "{\"pipelines\":[{\"id\":\"edge-hf-summarization\",\"status\":\"Running\"}]}"
     ]
    }
   ],
   "source": [
    "!curl testboy.local:8080/pipelines"
   ]
  },
  {
   "cell_type": "code",
   "execution_count": 21,
   "id": "21b3a869-6370-4cb9-abb1-01b9df12d555",
   "metadata": {},
   "outputs": [
    {
     "name": "stdout",
     "output_type": "stream",
     "text": [
      "[{\"check_failures\":[],\"elapsed\":[257863,2939529889],\"model_name\":\"hf-summarization\",\"model_version\":\"88025146-7eae-4299-a8e2-f30cf6bef103\",\"original_data\":null,\"outputs\":[{\"String\":{\"data\":[\"LinkedIn is a business and employment-focused social media platform that works through websites and mobile apps. It launched on May 5, 2003. LinkedIn allows members (both workers and employers) to create profiles and connect with each other in an online social network which may represent real-world professional relationships.\"],\"dim\":[1,1],\"v\":1}}],\"pipeline_name\":\"edge-hf-summarization\",\"shadow_data\":{},\"time\":1692990188043}]"
     ]
    }
   ],
   "source": [
    "!curl -X POST http://testboy.local:8080/pipelines/edge-hf-summarization -H \"Content-Type: application/json; format=pandas-records\" -d @./data/test_summarization.df.json"
   ]
  },
  {
   "cell_type": "code",
   "execution_count": 22,
   "id": "66e92baa",
   "metadata": {},
   "outputs": [
    {
     "data": {
      "text/plain": [
       "'LinkedIn is a business and employment-focused social media platform that works through websites and mobile apps. It launched on May 5, 2003. LinkedIn allows members (both workers and employers) to create profiles and connect with each other in an online social network which may represent real-world professional relationships.'"
      ]
     },
     "metadata": {},
     "output_type": "display_data"
    }
   ],
   "source": [
    "import json\n",
    "import requests\n",
    "\n",
    "# set the content type and accept headers\n",
    "headers = {\n",
    "    'Content-Type': 'application/json; format=pandas-records'\n",
    "}\n",
    "\n",
    "# Submit arrow file\n",
    "dataFile=\"./data/test_summarization.df.json\"\n",
    "\n",
    "data = json.load(open(dataFile))\n",
    "\n",
    "host = 'http://testboy.local:8080'\n",
    "\n",
    "deployurl = f'{host}/pipelines/edge-hf-summarization'\n",
    "\n",
    "response = requests.post(\n",
    "                    deployurl, \n",
    "                    headers=headers, \n",
    "                    json=data, \n",
    "                    verify=True\n",
    "                )\n",
    "\n",
    "# display(response)\n",
    "display(response.json()[0]['outputs'][0]['String']['data'][0])\n"
   ]
  }
 ],
 "metadata": {
  "kernelspec": {
   "display_name": "Python 3 (ipykernel)",
   "language": "python",
   "name": "python3"
  },
  "language_info": {
   "codemirror_mode": {
    "name": "ipython",
    "version": 3
   },
   "file_extension": ".py",
   "mimetype": "text/x-python",
   "name": "python",
   "nbconvert_exporter": "python",
   "pygments_lexer": "ipython3",
   "version": "3.8.17"
  }
 },
 "nbformat": 4,
 "nbformat_minor": 5
}
