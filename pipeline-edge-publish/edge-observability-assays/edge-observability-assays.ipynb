{
 "cells": [
  {
   "cell_type": "markdown",
   "metadata": {},
   "source": [
    "This tutorial and the assets can be downloaded as part of the [Wallaroo Tutorials repository](https://github.com/WallarooLabs/Wallaroo_Tutorials/tree/main/wallaroo-testing-tutorials/anomaly_detection).\n",
    "\n",
    "## House Price Testing Life Cycle Preparation\n",
    "\n",
    "This notebook is used in preparation for the House Price Life Cycle tutorial.  This includes:\n",
    "\n",
    "* Setting up a workspace, pipeline, and model for deriving the price of a house based on inputs.\n",
    "* Creating an assay from a sample of inferences.\n",
    "* Display the inference result and upload the assay to the Wallaroo instance where it can be referenced later.\n",
    "\n",
    "This preparation is used for the House Price Life Cycle Comprehensive and Short tutorials, included in this folder.\n",
    "\n",
    "This tutorial provides the following:\n",
    "\n",
    "* Models:\n",
    "  * `models/rf_model.onnx`: The champion model that has been used in this environment for some time.\n",
    "  * `models/xgb_model.onnx` and `models/gbr_model.onnx`: Rival models that will be tested against the champion.\n",
    "* Data:\n",
    "  * `data/xtest-1.df.json` and `data/xtest-1k.df.json`:  DataFrame JSON inference inputs with 1 input and 1,000 inputs.\n",
    "  * `data/xtest-1k.arrow`:  Apache Arrow inference inputs with 1 input and 1,000 inputs.\n",
    "\n",
    "## Prerequisites\n",
    "\n",
    "* A deployed Wallaroo instance\n",
    "* The following Python libraries installed:\n",
    "  * [`wallaroo`](https://pypi.org/project/wallaroo/): The Wallaroo SDK. Included with the Wallaroo JupyterHub service by default.\n",
    "  * [`pandas`](https://pypi.org/project/pandas/): Pandas, mainly used for Pandas DataFrame\n",
    "\n",
    "## Preparation\n",
    "\n",
    "It is recommended that this preparation is run at least an hour or so before a demonstration of the House Price Saga Comprehensive and Short tutorials.\n",
    "\n",
    "This will require that the same workspace, pipeline, model name, and assay name are used from this preparation notebook to the tutorial.  Those variables are stored directly below.  "
   ]
  },
  {
   "cell_type": "code",
   "execution_count": 1,
   "metadata": {},
   "outputs": [],
   "source": [
    "# used for unique connection names\n",
    "\n",
    "import string\n",
    "import random\n",
    "\n",
    "suffix= ''.join(random.choice(string.ascii_lowercase) for i in range(4))\n",
    "suffix=''\n",
    "\n",
    "# used to make a unique workspace\n",
    "suffix='baseline-examples'\n",
    "\n",
    "workspace_name = f'edge-observability-assays{suffix}'\n",
    "main_pipeline_name = f'housepricesagapipeline'\n",
    "model_name_control = f'housepricesagacontrol'\n",
    "model_file_name_control = './models/rf_model.onnx'\n",
    "\n",
    "# Set the name of the assay\n",
    "assay_name=f\"house price test{suffix}\""
   ]
  },
  {
   "cell_type": "code",
   "execution_count": 2,
   "metadata": {},
   "outputs": [],
   "source": [
    "def get_workspace(name):\n",
    "    workspace = None\n",
    "    for ws in wl.list_workspaces():\n",
    "        if ws.name() == name:\n",
    "            workspace= ws\n",
    "    if(workspace == None):\n",
    "        workspace = wl.create_workspace(name)\n",
    "    return workspace\n",
    "\n",
    "def get_pipeline(name, workspace):\n",
    "    pipelines = workspace.pipelines()\n",
    "    pipe_filter = filter(lambda x: x.name() == name, pipelines)\n",
    "    pipes = list(pipe_filter)\n",
    "    # we can't have a pipe in the workspace with the same name, so it's always the first\n",
    "    if pipes:\n",
    "        pipeline = pipes[0]\n",
    "    else:\n",
    "        pipeline = wl.build_pipeline(name)\n",
    "    return pipeline"
   ]
  },
  {
   "cell_type": "markdown",
   "metadata": {},
   "source": [
    "## Initial Steps\n",
    "\n",
    "### Import libraries\n",
    "\n",
    "The first step is to import the libraries needed for this notebook."
   ]
  },
  {
   "cell_type": "code",
   "execution_count": 3,
   "metadata": {},
   "outputs": [],
   "source": [
    "import wallaroo\n",
    "from wallaroo.object import EntityNotFoundError\n",
    "from wallaroo.framework import Framework\n",
    "\n",
    "from IPython.display import display\n",
    "\n",
    "# used to display DataFrame information without truncating\n",
    "from IPython.display import display\n",
    "import pandas as pd\n",
    "pd.set_option('display.max_colwidth', None)\n",
    "\n",
    "import datetime\n",
    "import time\n",
    "\n"
   ]
  },
  {
   "cell_type": "markdown",
   "metadata": {},
   "source": [
    "### Connect to the Wallaroo Instance\n",
    "\n",
    "The first step is to connect to Wallaroo through the Wallaroo client.  The Python library is included in the Wallaroo install and available through the Jupyter Hub interface provided with your Wallaroo environment.\n",
    "\n",
    "This is accomplished using the `wallaroo.Client()` command, which provides a URL to grant the SDK permission to your specific Wallaroo environment.  When displayed, enter the URL into a browser and confirm permissions.  Store the connection into a variable that can be referenced later.\n",
    "\n",
    "If logging into the Wallaroo instance through the internal JupyterHub service, use `wl = wallaroo.Client()`.  For more information on Wallaroo Client settings, see the [Client Connection guide](https://docs.wallaroo.ai/wallaroo-developer-guides/wallaroo-sdk-guides/wallaroo-sdk-essentials-guide/wallaroo-sdk-essentials-client/)."
   ]
  },
  {
   "cell_type": "code",
   "execution_count": 6,
   "metadata": {},
   "outputs": [],
   "source": [
    "# Login through local Wallaroo instance\n",
    "\n",
    "wl = wallaroo.Client()"
   ]
  },
  {
   "cell_type": "markdown",
   "metadata": {},
   "source": [
    "### Create Workspace\n",
    "\n",
    "We will create a workspace to manage our pipeline and models.  The following variables will set the name of our sample workspace then set it as the current workspace.\n",
    "\n",
    "Workspace, pipeline, and model names should be unique to each user, so we'll add in a randomly generated suffix so multiple people can run this tutorial in a Wallaroo instance without effecting each other."
   ]
  },
  {
   "cell_type": "code",
   "execution_count": 7,
   "metadata": {},
   "outputs": [
    {
     "data": {
      "text/plain": [
       "{'name': 'edge-observability-assaysbaseline-examples', 'id': 89, 'archived': False, 'created_by': 'd6a42dd8-1da9-4405-bb80-7c4b42e38b52', 'created_at': '2023-10-31T18:15:18.554323+00:00', 'models': [], 'pipelines': []}"
      ]
     },
     "execution_count": 7,
     "metadata": {},
     "output_type": "execute_result"
    }
   ],
   "source": [
    "workspace = get_workspace(workspace_name)\n",
    "\n",
    "wl.set_current_workspace(workspace)"
   ]
  },
  {
   "cell_type": "markdown",
   "metadata": {},
   "source": [
    "### Upload The Champion Model\n",
    "\n",
    "For our example, we will upload the champion model that has been trained to derive house prices from a variety of inputs.  The model file is `rf_model.onnx`, and is uploaded with the name `housingcontrol`."
   ]
  },
  {
   "cell_type": "code",
   "execution_count": 8,
   "metadata": {},
   "outputs": [],
   "source": [
    "housing_model_control = (wl.upload_model(model_name_control, \n",
    "                                        model_file_name_control, \n",
    "                                        framework=Framework.ONNX)\n",
    "                                        .configure(tensor_fields=[\"tensor\"])\n",
    "                        )"
   ]
  },
  {
   "cell_type": "markdown",
   "metadata": {},
   "source": [
    "## Standard Pipeline Steps\n",
    "\n",
    "### Build the Pipeline\n",
    "\n",
    "This pipeline is made to be an example of an existing situation where a model is deployed and being used for inferences in a production environment.  We'll call it `housepricepipeline`, set `housingcontrol` as a pipeline step, then run a few sample inferences.\n",
    "\n",
    "This pipeline will be a simple one - just a single pipeline step."
   ]
  },
  {
   "cell_type": "code",
   "execution_count": 9,
   "metadata": {},
   "outputs": [
    {
     "name": "stdout",
     "output_type": "stream",
     "text": [
      "Waiting for deployment - this will take up to 45s ................................. ok\n"
     ]
    },
    {
     "data": {
      "text/html": [
       "<table><tr><th>name</th> <td>housepricesagapipeline</td></tr><tr><th>created</th> <td>2023-10-31 18:15:22.006805+00:00</td></tr><tr><th>last_updated</th> <td>2023-10-31 18:15:22.061320+00:00</td></tr><tr><th>deployed</th> <td>True</td></tr><tr><th>tags</th> <td></td></tr><tr><th>versions</th> <td>e96d2fde-84a2-44a0-aa1e-eaa3018da51a, 515bb61b-545b-4816-8e93-ab376472cd10</td></tr><tr><th>steps</th> <td>housepricesagacontrol</td></tr><tr><th>published</th> <td>False</td></tr></table>"
      ],
      "text/plain": [
       "{'name': 'housepricesagapipeline', 'create_time': datetime.datetime(2023, 10, 31, 18, 15, 22, 6805, tzinfo=tzutc()), 'definition': \"[{'ModelInference': {'models': [{'name': 'housepricesagacontrol', 'version': '65241949-fc51-4e05-b81e-e0e06a8c855c', 'sha': 'e22a0831aafd9917f3cc87a15ed267797f80e2afa12ad7d8810ca58f173b8cc6'}]}}]\"}"
      ]
     },
     "execution_count": 9,
     "metadata": {},
     "output_type": "execute_result"
    }
   ],
   "source": [
    "mainpipeline = get_pipeline(main_pipeline_name, workspace)\n",
    "mainpipeline.clear()\n",
    "\n",
    "mainpipeline.add_model_step(housing_model_control)\n",
    "\n",
    "#minimum deployment config\n",
    "deploy_config = wallaroo.DeploymentConfigBuilder().replica_count(1).cpus(0.5).memory(\"1Gi\").build()\n",
    "\n",
    "mainpipeline.deploy(deployment_config = deploy_config)"
   ]
  },
  {
   "cell_type": "markdown",
   "metadata": {},
   "source": [
    "### Testing\n",
    "\n",
    "We'll use two inferences as a quick sample test - one that has a house that should be determined around `$700k`, the other with a house determined to be around `$1.5` million.  We'll also save the start and end periods for these events to for later log functionality."
   ]
  },
  {
   "cell_type": "code",
   "execution_count": 10,
   "metadata": {},
   "outputs": [
    {
     "data": {
      "text/html": [
       "<div>\n",
       "<style scoped>\n",
       "    .dataframe tbody tr th:only-of-type {\n",
       "        vertical-align: middle;\n",
       "    }\n",
       "\n",
       "    .dataframe tbody tr th {\n",
       "        vertical-align: top;\n",
       "    }\n",
       "\n",
       "    .dataframe thead th {\n",
       "        text-align: right;\n",
       "    }\n",
       "</style>\n",
       "<table border=\"1\" class=\"dataframe\">\n",
       "  <thead>\n",
       "    <tr style=\"text-align: right;\">\n",
       "      <th></th>\n",
       "      <th>time</th>\n",
       "      <th>in.tensor</th>\n",
       "      <th>out.variable</th>\n",
       "      <th>check_failures</th>\n",
       "    </tr>\n",
       "  </thead>\n",
       "  <tbody>\n",
       "    <tr>\n",
       "      <th>0</th>\n",
       "      <td>2023-10-31 18:15:57.159</td>\n",
       "      <td>[4.0, 2.5, 2900.0, 5505.0, 2.0, 0.0, 0.0, 3.0, 8.0, 2900.0, 0.0, 47.6063, -122.02, 2970.0, 5251.0, 12.0, 0.0, 0.0]</td>\n",
       "      <td>[718013.7]</td>\n",
       "      <td>0</td>\n",
       "    </tr>\n",
       "  </tbody>\n",
       "</table>\n",
       "</div>"
      ],
      "text/plain": [
       "                     time  \\\n",
       "0 2023-10-31 18:15:57.159   \n",
       "\n",
       "                                                                                                            in.tensor  \\\n",
       "0  [4.0, 2.5, 2900.0, 5505.0, 2.0, 0.0, 0.0, 3.0, 8.0, 2900.0, 0.0, 47.6063, -122.02, 2970.0, 5251.0, 12.0, 0.0, 0.0]   \n",
       "\n",
       "  out.variable  check_failures  \n",
       "0   [718013.7]               0  "
      ]
     },
     "metadata": {},
     "output_type": "display_data"
    }
   ],
   "source": [
    "normal_input = pd.DataFrame.from_records({\"tensor\": [[4.0, 2.5, 2900.0, 5505.0, 2.0, 0.0, 0.0, 3.0, 8.0, 2900.0, 0.0, 47.6063, -122.02, 2970.0, 5251.0, 12.0, 0.0, 0.0]]})\n",
    "result = mainpipeline.infer(normal_input)\n",
    "display(result)"
   ]
  },
  {
   "cell_type": "code",
   "execution_count": 11,
   "metadata": {},
   "outputs": [
    {
     "data": {
      "text/html": [
       "<div>\n",
       "<style scoped>\n",
       "    .dataframe tbody tr th:only-of-type {\n",
       "        vertical-align: middle;\n",
       "    }\n",
       "\n",
       "    .dataframe tbody tr th {\n",
       "        vertical-align: top;\n",
       "    }\n",
       "\n",
       "    .dataframe thead th {\n",
       "        text-align: right;\n",
       "    }\n",
       "</style>\n",
       "<table border=\"1\" class=\"dataframe\">\n",
       "  <thead>\n",
       "    <tr style=\"text-align: right;\">\n",
       "      <th></th>\n",
       "      <th>time</th>\n",
       "      <th>in.tensor</th>\n",
       "      <th>out.variable</th>\n",
       "      <th>check_failures</th>\n",
       "    </tr>\n",
       "  </thead>\n",
       "  <tbody>\n",
       "    <tr>\n",
       "      <th>0</th>\n",
       "      <td>2023-10-31 18:15:57.195</td>\n",
       "      <td>[4.0, 3.0, 3710.0, 20000.0, 2.0, 0.0, 2.0, 5.0, 10.0, 2760.0, 950.0, 47.6696, -122.261, 3970.0, 20000.0, 79.0, 0.0, 0.0]</td>\n",
       "      <td>[1514079.4]</td>\n",
       "      <td>0</td>\n",
       "    </tr>\n",
       "  </tbody>\n",
       "</table>\n",
       "</div>"
      ],
      "text/plain": [
       "                     time  \\\n",
       "0 2023-10-31 18:15:57.195   \n",
       "\n",
       "                                                                                                                  in.tensor  \\\n",
       "0  [4.0, 3.0, 3710.0, 20000.0, 2.0, 0.0, 2.0, 5.0, 10.0, 2760.0, 950.0, 47.6696, -122.261, 3970.0, 20000.0, 79.0, 0.0, 0.0]   \n",
       "\n",
       "  out.variable  check_failures  \n",
       "0  [1514079.4]               0  "
      ]
     },
     "metadata": {},
     "output_type": "display_data"
    }
   ],
   "source": [
    "large_house_input = pd.DataFrame.from_records({'tensor': [[4.0, 3.0, 3710.0, 20000.0, 2.0, 0.0, 2.0, 5.0, 10.0, 2760.0, 950.0, 47.6696, -122.261, 3970.0, 20000.0, 79.0, 0.0, 0.0]]})\n",
    "large_house_result = mainpipeline.infer(large_house_input)\n",
    "display(large_house_result)"
   ]
  },
  {
   "cell_type": "markdown",
   "metadata": {},
   "source": [
    "## Assays\n",
    "\n",
    "Wallaroo assays provide a method for detecting input or model drift.  These can be triggered either when unexpected input is provided for the inference, or when the model needs to be retrained from changing environment conditions.\n",
    "\n",
    "Wallaroo assays can track either an input field and its index, or an output field and its index.  For full details, see the [Wallaroo Assays Management Guide](https://docs.wallaroo.ai/wallaroo-operations-guide/wallaroo-pipeline-management/wallaroo-pipeline-assays/).\n",
    "\n",
    "For this example, we will:\n",
    "\n",
    "* Perform sample inferences based on lower priced houses.\n",
    "* Create an assay with the baseline set off those lower priced houses.\n",
    "* Generate inferences spread across all house values, plus specific set of high priced houses to trigger the assay alert.\n",
    "* Run an interactive assay to show the detection of values outside the established baseline."
   ]
  },
  {
   "cell_type": "markdown",
   "metadata": {},
   "source": [
    "### Assay Generation\n",
    "\n",
    "To start the demonstration, we'll create a baseline of values from houses with small estimated prices and set that as our baseline. Assays are typically run on a 24 hours interval based on a 24 hour window of data, but we'll bypass that by setting our baseline time even shorter."
   ]
  },
  {
   "cell_type": "code",
   "execution_count": 12,
   "metadata": {},
   "outputs": [],
   "source": [
    "small_houses_inputs = pd.read_json('./data/smallinputs.df.json')\n",
    "baseline_size = 500\n",
    "\n",
    "# Where the baseline data will start\n",
    "assay_baseline_start = datetime.datetime.now()\n",
    "\n",
    "# These inputs will be random samples of small priced houses.\n",
    "small_houses = small_houses_inputs.sample(baseline_size, replace=True).reset_index(drop=True)\n",
    "\n",
    "# Wait 30 seconds to set this data apart from the rest\n",
    "time.sleep(30)\n",
    "small_results = mainpipeline.infer(small_houses)\n",
    "\n",
    "# Set the baseline end\n",
    "\n",
    "assay_baseline_end = datetime.datetime.now()"
   ]
  },
  {
   "cell_type": "code",
   "execution_count": 13,
   "metadata": {},
   "outputs": [
    {
     "data": {
      "text/html": [
       "<div>\n",
       "<style scoped>\n",
       "    .dataframe tbody tr th:only-of-type {\n",
       "        vertical-align: middle;\n",
       "    }\n",
       "\n",
       "    .dataframe tbody tr th {\n",
       "        vertical-align: top;\n",
       "    }\n",
       "\n",
       "    .dataframe thead th {\n",
       "        text-align: right;\n",
       "    }\n",
       "</style>\n",
       "<table border=\"1\" class=\"dataframe\">\n",
       "  <thead>\n",
       "    <tr style=\"text-align: right;\">\n",
       "      <th></th>\n",
       "      <th>time</th>\n",
       "      <th>in.tensor</th>\n",
       "      <th>out.variable</th>\n",
       "      <th>check_failures</th>\n",
       "    </tr>\n",
       "  </thead>\n",
       "  <tbody>\n",
       "    <tr>\n",
       "      <th>0</th>\n",
       "      <td>2023-10-31 18:16:27.272</td>\n",
       "      <td>[3.0, 2.5, 2360.0, 4080.0, 2.0, 0.0, 0.0, 3.0, 7.0, 2360.0, 0.0, 47.6824989319, -122.0380020142, 2290.0, 4080.0, 11.0, 0.0, 0.0]</td>\n",
       "      <td>[701940.7]</td>\n",
       "      <td>0</td>\n",
       "    </tr>\n",
       "    <tr>\n",
       "      <th>1</th>\n",
       "      <td>2023-10-31 18:16:27.272</td>\n",
       "      <td>[2.0, 1.0, 920.0, 43560.0, 1.0, 0.0, 0.0, 4.0, 5.0, 920.0, 0.0, 47.5245018005, -121.9309997559, 1530.0, 11875.0, 91.0, 0.0, 0.0]</td>\n",
       "      <td>[243300.83]</td>\n",
       "      <td>0</td>\n",
       "    </tr>\n",
       "    <tr>\n",
       "      <th>2</th>\n",
       "      <td>2023-10-31 18:16:27.272</td>\n",
       "      <td>[4.0, 2.5, 2632.0, 4117.0, 2.0, 0.0, 0.0, 3.0, 8.0, 2632.0, 0.0, 47.3428001404, -122.2779998779, 2040.0, 5195.0, 1.0, 0.0, 0.0]</td>\n",
       "      <td>[368504.3]</td>\n",
       "      <td>0</td>\n",
       "    </tr>\n",
       "    <tr>\n",
       "      <th>3</th>\n",
       "      <td>2023-10-31 18:16:27.272</td>\n",
       "      <td>[4.0, 2.25, 3310.0, 8540.0, 1.0, 0.0, 4.0, 4.0, 9.0, 1660.0, 1650.0, 47.5602989197, -122.1579971313, 3450.0, 9566.0, 41.0, 0.0, 0.0]</td>\n",
       "      <td>[921561.56]</td>\n",
       "      <td>0</td>\n",
       "    </tr>\n",
       "    <tr>\n",
       "      <th>4</th>\n",
       "      <td>2023-10-31 18:16:27.272</td>\n",
       "      <td>[4.0, 2.5, 3140.0, 12792.0, 2.0, 0.0, 0.0, 4.0, 9.0, 3140.0, 0.0, 47.3862991333, -122.15599823, 2510.0, 12792.0, 37.0, 0.0, 0.0]</td>\n",
       "      <td>[513583.06]</td>\n",
       "      <td>0</td>\n",
       "    </tr>\n",
       "    <tr>\n",
       "      <th>...</th>\n",
       "      <td>...</td>\n",
       "      <td>...</td>\n",
       "      <td>...</td>\n",
       "      <td>...</td>\n",
       "    </tr>\n",
       "    <tr>\n",
       "      <th>495</th>\n",
       "      <td>2023-10-31 18:16:27.272</td>\n",
       "      <td>[4.0, 2.25, 2580.0, 7344.0, 2.0, 0.0, 0.0, 3.0, 8.0, 2580.0, 0.0, 47.5647010803, -122.0899963379, 2390.0, 7507.0, 37.0, 0.0, 0.0]</td>\n",
       "      <td>[701940.7]</td>\n",
       "      <td>0</td>\n",
       "    </tr>\n",
       "    <tr>\n",
       "      <th>496</th>\n",
       "      <td>2023-10-31 18:16:27.272</td>\n",
       "      <td>[3.0, 1.75, 1960.0, 8136.0, 1.0, 0.0, 0.0, 3.0, 7.0, 980.0, 980.0, 47.5208015442, -122.3639984131, 1070.0, 7480.0, 66.0, 0.0, 0.0]</td>\n",
       "      <td>[365436.22]</td>\n",
       "      <td>0</td>\n",
       "    </tr>\n",
       "    <tr>\n",
       "      <th>497</th>\n",
       "      <td>2023-10-31 18:16:27.272</td>\n",
       "      <td>[4.0, 2.5, 2230.0, 4372.0, 2.0, 0.0, 0.0, 5.0, 8.0, 1540.0, 690.0, 47.6697998047, -122.3339996338, 2020.0, 4372.0, 79.0, 0.0, 0.0]</td>\n",
       "      <td>[682284.56]</td>\n",
       "      <td>0</td>\n",
       "    </tr>\n",
       "    <tr>\n",
       "      <th>498</th>\n",
       "      <td>2023-10-31 18:16:27.272</td>\n",
       "      <td>[3.0, 2.75, 2340.0, 16500.0, 1.0, 0.0, 0.0, 4.0, 8.0, 1500.0, 840.0, 47.595199585, -122.0510025024, 2210.0, 15251.0, 42.0, 0.0, 0.0]</td>\n",
       "      <td>[687786.44]</td>\n",
       "      <td>0</td>\n",
       "    </tr>\n",
       "    <tr>\n",
       "      <th>499</th>\n",
       "      <td>2023-10-31 18:16:27.272</td>\n",
       "      <td>[3.0, 2.25, 2960.0, 8330.0, 1.0, 0.0, 3.0, 4.0, 10.0, 2260.0, 700.0, 47.7034988403, -122.3850021362, 2960.0, 8840.0, 62.0, 0.0, 0.0]</td>\n",
       "      <td>[1178313.9]</td>\n",
       "      <td>0</td>\n",
       "    </tr>\n",
       "  </tbody>\n",
       "</table>\n",
       "<p>500 rows × 4 columns</p>\n",
       "</div>"
      ],
      "text/plain": [
       "                       time  \\\n",
       "0   2023-10-31 18:16:27.272   \n",
       "1   2023-10-31 18:16:27.272   \n",
       "2   2023-10-31 18:16:27.272   \n",
       "3   2023-10-31 18:16:27.272   \n",
       "4   2023-10-31 18:16:27.272   \n",
       "..                      ...   \n",
       "495 2023-10-31 18:16:27.272   \n",
       "496 2023-10-31 18:16:27.272   \n",
       "497 2023-10-31 18:16:27.272   \n",
       "498 2023-10-31 18:16:27.272   \n",
       "499 2023-10-31 18:16:27.272   \n",
       "\n",
       "                                                                                                                                in.tensor  \\\n",
       "0        [3.0, 2.5, 2360.0, 4080.0, 2.0, 0.0, 0.0, 3.0, 7.0, 2360.0, 0.0, 47.6824989319, -122.0380020142, 2290.0, 4080.0, 11.0, 0.0, 0.0]   \n",
       "1        [2.0, 1.0, 920.0, 43560.0, 1.0, 0.0, 0.0, 4.0, 5.0, 920.0, 0.0, 47.5245018005, -121.9309997559, 1530.0, 11875.0, 91.0, 0.0, 0.0]   \n",
       "2         [4.0, 2.5, 2632.0, 4117.0, 2.0, 0.0, 0.0, 3.0, 8.0, 2632.0, 0.0, 47.3428001404, -122.2779998779, 2040.0, 5195.0, 1.0, 0.0, 0.0]   \n",
       "3    [4.0, 2.25, 3310.0, 8540.0, 1.0, 0.0, 4.0, 4.0, 9.0, 1660.0, 1650.0, 47.5602989197, -122.1579971313, 3450.0, 9566.0, 41.0, 0.0, 0.0]   \n",
       "4        [4.0, 2.5, 3140.0, 12792.0, 2.0, 0.0, 0.0, 4.0, 9.0, 3140.0, 0.0, 47.3862991333, -122.15599823, 2510.0, 12792.0, 37.0, 0.0, 0.0]   \n",
       "..                                                                                                                                    ...   \n",
       "495     [4.0, 2.25, 2580.0, 7344.0, 2.0, 0.0, 0.0, 3.0, 8.0, 2580.0, 0.0, 47.5647010803, -122.0899963379, 2390.0, 7507.0, 37.0, 0.0, 0.0]   \n",
       "496    [3.0, 1.75, 1960.0, 8136.0, 1.0, 0.0, 0.0, 3.0, 7.0, 980.0, 980.0, 47.5208015442, -122.3639984131, 1070.0, 7480.0, 66.0, 0.0, 0.0]   \n",
       "497    [4.0, 2.5, 2230.0, 4372.0, 2.0, 0.0, 0.0, 5.0, 8.0, 1540.0, 690.0, 47.6697998047, -122.3339996338, 2020.0, 4372.0, 79.0, 0.0, 0.0]   \n",
       "498  [3.0, 2.75, 2340.0, 16500.0, 1.0, 0.0, 0.0, 4.0, 8.0, 1500.0, 840.0, 47.595199585, -122.0510025024, 2210.0, 15251.0, 42.0, 0.0, 0.0]   \n",
       "499  [3.0, 2.25, 2960.0, 8330.0, 1.0, 0.0, 3.0, 4.0, 10.0, 2260.0, 700.0, 47.7034988403, -122.3850021362, 2960.0, 8840.0, 62.0, 0.0, 0.0]   \n",
       "\n",
       "    out.variable  check_failures  \n",
       "0     [701940.7]               0  \n",
       "1    [243300.83]               0  \n",
       "2     [368504.3]               0  \n",
       "3    [921561.56]               0  \n",
       "4    [513583.06]               0  \n",
       "..           ...             ...  \n",
       "495   [701940.7]               0  \n",
       "496  [365436.22]               0  \n",
       "497  [682284.56]               0  \n",
       "498  [687786.44]               0  \n",
       "499  [1178313.9]               0  \n",
       "\n",
       "[500 rows x 4 columns]"
      ]
     },
     "metadata": {},
     "output_type": "display_data"
    }
   ],
   "source": [
    "display(small_results)"
   ]
  },
  {
   "cell_type": "code",
   "execution_count": 14,
   "metadata": {},
   "outputs": [
    {
     "data": {
      "text/html": [
       "<div>\n",
       "<style scoped>\n",
       "    .dataframe tbody tr th:only-of-type {\n",
       "        vertical-align: middle;\n",
       "    }\n",
       "\n",
       "    .dataframe tbody tr th {\n",
       "        vertical-align: top;\n",
       "    }\n",
       "\n",
       "    .dataframe thead th {\n",
       "        text-align: right;\n",
       "    }\n",
       "</style>\n",
       "<table border=\"1\" class=\"dataframe\">\n",
       "  <thead>\n",
       "    <tr style=\"text-align: right;\">\n",
       "      <th></th>\n",
       "      <th>time</th>\n",
       "      <th>in.tensor</th>\n",
       "      <th>out.variable</th>\n",
       "      <th>check_failures</th>\n",
       "      <th>variable</th>\n",
       "    </tr>\n",
       "  </thead>\n",
       "  <tbody>\n",
       "    <tr>\n",
       "      <th>0</th>\n",
       "      <td>2023-10-31 18:16:27.272</td>\n",
       "      <td>[3.0, 2.5, 2360.0, 4080.0, 2.0, 0.0, 0.0, 3.0, 7.0, 2360.0, 0.0, 47.6824989319, -122.0380020142, 2290.0, 4080.0, 11.0, 0.0, 0.0]</td>\n",
       "      <td>[701940.7]</td>\n",
       "      <td>0</td>\n",
       "      <td>701940.70</td>\n",
       "    </tr>\n",
       "    <tr>\n",
       "      <th>1</th>\n",
       "      <td>2023-10-31 18:16:27.272</td>\n",
       "      <td>[2.0, 1.0, 920.0, 43560.0, 1.0, 0.0, 0.0, 4.0, 5.0, 920.0, 0.0, 47.5245018005, -121.9309997559, 1530.0, 11875.0, 91.0, 0.0, 0.0]</td>\n",
       "      <td>[243300.83]</td>\n",
       "      <td>0</td>\n",
       "      <td>243300.83</td>\n",
       "    </tr>\n",
       "    <tr>\n",
       "      <th>2</th>\n",
       "      <td>2023-10-31 18:16:27.272</td>\n",
       "      <td>[4.0, 2.5, 2632.0, 4117.0, 2.0, 0.0, 0.0, 3.0, 8.0, 2632.0, 0.0, 47.3428001404, -122.2779998779, 2040.0, 5195.0, 1.0, 0.0, 0.0]</td>\n",
       "      <td>[368504.3]</td>\n",
       "      <td>0</td>\n",
       "      <td>368504.30</td>\n",
       "    </tr>\n",
       "    <tr>\n",
       "      <th>3</th>\n",
       "      <td>2023-10-31 18:16:27.272</td>\n",
       "      <td>[4.0, 2.25, 3310.0, 8540.0, 1.0, 0.0, 4.0, 4.0, 9.0, 1660.0, 1650.0, 47.5602989197, -122.1579971313, 3450.0, 9566.0, 41.0, 0.0, 0.0]</td>\n",
       "      <td>[921561.56]</td>\n",
       "      <td>0</td>\n",
       "      <td>921561.56</td>\n",
       "    </tr>\n",
       "    <tr>\n",
       "      <th>4</th>\n",
       "      <td>2023-10-31 18:16:27.272</td>\n",
       "      <td>[4.0, 2.5, 3140.0, 12792.0, 2.0, 0.0, 0.0, 4.0, 9.0, 3140.0, 0.0, 47.3862991333, -122.15599823, 2510.0, 12792.0, 37.0, 0.0, 0.0]</td>\n",
       "      <td>[513583.06]</td>\n",
       "      <td>0</td>\n",
       "      <td>513583.06</td>\n",
       "    </tr>\n",
       "    <tr>\n",
       "      <th>...</th>\n",
       "      <td>...</td>\n",
       "      <td>...</td>\n",
       "      <td>...</td>\n",
       "      <td>...</td>\n",
       "      <td>...</td>\n",
       "    </tr>\n",
       "    <tr>\n",
       "      <th>495</th>\n",
       "      <td>2023-10-31 18:16:27.272</td>\n",
       "      <td>[4.0, 2.25, 2580.0, 7344.0, 2.0, 0.0, 0.0, 3.0, 8.0, 2580.0, 0.0, 47.5647010803, -122.0899963379, 2390.0, 7507.0, 37.0, 0.0, 0.0]</td>\n",
       "      <td>[701940.7]</td>\n",
       "      <td>0</td>\n",
       "      <td>701940.70</td>\n",
       "    </tr>\n",
       "    <tr>\n",
       "      <th>496</th>\n",
       "      <td>2023-10-31 18:16:27.272</td>\n",
       "      <td>[3.0, 1.75, 1960.0, 8136.0, 1.0, 0.0, 0.0, 3.0, 7.0, 980.0, 980.0, 47.5208015442, -122.3639984131, 1070.0, 7480.0, 66.0, 0.0, 0.0]</td>\n",
       "      <td>[365436.22]</td>\n",
       "      <td>0</td>\n",
       "      <td>365436.22</td>\n",
       "    </tr>\n",
       "    <tr>\n",
       "      <th>497</th>\n",
       "      <td>2023-10-31 18:16:27.272</td>\n",
       "      <td>[4.0, 2.5, 2230.0, 4372.0, 2.0, 0.0, 0.0, 5.0, 8.0, 1540.0, 690.0, 47.6697998047, -122.3339996338, 2020.0, 4372.0, 79.0, 0.0, 0.0]</td>\n",
       "      <td>[682284.56]</td>\n",
       "      <td>0</td>\n",
       "      <td>682284.56</td>\n",
       "    </tr>\n",
       "    <tr>\n",
       "      <th>498</th>\n",
       "      <td>2023-10-31 18:16:27.272</td>\n",
       "      <td>[3.0, 2.75, 2340.0, 16500.0, 1.0, 0.0, 0.0, 4.0, 8.0, 1500.0, 840.0, 47.595199585, -122.0510025024, 2210.0, 15251.0, 42.0, 0.0, 0.0]</td>\n",
       "      <td>[687786.44]</td>\n",
       "      <td>0</td>\n",
       "      <td>687786.44</td>\n",
       "    </tr>\n",
       "    <tr>\n",
       "      <th>499</th>\n",
       "      <td>2023-10-31 18:16:27.272</td>\n",
       "      <td>[3.0, 2.25, 2960.0, 8330.0, 1.0, 0.0, 3.0, 4.0, 10.0, 2260.0, 700.0, 47.7034988403, -122.3850021362, 2960.0, 8840.0, 62.0, 0.0, 0.0]</td>\n",
       "      <td>[1178313.9]</td>\n",
       "      <td>0</td>\n",
       "      <td>1178313.90</td>\n",
       "    </tr>\n",
       "  </tbody>\n",
       "</table>\n",
       "<p>500 rows × 5 columns</p>\n",
       "</div>"
      ],
      "text/plain": [
       "                       time  \\\n",
       "0   2023-10-31 18:16:27.272   \n",
       "1   2023-10-31 18:16:27.272   \n",
       "2   2023-10-31 18:16:27.272   \n",
       "3   2023-10-31 18:16:27.272   \n",
       "4   2023-10-31 18:16:27.272   \n",
       "..                      ...   \n",
       "495 2023-10-31 18:16:27.272   \n",
       "496 2023-10-31 18:16:27.272   \n",
       "497 2023-10-31 18:16:27.272   \n",
       "498 2023-10-31 18:16:27.272   \n",
       "499 2023-10-31 18:16:27.272   \n",
       "\n",
       "                                                                                                                                in.tensor  \\\n",
       "0        [3.0, 2.5, 2360.0, 4080.0, 2.0, 0.0, 0.0, 3.0, 7.0, 2360.0, 0.0, 47.6824989319, -122.0380020142, 2290.0, 4080.0, 11.0, 0.0, 0.0]   \n",
       "1        [2.0, 1.0, 920.0, 43560.0, 1.0, 0.0, 0.0, 4.0, 5.0, 920.0, 0.0, 47.5245018005, -121.9309997559, 1530.0, 11875.0, 91.0, 0.0, 0.0]   \n",
       "2         [4.0, 2.5, 2632.0, 4117.0, 2.0, 0.0, 0.0, 3.0, 8.0, 2632.0, 0.0, 47.3428001404, -122.2779998779, 2040.0, 5195.0, 1.0, 0.0, 0.0]   \n",
       "3    [4.0, 2.25, 3310.0, 8540.0, 1.0, 0.0, 4.0, 4.0, 9.0, 1660.0, 1650.0, 47.5602989197, -122.1579971313, 3450.0, 9566.0, 41.0, 0.0, 0.0]   \n",
       "4        [4.0, 2.5, 3140.0, 12792.0, 2.0, 0.0, 0.0, 4.0, 9.0, 3140.0, 0.0, 47.3862991333, -122.15599823, 2510.0, 12792.0, 37.0, 0.0, 0.0]   \n",
       "..                                                                                                                                    ...   \n",
       "495     [4.0, 2.25, 2580.0, 7344.0, 2.0, 0.0, 0.0, 3.0, 8.0, 2580.0, 0.0, 47.5647010803, -122.0899963379, 2390.0, 7507.0, 37.0, 0.0, 0.0]   \n",
       "496    [3.0, 1.75, 1960.0, 8136.0, 1.0, 0.0, 0.0, 3.0, 7.0, 980.0, 980.0, 47.5208015442, -122.3639984131, 1070.0, 7480.0, 66.0, 0.0, 0.0]   \n",
       "497    [4.0, 2.5, 2230.0, 4372.0, 2.0, 0.0, 0.0, 5.0, 8.0, 1540.0, 690.0, 47.6697998047, -122.3339996338, 2020.0, 4372.0, 79.0, 0.0, 0.0]   \n",
       "498  [3.0, 2.75, 2340.0, 16500.0, 1.0, 0.0, 0.0, 4.0, 8.0, 1500.0, 840.0, 47.595199585, -122.0510025024, 2210.0, 15251.0, 42.0, 0.0, 0.0]   \n",
       "499  [3.0, 2.25, 2960.0, 8330.0, 1.0, 0.0, 3.0, 4.0, 10.0, 2260.0, 700.0, 47.7034988403, -122.3850021362, 2960.0, 8840.0, 62.0, 0.0, 0.0]   \n",
       "\n",
       "    out.variable  check_failures    variable  \n",
       "0     [701940.7]               0   701940.70  \n",
       "1    [243300.83]               0   243300.83  \n",
       "2     [368504.3]               0   368504.30  \n",
       "3    [921561.56]               0   921561.56  \n",
       "4    [513583.06]               0   513583.06  \n",
       "..           ...             ...         ...  \n",
       "495   [701940.7]               0   701940.70  \n",
       "496  [365436.22]               0   365436.22  \n",
       "497  [682284.56]               0   682284.56  \n",
       "498  [687786.44]               0   687786.44  \n",
       "499  [1178313.9]               0  1178313.90  \n",
       "\n",
       "[500 rows x 5 columns]"
      ]
     },
     "execution_count": 14,
     "metadata": {},
     "output_type": "execute_result"
    }
   ],
   "source": [
    "# get the numpy values\n",
    "\n",
    "# set the results to a non-array value\n",
    "small_results_baseline_df = small_results.copy()\n",
    "small_results_baseline_df['variable']=small_results['out.variable'].map(lambda x: x[0])\n",
    "small_results_baseline_df"
   ]
  },
  {
   "cell_type": "code",
   "execution_count": 15,
   "metadata": {},
   "outputs": [
    {
     "data": {
      "text/plain": [
       "array([ 701940.7 ,  243300.83,  368504.3 ,  921561.56,  513583.06,\n",
       "       1004846.56,  287576.4 ,  291903.97,  283759.94,  291239.75,\n",
       "        448627.8 ,  448627.8 ,  793214.3 ,  559631.06,  437177.97,\n",
       "        320395.38,  340764.53,  365436.22,  480151.44,  557391.25,\n",
       "        530288.94,  480151.44,  375012.  ,  320863.72,  886958.6 ,\n",
       "        413013.38, 1115275.  ,  713485.7 ,  365436.22, 1100884.3 ,\n",
       "       1160512.8 ,  444885.6 ,  294203.53,  473287.25,  523576.2 ,\n",
       "        391459.97,  444408.  ,  795841.06,  283759.94, 1227073.8 ,\n",
       "        284336.47,  383833.88,  349102.75,  444408.  ,  448627.8 ,\n",
       "        684577.25,  712309.9 ,  281058.75,  341649.34,  437177.97,\n",
       "        340764.53,  349102.75,  736751.3 ,  340764.53,  448627.8 ,\n",
       "        536388.2 , 1227073.8 ,  423382.72,  827411.25,  261886.94,\n",
       "       1325960.8 ,  300988.8 ,  713979.  ,  236238.67,  448627.8 ,\n",
       "       1189654.5 ,  682284.56,  921695.4 ,  559631.06,  937359.6 ,\n",
       "        718445.7 ,  498579.5 , 1189654.5 , 1322835.6 ,  784103.56,\n",
       "        703282.7 ,  784103.56,  559923.9 ,  236238.67,  675545.44,\n",
       "        404676.1 ,  437177.97,  411000.13,  498579.5 ,  718445.7 ,\n",
       "        448627.8 ,  559139.4 ,  450867.7 ,  557391.25,  244351.92,\n",
       "        444408.  ,  727923.2 ,  446769.  ,  332134.97,  276709.06,\n",
       "        424966.6 , 1322835.6 ,  354512.44,  657905.75,  450867.7 ,\n",
       "       1052897.9 ,  544392.06,  437177.97,  837085.5 ,  380009.28,\n",
       "        448627.8 ,  464057.38,  340764.53,  294203.53,  475971.5 ,\n",
       "        827411.25,  557391.25,  324875.06,  391459.97,  555231.94,\n",
       "        448627.8 ,  546631.94,  712309.9 ,  340764.53,  675545.44,\n",
       "        683869.56,  879092.9 ,  340764.53,  721143.6 ,  437177.97,\n",
       "        723934.9 ,  263051.63,  244566.39,  727923.2 ,  281823.13,\n",
       "        437929.84,  701940.7 ,  448627.8 , 1060847.5 ,  236238.67,\n",
       "        332134.97,  287576.4 ,  448627.8 ,  718445.7 ,  435628.72,\n",
       "        266405.63,  725184.1 ,  320395.38,  559631.06,  523576.2 ,\n",
       "        680620.7 ,  328513.6 ,  937359.6 ,  448627.8 ,  324875.06,\n",
       "        829775.3 ,  630865.5 ,  557391.25, 1085835.4 ,  758714.3 ,\n",
       "        682284.56,  400561.2 , 1227073.8 ,  498579.5 ,  403520.16,\n",
       "        706407.4 ,  467484.3 ,  442168.13,  536175.7 ,  559631.06,\n",
       "        450867.7 ,  448180.78,  779810.06,  448627.8 ,  249227.83,\n",
       "        450867.7 ,  657905.75,  447162.84,  539867.1 ,  448627.8 ,\n",
       "        404676.1 ,  705013.5 ,  544392.06,  758714.3 ,  400561.2 ,\n",
       "        448627.8 ,  684577.25,  450867.7 ,  438346.38,  765468.9 ,\n",
       "        320863.72,  559631.06,  827411.25,  675545.44,  559452.94,\n",
       "        384558.4 ,  421402.1 ,  244380.27,  438346.38,  675545.44,\n",
       "        341472.13,  684577.25,  682284.56,  544392.06,  341649.34,\n",
       "        536371.2 ,  435628.72,  449229.97,  536371.2 ,  437177.97,\n",
       "        480151.44,  431929.2 ,  559923.9 ,  320863.72,  758714.3 ,\n",
       "        713485.7 ,  358668.2 ,  467484.3 ,  736751.3 ,  400561.2 ,\n",
       "        288798.1 ,  358668.2 ,  267013.97,  453195.8 ,  267013.97,\n",
       "        266405.63,  318011.4 ,  718445.7 ,  536371.2 ,  550275.1 ,\n",
       "        704672.25,  411000.13,  559631.06,  551223.44,  306037.63,\n",
       "        442168.13, 1208638.1 ,  687786.44,  450867.7 ,  348616.63,\n",
       "       1295531.8 ,  340764.53,  261886.94,  450996.34,  784103.56,\n",
       "        258377.  ,  784103.56,  682284.56,  359947.78,  495822.63,\n",
       "        513264.66,  404676.1 ,  430252.3 ,  291903.97,  559631.06,\n",
       "        244380.27,  886958.6 ,  450996.34,  630865.5 ,  243063.13,\n",
       "        557391.25,  519346.94,  276709.06,  437177.97,  340764.53,\n",
       "        340764.53,  340764.53,  424966.6 ,  538436.75,  324875.06,\n",
       "        450867.7 ,  450928.94,  711565.44,  684577.25,  403520.16,\n",
       "        403520.16,  701940.7 ,  444931.28,  236238.67,  437177.97,\n",
       "        437929.84,  296202.7 ,  557391.25,  450867.7 ,  290987.34,\n",
       "        831483.56,  532234.1 ,  758714.3 ,  434534.22,  411000.13,\n",
       "        551223.44,  244380.27,  355371.1 ,  682284.56,  333878.22,\n",
       "        435628.72,  950176.7 ,  442856.4 ,  513264.66,  758714.3 ,\n",
       "        308049.63,  400561.2 ,  725184.1 ,  713485.7 ,  718445.7 ,\n",
       "        274207.16,  723867.7 ,  718445.7 ,  283759.94,  437177.97,\n",
       "        363491.63,  458858.44,  728707.7 ,  437177.97,  437177.97,\n",
       "        413013.38,  431929.2 ,  559631.06,  303002.25,  379076.28,\n",
       "        713485.7 ,  701940.7 ,  285253.13,  450867.7 ,  987157.25,\n",
       "        725184.1 ,  437177.97,  682284.56,  450867.7 ,  241657.14,\n",
       "        920795.94,  444931.28,  921695.4 , 1060847.5 ,  450867.7 ,\n",
       "        718013.7 ,  716776.56,  701940.7 ,  393833.97,  559631.06,\n",
       "        461279.1 ,  334257.7 ,  458858.44,  283759.94,  557391.25,\n",
       "        559631.06,  686890.94,  723867.7 ,  350049.3 ,  448627.8 ,\n",
       "        937359.6 ,  711565.44, 1082353.1 ,  243300.83,  713003.4 ,\n",
       "        288798.1 ,  435628.72,  480151.44,  363491.63,  313096.  ,\n",
       "        292859.44,  448627.8 ,  444408.  ,  368504.3 ,  431929.2 ,\n",
       "        437177.97,  529302.44,  323856.28,  538316.4 ,  448627.8 ,\n",
       "        721143.6 ,  404040.78,  879083.56,  673288.6 , 1004846.56,\n",
       "        684577.25,  243063.13,  450867.7 ,  555231.94,  276709.06,\n",
       "        725184.1 ,  559452.94,  529302.44,  684577.25,  384558.4 ,\n",
       "        431992.22,  276709.06,  595497.3 ,  836230.2 ,  937359.6 ,\n",
       "        236238.67,  964052.6 ,  246901.14,  946325.75,  730767.94,\n",
       "        438346.38, 1364149.9 ,  340764.53,  296411.7 ,  701940.7 ,\n",
       "        340764.53,  879083.56,  424966.6 ,  713979.  ,  713485.7 ,\n",
       "        287576.4 ,  340764.53,  559631.06,  718445.7 ,  236238.67,\n",
       "        320863.72,  921561.56,  559631.06,  328513.6 ,  437177.97,\n",
       "        434534.22,  438514.28,  421402.1 ,  557391.25,  243585.28,\n",
       "        241852.33, 1178313.9 ,  498579.5 ,  413013.38,  544392.06,\n",
       "        252192.9 , 1489624.3 ,  448627.8 ,  437177.97,  637377.  ,\n",
       "        243300.83,  267013.97, 1322835.6 ,  236238.67,  701940.7 ,\n",
       "        435628.72,  450867.7 ,  258321.66,  380009.28,  238078.03,\n",
       "       1060847.5 ,  340764.53,  320863.72,  453195.8 ,  400561.2 ,\n",
       "        239734.08,  557391.25,  239734.08,  559452.94,  725184.1 ,\n",
       "        684577.25,  508746.63,  289684.22,  379076.28,  340764.53,\n",
       "        242591.38,  447192.22,  559452.94,  431992.22,  700294.25,\n",
       "        795841.06,  555231.94,  238078.03,  444933.25,  354512.44,\n",
       "        317765.63,  450867.7 ,  350835.9 ,  723934.9 ,  340764.53,\n",
       "        292859.44,  713979.  ,  342604.47,  544392.06,  413013.38,\n",
       "        437929.84,  448627.8 ,  236238.67,  728707.7 ,  559923.9 ,\n",
       "        684577.25,  846775.06,  536371.2 ,  241330.17,  243063.13,\n",
       "        340764.53,  921561.56,  682284.56,  542342.  ,  400561.2 ,\n",
       "        450867.7 ,  311909.6 ,  437177.97,  448627.8 ,  542342.  ,\n",
       "        300480.3 ,  288798.1 ,  446769.  ,  350835.9 ,  450867.7 ,\n",
       "        701940.7 ,  365436.22,  682284.56,  687786.44, 1178313.9 ])"
      ]
     },
     "execution_count": 15,
     "metadata": {},
     "output_type": "execute_result"
    }
   ],
   "source": [
    "# get the numpy values\n",
    "small_results_baseline = small_results_baseline_df['variable'].to_numpy()\n",
    "small_results_baseline"
   ]
  },
  {
   "cell_type": "code",
   "execution_count": 67,
   "metadata": {},
   "outputs": [],
   "source": [
    "assay_baseline_from_numpy_name = \"edge assays from numpy\"\n",
    "\n",
    "# assay builder by baseline\n",
    "assay_builder_from_numpy = wl.build_assay(assay_name=assay_baseline_from_numpy_name, \n",
    "                               pipeline=mainpipeline, \n",
    "                               model_name=model_name_control, \n",
    "                               iopath=\"output variable 0\", \n",
    "                               baseline_data = small_results_baseline)\n",
    "\n",
    "# for brand new instances, this provides time for the pipeline logs to finish writing\n",
    "time.sleep(60)"
   ]
  },
  {
   "cell_type": "code",
   "execution_count": 68,
   "metadata": {},
   "outputs": [
    {
     "ename": "AttributeError",
     "evalue": "'AssayBuilder' object has no attribute 'add_location_filter'",
     "output_type": "error",
     "traceback": [
      "\u001b[0;31m---------------------------------------------------------------------------\u001b[0m",
      "\u001b[0;31mAttributeError\u001b[0m                            Traceback (most recent call last)",
      "\u001b[0;32m/tmp/ipykernel_2056/3420244867.py\u001b[0m in \u001b[0;36m<module>\u001b[0;34m\u001b[0m\n\u001b[1;32m      1\u001b[0m \u001b[0;31m# set the width\u001b[0m\u001b[0;34m\u001b[0m\u001b[0;34m\u001b[0m\u001b[0m\n\u001b[1;32m      2\u001b[0m \u001b[0massay_builder_from_numpy\u001b[0m\u001b[0;34m.\u001b[0m\u001b[0mwindow_builder\u001b[0m\u001b[0;34m(\u001b[0m\u001b[0;34m)\u001b[0m\u001b[0;34m.\u001b[0m\u001b[0madd_width\u001b[0m\u001b[0;34m(\u001b[0m\u001b[0mminutes\u001b[0m\u001b[0;34m=\u001b[0m\u001b[0;36m1\u001b[0m\u001b[0;34m)\u001b[0m\u001b[0;34m\u001b[0m\u001b[0;34m\u001b[0m\u001b[0m\n\u001b[0;32m----> 3\u001b[0;31m \u001b[0massay_builder_from_numpy\u001b[0m\u001b[0;34m.\u001b[0m\u001b[0madd_location_filter\u001b[0m\u001b[0;34m(\u001b[0m\u001b[0;34m[\u001b[0m\u001b[0;34m'engine-6c6ccb9cf-ngg6g'\u001b[0m\u001b[0;34m,\u001b[0m \u001b[0;34m'houseprice-edgebaseline-examples'\u001b[0m\u001b[0;34m]\u001b[0m\u001b[0;34m)\u001b[0m\u001b[0;34m\u001b[0m\u001b[0;34m\u001b[0m\u001b[0m\n\u001b[0m",
      "\u001b[0;31mAttributeError\u001b[0m: 'AssayBuilder' object has no attribute 'add_location_filter'"
     ]
    }
   ],
   "source": [
    "# set the width\n",
    "assay_builder_from_numpy.window_builder().add_width(minutes=1)\n",
    "assay_builder_from_numpy.add_location_filter(['engine-6c6ccb9cf-ngg6g', 'houseprice-edgebaseline-examples'])"
   ]
  },
  {
   "cell_type": "code",
   "execution_count": 18,
   "metadata": {},
   "outputs": [],
   "source": [
    "assay_config_from_numpy = assay_builder_from_numpy.build()"
   ]
  },
  {
   "cell_type": "code",
   "execution_count": 19,
   "metadata": {},
   "outputs": [],
   "source": [
    "assay_analysis_from_numpy = assay_config_from_numpy.interactive_run()"
   ]
  },
  {
   "cell_type": "code",
   "execution_count": 20,
   "metadata": {},
   "outputs": [
    {
     "data": {
      "image/png": "[encoded data removed]",
      "text/plain": [
       "<Figure size 432x288 with 1 Axes>"
      ]
     },
     "metadata": {
      "needs_background": "light"
     },
     "output_type": "display_data"
    }
   ],
   "source": [
    "# get the histogram from the numpy baseline\n",
    "assay_builder_from_numpy.baseline_histogram()"
   ]
  },
  {
   "cell_type": "markdown",
   "metadata": {},
   "source": [
    "### Assay Testing\n",
    "\n",
    "Now we'll perform some inferences with a spread of values, then a larger set with a set of larger house values to trigger our assay alert.  We'll use our assay created from the numpy baseline values to demonstrate.\n",
    "\n",
    "Because our assay windows are 1 minutes, we'll need to stagger our inference values to be set into the proper windows.  This will take about 4 minutes."
   ]
  },
  {
   "cell_type": "code",
   "execution_count": 21,
   "metadata": {},
   "outputs": [],
   "source": [
    "# Get a spread of house values\n",
    "\n",
    "time.sleep(35)\n",
    "# regular_houses_inputs = pd.read_json('./data/xtest-1k.df.json', orient=\"records\")\n",
    "inference_size = 1000\n",
    "\n",
    "# regular_houses = regular_houses_inputs.sample(inference_size, replace=True).reset_index(drop=True)\n",
    "\n",
    "# And a spread of large house values\n",
    "\n",
    "big_houses_inputs = pd.read_json('./data/biginputs.df.json', orient=\"records\")\n",
    "big_houses = big_houses_inputs.sample(inference_size, replace=True).reset_index(drop=True)\n",
    "\n",
    "# Set the start for our assay window period.\n",
    "assay_window_start = datetime.datetime.now()\n",
    "\n",
    "mainpipeline.infer(big_houses)\n",
    "\n",
    "\n",
    "# End our assay window period\n",
    "time.sleep(35)\n",
    "assay_window_end = datetime.datetime.now()"
   ]
  },
  {
   "cell_type": "code",
   "execution_count": 22,
   "metadata": {},
   "outputs": [],
   "source": [
    "assay_builder_from_numpy.add_run_until(assay_window_end)\n",
    "assay_builder_from_numpy.window_builder().add_width(minutes=1).add_interval(minutes=1)\n",
    "assay_config_from_dates = assay_builder_from_numpy.build()\n",
    "assay_analysis_from_numpy = assay_config_from_numpy.interactive_run()"
   ]
  },
  {
   "cell_type": "code",
   "execution_count": 23,
   "metadata": {},
   "outputs": [
    {
     "name": "stdout",
     "output_type": "stream",
     "text": [
      "Generated 1 analyses\n"
     ]
    },
    {
     "data": {
      "image/png": "[encoded data removed]",
      "text/plain": [
       "<Figure size 432x288 with 1 Axes>"
      ]
     },
     "metadata": {
      "needs_background": "light"
     },
     "output_type": "display_data"
    }
   ],
   "source": [
    "# Show how many assay windows were analyzed, then show the chart\n",
    "print(f\"Generated {len(assay_analysis_from_numpy)} analyses\")\n",
    "assay_analysis_from_numpy.chart_scores()"
   ]
  },
  {
   "cell_type": "code",
   "execution_count": 24,
   "metadata": {},
   "outputs": [
    {
     "data": {
      "text/html": [
       "<div>\n",
       "<style scoped>\n",
       "    .dataframe tbody tr th:only-of-type {\n",
       "        vertical-align: middle;\n",
       "    }\n",
       "\n",
       "    .dataframe tbody tr th {\n",
       "        vertical-align: top;\n",
       "    }\n",
       "\n",
       "    .dataframe thead th {\n",
       "        text-align: right;\n",
       "    }\n",
       "</style>\n",
       "<table border=\"1\" class=\"dataframe\">\n",
       "  <thead>\n",
       "    <tr style=\"text-align: right;\">\n",
       "      <th></th>\n",
       "      <th>score</th>\n",
       "      <th>start</th>\n",
       "      <th>alert_threshold</th>\n",
       "      <th>status</th>\n",
       "    </tr>\n",
       "  </thead>\n",
       "  <tbody>\n",
       "    <tr>\n",
       "      <th>0</th>\n",
       "      <td>0.0142</td>\n",
       "      <td>2023-10-31T18:15:57.159000+00:00</td>\n",
       "      <td>0.25</td>\n",
       "      <td>Ok</td>\n",
       "    </tr>\n",
       "  </tbody>\n",
       "</table>\n",
       "</div>"
      ],
      "text/plain": [
       "    score                             start  alert_threshold status\n",
       "0  0.0142  2023-10-31T18:15:57.159000+00:00             0.25     Ok"
      ]
     },
     "metadata": {},
     "output_type": "display_data"
    }
   ],
   "source": [
    "# Display the results as a DataFrame - we're mainly interested in the score and whether the \n",
    "# alert threshold was triggered\n",
    "display(assay_analysis_from_numpy.to_dataframe().loc[:, [\"score\", \"start\", \"alert_threshold\", \"status\"]])"
   ]
  },
  {
   "cell_type": "markdown",
   "metadata": {},
   "source": [
    "## Edge Deployment\n",
    "\n",
    "### Publish Pipeline\n",
    "\n",
    "### Add Edge\n",
    "\n",
    "### DevOps Deployment\n",
    "\n",
    "## Add Edge to Assay"
   ]
  },
  {
   "cell_type": "code",
   "execution_count": 25,
   "metadata": {},
   "outputs": [
    {
     "name": "stdout",
     "output_type": "stream",
     "text": [
      "Waiting for pipeline publish... It may take up to 600 sec.\n",
      "Pipeline is Publishing.......Published.\n"
     ]
    }
   ],
   "source": [
    "assay_pub = mainpipeline.publish()"
   ]
  },
  {
   "cell_type": "code",
   "execution_count": 26,
   "metadata": {},
   "outputs": [
    {
     "data": {
      "text/html": [
       "\n",
       "          <table>\n",
       "              <tr><td>ID</td><td>41</td></tr>\n",
       "              <tr><td>Pipeline Version</td><td>2d2ca802-4fb8-4a67-8081-a9242144d664</td></tr>\n",
       "              <tr><td>Status</td><td>Published</td></tr>\n",
       "              <tr><td>Engine URL</td><td><a href='https://us-central1-docker.pkg.dev/wallaroo-dev-253816/uat/engines/proxy/wallaroo/ghcr.io/wallaroolabs/standalone-mini:v2023.4.0-main-4079'>us-central1-docker.pkg.dev/wallaroo-dev-253816/uat/engines/proxy/wallaroo/ghcr.io/wallaroolabs/standalone-mini:v2023.4.0-main-4079</a></td></tr>\n",
       "              <tr><td>Pipeline URL</td><td><a href='https://us-central1-docker.pkg.dev/wallaroo-dev-253816/uat/pipelines/housepricesagapipeline:2d2ca802-4fb8-4a67-8081-a9242144d664'>us-central1-docker.pkg.dev/wallaroo-dev-253816/uat/pipelines/housepricesagapipeline:2d2ca802-4fb8-4a67-8081-a9242144d664</a></td></tr>\n",
       "              <tr><td>Helm Chart URL</td><td><a href='https://us-central1-docker.pkg.dev/wallaroo-dev-253816/uat/charts/housepricesagapipeline'>us-central1-docker.pkg.dev/wallaroo-dev-253816/uat/charts/housepricesagapipeline</a></td></tr>\n",
       "              <tr><td>Helm Chart Reference</td><td>us-central1-docker.pkg.dev/wallaroo-dev-253816/uat/charts@sha256:25d1e0391b50345abe10915aae39d9e1cf8b8ca6d8351c52a129ccdd01e20748</td></tr>\n",
       "              <tr><td>Helm Chart Version</td><td>0.0.1-2d2ca802-4fb8-4a67-8081-a9242144d664</td></tr>\n",
       "              <tr><td>Engine Config</td><td>{'engine': {'resources': {'limits': {'cpu': 4.0, 'memory': '3Gi'}, 'requests': {'cpu': 4.0, 'memory': '3Gi'}}}, 'engineAux': {}, 'enginelb': {'resources': {'limits': {'cpu': 1.0, 'memory': '512Mi'}, 'requests': {'cpu': 0.2, 'memory': '512Mi'}}}}</td></tr>\n",
       "              <tr><td>User Images</td><td>[]</td></tr>\n",
       "              <tr><td>Created By</td><td>john.hummel@wallaroo.ai</td></tr>\n",
       "              <tr><td>Created At</td><td>2023-10-31 18:18:37.979662+00:00</td></tr>\n",
       "              <tr><td>Updated At</td><td>2023-10-31 18:18:37.979662+00:00</td></tr>\n",
       "              <tr><td>Docker Run Variables</td><td>{'EDGE_BUNDLE': 'ZXhwb3J0IEJVTkRMRV9WRVJTSU9OPTEKZXhwb3J0IEVER0VfTkFNRT1ob3VzZXByaWNlLWVkZ2ViYXNlbGluZS1leGFtcGxlcwpleHBvcnQgSk9JTl9UT0tFTj02MWFlNDA1ZC04NjU3LTQ3YWEtYjFjNi0zZjJlODYwYTZkNTcKZXhwb3J0IE9QU0NFTlRFUl9IT1NUPXByb2R1Y3QtdWF0LWVlLmVkZ2Uud2FsbGFyb29jb21tdW5pdHkubmluamEKZXhwb3J0IFBJUEVMSU5FX1VSTD11cy1jZW50cmFsMS1kb2NrZXIucGtnLmRldi93YWxsYXJvby1kZXYtMjUzODE2L3VhdC9waXBlbGluZXMvaG91c2VwcmljZXNhZ2FwaXBlbGluZToyZDJjYTgwMi00ZmI4LTRhNjctODA4MS1hOTI0MjE0NGQ2NjQKZXhwb3J0IFdPUktTUEFDRV9JRD04OQ=='}</td></tr>\n",
       "          </table>\n",
       "        "
      ],
      "text/plain": [
       "PipelinePublish(created_at=datetime.datetime(2023, 10, 31, 18, 18, 37, 979662, tzinfo=tzutc()), docker_run_variables={'EDGE_BUNDLE': 'ZXhwb3J0IEJVTkRMRV9WRVJTSU9OPTEKZXhwb3J0IEVER0VfTkFNRT1ob3VzZXByaWNlLWVkZ2ViYXNlbGluZS1leGFtcGxlcwpleHBvcnQgSk9JTl9UT0tFTj02MWFlNDA1ZC04NjU3LTQ3YWEtYjFjNi0zZjJlODYwYTZkNTcKZXhwb3J0IE9QU0NFTlRFUl9IT1NUPXByb2R1Y3QtdWF0LWVlLmVkZ2Uud2FsbGFyb29jb21tdW5pdHkubmluamEKZXhwb3J0IFBJUEVMSU5FX1VSTD11cy1jZW50cmFsMS1kb2NrZXIucGtnLmRldi93YWxsYXJvby1kZXYtMjUzODE2L3VhdC9waXBlbGluZXMvaG91c2VwcmljZXNhZ2FwaXBlbGluZToyZDJjYTgwMi00ZmI4LTRhNjctODA4MS1hOTI0MjE0NGQ2NjQKZXhwb3J0IFdPUktTUEFDRV9JRD04OQ=='}, engine_config={'engine': {'resources': {'limits': {'cpu': 4.0, 'memory': '3Gi'}, 'requests': {'cpu': 4.0, 'memory': '3Gi'}}}, 'engineAux': {}, 'enginelb': {'resources': {'limits': {'cpu': 1.0, 'memory': '512Mi'}, 'requests': {'cpu': 0.2, 'memory': '512Mi'}}}}, id=41, pipeline_version_id=223, status='Published', updated_at=datetime.datetime(2023, 10, 31, 18, 18, 37, 979662, tzinfo=tzutc()), user_images=[], created_by='d6a42dd8-1da9-4405-bb80-7c4b42e38b52', engine_url='us-central1-docker.pkg.dev/wallaroo-dev-253816/uat/engines/proxy/wallaroo/ghcr.io/wallaroolabs/standalone-mini:v2023.4.0-main-4079', error=None, helm={'reference': 'us-central1-docker.pkg.dev/wallaroo-dev-253816/uat/charts@sha256:25d1e0391b50345abe10915aae39d9e1cf8b8ca6d8351c52a129ccdd01e20748', 'values': {'edgeBundle': 'ZXhwb3J0IEJVTkRMRV9WRVJTSU9OPTEKZXhwb3J0IEVER0VfTkFNRT1ob3VzZXByaWNlLWVkZ2ViYXNlbGluZS1leGFtcGxlcwpleHBvcnQgSk9JTl9UT0tFTj02MWFlNDA1ZC04NjU3LTQ3YWEtYjFjNi0zZjJlODYwYTZkNTcKZXhwb3J0IE9QU0NFTlRFUl9IT1NUPXByb2R1Y3QtdWF0LWVlLmVkZ2Uud2FsbGFyb29jb21tdW5pdHkubmluamEKZXhwb3J0IFBJUEVMSU5FX1VSTD11cy1jZW50cmFsMS1kb2NrZXIucGtnLmRldi93YWxsYXJvby1kZXYtMjUzODE2L3VhdC9waXBlbGluZXMvaG91c2VwcmljZXNhZ2FwaXBlbGluZToyZDJjYTgwMi00ZmI4LTRhNjctODA4MS1hOTI0MjE0NGQ2NjQKZXhwb3J0IFdPUktTUEFDRV9JRD04OQ=='}, 'chart': 'us-central1-docker.pkg.dev/wallaroo-dev-253816/uat/charts/housepricesagapipeline', 'version': '0.0.1-2d2ca802-4fb8-4a67-8081-a9242144d664'}, pipeline_url='us-central1-docker.pkg.dev/wallaroo-dev-253816/uat/pipelines/housepricesagapipeline:2d2ca802-4fb8-4a67-8081-a9242144d664', pipeline_version_name='2d2ca802-4fb8-4a67-8081-a9242144d664', additional_properties={})"
      ]
     },
     "metadata": {},
     "output_type": "display_data"
    }
   ],
   "source": [
    "edge_name = f'houseprice-edge{suffix}'\n",
    "\n",
    "edge_publish = assay_pub.add_edge(edge_name)\n",
    "display(edge_publish)"
   ]
  },
  {
   "cell_type": "code",
   "execution_count": 27,
   "metadata": {},
   "outputs": [
    {
     "name": "stdout",
     "output_type": "stream",
     "text": [
      "\n",
      "docker run -p 8080:8080 \\\n",
      "    -e DEBUG=true \\\n",
      "    -e OCI_REGISTRY=$REGISTRYURL \\\n",
      "    -e EDGE_BUNDLE=ZXhwb3J0IEJVTkRMRV9WRVJTSU9OPTEKZXhwb3J0IEVER0VfTkFNRT1ob3VzZXByaWNlLWVkZ2ViYXNlbGluZS1leGFtcGxlcwpleHBvcnQgSk9JTl9UT0tFTj02MWFlNDA1ZC04NjU3LTQ3YWEtYjFjNi0zZjJlODYwYTZkNTcKZXhwb3J0IE9QU0NFTlRFUl9IT1NUPXByb2R1Y3QtdWF0LWVlLmVkZ2Uud2FsbGFyb29jb21tdW5pdHkubmluamEKZXhwb3J0IFBJUEVMSU5FX1VSTD11cy1jZW50cmFsMS1kb2NrZXIucGtnLmRldi93YWxsYXJvby1kZXYtMjUzODE2L3VhdC9waXBlbGluZXMvaG91c2VwcmljZXNhZ2FwaXBlbGluZToyZDJjYTgwMi00ZmI4LTRhNjctODA4MS1hOTI0MjE0NGQ2NjQKZXhwb3J0IFdPUktTUEFDRV9JRD04OQ== \\\n",
      "    -e CONFIG_CPUS=1 \\\n",
      "    -e OCI_USERNAME=$REGISTRYUSERNAME \\\n",
      "    -e OCI_PASSWORD=$REGISTRYPASSWORD \\\n",
      "    -e PIPELINE_URL=us-central1-docker.pkg.dev/wallaroo-dev-253816/uat/pipelines/housepricesagapipeline:2d2ca802-4fb8-4a67-8081-a9242144d664 \\\n",
      "    us-central1-docker.pkg.dev/wallaroo-dev-253816/uat/engines/proxy/wallaroo/ghcr.io/wallaroolabs/standalone-mini:v2023.4.0-main-4079\n",
      "\n"
     ]
    }
   ],
   "source": [
    "# create docker run \n",
    "\n",
    "docker_command = f'''\n",
    "docker run -p 8080:8080 \\\\\n",
    "    -e DEBUG=true \\\\\n",
    "    -e OCI_REGISTRY=$REGISTRYURL \\\\\n",
    "    -e EDGE_BUNDLE={edge_publish.docker_run_variables['EDGE_BUNDLE']} \\\\\n",
    "    -e CONFIG_CPUS=1 \\\\\n",
    "    -e OCI_USERNAME=$REGISTRYUSERNAME \\\\\n",
    "    -e OCI_PASSWORD=$REGISTRYPASSWORD \\\\\n",
    "    -e PIPELINE_URL={edge_publish.pipeline_url} \\\\\n",
    "    {edge_publish.engine_url}\n",
    "'''\n",
    "\n",
    "print(docker_command)"
   ]
  },
  {
   "cell_type": "code",
   "execution_count": 6,
   "metadata": {},
   "outputs": [
    {
     "name": "stdout",
     "output_type": "stream",
     "text": [
      "{\"pipelines\":[{\"id\":\"housepricesagapipeline\",\"status\":\"Running\"}]}"
     ]
    }
   ],
   "source": [
    "!curl testboy.local:8080/pipelines"
   ]
  },
  {
   "cell_type": "code",
   "execution_count": 7,
   "metadata": {},
   "outputs": [
    {
     "name": "stdout",
     "output_type": "stream",
     "text": [
      "  % Total    % Received % Xferd  Average Speed   Time    Time     Time  Current\n",
      "                                 Dload  Upload   Total   Spent    Left  Speed\n",
      "100  516k  100  445k  100 73100  19.9M  3272k --:--:-- --:--:-- --:--:-- 29.6M\n"
     ]
    }
   ],
   "source": [
    "!curl -X POST testboy.local:8080/pipelines/housepricesagapipeline \\\n",
    "    -H \"Content-Type: application/vnd.apache.arrow.file\" \\\n",
    "    --data-binary @./data/xtest-1k.arrow > curl_response_edge.df.json"
   ]
  },
  {
   "cell_type": "code",
   "execution_count": 47,
   "metadata": {},
   "outputs": [],
   "source": [
    "mainpipeline.export_logs(limit=50000,\n",
    "    directory='partition-edge-observability',\n",
    "    file_prefix='edge-logs',\n",
    "    dataset=['time', 'out.variable', 'metadata'])"
   ]
  },
  {
   "cell_type": "code",
   "execution_count": 64,
   "metadata": {},
   "outputs": [
    {
     "data": {
      "text/html": [
       "<div>\n",
       "<style scoped>\n",
       "    .dataframe tbody tr th:only-of-type {\n",
       "        vertical-align: middle;\n",
       "    }\n",
       "\n",
       "    .dataframe tbody tr th {\n",
       "        vertical-align: top;\n",
       "    }\n",
       "\n",
       "    .dataframe thead th {\n",
       "        text-align: right;\n",
       "    }\n",
       "</style>\n",
       "<table border=\"1\" class=\"dataframe\">\n",
       "  <thead>\n",
       "    <tr style=\"text-align: right;\">\n",
       "      <th></th>\n",
       "      <th>time</th>\n",
       "      <th>out.variable</th>\n",
       "      <th>metadata.last_model</th>\n",
       "      <th>metadata.pipeline_version</th>\n",
       "      <th>metadata.elapsed</th>\n",
       "      <th>metadata.dropped</th>\n",
       "      <th>metadata.partition</th>\n",
       "    </tr>\n",
       "  </thead>\n",
       "  <tbody>\n",
       "    <tr>\n",
       "      <th>2482</th>\n",
       "      <td>1698777454921</td>\n",
       "      <td>[292859.5]</td>\n",
       "      <td>{\"model_name\":\"housepricesagacontrol\",\"model_sha\":\"e22a0831aafd9917f3cc87a15ed267797f80e2afa12ad7d8810ca58f173b8cc6\"}</td>\n",
       "      <td></td>\n",
       "      <td>[356937, 1404771]</td>\n",
       "      <td>[]</td>\n",
       "      <td>houseprice-edgebaseline-examples</td>\n",
       "    </tr>\n",
       "    <tr>\n",
       "      <th>2483</th>\n",
       "      <td>1698777454921</td>\n",
       "      <td>[404040.8125]</td>\n",
       "      <td>{\"model_name\":\"housepricesagacontrol\",\"model_sha\":\"e22a0831aafd9917f3cc87a15ed267797f80e2afa12ad7d8810ca58f173b8cc6\"}</td>\n",
       "      <td></td>\n",
       "      <td>[356937, 1404771]</td>\n",
       "      <td>[]</td>\n",
       "      <td>houseprice-edgebaseline-examples</td>\n",
       "    </tr>\n",
       "    <tr>\n",
       "      <th>2484</th>\n",
       "      <td>1698777454921</td>\n",
       "      <td>[313096.0]</td>\n",
       "      <td>{\"model_name\":\"housepricesagacontrol\",\"model_sha\":\"e22a0831aafd9917f3cc87a15ed267797f80e2afa12ad7d8810ca58f173b8cc6\"}</td>\n",
       "      <td></td>\n",
       "      <td>[356937, 1404771]</td>\n",
       "      <td>[]</td>\n",
       "      <td>houseprice-edgebaseline-examples</td>\n",
       "    </tr>\n",
       "    <tr>\n",
       "      <th>2485</th>\n",
       "      <td>1698777454921</td>\n",
       "      <td>[909441.125]</td>\n",
       "      <td>{\"model_name\":\"housepricesagacontrol\",\"model_sha\":\"e22a0831aafd9917f3cc87a15ed267797f80e2afa12ad7d8810ca58f173b8cc6\"}</td>\n",
       "      <td></td>\n",
       "      <td>[356937, 1404771]</td>\n",
       "      <td>[]</td>\n",
       "      <td>houseprice-edgebaseline-examples</td>\n",
       "    </tr>\n",
       "    <tr>\n",
       "      <th>2486</th>\n",
       "      <td>1698777454921</td>\n",
       "      <td>[559631.125]</td>\n",
       "      <td>{\"model_name\":\"housepricesagacontrol\",\"model_sha\":\"e22a0831aafd9917f3cc87a15ed267797f80e2afa12ad7d8810ca58f173b8cc6\"}</td>\n",
       "      <td></td>\n",
       "      <td>[356937, 1404771]</td>\n",
       "      <td>[]</td>\n",
       "      <td>houseprice-edgebaseline-examples</td>\n",
       "    </tr>\n",
       "    <tr>\n",
       "      <th>2487</th>\n",
       "      <td>1698777454921</td>\n",
       "      <td>[630865.625]</td>\n",
       "      <td>{\"model_name\":\"housepricesagacontrol\",\"model_sha\":\"e22a0831aafd9917f3cc87a15ed267797f80e2afa12ad7d8810ca58f173b8cc6\"}</td>\n",
       "      <td></td>\n",
       "      <td>[356937, 1404771]</td>\n",
       "      <td>[]</td>\n",
       "      <td>houseprice-edgebaseline-examples</td>\n",
       "    </tr>\n",
       "    <tr>\n",
       "      <th>2488</th>\n",
       "      <td>1698777454921</td>\n",
       "      <td>[442168.0625]</td>\n",
       "      <td>{\"model_name\":\"housepricesagacontrol\",\"model_sha\":\"e22a0831aafd9917f3cc87a15ed267797f80e2afa12ad7d8810ca58f173b8cc6\"}</td>\n",
       "      <td></td>\n",
       "      <td>[356937, 1404771]</td>\n",
       "      <td>[]</td>\n",
       "      <td>houseprice-edgebaseline-examples</td>\n",
       "    </tr>\n",
       "    <tr>\n",
       "      <th>2489</th>\n",
       "      <td>1698777454921</td>\n",
       "      <td>[340764.53125]</td>\n",
       "      <td>{\"model_name\":\"housepricesagacontrol\",\"model_sha\":\"e22a0831aafd9917f3cc87a15ed267797f80e2afa12ad7d8810ca58f173b8cc6\"}</td>\n",
       "      <td></td>\n",
       "      <td>[356937, 1404771]</td>\n",
       "      <td>[]</td>\n",
       "      <td>houseprice-edgebaseline-examples</td>\n",
       "    </tr>\n",
       "    <tr>\n",
       "      <th>2490</th>\n",
       "      <td>1698777454921</td>\n",
       "      <td>[559631.125]</td>\n",
       "      <td>{\"model_name\":\"housepricesagacontrol\",\"model_sha\":\"e22a0831aafd9917f3cc87a15ed267797f80e2afa12ad7d8810ca58f173b8cc6\"}</td>\n",
       "      <td></td>\n",
       "      <td>[356937, 1404771]</td>\n",
       "      <td>[]</td>\n",
       "      <td>houseprice-edgebaseline-examples</td>\n",
       "    </tr>\n",
       "    <tr>\n",
       "      <th>2491</th>\n",
       "      <td>1698777454921</td>\n",
       "      <td>[727898.125]</td>\n",
       "      <td>{\"model_name\":\"housepricesagacontrol\",\"model_sha\":\"e22a0831aafd9917f3cc87a15ed267797f80e2afa12ad7d8810ca58f173b8cc6\"}</td>\n",
       "      <td></td>\n",
       "      <td>[356937, 1404771]</td>\n",
       "      <td>[]</td>\n",
       "      <td>houseprice-edgebaseline-examples</td>\n",
       "    </tr>\n",
       "    <tr>\n",
       "      <th>2492</th>\n",
       "      <td>1698777454921</td>\n",
       "      <td>[684577.125]</td>\n",
       "      <td>{\"model_name\":\"housepricesagacontrol\",\"model_sha\":\"e22a0831aafd9917f3cc87a15ed267797f80e2afa12ad7d8810ca58f173b8cc6\"}</td>\n",
       "      <td></td>\n",
       "      <td>[356937, 1404771]</td>\n",
       "      <td>[]</td>\n",
       "      <td>houseprice-edgebaseline-examples</td>\n",
       "    </tr>\n",
       "    <tr>\n",
       "      <th>2493</th>\n",
       "      <td>1698777454921</td>\n",
       "      <td>[1004846.625]</td>\n",
       "      <td>{\"model_name\":\"housepricesagacontrol\",\"model_sha\":\"e22a0831aafd9917f3cc87a15ed267797f80e2afa12ad7d8810ca58f173b8cc6\"}</td>\n",
       "      <td></td>\n",
       "      <td>[356937, 1404771]</td>\n",
       "      <td>[]</td>\n",
       "      <td>houseprice-edgebaseline-examples</td>\n",
       "    </tr>\n",
       "    <tr>\n",
       "      <th>2494</th>\n",
       "      <td>1698777454921</td>\n",
       "      <td>[668287.9375]</td>\n",
       "      <td>{\"model_name\":\"housepricesagacontrol\",\"model_sha\":\"e22a0831aafd9917f3cc87a15ed267797f80e2afa12ad7d8810ca58f173b8cc6\"}</td>\n",
       "      <td></td>\n",
       "      <td>[356937, 1404771]</td>\n",
       "      <td>[]</td>\n",
       "      <td>houseprice-edgebaseline-examples</td>\n",
       "    </tr>\n",
       "    <tr>\n",
       "      <th>2495</th>\n",
       "      <td>1698777454921</td>\n",
       "      <td>[513264.625]</td>\n",
       "      <td>{\"model_name\":\"housepricesagacontrol\",\"model_sha\":\"e22a0831aafd9917f3cc87a15ed267797f80e2afa12ad7d8810ca58f173b8cc6\"}</td>\n",
       "      <td></td>\n",
       "      <td>[356937, 1404771]</td>\n",
       "      <td>[]</td>\n",
       "      <td>houseprice-edgebaseline-examples</td>\n",
       "    </tr>\n",
       "    <tr>\n",
       "      <th>2496</th>\n",
       "      <td>1698777454921</td>\n",
       "      <td>[758714.1875]</td>\n",
       "      <td>{\"model_name\":\"housepricesagacontrol\",\"model_sha\":\"e22a0831aafd9917f3cc87a15ed267797f80e2afa12ad7d8810ca58f173b8cc6\"}</td>\n",
       "      <td></td>\n",
       "      <td>[356937, 1404771]</td>\n",
       "      <td>[]</td>\n",
       "      <td>houseprice-edgebaseline-examples</td>\n",
       "    </tr>\n",
       "    <tr>\n",
       "      <th>2497</th>\n",
       "      <td>1698777454921</td>\n",
       "      <td>[448627.6875]</td>\n",
       "      <td>{\"model_name\":\"housepricesagacontrol\",\"model_sha\":\"e22a0831aafd9917f3cc87a15ed267797f80e2afa12ad7d8810ca58f173b8cc6\"}</td>\n",
       "      <td></td>\n",
       "      <td>[356937, 1404771]</td>\n",
       "      <td>[]</td>\n",
       "      <td>houseprice-edgebaseline-examples</td>\n",
       "    </tr>\n",
       "    <tr>\n",
       "      <th>2498</th>\n",
       "      <td>1698777454921</td>\n",
       "      <td>[615094.5625]</td>\n",
       "      <td>{\"model_name\":\"housepricesagacontrol\",\"model_sha\":\"e22a0831aafd9917f3cc87a15ed267797f80e2afa12ad7d8810ca58f173b8cc6\"}</td>\n",
       "      <td></td>\n",
       "      <td>[356937, 1404771]</td>\n",
       "      <td>[]</td>\n",
       "      <td>houseprice-edgebaseline-examples</td>\n",
       "    </tr>\n",
       "    <tr>\n",
       "      <th>2499</th>\n",
       "      <td>1698777454921</td>\n",
       "      <td>[718013.6875]</td>\n",
       "      <td>{\"model_name\":\"housepricesagacontrol\",\"model_sha\":\"e22a0831aafd9917f3cc87a15ed267797f80e2afa12ad7d8810ca58f173b8cc6\"}</td>\n",
       "      <td></td>\n",
       "      <td>[356937, 1404771]</td>\n",
       "      <td>[]</td>\n",
       "      <td>houseprice-edgebaseline-examples</td>\n",
       "    </tr>\n",
       "    <tr>\n",
       "      <th>2500</th>\n",
       "      <td>1698776157195</td>\n",
       "      <td>[1514079.375]</td>\n",
       "      <td>{\"model_name\":\"housepricesagacontrol\",\"model_sha\":\"e22a0831aafd9917f3cc87a15ed267797f80e2afa12ad7d8810ca58f173b8cc6\"}</td>\n",
       "      <td>e96d2fde-84a2-44a0-aa1e-eaa3018da51a</td>\n",
       "      <td>[42600, 275002]</td>\n",
       "      <td>[]</td>\n",
       "      <td>engine-6c6ccb9cf-ngg6g</td>\n",
       "    </tr>\n",
       "    <tr>\n",
       "      <th>2501</th>\n",
       "      <td>1698776157159</td>\n",
       "      <td>[718013.6875]</td>\n",
       "      <td>{\"model_name\":\"housepricesagacontrol\",\"model_sha\":\"e22a0831aafd9917f3cc87a15ed267797f80e2afa12ad7d8810ca58f173b8cc6\"}</td>\n",
       "      <td>e96d2fde-84a2-44a0-aa1e-eaa3018da51a</td>\n",
       "      <td>[107801, 325003]</td>\n",
       "      <td>[]</td>\n",
       "      <td>engine-6c6ccb9cf-ngg6g</td>\n",
       "    </tr>\n",
       "  </tbody>\n",
       "</table>\n",
       "</div>"
      ],
      "text/plain": [
       "               time    out.variable  \\\n",
       "2482  1698777454921      [292859.5]   \n",
       "2483  1698777454921   [404040.8125]   \n",
       "2484  1698777454921      [313096.0]   \n",
       "2485  1698777454921    [909441.125]   \n",
       "2486  1698777454921    [559631.125]   \n",
       "2487  1698777454921    [630865.625]   \n",
       "2488  1698777454921   [442168.0625]   \n",
       "2489  1698777454921  [340764.53125]   \n",
       "2490  1698777454921    [559631.125]   \n",
       "2491  1698777454921    [727898.125]   \n",
       "2492  1698777454921    [684577.125]   \n",
       "2493  1698777454921   [1004846.625]   \n",
       "2494  1698777454921   [668287.9375]   \n",
       "2495  1698777454921    [513264.625]   \n",
       "2496  1698777454921   [758714.1875]   \n",
       "2497  1698777454921   [448627.6875]   \n",
       "2498  1698777454921   [615094.5625]   \n",
       "2499  1698777454921   [718013.6875]   \n",
       "2500  1698776157195   [1514079.375]   \n",
       "2501  1698776157159   [718013.6875]   \n",
       "\n",
       "                                                                                                        metadata.last_model  \\\n",
       "2482  {\"model_name\":\"housepricesagacontrol\",\"model_sha\":\"e22a0831aafd9917f3cc87a15ed267797f80e2afa12ad7d8810ca58f173b8cc6\"}   \n",
       "2483  {\"model_name\":\"housepricesagacontrol\",\"model_sha\":\"e22a0831aafd9917f3cc87a15ed267797f80e2afa12ad7d8810ca58f173b8cc6\"}   \n",
       "2484  {\"model_name\":\"housepricesagacontrol\",\"model_sha\":\"e22a0831aafd9917f3cc87a15ed267797f80e2afa12ad7d8810ca58f173b8cc6\"}   \n",
       "2485  {\"model_name\":\"housepricesagacontrol\",\"model_sha\":\"e22a0831aafd9917f3cc87a15ed267797f80e2afa12ad7d8810ca58f173b8cc6\"}   \n",
       "2486  {\"model_name\":\"housepricesagacontrol\",\"model_sha\":\"e22a0831aafd9917f3cc87a15ed267797f80e2afa12ad7d8810ca58f173b8cc6\"}   \n",
       "2487  {\"model_name\":\"housepricesagacontrol\",\"model_sha\":\"e22a0831aafd9917f3cc87a15ed267797f80e2afa12ad7d8810ca58f173b8cc6\"}   \n",
       "2488  {\"model_name\":\"housepricesagacontrol\",\"model_sha\":\"e22a0831aafd9917f3cc87a15ed267797f80e2afa12ad7d8810ca58f173b8cc6\"}   \n",
       "2489  {\"model_name\":\"housepricesagacontrol\",\"model_sha\":\"e22a0831aafd9917f3cc87a15ed267797f80e2afa12ad7d8810ca58f173b8cc6\"}   \n",
       "2490  {\"model_name\":\"housepricesagacontrol\",\"model_sha\":\"e22a0831aafd9917f3cc87a15ed267797f80e2afa12ad7d8810ca58f173b8cc6\"}   \n",
       "2491  {\"model_name\":\"housepricesagacontrol\",\"model_sha\":\"e22a0831aafd9917f3cc87a15ed267797f80e2afa12ad7d8810ca58f173b8cc6\"}   \n",
       "2492  {\"model_name\":\"housepricesagacontrol\",\"model_sha\":\"e22a0831aafd9917f3cc87a15ed267797f80e2afa12ad7d8810ca58f173b8cc6\"}   \n",
       "2493  {\"model_name\":\"housepricesagacontrol\",\"model_sha\":\"e22a0831aafd9917f3cc87a15ed267797f80e2afa12ad7d8810ca58f173b8cc6\"}   \n",
       "2494  {\"model_name\":\"housepricesagacontrol\",\"model_sha\":\"e22a0831aafd9917f3cc87a15ed267797f80e2afa12ad7d8810ca58f173b8cc6\"}   \n",
       "2495  {\"model_name\":\"housepricesagacontrol\",\"model_sha\":\"e22a0831aafd9917f3cc87a15ed267797f80e2afa12ad7d8810ca58f173b8cc6\"}   \n",
       "2496  {\"model_name\":\"housepricesagacontrol\",\"model_sha\":\"e22a0831aafd9917f3cc87a15ed267797f80e2afa12ad7d8810ca58f173b8cc6\"}   \n",
       "2497  {\"model_name\":\"housepricesagacontrol\",\"model_sha\":\"e22a0831aafd9917f3cc87a15ed267797f80e2afa12ad7d8810ca58f173b8cc6\"}   \n",
       "2498  {\"model_name\":\"housepricesagacontrol\",\"model_sha\":\"e22a0831aafd9917f3cc87a15ed267797f80e2afa12ad7d8810ca58f173b8cc6\"}   \n",
       "2499  {\"model_name\":\"housepricesagacontrol\",\"model_sha\":\"e22a0831aafd9917f3cc87a15ed267797f80e2afa12ad7d8810ca58f173b8cc6\"}   \n",
       "2500  {\"model_name\":\"housepricesagacontrol\",\"model_sha\":\"e22a0831aafd9917f3cc87a15ed267797f80e2afa12ad7d8810ca58f173b8cc6\"}   \n",
       "2501  {\"model_name\":\"housepricesagacontrol\",\"model_sha\":\"e22a0831aafd9917f3cc87a15ed267797f80e2afa12ad7d8810ca58f173b8cc6\"}   \n",
       "\n",
       "                 metadata.pipeline_version   metadata.elapsed  \\\n",
       "2482                                        [356937, 1404771]   \n",
       "2483                                        [356937, 1404771]   \n",
       "2484                                        [356937, 1404771]   \n",
       "2485                                        [356937, 1404771]   \n",
       "2486                                        [356937, 1404771]   \n",
       "2487                                        [356937, 1404771]   \n",
       "2488                                        [356937, 1404771]   \n",
       "2489                                        [356937, 1404771]   \n",
       "2490                                        [356937, 1404771]   \n",
       "2491                                        [356937, 1404771]   \n",
       "2492                                        [356937, 1404771]   \n",
       "2493                                        [356937, 1404771]   \n",
       "2494                                        [356937, 1404771]   \n",
       "2495                                        [356937, 1404771]   \n",
       "2496                                        [356937, 1404771]   \n",
       "2497                                        [356937, 1404771]   \n",
       "2498                                        [356937, 1404771]   \n",
       "2499                                        [356937, 1404771]   \n",
       "2500  e96d2fde-84a2-44a0-aa1e-eaa3018da51a    [42600, 275002]   \n",
       "2501  e96d2fde-84a2-44a0-aa1e-eaa3018da51a   [107801, 325003]   \n",
       "\n",
       "     metadata.dropped                metadata.partition  \n",
       "2482               []  houseprice-edgebaseline-examples  \n",
       "2483               []  houseprice-edgebaseline-examples  \n",
       "2484               []  houseprice-edgebaseline-examples  \n",
       "2485               []  houseprice-edgebaseline-examples  \n",
       "2486               []  houseprice-edgebaseline-examples  \n",
       "2487               []  houseprice-edgebaseline-examples  \n",
       "2488               []  houseprice-edgebaseline-examples  \n",
       "2489               []  houseprice-edgebaseline-examples  \n",
       "2490               []  houseprice-edgebaseline-examples  \n",
       "2491               []  houseprice-edgebaseline-examples  \n",
       "2492               []  houseprice-edgebaseline-examples  \n",
       "2493               []  houseprice-edgebaseline-examples  \n",
       "2494               []  houseprice-edgebaseline-examples  \n",
       "2495               []  houseprice-edgebaseline-examples  \n",
       "2496               []  houseprice-edgebaseline-examples  \n",
       "2497               []  houseprice-edgebaseline-examples  \n",
       "2498               []  houseprice-edgebaseline-examples  \n",
       "2499               []  houseprice-edgebaseline-examples  \n",
       "2500               []            engine-6c6ccb9cf-ngg6g  \n",
       "2501               []            engine-6c6ccb9cf-ngg6g  "
      ]
     },
     "metadata": {},
     "output_type": "display_data"
    },
    {
     "data": {
      "text/plain": [
       "['engine-6c6ccb9cf-ngg6g', 'houseprice-edgebaseline-examples']"
      ]
     },
     "metadata": {},
     "output_type": "display_data"
    }
   ],
   "source": [
    "# display the head 20 results\n",
    "\n",
    "df_logs = pd.read_json('./partition-edge-observability/edge-logs-1.json', orient=\"records\", lines=True)\n",
    "display(df_logs.tail(20))\n",
    "\n",
    "display(pd.unique(df_logs['metadata.partition']).tolist())"
   ]
  },
  {
   "cell_type": "code",
   "execution_count": 66,
   "metadata": {},
   "outputs": [
    {
     "ename": "AttributeError",
     "evalue": "'AssayBuilder' object has no attribute 'add_location_filter'",
     "output_type": "error",
     "traceback": [
      "\u001b[0;31m---------------------------------------------------------------------------\u001b[0m",
      "\u001b[0;31mAttributeError\u001b[0m                            Traceback (most recent call last)",
      "\u001b[0;32m/tmp/ipykernel_2056/4052956881.py\u001b[0m in \u001b[0;36m<module>\u001b[0;34m\u001b[0m\n\u001b[0;32m----> 1\u001b[0;31m \u001b[0massay_builder_from_numpy\u001b[0m\u001b[0;34m.\u001b[0m\u001b[0madd_location_filter\u001b[0m\u001b[0;34m(\u001b[0m\u001b[0mlocations\u001b[0m\u001b[0;34m=\u001b[0m\u001b[0mpd\u001b[0m\u001b[0;34m.\u001b[0m\u001b[0munique\u001b[0m\u001b[0;34m(\u001b[0m\u001b[0mdf_logs\u001b[0m\u001b[0;34m[\u001b[0m\u001b[0;34m'metadata.partition'\u001b[0m\u001b[0;34m]\u001b[0m\u001b[0;34m)\u001b[0m\u001b[0;34m.\u001b[0m\u001b[0mtolist\u001b[0m\u001b[0;34m(\u001b[0m\u001b[0;34m)\u001b[0m\u001b[0;34m)\u001b[0m\u001b[0;34m\u001b[0m\u001b[0;34m\u001b[0m\u001b[0m\n\u001b[0m",
      "\u001b[0;31mAttributeError\u001b[0m: 'AssayBuilder' object has no attribute 'add_location_filter'"
     ]
    }
   ],
   "source": [
    "assay_builder_from_numpy.add_location_filter(['engine-6c6ccb9cf-ngg6g', 'houseprice-edgebaseline-examples'])"
   ]
  },
  {
   "cell_type": "markdown",
   "metadata": {},
   "source": [
    "### Upload Assay\n",
    "\n",
    "With the assay created and fully tested, we will upload it to the Wallaroo instance.  This will make it available for future demonstrations and visible through the Wallaroo UI."
   ]
  },
  {
   "cell_type": "code",
   "execution_count": null,
   "metadata": {},
   "outputs": [],
   "source": []
  },
  {
   "cell_type": "code",
   "execution_count": null,
   "metadata": {},
   "outputs": [],
   "source": [
    "assay_builder_from_numpy.upload()"
   ]
  },
  {
   "cell_type": "markdown",
   "metadata": {},
   "source": [
    "### Undeploy Main Pipeline\n",
    "\n",
    "With the examples and tutorial complete, we will undeploy the main pipeline and return the resources back to the Wallaroo instance."
   ]
  },
  {
   "cell_type": "code",
   "execution_count": 55,
   "metadata": {},
   "outputs": [
    {
     "name": "stdout",
     "output_type": "stream",
     "text": [
      "Waiting for undeployment - this will take up to 45s .................................... ok\n"
     ]
    },
    {
     "data": {
      "text/html": [
       "<table><tr><th>name</th> <td>housepricesagapipeline</td></tr><tr><th>created</th> <td>2023-10-31 18:15:22.006805+00:00</td></tr><tr><th>last_updated</th> <td>2023-10-31 18:18:37.854174+00:00</td></tr><tr><th>deployed</th> <td>False</td></tr><tr><th>tags</th> <td></td></tr><tr><th>versions</th> <td>2d2ca802-4fb8-4a67-8081-a9242144d664, e96d2fde-84a2-44a0-aa1e-eaa3018da51a, 515bb61b-545b-4816-8e93-ab376472cd10</td></tr><tr><th>steps</th> <td>housepricesagacontrol</td></tr><tr><th>published</th> <td>False</td></tr></table>"
      ],
      "text/plain": [
       "{'name': 'housepricesagapipeline', 'create_time': datetime.datetime(2023, 10, 31, 18, 15, 22, 6805, tzinfo=tzutc()), 'definition': \"[{'ModelInference': {'models': [{'name': 'housepricesagacontrol', 'version': '65241949-fc51-4e05-b81e-e0e06a8c855c', 'sha': 'e22a0831aafd9917f3cc87a15ed267797f80e2afa12ad7d8810ca58f173b8cc6'}]}}]\"}"
      ]
     },
     "execution_count": 55,
     "metadata": {},
     "output_type": "execute_result"
    }
   ],
   "source": [
    "mainpipeline.undeploy()"
   ]
  },
  {
   "cell_type": "code",
   "execution_count": null,
   "metadata": {},
   "outputs": [],
   "source": []
  }
 ],
 "metadata": {
  "kernelspec": {
   "display_name": "Python 3 (ipykernel)",
   "language": "python",
   "name": "python3"
  },
  "language_info": {
   "codemirror_mode": {
    "name": "ipython",
    "version": 3
   },
   "file_extension": ".py",
   "mimetype": "text/x-python",
   "name": "python",
   "nbconvert_exporter": "python",
   "pygments_lexer": "ipython3",
   "version": "3.9.13"
  },
  "vscode": {
   "interpreter": {
    "hash": "7dda4bf3640b7fafcd1648658b879b4cc9f6ba6084e8fb356fdaaa1a461d1690"
   }
  }
 },
 "nbformat": 4,
 "nbformat_minor": 4
}
