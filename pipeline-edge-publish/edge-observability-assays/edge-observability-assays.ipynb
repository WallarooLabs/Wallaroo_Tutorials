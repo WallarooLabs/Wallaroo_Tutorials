{
 "cells": [
  {
   "cell_type": "markdown",
   "metadata": {},
   "source": [
    "This tutorial and the assets can be downloaded as part of the [Wallaroo Tutorials repository](https://github.com/WallarooLabs/Wallaroo_Tutorials/blob/main/pipeline-edge-publish/edge-observability-assays).\n",
    "\n",
    "## Wallaroo Edge Observability with Assays Tutorial\n",
    "\n",
    "This notebook is designed to demonstrate the Wallaroo Edge Observability with Wallaroo Assays.  This notebook will walk through the process of:\n",
    "\n",
    "* Setting up a workspace, pipeline, and model for deriving the price of a house based on inputs.\n",
    "* Creating an assay from a sample of inferences.\n",
    "* Display the inference result and upload the assay to the Wallaroo instance where it can be referenced later.\n",
    "* Deploying the Wallaroo pipeline as a Wallaroo Server deployed on an edge device.\n",
    "* Adding the edge device location to the pipeline's publish.\n",
    "* Updating the assay to use the edge location's inferences for assays.\n",
    "\n",
    "This tutorial provides the following:\n",
    "\n",
    "* Models:\n",
    "  * `models/rf_model.onnx`: The champion model that has been used in this environment for some time.\n",
    "  * `models/xgb_model.onnx` and `models/gbr_model.onnx`: Rival models that will be tested against the champion.\n",
    "* Data:\n",
    "  * `data/xtest-1.df.json` and `data/xtest-1k.df.json`:  DataFrame JSON inference inputs with 1 input and 1,000 inputs.\n",
    "  * `data/xtest-1k.arrow`:  Apache Arrow inference inputs with 1 input and 1,000 inputs.\n",
    "\n",
    "## Prerequisites\n",
    "\n",
    "* A deployed Wallaroo instance\n",
    "* The following Python libraries installed:\n",
    "  * [`wallaroo`](https://pypi.org/project/wallaroo/): The Wallaroo SDK. Included with the Wallaroo JupyterHub service by default.\n",
    "  * [`pandas`](https://pypi.org/project/pandas/): Pandas, mainly used for Pandas DataFrame"
   ]
  },
  {
   "cell_type": "markdown",
   "metadata": {},
   "source": [
    "## Initial Steps\n",
    "\n",
    "### Import libraries\n",
    "\n",
    "The first step is to import the libraries needed for this notebook."
   ]
  },
  {
   "cell_type": "code",
   "execution_count": 1,
   "metadata": {},
   "outputs": [],
   "source": [
    "import wallaroo\n",
    "from wallaroo.object import EntityNotFoundError\n",
    "from wallaroo.framework import Framework\n",
    "\n",
    "from IPython.display import display\n",
    "\n",
    "# used to display DataFrame information without truncating\n",
    "from IPython.display import display\n",
    "import pandas as pd\n",
    "pd.set_option('display.max_colwidth', None)\n",
    "\n",
    "import datetime\n",
    "import time\n",
    "\n"
   ]
  },
  {
   "cell_type": "code",
   "execution_count": 2,
   "metadata": {},
   "outputs": [],
   "source": [
    "# used for unique connection names\n",
    "\n",
    "import string\n",
    "import random\n",
    "\n",
    "edge_suffix= ''.join(random.choice(string.ascii_lowercase) for i in range(4))\n",
    "suffix=''\n",
    "\n",
    "# used to make a unique workspace\n",
    "suffix='houseprice-demo'\n",
    "\n",
    "workspace_name = f'edge-observability-{suffix}'\n",
    "main_pipeline_name = f'houseprice-estimation'\n",
    "model_name_control = f'housepricesagacontrol'\n",
    "model_file_name_control = './models/rf_model.onnx'\n",
    "\n",
    "# Set the name of the assay\n",
    "edge_name=f\"house-price-edge-{edge_suffix}\""
   ]
  },
  {
   "cell_type": "code",
   "execution_count": 3,
   "metadata": {},
   "outputs": [],
   "source": [
    "def get_workspace(name):\n",
    "    workspace = None\n",
    "    for ws in wl.list_workspaces():\n",
    "        if ws.name() == name:\n",
    "            workspace= ws\n",
    "    if(workspace == None):\n",
    "        workspace = wl.create_workspace(name)\n",
    "    return workspace\n",
    "\n",
    "def get_pipeline(name, workspace):\n",
    "    pipelines = workspace.pipelines()\n",
    "    pipe_filter = filter(lambda x: x.name() == name, pipelines)\n",
    "    pipes = list(pipe_filter)\n",
    "    # we can't have a pipe in the workspace with the same name, so it's always the first\n",
    "    if pipes:\n",
    "        pipeline = pipes[0]\n",
    "    else:\n",
    "        pipeline = wl.build_pipeline(name)\n",
    "    return pipeline"
   ]
  },
  {
   "cell_type": "markdown",
   "metadata": {},
   "source": [
    "### Connect to the Wallaroo Instance\n",
    "\n",
    "The first step is to connect to Wallaroo through the Wallaroo client.  The Python library is included in the Wallaroo install and available through the Jupyter Hub interface provided with your Wallaroo environment.\n",
    "\n",
    "This is accomplished using the `wallaroo.Client()` command, which provides a URL to grant the SDK permission to your specific Wallaroo environment.  When displayed, enter the URL into a browser and confirm permissions.  Store the connection into a variable that can be referenced later.\n",
    "\n",
    "If logging into the Wallaroo instance through the internal JupyterHub service, use `wl = wallaroo.Client()`.  For more information on Wallaroo Client settings, see the [Client Connection guide](https://docs.wallaroo.ai/wallaroo-developer-guides/wallaroo-sdk-guides/wallaroo-sdk-essentials-guide/wallaroo-sdk-essentials-client/)."
   ]
  },
  {
   "cell_type": "code",
   "execution_count": 4,
   "metadata": {},
   "outputs": [],
   "source": [
    "# Login through local Wallaroo instance\n",
    "\n",
    "wl = wallaroo.Client()\n",
    "\n",
    "wallarooPrefix = \"doc-test.\"\n",
    "wallarooSuffix = \"wallaroocommunity.ninja\"\n",
    "\n",
    "wl = wallaroo.Client(api_endpoint=f\"https://{wallarooPrefix}api.{wallarooSuffix}\", \n",
    "                    auth_endpoint=f\"https://{wallarooPrefix}keycloak.{wallarooSuffix}\", \n",
    "                    auth_type=\"sso\")"
   ]
  },
  {
   "cell_type": "markdown",
   "metadata": {},
   "source": [
    "### Create Workspace\n",
    "\n",
    "We will create a workspace to manage our pipeline and models.  The following variables will set the name of our sample workspace then set it as the current workspace.\n",
    "\n",
    "Workspace, pipeline, and model names should be unique to each user, so we'll add in a randomly generated suffix so multiple people can run this tutorial in a Wallaroo instance without effecting each other.\n",
    "\n",
    "* References\n",
    "  * [Wallaroo SDK Essentials Guide: Workspace Management](https://docs.wallaroo.ai/wallaroo-developer-guides/wallaroo-sdk-guides/wallaroo-sdk-essentials-guide/wallaroo-sdk-essentials-workspace/)"
   ]
  },
  {
   "cell_type": "code",
   "execution_count": 5,
   "metadata": {},
   "outputs": [
    {
     "data": {
      "text/plain": [
       "{'name': 'edge-observability-houseprice-demo', 'id': 13, 'archived': False, 'created_by': 'd235558f-f5e6-4651-9c54-161607177dad', 'created_at': '2023-12-05T19:43:39.240681+00:00', 'models': [], 'pipelines': []}"
      ]
     },
     "execution_count": 5,
     "metadata": {},
     "output_type": "execute_result"
    }
   ],
   "source": [
    "workspace = get_workspace(workspace_name)\n",
    "\n",
    "wl.set_current_workspace(workspace)"
   ]
  },
  {
   "cell_type": "markdown",
   "metadata": {},
   "source": [
    "### Upload The Champion Model\n",
    "\n",
    "For our example, we will upload the champion model that has been trained to derive house prices from a variety of inputs.  The model file is `rf_model.onnx`, and is uploaded with the name `housingcontrol`.\n",
    "\n",
    "* References\n",
    "  * [Wallaroo SDK Essentials Guide: Model Uploads and Registrations](https://docs.wallaroo.ai/wallaroo-developer-guides/wallaroo-sdk-guides/wallaroo-sdk-essentials-guide/wallaroo-sdk-model-uploads/)"
   ]
  },
  {
   "cell_type": "code",
   "execution_count": 6,
   "metadata": {},
   "outputs": [],
   "source": [
    "housing_model_control = (wl.upload_model(model_name_control, \n",
    "                                        model_file_name_control, \n",
    "                                        framework=Framework.ONNX)\n",
    "                                        .configure(tensor_fields=[\"tensor\"])\n",
    "                        )"
   ]
  },
  {
   "cell_type": "markdown",
   "metadata": {},
   "source": [
    "## Standard Pipeline Steps\n",
    "\n",
    "### Build the Pipeline\n",
    "\n",
    "This pipeline is made to be an example of an existing situation where a model is deployed and being used for inferences in a production environment.  We'll call it `housepricepipeline`, set `housingcontrol` as a pipeline step, then run a few sample inferences.\n",
    "\n",
    "This pipeline will be a simple one - just a single pipeline step.\n",
    "\n",
    "* References\n",
    "  * [Wallaroo SDK Essentials Guide: Pipeline Management](https://docs.wallaroo.ai/wallaroo-developer-guides/wallaroo-sdk-guides/wallaroo-sdk-essentials-guide/wallaroo-sdk-essentials-pipelines/wallaroo-sdk-essentials-pipeline/)"
   ]
  },
  {
   "cell_type": "code",
   "execution_count": 7,
   "metadata": {},
   "outputs": [],
   "source": [
    "mainpipeline = get_pipeline(main_pipeline_name, workspace)"
   ]
  },
  {
   "cell_type": "code",
   "execution_count": 8,
   "metadata": {},
   "outputs": [
    {
     "data": {
      "text/html": [
       "<table><tr><th>name</th> <td>houseprice-estimation</td></tr><tr><th>created</th> <td>2023-12-05 19:43:42.648290+00:00</td></tr><tr><th>last_updated</th> <td>2023-12-05 19:43:43.896459+00:00</td></tr><tr><th>deployed</th> <td>True</td></tr><tr><th>arch</th> <td>None</td></tr><tr><th>tags</th> <td></td></tr><tr><th>versions</th> <td>3c4ac3e2-3daf-400b-97b2-b411adf6804e, e0de3f25-3e73-400f-bf64-e193e5a80d61</td></tr><tr><th>steps</th> <td>housepricesagacontrol</td></tr><tr><th>published</th> <td>False</td></tr></table>"
      ],
      "text/plain": [
       "{'name': 'houseprice-estimation', 'create_time': datetime.datetime(2023, 12, 5, 19, 43, 42, 648290, tzinfo=tzutc()), 'definition': \"[{'ModelInference': {'models': [{'name': 'housepricesagacontrol', 'version': 'e8cc1034-fd24-46b8-9f2c-59be397f7d1f', 'sha': 'e22a0831aafd9917f3cc87a15ed267797f80e2afa12ad7d8810ca58f173b8cc6'}]}}]\"}"
      ]
     },
     "execution_count": 8,
     "metadata": {},
     "output_type": "execute_result"
    }
   ],
   "source": [
    "mainpipeline = get_pipeline(main_pipeline_name, workspace)\n",
    "mainpipeline.clear()\n",
    "\n",
    "mainpipeline.add_model_step(housing_model_control)\n",
    "\n",
    "#minimum deployment config\n",
    "deploy_config = wallaroo.DeploymentConfigBuilder().replica_count(1).cpus(0.5).memory(\"1Gi\").build()\n",
    "\n",
    "mainpipeline.deploy(deployment_config = deploy_config)"
   ]
  },
  {
   "cell_type": "markdown",
   "metadata": {},
   "source": [
    "### Testing\n",
    "\n",
    "We'll use two inferences as a quick sample test - one that has a house that should be determined around `$700k`, the other with a house determined to be around `$1.5` million.  We'll also save the start and end periods for these events to for later log functionality."
   ]
  },
  {
   "cell_type": "code",
   "execution_count": 9,
   "metadata": {},
   "outputs": [
    {
     "data": {
      "text/html": [
       "<div>\n",
       "<style scoped>\n",
       "    .dataframe tbody tr th:only-of-type {\n",
       "        vertical-align: middle;\n",
       "    }\n",
       "\n",
       "    .dataframe tbody tr th {\n",
       "        vertical-align: top;\n",
       "    }\n",
       "\n",
       "    .dataframe thead th {\n",
       "        text-align: right;\n",
       "    }\n",
       "</style>\n",
       "<table border=\"1\" class=\"dataframe\">\n",
       "  <thead>\n",
       "    <tr style=\"text-align: right;\">\n",
       "      <th></th>\n",
       "      <th>time</th>\n",
       "      <th>in.tensor</th>\n",
       "      <th>out.variable</th>\n",
       "      <th>check_failures</th>\n",
       "    </tr>\n",
       "  </thead>\n",
       "  <tbody>\n",
       "    <tr>\n",
       "      <th>0</th>\n",
       "      <td>2023-12-05 19:44:00.973</td>\n",
       "      <td>[4.0, 2.5, 2900.0, 5505.0, 2.0, 0.0, 0.0, 3.0, 8.0, 2900.0, 0.0, 47.6063, -122.02, 2970.0, 5251.0, 12.0, 0.0, 0.0]</td>\n",
       "      <td>[718013.7]</td>\n",
       "      <td>0</td>\n",
       "    </tr>\n",
       "  </tbody>\n",
       "</table>\n",
       "</div>"
      ],
      "text/plain": [
       "                     time  \\\n",
       "0 2023-12-05 19:44:00.973   \n",
       "\n",
       "                                                                                                            in.tensor  \\\n",
       "0  [4.0, 2.5, 2900.0, 5505.0, 2.0, 0.0, 0.0, 3.0, 8.0, 2900.0, 0.0, 47.6063, -122.02, 2970.0, 5251.0, 12.0, 0.0, 0.0]   \n",
       "\n",
       "  out.variable  check_failures  \n",
       "0   [718013.7]               0  "
      ]
     },
     "metadata": {},
     "output_type": "display_data"
    }
   ],
   "source": [
    "normal_input = pd.DataFrame.from_records({\"tensor\": [[4.0, 2.5, 2900.0, 5505.0, 2.0, 0.0, 0.0, 3.0, 8.0, 2900.0, 0.0, 47.6063, -122.02, 2970.0, 5251.0, 12.0, 0.0, 0.0]]})\n",
    "result = mainpipeline.infer(normal_input)\n",
    "display(result)"
   ]
  },
  {
   "cell_type": "code",
   "execution_count": 10,
   "metadata": {},
   "outputs": [
    {
     "data": {
      "text/html": [
       "<div>\n",
       "<style scoped>\n",
       "    .dataframe tbody tr th:only-of-type {\n",
       "        vertical-align: middle;\n",
       "    }\n",
       "\n",
       "    .dataframe tbody tr th {\n",
       "        vertical-align: top;\n",
       "    }\n",
       "\n",
       "    .dataframe thead th {\n",
       "        text-align: right;\n",
       "    }\n",
       "</style>\n",
       "<table border=\"1\" class=\"dataframe\">\n",
       "  <thead>\n",
       "    <tr style=\"text-align: right;\">\n",
       "      <th></th>\n",
       "      <th>time</th>\n",
       "      <th>in.tensor</th>\n",
       "      <th>out.variable</th>\n",
       "      <th>check_failures</th>\n",
       "    </tr>\n",
       "  </thead>\n",
       "  <tbody>\n",
       "    <tr>\n",
       "      <th>0</th>\n",
       "      <td>2023-12-05 19:44:01.368</td>\n",
       "      <td>[4.0, 3.0, 3710.0, 20000.0, 2.0, 0.0, 2.0, 5.0, 10.0, 2760.0, 950.0, 47.6696, -122.261, 3970.0, 20000.0, 79.0, 0.0, 0.0]</td>\n",
       "      <td>[1514079.4]</td>\n",
       "      <td>0</td>\n",
       "    </tr>\n",
       "  </tbody>\n",
       "</table>\n",
       "</div>"
      ],
      "text/plain": [
       "                     time  \\\n",
       "0 2023-12-05 19:44:01.368   \n",
       "\n",
       "                                                                                                                  in.tensor  \\\n",
       "0  [4.0, 3.0, 3710.0, 20000.0, 2.0, 0.0, 2.0, 5.0, 10.0, 2760.0, 950.0, 47.6696, -122.261, 3970.0, 20000.0, 79.0, 0.0, 0.0]   \n",
       "\n",
       "  out.variable  check_failures  \n",
       "0  [1514079.4]               0  "
      ]
     },
     "metadata": {},
     "output_type": "display_data"
    }
   ],
   "source": [
    "large_house_input = pd.DataFrame.from_records({'tensor': [[4.0, 3.0, 3710.0, 20000.0, 2.0, 0.0, 2.0, 5.0, 10.0, 2760.0, 950.0, 47.6696, -122.261, 3970.0, 20000.0, 79.0, 0.0, 0.0]]})\n",
    "large_house_result = mainpipeline.infer(large_house_input)\n",
    "display(large_house_result)"
   ]
  },
  {
   "cell_type": "markdown",
   "metadata": {},
   "source": [
    "## Assays\n",
    "\n",
    "Wallaroo assays provide a method for detecting input or model drift.  These can be triggered either when unexpected input is provided for the inference, or when the model needs to be retrained from changing environment conditions.\n",
    "\n",
    "Wallaroo assays can track either an input field and its index, or an output field and its index.  For full details, see the [Wallaroo Assays Management Guide](https://docs.wallaroo.ai/wallaroo-operations-guide/wallaroo-pipeline-management/wallaroo-pipeline-assays/).\n",
    "\n",
    "For this example, we will:\n",
    "\n",
    "* Perform sample inferences based on lower priced houses.\n",
    "* Create an assay with the baseline set off those lower priced houses.\n",
    "* Generate inferences spread across all house values, plus specific set of high priced houses to trigger the assay alert.\n",
    "* Run an interactive assay to show the detection of values outside the established baseline."
   ]
  },
  {
   "cell_type": "markdown",
   "metadata": {},
   "source": [
    "### Assay Generation\n",
    "\n",
    "To start the demonstration, we'll create a baseline of values from houses with small estimated prices and set that as our baseline. Assays are typically run on a 24 hours interval based on a 24 hour window of data, but we'll bypass that by setting our baseline time even shorter.\n",
    "\n",
    "* References\n",
    "  * [Wallaroo SDK Essentials Guide: Assays Management](https://docs.wallaroo.ai/wallaroo-developer-guides/wallaroo-sdk-guides/wallaroo-sdk-essentials-guide/wallaroo-sdk-essentials-assays/)"
   ]
  },
  {
   "cell_type": "code",
   "execution_count": 11,
   "metadata": {},
   "outputs": [],
   "source": [
    "small_houses_inputs = pd.read_json('./data/smallinputs.df.json')\n",
    "baseline_size = 500\n",
    "\n",
    "# Where the baseline data will start\n",
    "assay_baseline_start = datetime.datetime.now()\n",
    "\n",
    "# These inputs will be random samples of small priced houses.\n",
    "small_houses = small_houses_inputs.sample(baseline_size, replace=True).reset_index(drop=True)\n",
    "\n",
    "# Wait 30 seconds to set this data apart from the rest\n",
    "time.sleep(30)\n",
    "small_results = mainpipeline.infer(small_houses)\n",
    "\n",
    "# Set the baseline end\n",
    "\n",
    "assay_baseline_end = datetime.datetime.now()"
   ]
  },
  {
   "cell_type": "code",
   "execution_count": 12,
   "metadata": {},
   "outputs": [
    {
     "data": {
      "text/html": [
       "<div>\n",
       "<style scoped>\n",
       "    .dataframe tbody tr th:only-of-type {\n",
       "        vertical-align: middle;\n",
       "    }\n",
       "\n",
       "    .dataframe tbody tr th {\n",
       "        vertical-align: top;\n",
       "    }\n",
       "\n",
       "    .dataframe thead th {\n",
       "        text-align: right;\n",
       "    }\n",
       "</style>\n",
       "<table border=\"1\" class=\"dataframe\">\n",
       "  <thead>\n",
       "    <tr style=\"text-align: right;\">\n",
       "      <th></th>\n",
       "      <th>time</th>\n",
       "      <th>in.tensor</th>\n",
       "      <th>out.variable</th>\n",
       "      <th>check_failures</th>\n",
       "    </tr>\n",
       "  </thead>\n",
       "  <tbody>\n",
       "    <tr>\n",
       "      <th>0</th>\n",
       "      <td>2023-12-05 19:44:32.223</td>\n",
       "      <td>[3.0, 1.75, 1530.0, 7245.0, 1.0, 0.0, 0.0, 4.0, 7.0, 1530.0, 0.0, 47.7309989929, -122.1910018921, 1530.0, 7490.0, 31.0, 0.0, 0.0]</td>\n",
       "      <td>[431929.2]</td>\n",
       "      <td>0</td>\n",
       "    </tr>\n",
       "    <tr>\n",
       "      <th>1</th>\n",
       "      <td>2023-12-05 19:44:32.223</td>\n",
       "      <td>[5.0, 2.5, 2380.0, 8204.0, 1.0, 0.0, 0.0, 3.0, 8.0, 1540.0, 840.0, 47.7000007629, -122.2870025635, 2270.0, 8204.0, 58.0, 0.0, 0.0]</td>\n",
       "      <td>[712309.9]</td>\n",
       "      <td>0</td>\n",
       "    </tr>\n",
       "    <tr>\n",
       "      <th>2</th>\n",
       "      <td>2023-12-05 19:44:32.223</td>\n",
       "      <td>[2.0, 2.25, 1660.0, 2128.0, 2.0, 0.0, 0.0, 4.0, 8.0, 1660.0, 0.0, 47.7527999878, -122.2519989014, 1640.0, 2128.0, 41.0, 0.0, 0.0]</td>\n",
       "      <td>[437177.97]</td>\n",
       "      <td>0</td>\n",
       "    </tr>\n",
       "    <tr>\n",
       "      <th>3</th>\n",
       "      <td>2023-12-05 19:44:32.223</td>\n",
       "      <td>[1.0, 2.0, 3000.0, 204732.0, 2.5, 0.0, 2.0, 3.0, 8.0, 3000.0, 0.0, 47.6330986023, -121.9449996948, 2330.0, 213008.0, 35.0, 0.0, 0.0]</td>\n",
       "      <td>[716558.56]</td>\n",
       "      <td>0</td>\n",
       "    </tr>\n",
       "    <tr>\n",
       "      <th>4</th>\n",
       "      <td>2023-12-05 19:44:32.223</td>\n",
       "      <td>[3.0, 1.75, 1390.0, 13200.0, 2.0, 0.0, 0.0, 3.0, 7.0, 1390.0, 0.0, 47.4429016113, -121.7710037231, 1430.0, 10725.0, 35.0, 0.0, 0.0]</td>\n",
       "      <td>[252539.6]</td>\n",
       "      <td>0</td>\n",
       "    </tr>\n",
       "    <tr>\n",
       "      <th>...</th>\n",
       "      <td>...</td>\n",
       "      <td>...</td>\n",
       "      <td>...</td>\n",
       "      <td>...</td>\n",
       "    </tr>\n",
       "    <tr>\n",
       "      <th>495</th>\n",
       "      <td>2023-12-05 19:44:32.223</td>\n",
       "      <td>[2.0, 1.0, 900.0, 5000.0, 1.0, 0.0, 0.0, 3.0, 7.0, 900.0, 0.0, 47.6883010864, -122.3949966431, 1280.0, 5000.0, 70.0, 0.0, 0.0]</td>\n",
       "      <td>[448627.8]</td>\n",
       "      <td>0</td>\n",
       "    </tr>\n",
       "    <tr>\n",
       "      <th>496</th>\n",
       "      <td>2023-12-05 19:44:32.223</td>\n",
       "      <td>[4.0, 2.5, 3450.0, 35100.0, 2.0, 0.0, 0.0, 3.0, 10.0, 3450.0, 0.0, 47.7302017212, -122.1060028076, 3110.0, 35894.0, 27.0, 0.0, 0.0]</td>\n",
       "      <td>[921695.4]</td>\n",
       "      <td>0</td>\n",
       "    </tr>\n",
       "    <tr>\n",
       "      <th>497</th>\n",
       "      <td>2023-12-05 19:44:32.223</td>\n",
       "      <td>[5.0, 3.5, 4200.0, 5400.0, 2.0, 0.0, 0.0, 3.0, 9.0, 3140.0, 1060.0, 47.707698822, -122.1200027466, 3300.0, 5564.0, 2.0, 0.0, 0.0]</td>\n",
       "      <td>[1052897.9]</td>\n",
       "      <td>0</td>\n",
       "    </tr>\n",
       "    <tr>\n",
       "      <th>498</th>\n",
       "      <td>2023-12-05 19:44:32.223</td>\n",
       "      <td>[3.0, 2.5, 2860.0, 4500.0, 2.0, 0.0, 2.0, 3.0, 8.0, 1980.0, 880.0, 47.6463012695, -122.3710021973, 2310.0, 4500.0, 99.0, 0.0, 0.0]</td>\n",
       "      <td>[721518.44]</td>\n",
       "      <td>0</td>\n",
       "    </tr>\n",
       "    <tr>\n",
       "      <th>499</th>\n",
       "      <td>2023-12-05 19:44:32.223</td>\n",
       "      <td>[3.0, 2.25, 1620.0, 997.0, 2.5, 0.0, 0.0, 3.0, 8.0, 1540.0, 80.0, 47.5400009155, -122.0260009766, 1620.0, 1068.0, 4.0, 0.0, 0.0]</td>\n",
       "      <td>[544392.06]</td>\n",
       "      <td>0</td>\n",
       "    </tr>\n",
       "  </tbody>\n",
       "</table>\n",
       "<p>500 rows × 4 columns</p>\n",
       "</div>"
      ],
      "text/plain": [
       "                       time  \\\n",
       "0   2023-12-05 19:44:32.223   \n",
       "1   2023-12-05 19:44:32.223   \n",
       "2   2023-12-05 19:44:32.223   \n",
       "3   2023-12-05 19:44:32.223   \n",
       "4   2023-12-05 19:44:32.223   \n",
       "..                      ...   \n",
       "495 2023-12-05 19:44:32.223   \n",
       "496 2023-12-05 19:44:32.223   \n",
       "497 2023-12-05 19:44:32.223   \n",
       "498 2023-12-05 19:44:32.223   \n",
       "499 2023-12-05 19:44:32.223   \n",
       "\n",
       "                                                                                                                                in.tensor  \\\n",
       "0       [3.0, 1.75, 1530.0, 7245.0, 1.0, 0.0, 0.0, 4.0, 7.0, 1530.0, 0.0, 47.7309989929, -122.1910018921, 1530.0, 7490.0, 31.0, 0.0, 0.0]   \n",
       "1      [5.0, 2.5, 2380.0, 8204.0, 1.0, 0.0, 0.0, 3.0, 8.0, 1540.0, 840.0, 47.7000007629, -122.2870025635, 2270.0, 8204.0, 58.0, 0.0, 0.0]   \n",
       "2       [2.0, 2.25, 1660.0, 2128.0, 2.0, 0.0, 0.0, 4.0, 8.0, 1660.0, 0.0, 47.7527999878, -122.2519989014, 1640.0, 2128.0, 41.0, 0.0, 0.0]   \n",
       "3    [1.0, 2.0, 3000.0, 204732.0, 2.5, 0.0, 2.0, 3.0, 8.0, 3000.0, 0.0, 47.6330986023, -121.9449996948, 2330.0, 213008.0, 35.0, 0.0, 0.0]   \n",
       "4     [3.0, 1.75, 1390.0, 13200.0, 2.0, 0.0, 0.0, 3.0, 7.0, 1390.0, 0.0, 47.4429016113, -121.7710037231, 1430.0, 10725.0, 35.0, 0.0, 0.0]   \n",
       "..                                                                                                                                    ...   \n",
       "495        [2.0, 1.0, 900.0, 5000.0, 1.0, 0.0, 0.0, 3.0, 7.0, 900.0, 0.0, 47.6883010864, -122.3949966431, 1280.0, 5000.0, 70.0, 0.0, 0.0]   \n",
       "496   [4.0, 2.5, 3450.0, 35100.0, 2.0, 0.0, 0.0, 3.0, 10.0, 3450.0, 0.0, 47.7302017212, -122.1060028076, 3110.0, 35894.0, 27.0, 0.0, 0.0]   \n",
       "497     [5.0, 3.5, 4200.0, 5400.0, 2.0, 0.0, 0.0, 3.0, 9.0, 3140.0, 1060.0, 47.707698822, -122.1200027466, 3300.0, 5564.0, 2.0, 0.0, 0.0]   \n",
       "498    [3.0, 2.5, 2860.0, 4500.0, 2.0, 0.0, 2.0, 3.0, 8.0, 1980.0, 880.0, 47.6463012695, -122.3710021973, 2310.0, 4500.0, 99.0, 0.0, 0.0]   \n",
       "499      [3.0, 2.25, 1620.0, 997.0, 2.5, 0.0, 0.0, 3.0, 8.0, 1540.0, 80.0, 47.5400009155, -122.0260009766, 1620.0, 1068.0, 4.0, 0.0, 0.0]   \n",
       "\n",
       "    out.variable  check_failures  \n",
       "0     [431929.2]               0  \n",
       "1     [712309.9]               0  \n",
       "2    [437177.97]               0  \n",
       "3    [716558.56]               0  \n",
       "4     [252539.6]               0  \n",
       "..           ...             ...  \n",
       "495   [448627.8]               0  \n",
       "496   [921695.4]               0  \n",
       "497  [1052897.9]               0  \n",
       "498  [721518.44]               0  \n",
       "499  [544392.06]               0  \n",
       "\n",
       "[500 rows x 4 columns]"
      ]
     },
     "metadata": {},
     "output_type": "display_data"
    }
   ],
   "source": [
    "display(small_results)"
   ]
  },
  {
   "cell_type": "code",
   "execution_count": 13,
   "metadata": {},
   "outputs": [
    {
     "data": {
      "text/html": [
       "<div>\n",
       "<style scoped>\n",
       "    .dataframe tbody tr th:only-of-type {\n",
       "        vertical-align: middle;\n",
       "    }\n",
       "\n",
       "    .dataframe tbody tr th {\n",
       "        vertical-align: top;\n",
       "    }\n",
       "\n",
       "    .dataframe thead th {\n",
       "        text-align: right;\n",
       "    }\n",
       "</style>\n",
       "<table border=\"1\" class=\"dataframe\">\n",
       "  <thead>\n",
       "    <tr style=\"text-align: right;\">\n",
       "      <th></th>\n",
       "      <th>time</th>\n",
       "      <th>in.tensor</th>\n",
       "      <th>out.variable</th>\n",
       "      <th>check_failures</th>\n",
       "      <th>variable</th>\n",
       "    </tr>\n",
       "  </thead>\n",
       "  <tbody>\n",
       "    <tr>\n",
       "      <th>0</th>\n",
       "      <td>2023-12-05 19:44:32.223</td>\n",
       "      <td>[3.0, 1.75, 1530.0, 7245.0, 1.0, 0.0, 0.0, 4.0, 7.0, 1530.0, 0.0, 47.7309989929, -122.1910018921, 1530.0, 7490.0, 31.0, 0.0, 0.0]</td>\n",
       "      <td>[431929.2]</td>\n",
       "      <td>0</td>\n",
       "      <td>431929.20</td>\n",
       "    </tr>\n",
       "    <tr>\n",
       "      <th>1</th>\n",
       "      <td>2023-12-05 19:44:32.223</td>\n",
       "      <td>[5.0, 2.5, 2380.0, 8204.0, 1.0, 0.0, 0.0, 3.0, 8.0, 1540.0, 840.0, 47.7000007629, -122.2870025635, 2270.0, 8204.0, 58.0, 0.0, 0.0]</td>\n",
       "      <td>[712309.9]</td>\n",
       "      <td>0</td>\n",
       "      <td>712309.90</td>\n",
       "    </tr>\n",
       "    <tr>\n",
       "      <th>2</th>\n",
       "      <td>2023-12-05 19:44:32.223</td>\n",
       "      <td>[2.0, 2.25, 1660.0, 2128.0, 2.0, 0.0, 0.0, 4.0, 8.0, 1660.0, 0.0, 47.7527999878, -122.2519989014, 1640.0, 2128.0, 41.0, 0.0, 0.0]</td>\n",
       "      <td>[437177.97]</td>\n",
       "      <td>0</td>\n",
       "      <td>437177.97</td>\n",
       "    </tr>\n",
       "    <tr>\n",
       "      <th>3</th>\n",
       "      <td>2023-12-05 19:44:32.223</td>\n",
       "      <td>[1.0, 2.0, 3000.0, 204732.0, 2.5, 0.0, 2.0, 3.0, 8.0, 3000.0, 0.0, 47.6330986023, -121.9449996948, 2330.0, 213008.0, 35.0, 0.0, 0.0]</td>\n",
       "      <td>[716558.56]</td>\n",
       "      <td>0</td>\n",
       "      <td>716558.56</td>\n",
       "    </tr>\n",
       "    <tr>\n",
       "      <th>4</th>\n",
       "      <td>2023-12-05 19:44:32.223</td>\n",
       "      <td>[3.0, 1.75, 1390.0, 13200.0, 2.0, 0.0, 0.0, 3.0, 7.0, 1390.0, 0.0, 47.4429016113, -121.7710037231, 1430.0, 10725.0, 35.0, 0.0, 0.0]</td>\n",
       "      <td>[252539.6]</td>\n",
       "      <td>0</td>\n",
       "      <td>252539.60</td>\n",
       "    </tr>\n",
       "    <tr>\n",
       "      <th>...</th>\n",
       "      <td>...</td>\n",
       "      <td>...</td>\n",
       "      <td>...</td>\n",
       "      <td>...</td>\n",
       "      <td>...</td>\n",
       "    </tr>\n",
       "    <tr>\n",
       "      <th>495</th>\n",
       "      <td>2023-12-05 19:44:32.223</td>\n",
       "      <td>[2.0, 1.0, 900.0, 5000.0, 1.0, 0.0, 0.0, 3.0, 7.0, 900.0, 0.0, 47.6883010864, -122.3949966431, 1280.0, 5000.0, 70.0, 0.0, 0.0]</td>\n",
       "      <td>[448627.8]</td>\n",
       "      <td>0</td>\n",
       "      <td>448627.80</td>\n",
       "    </tr>\n",
       "    <tr>\n",
       "      <th>496</th>\n",
       "      <td>2023-12-05 19:44:32.223</td>\n",
       "      <td>[4.0, 2.5, 3450.0, 35100.0, 2.0, 0.0, 0.0, 3.0, 10.0, 3450.0, 0.0, 47.7302017212, -122.1060028076, 3110.0, 35894.0, 27.0, 0.0, 0.0]</td>\n",
       "      <td>[921695.4]</td>\n",
       "      <td>0</td>\n",
       "      <td>921695.40</td>\n",
       "    </tr>\n",
       "    <tr>\n",
       "      <th>497</th>\n",
       "      <td>2023-12-05 19:44:32.223</td>\n",
       "      <td>[5.0, 3.5, 4200.0, 5400.0, 2.0, 0.0, 0.0, 3.0, 9.0, 3140.0, 1060.0, 47.707698822, -122.1200027466, 3300.0, 5564.0, 2.0, 0.0, 0.0]</td>\n",
       "      <td>[1052897.9]</td>\n",
       "      <td>0</td>\n",
       "      <td>1052897.90</td>\n",
       "    </tr>\n",
       "    <tr>\n",
       "      <th>498</th>\n",
       "      <td>2023-12-05 19:44:32.223</td>\n",
       "      <td>[3.0, 2.5, 2860.0, 4500.0, 2.0, 0.0, 2.0, 3.0, 8.0, 1980.0, 880.0, 47.6463012695, -122.3710021973, 2310.0, 4500.0, 99.0, 0.0, 0.0]</td>\n",
       "      <td>[721518.44]</td>\n",
       "      <td>0</td>\n",
       "      <td>721518.44</td>\n",
       "    </tr>\n",
       "    <tr>\n",
       "      <th>499</th>\n",
       "      <td>2023-12-05 19:44:32.223</td>\n",
       "      <td>[3.0, 2.25, 1620.0, 997.0, 2.5, 0.0, 0.0, 3.0, 8.0, 1540.0, 80.0, 47.5400009155, -122.0260009766, 1620.0, 1068.0, 4.0, 0.0, 0.0]</td>\n",
       "      <td>[544392.06]</td>\n",
       "      <td>0</td>\n",
       "      <td>544392.06</td>\n",
       "    </tr>\n",
       "  </tbody>\n",
       "</table>\n",
       "<p>500 rows × 5 columns</p>\n",
       "</div>"
      ],
      "text/plain": [
       "                       time  \\\n",
       "0   2023-12-05 19:44:32.223   \n",
       "1   2023-12-05 19:44:32.223   \n",
       "2   2023-12-05 19:44:32.223   \n",
       "3   2023-12-05 19:44:32.223   \n",
       "4   2023-12-05 19:44:32.223   \n",
       "..                      ...   \n",
       "495 2023-12-05 19:44:32.223   \n",
       "496 2023-12-05 19:44:32.223   \n",
       "497 2023-12-05 19:44:32.223   \n",
       "498 2023-12-05 19:44:32.223   \n",
       "499 2023-12-05 19:44:32.223   \n",
       "\n",
       "                                                                                                                                in.tensor  \\\n",
       "0       [3.0, 1.75, 1530.0, 7245.0, 1.0, 0.0, 0.0, 4.0, 7.0, 1530.0, 0.0, 47.7309989929, -122.1910018921, 1530.0, 7490.0, 31.0, 0.0, 0.0]   \n",
       "1      [5.0, 2.5, 2380.0, 8204.0, 1.0, 0.0, 0.0, 3.0, 8.0, 1540.0, 840.0, 47.7000007629, -122.2870025635, 2270.0, 8204.0, 58.0, 0.0, 0.0]   \n",
       "2       [2.0, 2.25, 1660.0, 2128.0, 2.0, 0.0, 0.0, 4.0, 8.0, 1660.0, 0.0, 47.7527999878, -122.2519989014, 1640.0, 2128.0, 41.0, 0.0, 0.0]   \n",
       "3    [1.0, 2.0, 3000.0, 204732.0, 2.5, 0.0, 2.0, 3.0, 8.0, 3000.0, 0.0, 47.6330986023, -121.9449996948, 2330.0, 213008.0, 35.0, 0.0, 0.0]   \n",
       "4     [3.0, 1.75, 1390.0, 13200.0, 2.0, 0.0, 0.0, 3.0, 7.0, 1390.0, 0.0, 47.4429016113, -121.7710037231, 1430.0, 10725.0, 35.0, 0.0, 0.0]   \n",
       "..                                                                                                                                    ...   \n",
       "495        [2.0, 1.0, 900.0, 5000.0, 1.0, 0.0, 0.0, 3.0, 7.0, 900.0, 0.0, 47.6883010864, -122.3949966431, 1280.0, 5000.0, 70.0, 0.0, 0.0]   \n",
       "496   [4.0, 2.5, 3450.0, 35100.0, 2.0, 0.0, 0.0, 3.0, 10.0, 3450.0, 0.0, 47.7302017212, -122.1060028076, 3110.0, 35894.0, 27.0, 0.0, 0.0]   \n",
       "497     [5.0, 3.5, 4200.0, 5400.0, 2.0, 0.0, 0.0, 3.0, 9.0, 3140.0, 1060.0, 47.707698822, -122.1200027466, 3300.0, 5564.0, 2.0, 0.0, 0.0]   \n",
       "498    [3.0, 2.5, 2860.0, 4500.0, 2.0, 0.0, 2.0, 3.0, 8.0, 1980.0, 880.0, 47.6463012695, -122.3710021973, 2310.0, 4500.0, 99.0, 0.0, 0.0]   \n",
       "499      [3.0, 2.25, 1620.0, 997.0, 2.5, 0.0, 0.0, 3.0, 8.0, 1540.0, 80.0, 47.5400009155, -122.0260009766, 1620.0, 1068.0, 4.0, 0.0, 0.0]   \n",
       "\n",
       "    out.variable  check_failures    variable  \n",
       "0     [431929.2]               0   431929.20  \n",
       "1     [712309.9]               0   712309.90  \n",
       "2    [437177.97]               0   437177.97  \n",
       "3    [716558.56]               0   716558.56  \n",
       "4     [252539.6]               0   252539.60  \n",
       "..           ...             ...         ...  \n",
       "495   [448627.8]               0   448627.80  \n",
       "496   [921695.4]               0   921695.40  \n",
       "497  [1052897.9]               0  1052897.90  \n",
       "498  [721518.44]               0   721518.44  \n",
       "499  [544392.06]               0   544392.06  \n",
       "\n",
       "[500 rows x 5 columns]"
      ]
     },
     "execution_count": 13,
     "metadata": {},
     "output_type": "execute_result"
    }
   ],
   "source": [
    "# get the numpy values\n",
    "\n",
    "# set the results to a non-array value\n",
    "small_results_baseline_df = small_results.copy()\n",
    "small_results_baseline_df['variable']=small_results['out.variable'].map(lambda x: x[0])\n",
    "small_results_baseline_df"
   ]
  },
  {
   "cell_type": "code",
   "execution_count": 37,
   "metadata": {},
   "outputs": [
    {
     "name": "stderr",
     "output_type": "stream",
     "text": [
      "Warning: There are more logs available. Please set a larger limit or request a file using export_logs."
     ]
    },
    {
     "data": {
      "text/html": [
       "<div>\n",
       "<style scoped>\n",
       "    .dataframe tbody tr th:only-of-type {\n",
       "        vertical-align: middle;\n",
       "    }\n",
       "\n",
       "    .dataframe tbody tr th {\n",
       "        vertical-align: top;\n",
       "    }\n",
       "\n",
       "    .dataframe thead th {\n",
       "        text-align: right;\n",
       "    }\n",
       "</style>\n",
       "<table border=\"1\" class=\"dataframe\">\n",
       "  <thead>\n",
       "    <tr style=\"text-align: right;\">\n",
       "      <th></th>\n",
       "      <th>time</th>\n",
       "      <th>metadata.partition</th>\n",
       "    </tr>\n",
       "  </thead>\n",
       "  <tbody>\n",
       "    <tr>\n",
       "      <th>0</th>\n",
       "      <td>2023-12-05 19:44:32.223</td>\n",
       "      <td>engine-867645f7d7-hm565</td>\n",
       "    </tr>\n",
       "    <tr>\n",
       "      <th>1</th>\n",
       "      <td>2023-12-05 19:44:32.223</td>\n",
       "      <td>engine-867645f7d7-hm565</td>\n",
       "    </tr>\n",
       "    <tr>\n",
       "      <th>2</th>\n",
       "      <td>2023-12-05 19:44:32.223</td>\n",
       "      <td>engine-867645f7d7-hm565</td>\n",
       "    </tr>\n",
       "    <tr>\n",
       "      <th>3</th>\n",
       "      <td>2023-12-05 19:44:32.223</td>\n",
       "      <td>engine-867645f7d7-hm565</td>\n",
       "    </tr>\n",
       "    <tr>\n",
       "      <th>4</th>\n",
       "      <td>2023-12-05 19:44:32.223</td>\n",
       "      <td>engine-867645f7d7-hm565</td>\n",
       "    </tr>\n",
       "    <tr>\n",
       "      <th>...</th>\n",
       "      <td>...</td>\n",
       "      <td>...</td>\n",
       "    </tr>\n",
       "    <tr>\n",
       "      <th>95</th>\n",
       "      <td>2023-12-05 19:44:32.223</td>\n",
       "      <td>engine-867645f7d7-hm565</td>\n",
       "    </tr>\n",
       "    <tr>\n",
       "      <th>96</th>\n",
       "      <td>2023-12-05 19:44:32.223</td>\n",
       "      <td>engine-867645f7d7-hm565</td>\n",
       "    </tr>\n",
       "    <tr>\n",
       "      <th>97</th>\n",
       "      <td>2023-12-05 19:44:32.223</td>\n",
       "      <td>engine-867645f7d7-hm565</td>\n",
       "    </tr>\n",
       "    <tr>\n",
       "      <th>98</th>\n",
       "      <td>2023-12-05 19:44:32.223</td>\n",
       "      <td>engine-867645f7d7-hm565</td>\n",
       "    </tr>\n",
       "    <tr>\n",
       "      <th>99</th>\n",
       "      <td>2023-12-05 19:44:32.223</td>\n",
       "      <td>engine-867645f7d7-hm565</td>\n",
       "    </tr>\n",
       "  </tbody>\n",
       "</table>\n",
       "<p>100 rows × 2 columns</p>\n",
       "</div>"
      ],
      "text/plain": [
       "                      time       metadata.partition\n",
       "0  2023-12-05 19:44:32.223  engine-867645f7d7-hm565\n",
       "1  2023-12-05 19:44:32.223  engine-867645f7d7-hm565\n",
       "2  2023-12-05 19:44:32.223  engine-867645f7d7-hm565\n",
       "3  2023-12-05 19:44:32.223  engine-867645f7d7-hm565\n",
       "4  2023-12-05 19:44:32.223  engine-867645f7d7-hm565\n",
       "..                     ...                      ...\n",
       "95 2023-12-05 19:44:32.223  engine-867645f7d7-hm565\n",
       "96 2023-12-05 19:44:32.223  engine-867645f7d7-hm565\n",
       "97 2023-12-05 19:44:32.223  engine-867645f7d7-hm565\n",
       "98 2023-12-05 19:44:32.223  engine-867645f7d7-hm565\n",
       "99 2023-12-05 19:44:32.223  engine-867645f7d7-hm565\n",
       "\n",
       "[100 rows x 2 columns]"
      ]
     },
     "metadata": {},
     "output_type": "display_data"
    },
    {
     "data": {
      "text/html": [
       "<div>\n",
       "<style scoped>\n",
       "    .dataframe tbody tr th:only-of-type {\n",
       "        vertical-align: middle;\n",
       "    }\n",
       "\n",
       "    .dataframe tbody tr th {\n",
       "        vertical-align: top;\n",
       "    }\n",
       "\n",
       "    .dataframe thead th {\n",
       "        text-align: right;\n",
       "    }\n",
       "</style>\n",
       "<table border=\"1\" class=\"dataframe\">\n",
       "  <thead>\n",
       "    <tr style=\"text-align: right;\">\n",
       "      <th></th>\n",
       "      <th>time</th>\n",
       "      <th>out.variable</th>\n",
       "      <th>metadata.last_model</th>\n",
       "      <th>metadata.pipeline_version</th>\n",
       "      <th>metadata.elapsed</th>\n",
       "      <th>metadata.dropped</th>\n",
       "      <th>metadata.partition</th>\n",
       "    </tr>\n",
       "  </thead>\n",
       "  <tbody>\n",
       "    <tr>\n",
       "      <th>0</th>\n",
       "      <td>2023-12-05 19:44:32.223</td>\n",
       "      <td>[544392.06]</td>\n",
       "      <td>{\"model_name\":\"housepricesagacontrol\",\"model_sha\":\"e22a0831aafd9917f3cc87a15ed267797f80e2afa12ad7d8810ca58f173b8cc6\"}</td>\n",
       "      <td>3c4ac3e2-3daf-400b-97b2-b411adf6804e</td>\n",
       "      <td>[1676522, 2239629]</td>\n",
       "      <td>[]</td>\n",
       "      <td>engine-867645f7d7-hm565</td>\n",
       "    </tr>\n",
       "    <tr>\n",
       "      <th>1</th>\n",
       "      <td>2023-12-05 19:44:32.223</td>\n",
       "      <td>[721518.44]</td>\n",
       "      <td>{\"model_name\":\"housepricesagacontrol\",\"model_sha\":\"e22a0831aafd9917f3cc87a15ed267797f80e2afa12ad7d8810ca58f173b8cc6\"}</td>\n",
       "      <td>3c4ac3e2-3daf-400b-97b2-b411adf6804e</td>\n",
       "      <td>[1676522, 2239629]</td>\n",
       "      <td>[]</td>\n",
       "      <td>engine-867645f7d7-hm565</td>\n",
       "    </tr>\n",
       "    <tr>\n",
       "      <th>2</th>\n",
       "      <td>2023-12-05 19:44:32.223</td>\n",
       "      <td>[1052897.9]</td>\n",
       "      <td>{\"model_name\":\"housepricesagacontrol\",\"model_sha\":\"e22a0831aafd9917f3cc87a15ed267797f80e2afa12ad7d8810ca58f173b8cc6\"}</td>\n",
       "      <td>3c4ac3e2-3daf-400b-97b2-b411adf6804e</td>\n",
       "      <td>[1676522, 2239629]</td>\n",
       "      <td>[]</td>\n",
       "      <td>engine-867645f7d7-hm565</td>\n",
       "    </tr>\n",
       "    <tr>\n",
       "      <th>3</th>\n",
       "      <td>2023-12-05 19:44:32.223</td>\n",
       "      <td>[921695.4]</td>\n",
       "      <td>{\"model_name\":\"housepricesagacontrol\",\"model_sha\":\"e22a0831aafd9917f3cc87a15ed267797f80e2afa12ad7d8810ca58f173b8cc6\"}</td>\n",
       "      <td>3c4ac3e2-3daf-400b-97b2-b411adf6804e</td>\n",
       "      <td>[1676522, 2239629]</td>\n",
       "      <td>[]</td>\n",
       "      <td>engine-867645f7d7-hm565</td>\n",
       "    </tr>\n",
       "    <tr>\n",
       "      <th>4</th>\n",
       "      <td>2023-12-05 19:44:32.223</td>\n",
       "      <td>[448627.8]</td>\n",
       "      <td>{\"model_name\":\"housepricesagacontrol\",\"model_sha\":\"e22a0831aafd9917f3cc87a15ed267797f80e2afa12ad7d8810ca58f173b8cc6\"}</td>\n",
       "      <td>3c4ac3e2-3daf-400b-97b2-b411adf6804e</td>\n",
       "      <td>[1676522, 2239629]</td>\n",
       "      <td>[]</td>\n",
       "      <td>engine-867645f7d7-hm565</td>\n",
       "    </tr>\n",
       "    <tr>\n",
       "      <th>...</th>\n",
       "      <td>...</td>\n",
       "      <td>...</td>\n",
       "      <td>...</td>\n",
       "      <td>...</td>\n",
       "      <td>...</td>\n",
       "      <td>...</td>\n",
       "      <td>...</td>\n",
       "    </tr>\n",
       "    <tr>\n",
       "      <th>95</th>\n",
       "      <td>2023-12-05 19:44:32.223</td>\n",
       "      <td>[290987.34]</td>\n",
       "      <td>{\"model_name\":\"housepricesagacontrol\",\"model_sha\":\"e22a0831aafd9917f3cc87a15ed267797f80e2afa12ad7d8810ca58f173b8cc6\"}</td>\n",
       "      <td>3c4ac3e2-3daf-400b-97b2-b411adf6804e</td>\n",
       "      <td>[1676522, 2239629]</td>\n",
       "      <td>[]</td>\n",
       "      <td>engine-867645f7d7-hm565</td>\n",
       "    </tr>\n",
       "    <tr>\n",
       "      <th>96</th>\n",
       "      <td>2023-12-05 19:44:32.223</td>\n",
       "      <td>[291903.97]</td>\n",
       "      <td>{\"model_name\":\"housepricesagacontrol\",\"model_sha\":\"e22a0831aafd9917f3cc87a15ed267797f80e2afa12ad7d8810ca58f173b8cc6\"}</td>\n",
       "      <td>3c4ac3e2-3daf-400b-97b2-b411adf6804e</td>\n",
       "      <td>[1676522, 2239629]</td>\n",
       "      <td>[]</td>\n",
       "      <td>engine-867645f7d7-hm565</td>\n",
       "    </tr>\n",
       "    <tr>\n",
       "      <th>97</th>\n",
       "      <td>2023-12-05 19:44:32.223</td>\n",
       "      <td>[350049.3]</td>\n",
       "      <td>{\"model_name\":\"housepricesagacontrol\",\"model_sha\":\"e22a0831aafd9917f3cc87a15ed267797f80e2afa12ad7d8810ca58f173b8cc6\"}</td>\n",
       "      <td>3c4ac3e2-3daf-400b-97b2-b411adf6804e</td>\n",
       "      <td>[1676522, 2239629]</td>\n",
       "      <td>[]</td>\n",
       "      <td>engine-867645f7d7-hm565</td>\n",
       "    </tr>\n",
       "    <tr>\n",
       "      <th>98</th>\n",
       "      <td>2023-12-05 19:44:32.223</td>\n",
       "      <td>[294203.53]</td>\n",
       "      <td>{\"model_name\":\"housepricesagacontrol\",\"model_sha\":\"e22a0831aafd9917f3cc87a15ed267797f80e2afa12ad7d8810ca58f173b8cc6\"}</td>\n",
       "      <td>3c4ac3e2-3daf-400b-97b2-b411adf6804e</td>\n",
       "      <td>[1676522, 2239629]</td>\n",
       "      <td>[]</td>\n",
       "      <td>engine-867645f7d7-hm565</td>\n",
       "    </tr>\n",
       "    <tr>\n",
       "      <th>99</th>\n",
       "      <td>2023-12-05 19:44:32.223</td>\n",
       "      <td>[1077279.1]</td>\n",
       "      <td>{\"model_name\":\"housepricesagacontrol\",\"model_sha\":\"e22a0831aafd9917f3cc87a15ed267797f80e2afa12ad7d8810ca58f173b8cc6\"}</td>\n",
       "      <td>3c4ac3e2-3daf-400b-97b2-b411adf6804e</td>\n",
       "      <td>[1676522, 2239629]</td>\n",
       "      <td>[]</td>\n",
       "      <td>engine-867645f7d7-hm565</td>\n",
       "    </tr>\n",
       "  </tbody>\n",
       "</table>\n",
       "<p>100 rows × 7 columns</p>\n",
       "</div>"
      ],
      "text/plain": [
       "                      time out.variable  \\\n",
       "0  2023-12-05 19:44:32.223  [544392.06]   \n",
       "1  2023-12-05 19:44:32.223  [721518.44]   \n",
       "2  2023-12-05 19:44:32.223  [1052897.9]   \n",
       "3  2023-12-05 19:44:32.223   [921695.4]   \n",
       "4  2023-12-05 19:44:32.223   [448627.8]   \n",
       "..                     ...          ...   \n",
       "95 2023-12-05 19:44:32.223  [290987.34]   \n",
       "96 2023-12-05 19:44:32.223  [291903.97]   \n",
       "97 2023-12-05 19:44:32.223   [350049.3]   \n",
       "98 2023-12-05 19:44:32.223  [294203.53]   \n",
       "99 2023-12-05 19:44:32.223  [1077279.1]   \n",
       "\n",
       "                                                                                                      metadata.last_model  \\\n",
       "0   {\"model_name\":\"housepricesagacontrol\",\"model_sha\":\"e22a0831aafd9917f3cc87a15ed267797f80e2afa12ad7d8810ca58f173b8cc6\"}   \n",
       "1   {\"model_name\":\"housepricesagacontrol\",\"model_sha\":\"e22a0831aafd9917f3cc87a15ed267797f80e2afa12ad7d8810ca58f173b8cc6\"}   \n",
       "2   {\"model_name\":\"housepricesagacontrol\",\"model_sha\":\"e22a0831aafd9917f3cc87a15ed267797f80e2afa12ad7d8810ca58f173b8cc6\"}   \n",
       "3   {\"model_name\":\"housepricesagacontrol\",\"model_sha\":\"e22a0831aafd9917f3cc87a15ed267797f80e2afa12ad7d8810ca58f173b8cc6\"}   \n",
       "4   {\"model_name\":\"housepricesagacontrol\",\"model_sha\":\"e22a0831aafd9917f3cc87a15ed267797f80e2afa12ad7d8810ca58f173b8cc6\"}   \n",
       "..                                                                                                                    ...   \n",
       "95  {\"model_name\":\"housepricesagacontrol\",\"model_sha\":\"e22a0831aafd9917f3cc87a15ed267797f80e2afa12ad7d8810ca58f173b8cc6\"}   \n",
       "96  {\"model_name\":\"housepricesagacontrol\",\"model_sha\":\"e22a0831aafd9917f3cc87a15ed267797f80e2afa12ad7d8810ca58f173b8cc6\"}   \n",
       "97  {\"model_name\":\"housepricesagacontrol\",\"model_sha\":\"e22a0831aafd9917f3cc87a15ed267797f80e2afa12ad7d8810ca58f173b8cc6\"}   \n",
       "98  {\"model_name\":\"housepricesagacontrol\",\"model_sha\":\"e22a0831aafd9917f3cc87a15ed267797f80e2afa12ad7d8810ca58f173b8cc6\"}   \n",
       "99  {\"model_name\":\"housepricesagacontrol\",\"model_sha\":\"e22a0831aafd9917f3cc87a15ed267797f80e2afa12ad7d8810ca58f173b8cc6\"}   \n",
       "\n",
       "               metadata.pipeline_version    metadata.elapsed metadata.dropped  \\\n",
       "0   3c4ac3e2-3daf-400b-97b2-b411adf6804e  [1676522, 2239629]               []   \n",
       "1   3c4ac3e2-3daf-400b-97b2-b411adf6804e  [1676522, 2239629]               []   \n",
       "2   3c4ac3e2-3daf-400b-97b2-b411adf6804e  [1676522, 2239629]               []   \n",
       "3   3c4ac3e2-3daf-400b-97b2-b411adf6804e  [1676522, 2239629]               []   \n",
       "4   3c4ac3e2-3daf-400b-97b2-b411adf6804e  [1676522, 2239629]               []   \n",
       "..                                   ...                 ...              ...   \n",
       "95  3c4ac3e2-3daf-400b-97b2-b411adf6804e  [1676522, 2239629]               []   \n",
       "96  3c4ac3e2-3daf-400b-97b2-b411adf6804e  [1676522, 2239629]               []   \n",
       "97  3c4ac3e2-3daf-400b-97b2-b411adf6804e  [1676522, 2239629]               []   \n",
       "98  3c4ac3e2-3daf-400b-97b2-b411adf6804e  [1676522, 2239629]               []   \n",
       "99  3c4ac3e2-3daf-400b-97b2-b411adf6804e  [1676522, 2239629]               []   \n",
       "\n",
       "         metadata.partition  \n",
       "0   engine-867645f7d7-hm565  \n",
       "1   engine-867645f7d7-hm565  \n",
       "2   engine-867645f7d7-hm565  \n",
       "3   engine-867645f7d7-hm565  \n",
       "4   engine-867645f7d7-hm565  \n",
       "..                      ...  \n",
       "95  engine-867645f7d7-hm565  \n",
       "96  engine-867645f7d7-hm565  \n",
       "97  engine-867645f7d7-hm565  \n",
       "98  engine-867645f7d7-hm565  \n",
       "99  engine-867645f7d7-hm565  \n",
       "\n",
       "[100 rows x 7 columns]"
      ]
     },
     "metadata": {},
     "output_type": "display_data"
    }
   ],
   "source": [
    "logs = mainpipeline.logs(dataset=['time', 'out.variable', 'metadata'])\n",
    "display(logs.loc[:, ['time', 'metadata.partition']])\n",
    "display(logs[logs['metadata.partition'] == 'engine-867645f7d7-hm565'])"
   ]
  },
  {
   "cell_type": "code",
   "execution_count": 36,
   "metadata": {},
   "outputs": [
    {
     "data": {
      "text/plain": [
       "Series([], Name: metadata.partition, dtype: object)"
      ]
     },
     "metadata": {},
     "output_type": "display_data"
    }
   ],
   "source": [
    "# display(logs.loc[logs['metadata.partition'].filter(regex='engine.*')])\n",
    "display(logs.filter(regex='engine.*'))"
   ]
  },
  {
   "cell_type": "code",
   "execution_count": 26,
   "metadata": {},
   "outputs": [
    {
     "name": "stdout",
     "output_type": "stream",
     "text": [
      "{'name': 'houseprice-estimation', 'create_time': datetime.datetime(2023, 12, 5, 19, 43, 42, 648290, tzinfo=tzutc()), 'definition': \"[{'ModelInference': {'models': [{'name': 'housepricesagacontrol', 'version': 'e8cc1034-fd24-46b8-9f2c-59be397f7d1f', 'sha': 'e22a0831aafd9917f3cc87a15ed267797f80e2afa12ad7d8810ca58f173b8cc6'}]}}]\"}\n"
     ]
    }
   ],
   "source": [
    "print(mainpipeline)"
   ]
  },
  {
   "cell_type": "code",
   "execution_count": 14,
   "metadata": {},
   "outputs": [
    {
     "data": {
      "text/plain": [
       "array([ 431929.2 ,  712309.9 ,  437177.97,  716558.56,  252539.6 ,\n",
       "       1295531.8 ,  524275.4 ,  467743.03,  519346.94,  437177.97,\n",
       "        444885.6 ,  246901.14,  253679.63,  713485.7 ,  450996.34,\n",
       "        341649.34,  400561.2 ,  458858.44,  424966.6 ,  736751.3 ,\n",
       "        437177.97,  657905.75,  581002.94,  424966.6 ,  422481.5 ,\n",
       "        481600.13,  403520.16,  423382.72,  630865.5 ,  453195.8 ,\n",
       "        811666.7 ,  563844.44,  464057.38,  424966.6 ,  559631.06,\n",
       "        388243.13,  242591.38,  340764.53,  595497.3 ,  323856.28,\n",
       "        349668.4 ,  359614.66, 1160512.8 ,  293808.03,  380009.28,\n",
       "        437177.97,  256845.58,  782434.44,  557391.25,  448627.8 ,\n",
       "        260603.88,  450867.7 ,  274207.16,  480151.44,  354512.44,\n",
       "        712309.9 ,  381737.6 ,  381737.6 ,  873848.44,  252192.9 ,\n",
       "        258321.66,  469038.13,  683845.75,  529302.44,  784103.56,\n",
       "        421402.1 ,  292859.44,  451058.3 ,  435628.72,  246088.6 ,\n",
       "        368504.3 ,  236238.67,  411000.13,  657905.75,  291903.97,\n",
       "        782434.44,  353912.  ,  243300.83,  381737.6 ,  630865.5 ,\n",
       "        274207.16,  290323.1 , 1322835.6 ,  920795.94,  276709.06,\n",
       "        236238.67,  559631.06,  376762.4 ,  236238.67,  711565.44,\n",
       "        341472.13,  713979.  ,  544392.06,  559631.06,  630865.5 ,\n",
       "        354512.44,  324875.06,  437177.97,  946325.75,  732735.94,\n",
       "        363491.63,  665791.5 ,  309800.8 ,  379076.28, 1108000.  ,\n",
       "        276046.53,  244380.27,  236238.67,  665791.5 ,  559631.06,\n",
       "        546631.94,  701940.7 ,  288798.1 ,  291903.97,  435628.72,\n",
       "        244380.27,  713358.8 ,  559631.06,  239734.08,  385561.78,\n",
       "        447192.22,  450867.7 ,  293560.06,  285253.13,  444931.28,\n",
       "        246901.14,  448627.8 ,  886958.6 ,  437177.97,  316231.84,\n",
       "        287576.4 ,  544392.06,  437177.97,  340764.53,  300446.66,\n",
       "        536371.2 ,  846775.06,  340764.53,  311909.6 ,  291903.97,\n",
       "        718445.7 ,  338357.88,  340764.53,  317765.63,  829775.3 ,\n",
       "        488736.22,  669645.44,  349102.75,  400561.2 , 1223838.8 ,\n",
       "        559452.94,  836481.  ,  349102.75,  450996.34,  594678.75,\n",
       "        836230.2 ,  252192.9 ,  291903.97,  450928.94,  683845.75,\n",
       "        379398.28,  673288.6 ,  400561.2 ,  441284.13, 1412215.1 ,\n",
       "        342604.47, 1227073.8 ,  349668.4 ,  567502.06,  689450.3 ,\n",
       "        550275.1 ,  448627.8 ,  385561.78,  236815.8 ,  846775.06,\n",
       "        713485.7 ,  987157.25,  879083.56,  999203.06,  437929.84,\n",
       "        355371.1 ,  836230.2 ,  353912.  ,  418823.38,  559631.06,\n",
       "        313096.  ,  340764.53,  701940.7 ,  340764.53,  380009.28,\n",
       "        450867.7 ,  675545.44,  236238.67,  358668.2 ,  252192.9 ,\n",
       "        559631.06,  447951.56,  340764.53,  375104.9 ,  498579.5 ,\n",
       "        288798.1 ,  536371.2 ,  438346.38,  716558.56,  236238.67,\n",
       "        266405.63,  559631.06,  557391.25,  303002.25,  759983.6 ,\n",
       "        557391.25,  340764.53,  448627.8 , 1325960.8 ,  557391.25,\n",
       "        291239.75,  498579.5 ,  917346.2 ,  437753.4 ,  542342.  ,\n",
       "        675545.44,  687786.44,  713979.  ,  553463.25,  987157.25,\n",
       "        243300.83,  721518.44,  673288.6 ,  416774.6 ,  921695.4 ,\n",
       "        248495.05,  495822.63,  559923.9 ,  448627.8 ,  559631.06,\n",
       "        480151.44,  312429.75,  964052.6 ,  713485.7 ,  461279.1 ,\n",
       "        368504.3 ,  252192.9 ,  448627.8 ,  444408.  ,  418823.38,\n",
       "        292859.44,  836230.2 ,  713485.7 ,  437177.97,  683845.75,\n",
       "        630865.5 ,  284845.34,  758714.3 ,  385561.78,  448627.8 ,\n",
       "        358668.2 ,  252539.6 ,  244351.92,  448180.78,  682284.56,\n",
       "        349668.4 ,  448627.8 ,  784103.56,  765468.9 ,  546631.94,\n",
       "        544392.06,  431929.2 ,  712309.9 ,  313096.  ,  267013.97,\n",
       "        513583.06, 1325960.8 ,  450867.7 ,  563844.44,  422481.5 ,\n",
       "        555231.94,  340764.53,  553463.25,  358668.2 ,  594678.75,\n",
       "        283759.94,  557391.25,  831483.56,  829775.3 ,  450867.7 ,\n",
       "        340764.53,  437177.97,  450867.7 ,  572709.94,  483519.16,\n",
       "        444408.  ,  236238.67,  404484.53,  340764.53,  684577.25,\n",
       "        725572.56,  557391.25,  974485.3 ,  448627.8 ,  559631.06,\n",
       "        291903.97,  682284.56,  705013.5 ,  548006.06,  630865.5 ,\n",
       "        557391.25,  317765.63,  713979.  ,  686890.94,  513264.66,\n",
       "        400561.2 ,  879092.9 ,  349102.75,  311515.1 ,  303002.25,\n",
       "        448627.8 ,  758714.3 ,  987157.25,  268856.88,  448180.78,\n",
       "        450867.7 ,  480151.44,  544392.06, 1227073.8 ,  498579.5 ,\n",
       "        637377.  ,  718588.94,  573403.2 ,  559631.06,  437177.97,\n",
       "        448627.8 ,  393833.97,  715530.06,  575724.7 ,  732735.94,\n",
       "        680620.7 ,  684577.25,  424966.6 ,  291239.75,  448627.8 ,\n",
       "        303002.25,  287576.4 ,  236815.8 ,  422481.5 ,  657905.75,\n",
       "        904204.06,  422481.5 ,  291239.75,  559452.94, 1156651.3 ,\n",
       "        448627.8 ,  684577.25,  448627.8 ,  253679.63,  312429.75,\n",
       "        340764.53,  701940.7 ,  538436.75,  320863.72,  296202.7 ,\n",
       "        438346.38,  581002.94,  675545.44,  577149.  ,  795841.06,\n",
       "        469038.13,  429876.3 ,  557391.25,  964052.6 ,  461279.1 ,\n",
       "        376762.4 ,  559631.06,  293808.03,  723934.9 ,  642519.7 ,\n",
       "        642519.7 ,  241330.17,  536371.2 ,  241330.17,  379398.28,\n",
       "        924823.8 ,  349102.75,  236238.67,  701940.7 , 1295531.8 ,\n",
       "        381737.6 ,  555231.94,  559139.4 ,  559631.06,  725184.1 ,\n",
       "        450867.7 ,  241330.17,  313096.  ,  432908.6 ,  719351.7 ,\n",
       "        290323.1 ,  358668.2 ,  846775.06,  241657.14,  637377.  ,\n",
       "       1077279.1 ,  294203.53,  350049.3 ,  291903.97,  290987.34,\n",
       "        252192.9 ,  353912.  ,  426066.38,  353912.  , 1103101.3 ,\n",
       "        400676.47,  388243.13,  349102.75,  444885.6 ,  290323.1 ,\n",
       "        630865.5 ,  435628.72,  437177.97,  732735.94,  240212.22,\n",
       "        559631.06,  236238.67,  320863.72,  630865.5 ,  435628.72,\n",
       "        383833.88,  300446.66,  464060.2 ,  291239.75,  291857.06,\n",
       "        730767.94,  567502.06,  438346.38,  258377.  ,  981676.7 ,\n",
       "        375012.  ,  435628.72,  559631.06,  544392.06,  446769.  ,\n",
       "        291903.97,  701940.7 ,  448627.8 ,  448627.8 ,  437002.88,\n",
       "        732735.94,  238078.03,  291857.06,  450867.7 ,  559452.94,\n",
       "        400676.47,  328513.6 ,  266405.63,  581002.94,  482485.6 ,\n",
       "        684577.25,  437177.97,  322015.03,  718588.94,  682284.56,\n",
       "        475971.5 ,  539867.1 ,  341649.34,  630865.5 ,  559631.06,\n",
       "        248495.05,  236238.67,  827411.25,  349102.75,  557391.25,\n",
       "        296202.7 ,  450867.7 ,  354512.44,  559631.06,  340764.53,\n",
       "        404040.78,  340764.53,  435628.72,  689450.3 ,  236815.8 ,\n",
       "        559923.9 ,  448627.8 ,  258377.  ,  379752.2 ,  291799.84,\n",
       "        921695.4 , 1208638.1 ,  437177.97,  418823.38,  726181.75,\n",
       "        243300.83,  317132.63,  423382.72,  448627.8 ,  324875.06,\n",
       "        448627.8 ,  921695.4 , 1052897.9 ,  721518.44,  544392.06])"
      ]
     },
     "execution_count": 14,
     "metadata": {},
     "output_type": "execute_result"
    }
   ],
   "source": [
    "# get the numpy values\n",
    "small_results_baseline = small_results_baseline_df['variable'].to_numpy()\n",
    "small_results_baseline"
   ]
  },
  {
   "cell_type": "code",
   "execution_count": 15,
   "metadata": {},
   "outputs": [],
   "source": [
    "assay_baseline_from_numpy_name = \"edge assays from numpy\"\n",
    "\n",
    "# assay builder by baseline\n",
    "assay_builder_from_numpy = wl.build_assay(assay_name=assay_baseline_from_numpy_name, \n",
    "                               pipeline=mainpipeline, \n",
    "                               model_name=model_name_control, \n",
    "                               iopath=\"output variable 0\", \n",
    "                               baseline_data=small_results_baseline)\n",
    "\n",
    "# for brand new instances, this provides time for the pipeline logs to finish writing\n",
    "time.sleep(60)"
   ]
  },
  {
   "cell_type": "code",
   "execution_count": 20,
   "metadata": {},
   "outputs": [
    {
     "data": {
      "text/plain": [
       "<wallaroo.assay_config.WindowBuilder at 0x1632ac820>"
      ]
     },
     "execution_count": 20,
     "metadata": {},
     "output_type": "execute_result"
    }
   ],
   "source": [
    "# set the width\n",
    "assay_builder_from_numpy.window_builder().add_width(minutes=1).add_interval(minutes=1)"
   ]
  },
  {
   "cell_type": "code",
   "execution_count": 21,
   "metadata": {},
   "outputs": [],
   "source": [
    "assay_config_from_numpy = assay_builder_from_numpy.build()"
   ]
  },
  {
   "cell_type": "code",
   "execution_count": 22,
   "metadata": {},
   "outputs": [
    {
     "ename": "Exception",
     "evalue": "Failed to parse response from model insights: error decoding response body: invalid type: map, expected a sequence at line 1 column 0",
     "output_type": "error",
     "traceback": [
      "\u001b[0;31m---------------------------------------------------------------------------\u001b[0m",
      "\u001b[0;31mException\u001b[0m                                 Traceback (most recent call last)",
      "\u001b[1;32m/Users/johnhansarick/Storage/github/training/Wallaroo_Tutorials/pipeline-edge-publish/edge-observability-assays/edge-observability-assays.ipynb Cell 27\u001b[0m line \u001b[0;36m1\n\u001b[0;32m----> <a href='vscode-notebook-cell:/Users/johnhansarick/Storage/github/training/Wallaroo_Tutorials/pipeline-edge-publish/edge-observability-assays/edge-observability-assays.ipynb#X35sZmlsZQ%3D%3D?line=0'>1</a>\u001b[0m assay_analysis_from_numpy \u001b[39m=\u001b[39m assay_config_from_numpy\u001b[39m.\u001b[39;49minteractive_run()\n",
      "File \u001b[0;32m/opt/homebrew/anaconda3/envs/wallaroosdk.2023.4.0-test/lib/python3.8/site-packages/wallaroo/assay_config.py:715\u001b[0m, in \u001b[0;36mAssayConfig.interactive_run\u001b[0;34m(self)\u001b[0m\n\u001b[1;32m    713\u001b[0m \u001b[39mif\u001b[39;00m ret \u001b[39mis\u001b[39;00m \u001b[39mnot\u001b[39;00m \u001b[39mNone\u001b[39;00m:\n\u001b[1;32m    714\u001b[0m     \u001b[39mif\u001b[39;00m \u001b[39mnot\u001b[39;00m \u001b[39misinstance\u001b[39m(ret, List):\n\u001b[0;32m--> 715\u001b[0m         \u001b[39mraise\u001b[39;00m \u001b[39mException\u001b[39;00m(ret\u001b[39m.\u001b[39mmsg)\n\u001b[1;32m    717\u001b[0m     analysis_list \u001b[39m=\u001b[39m [AssayAnalysis(ar\u001b[39m.\u001b[39mto_dict()) \u001b[39mfor\u001b[39;00m ar \u001b[39min\u001b[39;00m ret]\n\u001b[1;32m    719\u001b[0m \u001b[39mreturn\u001b[39;00m AssayAnalysisList(analysis_list)\n",
      "\u001b[0;31mException\u001b[0m: Failed to parse response from model insights: error decoding response body: invalid type: map, expected a sequence at line 1 column 0"
     ]
    }
   ],
   "source": [
    "assay_analysis_from_numpy = assay_config_from_numpy.interactive_run()"
   ]
  },
  {
   "cell_type": "code",
   "execution_count": null,
   "metadata": {},
   "outputs": [
    {
     "data": {
      "image/png": "[encoded data removed]",
      "text/plain": [
       "<Figure size 432x288 with 1 Axes>"
      ]
     },
     "metadata": {
      "needs_background": "light"
     },
     "output_type": "display_data"
    }
   ],
   "source": [
    "# get the histogram from the numpy baseline\n",
    "assay_builder_from_numpy.baseline_histogram()"
   ]
  },
  {
   "cell_type": "markdown",
   "metadata": {},
   "source": [
    "### Assay Testing\n",
    "\n",
    "Now we'll perform some inferences with a spread of values, then a larger set with a set of larger house values to trigger our assay alert.  We'll use our assay created from the numpy baseline values to demonstrate.\n",
    "\n",
    "Because our assay windows are 1 minutes, we'll need to stagger our inference values to be set into the proper windows.  This will take about 4 minutes."
   ]
  },
  {
   "cell_type": "code",
   "execution_count": null,
   "metadata": {},
   "outputs": [],
   "source": [
    "# Get a spread of house values\n",
    "\n",
    "time.sleep(35)\n",
    "# regular_houses_inputs = pd.read_json('./data/xtest-1k.df.json', orient=\"records\")\n",
    "inference_size = 1000\n",
    "\n",
    "# regular_houses = regular_houses_inputs.sample(inference_size, replace=True).reset_index(drop=True)\n",
    "\n",
    "# And a spread of large house values\n",
    "\n",
    "big_houses_inputs = pd.read_json('./data/biginputs.df.json', orient=\"records\")\n",
    "big_houses = big_houses_inputs.sample(inference_size, replace=True).reset_index(drop=True)\n",
    "\n",
    "# Set the start for our assay window period.\n",
    "assay_window_start = datetime.datetime.now()\n",
    "\n",
    "mainpipeline.infer(big_houses)\n",
    "\n",
    "\n",
    "# End our assay window period\n",
    "time.sleep(10)\n",
    "assay_window_end = datetime.datetime.now()"
   ]
  },
  {
   "cell_type": "code",
   "execution_count": null,
   "metadata": {},
   "outputs": [],
   "source": [
    "assay_builder_from_numpy.add_run_until(assay_window_end)\n",
    "assay_builder_from_numpy.window_builder().add_width(minutes=1).add_interval(minutes=1)\n",
    "assay_config_from_dates = assay_builder_from_numpy.build()\n",
    "assay_analysis_from_numpy = assay_config_from_numpy.interactive_run()"
   ]
  },
  {
   "cell_type": "code",
   "execution_count": null,
   "metadata": {},
   "outputs": [
    {
     "name": "stdout",
     "output_type": "stream",
     "text": [
      "Generated 1 analyses\n"
     ]
    },
    {
     "data": {
      "image/png": "[encoded data removed]",
      "text/plain": [
       "<Figure size 432x288 with 1 Axes>"
      ]
     },
     "metadata": {
      "needs_background": "light"
     },
     "output_type": "display_data"
    }
   ],
   "source": [
    "# Show how many assay windows were analyzed, then show the chart\n",
    "print(f\"Generated {len(assay_analysis_from_numpy)} analyses\")\n",
    "assay_analysis_from_numpy.chart_scores()"
   ]
  },
  {
   "cell_type": "code",
   "execution_count": null,
   "metadata": {},
   "outputs": [
    {
     "data": {
      "text/html": [
       "<div>\n",
       "<style scoped>\n",
       "    .dataframe tbody tr th:only-of-type {\n",
       "        vertical-align: middle;\n",
       "    }\n",
       "\n",
       "    .dataframe tbody tr th {\n",
       "        vertical-align: top;\n",
       "    }\n",
       "\n",
       "    .dataframe thead th {\n",
       "        text-align: right;\n",
       "    }\n",
       "</style>\n",
       "<table border=\"1\" class=\"dataframe\">\n",
       "  <thead>\n",
       "    <tr style=\"text-align: right;\">\n",
       "      <th></th>\n",
       "      <th>score</th>\n",
       "      <th>start</th>\n",
       "      <th>alert_threshold</th>\n",
       "      <th>status</th>\n",
       "    </tr>\n",
       "  </thead>\n",
       "  <tbody>\n",
       "    <tr>\n",
       "      <th>0</th>\n",
       "      <td>0.002945</td>\n",
       "      <td>2023-11-20T18:42:45.473000+00:00</td>\n",
       "      <td>0.25</td>\n",
       "      <td>Ok</td>\n",
       "    </tr>\n",
       "  </tbody>\n",
       "</table>\n",
       "</div>"
      ],
      "text/plain": [
       "      score                             start  alert_threshold status\n",
       "0  0.002945  2023-11-20T18:42:45.473000+00:00             0.25     Ok"
      ]
     },
     "metadata": {},
     "output_type": "display_data"
    }
   ],
   "source": [
    "# Display the results as a DataFrame - we're mainly interested in the score and whether the \n",
    "# alert threshold was triggered\n",
    "display(assay_analysis_from_numpy.to_dataframe().loc[:, [\"score\", \"start\", \"alert_threshold\", \"status\"]])"
   ]
  },
  {
   "cell_type": "markdown",
   "metadata": {},
   "source": [
    "## Edge Deployment\n",
    "\n",
    "We can now deploy the pipeline to an edge device.  This will require the following steps:\n",
    "\n",
    "* Publish the pipeline:  Publishes the pipeline to the OCI registry.\n",
    "* Add Edge:  Add the edge location to the pipeline publish.\n",
    "* Deploy Edge:  Deploy the edge device with the edge location settings."
   ]
  },
  {
   "cell_type": "markdown",
   "metadata": {},
   "source": [
    "### Publish Pipeline\n",
    "\n",
    "Publishing the pipeline uses the pipeline `publish()` command, which returns the OCI registry information."
   ]
  },
  {
   "cell_type": "code",
   "execution_count": null,
   "metadata": {},
   "outputs": [
    {
     "name": "stdout",
     "output_type": "stream",
     "text": [
      "Waiting for pipeline publish... It may take up to 600 sec.\n",
      "Pipeline is Publishing...Published.\n"
     ]
    }
   ],
   "source": [
    "assay_pub = mainpipeline.publish()"
   ]
  },
  {
   "cell_type": "markdown",
   "metadata": {},
   "source": [
    "### Add Edge\n",
    "\n",
    "The edge location is added with the `publish.add_edge(name)` method.  This returns the OCI registration information, and the `EDGE_BUNDLE` information.  The `EDGE_BUNDLE` data is a base64 encoded set of parameters for the pipeline that the edge device is associated with."
   ]
  },
  {
   "cell_type": "code",
   "execution_count": null,
   "metadata": {},
   "outputs": [
    {
     "data": {
      "text/plain": [
       "'house-price-edge-ysyf'"
      ]
     },
     "metadata": {},
     "output_type": "display_data"
    },
    {
     "data": {
      "text/html": [
       "\n",
       "          <table>\n",
       "              <tr><td>ID</td><td>4</td></tr>\n",
       "              <tr><td>Pipeline Version</td><td>1de7790e-937a-4b8d-85af-746a98ca6ad7</td></tr>\n",
       "              <tr><td>Status</td><td>Published</td></tr>\n",
       "              <tr><td>Engine URL</td><td><a href='https://ghcr.io/wallaroolabs/doc-samples/engines/proxy/wallaroo/ghcr.io/wallaroolabs/standalone-mini:v2023.4.0-4103'>ghcr.io/wallaroolabs/doc-samples/engines/proxy/wallaroo/ghcr.io/wallaroolabs/standalone-mini:v2023.4.0-4103</a></td></tr>\n",
       "              <tr><td>Pipeline URL</td><td><a href='https://ghcr.io/wallaroolabs/doc-samples/pipelines/houseprice-estimation:1de7790e-937a-4b8d-85af-746a98ca6ad7'>ghcr.io/wallaroolabs/doc-samples/pipelines/houseprice-estimation:1de7790e-937a-4b8d-85af-746a98ca6ad7</a></td></tr>\n",
       "              <tr><td>Helm Chart URL</td><td>oci://<a href='https://ghcr.io/wallaroolabs/doc-samples/charts/houseprice-estimation'>ghcr.io/wallaroolabs/doc-samples/charts/houseprice-estimation</a></td></tr>\n",
       "              <tr><td>Helm Chart Reference</td><td>ghcr.io/wallaroolabs/doc-samples/charts@sha256:eeacd9bb94d2c711a79061f6d93c48d1a52660aeaa456721df1bc2622dd72bf1</td></tr>\n",
       "              <tr><td>Helm Chart Version</td><td>0.0.1-1de7790e-937a-4b8d-85af-746a98ca6ad7</td></tr>\n",
       "              <tr><td>Engine Config</td><td>{'engine': {'resources': {'limits': {'cpu': 4.0, 'memory': '3Gi'}, 'requests': {'cpu': 4.0, 'memory': '3Gi'}}}, 'engineAux': {}, 'enginelb': {'resources': {'limits': {'cpu': 1.0, 'memory': '512Mi'}, 'requests': {'cpu': 0.2, 'memory': '512Mi'}}}}</td></tr>\n",
       "              <tr><td>User Images</td><td>[]</td></tr>\n",
       "              <tr><td>Created By</td><td>john.hummel@wallaroo.ai</td></tr>\n",
       "              <tr><td>Created At</td><td>2023-11-20 18:45:01.396767+00:00</td></tr>\n",
       "              <tr><td>Updated At</td><td>2023-11-20 18:45:01.396767+00:00</td></tr>\n",
       "              <tr><td>Docker Run Variables</td><td>{'EDGE_BUNDLE': 'ZXhwb3J0IEJVTkRMRV9WRVJTSU9OPTEKZXhwb3J0IEVER0VfTkFNRT1ob3VzZS1wcmljZS1lZGdlLXlzeWYKZXhwb3J0IEpPSU5fVE9LRU49MTNmMWZkMDQtMWM0Yi00Zjc0LTk2ZDYtNWE2YTFjNDZlNjNlCmV4cG9ydCBPUFNDRU5URVJfSE9TVD1kb2MtdGVzdC5lZGdlLndhbGxhcm9vY29tbXVuaXR5Lm5pbmphCmV4cG9ydCBQSVBFTElORV9VUkw9Z2hjci5pby93YWxsYXJvb2xhYnMvZG9jLXNhbXBsZXMvcGlwZWxpbmVzL2hvdXNlcHJpY2UtZXN0aW1hdGlvbjoxZGU3NzkwZS05MzdhLTRiOGQtODVhZi03NDZhOThjYTZhZDcKZXhwb3J0IFdPUktTUEFDRV9JRD03'}</td></tr>\n",
       "          </table>\n",
       "        "
      ],
      "text/plain": [
       "PipelinePublish(created_at=datetime.datetime(2023, 11, 20, 18, 45, 1, 396767, tzinfo=tzutc()), docker_run_variables={'EDGE_BUNDLE': 'ZXhwb3J0IEJVTkRMRV9WRVJTSU9OPTEKZXhwb3J0IEVER0VfTkFNRT1ob3VzZS1wcmljZS1lZGdlLXlzeWYKZXhwb3J0IEpPSU5fVE9LRU49MTNmMWZkMDQtMWM0Yi00Zjc0LTk2ZDYtNWE2YTFjNDZlNjNlCmV4cG9ydCBPUFNDRU5URVJfSE9TVD1kb2MtdGVzdC5lZGdlLndhbGxhcm9vY29tbXVuaXR5Lm5pbmphCmV4cG9ydCBQSVBFTElORV9VUkw9Z2hjci5pby93YWxsYXJvb2xhYnMvZG9jLXNhbXBsZXMvcGlwZWxpbmVzL2hvdXNlcHJpY2UtZXN0aW1hdGlvbjoxZGU3NzkwZS05MzdhLTRiOGQtODVhZi03NDZhOThjYTZhZDcKZXhwb3J0IFdPUktTUEFDRV9JRD03'}, engine_config={'engine': {'resources': {'limits': {'cpu': 4.0, 'memory': '3Gi'}, 'requests': {'cpu': 4.0, 'memory': '3Gi'}}}, 'engineAux': {}, 'enginelb': {'resources': {'limits': {'cpu': 1.0, 'memory': '512Mi'}, 'requests': {'cpu': 0.2, 'memory': '512Mi'}}}}, id=4, pipeline_version_id=18, status='Published', updated_at=datetime.datetime(2023, 11, 20, 18, 45, 1, 396767, tzinfo=tzutc()), user_images=[], created_by='12ea09d1-0f49-405e-bed1-27eb6d10fde4', engine_url='ghcr.io/wallaroolabs/doc-samples/engines/proxy/wallaroo/ghcr.io/wallaroolabs/standalone-mini:v2023.4.0-4103', error=None, helm={'reference': 'ghcr.io/wallaroolabs/doc-samples/charts@sha256:eeacd9bb94d2c711a79061f6d93c48d1a52660aeaa456721df1bc2622dd72bf1', 'values': {'edgeBundle': 'ZXhwb3J0IEJVTkRMRV9WRVJTSU9OPTEKZXhwb3J0IEVER0VfTkFNRT1ob3VzZS1wcmljZS1lZGdlLXlzeWYKZXhwb3J0IEpPSU5fVE9LRU49MTNmMWZkMDQtMWM0Yi00Zjc0LTk2ZDYtNWE2YTFjNDZlNjNlCmV4cG9ydCBPUFNDRU5URVJfSE9TVD1kb2MtdGVzdC5lZGdlLndhbGxhcm9vY29tbXVuaXR5Lm5pbmphCmV4cG9ydCBQSVBFTElORV9VUkw9Z2hjci5pby93YWxsYXJvb2xhYnMvZG9jLXNhbXBsZXMvcGlwZWxpbmVzL2hvdXNlcHJpY2UtZXN0aW1hdGlvbjoxZGU3NzkwZS05MzdhLTRiOGQtODVhZi03NDZhOThjYTZhZDcKZXhwb3J0IFdPUktTUEFDRV9JRD03'}, 'chart': 'ghcr.io/wallaroolabs/doc-samples/charts/houseprice-estimation', 'version': '0.0.1-1de7790e-937a-4b8d-85af-746a98ca6ad7'}, pipeline_url='ghcr.io/wallaroolabs/doc-samples/pipelines/houseprice-estimation:1de7790e-937a-4b8d-85af-746a98ca6ad7', pipeline_version_name='1de7790e-937a-4b8d-85af-746a98ca6ad7', additional_properties={})"
      ]
     },
     "metadata": {},
     "output_type": "display_data"
    }
   ],
   "source": [
    "display(edge_name)\n",
    "edge_publish = assay_pub.add_edge(edge_name)\n",
    "display(edge_publish)"
   ]
  },
  {
   "cell_type": "markdown",
   "metadata": {},
   "source": [
    "### DevOps Deployment\n",
    "\n",
    "The edge deployment is performed with `docker run`, `docker compose`, or `helm` installations.  The following command generates the `docker run` command, with the following values provided by the DevOps Engineer:\n",
    "\n",
    "* `$REGISTRYURL`\n",
    "* `$REGISTRYUSERNAME`\n",
    "* `$REGISTRYPASSWORD`\n",
    "\n",
    "Before deploying, create the `./data` directory that is used to store the authentication credentials."
   ]
  },
  {
   "cell_type": "code",
   "execution_count": 28,
   "metadata": {},
   "outputs": [
    {
     "name": "stdout",
     "output_type": "stream",
     "text": [
      "\n",
      "mkdir ./data\n",
      "docker run -p 8080:8080 \\\n",
      "    -v ./data:/persist \\\n",
      "    -e DEBUG=true \\\n",
      "    -e OCI_REGISTRY=$REGISTRYURL \\\n",
      "    -e EDGE_BUNDLE=ZXhwb3J0IEJVTkRMRV9WRVJTSU9OPTEKZXhwb3J0IEVER0VfTkFNRT1ob3VzZS1wcmljZS1lZGdlLXlzeWYKZXhwb3J0IEpPSU5fVE9LRU49MTNmMWZkMDQtMWM0Yi00Zjc0LTk2ZDYtNWE2YTFjNDZlNjNlCmV4cG9ydCBPUFNDRU5URVJfSE9TVD1kb2MtdGVzdC5lZGdlLndhbGxhcm9vY29tbXVuaXR5Lm5pbmphCmV4cG9ydCBQSVBFTElORV9VUkw9Z2hjci5pby93YWxsYXJvb2xhYnMvZG9jLXNhbXBsZXMvcGlwZWxpbmVzL2hvdXNlcHJpY2UtZXN0aW1hdGlvbjoxZGU3NzkwZS05MzdhLTRiOGQtODVhZi03NDZhOThjYTZhZDcKZXhwb3J0IFdPUktTUEFDRV9JRD03 \\\n",
      "    -e CONFIG_CPUS=1 \\\n",
      "    -e OCI_USERNAME=$REGISTRYUSERNAME \\\n",
      "    -e OCI_PASSWORD=$REGISTRYPASSWORD \\\n",
      "    -e PIPELINE_URL=ghcr.io/wallaroolabs/doc-samples/pipelines/houseprice-estimation:1de7790e-937a-4b8d-85af-746a98ca6ad7 \\\n",
      "    ghcr.io/wallaroolabs/doc-samples/engines/proxy/wallaroo/ghcr.io/wallaroolabs/standalone-mini:v2023.4.0-4103\n",
      "\n"
     ]
    }
   ],
   "source": [
    "# create docker run \n",
    "\n",
    "docker_command = f'''\n",
    "mkdir ./data\n",
    "docker run -p 8080:8080 \\\\\n",
    "    -v ./data:/persist \\\\\n",
    "    -e DEBUG=true \\\\\n",
    "    -e OCI_REGISTRY=$REGISTRYURL \\\\\n",
    "    -e EDGE_BUNDLE={edge_publish.docker_run_variables['EDGE_BUNDLE']} \\\\\n",
    "    -e CONFIG_CPUS=1 \\\\\n",
    "    -e OCI_USERNAME=$REGISTRYUSERNAME \\\\\n",
    "    -e OCI_PASSWORD=$REGISTRYPASSWORD \\\\\n",
    "    -e PIPELINE_URL={edge_publish.pipeline_url} \\\\\n",
    "    {edge_publish.engine_url}\n",
    "'''\n",
    "\n",
    "print(docker_command)"
   ]
  },
  {
   "cell_type": "markdown",
   "metadata": {},
   "source": [
    "```bash\n",
    "curl testboy.local:8080/pipelines\n",
    "{\"pipelines\":[{\"id\":\"housepricesagapipeline\",\"status\":\"Running\"}]}\n",
    "```\n",
    "\n",
    "```bash\n",
    "curl -X POST testboy.local:8080/pipelines/houseprice-estimation \\\n",
    "    -H \"Content-Type: application/vnd.apache.arrow.file\" \\\n",
    "    --data-binary @./data/xtest-1k.arrow \n",
    "  % Total    % Received % Xferd  Average Speed   Time    Time     Time  Current\n",
    "                                 Dload  Upload   Total   Spent    Left  Speed\n",
    "100  513k  100  442k  100 73100  19.8M  3287k --:--:-- --:--:-- --:--:-- 23.8M\n",
    "```"
   ]
  },
  {
   "cell_type": "code",
   "execution_count": 29,
   "metadata": {},
   "outputs": [],
   "source": [
    "mainpipeline.export_logs(limit=50000,\n",
    "    directory='partition-edge-observability',\n",
    "    file_prefix='edge-logs',\n",
    "    dataset=['time', 'out.variable', 'metadata'])"
   ]
  },
  {
   "cell_type": "code",
   "execution_count": 30,
   "metadata": {},
   "outputs": [
    {
     "data": {
      "text/html": [
       "<div>\n",
       "<style scoped>\n",
       "    .dataframe tbody tr th:only-of-type {\n",
       "        vertical-align: middle;\n",
       "    }\n",
       "\n",
       "    .dataframe tbody tr th {\n",
       "        vertical-align: top;\n",
       "    }\n",
       "\n",
       "    .dataframe thead th {\n",
       "        text-align: right;\n",
       "    }\n",
       "</style>\n",
       "<table border=\"1\" class=\"dataframe\">\n",
       "  <thead>\n",
       "    <tr style=\"text-align: right;\">\n",
       "      <th></th>\n",
       "      <th>out.variable</th>\n",
       "      <th>metadata.partition</th>\n",
       "    </tr>\n",
       "  </thead>\n",
       "  <tbody>\n",
       "    <tr>\n",
       "      <th>1000</th>\n",
       "      <td>[581002.9375]</td>\n",
       "      <td>house-price-edge-ysyf</td>\n",
       "    </tr>\n",
       "    <tr>\n",
       "      <th>1001</th>\n",
       "      <td>[706823.5]</td>\n",
       "      <td>house-price-edge-ysyf</td>\n",
       "    </tr>\n",
       "    <tr>\n",
       "      <th>1002</th>\n",
       "      <td>[1060847.5]</td>\n",
       "      <td>house-price-edge-ysyf</td>\n",
       "    </tr>\n",
       "    <tr>\n",
       "      <th>1003</th>\n",
       "      <td>[441960.375]</td>\n",
       "      <td>house-price-edge-ysyf</td>\n",
       "    </tr>\n",
       "    <tr>\n",
       "      <th>1004</th>\n",
       "      <td>[827411.125]</td>\n",
       "      <td>house-price-edge-ysyf</td>\n",
       "    </tr>\n",
       "    <tr>\n",
       "      <th>...</th>\n",
       "      <td>...</td>\n",
       "      <td>...</td>\n",
       "    </tr>\n",
       "    <tr>\n",
       "      <th>2495</th>\n",
       "      <td>[513264.625]</td>\n",
       "      <td>house-price-edge-ysyf</td>\n",
       "    </tr>\n",
       "    <tr>\n",
       "      <th>2496</th>\n",
       "      <td>[758714.1875]</td>\n",
       "      <td>house-price-edge-ysyf</td>\n",
       "    </tr>\n",
       "    <tr>\n",
       "      <th>2497</th>\n",
       "      <td>[448627.6875]</td>\n",
       "      <td>house-price-edge-ysyf</td>\n",
       "    </tr>\n",
       "    <tr>\n",
       "      <th>2498</th>\n",
       "      <td>[615094.5625]</td>\n",
       "      <td>house-price-edge-ysyf</td>\n",
       "    </tr>\n",
       "    <tr>\n",
       "      <th>2499</th>\n",
       "      <td>[718013.6875]</td>\n",
       "      <td>house-price-edge-ysyf</td>\n",
       "    </tr>\n",
       "  </tbody>\n",
       "</table>\n",
       "<p>1000 rows × 2 columns</p>\n",
       "</div>"
      ],
      "text/plain": [
       "       out.variable     metadata.partition\n",
       "1000  [581002.9375]  house-price-edge-ysyf\n",
       "1001     [706823.5]  house-price-edge-ysyf\n",
       "1002    [1060847.5]  house-price-edge-ysyf\n",
       "1003   [441960.375]  house-price-edge-ysyf\n",
       "1004   [827411.125]  house-price-edge-ysyf\n",
       "...             ...                    ...\n",
       "2495   [513264.625]  house-price-edge-ysyf\n",
       "2496  [758714.1875]  house-price-edge-ysyf\n",
       "2497  [448627.6875]  house-price-edge-ysyf\n",
       "2498  [615094.5625]  house-price-edge-ysyf\n",
       "2499  [718013.6875]  house-price-edge-ysyf\n",
       "\n",
       "[1000 rows x 2 columns]"
      ]
     },
     "metadata": {},
     "output_type": "display_data"
    }
   ],
   "source": [
    "# display the partition only results\n",
    "\n",
    "df_logs = pd.read_json('./partition-edge-observability/edge-logs-1.json', \n",
    "                       orient=\"records\", \n",
    "                       lines=True)\n",
    "#filter out just the `metadata.partition='houseprice-edgebaseline-examples'\n",
    "\n",
    "display(df_logs[df_logs['metadata.partition']==edge_name].loc[:, ['out.variable', 'metadata.partition']])\n",
    "# display(df_logs.loc[:, ['out.variable', 'metadata.partition']])"
   ]
  },
  {
   "cell_type": "code",
   "execution_count": 31,
   "metadata": {},
   "outputs": [
    {
     "data": {
      "text/plain": [
       "['engine-7ccc6d55fc-fvj95', 'house-price-edge-ysyf']"
      ]
     },
     "execution_count": 31,
     "metadata": {},
     "output_type": "execute_result"
    }
   ],
   "source": [
    "all_locations = [pd.unique(df_logs['metadata.partition']).tolist()][0]\n",
    "all_locations"
   ]
  },
  {
   "cell_type": "code",
   "execution_count": 32,
   "metadata": {},
   "outputs": [],
   "source": [
    "assay_baseline_from_edge_name = \"edge assays from edge\"\n",
    "\n",
    "# assay builder by baseline\n",
    "assay_builder_from_edge = wl.build_assay(assay_name=assay_baseline_from_edge_name, \n",
    "                               pipeline=mainpipeline, \n",
    "                               model_name=model_name_control, \n",
    "                               iopath=\"output variable 0\", \n",
    "                               baseline_data=small_results_baseline)\n",
    "\n",
    "# for brand new instances, this provides time for the pipeline logs to finish writing\n",
    "time.sleep(60)\n",
    "\n",
    "location_window_end = datetime.datetime.now()"
   ]
  },
  {
   "cell_type": "code",
   "execution_count": 33,
   "metadata": {},
   "outputs": [],
   "source": [
    "assay_builder_from_edge.add_run_until(location_window_end)\n",
    "assay_builder_from_edge.window_builder().add_location_filter([edge_name])\n",
    "assay_builder_from_edge.window_builder().add_width(minutes=1).add_interval(minutes=1)\n",
    "assay_config_from_edge = assay_builder_from_edge.build()\n",
    "assay_analysis_from_edge = assay_config_from_edge.interactive_run()"
   ]
  },
  {
   "cell_type": "code",
   "execution_count": 34,
   "metadata": {},
   "outputs": [
    {
     "name": "stdout",
     "output_type": "stream",
     "text": [
      "Generated 1 analyses\n"
     ]
    },
    {
     "data": {
      "image/png": "[encoded data removed]",
      "text/plain": [
       "<Figure size 432x288 with 1 Axes>"
      ]
     },
     "metadata": {
      "needs_background": "light"
     },
     "output_type": "display_data"
    }
   ],
   "source": [
    "# Show how many assay windows were analyzed, then show the chart\n",
    "print(f\"Generated {len(assay_analysis_from_edge)} analyses\")\n",
    "assay_analysis_from_edge.chart_scores()"
   ]
  },
  {
   "cell_type": "code",
   "execution_count": 35,
   "metadata": {},
   "outputs": [
    {
     "data": {
      "text/html": [
       "<div>\n",
       "<style scoped>\n",
       "    .dataframe tbody tr th:only-of-type {\n",
       "        vertical-align: middle;\n",
       "    }\n",
       "\n",
       "    .dataframe tbody tr th {\n",
       "        vertical-align: top;\n",
       "    }\n",
       "\n",
       "    .dataframe thead th {\n",
       "        text-align: right;\n",
       "    }\n",
       "</style>\n",
       "<table border=\"1\" class=\"dataframe\">\n",
       "  <thead>\n",
       "    <tr style=\"text-align: right;\">\n",
       "      <th></th>\n",
       "      <th>score</th>\n",
       "      <th>start</th>\n",
       "      <th>alert_threshold</th>\n",
       "      <th>status</th>\n",
       "    </tr>\n",
       "  </thead>\n",
       "  <tbody>\n",
       "    <tr>\n",
       "      <th>0</th>\n",
       "      <td>0.035084</td>\n",
       "      <td>2023-11-20T18:46:45.473000+00:00</td>\n",
       "      <td>0.25</td>\n",
       "      <td>Ok</td>\n",
       "    </tr>\n",
       "  </tbody>\n",
       "</table>\n",
       "</div>"
      ],
      "text/plain": [
       "      score                             start  alert_threshold status\n",
       "0  0.035084  2023-11-20T18:46:45.473000+00:00             0.25     Ok"
      ]
     },
     "metadata": {},
     "output_type": "display_data"
    }
   ],
   "source": [
    "# Display the results as a DataFrame - we're mainly interested in the score and whether the \n",
    "# alert threshold was triggered\n",
    "display(assay_analysis_from_edge.to_dataframe().loc[:, [\"score\", \"start\", \"alert_threshold\", \"status\"]])"
   ]
  },
  {
   "cell_type": "code",
   "execution_count": 36,
   "metadata": {},
   "outputs": [],
   "source": [
    "assay_baseline_from_edge_name = \"edge assays all locations\"\n",
    "\n",
    "# assay builder by baseline\n",
    "assay_builder_from_all_locations = wl.build_assay(assay_name=assay_baseline_from_edge_name, \n",
    "                               pipeline=mainpipeline, \n",
    "                               model_name=model_name_control, \n",
    "                               iopath=\"output variable 0\", \n",
    "                               baseline_data=small_results_baseline)\n",
    "\n",
    "# for brand new instances, this provides time for the pipeline logs to finish writing\n",
    "time.sleep(60)\n",
    "\n",
    "all_locations_window_end = datetime.datetime.now()"
   ]
  },
  {
   "cell_type": "code",
   "execution_count": 37,
   "metadata": {},
   "outputs": [],
   "source": [
    "assay_builder_from_all_locations.add_run_until(all_locations_window_end)\n",
    "assay_builder_from_all_locations.window_builder().add_location_filter(all_locations)\n",
    "assay_builder_from_all_locations.window_builder().add_width(minutes=1).add_interval(minutes=1)\n",
    "assay_config_all_locations_from_dates = assay_builder_from_all_locations.build()\n",
    "assay_analysis_from_all_locations = assay_config_all_locations_from_dates.interactive_run()"
   ]
  },
  {
   "cell_type": "code",
   "execution_count": 38,
   "metadata": {},
   "outputs": [
    {
     "name": "stdout",
     "output_type": "stream",
     "text": [
      "Generated 3 analyses\n"
     ]
    },
    {
     "data": {
      "image/png": "[encoded data removed]",
      "text/plain": [
       "<Figure size 432x288 with 1 Axes>"
      ]
     },
     "metadata": {
      "needs_background": "light"
     },
     "output_type": "display_data"
    }
   ],
   "source": [
    "# Show how many assay windows were analyzed, then show the chart\n",
    "print(f\"Generated {len(assay_analysis_from_all_locations)} analyses\")\n",
    "assay_analysis_from_all_locations.chart_scores()"
   ]
  },
  {
   "cell_type": "markdown",
   "metadata": {},
   "source": [
    "### Undeploy Main Pipeline\n",
    "\n",
    "With the examples and tutorial complete, we will undeploy the main pipeline and return the resources back to the Wallaroo instance."
   ]
  },
  {
   "cell_type": "code",
   "execution_count": 39,
   "metadata": {},
   "outputs": [
    {
     "name": "stdout",
     "output_type": "stream",
     "text": [
      "Waiting for undeployment - this will take up to 45s ..................................... ok\n"
     ]
    },
    {
     "data": {
      "text/html": [
       "<table><tr><th>name</th> <td>houseprice-estimation</td></tr><tr><th>created</th> <td>2023-11-20 18:42:35.686701+00:00</td></tr><tr><th>last_updated</th> <td>2023-11-20 18:45:01.284289+00:00</td></tr><tr><th>deployed</th> <td>False</td></tr><tr><th>arch</th> <td>None</td></tr><tr><th>tags</th> <td></td></tr><tr><th>versions</th> <td>1de7790e-937a-4b8d-85af-746a98ca6ad7, 2cf51c49-c009-4827-9054-bde836cb271c, 96b5ce06-582d-4c2c-b330-6c1d45eabba4</td></tr><tr><th>steps</th> <td>housepricesagacontrol</td></tr><tr><th>published</th> <td>False</td></tr></table>"
      ],
      "text/plain": [
       "{'name': 'houseprice-estimation', 'create_time': datetime.datetime(2023, 11, 20, 18, 42, 35, 686701, tzinfo=tzutc()), 'definition': \"[{'ModelInference': {'models': [{'name': 'housepricesagacontrol', 'version': '2645bcd5-551f-41c9-b750-b6a3af90cc44', 'sha': 'e22a0831aafd9917f3cc87a15ed267797f80e2afa12ad7d8810ca58f173b8cc6'}]}}]\"}"
      ]
     },
     "execution_count": 39,
     "metadata": {},
     "output_type": "execute_result"
    }
   ],
   "source": [
    "mainpipeline.undeploy()"
   ]
  }
 ],
 "metadata": {
  "kernelspec": {
   "display_name": "Python 3 (ipykernel)",
   "language": "python",
   "name": "python3"
  },
  "language_info": {
   "codemirror_mode": {
    "name": "ipython",
    "version": 3
   },
   "file_extension": ".py",
   "mimetype": "text/x-python",
   "name": "python",
   "nbconvert_exporter": "python",
   "pygments_lexer": "ipython3",
   "version": "3.8.18"
  },
  "vscode": {
   "interpreter": {
    "hash": "7dda4bf3640b7fafcd1648658b879b4cc9f6ba6084e8fb356fdaaa1a461d1690"
   }
  }
 },
 "nbformat": 4,
 "nbformat_minor": 4
}
