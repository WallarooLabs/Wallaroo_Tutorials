{
 "cells": [
  {
   "cell_type": "markdown",
   "metadata": {},
   "source": [
    "This tutorial and the assets can be downloaded as part of the [Wallaroo Tutorials repository](https://github.com/WallarooLabs/Wallaroo_Tutorials/tree/main/wallaroo-testing-tutorials/anomaly_detection).\n",
    "\n",
    "## House Price Testing Life Cycle Preparation\n",
    "\n",
    "This notebook is used in preparation for the House Price Life Cycle tutorial.  This includes:\n",
    "\n",
    "* Setting up a workspace, pipeline, and model for deriving the price of a house based on inputs.\n",
    "* Creating an assay from a sample of inferences.\n",
    "* Display the inference result and upload the assay to the Wallaroo instance where it can be referenced later.\n",
    "\n",
    "This preparation is used for the House Price Life Cycle Comprehensive and Short tutorials, included in this folder.\n",
    "\n",
    "This tutorial provides the following:\n",
    "\n",
    "* Models:\n",
    "  * `models/rf_model.onnx`: The champion model that has been used in this environment for some time.\n",
    "  * `models/xgb_model.onnx` and `models/gbr_model.onnx`: Rival models that will be tested against the champion.\n",
    "* Data:\n",
    "  * `data/xtest-1.df.json` and `data/xtest-1k.df.json`:  DataFrame JSON inference inputs with 1 input and 1,000 inputs.\n",
    "  * `data/xtest-1k.arrow`:  Apache Arrow inference inputs with 1 input and 1,000 inputs.\n",
    "\n",
    "## Prerequisites\n",
    "\n",
    "* A deployed Wallaroo instance\n",
    "* The following Python libraries installed:\n",
    "  * [`wallaroo`](https://pypi.org/project/wallaroo/): The Wallaroo SDK. Included with the Wallaroo JupyterHub service by default.\n",
    "  * [`pandas`](https://pypi.org/project/pandas/): Pandas, mainly used for Pandas DataFrame\n",
    "\n",
    "## Preparation\n",
    "\n",
    "It is recommended that this preparation is run at least an hour or so before a demonstration of the House Price Saga Comprehensive and Short tutorials.\n",
    "\n",
    "This will require that the same workspace, pipeline, model name, and assay name are used from this preparation notebook to the tutorial.  Those variables are stored directly below.  "
   ]
  },
  {
   "cell_type": "code",
   "execution_count": 1,
   "metadata": {},
   "outputs": [],
   "source": [
    "# used for unique connection names\n",
    "\n",
    "import string\n",
    "import random\n",
    "\n",
    "suffix= ''.join(random.choice(string.ascii_lowercase) for i in range(4))\n",
    "suffix=''\n",
    "\n",
    "# used to make a unique workspace\n",
    "suffix='baseline-examples'\n",
    "\n",
    "workspace_name = f'edge-observability-assays{suffix}'\n",
    "main_pipeline_name = f'housepricesagapipeline'\n",
    "model_name_control = f'housepricesagacontrol'\n",
    "model_file_name_control = './models/rf_model.onnx'\n",
    "\n",
    "# Set the name of the assay\n",
    "assay_name=f\"house price test{suffix}\""
   ]
  },
  {
   "cell_type": "code",
   "execution_count": 2,
   "metadata": {},
   "outputs": [],
   "source": [
    "def get_workspace(name):\n",
    "    workspace = None\n",
    "    for ws in wl.list_workspaces():\n",
    "        if ws.name() == name:\n",
    "            workspace= ws\n",
    "    if(workspace == None):\n",
    "        workspace = wl.create_workspace(name)\n",
    "    return workspace\n",
    "\n",
    "def get_pipeline(name, workspace):\n",
    "    pipelines = workspace.pipelines()\n",
    "    pipe_filter = filter(lambda x: x.name() == name, pipelines)\n",
    "    pipes = list(pipe_filter)\n",
    "    # we can't have a pipe in the workspace with the same name, so it's always the first\n",
    "    if pipes:\n",
    "        pipeline = pipes[0]\n",
    "    else:\n",
    "        pipeline = wl.build_pipeline(name)\n",
    "    return pipeline"
   ]
  },
  {
   "cell_type": "markdown",
   "metadata": {},
   "source": [
    "## Initial Steps\n",
    "\n",
    "### Import libraries\n",
    "\n",
    "The first step is to import the libraries needed for this notebook."
   ]
  },
  {
   "cell_type": "code",
   "execution_count": 3,
   "metadata": {},
   "outputs": [],
   "source": [
    "import wallaroo\n",
    "from wallaroo.object import EntityNotFoundError\n",
    "from wallaroo.framework import Framework\n",
    "\n",
    "from IPython.display import display\n",
    "\n",
    "# used to display DataFrame information without truncating\n",
    "from IPython.display import display\n",
    "import pandas as pd\n",
    "pd.set_option('display.max_colwidth', None)\n",
    "\n",
    "import datetime\n",
    "import time\n",
    "\n"
   ]
  },
  {
   "cell_type": "markdown",
   "metadata": {},
   "source": [
    "### Connect to the Wallaroo Instance\n",
    "\n",
    "The first step is to connect to Wallaroo through the Wallaroo client.  The Python library is included in the Wallaroo install and available through the Jupyter Hub interface provided with your Wallaroo environment.\n",
    "\n",
    "This is accomplished using the `wallaroo.Client()` command, which provides a URL to grant the SDK permission to your specific Wallaroo environment.  When displayed, enter the URL into a browser and confirm permissions.  Store the connection into a variable that can be referenced later.\n",
    "\n",
    "If logging into the Wallaroo instance through the internal JupyterHub service, use `wl = wallaroo.Client()`.  For more information on Wallaroo Client settings, see the [Client Connection guide](https://docs.wallaroo.ai/wallaroo-developer-guides/wallaroo-sdk-guides/wallaroo-sdk-essentials-guide/wallaroo-sdk-essentials-client/)."
   ]
  },
  {
   "cell_type": "code",
   "execution_count": 4,
   "metadata": {},
   "outputs": [],
   "source": [
    "# Login through local Wallaroo instance\n",
    "\n",
    "wl = wallaroo.Client()"
   ]
  },
  {
   "cell_type": "markdown",
   "metadata": {},
   "source": [
    "### Create Workspace\n",
    "\n",
    "We will create a workspace to manage our pipeline and models.  The following variables will set the name of our sample workspace then set it as the current workspace.\n",
    "\n",
    "Workspace, pipeline, and model names should be unique to each user, so we'll add in a randomly generated suffix so multiple people can run this tutorial in a Wallaroo instance without effecting each other."
   ]
  },
  {
   "cell_type": "code",
   "execution_count": 5,
   "metadata": {},
   "outputs": [
    {
     "data": {
      "text/plain": [
       "{'name': 'edge-observability-assaysbaseline-examples', 'id': 13, 'archived': False, 'created_by': 'b3deff28-04d0-41b8-a04f-b5cf610d6ce9', 'created_at': '2023-10-31T20:04:58.466872+00:00', 'models': [{'name': 'housepricesagacontrol', 'versions': 1, 'owner_id': '\"\"', 'last_update_time': datetime.datetime(2023, 10, 31, 20, 4, 58, 809138, tzinfo=tzutc()), 'created_at': datetime.datetime(2023, 10, 31, 20, 4, 58, 809138, tzinfo=tzutc())}], 'pipelines': [{'name': 'housepricesagapipeline', 'create_time': datetime.datetime(2023, 10, 31, 20, 4, 58, 893166, tzinfo=tzutc()), 'definition': '[]'}]}"
      ]
     },
     "execution_count": 5,
     "metadata": {},
     "output_type": "execute_result"
    }
   ],
   "source": [
    "workspace = get_workspace(workspace_name)\n",
    "\n",
    "wl.set_current_workspace(workspace)"
   ]
  },
  {
   "cell_type": "markdown",
   "metadata": {},
   "source": [
    "### Upload The Champion Model\n",
    "\n",
    "For our example, we will upload the champion model that has been trained to derive house prices from a variety of inputs.  The model file is `rf_model.onnx`, and is uploaded with the name `housingcontrol`."
   ]
  },
  {
   "cell_type": "code",
   "execution_count": 6,
   "metadata": {},
   "outputs": [],
   "source": [
    "housing_model_control = (wl.upload_model(model_name_control, \n",
    "                                        model_file_name_control, \n",
    "                                        framework=Framework.ONNX)\n",
    "                                        .configure(tensor_fields=[\"tensor\"])\n",
    "                        )"
   ]
  },
  {
   "cell_type": "markdown",
   "metadata": {},
   "source": [
    "## Standard Pipeline Steps\n",
    "\n",
    "### Build the Pipeline\n",
    "\n",
    "This pipeline is made to be an example of an existing situation where a model is deployed and being used for inferences in a production environment.  We'll call it `housepricepipeline`, set `housingcontrol` as a pipeline step, then run a few sample inferences.\n",
    "\n",
    "This pipeline will be a simple one - just a single pipeline step."
   ]
  },
  {
   "cell_type": "code",
   "execution_count": 7,
   "metadata": {},
   "outputs": [
    {
     "name": "stdout",
     "output_type": "stream",
     "text": [
      " ok\n"
     ]
    },
    {
     "data": {
      "text/html": [
       "<table><tr><th>name</th> <td>housepricesagapipeline</td></tr><tr><th>created</th> <td>2023-10-31 20:04:58.893166+00:00</td></tr><tr><th>last_updated</th> <td>2023-10-31 20:38:39.352660+00:00</td></tr><tr><th>deployed</th> <td>True</td></tr><tr><th>arch</th> <td>None</td></tr><tr><th>tags</th> <td></td></tr><tr><th>versions</th> <td>c49b4fcd-521f-4435-a731-8c155e34eab7, 0056edf3-730f-452d-a6ed-2dfa47ff5567, 8bc714ea-8257-4512-a102-402baf3143b3, 76006480-b145-4d6a-9e95-9b2e7a4f8d8e</td></tr><tr><th>steps</th> <td>housepricesagacontrol</td></tr><tr><th>published</th> <td>True</td></tr></table>"
      ],
      "text/plain": [
       "{'name': 'housepricesagapipeline', 'create_time': datetime.datetime(2023, 10, 31, 20, 4, 58, 893166, tzinfo=tzutc()), 'definition': \"[{'ModelInference': {'models': [{'name': 'housepricesagacontrol', 'version': '6c274a84-7913-472c-b6bf-a53d637d3d94', 'sha': 'e22a0831aafd9917f3cc87a15ed267797f80e2afa12ad7d8810ca58f173b8cc6'}]}}]\"}"
      ]
     },
     "execution_count": 7,
     "metadata": {},
     "output_type": "execute_result"
    }
   ],
   "source": [
    "mainpipeline = get_pipeline(main_pipeline_name, workspace)\n",
    "mainpipeline.clear()\n",
    "\n",
    "mainpipeline.add_model_step(housing_model_control)\n",
    "\n",
    "#minimum deployment config\n",
    "deploy_config = wallaroo.DeploymentConfigBuilder().replica_count(1).cpus(0.5).memory(\"1Gi\").build()\n",
    "\n",
    "mainpipeline.deploy(deployment_config = deploy_config)"
   ]
  },
  {
   "cell_type": "markdown",
   "metadata": {},
   "source": [
    "### Testing\n",
    "\n",
    "We'll use two inferences as a quick sample test - one that has a house that should be determined around `$700k`, the other with a house determined to be around `$1.5` million.  We'll also save the start and end periods for these events to for later log functionality."
   ]
  },
  {
   "cell_type": "code",
   "execution_count": 8,
   "metadata": {},
   "outputs": [
    {
     "data": {
      "text/html": [
       "<div>\n",
       "<style scoped>\n",
       "    .dataframe tbody tr th:only-of-type {\n",
       "        vertical-align: middle;\n",
       "    }\n",
       "\n",
       "    .dataframe tbody tr th {\n",
       "        vertical-align: top;\n",
       "    }\n",
       "\n",
       "    .dataframe thead th {\n",
       "        text-align: right;\n",
       "    }\n",
       "</style>\n",
       "<table border=\"1\" class=\"dataframe\">\n",
       "  <thead>\n",
       "    <tr style=\"text-align: right;\">\n",
       "      <th></th>\n",
       "      <th>time</th>\n",
       "      <th>in.tensor</th>\n",
       "      <th>out.variable</th>\n",
       "      <th>check_failures</th>\n",
       "    </tr>\n",
       "  </thead>\n",
       "  <tbody>\n",
       "    <tr>\n",
       "      <th>0</th>\n",
       "      <td>2023-10-31 20:38:39.742</td>\n",
       "      <td>[4.0, 2.5, 2900.0, 5505.0, 2.0, 0.0, 0.0, 3.0, 8.0, 2900.0, 0.0, 47.6063, -122.02, 2970.0, 5251.0, 12.0, 0.0, 0.0]</td>\n",
       "      <td>[718013.7]</td>\n",
       "      <td>0</td>\n",
       "    </tr>\n",
       "  </tbody>\n",
       "</table>\n",
       "</div>"
      ],
      "text/plain": [
       "                     time  \\\n",
       "0 2023-10-31 20:38:39.742   \n",
       "\n",
       "                                                                                                            in.tensor  \\\n",
       "0  [4.0, 2.5, 2900.0, 5505.0, 2.0, 0.0, 0.0, 3.0, 8.0, 2900.0, 0.0, 47.6063, -122.02, 2970.0, 5251.0, 12.0, 0.0, 0.0]   \n",
       "\n",
       "  out.variable  check_failures  \n",
       "0   [718013.7]               0  "
      ]
     },
     "metadata": {},
     "output_type": "display_data"
    }
   ],
   "source": [
    "normal_input = pd.DataFrame.from_records({\"tensor\": [[4.0, 2.5, 2900.0, 5505.0, 2.0, 0.0, 0.0, 3.0, 8.0, 2900.0, 0.0, 47.6063, -122.02, 2970.0, 5251.0, 12.0, 0.0, 0.0]]})\n",
    "result = mainpipeline.infer(normal_input)\n",
    "display(result)"
   ]
  },
  {
   "cell_type": "code",
   "execution_count": 9,
   "metadata": {},
   "outputs": [
    {
     "data": {
      "text/html": [
       "<div>\n",
       "<style scoped>\n",
       "    .dataframe tbody tr th:only-of-type {\n",
       "        vertical-align: middle;\n",
       "    }\n",
       "\n",
       "    .dataframe tbody tr th {\n",
       "        vertical-align: top;\n",
       "    }\n",
       "\n",
       "    .dataframe thead th {\n",
       "        text-align: right;\n",
       "    }\n",
       "</style>\n",
       "<table border=\"1\" class=\"dataframe\">\n",
       "  <thead>\n",
       "    <tr style=\"text-align: right;\">\n",
       "      <th></th>\n",
       "      <th>time</th>\n",
       "      <th>in.tensor</th>\n",
       "      <th>out.variable</th>\n",
       "      <th>check_failures</th>\n",
       "    </tr>\n",
       "  </thead>\n",
       "  <tbody>\n",
       "    <tr>\n",
       "      <th>0</th>\n",
       "      <td>2023-10-31 20:38:39.775</td>\n",
       "      <td>[4.0, 3.0, 3710.0, 20000.0, 2.0, 0.0, 2.0, 5.0, 10.0, 2760.0, 950.0, 47.6696, -122.261, 3970.0, 20000.0, 79.0, 0.0, 0.0]</td>\n",
       "      <td>[1514079.4]</td>\n",
       "      <td>0</td>\n",
       "    </tr>\n",
       "  </tbody>\n",
       "</table>\n",
       "</div>"
      ],
      "text/plain": [
       "                     time  \\\n",
       "0 2023-10-31 20:38:39.775   \n",
       "\n",
       "                                                                                                                  in.tensor  \\\n",
       "0  [4.0, 3.0, 3710.0, 20000.0, 2.0, 0.0, 2.0, 5.0, 10.0, 2760.0, 950.0, 47.6696, -122.261, 3970.0, 20000.0, 79.0, 0.0, 0.0]   \n",
       "\n",
       "  out.variable  check_failures  \n",
       "0  [1514079.4]               0  "
      ]
     },
     "metadata": {},
     "output_type": "display_data"
    }
   ],
   "source": [
    "large_house_input = pd.DataFrame.from_records({'tensor': [[4.0, 3.0, 3710.0, 20000.0, 2.0, 0.0, 2.0, 5.0, 10.0, 2760.0, 950.0, 47.6696, -122.261, 3970.0, 20000.0, 79.0, 0.0, 0.0]]})\n",
    "large_house_result = mainpipeline.infer(large_house_input)\n",
    "display(large_house_result)"
   ]
  },
  {
   "cell_type": "markdown",
   "metadata": {},
   "source": [
    "## Assays\n",
    "\n",
    "Wallaroo assays provide a method for detecting input or model drift.  These can be triggered either when unexpected input is provided for the inference, or when the model needs to be retrained from changing environment conditions.\n",
    "\n",
    "Wallaroo assays can track either an input field and its index, or an output field and its index.  For full details, see the [Wallaroo Assays Management Guide](https://docs.wallaroo.ai/wallaroo-operations-guide/wallaroo-pipeline-management/wallaroo-pipeline-assays/).\n",
    "\n",
    "For this example, we will:\n",
    "\n",
    "* Perform sample inferences based on lower priced houses.\n",
    "* Create an assay with the baseline set off those lower priced houses.\n",
    "* Generate inferences spread across all house values, plus specific set of high priced houses to trigger the assay alert.\n",
    "* Run an interactive assay to show the detection of values outside the established baseline."
   ]
  },
  {
   "cell_type": "markdown",
   "metadata": {},
   "source": [
    "### Assay Generation\n",
    "\n",
    "To start the demonstration, we'll create a baseline of values from houses with small estimated prices and set that as our baseline. Assays are typically run on a 24 hours interval based on a 24 hour window of data, but we'll bypass that by setting our baseline time even shorter."
   ]
  },
  {
   "cell_type": "code",
   "execution_count": 10,
   "metadata": {},
   "outputs": [],
   "source": [
    "small_houses_inputs = pd.read_json('./data/smallinputs.df.json')\n",
    "baseline_size = 500\n",
    "\n",
    "# Where the baseline data will start\n",
    "assay_baseline_start = datetime.datetime.now()\n",
    "\n",
    "# These inputs will be random samples of small priced houses.\n",
    "small_houses = small_houses_inputs.sample(baseline_size, replace=True).reset_index(drop=True)\n",
    "\n",
    "# Wait 30 seconds to set this data apart from the rest\n",
    "time.sleep(30)\n",
    "small_results = mainpipeline.infer(small_houses)\n",
    "\n",
    "# Set the baseline end\n",
    "\n",
    "assay_baseline_end = datetime.datetime.now()"
   ]
  },
  {
   "cell_type": "code",
   "execution_count": 11,
   "metadata": {},
   "outputs": [
    {
     "data": {
      "text/html": [
       "<div>\n",
       "<style scoped>\n",
       "    .dataframe tbody tr th:only-of-type {\n",
       "        vertical-align: middle;\n",
       "    }\n",
       "\n",
       "    .dataframe tbody tr th {\n",
       "        vertical-align: top;\n",
       "    }\n",
       "\n",
       "    .dataframe thead th {\n",
       "        text-align: right;\n",
       "    }\n",
       "</style>\n",
       "<table border=\"1\" class=\"dataframe\">\n",
       "  <thead>\n",
       "    <tr style=\"text-align: right;\">\n",
       "      <th></th>\n",
       "      <th>time</th>\n",
       "      <th>in.tensor</th>\n",
       "      <th>out.variable</th>\n",
       "      <th>check_failures</th>\n",
       "    </tr>\n",
       "  </thead>\n",
       "  <tbody>\n",
       "    <tr>\n",
       "      <th>0</th>\n",
       "      <td>2023-10-31 20:39:09.851</td>\n",
       "      <td>[4.0, 2.0, 1780.0, 19843.0, 1.0, 0.0, 0.0, 3.0, 7.0, 1780.0, 0.0, 47.4413986206, -122.1539993286, 2210.0, 13500.0, 52.0, 0.0, 0.0]</td>\n",
       "      <td>[313096.0]</td>\n",
       "      <td>0</td>\n",
       "    </tr>\n",
       "    <tr>\n",
       "      <th>1</th>\n",
       "      <td>2023-10-31 20:39:09.851</td>\n",
       "      <td>[3.0, 1.75, 1530.0, 7245.0, 1.0, 0.0, 0.0, 4.0, 7.0, 1530.0, 0.0, 47.7309989929, -122.1910018921, 1530.0, 7490.0, 31.0, 0.0, 0.0]</td>\n",
       "      <td>[431929.2]</td>\n",
       "      <td>0</td>\n",
       "    </tr>\n",
       "    <tr>\n",
       "      <th>2</th>\n",
       "      <td>2023-10-31 20:39:09.851</td>\n",
       "      <td>[5.0, 2.0, 2300.0, 7897.0, 2.5, 0.0, 0.0, 4.0, 8.0, 2300.0, 0.0, 47.7555999756, -122.3560028076, 2030.0, 7902.0, 59.0, 0.0, 0.0]</td>\n",
       "      <td>[523576.2]</td>\n",
       "      <td>0</td>\n",
       "    </tr>\n",
       "    <tr>\n",
       "      <th>3</th>\n",
       "      <td>2023-10-31 20:39:09.851</td>\n",
       "      <td>[5.0, 2.5, 2600.0, 3839.0, 2.0, 0.0, 0.0, 3.0, 7.0, 2600.0, 0.0, 47.4323997498, -122.1449966431, 2180.0, 4800.0, 9.0, 0.0, 0.0]</td>\n",
       "      <td>[400676.47]</td>\n",
       "      <td>0</td>\n",
       "    </tr>\n",
       "    <tr>\n",
       "      <th>4</th>\n",
       "      <td>2023-10-31 20:39:09.851</td>\n",
       "      <td>[5.0, 4.0, 4360.0, 8030.0, 2.0, 0.0, 0.0, 3.0, 10.0, 4360.0, 0.0, 47.592300415, -121.9729995728, 3570.0, 6185.0, 0.0, 0.0, 0.0]</td>\n",
       "      <td>[1160512.8]</td>\n",
       "      <td>0</td>\n",
       "    </tr>\n",
       "    <tr>\n",
       "      <th>...</th>\n",
       "      <td>...</td>\n",
       "      <td>...</td>\n",
       "      <td>...</td>\n",
       "      <td>...</td>\n",
       "    </tr>\n",
       "    <tr>\n",
       "      <th>495</th>\n",
       "      <td>2023-10-31 20:39:09.851</td>\n",
       "      <td>[4.0, 3.75, 2690.0, 4000.0, 2.0, 0.0, 3.0, 4.0, 9.0, 2120.0, 570.0, 47.6417999268, -122.3720016479, 2830.0, 4000.0, 105.0, 1.0, 80.0]</td>\n",
       "      <td>[999203.06]</td>\n",
       "      <td>0</td>\n",
       "    </tr>\n",
       "    <tr>\n",
       "      <th>496</th>\n",
       "      <td>2023-10-31 20:39:09.851</td>\n",
       "      <td>[2.0, 1.5, 1170.0, 5248.0, 1.0, 0.0, 0.0, 5.0, 6.0, 1170.0, 0.0, 47.5317993164, -122.3740005493, 1170.0, 5120.0, 74.0, 0.0, 0.0]</td>\n",
       "      <td>[260266.5]</td>\n",
       "      <td>0</td>\n",
       "    </tr>\n",
       "    <tr>\n",
       "      <th>497</th>\n",
       "      <td>2023-10-31 20:39:09.851</td>\n",
       "      <td>[4.0, 2.5, 2630.0, 5701.0, 2.0, 0.0, 0.0, 3.0, 7.0, 2630.0, 0.0, 47.375, -122.1600036621, 2770.0, 5939.0, 4.0, 0.0, 0.0]</td>\n",
       "      <td>[368504.3]</td>\n",
       "      <td>0</td>\n",
       "    </tr>\n",
       "    <tr>\n",
       "      <th>498</th>\n",
       "      <td>2023-10-31 20:39:09.851</td>\n",
       "      <td>[3.0, 2.25, 2960.0, 8330.0, 1.0, 0.0, 3.0, 4.0, 10.0, 2260.0, 700.0, 47.7034988403, -122.3850021362, 2960.0, 8840.0, 62.0, 0.0, 0.0]</td>\n",
       "      <td>[1178313.9]</td>\n",
       "      <td>0</td>\n",
       "    </tr>\n",
       "    <tr>\n",
       "      <th>499</th>\n",
       "      <td>2023-10-31 20:39:09.851</td>\n",
       "      <td>[3.0, 2.25, 1780.0, 9969.0, 1.0, 0.0, 0.0, 3.0, 8.0, 1450.0, 330.0, 47.7285995483, -122.1679992676, 1950.0, 7974.0, 29.0, 0.0, 0.0]</td>\n",
       "      <td>[437177.97]</td>\n",
       "      <td>0</td>\n",
       "    </tr>\n",
       "  </tbody>\n",
       "</table>\n",
       "<p>500 rows × 4 columns</p>\n",
       "</div>"
      ],
      "text/plain": [
       "                       time  \\\n",
       "0   2023-10-31 20:39:09.851   \n",
       "1   2023-10-31 20:39:09.851   \n",
       "2   2023-10-31 20:39:09.851   \n",
       "3   2023-10-31 20:39:09.851   \n",
       "4   2023-10-31 20:39:09.851   \n",
       "..                      ...   \n",
       "495 2023-10-31 20:39:09.851   \n",
       "496 2023-10-31 20:39:09.851   \n",
       "497 2023-10-31 20:39:09.851   \n",
       "498 2023-10-31 20:39:09.851   \n",
       "499 2023-10-31 20:39:09.851   \n",
       "\n",
       "                                                                                                                                 in.tensor  \\\n",
       "0       [4.0, 2.0, 1780.0, 19843.0, 1.0, 0.0, 0.0, 3.0, 7.0, 1780.0, 0.0, 47.4413986206, -122.1539993286, 2210.0, 13500.0, 52.0, 0.0, 0.0]   \n",
       "1        [3.0, 1.75, 1530.0, 7245.0, 1.0, 0.0, 0.0, 4.0, 7.0, 1530.0, 0.0, 47.7309989929, -122.1910018921, 1530.0, 7490.0, 31.0, 0.0, 0.0]   \n",
       "2         [5.0, 2.0, 2300.0, 7897.0, 2.5, 0.0, 0.0, 4.0, 8.0, 2300.0, 0.0, 47.7555999756, -122.3560028076, 2030.0, 7902.0, 59.0, 0.0, 0.0]   \n",
       "3          [5.0, 2.5, 2600.0, 3839.0, 2.0, 0.0, 0.0, 3.0, 7.0, 2600.0, 0.0, 47.4323997498, -122.1449966431, 2180.0, 4800.0, 9.0, 0.0, 0.0]   \n",
       "4          [5.0, 4.0, 4360.0, 8030.0, 2.0, 0.0, 0.0, 3.0, 10.0, 4360.0, 0.0, 47.592300415, -121.9729995728, 3570.0, 6185.0, 0.0, 0.0, 0.0]   \n",
       "..                                                                                                                                     ...   \n",
       "495  [4.0, 3.75, 2690.0, 4000.0, 2.0, 0.0, 3.0, 4.0, 9.0, 2120.0, 570.0, 47.6417999268, -122.3720016479, 2830.0, 4000.0, 105.0, 1.0, 80.0]   \n",
       "496       [2.0, 1.5, 1170.0, 5248.0, 1.0, 0.0, 0.0, 5.0, 6.0, 1170.0, 0.0, 47.5317993164, -122.3740005493, 1170.0, 5120.0, 74.0, 0.0, 0.0]   \n",
       "497               [4.0, 2.5, 2630.0, 5701.0, 2.0, 0.0, 0.0, 3.0, 7.0, 2630.0, 0.0, 47.375, -122.1600036621, 2770.0, 5939.0, 4.0, 0.0, 0.0]   \n",
       "498   [3.0, 2.25, 2960.0, 8330.0, 1.0, 0.0, 3.0, 4.0, 10.0, 2260.0, 700.0, 47.7034988403, -122.3850021362, 2960.0, 8840.0, 62.0, 0.0, 0.0]   \n",
       "499    [3.0, 2.25, 1780.0, 9969.0, 1.0, 0.0, 0.0, 3.0, 8.0, 1450.0, 330.0, 47.7285995483, -122.1679992676, 1950.0, 7974.0, 29.0, 0.0, 0.0]   \n",
       "\n",
       "    out.variable  check_failures  \n",
       "0     [313096.0]               0  \n",
       "1     [431929.2]               0  \n",
       "2     [523576.2]               0  \n",
       "3    [400676.47]               0  \n",
       "4    [1160512.8]               0  \n",
       "..           ...             ...  \n",
       "495  [999203.06]               0  \n",
       "496   [260266.5]               0  \n",
       "497   [368504.3]               0  \n",
       "498  [1178313.9]               0  \n",
       "499  [437177.97]               0  \n",
       "\n",
       "[500 rows x 4 columns]"
      ]
     },
     "metadata": {},
     "output_type": "display_data"
    }
   ],
   "source": [
    "display(small_results)"
   ]
  },
  {
   "cell_type": "code",
   "execution_count": 12,
   "metadata": {},
   "outputs": [
    {
     "data": {
      "text/html": [
       "<div>\n",
       "<style scoped>\n",
       "    .dataframe tbody tr th:only-of-type {\n",
       "        vertical-align: middle;\n",
       "    }\n",
       "\n",
       "    .dataframe tbody tr th {\n",
       "        vertical-align: top;\n",
       "    }\n",
       "\n",
       "    .dataframe thead th {\n",
       "        text-align: right;\n",
       "    }\n",
       "</style>\n",
       "<table border=\"1\" class=\"dataframe\">\n",
       "  <thead>\n",
       "    <tr style=\"text-align: right;\">\n",
       "      <th></th>\n",
       "      <th>time</th>\n",
       "      <th>in.tensor</th>\n",
       "      <th>out.variable</th>\n",
       "      <th>check_failures</th>\n",
       "      <th>variable</th>\n",
       "    </tr>\n",
       "  </thead>\n",
       "  <tbody>\n",
       "    <tr>\n",
       "      <th>0</th>\n",
       "      <td>2023-10-31 20:39:09.851</td>\n",
       "      <td>[4.0, 2.0, 1780.0, 19843.0, 1.0, 0.0, 0.0, 3.0, 7.0, 1780.0, 0.0, 47.4413986206, -122.1539993286, 2210.0, 13500.0, 52.0, 0.0, 0.0]</td>\n",
       "      <td>[313096.0]</td>\n",
       "      <td>0</td>\n",
       "      <td>313096.00</td>\n",
       "    </tr>\n",
       "    <tr>\n",
       "      <th>1</th>\n",
       "      <td>2023-10-31 20:39:09.851</td>\n",
       "      <td>[3.0, 1.75, 1530.0, 7245.0, 1.0, 0.0, 0.0, 4.0, 7.0, 1530.0, 0.0, 47.7309989929, -122.1910018921, 1530.0, 7490.0, 31.0, 0.0, 0.0]</td>\n",
       "      <td>[431929.2]</td>\n",
       "      <td>0</td>\n",
       "      <td>431929.20</td>\n",
       "    </tr>\n",
       "    <tr>\n",
       "      <th>2</th>\n",
       "      <td>2023-10-31 20:39:09.851</td>\n",
       "      <td>[5.0, 2.0, 2300.0, 7897.0, 2.5, 0.0, 0.0, 4.0, 8.0, 2300.0, 0.0, 47.7555999756, -122.3560028076, 2030.0, 7902.0, 59.0, 0.0, 0.0]</td>\n",
       "      <td>[523576.2]</td>\n",
       "      <td>0</td>\n",
       "      <td>523576.20</td>\n",
       "    </tr>\n",
       "    <tr>\n",
       "      <th>3</th>\n",
       "      <td>2023-10-31 20:39:09.851</td>\n",
       "      <td>[5.0, 2.5, 2600.0, 3839.0, 2.0, 0.0, 0.0, 3.0, 7.0, 2600.0, 0.0, 47.4323997498, -122.1449966431, 2180.0, 4800.0, 9.0, 0.0, 0.0]</td>\n",
       "      <td>[400676.47]</td>\n",
       "      <td>0</td>\n",
       "      <td>400676.47</td>\n",
       "    </tr>\n",
       "    <tr>\n",
       "      <th>4</th>\n",
       "      <td>2023-10-31 20:39:09.851</td>\n",
       "      <td>[5.0, 4.0, 4360.0, 8030.0, 2.0, 0.0, 0.0, 3.0, 10.0, 4360.0, 0.0, 47.592300415, -121.9729995728, 3570.0, 6185.0, 0.0, 0.0, 0.0]</td>\n",
       "      <td>[1160512.8]</td>\n",
       "      <td>0</td>\n",
       "      <td>1160512.80</td>\n",
       "    </tr>\n",
       "    <tr>\n",
       "      <th>...</th>\n",
       "      <td>...</td>\n",
       "      <td>...</td>\n",
       "      <td>...</td>\n",
       "      <td>...</td>\n",
       "      <td>...</td>\n",
       "    </tr>\n",
       "    <tr>\n",
       "      <th>495</th>\n",
       "      <td>2023-10-31 20:39:09.851</td>\n",
       "      <td>[4.0, 3.75, 2690.0, 4000.0, 2.0, 0.0, 3.0, 4.0, 9.0, 2120.0, 570.0, 47.6417999268, -122.3720016479, 2830.0, 4000.0, 105.0, 1.0, 80.0]</td>\n",
       "      <td>[999203.06]</td>\n",
       "      <td>0</td>\n",
       "      <td>999203.06</td>\n",
       "    </tr>\n",
       "    <tr>\n",
       "      <th>496</th>\n",
       "      <td>2023-10-31 20:39:09.851</td>\n",
       "      <td>[2.0, 1.5, 1170.0, 5248.0, 1.0, 0.0, 0.0, 5.0, 6.0, 1170.0, 0.0, 47.5317993164, -122.3740005493, 1170.0, 5120.0, 74.0, 0.0, 0.0]</td>\n",
       "      <td>[260266.5]</td>\n",
       "      <td>0</td>\n",
       "      <td>260266.50</td>\n",
       "    </tr>\n",
       "    <tr>\n",
       "      <th>497</th>\n",
       "      <td>2023-10-31 20:39:09.851</td>\n",
       "      <td>[4.0, 2.5, 2630.0, 5701.0, 2.0, 0.0, 0.0, 3.0, 7.0, 2630.0, 0.0, 47.375, -122.1600036621, 2770.0, 5939.0, 4.0, 0.0, 0.0]</td>\n",
       "      <td>[368504.3]</td>\n",
       "      <td>0</td>\n",
       "      <td>368504.30</td>\n",
       "    </tr>\n",
       "    <tr>\n",
       "      <th>498</th>\n",
       "      <td>2023-10-31 20:39:09.851</td>\n",
       "      <td>[3.0, 2.25, 2960.0, 8330.0, 1.0, 0.0, 3.0, 4.0, 10.0, 2260.0, 700.0, 47.7034988403, -122.3850021362, 2960.0, 8840.0, 62.0, 0.0, 0.0]</td>\n",
       "      <td>[1178313.9]</td>\n",
       "      <td>0</td>\n",
       "      <td>1178313.90</td>\n",
       "    </tr>\n",
       "    <tr>\n",
       "      <th>499</th>\n",
       "      <td>2023-10-31 20:39:09.851</td>\n",
       "      <td>[3.0, 2.25, 1780.0, 9969.0, 1.0, 0.0, 0.0, 3.0, 8.0, 1450.0, 330.0, 47.7285995483, -122.1679992676, 1950.0, 7974.0, 29.0, 0.0, 0.0]</td>\n",
       "      <td>[437177.97]</td>\n",
       "      <td>0</td>\n",
       "      <td>437177.97</td>\n",
       "    </tr>\n",
       "  </tbody>\n",
       "</table>\n",
       "<p>500 rows × 5 columns</p>\n",
       "</div>"
      ],
      "text/plain": [
       "                       time  \\\n",
       "0   2023-10-31 20:39:09.851   \n",
       "1   2023-10-31 20:39:09.851   \n",
       "2   2023-10-31 20:39:09.851   \n",
       "3   2023-10-31 20:39:09.851   \n",
       "4   2023-10-31 20:39:09.851   \n",
       "..                      ...   \n",
       "495 2023-10-31 20:39:09.851   \n",
       "496 2023-10-31 20:39:09.851   \n",
       "497 2023-10-31 20:39:09.851   \n",
       "498 2023-10-31 20:39:09.851   \n",
       "499 2023-10-31 20:39:09.851   \n",
       "\n",
       "                                                                                                                                 in.tensor  \\\n",
       "0       [4.0, 2.0, 1780.0, 19843.0, 1.0, 0.0, 0.0, 3.0, 7.0, 1780.0, 0.0, 47.4413986206, -122.1539993286, 2210.0, 13500.0, 52.0, 0.0, 0.0]   \n",
       "1        [3.0, 1.75, 1530.0, 7245.0, 1.0, 0.0, 0.0, 4.0, 7.0, 1530.0, 0.0, 47.7309989929, -122.1910018921, 1530.0, 7490.0, 31.0, 0.0, 0.0]   \n",
       "2         [5.0, 2.0, 2300.0, 7897.0, 2.5, 0.0, 0.0, 4.0, 8.0, 2300.0, 0.0, 47.7555999756, -122.3560028076, 2030.0, 7902.0, 59.0, 0.0, 0.0]   \n",
       "3          [5.0, 2.5, 2600.0, 3839.0, 2.0, 0.0, 0.0, 3.0, 7.0, 2600.0, 0.0, 47.4323997498, -122.1449966431, 2180.0, 4800.0, 9.0, 0.0, 0.0]   \n",
       "4          [5.0, 4.0, 4360.0, 8030.0, 2.0, 0.0, 0.0, 3.0, 10.0, 4360.0, 0.0, 47.592300415, -121.9729995728, 3570.0, 6185.0, 0.0, 0.0, 0.0]   \n",
       "..                                                                                                                                     ...   \n",
       "495  [4.0, 3.75, 2690.0, 4000.0, 2.0, 0.0, 3.0, 4.0, 9.0, 2120.0, 570.0, 47.6417999268, -122.3720016479, 2830.0, 4000.0, 105.0, 1.0, 80.0]   \n",
       "496       [2.0, 1.5, 1170.0, 5248.0, 1.0, 0.0, 0.0, 5.0, 6.0, 1170.0, 0.0, 47.5317993164, -122.3740005493, 1170.0, 5120.0, 74.0, 0.0, 0.0]   \n",
       "497               [4.0, 2.5, 2630.0, 5701.0, 2.0, 0.0, 0.0, 3.0, 7.0, 2630.0, 0.0, 47.375, -122.1600036621, 2770.0, 5939.0, 4.0, 0.0, 0.0]   \n",
       "498   [3.0, 2.25, 2960.0, 8330.0, 1.0, 0.0, 3.0, 4.0, 10.0, 2260.0, 700.0, 47.7034988403, -122.3850021362, 2960.0, 8840.0, 62.0, 0.0, 0.0]   \n",
       "499    [3.0, 2.25, 1780.0, 9969.0, 1.0, 0.0, 0.0, 3.0, 8.0, 1450.0, 330.0, 47.7285995483, -122.1679992676, 1950.0, 7974.0, 29.0, 0.0, 0.0]   \n",
       "\n",
       "    out.variable  check_failures    variable  \n",
       "0     [313096.0]               0   313096.00  \n",
       "1     [431929.2]               0   431929.20  \n",
       "2     [523576.2]               0   523576.20  \n",
       "3    [400676.47]               0   400676.47  \n",
       "4    [1160512.8]               0  1160512.80  \n",
       "..           ...             ...         ...  \n",
       "495  [999203.06]               0   999203.06  \n",
       "496   [260266.5]               0   260266.50  \n",
       "497   [368504.3]               0   368504.30  \n",
       "498  [1178313.9]               0  1178313.90  \n",
       "499  [437177.97]               0   437177.97  \n",
       "\n",
       "[500 rows x 5 columns]"
      ]
     },
     "execution_count": 12,
     "metadata": {},
     "output_type": "execute_result"
    }
   ],
   "source": [
    "# get the numpy values\n",
    "\n",
    "# set the results to a non-array value\n",
    "small_results_baseline_df = small_results.copy()\n",
    "small_results_baseline_df['variable']=small_results['out.variable'].map(lambda x: x[0])\n",
    "small_results_baseline_df"
   ]
  },
  {
   "cell_type": "code",
   "execution_count": 13,
   "metadata": {},
   "outputs": [
    {
     "data": {
      "text/plain": [
       "array([ 313096.  ,  431929.2 ,  523576.2 ,  400676.47, 1160512.8 ,\n",
       "        288798.1 ,  258377.  ,  404676.1 ,  309800.8 ,  448627.8 ,\n",
       "        475971.5 ,  276046.53,  530288.94,  290323.1 ,  311515.1 ,\n",
       "        450867.7 ,  444408.  ,  261201.22,  276709.06,  343304.63,\n",
       "        244380.27,  275408.03,  252192.9 ,  431992.22,  539867.1 ,\n",
       "        573403.2 ,  348616.63,  453195.8 ,  385561.78,  725572.56,\n",
       "        637377.  ,  684577.25,  950678.06,  557391.25,  793214.3 ,\n",
       "        388243.13,  536371.2 ,  243585.28,  449699.88,  437177.97,\n",
       "        784103.56, 1227073.8 ,  448627.8 ,  448627.8 ,  950176.7 ,\n",
       "        516278.63,  713979.  ,  274207.16,  359614.66,  450867.7 ,\n",
       "        473287.25,  358668.2 ,  508926.25,  450928.94,  597475.75,\n",
       "        716173.94, 1115275.  ,  444408.  ,  437177.97,  430252.3 ,\n",
       "        536388.2 ,  706407.4 ,  256630.36,  400561.2 ,  701940.7 ,\n",
       "        846775.06,  349102.75,  291239.75,  642519.7 ,  630865.5 ,\n",
       "        778197.7 ,  546631.94,  317132.63,  340764.53,  424966.6 ,\n",
       "        241330.17,  718445.7 ,  725184.1 ,  553463.25,  328513.6 ,\n",
       "        947561.9 ,  328513.6 ,  363491.63,  448627.8 ,  886958.6 ,\n",
       "        292859.44,  473287.25,  448627.8 ,  375012.  ,  241809.88,\n",
       "        630865.5 ,  553463.25,  544392.06,  519346.94,  448627.8 ,\n",
       "        529302.44,  236238.67,  363491.63,  473287.25,  353912.  ,\n",
       "        765468.9 ,  553463.25,  450867.7 ,  559923.9 ,  243300.83,\n",
       "        244380.27,  675545.44,  291799.84,  320395.38,  450867.7 ,\n",
       "        448627.8 ,  437177.97,  317132.63,  450867.7 ,  293808.03,\n",
       "        343304.63,  303936.78,  437177.97,  236238.67,  630865.5 ,\n",
       "        296202.7 ,  594678.75,  673288.6 ,  713979.  ,  236815.8 ,\n",
       "        598725.  ,  349102.75,  349102.75,  921561.56,  432908.6 ,\n",
       "        988481.9 ,  418823.38,  340764.53,  557391.25,  340764.53,\n",
       "        630865.5 ,  448627.8 ,  689450.3 ,  444931.28,  557391.25,\n",
       "        557391.25,  482485.6 , 1115275.  ,  458858.44,  437177.97,\n",
       "        421402.1 ,  721518.44,  404676.1 ,  276046.53,  448627.8 ,\n",
       "        717051.8 ,  244380.27,  572709.94,  438346.38,  249227.83,\n",
       "       1077279.1 ,  573403.2 ,  473287.25,  291239.75,  516278.63,\n",
       "        332134.97,  442856.4 ,  296202.7 ,  236238.67,  917346.2 ,\n",
       "        630865.5 ,  448627.8 ,  656923.44,  682284.56,  784103.56,\n",
       "        266405.63,  291857.06,  758714.3 ,  236238.67,  567502.06,\n",
       "        252192.9 ,  718588.94,  628260.9 ,  550184.  ,  448627.8 ,\n",
       "        274207.16,  713485.7 ,  559923.9 ,  276046.53,  244380.27,\n",
       "        267013.97,  513583.06,  559631.06,  243063.13,  311515.1 ,\n",
       "        536388.2 ,  718445.7 ,  673519.6 ,  784103.56,  557391.25,\n",
       "        987157.25,  498579.5 ,  687786.44,  498579.5 ,  276046.53,\n",
       "        581002.94,  730767.94,  380009.28,  435628.72,  450996.34,\n",
       "        524275.4 ,  437177.97,  548006.06,  723867.7 ,  727923.2 ,\n",
       "        448627.8 ,  368504.3 ,  964052.6 ,  950678.06,  581002.94,\n",
       "       1160512.8 , 1208638.1 ,  288798.1 ,  448627.8 ,  340764.53,\n",
       "        437177.97,  689450.3 ,  713979.  ,  711565.44,  557391.25,\n",
       "        306159.38,  450867.7 ,  267013.97,  448627.8 ,  919031.5 ,\n",
       "        682181.9 ,  363491.63,  236238.67,  498579.5 ,  296202.7 ,\n",
       "       1039781.2 ,  448627.8 ,  340764.53,  400561.2 ,  464057.38,\n",
       "        418823.38, 1489624.3 ,  448627.8 ,  293560.06,  403520.16,\n",
       "        236238.67,  340764.53,  567502.06,  437177.97,  342604.47,\n",
       "        291799.84,  836230.2 ,  657905.75,  246525.2 ,  546631.94,\n",
       "        340764.53,  557391.25,  765468.9 ,  276709.06,  704672.25,\n",
       "        673288.6 ,  879092.9 ,  634865.7 ,  519346.94,  630865.5 ,\n",
       "        438346.38,  701940.7 ,  453195.8 ,  284081.53,  683869.56,\n",
       "        249455.83,  435628.72,  964052.6 ,  276709.06,  413013.38,\n",
       "        437177.97,  340764.53,  482485.6 ,  291239.75,  559452.94,\n",
       "        267013.97,  550275.1 ,  758714.3 ,  437177.97,  546631.94,\n",
       "        299854.75,  383833.88,  713358.8 ,  448627.8 ,  448627.8 ,\n",
       "        244380.27,  964052.6 ,  421402.1 ,  758714.3 ,  338357.88,\n",
       "        437929.84,  300446.66,  277145.63,  716173.94,  937359.6 ,\n",
       "        236238.67,  457449.06,  320863.72,  426066.38,  469038.13,\n",
       "        281823.13,  368504.3 ,  291799.84,  450928.94,  827411.25,\n",
       "        291903.97,  293808.03,  437753.4 ,  947561.9 ,  713485.7 ,\n",
       "        553463.25,  236238.67,  637377.  ,  303002.25,  557391.25,\n",
       "        384558.4 ,  559631.06,  400561.2 ,  657905.75,  559923.9 ,\n",
       "        725572.56,  266405.63,  721518.44,  437177.97,  278475.66,\n",
       "        450867.7 ,  291239.75,  268856.88,  438346.38,  404676.1 ,\n",
       "       1004846.56,  464060.2 ,  921695.4 ,  438346.38,  575724.7 ,\n",
       "        475270.97,  340764.53,  555231.94,  563844.44,  523152.63,\n",
       "        416774.6 ,  290323.1 ,  559631.06,  559631.06,  557391.25,\n",
       "        438346.38,  450867.7 ,  340764.53,  256630.36,  557391.25,\n",
       "        684577.25,  921561.56,  376762.4 ,  306037.63,  400561.2 ,\n",
       "        886958.6 ,  557391.25,  244351.92,  711565.44,  557391.25,\n",
       "        594678.75,  243300.83,  508746.63,  559631.06, 1060847.5 ,\n",
       "        241330.17,  310992.94,  448627.8 ,  536371.2 ,  404676.1 ,\n",
       "        567502.06,  474010.4 ,  642519.7 ,  238078.03,  675545.44,\n",
       "        246901.14,  340764.53,  450867.7 ,  448627.8 ,  711565.44,\n",
       "        251194.58,  550184.  ,  553463.25,  241330.17,  630865.5 ,\n",
       "        291857.06,  340764.53,  448627.8 ,  726181.75,  555231.94,\n",
       "        557391.25, 1325960.8 ,  236238.67,  306037.63,  705013.5 ,\n",
       "        683845.75,  795841.06,  448627.8 ,  757403.4 ,  261201.22,\n",
       "        675545.44,  846775.06,  431929.2 ,  352864.1 ,  260266.5 ,\n",
       "        246088.6 ,  434534.22,  988481.9 ,  400676.47,  236238.67,\n",
       "       1223838.8 ,  236815.8 ,  311515.1 ,  957189.7 ,  450867.7 ,\n",
       "        393833.97,  448627.8 ,  957189.7 , 1322835.6 ,  575724.7 ,\n",
       "       1052897.9 ,  765468.9 ,  437177.97,  448627.8 ,  557391.25,\n",
       "        368504.3 ,  340764.53,  557391.25,  332134.97,  448627.8 ,\n",
       "        296202.7 ,  400561.2 ,  559923.9 ,  559139.4 ,  544392.06,\n",
       "        718445.7 ,  322015.03,  353912.  ,  400561.2 ,  538436.75,\n",
       "        313096.  ,  630865.5 ,  437177.97,  559631.06,  873848.44,\n",
       "        559631.06, 1295531.8 ,  947561.9 ,  446769.  ,  423382.72,\n",
       "        682284.56,  435628.72,  323856.28,  236815.8 ,  448627.8 ,\n",
       "        276709.06,  630865.5 ,  303002.25,  508926.25,  701940.7 ,\n",
       "        513583.06,  450867.7 ,  394707.2 ,  340764.53,  349102.75,\n",
       "        725875.94,  581002.94,  448627.8 ,  444408.  ,  308049.63,\n",
       "        421402.1 ,  782434.44,  846775.06,  236815.8 ,  293560.06,\n",
       "        310992.94,  278475.66,  317132.63,  391459.97,  437002.88,\n",
       "        244351.92,  348616.63,  706407.4 ,  358668.2 ,  846775.06,\n",
       "        448627.8 ,  765468.9 ,  557391.25,  921561.56,  736751.3 ,\n",
       "        999203.06,  260266.5 ,  368504.3 , 1178313.9 ,  437177.97])"
      ]
     },
     "execution_count": 13,
     "metadata": {},
     "output_type": "execute_result"
    }
   ],
   "source": [
    "# get the numpy values\n",
    "small_results_baseline = small_results_baseline_df['variable'].to_numpy()\n",
    "small_results_baseline"
   ]
  },
  {
   "cell_type": "code",
   "execution_count": 14,
   "metadata": {},
   "outputs": [],
   "source": [
    "assay_baseline_from_numpy_name = \"edge assays from numpy\"\n",
    "\n",
    "# assay builder by baseline\n",
    "assay_builder_from_numpy = wl.build_assay(assay_name=assay_baseline_from_numpy_name, \n",
    "                               pipeline=mainpipeline, \n",
    "                               model_name=model_name_control, \n",
    "                               iopath=\"output variable 0\", \n",
    "                               baseline_data = small_results_baseline)\n",
    "\n",
    "# for brand new instances, this provides time for the pipeline logs to finish writing\n",
    "time.sleep(60)"
   ]
  },
  {
   "cell_type": "code",
   "execution_count": 15,
   "metadata": {},
   "outputs": [
    {
     "data": {
      "text/plain": [
       "<wallaroo.assay_config.WindowBuilder at 0x7f439dba5a00>"
      ]
     },
     "execution_count": 15,
     "metadata": {},
     "output_type": "execute_result"
    }
   ],
   "source": [
    "# set the width\n",
    "assay_builder_from_numpy.window_builder().add_width(minutes=1)"
   ]
  },
  {
   "cell_type": "code",
   "execution_count": 16,
   "metadata": {},
   "outputs": [],
   "source": [
    "assay_config_from_numpy = assay_builder_from_numpy.build()"
   ]
  },
  {
   "cell_type": "code",
   "execution_count": 17,
   "metadata": {},
   "outputs": [],
   "source": [
    "assay_analysis_from_numpy = assay_config_from_numpy.interactive_run()"
   ]
  },
  {
   "cell_type": "code",
   "execution_count": 18,
   "metadata": {},
   "outputs": [
    {
     "data": {
      "image/png": "[encoded data removed]",
      "text/plain": [
       "<Figure size 432x288 with 1 Axes>"
      ]
     },
     "metadata": {
      "needs_background": "light"
     },
     "output_type": "display_data"
    }
   ],
   "source": [
    "# get the histogram from the numpy baseline\n",
    "assay_builder_from_numpy.baseline_histogram()"
   ]
  },
  {
   "cell_type": "markdown",
   "metadata": {},
   "source": [
    "### Assay Testing\n",
    "\n",
    "Now we'll perform some inferences with a spread of values, then a larger set with a set of larger house values to trigger our assay alert.  We'll use our assay created from the numpy baseline values to demonstrate.\n",
    "\n",
    "Because our assay windows are 1 minutes, we'll need to stagger our inference values to be set into the proper windows.  This will take about 4 minutes."
   ]
  },
  {
   "cell_type": "code",
   "execution_count": 19,
   "metadata": {},
   "outputs": [],
   "source": [
    "# Get a spread of house values\n",
    "\n",
    "time.sleep(35)\n",
    "# regular_houses_inputs = pd.read_json('./data/xtest-1k.df.json', orient=\"records\")\n",
    "inference_size = 1000\n",
    "\n",
    "# regular_houses = regular_houses_inputs.sample(inference_size, replace=True).reset_index(drop=True)\n",
    "\n",
    "# And a spread of large house values\n",
    "\n",
    "big_houses_inputs = pd.read_json('./data/biginputs.df.json', orient=\"records\")\n",
    "big_houses = big_houses_inputs.sample(inference_size, replace=True).reset_index(drop=True)\n",
    "\n",
    "# Set the start for our assay window period.\n",
    "assay_window_start = datetime.datetime.now()\n",
    "\n",
    "mainpipeline.infer(big_houses)\n",
    "\n",
    "\n",
    "# End our assay window period\n",
    "time.sleep(35)\n",
    "assay_window_end = datetime.datetime.now()"
   ]
  },
  {
   "cell_type": "code",
   "execution_count": 20,
   "metadata": {},
   "outputs": [],
   "source": [
    "assay_builder_from_numpy.add_run_until(assay_window_end)\n",
    "assay_builder_from_numpy.window_builder().add_width(minutes=1).add_interval(minutes=1)\n",
    "assay_config_from_dates = assay_builder_from_numpy.build()\n",
    "assay_analysis_from_numpy = assay_config_from_numpy.interactive_run()"
   ]
  },
  {
   "cell_type": "code",
   "execution_count": 21,
   "metadata": {},
   "outputs": [
    {
     "name": "stdout",
     "output_type": "stream",
     "text": [
      "Generated 6 analyses\n"
     ]
    },
    {
     "data": {
      "image/png": "[encoded data removed]",
      "text/plain": [
       "<Figure size 432x288 with 1 Axes>"
      ]
     },
     "metadata": {
      "needs_background": "light"
     },
     "output_type": "display_data"
    }
   ],
   "source": [
    "# Show how many assay windows were analyzed, then show the chart\n",
    "print(f\"Generated {len(assay_analysis_from_numpy)} analyses\")\n",
    "assay_analysis_from_numpy.chart_scores()"
   ]
  },
  {
   "cell_type": "code",
   "execution_count": 22,
   "metadata": {},
   "outputs": [
    {
     "data": {
      "text/html": [
       "<div>\n",
       "<style scoped>\n",
       "    .dataframe tbody tr th:only-of-type {\n",
       "        vertical-align: middle;\n",
       "    }\n",
       "\n",
       "    .dataframe tbody tr th {\n",
       "        vertical-align: top;\n",
       "    }\n",
       "\n",
       "    .dataframe thead th {\n",
       "        text-align: right;\n",
       "    }\n",
       "</style>\n",
       "<table border=\"1\" class=\"dataframe\">\n",
       "  <thead>\n",
       "    <tr style=\"text-align: right;\">\n",
       "      <th></th>\n",
       "      <th>score</th>\n",
       "      <th>start</th>\n",
       "      <th>alert_threshold</th>\n",
       "      <th>status</th>\n",
       "    </tr>\n",
       "  </thead>\n",
       "  <tbody>\n",
       "    <tr>\n",
       "      <th>0</th>\n",
       "      <td>0.015281</td>\n",
       "      <td>2023-10-31T20:05:18.132000+00:00</td>\n",
       "      <td>0.25</td>\n",
       "      <td>Ok</td>\n",
       "    </tr>\n",
       "    <tr>\n",
       "      <th>1</th>\n",
       "      <td>0.012015</td>\n",
       "      <td>2023-10-31T20:09:18.132000+00:00</td>\n",
       "      <td>0.25</td>\n",
       "      <td>Ok</td>\n",
       "    </tr>\n",
       "    <tr>\n",
       "      <th>2</th>\n",
       "      <td>8.871443</td>\n",
       "      <td>2023-10-31T20:11:18.132000+00:00</td>\n",
       "      <td>0.25</td>\n",
       "      <td>Alert</td>\n",
       "    </tr>\n",
       "    <tr>\n",
       "      <th>3</th>\n",
       "      <td>0.039158</td>\n",
       "      <td>2023-10-31T20:16:18.132000+00:00</td>\n",
       "      <td>0.25</td>\n",
       "      <td>Ok</td>\n",
       "    </tr>\n",
       "    <tr>\n",
       "      <th>4</th>\n",
       "      <td>0.002826</td>\n",
       "      <td>2023-10-31T20:38:18.132000+00:00</td>\n",
       "      <td>0.25</td>\n",
       "      <td>Ok</td>\n",
       "    </tr>\n",
       "    <tr>\n",
       "      <th>5</th>\n",
       "      <td>8.871443</td>\n",
       "      <td>2023-10-31T20:40:18.132000+00:00</td>\n",
       "      <td>0.25</td>\n",
       "      <td>Alert</td>\n",
       "    </tr>\n",
       "  </tbody>\n",
       "</table>\n",
       "</div>"
      ],
      "text/plain": [
       "      score                             start  alert_threshold status\n",
       "0  0.015281  2023-10-31T20:05:18.132000+00:00             0.25     Ok\n",
       "1  0.012015  2023-10-31T20:09:18.132000+00:00             0.25     Ok\n",
       "2  8.871443  2023-10-31T20:11:18.132000+00:00             0.25  Alert\n",
       "3  0.039158  2023-10-31T20:16:18.132000+00:00             0.25     Ok\n",
       "4  0.002826  2023-10-31T20:38:18.132000+00:00             0.25     Ok\n",
       "5  8.871443  2023-10-31T20:40:18.132000+00:00             0.25  Alert"
      ]
     },
     "metadata": {},
     "output_type": "display_data"
    }
   ],
   "source": [
    "# Display the results as a DataFrame - we're mainly interested in the score and whether the \n",
    "# alert threshold was triggered\n",
    "display(assay_analysis_from_numpy.to_dataframe().loc[:, [\"score\", \"start\", \"alert_threshold\", \"status\"]])"
   ]
  },
  {
   "cell_type": "markdown",
   "metadata": {},
   "source": [
    "## Edge Deployment\n",
    "\n",
    "### Publish Pipeline\n",
    "\n",
    "### Add Edge\n",
    "\n",
    "### DevOps Deployment\n",
    "\n",
    "## Add Edge to Assay"
   ]
  },
  {
   "cell_type": "code",
   "execution_count": 23,
   "metadata": {},
   "outputs": [
    {
     "name": "stdout",
     "output_type": "stream",
     "text": [
      "Waiting for pipeline publish... It may take up to 600 sec.\n",
      "Pipeline is Publishing....Published.\n"
     ]
    }
   ],
   "source": [
    "assay_pub = mainpipeline.publish()"
   ]
  },
  {
   "cell_type": "code",
   "execution_count": 24,
   "metadata": {},
   "outputs": [
    {
     "data": {
      "text/html": [
       "\n",
       "          <table>\n",
       "              <tr><td>ID</td><td>4</td></tr>\n",
       "              <tr><td>Pipeline Version</td><td>abd69aa0-10f5-4787-977c-8ce62a112b74</td></tr>\n",
       "              <tr><td>Status</td><td>Published</td></tr>\n",
       "              <tr><td>Engine URL</td><td><a href='https://us-central1-docker.pkg.dev/wallaroo-dev-253816/uat/engines/proxy/wallaroo/ghcr.io/wallaroolabs/standalone-mini:v2023.4.0-4092'>us-central1-docker.pkg.dev/wallaroo-dev-253816/uat/engines/proxy/wallaroo/ghcr.io/wallaroolabs/standalone-mini:v2023.4.0-4092</a></td></tr>\n",
       "              <tr><td>Pipeline URL</td><td><a href='https://us-central1-docker.pkg.dev/wallaroo-dev-253816/uat/pipelines/housepricesagapipeline:abd69aa0-10f5-4787-977c-8ce62a112b74'>us-central1-docker.pkg.dev/wallaroo-dev-253816/uat/pipelines/housepricesagapipeline:abd69aa0-10f5-4787-977c-8ce62a112b74</a></td></tr>\n",
       "              <tr><td>Helm Chart URL</td><td>oci://<a href='https://us-central1-docker.pkg.dev/wallaroo-dev-253816/uat/charts/housepricesagapipeline'>us-central1-docker.pkg.dev/wallaroo-dev-253816/uat/charts/housepricesagapipeline</a></td></tr>\n",
       "              <tr><td>Helm Chart Reference</td><td>us-central1-docker.pkg.dev/wallaroo-dev-253816/uat/charts@sha256:b5a745c792f2845473a7b863791af5639e6a9ca1de6669c74245bafd903b6eaf</td></tr>\n",
       "              <tr><td>Helm Chart Version</td><td>0.0.1-abd69aa0-10f5-4787-977c-8ce62a112b74</td></tr>\n",
       "              <tr><td>Engine Config</td><td>{'engine': {'resources': {'limits': {'cpu': 4.0, 'memory': '3Gi'}, 'requests': {'cpu': 4.0, 'memory': '3Gi'}}}, 'engineAux': {}, 'enginelb': {'resources': {'limits': {'cpu': 1.0, 'memory': '512Mi'}, 'requests': {'cpu': 0.2, 'memory': '512Mi'}}}}</td></tr>\n",
       "              <tr><td>User Images</td><td>[]</td></tr>\n",
       "              <tr><td>Created By</td><td>john.hummel@wallaroo.ai</td></tr>\n",
       "              <tr><td>Created At</td><td>2023-10-31 20:41:21.203601+00:00</td></tr>\n",
       "              <tr><td>Updated At</td><td>2023-10-31 20:41:21.203601+00:00</td></tr>\n",
       "              <tr><td>Docker Run Variables</td><td>{'EDGE_BUNDLE': 'ZXhwb3J0IEJVTkRMRV9WRVJTSU9OPTEKZXhwb3J0IEVER0VfTkFNRT1ob3VzZXByaWNlLWVkZ2ViYXNlbGluZS1leGFtcGxlcwpleHBvcnQgSk9JTl9UT0tFTj1iMTVkMWFjYS03NzIwLTQwZWYtOTYwMC0wMGY4NzMxZDE2NjkKZXhwb3J0IE9QU0NFTlRFUl9IT1NUPXByb2R1Y3QtdWF0LWVlLmVkZ2Uud2FsbGFyb29jb21tdW5pdHkubmluamEKZXhwb3J0IFBJUEVMSU5FX1VSTD11cy1jZW50cmFsMS1kb2NrZXIucGtnLmRldi93YWxsYXJvby1kZXYtMjUzODE2L3VhdC9waXBlbGluZXMvaG91c2VwcmljZXNhZ2FwaXBlbGluZTphYmQ2OWFhMC0xMGY1LTQ3ODctOTc3Yy04Y2U2MmExMTJiNzQKZXhwb3J0IFdPUktTUEFDRV9JRD0xMw=='}</td></tr>\n",
       "          </table>\n",
       "        "
      ],
      "text/plain": [
       "PipelinePublish(created_at=datetime.datetime(2023, 10, 31, 20, 41, 21, 203601, tzinfo=tzutc()), docker_run_variables={'EDGE_BUNDLE': 'ZXhwb3J0IEJVTkRMRV9WRVJTSU9OPTEKZXhwb3J0IEVER0VfTkFNRT1ob3VzZXByaWNlLWVkZ2ViYXNlbGluZS1leGFtcGxlcwpleHBvcnQgSk9JTl9UT0tFTj1iMTVkMWFjYS03NzIwLTQwZWYtOTYwMC0wMGY4NzMxZDE2NjkKZXhwb3J0IE9QU0NFTlRFUl9IT1NUPXByb2R1Y3QtdWF0LWVlLmVkZ2Uud2FsbGFyb29jb21tdW5pdHkubmluamEKZXhwb3J0IFBJUEVMSU5FX1VSTD11cy1jZW50cmFsMS1kb2NrZXIucGtnLmRldi93YWxsYXJvby1kZXYtMjUzODE2L3VhdC9waXBlbGluZXMvaG91c2VwcmljZXNhZ2FwaXBlbGluZTphYmQ2OWFhMC0xMGY1LTQ3ODctOTc3Yy04Y2U2MmExMTJiNzQKZXhwb3J0IFdPUktTUEFDRV9JRD0xMw=='}, engine_config={'engine': {'resources': {'limits': {'cpu': 4.0, 'memory': '3Gi'}, 'requests': {'cpu': 4.0, 'memory': '3Gi'}}}, 'engineAux': {}, 'enginelb': {'resources': {'limits': {'cpu': 1.0, 'memory': '512Mi'}, 'requests': {'cpu': 0.2, 'memory': '512Mi'}}}}, id=4, pipeline_version_id=10, status='Published', updated_at=datetime.datetime(2023, 10, 31, 20, 41, 21, 203601, tzinfo=tzutc()), user_images=[], created_by='b3deff28-04d0-41b8-a04f-b5cf610d6ce9', engine_url='us-central1-docker.pkg.dev/wallaroo-dev-253816/uat/engines/proxy/wallaroo/ghcr.io/wallaroolabs/standalone-mini:v2023.4.0-4092', error=None, helm={'reference': 'us-central1-docker.pkg.dev/wallaroo-dev-253816/uat/charts@sha256:b5a745c792f2845473a7b863791af5639e6a9ca1de6669c74245bafd903b6eaf', 'values': {'edgeBundle': 'ZXhwb3J0IEJVTkRMRV9WRVJTSU9OPTEKZXhwb3J0IEVER0VfTkFNRT1ob3VzZXByaWNlLWVkZ2ViYXNlbGluZS1leGFtcGxlcwpleHBvcnQgSk9JTl9UT0tFTj1iMTVkMWFjYS03NzIwLTQwZWYtOTYwMC0wMGY4NzMxZDE2NjkKZXhwb3J0IE9QU0NFTlRFUl9IT1NUPXByb2R1Y3QtdWF0LWVlLmVkZ2Uud2FsbGFyb29jb21tdW5pdHkubmluamEKZXhwb3J0IFBJUEVMSU5FX1VSTD11cy1jZW50cmFsMS1kb2NrZXIucGtnLmRldi93YWxsYXJvby1kZXYtMjUzODE2L3VhdC9waXBlbGluZXMvaG91c2VwcmljZXNhZ2FwaXBlbGluZTphYmQ2OWFhMC0xMGY1LTQ3ODctOTc3Yy04Y2U2MmExMTJiNzQKZXhwb3J0IFdPUktTUEFDRV9JRD0xMw=='}, 'chart': 'us-central1-docker.pkg.dev/wallaroo-dev-253816/uat/charts/housepricesagapipeline', 'version': '0.0.1-abd69aa0-10f5-4787-977c-8ce62a112b74'}, pipeline_url='us-central1-docker.pkg.dev/wallaroo-dev-253816/uat/pipelines/housepricesagapipeline:abd69aa0-10f5-4787-977c-8ce62a112b74', pipeline_version_name='abd69aa0-10f5-4787-977c-8ce62a112b74', additional_properties={})"
      ]
     },
     "metadata": {},
     "output_type": "display_data"
    }
   ],
   "source": [
    "edge_name = f'houseprice-edge{suffix}'\n",
    "\n",
    "edge_publish = assay_pub.add_edge(edge_name)\n",
    "display(edge_publish)"
   ]
  },
  {
   "cell_type": "code",
   "execution_count": 25,
   "metadata": {},
   "outputs": [
    {
     "name": "stdout",
     "output_type": "stream",
     "text": [
      "\n",
      "docker run -p 8080:8080 \\\n",
      "    -e DEBUG=true \\\n",
      "    -e OCI_REGISTRY=$REGISTRYURL \\\n",
      "    -e EDGE_BUNDLE=ZXhwb3J0IEJVTkRMRV9WRVJTSU9OPTEKZXhwb3J0IEVER0VfTkFNRT1ob3VzZXByaWNlLWVkZ2ViYXNlbGluZS1leGFtcGxlcwpleHBvcnQgSk9JTl9UT0tFTj1iMTVkMWFjYS03NzIwLTQwZWYtOTYwMC0wMGY4NzMxZDE2NjkKZXhwb3J0IE9QU0NFTlRFUl9IT1NUPXByb2R1Y3QtdWF0LWVlLmVkZ2Uud2FsbGFyb29jb21tdW5pdHkubmluamEKZXhwb3J0IFBJUEVMSU5FX1VSTD11cy1jZW50cmFsMS1kb2NrZXIucGtnLmRldi93YWxsYXJvby1kZXYtMjUzODE2L3VhdC9waXBlbGluZXMvaG91c2VwcmljZXNhZ2FwaXBlbGluZTphYmQ2OWFhMC0xMGY1LTQ3ODctOTc3Yy04Y2U2MmExMTJiNzQKZXhwb3J0IFdPUktTUEFDRV9JRD0xMw== \\\n",
      "    -e CONFIG_CPUS=1 \\\n",
      "    -e OCI_USERNAME=$REGISTRYUSERNAME \\\n",
      "    -e OCI_PASSWORD=$REGISTRYPASSWORD \\\n",
      "    -e PIPELINE_URL=us-central1-docker.pkg.dev/wallaroo-dev-253816/uat/pipelines/housepricesagapipeline:abd69aa0-10f5-4787-977c-8ce62a112b74 \\\n",
      "    us-central1-docker.pkg.dev/wallaroo-dev-253816/uat/engines/proxy/wallaroo/ghcr.io/wallaroolabs/standalone-mini:v2023.4.0-4092\n",
      "\n"
     ]
    }
   ],
   "source": [
    "# create docker run \n",
    "\n",
    "docker_command = f'''\n",
    "docker run -p 8080:8080 \\\\\n",
    "    -e DEBUG=true \\\\\n",
    "    -e OCI_REGISTRY=$REGISTRYURL \\\\\n",
    "    -e EDGE_BUNDLE={edge_publish.docker_run_variables['EDGE_BUNDLE']} \\\\\n",
    "    -e CONFIG_CPUS=1 \\\\\n",
    "    -e OCI_USERNAME=$REGISTRYUSERNAME \\\\\n",
    "    -e OCI_PASSWORD=$REGISTRYPASSWORD \\\\\n",
    "    -e PIPELINE_URL={edge_publish.pipeline_url} \\\\\n",
    "    {edge_publish.engine_url}\n",
    "'''\n",
    "\n",
    "print(docker_command)"
   ]
  },
  {
   "cell_type": "markdown",
   "metadata": {},
   "source": [
    "```bash\n",
    "curl testboy.local:8080/pipelines\n",
    "{\"pipelines\":[{\"id\":\"housepricesagapipeline\",\"status\":\"Running\"}]}\n",
    "```\n",
    "\n",
    "```bash\n",
    "curl -X POST testboy.local:8080/pipelines/housepricesagapipeline \\\n",
    "    -H \"Content-Type: application/vnd.apache.arrow.file\" \\\n",
    "    --data-binary @./data/xtest-1k.arrow > curl_response_edge.df.json\n",
    "  % Total    % Received % Xferd  Average Speed   Time    Time     Time  Current\n",
    "                                 Dload  Upload   Total   Spent    Left  Speed\n",
    "100  513k  100  442k  100 73100  19.8M  3287k --:--:-- --:--:-- --:--:-- 23.8M\n",
    "```"
   ]
  },
  {
   "cell_type": "code",
   "execution_count": 26,
   "metadata": {},
   "outputs": [],
   "source": [
    "mainpipeline.export_logs(limit=50000,\n",
    "    directory='partition-edge-observability',\n",
    "    file_prefix='edge-logs',\n",
    "    dataset=['time', 'out.variable', 'metadata'])"
   ]
  },
  {
   "cell_type": "code",
   "execution_count": 27,
   "metadata": {},
   "outputs": [
    {
     "data": {
      "text/html": [
       "<div>\n",
       "<style scoped>\n",
       "    .dataframe tbody tr th:only-of-type {\n",
       "        vertical-align: middle;\n",
       "    }\n",
       "\n",
       "    .dataframe tbody tr th {\n",
       "        vertical-align: top;\n",
       "    }\n",
       "\n",
       "    .dataframe thead th {\n",
       "        text-align: right;\n",
       "    }\n",
       "</style>\n",
       "<table border=\"1\" class=\"dataframe\">\n",
       "  <thead>\n",
       "    <tr style=\"text-align: right;\">\n",
       "      <th></th>\n",
       "      <th>time</th>\n",
       "      <th>out.variable</th>\n",
       "      <th>metadata.last_model</th>\n",
       "      <th>metadata.pipeline_version</th>\n",
       "      <th>metadata.elapsed</th>\n",
       "      <th>metadata.dropped</th>\n",
       "      <th>metadata.partition</th>\n",
       "    </tr>\n",
       "  </thead>\n",
       "  <tbody>\n",
       "    <tr>\n",
       "      <th>5484</th>\n",
       "      <td>1698782748239</td>\n",
       "      <td>[778197.6875]</td>\n",
       "      <td>{\"model_name\":\"housepricesagacontrol\",\"model_sha\":\"e22a0831aafd9917f3cc87a15ed267797f80e2afa12ad7d8810ca58f173b8cc6\"}</td>\n",
       "      <td></td>\n",
       "      <td>[1801705, 2182407]</td>\n",
       "      <td>[]</td>\n",
       "      <td>engine-54c865f485-dwhjf</td>\n",
       "    </tr>\n",
       "    <tr>\n",
       "      <th>5485</th>\n",
       "      <td>1698782748239</td>\n",
       "      <td>[236238.671875]</td>\n",
       "      <td>{\"model_name\":\"housepricesagacontrol\",\"model_sha\":\"e22a0831aafd9917f3cc87a15ed267797f80e2afa12ad7d8810ca58f173b8cc6\"}</td>\n",
       "      <td></td>\n",
       "      <td>[1801705, 2182407]</td>\n",
       "      <td>[]</td>\n",
       "      <td>engine-54c865f485-dwhjf</td>\n",
       "    </tr>\n",
       "    <tr>\n",
       "      <th>5486</th>\n",
       "      <td>1698782748239</td>\n",
       "      <td>[448627.8125]</td>\n",
       "      <td>{\"model_name\":\"housepricesagacontrol\",\"model_sha\":\"e22a0831aafd9917f3cc87a15ed267797f80e2afa12ad7d8810ca58f173b8cc6\"}</td>\n",
       "      <td></td>\n",
       "      <td>[1801705, 2182407]</td>\n",
       "      <td>[]</td>\n",
       "      <td>engine-54c865f485-dwhjf</td>\n",
       "    </tr>\n",
       "    <tr>\n",
       "      <th>5487</th>\n",
       "      <td>1698782748239</td>\n",
       "      <td>[683869.5625]</td>\n",
       "      <td>{\"model_name\":\"housepricesagacontrol\",\"model_sha\":\"e22a0831aafd9917f3cc87a15ed267797f80e2afa12ad7d8810ca58f173b8cc6\"}</td>\n",
       "      <td></td>\n",
       "      <td>[1801705, 2182407]</td>\n",
       "      <td>[]</td>\n",
       "      <td>engine-54c865f485-dwhjf</td>\n",
       "    </tr>\n",
       "    <tr>\n",
       "      <th>5488</th>\n",
       "      <td>1698782748239</td>\n",
       "      <td>[684577.25]</td>\n",
       "      <td>{\"model_name\":\"housepricesagacontrol\",\"model_sha\":\"e22a0831aafd9917f3cc87a15ed267797f80e2afa12ad7d8810ca58f173b8cc6\"}</td>\n",
       "      <td></td>\n",
       "      <td>[1801705, 2182407]</td>\n",
       "      <td>[]</td>\n",
       "      <td>engine-54c865f485-dwhjf</td>\n",
       "    </tr>\n",
       "    <tr>\n",
       "      <th>5489</th>\n",
       "      <td>1698782748239</td>\n",
       "      <td>[253679.625]</td>\n",
       "      <td>{\"model_name\":\"housepricesagacontrol\",\"model_sha\":\"e22a0831aafd9917f3cc87a15ed267797f80e2afa12ad7d8810ca58f173b8cc6\"}</td>\n",
       "      <td></td>\n",
       "      <td>[1801705, 2182407]</td>\n",
       "      <td>[]</td>\n",
       "      <td>engine-54c865f485-dwhjf</td>\n",
       "    </tr>\n",
       "    <tr>\n",
       "      <th>5490</th>\n",
       "      <td>1698782748239</td>\n",
       "      <td>[287576.40625]</td>\n",
       "      <td>{\"model_name\":\"housepricesagacontrol\",\"model_sha\":\"e22a0831aafd9917f3cc87a15ed267797f80e2afa12ad7d8810ca58f173b8cc6\"}</td>\n",
       "      <td></td>\n",
       "      <td>[1801705, 2182407]</td>\n",
       "      <td>[]</td>\n",
       "      <td>engine-54c865f485-dwhjf</td>\n",
       "    </tr>\n",
       "    <tr>\n",
       "      <th>5491</th>\n",
       "      <td>1698782748239</td>\n",
       "      <td>[553463.25]</td>\n",
       "      <td>{\"model_name\":\"housepricesagacontrol\",\"model_sha\":\"e22a0831aafd9917f3cc87a15ed267797f80e2afa12ad7d8810ca58f173b8cc6\"}</td>\n",
       "      <td></td>\n",
       "      <td>[1801705, 2182407]</td>\n",
       "      <td>[]</td>\n",
       "      <td>engine-54c865f485-dwhjf</td>\n",
       "    </tr>\n",
       "    <tr>\n",
       "      <th>5492</th>\n",
       "      <td>1698782748239</td>\n",
       "      <td>[498579.5]</td>\n",
       "      <td>{\"model_name\":\"housepricesagacontrol\",\"model_sha\":\"e22a0831aafd9917f3cc87a15ed267797f80e2afa12ad7d8810ca58f173b8cc6\"}</td>\n",
       "      <td></td>\n",
       "      <td>[1801705, 2182407]</td>\n",
       "      <td>[]</td>\n",
       "      <td>engine-54c865f485-dwhjf</td>\n",
       "    </tr>\n",
       "    <tr>\n",
       "      <th>5493</th>\n",
       "      <td>1698782748239</td>\n",
       "      <td>[682284.5625]</td>\n",
       "      <td>{\"model_name\":\"housepricesagacontrol\",\"model_sha\":\"e22a0831aafd9917f3cc87a15ed267797f80e2afa12ad7d8810ca58f173b8cc6\"}</td>\n",
       "      <td></td>\n",
       "      <td>[1801705, 2182407]</td>\n",
       "      <td>[]</td>\n",
       "      <td>engine-54c865f485-dwhjf</td>\n",
       "    </tr>\n",
       "    <tr>\n",
       "      <th>5494</th>\n",
       "      <td>1698782748239</td>\n",
       "      <td>[827411.25]</td>\n",
       "      <td>{\"model_name\":\"housepricesagacontrol\",\"model_sha\":\"e22a0831aafd9917f3cc87a15ed267797f80e2afa12ad7d8810ca58f173b8cc6\"}</td>\n",
       "      <td></td>\n",
       "      <td>[1801705, 2182407]</td>\n",
       "      <td>[]</td>\n",
       "      <td>engine-54c865f485-dwhjf</td>\n",
       "    </tr>\n",
       "    <tr>\n",
       "      <th>5495</th>\n",
       "      <td>1698782748239</td>\n",
       "      <td>[544392.0625]</td>\n",
       "      <td>{\"model_name\":\"housepricesagacontrol\",\"model_sha\":\"e22a0831aafd9917f3cc87a15ed267797f80e2afa12ad7d8810ca58f173b8cc6\"}</td>\n",
       "      <td></td>\n",
       "      <td>[1801705, 2182407]</td>\n",
       "      <td>[]</td>\n",
       "      <td>engine-54c865f485-dwhjf</td>\n",
       "    </tr>\n",
       "    <tr>\n",
       "      <th>5496</th>\n",
       "      <td>1698782748239</td>\n",
       "      <td>[311515.09375]</td>\n",
       "      <td>{\"model_name\":\"housepricesagacontrol\",\"model_sha\":\"e22a0831aafd9917f3cc87a15ed267797f80e2afa12ad7d8810ca58f173b8cc6\"}</td>\n",
       "      <td></td>\n",
       "      <td>[1801705, 2182407]</td>\n",
       "      <td>[]</td>\n",
       "      <td>engine-54c865f485-dwhjf</td>\n",
       "    </tr>\n",
       "    <tr>\n",
       "      <th>5497</th>\n",
       "      <td>1698782748239</td>\n",
       "      <td>[263051.625]</td>\n",
       "      <td>{\"model_name\":\"housepricesagacontrol\",\"model_sha\":\"e22a0831aafd9917f3cc87a15ed267797f80e2afa12ad7d8810ca58f173b8cc6\"}</td>\n",
       "      <td></td>\n",
       "      <td>[1801705, 2182407]</td>\n",
       "      <td>[]</td>\n",
       "      <td>engine-54c865f485-dwhjf</td>\n",
       "    </tr>\n",
       "    <tr>\n",
       "      <th>5498</th>\n",
       "      <td>1698782748239</td>\n",
       "      <td>[712309.875]</td>\n",
       "      <td>{\"model_name\":\"housepricesagacontrol\",\"model_sha\":\"e22a0831aafd9917f3cc87a15ed267797f80e2afa12ad7d8810ca58f173b8cc6\"}</td>\n",
       "      <td></td>\n",
       "      <td>[1801705, 2182407]</td>\n",
       "      <td>[]</td>\n",
       "      <td>engine-54c865f485-dwhjf</td>\n",
       "    </tr>\n",
       "    <tr>\n",
       "      <th>5499</th>\n",
       "      <td>1698782748239</td>\n",
       "      <td>[349102.75]</td>\n",
       "      <td>{\"model_name\":\"housepricesagacontrol\",\"model_sha\":\"e22a0831aafd9917f3cc87a15ed267797f80e2afa12ad7d8810ca58f173b8cc6\"}</td>\n",
       "      <td></td>\n",
       "      <td>[1801705, 2182407]</td>\n",
       "      <td>[]</td>\n",
       "      <td>engine-54c865f485-dwhjf</td>\n",
       "    </tr>\n",
       "    <tr>\n",
       "      <th>5500</th>\n",
       "      <td>1698782748239</td>\n",
       "      <td>[475270.96875]</td>\n",
       "      <td>{\"model_name\":\"housepricesagacontrol\",\"model_sha\":\"e22a0831aafd9917f3cc87a15ed267797f80e2afa12ad7d8810ca58f173b8cc6\"}</td>\n",
       "      <td></td>\n",
       "      <td>[1801705, 2182407]</td>\n",
       "      <td>[]</td>\n",
       "      <td>engine-54c865f485-dwhjf</td>\n",
       "    </tr>\n",
       "    <tr>\n",
       "      <th>5501</th>\n",
       "      <td>1698782748239</td>\n",
       "      <td>[290323.09375]</td>\n",
       "      <td>{\"model_name\":\"housepricesagacontrol\",\"model_sha\":\"e22a0831aafd9917f3cc87a15ed267797f80e2afa12ad7d8810ca58f173b8cc6\"}</td>\n",
       "      <td></td>\n",
       "      <td>[1801705, 2182407]</td>\n",
       "      <td>[]</td>\n",
       "      <td>engine-54c865f485-dwhjf</td>\n",
       "    </tr>\n",
       "    <tr>\n",
       "      <th>5502</th>\n",
       "      <td>1698782718168</td>\n",
       "      <td>[1514079.375]</td>\n",
       "      <td>{\"model_name\":\"housepricesagacontrol\",\"model_sha\":\"e22a0831aafd9917f3cc87a15ed267797f80e2afa12ad7d8810ca58f173b8cc6\"}</td>\n",
       "      <td></td>\n",
       "      <td>[69600, 886202]</td>\n",
       "      <td>[]</td>\n",
       "      <td>engine-54c865f485-dwhjf</td>\n",
       "    </tr>\n",
       "    <tr>\n",
       "      <th>5503</th>\n",
       "      <td>1698782718132</td>\n",
       "      <td>[718013.6875]</td>\n",
       "      <td>{\"model_name\":\"housepricesagacontrol\",\"model_sha\":\"e22a0831aafd9917f3cc87a15ed267797f80e2afa12ad7d8810ca58f173b8cc6\"}</td>\n",
       "      <td></td>\n",
       "      <td>[173700, 340301]</td>\n",
       "      <td>[]</td>\n",
       "      <td>engine-54c865f485-dwhjf</td>\n",
       "    </tr>\n",
       "  </tbody>\n",
       "</table>\n",
       "</div>"
      ],
      "text/plain": [
       "               time     out.variable  \\\n",
       "5484  1698782748239    [778197.6875]   \n",
       "5485  1698782748239  [236238.671875]   \n",
       "5486  1698782748239    [448627.8125]   \n",
       "5487  1698782748239    [683869.5625]   \n",
       "5488  1698782748239      [684577.25]   \n",
       "5489  1698782748239     [253679.625]   \n",
       "5490  1698782748239   [287576.40625]   \n",
       "5491  1698782748239      [553463.25]   \n",
       "5492  1698782748239       [498579.5]   \n",
       "5493  1698782748239    [682284.5625]   \n",
       "5494  1698782748239      [827411.25]   \n",
       "5495  1698782748239    [544392.0625]   \n",
       "5496  1698782748239   [311515.09375]   \n",
       "5497  1698782748239     [263051.625]   \n",
       "5498  1698782748239     [712309.875]   \n",
       "5499  1698782748239      [349102.75]   \n",
       "5500  1698782748239   [475270.96875]   \n",
       "5501  1698782748239   [290323.09375]   \n",
       "5502  1698782718168    [1514079.375]   \n",
       "5503  1698782718132    [718013.6875]   \n",
       "\n",
       "                                                                                                        metadata.last_model  \\\n",
       "5484  {\"model_name\":\"housepricesagacontrol\",\"model_sha\":\"e22a0831aafd9917f3cc87a15ed267797f80e2afa12ad7d8810ca58f173b8cc6\"}   \n",
       "5485  {\"model_name\":\"housepricesagacontrol\",\"model_sha\":\"e22a0831aafd9917f3cc87a15ed267797f80e2afa12ad7d8810ca58f173b8cc6\"}   \n",
       "5486  {\"model_name\":\"housepricesagacontrol\",\"model_sha\":\"e22a0831aafd9917f3cc87a15ed267797f80e2afa12ad7d8810ca58f173b8cc6\"}   \n",
       "5487  {\"model_name\":\"housepricesagacontrol\",\"model_sha\":\"e22a0831aafd9917f3cc87a15ed267797f80e2afa12ad7d8810ca58f173b8cc6\"}   \n",
       "5488  {\"model_name\":\"housepricesagacontrol\",\"model_sha\":\"e22a0831aafd9917f3cc87a15ed267797f80e2afa12ad7d8810ca58f173b8cc6\"}   \n",
       "5489  {\"model_name\":\"housepricesagacontrol\",\"model_sha\":\"e22a0831aafd9917f3cc87a15ed267797f80e2afa12ad7d8810ca58f173b8cc6\"}   \n",
       "5490  {\"model_name\":\"housepricesagacontrol\",\"model_sha\":\"e22a0831aafd9917f3cc87a15ed267797f80e2afa12ad7d8810ca58f173b8cc6\"}   \n",
       "5491  {\"model_name\":\"housepricesagacontrol\",\"model_sha\":\"e22a0831aafd9917f3cc87a15ed267797f80e2afa12ad7d8810ca58f173b8cc6\"}   \n",
       "5492  {\"model_name\":\"housepricesagacontrol\",\"model_sha\":\"e22a0831aafd9917f3cc87a15ed267797f80e2afa12ad7d8810ca58f173b8cc6\"}   \n",
       "5493  {\"model_name\":\"housepricesagacontrol\",\"model_sha\":\"e22a0831aafd9917f3cc87a15ed267797f80e2afa12ad7d8810ca58f173b8cc6\"}   \n",
       "5494  {\"model_name\":\"housepricesagacontrol\",\"model_sha\":\"e22a0831aafd9917f3cc87a15ed267797f80e2afa12ad7d8810ca58f173b8cc6\"}   \n",
       "5495  {\"model_name\":\"housepricesagacontrol\",\"model_sha\":\"e22a0831aafd9917f3cc87a15ed267797f80e2afa12ad7d8810ca58f173b8cc6\"}   \n",
       "5496  {\"model_name\":\"housepricesagacontrol\",\"model_sha\":\"e22a0831aafd9917f3cc87a15ed267797f80e2afa12ad7d8810ca58f173b8cc6\"}   \n",
       "5497  {\"model_name\":\"housepricesagacontrol\",\"model_sha\":\"e22a0831aafd9917f3cc87a15ed267797f80e2afa12ad7d8810ca58f173b8cc6\"}   \n",
       "5498  {\"model_name\":\"housepricesagacontrol\",\"model_sha\":\"e22a0831aafd9917f3cc87a15ed267797f80e2afa12ad7d8810ca58f173b8cc6\"}   \n",
       "5499  {\"model_name\":\"housepricesagacontrol\",\"model_sha\":\"e22a0831aafd9917f3cc87a15ed267797f80e2afa12ad7d8810ca58f173b8cc6\"}   \n",
       "5500  {\"model_name\":\"housepricesagacontrol\",\"model_sha\":\"e22a0831aafd9917f3cc87a15ed267797f80e2afa12ad7d8810ca58f173b8cc6\"}   \n",
       "5501  {\"model_name\":\"housepricesagacontrol\",\"model_sha\":\"e22a0831aafd9917f3cc87a15ed267797f80e2afa12ad7d8810ca58f173b8cc6\"}   \n",
       "5502  {\"model_name\":\"housepricesagacontrol\",\"model_sha\":\"e22a0831aafd9917f3cc87a15ed267797f80e2afa12ad7d8810ca58f173b8cc6\"}   \n",
       "5503  {\"model_name\":\"housepricesagacontrol\",\"model_sha\":\"e22a0831aafd9917f3cc87a15ed267797f80e2afa12ad7d8810ca58f173b8cc6\"}   \n",
       "\n",
       "     metadata.pipeline_version    metadata.elapsed metadata.dropped  \\\n",
       "5484                            [1801705, 2182407]               []   \n",
       "5485                            [1801705, 2182407]               []   \n",
       "5486                            [1801705, 2182407]               []   \n",
       "5487                            [1801705, 2182407]               []   \n",
       "5488                            [1801705, 2182407]               []   \n",
       "5489                            [1801705, 2182407]               []   \n",
       "5490                            [1801705, 2182407]               []   \n",
       "5491                            [1801705, 2182407]               []   \n",
       "5492                            [1801705, 2182407]               []   \n",
       "5493                            [1801705, 2182407]               []   \n",
       "5494                            [1801705, 2182407]               []   \n",
       "5495                            [1801705, 2182407]               []   \n",
       "5496                            [1801705, 2182407]               []   \n",
       "5497                            [1801705, 2182407]               []   \n",
       "5498                            [1801705, 2182407]               []   \n",
       "5499                            [1801705, 2182407]               []   \n",
       "5500                            [1801705, 2182407]               []   \n",
       "5501                            [1801705, 2182407]               []   \n",
       "5502                               [69600, 886202]               []   \n",
       "5503                              [173700, 340301]               []   \n",
       "\n",
       "           metadata.partition  \n",
       "5484  engine-54c865f485-dwhjf  \n",
       "5485  engine-54c865f485-dwhjf  \n",
       "5486  engine-54c865f485-dwhjf  \n",
       "5487  engine-54c865f485-dwhjf  \n",
       "5488  engine-54c865f485-dwhjf  \n",
       "5489  engine-54c865f485-dwhjf  \n",
       "5490  engine-54c865f485-dwhjf  \n",
       "5491  engine-54c865f485-dwhjf  \n",
       "5492  engine-54c865f485-dwhjf  \n",
       "5493  engine-54c865f485-dwhjf  \n",
       "5494  engine-54c865f485-dwhjf  \n",
       "5495  engine-54c865f485-dwhjf  \n",
       "5496  engine-54c865f485-dwhjf  \n",
       "5497  engine-54c865f485-dwhjf  \n",
       "5498  engine-54c865f485-dwhjf  \n",
       "5499  engine-54c865f485-dwhjf  \n",
       "5500  engine-54c865f485-dwhjf  \n",
       "5501  engine-54c865f485-dwhjf  \n",
       "5502  engine-54c865f485-dwhjf  \n",
       "5503  engine-54c865f485-dwhjf  "
      ]
     },
     "metadata": {},
     "output_type": "display_data"
    },
    {
     "data": {
      "text/plain": [
       "['engine-54c865f485-dwhjf', 'houseprice-edgebaseline-examples']"
      ]
     },
     "metadata": {},
     "output_type": "display_data"
    },
    {
     "data": {
      "text/plain": [
       "'houseprice-edgebaseline-examples'"
      ]
     },
     "metadata": {},
     "output_type": "display_data"
    }
   ],
   "source": [
    "# display the head 20 results\n",
    "\n",
    "df_logs = pd.read_json('./partition-edge-observability/edge-logs-1.json', orient=\"records\", lines=True)\n",
    "display(df_logs.tail(20))\n",
    "\n",
    "display(pd.unique(df_logs['metadata.partition']).tolist())\n",
    "\n",
    "display(pd.unique(df_logs['metadata.partition']).tolist()[1])"
   ]
  },
  {
   "cell_type": "code",
   "execution_count": 28,
   "metadata": {},
   "outputs": [
    {
     "data": {
      "text/plain": [
       "<wallaroo.assay_config.WindowBuilder at 0x7f439dba5a00>"
      ]
     },
     "execution_count": 28,
     "metadata": {},
     "output_type": "execute_result"
    }
   ],
   "source": [
    "assay_builder_from_numpy.window_builder().add_location_filter([pd.unique(df_logs['metadata.partition']).tolist()[1]])"
   ]
  },
  {
   "cell_type": "code",
   "execution_count": 29,
   "metadata": {},
   "outputs": [],
   "source": [
    "assay_config_from_numpy = assay_builder_from_numpy.build()"
   ]
  },
  {
   "cell_type": "code",
   "execution_count": 30,
   "metadata": {},
   "outputs": [],
   "source": [
    "assay_analysis_from_numpy = assay_config_from_numpy.interactive_run()"
   ]
  },
  {
   "cell_type": "code",
   "execution_count": 31,
   "metadata": {},
   "outputs": [
    {
     "name": "stdout",
     "output_type": "stream",
     "text": [
      "Generated 1 analyses\n"
     ]
    },
    {
     "data": {
      "image/png": "[encoded data removed]",
      "text/plain": [
       "<Figure size 432x288 with 1 Axes>"
      ]
     },
     "metadata": {
      "needs_background": "light"
     },
     "output_type": "display_data"
    }
   ],
   "source": [
    "# Show how many assay windows were analyzed, then show the chart\n",
    "print(f\"Generated {len(assay_analysis_from_numpy)} analyses\")\n",
    "assay_analysis_from_numpy.chart_scores()"
   ]
  },
  {
   "cell_type": "code",
   "execution_count": 32,
   "metadata": {},
   "outputs": [
    {
     "data": {
      "text/html": [
       "<div>\n",
       "<style scoped>\n",
       "    .dataframe tbody tr th:only-of-type {\n",
       "        vertical-align: middle;\n",
       "    }\n",
       "\n",
       "    .dataframe tbody tr th {\n",
       "        vertical-align: top;\n",
       "    }\n",
       "\n",
       "    .dataframe thead th {\n",
       "        text-align: right;\n",
       "    }\n",
       "</style>\n",
       "<table border=\"1\" class=\"dataframe\">\n",
       "  <thead>\n",
       "    <tr style=\"text-align: right;\">\n",
       "      <th></th>\n",
       "      <th>score</th>\n",
       "      <th>start</th>\n",
       "      <th>alert_threshold</th>\n",
       "      <th>status</th>\n",
       "    </tr>\n",
       "  </thead>\n",
       "  <tbody>\n",
       "    <tr>\n",
       "      <th>0</th>\n",
       "      <td>0.039158</td>\n",
       "      <td>2023-10-31T20:16:18.132000+00:00</td>\n",
       "      <td>0.25</td>\n",
       "      <td>Ok</td>\n",
       "    </tr>\n",
       "  </tbody>\n",
       "</table>\n",
       "</div>"
      ],
      "text/plain": [
       "      score                             start  alert_threshold status\n",
       "0  0.039158  2023-10-31T20:16:18.132000+00:00             0.25     Ok"
      ]
     },
     "metadata": {},
     "output_type": "display_data"
    }
   ],
   "source": [
    "# Display the results as a DataFrame - we're mainly interested in the score and whether the \n",
    "# alert threshold was triggered\n",
    "display(assay_analysis_from_numpy.to_dataframe().loc[:, [\"score\", \"start\", \"alert_threshold\", \"status\"]])"
   ]
  },
  {
   "cell_type": "markdown",
   "metadata": {},
   "source": [
    "### Upload Assay\n",
    "\n",
    "With the assay created and fully tested, we will upload it to the Wallaroo instance.  This will make it available for future demonstrations and visible through the Wallaroo UI."
   ]
  },
  {
   "cell_type": "code",
   "execution_count": null,
   "metadata": {},
   "outputs": [],
   "source": [
    "# left unrun as exercise to the reader\n",
    "# assay_builder_from_numpy.upload()"
   ]
  },
  {
   "cell_type": "markdown",
   "metadata": {},
   "source": [
    "### Undeploy Main Pipeline\n",
    "\n",
    "With the examples and tutorial complete, we will undeploy the main pipeline and return the resources back to the Wallaroo instance."
   ]
  },
  {
   "cell_type": "code",
   "execution_count": null,
   "metadata": {},
   "outputs": [
    {
     "name": "stdout",
     "output_type": "stream",
     "text": [
      "Waiting for undeployment - this will take up to 45s ..................................."
     ]
    }
   ],
   "source": [
    "mainpipeline.undeploy()"
   ]
  }
 ],
 "metadata": {
  "kernelspec": {
   "display_name": "Python 3 (ipykernel)",
   "language": "python",
   "name": "python3"
  },
  "language_info": {
   "codemirror_mode": {
    "name": "ipython",
    "version": 3
   },
   "file_extension": ".py",
   "mimetype": "text/x-python",
   "name": "python",
   "nbconvert_exporter": "python",
   "pygments_lexer": "ipython3",
   "version": "3.9.13"
  },
  "vscode": {
   "interpreter": {
    "hash": "7dda4bf3640b7fafcd1648658b879b4cc9f6ba6084e8fb356fdaaa1a461d1690"
   }
  }
 },
 "nbformat": 4,
 "nbformat_minor": 4
}
