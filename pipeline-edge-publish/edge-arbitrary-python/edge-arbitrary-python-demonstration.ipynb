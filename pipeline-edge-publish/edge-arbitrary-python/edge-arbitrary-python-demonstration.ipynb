{
 "cells": [
  {
   "attachments": {},
   "cell_type": "markdown",
   "id": "d1541638-48e2-4f9e-9a6c-1f868ba7f837",
   "metadata": {},
   "source": [
    "This tutorial can be downloaded as part of the [Wallaroo Tutorials repository](https://github.com/WallarooLabs/Wallaroo_Tutorials/blob/2023.3.0-updates/pipeline-edge-publish/edge-arbitrary-python).\n",
    "\n",
    "## Arbitrary Python Tutorial Deploy Model in Wallaroo Upload and Deploy\n",
    "\n",
    "This tutorial demonstrates how to use arbitrary python as a ML Model in Wallaroo and deploy the pipeline, then deploy that same pipeline to edge devices through an Open Container Initiative Registry, registered in the Wallaroo instance as the Edge Deployment Registry.\n",
    "\n",
    "### Tutorial Goals\n",
    "\n",
    "* **Arbitrary Python Tutorial Deploy Model in Wallaroo Upload and Deploy**: Deploys the `KMeans` model in an arbitrary Python package in Wallaroo, and perform sample inferences.  The file `models/model-auto-conversion-BYOP-vgg16-clustering.zip` is provided so users can go right to testing deployment.\n",
    "* **Publish pipeline to Open Container Initiative Registry, registered in the Wallaroo instance as the Edge Deployment Registry.**:  This will containerize the pipeline and copy the engine, python steps, model, and deployment configuration to the registry service.\n",
    "* **Deploy the Pipeline to an Edge Device**:  The pipeline will be deployed to an Edge device through Docker.\n",
    "\n",
    "### Arbitrary Python Script Requirements\n",
    "\n",
    "The entry point of the arbitrary python model is any python script that **must** include the following.\n",
    "\n",
    "* `class ImageClustering(Inference)`:  The default inference class.  This is used to perform the actual inferences.  Wallaroo uses the `_predict` method to receive the inference data and call the appropriate functions for the inference.\n",
    "  * `def __init__`:  Used to initialize this class and load in any other classes or other required settings.\n",
    "  * `def expected_model_types`: Used by Wallaroo to anticipate what model types are used by the script.\n",
    "  * `def model(self, model)`: Defines the model used for the inference.  Accepts the model instance used in the inference.\n",
    "    * `self._raise_error_if_model_is_wrong_type(model)`: Returns the error if the wrong model type is used.  This verifies that only the anticipated model type is used for the inference.\n",
    "    * `self._model = model`: Sets the submitted model as the model for this class, provided `_raise_error_if_model_is_wrong_type` is not raised.\n",
    "  * `def _predict(self, input_data: InferenceData)`:  This is the entry point for Wallaroo to perform the inference.  This will receive the inference data, then perform whatever steps and return a dictionary of numpy arrays.\n",
    "* `class ImageClusteringBuilder(InferenceBuilder)`: Loads the model and prepares it for inferencing.\n",
    "  * `def inference(self) -> ImageClustering`: Sets the inference class being used for the inferences.\n",
    "  * `def create(self, config: CustomInferenceConfig) -> ImageClustering`: Creates an inference subclass, assigning the model and any attributes required for it to function.\n",
    "\n",
    "All other methods used for the functioning of these classes are optional, as long as they meet the requirements listed above.\n",
    "\n",
    "### Tutorial Prerequisites\n",
    "\n",
    "* A Wallaroo version 2023.2.1 or above instance.\n",
    "\n",
    "### References\n",
    "\n",
    "* [Wallaroo SDK Essentials Guide: Model Uploads and Registrations: Arbitrary Python](https://docs.wallaroo.ai/wallaroo-developer-guides/wallaroo-sdk-guides/wallaroo-sdk-essentials-guide/wallaroo-sdk-model-uploads/wallaroo-sdk-model-arbitrary-python/)"
   ]
  },
  {
   "attachments": {},
   "cell_type": "markdown",
   "id": "0a5216bd-3044-42ac-8514-98c90e5bbb38",
   "metadata": {},
   "source": [
    "## Tutorial Steps\n",
    "\n",
    "### Import Libraries\n",
    "\n",
    "The first step is to import the libraries we'll be using.  These are included by default in the Wallaroo instance's JupyterHub service."
   ]
  },
  {
   "cell_type": "code",
   "execution_count": 28,
   "id": "2fe9934d-7f28-4715-94df-e18da031a4c9",
   "metadata": {},
   "outputs": [],
   "source": [
    "import numpy as np\n",
    "import pandas as pd\n",
    "import json\n",
    "import os\n",
    "import pickle\n",
    "import pyarrow as pa\n",
    "import tensorflow as tf\n",
    "import wallaroo\n",
    "\n",
    "from sklearn.cluster import KMeans\n",
    "from tensorflow.keras.datasets import cifar10\n",
    "from tensorflow.keras import Model\n",
    "from tensorflow.keras.layers import Flatten\n",
    "from wallaroo.pipeline   import Pipeline\n",
    "from wallaroo.deployment_config import DeploymentConfigBuilder\n",
    "from wallaroo.framework import Framework\n",
    "from wallaroo.object import EntityNotFoundError\n",
    "\n",
    "import requests"
   ]
  },
  {
   "attachments": {},
   "cell_type": "markdown",
   "id": "a91f8feb",
   "metadata": {},
   "source": [
    "### Open a Connection to Wallaroo\n",
    "\n",
    "The next step is connect to Wallaroo through the Wallaroo client.  The Python library is included in the Wallaroo install and available through the Jupyter Hub interface provided with your Wallaroo environment.\n",
    "\n",
    "This is accomplished using the `wallaroo.Client()` command, which provides a URL to grant the SDK permission to your specific Wallaroo environment.  When displayed, enter the URL into a browser and confirm permissions.  Store the connection into a variable that can be referenced later.\n",
    "\n",
    "If logging into the Wallaroo instance through the internal JupyterHub service, use `wl = wallaroo.Client()`.  If logging in externally, update the `wallarooPrefix` and `wallarooSuffix` variables with the proper DNS information.  For more information on Wallaroo DNS settings, see the [Wallaroo DNS Integration Guide](https://docs.wallaroo.ai/wallaroo-operations-guide/wallaroo-configuration/wallaroo-dns-guide/)."
   ]
  },
  {
   "cell_type": "code",
   "execution_count": 4,
   "id": "be793a15",
   "metadata": {},
   "outputs": [],
   "source": [
    "wl = wallaroo.Client()"
   ]
  },
  {
   "attachments": {},
   "cell_type": "markdown",
   "id": "7a6c5e4b",
   "metadata": {},
   "source": [
    "### Set Variables and Helper Functions\n",
    "\n",
    "We'll set the name of our workspace, pipeline, models and files.  Workspace names must be unique across the Wallaroo workspace.  For this, we'll add in a randomly generated 4 characters to the workspace name to prevent collisions with other users' workspaces.  If running this tutorial, we recommend hard coding the workspace name so it will function in the same workspace each time it's run.\n",
    "\n",
    "We'll set up some helper functions that will either use existing workspaces and pipelines, or create them if they do not already exist."
   ]
  },
  {
   "cell_type": "code",
   "execution_count": 5,
   "id": "055924d6",
   "metadata": {},
   "outputs": [],
   "source": [
    "import string\n",
    "import random\n",
    "\n",
    "# make a random 4 character suffix to prevent overwriting other user's workspaces\n",
    "suffix= ''.join(random.choice(string.ascii_lowercase) for i in range(4))\n",
    "workspace_name = f'vgg16-clustering-workspace{suffix}'\n",
    "pipeline_name = f'vgg16-clustering-pipeline'\n",
    "\n",
    "model_name = 'vgg16-clustering'\n",
    "model_file_name = './models/model-auto-conversion-BYOP-vgg16-clustering.zip'"
   ]
  },
  {
   "cell_type": "code",
   "execution_count": 6,
   "id": "d9261d3e",
   "metadata": {},
   "outputs": [],
   "source": [
    "def get_workspace(name):\n",
    "    workspace = None\n",
    "    for ws in wl.list_workspaces():\n",
    "        if ws.name() == name:\n",
    "            workspace= ws\n",
    "    if(workspace == None):\n",
    "        workspace = wl.create_workspace(name)\n",
    "    return workspace\n",
    "\n",
    "def get_pipeline(name):\n",
    "    try:\n",
    "        pipeline = wl.pipelines_by_name(name)[0]\n",
    "    except EntityNotFoundError:\n",
    "        pipeline = wl.build_pipeline(name)\n",
    "    return pipeline"
   ]
  },
  {
   "attachments": {},
   "cell_type": "markdown",
   "id": "00353f1b",
   "metadata": {},
   "source": [
    "### Create Workspace and Pipeline\n",
    "\n",
    "We will now create the Wallaroo workspace to store our model and set it as the current workspace.  Future commands will default to this workspace for pipeline creation, model uploads, etc.  We'll create our Wallaroo pipeline that is used to deploy our arbitrary Python model."
   ]
  },
  {
   "cell_type": "code",
   "execution_count": 13,
   "id": "b4308a73",
   "metadata": {},
   "outputs": [],
   "source": [
    "workspace = get_workspace(workspace_name)\n",
    "wl.set_current_workspace(workspace)\n",
    "\n",
    "pipeline = get_pipeline(pipeline_name)"
   ]
  },
  {
   "attachments": {},
   "cell_type": "markdown",
   "id": "792059dc-142b-4a5a-ad2b-6dd7c008c54d",
   "metadata": {},
   "source": [
    "### Upload Arbitrary Python Model\n",
    "\n",
    "Arbitrary Python models are uploaded to Wallaroo through the Wallaroo Client `upload_model` method.\n",
    "\n",
    "#### Upload Arbitrary Python Model Parameters\n",
    "\n",
    "The following parameters are required for Arbitrary Python models.  Note that while some fields are considered as **optional** for the `upload_model` method, they are required for proper uploading of a Arbitrary Python model to Wallaroo.\n",
    "\n",
    "| Parameter | Type | Description |\n",
    "|---|---|---|\n",
    "|`name` | `string` (*Required*) | The name of the model.  Model names are unique per workspace.  Models that are uploaded with the same name are assigned as a new **version** of the model. |\n",
    "|`path` | `string` (*Required*) | The path to the model file being uploaded. |\n",
    "|`framework` |`string` (*Upload Method Optional, Arbitrary Python model Required*) | Set as `Framework.CUSTOM`. |\n",
    "|`input_schema` | `pyarrow.lib.Schema` (*Upload Method Optional, Arbitrary Python model Required*) | The input schema in Apache Arrow schema format. |\n",
    "|`output_schema` | `pyarrow.lib.Schema` (*Upload Method Optional, Arbitrary Python model Required*) | The output schema in Apache Arrow schema format. |\n",
    "| `convert_wait` | `bool` (*Upload Method Optional, Arbitrary Python model Optional*) (*Default: True*) | <ul><li>**True**: Waits in the script for the model conversion completion.</li><li>**False**:  Proceeds with the script without waiting for the model conversion process to display complete. |\n",
    "\n",
    "Once the upload process starts, the model is containerized by the Wallaroo instance.  This process may take up to 10 minutes.\n",
    "\n",
    "#### Upload Arbitrary Python Model Return\n",
    "\n",
    "The following is returned with a successful model upload and conversion.\n",
    "\n",
    "| Field | Type | Description |\n",
    "|---|---|---|\n",
    "| `name` | string | The name of the model. |\n",
    "| `version` | string | The model version as a unique UUID. |\n",
    "| `file_name` | string | The file name of the model as stored in Wallaroo. |\n",
    "| `image_path` | string | The image used to deploy the model in the Wallaroo engine. |\n",
    "| `last_update_time` | DateTime | When the model was last updated. |\n",
    "\n",
    "For our example, we'll start with setting the `input_schema` and `output_schema` that is expected by our `ImageClustering._predict()` method."
   ]
  },
  {
   "cell_type": "code",
   "execution_count": 14,
   "id": "30bf75b9-dc7c-48d3-9491-d042653bcf6d",
   "metadata": {},
   "outputs": [],
   "source": [
    "input_schema = pa.schema([\n",
    "    pa.field('images', pa.list_(\n",
    "        pa.list_(\n",
    "            pa.list_(\n",
    "                pa.int64(),\n",
    "                list_size=3\n",
    "            ),\n",
    "            list_size=32\n",
    "        ),\n",
    "        list_size=32\n",
    "    )),\n",
    "])\n",
    "\n",
    "output_schema = pa.schema([\n",
    "    pa.field('predictions', pa.int64()),\n",
    "])"
   ]
  },
  {
   "attachments": {},
   "cell_type": "markdown",
   "id": "c8a1cf66-6d74-47bd-b739-e7bf4e9fe059",
   "metadata": {},
   "source": [
    "### Upload Model\n",
    "\n",
    "Now we'll upload our model.  The framework is `Framework.CUSTOM` for arbitrary Python models, and we'll specify the input and output schemas for the upload."
   ]
  },
  {
   "cell_type": "code",
   "execution_count": 15,
   "id": "4cb37931-2793-4256-968e-ea4f4ac7fee2",
   "metadata": {
    "tags": []
   },
   "outputs": [
    {
     "name": "stdout",
     "output_type": "stream",
     "text": [
      "Waiting for model loading - this will take up to 10.0min.\n",
      "Model is pending loading to a container runtime.\n",
      "Model is attempting loading to a container runtime....................successful\n",
      "\n",
      "Ready\n"
     ]
    },
    {
     "data": {
      "text/html": [
       "<table>\n",
       "        <tr>\n",
       "          <td>Name</td>\n",
       "          <td>vgg16-clustering</td>\n",
       "        </tr>\n",
       "        <tr>\n",
       "          <td>Version</td>\n",
       "          <td>90c3ea47-0e4f-4de6-9bea-af47e3c9da6f</td>\n",
       "        </tr>\n",
       "        <tr>\n",
       "          <td>File Name</td>\n",
       "          <td>model-auto-conversion-BYOP-vgg16-clustering.zip</td>\n",
       "        </tr>\n",
       "        <tr>\n",
       "          <td>SHA</td>\n",
       "          <td>7bb3362b1768c92ea7e593451b2b8913d3b7616c19fd8d25b73fb6990f9283e0</td>\n",
       "        </tr>\n",
       "        <tr>\n",
       "          <td>Status</td>\n",
       "          <td>ready</td>\n",
       "        </tr>\n",
       "        <tr>\n",
       "          <td>Image Path</td>\n",
       "          <td>proxy.replicated.com/proxy/wallaroo/ghcr.io/wallaroolabs/mlflow-deploy:v2023.3.0-main-3731</td>\n",
       "        </tr>\n",
       "        <tr>\n",
       "          <td>Updated At</td>\n",
       "          <td>2023-28-Aug 20:29:44</td>\n",
       "        </tr>\n",
       "      </table>"
      ],
      "text/plain": [
       "{'name': 'vgg16-clustering', 'version': '90c3ea47-0e4f-4de6-9bea-af47e3c9da6f', 'file_name': 'model-auto-conversion-BYOP-vgg16-clustering.zip', 'image_path': 'proxy.replicated.com/proxy/wallaroo/ghcr.io/wallaroolabs/mlflow-deploy:v2023.3.0-main-3731', 'last_update_time': datetime.datetime(2023, 8, 28, 20, 29, 44, 808253, tzinfo=tzutc())}"
      ]
     },
     "execution_count": 15,
     "metadata": {},
     "output_type": "execute_result"
    }
   ],
   "source": [
    "model = wl.upload_model(model_name, \n",
    "                        model_file_name, \n",
    "                        framework=Framework.CUSTOM, \n",
    "                        input_schema=input_schema, \n",
    "                        output_schema=output_schema, \n",
    "                        convert_wait=True)\n",
    "model"
   ]
  },
  {
   "attachments": {},
   "cell_type": "markdown",
   "id": "73fd53a1-2f01-42c6-97b1-b5356168c418",
   "metadata": {},
   "source": [
    "### Deploy Pipeline\n",
    "\n",
    "The model is uploaded and ready for use.  We'll add it as a step in our pipeline, then deploy the pipeline.  For this example we're allocated 0.25 cpu and 4 Gi RAM to the pipeline through the pipeline's deployment configuration."
   ]
  },
  {
   "cell_type": "code",
   "execution_count": 16,
   "id": "354041c2-3769-46f9-9017-22dac6e773cf",
   "metadata": {},
   "outputs": [
    {
     "data": {
      "text/html": [
       "<table><tr><th>name</th> <td>vgg16-clustering-pipeline</td></tr><tr><th>created</th> <td>2023-08-28 20:26:59.888454+00:00</td></tr><tr><th>last_updated</th> <td>2023-08-28 20:26:59.888454+00:00</td></tr><tr><th>deployed</th> <td>(none)</td></tr><tr><th>tags</th> <td></td></tr><tr><th>versions</th> <td>af9b1b8e-578c-4d72-8bf7-97724301fb45</td></tr><tr><th>steps</th> <td></td></tr><tr><th>published</th> <td>False</td></tr></table>"
      ],
      "text/plain": [
       "{'name': 'vgg16-clustering-pipeline', 'create_time': datetime.datetime(2023, 8, 28, 20, 26, 59, 888454, tzinfo=tzutc()), 'definition': \"[{'ModelInference': {'models': [{'name': 'vgg16-clustering', 'version': '90c3ea47-0e4f-4de6-9bea-af47e3c9da6f', 'sha': '7bb3362b1768c92ea7e593451b2b8913d3b7616c19fd8d25b73fb6990f9283e0'}]}}]\"}"
      ]
     },
     "execution_count": 16,
     "metadata": {},
     "output_type": "execute_result"
    }
   ],
   "source": [
    "pipeline.add_model_step(model)"
   ]
  },
  {
   "cell_type": "code",
   "execution_count": 17,
   "id": "bff75bef-deb6-44b5-aaeb-df21a0d57e9e",
   "metadata": {
    "tags": []
   },
   "outputs": [
    {
     "data": {
      "text/plain": [
       "{'status': 'Running',\n",
       " 'details': [],\n",
       " 'engines': [{'ip': '10.244.3.100',\n",
       "   'name': 'engine-76bbb56bcc-rnnhl',\n",
       "   'status': 'Running',\n",
       "   'reason': None,\n",
       "   'details': [],\n",
       "   'pipeline_statuses': {'pipelines': [{'id': 'vgg16-clustering-pipeline',\n",
       "      'status': 'Running'}]},\n",
       "   'model_statuses': {'models': [{'name': 'vgg16-clustering',\n",
       "      'version': '90c3ea47-0e4f-4de6-9bea-af47e3c9da6f',\n",
       "      'sha': '7bb3362b1768c92ea7e593451b2b8913d3b7616c19fd8d25b73fb6990f9283e0',\n",
       "      'status': 'Running'}]}}],\n",
       " 'engine_lbs': [{'ip': '10.244.4.115',\n",
       "   'name': 'engine-lb-584f54c899-sxpws',\n",
       "   'status': 'Running',\n",
       "   'reason': None,\n",
       "   'details': []}],\n",
       " 'sidekicks': [{'ip': '10.244.3.101',\n",
       "   'name': 'engine-sidekick-vgg16-clustering-16-56b9b4bb88-mxl7w',\n",
       "   'status': 'Running',\n",
       "   'reason': None,\n",
       "   'details': [],\n",
       "   'statuses': '\\n'}]}"
      ]
     },
     "execution_count": 17,
     "metadata": {},
     "output_type": "execute_result"
    }
   ],
   "source": [
    "deployment_config = DeploymentConfigBuilder() \\\n",
    "    .cpus(0.25).memory('4Gi') \\\n",
    "    .build()\n",
    "\n",
    "pipeline.deploy(deployment_config=deployment_config)\n",
    "pipeline.status()"
   ]
  },
  {
   "attachments": {},
   "cell_type": "markdown",
   "id": "92cd9b9e-9939-4b61-a4ce-cbf275925c29",
   "metadata": {
    "tags": [],
    "toc-hr-collapsed": true
   },
   "source": [
    "### Run inference\n",
    "\n",
    "Everything is in place - we'll now run a sample inference with some toy data.  In this case we're randomly generating some values in the data shape the model expects, then submitting an inference request through our deployed pipeline."
   ]
  },
  {
   "cell_type": "code",
   "execution_count": 18,
   "id": "910e637d-d46b-490e-aff5-9a6b195437d8",
   "metadata": {},
   "outputs": [
    {
     "data": {
      "text/html": [
       "<div>\n",
       "<style scoped>\n",
       "    .dataframe tbody tr th:only-of-type {\n",
       "        vertical-align: middle;\n",
       "    }\n",
       "\n",
       "    .dataframe tbody tr th {\n",
       "        vertical-align: top;\n",
       "    }\n",
       "\n",
       "    .dataframe thead th {\n",
       "        text-align: right;\n",
       "    }\n",
       "</style>\n",
       "<table border=\"1\" class=\"dataframe\">\n",
       "  <thead>\n",
       "    <tr style=\"text-align: right;\">\n",
       "      <th></th>\n",
       "      <th>images</th>\n",
       "    </tr>\n",
       "  </thead>\n",
       "  <tbody>\n",
       "    <tr>\n",
       "      <th>0</th>\n",
       "      <td>[[[146, 99, 233], [130, 180, 165], [18, 140, 2...</td>\n",
       "    </tr>\n",
       "    <tr>\n",
       "      <th>1</th>\n",
       "      <td>[[[146, 99, 233], [130, 180, 165], [18, 140, 2...</td>\n",
       "    </tr>\n",
       "  </tbody>\n",
       "</table>\n",
       "</div>"
      ],
      "text/plain": [
       "                                              images\n",
       "0  [[[146, 99, 233], [130, 180, 165], [18, 140, 2...\n",
       "1  [[[146, 99, 233], [130, 180, 165], [18, 140, 2..."
      ]
     },
     "execution_count": 18,
     "metadata": {},
     "output_type": "execute_result"
    }
   ],
   "source": [
    "input_data = {\n",
    "        \"images\": [np.random.randint(0, 256, (32, 32, 3), dtype=np.uint8)] * 2,\n",
    "}\n",
    "dataframe = pd.DataFrame(input_data)\n",
    "dataframe"
   ]
  },
  {
   "cell_type": "code",
   "execution_count": 19,
   "id": "52b2ba19-921f-400d-9c2e-813f51787387",
   "metadata": {},
   "outputs": [
    {
     "data": {
      "text/html": [
       "<div>\n",
       "<style scoped>\n",
       "    .dataframe tbody tr th:only-of-type {\n",
       "        vertical-align: middle;\n",
       "    }\n",
       "\n",
       "    .dataframe tbody tr th {\n",
       "        vertical-align: top;\n",
       "    }\n",
       "\n",
       "    .dataframe thead th {\n",
       "        text-align: right;\n",
       "    }\n",
       "</style>\n",
       "<table border=\"1\" class=\"dataframe\">\n",
       "  <thead>\n",
       "    <tr style=\"text-align: right;\">\n",
       "      <th></th>\n",
       "      <th>time</th>\n",
       "      <th>in.images</th>\n",
       "      <th>out.predictions</th>\n",
       "      <th>check_failures</th>\n",
       "    </tr>\n",
       "  </thead>\n",
       "  <tbody>\n",
       "    <tr>\n",
       "      <th>0</th>\n",
       "      <td>2023-08-28 20:30:07.086</td>\n",
       "      <td>[146, 99, 233, 130, 180, 165, 18, 140, 203, 58...</td>\n",
       "      <td>1</td>\n",
       "      <td>0</td>\n",
       "    </tr>\n",
       "    <tr>\n",
       "      <th>1</th>\n",
       "      <td>2023-08-28 20:30:07.086</td>\n",
       "      <td>[146, 99, 233, 130, 180, 165, 18, 140, 203, 58...</td>\n",
       "      <td>1</td>\n",
       "      <td>0</td>\n",
       "    </tr>\n",
       "  </tbody>\n",
       "</table>\n",
       "</div>"
      ],
      "text/plain": [
       "                     time                                          in.images  \\\n",
       "0 2023-08-28 20:30:07.086  [146, 99, 233, 130, 180, 165, 18, 140, 203, 58...   \n",
       "1 2023-08-28 20:30:07.086  [146, 99, 233, 130, 180, 165, 18, 140, 203, 58...   \n",
       "\n",
       "   out.predictions  check_failures  \n",
       "0                1               0  \n",
       "1                1               0  "
      ]
     },
     "execution_count": 19,
     "metadata": {},
     "output_type": "execute_result"
    }
   ],
   "source": [
    "pipeline.infer(dataframe)"
   ]
  },
  {
   "attachments": {},
   "cell_type": "markdown",
   "id": "9727d4d5-9484-46b4-8fd1-4a352fafe602",
   "metadata": {},
   "source": [
    "### Undeploy Pipelines\n",
    "\n",
    "The inference is successful, so we will undeploy the pipeline and return the resources back to the cluster."
   ]
  },
  {
   "cell_type": "code",
   "execution_count": 20,
   "id": "7041caf5-1783-4099-97f8-37fdf81ca93a",
   "metadata": {},
   "outputs": [
    {
     "data": {
      "text/html": [
       "<table><tr><th>name</th> <td>vgg16-clustering-pipeline</td></tr><tr><th>created</th> <td>2023-08-28 20:26:59.888454+00:00</td></tr><tr><th>last_updated</th> <td>2023-08-28 20:29:47.161847+00:00</td></tr><tr><th>deployed</th> <td>False</td></tr><tr><th>tags</th> <td></td></tr><tr><th>versions</th> <td>9ef719d2-e4ad-4f45-9740-1ea82a7008b8, af9b1b8e-578c-4d72-8bf7-97724301fb45</td></tr><tr><th>steps</th> <td>vgg16-clustering</td></tr><tr><th>published</th> <td>False</td></tr></table>"
      ],
      "text/plain": [
       "{'name': 'vgg16-clustering-pipeline', 'create_time': datetime.datetime(2023, 8, 28, 20, 26, 59, 888454, tzinfo=tzutc()), 'definition': \"[{'ModelInference': {'models': [{'name': 'vgg16-clustering', 'version': '90c3ea47-0e4f-4de6-9bea-af47e3c9da6f', 'sha': '7bb3362b1768c92ea7e593451b2b8913d3b7616c19fd8d25b73fb6990f9283e0'}]}}]\"}"
      ]
     },
     "execution_count": 20,
     "metadata": {},
     "output_type": "execute_result"
    }
   ],
   "source": [
    "pipeline.undeploy()"
   ]
  },
  {
   "cell_type": "markdown",
   "id": "93536e22",
   "metadata": {},
   "source": [
    "### Publish the Pipeline for Edge Deployment\n",
    "\n",
    "It worked! For a demo, we'll take working once as \"tested\". So now that we've tested our pipeline, we are ready to publish it for edge deployment.\n",
    "\n",
    "Publishing it means assembling all of the configuration files and model assets and pushing them to an Open Container Initiative (OCI) repository set in the Wallaroo instance as the Edge Registry service.  DevOps engineers then retrieve that image and deploy it through Docker, Kubernetes, or similar deployments.\n",
    "\n",
    "See [Edge Deployment Registry Guide](https://staging.docs.wallaroo.ai/wallaroo-operations-guide/wallaroo-configuration/wallaroo-edge-deployment/) for details on adding an OCI Registry Service to Wallaroo as the Edge Deployment Registry.\n",
    "\n",
    "This is done through the SDK command `wallaroo.pipeline.publish(deployment_config)` which has the following parameters and returns.\n",
    "\n",
    "#### Publish a Pipeline Parameters\n",
    "\n",
    "The `publish` method takes the following parameters.  The containerized pipeline will be pushed to the Edge registry service with the model, pipeline configurations, and other artifacts needed to deploy the pipeline.\n",
    "\n",
    "| Parameter | Type | Description |\n",
    "|---|---|---|\n",
    "| `deployment_config` | `wallaroo.deployment_config.DeploymentConfig` (*Optional*) | Sets the pipeline deployment configuration.  For example:    For more information on pipeline deployment configuration, see the [Wallaroo SDK Essentials Guide: Pipeline Deployment Configuration]({{<ref \"wallaroo-sdk-essentials-pipeline-deployment-config\">}}).\n",
    "\n",
    "#### Publish a Pipeline Returns\n",
    "\n",
    "| Field | Type | Description |\n",
    "|---|---|---|\n",
    "| id | integer | Numerical Wallaroo id of the published pipeline. |\n",
    "| pipeline version id | integer | Numerical Wallaroo id of the pipeline version published. |\n",
    "| status | string | The status of the pipeline publication.  Values include:  <ul><li>PendingPublish: The pipeline publication is about to be uploaded or is in the process of being uploaded.</li><li>Published:  The pipeline is published and ready for use.</li></ul> |\n",
    "| Engine URL | string | The URL of the published pipeline engine in the edge registry. |\n",
    "| Pipeline URL | string | The URL of the published pipeline in the edge registry. |\n",
    "| Helm Chart URL | string | The URL of the helm chart for the published pipeline in the edge registry. |\n",
    "| Helm Chart Reference | string | The help chart reference. |\n",
    "| Helm Chart Version | string | The version of the Helm Chart of the published pipeline.  This is also used as the Docker tag. |\n",
    "| Engine Config | `wallaroo.deployment_config.DeploymentConfig` | The pipeline configuration included with the published pipeline. |\n",
    "| Created At | DateTime | When the published pipeline was created. |\n",
    "| Updated At | DateTime | When the published pipeline was updated. |\n",
    "\n",
    "### Publish Example\n",
    "\n",
    "We will now publish the pipeline to our Edge Deployment Registry with the `pipeline.publish(deployment_config)` command.  `deployment_config` is an optional field that specifies the pipeline deployment.  This can be overridden by the DevOps engineer during deployment."
   ]
  },
  {
   "cell_type": "code",
   "execution_count": 21,
   "id": "09e74578",
   "metadata": {},
   "outputs": [
    {
     "name": "stdout",
     "output_type": "stream",
     "text": [
      "Waiting for pipeline publish... It may take up to 600 sec.\n",
      "Pipeline is Publishing......Published.\n"
     ]
    },
    {
     "data": {
      "text/html": [
       "\n",
       "          <table>\n",
       "              <tr><td>ID</td><td>11</td></tr>\n",
       "              <tr><td>Pipeline Version</td><td>2c5968b7-62fa-49f8-9489-aaf84cfb80aa</td></tr>\n",
       "              <tr><td>Status</td><td>Published</td></tr>\n",
       "              <tr><td>Engine URL</td><td><a href='https://ghcr.io/wallaroolabs/doc-samples/engine:v2023.3.0-main-3731'>ghcr.io/wallaroolabs/doc-samples/engine:v2023.3.0-main-3731</a></td></tr>\n",
       "              <tr><td>Pipeline URL</td><td><a href='https://ghcr.io/wallaroolabs/doc-samples/pipelines/vgg16-clustering-pipeline:2c5968b7-62fa-49f8-9489-aaf84cfb80aa'>ghcr.io/wallaroolabs/doc-samples/pipelines/vgg16-clustering-pipeline:2c5968b7-62fa-49f8-9489-aaf84cfb80aa</a></td></tr>\n",
       "              <tr><td>Helm Chart URL</td><td><a href='https://ghcr.io/wallaroolabs/doc-samples/charts/vgg16-clustering-pipeline'>ghcr.io/wallaroolabs/doc-samples/charts/vgg16-clustering-pipeline</a></td></tr>\n",
       "              <tr><td>Helm Chart Reference</td><td>ghcr.io/wallaroolabs/doc-samples/charts@sha256:4fb4799235f09b7bd548fe2397a67a6d119d2cb284750945f86915376ccd0127</td></tr>\n",
       "              <tr><td>Helm Chart Version</td><td>0.0.1-2c5968b7-62fa-49f8-9489-aaf84cfb80aa</td></tr>\n",
       "              <tr><td>Engine Config</td><td>{'engine': {'resources': {'limits': {'cpu': 0.25, 'memory': '4Gi'}, 'requests': {'cpu': 0.25, 'memory': '4Gi'}}}, 'engineAux': {'images': {}}, 'enginelb': {}}</td></tr>\n",
       "              <tr><td>Created By</td><td>john.hummel@wallaroo.ai</td></tr>\n",
       "              <tr><td>Created At</td><td>2023-08-28 20:30:48.863741+00:00</td></tr>\n",
       "              <tr><td>Updated At</td><td>2023-08-28 20:30:48.863741+00:00</td></tr>\n",
       "          </table>\n",
       "        "
      ],
      "text/plain": [
       "PipelinePublish(created_at=datetime.datetime(2023, 8, 28, 20, 30, 48, 863741, tzinfo=tzutc()), engine_config={'engine': {'resources': {'limits': {'cpu': 0.25, 'memory': '4Gi'}, 'requests': {'cpu': 0.25, 'memory': '4Gi'}}}, 'engineAux': {'images': {}}, 'enginelb': {}}, id=11, pipeline_version_id=40, status='Published', updated_at=datetime.datetime(2023, 8, 28, 20, 30, 48, 863741, tzinfo=tzutc()), created_by='db364f8c-b866-4865-96b7-0b65662cb384', engine_url='ghcr.io/wallaroolabs/doc-samples/engine:v2023.3.0-main-3731', helm={'reference': 'ghcr.io/wallaroolabs/doc-samples/charts@sha256:4fb4799235f09b7bd548fe2397a67a6d119d2cb284750945f86915376ccd0127', 'chart': 'ghcr.io/wallaroolabs/doc-samples/charts/vgg16-clustering-pipeline', 'version': '0.0.1-2c5968b7-62fa-49f8-9489-aaf84cfb80aa'}, pipeline_url='ghcr.io/wallaroolabs/doc-samples/pipelines/vgg16-clustering-pipeline:2c5968b7-62fa-49f8-9489-aaf84cfb80aa', pipeline_version_name='2c5968b7-62fa-49f8-9489-aaf84cfb80aa', additional_properties={})"
      ]
     },
     "execution_count": 21,
     "metadata": {},
     "output_type": "execute_result"
    }
   ],
   "source": [
    "pub = pipeline.publish(deployment_config)\n",
    "pub"
   ]
  },
  {
   "cell_type": "markdown",
   "id": "da8906de",
   "metadata": {},
   "source": [
    "### List Published Pipeline\n",
    "\n",
    "The method `wallaroo.client.list_pipelines()` shows a list of all pipelines in the Wallaroo instance, and includes the `published` field that indicates whether the pipeline was published to the registry (`True`), or has not yet been published (`False`)."
   ]
  },
  {
   "cell_type": "code",
   "execution_count": 22,
   "id": "14126ff4",
   "metadata": {},
   "outputs": [
    {
     "data": {
      "text/html": [
       "<table><tr><th>name</th><th>created</th><th>last_updated</th><th>deployed</th><th>tags</th><th>versions</th><th>steps</th><th>published</th></tr><tr><td>vgg16-clustering-pipeline</td><td>2023-28-Aug 20:26:59</td><td>2023-28-Aug 20:30:48</td><td>False</td><td></td><td>2c5968b7-62fa-49f8-9489-aaf84cfb80aa, 9ef719d2-e4ad-4f45-9740-1ea82a7008b8, af9b1b8e-578c-4d72-8bf7-97724301fb45</td><td>vgg16-clustering</td><td>True</td></tr><tr><td>alohapipelineudjo</td><td>2023-28-Aug 17:10:05</td><td>2023-28-Aug 17:10:10</td><td>False</td><td></td><td>750fec3b-f178-4abd-9643-2208e0fd1fbd, e3f6ddff-9a25-48cc-9f94-fbc7bd67db29</td><td>alohamodeludjo</td><td>False</td></tr><tr><td>ejatalohapipeline</td><td>2023-28-Aug 16:59:39</td><td>2023-28-Aug 16:59:44</td><td>False</td><td></td><td>7f4c15e6-f6e3-4145-bed7-02ab9018bd67, 71611219-8559-410b-9bae-5f55a2ae245e</td><td>ejatalohamodel</td><td>False</td></tr><tr><td>housing-pipe</td><td>2023-28-Aug 16:53:31</td><td>2023-28-Aug 16:54:44</td><td>False</td><td></td><td>fede64f0-2a46-4a7f-8a52-59acfbaf7678, 63da191e-93f5-4933-afe5-1c552121d8a0, 45768a6d-0115-4b71-870f-865d479f1b5c</td><td>preprocess</td><td>False</td></tr><tr><td>edge-pipeline</td><td>2023-28-Aug 14:47:11</td><td>2023-28-Aug 14:47:11</td><td>False</td><td></td><td>ab7ab48f-9aab-4c3d-9f66-097477bd34bf</td><td>ccfraud</td><td>True</td></tr><tr><td>edgebiolabspipeline</td><td>2023-27-Aug 19:29:38</td><td>2023-27-Aug 21:43:20</td><td>False</td><td></td><td>d73b969e-7327-4e1c-b756-ae2fd044deb2, e051c3ff-8729-4c22-8939-51b3213c32fa, abe60490-b086-4043-9313-b5564159359c, 3679df28-cf72-4e1f-bee7-7cf3af29a68c, 2a85eb39-b920-4b79-91e0-e11b40ec2324, 8d65156f-3528-49da-8a8a-291fe5d7678e, e4707610-281c-4930-a3d2-338443e567c0, cb23d16b-5812-4401-9fda-fcfaa4ecf4f3, e45f7703-105f-4b6f-a4b0-33905be1bffd, d73c9e45-fed4-4c6b-8d53-e2fd509a043b, bcf8db22-378f-4ebf-bba6-3dc76e3e2d17, 83d3865f-e0e0-4907-9fd9-ef753e7a7c72, ebf39d16-bba6-46fc-b164-b56ac2a06a9f, cc1657d8-9cb8-4ea4-8c6a-9175ccba5c97</td><td>edgebiolabsmodel</td><td>True</td></tr><tr><td>edge-hf-summarization</td><td>2023-25-Aug 18:53:19</td><td>2023-25-Aug 18:54:49</td><td>False</td><td></td><td>af77957c-6af6-4332-aeeb-a4d9e1a22963, ad77bf95-36c9-4669-9fca-69163f5de601, e0ad32af-21e4-42bd-9eb1-273532cf4f15</td><td>hf-summarization</td><td>True</td></tr><tr><td>hf-summarization-pipeline-edge</td><td>2023-25-Aug 15:52:02</td><td>2023-25-Aug 16:24:04</td><td>False</td><td></td><td>c8d94cce-b237-4d03-bef4-eca89d8d5c88, c7a067bc-997b-47c2-89c7-29ddd507cf7d, c1164da4-e044-49d3-a079-2c6c6a8cdc3f, 28176ea4-5717-4c60-b9c0-91a695bfb78d, 2d55d49d-45d6-4d88-9c6b-a3225a2ba565, 55760fa6-3919-4790-93a2-121be29d1962</td><td>hf-summarization-demoyns2</td><td>True</td></tr><tr><td>houseprice-estimator</td><td>2023-24-Aug 21:16:00</td><td>2023-24-Aug 21:22:22</td><td>False</td><td></td><td>72dbd1e6-2852-4790-885b-9c24865e5126, acd2c0fb-107f-49d6-9041-77ffb8c6979a</td><td>house-price-prime</td><td>False</td></tr><tr><td>edge-pipeline</td><td>2023-24-Aug 16:57:29</td><td>2023-24-Aug 17:05:01</td><td>True</td><td></td><td>710aad65-1437-487b-b6db-0f732b5d2d73, 44c71e77-d8fa-4015-aeee-1cdbccfeb0ef, 7c4383d2-b79d-4179-91a1-b592803e1373, d0a55f2b-0938-45a0-ae58-7d78b9b590d6</td><td>ccfraud</td><td>True</td></tr></table>"
      ],
      "text/plain": [
       "[{'name': 'vgg16-clustering-pipeline', 'create_time': datetime.datetime(2023, 8, 28, 20, 26, 59, 888454, tzinfo=tzutc()), 'definition': '[]'},\n",
       " {'name': 'alohapipelineudjo', 'create_time': datetime.datetime(2023, 8, 28, 17, 10, 5, 43499, tzinfo=tzutc()), 'definition': '[]'},\n",
       " {'name': 'ejatalohapipeline', 'create_time': datetime.datetime(2023, 8, 28, 16, 59, 39, 670085, tzinfo=tzutc()), 'definition': '[]'},\n",
       " {'name': 'housing-pipe', 'create_time': datetime.datetime(2023, 8, 28, 16, 53, 31, 473346, tzinfo=tzutc()), 'definition': '[]'},\n",
       " {'name': 'edge-pipeline', 'create_time': datetime.datetime(2023, 8, 28, 14, 47, 11, 316072, tzinfo=tzutc()), 'definition': '[]'},\n",
       " {'name': 'edgebiolabspipeline', 'create_time': datetime.datetime(2023, 8, 27, 19, 29, 38, 135888, tzinfo=tzutc()), 'definition': '[]'},\n",
       " {'name': 'edge-hf-summarization', 'create_time': datetime.datetime(2023, 8, 25, 18, 53, 19, 465175, tzinfo=tzutc()), 'definition': '[]'},\n",
       " {'name': 'hf-summarization-pipeline-edge', 'create_time': datetime.datetime(2023, 8, 25, 15, 52, 2, 329988, tzinfo=tzutc()), 'definition': '[]'},\n",
       " {'name': 'houseprice-estimator', 'create_time': datetime.datetime(2023, 8, 24, 21, 16, 0, 405934, tzinfo=tzutc()), 'definition': '[]'},\n",
       " {'name': 'edge-pipeline', 'create_time': datetime.datetime(2023, 8, 24, 16, 57, 29, 486951, tzinfo=tzutc()), 'definition': '[]'}]"
      ]
     },
     "execution_count": 22,
     "metadata": {},
     "output_type": "execute_result"
    }
   ],
   "source": [
    "wl.list_pipelines()"
   ]
  },
  {
   "cell_type": "markdown",
   "id": "adc8b2fe",
   "metadata": {},
   "source": [
    "### List Publishes from a Pipeline\n",
    "\n",
    "All publishes created from a pipeline are displayed with the `wallaroo.pipeline.publishes` method.  The `pipeline_version_id` is used to know what version of the pipeline was used in that specific publish.  This allows for pipelines to be updated over time, and newer versions to be sent and tracked to the Edge Deployment Registry service.\n",
    "\n",
    "#### List Publishes Parameters\n",
    "\n",
    "N/A\n",
    "\n",
    "#### List Publishes Returns\n",
    "\n",
    "A List of the following fields:\n",
    "\n",
    "| Field | Type | Description |\n",
    "|---|---|---|\n",
    "| id | integer | Numerical Wallaroo id of the published pipeline. |\n",
    "| pipeline_version_id | integer | Numerical Wallaroo id of the pipeline version published. |\n",
    "| engine_url | string | The URL of the published pipeline engine in the edge registry. |\n",
    "| pipeline_url | string | The URL of the published pipeline in the edge registry. |\n",
    "| created_by | string | The email address of the user that published the pipeline.\n",
    "| Created At | DateTime | When the published pipeline was created. |\n",
    "| Updated At | DateTime | When the published pipeline was updated. |"
   ]
  },
  {
   "cell_type": "code",
   "execution_count": 23,
   "id": "98b69550",
   "metadata": {},
   "outputs": [
    {
     "data": {
      "text/html": [
       "<table><tr><th>id</th><th>pipeline_version_name</th><th>engine_url</th><th>pipeline_url</th><th>created_by</th><th>created_at</th><th>updated_at</th></tr><tr><td>11</td><td>2c5968b7-62fa-49f8-9489-aaf84cfb80aa</td><td><a href='https://ghcr.io/wallaroolabs/doc-samples/engine:v2023.3.0-main-3731'>ghcr.io/wallaroolabs/doc-samples/engine:v2023.3.0-main-3731</a></td><td><a href='https://ghcr.io/wallaroolabs/doc-samples/pipelines/vgg16-clustering-pipeline:2c5968b7-62fa-49f8-9489-aaf84cfb80aa'>ghcr.io/wallaroolabs/doc-samples/pipelines/vgg16-clustering-pipeline:2c5968b7-62fa-49f8-9489-aaf84cfb80aa</a></td><td>john.hummel@wallaroo.ai</td><td>2023-28-Aug 20:30:48</td><td>2023-28-Aug 20:30:48</td></tr></table>"
      ],
      "text/plain": [
       "[PipelinePublish(created_at=datetime.datetime(2023, 8, 28, 20, 30, 48, 863741, tzinfo=tzutc()), engine_config={'engine': {'resources': {'limits': {'cpu': 0.25, 'memory': '4Gi'}, 'requests': {'cpu': 0.25, 'memory': '4Gi'}}}, 'enginelb': {}, 'engineAux': {'images': {}}}, id=11, pipeline_version_id=40, status='Published', updated_at=datetime.datetime(2023, 8, 28, 20, 30, 48, 863741, tzinfo=tzutc()), created_by='db364f8c-b866-4865-96b7-0b65662cb384', engine_url='ghcr.io/wallaroolabs/doc-samples/engine:v2023.3.0-main-3731', helm={'reference': 'ghcr.io/wallaroolabs/doc-samples/charts@sha256:4fb4799235f09b7bd548fe2397a67a6d119d2cb284750945f86915376ccd0127', 'chart': 'ghcr.io/wallaroolabs/doc-samples/charts/vgg16-clustering-pipeline', 'version': '0.0.1-2c5968b7-62fa-49f8-9489-aaf84cfb80aa'}, pipeline_url='ghcr.io/wallaroolabs/doc-samples/pipelines/vgg16-clustering-pipeline:2c5968b7-62fa-49f8-9489-aaf84cfb80aa', pipeline_version_name='2c5968b7-62fa-49f8-9489-aaf84cfb80aa', additional_properties={})]"
      ]
     },
     "execution_count": 23,
     "metadata": {},
     "output_type": "execute_result"
    }
   ],
   "source": [
    "pipeline.publishes()"
   ]
  },
  {
   "cell_type": "markdown",
   "id": "20aff6e2",
   "metadata": {},
   "source": [
    "## DevOps Deployment\n",
    "\n",
    "We now have our pipeline published to our Edge Registry service.  We can deploy this in a x86 environment running Docker that is logged into the same registry service that we deployed to.\n",
    "\n",
    "For more details, check with the documentation on your artifact service.  The following are provided for the three major cloud services:\n",
    "\n",
    "* [Set up authentication for Docker](https://cloud.google.com/artifact-registry/docs/docker/authentication)\n",
    "* [Authenticate with an Azure container registry](https://learn.microsoft.com/en-us/azure/container-registry/container-registry-authentication?tabs=azure-cli)\n",
    "* [Authenticating Amazon ECR Repositories for Docker CLI with Credential Helper](https://aws.amazon.com/blogs/compute/authenticating-amazon-ecr-repositories-for-docker-cli-with-credential-helper/)"
   ]
  },
  {
   "cell_type": "markdown",
   "id": "2c7faa3e",
   "metadata": {},
   "source": [
    "## DevOps - Pipeline Edge Deployment\n",
    "\n",
    "Once a pipeline is deployed to the Edge Registry service, it can be deployed in environments such as Docker, Kubernetes, or similar container running services by a DevOps engineer.\n",
    "\n",
    "### Docker Deployment\n",
    "\n",
    "First, the DevOps engineer must authenticate to the same OCI Registry service used for the Wallaroo Edge Deployment registry.\n",
    "\n",
    "For more details, check with the documentation on your artifact service.  The following are provided for the three major cloud services:\n",
    "\n",
    "* [Set up authentication for Docker](https://cloud.google.com/artifact-registry/docs/docker/authentication)\n",
    "* [Authenticate with an Azure container registry](https://learn.microsoft.com/en-us/azure/container-registry/container-registry-authentication?tabs=azure-cli)\n",
    "* [Authenticating Amazon ECR Repositories for Docker CLI with Credential Helper](https://aws.amazon.com/blogs/compute/authenticating-amazon-ecr-repositories-for-docker-cli-with-credential-helper/)\n",
    "\n",
    "For the deployment, the engine URL is specified with the following environmental variables:\n",
    "\n",
    "```bash\n",
    "{published engine url}\n",
    "-e DEBUG=true -e OCI_REGISTRY={your registry server} \\\n",
    "-e CONFIG_CPUS=4 \\ # optional number of CPUs to use\n",
    "-e OCI_USERNAME={registry username} \\\n",
    "-e OCI_PASSWORD={registry token here} \\\n",
    "-e PIPELINE_URL={published pipeline url}\n",
    "```\n",
    "\n",
    "#### Docker Deployment Example\n",
    "\n",
    "Using our sample environment, here's sample deployment using Docker with a computer vision ML model, the same used in the [Wallaroo Use Case Tutorials Computer Vision: Retail]({{<ref \"use-case-computer-vision-retail\">}}) tutorials.\n",
    "\n",
    "```bash\n",
    "docker run -p 8080:8080 \\\n",
    "    -e DEBUG=true -e OCI_REGISTRY={your registry server} \\\n",
    "    -e CONFIG_CPUS=4 \\\n",
    "    -e OCI_USERNAME=oauth2accesstoken \\\n",
    "    -e OCI_PASSWORD={registry token here} \\\n",
    "    -e PIPELINE_URL={your registry server}/pipelines/edge-cv-retail:bf70eaf7-8c11-4b46-b751-916a43b1a555 \\\n",
    "    {your registry server}/engine:v2023.3.0-main-3707\n",
    "```\n",
    "\n",
    "### Docker Compose Deployment\n",
    "\n",
    "For users who prefer to use `docker compose`, the following sample `compose.yaml` file is used to launch the Wallaroo Edge pipeline.  This is the same used in the [Wallaroo Use Case Tutorials Computer Vision: Retail]({{<ref \"use-case-computer-vision-retail\">}}) tutorials.\n",
    "\n",
    "```yml\n",
    "services:\n",
    "  engine:\n",
    "    image: {Your Engine URL}\n",
    "    ports:\n",
    "      - 8080:8080\n",
    "    environment:\n",
    "      PIPELINE_URL: {Your Pipeline URL}\n",
    "      OCI_REGISTRY: {Your Edge Registry URL}\n",
    "      OCI_USERNAME:  {Your Registry Username}\n",
    "      OCI_PASSWORD: {Your Token or Password}\n",
    "      CONFIG_CPUS: 4\n",
    "```\n",
    "\n",
    "For example:\n",
    "\n",
    "```yml\n",
    "services:\n",
    "  engine:\n",
    "    image: sample-registry.com/engine:v2023.3.0-main-3707\n",
    "    ports:\n",
    "      - 8080:8080\n",
    "    environment:\n",
    "      PIPELINE_URL: sample-registry.com/pipelines/edge-cv-retail:bf70eaf7-8c11-4b46-b751-916a43b1a555\n",
    "      OCI_REGISTRY: sample-registry.com\n",
    "      OCI_USERNAME:  _json_key_base64\n",
    "      OCI_PASSWORD: abc123\n",
    "      CONFIG_CPUS: 4\n",
    "```\n",
    "\n",
    "#### Docker Compose Deployment Example\n",
    "\n",
    "The deployment and undeployment is then just a simple `docker compose up` and `docker compose down`.  The following shows an example of deploying the Wallaroo edge pipeline using `docker compose`.\n",
    "\n",
    "```bash\n",
    "docker compose up\n",
    "[+] Running 1/1\n",
    " ✔ Container cv_data-engine-1  Recreated                                                                                                                                                                 0.5s\n",
    "Attaching to cv_data-engine-1\n",
    "cv_data-engine-1  | Wallaroo Engine - Standalone mode\n",
    "cv_data-engine-1  | Login Succeeded\n",
    "cv_data-engine-1  | Fetching manifest and config for pipeline: sample-registry.com/pipelines/edge-cv-retail:bf70eaf7-8c11-4b46-b751-916a43b1a555\n",
    "cv_data-engine-1  | Fetching model layers\n",
    "cv_data-engine-1  | digest: sha256:c6c8869645962e7711132a7e17aced2ac0f60dcdc2c7faa79b2de73847a87984\n",
    "cv_data-engine-1  |   filename: c6c8869645962e7711132a7e17aced2ac0f60dcdc2c7faa79b2de73847a87984\n",
    "cv_data-engine-1  |   name: resnet-50\n",
    "cv_data-engine-1  |   type: model\n",
    "cv_data-engine-1  |   runtime: onnx\n",
    "cv_data-engine-1  |   version: 693e19b5-0dc7-4afb-9922-e3f7feefe66d\n",
    "cv_data-engine-1  |\n",
    "cv_data-engine-1  | Fetched\n",
    "cv_data-engine-1  | Starting engine\n",
    "cv_data-engine-1  | Looking for preexisting `yaml` files in //modelconfigs\n",
    "cv_data-engine-1  | Looking for preexisting `yaml` files in //pipelines\n",
    "```\n",
    "\n",
    "### Helm Deployment\n",
    "\n",
    "Published pipelines can be deployed through the use of helm charts.\n",
    "\n",
    "Helm deployments take up to two steps - the first step is in retrieving the required `values.yaml` and making updates to override.\n",
    "\n",
    "1. Pull the helm charts from the published pipeline.  The two fields are the Helm Chart URL and the Helm Chart version to specify the OCI .    This typically takes the format of:\n",
    "\n",
    "  ```bash\n",
    "  helm pull oci://{published.helm_chart_url} --version {published.helm_chart_version}\n",
    "  ```\n",
    "\n",
    "1. Extract the `tgz` file and copy the `values.yaml` and copy the values used to edit engine allocations, etc.  The following are **required** for the deployment to run:\n",
    "\n",
    "  ```yml\n",
    "  ociRegistry:\n",
    "    registry: {your registry service}\n",
    "    username:  {registry username here}\n",
    "    password: {registry token here}\n",
    "  ```\n",
    "\n",
    "  Store this into another file, suc as `local-values.yaml`.\n",
    "\n",
    "1. Create the namespace to deploy the pipeline to.  For example, the namespace `wallaroo-edge-pipeline` would be:\n",
    "\n",
    "  ```bash\n",
    "  kubectl create -n wallaroo-edge-pipeline\n",
    "  ```\n",
    "\n",
    "1. Deploy the `helm` installation with `helm install` through one of the following options:\n",
    "    1. Specify the `tgz` file that was downloaded and the local values file.  For example:\n",
    "\n",
    "        ```bash\n",
    "        helm install --namespace {namespace} --values {local values file} {helm install name} {tgz path}\n",
    "        ```\n",
    "\n",
    "    1. Specify the expended directory from the downloaded `tgz` file.\n",
    "\n",
    "        ```bash\n",
    "        helm install --namespace {namespace} --values {local values file} {helm install name} {helm directory path}\n",
    "        ```\n",
    "\n",
    "    1. Specify the Helm Pipeline Helm Chart and the Pipeline Helm Version.\n",
    "\n",
    "        ```bash\n",
    "        helm install --namespace {namespace} --values {local values file} {helm install name} oci://{published.helm_chart_url} --version {published.helm_chart_version}\n",
    "        ```\n",
    "\n",
    "1. Once deployed, the DevOps engineer will have to forward the appropriate ports to the `svc/engine-svc` service in the specific pipeline.  For example, using `kubectl port-forward` to the namespace `ccfraud` that would be:\n",
    "\n",
    "    ```bash\n",
    "    kubectl port-forward svc/engine-svc -n ccfraud01 8080 --address 0.0.0.0`\n",
    "    ```\n",
    "\n",
    "The following code segment generates a `docker compose` template based on the previously published pipeline."
   ]
  },
  {
   "cell_type": "code",
   "execution_count": 24,
   "id": "f22f484a",
   "metadata": {},
   "outputs": [
    {
     "name": "stdout",
     "output_type": "stream",
     "text": [
      "\n",
      "services:\n",
      "  engine:\n",
      "    image: ghcr.io/wallaroolabs/doc-samples/engine:v2023.3.0-main-3731\n",
      "    ports:\n",
      "      - 8080:8080\n",
      "    environment:\n",
      "      PIPELINE_URL: ghcr.io/wallaroolabs/doc-samples/pipelines/vgg16-clustering-pipeline:2c5968b7-62fa-49f8-9489-aaf84cfb80aa\n",
      "      OCI_USERNAME: YOUR USERNAME \n",
      "      OCI_PASSWORD: YOUR PASSWORD OR TOKEN\n",
      "      OCI_REGISTRY: ghcr.io\n",
      "      CONFIG_CPUS: 4\n",
      "\n"
     ]
    }
   ],
   "source": [
    "docker_compose = f'''\n",
    "services:\n",
    "  engine:\n",
    "    image: {pub.engine_url}\n",
    "    ports:\n",
    "      - 8080:8080\n",
    "    environment:\n",
    "      PIPELINE_URL: {pub.pipeline_url}\n",
    "      OCI_USERNAME: YOUR USERNAME \n",
    "      OCI_PASSWORD: YOUR PASSWORD OR TOKEN\n",
    "      OCI_REGISTRY: ghcr.io\n",
    "      CONFIG_CPUS: 4\n",
    "'''\n",
    "\n",
    "print(docker_compose)"
   ]
  },
  {
   "cell_type": "markdown",
   "id": "2227a0fc",
   "metadata": {},
   "source": [
    "## Edge Deployed Pipeline API Endpoints\n",
    "\n",
    "Once deployed, we can check the pipelines and models available.  We'll use a `curl` command, but any HTTP based request will work the same way.\n",
    "\n",
    "The endpoint `/pipelines` returns:\n",
    "\n",
    "* **id** (*String*):  The name of the pipeline.\n",
    "* **status** (*String*):  The status as either `Running`, or `Error` if there are any issues.\n",
    "\n",
    "For this example, the deployment is made on a machine called `testboy.local`.  Replace this URL with the URL of you edge deployment.\n"
   ]
  },
  {
   "cell_type": "code",
   "execution_count": 25,
   "id": "5696f520",
   "metadata": {},
   "outputs": [
    {
     "name": "stdout",
     "output_type": "stream",
     "text": [
      "{\"pipelines\":[{\"id\":\"vgg16-clustering-pipeline\",\"status\":\"Running\"}]}"
     ]
    }
   ],
   "source": [
    "!curl testboy.local:8080/pipelines"
   ]
  },
  {
   "cell_type": "markdown",
   "id": "f7e8eee2",
   "metadata": {},
   "source": [
    "The endpoint `/models` returns a List of models with the following fields:\n",
    "\n",
    "* **name** (*String*): The model name.\n",
    "* **sha** (*String*): The sha hash value of the ML model.\n",
    "* **status** (*String*):  The status of either Running or Error if there are any issues.\n",
    "* **version** (*String*):  The model version.  This matches the version designation used by Wallaroo to track model versions in UUID format."
   ]
  },
  {
   "cell_type": "code",
   "execution_count": 26,
   "id": "3a6c7521",
   "metadata": {},
   "outputs": [
    {
     "name": "stdout",
     "output_type": "stream",
     "text": [
      "{\"models\":[{\"name\":\"vgg16-clustering\",\"sha\":\"7bb3362b1768c92ea7e593451b2b8913d3b7616c19fd8d25b73fb6990f9283e0\",\"status\":\"Running\",\"version\":\"90c3ea47-0e4f-4de6-9bea-af47e3c9da6f\"}]}"
     ]
    }
   ],
   "source": [
    "!curl testboy.local:8080/models"
   ]
  },
  {
   "cell_type": "markdown",
   "id": "762d756b",
   "metadata": {},
   "source": [
    "### Edge Deployed Inference\n",
    "\n",
    "The inference endpoint takes the following pattern:\n",
    "\n",
    "* `/pipelines/{pipeline-name}`:  The `pipeline-name` is the same as returned from the [`/pipelines`](#list-pipelines) endpoint as `id`.\n",
    "\n",
    "Wallaroo inference endpoint URLs accept the following data inputs through the `Content-Type` header:\n",
    "\n",
    "* `Content-Type: application/vnd.apache.arrow.file`: For Apache Arrow tables.\n",
    "* `Content-Type: application/json; format=pandas-records`: For pandas DataFrame in record format.\n",
    "* `Content-Type: application/json`: JSON.\n",
    "\n",
    "The `Accept` header will determine what kind format of the data is returned.\n",
    "\n",
    "* `Accept: application/json`: Returns a JSON object in the following format.\n",
    "\n",
    "* **check_failures** (*List[Integer]*): Any Validations that failed.  For more information, see [Wallaroo SDK Essentials Guide: Pipeline Management: Anomaly Testing](https://staging.docs.wallaroo.ai/20230201/wallaroo-developer-guides/wallaroo-sdk-guides/wallaroo-sdk-essentials-guide/wallaroo-sdk-essentials-pipelines/wallaroo-sdk-essentials-pipeline/#anomaly-testing)\n",
    "* **elapsed** (*List[Integer]*): A List of time in nanoseconds for:\n",
    "  * [0]: The time to serialize the input.\n",
    "  * [1...n]: How long each step took.\n",
    "* **model_name** (*String*): The name of the model.\n",
    "* **model_version** (*String*): The UUID identifier of the model version from Wallaroo.\n",
    "* **original_data** (*List*): The original submitted data.\n",
    "* **outputs** (*List*): A List of outputs with each output field corresponding to the input.  This is in the format for each data type returned:\n",
    "  * **{data-type}**: The data type being returned.\n",
    "    * **data** (*List*): The data from this data type.\n",
    "    * **dim** (*List*): The shape of the data for this data type.\n",
    "* **dim** (*List*): The shape of the data received.\n",
    "* **pipeline_name** (*String*): The name of the pipeline.\n",
    "* **shadow_data** (*List*): Any data returned from a shadow deployed model.  For more information, see [Wallaroo SDK Essentials Guide: Pipeline Management: Shadow Deployments](https://staging.docs.wallaroo.ai/20230201/wallaroo-developer-guides/wallaroo-sdk-guides/wallaroo-sdk-essentials-guide/wallaroo-sdk-essentials-pipelines/wallaroo-sdk-essentials-pipeline/#pipeline-shadow-deployments).\n",
    "* **time** (*Integer*): The Epoch time of the inference.\n",
    "  \n"
   ]
  },
  {
   "cell_type": "code",
   "execution_count": 35,
   "id": "80cb847a",
   "metadata": {},
   "outputs": [
    {
     "data": {
      "text/plain": [
       "[{'check_failures': [],\n",
       "  'elapsed': [4575572, 140490262],\n",
       "  'model_name': 'vgg16-clustering',\n",
       "  'model_version': '90c3ea47-0e4f-4de6-9bea-af47e3c9da6f',\n",
       "  'original_data': None,\n",
       "  'outputs': [{'Int64': {'data': [1, 1], 'dim': [2, 1], 'v': 1}}],\n",
       "  'pipeline_name': 'vgg16-clustering-pipeline',\n",
       "  'shadow_data': {},\n",
       "  'time': 1693255638345}]"
      ]
     },
     "metadata": {},
     "output_type": "display_data"
    }
   ],
   "source": [
    "numpy = [np.random.randint(0, 256, (32, 32, 3), dtype=np.uint8)] * 2\n",
    "\n",
    "input_data = {\n",
    "        \"images\": numpy,\n",
    "}\n",
    "dataframe = pd.DataFrame(input_data)\n",
    "dataframe\n",
    "\n",
    "# set the content type and accept headers\n",
    "headers = {\n",
    "    'Content-Type': 'application/json; format=pandas-records'\n",
    "}\n",
    "\n",
    "data = dataframe.to_json(orient=\"records\")\n",
    "\n",
    "host = 'http://testboy.local:8080'\n",
    "\n",
    "deployurl = f'{host}/pipelines/vgg16-clustering-pipeline'\n",
    "\n",
    "response = requests.post(\n",
    "                deployurl, \n",
    "                headers=headers, \n",
    "                data=data, \n",
    "                verify=True\n",
    "            )\n",
    "\n",
    "display(response.json())\n"
   ]
  }
 ],
 "metadata": {
  "kernelspec": {
   "display_name": "Python 3 (ipykernel)",
   "language": "python",
   "name": "python3"
  },
  "language_info": {
   "codemirror_mode": {
    "name": "ipython",
    "version": 3
   },
   "file_extension": ".py",
   "mimetype": "text/x-python",
   "name": "python",
   "nbconvert_exporter": "python",
   "pygments_lexer": "ipython3",
   "version": "3.8.17"
  }
 },
 "nbformat": 4,
 "nbformat_minor": 5
}
