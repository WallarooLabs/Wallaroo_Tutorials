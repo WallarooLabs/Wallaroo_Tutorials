{
 "cells": [
  {
   "attachments": {},
   "cell_type": "markdown",
   "id": "6a6e76a7-7f51-4d60-89c6-ec983e7445f7",
   "metadata": {},
   "source": [
    "The following tutorial is available on the [Wallaroo Github Repository](https://github.com/WallarooLabs/Wallaroo_Tutorials/tree/main/pipeline-edge-publish/edge-cv-healthcare-images).\n",
    "\n",
    "## Image Detection for Health Care Computer Vision Tutorial Part 00: Prerequisites\n",
    "\n",
    "The following tutorial demonstrates how to use Wallaroo to detect mitochondria from high resolution images.  For this example we will be using a high resolution 1536x2048 image that is broken down into \"patches\" of 256x256 images that can be quickly analyzed.\n",
    "\n",
    "Mitochondria are known as the \"powerhouse\" of the cell, and having a healthy amount of mitochondria indicates that a patient has enough energy to live a healthy life, or may have underlying issues that a doctor can check for.\n",
    "\n",
    "Scanning high resolution images of patient cells can be used to count how many mitochondria a patient has, but the process is laborious.  The following ML Model is trained to examine an image of cells, then detect which structures are mitochondria.  This is used to speed up the process of testing patients and determining next steps."
   ]
  },
  {
   "attachments": {},
   "cell_type": "markdown",
   "id": "9461daf4",
   "metadata": {},
   "source": [
    "## Prerequisites\n",
    "\n",
    "The included TiffImagesUtils class is included in this demonstration as `CVDemoUtils.py`, and requires the following dependencies:\n",
    "\n",
    "* ffmpeg\n",
    "* libsm\n",
    "* libxext\n",
    "\n",
    "\n",
    "### Internal JupyterHub Service\n",
    "\n",
    "To install these dependencies in the Wallaroo JupyterHub service, use the following commands from a terminal shell via the following procedure:\n",
    "\n",
    "1. Launch the JupyterHub Service within the Wallaroo install.\n",
    "1. Select **File->New->Terminal**.\n",
    "1. Enter the following:\n",
    "\n",
    "    ```bash\n",
    "    sudo apt-get update\n",
    "    ```\n",
    "\n",
    "    ```bash\n",
    "    sudo apt-get install ffmpeg libsm6 libxext6  -y\n",
    "    ```\n",
    "\n",
    "### External SDK Users\n",
    "\n",
    "For users using the Wallaroo SDK to connect with a remote Wallaroo instance, the following commands will install the required dependancies:\n",
    "\n",
    "For Linux users, this can be installed with:\n",
    "\n",
    "```bash\n",
    "sudo apt-get update\n",
    "sudo apt-get install ffmpeg libsm6 libxext6  -y\n",
    "```\n",
    "\n",
    "MacOS users can prepare their environments using a package manager such as [Brew](https://brew.sh/) with the following:\n",
    "\n",
    "```bash\n",
    "brew install ffmpeg libsm libxext"
   ]
  },
  {
   "attachments": {},
   "cell_type": "markdown",
   "id": "2328ec85",
   "metadata": {},
   "source": [
    "### Libraries and Dependencies\n",
    "\n",
    "1. This repository may use large file sizes for the models.  If necessary, install [Git Large File Storage (LFS)](https://git-lfs.com) or use the [Wallaroo Tutorials Releases](https://github.com/WallarooLabs/Wallaroo_Tutorials/releases) to download a .zip file of the most recent computer vision tutorial that includes the models.\n",
    "1. Import the following Python libraries into your environment:\n",
    "    1. [torch](https://pypi.org/project/torch/)\n",
    "    1. [wallaroo](https://pypi.org/project/wallaroo/)\n",
    "    1. [torchvision](https://pypi.org/project/torchvision/)\n",
    "    1. [opencv-python](https://pypi.org/project/opencv-python/)\n",
    "    1. [onnx](https://pypi.org/project/onnx/)\n",
    "    1. [onnxruntime](https://pypi.org/project/onnxruntime/)\n",
    "    1. [imutils](https://pypi.org/project/imutils/)\n",
    "    1. [pytz](https://pypi.org/project/pytz/)\n",
    "    1. [ipywidgets](https://pypi.org/project/ipywidgets/)\n",
    "\n",
    "These can be installed by running the command below in the Wallaroo JupyterHub service.  Note the use of `pip install torch --no-cache-dir` for low memory environments."
   ]
  },
  {
   "cell_type": "code",
   "execution_count": null,
   "id": "bdc1f3d7",
   "metadata": {},
   "outputs": [],
   "source": [
    "!pip install torchvision==0.15.2\n",
    "!pip install torch==2.0.1 --no-cache-dir\n",
    "!pip install opencv-python==4.7.0.72\n",
    "!pip install onnx==1.12.0\n",
    "!pip install onnxruntime==1.15.0\n",
    "!pip install imutils==0.5.4\n",
    "!pip install pytz\n",
    "!pip install ipywidgets==8.0.6\n",
    "!pip install patchify==0.2.3\n",
    "!pip install tifffile==2023.4.12\n",
    "!pip install piexif==1.1.3"
   ]
  },
  {
   "attachments": {},
   "cell_type": "markdown",
   "id": "6c3c100d",
   "metadata": {},
   "source": [
    "### Wallaroo SDK\n",
    "\n",
    "The Wallaroo SDK is provided by default with the Wallaroo instance's JupyterHub service.  To install the Wallaroo SDK manually, it is provided from the [Python Package Index](https://pypi.org/project/wallaroo/) and is installed with `pip`.  Verify that the same version of the Wallaroo SDK is the same version as the Wallaroo instance.  For example for Wallaroo release 2023.2, the SDK install command is:\n",
    "\n",
    "```python\n",
    "pip install wallaroo==2023.3.0\n",
    "```\n",
    "\n",
    "See the [Wallaroo SDK Install Guides](https://docs.wallaroo.ai/wallaroo-developer-guides/wallaroo-sdk-guides/wallaroo-sdk-install-guides/) for full details."
   ]
  }
 ],
 "metadata": {
  "kernelspec": {
   "display_name": "Python 3 (ipykernel)",
   "language": "python",
   "name": "python3"
  },
  "language_info": {
   "codemirror_mode": {
    "name": "ipython",
    "version": 3
   },
   "file_extension": ".py",
   "mimetype": "text/x-python",
   "name": "python",
   "nbconvert_exporter": "python",
   "pygments_lexer": "ipython3",
   "version": "3.9.13"
  }
 },
 "nbformat": 4,
 "nbformat_minor": 5
}
