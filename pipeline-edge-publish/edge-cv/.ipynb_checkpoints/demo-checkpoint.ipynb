{
 "cells": [
  {
   "cell_type": "markdown",
   "metadata": {},
   "source": [
    "# Edge Demo\n",
    "\n",
    "This notebook will walk through building a computer vision (CV) pipeline in Wallaroo, deploying it to the local cluster for testing, and then publishing it for edge deployment.\n",
    "\n",
    "# Package imports\n",
    "Here we will import the libraries needed for this notebook"
   ]
  },
  {
   "cell_type": "code",
   "execution_count": 20,
   "metadata": {},
   "outputs": [],
   "source": [
    "import wallaroo\n",
    "import os\n",
    "import pandas as pd\n",
    "import sys\n",
    " \n",
    "# setting path\n",
    "from wallaroo_demo_utils import WallarooDemoUtils \n",
    "\n",
    "w_demo = WallarooDemoUtils()\n",
    "os.chdir(\"/home/jovyan/edge-cv-demo\")"
   ]
  },
  {
   "cell_type": "markdown",
   "metadata": {},
   "source": [
    "## Securily connect this notebook to the Wallaroo Cluster\n",
    "We can now us the wallaroo library to set up a connection to the wallaroo cluster"
   ]
  },
  {
   "cell_type": "code",
   "execution_count": 21,
   "metadata": {},
   "outputs": [
    {
     "name": "stdout",
     "output_type": "stream",
     "text": [
      "Please log into the following URL in a web browser:\n",
      "\n",
      "\thttps://keycloak.autoscale-uat-ee.wallaroo.dev/auth/realms/master/device?user_code=LRWS-FKTK\n",
      "\n",
      "Login successful!\n"
     ]
    }
   ],
   "source": [
    "wl = wallaroo.Client()\n",
    "#w_demo.set_workspace('edge-cv-demo', wl)"
   ]
  },
  {
   "cell_type": "markdown",
   "metadata": {},
   "source": [
    "# Upload and package the model\n",
    "\n",
    "When a model is uploaded to a Wallaroo cluster, it is optimized and packaged to make it ready to run as part of a pipeline. In many times, the Wallaroo Server can natively run a model without any Python overhead. In other cases, such as a Python script, a custom Python environment will be automatically generated. This is comparable to the process of \"containerizing\" a model by adding a small HTTP server and other wrapping around it."
   ]
  },
  {
   "cell_type": "code",
   "execution_count": 22,
   "metadata": {},
   "outputs": [],
   "source": [
    "model = wl.upload_model('resnet-50', \"./models/resnet50_v1.onnx\", \n",
    "                        framework = wallaroo.framework.Framework.ONNX)"
   ]
  },
  {
   "cell_type": "markdown",
   "metadata": {},
   "source": [
    "\n",
    "### Reserve resources needed for this pipeline \n",
    "\n",
    "Before deploying an inference engine we need to tell wallaroo what resources it will need.\n",
    "To do this we will use the wallaroo DeploymentConfigBuilder() and fill in the options listed below to determine what the properties of our inference engine will be\n",
    "\n",
    "We will be testing this deployment for an edge scenario, so the resource specifications are kept small -- what's the minimum needed to meet the expected load on the planned hardware.\n",
    "\n",
    "- cpus - 4 => allow the engine to use 4 CPU cores when running the neural net\n",
    "- memory - 0.5Gi => each inference engine will have 512 MB of memory, which is plenty for processing a single image at a time.\n",
    "\n"
   ]
  },
  {
   "cell_type": "code",
   "execution_count": 39,
   "metadata": {},
   "outputs": [],
   "source": [
    "deployment_config = wallaroo.DeploymentConfigBuilder() \\\n",
    "    .cpus(15)\\\n",
    "    .memory(\"4Gi\")\\\n",
    "    .arch(wallaroo.engine_config.Architecture.X86)\\\n",
    "    .build()"
   ]
  },
  {
   "cell_type": "markdown",
   "metadata": {},
   "source": [
    "# Simulated edge deployment\n",
    "Deploy the uploaded model into the current Kubernetes environment using the specified resource constraints. This is a \"simulated edge\" deploy in that we try to mimic the edge hardware as closely as possible. This can be done by selecting an appropriate VM size from the cloud provider when possible. \n"
   ]
  },
  {
   "cell_type": "code",
   "execution_count": 40,
   "metadata": {},
   "outputs": [
    {
     "name": "stdout",
     "output_type": "stream",
     "text": [
      "Waiting for deployment - this will take up to 45s ............. ok\n"
     ]
    },
    {
     "data": {
      "text/html": [
       "<table><tr><th>name</th> <td>pipelinecvx86</td></tr><tr><th>created</th> <td>2023-08-18 18:46:48.663415+00:00</td></tr><tr><th>last_updated</th> <td>2023-08-21 15:27:26.484014+00:00</td></tr><tr><th>deployed</th> <td>True</td></tr><tr><th>tags</th> <td></td></tr><tr><th>versions</th> <td>8921bb78-d941-4f6d-bef9-38056dfbb5e9, 0505b432-a400-4132-b313-729fe38177ac, a2b6b538-7715-47f3-8f25-cffd3ec15512, 26d959f7-cd12-4d16-bc99-fac603539046, f1bc2d0d-9561-4ef7-ac5e-c492590dcbdf, 6a93fd35-b4c1-41a0-911d-999d78d2abda, 00b2b42b-351d-48ee-9cf3-5387bd55d1eb, adef1abe-d141-43b1-8b35-27426a69459f, e65e3b19-4a62-450e-a497-7fe71fd26698, 20f3b67e-abdb-4a52-be79-54e2c502b3bb, f9c24491-a6f6-4d49-9007-fea62e734f5e, e818c81c-3343-4a1c-80d6-de9b181b9908</td></tr><tr><th>steps</th> <td>resnet-50</td></tr><tr><th>published</th> <td>True</td></tr></table>"
      ],
      "text/plain": [
       "{'name': 'pipelinecvx86', 'create_time': datetime.datetime(2023, 8, 18, 18, 46, 48, 663415, tzinfo=tzutc()), 'definition': \"[{'ModelInference': {'models': [{'name': 'resnet-50', 'version': '069eb4f0-dab0-4915-9ce5-cdbd9c9bf6e8', 'sha': 'c6c8869645962e7711132a7e17aced2ac0f60dcdc2c7faa79b2de73847a87984'}]}}]\"}"
      ]
     },
     "execution_count": 40,
     "metadata": {},
     "output_type": "execute_result"
    }
   ],
   "source": [
    "pipeline = wl.build_pipeline('pipelinecvx86')\n",
    "pipeline.add_model_step(model)\n",
    "\n",
    "pipeline.deploy(deployment_config = deployment_config)"
   ]
  },
  {
   "cell_type": "code",
   "execution_count": 41,
   "metadata": {},
   "outputs": [
    {
     "data": {
      "text/plain": [
       "{'status': 'Running',\n",
       " 'details': [],\n",
       " 'engines': [{'ip': '10.244.3.137',\n",
       "   'name': 'engine-769556958-fm7gz',\n",
       "   'status': 'Running',\n",
       "   'reason': None,\n",
       "   'details': [],\n",
       "   'pipeline_statuses': {'pipelines': [{'id': 'pipelinecvx86',\n",
       "      'status': 'Running'}]},\n",
       "   'model_statuses': {'models': [{'name': 'resnet-50',\n",
       "      'version': '069eb4f0-dab0-4915-9ce5-cdbd9c9bf6e8',\n",
       "      'sha': 'c6c8869645962e7711132a7e17aced2ac0f60dcdc2c7faa79b2de73847a87984',\n",
       "      'status': 'Running'}]}}],\n",
       " 'engine_lbs': [{'ip': '10.244.2.99',\n",
       "   'name': 'engine-lb-584f54c899-nvhg2',\n",
       "   'status': 'Running',\n",
       "   'reason': None,\n",
       "   'details': []}],\n",
       " 'sidekicks': []}"
      ]
     },
     "execution_count": 41,
     "metadata": {},
     "output_type": "execute_result"
    }
   ],
   "source": [
    "pipeline.status()"
   ]
  },
  {
   "cell_type": "markdown",
   "metadata": {},
   "source": [
    "\n",
    "### Run inference for a single image\n",
    "\n",
    "A single image, encoded using the Apache Arrow format, is sent to the deployed pipeline. Arrow is used here because, as a binary protocol, there is far lower network and compute overhead than using JSON. The Wallaroo Server engine accepts both JSON and Apache Arrow formats."
   ]
  },
  {
   "cell_type": "code",
   "execution_count": 37,
   "metadata": {},
   "outputs": [
    {
     "name": "stdout",
     "output_type": "stream",
     "text": [
      "Average elapsed: 33.99299166666666 ms\n"
     ]
    }
   ],
   "source": [
    "import pyarrow as pa\n",
    "\n",
    "with pa.ipc.open_file(\"image_224x224.arrow\") as f:\n",
    "    image = f.read_all()\n",
    "\n",
    "for _ in range(10):\n",
    "    results = pipeline.infer(image, dataset=[\"*\", \"metadata.elapsed\"])\n",
    "\n",
    "iter = 3\n",
    "elapsed = 0\n",
    "for _ in range(iter):\n",
    "    results = pipeline.infer(image, dataset=[\"*\", \"metadata.elapsed\"])\n",
    "    elapsed += results['metadata.elapsed'][0].as_py()[1] / 1000000.0\n",
    "\n",
    "print(f\"Average elapsed: {elapsed/iter} ms\")"
   ]
  },
  {
   "cell_type": "markdown",
   "metadata": {},
   "source": [
    "## Publish the pipeline for edge deployment\n",
    "\n",
    "It worked! For a demo, we'll take working once as \"testing\". So now that we've tested our pipeline, we are ready to publish it for edge deployment. Publishing it means assembling all of the configuration files and model assets and pushing them to an OCI (aka Docker) repository. This came repository can hold the Wallaroo Server container image, any other container images needed for the edge system, plus any of the model pipelines.\n",
    "\n",
    "The Wallaroo Server is available on the same repo at:\n",
    "   oci.wallaroo.io/wallaroo-dev/wallaroo-server:latest"
   ]
  },
  {
   "cell_type": "code",
   "execution_count": 17,
   "metadata": {},
   "outputs": [
    {
     "name": "stdout",
     "output_type": "stream",
     "text": [
      "Waiting for pipeline publish... It may take up to 60 sec.\n",
      "Pipeline is Publishing.....Published.\n"
     ]
    },
    {
     "data": {
      "text/html": [
       "\n",
       "          <table>\n",
       "              <tr><td>ID</td><td>4</td></tr>\n",
       "              <tr><td>Pipeline Version ID</td><td>6</td></tr>\n",
       "              <tr><td>Status</td><td>Published</td></tr>\n",
       "              <tr><td>Engine URL</td><td><a href='https://us-central1-docker.pkg.dev/wallaroo-dev-253816/uat/engine:v2023.3.0-main-3707'>us-central1-docker.pkg.dev/wallaroo-dev-253816/uat/engine:v2023.3.0-main-3707</a></td></tr>\n",
       "              <tr><td>Pipeline URL</td><td><a href='https://us-central1-docker.pkg.dev/wallaroo-dev-253816/uat/pipelines/pipelinecvx86:00b2b42b-351d-48ee-9cf3-5387bd55d1eb'>us-central1-docker.pkg.dev/wallaroo-dev-253816/uat/pipelines/pipelinecvx86:00b2b42b-351d-48ee-9cf3-5387bd55d1eb</a></td></tr>\n",
       "              <tr><td>Helm Chart URL</td><td><a href='https://us-central1-docker.pkg.dev/wallaroo-dev-253816/uat/charts/pipelinecvx86'>us-central1-docker.pkg.dev/wallaroo-dev-253816/uat/charts/pipelinecvx86</a></td></tr>\n",
       "              <tr><td>Helm Chart Reference</td><td>us-central1-docker.pkg.dev/wallaroo-dev-253816/uat/charts@sha256:ee9828d70df3775b0fec57503510a52982d26af0ee7ce610a246fd420446a9f0</td></tr>\n",
       "              <tr><td>Helm Chart Version</td><td>0.0.1-00b2b42b-351d-48ee-9cf3-5387bd55d1eb</td></tr>\n",
       "              <tr><td>Engine Config</td><td>{'engine': {'resources': {'limits': {'cpu': 15.0, 'memory': '4Gi'}, 'requests': {'cpu': 15.0, 'memory': '4Gi'}}}, 'engineAux': {'images': {}}, 'enginelb': {}}</td></tr>\n",
       "              <tr><td>Created By</td><td>cfa00d99-831f-434b-8617-97f2081d7fdf</td></tr>\n",
       "              <tr><td>Created At</td><td>2023-08-19 00:42:52.895376+00:00</td></tr>\n",
       "              <tr><td>Updated At</td><td>2023-08-19 00:42:52.895376+00:00</td></tr>\n",
       "          </table>\n",
       "        "
      ],
      "text/plain": [
       "PipelinePublish(created_at=datetime.datetime(2023, 8, 19, 0, 42, 52, 895376, tzinfo=tzutc()), engine_config={'engine': {'resources': {'limits': {'cpu': 15.0, 'memory': '4Gi'}, 'requests': {'cpu': 15.0, 'memory': '4Gi'}}}, 'engineAux': {'images': {}}, 'enginelb': {}}, id=4, pipeline_version_id=6, status='Published', updated_at=datetime.datetime(2023, 8, 19, 0, 42, 52, 895376, tzinfo=tzutc()), created_by='cfa00d99-831f-434b-8617-97f2081d7fdf', engine_url='us-central1-docker.pkg.dev/wallaroo-dev-253816/uat/engine:v2023.3.0-main-3707', helm={'reference': 'us-central1-docker.pkg.dev/wallaroo-dev-253816/uat/charts@sha256:ee9828d70df3775b0fec57503510a52982d26af0ee7ce610a246fd420446a9f0', 'chart': 'us-central1-docker.pkg.dev/wallaroo-dev-253816/uat/charts/pipelinecvx86', 'version': '0.0.1-00b2b42b-351d-48ee-9cf3-5387bd55d1eb'}, pipeline_url='us-central1-docker.pkg.dev/wallaroo-dev-253816/uat/pipelines/pipelinecvx86:00b2b42b-351d-48ee-9cf3-5387bd55d1eb', additional_properties={})"
      ]
     },
     "execution_count": 17,
     "metadata": {},
     "output_type": "execute_result"
    }
   ],
   "source": [
    "res = pipeline.publish(deployment_config)\n",
    "res"
   ]
  },
  {
   "cell_type": "code",
   "execution_count": 18,
   "metadata": {},
   "outputs": [
    {
     "data": {
      "text/html": [
       "<table><tr><th>name</th><th>created</th><th>last_updated</th><th>deployed</th><th>tags</th><th>versions</th><th>steps</th><th>published</th></tr><tr><td>pipelinecvx86</td><td>2023-18-Aug 18:46:48</td><td>2023-19-Aug 00:42:52</td><td>True</td><td></td><td>00b2b42b-351d-48ee-9cf3-5387bd55d1eb, adef1abe-d141-43b1-8b35-27426a69459f, e65e3b19-4a62-450e-a497-7fe71fd26698, 20f3b67e-abdb-4a52-be79-54e2c502b3bb, f9c24491-a6f6-4d49-9007-fea62e734f5e, e818c81c-3343-4a1c-80d6-de9b181b9908</td><td>resnet-50</td><td>True</td></tr></table>"
      ],
      "text/plain": [
       "[{'name': 'pipelinecvx86', 'create_time': datetime.datetime(2023, 8, 18, 18, 46, 48, 663415, tzinfo=tzutc()), 'definition': '[]'}]"
      ]
     },
     "execution_count": 18,
     "metadata": {},
     "output_type": "execute_result"
    }
   ],
   "source": [
    "wl.list_pipelines()"
   ]
  },
  {
   "cell_type": "code",
   "execution_count": 19,
   "metadata": {},
   "outputs": [
    {
     "data": {
      "text/html": [
       "<table><tr><th>id</th><th>pipeline_version_id</th><th>engine_url</th><th>pipeline_url</th><th>created_by</th><th>created_at</th><th>updated_at</th></tr><tr><td>1</td><td>3</td><td>None</td><td>None</td><td>cfa00d99-831f-434b-8617-97f2081d7fdf</td><td>2023-18-Aug 18:47:25</td><td>2023-18-Aug 18:47:25</td></tr><tr><td>2</td><td>4</td><td>None</td><td>None</td><td>cfa00d99-831f-434b-8617-97f2081d7fdf</td><td>2023-18-Aug 19:08:02</td><td>2023-18-Aug 19:08:02</td></tr><tr><td>3</td><td>5</td><td><a href='https://us-central1-docker.pkg.dev/wallaroo-dev-253816/uat/engine:v2023.3.0-main-3707'>us-central1-docker.pkg.dev/wallaroo-dev-253816/uat/engine:v2023.3.0-main-3707</a></td><td><a href='https://us-central1-docker.pkg.dev/wallaroo-dev-253816/uat/pipelines/pipelinecvx86:adef1abe-d141-43b1-8b35-27426a69459f'>us-central1-docker.pkg.dev/wallaroo-dev-253816/uat/pipelines/pipelinecvx86:adef1abe-d141-43b1-8b35-27426a69459f</a></td><td>cfa00d99-831f-434b-8617-97f2081d7fdf</td><td>2023-18-Aug 21:32:37</td><td>2023-18-Aug 21:32:37</td></tr><tr><td>4</td><td>6</td><td><a href='https://us-central1-docker.pkg.dev/wallaroo-dev-253816/uat/engine:v2023.3.0-main-3707'>us-central1-docker.pkg.dev/wallaroo-dev-253816/uat/engine:v2023.3.0-main-3707</a></td><td><a href='https://us-central1-docker.pkg.dev/wallaroo-dev-253816/uat/pipelines/pipelinecvx86:00b2b42b-351d-48ee-9cf3-5387bd55d1eb'>us-central1-docker.pkg.dev/wallaroo-dev-253816/uat/pipelines/pipelinecvx86:00b2b42b-351d-48ee-9cf3-5387bd55d1eb</a></td><td>cfa00d99-831f-434b-8617-97f2081d7fdf</td><td>2023-19-Aug 00:42:52</td><td>2023-19-Aug 00:42:52</td></tr></table>"
      ],
      "text/plain": [
       "[PipelinePublish(created_at=datetime.datetime(2023, 8, 18, 18, 47, 25, 433067, tzinfo=tzutc()), engine_config={'engine': {'resources': {'limits': {'cpu': 4.0, 'memory': '3Gi'}, 'requests': {'cpu': 4.0, 'memory': '3Gi'}}}, 'enginelb': {'resources': {'limits': {'cpu': 1.0, 'memory': '512Mi'}, 'requests': {'cpu': 0.2, 'memory': '512Mi'}}}, 'engineAux': {}}, id=1, pipeline_version_id=3, status='Error', updated_at=datetime.datetime(2023, 8, 18, 18, 47, 25, 433067, tzinfo=tzutc()), created_by='cfa00d99-831f-434b-8617-97f2081d7fdf', engine_url=None, helm=None, pipeline_url=None, additional_properties={}),\n",
       " PipelinePublish(created_at=datetime.datetime(2023, 8, 18, 19, 8, 2, 968205, tzinfo=tzutc()), engine_config={'engine': {'resources': {'limits': {'cpu': 15.0, 'memory': '4Gi'}, 'requests': {'cpu': 15.0, 'memory': '4Gi'}}}, 'enginelb': {}, 'engineAux': {'images': {}}}, id=2, pipeline_version_id=4, status='Error', updated_at=datetime.datetime(2023, 8, 18, 19, 8, 2, 968205, tzinfo=tzutc()), created_by='cfa00d99-831f-434b-8617-97f2081d7fdf', engine_url=None, helm=None, pipeline_url=None, additional_properties={}),\n",
       " PipelinePublish(created_at=datetime.datetime(2023, 8, 18, 21, 32, 37, 512170, tzinfo=tzutc()), engine_config={'engine': {'resources': {'limits': {'cpu': 15.0, 'memory': '4Gi'}, 'requests': {'cpu': 15.0, 'memory': '4Gi'}}}, 'enginelb': {}, 'engineAux': {'images': {}}}, id=3, pipeline_version_id=5, status='Published', updated_at=datetime.datetime(2023, 8, 18, 21, 32, 37, 512170, tzinfo=tzutc()), created_by='cfa00d99-831f-434b-8617-97f2081d7fdf', engine_url='us-central1-docker.pkg.dev/wallaroo-dev-253816/uat/engine:v2023.3.0-main-3707', helm={'reference': 'us-central1-docker.pkg.dev/wallaroo-dev-253816/uat/charts@sha256:e1925cb82405c472a02b8c958e826ba1e478c09a494e7f5163fac2c4d6150eed', 'chart': 'us-central1-docker.pkg.dev/wallaroo-dev-253816/uat/charts/pipelinecvx86', 'version': '0.0.1-adef1abe-d141-43b1-8b35-27426a69459f'}, pipeline_url='us-central1-docker.pkg.dev/wallaroo-dev-253816/uat/pipelines/pipelinecvx86:adef1abe-d141-43b1-8b35-27426a69459f', additional_properties={}),\n",
       " PipelinePublish(created_at=datetime.datetime(2023, 8, 19, 0, 42, 52, 895376, tzinfo=tzutc()), engine_config={'engine': {'resources': {'limits': {'cpu': 15.0, 'memory': '4Gi'}, 'requests': {'cpu': 15.0, 'memory': '4Gi'}}}, 'enginelb': {}, 'engineAux': {'images': {}}}, id=4, pipeline_version_id=6, status='Published', updated_at=datetime.datetime(2023, 8, 19, 0, 42, 52, 895376, tzinfo=tzutc()), created_by='cfa00d99-831f-434b-8617-97f2081d7fdf', engine_url='us-central1-docker.pkg.dev/wallaroo-dev-253816/uat/engine:v2023.3.0-main-3707', helm={'reference': 'us-central1-docker.pkg.dev/wallaroo-dev-253816/uat/charts@sha256:ee9828d70df3775b0fec57503510a52982d26af0ee7ce610a246fd420446a9f0', 'chart': 'us-central1-docker.pkg.dev/wallaroo-dev-253816/uat/charts/pipelinecvx86', 'version': '0.0.1-00b2b42b-351d-48ee-9cf3-5387bd55d1eb'}, pipeline_url='us-central1-docker.pkg.dev/wallaroo-dev-253816/uat/pipelines/pipelinecvx86:00b2b42b-351d-48ee-9cf3-5387bd55d1eb', additional_properties={})]"
      ]
     },
     "execution_count": 19,
     "metadata": {},
     "output_type": "execute_result"
    }
   ],
   "source": [
    "pipeline.publishes()"
   ]
  }
 ],
 "metadata": {
  "kernelspec": {
   "display_name": "Python 3 (ipykernel)",
   "language": "python",
   "name": "python3"
  },
  "language_info": {
   "codemirror_mode": {
    "name": "ipython",
    "version": 3
   },
   "file_extension": ".py",
   "mimetype": "text/x-python",
   "name": "python",
   "nbconvert_exporter": "python",
   "pygments_lexer": "ipython3",
   "version": "3.9.13"
  }
 },
 "nbformat": 4,
 "nbformat_minor": 4
}
