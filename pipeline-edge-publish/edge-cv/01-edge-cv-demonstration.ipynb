{
 "cells": [
  {
   "cell_type": "markdown",
   "metadata": {},
   "source": [
    "The following tutorial is available on the [Wallaroo Github Repository](https://github.com/WallarooLabs/Wallaroo_Tutorials/blob/2023.3.0-updates/pipeline-edge-publish/edge-cv-retail).\n",
    "\n",
    "## Computer Vision Edge Deployment Demonstration\n",
    "\n",
    "This notebook will walk through building a computer vision (CV) pipeline in Wallaroo, deploying it to the local cluster for testing, and then publishing it for edge deployment.\n",
    "\n",
    "This demonstration will focus on deployment to the edge.  For further examples of using Wallaroo with this computer vision models, see [Use Case Tutorials: Computer Vision: Retail](https://docs.wallaroo.ai/wallaroo-use-case-tutorials/wallaroo-use-case-computer-vision/use-case-computer-vision-retail/).\n",
    "\n",
    "This demonstration will perform the following:\n",
    "\n",
    "1. As a Data Scientist:\n",
    "    1. Upload a computer vision model to Wallaroo, deploy it in a Wallaroo pipeline, then perform a sample inference.\n",
    "    1. Publish the pipeline to an Open Container Initiative (OCI) Registry service.  This is configured in the Wallaroo instance.  See [Edge Deployment Registry Guide](https://staging.docs.wallaroo.ai/wallaroo-operations-guide/wallaroo-configuration/wallaroo-edge-deployment/) for details on adding an OCI Registry Service to Wallaroo as the Edge Deployment Registry.\n",
    "    1. View the pipeline publish details.\n",
    "1. As a DevOps Engineer:\n",
    "    1. Deploy the published pipeline into an edge instance.  This example will use Docker.\n",
    "    1. Perform a sample inference into the deployed pipeline with the same data used in the data scientist example."
   ]
  },
  {
   "cell_type": "markdown",
   "metadata": {},
   "source": [
    "## Data Scientist Pipeline Publish Steps\n",
    "\n",
    "### Load Libraries\n",
    "\n",
    "The first step is to import the libraries used in this notebook."
   ]
  },
  {
   "cell_type": "code",
   "execution_count": 3,
   "metadata": {},
   "outputs": [],
   "source": [
    "import wallaroo\n",
    "from wallaroo.object import EntityNotFoundError\n",
    "\n",
    "import pyarrow as pa\n",
    "import pandas as pd\n",
    "\n",
    "\n",
    "# used to display dataframe information without truncating\n",
    "from IPython.display import display\n",
    "pd.set_option('display.max_colwidth', None)"
   ]
  },
  {
   "cell_type": "markdown",
   "metadata": {},
   "source": [
    "### Connect to the Wallaroo Instance through the User Interface\n",
    "\n",
    "The next step is to connect to Wallaroo through the Wallaroo client.  The Python library is included in the Wallaroo install and available through the Jupyter Hub interface provided with your Wallaroo environment.\n",
    "\n",
    "This is accomplished using the `wallaroo.Client()` command, which provides a URL to grant the SDK permission to your specific Wallaroo environment.  When displayed, enter the URL into a browser and confirm permissions.  Store the connection into a variable that can be referenced later.\n",
    "\n",
    "If logging into the Wallaroo instance through the internal JupyterHub service, use `wl = wallaroo.Client()`.  For more information on Wallaroo Client settings, see the [Client Connection guide](https://docs.wallaroo.ai/wallaroo-developer-guides/wallaroo-sdk-guides/wallaroo-sdk-essentials-guide/wallaroo-sdk-essentials-client/)."
   ]
  },
  {
   "cell_type": "code",
   "execution_count": 4,
   "metadata": {},
   "outputs": [],
   "source": [
    "wl = wallaroo.Client()"
   ]
  },
  {
   "cell_type": "markdown",
   "metadata": {},
   "source": [
    "### Create a New Workspace\n",
    "\n",
    "We'll use the SDK below to create our workspace , assign as our **current workspace**, then display all of the workspaces we have at the moment.  We'll also set up variables for our models and pipelines down the road, so we have one spot to change names to whatever fits your organization's standards best.\n",
    "\n",
    "To allow this tutorial to be run by multiple users in the same Wallaroo instance, a random 4 character prefix will be added to the workspace, pipeline, and model.  Feel free to set `suffix=''` if this is not required."
   ]
  },
  {
   "cell_type": "code",
   "execution_count": 18,
   "metadata": {},
   "outputs": [],
   "source": [
    "import string\n",
    "import random\n",
    "\n",
    "# make a random 4 character prefix\n",
    "suffix= ''.join(random.choice(string.ascii_lowercase) for i in range(4))\n",
    "\n",
    "suffix='john'\n",
    "\n",
    "workspace_name = f'edge-cv-retail{suffix}'\n",
    "pipeline_name = 'edge-cv-retail'\n",
    "model_name = 'resnet-50'\n",
    "model_file_name = './models/resnet50_v1.onnx'"
   ]
  },
  {
   "cell_type": "code",
   "execution_count": 19,
   "metadata": {},
   "outputs": [],
   "source": [
    "def get_workspace(name):\n",
    "    workspace = None\n",
    "    for ws in wl.list_workspaces():\n",
    "        if ws.name() == name:\n",
    "            workspace= ws\n",
    "    if(workspace == None):\n",
    "        workspace = wl.create_workspace(name)\n",
    "    return workspace\n",
    "\n",
    "def get_pipeline(name):\n",
    "    try:\n",
    "        pipeline = wl.pipelines_by_name(name)[0]\n",
    "    except EntityNotFoundError:\n",
    "        pipeline = wl.build_pipeline(name)\n",
    "    return pipeline"
   ]
  },
  {
   "cell_type": "code",
   "execution_count": 20,
   "metadata": {},
   "outputs": [
    {
     "data": {
      "text/plain": [
       "{'name': 'edge-cv-retailjohn', 'id': 7, 'archived': False, 'created_by': 'fa240e86-5fb9-4d58-bf5d-f82bf0b2b172', 'created_at': '2023-08-31T22:19:03.498198+00:00', 'models': [{'name': 'resnet-50', 'versions': 5, 'owner_id': '\"\"', 'last_update_time': datetime.datetime(2023, 9, 6, 18, 23, 10, 780440, tzinfo=tzutc()), 'created_at': datetime.datetime(2023, 8, 31, 22, 19, 8, 533222, tzinfo=tzutc())}], 'pipelines': [{'name': 'edge-cv-retail', 'create_time': datetime.datetime(2023, 8, 31, 22, 19, 8, 610206, tzinfo=tzutc()), 'definition': '[]'}]}"
      ]
     },
     "execution_count": 20,
     "metadata": {},
     "output_type": "execute_result"
    }
   ],
   "source": [
    "workspace = get_workspace(workspace_name)\n",
    "\n",
    "wl.set_current_workspace(workspace)"
   ]
  },
  {
   "cell_type": "markdown",
   "metadata": {},
   "source": [
    "### Upload the Model\n",
    "\n",
    "When a model is uploaded to a Wallaroo cluster, it is optimized and packaged to make it ready to run as part of a pipeline. In many times, the Wallaroo Server can natively run a model without any Python overhead. In other cases, such as a Python script, a custom Python environment will be automatically generated. This is comparable to the process of \"containerizing\" a model by adding a small HTTP server and other wrapping around it.\n",
    "\n",
    "Our pretrained model is in ONNX format, which is specified in the `framework` parameter."
   ]
  },
  {
   "cell_type": "code",
   "execution_count": 21,
   "metadata": {},
   "outputs": [],
   "source": [
    "model = wl.upload_model(model_name, \n",
    "                        model_file_name, \n",
    "                        framework = wallaroo.framework.Framework.ONNX)"
   ]
  },
  {
   "cell_type": "markdown",
   "metadata": {},
   "source": [
    "### Reserve Pipeline Resources\n",
    "\n",
    "Before deploying an inference engine we need to tell wallaroo what resources it will need.\n",
    "To do this we will use the wallaroo DeploymentConfigBuilder() and fill in the options listed below to determine what the properties of our inference engine will be.\n",
    "\n",
    "We will be testing this deployment for an edge scenario, so the resource specifications are kept small -- what's the minimum needed to meet the expected load on the planned hardware.\n",
    "\n",
    "- cpus - 4 => allow the engine to use 4 CPU cores when running the neural net\n",
    "- memory - 2Gi => each inference engine will have 2 GB of memory, which is plenty for processing a single image at a time.\n",
    "- arch - we will specify the X86 architecture."
   ]
  },
  {
   "cell_type": "code",
   "execution_count": 22,
   "metadata": {},
   "outputs": [],
   "source": [
    "deployment_config = wallaroo.DeploymentConfigBuilder() \\\n",
    "    .cpus(4)\\\n",
    "    .memory(\"2Gi\")\\\n",
    "    .arch(wallaroo.engine_config.Architecture.X86)\\\n",
    "    .build()"
   ]
  },
  {
   "cell_type": "markdown",
   "metadata": {},
   "source": [
    "### Simulated Edge Deployment\n",
    "\n",
    "We will now deploy our pipeline into the current Kubernetes environment using the specified resource constraints. This is a \"simulated edge\" deploy in that we try to mimic the edge hardware as closely as possible.\n"
   ]
  },
  {
   "cell_type": "code",
   "execution_count": 23,
   "metadata": {},
   "outputs": [
    {
     "data": {
      "text/html": [
       "<table><tr><th>name</th> <td>edge-cv-demo</td></tr><tr><th>created</th> <td>2023-09-06 18:28:29.143536+00:00</td></tr><tr><th>last_updated</th> <td>2023-09-06 18:28:29.143536+00:00</td></tr><tr><th>deployed</th> <td>(none)</td></tr><tr><th>tags</th> <td></td></tr><tr><th>versions</th> <td>3f3c1403-7f8a-4ad7-80cc-25357500a7a9</td></tr><tr><th>steps</th> <td></td></tr><tr><th>published</th> <td>False</td></tr></table>"
      ],
      "text/plain": [
       "{'name': 'edge-cv-demo', 'create_time': datetime.datetime(2023, 9, 6, 18, 28, 29, 143536, tzinfo=tzutc()), 'definition': \"[{'ModelInference': {'models': [{'name': 'resnet-50', 'version': '957a0df6-1280-49ff-a7a2-fdf382b2eeda', 'sha': 'c6c8869645962e7711132a7e17aced2ac0f60dcdc2c7faa79b2de73847a87984'}]}}]\"}"
      ]
     },
     "execution_count": 23,
     "metadata": {},
     "output_type": "execute_result"
    }
   ],
   "source": [
    "pipeline = wl.build_pipeline(pipeline_name)\n",
    "pipeline.add_model_step(model)"
   ]
  },
  {
   "cell_type": "code",
   "execution_count": 24,
   "metadata": {},
   "outputs": [],
   "source": [
    "# pipeline.deploy(deployment_config = deployment_config)"
   ]
  },
  {
   "cell_type": "code",
   "execution_count": 25,
   "metadata": {},
   "outputs": [],
   "source": [
    "# pipeline.status()"
   ]
  },
  {
   "cell_type": "markdown",
   "metadata": {},
   "source": [
    "### Run Single Image Inference\n",
    "\n",
    "A single image, encoded using the Apache Arrow format, is sent to the deployed pipeline. Arrow is used here because, as a binary protocol, there is far lower network and compute overhead than using JSON. The Wallaroo Server engine accepts both JSON, pandas DataFrame, and Apache Arrow formats.\n",
    "\n",
    "The sample Apache Arrow table is in the file `./data/image_224x224.arrow`.\n",
    "\n",
    "Once complete, we'll display how long the inference request took."
   ]
  },
  {
   "cell_type": "code",
   "execution_count": 26,
   "metadata": {},
   "outputs": [],
   "source": [
    "# with pa.ipc.open_file(\"./data/image_224x224.arrow\") as f:\n",
    "#     image = f.read_all()\n",
    "\n",
    "# for _ in range(10):\n",
    "#     results = pipeline.infer(image, dataset=[\"*\", \"metadata.elapsed\"])\n",
    "\n",
    "# iter = 3\n",
    "# elapsed = 0\n",
    "# for _ in range(iter):\n",
    "#     results = pipeline.infer(image, dataset=[\"*\", \"metadata.elapsed\"])\n",
    "#     elapsed += results['metadata.elapsed'][0].as_py()[1] / 1000000.0\n",
    "\n",
    "# print(f\"Average elapsed: {elapsed/iter} ms\")"
   ]
  },
  {
   "cell_type": "markdown",
   "metadata": {},
   "source": [
    "### Undeploy Pipeline\n",
    "\n",
    "We have tested out the inferences, so we'll undeploy the pipeline to retrieve the system resources."
   ]
  },
  {
   "cell_type": "code",
   "execution_count": 27,
   "metadata": {},
   "outputs": [],
   "source": [
    "# pipeline.undeploy()"
   ]
  },
  {
   "cell_type": "markdown",
   "metadata": {},
   "source": [
    "### Publish the Pipeline for Edge Deployment\n",
    "\n",
    "It worked! For a demo, we'll take working once as \"tested\". So now that we've tested our pipeline, we are ready to publish it for edge deployment.\n",
    "\n",
    "Publishing it means assembling all of the configuration files and model assets and pushing them to an Open Container Initiative (OCI) repository set in the Wallaroo instance as the Edge Registry service.  DevOps engineers then retrieve that image and deploy it through Docker, Kubernetes, or similar deployments.\n",
    "\n",
    "See [Edge Deployment Registry Guide](https://staging.docs.wallaroo.ai/wallaroo-operations-guide/wallaroo-configuration/wallaroo-edge-deployment/) for details on adding an OCI Registry Service to Wallaroo as the Edge Deployment Registry.\n",
    "\n",
    "This is done through the SDK command `wallaroo.pipeline.publish(deployment_config)`.  This publishes the most recent **pipeline version**.  The alternate method is to use the `wallaroo.pipeline_variant.publish(deployment_config)`, which specifies the pipeline version to publish.\n",
    "\n",
    "#### Publish a Pipeline Parameters\n",
    "\n",
    "The `wallaroo.pipeline.publish(deployment_config)` method takes the following parameters.  The containerized pipeline will be pushed to the Edge registry service with the model, pipeline configurations, and other artifacts needed to deploy the pipeline.\n",
    "\n",
    "| Parameter | Type | Description |\n",
    "|---|---|---|\n",
    "| `deployment_config` | `wallaroo.deployment_config.DeploymentConfig` (*Optional*) | Sets the pipeline deployment configuration.  For example:    For more information on pipeline deployment configuration, see the [Wallaroo SDK Essentials Guide: Pipeline Deployment Configuration]({{<ref \"wallaroo-sdk-essentials-pipeline-deployment-config\">}}).\n",
    "\n",
    "#### Publish a Pipeline Returns\n",
    "\n",
    "| Field | Type | Description |\n",
    "|---|---|---|\n",
    "| id | integer | Numerical Wallaroo id of the published pipeline. |\n",
    "| pipeline version id | integer | Numerical Wallaroo id of the pipeline version published. |\n",
    "| status | string | The status of the pipeline publication.  Values include:  <ul><li>PendingPublish: The pipeline publication is about to be uploaded or is in the process of being uploaded.</li><li>Published:  The pipeline is published and ready for use.</li></ul> |\n",
    "| Engine URL | string | The URL of the published pipeline engine in the edge registry. |\n",
    "| Pipeline URL | string | The URL of the published pipeline in the edge registry. |\n",
    "| Helm Chart URL | string | The URL of the helm chart for the published pipeline in the edge registry. |\n",
    "| Helm Chart Reference | string | The help chart reference. |\n",
    "| Helm Chart Version | string | The version of the Helm Chart of the published pipeline.  This is also used as the Docker tag. |\n",
    "| Engine Config | `wallaroo.deployment_config.DeploymentConfig` | The pipeline configuration included with the published pipeline. |\n",
    "| Created At | DateTime | When the published pipeline was created. |\n",
    "| Updated At | DateTime | When the published pipeline was updated. |\n",
    "\n",
    "### Publish Example\n",
    "\n",
    "We will now publish the pipeline to our Edge Deployment Registry with the `pipeline.publish(deployment_config)` command.  `deployment_config` is an optional field that specifies the pipeline deployment.  This can be overridden by the DevOps engineer during deployment.\n",
    "\n",
    "We will first specify the most recent version of our pipeline, and publish that to our Edge Registry service. "
   ]
  },
  {
   "cell_type": "code",
   "execution_count": 28,
   "metadata": {},
   "outputs": [
    {
     "name": "stdout",
     "output_type": "stream",
     "text": [
      "Waiting for pipeline publish... It may take up to 600 sec.\n",
      "Pipeline is Publishing...Published.\n"
     ]
    },
    {
     "data": {
      "text/html": [
       "\n",
       "          <table>\n",
       "              <tr><td>ID</td><td>12</td></tr>\n",
       "              <tr><td>Pipeline Version</td><td>c24aa86e-e7fe-40cc-b291-7466b18b6aff</td></tr>\n",
       "              <tr><td>Status</td><td>Published</td></tr>\n",
       "              <tr><td>Engine URL</td><td><a href='https://ghcr.io/wallaroolabs/doc-samples/engine:v2023.3.0-main-3771'>ghcr.io/wallaroolabs/doc-samples/engine:v2023.3.0-main-3771</a></td></tr>\n",
       "              <tr><td>Pipeline URL</td><td><a href='https://ghcr.io/wallaroolabs/doc-samples/pipelines/edge-cv-demo:c24aa86e-e7fe-40cc-b291-7466b18b6aff'>ghcr.io/wallaroolabs/doc-samples/pipelines/edge-cv-demo:c24aa86e-e7fe-40cc-b291-7466b18b6aff</a></td></tr>\n",
       "              <tr><td>Helm Chart URL</td><td><a href='https://ghcr.io/wallaroolabs/doc-samples/charts/edge-cv-demo'>ghcr.io/wallaroolabs/doc-samples/charts/edge-cv-demo</a></td></tr>\n",
       "              <tr><td>Helm Chart Reference</td><td>ghcr.io/wallaroolabs/doc-samples/charts@sha256:0b119c48ad0fca1334acc1f75d28d00cdaf2863f555299772f4ea469c43a46c0</td></tr>\n",
       "              <tr><td>Helm Chart Version</td><td>0.0.1-c24aa86e-e7fe-40cc-b291-7466b18b6aff</td></tr>\n",
       "              <tr><td>Engine Config</td><td>{'engine': {'resources': {'limits': {'cpu': 4.0, 'memory': '2Gi'}, 'requests': {'cpu': 4.0, 'memory': '2Gi'}}}, 'engineAux': {'images': {}}, 'enginelb': {}}</td></tr>\n",
       "              <tr><td>User Images</td><td>[]</td></tr>\n",
       "              <tr><td>Created By</td><td>john.hummel@wallaroo.ai</td></tr>\n",
       "              <tr><td>Created At</td><td>2023-09-06 18:28:32.172791+00:00</td></tr>\n",
       "              <tr><td>Updated At</td><td>2023-09-06 18:28:32.172791+00:00</td></tr>\n",
       "          </table>\n",
       "        "
      ],
      "text/plain": [
       "PipelinePublish(created_at=datetime.datetime(2023, 9, 6, 18, 28, 32, 172791, tzinfo=tzutc()), engine_config={'engine': {'resources': {'limits': {'cpu': 4.0, 'memory': '2Gi'}, 'requests': {'cpu': 4.0, 'memory': '2Gi'}}}, 'engineAux': {'images': {}}, 'enginelb': {}}, id=12, pipeline_version_id=87, status='Published', updated_at=datetime.datetime(2023, 9, 6, 18, 28, 32, 172791, tzinfo=tzutc()), user_images=[], created_by='fa240e86-5fb9-4d58-bf5d-f82bf0b2b172', engine_url='ghcr.io/wallaroolabs/doc-samples/engine:v2023.3.0-main-3771', error=None, helm={'reference': 'ghcr.io/wallaroolabs/doc-samples/charts@sha256:0b119c48ad0fca1334acc1f75d28d00cdaf2863f555299772f4ea469c43a46c0', 'chart': 'ghcr.io/wallaroolabs/doc-samples/charts/edge-cv-demo', 'version': '0.0.1-c24aa86e-e7fe-40cc-b291-7466b18b6aff'}, pipeline_url='ghcr.io/wallaroolabs/doc-samples/pipelines/edge-cv-demo:c24aa86e-e7fe-40cc-b291-7466b18b6aff', pipeline_version_name='c24aa86e-e7fe-40cc-b291-7466b18b6aff', additional_properties={})"
      ]
     },
     "execution_count": 28,
     "metadata": {},
     "output_type": "execute_result"
    }
   ],
   "source": [
    "pub = pipeline.publish(deployment_config)\n",
    "pub"
   ]
  },
  {
   "cell_type": "markdown",
   "metadata": {},
   "source": [
    "### List Published Pipeline\n",
    "\n",
    "The method `wallaroo.client.list_pipelines()` shows a list of all pipelines in the Wallaroo instance, and includes the `published` field that indicates whether the pipeline was published to the registry (`True`), or has not yet been published (`False`)."
   ]
  },
  {
   "cell_type": "code",
   "execution_count": 29,
   "metadata": {},
   "outputs": [
    {
     "data": {
      "text/html": [
       "<table><tr><th>name</th><th>created</th><th>last_updated</th><th>deployed</th><th>tags</th><th>versions</th><th>steps</th><th>published</th></tr><tr><td>edge-cv-demo</td><td>2023-06-Sep 18:28:29</td><td>2023-06-Sep 18:28:31</td><td>(unknown)</td><td></td><td>c24aa86e-e7fe-40cc-b291-7466b18b6aff, 3f3c1403-7f8a-4ad7-80cc-25357500a7a9</td><td></td><td>True</td></tr><tr><td>edge-cv-retail</td><td>2023-06-Sep 16:28:19</td><td>2023-06-Sep 16:31:26</td><td>True</td><td></td><td>6c0a3dbe-e845-410b-92cb-87468e508b3f, da74f2ca-978f-47ac-a656-44697bd0afbb</td><td>mobilenet</td><td>True</td></tr><tr><td>cv-retail-pipeline</td><td>2023-06-Sep 16:27:43</td><td>2023-06-Sep 16:27:43</td><td>(unknown)</td><td></td><td>616fad1d-8936-4f25-bf59-199681425fc0</td><td></td><td>False</td></tr><tr><td>resnetnetpipelinejohn</td><td>2023-05-Sep 21:17:41</td><td>2023-05-Sep 21:18:01</td><td>False</td><td></td><td>70d81f23-8bb7-4623-92db-6be7a89178c2, 6f3539cc-bbe7-4326-b116-3c8dfb99c7b6</td><td>resnet50john</td><td>False</td></tr><tr><td>resnetnetpipelinedyqp</td><td>2023-05-Sep 21:12:15</td><td>2023-05-Sep 21:12:34</td><td>False</td><td></td><td>fd7b4c2e-5ced-4dbf-9d5e-adcef31e2886, 9c77146e-4a70-47bd-9a99-db1d0992f29f</td><td>resnet50dyqp</td><td>False</td></tr><tr><td>housing-pipe</td><td>2023-05-Sep 18:08:50</td><td>2023-05-Sep 19:05:23</td><td>False</td><td></td><td>671acb30-b6f3-4b24-83ed-390b9aaa29fd, 7341d56f-d9e0-45e6-ad07-a36b136264d1, d7f48b2c-93f4-48d3-80b6-399c30eeb3d7, 8f199fb9-cb4b-4e2b-9a91-35c002016018, dc3351f3-408d-46a4-b761-d22d24f83a2b, 6006adf0-3244-4490-9fd6-229a86c72a73, c81ee0b1-bb26-40ea-bba0-c1eab788f41f, fa1f1348-0b8a-46c7-8c4c-dde666a2ca41</td><td>housepricemodel</td><td>False</td></tr><tr><td>demandcurvepipeline</td><td>2023-01-Sep 19:35:46</td><td>2023-05-Sep 17:19:38</td><td>False</td><td></td><td>0304ba8d-d1ff-47e6-acfc-b68454d09126, e4607e83-d2e1-4809-9047-a5f5d5d27468, 4d0da913-59fb-4e99-9d6b-1c18377ab34c, 9d5076cb-5752-43ab-af4f-4c904d06ba52, d06a9550-d693-445a-a6cd-b55635018c57, c95ee014-f431-4d8d-ab99-669fde88173d, bd0c6894-63bc-4cb9-b378-390640307a36, 4136fa8b-270e-49d6-836e-75f7c9c73def, 00a4fb64-302d-4a27-90ac-86e08fb6afe8, 94f0129f-f9c1-474a-89fa-7110c81c9a22, 701a759d-6d45-4d61-bfd0-b878d9a09fc3, 4a85b06f-9051-48ff-9f9e-6b6e4e4b8d68, 698c13e2-4120-4132-b72b-99cd8c0fdd99, 1314a1a4-eabc-437d-bf3f-83f54686970e</td><td>demandcurvemodel</td><td>False</td></tr><tr><td>python-step-demo-pipeline</td><td>2023-01-Sep 15:48:11</td><td>2023-01-Sep 18:50:25</td><td>False</td><td></td><td>44bb2976-b307-4e8f-b8a0-f028c9255ab7, 815ef232-0e4f-45b1-b4a5-9679b4ba8ed0, 39994c6a-9761-4476-934c-7d7c94897db4, 833d7d24-bb6d-43b6-91c6-29bcc0004f7c, c3b5b89f-e016-4865-b90b-2bff6cd536ed, 80e183b1-22a6-40f6-ad6c-b4c53b41cd35, 12d9c671-2bca-4640-8f64-9052caadd2bb, bedec102-7200-450d-a9c2-99b4e8555cae, 8371afaf-cf69-40e2-a726-8c24cd887bd9, f457495f-263f-406f-b502-ffc01e6138c8, 14cd53dd-8ad7-452d-bd10-c44bf3e95e15, 5da24f74-5bc7-47a1-8ac1-7312995e8e9d, 18987451-2eb3-468d-a96a-f306a34129b6, 216e8b67-eda4-4450-84f8-b24905776448, 4d09e34b-54e6-4c2e-ae1d-041b8d33acf6, 2f9ff270-a7f8-4f06-9bcf-90c0877b4957, c94b87bf-b221-4c45-b2f7-4b4021218e19, 8238e0da-6dd3-47a0-8661-0c886f00c3e2, c41db9ec-7774-4a6b-8206-6b05ef52cf98, d98e991d-3550-4b40-92ac-f0cd07580ce9, 1ce2de97-5648-411c-be41-fc134f3f200d, caa02027-a873-461c-8544-8284543002a2, 4bf6a189-0e3d-4d74-b1c9-d388fe32ce66, 15c60445-7611-42fb-980a-866d119fe8df, ce822e5d-6339-46b6-a274-5e99f6095e62, b89071c7-c3bb-4a4a-91e3-85dadde74ebc, 0238ab79-4e0f-40ab-9408-5c78df6ad089, 31c00f3d-3c64-4266-984d-9512a3c93cb2, c91cff5e-c20d-4040-9405-c63248b93a43, 5910be7a-09ef-4b99-9a90-b0f5992c3d0a, 3c672ce0-67a1-413d-9230-e4d01e4856cd, 5882fd2c-f456-4d47-9deb-d31cca08c5a2</td><td>house-price-sample</td><td>False</td></tr><tr><td>edge-pipeline</td><td>2023-31-Aug 22:46:35</td><td>2023-31-Aug 22:46:48</td><td>True</td><td></td><td>799544c6-24b1-4a85-8d83-b78392f86333, 5ca59e22-8608-4251-a308-3cdafc6b370a, 26af31d5-fe31-4c45-bdd9-9416f7cdb21a</td><td>ccfraud</td><td>True</td></tr><tr><td>vgg16-clustering-pipeline</td><td>2023-31-Aug 22:22:25</td><td>2023-31-Aug 22:25:35</td><td>False</td><td></td><td>32e52139-42c9-4cf9-969d-fcf1f0d4d695, 1bb2f66b-5c02-47e7-8845-ebf1718830fa, 332e239e-93ea-41a3-8791-076719124403</td><td>vgg16-clustering</td><td>True</td></tr><tr><td>edge-cv-retail</td><td>2023-31-Aug 22:19:08</td><td>2023-06-Sep 18:24:21</td><td>False</td><td></td><td>752dd409-1042-4ad1-96b9-da5675dc3862, c474dec1-4128-45ab-800b-4701c14c3a5d, ba05b2f9-e430-4b8d-bbc2-3ac6d088ccf3, b4e182b3-2f40-46e1-a354-ee5a8e8c2712, cebc1047-c76b-4e72-83c8-ee25e202c2ae, c8bbda27-baea-4226-9c1b-13001be84b66, 5ac1b0e9-1886-4458-bacd-731f99f73719, 60025d35-3f06-47b3-b46f-f18b1e20da33, 5d7ae40a-60f8-4e0f-8b8d-2f77cb3321da, 67a76859-52f6-45d4-af2b-a218636fea79, 57df9910-76f7-4b46-b791-522961daa0ed, ff51f3c9-f634-451c-9aec-4b7787cd5ec9, 1a1ff363-e86f-46c5-b2b4-240bf3866f1b</td><td>resnet-50</td><td>True</td></tr><tr><td>edge-cv-retail</td><td>2023-31-Aug 22:04:03</td><td>2023-31-Aug 22:04:57</td><td>True</td><td></td><td>65434916-2009-4a2a-950d-52f32a106760, 96c41d90-8e64-4bef-a3a1-371615882754, 5920c696-5c91-4d9b-a8fb-169861495b27, 74bb4434-5188-43c4-87f1-367bdc04f964, f7470faf-a691-43fb-89a9-89075e4ec189</td><td>resnet-50</td><td>True</td></tr></table>"
      ],
      "text/plain": [
       "[{'name': 'edge-cv-demo', 'create_time': datetime.datetime(2023, 9, 6, 18, 28, 29, 143536, tzinfo=tzutc()), 'definition': '[]'},\n",
       " {'name': 'edge-cv-retail', 'create_time': datetime.datetime(2023, 9, 6, 16, 28, 19, 95930, tzinfo=tzutc()), 'definition': '[]'},\n",
       " {'name': 'cv-retail-pipeline', 'create_time': datetime.datetime(2023, 9, 6, 16, 27, 43, 706156, tzinfo=tzutc()), 'definition': '[]'},\n",
       " {'name': 'resnetnetpipelinejohn', 'create_time': datetime.datetime(2023, 9, 5, 21, 17, 41, 297735, tzinfo=tzutc()), 'definition': '[]'},\n",
       " {'name': 'resnetnetpipelinedyqp', 'create_time': datetime.datetime(2023, 9, 5, 21, 12, 15, 43214, tzinfo=tzutc()), 'definition': '[]'},\n",
       " {'name': 'housing-pipe', 'create_time': datetime.datetime(2023, 9, 5, 18, 8, 50, 854139, tzinfo=tzutc()), 'definition': '[]'},\n",
       " {'name': 'demandcurvepipeline', 'create_time': datetime.datetime(2023, 9, 1, 19, 35, 46, 308437, tzinfo=tzutc()), 'definition': '[]'},\n",
       " {'name': 'python-step-demo-pipeline', 'create_time': datetime.datetime(2023, 9, 1, 15, 48, 11, 13266, tzinfo=tzutc()), 'definition': '[]'},\n",
       " {'name': 'edge-pipeline', 'create_time': datetime.datetime(2023, 8, 31, 22, 46, 35, 312863, tzinfo=tzutc()), 'definition': '[]'},\n",
       " {'name': 'vgg16-clustering-pipeline', 'create_time': datetime.datetime(2023, 8, 31, 22, 22, 25, 430663, tzinfo=tzutc()), 'definition': '[]'},\n",
       " {'name': 'edge-cv-retail', 'create_time': datetime.datetime(2023, 8, 31, 22, 19, 8, 610206, tzinfo=tzutc()), 'definition': '[]'},\n",
       " {'name': 'edge-cv-retail', 'create_time': datetime.datetime(2023, 8, 31, 22, 4, 3, 898736, tzinfo=tzutc()), 'definition': '[]'}]"
      ]
     },
     "execution_count": 29,
     "metadata": {},
     "output_type": "execute_result"
    }
   ],
   "source": [
    "wl.list_pipelines()"
   ]
  },
  {
   "cell_type": "markdown",
   "metadata": {},
   "source": [
    "### List Publishes from a Pipeline\n",
    "\n",
    "All publishes created from a pipeline are displayed with the `wallaroo.pipeline.publishes` method.  The `pipeline_version_id` is used to know what version of the pipeline was used in that specific publish.  This allows for pipelines to be updated over time, and newer versions to be sent and tracked to the Edge Deployment Registry service.\n",
    "\n",
    "#### List Publishes Parameters\n",
    "\n",
    "N/A\n",
    "\n",
    "#### List Publishes Returns\n",
    "\n",
    "A List of the following fields:\n",
    "\n",
    "| Field | Type | Description |\n",
    "|---|---|---|\n",
    "| id | integer | Numerical Wallaroo id of the published pipeline. |\n",
    "| pipeline_version_id | integer | Numerical Wallaroo id of the pipeline version published. |\n",
    "| engine_url | string | The URL of the published pipeline engine in the edge registry. |\n",
    "| pipeline_url | string | The URL of the published pipeline in the edge registry. |\n",
    "| created_by | string | The email address of the user that published the pipeline.\n",
    "| Created At | DateTime | When the published pipeline was created. |\n",
    "| Updated At | DateTime | When the published pipeline was updated. |"
   ]
  },
  {
   "cell_type": "code",
   "execution_count": 30,
   "metadata": {},
   "outputs": [
    {
     "data": {
      "text/html": [
       "<table><tr><th>id</th><th>pipeline_version_name</th><th>engine_url</th><th>pipeline_url</th><th>created_by</th><th>created_at</th><th>updated_at</th></tr><tr><td>12</td><td>c24aa86e-e7fe-40cc-b291-7466b18b6aff</td><td><a href='https://ghcr.io/wallaroolabs/doc-samples/engine:v2023.3.0-main-3771'>ghcr.io/wallaroolabs/doc-samples/engine:v2023.3.0-main-3771</a></td><td><a href='https://ghcr.io/wallaroolabs/doc-samples/pipelines/edge-cv-demo:c24aa86e-e7fe-40cc-b291-7466b18b6aff'>ghcr.io/wallaroolabs/doc-samples/pipelines/edge-cv-demo:c24aa86e-e7fe-40cc-b291-7466b18b6aff</a></td><td>john.hummel@wallaroo.ai</td><td>2023-06-Sep 18:28:32</td><td>2023-06-Sep 18:28:32</td></tr></table>"
      ],
      "text/plain": [
       "[PipelinePublish(created_at=datetime.datetime(2023, 9, 6, 18, 28, 32, 172791, tzinfo=tzutc()), engine_config={'engine': {'resources': {'limits': {'cpu': 4.0, 'memory': '2Gi'}, 'requests': {'cpu': 4.0, 'memory': '2Gi'}}}, 'enginelb': {}, 'engineAux': {'images': {}}}, id=12, pipeline_version_id=87, status='Published', updated_at=datetime.datetime(2023, 9, 6, 18, 28, 32, 172791, tzinfo=tzutc()), user_images=[], created_by='fa240e86-5fb9-4d58-bf5d-f82bf0b2b172', engine_url='ghcr.io/wallaroolabs/doc-samples/engine:v2023.3.0-main-3771', error=None, helm={'reference': 'ghcr.io/wallaroolabs/doc-samples/charts@sha256:0b119c48ad0fca1334acc1f75d28d00cdaf2863f555299772f4ea469c43a46c0', 'chart': 'ghcr.io/wallaroolabs/doc-samples/charts/edge-cv-demo', 'version': '0.0.1-c24aa86e-e7fe-40cc-b291-7466b18b6aff'}, pipeline_url='ghcr.io/wallaroolabs/doc-samples/pipelines/edge-cv-demo:c24aa86e-e7fe-40cc-b291-7466b18b6aff', pipeline_version_name='c24aa86e-e7fe-40cc-b291-7466b18b6aff', additional_properties={})]"
      ]
     },
     "execution_count": 30,
     "metadata": {},
     "output_type": "execute_result"
    }
   ],
   "source": [
    "pipeline.publishes()"
   ]
  },
  {
   "cell_type": "markdown",
   "metadata": {},
   "source": [
    "## DevOps - Pipeline Edge Deployment\n",
    "\n",
    "Once a pipeline is deployed to the Edge Registry service, it can be deployed in environments such as Docker, Kubernetes, or similar container running services by a DevOps engineer.\n",
    "\n",
    "### Docker Deployment\n",
    "\n",
    "First, the DevOps engineer must authenticate to the same OCI Registry service used for the Wallaroo Edge Deployment registry.\n",
    "\n",
    "For more details, check with the documentation on your artifact service.  The following are provided for the three major cloud services:\n",
    "\n",
    "* [Set up authentication for Docker](https://cloud.google.com/artifact-registry/docs/docker/authentication)\n",
    "* [Authenticate with an Azure container registry](https://learn.microsoft.com/en-us/azure/container-registry/container-registry-authentication?tabs=azure-cli)\n",
    "* [Authenticating Amazon ECR Repositories for Docker CLI with Credential Helper](https://aws.amazon.com/blogs/compute/authenticating-amazon-ecr-repositories-for-docker-cli-with-credential-helper/)\n",
    "\n",
    "For the deployment, the engine URL is specified with the following environmental variables:\n",
    "\n",
    "```bash\n",
    "{published engine url}\n",
    "-e DEBUG=true -e OCI_REGISTRY={your registry server} \\\n",
    "-e CONFIG_CPUS=4 \\ # optional number of CPUs to use\n",
    "-e OCI_USERNAME={registry username} \\\n",
    "-e OCI_PASSWORD={registry token here} \\\n",
    "-e PIPELINE_URL={published pipeline url}\n",
    "```\n",
    "\n",
    "#### Docker Deployment Example\n",
    "\n",
    "Using our sample environment, here's sample deployment using Docker with a computer vision ML model, the same used in the [Wallaroo Use Case Tutorials Computer Vision: Retail]({{<ref \"use-case-computer-vision-retail\">}}) tutorials.\n",
    "\n",
    "```bash\n",
    "docker run -p 8080:8080 \\\n",
    "    -e DEBUG=true -e OCI_REGISTRY={your registry server} \\\n",
    "    -e CONFIG_CPUS=4 \\\n",
    "    -e OCI_USERNAME=oauth2accesstoken \\\n",
    "    -e OCI_PASSWORD={registry token here} \\\n",
    "    -e PIPELINE_URL={your registry server}/pipelines/edge-cv-retail:bf70eaf7-8c11-4b46-b751-916a43b1a555 \\\n",
    "    {your registry server}/engine:v2023.3.0-main-3707\n",
    "```\n",
    "\n",
    "### Docker Compose Deployment\n",
    "\n",
    "For users who prefer to use `docker compose`, the following sample `compose.yaml` file is used to launch the Wallaroo Edge pipeline.  This is the same used in the [Wallaroo Use Case Tutorials Computer Vision: Retail]({{<ref \"use-case-computer-vision-retail\">}}) tutorials.\n",
    "\n",
    "```yml\n",
    "services:\n",
    "  engine:\n",
    "    image: {Your Engine URL}\n",
    "    ports:\n",
    "      - 8080:8080\n",
    "    environment:\n",
    "      PIPELINE_URL: {Your Pipeline URL}\n",
    "      OCI_REGISTRY: {Your Edge Registry URL}\n",
    "      OCI_USERNAME:  {Your Registry Username}\n",
    "      OCI_PASSWORD: {Your Token or Password}\n",
    "      CONFIG_CPUS: 4\n",
    "```\n",
    "\n",
    "For example:\n",
    "\n",
    "```yml\n",
    "services:\n",
    "  engine:\n",
    "    image: sample-registry.com/engine:v2023.3.0-main-3707\n",
    "    ports:\n",
    "      - 8080:8080\n",
    "    environment:\n",
    "      PIPELINE_URL: sample-registry.com/pipelines/edge-cv-retail:bf70eaf7-8c11-4b46-b751-916a43b1a555\n",
    "      OCI_REGISTRY: sample-registry.com\n",
    "      OCI_USERNAME:  _json_key_base64\n",
    "      OCI_PASSWORD: abc123\n",
    "      CONFIG_CPUS: 4\n",
    "```\n",
    "\n",
    "#### Docker Compose Deployment Example\n",
    "\n",
    "The deployment and undeployment is then just a simple `docker compose up` and `docker compose down`.  The following shows an example of deploying the Wallaroo edge pipeline using `docker compose`.\n",
    "\n",
    "```bash\n",
    "docker compose up\n",
    "[+] Running 1/1\n",
    " ✔ Container cv_data-engine-1  Recreated                                                                                                                                                                 0.5s\n",
    "Attaching to cv_data-engine-1\n",
    "cv_data-engine-1  | Wallaroo Engine - Standalone mode\n",
    "cv_data-engine-1  | Login Succeeded\n",
    "cv_data-engine-1  | Fetching manifest and config for pipeline: sample-registry.com/pipelines/edge-cv-retail:bf70eaf7-8c11-4b46-b751-916a43b1a555\n",
    "cv_data-engine-1  | Fetching model layers\n",
    "cv_data-engine-1  | digest: sha256:c6c8869645962e7711132a7e17aced2ac0f60dcdc2c7faa79b2de73847a87984\n",
    "cv_data-engine-1  |   filename: c6c8869645962e7711132a7e17aced2ac0f60dcdc2c7faa79b2de73847a87984\n",
    "cv_data-engine-1  |   name: resnet-50\n",
    "cv_data-engine-1  |   type: model\n",
    "cv_data-engine-1  |   runtime: onnx\n",
    "cv_data-engine-1  |   version: 693e19b5-0dc7-4afb-9922-e3f7feefe66d\n",
    "cv_data-engine-1  |\n",
    "cv_data-engine-1  | Fetched\n",
    "cv_data-engine-1  | Starting engine\n",
    "cv_data-engine-1  | Looking for preexisting `yaml` files in //modelconfigs\n",
    "cv_data-engine-1  | Looking for preexisting `yaml` files in //pipelines\n",
    "```\n",
    "\n",
    "### Helm Deployment\n",
    "\n",
    "Published pipelines can be deployed through the use of helm charts.\n",
    "\n",
    "Helm deployments take up to two steps - the first step is in retrieving the required `values.yaml` and making updates to override.\n",
    "\n",
    "1. Pull the helm charts from the published pipeline.  The two fields are the Helm Chart URL and the Helm Chart version to specify the OCI .    This typically takes the format of:\n",
    "\n",
    "  ```bash\n",
    "  helm pull oci://{published.helm_chart_url} --version {published.helm_chart_version}\n",
    "  ```\n",
    "\n",
    "1. Extract the `tgz` file and copy the `values.yaml` and copy the values used to edit engine allocations, etc.  The following are **required** for the deployment to run:\n",
    "\n",
    "  ```yml\n",
    "  ociRegistry:\n",
    "    registry: {your registry service}\n",
    "    username:  {registry username here}\n",
    "    password: {registry token here}\n",
    "  ```\n",
    "\n",
    "  Store this into another file, suc as `local-values.yaml`.\n",
    "\n",
    "1. Create the namespace to deploy the pipeline to.  For example, the namespace `wallaroo-edge-pipeline` would be:\n",
    "\n",
    "  ```bash\n",
    "  kubectl create -n wallaroo-edge-pipeline\n",
    "  ```\n",
    "\n",
    "1. Deploy the `helm` installation with `helm install` through one of the following options:\n",
    "    1. Specify the `tgz` file that was downloaded and the local values file.  For example:\n",
    "\n",
    "        ```bash\n",
    "        helm install --namespace {namespace} --values {local values file} {helm install name} {tgz path}\n",
    "        ```\n",
    "\n",
    "    1. Specify the expended directory from the downloaded `tgz` file.\n",
    "\n",
    "        ```bash\n",
    "        helm install --namespace {namespace} --values {local values file} {helm install name} {helm directory path}\n",
    "        ```\n",
    "\n",
    "    1. Specify the Helm Pipeline Helm Chart and the Pipeline Helm Version.\n",
    "\n",
    "        ```bash\n",
    "        helm install --namespace {namespace} --values {local values file} {helm install name} oci://{published.helm_chart_url} --version {published.helm_chart_version}\n",
    "        ```\n",
    "\n",
    "1. Once deployed, the DevOps engineer will have to forward the appropriate ports to the `svc/engine-svc` service in the specific pipeline.  For example, using `kubectl port-forward` to the namespace `ccfraud` that would be:\n",
    "\n",
    "    ```bash\n",
    "    kubectl port-forward svc/engine-svc -n ccfraud01 8080 --address 0.0.0.0`\n",
    "    ```\n",
    "\n",
    "The following code segment generates a `docker compose` template based on the previously published pipeline."
   ]
  },
  {
   "cell_type": "code",
   "execution_count": 31,
   "metadata": {},
   "outputs": [
    {
     "name": "stdout",
     "output_type": "stream",
     "text": [
      "\n",
      "services:\n",
      "  engine:\n",
      "    image: ghcr.io/wallaroolabs/doc-samples/engine:v2023.3.0-main-3771\n",
      "    ports:\n",
      "      - 8080:8080\n",
      "    environment:\n",
      "      PIPELINE_URL: ghcr.io/wallaroolabs/doc-samples/pipelines/edge-cv-demo:c24aa86e-e7fe-40cc-b291-7466b18b6aff\n",
      "      OCI_USERNAME: YOUR USERNAME \n",
      "      OCI_PASSWORD: YOUR PASSWORD OR TOKEN\n",
      "      OCI_REGISTRY: ghcr.io\n",
      "      CONFIG_CPUS: 4\n",
      "\n"
     ]
    }
   ],
   "source": [
    "docker_compose = f'''\n",
    "services:\n",
    "  engine:\n",
    "    image: {pub.engine_url}\n",
    "    ports:\n",
    "      - 8080:8080\n",
    "    environment:\n",
    "      PIPELINE_URL: {pub.pipeline_url}\n",
    "      OCI_USERNAME: YOUR USERNAME \n",
    "      OCI_PASSWORD: YOUR PASSWORD OR TOKEN\n",
    "      OCI_REGISTRY: ghcr.io\n",
    "      CONFIG_CPUS: 4\n",
    "'''\n",
    "\n",
    "print(docker_compose)"
   ]
  },
  {
   "cell_type": "markdown",
   "metadata": {},
   "source": [
    "## Edge Deployed Pipeline API Endpoints\n",
    "\n",
    "Once deployed, we can check the pipelines and models available.  We'll use a `curl` command, but any HTTP based request will work the same way.\n",
    "\n",
    "The endpoint `/pipelines` returns:\n",
    "\n",
    "* **id** (*String*):  The name of the pipeline.\n",
    "* **status** (*String*):  The status as either `Running`, or `Error` if there are any issues.\n",
    "\n",
    "```bash\n",
    "curl localhost:8080/pipelines\n",
    "{\"pipelines\":[{\"id\":\"edge-cv-retail\",\"status\":\"Running\"}]}\n",
    "```"
   ]
  },
  {
   "cell_type": "code",
   "execution_count": null,
   "metadata": {},
   "outputs": [],
   "source": [
    "!curl testboy.local:8080/pipelines"
   ]
  },
  {
   "cell_type": "code",
   "execution_count": null,
   "metadata": {},
   "outputs": [],
   "source": [
    "!curl testboy.local:8081/pipelines"
   ]
  },
  {
   "cell_type": "markdown",
   "metadata": {},
   "source": [
    "The endpoint `/models` returns a List of models with the following fields:\n",
    "\n",
    "* **name** (*String*): The model name.\n",
    "* **sha** (*String*): The sha hash value of the ML model.\n",
    "* **status** (*String*):  The status of either Running or Error if there are any issues.\n",
    "* **version** (*String*):  The model version.  This matches the version designation used by Wallaroo to track model versions in UUID format.\n",
    "\n",
    "```bash\n",
    "curl localhost:8080/models\n",
    "{\"models\":[{\"name\":\"resnet-50\",\"sha\":\"c6c8869645962e7711132a7e17aced2ac0f60dcdc2c7faa79b2de73847a87984\",\"status\":\"Running\",\"version\":\"693e19b5-0dc7-4afb-9922-e3f7feefe66d\"}]}\n",
    "```\n",
    "\n",
    "The following example uses the host `testboy.local`.  Replace with your own host name of your Edge deployed pipeline."
   ]
  },
  {
   "cell_type": "code",
   "execution_count": null,
   "metadata": {},
   "outputs": [],
   "source": [
    "!curl testboy.local:8080/models"
   ]
  },
  {
   "cell_type": "code",
   "execution_count": null,
   "metadata": {},
   "outputs": [],
   "source": [
    "!curl testboy.local:8081/models"
   ]
  },
  {
   "cell_type": "markdown",
   "metadata": {},
   "source": [
    "### Edge Deployed Inference\n",
    "\n",
    "The inference endpoint takes the following pattern:\n",
    "\n",
    "* `/pipelines/{pipeline-name}`:  The `pipeline-name` is the same as returned from the [`/pipelines`](#list-pipelines) endpoint as `id`.\n",
    "\n",
    "Wallaroo inference endpoint URLs accept the following data inputs through the `Content-Type` header:\n",
    "\n",
    "* `Content-Type: application/vnd.apache.arrow.file`: For Apache Arrow tables.\n",
    "* `Content-Type: application/json; format=pandas-records`: For pandas DataFrame in record format.\n",
    "* `Content-Type: application/json`: JSON.\n",
    "\n",
    "The `Accept` header will determine what kind format of the data is returned.\n",
    "  * `Accept: application/json` Returns a JSON object in the following format.\n",
    "\n",
    "* **check_failures** (*List[Integer]*): Any Validations that failed.  For more information, see [Wallaroo SDK Essentials Guide: Pipeline Management: Anomaly Testing](https://staging.docs.wallaroo.ai/20230201/wallaroo-developer-guides/wallaroo-sdk-guides/wallaroo-sdk-essentials-guide/wallaroo-sdk-essentials-pipelines/wallaroo-sdk-essentials-pipeline/#anomaly-testing)\n",
    "* **elapsed** (*List[Integer]*): A List of time in nanoseconds for:\n",
    "  * [0]: The time to serialize the input.\n",
    "  * [1...n]: How long each step took.\n",
    "* **model_name** (*String*): The name of the model.\n",
    "* **model_version** (*String*): The UUID identifier of the model version from Wallaroo.\n",
    "* **original_data** (*List*): The original submitted data.\n",
    "* **outputs** (*List*): A List of outputs with each output field corresponding to the input.  This is in the format for each data type returned:\n",
    "  * **{data-type}**: The data type being returned.\n",
    "    * **data** (*List*): The data from this data type.\n",
    "    * **dim** (*List*): The shape of the data for this data type.\n",
    "* **dim** (*List*): The shape of the data received.\n",
    "* **pipeline_name** (*String*): The name of the pipeline.\n",
    "* **shadow_data** (*List*): Any data returned from a shadow deployed model.  For more information, see [Wallaroo SDK Essentials Guide: Pipeline Management: Shadow Deployments](https://staging.docs.wallaroo.ai/20230201/wallaroo-developer-guides/wallaroo-sdk-guides/wallaroo-sdk-essentials-guide/wallaroo-sdk-essentials-pipelines/wallaroo-sdk-essentials-pipeline/#pipeline-shadow-deployments).\n",
    "* **time** (*Integer*): The Epoch time of the inference.\n",
    "  \n",
    "Once deployed, we can perform an inference through the deployment URL.  We'll assume we're running the inference request through the localhost and submitting the local file `./data/image_224x224.arrow`.  Note that our inference endpoint is `pipelines/edge-cv-retail` - the same as our pipeline name.\n",
    "\n",
    "The following example demonstrates sending the same inference requests as above, only via API to the Edge inference endpoints.\n"
   ]
  },
  {
   "cell_type": "code",
   "execution_count": null,
   "metadata": {},
   "outputs": [],
   "source": []
  },
  {
   "cell_type": "code",
   "execution_count": null,
   "metadata": {},
   "outputs": [],
   "source": []
  }
 ],
 "metadata": {
  "kernelspec": {
   "display_name": "Python 3 (ipykernel)",
   "language": "python",
   "name": "python3"
  },
  "language_info": {
   "codemirror_mode": {
    "name": "ipython",
    "version": 3
   },
   "file_extension": ".py",
   "mimetype": "text/x-python",
   "name": "python",
   "nbconvert_exporter": "python",
   "pygments_lexer": "ipython3",
   "version": "3.8.17"
  }
 },
 "nbformat": 4,
 "nbformat_minor": 4
}
