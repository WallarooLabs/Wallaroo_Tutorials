{
 "cells": [
  {
   "cell_type": "markdown",
   "id": "75173988-6afb-46fe-a6de-15e313786c99",
   "metadata": {},
   "source": [
    "## Hello Edge - SDK"
   ]
  },
  {
   "cell_type": "code",
   "execution_count": 12,
   "id": "33c4ab07-2af8-4a1f-b665-a1f4f7968da8",
   "metadata": {},
   "outputs": [],
   "source": [
    "import requests\n",
    "import os\n",
    "import wallaroo\n",
    "from wallaroo.object import EntityNotFoundError"
   ]
  },
  {
   "cell_type": "code",
   "execution_count": 8,
   "id": "211b1d3e-7700-4e0b-8ba5-144730d7d17f",
   "metadata": {},
   "outputs": [],
   "source": [
    "import string\n",
    "import random\n",
    "\n",
    "# make a random 4 character suffix to verify uniqueness in tutorials\n",
    "suffix= ''.join(random.choice(string.ascii_lowercase) for i in range(4))\n",
    "\n",
    "suffix='john'\n",
    "\n",
    "workspace_name = f'edge-publish-demo{suffix}'\n",
    "pipeline_name = 'edge-pipeline'\n",
    "model_name = 'ccfraud'\n",
    "model_file_name = './models/xgboost_ccfraud.onnx'"
   ]
  },
  {
   "cell_type": "code",
   "execution_count": 4,
   "id": "3d9df532-1079-4ea8-a876-3cd2809cd41a",
   "metadata": {},
   "outputs": [
    {
     "name": "stdout",
     "output_type": "stream",
     "text": [
      "Please log into the following URL in a web browser:\n",
      "\n",
      "\thttps://keycloak.autoscale-uat-ee.wallaroo.dev/auth/realms/master/device?user_code=RRRB-ZRCZ\n",
      "\n",
      "Login successful!\n"
     ]
    }
   ],
   "source": [
    "wl = wallaroo.Client()"
   ]
  },
  {
   "cell_type": "code",
   "execution_count": 5,
   "id": "01fe6c07-fcbf-4e4c-817a-5ef781bdcb7d",
   "metadata": {},
   "outputs": [],
   "source": [
    "def get_workspace(name):\n",
    "    workspace = None\n",
    "    for ws in wl.list_workspaces():\n",
    "        if ws.name() == name:\n",
    "            workspace= ws\n",
    "    if(workspace == None):\n",
    "        workspace = wl.create_workspace(name)\n",
    "    return workspace\n",
    "\n",
    "def get_pipeline(name):\n",
    "    try:\n",
    "        pipeline = wl.pipelines_by_name(name)[0]\n",
    "    except EntityNotFoundError:\n",
    "        pipeline = wl.build_pipeline(name)\n",
    "    return pipeline"
   ]
  },
  {
   "cell_type": "code",
   "execution_count": 6,
   "id": "84393e55-abb6-4d3e-a3dc-2542bc91098b",
   "metadata": {},
   "outputs": [
    {
     "data": {
      "text/plain": [
       "{'name': 'edge-publish-demojohn', 'id': 18, 'archived': False, 'created_by': 'a2a75c12-7cbe-497f-9633-3cd0fcafb33e', 'created_at': '2023-08-21T20:08:12.457471+00:00', 'models': [], 'pipelines': []}"
      ]
     },
     "execution_count": 6,
     "metadata": {},
     "output_type": "execute_result"
    }
   ],
   "source": [
    "workspace = get_workspace(workspace_name)\n",
    "\n",
    "wl.set_current_workspace(workspace)"
   ]
  },
  {
   "cell_type": "code",
   "execution_count": 9,
   "id": "d55515cf-6392-4440-a1dd-729b18c5d431",
   "metadata": {},
   "outputs": [],
   "source": [
    "edge_demo_model = wl.upload_model(\n",
    "    model_name,\n",
    "    model_file_name,\n",
    "    framework=wallaroo.framework.Framework.ONNX,\n",
    ")"
   ]
  },
  {
   "cell_type": "code",
   "execution_count": 10,
   "id": "efe5b31d-0dfe-4544-a763-5bd6fd6f01e0",
   "metadata": {},
   "outputs": [],
   "source": [
    "deploy_config = wallaroo.DeploymentConfigBuilder().replica_count(1).cpus(0.5).memory(\"900Mi\").build()"
   ]
  },
  {
   "cell_type": "code",
   "execution_count": 14,
   "id": "4a390a87-ba66-4d06-b015-f5fc65d1cf1c",
   "metadata": {},
   "outputs": [
    {
     "data": {
      "text/html": [
       "<table><tr><th>name</th> <td>edge-pipeline</td></tr><tr><th>created</th> <td>2023-08-21 20:09:15.846101+00:00</td></tr><tr><th>last_updated</th> <td>2023-08-21 20:09:15.846101+00:00</td></tr><tr><th>deployed</th> <td>(none)</td></tr><tr><th>tags</th> <td></td></tr><tr><th>versions</th> <td>2d923f22-636b-46ec-a950-989f31a533a5</td></tr><tr><th>steps</th> <td></td></tr><tr><th>published</th> <td>False</td></tr></table>"
      ],
      "text/plain": [
       "{'name': 'edge-pipeline', 'create_time': datetime.datetime(2023, 8, 21, 20, 9, 15, 846101, tzinfo=tzutc()), 'definition': '[]'}"
      ]
     },
     "metadata": {},
     "output_type": "display_data"
    },
    {
     "name": "stdout",
     "output_type": "stream",
     "text": [
      "Waiting for pipeline publish... It may take up to 60 sec.\n",
      "Pipeline is Publishing....Published.\n"
     ]
    }
   ],
   "source": [
    "pipeline = get_pipeline(pipeline_name)\n",
    "display(pipeline)\n",
    "\n",
    "pipeline.add_model_step(edge_demo_model)\n",
    "\n",
    "pub=pipeline.publish(deploy_config)"
   ]
  },
  {
   "cell_type": "code",
   "execution_count": 15,
   "id": "a87a2a24-1757-4782-bf40-548bcb97e101",
   "metadata": {},
   "outputs": [
    {
     "data": {
      "text/html": [
       "\n",
       "          <table>\n",
       "              <tr><td>ID</td><td>5</td></tr>\n",
       "              <tr><td>Pipeline Version ID</td><td>18</td></tr>\n",
       "              <tr><td>Status</td><td>Published</td></tr>\n",
       "              <tr><td>Engine URL</td><td><a href='https://us-central1-docker.pkg.dev/wallaroo-dev-253816/uat/engine:v2023.3.0-main-3707'>us-central1-docker.pkg.dev/wallaroo-dev-253816/uat/engine:v2023.3.0-main-3707</a></td></tr>\n",
       "              <tr><td>Pipeline URL</td><td><a href='https://us-central1-docker.pkg.dev/wallaroo-dev-253816/uat/pipelines/edge-pipeline:8bb83848-951f-4dff-9bfb-87ae4b2bdaea'>us-central1-docker.pkg.dev/wallaroo-dev-253816/uat/pipelines/edge-pipeline:8bb83848-951f-4dff-9bfb-87ae4b2bdaea</a></td></tr>\n",
       "              <tr><td>Helm Chart URL</td><td><a href='https://us-central1-docker.pkg.dev/wallaroo-dev-253816/uat/charts/edge-pipeline'>us-central1-docker.pkg.dev/wallaroo-dev-253816/uat/charts/edge-pipeline</a></td></tr>\n",
       "              <tr><td>Helm Chart Reference</td><td>us-central1-docker.pkg.dev/wallaroo-dev-253816/uat/charts@sha256:c9d292b31356345b2873bc2a5077fdec57cb0d2de4c490cb0e6b67a27edd5af2</td></tr>\n",
       "              <tr><td>Helm Chart Version</td><td>0.0.1-8bb83848-951f-4dff-9bfb-87ae4b2bdaea</td></tr>\n",
       "              <tr><td>Engine Config</td><td>{'engine': {'resources': {'limits': {'cpu': 0.5, 'memory': '900Mi'}, 'requests': {'cpu': 0.5, 'memory': '900Mi'}}}, 'engineAux': {'images': {}}, 'enginelb': {}}</td></tr>\n",
       "              <tr><td>Created By</td><td>a2a75c12-7cbe-497f-9633-3cd0fcafb33e</td></tr>\n",
       "              <tr><td>Created At</td><td>2023-08-21 20:09:23.390481+00:00</td></tr>\n",
       "              <tr><td>Updated At</td><td>2023-08-21 20:09:23.390481+00:00</td></tr>\n",
       "          </table>\n",
       "        "
      ],
      "text/plain": [
       "PipelinePublish(created_at=datetime.datetime(2023, 8, 21, 20, 9, 23, 390481, tzinfo=tzutc()), engine_config={'engine': {'resources': {'limits': {'cpu': 0.5, 'memory': '900Mi'}, 'requests': {'cpu': 0.5, 'memory': '900Mi'}}}, 'engineAux': {'images': {}}, 'enginelb': {}}, id=5, pipeline_version_id=18, status='Published', updated_at=datetime.datetime(2023, 8, 21, 20, 9, 23, 390481, tzinfo=tzutc()), created_by='a2a75c12-7cbe-497f-9633-3cd0fcafb33e', engine_url='us-central1-docker.pkg.dev/wallaroo-dev-253816/uat/engine:v2023.3.0-main-3707', helm={'reference': 'us-central1-docker.pkg.dev/wallaroo-dev-253816/uat/charts@sha256:c9d292b31356345b2873bc2a5077fdec57cb0d2de4c490cb0e6b67a27edd5af2', 'chart': 'us-central1-docker.pkg.dev/wallaroo-dev-253816/uat/charts/edge-pipeline', 'version': '0.0.1-8bb83848-951f-4dff-9bfb-87ae4b2bdaea'}, pipeline_url='us-central1-docker.pkg.dev/wallaroo-dev-253816/uat/pipelines/edge-pipeline:8bb83848-951f-4dff-9bfb-87ae4b2bdaea', additional_properties={})"
      ]
     },
     "execution_count": 15,
     "metadata": {},
     "output_type": "execute_result"
    }
   ],
   "source": [
    "pub"
   ]
  },
  {
   "cell_type": "code",
   "execution_count": 16,
   "id": "92e1e285-37b6-49d3-ab4b-abd1c11d4e38",
   "metadata": {},
   "outputs": [
    {
     "data": {
      "text/html": [
       "<table><tr><th>name</th> <td>edge-pipeline</td></tr><tr><th>created</th> <td>2023-08-21 20:09:15.846101+00:00</td></tr><tr><th>last_updated</th> <td>2023-08-21 20:09:23.336215+00:00</td></tr><tr><th>deployed</th> <td>(none)</td></tr><tr><th>tags</th> <td></td></tr><tr><th>versions</th> <td>8bb83848-951f-4dff-9bfb-87ae4b2bdaea, 2d923f22-636b-46ec-a950-989f31a533a5</td></tr><tr><th>steps</th> <td></td></tr><tr><th>published</th> <td>True</td></tr></table>"
      ],
      "text/plain": [
       "{'name': 'edge-pipeline', 'create_time': datetime.datetime(2023, 8, 21, 20, 9, 15, 846101, tzinfo=tzutc()), 'definition': \"[{'ModelInference': {'models': [{'name': 'ccfraud', 'version': 'dba31687-46af-496f-9425-8c8abeae82cb', 'sha': '054810e3e3ebbdd34438d9c1a08ed6a6680ef10bf97b9223f78ebf38e14b3b52'}]}}]\"}"
      ]
     },
     "metadata": {},
     "output_type": "display_data"
    }
   ],
   "source": [
    "display(pipeline)"
   ]
  },
  {
   "cell_type": "code",
   "execution_count": 17,
   "id": "919d028f-25c8-4caf-9a4d-e83b1f0b2991",
   "metadata": {},
   "outputs": [
    {
     "data": {
      "text/html": [
       "<table><tr><th>name</th><th>created</th><th>last_updated</th><th>deployed</th><th>tags</th><th>versions</th><th>steps</th><th>published</th></tr><tr><td>edge-pipeline</td><td>2023-21-Aug 20:09:15</td><td>2023-21-Aug 20:09:23</td><td>(unknown)</td><td></td><td>8bb83848-951f-4dff-9bfb-87ae4b2bdaea, 2d923f22-636b-46ec-a950-989f31a533a5</td><td></td><td>True</td></tr></table>"
      ],
      "text/plain": [
       "[{'name': 'edge-pipeline', 'create_time': datetime.datetime(2023, 8, 21, 20, 9, 15, 846101, tzinfo=tzutc()), 'definition': '[]'}]"
      ]
     },
     "execution_count": 17,
     "metadata": {},
     "output_type": "execute_result"
    }
   ],
   "source": [
    "wl.list_pipelines()"
   ]
  },
  {
   "cell_type": "code",
   "execution_count": 18,
   "id": "6cdde60c-bf02-4180-83fd-aaedae6ca15e",
   "metadata": {},
   "outputs": [
    {
     "data": {
      "text/html": [
       "<table><tr><th>id</th><th>pipeline_version_id</th><th>engine_url</th><th>pipeline_url</th><th>created_by</th><th>created_at</th><th>updated_at</th></tr><tr><td>5</td><td>18</td><td><a href='https://us-central1-docker.pkg.dev/wallaroo-dev-253816/uat/engine:v2023.3.0-main-3707'>us-central1-docker.pkg.dev/wallaroo-dev-253816/uat/engine:v2023.3.0-main-3707</a></td><td><a href='https://us-central1-docker.pkg.dev/wallaroo-dev-253816/uat/pipelines/edge-pipeline:8bb83848-951f-4dff-9bfb-87ae4b2bdaea'>us-central1-docker.pkg.dev/wallaroo-dev-253816/uat/pipelines/edge-pipeline:8bb83848-951f-4dff-9bfb-87ae4b2bdaea</a></td><td>a2a75c12-7cbe-497f-9633-3cd0fcafb33e</td><td>2023-21-Aug 20:09:23</td><td>2023-21-Aug 20:09:23</td></tr></table>"
      ],
      "text/plain": [
       "[PipelinePublish(created_at=datetime.datetime(2023, 8, 21, 20, 9, 23, 390481, tzinfo=tzutc()), engine_config={'engine': {'resources': {'limits': {'cpu': 0.5, 'memory': '900Mi'}, 'requests': {'cpu': 0.5, 'memory': '900Mi'}}}, 'enginelb': {}, 'engineAux': {'images': {}}}, id=5, pipeline_version_id=18, status='Published', updated_at=datetime.datetime(2023, 8, 21, 20, 9, 23, 390481, tzinfo=tzutc()), created_by='a2a75c12-7cbe-497f-9633-3cd0fcafb33e', engine_url='us-central1-docker.pkg.dev/wallaroo-dev-253816/uat/engine:v2023.3.0-main-3707', helm={'reference': 'us-central1-docker.pkg.dev/wallaroo-dev-253816/uat/charts@sha256:c9d292b31356345b2873bc2a5077fdec57cb0d2de4c490cb0e6b67a27edd5af2', 'chart': 'us-central1-docker.pkg.dev/wallaroo-dev-253816/uat/charts/edge-pipeline', 'version': '0.0.1-8bb83848-951f-4dff-9bfb-87ae4b2bdaea'}, pipeline_url='us-central1-docker.pkg.dev/wallaroo-dev-253816/uat/pipelines/edge-pipeline:8bb83848-951f-4dff-9bfb-87ae4b2bdaea', additional_properties={})]"
      ]
     },
     "execution_count": 18,
     "metadata": {},
     "output_type": "execute_result"
    }
   ],
   "source": [
    "pipeline.publishes()"
   ]
  },
  {
   "cell_type": "markdown",
   "id": "0358f230",
   "metadata": {},
   "source": [
    "Running in docker:\n",
    "\n",
    "\n",
    "\n",
    "Get credentials for docker: type tok= gcloud auth print-access-token \n",
    "Deploy docker container: docker run -p 8080:8080 -e DEBUG=true -e OCI_REGISTRY=us-central1-docker.pkg.dev -e CONFIG_CPUS=4 -e OCI_USERNAME=oauth2accesstoken -e OCI_PASSWORD=$tok -e PIPELINE_URL=us-central1-docker.pkg.dev/wallaroo-dev-253816/uat/pipelines/pipelinecvx86:adef1abe-d141-43b1-8b35-27426a69459f us-central1-docker.pkg.dev/wallaroo-dev-253816/uat/engine:v2023.3.0-main-3707\n",
    "\n",
    "6. Run inference\n",
    "\tcurl -X POST localhost:8080/pipelines/pipelinecvx86 -H \"Content-Type: application/vnd.apache.arrow.file\" --data-binary @/home/jason/projects/edge_demo/image_224x224.arrow"
   ]
  },
  {
   "cell_type": "markdown",
   "id": "f458c568-3150-4de9-9178-a06c2fb809f8",
   "metadata": {
    "tags": []
   },
   "source": [
    "## Hello Edge API"
   ]
  },
  {
   "cell_type": "code",
   "execution_count": 19,
   "id": "8e3d902f-ac2c-42b6-9e30-fcd49336639c",
   "metadata": {},
   "outputs": [
    {
     "data": {
      "text/plain": [
       "18"
      ]
     },
     "execution_count": 19,
     "metadata": {},
     "output_type": "execute_result"
    }
   ],
   "source": [
    "pv=pipeline.versions()[0]\n",
    "pv.id()"
   ]
  },
  {
   "cell_type": "code",
   "execution_count": 42,
   "id": "6857e3cf-8ea7-4a8c-ab60-6e1db4c6d014",
   "metadata": {},
   "outputs": [],
   "source": [
    "wsid = wl.get_current_workspace().id()\n",
    "data = {\"workspace_id\": wsid}\n",
    "headers = {\n",
    "    \"Authorization\": wl.auth._bearer_token_str(),\n",
    "    \"Content-Type\": \"application/json\",\n",
    "}"
   ]
  },
  {
   "cell_type": "code",
   "execution_count": 44,
   "id": "f13be924-ff63-4534-92f3-a917e447f129",
   "metadata": {},
   "outputs": [
    {
     "data": {
      "text/plain": [
       "<Response [202]>"
      ]
     },
     "execution_count": 44,
     "metadata": {},
     "output_type": "execute_result"
    }
   ],
   "source": [
    "# # Pipeline Publish\n",
    "\n",
    "# url = f\"{wl.api_endpoint}/v1/api/pipelines/publish\"\n",
    "# resp = requests.post(\n",
    "#     url,\n",
    "#     headers=headers,\n",
    "#     json={\"pipeline_id\": 1, \"pipeline_version_id\": 10, \"model_config_ids\": []},\n",
    "# )\n",
    "\n",
    "# assert resp.status_code == 202"
   ]
  },
  {
   "cell_type": "code",
   "execution_count": 46,
   "id": "b74dbb52-b8fb-4dbc-9d84-30058c5f345e",
   "metadata": {},
   "outputs": [
    {
     "data": {
      "text/plain": [
       "'{\"id\":5,\"pipeline_version_id\":10,\"status\":\"PendingPublish\",\"created_at\":\"2023-08-17T17:08:51.999168+00:00\",\"updated_at\":\"2023-08-17T17:08:51.999168+00:00\",\"created_by\":\"db13ee60-4162-4a42-a571-61c32e225e3e\",\"pipeline_url\":null,\"engine_url\":null,\"helm\":null,\"engine_config\":{\"engine\":{\"resources\":{\"limits\":{\"cpu\":4.0,\"memory\":\"3Gi\"},\"requests\":{\"cpu\":4.0,\"memory\":\"3Gi\"}}},\"enginelb\":{\"resources\":{\"limits\":{\"cpu\":1.0,\"memory\":\"512Mi\"},\"requests\":{\"cpu\":0.2,\"memory\":\"512Mi\"}}},\"engineAux\":{}}}'"
      ]
     },
     "execution_count": 46,
     "metadata": {},
     "output_type": "execute_result"
    }
   ],
   "source": [
    "# resp.text"
   ]
  },
  {
   "cell_type": "code",
   "execution_count": 41,
   "id": "53ff229e-15ea-4dfd-895c-a4aa319065d2",
   "metadata": {},
   "outputs": [
    {
     "data": {
      "text/plain": [
       "18"
      ]
     },
     "execution_count": 41,
     "metadata": {},
     "output_type": "execute_result"
    }
   ],
   "source": [
    "pv = pipeline.versions()[0]\n",
    "pv.id()"
   ]
  },
  {
   "cell_type": "code",
   "execution_count": 43,
   "id": "b0011916-1d48-4c13-961c-01fe681bdd2e",
   "metadata": {},
   "outputs": [],
   "source": [
    "# Publish Status\n",
    "\n",
    "url = f\"{wl.api_endpoint}/v1/api/pipelines/get_publish_status\"\n",
    "resp = requests.post(\n",
    "    url,\n",
    "    headers=headers,\n",
    "    json={\"id\": pv.id()},\n",
    ")\n",
    "# assert resp.status_code == 200"
   ]
  },
  {
   "cell_type": "code",
   "execution_count": 44,
   "id": "009f6716-8045-4517-ae5b-fff36abbc1dd",
   "metadata": {},
   "outputs": [
    {
     "data": {
      "text/plain": [
       "'{\"msg\":\"Internal error: Error while converting response Field pipeline_publish_by_pk in response has no value\",\"code\":500}'"
      ]
     },
     "execution_count": 44,
     "metadata": {},
     "output_type": "execute_result"
    }
   ],
   "source": [
    "resp.text"
   ]
  },
  {
   "cell_type": "code",
   "execution_count": 39,
   "id": "a2f22e42-4d83-4e43-8d60-6489c7b3bc9d",
   "metadata": {
    "tags": []
   },
   "outputs": [],
   "source": [
    "url = f\"{wl.api_endpoint}/v1/api/pipelines/list_publishes_for_pipeline\"\n",
    "resp = requests.post(\n",
    "    url,\n",
    "    headers=headers,\n",
    "    json={\"pipeline_id\": pipeline.id()},\n",
    ")\n",
    "assert resp.status_code == 202"
   ]
  },
  {
   "cell_type": "code",
   "execution_count": 40,
   "id": "3358b574-29f6-49a5-9eca-f47610edb353",
   "metadata": {
    "tags": []
   },
   "outputs": [
    {
     "data": {
      "text/plain": [
       "'{\"pipelines\":[{\"id\":5,\"pipeline_version_id\":18,\"status\":\"Published\",\"created_at\":\"2023-08-21T20:09:23.390481+00:00\",\"updated_at\":\"2023-08-21T20:09:23.390481+00:00\",\"created_by\":\"a2a75c12-7cbe-497f-9633-3cd0fcafb33e\",\"pipeline_url\":\"us-central1-docker.pkg.dev/wallaroo-dev-253816/uat/pipelines/edge-pipeline:8bb83848-951f-4dff-9bfb-87ae4b2bdaea\",\"engine_url\":\"us-central1-docker.pkg.dev/wallaroo-dev-253816/uat/engine:v2023.3.0-main-3707\",\"helm\":{\"reference\":\"us-central1-docker.pkg.dev/wallaroo-dev-253816/uat/charts@sha256:c9d292b31356345b2873bc2a5077fdec57cb0d2de4c490cb0e6b67a27edd5af2\",\"chart\":\"us-central1-docker.pkg.dev/wallaroo-dev-253816/uat/charts/edge-pipeline\",\"version\":\"0.0.1-8bb83848-951f-4dff-9bfb-87ae4b2bdaea\"},\"engine_config\":{\"engine\":{\"resources\":{\"limits\":{\"cpu\":0.5,\"memory\":\"900Mi\"},\"requests\":{\"cpu\":0.5,\"memory\":\"900Mi\"}}},\"enginelb\":{},\"engineAux\":{\"images\":{}}}}]}'"
      ]
     },
     "metadata": {},
     "output_type": "display_data"
    }
   ],
   "source": [
    "display(resp.text)"
   ]
  },
  {
   "cell_type": "code",
   "execution_count": null,
   "id": "8966381d-d018-4dcd-8533-7b75147b9488",
   "metadata": {},
   "outputs": [],
   "source": []
  }
 ],
 "metadata": {
  "kernelspec": {
   "display_name": "Python 3 (ipykernel)",
   "language": "python",
   "name": "python3"
  },
  "language_info": {
   "codemirror_mode": {
    "name": "ipython",
    "version": 3
   },
   "file_extension": ".py",
   "mimetype": "text/x-python",
   "name": "python",
   "nbconvert_exporter": "python",
   "pygments_lexer": "ipython3",
   "version": "3.9.13"
  }
 },
 "nbformat": 4,
 "nbformat_minor": 5
}
