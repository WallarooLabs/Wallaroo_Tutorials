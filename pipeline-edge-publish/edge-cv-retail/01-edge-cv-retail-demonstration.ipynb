{
 "cells": [
  {
   "cell_type": "markdown",
   "metadata": {},
   "source": [
    "The following tutorial is available on the [Wallaroo Github Repository](https://github.com/WallarooLabs/Wallaroo_Tutorials/blob/2023.3.0-updates/pipeline-edge-publish/edge-cv-retail).\n",
    "\n",
    "## Computer Vision Edge Deployment Demonstration\n",
    "\n",
    "This notebook will walk through building a computer vision (CV) pipeline in Wallaroo, deploying it to the local cluster for testing, and then publishing it for edge deployment.\n",
    "\n",
    "This demonstration will focus on deployment to the edge.  For further examples of using Wallaroo with this computer vision models, see [Use Case Tutorials: Computer Vision: Retail](https://docs.wallaroo.ai/wallaroo-use-case-tutorials/wallaroo-use-case-computer-vision/use-case-computer-vision-retail/).\n",
    "\n",
    "This demonstration will perform the following:\n",
    "\n",
    "1. As a Data Scientist:\n",
    "    1. Upload a computer vision model to Wallaroo, deploy it in a Wallaroo pipeline, then perform a sample inference.\n",
    "    1. Publish the pipeline to an Open Container Initiative (OCI) Registry service.  This is configured in the Wallaroo instance.  See [Edge Deployment Registry Guide](https://staging.docs.wallaroo.ai/wallaroo-operations-guide/wallaroo-configuration/wallaroo-edge-deployment/) for details on adding an OCI Registry Service to Wallaroo as the Edge Deployment Registry.\n",
    "    1. View the pipeline publish details.\n",
    "1. As a DevOps Engineer:\n",
    "    1. Deploy the published pipeline into an edge instance.  This example will use Docker.\n",
    "    1. Perform a sample inference into the deployed pipeline with the same data used in the data scientist example."
   ]
  },
  {
   "cell_type": "markdown",
   "metadata": {},
   "source": [
    "## Data Scientist Pipeline Publish Steps\n",
    "\n",
    "### Load Libraries\n",
    "\n",
    "The first step is to import the libraries used in this notebook."
   ]
  },
  {
   "cell_type": "code",
   "execution_count": 1,
   "metadata": {},
   "outputs": [],
   "source": [
    "import wallaroo\n",
    "from wallaroo.object import EntityNotFoundError\n",
    "\n",
    "import pyarrow as pa\n",
    "import pandas as pd\n",
    "\n",
    "\n",
    "# used to display dataframe information without truncating\n",
    "from IPython.display import display\n",
    "pd.set_option('display.max_colwidth', None)"
   ]
  },
  {
   "cell_type": "markdown",
   "metadata": {},
   "source": [
    "### Connect to the Wallaroo Instance through the User Interface\n",
    "\n",
    "The next step is to connect to Wallaroo through the Wallaroo client.  The Python library is included in the Wallaroo install and available through the Jupyter Hub interface provided with your Wallaroo environment.\n",
    "\n",
    "This is accomplished using the `wallaroo.Client()` command, which provides a URL to grant the SDK permission to your specific Wallaroo environment.  When displayed, enter the URL into a browser and confirm permissions.  Store the connection into a variable that can be referenced later.\n",
    "\n",
    "If logging into the Wallaroo instance through the internal JupyterHub service, use `wl = wallaroo.Client()`.  For more information on Wallaroo Client settings, see the [Client Connection guide](https://docs.wallaroo.ai/wallaroo-developer-guides/wallaroo-sdk-guides/wallaroo-sdk-essentials-guide/wallaroo-sdk-essentials-client/)."
   ]
  },
  {
   "cell_type": "code",
   "execution_count": null,
   "metadata": {},
   "outputs": [],
   "source": [
    "wl = wallaroo.Client()"
   ]
  },
  {
   "cell_type": "markdown",
   "metadata": {},
   "source": [
    "### Create a New Workspace\n",
    "\n",
    "We'll use the SDK below to create our workspace , assign as our **current workspace**, then display all of the workspaces we have at the moment.  We'll also set up variables for our models and pipelines down the road, so we have one spot to change names to whatever fits your organization's standards best.\n",
    "\n",
    "To allow this tutorial to be run by multiple users in the same Wallaroo instance, a random 4 character prefix will be added to the workspace, pipeline, and model.  Feel free to set `suffix=''` if this is not required."
   ]
  },
  {
   "cell_type": "code",
   "execution_count": 3,
   "metadata": {},
   "outputs": [],
   "source": [
    "import string\n",
    "import random\n",
    "\n",
    "# make a random 4 character prefix\n",
    "suffix= ''.join(random.choice(string.ascii_lowercase) for i in range(4))\n",
    "\n",
    "workspace_name = f'edge-cv-retail{suffix}'\n",
    "pipeline_name = 'edge-cv-retail'\n",
    "model_name = 'resnet-50'\n",
    "model_file_name = './models/resnet50_v1.onnx'"
   ]
  },
  {
   "cell_type": "code",
   "execution_count": 4,
   "metadata": {},
   "outputs": [],
   "source": [
    "def get_workspace(name):\n",
    "    workspace = None\n",
    "    for ws in wl.list_workspaces():\n",
    "        if ws.name() == name:\n",
    "            workspace= ws\n",
    "    if(workspace == None):\n",
    "        workspace = wl.create_workspace(name)\n",
    "    return workspace\n",
    "\n",
    "def get_pipeline(name):\n",
    "    try:\n",
    "        pipeline = wl.pipelines_by_name(name)[0]\n",
    "    except EntityNotFoundError:\n",
    "        pipeline = wl.build_pipeline(name)\n",
    "    return pipeline"
   ]
  },
  {
   "cell_type": "code",
   "execution_count": 5,
   "metadata": {},
   "outputs": [
    {
     "data": {
      "text/plain": [
       "{'name': 'edge-cv-retailjohn', 'id': 13, 'archived': False, 'created_by': '66d3b2c4-9b22-4429-b16e-3bcdc1ac28e3', 'created_at': '2023-08-23T17:06:48.016472+00:00', 'models': [], 'pipelines': []}"
      ]
     },
     "execution_count": 5,
     "metadata": {},
     "output_type": "execute_result"
    }
   ],
   "source": [
    "workspace = get_workspace(workspace_name)\n",
    "\n",
    "wl.set_current_workspace(workspace)"
   ]
  },
  {
   "cell_type": "markdown",
   "metadata": {},
   "source": [
    "### Upload the Model\n",
    "\n",
    "When a model is uploaded to a Wallaroo cluster, it is optimized and packaged to make it ready to run as part of a pipeline. In many times, the Wallaroo Server can natively run a model without any Python overhead. In other cases, such as a Python script, a custom Python environment will be automatically generated. This is comparable to the process of \"containerizing\" a model by adding a small HTTP server and other wrapping around it.\n",
    "\n",
    "Our pretrained model is in ONNX format, which is specified in the `framework` parameter."
   ]
  },
  {
   "cell_type": "code",
   "execution_count": 6,
   "metadata": {},
   "outputs": [],
   "source": [
    "model = wl.upload_model(model_name, \n",
    "                        model_file_name, \n",
    "                        framework = wallaroo.framework.Framework.ONNX)"
   ]
  },
  {
   "cell_type": "markdown",
   "metadata": {},
   "source": [
    "### Reserve Pipeline Resources\n",
    "\n",
    "Before deploying an inference engine we need to tell wallaroo what resources it will need.\n",
    "To do this we will use the wallaroo DeploymentConfigBuilder() and fill in the options listed below to determine what the properties of our inference engine will be.\n",
    "\n",
    "We will be testing this deployment for an edge scenario, so the resource specifications are kept small -- what's the minimum needed to meet the expected load on the planned hardware.\n",
    "\n",
    "- cpus - 4 => allow the engine to use 4 CPU cores when running the neural net\n",
    "- memory - 2Gi => each inference engine will have 2 GB of memory, which is plenty for processing a single image at a time.\n",
    "- arch - we will specify the X86 architecture."
   ]
  },
  {
   "cell_type": "code",
   "execution_count": 7,
   "metadata": {},
   "outputs": [],
   "source": [
    "deployment_config = wallaroo.DeploymentConfigBuilder() \\\n",
    "    .cpus(4)\\\n",
    "    .memory(\"2Gi\")\\\n",
    "    .arch(wallaroo.engine_config.Architecture.X86)\\\n",
    "    .build()"
   ]
  },
  {
   "cell_type": "markdown",
   "metadata": {},
   "source": [
    "### Simulated Edge Deployment\n",
    "\n",
    "We will now deploy our pipeline into the current Kubernetes environment using the specified resource constraints. This is a \"simulated edge\" deploy in that we try to mimic the edge hardware as closely as possible.\n"
   ]
  },
  {
   "cell_type": "code",
   "execution_count": 8,
   "metadata": {},
   "outputs": [
    {
     "name": "stdout",
     "output_type": "stream",
     "text": [
      "Waiting for deployment - this will take up to 45s ............. ok\n"
     ]
    },
    {
     "data": {
      "text/html": [
       "<table><tr><th>name</th> <td>edge-cv-retail</td></tr><tr><th>created</th> <td>2023-08-23 17:07:09.438570+00:00</td></tr><tr><th>last_updated</th> <td>2023-08-23 17:07:09.502996+00:00</td></tr><tr><th>deployed</th> <td>True</td></tr><tr><th>tags</th> <td></td></tr><tr><th>versions</th> <td>5eacb4cd-948f-4b82-9206-1eab30bd5488, 38b2bfc8-843d-4449-9935-ec82d9f86c49</td></tr><tr><th>steps</th> <td>resnet-50</td></tr><tr><th>published</th> <td>False</td></tr></table>"
      ],
      "text/plain": [
       "{'name': 'edge-cv-retail', 'create_time': datetime.datetime(2023, 8, 23, 17, 7, 9, 438570, tzinfo=tzutc()), 'definition': \"[{'ModelInference': {'models': [{'name': 'resnet-50', 'version': '693e19b5-0dc7-4afb-9922-e3f7feefe66d', 'sha': 'c6c8869645962e7711132a7e17aced2ac0f60dcdc2c7faa79b2de73847a87984'}]}}]\"}"
      ]
     },
     "execution_count": 8,
     "metadata": {},
     "output_type": "execute_result"
    }
   ],
   "source": [
    "pipeline = wl.build_pipeline(pipeline_name)\n",
    "pipeline.add_model_step(model)\n",
    "\n",
    "pipeline.deploy(deployment_config = deployment_config)"
   ]
  },
  {
   "cell_type": "code",
   "execution_count": 9,
   "metadata": {},
   "outputs": [
    {
     "data": {
      "text/plain": [
       "{'status': 'Running',\n",
       " 'details': [],\n",
       " 'engines': [{'ip': '10.244.3.84',\n",
       "   'name': 'engine-dff78c9bc-mg4xs',\n",
       "   'status': 'Running',\n",
       "   'reason': None,\n",
       "   'details': [],\n",
       "   'pipeline_statuses': {'pipelines': [{'id': 'edge-cv-retail',\n",
       "      'status': 'Running'}]},\n",
       "   'model_statuses': {'models': [{'name': 'resnet-50',\n",
       "      'version': '693e19b5-0dc7-4afb-9922-e3f7feefe66d',\n",
       "      'sha': 'c6c8869645962e7711132a7e17aced2ac0f60dcdc2c7faa79b2de73847a87984',\n",
       "      'status': 'Running'}]}}],\n",
       " 'engine_lbs': [{'ip': '10.244.4.101',\n",
       "   'name': 'engine-lb-584f54c899-pkr6s',\n",
       "   'status': 'Running',\n",
       "   'reason': None,\n",
       "   'details': []}],\n",
       " 'sidekicks': []}"
      ]
     },
     "execution_count": 9,
     "metadata": {},
     "output_type": "execute_result"
    }
   ],
   "source": [
    "pipeline.status()"
   ]
  },
  {
   "cell_type": "markdown",
   "metadata": {},
   "source": [
    "### Run Single Image Inference\n",
    "\n",
    "A single image, encoded using the Apache Arrow format, is sent to the deployed pipeline. Arrow is used here because, as a binary protocol, there is far lower network and compute overhead than using JSON. The Wallaroo Server engine accepts both JSON, pandas DataFrame, and Apache Arrow formats.\n",
    "\n",
    "The sample Apache Arrow table is in the file `./data/image_224x224.arrow`.\n",
    "\n",
    "Once complete, we'll display how long the inference request took."
   ]
  },
  {
   "cell_type": "code",
   "execution_count": 11,
   "metadata": {},
   "outputs": [
    {
     "name": "stdout",
     "output_type": "stream",
     "text": [
      "Average elapsed: 34.79213433333334 ms\n"
     ]
    }
   ],
   "source": [
    "with pa.ipc.open_file(\"./data/image_224x224.arrow\") as f:\n",
    "    image = f.read_all()\n",
    "\n",
    "for _ in range(10):\n",
    "    results = pipeline.infer(image, dataset=[\"*\", \"metadata.elapsed\"])\n",
    "\n",
    "iter = 3\n",
    "elapsed = 0\n",
    "for _ in range(iter):\n",
    "    results = pipeline.infer(image, dataset=[\"*\", \"metadata.elapsed\"])\n",
    "    elapsed += results['metadata.elapsed'][0].as_py()[1] / 1000000.0\n",
    "\n",
    "print(f\"Average elapsed: {elapsed/iter} ms\")"
   ]
  },
  {
   "cell_type": "markdown",
   "metadata": {},
   "source": [
    "### Publish the Pipeline for Edge Deployment\n",
    "\n",
    "It worked! For a demo, we'll take working once as \"tested\". So now that we've tested our pipeline, we are ready to publish it for edge deployment.\n",
    "\n",
    "Publishing it means assembling all of the configuration files and model assets and pushing them to an Open Container Initiative (OCI) repository set in the Wallaroo instance as the Edge Registry service.  DevOps engineers then retrieve that image and deploy it through Docker, Kubernetes, or similar deployments.\n",
    "\n",
    "See [Edge Deployment Registry Guide](https://staging.docs.wallaroo.ai/wallaroo-operations-guide/wallaroo-configuration/wallaroo-edge-deployment/) for details on adding an OCI Registry Service to Wallaroo as the Edge Deployment Registry.\n",
    "\n",
    "This is done through the SDK command `wallaroo.pipeline.publish(deployment_config)` which has the following parameters and returns.\n",
    "\n",
    "#### Publish a Pipeline Parameters\n",
    "\n",
    "The `publish` method takes the following parameters.  The containerized pipeline will be pushed to the Edge registry service with the model, pipeline configurations, and other artifacts needed to deploy the pipeline.\n",
    "\n",
    "| Parameter | Type | Description |\n",
    "|---|---|---|\n",
    "| `deployment_config` | `wallaroo.deployment_config.DeploymentConfig` (*Optional*) | Sets the pipeline deployment configuration.  For example:    For more information on pipeline deployment configuration, see the [Wallaroo SDK Essentials Guide: Pipeline Deployment Configuration]({{<ref \"wallaroo-sdk-essentials-pipeline-deployment-config\">}}).\n",
    "\n",
    "#### Publish a Pipeline Returns\n",
    "\n",
    "| Field | Type | Description |\n",
    "|---|---|---|\n",
    "| id | integer | Numerical Wallaroo id of the published pipeline. |\n",
    "| pipeline version id | integer | Numerical Wallaroo id of the pipeline version published. |\n",
    "| status | string | The status of the pipeline publication.  Values include:  <ul><li>PendingPublish: The pipeline publication is about to be uploaded or is in the process of being uploaded.</li><li>Published:  The pipeline is published and ready for use.</li></ul> |\n",
    "| Engine URL | string | The URL of the published pipeline engine in the edge registry. |\n",
    "| Pipeline URL | string | The URL of the published pipeline in the edge registry. |\n",
    "| Helm Chart URL | string | The URL of the helm chart for the published pipeline in the edge registry. |\n",
    "| Helm Chart Reference | string | The help chart reference. |\n",
    "| Helm Chart Version | string | The version of the Helm Chart of the published pipeline.  This is also used as the Docker tag. |\n",
    "| Engine Config | `wallaroo.deployment_config.DeploymentConfig` | The pipeline configuration included with the published pipeline. |\n",
    "| Created At | DateTime | When the published pipeline was created. |\n",
    "| Updated At | DateTime | When the published pipeline was updated. |\n",
    "\n",
    "### Publish Example\n",
    "\n",
    "We will now publish the pipeline to our Edge Deployment Registry with the `pipeline.publish(deployment_config)` command.  `deployment_config` is an optional field that specifies the pipeline deployment.  This can be overridden by the DevOps engineer during deployment."
   ]
  },
  {
   "cell_type": "code",
   "execution_count": 12,
   "metadata": {},
   "outputs": [
    {
     "name": "stdout",
     "output_type": "stream",
     "text": [
      "Waiting for pipeline publish... It may take up to 60 sec.\n",
      "Pipeline is Publishing....Published.\n"
     ]
    },
    {
     "data": {
      "text/html": [
       "\n",
       "          <table>\n",
       "              <tr><td>ID</td><td>6</td></tr>\n",
       "              <tr><td>Pipeline Version ID</td><td>26</td></tr>\n",
       "              <tr><td>Status</td><td>Published</td></tr>\n",
       "              <tr><td>Engine URL</td><td><a href='https://us-west1-docker.pkg.dev/wallaroo-dev-253816/doc-test-registry/engine:v2023.3.0-main-3707'>us-west1-docker.pkg.dev/wallaroo-dev-253816/doc-test-registry/engine:v2023.3.0-main-3707</a></td></tr>\n",
       "              <tr><td>Pipeline URL</td><td><a href='https://us-west1-docker.pkg.dev/wallaroo-dev-253816/doc-test-registry/pipelines/edge-cv-retail:bf70eaf7-8c11-4b46-b751-916a43b1a555'>us-west1-docker.pkg.dev/wallaroo-dev-253816/doc-test-registry/pipelines/edge-cv-retail:bf70eaf7-8c11-4b46-b751-916a43b1a555</a></td></tr>\n",
       "              <tr><td>Helm Chart URL</td><td><a href='https://us-west1-docker.pkg.dev/wallaroo-dev-253816/doc-test-registry/charts/edge-cv-retail'>us-west1-docker.pkg.dev/wallaroo-dev-253816/doc-test-registry/charts/edge-cv-retail</a></td></tr>\n",
       "              <tr><td>Helm Chart Reference</td><td>us-west1-docker.pkg.dev/wallaroo-dev-253816/doc-test-registry/charts@sha256:04e73fe893c5bf8f646f1a4559b9bb91f6657793479ff9d67e9b91ef20f92514</td></tr>\n",
       "              <tr><td>Helm Chart Version</td><td>0.0.1-bf70eaf7-8c11-4b46-b751-916a43b1a555</td></tr>\n",
       "              <tr><td>Engine Config</td><td>{'engine': {'resources': {'limits': {'cpu': 4.0, 'memory': '2Gi'}, 'requests': {'cpu': 4.0, 'memory': '2Gi'}}}, 'engineAux': {'images': {}}, 'enginelb': {}}</td></tr>\n",
       "              <tr><td>Created By</td><td>66d3b2c4-9b22-4429-b16e-3bcdc1ac28e3</td></tr>\n",
       "              <tr><td>Created At</td><td>2023-08-23 17:07:38.914639+00:00</td></tr>\n",
       "              <tr><td>Updated At</td><td>2023-08-23 17:07:38.914639+00:00</td></tr>\n",
       "          </table>\n",
       "        "
      ],
      "text/plain": [
       "PipelinePublish(created_at=datetime.datetime(2023, 8, 23, 17, 7, 38, 914639, tzinfo=tzutc()), engine_config={'engine': {'resources': {'limits': {'cpu': 4.0, 'memory': '2Gi'}, 'requests': {'cpu': 4.0, 'memory': '2Gi'}}}, 'engineAux': {'images': {}}, 'enginelb': {}}, id=6, pipeline_version_id=26, status='Published', updated_at=datetime.datetime(2023, 8, 23, 17, 7, 38, 914639, tzinfo=tzutc()), created_by='66d3b2c4-9b22-4429-b16e-3bcdc1ac28e3', engine_url='us-west1-docker.pkg.dev/wallaroo-dev-253816/doc-test-registry/engine:v2023.3.0-main-3707', helm={'reference': 'us-west1-docker.pkg.dev/wallaroo-dev-253816/doc-test-registry/charts@sha256:04e73fe893c5bf8f646f1a4559b9bb91f6657793479ff9d67e9b91ef20f92514', 'chart': 'us-west1-docker.pkg.dev/wallaroo-dev-253816/doc-test-registry/charts/edge-cv-retail', 'version': '0.0.1-bf70eaf7-8c11-4b46-b751-916a43b1a555'}, pipeline_url='us-west1-docker.pkg.dev/wallaroo-dev-253816/doc-test-registry/pipelines/edge-cv-retail:bf70eaf7-8c11-4b46-b751-916a43b1a555', additional_properties={})"
      ]
     },
     "execution_count": 12,
     "metadata": {},
     "output_type": "execute_result"
    }
   ],
   "source": [
    "pub = pipeline.publish(deployment_config)\n",
    "pub"
   ]
  },
  {
   "cell_type": "markdown",
   "metadata": {},
   "source": [
    "### List Published Pipeline\n",
    "\n",
    "The method `wallaroo.client.list_pipelines()` shows a list of all pipelines in the Wallaroo instance, and includes the `published` field that indicates whether the pipeline was published to the registry (`True`), or has not yet been published (`False`)."
   ]
  },
  {
   "cell_type": "code",
   "execution_count": 13,
   "metadata": {},
   "outputs": [
    {
     "data": {
      "text/html": [
       "<table><tr><th>name</th><th>created</th><th>last_updated</th><th>deployed</th><th>tags</th><th>versions</th><th>steps</th><th>published</th></tr><tr><td>edge-cv-retail</td><td>2023-23-Aug 17:07:09</td><td>2023-23-Aug 17:07:38</td><td>True</td><td></td><td>bf70eaf7-8c11-4b46-b751-916a43b1a555, 5eacb4cd-948f-4b82-9206-1eab30bd5488, 38b2bfc8-843d-4449-9935-ec82d9f86c49</td><td>resnet-50</td><td>True</td></tr><tr><td>houseprice-estimator</td><td>2023-22-Aug 20:39:35</td><td>2023-23-Aug 14:43:10</td><td>True</td><td></td><td>a9fbe04e-4ec3-48fc-ac5f-998035c98f5a, 751aea9c-222d-4eac-8f4f-318fd4019db0, f42c0457-e4f3-4370-b152-0a220347de11</td><td>house-price-prime</td><td>False</td></tr><tr><td>biolabspipeline</td><td>2023-22-Aug 16:07:20</td><td>2023-22-Aug 16:24:40</td><td>False</td><td></td><td>4c6dceb7-e692-4b8b-b615-4f7873eb020b, 59d0babe-bc1d-4dbb-959f-711c74f7b05d, ae834c0d-7a5b-4f87-9e2e-1f06f3cd25e7, 7c438222-28d8-4fca-9a70-eabee8a0fac5</td><td>biolabsmodel</td><td>False</td></tr><tr><td>biolabspipeline</td><td>2023-22-Aug 16:03:33</td><td>2023-22-Aug 16:03:38</td><td>False</td><td></td><td>4e103a7d-cd4d-464b-b182-61d4041518a8, ec2a0fd6-21d4-4843-b7c3-65b1e5be1b85, 516f3848-be98-40d7-8564-a1e48eecb7a8</td><td>biolabsmodel</td><td>False</td></tr><tr><td>biolabspipelinegomj</td><td>2023-22-Aug 15:11:12</td><td>2023-22-Aug 15:42:44</td><td>False</td><td></td><td>1dc9f89f-82aa-4a71-b21a-75dc8d5e4e51, 152d12f2-1200-46ad-ad04-60078c5aa284, 6ca59ffd-802e-4ad5-bd9a-35146b9fbda5, bdab08cc-3e99-4afc-b22d-657e33b76f29, 3c8feb0d-3124-4018-8dfa-06162156d51e</td><td>biolabsmodelgomj</td><td>False</td></tr><tr><td>edge-pipeline</td><td>2023-21-Aug 20:54:37</td><td>2023-22-Aug 19:06:46</td><td>False</td><td></td><td>2be013d9-a438-453c-a013-3fd8e6218394, a02b6af5-4235-42af-92c6-5ae678b35be4, e721ccad-11d8-4874-8388-4211c4957d18, d642e766-cffb-451f-b197-e058bedbdd5f, eb586aba-4908-4bff-84e1-bdeb1fa4b7d3, 2163d718-a5ea-41e3-b69f-095efa858462</td><td>ccfraud</td><td>True</td></tr><tr><td>p1</td><td>2023-21-Aug 19:38:44</td><td>2023-21-Aug 19:38:44</td><td>(unknown)</td><td></td><td>5f93e90a-e8d6-4e8a-8a1a-22eee80a3e13, 5f78247f-7bf9-445b-98a6-e146fb22b8e9</td><td></td><td>True</td></tr></table>"
      ],
      "text/plain": [
       "[{'name': 'edge-cv-retail', 'create_time': datetime.datetime(2023, 8, 23, 17, 7, 9, 438570, tzinfo=tzutc()), 'definition': '[]'},\n",
       " {'name': 'houseprice-estimator', 'create_time': datetime.datetime(2023, 8, 22, 20, 39, 35, 853683, tzinfo=tzutc()), 'definition': '[]'},\n",
       " {'name': 'biolabspipeline', 'create_time': datetime.datetime(2023, 8, 22, 16, 7, 20, 568006, tzinfo=tzutc()), 'definition': '[]'},\n",
       " {'name': 'biolabspipeline', 'create_time': datetime.datetime(2023, 8, 22, 16, 3, 33, 628694, tzinfo=tzutc()), 'definition': '[]'},\n",
       " {'name': 'biolabspipelinegomj', 'create_time': datetime.datetime(2023, 8, 22, 15, 11, 12, 272646, tzinfo=tzutc()), 'definition': '[]'},\n",
       " {'name': 'edge-pipeline', 'create_time': datetime.datetime(2023, 8, 21, 20, 54, 37, 122877, tzinfo=tzutc()), 'definition': '[]'},\n",
       " {'name': 'p1', 'create_time': datetime.datetime(2023, 8, 21, 19, 38, 44, 314377, tzinfo=tzutc()), 'definition': '[]'}]"
      ]
     },
     "execution_count": 13,
     "metadata": {},
     "output_type": "execute_result"
    }
   ],
   "source": [
    "wl.list_pipelines()"
   ]
  },
  {
   "cell_type": "markdown",
   "metadata": {},
   "source": [
    "### List Publishes from a Pipeline\n",
    "\n",
    "All publishes created from a pipeline are displayed with the `wallaroo.pipeline.publishes` method.  The `pipeline_version_id` is used to know what version of the pipeline was used in that specific publish.  This allows for pipelines to be updated over time, and newer versions to be sent and tracked to the Edge Deployment Registry service.\n",
    "\n",
    "#### List Publishes Parameters\n",
    "\n",
    "N/A\n",
    "\n",
    "#### List Publishes Returns\n",
    "\n",
    "A List of the following fields:\n",
    "\n",
    "| Field | Type | Description |\n",
    "|---|---|---|\n",
    "| id | integer | Numerical Wallaroo id of the published pipeline. |\n",
    "| pipeline_version_id | integer | Numerical Wallaroo id of the pipeline version published. |\n",
    "| engine_url | string | The URL of the published pipeline engine in the edge registry. |\n",
    "| pipeline_url | string | The URL of the published pipeline in the edge registry. |\n",
    "| created_by | string | The email address of the user that published the pipeline.\n",
    "| Created At | DateTime | When the published pipeline was created. |\n",
    "| Updated At | DateTime | When the published pipeline was updated. |"
   ]
  },
  {
   "cell_type": "code",
   "execution_count": 14,
   "metadata": {},
   "outputs": [
    {
     "data": {
      "text/html": [
       "<table><tr><th>id</th><th>pipeline_version_id</th><th>engine_url</th><th>pipeline_url</th><th>created_by</th><th>created_at</th><th>updated_at</th></tr><tr><td>6</td><td>26</td><td><a href='https://us-west1-docker.pkg.dev/wallaroo-dev-253816/doc-test-registry/engine:v2023.3.0-main-3707'>us-west1-docker.pkg.dev/wallaroo-dev-253816/doc-test-registry/engine:v2023.3.0-main-3707</a></td><td><a href='https://us-west1-docker.pkg.dev/wallaroo-dev-253816/doc-test-registry/pipelines/edge-cv-retail:bf70eaf7-8c11-4b46-b751-916a43b1a555'>us-west1-docker.pkg.dev/wallaroo-dev-253816/doc-test-registry/pipelines/edge-cv-retail:bf70eaf7-8c11-4b46-b751-916a43b1a555</a></td><td>66d3b2c4-9b22-4429-b16e-3bcdc1ac28e3</td><td>2023-23-Aug 17:07:38</td><td>2023-23-Aug 17:07:38</td></tr></table>"
      ],
      "text/plain": [
       "[PipelinePublish(created_at=datetime.datetime(2023, 8, 23, 17, 7, 38, 914639, tzinfo=tzutc()), engine_config={'engine': {'resources': {'limits': {'cpu': 4.0, 'memory': '2Gi'}, 'requests': {'cpu': 4.0, 'memory': '2Gi'}}}, 'enginelb': {}, 'engineAux': {'images': {}}}, id=6, pipeline_version_id=26, status='Published', updated_at=datetime.datetime(2023, 8, 23, 17, 7, 38, 914639, tzinfo=tzutc()), created_by='66d3b2c4-9b22-4429-b16e-3bcdc1ac28e3', engine_url='us-west1-docker.pkg.dev/wallaroo-dev-253816/doc-test-registry/engine:v2023.3.0-main-3707', helm={'reference': 'us-west1-docker.pkg.dev/wallaroo-dev-253816/doc-test-registry/charts@sha256:04e73fe893c5bf8f646f1a4559b9bb91f6657793479ff9d67e9b91ef20f92514', 'chart': 'us-west1-docker.pkg.dev/wallaroo-dev-253816/doc-test-registry/charts/edge-cv-retail', 'version': '0.0.1-bf70eaf7-8c11-4b46-b751-916a43b1a555'}, pipeline_url='us-west1-docker.pkg.dev/wallaroo-dev-253816/doc-test-registry/pipelines/edge-cv-retail:bf70eaf7-8c11-4b46-b751-916a43b1a555', additional_properties={})]"
      ]
     },
     "execution_count": 14,
     "metadata": {},
     "output_type": "execute_result"
    }
   ],
   "source": [
    "pipeline.publishes()"
   ]
  },
  {
   "cell_type": "markdown",
   "metadata": {},
   "source": [
    "## DevOps - Pipeline Edge Deployment\n",
    "\n",
    "Once a pipeline is deployed to the Edge Registry service, it can be deployed in environments such as Docker, Kubernetes, or similar container running services by a DevOps engineer.\n",
    "\n",
    "### Docker Deployment\n",
    "\n",
    "First, the DevOps engineer must authenticate to the same OCI Registry service used for the Wallaroo Edge Deployment registry.\n",
    "\n",
    "For more details, check with the documentation on your artifact service.  The following are provided for the three major cloud services:\n",
    "\n",
    "* [Set up authentication for Docker](https://cloud.google.com/artifact-registry/docs/docker/authentication)\n",
    "* [Authenticate with an Azure container registry](https://learn.microsoft.com/en-us/azure/container-registry/container-registry-authentication?tabs=azure-cli)\n",
    "* [Authenticating Amazon ECR Repositories for Docker CLI with Credential Helper](https://aws.amazon.com/blogs/compute/authenticating-amazon-ecr-repositories-for-docker-cli-with-credential-helper/)\n",
    "\n",
    "For the deployment, the engine URL is specified with the following environmental variables:\n",
    "\n",
    "```bash\n",
    "{published engine url}\n",
    "-e DEBUG=true -e OCI_REGISTRY={your registry server} \\\n",
    "-e CONFIG_CPUS=4 \\ # optional number of CPUs to use\n",
    "-e OCI_USERNAME={registry username} \\\n",
    "-e OCI_PASSWORD={registry token here} \\\n",
    "-e PIPELINE_URL={published pipeline url}\n",
    "```\n",
    "\n",
    "#### Docker Deployment Example\n",
    "\n",
    "Using our sample environment, here's sample deployment using Docker with a computer vision ML model, the same used in the [Wallaroo Use Case Tutorials Computer Vision: Retail]({{<ref \"use-case-computer-vision-retail\">}}) tutorials.\n",
    "\n",
    "```bash\n",
    "docker run -p 8080:8080 \\\n",
    "    -e DEBUG=true -e OCI_REGISTRY={your registry server} \\\n",
    "    -e CONFIG_CPUS=4 \\\n",
    "    -e OCI_USERNAME=oauth2accesstoken \\\n",
    "    -e OCI_PASSWORD={registry token here} \\\n",
    "    -e PIPELINE_URL={your registry server}/pipelines/edge-cv-retail:bf70eaf7-8c11-4b46-b751-916a43b1a555 \\\n",
    "    {your registry server}/engine:v2023.3.0-main-3707\n",
    "```\n",
    "\n",
    "### Docker Compose Deployment\n",
    "\n",
    "For users who prefer to use `docker compose`, the following sample `compose.yaml` file is used to launch the Wallaroo Edge pipeline.  This is the same used in the [Wallaroo Use Case Tutorials Computer Vision: Retail]({{<ref \"use-case-computer-vision-retail\">}}) tutorials.\n",
    "\n",
    "```yml\n",
    "services:\n",
    "  engine:\n",
    "    image: {Your Engine URL}\n",
    "    ports:\n",
    "      - 8080:8080\n",
    "    environment:\n",
    "      PIPELINE_URL: {Your Pipeline URL}\n",
    "      OCI_REGISTRY: {Your Edge Registry URL}\n",
    "      OCI_USERNAME:  {Your Registry Username}\n",
    "      OCI_PASSWORD: {Your Token or Password}\n",
    "      CONFIG_CPUS: 4\n",
    "```\n",
    "\n",
    "For example:\n",
    "\n",
    "```yml\n",
    "services:\n",
    "  engine:\n",
    "    image: sample-registry.com/engine:v2023.3.0-main-3707\n",
    "    ports:\n",
    "      - 8080:8080\n",
    "    environment:\n",
    "      PIPELINE_URL: sample-registry.com/pipelines/edge-cv-retail:bf70eaf7-8c11-4b46-b751-916a43b1a555\n",
    "      OCI_REGISTRY: sample-registry.com\n",
    "      OCI_USERNAME:  _json_key_base64\n",
    "      OCI_PASSWORD: abc123\n",
    "      CONFIG_CPUS: 4\n",
    "```\n",
    "\n",
    "#### Docker Compose Deployment Example\n",
    "\n",
    "The deployment and undeployment is then just a simple `docker compose up` and `docker compose down`.  The following shows an example of deploying the Wallaroo edge pipeline using `docker compose`.\n",
    "\n",
    "```bash\n",
    "docker compose up\n",
    "[+] Running 1/1\n",
    " ✔ Container cv_data-engine-1  Recreated                                                                                                                                                                 0.5s\n",
    "Attaching to cv_data-engine-1\n",
    "cv_data-engine-1  | Wallaroo Engine - Standalone mode\n",
    "cv_data-engine-1  | Login Succeeded\n",
    "cv_data-engine-1  | Fetching manifest and config for pipeline: sample-registry.com/pipelines/edge-cv-retail:bf70eaf7-8c11-4b46-b751-916a43b1a555\n",
    "cv_data-engine-1  | Fetching model layers\n",
    "cv_data-engine-1  | digest: sha256:c6c8869645962e7711132a7e17aced2ac0f60dcdc2c7faa79b2de73847a87984\n",
    "cv_data-engine-1  |   filename: c6c8869645962e7711132a7e17aced2ac0f60dcdc2c7faa79b2de73847a87984\n",
    "cv_data-engine-1  |   name: resnet-50\n",
    "cv_data-engine-1  |   type: model\n",
    "cv_data-engine-1  |   runtime: onnx\n",
    "cv_data-engine-1  |   version: 693e19b5-0dc7-4afb-9922-e3f7feefe66d\n",
    "cv_data-engine-1  |\n",
    "cv_data-engine-1  | Fetched\n",
    "cv_data-engine-1  | Starting engine\n",
    "cv_data-engine-1  | Looking for preexisting `yaml` files in //modelconfigs\n",
    "cv_data-engine-1  | Looking for preexisting `yaml` files in //pipelines\n",
    "```\n",
    "\n",
    "### Helm Deployment\n",
    "\n",
    "Published pipelines can be deployed through the use of helm charts.\n",
    "\n",
    "Helm deployments take up to two steps - the first step is in retrieving the required `values.yaml` and making updates to override.\n",
    "\n",
    "1. Pull the helm charts from the published pipeline.  The two fields are the Helm Chart URL and the Helm Chart version to specify the OCI .    This typically takes the format of:\n",
    "\n",
    "  ```bash\n",
    "  helm pull oci://{published.helm_chart_url} --version {published.helm_chart_version}\n",
    "  ```\n",
    "\n",
    "1. Extract the `tgz` file and copy the `values.yaml` and copy the values used to edit engine allocations, etc.  The following are **required** for the deployment to run:\n",
    "\n",
    "  ```yml\n",
    "  ociRegistry:\n",
    "    registry: {your registry service}\n",
    "    username:  {registry username here}\n",
    "    password: {registry token here}\n",
    "  ```\n",
    "\n",
    "  Store this into another file, suc as `local-values.yaml`.\n",
    "\n",
    "1. Create the namespace to deploy the pipeline to.  For example, the namespace `wallaroo-edge-pipeline` would be:\n",
    "\n",
    "  ```bash\n",
    "  kubectl create -n wallaroo-edge-pipeline\n",
    "  ```\n",
    "\n",
    "1. Deploy the `helm` installation with `helm install` through one of the following options:\n",
    "    1. Specify the `tgz` file that was downloaded and the local values file.  For example:\n",
    "\n",
    "        ```bash\n",
    "        helm install --namespace {namespace} --values {local values file} {helm install name} {tgz path}\n",
    "        ```\n",
    "\n",
    "    1. Specify the expended directory from the downloaded `tgz` file.\n",
    "\n",
    "        ```bash\n",
    "        helm install --namespace {namespace} --values {local values file} {helm install name} {helm directory path}\n",
    "        ```\n",
    "\n",
    "    1. Specify the Helm Pipeline Helm Chart and the Pipeline Helm Version.\n",
    "\n",
    "        ```bash\n",
    "        helm install --namespace {namespace} --values {local values file} {helm install name} oci://{published.helm_chart_url} --version {published.helm_chart_version}\n",
    "        ```\n",
    "\n",
    "1. Once deployed, the DevOps engineer will have to forward the appropriate ports to the `svc/engine-svc` service in the specific pipeline.  For example, using `kubectl port-forward` to the namespace `ccfraud` that would be:\n",
    "\n",
    "    ```bash\n",
    "    kubectl port-forward svc/engine-svc -n ccfraud01 8080 --address 0.0.0.0`\n",
    "    ```\n",
    "\n",
    "The following code segment generates a `docker compose` template based on the previously published pipeline."
   ]
  },
  {
   "cell_type": "code",
   "execution_count": null,
   "metadata": {},
   "outputs": [],
   "source": [
    "docker_compose = f'''\n",
    "services:\n",
    "  engine:\n",
    "    image: {pub.engine_url}\n",
    "    ports:\n",
    "      - 8080:8080\n",
    "    environment:\n",
    "      PIPELINE_URL: {pub.pipeline_url}\n",
    "      OCI_USERNAME: YOUR USERNAME \n",
    "      OCI_PASSWORD: YOUR PASSWORD OR TOKEN\n",
    "      OCI_REGISTRY: ghcr.io\n",
    "      CONFIG_CPUS: 4\n",
    "'''\n",
    "\n",
    "print(docker_compose)"
   ]
  },
  {
   "cell_type": "markdown",
   "metadata": {},
   "source": [
    "## Edge Deployed Pipeline API Endpoints\n",
    "\n",
    "Once deployed, we can check the pipelines and models available.  We'll use a `curl` command, but any HTTP based request will work the same way.\n",
    "\n",
    "The endpoint `/pipelines` returns:\n",
    "\n",
    "* **id** (*String*):  The name of the pipeline.\n",
    "* **status** (*String*):  The status as either `Running`, or `Error` if there are any issues.\n",
    "\n",
    "```bash\n",
    "curl localhost:8080/pipelines\n",
    "{\"pipelines\":[{\"id\":\"edge-cv-retail\",\"status\":\"Running\"}]}\n",
    "```\n",
    "\n",
    "The endpoint `/models` returns a List of models with the following fields:\n",
    "\n",
    "* **name** (*String*): The model name.\n",
    "* **sha** (*String*): The sha hash value of the ML model.\n",
    "* **status** (*String*):  The status of either Running or Error if there are any issues.\n",
    "* **version** (*String*):  The model version.  This matches the version designation used by Wallaroo to track model versions in UUID format.\n",
    "\n",
    "```bash\n",
    "curl localhost:8080/models\n",
    "{\"models\":[{\"name\":\"resnet-50\",\"sha\":\"c6c8869645962e7711132a7e17aced2ac0f60dcdc2c7faa79b2de73847a87984\",\"status\":\"Running\",\"version\":\"693e19b5-0dc7-4afb-9922-e3f7feefe66d\"}]}\n",
    "```"
   ]
  },
  {
   "cell_type": "markdown",
   "metadata": {},
   "source": [
    "### Edge Deployed Inference\n",
    "\n",
    "The inference endpoint takes the following pattern:\n",
    "\n",
    "* `/pipelines/{pipeline-name}`:  The `pipeline-name` is the same as returned from the [`/pipelines`](#list-pipelines) endpoint as `id`.\n",
    "\n",
    "Wallaroo inference endpoint URLs accept the following data inputs through the `Content-Type` header:\n",
    "\n",
    "* `Content-Type: application/vnd.apache.arrow.file`: For Apache Arrow tables.\n",
    "* `Content-Type: application/json; format=pandas-records`: For pandas DataFrame in record format.\n",
    "* `Content-Type: application/json`: JSON.\n",
    "\n",
    "The `Accept` header will determine what kind format of the data is returned.\n",
    "  * `Accept: application/json` Returns a JSON object in the following format.\n",
    "\n",
    "* **check_failures** (*List[Integer]*): Any Validations that failed.  For more information, see [Wallaroo SDK Essentials Guide: Pipeline Management: Anomaly Testing](https://staging.docs.wallaroo.ai/20230201/wallaroo-developer-guides/wallaroo-sdk-guides/wallaroo-sdk-essentials-guide/wallaroo-sdk-essentials-pipelines/wallaroo-sdk-essentials-pipeline/#anomaly-testing)\n",
    "* **elapsed** (*List[Integer]*): A List of time in nanoseconds for:\n",
    "  * [0]: The time to serialize the input.\n",
    "  * [1...n]: How long each step took.\n",
    "* **model_name** (*String*): The name of the model.\n",
    "* **model_version** (*String*): The UUID identifier of the model version from Wallaroo.\n",
    "* **original_data** (*List*): The original submitted data.\n",
    "* **outputs** (*List*): A List of outputs with each output field corresponding to the input.  This is in the format for each data type returned:\n",
    "  * **{data-type}**: The data type being returned.\n",
    "    * **data** (*List*): The data from this data type.\n",
    "    * **dim** (*List*): The shape of the data for this data type.\n",
    "* **dim** (*List*): The shape of the data received.\n",
    "* **pipeline_name** (*String*): The name of the pipeline.\n",
    "* **shadow_data** (*List*): Any data returned from a shadow deployed model.  For more information, see [Wallaroo SDK Essentials Guide: Pipeline Management: Shadow Deployments](https://staging.docs.wallaroo.ai/20230201/wallaroo-developer-guides/wallaroo-sdk-guides/wallaroo-sdk-essentials-guide/wallaroo-sdk-essentials-pipelines/wallaroo-sdk-essentials-pipeline/#pipeline-shadow-deployments).\n",
    "* **time** (*Integer*): The Epoch time of the inference.\n",
    "  \n",
    "Once deployed, we can perform an inference through the deployment URL.  We'll assume we're running the inference request through the localhost and submitting the local file `./data/image_224x224.arrow`.  Note that our inference endpoint is `pipelines/edge-cv-retail` - the same as our pipeline name.\n",
    "\n",
    "The following example demonstrates sending an Apache Arrow table to the Edge deployed pipeline, requesting the inference results back in a pandas DataFrame records format.\n",
    "\n",
    "```bash\n",
    "curl -X POST localhost:8080/pipelines/edge-cv-retail -H \"Content-Type: application/vnd.apache.arrow.file\" -H 'Accept: application/json; format=pandas-records'  --data-binary @./data/image_224x224.arrow\n",
    "```\n",
    "\n",
    "Returns:\n",
    "\n",
    "```json\n",
    "{\"check_failures\":[],\"elapsed\":[777138,22000001],\"model_name\":\"resnet-50\",\"model_version\":\"693e19b5-0dc7-4afb-9922-e3f7feefe66d\",\"original_data\":null,\"outputs\":[{\"Int64\":{\"data\":[535],\"dim\":[1],\"v\":1}},{\"Float\":{\"data\":[0.00009498586587142199,0.00009141524787992239,0.0004606838047038764,0.00007667174941161647,0.00008047101437114179,0.00006355856748996302,0.0001758082798914984,0.000014166356777423061,0.00004344096305430867,0.00004225136217428371,0.0002540049026720226,0.005299815908074379...],\"dim\":[1,1001],\"v\":1}}],\"pipeline_name\":\"edge-cv-retail\",\"shadow_data\":{},\"time\":1692817794503}]\n",
    "```\n"
   ]
  }
 ],
 "metadata": {
  "kernelspec": {
   "display_name": "Python 3 (ipykernel)",
   "language": "python",
   "name": "python3"
  },
  "language_info": {
   "codemirror_mode": {
    "name": "ipython",
    "version": 3
   },
   "file_extension": ".py",
   "mimetype": "text/x-python",
   "name": "python",
   "nbconvert_exporter": "python",
   "pygments_lexer": "ipython3",
   "version": "3.9.13"
  }
 },
 "nbformat": 4,
 "nbformat_minor": 4
}
