{
 "cells": [
  {
   "attachments": {},
   "cell_type": "markdown",
   "id": "54d6daff",
   "metadata": {},
   "source": [
<<<<<<< HEAD
<<<<<<< HEAD:workload-orchestrations/orchestration_sdk_simple_tutorial/data_connectors_and_orchestrators_simple_tutorial.ipynb
    "This can be downloaded as part of the [Wallaroo Tutorials repository](https://github.com/WallarooLabs/Wallaroo_Tutorials/tree/main/workload-orchestrations/orchestration_sdk_simple_tutorial).\n",
=======
    "This can be downloaded as part of the [Wallaroo Tutorials repository](https://github.com/WallarooLabs/Wallaroo_Tutorials/tree/main/pipeline-orchestrators/orchestration_sdk_simple_tutorial).\n",
>>>>>>> 1024d0c (prepared for 2023.2 release):pipeline-orchestrators/orchestration_sdk_simple_tutorial/data_connectors_and_orchestrators_simple_tutorial.ipynb
    "\n",
    "## Wallaroo Connection and ML Workload Orchestration Simple Tutorial\n",
=======
    "This can be downloaded as part of the [Wallaroo Tutorials repository](https://github.com/WallarooLabs/Wallaroo_Tutorials/tree/main/workload-orchestrations/orchestration_sdk_simple_tutorial).\n",
    "\n",
<<<<<<< HEAD
    "## Pipeline Orchestrations Simple Tutorial\n",
>>>>>>> 407e1e7 (moved orchestrations directory)
=======
    "## Wallaroo Connection and ML Workload Orchestration Simple Tutorial\n",
>>>>>>> 038b601 (updated for mlorchestration.)
    "\n",
    "This tutorial provides a quick set of methods and examples regarding Wallaroo Connections and Wallaroo ML Workload Orchestration.  For full details, see the Wallaroo Documentation site.\n",
    "\n",
    "Wallaroo provides Data Connections and ML Workload Orchestrations to provide organizations with a method of creating and managing automated tasks that can either be run on demand or a regular schedule.\n",
    "\n",
    "## Definitions\n",
    "\n",
    "* **Orchestration**: A set of instructions written as a python script with a requirements library.  Orchestrations are uploaded to the Wallaroo instance as a .zip file.\n",
    "* **Task**: An implementation of an orchestration.  Tasks are run either once when requested, on a repeating schedule, or as a service.\n",
    "* **Connection**: Definitions set by MLOps engineers that are used by other Wallaroo users for connection information to a data source.  Usually paired with orchestrations.\n",
    "\n",
    "## Tutorial Goals\n",
    "\n",
    "The tutorial will demonstrate the following:\n",
    "\n",
    "1. Create a Wallaroo connection to retrieving information from an external source.\n",
    "1. Upload Wallaroo ML Workload Orchestration.\n",
    "1. Run the orchestration once as a Run Once Task and verify that the information was saved the pipeline logs.\n",
    "1. Schedule the orchestration as a Scheduled Task and verify that the information was saved to the pipeline logs."
   ]
  },
  {
   "attachments": {},
   "cell_type": "markdown",
   "id": "67e1bb26",
   "metadata": {},
   "source": [
    "## Prerequisites\n",
    "\n",
    "* An installed Wallaroo instance.\n",
    "* The following Python libraries installed.  These are included by default in a Wallaroo instance's JupyterHub service.\n",
    "  * `os`\n",
    "  * [`wallaroo`](https://pypi.org/project/wallaroo/): The Wallaroo SDK. Included with the Wallaroo JupyterHub service by default.\n",
    "  * [`pandas`](https://pypi.org/project/pandas/): Pandas, mainly used for Pandas DataFrame\n",
    "  * [`pyarrow`](https://pypi.org/project/pyarrow/): PyArrow for Apache Arrow support"
   ]
  },
  {
   "attachments": {},
   "cell_type": "markdown",
   "id": "a2b09330-0408-45eb-b321-b48b65041789",
   "metadata": {},
   "source": [
    "## Initial Steps\n",
    "\n",
    "For this tutorial, we'll create a workspace, upload our sample model and deploy a pipeline.  We'll perform some quick sample inferences to verify that everything it working.\n",
    "\n",
    "### Load Libraries\n",
    "\n",
    "Here we'll import the various libraries we'll use for the tutorial."
   ]
  },
  {
   "cell_type": "code",
   "execution_count": 1,
   "id": "43ee5f42",
   "metadata": {},
   "outputs": [
    {
     "data": {
      "text/plain": [
<<<<<<< HEAD
<<<<<<< HEAD
<<<<<<< HEAD:workload-orchestrations/orchestration_sdk_simple_tutorial/data_connectors_and_orchestrators_simple_tutorial.ipynb
       "'dtzw'"
=======
       "'hpwu'"
>>>>>>> 1024d0c (prepared for 2023.2 release):pipeline-orchestrators/orchestration_sdk_simple_tutorial/data_connectors_and_orchestrators_simple_tutorial.ipynb
=======
       "'hpwu'"
>>>>>>> 407e1e7 (moved orchestrations directory)
=======
       "'dtzw'"
>>>>>>> a6d890e (updated with pipeline move)
      ]
     },
     "metadata": {},
     "output_type": "display_data"
    }
   ],
   "source": [
    "import wallaroo\n",
    "from wallaroo.object import EntityNotFoundError, RequiredAttributeMissing\n",
    "\n",
    "# to display dataframe tables\n",
    "from IPython.display import display\n",
    "# used to display dataframe information without truncating\n",
    "import pandas as pd\n",
    "pd.set_option('display.max_colwidth', None)\n",
    "import pyarrow as pa\n",
    "\n",
    "import time\n",
    "\n",
    "# Used to create unique workspace and pipeline names\n",
    "import string\n",
    "import random\n",
    "\n",
<<<<<<< HEAD
<<<<<<< HEAD
<<<<<<< HEAD:workload-orchestrations/orchestration_sdk_simple_tutorial/data_connectors_and_orchestrators_simple_tutorial.ipynb
    "# make a random 4 character suffix\n",
=======
    "# make a random 4 character prefix\n",
>>>>>>> 1024d0c (prepared for 2023.2 release):pipeline-orchestrators/orchestration_sdk_simple_tutorial/data_connectors_and_orchestrators_simple_tutorial.ipynb
=======
    "# make a random 4 character prefix\n",
>>>>>>> 407e1e7 (moved orchestrations directory)
=======
    "# make a random 4 character suffix\n",
>>>>>>> 116b655 (updated and corrected prefix links.)
    "suffix= ''.join(random.choice(string.ascii_lowercase) for i in range(4))\n",
    "display(suffix)"
   ]
  },
  {
   "attachments": {},
   "cell_type": "markdown",
   "id": "ae645fd0",
   "metadata": {},
   "source": [
    "### Connect to the Wallaroo Instance\n",
    "\n",
    "The first step is to connect to Wallaroo through the Wallaroo client.  The Python library is included in the Wallaroo install and available through the Jupyter Hub interface provided with your Wallaroo environment.\n",
    "\n",
    "This is accomplished using the `wallaroo.Client()` command, which provides a URL to grant the SDK permission to your specific Wallaroo environment.  When displayed, enter the URL into a browser and confirm permissions.  Store the connection into a variable that can be referenced later.\n",
    "\n",
<<<<<<< HEAD
<<<<<<< HEAD
<<<<<<< HEAD
    "If logging into the Wallaroo instance through the internal JupyterHub service, use `wl = wallaroo.Client()`.  For more information on Wallaroo Client settings, see the [Client Connection guide](https://docs.wallaroo.ai/wallaroo-developer-guides/wallaroo-sdk-guides/wallaroo-sdk-essentials-guide/wallaroo-sdk-essentials-client/)."
=======
    "If logging into the Wallaroo instance through the internal JupyterHub service, use `wl = wallaroo.Client()`.  If logging in externally, update the `wallarooPrefix` and `wallarooSuffix` variables with the proper DNS information.  For more information on Wallaroo DNS settings, see the [Wallaroo DNS Integration Guide](https://docs.wallaroo.ai/wallaroo-operations-guide/wallaroo-configuration/wallaroo-dns-guide/)."
>>>>>>> 407e1e7 (moved orchestrations directory)
=======
    "If logging into the Wallaroo instance through the internal JupyterHub service, use `wl = wallaroo.Client()`.  For more information on Wallaroo DNS settings, see the [Wallaroo DNS Integration Guide](https://docs.wallaroo.ai/wallaroo-operations-guide/wallaroo-configuration/wallaroo-dns-guide/)."
>>>>>>> 116b655 (updated and corrected prefix links.)
=======
    "If logging into the Wallaroo instance through the internal JupyterHub service, use `wl = wallaroo.Client()`.  For more information on Wallaroo Client settings, see the [Client Connection guide](https://docs.wallaroo.ai/wallaroo-developer-guides/wallaroo-sdk-guides/wallaroo-sdk-essentials-guide/wallaroo-sdk-essentials-client/)."
>>>>>>> 3087073 (updated prefix)
   ]
  },
  {
   "cell_type": "code",
   "execution_count": 2,
   "id": "e9d19a6e",
   "metadata": {},
   "outputs": [],
   "source": [
    "# Login through local Wallaroo instance\n",
    "\n",
    "wl = wallaroo.Client()"
   ]
  },
  {
   "cell_type": "code",
   "execution_count": 3,
   "id": "06a981ef",
   "metadata": {},
   "outputs": [],
   "source": [
    "# Setting variables for later steps\n",
    "\n",
    "workspace_name = f'simpleorchestrationworkspace{suffix}'\n",
    "pipeline_name = f'simpleorchestrationpipeline{suffix}'\n",
    "model_name = f'simpleorchestrationmodel{suffix}'\n",
    "model_file_name = './models/rf_model.onnx'\n",
    "\n",
    "inference_connection_name = f'external_inference_connection{suffix}'\n",
    "inference_connection_type = \"HTTP\"\n",
<<<<<<< HEAD
<<<<<<< HEAD:workload-orchestrations/orchestration_sdk_simple_tutorial/data_connectors_and_orchestrators_simple_tutorial.ipynb
    "inference_connection_argument = {'host':'https://github.com/WallarooLabs/Wallaroo_Tutorials/raw/main/wallaroo-testing-tutorials/houseprice-saga/data/xtest-1k.arrow'}"
=======
    "inference_connection_argument = {'host':'https://github.com/WallarooLabs/Wallaroo_Tutorials/tree/main/wallaroo-testing-tutorials/houseprice-saga/data/xtest-1k.arrow?raw=true'}"
>>>>>>> 1024d0c (prepared for 2023.2 release):pipeline-orchestrators/orchestration_sdk_simple_tutorial/data_connectors_and_orchestrators_simple_tutorial.ipynb
=======
    "inference_connection_argument = {'host':'https://github.com/WallarooLabs/Wallaroo_Tutorials/raw/main/wallaroo-testing-tutorials/houseprice-saga/data/xtest-1k.arrow'}"
>>>>>>> 407e1e7 (moved orchestrations directory)
   ]
  },
  {
   "attachments": {},
   "cell_type": "markdown",
   "id": "9c46c722",
   "metadata": {},
   "source": [
    "### Helper Methods\n",
    "\n",
    "The following helper methods are used to either create or get workspaces, pipelines, and connections."
   ]
  },
  {
   "cell_type": "code",
   "execution_count": 4,
   "id": "0361a9db",
   "metadata": {},
   "outputs": [],
   "source": [
    "# helper methods to retrieve workspaces and pipelines\n",
    "\n",
    "def get_workspace(name):\n",
    "    workspace = None\n",
    "    for ws in wl.list_workspaces():\n",
    "        if ws.name() == name:\n",
    "            workspace= ws\n",
    "    if(workspace == None):\n",
    "        workspace = wl.create_workspace(name)\n",
    "    return workspace\n",
    "\n",
    "def get_pipeline(name):\n",
    "    try:\n",
    "        pipeline = wl.pipelines_by_name(name)[0]\n",
    "    except EntityNotFoundError:\n",
    "        pipeline = wl.build_pipeline(name)\n",
<<<<<<< HEAD
    "    return pipeline\n"
=======
    "    return pipeline\n",
    "\n",
    "def get_connection(name, connection_type, connection_arguments):\n",
    "    try:\n",
    "        connection = wl.get_connection(name)\n",
    "    except RequiredAttributeMissing:\n",
    "        connection =wl.create_connection(name, \n",
    "                  connection_type, \n",
    "                  connection_arguments)\n",
    "    return connection\n"
>>>>>>> 407e1e7 (moved orchestrations directory)
   ]
  },
  {
   "attachments": {},
   "cell_type": "markdown",
   "id": "98b78cf9",
   "metadata": {},
   "source": [
    "### Create the Workspace and Pipeline\n",
    "\n",
    "We'll now create our workspace and pipeline for the tutorial.  If this tutorial has been run previously, then this will retrieve the existing ones with the assumption they're for us with this tutorial.\n",
    "\n",
    "We'll set the retrieved workspace as the current workspace in the SDK, so all commands will default to that workspace."
   ]
  },
  {
   "cell_type": "code",
   "execution_count": 5,
   "id": "59aa845d",
   "metadata": {},
   "outputs": [],
   "source": [
    "workspace = get_workspace(workspace_name)\n",
    "wl.set_current_workspace(workspace)\n",
    "\n",
    "pipeline = get_pipeline(pipeline_name)"
   ]
  },
  {
   "attachments": {},
   "cell_type": "markdown",
   "id": "8a9fc274",
   "metadata": {},
   "source": [
    "### Upload the Model and Deploy Pipeline\n",
    "\n",
    "We'll upload our model into our sample workspace, then add it as a pipeline step before deploying the pipeline to it's ready to accept inference requests."
   ]
  },
  {
   "cell_type": "code",
   "execution_count": 6,
   "id": "f6a69610",
   "metadata": {},
   "outputs": [
    {
     "data": {
      "text/html": [
       "<table><tr><th>name</th> <td>simpleorchestrationpipelinedtzw</td></tr><tr><th>created</th> <td>2023-05-23 15:26:00.268667+00:00</td></tr><tr><th>last_updated</th> <td>2023-05-23 15:26:00.268667+00:00</td></tr><tr><th>deployed</th> <td>(none)</td></tr><tr><th>tags</th> <td></td></tr><tr><th>versions</th> <td>9a5afba3-c664-4d57-8c08-fc072d3f549c</td></tr><tr><th>steps</th> <td></td></tr></table>"
      ],
      "text/plain": [
       "{'name': 'simpleorchestrationpipelinedtzw', 'create_time': datetime.datetime(2023, 5, 23, 15, 26, 0, 268667, tzinfo=tzutc()), 'definition': \"[{'ModelInference': {'models': [{'name': 'simpleorchestrationmodeldtzw', 'version': '40d18c3f-ab32-4e1b-854e-bf46d6299bc4', 'sha': 'e22a0831aafd9917f3cc87a15ed267797f80e2afa12ad7d8810ca58f173b8cc6'}]}}]\"}"
      ]
     },
     "execution_count": 6,
     "metadata": {},
     "output_type": "execute_result"
    }
   ],
   "source": [
    "# Upload the model\n",
    "\n",
    "housing_model_control = wl.upload_model(model_name, model_file_name).configure()\n",
    "\n",
    "# Add the model as a pipeline step\n",
    "\n",
    "pipeline.add_model_step(housing_model_control)"
   ]
  },
  {
   "cell_type": "code",
   "execution_count": 7,
   "id": "a484796e",
   "metadata": {},
   "outputs": [
    {
<<<<<<< HEAD
<<<<<<< HEAD
=======
>>>>>>> a6d890e (updated with pipeline move)
     "name": "stdout",
     "output_type": "stream",
     "text": [
      "Waiting for deployment - this will take up to 45s ....................... ok\n"
     ]
    },
    {
<<<<<<< HEAD
=======
>>>>>>> 407e1e7 (moved orchestrations directory)
=======
>>>>>>> a6d890e (updated with pipeline move)
     "data": {
      "text/html": [
       "<table><tr><th>name</th> <td>simpleorchestrationpipelinedtzw</td></tr><tr><th>created</th> <td>2023-05-23 15:26:00.268667+00:00</td></tr><tr><th>last_updated</th> <td>2023-05-23 15:26:00.568944+00:00</td></tr><tr><th>deployed</th> <td>True</td></tr><tr><th>tags</th> <td></td></tr><tr><th>versions</th> <td>24f5d5e9-59fe-4440-9e08-78c0003226df, 9a5afba3-c664-4d57-8c08-fc072d3f549c</td></tr><tr><th>steps</th> <td>simpleorchestrationmodeldtzw</td></tr></table>"
      ],
      "text/plain": [
       "{'name': 'simpleorchestrationpipelinedtzw', 'create_time': datetime.datetime(2023, 5, 23, 15, 26, 0, 268667, tzinfo=tzutc()), 'definition': \"[{'ModelInference': {'models': [{'name': 'simpleorchestrationmodeldtzw', 'version': '40d18c3f-ab32-4e1b-854e-bf46d6299bc4', 'sha': 'e22a0831aafd9917f3cc87a15ed267797f80e2afa12ad7d8810ca58f173b8cc6'}]}}]\"}"
      ]
     },
     "execution_count": 7,
     "metadata": {},
     "output_type": "execute_result"
    }
   ],
   "source": [
    "#deploy the pipeline\n",
    "pipeline.deploy()"
   ]
  },
  {
   "attachments": {},
   "cell_type": "markdown",
   "id": "573bc347",
   "metadata": {},
   "source": [
    "## Create Connections\n",
    "\n",
    "We will create the data source connection via the Wallaroo client command `create_connection`.\n",
    "\n",
<<<<<<< HEAD
    "Connections are created with the Wallaroo client command [`create_connection`](https://docs.wallaroo.ai/wallaroo-developer-guides/wallaroo-sdk-guides/wallaroo-sdk-essentials-guide/wallaroo-sdk-essentials-ml-workload-orchestration/#create-orchestration) with the following parameters.\n",
=======
    "Connections are created with the Wallaroo client command [`create_connection`](https://staging.docs.wallaroo.ai/wallaroo-developer-guides/wallaroo-sdk-guides/wallaroo-sdk-essentials-guide/wallaroo-sdk-essentials-ml-workload-orchestration/#create-orchestration) with the following parameters.\n",
>>>>>>> 407e1e7 (moved orchestrations directory)
    "\n",
    "| Parameter | Type | Description |\n",
    "| --- | --- | ---|\n",
    "| **name** | string (Required) | The name of the connection. This must be unique - **if submitting the name of an existing** connection it will return an error. |\n",
    "| **type** | string (Required) | The user defined type of connection. |\n",
    "| **details** | Dict (Required) | User defined configuration details for the data connection.  These can be `{'username':'dataperson', 'password':'datapassword', 'port': 3339}`, or `{'token':'abcde123==', 'host':'example.com', 'port:1234'}`, or other user defined combinations.  |\n",
    "\n",
    "* **IMPORTANT NOTE**:  Data connections names **must** be unique.  Attempting to create a data connection with the same `name` as an existing data connection will result in an error.\n",
    "\n",
    "We'll also create a data connection named `inference_results_connection` with our helper function `get_connection` that will either create **or** retrieve a connection if it already exists.  From there we'll create out connections:  \n",
    "\n",
    "* `houseprice_arrow_table`: An Apache Arrow file stored on GitHub that will be used for our inference input.\n",
    "\n",
    "\n",
    "For this tutorial we'll use a helper function `get_connection` defined above that will either retrieve a new connection, or create a new one.  This will allow this tutorial to be run multiple times without issues."
   ]
  },
  {
   "cell_type": "code",
   "execution_count": 8,
   "id": "5c10ee71",
   "metadata": {},
   "outputs": [
    {
     "data": {
      "text/html": [
       "\n",
       "        <table>\n",
       "          <tr>\n",
       "            <th>Field</th>\n",
       "            <th>Value</th>\n",
       "          </tr>\n",
       "          <tr>\n",
<<<<<<< HEAD
<<<<<<< HEAD
<<<<<<< HEAD:workload-orchestrations/orchestration_sdk_simple_tutorial/data_connectors_and_orchestrators_simple_tutorial.ipynb
       "            <td>Name</td><td>external_inference_connectiondtzw</td>\n",
=======
       "            <td>Name</td><td>external_inference_connectionhpwu</td>\n",
>>>>>>> 1024d0c (prepared for 2023.2 release):pipeline-orchestrators/orchestration_sdk_simple_tutorial/data_connectors_and_orchestrators_simple_tutorial.ipynb
=======
       "            <td>Name</td><td>external_inference_connectionhpwu</td>\n",
>>>>>>> 407e1e7 (moved orchestrations directory)
=======
       "            <td>Name</td><td>external_inference_connectiondtzw</td>\n",
>>>>>>> a6d890e (updated with pipeline move)
       "          </tr>\n",
       "          <tr>\n",
       "            <td>Connection Type</td><td>HTTP</td>\n",
       "          </tr>\n",
       "          <tr>\n",
       "            <td>Details</td><td>*****</td>\n",
       "          </tr>\n",
       "          <tr>\n",
       "            <td>Created At</td><td>2023-05-23T15:26:24.613152+00:00</td>\n",
       "          </tr>\n",
       "          <tr>\n",
       "            <td>Linked Workspaces</td><td>[]</td>\n",
       "          </tr>\n",
       "        </table>\n",
       "        "
      ],
      "text/plain": [
       "<wallaroo.connection.Connection at 0x7fd3f7f36340>"
      ]
     },
     "execution_count": 8,
     "metadata": {},
     "output_type": "execute_result"
    }
   ],
   "source": [
<<<<<<< HEAD
    "wl.create_connection(inference_connection_name, inference_connection_type, inference_connection_argument)"
=======
    "get_connection(inference_connection_name, inference_connection_type, inference_connection_argument)"
>>>>>>> 407e1e7 (moved orchestrations directory)
   ]
  },
  {
   "attachments": {},
   "cell_type": "markdown",
   "id": "6caf6e64",
   "metadata": {},
   "source": [
    "### Get Connection by Name\n",
    "\n",
    "The Wallaroo client method `get_connection(name)` retrieves the connection that matches the `name` parameter.  We'll retrieve our connection and store it as `inference_source_connection`."
   ]
  },
  {
   "cell_type": "code",
   "execution_count": 9,
   "id": "6cc80cd3",
   "metadata": {},
   "outputs": [
    {
     "data": {
      "text/html": [
       "\n",
       "        <table>\n",
       "          <tr>\n",
       "            <th>Field</th>\n",
       "            <th>Value</th>\n",
       "          </tr>\n",
       "          <tr>\n",
<<<<<<< HEAD
<<<<<<< HEAD
<<<<<<< HEAD:workload-orchestrations/orchestration_sdk_simple_tutorial/data_connectors_and_orchestrators_simple_tutorial.ipynb
       "            <td>Name</td><td>external_inference_connectiondtzw</td>\n",
=======
       "            <td>Name</td><td>external_inference_connectionhpwu</td>\n",
>>>>>>> 1024d0c (prepared for 2023.2 release):pipeline-orchestrators/orchestration_sdk_simple_tutorial/data_connectors_and_orchestrators_simple_tutorial.ipynb
=======
       "            <td>Name</td><td>external_inference_connectionhpwu</td>\n",
>>>>>>> 407e1e7 (moved orchestrations directory)
=======
       "            <td>Name</td><td>external_inference_connectiondtzw</td>\n",
>>>>>>> a6d890e (updated with pipeline move)
       "          </tr>\n",
       "          <tr>\n",
       "            <td>Connection Type</td><td>HTTP</td>\n",
       "          </tr>\n",
       "          <tr>\n",
       "            <td>Details</td><td>*****</td>\n",
       "          </tr>\n",
       "          <tr>\n",
       "            <td>Created At</td><td>2023-05-23T15:26:24.613152+00:00</td>\n",
       "          </tr>\n",
       "          <tr>\n",
       "            <td>Linked Workspaces</td><td>[]</td>\n",
       "          </tr>\n",
       "        </table>\n",
       "        "
      ],
      "text/plain": [
       "<wallaroo.connection.Connection at 0x7fd3f89d1be0>"
      ]
     },
     "metadata": {},
     "output_type": "display_data"
    }
   ],
   "source": [
    "inference_source_connection = wl.get_connection(name=inference_connection_name)\n",
    "display(inference_source_connection)"
   ]
  },
  {
   "attachments": {},
   "cell_type": "markdown",
   "id": "884d3171",
   "metadata": {},
   "source": [
    "### Add Connection to Workspace\n",
    "\n",
    "The method Workspace [`add_connection(connection_name)`](https://docs.wallaroo.ai/wallaroo-developer-guides/wallaroo-sdk-guides/wallaroo-sdk-essentials-guide/wallaroo-sdk-essentials-dataconnections/#add-data-connection-to-workspace) adds a Data Connection to a workspace, and takes the following parameters.\n",
    "\n",
    "| Parameter | Type | Description |\n",
    "| --- | --- | ---|\n",
    "| **name** | string (Required) | The name of the Data Connection |\n",
    "\n",
    "We'll add both connections to our sample workspace, then list the connections available to the workspace to confirm."
   ]
  },
  {
   "cell_type": "code",
   "execution_count": 10,
   "id": "6d674d81",
   "metadata": {},
   "outputs": [
    {
     "data": {
      "text/html": [
       "<table><tr><th>name</th><th>connection type</th><th>details</th><th>created at</th><th>linked workspaces</th></tr><tr><td>external_inference_connectiondtzw</td><td>HTTP</td><td>*****</td><td>2023-05-23T15:26:24.613152+00:00</td><td>['simpleorchestrationworkspacedtzw']</td></tr></table>"
      ],
      "text/plain": [
       "[<wallaroo.connection.Connection at 0x7fd3f7e08b20>]"
      ]
     },
     "execution_count": 10,
     "metadata": {},
     "output_type": "execute_result"
    }
   ],
   "source": [
    "workspace.add_connection(inference_connection_name)\n",
    "workspace.list_connections()"
   ]
  },
  {
   "attachments": {},
   "cell_type": "markdown",
   "id": "b8d44dc7",
   "metadata": {},
   "source": [
    "## Wallaroo ML Workload Orchestration Example\n",
    "\n",
<<<<<<< HEAD
    "With the pipeline deployed and our connections set, we will now generate our ML Workload Orchestration.  See the [Wallaroo ML Workload Orchestrations guide](https://docs.wallaroo.ai/wallaroo-developer-guides/wallaroo-sdk-guides/wallaroo-sdk-essentials-guide/wallaroo-sdk-essentials-ml-workload-orchestration/) for full details.\n",
=======
    "With the pipeline deployed and our connections set, we will now generate our ML Workload Orchestration.  See the [Wallaroo ML Workload Orchestrations guide](https://staging.docs.wallaroo.ai/wallaroo-developer-guides/wallaroo-sdk-guides/wallaroo-sdk-essentials-guide/wallaroo-sdk-essentials-ml-workload-orchestration/) for full details.\n",
>>>>>>> 407e1e7 (moved orchestrations directory)
    "\n",
    "Orchestrations are uploaded to the Wallaroo instance as a ZIP file with the following requirements:\n",
    "\n",
    "| Parameter | Type | Description |\n",
    "|---|---|---|\n",
    "| **User Code** | (*Required*) Python script as `.py` files | If `main.py` exists, then that will be used as the task entrypoint. Otherwise, the **first** `main.py` found in any subdirectory will be used as the entrypoint. |\n",
    "| Python Library Requirements | (*Optional*) `requirements.txt` file in the [requirements file format](https://pip.pypa.io/en/stable/reference/requirements-file-format/).  A standard Python requirements.txt for any dependencies to be provided in the task environment. The Wallaroo SDK will already be present and **should not be included in the requirements.txt**. Multiple requirements.txt files are not allowed. |\n",
    "| Other artifacts | &nbsp; | Other artifacts such as files, data, or code to support the orchestration.\n",
    "\n",
    "For our example, our orchestration will:\n",
    "\n",
    "1. Use the `inference_results_connection` to open a HTTP Get connection to the inference data file and use it in an inference request in the deployed pipeline.\n",
    "1. Submit the inference results to the location specified in the `external_inference_connection`.\n",
    "\n",
    "This sample script is stored in `remote_inference/main.py` with an empty `requirements.txt` file, and packaged into the orchestration as `./remote_inference/remote_inference.zip`.  We'll display the steps in uploading the orchestration to the Wallaroo instance.\n",
    "\n",
    "Note that the orchestration assumes the pipeline is already deployed."
   ]
  },
  {
   "attachments": {},
   "cell_type": "markdown",
   "id": "c54d9602",
   "metadata": {},
   "source": [
    "### Upload the Orchestration\n",
    "\n",
    "Orchestrations are uploaded with the Wallaroo client `upload_orchestration(path)` method with the following parameters.\n",
    "\n",
    "| Parameter | Type | Description |\n",
    "| --- | --- | ---|\n",
    "| **path** | string (Required) | The path to the ZIP file to be uploaded. |\n",
    "\n",
    "Once uploaded, the deployment will be prepared and any requirements will be downloaded and installed.\n",
    "\n",
    "\n",
    "For this example, the orchestration `./remote_inference/remote_inference.zip` will be uploaded and saved to the variable `orchestration`.\n",
    "\n",
    "### Orchestration Status\n",
    "\n",
    "We will loop until the uploaded orchestration's `status` displays `ready`."
   ]
  },
  {
   "cell_type": "code",
   "execution_count": 11,
   "id": "00e6e6e5",
   "metadata": {},
   "outputs": [
    {
     "name": "stdout",
     "output_type": "stream",
     "text": [
      "pending_packaging\n",
      "pending_packaging\n",
      "packaging\n",
      "packaging\n",
      "packaging\n",
      "packaging\n",
      "packaging\n",
      "packaging\n",
<<<<<<< HEAD
<<<<<<< HEAD
      "packaging\n",
=======
>>>>>>> 407e1e7 (moved orchestrations directory)
=======
      "packaging\n",
>>>>>>> a6d890e (updated with pipeline move)
      "packaging\n"
     ]
    }
   ],
   "source": [
    "orchestration = wl.upload_orchestration(path=\"./remote_inference/remote_inference.zip\")\n",
    "\n",
    "while orchestration.status() != 'ready':\n",
    "    print(orchestration.status())\n",
    "    time.sleep(5)"
   ]
  },
  {
   "cell_type": "code",
   "execution_count": 12,
   "id": "45beade8",
   "metadata": {},
   "outputs": [
    {
     "data": {
      "text/html": [
       "<table><tr><th>id</th><th>name</th><th>status</th><th>filename</th><th>sha</th><th>created at</th><th>updated at</th></tr><tr><td>701c991a-a716-4bca-aa69-afd957ff189e</td><td>None</td><td>ready</td><td>remote_inference.zip</td><td>b4593d...d5a86f</td><td>2023-23-May 15:26:24</td><td>2023-23-May 15:27:13</td></tr></table>"
      ],
      "text/plain": [
       "[<wallaroo.orchestration.Orchestration at 0x7fd3f7f36d00>]"
      ]
     },
     "execution_count": 12,
     "metadata": {},
     "output_type": "execute_result"
    }
   ],
   "source": [
    "wl.list_orchestrations()"
   ]
  },
  {
   "attachments": {},
   "cell_type": "markdown",
   "id": "7f394154",
   "metadata": {},
   "source": [
    "### Upload Orchestration via File Object\n",
    "\n",
    "Another method to upload the orchestration is as a file object.  For that, we will open the zip file as a binary, then upload it using the `bytes_buffer` parameter to specify the file object, and the `file_name` to give it a new name."
   ]
  },
  {
   "cell_type": "code",
   "execution_count": 13,
   "id": "4cebe286",
   "metadata": {},
   "outputs": [
    {
     "data": {
      "text/html": [
       "\n",
       "        <table>\n",
       "          <tr>\n",
       "            <th>Field</th>\n",
       "            <th>Value</th>\n",
       "          </tr>\n",
       "          <tr>\n",
       "            <td>ID</td><td>7683f0f9-13fa-4257-840a-8e1cf8b12089</td>\n",
       "          </tr>\n",
       "          <tr>\n",
       "            <td>Name</td><td>uploadedbytesdemo</td>\n",
       "          </tr>\n",
       "          <tr>\n",
       "            <td>File Name</td><td>inferencetest.zip</td>\n",
       "          </tr>\n",
       "          <tr>\n",
       "            <td>SHA</td><td>b4593d6084e07e9ad1b57367258ca425d7f290540ab4378b8cba168b91d5a86f</td>\n",
       "          </tr>\n",
       "          <tr>\n",
       "            <td>Status</td><td>pending_packaging</td>\n",
       "          </tr>\n",
       "          <tr>\n",
       "            <td>Created At</td><td>2023-23-May 15:27:15</td>\n",
       "          </tr>\n",
       "          <tr>\n",
       "            <td>Updated At</td><td>2023-23-May 15:27:15</td>\n",
       "          </tr>\n",
       "        </table>\n",
       "        "
      ],
      "text/plain": [
       "<wallaroo.orchestration.Orchestration at 0x7fd3f7eabca0>"
      ]
     },
     "execution_count": 13,
     "metadata": {},
     "output_type": "execute_result"
    }
   ],
   "source": [
    "zipfile = open(\"./remote_inference/remote_inference.zip\", \"rb\").read()\n",
    "\n",
    "wl.upload_orchestration(bytes_buffer=zipfile, file_name=\"inferencetest.zip\", name=\"uploadedbytesdemo\")"
   ]
  },
  {
   "cell_type": "code",
   "execution_count": 14,
   "id": "48ff89c0",
   "metadata": {},
   "outputs": [
    {
     "data": {
      "text/html": [
       "<table><tr><th>id</th><th>name</th><th>status</th><th>filename</th><th>sha</th><th>created at</th><th>updated at</th></tr><tr><td>701c991a-a716-4bca-aa69-afd957ff189e</td><td>None</td><td>ready</td><td>remote_inference.zip</td><td>b4593d...d5a86f</td><td>2023-23-May 15:26:24</td><td>2023-23-May 15:27:13</td></tr><tr><td>7683f0f9-13fa-4257-840a-8e1cf8b12089</td><td>uploadedbytesdemo</td><td>pending_packaging</td><td>inferencetest.zip</td><td>b4593d...d5a86f</td><td>2023-23-May 15:27:15</td><td>2023-23-May 15:27:15</td></tr></table>"
      ],
      "text/plain": [
       "[<wallaroo.orchestration.Orchestration at 0x7fd3f7e89c10>,\n",
       " <wallaroo.orchestration.Orchestration at 0x7fd3f7e89b50>]"
      ]
     },
     "execution_count": 14,
     "metadata": {},
     "output_type": "execute_result"
    }
   ],
   "source": [
    "wl.list_orchestrations()"
   ]
  },
  {
   "attachments": {},
   "cell_type": "markdown",
<<<<<<< HEAD
   "id": "7f394154",
   "metadata": {},
   "source": [
    "### Upload Orchestration via File Object\n",
    "\n",
    "Once an Orchestration has the status `ready`, it can be run as a task.  Tasks have three run options.\n",
    "\n",
    "| Type | SDK Call |  How triggered |\n",
    "|---|---|:---|\n",
    "| Once       | `orchestration.run_once(name, json_args, timeout)` | Task runs once and exits.| Single batch, experimentation. |\n",
    "| Scheduled  | `orchestration.run_scheduled(name, schedule, timeout, json_args)` | User provides schedule. Task runs exits whenever schedule dictates. | Recurrent batch. |"
   ]
  },
  {
   "attachments": {},
   "cell_type": "markdown",
   "id": "de1423fb",
   "metadata": {},
   "source": [
    "### Run Task Once\n",
    "\n",
    "We'll do both a Run Once task and generate our Run Once Task from our orchestration.\n",
    "\n",
    "Tasks are generated and run once with the Orchestration `run_once(name, json_args, timeout)` method.  Any arguments for the orchestration are passed in as a `Dict`.  If there are no arguments, then an empty set `{}` is passed."
   ]
  },
  {
   "cell_type": "code",
<<<<<<< HEAD:workload-orchestrations/orchestration_sdk_simple_tutorial/data_connectors_and_orchestrators_simple_tutorial.ipynb
<<<<<<< HEAD:workload-orchestrations/orchestration_sdk_simple_tutorial/data_connectors_and_orchestrators_simple_tutorial.ipynb
<<<<<<< HEAD:workload-orchestrations/orchestration_sdk_simple_tutorial/data_connectors_and_orchestrators_simple_tutorial.ipynb
   "execution_count": 13,
   "id": "4cebe286",
=======
   "execution_count": 38,
=======
   "execution_count": 73,
>>>>>>> f98e822 (connection and orchestrations updates.):pipeline-orchestrators/orchestration_sdk_simple_tutorial/data_connectors_and_orchestrators_simple_tutorial.ipynb
   "id": "67eac3ea",
   "metadata": {},
   "outputs": [
    {
     "data": {
      "text/html": [
       "\n",
       "        <table>\n",
       "          <tr>\n",
       "            <th>Field</th>\n",
       "            <th>Value</th>\n",
       "          </tr>\n",
       "          <tr>\n",
       "            <td>ID</td><td>096aaae5-d599-47e4-a5fd-6bcb5f8aeaca</td>\n",
       "          </tr>\n",
       "          <tr>\n",
       "            <td>Name</td><td>None</td>\n",
       "          </tr>\n",
       "          <tr>\n",
       "            <td>File Name</td><td>remote_inference.zip</td>\n",
       "          </tr>\n",
       "          <tr>\n",
       "            <td>SHA</td><td>f93de52bea1868736f673fda2eda667665c5fd760dc182df57bb38547a34231d</td>\n",
       "          </tr>\n",
       "          <tr>\n",
       "            <td>Status</td><td>ready</td>\n",
       "          </tr>\n",
       "          <tr>\n",
       "            <td>Created At</td><td>2023-17-May 17:11:38</td>\n",
       "          </tr>\n",
       "          <tr>\n",
       "            <td>Updated At</td><td>2023-17-May 17:12:20</td>\n",
       "          </tr>\n",
       "        </table>\n",
       "        "
      ],
      "text/plain": [
       "<wallaroo.orchestration.Orchestration at 0x128d9d850>"
      ]
     },
     "execution_count": 73,
     "metadata": {},
     "output_type": "execute_result"
    }
   ],
   "source": [
    "orchestration"
   ]
  },
  {
   "cell_type": "code",
   "execution_count": 74,
=======
   "execution_count": 42,
>>>>>>> 1024d0c (prepared for 2023.2 release):pipeline-orchestrators/orchestration_sdk_simple_tutorial/data_connectors_and_orchestrators_simple_tutorial.ipynb
   "id": "e53d7731",
>>>>>>> 45466cc (updated task run once parameters):pipeline-orchestrators/orchestration_sdk_simple_tutorial/data_connectors_and_orchestrators_simple_tutorial.ipynb
   "metadata": {},
<<<<<<< HEAD:workload-orchestrations/orchestration_sdk_simple_tutorial/data_connectors_and_orchestrators_simple_tutorial.ipynb
   "outputs": [
    {
     "data": {
      "text/html": [
       "\n",
       "        <table>\n",
       "          <tr>\n",
       "            <th>Field</th>\n",
       "            <th>Value</th>\n",
       "          </tr>\n",
       "          <tr>\n",
<<<<<<< HEAD:workload-orchestrations/orchestration_sdk_simple_tutorial/data_connectors_and_orchestrators_simple_tutorial.ipynb
       "            <td>ID</td><td>7683f0f9-13fa-4257-840a-8e1cf8b12089</td>\n",
=======
       "            <td>ID</td><td>349f6e06-11e5-4a00-9526-449201367d76</td>\n",
       "          </tr>\n",
       "          <tr>\n",
       "            <td>Name</td><td>simpletaskdemo</td>\n",
>>>>>>> 45466cc (updated task run once parameters):pipeline-orchestrators/orchestration_sdk_simple_tutorial/data_connectors_and_orchestrators_simple_tutorial.ipynb
       "          </tr>\n",
       "          <tr>\n",
       "            <td>Name</td><td>uploadedbytesdemo</td>\n",
       "          </tr>\n",
       "          <tr>\n",
       "            <td>File Name</td><td>inferencetest.zip</td>\n",
       "          </tr>\n",
       "          <tr>\n",
<<<<<<< HEAD:workload-orchestrations/orchestration_sdk_simple_tutorial/data_connectors_and_orchestrators_simple_tutorial.ipynb
       "            <td>SHA</td><td>b4593d6084e07e9ad1b57367258ca425d7f290540ab4378b8cba168b91d5a86f</td>\n",
       "          </tr>\n",
       "          <tr>\n",
       "            <td>Status</td><td>pending_packaging</td>\n",
       "          </tr>\n",
       "          <tr>\n",
       "            <td>Created At</td><td>2023-23-May 15:27:15</td>\n",
       "          </tr>\n",
       "          <tr>\n",
       "            <td>Updated At</td><td>2023-23-May 15:27:15</td>\n",
=======
       "            <td>Created At</td><td>2023-17-May 15:05:29</td>\n",
       "          </tr>\n",
       "          <tr>\n",
       "            <td>Updated At</td><td>2023-17-May 15:05:29</td>\n",
>>>>>>> 45466cc (updated task run once parameters):pipeline-orchestrators/orchestration_sdk_simple_tutorial/data_connectors_and_orchestrators_simple_tutorial.ipynb
       "          </tr>\n",
       "        </table>\n",
       "        "
      ],
      "text/plain": [
<<<<<<< HEAD:workload-orchestrations/orchestration_sdk_simple_tutorial/data_connectors_and_orchestrators_simple_tutorial.ipynb
       "<wallaroo.orchestration.Orchestration at 0x7fd3f7eabca0>"
      ]
     },
     "execution_count": 13,
=======
       "<wallaroo.task.Task at 0x17f720910>"
      ]
     },
     "execution_count": 45,
>>>>>>> 45466cc (updated task run once parameters):pipeline-orchestrators/orchestration_sdk_simple_tutorial/data_connectors_and_orchestrators_simple_tutorial.ipynb
     "metadata": {},
     "output_type": "execute_result"
    }
   ],
=======
   "outputs": [],
>>>>>>> f98e822 (connection and orchestrations updates.):pipeline-orchestrators/orchestration_sdk_simple_tutorial/data_connectors_and_orchestrators_simple_tutorial.ipynb
   "source": [
    "zipfile = open(\"./remote_inference/remote_inference.zip\", \"rb\").read()\n",
    "\n",
    "wl.upload_orchestration(bytes_buffer=zipfile, file_name=\"inferencetest.zip\", name=\"uploadedbytesdemo\")"
   ]
  },
  {
   "cell_type": "code",
   "execution_count": 14,
   "id": "48ff89c0",
   "metadata": {},
   "outputs": [
    {
     "data": {
      "text/html": [
       "<table><tr><th>id</th><th>name</th><th>status</th><th>filename</th><th>sha</th><th>created at</th><th>updated at</th></tr><tr><td>701c991a-a716-4bca-aa69-afd957ff189e</td><td>None</td><td>ready</td><td>remote_inference.zip</td><td>b4593d...d5a86f</td><td>2023-23-May 15:26:24</td><td>2023-23-May 15:27:13</td></tr><tr><td>7683f0f9-13fa-4257-840a-8e1cf8b12089</td><td>uploadedbytesdemo</td><td>pending_packaging</td><td>inferencetest.zip</td><td>b4593d...d5a86f</td><td>2023-23-May 15:27:15</td><td>2023-23-May 15:27:15</td></tr></table>"
      ],
      "text/plain": [
       "[<wallaroo.orchestration.Orchestration at 0x7fd3f7e89c10>,\n",
       " <wallaroo.orchestration.Orchestration at 0x7fd3f7e89b50>]"
      ]
     },
     "execution_count": 14,
     "metadata": {},
     "output_type": "execute_result"
    }
   ],
   "source": [
    "wl.list_orchestrations()"
   ]
  },
  {
   "attachments": {},
   "cell_type": "markdown",
=======
>>>>>>> 407e1e7 (moved orchestrations directory)
   "id": "bf028e54",
   "metadata": {},
   "source": [
    "## Task Management Tutorial\n",
    "\n",
    "Once an Orchestration has the status `ready`, it can be run as a task.  Tasks have three run options.\n",
    "\n",
    "| Type | SDK Call |  How triggered |\n",
    "|---|---|:---|\n",
    "| Once       | `orchestration.run_once(name, json_args, timeout)` | Task runs once and exits.| Single batch, experimentation. |\n",
    "| Scheduled  | `orchestration.run_scheduled(name, schedule, timeout, json_args)` | User provides schedule. Task runs exits whenever schedule dictates. | Recurrent batch. |"
   ]
  },
  {
   "attachments": {},
   "cell_type": "markdown",
   "id": "de1423fb",
   "metadata": {},
   "source": [
    "### Run Task Once\n",
    "\n",
    "We'll do both a Run Once task and generate our Run Once Task from our orchestration.\n",
    "\n",
    "Tasks are generated and run once with the Orchestration `run_once(name, json_args, timeout)` method.  Any arguments for the orchestration are passed in as a `Dict`.  If there are no arguments, then an empty set `{}` is passed."
   ]
  },
  {
   "cell_type": "code",
<<<<<<< HEAD
<<<<<<< HEAD
   "execution_count": 15,
=======
   "execution_count": 42,
>>>>>>> 407e1e7 (moved orchestrations directory)
=======
   "execution_count": 15,
>>>>>>> a6d890e (updated with pipeline move)
   "id": "e53d7731",
   "metadata": {},
   "outputs": [],
   "source": [
    "# Example: run once\n",
    "\n",
    "import datetime\n",
    "task_start = datetime.datetime.now()\n",
<<<<<<< HEAD
<<<<<<< HEAD:workload-orchestrations/orchestration_sdk_simple_tutorial/data_connectors_and_orchestrators_simple_tutorial.ipynb
<<<<<<< HEAD:workload-orchestrations/orchestration_sdk_simple_tutorial/data_connectors_and_orchestrators_simple_tutorial.ipynb
=======
>>>>>>> 1024d0c (prepared for 2023.2 release):pipeline-orchestrators/orchestration_sdk_simple_tutorial/data_connectors_and_orchestrators_simple_tutorial.ipynb
=======
>>>>>>> 407e1e7 (moved orchestrations directory)
    "task = orchestration.run_once(name=\"simpletaskdemo\", \n",
    "                              json_args={\"workspace_name\": workspace_name, \n",
    "                                         \"pipeline_name\": pipeline_name,\n",
    "                                         \"connection_name\": inference_connection_name\n",
    "                                            })"
<<<<<<< HEAD
<<<<<<< HEAD:workload-orchestrations/orchestration_sdk_simple_tutorial/data_connectors_and_orchestrators_simple_tutorial.ipynb
=======
    "task = orchestration.run_once(name=\"simpletaskdemo\", json_args={})"
>>>>>>> 45466cc (updated task run once parameters):pipeline-orchestrators/orchestration_sdk_simple_tutorial/data_connectors_and_orchestrators_simple_tutorial.ipynb
=======
>>>>>>> 1024d0c (prepared for 2023.2 release):pipeline-orchestrators/orchestration_sdk_simple_tutorial/data_connectors_and_orchestrators_simple_tutorial.ipynb
=======
>>>>>>> 407e1e7 (moved orchestrations directory)
   ]
  },
  {
   "attachments": {},
   "cell_type": "markdown",
   "id": "0dcbc1d4",
   "metadata": {},
   "source": [
    "### Task Status\n",
    "\n",
    "The list of tasks in the Wallaroo instance is retrieves through the Wallaroo Client `list_tasks()` method.  This returns an array list of the following.\n",
    "\n",
    "| Parameter | Type | Description |\n",
    "| --- | --- | ---|\n",
    "| **id** | string | The UUID identifier for the task. |\n",
    "| **last run status** | string | The last reported status the task.  Values are: <br><ul><li>`pending`: The task has not been started.</li><li>`started`: The task has been scheduled to execute.</li><li>`pending_kill`: The task kill command has been issued and the task is scheduled to be stopped.</li></ul> |\n",
    "| **type** | string | The type of the task.  Values are: <br><ul><li>`Temporary Run`: The task runs once then stop.</li><li>`Scheduled Run`: The task repeats on a `cron` like schedule.</li></ul> |\n",
    "| **created at** | DateTime | The date and time the task was started. |\n",
    "| **updated at** | DateTime | The date and time the task was updated. |\n",
    "\n",
    "For this example, the status of the previously created task will be generated, then looped until it has reached status `started`."
   ]
  },
  {
   "cell_type": "code",
<<<<<<< HEAD
<<<<<<< HEAD
<<<<<<< HEAD:workload-orchestrations/orchestration_sdk_simple_tutorial/data_connectors_and_orchestrators_simple_tutorial.ipynb
<<<<<<< HEAD:workload-orchestrations/orchestration_sdk_simple_tutorial/data_connectors_and_orchestrators_simple_tutorial.ipynb
<<<<<<< HEAD:workload-orchestrations/orchestration_sdk_simple_tutorial/data_connectors_and_orchestrators_simple_tutorial.ipynb
=======
>>>>>>> a6d890e (updated with pipeline move)
   "execution_count": 16,
   "id": "a05a299f",
   "metadata": {},
   "outputs": [
    {
     "data": {
      "text/plain": [
       "'pending'"
      ]
     },
     "metadata": {},
     "output_type": "display_data"
    },
    {
     "data": {
      "text/plain": [
       "'pending'"
      ]
     },
     "metadata": {},
     "output_type": "display_data"
    },
    {
     "data": {
      "text/plain": [
       "'pending'"
      ]
     },
     "metadata": {},
     "output_type": "display_data"
    }
   ],
=======
   "execution_count": 46,
   "id": "a05a299f",
   "metadata": {},
   "outputs": [],
>>>>>>> 45466cc (updated task run once parameters):pipeline-orchestrators/orchestration_sdk_simple_tutorial/data_connectors_and_orchestrators_simple_tutorial.ipynb
=======
   "execution_count": 75,
=======
   "execution_count": 43,
>>>>>>> 1024d0c (prepared for 2023.2 release):pipeline-orchestrators/orchestration_sdk_simple_tutorial/data_connectors_and_orchestrators_simple_tutorial.ipynb
=======
   "execution_count": 43,
>>>>>>> 407e1e7 (moved orchestrations directory)
   "id": "a05a299f",
   "metadata": {},
   "outputs": [
    {
     "data": {
      "text/plain": [
       "'pending'"
      ]
     },
     "metadata": {},
     "output_type": "display_data"
    },
    {
     "data": {
      "text/plain": [
       "'pending'"
      ]
     },
     "metadata": {},
     "output_type": "display_data"
    },
    {
     "data": {
      "text/plain": [
       "'pending'"
      ]
     },
     "metadata": {},
     "output_type": "display_data"
    }
   ],
<<<<<<< HEAD
>>>>>>> f98e822 (connection and orchestrations updates.):pipeline-orchestrators/orchestration_sdk_simple_tutorial/data_connectors_and_orchestrators_simple_tutorial.ipynb
=======
>>>>>>> 407e1e7 (moved orchestrations directory)
   "source": [
    "while task.status() != \"started\":\n",
    "    display(task.status())\n",
    "    time.sleep(5)"
   ]
  },
  {
   "attachments": {},
   "cell_type": "markdown",
   "id": "7bd6a79a",
   "metadata": {},
   "source": [
    "### Task Results\n",
    "\n",
    "We can view the inferences from our logs and verify that new entries were added from our task.  We can do that with the task `logs()` method.\n",
    "\n",
    "\n",
    "In our case, we'll assume the task once started takes about 1 minute to run (deploy the pipeline, run the inference, undeploy the pipeline).  We'll add in a wait of 1 minute, then display the logs during the time period the task was running."
   ]
  },
  {
   "cell_type": "code",
<<<<<<< HEAD
<<<<<<< HEAD
<<<<<<< HEAD:workload-orchestrations/orchestration_sdk_simple_tutorial/data_connectors_and_orchestrators_simple_tutorial.ipynb
<<<<<<< HEAD:workload-orchestrations/orchestration_sdk_simple_tutorial/data_connectors_and_orchestrators_simple_tutorial.ipynb
<<<<<<< HEAD:workload-orchestrations/orchestration_sdk_simple_tutorial/data_connectors_and_orchestrators_simple_tutorial.ipynb
   "execution_count": 17,
=======
   "execution_count": 47,
>>>>>>> 45466cc (updated task run once parameters):pipeline-orchestrators/orchestration_sdk_simple_tutorial/data_connectors_and_orchestrators_simple_tutorial.ipynb
=======
   "execution_count": 76,
>>>>>>> f98e822 (connection and orchestrations updates.):pipeline-orchestrators/orchestration_sdk_simple_tutorial/data_connectors_and_orchestrators_simple_tutorial.ipynb
=======
   "execution_count": 44,
>>>>>>> 1024d0c (prepared for 2023.2 release):pipeline-orchestrators/orchestration_sdk_simple_tutorial/data_connectors_and_orchestrators_simple_tutorial.ipynb
=======
   "execution_count": 44,
>>>>>>> 407e1e7 (moved orchestrations directory)
=======
   "execution_count": 17,
>>>>>>> a6d890e (updated with pipeline move)
   "id": "818b5f3d",
   "metadata": {},
   "outputs": [
    {
     "data": {
      "text/plain": [
<<<<<<< HEAD
<<<<<<< HEAD
<<<<<<< HEAD:workload-orchestrations/orchestration_sdk_simple_tutorial/data_connectors_and_orchestrators_simple_tutorial.ipynb
<<<<<<< HEAD:workload-orchestrations/orchestration_sdk_simple_tutorial/data_connectors_and_orchestrators_simple_tutorial.ipynb
<<<<<<< HEAD:workload-orchestrations/orchestration_sdk_simple_tutorial/data_connectors_and_orchestrators_simple_tutorial.ipynb
       "datetime.datetime(2023, 5, 23, 15, 28, 30, 718361)"
=======
       "datetime.datetime(2023, 5, 17, 9, 6, 36, 329100)"
>>>>>>> 45466cc (updated task run once parameters):pipeline-orchestrators/orchestration_sdk_simple_tutorial/data_connectors_and_orchestrators_simple_tutorial.ipynb
=======
       "datetime.datetime(2023, 5, 17, 11, 13, 42, 202664)"
>>>>>>> f98e822 (connection and orchestrations updates.):pipeline-orchestrators/orchestration_sdk_simple_tutorial/data_connectors_and_orchestrators_simple_tutorial.ipynb
=======
       "datetime.datetime(2023, 5, 19, 14, 53, 5, 949665)"
>>>>>>> 1024d0c (prepared for 2023.2 release):pipeline-orchestrators/orchestration_sdk_simple_tutorial/data_connectors_and_orchestrators_simple_tutorial.ipynb
=======
       "datetime.datetime(2023, 5, 19, 14, 53, 5, 949665)"
>>>>>>> 407e1e7 (moved orchestrations directory)
=======
       "datetime.datetime(2023, 5, 23, 15, 28, 30, 718361)"
>>>>>>> a6d890e (updated with pipeline move)
      ]
     },
     "metadata": {},
     "output_type": "display_data"
    },
    {
     "name": "stderr",
     "output_type": "stream",
     "text": [
      "Warning: Pipeline log size limit exceeded. Please request logs using export_logs"
     ]
    },
    {
     "data": {
      "text/html": [
       "<div>\n",
       "<style scoped>\n",
       "    .dataframe tbody tr th:only-of-type {\n",
       "        vertical-align: middle;\n",
       "    }\n",
       "\n",
       "    .dataframe tbody tr th {\n",
       "        vertical-align: top;\n",
       "    }\n",
       "\n",
       "    .dataframe thead th {\n",
       "        text-align: right;\n",
       "    }\n",
       "</style>\n",
       "<table border=\"1\" class=\"dataframe\">\n",
       "  <thead>\n",
       "    <tr style=\"text-align: right;\">\n",
       "      <th></th>\n",
       "      <th>time</th>\n",
       "      <th>in.tensor</th>\n",
       "      <th>out.variable</th>\n",
       "      <th>check_failures</th>\n",
       "    </tr>\n",
       "  </thead>\n",
       "  <tbody>\n",
       "    <tr>\n",
       "      <th>0</th>\n",
<<<<<<< HEAD
<<<<<<< HEAD
<<<<<<< HEAD:workload-orchestrations/orchestration_sdk_simple_tutorial/data_connectors_and_orchestrators_simple_tutorial.ipynb
<<<<<<< HEAD:workload-orchestrations/orchestration_sdk_simple_tutorial/data_connectors_and_orchestrators_simple_tutorial.ipynb
<<<<<<< HEAD:workload-orchestrations/orchestration_sdk_simple_tutorial/data_connectors_and_orchestrators_simple_tutorial.ipynb
       "      <td>2023-05-23 15:27:28.001</td>\n",
=======
       "      <td>2023-05-17 15:05:36.746</td>\n",
>>>>>>> 45466cc (updated task run once parameters):pipeline-orchestrators/orchestration_sdk_simple_tutorial/data_connectors_and_orchestrators_simple_tutorial.ipynb
=======
       "      <td>2023-05-17 17:12:43.208</td>\n",
>>>>>>> f98e822 (connection and orchestrations updates.):pipeline-orchestrators/orchestration_sdk_simple_tutorial/data_connectors_and_orchestrators_simple_tutorial.ipynb
=======
       "      <td>2023-05-19 20:52:02.571</td>\n",
>>>>>>> 1024d0c (prepared for 2023.2 release):pipeline-orchestrators/orchestration_sdk_simple_tutorial/data_connectors_and_orchestrators_simple_tutorial.ipynb
=======
       "      <td>2023-05-19 20:52:02.571</td>\n",
>>>>>>> 407e1e7 (moved orchestrations directory)
=======
       "      <td>2023-05-23 15:27:28.001</td>\n",
>>>>>>> a6d890e (updated with pipeline move)
       "      <td>[4.0, 2.5, 2900.0, 5505.0, 2.0, 0.0, 0.0, 3.0, 8.0, 2900.0, 0.0, 47.6063, -122.02, 2970.0, 5251.0, 12.0, 0.0, 0.0]</td>\n",
       "      <td>[718013.75]</td>\n",
       "      <td>0</td>\n",
       "    </tr>\n",
       "    <tr>\n",
       "      <th>1</th>\n",
<<<<<<< HEAD
<<<<<<< HEAD
<<<<<<< HEAD:workload-orchestrations/orchestration_sdk_simple_tutorial/data_connectors_and_orchestrators_simple_tutorial.ipynb
<<<<<<< HEAD:workload-orchestrations/orchestration_sdk_simple_tutorial/data_connectors_and_orchestrators_simple_tutorial.ipynb
<<<<<<< HEAD:workload-orchestrations/orchestration_sdk_simple_tutorial/data_connectors_and_orchestrators_simple_tutorial.ipynb
       "      <td>2023-05-23 15:27:28.001</td>\n",
=======
       "      <td>2023-05-17 15:05:36.746</td>\n",
>>>>>>> 45466cc (updated task run once parameters):pipeline-orchestrators/orchestration_sdk_simple_tutorial/data_connectors_and_orchestrators_simple_tutorial.ipynb
=======
       "      <td>2023-05-17 17:12:43.208</td>\n",
>>>>>>> f98e822 (connection and orchestrations updates.):pipeline-orchestrators/orchestration_sdk_simple_tutorial/data_connectors_and_orchestrators_simple_tutorial.ipynb
=======
       "      <td>2023-05-19 20:52:02.571</td>\n",
>>>>>>> 1024d0c (prepared for 2023.2 release):pipeline-orchestrators/orchestration_sdk_simple_tutorial/data_connectors_and_orchestrators_simple_tutorial.ipynb
=======
       "      <td>2023-05-19 20:52:02.571</td>\n",
>>>>>>> 407e1e7 (moved orchestrations directory)
=======
       "      <td>2023-05-23 15:27:28.001</td>\n",
>>>>>>> a6d890e (updated with pipeline move)
       "      <td>[2.0, 2.5, 2170.0, 6361.0, 1.0, 0.0, 2.0, 3.0, 8.0, 2170.0, 0.0, 47.7109, -122.017, 2310.0, 7419.0, 6.0, 0.0, 0.0]</td>\n",
       "      <td>[615094.56]</td>\n",
       "      <td>0</td>\n",
       "    </tr>\n",
       "    <tr>\n",
       "      <th>2</th>\n",
<<<<<<< HEAD
<<<<<<< HEAD
<<<<<<< HEAD:workload-orchestrations/orchestration_sdk_simple_tutorial/data_connectors_and_orchestrators_simple_tutorial.ipynb
<<<<<<< HEAD:workload-orchestrations/orchestration_sdk_simple_tutorial/data_connectors_and_orchestrators_simple_tutorial.ipynb
<<<<<<< HEAD:workload-orchestrations/orchestration_sdk_simple_tutorial/data_connectors_and_orchestrators_simple_tutorial.ipynb
       "      <td>2023-05-23 15:27:28.001</td>\n",
=======
       "      <td>2023-05-17 15:05:36.746</td>\n",
>>>>>>> 45466cc (updated task run once parameters):pipeline-orchestrators/orchestration_sdk_simple_tutorial/data_connectors_and_orchestrators_simple_tutorial.ipynb
=======
       "      <td>2023-05-17 17:12:43.208</td>\n",
>>>>>>> f98e822 (connection and orchestrations updates.):pipeline-orchestrators/orchestration_sdk_simple_tutorial/data_connectors_and_orchestrators_simple_tutorial.ipynb
=======
       "      <td>2023-05-19 20:52:02.571</td>\n",
>>>>>>> 1024d0c (prepared for 2023.2 release):pipeline-orchestrators/orchestration_sdk_simple_tutorial/data_connectors_and_orchestrators_simple_tutorial.ipynb
=======
       "      <td>2023-05-19 20:52:02.571</td>\n",
>>>>>>> 407e1e7 (moved orchestrations directory)
=======
       "      <td>2023-05-23 15:27:28.001</td>\n",
>>>>>>> a6d890e (updated with pipeline move)
       "      <td>[3.0, 2.5, 1300.0, 812.0, 2.0, 0.0, 0.0, 3.0, 8.0, 880.0, 420.0, 47.5893, -122.317, 1300.0, 824.0, 6.0, 0.0, 0.0]</td>\n",
       "      <td>[448627.72]</td>\n",
       "      <td>0</td>\n",
       "    </tr>\n",
       "    <tr>\n",
       "      <th>3</th>\n",
<<<<<<< HEAD
<<<<<<< HEAD
<<<<<<< HEAD:workload-orchestrations/orchestration_sdk_simple_tutorial/data_connectors_and_orchestrators_simple_tutorial.ipynb
<<<<<<< HEAD:workload-orchestrations/orchestration_sdk_simple_tutorial/data_connectors_and_orchestrators_simple_tutorial.ipynb
<<<<<<< HEAD:workload-orchestrations/orchestration_sdk_simple_tutorial/data_connectors_and_orchestrators_simple_tutorial.ipynb
       "      <td>2023-05-23 15:27:28.001</td>\n",
=======
       "      <td>2023-05-17 15:05:36.746</td>\n",
>>>>>>> 45466cc (updated task run once parameters):pipeline-orchestrators/orchestration_sdk_simple_tutorial/data_connectors_and_orchestrators_simple_tutorial.ipynb
=======
       "      <td>2023-05-17 17:12:43.208</td>\n",
>>>>>>> f98e822 (connection and orchestrations updates.):pipeline-orchestrators/orchestration_sdk_simple_tutorial/data_connectors_and_orchestrators_simple_tutorial.ipynb
=======
       "      <td>2023-05-19 20:52:02.571</td>\n",
>>>>>>> 1024d0c (prepared for 2023.2 release):pipeline-orchestrators/orchestration_sdk_simple_tutorial/data_connectors_and_orchestrators_simple_tutorial.ipynb
=======
       "      <td>2023-05-19 20:52:02.571</td>\n",
>>>>>>> 407e1e7 (moved orchestrations directory)
=======
       "      <td>2023-05-23 15:27:28.001</td>\n",
>>>>>>> a6d890e (updated with pipeline move)
       "      <td>[4.0, 2.5, 2500.0, 8540.0, 2.0, 0.0, 0.0, 3.0, 9.0, 2500.0, 0.0, 47.5759, -121.994, 2560.0, 8475.0, 24.0, 0.0, 0.0]</td>\n",
       "      <td>[758714.2]</td>\n",
       "      <td>0</td>\n",
       "    </tr>\n",
       "    <tr>\n",
       "      <th>4</th>\n",
<<<<<<< HEAD
<<<<<<< HEAD
<<<<<<< HEAD:workload-orchestrations/orchestration_sdk_simple_tutorial/data_connectors_and_orchestrators_simple_tutorial.ipynb
<<<<<<< HEAD:workload-orchestrations/orchestration_sdk_simple_tutorial/data_connectors_and_orchestrators_simple_tutorial.ipynb
<<<<<<< HEAD:workload-orchestrations/orchestration_sdk_simple_tutorial/data_connectors_and_orchestrators_simple_tutorial.ipynb
       "      <td>2023-05-23 15:27:28.001</td>\n",
=======
       "      <td>2023-05-17 15:05:36.746</td>\n",
>>>>>>> 45466cc (updated task run once parameters):pipeline-orchestrators/orchestration_sdk_simple_tutorial/data_connectors_and_orchestrators_simple_tutorial.ipynb
=======
       "      <td>2023-05-17 17:12:43.208</td>\n",
>>>>>>> f98e822 (connection and orchestrations updates.):pipeline-orchestrators/orchestration_sdk_simple_tutorial/data_connectors_and_orchestrators_simple_tutorial.ipynb
=======
       "      <td>2023-05-19 20:52:02.571</td>\n",
>>>>>>> 1024d0c (prepared for 2023.2 release):pipeline-orchestrators/orchestration_sdk_simple_tutorial/data_connectors_and_orchestrators_simple_tutorial.ipynb
=======
       "      <td>2023-05-19 20:52:02.571</td>\n",
>>>>>>> 407e1e7 (moved orchestrations directory)
=======
       "      <td>2023-05-23 15:27:28.001</td>\n",
>>>>>>> a6d890e (updated with pipeline move)
       "      <td>[3.0, 1.75, 2200.0, 11520.0, 1.0, 0.0, 0.0, 4.0, 7.0, 2200.0, 0.0, 47.7659, -122.341, 1690.0, 8038.0, 62.0, 0.0, 0.0]</td>\n",
       "      <td>[513264.7]</td>\n",
       "      <td>0</td>\n",
       "    </tr>\n",
       "    <tr>\n",
       "      <th>...</th>\n",
       "      <td>...</td>\n",
       "      <td>...</td>\n",
       "      <td>...</td>\n",
       "      <td>...</td>\n",
       "    </tr>\n",
       "    <tr>\n",
<<<<<<< HEAD
<<<<<<< HEAD:workload-orchestrations/orchestration_sdk_simple_tutorial/data_connectors_and_orchestrators_simple_tutorial.ipynb
<<<<<<< HEAD:workload-orchestrations/orchestration_sdk_simple_tutorial/data_connectors_and_orchestrators_simple_tutorial.ipynb
       "      <th>487</th>\n",
       "      <td>2023-05-23 15:27:28.001</td>\n",
       "      <td>[3.0, 1.5, 1030.0, 8414.0, 1.0, 0.0, 0.0, 4.0, 7.0, 1030.0, 0.0, 47.7654, -122.297, 1750.0, 8414.0, 47.0, 0.0, 0.0]</td>\n",
       "      <td>[340764.53]</td>\n",
       "      <td>0</td>\n",
       "    </tr>\n",
       "    <tr>\n",
       "      <th>488</th>\n",
       "      <td>2023-05-23 15:27:28.001</td>\n",
       "      <td>[4.0, 2.75, 2450.0, 15002.0, 1.0, 0.0, 0.0, 5.0, 9.0, 2450.0, 0.0, 47.4268, -122.343, 2650.0, 15055.0, 40.0, 0.0, 0.0]</td>\n",
       "      <td>[508746.75]</td>\n",
       "      <td>0</td>\n",
       "    </tr>\n",
       "    <tr>\n",
       "      <th>489</th>\n",
       "      <td>2023-05-23 15:27:28.001</td>\n",
       "      <td>[2.0, 1.0, 1010.0, 4000.0, 1.0, 0.0, 0.0, 3.0, 6.0, 1010.0, 0.0, 47.5536, -122.267, 1040.0, 4000.0, 103.0, 0.0, 0.0]</td>\n",
       "      <td>[435628.56]</td>\n",
       "      <td>0</td>\n",
       "    </tr>\n",
       "    <tr>\n",
       "      <th>490</th>\n",
       "      <td>2023-05-23 15:27:28.001</td>\n",
       "      <td>[3.0, 2.5, 1330.0, 1200.0, 3.0, 0.0, 0.0, 3.0, 7.0, 1330.0, 0.0, 47.7034, -122.344, 1330.0, 1206.0, 12.0, 0.0, 0.0]</td>\n",
       "      <td>[342604.4]</td>\n",
       "      <td>0</td>\n",
       "    </tr>\n",
       "    <tr>\n",
       "      <th>491</th>\n",
       "      <td>2023-05-23 15:27:28.001</td>\n",
       "      <td>[2.0, 1.75, 2770.0, 19700.0, 2.0, 0.0, 0.0, 3.0, 8.0, 1780.0, 990.0, 47.7581, -122.365, 2360.0, 9700.0, 31.0, 0.0, 0.0]</td>\n",
       "      <td>[536371.25]</td>\n",
=======
       "      <th>496</th>\n",
       "      <td>2023-05-17 17:12:43.208</td>\n",
       "      <td>[4.0, 2.5, 2510.0, 47044.0, 2.0, 0.0, 0.0, 3.0, 9.0, 2510.0, 0.0, 47.7699, -122.085, 2600.0, 42612.0, 27.0, 0.0, 0.0]</td>\n",
       "      <td>[721143.6]</td>\n",
=======
=======
>>>>>>> 407e1e7 (moved orchestrations directory)
       "      <th>487</th>\n",
       "      <td>2023-05-23 15:27:28.001</td>\n",
       "      <td>[3.0, 1.5, 1030.0, 8414.0, 1.0, 0.0, 0.0, 4.0, 7.0, 1030.0, 0.0, 47.7654, -122.297, 1750.0, 8414.0, 47.0, 0.0, 0.0]</td>\n",
       "      <td>[340764.53]</td>\n",
<<<<<<< HEAD
>>>>>>> 1024d0c (prepared for 2023.2 release):pipeline-orchestrators/orchestration_sdk_simple_tutorial/data_connectors_and_orchestrators_simple_tutorial.ipynb
=======
>>>>>>> 407e1e7 (moved orchestrations directory)
       "      <td>0</td>\n",
       "    </tr>\n",
       "    <tr>\n",
       "      <th>488</th>\n",
       "      <td>2023-05-23 15:27:28.001</td>\n",
       "      <td>[4.0, 2.75, 2450.0, 15002.0, 1.0, 0.0, 0.0, 5.0, 9.0, 2450.0, 0.0, 47.4268, -122.343, 2650.0, 15055.0, 40.0, 0.0, 0.0]</td>\n",
       "      <td>[508746.75]</td>\n",
       "      <td>0</td>\n",
       "    </tr>\n",
       "    <tr>\n",
       "      <th>489</th>\n",
       "      <td>2023-05-23 15:27:28.001</td>\n",
       "      <td>[2.0, 1.0, 1010.0, 4000.0, 1.0, 0.0, 0.0, 3.0, 6.0, 1010.0, 0.0, 47.5536, -122.267, 1040.0, 4000.0, 103.0, 0.0, 0.0]</td>\n",
       "      <td>[435628.56]</td>\n",
       "      <td>0</td>\n",
       "    </tr>\n",
       "    <tr>\n",
       "      <th>490</th>\n",
       "      <td>2023-05-23 15:27:28.001</td>\n",
       "      <td>[3.0, 2.5, 1330.0, 1200.0, 3.0, 0.0, 0.0, 3.0, 7.0, 1330.0, 0.0, 47.7034, -122.344, 1330.0, 1206.0, 12.0, 0.0, 0.0]</td>\n",
       "      <td>[342604.4]</td>\n",
       "      <td>0</td>\n",
       "    </tr>\n",
       "    <tr>\n",
<<<<<<< HEAD
<<<<<<< HEAD:workload-orchestrations/orchestration_sdk_simple_tutorial/data_connectors_and_orchestrators_simple_tutorial.ipynb
       "      <th>500</th>\n",
       "      <td>2023-05-17 17:12:43.208</td>\n",
       "      <td>[2.0, 1.0, 850.0, 5000.0, 1.0, 0.0, 0.0, 3.0, 6.0, 850.0, 0.0, 47.3817, -122.314, 1160.0, 5000.0, 39.0, 0.0, 0.0]</td>\n",
       "      <td>[236238.66]</td>\n",
>>>>>>> 45466cc (updated task run once parameters):pipeline-orchestrators/orchestration_sdk_simple_tutorial/data_connectors_and_orchestrators_simple_tutorial.ipynb
=======
=======
>>>>>>> 407e1e7 (moved orchestrations directory)
       "      <th>491</th>\n",
       "      <td>2023-05-23 15:27:28.001</td>\n",
       "      <td>[2.0, 1.75, 2770.0, 19700.0, 2.0, 0.0, 0.0, 3.0, 8.0, 1780.0, 990.0, 47.7581, -122.365, 2360.0, 9700.0, 31.0, 0.0, 0.0]</td>\n",
       "      <td>[536371.25]</td>\n",
<<<<<<< HEAD
>>>>>>> 1024d0c (prepared for 2023.2 release):pipeline-orchestrators/orchestration_sdk_simple_tutorial/data_connectors_and_orchestrators_simple_tutorial.ipynb
=======
>>>>>>> 407e1e7 (moved orchestrations directory)
       "      <td>0</td>\n",
       "    </tr>\n",
       "  </tbody>\n",
       "</table>\n",
       "<p>492 rows × 4 columns</p>\n",
       "</div>"
      ],
      "text/plain": [
       "                       time  \\\n",
<<<<<<< HEAD
<<<<<<< HEAD
<<<<<<< HEAD:workload-orchestrations/orchestration_sdk_simple_tutorial/data_connectors_and_orchestrators_simple_tutorial.ipynb
<<<<<<< HEAD:workload-orchestrations/orchestration_sdk_simple_tutorial/data_connectors_and_orchestrators_simple_tutorial.ipynb
<<<<<<< HEAD:workload-orchestrations/orchestration_sdk_simple_tutorial/data_connectors_and_orchestrators_simple_tutorial.ipynb
=======
>>>>>>> a6d890e (updated with pipeline move)
       "0   2023-05-23 15:27:28.001   \n",
       "1   2023-05-23 15:27:28.001   \n",
       "2   2023-05-23 15:27:28.001   \n",
       "3   2023-05-23 15:27:28.001   \n",
       "4   2023-05-23 15:27:28.001   \n",
<<<<<<< HEAD
       "..                      ...   \n",
       "487 2023-05-23 15:27:28.001   \n",
       "488 2023-05-23 15:27:28.001   \n",
       "489 2023-05-23 15:27:28.001   \n",
       "490 2023-05-23 15:27:28.001   \n",
       "491 2023-05-23 15:27:28.001   \n",
=======
       "0   2023-05-17 15:05:36.746   \n",
       "1   2023-05-17 15:05:36.746   \n",
       "2   2023-05-17 15:05:36.746   \n",
       "3   2023-05-17 15:05:36.746   \n",
       "4   2023-05-17 15:05:36.746   \n",
       "..                      ...   \n",
       "496 2023-05-17 15:05:36.746   \n",
       "497 2023-05-17 15:05:36.746   \n",
       "498 2023-05-17 15:05:36.746   \n",
       "499 2023-05-17 15:05:36.746   \n",
       "500 2023-05-17 15:05:36.746   \n",
>>>>>>> 45466cc (updated task run once parameters):pipeline-orchestrators/orchestration_sdk_simple_tutorial/data_connectors_and_orchestrators_simple_tutorial.ipynb
=======
       "0   2023-05-17 17:12:43.208   \n",
       "1   2023-05-17 17:12:43.208   \n",
       "2   2023-05-17 17:12:43.208   \n",
       "3   2023-05-17 17:12:43.208   \n",
       "4   2023-05-17 17:12:43.208   \n",
       "..                      ...   \n",
       "496 2023-05-17 17:12:43.208   \n",
       "497 2023-05-17 17:12:43.208   \n",
       "498 2023-05-17 17:12:43.208   \n",
       "499 2023-05-17 17:12:43.208   \n",
       "500 2023-05-17 17:12:43.208   \n",
>>>>>>> f98e822 (connection and orchestrations updates.):pipeline-orchestrators/orchestration_sdk_simple_tutorial/data_connectors_and_orchestrators_simple_tutorial.ipynb
=======
=======
>>>>>>> 407e1e7 (moved orchestrations directory)
       "0   2023-05-19 20:52:02.571   \n",
       "1   2023-05-19 20:52:02.571   \n",
       "2   2023-05-19 20:52:02.571   \n",
       "3   2023-05-19 20:52:02.571   \n",
       "4   2023-05-19 20:52:02.571   \n",
       "..                      ...   \n",
       "487 2023-05-19 20:52:02.571   \n",
       "488 2023-05-19 20:52:02.571   \n",
       "489 2023-05-19 20:52:02.571   \n",
       "490 2023-05-19 20:52:02.571   \n",
       "491 2023-05-19 20:52:02.571   \n",
<<<<<<< HEAD
>>>>>>> 1024d0c (prepared for 2023.2 release):pipeline-orchestrators/orchestration_sdk_simple_tutorial/data_connectors_and_orchestrators_simple_tutorial.ipynb
=======
>>>>>>> 407e1e7 (moved orchestrations directory)
=======
       "..                      ...   \n",
       "487 2023-05-23 15:27:28.001   \n",
       "488 2023-05-23 15:27:28.001   \n",
       "489 2023-05-23 15:27:28.001   \n",
       "490 2023-05-23 15:27:28.001   \n",
       "491 2023-05-23 15:27:28.001   \n",
>>>>>>> a6d890e (updated with pipeline move)
       "\n",
       "                                                                                                                   in.tensor  \\\n",
       "0         [4.0, 2.5, 2900.0, 5505.0, 2.0, 0.0, 0.0, 3.0, 8.0, 2900.0, 0.0, 47.6063, -122.02, 2970.0, 5251.0, 12.0, 0.0, 0.0]   \n",
       "1         [2.0, 2.5, 2170.0, 6361.0, 1.0, 0.0, 2.0, 3.0, 8.0, 2170.0, 0.0, 47.7109, -122.017, 2310.0, 7419.0, 6.0, 0.0, 0.0]   \n",
       "2          [3.0, 2.5, 1300.0, 812.0, 2.0, 0.0, 0.0, 3.0, 8.0, 880.0, 420.0, 47.5893, -122.317, 1300.0, 824.0, 6.0, 0.0, 0.0]   \n",
       "3        [4.0, 2.5, 2500.0, 8540.0, 2.0, 0.0, 0.0, 3.0, 9.0, 2500.0, 0.0, 47.5759, -121.994, 2560.0, 8475.0, 24.0, 0.0, 0.0]   \n",
       "4      [3.0, 1.75, 2200.0, 11520.0, 1.0, 0.0, 0.0, 4.0, 7.0, 2200.0, 0.0, 47.7659, -122.341, 1690.0, 8038.0, 62.0, 0.0, 0.0]   \n",
       "..                                                                                                                       ...   \n",
       "487      [3.0, 1.5, 1030.0, 8414.0, 1.0, 0.0, 0.0, 4.0, 7.0, 1030.0, 0.0, 47.7654, -122.297, 1750.0, 8414.0, 47.0, 0.0, 0.0]   \n",
       "488   [4.0, 2.75, 2450.0, 15002.0, 1.0, 0.0, 0.0, 5.0, 9.0, 2450.0, 0.0, 47.4268, -122.343, 2650.0, 15055.0, 40.0, 0.0, 0.0]   \n",
       "489     [2.0, 1.0, 1010.0, 4000.0, 1.0, 0.0, 0.0, 3.0, 6.0, 1010.0, 0.0, 47.5536, -122.267, 1040.0, 4000.0, 103.0, 0.0, 0.0]   \n",
       "490      [3.0, 2.5, 1330.0, 1200.0, 3.0, 0.0, 0.0, 3.0, 7.0, 1330.0, 0.0, 47.7034, -122.344, 1330.0, 1206.0, 12.0, 0.0, 0.0]   \n",
       "491  [2.0, 1.75, 2770.0, 19700.0, 2.0, 0.0, 0.0, 3.0, 8.0, 1780.0, 990.0, 47.7581, -122.365, 2360.0, 9700.0, 31.0, 0.0, 0.0]   \n",
       "\n",
       "    out.variable  check_failures  \n",
       "0    [718013.75]               0  \n",
       "1    [615094.56]               0  \n",
       "2    [448627.72]               0  \n",
       "3     [758714.2]               0  \n",
       "4     [513264.7]               0  \n",
       "..           ...             ...  \n",
       "487  [340764.53]               0  \n",
       "488  [508746.75]               0  \n",
       "489  [435628.56]               0  \n",
       "490   [342604.4]               0  \n",
       "491  [536371.25]               0  \n",
       "\n",
       "[492 rows x 4 columns]"
      ]
     },
<<<<<<< HEAD
<<<<<<< HEAD
<<<<<<< HEAD:workload-orchestrations/orchestration_sdk_simple_tutorial/data_connectors_and_orchestrators_simple_tutorial.ipynb
<<<<<<< HEAD:workload-orchestrations/orchestration_sdk_simple_tutorial/data_connectors_and_orchestrators_simple_tutorial.ipynb
<<<<<<< HEAD:workload-orchestrations/orchestration_sdk_simple_tutorial/data_connectors_and_orchestrators_simple_tutorial.ipynb
     "execution_count": 17,
=======
     "execution_count": 47,
>>>>>>> 45466cc (updated task run once parameters):pipeline-orchestrators/orchestration_sdk_simple_tutorial/data_connectors_and_orchestrators_simple_tutorial.ipynb
=======
     "execution_count": 76,
>>>>>>> f98e822 (connection and orchestrations updates.):pipeline-orchestrators/orchestration_sdk_simple_tutorial/data_connectors_and_orchestrators_simple_tutorial.ipynb
=======
     "execution_count": 44,
>>>>>>> 1024d0c (prepared for 2023.2 release):pipeline-orchestrators/orchestration_sdk_simple_tutorial/data_connectors_and_orchestrators_simple_tutorial.ipynb
=======
     "execution_count": 44,
>>>>>>> 407e1e7 (moved orchestrations directory)
=======
     "execution_count": 17,
>>>>>>> a6d890e (updated with pipeline move)
     "metadata": {},
     "output_type": "execute_result"
    }
   ],
   "source": [
    "time.sleep(60)\n",
    "\n",
    "task_end = datetime.datetime.now()\n",
    "display(task_end)\n",
    "\n",
    "pipeline.logs(start_datetime = task_start, end_datetime = task_end)"
   ]
  },
  {
   "attachments": {},
   "cell_type": "markdown",
   "id": "24d22c9a",
   "metadata": {},
   "source": [
    "## Scheduled Run Task Example\n",
    "\n",
    "The other method of using tasks is as a **scheduled run** through the Orchestration `run_scheduled(name, schedule, timeout, json_args)`.  This sets up a task to run on an regular schedule as defined by the `schedule` parameter in the `cron` service format.  For example:\n",
    "\n",
    "```python\n",
    "schedule={'42 * * * *'}\n",
    "```\n",
    "\n",
    "Runs on the 42nd minute of every hour.\n",
    "\n",
<<<<<<< HEAD
<<<<<<< HEAD:workload-orchestrations/orchestration_sdk_simple_tutorial/data_connectors_and_orchestrators_simple_tutorial.ipynb
<<<<<<< HEAD:workload-orchestrations/orchestration_sdk_simple_tutorial/data_connectors_and_orchestrators_simple_tutorial.ipynb
=======
>>>>>>> 2346b8c (added terminating schedule example.):pipeline-orchestrators/orchestration_sdk_simple_tutorial/data_connectors_and_orchestrators_simple_tutorial.ipynb
=======
>>>>>>> 407e1e7 (moved orchestrations directory)
    "The following schedule runs every day at 12 noon from February 1 to February 15 2024 - and then ends.\n",
    "\n",
    "```python\n",
    "schedule={'0 0 12 1-15 2 2024'}\n",
    "```\n",
    "\n",
<<<<<<< HEAD
<<<<<<< HEAD:workload-orchestrations/orchestration_sdk_simple_tutorial/data_connectors_and_orchestrators_simple_tutorial.ipynb
=======
>>>>>>> f07f698 (updated task run time):pipeline-orchestrators/orchestration_sdk_simple_tutorial/data_connectors_and_orchestrators_simple_tutorial.ipynb
=======
>>>>>>> 2346b8c (added terminating schedule example.):pipeline-orchestrators/orchestration_sdk_simple_tutorial/data_connectors_and_orchestrators_simple_tutorial.ipynb
=======
>>>>>>> 407e1e7 (moved orchestrations directory)
    "For our example, we will create a scheduled task to run every 5 minutes, display the inference results, then use the Orchestration `kill` task to keep the task from running any further.\n",
    "\n",
    "It is recommended that orchestrations that have pipeline deploy or undeploy commands be spaced out no less than 5 minutes to prevent colliding with other tasks that use the same pipeline."
   ]
  },
  {
   "cell_type": "code",
<<<<<<< HEAD
<<<<<<< HEAD
<<<<<<< HEAD:workload-orchestrations/orchestration_sdk_simple_tutorial/data_connectors_and_orchestrators_simple_tutorial.ipynb
<<<<<<< HEAD:workload-orchestrations/orchestration_sdk_simple_tutorial/data_connectors_and_orchestrators_simple_tutorial.ipynb
<<<<<<< HEAD:workload-orchestrations/orchestration_sdk_simple_tutorial/data_connectors_and_orchestrators_simple_tutorial.ipynb
   "execution_count": 18,
=======
   "execution_count": 48,
>>>>>>> 45466cc (updated task run once parameters):pipeline-orchestrators/orchestration_sdk_simple_tutorial/data_connectors_and_orchestrators_simple_tutorial.ipynb
=======
   "execution_count": 77,
>>>>>>> f98e822 (connection and orchestrations updates.):pipeline-orchestrators/orchestration_sdk_simple_tutorial/data_connectors_and_orchestrators_simple_tutorial.ipynb
=======
   "execution_count": 45,
>>>>>>> 1024d0c (prepared for 2023.2 release):pipeline-orchestrators/orchestration_sdk_simple_tutorial/data_connectors_and_orchestrators_simple_tutorial.ipynb
=======
   "execution_count": 45,
>>>>>>> 407e1e7 (moved orchestrations directory)
=======
   "execution_count": 18,
>>>>>>> a6d890e (updated with pipeline move)
   "id": "5cabe1e7",
   "metadata": {},
   "outputs": [],
   "source": [
    "scheduled_task_start = datetime.datetime.now()"
   ]
  },
  {
   "cell_type": "code",
<<<<<<< HEAD
<<<<<<< HEAD
<<<<<<< HEAD:workload-orchestrations/orchestration_sdk_simple_tutorial/data_connectors_and_orchestrators_simple_tutorial.ipynb
<<<<<<< HEAD:workload-orchestrations/orchestration_sdk_simple_tutorial/data_connectors_and_orchestrators_simple_tutorial.ipynb
<<<<<<< HEAD:workload-orchestrations/orchestration_sdk_simple_tutorial/data_connectors_and_orchestrators_simple_tutorial.ipynb
   "execution_count": 19,
=======
   "execution_count": 49,
>>>>>>> 45466cc (updated task run once parameters):pipeline-orchestrators/orchestration_sdk_simple_tutorial/data_connectors_and_orchestrators_simple_tutorial.ipynb
=======
   "execution_count": 78,
>>>>>>> f98e822 (connection and orchestrations updates.):pipeline-orchestrators/orchestration_sdk_simple_tutorial/data_connectors_and_orchestrators_simple_tutorial.ipynb
=======
   "execution_count": 53,
>>>>>>> 1024d0c (prepared for 2023.2 release):pipeline-orchestrators/orchestration_sdk_simple_tutorial/data_connectors_and_orchestrators_simple_tutorial.ipynb
=======
   "execution_count": 53,
>>>>>>> 407e1e7 (moved orchestrations directory)
=======
   "execution_count": 19,
>>>>>>> a6d890e (updated with pipeline move)
   "id": "8ab45fdc",
   "metadata": {},
   "outputs": [],
   "source": [
    "\n",
<<<<<<< HEAD
<<<<<<< HEAD:workload-orchestrations/orchestration_sdk_simple_tutorial/data_connectors_and_orchestrators_simple_tutorial.ipynb
<<<<<<< HEAD:workload-orchestrations/orchestration_sdk_simple_tutorial/data_connectors_and_orchestrators_simple_tutorial.ipynb
=======
>>>>>>> 1024d0c (prepared for 2023.2 release):pipeline-orchestrators/orchestration_sdk_simple_tutorial/data_connectors_and_orchestrators_simple_tutorial.ipynb
=======
>>>>>>> 407e1e7 (moved orchestrations directory)
    "scheduled_task = orchestration.run_scheduled(name=\"simple_inference_schedule\", \n",
    "                                             schedule=\"*/5 * * * *\", \n",
    "                                             timeout=120, \n",
    "                                             json_args={\"workspace_name\": workspace_name, \n",
    "                                                        \"pipeline_name\": pipeline_name,\n",
    "                                                        \"connection_name\": inference_connection_name\n",
    "                                            })"
<<<<<<< HEAD
<<<<<<< HEAD:workload-orchestrations/orchestration_sdk_simple_tutorial/data_connectors_and_orchestrators_simple_tutorial.ipynb
=======
    "scheduled_task = orchestration.run_scheduled(name=\"simple_inference_schedule\", schedule=\"*/5 * * * *\", timeout=120, json_args={})"
>>>>>>> f07f698 (updated task run time):pipeline-orchestrators/orchestration_sdk_simple_tutorial/data_connectors_and_orchestrators_simple_tutorial.ipynb
=======
>>>>>>> 1024d0c (prepared for 2023.2 release):pipeline-orchestrators/orchestration_sdk_simple_tutorial/data_connectors_and_orchestrators_simple_tutorial.ipynb
=======
>>>>>>> 407e1e7 (moved orchestrations directory)
   ]
  },
  {
   "cell_type": "code",
<<<<<<< HEAD
<<<<<<< HEAD
<<<<<<< HEAD:workload-orchestrations/orchestration_sdk_simple_tutorial/data_connectors_and_orchestrators_simple_tutorial.ipynb
<<<<<<< HEAD:workload-orchestrations/orchestration_sdk_simple_tutorial/data_connectors_and_orchestrators_simple_tutorial.ipynb
<<<<<<< HEAD:workload-orchestrations/orchestration_sdk_simple_tutorial/data_connectors_and_orchestrators_simple_tutorial.ipynb
   "execution_count": 20,
=======
   "execution_count": 50,
>>>>>>> 45466cc (updated task run once parameters):pipeline-orchestrators/orchestration_sdk_simple_tutorial/data_connectors_and_orchestrators_simple_tutorial.ipynb
=======
   "execution_count": 79,
>>>>>>> f98e822 (connection and orchestrations updates.):pipeline-orchestrators/orchestration_sdk_simple_tutorial/data_connectors_and_orchestrators_simple_tutorial.ipynb
=======
   "execution_count": 54,
>>>>>>> 1024d0c (prepared for 2023.2 release):pipeline-orchestrators/orchestration_sdk_simple_tutorial/data_connectors_and_orchestrators_simple_tutorial.ipynb
=======
   "execution_count": 54,
>>>>>>> 407e1e7 (moved orchestrations directory)
=======
   "execution_count": 20,
>>>>>>> a6d890e (updated with pipeline move)
   "id": "efac60c3",
   "metadata": {},
   "outputs": [
    {
     "data": {
      "text/plain": [
       "'pending'"
      ]
     },
     "metadata": {},
     "output_type": "display_data"
    }
   ],
   "source": [
    "while scheduled_task.status() != \"started\":\n",
    "    display(scheduled_task.status())\n",
    "    time.sleep(5)"
   ]
  },
  {
   "cell_type": "code",
<<<<<<< HEAD
<<<<<<< HEAD
<<<<<<< HEAD:workload-orchestrations/orchestration_sdk_simple_tutorial/data_connectors_and_orchestrators_simple_tutorial.ipynb
<<<<<<< HEAD:workload-orchestrations/orchestration_sdk_simple_tutorial/data_connectors_and_orchestrators_simple_tutorial.ipynb
<<<<<<< HEAD:workload-orchestrations/orchestration_sdk_simple_tutorial/data_connectors_and_orchestrators_simple_tutorial.ipynb
   "execution_count": 21,
=======
   "execution_count": 51,
>>>>>>> 45466cc (updated task run once parameters):pipeline-orchestrators/orchestration_sdk_simple_tutorial/data_connectors_and_orchestrators_simple_tutorial.ipynb
=======
   "execution_count": 80,
>>>>>>> f98e822 (connection and orchestrations updates.):pipeline-orchestrators/orchestration_sdk_simple_tutorial/data_connectors_and_orchestrators_simple_tutorial.ipynb
=======
   "execution_count": 55,
>>>>>>> 1024d0c (prepared for 2023.2 release):pipeline-orchestrators/orchestration_sdk_simple_tutorial/data_connectors_and_orchestrators_simple_tutorial.ipynb
=======
   "execution_count": 55,
>>>>>>> 407e1e7 (moved orchestrations directory)
=======
   "execution_count": 21,
>>>>>>> a6d890e (updated with pipeline move)
   "id": "98668880",
   "metadata": {},
   "outputs": [
    {
     "name": "stderr",
     "output_type": "stream",
     "text": [
      "Warning: Pipeline log size limit exceeded. Please request logs using export_logs"
     ]
    },
    {
     "data": {
      "text/html": [
       "<div>\n",
       "<style scoped>\n",
       "    .dataframe tbody tr th:only-of-type {\n",
       "        vertical-align: middle;\n",
       "    }\n",
       "\n",
       "    .dataframe tbody tr th {\n",
       "        vertical-align: top;\n",
       "    }\n",
       "\n",
       "    .dataframe thead th {\n",
       "        text-align: right;\n",
       "    }\n",
       "</style>\n",
       "<table border=\"1\" class=\"dataframe\">\n",
       "  <thead>\n",
       "    <tr style=\"text-align: right;\">\n",
       "      <th></th>\n",
       "      <th>time</th>\n",
       "      <th>in.tensor</th>\n",
       "      <th>out.variable</th>\n",
       "      <th>check_failures</th>\n",
       "    </tr>\n",
       "  </thead>\n",
       "  <tbody>\n",
       "    <tr>\n",
       "      <th>0</th>\n",
<<<<<<< HEAD
<<<<<<< HEAD
<<<<<<< HEAD:workload-orchestrations/orchestration_sdk_simple_tutorial/data_connectors_and_orchestrators_simple_tutorial.ipynb
<<<<<<< HEAD:workload-orchestrations/orchestration_sdk_simple_tutorial/data_connectors_and_orchestrators_simple_tutorial.ipynb
<<<<<<< HEAD:workload-orchestrations/orchestration_sdk_simple_tutorial/data_connectors_and_orchestrators_simple_tutorial.ipynb
       "      <td>2023-05-23 15:30:08.633</td>\n",
=======
       "      <td>2023-05-17 15:07:06.853</td>\n",
>>>>>>> 45466cc (updated task run once parameters):pipeline-orchestrators/orchestration_sdk_simple_tutorial/data_connectors_and_orchestrators_simple_tutorial.ipynb
=======
       "      <td>2023-05-17 17:14:06.362</td>\n",
>>>>>>> f98e822 (connection and orchestrations updates.):pipeline-orchestrators/orchestration_sdk_simple_tutorial/data_connectors_and_orchestrators_simple_tutorial.ipynb
=======
       "      <td>2023-05-19 20:55:08.967</td>\n",
>>>>>>> 1024d0c (prepared for 2023.2 release):pipeline-orchestrators/orchestration_sdk_simple_tutorial/data_connectors_and_orchestrators_simple_tutorial.ipynb
=======
       "      <td>2023-05-19 20:55:08.967</td>\n",
>>>>>>> 407e1e7 (moved orchestrations directory)
=======
       "      <td>2023-05-23 15:30:08.633</td>\n",
>>>>>>> a6d890e (updated with pipeline move)
       "      <td>[4.0, 2.5, 2900.0, 5505.0, 2.0, 0.0, 0.0, 3.0, 8.0, 2900.0, 0.0, 47.6063, -122.02, 2970.0, 5251.0, 12.0, 0.0, 0.0]</td>\n",
       "      <td>[718013.75]</td>\n",
       "      <td>0</td>\n",
       "    </tr>\n",
       "    <tr>\n",
       "      <th>1</th>\n",
<<<<<<< HEAD
<<<<<<< HEAD
<<<<<<< HEAD:workload-orchestrations/orchestration_sdk_simple_tutorial/data_connectors_and_orchestrators_simple_tutorial.ipynb
<<<<<<< HEAD:workload-orchestrations/orchestration_sdk_simple_tutorial/data_connectors_and_orchestrators_simple_tutorial.ipynb
<<<<<<< HEAD:workload-orchestrations/orchestration_sdk_simple_tutorial/data_connectors_and_orchestrators_simple_tutorial.ipynb
       "      <td>2023-05-23 15:30:08.633</td>\n",
=======
       "      <td>2023-05-17 15:07:06.853</td>\n",
>>>>>>> 45466cc (updated task run once parameters):pipeline-orchestrators/orchestration_sdk_simple_tutorial/data_connectors_and_orchestrators_simple_tutorial.ipynb
=======
       "      <td>2023-05-17 17:14:06.362</td>\n",
>>>>>>> f98e822 (connection and orchestrations updates.):pipeline-orchestrators/orchestration_sdk_simple_tutorial/data_connectors_and_orchestrators_simple_tutorial.ipynb
=======
       "      <td>2023-05-19 20:55:08.967</td>\n",
>>>>>>> 1024d0c (prepared for 2023.2 release):pipeline-orchestrators/orchestration_sdk_simple_tutorial/data_connectors_and_orchestrators_simple_tutorial.ipynb
=======
       "      <td>2023-05-19 20:55:08.967</td>\n",
>>>>>>> 407e1e7 (moved orchestrations directory)
=======
       "      <td>2023-05-23 15:30:08.633</td>\n",
>>>>>>> a6d890e (updated with pipeline move)
       "      <td>[2.0, 2.5, 2170.0, 6361.0, 1.0, 0.0, 2.0, 3.0, 8.0, 2170.0, 0.0, 47.7109, -122.017, 2310.0, 7419.0, 6.0, 0.0, 0.0]</td>\n",
       "      <td>[615094.56]</td>\n",
       "      <td>0</td>\n",
       "    </tr>\n",
       "    <tr>\n",
       "      <th>2</th>\n",
<<<<<<< HEAD
<<<<<<< HEAD
<<<<<<< HEAD:workload-orchestrations/orchestration_sdk_simple_tutorial/data_connectors_and_orchestrators_simple_tutorial.ipynb
<<<<<<< HEAD:workload-orchestrations/orchestration_sdk_simple_tutorial/data_connectors_and_orchestrators_simple_tutorial.ipynb
<<<<<<< HEAD:workload-orchestrations/orchestration_sdk_simple_tutorial/data_connectors_and_orchestrators_simple_tutorial.ipynb
       "      <td>2023-05-23 15:30:08.633</td>\n",
=======
       "      <td>2023-05-17 15:07:06.853</td>\n",
>>>>>>> 45466cc (updated task run once parameters):pipeline-orchestrators/orchestration_sdk_simple_tutorial/data_connectors_and_orchestrators_simple_tutorial.ipynb
=======
       "      <td>2023-05-17 17:14:06.362</td>\n",
>>>>>>> f98e822 (connection and orchestrations updates.):pipeline-orchestrators/orchestration_sdk_simple_tutorial/data_connectors_and_orchestrators_simple_tutorial.ipynb
=======
       "      <td>2023-05-19 20:55:08.967</td>\n",
>>>>>>> 1024d0c (prepared for 2023.2 release):pipeline-orchestrators/orchestration_sdk_simple_tutorial/data_connectors_and_orchestrators_simple_tutorial.ipynb
=======
       "      <td>2023-05-19 20:55:08.967</td>\n",
>>>>>>> 407e1e7 (moved orchestrations directory)
=======
       "      <td>2023-05-23 15:30:08.633</td>\n",
>>>>>>> a6d890e (updated with pipeline move)
       "      <td>[3.0, 2.5, 1300.0, 812.0, 2.0, 0.0, 0.0, 3.0, 8.0, 880.0, 420.0, 47.5893, -122.317, 1300.0, 824.0, 6.0, 0.0, 0.0]</td>\n",
       "      <td>[448627.72]</td>\n",
       "      <td>0</td>\n",
       "    </tr>\n",
       "    <tr>\n",
       "      <th>3</th>\n",
<<<<<<< HEAD
<<<<<<< HEAD
<<<<<<< HEAD:workload-orchestrations/orchestration_sdk_simple_tutorial/data_connectors_and_orchestrators_simple_tutorial.ipynb
<<<<<<< HEAD:workload-orchestrations/orchestration_sdk_simple_tutorial/data_connectors_and_orchestrators_simple_tutorial.ipynb
<<<<<<< HEAD:workload-orchestrations/orchestration_sdk_simple_tutorial/data_connectors_and_orchestrators_simple_tutorial.ipynb
       "      <td>2023-05-23 15:30:08.633</td>\n",
=======
       "      <td>2023-05-17 15:07:06.853</td>\n",
>>>>>>> 45466cc (updated task run once parameters):pipeline-orchestrators/orchestration_sdk_simple_tutorial/data_connectors_and_orchestrators_simple_tutorial.ipynb
=======
       "      <td>2023-05-17 17:14:06.362</td>\n",
>>>>>>> f98e822 (connection and orchestrations updates.):pipeline-orchestrators/orchestration_sdk_simple_tutorial/data_connectors_and_orchestrators_simple_tutorial.ipynb
=======
       "      <td>2023-05-19 20:55:08.967</td>\n",
>>>>>>> 1024d0c (prepared for 2023.2 release):pipeline-orchestrators/orchestration_sdk_simple_tutorial/data_connectors_and_orchestrators_simple_tutorial.ipynb
=======
       "      <td>2023-05-19 20:55:08.967</td>\n",
>>>>>>> 407e1e7 (moved orchestrations directory)
=======
       "      <td>2023-05-23 15:30:08.633</td>\n",
>>>>>>> a6d890e (updated with pipeline move)
       "      <td>[4.0, 2.5, 2500.0, 8540.0, 2.0, 0.0, 0.0, 3.0, 9.0, 2500.0, 0.0, 47.5759, -121.994, 2560.0, 8475.0, 24.0, 0.0, 0.0]</td>\n",
       "      <td>[758714.2]</td>\n",
       "      <td>0</td>\n",
       "    </tr>\n",
       "    <tr>\n",
       "      <th>4</th>\n",
<<<<<<< HEAD
<<<<<<< HEAD
<<<<<<< HEAD:workload-orchestrations/orchestration_sdk_simple_tutorial/data_connectors_and_orchestrators_simple_tutorial.ipynb
<<<<<<< HEAD:workload-orchestrations/orchestration_sdk_simple_tutorial/data_connectors_and_orchestrators_simple_tutorial.ipynb
<<<<<<< HEAD:workload-orchestrations/orchestration_sdk_simple_tutorial/data_connectors_and_orchestrators_simple_tutorial.ipynb
       "      <td>2023-05-23 15:30:08.633</td>\n",
=======
       "      <td>2023-05-17 15:07:06.853</td>\n",
>>>>>>> 45466cc (updated task run once parameters):pipeline-orchestrators/orchestration_sdk_simple_tutorial/data_connectors_and_orchestrators_simple_tutorial.ipynb
=======
       "      <td>2023-05-17 17:14:06.362</td>\n",
>>>>>>> f98e822 (connection and orchestrations updates.):pipeline-orchestrators/orchestration_sdk_simple_tutorial/data_connectors_and_orchestrators_simple_tutorial.ipynb
=======
       "      <td>2023-05-19 20:55:08.967</td>\n",
>>>>>>> 1024d0c (prepared for 2023.2 release):pipeline-orchestrators/orchestration_sdk_simple_tutorial/data_connectors_and_orchestrators_simple_tutorial.ipynb
=======
       "      <td>2023-05-19 20:55:08.967</td>\n",
>>>>>>> 407e1e7 (moved orchestrations directory)
=======
       "      <td>2023-05-23 15:30:08.633</td>\n",
>>>>>>> a6d890e (updated with pipeline move)
       "      <td>[3.0, 1.75, 2200.0, 11520.0, 1.0, 0.0, 0.0, 4.0, 7.0, 2200.0, 0.0, 47.7659, -122.341, 1690.0, 8038.0, 62.0, 0.0, 0.0]</td>\n",
       "      <td>[513264.7]</td>\n",
       "      <td>0</td>\n",
       "    </tr>\n",
       "    <tr>\n",
       "      <th>...</th>\n",
       "      <td>...</td>\n",
       "      <td>...</td>\n",
       "      <td>...</td>\n",
       "      <td>...</td>\n",
       "    </tr>\n",
       "    <tr>\n",
<<<<<<< HEAD
<<<<<<< HEAD:workload-orchestrations/orchestration_sdk_simple_tutorial/data_connectors_and_orchestrators_simple_tutorial.ipynb
<<<<<<< HEAD:workload-orchestrations/orchestration_sdk_simple_tutorial/data_connectors_and_orchestrators_simple_tutorial.ipynb
       "      <th>487</th>\n",
       "      <td>2023-05-23 15:30:08.633</td>\n",
       "      <td>[3.0, 1.5, 1030.0, 8414.0, 1.0, 0.0, 0.0, 4.0, 7.0, 1030.0, 0.0, 47.7654, -122.297, 1750.0, 8414.0, 47.0, 0.0, 0.0]</td>\n",
       "      <td>[340764.53]</td>\n",
       "      <td>0</td>\n",
       "    </tr>\n",
       "    <tr>\n",
       "      <th>488</th>\n",
       "      <td>2023-05-23 15:30:08.633</td>\n",
       "      <td>[4.0, 2.75, 2450.0, 15002.0, 1.0, 0.0, 0.0, 5.0, 9.0, 2450.0, 0.0, 47.4268, -122.343, 2650.0, 15055.0, 40.0, 0.0, 0.0]</td>\n",
       "      <td>[508746.75]</td>\n",
       "      <td>0</td>\n",
       "    </tr>\n",
       "    <tr>\n",
       "      <th>489</th>\n",
       "      <td>2023-05-23 15:30:08.633</td>\n",
       "      <td>[2.0, 1.0, 1010.0, 4000.0, 1.0, 0.0, 0.0, 3.0, 6.0, 1010.0, 0.0, 47.5536, -122.267, 1040.0, 4000.0, 103.0, 0.0, 0.0]</td>\n",
       "      <td>[435628.56]</td>\n",
       "      <td>0</td>\n",
       "    </tr>\n",
       "    <tr>\n",
       "      <th>490</th>\n",
       "      <td>2023-05-23 15:30:08.633</td>\n",
       "      <td>[3.0, 2.5, 1330.0, 1200.0, 3.0, 0.0, 0.0, 3.0, 7.0, 1330.0, 0.0, 47.7034, -122.344, 1330.0, 1206.0, 12.0, 0.0, 0.0]</td>\n",
       "      <td>[342604.4]</td>\n",
       "      <td>0</td>\n",
       "    </tr>\n",
       "    <tr>\n",
       "      <th>491</th>\n",
       "      <td>2023-05-23 15:30:08.633</td>\n",
       "      <td>[2.0, 1.75, 2770.0, 19700.0, 2.0, 0.0, 0.0, 3.0, 8.0, 1780.0, 990.0, 47.7581, -122.365, 2360.0, 9700.0, 31.0, 0.0, 0.0]</td>\n",
       "      <td>[536371.25]</td>\n",
=======
       "      <th>496</th>\n",
       "      <td>2023-05-17 17:14:06.362</td>\n",
       "      <td>[4.0, 2.5, 2510.0, 47044.0, 2.0, 0.0, 0.0, 3.0, 9.0, 2510.0, 0.0, 47.7699, -122.085, 2600.0, 42612.0, 27.0, 0.0, 0.0]</td>\n",
       "      <td>[721143.6]</td>\n",
=======
=======
>>>>>>> 407e1e7 (moved orchestrations directory)
       "      <th>487</th>\n",
       "      <td>2023-05-23 15:30:08.633</td>\n",
       "      <td>[3.0, 1.5, 1030.0, 8414.0, 1.0, 0.0, 0.0, 4.0, 7.0, 1030.0, 0.0, 47.7654, -122.297, 1750.0, 8414.0, 47.0, 0.0, 0.0]</td>\n",
       "      <td>[340764.53]</td>\n",
<<<<<<< HEAD
>>>>>>> 1024d0c (prepared for 2023.2 release):pipeline-orchestrators/orchestration_sdk_simple_tutorial/data_connectors_and_orchestrators_simple_tutorial.ipynb
=======
>>>>>>> 407e1e7 (moved orchestrations directory)
       "      <td>0</td>\n",
       "    </tr>\n",
       "    <tr>\n",
       "      <th>488</th>\n",
       "      <td>2023-05-23 15:30:08.633</td>\n",
       "      <td>[4.0, 2.75, 2450.0, 15002.0, 1.0, 0.0, 0.0, 5.0, 9.0, 2450.0, 0.0, 47.4268, -122.343, 2650.0, 15055.0, 40.0, 0.0, 0.0]</td>\n",
       "      <td>[508746.75]</td>\n",
       "      <td>0</td>\n",
       "    </tr>\n",
       "    <tr>\n",
       "      <th>489</th>\n",
       "      <td>2023-05-23 15:30:08.633</td>\n",
       "      <td>[2.0, 1.0, 1010.0, 4000.0, 1.0, 0.0, 0.0, 3.0, 6.0, 1010.0, 0.0, 47.5536, -122.267, 1040.0, 4000.0, 103.0, 0.0, 0.0]</td>\n",
       "      <td>[435628.56]</td>\n",
       "      <td>0</td>\n",
       "    </tr>\n",
       "    <tr>\n",
       "      <th>490</th>\n",
       "      <td>2023-05-23 15:30:08.633</td>\n",
       "      <td>[3.0, 2.5, 1330.0, 1200.0, 3.0, 0.0, 0.0, 3.0, 7.0, 1330.0, 0.0, 47.7034, -122.344, 1330.0, 1206.0, 12.0, 0.0, 0.0]</td>\n",
       "      <td>[342604.4]</td>\n",
       "      <td>0</td>\n",
       "    </tr>\n",
       "    <tr>\n",
<<<<<<< HEAD
<<<<<<< HEAD:workload-orchestrations/orchestration_sdk_simple_tutorial/data_connectors_and_orchestrators_simple_tutorial.ipynb
       "      <th>500</th>\n",
       "      <td>2023-05-17 17:14:06.362</td>\n",
       "      <td>[2.0, 1.0, 850.0, 5000.0, 1.0, 0.0, 0.0, 3.0, 6.0, 850.0, 0.0, 47.3817, -122.314, 1160.0, 5000.0, 39.0, 0.0, 0.0]</td>\n",
       "      <td>[236238.66]</td>\n",
>>>>>>> 45466cc (updated task run once parameters):pipeline-orchestrators/orchestration_sdk_simple_tutorial/data_connectors_and_orchestrators_simple_tutorial.ipynb
=======
=======
>>>>>>> 407e1e7 (moved orchestrations directory)
       "      <th>491</th>\n",
       "      <td>2023-05-23 15:30:08.633</td>\n",
       "      <td>[2.0, 1.75, 2770.0, 19700.0, 2.0, 0.0, 0.0, 3.0, 8.0, 1780.0, 990.0, 47.7581, -122.365, 2360.0, 9700.0, 31.0, 0.0, 0.0]</td>\n",
       "      <td>[536371.25]</td>\n",
<<<<<<< HEAD
>>>>>>> 1024d0c (prepared for 2023.2 release):pipeline-orchestrators/orchestration_sdk_simple_tutorial/data_connectors_and_orchestrators_simple_tutorial.ipynb
=======
>>>>>>> 407e1e7 (moved orchestrations directory)
       "      <td>0</td>\n",
       "    </tr>\n",
       "  </tbody>\n",
       "</table>\n",
       "<p>492 rows × 4 columns</p>\n",
       "</div>"
      ],
      "text/plain": [
       "                       time  \\\n",
<<<<<<< HEAD
<<<<<<< HEAD
<<<<<<< HEAD:workload-orchestrations/orchestration_sdk_simple_tutorial/data_connectors_and_orchestrators_simple_tutorial.ipynb
<<<<<<< HEAD:workload-orchestrations/orchestration_sdk_simple_tutorial/data_connectors_and_orchestrators_simple_tutorial.ipynb
<<<<<<< HEAD:workload-orchestrations/orchestration_sdk_simple_tutorial/data_connectors_and_orchestrators_simple_tutorial.ipynb
=======
>>>>>>> a6d890e (updated with pipeline move)
       "0   2023-05-23 15:30:08.633   \n",
       "1   2023-05-23 15:30:08.633   \n",
       "2   2023-05-23 15:30:08.633   \n",
       "3   2023-05-23 15:30:08.633   \n",
       "4   2023-05-23 15:30:08.633   \n",
<<<<<<< HEAD
       "..                      ...   \n",
       "487 2023-05-23 15:30:08.633   \n",
       "488 2023-05-23 15:30:08.633   \n",
       "489 2023-05-23 15:30:08.633   \n",
       "490 2023-05-23 15:30:08.633   \n",
       "491 2023-05-23 15:30:08.633   \n",
=======
       "0   2023-05-17 15:07:06.853   \n",
       "1   2023-05-17 15:07:06.853   \n",
       "2   2023-05-17 15:07:06.853   \n",
       "3   2023-05-17 15:07:06.853   \n",
       "4   2023-05-17 15:07:06.853   \n",
       "..                      ...   \n",
       "496 2023-05-17 15:07:06.853   \n",
       "497 2023-05-17 15:07:06.853   \n",
       "498 2023-05-17 15:07:06.853   \n",
       "499 2023-05-17 15:07:06.853   \n",
       "500 2023-05-17 15:07:06.853   \n",
>>>>>>> 45466cc (updated task run once parameters):pipeline-orchestrators/orchestration_sdk_simple_tutorial/data_connectors_and_orchestrators_simple_tutorial.ipynb
=======
       "0   2023-05-17 17:14:06.362   \n",
       "1   2023-05-17 17:14:06.362   \n",
       "2   2023-05-17 17:14:06.362   \n",
       "3   2023-05-17 17:14:06.362   \n",
       "4   2023-05-17 17:14:06.362   \n",
       "..                      ...   \n",
       "496 2023-05-17 17:14:06.362   \n",
       "497 2023-05-17 17:14:06.362   \n",
       "498 2023-05-17 17:14:06.362   \n",
       "499 2023-05-17 17:14:06.362   \n",
       "500 2023-05-17 17:14:06.362   \n",
>>>>>>> f98e822 (connection and orchestrations updates.):pipeline-orchestrators/orchestration_sdk_simple_tutorial/data_connectors_and_orchestrators_simple_tutorial.ipynb
=======
=======
>>>>>>> 407e1e7 (moved orchestrations directory)
       "0   2023-05-19 20:55:08.967   \n",
       "1   2023-05-19 20:55:08.967   \n",
       "2   2023-05-19 20:55:08.967   \n",
       "3   2023-05-19 20:55:08.967   \n",
       "4   2023-05-19 20:55:08.967   \n",
       "..                      ...   \n",
       "487 2023-05-19 20:55:08.967   \n",
       "488 2023-05-19 20:55:08.967   \n",
       "489 2023-05-19 20:55:08.967   \n",
       "490 2023-05-19 20:55:08.967   \n",
       "491 2023-05-19 20:55:08.967   \n",
<<<<<<< HEAD
>>>>>>> 1024d0c (prepared for 2023.2 release):pipeline-orchestrators/orchestration_sdk_simple_tutorial/data_connectors_and_orchestrators_simple_tutorial.ipynb
=======
>>>>>>> 407e1e7 (moved orchestrations directory)
=======
       "..                      ...   \n",
       "487 2023-05-23 15:30:08.633   \n",
       "488 2023-05-23 15:30:08.633   \n",
       "489 2023-05-23 15:30:08.633   \n",
       "490 2023-05-23 15:30:08.633   \n",
       "491 2023-05-23 15:30:08.633   \n",
>>>>>>> a6d890e (updated with pipeline move)
       "\n",
       "                                                                                                                   in.tensor  \\\n",
       "0         [4.0, 2.5, 2900.0, 5505.0, 2.0, 0.0, 0.0, 3.0, 8.0, 2900.0, 0.0, 47.6063, -122.02, 2970.0, 5251.0, 12.0, 0.0, 0.0]   \n",
       "1         [2.0, 2.5, 2170.0, 6361.0, 1.0, 0.0, 2.0, 3.0, 8.0, 2170.0, 0.0, 47.7109, -122.017, 2310.0, 7419.0, 6.0, 0.0, 0.0]   \n",
       "2          [3.0, 2.5, 1300.0, 812.0, 2.0, 0.0, 0.0, 3.0, 8.0, 880.0, 420.0, 47.5893, -122.317, 1300.0, 824.0, 6.0, 0.0, 0.0]   \n",
       "3        [4.0, 2.5, 2500.0, 8540.0, 2.0, 0.0, 0.0, 3.0, 9.0, 2500.0, 0.0, 47.5759, -121.994, 2560.0, 8475.0, 24.0, 0.0, 0.0]   \n",
       "4      [3.0, 1.75, 2200.0, 11520.0, 1.0, 0.0, 0.0, 4.0, 7.0, 2200.0, 0.0, 47.7659, -122.341, 1690.0, 8038.0, 62.0, 0.0, 0.0]   \n",
       "..                                                                                                                       ...   \n",
       "487      [3.0, 1.5, 1030.0, 8414.0, 1.0, 0.0, 0.0, 4.0, 7.0, 1030.0, 0.0, 47.7654, -122.297, 1750.0, 8414.0, 47.0, 0.0, 0.0]   \n",
       "488   [4.0, 2.75, 2450.0, 15002.0, 1.0, 0.0, 0.0, 5.0, 9.0, 2450.0, 0.0, 47.4268, -122.343, 2650.0, 15055.0, 40.0, 0.0, 0.0]   \n",
       "489     [2.0, 1.0, 1010.0, 4000.0, 1.0, 0.0, 0.0, 3.0, 6.0, 1010.0, 0.0, 47.5536, -122.267, 1040.0, 4000.0, 103.0, 0.0, 0.0]   \n",
       "490      [3.0, 2.5, 1330.0, 1200.0, 3.0, 0.0, 0.0, 3.0, 7.0, 1330.0, 0.0, 47.7034, -122.344, 1330.0, 1206.0, 12.0, 0.0, 0.0]   \n",
       "491  [2.0, 1.75, 2770.0, 19700.0, 2.0, 0.0, 0.0, 3.0, 8.0, 1780.0, 990.0, 47.7581, -122.365, 2360.0, 9700.0, 31.0, 0.0, 0.0]   \n",
       "\n",
       "    out.variable  check_failures  \n",
       "0    [718013.75]               0  \n",
       "1    [615094.56]               0  \n",
       "2    [448627.72]               0  \n",
       "3     [758714.2]               0  \n",
       "4     [513264.7]               0  \n",
       "..           ...             ...  \n",
       "487  [340764.53]               0  \n",
       "488  [508746.75]               0  \n",
       "489  [435628.56]               0  \n",
       "490   [342604.4]               0  \n",
       "491  [536371.25]               0  \n",
       "\n",
       "[492 rows x 4 columns]"
      ]
     },
<<<<<<< HEAD
<<<<<<< HEAD
<<<<<<< HEAD:workload-orchestrations/orchestration_sdk_simple_tutorial/data_connectors_and_orchestrators_simple_tutorial.ipynb
<<<<<<< HEAD:workload-orchestrations/orchestration_sdk_simple_tutorial/data_connectors_and_orchestrators_simple_tutorial.ipynb
<<<<<<< HEAD:workload-orchestrations/orchestration_sdk_simple_tutorial/data_connectors_and_orchestrators_simple_tutorial.ipynb
     "execution_count": 21,
=======
     "execution_count": 51,
>>>>>>> 45466cc (updated task run once parameters):pipeline-orchestrators/orchestration_sdk_simple_tutorial/data_connectors_and_orchestrators_simple_tutorial.ipynb
=======
     "execution_count": 80,
>>>>>>> f98e822 (connection and orchestrations updates.):pipeline-orchestrators/orchestration_sdk_simple_tutorial/data_connectors_and_orchestrators_simple_tutorial.ipynb
=======
     "execution_count": 55,
>>>>>>> 1024d0c (prepared for 2023.2 release):pipeline-orchestrators/orchestration_sdk_simple_tutorial/data_connectors_and_orchestrators_simple_tutorial.ipynb
=======
     "execution_count": 55,
>>>>>>> 407e1e7 (moved orchestrations directory)
=======
     "execution_count": 21,
>>>>>>> a6d890e (updated with pipeline move)
     "metadata": {},
     "output_type": "execute_result"
    }
   ],
   "source": [
    "#wait 420 seconds to give the scheduled event time to finish\n",
    "time.sleep(420)\n",
    "scheduled_task_end = datetime.datetime.now()\n",
    "\n",
    "pipeline.logs(start_datetime = scheduled_task_start, end_datetime = scheduled_task_end)"
   ]
  },
  {
   "attachments": {},
   "cell_type": "markdown",
   "id": "e957bfc7",
   "metadata": {},
   "source": [
    "## Kill Task\n",
    "\n",
    "With our testing complete, we will kill the scheduled task so it will not run again.  First we'll show all the tasks to verify that our task is there, then issue it the kill command."
   ]
  },
  {
   "cell_type": "code",
<<<<<<< HEAD
<<<<<<< HEAD
<<<<<<< HEAD:workload-orchestrations/orchestration_sdk_simple_tutorial/data_connectors_and_orchestrators_simple_tutorial.ipynb
<<<<<<< HEAD:workload-orchestrations/orchestration_sdk_simple_tutorial/data_connectors_and_orchestrators_simple_tutorial.ipynb
<<<<<<< HEAD:workload-orchestrations/orchestration_sdk_simple_tutorial/data_connectors_and_orchestrators_simple_tutorial.ipynb
   "execution_count": 22,
=======
   "execution_count": 52,
>>>>>>> 45466cc (updated task run once parameters):pipeline-orchestrators/orchestration_sdk_simple_tutorial/data_connectors_and_orchestrators_simple_tutorial.ipynb
=======
   "execution_count": 81,
>>>>>>> f98e822 (connection and orchestrations updates.):pipeline-orchestrators/orchestration_sdk_simple_tutorial/data_connectors_and_orchestrators_simple_tutorial.ipynb
=======
   "execution_count": 56,
>>>>>>> 1024d0c (prepared for 2023.2 release):pipeline-orchestrators/orchestration_sdk_simple_tutorial/data_connectors_and_orchestrators_simple_tutorial.ipynb
=======
   "execution_count": 56,
>>>>>>> 407e1e7 (moved orchestrations directory)
=======
   "execution_count": 22,
>>>>>>> a6d890e (updated with pipeline move)
   "id": "7ee4c475",
   "metadata": {},
   "outputs": [
    {
     "data": {
      "text/html": [
<<<<<<< HEAD
<<<<<<< HEAD
<<<<<<< HEAD:workload-orchestrations/orchestration_sdk_simple_tutorial/data_connectors_and_orchestrators_simple_tutorial.ipynb
<<<<<<< HEAD:workload-orchestrations/orchestration_sdk_simple_tutorial/data_connectors_and_orchestrators_simple_tutorial.ipynb
<<<<<<< HEAD:workload-orchestrations/orchestration_sdk_simple_tutorial/data_connectors_and_orchestrators_simple_tutorial.ipynb
       "<table><tr><th>id</th><th>name</th><th>last run status</th><th>type</th><th>active</th><th>schedule</th><th>created at</th><th>updated at</th></tr><tr><td>d0b6a83c-a3a1-41f0-98c9-92422d2544c4</td><td>simple_inference_schedule</td><td>success</td><td>Scheduled Run</td><td>True</td><td>*/5 * * * *</td><td>2023-23-May 15:28:30</td><td>2023-23-May 15:28:31</td></tr><tr><td>74046e01-68ab-42a0-bcd2-3493cbc66576</td><td>simpletaskdemo</td><td>success</td><td>Temporary Run</td><td>True</td><td>-</td><td>2023-23-May 15:27:15</td><td>2023-23-May 15:27:26</td></tr></table>"
      ],
      "text/plain": [
       "[<wallaroo.task.Task at 0x7fd3f6230a60>,\n",
       " <wallaroo.task.Task at 0x7fd458586a60>]"
      ]
     },
     "execution_count": 22,
=======
       "<table><tr><th>id</th><th>name</th><th>status</th><th>type</th><th>created at</th><th>updated at</th></tr><tr><td>433d4539-0abb-4ec9-b1fb-268c1b939041</td><td>testrun</td><td>started</td><td>Temporary Run</td><td>2023-17-May 14:42:32</td><td>2023-17-May 14:42:42</td></tr><tr><td>349f6e06-11e5-4a00-9526-449201367d76</td><td>simpletaskdemo</td><td>started</td><td>Temporary Run</td><td>2023-17-May 15:05:29</td><td>2023-17-May 15:05:35</td></tr><tr><td>bdb06bb2-d5f5-41b0-bed8-5c1ea2d02d51</td><td>simple_inference_schedule</td><td>started</td><td>Scheduled Run</td><td>2023-17-May 15:06:38</td><td>2023-17-May 15:06:39</td></tr></table>"
=======
       "<table><tr><th>id</th><th>name</th><th>status</th><th>type</th><th>created at</th><th>updated at</th></tr><tr><td>433d4539-0abb-4ec9-b1fb-268c1b939041</td><td>testrun</td><td>started</td><td>Temporary Run</td><td>2023-17-May 14:42:32</td><td>2023-17-May 14:42:42</td></tr><tr><td>349f6e06-11e5-4a00-9526-449201367d76</td><td>simpletaskdemo</td><td>started</td><td>Temporary Run</td><td>2023-17-May 15:05:29</td><td>2023-17-May 15:05:35</td></tr><tr><td>5911cae3-a7ac-4b2f-9894-e1ddb387949f</td><td>simple_inference_schedule</td><td>started</td><td>Scheduled Run</td><td>2023-17-May 17:13:43</td><td>2023-17-May 17:13:44</td></tr><tr><td>a83859b0-ba54-4138-a1b4-3319a9a7321e</td><td>simpletaskdemo</td><td>started</td><td>Temporary Run</td><td>2023-17-May 17:12:30</td><td>2023-17-May 17:12:41</td></tr></table>"
>>>>>>> f98e822 (connection and orchestrations updates.):pipeline-orchestrators/orchestration_sdk_simple_tutorial/data_connectors_and_orchestrators_simple_tutorial.ipynb
=======
       "<table><tr><th>id</th><th>name</th><th>status</th><th>type</th><th>created at</th><th>updated at</th></tr><tr><td>d3aa2d3c-a3f7-4662-857a-466fc57e0c8e</td><td>simple_inference_schedule</td><td>started</td><td>Scheduled Run</td><td>2023-19-May 20:59:27</td><td>2023-19-May 20:59:27</td></tr><tr><td>306a4b9a-c442-47eb-90ed-f83e8cab758b</td><td>simpletaskdemo</td><td>started</td><td>Temporary Run</td><td>2023-19-May 20:51:48</td><td>2023-19-May 20:52:02</td></tr></table>"
>>>>>>> 1024d0c (prepared for 2023.2 release):pipeline-orchestrators/orchestration_sdk_simple_tutorial/data_connectors_and_orchestrators_simple_tutorial.ipynb
=======
       "<table><tr><th>id</th><th>name</th><th>status</th><th>type</th><th>created at</th><th>updated at</th></tr><tr><td>d3aa2d3c-a3f7-4662-857a-466fc57e0c8e</td><td>simple_inference_schedule</td><td>started</td><td>Scheduled Run</td><td>2023-19-May 20:59:27</td><td>2023-19-May 20:59:27</td></tr><tr><td>306a4b9a-c442-47eb-90ed-f83e8cab758b</td><td>simpletaskdemo</td><td>started</td><td>Temporary Run</td><td>2023-19-May 20:51:48</td><td>2023-19-May 20:52:02</td></tr></table>"
>>>>>>> 407e1e7 (moved orchestrations directory)
=======
       "<table><tr><th>id</th><th>name</th><th>last run status</th><th>type</th><th>active</th><th>schedule</th><th>created at</th><th>updated at</th></tr><tr><td>d0b6a83c-a3a1-41f0-98c9-92422d2544c4</td><td>simple_inference_schedule</td><td>success</td><td>Scheduled Run</td><td>True</td><td>*/5 * * * *</td><td>2023-23-May 15:28:30</td><td>2023-23-May 15:28:31</td></tr><tr><td>74046e01-68ab-42a0-bcd2-3493cbc66576</td><td>simpletaskdemo</td><td>success</td><td>Temporary Run</td><td>True</td><td>-</td><td>2023-23-May 15:27:15</td><td>2023-23-May 15:27:26</td></tr></table>"
>>>>>>> a6d890e (updated with pipeline move)
      ],
      "text/plain": [
       "[<wallaroo.task.Task at 0x7fd3f6230a60>,\n",
       " <wallaroo.task.Task at 0x7fd458586a60>]"
      ]
     },
<<<<<<< HEAD
<<<<<<< HEAD
<<<<<<< HEAD:workload-orchestrations/orchestration_sdk_simple_tutorial/data_connectors_and_orchestrators_simple_tutorial.ipynb
<<<<<<< HEAD:workload-orchestrations/orchestration_sdk_simple_tutorial/data_connectors_and_orchestrators_simple_tutorial.ipynb
     "execution_count": 52,
>>>>>>> 45466cc (updated task run once parameters):pipeline-orchestrators/orchestration_sdk_simple_tutorial/data_connectors_and_orchestrators_simple_tutorial.ipynb
=======
     "execution_count": 81,
>>>>>>> f98e822 (connection and orchestrations updates.):pipeline-orchestrators/orchestration_sdk_simple_tutorial/data_connectors_and_orchestrators_simple_tutorial.ipynb
=======
     "execution_count": 56,
>>>>>>> 1024d0c (prepared for 2023.2 release):pipeline-orchestrators/orchestration_sdk_simple_tutorial/data_connectors_and_orchestrators_simple_tutorial.ipynb
=======
     "execution_count": 56,
>>>>>>> 407e1e7 (moved orchestrations directory)
=======
     "execution_count": 22,
>>>>>>> a6d890e (updated with pipeline move)
     "metadata": {},
     "output_type": "execute_result"
    }
   ],
   "source": [
    "wl.list_tasks()"
   ]
  },
  {
   "cell_type": "code",
<<<<<<< HEAD
<<<<<<< HEAD
<<<<<<< HEAD:workload-orchestrations/orchestration_sdk_simple_tutorial/data_connectors_and_orchestrators_simple_tutorial.ipynb
<<<<<<< HEAD:workload-orchestrations/orchestration_sdk_simple_tutorial/data_connectors_and_orchestrators_simple_tutorial.ipynb
<<<<<<< HEAD:workload-orchestrations/orchestration_sdk_simple_tutorial/data_connectors_and_orchestrators_simple_tutorial.ipynb
   "execution_count": 23,
=======
   "execution_count": 53,
>>>>>>> 45466cc (updated task run once parameters):pipeline-orchestrators/orchestration_sdk_simple_tutorial/data_connectors_and_orchestrators_simple_tutorial.ipynb
=======
   "execution_count": 82,
>>>>>>> f98e822 (connection and orchestrations updates.):pipeline-orchestrators/orchestration_sdk_simple_tutorial/data_connectors_and_orchestrators_simple_tutorial.ipynb
=======
   "execution_count": 57,
>>>>>>> 1024d0c (prepared for 2023.2 release):pipeline-orchestrators/orchestration_sdk_simple_tutorial/data_connectors_and_orchestrators_simple_tutorial.ipynb
=======
   "execution_count": 57,
>>>>>>> 407e1e7 (moved orchestrations directory)
=======
   "execution_count": 23,
>>>>>>> a6d890e (updated with pipeline move)
   "id": "1e9eda3a",
   "metadata": {},
   "outputs": [
    {
     "data": {
      "text/plain": [
       "<ArbexStatus.PENDING_KILL: 'pending_kill'>"
      ]
     },
<<<<<<< HEAD
<<<<<<< HEAD
<<<<<<< HEAD:workload-orchestrations/orchestration_sdk_simple_tutorial/data_connectors_and_orchestrators_simple_tutorial.ipynb
<<<<<<< HEAD:workload-orchestrations/orchestration_sdk_simple_tutorial/data_connectors_and_orchestrators_simple_tutorial.ipynb
<<<<<<< HEAD:workload-orchestrations/orchestration_sdk_simple_tutorial/data_connectors_and_orchestrators_simple_tutorial.ipynb
     "execution_count": 23,
=======
     "execution_count": 53,
>>>>>>> 45466cc (updated task run once parameters):pipeline-orchestrators/orchestration_sdk_simple_tutorial/data_connectors_and_orchestrators_simple_tutorial.ipynb
=======
     "execution_count": 82,
>>>>>>> f98e822 (connection and orchestrations updates.):pipeline-orchestrators/orchestration_sdk_simple_tutorial/data_connectors_and_orchestrators_simple_tutorial.ipynb
=======
     "execution_count": 57,
>>>>>>> 1024d0c (prepared for 2023.2 release):pipeline-orchestrators/orchestration_sdk_simple_tutorial/data_connectors_and_orchestrators_simple_tutorial.ipynb
=======
     "execution_count": 57,
>>>>>>> 407e1e7 (moved orchestrations directory)
=======
     "execution_count": 23,
>>>>>>> a6d890e (updated with pipeline move)
     "metadata": {},
     "output_type": "execute_result"
    }
   ],
   "source": [
    "scheduled_task.kill()"
   ]
  },
  {
   "cell_type": "code",
   "execution_count": 24,
   "id": "c2ffb60a",
   "metadata": {},
   "outputs": [
    {
     "data": {
      "text/html": [
       "<table><tr><th>id</th><th>name</th><th>last run status</th><th>type</th><th>active</th><th>schedule</th><th>created at</th><th>updated at</th></tr><tr><td>74046e01-68ab-42a0-bcd2-3493cbc66576</td><td>simpletaskdemo</td><td>success</td><td>Temporary Run</td><td>True</td><td>-</td><td>2023-23-May 15:27:15</td><td>2023-23-May 15:27:26</td></tr></table>"
      ],
      "text/plain": [
       "[<wallaroo.task.Task at 0x7fd3f62547f0>]"
      ]
     },
     "execution_count": 24,
     "metadata": {},
     "output_type": "execute_result"
    }
   ],
   "source": [
    "wl.list_tasks()"
   ]
  },
  {
   "attachments": {},
   "cell_type": "markdown",
   "id": "58207f04",
   "metadata": {},
   "source": [
    "## Cleanup\n",
    "\n",
    "With the tutorial complete, we can undeploy the pipeline and return the resources back to the Wallaroo instance."
   ]
  },
  {
   "cell_type": "code",
<<<<<<< HEAD
<<<<<<< HEAD
<<<<<<< HEAD:workload-orchestrations/orchestration_sdk_simple_tutorial/data_connectors_and_orchestrators_simple_tutorial.ipynb
<<<<<<< HEAD:workload-orchestrations/orchestration_sdk_simple_tutorial/data_connectors_and_orchestrators_simple_tutorial.ipynb
<<<<<<< HEAD:workload-orchestrations/orchestration_sdk_simple_tutorial/data_connectors_and_orchestrators_simple_tutorial.ipynb
   "execution_count": 25,
=======
   "execution_count": 55,
>>>>>>> 45466cc (updated task run once parameters):pipeline-orchestrators/orchestration_sdk_simple_tutorial/data_connectors_and_orchestrators_simple_tutorial.ipynb
=======
   "execution_count": 84,
>>>>>>> f98e822 (connection and orchestrations updates.):pipeline-orchestrators/orchestration_sdk_simple_tutorial/data_connectors_and_orchestrators_simple_tutorial.ipynb
=======
   "execution_count": 59,
>>>>>>> 1024d0c (prepared for 2023.2 release):pipeline-orchestrators/orchestration_sdk_simple_tutorial/data_connectors_and_orchestrators_simple_tutorial.ipynb
=======
   "execution_count": 59,
>>>>>>> 407e1e7 (moved orchestrations directory)
=======
   "execution_count": 25,
>>>>>>> a6d890e (updated with pipeline move)
   "id": "bb96a086",
   "metadata": {},
   "outputs": [
    {
<<<<<<< HEAD
<<<<<<< HEAD
=======
>>>>>>> a6d890e (updated with pipeline move)
     "name": "stdout",
     "output_type": "stream",
     "text": [
      "Waiting for undeployment - this will take up to 45s ..................................... ok\n"
     ]
    },
    {
<<<<<<< HEAD
     "data": {
      "text/html": [
<<<<<<< HEAD:workload-orchestrations/orchestration_sdk_simple_tutorial/data_connectors_and_orchestrators_simple_tutorial.ipynb
<<<<<<< HEAD:workload-orchestrations/orchestration_sdk_simple_tutorial/data_connectors_and_orchestrators_simple_tutorial.ipynb
<<<<<<< HEAD:workload-orchestrations/orchestration_sdk_simple_tutorial/data_connectors_and_orchestrators_simple_tutorial.ipynb
       "<table><tr><th>name</th> <td>simpleorchestrationpipelinedtzw</td></tr><tr><th>created</th> <td>2023-05-23 15:26:00.268667+00:00</td></tr><tr><th>last_updated</th> <td>2023-05-23 15:26:00.568944+00:00</td></tr><tr><th>deployed</th> <td>False</td></tr><tr><th>tags</th> <td></td></tr><tr><th>versions</th> <td>24f5d5e9-59fe-4440-9e08-78c0003226df, 9a5afba3-c664-4d57-8c08-fc072d3f549c</td></tr><tr><th>steps</th> <td>simpleorchestrationmodeldtzw</td></tr></table>"
      ],
      "text/plain": [
       "{'name': 'simpleorchestrationpipelinedtzw', 'create_time': datetime.datetime(2023, 5, 23, 15, 26, 0, 268667, tzinfo=tzutc()), 'definition': \"[{'ModelInference': {'models': [{'name': 'simpleorchestrationmodeldtzw', 'version': '40d18c3f-ab32-4e1b-854e-bf46d6299bc4', 'sha': 'e22a0831aafd9917f3cc87a15ed267797f80e2afa12ad7d8810ca58f173b8cc6'}]}}]\"}"
      ]
     },
     "execution_count": 25,
=======
       "<table><tr><th>name</th> <td>simpleorchestrationpipeline</td></tr><tr><th>created</th> <td>2023-05-17 14:02:37.838948+00:00</td></tr><tr><th>last_updated</th> <td>2023-05-17 14:02:40.594072+00:00</td></tr><tr><th>deployed</th> <td>False</td></tr><tr><th>tags</th> <td></td></tr><tr><th>versions</th> <td>559c19e7-6921-4d25-ba1d-4f70e76186e8, 966ead9a-4af4-4cb1-bc79-73264c14f5df</td></tr><tr><th>steps</th> <td>simpleorchestrationmodel</td></tr></table>"
=======
       "<table><tr><th>name</th> <td>simpleorchestrationpipeline</td></tr><tr><th>created</th> <td>2023-05-17 14:02:37.838948+00:00</td></tr><tr><th>last_updated</th> <td>2023-05-17 17:11:08.997772+00:00</td></tr><tr><th>deployed</th> <td>False</td></tr><tr><th>tags</th> <td></td></tr><tr><th>versions</th> <td>e3d0254e-411c-46ac-8d03-11e3ce88528c, 559c19e7-6921-4d25-ba1d-4f70e76186e8, 966ead9a-4af4-4cb1-bc79-73264c14f5df</td></tr><tr><th>steps</th> <td>simpleorchestrationmodel</td></tr></table>"
>>>>>>> f98e822 (connection and orchestrations updates.):pipeline-orchestrators/orchestration_sdk_simple_tutorial/data_connectors_and_orchestrators_simple_tutorial.ipynb
=======
       "<table><tr><th>name</th> <td>simpleorchestrationpipelinehpwu</td></tr><tr><th>created</th> <td>2023-05-19 20:50:26.679972+00:00</td></tr><tr><th>last_updated</th> <td>2023-05-19 20:50:29.392295+00:00</td></tr><tr><th>deployed</th> <td>False</td></tr><tr><th>tags</th> <td></td></tr><tr><th>versions</th> <td>b4dd01d3-95c0-4c4d-82ed-b1d47c7ca0d9, b8994b86-78a8-47cf-8fc0-2d47187e5b79</td></tr><tr><th>steps</th> <td>simpleorchestrationmodelhpwu</td></tr></table>"
>>>>>>> 1024d0c (prepared for 2023.2 release):pipeline-orchestrators/orchestration_sdk_simple_tutorial/data_connectors_and_orchestrators_simple_tutorial.ipynb
=======
     "data": {
      "text/html": [
       "<table><tr><th>name</th> <td>simpleorchestrationpipelinehpwu</td></tr><tr><th>created</th> <td>2023-05-19 20:50:26.679972+00:00</td></tr><tr><th>last_updated</th> <td>2023-05-19 20:50:29.392295+00:00</td></tr><tr><th>deployed</th> <td>False</td></tr><tr><th>tags</th> <td></td></tr><tr><th>versions</th> <td>b4dd01d3-95c0-4c4d-82ed-b1d47c7ca0d9, b8994b86-78a8-47cf-8fc0-2d47187e5b79</td></tr><tr><th>steps</th> <td>simpleorchestrationmodelhpwu</td></tr></table>"
>>>>>>> 407e1e7 (moved orchestrations directory)
=======
     "data": {
      "text/html": [
       "<table><tr><th>name</th> <td>simpleorchestrationpipelinedtzw</td></tr><tr><th>created</th> <td>2023-05-23 15:26:00.268667+00:00</td></tr><tr><th>last_updated</th> <td>2023-05-23 15:26:00.568944+00:00</td></tr><tr><th>deployed</th> <td>False</td></tr><tr><th>tags</th> <td></td></tr><tr><th>versions</th> <td>24f5d5e9-59fe-4440-9e08-78c0003226df, 9a5afba3-c664-4d57-8c08-fc072d3f549c</td></tr><tr><th>steps</th> <td>simpleorchestrationmodeldtzw</td></tr></table>"
>>>>>>> a6d890e (updated with pipeline move)
      ],
      "text/plain": [
       "{'name': 'simpleorchestrationpipelinedtzw', 'create_time': datetime.datetime(2023, 5, 23, 15, 26, 0, 268667, tzinfo=tzutc()), 'definition': \"[{'ModelInference': {'models': [{'name': 'simpleorchestrationmodeldtzw', 'version': '40d18c3f-ab32-4e1b-854e-bf46d6299bc4', 'sha': 'e22a0831aafd9917f3cc87a15ed267797f80e2afa12ad7d8810ca58f173b8cc6'}]}}]\"}"
      ]
     },
<<<<<<< HEAD
<<<<<<< HEAD
<<<<<<< HEAD:workload-orchestrations/orchestration_sdk_simple_tutorial/data_connectors_and_orchestrators_simple_tutorial.ipynb
<<<<<<< HEAD:workload-orchestrations/orchestration_sdk_simple_tutorial/data_connectors_and_orchestrators_simple_tutorial.ipynb
     "execution_count": 55,
>>>>>>> 45466cc (updated task run once parameters):pipeline-orchestrators/orchestration_sdk_simple_tutorial/data_connectors_and_orchestrators_simple_tutorial.ipynb
=======
     "execution_count": 84,
>>>>>>> f98e822 (connection and orchestrations updates.):pipeline-orchestrators/orchestration_sdk_simple_tutorial/data_connectors_and_orchestrators_simple_tutorial.ipynb
=======
     "execution_count": 59,
>>>>>>> 1024d0c (prepared for 2023.2 release):pipeline-orchestrators/orchestration_sdk_simple_tutorial/data_connectors_and_orchestrators_simple_tutorial.ipynb
=======
     "execution_count": 59,
>>>>>>> 407e1e7 (moved orchestrations directory)
=======
     "execution_count": 25,
>>>>>>> a6d890e (updated with pipeline move)
     "metadata": {},
     "output_type": "execute_result"
    }
   ],
   "source": [
    "pipeline.undeploy()"
   ]
  }
 ],
 "metadata": {
  "kernelspec": {
   "display_name": "Python 3 (ipykernel)",
   "language": "python",
   "name": "python3"
  },
  "language_info": {
   "codemirror_mode": {
    "name": "ipython",
    "version": 3
   },
   "file_extension": ".py",
   "mimetype": "text/x-python",
   "name": "python",
   "nbconvert_exporter": "python",
   "pygments_lexer": "ipython3",
<<<<<<< HEAD
<<<<<<< HEAD
   "version": "3.9.13"
=======
   "version": "3.9.16"
>>>>>>> 407e1e7 (moved orchestrations directory)
=======
   "version": "3.9.13"
>>>>>>> a6d890e (updated with pipeline move)
  }
 },
 "nbformat": 4,
 "nbformat_minor": 5
}
