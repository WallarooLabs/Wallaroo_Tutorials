{
 "cells": [
  {
   "attachments": {},
   "cell_type": "markdown",
   "id": "54d6daff",
   "metadata": {},
   "source": [
    "This can be downloaded as part of the [Wallaroo Tutorials repository](https://github.com/WallarooLabs/Wallaroo_Tutorials/tree/main/workload-orchestrations/orchestration_sdk_comprehensive_tutorial).\n",
    "\n",
    "## ML Workload Orchestration Comprehensive Tutorial\n",
    "\n",
    "This tutorial provides a complete set of methods and examples regarding Wallaroo Connections and Wallaroo ML Workload Orchestration.\n",
    "\n",
    "Wallaroo provides data connections, orchestrations, and tasks to provide organizations with a method of creating and managing automated tasks that can either be run on demand, on a regular schedule, or as a service so they respond to requests.\n",
    "\n",
    "| Object | Description |\n",
    "|---|---|\n",
    "| Orchestration | A set of instructions written as a python script with a requirements library.  Orchestrations are uploaded to the Wallaroo instance |\n",
    "| Task | An implementation of an orchestration.  Tasks are run either once when requested, on a repeating schedule, or as a service. |\n",
    "| Connection | Definitions set by MLOps engineers that are used by other Wallaroo users for connection information to a data source.  Usually paired with orchestrations. |\n",
    "\n",
    "A typical flow in the orchestration, task and connection life cycle is:\n",
    "\n",
    "1. (Optional) A connection is defined with information such as username, connection URL, tokens, etc.\n",
    "1. One or more connections are applied to a workspace for users to implement in their code or orchestrations.\n",
    "1. An orchestration is created to perform some set instructions.  For example:\n",
    "    1. Deploy a pipeline, request data from an external service, store the results in an external database, then undeploy the pipeline.\n",
    "    1. Download a ML Model then replace a current pipeline step with the new version.\n",
    "    1. Collect log files from a deployed pipeline once every hour and submit it to a Kafka or other service.\n",
    "1. A task is created that specifies the orchestration to perform and the schedule:\n",
    "    1. Run once.\n",
    "    1. Run on a schedule (based on `cron` like settings).\n",
    "    1. Run as a service to be run whenever requested.\n",
    "1. Once the use for a task is complete, it is killed and its schedule or service removed.\n",
    "\n",
    "## Tutorial Goals\n",
    "\n",
    "The tutorial will demonstrate the following:\n",
    "\n",
    "1. Create a simple connection to retrieve an Apache Arrow table file from a GitHub registry.\n",
    "1. Create an orchestration that retrieves the Apache Arrow table file from the location defined by the connection, deploy a pipeline, perform an inference, then undeploys the pipeline.\n",
    "1. Implement the orchestration as a task that runs every minute.\n",
    "1. Display the logs from the pipeline after 5 minutes to verify the task is running."
   ]
  },
  {
   "attachments": {},
   "cell_type": "markdown",
   "id": "67e1bb26",
   "metadata": {},
   "source": [
    "## Tutorial Required Libraries\n",
    "\n",
    "The following libraries are required for this tutorial, and included by default in a Wallaroo instance's JupyterHub service.\n",
    "\n",
    "* **IMPORTANT NOTE**:  These libraries are already installed in the Wallaroo JupyterHub service.  Do not uninstall and reinstall the Wallaroo SDK with the command below.\n",
    "\n",
    "* [wallaroo](https://pypi.org/project/wallaroo/):  The Wallaroo SDK.\n",
    "* [pandas](https://pypi.org/project/pandas/): The pandas data analysis library.\n",
    "* [pyarrow](https://pypi.org/project/pyarrow/): The Apache Arrow Python library.\n",
    "\n",
    "The specific versions used are set in the file `./resources/requirements.txt`.  Supported libraries are automatically installed with the `pypi` or `conda` commands.  For example, from the root of this tutorials folder:\n",
    "\n",
    "```python\n",
    "pip install -r ./resources/requirements.txt\n",
    "```"
   ]
  },
  {
   "attachments": {},
   "cell_type": "markdown",
   "id": "a2b09330-0408-45eb-b321-b48b65041789",
   "metadata": {},
   "source": [
    "## Initialization\n",
    "\n",
    "The first step is to connect to a Wallaroo instance.  We'll load the libraries and set our client connection settings\n",
    "\n",
    "### Workspace, Model and Pipeline Setup\n",
    "\n",
    "For this tutorial, we'll create a workspace, upload our sample model and deploy a pipeline.  We'll perform some quick sample inferences to verify that everything it working."
   ]
  },
  {
   "cell_type": "code",
   "execution_count": 3,
   "id": "43ee5f42",
   "metadata": {},
   "outputs": [
    {
     "data": {
      "text/plain": [
       "'tgiq'"
      ]
     },
     "metadata": {},
     "output_type": "display_data"
    }
   ],
   "source": [
    "import wallaroo\n",
    "from wallaroo.object import EntityNotFoundError\n",
    "\n",
    "# to display dataframe tables\n",
    "from IPython.display import display\n",
    "# used to display dataframe information without truncating\n",
    "import pandas as pd\n",
    "pd.set_option('display.max_colwidth', None)\n",
    "import pyarrow as pa\n",
    "\n",
    "import requests\n",
    "\n",
    "# Used to create unique workspace and pipeline names\n",
    "import string\n",
    "import random\n",
    "\n",
    "# make a random 4 character prefix\n",
    "suffix= ''.join(random.choice(string.ascii_lowercase) for i in range(4))\n",
    "display(suffix)"
   ]
  },
  {
   "attachments": {},
   "cell_type": "markdown",
   "id": "5505facb",
   "metadata": {},
   "source": [
    "### Connect to the Wallaroo Instance\n",
    "\n",
    "The first step is to connect to Wallaroo through the Wallaroo client.  The Python library is included in the Wallaroo install and available through the Jupyter Hub interface provided with your Wallaroo environment.\n",
    "\n",
    "This is accomplished using the `wallaroo.Client()` command, which provides a URL to grant the SDK permission to your specific Wallaroo environment.  When displayed, enter the URL into a browser and confirm permissions.  Store the connection into a variable that can be referenced later.\n",
    "\n",
    "If logging into the Wallaroo instance through the internal JupyterHub service, use `wl = wallaroo.Client()`.  If logging in externally, update the `wallarooPrefix` and `wallarooSuffix` variables with the proper DNS information.  For more information on Wallaroo DNS settings, see the [Wallaroo DNS Integration Guide](https://docs.wallaroo.ai/wallaroo-operations-guide/wallaroo-configuration/wallaroo-dns-guide/)."
   ]
  },
  {
   "cell_type": "code",
   "execution_count": null,
   "id": "e9d19a6e",
   "metadata": {},
   "outputs": [],
   "source": [
    "# Login through local Wallaroo instance\n",
    "\n",
    "wl = wallaroo.Client()"
   ]
  },
  {
   "cell_type": "code",
   "execution_count": 5,
   "id": "06a981ef",
   "metadata": {},
   "outputs": [],
   "source": [
    "# Setting variables for later steps\n",
    "\n",
    "workspace_name = f'orchestrationworkspace{suffix}'\n",
    "pipeline_name = f'orchestrationpipeline{suffix}'\n",
    "model_name = f'orchestrationmodel{suffix}'\n",
    "model_file_name = './models/rf_model.onnx'\n",
    "connection_name = f'houseprice_arrow_table{suffix}'"
   ]
  },
  {
   "attachments": {},
   "cell_type": "markdown",
   "id": "9c46c722",
   "metadata": {},
   "source": [
    "### Helper Methods\n",
    "\n",
    "The following helper methods are used to either create or get workspaces and pipelines."
   ]
  },
  {
   "cell_type": "code",
   "execution_count": 6,
   "id": "0361a9db",
   "metadata": {},
   "outputs": [],
   "source": [
    "# helper methods to retrieve workspaces and pipelines\n",
    "\n",
    "def get_workspace(name):\n",
    "    workspace = None\n",
    "    for ws in wl.list_workspaces():\n",
    "        if ws.name() == name:\n",
    "            workspace= ws\n",
    "    if(workspace == None):\n",
    "        workspace = wl.create_workspace(name)\n",
    "    return workspace\n",
    "\n",
    "def get_pipeline(name):\n",
    "    try:\n",
    "        pipeline = wl.pipelines_by_name(name)[0]\n",
    "    except EntityNotFoundError:\n",
    "        pipeline = wl.build_pipeline(name)\n",
    "    return pipeline"
   ]
  },
  {
   "attachments": {},
   "cell_type": "markdown",
   "id": "98b78cf9",
   "metadata": {},
   "source": [
    "### Create the Workspace and Pipeline\n",
    "\n",
    "We'll now create our workspace and pipeline for the tutorial.  If this tutorial has been run previously, then this will retrieve the existing ones with the assumption they're for us with this tutorial.\n",
    "\n",
    "We'll set the retrieved workspace as the current workspace in the SDK, so all commands will default to that workspace."
   ]
  },
  {
   "cell_type": "code",
   "execution_count": 7,
   "id": "59aa845d",
   "metadata": {},
   "outputs": [],
   "source": [
    "workspace = get_workspace(workspace_name)\n",
    "wl.set_current_workspace(workspace)\n",
    "\n",
    "pipeline = get_pipeline(pipeline_name)"
   ]
  },
  {
   "attachments": {},
   "cell_type": "markdown",
   "id": "8a9fc274",
   "metadata": {},
   "source": [
    "### Upload the Model and Deploy Pipeline\n",
    "\n",
    "We'll upload our model into our sample workspace, then add it as a pipeline step before deploying the pipeline to it's ready to accept inference requests."
   ]
  },
  {
   "cell_type": "code",
   "execution_count": 8,
   "id": "f6a69610",
   "metadata": {},
   "outputs": [
    {
     "data": {
      "text/html": [
       "<table><tr><th>name</th> <td>orchestrationpipelinetgiq</td></tr><tr><th>created</th> <td>2023-05-22 19:54:06.933674+00:00</td></tr><tr><th>last_updated</th> <td>2023-05-22 19:54:06.933674+00:00</td></tr><tr><th>deployed</th> <td>(none)</td></tr><tr><th>tags</th> <td></td></tr><tr><th>versions</th> <td>ed5bf4b1-1d5d-4ff9-8a23-2c1e44a8e672</td></tr><tr><th>steps</th> <td></td></tr></table>"
      ],
      "text/plain": [
       "{'name': 'orchestrationpipelinetgiq', 'create_time': datetime.datetime(2023, 5, 22, 19, 54, 6, 933674, tzinfo=tzutc()), 'definition': \"[{'ModelInference': {'models': [{'name': 'orchestrationmodeltgiq', 'version': '4f614a94-074a-4a6f-8fc2-dc85cfe688c8', 'sha': 'e22a0831aafd9917f3cc87a15ed267797f80e2afa12ad7d8810ca58f173b8cc6'}]}}]\"}"
      ]
     },
     "execution_count": 8,
     "metadata": {},
     "output_type": "execute_result"
    }
   ],
   "source": [
    "# Upload the model\n",
    "\n",
    "housing_model_control = wl.upload_model(model_name, model_file_name).configure()\n",
    "\n",
    "# Add the model as a pipeline step\n",
    "\n",
    "pipeline.add_model_step(housing_model_control)"
   ]
  },
  {
   "cell_type": "code",
   "execution_count": 9,
   "id": "a484796e",
   "metadata": {},
   "outputs": [
    {
     "name": "stdout",
     "output_type": "stream",
     "text": [
      "Waiting for deployment - this will take up to 45s ........................ ok\n"
     ]
    },
    {
     "data": {
      "text/html": [
       "<table><tr><th>name</th> <td>orchestrationpipelinetgiq</td></tr><tr><th>created</th> <td>2023-05-22 19:54:06.933674+00:00</td></tr><tr><th>last_updated</th> <td>2023-05-22 19:54:08.008312+00:00</td></tr><tr><th>deployed</th> <td>True</td></tr><tr><th>tags</th> <td></td></tr><tr><th>versions</th> <td>a7336408-20ef-4b65-8167-c2f80c968a21, ed5bf4b1-1d5d-4ff9-8a23-2c1e44a8e672</td></tr><tr><th>steps</th> <td>orchestrationmodeltgiq</td></tr></table>"
      ],
      "text/plain": [
       "{'name': 'orchestrationpipelinetgiq', 'create_time': datetime.datetime(2023, 5, 22, 19, 54, 6, 933674, tzinfo=tzutc()), 'definition': \"[{'ModelInference': {'models': [{'name': 'orchestrationmodeltgiq', 'version': '4f614a94-074a-4a6f-8fc2-dc85cfe688c8', 'sha': 'e22a0831aafd9917f3cc87a15ed267797f80e2afa12ad7d8810ca58f173b8cc6'}]}}]\"}"
      ]
     },
     "execution_count": 9,
     "metadata": {},
     "output_type": "execute_result"
    }
   ],
   "source": [
    "#deploy the pipeline\n",
    "pipeline.deploy()"
   ]
  },
  {
   "attachments": {},
   "cell_type": "markdown",
   "id": "573bc347",
   "metadata": {},
   "source": [
    "### Sample Inferences\n",
    "\n",
    "We'll perform some quick sample inferences using an Apache Arrow table as the input.  Once that's finished, we'll undeploy the pipeline and return the resources back to the Wallaroo instance."
   ]
  },
  {
   "cell_type": "code",
   "execution_count": 10,
   "id": "f5a9e266",
   "metadata": {},
   "outputs": [
    {
     "data": {
      "text/html": [
       "<div>\n",
       "<style scoped>\n",
       "    .dataframe tbody tr th:only-of-type {\n",
       "        vertical-align: middle;\n",
       "    }\n",
       "\n",
       "    .dataframe tbody tr th {\n",
       "        vertical-align: top;\n",
       "    }\n",
       "\n",
       "    .dataframe thead th {\n",
       "        text-align: right;\n",
       "    }\n",
       "</style>\n",
       "<table border=\"1\" class=\"dataframe\">\n",
       "  <thead>\n",
       "    <tr style=\"text-align: right;\">\n",
       "      <th></th>\n",
       "      <th>time</th>\n",
       "      <th>in.tensor</th>\n",
       "      <th>out.variable</th>\n",
       "      <th>check_failures</th>\n",
       "    </tr>\n",
       "  </thead>\n",
       "  <tbody>\n",
       "    <tr>\n",
       "      <th>0</th>\n",
       "      <td>2023-05-22 19:54:33.671</td>\n",
       "      <td>[4.0, 2.5, 2900.0, 5505.0, 2.0, 0.0, 0.0, 3.0, 8.0, 2900.0, 0.0, 47.6063, -122.02, 2970.0, 5251.0, 12.0, 0.0, 0.0]</td>\n",
       "      <td>[718013.75]</td>\n",
       "      <td>0</td>\n",
       "    </tr>\n",
       "    <tr>\n",
       "      <th>1</th>\n",
       "      <td>2023-05-22 19:54:33.671</td>\n",
       "      <td>[2.0, 2.5, 2170.0, 6361.0, 1.0, 0.0, 2.0, 3.0, 8.0, 2170.0, 0.0, 47.7109, -122.017, 2310.0, 7419.0, 6.0, 0.0, 0.0]</td>\n",
       "      <td>[615094.56]</td>\n",
       "      <td>0</td>\n",
       "    </tr>\n",
       "    <tr>\n",
       "      <th>2</th>\n",
       "      <td>2023-05-22 19:54:33.671</td>\n",
       "      <td>[3.0, 2.5, 1300.0, 812.0, 2.0, 0.0, 0.0, 3.0, 8.0, 880.0, 420.0, 47.5893, -122.317, 1300.0, 824.0, 6.0, 0.0, 0.0]</td>\n",
       "      <td>[448627.72]</td>\n",
       "      <td>0</td>\n",
       "    </tr>\n",
       "    <tr>\n",
       "      <th>3</th>\n",
       "      <td>2023-05-22 19:54:33.671</td>\n",
       "      <td>[4.0, 2.5, 2500.0, 8540.0, 2.0, 0.0, 0.0, 3.0, 9.0, 2500.0, 0.0, 47.5759, -121.994, 2560.0, 8475.0, 24.0, 0.0, 0.0]</td>\n",
       "      <td>[758714.2]</td>\n",
       "      <td>0</td>\n",
       "    </tr>\n",
       "    <tr>\n",
       "      <th>4</th>\n",
       "      <td>2023-05-22 19:54:33.671</td>\n",
       "      <td>[3.0, 1.75, 2200.0, 11520.0, 1.0, 0.0, 0.0, 4.0, 7.0, 2200.0, 0.0, 47.7659, -122.341, 1690.0, 8038.0, 62.0, 0.0, 0.0]</td>\n",
       "      <td>[513264.7]</td>\n",
       "      <td>0</td>\n",
       "    </tr>\n",
       "    <tr>\n",
       "      <th>5</th>\n",
       "      <td>2023-05-22 19:54:33.671</td>\n",
       "      <td>[3.0, 2.0, 2140.0, 4923.0, 1.0, 0.0, 0.0, 4.0, 8.0, 1070.0, 1070.0, 47.6902, -122.339, 1470.0, 4923.0, 86.0, 0.0, 0.0]</td>\n",
       "      <td>[668288.0]</td>\n",
       "      <td>0</td>\n",
       "    </tr>\n",
       "    <tr>\n",
       "      <th>6</th>\n",
       "      <td>2023-05-22 19:54:33.671</td>\n",
       "      <td>[4.0, 3.5, 3590.0, 5334.0, 2.0, 0.0, 2.0, 3.0, 9.0, 3140.0, 450.0, 47.6763, -122.267, 2100.0, 6250.0, 9.0, 0.0, 0.0]</td>\n",
       "      <td>[1004846.5]</td>\n",
       "      <td>0</td>\n",
       "    </tr>\n",
       "    <tr>\n",
       "      <th>7</th>\n",
       "      <td>2023-05-22 19:54:33.671</td>\n",
       "      <td>[3.0, 2.0, 1280.0, 960.0, 2.0, 0.0, 0.0, 3.0, 9.0, 1040.0, 240.0, 47.602, -122.311, 1280.0, 1173.0, 0.0, 0.0, 0.0]</td>\n",
       "      <td>[684577.2]</td>\n",
       "      <td>0</td>\n",
       "    </tr>\n",
       "    <tr>\n",
       "      <th>8</th>\n",
       "      <td>2023-05-22 19:54:33.671</td>\n",
       "      <td>[4.0, 2.5, 2820.0, 15000.0, 2.0, 0.0, 0.0, 4.0, 9.0, 2820.0, 0.0, 47.7255, -122.101, 2440.0, 15000.0, 29.0, 0.0, 0.0]</td>\n",
       "      <td>[727898.1]</td>\n",
       "      <td>0</td>\n",
       "    </tr>\n",
       "    <tr>\n",
       "      <th>9</th>\n",
       "      <td>2023-05-22 19:54:33.671</td>\n",
       "      <td>[3.0, 2.25, 1790.0, 11393.0, 1.0, 0.0, 0.0, 3.0, 8.0, 1790.0, 0.0, 47.6297, -122.099, 2290.0, 11894.0, 36.0, 0.0, 0.0]</td>\n",
       "      <td>[559631.1]</td>\n",
       "      <td>0</td>\n",
       "    </tr>\n",
       "    <tr>\n",
       "      <th>10</th>\n",
       "      <td>2023-05-22 19:54:33.671</td>\n",
       "      <td>[3.0, 1.5, 1010.0, 7683.0, 1.5, 0.0, 0.0, 5.0, 7.0, 1010.0, 0.0, 47.72, -122.318, 1550.0, 7271.0, 61.0, 0.0, 0.0]</td>\n",
       "      <td>[340764.53]</td>\n",
       "      <td>0</td>\n",
       "    </tr>\n",
       "    <tr>\n",
       "      <th>11</th>\n",
       "      <td>2023-05-22 19:54:33.671</td>\n",
       "      <td>[3.0, 2.0, 1270.0, 1323.0, 3.0, 0.0, 0.0, 3.0, 8.0, 1270.0, 0.0, 47.6934, -122.342, 1330.0, 1323.0, 8.0, 0.0, 0.0]</td>\n",
       "      <td>[442168.06]</td>\n",
       "      <td>0</td>\n",
       "    </tr>\n",
       "    <tr>\n",
       "      <th>12</th>\n",
       "      <td>2023-05-22 19:54:33.671</td>\n",
       "      <td>[4.0, 1.75, 2070.0, 9120.0, 1.0, 0.0, 0.0, 4.0, 7.0, 1250.0, 820.0, 47.6045, -122.123, 1650.0, 8400.0, 57.0, 0.0, 0.0]</td>\n",
       "      <td>[630865.6]</td>\n",
       "      <td>0</td>\n",
       "    </tr>\n",
       "    <tr>\n",
       "      <th>13</th>\n",
       "      <td>2023-05-22 19:54:33.671</td>\n",
       "      <td>[4.0, 1.0, 1620.0, 4080.0, 1.5, 0.0, 0.0, 3.0, 7.0, 1620.0, 0.0, 47.6696, -122.324, 1760.0, 4080.0, 91.0, 0.0, 0.0]</td>\n",
       "      <td>[559631.1]</td>\n",
       "      <td>0</td>\n",
       "    </tr>\n",
       "    <tr>\n",
       "      <th>14</th>\n",
       "      <td>2023-05-22 19:54:33.671</td>\n",
       "      <td>[4.0, 3.25, 3990.0, 9786.0, 2.0, 0.0, 0.0, 3.0, 9.0, 3990.0, 0.0, 47.6784, -122.026, 3920.0, 8200.0, 10.0, 0.0, 0.0]</td>\n",
       "      <td>[909441.1]</td>\n",
       "      <td>0</td>\n",
       "    </tr>\n",
       "    <tr>\n",
       "      <th>15</th>\n",
       "      <td>2023-05-22 19:54:33.671</td>\n",
       "      <td>[4.0, 2.0, 1780.0, 19843.0, 1.0, 0.0, 0.0, 3.0, 7.0, 1780.0, 0.0, 47.4414, -122.154, 2210.0, 13500.0, 52.0, 0.0, 0.0]</td>\n",
       "      <td>[313096.0]</td>\n",
       "      <td>0</td>\n",
       "    </tr>\n",
       "    <tr>\n",
       "      <th>16</th>\n",
       "      <td>2023-05-22 19:54:33.671</td>\n",
       "      <td>[4.0, 2.5, 2130.0, 6003.0, 2.0, 0.0, 0.0, 3.0, 8.0, 2130.0, 0.0, 47.4518, -122.12, 1940.0, 4529.0, 11.0, 0.0, 0.0]</td>\n",
       "      <td>[404040.8]</td>\n",
       "      <td>0</td>\n",
       "    </tr>\n",
       "    <tr>\n",
       "      <th>17</th>\n",
       "      <td>2023-05-22 19:54:33.671</td>\n",
       "      <td>[3.0, 1.75, 1660.0, 10440.0, 1.0, 0.0, 0.0, 3.0, 7.0, 1040.0, 620.0, 47.4448, -121.77, 1240.0, 10380.0, 36.0, 0.0, 0.0]</td>\n",
       "      <td>[292859.5]</td>\n",
       "      <td>0</td>\n",
       "    </tr>\n",
       "    <tr>\n",
       "      <th>18</th>\n",
       "      <td>2023-05-22 19:54:33.671</td>\n",
       "      <td>[3.0, 2.5, 2110.0, 4118.0, 2.0, 0.0, 0.0, 3.0, 8.0, 2110.0, 0.0, 47.3878, -122.153, 2110.0, 4044.0, 25.0, 0.0, 0.0]</td>\n",
       "      <td>[338357.88]</td>\n",
       "      <td>0</td>\n",
       "    </tr>\n",
       "    <tr>\n",
       "      <th>19</th>\n",
       "      <td>2023-05-22 19:54:33.671</td>\n",
       "      <td>[4.0, 2.25, 2200.0, 11250.0, 1.5, 0.0, 0.0, 5.0, 7.0, 1300.0, 900.0, 47.6845, -122.201, 2320.0, 10814.0, 94.0, 0.0, 0.0]</td>\n",
       "      <td>[682284.6]</td>\n",
       "      <td>0</td>\n",
       "    </tr>\n",
       "  </tbody>\n",
       "</table>\n",
       "</div>"
      ],
      "text/plain": [
       "                      time  \\\n",
       "0  2023-05-22 19:54:33.671   \n",
       "1  2023-05-22 19:54:33.671   \n",
       "2  2023-05-22 19:54:33.671   \n",
       "3  2023-05-22 19:54:33.671   \n",
       "4  2023-05-22 19:54:33.671   \n",
       "5  2023-05-22 19:54:33.671   \n",
       "6  2023-05-22 19:54:33.671   \n",
       "7  2023-05-22 19:54:33.671   \n",
       "8  2023-05-22 19:54:33.671   \n",
       "9  2023-05-22 19:54:33.671   \n",
       "10 2023-05-22 19:54:33.671   \n",
       "11 2023-05-22 19:54:33.671   \n",
       "12 2023-05-22 19:54:33.671   \n",
       "13 2023-05-22 19:54:33.671   \n",
       "14 2023-05-22 19:54:33.671   \n",
       "15 2023-05-22 19:54:33.671   \n",
       "16 2023-05-22 19:54:33.671   \n",
       "17 2023-05-22 19:54:33.671   \n",
       "18 2023-05-22 19:54:33.671   \n",
       "19 2023-05-22 19:54:33.671   \n",
       "\n",
       "                                                                                                                   in.tensor  \\\n",
       "0         [4.0, 2.5, 2900.0, 5505.0, 2.0, 0.0, 0.0, 3.0, 8.0, 2900.0, 0.0, 47.6063, -122.02, 2970.0, 5251.0, 12.0, 0.0, 0.0]   \n",
       "1         [2.0, 2.5, 2170.0, 6361.0, 1.0, 0.0, 2.0, 3.0, 8.0, 2170.0, 0.0, 47.7109, -122.017, 2310.0, 7419.0, 6.0, 0.0, 0.0]   \n",
       "2          [3.0, 2.5, 1300.0, 812.0, 2.0, 0.0, 0.0, 3.0, 8.0, 880.0, 420.0, 47.5893, -122.317, 1300.0, 824.0, 6.0, 0.0, 0.0]   \n",
       "3        [4.0, 2.5, 2500.0, 8540.0, 2.0, 0.0, 0.0, 3.0, 9.0, 2500.0, 0.0, 47.5759, -121.994, 2560.0, 8475.0, 24.0, 0.0, 0.0]   \n",
       "4      [3.0, 1.75, 2200.0, 11520.0, 1.0, 0.0, 0.0, 4.0, 7.0, 2200.0, 0.0, 47.7659, -122.341, 1690.0, 8038.0, 62.0, 0.0, 0.0]   \n",
       "5     [3.0, 2.0, 2140.0, 4923.0, 1.0, 0.0, 0.0, 4.0, 8.0, 1070.0, 1070.0, 47.6902, -122.339, 1470.0, 4923.0, 86.0, 0.0, 0.0]   \n",
       "6       [4.0, 3.5, 3590.0, 5334.0, 2.0, 0.0, 2.0, 3.0, 9.0, 3140.0, 450.0, 47.6763, -122.267, 2100.0, 6250.0, 9.0, 0.0, 0.0]   \n",
       "7         [3.0, 2.0, 1280.0, 960.0, 2.0, 0.0, 0.0, 3.0, 9.0, 1040.0, 240.0, 47.602, -122.311, 1280.0, 1173.0, 0.0, 0.0, 0.0]   \n",
       "8      [4.0, 2.5, 2820.0, 15000.0, 2.0, 0.0, 0.0, 4.0, 9.0, 2820.0, 0.0, 47.7255, -122.101, 2440.0, 15000.0, 29.0, 0.0, 0.0]   \n",
       "9     [3.0, 2.25, 1790.0, 11393.0, 1.0, 0.0, 0.0, 3.0, 8.0, 1790.0, 0.0, 47.6297, -122.099, 2290.0, 11894.0, 36.0, 0.0, 0.0]   \n",
       "10         [3.0, 1.5, 1010.0, 7683.0, 1.5, 0.0, 0.0, 5.0, 7.0, 1010.0, 0.0, 47.72, -122.318, 1550.0, 7271.0, 61.0, 0.0, 0.0]   \n",
       "11        [3.0, 2.0, 1270.0, 1323.0, 3.0, 0.0, 0.0, 3.0, 8.0, 1270.0, 0.0, 47.6934, -122.342, 1330.0, 1323.0, 8.0, 0.0, 0.0]   \n",
       "12    [4.0, 1.75, 2070.0, 9120.0, 1.0, 0.0, 0.0, 4.0, 7.0, 1250.0, 820.0, 47.6045, -122.123, 1650.0, 8400.0, 57.0, 0.0, 0.0]   \n",
       "13       [4.0, 1.0, 1620.0, 4080.0, 1.5, 0.0, 0.0, 3.0, 7.0, 1620.0, 0.0, 47.6696, -122.324, 1760.0, 4080.0, 91.0, 0.0, 0.0]   \n",
       "14      [4.0, 3.25, 3990.0, 9786.0, 2.0, 0.0, 0.0, 3.0, 9.0, 3990.0, 0.0, 47.6784, -122.026, 3920.0, 8200.0, 10.0, 0.0, 0.0]   \n",
       "15     [4.0, 2.0, 1780.0, 19843.0, 1.0, 0.0, 0.0, 3.0, 7.0, 1780.0, 0.0, 47.4414, -122.154, 2210.0, 13500.0, 52.0, 0.0, 0.0]   \n",
       "16        [4.0, 2.5, 2130.0, 6003.0, 2.0, 0.0, 0.0, 3.0, 8.0, 2130.0, 0.0, 47.4518, -122.12, 1940.0, 4529.0, 11.0, 0.0, 0.0]   \n",
       "17   [3.0, 1.75, 1660.0, 10440.0, 1.0, 0.0, 0.0, 3.0, 7.0, 1040.0, 620.0, 47.4448, -121.77, 1240.0, 10380.0, 36.0, 0.0, 0.0]   \n",
       "18       [3.0, 2.5, 2110.0, 4118.0, 2.0, 0.0, 0.0, 3.0, 8.0, 2110.0, 0.0, 47.3878, -122.153, 2110.0, 4044.0, 25.0, 0.0, 0.0]   \n",
       "19  [4.0, 2.25, 2200.0, 11250.0, 1.5, 0.0, 0.0, 5.0, 7.0, 1300.0, 900.0, 47.6845, -122.201, 2320.0, 10814.0, 94.0, 0.0, 0.0]   \n",
       "\n",
       "   out.variable  check_failures  \n",
       "0   [718013.75]               0  \n",
       "1   [615094.56]               0  \n",
       "2   [448627.72]               0  \n",
       "3    [758714.2]               0  \n",
       "4    [513264.7]               0  \n",
       "5    [668288.0]               0  \n",
       "6   [1004846.5]               0  \n",
       "7    [684577.2]               0  \n",
       "8    [727898.1]               0  \n",
       "9    [559631.1]               0  \n",
       "10  [340764.53]               0  \n",
       "11  [442168.06]               0  \n",
       "12   [630865.6]               0  \n",
       "13   [559631.1]               0  \n",
       "14   [909441.1]               0  \n",
       "15   [313096.0]               0  \n",
       "16   [404040.8]               0  \n",
       "17   [292859.5]               0  \n",
       "18  [338357.88]               0  \n",
       "19   [682284.6]               0  "
      ]
     },
     "metadata": {},
     "output_type": "display_data"
    }
   ],
   "source": [
    "# sample inferences\n",
    "\n",
    "batch_inferences = pipeline.infer_from_file('./data/xtest-1k.arrow')\n",
    "\n",
    "large_inference_result =  batch_inferences.to_pandas()\n",
    "display(large_inference_result.head(20))"
   ]
  },
  {
   "attachments": {},
   "cell_type": "markdown",
   "id": "b7fc12cb",
   "metadata": {},
   "source": [
    "## Create Wallaroo Connection\n",
    "\n"
   ]
  },
  {
   "attachments": {},
   "cell_type": "markdown",
   "id": "f37027c1",
   "metadata": {},
   "source": [
    "\n",
    "Connections are created at the Wallaroo instance level, typically by a MLOps or DevOps engineer, then applied to a workspace.\n",
    "\n",
    "For this section:\n",
    "\n",
    "1. We will create a sample connection that just has a URL to the same Arrow table file we used in the previous step.\n",
    "1. We'll apply the data connection to the workspace above.\n",
    "1. For a quick demonstration, we'll use the connection to retrieve the Arrow table file and use it for a quick sample inference."
   ]
  },
  {
   "attachments": {},
   "cell_type": "markdown",
   "id": "da10ec00",
   "metadata": {},
   "source": [
    "### Create Connection\n",
    "\n",
    "Connections are created with the Wallaroo client command [`create_connection`](https://docs.wallaroo.ai/wallaroo-developer-guides/wallaroo-sdk-guides/wallaroo-sdk-essentials-guide/wallaroo-sdk-essentials-dataconnections/#create-data-connection) with the following parameters.\n",
    "\n",
    "| Parameter | Type | Description |\n",
    "| --- | --- | ---|\n",
    "| **name** | string (Required) | The name of the connection. This must be unique - if submitting the name of an existing connection it will return an error. |\n",
    "| **type** | string (Required) | The user defined type of connection. |\n",
    "| **details** | Dict (Requires) | User defined configuration details for the data connection.  These can be `{'username':'dataperson', 'password':'datapassword', 'port': 3339}`, or `{'token':'abcde123==', 'host':'example.com', 'port:1234'}`, or other user defined combinations.  |\n",
    "\n",
    "We'll create the connection named `houseprice_arrow_table`, set it to the type `HTTPFILE`, and provide the details as `'host':'https://github.com/WallarooLabs/Wallaroo_Tutorials/raw/main/wallaroo-testing-tutorials/houseprice-saga/data/xtest-1k.arrow'` - the location for our sample Arrow table inference input."
   ]
  },
  {
   "cell_type": "code",
   "execution_count": 11,
   "id": "5c10ee71",
   "metadata": {},
   "outputs": [
    {
     "data": {
      "text/html": [
       "\n",
       "        <table>\n",
       "          <tr>\n",
       "            <th>Field</th>\n",
       "            <th>Value</th>\n",
       "          </tr>\n",
       "          <tr>\n",
       "            <td>Name</td><td>houseprice_arrow_tabletgiq</td>\n",
       "          </tr>\n",
       "          <tr>\n",
       "            <td>Connection Type</td><td>HTTPFILE</td>\n",
       "          </tr>\n",
       "          <tr>\n",
       "            <td>Details</td><td>*****</td>\n",
       "          </tr>\n",
       "          <tr>\n",
       "            <td>Created At</td><td>2023-05-22T19:54:33.723860+00:00</td>\n",
       "          </tr>\n",
       "          <tr>\n",
       "            <td>Linked Workspaces</td><td>[]</td>\n",
       "          </tr>\n",
       "        </table>\n",
       "        "
      ],
      "text/plain": [
       "<wallaroo.connection.Connection at 0x7f14844edeb0>"
      ]
     },
     "execution_count": 11,
     "metadata": {},
     "output_type": "execute_result"
    }
   ],
   "source": [
    "wl.create_connection(connection_name, \n",
    "                  \"HTTPFILE\", \n",
    "                  {'host':'https://github.com/WallarooLabs/Wallaroo_Tutorials/raw/main/wallaroo-testing-tutorials/houseprice-saga/data/xtest-1k.arrow'}\n",
    "                  )"
   ]
  },
  {
   "attachments": {},
   "cell_type": "markdown",
   "id": "fc3baa09",
   "metadata": {},
   "source": [
    "### List Data Connections\n",
    "\n",
    "The Wallaroo Client [`list_connections()`](https://docs.wallaroo.ai/wallaroo-developer-guides/wallaroo-sdk-guides/wallaroo-sdk-essentials-guide/wallaroo-sdk-essentials-dataconnections/#list-data-connections) method lists all connections for the Wallaroo instance.\n"
   ]
  },
  {
   "cell_type": "code",
   "execution_count": 12,
   "id": "6cc80cd3",
   "metadata": {},
   "outputs": [
    {
     "data": {
      "text/html": [
       "<table><tr><th>name</th><th>connection type</th><th>details</th><th>created at</th><th>linked workspaces</th></tr><tr><td>houseprice_arrow_tabletgiq</td><td>HTTPFILE</td><td>*****</td><td>2023-05-22T19:54:33.723860+00:00</td><td>[]</td></tr></table>"
      ],
      "text/plain": [
       "[<wallaroo.connection.Connection at 0x7f146afedd30>]"
      ]
     },
     "execution_count": 12,
     "metadata": {},
     "output_type": "execute_result"
    }
   ],
   "source": [
    "wl.list_connections()"
   ]
  },
  {
   "attachments": {},
   "cell_type": "markdown",
   "id": "884d3171",
   "metadata": {},
   "source": [
    "### Add Connection to Workspace\n",
    "\n",
    "The method Workspace [`add_connection(connection_name)`](https://docs.wallaroo.ai/wallaroo-developer-guides/wallaroo-sdk-guides/wallaroo-sdk-essentials-guide/wallaroo-sdk-essentials-dataconnections/#add-data-connection-to-workspace) adds a Data Connection to a workspace, and takes the following parameters.\n",
    "\n",
    "| Parameter | Type | Description |\n",
    "| --- | --- | ---|\n",
    "| **name** | string (Required) | The name of the Data Connection |\n",
    "\n",
    "We'll add this connection to our sample workspace."
   ]
  },
  {
   "cell_type": "code",
   "execution_count": 13,
   "id": "6d674d81",
   "metadata": {},
   "outputs": [],
   "source": [
    "workspace.add_connection(connection_name)"
   ]
  },
  {
   "attachments": {},
   "cell_type": "markdown",
   "id": "5994ccee",
   "metadata": {},
   "source": [
    "### List Connections in a Workspace\n",
    "\n",
    "The method Workspace `list_connections()` displays a list of connections attached to the workspace.  By default the `details` field is obfuscated.  We'll list the connections in our sample workspace, then use that to retrieve our specific connection."
   ]
  },
  {
   "cell_type": "code",
   "execution_count": 14,
   "id": "782825b0",
   "metadata": {},
   "outputs": [
    {
     "data": {
      "text/html": [
       "<table><tr><th>name</th><th>connection type</th><th>details</th><th>created at</th><th>linked workspaces</th></tr><tr><td>houseprice_arrow_tabletgiq</td><td>HTTPFILE</td><td>*****</td><td>2023-05-22T19:54:33.723860+00:00</td><td>['orchestrationworkspacetgiq']</td></tr></table>"
      ],
      "text/plain": [
       "[<wallaroo.connection.Connection at 0x7f146aff7160>]"
      ]
     },
     "execution_count": 14,
     "metadata": {},
     "output_type": "execute_result"
    }
   ],
   "source": [
    "workspace.list_connections()"
   ]
  },
  {
   "attachments": {},
   "cell_type": "markdown",
   "id": "ea8eea26",
   "metadata": {},
   "source": [
    "### Get Connection\n",
    "\n",
    "Connections are retrieved by the Wallaroo Client `get_connection(name)` method."
   ]
  },
  {
   "cell_type": "code",
   "execution_count": 15,
   "id": "1a56ad0a",
   "metadata": {},
   "outputs": [],
   "source": [
    "connection = wl.get_connection(connection_name)"
   ]
  },
  {
   "attachments": {},
   "cell_type": "markdown",
   "id": "f2eeac50",
   "metadata": {},
   "source": [
    "### Connection Details\n",
    "\n",
    "The Connection method `details()` retrieves a the connection `details()` as a `dict`."
   ]
  },
  {
   "cell_type": "code",
   "execution_count": 16,
   "id": "bf30876c",
   "metadata": {},
   "outputs": [
    {
     "data": {
      "text/plain": [
       "{'host': 'https://github.com/WallarooLabs/Wallaroo_Tutorials/raw/main/wallaroo-testing-tutorials/houseprice-saga/data/xtest-1k.arrow'}"
      ]
     },
     "metadata": {},
     "output_type": "display_data"
    }
   ],
   "source": [
    "display(connection.details())"
   ]
  },
  {
   "attachments": {},
   "cell_type": "markdown",
   "id": "b8d44dc7",
   "metadata": {},
   "source": [
    "### Using a Connection Example\n",
    "\n",
    "For this example, the connection will be used to retrieve the Apache Arrow file referenced in the connection, and use that to turn it into an Apache Arrow table, then use that for a sample inference."
   ]
  },
  {
   "cell_type": "code",
   "execution_count": 17,
   "id": "8031e8e3",
   "metadata": {},
   "outputs": [
    {
     "name": "stdout",
     "output_type": "stream",
     "text": [
      " ok\n"
     ]
    },
    {
     "data": {
      "text/html": [
       "<div>\n",
       "<style scoped>\n",
       "    .dataframe tbody tr th:only-of-type {\n",
       "        vertical-align: middle;\n",
       "    }\n",
       "\n",
       "    .dataframe tbody tr th {\n",
       "        vertical-align: top;\n",
       "    }\n",
       "\n",
       "    .dataframe thead th {\n",
       "        text-align: right;\n",
       "    }\n",
       "</style>\n",
       "<table border=\"1\" class=\"dataframe\">\n",
       "  <thead>\n",
       "    <tr style=\"text-align: right;\">\n",
       "      <th></th>\n",
       "      <th>time</th>\n",
       "      <th>in.tensor</th>\n",
       "      <th>out.variable</th>\n",
       "      <th>check_failures</th>\n",
       "    </tr>\n",
       "  </thead>\n",
       "  <tbody>\n",
       "    <tr>\n",
       "      <th>0</th>\n",
       "      <td>2023-05-22 19:54:34.320</td>\n",
       "      <td>[4.0, 2.5, 2900.0, 5505.0, 2.0, 0.0, 0.0, 3.0, 8.0, 2900.0, 0.0, 47.6063, -122.02, 2970.0, 5251.0, 12.0, 0.0, 0.0]</td>\n",
       "      <td>[718013.75]</td>\n",
       "      <td>0</td>\n",
       "    </tr>\n",
       "    <tr>\n",
       "      <th>1</th>\n",
       "      <td>2023-05-22 19:54:34.320</td>\n",
       "      <td>[2.0, 2.5, 2170.0, 6361.0, 1.0, 0.0, 2.0, 3.0, 8.0, 2170.0, 0.0, 47.7109, -122.017, 2310.0, 7419.0, 6.0, 0.0, 0.0]</td>\n",
       "      <td>[615094.56]</td>\n",
       "      <td>0</td>\n",
       "    </tr>\n",
       "    <tr>\n",
       "      <th>2</th>\n",
       "      <td>2023-05-22 19:54:34.320</td>\n",
       "      <td>[3.0, 2.5, 1300.0, 812.0, 2.0, 0.0, 0.0, 3.0, 8.0, 880.0, 420.0, 47.5893, -122.317, 1300.0, 824.0, 6.0, 0.0, 0.0]</td>\n",
       "      <td>[448627.72]</td>\n",
       "      <td>0</td>\n",
       "    </tr>\n",
       "    <tr>\n",
       "      <th>3</th>\n",
       "      <td>2023-05-22 19:54:34.320</td>\n",
       "      <td>[4.0, 2.5, 2500.0, 8540.0, 2.0, 0.0, 0.0, 3.0, 9.0, 2500.0, 0.0, 47.5759, -121.994, 2560.0, 8475.0, 24.0, 0.0, 0.0]</td>\n",
       "      <td>[758714.2]</td>\n",
       "      <td>0</td>\n",
       "    </tr>\n",
       "    <tr>\n",
       "      <th>4</th>\n",
       "      <td>2023-05-22 19:54:34.320</td>\n",
       "      <td>[3.0, 1.75, 2200.0, 11520.0, 1.0, 0.0, 0.0, 4.0, 7.0, 2200.0, 0.0, 47.7659, -122.341, 1690.0, 8038.0, 62.0, 0.0, 0.0]</td>\n",
       "      <td>[513264.7]</td>\n",
       "      <td>0</td>\n",
       "    </tr>\n",
       "    <tr>\n",
       "      <th>5</th>\n",
       "      <td>2023-05-22 19:54:34.320</td>\n",
       "      <td>[3.0, 2.0, 2140.0, 4923.0, 1.0, 0.0, 0.0, 4.0, 8.0, 1070.0, 1070.0, 47.6902, -122.339, 1470.0, 4923.0, 86.0, 0.0, 0.0]</td>\n",
       "      <td>[668288.0]</td>\n",
       "      <td>0</td>\n",
       "    </tr>\n",
       "    <tr>\n",
       "      <th>6</th>\n",
       "      <td>2023-05-22 19:54:34.320</td>\n",
       "      <td>[4.0, 3.5, 3590.0, 5334.0, 2.0, 0.0, 2.0, 3.0, 9.0, 3140.0, 450.0, 47.6763, -122.267, 2100.0, 6250.0, 9.0, 0.0, 0.0]</td>\n",
       "      <td>[1004846.5]</td>\n",
       "      <td>0</td>\n",
       "    </tr>\n",
       "    <tr>\n",
       "      <th>7</th>\n",
       "      <td>2023-05-22 19:54:34.320</td>\n",
       "      <td>[3.0, 2.0, 1280.0, 960.0, 2.0, 0.0, 0.0, 3.0, 9.0, 1040.0, 240.0, 47.602, -122.311, 1280.0, 1173.0, 0.0, 0.0, 0.0]</td>\n",
       "      <td>[684577.2]</td>\n",
       "      <td>0</td>\n",
       "    </tr>\n",
       "    <tr>\n",
       "      <th>8</th>\n",
       "      <td>2023-05-22 19:54:34.320</td>\n",
       "      <td>[4.0, 2.5, 2820.0, 15000.0, 2.0, 0.0, 0.0, 4.0, 9.0, 2820.0, 0.0, 47.7255, -122.101, 2440.0, 15000.0, 29.0, 0.0, 0.0]</td>\n",
       "      <td>[727898.1]</td>\n",
       "      <td>0</td>\n",
       "    </tr>\n",
       "    <tr>\n",
       "      <th>9</th>\n",
       "      <td>2023-05-22 19:54:34.320</td>\n",
       "      <td>[3.0, 2.25, 1790.0, 11393.0, 1.0, 0.0, 0.0, 3.0, 8.0, 1790.0, 0.0, 47.6297, -122.099, 2290.0, 11894.0, 36.0, 0.0, 0.0]</td>\n",
       "      <td>[559631.1]</td>\n",
       "      <td>0</td>\n",
       "    </tr>\n",
       "    <tr>\n",
       "      <th>10</th>\n",
       "      <td>2023-05-22 19:54:34.320</td>\n",
       "      <td>[3.0, 1.5, 1010.0, 7683.0, 1.5, 0.0, 0.0, 5.0, 7.0, 1010.0, 0.0, 47.72, -122.318, 1550.0, 7271.0, 61.0, 0.0, 0.0]</td>\n",
       "      <td>[340764.53]</td>\n",
       "      <td>0</td>\n",
       "    </tr>\n",
       "    <tr>\n",
       "      <th>11</th>\n",
       "      <td>2023-05-22 19:54:34.320</td>\n",
       "      <td>[3.0, 2.0, 1270.0, 1323.0, 3.0, 0.0, 0.0, 3.0, 8.0, 1270.0, 0.0, 47.6934, -122.342, 1330.0, 1323.0, 8.0, 0.0, 0.0]</td>\n",
       "      <td>[442168.06]</td>\n",
       "      <td>0</td>\n",
       "    </tr>\n",
       "    <tr>\n",
       "      <th>12</th>\n",
       "      <td>2023-05-22 19:54:34.320</td>\n",
       "      <td>[4.0, 1.75, 2070.0, 9120.0, 1.0, 0.0, 0.0, 4.0, 7.0, 1250.0, 820.0, 47.6045, -122.123, 1650.0, 8400.0, 57.0, 0.0, 0.0]</td>\n",
       "      <td>[630865.6]</td>\n",
       "      <td>0</td>\n",
       "    </tr>\n",
       "    <tr>\n",
       "      <th>13</th>\n",
       "      <td>2023-05-22 19:54:34.320</td>\n",
       "      <td>[4.0, 1.0, 1620.0, 4080.0, 1.5, 0.0, 0.0, 3.0, 7.0, 1620.0, 0.0, 47.6696, -122.324, 1760.0, 4080.0, 91.0, 0.0, 0.0]</td>\n",
       "      <td>[559631.1]</td>\n",
       "      <td>0</td>\n",
       "    </tr>\n",
       "    <tr>\n",
       "      <th>14</th>\n",
       "      <td>2023-05-22 19:54:34.320</td>\n",
       "      <td>[4.0, 3.25, 3990.0, 9786.0, 2.0, 0.0, 0.0, 3.0, 9.0, 3990.0, 0.0, 47.6784, -122.026, 3920.0, 8200.0, 10.0, 0.0, 0.0]</td>\n",
       "      <td>[909441.1]</td>\n",
       "      <td>0</td>\n",
       "    </tr>\n",
       "    <tr>\n",
       "      <th>15</th>\n",
       "      <td>2023-05-22 19:54:34.320</td>\n",
       "      <td>[4.0, 2.0, 1780.0, 19843.0, 1.0, 0.0, 0.0, 3.0, 7.0, 1780.0, 0.0, 47.4414, -122.154, 2210.0, 13500.0, 52.0, 0.0, 0.0]</td>\n",
       "      <td>[313096.0]</td>\n",
       "      <td>0</td>\n",
       "    </tr>\n",
       "    <tr>\n",
       "      <th>16</th>\n",
       "      <td>2023-05-22 19:54:34.320</td>\n",
       "      <td>[4.0, 2.5, 2130.0, 6003.0, 2.0, 0.0, 0.0, 3.0, 8.0, 2130.0, 0.0, 47.4518, -122.12, 1940.0, 4529.0, 11.0, 0.0, 0.0]</td>\n",
       "      <td>[404040.8]</td>\n",
       "      <td>0</td>\n",
       "    </tr>\n",
       "    <tr>\n",
       "      <th>17</th>\n",
       "      <td>2023-05-22 19:54:34.320</td>\n",
       "      <td>[3.0, 1.75, 1660.0, 10440.0, 1.0, 0.0, 0.0, 3.0, 7.0, 1040.0, 620.0, 47.4448, -121.77, 1240.0, 10380.0, 36.0, 0.0, 0.0]</td>\n",
       "      <td>[292859.5]</td>\n",
       "      <td>0</td>\n",
       "    </tr>\n",
       "    <tr>\n",
       "      <th>18</th>\n",
       "      <td>2023-05-22 19:54:34.320</td>\n",
       "      <td>[3.0, 2.5, 2110.0, 4118.0, 2.0, 0.0, 0.0, 3.0, 8.0, 2110.0, 0.0, 47.3878, -122.153, 2110.0, 4044.0, 25.0, 0.0, 0.0]</td>\n",
       "      <td>[338357.88]</td>\n",
       "      <td>0</td>\n",
       "    </tr>\n",
       "    <tr>\n",
       "      <th>19</th>\n",
       "      <td>2023-05-22 19:54:34.320</td>\n",
       "      <td>[4.0, 2.25, 2200.0, 11250.0, 1.5, 0.0, 0.0, 5.0, 7.0, 1300.0, 900.0, 47.6845, -122.201, 2320.0, 10814.0, 94.0, 0.0, 0.0]</td>\n",
       "      <td>[682284.6]</td>\n",
       "      <td>0</td>\n",
       "    </tr>\n",
       "  </tbody>\n",
       "</table>\n",
       "</div>"
      ],
      "text/plain": [
       "                      time  \\\n",
       "0  2023-05-22 19:54:34.320   \n",
       "1  2023-05-22 19:54:34.320   \n",
       "2  2023-05-22 19:54:34.320   \n",
       "3  2023-05-22 19:54:34.320   \n",
       "4  2023-05-22 19:54:34.320   \n",
       "5  2023-05-22 19:54:34.320   \n",
       "6  2023-05-22 19:54:34.320   \n",
       "7  2023-05-22 19:54:34.320   \n",
       "8  2023-05-22 19:54:34.320   \n",
       "9  2023-05-22 19:54:34.320   \n",
       "10 2023-05-22 19:54:34.320   \n",
       "11 2023-05-22 19:54:34.320   \n",
       "12 2023-05-22 19:54:34.320   \n",
       "13 2023-05-22 19:54:34.320   \n",
       "14 2023-05-22 19:54:34.320   \n",
       "15 2023-05-22 19:54:34.320   \n",
       "16 2023-05-22 19:54:34.320   \n",
       "17 2023-05-22 19:54:34.320   \n",
       "18 2023-05-22 19:54:34.320   \n",
       "19 2023-05-22 19:54:34.320   \n",
       "\n",
       "                                                                                                                   in.tensor  \\\n",
       "0         [4.0, 2.5, 2900.0, 5505.0, 2.0, 0.0, 0.0, 3.0, 8.0, 2900.0, 0.0, 47.6063, -122.02, 2970.0, 5251.0, 12.0, 0.0, 0.0]   \n",
       "1         [2.0, 2.5, 2170.0, 6361.0, 1.0, 0.0, 2.0, 3.0, 8.0, 2170.0, 0.0, 47.7109, -122.017, 2310.0, 7419.0, 6.0, 0.0, 0.0]   \n",
       "2          [3.0, 2.5, 1300.0, 812.0, 2.0, 0.0, 0.0, 3.0, 8.0, 880.0, 420.0, 47.5893, -122.317, 1300.0, 824.0, 6.0, 0.0, 0.0]   \n",
       "3        [4.0, 2.5, 2500.0, 8540.0, 2.0, 0.0, 0.0, 3.0, 9.0, 2500.0, 0.0, 47.5759, -121.994, 2560.0, 8475.0, 24.0, 0.0, 0.0]   \n",
       "4      [3.0, 1.75, 2200.0, 11520.0, 1.0, 0.0, 0.0, 4.0, 7.0, 2200.0, 0.0, 47.7659, -122.341, 1690.0, 8038.0, 62.0, 0.0, 0.0]   \n",
       "5     [3.0, 2.0, 2140.0, 4923.0, 1.0, 0.0, 0.0, 4.0, 8.0, 1070.0, 1070.0, 47.6902, -122.339, 1470.0, 4923.0, 86.0, 0.0, 0.0]   \n",
       "6       [4.0, 3.5, 3590.0, 5334.0, 2.0, 0.0, 2.0, 3.0, 9.0, 3140.0, 450.0, 47.6763, -122.267, 2100.0, 6250.0, 9.0, 0.0, 0.0]   \n",
       "7         [3.0, 2.0, 1280.0, 960.0, 2.0, 0.0, 0.0, 3.0, 9.0, 1040.0, 240.0, 47.602, -122.311, 1280.0, 1173.0, 0.0, 0.0, 0.0]   \n",
       "8      [4.0, 2.5, 2820.0, 15000.0, 2.0, 0.0, 0.0, 4.0, 9.0, 2820.0, 0.0, 47.7255, -122.101, 2440.0, 15000.0, 29.0, 0.0, 0.0]   \n",
       "9     [3.0, 2.25, 1790.0, 11393.0, 1.0, 0.0, 0.0, 3.0, 8.0, 1790.0, 0.0, 47.6297, -122.099, 2290.0, 11894.0, 36.0, 0.0, 0.0]   \n",
       "10         [3.0, 1.5, 1010.0, 7683.0, 1.5, 0.0, 0.0, 5.0, 7.0, 1010.0, 0.0, 47.72, -122.318, 1550.0, 7271.0, 61.0, 0.0, 0.0]   \n",
       "11        [3.0, 2.0, 1270.0, 1323.0, 3.0, 0.0, 0.0, 3.0, 8.0, 1270.0, 0.0, 47.6934, -122.342, 1330.0, 1323.0, 8.0, 0.0, 0.0]   \n",
       "12    [4.0, 1.75, 2070.0, 9120.0, 1.0, 0.0, 0.0, 4.0, 7.0, 1250.0, 820.0, 47.6045, -122.123, 1650.0, 8400.0, 57.0, 0.0, 0.0]   \n",
       "13       [4.0, 1.0, 1620.0, 4080.0, 1.5, 0.0, 0.0, 3.0, 7.0, 1620.0, 0.0, 47.6696, -122.324, 1760.0, 4080.0, 91.0, 0.0, 0.0]   \n",
       "14      [4.0, 3.25, 3990.0, 9786.0, 2.0, 0.0, 0.0, 3.0, 9.0, 3990.0, 0.0, 47.6784, -122.026, 3920.0, 8200.0, 10.0, 0.0, 0.0]   \n",
       "15     [4.0, 2.0, 1780.0, 19843.0, 1.0, 0.0, 0.0, 3.0, 7.0, 1780.0, 0.0, 47.4414, -122.154, 2210.0, 13500.0, 52.0, 0.0, 0.0]   \n",
       "16        [4.0, 2.5, 2130.0, 6003.0, 2.0, 0.0, 0.0, 3.0, 8.0, 2130.0, 0.0, 47.4518, -122.12, 1940.0, 4529.0, 11.0, 0.0, 0.0]   \n",
       "17   [3.0, 1.75, 1660.0, 10440.0, 1.0, 0.0, 0.0, 3.0, 7.0, 1040.0, 620.0, 47.4448, -121.77, 1240.0, 10380.0, 36.0, 0.0, 0.0]   \n",
       "18       [3.0, 2.5, 2110.0, 4118.0, 2.0, 0.0, 0.0, 3.0, 8.0, 2110.0, 0.0, 47.3878, -122.153, 2110.0, 4044.0, 25.0, 0.0, 0.0]   \n",
       "19  [4.0, 2.25, 2200.0, 11250.0, 1.5, 0.0, 0.0, 5.0, 7.0, 1300.0, 900.0, 47.6845, -122.201, 2320.0, 10814.0, 94.0, 0.0, 0.0]   \n",
       "\n",
       "   out.variable  check_failures  \n",
       "0   [718013.75]               0  \n",
       "1   [615094.56]               0  \n",
       "2   [448627.72]               0  \n",
       "3    [758714.2]               0  \n",
       "4    [513264.7]               0  \n",
       "5    [668288.0]               0  \n",
       "6   [1004846.5]               0  \n",
       "7    [684577.2]               0  \n",
       "8    [727898.1]               0  \n",
       "9    [559631.1]               0  \n",
       "10  [340764.53]               0  \n",
       "11  [442168.06]               0  \n",
       "12   [630865.6]               0  \n",
       "13   [559631.1]               0  \n",
       "14   [909441.1]               0  \n",
       "15   [313096.0]               0  \n",
       "16   [404040.8]               0  \n",
       "17   [292859.5]               0  \n",
       "18  [338357.88]               0  \n",
       "19   [682284.6]               0  "
      ]
     },
     "metadata": {},
     "output_type": "display_data"
    }
   ],
   "source": [
    "# Deploy the pipeline \n",
    "pipeline.deploy()\n",
    "\n",
    "# Retrieve the file\n",
    "# set accept as apache arrow table\n",
    "headers = {\n",
    "    'Accept': 'application/vnd.apache.arrow.file'\n",
    "}\n",
    "\n",
    "response = requests.get(\n",
    "                    connection.details()['host'], \n",
    "                    headers=headers\n",
    "                )\n",
    "\n",
    "# Arrow table is retrieved \n",
    "with pa.ipc.open_file(response.content) as reader:\n",
    "    arrow_table = reader.read_all()\n",
    "\n",
    "results = pipeline.infer(arrow_table)\n",
    "\n",
    "result_table = results.to_pandas()\n",
    "display(result_table.head(20))"
   ]
  },
  {
   "attachments": {},
   "cell_type": "markdown",
   "id": "894da865",
   "metadata": {},
   "source": [
    "### Remove Connection from Workspace\n",
    "\n",
    "The Workspace method `remove_connection(connection_name)` removes the connection from the workspace, but does not delete the connection from the Wallaroo instance.  This method takes the following parameters.\n",
    "\n",
    "| Parameter | Type | Description |\n",
    "|---|---|---|\n",
    "| **name** | String (Required) | The name of the connection to be removed \n",
    "\n",
    "The previous connection will be removed from the workspace, then the workspace connections displayed to verify it has been removed."
   ]
  },
  {
   "cell_type": "code",
   "execution_count": 18,
   "id": "5a70f461",
   "metadata": {},
   "outputs": [
    {
     "data": {
      "text/html": [
       "(no connections)"
      ],
      "text/plain": [
       "[]"
      ]
     },
     "metadata": {},
     "output_type": "display_data"
    }
   ],
   "source": [
    "workspace.remove_connection(connection_name)\n",
    "\n",
    "display(workspace.list_connections())"
   ]
  },
  {
   "attachments": {},
   "cell_type": "markdown",
   "id": "d01056b3",
   "metadata": {},
   "source": [
    "### Delete Connection\n",
    "\n",
    "The Connection method `delete_connection()` removes the connection from the Wallaroo instance, and all attachments in workspaces they were connected to."
   ]
  },
  {
   "cell_type": "code",
   "execution_count": 19,
   "id": "e993a3d9",
   "metadata": {},
   "outputs": [
    {
     "data": {
      "text/html": [
       "(no connections)"
      ],
      "text/plain": [
       "[]"
      ]
     },
     "execution_count": 19,
     "metadata": {},
     "output_type": "execute_result"
    }
   ],
   "source": [
    "connection.delete_connection()\n",
    "\n",
    "wl.list_connections()"
   ]
  },
  {
   "attachments": {},
   "cell_type": "markdown",
   "id": "4a0660b2",
   "metadata": {},
   "source": [
    "## Orchestration Tutorial\n",
    "\n",
    "The next series of examples will build on what we just did.  So far we have:\n",
    "\n",
    "* Deployed a pipeline, performed sample inferences with a local Apache Arrow file, displayed the results, then undeployed the pipeline.\n",
    "* Deployed a pipeline, use a Wallaroo connection details to retrieve a remote Apache Arrow file, performed inferences and displayed the results, then undeployed the pipeline.\n",
    "\n",
    "For the orchestration tutorial, we'll do the same thing only package it into a separate python script and upload it to the Wallaroo instance, then create a task from that orchestration and perform our sample inferences again.\n",
    "\n",
    "### Orchestration Requirements\n",
    "\n",
    "Orchestrations are uploaded to the Wallaroo instance as a ZIP file with the following requirements:\n",
    "\n",
    "* The ZIP file should not contain any directories - only files at the top level.\n",
    "\n",
    "| Parameter | Type | Description |\n",
    "|---|---|---|\n",
    "| **User Code** | (**Required**) Python script as `.py` files | Python scripts for the orchestration to run.  If the file `main.py` exists, that will be the entrypoint.  Otherwise, if only one .py exists, then that will be the entrypoint. |\n",
    "| Python Library Requirements | (**Required**) `requirements.txt` file in the [requirements file format](https://pip.pypa.io/en/stable/reference/requirements-file-format/).  This is in the root of the zip file, and there can only be one `requirements.txt` file for the orchestration. |\n",
    "| Other artifacts | &nbsp; | Other artifacts such as files, data, or code to support the orchestration.\n",
    "\n",
    "#### Zip Instructions\n",
    "\n",
    "In a terminal with the `zip` command, assemble artifacts as above and then create the archive.  The `zip` command is included by default with the Wallaroo JupyterHub service.\n",
    "\n",
    "`zip` commands take the following format, with `{zipfilename}.zip` as the zip file to save the artifacts to, and each file thereafter as the files to add to the archive.\n",
    "\n",
    "```bash\n",
    "zip {zipfilename}.zip file1, file2, file3....\n",
    "```\n",
    "\n",
    "For example, the following command will add the files `main.py` and `requirements.txt` into the file `hello.zip`.\n",
    "\n",
    "```shell\n",
    "$ zip hello.zip main.py requirements.txt \n",
    "  adding: main.py (deflated 47%)\n",
    "  adding: requirements.txt (deflated 52%)\n",
    "```\n",
    "\n",
    "### Orchestration Recommendations\n",
    "\n",
    "The following recommendations will make using Wallaroo orchestrations \n",
    "\n",
    "* The version of Python used should match the same version as in the Wallaroo JupyterHub service.\n",
    "* The same version of the [Wallaroo SDK](https://pypi.org/project/wallaroo/) should match the server.  For a 2023.2 Wallaroo instance, use the Wallaroo SDK version 2023.2.\n",
    "* Specify the version of `pip` dependencies.\n",
    "* The `wallaroo.Client` constructor `auth_type` argument is ignored.  Using `wallaroo.Client()` is sufficient.\n",
    "* The following methods will assist with orchestrations:\n",
    "  * `wallaroo.in_task()` :  Returns `True` if the code is running within an Orchestrator task.\n",
    "  * `wallaroo.task_args()`:  Returns a `Dict` of invocation-specific arguments passed to the `run_` calls.\n",
    "* Use `print` commands so outputs are saved to the task's log files.\n",
    "\n",
    "### Example requirements.txt file\n",
    "\n",
    "```python\n",
    "dbt-bigquery==1.4.3\n",
    "dbt-core==1.4.5\n",
    "dbt-extractor==0.4.1\n",
    "dbt-postgres==1.4.5\n",
    "google-api-core==2.8.2\n",
    "google-auth==2.11.0\n",
    "google-auth-oauthlib==0.4.6\n",
    "google-cloud-bigquery==3.3.2\n",
    "google-cloud-bigquery-storage==2.15.0\n",
    "google-cloud-core==2.3.2\n",
    "google-cloud-storage==2.5.0\n",
    "google-crc32c==1.5.0\n",
    "google-pasta==0.2.0\n",
    "google-resumable-media==2.3.3\n",
    "googleapis-common-protos==1.56.4\n",
    "```"
   ]
  },
  {
   "attachments": {},
   "cell_type": "markdown",
   "id": "596b2e52",
   "metadata": {},
   "source": [
    "### Sample Orchestrator\n",
    "\n",
    "The following orchestrator artifacts are in the directory `./remote_inference` and includes the file `main.py` with the following code:\n",
    "\n",
    "```python\n",
    "import wallaroo\n",
    "from wallaroo.object import EntityNotFoundError\n",
    "import pandas as pd\n",
    "import pyarrow as pa\n",
    "import requests\n",
    "\n",
    "wl = wallaroo.Client()\n",
    "\n",
    "# Setting variables for later steps\n",
    "\n",
    "# get the arguments\n",
    "arguments = wl.task_args()\n",
    "\n",
    "if \"workspace_name\" in arguments:\n",
    "    workspace_name = arguments['workspace_name']\n",
    "else:\n",
    "    workspace_name=\"orchestrationworkspace\"\n",
    "\n",
    "if \"pipeline_name\" in arguments:\n",
    "    pipeline_name = arguments['pipeline_name']\n",
    "else:\n",
    "    pipeline_name=\"orchestrationpipeline\"\n",
    "\n",
    "if \"connection_name\" in arguments:\n",
    "    connection_name = arguments['connection_name']\n",
    "else:\n",
    "    connection_name = \"houseprice_arrow_table\"\n",
    "\n",
    "\n",
    "# helper methods to retrieve workspaces and pipelines\n",
    "\n",
    "def get_workspace(name):\n",
    "    workspace = None\n",
    "    for ws in wl.list_workspaces():\n",
    "        if ws.name() == name:\n",
    "            workspace= ws\n",
    "    if(workspace == None):\n",
    "        workspace = wl.create_workspace(name)\n",
    "    return workspace\n",
    "\n",
    "def get_pipeline(name):\n",
    "    try:\n",
    "        pipeline = wl.pipelines_by_name(name)[0]\n",
    "    except EntityNotFoundError:\n",
    "        pipeline = wl.build_pipeline(name)\n",
    "    return pipeline\n",
    "\n",
    "print(f\"Getting the workspace {workspace_name}\")\n",
    "workspace = get_workspace(workspace_name)\n",
    "wl.set_current_workspace(workspace)\n",
    "\n",
    "\n",
    "print(f\"Getting the pipeline {pipeline_name}\")\n",
    "pipeline = get_pipeline(pipeline_name)\n",
    "pipeline.deploy()\n",
    "# Get the connection - assuming it will be the only one\n",
    "\n",
    "inference_source_connection = wl.get_connection(name=connection_name)\n",
    "\n",
    "print(f\"Getting arrow table file\")\n",
    "# Retrieve the file\n",
    "# set accept as apache arrow table\n",
    "headers = {\n",
    "    'Accept': 'application/vnd.apache.arrow.file'\n",
    "}\n",
    "\n",
    "response = requests.get(\n",
    "                    inference_source_connection.details()['host'], \n",
    "                    headers=headers\n",
    "                )\n",
    "\n",
    "# Arrow table is retrieved \n",
    "with pa.ipc.open_file(response.content) as reader:\n",
    "    arrow_table = reader.read_all()\n",
    "\n",
    "print(\"Inference time.  Displaying results after.\")\n",
    "# Perform the inference\n",
    "result = pipeline.infer(arrow_table)\n",
    "print(result)\n",
    "\n",
    "pipeline.undeploy()\n",
    "```\n",
    "\n",
    "This is saved to the file `./remote_inference/remote_inference.zip`."
   ]
  },
  {
   "attachments": {},
   "cell_type": "markdown",
   "id": "21d7be2b",
   "metadata": {},
   "source": [
    "### Preparing the Wallaroo Instance\n",
    "\n",
    "To prepare the Wallaroo instance, we'll once again create the Wallaroo connection `houseprice_arrow_table` and apply it to the workspace."
   ]
  },
  {
   "cell_type": "code",
   "execution_count": 20,
   "id": "c1cc5fec",
   "metadata": {},
   "outputs": [],
   "source": [
    "wl.create_connection(connection_name, \n",
    "                  \"HTTPFILE\", \n",
    "                  {'host':'https://github.com/WallarooLabs/Wallaroo_Tutorials/raw/main/wallaroo-testing-tutorials/houseprice-saga/data/xtest-1k.arrow'}\n",
    "                  )\n",
    "\n",
    "workspace.add_connection(connection_name)"
   ]
  },
  {
   "attachments": {},
   "cell_type": "markdown",
   "id": "c54d9602",
   "metadata": {},
   "source": [
    "### Upload the Orchestration\n",
    "\n",
    "Orchestrations are uploaded with the Wallaroo client `upload_orchestration(path)` method with the following parameters.\n",
    "\n",
    "| Parameter | Type | Description |\n",
    "| --- | --- | ---|\n",
    "| **path** | string (Required) | The path to the ZIP file to be uploaded. |\n",
    "\n",
    "Once uploaded, the deployment will be prepared and any requirements will be downloaded and installed.\n",
    "\n",
    "\n",
    "For this example, the orchestration `./remote_inference/remote_inference.zip` will be uploaded and saved to the variable `orchestration`."
   ]
  },
  {
   "cell_type": "code",
   "execution_count": 21,
   "id": "c8332ee5",
   "metadata": {},
   "outputs": [],
   "source": [
    "orchestration = wl.upload_orchestration(name=\"comprehensive sample\", path=\"./remote_inference/remote_inference.zip\")"
   ]
  },
  {
   "attachments": {},
   "cell_type": "markdown",
   "id": "bffd7b14",
   "metadata": {},
   "source": [
    "### Orchestration Status\n",
    "\n",
    "The Orchestration method `status()` displays the current status of the uploaded orchestration.\n",
    "\n",
    "| Status | Description |\n",
    "|---|---|\n",
    "|---|---|\n",
    "| `pending_packaging` | The orchestration is uploaded, but packaging hasn't started yet. |\n",
    "| `packaging` | The orchestration is being packaged for use with the Wallaroo instance. |\n",
    "| `ready` | The orchestration is ready for use. |\n",
    "\n",
    "For this example, the status of the orchestration will be displayed then looped until it has reached status `ready`."
   ]
  },
  {
   "cell_type": "code",
   "execution_count": 22,
   "id": "e4eb26f8",
   "metadata": {},
   "outputs": [
    {
     "name": "stdout",
     "output_type": "stream",
     "text": [
      "pending_packaging\n",
      "pending_packaging\n",
      "packaging\n",
      "packaging\n",
      "packaging\n",
      "packaging\n",
      "packaging\n",
      "packaging\n",
      "packaging\n",
      "packaging\n",
      "packaging\n"
     ]
    }
   ],
   "source": [
    "import time\n",
    "\n",
    "while orchestration.status() != 'ready':\n",
    "    print(orchestration.status())\n",
    "    time.sleep(5)"
   ]
  },
  {
   "attachments": {},
   "cell_type": "markdown",
   "id": "de1423fb",
   "metadata": {},
   "source": [
    "### List Orchestrations\n",
    "\n",
    "Orchestrations are listed with the Wallaroo Client `list_orchestrations()` which returns a list of available orchestrations."
   ]
  },
  {
   "cell_type": "code",
   "execution_count": 23,
   "id": "e53d7731",
   "metadata": {},
   "outputs": [
    {
     "data": {
      "text/html": [
       "<table><tr><th>id</th><th>name</th><th>status</th><th>filename</th><th>sha</th><th>created at</th><th>updated at</th></tr><tr><td>0f90e606-09f8-409b-a306-cb04ec4c011a</td><td>comprehensive sample</td><td>ready</td><td>remote_inference.zip</td><td>b88e93...2396fb</td><td>2023-22-May 19:55:15</td><td>2023-22-May 19:56:09</td></tr></table>"
      ],
      "text/plain": [
       "[<wallaroo.orchestration.Orchestration at 0x7f146aff0100>]"
      ]
     },
     "execution_count": 23,
     "metadata": {},
     "output_type": "execute_result"
    }
   ],
   "source": [
    "wl.list_orchestrations()"
   ]
  },
  {
   "attachments": {},
   "cell_type": "markdown",
   "id": "bf028e54",
   "metadata": {},
   "source": [
    "## Task Management Tutorial\n",
    "\n",
    "Once an Orchestration has the status `ready`, it can be run as a task.  Tasks have three run options.\n",
    "\n",
    "| Type       | SDK Call |  How triggered                                                               | Purpose                                                       |\n",
    "|------------|----------|:------------------------------------------------------------------------------|:---------------------------------------------------------------|\n",
    "| Once       | `orchestration.run_once(name, json_args, timeout)` | Task runs once and exits.| Single batch, experimentation                                 |\n",
    "| Scheduled  | `orchestration.run_scheduled()` | User provides schedule. Task runs exits whenever schedule dictates. | Recurrent batch ETL.|"
   ]
  },
  {
   "attachments": {},
   "cell_type": "markdown",
   "id": "6fc05481-4378-499e-8cea-60d37150f41b",
   "metadata": {},
   "source": [
    "### Task Run Once\n",
    "\n",
    "Tasks are generated and run once with the Orchestration `run_once(name, json_args, timeout)` method.  Any arguments for the orchestration are passed in as a `Dict`.  If there are no arguments, then an empty set `{}` is passed.\n",
    "\n",
    "For our example, we will pass the workspace, pipeline, and connection into our task."
   ]
  },
  {
   "cell_type": "code",
   "execution_count": 26,
   "id": "f2b73d28-7169-41da-a434-afafde39af3d",
   "metadata": {},
   "outputs": [
    {
     "data": {
      "text/html": [
       "\n",
       "        <table>\n",
       "          <tr>\n",
       "            <th>Field</th>\n",
       "            <th>Value</th>\n",
       "          </tr>\n",
       "          <tr>\n",
       "            <td>ID</td><td>f0e27d6a-6a98-4d26-b240-266f08560c48</td>\n",
       "          </tr>\n",
       "          <tr>\n",
       "            <td>Name</td><td>house price run once 2</td>\n",
       "          </tr>\n",
       "          <tr>\n",
       "            <td>Last Run Status</td><td>unknown</td>\n",
       "          </tr>\n",
       "          <tr>\n",
       "            <td>Type</td><td>Temporary Run</td>\n",
       "          </tr>\n",
       "          <tr>\n",
       "            <td>Active</td><td>True</td>\n",
       "          </tr>\n",
       "          <tr>\n",
       "            <td>Schedule</td><td>-</td>\n",
       "          </tr>\n",
       "          <tr>\n",
       "            <td>Created At</td><td>2023-22-May 19:58:32</td>\n",
       "          </tr>\n",
       "          <tr>\n",
       "            <td>Updated At</td><td>2023-22-May 19:58:32</td>\n",
       "          </tr>\n",
       "        </table>\n",
       "        "
      ],
      "text/plain": [
       "<wallaroo.task.Task at 0x7f1483cc34f0>"
      ]
     },
     "execution_count": 26,
     "metadata": {},
     "output_type": "execute_result"
    }
   ],
   "source": [
    "# Example: run once\n",
    "\n",
    "import datetime\n",
    "task_start = datetime.datetime.now()\n",
    "\n",
    "task = orchestration.run_once(name=\"house price run once 2\", json_args={\"workspace_name\": workspace_name, \n",
    "                                                                           \"pipeline_name\":pipeline_name,\n",
    "                                                                           \"connection_name\": connection_name\n",
    "                                                                           }\n",
    "                            )\n",
    "task"
   ]
  },
  {
   "cell_type": "code",
   "execution_count": 63,
   "id": "7ad36138-f839-40f1-b174-b60e83928d33",
   "metadata": {},
   "outputs": [
    {
     "data": {
      "text/html": [
       "<table><tr><th>task id</th><th>pod id</th><th>status</th><th>created at</th><th>updated at</th></tr>\n",
       "            <tr>\n",
       "              <td>5ee51c78-a1c6-41e4-86a6-77110ce26161</td>\n",
       "              <td>844902e0-5ff3-4c15-b497-e173aa3ce0d5</td>\n",
       "              <td>running</td>\n",
       "              <td>2023-22-May 20:15:08</td>\n",
       "              <td>2023-22-May 20:15:08</td>\n",
       "            </tr>\n",
       "            </table>"
      ],
      "text/plain": [
       "[<wallaroo.task_run.TaskRun at 0x7f146af0e280>]"
      ]
     },
     "execution_count": 63,
     "metadata": {},
     "output_type": "execute_result"
    }
   ],
   "source": [
    "taskfail.last_runs()"
   ]
  },
  {
   "attachments": {},
   "cell_type": "markdown",
   "id": "0dcbc1d4",
   "metadata": {},
   "source": [
    "\n",
    "### List Tasks\n",
    "\n",
    "The list of tasks in the Wallaroo instance is retrieved through the Wallaroo Client `list_tasks()` method that accepts the following parameters.\n",
    "\n",
    "| Parameter | Type | Description |\n",
    "| --- | --- | ---|\n",
    "| killed | **Boolean** (*Optional* *Default: `False`*) | Returns tasks depending on whether they have been issued the `kill` command.  `False` returns all tasks whether killed or not.  `True` only returns killed tasks. |\n",
    "\n",
    "This returns an array list of the following in reverse chronological order from `updated at`.\n",
    "\n",
    "| Parameter | Type | Description |\n",
    "| --- | --- | ---|\n",
    "| **id** | string | The UUID identifier for the task. |\n",
    "| **last run status** | string | The last reported status the task.  Values are: <br><ul><li>`unknown`: The task has not been started or is being prepared.</li><li>`ready`: The task is scheduled to execute.</li><li>`running`: The task has started.</li><li>`failure`: The task failed.</li><li>`success`: The task completed.</ul> |\n",
    "| **type** | string | The type of the task.  Values are: <br><ul><li>`Temporary Run`: The task runs once then stop.</li><li>`Scheduled Run`: The task repeats on a `cron` like schedule.</li><li>`Service Run`: The task runs as a service and executes when its service port is activated. |\n",
    "| **active** | Boolean | `True`: The task is scheduled or running. `False`: The task has completed or has been issued the `kill` command. |\n",
    "| **schedule** | string | The `cron` style schedule for the task.  If the task is not a scheduled one, then the schedule will be `-`. |\n",
    "| **created at** | DateTime | The date and time the task was started. |\n",
    "| **updated at** | DateTime | The date and time the task was updated. |"
   ]
  },
  {
   "cell_type": "code",
   "execution_count": 30,
   "id": "57491ed8",
   "metadata": {},
   "outputs": [
    {
     "data": {
      "text/html": [
       "<table><tr><th>id</th><th>name</th><th>last run status</th><th>type</th><th>active</th><th>schedule</th><th>created at</th><th>updated at</th></tr><tr><td>f0e27d6a-6a98-4d26-b240-266f08560c48</td><td>house price run once 2</td><td>running</td><td>Temporary Run</td><td>True</td><td>-</td><td>2023-22-May 19:58:32</td><td>2023-22-May 19:58:38</td></tr><tr><td>36509ef8-98da-42a0-913f-e6e929dedb15</td><td>house price run once</td><td>success</td><td>Temporary Run</td><td>True</td><td>-</td><td>2023-22-May 19:56:37</td><td>2023-22-May 19:56:48</td></tr></table>"
      ],
      "text/plain": [
       "[<wallaroo.task.Task at 0x7f1483cc32b0>,\n",
       " <wallaroo.task.Task at 0x7f1483cc37c0>]"
      ]
     },
     "execution_count": 30,
     "metadata": {},
     "output_type": "execute_result"
    }
   ],
   "source": [
    "wl.list_tasks()"
   ]
  },
  {
   "attachments": {},
   "cell_type": "markdown",
   "id": "ce28601c",
   "metadata": {},
   "source": [
    "### Task Status\n",
    "\n",
    "The status of the task is returned with the Task `status()` method that returned the tasks status.  Tasks can have the following status.\n",
    "\n",
    "* `pending`: The task has not been started or is being prepared.\n",
    "* `started`: The task has started to execute."
   ]
  },
  {
   "cell_type": "code",
   "execution_count": 35,
   "id": "a05a299f",
   "metadata": {},
   "outputs": [],
   "source": [
    "while task.status() != \"started\":\n",
    "    display(task.status())\n",
    "    time.sleep(5)"
   ]
  },
  {
   "attachments": {},
   "cell_type": "markdown",
   "id": "eee1a8d9",
   "metadata": {},
   "source": [
    "### Task Last Runs History\n",
    "\n",
    "The history of a task, which each deployment of the task is known as a **task run** is retrieved with the Task `last_runs` method that takes the following arguments.\n",
    "\n",
    "| Parameter | Type | Description |\n",
    "| --- | --- | ---|\n",
    "| status | **String** (*Optional* *Default: `all`) | Filters the task history by the `status`.  If `all`, returns all statuses.  Status values are: <br><ul><li>`running`: The task has started.</li><li>`failure`: The task failed.</li><li>`success`: The task completed.</li></ul> | \n",
    "| limit | **Integer** (*Optional*) | Limits the number of task runs returned. |\n",
    "\n",
    "This returns the following in reverse chronological order by `updated at`.\n",
    "\n",
    "| Parameter | Type | Description |\n",
    "| --- | --- | ---|\n",
    "| task id | string | Task id in UUID format. |\n",
    "| pod id | string | Pod id in UUID format. |\n",
    "| status | string | Status of the task.  Status values are: <br><ul><li>`running`: The task has started.</li><li>`failure`: The task failed.</li><li>`success`: The task completed.</li></ul> |\n",
    "| created at | DateTime | Date and time the task was created at. |\n",
    "| updated at | DateTime | Date and time the task was updated. |"
   ]
  },
  {
   "cell_type": "code",
   "execution_count": 49,
   "id": "6d33c1cc",
   "metadata": {},
   "outputs": [
    {
     "data": {
      "text/html": [
       "<table><tr><th>task id</th><th>pod id</th><th>status</th><th>created at</th><th>updated at</th></tr>\n",
       "            <tr>\n",
       "              <td>f0e27d6a-6a98-4d26-b240-266f08560c48</td>\n",
       "              <td>7d9d73d5-df11-44ed-90c1-db0e64c7f9b8</td>\n",
       "              <td>success</td>\n",
       "              <td>2023-22-May 19:58:35</td>\n",
       "              <td>2023-22-May 19:58:35</td>\n",
       "            </tr>\n",
       "            </table>"
      ],
      "text/plain": [
       "[<wallaroo.task_run.TaskRun at 0x7f146af04c70>]"
      ]
     },
     "execution_count": 49,
     "metadata": {},
     "output_type": "execute_result"
    }
   ],
   "source": [
    "task.last_runs()"
   ]
  },
  {
   "attachments": {},
   "cell_type": "markdown",
   "id": "1e4b3ad0",
   "metadata": {},
   "source": [
    "### Task Run Logs\n",
    "\n",
    "The output of a task is displayed with the Task Run `logs()` method that takes the following parameters.\n",
    "\n",
    "| Parameter | Type | Description |\n",
    "| --- | --- | ---|\n",
    "| limit | **Integer** (*Optional*) | Limits the lines returned from the task run log.  The `limit` parameter is based on the log tail - starting from the last line of the log file, then working up until the limit of lines is reached.  This is useful for viewing final outputs, exceptions, etc. |\n",
    "\n",
    "The Task Run `logs()` returns the log entries as a string list, with each entry as an item in the list.\n",
    "\n",
    "* **IMPORTANT NOTE**: It may take around a minute for task run logs to be integrated into the Wallaroo log database."
   ]
  },
  {
   "cell_type": "code",
   "execution_count": 51,
   "id": "b5e0f13c",
   "metadata": {},
   "outputs": [
    {
     "data": {
      "text/html": [
       "<pre><code>2023-22-May 19:59:29 Getting the workspace orchestrationworkspacetgiq\n",
       "2023-22-May 19:59:29 Getting the pipeline orchestrationpipelinetgiq\n",
       "2023-22-May 19:59:29 Getting arrow table file\n",
       "2023-22-May 19:59:29 Inference time.  Displaying results after.\n",
       "2023-22-May 19:59:29 pyarrow.Table\n",
       "2023-22-May 19:59:29 time: timestamp[ms]\n",
       "2023-22-May 19:59:29 in.tensor: list<item: float> not null\n",
       "2023-22-May 19:59:29   child 0, item: float\n",
       "2023-22-May 19:59:29 out.variable: list<inner: float not null> not null\n",
       "2023-22-May 19:59:29 check_failures: int8\n",
       "2023-22-May 19:59:29   child 0, inner: float not null\n",
       "2023-22-May 19:59:29 ----\n",
       "2023-22-May 19:59:29 time: [[2023-05-22 19:58:49.767,2023-05-22 19:58:49.767,2023-05-22 19:58:49.767,2023-05-22 19:58:49.767,2023-05-22 19:58:49.767,...,2023-05-22 19:58:49.767,2023-05-22 19:58:49.767,2023-05-22 19:58:49.767,2023-05-22 19:58:49.767,2023-05-22 19:58:49.767]]\n",
       "2023-22-May 19:59:29 in.tensor: [[[4,2.5,2900,5505,2,...,2970,5251,12,0,0],[2,2.5,2170,6361,1,...,2310,7419,6,0,0],...,[3,1.75,2910,37461,1,...,2520,18295,47,0,0],[3,2,2005,7000,1,...,1750,4500,34,0,0]]]\n",
       "2023-22-May 19:59:29 check_failures: [[0,0,0,0,0,...,0,0,0,0,0]]\n",
       "2023-22-May 19:59:29 out.variable: [[[718013.75],[615094.56],...,[706823.56],[581003]]]</code></pre>"
      ],
      "text/plain": [
       "['2023-05-22T19:59:29.536889433Z stdout F Getting the workspace orchestrationworkspacetgiq',\n",
       " '2023-05-22T19:59:29.536951634Z stdout F Getting the pipeline orchestrationpipelinetgiq',\n",
       " '2023-05-22T19:59:29.536958634Z stdout F Getting arrow table file',\n",
       " '2023-05-22T19:59:29.536962734Z stdout F Inference time.  Displaying results after.',\n",
       " '2023-05-22T19:59:29.536966734Z stdout F pyarrow.Table',\n",
       " '2023-05-22T19:59:29.536970234Z stdout F time: timestamp[ms]',\n",
       " '2023-05-22T19:59:29.536973934Z stdout F in.tensor: list<item: float> not null',\n",
       " '2023-05-22T19:59:29.536977534Z stdout F   child 0, item: float',\n",
       " '2023-05-22T19:59:29.536981135Z stdout F out.variable: list<inner: float not null> not null',\n",
       " '2023-05-22T19:59:29.536989135Z stdout F check_failures: int8',\n",
       " '2023-05-22T19:59:29.536985235Z stdout F   child 0, inner: float not null',\n",
       " '2023-05-22T19:59:29.536992635Z stdout F ----',\n",
       " '2023-05-22T19:59:29.536998235Z stdout F time: [[2023-05-22 19:58:49.767,2023-05-22 19:58:49.767,2023-05-22 19:58:49.767,2023-05-22 19:58:49.767,2023-05-22 19:58:49.767,...,2023-05-22 19:58:49.767,2023-05-22 19:58:49.767,2023-05-22 19:58:49.767,2023-05-22 19:58:49.767,2023-05-22 19:58:49.767]]',\n",
       " '2023-05-22T19:59:29.537005835Z stdout F in.tensor: [[[4,2.5,2900,5505,2,...,2970,5251,12,0,0],[2,2.5,2170,6361,1,...,2310,7419,6,0,0],...,[3,1.75,2910,37461,1,...,2520,18295,47,0,0],[3,2,2005,7000,1,...,1750,4500,34,0,0]]]',\n",
       " '2023-05-22T19:59:29.537014035Z stdout F check_failures: [[0,0,0,0,0,...,0,0,0,0,0]]',\n",
       " '2023-05-22T19:59:29.537010235Z stdout F out.variable: [[[718013.75],[615094.56],...,[706823.56],[581003]]]']"
      ]
     },
     "metadata": {},
     "output_type": "display_data"
    }
   ],
   "source": [
    "# give time for the task to complete and the log files entered\n",
    "time.sleep(60)\n",
    "recent_run = task.last_runs()[0]\n",
    "display(recent_run.logs())"
   ]
  },
  {
   "attachments": {},
   "cell_type": "markdown",
   "id": "72e1e324-11c7-4577-b09e-0e283c635339",
   "metadata": {},
   "source": [
    "#### Failed Task Logs\n",
    "\n",
    "We can create a task that fails and show it in the `last_runs` list, then retrieve the logs to display why it failed."
   ]
  },
  {
   "cell_type": "code",
   "execution_count": 65,
   "id": "3c417332-1997-4658-9c26-8015fce838fa",
   "metadata": {},
   "outputs": [
    {
     "data": {
      "text/html": [
       "\n",
       "        <table>\n",
       "          <tr>\n",
       "            <th>Field</th>\n",
       "            <th>Value</th>\n",
       "          </tr>\n",
       "          <tr>\n",
       "            <td>ID</td><td>54229bd2-c388-4196-9ce2-f76503a27f99</td>\n",
       "          </tr>\n",
       "          <tr>\n",
       "            <td>Name</td><td>house price run once 2</td>\n",
       "          </tr>\n",
       "          <tr>\n",
       "            <td>Last Run Status</td><td>unknown</td>\n",
       "          </tr>\n",
       "          <tr>\n",
       "            <td>Type</td><td>Temporary Run</td>\n",
       "          </tr>\n",
       "          <tr>\n",
       "            <td>Active</td><td>True</td>\n",
       "          </tr>\n",
       "          <tr>\n",
       "            <td>Schedule</td><td>-</td>\n",
       "          </tr>\n",
       "          <tr>\n",
       "            <td>Created At</td><td>2023-22-May 20:17:16</td>\n",
       "          </tr>\n",
       "          <tr>\n",
       "            <td>Updated At</td><td>2023-22-May 20:17:16</td>\n",
       "          </tr>\n",
       "        </table>\n",
       "        "
      ],
      "text/plain": [
       "<wallaroo.task.Task at 0x7f146af88a60>"
      ]
     },
     "execution_count": 65,
     "metadata": {},
     "output_type": "execute_result"
    }
   ],
   "source": [
    "# Example: run once\n",
    "\n",
    "import datetime\n",
    "task_start = datetime.datetime.now()\n",
    "\n",
    "taskfail = orchestration.run_once(name=\"house price run once 2\", json_args={\"workspace_name\": \"bob\", \n",
    "                                                                           \"pipeline_name\":\"does not exist\",\n",
    "                                                                           \"connection_name\": connection_name\n",
    "                                                                           }\n",
    "                            )\n",
    "\n",
    "while taskfail.status() != \"started\":\n",
    "    display(taskfail.status())\n",
    "    time.sleep(5)"
   ]
  },
  {
   "cell_type": "code",
   "execution_count": 72,
   "id": "81b912a7-3573-411d-bc65-9cf17eee167b",
   "metadata": {},
   "outputs": [
    {
     "data": {
      "text/html": [
       "<table><tr><th>task id</th><th>pod id</th><th>status</th><th>created at</th><th>updated at</th></tr>\n",
       "            <tr>\n",
       "              <td>54229bd2-c388-4196-9ce2-f76503a27f99</td>\n",
       "              <td>79d7fe3e-ac8c-4f9c-8288-c9c207fb0a5e</td>\n",
       "              <td>failure</td>\n",
       "              <td>2023-22-May 20:17:18</td>\n",
       "              <td>2023-22-May 20:17:18</td>\n",
       "            </tr>\n",
       "            </table>"
      ],
      "text/plain": [
       "[<wallaroo.task_run.TaskRun at 0x7f146af2dbe0>]"
      ]
     },
     "execution_count": 72,
     "metadata": {},
     "output_type": "execute_result"
    }
   ],
   "source": [
    "# time.sleep(60)\n",
    "taskfail.last_runs()"
   ]
  },
  {
   "cell_type": "code",
   "execution_count": 74,
   "id": "b4d09121-339e-4637-b8ac-7b0e750977f2",
   "metadata": {},
   "outputs": [
    {
     "data": {
      "text/html": [
       "<pre><code>2023-22-May 20:17:22 Getting the workspace bob\n",
       "2023-22-May 20:17:22   File \"/home/jovyan/main.py\", line 43, in get_pipeline\n",
       "2023-22-May 20:17:22 Traceback (most recent call last):\n",
       "2023-22-May 20:17:22 Getting the pipeline does not exist\n",
       "2023-22-May 20:17:22     pipeline = wl.pipelines_by_name(name)[0]\n",
       "2023-22-May 20:17:22   File \"/home/jovyan/venv/lib/python3.9/site-packages/wallaroo/client.py\", line 1064, in pipelines_by_name\n",
       "2023-22-May 20:17:22     raise EntityNotFoundError(\"Pipeline\", {\"pipeline_name\": pipeline_name})\n",
       "2023-22-May 20:17:22 wallaroo.object.EntityNotFoundError: Pipeline not found: {'pipeline_name': 'does not exist'}\n",
       "2023-22-May 20:17:22 \n",
       "2023-22-May 20:17:22 During handling of the above exception, another exception occurred:\n",
       "2023-22-May 20:17:22 Traceback (most recent call last):\n",
       "2023-22-May 20:17:22 \n",
       "2023-22-May 20:17:22   File \"/home/jovyan/main.py\", line 54, in <module>\n",
       "2023-22-May 20:17:22     pipeline = get_pipeline(pipeline_name)\n",
       "2023-22-May 20:17:22     pipeline = wl.build_pipeline(name)\n",
       "2023-22-May 20:17:22   File \"/home/jovyan/main.py\", line 45, in get_pipeline\n",
       "2023-22-May 20:17:22   File \"/home/jovyan/venv/lib/python3.9/site-packages/wallaroo/client.py\", line 1102, in build_pipeline\n",
       "2023-22-May 20:17:22     require_dns_compliance(pipeline_name)\n",
       "2023-22-May 20:17:22   File \"/home/jovyan/venv/lib/python3.9/site-packages/wallaroo/checks.py\", line 274, in require_dns_compliance\n",
       "2023-22-May 20:17:22 wallaroo.object.InvalidNameError: Name 'does not exist is invalid: must be DNS-compatible (ASCII alpha-numeric plus dash (-))\n",
       "2023-22-May 20:17:22     raise InvalidNameError(</code></pre>"
      ],
      "text/plain": [
       "['2023-05-22T20:17:22.59127382Z stdout F Getting the workspace bob',\n",
       " '2023-05-22T20:17:22.591340621Z stderr F   File \"/home/jovyan/main.py\", line 43, in get_pipeline',\n",
       " '2023-05-22T20:17:22.591319821Z stderr F Traceback (most recent call last):',\n",
       " '2023-05-22T20:17:22.591324221Z stdout F Getting the pipeline does not exist',\n",
       " '2023-05-22T20:17:22.591411023Z stderr F     pipeline = wl.pipelines_by_name(name)[0]',\n",
       " '2023-05-22T20:17:22.591425723Z stderr F   File \"/home/jovyan/venv/lib/python3.9/site-packages/wallaroo/client.py\", line 1064, in pipelines_by_name',\n",
       " '2023-05-22T20:17:22.591661826Z stderr F     raise EntityNotFoundError(\"Pipeline\", {\"pipeline_name\": pipeline_name})',\n",
       " \"2023-05-22T20:17:22.591667926Z stderr F wallaroo.object.EntityNotFoundError: Pipeline not found: {'pipeline_name': 'does not exist'}\",\n",
       " '2023-05-22T20:17:22.591670326Z stderr F ',\n",
       " '2023-05-22T20:17:22.591672627Z stderr F During handling of the above exception, another exception occurred:',\n",
       " '2023-05-22T20:17:22.591677627Z stderr F Traceback (most recent call last):',\n",
       " '2023-05-22T20:17:22.591674827Z stderr F ',\n",
       " '2023-05-22T20:17:22.591680527Z stderr F   File \"/home/jovyan/main.py\", line 54, in <module>',\n",
       " '2023-05-22T20:17:22.591725527Z stderr F     pipeline = get_pipeline(pipeline_name)',\n",
       " '2023-05-22T20:17:22.591779228Z stderr F     pipeline = wl.build_pipeline(name)',\n",
       " '2023-05-22T20:17:22.591733327Z stderr F   File \"/home/jovyan/main.py\", line 45, in get_pipeline',\n",
       " '2023-05-22T20:17:22.591783128Z stderr F   File \"/home/jovyan/venv/lib/python3.9/site-packages/wallaroo/client.py\", line 1102, in build_pipeline',\n",
       " '2023-05-22T20:17:22.592003932Z stderr F     require_dns_compliance(pipeline_name)',\n",
       " '2023-05-22T20:17:22.592009032Z stderr F   File \"/home/jovyan/venv/lib/python3.9/site-packages/wallaroo/checks.py\", line 274, in require_dns_compliance',\n",
       " \"2023-05-22T20:17:22.592117633Z stderr F wallaroo.object.InvalidNameError: Name 'does not exist is invalid: must be DNS-compatible (ASCII alpha-numeric plus dash (-))\",\n",
       " '2023-05-22T20:17:22.592111033Z stderr F     raise InvalidNameError(']"
      ]
     },
     "metadata": {},
     "output_type": "display_data"
    }
   ],
   "source": [
    "# time.sleep(60)\n",
    "taskfaillogs = taskfail.last_runs()[0].logs()\n",
    "display(taskfaillogs)"
   ]
  },
  {
   "attachments": {},
   "cell_type": "markdown",
   "id": "7bd6a79a",
   "metadata": {},
   "source": [
    "### Task Results\n",
    "\n",
    "We can view the inferences from our logs and verify that new entries were added from our task.  In our case, we'll assume the task once started takes about 1 minute to run (deploy the pipeline, run the inference, undeploy the pipeline).  We'll add in a wait of 1 minute, then display the logs during the time period the task was running."
   ]
  },
  {
   "cell_type": "code",
   "execution_count": 38,
   "id": "818b5f3d",
   "metadata": {},
   "outputs": [
    {
     "data": {
      "text/plain": [
       "datetime.datetime(2023, 5, 22, 20, 1, 25, 418564)"
      ]
     },
     "metadata": {},
     "output_type": "display_data"
    },
    {
     "name": "stderr",
     "output_type": "stream",
     "text": [
      "Warning: Pipeline log size limit exceeded. Please request logs using export_logs"
     ]
    },
    {
     "data": {
      "text/html": [
       "<div>\n",
       "<style scoped>\n",
       "    .dataframe tbody tr th:only-of-type {\n",
       "        vertical-align: middle;\n",
       "    }\n",
       "\n",
       "    .dataframe tbody tr th {\n",
       "        vertical-align: top;\n",
       "    }\n",
       "\n",
       "    .dataframe thead th {\n",
       "        text-align: right;\n",
       "    }\n",
       "</style>\n",
       "<table border=\"1\" class=\"dataframe\">\n",
       "  <thead>\n",
       "    <tr style=\"text-align: right;\">\n",
       "      <th></th>\n",
       "      <th>time</th>\n",
       "      <th>in.tensor</th>\n",
       "      <th>out.variable</th>\n",
       "      <th>check_failures</th>\n",
       "    </tr>\n",
       "  </thead>\n",
       "  <tbody>\n",
       "    <tr>\n",
       "      <th>0</th>\n",
       "      <td>2023-05-22 19:58:49.767</td>\n",
       "      <td>[4.0, 2.5, 2900.0, 5505.0, 2.0, 0.0, 0.0, 3.0, 8.0, 2900.0, 0.0, 47.6063, -122.02, 2970.0, 5251.0, 12.0, 0.0, 0.0]</td>\n",
       "      <td>[718013.75]</td>\n",
       "      <td>0</td>\n",
       "    </tr>\n",
       "    <tr>\n",
       "      <th>1</th>\n",
       "      <td>2023-05-22 19:58:49.767</td>\n",
       "      <td>[2.0, 2.5, 2170.0, 6361.0, 1.0, 0.0, 2.0, 3.0, 8.0, 2170.0, 0.0, 47.7109, -122.017, 2310.0, 7419.0, 6.0, 0.0, 0.0]</td>\n",
       "      <td>[615094.56]</td>\n",
       "      <td>0</td>\n",
       "    </tr>\n",
       "    <tr>\n",
       "      <th>2</th>\n",
       "      <td>2023-05-22 19:58:49.767</td>\n",
       "      <td>[3.0, 2.5, 1300.0, 812.0, 2.0, 0.0, 0.0, 3.0, 8.0, 880.0, 420.0, 47.5893, -122.317, 1300.0, 824.0, 6.0, 0.0, 0.0]</td>\n",
       "      <td>[448627.72]</td>\n",
       "      <td>0</td>\n",
       "    </tr>\n",
       "    <tr>\n",
       "      <th>3</th>\n",
       "      <td>2023-05-22 19:58:49.767</td>\n",
       "      <td>[4.0, 2.5, 2500.0, 8540.0, 2.0, 0.0, 0.0, 3.0, 9.0, 2500.0, 0.0, 47.5759, -121.994, 2560.0, 8475.0, 24.0, 0.0, 0.0]</td>\n",
       "      <td>[758714.2]</td>\n",
       "      <td>0</td>\n",
       "    </tr>\n",
       "    <tr>\n",
       "      <th>4</th>\n",
       "      <td>2023-05-22 19:58:49.767</td>\n",
       "      <td>[3.0, 1.75, 2200.0, 11520.0, 1.0, 0.0, 0.0, 4.0, 7.0, 2200.0, 0.0, 47.7659, -122.341, 1690.0, 8038.0, 62.0, 0.0, 0.0]</td>\n",
       "      <td>[513264.7]</td>\n",
       "      <td>0</td>\n",
       "    </tr>\n",
       "    <tr>\n",
       "      <th>...</th>\n",
       "      <td>...</td>\n",
       "      <td>...</td>\n",
       "      <td>...</td>\n",
       "      <td>...</td>\n",
       "    </tr>\n",
       "    <tr>\n",
       "      <th>501</th>\n",
       "      <td>2023-05-22 19:58:49.767</td>\n",
       "      <td>[3.0, 2.5, 1570.0, 1433.0, 3.0, 0.0, 0.0, 3.0, 8.0, 1570.0, 0.0, 47.6858, -122.336, 1570.0, 2652.0, 4.0, 0.0, 0.0]</td>\n",
       "      <td>[557391.25]</td>\n",
       "      <td>0</td>\n",
       "    </tr>\n",
       "    <tr>\n",
       "      <th>502</th>\n",
       "      <td>2023-05-22 19:58:49.767</td>\n",
       "      <td>[3.0, 2.5, 2390.0, 15669.0, 2.0, 0.0, 0.0, 3.0, 9.0, 2390.0, 0.0, 47.7446, -122.193, 2640.0, 12500.0, 24.0, 0.0, 0.0]</td>\n",
       "      <td>[741973.6]</td>\n",
       "      <td>0</td>\n",
       "    </tr>\n",
       "    <tr>\n",
       "      <th>503</th>\n",
       "      <td>2023-05-22 19:58:49.767</td>\n",
       "      <td>[3.0, 0.75, 920.0, 20412.0, 1.0, 1.0, 2.0, 5.0, 6.0, 920.0, 0.0, 47.4781, -122.49, 1162.0, 54705.0, 64.0, 0.0, 0.0]</td>\n",
       "      <td>[338418.8]</td>\n",
       "      <td>0</td>\n",
       "    </tr>\n",
       "    <tr>\n",
       "      <th>504</th>\n",
       "      <td>2023-05-22 19:58:49.767</td>\n",
       "      <td>[4.0, 2.5, 2800.0, 246114.0, 2.0, 0.0, 0.0, 3.0, 9.0, 2800.0, 0.0, 47.6586, -121.962, 2750.0, 60351.0, 15.0, 0.0, 0.0]</td>\n",
       "      <td>[765468.75]</td>\n",
       "      <td>0</td>\n",
       "    </tr>\n",
       "    <tr>\n",
       "      <th>505</th>\n",
       "      <td>2023-05-22 19:58:49.767</td>\n",
       "      <td>[2.0, 1.0, 1120.0, 9912.0, 1.0, 0.0, 0.0, 4.0, 6.0, 1120.0, 0.0, 47.3735, -122.43, 1540.0, 9750.0, 34.0, 0.0, 0.0]</td>\n",
       "      <td>[309800.75]</td>\n",
       "      <td>0</td>\n",
       "    </tr>\n",
       "  </tbody>\n",
       "</table>\n",
       "<p>506 rows × 4 columns</p>\n",
       "</div>"
      ],
      "text/plain": [
       "                       time  \\\n",
       "0   2023-05-22 19:58:49.767   \n",
       "1   2023-05-22 19:58:49.767   \n",
       "2   2023-05-22 19:58:49.767   \n",
       "3   2023-05-22 19:58:49.767   \n",
       "4   2023-05-22 19:58:49.767   \n",
       "..                      ...   \n",
       "501 2023-05-22 19:58:49.767   \n",
       "502 2023-05-22 19:58:49.767   \n",
       "503 2023-05-22 19:58:49.767   \n",
       "504 2023-05-22 19:58:49.767   \n",
       "505 2023-05-22 19:58:49.767   \n",
       "\n",
       "                                                                                                                  in.tensor  \\\n",
       "0        [4.0, 2.5, 2900.0, 5505.0, 2.0, 0.0, 0.0, 3.0, 8.0, 2900.0, 0.0, 47.6063, -122.02, 2970.0, 5251.0, 12.0, 0.0, 0.0]   \n",
       "1        [2.0, 2.5, 2170.0, 6361.0, 1.0, 0.0, 2.0, 3.0, 8.0, 2170.0, 0.0, 47.7109, -122.017, 2310.0, 7419.0, 6.0, 0.0, 0.0]   \n",
       "2         [3.0, 2.5, 1300.0, 812.0, 2.0, 0.0, 0.0, 3.0, 8.0, 880.0, 420.0, 47.5893, -122.317, 1300.0, 824.0, 6.0, 0.0, 0.0]   \n",
       "3       [4.0, 2.5, 2500.0, 8540.0, 2.0, 0.0, 0.0, 3.0, 9.0, 2500.0, 0.0, 47.5759, -121.994, 2560.0, 8475.0, 24.0, 0.0, 0.0]   \n",
       "4     [3.0, 1.75, 2200.0, 11520.0, 1.0, 0.0, 0.0, 4.0, 7.0, 2200.0, 0.0, 47.7659, -122.341, 1690.0, 8038.0, 62.0, 0.0, 0.0]   \n",
       "..                                                                                                                      ...   \n",
       "501      [3.0, 2.5, 1570.0, 1433.0, 3.0, 0.0, 0.0, 3.0, 8.0, 1570.0, 0.0, 47.6858, -122.336, 1570.0, 2652.0, 4.0, 0.0, 0.0]   \n",
       "502   [3.0, 2.5, 2390.0, 15669.0, 2.0, 0.0, 0.0, 3.0, 9.0, 2390.0, 0.0, 47.7446, -122.193, 2640.0, 12500.0, 24.0, 0.0, 0.0]   \n",
       "503     [3.0, 0.75, 920.0, 20412.0, 1.0, 1.0, 2.0, 5.0, 6.0, 920.0, 0.0, 47.4781, -122.49, 1162.0, 54705.0, 64.0, 0.0, 0.0]   \n",
       "504  [4.0, 2.5, 2800.0, 246114.0, 2.0, 0.0, 0.0, 3.0, 9.0, 2800.0, 0.0, 47.6586, -121.962, 2750.0, 60351.0, 15.0, 0.0, 0.0]   \n",
       "505      [2.0, 1.0, 1120.0, 9912.0, 1.0, 0.0, 0.0, 4.0, 6.0, 1120.0, 0.0, 47.3735, -122.43, 1540.0, 9750.0, 34.0, 0.0, 0.0]   \n",
       "\n",
       "    out.variable  check_failures  \n",
       "0    [718013.75]               0  \n",
       "1    [615094.56]               0  \n",
       "2    [448627.72]               0  \n",
       "3     [758714.2]               0  \n",
       "4     [513264.7]               0  \n",
       "..           ...             ...  \n",
       "501  [557391.25]               0  \n",
       "502   [741973.6]               0  \n",
       "503   [338418.8]               0  \n",
       "504  [765468.75]               0  \n",
       "505  [309800.75]               0  \n",
       "\n",
       "[506 rows x 4 columns]"
      ]
     },
     "execution_count": 38,
     "metadata": {},
     "output_type": "execute_result"
    }
   ],
   "source": [
    "task_end = datetime.datetime.now()\n",
    "display(task_end)\n",
    "\n",
    "pipeline.logs(start_datetime = task_start, end_datetime = task_end)"
   ]
  },
  {
   "attachments": {},
   "cell_type": "markdown",
   "id": "2296f5fc",
   "metadata": {},
   "source": [
    "### Scheduled Tasks\n",
    "\n",
    "Scheduled tasks are run with the Orchestration `run_scheduled` method.  We'll set it up to run every 5 minutes, then check the results.\n",
    "\n",
    "It is recommended that orchestrations that have pipeline deploy or undeploy commands be spaced out no less than 5 minutes to prevent colliding with other tasks that use the same pipeline."
   ]
  },
  {
   "cell_type": "code",
   "execution_count": 54,
   "id": "1f521203",
   "metadata": {},
   "outputs": [
    {
     "data": {
      "text/plain": [
       "'pending'"
      ]
     },
     "metadata": {},
     "output_type": "display_data"
    },
    {
     "data": {
      "text/html": [
       "\n",
       "        <table>\n",
       "          <tr>\n",
       "            <th>Field</th>\n",
       "            <th>Value</th>\n",
       "          </tr>\n",
       "          <tr>\n",
       "            <td>ID</td><td>4af57c61-dfa9-43eb-944e-559135495df4</td>\n",
       "          </tr>\n",
       "          <tr>\n",
       "            <td>Name</td><td>schedule example</td>\n",
       "          </tr>\n",
       "          <tr>\n",
       "            <td>Last Run Status</td><td>unknown</td>\n",
       "          </tr>\n",
       "          <tr>\n",
       "            <td>Type</td><td>Scheduled Run</td>\n",
       "          </tr>\n",
       "          <tr>\n",
       "            <td>Active</td><td>True</td>\n",
       "          </tr>\n",
       "          <tr>\n",
       "            <td>Schedule</td><td>*/5 * * * *</td>\n",
       "          </tr>\n",
       "          <tr>\n",
       "            <td>Created At</td><td>2023-22-May 20:08:25</td>\n",
       "          </tr>\n",
       "          <tr>\n",
       "            <td>Updated At</td><td>2023-22-May 20:08:25</td>\n",
       "          </tr>\n",
       "        </table>\n",
       "        "
      ],
      "text/plain": [
       "<wallaroo.task.Task at 0x7f146af88ca0>"
      ]
     },
     "execution_count": 54,
     "metadata": {},
     "output_type": "execute_result"
    }
   ],
   "source": [
    "task_start = datetime.datetime.now()\n",
    "schedule = \"*/5 * * * *\"\n",
    "task_scheduled = orchestration.run_scheduled(name=\"schedule example\", \n",
    "                                             timeout=600, \n",
    "                                             schedule=schedule, \n",
    "                                             json_args={\"workspace_name\": workspace_name, \n",
    "                                                        \"pipeline_name\": pipeline_name,\n",
    "                                                        \"connection_name\": connection_name\n",
    "                                            })\n",
    "while task_scheduled.status() != \"started\":\n",
    "    display(task_scheduled.status())\n",
    "    time.sleep(5)\n",
    "task_scheduled"
   ]
  },
  {
   "cell_type": "code",
   "execution_count": 56,
   "id": "5d2f3159-bc95-4c47-be46-dfa7b9528bb8",
   "metadata": {},
   "outputs": [
    {
     "data": {
      "text/html": [
       "<pre><code>2023-22-May 20:11:02 Getting the workspace orchestrationworkspacetgiq\n",
       "2023-22-May 20:11:02 Getting the pipeline orchestrationpipelinetgiq\n",
       "2023-22-May 20:11:02 Inference time.  Displaying results after.\n",
       "2023-22-May 20:11:02 Getting arrow table file\n",
       "2023-22-May 20:11:02 pyarrow.Table\n",
       "2023-22-May 20:11:02 time: timestamp[ms]\n",
       "2023-22-May 20:11:02 in.tensor: list<item: float> not null\n",
       "2023-22-May 20:11:02   child 0, item: float\n",
       "2023-22-May 20:11:02 out.variable: list<inner: float not null> not null\n",
       "2023-22-May 20:11:02   child 0, inner: float not null\n",
       "2023-22-May 20:11:02 check_failures: int8\n",
       "2023-22-May 20:11:02 ----\n",
       "2023-22-May 20:11:02 time: [[2023-05-22 20:10:23.271,2023-05-22 20:10:23.271,2023-05-22 20:10:23.271,2023-05-22 20:10:23.271,2023-05-22 20:10:23.271,...,2023-05-22 20:10:23.271,2023-05-22 20:10:23.271,2023-05-22 20:10:23.271,2023-05-22 20:10:23.271,2023-05-22 20:10:23.271]]\n",
       "2023-22-May 20:11:02 in.tensor: [[[4,2.5,2900,5505,2,...,2970,5251,12,0,0],[2,2.5,2170,6361,1,...,2310,7419,6,0,0],...,[3,1.75,2910,37461,1,...,2520,18295,47,0,0],[3,2,2005,7000,1,...,1750,4500,34,0,0]]]\n",
       "2023-22-May 20:11:02 check_failures: [[0,0,0,0,0,...,0,0,0,0,0]]\n",
       "2023-22-May 20:11:02 out.variable: [[[718013.75],[615094.56],...,[706823.56],[581003]]]</code></pre>"
      ],
      "text/plain": [
       "['2023-05-22T20:11:02.733387016Z stdout F Getting the workspace orchestrationworkspacetgiq',\n",
       " '2023-05-22T20:11:02.733450317Z stdout F Getting the pipeline orchestrationpipelinetgiq',\n",
       " '2023-05-22T20:11:02.733462517Z stdout F Inference time.  Displaying results after.',\n",
       " '2023-05-22T20:11:02.733458117Z stdout F Getting arrow table file',\n",
       " '2023-05-22T20:11:02.733466817Z stdout F pyarrow.Table',\n",
       " '2023-05-22T20:11:02.733471817Z stdout F time: timestamp[ms]',\n",
       " '2023-05-22T20:11:02.733476417Z stdout F in.tensor: list<item: float> not null',\n",
       " '2023-05-22T20:11:02.733481117Z stdout F   child 0, item: float',\n",
       " '2023-05-22T20:11:02.733485617Z stdout F out.variable: list<inner: float not null> not null',\n",
       " '2023-05-22T20:11:02.733490417Z stdout F   child 0, inner: float not null',\n",
       " '2023-05-22T20:11:02.733494918Z stdout F check_failures: int8',\n",
       " '2023-05-22T20:11:02.733500118Z stdout F ----',\n",
       " '2023-05-22T20:11:02.733505218Z stdout F time: [[2023-05-22 20:10:23.271,2023-05-22 20:10:23.271,2023-05-22 20:10:23.271,2023-05-22 20:10:23.271,2023-05-22 20:10:23.271,...,2023-05-22 20:10:23.271,2023-05-22 20:10:23.271,2023-05-22 20:10:23.271,2023-05-22 20:10:23.271,2023-05-22 20:10:23.271]]',\n",
       " '2023-05-22T20:11:02.733511618Z stdout F in.tensor: [[[4,2.5,2900,5505,2,...,2970,5251,12,0,0],[2,2.5,2170,6361,1,...,2310,7419,6,0,0],...,[3,1.75,2910,37461,1,...,2520,18295,47,0,0],[3,2,2005,7000,1,...,1750,4500,34,0,0]]]',\n",
       " '2023-05-22T20:11:02.733520818Z stdout F check_failures: [[0,0,0,0,0,...,0,0,0,0,0]]',\n",
       " '2023-05-22T20:11:02.733516418Z stdout F out.variable: [[[718013.75],[615094.56],...,[706823.56],[581003]]]']"
      ]
     },
     "metadata": {},
     "output_type": "display_data"
    }
   ],
   "source": [
    "time.sleep(420)\n",
    "recent_run = task_scheduled.last_runs()[0]\n",
    "display(recent_run.logs())"
   ]
  },
  {
   "attachments": {},
   "cell_type": "markdown",
   "id": "417d4d85",
   "metadata": {},
   "source": [
    "### Kill a Task\n",
    "\n",
    "Killing a task removes the schedule or removes it from a service.  Tasks are killed with the Task `kill()` method, and returns a message with the status of the kill procedure.\n",
    "\n",
    "If necessary, all tasks can be killed through the following script.\n",
    "\n",
    "* **IMPORTANT NOTE**:  This command will kill all running tasks - scheduled or otherwise.  Only use this if required.\n",
    "\n",
    "```python\n",
    "# Kill all tasks\n",
    "for t in wl.list_tasks(): t.kill()\n",
    "```\n",
    "\n",
    "When listed with Wallaroo client `task_list(killed=True)` , the field `active` displays tasks that are killed (`False`) or either completed running or still scheduled to run (`True`)."
   ]
  },
  {
   "cell_type": "code",
   "execution_count": 57,
   "id": "a489a6bc-da89-4a86-8d38-1eeb5bb2237c",
   "metadata": {},
   "outputs": [
    {
     "data": {
      "text/plain": [
       "<ArbexStatus.PENDING_KILL: 'pending_kill'>"
      ]
     },
     "execution_count": 57,
     "metadata": {},
     "output_type": "execute_result"
    }
   ],
   "source": [
    "task_scheduled.kill()"
   ]
  },
  {
   "cell_type": "code",
   "execution_count": 58,
   "id": "790388db",
   "metadata": {},
   "outputs": [
    {
     "data": {
      "text/html": [
       "<table><tr><th>id</th><th>name</th><th>last run status</th><th>type</th><th>active</th><th>schedule</th><th>created at</th><th>updated at</th></tr><tr><td>4af57c61-dfa9-43eb-944e-559135495df4</td><td>schedule example</td><td>success</td><td>Scheduled Run</td><td>False</td><td>*/5 * * * *</td><td>2023-22-May 20:08:25</td><td>2023-22-May 20:13:12</td></tr><tr><td>dc185e24-cf89-4a97-b6f0-33fc3d67da72</td><td>schedule example</td><td>unknown</td><td>Scheduled Run</td><td>False</td><td>*/5 * * * *</td><td>2023-22-May 20:05:47</td><td>2023-22-May 20:06:22</td></tr><tr><td>f0e27d6a-6a98-4d26-b240-266f08560c48</td><td>house price run once 2</td><td>success</td><td>Temporary Run</td><td>True</td><td>-</td><td>2023-22-May 19:58:32</td><td>2023-22-May 19:58:38</td></tr><tr><td>36509ef8-98da-42a0-913f-e6e929dedb15</td><td>house price run once</td><td>success</td><td>Temporary Run</td><td>True</td><td>-</td><td>2023-22-May 19:56:37</td><td>2023-22-May 19:56:48</td></tr></table>"
      ],
      "text/plain": [
       "[<wallaroo.task.Task at 0x7f146af14040>,\n",
       " <wallaroo.task.Task at 0x7f146af14340>,\n",
       " <wallaroo.task.Task at 0x7f1483c24760>,\n",
       " <wallaroo.task.Task at 0x7f1483c24640>]"
      ]
     },
     "execution_count": 58,
     "metadata": {},
     "output_type": "execute_result"
    }
   ],
   "source": [
    "wl.list_tasks(killed=True)"
   ]
  },
  {
   "attachments": {},
   "cell_type": "markdown",
   "id": "1d780833",
   "metadata": {},
   "source": [
    "## Cleaning Up\n",
    "\n",
    "With the tutorial complete we will undeploy the pipeline and ensure the resources are returned back to the Wallaroo instance."
   ]
  },
  {
   "cell_type": "code",
   "execution_count": null,
   "id": "aaa5cb60",
   "metadata": {},
   "outputs": [],
   "source": [
    "pipeline.undeploy()"
   ]
  }
 ],
 "metadata": {
  "kernelspec": {
   "display_name": "Python 3 (ipykernel)",
   "language": "python",
   "name": "python3"
  },
  "language_info": {
   "codemirror_mode": {
    "name": "ipython",
    "version": 3
   },
   "file_extension": ".py",
   "mimetype": "text/x-python",
   "name": "python",
   "nbconvert_exporter": "python",
   "pygments_lexer": "ipython3",
   "version": "3.9.13"
  }
 },
 "nbformat": 4,
 "nbformat_minor": 5
}
