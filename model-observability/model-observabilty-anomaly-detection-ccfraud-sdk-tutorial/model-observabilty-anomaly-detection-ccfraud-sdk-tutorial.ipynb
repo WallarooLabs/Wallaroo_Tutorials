{
 "cells": [
  {
   "cell_type": "markdown",
   "id": "66bb8853",
   "metadata": {},
   "source": [
    "The following tutorials are available from the [Wallaroo Tutorials Repository](https://github.com/WallarooLabs/Wallaroo_Tutorials/blob/20240205-data-schemas/model-observability/model-observabilty-anomaly-detection-ccfraud-sdk-tutorial).\n",
    "\n",
    "## Wallaroo Model Observability: Anomaly Detection with CCFraud\n",
    "\n",
    "The following tutorial demonstrates the use case of detecting anomalies:  inference input or output data that does not match typical validations.\n",
    "\n",
    "Wallaroo provides **validations** to detect anomalous data from inference inputs and outputs.  Validations are added to a Wallaroo pipeline with the `wallaroo.pipeline.add_validations` method.\n",
    "\n",
    "Adding validations takes the format:\n",
    "\n",
    "```python\n",
    "pipeline.add_validations(\n",
    "    validation_name_01 = polars.col(in|out.{column_name}) EXPRESSION,\n",
    "    validation_name_02 = polars.col(in|out.{column_name}) EXPRESSION\n",
    "    ...{additional rules}\n",
    ")\n",
    "```\n",
    "\n",
    "* `validation_name`: The user provided name of the validation.  The names must match Python variable naming requirements.\n",
    "  * **IMPORTANT NOTE**: Using the name `count` as a validation name **returns an error**.  Any validation rules named `count` are dropped upon request and an error returned.\n",
    "* `polars.col(in|out.{column_name})`: Specifies the **input** or **output** for a specific field aka \"column\" in an inference result.  Wallaroo inference requests are in the format `in.{field_name}` for **inputs**, and `out.{field_name}` for **outputs**.\n",
    "  * More than one field can be selected, as long as they follow the rules of the [polars 0.18 Expressions library](https://docs.pola.rs/docs/python/version/0.18/reference/expressions/index.html).\n",
    "* `EXPRESSION`:  The expression to validate. When the expression returns **True**, that indicates an anomaly detected.\n",
    "\n",
    "The [`polars` library version 0.18.5](https://docs.pola.rs/docs/python/version/0.18/index.html) is used to create the validation rule.  This is installed by default with the Wallaroo SDK.  This provides a powerful range of comparisons to organizations tracking anomalous data from their ML models.\n",
    "\n",
    "When validations are added to a pipeline, inference request outputs return the following fields:\n",
    "\n",
    "| Field | Type | Description |\n",
    "|---|---|---|\n",
    "| **anomaly.count** | **Integer** | The total of all validations that returned **True**. |\n",
    "| **anomaly.{validation name}** | **Bool** | The output of the validation `{validation_name}`. |\n",
    "\n",
    "When validation returns `True`, **an anomaly is detected**.\n",
    "\n",
    "For example, adding the validation `fraud` to the following pipeline returns `anomaly.count` of `1` when the validation `fraud` returns `True`.  The validation `fraud` returns `True` when the **output** field **dense_1** at index **0** is greater than 0.9.\n",
    "\n",
    "```python\n",
    "sample_pipeline = wallaroo.client.build_pipeline(\"sample-pipeline\")\n",
    "sample_pipeline.add_model_step(ccfraud_model)\n",
    "\n",
    "# add the validation\n",
    "sample_pipeline.add_validations(\n",
    "    fraud=pl.col(\"out.dense_1\").list.get(0) > 0.9,\n",
    "    )\n",
    "\n",
    "# deploy the pipeline\n",
    "sample_pipeline.deploy()\n",
    "\n",
    "# sample inference\n",
    "display(sample_pipeline.infer_from_file(\"dev_high_fraud.json\", data_format='pandas-records'))\n",
    "```\n",
    "\n",
    "|&nbsp;|time|in.tensor|out.dense_1|anomaly.count|anomaly.fraud|\n",
    "|---|---|---|---|---|---|\n",
    "|0|2024-02-02 16:05:42.152|[1.0678324729, 18.1555563975, -1.6589551058, 5...]|[0.981199]|1|True|\n",
    "\n",
    "### Detecting Anomalies from Inference Request Results\n",
    "\n",
    "When an inference request is submitted to a Wallaroo pipeline with validations, the following fields are output:\n",
    "\n",
    "| Field | Type | Description |\n",
    "|---|---|---|\n",
    "| **anomaly.count** | **Integer** | The total of all validations that returned **True**. |\n",
    "| **anomaly.{validation name}** | **Bool** | The output of each pipeline validation `{validation_name}`. |\n",
    "\n",
    "For example, adding the validation `fraud` to the following pipeline returns `anomaly.count` of `1` when the validation `fraud` returns `True`.\n",
    "\n",
    "```python\n",
    "sample_pipeline = wallaroo.client.build_pipeline(\"sample-pipeline\")\n",
    "sample_pipeline.add_model_step(ccfraud_model)\n",
    "\n",
    "# add the validation\n",
    "sample_pipeline.add_validations(\n",
    "    fraud=pl.col(\"out.dense_1\").list.get(0) > 0.9,\n",
    "    )\n",
    "\n",
    "# deploy the pipeline\n",
    "sample_pipeline.deploy()\n",
    "\n",
    "# sample inference\n",
    "display(sample_pipeline.infer_from_file(\"dev_high_fraud.json\", data_format='pandas-records'))\n",
    "```\n",
    "\n",
    "|&nbsp;|time|in.tensor|out.dense_1|anomaly.count|anomaly.fraud|\n",
    "|---|---|---|---|---|---|\n",
    "|0|2024-02-02 16:05:42.152|[1.0678324729, 18.1555563975, -1.6589551058, 5...]|[0.981199]|1|True|\n",
    "\n",
    "## Anomaly Detection Demonstration\n",
    "\n",
    "The following demonstrates how to:\n",
    "\n",
    "* Upload a ccfraud ML model trained to detect the likelihood of a transaction being fraudulent.  This outputs the field `dense_1` as an float where the closer to 1, the higher the likelihood of the transaction being fraudulent.\n",
    "* Add the ccfraud model as a pipeline step.\n",
    "* Add the validation `fraud` to detect when the output of `dense_1` at index 0 when the values are greater than `0.9`.\n",
    "* Deploy the pipeline and performing sample inferences on it.\n",
    "* Perform sample inferences to show when the `fraud` validation returns `True` and `False`.\n",
    "* Perform sample inference with different datasets to show enable or disable certain fields from displaying in the inference results.\n",
    "\n",
    "### Prerequisites\n",
    "\n",
    "* Wallaroo version 2023.4.1 (@TODO: Verify) and above.\n",
    "* [`polars` version 0.18.5](https://docs.pola.rs/docs/python/version/0.18/index.html).  This is installed by default with the Wallaroo SDK."
   ]
  },
  {
   "cell_type": "markdown",
   "id": "90604263",
   "metadata": {},
   "source": [
    "## Tutorial Steps\n",
    "\n",
    "### Load Libraries\n",
    "\n",
    "The first step is to import the libraries used in this notebook."
   ]
  },
  {
   "cell_type": "code",
   "execution_count": 1,
   "id": "6766fa92-af20-457d-9db7-ee8344d7abd0",
   "metadata": {},
   "outputs": [],
   "source": [
    "import wallaroo\n"
   ]
  },
  {
   "cell_type": "markdown",
   "id": "07585102",
   "metadata": {},
   "source": [
    "### Connect to the Wallaroo Instance through the User Interface\n",
    "\n",
    "The next step is to connect to Wallaroo through the Wallaroo client.  The Python library is included in the Wallaroo install and available through the Jupyter Hub interface provided with your Wallaroo environment.\n",
    "\n",
    "This is accomplished using the `wallaroo.Client()` command, which provides a URL to grant the SDK permission to your specific Wallaroo environment.  When displayed, enter the URL into a browser and confirm permissions.  Store the connection into a variable that can be referenced later.\n",
    "\n",
    "If logging into the Wallaroo instance through the internal JupyterHub service, use `wl = wallaroo.Client()`.  For more information on Wallaroo Client settings, see the [Client Connection guide](https://docs.wallaroo.ai/wallaroo-developer-guides/wallaroo-sdk-guides/wallaroo-sdk-essentials-guide/wallaroo-sdk-essentials-client/)."
   ]
  },
  {
   "cell_type": "code",
   "execution_count": 3,
   "id": "a0266c0d-7539-4fc4-85e3-496f540a4cbf",
   "metadata": {},
   "outputs": [
    {
     "name": "stdout",
     "output_type": "stream",
     "text": [
      "Please log into the following URL in a web browser:\n",
      "\n",
      "\thttps://fluffy-couch-1563.keycloak.wallaroo.dev/auth/realms/master/device?user_code=WHIV-AFPV\n",
      "\n",
      "Login successful!\n"
     ]
    }
   ],
   "source": [
    "wl = wallaroo.Client()"
   ]
  },
  {
   "cell_type": "markdown",
   "id": "85169ef1",
   "metadata": {},
   "source": [
    "### Create a New Workspace\n",
    "\n",
    "We'll use the SDK below to create our workspace then assign as our **current workspace**.  The current workspace is used by the Wallaroo SDK for where to upload models, create pipelines, etc.  We'll also set up variables for our models and pipelines down the road, so we have one spot to change names to whatever fits your organization's standards best.\n",
    "\n",
    "Before starting, verify that the workspace name is unique in your Wallaroo instance."
   ]
  },
  {
   "cell_type": "code",
   "execution_count": null,
   "id": "255d65c7",
   "metadata": {},
   "outputs": [],
   "source": [
    "workspace_name = 'validation-ccfraud-demonstration'\n",
    "pipeline_name = 'ccfraud-validation'\n",
    "model_name = 'ccfraud'\n",
    "model_file_name = './models/ccfraud.onnx'"
   ]
  },
  {
   "cell_type": "code",
   "execution_count": null,
   "id": "cb034bed",
   "metadata": {},
   "outputs": [],
   "source": [
    "workspace = wl.create_workspace(workspace_name = workspace_name)\n",
    "wl.set_current_workspace(workspace)"
   ]
  },
  {
   "cell_type": "markdown",
   "id": "c9319cc1",
   "metadata": {},
   "source": [
    "### Upload the Model\n",
    "\n",
    "Upload the model to the Wallaroo workspace with the `wallaroo.client.upload_model` method.  Our ccfraud ML model is a Wallaroo Default Runtime of type `ONNX`, so all we need is the model name, the model file path, and the framework type of `wallaroo.framework.Framework.ONNX`."
   ]
  },
  {
   "cell_type": "code",
   "execution_count": 24,
   "id": "4737d146-06a1-438d-ae72-00ade43071d8",
   "metadata": {},
   "outputs": [],
   "source": [
    "ccfraud_model = (wl.upload_model(model_name, \n",
    "                                 model_file_name, \n",
    "                                 framework=wallaroo.framework.Framework.ONNX)\n",
    "                )"
   ]
  },
  {
   "cell_type": "markdown",
   "id": "ebeb8e23",
   "metadata": {},
   "source": [
    "### Build the Pipeline\n",
    "\n",
    "Pipelines are build with the `wallaroo.client.build_pipeline` method, which takes the pipeline name.  This will create the pipeline in our default workspace.  Note that if there are any existing pipelines with the same name in this workspace, this method will retrieve that pipeline for this SDK session.\n",
    "\n",
    "Once the pipeline is created, we add the ccfraud model as our pipeline step."
   ]
  },
  {
   "cell_type": "code",
   "execution_count": 27,
   "id": "ccfd6050-b0d7-4b7b-bcbc-ad8cb8e36572",
   "metadata": {},
   "outputs": [],
   "source": [
    "sample_pipeline = wl.build_pipeline(pipeline_name)\n",
    "sample_pipeline = sample_pipeline.add_model_step(ccfraud_model)\n"
   ]
  },
  {
   "cell_type": "markdown",
   "id": "c3a9f8c5",
   "metadata": {},
   "source": [
    "### Add Validation\n",
    "\n",
    "Now we add our validation to our new pipeline.  We will give it the following configuration.\n",
    "\n",
    "* Validation Name: `fraud`\n",
    "* Validation Field: `out.dense_1`\n",
    "* Validation Field Index: `0`\n",
    "* Validation Expression:  Values greater than `0.9`.\n",
    "\n",
    "The `polars` library is required for creating the validation.  We will import the polars library, then add our validation to the pipeline."
   ]
  },
  {
   "cell_type": "code",
   "execution_count": null,
   "id": "d0025389",
   "metadata": {},
   "outputs": [],
   "source": [
    "import polars as pl\n",
    "\n",
    "sample_pipeline = sample_pipeline.add_validations(fraud=pl.col(\"out.dense_1\").list.get(0) > 0.9)"
   ]
  },
  {
   "cell_type": "markdown",
   "id": "61d06a42",
   "metadata": {},
   "source": [
    "### Display Pipeline And Validation Steps\n",
    "\n",
    "The method `wallaroo.pipeline.steps()` shows the current pipeline steps. The added validations are in the `Check` field.  This is used for demonstration purposes to show the added validation to the pipeline."
   ]
  },
  {
   "cell_type": "code",
   "execution_count": 28,
   "id": "10437214-4c25-4e55-8d4e-a889dd43e4c1",
   "metadata": {},
   "outputs": [
    {
     "data": {
      "text/plain": [
       "[{'ModelInference': {'models': [{'name': 'ccfraudmodel', 'version': 'd9d96e2b-de0a-4188-9816-3d07d42038ee', 'sha': 'bc85ce596945f876256f41515c7501c399fd97ebcb9ab3dd41bf03f8937b4507'}]}},\n",
       " {'Check': {'tree': ['{\"Alias\":[{\"BinaryExpr\":{\"left\":{\"Function\":{\"input\":[{\"Column\":\"out.dense_1\"},{\"Literal\":{\"Int32\":0}}],\"function\":{\"ListExpr\":\"Get\"},\"options\":{\"collect_groups\":\"ApplyFlat\",\"fmt_str\":\"\",\"input_wildcard_expansion\":false,\"auto_explode\":true,\"cast_to_supertypes\":false,\"allow_rename\":false,\"pass_name_to_apply\":false,\"changes_length\":false,\"check_lengths\":true,\"allow_group_aware\":true}}},\"op\":\"Gt\",\"right\":{\"Literal\":{\"Float64\":0.9}}}},\"fraud\"]}']}}]"
      ]
     },
     "execution_count": 28,
     "metadata": {},
     "output_type": "execute_result"
    }
   ],
   "source": [
    "sample_pipeline.steps()"
   ]
  },
  {
   "cell_type": "markdown",
   "id": "8ec7e52a",
   "metadata": {},
   "source": [
    "### Deploy Pipeline\n",
    "\n",
    "With the pipeline steps set and the validations created, we deploy the pipeline.  Because of it's size, we will only allocate `0.1` cpu from the cluster for the pipeline's use."
   ]
  },
  {
   "cell_type": "code",
   "execution_count": 29,
   "id": "e3aab449-8af7-424a-ac49-931faba317c6",
   "metadata": {},
   "outputs": [
    {
     "data": {
      "text/html": [
       "<table><tr><th>name</th> <td>ccfraudpipeline</td></tr><tr><th>created</th> <td>2024-02-01 20:02:57.850980+00:00</td></tr><tr><th>last_updated</th> <td>2024-02-02 16:05:19.905095+00:00</td></tr><tr><th>deployed</th> <td>True</td></tr><tr><th>arch</th> <td>None</td></tr><tr><th>tags</th> <td></td></tr><tr><th>versions</th> <td>c9654ebb-ee4c-4845-8432-3b08ac4546a1, ccb6a66d-5a33-4fe0-a9f5-23e3c7336d46, c71ebdf5-7b8a-4a95-832d-5cd21b6ed99f, d6b3a478-ed2f-4749-9094-52b2bec1184d, 099e50b5-a8c2-44d9-b625-0ef4cfdab9d6, acdf4d01-2fec-4f4b-99b0-60e52a7afda8, 1434f1dc-9d0a-4bc6-b664-8192ec3edc9b, e72648ad-dcf0-4188-b463-2a18f607b926, e05bbab7-e3ff-45b5-a2d3-54883eb3f088, da2d6c6b-d50e-4108-8b08-2fa86c770937</td></tr><tr><th>steps</th> <td>ccfraudmodel</td></tr><tr><th>published</th> <td>False</td></tr></table>"
      ],
      "text/plain": [
       "{'name': 'ccfraudpipeline', 'create_time': datetime.datetime(2024, 2, 1, 20, 2, 57, 850980, tzinfo=tzutc()), 'definition': '[{\\'ModelInference\\': {\\'models\\': [{\\'name\\': \\'ccfraudmodel\\', \\'version\\': \\'d9d96e2b-de0a-4188-9816-3d07d42038ee\\', \\'sha\\': \\'bc85ce596945f876256f41515c7501c399fd97ebcb9ab3dd41bf03f8937b4507\\'}]}}, {\\'Check\\': {\\'tree\\': [\\'{\"Alias\":[{\"BinaryExpr\":{\"left\":{\"Function\":{\"input\":[{\"Column\":\"out.dense_1\"},{\"Literal\":{\"Int32\":0}}],\"function\":{\"ListExpr\":\"Get\"},\"options\":{\"collect_groups\":\"ApplyFlat\",\"fmt_str\":\"\",\"input_wildcard_expansion\":false,\"auto_explode\":true,\"cast_to_supertypes\":false,\"allow_rename\":false,\"pass_name_to_apply\":false,\"changes_length\":false,\"check_lengths\":true,\"allow_group_aware\":true}}},\"op\":\"Gt\",\"right\":{\"Literal\":{\"Float64\":0.9}}}},\"fraud\"]}\\']}}]'}"
      ]
     },
     "execution_count": 29,
     "metadata": {},
     "output_type": "execute_result"
    }
   ],
   "source": [
    "deploy_config = wallaroo.deployment_config.DeploymentConfigBuilder() \\\n",
    "    .cpus(0.1)\\\n",
    "    .build()\n",
    "\n",
    "sample_pipeline.deploy(deployment_config=deploy_config)"
   ]
  },
  {
   "cell_type": "markdown",
   "id": "ae26994a",
   "metadata": {},
   "source": [
    "### Sample Inferences\n",
    "\n",
    "Two sample inferences are performed with the method `wallaroo.pipeline.infer_from_file` that takes either a pandas Record JSON file or an Apache Arrow table as the input.\n",
    "\n",
    "For our demonstration, we will use the following pandas Record JSON files with the following sample data:\n",
    "\n",
    "* `./data/dev_smoke_test.pandas.json`: A sample inference that generates a low (lower than 0.01) likelihood of fraud.\n",
    "* `./data/dev_high_fraud.pandas.json`: A sample inference that generates a high (higher than 0.90) likelihood of fraud.\n",
    "\n",
    "The inference request returns a pandas DataFrame.\n",
    "\n",
    "Each of the inference outputs will include the following fields:\n",
    "\n",
    "| Field | Type | Description |\n",
    "| **time** | **DateTime** | The DateTime of the inference request. |\n",
    "| **in.{input_field_name}** | Input Dependent | Each input field submitted is labeled as `in.{input_field_name}` in the inference request result.  For our example, this is `tensor`, so the input field in the returned inference request is `in.tensor`. |\n",
    "| **out.{model_output_field_name}** | Output Dependent | Each field output by the ML model is labeled as `out.{model_output_field_name}` in the inference request result.  For our example, the ccfraud model returns `dense_1` as its output field, so the output field in the returned inference request is `out.dense_1`. |\n",
    "| **anomaly.count**\t| Integer | The total number of validations that returned `True`. |\n",
    "| **anomaly.{validation_name} | Bool | Each validation added to the pipeline is returned as `anomaly.{validation_name}`, and returns either `True` if the validation returns `True`, indicating an anomaly is found, or `False` for an anomaly for the validation is not found.  For our example, we will have `anomaly.fraud` returned."
   ]
  },
  {
   "cell_type": "code",
   "execution_count": 30,
   "id": "a03e1946-3372-4563-b82a-6eb6500a19f6",
   "metadata": {},
   "outputs": [
    {
     "data": {
      "text/html": [
       "<div>\n",
       "<style scoped>\n",
       "    .dataframe tbody tr th:only-of-type {\n",
       "        vertical-align: middle;\n",
       "    }\n",
       "\n",
       "    .dataframe tbody tr th {\n",
       "        vertical-align: top;\n",
       "    }\n",
       "\n",
       "    .dataframe thead th {\n",
       "        text-align: right;\n",
       "    }\n",
       "</style>\n",
       "<table border=\"1\" class=\"dataframe\">\n",
       "  <thead>\n",
       "    <tr style=\"text-align: right;\">\n",
       "      <th></th>\n",
       "      <th>time</th>\n",
       "      <th>in.tensor</th>\n",
       "      <th>out.dense_1</th>\n",
       "      <th>anomaly.count</th>\n",
       "      <th>anomaly.fraud</th>\n",
       "    </tr>\n",
       "  </thead>\n",
       "  <tbody>\n",
       "    <tr>\n",
       "      <th>0</th>\n",
       "      <td>2024-02-02 16:05:38.452</td>\n",
       "      <td>[1.0678324729, 0.2177810266, -1.7115145262, 0....</td>\n",
       "      <td>[0.0014974177]</td>\n",
       "      <td>0</td>\n",
       "      <td>False</td>\n",
       "    </tr>\n",
       "  </tbody>\n",
       "</table>\n",
       "</div>"
      ],
      "text/plain": [
       "                     time                                          in.tensor  \\\n",
       "0 2024-02-02 16:05:38.452  [1.0678324729, 0.2177810266, -1.7115145262, 0....   \n",
       "\n",
       "      out.dense_1  anomaly.count  anomaly.fraud  \n",
       "0  [0.0014974177]              0          False  "
      ]
     },
     "execution_count": 30,
     "metadata": {},
     "output_type": "execute_result"
    }
   ],
   "source": [
    "sample_pipeline.infer_from_file(\"dev_smoke_test.pandas.json\")"
   ]
  },
  {
   "cell_type": "code",
   "execution_count": 31,
   "id": "d5599a75-da76-456c-9cdd-50fc636f8434",
   "metadata": {},
   "outputs": [
    {
     "data": {
      "text/html": [
       "<div>\n",
       "<style scoped>\n",
       "    .dataframe tbody tr th:only-of-type {\n",
       "        vertical-align: middle;\n",
       "    }\n",
       "\n",
       "    .dataframe tbody tr th {\n",
       "        vertical-align: top;\n",
       "    }\n",
       "\n",
       "    .dataframe thead th {\n",
       "        text-align: right;\n",
       "    }\n",
       "</style>\n",
       "<table border=\"1\" class=\"dataframe\">\n",
       "  <thead>\n",
       "    <tr style=\"text-align: right;\">\n",
       "      <th></th>\n",
       "      <th>time</th>\n",
       "      <th>in.tensor</th>\n",
       "      <th>out.dense_1</th>\n",
       "      <th>anomaly.count</th>\n",
       "      <th>anomaly.fraud</th>\n",
       "    </tr>\n",
       "  </thead>\n",
       "  <tbody>\n",
       "    <tr>\n",
       "      <th>0</th>\n",
       "      <td>2024-02-02 16:05:42.152</td>\n",
       "      <td>[1.0678324729, 18.1555563975, -1.6589551058, 5...</td>\n",
       "      <td>[0.981199]</td>\n",
       "      <td>1</td>\n",
       "      <td>True</td>\n",
       "    </tr>\n",
       "  </tbody>\n",
       "</table>\n",
       "</div>"
      ],
      "text/plain": [
       "                     time                                          in.tensor  \\\n",
       "0 2024-02-02 16:05:42.152  [1.0678324729, 18.1555563975, -1.6589551058, 5...   \n",
       "\n",
       "  out.dense_1  anomaly.count  anomaly.fraud  \n",
       "0  [0.981199]              1           True  "
      ]
     },
     "execution_count": 31,
     "metadata": {},
     "output_type": "execute_result"
    }
   ],
   "source": [
    "sample_pipeline.infer_from_file(\"dev_high_fraud.json\")"
   ]
  },
  {
   "cell_type": "markdown",
   "id": "f109ea83",
   "metadata": {},
   "source": [
    "### Specify Dataset\n",
    "\n",
    "Wallaroo inference requests allow datasets to be excluded or included with the `dataset_exclude` and `dataset` parameters.\n",
    "\n",
    "| Parameter | Type | Description|\n",
    "|---|---|---|\n",
    "| **dataset_exclude** | *List(String)* | The list of datasets to exclude.  Values include:  <ul><li>`metadata`: Returns inference time per model, last model used, and other parameters.</li><li>`anomaly`: The anomaly results of all validations added to the pipeline.</li></ul> |\n",
    "| **dataset** | *List(String)* | The list of datasets and fields to include. |\n",
    "\n",
    "For our example, we will **exclude** the `anomaly` dataset, but **include** the datasets `'time'`, `'in'`, `'out'`, `'anomaly.count'`.  Note that while we exclude `anomaly`, we override that with by setting the anomaly field `'anomaly.count'` in our `dataset` parameter."
   ]
  },
  {
   "cell_type": "code",
   "execution_count": 15,
   "id": "9a4cc59e-56e6-4839-8e1f-88b6c89df5d2",
   "metadata": {},
   "outputs": [
    {
     "data": {
      "text/html": [
       "<div>\n",
       "<style scoped>\n",
       "    .dataframe tbody tr th:only-of-type {\n",
       "        vertical-align: middle;\n",
       "    }\n",
       "\n",
       "    .dataframe tbody tr th {\n",
       "        vertical-align: top;\n",
       "    }\n",
       "\n",
       "    .dataframe thead th {\n",
       "        text-align: right;\n",
       "    }\n",
       "</style>\n",
       "<table border=\"1\" class=\"dataframe\">\n",
       "  <thead>\n",
       "    <tr style=\"text-align: right;\">\n",
       "      <th></th>\n",
       "      <th>time</th>\n",
       "      <th>in.tensor</th>\n",
       "      <th>out.dense_1</th>\n",
       "      <th>anomaly.count</th>\n",
       "    </tr>\n",
       "  </thead>\n",
       "  <tbody>\n",
       "    <tr>\n",
       "      <th>0</th>\n",
       "      <td>2024-02-01 23:11:03.579</td>\n",
       "      <td>[1.0678324729, 18.1555563975, -1.6589551058, 5...</td>\n",
       "      <td>[0.981199]</td>\n",
       "      <td>1</td>\n",
       "    </tr>\n",
       "  </tbody>\n",
       "</table>\n",
       "</div>"
      ],
      "text/plain": [
       "                     time                                          in.tensor  \\\n",
       "0 2024-02-01 23:11:03.579  [1.0678324729, 18.1555563975, -1.6589551058, 5...   \n",
       "\n",
       "  out.dense_1  anomaly.count  \n",
       "0  [0.981199]              1  "
      ]
     },
     "execution_count": 15,
     "metadata": {},
     "output_type": "execute_result"
    }
   ],
   "source": [
    "sample_pipeline.infer_from_file(\"dev_high_fraud.json\", \n",
    "                                dataset_exclude=['anomaly'], \n",
    "                                dataset=['time', 'in', 'out', 'anomaly.count']\n",
    "                                )"
   ]
  },
  {
   "cell_type": "markdown",
   "id": "26bbc542",
   "metadata": {},
   "source": [
    "### Undeploy the Pipeline\n",
    "\n",
    "With the demonstration complete, we undeploy the pipeline and return the resources back to the cluster."
   ]
  },
  {
   "cell_type": "code",
   "execution_count": 32,
   "id": "d7e75ab0-c3c7-40de-8935-d743941ab31f",
   "metadata": {},
   "outputs": [
    {
     "data": {
      "text/html": [
       "<table><tr><th>name</th> <td>ccfraudpipeline</td></tr><tr><th>created</th> <td>2024-02-01 20:02:57.850980+00:00</td></tr><tr><th>last_updated</th> <td>2024-02-02 16:05:19.905095+00:00</td></tr><tr><th>deployed</th> <td>False</td></tr><tr><th>arch</th> <td>None</td></tr><tr><th>tags</th> <td></td></tr><tr><th>versions</th> <td>c9654ebb-ee4c-4845-8432-3b08ac4546a1, ccb6a66d-5a33-4fe0-a9f5-23e3c7336d46, c71ebdf5-7b8a-4a95-832d-5cd21b6ed99f, d6b3a478-ed2f-4749-9094-52b2bec1184d, 099e50b5-a8c2-44d9-b625-0ef4cfdab9d6, acdf4d01-2fec-4f4b-99b0-60e52a7afda8, 1434f1dc-9d0a-4bc6-b664-8192ec3edc9b, e72648ad-dcf0-4188-b463-2a18f607b926, e05bbab7-e3ff-45b5-a2d3-54883eb3f088, da2d6c6b-d50e-4108-8b08-2fa86c770937</td></tr><tr><th>steps</th> <td>ccfraudmodel</td></tr><tr><th>published</th> <td>False</td></tr></table>"
      ],
      "text/plain": [
       "{'name': 'ccfraudpipeline', 'create_time': datetime.datetime(2024, 2, 1, 20, 2, 57, 850980, tzinfo=tzutc()), 'definition': '[{\\'ModelInference\\': {\\'models\\': [{\\'name\\': \\'ccfraudmodel\\', \\'version\\': \\'d9d96e2b-de0a-4188-9816-3d07d42038ee\\', \\'sha\\': \\'bc85ce596945f876256f41515c7501c399fd97ebcb9ab3dd41bf03f8937b4507\\'}]}}, {\\'Check\\': {\\'tree\\': [\\'{\"Alias\":[{\"BinaryExpr\":{\"left\":{\"Function\":{\"input\":[{\"Column\":\"out.dense_1\"},{\"Literal\":{\"Int32\":0}}],\"function\":{\"ListExpr\":\"Get\"},\"options\":{\"collect_groups\":\"ApplyFlat\",\"fmt_str\":\"\",\"input_wildcard_expansion\":false,\"auto_explode\":true,\"cast_to_supertypes\":false,\"allow_rename\":false,\"pass_name_to_apply\":false,\"changes_length\":false,\"check_lengths\":true,\"allow_group_aware\":true}}},\"op\":\"Gt\",\"right\":{\"Literal\":{\"Float64\":0.9}}}},\"fraud\"]}\\']}}]'}"
      ]
     },
     "execution_count": 32,
     "metadata": {},
     "output_type": "execute_result"
    }
   ],
   "source": [
    "sample_pipeline.undeploy()"
   ]
  },
  {
   "cell_type": "code",
   "execution_count": null,
   "id": "ee47dd13-4267-43a4-a021-1e88184d6a3d",
   "metadata": {},
   "outputs": [],
   "source": []
  }
 ],
 "metadata": {
  "kernelspec": {
   "display_name": "Python 3 (ipykernel)",
   "language": "python",
   "name": "python3"
  },
  "language_info": {
   "codemirror_mode": {
    "name": "ipython",
    "version": 3
   },
   "file_extension": ".py",
   "mimetype": "text/x-python",
   "name": "python",
   "nbconvert_exporter": "python",
   "pygments_lexer": "ipython3",
   "version": "3.8.18"
  }
 },
 "nbformat": 4,
 "nbformat_minor": 5
}
