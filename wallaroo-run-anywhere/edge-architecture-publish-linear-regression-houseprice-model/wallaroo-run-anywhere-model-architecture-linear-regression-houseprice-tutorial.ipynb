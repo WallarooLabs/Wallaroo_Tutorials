{
 "cells": [
  {
   "cell_type": "markdown",
   "metadata": {},
   "source": [
    "This tutorial and the assets can be downloaded as part of the [Wallaroo Tutorials repository](https://github.com/WallarooLabs/Wallaroo_Tutorials/blob/wallaroo2024.1_tutorials/wallaroo-run-anywhere/edge-architecture-publish-linear-regression-houseprice-model).\n",
    "\n",
    "## Run Anywhere for ARM Architecture Tutorial: House Price Predictor Model\n",
    "\n",
    "Wallaroo Run Anywhere provides model deployment in any device, any cloud, and any architecture.  Models uploaded to Wallaroo are set to their targeted architecture.\n",
    "\n",
    "Organizations can deploy uploaded models to clusters that have nodes with the provisioned architecture.  The following architectures are supported:\n",
    "\n",
    "* `X86`:  The standard X86 architecture.\n",
    "* `ARM`:  For more details on cloud providers and their ARM offerings, see [Create ARM Nodepools for Kubernetes Clusters](https://staging.docs.wallaroo.ai/wallaroo-platform-operations/wallaroo-platform-operations-install/wallaroo-install-enterprise-environment/wallaroo-arm-nodepools/).\n",
    "\n",
    "### Model Architecture Inheritance\n",
    "\n",
    "The model's deployment configuration inherits its architecture.  Models automatically deploy in the target architecture provided nodepools with the architecture are available.  For information on setting up nodepools with specific architectures, see [Infrastructure Configuration Guides](https://staging.docs.wallaroo.ai/wallaroo-platform-operations/wallaroo-platform-operations-install/wallaroo-install-enterprise-environment/).\n",
    "\n",
    "That deployment configuration is carried over to the models' publication in an Open Container Initiative (OCI) Registries, which allows edge model deployments on `X64` and `ARM` architectures.  More details on deploying models on edge devices is available with the [Wallaroo Run Anywhere Guides](https://staging.docs.wallaroo.ai/wallaroo-model-operations/wallaroo-model-operations-run-anywhere/).\n",
    "\n",
    "The deployment configuration **can** be overridden for either model deployment in the Wallaroo Ops instance, or in the Edge devices.\n",
    "\n",
    "This tutorial demonstrates deploying a ML model trained to predict house prices to ARM edge locations through the following steps.\n",
    "\n",
    "* Upload a model with the architecture set to `ARM`.\n",
    "* Create a pipeline with the uploaded model as a model step.\n",
    "* Publish the pipeline model to an Open Container Initiative (OCI) Registry for both X64 and ARM deployments.\n",
    "\n",
    "In this notebook, we use a ONNX model pre-trained to predict house prices for our examples.\n",
    "\n",
    "## Goal\n",
    "\n",
    "Demonstrate publishing a pipeline with model steps to various architectures.\n",
    "\n",
    "### Resources\n",
    "\n",
    "This tutorial provides the following:\n",
    "\n",
    "* Models:\n",
    "  * `models/rf_model.onnx`: The champion model trained to predict house prices.\n",
    "  * Various inputs:\n",
    "    * `smallinputs.df.json`: A set of house inputs that tends to generate low house price values.\n",
    "    * `biginputs.df.json`: A set of house inputs that tends to generate high house price values.\n",
    "    * `normal-inputs.df.json`: A set of house inputs with a range of house values.\n",
    "\n",
    "### Prerequisites\n",
    "\n",
    "* A deployed Wallaroo instance with [Edge Registry Services](https://docs.wallaroo.ai/wallaroo-operations-guide/wallaroo-configuration/wallaroo-edge-deployment/#enable-wallaroo-edge-deployment-registry) and [Edge Observability enabled](https://docs.wallaroo.ai/wallaroo-operations-guide/wallaroo-configuration/wallaroo-edge-deployment/#set-edge-observability-service).\n",
    "* The following Python libraries installed:\n",
    "  * [`wallaroo`](https://pypi.org/project/wallaroo/): The Wallaroo SDK. Included with the Wallaroo JupyterHub service by default.\n",
    "  * [`pandas`](https://pypi.org/project/pandas/): Pandas, mainly used for Pandas DataFrame\n",
    "  * `json`: Used for format input data for inference requests.\n",
    "* A X64 Docker deployment to deploy the model on an edge location.\n"
   ]
  },
  {
   "cell_type": "markdown",
   "metadata": {},
   "source": [
    "## Steps\n",
    "\n",
    "* Upload the model with the targeted architecture set to `ARM`.\n",
    "* Create the pipeline add the model as a model step.\n",
    "* Deploy the model in the targeted architecture and perform sample inferences.\n",
    "* Publish the pipeline an OCI registry.\n",
    "* Deploy the model from the pipeline publish to the edge deployment with ARM architecture.\n",
    "* Perform sample inferences on the ARM edge model deployment.\n",
    "\n",
    "### Import Libraries\n",
    "\n",
    "The first step will be to import our libraries, and set variables used through this tutorial."
   ]
  },
  {
   "cell_type": "code",
   "execution_count": 1,
   "metadata": {},
   "outputs": [
    {
     "data": {
      "text/plain": [
       "'0.0.0'"
      ]
     },
     "execution_count": 1,
     "metadata": {},
     "output_type": "execute_result"
    }
   ],
   "source": [
    "import wallaroo\n",
    "from wallaroo.object import EntityNotFoundError\n",
    "from wallaroo.framework import Framework\n",
    "from wallaroo.engine_config import Architecture\n",
    "\n",
    "from IPython.display import display\n",
    "\n",
    "# used to display DataFrame information without truncating\n",
    "from IPython.display import display\n",
    "import pandas as pd\n",
    "pd.set_option('display.max_colwidth', None)\n",
    "\n",
    "import datetime\n",
    "import time\n",
    "\n",
    "workspace_name = f'run-anywhere-house-price-architecture-demonstration-tutorial'\n",
    "arm_pipeline_name = f'architecture-demonstration-arm'\n",
    "model_name_arm = f'house-price-estimator-arm'\n",
    "model_file_name = './models/rf_model.onnx'\n",
    "\n",
    "# ignoring warnings for demonstration\n",
    "import warnings\n",
    "warnings.filterwarnings('ignore')\n",
    "\n",
    "# used to display DataFrame information without truncating\n",
    "from IPython.display import display\n",
    "import pandas as pd\n",
    "pd.set_option('display.max_colwidth', None)"
   ]
  },
  {
   "cell_type": "markdown",
   "metadata": {},
   "source": [
    "### Connect to the Wallaroo Instance\n",
    "\n",
    "The first step is to connect to Wallaroo through the Wallaroo client.  The Python library is included in the Wallaroo install and available through the Jupyter Hub interface provided with your Wallaroo environment.\n",
    "\n",
    "This is accomplished using the `wallaroo.Client()` command, which provides a URL to grant the SDK permission to your specific Wallaroo environment.  When displayed, enter the URL into a browser and confirm permissions.  Store the connection into a variable that can be referenced later.\n",
    "\n",
    "If logging into the Wallaroo instance through the internal JupyterHub service, use `wl = wallaroo.Client()`.  For more information on Wallaroo Client settings, see the [Client Connection guide](https://docs.wallaroo.ai/wallaroo-developer-guides/wallaroo-sdk-guides/wallaroo-sdk-essentials-guide/wallaroo-sdk-essentials-client/)."
   ]
  },
  {
   "cell_type": "code",
   "execution_count": null,
   "metadata": {},
   "outputs": [],
   "source": [
    "# Login through local Wallaroo instance\n",
    "\n",
    "wl = wallaroo.Client()"
   ]
  },
  {
   "cell_type": "markdown",
   "metadata": {},
   "source": [
    "### Create Workspace\n",
    "\n",
    "We will create a workspace to manage our pipeline and models.  The following variables will set the name of our sample workspace then set it as the current workspace.\n",
    "\n",
    "Workspace, pipeline, and model names should be unique to each user, so we'll add in a randomly generated suffix so multiple people can run this tutorial in a Wallaroo instance without effecting each other."
   ]
  },
  {
   "cell_type": "code",
   "execution_count": 4,
   "metadata": {},
   "outputs": [
    {
     "data": {
      "text/plain": [
       "{'name': 'run-anywhere-house-price-architecture-demonstration-tutorial', 'id': 7, 'archived': False, 'created_by': 'e790f98c-b2a7-403c-9616-c94f31a9f234', 'created_at': '2024-04-01T15:16:26.679968+00:00', 'models': [{'name': 'house-price-estimator-arm', 'versions': 1, 'owner_id': '\"\"', 'last_update_time': datetime.datetime(2024, 4, 1, 15, 16, 27, 203702, tzinfo=tzutc()), 'created_at': datetime.datetime(2024, 4, 1, 15, 16, 27, 203702, tzinfo=tzutc())}], 'pipelines': [{'name': 'architecture-demonstration-arm', 'create_time': datetime.datetime(2024, 4, 1, 15, 16, 27, 308341, tzinfo=tzutc()), 'definition': '[]'}]}"
      ]
     },
     "execution_count": 4,
     "metadata": {},
     "output_type": "execute_result"
    }
   ],
   "source": [
    "workspace = wl.get_workspace(name=workspace_name, create_if_not_exist=True)\n",
    "\n",
    "wl.set_current_workspace(workspace)"
   ]
  },
  {
   "cell_type": "markdown",
   "metadata": {},
   "source": [
    "### Upload Models and Set ARM Target Architecture\n",
    "\n",
    "For our example, we will upload the champion model that has been trained to derive house prices from a variety of inputs.  The model file is `rf_model.onnx`, and is uploaded with the name `house-price-estimator`.\n",
    "\n",
    "Models are uploaded to Wallaroo via the [`wallaroo.client.upload_model`](https://docs.wallaroo.ai/wallaroo-developer-guides/wallaroo-sdk-guides/wallaroo-sdk-reference-guide/client/#Client.upload_model) method which takes the following arguments:\n",
    "\n",
    "| Parameter | Type | Description |\n",
    "|---|---|---|\n",
    "| **path** | *String* (*Required*) | The file path to the model. |\n",
    "| **framework** | *wallaroo.framework.Framework* (*Required*) | The model's framework.  See [Wallaroo SDK Essentials Guide: Model Uploads and Registrations](https://docs.wallaroo.ai/wallaroo-developer-guides/wallaroo-sdk-guides/wallaroo-sdk-essentials-guide/wallaroo-sdk-model-uploads/) for supported model frameworks. |\n",
    "| **input_schema** | *pyarrow.lib.Schema* (*Optional*)  | The model's input schema.  **Only required for non-Native Wallaroo frameworks.  See [Wallaroo SDK Essentials Guide: Model Uploads and Registrations](https://docs.wallaroo.ai/wallaroo-developer-guides/wallaroo-sdk-guides/wallaroo-sdk-essentials-guide/wallaroo-sdk-model-uploads/) for more details. |\n",
    "| **output_schema** | *pyarrow.lib.Schema* (*Optional*)  | The model's output schema.  **Only required for non-Native Wallaroo frameworks.  See [Wallaroo SDK Essentials Guide: Model Uploads and Registrations](https://docs.wallaroo.ai/wallaroo-developer-guides/wallaroo-sdk-guides/wallaroo-sdk-essentials-guide/wallaroo-sdk-model-uploads/) for more details. |\n",
    "| **convert_wait** | *bool* (*Optional*)  | Whether to wait in the SDK session to complete the auto-packaging process for non-native Wallaroo frameworks. |\n",
    "| **arch** | *wallaroo.engine_config.Architecture* (*Optional*)  | The targeted architecture for the model.  Options are <ol><li>`X86` (*Default*)</li><li>`ARM`</li></ol> |\n",
    "\n",
    "We upload the model and set the architecture to `ARM`."
   ]
  },
  {
   "cell_type": "code",
   "execution_count": 5,
   "metadata": {},
   "outputs": [],
   "source": [
    "housing_model_control_arm = (wl.upload_model(model_name_arm, \n",
    "                                        model_file_name, \n",
    "                                        framework=Framework.ONNX,\n",
    "                                        arch=wallaroo.engine_config.Architecture.ARM)\n",
    "                                        .configure(tensor_fields=[\"tensor\"])\n",
    "                        )"
   ]
  },
  {
   "cell_type": "code",
   "execution_count": 6,
   "metadata": {},
   "outputs": [
    {
     "data": {
      "text/html": [
       "<table>\n",
       "        <tr>\n",
       "          <td>Name</td>\n",
       "          <td>house-price-estimator-arm</td>\n",
       "        </tr>\n",
       "        <tr>\n",
       "          <td>Version</td>\n",
       "          <td>23d65519-03dc-4c79-8163-03f41b05343b</td>\n",
       "        </tr>\n",
       "        <tr>\n",
       "          <td>File Name</td>\n",
       "          <td>rf_model.onnx</td>\n",
       "        </tr>\n",
       "        <tr>\n",
       "          <td>SHA</td>\n",
       "          <td>e22a0831aafd9917f3cc87a15ed267797f80e2afa12ad7d8810ca58f173b8cc6</td>\n",
       "        </tr>\n",
       "        <tr>\n",
       "          <td>Status</td>\n",
       "          <td>ready</td>\n",
       "        </tr>\n",
       "        <tr>\n",
       "          <td>Image Path</td>\n",
       "          <td>None</td>\n",
       "        </tr>\n",
       "        <tr>\n",
       "          <td>Architecture</td>\n",
       "          <td>arm</td>\n",
       "        </tr>\n",
       "        <tr>\n",
       "          <td>Acceleration</td>\n",
       "          <td>none</td>\n",
       "        </tr>\n",
       "        <tr>\n",
       "          <td>Updated At</td>\n",
       "          <td>2024-01-Apr 15:51:03</td>\n",
       "        </tr>\n",
       "      </table>"
      ],
      "text/plain": [
       "{'name': 'house-price-estimator-arm', 'version': '23d65519-03dc-4c79-8163-03f41b05343b', 'file_name': 'rf_model.onnx', 'image_path': None, 'arch': 'arm', 'accel': 'none', 'last_update_time': datetime.datetime(2024, 4, 1, 15, 51, 3, 573195, tzinfo=tzutc())}"
      ]
     },
     "metadata": {},
     "output_type": "display_data"
    }
   ],
   "source": [
    "display(housing_model_control_arm)"
   ]
  },
  {
   "cell_type": "markdown",
   "metadata": {},
   "source": [
    "### Build Pipeline\n",
    "\n",
    "We build the pipeline with the `wallaroo.client.build_pipeline(pipeline_name` command, and set the model as a model step in the pipeline."
   ]
  },
  {
   "cell_type": "code",
   "execution_count": 9,
   "metadata": {},
   "outputs": [
    {
     "data": {
      "text/html": [
       "<table><tr><th>name</th> <td>architecture-demonstration-arm</td></tr><tr><th>created</th> <td>2024-04-01 15:16:27.308341+00:00</td></tr><tr><th>last_updated</th> <td>2024-04-01 15:52:57.907820+00:00</td></tr><tr><th>deployed</th> <td>False</td></tr><tr><th>arch</th> <td>arm</td></tr><tr><th>accel</th> <td>none</td></tr><tr><th>tags</th> <td></td></tr><tr><th>versions</th> <td>a54a8a2d-cde2-4aef-a071-03f58d9b1b65, 15834c62-ffb2-4278-b915-3bb2fbf9aff6, f03a0237-eec9-4fab-9a79-1526cc8088c2, ba4504e4-ff8f-46c6-9dc7-bf5b58da573e</td></tr><tr><th>steps</th> <td>house-price-estimator-arm</td></tr><tr><th>published</th> <td>False</td></tr></table>"
      ],
      "text/plain": [
       "{'name': 'architecture-demonstration-arm', 'create_time': datetime.datetime(2024, 4, 1, 15, 16, 27, 308341, tzinfo=tzutc()), 'definition': \"[{'ModelInference': {'models': [{'name': 'house-price-estimator-arm', 'version': '23d65519-03dc-4c79-8163-03f41b05343b', 'sha': 'e22a0831aafd9917f3cc87a15ed267797f80e2afa12ad7d8810ca58f173b8cc6'}]}}]\"}"
      ]
     },
     "execution_count": 9,
     "metadata": {},
     "output_type": "execute_result"
    }
   ],
   "source": [
    "pipeline_arm = wl.build_pipeline('architecture-demonstration-arm')\n",
    "pipeline_arm.add_model_step(housing_model_control_arm)"
   ]
  },
  {
   "cell_type": "markdown",
   "metadata": {},
   "source": [
    "### Deploy Pipeline\n",
    "\n",
    "We can now deploy the pipeline.  The pipeline deployment inherits the model's architecture, so for our deployment configuration we can specify just the cpus and memory we want to use."
   ]
  },
  {
   "cell_type": "code",
   "execution_count": null,
   "metadata": {},
   "outputs": [],
   "source": [
    "#minimum deployment config\n",
    "deploy_config = wallaroo.DeploymentConfigBuilder().replica_count(1).cpus(0.5).memory(\"1Gi\").build()\n",
    "\n",
    "pipeline_arm.deploy(deployment_config = deploy_config)"
   ]
  },
  {
   "cell_type": "markdown",
   "metadata": {},
   "source": [
    "### Sample Inference\n",
    "\n",
    "Once the pipeline is deployed, we will perform a set of sample inferences, then undeploy the pipeline to return the resources back to the cluster."
   ]
  },
  {
   "cell_type": "code",
   "execution_count": null,
   "metadata": {},
   "outputs": [],
   "source": [
    "result = arm_pipeline.infer_from_file('./data/normal-inputs.df.json')\n",
    "display(result.head(20))"
   ]
  },
  {
   "cell_type": "code",
   "execution_count": null,
   "metadata": {},
   "outputs": [],
   "source": [
    "arm_pipeline.undeploy()"
   ]
  },
  {
   "cell_type": "markdown",
   "metadata": {},
   "source": [
    "## Pipeline Publish for ARM Architecture via the Wallaroo SDK\n",
    "\n",
    "We now publish our pipeline as two different versions.\n",
    "\n",
    "* `ARM`:  The model's architecture was set to `ARM`, when when we publish the pipeline to the OCI registry, it will automatically inherit that architecture.\n",
    "* `X64`:  We **override** the model's architecture to push a published version that can be deployed on `X64` based devices."
   ]
  },
  {
   "cell_type": "markdown",
   "metadata": {},
   "source": [
    "### Publish Pipeline for ARM\n",
    "\n",
    "Publishing the pipeline uses the pipeline `wallaroo.pipeline.Pipeline.publish()` command.  This requires that the Wallaroo Ops instance have [Edge Registry Services](https://docs.wallaroo.ai/wallaroo-operations-guide/wallaroo-configuration/wallaroo-edge-deployment/#enable-wallaroo-edge-deployment-registry) enabled.\n",
    "\n",
    "When publishing, we specify the pipeline deployment configuration through the `wallaroo.DeploymentConfigBuilder` and specify the accelerator as `wallaroo.engine_config.Architecture.ARM`.\n",
    "\n",
    "The following publishes the pipeline to the OCI registry and displays the container details.  For more information, see [Wallaroo SDK Essentials Guide: Pipeline Edge Publication](https://docs.wallaroo.ai/wallaroo-developer-guides/wallaroo-sdk-guides/wallaroo-sdk-essentials-guide/wallaroo-sdk-essentials-pipelines/wallaroo-sdk-essentials-pipeline-publication/)."
   ]
  },
  {
   "cell_type": "code",
   "execution_count": 11,
   "metadata": {},
   "outputs": [
    {
     "name": "stdout",
     "output_type": "stream",
     "text": [
      "Waiting for pipeline publish... It may take up to 600 sec.\n",
      "Pipeline is publishing....... Published.\n"
     ]
    },
    {
     "data": {
      "text/html": [
       "\n",
       "          <table>\n",
       "              <tr><td>ID</td><td>3</td></tr>\n",
       "              <tr><td>Pipeline Name</td><td>architecture-demonstration-arm</td></tr>\n",
       "              <tr><td>Pipeline Version</td><td>6fa63751-c97b-4f6f-90f5-78566cd22170</td></tr>\n",
       "              <tr><td>Status</td><td>Published</td></tr>\n",
       "              <tr><td>Engine URL</td><td><a href='https://ghcr.io/wallaroolabs/doc-samples/engines/proxy/wallaroo/ghcr.io/wallaroolabs/fitzroy-mini-aarch64:v2024.1.0-main-4833'>ghcr.io/wallaroolabs/doc-samples/engines/proxy/wallaroo/ghcr.io/wallaroolabs/fitzroy-mini-aarch64:v2024.1.0-main-4833</a></td></tr>\n",
       "              <tr><td>Pipeline URL</td><td><a href='https://ghcr.io/wallaroolabs/doc-samples/pipelines/architecture-demonstration-arm:6fa63751-c97b-4f6f-90f5-78566cd22170'>ghcr.io/wallaroolabs/doc-samples/pipelines/architecture-demonstration-arm:6fa63751-c97b-4f6f-90f5-78566cd22170</a></td></tr>\n",
       "              <tr><td>Helm Chart URL</td><td>oci://<a href='https://ghcr.io/wallaroolabs/doc-samples/charts/architecture-demonstration-arm'>ghcr.io/wallaroolabs/doc-samples/charts/architecture-demonstration-arm</a></td></tr>\n",
       "              <tr><td>Helm Chart Reference</td><td>ghcr.io/wallaroolabs/doc-samples/charts@sha256:ca931da2bfaef460c8b48ab0ffb2d3a9647a19a1f31014cac185899128589183</td></tr>\n",
       "              <tr><td>Helm Chart Version</td><td>0.0.1-6fa63751-c97b-4f6f-90f5-78566cd22170</td></tr>\n",
       "              <tr><td>Engine Config</td><td>{'engine': {'resources': {'limits': {'cpu': 1.0, 'memory': '512Mi'}, 'requests': {'cpu': 1.0, 'memory': '512Mi'}, 'accel': 'none', 'arch': 'arm', 'gpu': False}}, 'engineAux': {'autoscale': {'type': 'none'}, 'images': {}}, 'enginelb': {'resources': {'limits': {'cpu': 1.0, 'memory': '512Mi'}, 'requests': {'cpu': 1.0, 'memory': '512Mi'}, 'accel': 'none', 'arch': 'x86', 'gpu': False}}}</td></tr>\n",
       "              <tr><td>User Images</td><td>[]</td></tr>\n",
       "              <tr><td>Created By</td><td>john.hummel@wallaroo.ai</td></tr>\n",
       "              <tr><td>Created At</td><td>2024-04-01 15:55:02.156926+00:00</td></tr>\n",
       "              <tr><td>Updated At</td><td>2024-04-01 15:55:02.156926+00:00</td></tr>\n",
       "              <tr><td>Replaces</td><td></td></tr>\n",
       "              <tr>\n",
       "                  <td>Docker Run Command</td>\n",
       "                  <td>\n",
       "                      <table><tr><td>\n",
       "<pre style=\"text-align: left\">docker run \\\n",
       "    -e OCI_USERNAME=$OCI_USERNAME \\\n",
       "    -e OCI_PASSWORD=$OCI_PASSWORD \\\n",
       "    -e PIPELINE_URL=ghcr.io/wallaroolabs/doc-samples/pipelines/architecture-demonstration-arm:6fa63751-c97b-4f6f-90f5-78566cd22170 \\\n",
       "    -e CONFIG_CPUS=1 ghcr.io/wallaroolabs/doc-samples/engines/proxy/wallaroo/ghcr.io/wallaroolabs/fitzroy-mini-aarch64:v2024.1.0-main-4833</pre></td></tr></table>\n",
       "                      <br />\n",
       "                      <i>\n",
       "                          Note: Please set the <code>OCI_USERNAME</code>, and <code>OCI_PASSWORD</code> environment variables.\n",
       "                      </i>\n",
       "                  </td>\n",
       "              </tr>\n",
       "              <tr>\n",
       "                  <td>Helm Install Command</td>\n",
       "                  <td>\n",
       "                      <table><tr><td>\n",
       "<pre style=\"text-align: left\">helm install --atomic $HELM_INSTALL_NAME \\\n",
       "    oci://ghcr.io/wallaroolabs/doc-samples/charts/architecture-demonstration-arm \\\n",
       "    --namespace $HELM_INSTALL_NAMESPACE \\\n",
       "    --version 0.0.1-6fa63751-c97b-4f6f-90f5-78566cd22170 \\\n",
       "    --set ociRegistry.username=$OCI_USERNAME \\\n",
       "    --set ociRegistry.password=$OCI_PASSWORD</pre></td></tr></table>\n",
       "                      <br />\n",
       "                      <i>\n",
       "                          Note: Please set the <code>HELM_INSTALL_NAME</code>, <code>HELM_INSTALL_NAMESPACE</code>,\n",
       "                          <code>OCI_USERNAME</code>, and <code>OCI_PASSWORD</code> environment variables.\n",
       "                      </i>\n",
       "                  </td>\n",
       "              </tr>\n",
       "              \n",
       "          </table>\n",
       "        "
      ],
      "text/plain": [
       "PipelinePublish(created_at=datetime.datetime(2024, 4, 1, 15, 55, 2, 156926, tzinfo=tzutc()), docker_run_variables={'PIPELINE_URL': 'ghcr.io/wallaroolabs/doc-samples/pipelines/architecture-demonstration-arm:6fa63751-c97b-4f6f-90f5-78566cd22170'}, engine_config={'engine': {'resources': {'limits': {'cpu': 1.0, 'memory': '512Mi'}, 'requests': {'cpu': 1.0, 'memory': '512Mi'}, 'accel': 'none', 'arch': 'arm', 'gpu': False}}, 'engineAux': {'autoscale': {'type': 'none'}, 'images': {}}, 'enginelb': {'resources': {'limits': {'cpu': 1.0, 'memory': '512Mi'}, 'requests': {'cpu': 1.0, 'memory': '512Mi'}, 'accel': 'none', 'arch': 'x86', 'gpu': False}}}, id=3, pipeline_name='architecture-demonstration-arm', pipeline_version_id=9, replaces=[], status='Published', updated_at=datetime.datetime(2024, 4, 1, 15, 55, 2, 156926, tzinfo=tzutc()), user_images=[], created_by='e790f98c-b2a7-403c-9616-c94f31a9f234', created_on_version='2024.1.0', edge_bundles=<wallaroo.wallaroo_ml_ops_api_client.types.Unset object at 0x7ca483adcc10>, engine_url='ghcr.io/wallaroolabs/doc-samples/engines/proxy/wallaroo/ghcr.io/wallaroolabs/fitzroy-mini-aarch64:v2024.1.0-main-4833', error=None, helm={'reference': 'ghcr.io/wallaroolabs/doc-samples/charts@sha256:ca931da2bfaef460c8b48ab0ffb2d3a9647a19a1f31014cac185899128589183', 'values': {}, 'chart': 'ghcr.io/wallaroolabs/doc-samples/charts/architecture-demonstration-arm', 'version': '0.0.1-6fa63751-c97b-4f6f-90f5-78566cd22170'}, pipeline_url='ghcr.io/wallaroolabs/doc-samples/pipelines/architecture-demonstration-arm:6fa63751-c97b-4f6f-90f5-78566cd22170', pipeline_version_name='6fa63751-c97b-4f6f-90f5-78566cd22170', additional_properties={})"
      ]
     },
     "execution_count": 11,
     "metadata": {},
     "output_type": "execute_result"
    }
   ],
   "source": [
    "deploy_config_arm = (wallaroo.DeploymentConfigBuilder()\n",
    "                     .replica_count(1)\n",
    "                     .cpus(1)\n",
    "                     .memory(\"1Gi\")\n",
    "                     .arch(wallaroo.engine_config.Architecture.ARM)\n",
    "                     .build()\n",
    "                    )\n",
    "assay_pub_arm = pipeline_arm.publish(deployment_config=deploy_config_arm)\n",
    "assay_pub_arm"
   ]
  },
  {
   "cell_type": "markdown",
   "metadata": {},
   "source": [
    "### Publish Pipeline for X86\n",
    "\n",
    "We will publish the pipeline again, this time by overriding the deployment architecture and setting it to `ARM`.  Note the changes to the Engine URL, and the `Docker Run Command` and `Helm Install Commands` that reflect the changes.\n",
    "\n",
    "We change the deployment architecture with the `wallaroo.DeploymentConfigBuilder` object, changing the `arch` setting to `X86`."
   ]
  },
  {
   "cell_type": "code",
   "execution_count": 12,
   "metadata": {},
   "outputs": [
    {
     "name": "stdout",
     "output_type": "stream",
     "text": [
      "Waiting for pipeline publish... It may take up to 600 sec.\n",
      "Pipeline is publishing....... Published.\n"
     ]
    },
    {
     "data": {
      "text/html": [
       "\n",
       "          <table>\n",
       "              <tr><td>ID</td><td>4</td></tr>\n",
       "              <tr><td>Pipeline Name</td><td>architecture-demonstration-arm</td></tr>\n",
       "              <tr><td>Pipeline Version</td><td>46e69342-ce3b-4341-b4fd-699e648f45cd</td></tr>\n",
       "              <tr><td>Status</td><td>Published</td></tr>\n",
       "              <tr><td>Engine URL</td><td><a href='https://ghcr.io/wallaroolabs/doc-samples/engines/proxy/wallaroo/ghcr.io/wallaroolabs/fitzroy-mini:v2024.1.0-main-4833'>ghcr.io/wallaroolabs/doc-samples/engines/proxy/wallaroo/ghcr.io/wallaroolabs/fitzroy-mini:v2024.1.0-main-4833</a></td></tr>\n",
       "              <tr><td>Pipeline URL</td><td><a href='https://ghcr.io/wallaroolabs/doc-samples/pipelines/architecture-demonstration-arm:46e69342-ce3b-4341-b4fd-699e648f45cd'>ghcr.io/wallaroolabs/doc-samples/pipelines/architecture-demonstration-arm:46e69342-ce3b-4341-b4fd-699e648f45cd</a></td></tr>\n",
       "              <tr><td>Helm Chart URL</td><td>oci://<a href='https://ghcr.io/wallaroolabs/doc-samples/charts/architecture-demonstration-arm'>ghcr.io/wallaroolabs/doc-samples/charts/architecture-demonstration-arm</a></td></tr>\n",
       "              <tr><td>Helm Chart Reference</td><td>ghcr.io/wallaroolabs/doc-samples/charts@sha256:35aa8afe037111f9795ec4ad779ccefa1c86d74f0935a1ab3747b7983d44e730</td></tr>\n",
       "              <tr><td>Helm Chart Version</td><td>0.0.1-46e69342-ce3b-4341-b4fd-699e648f45cd</td></tr>\n",
       "              <tr><td>Engine Config</td><td>{'engine': {'resources': {'limits': {'cpu': 1.0, 'memory': '512Mi'}, 'requests': {'cpu': 1.0, 'memory': '512Mi'}, 'accel': 'none', 'arch': 'x86', 'gpu': False}}, 'engineAux': {'autoscale': {'type': 'none'}, 'images': {}}, 'enginelb': {'resources': {'limits': {'cpu': 1.0, 'memory': '512Mi'}, 'requests': {'cpu': 1.0, 'memory': '512Mi'}, 'accel': 'none', 'arch': 'x86', 'gpu': False}}}</td></tr>\n",
       "              <tr><td>User Images</td><td>[]</td></tr>\n",
       "              <tr><td>Created By</td><td>john.hummel@wallaroo.ai</td></tr>\n",
       "              <tr><td>Created At</td><td>2024-04-01 15:55:32.582244+00:00</td></tr>\n",
       "              <tr><td>Updated At</td><td>2024-04-01 15:55:32.582244+00:00</td></tr>\n",
       "              <tr><td>Replaces</td><td></td></tr>\n",
       "              <tr>\n",
       "                  <td>Docker Run Command</td>\n",
       "                  <td>\n",
       "                      <table><tr><td>\n",
       "<pre style=\"text-align: left\">docker run \\\n",
       "    -e OCI_USERNAME=$OCI_USERNAME \\\n",
       "    -e OCI_PASSWORD=$OCI_PASSWORD \\\n",
       "    -e PIPELINE_URL=ghcr.io/wallaroolabs/doc-samples/pipelines/architecture-demonstration-arm:46e69342-ce3b-4341-b4fd-699e648f45cd \\\n",
       "    -e CONFIG_CPUS=1 ghcr.io/wallaroolabs/doc-samples/engines/proxy/wallaroo/ghcr.io/wallaroolabs/fitzroy-mini:v2024.1.0-main-4833</pre></td></tr></table>\n",
       "                      <br />\n",
       "                      <i>\n",
       "                          Note: Please set the <code>OCI_USERNAME</code>, and <code>OCI_PASSWORD</code> environment variables.\n",
       "                      </i>\n",
       "                  </td>\n",
       "              </tr>\n",
       "              <tr>\n",
       "                  <td>Helm Install Command</td>\n",
       "                  <td>\n",
       "                      <table><tr><td>\n",
       "<pre style=\"text-align: left\">helm install --atomic $HELM_INSTALL_NAME \\\n",
       "    oci://ghcr.io/wallaroolabs/doc-samples/charts/architecture-demonstration-arm \\\n",
       "    --namespace $HELM_INSTALL_NAMESPACE \\\n",
       "    --version 0.0.1-46e69342-ce3b-4341-b4fd-699e648f45cd \\\n",
       "    --set ociRegistry.username=$OCI_USERNAME \\\n",
       "    --set ociRegistry.password=$OCI_PASSWORD</pre></td></tr></table>\n",
       "                      <br />\n",
       "                      <i>\n",
       "                          Note: Please set the <code>HELM_INSTALL_NAME</code>, <code>HELM_INSTALL_NAMESPACE</code>,\n",
       "                          <code>OCI_USERNAME</code>, and <code>OCI_PASSWORD</code> environment variables.\n",
       "                      </i>\n",
       "                  </td>\n",
       "              </tr>\n",
       "              \n",
       "          </table>\n",
       "        "
      ],
      "text/plain": [
       "PipelinePublish(created_at=datetime.datetime(2024, 4, 1, 15, 55, 32, 582244, tzinfo=tzutc()), docker_run_variables={'PIPELINE_URL': 'ghcr.io/wallaroolabs/doc-samples/pipelines/architecture-demonstration-arm:46e69342-ce3b-4341-b4fd-699e648f45cd'}, engine_config={'engine': {'resources': {'limits': {'cpu': 1.0, 'memory': '512Mi'}, 'requests': {'cpu': 1.0, 'memory': '512Mi'}, 'accel': 'none', 'arch': 'x86', 'gpu': False}}, 'engineAux': {'autoscale': {'type': 'none'}, 'images': {}}, 'enginelb': {'resources': {'limits': {'cpu': 1.0, 'memory': '512Mi'}, 'requests': {'cpu': 1.0, 'memory': '512Mi'}, 'accel': 'none', 'arch': 'x86', 'gpu': False}}}, id=4, pipeline_name='architecture-demonstration-arm', pipeline_version_id=10, replaces=[], status='Published', updated_at=datetime.datetime(2024, 4, 1, 15, 55, 32, 582244, tzinfo=tzutc()), user_images=[], created_by='e790f98c-b2a7-403c-9616-c94f31a9f234', created_on_version='2024.1.0', edge_bundles=<wallaroo.wallaroo_ml_ops_api_client.types.Unset object at 0x7ca483adcc10>, engine_url='ghcr.io/wallaroolabs/doc-samples/engines/proxy/wallaroo/ghcr.io/wallaroolabs/fitzroy-mini:v2024.1.0-main-4833', error=None, helm={'reference': 'ghcr.io/wallaroolabs/doc-samples/charts@sha256:35aa8afe037111f9795ec4ad779ccefa1c86d74f0935a1ab3747b7983d44e730', 'values': {}, 'chart': 'ghcr.io/wallaroolabs/doc-samples/charts/architecture-demonstration-arm', 'version': '0.0.1-46e69342-ce3b-4341-b4fd-699e648f45cd'}, pipeline_url='ghcr.io/wallaroolabs/doc-samples/pipelines/architecture-demonstration-arm:46e69342-ce3b-4341-b4fd-699e648f45cd', pipeline_version_name='46e69342-ce3b-4341-b4fd-699e648f45cd', additional_properties={})"
      ]
     },
     "execution_count": 12,
     "metadata": {},
     "output_type": "execute_result"
    }
   ],
   "source": [
    "deploy_config_x86 = (wallaroo.DeploymentConfigBuilder()\n",
    "                     .replica_count(1)\n",
    "                     .cpus(1)\n",
    "                     .memory(\"1Gi\")\n",
    "                     .arch(wallaroo.engine_config.Architecture.X86)\n",
    "                     .build()\n",
    "                    )\n",
    "assay_pub_x86 = pipeline_arm.publish(deployment_config = deploy_config_x86)\n",
    "assay_pub_x86"
   ]
  },
  {
   "cell_type": "markdown",
   "metadata": {},
   "source": [
    "For details on performing inference requests through an edge deployed model, see [Edge Deployment Endpoints](https://staging.docs.wallaroo.ai/wallaroo-model-operations/wallaroo-model-operations-run-anywhere/wallaroo-model-operations-run-anywhere-deploy/#edge-deployment-endpoints)."
   ]
  }
 ],
 "metadata": {
  "kernelspec": {
   "display_name": "Python 3 (ipykernel)",
   "language": "python",
   "name": "python3"
  },
  "language_info": {
   "codemirror_mode": {
    "name": "ipython",
    "version": 3
   },
   "file_extension": ".py",
   "mimetype": "text/x-python",
   "name": "python",
   "nbconvert_exporter": "python",
   "pygments_lexer": "ipython3",
   "version": "3.9.18"
  },
  "vscode": {
   "interpreter": {
    "hash": "7dda4bf3640b7fafcd1648658b879b4cc9f6ba6084e8fb356fdaaa1a461d1690"
   }
  }
 },
 "nbformat": 4,
 "nbformat_minor": 4
}
