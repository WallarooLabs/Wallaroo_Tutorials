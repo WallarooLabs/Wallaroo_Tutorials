{
 "cells": [
  {
   "cell_type": "markdown",
   "metadata": {},
   "source": [
    "This tutorial and the assets can be downloaded as part of the [Wallaroo Tutorials repository](https://github.com/WallarooLabs/Wallaroo_Tutorials/blob/wallaroo2024.1_tutorials/wallaroo-run-anywhere/edge-architecture-publish-linear-regression-houseprice-model).\n",
    "\n",
    "## Run Anywhere for ARM Architecture Tutorial: Hugging Face Summarization Model\n",
    "\n",
    "Wallaroo Run Anywhere provides model deployment in any device, any cloud, and any architecture.  Models uploaded to Wallaroo are set to their targeted architecture.\n",
    "\n",
    "Organizations can deploy uploaded models to clusters that have nodes with the provisioned architecture.  The following architectures are supported:\n",
    "\n",
    "* `X86`:  The standard X86 architecture.\n",
    "* `ARM`:  For more details on cloud providers and their ARM offerings, see [Create ARM Nodepools for Kubernetes Clusters](https://staging.docs.wallaroo.ai/wallaroo-platform-operations/wallaroo-platform-operations-install/wallaroo-install-enterprise-environment/wallaroo-arm-nodepools/).\n",
    "\n",
    "### Model Architecture Inheritance\n",
    "\n",
    "The model's deployment configuration inherits its architecture.  Models automatically deploy in the target architecture provided nodepools with the architecture are available.  For information on setting up nodepools with specific architectures, see [Infrastructure Configuration Guides](https://staging.docs.wallaroo.ai/wallaroo-platform-operations/wallaroo-platform-operations-install/wallaroo-install-enterprise-environment/).\n",
    "\n",
    "That deployment configuration is carried over to the models' publication in an Open Container Initiative (OCI) Registries, which allows edge model deployments on `X64` and `ARM` architectures.  More details on deploying models on edge devices is available with the [Wallaroo Run Anywhere Guides](https://staging.docs.wallaroo.ai/wallaroo-model-operations/wallaroo-model-operations-run-anywhere/).\n",
    "\n",
    "The deployment configuration **can** be overridden for either model deployment in the Wallaroo Ops instance, or in the Edge devices.\n",
    "\n",
    "This tutorial demonstrates deploying a ML model trained to predict house prices to ARM edge locations through the following steps.\n",
    "\n",
    "* Upload a model with the architecture set to `ARM`.\n",
    "* Create a pipeline with the uploaded model as a model step.\n",
    "* Publish the pipeline model to an Open Container Initiative (OCI) Registry for both X64 and ARM deployments.\n",
    "\n",
    "In this notebook, we use a ONNX model pre-trained to predict house prices for our examples.\n",
    "\n",
    "## Goal\n",
    "\n",
    "Demonstrate publishing a pipeline with model steps to various architectures.\n",
    "\n",
    "### Resources\n",
    "\n",
    "This tutorial provides the following:\n",
    "\n",
    "* Models:\n",
    "  * `models/model-auto-conversion_hugging-face_complex-pipelines_hf-summarisation-bart-large-samsun.zip`: **This model should be downloaded and placed into the `./models` folder before beginning this demonstration.** [model-auto-conversion_hugging-face_complex-pipelines_hf-summarisation-bart-large-samsun.zip (1.4 GB)](https://storage.googleapis.com/wallaroo-public-data/llm-models/model-auto-conversion_hugging-face_complex-pipelines_hf-summarisation-bart-large-samsun.zip)\n",
    "\n",
    "### Prerequisites\n",
    "\n",
    "* A deployed Wallaroo instance with [Edge Registry Services](https://docs.wallaroo.ai/wallaroo-operations-guide/wallaroo-configuration/wallaroo-edge-deployment/#enable-wallaroo-edge-deployment-registry) and [Edge Observability enabled](https://docs.wallaroo.ai/wallaroo-operations-guide/wallaroo-configuration/wallaroo-edge-deployment/#set-edge-observability-service).\n",
    "* The following Python libraries installed:\n",
    "  * [`wallaroo`](https://pypi.org/project/wallaroo/): The Wallaroo SDK. Included with the Wallaroo JupyterHub service by default.\n",
    "  * [`pandas`](https://pypi.org/project/pandas/): Pandas, mainly used for Pandas DataFrame\n",
    "  * `json`: Used for format input data for inference requests.\n",
    "* A X64 Docker deployment to deploy the model on an edge location.\n"
   ]
  },
  {
   "cell_type": "markdown",
   "metadata": {},
   "source": [
    "## Steps\n",
    "\n",
    "* Upload the model with the targeted architecture set to `ARM`.\n",
    "* Create the pipeline add the model as a model step.\n",
    "* Deploy the model in the targeted architecture and perform sample inferences.\n",
    "* Publish the pipeline an OCI registry.\n",
    "* Deploy the model from the pipeline publish to the edge deployment with ARM architecture.\n",
    "* Perform sample inferences on the ARM edge model deployment.\n",
    "\n",
    "### Import Libraries\n",
    "\n",
    "The first step will be to import our libraries, and set variables used through this tutorial."
   ]
  },
  {
   "cell_type": "code",
   "execution_count": 1,
   "metadata": {},
   "outputs": [],
   "source": [
    "import wallaroo\n",
    "from wallaroo.object import EntityNotFoundError\n",
    "from wallaroo.framework import Framework\n",
    "from wallaroo.engine_config import Architecture\n",
    "import pyarrow as pa\n",
    "\n",
    "from IPython.display import display\n",
    "\n",
    "# used to display DataFrame information without truncating\n",
    "from IPython.display import display\n",
    "import pandas as pd\n",
    "pd.set_option('display.max_colwidth', None)\n",
    "\n",
    "import datetime\n",
    "import time\n",
    "\n",
    "workspace_name = f'run-anywhere-architecture-hf-summarizer-demonstration-tutorial'\n",
    "arm_pipeline_name = f'architecture-demonstration-arm'\n",
    "model_name_arm = f'hf-summarizer-arm'\n",
    "model_file_name = './models/hf_summarization.zip'\n",
    "\n",
    "# ignoring warnings for demonstration\n",
    "import warnings\n",
    "warnings.filterwarnings('ignore')\n",
    "\n",
    "# used to display DataFrame information without truncating\n",
    "from IPython.display import display\n",
    "import pandas as pd\n",
    "pd.set_option('display.max_colwidth', None)"
   ]
  },
  {
   "cell_type": "markdown",
   "metadata": {},
   "source": [
    "### Connect to the Wallaroo Instance\n",
    "\n",
    "The first step is to connect to Wallaroo through the Wallaroo client.  The Python library is included in the Wallaroo install and available through the Jupyter Hub interface provided with your Wallaroo environment.\n",
    "\n",
    "This is accomplished using the `wallaroo.Client()` command, which provides a URL to grant the SDK permission to your specific Wallaroo environment.  When displayed, enter the URL into a browser and confirm permissions.  Store the connection into a variable that can be referenced later.\n",
    "\n",
    "If logging into the Wallaroo instance through the internal JupyterHub service, use `wl = wallaroo.Client()`.  For more information on Wallaroo Client settings, see the [Client Connection guide](https://docs.wallaroo.ai/wallaroo-developer-guides/wallaroo-sdk-guides/wallaroo-sdk-essentials-guide/wallaroo-sdk-essentials-client/)."
   ]
  },
  {
   "cell_type": "code",
   "execution_count": 4,
   "metadata": {},
   "outputs": [],
   "source": [
    "# Login through local Wallaroo instance\n",
    "\n",
    "wl = wallaroo.Client()"
   ]
  },
  {
   "cell_type": "markdown",
   "metadata": {},
   "source": [
    "### Create Workspace\n",
    "\n",
    "We will create a workspace to manage our pipeline and models.  The following variables will set the name of our sample workspace then set it as the current workspace.\n",
    "\n",
    "Workspace, pipeline, and model names should be unique to each user, so we'll add in a randomly generated suffix so multiple people can run this tutorial in a Wallaroo instance without effecting each other."
   ]
  },
  {
   "cell_type": "code",
   "execution_count": 5,
   "metadata": {},
   "outputs": [
    {
     "data": {
      "text/plain": [
       "{'name': 'run-anywhere-architecture-hf-summarizer-demonstration-tutorial', 'id': 64, 'archived': False, 'created_by': 'b4a9aa3d-83fc-407a-b4eb-37796e96f1ef', 'created_at': '2024-03-05T16:09:41.98492+00:00', 'models': [{'name': 'house-price-estimator-arm', 'versions': 1, 'owner_id': '\"\"', 'last_update_time': datetime.datetime(2024, 3, 5, 16, 12, 11, 996618, tzinfo=tzutc()), 'created_at': datetime.datetime(2024, 3, 5, 16, 12, 11, 996618, tzinfo=tzutc())}, {'name': 'hf-summarizer-arm', 'versions': 1, 'owner_id': '\"\"', 'last_update_time': datetime.datetime(2024, 4, 1, 18, 12, 40, 404327, tzinfo=tzutc()), 'created_at': datetime.datetime(2024, 4, 1, 18, 12, 40, 404327, tzinfo=tzutc())}], 'pipelines': [{'name': 'architecture-demonstration-arm', 'create_time': datetime.datetime(2024, 3, 5, 16, 18, 38, 768602, tzinfo=tzutc()), 'definition': '[]'}]}"
      ]
     },
     "execution_count": 5,
     "metadata": {},
     "output_type": "execute_result"
    }
   ],
   "source": [
    "workspace = wl.get_workspace(name=workspace_name, create_if_not_exist=True)\n",
    "\n",
    "wl.set_current_workspace(workspace)"
   ]
  },
  {
   "cell_type": "markdown",
   "metadata": {},
   "source": [
    "### Upload Models and Set Target Architecture to ARM\n",
    "\n",
    "For our example, we will upload the Hugging Face Summarizer model.  The model file is `llm-models/model-auto-conversion_hugging-face_complex-pipelines_hf-summarisation-bart-large-samsun.zip`, and is uploaded with the name `hf-summarizer-arm`.\n",
    "\n",
    "Models are uploaded to Wallaroo via the [`wallaroo.client.upload_model`](https://docs.wallaroo.ai/wallaroo-developer-guides/wallaroo-sdk-guides/wallaroo-sdk-reference-guide/client/#Client.upload_model) method which takes the following arguments:\n",
    "\n",
    "| Parameter | Type | Description |\n",
    "|---|---|---|\n",
    "| **path** | *String* (*Required*) | The file path to the model. |\n",
    "| **framework** | *wallaroo.framework.Framework* (*Required*) | The model's framework.  See [Wallaroo SDK Essentials Guide: Model Uploads and Registrations](https://docs.wallaroo.ai/wallaroo-developer-guides/wallaroo-sdk-guides/wallaroo-sdk-essentials-guide/wallaroo-sdk-model-uploads/) for supported model frameworks. |\n",
    "| **input_schema** | *pyarrow.lib.Schema* (*Optional*)  | The model's input schema.  **Only required for non-Native Wallaroo frameworks.  See [Wallaroo SDK Essentials Guide: Model Uploads and Registrations](https://docs.wallaroo.ai/wallaroo-developer-guides/wallaroo-sdk-guides/wallaroo-sdk-essentials-guide/wallaroo-sdk-model-uploads/) for more details. |\n",
    "| **output_schema** | *pyarrow.lib.Schema* (*Optional*)  | The model's output schema.  **Only required for non-Native Wallaroo frameworks.  See [Wallaroo SDK Essentials Guide: Model Uploads and Registrations](https://docs.wallaroo.ai/wallaroo-developer-guides/wallaroo-sdk-guides/wallaroo-sdk-essentials-guide/wallaroo-sdk-model-uploads/) for more details. |\n",
    "| **convert_wait** | *bool* (*Optional*)  | Whether to wait in the SDK session to complete the auto-packaging process for non-native Wallaroo frameworks. |\n",
    "| **arch** | *wallaroo.engine_config.Architecture* (*Optional*)  | The targeted architecture for the model.  Options are <ol><li>`X86` (*Default*)</li><li>`ARM`</li></ol> |\n",
    "\n",
    "Verify the ML model is downloaded from [model-auto-conversion_hugging-face_complex-pipelines_hf-summarisation-bart-large-samsun.zip (1.4 GB)](https://storage.googleapis.com/wallaroo-public-data/llm-models/model-auto-conversion_hugging-face_complex-pipelines_hf-summarisation-bart-large-samsun.zip) and placed into the `./models` directory."
   ]
  },
  {
   "cell_type": "code",
   "execution_count": 7,
   "metadata": {},
   "outputs": [
    {
     "name": "stdout",
     "output_type": "stream",
     "text": [
      "Waiting for model loading - this will take up to 10.0min.\n",
      "Model is pending loading to a container runtime..\n",
      "Model is attempting loading to a container runtime......................successful\n",
      "\n",
      "Ready\n"
     ]
    }
   ],
   "source": [
    "input_schema = pa.schema([\n",
    "    pa.field('inputs', pa.string()),\n",
    "    pa.field('return_text', pa.bool_()),\n",
    "    pa.field('return_tensors', pa.bool_()),\n",
    "    pa.field('clean_up_tokenization_spaces', pa.bool_()),\n",
    "    # pa.field('generate_kwargs', pa.map_(pa.string(), pa.null())), # dictionaries are not currently supported by the engine\n",
    "])\n",
    "\n",
    "output_schema = pa.schema([\n",
    "    pa.field('summary_text', pa.string()),\n",
    "])\n",
    "\n",
    "\n",
    "model_name_arm = f'hf-summarizer-arm'\n",
    "model_file_name = './models/hf_summarization.zip'\n",
    "\n",
    "model_arm = wl.upload_model(model_name_arm, \n",
    "                        model_file_name, \n",
    "                        framework=wallaroo.framework.Framework.HUGGING_FACE_SUMMARIZATION, \n",
    "                        input_schema=input_schema, \n",
    "                        output_schema=output_schema,\n",
    "                        arch=Architecture.ARM\n",
    "                        )"
   ]
  },
  {
   "cell_type": "code",
   "execution_count": 8,
   "metadata": {},
   "outputs": [
    {
     "data": {
      "text/html": [
       "<table>\n",
       "        <tr>\n",
       "          <td>Name</td>\n",
       "          <td>hf-summarizer-arm</td>\n",
       "        </tr>\n",
       "        <tr>\n",
       "          <td>Version</td>\n",
       "          <td>712b3023-afba-4b8b-ac63-fc2c1a59c903</td>\n",
       "        </tr>\n",
       "        <tr>\n",
       "          <td>File Name</td>\n",
       "          <td>hf_summarization.zip</td>\n",
       "        </tr>\n",
       "        <tr>\n",
       "          <td>SHA</td>\n",
       "          <td>ee71d066a83708e7ca4a3c07caf33fdc528bb000039b6ca2ef77fa2428dc6268</td>\n",
       "        </tr>\n",
       "        <tr>\n",
       "          <td>Status</td>\n",
       "          <td>ready</td>\n",
       "        </tr>\n",
       "        <tr>\n",
       "          <td>Image Path</td>\n",
       "          <td>proxy.replicated.com/proxy/wallaroo/ghcr.io/wallaroolabs/mac-deploy:v2024.1.0-main-4870</td>\n",
       "        </tr>\n",
       "        <tr>\n",
       "          <td>Architecture</td>\n",
       "          <td>arm</td>\n",
       "        </tr>\n",
       "        <tr>\n",
       "          <td>Acceleration</td>\n",
       "          <td>none</td>\n",
       "        </tr>\n",
       "        <tr>\n",
       "          <td>Updated At</td>\n",
       "          <td>2024-03-Apr 21:42:17</td>\n",
       "        </tr>\n",
       "      </table>"
      ],
      "text/plain": [
       "{'name': 'hf-summarizer-arm', 'version': '712b3023-afba-4b8b-ac63-fc2c1a59c903', 'file_name': 'hf_summarization.zip', 'image_path': 'proxy.replicated.com/proxy/wallaroo/ghcr.io/wallaroolabs/mac-deploy:v2024.1.0-main-4870', 'arch': 'arm', 'accel': 'none', 'last_update_time': datetime.datetime(2024, 4, 3, 21, 42, 17, 830418, tzinfo=tzutc())}"
      ]
     },
     "metadata": {},
     "output_type": "display_data"
    }
   ],
   "source": [
    "display(model_arm)"
   ]
  },
  {
   "cell_type": "markdown",
   "metadata": {},
   "source": [
    "### Build Pipeline\n",
    "\n",
    "We build the pipeline with the `wallaroo.client.build_pipeline(pipeline_name` command, and set the model as a model step in the pipeline."
   ]
  },
  {
   "cell_type": "code",
   "execution_count": 9,
   "metadata": {},
   "outputs": [
    {
     "data": {
      "text/html": [
       "<table><tr><th>name</th> <td>architecture-demonstration-arm</td></tr><tr><th>created</th> <td>2024-03-05 16:18:38.768602+00:00</td></tr><tr><th>last_updated</th> <td>2024-04-03 21:42:44.091069+00:00</td></tr><tr><th>deployed</th> <td>False</td></tr><tr><th>arch</th> <td>x86</td></tr><tr><th>accel</th> <td>none</td></tr><tr><th>tags</th> <td></td></tr><tr><th>versions</th> <td>77dd7f95-42b9-422d-a40e-6b678a00e7a8, 47258923-c616-471a-af49-f6504d3c0d22, 4e942b31-d34e-4764-a7fb-6dc27ac00a64, 88801051-5e25-4dda-a3bd-6e64b154f81e, 80c2e1fb-57ba-4ee8-a47b-b09494158769, bbdbc69d-7cc5-4f9b-a70f-6ebaef441075, 07b5ee82-95df-4f30-9128-f344a8df0625, d033152c-494c-44a6-8981-627c6b6ad72e</td></tr><tr><th>steps</th> <td>house-price-estimator-arm</td></tr><tr><th>published</th> <td>True</td></tr></table>"
      ],
      "text/plain": [
       "{'name': 'architecture-demonstration-arm', 'create_time': datetime.datetime(2024, 3, 5, 16, 18, 38, 768602, tzinfo=tzutc()), 'definition': \"[{'ModelInference': {'models': [{'name': 'hf-summarizer-arm', 'version': '712b3023-afba-4b8b-ac63-fc2c1a59c903', 'sha': 'ee71d066a83708e7ca4a3c07caf33fdc528bb000039b6ca2ef77fa2428dc6268'}]}}]\"}"
      ]
     },
     "execution_count": 9,
     "metadata": {},
     "output_type": "execute_result"
    }
   ],
   "source": [
    "pipeline_arm = wl.build_pipeline('architecture-demonstration-arm')\n",
    "pipeline_arm.add_model_step(model_arm)\n",
    "pipeline_arm"
   ]
  },
  {
   "cell_type": "code",
   "execution_count": 16,
   "metadata": {},
   "outputs": [
    {
     "data": {
      "text/html": [
       "<table><tr><th>name</th> <td>architecture-demonstration-arm</td></tr><tr><th>created</th> <td>2024-03-05 16:18:38.768602+00:00</td></tr><tr><th>last_updated</th> <td>2024-04-03 21:46:21.865211+00:00</td></tr><tr><th>deployed</th> <td>True</td></tr><tr><th>arch</th> <td>arm</td></tr><tr><th>accel</th> <td>none</td></tr><tr><th>tags</th> <td></td></tr><tr><th>versions</th> <td>ae54ae3f-6c26-4584-b424-4c0207d95f3e, 77dd7f95-42b9-422d-a40e-6b678a00e7a8, 47258923-c616-471a-af49-f6504d3c0d22, 4e942b31-d34e-4764-a7fb-6dc27ac00a64, 88801051-5e25-4dda-a3bd-6e64b154f81e, 80c2e1fb-57ba-4ee8-a47b-b09494158769, bbdbc69d-7cc5-4f9b-a70f-6ebaef441075, 07b5ee82-95df-4f30-9128-f344a8df0625, d033152c-494c-44a6-8981-627c6b6ad72e</td></tr><tr><th>steps</th> <td>hf-summarizer-arm</td></tr><tr><th>published</th> <td>True</td></tr></table>"
      ],
      "text/plain": [
       "{'name': 'architecture-demonstration-arm', 'create_time': datetime.datetime(2024, 3, 5, 16, 18, 38, 768602, tzinfo=tzutc()), 'definition': \"[{'ModelInference': {'models': [{'name': 'hf-summarizer-arm', 'version': '712b3023-afba-4b8b-ac63-fc2c1a59c903', 'sha': 'ee71d066a83708e7ca4a3c07caf33fdc528bb000039b6ca2ef77fa2428dc6268'}]}}]\"}"
      ]
     },
     "execution_count": 16,
     "metadata": {},
     "output_type": "execute_result"
    }
   ],
   "source": [
    "pipeline_arm_version = pipeline_arm.create_version()\n",
    "\n",
    "pipeline_arm"
   ]
  },
  {
   "cell_type": "markdown",
   "metadata": {},
   "source": [
    "### Deploy Pipeline\n",
    "\n"
   ]
  },
  {
   "cell_type": "code",
   "execution_count": null,
   "metadata": {},
   "outputs": [],
   "source": [
    "from wallaroo.deployment_config import DeploymentConfigBuilder\n",
    "\n",
    "deployment_config = DeploymentConfigBuilder() \\\n",
    "    .cpus(0.25).memory('1Gi') \\\n",
    "    .sidekick_cpus(model_arm, 4) \\\n",
    "    .sidekick_memory(model_arm, \"8Gi\") \\\n",
    "    .build()\n",
    "\n",
    "pipeline_arm.deploy(deployment_config=deployment_config)"
   ]
  },
  {
   "cell_type": "code",
   "execution_count": 17,
   "metadata": {},
   "outputs": [
    {
     "data": {
      "text/html": [
       "<table><tr><th>name</th> <td>architecture-demonstration-arm</td></tr><tr><th>created</th> <td>2024-03-05 16:18:38.768602+00:00</td></tr><tr><th>last_updated</th> <td>2024-04-03 21:46:21.865211+00:00</td></tr><tr><th>deployed</th> <td>True</td></tr><tr><th>arch</th> <td>arm</td></tr><tr><th>accel</th> <td>none</td></tr><tr><th>tags</th> <td></td></tr><tr><th>versions</th> <td>ae54ae3f-6c26-4584-b424-4c0207d95f3e, 77dd7f95-42b9-422d-a40e-6b678a00e7a8, 47258923-c616-471a-af49-f6504d3c0d22, 4e942b31-d34e-4764-a7fb-6dc27ac00a64, 88801051-5e25-4dda-a3bd-6e64b154f81e, 80c2e1fb-57ba-4ee8-a47b-b09494158769, bbdbc69d-7cc5-4f9b-a70f-6ebaef441075, 07b5ee82-95df-4f30-9128-f344a8df0625, d033152c-494c-44a6-8981-627c6b6ad72e</td></tr><tr><th>steps</th> <td>hf-summarizer-arm</td></tr><tr><th>published</th> <td>True</td></tr></table>"
      ],
      "text/plain": [
       "{'name': 'architecture-demonstration-arm', 'create_time': datetime.datetime(2024, 3, 5, 16, 18, 38, 768602, tzinfo=tzutc()), 'definition': \"[{'ModelInference': {'models': [{'name': 'hf-summarizer-arm', 'version': '712b3023-afba-4b8b-ac63-fc2c1a59c903', 'sha': 'ee71d066a83708e7ca4a3c07caf33fdc528bb000039b6ca2ef77fa2428dc6268'}]}}]\"}"
      ]
     },
     "metadata": {},
     "output_type": "display_data"
    }
   ],
   "source": [
    "display(pipeline_arm)"
   ]
  },
  {
   "cell_type": "markdown",
   "metadata": {},
   "source": [
    "## Pipeline Publish for ARM Architecture via the Wallaroo SDK\n",
    "\n",
    "We now publish our pipeline to the OCI registry."
   ]
  },
  {
   "cell_type": "markdown",
   "metadata": {},
   "source": [
    "### Publish Pipeline for ARM\n",
    "\n",
    "Publishing the pipeline uses the pipeline `wallaroo.pipeline.Pipeline.publish()` command.  This requires that the Wallaroo Ops instance have [Edge Registry Services](https://docs.wallaroo.ai/wallaroo-operations-guide/wallaroo-configuration/wallaroo-edge-deployment/#enable-wallaroo-edge-deployment-registry) enabled.\n",
    "\n",
    "When publishing, we specify the pipeline deployment configuration through the `wallaroo.DeploymentConnfigBuilder` and specify the architecture as `wallaroo.engine_config.Architecture.ARM`.\n",
    "\n",
    "The following publishes the pipeline to the OCI registry and displays the container details.  For more information, see [Wallaroo SDK Essentials Guide: Pipeline Edge Publication](https://docs.wallaroo.ai/wallaroo-developer-guides/wallaroo-sdk-guides/wallaroo-sdk-essentials-guide/wallaroo-sdk-essentials-pipelines/wallaroo-sdk-essentials-pipeline-publication/)."
   ]
  },
  {
   "cell_type": "code",
   "execution_count": 18,
   "metadata": {},
   "outputs": [
    {
     "name": "stdout",
     "output_type": "stream",
     "text": [
      "Waiting for pipeline publish... It may take up to 600 sec.\n",
      "Pipeline is publishing................ Published.\n"
     ]
    },
    {
     "data": {
      "text/html": [
       "\n",
       "          <table>\n",
       "              <tr><td>ID</td><td>86</td></tr>\n",
       "              <tr><td>Pipeline Name</td><td>architecture-demonstration-arm</td></tr>\n",
       "              <tr><td>Pipeline Version</td><td>fd5e3d64-9eea-492d-92b2-8bdb5b20ec83</td></tr>\n",
       "              <tr><td>Status</td><td>Published</td></tr>\n",
       "              <tr><td>Engine URL</td><td><a href='https://us-central1-docker.pkg.dev/wallaroo-dev-253816/uat/engines/proxy/wallaroo/ghcr.io/wallaroolabs/fitzroy-mini-aarch64:v2024.1.0-main-4870'>us-central1-docker.pkg.dev/wallaroo-dev-253816/uat/engines/proxy/wallaroo/ghcr.io/wallaroolabs/fitzroy-mini-aarch64:v2024.1.0-main-4870</a></td></tr>\n",
       "              <tr><td>Pipeline URL</td><td><a href='https://us-central1-docker.pkg.dev/wallaroo-dev-253816/uat/pipelines/architecture-demonstration-arm:fd5e3d64-9eea-492d-92b2-8bdb5b20ec83'>us-central1-docker.pkg.dev/wallaroo-dev-253816/uat/pipelines/architecture-demonstration-arm:fd5e3d64-9eea-492d-92b2-8bdb5b20ec83</a></td></tr>\n",
       "              <tr><td>Helm Chart URL</td><td>oci://<a href='https://us-central1-docker.pkg.dev/wallaroo-dev-253816/uat/charts/architecture-demonstration-arm'>us-central1-docker.pkg.dev/wallaroo-dev-253816/uat/charts/architecture-demonstration-arm</a></td></tr>\n",
       "              <tr><td>Helm Chart Reference</td><td>us-central1-docker.pkg.dev/wallaroo-dev-253816/uat/charts@sha256:7e2a314d9024cc2529be3e902eb24ac241f1e0819fc07e47bf26dd2e6e64f183</td></tr>\n",
       "              <tr><td>Helm Chart Version</td><td>0.0.1-fd5e3d64-9eea-492d-92b2-8bdb5b20ec83</td></tr>\n",
       "              <tr><td>Engine Config</td><td>{'engine': {'resources': {'limits': {'cpu': 1.0, 'memory': '512Mi'}, 'requests': {'cpu': 1.0, 'memory': '512Mi'}, 'accel': 'none', 'arch': 'arm', 'gpu': False}}, 'engineAux': {'autoscale': {'type': 'none'}, 'images': {}}}</td></tr>\n",
       "              <tr><td>User Images</td><td>[]</td></tr>\n",
       "              <tr><td>Created By</td><td>john.hummel@wallaroo.ai</td></tr>\n",
       "              <tr><td>Created At</td><td>2024-04-03 21:50:14.306316+00:00</td></tr>\n",
       "              <tr><td>Updated At</td><td>2024-04-03 21:50:14.306316+00:00</td></tr>\n",
       "              <tr><td>Replaces</td><td></td></tr>\n",
       "              <tr>\n",
       "                  <td>Docker Run Command</td>\n",
       "                  <td>\n",
       "                      <table><tr><td>\n",
       "<pre style=\"text-align: left\">docker run \\\n",
       "    -p $EDGE_PORT:8080 \\\n",
       "    -e OCI_USERNAME=$OCI_USERNAME \\\n",
       "    -e OCI_PASSWORD=$OCI_PASSWORD \\\n",
       "    -e PIPELINE_URL=us-central1-docker.pkg.dev/wallaroo-dev-253816/uat/pipelines/architecture-demonstration-arm:fd5e3d64-9eea-492d-92b2-8bdb5b20ec83 \\\n",
       "    -e CONFIG_CPUS=1 us-central1-docker.pkg.dev/wallaroo-dev-253816/uat/engines/proxy/wallaroo/ghcr.io/wallaroolabs/fitzroy-mini-aarch64:v2024.1.0-main-4870</pre></td></tr></table>\n",
       "                      <br />\n",
       "                      <i>\n",
       "                          Note: Please set the <code>EDGE_PORT</code>, <code>OCI_USERNAME</code>, and <code>OCI_PASSWORD</code> environment variables.\n",
       "                      </i>\n",
       "                  </td>\n",
       "              </tr>\n",
       "              <tr>\n",
       "                  <td>Helm Install Command</td>\n",
       "                  <td>\n",
       "                      <table><tr><td>\n",
       "<pre style=\"text-align: left\">helm install --atomic $HELM_INSTALL_NAME \\\n",
       "    oci://us-central1-docker.pkg.dev/wallaroo-dev-253816/uat/charts/architecture-demonstration-arm \\\n",
       "    --namespace $HELM_INSTALL_NAMESPACE \\\n",
       "    --version 0.0.1-fd5e3d64-9eea-492d-92b2-8bdb5b20ec83 \\\n",
       "    --set ociRegistry.username=$OCI_USERNAME \\\n",
       "    --set ociRegistry.password=$OCI_PASSWORD</pre></td></tr></table>\n",
       "                      <br />\n",
       "                      <i>\n",
       "                          Note: Please set the <code>HELM_INSTALL_NAME</code>, <code>HELM_INSTALL_NAMESPACE</code>,\n",
       "                          <code>OCI_USERNAME</code>, and <code>OCI_PASSWORD</code> environment variables.\n",
       "                      </i>\n",
       "                  </td>\n",
       "              </tr>\n",
       "              \n",
       "          </table>\n",
       "        "
      ],
      "text/plain": [
       "PipelinePublish(created_at=datetime.datetime(2024, 4, 3, 21, 50, 14, 306316, tzinfo=tzutc()), docker_run_variables={'PIPELINE_URL': 'us-central1-docker.pkg.dev/wallaroo-dev-253816/uat/pipelines/architecture-demonstration-arm:fd5e3d64-9eea-492d-92b2-8bdb5b20ec83'}, engine_config={'engine': {'resources': {'limits': {'cpu': 1.0, 'memory': '512Mi'}, 'requests': {'cpu': 1.0, 'memory': '512Mi'}, 'accel': 'none', 'arch': 'arm', 'gpu': False}}, 'engineAux': {'autoscale': {'type': 'none'}, 'images': {}}}, id=86, pipeline_name='architecture-demonstration-arm', pipeline_version_id=654, replaces=[], status='Published', updated_at=datetime.datetime(2024, 4, 3, 21, 50, 14, 306316, tzinfo=tzutc()), user_images=[], created_by='b4a9aa3d-83fc-407a-b4eb-37796e96f1ef', created_on_version='2024.1.0', edge_bundles=<wallaroo.wallaroo_ml_ops_api_client.types.Unset object at 0x7aff67d4a8b0>, engine_url='us-central1-docker.pkg.dev/wallaroo-dev-253816/uat/engines/proxy/wallaroo/ghcr.io/wallaroolabs/fitzroy-mini-aarch64:v2024.1.0-main-4870', error=None, helm={'reference': 'us-central1-docker.pkg.dev/wallaroo-dev-253816/uat/charts@sha256:7e2a314d9024cc2529be3e902eb24ac241f1e0819fc07e47bf26dd2e6e64f183', 'values': {}, 'chart': 'us-central1-docker.pkg.dev/wallaroo-dev-253816/uat/charts/architecture-demonstration-arm', 'version': '0.0.1-fd5e3d64-9eea-492d-92b2-8bdb5b20ec83'}, pipeline_url='us-central1-docker.pkg.dev/wallaroo-dev-253816/uat/pipelines/architecture-demonstration-arm:fd5e3d64-9eea-492d-92b2-8bdb5b20ec83', pipeline_version_name='fd5e3d64-9eea-492d-92b2-8bdb5b20ec83', additional_properties={})"
      ]
     },
     "execution_count": 18,
     "metadata": {},
     "output_type": "execute_result"
    }
   ],
   "source": [
    "# default deployment configuration\n",
    "assay_pub_arm = pipeline_arm.publish(deployment_config=wallaroo.DeploymentConfigBuilder().build())\n",
    "assay_pub_arm"
   ]
  },
  {
   "cell_type": "markdown",
   "metadata": {},
   "source": [
    "For details on performing inference requests through an edge deployed model, see [Edge Deployment Endpoints](https://staging.docs.wallaroo.ai/wallaroo-model-operations/wallaroo-model-operations-run-anywhere/wallaroo-model-operations-run-anywhere-deploy/#edge-deployment-endpoints)."
   ]
  }
 ],
 "metadata": {
  "kernelspec": {
   "display_name": "Python 3 (ipykernel)",
   "language": "python",
   "name": "python3"
  },
  "language_info": {
   "codemirror_mode": {
    "name": "ipython",
    "version": 3
   },
   "file_extension": ".py",
   "mimetype": "text/x-python",
   "name": "python",
   "nbconvert_exporter": "python",
   "pygments_lexer": "ipython3",
   "version": "3.9.13"
  },
  "vscode": {
   "interpreter": {
    "hash": "7dda4bf3640b7fafcd1648658b879b4cc9f6ba6084e8fb356fdaaa1a461d1690"
   }
  }
 },
 "nbformat": 4,
 "nbformat_minor": 4
}
