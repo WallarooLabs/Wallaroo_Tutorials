{
 "cells": [
  {
   "cell_type": "markdown",
   "id": "a9af817c-9405-4359-a990-597e9fc392c8",
   "metadata": {},
   "source": [
    "The following tutorial is available on the [Wallaroo Github Repository](https://github.com/WallarooLabs/Wallaroo_Tutorials/blob/wallaroo2024.4_tutorials/wallaroo-run-anywhere/inference/deploy/edge-computer-vision-yolov8-deploy).\n",
    "\n",
    "## Computer Vision Yolov8n Edge Pipeline Deploy & Inference\n",
    "\n",
    "The [Yolov8](https://github.com/ultralytics/ultralytics) computer vision model is used for fast recognition of objects in images.  This tutorial demonstrates how to deploy a Yolov8n pre-trained model into a Wallaroo Ops server and perform inferences on it.\n",
    "\n",
    "Wallaroo Ops Center provides the ability to publish Wallaroo pipelines to an Open Continer Initative (OCI) compliant registry, then deploy those pipelines on edge devices as Docker container or Kubernetes pods.  See [Wallaroo SDK Essentials Guide: Pipeline Edge Publication](https://docs.wallaroo.ai/wallaroo-developer-guides/wallaroo-sdk-guides/wallaroo-sdk-essentials-guide/wallaroo-sdk-essentials-pipelines/wallaroo-sdk-essentials-pipeline-publication/) for full details.\n",
    "\n",
    "For this tutorial, the helper module `CVDemoUtils` and `WallarooUtils` are used to transform a sample image into a pandas DataFrame.  This DataFrame is then submitted to the Yolov8n model deployed in Wallaroo.\n",
    "\n",
<<<<<<< HEAD
    "This tutorial relies on [Computer Vision Yolov8n Pipeline Publish in Wallaroo](https://github.com/WallarooLabs/Wallaroo_Tutorials/blob/wallaroo2024.4_tutorials/wallaroo-run-anywhere/inference/publish/edge-computer-vision-yolov8-publish) being run first to create the publish.\n",
=======
    "This tutorial relies on [Computer Vision Yolov8n Pipeline Publish in Wallaroo](https://github.com/WallarooLabs/Wallaroo_Tutorials/blob/wallaroo2025.1_tutorials/wallaroo-run-anywhere/inference/publish/edge-computer-vision-yolov8-publish) being run first to create the publish.\n",
>>>>>>> wallaroo2024.4_tutorials
    "\n",
    "This demonstration follows these steps:\n",
    "\n",
    "* In a remote aka edge device:\n",
    "  * Deploy the published pipeline as a Wallaroo Inference Server on an edge device through Docker.\n",
    "  * Perform sample inference through that publish.\n",
    "\n",
    "## References\n",
    "\n",
    "* [Wallaroo Workspaces](https://docs.wallaroo.ai/wallaroo-developer-guides/wallaroo-sdk-guides/wallaroo-sdk-essentials-guide/wallaroo-sdk-essentials-workspace/):  Workspaces are environments were users upload models, create pipelines and other artifacts.  The workspace should be considered the fundamental area where work is done.  Workspaces are shared with other users to give them access to the same models, pipelines, etc.\n",
    "* [Wallaroo Model Upload and Registration](https://docs.wallaroo.ai/wallaroo-developer-guides/wallaroo-sdk-guides/wallaroo-sdk-essentials-guide/wallaroo-sdk-model-uploads/): ML Models are uploaded to Wallaroo through the SDK or the MLOps API to a **workspace**.  ML models include default runtimes (ONNX, Python Step, and TensorFlow) that are run directly through the Wallaroo engine, and containerized runtimes (Hugging Face, PyTorch, etc) that are run through in a container through the Wallaroo engine.\n",
    "* [Wallaroo Pipelines](https://docs.wallaroo.ai/wallaroo-developer-guides/wallaroo-sdk-guides/wallaroo-sdk-essentials-guide/wallaroo-sdk-essentials-pipelines/): Pipelines are used to deploy models for inferencing.  Each model is a **pipeline step** in a pipelines, where the inputs of the previous step are fed into the next.  Pipeline steps can be ML models, Python scripts, or Custom Model (these contain necessary models and artifacts for running a model).\n",
    "* [Wallaroo SDK Essentials Guide: Pipeline Edge Publication](https://docs.wallaroo.ai/wallaroo-developer-guides/wallaroo-sdk-guides/wallaroo-sdk-essentials-guide/wallaroo-sdk-essentials-pipelines/wallaroo-sdk-essentials-pipeline-publication/): Details on publishing a Wallaroo pipeline to an OCI Registry and deploying it as a Wallaroo Server instance."
   ]
  },
  {
   "cell_type": "markdown",
   "id": "6b3f5194",
   "metadata": {},
   "source": [
    "## Tutorial Steps\n",
    "\n",
    "### Load Libraries\n",
    "\n",
    "The first step is loading the required libraries including the [Wallaroo Python module](https://pypi.org/project/wallaroo/)."
   ]
  },
  {
   "cell_type": "code",
   "execution_count": 1,
   "id": "6c67d22b-7b4d-429f-a46f-2009dcdc8bff",
   "metadata": {},
   "outputs": [],
   "source": [
    "# Import Wallaroo Python SDK\n",
    "import wallaroo\n",
    "from wallaroo.object import EntityNotFoundError\n",
    "from wallaroo.framework import Framework\n",
    "from CVDemoUtils import CVDemo\n",
    "from WallarooUtils import Util\n",
    "cvDemo = CVDemo()\n",
    "util = Util()\n",
    "\n",
    "# used to display DataFrame information without truncating\n",
    "from IPython.display import display\n",
    "import pandas as pd\n",
    "pd.set_option('display.max_colwidth', None)\n",
    "pd.set_option('display.max_columns', None)\n"
   ]
  },
  {
   "cell_type": "markdown",
   "id": "e5dc575c",
   "metadata": {},
   "source": [
    "### Connect to the Wallaroo Instance through the User Interface\n",
    "\n",
    "The next step is to connect to Wallaroo through the Wallaroo client.  The Python library is included in the Wallaroo install and available through the Jupyter Hub interface provided with your Wallaroo environment.\n",
    "\n",
    "This is accomplished using the `wallaroo.Client()` command, which provides a URL to grant the SDK permission to your specific Wallaroo environment.  When displayed, enter the URL into a browser and confirm permissions.  Store the connection into a variable that can be referenced later.\n",
    "\n",
    "If logging into the Wallaroo instance through the internal JupyterHub service, use `wl = wallaroo.Client()`.  For more information on Wallaroo Client settings, see the [Client Connection guide](https://docs.wallaroo.ai/wallaroo-developer-guides/wallaroo-sdk-guides/wallaroo-sdk-essentials-guide/wallaroo-sdk-essentials-client/)."
   ]
  },
  {
   "cell_type": "code",
   "execution_count": 2,
   "id": "8e953882",
   "metadata": {},
   "outputs": [],
   "source": [
    "wl = wallaroo.Client()"
   ]
  },
  {
   "cell_type": "markdown",
   "id": "792828a3",
   "metadata": {},
   "source": [
    "### Retrieve the Publish\n",
    "\n",
    "We retrieve the publish to this specific pipeline through the `pipeline.publishes()` method.  We'll retrieve the pipeline by setting the current pipeline and retrieving the current pipeline version, then list the publishes."
   ]
  },
  {
   "cell_type": "code",
   "execution_count": 3,
   "id": "b46821db-6e9d-4fed-91eb-9f082862aedf",
   "metadata": {},
   "outputs": [],
   "source": [
    "model_name = 'yolov8n'\n",
    "model_filename = './models/yolov8n.onnx'\n",
    "pipeline_name = 'yolo8demonstration'\n",
    "workspace_name = f'yolo8-edge-demonstration'\n"
   ]
  },
  {
   "cell_type": "code",
   "execution_count": 4,
   "id": "eec366f0",
   "metadata": {},
   "outputs": [
    {
     "data": {
      "text/html": [
       "<table><tr><th>id</th><th>pipeline_version_name</th><th>engine_url</th><th>pipeline_url</th><th>created_by</th><th>created_at</th><th>updated_at</th></tr><tr><td>2</td><td>960dc42c-2aaf-4b18-81b1-4d2a8027eb75</td><td><a href='https://ghcr.io/wallaroolabs/doc-samples/engines/proxy/wallaroo/ghcr.io/wallaroolabs/fitzroy-mini:v2024.4.0-6077'>ghcr.io/wallaroolabs/doc-samples/engines/proxy/wallaroo/ghcr.io/wallaroolabs/fitzroy-mini:v2024.4.0-6077</a></td><td><a href='https://ghcr.io/wallaroolabs/doc-samples/pipelines/yolo8demonstration:960dc42c-2aaf-4b18-81b1-4d2a8027eb75'>ghcr.io/wallaroolabs/doc-samples/pipelines/yolo8demonstration:960dc42c-2aaf-4b18-81b1-4d2a8027eb75</a></td><td>john.hansarick@wallaroo.ai</td><td>2025-29-Apr 20:11:29</td><td>2025-29-Apr 20:11:29</td></tr></table>"
      ],
      "text/plain": [
       "[PipelinePublish(created_at=datetime.datetime(2025, 4, 29, 20, 11, 29, 45179, tzinfo=tzutc()), docker_run_variables={}, engine_config={'engine': {'resources': {'limits': {'cpu': 1.0, 'memory': '1Gi'}, 'requests': {'cpu': 1.0, 'memory': '1Gi'}, 'arch': 'x86', 'accel': 'none', 'gpu': False}}, 'engineAux': {'images': {}, 'autoscale': {'type': 'none'}}}, id=2, pipeline_name='yolo8demonstration', pipeline_version_id=33, replaces=[], status='Published', updated_at=datetime.datetime(2025, 4, 29, 20, 11, 29, 45179, tzinfo=tzutc()), user_images=[], created_by='ea2c3caf-86e1-4501-ad82-c8a09d518bf1', created_on_version='2024.4.3', edge_bundles=<wallaroo.wallaroo_ml_ops_api_client.types.Unset object at 0x166a0b940>, engine_url='ghcr.io/wallaroolabs/doc-samples/engines/proxy/wallaroo/ghcr.io/wallaroolabs/fitzroy-mini:v2024.4.0-6077', error=None, helm={'reference': 'ghcr.io/wallaroolabs/doc-samples/charts@sha256:0b4d4dd37daed6628f03ea4d618bf5ae1538f8531ccd86522b141385c2a0e869', 'chart': 'ghcr.io/wallaroolabs/doc-samples/charts/yolo8demonstration', 'version': '0.0.1-960dc42c-2aaf-4b18-81b1-4d2a8027eb75', 'values': {}}, pipeline_url='ghcr.io/wallaroolabs/doc-samples/pipelines/yolo8demonstration:960dc42c-2aaf-4b18-81b1-4d2a8027eb75', pipeline_version_name='960dc42c-2aaf-4b18-81b1-4d2a8027eb75', additional_properties={})]"
      ]
     },
     "execution_count": 4,
     "metadata": {},
     "output_type": "execute_result"
    }
   ],
   "source": [
    "workspace = wl.get_workspace(name=workspace_name, create_if_not_exist=True)\n",
    "wl.set_current_workspace(workspace)\n",
    "\n",
    "pipeline = wl.get_pipeline(pipeline_name)\n",
    "\n",
    "# list the publishes from this pipeline\n",
    "pipeline.publishes()"
   ]
  },
  {
   "cell_type": "code",
   "execution_count": null,
   "id": "d684924f",
   "metadata": {},
   "outputs": [
    {
     "data": {
      "text/html": [
       "\n",
       "          <table>\n",
       "              <tr><td>ID</td><td>2</td></tr>\n",
       "              <tr><td>Pipeline Name</td><td>yolo8demonstration</td></tr>\n",
       "              <tr><td>Pipeline Version</td><td>960dc42c-2aaf-4b18-81b1-4d2a8027eb75</td></tr>\n",
       "              <tr><td>Status</td><td>Published</td></tr>\n",
       "              <tr><td>Engine URL</td><td><a href='https://ghcr.io/wallaroolabs/doc-samples/engines/proxy/wallaroo/ghcr.io/wallaroolabs/fitzroy-mini:v2024.4.0-6077'>ghcr.io/wallaroolabs/doc-samples/engines/proxy/wallaroo/ghcr.io/wallaroolabs/fitzroy-mini:v2024.4.0-6077</a></td></tr>\n",
       "              <tr><td>Pipeline URL</td><td><a href='https://ghcr.io/wallaroolabs/doc-samples/pipelines/yolo8demonstration:960dc42c-2aaf-4b18-81b1-4d2a8027eb75'>ghcr.io/wallaroolabs/doc-samples/pipelines/yolo8demonstration:960dc42c-2aaf-4b18-81b1-4d2a8027eb75</a></td></tr>\n",
       "              <tr><td>Helm Chart URL</td><td>oci://<a href='https://ghcr.io/wallaroolabs/doc-samples/charts/yolo8demonstration'>ghcr.io/wallaroolabs/doc-samples/charts/yolo8demonstration</a></td></tr>\n",
       "              <tr><td>Helm Chart Reference</td><td>ghcr.io/wallaroolabs/doc-samples/charts@sha256:0b4d4dd37daed6628f03ea4d618bf5ae1538f8531ccd86522b141385c2a0e869</td></tr>\n",
       "              <tr><td>Helm Chart Version</td><td>0.0.1-960dc42c-2aaf-4b18-81b1-4d2a8027eb75</td></tr>\n",
       "              <tr><td>Engine Config</td><td>{'engine': {'resources': {'limits': {'cpu': 1.0, 'memory': '1Gi'}, 'requests': {'cpu': 1.0, 'memory': '1Gi'}, 'arch': 'x86', 'accel': 'none', 'gpu': False}}, 'engineAux': {'images': {}, 'autoscale': {'type': 'none'}}}</td></tr>\n",
       "              <tr><td>User Images</td><td>[]</td></tr>\n",
       "              <tr><td>Created By</td><td>john.hansarick@wallaroo.ai</td></tr>\n",
       "              <tr><td>Created At</td><td>2025-04-29 20:11:29.045179+00:00</td></tr>\n",
       "              <tr><td>Updated At</td><td>2025-04-29 20:11:29.045179+00:00</td></tr>\n",
       "              <tr><td>Replaces</td><td></td></tr>\n",
       "              <tr>\n",
       "                  <td>Docker Run Command</td>\n",
       "                  <td>\n",
       "                      <table><tr><td>\n",
       "<pre style=\"text-align: left\">docker run \\\n",
       "    -p $EDGE_PORT:8080 \\\n",
       "    -e OCI_USERNAME=$OCI_USERNAME \\\n",
       "    -e OCI_PASSWORD=$OCI_PASSWORD \\\n",
       "    -e CONFIG_CPUS=1.0 --cpus=1.0 --memory=1g \\\n",
       "    ghcr.io/wallaroolabs/doc-samples/engines/proxy/wallaroo/ghcr.io/wallaroolabs/fitzroy-mini:v2024.4.0-6077</pre></td></tr></table>\n",
       "                      <br />\n",
       "                      <i>\n",
       "                          Note: Please set the <code>EDGE_PORT</code>, <code>OCI_USERNAME</code>, and <code>OCI_PASSWORD</code> environment variables.\n",
       "                      </i>\n",
       "                  </td>\n",
       "              </tr>\n",
       "              <tr>\n",
       "                  <td>Helm Install Command</td>\n",
       "                  <td>\n",
       "                      <table><tr><td>\n",
       "<pre style=\"text-align: left\">helm install --atomic $HELM_INSTALL_NAME \\\n",
       "    oci://ghcr.io/wallaroolabs/doc-samples/charts/yolo8demonstration \\\n",
       "    --namespace $HELM_INSTALL_NAMESPACE \\\n",
       "    --version 0.0.1-960dc42c-2aaf-4b18-81b1-4d2a8027eb75 \\\n",
       "    --set ociRegistry.username=$OCI_USERNAME \\\n",
       "    --set ociRegistry.password=$OCI_PASSWORD</pre></td></tr></table>\n",
       "                      <br />\n",
       "                      <i>\n",
       "                          Note: Please set the <code>HELM_INSTALL_NAME</code>, <code>HELM_INSTALL_NAMESPACE</code>,\n",
       "                          <code>OCI_USERNAME</code>, and <code>OCI_PASSWORD</code> environment variables.\n",
       "                      </i>\n",
       "                  </td>\n",
       "              </tr>\n",
       "              \n",
       "          </table>\n",
       "        "
      ],
      "text/plain": [
       "PipelinePublish(created_at=datetime.datetime(2025, 4, 29, 20, 11, 29, 45179, tzinfo=tzutc()), docker_run_variables={}, engine_config={'engine': {'resources': {'limits': {'cpu': 1.0, 'memory': '1Gi'}, 'requests': {'cpu': 1.0, 'memory': '1Gi'}, 'arch': 'x86', 'accel': 'none', 'gpu': False}}, 'engineAux': {'images': {}, 'autoscale': {'type': 'none'}}}, id=2, pipeline_name='yolo8demonstration', pipeline_version_id=33, replaces=[], status='Published', updated_at=datetime.datetime(2025, 4, 29, 20, 11, 29, 45179, tzinfo=tzutc()), user_images=[], created_by='ea2c3caf-86e1-4501-ad82-c8a09d518bf1', created_on_version='2024.4.3', edge_bundles=<wallaroo.wallaroo_ml_ops_api_client.types.Unset object at 0x166a0b940>, engine_url='ghcr.io/wallaroolabs/doc-samples/engines/proxy/wallaroo/ghcr.io/wallaroolabs/fitzroy-mini:v2024.4.0-6077', error=None, helm={'reference': 'ghcr.io/wallaroolabs/doc-samples/charts@sha256:0b4d4dd37daed6628f03ea4d618bf5ae1538f8531ccd86522b141385c2a0e869', 'chart': 'ghcr.io/wallaroolabs/doc-samples/charts/yolo8demonstration', 'version': '0.0.1-960dc42c-2aaf-4b18-81b1-4d2a8027eb75', 'values': {}}, pipeline_url='ghcr.io/wallaroolabs/doc-samples/pipelines/yolo8demonstration:960dc42c-2aaf-4b18-81b1-4d2a8027eb75', pipeline_version_name='960dc42c-2aaf-4b18-81b1-4d2a8027eb75', additional_properties={})"
      ]
     },
     "execution_count": 5,
     "metadata": {},
     "output_type": "execute_result"
    }
   ],
   "source": [
    "# list publish details\n",
    "\n",
    "pipeline.publishes()[0].pipeline_url"
   ]
  },
  {
   "cell_type": "markdown",
   "id": "987fbe62",
   "metadata": {},
   "source": [
    "## DevOps - Pipeline Edge Deployment\n",
    "\n",
    "Once a pipeline is deployed to the Edge Registry service, it can be deployed in environments such as Docker, Kubernetes, or similar container running services by a DevOps engineer.\n",
    "\n",
    "### Docker Deployment\n",
    "\n",
    "First, the DevOps engineer must authenticate to the same OCI Registry service used for the Wallaroo Edge Deployment registry.\n",
    "\n",
    "For more details, check with the documentation on your artifact service.  The following are provided for the three major cloud services:\n",
    "\n",
    "* [Set up authentication for Docker](https://cloud.google.com/artifact-registry/docs/docker/authentication)\n",
    "* [Authenticate with an Azure container registry](https://learn.microsoft.com/en-us/azure/container-registry/container-registry-authentication?tabs=azure-cli)\n",
    "* [Authenticating Amazon ECR Repositories for Docker CLI with Credential Helper](https://aws.amazon.com/blogs/compute/authenticating-amazon-ecr-repositories-for-docker-cli-with-credential-helper/)\n",
    "\n",
    "For the deployment, the engine URL is specified with the following environmental variables:\n",
    "\n",
    "* `DEBUG` (true|false): Whether to include debug output.\n",
    "* `OCI_REGISTRY`: The URL of the registry service.\n",
    "* `CONFIG_CPUS`: The number of CPUs to use.\n",
    "* `OCI_USERNAME`: The edge registry username.\n",
    "* `OCI_PASSWORD`:  The edge registry password or token.\n",
    "* `PIPELINE_URL`: The published pipeline URL.\n",
    "\n",
    "#### Docker Deployment Example\n",
    "\n",
    "From our published pipeline we have the `docker run` command.  This command is used to deploy the publish.\n",
    "\n",
    "```bash\n",
    "\n",
    "docker run \\\n",
    "    -p $EDGE_PORT:8080 \\\n",
    "    -e OCI_USERNAME=$OCI_USERNAME \\\n",
    "    -e OCI_PASSWORD=$OCI_PASSWORD \\\n",
    "    -e CONFIG_CPUS=1.0 --cpus=1.0 --memory=1g \\\n",
    "    -e PIPELINE_URL={your registry server}/pipelines/edge-cv-retail:bf70eaf7-8c11-4b46-b751-916a43b1a555 \\\n",
    "    ghcr.io/wallaroolabs/doc-samples/engines/proxy/wallaroo/ghcr.io/wallaroolabs/fitzroy-mini:v2024.4.0-6077\n",
    "```\n"
   ]
  },
  {
   "cell_type": "code",
   "execution_count": 7,
   "id": "27e4d133",
   "metadata": {},
   "outputs": [
    {
     "name": "stdout",
     "output_type": "stream",
     "text": [
      "\n",
      "docker run \\\n",
      "    -p $EDGE_PORT:8080 \\\n",
      "    -e OCI_USERNAME=$OCI_USERNAME \\\n",
      "    -e OCI_PASSWORD=$OCI_PASSWORD \\\n",
      "    -e CONFIG_CPUS=1.0 --cpus=1.0 --memory=1g \\\n",
      "    -e PIPELINE_URL=ghcr.io/wallaroolabs/doc-samples/pipelines/yolo8demonstration:960dc42c-2aaf-4b18-81b1-4d2a8027eb75 \\\n",
      "    ghcr.io/wallaroolabs/doc-samples/engines/proxy/wallaroo/ghcr.io/wallaroolabs/fitzroy-mini:v2024.4.0-6077\n",
      "\n"
     ]
    }
   ],
   "source": [
    "docker_deploy = f'''\n",
    "docker run \\\\\n",
    "    -p $EDGE_PORT:8080 \\\\\n",
    "    -e OCI_USERNAME=$OCI_USERNAME \\\\\n",
    "    -e OCI_PASSWORD=$OCI_PASSWORD \\\\\n",
    "    -e CONFIG_CPUS=1.0 --cpus=1.0 --memory=1g \\\\\n",
    "    -e PIPELINE_URL={pipeline.publishes()[0].pipeline_url} \\\\\n",
    "    ghcr.io/wallaroolabs/doc-samples/engines/proxy/wallaroo/ghcr.io/wallaroolabs/fitzroy-mini:v2024.4.0-6077\n",
    "'''\n",
    "\n",
    "print(docker_deploy)"
   ]
  },
  {
   "cell_type": "markdown",
   "id": "7f49b3f1",
   "metadata": {},
   "source": [
    "## Edge Deployed Pipeline API Endpoints\n",
    "\n",
    "Once deployed, we can check the pipelines and models available.  We'll use a `curl` command, but any HTTP based request will work the same way.\n",
    "\n",
    "The endpoint `/pipelines` returns:\n",
    "\n",
    "* **id** (*String*):  The name of the pipeline.\n",
    "* **status** (*String*):  The status as either `Running`, or `Error` if there are any issues.\n",
    "\n",
    "```bash\n",
    "curl localhost:8080/pipelines\n",
    "{\"pipelines\":[{\"id\":\"yolo8demonstration\",\"status\":\"Running\"}]}\n",
    "```\n",
    "\n",
    "The following example uses the host `localhost`.  Replace with your own host name of your Edge deployed pipeline."
   ]
  },
  {
   "cell_type": "code",
   "execution_count": 11,
   "id": "b9aac0fd",
   "metadata": {},
   "outputs": [
    {
     "name": "stdout",
     "output_type": "stream",
     "text": [
      "{\"pipelines\":[{\"id\":\"yolo8demonstration\",\"version\":\"960dc42c-2aaf-4b18-81b1-4d2a8027eb75\",\"status\":\"Running\"}]}"
     ]
    }
   ],
   "source": [
    "!curl testboy.lan:8081/pipelines"
   ]
  },
  {
   "cell_type": "markdown",
   "id": "9a236c21",
   "metadata": {},
   "source": [
    "The endpoint `/models` returns a List of models with the following fields:\n",
    "\n",
    "* **name** (*String*): The model name.\n",
    "* **sha** (*String*): The sha hash value of the ML model.\n",
    "* **status** (*String*):  The status of either Running or Error if there are any issues.\n",
    "* **version** (*String*):  The model version.  This matches the version designation used by Wallaroo to track model versions in UUID format.\n",
    "\n",
    "```bash\n",
    "{\"models\":[{\"name\":\"yolov8n\",\"sha\":\"3ed5cd199e0e6e419bd3d474cf74f2e378aacbf586e40f24d1f8c89c2c476a08\",\"status\":\"Running\",\"version\":\"7af40d06-d18f-4b3f-9dd3-0a15248f01c8\"}]}\n",
    "```\n",
    "\n",
    "The following example uses the host `localhost`.  Replace with your own host name of your Edge deployed pipeline."
   ]
  },
  {
   "cell_type": "code",
   "execution_count": 16,
   "id": "520f612d",
   "metadata": {},
   "outputs": [
    {
     "name": "stdout",
     "output_type": "stream",
     "text": [
      "{\"models\":[{\"sha\":\"3ed5cd199e0e6e419bd3d474cf74f2e378aacbf586e40f24d1f8c89c2c476a08\",\"name\":\"yolov8n\",\"version\":\"3fad4605-7384-4f26-9f4c-b6712140310f\",\"status\":\"Running\",\"model_version_id\":17}]}"
     ]
    }
   ],
   "source": [
    "!curl testboy.lan:8081/models"
   ]
  },
  {
   "cell_type": "markdown",
   "id": "9315ef4d",
   "metadata": {},
   "source": [
    "### Edge Inference Endpoint\n",
    "\n",
    "The inference endpoint takes the following pattern:\n",
    "\n",
    "* `/infer`\n",
    "\n",
    "Wallaroo inference endpoint URLs accept the following data inputs through the `Content-Type` header:\n",
    "\n",
    "* `Content-Type: application/vnd.apache.arrow.file`: For Apache Arrow tables.\n",
    "* `Content-Type: application/json; format=pandas-records`: For pandas DataFrame in record format.\n",
    "\n",
    "Once deployed, we can perform an inference through the deployment URL.\n",
    "\n",
    "The endpoint returns `Content-Type: application/json; format=pandas-records` by default with the following fields:\n",
    "\n",
    "* **check_failures** (*List[Integer]*): Whether any validation checks were triggered.  For more information, see [Wallaroo SDK Essentials Guide: Pipeline Management: Anomaly Testing](https://docs.wallaroo.ai/wallaroo-developer-guides/wallaroo-sdk-guides/wallaroo-sdk-essentials-guide/wallaroo-sdk-essentials-pipelines/wallaroo-sdk-essentials-pipeline/#anomaly-testing).\n",
    "* **elapsed** (*List[Integer]*): A list of time in nanoseconds for:\n",
    "  * [0] The time to serialize the input.\n",
    "  * [1...n] How long each step took.\n",
    "* **model_name** (*String*): The name of the model used.\n",
    "* **model_version** (*String*): The version of the model in UUID format.\n",
    "* **original_data**: The original input data.  Returns `null` if the input may be too long for a proper return.\n",
    "* **outputs** (*List*): The outputs of the inference result separated by data type, where each data type includes:\n",
    "  * **data**: The returned values.\n",
    "  * **dim** (*List[Integer]*): The dimension shape returned.\n",
    "  * **v** (*Integer*): The vector shape of the data.\n",
    "* **pipeline_name**  (*String*): The name of the pipeline.\n",
    "* **shadow_data**: Any shadow deployed data inferences in the same format as **outputs**.\n",
    "* **time** (*Integer*): The time since UNIX epoch.\n",
    "  \n",
    "Once deployed, we can perform an inference through the deployment URL.  We'll assume we're running the inference request through the localhost and submitting the local file `./data/dogbike.df.json`.  Note that our inference endpoint is `pipelines/yolo8demonstration` - the same as our pipeline name.\n",
    "\n",
    "The following example demonstrates sending an inference request to the edge deployed pipeline and storing the results in a pandas DataFrame in record format.  The results can then be exported to other processes to render the detected images or other use cases."
   ]
  },
  {
   "cell_type": "code",
   "execution_count": 17,
   "id": "f4289b33",
   "metadata": {},
   "outputs": [
    {
     "name": "stdout",
     "output_type": "stream",
     "text": [
      "  % Total    % Received % Xferd  Average Speed   Time    Time     Time  Current\n",
      "                                 Dload  Upload   Total   Spent    Left  Speed\n",
      "100 38.0M  100 22.9M  100 15.0M  4760k  3133k  0:00:04  0:00:04 --:--:-- 7631k 15.0M      0  7327k  0:00:02  0:00:02 --:--:-- 7327k\n"
     ]
    }
   ],
   "source": [
    "!curl -X POST testboy.lan:8081/infer \\\n",
    "    -H \"Content-Type: application/json; format=pandas-records\" \\\n",
    "    --data @./data/dogbike.df.json > edge-results.df.json"
   ]
  }
 ],
 "metadata": {
  "kernelspec": {
   "display_name": "wallaroosdk2024.4",
   "language": "python",
   "name": "python3"
  },
  "language_info": {
   "codemirror_mode": {
    "name": "ipython",
    "version": 3
   },
   "file_extension": ".py",
   "mimetype": "text/x-python",
   "name": "python",
   "nbconvert_exporter": "python",
   "pygments_lexer": "ipython3",
   "version": "3.10.11"
  }
 },
 "nbformat": 4,
 "nbformat_minor": 5
}
