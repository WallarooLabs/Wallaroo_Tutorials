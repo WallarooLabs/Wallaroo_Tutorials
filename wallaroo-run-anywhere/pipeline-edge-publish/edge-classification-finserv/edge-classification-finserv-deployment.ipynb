{
 "cells": [
  {
   "cell_type": "markdown",
   "id": "75173988-6afb-46fe-a6de-15e313786c99",
   "metadata": {},
   "source": [
    "The following tutorial is available on the [Wallaroo Github Repository](https://github.com/WallarooLabs/Wallaroo_Tutorials/blob/wallaroo2025.1_tutorials/wallaroo-run-anywhere/pipeline-edge-publish/edge-classification-finserv).\n",
    "\n",
    "## Classification Financial Services Edge Deployment Demonstration\n",
    "\n",
    "This notebook will walk through building Wallaroo pipeline with a a Classification model deployed to detect the likelihood of credit card fraud, then publishing that pipeline to an Open Container Initiative (OCI) Registry where it can be deployed in other Docker and Kubernetes environments.  This example uses the Wallaroo SDK.\n",
    "\n",
    "This demonstration will focus on deployment to the edge.\n",
    "\n",
    "This demonstration performs the following:\n",
    "\n",
    "1. As a Data Scientist in Wallaroo Ops:\n",
    "    1. Upload a computer vision model to Wallaroo, deploy it in a Wallaroo pipeline, then perform a sample inference.\n",
    "    2. Publish the pipeline to an Open Container Initiative (OCI) Registry service.  This is configured in the Wallaroo instance.  See [Edge Deployment Registry Guide](https://docs.wallaroo.ai/wallaroo-platform-operations/wallaroo-platform-operations-configure/wallaroo-edge-deployment/) for details on adding an OCI Registry Service to Wallaroo as the Edge Deployment Registry.  This demonstration uses a GitHub repository - see [Introduction to GitHub Packages](https://docs.github.com/en/packages/learn-github-packages/introduction-to-github-packages) for setting up your own package repository using GitHub, which can then be used with this tutorial.\n",
    "    3. View the pipeline publish details.\n",
    "2. As a DevOps Engineer in a remote aka edge device:\n",
    "    1. Deploy the published pipeline as a Wallaroo Inference Server.  This example will use Docker.\n",
    "    2. Perform a sample inference through the Wallaroo Inference Server with the same data used in the data scientist example.\n",
    "\n",
    "## References\n",
    "\n",
    "* [Wallaroo SDK Essentials Guide: Pipeline Edge Publication](https://docs.wallaroo.ai/wallaroo-developer-guides/wallaroo-sdk-guides/wallaroo-sdk-essentials-guide/wallaroo-sdk-essentials-pipelines/wallaroo-sdk-essentials-pipeline-publication/)"
   ]
  },
  {
   "cell_type": "markdown",
   "id": "70b53e7e",
   "metadata": {},
   "source": [
    "## Data Scientist Pipeline Publish Steps\n",
    "\n",
    "### Load Libraries\n",
    "\n",
    "The first step is to import the libraries used in this notebook."
   ]
  },
  {
   "cell_type": "code",
   "execution_count": 29,
   "id": "33c4ab07-2af8-4a1f-b665-a1f4f7968da8",
   "metadata": {},
   "outputs": [],
   "source": [
    "import wallaroo\n",
    "from wallaroo.object import EntityNotFoundError\n",
    "\n",
    "import pyarrow as pa\n",
    "import pandas as pd\n",
    "import requests\n",
    "\n",
    "\n",
    "# used to display dataframe information without truncating\n",
    "from IPython.display import display\n",
    "pd.set_option('display.max_colwidth', None)\n",
    "pd.set_option('display.max_columns', None)"
   ]
  },
  {
   "cell_type": "markdown",
   "id": "c1f07f87",
   "metadata": {},
   "source": [
    "### Connect to the Wallaroo Instance through the User Interface\n",
    "\n",
    "The next step is to connect to Wallaroo through the Wallaroo client.  The Python library is included in the Wallaroo install and available through the Jupyter Hub interface provided with your Wallaroo environment.\n",
    "\n",
    "This is accomplished using the `wallaroo.Client()` command, which provides a URL to grant the SDK permission to your specific Wallaroo environment.  When displayed, enter the URL into a browser and confirm permissions.  Store the connection into a variable that can be referenced later.\n",
    "\n",
    "If logging into the Wallaroo instance through the internal JupyterHub service, use `wl = wallaroo.Client()`.  For more information on Wallaroo Client settings, see the [Client Connection guide](https://docs.wallaroo.ai/wallaroo-developer-guides/wallaroo-sdk-guides/wallaroo-sdk-essentials-guide/wallaroo-sdk-essentials-client/)."
   ]
  },
  {
   "cell_type": "code",
   "execution_count": 30,
   "id": "4204db83",
   "metadata": {},
   "outputs": [],
   "source": [
    "wl = wallaroo.Client()"
   ]
  },
  {
   "cell_type": "markdown",
   "id": "e7534d3e",
   "metadata": {},
   "source": [
    "### Create a New Workspace\n",
    "\n",
    "We'll use the SDK below to create our workspace , assign as our **current workspace**, then display all of the workspaces we have at the moment.  We'll also set up variables for our models and pipelines down the road, so we have one spot to change names to whatever fits your organization's standards best.\n",
    "\n",
    "To allow this tutorial to be run by multiple users in the same Wallaroo instance, a random 4 character prefix will be added to the workspace, pipeline, and model.  Feel free to set `suffix=''` if this is not required."
   ]
  },
  {
   "cell_type": "code",
   "execution_count": 31,
   "id": "211b1d3e-7700-4e0b-8ba5-144730d7d17f",
   "metadata": {},
   "outputs": [],
   "source": [
    "workspace_name = f'edge-publish-demo'\n",
    "pipeline_name = 'edge-pipeline'\n",
    "xgboost_model_name = 'ccfraud-xgboost'\n",
    "xgboost_model_file_name = './models/xgboost_ccfraud.onnx'\n",
    "keras_model_name = 'ccfraud-keras'\n",
    "keras_model_file_name = './models/keras_ccfraud.onnx'"
   ]
  },
  {
   "cell_type": "code",
   "execution_count": 32,
   "id": "84393e55-abb6-4d3e-a3dc-2542bc91098b",
   "metadata": {},
   "outputs": [
    {
     "data": {
      "text/plain": [
       "{'name': 'edge-publish-demo', 'id': 11, 'archived': False, 'created_by': '0c74dc8a-39cb-4b1e-8ba8-4013193b859b', 'created_at': '2025-01-09T17:32:30.341257+00:00', 'models': [{'name': 'ccfraud-xgboost', 'versions': 1, 'owner_id': '\"\"', 'last_update_time': datetime.datetime(2025, 1, 9, 17, 32, 33, 50238, tzinfo=tzutc()), 'created_at': datetime.datetime(2025, 1, 9, 17, 32, 33, 50238, tzinfo=tzutc())}, {'name': 'ccfraud-keras', 'versions': 1, 'owner_id': '\"\"', 'last_update_time': datetime.datetime(2025, 1, 9, 17, 32, 33, 923856, tzinfo=tzutc()), 'created_at': datetime.datetime(2025, 1, 9, 17, 32, 33, 923856, tzinfo=tzutc())}], 'pipelines': [{'name': 'edge-pipeline', 'create_time': datetime.datetime(2025, 1, 9, 17, 32, 37, 860476, tzinfo=tzutc()), 'definition': '[]'}]}"
      ]
     },
     "execution_count": 32,
     "metadata": {},
     "output_type": "execute_result"
    }
   ],
   "source": [
    "workspace = wl.get_workspace(name=workspace_name, create_if_not_exist=True)\n",
    "\n",
    "wl.set_current_workspace(workspace)"
   ]
  },
  {
   "cell_type": "markdown",
   "id": "ef7b0f46",
   "metadata": {},
   "source": [
    "### Upload the Model\n",
    "\n",
    "When a model is uploaded to a Wallaroo cluster, it is optimized and packaged to make it ready to run as part of a pipeline. In many times, the Wallaroo Server can natively run a model without any Python overhead. In other cases, such as a Python script, a custom Python environment will be automatically generated. This is comparable to the process of \"containerizing\" a model by adding a small HTTP server and other wrapping around it.\n",
    "\n",
    "Our pretrained model is in ONNX format, which is specified in the `framework` parameter."
   ]
  },
  {
   "cell_type": "code",
   "execution_count": 33,
   "id": "d55515cf-6392-4440-a1dd-729b18c5d431",
   "metadata": {},
   "outputs": [],
   "source": [
    "xgboost_edge_demo_model = wl.upload_model(\n",
    "    xgboost_model_name,\n",
    "    xgboost_model_file_name,\n",
    "    framework=wallaroo.framework.Framework.ONNX,\n",
    ").configure(tensor_fields=[\"tensor\"])\n",
    "\n",
    "keras_edge_demo_model = wl.upload_model(\n",
    "    keras_model_name,\n",
    "    keras_model_file_name,\n",
    "    framework=wallaroo.framework.Framework.ONNX,\n",
    ").configure(tensor_fields=[\"tensor\"])"
   ]
  },
  {
   "cell_type": "markdown",
   "id": "334e8e68",
   "metadata": {},
   "source": [
    "### Reserve Pipeline Resources\n",
    "\n",
    "Before deploying an inference engine we need to tell wallaroo what resources it will need.\n",
    "To do this we will use the wallaroo DeploymentConfigBuilder() and fill in the options listed below to determine what the properties of our inference engine will be.\n",
    "\n",
    "We will be testing this deployment for an edge scenario, so the resource specifications are kept small -- what's the minimum needed to meet the expected load on the planned hardware.\n",
    "\n",
    "- cpus - 1 => allow the engine to use 4 CPU cores when running the neural net\n",
    "- memory - 900Mi => each inference engine will have 2 GB of memory, which is plenty for processing a single image at a time."
   ]
  },
  {
   "cell_type": "code",
   "execution_count": 34,
   "id": "efe5b31d-0dfe-4544-a763-5bd6fd6f01e0",
   "metadata": {},
   "outputs": [],
   "source": [
    "deploy_config = (wallaroo\n",
    "                 .DeploymentConfigBuilder()\n",
    "                 .replica_count(1)\n",
    "                 .cpus(1)\n",
    "                 .memory(\"900Mi\")\n",
    "                 .build()\n",
    "                 )"
   ]
  },
  {
   "cell_type": "markdown",
   "id": "c08818f0",
   "metadata": {},
   "source": [
    "### Simulated Edge Deployment\n",
    "\n",
    "We will now deploy our pipeline into the current Kubernetes environment using the specified resource constraints. This is a \"simulated edge\" deploy in that we try to mimic the edge hardware as closely as possible."
   ]
  },
  {
   "cell_type": "code",
   "execution_count": 35,
   "id": "4a390a87-ba66-4d06-b015-f5fc65d1cf1c",
   "metadata": {},
   "outputs": [
    {
     "name": "stdout",
     "output_type": "stream",
     "text": [
      "Deployment initiated for edge-pipeline. Please check pipeline status.\n"
     ]
    },
    {
     "data": {
      "text/html": [
       "<table><tr><th>name</th> <td>edge-pipeline</td></tr><tr><th>created</th> <td>2025-01-09 17:32:37.860476+00:00</td></tr><tr><th>last_updated</th> <td>2025-01-09 17:42:32.199368+00:00</td></tr><tr><th>deployed</th> <td>True</td></tr><tr><th>workspace_id</th> <td>11</td></tr><tr><th>workspace_name</th> <td>edge-publish-demo</td></tr><tr><th>arch</th> <td>x86</td></tr><tr><th>accel</th> <td>none</td></tr><tr><th>tags</th> <td></td></tr><tr><th>versions</th> <td>8f9f369e-c77e-4e2f-b281-ac63e0f6be97, 1b4a0791-283d-4a1e-b6de-8720f86f276e, 32c29b68-e570-45d9-adb4-084f6dc873b9, 5faac4ed-3a85-45af-9236-6ae681af50d4, 6160ee2d-912f-4326-be4a-c69396da624a, 08f76bba-a243-480e-845e-5e5487074b95, 8150fcee-baa5-4b83-9721-770511978531, 1a965925-5132-4c04-a9f8-545a952cef78, 414abed4-e02c-4435-a715-e6641db19d75</td></tr><tr><th>steps</th> <td>ccfraud-xgboost</td></tr><tr><th>published</th> <td>False</td></tr></table>"
      ],
      "text/plain": [
       "{'name': 'edge-pipeline', 'create_time': datetime.datetime(2025, 1, 9, 17, 32, 37, 860476, tzinfo=tzutc()), 'definition': \"[{'ModelInference': {'models': [{'name': 'ccfraud-xgboost', 'version': 'b847f43d-0795-4100-b75b-632e291628d5', 'sha': '054810e3e3ebbdd34438d9c1a08ed6a6680ef10bf97b9223f78ebf38e14b3b52'}]}}]\"}"
      ]
     },
     "execution_count": 35,
     "metadata": {},
     "output_type": "execute_result"
    }
   ],
   "source": [
    "pipeline = wl.build_pipeline(pipeline_name)\n",
    "\n",
    "# clear the pipeline if previously run\n",
    "pipeline.clear()\n",
    "pipeline.add_model_step(xgboost_edge_demo_model)\n",
    "\n",
    "pipeline.deploy(deployment_config = deploy_config, wait_for_status=False)\n"
   ]
  },
  {
   "cell_type": "code",
   "execution_count": 36,
   "id": "18342fcf",
   "metadata": {},
   "outputs": [],
   "source": [
    "import time\n",
    "time.sleep(15)\n",
    "\n",
    "while pipeline.status()['status'] != 'Running':\n",
    "    time.sleep(15)\n",
    "    print(\"Waiting for deployment.\")\n",
    "pipeline.status()['status']\n",
    "\n",
    "# get this pipeline version\n",
    "\n",
    "pipeline_xgb_version = wl.get_pipeline(pipeline_name)"
   ]
  },
  {
   "cell_type": "markdown",
   "id": "5c54221a",
   "metadata": {},
   "source": [
    "### Run Single Inference\n",
    "\n",
    "A single image, encoded using the Apache Arrow format, is sent to the deployed pipeline. Arrow is used here because, as a binary protocol, there is far lower network and compute overhead than using JSON. The Wallaroo Server engine accepts both JSON, pandas DataFrame, and Apache Arrow formats.\n",
    "\n",
    "The sample DataFrames and arrow tables are in the `./data` directory.  We'll use the Apache Arrow table `cc_data_10k.arrow`."
   ]
  },
  {
   "cell_type": "code",
   "execution_count": 37,
   "id": "45151886",
   "metadata": {},
   "outputs": [],
   "source": [
    "deploy_url = pipeline._deployment._url()\n",
    "\n",
    "headers = wl.auth.auth_header()\n",
    "\n",
    "headers['Content-Type']='application/vnd.apache.arrow.file'\n",
    "# headers['Content-Type']='application/json; format=pandas-records'\n",
    "headers['Accept']='application/json; format=pandas-records'\n",
    "\n",
    "dataFile = './data/cc_data_10k.arrow'"
   ]
  },
  {
   "cell_type": "code",
   "execution_count": 38,
   "id": "df375edc",
   "metadata": {},
   "outputs": [
    {
     "name": "stdout",
     "output_type": "stream",
     "text": [
      "  % Total    % Received % Xferd  Average Speed   Time    Time     Time  Current\n",
      "                                 Dload  Upload   Total   Spent    Left  Speed\n",
      "100 8202k  100 7039k  100 1162k  6268k  1035k  0:00:01  0:00:01 --:--:-- 7303k\n"
     ]
    }
   ],
   "source": [
    "!curl -X POST {deploy_url} \\\n",
    "     -H \"Authorization:{headers['Authorization']}\" \\\n",
    "     -H \"Content-Type:{headers['Content-Type']}\" \\\n",
    "     -H \"Accept:{headers['Accept']}\" \\\n",
    "     --data-binary @{dataFile} > curl_response_xgboost.df.json"
   ]
  },
  {
   "cell_type": "markdown",
   "id": "c59b7109",
   "metadata": {},
   "source": [
    "We'll retrieve the DataFrame from our recent inference and display the first 5 rows."
   ]
  },
  {
   "cell_type": "code",
   "execution_count": 39,
   "id": "9ea19905",
   "metadata": {},
   "outputs": [
    {
     "data": {
      "text/html": [
       "<div>\n",
       "<style scoped>\n",
       "    .dataframe tbody tr th:only-of-type {\n",
       "        vertical-align: middle;\n",
       "    }\n",
       "\n",
       "    .dataframe tbody tr th {\n",
       "        vertical-align: top;\n",
       "    }\n",
       "\n",
       "    .dataframe thead th {\n",
       "        text-align: right;\n",
       "    }\n",
       "</style>\n",
       "<table border=\"1\" class=\"dataframe\">\n",
       "  <thead>\n",
       "    <tr style=\"text-align: right;\">\n",
       "      <th></th>\n",
       "      <th>time</th>\n",
       "      <th>in</th>\n",
       "      <th>out</th>\n",
       "      <th>anomaly</th>\n",
       "      <th>metadata</th>\n",
       "    </tr>\n",
       "  </thead>\n",
       "  <tbody>\n",
       "    <tr>\n",
       "      <th>0</th>\n",
       "      <td>1736444572730</td>\n",
       "      <td>{'tensor': [-1.0603298, 2.3544967, -3.5638788, 5.138735, -1.2308457, -0.7687824400000001, -3.5881228, 1.8880838, -3.2789674, -3.9563255, 4.099344, -5.653918, -0.8775733, -9.131571, -0.6093538, -3.7480276, -5.0309124, -0.8748149, 1.9870535, 0.7005486, 0.9204422999999999, -0.10414918000000001, 0.32295644, -0.74181414, 0.038412016, 1.0993439, 1.2603409, -0.14662448, -1.4463211999999999]}</td>\n",
       "      <td>{'variable': [1.0094898]}</td>\n",
       "      <td>{'count': 0}</td>\n",
       "      <td>{'last_model': '{\"model_name\":\"ccfraud-xgboost\",\"model_sha\":\"054810e3e3ebbdd34438d9c1a08ed6a6680ef10bf97b9223f78ebf38e14b3b52\"}', 'pipeline_version': '8f9f369e-c77e-4e2f-b281-ac63e0f6be97', 'elapsed': [845509, 8487369], 'dropped': [], 'partition': 'engine-77678c8894-pln9k'}</td>\n",
       "    </tr>\n",
       "    <tr>\n",
       "      <th>1</th>\n",
       "      <td>1736444572730</td>\n",
       "      <td>{'tensor': [-1.0603298, 2.3544967, -3.5638788, 5.138735, -1.2308457, -0.7687824400000001, -3.5881228, 1.8880838, -3.2789674, -3.9563255, 4.099344, -5.653918, -0.8775733, -9.131571, -0.6093538, -3.7480276, -5.0309124, -0.8748149, 1.9870535, 0.7005486, 0.9204422999999999, -0.10414918000000001, 0.32295644, -0.74181414, 0.038412016, 1.0993439, 1.2603409, -0.14662448, -1.4463211999999999]}</td>\n",
       "      <td>{'variable': [1.0094898]}</td>\n",
       "      <td>{'count': 0}</td>\n",
       "      <td>{'last_model': '{\"model_name\":\"ccfraud-xgboost\",\"model_sha\":\"054810e3e3ebbdd34438d9c1a08ed6a6680ef10bf97b9223f78ebf38e14b3b52\"}', 'pipeline_version': '8f9f369e-c77e-4e2f-b281-ac63e0f6be97', 'elapsed': [845509, 8487369], 'dropped': [], 'partition': 'engine-77678c8894-pln9k'}</td>\n",
       "    </tr>\n",
       "    <tr>\n",
       "      <th>2</th>\n",
       "      <td>1736444572730</td>\n",
       "      <td>{'tensor': [-1.0603298, 2.3544967, -3.5638788, 5.138735, -1.2308457, -0.7687824400000001, -3.5881228, 1.8880838, -3.2789674, -3.9563255, 4.099344, -5.653918, -0.8775733, -9.131571, -0.6093538, -3.7480276, -5.0309124, -0.8748149, 1.9870535, 0.7005486, 0.9204422999999999, -0.10414918000000001, 0.32295644, -0.74181414, 0.038412016, 1.0993439, 1.2603409, -0.14662448, -1.4463211999999999]}</td>\n",
       "      <td>{'variable': [1.0094898]}</td>\n",
       "      <td>{'count': 0}</td>\n",
       "      <td>{'last_model': '{\"model_name\":\"ccfraud-xgboost\",\"model_sha\":\"054810e3e3ebbdd34438d9c1a08ed6a6680ef10bf97b9223f78ebf38e14b3b52\"}', 'pipeline_version': '8f9f369e-c77e-4e2f-b281-ac63e0f6be97', 'elapsed': [845509, 8487369], 'dropped': [], 'partition': 'engine-77678c8894-pln9k'}</td>\n",
       "    </tr>\n",
       "    <tr>\n",
       "      <th>3</th>\n",
       "      <td>1736444572730</td>\n",
       "      <td>{'tensor': [-1.0603298, 2.3544967, -3.5638788, 5.138735, -1.2308457, -0.7687824400000001, -3.5881228, 1.8880838, -3.2789674, -3.9563255, 4.099344, -5.653918, -0.8775733, -9.131571, -0.6093538, -3.7480276, -5.0309124, -0.8748149, 1.9870535, 0.7005486, 0.9204422999999999, -0.10414918000000001, 0.32295644, -0.74181414, 0.038412016, 1.0993439, 1.2603409, -0.14662448, -1.4463211999999999]}</td>\n",
       "      <td>{'variable': [1.0094898]}</td>\n",
       "      <td>{'count': 0}</td>\n",
       "      <td>{'last_model': '{\"model_name\":\"ccfraud-xgboost\",\"model_sha\":\"054810e3e3ebbdd34438d9c1a08ed6a6680ef10bf97b9223f78ebf38e14b3b52\"}', 'pipeline_version': '8f9f369e-c77e-4e2f-b281-ac63e0f6be97', 'elapsed': [845509, 8487369], 'dropped': [], 'partition': 'engine-77678c8894-pln9k'}</td>\n",
       "    </tr>\n",
       "    <tr>\n",
       "      <th>4</th>\n",
       "      <td>1736444572730</td>\n",
       "      <td>{'tensor': [0.5817662, 0.09788155, 0.15468194, 0.4754102, -0.19788623, -0.45043448, 0.016654044, -0.025607055, 0.09205616, -0.27839172, 0.059329946, -0.019658541, -0.42250833, -0.12175389, 1.5473095, 0.23916228, 0.3553975, -0.76851654, -0.7000849, -0.11900433, -0.34505169999999996, -1.1065114, 0.25234112000000003, 0.020944182000000002, 0.21992674, 0.25406894, -0.04502251, 0.10867739, 0.25471792]}</td>\n",
       "      <td>{'variable': [-1.9073485999999998e-06]}</td>\n",
       "      <td>{'count': 0}</td>\n",
       "      <td>{'last_model': '{\"model_name\":\"ccfraud-xgboost\",\"model_sha\":\"054810e3e3ebbdd34438d9c1a08ed6a6680ef10bf97b9223f78ebf38e14b3b52\"}', 'pipeline_version': '8f9f369e-c77e-4e2f-b281-ac63e0f6be97', 'elapsed': [845509, 8487369], 'dropped': [], 'partition': 'engine-77678c8894-pln9k'}</td>\n",
       "    </tr>\n",
       "  </tbody>\n",
       "</table>\n",
       "</div>"
      ],
      "text/plain": [
       "            time  \\\n",
       "0  1736444572730   \n",
       "1  1736444572730   \n",
       "2  1736444572730   \n",
       "3  1736444572730   \n",
       "4  1736444572730   \n",
       "\n",
       "                                                                                                                                                                                                                                                                                                                                                                                                                in  \\\n",
       "0              {'tensor': [-1.0603298, 2.3544967, -3.5638788, 5.138735, -1.2308457, -0.7687824400000001, -3.5881228, 1.8880838, -3.2789674, -3.9563255, 4.099344, -5.653918, -0.8775733, -9.131571, -0.6093538, -3.7480276, -5.0309124, -0.8748149, 1.9870535, 0.7005486, 0.9204422999999999, -0.10414918000000001, 0.32295644, -0.74181414, 0.038412016, 1.0993439, 1.2603409, -0.14662448, -1.4463211999999999]}   \n",
       "1              {'tensor': [-1.0603298, 2.3544967, -3.5638788, 5.138735, -1.2308457, -0.7687824400000001, -3.5881228, 1.8880838, -3.2789674, -3.9563255, 4.099344, -5.653918, -0.8775733, -9.131571, -0.6093538, -3.7480276, -5.0309124, -0.8748149, 1.9870535, 0.7005486, 0.9204422999999999, -0.10414918000000001, 0.32295644, -0.74181414, 0.038412016, 1.0993439, 1.2603409, -0.14662448, -1.4463211999999999]}   \n",
       "2              {'tensor': [-1.0603298, 2.3544967, -3.5638788, 5.138735, -1.2308457, -0.7687824400000001, -3.5881228, 1.8880838, -3.2789674, -3.9563255, 4.099344, -5.653918, -0.8775733, -9.131571, -0.6093538, -3.7480276, -5.0309124, -0.8748149, 1.9870535, 0.7005486, 0.9204422999999999, -0.10414918000000001, 0.32295644, -0.74181414, 0.038412016, 1.0993439, 1.2603409, -0.14662448, -1.4463211999999999]}   \n",
       "3              {'tensor': [-1.0603298, 2.3544967, -3.5638788, 5.138735, -1.2308457, -0.7687824400000001, -3.5881228, 1.8880838, -3.2789674, -3.9563255, 4.099344, -5.653918, -0.8775733, -9.131571, -0.6093538, -3.7480276, -5.0309124, -0.8748149, 1.9870535, 0.7005486, 0.9204422999999999, -0.10414918000000001, 0.32295644, -0.74181414, 0.038412016, 1.0993439, 1.2603409, -0.14662448, -1.4463211999999999]}   \n",
       "4  {'tensor': [0.5817662, 0.09788155, 0.15468194, 0.4754102, -0.19788623, -0.45043448, 0.016654044, -0.025607055, 0.09205616, -0.27839172, 0.059329946, -0.019658541, -0.42250833, -0.12175389, 1.5473095, 0.23916228, 0.3553975, -0.76851654, -0.7000849, -0.11900433, -0.34505169999999996, -1.1065114, 0.25234112000000003, 0.020944182000000002, 0.21992674, 0.25406894, -0.04502251, 0.10867739, 0.25471792]}   \n",
       "\n",
       "                                       out       anomaly  \\\n",
       "0                {'variable': [1.0094898]}  {'count': 0}   \n",
       "1                {'variable': [1.0094898]}  {'count': 0}   \n",
       "2                {'variable': [1.0094898]}  {'count': 0}   \n",
       "3                {'variable': [1.0094898]}  {'count': 0}   \n",
       "4  {'variable': [-1.9073485999999998e-06]}  {'count': 0}   \n",
       "\n",
       "                                                                                                                                                                                                                                                                             metadata  \n",
       "0  {'last_model': '{\"model_name\":\"ccfraud-xgboost\",\"model_sha\":\"054810e3e3ebbdd34438d9c1a08ed6a6680ef10bf97b9223f78ebf38e14b3b52\"}', 'pipeline_version': '8f9f369e-c77e-4e2f-b281-ac63e0f6be97', 'elapsed': [845509, 8487369], 'dropped': [], 'partition': 'engine-77678c8894-pln9k'}  \n",
       "1  {'last_model': '{\"model_name\":\"ccfraud-xgboost\",\"model_sha\":\"054810e3e3ebbdd34438d9c1a08ed6a6680ef10bf97b9223f78ebf38e14b3b52\"}', 'pipeline_version': '8f9f369e-c77e-4e2f-b281-ac63e0f6be97', 'elapsed': [845509, 8487369], 'dropped': [], 'partition': 'engine-77678c8894-pln9k'}  \n",
       "2  {'last_model': '{\"model_name\":\"ccfraud-xgboost\",\"model_sha\":\"054810e3e3ebbdd34438d9c1a08ed6a6680ef10bf97b9223f78ebf38e14b3b52\"}', 'pipeline_version': '8f9f369e-c77e-4e2f-b281-ac63e0f6be97', 'elapsed': [845509, 8487369], 'dropped': [], 'partition': 'engine-77678c8894-pln9k'}  \n",
       "3  {'last_model': '{\"model_name\":\"ccfraud-xgboost\",\"model_sha\":\"054810e3e3ebbdd34438d9c1a08ed6a6680ef10bf97b9223f78ebf38e14b3b52\"}', 'pipeline_version': '8f9f369e-c77e-4e2f-b281-ac63e0f6be97', 'elapsed': [845509, 8487369], 'dropped': [], 'partition': 'engine-77678c8894-pln9k'}  \n",
       "4  {'last_model': '{\"model_name\":\"ccfraud-xgboost\",\"model_sha\":\"054810e3e3ebbdd34438d9c1a08ed6a6680ef10bf97b9223f78ebf38e14b3b52\"}', 'pipeline_version': '8f9f369e-c77e-4e2f-b281-ac63e0f6be97', 'elapsed': [845509, 8487369], 'dropped': [], 'partition': 'engine-77678c8894-pln9k'}  "
      ]
     },
     "execution_count": 39,
     "metadata": {},
     "output_type": "execute_result"
    }
   ],
   "source": [
    "df = pd.read_json('curl_response_xgboost.df.json', orient=\"records\")\n",
    "df.head(5)"
   ]
  },
  {
   "cell_type": "markdown",
   "id": "16861329-a997-4ba6-af68-2ecd0ead747c",
   "metadata": {},
   "source": [
    "### Redeploy with Keras version\n",
    "\n",
    "We will now redeploy the pipeline with the converted keras version of our model, then set that version of the pipeline."
   ]
  },
  {
   "cell_type": "code",
   "execution_count": 40,
   "id": "3739ec3c-db93-4aa8-a8e3-aa6cdf7fa0f0",
   "metadata": {},
   "outputs": [
    {
     "name": "stdout",
     "output_type": "stream",
     "text": [
      "Deployment initiated for edge-pipeline. Please check pipeline status.\n"
     ]
    }
   ],
   "source": [
    "# clear the pipeline steps\n",
    "pipeline.undeploy()\n",
    "pipeline.clear()\n",
    "pipeline.add_model_step(keras_edge_demo_model)\n",
    "_ = pipeline.deploy(deployment_config = deploy_config, wait_for_status=False)"
   ]
  },
  {
   "cell_type": "markdown",
   "id": "c5793388",
   "metadata": {},
   "source": [
    "We will retrieve this pipeline version, then perform our sample inference request with the keras model."
   ]
  },
  {
   "cell_type": "code",
   "execution_count": 41,
   "id": "3f0b01e8",
   "metadata": {},
   "outputs": [
    {
     "data": {
      "text/html": [
       "<table><tr><th>name</th> <td>edge-pipeline</td></tr><tr><th>created</th> <td>2025-01-09 17:32:37.860476+00:00</td></tr><tr><th>last_updated</th> <td>2025-01-09 17:43:31.677207+00:00</td></tr><tr><th>deployed</th> <td>True</td></tr><tr><th>workspace_id</th> <td>11</td></tr><tr><th>workspace_name</th> <td>edge-publish-demo</td></tr><tr><th>arch</th> <td>x86</td></tr><tr><th>accel</th> <td>none</td></tr><tr><th>tags</th> <td></td></tr><tr><th>versions</th> <td>70b2d3b1-5d1e-4253-957d-782873c8a71a, 8f9f369e-c77e-4e2f-b281-ac63e0f6be97, 1b4a0791-283d-4a1e-b6de-8720f86f276e, 32c29b68-e570-45d9-adb4-084f6dc873b9, 5faac4ed-3a85-45af-9236-6ae681af50d4, 6160ee2d-912f-4326-be4a-c69396da624a, 08f76bba-a243-480e-845e-5e5487074b95, 8150fcee-baa5-4b83-9721-770511978531, 1a965925-5132-4c04-a9f8-545a952cef78, 414abed4-e02c-4435-a715-e6641db19d75</td></tr><tr><th>steps</th> <td>ccfraud-keras</td></tr><tr><th>published</th> <td>False</td></tr></table>"
      ],
      "text/plain": [
       "{'name': 'edge-pipeline', 'create_time': datetime.datetime(2025, 1, 9, 17, 32, 37, 860476, tzinfo=tzutc()), 'definition': '[]'}"
      ]
     },
     "execution_count": 41,
     "metadata": {},
     "output_type": "execute_result"
    }
   ],
   "source": [
    "# give a moment to verify the model swap\n",
    "time.sleep(15)\n",
    "\n",
    "while pipeline.status()['status'] != 'Running':\n",
    "    time.sleep(15)\n",
    "    print(\"Waiting for deployment.\")\n",
    "    pipeline.status()['status']\n",
    "pipeline.status()['status']\n",
    "\n",
    "# get this version\n",
    "keras_pipeline_version = wl.get_pipeline(pipeline_name)\n",
    "keras_pipeline_version"
   ]
  },
  {
   "cell_type": "code",
   "execution_count": 42,
   "id": "c063a496-b0cd-4824-8eaa-b25041338d45",
   "metadata": {},
   "outputs": [],
   "source": [
    "deploy_url = pipeline._deployment._url()\n",
    "\n",
    "headers = wl.auth.auth_header()\n",
    "\n",
    "headers['Content-Type']='application/vnd.apache.arrow.file'\n",
    "headers['Accept']='application/json; format=pandas-records'\n",
    "\n",
    "dataFile = './data/cc_data_10k.arrow'"
   ]
  },
  {
   "cell_type": "code",
   "execution_count": 43,
   "id": "ab574ecc",
   "metadata": {},
   "outputs": [],
   "source": [
    "import datetime\n",
    "\n",
    "local_inference_start = datetime.datetime.now()"
   ]
  },
  {
   "cell_type": "code",
   "execution_count": 44,
   "id": "46b3ea8b",
   "metadata": {},
   "outputs": [
    {
     "name": "stdout",
     "output_type": "stream",
     "text": [
      "  % Total    % Received % Xferd  Average Speed   Time    Time     Time  Current\n",
      "                                 Dload  Upload   Total   Spent    Left  Speed\n",
      "100 8171k  100 7009k  100 1162k  3643k   604k  0:00:01  0:00:01 --:--:-- 4247k\n"
     ]
    }
   ],
   "source": [
    "!curl -X POST {deploy_url} \\\n",
    "     -H \"Authorization:{headers['Authorization']}\" \\\n",
    "     -H \"Content-Type:{headers['Content-Type']}\" \\\n",
    "     -H \"Accept:{headers['Accept']}\" \\\n",
    "     --data-binary @{dataFile} > curl_response_keras.df.json"
   ]
  },
  {
   "cell_type": "markdown",
   "id": "8c408268",
   "metadata": {},
   "source": [
    "We'll retrieve the DataFrame from our recent inference and display the first 5 rows."
   ]
  },
  {
   "cell_type": "code",
   "execution_count": 45,
   "id": "8b6962e9",
   "metadata": {},
   "outputs": [
    {
     "data": {
      "text/html": [
       "<div>\n",
       "<style scoped>\n",
       "    .dataframe tbody tr th:only-of-type {\n",
       "        vertical-align: middle;\n",
       "    }\n",
       "\n",
       "    .dataframe tbody tr th {\n",
       "        vertical-align: top;\n",
       "    }\n",
       "\n",
       "    .dataframe thead th {\n",
       "        text-align: right;\n",
       "    }\n",
       "</style>\n",
       "<table border=\"1\" class=\"dataframe\">\n",
       "  <thead>\n",
       "    <tr style=\"text-align: right;\">\n",
       "      <th></th>\n",
       "      <th>time</th>\n",
       "      <th>in</th>\n",
       "      <th>out</th>\n",
       "      <th>anomaly</th>\n",
       "      <th>metadata</th>\n",
       "    </tr>\n",
       "  </thead>\n",
       "  <tbody>\n",
       "    <tr>\n",
       "      <th>0</th>\n",
       "      <td>1736444632648</td>\n",
       "      <td>{'tensor': [-1.0603298, 2.3544967, -3.5638788, 5.138735, -1.2308457, -0.7687824400000001, -3.5881228, 1.8880838, -3.2789674, -3.9563255, 4.099344, -5.653918, -0.8775733, -9.131571, -0.6093538, -3.7480276, -5.0309124, -0.8748149, 1.9870535, 0.7005486, 0.9204422999999999, -0.10414918000000001, 0.32295644, -0.74181414, 0.038412016, 1.0993439, 1.2603409, -0.14662448, -1.4463211999999999]}</td>\n",
       "      <td>{'dense_1': [0.99300325]}</td>\n",
       "      <td>{'count': 0}</td>\n",
       "      <td>{'last_model': '{\"model_name\":\"ccfraud-keras\",\"model_sha\":\"bc85ce596945f876256f41515c7501c399fd97ebcb9ab3dd41bf03f8937b4507\"}', 'pipeline_version': '70b2d3b1-5d1e-4253-957d-782873c8a71a', 'elapsed': [1001999, 3339000], 'dropped': [], 'partition': 'engine-6bcd4dc988-njtw8'}</td>\n",
       "    </tr>\n",
       "    <tr>\n",
       "      <th>1</th>\n",
       "      <td>1736444632648</td>\n",
       "      <td>{'tensor': [-1.0603298, 2.3544967, -3.5638788, 5.138735, -1.2308457, -0.7687824400000001, -3.5881228, 1.8880838, -3.2789674, -3.9563255, 4.099344, -5.653918, -0.8775733, -9.131571, -0.6093538, -3.7480276, -5.0309124, -0.8748149, 1.9870535, 0.7005486, 0.9204422999999999, -0.10414918000000001, 0.32295644, -0.74181414, 0.038412016, 1.0993439, 1.2603409, -0.14662448, -1.4463211999999999]}</td>\n",
       "      <td>{'dense_1': [0.99300325]}</td>\n",
       "      <td>{'count': 0}</td>\n",
       "      <td>{'last_model': '{\"model_name\":\"ccfraud-keras\",\"model_sha\":\"bc85ce596945f876256f41515c7501c399fd97ebcb9ab3dd41bf03f8937b4507\"}', 'pipeline_version': '70b2d3b1-5d1e-4253-957d-782873c8a71a', 'elapsed': [1001999, 3339000], 'dropped': [], 'partition': 'engine-6bcd4dc988-njtw8'}</td>\n",
       "    </tr>\n",
       "    <tr>\n",
       "      <th>2</th>\n",
       "      <td>1736444632648</td>\n",
       "      <td>{'tensor': [-1.0603298, 2.3544967, -3.5638788, 5.138735, -1.2308457, -0.7687824400000001, -3.5881228, 1.8880838, -3.2789674, -3.9563255, 4.099344, -5.653918, -0.8775733, -9.131571, -0.6093538, -3.7480276, -5.0309124, -0.8748149, 1.9870535, 0.7005486, 0.9204422999999999, -0.10414918000000001, 0.32295644, -0.74181414, 0.038412016, 1.0993439, 1.2603409, -0.14662448, -1.4463211999999999]}</td>\n",
       "      <td>{'dense_1': [0.99300325]}</td>\n",
       "      <td>{'count': 0}</td>\n",
       "      <td>{'last_model': '{\"model_name\":\"ccfraud-keras\",\"model_sha\":\"bc85ce596945f876256f41515c7501c399fd97ebcb9ab3dd41bf03f8937b4507\"}', 'pipeline_version': '70b2d3b1-5d1e-4253-957d-782873c8a71a', 'elapsed': [1001999, 3339000], 'dropped': [], 'partition': 'engine-6bcd4dc988-njtw8'}</td>\n",
       "    </tr>\n",
       "    <tr>\n",
       "      <th>3</th>\n",
       "      <td>1736444632648</td>\n",
       "      <td>{'tensor': [-1.0603298, 2.3544967, -3.5638788, 5.138735, -1.2308457, -0.7687824400000001, -3.5881228, 1.8880838, -3.2789674, -3.9563255, 4.099344, -5.653918, -0.8775733, -9.131571, -0.6093538, -3.7480276, -5.0309124, -0.8748149, 1.9870535, 0.7005486, 0.9204422999999999, -0.10414918000000001, 0.32295644, -0.74181414, 0.038412016, 1.0993439, 1.2603409, -0.14662448, -1.4463211999999999]}</td>\n",
       "      <td>{'dense_1': [0.99300325]}</td>\n",
       "      <td>{'count': 0}</td>\n",
       "      <td>{'last_model': '{\"model_name\":\"ccfraud-keras\",\"model_sha\":\"bc85ce596945f876256f41515c7501c399fd97ebcb9ab3dd41bf03f8937b4507\"}', 'pipeline_version': '70b2d3b1-5d1e-4253-957d-782873c8a71a', 'elapsed': [1001999, 3339000], 'dropped': [], 'partition': 'engine-6bcd4dc988-njtw8'}</td>\n",
       "    </tr>\n",
       "    <tr>\n",
       "      <th>4</th>\n",
       "      <td>1736444632648</td>\n",
       "      <td>{'tensor': [0.5817662, 0.09788155, 0.15468194, 0.4754102, -0.19788623, -0.45043448, 0.016654044, -0.025607055, 0.09205616, -0.27839172, 0.059329946, -0.019658541, -0.42250833, -0.12175389, 1.5473095, 0.23916228, 0.3553975, -0.76851654, -0.7000849, -0.11900433, -0.34505169999999996, -1.1065114, 0.25234112000000003, 0.020944182000000002, 0.21992674, 0.25406894, -0.04502251, 0.10867739, 0.25471792]}</td>\n",
       "      <td>{'dense_1': [0.0010916889]}</td>\n",
       "      <td>{'count': 0}</td>\n",
       "      <td>{'last_model': '{\"model_name\":\"ccfraud-keras\",\"model_sha\":\"bc85ce596945f876256f41515c7501c399fd97ebcb9ab3dd41bf03f8937b4507\"}', 'pipeline_version': '70b2d3b1-5d1e-4253-957d-782873c8a71a', 'elapsed': [1001999, 3339000], 'dropped': [], 'partition': 'engine-6bcd4dc988-njtw8'}</td>\n",
       "    </tr>\n",
       "  </tbody>\n",
       "</table>\n",
       "</div>"
      ],
      "text/plain": [
       "            time  \\\n",
       "0  1736444632648   \n",
       "1  1736444632648   \n",
       "2  1736444632648   \n",
       "3  1736444632648   \n",
       "4  1736444632648   \n",
       "\n",
       "                                                                                                                                                                                                                                                                                                                                                                                                                in  \\\n",
       "0              {'tensor': [-1.0603298, 2.3544967, -3.5638788, 5.138735, -1.2308457, -0.7687824400000001, -3.5881228, 1.8880838, -3.2789674, -3.9563255, 4.099344, -5.653918, -0.8775733, -9.131571, -0.6093538, -3.7480276, -5.0309124, -0.8748149, 1.9870535, 0.7005486, 0.9204422999999999, -0.10414918000000001, 0.32295644, -0.74181414, 0.038412016, 1.0993439, 1.2603409, -0.14662448, -1.4463211999999999]}   \n",
       "1              {'tensor': [-1.0603298, 2.3544967, -3.5638788, 5.138735, -1.2308457, -0.7687824400000001, -3.5881228, 1.8880838, -3.2789674, -3.9563255, 4.099344, -5.653918, -0.8775733, -9.131571, -0.6093538, -3.7480276, -5.0309124, -0.8748149, 1.9870535, 0.7005486, 0.9204422999999999, -0.10414918000000001, 0.32295644, -0.74181414, 0.038412016, 1.0993439, 1.2603409, -0.14662448, -1.4463211999999999]}   \n",
       "2              {'tensor': [-1.0603298, 2.3544967, -3.5638788, 5.138735, -1.2308457, -0.7687824400000001, -3.5881228, 1.8880838, -3.2789674, -3.9563255, 4.099344, -5.653918, -0.8775733, -9.131571, -0.6093538, -3.7480276, -5.0309124, -0.8748149, 1.9870535, 0.7005486, 0.9204422999999999, -0.10414918000000001, 0.32295644, -0.74181414, 0.038412016, 1.0993439, 1.2603409, -0.14662448, -1.4463211999999999]}   \n",
       "3              {'tensor': [-1.0603298, 2.3544967, -3.5638788, 5.138735, -1.2308457, -0.7687824400000001, -3.5881228, 1.8880838, -3.2789674, -3.9563255, 4.099344, -5.653918, -0.8775733, -9.131571, -0.6093538, -3.7480276, -5.0309124, -0.8748149, 1.9870535, 0.7005486, 0.9204422999999999, -0.10414918000000001, 0.32295644, -0.74181414, 0.038412016, 1.0993439, 1.2603409, -0.14662448, -1.4463211999999999]}   \n",
       "4  {'tensor': [0.5817662, 0.09788155, 0.15468194, 0.4754102, -0.19788623, -0.45043448, 0.016654044, -0.025607055, 0.09205616, -0.27839172, 0.059329946, -0.019658541, -0.42250833, -0.12175389, 1.5473095, 0.23916228, 0.3553975, -0.76851654, -0.7000849, -0.11900433, -0.34505169999999996, -1.1065114, 0.25234112000000003, 0.020944182000000002, 0.21992674, 0.25406894, -0.04502251, 0.10867739, 0.25471792]}   \n",
       "\n",
       "                           out       anomaly  \\\n",
       "0    {'dense_1': [0.99300325]}  {'count': 0}   \n",
       "1    {'dense_1': [0.99300325]}  {'count': 0}   \n",
       "2    {'dense_1': [0.99300325]}  {'count': 0}   \n",
       "3    {'dense_1': [0.99300325]}  {'count': 0}   \n",
       "4  {'dense_1': [0.0010916889]}  {'count': 0}   \n",
       "\n",
       "                                                                                                                                                                                                                                                                            metadata  \n",
       "0  {'last_model': '{\"model_name\":\"ccfraud-keras\",\"model_sha\":\"bc85ce596945f876256f41515c7501c399fd97ebcb9ab3dd41bf03f8937b4507\"}', 'pipeline_version': '70b2d3b1-5d1e-4253-957d-782873c8a71a', 'elapsed': [1001999, 3339000], 'dropped': [], 'partition': 'engine-6bcd4dc988-njtw8'}  \n",
       "1  {'last_model': '{\"model_name\":\"ccfraud-keras\",\"model_sha\":\"bc85ce596945f876256f41515c7501c399fd97ebcb9ab3dd41bf03f8937b4507\"}', 'pipeline_version': '70b2d3b1-5d1e-4253-957d-782873c8a71a', 'elapsed': [1001999, 3339000], 'dropped': [], 'partition': 'engine-6bcd4dc988-njtw8'}  \n",
       "2  {'last_model': '{\"model_name\":\"ccfraud-keras\",\"model_sha\":\"bc85ce596945f876256f41515c7501c399fd97ebcb9ab3dd41bf03f8937b4507\"}', 'pipeline_version': '70b2d3b1-5d1e-4253-957d-782873c8a71a', 'elapsed': [1001999, 3339000], 'dropped': [], 'partition': 'engine-6bcd4dc988-njtw8'}  \n",
       "3  {'last_model': '{\"model_name\":\"ccfraud-keras\",\"model_sha\":\"bc85ce596945f876256f41515c7501c399fd97ebcb9ab3dd41bf03f8937b4507\"}', 'pipeline_version': '70b2d3b1-5d1e-4253-957d-782873c8a71a', 'elapsed': [1001999, 3339000], 'dropped': [], 'partition': 'engine-6bcd4dc988-njtw8'}  \n",
       "4  {'last_model': '{\"model_name\":\"ccfraud-keras\",\"model_sha\":\"bc85ce596945f876256f41515c7501c399fd97ebcb9ab3dd41bf03f8937b4507\"}', 'pipeline_version': '70b2d3b1-5d1e-4253-957d-782873c8a71a', 'elapsed': [1001999, 3339000], 'dropped': [], 'partition': 'engine-6bcd4dc988-njtw8'}  "
      ]
     },
     "execution_count": 45,
     "metadata": {},
     "output_type": "execute_result"
    }
   ],
   "source": [
    "df = pd.read_json('curl_response_keras.df.json', orient=\"records\")\n",
    "df.head(5)"
   ]
  },
  {
   "cell_type": "markdown",
   "id": "4f257fc8",
   "metadata": {},
   "source": [
    "### Undeploy Pipeline\n",
    "\n",
    "With our testing complete, we will undeploy the pipeline and return the resources back to the cluster."
   ]
  },
  {
   "cell_type": "code",
   "execution_count": 46,
   "id": "6b339645",
   "metadata": {},
   "outputs": [
    {
     "data": {
      "text/html": [
       "<table><tr><th>name</th> <td>edge-pipeline</td></tr><tr><th>created</th> <td>2025-01-09 17:32:37.860476+00:00</td></tr><tr><th>last_updated</th> <td>2025-01-09 17:43:31.677207+00:00</td></tr><tr><th>deployed</th> <td>False</td></tr><tr><th>workspace_id</th> <td>11</td></tr><tr><th>workspace_name</th> <td>edge-publish-demo</td></tr><tr><th>arch</th> <td>x86</td></tr><tr><th>accel</th> <td>none</td></tr><tr><th>tags</th> <td></td></tr><tr><th>versions</th> <td>70b2d3b1-5d1e-4253-957d-782873c8a71a, 8f9f369e-c77e-4e2f-b281-ac63e0f6be97, 1b4a0791-283d-4a1e-b6de-8720f86f276e, 32c29b68-e570-45d9-adb4-084f6dc873b9, 5faac4ed-3a85-45af-9236-6ae681af50d4, 6160ee2d-912f-4326-be4a-c69396da624a, 08f76bba-a243-480e-845e-5e5487074b95, 8150fcee-baa5-4b83-9721-770511978531, 1a965925-5132-4c04-a9f8-545a952cef78, 414abed4-e02c-4435-a715-e6641db19d75</td></tr><tr><th>steps</th> <td>ccfraud-keras</td></tr><tr><th>published</th> <td>False</td></tr></table>"
      ],
      "text/plain": [
       "{'name': 'edge-pipeline', 'create_time': datetime.datetime(2025, 1, 9, 17, 32, 37, 860476, tzinfo=tzutc()), 'definition': \"[{'ModelInference': {'models': [{'name': 'ccfraud-keras', 'version': '5afd7f34-412c-4e0c-a9a9-714d24d5e632', 'sha': 'bc85ce596945f876256f41515c7501c399fd97ebcb9ab3dd41bf03f8937b4507'}]}}]\"}"
      ]
     },
     "execution_count": 46,
     "metadata": {},
     "output_type": "execute_result"
    }
   ],
   "source": [
    "pipeline.undeploy()"
   ]
  },
  {
   "cell_type": "markdown",
   "id": "87a3e336",
   "metadata": {},
   "source": [
    "### Publish the Pipeline for Edge Deployment\n",
    "\n",
    "It worked! For a demo, we'll take working once as \"tested\". So now that we've tested our pipeline, we are ready to publish it for edge deployment.\n",
    "\n",
    "Publishing it means assembling all of the configuration files and model assets and pushing them to an Open Container Initiative (OCI) repository set in the Wallaroo instance as the Edge Registry service.  DevOps engineers then retrieve that image and deploy it through Docker, Kubernetes, or similar deployments.\n",
    "\n",
    "See [Edge Deployment Registry Guide](https://docs.wallaroo.ai/wallaroo-platform-operations/wallaroo-platform-operations-configure/wallaroo-edge-deployment/) for details on adding an OCI Registry Service to Wallaroo as the Edge Deployment Registry.\n",
    "\n",
    "This is done through the SDK command `wallaroo.pipeline.publish(deployment_config)` which has the following parameters and returns.\n",
    "\n",
    "#### Publish a Pipeline Parameters\n",
    "\n",
    "The `publish` method takes the following parameters.  The containerized pipeline will be pushed to the Edge registry service with the model, pipeline configurations, and other artifacts needed to deploy the pipeline.\n",
    "\n",
    "| Parameter | Type | Description |\n",
    "|---|---|---|\n",
    "| `deployment_config` | `wallaroo.deployment_config.DeploymentConfig` (*Optional*) | Sets the pipeline deployment configuration.  For example:    For more information on pipeline deployment configuration, see the [Wallaroo SDK Essentials Guide: Pipeline Deployment Configuration](https://docs.wallaroo.ai/wallaroo-developer-guides/wallaroo-sdk-guides/wallaroo-sdk-essentials-guide/wallaroo-sdk-essentials-pipelines/wallaroo-sdk-essentials-pipeline-deployment-config/).\n",
    "\n",
    "#### Publish a Pipeline Returns\n",
    "\n",
    "| Field | Type | Description |\n",
    "|---|---|---|\n",
    "| id | integer | Numerical Wallaroo id of the published pipeline. |\n",
    "| pipeline version id | integer | Numerical Wallaroo id of the pipeline version published. |\n",
    "| status | string | The status of the pipeline publication.  Values include:  <ul><li>PendingPublish: The pipeline publication is about to be uploaded or is in the process of being uploaded.</li><li>Published:  The pipeline is published and ready for use.</li></ul> |\n",
    "| Engine URL | string | The URL of the published pipeline engine in the edge registry. |\n",
    "| Pipeline URL | string | The URL of the published pipeline in the edge registry. |\n",
    "| Helm Chart URL | string | The URL of the helm chart for the published pipeline in the edge registry. |\n",
    "| Helm Chart Reference | string | The help chart reference. |\n",
    "| Helm Chart Version | string | The version of the Helm Chart of the published pipeline.  This is also used as the Docker tag. |\n",
    "| Engine Config | `wallaroo.deployment_config.DeploymentConfig` | The pipeline configuration included with the published pipeline. |\n",
    "| Created At | DateTime | When the published pipeline was created. |\n",
    "| Updated At | DateTime | When the published pipeline was updated. |\n",
    "\n",
    "### Publish Example\n",
    "\n",
    "We will now publish the pipeline to our Edge Deployment Registry with the `pipeline.publish(deployment_config)` command.  `deployment_config` is an optional field that specifies the pipeline deployment.  This can be overridden by the DevOps engineer during deployment."
   ]
  },
  {
   "cell_type": "code",
   "execution_count": 47,
   "id": "a87a2a24-1757-4782-bf40-548bcb97e101",
   "metadata": {},
   "outputs": [
    {
     "name": "stdout",
     "output_type": "stream",
     "text": [
      "Waiting for pipeline publish... It may take up to 600 sec.\n",
      "Pipeline is publishing..... Published.\n"
     ]
    },
    {
     "data": {
      "text/html": [
       "\n",
       "          <table>\n",
       "              <tr><td>ID</td><td>1</td></tr>\n",
       "              <tr><td>Pipeline Name</td><td>edge-pipeline</td></tr>\n",
       "              <tr><td>Pipeline Version</td><td>6d0dba17-c135-4d6e-ba84-f80cd1497aec</td></tr>\n",
       "              <tr><td>Status</td><td>Published</td></tr>\n",
       "              <tr><td>Engine URL</td><td><a href='https://ghcr.io/wallaroolabs/doc-samples/engines/proxy/wallaroo/ghcr.io/wallaroolabs/fitzroy-mini:v2024.4.0-5879'>ghcr.io/wallaroolabs/doc-samples/engines/proxy/wallaroo/ghcr.io/wallaroolabs/fitzroy-mini:v2024.4.0-5879</a></td></tr>\n",
       "              <tr><td>Pipeline URL</td><td><a href='https://ghcr.io/wallaroolabs/doc-samples/pipelines/edge-pipeline:6d0dba17-c135-4d6e-ba84-f80cd1497aec'>ghcr.io/wallaroolabs/doc-samples/pipelines/edge-pipeline:6d0dba17-c135-4d6e-ba84-f80cd1497aec</a></td></tr>\n",
       "              <tr><td>Helm Chart URL</td><td>oci://<a href='https://ghcr.io/wallaroolabs/doc-samples/charts/edge-pipeline'>ghcr.io/wallaroolabs/doc-samples/charts/edge-pipeline</a></td></tr>\n",
       "              <tr><td>Helm Chart Reference</td><td>ghcr.io/wallaroolabs/doc-samples/charts@sha256:0d7e8342fec6caec6cc06cefe37d7b2ed327ec18ec7095567b8904adc82b72cb</td></tr>\n",
       "              <tr><td>Helm Chart Version</td><td>0.0.1-6d0dba17-c135-4d6e-ba84-f80cd1497aec</td></tr>\n",
       "              <tr><td>Engine Config</td><td>{'engine': {'resources': {'limits': {'cpu': 1.0, 'memory': '900Mi'}, 'requests': {'cpu': 1.0, 'memory': '900Mi'}, 'accel': 'none', 'arch': 'x86', 'gpu': False}}, 'engineAux': {'autoscale': {'type': 'none'}, 'images': {}}}</td></tr>\n",
       "              <tr><td>User Images</td><td>[]</td></tr>\n",
       "              <tr><td>Created By</td><td>john.hansarick@wallaroo.ai</td></tr>\n",
       "              <tr><td>Created At</td><td>2025-01-09 17:49:23.101017+00:00</td></tr>\n",
       "              <tr><td>Updated At</td><td>2025-01-09 17:49:23.101017+00:00</td></tr>\n",
       "              <tr><td>Replaces</td><td></td></tr>\n",
       "              <tr>\n",
       "                  <td>Docker Run Command</td>\n",
       "                  <td>\n",
       "                      <table><tr><td>\n",
       "<pre style=\"text-align: left\">docker run \\\n",
       "    -p $EDGE_PORT:8080 \\\n",
       "    -e OCI_USERNAME=$OCI_USERNAME \\\n",
       "    -e OCI_PASSWORD=$OCI_PASSWORD \\\n",
       "    -e PIPELINE_URL=ghcr.io/wallaroolabs/doc-samples/pipelines/edge-pipeline:6d0dba17-c135-4d6e-ba84-f80cd1497aec \\\n",
       "    -e CONFIG_CPUS=1.0 --cpus=1.0 --memory=900m \\\n",
       "    ghcr.io/wallaroolabs/doc-samples/engines/proxy/wallaroo/ghcr.io/wallaroolabs/fitzroy-mini:v2024.4.0-5879</pre></td></tr></table>\n",
       "                      <br />\n",
       "                      <i>\n",
       "                          Note: Please set the <code>EDGE_PORT</code>, <code>OCI_USERNAME</code>, and <code>OCI_PASSWORD</code> environment variables.\n",
       "                      </i>\n",
       "                  </td>\n",
       "              </tr>\n",
       "              <tr>\n",
       "                  <td>Helm Install Command</td>\n",
       "                  <td>\n",
       "                      <table><tr><td>\n",
       "<pre style=\"text-align: left\">helm install --atomic $HELM_INSTALL_NAME \\\n",
       "    oci://ghcr.io/wallaroolabs/doc-samples/charts/edge-pipeline \\\n",
       "    --namespace $HELM_INSTALL_NAMESPACE \\\n",
       "    --version 0.0.1-6d0dba17-c135-4d6e-ba84-f80cd1497aec \\\n",
       "    --set ociRegistry.username=$OCI_USERNAME \\\n",
       "    --set ociRegistry.password=$OCI_PASSWORD</pre></td></tr></table>\n",
       "                      <br />\n",
       "                      <i>\n",
       "                          Note: Please set the <code>HELM_INSTALL_NAME</code>, <code>HELM_INSTALL_NAMESPACE</code>,\n",
       "                          <code>OCI_USERNAME</code>, and <code>OCI_PASSWORD</code> environment variables.\n",
       "                      </i>\n",
       "                  </td>\n",
       "              </tr>\n",
       "              \n",
       "          </table>\n",
       "        "
      ],
      "text/plain": [
       "PipelinePublish(created_at=datetime.datetime(2025, 1, 9, 17, 49, 23, 101017, tzinfo=tzutc()), docker_run_variables={'PIPELINE_URL': 'ghcr.io/wallaroolabs/doc-samples/pipelines/edge-pipeline:6d0dba17-c135-4d6e-ba84-f80cd1497aec'}, engine_config={'engine': {'resources': {'limits': {'cpu': 1.0, 'memory': '900Mi'}, 'requests': {'cpu': 1.0, 'memory': '900Mi'}, 'accel': 'none', 'arch': 'x86', 'gpu': False}}, 'engineAux': {'autoscale': {'type': 'none'}, 'images': {}}}, id=1, pipeline_name='edge-pipeline', pipeline_version_id=17, replaces=[], status='Published', updated_at=datetime.datetime(2025, 1, 9, 17, 49, 23, 101017, tzinfo=tzutc()), user_images=[], created_by='0c74dc8a-39cb-4b1e-8ba8-4013193b859b', created_on_version='2024.4.0', edge_bundles=<wallaroo.wallaroo_ml_ops_api_client.types.Unset object at 0x12ecb36a0>, engine_url='ghcr.io/wallaroolabs/doc-samples/engines/proxy/wallaroo/ghcr.io/wallaroolabs/fitzroy-mini:v2024.4.0-5879', error=None, helm={'reference': 'ghcr.io/wallaroolabs/doc-samples/charts@sha256:0d7e8342fec6caec6cc06cefe37d7b2ed327ec18ec7095567b8904adc82b72cb', 'values': {}, 'chart': 'ghcr.io/wallaroolabs/doc-samples/charts/edge-pipeline', 'version': '0.0.1-6d0dba17-c135-4d6e-ba84-f80cd1497aec'}, pipeline_url='ghcr.io/wallaroolabs/doc-samples/pipelines/edge-pipeline:6d0dba17-c135-4d6e-ba84-f80cd1497aec', pipeline_version_name='6d0dba17-c135-4d6e-ba84-f80cd1497aec', additional_properties={})"
      ]
     },
     "metadata": {},
     "output_type": "display_data"
    },
    {
     "name": "stdout",
     "output_type": "stream",
     "text": [
      "Waiting for pipeline publish... It may take up to 600 sec.\n",
      "Pipeline is publishing.... Published.\n"
     ]
    },
    {
     "data": {
      "text/html": [
       "\n",
       "          <table>\n",
       "              <tr><td>ID</td><td>2</td></tr>\n",
       "              <tr><td>Pipeline Name</td><td>edge-pipeline</td></tr>\n",
       "              <tr><td>Pipeline Version</td><td>a8873dfa-f42f-48b1-8577-9a3f60f96ec8</td></tr>\n",
       "              <tr><td>Status</td><td>Published</td></tr>\n",
       "              <tr><td>Engine URL</td><td><a href='https://ghcr.io/wallaroolabs/doc-samples/engines/proxy/wallaroo/ghcr.io/wallaroolabs/fitzroy-mini:v2024.4.0-5879'>ghcr.io/wallaroolabs/doc-samples/engines/proxy/wallaroo/ghcr.io/wallaroolabs/fitzroy-mini:v2024.4.0-5879</a></td></tr>\n",
       "              <tr><td>Pipeline URL</td><td><a href='https://ghcr.io/wallaroolabs/doc-samples/pipelines/edge-pipeline:a8873dfa-f42f-48b1-8577-9a3f60f96ec8'>ghcr.io/wallaroolabs/doc-samples/pipelines/edge-pipeline:a8873dfa-f42f-48b1-8577-9a3f60f96ec8</a></td></tr>\n",
       "              <tr><td>Helm Chart URL</td><td>oci://<a href='https://ghcr.io/wallaroolabs/doc-samples/charts/edge-pipeline'>ghcr.io/wallaroolabs/doc-samples/charts/edge-pipeline</a></td></tr>\n",
       "              <tr><td>Helm Chart Reference</td><td>ghcr.io/wallaroolabs/doc-samples/charts@sha256:b319f074739441dd0970a29a4168af315594f1febc96beaa8cb0d9f6e5dcf03e</td></tr>\n",
       "              <tr><td>Helm Chart Version</td><td>0.0.1-a8873dfa-f42f-48b1-8577-9a3f60f96ec8</td></tr>\n",
       "              <tr><td>Engine Config</td><td>{'engine': {'resources': {'limits': {'cpu': 1.0, 'memory': '900Mi'}, 'requests': {'cpu': 1.0, 'memory': '900Mi'}, 'accel': 'none', 'arch': 'x86', 'gpu': False}}, 'engineAux': {'autoscale': {'type': 'none'}, 'images': {}}}</td></tr>\n",
       "              <tr><td>User Images</td><td>[]</td></tr>\n",
       "              <tr><td>Created By</td><td>john.hansarick@wallaroo.ai</td></tr>\n",
       "              <tr><td>Created At</td><td>2025-01-09 17:49:46.587119+00:00</td></tr>\n",
       "              <tr><td>Updated At</td><td>2025-01-09 17:49:46.587119+00:00</td></tr>\n",
       "              <tr><td>Replaces</td><td></td></tr>\n",
       "              <tr>\n",
       "                  <td>Docker Run Command</td>\n",
       "                  <td>\n",
       "                      <table><tr><td>\n",
       "<pre style=\"text-align: left\">docker run \\\n",
       "    -p $EDGE_PORT:8080 \\\n",
       "    -e OCI_USERNAME=$OCI_USERNAME \\\n",
       "    -e OCI_PASSWORD=$OCI_PASSWORD \\\n",
       "    -e PIPELINE_URL=ghcr.io/wallaroolabs/doc-samples/pipelines/edge-pipeline:a8873dfa-f42f-48b1-8577-9a3f60f96ec8 \\\n",
       "    -e CONFIG_CPUS=1.0 --cpus=1.0 --memory=900m \\\n",
       "    ghcr.io/wallaroolabs/doc-samples/engines/proxy/wallaroo/ghcr.io/wallaroolabs/fitzroy-mini:v2024.4.0-5879</pre></td></tr></table>\n",
       "                      <br />\n",
       "                      <i>\n",
       "                          Note: Please set the <code>EDGE_PORT</code>, <code>OCI_USERNAME</code>, and <code>OCI_PASSWORD</code> environment variables.\n",
       "                      </i>\n",
       "                  </td>\n",
       "              </tr>\n",
       "              <tr>\n",
       "                  <td>Helm Install Command</td>\n",
       "                  <td>\n",
       "                      <table><tr><td>\n",
       "<pre style=\"text-align: left\">helm install --atomic $HELM_INSTALL_NAME \\\n",
       "    oci://ghcr.io/wallaroolabs/doc-samples/charts/edge-pipeline \\\n",
       "    --namespace $HELM_INSTALL_NAMESPACE \\\n",
       "    --version 0.0.1-a8873dfa-f42f-48b1-8577-9a3f60f96ec8 \\\n",
       "    --set ociRegistry.username=$OCI_USERNAME \\\n",
       "    --set ociRegistry.password=$OCI_PASSWORD</pre></td></tr></table>\n",
       "                      <br />\n",
       "                      <i>\n",
       "                          Note: Please set the <code>HELM_INSTALL_NAME</code>, <code>HELM_INSTALL_NAMESPACE</code>,\n",
       "                          <code>OCI_USERNAME</code>, and <code>OCI_PASSWORD</code> environment variables.\n",
       "                      </i>\n",
       "                  </td>\n",
       "              </tr>\n",
       "              \n",
       "          </table>\n",
       "        "
      ],
      "text/plain": [
       "PipelinePublish(created_at=datetime.datetime(2025, 1, 9, 17, 49, 46, 587119, tzinfo=tzutc()), docker_run_variables={'PIPELINE_URL': 'ghcr.io/wallaroolabs/doc-samples/pipelines/edge-pipeline:a8873dfa-f42f-48b1-8577-9a3f60f96ec8'}, engine_config={'engine': {'resources': {'limits': {'cpu': 1.0, 'memory': '900Mi'}, 'requests': {'cpu': 1.0, 'memory': '900Mi'}, 'accel': 'none', 'arch': 'x86', 'gpu': False}}, 'engineAux': {'autoscale': {'type': 'none'}, 'images': {}}}, id=2, pipeline_name='edge-pipeline', pipeline_version_id=18, replaces=[], status='Published', updated_at=datetime.datetime(2025, 1, 9, 17, 49, 46, 587119, tzinfo=tzutc()), user_images=[], created_by='0c74dc8a-39cb-4b1e-8ba8-4013193b859b', created_on_version='2024.4.0', edge_bundles=<wallaroo.wallaroo_ml_ops_api_client.types.Unset object at 0x12ecb36a0>, engine_url='ghcr.io/wallaroolabs/doc-samples/engines/proxy/wallaroo/ghcr.io/wallaroolabs/fitzroy-mini:v2024.4.0-5879', error=None, helm={'reference': 'ghcr.io/wallaroolabs/doc-samples/charts@sha256:b319f074739441dd0970a29a4168af315594f1febc96beaa8cb0d9f6e5dcf03e', 'values': {}, 'chart': 'ghcr.io/wallaroolabs/doc-samples/charts/edge-pipeline', 'version': '0.0.1-a8873dfa-f42f-48b1-8577-9a3f60f96ec8'}, pipeline_url='ghcr.io/wallaroolabs/doc-samples/pipelines/edge-pipeline:a8873dfa-f42f-48b1-8577-9a3f60f96ec8', pipeline_version_name='a8873dfa-f42f-48b1-8577-9a3f60f96ec8', additional_properties={})"
      ]
     },
     "metadata": {},
     "output_type": "display_data"
    }
   ],
   "source": [
    "xgb_pub=pipeline_xgb_version.publish(deploy_config)\n",
    "display(xgb_pub)\n",
    "keras_pub=keras_pipeline_version.publish(deploy_config)\n",
    "display(keras_pub)"
   ]
  },
  {
   "cell_type": "markdown",
   "id": "fb09c1c5",
   "metadata": {},
   "source": [
    "### List Published Pipelines\n",
    "\n",
    "The method `wallaroo.client.list_pipelines()` shows a list of all pipelines in the Wallaroo instance, and includes the `published` field that indicates whether the pipeline was published to the registry (`True`), or has not yet been published (`False`)."
   ]
  },
  {
   "cell_type": "code",
   "execution_count": 48,
   "id": "919d028f-25c8-4caf-9a4d-e83b1f0b2991",
   "metadata": {},
   "outputs": [
    {
     "data": {
      "text/html": [
       "<table><tr><th>name</th><th>created</th><th>last_updated</th><th>deployed</th><th>workspace_id</th><th>workspace_name</th><th>arch</th><th>accel</th><th>tags</th><th>versions</th><th>steps</th><th>published</th></tr><tr><td>assay-demonstration-tutorial</td><td>2024-19-Dec 16:23:10</td><td>2024-19-Dec 16:23:10</td><td>False</td><td>9</td><td>assay-demonstration-tutorial-2</td><td>x86</td><td>none</td><td></td><td>891c2825-2a2a-41d5-9cc0-d163eba07225, 3d26461a-a803-4309-a956-3d1248b2d7af</td><td>house-price-estimator</td><td>False</td></tr><tr><td>mlflowstatsmodelpipeline</td><td>2024-20-Dec 18:05:58</td><td>2024-20-Dec 18:20:02</td><td>True</td><td>10</td><td>mlflowstatsmodelworkspace</td><td>x86</td><td>none</td><td></td><td>531c2727-9091-4e96-ab57-682734005b0d, e4168da0-7517-4507-a230-b7135bdf7883, 2e6612a5-5d47-402f-b659-1ee165254ec5, c85d0b6b-04a8-4592-8730-06f861e134b5</td><td>mlflowstatmodels</td><td>False</td></tr><tr><td>edge-pipeline</td><td>2025-09-Jan 17:32:37</td><td>2025-09-Jan 17:49:45</td><td>False</td><td>11</td><td>edge-publish-demo</td><td>x86</td><td>none</td><td></td><td>a8873dfa-f42f-48b1-8577-9a3f60f96ec8, 6d0dba17-c135-4d6e-ba84-f80cd1497aec, 70b2d3b1-5d1e-4253-957d-782873c8a71a, 8f9f369e-c77e-4e2f-b281-ac63e0f6be97, 1b4a0791-283d-4a1e-b6de-8720f86f276e, 32c29b68-e570-45d9-adb4-084f6dc873b9, 5faac4ed-3a85-45af-9236-6ae681af50d4, 6160ee2d-912f-4326-be4a-c69396da624a, 08f76bba-a243-480e-845e-5e5487074b95, 8150fcee-baa5-4b83-9721-770511978531, 1a965925-5132-4c04-a9f8-545a952cef78, 414abed4-e02c-4435-a715-e6641db19d75</td><td>ccfraud-keras</td><td>True</td></tr></table>"
      ],
      "text/plain": [
       "[{'name': 'assay-demonstration-tutorial', 'create_time': datetime.datetime(2024, 12, 19, 16, 23, 10, 22182, tzinfo=tzutc()), 'definition': '[]'},\n",
       " {'name': 'mlflowstatsmodelpipeline', 'create_time': datetime.datetime(2024, 12, 20, 18, 5, 58, 687808, tzinfo=tzutc()), 'definition': '[]'},\n",
       " {'name': 'edge-pipeline', 'create_time': datetime.datetime(2025, 1, 9, 17, 32, 37, 860476, tzinfo=tzutc()), 'definition': '[]'}]"
      ]
     },
     "execution_count": 48,
     "metadata": {},
     "output_type": "execute_result"
    }
   ],
   "source": [
    "wl.list_pipelines()"
   ]
  },
  {
   "cell_type": "markdown",
   "id": "8b65c7a2",
   "metadata": {},
   "source": [
    "### List Publishes from a Pipeline\n",
    "\n",
    "All publishes created from a pipeline are displayed with the `wallaroo.pipeline.publishes` method.  The `pipeline_version_id` is used to know what version of the pipeline was used in that specific publish.  This allows for pipelines to be updated over time, and newer versions to be sent and tracked to the Edge Deployment Registry service.\n",
    "\n",
    "#### List Publishes Parameters\n",
    "\n",
    "N/A\n",
    "\n",
    "#### List Publishes Returns\n",
    "\n",
    "A List of the following fields:\n",
    "\n",
    "| Field | Type | Description |\n",
    "|---|---|---|\n",
    "| id | integer | Numerical Wallaroo id of the published pipeline. |\n",
    "| pipeline_version_id | integer | Numerical Wallaroo id of the pipeline version published. |\n",
    "| engine_url | string | The URL of the published pipeline engine in the edge registry. |\n",
    "| pipeline_url | string | The URL of the published pipeline in the edge registry. |\n",
    "| created_by | string | The email address of the user that published the pipeline.\n",
    "| Created At | DateTime | When the published pipeline was created. |\n",
    "| Updated At | DateTime | When the published pipeline was updated. |"
   ]
  },
  {
   "cell_type": "code",
   "execution_count": 49,
   "id": "6cdde60c-bf02-4180-83fd-aaedae6ca15e",
   "metadata": {},
   "outputs": [
    {
     "data": {
      "text/html": [
       "<table><tr><th>id</th><th>pipeline_version_name</th><th>engine_url</th><th>pipeline_url</th><th>created_by</th><th>created_at</th><th>updated_at</th></tr><tr><td>1</td><td>6d0dba17-c135-4d6e-ba84-f80cd1497aec</td><td><a href='https://ghcr.io/wallaroolabs/doc-samples/engines/proxy/wallaroo/ghcr.io/wallaroolabs/fitzroy-mini:v2024.4.0-5879'>ghcr.io/wallaroolabs/doc-samples/engines/proxy/wallaroo/ghcr.io/wallaroolabs/fitzroy-mini:v2024.4.0-5879</a></td><td><a href='https://ghcr.io/wallaroolabs/doc-samples/pipelines/edge-pipeline:6d0dba17-c135-4d6e-ba84-f80cd1497aec'>ghcr.io/wallaroolabs/doc-samples/pipelines/edge-pipeline:6d0dba17-c135-4d6e-ba84-f80cd1497aec</a></td><td>john.hansarick@wallaroo.ai</td><td>2025-09-Jan 17:49:23</td><td>2025-09-Jan 17:49:23</td></tr><tr><td>2</td><td>a8873dfa-f42f-48b1-8577-9a3f60f96ec8</td><td><a href='https://ghcr.io/wallaroolabs/doc-samples/engines/proxy/wallaroo/ghcr.io/wallaroolabs/fitzroy-mini:v2024.4.0-5879'>ghcr.io/wallaroolabs/doc-samples/engines/proxy/wallaroo/ghcr.io/wallaroolabs/fitzroy-mini:v2024.4.0-5879</a></td><td><a href='https://ghcr.io/wallaroolabs/doc-samples/pipelines/edge-pipeline:a8873dfa-f42f-48b1-8577-9a3f60f96ec8'>ghcr.io/wallaroolabs/doc-samples/pipelines/edge-pipeline:a8873dfa-f42f-48b1-8577-9a3f60f96ec8</a></td><td>john.hansarick@wallaroo.ai</td><td>2025-09-Jan 17:49:46</td><td>2025-09-Jan 17:49:46</td></tr></table>"
      ],
      "text/plain": [
       "[PipelinePublish(created_at=datetime.datetime(2025, 1, 9, 17, 49, 23, 101017, tzinfo=tzutc()), docker_run_variables={}, engine_config={'engine': {'resources': {'limits': {'cpu': 1.0, 'memory': '900Mi'}, 'requests': {'cpu': 1.0, 'memory': '900Mi'}, 'arch': 'x86', 'accel': 'none', 'gpu': False}}, 'engineAux': {'images': {}, 'autoscale': {'type': 'none'}}}, id=1, pipeline_name='edge-pipeline', pipeline_version_id=17, replaces=[], status='Published', updated_at=datetime.datetime(2025, 1, 9, 17, 49, 23, 101017, tzinfo=tzutc()), user_images=[], created_by='0c74dc8a-39cb-4b1e-8ba8-4013193b859b', created_on_version='2024.4.0', edge_bundles=<wallaroo.wallaroo_ml_ops_api_client.types.Unset object at 0x12ecb36a0>, engine_url='ghcr.io/wallaroolabs/doc-samples/engines/proxy/wallaroo/ghcr.io/wallaroolabs/fitzroy-mini:v2024.4.0-5879', error=None, helm={'reference': 'ghcr.io/wallaroolabs/doc-samples/charts@sha256:0d7e8342fec6caec6cc06cefe37d7b2ed327ec18ec7095567b8904adc82b72cb', 'chart': 'ghcr.io/wallaroolabs/doc-samples/charts/edge-pipeline', 'version': '0.0.1-6d0dba17-c135-4d6e-ba84-f80cd1497aec', 'values': {}}, pipeline_url='ghcr.io/wallaroolabs/doc-samples/pipelines/edge-pipeline:6d0dba17-c135-4d6e-ba84-f80cd1497aec', pipeline_version_name='6d0dba17-c135-4d6e-ba84-f80cd1497aec', additional_properties={}),\n",
       " PipelinePublish(created_at=datetime.datetime(2025, 1, 9, 17, 49, 46, 587119, tzinfo=tzutc()), docker_run_variables={}, engine_config={'engine': {'resources': {'limits': {'cpu': 1.0, 'memory': '900Mi'}, 'requests': {'cpu': 1.0, 'memory': '900Mi'}, 'arch': 'x86', 'accel': 'none', 'gpu': False}}, 'engineAux': {'images': {}, 'autoscale': {'type': 'none'}}}, id=2, pipeline_name='edge-pipeline', pipeline_version_id=18, replaces=[], status='Published', updated_at=datetime.datetime(2025, 1, 9, 17, 49, 46, 587119, tzinfo=tzutc()), user_images=[], created_by='0c74dc8a-39cb-4b1e-8ba8-4013193b859b', created_on_version='2024.4.0', edge_bundles=<wallaroo.wallaroo_ml_ops_api_client.types.Unset object at 0x12ecb36a0>, engine_url='ghcr.io/wallaroolabs/doc-samples/engines/proxy/wallaroo/ghcr.io/wallaroolabs/fitzroy-mini:v2024.4.0-5879', error=None, helm={'reference': 'ghcr.io/wallaroolabs/doc-samples/charts@sha256:b319f074739441dd0970a29a4168af315594f1febc96beaa8cb0d9f6e5dcf03e', 'chart': 'ghcr.io/wallaroolabs/doc-samples/charts/edge-pipeline', 'version': '0.0.1-a8873dfa-f42f-48b1-8577-9a3f60f96ec8', 'values': {}}, pipeline_url='ghcr.io/wallaroolabs/doc-samples/pipelines/edge-pipeline:a8873dfa-f42f-48b1-8577-9a3f60f96ec8', pipeline_version_name='a8873dfa-f42f-48b1-8577-9a3f60f96ec8', additional_properties={})]"
      ]
     },
     "execution_count": 49,
     "metadata": {},
     "output_type": "execute_result"
    }
   ],
   "source": [
    "pipeline.publishes()"
   ]
  },
  {
   "cell_type": "markdown",
   "id": "d82258b2-c1c0-4c65-9d02-7d334db5cc34",
   "metadata": {},
   "source": [
    "## DevOps - Pipeline Edge Deployment\n",
    "\n",
    "Once a pipeline is deployed to the Edge Registry service, it can be deployed in environments such as Docker, Kubernetes, or similar container running services by a DevOps engineer as a Wallaroo Server.\n",
    "\n",
    "The following guides will demonstrate publishing a Wallaroo Pipeline as a Wallaroo Server.\n",
    "\n",
    "### Add Edge Location\n",
    "\n",
    "Wallaroo Servers can optionally connect to the Wallaroo Ops instance and transmit their inference results.  These are added to the pipeline logs for the published pipeline the Wallaroo Server is associated with.\n",
    "\n",
    "Wallaroo Servers are added with the `wallaroo.pipeline_publish.add_edge(name: string)` method.  The `name` is the unique primary key for each edge added to the pipeline publish and must be unique.\n",
    "\n",
    "This returns a Publish Edge with the following fields:\n",
    "\n",
    "| Field | Type | Description |\n",
    "|---|---|---|\n",
    "| `id` | Integer | The integer ID of the pipeline publish.|\n",
    "| `created_at` | DateTime | The DateTime of the pipeline publish. |\n",
    "| `docker_run_variables` | String | The Docker variables in UUID format that include the following: The `BUNDLE_VERSION`, `EDGE_NAME`, `JOIN_TOKEN_`, `OPSCENTER_HOST`, `PIPELINE_URL`, and `WORKSPACE_ID`.\n",
    "| `engine_config` | String | The Wallaroo `wallaroo.deployment_config.DeploymentConfig` for the pipeline. |\n",
    "| `pipeline_version_id` | Integer | The integer identifier of the pipeline version published. |\n",
    "| `status` | String | The status of the publish.  `Published` is a successful publish.|\n",
    "| `updated_at` | DateTime | The DateTime when the pipeline publish was updated. |\n",
    "| `user_images` | List(String) | User images used in the pipeline publish. |\n",
    "| `created_by` | String | The UUID of the Wallaroo user that created the pipeline publish. |\n",
    "| `engine_url` | String | The URL for the published pipeline's Wallaroo engine in the OCI registry. |\n",
    "| `error` | String | Any errors logged. |\n",
    "| `helm` | String | The helm chart, helm reference and helm version. |\n",
    "| `pipeline_url` | String | The URL for the published pipeline's container in the OCI registry. |\n",
    "| `pipeline_version_name` | String | The UUID identifier of the pipeline version published. |\n",
    "| `additional_properties` | String | Any other identities. |"
   ]
  },
  {
   "cell_type": "code",
   "execution_count": 50,
   "id": "565a55e1",
   "metadata": {},
   "outputs": [
    {
     "data": {
      "text/html": [
       "\n",
       "          <table>\n",
       "              <tr><td>ID</td><td>1</td></tr>\n",
       "              <tr><td>Pipeline Name</td><td>edge-pipeline</td></tr>\n",
       "              <tr><td>Pipeline Version</td><td>6d0dba17-c135-4d6e-ba84-f80cd1497aec</td></tr>\n",
       "              <tr><td>Status</td><td>Published</td></tr>\n",
       "              <tr><td>Engine URL</td><td><a href='https://ghcr.io/wallaroolabs/doc-samples/engines/proxy/wallaroo/ghcr.io/wallaroolabs/fitzroy-mini:v2024.4.0-5879'>ghcr.io/wallaroolabs/doc-samples/engines/proxy/wallaroo/ghcr.io/wallaroolabs/fitzroy-mini:v2024.4.0-5879</a></td></tr>\n",
       "              <tr><td>Pipeline URL</td><td><a href='https://ghcr.io/wallaroolabs/doc-samples/pipelines/edge-pipeline:6d0dba17-c135-4d6e-ba84-f80cd1497aec'>ghcr.io/wallaroolabs/doc-samples/pipelines/edge-pipeline:6d0dba17-c135-4d6e-ba84-f80cd1497aec</a></td></tr>\n",
       "              <tr><td>Helm Chart URL</td><td>oci://<a href='https://ghcr.io/wallaroolabs/doc-samples/charts/edge-pipeline'>ghcr.io/wallaroolabs/doc-samples/charts/edge-pipeline</a></td></tr>\n",
       "              <tr><td>Helm Chart Reference</td><td>ghcr.io/wallaroolabs/doc-samples/charts@sha256:0d7e8342fec6caec6cc06cefe37d7b2ed327ec18ec7095567b8904adc82b72cb</td></tr>\n",
       "              <tr><td>Helm Chart Version</td><td>0.0.1-6d0dba17-c135-4d6e-ba84-f80cd1497aec</td></tr>\n",
       "              <tr><td>Engine Config</td><td>{'engine': {'resources': {'limits': {'cpu': 1.0, 'memory': '900Mi'}, 'requests': {'cpu': 1.0, 'memory': '900Mi'}, 'accel': 'none', 'arch': 'x86', 'gpu': False}}, 'engineAux': {'autoscale': {'type': 'none'}, 'images': {}}}</td></tr>\n",
       "              <tr><td>User Images</td><td>[]</td></tr>\n",
       "              <tr><td>Created By</td><td>john.hansarick@wallaroo.ai</td></tr>\n",
       "              <tr><td>Created At</td><td>2025-01-09 17:49:23.101017+00:00</td></tr>\n",
       "              <tr><td>Updated At</td><td>2025-01-09 17:49:23.101017+00:00</td></tr>\n",
       "              <tr><td>Replaces</td><td></td></tr>\n",
       "              <tr>\n",
       "                  <td>Docker Run Command</td>\n",
       "                  <td>\n",
       "                      <table><tr><td>\n",
       "<pre style=\"text-align: left\">docker run -v $PERSISTENT_VOLUME_DIR:/persist \\\n",
       "    -p $EDGE_PORT:8080 \\\n",
       "    -e OCI_USERNAME=$OCI_USERNAME \\\n",
       "    -e OCI_PASSWORD=$OCI_PASSWORD \\\n",
       "    -e EDGE_BUNDLE=ZXhwb3J0IEJVTkRMRV9WRVJTSU9OPTEKZXhwb3J0IENPTkZJR19DUFVTPTEKZXhwb3J0IEVER0VfTkFNRT14Z2ItY2NmcmF1ZC1lZGdlLXB1Ymxpc2gKZXhwb3J0IE9QU0NFTlRFUl9IT1NUPWRvYy10ZXN0LndhbGxhcm9vY29tbXVuaXR5Lm5pbmphCmV4cG9ydCBQSVBFTElORV9VUkw9Z2hjci5pby93YWxsYXJvb2xhYnMvZG9jLXNhbXBsZXMvcGlwZWxpbmVzL2VkZ2UtcGlwZWxpbmU6NmQwZGJhMTctYzEzNS00ZDZlLWJhODQtZjgwY2QxNDk3YWVjCmV4cG9ydCBKT0lOX1RPS0VOPWQ0NzI2YzJkLTFjMzItNGJmZS1iOGY1LWQzYjRmYzBiZjdmYwpleHBvcnQgT0NJX1JFR0lTVFJZPWdoY3IuaW8=\\\n",
       "    -e PIPELINE_URL=ghcr.io/wallaroolabs/doc-samples/pipelines/edge-pipeline:6d0dba17-c135-4d6e-ba84-f80cd1497aec \\\n",
       "    -e CONFIG_CPUS=1.0 --cpus=1.0 --memory=900m \\\n",
       "    ghcr.io/wallaroolabs/doc-samples/engines/proxy/wallaroo/ghcr.io/wallaroolabs/fitzroy-mini:v2024.4.0-5879</pre></td></tr></table>\n",
       "                      <br />\n",
       "                      <i>\n",
       "                          Note: Please set the <code>PERSISTENT_VOLUME_DIR</code>, <code>EDGE_PORT</code>, <code>OCI_USERNAME</code>, and <code>OCI_PASSWORD</code> environment variables.\n",
       "                      </i>\n",
       "                  </td>\n",
       "              </tr>\n",
       "              <tr>\n",
       "                  <td>Helm Install Command</td>\n",
       "                  <td>\n",
       "                      <table><tr><td>\n",
       "<pre style=\"text-align: left\">helm install --atomic $HELM_INSTALL_NAME \\\n",
       "    oci://ghcr.io/wallaroolabs/doc-samples/charts/edge-pipeline \\\n",
       "    --namespace $HELM_INSTALL_NAMESPACE \\\n",
       "    --version 0.0.1-6d0dba17-c135-4d6e-ba84-f80cd1497aec \\\n",
       "    --set ociRegistry.username=$OCI_USERNAME \\\n",
       "    --set ociRegistry.password=$OCI_PASSWORD \\\n",
       "    --set edgeBundle=ZXhwb3J0IEJVTkRMRV9WRVJTSU9OPTEKZXhwb3J0IENPTkZJR19DUFVTPTEKZXhwb3J0IEVER0VfTkFNRT14Z2ItY2NmcmF1ZC1lZGdlLXB1Ymxpc2gKZXhwb3J0IE9QU0NFTlRFUl9IT1NUPWRvYy10ZXN0LndhbGxhcm9vY29tbXVuaXR5Lm5pbmphCmV4cG9ydCBQSVBFTElORV9VUkw9Z2hjci5pby93YWxsYXJvb2xhYnMvZG9jLXNhbXBsZXMvcGlwZWxpbmVzL2VkZ2UtcGlwZWxpbmU6NmQwZGJhMTctYzEzNS00ZDZlLWJhODQtZjgwY2QxNDk3YWVjCmV4cG9ydCBKT0lOX1RPS0VOPWQ0NzI2YzJkLTFjMzItNGJmZS1iOGY1LWQzYjRmYzBiZjdmYwpleHBvcnQgT0NJX1JFR0lTVFJZPWdoY3IuaW8=</pre></td></tr></table>\n",
       "                      <br />\n",
       "                      <i>\n",
       "                          Note: Please set the <code>HELM_INSTALL_NAME</code>, <code>HELM_INSTALL_NAMESPACE</code>,\n",
       "                          <code>OCI_USERNAME</code>, and <code>OCI_PASSWORD</code> environment variables.\n",
       "                      </i>\n",
       "                  </td>\n",
       "              </tr>\n",
       "              \n",
       "          </table>\n",
       "        "
      ],
      "text/plain": [
       "PipelinePublish(created_at=datetime.datetime(2025, 1, 9, 17, 49, 23, 101017, tzinfo=tzutc()), docker_run_variables={'EDGE_BUNDLE': 'ZXhwb3J0IEJVTkRMRV9WRVJTSU9OPTEKZXhwb3J0IENPTkZJR19DUFVTPTEKZXhwb3J0IEVER0VfTkFNRT14Z2ItY2NmcmF1ZC1lZGdlLXB1Ymxpc2gKZXhwb3J0IE9QU0NFTlRFUl9IT1NUPWRvYy10ZXN0LndhbGxhcm9vY29tbXVuaXR5Lm5pbmphCmV4cG9ydCBQSVBFTElORV9VUkw9Z2hjci5pby93YWxsYXJvb2xhYnMvZG9jLXNhbXBsZXMvcGlwZWxpbmVzL2VkZ2UtcGlwZWxpbmU6NmQwZGJhMTctYzEzNS00ZDZlLWJhODQtZjgwY2QxNDk3YWVjCmV4cG9ydCBKT0lOX1RPS0VOPWQ0NzI2YzJkLTFjMzItNGJmZS1iOGY1LWQzYjRmYzBiZjdmYwpleHBvcnQgT0NJX1JFR0lTVFJZPWdoY3IuaW8=', 'PIPELINE_URL': 'ghcr.io/wallaroolabs/doc-samples/pipelines/edge-pipeline:6d0dba17-c135-4d6e-ba84-f80cd1497aec'}, engine_config={'engine': {'resources': {'limits': {'cpu': 1.0, 'memory': '900Mi'}, 'requests': {'cpu': 1.0, 'memory': '900Mi'}, 'accel': 'none', 'arch': 'x86', 'gpu': False}}, 'engineAux': {'autoscale': {'type': 'none'}, 'images': {}}}, id=1, pipeline_name='edge-pipeline', pipeline_version_id=17, replaces=[], status='Published', updated_at=datetime.datetime(2025, 1, 9, 17, 49, 23, 101017, tzinfo=tzutc()), user_images=[], created_by='0c74dc8a-39cb-4b1e-8ba8-4013193b859b', created_on_version='2024.4.0', edge_bundles=<wallaroo.wallaroo_ml_ops_api_client.types.Unset object at 0x12ecb36a0>, engine_url='ghcr.io/wallaroolabs/doc-samples/engines/proxy/wallaroo/ghcr.io/wallaroolabs/fitzroy-mini:v2024.4.0-5879', error=None, helm={'reference': 'ghcr.io/wallaroolabs/doc-samples/charts@sha256:0d7e8342fec6caec6cc06cefe37d7b2ed327ec18ec7095567b8904adc82b72cb', 'values': {'edgeBundle': 'ZXhwb3J0IEJVTkRMRV9WRVJTSU9OPTEKZXhwb3J0IENPTkZJR19DUFVTPTEKZXhwb3J0IEVER0VfTkFNRT14Z2ItY2NmcmF1ZC1lZGdlLXB1Ymxpc2gKZXhwb3J0IE9QU0NFTlRFUl9IT1NUPWRvYy10ZXN0LndhbGxhcm9vY29tbXVuaXR5Lm5pbmphCmV4cG9ydCBQSVBFTElORV9VUkw9Z2hjci5pby93YWxsYXJvb2xhYnMvZG9jLXNhbXBsZXMvcGlwZWxpbmVzL2VkZ2UtcGlwZWxpbmU6NmQwZGJhMTctYzEzNS00ZDZlLWJhODQtZjgwY2QxNDk3YWVjCmV4cG9ydCBKT0lOX1RPS0VOPWQ0NzI2YzJkLTFjMzItNGJmZS1iOGY1LWQzYjRmYzBiZjdmYwpleHBvcnQgT0NJX1JFR0lTVFJZPWdoY3IuaW8='}, 'chart': 'ghcr.io/wallaroolabs/doc-samples/charts/edge-pipeline', 'version': '0.0.1-6d0dba17-c135-4d6e-ba84-f80cd1497aec'}, pipeline_url='ghcr.io/wallaroolabs/doc-samples/pipelines/edge-pipeline:6d0dba17-c135-4d6e-ba84-f80cd1497aec', pipeline_version_name='6d0dba17-c135-4d6e-ba84-f80cd1497aec', additional_properties={})"
      ]
     },
     "metadata": {},
     "output_type": "display_data"
    },
    {
     "data": {
      "text/html": [
       "\n",
       "          <table>\n",
       "              <tr><td>ID</td><td>2</td></tr>\n",
       "              <tr><td>Pipeline Name</td><td>edge-pipeline</td></tr>\n",
       "              <tr><td>Pipeline Version</td><td>a8873dfa-f42f-48b1-8577-9a3f60f96ec8</td></tr>\n",
       "              <tr><td>Status</td><td>Published</td></tr>\n",
       "              <tr><td>Engine URL</td><td><a href='https://ghcr.io/wallaroolabs/doc-samples/engines/proxy/wallaroo/ghcr.io/wallaroolabs/fitzroy-mini:v2024.4.0-5879'>ghcr.io/wallaroolabs/doc-samples/engines/proxy/wallaroo/ghcr.io/wallaroolabs/fitzroy-mini:v2024.4.0-5879</a></td></tr>\n",
       "              <tr><td>Pipeline URL</td><td><a href='https://ghcr.io/wallaroolabs/doc-samples/pipelines/edge-pipeline:a8873dfa-f42f-48b1-8577-9a3f60f96ec8'>ghcr.io/wallaroolabs/doc-samples/pipelines/edge-pipeline:a8873dfa-f42f-48b1-8577-9a3f60f96ec8</a></td></tr>\n",
       "              <tr><td>Helm Chart URL</td><td>oci://<a href='https://ghcr.io/wallaroolabs/doc-samples/charts/edge-pipeline'>ghcr.io/wallaroolabs/doc-samples/charts/edge-pipeline</a></td></tr>\n",
       "              <tr><td>Helm Chart Reference</td><td>ghcr.io/wallaroolabs/doc-samples/charts@sha256:b319f074739441dd0970a29a4168af315594f1febc96beaa8cb0d9f6e5dcf03e</td></tr>\n",
       "              <tr><td>Helm Chart Version</td><td>0.0.1-a8873dfa-f42f-48b1-8577-9a3f60f96ec8</td></tr>\n",
       "              <tr><td>Engine Config</td><td>{'engine': {'resources': {'limits': {'cpu': 1.0, 'memory': '900Mi'}, 'requests': {'cpu': 1.0, 'memory': '900Mi'}, 'accel': 'none', 'arch': 'x86', 'gpu': False}}, 'engineAux': {'autoscale': {'type': 'none'}, 'images': {}}}</td></tr>\n",
       "              <tr><td>User Images</td><td>[]</td></tr>\n",
       "              <tr><td>Created By</td><td>john.hansarick@wallaroo.ai</td></tr>\n",
       "              <tr><td>Created At</td><td>2025-01-09 17:49:46.587119+00:00</td></tr>\n",
       "              <tr><td>Updated At</td><td>2025-01-09 17:49:46.587119+00:00</td></tr>\n",
       "              <tr><td>Replaces</td><td></td></tr>\n",
       "              <tr>\n",
       "                  <td>Docker Run Command</td>\n",
       "                  <td>\n",
       "                      <table><tr><td>\n",
       "<pre style=\"text-align: left\">docker run -v $PERSISTENT_VOLUME_DIR:/persist \\\n",
       "    -p $EDGE_PORT:8080 \\\n",
       "    -e OCI_USERNAME=$OCI_USERNAME \\\n",
       "    -e OCI_PASSWORD=$OCI_PASSWORD \\\n",
       "    -e PIPELINE_URL=ghcr.io/wallaroolabs/doc-samples/pipelines/edge-pipeline:a8873dfa-f42f-48b1-8577-9a3f60f96ec8\\\n",
       "    -e EDGE_BUNDLE=ZXhwb3J0IEJVTkRMRV9WRVJTSU9OPTEKZXhwb3J0IENPTkZJR19DUFVTPTEKZXhwb3J0IEVER0VfTkFNRT1rZXJhcy1jY2ZyYXVkLXB1Ymxpc2gKZXhwb3J0IE9QU0NFTlRFUl9IT1NUPWRvYy10ZXN0LndhbGxhcm9vY29tbXVuaXR5Lm5pbmphCmV4cG9ydCBQSVBFTElORV9VUkw9Z2hjci5pby93YWxsYXJvb2xhYnMvZG9jLXNhbXBsZXMvcGlwZWxpbmVzL2VkZ2UtcGlwZWxpbmU6YTg4NzNkZmEtZjQyZi00OGIxLTg1NzctOWEzZjYwZjk2ZWM4CmV4cG9ydCBKT0lOX1RPS0VOPWM5NTljOGU4LWQ1ZTUtNGIwMi1iMDUyLTNlZjY0ODAyMjU2NwpleHBvcnQgT0NJX1JFR0lTVFJZPWdoY3IuaW8= \\\n",
       "    -e CONFIG_CPUS=1.0 --cpus=1.0 --memory=900m \\\n",
       "    ghcr.io/wallaroolabs/doc-samples/engines/proxy/wallaroo/ghcr.io/wallaroolabs/fitzroy-mini:v2024.4.0-5879</pre></td></tr></table>\n",
       "                      <br />\n",
       "                      <i>\n",
       "                          Note: Please set the <code>PERSISTENT_VOLUME_DIR</code>, <code>EDGE_PORT</code>, <code>OCI_USERNAME</code>, and <code>OCI_PASSWORD</code> environment variables.\n",
       "                      </i>\n",
       "                  </td>\n",
       "              </tr>\n",
       "              <tr>\n",
       "                  <td>Helm Install Command</td>\n",
       "                  <td>\n",
       "                      <table><tr><td>\n",
       "<pre style=\"text-align: left\">helm install --atomic $HELM_INSTALL_NAME \\\n",
       "    oci://ghcr.io/wallaroolabs/doc-samples/charts/edge-pipeline \\\n",
       "    --namespace $HELM_INSTALL_NAMESPACE \\\n",
       "    --version 0.0.1-a8873dfa-f42f-48b1-8577-9a3f60f96ec8 \\\n",
       "    --set ociRegistry.username=$OCI_USERNAME \\\n",
       "    --set ociRegistry.password=$OCI_PASSWORD \\\n",
       "    --set edgeBundle=ZXhwb3J0IEJVTkRMRV9WRVJTSU9OPTEKZXhwb3J0IENPTkZJR19DUFVTPTEKZXhwb3J0IEVER0VfTkFNRT1rZXJhcy1jY2ZyYXVkLXB1Ymxpc2gKZXhwb3J0IE9QU0NFTlRFUl9IT1NUPWRvYy10ZXN0LndhbGxhcm9vY29tbXVuaXR5Lm5pbmphCmV4cG9ydCBQSVBFTElORV9VUkw9Z2hjci5pby93YWxsYXJvb2xhYnMvZG9jLXNhbXBsZXMvcGlwZWxpbmVzL2VkZ2UtcGlwZWxpbmU6YTg4NzNkZmEtZjQyZi00OGIxLTg1NzctOWEzZjYwZjk2ZWM4CmV4cG9ydCBKT0lOX1RPS0VOPWM5NTljOGU4LWQ1ZTUtNGIwMi1iMDUyLTNlZjY0ODAyMjU2NwpleHBvcnQgT0NJX1JFR0lTVFJZPWdoY3IuaW8=</pre></td></tr></table>\n",
       "                      <br />\n",
       "                      <i>\n",
       "                          Note: Please set the <code>HELM_INSTALL_NAME</code>, <code>HELM_INSTALL_NAMESPACE</code>,\n",
       "                          <code>OCI_USERNAME</code>, and <code>OCI_PASSWORD</code> environment variables.\n",
       "                      </i>\n",
       "                  </td>\n",
       "              </tr>\n",
       "              \n",
       "          </table>\n",
       "        "
      ],
      "text/plain": [
       "PipelinePublish(created_at=datetime.datetime(2025, 1, 9, 17, 49, 46, 587119, tzinfo=tzutc()), docker_run_variables={'PIPELINE_URL': 'ghcr.io/wallaroolabs/doc-samples/pipelines/edge-pipeline:a8873dfa-f42f-48b1-8577-9a3f60f96ec8', 'EDGE_BUNDLE': 'ZXhwb3J0IEJVTkRMRV9WRVJTSU9OPTEKZXhwb3J0IENPTkZJR19DUFVTPTEKZXhwb3J0IEVER0VfTkFNRT1rZXJhcy1jY2ZyYXVkLXB1Ymxpc2gKZXhwb3J0IE9QU0NFTlRFUl9IT1NUPWRvYy10ZXN0LndhbGxhcm9vY29tbXVuaXR5Lm5pbmphCmV4cG9ydCBQSVBFTElORV9VUkw9Z2hjci5pby93YWxsYXJvb2xhYnMvZG9jLXNhbXBsZXMvcGlwZWxpbmVzL2VkZ2UtcGlwZWxpbmU6YTg4NzNkZmEtZjQyZi00OGIxLTg1NzctOWEzZjYwZjk2ZWM4CmV4cG9ydCBKT0lOX1RPS0VOPWM5NTljOGU4LWQ1ZTUtNGIwMi1iMDUyLTNlZjY0ODAyMjU2NwpleHBvcnQgT0NJX1JFR0lTVFJZPWdoY3IuaW8='}, engine_config={'engine': {'resources': {'limits': {'cpu': 1.0, 'memory': '900Mi'}, 'requests': {'cpu': 1.0, 'memory': '900Mi'}, 'accel': 'none', 'arch': 'x86', 'gpu': False}}, 'engineAux': {'autoscale': {'type': 'none'}, 'images': {}}}, id=2, pipeline_name='edge-pipeline', pipeline_version_id=18, replaces=[], status='Published', updated_at=datetime.datetime(2025, 1, 9, 17, 49, 46, 587119, tzinfo=tzutc()), user_images=[], created_by='0c74dc8a-39cb-4b1e-8ba8-4013193b859b', created_on_version='2024.4.0', edge_bundles=<wallaroo.wallaroo_ml_ops_api_client.types.Unset object at 0x12ecb36a0>, engine_url='ghcr.io/wallaroolabs/doc-samples/engines/proxy/wallaroo/ghcr.io/wallaroolabs/fitzroy-mini:v2024.4.0-5879', error=None, helm={'reference': 'ghcr.io/wallaroolabs/doc-samples/charts@sha256:b319f074739441dd0970a29a4168af315594f1febc96beaa8cb0d9f6e5dcf03e', 'values': {'edgeBundle': 'ZXhwb3J0IEJVTkRMRV9WRVJTSU9OPTEKZXhwb3J0IENPTkZJR19DUFVTPTEKZXhwb3J0IEVER0VfTkFNRT1rZXJhcy1jY2ZyYXVkLXB1Ymxpc2gKZXhwb3J0IE9QU0NFTlRFUl9IT1NUPWRvYy10ZXN0LndhbGxhcm9vY29tbXVuaXR5Lm5pbmphCmV4cG9ydCBQSVBFTElORV9VUkw9Z2hjci5pby93YWxsYXJvb2xhYnMvZG9jLXNhbXBsZXMvcGlwZWxpbmVzL2VkZ2UtcGlwZWxpbmU6YTg4NzNkZmEtZjQyZi00OGIxLTg1NzctOWEzZjYwZjk2ZWM4CmV4cG9ydCBKT0lOX1RPS0VOPWM5NTljOGU4LWQ1ZTUtNGIwMi1iMDUyLTNlZjY0ODAyMjU2NwpleHBvcnQgT0NJX1JFR0lTVFJZPWdoY3IuaW8='}, 'chart': 'ghcr.io/wallaroolabs/doc-samples/charts/edge-pipeline', 'version': '0.0.1-a8873dfa-f42f-48b1-8577-9a3f60f96ec8'}, pipeline_url='ghcr.io/wallaroolabs/doc-samples/pipelines/edge-pipeline:a8873dfa-f42f-48b1-8577-9a3f60f96ec8', pipeline_version_name='a8873dfa-f42f-48b1-8577-9a3f60f96ec8', additional_properties={})"
      ]
     },
     "metadata": {},
     "output_type": "display_data"
    }
   ],
   "source": [
    "xgb_edge = xgb_pub.add_edge(\"xgb-ccfraud-edge-publish\")\n",
    "display(xgb_edge)\n",
    "\n",
    "keras_edge = keras_pub.add_edge(\"keras-ccfraud-publish\")\n",
    "display(keras_edge)\n"
   ]
  },
  {
   "cell_type": "markdown",
   "id": "325fb51a",
   "metadata": {},
   "source": [
    "## DevOps Deployment\n",
    "\n",
    "We now have our pipeline published to our Edge Registry service.  We can deploy this in a x86 environment running Docker that is logged into the same registry service that we deployed to.\n",
    "\n",
    "For more details, check with the documentation on your artifact service.  The following are provided for the three major cloud services:\n",
    "\n",
    "* [Set up authentication for Docker](https://cloud.google.com/artifact-registry/docs/docker/authentication)\n",
    "* [Authenticate with an Azure container registry](https://learn.microsoft.com/en-us/azure/container-registry/container-registry-authentication?tabs=azure-cli)\n",
    "* [Authenticating Amazon ECR Repositories for Docker CLI with Credential Helper](https://aws.amazon.com/blogs/compute/authenticating-amazon-ecr-repositories-for-docker-cli-with-credential-helper/)\n",
    "\n",
    "Once a pipeline is deployed to the Edge Registry service, it can be deployed in environments such as Docker, Kubernetes, or similar container running services by a DevOps engineer.  For full details, see [How to Publish and Deploy AI Workloads for For Edge/Multicloud Model Deployments](https://docs.wallaroo.ai/wallaroo-model-operations/wallaroo-model-operations-run-anywhere/wallaroo-model-operations-run-anywhere-deploy/).  The pipeline publishes `Docker Run Command` and `Helm Install Command` provide templates for deployment.\n",
    "\n",
    "For our examples, we will deploy the XGB version of the pipeline to port `8080`, and the Keras version to port `8081`."
   ]
  },
  {
   "cell_type": "markdown",
   "id": "e8ada5c2",
   "metadata": {},
   "source": [
    "## Edge Deployed Pipeline API Endpoints\n",
    "\n",
    "Once deployed, we can check the pipelines and models available.  We'll use a `curl` command, but any HTTP based request will work the same way.\n",
    "\n",
    "The endpoint `/pipelines` returns:\n",
    "\n",
    "* **id** (*String*):  The name of the pipeline.\n",
    "* **status** (*String*):  The status as either `Running`, or `Error` if there are any issues.\n",
    "\n",
    "For this example, the deployment is made on a machine called `localhost`.  Replace this URL with the URL of you edge deployment.\n"
   ]
  },
  {
   "cell_type": "code",
   "execution_count": 51,
   "id": "eb179ad6",
   "metadata": {},
   "outputs": [
    {
     "name": "stdout",
     "output_type": "stream",
     "text": [
      "{\"pipelines\":[{\"id\":\"edge-pipeline\",\"version\":\"6d0dba17-c135-4d6e-ba84-f80cd1497aec\",\"status\":\"Running\"}]}"
     ]
    }
   ],
   "source": [
    "!curl testboy.local:8080/pipelines"
   ]
  },
  {
   "cell_type": "code",
   "execution_count": 52,
   "id": "61c643c5",
   "metadata": {},
   "outputs": [
    {
     "name": "stdout",
     "output_type": "stream",
     "text": [
      "{\"pipelines\":[{\"id\":\"edge-pipeline\",\"version\":\"a8873dfa-f42f-48b1-8577-9a3f60f96ec8\",\"status\":\"Running\"}]}"
     ]
    }
   ],
   "source": [
    "!curl testboy.local:8081/pipelines"
   ]
  },
  {
   "cell_type": "markdown",
   "id": "be0cd33f",
   "metadata": {},
   "source": [
    "The endpoint `/models` returns a List of models with the following fields:\n",
    "\n",
    "* **name** (*String*): The model name.\n",
    "* **sha** (*String*): The sha hash value of the ML model.\n",
    "* **status** (*String*):  The status of either Running or Error if there are any issues.\n",
    "* **version** (*String*):  The model version.  This matches the version designation used by Wallaroo to track model versions in UUID format."
   ]
  },
  {
   "cell_type": "code",
   "execution_count": 53,
   "id": "f280b77c",
   "metadata": {},
   "outputs": [
    {
     "name": "stdout",
     "output_type": "stream",
     "text": [
      "{\"models\":[{\"sha\":\"054810e3e3ebbdd34438d9c1a08ed6a6680ef10bf97b9223f78ebf38e14b3b52\",\"name\":\"ccfraud-xgboost\",\"version\":\"b847f43d-0795-4100-b75b-632e291628d5\",\"status\":\"Running\",\"model_version_id\":6}]}"
     ]
    }
   ],
   "source": [
    "!curl testboy.local:8080/models"
   ]
  },
  {
   "cell_type": "code",
   "execution_count": 54,
   "id": "fca8ed82",
   "metadata": {},
   "outputs": [
    {
     "name": "stdout",
     "output_type": "stream",
     "text": [
      "{\"models\":[{\"sha\":\"bc85ce596945f876256f41515c7501c399fd97ebcb9ab3dd41bf03f8937b4507\",\"name\":\"ccfraud-keras\",\"version\":\"5afd7f34-412c-4e0c-a9a9-714d24d5e632\",\"status\":\"Running\",\"model_version_id\":7}]}"
     ]
    }
   ],
   "source": [
    "!curl testboy.local:8081/models"
   ]
  },
  {
   "cell_type": "markdown",
   "id": "298109aa",
   "metadata": {},
   "source": [
    "### Edge Inference Endpoint\n",
    "\n",
    "The inference endpoint takes the following pattern:\n",
    "\n",
    "* `/infer`:  The inference endpoint remains the same regardless of the pipeline or models deployed.  This allows publish replacements without altering the inference endpoint used by other applications.\n",
    "\n",
    "Wallaroo inference endpoint URLs accept the following data inputs through the `Content-Type` header:\n",
    "\n",
    "* `Content-Type: application/vnd.apache.arrow.file`: For Apache Arrow tables.\n",
    "* `Content-Type: application/json; format=pandas-records`: For pandas DataFrame in record format.\n",
    "\n",
    "Once deployed, we can perform an inference through the deployment URL.\n",
    "\n",
    "The endpoint returns `Content-Type: application/json; format=pandas-records` by default with the following fields:\n",
    "\n",
    "* **check_failures** (*List[Integer]*): Whether any validation checks were triggered.  For more information, see [Wallaroo SDK Essentials Guide: Pipeline Management: Anomaly Testing](https://docs.wallaroo.ai/wallaroo-developer-guides/wallaroo-sdk-guides/wallaroo-sdk-essentials-guide/wallaroo-sdk-essentials-pipelines/wallaroo-sdk-essentials-pipeline/#anomaly-testing).\n",
    "* **elapsed** (*List[Integer]*): A list of time in nanoseconds for:\n",
    "  * [0] The time to serialize the input.\n",
    "  * [1...n] How long each step took.\n",
    "* **model_name** (*String*): The name of the model used.\n",
    "* **model_version** (*String*): The version of the model in UUID format.\n",
    "* **original_data**: The original input data.  Returns `null` if the input may be too long for a proper return.\n",
    "* **outputs** (*List*): The outputs of the inference result separated by data type, where each data type includes:\n",
    "  * **data**: The returned values.\n",
    "  * **dim** (*List[Integer]*): The dimension shape returned.\n",
    "  * **v** (*Integer*): The vector shape of the data.\n",
    "* **pipeline_name**  (*String*): The name of the pipeline.\n",
    "* **shadow_data**: Any shadow deployed data inferences in the same format as **outputs**.\n",
    "* **time** (*Integer*): The time since UNIX epoch."
   ]
  },
  {
   "cell_type": "code",
   "execution_count": 55,
   "id": "b29ab80a",
   "metadata": {},
   "outputs": [
    {
     "name": "stdout",
     "output_type": "stream",
     "text": [
      "  % Total    % Received % Xferd  Average Speed   Time    Time     Time  Current\n",
      "                                 Dload  Upload   Total   Spent    Left  Speed\n",
      "100 8232k  100 7069k  100 1162k   457k  77114  0:00:15  0:00:15 --:--:--  460k\n"
     ]
    },
    {
     "data": {
      "text/html": [
       "<div>\n",
       "<style scoped>\n",
       "    .dataframe tbody tr th:only-of-type {\n",
       "        vertical-align: middle;\n",
       "    }\n",
       "\n",
       "    .dataframe tbody tr th {\n",
       "        vertical-align: top;\n",
       "    }\n",
       "\n",
       "    .dataframe thead th {\n",
       "        text-align: right;\n",
       "    }\n",
       "</style>\n",
       "<table border=\"1\" class=\"dataframe\">\n",
       "  <thead>\n",
       "    <tr style=\"text-align: right;\">\n",
       "      <th></th>\n",
       "      <th>time</th>\n",
       "      <th>in</th>\n",
       "      <th>out</th>\n",
       "      <th>anomaly</th>\n",
       "      <th>metadata</th>\n",
       "    </tr>\n",
       "  </thead>\n",
       "  <tbody>\n",
       "    <tr>\n",
       "      <th>0</th>\n",
       "      <td>1736445397541</td>\n",
       "      <td>{'tensor': [-1.0603298, 2.3544967, -3.5638788, 5.138735, -1.2308457, -0.7687824400000001, -3.5881228, 1.8880838, -3.2789674, -3.9563255, 4.099344, -5.653918, -0.8775733, -9.131571, -0.6093538, -3.7480276, -5.0309124, -0.8748149, 1.9870535, 0.7005486, 0.9204422999999999, -0.10414918000000001, 0.32295644, -0.74181414, 0.038412016, 1.0993439, 1.2603409, -0.14662448, -1.4463211999999999]}</td>\n",
       "      <td>{'variable': [1.0094898]}</td>\n",
       "      <td>{'count': 0}</td>\n",
       "      <td>{'last_model': '{\"model_name\":\"ccfraud-xgboost\",\"model_sha\":\"054810e3e3ebbdd34438d9c1a08ed6a6680ef10bf97b9223f78ebf38e14b3b52\"}', 'pipeline_version': '6d0dba17-c135-4d6e-ba84-f80cd1497aec', 'elapsed': [1947085, 24555755], 'dropped': [], 'partition': 'xgb-ccfraud-edge-publish'}</td>\n",
       "    </tr>\n",
       "    <tr>\n",
       "      <th>1</th>\n",
       "      <td>1736445397541</td>\n",
       "      <td>{'tensor': [-1.0603298, 2.3544967, -3.5638788, 5.138735, -1.2308457, -0.7687824400000001, -3.5881228, 1.8880838, -3.2789674, -3.9563255, 4.099344, -5.653918, -0.8775733, -9.131571, -0.6093538, -3.7480276, -5.0309124, -0.8748149, 1.9870535, 0.7005486, 0.9204422999999999, -0.10414918000000001, 0.32295644, -0.74181414, 0.038412016, 1.0993439, 1.2603409, -0.14662448, -1.4463211999999999]}</td>\n",
       "      <td>{'variable': [1.0094898]}</td>\n",
       "      <td>{'count': 0}</td>\n",
       "      <td>{'last_model': '{\"model_name\":\"ccfraud-xgboost\",\"model_sha\":\"054810e3e3ebbdd34438d9c1a08ed6a6680ef10bf97b9223f78ebf38e14b3b52\"}', 'pipeline_version': '6d0dba17-c135-4d6e-ba84-f80cd1497aec', 'elapsed': [1947085, 24555755], 'dropped': [], 'partition': 'xgb-ccfraud-edge-publish'}</td>\n",
       "    </tr>\n",
       "    <tr>\n",
       "      <th>2</th>\n",
       "      <td>1736445397541</td>\n",
       "      <td>{'tensor': [-1.0603298, 2.3544967, -3.5638788, 5.138735, -1.2308457, -0.7687824400000001, -3.5881228, 1.8880838, -3.2789674, -3.9563255, 4.099344, -5.653918, -0.8775733, -9.131571, -0.6093538, -3.7480276, -5.0309124, -0.8748149, 1.9870535, 0.7005486, 0.9204422999999999, -0.10414918000000001, 0.32295644, -0.74181414, 0.038412016, 1.0993439, 1.2603409, -0.14662448, -1.4463211999999999]}</td>\n",
       "      <td>{'variable': [1.0094898]}</td>\n",
       "      <td>{'count': 0}</td>\n",
       "      <td>{'last_model': '{\"model_name\":\"ccfraud-xgboost\",\"model_sha\":\"054810e3e3ebbdd34438d9c1a08ed6a6680ef10bf97b9223f78ebf38e14b3b52\"}', 'pipeline_version': '6d0dba17-c135-4d6e-ba84-f80cd1497aec', 'elapsed': [1947085, 24555755], 'dropped': [], 'partition': 'xgb-ccfraud-edge-publish'}</td>\n",
       "    </tr>\n",
       "    <tr>\n",
       "      <th>3</th>\n",
       "      <td>1736445397541</td>\n",
       "      <td>{'tensor': [-1.0603298, 2.3544967, -3.5638788, 5.138735, -1.2308457, -0.7687824400000001, -3.5881228, 1.8880838, -3.2789674, -3.9563255, 4.099344, -5.653918, -0.8775733, -9.131571, -0.6093538, -3.7480276, -5.0309124, -0.8748149, 1.9870535, 0.7005486, 0.9204422999999999, -0.10414918000000001, 0.32295644, -0.74181414, 0.038412016, 1.0993439, 1.2603409, -0.14662448, -1.4463211999999999]}</td>\n",
       "      <td>{'variable': [1.0094898]}</td>\n",
       "      <td>{'count': 0}</td>\n",
       "      <td>{'last_model': '{\"model_name\":\"ccfraud-xgboost\",\"model_sha\":\"054810e3e3ebbdd34438d9c1a08ed6a6680ef10bf97b9223f78ebf38e14b3b52\"}', 'pipeline_version': '6d0dba17-c135-4d6e-ba84-f80cd1497aec', 'elapsed': [1947085, 24555755], 'dropped': [], 'partition': 'xgb-ccfraud-edge-publish'}</td>\n",
       "    </tr>\n",
       "    <tr>\n",
       "      <th>4</th>\n",
       "      <td>1736445397541</td>\n",
       "      <td>{'tensor': [0.5817662, 0.09788155, 0.15468194, 0.4754102, -0.19788623, -0.45043448, 0.016654044, -0.025607055, 0.09205616, -0.27839172, 0.059329946, -0.019658541, -0.42250833, -0.12175389, 1.5473095, 0.23916228, 0.3553975, -0.76851654, -0.7000849, -0.11900433, -0.34505169999999996, -1.1065114, 0.25234112000000003, 0.020944182000000002, 0.21992674, 0.25406894, -0.04502251, 0.10867739, 0.25471792]}</td>\n",
       "      <td>{'variable': [-1.9073485999999998e-06]}</td>\n",
       "      <td>{'count': 0}</td>\n",
       "      <td>{'last_model': '{\"model_name\":\"ccfraud-xgboost\",\"model_sha\":\"054810e3e3ebbdd34438d9c1a08ed6a6680ef10bf97b9223f78ebf38e14b3b52\"}', 'pipeline_version': '6d0dba17-c135-4d6e-ba84-f80cd1497aec', 'elapsed': [1947085, 24555755], 'dropped': [], 'partition': 'xgb-ccfraud-edge-publish'}</td>\n",
       "    </tr>\n",
       "  </tbody>\n",
       "</table>\n",
       "</div>"
      ],
      "text/plain": [
       "            time  \\\n",
       "0  1736445397541   \n",
       "1  1736445397541   \n",
       "2  1736445397541   \n",
       "3  1736445397541   \n",
       "4  1736445397541   \n",
       "\n",
       "                                                                                                                                                                                                                                                                                                                                                                                                                in  \\\n",
       "0              {'tensor': [-1.0603298, 2.3544967, -3.5638788, 5.138735, -1.2308457, -0.7687824400000001, -3.5881228, 1.8880838, -3.2789674, -3.9563255, 4.099344, -5.653918, -0.8775733, -9.131571, -0.6093538, -3.7480276, -5.0309124, -0.8748149, 1.9870535, 0.7005486, 0.9204422999999999, -0.10414918000000001, 0.32295644, -0.74181414, 0.038412016, 1.0993439, 1.2603409, -0.14662448, -1.4463211999999999]}   \n",
       "1              {'tensor': [-1.0603298, 2.3544967, -3.5638788, 5.138735, -1.2308457, -0.7687824400000001, -3.5881228, 1.8880838, -3.2789674, -3.9563255, 4.099344, -5.653918, -0.8775733, -9.131571, -0.6093538, -3.7480276, -5.0309124, -0.8748149, 1.9870535, 0.7005486, 0.9204422999999999, -0.10414918000000001, 0.32295644, -0.74181414, 0.038412016, 1.0993439, 1.2603409, -0.14662448, -1.4463211999999999]}   \n",
       "2              {'tensor': [-1.0603298, 2.3544967, -3.5638788, 5.138735, -1.2308457, -0.7687824400000001, -3.5881228, 1.8880838, -3.2789674, -3.9563255, 4.099344, -5.653918, -0.8775733, -9.131571, -0.6093538, -3.7480276, -5.0309124, -0.8748149, 1.9870535, 0.7005486, 0.9204422999999999, -0.10414918000000001, 0.32295644, -0.74181414, 0.038412016, 1.0993439, 1.2603409, -0.14662448, -1.4463211999999999]}   \n",
       "3              {'tensor': [-1.0603298, 2.3544967, -3.5638788, 5.138735, -1.2308457, -0.7687824400000001, -3.5881228, 1.8880838, -3.2789674, -3.9563255, 4.099344, -5.653918, -0.8775733, -9.131571, -0.6093538, -3.7480276, -5.0309124, -0.8748149, 1.9870535, 0.7005486, 0.9204422999999999, -0.10414918000000001, 0.32295644, -0.74181414, 0.038412016, 1.0993439, 1.2603409, -0.14662448, -1.4463211999999999]}   \n",
       "4  {'tensor': [0.5817662, 0.09788155, 0.15468194, 0.4754102, -0.19788623, -0.45043448, 0.016654044, -0.025607055, 0.09205616, -0.27839172, 0.059329946, -0.019658541, -0.42250833, -0.12175389, 1.5473095, 0.23916228, 0.3553975, -0.76851654, -0.7000849, -0.11900433, -0.34505169999999996, -1.1065114, 0.25234112000000003, 0.020944182000000002, 0.21992674, 0.25406894, -0.04502251, 0.10867739, 0.25471792]}   \n",
       "\n",
       "                                       out       anomaly  \\\n",
       "0                {'variable': [1.0094898]}  {'count': 0}   \n",
       "1                {'variable': [1.0094898]}  {'count': 0}   \n",
       "2                {'variable': [1.0094898]}  {'count': 0}   \n",
       "3                {'variable': [1.0094898]}  {'count': 0}   \n",
       "4  {'variable': [-1.9073485999999998e-06]}  {'count': 0}   \n",
       "\n",
       "                                                                                                                                                                                                                                                                                metadata  \n",
       "0  {'last_model': '{\"model_name\":\"ccfraud-xgboost\",\"model_sha\":\"054810e3e3ebbdd34438d9c1a08ed6a6680ef10bf97b9223f78ebf38e14b3b52\"}', 'pipeline_version': '6d0dba17-c135-4d6e-ba84-f80cd1497aec', 'elapsed': [1947085, 24555755], 'dropped': [], 'partition': 'xgb-ccfraud-edge-publish'}  \n",
       "1  {'last_model': '{\"model_name\":\"ccfraud-xgboost\",\"model_sha\":\"054810e3e3ebbdd34438d9c1a08ed6a6680ef10bf97b9223f78ebf38e14b3b52\"}', 'pipeline_version': '6d0dba17-c135-4d6e-ba84-f80cd1497aec', 'elapsed': [1947085, 24555755], 'dropped': [], 'partition': 'xgb-ccfraud-edge-publish'}  \n",
       "2  {'last_model': '{\"model_name\":\"ccfraud-xgboost\",\"model_sha\":\"054810e3e3ebbdd34438d9c1a08ed6a6680ef10bf97b9223f78ebf38e14b3b52\"}', 'pipeline_version': '6d0dba17-c135-4d6e-ba84-f80cd1497aec', 'elapsed': [1947085, 24555755], 'dropped': [], 'partition': 'xgb-ccfraud-edge-publish'}  \n",
       "3  {'last_model': '{\"model_name\":\"ccfraud-xgboost\",\"model_sha\":\"054810e3e3ebbdd34438d9c1a08ed6a6680ef10bf97b9223f78ebf38e14b3b52\"}', 'pipeline_version': '6d0dba17-c135-4d6e-ba84-f80cd1497aec', 'elapsed': [1947085, 24555755], 'dropped': [], 'partition': 'xgb-ccfraud-edge-publish'}  \n",
       "4  {'last_model': '{\"model_name\":\"ccfraud-xgboost\",\"model_sha\":\"054810e3e3ebbdd34438d9c1a08ed6a6680ef10bf97b9223f78ebf38e14b3b52\"}', 'pipeline_version': '6d0dba17-c135-4d6e-ba84-f80cd1497aec', 'elapsed': [1947085, 24555755], 'dropped': [], 'partition': 'xgb-ccfraud-edge-publish'}  "
      ]
     },
     "execution_count": 55,
     "metadata": {},
     "output_type": "execute_result"
    }
   ],
   "source": [
    "!curl -X POST testboy.local:8080/infer \\\n",
    "    -H \"Content-Type: application/vnd.apache.arrow.file\" \\\n",
    "    --data-binary @./data/cc_data_10k.arrow > xgb-edge-infer.df.json\n",
    "\n",
    "df_xgb = pd.read_json(\"xgb-edge-infer.df.json\", orient=\"records\")\n",
    "df_xgb.head(5)"
   ]
  },
  {
   "cell_type": "code",
   "execution_count": 56,
   "id": "b66af6de",
   "metadata": {},
   "outputs": [
    {
     "name": "stdout",
     "output_type": "stream",
     "text": [
      "  % Total    % Received % Xferd  Average Speed   Time    Time     Time  Current\n",
      "                                 Dload  Upload   Total   Spent    Left  Speed\n",
      "100 8151k  100 6989k  100 1162k   412k  70298  0:00:16  0:00:16 --:--:--  360kk   377k   147k  0:00:18  0:00:07  0:00:11  462k11k  100 1162k   421k    97k  0:00:16  0:00:11  0:00:05  510kk  100 1162k   414k  74977  0:00:16  0:00:15  0:00:01  417k\n"
     ]
    },
    {
     "data": {
      "text/html": [
       "<div>\n",
       "<style scoped>\n",
       "    .dataframe tbody tr th:only-of-type {\n",
       "        vertical-align: middle;\n",
       "    }\n",
       "\n",
       "    .dataframe tbody tr th {\n",
       "        vertical-align: top;\n",
       "    }\n",
       "\n",
       "    .dataframe thead th {\n",
       "        text-align: right;\n",
       "    }\n",
       "</style>\n",
       "<table border=\"1\" class=\"dataframe\">\n",
       "  <thead>\n",
       "    <tr style=\"text-align: right;\">\n",
       "      <th></th>\n",
       "      <th>time</th>\n",
       "      <th>in</th>\n",
       "      <th>out</th>\n",
       "      <th>anomaly</th>\n",
       "      <th>metadata</th>\n",
       "    </tr>\n",
       "  </thead>\n",
       "  <tbody>\n",
       "    <tr>\n",
       "      <th>0</th>\n",
       "      <td>1736445413514</td>\n",
       "      <td>{'tensor': [-1.0603298, 2.3544967, -3.5638788, 5.138735, -1.2308457, -0.7687824400000001, -3.5881228, 1.8880838, -3.2789674, -3.9563255, 4.099344, -5.653918, -0.8775733, -9.131571, -0.6093538, -3.7480276, -5.0309124, -0.8748149, 1.9870535, 0.7005486, 0.9204422999999999, -0.10414918000000001, 0.32295644, -0.74181414, 0.038412016, 1.0993439, 1.2603409, -0.14662448, -1.4463211999999999]}</td>\n",
       "      <td>{'dense_1': [0.99300325]}</td>\n",
       "      <td>{'count': 0}</td>\n",
       "      <td>{'last_model': '{\"model_name\":\"ccfraud-keras\",\"model_sha\":\"bc85ce596945f876256f41515c7501c399fd97ebcb9ab3dd41bf03f8937b4507\"}', 'pipeline_version': 'a8873dfa-f42f-48b1-8577-9a3f60f96ec8', 'elapsed': [1959561, 6941435], 'dropped': [], 'partition': 'keras-ccfraud-publish'}</td>\n",
       "    </tr>\n",
       "    <tr>\n",
       "      <th>1</th>\n",
       "      <td>1736445413514</td>\n",
       "      <td>{'tensor': [-1.0603298, 2.3544967, -3.5638788, 5.138735, -1.2308457, -0.7687824400000001, -3.5881228, 1.8880838, -3.2789674, -3.9563255, 4.099344, -5.653918, -0.8775733, -9.131571, -0.6093538, -3.7480276, -5.0309124, -0.8748149, 1.9870535, 0.7005486, 0.9204422999999999, -0.10414918000000001, 0.32295644, -0.74181414, 0.038412016, 1.0993439, 1.2603409, -0.14662448, -1.4463211999999999]}</td>\n",
       "      <td>{'dense_1': [0.99300325]}</td>\n",
       "      <td>{'count': 0}</td>\n",
       "      <td>{'last_model': '{\"model_name\":\"ccfraud-keras\",\"model_sha\":\"bc85ce596945f876256f41515c7501c399fd97ebcb9ab3dd41bf03f8937b4507\"}', 'pipeline_version': 'a8873dfa-f42f-48b1-8577-9a3f60f96ec8', 'elapsed': [1959561, 6941435], 'dropped': [], 'partition': 'keras-ccfraud-publish'}</td>\n",
       "    </tr>\n",
       "    <tr>\n",
       "      <th>2</th>\n",
       "      <td>1736445413514</td>\n",
       "      <td>{'tensor': [-1.0603298, 2.3544967, -3.5638788, 5.138735, -1.2308457, -0.7687824400000001, -3.5881228, 1.8880838, -3.2789674, -3.9563255, 4.099344, -5.653918, -0.8775733, -9.131571, -0.6093538, -3.7480276, -5.0309124, -0.8748149, 1.9870535, 0.7005486, 0.9204422999999999, -0.10414918000000001, 0.32295644, -0.74181414, 0.038412016, 1.0993439, 1.2603409, -0.14662448, -1.4463211999999999]}</td>\n",
       "      <td>{'dense_1': [0.99300325]}</td>\n",
       "      <td>{'count': 0}</td>\n",
       "      <td>{'last_model': '{\"model_name\":\"ccfraud-keras\",\"model_sha\":\"bc85ce596945f876256f41515c7501c399fd97ebcb9ab3dd41bf03f8937b4507\"}', 'pipeline_version': 'a8873dfa-f42f-48b1-8577-9a3f60f96ec8', 'elapsed': [1959561, 6941435], 'dropped': [], 'partition': 'keras-ccfraud-publish'}</td>\n",
       "    </tr>\n",
       "    <tr>\n",
       "      <th>3</th>\n",
       "      <td>1736445413514</td>\n",
       "      <td>{'tensor': [-1.0603298, 2.3544967, -3.5638788, 5.138735, -1.2308457, -0.7687824400000001, -3.5881228, 1.8880838, -3.2789674, -3.9563255, 4.099344, -5.653918, -0.8775733, -9.131571, -0.6093538, -3.7480276, -5.0309124, -0.8748149, 1.9870535, 0.7005486, 0.9204422999999999, -0.10414918000000001, 0.32295644, -0.74181414, 0.038412016, 1.0993439, 1.2603409, -0.14662448, -1.4463211999999999]}</td>\n",
       "      <td>{'dense_1': [0.99300325]}</td>\n",
       "      <td>{'count': 0}</td>\n",
       "      <td>{'last_model': '{\"model_name\":\"ccfraud-keras\",\"model_sha\":\"bc85ce596945f876256f41515c7501c399fd97ebcb9ab3dd41bf03f8937b4507\"}', 'pipeline_version': 'a8873dfa-f42f-48b1-8577-9a3f60f96ec8', 'elapsed': [1959561, 6941435], 'dropped': [], 'partition': 'keras-ccfraud-publish'}</td>\n",
       "    </tr>\n",
       "    <tr>\n",
       "      <th>4</th>\n",
       "      <td>1736445413514</td>\n",
       "      <td>{'tensor': [0.5817662, 0.09788155, 0.15468194, 0.4754102, -0.19788623, -0.45043448, 0.016654044, -0.025607055, 0.09205616, -0.27839172, 0.059329946, -0.019658541, -0.42250833, -0.12175389, 1.5473095, 0.23916228, 0.3553975, -0.76851654, -0.7000849, -0.11900433, -0.34505169999999996, -1.1065114, 0.25234112000000003, 0.020944182000000002, 0.21992674, 0.25406894, -0.04502251, 0.10867739, 0.25471792]}</td>\n",
       "      <td>{'dense_1': [0.0010916889]}</td>\n",
       "      <td>{'count': 0}</td>\n",
       "      <td>{'last_model': '{\"model_name\":\"ccfraud-keras\",\"model_sha\":\"bc85ce596945f876256f41515c7501c399fd97ebcb9ab3dd41bf03f8937b4507\"}', 'pipeline_version': 'a8873dfa-f42f-48b1-8577-9a3f60f96ec8', 'elapsed': [1959561, 6941435], 'dropped': [], 'partition': 'keras-ccfraud-publish'}</td>\n",
       "    </tr>\n",
       "  </tbody>\n",
       "</table>\n",
       "</div>"
      ],
      "text/plain": [
       "            time  \\\n",
       "0  1736445413514   \n",
       "1  1736445413514   \n",
       "2  1736445413514   \n",
       "3  1736445413514   \n",
       "4  1736445413514   \n",
       "\n",
       "                                                                                                                                                                                                                                                                                                                                                                                                                in  \\\n",
       "0              {'tensor': [-1.0603298, 2.3544967, -3.5638788, 5.138735, -1.2308457, -0.7687824400000001, -3.5881228, 1.8880838, -3.2789674, -3.9563255, 4.099344, -5.653918, -0.8775733, -9.131571, -0.6093538, -3.7480276, -5.0309124, -0.8748149, 1.9870535, 0.7005486, 0.9204422999999999, -0.10414918000000001, 0.32295644, -0.74181414, 0.038412016, 1.0993439, 1.2603409, -0.14662448, -1.4463211999999999]}   \n",
       "1              {'tensor': [-1.0603298, 2.3544967, -3.5638788, 5.138735, -1.2308457, -0.7687824400000001, -3.5881228, 1.8880838, -3.2789674, -3.9563255, 4.099344, -5.653918, -0.8775733, -9.131571, -0.6093538, -3.7480276, -5.0309124, -0.8748149, 1.9870535, 0.7005486, 0.9204422999999999, -0.10414918000000001, 0.32295644, -0.74181414, 0.038412016, 1.0993439, 1.2603409, -0.14662448, -1.4463211999999999]}   \n",
       "2              {'tensor': [-1.0603298, 2.3544967, -3.5638788, 5.138735, -1.2308457, -0.7687824400000001, -3.5881228, 1.8880838, -3.2789674, -3.9563255, 4.099344, -5.653918, -0.8775733, -9.131571, -0.6093538, -3.7480276, -5.0309124, -0.8748149, 1.9870535, 0.7005486, 0.9204422999999999, -0.10414918000000001, 0.32295644, -0.74181414, 0.038412016, 1.0993439, 1.2603409, -0.14662448, -1.4463211999999999]}   \n",
       "3              {'tensor': [-1.0603298, 2.3544967, -3.5638788, 5.138735, -1.2308457, -0.7687824400000001, -3.5881228, 1.8880838, -3.2789674, -3.9563255, 4.099344, -5.653918, -0.8775733, -9.131571, -0.6093538, -3.7480276, -5.0309124, -0.8748149, 1.9870535, 0.7005486, 0.9204422999999999, -0.10414918000000001, 0.32295644, -0.74181414, 0.038412016, 1.0993439, 1.2603409, -0.14662448, -1.4463211999999999]}   \n",
       "4  {'tensor': [0.5817662, 0.09788155, 0.15468194, 0.4754102, -0.19788623, -0.45043448, 0.016654044, -0.025607055, 0.09205616, -0.27839172, 0.059329946, -0.019658541, -0.42250833, -0.12175389, 1.5473095, 0.23916228, 0.3553975, -0.76851654, -0.7000849, -0.11900433, -0.34505169999999996, -1.1065114, 0.25234112000000003, 0.020944182000000002, 0.21992674, 0.25406894, -0.04502251, 0.10867739, 0.25471792]}   \n",
       "\n",
       "                           out       anomaly  \\\n",
       "0    {'dense_1': [0.99300325]}  {'count': 0}   \n",
       "1    {'dense_1': [0.99300325]}  {'count': 0}   \n",
       "2    {'dense_1': [0.99300325]}  {'count': 0}   \n",
       "3    {'dense_1': [0.99300325]}  {'count': 0}   \n",
       "4  {'dense_1': [0.0010916889]}  {'count': 0}   \n",
       "\n",
       "                                                                                                                                                                                                                                                                          metadata  \n",
       "0  {'last_model': '{\"model_name\":\"ccfraud-keras\",\"model_sha\":\"bc85ce596945f876256f41515c7501c399fd97ebcb9ab3dd41bf03f8937b4507\"}', 'pipeline_version': 'a8873dfa-f42f-48b1-8577-9a3f60f96ec8', 'elapsed': [1959561, 6941435], 'dropped': [], 'partition': 'keras-ccfraud-publish'}  \n",
       "1  {'last_model': '{\"model_name\":\"ccfraud-keras\",\"model_sha\":\"bc85ce596945f876256f41515c7501c399fd97ebcb9ab3dd41bf03f8937b4507\"}', 'pipeline_version': 'a8873dfa-f42f-48b1-8577-9a3f60f96ec8', 'elapsed': [1959561, 6941435], 'dropped': [], 'partition': 'keras-ccfraud-publish'}  \n",
       "2  {'last_model': '{\"model_name\":\"ccfraud-keras\",\"model_sha\":\"bc85ce596945f876256f41515c7501c399fd97ebcb9ab3dd41bf03f8937b4507\"}', 'pipeline_version': 'a8873dfa-f42f-48b1-8577-9a3f60f96ec8', 'elapsed': [1959561, 6941435], 'dropped': [], 'partition': 'keras-ccfraud-publish'}  \n",
       "3  {'last_model': '{\"model_name\":\"ccfraud-keras\",\"model_sha\":\"bc85ce596945f876256f41515c7501c399fd97ebcb9ab3dd41bf03f8937b4507\"}', 'pipeline_version': 'a8873dfa-f42f-48b1-8577-9a3f60f96ec8', 'elapsed': [1959561, 6941435], 'dropped': [], 'partition': 'keras-ccfraud-publish'}  \n",
       "4  {'last_model': '{\"model_name\":\"ccfraud-keras\",\"model_sha\":\"bc85ce596945f876256f41515c7501c399fd97ebcb9ab3dd41bf03f8937b4507\"}', 'pipeline_version': 'a8873dfa-f42f-48b1-8577-9a3f60f96ec8', 'elapsed': [1959561, 6941435], 'dropped': [], 'partition': 'keras-ccfraud-publish'}  "
      ]
     },
     "execution_count": 56,
     "metadata": {},
     "output_type": "execute_result"
    }
   ],
   "source": [
    "!curl -X POST testboy.local:8081/infer \\\n",
    "    -H \"Content-Type: application/vnd.apache.arrow.file\" \\\n",
    "    --data-binary @./data/cc_data_10k.arrow > xgb-edge-infer.df.json\n",
    "\n",
    "df_keras = pd.read_json(\"xgb-edge-infer.df.json\", orient=\"records\")\n",
    "df_keras.head(5)"
   ]
  }
 ],
 "metadata": {
  "kernelspec": {
   "display_name": "wallaroosdk2024.4",
   "language": "python",
   "name": "python3"
  },
  "language_info": {
   "codemirror_mode": {
    "name": "ipython",
    "version": 3
   },
   "file_extension": ".py",
   "mimetype": "text/x-python",
   "name": "python",
   "nbconvert_exporter": "python",
   "pygments_lexer": "ipython3",
   "version": "3.10.11"
  }
 },
 "nbformat": 4,
 "nbformat_minor": 5
}
