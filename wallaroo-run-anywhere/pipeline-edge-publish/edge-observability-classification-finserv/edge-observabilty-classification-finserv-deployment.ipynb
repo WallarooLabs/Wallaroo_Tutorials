{
 "cells": [
  {
   "cell_type": "markdown",
   "id": "75173988-6afb-46fe-a6de-15e313786c99",
   "metadata": {},
   "source": [
    "The following tutorial is available on the [Wallaroo Github Repository](https://github.com/WallarooLabs/Wallaroo_Tutorials/blob/wallaroo2024.4_tutorials/wallaroo-run-anywhere/pipeline-edge-publish/edge-observability-classification-finserv).\n",
    "\n",
    "## Classification Financial Services Edge Deployment Demonstration\n",
    "\n",
    "This notebook will walk through building Wallaroo pipeline with a a Classification model deployed to detect the likelihood of credit card fraud, then publishing that pipeline to an Open Container Initiative (OCI) Registry where it can be deployed in other Docker and Kubernetes environments.\n",
    "\n",
    "This demonstration will focus on deployment to the edge.  For further examples of using Wallaroo with this computer vision models, see [Wallaroo 101](https://docs.wallaroo.ai/wallaroo-101/).\n",
    "\n",
    "This demonstration performs the following:\n",
    "\n",
    "* In Wallaroo Ops:\n",
    "  * Setting up a workspace, pipeline, and model for deriving the price of a house based on inputs.\n",
    "  * Creating an assay from a sample of inferences.\n",
    "  * Display the inference result and upload the assay to the Wallaroo instance where it can be referenced later.\n",
    "* In a remote aka edge location:\n",
    "  * Deploying the Wallaroo pipeline as a Wallaroo Inference Server deployed on an edge device with observability features.\n",
    "* In Wallaroo Ops:\n",
    "  * Observe the Wallaroo Ops and remote Wallaroo Inference Server inference results as part of the pipeline logs.\n",
    "\n",
    "## Prerequisites\n",
    "\n",
    "* A deployed Wallaroo Ops instance.\n",
    "* A location with Docker or Kubernetes with `helm` for Wallaroo Inference server deployments.\n",
    "* The following Python libraries installed:\n",
    "  * [`wallaroo`](https://pypi.org/project/wallaroo/): The Wallaroo SDK. Included with the Wallaroo JupyterHub service by default.\n",
    "  * [`pandas`](https://pypi.org/project/pandas/): Pandas, mainly used for Pandas DataFrame\n",
    "\n",
    "## References\n",
    "\n",
    "* [Wallaroo SDK Essentials Guide: Pipeline Edge Publication](https://docs.wallaroo.ai/wallaroo-developer-guides/wallaroo-sdk-guides/wallaroo-sdk-essentials-guide/wallaroo-sdk-essentials-pipelines/wallaroo-sdk-essentials-pipeline-publication/)"
   ]
  },
  {
   "cell_type": "markdown",
   "id": "70b53e7e",
   "metadata": {},
   "source": [
    "## Data Scientist Pipeline Publish Steps\n",
    "\n",
    "### Load Libraries\n",
    "\n",
    "The first step is to import the libraries used in this notebook."
   ]
  },
  {
   "cell_type": "code",
   "execution_count": 1,
   "id": "33c4ab07-2af8-4a1f-b665-a1f4f7968da8",
   "metadata": {},
   "outputs": [],
   "source": [
    "import wallaroo\n",
    "from wallaroo.object import EntityNotFoundError\n",
    "\n",
    "import pyarrow as pa\n",
    "import pandas as pd\n",
    "import requests\n",
    "\n",
    "\n",
    "# used to display dataframe information without truncating\n",
    "from IPython.display import display\n",
    "pd.set_option('display.max_colwidth', None)\n",
    "pd.set_option('display.max_columns', None)"
   ]
  },
  {
   "cell_type": "markdown",
   "id": "c1f07f87",
   "metadata": {},
   "source": [
    "### Connect to the Wallaroo Instance through the User Interface\n",
    "\n",
    "The next step is to connect to Wallaroo through the Wallaroo client.  The Python library is included in the Wallaroo install and available through the Jupyter Hub interface provided with your Wallaroo environment.\n",
    "\n",
    "This is accomplished using the `wallaroo.Client()` command, which provides a URL to grant the SDK permission to your specific Wallaroo environment.  When displayed, enter the URL into a browser and confirm permissions.  Store the connection into a variable that can be referenced later.\n",
    "\n",
    "If logging into the Wallaroo instance through the internal JupyterHub service, use `wl = wallaroo.Client()`.  For more information on Wallaroo Client settings, see the [Client Connection guide](https://docs.wallaroo.ai/wallaroo-developer-guides/wallaroo-sdk-guides/wallaroo-sdk-essentials-guide/wallaroo-sdk-essentials-client/)."
   ]
  },
  {
   "cell_type": "code",
   "execution_count": 2,
   "id": "4204db83",
   "metadata": {},
   "outputs": [],
   "source": [
    "wl = wallaroo.Client()"
   ]
  },
  {
   "cell_type": "markdown",
   "id": "e7534d3e",
   "metadata": {},
   "source": [
    "### Create a New Workspace\n",
    "\n",
    "We'll use the SDK below to create our workspace , assign as our **current workspace**, then display all of the workspaces we have at the moment.  We'll also set up variables for our models and pipelines down the road, so we have one spot to change names to whatever fits your organization's standards best.\n",
    "\n",
    "To allow this tutorial to be run by multiple users in the same Wallaroo instance, a random 4 character prefix will be added to the workspace, pipeline, and model.  Feel free to set `suffix=''` if this is not required."
   ]
  },
  {
   "cell_type": "code",
   "execution_count": 3,
   "id": "211b1d3e-7700-4e0b-8ba5-144730d7d17f",
   "metadata": {},
   "outputs": [],
   "source": [
    "workspace_name = f'edge-observability-demo'\n",
    "pipeline_name = 'edge-observability-pipeline'\n",
    "xgboost_model_name = 'ccfraud-xgboost'\n",
    "xgboost_model_file_name = './models/xgboost_ccfraud.onnx'"
   ]
  },
  {
   "cell_type": "code",
   "execution_count": 5,
   "id": "84393e55-abb6-4d3e-a3dc-2542bc91098b",
   "metadata": {},
   "outputs": [
    {
     "data": {
      "text/plain": [
       "{'name': 'edge-observability-demojch', 'id': 14, 'archived': False, 'created_by': 'b3deff28-04d0-41b8-a04f-b5cf610d6ce9', 'created_at': '2023-10-31T20:12:45.456363+00:00', 'models': [], 'pipelines': []}"
      ]
     },
     "execution_count": 5,
     "metadata": {},
     "output_type": "execute_result"
    }
   ],
   "source": [
    "workspace = wl.get_workspace(name=workspace_name, create_if_not_exist=True)\n",
    "\n",
    "wl.set_current_workspace(workspace)"
   ]
  },
  {
   "cell_type": "markdown",
   "id": "ef7b0f46",
   "metadata": {},
   "source": [
    "### Upload the Model\n",
    "\n",
    "When a model is uploaded to a Wallaroo cluster, it is optimized and packaged to make it ready to run as part of a pipeline. In many times, the Wallaroo Server can natively run a model without any Python overhead. In other cases, such as a Python script, a custom Python environment will be automatically generated. This is comparable to the process of \"containerizing\" a model by adding a small HTTP server and other wrapping around it.\n",
    "\n",
    "Our pretrained model is in ONNX format, which is specified in the `framework` parameter."
   ]
  },
  {
   "cell_type": "code",
   "execution_count": 6,
   "id": "d55515cf-6392-4440-a1dd-729b18c5d431",
   "metadata": {},
   "outputs": [],
   "source": [
    "xgboost_edge_demo_model = wl.upload_model(\n",
    "    xgboost_model_name,\n",
    "    xgboost_model_file_name,\n",
    "    framework=wallaroo.framework.Framework.ONNX,\n",
    ").configure(tensor_fields=[\"tensor\"])"
   ]
  },
  {
   "cell_type": "markdown",
   "id": "334e8e68",
   "metadata": {},
   "source": [
    "### Reserve Pipeline Resources\n",
    "\n",
    "Before deploying an inference engine we need to tell wallaroo what resources it will need.\n",
    "To do this we will use the wallaroo DeploymentConfigBuilder() and fill in the options listed below to determine what the properties of our inference engine will be.\n",
    "\n",
    "We will be testing this deployment for an edge scenario, so the resource specifications are kept small -- what's the minimum needed to meet the expected load on the planned hardware.\n",
    "\n",
    "- cpus - 1 => allow the engine to use 4 CPU cores when running the neural net\n",
    "- memory - 900Mi => each inference engine will have 2 GB of memory, which is plenty for processing a single image at a time.\n"
   ]
  },
  {
   "cell_type": "code",
   "execution_count": 7,
   "id": "efe5b31d-0dfe-4544-a763-5bd6fd6f01e0",
   "metadata": {},
   "outputs": [],
   "source": [
    "deploy_config = (wallaroo\n",
    "                 .DeploymentConfigBuilder()\n",
    "                 .replica_count(1)\n",
    "                 .cpus(1)\n",
    "                 .memory(\"900Mi\")\n",
    "                 .build()\n",
    "                 )"
   ]
  },
  {
   "cell_type": "markdown",
   "id": "c08818f0",
   "metadata": {},
   "source": [
    "### Simulated Edge Deployment\n",
    "\n",
    "We will now deploy our pipeline into the current Kubernetes environment using the specified resource constraints. This is a \"simulated edge\" deploy in that we try to mimic the edge hardware as closely as possible."
   ]
  },
  {
   "cell_type": "code",
   "execution_count": 8,
   "id": "4a390a87-ba66-4d06-b015-f5fc65d1cf1c",
   "metadata": {},
   "outputs": [
    {
     "data": {
      "text/html": [
       "<table><tr><th>name</th> <td>edge-observability-pipeline</td></tr><tr><th>created</th> <td>2023-10-31 20:12:45.895294+00:00</td></tr><tr><th>last_updated</th> <td>2023-10-31 20:12:45.895294+00:00</td></tr><tr><th>deployed</th> <td>(none)</td></tr><tr><th>arch</th> <td>None</td></tr><tr><th>tags</th> <td></td></tr><tr><th>versions</th> <td>5d440e01-f2db-440c-a4f9-cd28bb491b6c</td></tr><tr><th>steps</th> <td></td></tr><tr><th>published</th> <td>False</td></tr></table>"
      ],
      "text/plain": [
       "{'name': 'edge-observability-pipeline', 'create_time': datetime.datetime(2023, 10, 31, 20, 12, 45, 895294, tzinfo=tzutc()), 'definition': '[]'}"
      ]
     },
     "metadata": {},
     "output_type": "display_data"
    },
    {
     "name": "stdout",
     "output_type": "stream",
     "text": [
      "Waiting for deployment - this will take up to 45s ....... ok\n"
     ]
    },
    {
     "data": {
      "text/html": [
       "<table><tr><th>name</th> <td>edge-observability-pipeline</td></tr><tr><th>created</th> <td>2023-10-31 20:12:45.895294+00:00</td></tr><tr><th>last_updated</th> <td>2023-10-31 20:12:46.009712+00:00</td></tr><tr><th>deployed</th> <td>True</td></tr><tr><th>arch</th> <td>None</td></tr><tr><th>tags</th> <td></td></tr><tr><th>versions</th> <td>2b335efd-5593-422c-9ee9-52542b59601a, 5d440e01-f2db-440c-a4f9-cd28bb491b6c</td></tr><tr><th>steps</th> <td>ccfraud-xgboost</td></tr><tr><th>published</th> <td>False</td></tr></table>"
      ],
      "text/plain": [
       "{'name': 'edge-observability-pipeline', 'create_time': datetime.datetime(2023, 10, 31, 20, 12, 45, 895294, tzinfo=tzutc()), 'definition': \"[{'ModelInference': {'models': [{'name': 'ccfraud-xgboost', 'version': '51758ef5-7e11-46d0-a085-815201d1556a', 'sha': '054810e3e3ebbdd34438d9c1a08ed6a6680ef10bf97b9223f78ebf38e14b3b52'}]}}]\"}"
      ]
     },
     "execution_count": 8,
     "metadata": {},
     "output_type": "execute_result"
    }
   ],
   "source": [
    "pipeline = wl.build_pipeline(pipeline_name)\n",
    "display(pipeline)\n",
    "\n",
    "# clear the pipeline if previously run\n",
    "pipeline.clear()\n",
    "pipeline.add_model_step(xgboost_edge_demo_model)\n",
    "\n",
    "pipeline.deploy(deployment_config = deploy_config)"
   ]
  },
  {
   "cell_type": "markdown",
   "id": "5c54221a",
   "metadata": {},
   "source": [
    "### Run Single Image Inference\n",
    "\n",
    "A single image, encoded using the Apache Arrow format, is sent to the deployed pipeline. Arrow is used here because, as a binary protocol, there is far lower network and compute overhead than using JSON. The Wallaroo Server engine accepts both JSON, pandas DataFrame, and Apache Arrow formats.\n",
    "\n",
    "The sample DataFrames and arrow tables are in the `./data` directory.  We'll use the Apache Arrow table `cc_data_10k.arrow`.\n",
    "\n",
    "Once complete, we'll display how long the inference request took."
   ]
  },
  {
   "cell_type": "code",
   "execution_count": 9,
   "id": "45151886",
   "metadata": {},
   "outputs": [],
   "source": [
    "import datetime\n",
    "import time\n",
    "\n",
    "deploy_url = pipeline._deployment._url()\n",
    "\n",
    "headers = wl.auth.auth_header()\n",
    "\n",
    "headers['Content-Type']='application/vnd.apache.arrow.file'\n",
    "# headers['Content-Type']='application/json; format=pandas-records'\n",
    "headers['Accept']='application/json; format=pandas-records'\n",
    "\n",
    "dataFile = './data/cc_data_1k.arrow'\n",
    "local_inference_start = datetime.datetime.now()"
   ]
  },
  {
   "cell_type": "code",
   "execution_count": 10,
   "id": "df375edc",
   "metadata": {},
   "outputs": [
    {
     "name": "stdout",
     "output_type": "stream",
     "text": [
      "  % Total    % Received % Xferd  Average Speed   Time    Time     Time  Current\n",
      "                                 Dload  Upload   Total   Spent    Left  Speed\n",
      "100  799k  100  685k  100  114k  39.3M  6733k --:--:-- --:--:-- --:--:-- 45.9M\n"
     ]
    }
   ],
   "source": [
    "!curl -X POST {deploy_url} \\\n",
    "     -H \"Authorization:{headers['Authorization']}\" \\\n",
    "     -H \"Content-Type:{headers['Content-Type']}\" \\\n",
    "     -H \"Accept:{headers['Accept']}\" \\\n",
    "     --data-binary @{dataFile} > curl_response_xgboost.df.json"
   ]
  },
  {
   "cell_type": "markdown",
   "id": "c5d660db",
   "metadata": {},
   "source": [
    "We will import the inference output, and isolate the metadata `partition` to store where the inference results are stored in the pipeline logs."
   ]
  },
  {
   "cell_type": "code",
   "execution_count": 11,
   "id": "3a5abf9f",
   "metadata": {},
   "outputs": [
    {
     "data": {
      "text/html": [
       "<div>\n",
       "<style scoped>\n",
       "    .dataframe tbody tr th:only-of-type {\n",
       "        vertical-align: middle;\n",
       "    }\n",
       "\n",
       "    .dataframe tbody tr th {\n",
       "        vertical-align: top;\n",
       "    }\n",
       "\n",
       "    .dataframe thead th {\n",
       "        text-align: right;\n",
       "    }\n",
       "</style>\n",
       "<table border=\"1\" class=\"dataframe\">\n",
       "  <thead>\n",
       "    <tr style=\"text-align: right;\">\n",
       "      <th></th>\n",
       "      <th>time</th>\n",
       "      <th>out</th>\n",
       "      <th>partition</th>\n",
       "    </tr>\n",
       "  </thead>\n",
       "  <tbody>\n",
       "    <tr>\n",
       "      <th>0</th>\n",
       "      <td>1698783174953</td>\n",
       "      <td>{'variable': [1.0094898]}</td>\n",
       "      <td>engine-5d9b58dbd9-v5rvw</td>\n",
       "    </tr>\n",
       "    <tr>\n",
       "      <th>1</th>\n",
       "      <td>1698783174953</td>\n",
       "      <td>{'variable': [1.0094898]}</td>\n",
       "      <td>engine-5d9b58dbd9-v5rvw</td>\n",
       "    </tr>\n",
       "    <tr>\n",
       "      <th>2</th>\n",
       "      <td>1698783174953</td>\n",
       "      <td>{'variable': [1.0094898]}</td>\n",
       "      <td>engine-5d9b58dbd9-v5rvw</td>\n",
       "    </tr>\n",
       "    <tr>\n",
       "      <th>3</th>\n",
       "      <td>1698783174953</td>\n",
       "      <td>{'variable': [1.0094898]}</td>\n",
       "      <td>engine-5d9b58dbd9-v5rvw</td>\n",
       "    </tr>\n",
       "    <tr>\n",
       "      <th>4</th>\n",
       "      <td>1698783174953</td>\n",
       "      <td>{'variable': [-1.9073485999999998e-06]}</td>\n",
       "      <td>engine-5d9b58dbd9-v5rvw</td>\n",
       "    </tr>\n",
       "    <tr>\n",
       "      <th>5</th>\n",
       "      <td>1698783174953</td>\n",
       "      <td>{'variable': [-4.4882298e-05]}</td>\n",
       "      <td>engine-5d9b58dbd9-v5rvw</td>\n",
       "    </tr>\n",
       "    <tr>\n",
       "      <th>6</th>\n",
       "      <td>1698783174953</td>\n",
       "      <td>{'variable': [-9.36985e-05]}</td>\n",
       "      <td>engine-5d9b58dbd9-v5rvw</td>\n",
       "    </tr>\n",
       "    <tr>\n",
       "      <th>7</th>\n",
       "      <td>1698783174953</td>\n",
       "      <td>{'variable': [-8.3208084e-05]}</td>\n",
       "      <td>engine-5d9b58dbd9-v5rvw</td>\n",
       "    </tr>\n",
       "    <tr>\n",
       "      <th>8</th>\n",
       "      <td>1698783174953</td>\n",
       "      <td>{'variable': [-8.332728999999999e-05]}</td>\n",
       "      <td>engine-5d9b58dbd9-v5rvw</td>\n",
       "    </tr>\n",
       "    <tr>\n",
       "      <th>9</th>\n",
       "      <td>1698783174953</td>\n",
       "      <td>{'variable': [0.0004896521599999999]}</td>\n",
       "      <td>engine-5d9b58dbd9-v5rvw</td>\n",
       "    </tr>\n",
       "    <tr>\n",
       "      <th>10</th>\n",
       "      <td>1698783174953</td>\n",
       "      <td>{'variable': [0.0006609559]}</td>\n",
       "      <td>engine-5d9b58dbd9-v5rvw</td>\n",
       "    </tr>\n",
       "    <tr>\n",
       "      <th>11</th>\n",
       "      <td>1698783174953</td>\n",
       "      <td>{'variable': [7.57277e-05]}</td>\n",
       "      <td>engine-5d9b58dbd9-v5rvw</td>\n",
       "    </tr>\n",
       "    <tr>\n",
       "      <th>12</th>\n",
       "      <td>1698783174953</td>\n",
       "      <td>{'variable': [-0.000100553036]}</td>\n",
       "      <td>engine-5d9b58dbd9-v5rvw</td>\n",
       "    </tr>\n",
       "    <tr>\n",
       "      <th>13</th>\n",
       "      <td>1698783174953</td>\n",
       "      <td>{'variable': [-0.0005198717]}</td>\n",
       "      <td>engine-5d9b58dbd9-v5rvw</td>\n",
       "    </tr>\n",
       "    <tr>\n",
       "      <th>14</th>\n",
       "      <td>1698783174953</td>\n",
       "      <td>{'variable': [-3.695488e-06]}</td>\n",
       "      <td>engine-5d9b58dbd9-v5rvw</td>\n",
       "    </tr>\n",
       "    <tr>\n",
       "      <th>15</th>\n",
       "      <td>1698783174953</td>\n",
       "      <td>{'variable': [-0.00010883808]}</td>\n",
       "      <td>engine-5d9b58dbd9-v5rvw</td>\n",
       "    </tr>\n",
       "    <tr>\n",
       "      <th>16</th>\n",
       "      <td>1698783174953</td>\n",
       "      <td>{'variable': [-0.00017666817]}</td>\n",
       "      <td>engine-5d9b58dbd9-v5rvw</td>\n",
       "    </tr>\n",
       "    <tr>\n",
       "      <th>17</th>\n",
       "      <td>1698783174953</td>\n",
       "      <td>{'variable': [-2.8312206e-05]}</td>\n",
       "      <td>engine-5d9b58dbd9-v5rvw</td>\n",
       "    </tr>\n",
       "    <tr>\n",
       "      <th>18</th>\n",
       "      <td>1698783174953</td>\n",
       "      <td>{'variable': [2.1755695e-05]}</td>\n",
       "      <td>engine-5d9b58dbd9-v5rvw</td>\n",
       "    </tr>\n",
       "    <tr>\n",
       "      <th>19</th>\n",
       "      <td>1698783174953</td>\n",
       "      <td>{'variable': [-8.493661999999999e-05]}</td>\n",
       "      <td>engine-5d9b58dbd9-v5rvw</td>\n",
       "    </tr>\n",
       "  </tbody>\n",
       "</table>\n",
       "</div>"
      ],
      "text/plain": [
       "             time                                      out  \\\n",
       "0   1698783174953                {'variable': [1.0094898]}   \n",
       "1   1698783174953                {'variable': [1.0094898]}   \n",
       "2   1698783174953                {'variable': [1.0094898]}   \n",
       "3   1698783174953                {'variable': [1.0094898]}   \n",
       "4   1698783174953  {'variable': [-1.9073485999999998e-06]}   \n",
       "5   1698783174953           {'variable': [-4.4882298e-05]}   \n",
       "6   1698783174953             {'variable': [-9.36985e-05]}   \n",
       "7   1698783174953           {'variable': [-8.3208084e-05]}   \n",
       "8   1698783174953   {'variable': [-8.332728999999999e-05]}   \n",
       "9   1698783174953    {'variable': [0.0004896521599999999]}   \n",
       "10  1698783174953             {'variable': [0.0006609559]}   \n",
       "11  1698783174953              {'variable': [7.57277e-05]}   \n",
       "12  1698783174953          {'variable': [-0.000100553036]}   \n",
       "13  1698783174953            {'variable': [-0.0005198717]}   \n",
       "14  1698783174953            {'variable': [-3.695488e-06]}   \n",
       "15  1698783174953           {'variable': [-0.00010883808]}   \n",
       "16  1698783174953           {'variable': [-0.00017666817]}   \n",
       "17  1698783174953           {'variable': [-2.8312206e-05]}   \n",
       "18  1698783174953            {'variable': [2.1755695e-05]}   \n",
       "19  1698783174953   {'variable': [-8.493661999999999e-05]}   \n",
       "\n",
       "                  partition  \n",
       "0   engine-5d9b58dbd9-v5rvw  \n",
       "1   engine-5d9b58dbd9-v5rvw  \n",
       "2   engine-5d9b58dbd9-v5rvw  \n",
       "3   engine-5d9b58dbd9-v5rvw  \n",
       "4   engine-5d9b58dbd9-v5rvw  \n",
       "5   engine-5d9b58dbd9-v5rvw  \n",
       "6   engine-5d9b58dbd9-v5rvw  \n",
       "7   engine-5d9b58dbd9-v5rvw  \n",
       "8   engine-5d9b58dbd9-v5rvw  \n",
       "9   engine-5d9b58dbd9-v5rvw  \n",
       "10  engine-5d9b58dbd9-v5rvw  \n",
       "11  engine-5d9b58dbd9-v5rvw  \n",
       "12  engine-5d9b58dbd9-v5rvw  \n",
       "13  engine-5d9b58dbd9-v5rvw  \n",
       "14  engine-5d9b58dbd9-v5rvw  \n",
       "15  engine-5d9b58dbd9-v5rvw  \n",
       "16  engine-5d9b58dbd9-v5rvw  \n",
       "17  engine-5d9b58dbd9-v5rvw  \n",
       "18  engine-5d9b58dbd9-v5rvw  \n",
       "19  engine-5d9b58dbd9-v5rvw  "
      ]
     },
     "metadata": {},
     "output_type": "display_data"
    }
   ],
   "source": [
    "# display the first 20 results\n",
    "\n",
    "df_results = pd.read_json('./curl_response_xgboost.df.json', orient=\"records\")\n",
    "# get just the partition\n",
    "df_results['partition'] = df_results['metadata'].map(lambda x: x['partition'])\n",
    "# display(df_results.head(20))\n",
    "display(df_results.head(20).loc[:, ['time', 'out', 'partition']])"
   ]
  },
  {
   "cell_type": "markdown",
   "id": "4f257fc8",
   "metadata": {},
   "source": [
    "### Undeploy Pipeline\n",
    "\n",
    "With our testing complete, we will undeploy the pipeline and return the resources back to the cluster."
   ]
  },
  {
   "cell_type": "code",
   "execution_count": 12,
   "id": "6b339645",
   "metadata": {},
   "outputs": [
    {
     "name": "stdout",
     "output_type": "stream",
     "text": [
      "Waiting for undeployment - this will take up to 45s .................................... ok\n"
     ]
    },
    {
     "data": {
      "text/html": [
       "<table><tr><th>name</th> <td>edge-observability-pipeline</td></tr><tr><th>created</th> <td>2023-10-31 20:12:45.895294+00:00</td></tr><tr><th>last_updated</th> <td>2023-10-31 20:12:46.009712+00:00</td></tr><tr><th>deployed</th> <td>False</td></tr><tr><th>arch</th> <td>None</td></tr><tr><th>tags</th> <td></td></tr><tr><th>versions</th> <td>2b335efd-5593-422c-9ee9-52542b59601a, 5d440e01-f2db-440c-a4f9-cd28bb491b6c</td></tr><tr><th>steps</th> <td>ccfraud-xgboost</td></tr><tr><th>published</th> <td>False</td></tr></table>"
      ],
      "text/plain": [
       "{'name': 'edge-observability-pipeline', 'create_time': datetime.datetime(2023, 10, 31, 20, 12, 45, 895294, tzinfo=tzutc()), 'definition': \"[{'ModelInference': {'models': [{'name': 'ccfraud-xgboost', 'version': '51758ef5-7e11-46d0-a085-815201d1556a', 'sha': '054810e3e3ebbdd34438d9c1a08ed6a6680ef10bf97b9223f78ebf38e14b3b52'}]}}]\"}"
      ]
     },
     "execution_count": 12,
     "metadata": {},
     "output_type": "execute_result"
    }
   ],
   "source": [
    "pipeline.undeploy()"
   ]
  },
  {
   "cell_type": "markdown",
   "id": "87a3e336",
   "metadata": {},
   "source": [
    "### Publish the Pipeline for Edge Deployment\n",
    "\n",
    "It worked! For a demo, we'll take working once as \"tested\". So now that we've tested our pipeline, we are ready to publish it for edge deployment.\n",
    "\n",
    "Publishing it means assembling all of the configuration files and model assets and pushing them to an Open Container Initiative (OCI) repository set in the Wallaroo instance as the Edge Registry service.  DevOps engineers then retrieve that image and deploy it through Docker, Kubernetes, or similar deployments.\n",
    "\n",
    "See [Edge Deployment Registry Guide](https://docs.wallaroo.ai/wallaroo-platform-operations/wallaroo-platform-operations-configure/wallaroo-edge-deployment/) for details on adding an OCI Registry Service to Wallaroo as the Edge Deployment Registry.\n",
    "\n",
    "This is done through the SDK command `wallaroo.pipeline.publish(deployment_config)` which has the following parameters and returns.\n",
    "\n",
    "#### Publish a Pipeline Parameters\n",
    "\n",
    "The `publish` method takes the following parameters.  The containerized pipeline will be pushed to the Edge registry service with the model, pipeline configurations, and other artifacts needed to deploy the pipeline.\n",
    "\n",
    "| Parameter | Type | Description |\n",
    "|---|---|---|\n",
    "| `deployment_config` | `wallaroo.deployment_config.DeploymentConfig` (*Optional*) | Sets the pipeline deployment configuration.  For example:    For more information on pipeline deployment configuration, see the [Wallaroo SDK Essentials Guide: Pipeline Deployment Configuration](https://docs.wallaroo.ai/wallaroo-developer-guides/wallaroo-sdk-guides/wallaroo-sdk-essentials-guide/wallaroo-sdk-essentials-pipelines/wallaroo-sdk-essentials-pipeline-deployment-config/).\n",
    "\n",
    "#### Publish a Pipeline Returns\n",
    "\n",
    "| Field | Type | Description |\n",
    "|---|---|---|\n",
    "| id | integer | Numerical Wallaroo id of the published pipeline. |\n",
    "| pipeline version id | integer | Numerical Wallaroo id of the pipeline version published. |\n",
    "| status | string | The status of the pipeline publication.  Values include:  <ul><li>PendingPublish: The pipeline publication is about to be uploaded or is in the process of being uploaded.</li><li>Published:  The pipeline is published and ready for use.</li></ul> |\n",
    "| Engine URL | string | The URL of the published pipeline engine in the edge registry. |\n",
    "| Pipeline URL | string | The URL of the published pipeline in the edge registry. |\n",
    "| Helm Chart URL | string | The URL of the helm chart for the published pipeline in the edge registry. |\n",
    "| Helm Chart Reference | string | The help chart reference. |\n",
    "| Helm Chart Version | string | The version of the Helm Chart of the published pipeline.  This is also used as the Docker tag. |\n",
    "| Engine Config | `wallaroo.deployment_config.DeploymentConfig` | The pipeline configuration included with the published pipeline. |\n",
    "| Created At | DateTime | When the published pipeline was created. |\n",
    "| Updated At | DateTime | When the published pipeline was updated. |\n",
    "\n",
    "### Publish Example\n",
    "\n",
    "We will now publish the pipeline to our Edge Deployment Registry with the `pipeline.publish(deployment_config)` command.  `deployment_config` is an optional field that specifies the pipeline deployment.  This can be overridden by the DevOps engineer during deployment."
   ]
  },
  {
   "cell_type": "code",
   "execution_count": 13,
   "id": "a87a2a24-1757-4782-bf40-548bcb97e101",
   "metadata": {},
   "outputs": [
    {
     "name": "stdout",
     "output_type": "stream",
     "text": [
      "Waiting for pipeline publish... It may take up to 600 sec.\n",
      "Pipeline is Publishing....Published.\n"
     ]
    },
    {
     "data": {
      "text/html": [
       "\n",
       "          <table>\n",
       "              <tr><td>ID</td><td>2</td></tr>\n",
       "              <tr><td>Pipeline Version</td><td>1a5a21e2-f0e8-4148-9ee2-23c877c0ac90</td></tr>\n",
       "              <tr><td>Status</td><td>Published</td></tr>\n",
       "              <tr><td>Engine URL</td><td><a href='https://us-central1-docker.pkg.dev/wallaroo-dev-253816/uat/engines/proxy/wallaroo/ghcr.io/wallaroolabs/standalone-mini:v2023.4.0-4092'>us-central1-docker.pkg.dev/wallaroo-dev-253816/uat/engines/proxy/wallaroo/ghcr.io/wallaroolabs/standalone-mini:v2023.4.0-4092</a></td></tr>\n",
       "              <tr><td>Pipeline URL</td><td><a href='https://us-central1-docker.pkg.dev/wallaroo-dev-253816/uat/pipelines/edge-observability-pipeline:1a5a21e2-f0e8-4148-9ee2-23c877c0ac90'>us-central1-docker.pkg.dev/wallaroo-dev-253816/uat/pipelines/edge-observability-pipeline:1a5a21e2-f0e8-4148-9ee2-23c877c0ac90</a></td></tr>\n",
       "              <tr><td>Helm Chart URL</td><td>oci://<a href='https://us-central1-docker.pkg.dev/wallaroo-dev-253816/uat/charts/edge-observability-pipeline'>us-central1-docker.pkg.dev/wallaroo-dev-253816/uat/charts/edge-observability-pipeline</a></td></tr>\n",
       "              <tr><td>Helm Chart Reference</td><td>us-central1-docker.pkg.dev/wallaroo-dev-253816/uat/charts@sha256:8bf628174b5ff87d913590d34a4c3d5eaa846b8b2a52bcf6a76295cd588cb6e8</td></tr>\n",
       "              <tr><td>Helm Chart Version</td><td>0.0.1-1a5a21e2-f0e8-4148-9ee2-23c877c0ac90</td></tr>\n",
       "              <tr><td>Engine Config</td><td>{'engine': {'resources': {'limits': {'cpu': 1.0, 'memory': '512Mi'}, 'requests': {'cpu': 1.0, 'memory': '512Mi'}}}, 'engineAux': {'images': {}}, 'enginelb': {'resources': {'limits': {'cpu': 1.0, 'memory': '512Mi'}, 'requests': {'cpu': 1.0, 'memory': '512Mi'}}}}</td></tr>\n",
       "              <tr><td>User Images</td><td>[]</td></tr>\n",
       "              <tr><td>Created By</td><td>john.hummel@wallaroo.ai</td></tr>\n",
       "              <tr><td>Created At</td><td>2023-10-31 20:13:32.751657+00:00</td></tr>\n",
       "              <tr><td>Updated At</td><td>2023-10-31 20:13:32.751657+00:00</td></tr>\n",
       "              <tr><td>Docker Run Variables</td><td>{}</td></tr>\n",
       "          </table>\n",
       "        "
      ],
      "text/plain": [
       "PipelinePublish(created_at=datetime.datetime(2023, 10, 31, 20, 13, 32, 751657, tzinfo=tzutc()), docker_run_variables={}, engine_config={'engine': {'resources': {'limits': {'cpu': 1.0, 'memory': '512Mi'}, 'requests': {'cpu': 1.0, 'memory': '512Mi'}}}, 'engineAux': {'images': {}}, 'enginelb': {'resources': {'limits': {'cpu': 1.0, 'memory': '512Mi'}, 'requests': {'cpu': 1.0, 'memory': '512Mi'}}}}, id=2, pipeline_version_id=6, status='Published', updated_at=datetime.datetime(2023, 10, 31, 20, 13, 32, 751657, tzinfo=tzutc()), user_images=[], created_by='b3deff28-04d0-41b8-a04f-b5cf610d6ce9', engine_url='us-central1-docker.pkg.dev/wallaroo-dev-253816/uat/engines/proxy/wallaroo/ghcr.io/wallaroolabs/standalone-mini:v2023.4.0-4092', error=None, helm={'reference': 'us-central1-docker.pkg.dev/wallaroo-dev-253816/uat/charts@sha256:8bf628174b5ff87d913590d34a4c3d5eaa846b8b2a52bcf6a76295cd588cb6e8', 'values': {}, 'chart': 'us-central1-docker.pkg.dev/wallaroo-dev-253816/uat/charts/edge-observability-pipeline', 'version': '0.0.1-1a5a21e2-f0e8-4148-9ee2-23c877c0ac90'}, pipeline_url='us-central1-docker.pkg.dev/wallaroo-dev-253816/uat/pipelines/edge-observability-pipeline:1a5a21e2-f0e8-4148-9ee2-23c877c0ac90', pipeline_version_name='1a5a21e2-f0e8-4148-9ee2-23c877c0ac90', additional_properties={})"
      ]
     },
     "metadata": {},
     "output_type": "display_data"
    }
   ],
   "source": [
    "pub=pipeline.publish(deploy_config)\n",
    "display(pub)"
   ]
  },
  {
   "cell_type": "markdown",
   "id": "fb09c1c5",
   "metadata": {},
   "source": [
    "### List Published Pipelines\n",
    "\n",
    "The method `wallaroo.client.list_pipelines()` shows a list of all pipelines in the Wallaroo instance, and includes the `published` field that indicates whether the pipeline was published to the registry (`True`), or has not yet been published (`False`)."
   ]
  },
  {
   "cell_type": "code",
   "execution_count": 14,
   "id": "919d028f-25c8-4caf-9a4d-e83b1f0b2991",
   "metadata": {},
   "outputs": [
    {
     "data": {
      "text/html": [
       "<table><tr><th>name</th><th>created</th><th>last_updated</th><th>deployed</th><th>arch</th><th>tags</th><th>versions</th><th>steps</th><th>published</th></tr><tr><td>edge-observability-pipeline</td><td>2023-31-Oct 20:12:45</td><td>2023-31-Oct 20:13:32</td><td>False</td><td>None</td><td></td><td>1a5a21e2-f0e8-4148-9ee2-23c877c0ac90, 2b335efd-5593-422c-9ee9-52542b59601a, 5d440e01-f2db-440c-a4f9-cd28bb491b6c</td><td>ccfraud-xgboost</td><td>True</td></tr><tr><td>housepricesagapipeline</td><td>2023-31-Oct 20:04:58</td><td>2023-31-Oct 20:13:02</td><td>True</td><td>None</td><td></td><td>0056edf3-730f-452d-a6ed-2dfa47ff5567, 8bc714ea-8257-4512-a102-402baf3143b3, 76006480-b145-4d6a-9e95-9b2e7a4f8d8e</td><td>housepricesagacontrol</td><td>True</td></tr></table>"
      ],
      "text/plain": [
       "[{'name': 'edge-observability-pipeline', 'create_time': datetime.datetime(2023, 10, 31, 20, 12, 45, 895294, tzinfo=tzutc()), 'definition': '[]'},\n",
       " {'name': 'housepricesagapipeline', 'create_time': datetime.datetime(2023, 10, 31, 20, 4, 58, 893166, tzinfo=tzutc()), 'definition': '[]'}]"
      ]
     },
     "execution_count": 14,
     "metadata": {},
     "output_type": "execute_result"
    }
   ],
   "source": [
    "wl.list_pipelines()"
   ]
  },
  {
   "cell_type": "markdown",
   "id": "8b65c7a2",
   "metadata": {},
   "source": [
    "### List Publishes from a Pipeline\n",
    "\n",
    "All publishes created from a pipeline are displayed with the `wallaroo.pipeline.publishes` method.  The `pipeline_version_id` is used to know what version of the pipeline was used in that specific publish.  This allows for pipelines to be updated over time, and newer versions to be sent and tracked to the Edge Deployment Registry service.\n",
    "\n",
    "#### List Publishes Parameters\n",
    "\n",
    "N/A\n",
    "\n",
    "#### List Publishes Returns\n",
    "\n",
    "A List of the following fields:\n",
    "\n",
    "| Field | Type | Description |\n",
    "|---|---|---|\n",
    "| id | integer | Numerical Wallaroo id of the published pipeline. |\n",
    "| pipeline_version_id | integer | Numerical Wallaroo id of the pipeline version published. |\n",
    "| engine_url | string | The URL of the published pipeline engine in the edge registry. |\n",
    "| pipeline_url | string | The URL of the published pipeline in the edge registry. |\n",
    "| created_by | string | The email address of the user that published the pipeline.\n",
    "| Created At | DateTime | When the published pipeline was created. |\n",
    "| Updated At | DateTime | When the published pipeline was updated. |"
   ]
  },
  {
   "cell_type": "code",
   "execution_count": 15,
   "id": "6cdde60c-bf02-4180-83fd-aaedae6ca15e",
   "metadata": {},
   "outputs": [
    {
     "data": {
      "text/html": [
       "<table><tr><th>id</th><th>pipeline_version_name</th><th>engine_url</th><th>pipeline_url</th><th>created_by</th><th>created_at</th><th>updated_at</th></tr><tr><td>2</td><td>1a5a21e2-f0e8-4148-9ee2-23c877c0ac90</td><td><a href='https://us-central1-docker.pkg.dev/wallaroo-dev-253816/uat/engines/proxy/wallaroo/ghcr.io/wallaroolabs/standalone-mini:v2023.4.0-4092'>us-central1-docker.pkg.dev/wallaroo-dev-253816/uat/engines/proxy/wallaroo/ghcr.io/wallaroolabs/standalone-mini:v2023.4.0-4092</a></td><td><a href='https://us-central1-docker.pkg.dev/wallaroo-dev-253816/uat/pipelines/edge-observability-pipeline:1a5a21e2-f0e8-4148-9ee2-23c877c0ac90'>us-central1-docker.pkg.dev/wallaroo-dev-253816/uat/pipelines/edge-observability-pipeline:1a5a21e2-f0e8-4148-9ee2-23c877c0ac90</a></td><td>john.hummel@wallaroo.ai</td><td>2023-31-Oct 20:13:32</td><td>2023-31-Oct 20:13:32</td></tr></table>"
      ],
      "text/plain": [
       "[PipelinePublish(created_at=datetime.datetime(2023, 10, 31, 20, 13, 32, 751657, tzinfo=tzutc()), docker_run_variables={}, engine_config={'engine': {'resources': {'limits': {'cpu': 1.0, 'memory': '512Mi'}, 'requests': {'cpu': 1.0, 'memory': '512Mi'}}}, 'enginelb': {'resources': {'limits': {'cpu': 1.0, 'memory': '512Mi'}, 'requests': {'cpu': 1.0, 'memory': '512Mi'}}}, 'engineAux': {'images': {}}}, id=2, pipeline_version_id=6, status='Published', updated_at=datetime.datetime(2023, 10, 31, 20, 13, 32, 751657, tzinfo=tzutc()), user_images=[], created_by='b3deff28-04d0-41b8-a04f-b5cf610d6ce9', engine_url='us-central1-docker.pkg.dev/wallaroo-dev-253816/uat/engines/proxy/wallaroo/ghcr.io/wallaroolabs/standalone-mini:v2023.4.0-4092', error=None, helm={'reference': 'us-central1-docker.pkg.dev/wallaroo-dev-253816/uat/charts@sha256:8bf628174b5ff87d913590d34a4c3d5eaa846b8b2a52bcf6a76295cd588cb6e8', 'chart': 'us-central1-docker.pkg.dev/wallaroo-dev-253816/uat/charts/edge-observability-pipeline', 'version': '0.0.1-1a5a21e2-f0e8-4148-9ee2-23c877c0ac90', 'values': {}}, pipeline_url='us-central1-docker.pkg.dev/wallaroo-dev-253816/uat/pipelines/edge-observability-pipeline:1a5a21e2-f0e8-4148-9ee2-23c877c0ac90', pipeline_version_name='1a5a21e2-f0e8-4148-9ee2-23c877c0ac90', additional_properties={})]"
      ]
     },
     "execution_count": 15,
     "metadata": {},
     "output_type": "execute_result"
    }
   ],
   "source": [
    "pipeline.publishes()"
   ]
  },
  {
   "cell_type": "markdown",
   "id": "d82258b2-c1c0-4c65-9d02-7d334db5cc34",
   "metadata": {},
   "source": [
    "## DevOps - Pipeline Edge Deployment\n",
    "\n",
    "Once a pipeline is deployed to the Edge Registry service, it can be deployed in environments such as Docker, Kubernetes, or similar container running services by a DevOps engineer as a Wallaroo Server.\n",
    "\n",
    "The following guides will demonstrate publishing a Wallaroo Pipeline as a Wallaroo Server.\n",
    "\n",
    "### Add Edge Location\n",
    "\n",
    "Wallaroo Servers can optionally connect to the Wallaroo Ops instance and transmit their inference results.  These are added to the pipeline logs for the published pipeline the Wallaroo Server is associated with.\n",
    "\n",
    "Wallaroo Servers are added with the `wallaroo.pipeline_publish.add_edge(name: string)` method.  The `name` is the unique primary key for each edge added to the pipeline publish and must be unique.\n",
    "\n",
    "This returns a Publish Edge with the following fields:\n",
    "\n",
    "| Field | Type | Description |\n",
    "|---|---|---|\n",
    "| `id` | Integer | The integer ID of the pipeline publish.|\n",
    "| `created_at` | DateTime | The DateTime of the pipeline publish. |\n",
    "| `docker_run_variables` | String | The Docker variables in UUID format that include the following: The `BUNDLE_VERSION`, `EDGE_NAME`, `JOIN_TOKEN_`, `OPSCENTER_HOST`, `PIPELINE_URL`, and `WORKSPACE_ID`.\n",
    "| `engine_config` | String | The Wallaroo `wallaroo.deployment_config.DeploymentConfig` for the pipeline. |\n",
    "| `pipeline_version_id` | Integer | The integer identifier of the pipeline version published. |\n",
    "| `status` | String | The status of the publish.  `Published` is a successful publish.|\n",
    "| `updated_at` | DateTime | The DateTime when the pipeline publish was updated. |\n",
    "| `user_images` | List(String) | User images used in the pipeline publish. |\n",
    "| `created_by` | String | The UUID of the Wallaroo user that created the pipeline publish. |\n",
    "| `engine_url` | String | The URL for the published pipeline's Wallaroo engine in the OCI registry. |\n",
    "| `error` | String | Any errors logged. |\n",
    "| `helm` | String | The helm chart, helm reference and helm version. |\n",
    "| `pipeline_url` | String | The URL for the published pipeline's container in the OCI registry. |\n",
    "| `pipeline_version_name` | String | The UUID identifier of the pipeline version published. |\n",
    "| `additional_properties` | String | Any other identities. |\n",
    "\n",
    "Two edge publishes will be created so we can demonstrate removing an edge shortly."
   ]
  },
  {
   "cell_type": "code",
   "execution_count": 16,
   "id": "1712f040",
   "metadata": {},
   "outputs": [
    {
     "data": {
      "text/html": [
       "\n",
       "          <table>\n",
       "              <tr><td>ID</td><td>2</td></tr>\n",
       "              <tr><td>Pipeline Version</td><td>1a5a21e2-f0e8-4148-9ee2-23c877c0ac90</td></tr>\n",
       "              <tr><td>Status</td><td>Published</td></tr>\n",
       "              <tr><td>Engine URL</td><td><a href='https://us-central1-docker.pkg.dev/wallaroo-dev-253816/uat/engines/proxy/wallaroo/ghcr.io/wallaroolabs/standalone-mini:v2023.4.0-4092'>us-central1-docker.pkg.dev/wallaroo-dev-253816/uat/engines/proxy/wallaroo/ghcr.io/wallaroolabs/standalone-mini:v2023.4.0-4092</a></td></tr>\n",
       "              <tr><td>Pipeline URL</td><td><a href='https://us-central1-docker.pkg.dev/wallaroo-dev-253816/uat/pipelines/edge-observability-pipeline:1a5a21e2-f0e8-4148-9ee2-23c877c0ac90'>us-central1-docker.pkg.dev/wallaroo-dev-253816/uat/pipelines/edge-observability-pipeline:1a5a21e2-f0e8-4148-9ee2-23c877c0ac90</a></td></tr>\n",
       "              <tr><td>Helm Chart URL</td><td>oci://<a href='https://us-central1-docker.pkg.dev/wallaroo-dev-253816/uat/charts/edge-observability-pipeline'>us-central1-docker.pkg.dev/wallaroo-dev-253816/uat/charts/edge-observability-pipeline</a></td></tr>\n",
       "              <tr><td>Helm Chart Reference</td><td>us-central1-docker.pkg.dev/wallaroo-dev-253816/uat/charts@sha256:8bf628174b5ff87d913590d34a4c3d5eaa846b8b2a52bcf6a76295cd588cb6e8</td></tr>\n",
       "              <tr><td>Helm Chart Version</td><td>0.0.1-1a5a21e2-f0e8-4148-9ee2-23c877c0ac90</td></tr>\n",
       "              <tr><td>Engine Config</td><td>{'engine': {'resources': {'limits': {'cpu': 1.0, 'memory': '512Mi'}, 'requests': {'cpu': 1.0, 'memory': '512Mi'}}}, 'engineAux': {'images': {}}, 'enginelb': {'resources': {'limits': {'cpu': 1.0, 'memory': '512Mi'}, 'requests': {'cpu': 1.0, 'memory': '512Mi'}}}}</td></tr>\n",
       "              <tr><td>User Images</td><td>[]</td></tr>\n",
       "              <tr><td>Created By</td><td>john.hummel@wallaroo.ai</td></tr>\n",
       "              <tr><td>Created At</td><td>2023-10-31 20:13:32.751657+00:00</td></tr>\n",
       "              <tr><td>Updated At</td><td>2023-10-31 20:13:32.751657+00:00</td></tr>\n",
       "              <tr><td>Docker Run Variables</td><td>{'EDGE_BUNDLE': 'ZXhwb3J0IEJVTkRMRV9WRVJTSU9OPTEKZXhwb3J0IEVER0VfTkFNRT1lZGdlLWNjZnJhdWQtb2JzZXJ2YWJpbGl0eXltZ3kKZXhwb3J0IEpPSU5fVE9LRU49MDExMDVhMDktNzE2Yi00YzU5LTg2OGItZTg1MzA0YTcxZDZkCmV4cG9ydCBPUFNDRU5URVJfSE9TVD1wcm9kdWN0LXVhdC1lZS5lZGdlLndhbGxhcm9vY29tbXVuaXR5Lm5pbmphCmV4cG9ydCBQSVBFTElORV9VUkw9dXMtY2VudHJhbDEtZG9ja2VyLnBrZy5kZXYvd2FsbGFyb28tZGV2LTI1MzgxNi91YXQvcGlwZWxpbmVzL2VkZ2Utb2JzZXJ2YWJpbGl0eS1waXBlbGluZToxYTVhMjFlMi1mMGU4LTQxNDgtOWVlMi0yM2M4NzdjMGFjOTAKZXhwb3J0IFdPUktTUEFDRV9JRD0xNA=='}</td></tr>\n",
       "          </table>\n",
       "        "
      ],
      "text/plain": [
       "PipelinePublish(created_at=datetime.datetime(2023, 10, 31, 20, 13, 32, 751657, tzinfo=tzutc()), docker_run_variables={'EDGE_BUNDLE': 'ZXhwb3J0IEJVTkRMRV9WRVJTSU9OPTEKZXhwb3J0IEVER0VfTkFNRT1lZGdlLWNjZnJhdWQtb2JzZXJ2YWJpbGl0eXltZ3kKZXhwb3J0IEpPSU5fVE9LRU49MDExMDVhMDktNzE2Yi00YzU5LTg2OGItZTg1MzA0YTcxZDZkCmV4cG9ydCBPUFNDRU5URVJfSE9TVD1wcm9kdWN0LXVhdC1lZS5lZGdlLndhbGxhcm9vY29tbXVuaXR5Lm5pbmphCmV4cG9ydCBQSVBFTElORV9VUkw9dXMtY2VudHJhbDEtZG9ja2VyLnBrZy5kZXYvd2FsbGFyb28tZGV2LTI1MzgxNi91YXQvcGlwZWxpbmVzL2VkZ2Utb2JzZXJ2YWJpbGl0eS1waXBlbGluZToxYTVhMjFlMi1mMGU4LTQxNDgtOWVlMi0yM2M4NzdjMGFjOTAKZXhwb3J0IFdPUktTUEFDRV9JRD0xNA=='}, engine_config={'engine': {'resources': {'limits': {'cpu': 1.0, 'memory': '512Mi'}, 'requests': {'cpu': 1.0, 'memory': '512Mi'}}}, 'engineAux': {'images': {}}, 'enginelb': {'resources': {'limits': {'cpu': 1.0, 'memory': '512Mi'}, 'requests': {'cpu': 1.0, 'memory': '512Mi'}}}}, id=2, pipeline_version_id=6, status='Published', updated_at=datetime.datetime(2023, 10, 31, 20, 13, 32, 751657, tzinfo=tzutc()), user_images=[], created_by='b3deff28-04d0-41b8-a04f-b5cf610d6ce9', engine_url='us-central1-docker.pkg.dev/wallaroo-dev-253816/uat/engines/proxy/wallaroo/ghcr.io/wallaroolabs/standalone-mini:v2023.4.0-4092', error=None, helm={'reference': 'us-central1-docker.pkg.dev/wallaroo-dev-253816/uat/charts@sha256:8bf628174b5ff87d913590d34a4c3d5eaa846b8b2a52bcf6a76295cd588cb6e8', 'values': {'edgeBundle': 'ZXhwb3J0IEJVTkRMRV9WRVJTSU9OPTEKZXhwb3J0IEVER0VfTkFNRT1lZGdlLWNjZnJhdWQtb2JzZXJ2YWJpbGl0eXltZ3kKZXhwb3J0IEpPSU5fVE9LRU49MDExMDVhMDktNzE2Yi00YzU5LTg2OGItZTg1MzA0YTcxZDZkCmV4cG9ydCBPUFNDRU5URVJfSE9TVD1wcm9kdWN0LXVhdC1lZS5lZGdlLndhbGxhcm9vY29tbXVuaXR5Lm5pbmphCmV4cG9ydCBQSVBFTElORV9VUkw9dXMtY2VudHJhbDEtZG9ja2VyLnBrZy5kZXYvd2FsbGFyb28tZGV2LTI1MzgxNi91YXQvcGlwZWxpbmVzL2VkZ2Utb2JzZXJ2YWJpbGl0eS1waXBlbGluZToxYTVhMjFlMi1mMGU4LTQxNDgtOWVlMi0yM2M4NzdjMGFjOTAKZXhwb3J0IFdPUktTUEFDRV9JRD0xNA=='}, 'chart': 'us-central1-docker.pkg.dev/wallaroo-dev-253816/uat/charts/edge-observability-pipeline', 'version': '0.0.1-1a5a21e2-f0e8-4148-9ee2-23c877c0ac90'}, pipeline_url='us-central1-docker.pkg.dev/wallaroo-dev-253816/uat/pipelines/edge-observability-pipeline:1a5a21e2-f0e8-4148-9ee2-23c877c0ac90', pipeline_version_name='1a5a21e2-f0e8-4148-9ee2-23c877c0ac90', additional_properties={})"
      ]
     },
     "metadata": {},
     "output_type": "display_data"
    },
    {
     "data": {
      "text/html": [
       "\n",
       "          <table>\n",
       "              <tr><td>ID</td><td>2</td></tr>\n",
       "              <tr><td>Pipeline Version</td><td>1a5a21e2-f0e8-4148-9ee2-23c877c0ac90</td></tr>\n",
       "              <tr><td>Status</td><td>Published</td></tr>\n",
       "              <tr><td>Engine URL</td><td><a href='https://us-central1-docker.pkg.dev/wallaroo-dev-253816/uat/engines/proxy/wallaroo/ghcr.io/wallaroolabs/standalone-mini:v2023.4.0-4092'>us-central1-docker.pkg.dev/wallaroo-dev-253816/uat/engines/proxy/wallaroo/ghcr.io/wallaroolabs/standalone-mini:v2023.4.0-4092</a></td></tr>\n",
       "              <tr><td>Pipeline URL</td><td><a href='https://us-central1-docker.pkg.dev/wallaroo-dev-253816/uat/pipelines/edge-observability-pipeline:1a5a21e2-f0e8-4148-9ee2-23c877c0ac90'>us-central1-docker.pkg.dev/wallaroo-dev-253816/uat/pipelines/edge-observability-pipeline:1a5a21e2-f0e8-4148-9ee2-23c877c0ac90</a></td></tr>\n",
       "              <tr><td>Helm Chart URL</td><td>oci://<a href='https://us-central1-docker.pkg.dev/wallaroo-dev-253816/uat/charts/edge-observability-pipeline'>us-central1-docker.pkg.dev/wallaroo-dev-253816/uat/charts/edge-observability-pipeline</a></td></tr>\n",
       "              <tr><td>Helm Chart Reference</td><td>us-central1-docker.pkg.dev/wallaroo-dev-253816/uat/charts@sha256:8bf628174b5ff87d913590d34a4c3d5eaa846b8b2a52bcf6a76295cd588cb6e8</td></tr>\n",
       "              <tr><td>Helm Chart Version</td><td>0.0.1-1a5a21e2-f0e8-4148-9ee2-23c877c0ac90</td></tr>\n",
       "              <tr><td>Engine Config</td><td>{'engine': {'resources': {'limits': {'cpu': 1.0, 'memory': '512Mi'}, 'requests': {'cpu': 1.0, 'memory': '512Mi'}}}, 'engineAux': {'images': {}}, 'enginelb': {'resources': {'limits': {'cpu': 1.0, 'memory': '512Mi'}, 'requests': {'cpu': 1.0, 'memory': '512Mi'}}}}</td></tr>\n",
       "              <tr><td>User Images</td><td>[]</td></tr>\n",
       "              <tr><td>Created By</td><td>john.hummel@wallaroo.ai</td></tr>\n",
       "              <tr><td>Created At</td><td>2023-10-31 20:13:32.751657+00:00</td></tr>\n",
       "              <tr><td>Updated At</td><td>2023-10-31 20:13:32.751657+00:00</td></tr>\n",
       "              <tr><td>Docker Run Variables</td><td>{'EDGE_BUNDLE': 'ZXhwb3J0IEJVTkRMRV9WRVJTSU9OPTEKZXhwb3J0IEVER0VfTkFNRT1lZGdlLWNjZnJhdWQtb2JzZXJ2YWJpbGl0eS0wMnltZ3kKZXhwb3J0IEpPSU5fVE9LRU49ZmQ5Nzc2N2MtOTU1YS00YWVmLWIwMjgtYTkyYmIxMDFiMDc2CmV4cG9ydCBPUFNDRU5URVJfSE9TVD1wcm9kdWN0LXVhdC1lZS5lZGdlLndhbGxhcm9vY29tbXVuaXR5Lm5pbmphCmV4cG9ydCBQSVBFTElORV9VUkw9dXMtY2VudHJhbDEtZG9ja2VyLnBrZy5kZXYvd2FsbGFyb28tZGV2LTI1MzgxNi91YXQvcGlwZWxpbmVzL2VkZ2Utb2JzZXJ2YWJpbGl0eS1waXBlbGluZToxYTVhMjFlMi1mMGU4LTQxNDgtOWVlMi0yM2M4NzdjMGFjOTAKZXhwb3J0IFdPUktTUEFDRV9JRD0xNA=='}</td></tr>\n",
       "          </table>\n",
       "        "
      ],
      "text/plain": [
       "PipelinePublish(created_at=datetime.datetime(2023, 10, 31, 20, 13, 32, 751657, tzinfo=tzutc()), docker_run_variables={'EDGE_BUNDLE': 'ZXhwb3J0IEJVTkRMRV9WRVJTSU9OPTEKZXhwb3J0IEVER0VfTkFNRT1lZGdlLWNjZnJhdWQtb2JzZXJ2YWJpbGl0eS0wMnltZ3kKZXhwb3J0IEpPSU5fVE9LRU49ZmQ5Nzc2N2MtOTU1YS00YWVmLWIwMjgtYTkyYmIxMDFiMDc2CmV4cG9ydCBPUFNDRU5URVJfSE9TVD1wcm9kdWN0LXVhdC1lZS5lZGdlLndhbGxhcm9vY29tbXVuaXR5Lm5pbmphCmV4cG9ydCBQSVBFTElORV9VUkw9dXMtY2VudHJhbDEtZG9ja2VyLnBrZy5kZXYvd2FsbGFyb28tZGV2LTI1MzgxNi91YXQvcGlwZWxpbmVzL2VkZ2Utb2JzZXJ2YWJpbGl0eS1waXBlbGluZToxYTVhMjFlMi1mMGU4LTQxNDgtOWVlMi0yM2M4NzdjMGFjOTAKZXhwb3J0IFdPUktTUEFDRV9JRD0xNA=='}, engine_config={'engine': {'resources': {'limits': {'cpu': 1.0, 'memory': '512Mi'}, 'requests': {'cpu': 1.0, 'memory': '512Mi'}}}, 'engineAux': {'images': {}}, 'enginelb': {'resources': {'limits': {'cpu': 1.0, 'memory': '512Mi'}, 'requests': {'cpu': 1.0, 'memory': '512Mi'}}}}, id=2, pipeline_version_id=6, status='Published', updated_at=datetime.datetime(2023, 10, 31, 20, 13, 32, 751657, tzinfo=tzutc()), user_images=[], created_by='b3deff28-04d0-41b8-a04f-b5cf610d6ce9', engine_url='us-central1-docker.pkg.dev/wallaroo-dev-253816/uat/engines/proxy/wallaroo/ghcr.io/wallaroolabs/standalone-mini:v2023.4.0-4092', error=None, helm={'reference': 'us-central1-docker.pkg.dev/wallaroo-dev-253816/uat/charts@sha256:8bf628174b5ff87d913590d34a4c3d5eaa846b8b2a52bcf6a76295cd588cb6e8', 'values': {'edgeBundle': 'ZXhwb3J0IEJVTkRMRV9WRVJTSU9OPTEKZXhwb3J0IEVER0VfTkFNRT1lZGdlLWNjZnJhdWQtb2JzZXJ2YWJpbGl0eS0wMnltZ3kKZXhwb3J0IEpPSU5fVE9LRU49ZmQ5Nzc2N2MtOTU1YS00YWVmLWIwMjgtYTkyYmIxMDFiMDc2CmV4cG9ydCBPUFNDRU5URVJfSE9TVD1wcm9kdWN0LXVhdC1lZS5lZGdlLndhbGxhcm9vY29tbXVuaXR5Lm5pbmphCmV4cG9ydCBQSVBFTElORV9VUkw9dXMtY2VudHJhbDEtZG9ja2VyLnBrZy5kZXYvd2FsbGFyb28tZGV2LTI1MzgxNi91YXQvcGlwZWxpbmVzL2VkZ2Utb2JzZXJ2YWJpbGl0eS1waXBlbGluZToxYTVhMjFlMi1mMGU4LTQxNDgtOWVlMi0yM2M4NzdjMGFjOTAKZXhwb3J0IFdPUktTUEFDRV9JRD0xNA=='}, 'chart': 'us-central1-docker.pkg.dev/wallaroo-dev-253816/uat/charts/edge-observability-pipeline', 'version': '0.0.1-1a5a21e2-f0e8-4148-9ee2-23c877c0ac90'}, pipeline_url='us-central1-docker.pkg.dev/wallaroo-dev-253816/uat/pipelines/edge-observability-pipeline:1a5a21e2-f0e8-4148-9ee2-23c877c0ac90', pipeline_version_name='1a5a21e2-f0e8-4148-9ee2-23c877c0ac90', additional_properties={})"
      ]
     },
     "metadata": {},
     "output_type": "display_data"
    }
   ],
   "source": [
    "edge_01_name = f'edge-ccfraud-observability{random_suffix}'\n",
    "edge01 = pub.add_edge(edge_01_name)\n",
    "display(edge01)\n",
    "\n",
    "\n",
    "edge_02_name = f'edge-ccfraud-observability-02{random_suffix}'\n",
    "edge02 = pub.add_edge(edge_02_name)\n",
    "display(edge02)"
   ]
  },
  {
   "cell_type": "code",
   "execution_count": 20,
   "id": "3323841a-e46f-484c-9eb2-17c7dcf7ab72",
   "metadata": {},
   "outputs": [
    {
     "data": {
      "text/html": [
       "<table><tr><th>ID</th><th>Name</th><th>Tags</th><th>Pipeline Version</th><th>SPIFFE ID</th></tr><tr><td>898bb58c-77c2-4164-b6cc-f004dc39e125</td><td>edge-ccfraud-observabilityymgy</td><td>[]</td><td>6</td><td>wallaroo.ai/ns/deployments/edge/898bb58c-77c2-4164-b6cc-f004dc39e125</td></tr><tr><td>1f35731a-f4f6-4cd0-a23a-c4a326b73277</td><td>edge-ccfraud-observability-02ymgy</td><td>[]</td><td>6</td><td>wallaroo.ai/ns/deployments/edge/1f35731a-f4f6-4cd0-a23a-c4a326b73277</td></tr></table>"
      ],
      "text/plain": [
       "[Edge(cpus=1.0, id='898bb58c-77c2-4164-b6cc-f004dc39e125', memory='512Mi', name='edge-ccfraud-observabilityymgy', tags=[], pipeline_version_id=6, spiffe_id='wallaroo.ai/ns/deployments/edge/898bb58c-77c2-4164-b6cc-f004dc39e125', additional_properties={}),\n",
       " Edge(cpus=1.0, id='1f35731a-f4f6-4cd0-a23a-c4a326b73277', memory='512Mi', name='edge-ccfraud-observability-02ymgy', tags=[], pipeline_version_id=6, spiffe_id='wallaroo.ai/ns/deployments/edge/1f35731a-f4f6-4cd0-a23a-c4a326b73277', additional_properties={})]"
      ]
     },
     "execution_count": 20,
     "metadata": {},
     "output_type": "execute_result"
    }
   ],
   "source": [
    "pipeline.list_edges()"
   ]
  },
  {
   "cell_type": "markdown",
   "id": "14e9187f",
   "metadata": {},
   "source": [
    "### Remove Edge Location\n",
    "\n",
    "Wallaroo Servers are removed with the `wallaroo.pipeline_publish.remove_edge(name: string)` method.\n",
    "\n",
    "This returns a Publish Edge with the following fields:\n",
    "\n",
    "| Field | Type | Description |\n",
    "|---|---|---|\n",
    "| `id` | Integer | The integer ID of the pipeline publish.|\n",
    "| `created_at` | DateTime | The DateTime of the pipeline publish. |\n",
    "| `docker_run_variables` | String | The Docker variables in UUID format that include the following: The `BUNDLE_VERSION`, `EDGE_NAME`, `JOIN_TOKEN_`, `OPSCENTER_HOST`, `PIPELINE_URL`, and `WORKSPACE_ID`.\n",
    "| `engine_config` | String | The Wallaroo `wallaroo.deployment_config.DeploymentConfig` for the pipeline. |\n",
    "| `pipeline_version_id` | Integer | The integer identifier of the pipeline version published. |\n",
    "| `status` | String | The status of the publish.  `Published` is a successful publish.|\n",
    "| `updated_at` | DateTime | The DateTime when the pipeline publish was updated. |\n",
    "| `user_images` | List(String) | User images used in the pipeline publish. |\n",
    "| `created_by` | String | The UUID of the Wallaroo user that created the pipeline publish. |\n",
    "| `engine_url` | String | The URL for the published pipeline's Wallaroo engine in the OCI registry. |\n",
    "| `error` | String | Any errors logged. |\n",
    "| `helm` | String | The helm chart, helm reference and helm version. |\n",
    "| `pipeline_url` | String | The URL for the published pipeline's container in the OCI registry. |\n",
    "| `pipeline_version_name` | String | The UUID identifier of the pipeline version published. |\n",
    "| `additional_properties` | String | Any other identities. |\n",
    "\n",
    "Two edge publishes will be created so we can demonstrate removing an edge shortly."
   ]
  },
  {
   "cell_type": "code",
   "execution_count": 21,
   "id": "565a55e1",
   "metadata": {},
   "outputs": [
    {
     "data": {
      "text/plain": [
       "None"
      ]
     },
     "metadata": {},
     "output_type": "display_data"
    }
   ],
   "source": [
    "sample = pub.remove_edge(edge_02_name)\n",
    "display(sample)\n"
   ]
  },
  {
   "cell_type": "code",
   "execution_count": 22,
   "id": "6c4ca3d1-b696-441a-803a-b5424e98ef07",
   "metadata": {},
   "outputs": [
    {
     "data": {
      "text/html": [
       "<table><tr><th>ID</th><th>Name</th><th>Tags</th><th>Pipeline Version</th><th>SPIFFE ID</th></tr><tr><td>898bb58c-77c2-4164-b6cc-f004dc39e125</td><td>edge-ccfraud-observabilityymgy</td><td>[]</td><td>6</td><td>wallaroo.ai/ns/deployments/edge/898bb58c-77c2-4164-b6cc-f004dc39e125</td></tr></table>"
      ],
      "text/plain": [
       "[Edge(cpus=1.0, id='898bb58c-77c2-4164-b6cc-f004dc39e125', memory='512Mi', name='edge-ccfraud-observabilityymgy', tags=[], pipeline_version_id=6, spiffe_id='wallaroo.ai/ns/deployments/edge/898bb58c-77c2-4164-b6cc-f004dc39e125', additional_properties={})]"
      ]
     },
     "execution_count": 22,
     "metadata": {},
     "output_type": "execute_result"
    }
   ],
   "source": [
    "pipeline.list_edges()"
   ]
  },
  {
   "cell_type": "markdown",
   "id": "325fb51a",
   "metadata": {},
   "source": [
    "### Docker Deployment\n",
    "\n",
    "First, the DevOps engineer must authenticate to the same OCI Registry service used for the Wallaroo Edge Deployment registry.\n",
    "\n",
    "For more details, check with the documentation on your artifact service.  The following are provided for the three major cloud services:\n",
    "\n",
    "* [Set up authentication for Docker](https://cloud.google.com/artifact-registry/docs/docker/authentication)\n",
    "* [Authenticate with an Azure container registry](https://learn.microsoft.com/en-us/azure/container-registry/container-registry-authentication?tabs=azure-cli)\n",
    "* [Authenticating Amazon ECR Repositories for Docker CLI with Credential Helper](https://aws.amazon.com/blogs/compute/authenticating-amazon-ecr-repositories-for-docker-cli-with-credential-helper/)\n",
    "\n",
    "For the deployment, the engine URL is specified with the following environmental variables:\n",
    "\n",
    "* `DEBUG` (true|false): Whether to include debug output.\n",
    "* `OCI_REGISTRY`: The URL of the registry service.\n",
    "* `CONFIG_CPUS`: The number of CPUs to use.\n",
    "* `OCI_USERNAME`: The edge registry username.\n",
    "* `OCI_PASSWORD`:  The edge registry password or token.\n",
    "* `PIPELINE_URL`: The published pipeline URL.\n",
    "\n",
    "#### Docker Deployment Example\n",
    "\n",
    "Using our sample environment, here's sample deployment using Docker with a computer vision ML model, the same used in the [Wallaroo Use Case Tutorials Computer Vision: Retail](https://docs.wallaroo.ai/wallaroo-use-case-tutorials/wallaroo-use-case-computer-vision/use-case-computer-vision-retail/) tutorials.\n",
    "\n",
    "```bash\n",
    "docker run -p 8080:8080 \\\n",
    "    -e DEBUG=true \\\n",
    "    -e OCI_REGISTRY={your registry server} \\\n",
    "    -e EDGE_BUNDLE={Your edge bundle['EDGE_BUNDLE']}\n",
    "    -e CONFIG_CPUS=1 \\\n",
    "    -e OCI_USERNAME=oauth2accesstoken \\\n",
    "    -e OCI_PASSWORD={registry token here} \\\n",
    "    -e PIPELINE_URL={your registry server}{Your Wallaroo Server pipeline} \\\n",
    "    {your registry server}/{Your Wallaroo Server engine}\n",
    "```\n",
    "\n",
    "### Docker Compose Deployment\n",
    "\n",
    "For users who prefer to use `docker compose`, the following sample `compose.yaml` file is used to launch the Wallaroo Edge pipeline.  This is the same used in the [Wallaroo Use Case Tutorials Computer Vision: Retail](https://docs.wallaroo.ai/wallaroo-use-case-tutorials/wallaroo-use-case-computer-vision/use-case-computer-vision-retail/) tutorials.\n",
    "\n",
    "```yml\n",
    "services:\n",
    "  engine:\n",
    "    image: {Your Engine URL}\n",
    "    ports:\n",
    "      - 8080:8080\n",
    "    environment:\n",
    "      EDGE_BUNDLE: {Your Edge Bundle['EDGE_BUNDLE']}\n",
    "      PIPELINE_URL: {Your Pipeline URL}\n",
    "      OCI_REGISTRY: {Your Edge Registry URL}\n",
    "      OCI_USERNAME:  {Your Registry Username}\n",
    "      OCI_PASSWORD: {Your Token or Password}\n",
    "      CONFIG_CPUS: 1\n",
    "```\n",
    "\n",
    "For example:\n",
    "\n",
    "```yml\n",
    "services:\n",
    "  engine:\n",
    "    image: sample-registry.com/engine:v2023.3.0-main-3707\n",
    "    ports:\n",
    "      - 8080:8080\n",
    "    environment:\n",
    "      PIPELINE_URL: sample-registry.com/pipelines/edge-cv-retail:bf70eaf7-8c11-4b46-b751-916a43b1a555\n",
    "      OCI_REGISTRY: sample-registry.com\n",
    "      OCI_USERNAME:  _json_key_base64\n",
    "      OCI_PASSWORD: abc123\n",
    "      CONFIG_CPUS: 1\n",
    "```\n",
    "\n",
    "#### Docker Compose Deployment Example\n",
    "\n",
    "The deployment and undeployment is then just a simple `docker compose up` and `docker compose down`.  The following shows an example of deploying the Wallaroo edge pipeline using `docker compose`.\n",
    "\n",
    "```bash\n",
    "docker compose up\n",
    "[+] Running 1/1\n",
    " ✔ Container cv_data-engine-1  Recreated                                                                                                                                                                 0.5s\n",
    "Attaching to cv_data-engine-1\n",
    "cv_data-engine-1  | Wallaroo Engine - Standalone mode\n",
    "cv_data-engine-1  | Login Succeeded\n",
    "cv_data-engine-1  | Fetching manifest and config for pipeline: sample-registry.com/pipelines/edge-cv-retail:bf70eaf7-8c11-4b46-b751-916a43b1a555\n",
    "cv_data-engine-1  | Fetching model layers\n",
    "cv_data-engine-1  | digest: sha256:c6c8869645962e7711132a7e17aced2ac0f60dcdc2c7faa79b2de73847a87984\n",
    "cv_data-engine-1  |   filename: c6c8869645962e7711132a7e17aced2ac0f60dcdc2c7faa79b2de73847a87984\n",
    "cv_data-engine-1  |   name: resnet-50\n",
    "cv_data-engine-1  |   type: model\n",
    "cv_data-engine-1  |   runtime: onnx\n",
    "cv_data-engine-1  |   version: 693e19b5-0dc7-4afb-9922-e3f7feefe66d\n",
    "cv_data-engine-1  |\n",
    "cv_data-engine-1  | Fetched\n",
    "cv_data-engine-1  | Starting engine\n",
    "cv_data-engine-1  | Looking for preexisting `yaml` files in //modelconfigs\n",
    "cv_data-engine-1  | Looking for preexisting `yaml` files in //pipelines\n",
    "```\n",
    "\n",
    "### Helm Deployment\n",
    "\n",
    "Published pipelines can be deployed through the use of helm charts.\n",
    "\n",
    "Helm deployments take up to two steps - the first step is in retrieving the required `values.yaml` and making updates to override.\n",
    "\n",
    "1. Pull the helm charts from the published pipeline.  The two fields are the Helm Chart URL and the Helm Chart version to specify the OCI .    This typically takes the format of:\n",
    "\n",
    "  ```bash\n",
    "  helm pull oci://{published.helm_chart_url} --version {published.helm_chart_version}\n",
    "  ```\n",
    "\n",
    "1. Extract the `tgz` file and copy the `values.yaml` and copy the values used to edit engine allocations, etc.  The following are **required** for the deployment to run:\n",
    "\n",
    "  ```yml\n",
    "  ociRegistry:\n",
    "    registry: {your registry service}\n",
    "    username:  {registry username here}\n",
    "    password: {registry token here}\n",
    "  ```\n",
    "\n",
    "  Store this into another file, suc as `local-values.yaml`.\n",
    "\n",
    "1. Create the namespace to deploy the pipeline to.  For example, the namespace `wallaroo-edge-pipeline` would be:\n",
    "\n",
    "  ```bash\n",
    "  kubectl create -n wallaroo-edge-pipeline\n",
    "  ```\n",
    "\n",
    "1. Deploy the `helm` installation with `helm install` through one of the following options:\n",
    "    1. Specify the `tgz` file that was downloaded and the local values file.  For example:\n",
    "\n",
    "        ```bash\n",
    "        helm install --namespace {namespace} --values {local values file} {helm install name} {tgz path}\n",
    "        ```\n",
    "\n",
    "    1. Specify the expended directory from the downloaded `tgz` file.\n",
    "\n",
    "        ```bash\n",
    "        helm install --namespace {namespace} --values {local values file} {helm install name} {helm directory path}\n",
    "        ```\n",
    "\n",
    "    1. Specify the Helm Pipeline Helm Chart and the Pipeline Helm Version.\n",
    "\n",
    "        ```bash\n",
    "        helm install --namespace {namespace} --values {local values file} {helm install name} oci://{published.helm_chart_url} --version {published.helm_chart_version}\n",
    "        ```\n",
    "\n",
    "1. Once deployed, the DevOps engineer will have to forward the appropriate ports to the `svc/engine-svc` service in the specific pipeline.  For example, using `kubectl port-forward` to the namespace `ccfraud` that would be:\n",
    "\n",
    "    ```bash\n",
    "    kubectl port-forward svc/engine-svc -n ccfraud01 8080 --address 0.0.0.0`\n",
    "    ```\n",
    "\n",
    "The following code segment generates a `docker run` template based on the previously published pipeline.  Replace the `$REGISTRYURL`, `$REGISTRYUSERNAME` and `$REGISTRYPASSWORD` with your OCI registry values."
   ]
  },
  {
   "cell_type": "code",
   "execution_count": null,
   "id": "3d7bbc87",
   "metadata": {},
   "outputs": [],
   "source": [
    "docker_command = f'''\n",
    "docker run -p 8080:8080 \\\\\n",
    "    -e DEBUG=true \\\\\n",
    "    -e OCI_REGISTRY=$REGISTRYURL \\\\\n",
    "    -e EDGE_BUNDLE={edge01.docker_run_variables['EDGE_BUNDLE']} \\\\\n",
    "    -e CONFIG_CPUS=1 \\\\\n",
    "    -e OCI_USERNAME=$REGISTRYUSERNAME \\\\\n",
    "    -e OCI_PASSWORD=$REGISTRYPASSWORD \\\\\n",
    "    -e PIPELINE_URL={edge01.pipeline_url} \\\\\n",
    "    {edge01.engine_url}\n",
    "'''\n",
    "\n",
    "print(docker_command)"
   ]
  },
  {
   "cell_type": "markdown",
   "id": "e8ada5c2",
   "metadata": {},
   "source": [
    "## Edge Deployed Pipeline API Endpoints\n",
    "\n",
    "Once deployed, we can check the pipelines and models available.  We'll use a `curl` command, but any HTTP based request will work the same way.\n",
    "\n",
    "The endpoint `/pipelines` returns:\n",
    "\n",
    "* **id** (*String*):  The name of the pipeline.\n",
    "* **status** (*String*):  The status as either `Running`, or `Error` if there are any issues.\n",
    "\n",
    "For this example, the deployment is made on a machine called `localhost`.  Replace this URL with the URL of you edge deployment.\n"
   ]
  },
  {
   "cell_type": "code",
   "execution_count": null,
   "id": "eb179ad6",
   "metadata": {},
   "outputs": [],
   "source": [
    "!curl testboy.local:8080/pipelines"
   ]
  },
  {
   "cell_type": "markdown",
   "id": "be0cd33f",
   "metadata": {},
   "source": [
    "The endpoint `/models` returns a List of models with the following fields:\n",
    "\n",
    "* **name** (*String*): The model name.\n",
    "* **sha** (*String*): The sha hash value of the ML model.\n",
    "* **status** (*String*):  The status of either Running or Error if there are any issues.\n",
    "* **version** (*String*):  The model version.  This matches the version designation used by Wallaroo to track model versions in UUID format."
   ]
  },
  {
   "cell_type": "code",
   "execution_count": null,
   "id": "f280b77c",
   "metadata": {},
   "outputs": [],
   "source": [
    "!curl testboy.local:8080/models"
   ]
  },
  {
   "cell_type": "markdown",
   "id": "298109aa",
   "metadata": {},
   "source": [
    "### Edge Inference Endpoint\n",
    "\n",
    "The inference endpoint takes the following pattern:\n",
    "\n",
    "* `/pipelines/{pipeline-name}`:  The `pipeline-name` is the same as returned from the [`/pipelines`](#list-pipelines) endpoint as `id`.\n",
    "\n",
    "Wallaroo inference endpoint URLs accept the following data inputs through the `Content-Type` header:\n",
    "\n",
    "* `Content-Type: application/vnd.apache.arrow.file`: For Apache Arrow tables.\n",
    "* `Content-Type: application/json; format=pandas-records`: For pandas DataFrame in record format.\n",
    "\n",
    "Once deployed, we can perform an inference through the deployment URL.\n",
    "\n",
    "The endpoint returns `Content-Type: application/json; format=pandas-records` by default with the following fields:\n",
    "\n",
    "* **check_failures** (*List[Integer]*): Whether any validation checks were triggered.  For more information, see [Wallaroo SDK Essentials Guide: Pipeline Management: Anomaly Testing](https://docs.wallaroo.ai/wallaroo-developer-guides/wallaroo-sdk-guides/wallaroo-sdk-essentials-guide/wallaroo-sdk-essentials-pipelines/wallaroo-sdk-essentials-pipeline/#anomaly-testing).\n",
    "* **elapsed** (*List[Integer]*): A list of time in nanoseconds for:\n",
    "  * [0] The time to serialize the input.\n",
    "  * [1...n] How long each step took.\n",
    "* **model_name** (*String*): The name of the model used.\n",
    "* **model_version** (*String*): The version of the model in UUID format.\n",
    "* **original_data**: The original input data.  Returns `null` if the input may be too long for a proper return.\n",
    "* **outputs** (*List*): The outputs of the inference result separated by data type, where each data type includes:\n",
    "  * **data**: The returned values.\n",
    "  * **dim** (*List[Integer]*): The dimension shape returned.\n",
    "  * **v** (*Integer*): The vector shape of the data.\n",
    "* **pipeline_name**  (*String*): The name of the pipeline.\n",
    "* **shadow_data**: Any shadow deployed data inferences in the same format as **outputs**.\n",
    "* **time** (*Integer*): The time since UNIX epoch.\n"
   ]
  },
  {
   "cell_type": "code",
   "execution_count": null,
   "id": "b29ab80a",
   "metadata": {},
   "outputs": [],
   "source": [
    "!curl -X POST testboy.local:8080/pipelines/edge-observability-pipeline \\\n",
    "    -H \"Content-Type: application/vnd.apache.arrow.file\" \\\n",
    "    --data-binary @./data/cc_data_1k.arrow > curl_response_edge.df.json"
   ]
  },
  {
   "cell_type": "code",
   "execution_count": null,
   "id": "8618c8e3",
   "metadata": {},
   "outputs": [],
   "source": [
    "# display the first 20 results\n",
    "\n",
    "df_results = pd.read_json('./curl_response_edge.df.json', orient=\"records\")\n",
    "# display(df_results.head(20))\n",
    "display(df_results.head(20).loc[:, ['time', 'out', 'metadata']])"
   ]
  },
  {
   "cell_type": "code",
   "execution_count": null,
   "id": "8e0660a5",
   "metadata": {},
   "outputs": [],
   "source": [
    "pipeline.export_logs(\n",
    "    limit=30000,\n",
    "    directory='partition-edge-observability',\n",
    "    file_prefix='edge-logs',\n",
    "    dataset=['time', 'out', 'metadata']\n",
    ")"
   ]
  },
  {
   "cell_type": "code",
   "execution_count": null,
   "id": "df769fe2",
   "metadata": {},
   "outputs": [],
   "source": [
    "# display the head 20 results\n",
    "\n",
    "df_logs = pd.read_json('./partition-edge-observability/edge-logs-1.json', orient=\"records\", lines=True)\n",
    "# get just the partition\n",
    "# df_results['partition'] = df_results['metadata'].map(lambda x: x['partition'])\n",
    "# display(df_results.head(20))\n",
    "display(df_logs.head(20).loc[:, ['time', 'out.variable', 'metadata.partition']])"
   ]
  },
  {
   "cell_type": "code",
   "execution_count": null,
   "id": "d3ae3f4d",
   "metadata": {},
   "outputs": [],
   "source": [
    "display(pd.unique(df_logs['metadata.partition']))"
   ]
  }
 ],
 "metadata": {
  "kernelspec": {
   "display_name": "Python 3 (ipykernel)",
   "language": "python",
   "name": "python3"
  },
  "language_info": {
   "codemirror_mode": {
    "name": "ipython",
    "version": 3
   },
   "file_extension": ".py",
   "mimetype": "text/x-python",
   "name": "python",
   "nbconvert_exporter": "python",
   "pygments_lexer": "ipython3",
   "version": "3.8.18"
  }
 },
 "nbformat": 4,
 "nbformat_minor": 5
}
