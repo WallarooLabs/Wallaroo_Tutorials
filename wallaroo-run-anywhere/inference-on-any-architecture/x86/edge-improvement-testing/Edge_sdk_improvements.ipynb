{
 "cells": [
  {
   "cell_type": "code",
   "execution_count": 1,
   "id": "395ee3af-fc50-4cb6-9579-4a108b3754e3",
   "metadata": {},
   "outputs": [],
   "source": [
    "import wallaroo"
   ]
  },
  {
   "cell_type": "code",
   "execution_count": 2,
   "id": "9e510d7f-90e7-4e37-8f54-4f6b36775d27",
   "metadata": {},
   "outputs": [],
   "source": [
    "wallaroo.auth.logout()"
   ]
  },
  {
   "cell_type": "code",
   "execution_count": 3,
   "id": "17cab471-8adb-4e71-a89b-9c09771bf720",
   "metadata": {},
   "outputs": [
    {
     "name": "stdout",
     "output_type": "stream",
     "text": [
      "Please log into the following URL in a web browser:\n",
      "\n",
      "\thttps://staging.wallaroo.dev/auth/realms/master/device?user_code=LRDL-BDEX\n",
      "\n",
      "Login successful!\n"
     ]
    }
   ],
   "source": [
    "wl = wallaroo.Client()"
   ]
  },
  {
   "cell_type": "code",
   "execution_count": 4,
   "id": "bec380ff-c0e9-4511-8f0c-67f76a17abfb",
   "metadata": {},
   "outputs": [
    {
     "data": {
      "text/html": [
       "<table><tr><th>name</th> <td>edge-replacement-demo-pk</td></tr><tr><th>created</th> <td>2025-02-10 17:34:30.248193+00:00</td></tr><tr><th>last_updated</th> <td>2025-02-10 17:50:05.133025+00:00</td></tr><tr><th>deployed</th> <td>True</td></tr><tr><th>workspace_id</th> <td>44</td></tr><tr><th>workspace_name</th> <td>edge-replacement-demo-pk</td></tr><tr><th>arch</th> <td>x86</td></tr><tr><th>accel</th> <td>none</td></tr><tr><th>tags</th> <td></td></tr><tr><th>versions</th> <td>3dde7889-9d1b-4e72-8b8b-7cf882ee9b3a, cf4eeed2-f2ee-4706-8def-338d3bbcbef4, a90c10d2-34d8-4aa0-b620-6ce3647d92e0, 2fed9329-57fc-4906-8a27-525248f90d0b, 1e153cd7-2f79-4a1d-924e-4ba9873c547a</td></tr><tr><th>steps</th> <td>xgb-house-price-estimator</td></tr><tr><th>published</th> <td>True</td></tr></table>"
      ],
      "text/plain": [
       "{'name': 'edge-replacement-demo-pk', 'create_time': datetime.datetime(2025, 2, 10, 17, 34, 30, 248193, tzinfo=tzutc()), 'definition': '[]'}"
      ]
     },
     "execution_count": 4,
     "metadata": {},
     "output_type": "execute_result"
    }
   ],
   "source": [
    "workspace = wl.get_workspace(\"edge-replacement-demo-pk\")\n",
    "wl.set_current_workspace(workspace)\n",
    "\n",
    "pipeline = wl.get_pipeline(\"edge-replacement-demo-pk\")\n",
    "pipeline"
   ]
  },
  {
   "cell_type": "code",
   "execution_count": 5,
   "id": "773fbc82-443b-4734-8eb7-656f4bfab0cf",
   "metadata": {},
   "outputs": [
    {
     "data": {
      "text/html": [
       "<table><tr><th>id</th><th>Pipeline Name</th><th>Pipeline Version</th><th>Workspace Id</th><th>Workspace Name</th><th>Edges</th><th>Engine URL</th><th>Pipeline URL</th><th>Created By</th><th>Created At</th><th>Updated At</th></tr><tr><td>2</td><td>edge-replacement-demo-pk</td><td>a90c10d2-34d8-4aa0-b620-6ce3647d92e0</td><td>44</td><td>edge-replacement-demo-pk</td><td></td><td><a href='https://us-central1-docker.pkg.dev/wallaroo-dev-253816/uat/engines/proxy/wallaroo/ghcr.io/wallaroolabs/fitzroy-mini:v2025.1.0-main-5922'>us-central1-docker.pkg.dev/wallaroo-dev-253816/uat/engines/proxy/wallaroo/ghcr.io/wallaroolabs/fitzroy-mini:v2025.1.0-main-5922</a></td><td><a href='https://us-central1-docker.pkg.dev/wallaroo-dev-253816/uat/pipelines/edge-replacement-demo-pk:a90c10d2-34d8-4aa0-b620-6ce3647d92e0'>us-central1-docker.pkg.dev/wallaroo-dev-253816/uat/pipelines/edge-replacement-demo-pk:a90c10d2-34d8-4aa0-b620-6ce3647d92e0</a></td><td>preethi.kumar@wallaroo.ai</td><td>2025-10-Feb 17:34:59</td><td>2025-10-Feb 17:34:59</td></tr><tr><td>3</td><td>edge-replacement-demo-pk</td><td>3dde7889-9d1b-4e72-8b8b-7cf882ee9b3a</td><td>44</td><td>edge-replacement-demo-pk</td><td>edge-replacement-demo-pk-edge-1</td><td><a href='https://us-central1-docker.pkg.dev/wallaroo-dev-253816/uat/engines/proxy/wallaroo/ghcr.io/wallaroolabs/fitzroy-mini:v2025.1.0-main-5922'>us-central1-docker.pkg.dev/wallaroo-dev-253816/uat/engines/proxy/wallaroo/ghcr.io/wallaroolabs/fitzroy-mini:v2025.1.0-main-5922</a></td><td><a href='https://us-central1-docker.pkg.dev/wallaroo-dev-253816/uat/pipelines/edge-replacement-demo-pk:3dde7889-9d1b-4e72-8b8b-7cf882ee9b3a'>us-central1-docker.pkg.dev/wallaroo-dev-253816/uat/pipelines/edge-replacement-demo-pk:3dde7889-9d1b-4e72-8b8b-7cf882ee9b3a</a></td><td>preethi.kumar@wallaroo.ai</td><td>2025-10-Feb 17:50:05</td><td>2025-10-Feb 17:50:05</td></tr></table>"
      ],
      "text/plain": [
       "[PipelinePublish(created_at=datetime.datetime(2025, 2, 10, 17, 34, 59, 834090, tzinfo=tzutc()), docker_run_variables={}, engine_config={'engine': {'resources': {'limits': {'cpu': 4.0, 'memory': '3Gi'}, 'requests': {'cpu': 4.0, 'memory': '3Gi'}, 'arch': 'x86', 'accel': 'none', 'gpu': False}}, 'engineAux': {'autoscale': {'type': 'none'}}}, id=2, pipeline_name='edge-replacement-demo-pk', pipeline_version_id=70, replaces=[], status='Published', updated_at=datetime.datetime(2025, 2, 10, 17, 34, 59, 834090, tzinfo=tzutc()), user_images=[], created_by='d7f76f9e-a60c-4774-b3e8-85b27d13ca04', created_on_version='2025.1.0', edge_bundles=<wallaroo.wallaroo_ml_ops_api_client.types.Unset object at 0x7d10952e62f0>, engine_url='us-central1-docker.pkg.dev/wallaroo-dev-253816/uat/engines/proxy/wallaroo/ghcr.io/wallaroolabs/fitzroy-mini:v2025.1.0-main-5922', error=None, helm={'reference': 'us-central1-docker.pkg.dev/wallaroo-dev-253816/uat/charts@sha256:025a8ef3df25e9bae9e126c5d93b505ac5c5600166f5d425341fd7cf6518ad4c', 'chart': 'us-central1-docker.pkg.dev/wallaroo-dev-253816/uat/charts/edge-replacement-demo-pk', 'version': '0.0.1-a90c10d2-34d8-4aa0-b620-6ce3647d92e0', 'values': {}}, pipeline_url='us-central1-docker.pkg.dev/wallaroo-dev-253816/uat/pipelines/edge-replacement-demo-pk:a90c10d2-34d8-4aa0-b620-6ce3647d92e0', pipeline_version_name='a90c10d2-34d8-4aa0-b620-6ce3647d92e0', workspace_id=44, workspace_name='edge-replacement-demo-pk', additional_properties={}),\n",
       " PipelinePublish(created_at=datetime.datetime(2025, 2, 10, 17, 50, 5, 332463, tzinfo=tzutc()), docker_run_variables={}, engine_config={'engine': {'resources': {'limits': {'cpu': 4.0, 'memory': '3Gi'}, 'requests': {'cpu': 4.0, 'memory': '3Gi'}, 'arch': 'x86', 'accel': 'none', 'gpu': False}}, 'engineAux': {'autoscale': {'type': 'none'}}}, id=3, pipeline_name='edge-replacement-demo-pk', pipeline_version_id=72, replaces=[{'id': 2, 'pipeline_version_name': 'a90c10d2-34d8-4aa0-b620-6ce3647d92e0', 'pipeline_name': 'edge-replacement-demo-pk'}], status='Published', updated_at=datetime.datetime(2025, 2, 10, 17, 50, 5, 332463, tzinfo=tzutc()), user_images=[], created_by='d7f76f9e-a60c-4774-b3e8-85b27d13ca04', created_on_version='2025.1.0', edge_bundles=<wallaroo.wallaroo_ml_ops_api_client.types.Unset object at 0x7d10952e62f0>, engine_url='us-central1-docker.pkg.dev/wallaroo-dev-253816/uat/engines/proxy/wallaroo/ghcr.io/wallaroolabs/fitzroy-mini:v2025.1.0-main-5922', error=None, helm={'reference': 'us-central1-docker.pkg.dev/wallaroo-dev-253816/uat/charts@sha256:f6a68bdbebf5c2827f01bc98f7bfc88eadb55b65f11eb815f51aa65c8ef5f442', 'chart': 'us-central1-docker.pkg.dev/wallaroo-dev-253816/uat/charts/edge-replacement-demo-pk', 'version': '0.0.1-3dde7889-9d1b-4e72-8b8b-7cf882ee9b3a', 'values': {}}, pipeline_url='us-central1-docker.pkg.dev/wallaroo-dev-253816/uat/pipelines/edge-replacement-demo-pk:3dde7889-9d1b-4e72-8b8b-7cf882ee9b3a', pipeline_version_name='3dde7889-9d1b-4e72-8b8b-7cf882ee9b3a', workspace_id=44, workspace_name='edge-replacement-demo-pk', additional_properties={})]"
      ]
     },
     "execution_count": 5,
     "metadata": {},
     "output_type": "execute_result"
    }
   ],
   "source": [
    "pipeline.publishes()"
   ]
  },
  {
   "cell_type": "code",
   "execution_count": 23,
   "id": "30332387-1f07-4e21-899c-5ae07e77a7d1",
   "metadata": {},
   "outputs": [
    {
     "data": {
      "text/plain": [
       "['__add__',\n",
       " '__annotations__',\n",
       " '__class__',\n",
       " '__class_getitem__',\n",
       " '__contains__',\n",
       " '__delattr__',\n",
       " '__delitem__',\n",
       " '__dict__',\n",
       " '__dir__',\n",
       " '__doc__',\n",
       " '__eq__',\n",
       " '__format__',\n",
       " '__ge__',\n",
       " '__getattribute__',\n",
       " '__getitem__',\n",
       " '__gt__',\n",
       " '__hash__',\n",
       " '__iadd__',\n",
       " '__imul__',\n",
       " '__init__',\n",
       " '__init_subclass__',\n",
       " '__iter__',\n",
       " '__le__',\n",
       " '__len__',\n",
       " '__lt__',\n",
       " '__module__',\n",
       " '__mul__',\n",
       " '__ne__',\n",
       " '__new__',\n",
       " '__orig_bases__',\n",
       " '__parameters__',\n",
       " '__reduce__',\n",
       " '__reduce_ex__',\n",
       " '__repr__',\n",
       " '__reversed__',\n",
       " '__rmul__',\n",
       " '__setattr__',\n",
       " '__setitem__',\n",
       " '__sizeof__',\n",
       " '__slots__',\n",
       " '__str__',\n",
       " '__subclasshook__',\n",
       " '__weakref__',\n",
       " '_is_protocol',\n",
       " '_repr_html_',\n",
       " 'append',\n",
       " 'clear',\n",
       " 'copy',\n",
       " 'count',\n",
       " 'extend',\n",
       " 'index',\n",
       " 'insert',\n",
       " 'pop',\n",
       " 'remove',\n",
       " 'reverse',\n",
       " 'sort']"
      ]
     },
     "execution_count": 23,
     "metadata": {},
     "output_type": "execute_result"
    }
   ],
   "source": [
    "dir(pipeline.publishes())"
   ]
  },
  {
   "cell_type": "code",
   "execution_count": 7,
   "id": "879f4901-db02-458d-bc45-bf583487f38a",
   "metadata": {},
   "outputs": [
    {
     "data": {
      "text/html": [
       "<table><tr><th>id</th><th>Pipeline Name</th><th>Pipeline Version</th><th>Workspace Id</th><th>Workspace Name</th><th>Edges</th><th>Engine URL</th><th>Pipeline URL</th><th>Created By</th><th>Created At</th><th>Updated At</th></tr><tr><td>1</td><td>edge-inline-replacement-demon</td><td>aa29385c-dd28-49a0-8a09-7081a986180e</td><td>37</td><td>in-line-edge-replacement-demo</td><td>houseprice-edge-inline-demonstration<br/>houseprice-edge-inline-demonstration-1</td><td><a href='https://us-central1-docker.pkg.dev/wallaroo-dev-253816/uat/engines/proxy/wallaroo/ghcr.io/wallaroolabs/fitzroy-mini:v2025.1.0-main-5917'>us-central1-docker.pkg.dev/wallaroo-dev-253816/uat/engines/proxy/wallaroo/ghcr.io/wallaroolabs/fitzroy-mini:v2025.1.0-main-5917</a></td><td><a href='https://us-central1-docker.pkg.dev/wallaroo-dev-253816/uat/pipelines/edge-inline-replacement-demon:aa29385c-dd28-49a0-8a09-7081a986180e'>us-central1-docker.pkg.dev/wallaroo-dev-253816/uat/pipelines/edge-inline-replacement-demon:aa29385c-dd28-49a0-8a09-7081a986180e</a></td><td>preethi.kumar@wallaroo.ai</td><td>2025-04-Feb 18:29:08</td><td>2025-04-Feb 18:29:08</td></tr><tr><td>2</td><td>edge-replacement-demo-pk</td><td>a90c10d2-34d8-4aa0-b620-6ce3647d92e0</td><td>44</td><td>edge-replacement-demo-pk</td><td></td><td><a href='https://us-central1-docker.pkg.dev/wallaroo-dev-253816/uat/engines/proxy/wallaroo/ghcr.io/wallaroolabs/fitzroy-mini:v2025.1.0-main-5922'>us-central1-docker.pkg.dev/wallaroo-dev-253816/uat/engines/proxy/wallaroo/ghcr.io/wallaroolabs/fitzroy-mini:v2025.1.0-main-5922</a></td><td><a href='https://us-central1-docker.pkg.dev/wallaroo-dev-253816/uat/pipelines/edge-replacement-demo-pk:a90c10d2-34d8-4aa0-b620-6ce3647d92e0'>us-central1-docker.pkg.dev/wallaroo-dev-253816/uat/pipelines/edge-replacement-demo-pk:a90c10d2-34d8-4aa0-b620-6ce3647d92e0</a></td><td>preethi.kumar@wallaroo.ai</td><td>2025-10-Feb 17:34:59</td><td>2025-10-Feb 17:34:59</td></tr><tr><td>3</td><td>edge-replacement-demo-pk</td><td>3dde7889-9d1b-4e72-8b8b-7cf882ee9b3a</td><td>44</td><td>edge-replacement-demo-pk</td><td>edge-replacement-demo-pk-edge-1</td><td><a href='https://us-central1-docker.pkg.dev/wallaroo-dev-253816/uat/engines/proxy/wallaroo/ghcr.io/wallaroolabs/fitzroy-mini:v2025.1.0-main-5922'>us-central1-docker.pkg.dev/wallaroo-dev-253816/uat/engines/proxy/wallaroo/ghcr.io/wallaroolabs/fitzroy-mini:v2025.1.0-main-5922</a></td><td><a href='https://us-central1-docker.pkg.dev/wallaroo-dev-253816/uat/pipelines/edge-replacement-demo-pk:3dde7889-9d1b-4e72-8b8b-7cf882ee9b3a'>us-central1-docker.pkg.dev/wallaroo-dev-253816/uat/pipelines/edge-replacement-demo-pk:3dde7889-9d1b-4e72-8b8b-7cf882ee9b3a</a></td><td>preethi.kumar@wallaroo.ai</td><td>2025-10-Feb 17:50:05</td><td>2025-10-Feb 17:50:05</td></tr><tr><td>4</td><td>llamacpp-pipeyns-akmel</td><td>2c4986ed-f336-4df6-b09a-38ab8cb1cd19</td><td>68</td><td>younes.amar@wallaroo.ai - Default Workspace</td><td></td><td><a href='https://us-central1-docker.pkg.dev/wallaroo-dev-253816/uat/engines/proxy/wallaroo/ghcr.io/wallaroolabs/fitzroy-mini:v2025.1.0-main-5938'>us-central1-docker.pkg.dev/wallaroo-dev-253816/uat/engines/proxy/wallaroo/ghcr.io/wallaroolabs/fitzroy-mini:v2025.1.0-main-5938</a></td><td><a href='https://us-central1-docker.pkg.dev/wallaroo-dev-253816/uat/pipelines/llamacpp-pipeyns-akmel:2c4986ed-f336-4df6-b09a-38ab8cb1cd19'>us-central1-docker.pkg.dev/wallaroo-dev-253816/uat/pipelines/llamacpp-pipeyns-akmel:2c4986ed-f336-4df6-b09a-38ab8cb1cd19</a></td><td>younes.amar@wallaroo.ai</td><td>2025-07-Mar 21:05:13</td><td>2025-07-Mar 21:05:13</td></tr></table>"
      ],
      "text/plain": [
       "[PipelinePublish(created_at=datetime.datetime(2025, 2, 4, 18, 29, 8, 342725, tzinfo=tzutc()), docker_run_variables={}, engine_config={'engine': {'resources': {'limits': {'cpu': 4.0, 'memory': '3Gi'}, 'requests': {'cpu': 4.0, 'memory': '3Gi'}, 'arch': 'x86', 'accel': 'none', 'gpu': False}}, 'engineAux': {'autoscale': {'type': 'none'}}}, id=1, pipeline_name='edge-inline-replacement-demon', pipeline_version_id=67, replaces=[], status='Published', updated_at=datetime.datetime(2025, 2, 4, 18, 29, 8, 342725, tzinfo=tzutc()), user_images=[], created_by='d7f76f9e-a60c-4774-b3e8-85b27d13ca04', created_on_version='2025.1.0', edge_bundles=<wallaroo.wallaroo_ml_ops_api_client.types.Unset object at 0x7d10952e62f0>, engine_url='us-central1-docker.pkg.dev/wallaroo-dev-253816/uat/engines/proxy/wallaroo/ghcr.io/wallaroolabs/fitzroy-mini:v2025.1.0-main-5917', error=None, helm={'reference': 'us-central1-docker.pkg.dev/wallaroo-dev-253816/uat/charts@sha256:bcc2f64ade9bb0ffa64e7b84328106e41e113245edeba42eb0329092b58d3a7e', 'chart': 'us-central1-docker.pkg.dev/wallaroo-dev-253816/uat/charts/edge-inline-replacement-demon', 'version': '0.0.1-aa29385c-dd28-49a0-8a09-7081a986180e', 'values': {}}, pipeline_url='us-central1-docker.pkg.dev/wallaroo-dev-253816/uat/pipelines/edge-inline-replacement-demon:aa29385c-dd28-49a0-8a09-7081a986180e', pipeline_version_name='aa29385c-dd28-49a0-8a09-7081a986180e', workspace_id=37, workspace_name='in-line-edge-replacement-demo', additional_properties={}),\n",
       " PipelinePublish(created_at=datetime.datetime(2025, 2, 10, 17, 34, 59, 834090, tzinfo=tzutc()), docker_run_variables={}, engine_config={'engine': {'resources': {'limits': {'cpu': 4.0, 'memory': '3Gi'}, 'requests': {'cpu': 4.0, 'memory': '3Gi'}, 'arch': 'x86', 'accel': 'none', 'gpu': False}}, 'engineAux': {'autoscale': {'type': 'none'}}}, id=2, pipeline_name='edge-replacement-demo-pk', pipeline_version_id=70, replaces=[], status='Published', updated_at=datetime.datetime(2025, 2, 10, 17, 34, 59, 834090, tzinfo=tzutc()), user_images=[], created_by='d7f76f9e-a60c-4774-b3e8-85b27d13ca04', created_on_version='2025.1.0', edge_bundles=<wallaroo.wallaroo_ml_ops_api_client.types.Unset object at 0x7d10952e62f0>, engine_url='us-central1-docker.pkg.dev/wallaroo-dev-253816/uat/engines/proxy/wallaroo/ghcr.io/wallaroolabs/fitzroy-mini:v2025.1.0-main-5922', error=None, helm={'reference': 'us-central1-docker.pkg.dev/wallaroo-dev-253816/uat/charts@sha256:025a8ef3df25e9bae9e126c5d93b505ac5c5600166f5d425341fd7cf6518ad4c', 'chart': 'us-central1-docker.pkg.dev/wallaroo-dev-253816/uat/charts/edge-replacement-demo-pk', 'version': '0.0.1-a90c10d2-34d8-4aa0-b620-6ce3647d92e0', 'values': {}}, pipeline_url='us-central1-docker.pkg.dev/wallaroo-dev-253816/uat/pipelines/edge-replacement-demo-pk:a90c10d2-34d8-4aa0-b620-6ce3647d92e0', pipeline_version_name='a90c10d2-34d8-4aa0-b620-6ce3647d92e0', workspace_id=44, workspace_name='edge-replacement-demo-pk', additional_properties={}),\n",
       " PipelinePublish(created_at=datetime.datetime(2025, 2, 10, 17, 50, 5, 332463, tzinfo=tzutc()), docker_run_variables={}, engine_config={'engine': {'resources': {'limits': {'cpu': 4.0, 'memory': '3Gi'}, 'requests': {'cpu': 4.0, 'memory': '3Gi'}, 'arch': 'x86', 'accel': 'none', 'gpu': False}}, 'engineAux': {'autoscale': {'type': 'none'}}}, id=3, pipeline_name='edge-replacement-demo-pk', pipeline_version_id=72, replaces=[{'id': 2, 'pipeline_version_name': 'a90c10d2-34d8-4aa0-b620-6ce3647d92e0', 'pipeline_name': 'edge-replacement-demo-pk'}], status='Published', updated_at=datetime.datetime(2025, 2, 10, 17, 50, 5, 332463, tzinfo=tzutc()), user_images=[], created_by='d7f76f9e-a60c-4774-b3e8-85b27d13ca04', created_on_version='2025.1.0', edge_bundles=<wallaroo.wallaroo_ml_ops_api_client.types.Unset object at 0x7d10952e62f0>, engine_url='us-central1-docker.pkg.dev/wallaroo-dev-253816/uat/engines/proxy/wallaroo/ghcr.io/wallaroolabs/fitzroy-mini:v2025.1.0-main-5922', error=None, helm={'reference': 'us-central1-docker.pkg.dev/wallaroo-dev-253816/uat/charts@sha256:f6a68bdbebf5c2827f01bc98f7bfc88eadb55b65f11eb815f51aa65c8ef5f442', 'chart': 'us-central1-docker.pkg.dev/wallaroo-dev-253816/uat/charts/edge-replacement-demo-pk', 'version': '0.0.1-3dde7889-9d1b-4e72-8b8b-7cf882ee9b3a', 'values': {}}, pipeline_url='us-central1-docker.pkg.dev/wallaroo-dev-253816/uat/pipelines/edge-replacement-demo-pk:3dde7889-9d1b-4e72-8b8b-7cf882ee9b3a', pipeline_version_name='3dde7889-9d1b-4e72-8b8b-7cf882ee9b3a', workspace_id=44, workspace_name='edge-replacement-demo-pk', additional_properties={}),\n",
       " PipelinePublish(created_at=datetime.datetime(2025, 3, 7, 21, 5, 13, 628914, tzinfo=tzutc()), docker_run_variables={}, engine_config={'engine': {'resources': {'limits': {'cpu': 1.0, 'memory': '2Gi'}, 'requests': {'cpu': 1.0, 'memory': '2Gi'}, 'arch': 'x86', 'accel': 'none', 'gpu': False}}, 'engineAux': {'images': {'llamacpp-akmel-25': {'resources': {'limits': {'cpu': 2.0, 'memory': '8Gi'}, 'requests': {'cpu': 2.0, 'memory': '8Gi'}, 'arch': 'x86', 'accel': 'none', 'gpu': False}}}, 'autoscale': {'type': 'none'}}}, id=4, pipeline_name='llamacpp-pipeyns-akmel', pipeline_version_id=77, replaces=[], status='Published', updated_at=datetime.datetime(2025, 3, 7, 21, 5, 13, 628914, tzinfo=tzutc()), user_images=[], created_by='1cdbcd29-90b8-44a8-b431-1a3716b1118f', created_on_version='2025.1.0', edge_bundles=<wallaroo.wallaroo_ml_ops_api_client.types.Unset object at 0x7d10952e62f0>, engine_url='us-central1-docker.pkg.dev/wallaroo-dev-253816/uat/engines/proxy/wallaroo/ghcr.io/wallaroolabs/fitzroy-mini:v2025.1.0-main-5938', error=None, helm={'reference': 'us-central1-docker.pkg.dev/wallaroo-dev-253816/uat/charts@sha256:6ea0c4abf4d698010952a42ef492301381a2923a403b6ff1d06f5855dbf1ca05', 'chart': 'us-central1-docker.pkg.dev/wallaroo-dev-253816/uat/charts/llamacpp-pipeyns-akmel', 'version': '0.0.1-2c4986ed-f336-4df6-b09a-38ab8cb1cd19', 'values': {}}, pipeline_url='us-central1-docker.pkg.dev/wallaroo-dev-253816/uat/pipelines/llamacpp-pipeyns-akmel:2c4986ed-f336-4df6-b09a-38ab8cb1cd19', pipeline_version_name='2c4986ed-f336-4df6-b09a-38ab8cb1cd19', workspace_id=68, workspace_name='younes.amar@wallaroo.ai - Default Workspace', additional_properties={})]"
      ]
     },
     "execution_count": 7,
     "metadata": {},
     "output_type": "execute_result"
    }
   ],
   "source": [
    "publishes = wl.list_publishes()\n",
    "publishes"
   ]
  },
  {
   "cell_type": "code",
   "execution_count": 25,
   "id": "11cd20f3-c3c9-42db-b691-8b5c5fd7da13",
   "metadata": {},
   "outputs": [
    {
     "data": {
      "text/plain": [
       "wallaroo.pipeline_publish.PipelinePublishList"
      ]
     },
     "execution_count": 25,
     "metadata": {},
     "output_type": "execute_result"
    }
   ],
   "source": [
    "type(publishes)"
   ]
  },
  {
   "cell_type": "code",
   "execution_count": 8,
   "id": "ce741102-3523-41f4-8cd5-7fd53e16dccd",
   "metadata": {},
   "outputs": [
    {
     "data": {
      "text/plain": [
       "wallaroo.pipeline_publish.PipelinePublish"
      ]
     },
     "execution_count": 8,
     "metadata": {},
     "output_type": "execute_result"
    }
   ],
   "source": [
    "type(publishes[0])"
   ]
  },
  {
   "cell_type": "code",
   "execution_count": 9,
   "id": "0a05c55e-f3e9-4cb4-adca-749eedd97f0b",
   "metadata": {},
   "outputs": [
    {
     "name": "stdout",
     "output_type": "stream",
     "text": [
      "[PipelinePublish(created_at=datetime.datetime(2025, 2, 4, 18, 29, 8, 342725, tzinfo=tzutc()), docker_run_variables={}, engine_config={'engine': {'resources': {'limits': {'cpu': 4.0, 'memory': '3Gi'}, 'requests': {'cpu': 4.0, 'memory': '3Gi'}, 'arch': 'x86', 'accel': 'none', 'gpu': False}}, 'engineAux': {'autoscale': {'type': 'none'}}}, id=1, pipeline_name='edge-inline-replacement-demon', pipeline_version_id=67, replaces=[], status='Published', updated_at=datetime.datetime(2025, 2, 4, 18, 29, 8, 342725, tzinfo=tzutc()), user_images=[], created_by='d7f76f9e-a60c-4774-b3e8-85b27d13ca04', created_on_version='2025.1.0', edge_bundles=<wallaroo.wallaroo_ml_ops_api_client.types.Unset object at 0x7d10952e62f0>, engine_url='us-central1-docker.pkg.dev/wallaroo-dev-253816/uat/engines/proxy/wallaroo/ghcr.io/wallaroolabs/fitzroy-mini:v2025.1.0-main-5917', error=None, helm={'reference': 'us-central1-docker.pkg.dev/wallaroo-dev-253816/uat/charts@sha256:bcc2f64ade9bb0ffa64e7b84328106e41e113245edeba42eb0329092b58d3a7e', 'chart': 'us-central1-docker.pkg.dev/wallaroo-dev-253816/uat/charts/edge-inline-replacement-demon', 'version': '0.0.1-aa29385c-dd28-49a0-8a09-7081a986180e', 'values': {}}, pipeline_url='us-central1-docker.pkg.dev/wallaroo-dev-253816/uat/pipelines/edge-inline-replacement-demon:aa29385c-dd28-49a0-8a09-7081a986180e', pipeline_version_name='aa29385c-dd28-49a0-8a09-7081a986180e', workspace_id=37, workspace_name='in-line-edge-replacement-demo', additional_properties={}), PipelinePublish(created_at=datetime.datetime(2025, 2, 10, 17, 34, 59, 834090, tzinfo=tzutc()), docker_run_variables={}, engine_config={'engine': {'resources': {'limits': {'cpu': 4.0, 'memory': '3Gi'}, 'requests': {'cpu': 4.0, 'memory': '3Gi'}, 'arch': 'x86', 'accel': 'none', 'gpu': False}}, 'engineAux': {'autoscale': {'type': 'none'}}}, id=2, pipeline_name='edge-replacement-demo-pk', pipeline_version_id=70, replaces=[], status='Published', updated_at=datetime.datetime(2025, 2, 10, 17, 34, 59, 834090, tzinfo=tzutc()), user_images=[], created_by='d7f76f9e-a60c-4774-b3e8-85b27d13ca04', created_on_version='2025.1.0', edge_bundles=<wallaroo.wallaroo_ml_ops_api_client.types.Unset object at 0x7d10952e62f0>, engine_url='us-central1-docker.pkg.dev/wallaroo-dev-253816/uat/engines/proxy/wallaroo/ghcr.io/wallaroolabs/fitzroy-mini:v2025.1.0-main-5922', error=None, helm={'reference': 'us-central1-docker.pkg.dev/wallaroo-dev-253816/uat/charts@sha256:025a8ef3df25e9bae9e126c5d93b505ac5c5600166f5d425341fd7cf6518ad4c', 'chart': 'us-central1-docker.pkg.dev/wallaroo-dev-253816/uat/charts/edge-replacement-demo-pk', 'version': '0.0.1-a90c10d2-34d8-4aa0-b620-6ce3647d92e0', 'values': {}}, pipeline_url='us-central1-docker.pkg.dev/wallaroo-dev-253816/uat/pipelines/edge-replacement-demo-pk:a90c10d2-34d8-4aa0-b620-6ce3647d92e0', pipeline_version_name='a90c10d2-34d8-4aa0-b620-6ce3647d92e0', workspace_id=44, workspace_name='edge-replacement-demo-pk', additional_properties={}), PipelinePublish(created_at=datetime.datetime(2025, 2, 10, 17, 50, 5, 332463, tzinfo=tzutc()), docker_run_variables={}, engine_config={'engine': {'resources': {'limits': {'cpu': 4.0, 'memory': '3Gi'}, 'requests': {'cpu': 4.0, 'memory': '3Gi'}, 'arch': 'x86', 'accel': 'none', 'gpu': False}}, 'engineAux': {'autoscale': {'type': 'none'}}}, id=3, pipeline_name='edge-replacement-demo-pk', pipeline_version_id=72, replaces=[{'id': 2, 'pipeline_version_name': 'a90c10d2-34d8-4aa0-b620-6ce3647d92e0', 'pipeline_name': 'edge-replacement-demo-pk'}], status='Published', updated_at=datetime.datetime(2025, 2, 10, 17, 50, 5, 332463, tzinfo=tzutc()), user_images=[], created_by='d7f76f9e-a60c-4774-b3e8-85b27d13ca04', created_on_version='2025.1.0', edge_bundles=<wallaroo.wallaroo_ml_ops_api_client.types.Unset object at 0x7d10952e62f0>, engine_url='us-central1-docker.pkg.dev/wallaroo-dev-253816/uat/engines/proxy/wallaroo/ghcr.io/wallaroolabs/fitzroy-mini:v2025.1.0-main-5922', error=None, helm={'reference': 'us-central1-docker.pkg.dev/wallaroo-dev-253816/uat/charts@sha256:f6a68bdbebf5c2827f01bc98f7bfc88eadb55b65f11eb815f51aa65c8ef5f442', 'chart': 'us-central1-docker.pkg.dev/wallaroo-dev-253816/uat/charts/edge-replacement-demo-pk', 'version': '0.0.1-3dde7889-9d1b-4e72-8b8b-7cf882ee9b3a', 'values': {}}, pipeline_url='us-central1-docker.pkg.dev/wallaroo-dev-253816/uat/pipelines/edge-replacement-demo-pk:3dde7889-9d1b-4e72-8b8b-7cf882ee9b3a', pipeline_version_name='3dde7889-9d1b-4e72-8b8b-7cf882ee9b3a', workspace_id=44, workspace_name='edge-replacement-demo-pk', additional_properties={}), PipelinePublish(created_at=datetime.datetime(2025, 3, 7, 21, 5, 13, 628914, tzinfo=tzutc()), docker_run_variables={}, engine_config={'engine': {'resources': {'limits': {'cpu': 1.0, 'memory': '2Gi'}, 'requests': {'cpu': 1.0, 'memory': '2Gi'}, 'arch': 'x86', 'accel': 'none', 'gpu': False}}, 'engineAux': {'images': {'llamacpp-akmel-25': {'resources': {'limits': {'cpu': 2.0, 'memory': '8Gi'}, 'requests': {'cpu': 2.0, 'memory': '8Gi'}, 'arch': 'x86', 'accel': 'none', 'gpu': False}}}, 'autoscale': {'type': 'none'}}}, id=4, pipeline_name='llamacpp-pipeyns-akmel', pipeline_version_id=77, replaces=[], status='Published', updated_at=datetime.datetime(2025, 3, 7, 21, 5, 13, 628914, tzinfo=tzutc()), user_images=[], created_by='1cdbcd29-90b8-44a8-b431-1a3716b1118f', created_on_version='2025.1.0', edge_bundles=<wallaroo.wallaroo_ml_ops_api_client.types.Unset object at 0x7d10952e62f0>, engine_url='us-central1-docker.pkg.dev/wallaroo-dev-253816/uat/engines/proxy/wallaroo/ghcr.io/wallaroolabs/fitzroy-mini:v2025.1.0-main-5938', error=None, helm={'reference': 'us-central1-docker.pkg.dev/wallaroo-dev-253816/uat/charts@sha256:6ea0c4abf4d698010952a42ef492301381a2923a403b6ff1d06f5855dbf1ca05', 'chart': 'us-central1-docker.pkg.dev/wallaroo-dev-253816/uat/charts/llamacpp-pipeyns-akmel', 'version': '0.0.1-2c4986ed-f336-4df6-b09a-38ab8cb1cd19', 'values': {}}, pipeline_url='us-central1-docker.pkg.dev/wallaroo-dev-253816/uat/pipelines/llamacpp-pipeyns-akmel:2c4986ed-f336-4df6-b09a-38ab8cb1cd19', pipeline_version_name='2c4986ed-f336-4df6-b09a-38ab8cb1cd19', workspace_id=68, workspace_name='younes.amar@wallaroo.ai - Default Workspace', additional_properties={})]\n"
     ]
    }
   ],
   "source": [
    "print(publishes)"
   ]
  },
  {
   "cell_type": "code",
   "execution_count": 10,
   "id": "4110f3d7-b624-4db5-bea4-7795b2de4b56",
   "metadata": {},
   "outputs": [
    {
     "name": "stdout",
     "output_type": "stream",
     "text": [
      "<wallaroo.client.Client object at 0x7d108f0e03d0>\n"
     ]
    }
   ],
   "source": [
    "print(publishes[0].client)"
   ]
  },
  {
   "cell_type": "code",
   "execution_count": 11,
   "id": "47082c7d-6161-4880-bacc-3d12d72c52ae",
   "metadata": {},
   "outputs": [
    {
     "data": {
      "text/plain": [
       "['__annotations__',\n",
       " '__attrs_attrs__',\n",
       " '__attrs_own_setattr__',\n",
       " '__class__',\n",
       " '__contains__',\n",
       " '__delattr__',\n",
       " '__delitem__',\n",
       " '__dict__',\n",
       " '__dir__',\n",
       " '__doc__',\n",
       " '__eq__',\n",
       " '__format__',\n",
       " '__ge__',\n",
       " '__getattribute__',\n",
       " '__getitem__',\n",
       " '__getstate__',\n",
       " '__gt__',\n",
       " '__hash__',\n",
       " '__init__',\n",
       " '__init_subclass__',\n",
       " '__le__',\n",
       " '__lt__',\n",
       " '__match_args__',\n",
       " '__module__',\n",
       " '__ne__',\n",
       " '__new__',\n",
       " '__reduce__',\n",
       " '__reduce_ex__',\n",
       " '__repr__',\n",
       " '__setattr__',\n",
       " '__setitem__',\n",
       " '__setstate__',\n",
       " '__sizeof__',\n",
       " '__slots__',\n",
       " '__str__',\n",
       " '__subclasshook__',\n",
       " '__weakref__',\n",
       " '_docker_run_html',\n",
       " '_docker_vars',\n",
       " '_generate_commands',\n",
       " '_get_helm_value',\n",
       " '_helm_install_html',\n",
       " '_helm_values',\n",
       " '_null_safe_a_tag',\n",
       " '_repr_html_',\n",
       " '_wait_for_status',\n",
       " 'add_edge',\n",
       " 'additional_keys',\n",
       " 'additional_properties',\n",
       " 'client',\n",
       " 'created_at',\n",
       " 'created_by',\n",
       " 'created_by_email',\n",
       " 'created_on_version',\n",
       " 'docker_run_variables',\n",
       " 'edge_bundles',\n",
       " 'engine_config',\n",
       " 'engine_url',\n",
       " 'error',\n",
       " 'from_dict',\n",
       " 'helm',\n",
       " 'id',\n",
       " 'list_edges',\n",
       " 'pipeline_name',\n",
       " 'pipeline_url',\n",
       " 'pipeline_version_id',\n",
       " 'pipeline_version_name',\n",
       " 'remove_edge',\n",
       " 'replaces',\n",
       " 'status',\n",
       " 'to_dict',\n",
       " 'updated_at',\n",
       " 'user_images',\n",
       " 'workspace_id',\n",
       " 'workspace_name']"
      ]
     },
     "execution_count": 11,
     "metadata": {},
     "output_type": "execute_result"
    }
   ],
   "source": [
    "dir(publishes[0])"
   ]
  },
  {
   "cell_type": "code",
   "execution_count": 22,
   "id": "b3813df9-c638-4337-942f-3328053be3ff",
   "metadata": {},
   "outputs": [
    {
     "data": {
      "text/plain": [
       "wallaroo.pipeline_publish.PipelinePublish"
      ]
     },
     "execution_count": 22,
     "metadata": {},
     "output_type": "execute_result"
    }
   ],
   "source": [
    "type(publishes[0])"
   ]
  },
  {
   "cell_type": "code",
   "execution_count": 13,
   "id": "2ed78f03-95a7-44f1-9b5f-02decfb5ce18",
   "metadata": {},
   "outputs": [
    {
     "data": {
      "text/html": [
       "<table><tr><th>ID</th><th>Name</th><th>Publish ID</th><th>Created At</th><th>Tags</th><th>CPUs</th><th>Memory</th><th>SPIFFE ID</th><th>Pipeline Name</th><th>Pipeline Version</th><th>Workspace ID</th><th>Workspace Name</th></tr><tr>\n",
       "                <td>4d31df7e-5aca-4061-9032-0dc0cbe320c7</td>\n",
       "                <td>houseprice-edge-inline-demonstration</td>\n",
       "                <td>1</td>\n",
       "                <td>2025-02-04 18:42:37.541518+00:00</td>\n",
       "                <td>[]</td>\n",
       "                <td>4.0</td>\n",
       "                <td>3Gi</td>\n",
       "                <td>wallaroo.ai/ns/deployments/edge/4d31df7e-5aca-4061-9032-0dc0cbe320c7</td>\n",
       "            \n",
       "                    <td>edge-inline-replacement-demon</td>   \n",
       "                    <td>aa29385c-dd28-49a0-8a09-7081a986180e</td>\n",
       "                    <td>37</td>\n",
       "                    <td>in-line-edge-replacement-demo</td>\n",
       "                </tr><tr>\n",
       "                <td>f7e856a4-6a06-4eb0-9af7-acc1cfd4d827</td>\n",
       "                <td>houseprice-edge-inline-demonstration-1</td>\n",
       "                <td>1</td>\n",
       "                <td>2025-02-04 18:42:57.696403+00:00</td>\n",
       "                <td>[]</td>\n",
       "                <td>4.0</td>\n",
       "                <td>3Gi</td>\n",
       "                <td>wallaroo.ai/ns/deployments/edge/f7e856a4-6a06-4eb0-9af7-acc1cfd4d827</td>\n",
       "            \n",
       "                    <td>edge-inline-replacement-demon</td>   \n",
       "                    <td>aa29385c-dd28-49a0-8a09-7081a986180e</td>\n",
       "                    <td>37</td>\n",
       "                    <td>in-line-edge-replacement-demo</td>\n",
       "                </tr></table>"
      ],
      "text/plain": [
       "[Edge(cpus=4.0, id='4d31df7e-5aca-4061-9032-0dc0cbe320c7', memory='3Gi', name='houseprice-edge-inline-demonstration', tags=[], created_at=datetime.datetime(2025, 2, 4, 18, 42, 37, 541518, tzinfo=tzutc()), created_on_version=<AppVersion.VALUE_12: '2025.1.0'>, should_run_publish=1, spiffe_id='wallaroo.ai/ns/deployments/edge/4d31df7e-5aca-4061-9032-0dc0cbe320c7', additional_properties={'pipeline_name': 'edge-inline-replacement-demon', 'pipeline_version_name': 'aa29385c-dd28-49a0-8a09-7081a986180e', 'workspace_name': 'in-line-edge-replacement-demo', 'workspace_id': 37, 'helm_install': '<tr><td>\\n<pre style=\"text-align: left\">helm install --atomic $HELM_INSTALL_NAME \\\\\\n    oci://us-central1-docker.pkg.dev/wallaroo-dev-253816/uat/charts/edge-inline-replacement-demon \\\\\\n    --namespace $HELM_INSTALL_NAMESPACE \\\\\\n    --version 0.0.1-aa29385c-dd28-49a0-8a09-7081a986180e \\\\\\n    --set ociRegistry.username=$OCI_USERNAME \\\\\\n    --set ociRegistry.password=$OCI_PASSWORD</pre></td></tr>', 'docker_run': '<tr><td>\\n<pre style=\"text-align: left\">docker run \\\\\\n    -p $EDGE_PORT:8080 \\\\\\n    -e OCI_USERNAME=$OCI_USERNAME \\\\\\n    -e OCI_PASSWORD=$OCI_PASSWORD \\\\\\n    -e CONFIG_CPUS=4 --cpus=4.0 --memory=3g \\\\\\n    us-central1-docker.pkg.dev/wallaroo-dev-253816/uat/engines/proxy/wallaroo/ghcr.io/wallaroolabs/fitzroy-mini:v2025.1.0-main-5917</pre></td></tr>', 'additional_envs': '', 'edge_bundles': ''}),\n",
       " Edge(cpus=4.0, id='f7e856a4-6a06-4eb0-9af7-acc1cfd4d827', memory='3Gi', name='houseprice-edge-inline-demonstration-1', tags=[], created_at=datetime.datetime(2025, 2, 4, 18, 42, 57, 696403, tzinfo=tzutc()), created_on_version=<AppVersion.VALUE_12: '2025.1.0'>, should_run_publish=1, spiffe_id='wallaroo.ai/ns/deployments/edge/f7e856a4-6a06-4eb0-9af7-acc1cfd4d827', additional_properties={'pipeline_name': 'edge-inline-replacement-demon', 'pipeline_version_name': 'aa29385c-dd28-49a0-8a09-7081a986180e', 'workspace_name': 'in-line-edge-replacement-demo', 'workspace_id': 37, 'helm_install': '<tr><td>\\n<pre style=\"text-align: left\">helm install --atomic $HELM_INSTALL_NAME \\\\\\n    oci://us-central1-docker.pkg.dev/wallaroo-dev-253816/uat/charts/edge-inline-replacement-demon \\\\\\n    --namespace $HELM_INSTALL_NAMESPACE \\\\\\n    --version 0.0.1-aa29385c-dd28-49a0-8a09-7081a986180e \\\\\\n    --set ociRegistry.username=$OCI_USERNAME \\\\\\n    --set ociRegistry.password=$OCI_PASSWORD</pre></td></tr>', 'docker_run': '<tr><td>\\n<pre style=\"text-align: left\">docker run \\\\\\n    -p $EDGE_PORT:8080 \\\\\\n    -e OCI_USERNAME=$OCI_USERNAME \\\\\\n    -e OCI_PASSWORD=$OCI_PASSWORD \\\\\\n    -e CONFIG_CPUS=4 --cpus=4.0 --memory=3g \\\\\\n    us-central1-docker.pkg.dev/wallaroo-dev-253816/uat/engines/proxy/wallaroo/ghcr.io/wallaroolabs/fitzroy-mini:v2025.1.0-main-5917</pre></td></tr>', 'additional_envs': '', 'edge_bundles': ''})]"
      ]
     },
     "execution_count": 13,
     "metadata": {},
     "output_type": "execute_result"
    }
   ],
   "source": [
    "publishes[0].list_edges()"
   ]
  },
  {
   "cell_type": "code",
   "execution_count": 14,
   "id": "9dd07fb0-5072-4459-88ff-4e8a7f265eb7",
   "metadata": {},
   "outputs": [
    {
     "data": {
      "text/plain": [
       "wallaroo.pipeline_publish.PipelinePublish"
      ]
     },
     "execution_count": 14,
     "metadata": {},
     "output_type": "execute_result"
    }
   ],
   "source": [
    "type(publishes[0])"
   ]
  },
  {
   "cell_type": "code",
   "execution_count": 26,
   "id": "e38ad828-4f47-4d08-9ed6-496b4c9aacf8",
   "metadata": {},
   "outputs": [
    {
     "data": {
      "text/plain": [
       "wallaroo.edge.Edge"
      ]
     },
     "execution_count": 26,
     "metadata": {},
     "output_type": "execute_result"
    }
   ],
   "source": [
    "type(publishes[0].list_edges()[0])"
   ]
  },
  {
   "cell_type": "code",
   "execution_count": 16,
   "id": "2780c2ff-5a35-4a27-93f4-f521055a8eac",
   "metadata": {},
   "outputs": [
    {
     "data": {
      "text/html": [
       "<table>\n",
       "        <tr><th>Key</th><th>Value</th></tr>\n",
       "        <tr><td>ID</td><td>4d31df7e-5aca-4061-9032-0dc0cbe320c7</td></tr>\n",
       "        <tr><td>Name</td><td>houseprice-edge-inline-demonstration</td></tr>\n",
       "        <tr><td>Tags</td><td>[]</td></tr>\n",
       "        <tr><td>CPUs</td><td>4.0</td></tr>\n",
       "        <tr><td>Memory</td><td>3Gi</td></tr>\n",
       "        <tr><td>SPIFFE ID</td><td>wallaroo.ai/ns/deployments/edge/4d31df7e-5aca-4061-9032-0dc0cbe320c7</td></tr>\n",
       "        <tr><td>Publish Id</td><td>1</td></tr>\n",
       "    \n",
       "            <tr><td>Created At</td><td>2025-02-04 18:42:37.541518+00:00</td></tr>\n",
       "            <tr><td>Created On Version</td><td>2025.1.0</td></tr>\n",
       "            <tr><td>Pipeline Name</td><td>edge-inline-replacement-demon</td></tr>\n",
       "            <tr><td>Pipeline Version</td><td>aa29385c-dd28-49a0-8a09-7081a986180e</td></tr>\n",
       "            <tr><td>Workspace Id</td><td>37</td></tr>\n",
       "            <tr><td>Workspace Name</td><td>in-line-edge-replacement-demo</td></tr>\n",
       "            <tr>\n",
       "                    <td>Docker Run Command</td>\n",
       "                    <td>\n",
       "                        <table><tr><td>\n",
       "<pre style=\"text-align: left\">docker run \\\n",
       "    -p $EDGE_PORT:8080 \\\n",
       "    -e OCI_USERNAME=$OCI_USERNAME \\\n",
       "    -e OCI_PASSWORD=$OCI_PASSWORD \\\n",
       "    -e CONFIG_CPUS=4 --cpus=4.0 --memory=3g \\\n",
       "    us-central1-docker.pkg.dev/wallaroo-dev-253816/uat/engines/proxy/wallaroo/ghcr.io/wallaroolabs/fitzroy-mini:v2025.1.0-main-5917</pre></td></tr></table>\n",
       "                        <br />\n",
       "                        <i>\n",
       "                            Note: Please set the <code>EDGE_PORT</code>, <code>OCI_USERNAME</code>, and <code>OCI_PASSWORD</code> environment variables.\n",
       "                        </i>\n",
       "                    </td>\n",
       "                </tr>\n",
       "                <tr>\n",
       "                    <td>Helm Install Command</td>\n",
       "                    <td>\n",
       "                        <table><tr><td>\n",
       "<pre style=\"text-align: left\">helm install --atomic $HELM_INSTALL_NAME \\\n",
       "    oci://us-central1-docker.pkg.dev/wallaroo-dev-253816/uat/charts/edge-inline-replacement-demon \\\n",
       "    --namespace $HELM_INSTALL_NAMESPACE \\\n",
       "    --version 0.0.1-aa29385c-dd28-49a0-8a09-7081a986180e \\\n",
       "    --set ociRegistry.username=$OCI_USERNAME \\\n",
       "    --set ociRegistry.password=$OCI_PASSWORD</pre></td></tr></table>\n",
       "                        <br />\n",
       "                        <i>\n",
       "                            Note: Please set the <code>HELM_INSTALL_NAME</code>, <code>HELM_INSTALL_NAMESPACE</code>,\n",
       "                            <code>OCI_USERNAME</code>, and <code>OCI_PASSWORD</code> environment variables.\n",
       "                        </i>\n",
       "                    </td>\n",
       "                </tr>\n",
       "                </table>"
      ],
      "text/plain": [
       "Edge(cpus=4.0, id='4d31df7e-5aca-4061-9032-0dc0cbe320c7', memory='3Gi', name='houseprice-edge-inline-demonstration', tags=[], created_at=datetime.datetime(2025, 2, 4, 18, 42, 37, 541518, tzinfo=tzutc()), created_on_version=<AppVersion.VALUE_12: '2025.1.0'>, should_run_publish=1, spiffe_id='wallaroo.ai/ns/deployments/edge/4d31df7e-5aca-4061-9032-0dc0cbe320c7', additional_properties={'pipeline_name': 'edge-inline-replacement-demon', 'pipeline_version_name': 'aa29385c-dd28-49a0-8a09-7081a986180e', 'workspace_name': 'in-line-edge-replacement-demo', 'workspace_id': 37, 'helm_install': '<tr><td>\\n<pre style=\"text-align: left\">helm install --atomic $HELM_INSTALL_NAME \\\\\\n    oci://us-central1-docker.pkg.dev/wallaroo-dev-253816/uat/charts/edge-inline-replacement-demon \\\\\\n    --namespace $HELM_INSTALL_NAMESPACE \\\\\\n    --version 0.0.1-aa29385c-dd28-49a0-8a09-7081a986180e \\\\\\n    --set ociRegistry.username=$OCI_USERNAME \\\\\\n    --set ociRegistry.password=$OCI_PASSWORD</pre></td></tr>', 'docker_run': '<tr><td>\\n<pre style=\"text-align: left\">docker run \\\\\\n    -p $EDGE_PORT:8080 \\\\\\n    -e OCI_USERNAME=$OCI_USERNAME \\\\\\n    -e OCI_PASSWORD=$OCI_PASSWORD \\\\\\n    -e CONFIG_CPUS=4 --cpus=4.0 --memory=3g \\\\\\n    us-central1-docker.pkg.dev/wallaroo-dev-253816/uat/engines/proxy/wallaroo/ghcr.io/wallaroolabs/fitzroy-mini:v2025.1.0-main-5917</pre></td></tr>', 'additional_envs': '', 'edge_bundles': ''})"
      ]
     },
     "metadata": {},
     "output_type": "display_data"
    }
   ],
   "source": [
    "display(publishes[0].list_edges()[0])"
   ]
  },
  {
   "cell_type": "code",
   "execution_count": 17,
   "id": "5d579bd8-8779-40db-9779-77838453227e",
   "metadata": {},
   "outputs": [
    {
     "name": "stdout",
     "output_type": "stream",
     "text": [
      "PipelinePublish(created_at=datetime.datetime(2025, 2, 4, 18, 29, 8, 342725, tzinfo=tzutc()), docker_run_variables={}, engine_config={'engine': {'resources': {'limits': {'cpu': 4.0, 'memory': '3Gi'}, 'requests': {'cpu': 4.0, 'memory': '3Gi'}, 'arch': 'x86', 'accel': 'none', 'gpu': False}}, 'engineAux': {'autoscale': {'type': 'none'}}}, id=1, pipeline_name='edge-inline-replacement-demon', pipeline_version_id=67, replaces=[], status='Published', updated_at=datetime.datetime(2025, 2, 4, 18, 29, 8, 342725, tzinfo=tzutc()), user_images=[], created_by='d7f76f9e-a60c-4774-b3e8-85b27d13ca04', created_on_version='2025.1.0', edge_bundles=<wallaroo.wallaroo_ml_ops_api_client.types.Unset object at 0x7d10952e62f0>, engine_url='us-central1-docker.pkg.dev/wallaroo-dev-253816/uat/engines/proxy/wallaroo/ghcr.io/wallaroolabs/fitzroy-mini:v2025.1.0-main-5917', error=None, helm={'reference': 'us-central1-docker.pkg.dev/wallaroo-dev-253816/uat/charts@sha256:bcc2f64ade9bb0ffa64e7b84328106e41e113245edeba42eb0329092b58d3a7e', 'chart': 'us-central1-docker.pkg.dev/wallaroo-dev-253816/uat/charts/edge-inline-replacement-demon', 'version': '0.0.1-aa29385c-dd28-49a0-8a09-7081a986180e', 'values': {}}, pipeline_url='us-central1-docker.pkg.dev/wallaroo-dev-253816/uat/pipelines/edge-inline-replacement-demon:aa29385c-dd28-49a0-8a09-7081a986180e', pipeline_version_name='aa29385c-dd28-49a0-8a09-7081a986180e', workspace_id=37, workspace_name='in-line-edge-replacement-demo', additional_properties={})\n"
     ]
    }
   ],
   "source": [
    "print(publishes[0])"
   ]
  },
  {
   "cell_type": "code",
   "execution_count": 18,
   "id": "73d17ebe-8fbd-42ee-985e-ef74ad0d41f2",
   "metadata": {},
   "outputs": [
    {
     "data": {
      "text/html": [
       "\n",
       "          <table>\n",
       "              <tr><td>ID</td><td>1</td></tr>\n",
       "              <tr><td>Pipeline Name</td><td>edge-inline-replacement-demon</td></tr>\n",
       "              <tr><td>Pipeline Version</td><td>aa29385c-dd28-49a0-8a09-7081a986180e</td></tr>\n",
       "              <tr><td>Status</td><td>Published</td></tr>\n",
       "              <tr><td>Workspace Id</td><td>37</td></tr>\n",
       "              <tr><td>Workspace Name</td><td>in-line-edge-replacement-demo</td></tr>\n",
       "              <tr><td>Edges</td><td>houseprice-edge-inline-demonstration<br/>houseprice-edge-inline-demonstration-1</td></tr>\n",
       "              <tr><td>Engine URL</td><td><a href='https://us-central1-docker.pkg.dev/wallaroo-dev-253816/uat/engines/proxy/wallaroo/ghcr.io/wallaroolabs/fitzroy-mini:v2025.1.0-main-5917'>us-central1-docker.pkg.dev/wallaroo-dev-253816/uat/engines/proxy/wallaroo/ghcr.io/wallaroolabs/fitzroy-mini:v2025.1.0-main-5917</a></td></tr>\n",
       "              <tr><td>Pipeline URL</td><td><a href='https://us-central1-docker.pkg.dev/wallaroo-dev-253816/uat/pipelines/edge-inline-replacement-demon:aa29385c-dd28-49a0-8a09-7081a986180e'>us-central1-docker.pkg.dev/wallaroo-dev-253816/uat/pipelines/edge-inline-replacement-demon:aa29385c-dd28-49a0-8a09-7081a986180e</a></td></tr>\n",
       "              <tr><td>Helm Chart URL</td><td>oci://<a href='https://us-central1-docker.pkg.dev/wallaroo-dev-253816/uat/charts/edge-inline-replacement-demon'>us-central1-docker.pkg.dev/wallaroo-dev-253816/uat/charts/edge-inline-replacement-demon</a></td></tr>\n",
       "              <tr><td>Helm Chart Reference</td><td>us-central1-docker.pkg.dev/wallaroo-dev-253816/uat/charts@sha256:bcc2f64ade9bb0ffa64e7b84328106e41e113245edeba42eb0329092b58d3a7e</td></tr>\n",
       "              <tr><td>Helm Chart Version</td><td>0.0.1-aa29385c-dd28-49a0-8a09-7081a986180e</td></tr>\n",
       "              <tr><td>Engine Config</td><td>{'engine': {'resources': {'limits': {'cpu': 4.0, 'memory': '3Gi'}, 'requests': {'cpu': 4.0, 'memory': '3Gi'}, 'arch': 'x86', 'accel': 'none', 'gpu': False}}, 'engineAux': {'autoscale': {'type': 'none'}}}</td></tr>\n",
       "              <tr><td>User Images</td><td>[]</td></tr>\n",
       "              <tr><td>Created By</td><td>preethi.kumar@wallaroo.ai</td></tr>\n",
       "              <tr><td>Created At</td><td>2025-02-04 18:29:08.342725+00:00</td></tr>\n",
       "              <tr><td>Updated At</td><td>2025-02-04 18:29:08.342725+00:00</td></tr>\n",
       "              <tr><td>Replaces</td><td></td></tr>\n",
       "              <tr>\n",
       "                  <td>Docker Run Command</td>\n",
       "                  <td>\n",
       "                      <table><tr><td>\n",
       "<pre style=\"text-align: left\">docker run \\\n",
       "    -p $EDGE_PORT:8080 \\\n",
       "    -e OCI_USERNAME=$OCI_USERNAME \\\n",
       "    -e OCI_PASSWORD=$OCI_PASSWORD \\\n",
       "    -e CONFIG_CPUS=4 --cpus=4.0 --memory=3g \\\n",
       "    us-central1-docker.pkg.dev/wallaroo-dev-253816/uat/engines/proxy/wallaroo/ghcr.io/wallaroolabs/fitzroy-mini:v2025.1.0-main-5917</pre></td></tr></table>\n",
       "                      <br />\n",
       "                      <i>\n",
       "                          Note: Please set the <code>EDGE_PORT</code>, <code>OCI_USERNAME</code>, and <code>OCI_PASSWORD</code> environment variables.\n",
       "                      </i>\n",
       "                  </td>\n",
       "              </tr>\n",
       "              <tr>\n",
       "                  <td>Helm Install Command</td>\n",
       "                  <td>\n",
       "                      <table><tr><td>\n",
       "<pre style=\"text-align: left\">helm install --atomic $HELM_INSTALL_NAME \\\n",
       "    oci://us-central1-docker.pkg.dev/wallaroo-dev-253816/uat/charts/edge-inline-replacement-demon \\\n",
       "    --namespace $HELM_INSTALL_NAMESPACE \\\n",
       "    --version 0.0.1-aa29385c-dd28-49a0-8a09-7081a986180e \\\n",
       "    --set ociRegistry.username=$OCI_USERNAME \\\n",
       "    --set ociRegistry.password=$OCI_PASSWORD</pre></td></tr></table>\n",
       "                      <br />\n",
       "                      <i>\n",
       "                          Note: Please set the <code>HELM_INSTALL_NAME</code>, <code>HELM_INSTALL_NAMESPACE</code>,\n",
       "                          <code>OCI_USERNAME</code>, and <code>OCI_PASSWORD</code> environment variables.\n",
       "                      </i>\n",
       "                  </td>\n",
       "              </tr>\n",
       "              \n",
       "          </table>\n",
       "        "
      ],
      "text/plain": [
       "PipelinePublish(created_at=datetime.datetime(2025, 2, 4, 18, 29, 8, 342725, tzinfo=tzutc()), docker_run_variables={}, engine_config={'engine': {'resources': {'limits': {'cpu': 4.0, 'memory': '3Gi'}, 'requests': {'cpu': 4.0, 'memory': '3Gi'}, 'arch': 'x86', 'accel': 'none', 'gpu': False}}, 'engineAux': {'autoscale': {'type': 'none'}}}, id=1, pipeline_name='edge-inline-replacement-demon', pipeline_version_id=67, replaces=[], status='Published', updated_at=datetime.datetime(2025, 2, 4, 18, 29, 8, 342725, tzinfo=tzutc()), user_images=[], created_by='d7f76f9e-a60c-4774-b3e8-85b27d13ca04', created_on_version='2025.1.0', edge_bundles=<wallaroo.wallaroo_ml_ops_api_client.types.Unset object at 0x7d10952e62f0>, engine_url='us-central1-docker.pkg.dev/wallaroo-dev-253816/uat/engines/proxy/wallaroo/ghcr.io/wallaroolabs/fitzroy-mini:v2025.1.0-main-5917', error=None, helm={'reference': 'us-central1-docker.pkg.dev/wallaroo-dev-253816/uat/charts@sha256:bcc2f64ade9bb0ffa64e7b84328106e41e113245edeba42eb0329092b58d3a7e', 'chart': 'us-central1-docker.pkg.dev/wallaroo-dev-253816/uat/charts/edge-inline-replacement-demon', 'version': '0.0.1-aa29385c-dd28-49a0-8a09-7081a986180e', 'values': {}}, pipeline_url='us-central1-docker.pkg.dev/wallaroo-dev-253816/uat/pipelines/edge-inline-replacement-demon:aa29385c-dd28-49a0-8a09-7081a986180e', pipeline_version_name='aa29385c-dd28-49a0-8a09-7081a986180e', workspace_id=37, workspace_name='in-line-edge-replacement-demo', additional_properties={})"
      ]
     },
     "execution_count": 18,
     "metadata": {},
     "output_type": "execute_result"
    }
   ],
   "source": [
    "pub=wl.list_publishes()[0]\n",
    "pub"
   ]
  },
  {
   "cell_type": "code",
   "execution_count": 19,
   "id": "40df653e-85cb-40c3-8b6a-f37eb6b0fc3f",
   "metadata": {},
   "outputs": [
    {
     "data": {
      "text/html": [
       "\n",
       "          <table>\n",
       "              <tr><td>ID</td><td>3</td></tr>\n",
       "              <tr><td>Pipeline Name</td><td>edge-replacement-demo-pk</td></tr>\n",
       "              <tr><td>Pipeline Version</td><td>3dde7889-9d1b-4e72-8b8b-7cf882ee9b3a</td></tr>\n",
       "              <tr><td>Status</td><td>Published</td></tr>\n",
       "              <tr><td>Workspace Id</td><td>44</td></tr>\n",
       "              <tr><td>Workspace Name</td><td>edge-replacement-demo-pk</td></tr>\n",
       "              <tr><td>Edges</td><td>edge-replacement-demo-pk-edge-1</td></tr>\n",
       "              <tr><td>Engine URL</td><td><a href='https://us-central1-docker.pkg.dev/wallaroo-dev-253816/uat/engines/proxy/wallaroo/ghcr.io/wallaroolabs/fitzroy-mini:v2025.1.0-main-5922'>us-central1-docker.pkg.dev/wallaroo-dev-253816/uat/engines/proxy/wallaroo/ghcr.io/wallaroolabs/fitzroy-mini:v2025.1.0-main-5922</a></td></tr>\n",
       "              <tr><td>Pipeline URL</td><td><a href='https://us-central1-docker.pkg.dev/wallaroo-dev-253816/uat/pipelines/edge-replacement-demo-pk:3dde7889-9d1b-4e72-8b8b-7cf882ee9b3a'>us-central1-docker.pkg.dev/wallaroo-dev-253816/uat/pipelines/edge-replacement-demo-pk:3dde7889-9d1b-4e72-8b8b-7cf882ee9b3a</a></td></tr>\n",
       "              <tr><td>Helm Chart URL</td><td>oci://<a href='https://us-central1-docker.pkg.dev/wallaroo-dev-253816/uat/charts/edge-replacement-demo-pk'>us-central1-docker.pkg.dev/wallaroo-dev-253816/uat/charts/edge-replacement-demo-pk</a></td></tr>\n",
       "              <tr><td>Helm Chart Reference</td><td>us-central1-docker.pkg.dev/wallaroo-dev-253816/uat/charts@sha256:f6a68bdbebf5c2827f01bc98f7bfc88eadb55b65f11eb815f51aa65c8ef5f442</td></tr>\n",
       "              <tr><td>Helm Chart Version</td><td>0.0.1-3dde7889-9d1b-4e72-8b8b-7cf882ee9b3a</td></tr>\n",
       "              <tr><td>Engine Config</td><td>{'engine': {'resources': {'limits': {'cpu': 4.0, 'memory': '3Gi'}, 'requests': {'cpu': 4.0, 'memory': '3Gi'}, 'arch': 'x86', 'accel': 'none', 'gpu': False}}, 'engineAux': {'autoscale': {'type': 'none'}}}</td></tr>\n",
       "              <tr><td>User Images</td><td>[]</td></tr>\n",
       "              <tr><td>Created By</td><td>preethi.kumar@wallaroo.ai</td></tr>\n",
       "              <tr><td>Created At</td><td>2025-02-10 17:50:05.332463+00:00</td></tr>\n",
       "              <tr><td>Updated At</td><td>2025-02-10 17:50:05.332463+00:00</td></tr>\n",
       "              <tr><td>Replaces</td><td>Publish 2, Pipeline \"edge-replacement-demo-pk\", Version a90c10d2-34d8-4aa0-b620-6ce3647d92e0</td></tr>\n",
       "              <tr>\n",
       "                  <td>Docker Run Command</td>\n",
       "                  <td>\n",
       "                      <table><tr><td>\n",
       "<pre style=\"text-align: left\">docker run \\\n",
       "    -p $EDGE_PORT:8080 \\\n",
       "    -e OCI_USERNAME=$OCI_USERNAME \\\n",
       "    -e OCI_PASSWORD=$OCI_PASSWORD \\\n",
       "    -e CONFIG_CPUS=4 --cpus=4.0 --memory=3g \\\n",
       "    us-central1-docker.pkg.dev/wallaroo-dev-253816/uat/engines/proxy/wallaroo/ghcr.io/wallaroolabs/fitzroy-mini:v2025.1.0-main-5922</pre></td></tr></table>\n",
       "                      <br />\n",
       "                      <i>\n",
       "                          Note: Please set the <code>EDGE_PORT</code>, <code>OCI_USERNAME</code>, and <code>OCI_PASSWORD</code> environment variables.\n",
       "                      </i>\n",
       "                  </td>\n",
       "              </tr>\n",
       "              <tr>\n",
       "                  <td>Helm Install Command</td>\n",
       "                  <td>\n",
       "                      <table><tr><td>\n",
       "<pre style=\"text-align: left\">helm install --atomic $HELM_INSTALL_NAME \\\n",
       "    oci://us-central1-docker.pkg.dev/wallaroo-dev-253816/uat/charts/edge-replacement-demo-pk \\\n",
       "    --namespace $HELM_INSTALL_NAMESPACE \\\n",
       "    --version 0.0.1-3dde7889-9d1b-4e72-8b8b-7cf882ee9b3a \\\n",
       "    --set ociRegistry.username=$OCI_USERNAME \\\n",
       "    --set ociRegistry.password=$OCI_PASSWORD</pre></td></tr></table>\n",
       "                      <br />\n",
       "                      <i>\n",
       "                          Note: Please set the <code>HELM_INSTALL_NAME</code>, <code>HELM_INSTALL_NAMESPACE</code>,\n",
       "                          <code>OCI_USERNAME</code>, and <code>OCI_PASSWORD</code> environment variables.\n",
       "                      </i>\n",
       "                  </td>\n",
       "              </tr>\n",
       "              \n",
       "          </table>\n",
       "        "
      ],
      "text/plain": [
       "PipelinePublish(created_at=datetime.datetime(2025, 2, 10, 17, 50, 5, 332463, tzinfo=tzutc()), docker_run_variables={}, engine_config={'engine': {'resources': {'limits': {'cpu': 4.0, 'memory': '3Gi'}, 'requests': {'cpu': 4.0, 'memory': '3Gi'}, 'arch': 'x86', 'accel': 'none', 'gpu': False}}, 'engineAux': {'autoscale': {'type': 'none'}}}, id=3, pipeline_name='edge-replacement-demo-pk', pipeline_version_id=72, replaces=[{'id': 2, 'pipeline_version_name': 'a90c10d2-34d8-4aa0-b620-6ce3647d92e0', 'pipeline_name': 'edge-replacement-demo-pk'}], status='Published', updated_at=datetime.datetime(2025, 2, 10, 17, 50, 5, 332463, tzinfo=tzutc()), user_images=[], created_by='d7f76f9e-a60c-4774-b3e8-85b27d13ca04', created_on_version='2025.1.0', edge_bundles=<wallaroo.wallaroo_ml_ops_api_client.types.Unset object at 0x7d10952e62f0>, engine_url='us-central1-docker.pkg.dev/wallaroo-dev-253816/uat/engines/proxy/wallaroo/ghcr.io/wallaroolabs/fitzroy-mini:v2025.1.0-main-5922', error=None, helm={'reference': 'us-central1-docker.pkg.dev/wallaroo-dev-253816/uat/charts@sha256:f6a68bdbebf5c2827f01bc98f7bfc88eadb55b65f11eb815f51aa65c8ef5f442', 'chart': 'us-central1-docker.pkg.dev/wallaroo-dev-253816/uat/charts/edge-replacement-demo-pk', 'version': '0.0.1-3dde7889-9d1b-4e72-8b8b-7cf882ee9b3a', 'values': {}}, pipeline_url='us-central1-docker.pkg.dev/wallaroo-dev-253816/uat/pipelines/edge-replacement-demo-pk:3dde7889-9d1b-4e72-8b8b-7cf882ee9b3a', pipeline_version_name='3dde7889-9d1b-4e72-8b8b-7cf882ee9b3a', workspace_id=44, workspace_name='edge-replacement-demo-pk', additional_properties={})"
      ]
     },
     "execution_count": 19,
     "metadata": {},
     "output_type": "execute_result"
    }
   ],
   "source": [
    "pub_replacement=wl.list_publishes()[2]\n",
    "pub_replacement"
   ]
  },
  {
   "cell_type": "code",
   "execution_count": 20,
   "id": "9411bd05-e54c-41be-9460-d434bf8a00fc",
   "metadata": {},
   "outputs": [
    {
     "data": {
      "text/html": [
       "<table><tr><th>ID</th><th>Name</th><th>Publish ID</th><th>Created At</th><th>Tags</th><th>CPUs</th><th>Memory</th><th>SPIFFE ID</th><th>Pipeline Name</th><th>Pipeline Version</th><th>Workspace ID</th><th>Workspace Name</th></tr><tr>\n",
       "                <td>4d31df7e-5aca-4061-9032-0dc0cbe320c7</td>\n",
       "                <td>houseprice-edge-inline-demonstration</td>\n",
       "                <td>1</td>\n",
       "                <td>2025-02-04 18:42:37.541518+00:00</td>\n",
       "                <td>[]</td>\n",
       "                <td>4.0</td>\n",
       "                <td>3Gi</td>\n",
       "                <td>wallaroo.ai/ns/deployments/edge/4d31df7e-5aca-4061-9032-0dc0cbe320c7</td>\n",
       "            \n",
       "                    <td>edge-inline-replacement-demon</td>   \n",
       "                    <td>aa29385c-dd28-49a0-8a09-7081a986180e</td>\n",
       "                    <td>37</td>\n",
       "                    <td>in-line-edge-replacement-demo</td>\n",
       "                </tr><tr>\n",
       "                <td>f7e856a4-6a06-4eb0-9af7-acc1cfd4d827</td>\n",
       "                <td>houseprice-edge-inline-demonstration-1</td>\n",
       "                <td>1</td>\n",
       "                <td>2025-02-04 18:42:57.696403+00:00</td>\n",
       "                <td>[]</td>\n",
       "                <td>4.0</td>\n",
       "                <td>3Gi</td>\n",
       "                <td>wallaroo.ai/ns/deployments/edge/f7e856a4-6a06-4eb0-9af7-acc1cfd4d827</td>\n",
       "            \n",
       "                    <td>edge-inline-replacement-demon</td>   \n",
       "                    <td>aa29385c-dd28-49a0-8a09-7081a986180e</td>\n",
       "                    <td>37</td>\n",
       "                    <td>in-line-edge-replacement-demo</td>\n",
       "                </tr></table>"
      ],
      "text/plain": [
       "[Edge(cpus=4.0, id='4d31df7e-5aca-4061-9032-0dc0cbe320c7', memory='3Gi', name='houseprice-edge-inline-demonstration', tags=[], created_at=datetime.datetime(2025, 2, 4, 18, 42, 37, 541518, tzinfo=tzutc()), created_on_version=<AppVersion.VALUE_12: '2025.1.0'>, should_run_publish=1, spiffe_id='wallaroo.ai/ns/deployments/edge/4d31df7e-5aca-4061-9032-0dc0cbe320c7', additional_properties={'pipeline_name': 'edge-inline-replacement-demon', 'pipeline_version_name': 'aa29385c-dd28-49a0-8a09-7081a986180e', 'workspace_name': 'in-line-edge-replacement-demo', 'workspace_id': 37, 'helm_install': '<tr><td>\\n<pre style=\"text-align: left\">helm install --atomic $HELM_INSTALL_NAME \\\\\\n    oci://us-central1-docker.pkg.dev/wallaroo-dev-253816/uat/charts/edge-inline-replacement-demon \\\\\\n    --namespace $HELM_INSTALL_NAMESPACE \\\\\\n    --version 0.0.1-aa29385c-dd28-49a0-8a09-7081a986180e \\\\\\n    --set ociRegistry.username=$OCI_USERNAME \\\\\\n    --set ociRegistry.password=$OCI_PASSWORD</pre></td></tr>', 'docker_run': '<tr><td>\\n<pre style=\"text-align: left\">docker run \\\\\\n    -p $EDGE_PORT:8080 \\\\\\n    -e OCI_USERNAME=$OCI_USERNAME \\\\\\n    -e OCI_PASSWORD=$OCI_PASSWORD \\\\\\n    -e CONFIG_CPUS=4 --cpus=4.0 --memory=3g \\\\\\n    us-central1-docker.pkg.dev/wallaroo-dev-253816/uat/engines/proxy/wallaroo/ghcr.io/wallaroolabs/fitzroy-mini:v2025.1.0-main-5917</pre></td></tr>', 'additional_envs': '', 'edge_bundles': ''}),\n",
       " Edge(cpus=4.0, id='f7e856a4-6a06-4eb0-9af7-acc1cfd4d827', memory='3Gi', name='houseprice-edge-inline-demonstration-1', tags=[], created_at=datetime.datetime(2025, 2, 4, 18, 42, 57, 696403, tzinfo=tzutc()), created_on_version=<AppVersion.VALUE_12: '2025.1.0'>, should_run_publish=1, spiffe_id='wallaroo.ai/ns/deployments/edge/f7e856a4-6a06-4eb0-9af7-acc1cfd4d827', additional_properties={'pipeline_name': 'edge-inline-replacement-demon', 'pipeline_version_name': 'aa29385c-dd28-49a0-8a09-7081a986180e', 'workspace_name': 'in-line-edge-replacement-demo', 'workspace_id': 37, 'helm_install': '<tr><td>\\n<pre style=\"text-align: left\">helm install --atomic $HELM_INSTALL_NAME \\\\\\n    oci://us-central1-docker.pkg.dev/wallaroo-dev-253816/uat/charts/edge-inline-replacement-demon \\\\\\n    --namespace $HELM_INSTALL_NAMESPACE \\\\\\n    --version 0.0.1-aa29385c-dd28-49a0-8a09-7081a986180e \\\\\\n    --set ociRegistry.username=$OCI_USERNAME \\\\\\n    --set ociRegistry.password=$OCI_PASSWORD</pre></td></tr>', 'docker_run': '<tr><td>\\n<pre style=\"text-align: left\">docker run \\\\\\n    -p $EDGE_PORT:8080 \\\\\\n    -e OCI_USERNAME=$OCI_USERNAME \\\\\\n    -e OCI_PASSWORD=$OCI_PASSWORD \\\\\\n    -e CONFIG_CPUS=4 --cpus=4.0 --memory=3g \\\\\\n    us-central1-docker.pkg.dev/wallaroo-dev-253816/uat/engines/proxy/wallaroo/ghcr.io/wallaroolabs/fitzroy-mini:v2025.1.0-main-5917</pre></td></tr>', 'additional_envs': '', 'edge_bundles': ''})]"
      ]
     },
     "execution_count": 20,
     "metadata": {},
     "output_type": "execute_result"
    }
   ],
   "source": [
    "pub.list_edges()"
   ]
  },
  {
   "cell_type": "code",
   "execution_count": 21,
   "id": "1b61091d-53a5-4146-9172-aee1fe8b2cea",
   "metadata": {},
   "outputs": [
    {
     "data": {
      "text/html": [
       "<table>\n",
       "        <tr><th>Key</th><th>Value</th></tr>\n",
       "        <tr><td>ID</td><td>4d31df7e-5aca-4061-9032-0dc0cbe320c7</td></tr>\n",
       "        <tr><td>Name</td><td>houseprice-edge-inline-demonstration</td></tr>\n",
       "        <tr><td>Tags</td><td>[]</td></tr>\n",
       "        <tr><td>CPUs</td><td>4.0</td></tr>\n",
       "        <tr><td>Memory</td><td>3Gi</td></tr>\n",
       "        <tr><td>SPIFFE ID</td><td>wallaroo.ai/ns/deployments/edge/4d31df7e-5aca-4061-9032-0dc0cbe320c7</td></tr>\n",
       "        <tr><td>Publish Id</td><td>1</td></tr>\n",
       "    \n",
       "            <tr><td>Created At</td><td>2025-02-04 18:42:37.541518+00:00</td></tr>\n",
       "            <tr><td>Created On Version</td><td>2025.1.0</td></tr>\n",
       "            <tr><td>Pipeline Name</td><td>edge-inline-replacement-demon</td></tr>\n",
       "            <tr><td>Pipeline Version</td><td>aa29385c-dd28-49a0-8a09-7081a986180e</td></tr>\n",
       "            <tr><td>Workspace Id</td><td>37</td></tr>\n",
       "            <tr><td>Workspace Name</td><td>in-line-edge-replacement-demo</td></tr>\n",
       "            <tr>\n",
       "                    <td>Docker Run Command</td>\n",
       "                    <td>\n",
       "                        <table><tr><td>\n",
       "<pre style=\"text-align: left\">docker run \\\n",
       "    -p $EDGE_PORT:8080 \\\n",
       "    -e OCI_USERNAME=$OCI_USERNAME \\\n",
       "    -e OCI_PASSWORD=$OCI_PASSWORD \\\n",
       "    -e CONFIG_CPUS=4 --cpus=4.0 --memory=3g \\\n",
       "    us-central1-docker.pkg.dev/wallaroo-dev-253816/uat/engines/proxy/wallaroo/ghcr.io/wallaroolabs/fitzroy-mini:v2025.1.0-main-5917</pre></td></tr></table>\n",
       "                        <br />\n",
       "                        <i>\n",
       "                            Note: Please set the <code>EDGE_PORT</code>, <code>OCI_USERNAME</code>, and <code>OCI_PASSWORD</code> environment variables.\n",
       "                        </i>\n",
       "                    </td>\n",
       "                </tr>\n",
       "                <tr>\n",
       "                    <td>Helm Install Command</td>\n",
       "                    <td>\n",
       "                        <table><tr><td>\n",
       "<pre style=\"text-align: left\">helm install --atomic $HELM_INSTALL_NAME \\\n",
       "    oci://us-central1-docker.pkg.dev/wallaroo-dev-253816/uat/charts/edge-inline-replacement-demon \\\n",
       "    --namespace $HELM_INSTALL_NAMESPACE \\\n",
       "    --version 0.0.1-aa29385c-dd28-49a0-8a09-7081a986180e \\\n",
       "    --set ociRegistry.username=$OCI_USERNAME \\\n",
       "    --set ociRegistry.password=$OCI_PASSWORD</pre></td></tr></table>\n",
       "                        <br />\n",
       "                        <i>\n",
       "                            Note: Please set the <code>HELM_INSTALL_NAME</code>, <code>HELM_INSTALL_NAMESPACE</code>,\n",
       "                            <code>OCI_USERNAME</code>, and <code>OCI_PASSWORD</code> environment variables.\n",
       "                        </i>\n",
       "                    </td>\n",
       "                </tr>\n",
       "                </table>"
      ],
      "text/plain": [
       "Edge(cpus=4.0, id='4d31df7e-5aca-4061-9032-0dc0cbe320c7', memory='3Gi', name='houseprice-edge-inline-demonstration', tags=[], created_at=datetime.datetime(2025, 2, 4, 18, 42, 37, 541518, tzinfo=tzutc()), created_on_version=<AppVersion.VALUE_12: '2025.1.0'>, should_run_publish=1, spiffe_id='wallaroo.ai/ns/deployments/edge/4d31df7e-5aca-4061-9032-0dc0cbe320c7', additional_properties={'pipeline_name': 'edge-inline-replacement-demon', 'pipeline_version_name': 'aa29385c-dd28-49a0-8a09-7081a986180e', 'workspace_name': 'in-line-edge-replacement-demo', 'workspace_id': 37, 'helm_install': '<tr><td>\\n<pre style=\"text-align: left\">helm install --atomic $HELM_INSTALL_NAME \\\\\\n    oci://us-central1-docker.pkg.dev/wallaroo-dev-253816/uat/charts/edge-inline-replacement-demon \\\\\\n    --namespace $HELM_INSTALL_NAMESPACE \\\\\\n    --version 0.0.1-aa29385c-dd28-49a0-8a09-7081a986180e \\\\\\n    --set ociRegistry.username=$OCI_USERNAME \\\\\\n    --set ociRegistry.password=$OCI_PASSWORD</pre></td></tr>', 'docker_run': '<tr><td>\\n<pre style=\"text-align: left\">docker run \\\\\\n    -p $EDGE_PORT:8080 \\\\\\n    -e OCI_USERNAME=$OCI_USERNAME \\\\\\n    -e OCI_PASSWORD=$OCI_PASSWORD \\\\\\n    -e CONFIG_CPUS=4 --cpus=4.0 --memory=3g \\\\\\n    us-central1-docker.pkg.dev/wallaroo-dev-253816/uat/engines/proxy/wallaroo/ghcr.io/wallaroolabs/fitzroy-mini:v2025.1.0-main-5917</pre></td></tr>', 'additional_envs': '', 'edge_bundles': ''})"
      ]
     },
     "execution_count": 21,
     "metadata": {},
     "output_type": "execute_result"
    }
   ],
   "source": [
    "edge=pub.list_edges()[0]\n",
    "edge"
   ]
  },
  {
   "cell_type": "code",
   "execution_count": null,
   "id": "1b2721c1-2c39-4d6a-8fbd-ae67bf8c6586",
   "metadata": {},
   "outputs": [],
   "source": []
  }
 ],
 "metadata": {
  "kernelspec": {
   "display_name": "Python 3 (ipykernel)",
   "language": "python",
   "name": "python3"
  },
  "language_info": {
   "codemirror_mode": {
    "name": "ipython",
    "version": 3
   },
   "file_extension": ".py",
   "mimetype": "text/x-python",
   "name": "python",
   "nbconvert_exporter": "python",
   "pygments_lexer": "ipython3",
   "version": "3.10.16"
  }
 },
 "nbformat": 4,
 "nbformat_minor": 5
}
