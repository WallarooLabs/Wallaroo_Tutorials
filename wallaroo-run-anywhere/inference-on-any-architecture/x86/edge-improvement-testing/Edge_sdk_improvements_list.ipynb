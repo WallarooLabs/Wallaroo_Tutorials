{
 "cells": [
  {
   "cell_type": "code",
   "execution_count": 1,
   "id": "395ee3af-fc50-4cb6-9579-4a108b3754e3",
   "metadata": {},
   "outputs": [],
   "source": [
    "import wallaroo"
   ]
  },
  {
   "cell_type": "code",
   "execution_count": 4,
   "id": "9e510d7f-90e7-4e37-8f54-4f6b36775d27",
   "metadata": {},
   "outputs": [],
   "source": [
    "wallaroo.auth.logout()"
   ]
  },
  {
   "cell_type": "code",
   "execution_count": 2,
   "id": "17cab471-8adb-4e71-a89b-9c09771bf720",
   "metadata": {},
   "outputs": [
    {
     "name": "stdout",
     "output_type": "stream",
     "text": [
      "Please log into the following URL in a web browser:\n",
      "\n",
      "\thttps://staging.wallaroo.dev/auth/realms/master/device?user_code=BZMP-DOMS\n",
      "\n",
      "Login successful!\n"
     ]
    }
   ],
   "source": [
    "wl = wallaroo.Client()"
   ]
  },
  {
   "cell_type": "code",
   "execution_count": 3,
   "id": "bec380ff-c0e9-4511-8f0c-67f76a17abfb",
   "metadata": {},
   "outputs": [
    {
     "data": {
      "text/html": [
       "<table><tr><th>name</th> <td>edge-replacement-demo-pk</td></tr><tr><th>created</th> <td>2025-02-10 17:34:30.248193+00:00</td></tr><tr><th>last_updated</th> <td>2025-02-10 17:50:05.133025+00:00</td></tr><tr><th>deployed</th> <td>True</td></tr><tr><th>workspace_id</th> <td>44</td></tr><tr><th>workspace_name</th> <td>edge-replacement-demo-pk</td></tr><tr><th>arch</th> <td>x86</td></tr><tr><th>accel</th> <td>none</td></tr><tr><th>tags</th> <td></td></tr><tr><th>versions</th> <td>3dde7889-9d1b-4e72-8b8b-7cf882ee9b3a, cf4eeed2-f2ee-4706-8def-338d3bbcbef4, a90c10d2-34d8-4aa0-b620-6ce3647d92e0, 2fed9329-57fc-4906-8a27-525248f90d0b, 1e153cd7-2f79-4a1d-924e-4ba9873c547a</td></tr><tr><th>steps</th> <td>xgb-house-price-estimator</td></tr><tr><th>published</th> <td>True</td></tr></table>"
      ],
      "text/plain": [
       "{'name': 'edge-replacement-demo-pk', 'create_time': datetime.datetime(2025, 2, 10, 17, 34, 30, 248193, tzinfo=tzutc()), 'definition': '[]'}"
      ]
     },
     "execution_count": 3,
     "metadata": {},
     "output_type": "execute_result"
    }
   ],
   "source": [
    "workspace = wl.get_workspace(\"edge-replacement-demo-pk\")\n",
    "wl.set_current_workspace(workspace)\n",
    "\n",
    "pipeline = wl.get_pipeline(\"edge-replacement-demo-pk\")\n",
    "pipeline"
   ]
  },
  {
   "cell_type": "code",
   "execution_count": 14,
   "id": "773fbc82-443b-4734-8eb7-656f4bfab0cf",
   "metadata": {},
   "outputs": [
    {
     "data": {
      "text/html": [
       "<table><tr><th>id</th><th>Pipeline Name</th><th>Pipeline Version</th><th>Workspace Id</th><th>Workspace Name</th><th>Edges</th><th>Engine URL</th><th>Pipeline URL</th><th>Created By</th><th>Created At</th><th>Updated At</th></tr><tr><td>2</td><td>edge-replacement-demo-pk</td><td>a90c10d2-34d8-4aa0-b620-6ce3647d92e0</td><td>44</td><td>edge-replacement-demo-pk</td><td></td><td><a href='https://us-central1-docker.pkg.dev/wallaroo-dev-253816/uat/engines/proxy/wallaroo/ghcr.io/wallaroolabs/fitzroy-mini:v2025.1.0-main-5922'>us-central1-docker.pkg.dev/wallaroo-dev-253816/uat/engines/proxy/wallaroo/ghcr.io/wallaroolabs/fitzroy-mini:v2025.1.0-main-5922</a></td><td><a href='https://us-central1-docker.pkg.dev/wallaroo-dev-253816/uat/pipelines/edge-replacement-demo-pk:a90c10d2-34d8-4aa0-b620-6ce3647d92e0'>us-central1-docker.pkg.dev/wallaroo-dev-253816/uat/pipelines/edge-replacement-demo-pk:a90c10d2-34d8-4aa0-b620-6ce3647d92e0</a></td><td>preethi.kumar@wallaroo.ai</td><td>2025-10-Feb 17:34:59</td><td>2025-10-Feb 17:34:59</td></tr><tr><td>3</td><td>edge-replacement-demo-pk</td><td>3dde7889-9d1b-4e72-8b8b-7cf882ee9b3a</td><td>44</td><td>edge-replacement-demo-pk</td><td>edge-replacement-demo-pk-edge-1</td><td><a href='https://us-central1-docker.pkg.dev/wallaroo-dev-253816/uat/engines/proxy/wallaroo/ghcr.io/wallaroolabs/fitzroy-mini:v2025.1.0-main-5922'>us-central1-docker.pkg.dev/wallaroo-dev-253816/uat/engines/proxy/wallaroo/ghcr.io/wallaroolabs/fitzroy-mini:v2025.1.0-main-5922</a></td><td><a href='https://us-central1-docker.pkg.dev/wallaroo-dev-253816/uat/pipelines/edge-replacement-demo-pk:3dde7889-9d1b-4e72-8b8b-7cf882ee9b3a'>us-central1-docker.pkg.dev/wallaroo-dev-253816/uat/pipelines/edge-replacement-demo-pk:3dde7889-9d1b-4e72-8b8b-7cf882ee9b3a</a></td><td>preethi.kumar@wallaroo.ai</td><td>2025-10-Feb 17:50:05</td><td>2025-10-Feb 17:50:05</td></tr></table>"
      ],
      "text/plain": [
       "[PipelinePublish(created_at=datetime.datetime(2025, 2, 10, 17, 34, 59, 834090, tzinfo=tzutc()), docker_run_variables={}, engine_config={'engine': {'resources': {'limits': {'cpu': 4.0, 'memory': '3Gi'}, 'requests': {'cpu': 4.0, 'memory': '3Gi'}, 'arch': 'x86', 'accel': 'none', 'gpu': False}}, 'engineAux': {'autoscale': {'type': 'none'}}}, id=2, pipeline_name='edge-replacement-demo-pk', pipeline_version_id=70, replaces=[], status='Published', updated_at=datetime.datetime(2025, 2, 10, 17, 34, 59, 834090, tzinfo=tzutc()), user_images=[], created_by='d7f76f9e-a60c-4774-b3e8-85b27d13ca04', created_on_version='2025.1.0', edge_bundles=<wallaroo.wallaroo_ml_ops_api_client.types.Unset object at 0x7e4fb3509fc0>, engine_url='us-central1-docker.pkg.dev/wallaroo-dev-253816/uat/engines/proxy/wallaroo/ghcr.io/wallaroolabs/fitzroy-mini:v2025.1.0-main-5922', error=None, helm={'reference': 'us-central1-docker.pkg.dev/wallaroo-dev-253816/uat/charts@sha256:025a8ef3df25e9bae9e126c5d93b505ac5c5600166f5d425341fd7cf6518ad4c', 'chart': 'us-central1-docker.pkg.dev/wallaroo-dev-253816/uat/charts/edge-replacement-demo-pk', 'version': '0.0.1-a90c10d2-34d8-4aa0-b620-6ce3647d92e0', 'values': {}}, pipeline_url='us-central1-docker.pkg.dev/wallaroo-dev-253816/uat/pipelines/edge-replacement-demo-pk:a90c10d2-34d8-4aa0-b620-6ce3647d92e0', pipeline_version_name='a90c10d2-34d8-4aa0-b620-6ce3647d92e0', workspace_id=44, workspace_name='edge-replacement-demo-pk', additional_properties={}),\n",
       " PipelinePublish(created_at=datetime.datetime(2025, 2, 10, 17, 50, 5, 332463, tzinfo=tzutc()), docker_run_variables={}, engine_config={'engine': {'resources': {'limits': {'cpu': 4.0, 'memory': '3Gi'}, 'requests': {'cpu': 4.0, 'memory': '3Gi'}, 'arch': 'x86', 'accel': 'none', 'gpu': False}}, 'engineAux': {'autoscale': {'type': 'none'}}}, id=3, pipeline_name='edge-replacement-demo-pk', pipeline_version_id=72, replaces=[{'id': 2, 'pipeline_version_name': 'a90c10d2-34d8-4aa0-b620-6ce3647d92e0', 'pipeline_name': 'edge-replacement-demo-pk'}], status='Published', updated_at=datetime.datetime(2025, 2, 10, 17, 50, 5, 332463, tzinfo=tzutc()), user_images=[], created_by='d7f76f9e-a60c-4774-b3e8-85b27d13ca04', created_on_version='2025.1.0', edge_bundles=<wallaroo.wallaroo_ml_ops_api_client.types.Unset object at 0x7e4fb3509fc0>, engine_url='us-central1-docker.pkg.dev/wallaroo-dev-253816/uat/engines/proxy/wallaroo/ghcr.io/wallaroolabs/fitzroy-mini:v2025.1.0-main-5922', error=None, helm={'reference': 'us-central1-docker.pkg.dev/wallaroo-dev-253816/uat/charts@sha256:f6a68bdbebf5c2827f01bc98f7bfc88eadb55b65f11eb815f51aa65c8ef5f442', 'chart': 'us-central1-docker.pkg.dev/wallaroo-dev-253816/uat/charts/edge-replacement-demo-pk', 'version': '0.0.1-3dde7889-9d1b-4e72-8b8b-7cf882ee9b3a', 'values': {}}, pipeline_url='us-central1-docker.pkg.dev/wallaroo-dev-253816/uat/pipelines/edge-replacement-demo-pk:3dde7889-9d1b-4e72-8b8b-7cf882ee9b3a', pipeline_version_name='3dde7889-9d1b-4e72-8b8b-7cf882ee9b3a', workspace_id=44, workspace_name='edge-replacement-demo-pk', additional_properties={})]"
      ]
     },
     "metadata": {},
     "output_type": "display_data"
    }
   ],
   "source": [
    "display(pipeline.publishes())"
   ]
  },
  {
   "cell_type": "code",
   "execution_count": 15,
   "id": "97c7f581-87a3-4ddd-b38e-2a321085c6a6",
   "metadata": {},
   "outputs": [
    {
     "data": {
      "text/html": [
       "\n",
       "          <table>\n",
       "              <tr><td>ID</td><td>3</td></tr>\n",
       "              <tr><td>Pipeline Name</td><td>edge-replacement-demo-pk</td></tr>\n",
       "              <tr><td>Pipeline Version</td><td>3dde7889-9d1b-4e72-8b8b-7cf882ee9b3a</td></tr>\n",
       "              <tr><td>Status</td><td>Published</td></tr>\n",
       "              <tr><td>Workspace Id</td><td>44</td></tr>\n",
       "              <tr><td>Workspace Name</td><td>edge-replacement-demo-pk</td></tr>\n",
       "              <tr><td>Edges</td><td>edge-replacement-demo-pk-edge-1</td></tr>\n",
       "              <tr><td>Engine URL</td><td><a href='https://us-central1-docker.pkg.dev/wallaroo-dev-253816/uat/engines/proxy/wallaroo/ghcr.io/wallaroolabs/fitzroy-mini:v2025.1.0-main-5922'>us-central1-docker.pkg.dev/wallaroo-dev-253816/uat/engines/proxy/wallaroo/ghcr.io/wallaroolabs/fitzroy-mini:v2025.1.0-main-5922</a></td></tr>\n",
       "              <tr><td>Pipeline URL</td><td><a href='https://us-central1-docker.pkg.dev/wallaroo-dev-253816/uat/pipelines/edge-replacement-demo-pk:3dde7889-9d1b-4e72-8b8b-7cf882ee9b3a'>us-central1-docker.pkg.dev/wallaroo-dev-253816/uat/pipelines/edge-replacement-demo-pk:3dde7889-9d1b-4e72-8b8b-7cf882ee9b3a</a></td></tr>\n",
       "              <tr><td>Helm Chart URL</td><td>oci://<a href='https://us-central1-docker.pkg.dev/wallaroo-dev-253816/uat/charts/edge-replacement-demo-pk'>us-central1-docker.pkg.dev/wallaroo-dev-253816/uat/charts/edge-replacement-demo-pk</a></td></tr>\n",
       "              <tr><td>Helm Chart Reference</td><td>us-central1-docker.pkg.dev/wallaroo-dev-253816/uat/charts@sha256:f6a68bdbebf5c2827f01bc98f7bfc88eadb55b65f11eb815f51aa65c8ef5f442</td></tr>\n",
       "              <tr><td>Helm Chart Version</td><td>0.0.1-3dde7889-9d1b-4e72-8b8b-7cf882ee9b3a</td></tr>\n",
       "              <tr><td>Engine Config</td><td>{'engine': {'resources': {'limits': {'cpu': 4.0, 'memory': '3Gi'}, 'requests': {'cpu': 4.0, 'memory': '3Gi'}, 'arch': 'x86', 'accel': 'none', 'gpu': False}}, 'engineAux': {'autoscale': {'type': 'none'}}}</td></tr>\n",
       "              <tr><td>User Images</td><td>[]</td></tr>\n",
       "              <tr><td>Created By</td><td>preethi.kumar@wallaroo.ai</td></tr>\n",
       "              <tr><td>Created At</td><td>2025-02-10 17:50:05.332463+00:00</td></tr>\n",
       "              <tr><td>Updated At</td><td>2025-02-10 17:50:05.332463+00:00</td></tr>\n",
       "              <tr><td>Replaces</td><td>Publish 2, Pipeline \"edge-replacement-demo-pk\", Version a90c10d2-34d8-4aa0-b620-6ce3647d92e0</td></tr>\n",
       "              <tr>\n",
       "                  <td>Docker Run Command</td>\n",
       "                  <td>\n",
       "                      <table><tr><td>\n",
       "<pre style=\"text-align: left\">docker run \\\n",
       "    -p $EDGE_PORT:8080 \\\n",
       "    -e OCI_USERNAME=$OCI_USERNAME \\\n",
       "    -e OCI_PASSWORD=$OCI_PASSWORD \\\n",
       "    -e CONFIG_CPUS=4 --cpus=4.0 --memory=3g \\\n",
       "    us-central1-docker.pkg.dev/wallaroo-dev-253816/uat/engines/proxy/wallaroo/ghcr.io/wallaroolabs/fitzroy-mini:v2025.1.0-main-5922</pre></td></tr></table>\n",
       "                      <br />\n",
       "                      <i>\n",
       "                          Note: Please set the <code>EDGE_PORT</code>, <code>OCI_USERNAME</code>, and <code>OCI_PASSWORD</code> environment variables.\n",
       "                      </i>\n",
       "                  </td>\n",
       "              </tr>\n",
       "              <tr>\n",
       "                  <td>Helm Install Command</td>\n",
       "                  <td>\n",
       "                      <table><tr><td>\n",
       "<pre style=\"text-align: left\">helm install --atomic $HELM_INSTALL_NAME \\\n",
       "    oci://us-central1-docker.pkg.dev/wallaroo-dev-253816/uat/charts/edge-replacement-demo-pk \\\n",
       "    --namespace $HELM_INSTALL_NAMESPACE \\\n",
       "    --version 0.0.1-3dde7889-9d1b-4e72-8b8b-7cf882ee9b3a \\\n",
       "    --set ociRegistry.username=$OCI_USERNAME \\\n",
       "    --set ociRegistry.password=$OCI_PASSWORD</pre></td></tr></table>\n",
       "                      <br />\n",
       "                      <i>\n",
       "                          Note: Please set the <code>HELM_INSTALL_NAME</code>, <code>HELM_INSTALL_NAMESPACE</code>,\n",
       "                          <code>OCI_USERNAME</code>, and <code>OCI_PASSWORD</code> environment variables.\n",
       "                      </i>\n",
       "                  </td>\n",
       "              </tr>\n",
       "              \n",
       "          </table>\n",
       "        "
      ],
      "text/plain": [
       "PipelinePublish(created_at=datetime.datetime(2025, 2, 10, 17, 50, 5, 332463, tzinfo=tzutc()), docker_run_variables={}, engine_config={'engine': {'resources': {'limits': {'cpu': 4.0, 'memory': '3Gi'}, 'requests': {'cpu': 4.0, 'memory': '3Gi'}, 'arch': 'x86', 'accel': 'none', 'gpu': False}}, 'engineAux': {'autoscale': {'type': 'none'}}}, id=3, pipeline_name='edge-replacement-demo-pk', pipeline_version_id=72, replaces=[{'id': 2, 'pipeline_version_name': 'a90c10d2-34d8-4aa0-b620-6ce3647d92e0', 'pipeline_name': 'edge-replacement-demo-pk'}], status='Published', updated_at=datetime.datetime(2025, 2, 10, 17, 50, 5, 332463, tzinfo=tzutc()), user_images=[], created_by='d7f76f9e-a60c-4774-b3e8-85b27d13ca04', created_on_version='2025.1.0', edge_bundles=<wallaroo.wallaroo_ml_ops_api_client.types.Unset object at 0x7e4fb3509fc0>, engine_url='us-central1-docker.pkg.dev/wallaroo-dev-253816/uat/engines/proxy/wallaroo/ghcr.io/wallaroolabs/fitzroy-mini:v2025.1.0-main-5922', error=None, helm={'reference': 'us-central1-docker.pkg.dev/wallaroo-dev-253816/uat/charts@sha256:f6a68bdbebf5c2827f01bc98f7bfc88eadb55b65f11eb815f51aa65c8ef5f442', 'chart': 'us-central1-docker.pkg.dev/wallaroo-dev-253816/uat/charts/edge-replacement-demo-pk', 'version': '0.0.1-3dde7889-9d1b-4e72-8b8b-7cf882ee9b3a', 'values': {}}, pipeline_url='us-central1-docker.pkg.dev/wallaroo-dev-253816/uat/pipelines/edge-replacement-demo-pk:3dde7889-9d1b-4e72-8b8b-7cf882ee9b3a', pipeline_version_name='3dde7889-9d1b-4e72-8b8b-7cf882ee9b3a', workspace_id=44, workspace_name='edge-replacement-demo-pk', additional_properties={})"
      ]
     },
     "metadata": {},
     "output_type": "display_data"
    }
   ],
   "source": [
    "display(pipeline.publishes()[1])"
   ]
  },
  {
   "cell_type": "code",
   "execution_count": 16,
   "id": "07cb0937-97ef-459b-bb15-b47c760996dd",
   "metadata": {},
   "outputs": [
    {
     "data": {
      "text/html": [
       "<table><tr><th>id</th><th>Pipeline Name</th><th>Pipeline Version</th><th>Workspace Id</th><th>Workspace Name</th><th>Edges</th><th>Engine URL</th><th>Pipeline URL</th><th>Created By</th><th>Created At</th><th>Updated At</th></tr><tr><td>1</td><td>edge-inline-replacement-demon</td><td>aa29385c-dd28-49a0-8a09-7081a986180e</td><td>37</td><td>in-line-edge-replacement-demo</td><td>houseprice-edge-inline-demonstration<br/>houseprice-edge-inline-demonstration-1</td><td><a href='https://us-central1-docker.pkg.dev/wallaroo-dev-253816/uat/engines/proxy/wallaroo/ghcr.io/wallaroolabs/fitzroy-mini:v2025.1.0-main-5917'>us-central1-docker.pkg.dev/wallaroo-dev-253816/uat/engines/proxy/wallaroo/ghcr.io/wallaroolabs/fitzroy-mini:v2025.1.0-main-5917</a></td><td><a href='https://us-central1-docker.pkg.dev/wallaroo-dev-253816/uat/pipelines/edge-inline-replacement-demon:aa29385c-dd28-49a0-8a09-7081a986180e'>us-central1-docker.pkg.dev/wallaroo-dev-253816/uat/pipelines/edge-inline-replacement-demon:aa29385c-dd28-49a0-8a09-7081a986180e</a></td><td>preethi.kumar@wallaroo.ai</td><td>2025-04-Feb 18:29:08</td><td>2025-04-Feb 18:29:08</td></tr><tr><td>2</td><td>edge-replacement-demo-pk</td><td>a90c10d2-34d8-4aa0-b620-6ce3647d92e0</td><td>44</td><td>edge-replacement-demo-pk</td><td></td><td><a href='https://us-central1-docker.pkg.dev/wallaroo-dev-253816/uat/engines/proxy/wallaroo/ghcr.io/wallaroolabs/fitzroy-mini:v2025.1.0-main-5922'>us-central1-docker.pkg.dev/wallaroo-dev-253816/uat/engines/proxy/wallaroo/ghcr.io/wallaroolabs/fitzroy-mini:v2025.1.0-main-5922</a></td><td><a href='https://us-central1-docker.pkg.dev/wallaroo-dev-253816/uat/pipelines/edge-replacement-demo-pk:a90c10d2-34d8-4aa0-b620-6ce3647d92e0'>us-central1-docker.pkg.dev/wallaroo-dev-253816/uat/pipelines/edge-replacement-demo-pk:a90c10d2-34d8-4aa0-b620-6ce3647d92e0</a></td><td>preethi.kumar@wallaroo.ai</td><td>2025-10-Feb 17:34:59</td><td>2025-10-Feb 17:34:59</td></tr><tr><td>3</td><td>edge-replacement-demo-pk</td><td>3dde7889-9d1b-4e72-8b8b-7cf882ee9b3a</td><td>44</td><td>edge-replacement-demo-pk</td><td>edge-replacement-demo-pk-edge-1</td><td><a href='https://us-central1-docker.pkg.dev/wallaroo-dev-253816/uat/engines/proxy/wallaroo/ghcr.io/wallaroolabs/fitzroy-mini:v2025.1.0-main-5922'>us-central1-docker.pkg.dev/wallaroo-dev-253816/uat/engines/proxy/wallaroo/ghcr.io/wallaroolabs/fitzroy-mini:v2025.1.0-main-5922</a></td><td><a href='https://us-central1-docker.pkg.dev/wallaroo-dev-253816/uat/pipelines/edge-replacement-demo-pk:3dde7889-9d1b-4e72-8b8b-7cf882ee9b3a'>us-central1-docker.pkg.dev/wallaroo-dev-253816/uat/pipelines/edge-replacement-demo-pk:3dde7889-9d1b-4e72-8b8b-7cf882ee9b3a</a></td><td>preethi.kumar@wallaroo.ai</td><td>2025-10-Feb 17:50:05</td><td>2025-10-Feb 17:50:05</td></tr><tr><td>4</td><td>llamacpp-pipeyns-akmel</td><td>2c4986ed-f336-4df6-b09a-38ab8cb1cd19</td><td>68</td><td>younes.amar@wallaroo.ai - Default Workspace</td><td></td><td><a href='https://us-central1-docker.pkg.dev/wallaroo-dev-253816/uat/engines/proxy/wallaroo/ghcr.io/wallaroolabs/fitzroy-mini:v2025.1.0-main-5938'>us-central1-docker.pkg.dev/wallaroo-dev-253816/uat/engines/proxy/wallaroo/ghcr.io/wallaroolabs/fitzroy-mini:v2025.1.0-main-5938</a></td><td><a href='https://us-central1-docker.pkg.dev/wallaroo-dev-253816/uat/pipelines/llamacpp-pipeyns-akmel:2c4986ed-f336-4df6-b09a-38ab8cb1cd19'>us-central1-docker.pkg.dev/wallaroo-dev-253816/uat/pipelines/llamacpp-pipeyns-akmel:2c4986ed-f336-4df6-b09a-38ab8cb1cd19</a></td><td>younes.amar@wallaroo.ai</td><td>2025-07-Mar 21:05:13</td><td>2025-07-Mar 21:05:13</td></tr></table>"
      ],
      "text/plain": [
       "[PipelinePublish(created_at=datetime.datetime(2025, 2, 4, 18, 29, 8, 342725, tzinfo=tzutc()), docker_run_variables={}, engine_config={'engine': {'resources': {'limits': {'cpu': 4.0, 'memory': '3Gi'}, 'requests': {'cpu': 4.0, 'memory': '3Gi'}, 'arch': 'x86', 'accel': 'none', 'gpu': False}}, 'engineAux': {'autoscale': {'type': 'none'}}}, id=1, pipeline_name='edge-inline-replacement-demon', pipeline_version_id=67, replaces=[], status='Published', updated_at=datetime.datetime(2025, 2, 4, 18, 29, 8, 342725, tzinfo=tzutc()), user_images=[], created_by='d7f76f9e-a60c-4774-b3e8-85b27d13ca04', created_on_version='2025.1.0', edge_bundles=<wallaroo.wallaroo_ml_ops_api_client.types.Unset object at 0x7e4fb3509fc0>, engine_url='us-central1-docker.pkg.dev/wallaroo-dev-253816/uat/engines/proxy/wallaroo/ghcr.io/wallaroolabs/fitzroy-mini:v2025.1.0-main-5917', error=None, helm={'reference': 'us-central1-docker.pkg.dev/wallaroo-dev-253816/uat/charts@sha256:bcc2f64ade9bb0ffa64e7b84328106e41e113245edeba42eb0329092b58d3a7e', 'chart': 'us-central1-docker.pkg.dev/wallaroo-dev-253816/uat/charts/edge-inline-replacement-demon', 'version': '0.0.1-aa29385c-dd28-49a0-8a09-7081a986180e', 'values': {}}, pipeline_url='us-central1-docker.pkg.dev/wallaroo-dev-253816/uat/pipelines/edge-inline-replacement-demon:aa29385c-dd28-49a0-8a09-7081a986180e', pipeline_version_name='aa29385c-dd28-49a0-8a09-7081a986180e', workspace_id=37, workspace_name='in-line-edge-replacement-demo', additional_properties={}),\n",
       " PipelinePublish(created_at=datetime.datetime(2025, 2, 10, 17, 34, 59, 834090, tzinfo=tzutc()), docker_run_variables={}, engine_config={'engine': {'resources': {'limits': {'cpu': 4.0, 'memory': '3Gi'}, 'requests': {'cpu': 4.0, 'memory': '3Gi'}, 'arch': 'x86', 'accel': 'none', 'gpu': False}}, 'engineAux': {'autoscale': {'type': 'none'}}}, id=2, pipeline_name='edge-replacement-demo-pk', pipeline_version_id=70, replaces=[], status='Published', updated_at=datetime.datetime(2025, 2, 10, 17, 34, 59, 834090, tzinfo=tzutc()), user_images=[], created_by='d7f76f9e-a60c-4774-b3e8-85b27d13ca04', created_on_version='2025.1.0', edge_bundles=<wallaroo.wallaroo_ml_ops_api_client.types.Unset object at 0x7e4fb3509fc0>, engine_url='us-central1-docker.pkg.dev/wallaroo-dev-253816/uat/engines/proxy/wallaroo/ghcr.io/wallaroolabs/fitzroy-mini:v2025.1.0-main-5922', error=None, helm={'reference': 'us-central1-docker.pkg.dev/wallaroo-dev-253816/uat/charts@sha256:025a8ef3df25e9bae9e126c5d93b505ac5c5600166f5d425341fd7cf6518ad4c', 'chart': 'us-central1-docker.pkg.dev/wallaroo-dev-253816/uat/charts/edge-replacement-demo-pk', 'version': '0.0.1-a90c10d2-34d8-4aa0-b620-6ce3647d92e0', 'values': {}}, pipeline_url='us-central1-docker.pkg.dev/wallaroo-dev-253816/uat/pipelines/edge-replacement-demo-pk:a90c10d2-34d8-4aa0-b620-6ce3647d92e0', pipeline_version_name='a90c10d2-34d8-4aa0-b620-6ce3647d92e0', workspace_id=44, workspace_name='edge-replacement-demo-pk', additional_properties={}),\n",
       " PipelinePublish(created_at=datetime.datetime(2025, 2, 10, 17, 50, 5, 332463, tzinfo=tzutc()), docker_run_variables={}, engine_config={'engine': {'resources': {'limits': {'cpu': 4.0, 'memory': '3Gi'}, 'requests': {'cpu': 4.0, 'memory': '3Gi'}, 'arch': 'x86', 'accel': 'none', 'gpu': False}}, 'engineAux': {'autoscale': {'type': 'none'}}}, id=3, pipeline_name='edge-replacement-demo-pk', pipeline_version_id=72, replaces=[{'id': 2, 'pipeline_version_name': 'a90c10d2-34d8-4aa0-b620-6ce3647d92e0', 'pipeline_name': 'edge-replacement-demo-pk'}], status='Published', updated_at=datetime.datetime(2025, 2, 10, 17, 50, 5, 332463, tzinfo=tzutc()), user_images=[], created_by='d7f76f9e-a60c-4774-b3e8-85b27d13ca04', created_on_version='2025.1.0', edge_bundles=<wallaroo.wallaroo_ml_ops_api_client.types.Unset object at 0x7e4fb3509fc0>, engine_url='us-central1-docker.pkg.dev/wallaroo-dev-253816/uat/engines/proxy/wallaroo/ghcr.io/wallaroolabs/fitzroy-mini:v2025.1.0-main-5922', error=None, helm={'reference': 'us-central1-docker.pkg.dev/wallaroo-dev-253816/uat/charts@sha256:f6a68bdbebf5c2827f01bc98f7bfc88eadb55b65f11eb815f51aa65c8ef5f442', 'chart': 'us-central1-docker.pkg.dev/wallaroo-dev-253816/uat/charts/edge-replacement-demo-pk', 'version': '0.0.1-3dde7889-9d1b-4e72-8b8b-7cf882ee9b3a', 'values': {}}, pipeline_url='us-central1-docker.pkg.dev/wallaroo-dev-253816/uat/pipelines/edge-replacement-demo-pk:3dde7889-9d1b-4e72-8b8b-7cf882ee9b3a', pipeline_version_name='3dde7889-9d1b-4e72-8b8b-7cf882ee9b3a', workspace_id=44, workspace_name='edge-replacement-demo-pk', additional_properties={}),\n",
       " PipelinePublish(created_at=datetime.datetime(2025, 3, 7, 21, 5, 13, 628914, tzinfo=tzutc()), docker_run_variables={}, engine_config={'engine': {'resources': {'limits': {'cpu': 1.0, 'memory': '2Gi'}, 'requests': {'cpu': 1.0, 'memory': '2Gi'}, 'arch': 'x86', 'accel': 'none', 'gpu': False}}, 'engineAux': {'images': {'llamacpp-akmel-25': {'resources': {'limits': {'cpu': 2.0, 'memory': '8Gi'}, 'requests': {'cpu': 2.0, 'memory': '8Gi'}, 'arch': 'x86', 'accel': 'none', 'gpu': False}}}, 'autoscale': {'type': 'none'}}}, id=4, pipeline_name='llamacpp-pipeyns-akmel', pipeline_version_id=77, replaces=[], status='Published', updated_at=datetime.datetime(2025, 3, 7, 21, 5, 13, 628914, tzinfo=tzutc()), user_images=[], created_by='1cdbcd29-90b8-44a8-b431-1a3716b1118f', created_on_version='2025.1.0', edge_bundles=<wallaroo.wallaroo_ml_ops_api_client.types.Unset object at 0x7e4fb3509fc0>, engine_url='us-central1-docker.pkg.dev/wallaroo-dev-253816/uat/engines/proxy/wallaroo/ghcr.io/wallaroolabs/fitzroy-mini:v2025.1.0-main-5938', error=None, helm={'reference': 'us-central1-docker.pkg.dev/wallaroo-dev-253816/uat/charts@sha256:6ea0c4abf4d698010952a42ef492301381a2923a403b6ff1d06f5855dbf1ca05', 'chart': 'us-central1-docker.pkg.dev/wallaroo-dev-253816/uat/charts/llamacpp-pipeyns-akmel', 'version': '0.0.1-2c4986ed-f336-4df6-b09a-38ab8cb1cd19', 'values': {}}, pipeline_url='us-central1-docker.pkg.dev/wallaroo-dev-253816/uat/pipelines/llamacpp-pipeyns-akmel:2c4986ed-f336-4df6-b09a-38ab8cb1cd19', pipeline_version_name='2c4986ed-f336-4df6-b09a-38ab8cb1cd19', workspace_id=68, workspace_name='younes.amar@wallaroo.ai - Default Workspace', additional_properties={})]"
      ]
     },
     "metadata": {},
     "output_type": "display_data"
    }
   ],
   "source": [
    "display(wl.list_publishes())"
   ]
  },
  {
   "cell_type": "code",
   "execution_count": 17,
   "id": "06086a28-f55c-4262-b927-56e102278424",
   "metadata": {},
   "outputs": [
    {
     "data": {
      "text/html": [
       "\n",
       "          <table>\n",
       "              <tr><td>ID</td><td>2</td></tr>\n",
       "              <tr><td>Pipeline Name</td><td>edge-replacement-demo-pk</td></tr>\n",
       "              <tr><td>Pipeline Version</td><td>a90c10d2-34d8-4aa0-b620-6ce3647d92e0</td></tr>\n",
       "              <tr><td>Status</td><td>Published</td></tr>\n",
       "              <tr><td>Workspace Id</td><td>44</td></tr>\n",
       "              <tr><td>Workspace Name</td><td>edge-replacement-demo-pk</td></tr>\n",
       "              <tr><td>Edges</td><td></td></tr>\n",
       "              <tr><td>Engine URL</td><td><a href='https://us-central1-docker.pkg.dev/wallaroo-dev-253816/uat/engines/proxy/wallaroo/ghcr.io/wallaroolabs/fitzroy-mini:v2025.1.0-main-5922'>us-central1-docker.pkg.dev/wallaroo-dev-253816/uat/engines/proxy/wallaroo/ghcr.io/wallaroolabs/fitzroy-mini:v2025.1.0-main-5922</a></td></tr>\n",
       "              <tr><td>Pipeline URL</td><td><a href='https://us-central1-docker.pkg.dev/wallaroo-dev-253816/uat/pipelines/edge-replacement-demo-pk:a90c10d2-34d8-4aa0-b620-6ce3647d92e0'>us-central1-docker.pkg.dev/wallaroo-dev-253816/uat/pipelines/edge-replacement-demo-pk:a90c10d2-34d8-4aa0-b620-6ce3647d92e0</a></td></tr>\n",
       "              <tr><td>Helm Chart URL</td><td>oci://<a href='https://us-central1-docker.pkg.dev/wallaroo-dev-253816/uat/charts/edge-replacement-demo-pk'>us-central1-docker.pkg.dev/wallaroo-dev-253816/uat/charts/edge-replacement-demo-pk</a></td></tr>\n",
       "              <tr><td>Helm Chart Reference</td><td>us-central1-docker.pkg.dev/wallaroo-dev-253816/uat/charts@sha256:025a8ef3df25e9bae9e126c5d93b505ac5c5600166f5d425341fd7cf6518ad4c</td></tr>\n",
       "              <tr><td>Helm Chart Version</td><td>0.0.1-a90c10d2-34d8-4aa0-b620-6ce3647d92e0</td></tr>\n",
       "              <tr><td>Engine Config</td><td>{'engine': {'resources': {'limits': {'cpu': 4.0, 'memory': '3Gi'}, 'requests': {'cpu': 4.0, 'memory': '3Gi'}, 'arch': 'x86', 'accel': 'none', 'gpu': False}}, 'engineAux': {'autoscale': {'type': 'none'}}}</td></tr>\n",
       "              <tr><td>User Images</td><td>[]</td></tr>\n",
       "              <tr><td>Created By</td><td>preethi.kumar@wallaroo.ai</td></tr>\n",
       "              <tr><td>Created At</td><td>2025-02-10 17:34:59.834090+00:00</td></tr>\n",
       "              <tr><td>Updated At</td><td>2025-02-10 17:34:59.834090+00:00</td></tr>\n",
       "              <tr><td>Replaces</td><td></td></tr>\n",
       "              <tr>\n",
       "                  <td>Docker Run Command</td>\n",
       "                  <td>\n",
       "                      <table><tr><td>\n",
       "<pre style=\"text-align: left\">docker run \\\n",
       "    -p $EDGE_PORT:8080 \\\n",
       "    -e OCI_USERNAME=$OCI_USERNAME \\\n",
       "    -e OCI_PASSWORD=$OCI_PASSWORD \\\n",
       "    -e CONFIG_CPUS=4 --cpus=4.0 --memory=3g \\\n",
       "    us-central1-docker.pkg.dev/wallaroo-dev-253816/uat/engines/proxy/wallaroo/ghcr.io/wallaroolabs/fitzroy-mini:v2025.1.0-main-5922</pre></td></tr></table>\n",
       "                      <br />\n",
       "                      <i>\n",
       "                          Note: Please set the <code>EDGE_PORT</code>, <code>OCI_USERNAME</code>, and <code>OCI_PASSWORD</code> environment variables.\n",
       "                      </i>\n",
       "                  </td>\n",
       "              </tr>\n",
       "              <tr>\n",
       "                  <td>Helm Install Command</td>\n",
       "                  <td>\n",
       "                      <table><tr><td>\n",
       "<pre style=\"text-align: left\">helm install --atomic $HELM_INSTALL_NAME \\\n",
       "    oci://us-central1-docker.pkg.dev/wallaroo-dev-253816/uat/charts/edge-replacement-demo-pk \\\n",
       "    --namespace $HELM_INSTALL_NAMESPACE \\\n",
       "    --version 0.0.1-a90c10d2-34d8-4aa0-b620-6ce3647d92e0 \\\n",
       "    --set ociRegistry.username=$OCI_USERNAME \\\n",
       "    --set ociRegistry.password=$OCI_PASSWORD</pre></td></tr></table>\n",
       "                      <br />\n",
       "                      <i>\n",
       "                          Note: Please set the <code>HELM_INSTALL_NAME</code>, <code>HELM_INSTALL_NAMESPACE</code>,\n",
       "                          <code>OCI_USERNAME</code>, and <code>OCI_PASSWORD</code> environment variables.\n",
       "                      </i>\n",
       "                  </td>\n",
       "              </tr>\n",
       "              \n",
       "          </table>\n",
       "        "
      ],
      "text/plain": [
       "PipelinePublish(created_at=datetime.datetime(2025, 2, 10, 17, 34, 59, 834090, tzinfo=tzutc()), docker_run_variables={}, engine_config={'engine': {'resources': {'limits': {'cpu': 4.0, 'memory': '3Gi'}, 'requests': {'cpu': 4.0, 'memory': '3Gi'}, 'arch': 'x86', 'accel': 'none', 'gpu': False}}, 'engineAux': {'autoscale': {'type': 'none'}}}, id=2, pipeline_name='edge-replacement-demo-pk', pipeline_version_id=70, replaces=[], status='Published', updated_at=datetime.datetime(2025, 2, 10, 17, 34, 59, 834090, tzinfo=tzutc()), user_images=[], created_by='d7f76f9e-a60c-4774-b3e8-85b27d13ca04', created_on_version='2025.1.0', edge_bundles=<wallaroo.wallaroo_ml_ops_api_client.types.Unset object at 0x7e4fb3509fc0>, engine_url='us-central1-docker.pkg.dev/wallaroo-dev-253816/uat/engines/proxy/wallaroo/ghcr.io/wallaroolabs/fitzroy-mini:v2025.1.0-main-5922', error=None, helm={'reference': 'us-central1-docker.pkg.dev/wallaroo-dev-253816/uat/charts@sha256:025a8ef3df25e9bae9e126c5d93b505ac5c5600166f5d425341fd7cf6518ad4c', 'chart': 'us-central1-docker.pkg.dev/wallaroo-dev-253816/uat/charts/edge-replacement-demo-pk', 'version': '0.0.1-a90c10d2-34d8-4aa0-b620-6ce3647d92e0', 'values': {}}, pipeline_url='us-central1-docker.pkg.dev/wallaroo-dev-253816/uat/pipelines/edge-replacement-demo-pk:a90c10d2-34d8-4aa0-b620-6ce3647d92e0', pipeline_version_name='a90c10d2-34d8-4aa0-b620-6ce3647d92e0', workspace_id=44, workspace_name='edge-replacement-demo-pk', additional_properties={})"
      ]
     },
     "metadata": {},
     "output_type": "display_data"
    }
   ],
   "source": [
    "display(wl.list_publishes()[1])"
   ]
  },
  {
   "cell_type": "code",
   "execution_count": 18,
   "id": "88a0c4c3-6949-4d89-86f6-dc49ac814642",
   "metadata": {},
   "outputs": [
    {
     "data": {
      "text/html": [
       "<table><tr><th>ID</th><th>Name</th><th>Publish ID</th><th>Created At</th><th>Tags</th><th>CPUs</th><th>Memory</th><th>SPIFFE ID</th><th>Pipeline Name</th><th>Pipeline Version</th><th>Workspace ID</th><th>Workspace Name</th></tr><tr>\n",
       "                <td>f3410c94-e50a-4153-8ec6-81bb7b5cfe4e</td>\n",
       "                <td>edge-replacement-demo-pk-edge-1</td>\n",
       "                <td>3</td>\n",
       "                <td>2025-02-10 17:36:27.491310+00:00</td>\n",
       "                <td>[]</td>\n",
       "                <td>4.0</td>\n",
       "                <td>3Gi</td>\n",
       "                <td>wallaroo.ai/ns/deployments/edge/f3410c94-e50a-4153-8ec6-81bb7b5cfe4e</td>\n",
       "            \n",
       "                    <td>edge-replacement-demo-pk</td>   \n",
       "                    <td>3dde7889-9d1b-4e72-8b8b-7cf882ee9b3a</td>\n",
       "                    <td>44</td>\n",
       "                    <td>edge-replacement-demo-pk</td>\n",
       "                </tr></table>"
      ],
      "text/plain": [
       "[Edge(cpus=4.0, id='f3410c94-e50a-4153-8ec6-81bb7b5cfe4e', memory='3Gi', name='edge-replacement-demo-pk-edge-1', tags=[], created_at=datetime.datetime(2025, 2, 10, 17, 36, 27, 491310, tzinfo=tzutc()), created_on_version=<AppVersion.VALUE_12: '2025.1.0'>, should_run_publish=3, spiffe_id='wallaroo.ai/ns/deployments/edge/f3410c94-e50a-4153-8ec6-81bb7b5cfe4e', additional_properties={'pipeline_name': 'edge-replacement-demo-pk', 'pipeline_version_name': '3dde7889-9d1b-4e72-8b8b-7cf882ee9b3a', 'workspace_name': 'edge-replacement-demo-pk', 'workspace_id': 44, 'helm_install': '<tr><td>\\n<pre style=\"text-align: left\">helm install --atomic $HELM_INSTALL_NAME \\\\\\n    oci://us-central1-docker.pkg.dev/wallaroo-dev-253816/uat/charts/edge-replacement-demo-pk \\\\\\n    --namespace $HELM_INSTALL_NAMESPACE \\\\\\n    --version 0.0.1-3dde7889-9d1b-4e72-8b8b-7cf882ee9b3a \\\\\\n    --set ociRegistry.username=$OCI_USERNAME \\\\\\n    --set ociRegistry.password=$OCI_PASSWORD</pre></td></tr>', 'docker_run': '<tr><td>\\n<pre style=\"text-align: left\">docker run \\\\\\n    -p $EDGE_PORT:8080 \\\\\\n    -e OCI_USERNAME=$OCI_USERNAME \\\\\\n    -e OCI_PASSWORD=$OCI_PASSWORD \\\\\\n    -e CONFIG_CPUS=4 --cpus=4.0 --memory=3g \\\\\\n    us-central1-docker.pkg.dev/wallaroo-dev-253816/uat/engines/proxy/wallaroo/ghcr.io/wallaroolabs/fitzroy-mini:v2025.1.0-main-5922</pre></td></tr>', 'additional_envs': '', 'edge_bundles': ''})]"
      ]
     },
     "execution_count": 18,
     "metadata": {},
     "output_type": "execute_result"
    }
   ],
   "source": [
    "pipeline.publishes()[1].list_edges()"
   ]
  },
  {
   "cell_type": "code",
   "execution_count": 19,
   "id": "3e8763c2-7de6-47bd-ac82-ff4cb53791b1",
   "metadata": {},
   "outputs": [
    {
     "data": {
      "text/html": [
       "<table>\n",
       "        <tr><th>Key</th><th>Value</th></tr>\n",
       "        <tr><td>ID</td><td>f3410c94-e50a-4153-8ec6-81bb7b5cfe4e</td></tr>\n",
       "        <tr><td>Name</td><td>edge-replacement-demo-pk-edge-1</td></tr>\n",
       "        <tr><td>Tags</td><td>[]</td></tr>\n",
       "        <tr><td>CPUs</td><td>4.0</td></tr>\n",
       "        <tr><td>Memory</td><td>3Gi</td></tr>\n",
       "        <tr><td>SPIFFE ID</td><td>wallaroo.ai/ns/deployments/edge/f3410c94-e50a-4153-8ec6-81bb7b5cfe4e</td></tr>\n",
       "        <tr><td>Publish Id</td><td>3</td></tr>\n",
       "    \n",
       "            <tr><td>Created At</td><td>2025-02-10 17:36:27.491310+00:00</td></tr>\n",
       "            <tr><td>Created On Version</td><td>2025.1.0</td></tr>\n",
       "            <tr><td>Pipeline Name</td><td>edge-replacement-demo-pk</td></tr>\n",
       "            <tr><td>Pipeline Version</td><td>3dde7889-9d1b-4e72-8b8b-7cf882ee9b3a</td></tr>\n",
       "            <tr><td>Workspace Id</td><td>44</td></tr>\n",
       "            <tr><td>Workspace Name</td><td>edge-replacement-demo-pk</td></tr>\n",
       "            <tr>\n",
       "                    <td>Docker Run Command</td>\n",
       "                    <td>\n",
       "                        <table><tr><td>\n",
       "<pre style=\"text-align: left\">docker run \\\n",
       "    -p $EDGE_PORT:8080 \\\n",
       "    -e OCI_USERNAME=$OCI_USERNAME \\\n",
       "    -e OCI_PASSWORD=$OCI_PASSWORD \\\n",
       "    -e CONFIG_CPUS=4 --cpus=4.0 --memory=3g \\\n",
       "    us-central1-docker.pkg.dev/wallaroo-dev-253816/uat/engines/proxy/wallaroo/ghcr.io/wallaroolabs/fitzroy-mini:v2025.1.0-main-5922</pre></td></tr></table>\n",
       "                        <br />\n",
       "                        <i>\n",
       "                            Note: Please set the <code>EDGE_PORT</code>, <code>OCI_USERNAME</code>, and <code>OCI_PASSWORD</code> environment variables.\n",
       "                        </i>\n",
       "                    </td>\n",
       "                </tr>\n",
       "                <tr>\n",
       "                    <td>Helm Install Command</td>\n",
       "                    <td>\n",
       "                        <table><tr><td>\n",
       "<pre style=\"text-align: left\">helm install --atomic $HELM_INSTALL_NAME \\\n",
       "    oci://us-central1-docker.pkg.dev/wallaroo-dev-253816/uat/charts/edge-replacement-demo-pk \\\n",
       "    --namespace $HELM_INSTALL_NAMESPACE \\\n",
       "    --version 0.0.1-3dde7889-9d1b-4e72-8b8b-7cf882ee9b3a \\\n",
       "    --set ociRegistry.username=$OCI_USERNAME \\\n",
       "    --set ociRegistry.password=$OCI_PASSWORD</pre></td></tr></table>\n",
       "                        <br />\n",
       "                        <i>\n",
       "                            Note: Please set the <code>HELM_INSTALL_NAME</code>, <code>HELM_INSTALL_NAMESPACE</code>,\n",
       "                            <code>OCI_USERNAME</code>, and <code>OCI_PASSWORD</code> environment variables.\n",
       "                        </i>\n",
       "                    </td>\n",
       "                </tr>\n",
       "                </table>"
      ],
      "text/plain": [
       "Edge(cpus=4.0, id='f3410c94-e50a-4153-8ec6-81bb7b5cfe4e', memory='3Gi', name='edge-replacement-demo-pk-edge-1', tags=[], created_at=datetime.datetime(2025, 2, 10, 17, 36, 27, 491310, tzinfo=tzutc()), created_on_version=<AppVersion.VALUE_12: '2025.1.0'>, should_run_publish=3, spiffe_id='wallaroo.ai/ns/deployments/edge/f3410c94-e50a-4153-8ec6-81bb7b5cfe4e', additional_properties={'pipeline_name': 'edge-replacement-demo-pk', 'pipeline_version_name': '3dde7889-9d1b-4e72-8b8b-7cf882ee9b3a', 'workspace_name': 'edge-replacement-demo-pk', 'workspace_id': 44, 'helm_install': '<tr><td>\\n<pre style=\"text-align: left\">helm install --atomic $HELM_INSTALL_NAME \\\\\\n    oci://us-central1-docker.pkg.dev/wallaroo-dev-253816/uat/charts/edge-replacement-demo-pk \\\\\\n    --namespace $HELM_INSTALL_NAMESPACE \\\\\\n    --version 0.0.1-3dde7889-9d1b-4e72-8b8b-7cf882ee9b3a \\\\\\n    --set ociRegistry.username=$OCI_USERNAME \\\\\\n    --set ociRegistry.password=$OCI_PASSWORD</pre></td></tr>', 'docker_run': '<tr><td>\\n<pre style=\"text-align: left\">docker run \\\\\\n    -p $EDGE_PORT:8080 \\\\\\n    -e OCI_USERNAME=$OCI_USERNAME \\\\\\n    -e OCI_PASSWORD=$OCI_PASSWORD \\\\\\n    -e CONFIG_CPUS=4 --cpus=4.0 --memory=3g \\\\\\n    us-central1-docker.pkg.dev/wallaroo-dev-253816/uat/engines/proxy/wallaroo/ghcr.io/wallaroolabs/fitzroy-mini:v2025.1.0-main-5922</pre></td></tr>', 'additional_envs': '', 'edge_bundles': ''})"
      ]
     },
     "execution_count": 19,
     "metadata": {},
     "output_type": "execute_result"
    }
   ],
   "source": [
    "pipeline.publishes()[1].list_edges()[0]"
   ]
  },
  {
   "cell_type": "code",
   "execution_count": 21,
   "id": "1b2721c1-2c39-4d6a-8fbd-ae67bf8c6586",
   "metadata": {},
   "outputs": [
    {
     "data": {
      "text/html": [
       "<table><tr><th>ID</th><th>Name</th><th>Publish ID</th><th>Created At</th><th>Tags</th><th>CPUs</th><th>Memory</th><th>SPIFFE ID</th></tr><tr>\n",
       "                <td>f3410c94-e50a-4153-8ec6-81bb7b5cfe4e</td>\n",
       "                <td>edge-replacement-demo-pk-edge-1</td>\n",
       "                <td>3</td>\n",
       "                <td>2025-02-10T17:36:27.49131+00:00</td>\n",
       "                <td>[]</td>\n",
       "                <td>4.0</td>\n",
       "                <td>3Gi</td>\n",
       "                <td>wallaroo.ai/ns/deployments/edge/f3410c94-e50a-4153-8ec6-81bb7b5cfe4e</td>\n",
       "            </tr></table>"
      ],
      "text/plain": [
       "[Edge(cpus=4.0, id='f3410c94-e50a-4153-8ec6-81bb7b5cfe4e', memory='3Gi', name='edge-replacement-demo-pk-edge-1', tags=[], created_at='2025-02-10T17:36:27.49131+00:00', created_on_version='2025.1.0', should_run_publish=3, spiffe_id='wallaroo.ai/ns/deployments/edge/f3410c94-e50a-4153-8ec6-81bb7b5cfe4e', additional_properties={})]"
      ]
     },
     "metadata": {},
     "output_type": "display_data"
    }
   ],
   "source": [
    "display(pipeline.list_edges())"
   ]
  },
  {
   "cell_type": "code",
   "execution_count": 22,
   "id": "8787a2e8-83d0-42fa-ac64-f52640a4e789",
   "metadata": {},
   "outputs": [
    {
     "data": {
      "text/html": [
       "<table>\n",
       "        <tr><th>Key</th><th>Value</th></tr>\n",
       "        <tr><td>ID</td><td>f3410c94-e50a-4153-8ec6-81bb7b5cfe4e</td></tr>\n",
       "        <tr><td>Name</td><td>edge-replacement-demo-pk-edge-1</td></tr>\n",
       "        <tr><td>Tags</td><td>[]</td></tr>\n",
       "        <tr><td>CPUs</td><td>4.0</td></tr>\n",
       "        <tr><td>Memory</td><td>3Gi</td></tr>\n",
       "        <tr><td>SPIFFE ID</td><td>wallaroo.ai/ns/deployments/edge/f3410c94-e50a-4153-8ec6-81bb7b5cfe4e</td></tr>\n",
       "        <tr><td>Publish Id</td><td>3</td></tr>\n",
       "    </table>"
      ],
      "text/plain": [
       "Edge(cpus=4.0, id='f3410c94-e50a-4153-8ec6-81bb7b5cfe4e', memory='3Gi', name='edge-replacement-demo-pk-edge-1', tags=[], created_at='2025-02-10T17:36:27.49131+00:00', created_on_version='2025.1.0', should_run_publish=3, spiffe_id='wallaroo.ai/ns/deployments/edge/f3410c94-e50a-4153-8ec6-81bb7b5cfe4e', additional_properties={})"
      ]
     },
     "metadata": {},
     "output_type": "display_data"
    }
   ],
   "source": [
    "display(pipeline.list_edges()[0])"
   ]
  },
  {
   "cell_type": "code",
   "execution_count": null,
   "id": "d7f29081-032a-49c1-9d27-c27a1e6b2822",
   "metadata": {},
   "outputs": [],
   "source": []
  }
 ],
 "metadata": {
  "kernelspec": {
   "display_name": "Python 3 (ipykernel)",
   "language": "python",
   "name": "python3"
  },
  "language_info": {
   "codemirror_mode": {
    "name": "ipython",
    "version": 3
   },
   "file_extension": ".py",
   "mimetype": "text/x-python",
   "name": "python",
   "nbconvert_exporter": "python",
   "pygments_lexer": "ipython3",
   "version": "3.10.16"
  }
 },
 "nbformat": 4,
 "nbformat_minor": 5
}
