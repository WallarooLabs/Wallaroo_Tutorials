{
 "cells": [
  {
   "cell_type": "markdown",
   "id": "a9af817c-9405-4359-a990-597e9fc392c8",
   "metadata": {},
   "source": [
    "The following tutorial is available on the [Wallaroo Github Repository](https://github.com/WallarooLabs/Wallaroo_Tutorials/blob/wallaroo2025.1_tutorials/wallaroo-run-anywhere/inference-on-any-architecture/x86/edge-computer-vision-yolov8).\n",
    "\n",
    "## Computer Vision Yolov8n Edge Deployment in Wallaroo\n",
    "\n",
    "The [Yolov8](https://github.com/ultralytics/ultralytics) computer vision model is used for fast recognition of objects in images.  This tutorial demonstrates how to deploy a Yolov8n pre-trained model into a Wallaroo Ops server and perform inferences on it.\n",
    "\n",
    "Wallaroo Ops Center provides the ability to publish Wallaroo pipelines to an Open Continer Initative (OCI) compliant registry, then deploy those pipelines on edge devices as Docker container or Kubernetes pods.  See [Wallaroo SDK Essentials Guide: Pipeline Edge Publication](https://docs.wallaroo.ai/wallaroo-developer-guides/wallaroo-sdk-guides/wallaroo-sdk-essentials-guide/wallaroo-sdk-essentials-pipelines/wallaroo-sdk-essentials-pipeline-publication/) for full details.\n",
    "\n",
    "For this tutorial, the helper module `CVDemoUtils` and `WallarooUtils` are used to transform a sample image into a pandas DataFrame.  This DataFrame is then submitted to the Yolov8n model deployed in Wallaroo.\n",
    "\n",
    "This demonstration follows these steps:\n",
    "\n",
    "* In Wallaroo Ops:\n",
    "  * Upload the Yolo8 model to Wallaroo Ops\n",
    "  * Add the Yolo8 model as a Wallaroo pipeline step\n",
    "  * Deploy the Wallaroo pipeline and allocate cluster resources to the pipeline\n",
    "  * Perform sample inferences\n",
    "  * Undeploy and return the resources to the cluster.\n",
    "  * Publish the pipeline to the OCI registry configured in the Wallaroo Ops server.\n",
    "* In a remote aka edge device:\n",
    "  * Deploy the published pipeline as a Wallaroo Inference Server on an edge device through Docker.\n",
    "\n",
    "## Tutorial Notes\n",
    "\n",
    "To run this tutorial in the **Wallaroo JupyterHub Service**, import the `tensorflow-cpu` library by executing the following command in the terminal shell:\n",
    "\n",
    "```bash\n",
    "pip install tensorflow-cpu==2.13.1 --user\n",
    "```\n",
    "\n",
    "Then proceed with the tutorial.  This **only** applies to running this tutorial in Wallaroo's JupyterHub service, and does **not** affect model upload and packaging in Wallaroo.\n",
    "\n",
    "## References\n",
    "\n",
    "* [Wallaroo Workspaces](https://docs.wallaroo.ai/wallaroo-developer-guides/wallaroo-sdk-guides/wallaroo-sdk-essentials-guide/wallaroo-sdk-essentials-workspace/):  Workspaces are environments were users upload models, create pipelines and other artifacts.  The workspace should be considered the fundamental area where work is done.  Workspaces are shared with other users to give them access to the same models, pipelines, etc.\n",
    "* [Wallaroo Model Upload and Registration](https://docs.wallaroo.ai/wallaroo-developer-guides/wallaroo-sdk-guides/wallaroo-sdk-essentials-guide/wallaroo-sdk-model-uploads/): ML Models are uploaded to Wallaroo through the SDK or the MLOps API to a **workspace**.  ML models include default runtimes (ONNX, Python Step, and TensorFlow) that are run directly through the Wallaroo engine, and containerized runtimes (Hugging Face, PyTorch, etc) that are run through in a container through the Wallaroo engine.\n",
    "* [Wallaroo Pipelines](https://docs.wallaroo.ai/wallaroo-developer-guides/wallaroo-sdk-guides/wallaroo-sdk-essentials-guide/wallaroo-sdk-essentials-pipelines/): Pipelines are used to deploy models for inferencing.  Each model is a **pipeline step** in a pipelines, where the inputs of the previous step are fed into the next.  Pipeline steps can be ML models, Python scripts, or Custom Model (these contain necessary models and artifacts for running a model).\n",
    "* [Wallaroo SDK Essentials Guide: Pipeline Edge Publication](https://docs.wallaroo.ai/wallaroo-developer-guides/wallaroo-sdk-guides/wallaroo-sdk-essentials-guide/wallaroo-sdk-essentials-pipelines/wallaroo-sdk-essentials-pipeline-publication/): Details on publishing a Wallaroo pipeline to an OCI Registry and deploying it as a Wallaroo Server instance."
   ]
  },
  {
   "cell_type": "markdown",
   "id": "6b3f5194",
   "metadata": {},
   "source": [
    "## Data Scientist Steps\n",
    "\n",
    "The following details the steps a Data Scientist performs in uploading and verifying the model in a Wallaroo Ops server.\n",
    "\n",
    "### Load Libraries\n",
    "\n",
    "The first step is loading the required libraries including the [Wallaroo Python module](https://pypi.org/project/wallaroo/)."
   ]
  },
  {
   "cell_type": "code",
   "execution_count": 4,
   "id": "6c67d22b-7b4d-429f-a46f-2009dcdc8bff",
   "metadata": {},
   "outputs": [
    {
     "name": "stderr",
     "output_type": "stream",
     "text": [
      "2025-05-16 15:35:01.224651: I tensorflow/core/platform/cpu_feature_guard.cc:182] This TensorFlow binary is optimized to use available CPU instructions in performance-critical operations.\n",
      "To enable the following instructions: SSE3 SSE4.1 SSE4.2 AVX AVX2 FMA, in other operations, rebuild TensorFlow with the appropriate compiler flags.\n",
      "2025-05-16 15:35:04.070491: W tensorflow/compiler/tf2tensorrt/utils/py_utils.cc:38] TF-TRT Warning: Could not find TensorRT\n"
     ]
    }
   ],
   "source": [
    "# Import Wallaroo Python SDK\n",
    "import wallaroo\n",
    "from wallaroo.object import EntityNotFoundError\n",
    "from wallaroo.framework import Framework\n",
    "from CVDemoUtils import CVDemo\n",
    "from WallarooUtils import Util\n",
    "cvDemo = CVDemo()\n",
    "util = Util()\n",
    "\n",
    "# used to display DataFrame information without truncating\n",
    "from IPython.display import display\n",
    "import pandas as pd\n",
    "pd.set_option('display.max_colwidth', None)\n",
    "pd.set_option('display.max_columns', None)\n"
   ]
  },
  {
   "cell_type": "markdown",
   "id": "e5dc575c",
   "metadata": {},
   "source": [
    "### Connect to the Wallaroo Instance through the User Interface\n",
    "\n",
    "The next step is to connect to Wallaroo through the Wallaroo client.  The Python library is included in the Wallaroo install and available through the Jupyter Hub interface provided with your Wallaroo environment.\n",
    "\n",
    "This is accomplished using the `wallaroo.Client()` command, which provides a URL to grant the SDK permission to your specific Wallaroo environment.  When displayed, enter the URL into a browser and confirm permissions.  Store the connection into a variable that can be referenced later.\n",
    "\n",
    "If logging into the Wallaroo instance through the internal JupyterHub service, use `wl = wallaroo.Client()`.  For more information on Wallaroo Client settings, see the [Client Connection guide](https://docs.wallaroo.ai/wallaroo-developer-guides/wallaroo-sdk-guides/wallaroo-sdk-essentials-guide/wallaroo-sdk-essentials-client/)."
   ]
  },
  {
   "cell_type": "code",
   "execution_count": 5,
   "id": "8e953882",
   "metadata": {},
   "outputs": [],
   "source": [
    "wl = wallaroo.Client()"
   ]
  },
  {
   "cell_type": "markdown",
   "id": "792828a3",
   "metadata": {},
   "source": [
    "### Create a New Workspace\n",
    "\n",
    "We'll use the SDK below to create our workspace , assign as our **current workspace**, then display all of the workspaces we have at the moment.  We'll also set up variables for our models and pipelines down the road, so we have one spot to change names to whatever fits your organization's standards best.\n",
    "\n",
    "To allow this tutorial to be run by multiple users in the same Wallaroo instance, a random 4 character prefix will be added to the workspace, pipeline, and model.  Feel free to set `suffix=''` if this is not required."
   ]
  },
  {
   "cell_type": "code",
   "execution_count": 6,
   "id": "b46821db-6e9d-4fed-91eb-9f082862aedf",
   "metadata": {},
   "outputs": [],
   "source": [
    "model_name = 'yolov8n'\n",
    "model_filename = './models/yolov8n.onnx'\n",
    "pipeline_name = 'yolo8demonstration'\n",
    "workspace_name = f'yolo8-edge-demonstration'\n"
   ]
  },
  {
   "cell_type": "code",
   "execution_count": 7,
   "id": "eec366f0",
   "metadata": {},
   "outputs": [
    {
     "data": {
      "text/plain": [
       "{'name': 'yolo8-edge-demonstration', 'id': 1668, 'archived': False, 'created_by': '7d603858-88e0-472e-8f71-e41094afd7ec', 'created_at': '2025-05-16T15:35:07.27544+00:00', 'models': [], 'pipelines': []}"
      ]
     },
     "execution_count": 7,
     "metadata": {},
     "output_type": "execute_result"
    }
   ],
   "source": [
    "workspace = wl.get_workspace(name=workspace_name, create_if_not_exist=True)\n",
    "wl.set_current_workspace(workspace)"
   ]
  },
  {
   "cell_type": "markdown",
   "id": "52ac1fe8",
   "metadata": {},
   "source": [
    "### Upload the Model\n",
    "\n",
    "When a model is uploaded to a Wallaroo cluster, it is optimized and packaged to make it ready to run as part of a pipeline. In many times, the Wallaroo Server can natively run a model without any Python overhead. In other cases, such as a Python script, a custom Python environment will be automatically generated. This is comparable to the process of \"containerizing\" a model by adding a small HTTP server and other wrapping around it.\n",
    "\n",
    "Our pretrained model is in ONNX format, which is specified in the `framework` parameter.  For this model, the tensor fields are set to `images` to match the input parameters, and the batch configuration is set to `single` - only one record will be submitted at a time."
   ]
  },
  {
   "cell_type": "code",
   "execution_count": 8,
   "id": "e979eaa1-4391-4fce-b359-a6540d479524",
   "metadata": {},
   "outputs": [],
   "source": [
    "# Upload Retrained Yolo8 Model \n",
    "yolov8_model = (wl.upload_model(model_name, \n",
    "                               model_filename, \n",
    "                               framework=Framework.ONNX)\n",
    "                               .configure(tensor_fields=['images'],\n",
    "                                          batch_config=\"single\"\n",
    "                                          )\n",
    "                )"
   ]
  },
  {
   "cell_type": "markdown",
   "id": "2d643623",
   "metadata": {},
   "source": [
    "### Pipeline Deployment Configuration\n",
    "\n",
    "For our pipeline we set the deployment configuration to only use 1 cpu and 1 GiB of RAM."
   ]
  },
  {
   "cell_type": "code",
   "execution_count": 9,
   "id": "89746b0d-80d9-418d-a127-a7a57aa3ca0a",
   "metadata": {},
   "outputs": [],
   "source": [
    "deployment_config = wallaroo.DeploymentConfigBuilder() \\\n",
    "                    .replica_count(1) \\\n",
    "                    .cpus(1) \\\n",
    "                    .memory(\"1Gi\") \\\n",
    "                    .build()"
   ]
  },
  {
   "cell_type": "markdown",
   "id": "1ac222ea",
   "metadata": {},
   "source": [
    "### Build and Deploy the Pipeline\n",
    "\n",
    "Now we build our pipeline and set our Yolo8 model as a pipeline step, then deploy the pipeline using the deployment configuration above."
   ]
  },
  {
   "cell_type": "code",
   "execution_count": 10,
   "id": "161e46c8-5162-4ddb-9b93-c0ddaab908e4",
   "metadata": {},
   "outputs": [],
   "source": [
    "pipeline = wl.build_pipeline(pipeline_name) \\\n",
    "            .add_model_step(yolov8_model)        "
   ]
  },
  {
   "cell_type": "code",
   "execution_count": 11,
   "id": "3ed45709-945e-4e27-ad31-65a355d14fb0",
   "metadata": {},
   "outputs": [
    {
     "name": "stdout",
     "output_type": "stream",
     "text": [
      "Waiting for deployment - this will take up to 45s ............ ok\n"
     ]
    },
    {
     "data": {
      "text/html": [
       "<table><tr><th>name</th> <td>yolo8demonstration</td></tr><tr><th>created</th> <td>2025-05-16 15:35:09.971363+00:00</td></tr><tr><th>last_updated</th> <td>2025-05-16 15:35:10.406575+00:00</td></tr><tr><th>deployed</th> <td>True</td></tr><tr><th>workspace_id</th> <td>1668</td></tr><tr><th>workspace_name</th> <td>yolo8-edge-demonstration</td></tr><tr><th>arch</th> <td>x86</td></tr><tr><th>accel</th> <td>none</td></tr><tr><th>tags</th> <td></td></tr><tr><th>versions</th> <td>e2dcb8a0-389e-4f85-8363-8636fee4dc37, a02cc27b-2e69-41df-a320-fbc49783e7af</td></tr><tr><th>steps</th> <td>yolov8n</td></tr><tr><th>published</th> <td>False</td></tr></table>"
      ],
      "text/plain": [
       "{'name': 'yolo8demonstration', 'create_time': datetime.datetime(2025, 5, 16, 15, 35, 9, 971363, tzinfo=tzutc()), 'definition': \"[{'ModelInference': {'models': [{'name': 'yolov8n', 'version': 'c3da2595-b3a5-4c0d-bb18-e9ba315c9a52', 'sha': '3ed5cd199e0e6e419bd3d474cf74f2e378aacbf586e40f24d1f8c89c2c476a08'}]}}]\"}"
      ]
     },
     "execution_count": 11,
     "metadata": {},
     "output_type": "execute_result"
    }
   ],
   "source": [
    "pipeline.deploy(deployment_config=deployment_config)"
   ]
  },
  {
   "cell_type": "markdown",
   "id": "5fa33ef4",
   "metadata": {},
   "source": [
    "### Convert Image to DataFrame\n",
    "\n",
    "The sample image `dogbike.png` was converted to a DataFrame using the `cvDemo` helper modules.  The converted DataFrame is stored as `./data/dogbike.df.json` to save time.\n",
    "\n",
    "The code sample below demonstrates how to use this module to convert the sample image to a DataFrame.\n",
    "\n",
    "```python\n",
    "# convert the image to a tensor\n",
    "\n",
    "width, height = 640, 640\n",
    "tensor1, resizedImage1 = cvDemo.loadImageAndResize('dogbike.png', width, height)\n",
    "tensor1.flatten()\n",
    "\n",
    "# add the tensor to a DataFrame and save the DataFrame in pandas record format\n",
    "df = util.convert_data(tensor1,'images')\n",
    "df.to_json(\"data.json\", orient = 'records')\n",
    "```"
   ]
  },
  {
   "cell_type": "markdown",
   "id": "ba758535",
   "metadata": {},
   "source": [
    "### Inference Request\n",
    "\n",
    "We submit the DataFrame to the pipeline using `wallaroo.pipeline.infer`, and store the results in the variable `inf1`.  A copy of the dataframe is stored in the file `./data/dogbike.df.json`."
   ]
  },
  {
   "cell_type": "code",
   "execution_count": 12,
   "id": "eeeda81a-5962-459f-ae38-02d19bea6ccc",
   "metadata": {},
   "outputs": [],
   "source": [
    "width, height = 640, 480\n",
    "tensor1, resizedImage1 = cvDemo.loadImageAndResize('./data/dogbike.png', width, height)\n",
    "\n",
    "inf1 = pipeline.infer_from_file('./data/dogbike.df.json')"
   ]
  },
  {
   "cell_type": "markdown",
   "id": "271db369",
   "metadata": {},
   "source": [
    "### Inference Through Pipeline API\n",
    "\n",
    "Another method of performing an inference using the pipeline's deployment url.\n",
    "\n",
    "Performing an inference through an API requires the following:\n",
    "\n",
    "* The authentication token to authorize the connection to the pipeline.\n",
    "* The pipeline's inference URL.\n",
    "* Inference data to sent to the pipeline - in JSON, DataFrame records format, or Apache Arrow.\n",
    "\n",
    "Full details are available through the [Wallaroo API Connection Guide](https://docs.wallaroo.ai/wallaroo-developer-guides/wallaroo-api-guide/wallaroo-mlops-connection-guide/) on how retrieve an authorization token and perform inferences through the pipeline's API.\n",
    "\n",
    "For this demonstration we'll submit the pandas record, request a pandas record as the return, and set the authorization header.  The results will be stored in the file `curl_response.df`."
   ]
  },
  {
   "cell_type": "code",
   "execution_count": 15,
   "id": "f1b12e43-82de-4a08-bcb3-1eeffeed36c8",
   "metadata": {},
   "outputs": [],
   "source": [
    "deploy_url = pipeline._deployment._url()\n",
    "\n",
    "headers = wl.auth.auth_header()\n",
    "\n",
    "headers['Content-Type']='application/json; format=pandas-records'\n",
    "headers['Accept']='application/json; format=pandas-records'"
   ]
  },
  {
   "cell_type": "code",
   "execution_count": 16,
   "id": "81470d4d",
   "metadata": {},
   "outputs": [
    {
     "name": "stdout",
     "output_type": "stream",
     "text": [
      "  % Total    % Received % Xferd  Average Speed   Time    Time     Time  Current\n",
      "                                 Dload  Upload   Total   Spent    Left  Speed\n",
      "100 38.0M  100 22.9M  100 15.0M  35.2M  23.2M --:--:-- --:--:-- --:--:-- 58.5M\n"
     ]
    }
   ],
   "source": [
    "!curl -X POST {deploy_url} \\\n",
    "    -H \"Authorization:{headers['Authorization']}\" \\\n",
    "    -H \"Content-Type:application/json; format=pandas-records\" \\\n",
    "    -H \"Accept:application/json; format=pandas-records\" \\\n",
    "    --data @./data/dogbike.df.json > curl_response.df"
   ]
  },
  {
   "cell_type": "code",
   "execution_count": 13,
   "id": "e3996224-a76e-4be6-98cd-1ace05e5d2a0",
   "metadata": {},
   "outputs": [
    {
     "data": {
      "text/html": [
       "<table><tr><th>name</th> <td>yolo8demonstration</td></tr><tr><th>created</th> <td>2023-10-11 15:06:07.064939+00:00</td></tr><tr><th>last_updated</th> <td>2023-10-11 18:21:47.449547+00:00</td></tr><tr><th>deployed</th> <td>False</td></tr><tr><th>tags</th> <td></td></tr><tr><th>versions</th> <td>40c2402a-bb03-4cf4-b4be-dd009fc28a97, 283d1262-f1a8-49f3-b350-f83754272fac, 995df27c-33bb-48eb-9a6c-4eed1ca90a2d, af4af589-1805-4404-91f8-194308c166a0, e8e7f7bb-6502-487a-8afe-2bdc2b7566b1, 01e0ac28-5040-4ee5-90cf-069abb46d06b</td></tr><tr><th>steps</th> <td>yolov8n</td></tr><tr><th>published</th> <td>True</td></tr></table>"
      ],
      "text/plain": [
       "{'name': 'yolo8demonstration', 'create_time': datetime.datetime(2023, 10, 11, 15, 6, 7, 64939, tzinfo=tzutc()), 'definition': \"[{'ModelInference': {'models': [{'name': 'yolov8n', 'version': '7af40d06-d18f-4b3f-9dd3-0a15248f01c8', 'sha': '3ed5cd199e0e6e419bd3d474cf74f2e378aacbf586e40f24d1f8c89c2c476a08'}]}}]\"}"
      ]
     },
     "execution_count": 13,
     "metadata": {},
     "output_type": "execute_result"
    }
   ],
   "source": [
    "pipeline.undeploy()"
   ]
  },
  {
   "cell_type": "markdown",
   "id": "a95ca975",
   "metadata": {},
   "source": [
    "### Publish the Pipeline for Edge Deployment\n",
    "\n",
    "It worked! For a demo, we'll take working once as \"tested\". So now that we've tested our pipeline, we are ready to publish it for edge deployment.\n",
    "\n",
    "Publishing it means assembling all of the configuration files and model assets and pushing them to an Open Container Initiative (OCI) repository set in the Wallaroo instance as the Edge Registry service.  DevOps engineers then retrieve that image and deploy it through Docker, Kubernetes, or similar deployments.\n",
    "\n",
    "See [Edge Deployment Registry Guide](https://docs.wallaroo.ai/wallaroo-platform-operations/wallaroo-platform-operations-configure/wallaroo-edge-deployment/) for details on adding an OCI Registry Service to Wallaroo as the Edge Deployment Registry.\n",
    "\n",
    "This is done through the SDK command `wallaroo.pipeline.publish(deployment_config)`.\n",
    "\n",
    "### Publish Example\n",
    "\n",
    "We will now publish the pipeline to our Edge Deployment Registry with the `pipeline.publish(deployment_config)` command.  `deployment_config` is an optional field that specifies the pipeline deployment.  This can be overridden by the DevOps engineer during deployment."
   ]
  },
  {
   "cell_type": "code",
   "execution_count": 18,
   "id": "e5da8795",
   "metadata": {},
   "outputs": [
    {
     "name": "stdout",
     "output_type": "stream",
     "text": [
      "Waiting for pipeline publish... It may take up to 600 sec.\n",
      "... Published.blishing.\n"
     ]
    },
    {
     "data": {
      "text/html": [
       "\n",
       "          <table>\n",
       "              <tr><td>ID</td><td>50</td></tr>\n",
       "              <tr><td>Pipeline Name</td><td>yolo8demonstration</td></tr>\n",
       "              <tr><td>Pipeline Version</td><td>bd733642-9948-4619-a90e-18dc5720e6a4</td></tr>\n",
       "              <tr><td>Status</td><td>Published</td></tr>\n",
       "              <tr><td>Workspace Id</td><td>1668</td></tr>\n",
       "              <tr><td>Workspace Name</td><td>yolo8-edge-demonstration</td></tr>\n",
       "              <tr><td>Edges</td><td></td></tr>\n",
       "              <tr><td>Engine URL</td><td><a href='https://us-central1-docker.pkg.dev/wallaroo-dev-253816/uat/engines/proxy/wallaroo/ghcr.io/wallaroolabs/fitzroy-mini:v2025.1.0-main-6139'>us-central1-docker.pkg.dev/wallaroo-dev-253816/uat/engines/proxy/wallaroo/ghcr.io/wallaroolabs/fitzroy-mini:v2025.1.0-main-6139</a></td></tr>\n",
       "              <tr><td>Pipeline URL</td><td><a href='https://us-central1-docker.pkg.dev/wallaroo-dev-253816/uat/pipelines/yolo8demonstration:bd733642-9948-4619-a90e-18dc5720e6a4'>us-central1-docker.pkg.dev/wallaroo-dev-253816/uat/pipelines/yolo8demonstration:bd733642-9948-4619-a90e-18dc5720e6a4</a></td></tr>\n",
       "              <tr><td>Helm Chart URL</td><td>oci://<a href='https://us-central1-docker.pkg.dev/wallaroo-dev-253816/uat/charts/yolo8demonstration'>us-central1-docker.pkg.dev/wallaroo-dev-253816/uat/charts/yolo8demonstration</a></td></tr>\n",
       "              <tr><td>Helm Chart Reference</td><td>us-central1-docker.pkg.dev/wallaroo-dev-253816/uat/charts@sha256:dc2dba98e9d328ae120f95aabe76c3579866c4d49291a1e7d0a6c93e58001df1</td></tr>\n",
       "              <tr><td>Helm Chart Version</td><td>0.0.1-bd733642-9948-4619-a90e-18dc5720e6a4</td></tr>\n",
       "              <tr><td>Engine Config</td><td>{'engine': {'resources': {'limits': {'cpu': 1.0, 'memory': '1Gi'}, 'requests': {'cpu': 1.0, 'memory': '1Gi'}, 'accel': 'none', 'arch': 'x86', 'gpu': False}}, 'engineAux': {'autoscale': {'type': 'none', 'cpu_utilization': 50.0}, 'images': {}}}</td></tr>\n",
       "              <tr><td>User Images</td><td>[]</td></tr>\n",
       "              <tr><td>Created By</td><td>john.hummel@wallaroo.ai</td></tr>\n",
       "              <tr><td>Created At</td><td>2025-05-16 15:40:18.267606+00:00</td></tr>\n",
       "              <tr><td>Updated At</td><td>2025-05-16 15:40:18.267606+00:00</td></tr>\n",
       "              <tr><td>Replaces</td><td></td></tr>\n",
       "              <tr>\n",
       "                  <td>Docker Run Command</td>\n",
       "                  <td>\n",
       "                      <table><tr><td>\n",
       "<pre style=\"text-align: left\">docker run \\\n",
       "    -p $EDGE_PORT:8080 \\\n",
       "    -e OCI_USERNAME=$OCI_USERNAME \\\n",
       "    -e OCI_PASSWORD=$OCI_PASSWORD \\\n",
       "    -e PIPELINE_URL=us-central1-docker.pkg.dev/wallaroo-dev-253816/uat/pipelines/yolo8demonstration:bd733642-9948-4619-a90e-18dc5720e6a4 \\\n",
       "    -e CONFIG_CPUS=1.0 --cpus=1.0 --memory=1g \\\n",
       "    us-central1-docker.pkg.dev/wallaroo-dev-253816/uat/engines/proxy/wallaroo/ghcr.io/wallaroolabs/fitzroy-mini:v2025.1.0-main-6139</pre></td></tr></table>\n",
       "                      <br />\n",
       "                      <i>\n",
       "                          Note: Please set the <code>EDGE_PORT</code>, <code>OCI_USERNAME</code>, and <code>OCI_PASSWORD</code> environment variables.\n",
       "                      </i>\n",
       "                  </td>\n",
       "              </tr>\n",
       "              <tr>\n",
       "                  <td>Helm Install Command</td>\n",
       "                  <td>\n",
       "                      <table><tr><td>\n",
       "<pre style=\"text-align: left\">helm install --atomic $HELM_INSTALL_NAME \\\n",
       "    oci://us-central1-docker.pkg.dev/wallaroo-dev-253816/uat/charts/yolo8demonstration \\\n",
       "    --namespace $HELM_INSTALL_NAMESPACE \\\n",
       "    --version 0.0.1-bd733642-9948-4619-a90e-18dc5720e6a4 \\\n",
       "    --set ociRegistry.username=$OCI_USERNAME \\\n",
       "    --set ociRegistry.password=$OCI_PASSWORD</pre></td></tr></table>\n",
       "                      <br />\n",
       "                      <i>\n",
       "                          Note: Please set the <code>HELM_INSTALL_NAME</code>, <code>HELM_INSTALL_NAMESPACE</code>,\n",
       "                          <code>OCI_USERNAME</code>, and <code>OCI_PASSWORD</code> environment variables.\n",
       "                      </i>\n",
       "                  </td>\n",
       "              </tr>\n",
       "              \n",
       "          </table>\n",
       "        "
      ],
      "text/plain": [
       "PipelinePublish(created_at=datetime.datetime(2025, 5, 16, 15, 40, 18, 267606, tzinfo=tzutc()), docker_run_variables={'PIPELINE_URL': 'us-central1-docker.pkg.dev/wallaroo-dev-253816/uat/pipelines/yolo8demonstration:bd733642-9948-4619-a90e-18dc5720e6a4'}, engine_config={'engine': {'resources': {'limits': {'cpu': 1.0, 'memory': '1Gi'}, 'requests': {'cpu': 1.0, 'memory': '1Gi'}, 'accel': 'none', 'arch': 'x86', 'gpu': False}}, 'engineAux': {'autoscale': {'type': 'none', 'cpu_utilization': 50.0}, 'images': {}}}, id=50, pipeline_name='yolo8demonstration', pipeline_version_id=1471, replaces=[], status='Published', updated_at=datetime.datetime(2025, 5, 16, 15, 40, 18, 267606, tzinfo=tzutc()), user_images=[], created_by='7d603858-88e0-472e-8f71-e41094afd7ec', created_on_version='2025.1.0', edge_bundles=<wallaroo.wallaroo_ml_ops_api_client.types.Unset object at 0x78a389beead0>, engine_url='us-central1-docker.pkg.dev/wallaroo-dev-253816/uat/engines/proxy/wallaroo/ghcr.io/wallaroolabs/fitzroy-mini:v2025.1.0-main-6139', error=None, helm={'reference': 'us-central1-docker.pkg.dev/wallaroo-dev-253816/uat/charts@sha256:dc2dba98e9d328ae120f95aabe76c3579866c4d49291a1e7d0a6c93e58001df1', 'values': {}, 'chart': 'us-central1-docker.pkg.dev/wallaroo-dev-253816/uat/charts/yolo8demonstration', 'version': '0.0.1-bd733642-9948-4619-a90e-18dc5720e6a4'}, pipeline_url='us-central1-docker.pkg.dev/wallaroo-dev-253816/uat/pipelines/yolo8demonstration:bd733642-9948-4619-a90e-18dc5720e6a4', pipeline_version_name='bd733642-9948-4619-a90e-18dc5720e6a4', workspace_id=1668, workspace_name='yolo8-edge-demonstration', additional_properties={})"
      ]
     },
     "execution_count": 18,
     "metadata": {},
     "output_type": "execute_result"
    }
   ],
   "source": [
    "pub = pipeline.publish(deployment_config)\n",
    "pub"
   ]
  },
  {
   "cell_type": "markdown",
   "id": "abed2630",
   "metadata": {},
   "source": [
    "### List Published Pipeline\n",
    "\n",
    "The method `wallaroo.client.list_pipelines()` shows a list of all pipelines in the Wallaroo instance, and includes the `published` field that indicates whether the pipeline was published to the registry (`True`), or has not yet been published (`False`)."
   ]
  },
  {
   "cell_type": "code",
   "execution_count": 19,
   "id": "7a3319e2",
   "metadata": {},
   "outputs": [
    {
     "data": {
      "text/html": [
       "<table><tr><th>name</th><th>created</th><th>last_updated</th><th>deployed</th><th>workspace_id</th><th>workspace_name</th><th>arch</th><th>accel</th><th>tags</th><th>versions</th><th>steps</th><th>published</th></tr><tr><td>yolo8demonstration</td><td>2025-16-May 15:35:09</td><td>2025-16-May 15:40:18</td><td>True</td><td>1668</td><td>yolo8-edge-demonstration</td><td>x86</td><td>none</td><td></td><td>bd733642-9948-4619-a90e-18dc5720e6a4, e2dcb8a0-389e-4f85-8363-8636fee4dc37, a02cc27b-2e69-41df-a320-fbc49783e7af</td><td>yolov8n</td><td>True</td></tr></table>"
      ],
      "text/plain": [
       "[{'name': 'yolo8demonstration', 'create_time': datetime.datetime(2025, 5, 16, 15, 35, 9, 971363, tzinfo=tzutc()), 'definition': '[]'}]"
      ]
     },
     "execution_count": 19,
     "metadata": {},
     "output_type": "execute_result"
    }
   ],
   "source": [
    "wl.list_pipelines(workspace_name=workspace_name)"
   ]
  },
  {
   "cell_type": "markdown",
   "id": "177d9835",
   "metadata": {},
   "source": [
    "### List Publishes from a Pipeline\n",
    "\n",
    "All publishes created from a pipeline are displayed with the `wallaroo.pipeline.publishes` method.  The `pipeline_version_id` is used to know what version of the pipeline was used in that specific publish.  This allows for pipelines to be updated over time, and newer versions to be sent and tracked to the Edge Deployment Registry service.\n",
    "\n",
    "#### List Publishes Parameters\n",
    "\n",
    "N/A\n",
    "\n",
    "#### List Publishes Returns\n",
    "\n",
    "A List of the following fields:\n",
    "\n",
    "| Field | Type | Description |\n",
    "|---|---|---|\n",
    "| id | integer | Numerical Wallaroo id of the published pipeline. |\n",
    "| pipeline_version_id | integer | Numerical Wallaroo id of the pipeline version published. |\n",
    "| engine_url | string | The URL of the published pipeline engine in the edge registry. |\n",
    "| pipeline_url | string | The URL of the published pipeline in the edge registry. |\n",
    "| created_by | string | The email address of the user that published the pipeline.\n",
    "| Created At | DateTime | When the published pipeline was created. |\n",
    "| Updated At | DateTime | When the published pipeline was updated. |"
   ]
  },
  {
   "cell_type": "code",
   "execution_count": 20,
   "id": "2a5c0f53",
   "metadata": {},
   "outputs": [
    {
     "data": {
      "text/html": [
       "<table><tr><th>id</th><th>Pipeline Name</th><th>Pipeline Version</th><th>Workspace Id</th><th>Workspace Name</th><th>Edges</th><th>Engine URL</th><th>Pipeline URL</th><th>Created By</th><th>Created At</th><th>Updated At</th></tr><tr><td>50</td><td>yolo8demonstration</td><td>bd733642-9948-4619-a90e-18dc5720e6a4</td><td>1668</td><td>yolo8-edge-demonstration</td><td></td><td><a href='https://us-central1-docker.pkg.dev/wallaroo-dev-253816/uat/engines/proxy/wallaroo/ghcr.io/wallaroolabs/fitzroy-mini:v2025.1.0-main-6139'>us-central1-docker.pkg.dev/wallaroo-dev-253816/uat/engines/proxy/wallaroo/ghcr.io/wallaroolabs/fitzroy-mini:v2025.1.0-main-6139</a></td><td><a href='https://us-central1-docker.pkg.dev/wallaroo-dev-253816/uat/pipelines/yolo8demonstration:bd733642-9948-4619-a90e-18dc5720e6a4'>us-central1-docker.pkg.dev/wallaroo-dev-253816/uat/pipelines/yolo8demonstration:bd733642-9948-4619-a90e-18dc5720e6a4</a></td><td>john.hummel@wallaroo.ai</td><td>2025-16-May 15:40:18</td><td>2025-16-May 15:40:18</td></tr></table>"
      ],
      "text/plain": [
       "[PipelinePublish(created_at=datetime.datetime(2025, 5, 16, 15, 40, 18, 267606, tzinfo=tzutc()), docker_run_variables={}, engine_config={'engine': {'resources': {'limits': {'cpu': 1.0, 'memory': '1Gi'}, 'requests': {'cpu': 1.0, 'memory': '1Gi'}, 'arch': 'x86', 'accel': 'none', 'gpu': False}}, 'engineAux': {'images': {}, 'autoscale': {'type': 'none', 'cpu_utilization': 50.0}}}, id=50, pipeline_name='yolo8demonstration', pipeline_version_id=1471, replaces=[], status='Published', updated_at=datetime.datetime(2025, 5, 16, 15, 40, 18, 267606, tzinfo=tzutc()), user_images=[], created_by='7d603858-88e0-472e-8f71-e41094afd7ec', created_on_version='2025.1.0', edge_bundles=<wallaroo.wallaroo_ml_ops_api_client.types.Unset object at 0x78a389beead0>, engine_url='us-central1-docker.pkg.dev/wallaroo-dev-253816/uat/engines/proxy/wallaroo/ghcr.io/wallaroolabs/fitzroy-mini:v2025.1.0-main-6139', error=None, helm={'reference': 'us-central1-docker.pkg.dev/wallaroo-dev-253816/uat/charts@sha256:dc2dba98e9d328ae120f95aabe76c3579866c4d49291a1e7d0a6c93e58001df1', 'chart': 'us-central1-docker.pkg.dev/wallaroo-dev-253816/uat/charts/yolo8demonstration', 'version': '0.0.1-bd733642-9948-4619-a90e-18dc5720e6a4', 'values': {}}, pipeline_url='us-central1-docker.pkg.dev/wallaroo-dev-253816/uat/pipelines/yolo8demonstration:bd733642-9948-4619-a90e-18dc5720e6a4', pipeline_version_name='bd733642-9948-4619-a90e-18dc5720e6a4', workspace_id=1668, workspace_name='yolo8-edge-demonstration', additional_properties={})]"
      ]
     },
     "execution_count": 20,
     "metadata": {},
     "output_type": "execute_result"
    }
   ],
   "source": [
    "pipeline.publishes()"
   ]
  },
  {
   "cell_type": "markdown",
   "id": "987fbe62",
   "metadata": {},
   "source": [
    "## DevOps - Pipeline Edge Deployment\n",
    "\n",
    "Once a pipeline is deployed to the Edge Registry service, it can be deployed in environments such as Docker, Kubernetes, or similar container running services by a DevOps engineer.  For our example, we will use the `docker run` command output during the pipeline publish."
   ]
  },
  {
   "cell_type": "markdown",
   "id": "7f49b3f1",
   "metadata": {},
   "source": [
    "## Edge Deployed Pipeline API Endpoints\n",
    "\n",
    "Once deployed, we can check the pipelines and models available.  We'll use a `curl` command, but any HTTP based request will work the same way.\n",
    "\n",
    "The endpoint `/pipelines` returns:\n",
    "\n",
    "* **id** (*String*):  The name of the pipeline.\n",
    "* **status** (*String*):  The status as either `Running`, or `Error` if there are any issues.\n",
    "\n",
    "```bash\n",
    "curl localhost:8080/pipelines\n",
    "{\"pipelines\":[{\"id\":\"yolo8demonstration\",\"status\":\"Running\"}]}\n",
    "```\n",
    "\n",
    "The following example uses the host `localhost`.  Replace with your own host name of your Edge deployed pipeline."
   ]
  },
  {
   "cell_type": "code",
   "execution_count": 20,
   "id": "b9aac0fd",
   "metadata": {},
   "outputs": [
    {
     "name": "stdout",
     "output_type": "stream",
     "text": [
      "{\"pipelines\":[{\"id\":\"yolo8demonstration\",\"status\":\"Running\"}]}"
     ]
    }
   ],
   "source": [
    "!curl localhost:8080/pipelines"
   ]
  },
  {
   "cell_type": "markdown",
   "id": "9a236c21",
   "metadata": {},
   "source": [
    "The endpoint `/models` returns a List of models with the following fields:\n",
    "\n",
    "* **name** (*String*): The model name.\n",
    "* **sha** (*String*): The sha hash value of the ML model.\n",
    "* **status** (*String*):  The status of either Running or Error if there are any issues.\n",
    "* **version** (*String*):  The model version.  This matches the version designation used by Wallaroo to track model versions in UUID format.\n",
    "\n",
    "```bash\n",
    "{\"models\":[{\"name\":\"yolov8n\",\"sha\":\"3ed5cd199e0e6e419bd3d474cf74f2e378aacbf586e40f24d1f8c89c2c476a08\",\"status\":\"Running\",\"version\":\"7af40d06-d18f-4b3f-9dd3-0a15248f01c8\"}]}\n",
    "```\n",
    "\n",
    "The following example uses the host `localhost`.  Replace with your own host name of your Edge deployed pipeline."
   ]
  },
  {
   "cell_type": "code",
   "execution_count": 21,
   "id": "520f612d",
   "metadata": {},
   "outputs": [
    {
     "name": "stdout",
     "output_type": "stream",
     "text": [
      "{\"models\":[{\"name\":\"yolov8n\",\"sha\":\"3ed5cd199e0e6e419bd3d474cf74f2e378aacbf586e40f24d1f8c89c2c476a08\",\"status\":\"Running\",\"version\":\"7af40d06-d18f-4b3f-9dd3-0a15248f01c8\"}]}"
     ]
    }
   ],
   "source": [
    "!curl localhost:8080/models"
   ]
  },
  {
   "cell_type": "markdown",
   "id": "9315ef4d",
   "metadata": {},
   "source": [
    "### Edge Inference Endpoint\n",
    "\n",
    "The inference endpoint takes the following pattern:\n",
    "\n",
    "* `/pipelines/infer`\n",
    "\n",
    "Wallaroo inference endpoint URLs accept the following data inputs through the `Content-Type` header:\n",
    "\n",
    "* `Content-Type: application/vnd.apache.arrow.file`: For Apache Arrow tables.\n",
    "* `Content-Type: application/json; format=pandas-records`: For pandas DataFrame in record format.\n",
    "\n",
    "Once deployed, we can perform an inference through the deployment URL.\n",
    "\n",
    "The endpoint returns `Content-Type: application/json; format=pandas-records` by default with the following fields:\n",
    "\n",
    "* **check_failures** (*List[Integer]*): Whether any validation checks were triggered.  For more information, see [Wallaroo SDK Essentials Guide: Pipeline Management: Anomaly Testing](https://docs.wallaroo.ai/wallaroo-developer-guides/wallaroo-sdk-guides/wallaroo-sdk-essentials-guide/wallaroo-sdk-essentials-pipelines/wallaroo-sdk-essentials-pipeline/#anomaly-testing).\n",
    "* **elapsed** (*List[Integer]*): A list of time in nanoseconds for:\n",
    "  * [0] The time to serialize the input.\n",
    "  * [1...n] How long each step took.\n",
    "* **model_name** (*String*): The name of the model used.\n",
    "* **model_version** (*String*): The version of the model in UUID format.\n",
    "* **original_data**: The original input data.  Returns `null` if the input may be too long for a proper return.\n",
    "* **outputs** (*List*): The outputs of the inference result separated by data type, where each data type includes:\n",
    "  * **data**: The returned values.\n",
    "  * **dim** (*List[Integer]*): The dimension shape returned.\n",
    "  * **v** (*Integer*): The vector shape of the data.\n",
    "* **pipeline_name**  (*String*): The name of the pipeline.\n",
    "* **shadow_data**: Any shadow deployed data inferences in the same format as **outputs**.\n",
    "* **time** (*Integer*): The time since UNIX epoch.\n",
    "  \n",
    "Once deployed, we can perform an inference through the deployment URL.  We'll assume we're running the inference request through the localhost and submitting the local file `./data/dogbike.df.json`.  Note that our inference endpoint is `pipelines/yolo8demonstration` - the same as our pipeline name.\n",
    "\n",
    "The following example demonstrates sending an inference request to the edge deployed pipeline and storing the results in a pandas DataFrame in record format.  The results can then be exported to other processes to render the detected images or other use cases."
   ]
  },
  {
   "cell_type": "code",
   "execution_count": null,
   "id": "f4289b33",
   "metadata": {},
   "outputs": [
    {
     "name": "stdout",
     "output_type": "stream",
     "text": [
      "  % Total    % Received % Xferd  Average Speed   Time    Time     Time  Current\n",
      "                                 Dload  Upload   Total   Spent    Left  Speed\n",
      "  0     0    0     0    0     0      0      0 --:--:-- --:--:-- --:--:--     0"
     ]
    },
    {
     "name": "stdout",
     "output_type": "stream",
     "text": [
      "100 28.7M  100 13.6M  100 15.0M  14.2M  15.7M --:--:-- --:--:-- --:--:-- 30.3M\n"
     ]
    }
   ],
   "source": [
    "!curl -X POST localhost:8080/infer \\\n",
    "    -H \"Content-Type: application/json; format=pandas-records\" \\\n",
    "    --data @./data/dogbike.df.json > edge-results.df.json"
   ]
  }
 ],
 "metadata": {
  "kernelspec": {
   "display_name": "Python 3 (ipykernel)",
   "language": "python",
   "name": "python3"
  },
  "language_info": {
   "codemirror_mode": {
    "name": "ipython",
    "version": 3
   },
   "file_extension": ".py",
   "mimetype": "text/x-python",
   "name": "python",
   "nbconvert_exporter": "python",
   "pygments_lexer": "ipython3",
   "version": "3.10.16"
  }
 },
 "nbformat": 4,
 "nbformat_minor": 5
}
