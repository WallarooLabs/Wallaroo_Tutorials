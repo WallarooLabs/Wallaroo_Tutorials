{
 "cells": [
  {
   "cell_type": "markdown",
   "id": "8a6b7ac3",
   "metadata": {},
   "source": [
    "The following tutorial is available on the [Wallaroo Github Repository](https://github.com/WallarooLabs/Wallaroo_Tutorials/blob/wallaroo2025.1_tutorials/wallaroo-run-anywhere/inference-on-any-architecture/x86/edge-llm-summarization).\n",
    "\n",
    "## Summarization Text Edge Deployment Demonstration\n",
    "\n",
    "This notebook will walk through building a summarization text pipeline in Wallaroo, deploying it to the local cluster for testing, and then publishing it for edge deployment.\n",
    "\n",
    "This demonstration will focus on deployment to the edge.  The sample model is available at the following URL.  **This model should be downloaded and placed into the `./models` folder before beginning this demonstration.**\n",
    "\n",
    "[model-auto-conversion_hugging-face_complex-pipelines_hf-summarisation-bart-large-samsun.zip (1.4 GB)](https://storage.googleapis.com/wallaroo-public-data/llm-models/model-auto-conversion_hugging-face_complex-pipelines_hf-summarisation-bart-large-samsun.zip)\n",
    "\n",
    "\n",
    "This demonstration performs the following:\n",
    "\n",
    "1. As a Data Scientist in Wallaroo Ops:\n",
    "    1. Upload a computer vision model to Wallaroo, deploy it in a Wallaroo pipeline, then perform a sample inference.\n",
    "    2. Publish the pipeline to an Open Container Initiative (OCI) Registry service.  This is configured in the Wallaroo instance.  See [Edge Deployment Registry Guide](https://docs.wallaroo.ai/wallaroo-platform-operations/wallaroo-platform-operations-configure/wallaroo-edge-deployment/) for details on adding an OCI Registry Service to Wallaroo as the Edge Deployment Registry.  This demonstration uses a GitHub repository - see [Introduction to GitHub Packages](https://docs.github.com/en/packages/learn-github-packages/introduction-to-github-packages) for setting up your own package repository using GitHub, which can then be used with this tutorial.\n",
    "    3. View the pipeline publish details.\n",
    "2. As a DevOps Engineer in a remote aka edge device:\n",
    "    1. Deploy the published pipeline as a Wallaroo Inference Server.  This example will use Docker.\n",
    "    2. Perform a sample inference through the Wallaroo Inference Server with the same data used in the data scientist example.\n",
    "\n",
    "## References\n",
    "\n",
    "* [Wallaroo SDK Essentials Guide: Pipeline Edge Publication](https://docs.wallaroo.ai/wallaroo-developer-guides/wallaroo-sdk-guides/wallaroo-sdk-essentials-guide/wallaroo-sdk-essentials-pipelines/wallaroo-sdk-essentials-pipeline-publication/)"
   ]
  },
  {
   "cell_type": "markdown",
   "id": "1c33e888-28a8-48cc-b418-2d95ad206d98",
   "metadata": {},
   "source": [
    "## Data Scientist Pipeline Publish Steps\n",
    "\n",
    "### Load Libraries\n",
    "\n",
    "The first step is to import the libraries used in this notebook."
   ]
  },
  {
   "cell_type": "code",
   "execution_count": null,
   "id": "af8228fc-00ce-4770-a863-8985633605b3",
   "metadata": {},
   "outputs": [],
   "source": [
    "import wallaroo\n",
    "from wallaroo.object import EntityNotFoundError\n",
    "\n",
    "import pyarrow as pa\n",
    "import pandas as pd\n",
    "import time\n",
    "\n",
    "# used to display dataframe information without truncating\n",
    "from IPython.display import display\n",
    "pd.set_option('display.max_colwidth', None)\n",
    "pd.set_option('display.max_columns', None)"
   ]
  },
  {
   "cell_type": "markdown",
   "id": "dabff59c",
   "metadata": {},
   "source": [
    "### Connect to the Wallaroo Instance through the User Interface\n",
    "\n",
    "The next step is to connect to Wallaroo through the Wallaroo client.  The Python library is included in the Wallaroo install and available through the Jupyter Hub interface provided with your Wallaroo environment.\n",
    "\n",
    "This is accomplished using the `wallaroo.Client()` command, which provides a URL to grant the SDK permission to your specific Wallaroo environment.  When displayed, enter the URL into a browser and confirm permissions.  Store the connection into a variable that can be referenced later.\n",
    "\n",
    "If logging into the Wallaroo instance through the internal JupyterHub service, use `wl = wallaroo.Client()`.  For more information on Wallaroo Client settings, see the [Client Connection guide](https://docs.wallaroo.ai/wallaroo-developer-guides/wallaroo-sdk-guides/wallaroo-sdk-essentials-guide/wallaroo-sdk-essentials-client/)."
   ]
  },
  {
   "cell_type": "code",
   "execution_count": null,
   "id": "56ae7304",
   "metadata": {},
   "outputs": [],
   "source": [
    "wl = wallaroo.Client(api_endpoint=\"https://autoscale-uat-gcp.wallaroo.dev\",\n",
    "                     auth_type=\"sso\")"
   ]
  },
  {
   "cell_type": "markdown",
   "id": "8ba23ebf",
   "metadata": {},
   "source": [
    "### Create a New Workspace\n",
    "\n",
    "We'll use the SDK below to create our workspace , assign as our **current workspace**, then display all of the workspaces we have at the moment.  We'll also set up variables for our models and pipelines down the road, so we have one spot to change names to whatever fits your organization's standards best.\n",
    "\n",
    "To allow this tutorial to be run by multiple users in the same Wallaroo instance, a random 4 character prefix will be added to the workspace, pipeline, and model.  Feel free to set `suffix=''` if this is not required."
   ]
  },
  {
   "cell_type": "code",
   "execution_count": 14,
   "id": "5ef4d235",
   "metadata": {},
   "outputs": [],
   "source": [
    "workspace_name = f'edge-hf-summarization'\n",
    "pipeline_name = 'edge-hf-summarization'\n",
    "model_name = 'hf-summarization'\n",
    "model_file_name = './models/model-auto-conversion_hugging-face_complex-pipelines_hf-summarisation-bart-large-samsun.zip'"
   ]
  },
  {
   "cell_type": "code",
   "execution_count": 15,
   "id": "a3b7b495",
   "metadata": {},
   "outputs": [
    {
     "ename": "ConnectTimeout",
     "evalue": "timed out",
     "output_type": "error",
     "traceback": [
      "\u001b[0;31m---------------------------------------------------------------------------\u001b[0m",
      "\u001b[0;31mConnectTimeout\u001b[0m                            Traceback (most recent call last)",
      "File \u001b[0;32m~/.virtualenvs/wallaroosdk2025.1.2/lib/python3.10/site-packages/httpx/_transports/default.py:67\u001b[0m, in \u001b[0;36mmap_httpcore_exceptions\u001b[0;34m()\u001b[0m\n\u001b[1;32m     66\u001b[0m \u001b[38;5;28;01mtry\u001b[39;00m:\n\u001b[0;32m---> 67\u001b[0m     \u001b[38;5;28;01myield\u001b[39;00m\n\u001b[1;32m     68\u001b[0m \u001b[38;5;28;01mexcept\u001b[39;00m \u001b[38;5;167;01mException\u001b[39;00m \u001b[38;5;28;01mas\u001b[39;00m exc:\n",
      "File \u001b[0;32m~/.virtualenvs/wallaroosdk2025.1.2/lib/python3.10/site-packages/httpx/_transports/default.py:231\u001b[0m, in \u001b[0;36mHTTPTransport.handle_request\u001b[0;34m(self, request)\u001b[0m\n\u001b[1;32m    230\u001b[0m \u001b[38;5;28;01mwith\u001b[39;00m map_httpcore_exceptions():\n\u001b[0;32m--> 231\u001b[0m     resp \u001b[38;5;241m=\u001b[39m \u001b[38;5;28;43mself\u001b[39;49m\u001b[38;5;241;43m.\u001b[39;49m\u001b[43m_pool\u001b[49m\u001b[38;5;241;43m.\u001b[39;49m\u001b[43mhandle_request\u001b[49m\u001b[43m(\u001b[49m\u001b[43mreq\u001b[49m\u001b[43m)\u001b[49m\n\u001b[1;32m    233\u001b[0m \u001b[38;5;28;01massert\u001b[39;00m \u001b[38;5;28misinstance\u001b[39m(resp\u001b[38;5;241m.\u001b[39mstream, typing\u001b[38;5;241m.\u001b[39mIterable)\n",
      "File \u001b[0;32m~/.virtualenvs/wallaroosdk2025.1.2/lib/python3.10/site-packages/httpcore/_sync/connection_pool.py:256\u001b[0m, in \u001b[0;36mConnectionPool.handle_request\u001b[0;34m(self, request)\u001b[0m\n\u001b[1;32m    255\u001b[0m     \u001b[38;5;28mself\u001b[39m\u001b[38;5;241m.\u001b[39m_close_connections(closing)\n\u001b[0;32m--> 256\u001b[0m     \u001b[38;5;28;01mraise\u001b[39;00m exc \u001b[38;5;28;01mfrom\u001b[39;00m\u001b[38;5;250m \u001b[39m\u001b[38;5;28;01mNone\u001b[39;00m\n\u001b[1;32m    258\u001b[0m \u001b[38;5;66;03m# Return the response. Note that in this case we still have to manage\u001b[39;00m\n\u001b[1;32m    259\u001b[0m \u001b[38;5;66;03m# the point at which the response is closed.\u001b[39;00m\n",
      "File \u001b[0;32m~/.virtualenvs/wallaroosdk2025.1.2/lib/python3.10/site-packages/httpcore/_sync/connection_pool.py:236\u001b[0m, in \u001b[0;36mConnectionPool.handle_request\u001b[0;34m(self, request)\u001b[0m\n\u001b[1;32m    234\u001b[0m \u001b[38;5;28;01mtry\u001b[39;00m:\n\u001b[1;32m    235\u001b[0m     \u001b[38;5;66;03m# Send the request on the assigned connection.\u001b[39;00m\n\u001b[0;32m--> 236\u001b[0m     response \u001b[38;5;241m=\u001b[39m \u001b[43mconnection\u001b[49m\u001b[38;5;241;43m.\u001b[39;49m\u001b[43mhandle_request\u001b[49m\u001b[43m(\u001b[49m\n\u001b[1;32m    237\u001b[0m \u001b[43m        \u001b[49m\u001b[43mpool_request\u001b[49m\u001b[38;5;241;43m.\u001b[39;49m\u001b[43mrequest\u001b[49m\n\u001b[1;32m    238\u001b[0m \u001b[43m    \u001b[49m\u001b[43m)\u001b[49m\n\u001b[1;32m    239\u001b[0m \u001b[38;5;28;01mexcept\u001b[39;00m ConnectionNotAvailable:\n\u001b[1;32m    240\u001b[0m     \u001b[38;5;66;03m# In some cases a connection may initially be available to\u001b[39;00m\n\u001b[1;32m    241\u001b[0m     \u001b[38;5;66;03m# handle a request, but then become unavailable.\u001b[39;00m\n\u001b[1;32m    242\u001b[0m     \u001b[38;5;66;03m#\u001b[39;00m\n\u001b[1;32m    243\u001b[0m     \u001b[38;5;66;03m# In this case we clear the connection and try again.\u001b[39;00m\n",
      "File \u001b[0;32m~/.virtualenvs/wallaroosdk2025.1.2/lib/python3.10/site-packages/httpcore/_sync/connection.py:101\u001b[0m, in \u001b[0;36mHTTPConnection.handle_request\u001b[0;34m(self, request)\u001b[0m\n\u001b[1;32m    100\u001b[0m     \u001b[38;5;28mself\u001b[39m\u001b[38;5;241m.\u001b[39m_connect_failed \u001b[38;5;241m=\u001b[39m \u001b[38;5;28;01mTrue\u001b[39;00m\n\u001b[0;32m--> 101\u001b[0m     \u001b[38;5;28;01mraise\u001b[39;00m exc\n\u001b[1;32m    103\u001b[0m \u001b[38;5;28;01mreturn\u001b[39;00m \u001b[38;5;28mself\u001b[39m\u001b[38;5;241m.\u001b[39m_connection\u001b[38;5;241m.\u001b[39mhandle_request(request)\n",
      "File \u001b[0;32m~/.virtualenvs/wallaroosdk2025.1.2/lib/python3.10/site-packages/httpcore/_sync/connection.py:78\u001b[0m, in \u001b[0;36mHTTPConnection.handle_request\u001b[0;34m(self, request)\u001b[0m\n\u001b[1;32m     77\u001b[0m \u001b[38;5;28;01mif\u001b[39;00m \u001b[38;5;28mself\u001b[39m\u001b[38;5;241m.\u001b[39m_connection \u001b[38;5;129;01mis\u001b[39;00m \u001b[38;5;28;01mNone\u001b[39;00m:\n\u001b[0;32m---> 78\u001b[0m     stream \u001b[38;5;241m=\u001b[39m \u001b[38;5;28;43mself\u001b[39;49m\u001b[38;5;241;43m.\u001b[39;49m\u001b[43m_connect\u001b[49m\u001b[43m(\u001b[49m\u001b[43mrequest\u001b[49m\u001b[43m)\u001b[49m\n\u001b[1;32m     80\u001b[0m     ssl_object \u001b[38;5;241m=\u001b[39m stream\u001b[38;5;241m.\u001b[39mget_extra_info(\u001b[38;5;124m\"\u001b[39m\u001b[38;5;124mssl_object\u001b[39m\u001b[38;5;124m\"\u001b[39m)\n",
      "File \u001b[0;32m~/.virtualenvs/wallaroosdk2025.1.2/lib/python3.10/site-packages/httpcore/_sync/connection.py:124\u001b[0m, in \u001b[0;36mHTTPConnection._connect\u001b[0;34m(self, request)\u001b[0m\n\u001b[1;32m    123\u001b[0m \u001b[38;5;28;01mwith\u001b[39;00m Trace(\u001b[38;5;124m\"\u001b[39m\u001b[38;5;124mconnect_tcp\u001b[39m\u001b[38;5;124m\"\u001b[39m, logger, request, kwargs) \u001b[38;5;28;01mas\u001b[39;00m trace:\n\u001b[0;32m--> 124\u001b[0m     stream \u001b[38;5;241m=\u001b[39m \u001b[38;5;28;43mself\u001b[39;49m\u001b[38;5;241;43m.\u001b[39;49m\u001b[43m_network_backend\u001b[49m\u001b[38;5;241;43m.\u001b[39;49m\u001b[43mconnect_tcp\u001b[49m\u001b[43m(\u001b[49m\u001b[38;5;241;43m*\u001b[39;49m\u001b[38;5;241;43m*\u001b[39;49m\u001b[43mkwargs\u001b[49m\u001b[43m)\u001b[49m\n\u001b[1;32m    125\u001b[0m     trace\u001b[38;5;241m.\u001b[39mreturn_value \u001b[38;5;241m=\u001b[39m stream\n",
      "File \u001b[0;32m~/.virtualenvs/wallaroosdk2025.1.2/lib/python3.10/site-packages/httpcore/_backends/sync.py:207\u001b[0m, in \u001b[0;36mSyncBackend.connect_tcp\u001b[0;34m(self, host, port, timeout, local_address, socket_options)\u001b[0m\n\u001b[1;32m    202\u001b[0m exc_map: ExceptionMapping \u001b[38;5;241m=\u001b[39m {\n\u001b[1;32m    203\u001b[0m     socket\u001b[38;5;241m.\u001b[39mtimeout: ConnectTimeout,\n\u001b[1;32m    204\u001b[0m     \u001b[38;5;167;01mOSError\u001b[39;00m: ConnectError,\n\u001b[1;32m    205\u001b[0m }\n\u001b[0;32m--> 207\u001b[0m \u001b[38;5;28;01mwith\u001b[39;00m map_exceptions(exc_map):\n\u001b[1;32m    208\u001b[0m     sock \u001b[38;5;241m=\u001b[39m socket\u001b[38;5;241m.\u001b[39mcreate_connection(\n\u001b[1;32m    209\u001b[0m         address,\n\u001b[1;32m    210\u001b[0m         timeout,\n\u001b[1;32m    211\u001b[0m         source_address\u001b[38;5;241m=\u001b[39msource_address,\n\u001b[1;32m    212\u001b[0m     )\n",
      "File \u001b[0;32m/opt/homebrew/Cellar/python@3.10/3.10.18/Frameworks/Python.framework/Versions/3.10/lib/python3.10/contextlib.py:153\u001b[0m, in \u001b[0;36m_GeneratorContextManager.__exit__\u001b[0;34m(self, typ, value, traceback)\u001b[0m\n\u001b[1;32m    152\u001b[0m \u001b[38;5;28;01mtry\u001b[39;00m:\n\u001b[0;32m--> 153\u001b[0m     \u001b[38;5;28;43mself\u001b[39;49m\u001b[38;5;241;43m.\u001b[39;49m\u001b[43mgen\u001b[49m\u001b[38;5;241;43m.\u001b[39;49m\u001b[43mthrow\u001b[49m\u001b[43m(\u001b[49m\u001b[43mtyp\u001b[49m\u001b[43m,\u001b[49m\u001b[43m \u001b[49m\u001b[43mvalue\u001b[49m\u001b[43m,\u001b[49m\u001b[43m \u001b[49m\u001b[43mtraceback\u001b[49m\u001b[43m)\u001b[49m\n\u001b[1;32m    154\u001b[0m \u001b[38;5;28;01mexcept\u001b[39;00m \u001b[38;5;167;01mStopIteration\u001b[39;00m \u001b[38;5;28;01mas\u001b[39;00m exc:\n\u001b[1;32m    155\u001b[0m     \u001b[38;5;66;03m# Suppress StopIteration *unless* it's the same exception that\u001b[39;00m\n\u001b[1;32m    156\u001b[0m     \u001b[38;5;66;03m# was passed to throw().  This prevents a StopIteration\u001b[39;00m\n\u001b[1;32m    157\u001b[0m     \u001b[38;5;66;03m# raised inside the \"with\" statement from being suppressed.\u001b[39;00m\n",
      "File \u001b[0;32m~/.virtualenvs/wallaroosdk2025.1.2/lib/python3.10/site-packages/httpcore/_exceptions.py:14\u001b[0m, in \u001b[0;36mmap_exceptions\u001b[0;34m(map)\u001b[0m\n\u001b[1;32m     13\u001b[0m     \u001b[38;5;28;01mif\u001b[39;00m \u001b[38;5;28misinstance\u001b[39m(exc, from_exc):\n\u001b[0;32m---> 14\u001b[0m         \u001b[38;5;28;01mraise\u001b[39;00m to_exc(exc) \u001b[38;5;28;01mfrom\u001b[39;00m\u001b[38;5;250m \u001b[39m\u001b[38;5;21;01mexc\u001b[39;00m\n\u001b[1;32m     15\u001b[0m \u001b[38;5;28;01mraise\u001b[39;00m\n",
      "\u001b[0;31mConnectTimeout\u001b[0m: timed out",
      "\nThe above exception was the direct cause of the following exception:\n",
      "\u001b[0;31mConnectTimeout\u001b[0m                            Traceback (most recent call last)",
      "File \u001b[0;32m~/.virtualenvs/wallaroosdk2025.1.2/lib/python3.10/site-packages/IPython/core/formatters.py:770\u001b[0m, in \u001b[0;36mPlainTextFormatter.__call__\u001b[0;34m(self, obj)\u001b[0m\n\u001b[1;32m    763\u001b[0m stream \u001b[38;5;241m=\u001b[39m StringIO()\n\u001b[1;32m    764\u001b[0m printer \u001b[38;5;241m=\u001b[39m pretty\u001b[38;5;241m.\u001b[39mRepresentationPrinter(stream, \u001b[38;5;28mself\u001b[39m\u001b[38;5;241m.\u001b[39mverbose,\n\u001b[1;32m    765\u001b[0m     \u001b[38;5;28mself\u001b[39m\u001b[38;5;241m.\u001b[39mmax_width, \u001b[38;5;28mself\u001b[39m\u001b[38;5;241m.\u001b[39mnewline,\n\u001b[1;32m    766\u001b[0m     max_seq_length\u001b[38;5;241m=\u001b[39m\u001b[38;5;28mself\u001b[39m\u001b[38;5;241m.\u001b[39mmax_seq_length,\n\u001b[1;32m    767\u001b[0m     singleton_pprinters\u001b[38;5;241m=\u001b[39m\u001b[38;5;28mself\u001b[39m\u001b[38;5;241m.\u001b[39msingleton_printers,\n\u001b[1;32m    768\u001b[0m     type_pprinters\u001b[38;5;241m=\u001b[39m\u001b[38;5;28mself\u001b[39m\u001b[38;5;241m.\u001b[39mtype_printers,\n\u001b[1;32m    769\u001b[0m     deferred_pprinters\u001b[38;5;241m=\u001b[39m\u001b[38;5;28mself\u001b[39m\u001b[38;5;241m.\u001b[39mdeferred_printers)\n\u001b[0;32m--> 770\u001b[0m \u001b[43mprinter\u001b[49m\u001b[38;5;241;43m.\u001b[39;49m\u001b[43mpretty\u001b[49m\u001b[43m(\u001b[49m\u001b[43mobj\u001b[49m\u001b[43m)\u001b[49m\n\u001b[1;32m    771\u001b[0m printer\u001b[38;5;241m.\u001b[39mflush()\n\u001b[1;32m    772\u001b[0m \u001b[38;5;28;01mreturn\u001b[39;00m stream\u001b[38;5;241m.\u001b[39mgetvalue()\n",
      "File \u001b[0;32m~/.virtualenvs/wallaroosdk2025.1.2/lib/python3.10/site-packages/IPython/lib/pretty.py:419\u001b[0m, in \u001b[0;36mRepresentationPrinter.pretty\u001b[0;34m(self, obj)\u001b[0m\n\u001b[1;32m    408\u001b[0m                         \u001b[38;5;28;01mreturn\u001b[39;00m meth(obj, \u001b[38;5;28mself\u001b[39m, cycle)\n\u001b[1;32m    409\u001b[0m                 \u001b[38;5;28;01mif\u001b[39;00m (\n\u001b[1;32m    410\u001b[0m                     \u001b[38;5;28mcls\u001b[39m \u001b[38;5;129;01mis\u001b[39;00m \u001b[38;5;129;01mnot\u001b[39;00m \u001b[38;5;28mobject\u001b[39m\n\u001b[1;32m    411\u001b[0m                     \u001b[38;5;66;03m# check if cls defines __repr__\u001b[39;00m\n\u001b[0;32m   (...)\u001b[0m\n\u001b[1;32m    417\u001b[0m                     \u001b[38;5;129;01mand\u001b[39;00m \u001b[38;5;28mcallable\u001b[39m(_safe_getattr(\u001b[38;5;28mcls\u001b[39m, \u001b[38;5;124m\"\u001b[39m\u001b[38;5;124m__repr__\u001b[39m\u001b[38;5;124m\"\u001b[39m, \u001b[38;5;28;01mNone\u001b[39;00m))\n\u001b[1;32m    418\u001b[0m                 ):\n\u001b[0;32m--> 419\u001b[0m                     \u001b[38;5;28;01mreturn\u001b[39;00m \u001b[43m_repr_pprint\u001b[49m\u001b[43m(\u001b[49m\u001b[43mobj\u001b[49m\u001b[43m,\u001b[49m\u001b[43m \u001b[49m\u001b[38;5;28;43mself\u001b[39;49m\u001b[43m,\u001b[49m\u001b[43m \u001b[49m\u001b[43mcycle\u001b[49m\u001b[43m)\u001b[49m\n\u001b[1;32m    421\u001b[0m     \u001b[38;5;28;01mreturn\u001b[39;00m _default_pprint(obj, \u001b[38;5;28mself\u001b[39m, cycle)\n\u001b[1;32m    422\u001b[0m \u001b[38;5;28;01mfinally\u001b[39;00m:\n",
      "File \u001b[0;32m~/.virtualenvs/wallaroosdk2025.1.2/lib/python3.10/site-packages/IPython/lib/pretty.py:794\u001b[0m, in \u001b[0;36m_repr_pprint\u001b[0;34m(obj, p, cycle)\u001b[0m\n\u001b[1;32m    792\u001b[0m \u001b[38;5;250m\u001b[39m\u001b[38;5;124;03m\"\"\"A pprint that just redirects to the normal repr function.\"\"\"\u001b[39;00m\n\u001b[1;32m    793\u001b[0m \u001b[38;5;66;03m# Find newlines and replace them with p.break_()\u001b[39;00m\n\u001b[0;32m--> 794\u001b[0m output \u001b[38;5;241m=\u001b[39m \u001b[38;5;28;43mrepr\u001b[39;49m\u001b[43m(\u001b[49m\u001b[43mobj\u001b[49m\u001b[43m)\u001b[49m\n\u001b[1;32m    795\u001b[0m lines \u001b[38;5;241m=\u001b[39m output\u001b[38;5;241m.\u001b[39msplitlines()\n\u001b[1;32m    796\u001b[0m \u001b[38;5;28;01mwith\u001b[39;00m p\u001b[38;5;241m.\u001b[39mgroup():\n",
      "File \u001b[0;32m~/.virtualenvs/wallaroosdk2025.1.2/lib/python3.10/site-packages/wallaroo/workspace.py:49\u001b[0m, in \u001b[0;36mWorkspace.__repr__\u001b[0;34m(self)\u001b[0m\n\u001b[1;32m     48\u001b[0m \u001b[38;5;28;01mdef\u001b[39;00m\u001b[38;5;250m \u001b[39m\u001b[38;5;21m__repr__\u001b[39m(\u001b[38;5;28mself\u001b[39m) \u001b[38;5;241m-\u001b[39m\u001b[38;5;241m>\u001b[39m \u001b[38;5;28mstr\u001b[39m:\n\u001b[0;32m---> 49\u001b[0m     \u001b[38;5;28;01mreturn\u001b[39;00m \u001b[38;5;28;43mstr\u001b[39;49m\u001b[43m(\u001b[49m\u001b[38;5;28;43mself\u001b[39;49m\u001b[38;5;241;43m.\u001b[39;49m\u001b[43mto_json\u001b[49m\u001b[43m(\u001b[49m\u001b[43m)\u001b[49m\u001b[43m)\u001b[49m\n",
      "File \u001b[0;32m~/.virtualenvs/wallaroosdk2025.1.2/lib/python3.10/site-packages/wallaroo/pipeline.py:118\u001b[0m, in \u001b[0;36mPipeline.__repr__\u001b[0;34m(self)\u001b[0m\n\u001b[1;32m    115\u001b[0m \u001b[38;5;28;01mdef\u001b[39;00m\u001b[38;5;250m \u001b[39m\u001b[38;5;21m__repr__\u001b[39m(\u001b[38;5;28mself\u001b[39m) \u001b[38;5;241m-\u001b[39m\u001b[38;5;241m>\u001b[39m \u001b[38;5;28mstr\u001b[39m:\n\u001b[1;32m    116\u001b[0m     \u001b[38;5;28;01mreturn\u001b[39;00m \u001b[38;5;28mstr\u001b[39m(\n\u001b[1;32m    117\u001b[0m         {\n\u001b[0;32m--> 118\u001b[0m             \u001b[38;5;124m\"\u001b[39m\u001b[38;5;124mname\u001b[39m\u001b[38;5;124m\"\u001b[39m: \u001b[38;5;28;43mself\u001b[39;49m\u001b[38;5;241;43m.\u001b[39;49m\u001b[43mname\u001b[49m\u001b[43m(\u001b[49m\u001b[43m)\u001b[49m,\n\u001b[1;32m    119\u001b[0m             \u001b[38;5;124m\"\u001b[39m\u001b[38;5;124mcreate_time\u001b[39m\u001b[38;5;124m\"\u001b[39m: \u001b[38;5;28mself\u001b[39m\u001b[38;5;241m.\u001b[39mcreate_time(),\n\u001b[1;32m    120\u001b[0m             \u001b[38;5;124m\"\u001b[39m\u001b[38;5;124mdefinition\u001b[39m\u001b[38;5;124m\"\u001b[39m: \u001b[38;5;28mself\u001b[39m\u001b[38;5;241m.\u001b[39mdefinition(),\n\u001b[1;32m    121\u001b[0m         }\n\u001b[1;32m    122\u001b[0m     )\n",
      "File \u001b[0;32m~/.virtualenvs/wallaroosdk2025.1.2/lib/python3.10/site-packages/wallaroo/object.py:50\u001b[0m, in \u001b[0;36mrehydrate.<locals>.decorator.<locals>.wrapper\u001b[0;34m(*args, **kwargs)\u001b[0m\n\u001b[1;32m     43\u001b[0m \u001b[38;5;66;03m# Uncomment to debug while testing\u001b[39;00m\n\u001b[1;32m     44\u001b[0m \u001b[38;5;66;03m# print(\u001b[39;00m\n\u001b[1;32m     45\u001b[0m \u001b[38;5;66;03m#    \"rehydrate: {} -> {}\".format(\u001b[39;00m\n\u001b[1;32m     46\u001b[0m \u001b[38;5;66;03m#        attr, \"present\" if present else \"not present\"\u001b[39;00m\n\u001b[1;32m     47\u001b[0m \u001b[38;5;66;03m#    )\u001b[39;00m\n\u001b[1;32m     48\u001b[0m \u001b[38;5;66;03m# )\u001b[39;00m\n\u001b[1;32m     49\u001b[0m \u001b[38;5;28;01mif\u001b[39;00m \u001b[38;5;129;01mnot\u001b[39;00m present:\n\u001b[0;32m---> 50\u001b[0m     \u001b[43mobj\u001b[49m\u001b[38;5;241;43m.\u001b[39;49m\u001b[43m_rehydrate\u001b[49m\u001b[43m(\u001b[49m\u001b[43m)\u001b[49m\n\u001b[1;32m     51\u001b[0m result \u001b[38;5;241m=\u001b[39m fn(\u001b[38;5;241m*\u001b[39margs, \u001b[38;5;241m*\u001b[39m\u001b[38;5;241m*\u001b[39mkwargs)\n\u001b[1;32m     52\u001b[0m \u001b[38;5;28;01mreturn\u001b[39;00m result\n",
      "File \u001b[0;32m~/.virtualenvs/wallaroosdk2025.1.2/lib/python3.10/site-packages/wallaroo/object.py:212\u001b[0m, in \u001b[0;36mObject._rehydrate\u001b[0;34m(self)\u001b[0m\n\u001b[1;32m    202\u001b[0m \u001b[38;5;28;01mdef\u001b[39;00m\u001b[38;5;250m \u001b[39m\u001b[38;5;21m_rehydrate\u001b[39m(\u001b[38;5;28mself\u001b[39m):\n\u001b[1;32m    203\u001b[0m \u001b[38;5;250m    \u001b[39m\u001b[38;5;124;03m\"\"\"Fetches all data for this object and fills in all attributes.\u001b[39;00m\n\u001b[1;32m    204\u001b[0m \n\u001b[1;32m    205\u001b[0m \u001b[38;5;124;03m    Each object knows how to:\u001b[39;00m\n\u001b[0;32m   (...)\u001b[0m\n\u001b[1;32m    210\u001b[0m \u001b[38;5;124;03m    each object.\u001b[39;00m\n\u001b[1;32m    211\u001b[0m \u001b[38;5;124;03m    \"\"\"\u001b[39;00m\n\u001b[0;32m--> 212\u001b[0m     \u001b[38;5;28;43mself\u001b[39;49m\u001b[38;5;241;43m.\u001b[39;49m\u001b[43m_fill\u001b[49m\u001b[43m(\u001b[49m\u001b[38;5;28;43mself\u001b[39;49m\u001b[38;5;241;43m.\u001b[39;49m\u001b[43m_fetch_attributes\u001b[49m\u001b[43m(\u001b[49m\u001b[43m)\u001b[49m\u001b[43m)\u001b[49m\n",
      "File \u001b[0;32m~/.virtualenvs/wallaroosdk2025.1.2/lib/python3.10/site-packages/wallaroo/pipeline.py:226\u001b[0m, in \u001b[0;36mPipeline._fill\u001b[0;34m(self, data)\u001b[0m\n\u001b[1;32m    219\u001b[0m \u001b[38;5;28mself\u001b[39m\u001b[38;5;241m.\u001b[39m_last_update_time \u001b[38;5;241m=\u001b[39m (\n\u001b[1;32m    220\u001b[0m     dateparse\u001b[38;5;241m.\u001b[39misoparse(data[\u001b[38;5;124m\"\u001b[39m\u001b[38;5;124mupdated_at\u001b[39m\u001b[38;5;124m\"\u001b[39m])\n\u001b[1;32m    221\u001b[0m     \u001b[38;5;28;01mif\u001b[39;00m \u001b[38;5;124m\"\u001b[39m\u001b[38;5;124mupdated_at\u001b[39m\u001b[38;5;124m\"\u001b[39m \u001b[38;5;129;01min\u001b[39;00m data\n\u001b[1;32m    222\u001b[0m     \u001b[38;5;28;01melse\u001b[39;00m DehydratedValue()\n\u001b[1;32m    223\u001b[0m )\n\u001b[1;32m    224\u001b[0m \u001b[38;5;28mself\u001b[39m\u001b[38;5;241m.\u001b[39m_name \u001b[38;5;241m=\u001b[39m value_if_present(data, \u001b[38;5;124m\"\u001b[39m\u001b[38;5;124mpipeline_id\u001b[39m\u001b[38;5;124m\"\u001b[39m)\n\u001b[1;32m    225\u001b[0m \u001b[38;5;28mself\u001b[39m\u001b[38;5;241m.\u001b[39m_versions \u001b[38;5;241m=\u001b[39m (\n\u001b[0;32m--> 226\u001b[0m     [PipelineVersion(\u001b[38;5;28mself\u001b[39m\u001b[38;5;241m.\u001b[39mclient, elem) \u001b[38;5;28;01mfor\u001b[39;00m elem \u001b[38;5;129;01min\u001b[39;00m data[\u001b[38;5;124m\"\u001b[39m\u001b[38;5;124mpipeline_versions\u001b[39m\u001b[38;5;124m\"\u001b[39m]]\n\u001b[1;32m    227\u001b[0m     \u001b[38;5;28;01mif\u001b[39;00m \u001b[38;5;124m\"\u001b[39m\u001b[38;5;124mpipeline_versions\u001b[39m\u001b[38;5;124m\"\u001b[39m \u001b[38;5;129;01min\u001b[39;00m data\n\u001b[1;32m    228\u001b[0m     \u001b[38;5;28;01melse\u001b[39;00m DehydratedValue()\n\u001b[1;32m    229\u001b[0m )\n\u001b[1;32m    230\u001b[0m \u001b[38;5;28mself\u001b[39m\u001b[38;5;241m.\u001b[39m_workspace \u001b[38;5;241m=\u001b[39m (\n\u001b[1;32m    231\u001b[0m     Workspace(\u001b[38;5;28mself\u001b[39m\u001b[38;5;241m.\u001b[39mclient, data[\u001b[38;5;124m\"\u001b[39m\u001b[38;5;124mworkspace\u001b[39m\u001b[38;5;124m\"\u001b[39m])\n\u001b[1;32m    232\u001b[0m     \u001b[38;5;28;01mif\u001b[39;00m \u001b[38;5;124m\"\u001b[39m\u001b[38;5;124mworkspace\u001b[39m\u001b[38;5;124m\"\u001b[39m \u001b[38;5;129;01min\u001b[39;00m data\n\u001b[1;32m    233\u001b[0m     \u001b[38;5;28;01melse\u001b[39;00m DehydratedValue()\n\u001b[1;32m    234\u001b[0m )\n",
      "File \u001b[0;32m~/.virtualenvs/wallaroosdk2025.1.2/lib/python3.10/site-packages/wallaroo/pipeline.py:226\u001b[0m, in \u001b[0;36m<listcomp>\u001b[0;34m(.0)\u001b[0m\n\u001b[1;32m    219\u001b[0m \u001b[38;5;28mself\u001b[39m\u001b[38;5;241m.\u001b[39m_last_update_time \u001b[38;5;241m=\u001b[39m (\n\u001b[1;32m    220\u001b[0m     dateparse\u001b[38;5;241m.\u001b[39misoparse(data[\u001b[38;5;124m\"\u001b[39m\u001b[38;5;124mupdated_at\u001b[39m\u001b[38;5;124m\"\u001b[39m])\n\u001b[1;32m    221\u001b[0m     \u001b[38;5;28;01mif\u001b[39;00m \u001b[38;5;124m\"\u001b[39m\u001b[38;5;124mupdated_at\u001b[39m\u001b[38;5;124m\"\u001b[39m \u001b[38;5;129;01min\u001b[39;00m data\n\u001b[1;32m    222\u001b[0m     \u001b[38;5;28;01melse\u001b[39;00m DehydratedValue()\n\u001b[1;32m    223\u001b[0m )\n\u001b[1;32m    224\u001b[0m \u001b[38;5;28mself\u001b[39m\u001b[38;5;241m.\u001b[39m_name \u001b[38;5;241m=\u001b[39m value_if_present(data, \u001b[38;5;124m\"\u001b[39m\u001b[38;5;124mpipeline_id\u001b[39m\u001b[38;5;124m\"\u001b[39m)\n\u001b[1;32m    225\u001b[0m \u001b[38;5;28mself\u001b[39m\u001b[38;5;241m.\u001b[39m_versions \u001b[38;5;241m=\u001b[39m (\n\u001b[0;32m--> 226\u001b[0m     [\u001b[43mPipelineVersion\u001b[49m\u001b[43m(\u001b[49m\u001b[38;5;28;43mself\u001b[39;49m\u001b[38;5;241;43m.\u001b[39;49m\u001b[43mclient\u001b[49m\u001b[43m,\u001b[49m\u001b[43m \u001b[49m\u001b[43melem\u001b[49m\u001b[43m)\u001b[49m \u001b[38;5;28;01mfor\u001b[39;00m elem \u001b[38;5;129;01min\u001b[39;00m data[\u001b[38;5;124m\"\u001b[39m\u001b[38;5;124mpipeline_versions\u001b[39m\u001b[38;5;124m\"\u001b[39m]]\n\u001b[1;32m    227\u001b[0m     \u001b[38;5;28;01mif\u001b[39;00m \u001b[38;5;124m\"\u001b[39m\u001b[38;5;124mpipeline_versions\u001b[39m\u001b[38;5;124m\"\u001b[39m \u001b[38;5;129;01min\u001b[39;00m data\n\u001b[1;32m    228\u001b[0m     \u001b[38;5;28;01melse\u001b[39;00m DehydratedValue()\n\u001b[1;32m    229\u001b[0m )\n\u001b[1;32m    230\u001b[0m \u001b[38;5;28mself\u001b[39m\u001b[38;5;241m.\u001b[39m_workspace \u001b[38;5;241m=\u001b[39m (\n\u001b[1;32m    231\u001b[0m     Workspace(\u001b[38;5;28mself\u001b[39m\u001b[38;5;241m.\u001b[39mclient, data[\u001b[38;5;124m\"\u001b[39m\u001b[38;5;124mworkspace\u001b[39m\u001b[38;5;124m\"\u001b[39m])\n\u001b[1;32m    232\u001b[0m     \u001b[38;5;28;01mif\u001b[39;00m \u001b[38;5;124m\"\u001b[39m\u001b[38;5;124mworkspace\u001b[39m\u001b[38;5;124m\"\u001b[39m \u001b[38;5;129;01min\u001b[39;00m data\n\u001b[1;32m    233\u001b[0m     \u001b[38;5;28;01melse\u001b[39;00m DehydratedValue()\n\u001b[1;32m    234\u001b[0m )\n",
      "File \u001b[0;32m~/.virtualenvs/wallaroosdk2025.1.2/lib/python3.10/site-packages/wallaroo/pipeline_version.py:46\u001b[0m, in \u001b[0;36mPipelineVersion.__init__\u001b[0;34m(self, client, data)\u001b[0m\n\u001b[1;32m     44\u001b[0m \u001b[38;5;28mself\u001b[39m\u001b[38;5;241m.\u001b[39mclient \u001b[38;5;241m=\u001b[39m client\n\u001b[1;32m     45\u001b[0m \u001b[38;5;28;01massert\u001b[39;00m client \u001b[38;5;129;01mis\u001b[39;00m \u001b[38;5;129;01mnot\u001b[39;00m \u001b[38;5;28;01mNone\u001b[39;00m\n\u001b[0;32m---> 46\u001b[0m \u001b[38;5;28;43msuper\u001b[39;49m\u001b[43m(\u001b[49m\u001b[43m)\u001b[49m\u001b[38;5;241;43m.\u001b[39;49m\u001b[38;5;21;43m__init__\u001b[39;49m\u001b[43m(\u001b[49m\u001b[43mgql_client\u001b[49m\u001b[38;5;241;43m=\u001b[39;49m\u001b[43mclient\u001b[49m\u001b[38;5;241;43m.\u001b[39;49m\u001b[43m_gql_client\u001b[49m\u001b[43m,\u001b[49m\u001b[43m \u001b[49m\u001b[43mdata\u001b[49m\u001b[38;5;241;43m=\u001b[39;49m\u001b[43mdata\u001b[49m\u001b[43m)\u001b[49m\n",
      "File \u001b[0;32m~/.virtualenvs/wallaroosdk2025.1.2/lib/python3.10/site-packages/wallaroo/object.py:200\u001b[0m, in \u001b[0;36mObject.__init__\u001b[0;34m(self, gql_client, data, fetch_first)\u001b[0m\n\u001b[1;32m    198\u001b[0m     \u001b[38;5;28mself\u001b[39m\u001b[38;5;241m.\u001b[39m_rehydrate()\n\u001b[1;32m    199\u001b[0m \u001b[38;5;28;01melse\u001b[39;00m:\n\u001b[0;32m--> 200\u001b[0m     \u001b[38;5;28;43mself\u001b[39;49m\u001b[38;5;241;43m.\u001b[39;49m\u001b[43m_fill\u001b[49m\u001b[43m(\u001b[49m\u001b[43mdata\u001b[49m\u001b[43m)\u001b[49m\n",
      "File \u001b[0;32m~/.virtualenvs/wallaroosdk2025.1.2/lib/python3.10/site-packages/wallaroo/pipeline_version.py:97\u001b[0m, in \u001b[0;36mPipelineVersion._fill\u001b[0;34m(self, data)\u001b[0m\n\u001b[1;32m     75\u001b[0m \u001b[38;5;28mself\u001b[39m\u001b[38;5;241m.\u001b[39m_deployments \u001b[38;5;241m=\u001b[39m (\n\u001b[1;32m     76\u001b[0m     [\n\u001b[1;32m     77\u001b[0m         Deployment(\n\u001b[0;32m   (...)\u001b[0m\n\u001b[1;32m     84\u001b[0m     \u001b[38;5;28;01melse\u001b[39;00m DehydratedValue()\n\u001b[1;32m     85\u001b[0m )\n\u001b[1;32m     86\u001b[0m \u001b[38;5;28mself\u001b[39m\u001b[38;5;241m.\u001b[39m_model_configs \u001b[38;5;241m=\u001b[39m (\n\u001b[1;32m     87\u001b[0m     [\n\u001b[1;32m     88\u001b[0m         ModelConfig(\n\u001b[0;32m   (...)\u001b[0m\n\u001b[1;32m     95\u001b[0m     \u001b[38;5;28;01melse\u001b[39;00m []\n\u001b[1;32m     96\u001b[0m )\n\u001b[0;32m---> 97\u001b[0m \u001b[38;5;28mself\u001b[39m\u001b[38;5;241m.\u001b[39m_publishes \u001b[38;5;241m=\u001b[39m [\n\u001b[1;32m     98\u001b[0m     PipelinePublish(client\u001b[38;5;241m=\u001b[39m_unwrap(\u001b[38;5;28mself\u001b[39m\u001b[38;5;241m.\u001b[39mclient), \u001b[38;5;241m*\u001b[39m\u001b[38;5;241m*\u001b[39mdata)\n\u001b[1;32m     99\u001b[0m     \u001b[38;5;28;01mfor\u001b[39;00m data \u001b[38;5;129;01min\u001b[39;00m data\u001b[38;5;241m.\u001b[39mget(\u001b[38;5;124m\"\u001b[39m\u001b[38;5;124mpipeline_publishes\u001b[39m\u001b[38;5;124m\"\u001b[39m, [])\n\u001b[1;32m    100\u001b[0m ]\n\u001b[1;32m    101\u001b[0m \u001b[38;5;66;03m# Special handling for model configs\u001b[39;00m\n\u001b[1;32m    102\u001b[0m \u001b[38;5;28;01mif\u001b[39;00m (\n\u001b[1;32m    103\u001b[0m     \u001b[38;5;28mlen\u001b[39m(\u001b[38;5;28mself\u001b[39m\u001b[38;5;241m.\u001b[39m_model_configs) \u001b[38;5;241m==\u001b[39m \u001b[38;5;241m0\u001b[39m\n\u001b[1;32m    104\u001b[0m     \u001b[38;5;129;01mand\u001b[39;00m \u001b[38;5;129;01mnot\u001b[39;00m \u001b[38;5;28misinstance\u001b[39m(\u001b[38;5;28mself\u001b[39m\u001b[38;5;241m.\u001b[39m_definition, DehydratedValue)\n\u001b[1;32m    105\u001b[0m     \u001b[38;5;129;01mand\u001b[39;00m \u001b[38;5;28mself\u001b[39m\u001b[38;5;241m.\u001b[39m_definition\u001b[38;5;241m.\u001b[39mget(\u001b[38;5;124m\"\u001b[39m\u001b[38;5;124msteps\u001b[39m\u001b[38;5;124m\"\u001b[39m) \u001b[38;5;129;01mis\u001b[39;00m \u001b[38;5;129;01mnot\u001b[39;00m \u001b[38;5;28;01mNone\u001b[39;00m\n\u001b[1;32m    106\u001b[0m ):\n",
      "File \u001b[0;32m~/.virtualenvs/wallaroosdk2025.1.2/lib/python3.10/site-packages/wallaroo/pipeline_version.py:98\u001b[0m, in \u001b[0;36m<listcomp>\u001b[0;34m(.0)\u001b[0m\n\u001b[1;32m     75\u001b[0m \u001b[38;5;28mself\u001b[39m\u001b[38;5;241m.\u001b[39m_deployments \u001b[38;5;241m=\u001b[39m (\n\u001b[1;32m     76\u001b[0m     [\n\u001b[1;32m     77\u001b[0m         Deployment(\n\u001b[0;32m   (...)\u001b[0m\n\u001b[1;32m     84\u001b[0m     \u001b[38;5;28;01melse\u001b[39;00m DehydratedValue()\n\u001b[1;32m     85\u001b[0m )\n\u001b[1;32m     86\u001b[0m \u001b[38;5;28mself\u001b[39m\u001b[38;5;241m.\u001b[39m_model_configs \u001b[38;5;241m=\u001b[39m (\n\u001b[1;32m     87\u001b[0m     [\n\u001b[1;32m     88\u001b[0m         ModelConfig(\n\u001b[0;32m   (...)\u001b[0m\n\u001b[1;32m     95\u001b[0m     \u001b[38;5;28;01melse\u001b[39;00m []\n\u001b[1;32m     96\u001b[0m )\n\u001b[1;32m     97\u001b[0m \u001b[38;5;28mself\u001b[39m\u001b[38;5;241m.\u001b[39m_publishes \u001b[38;5;241m=\u001b[39m [\n\u001b[0;32m---> 98\u001b[0m     \u001b[43mPipelinePublish\u001b[49m\u001b[43m(\u001b[49m\u001b[43mclient\u001b[49m\u001b[38;5;241;43m=\u001b[39;49m\u001b[43m_unwrap\u001b[49m\u001b[43m(\u001b[49m\u001b[38;5;28;43mself\u001b[39;49m\u001b[38;5;241;43m.\u001b[39;49m\u001b[43mclient\u001b[49m\u001b[43m)\u001b[49m\u001b[43m,\u001b[49m\u001b[43m \u001b[49m\u001b[38;5;241;43m*\u001b[39;49m\u001b[38;5;241;43m*\u001b[39;49m\u001b[43mdata\u001b[49m\u001b[43m)\u001b[49m\n\u001b[1;32m     99\u001b[0m     \u001b[38;5;28;01mfor\u001b[39;00m data \u001b[38;5;129;01min\u001b[39;00m data\u001b[38;5;241m.\u001b[39mget(\u001b[38;5;124m\"\u001b[39m\u001b[38;5;124mpipeline_publishes\u001b[39m\u001b[38;5;124m\"\u001b[39m, [])\n\u001b[1;32m    100\u001b[0m ]\n\u001b[1;32m    101\u001b[0m \u001b[38;5;66;03m# Special handling for model configs\u001b[39;00m\n\u001b[1;32m    102\u001b[0m \u001b[38;5;28;01mif\u001b[39;00m (\n\u001b[1;32m    103\u001b[0m     \u001b[38;5;28mlen\u001b[39m(\u001b[38;5;28mself\u001b[39m\u001b[38;5;241m.\u001b[39m_model_configs) \u001b[38;5;241m==\u001b[39m \u001b[38;5;241m0\u001b[39m\n\u001b[1;32m    104\u001b[0m     \u001b[38;5;129;01mand\u001b[39;00m \u001b[38;5;129;01mnot\u001b[39;00m \u001b[38;5;28misinstance\u001b[39m(\u001b[38;5;28mself\u001b[39m\u001b[38;5;241m.\u001b[39m_definition, DehydratedValue)\n\u001b[1;32m    105\u001b[0m     \u001b[38;5;129;01mand\u001b[39;00m \u001b[38;5;28mself\u001b[39m\u001b[38;5;241m.\u001b[39m_definition\u001b[38;5;241m.\u001b[39mget(\u001b[38;5;124m\"\u001b[39m\u001b[38;5;124msteps\u001b[39m\u001b[38;5;124m\"\u001b[39m) \u001b[38;5;129;01mis\u001b[39;00m \u001b[38;5;129;01mnot\u001b[39;00m \u001b[38;5;28;01mNone\u001b[39;00m\n\u001b[1;32m    106\u001b[0m ):\n",
      "File \u001b[0;32m~/.virtualenvs/wallaroosdk2025.1.2/lib/python3.10/site-packages/wallaroo/pipeline_publish.py:45\u001b[0m, in \u001b[0;36mPipelinePublish.__init__\u001b[0;34m(self, client, chart_url, **data)\u001b[0m\n\u001b[1;32m     43\u001b[0m \u001b[38;5;28mself\u001b[39m\u001b[38;5;241m.\u001b[39mupdated_at \u001b[38;5;241m=\u001b[39m dateparse\u001b[38;5;241m.\u001b[39misoparse(cast(\u001b[38;5;28mstr\u001b[39m, data\u001b[38;5;241m.\u001b[39mget(\u001b[38;5;124m\"\u001b[39m\u001b[38;5;124mupdated_at\u001b[39m\u001b[38;5;124m\"\u001b[39m)))\n\u001b[1;32m     44\u001b[0m \u001b[38;5;28;01mif\u001b[39;00m \u001b[38;5;28misinstance\u001b[39m(\u001b[38;5;28mself\u001b[39m\u001b[38;5;241m.\u001b[39mcreated_by, \u001b[38;5;28mstr\u001b[39m):\n\u001b[0;32m---> 45\u001b[0m     \u001b[38;5;28mself\u001b[39m\u001b[38;5;241m.\u001b[39mcreated_by_email \u001b[38;5;241m=\u001b[39m \u001b[43mclient\u001b[49m\u001b[38;5;241;43m.\u001b[39;49m\u001b[43mget_email_by_id\u001b[49m\u001b[43m(\u001b[49m\u001b[38;5;28;43mself\u001b[39;49m\u001b[38;5;241;43m.\u001b[39;49m\u001b[43mcreated_by\u001b[49m\u001b[43m)\u001b[49m\n",
      "File \u001b[0;32m~/.virtualenvs/wallaroosdk2025.1.2/lib/python3.10/site-packages/wallaroo/client.py:2891\u001b[0m, in \u001b[0;36mClient.get_email_by_id\u001b[0;34m(self, id)\u001b[0m\n\u001b[1;32m   2890\u001b[0m \u001b[38;5;28;01mdef\u001b[39;00m\u001b[38;5;250m \u001b[39m\u001b[38;5;21mget_email_by_id\u001b[39m(\u001b[38;5;28mself\u001b[39m, \u001b[38;5;28mid\u001b[39m: \u001b[38;5;28mstr\u001b[39m):\n\u001b[0;32m-> 2891\u001b[0m     \u001b[38;5;28;01mreturn\u001b[39;00m \u001b[43mUser\u001b[49m\u001b[38;5;241;43m.\u001b[39;49m\u001b[43mget_email_by_id\u001b[49m\u001b[43m(\u001b[49m\u001b[43mclient\u001b[49m\u001b[38;5;241;43m=\u001b[39;49m\u001b[38;5;28;43mself\u001b[39;49m\u001b[43m,\u001b[49m\u001b[43m \u001b[49m\u001b[38;5;28;43mid\u001b[39;49m\u001b[38;5;241;43m=\u001b[39;49m\u001b[38;5;28;43mid\u001b[39;49m\u001b[43m)\u001b[49m\n",
      "File \u001b[0;32m~/.virtualenvs/wallaroosdk2025.1.2/lib/python3.10/site-packages/wallaroo/user.py:70\u001b[0m, in \u001b[0;36mUser.get_email_by_id\u001b[0;34m(client, id)\u001b[0m\n\u001b[1;32m     62\u001b[0m \u001b[38;5;28;01mfrom\u001b[39;00m\u001b[38;5;250m \u001b[39m\u001b[38;5;21;01mwallaroo\u001b[39;00m\u001b[38;5;21;01m.\u001b[39;00m\u001b[38;5;21;01mwallaroo_ml_ops_api_client\u001b[39;00m\u001b[38;5;21;01m.\u001b[39;00m\u001b[38;5;21;01mapi\u001b[39;00m\u001b[38;5;21;01m.\u001b[39;00m\u001b[38;5;21;01muser\u001b[39;00m\u001b[38;5;21;01m.\u001b[39;00m\u001b[38;5;21;01musers_query\u001b[39;00m\u001b[38;5;250m \u001b[39m\u001b[38;5;28;01mimport\u001b[39;00m (\n\u001b[1;32m     63\u001b[0m     UsersQueryBody,\n\u001b[1;32m     64\u001b[0m     sync_detailed,\n\u001b[1;32m     65\u001b[0m )\n\u001b[1;32m     66\u001b[0m \u001b[38;5;28;01mfrom\u001b[39;00m\u001b[38;5;250m \u001b[39m\u001b[38;5;21;01mwallaroo\u001b[39;00m\u001b[38;5;21;01m.\u001b[39;00m\u001b[38;5;21;01mwallaroo_ml_ops_api_client\u001b[39;00m\u001b[38;5;21;01m.\u001b[39;00m\u001b[38;5;21;01mmodels\u001b[39;00m\u001b[38;5;21;01m.\u001b[39;00m\u001b[38;5;21;01musers_query_response_200\u001b[39;00m\u001b[38;5;250m \u001b[39m\u001b[38;5;28;01mimport\u001b[39;00m (\n\u001b[1;32m     67\u001b[0m     UsersQueryResponse200,\n\u001b[1;32m     68\u001b[0m )\n\u001b[0;32m---> 70\u001b[0m r \u001b[38;5;241m=\u001b[39m \u001b[43msync_detailed\u001b[49m\u001b[43m(\u001b[49m\u001b[43mclient\u001b[49m\u001b[38;5;241;43m=\u001b[39;49m\u001b[43mclient\u001b[49m\u001b[38;5;241;43m.\u001b[39;49m\u001b[43mmlops\u001b[49m\u001b[43m(\u001b[49m\u001b[43m)\u001b[49m\u001b[43m,\u001b[49m\u001b[43m \u001b[49m\u001b[43mbody\u001b[49m\u001b[38;5;241;43m=\u001b[39;49m\u001b[43mUsersQueryBody\u001b[49m\u001b[43m(\u001b[49m\u001b[43m[\u001b[49m\u001b[38;5;28;43mid\u001b[39;49m\u001b[43m]\u001b[49m\u001b[43m)\u001b[49m\u001b[43m)\u001b[49m\n\u001b[1;32m     72\u001b[0m \u001b[38;5;28;01mif\u001b[39;00m \u001b[38;5;28misinstance\u001b[39m(r\u001b[38;5;241m.\u001b[39mparsed, UsersQueryResponse200):\n\u001b[1;32m     73\u001b[0m     \u001b[38;5;28;01mreturn\u001b[39;00m _unwrap(r\u001b[38;5;241m.\u001b[39mparsed\u001b[38;5;241m.\u001b[39musers[\u001b[38;5;28mid\u001b[39m])[\u001b[38;5;124m\"\u001b[39m\u001b[38;5;124memail\u001b[39m\u001b[38;5;124m\"\u001b[39m]\n",
      "File \u001b[0;32m~/.virtualenvs/wallaroosdk2025.1.2/lib/python3.10/site-packages/wallaroo/wallaroo_ml_ops_api_client/api/user/users_query.py:117\u001b[0m, in \u001b[0;36msync_detailed\u001b[0;34m(client, body)\u001b[0m\n\u001b[1;32m     98\u001b[0m \u001b[38;5;250m\u001b[39m\u001b[38;5;124;03m\"\"\"Query existing users\u001b[39;00m\n\u001b[1;32m     99\u001b[0m \n\u001b[1;32m    100\u001b[0m \u001b[38;5;124;03m Returns users that satisfy the given query.\u001b[39;00m\n\u001b[0;32m   (...)\u001b[0m\n\u001b[1;32m    110\u001b[0m \u001b[38;5;124;03m    Response[Union[UsersQueryResponse200, UsersQueryResponse400, UsersQueryResponse401, UsersQueryResponse500]]\u001b[39;00m\n\u001b[1;32m    111\u001b[0m \u001b[38;5;124;03m\"\"\"\u001b[39;00m\n\u001b[1;32m    113\u001b[0m kwargs \u001b[38;5;241m=\u001b[39m _get_kwargs(\n\u001b[1;32m    114\u001b[0m     body\u001b[38;5;241m=\u001b[39mbody,\n\u001b[1;32m    115\u001b[0m )\n\u001b[0;32m--> 117\u001b[0m response \u001b[38;5;241m=\u001b[39m \u001b[43mclient\u001b[49m\u001b[38;5;241;43m.\u001b[39;49m\u001b[43mget_httpx_client\u001b[49m\u001b[43m(\u001b[49m\u001b[43m)\u001b[49m\u001b[38;5;241;43m.\u001b[39;49m\u001b[43mrequest\u001b[49m\u001b[43m(\u001b[49m\n\u001b[1;32m    118\u001b[0m \u001b[43m    \u001b[49m\u001b[38;5;241;43m*\u001b[39;49m\u001b[38;5;241;43m*\u001b[39;49m\u001b[43mkwargs\u001b[49m\u001b[43m,\u001b[49m\n\u001b[1;32m    119\u001b[0m \u001b[43m\u001b[49m\u001b[43m)\u001b[49m\n\u001b[1;32m    121\u001b[0m \u001b[38;5;28;01mreturn\u001b[39;00m _build_response(client\u001b[38;5;241m=\u001b[39mclient, response\u001b[38;5;241m=\u001b[39mresponse)\n",
      "File \u001b[0;32m~/.virtualenvs/wallaroosdk2025.1.2/lib/python3.10/site-packages/httpx/_client.py:828\u001b[0m, in \u001b[0;36mClient.request\u001b[0;34m(self, method, url, content, data, files, json, params, headers, cookies, auth, follow_redirects, timeout, extensions)\u001b[0m\n\u001b[1;32m    813\u001b[0m     warnings\u001b[38;5;241m.\u001b[39mwarn(message, \u001b[38;5;167;01mDeprecationWarning\u001b[39;00m)\n\u001b[1;32m    815\u001b[0m request \u001b[38;5;241m=\u001b[39m \u001b[38;5;28mself\u001b[39m\u001b[38;5;241m.\u001b[39mbuild_request(\n\u001b[1;32m    816\u001b[0m     method\u001b[38;5;241m=\u001b[39mmethod,\n\u001b[1;32m    817\u001b[0m     url\u001b[38;5;241m=\u001b[39murl,\n\u001b[0;32m   (...)\u001b[0m\n\u001b[1;32m    826\u001b[0m     extensions\u001b[38;5;241m=\u001b[39mextensions,\n\u001b[1;32m    827\u001b[0m )\n\u001b[0;32m--> 828\u001b[0m \u001b[38;5;28;01mreturn\u001b[39;00m \u001b[38;5;28;43mself\u001b[39;49m\u001b[38;5;241;43m.\u001b[39;49m\u001b[43msend\u001b[49m\u001b[43m(\u001b[49m\u001b[43mrequest\u001b[49m\u001b[43m,\u001b[49m\u001b[43m \u001b[49m\u001b[43mauth\u001b[49m\u001b[38;5;241;43m=\u001b[39;49m\u001b[43mauth\u001b[49m\u001b[43m,\u001b[49m\u001b[43m \u001b[49m\u001b[43mfollow_redirects\u001b[49m\u001b[38;5;241;43m=\u001b[39;49m\u001b[43mfollow_redirects\u001b[49m\u001b[43m)\u001b[49m\n",
      "File \u001b[0;32m~/.virtualenvs/wallaroosdk2025.1.2/lib/python3.10/site-packages/httpx/_client.py:915\u001b[0m, in \u001b[0;36mClient.send\u001b[0;34m(self, request, stream, auth, follow_redirects)\u001b[0m\n\u001b[1;32m    907\u001b[0m follow_redirects \u001b[38;5;241m=\u001b[39m (\n\u001b[1;32m    908\u001b[0m     \u001b[38;5;28mself\u001b[39m\u001b[38;5;241m.\u001b[39mfollow_redirects\n\u001b[1;32m    909\u001b[0m     \u001b[38;5;28;01mif\u001b[39;00m \u001b[38;5;28misinstance\u001b[39m(follow_redirects, UseClientDefault)\n\u001b[1;32m    910\u001b[0m     \u001b[38;5;28;01melse\u001b[39;00m follow_redirects\n\u001b[1;32m    911\u001b[0m )\n\u001b[1;32m    913\u001b[0m auth \u001b[38;5;241m=\u001b[39m \u001b[38;5;28mself\u001b[39m\u001b[38;5;241m.\u001b[39m_build_request_auth(request, auth)\n\u001b[0;32m--> 915\u001b[0m response \u001b[38;5;241m=\u001b[39m \u001b[38;5;28;43mself\u001b[39;49m\u001b[38;5;241;43m.\u001b[39;49m\u001b[43m_send_handling_auth\u001b[49m\u001b[43m(\u001b[49m\n\u001b[1;32m    916\u001b[0m \u001b[43m    \u001b[49m\u001b[43mrequest\u001b[49m\u001b[43m,\u001b[49m\n\u001b[1;32m    917\u001b[0m \u001b[43m    \u001b[49m\u001b[43mauth\u001b[49m\u001b[38;5;241;43m=\u001b[39;49m\u001b[43mauth\u001b[49m\u001b[43m,\u001b[49m\n\u001b[1;32m    918\u001b[0m \u001b[43m    \u001b[49m\u001b[43mfollow_redirects\u001b[49m\u001b[38;5;241;43m=\u001b[39;49m\u001b[43mfollow_redirects\u001b[49m\u001b[43m,\u001b[49m\n\u001b[1;32m    919\u001b[0m \u001b[43m    \u001b[49m\u001b[43mhistory\u001b[49m\u001b[38;5;241;43m=\u001b[39;49m\u001b[43m[\u001b[49m\u001b[43m]\u001b[49m\u001b[43m,\u001b[49m\n\u001b[1;32m    920\u001b[0m \u001b[43m\u001b[49m\u001b[43m)\u001b[49m\n\u001b[1;32m    921\u001b[0m \u001b[38;5;28;01mtry\u001b[39;00m:\n\u001b[1;32m    922\u001b[0m     \u001b[38;5;28;01mif\u001b[39;00m \u001b[38;5;129;01mnot\u001b[39;00m stream:\n",
      "File \u001b[0;32m~/.virtualenvs/wallaroosdk2025.1.2/lib/python3.10/site-packages/httpx/_client.py:943\u001b[0m, in \u001b[0;36mClient._send_handling_auth\u001b[0;34m(self, request, auth, follow_redirects, history)\u001b[0m\n\u001b[1;32m    940\u001b[0m request \u001b[38;5;241m=\u001b[39m \u001b[38;5;28mnext\u001b[39m(auth_flow)\n\u001b[1;32m    942\u001b[0m \u001b[38;5;28;01mwhile\u001b[39;00m \u001b[38;5;28;01mTrue\u001b[39;00m:\n\u001b[0;32m--> 943\u001b[0m     response \u001b[38;5;241m=\u001b[39m \u001b[38;5;28;43mself\u001b[39;49m\u001b[38;5;241;43m.\u001b[39;49m\u001b[43m_send_handling_redirects\u001b[49m\u001b[43m(\u001b[49m\n\u001b[1;32m    944\u001b[0m \u001b[43m        \u001b[49m\u001b[43mrequest\u001b[49m\u001b[43m,\u001b[49m\n\u001b[1;32m    945\u001b[0m \u001b[43m        \u001b[49m\u001b[43mfollow_redirects\u001b[49m\u001b[38;5;241;43m=\u001b[39;49m\u001b[43mfollow_redirects\u001b[49m\u001b[43m,\u001b[49m\n\u001b[1;32m    946\u001b[0m \u001b[43m        \u001b[49m\u001b[43mhistory\u001b[49m\u001b[38;5;241;43m=\u001b[39;49m\u001b[43mhistory\u001b[49m\u001b[43m,\u001b[49m\n\u001b[1;32m    947\u001b[0m \u001b[43m    \u001b[49m\u001b[43m)\u001b[49m\n\u001b[1;32m    948\u001b[0m     \u001b[38;5;28;01mtry\u001b[39;00m:\n\u001b[1;32m    949\u001b[0m         \u001b[38;5;28;01mtry\u001b[39;00m:\n",
      "File \u001b[0;32m~/.virtualenvs/wallaroosdk2025.1.2/lib/python3.10/site-packages/httpx/_client.py:980\u001b[0m, in \u001b[0;36mClient._send_handling_redirects\u001b[0;34m(self, request, follow_redirects, history)\u001b[0m\n\u001b[1;32m    977\u001b[0m \u001b[38;5;28;01mfor\u001b[39;00m hook \u001b[38;5;129;01min\u001b[39;00m \u001b[38;5;28mself\u001b[39m\u001b[38;5;241m.\u001b[39m_event_hooks[\u001b[38;5;124m\"\u001b[39m\u001b[38;5;124mrequest\u001b[39m\u001b[38;5;124m\"\u001b[39m]:\n\u001b[1;32m    978\u001b[0m     hook(request)\n\u001b[0;32m--> 980\u001b[0m response \u001b[38;5;241m=\u001b[39m \u001b[38;5;28;43mself\u001b[39;49m\u001b[38;5;241;43m.\u001b[39;49m\u001b[43m_send_single_request\u001b[49m\u001b[43m(\u001b[49m\u001b[43mrequest\u001b[49m\u001b[43m)\u001b[49m\n\u001b[1;32m    981\u001b[0m \u001b[38;5;28;01mtry\u001b[39;00m:\n\u001b[1;32m    982\u001b[0m     \u001b[38;5;28;01mfor\u001b[39;00m hook \u001b[38;5;129;01min\u001b[39;00m \u001b[38;5;28mself\u001b[39m\u001b[38;5;241m.\u001b[39m_event_hooks[\u001b[38;5;124m\"\u001b[39m\u001b[38;5;124mresponse\u001b[39m\u001b[38;5;124m\"\u001b[39m]:\n",
      "File \u001b[0;32m~/.virtualenvs/wallaroosdk2025.1.2/lib/python3.10/site-packages/httpx/_client.py:1016\u001b[0m, in \u001b[0;36mClient._send_single_request\u001b[0;34m(self, request)\u001b[0m\n\u001b[1;32m   1011\u001b[0m     \u001b[38;5;28;01mraise\u001b[39;00m \u001b[38;5;167;01mRuntimeError\u001b[39;00m(\n\u001b[1;32m   1012\u001b[0m         \u001b[38;5;124m\"\u001b[39m\u001b[38;5;124mAttempted to send an async request with a sync Client instance.\u001b[39m\u001b[38;5;124m\"\u001b[39m\n\u001b[1;32m   1013\u001b[0m     )\n\u001b[1;32m   1015\u001b[0m \u001b[38;5;28;01mwith\u001b[39;00m request_context(request\u001b[38;5;241m=\u001b[39mrequest):\n\u001b[0;32m-> 1016\u001b[0m     response \u001b[38;5;241m=\u001b[39m \u001b[43mtransport\u001b[49m\u001b[38;5;241;43m.\u001b[39;49m\u001b[43mhandle_request\u001b[49m\u001b[43m(\u001b[49m\u001b[43mrequest\u001b[49m\u001b[43m)\u001b[49m\n\u001b[1;32m   1018\u001b[0m \u001b[38;5;28;01massert\u001b[39;00m \u001b[38;5;28misinstance\u001b[39m(response\u001b[38;5;241m.\u001b[39mstream, SyncByteStream)\n\u001b[1;32m   1020\u001b[0m response\u001b[38;5;241m.\u001b[39mrequest \u001b[38;5;241m=\u001b[39m request\n",
      "File \u001b[0;32m~/.virtualenvs/wallaroosdk2025.1.2/lib/python3.10/site-packages/httpx/_transports/default.py:230\u001b[0m, in \u001b[0;36mHTTPTransport.handle_request\u001b[0;34m(self, request)\u001b[0m\n\u001b[1;32m    216\u001b[0m \u001b[38;5;28;01massert\u001b[39;00m \u001b[38;5;28misinstance\u001b[39m(request\u001b[38;5;241m.\u001b[39mstream, SyncByteStream)\n\u001b[1;32m    218\u001b[0m req \u001b[38;5;241m=\u001b[39m httpcore\u001b[38;5;241m.\u001b[39mRequest(\n\u001b[1;32m    219\u001b[0m     method\u001b[38;5;241m=\u001b[39mrequest\u001b[38;5;241m.\u001b[39mmethod,\n\u001b[1;32m    220\u001b[0m     url\u001b[38;5;241m=\u001b[39mhttpcore\u001b[38;5;241m.\u001b[39mURL(\n\u001b[0;32m   (...)\u001b[0m\n\u001b[1;32m    228\u001b[0m     extensions\u001b[38;5;241m=\u001b[39mrequest\u001b[38;5;241m.\u001b[39mextensions,\n\u001b[1;32m    229\u001b[0m )\n\u001b[0;32m--> 230\u001b[0m \u001b[38;5;28;01mwith\u001b[39;00m map_httpcore_exceptions():\n\u001b[1;32m    231\u001b[0m     resp \u001b[38;5;241m=\u001b[39m \u001b[38;5;28mself\u001b[39m\u001b[38;5;241m.\u001b[39m_pool\u001b[38;5;241m.\u001b[39mhandle_request(req)\n\u001b[1;32m    233\u001b[0m \u001b[38;5;28;01massert\u001b[39;00m \u001b[38;5;28misinstance\u001b[39m(resp\u001b[38;5;241m.\u001b[39mstream, typing\u001b[38;5;241m.\u001b[39mIterable)\n",
      "File \u001b[0;32m/opt/homebrew/Cellar/python@3.10/3.10.18/Frameworks/Python.framework/Versions/3.10/lib/python3.10/contextlib.py:153\u001b[0m, in \u001b[0;36m_GeneratorContextManager.__exit__\u001b[0;34m(self, typ, value, traceback)\u001b[0m\n\u001b[1;32m    151\u001b[0m     value \u001b[38;5;241m=\u001b[39m typ()\n\u001b[1;32m    152\u001b[0m \u001b[38;5;28;01mtry\u001b[39;00m:\n\u001b[0;32m--> 153\u001b[0m     \u001b[38;5;28;43mself\u001b[39;49m\u001b[38;5;241;43m.\u001b[39;49m\u001b[43mgen\u001b[49m\u001b[38;5;241;43m.\u001b[39;49m\u001b[43mthrow\u001b[49m\u001b[43m(\u001b[49m\u001b[43mtyp\u001b[49m\u001b[43m,\u001b[49m\u001b[43m \u001b[49m\u001b[43mvalue\u001b[49m\u001b[43m,\u001b[49m\u001b[43m \u001b[49m\u001b[43mtraceback\u001b[49m\u001b[43m)\u001b[49m\n\u001b[1;32m    154\u001b[0m \u001b[38;5;28;01mexcept\u001b[39;00m \u001b[38;5;167;01mStopIteration\u001b[39;00m \u001b[38;5;28;01mas\u001b[39;00m exc:\n\u001b[1;32m    155\u001b[0m     \u001b[38;5;66;03m# Suppress StopIteration *unless* it's the same exception that\u001b[39;00m\n\u001b[1;32m    156\u001b[0m     \u001b[38;5;66;03m# was passed to throw().  This prevents a StopIteration\u001b[39;00m\n\u001b[1;32m    157\u001b[0m     \u001b[38;5;66;03m# raised inside the \"with\" statement from being suppressed.\u001b[39;00m\n\u001b[1;32m    158\u001b[0m     \u001b[38;5;28;01mreturn\u001b[39;00m exc \u001b[38;5;129;01mis\u001b[39;00m \u001b[38;5;129;01mnot\u001b[39;00m value\n",
      "File \u001b[0;32m~/.virtualenvs/wallaroosdk2025.1.2/lib/python3.10/site-packages/httpx/_transports/default.py:84\u001b[0m, in \u001b[0;36mmap_httpcore_exceptions\u001b[0;34m()\u001b[0m\n\u001b[1;32m     81\u001b[0m     \u001b[38;5;28;01mraise\u001b[39;00m\n\u001b[1;32m     83\u001b[0m message \u001b[38;5;241m=\u001b[39m \u001b[38;5;28mstr\u001b[39m(exc)\n\u001b[0;32m---> 84\u001b[0m \u001b[38;5;28;01mraise\u001b[39;00m mapped_exc(message) \u001b[38;5;28;01mfrom\u001b[39;00m\u001b[38;5;250m \u001b[39m\u001b[38;5;21;01mexc\u001b[39;00m\n",
      "\u001b[0;31mConnectTimeout\u001b[0m: timed out"
     ]
    }
   ],
   "source": [
    "workspace = wl.get_workspace(name=workspace_name, create_if_not_exist=True)\n",
    "\n",
    "wl.set_current_workspace(workspace)"
   ]
  },
  {
   "cell_type": "markdown",
   "id": "b08a8480-293f-405b-a58f-b8e852dbe2ad",
   "metadata": {},
   "source": [
    "### Configure PyArrow Schema\n",
    "\n",
    "This is required for non-native runtimes for models deployed to Wallaroo.\n",
    "\n",
    "You can find more info on the available inputs under [TextSummarizationInputs](https://github.com/WallarooLabs/platform/blob/main/conductor/model-auto-conversion/flavors/hugging-face/src/io/pipeline_inputs/text_summarization_inputs.py#L14) or under the [official source code](https://github.com/huggingface/transformers/blob/v4.28.1/src/transformers/pipelines/text2text_generation.py#L241) from `🤗 Hugging Face`."
   ]
  },
  {
   "cell_type": "code",
   "execution_count": 16,
   "id": "ef115ab9-9c73-4c28-aad8-e915a92a746b",
   "metadata": {},
   "outputs": [],
   "source": [
    "input_schema = pa.schema([\n",
    "    pa.field('inputs', pa.string()),\n",
    "    pa.field('return_text', pa.bool_()),\n",
    "    pa.field('return_tensors', pa.bool_()),\n",
    "    pa.field('clean_up_tokenization_spaces', pa.bool_()),\n",
    "    # pa.field('generate_kwargs', pa.map_(pa.string(), pa.null())), # dictionaries are not currently supported by the engine\n",
    "])\n",
    "\n",
    "output_schema = pa.schema([\n",
    "    pa.field('summary_text', pa.string()),\n",
    "])"
   ]
  },
  {
   "cell_type": "markdown",
   "id": "2e8b396e",
   "metadata": {},
   "source": [
    "### Upload the Model\n",
    "\n",
    "When a model is uploaded to a Wallaroo cluster, it is optimized and packaged to make it ready to run as part of a pipeline. In many times, the Wallaroo Server can natively run a model without any Python overhead. In other cases, such as a Python script, a custom Python environment will be automatically generated. This is comparable to the process of \"containerizing\" a model by adding a small HTTP server and other wrapping around it.\n",
    "\n",
    "Our pretrained model is in HuggingFace format, which is specified in the `framework` parameter.  The input and output schemas are included as part of the model upload.  For more information, see [Wallaroo SDK Essentials Guide: Model Uploads and Registrations: Hugging Face](https://docs.wallaroo.ai/wallaroo-developer-guides/wallaroo-sdk-guides/wallaroo-sdk-essentials-guide/wallaroo-sdk-model-uploads/wallaroo-sdk-model-upload-hugging-face/)."
   ]
  },
  {
   "cell_type": "code",
   "execution_count": 17,
   "id": "3173ef82-80e7-4783-ab63-9aa097dd5edf",
   "metadata": {},
   "outputs": [
    {
     "data": {
      "text/html": [
       "<table>\n",
       "        <tr>\n",
       "          <td>Name</td>\n",
       "          <td>hf-summarization</td>\n",
       "        </tr>\n",
       "        <tr>\n",
       "          <td>Version</td>\n",
       "          <td>3467272a-55e5-480a-bbd6-9965161f0fbf</td>\n",
       "        </tr>\n",
       "        <tr>\n",
       "          <td>File Name</td>\n",
       "          <td>model-auto-conversion_hugging-face_complex-pipelines_hf-summarisation-bart-large-samsun.zip</td>\n",
       "        </tr>\n",
       "        <tr>\n",
       "          <td>SHA</td>\n",
       "          <td>ee71d066a83708e7ca4a3c07caf33fdc528bb000039b6ca2ef77fa2428dc6268</td>\n",
       "        </tr>\n",
       "        <tr>\n",
       "          <td>Status</td>\n",
       "          <td>pending_load_container</td>\n",
       "        </tr>\n",
       "        <tr>\n",
       "          <td>Image Path</td>\n",
       "          <td>None</td>\n",
       "        </tr>\n",
       "        <tr>\n",
       "          <td>Architecture</td>\n",
       "          <td>x86</td>\n",
       "        </tr>\n",
       "        <tr>\n",
       "          <td>Acceleration</td>\n",
       "          <td>none</td>\n",
       "        </tr>\n",
       "        <tr>\n",
       "          <td>Updated At</td>\n",
       "          <td>2025-16-Jul 17:00:15</td>\n",
       "        </tr>\n",
       "        <tr>\n",
       "          <td>Workspace id</td>\n",
       "          <td>1671</td>\n",
       "        </tr>\n",
       "        <tr>\n",
       "          <td>Workspace name</td>\n",
       "          <td>edge-hf-summarization</td>\n",
       "        </tr>\n",
       "      </table>"
      ],
      "text/plain": [
       "{'name': 'hf-summarization', 'version': '3467272a-55e5-480a-bbd6-9965161f0fbf', 'file_name': 'model-auto-conversion_hugging-face_complex-pipelines_hf-summarisation-bart-large-samsun.zip', 'image_path': None, 'arch': 'x86', 'accel': 'none', 'last_update_time': datetime.datetime(2025, 7, 16, 17, 0, 15, 8803, tzinfo=tzutc())}"
      ]
     },
     "execution_count": 17,
     "metadata": {},
     "output_type": "execute_result"
    }
   ],
   "source": [
    "model = wl.upload_model(model_name, \n",
    "                        model_file_name, \n",
    "                        framework=wallaroo.framework.Framework.HUGGING_FACE_SUMMARIZATION, \n",
    "                        input_schema=input_schema, \n",
    "                        output_schema=output_schema,\n",
    "                        convert_wait=False\n",
    "                        )\n",
    "model"
   ]
  },
  {
   "cell_type": "code",
   "execution_count": 18,
   "id": "89af024f-4ceb-4da8-bcbc-3ca5af1ccf04",
   "metadata": {},
   "outputs": [
    {
     "name": "stdout",
     "output_type": "stream",
     "text": [
      "ready\n"
     ]
    }
   ],
   "source": [
    "while model.status() != \"ready\" and model.status() != \"error\":\n",
    "    print(model.status())\n",
    "    time.sleep(10)\n",
    "print(model.status())"
   ]
  },
  {
   "cell_type": "markdown",
   "id": "bdbb0930-8246-4731-84f9-eb1e0e1d9091",
   "metadata": {},
   "source": [
    "### Reserve Pipeline Resources\n",
    "\n",
    "Before deploying an inference engine we need to tell wallaroo what resources it will need.\n",
    "To do this we will use the wallaroo DeploymentConfigBuilder() and fill in the options listed below to determine what the properties of our inference engine will be.\n",
    "\n",
    "We will be testing this deployment for an edge scenario, so the resource specifications are kept small -- what's the minimum needed to meet the expected load on the planned hardware.\n",
    "\n",
    "- cpus - 4 => allow the engine to use 4 CPU cores when running the neural net\n",
    "- memory - 8Gi => each inference engine will have 8 GB of memory, which is plenty for processing a single image at a time."
   ]
  },
  {
   "cell_type": "code",
   "execution_count": 19,
   "id": "c1ac85a4-1978-4fb9-91c4-a4d728ed04af",
   "metadata": {},
   "outputs": [],
   "source": [
    "deployment_config = wallaroo.DeploymentConfigBuilder() \\\n",
    "    .cpus(0.25).memory('1Gi') \\\n",
    "    .sidekick_cpus(model, 4) \\\n",
    "    .sidekick_memory(model, \"8Gi\") \\\n",
    "    .build()"
   ]
  },
  {
   "cell_type": "markdown",
   "id": "03673e03",
   "metadata": {},
   "source": [
    "### Simulated Edge Deployment\n",
    "\n",
    "We will now deploy our pipeline into the current Kubernetes environment using the specified resource constraints. This is a \"simulated edge\" deploy in that we try to mimic the edge hardware as closely as possible.\n"
   ]
  },
  {
   "cell_type": "code",
   "execution_count": 20,
   "id": "ea455f46-6f8b-4d5f-a195-74634c0c886b",
   "metadata": {
    "tags": []
   },
   "outputs": [
    {
     "name": "stdout",
     "output_type": "stream",
     "text": [
      "Deployment initiated for edge-hf-summarization. Please check pipeline status.\n"
     ]
    },
    {
     "data": {
      "text/html": [
       "<table><tr><th>name</th> <td>edge-hf-summarization</td></tr><tr><th>created</th> <td>2025-05-16 16:30:25.959276+00:00</td></tr><tr><th>last_updated</th> <td>2025-07-16 17:04:34.315074+00:00</td></tr><tr><th>deployed</th> <td>True</td></tr><tr><th>workspace_id</th> <td>1671</td></tr><tr><th>workspace_name</th> <td>edge-hf-summarization</td></tr><tr><th>arch</th> <td>x86</td></tr><tr><th>accel</th> <td>none</td></tr><tr><th>tags</th> <td></td></tr><tr><th>versions</th> <td>05364bc4-3ed1-4234-9db1-f988822b1ad5, 00a6ba29-09e5-4a47-be7c-fe4b5fd49de3, b04113e5-8d48-4163-a815-5160256885b3, f4ba80ab-778a-4970-bdce-8f1d39310416, fb13126a-02a9-4b4d-8976-6b675c070e8f</td></tr><tr><th>steps</th> <td>hf-summarization</td></tr><tr><th>published</th> <td>True</td></tr></table>"
      ],
      "text/plain": [
       "{'name': 'edge-hf-summarization', 'create_time': datetime.datetime(2025, 5, 16, 16, 30, 25, 959276, tzinfo=tzutc()), 'definition': \"[{'ModelInference': {'models': [{'name': 'hf-summarization', 'version': '3467272a-55e5-480a-bbd6-9965161f0fbf', 'sha': 'ee71d066a83708e7ca4a3c07caf33fdc528bb000039b6ca2ef77fa2428dc6268'}]}}]\"}"
      ]
     },
     "execution_count": 20,
     "metadata": {},
     "output_type": "execute_result"
    }
   ],
   "source": [
    "pipeline = wl.build_pipeline(pipeline_name)\n",
    "pipeline.clear()\n",
    "pipeline.add_model_step(model)\n",
    "\n",
    "pipeline.deploy(deployment_config=deployment_config, wait_for_status=False)"
   ]
  },
  {
   "cell_type": "code",
   "execution_count": 21,
   "id": "886ad7ee-ac9e-456b-b97d-4f02580213a7",
   "metadata": {},
   "outputs": [
    {
     "data": {
      "text/plain": [
       "'Error'"
      ]
     },
     "metadata": {},
     "output_type": "display_data"
    },
    {
     "data": {
      "text/plain": [
       "'Error'"
      ]
     },
     "metadata": {},
     "output_type": "display_data"
    },
    {
     "data": {
      "text/plain": [
       "'Error'"
      ]
     },
     "metadata": {},
     "output_type": "display_data"
    },
    {
     "data": {
      "text/plain": [
       "'Starting'"
      ]
     },
     "metadata": {},
     "output_type": "display_data"
    },
    {
     "data": {
      "text/plain": [
       "'Running'"
      ]
     },
     "metadata": {},
     "output_type": "display_data"
    },
    {
     "data": {
      "text/plain": [
       "{'status': 'Running',\n",
       " 'details': [],\n",
       " 'engines': [{'ip': '10.4.1.15',\n",
       "   'name': 'engine-7b7668d5-56jhn',\n",
       "   'status': 'Running',\n",
       "   'reason': None,\n",
       "   'details': [],\n",
       "   'pipeline_statuses': {'pipelines': [{'id': 'edge-hf-summarization',\n",
       "      'status': 'Running',\n",
       "      'version': '05364bc4-3ed1-4234-9db1-f988822b1ad5'}]},\n",
       "   'model_statuses': {'models': [{'model_version_id': 852,\n",
       "      'name': 'hf-summarization',\n",
       "      'sha': 'ee71d066a83708e7ca4a3c07caf33fdc528bb000039b6ca2ef77fa2428dc6268',\n",
       "      'status': 'Running',\n",
       "      'version': '3467272a-55e5-480a-bbd6-9965161f0fbf'}]}}],\n",
       " 'engine_lbs': [{'ip': '10.4.8.10',\n",
       "   'name': 'engine-lb-648945b8b4-t7x94',\n",
       "   'status': 'Running',\n",
       "   'reason': None,\n",
       "   'details': []}],\n",
       " 'sidekicks': [{'ip': '10.4.0.3',\n",
       "   'name': 'engine-sidekick-hf-summarization-852-7fcbb74f46-rg8p7',\n",
       "   'status': 'Running',\n",
       "   'reason': None,\n",
       "   'details': [],\n",
       "   'statuses': '\\n'}]}"
      ]
     },
     "execution_count": 21,
     "metadata": {},
     "output_type": "execute_result"
    }
   ],
   "source": [
    "# check the pipeline status before performing an inference\n",
    "\n",
    "while pipeline.status()['status'] != 'Running':\n",
    "   time.sleep(15)\n",
    "   display(pipeline.status()['status'])\n",
    "\n",
    "pipeline.status()"
   ]
  },
  {
   "cell_type": "markdown",
   "id": "8f305561-adc4-4362-9b83-547815a73fa5",
   "metadata": {
    "toc-hr-collapsed": true
   },
   "source": [
    "### Run Sample Inference\n",
    "\n",
    "A single inference using sample input data is prepared below.  We'll run through it to verify the pipeline inference is working."
   ]
  },
  {
   "cell_type": "code",
   "execution_count": 22,
   "id": "063afee0-c19a-4a20-842e-b462ad3960c7",
   "metadata": {},
   "outputs": [
    {
     "data": {
      "text/html": [
       "<div>\n",
       "<style scoped>\n",
       "    .dataframe tbody tr th:only-of-type {\n",
       "        vertical-align: middle;\n",
       "    }\n",
       "\n",
       "    .dataframe tbody tr th {\n",
       "        vertical-align: top;\n",
       "    }\n",
       "\n",
       "    .dataframe thead th {\n",
       "        text-align: right;\n",
       "    }\n",
       "</style>\n",
       "<table border=\"1\" class=\"dataframe\">\n",
       "  <thead>\n",
       "    <tr style=\"text-align: right;\">\n",
       "      <th></th>\n",
       "      <th>inputs</th>\n",
       "      <th>return_text</th>\n",
       "      <th>return_tensors</th>\n",
       "      <th>clean_up_tokenization_spaces</th>\n",
       "    </tr>\n",
       "  </thead>\n",
       "  <tbody>\n",
       "    <tr>\n",
       "      <th>0</th>\n",
       "      <td>LinkedIn (/lɪŋktˈɪn/) is a business and employment-focused social media platform that works through websites and mobile apps. It launched on May 5, 2003. It is now owned by Microsoft. The platform is primarily used for professional networking and career development, and allows jobseekers to post their CVs and employers to post jobs. From 2015 most of the company's revenue came from selling access to information about its members to recruiters and sales professionals. Since December 2016, it has been a wholly owned subsidiary of Microsoft. As of March 2023, LinkedIn has more than 900 million registered members from over 200 countries and territories. LinkedIn allows members (both workers and employers) to create profiles and connect with each other in an online social network which may represent real-world professional relationships. Members can invite anyone (whether an existing member or not) to become a connection. LinkedIn can also be used to organize offline events, join groups, write articles, publish job postings, post photos and videos, and more</td>\n",
       "      <td>True</td>\n",
       "      <td>False</td>\n",
       "      <td>False</td>\n",
       "    </tr>\n",
       "  </tbody>\n",
       "</table>\n",
       "</div>"
      ],
      "text/plain": [
       "                                                                                                                                                                                                                                                                                                                                                                                                                                                                                                                                                                                                                                                                                                                                                                                                                                                                                                                                                                                                                                                                                                         inputs  \\\n",
       "0  LinkedIn (/lɪŋktˈɪn/) is a business and employment-focused social media platform that works through websites and mobile apps. It launched on May 5, 2003. It is now owned by Microsoft. The platform is primarily used for professional networking and career development, and allows jobseekers to post their CVs and employers to post jobs. From 2015 most of the company's revenue came from selling access to information about its members to recruiters and sales professionals. Since December 2016, it has been a wholly owned subsidiary of Microsoft. As of March 2023, LinkedIn has more than 900 million registered members from over 200 countries and territories. LinkedIn allows members (both workers and employers) to create profiles and connect with each other in an online social network which may represent real-world professional relationships. Members can invite anyone (whether an existing member or not) to become a connection. LinkedIn can also be used to organize offline events, join groups, write articles, publish job postings, post photos and videos, and more   \n",
       "\n",
       "   return_text  return_tensors  clean_up_tokenization_spaces  \n",
       "0         True           False                         False  "
      ]
     },
     "execution_count": 22,
     "metadata": {},
     "output_type": "execute_result"
    }
   ],
   "source": [
    "input_data = {\n",
    "        \"inputs\": [\"LinkedIn (/lɪŋktˈɪn/) is a business and employment-focused social media platform that works through websites and mobile apps. It launched on May 5, 2003. It is now owned by Microsoft. The platform is primarily used for professional networking and career development, and allows jobseekers to post their CVs and employers to post jobs. From 2015 most of the company's revenue came from selling access to information about its members to recruiters and sales professionals. Since December 2016, it has been a wholly owned subsidiary of Microsoft. As of March 2023, LinkedIn has more than 900 million registered members from over 200 countries and territories. LinkedIn allows members (both workers and employers) to create profiles and connect with each other in an online social network which may represent real-world professional relationships. Members can invite anyone (whether an existing member or not) to become a connection. LinkedIn can also be used to organize offline events, join groups, write articles, publish job postings, post photos and videos, and more\"], # required\n",
    "        \"return_text\": [True], # optional: using the defaults, similar to not passing this parameter\n",
    "        \"return_tensors\": [False], # optional: using the defaults, similar to not passing this parameter\n",
    "        \"clean_up_tokenization_spaces\": [False], # optional: using the defaults, similar to not passing this parameter\n",
    "}\n",
    "dataframe = pd.DataFrame(input_data)\n",
    "dataframe"
   ]
  },
  {
   "cell_type": "code",
   "execution_count": 23,
   "id": "8e40a058",
   "metadata": {},
   "outputs": [],
   "source": [
    "deploy_url = pipeline._deployment._url()\n",
    "\n",
    "headers = wl.auth.auth_header()\n",
    "\n",
    "headers['Content-Type']='application/json; format=pandas-records'\n",
    "# headers['Content-Type']='application/json; format=pandas-records'\n",
    "headers['Accept']='application/json; format=pandas-records'\n",
    "\n",
    "dataFile = './data/test_summarization.df.json'"
   ]
  },
  {
   "cell_type": "code",
   "execution_count": 24,
   "id": "1c17135b",
   "metadata": {},
   "outputs": [
    {
     "name": "stdout",
     "output_type": "stream",
     "text": [
      "[{\"time\":1752685799791,\"in\":{\"clean_up_tokenization_spaces\":false,\"inputs\":\"LinkedIn (/lɪŋktˈɪn/) is a business and employment-focused social media platform that works through websites and mobile apps. It launched on May 5, 2003. It is now owned by Microsoft. The platform is primarily used for professional networking and career development, and allows jobseekers to post their CVs and employers to post jobs. From 2015 most of the company's revenue came from selling access to information about its members to recruiters and sales professionals. Since December 2016, it has been a wholly owned subsidiary of Microsoft. As of March 2023, LinkedIn has more than 900 million registered members from over 200 countries and territories. LinkedIn allows members (both workers and employers) to create profiles and connect with each other in an online social network which may represent real-world professional relationships. Members can invite anyone (whether an existing member or not) to become a connection. LinkedIn can also be used to organize offline events, join groups, write articles, publish job postings, post photos and videos, and more\",\"return_tensors\":false,\"return_text\":true},\"out\":{\"summary_text\":\"LinkedIn is a business and employment-focused social media platform that works through websites and mobile apps. It launched on May 5, 2003. LinkedIn allows members (both workers and employers) to create profiles and connect with each other in an online social network which may represent real-world professional relationships.\"},\"anomaly\":{\"count\":0},\"metadata\":{\"last_model\":\"{\\\"model_name\\\":\\\"hf-summarization\\\",\\\"model_sha\\\":\\\"ee71d066a83708e7ca4a3c07caf33fdc528bb000039b6ca2ef77fa2428dc6268\\\"}\",\"pipeline_version\":\"05364bc4-3ed1-4234-9db1-f988822b1ad5\",\"elapsed\":[236333,5972111081],\"dropped\":[],\"partition\":\"engine-7b7668d5-56jhn\"}}]"
     ]
    }
   ],
   "source": [
    "!curl -X POST {deploy_url} \\\n",
    "     -H \"Authorization:{headers['Authorization']}\" \\\n",
    "     -H \"Content-Type:{headers['Content-Type']}\" \\\n",
    "     -H \"Accept:{headers['Accept']}\" \\\n",
    "     --data-binary @{dataFile}"
   ]
  },
  {
   "cell_type": "markdown",
   "id": "10efccd7-fd4a-4628-907c-e5d84397ea1c",
   "metadata": {},
   "source": [
    "### Undeploy the Pipeline\n",
    "\n",
    "Just to clear up resources, we'll undeploy the pipeline."
   ]
  },
  {
   "cell_type": "code",
   "execution_count": 25,
   "id": "31ad18bb-bc94-49e9-a0e0-c23dda71b3c2",
   "metadata": {},
   "outputs": [
    {
     "data": {
      "text/html": [
       "<table><tr><th>name</th> <td>edge-hf-summarization</td></tr><tr><th>created</th> <td>2025-05-16 16:30:25.959276+00:00</td></tr><tr><th>last_updated</th> <td>2025-07-16 17:04:34.315074+00:00</td></tr><tr><th>deployed</th> <td>False</td></tr><tr><th>workspace_id</th> <td>1671</td></tr><tr><th>workspace_name</th> <td>edge-hf-summarization</td></tr><tr><th>arch</th> <td>x86</td></tr><tr><th>accel</th> <td>none</td></tr><tr><th>tags</th> <td></td></tr><tr><th>versions</th> <td>05364bc4-3ed1-4234-9db1-f988822b1ad5, 00a6ba29-09e5-4a47-be7c-fe4b5fd49de3, b04113e5-8d48-4163-a815-5160256885b3, f4ba80ab-778a-4970-bdce-8f1d39310416, fb13126a-02a9-4b4d-8976-6b675c070e8f</td></tr><tr><th>steps</th> <td>hf-summarization</td></tr><tr><th>published</th> <td>True</td></tr></table>"
      ],
      "text/plain": [
       "{'name': 'edge-hf-summarization', 'create_time': datetime.datetime(2025, 5, 16, 16, 30, 25, 959276, tzinfo=tzutc()), 'definition': \"[{'ModelInference': {'models': [{'name': 'hf-summarization', 'version': '3467272a-55e5-480a-bbd6-9965161f0fbf', 'sha': 'ee71d066a83708e7ca4a3c07caf33fdc528bb000039b6ca2ef77fa2428dc6268'}]}}]\"}"
      ]
     },
     "execution_count": 25,
     "metadata": {},
     "output_type": "execute_result"
    }
   ],
   "source": [
    "pipeline.undeploy()"
   ]
  },
  {
   "cell_type": "markdown",
   "id": "f55f8d2a-9182-4040-a61c-77a643907657",
   "metadata": {},
   "source": [
    "### Publish the Pipeline for Edge Deployment\n",
    "\n",
    "It worked! For a demo, we'll take working once as \"tested\". So now that we've tested our pipeline, we are ready to publish it for edge deployment.\n",
    "\n",
    "Publishing it means assembling all of the configuration files and model assets and pushing them to an Open Container Initiative (OCI) repository set in the Wallaroo instance as the Edge Registry service.  DevOps engineers then retrieve that image and deploy it through Docker, Kubernetes, or similar deployments.\n",
    "\n",
    "See [Edge Deployment Registry Guide](https://docs.wallaroo.ai/wallaroo-platform-operations/wallaroo-platform-operations-configure/wallaroo-edge-deployment/) for details on adding an OCI Registry Service to Wallaroo as the Edge Deployment Registry.\n",
    "\n",
    "This is done through the SDK command `wallaroo.pipeline.publish(deployment_config)`.\n",
    "\n",
    "### Publish Example\n",
    "\n",
    "We will now publish the pipeline to our Edge Deployment Registry with the `pipeline.publish(deployment_config)` command.  `deployment_config` is an optional field that specifies the pipeline deployment.  This can be overridden by the DevOps engineer during deployment."
   ]
  },
  {
   "cell_type": "code",
   "execution_count": 26,
   "id": "ea05b884-a46e-418b-bf20-167f3a627000",
   "metadata": {},
   "outputs": [
    {
     "name": "stdout",
     "output_type": "stream",
     "text": [
      "Waiting for pipeline publish... It may take up to 600 sec.\n",
      "Pipeline is publishing............................ Published.\n"
     ]
    },
    {
     "data": {
      "text/html": [
       "\n",
       "          <table>\n",
       "              <tr><td>ID</td><td>110</td></tr>\n",
       "              <tr><td>Pipeline Name</td><td>edge-hf-summarization</td></tr>\n",
       "              <tr><td>Pipeline Version</td><td>35b4ff87-a0ae-4c63-8766-7c20f9123cd0</td></tr>\n",
       "              <tr><td>Status</td><td>Published</td></tr>\n",
       "              <tr><td>Workspace Id</td><td>1671</td></tr>\n",
       "              <tr><td>Workspace Name</td><td>edge-hf-summarization</td></tr>\n",
       "              <tr><td>Edges</td><td></td></tr>\n",
       "              <tr><td>Engine URL</td><td><a href='https://us-central1-docker.pkg.dev/wallaroo-dev-253816/uat/engines/proxy/wallaroo/ghcr.io/wallaroolabs/fitzroy-mini:v2025.1.0-6245'>us-central1-docker.pkg.dev/wallaroo-dev-253816/uat/engines/proxy/wallaroo/ghcr.io/wallaroolabs/fitzroy-mini:v2025.1.0-6245</a></td></tr>\n",
       "              <tr><td>Pipeline URL</td><td><a href='https://us-central1-docker.pkg.dev/wallaroo-dev-253816/uat/pipelines/edge-hf-summarization:35b4ff87-a0ae-4c63-8766-7c20f9123cd0'>us-central1-docker.pkg.dev/wallaroo-dev-253816/uat/pipelines/edge-hf-summarization:35b4ff87-a0ae-4c63-8766-7c20f9123cd0</a></td></tr>\n",
       "              <tr><td>Helm Chart URL</td><td>oci://<a href='https://us-central1-docker.pkg.dev/wallaroo-dev-253816/uat/charts/edge-hf-summarization'>us-central1-docker.pkg.dev/wallaroo-dev-253816/uat/charts/edge-hf-summarization</a></td></tr>\n",
       "              <tr><td>Helm Chart Reference</td><td>us-central1-docker.pkg.dev/wallaroo-dev-253816/uat/charts@sha256:955d1b818df76281565899b5fcd19c0ad5a218c49aff915ce570bce9bc164d6e</td></tr>\n",
       "              <tr><td>Helm Chart Version</td><td>0.0.1-35b4ff87-a0ae-4c63-8766-7c20f9123cd0</td></tr>\n",
       "              <tr><td>Engine Config</td><td>{'engine': {'resources': {'limits': {'cpu': 0.25, 'memory': '1Gi'}, 'requests': {'cpu': 0.25, 'memory': '1Gi'}, 'accel': 'none', 'arch': 'x86', 'gpu': False}}, 'engineAux': {'autoscale': {'type': 'none', 'cpu_utilization': 50.0}, 'images': {'hf-summarization-852': {'resources': {'limits': {'cpu': 4.0, 'memory': '8Gi'}, 'requests': {'cpu': 4.0, 'memory': '8Gi'}, 'accel': 'none', 'arch': 'x86', 'gpu': False}}}}}</td></tr>\n",
       "              <tr><td>User Images</td><td>[]</td></tr>\n",
       "              <tr><td>Created By</td><td>john.hummel@wallaroo.ai</td></tr>\n",
       "              <tr><td>Created At</td><td>2025-07-16 17:10:47.020423+00:00</td></tr>\n",
       "              <tr><td>Updated At</td><td>2025-07-16 17:10:47.020423+00:00</td></tr>\n",
       "              <tr><td>Replaces</td><td></td></tr>\n",
       "              <tr>\n",
       "                  <td>Docker Run Command</td>\n",
       "                  <td>\n",
       "                      <table><tr><td>\n",
       "<pre style=\"text-align: left\">docker run \\\n",
       "    -p $EDGE_PORT:8080 \\\n",
       "    -e OCI_USERNAME=$OCI_USERNAME \\\n",
       "    -e OCI_PASSWORD=$OCI_PASSWORD \\\n",
       "    -e PIPELINE_URL=us-central1-docker.pkg.dev/wallaroo-dev-253816/uat/pipelines/edge-hf-summarization:35b4ff87-a0ae-4c63-8766-7c20f9123cd0 \\\n",
       "    -e CONFIG_CPUS=1.0 --cpus=4.25 --memory=9g \\\n",
       "    us-central1-docker.pkg.dev/wallaroo-dev-253816/uat/engines/proxy/wallaroo/ghcr.io/wallaroolabs/fitzroy-mini:v2025.1.0-6245</pre></td></tr></table>\n",
       "                      <br />\n",
       "                      <i>\n",
       "                          Note: Please set the <code>EDGE_PORT</code>, <code>OCI_USERNAME</code>, and <code>OCI_PASSWORD</code> environment variables.\n",
       "                      </i>\n",
       "                  </td>\n",
       "              </tr>\n",
       "              <tr>\n",
       "                  <td>Podman Run Command</td>\n",
       "                  <td>\n",
       "                      <table><tr><td>\n",
       "<pre style=\"text-align: left\">podman run \\\n",
       "    -p $EDGE_PORT:8080 \\\n",
       "    -e OCI_USERNAME=$OCI_USERNAME \\\n",
       "    -e OCI_PASSWORD=$OCI_PASSWORD \\\n",
       "    -e PIPELINE_URL=us-central1-docker.pkg.dev/wallaroo-dev-253816/uat/pipelines/edge-hf-summarization:35b4ff87-a0ae-4c63-8766-7c20f9123cd0 \\\n",
       "    -e CONFIG_CPUS=1.0 --cpus=4.25 --memory=9g \\\n",
       "    us-central1-docker.pkg.dev/wallaroo-dev-253816/uat/engines/proxy/wallaroo/ghcr.io/wallaroolabs/fitzroy-mini:v2025.1.0-6245</pre></td></tr></table>\n",
       "                      <br />\n",
       "                      <i>\n",
       "                          Note: Please set the <code>EDGE_PORT</code>, <code>OCI_USERNAME</code>, and <code>OCI_PASSWORD</code> environment variables.\n",
       "                      </i>\n",
       "                  </td>\n",
       "              </tr>\n",
       "              <tr>\n",
       "                  <td>Helm Install Command</td>\n",
       "                  <td>\n",
       "                      <table><tr><td>\n",
       "<pre style=\"text-align: left\">helm install --atomic $HELM_INSTALL_NAME \\\n",
       "    oci://us-central1-docker.pkg.dev/wallaroo-dev-253816/uat/charts/edge-hf-summarization \\\n",
       "    --namespace $HELM_INSTALL_NAMESPACE \\\n",
       "    --version 0.0.1-35b4ff87-a0ae-4c63-8766-7c20f9123cd0 \\\n",
       "    --set ociRegistry.username=$OCI_USERNAME \\\n",
       "    --set ociRegistry.password=$OCI_PASSWORD</pre></td></tr></table>\n",
       "                      <br />\n",
       "                      <i>\n",
       "                          Note: Please set the <code>HELM_INSTALL_NAME</code>, <code>HELM_INSTALL_NAMESPACE</code>,\n",
       "                          <code>OCI_USERNAME</code>, and <code>OCI_PASSWORD</code> environment variables.\n",
       "                      </i>\n",
       "                  </td>\n",
       "              </tr>\n",
       "              \n",
       "          </table>\n",
       "        "
      ],
      "text/plain": [
       "PipelinePublish(created_at=datetime.datetime(2025, 7, 16, 17, 10, 47, 20423, tzinfo=tzutc()), docker_run_variables={'PIPELINE_URL': 'us-central1-docker.pkg.dev/wallaroo-dev-253816/uat/pipelines/edge-hf-summarization:35b4ff87-a0ae-4c63-8766-7c20f9123cd0'}, engine_config={'engine': {'resources': {'limits': {'cpu': 0.25, 'memory': '1Gi'}, 'requests': {'cpu': 0.25, 'memory': '1Gi'}, 'accel': 'none', 'arch': 'x86', 'gpu': False}}, 'engineAux': {'autoscale': {'type': 'none', 'cpu_utilization': 50.0}, 'images': {'hf-summarization-852': {'resources': {'limits': {'cpu': 4.0, 'memory': '8Gi'}, 'requests': {'cpu': 4.0, 'memory': '8Gi'}, 'accel': 'none', 'arch': 'x86', 'gpu': False}}}}}, id=110, pipeline_name='edge-hf-summarization', pipeline_version_id=1975, replaces=[], status='Published', updated_at=datetime.datetime(2025, 7, 16, 17, 10, 47, 20423, tzinfo=tzutc()), user_images=[], created_by='7d603858-88e0-472e-8f71-e41094afd7ec', created_on_version='2025.1.2', edge_bundles=<wallaroo.wallaroo_ml_ops_api_client.types.Unset object at 0x16365f040>, engine_url='us-central1-docker.pkg.dev/wallaroo-dev-253816/uat/engines/proxy/wallaroo/ghcr.io/wallaroolabs/fitzroy-mini:v2025.1.0-6245', error=None, helm={'reference': 'us-central1-docker.pkg.dev/wallaroo-dev-253816/uat/charts@sha256:955d1b818df76281565899b5fcd19c0ad5a218c49aff915ce570bce9bc164d6e', 'values': {}, 'chart': 'us-central1-docker.pkg.dev/wallaroo-dev-253816/uat/charts/edge-hf-summarization', 'version': '0.0.1-35b4ff87-a0ae-4c63-8766-7c20f9123cd0'}, pipeline_url='us-central1-docker.pkg.dev/wallaroo-dev-253816/uat/pipelines/edge-hf-summarization:35b4ff87-a0ae-4c63-8766-7c20f9123cd0', pipeline_version_name='35b4ff87-a0ae-4c63-8766-7c20f9123cd0', workspace_id=1671, workspace_name='edge-hf-summarization', additional_properties={})"
      ]
     },
     "execution_count": 26,
     "metadata": {},
     "output_type": "execute_result"
    }
   ],
   "source": [
    "## This may still show an error status despite but if both containers show running it should be good to go\n",
    "pipeline.publish(deployment_config)"
   ]
  },
  {
   "cell_type": "markdown",
   "id": "d2ed29f8",
   "metadata": {},
   "source": [
    "### List Published Pipeline\n",
    "\n",
    "The method `wallaroo.client.list_pipelines()` shows a list of all pipelines in the Wallaroo instance, and includes the `published` field that indicates whether the pipeline was published to the registry (`True`), or has not yet been published (`False`)."
   ]
  },
  {
   "cell_type": "code",
   "execution_count": 27,
   "id": "a6cd3ae5",
   "metadata": {},
   "outputs": [
    {
     "data": {
      "text/html": [
       "<table><tr><th>name</th><th>created</th><th>last_updated</th><th>deployed</th><th>workspace_id</th><th>workspace_name</th><th>arch</th><th>accel</th><th>tags</th><th>versions</th><th>steps</th><th>published</th></tr><tr><td>edge-hf-summarization</td><td>2025-16-May 16:30:25</td><td>2025-16-Jul 17:10:45</td><td>False</td><td>1671</td><td>edge-hf-summarization</td><td>x86</td><td>none</td><td></td><td>35b4ff87-a0ae-4c63-8766-7c20f9123cd0, 05364bc4-3ed1-4234-9db1-f988822b1ad5, 00a6ba29-09e5-4a47-be7c-fe4b5fd49de3, b04113e5-8d48-4163-a815-5160256885b3, f4ba80ab-778a-4970-bdce-8f1d39310416, fb13126a-02a9-4b4d-8976-6b675c070e8f</td><td>hf-summarization</td><td>True</td></tr></table>"
      ],
      "text/plain": [
       "[{'name': 'edge-hf-summarization', 'create_time': datetime.datetime(2025, 5, 16, 16, 30, 25, 959276, tzinfo=tzutc()), 'definition': '[]'}]"
      ]
     },
     "execution_count": 27,
     "metadata": {},
     "output_type": "execute_result"
    }
   ],
   "source": [
    "wl.list_pipelines(workspace_name=workspace_name)"
   ]
  },
  {
   "cell_type": "markdown",
   "id": "e707e02b",
   "metadata": {},
   "source": [
    "### List Publishes from a Pipeline\n",
    "\n",
    "All publishes created from a pipeline are displayed with the `wallaroo.pipeline.publishes` method.  The `pipeline_version_id` is used to know what version of the pipeline was used in that specific publish.  This allows for pipelines to be updated over time, and newer versions to be sent and tracked to the Edge Deployment Registry service.\n",
    "\n",
    "#### List Publishes Parameters\n",
    "\n",
    "N/A\n",
    "\n",
    "#### List Publishes Returns\n",
    "\n",
    "A List of the following fields:\n",
    "\n",
    "| Field | Type | Description |\n",
    "|---|---|---|\n",
    "| id | integer | Numerical Wallaroo id of the published pipeline. |\n",
    "| pipeline_version_id | integer | Numerical Wallaroo id of the pipeline version published. |\n",
    "| engine_url | string | The URL of the published pipeline engine in the edge registry. |\n",
    "| pipeline_url | string | The URL of the published pipeline in the edge registry. |\n",
    "| created_by | string | The email address of the user that published the pipeline.\n",
    "| Created At | DateTime | When the published pipeline was created. |\n",
    "| Updated At | DateTime | When the published pipeline was updated. |"
   ]
  },
  {
   "cell_type": "code",
   "execution_count": 28,
   "id": "7d006cbd",
   "metadata": {},
   "outputs": [
    {
     "data": {
      "text/html": [
       "<table><tr><th>id</th><th>Pipeline Name</th><th>Pipeline Version</th><th>Workspace Id</th><th>Workspace Name</th><th>Edges</th><th>Engine URL</th><th>Pipeline URL</th><th>Created By</th><th>Created At</th><th>Updated At</th></tr><tr><td>53</td><td>edge-hf-summarization</td><td>b04113e5-8d48-4163-a815-5160256885b3</td><td>1671</td><td>edge-hf-summarization</td><td></td><td><a href='https://us-central1-docker.pkg.dev/wallaroo-dev-253816/uat/engines/proxy/wallaroo/ghcr.io/wallaroolabs/fitzroy-mini:v2025.1.0-main-6139'>us-central1-docker.pkg.dev/wallaroo-dev-253816/uat/engines/proxy/wallaroo/ghcr.io/wallaroolabs/fitzroy-mini:v2025.1.0-main-6139</a></td><td><a href='https://us-central1-docker.pkg.dev/wallaroo-dev-253816/uat/pipelines/edge-hf-summarization:b04113e5-8d48-4163-a815-5160256885b3'>us-central1-docker.pkg.dev/wallaroo-dev-253816/uat/pipelines/edge-hf-summarization:b04113e5-8d48-4163-a815-5160256885b3</a></td><td>john.hummel@wallaroo.ai</td><td>2025-16-May 16:36:48</td><td>2025-16-May 16:36:48</td></tr><tr><td>110</td><td>edge-hf-summarization</td><td>35b4ff87-a0ae-4c63-8766-7c20f9123cd0</td><td>1671</td><td>edge-hf-summarization</td><td></td><td><a href='https://us-central1-docker.pkg.dev/wallaroo-dev-253816/uat/engines/proxy/wallaroo/ghcr.io/wallaroolabs/fitzroy-mini:v2025.1.0-6245'>us-central1-docker.pkg.dev/wallaroo-dev-253816/uat/engines/proxy/wallaroo/ghcr.io/wallaroolabs/fitzroy-mini:v2025.1.0-6245</a></td><td><a href='https://us-central1-docker.pkg.dev/wallaroo-dev-253816/uat/pipelines/edge-hf-summarization:35b4ff87-a0ae-4c63-8766-7c20f9123cd0'>us-central1-docker.pkg.dev/wallaroo-dev-253816/uat/pipelines/edge-hf-summarization:35b4ff87-a0ae-4c63-8766-7c20f9123cd0</a></td><td>john.hummel@wallaroo.ai</td><td>2025-16-Jul 17:10:47</td><td>2025-16-Jul 17:10:47</td></tr></table>"
      ],
      "text/plain": [
       "[PipelinePublish(created_at=datetime.datetime(2025, 5, 16, 16, 36, 48, 65704, tzinfo=tzutc()), docker_run_variables={}, engine_config={'engine': {'resources': {'limits': {'cpu': 0.25, 'memory': '1Gi'}, 'requests': {'cpu': 0.25, 'memory': '1Gi'}, 'arch': 'x86', 'accel': 'none', 'gpu': False}}, 'engineAux': {'images': {'hf-summarization-700': {'resources': {'limits': {'cpu': 4.0, 'memory': '8Gi'}, 'requests': {'cpu': 4.0, 'memory': '8Gi'}, 'arch': 'x86', 'accel': 'none', 'gpu': False}}}, 'autoscale': {'type': 'none', 'cpu_utilization': 50.0}}}, id=53, pipeline_name='edge-hf-summarization', pipeline_version_id=1483, replaces=[], status='Published', updated_at=datetime.datetime(2025, 5, 16, 16, 36, 48, 65704, tzinfo=tzutc()), user_images=[], created_by='7d603858-88e0-472e-8f71-e41094afd7ec', created_on_version='2025.1.0', edge_bundles=<wallaroo.wallaroo_ml_ops_api_client.types.Unset object at 0x16365f040>, engine_url='us-central1-docker.pkg.dev/wallaroo-dev-253816/uat/engines/proxy/wallaroo/ghcr.io/wallaroolabs/fitzroy-mini:v2025.1.0-main-6139', error=None, helm={'reference': 'us-central1-docker.pkg.dev/wallaroo-dev-253816/uat/charts@sha256:1f56b045abeb354b75f1cc9a84cddfe05d4c8f3b1ca4ffcb530d47420de68048', 'chart': 'us-central1-docker.pkg.dev/wallaroo-dev-253816/uat/charts/edge-hf-summarization', 'version': '0.0.1-b04113e5-8d48-4163-a815-5160256885b3', 'values': {}}, pipeline_url='us-central1-docker.pkg.dev/wallaroo-dev-253816/uat/pipelines/edge-hf-summarization:b04113e5-8d48-4163-a815-5160256885b3', pipeline_version_name='b04113e5-8d48-4163-a815-5160256885b3', workspace_id=1671, workspace_name='edge-hf-summarization', additional_properties={}),\n",
       " PipelinePublish(created_at=datetime.datetime(2025, 7, 16, 17, 10, 47, 20423, tzinfo=tzutc()), docker_run_variables={}, engine_config={'engine': {'resources': {'limits': {'cpu': 0.25, 'memory': '1Gi'}, 'requests': {'cpu': 0.25, 'memory': '1Gi'}, 'arch': 'x86', 'accel': 'none', 'gpu': False}}, 'engineAux': {'images': {'hf-summarization-852': {'resources': {'limits': {'cpu': 4.0, 'memory': '8Gi'}, 'requests': {'cpu': 4.0, 'memory': '8Gi'}, 'arch': 'x86', 'accel': 'none', 'gpu': False}}}, 'autoscale': {'type': 'none', 'cpu_utilization': 50.0}}}, id=110, pipeline_name='edge-hf-summarization', pipeline_version_id=1975, replaces=[], status='Published', updated_at=datetime.datetime(2025, 7, 16, 17, 10, 47, 20423, tzinfo=tzutc()), user_images=[], created_by='7d603858-88e0-472e-8f71-e41094afd7ec', created_on_version='2025.1.2', edge_bundles=<wallaroo.wallaroo_ml_ops_api_client.types.Unset object at 0x16365f040>, engine_url='us-central1-docker.pkg.dev/wallaroo-dev-253816/uat/engines/proxy/wallaroo/ghcr.io/wallaroolabs/fitzroy-mini:v2025.1.0-6245', error=None, helm={'reference': 'us-central1-docker.pkg.dev/wallaroo-dev-253816/uat/charts@sha256:955d1b818df76281565899b5fcd19c0ad5a218c49aff915ce570bce9bc164d6e', 'chart': 'us-central1-docker.pkg.dev/wallaroo-dev-253816/uat/charts/edge-hf-summarization', 'version': '0.0.1-35b4ff87-a0ae-4c63-8766-7c20f9123cd0', 'values': {}}, pipeline_url='us-central1-docker.pkg.dev/wallaroo-dev-253816/uat/pipelines/edge-hf-summarization:35b4ff87-a0ae-4c63-8766-7c20f9123cd0', pipeline_version_name='35b4ff87-a0ae-4c63-8766-7c20f9123cd0', workspace_id=1671, workspace_name='edge-hf-summarization', additional_properties={})]"
      ]
     },
     "execution_count": 28,
     "metadata": {},
     "output_type": "execute_result"
    }
   ],
   "source": [
    "pipeline.publishes()"
   ]
  },
  {
   "cell_type": "markdown",
   "id": "56ac1656",
   "metadata": {},
   "source": [
    "## DevOps - Pipeline Edge Deployment\n",
    "\n",
    "Once a pipeline is deployed to the Edge Registry service, it can be deployed in environments such as Docker, Kubernetes, or similar container running services by a DevOps engineer.  For our example, we will use the `docker run` command output during the pipeline publish."
   ]
  },
  {
   "cell_type": "markdown",
   "id": "5a1d4e70",
   "metadata": {},
   "source": [
    "## Edge Deployed Pipeline API Endpoints\n",
    "\n",
    "Once deployed, we can check the pipelines and models available.  We'll use a `curl` command, but any HTTP based request will work the same way.\n",
    "\n",
    "The endpoint `/pipelines` returns:\n",
    "\n",
    "* **id** (*String*):  The name of the pipeline.\n",
    "* **status** (*String*):  The status as either `Running`, or `Error` if there are any issues.\n",
    "\n",
    "```bash\n",
    "curl localhost:8080/pipelines\n",
    "{\"pipelines\":[{\"id\":\"edge-cv-retail\",\"status\":\"Running\"}]}\n",
    "```"
   ]
  },
  {
   "cell_type": "code",
   "execution_count": 2,
   "id": "d6905d4d",
   "metadata": {},
   "outputs": [
    {
     "name": "stdout",
     "output_type": "stream",
     "text": [
      "{\"pipelines\":[{\"id\":\"edge-hf-summarization\",\"status\":\"Running\"}]}"
     ]
    }
   ],
   "source": [
    "!curl testboy.local:8080/pipelines"
   ]
  },
  {
   "cell_type": "markdown",
   "id": "531263b6",
   "metadata": {},
   "source": [
    "The endpoint `/models` returns a List of models with the following fields:\n",
    "\n",
    "* **name** (*String*): The model name.\n",
    "* **sha** (*String*): The sha hash value of the ML model.\n",
    "* **status** (*String*):  The status of either Running or Error if there are any issues.\n",
    "* **version** (*String*):  The model version.  This matches the version designation used by Wallaroo to track model versions in UUID format.\n",
    "\n",
    "```bash\n",
    "curl localhost:8080/models\n",
    "{\"models\":[{\"name\":\"resnet-50\",\"sha\":\"c6c8869645962e7711132a7e17aced2ac0f60dcdc2c7faa79b2de73847a87984\",\"status\":\"Running\",\"version\":\"693e19b5-0dc7-4afb-9922-e3f7feefe66d\"}]}\n",
    "```"
   ]
  },
  {
   "cell_type": "code",
   "execution_count": 3,
   "id": "41eee91e",
   "metadata": {},
   "outputs": [
    {
     "name": "stdout",
     "output_type": "stream",
     "text": [
      "{\"models\":[{\"name\":\"hf-summarization\",\"version\":\"add06bd2-054e-4562-b25e-ee692c6e472c\",\"sha\":\"ee71d066a83708e7ca4a3c07caf33fdc528bb000039b6ca2ef77fa2428dc6268\",\"status\":\"Running\"}]}"
     ]
    }
   ],
   "source": [
    "!curl testboy.local:8080/models"
   ]
  },
  {
   "cell_type": "markdown",
   "id": "bfc0d498",
   "metadata": {},
   "source": [
    "### Edge Inference Endpoint\n",
    "\n",
    "The inference endpoint takes the following pattern:\n",
    "\n",
    "* `/pipelines/infer`\n",
    "\n",
    "Wallaroo inference endpoint URLs accept the following data inputs through the `Content-Type` header:\n",
    "\n",
    "* `Content-Type: application/vnd.apache.arrow.file`: For Apache Arrow tables.\n",
    "* `Content-Type: application/json; format=pandas-records`: For pandas DataFrame in record format.\n",
    "\n",
    "Once deployed, we can perform an inference through the deployment URL.\n",
    "\n",
    "The endpoint returns `Content-Type: application/json; format=pandas-records` by default with the following fields:\n",
    "\n",
    "* **check_failures** (*List[Integer]*): Whether any validation checks were triggered.  For more information, see [Wallaroo SDK Essentials Guide: Pipeline Management: Anomaly Testing](https://docs.wallaroo.ai/wallaroo-developer-guides/wallaroo-sdk-guides/wallaroo-sdk-essentials-guide/wallaroo-sdk-essentials-pipelines/wallaroo-sdk-essentials-pipeline/#anomaly-testing).\n",
    "* **elapsed** (*List[Integer]*): A list of time in nanoseconds for:\n",
    "  * [0] The time to serialize the input.\n",
    "  * [1...n] How long each step took.\n",
    "* **model_name** (*String*): The name of the model used.\n",
    "* **model_version** (*String*): The version of the model in UUID format.\n",
    "* **original_data**: The original input data.  Returns `null` if the input may be too long for a proper return.\n",
    "* **outputs** (*List*): The outputs of the inference result separated by data type, where each data type includes:\n",
    "  * **data**: The returned values.\n",
    "  * **dim** (*List[Integer]*): The dimension shape returned.\n",
    "  * **v** (*Integer*): The vector shape of the data.\n",
    "* **pipeline_name**  (*String*): The name of the pipeline.\n",
    "* **shadow_data**: Any shadow deployed data inferences in the same format as **outputs**.\n",
    "* **time** (*Integer*): The time since UNIX epoch."
   ]
  },
  {
   "cell_type": "code",
   "execution_count": 12,
   "id": "66e92baa",
   "metadata": {},
   "outputs": [
    {
     "data": {
      "text/plain": [
       "'LinkedIn is a business and employment-focused social media platform that works through websites and mobile apps. It launched on May 5, 2003. LinkedIn allows members (both workers and employers) to create profiles and connect with each other in an online social network which may represent real-world professional relationships.'"
      ]
     },
     "metadata": {},
     "output_type": "display_data"
    }
   ],
   "source": [
    "import json\n",
    "import requests\n",
    "import pandas as pd\n",
    "\n",
    "# set the content type and accept headers\n",
    "headers = {\n",
    "    'Content-Type': 'application/json; format=pandas-records'\n",
    "}\n",
    "\n",
    "# Submit arrow file\n",
    "dataFile=\"./data/test_summarization.df.json\"\n",
    "\n",
    "data = json.load(open(dataFile))\n",
    "\n",
    "host = 'http://testboy.local:8080'\n",
    "\n",
    "deployurl = f'{host}/infer'\n",
    "\n",
    "response = requests.post(\n",
    "                    deployurl, \n",
    "                    headers=headers, \n",
    "                    json=data, \n",
    "                    verify=True\n",
    "                )\n",
    "\n",
    "# display(response)\n",
    "display(pd.DataFrame(response.json()).loc[0, ['outputs']][0][0]['String']['data'][0])\n"
   ]
  }
 ],
 "metadata": {
  "kernelspec": {
   "display_name": "wallaroosdk2025.1.2",
   "language": "python",
   "name": "python3"
  },
  "language_info": {
   "codemirror_mode": {
    "name": "ipython",
    "version": 3
   },
   "file_extension": ".py",
   "mimetype": "text/x-python",
   "name": "python",
   "nbconvert_exporter": "python",
   "pygments_lexer": "ipython3",
   "version": "3.10.18"
  }
 },
 "nbformat": 4,
 "nbformat_minor": 5
}
