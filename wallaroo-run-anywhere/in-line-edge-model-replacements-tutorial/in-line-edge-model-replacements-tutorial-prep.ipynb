{
 "cells": [
  {
   "cell_type": "markdown",
   "metadata": {},
   "source": [
    "This tutorial and the assets can be downloaded as part of the [Wallaroo Tutorials repository](https://github.com/WallarooLabs/Wallaroo_Tutorials/blob/wallaroo2024.1_tutorials/wallaroo-observe-tutorials/edge-observability-assays).\n",
    "\n",
    "##  In-Line Model Updates at the Edge Tutorial: Preparation\n",
    "\n",
    "Models published through Wallaroo to an OCI Registry, then deployed on edge devices, are able to perform in-line updates of the model.  These include:\n",
    "\n",
    "* Updating a pipeline model step and replace the published pipeline version with the new one:  In this example, a model step is replace by a new model in a pipeline with an edge location already assigned to the pipeline.  The inference logs and other data remains part of the pipeline, though the input and output schemas may change depending on the model.\n",
    "* Create a new pipeline with a new publish, and replace another pipeline's edge location publish.  The location is transferred to the new pipeline, while the inference logs for the edge location are now added to the new pipeline.  The old inference results are stored in the original pipeline.\n",
    "\n",
    "* **IMPORTANT NOTE**:  Assays and other log data is based on the pipeline and model name.  If these values change, assays that are currently running will no longer generate analyses.  These should be paused, and new assays based on the current pipeline and model name should be created.  For more information, see [Model Drift Detection with Model Insights](https://staging.docs.wallaroo.ai/wallaroo-model-operations/wallaroo-model-operations-observe/wallaroo-pipeline-assays/). \n",
    "\n",
    "## Goal\n",
    "\n",
    "* Package a model in Wallaroo and perform sample inferences.  Publish the pipeline and create an edge location, then deploy the model to an edge location.\n",
    "* Perform sample inferences on the edge location and verify the inference logs are added to the pipeline associated with the edge location.\n",
    "* Create a new pipeline version with a new model step and perform sample inferences.  Update the publish with the new pipeline version, and verify that the model is deployed to the edge location deployment.\n",
    "* Perform sample inferences on the edge location to verify the new model is being used, and verify the inference logs are added to the pipeline associated with the edge location.\n",
    "* Create a new pipeline with a different model and perform sample inferences.  Publish the pipeline, then replace the publish used for the edge location.  Verify that the edge location is transferred to the new pipeline.\n",
    "* Perform sample inferences on the edge location to verify model is updated from the new pipeline is being used, and verify the inference logs are added to the new pipeline associated with the edge location.\n",
    "\n",
    "### Resources\n",
    "\n",
    "This tutorial provides the following:\n",
    "\n",
    "* Models:\n",
    "  * `models/rf_model.onnx`: The champion model that that predict house price prices.\n",
    "  * `models/xgb_model.onnx`: A new challenger model that takes the same inputs as `models/rf_model.onnx` and outputs house prices with a field of the same name.\n",
    "  * `models/gbr_model.onnx`: A new challenger model that takes the same inputs as `models/rf_model.onnx` and outputs house prices with a field of the same name.\n",
    "\n",
    "### Prerequisites\n",
    "\n",
    "* A deployed Wallaroo instance with [Edge Registry Services](https://docs.wallaroo.ai/wallaroo-operations-guide/wallaroo-configuration/wallaroo-edge-deployment/#enable-wallaroo-edge-deployment-registry) and [Edge Observability enabled](https://docs.wallaroo.ai/wallaroo-operations-guide/wallaroo-configuration/wallaroo-edge-deployment/#set-edge-observability-service).\n",
    "* The following Python libraries installed:\n",
    "  * [`wallaroo`](https://pypi.org/project/wallaroo/): The Wallaroo SDK. Included with the Wallaroo JupyterHub service by default.\n",
    "  * [`pandas`](https://pypi.org/project/pandas/): Pandas, mainly used for Pandas DataFrame\n",
    "* A X64 Docker deployment to deploy the model on an edge location.\n"
   ]
  },
  {
   "cell_type": "markdown",
   "metadata": {},
   "source": [
    "## Steps\n",
    "\n",
    "* Deploying a sample ML model used to determine house prices based on a set of input parameters.\n",
    "* Publish the model deployment configuration to an OCI registry.\n",
    "* Use the publish and set edge locations.\n",
    "* Deploy the model to two different edge locations.\n",
    "\n",
    "### Import Libraries\n",
    "\n",
    "The first step will be to import our libraries, and set variables used through this tutorial."
   ]
  },
  {
   "cell_type": "code",
   "execution_count": 1,
   "metadata": {},
   "outputs": [],
   "source": [
    "import wallaroo\n",
    "from wallaroo.object import EntityNotFoundError\n",
    "from wallaroo.framework import Framework\n",
    "\n",
    "from IPython.display import display\n",
    "\n",
    "# used to display DataFrame information without truncating\n",
    "from IPython.display import display\n",
    "import pandas as pd\n",
    "pd.set_option('display.max_colwidth', None)\n",
    "\n",
    "import json\n",
    "\n",
    "workspace_name = f'in-line-edge-replacement-tutorial'\n",
    "\n",
    "# ignoring warnings for demonstration\n",
    "import warnings\n",
    "warnings.filterwarnings('ignore')\n",
    "\n",
    "# used to display DataFrame information without truncating\n",
    "from IPython.display import display\n",
    "import pandas as pd\n",
    "pd.set_option('display.max_colwidth', None)"
   ]
  },
  {
   "cell_type": "markdown",
   "metadata": {},
   "source": [
    "The following helper function is used to create a new workspace, or retrieve an existing one."
   ]
  },
  {
   "cell_type": "code",
   "execution_count": 2,
   "metadata": {},
   "outputs": [],
   "source": [
    "def get_workspace(name, client):\n",
    "    workspace = None\n",
    "    for ws in client.list_workspaces():\n",
    "        if ws.name() == name:\n",
    "            workspace= ws\n",
    "    if(workspace == None):\n",
    "        workspace = client.create_workspace(name)\n",
    "    return workspace"
   ]
  },
  {
   "cell_type": "markdown",
   "metadata": {},
   "source": [
    "### Connect to the Wallaroo Instance\n",
    "\n",
    "The first step is to connect to Wallaroo through the Wallaroo client.  The Python library is included in the Wallaroo install and available through the Jupyter Hub interface provided with your Wallaroo environment.\n",
    "\n",
    "This is accomplished using the `wallaroo.Client()` command, which provides a URL to grant the SDK permission to your specific Wallaroo environment.  When displayed, enter the URL into a browser and confirm permissions.  Store the connection into a variable that can be referenced later.\n",
    "\n",
    "If logging into the Wallaroo instance through the internal JupyterHub service, use `wl = wallaroo.Client()`.  For more information on Wallaroo Client settings, see the [Client Connection guide](https://docs.wallaroo.ai/wallaroo-developer-guides/wallaroo-sdk-guides/wallaroo-sdk-essentials-guide/wallaroo-sdk-essentials-client/)."
   ]
  },
  {
   "cell_type": "code",
   "execution_count": 3,
   "metadata": {},
   "outputs": [],
   "source": [
    "# Login through local Wallaroo instance\n",
    "\n",
    "wl = wallaroo.Client()"
   ]
  },
  {
   "cell_type": "markdown",
   "metadata": {},
   "source": [
    "### Create Workspace\n",
    "\n",
    "We will create a workspace to manage our pipeline and models.  The following variables will set the name of our sample workspace then set it as the current workspace.\n",
    "\n",
    "Workspace names are unique across the Wallaroo instance.  If a user requests a workspace they have not been granted access to, an error message is returned."
   ]
  },
  {
   "cell_type": "code",
   "execution_count": 4,
   "metadata": {},
   "outputs": [
    {
     "data": {
      "text/plain": [
       "{'name': 'in-line-edge-replacement-tutorial', 'id': 7, 'archived': False, 'created_by': '526c72b4-2a0b-4ade-8f96-8d6dfa642a82', 'created_at': '2024-03-26T17:18:30.459718+00:00', 'models': [{'name': 'rf-house-price-estimator', 'versions': 2, 'owner_id': '\"\"', 'last_update_time': datetime.datetime(2024, 3, 26, 18, 0, 41, 147787, tzinfo=tzutc()), 'created_at': datetime.datetime(2024, 3, 26, 17, 18, 31, 771534, tzinfo=tzutc())}, {'name': 'xgb-house-price-estimator', 'versions': 4, 'owner_id': '\"\"', 'last_update_time': datetime.datetime(2024, 3, 26, 18, 26, 44, 936066, tzinfo=tzutc()), 'created_at': datetime.datetime(2024, 3, 26, 17, 34, 18, 853479, tzinfo=tzutc())}, {'name': 'gbr-house-price-estimator', 'versions': 1, 'owner_id': '\"\"', 'last_update_time': datetime.datetime(2024, 3, 26, 18, 31, 59, 387596, tzinfo=tzutc()), 'created_at': datetime.datetime(2024, 3, 26, 18, 31, 59, 387596, tzinfo=tzutc())}], 'pipelines': [{'name': 'in-line-edge-replacement', 'create_time': datetime.datetime(2024, 3, 26, 17, 18, 32, 360404, tzinfo=tzutc()), 'definition': '[]'}, {'name': 'in-line-edge-replacement-demo', 'create_time': datetime.datetime(2024, 3, 26, 18, 0, 42, 373942, tzinfo=tzutc()), 'definition': '[]'}, {'name': 'new-edge-replacement', 'create_time': datetime.datetime(2024, 3, 26, 18, 32, 0, 354180, tzinfo=tzutc()), 'definition': '[]'}]}"
      ]
     },
     "execution_count": 4,
     "metadata": {},
     "output_type": "execute_result"
    }
   ],
   "source": [
    "workspace = get_workspace(workspace_name, wl)\n",
    "\n",
    "wl.set_current_workspace(workspace)"
   ]
  },
  {
   "cell_type": "markdown",
   "metadata": {},
   "source": [
    "### Upload The Champion Model\n",
    "\n",
    "For our example, we will upload the champion model that has been trained to derive house prices from a variety of inputs.  The model file is `rf_model.onnx`, and is uploaded with the name `rf-house-price-estimator`."
   ]
  },
  {
   "cell_type": "code",
   "execution_count": 5,
   "metadata": {},
   "outputs": [],
   "source": [
    "housing_model_control = (wl.upload_model(\"rf-house-price-estimator\", \n",
    "                                        './models/rf_model.onnx', \n",
    "                                        framework=Framework.ONNX)\n",
    "                                        .configure(tensor_fields=[\"tensor\"])\n",
    "                        )"
   ]
  },
  {
   "cell_type": "markdown",
   "metadata": {},
   "source": [
    "### Build the Pipeline\n",
    "\n",
    "This pipeline is made to be an example of an existing situation where a model is deployed and being used for inferences in a production environment.  We'll call it `edge-inline-replacement-demo`, set `housing_model_control` as a pipeline step, then run a sample inference."
   ]
  },
  {
   "cell_type": "code",
   "execution_count": 6,
   "metadata": {},
   "outputs": [
    {
     "data": {
      "text/html": [
       "<table><tr><th>name</th> <td>edge-inline-replacement-demo</td></tr><tr><th>created</th> <td>2024-03-26 18:53:24.630184+00:00</td></tr><tr><th>last_updated</th> <td>2024-03-26 18:53:25.142374+00:00</td></tr><tr><th>deployed</th> <td>True</td></tr><tr><th>arch</th> <td>None</td></tr><tr><th>accel</th> <td>None</td></tr><tr><th>tags</th> <td></td></tr><tr><th>versions</th> <td>5a1bf0a2-9595-41de-9852-44d211c2c0fb, a5105a19-7215-4e6b-9a8a-5ddcc6aa875c</td></tr><tr><th>steps</th> <td>rf-house-price-estimator</td></tr><tr><th>published</th> <td>False</td></tr></table>"
      ],
      "text/plain": [
       "{'name': 'edge-inline-replacement-demo', 'create_time': datetime.datetime(2024, 3, 26, 18, 53, 24, 630184, tzinfo=tzutc()), 'definition': \"[{'ModelInference': {'models': [{'name': 'rf-house-price-estimator', 'version': '1c23e843-a173-4890-87a3-2ae5f9fe1518', 'sha': 'e22a0831aafd9917f3cc87a15ed267797f80e2afa12ad7d8810ca58f173b8cc6'}]}}]\"}"
      ]
     },
     "execution_count": 6,
     "metadata": {},
     "output_type": "execute_result"
    }
   ],
   "source": [
    "mainpipeline = wl.build_pipeline('edge-inline-replacement-demo')\n",
    "\n",
    "\n",
    "# clear the steps if used before\n",
    "mainpipeline.clear()\n",
    "\n",
    "mainpipeline.add_model_step(housing_model_control)\n",
    "\n",
    "#minimum deployment config\n",
    "deploy_config = wallaroo.DeploymentConfigBuilder().replica_count(1).cpus(0.5).memory(\"1Gi\").build()\n",
    "\n",
    "mainpipeline.deploy(deployment_config = deploy_config)"
   ]
  },
  {
   "cell_type": "markdown",
   "metadata": {},
   "source": [
    "### Testing\n",
    "\n",
    "We'll use a single row inference request that should return a result of around `$700k`."
   ]
  },
  {
   "cell_type": "code",
   "execution_count": 8,
   "metadata": {},
   "outputs": [
    {
     "data": {
      "text/html": [
       "<div>\n",
       "<style scoped>\n",
       "    .dataframe tbody tr th:only-of-type {\n",
       "        vertical-align: middle;\n",
       "    }\n",
       "\n",
       "    .dataframe tbody tr th {\n",
       "        vertical-align: top;\n",
       "    }\n",
       "\n",
       "    .dataframe thead th {\n",
       "        text-align: right;\n",
       "    }\n",
       "</style>\n",
       "<table border=\"1\" class=\"dataframe\">\n",
       "  <thead>\n",
       "    <tr style=\"text-align: right;\">\n",
       "      <th></th>\n",
       "      <th>time</th>\n",
       "      <th>in.tensor</th>\n",
       "      <th>out.variable</th>\n",
       "      <th>anomaly.count</th>\n",
       "    </tr>\n",
       "  </thead>\n",
       "  <tbody>\n",
       "    <tr>\n",
       "      <th>0</th>\n",
       "      <td>2024-03-26 18:53:44.662</td>\n",
       "      <td>[4.0, 2.5, 2900.0, 5505.0, 2.0, 0.0, 0.0, 3.0, 8.0, 2900.0, 0.0, 47.6063, -122.02, 2970.0, 5251.0, 12.0, 0.0, 0.0]</td>\n",
       "      <td>[718013.7]</td>\n",
       "      <td>0</td>\n",
       "    </tr>\n",
       "  </tbody>\n",
       "</table>\n",
       "</div>"
      ],
      "text/plain": [
       "                     time  \\\n",
       "0 2024-03-26 18:53:44.662   \n",
       "\n",
       "                                                                                                            in.tensor  \\\n",
       "0  [4.0, 2.5, 2900.0, 5505.0, 2.0, 0.0, 0.0, 3.0, 8.0, 2900.0, 0.0, 47.6063, -122.02, 2970.0, 5251.0, 12.0, 0.0, 0.0]   \n",
       "\n",
       "  out.variable  anomaly.count  \n",
       "0   [718013.7]              0  "
      ]
     },
     "metadata": {},
     "output_type": "display_data"
    }
   ],
   "source": [
    "normal_input = pd.DataFrame.from_records({\"tensor\": [[4.0, 2.5, 2900.0, 5505.0, 2.0, 0.0, 0.0, 3.0, 8.0, 2900.0, 0.0, 47.6063, -122.02, 2970.0, 5251.0, 12.0, 0.0, 0.0]]})\n",
    "result = mainpipeline.infer(normal_input)\n",
    "display(result)"
   ]
  },
  {
   "cell_type": "markdown",
   "metadata": {},
   "source": [
    "### Undeploy Main Pipeline\n",
    "\n",
    "With the sample inferences complete, we will undeploy the main pipeline and return the resources back to the Wallaroo instance."
   ]
  },
  {
   "cell_type": "code",
   "execution_count": 9,
   "metadata": {},
   "outputs": [
    {
     "data": {
      "text/html": [
       "<table><tr><th>name</th> <td>edge-inline-replacement-demo</td></tr><tr><th>created</th> <td>2024-03-26 18:53:24.630184+00:00</td></tr><tr><th>last_updated</th> <td>2024-03-26 18:53:25.142374+00:00</td></tr><tr><th>deployed</th> <td>False</td></tr><tr><th>arch</th> <td>None</td></tr><tr><th>accel</th> <td>None</td></tr><tr><th>tags</th> <td></td></tr><tr><th>versions</th> <td>5a1bf0a2-9595-41de-9852-44d211c2c0fb, a5105a19-7215-4e6b-9a8a-5ddcc6aa875c</td></tr><tr><th>steps</th> <td>rf-house-price-estimator</td></tr><tr><th>published</th> <td>False</td></tr></table>"
      ],
      "text/plain": [
       "{'name': 'edge-inline-replacement-demo', 'create_time': datetime.datetime(2024, 3, 26, 18, 53, 24, 630184, tzinfo=tzutc()), 'definition': \"[{'ModelInference': {'models': [{'name': 'rf-house-price-estimator', 'version': '1c23e843-a173-4890-87a3-2ae5f9fe1518', 'sha': 'e22a0831aafd9917f3cc87a15ed267797f80e2afa12ad7d8810ca58f173b8cc6'}]}}]\"}"
      ]
     },
     "execution_count": 9,
     "metadata": {},
     "output_type": "execute_result"
    }
   ],
   "source": [
    "mainpipeline.undeploy()"
   ]
  },
  {
   "cell_type": "markdown",
   "metadata": {},
   "source": [
    "## Edge Deployment\n",
    "\n",
    "We can now deploy the pipeline to an edge device.  This will require the following steps:\n",
    "\n",
    "* Publish the pipeline:  Publishes the pipeline to the OCI registry.\n",
    "* Add Edge:  Add the edge location to the pipeline publish.\n",
    "* Deploy Edge:  Deploy the edge device with the edge location settings."
   ]
  },
  {
   "cell_type": "markdown",
   "metadata": {},
   "source": [
    "### Publish Pipeline\n",
    "\n",
    "Publishing the pipeline uses the pipeline `wallaroo.pipeline.publish()` command.  This requires that the Wallaroo Ops instance have [Edge Registry Services](https://docs.wallaroo.ai/wallaroo-operations-guide/wallaroo-configuration/wallaroo-edge-deployment/#enable-wallaroo-edge-deployment-registry) enabled.\n",
    "\n",
    "The following publishes the pipeline to the OCI registry and displays the container details.  For more information, see [Wallaroo SDK Essentials Guide: Pipeline Edge Publication](https://docs.wallaroo.ai/wallaroo-developer-guides/wallaroo-sdk-guides/wallaroo-sdk-essentials-guide/wallaroo-sdk-essentials-pipelines/wallaroo-sdk-essentials-pipeline-publication/)."
   ]
  },
  {
   "cell_type": "code",
   "execution_count": 10,
   "metadata": {},
   "outputs": [
    {
     "name": "stdout",
     "output_type": "stream",
     "text": [
      "Waiting for pipeline publish... It may take up to 600 sec.\n",
      "Pipeline is publishing...... Published.\n"
     ]
    }
   ],
   "source": [
    "pub = mainpipeline.publish()"
   ]
  },
  {
   "cell_type": "markdown",
   "metadata": {},
   "source": [
    "### Add Edge Location\n",
    "\n",
    "The edge location is added with the [`wallaroo.pipeline_publish.add_edge(name)`](https://docs.wallaroo.ai/wallaroo-developer-guides/wallaroo-sdk-guides/wallaroo-sdk-reference-guide/pipeline_publish/#PipelinePublish.add_edge) method.  This returns the OCI registration information, and the `EDGE_BUNDLE` information.  The `EDGE_BUNDLE` data is a base64 encoded set of parameters for the pipeline that the edge device is associated with, the workspace, and other data.\n",
    "\n",
    "For full details, see [Wallaroo SDK Essentials Guide: Pipeline Edge Publication: Edge Observability](https://docs.wallaroo.ai/wallaroo-developer-guides/wallaroo-sdk-guides/wallaroo-sdk-essentials-guide/wallaroo-sdk-essentials-pipelines/wallaroo-sdk-essentials-pipeline-publication/#edge-observability).\n",
    "\n",
    "For this example, we will add two locations:\n",
    "\n",
    "* `houseprice-edge-inline-replacement-demo`\n",
    "\n",
    "These will be used in later steps for demonstrating inferences through different locations."
   ]
  },
  {
   "cell_type": "code",
   "execution_count": 11,
   "metadata": {},
   "outputs": [
    {
     "data": {
      "text/html": [
       "\n",
       "          <table>\n",
       "              <tr><td>ID</td><td>10</td></tr>\n",
       "              <tr><td>Pipeline Name</td><td>edge-inline-replacement-demo</td></tr>\n",
       "              <tr><td>Pipeline Version</td><td>90643d74-8883-451c-aa2b-4c41d9af04f8</td></tr>\n",
       "              <tr><td>Status</td><td>Published</td></tr>\n",
       "              <tr><td>Engine URL</td><td><a href='https://ghcr.io/wallaroolabs/doc-samples/engines/proxy/wallaroo/ghcr.io/wallaroolabs/fitzroy-mini:v2024.1.0-main-4781'>ghcr.io/wallaroolabs/doc-samples/engines/proxy/wallaroo/ghcr.io/wallaroolabs/fitzroy-mini:v2024.1.0-main-4781</a></td></tr>\n",
       "              <tr><td>Pipeline URL</td><td><a href='https://ghcr.io/wallaroolabs/doc-samples/pipelines/edge-inline-replacement-demo:90643d74-8883-451c-aa2b-4c41d9af04f8'>ghcr.io/wallaroolabs/doc-samples/pipelines/edge-inline-replacement-demo:90643d74-8883-451c-aa2b-4c41d9af04f8</a></td></tr>\n",
       "              <tr><td>Helm Chart URL</td><td>oci://<a href='https://ghcr.io/wallaroolabs/doc-samples/charts/edge-inline-replacement-demo'>ghcr.io/wallaroolabs/doc-samples/charts/edge-inline-replacement-demo</a></td></tr>\n",
       "              <tr><td>Helm Chart Reference</td><td>ghcr.io/wallaroolabs/doc-samples/charts@sha256:d930bc56895eaf32785fe6e907a01cd4aa5b6d78f6d60caf056ff7e96dcba880</td></tr>\n",
       "              <tr><td>Helm Chart Version</td><td>0.0.1-90643d74-8883-451c-aa2b-4c41d9af04f8</td></tr>\n",
       "              <tr><td>Engine Config</td><td>{'engine': {'resources': {'limits': {'cpu': 4.0, 'memory': '3Gi'}, 'requests': {'cpu': 4.0, 'memory': '3Gi'}, 'accel': 'none', 'arch': 'x86', 'gpu': False}}, 'engineAux': {'autoscale': {'type': 'none'}, 'images': None}, 'enginelb': {'resources': {'limits': {'cpu': 1.0, 'memory': '512Mi'}, 'requests': {'cpu': 0.2, 'memory': '512Mi'}, 'accel': 'none', 'arch': 'x86', 'gpu': False}}}</td></tr>\n",
       "              <tr><td>User Images</td><td>[]</td></tr>\n",
       "              <tr><td>Created By</td><td>john.hummel@wallaroo.ai</td></tr>\n",
       "              <tr><td>Created At</td><td>2024-03-26 18:54:24.817914+00:00</td></tr>\n",
       "              <tr><td>Updated At</td><td>2024-03-26 18:54:24.817914+00:00</td></tr>\n",
       "              <tr><td>Replaces</td><td></td></tr>\n",
       "              <tr>\n",
       "                  <td>Docker Run Command</td>\n",
       "                  <td>\n",
       "                      <table><tr><td>\n",
       "<pre style=\"text-align: left\">docker run -v $PERSISTENT_VOLUME_DIR:/persist \\\n",
       "    -e OCI_USERNAME=$OCI_USERNAME \\\n",
       "    -e OCI_PASSWORD=$OCI_PASSWORD \\\n",
       "    -e PIPELINE_URL=ghcr.io/wallaroolabs/doc-samples/pipelines/edge-inline-replacement-demo:90643d74-8883-451c-aa2b-4c41d9af04f8\\\n",
       "    -e EDGE_BUNDLE=ZXhwb3J0IEJVTkRMRV9WRVJTSU9OPTEKZXhwb3J0IENPTkZJR19DUFVTPTQKZXhwb3J0IEVER0VfTkFNRT1ob3VzZXByaWNlLWVkZ2UtaW5saW5lLXJlcGxhY2VtZW50LWRlbW8KZXhwb3J0IE9QU0NFTlRFUl9IT1NUPWRvYy10ZXN0LmVkZ2Uud2FsbGFyb29jb21tdW5pdHkubmluamEKZXhwb3J0IFBJUEVMSU5FX1VSTD1naGNyLmlvL3dhbGxhcm9vbGFicy9kb2Mtc2FtcGxlcy9waXBlbGluZXMvZWRnZS1pbmxpbmUtcmVwbGFjZW1lbnQtZGVtbzo5MDY0M2Q3NC04ODgzLTQ1MWMtYWEyYi00YzQxZDlhZjA0ZjgKZXhwb3J0IEpPSU5fVE9LRU49NDYxMjBjNzItNWIwMS00ODdkLTgyODYtN2Q2ZThmOTU5OTdkCmV4cG9ydCBPQ0lfUkVHSVNUUlk9Z2hjci5pbw== \\\n",
       "    -e CONFIG_CPUS=4 ghcr.io/wallaroolabs/doc-samples/engines/proxy/wallaroo/ghcr.io/wallaroolabs/fitzroy-mini:v2024.1.0-main-4781</pre></td></tr></table>\n",
       "                      <br />\n",
       "                      <i>\n",
       "                          Note: Please set the <code>PERSISTENT_VOLUME_DIR</code>, <code>OCI_USERNAME</code>, and <code>OCI_PASSWORD</code> environment variables.\n",
       "                      </i>\n",
       "                  </td>\n",
       "              </tr>\n",
       "              <tr>\n",
       "                  <td>Helm Install Command</td>\n",
       "                  <td>\n",
       "                      <table><tr><td>\n",
       "<pre style=\"text-align: left\">helm install --atomic $HELM_INSTALL_NAME \\\n",
       "    oci://ghcr.io/wallaroolabs/doc-samples/charts/edge-inline-replacement-demo \\\n",
       "    --namespace $HELM_INSTALL_NAMESPACE \\\n",
       "    --version 0.0.1-90643d74-8883-451c-aa2b-4c41d9af04f8 \\\n",
       "    --set ociRegistry.username=$OCI_USERNAME \\\n",
       "    --set ociRegistry.password=$OCI_PASSWORD \\\n",
       "    --set edgeBundle=ZXhwb3J0IEJVTkRMRV9WRVJTSU9OPTEKZXhwb3J0IENPTkZJR19DUFVTPTQKZXhwb3J0IEVER0VfTkFNRT1ob3VzZXByaWNlLWVkZ2UtaW5saW5lLXJlcGxhY2VtZW50LWRlbW8KZXhwb3J0IE9QU0NFTlRFUl9IT1NUPWRvYy10ZXN0LmVkZ2Uud2FsbGFyb29jb21tdW5pdHkubmluamEKZXhwb3J0IFBJUEVMSU5FX1VSTD1naGNyLmlvL3dhbGxhcm9vbGFicy9kb2Mtc2FtcGxlcy9waXBlbGluZXMvZWRnZS1pbmxpbmUtcmVwbGFjZW1lbnQtZGVtbzo5MDY0M2Q3NC04ODgzLTQ1MWMtYWEyYi00YzQxZDlhZjA0ZjgKZXhwb3J0IEpPSU5fVE9LRU49NDYxMjBjNzItNWIwMS00ODdkLTgyODYtN2Q2ZThmOTU5OTdkCmV4cG9ydCBPQ0lfUkVHSVNUUlk9Z2hjci5pbw==</pre></td></tr></table>\n",
       "                      <br />\n",
       "                      <i>\n",
       "                          Note: Please set the <code>PERSISTENT_VOLUME_DIR</code>, <code>HELM_INSTALL_NAME</code>, <code>HELM_INSTALL_NAMESPACE</code>,\n",
       "                          <code>OCI_USERNAME</code>, and <code>OCI_PASSWORD</code> environment variables.\n",
       "                      </i>\n",
       "                  </td>\n",
       "              </tr>\n",
       "              \n",
       "          </table>\n",
       "        "
      ],
      "text/plain": [
       "PipelinePublish(created_at=datetime.datetime(2024, 3, 26, 18, 54, 24, 817914, tzinfo=tzutc()), docker_run_variables={'PIPELINE_URL': 'ghcr.io/wallaroolabs/doc-samples/pipelines/edge-inline-replacement-demo:90643d74-8883-451c-aa2b-4c41d9af04f8', 'EDGE_BUNDLE': 'ZXhwb3J0IEJVTkRMRV9WRVJTSU9OPTEKZXhwb3J0IENPTkZJR19DUFVTPTQKZXhwb3J0IEVER0VfTkFNRT1ob3VzZXByaWNlLWVkZ2UtaW5saW5lLXJlcGxhY2VtZW50LWRlbW8KZXhwb3J0IE9QU0NFTlRFUl9IT1NUPWRvYy10ZXN0LmVkZ2Uud2FsbGFyb29jb21tdW5pdHkubmluamEKZXhwb3J0IFBJUEVMSU5FX1VSTD1naGNyLmlvL3dhbGxhcm9vbGFicy9kb2Mtc2FtcGxlcy9waXBlbGluZXMvZWRnZS1pbmxpbmUtcmVwbGFjZW1lbnQtZGVtbzo5MDY0M2Q3NC04ODgzLTQ1MWMtYWEyYi00YzQxZDlhZjA0ZjgKZXhwb3J0IEpPSU5fVE9LRU49NDYxMjBjNzItNWIwMS00ODdkLTgyODYtN2Q2ZThmOTU5OTdkCmV4cG9ydCBPQ0lfUkVHSVNUUlk9Z2hjci5pbw=='}, engine_config={'engine': {'resources': {'limits': {'cpu': 4.0, 'memory': '3Gi'}, 'requests': {'cpu': 4.0, 'memory': '3Gi'}, 'accel': 'none', 'arch': 'x86', 'gpu': False}}, 'engineAux': {'autoscale': {'type': 'none'}, 'images': None}, 'enginelb': {'resources': {'limits': {'cpu': 1.0, 'memory': '512Mi'}, 'requests': {'cpu': 0.2, 'memory': '512Mi'}, 'accel': 'none', 'arch': 'x86', 'gpu': False}}}, id=10, pipeline_name='edge-inline-replacement-demo', pipeline_version_id=26, replaces=[], status='Published', updated_at=datetime.datetime(2024, 3, 26, 18, 54, 24, 817914, tzinfo=tzutc()), user_images=[], created_by='526c72b4-2a0b-4ade-8f96-8d6dfa642a82', created_on_version='2024.1.0', edge_bundles=<wallaroo.wallaroo_ml_ops_api_client.types.Unset object at 0x14e857700>, engine_url='ghcr.io/wallaroolabs/doc-samples/engines/proxy/wallaroo/ghcr.io/wallaroolabs/fitzroy-mini:v2024.1.0-main-4781', error=None, helm={'reference': 'ghcr.io/wallaroolabs/doc-samples/charts@sha256:d930bc56895eaf32785fe6e907a01cd4aa5b6d78f6d60caf056ff7e96dcba880', 'values': {'edgeBundle': 'ZXhwb3J0IEJVTkRMRV9WRVJTSU9OPTEKZXhwb3J0IENPTkZJR19DUFVTPTQKZXhwb3J0IEVER0VfTkFNRT1ob3VzZXByaWNlLWVkZ2UtaW5saW5lLXJlcGxhY2VtZW50LWRlbW8KZXhwb3J0IE9QU0NFTlRFUl9IT1NUPWRvYy10ZXN0LmVkZ2Uud2FsbGFyb29jb21tdW5pdHkubmluamEKZXhwb3J0IFBJUEVMSU5FX1VSTD1naGNyLmlvL3dhbGxhcm9vbGFicy9kb2Mtc2FtcGxlcy9waXBlbGluZXMvZWRnZS1pbmxpbmUtcmVwbGFjZW1lbnQtZGVtbzo5MDY0M2Q3NC04ODgzLTQ1MWMtYWEyYi00YzQxZDlhZjA0ZjgKZXhwb3J0IEpPSU5fVE9LRU49NDYxMjBjNzItNWIwMS00ODdkLTgyODYtN2Q2ZThmOTU5OTdkCmV4cG9ydCBPQ0lfUkVHSVNUUlk9Z2hjci5pbw=='}, 'chart': 'ghcr.io/wallaroolabs/doc-samples/charts/edge-inline-replacement-demo', 'version': '0.0.1-90643d74-8883-451c-aa2b-4c41d9af04f8'}, pipeline_url='ghcr.io/wallaroolabs/doc-samples/pipelines/edge-inline-replacement-demo:90643d74-8883-451c-aa2b-4c41d9af04f8', pipeline_version_name='90643d74-8883-451c-aa2b-4c41d9af04f8', additional_properties={})"
      ]
     },
     "metadata": {},
     "output_type": "display_data"
    }
   ],
   "source": [
    "edge_name_01 = \"houseprice-edge-inline-replacement-demo\"\n",
    "edge_publish_01 = pub.add_edge(edge_name_01)\n",
    "display(edge_publish_01)"
   ]
  },
  {
   "cell_type": "markdown",
   "metadata": {},
   "source": [
    "### DevOps Deployment\n",
    "\n",
    "For the model deployment to the edge location, we will use the `Helm Install Command` from the previous step.  The following variables must be set first.\n",
    "\n",
    "* `$REGISTRYURL`: The URL of the OCI registry service hosting the pipeline publish.\n",
    "* `$OCI_USERNAME`: The username for the OCI registry service.\n",
    "* `$OCI_PASSWORD`: The password or token for the OCI registry service.\n",
    "* `$HELM_INSTALL_NAME`: The name of the Helm based installation for the edge deployment.\n",
    "* `$HELM_INSTALL_NAMESPACE`: The name of the namespace to set the edge based deployment to.\n",
    "\n",
    "Before deploying, verify `helm` has access to the target registry.  Using the variable above, this command is:\n",
    "\n",
    "```bash\n",
    "helm registry login $REGISTRYURL --username $OCI_USERNAME --password $OCI_PASSWORD\n",
    "```\n",
    "\n",
    "If the command succeeds, proceed.  If there are any issues, verify the settings above before continuing.\n",
    "\n",
    "Once the helm registry service is set, deploy using the `Helm Install Command` from `edge_publish_01`.\n",
    "\n",
    "Once deployed, use the following to port forward to the `helm` based deployment.\n",
    "\n",
    "```bash\n",
    "kubectl port-forward svc/engine-svc -n $HELM_INSTALL_NAMESPACE 8080 --address 0.0.0.0\n",
    "```\n",
    "\n",
    "For more details on model edge deployments with Wallaroo, see [Model Operations: Run Anywhere](https://staging.docs.wallaroo.ai/wallaroo-model-operations/wallaroo-model-operations-run-anywhere/)."
   ]
  },
  {
   "cell_type": "markdown",
   "metadata": {},
   "source": [
    "### Edge Inference Examples\n",
    "\n",
    "With the model deployed on the edge location, we will perform sample inferences on the edge deployment.  For this example, the hostname is `testboy.local`.  Adjust the hostname to fit your edge location deployment.\n",
    "\n",
    "The following endpoints are available.\n",
    "\n",
    "| Endpoint | Type | Description |\n",
    "|---|---|---|\n",
    "| `/models` | GET | Returns the models and model versions used in the edge deployment. |\n",
    "| `/pipelines` | GET | Returns the pipeline ID and status of the pipeline used in the edge deployment. |\n",
    "| `/infer` | POST | The inference request endpoint.  This accepts either an Apache Arrow table, or a JSON in pandas record format.\n",
    "\n",
    "For more details on model edge deployments with Wallaroo, see [Model Operations: Run Anywhere](https://staging.docs.wallaroo.ai/wallaroo-model-operations/wallaroo-model-operations-run-anywhere/)."
   ]
  },
  {
   "cell_type": "markdown",
   "metadata": {},
   "source": [
    "First we'll retrieve the model.  We should see the same name we set when we uploaded it to the Wallaroo instance."
   ]
  },
  {
   "cell_type": "code",
   "execution_count": 16,
   "metadata": {},
   "outputs": [
    {
     "name": "stdout",
     "output_type": "stream",
     "text": [
      "{\"models\":[{\"model_version\":{\"name\":\"rf-house-price-estimator\",\"visibility\":\"private\",\"workspace_id\":7,\"conversion\":{\"python_version\":\"3.8\",\"requirements\":[],\"framework\":\"onnx\"},\"id\":9,\"image_path\":null,\"status\":\"ready\",\"task_id\":null,\"file_info\":{\"version\":\"1c23e843-a173-4890-87a3-2ae5f9fe1518\",\"sha\":\"e22a0831aafd9917f3cc87a15ed267797f80e2afa12ad7d8810ca58f173b8cc6\",\"file_name\":\"rf_model.onnx\"},\"created_on_version\":\"2024.1.0\"},\"config\":{\"id\":18,\"model_version_id\":9,\"runtime\":\"onnx\",\"filter_threshold\":null,\"tensor_fields\":[\"tensor\"],\"input_schema\":null,\"output_schema\":null,\"batch_config\":null,\"sidekick_uri\":null},\"status\":\"Running\"}]}"
     ]
    }
   ],
   "source": [
    "!curl testboy.local:8080/models"
   ]
  },
  {
   "cell_type": "markdown",
   "metadata": {},
   "source": [
    "Now we'll retrieve the pipeline details, and verify the name is the same as set earlier and it is running."
   ]
  },
  {
   "cell_type": "code",
   "execution_count": 18,
   "metadata": {},
   "outputs": [
    {
     "name": "stdout",
     "output_type": "stream",
     "text": [
      "{\"pipelines\":[{\"id\":\"edge-inline-replacement-demo\",\"status\":\"Running\"}]}"
     ]
    }
   ],
   "source": [
    "!curl testboy.local:8080/pipelines"
   ]
  },
  {
   "cell_type": "markdown",
   "metadata": {},
   "source": [
    "Now do the infer with the same DataFrame we used for our sample inference when the model was deployed in the Wallaroo instance."
   ]
  },
  {
   "cell_type": "code",
   "execution_count": 17,
   "metadata": {},
   "outputs": [
    {
     "name": "stdout",
     "output_type": "stream",
     "text": [
      "[{\"time\":1711479575506,\"in\":{\"tensor\":[4.0,2.5,2900.0,5505.0,2.0,0.0,0.0,3.0,8.0,2900.0,0.0,47.6063,-122.02,2970.0,5251.0,12.0,0.0,0.0]},\"out\":{\"variable\":[718013.7]},\"anomaly\":{\"count\":0},\"metadata\":{\"last_model\":\"{\\\"model_name\\\":\\\"rf-house-price-estimator\\\",\\\"model_sha\\\":\\\"e22a0831aafd9917f3cc87a15ed267797f80e2afa12ad7d8810ca58f173b8cc6\\\"}\",\"pipeline_version\":\"90643d74-8883-451c-aa2b-4c41d9af04f8\",\"elapsed\":[351790,773467],\"dropped\":[],\"partition\":\"houseprice-edge-inline-replacement-demo\"}}]"
     ]
    }
   ],
   "source": [
    "import json\n",
    "\n",
    "df = pd.DataFrame.from_records({\"tensor\": [[4.0, 2.5, 2900.0, 5505.0, 2.0, 0.0, 0.0, 3.0, 8.0, 2900.0, 0.0, 47.6063, -122.02, 2970.0, 5251.0, 12.0, 0.0, 0.0]]})\n",
    "\n",
    "data = df.to_dict(orient=\"records\")\n",
    "\n",
    "!curl -X POST testboy.local:8080/infer \\\n",
    "    -H \"Content-Type: Content-Type: application/json; format=pandas-records\" \\\n",
    "    --data '{json.dumps(data)}'"
   ]
  },
  {
   "cell_type": "markdown",
   "metadata": {},
   "source": [
    "### Retrieve Inference Logs\n",
    "\n",
    "The edge deployment location is tied to the pipeline, so when we check the pipeline logs, we will see in the `metadata.partition` the location where the inference was performed.  From the list, we should see the same name as set to our location."
   ]
  },
  {
   "cell_type": "code",
   "execution_count": 19,
   "metadata": {},
   "outputs": [
    {
     "data": {
      "text/html": [
       "<div>\n",
       "<style scoped>\n",
       "    .dataframe tbody tr th:only-of-type {\n",
       "        vertical-align: middle;\n",
       "    }\n",
       "\n",
       "    .dataframe tbody tr th {\n",
       "        vertical-align: top;\n",
       "    }\n",
       "\n",
       "    .dataframe thead th {\n",
       "        text-align: right;\n",
       "    }\n",
       "</style>\n",
       "<table border=\"1\" class=\"dataframe\">\n",
       "  <thead>\n",
       "    <tr style=\"text-align: right;\">\n",
       "      <th></th>\n",
       "      <th>time</th>\n",
       "      <th>out.variable</th>\n",
       "      <th>metadata.last_model</th>\n",
       "      <th>metadata.partition</th>\n",
       "    </tr>\n",
       "  </thead>\n",
       "  <tbody>\n",
       "    <tr>\n",
       "      <th>0</th>\n",
       "      <td>2024-03-26 18:59:35.506</td>\n",
       "      <td>[718013.7]</td>\n",
       "      <td>{\"model_name\":\"rf-house-price-estimator\",\"model_sha\":\"e22a0831aafd9917f3cc87a15ed267797f80e2afa12ad7d8810ca58f173b8cc6\"}</td>\n",
       "      <td>houseprice-edge-inline-replacement-demo</td>\n",
       "    </tr>\n",
       "    <tr>\n",
       "      <th>1</th>\n",
       "      <td>2024-03-26 18:53:44.662</td>\n",
       "      <td>[718013.7]</td>\n",
       "      <td>{\"model_name\":\"rf-house-price-estimator\",\"model_sha\":\"e22a0831aafd9917f3cc87a15ed267797f80e2afa12ad7d8810ca58f173b8cc6\"}</td>\n",
       "      <td>engine-858996678c-qvd2w</td>\n",
       "    </tr>\n",
       "  </tbody>\n",
       "</table>\n",
       "</div>"
      ],
      "text/plain": [
       "                     time out.variable  \\\n",
       "0 2024-03-26 18:59:35.506   [718013.7]   \n",
       "1 2024-03-26 18:53:44.662   [718013.7]   \n",
       "\n",
       "                                                                                                        metadata.last_model  \\\n",
       "0  {\"model_name\":\"rf-house-price-estimator\",\"model_sha\":\"e22a0831aafd9917f3cc87a15ed267797f80e2afa12ad7d8810ca58f173b8cc6\"}   \n",
       "1  {\"model_name\":\"rf-house-price-estimator\",\"model_sha\":\"e22a0831aafd9917f3cc87a15ed267797f80e2afa12ad7d8810ca58f173b8cc6\"}   \n",
       "\n",
       "                        metadata.partition  \n",
       "0  houseprice-edge-inline-replacement-demo  \n",
       "1                  engine-858996678c-qvd2w  "
      ]
     },
     "metadata": {},
     "output_type": "display_data"
    }
   ],
   "source": [
    "display(mainpipeline.logs(dataset=['time', 'out', 'metadata']).loc[:, ['time', 'out.variable', 'metadata.last_model', \"metadata.partition\"]])"
   ]
  },
  {
   "cell_type": "markdown",
   "metadata": {},
   "source": [
    "### Change Pipeline Steps\n",
    "\n",
    "For the next demonstration, we will use the same pipeline and update the pipeline steps with a new model.  This time with the model `./models/xgb_model.onnx`, which takes the same input as `./models/rf_model.onnx`.  We will also set a different name for this model to distinguish it from the one previously uploaded and used as the pipeline step.\n",
    "\n",
    "Once set, we will deploy the pipeline with the new model, and perform a new inference request.  From this, we will see that this new model outputs a slightly different prediction that the previous one - closer to `$650k`."
   ]
  },
  {
   "cell_type": "code",
   "execution_count": 20,
   "metadata": {},
   "outputs": [
    {
     "data": {
      "text/html": [
       "<table><tr><th>name</th> <td>edge-inline-replacement-demo</td></tr><tr><th>created</th> <td>2024-03-26 18:53:24.630184+00:00</td></tr><tr><th>last_updated</th> <td>2024-03-26 19:00:27.973497+00:00</td></tr><tr><th>deployed</th> <td>True</td></tr><tr><th>arch</th> <td>None</td></tr><tr><th>accel</th> <td>None</td></tr><tr><th>tags</th> <td></td></tr><tr><th>versions</th> <td>85058098-d395-4af4-98ce-25754175547f, 90643d74-8883-451c-aa2b-4c41d9af04f8, 5a1bf0a2-9595-41de-9852-44d211c2c0fb, a5105a19-7215-4e6b-9a8a-5ddcc6aa875c</td></tr><tr><th>steps</th> <td>rf-house-price-estimator</td></tr><tr><th>published</th> <td>True</td></tr></table>"
      ],
      "text/plain": [
       "{'name': 'edge-inline-replacement-demo', 'create_time': datetime.datetime(2024, 3, 26, 18, 53, 24, 630184, tzinfo=tzutc()), 'definition': \"[{'ModelInference': {'models': [{'name': 'xgb-house-price-estimator', 'version': '8e9ad556-1ea0-4e87-b592-5c0d74bee16a', 'sha': '31e92d6ccb27b041a324a7ac22cf95d9d6cc3aa7e8263a229f7c4aec4938657c'}]}}]\"}"
      ]
     },
     "execution_count": 20,
     "metadata": {},
     "output_type": "execute_result"
    }
   ],
   "source": [
    "housing_model_challenger01 = (wl.upload_model(\"xgb-house-price-estimator\", \n",
    "                                        './models/xgb_model.onnx', \n",
    "                                        framework=Framework.ONNX)\n",
    "                                        .configure(tensor_fields=[\"tensor\"])\n",
    "                        )\n",
    "\n",
    "mainpipeline.clear()\n",
    "\n",
    "mainpipeline.add_model_step(housing_model_challenger01)\n",
    "\n",
    "#minimum deployment config\n",
    "deploy_config = wallaroo.DeploymentConfigBuilder().replica_count(1).cpus(0.5).memory(\"1Gi\").build()\n",
    "\n",
    "mainpipeline.deploy(deployment_config = deploy_config)"
   ]
  },
  {
   "cell_type": "code",
   "execution_count": 21,
   "metadata": {},
   "outputs": [
    {
     "data": {
      "text/html": [
       "<div>\n",
       "<style scoped>\n",
       "    .dataframe tbody tr th:only-of-type {\n",
       "        vertical-align: middle;\n",
       "    }\n",
       "\n",
       "    .dataframe tbody tr th {\n",
       "        vertical-align: top;\n",
       "    }\n",
       "\n",
       "    .dataframe thead th {\n",
       "        text-align: right;\n",
       "    }\n",
       "</style>\n",
       "<table border=\"1\" class=\"dataframe\">\n",
       "  <thead>\n",
       "    <tr style=\"text-align: right;\">\n",
       "      <th></th>\n",
       "      <th>time</th>\n",
       "      <th>in.tensor</th>\n",
       "      <th>out.variable</th>\n",
       "      <th>anomaly.count</th>\n",
       "    </tr>\n",
       "  </thead>\n",
       "  <tbody>\n",
       "    <tr>\n",
       "      <th>0</th>\n",
       "      <td>2024-03-26 19:07:40.093</td>\n",
       "      <td>[4.0, 2.5, 2900.0, 5505.0, 2.0, 0.0, 0.0, 3.0, 8.0, 2900.0, 0.0, 47.6063, -122.02, 2970.0, 5251.0, 12.0, 0.0, 0.0]</td>\n",
       "      <td>[659806.0]</td>\n",
       "      <td>0</td>\n",
       "    </tr>\n",
       "  </tbody>\n",
       "</table>\n",
       "</div>"
      ],
      "text/plain": [
       "                     time  \\\n",
       "0 2024-03-26 19:07:40.093   \n",
       "\n",
       "                                                                                                            in.tensor  \\\n",
       "0  [4.0, 2.5, 2900.0, 5505.0, 2.0, 0.0, 0.0, 3.0, 8.0, 2900.0, 0.0, 47.6063, -122.02, 2970.0, 5251.0, 12.0, 0.0, 0.0]   \n",
       "\n",
       "  out.variable  anomaly.count  \n",
       "0   [659806.0]              0  "
      ]
     },
     "metadata": {},
     "output_type": "display_data"
    }
   ],
   "source": [
    "normal_input = pd.DataFrame.from_records({\"tensor\": [[4.0, 2.5, 2900.0, 5505.0, 2.0, 0.0, 0.0, 3.0, 8.0, 2900.0, 0.0, 47.6063, -122.02, 2970.0, 5251.0, 12.0, 0.0, 0.0]]})\n",
    "result = mainpipeline.infer(normal_input)\n",
    "display(result)"
   ]
  },
  {
   "cell_type": "markdown",
   "metadata": {},
   "source": [
    "With this demonstration complete, we undeploy the pipeline to return the resources back to the cluster."
   ]
  },
  {
   "cell_type": "code",
   "execution_count": 29,
   "metadata": {},
   "outputs": [
    {
     "data": {
      "text/html": [
       "<table><tr><th>name</th> <td>edge-inline-replacement-demo</td></tr><tr><th>created</th> <td>2024-03-26 18:53:24.630184+00:00</td></tr><tr><th>last_updated</th> <td>2024-03-26 19:07:42.040041+00:00</td></tr><tr><th>deployed</th> <td>False</td></tr><tr><th>arch</th> <td>None</td></tr><tr><th>accel</th> <td>None</td></tr><tr><th>tags</th> <td></td></tr><tr><th>versions</th> <td>446aeed9-2d52-47ae-9e5c-f2a05ef0d4d6, 85058098-d395-4af4-98ce-25754175547f, 90643d74-8883-451c-aa2b-4c41d9af04f8, 5a1bf0a2-9595-41de-9852-44d211c2c0fb, a5105a19-7215-4e6b-9a8a-5ddcc6aa875c</td></tr><tr><th>steps</th> <td>rf-house-price-estimator</td></tr><tr><th>published</th> <td>True</td></tr></table>"
      ],
      "text/plain": [
       "{'name': 'edge-inline-replacement-demo', 'create_time': datetime.datetime(2024, 3, 26, 18, 53, 24, 630184, tzinfo=tzutc()), 'definition': \"[{'ModelInference': {'models': [{'name': 'xgb-house-price-estimator', 'version': '8e9ad556-1ea0-4e87-b592-5c0d74bee16a', 'sha': '31e92d6ccb27b041a324a7ac22cf95d9d6cc3aa7e8263a229f7c4aec4938657c'}]}}]\"}"
      ]
     },
     "execution_count": 29,
     "metadata": {},
     "output_type": "execute_result"
    }
   ],
   "source": [
    "mainpipeline.undeploy()"
   ]
  },
  {
   "cell_type": "markdown",
   "metadata": {},
   "source": [
    "#### Replace Pipe Publish with new Pipeline Version\n",
    "\n",
    "From our pipeline, we will publish the new version.  The method `wallaroo.pipeline.Pipeline.publish()` creates a new publish from the most recent pipeline version and takes the following parameters.\n",
    "\n",
    "| Parameter | Type | Description |\n",
    "|---|---|---|\n",
    "| **deployment_config** | *wallaroo.deployment_config.DeploymentConfig* (*Optional*) | The deployment configuration used for the edge deployment.  By default, this is the same deployment configuration used for the pipeline. |\n",
    "| **replaces** | *[List[wallaroo.pipeline_publish]]* (*Optional*) | The pipeline publish(es) to replace.|\n",
    "\n",
    "When a pipeline published is replaced with a new one, the edge locations are transferred to the pipeline that the publish came from.  In this example, this is the same pipeline.  Inference results from the edge location deployments are stored with the pipeline that generated the publish.  Note that if the model or pipeline steps have changed from one pipeline version to the next, the pipeline log schema will change with it.  For more information, see [Wallaroo SDK Essentials Guide: Pipeline Log Management](https://staging.docs.wallaroo.ai/wallaroo-developer-guides/wallaroo-sdk-guides/wallaroo-sdk-essentials-guide/wallaroo-sdk-essentials-pipelines/wallaroo-sdk-essentials-pipeline-logs/).\n",
    "\n",
    "We will replace our publish earlier, labeled `pub`, with the new publish generated from the pipeline labeled `new_pub`."
   ]
  },
  {
   "cell_type": "code",
   "execution_count": 22,
   "metadata": {},
   "outputs": [
    {
     "name": "stdout",
     "output_type": "stream",
     "text": [
      "Waiting for pipeline publish... It may take up to 600 sec.\n",
      "Pipeline is publishing...... Published.\n"
     ]
    },
    {
     "data": {
      "text/html": [
       "\n",
       "          <table>\n",
       "              <tr><td>ID</td><td>11</td></tr>\n",
       "              <tr><td>Pipeline Name</td><td>edge-inline-replacement-demo</td></tr>\n",
       "              <tr><td>Pipeline Version</td><td>446aeed9-2d52-47ae-9e5c-f2a05ef0d4d6</td></tr>\n",
       "              <tr><td>Status</td><td>Published</td></tr>\n",
       "              <tr><td>Engine URL</td><td><a href='https://ghcr.io/wallaroolabs/doc-samples/engines/proxy/wallaroo/ghcr.io/wallaroolabs/fitzroy-mini:v2024.1.0-main-4781'>ghcr.io/wallaroolabs/doc-samples/engines/proxy/wallaroo/ghcr.io/wallaroolabs/fitzroy-mini:v2024.1.0-main-4781</a></td></tr>\n",
       "              <tr><td>Pipeline URL</td><td><a href='https://ghcr.io/wallaroolabs/doc-samples/pipelines/edge-inline-replacement-demo:446aeed9-2d52-47ae-9e5c-f2a05ef0d4d6'>ghcr.io/wallaroolabs/doc-samples/pipelines/edge-inline-replacement-demo:446aeed9-2d52-47ae-9e5c-f2a05ef0d4d6</a></td></tr>\n",
       "              <tr><td>Helm Chart URL</td><td>oci://<a href='https://ghcr.io/wallaroolabs/doc-samples/charts/edge-inline-replacement-demo'>ghcr.io/wallaroolabs/doc-samples/charts/edge-inline-replacement-demo</a></td></tr>\n",
       "              <tr><td>Helm Chart Reference</td><td>ghcr.io/wallaroolabs/doc-samples/charts@sha256:268a8b7b22b3ab9a62127f56ac5152d264fec194212d2100550ecb6dd6b1cc37</td></tr>\n",
       "              <tr><td>Helm Chart Version</td><td>0.0.1-446aeed9-2d52-47ae-9e5c-f2a05ef0d4d6</td></tr>\n",
       "              <tr><td>Engine Config</td><td>{'engine': {'resources': {'limits': {'cpu': 4.0, 'memory': '3Gi'}, 'requests': {'cpu': 4.0, 'memory': '3Gi'}, 'accel': 'none', 'arch': 'x86', 'gpu': False}}, 'engineAux': {'autoscale': {'type': 'none'}, 'images': None}, 'enginelb': {'resources': {'limits': {'cpu': 1.0, 'memory': '512Mi'}, 'requests': {'cpu': 0.2, 'memory': '512Mi'}, 'accel': 'none', 'arch': 'x86', 'gpu': False}}}</td></tr>\n",
       "              <tr><td>User Images</td><td>[]</td></tr>\n",
       "              <tr><td>Created By</td><td>john.hummel@wallaroo.ai</td></tr>\n",
       "              <tr><td>Created At</td><td>2024-03-26 19:07:43.158229+00:00</td></tr>\n",
       "              <tr><td>Updated At</td><td>2024-03-26 19:07:43.158229+00:00</td></tr>\n",
       "              <tr><td>Replaces</td><td>Publish 10, Pipeline \"edge-inline-replacement-demo\", Version 26</td></tr>\n",
       "              <tr>\n",
       "                  <td>Docker Run Command</td>\n",
       "                  <td>\n",
       "                      <table><tr><td style=\"text-align: left\"><b>Edge</b></td><td style=\"text-align: left\"><b>Command</b></td></tr><tr><td>houseprice-edge-inline-replacement-demo</td><td>\n",
       "<pre style=\"text-align: left\">docker run -v $PERSISTENT_VOLUME_DIR:/persist \\\n",
       "    -e OCI_USERNAME=$OCI_USERNAME \\\n",
       "    -e OCI_PASSWORD=$OCI_PASSWORD \\\n",
       "    -e PIPELINE_URL=ghcr.io/wallaroolabs/doc-samples/pipelines/edge-inline-replacement-demo:446aeed9-2d52-47ae-9e5c-f2a05ef0d4d6\\\n",
       "    -e EDGE_BUNDLE=ZXhwb3J0IEJVTkRMRV9WRVJTSU9OPTEKZXhwb3J0IENPTkZJR19DUFVTPTQKZXhwb3J0IEVER0VfTkFNRT1ob3VzZXByaWNlLWVkZ2UtaW5saW5lLXJlcGxhY2VtZW50LWRlbW8KZXhwb3J0IE9QU0NFTlRFUl9IT1NUPWRvYy10ZXN0LmVkZ2Uud2FsbGFyb29jb21tdW5pdHkubmluamEKZXhwb3J0IFBJUEVMSU5FX1VSTD1naGNyLmlvL3dhbGxhcm9vbGFicy9kb2Mtc2FtcGxlcy9waXBlbGluZXMvZWRnZS1pbmxpbmUtcmVwbGFjZW1lbnQtZGVtbzo0NDZhZWVkOS0yZDUyLTQ3YWUtOWU1Yy1mMmEwNWVmMGQ0ZDYKZXhwb3J0IEpPSU5fVE9LRU49b21pdHRlZF9mb3JfcmVwbGFjZQpleHBvcnQgT0NJX1JFR0lTVFJZPWdoY3IuaW8= \\\n",
       "    ghcr.io/wallaroolabs/doc-samples/engines/proxy/wallaroo/ghcr.io/wallaroolabs/fitzroy-mini:v2024.1.0-main-4781</pre></td></tr></table>\n",
       "                      <br />\n",
       "                      <i>\n",
       "                          Note: Please set the <code>PERSISTENT_VOLUME_DIR</code>, <code>OCI_USERNAME</code>, and <code>OCI_PASSWORD</code> environment variables.\n",
       "                      </i>\n",
       "                  </td>\n",
       "              </tr>\n",
       "              <tr>\n",
       "                  <td>Helm Install Command</td>\n",
       "                  <td>\n",
       "                      <table><tr><td style=\"text-align: left\"><b>Edge</b></td><td style=\"text-align: left\"><b>Command</b></td></tr><tr><td>houseprice-edge-inline-replacement-demo</td><td>\n",
       "<pre style=\"text-align: left\">helm upgrade $HELM_INSTALL_NAME \\\n",
       "    oci://ghcr.io/wallaroolabs/doc-samples/charts/edge-inline-replacement-demo \\\n",
       "    --namespace $HELM_INSTALL_NAMESPACE \\\n",
       "    --version 0.0.1-446aeed9-2d52-47ae-9e5c-f2a05ef0d4d6 \\\n",
       "    --set ociRegistry.username=$OCI_USERNAME \\\n",
       "    --set ociRegistry.password=$OCI_PASSWORD \\\n",
       "    --set edgeBundle=ZXhwb3J0IEJVTkRMRV9WRVJTSU9OPTEKZXhwb3J0IENPTkZJR19DUFVTPTQKZXhwb3J0IEVER0VfTkFNRT1ob3VzZXByaWNlLWVkZ2UtaW5saW5lLXJlcGxhY2VtZW50LWRlbW8KZXhwb3J0IE9QU0NFTlRFUl9IT1NUPWRvYy10ZXN0LmVkZ2Uud2FsbGFyb29jb21tdW5pdHkubmluamEKZXhwb3J0IFBJUEVMSU5FX1VSTD1naGNyLmlvL3dhbGxhcm9vbGFicy9kb2Mtc2FtcGxlcy9waXBlbGluZXMvZWRnZS1pbmxpbmUtcmVwbGFjZW1lbnQtZGVtbzo0NDZhZWVkOS0yZDUyLTQ3YWUtOWU1Yy1mMmEwNWVmMGQ0ZDYKZXhwb3J0IEpPSU5fVE9LRU49b21pdHRlZF9mb3JfcmVwbGFjZQpleHBvcnQgT0NJX1JFR0lTVFJZPWdoY3IuaW8=</pre></td></tr></table>\n",
       "                      <br />\n",
       "                      <i>\n",
       "                          Note: Please set the <code>PERSISTENT_VOLUME_DIR</code>, <code>HELM_INSTALL_NAME</code>, <code>HELM_INSTALL_NAMESPACE</code>,\n",
       "                          <code>OCI_USERNAME</code>, and <code>OCI_PASSWORD</code> environment variables.\n",
       "                      </i>\n",
       "                  </td>\n",
       "              </tr>\n",
       "              \n",
       "          </table>\n",
       "        "
      ],
      "text/plain": [
       "PipelinePublish(created_at=datetime.datetime(2024, 3, 26, 19, 7, 43, 158229, tzinfo=tzutc()), docker_run_variables={'PIPELINE_URL': 'ghcr.io/wallaroolabs/doc-samples/pipelines/edge-inline-replacement-demo:446aeed9-2d52-47ae-9e5c-f2a05ef0d4d6'}, engine_config={'engine': {'resources': {'limits': {'cpu': 4.0, 'memory': '3Gi'}, 'requests': {'cpu': 4.0, 'memory': '3Gi'}, 'accel': 'none', 'arch': 'x86', 'gpu': False}}, 'engineAux': {'autoscale': {'type': 'none'}, 'images': None}, 'enginelb': {'resources': {'limits': {'cpu': 1.0, 'memory': '512Mi'}, 'requests': {'cpu': 0.2, 'memory': '512Mi'}, 'accel': 'none', 'arch': 'x86', 'gpu': False}}}, id=11, pipeline_name='edge-inline-replacement-demo', pipeline_version_id=28, replaces=[{'id': 10, 'pipeline_name': 'edge-inline-replacement-demo', 'pipeline_version_id': 26}], status='Published', updated_at=datetime.datetime(2024, 3, 26, 19, 7, 43, 158229, tzinfo=tzutc()), user_images=[], created_by='526c72b4-2a0b-4ade-8f96-8d6dfa642a82', created_on_version='2024.1.0', edge_bundles={'houseprice-edge-inline-replacement-demo': 'ZXhwb3J0IEJVTkRMRV9WRVJTSU9OPTEKZXhwb3J0IENPTkZJR19DUFVTPTQKZXhwb3J0IEVER0VfTkFNRT1ob3VzZXByaWNlLWVkZ2UtaW5saW5lLXJlcGxhY2VtZW50LWRlbW8KZXhwb3J0IE9QU0NFTlRFUl9IT1NUPWRvYy10ZXN0LmVkZ2Uud2FsbGFyb29jb21tdW5pdHkubmluamEKZXhwb3J0IFBJUEVMSU5FX1VSTD1naGNyLmlvL3dhbGxhcm9vbGFicy9kb2Mtc2FtcGxlcy9waXBlbGluZXMvZWRnZS1pbmxpbmUtcmVwbGFjZW1lbnQtZGVtbzo0NDZhZWVkOS0yZDUyLTQ3YWUtOWU1Yy1mMmEwNWVmMGQ0ZDYKZXhwb3J0IEpPSU5fVE9LRU49b21pdHRlZF9mb3JfcmVwbGFjZQpleHBvcnQgT0NJX1JFR0lTVFJZPWdoY3IuaW8='}, engine_url='ghcr.io/wallaroolabs/doc-samples/engines/proxy/wallaroo/ghcr.io/wallaroolabs/fitzroy-mini:v2024.1.0-main-4781', error=None, helm={'reference': 'ghcr.io/wallaroolabs/doc-samples/charts@sha256:268a8b7b22b3ab9a62127f56ac5152d264fec194212d2100550ecb6dd6b1cc37', 'values': {}, 'chart': 'ghcr.io/wallaroolabs/doc-samples/charts/edge-inline-replacement-demo', 'version': '0.0.1-446aeed9-2d52-47ae-9e5c-f2a05ef0d4d6'}, pipeline_url='ghcr.io/wallaroolabs/doc-samples/pipelines/edge-inline-replacement-demo:446aeed9-2d52-47ae-9e5c-f2a05ef0d4d6', pipeline_version_name='446aeed9-2d52-47ae-9e5c-f2a05ef0d4d6', additional_properties={})"
      ]
     },
     "execution_count": 22,
     "metadata": {},
     "output_type": "execute_result"
    }
   ],
   "source": [
    "new_pub = mainpipeline.publish(replaces=[pub])\n",
    "new_pub"
   ]
  },
  {
   "cell_type": "markdown",
   "metadata": {},
   "source": [
    "Note that in the `Replaces` section, updates are given for each edge location.  We'll continue with the `helm` version, this time with `helm upgrade` to make a new revision of the edge deployment.  The pipeline steps and models will be changed at the model edge location.\n",
    "\n",
    "Before we do so, we will verify the edge locations associated for our pipeline.  From our example, we will have just the one as created earlier."
   ]
  },
  {
   "cell_type": "code",
   "execution_count": 23,
   "metadata": {},
   "outputs": [
    {
     "data": {
      "text/html": [
       "<table><tr><th>ID</th><th>Name</th><th>Tags</th><th>SPIFFE ID</th></tr><tr><td>4a9f77c4-c9bc-4e4b-b59e-b232b80ebce7</td><td>houseprice-edge-inline-replacement-demo</td><td>[]</td><td>wallaroo.ai/ns/deployments/edge/4a9f77c4-c9bc-4e4b-b59e-b232b80ebce7</td></tr></table>"
      ],
      "text/plain": [
       "[Edge(cpus=4.0, id='4a9f77c4-c9bc-4e4b-b59e-b232b80ebce7', memory='3Gi', name='houseprice-edge-inline-replacement-demo', tags=[], created_on_version='2024.1.0', should_run_publish=11, spiffe_id='wallaroo.ai/ns/deployments/edge/4a9f77c4-c9bc-4e4b-b59e-b232b80ebce7', additional_properties={})]"
      ]
     },
     "execution_count": 23,
     "metadata": {},
     "output_type": "execute_result"
    }
   ],
   "source": [
    "mainpipeline.list_edges()"
   ]
  },
  {
   "cell_type": "markdown",
   "metadata": {},
   "source": [
    "#### Inference Requests with New Pipeline Version\n",
    "\n",
    "Once the `helm update` procedure is complete, we will verify the models and pipeline as before.  We will see the new model name and model version used."
   ]
  },
  {
   "cell_type": "code",
   "execution_count": 25,
   "metadata": {},
   "outputs": [
    {
     "name": "stdout",
     "output_type": "stream",
     "text": [
      "{\"models\":[{\"model_version\":{\"name\":\"xgb-house-price-estimator\",\"visibility\":\"private\",\"workspace_id\":7,\"conversion\":{\"python_version\":\"3.8\",\"requirements\":[],\"framework\":\"onnx\"},\"id\":10,\"image_path\":null,\"status\":\"ready\",\"task_id\":null,\"file_info\":{\"version\":\"8e9ad556-1ea0-4e87-b592-5c0d74bee16a\",\"sha\":\"31e92d6ccb27b041a324a7ac22cf95d9d6cc3aa7e8263a229f7c4aec4938657c\",\"file_name\":\"xgb_model.onnx\"},\"created_on_version\":\"2024.1.0\"},\"config\":{\"id\":20,\"model_version_id\":10,\"runtime\":\"onnx\",\"filter_threshold\":null,\"tensor_fields\":[\"tensor\"],\"input_schema\":null,\"output_schema\":null,\"batch_config\":null,\"sidekick_uri\":null},\"status\":\"Running\"}]}"
     ]
    }
   ],
   "source": [
    "!curl testboy.local:8080/models"
   ]
  },
  {
   "cell_type": "code",
   "execution_count": 26,
   "metadata": {},
   "outputs": [
    {
     "name": "stdout",
     "output_type": "stream",
     "text": [
      "{\"pipelines\":[{\"id\":\"edge-inline-replacement-demo\",\"status\":\"Running\"}]}"
     ]
    }
   ],
   "source": [
    "!curl testboy.local:8080/pipelines"
   ]
  },
  {
   "cell_type": "markdown",
   "metadata": {},
   "source": [
    "We now perform the same inference request on the edge location deployment, and show the results match that as the pipeline with the new model."
   ]
  },
  {
   "cell_type": "code",
   "execution_count": 27,
   "metadata": {},
   "outputs": [
    {
     "name": "stdout",
     "output_type": "stream",
     "text": [
      "  % Total    % Received % Xferd  Average Speed   Time    Time     Time  Current\n",
      "                                 Dload  Upload   Total   Spent    Left  Speed\n",
      "100   627  100   499  100   128  17357   4452 --:--:-- --:--:-- --:--:-- 22392\n"
     ]
    },
    {
     "data": {
      "text/html": [
       "<div>\n",
       "<style scoped>\n",
       "    .dataframe tbody tr th:only-of-type {\n",
       "        vertical-align: middle;\n",
       "    }\n",
       "\n",
       "    .dataframe tbody tr th {\n",
       "        vertical-align: top;\n",
       "    }\n",
       "\n",
       "    .dataframe thead th {\n",
       "        text-align: right;\n",
       "    }\n",
       "</style>\n",
       "<table border=\"1\" class=\"dataframe\">\n",
       "  <thead>\n",
       "    <tr style=\"text-align: right;\">\n",
       "      <th></th>\n",
       "      <th>time</th>\n",
       "      <th>out</th>\n",
       "      <th>metadata</th>\n",
       "    </tr>\n",
       "  </thead>\n",
       "  <tbody>\n",
       "    <tr>\n",
       "      <th>0</th>\n",
       "      <td>1711480296422</td>\n",
       "      <td>{'variable': [659806.0]}</td>\n",
       "      <td>{'last_model': '{\"model_name\":\"xgb-house-price-estimator\",\"model_sha\":\"31e92d6ccb27b041a324a7ac22cf95d9d6cc3aa7e8263a229f7c4aec4938657c\"}', 'pipeline_version': '446aeed9-2d52-47ae-9e5c-f2a05ef0d4d6', 'elapsed': [221664, 638204], 'dropped': [], 'partition': 'houseprice-edge-inline-replacement-demo'}</td>\n",
       "    </tr>\n",
       "  </tbody>\n",
       "</table>\n",
       "</div>"
      ],
      "text/plain": [
       "            time                       out  \\\n",
       "0  1711480296422  {'variable': [659806.0]}   \n",
       "\n",
       "                                                                                                                                                                                                                                                                                                      metadata  \n",
       "0  {'last_model': '{\"model_name\":\"xgb-house-price-estimator\",\"model_sha\":\"31e92d6ccb27b041a324a7ac22cf95d9d6cc3aa7e8263a229f7c4aec4938657c\"}', 'pipeline_version': '446aeed9-2d52-47ae-9e5c-f2a05ef0d4d6', 'elapsed': [221664, 638204], 'dropped': [], 'partition': 'houseprice-edge-inline-replacement-demo'}  "
      ]
     },
     "execution_count": 27,
     "metadata": {},
     "output_type": "execute_result"
    }
   ],
   "source": [
    "import json\n",
    "\n",
    "df = pd.DataFrame.from_records({\"tensor\": [[4.0, 2.5, 2900.0, 5505.0, 2.0, 0.0, 0.0, 3.0, 8.0, 2900.0, 0.0, 47.6063, -122.02, 2970.0, 5251.0, 12.0, 0.0, 0.0]]})\n",
    "\n",
    "data = df.to_dict(orient=\"records\")\n",
    "\n",
    "!curl -X POST testboy.local:8080/infer \\\n",
    "    -H \"Content-Type: Content-Type: application/json; format=pandas-records\" \\\n",
    "    --data '{json.dumps(data)}' > inferenceoutput.df.json\n",
    "\n",
    "# get the dataframe from what we just did\n",
    "\n",
    "df_result = pd.read_json('./inferenceoutput.df.json', orient=\"records\")\n",
    "df_result.loc[:, ['time', 'out', 'metadata']]"
   ]
  },
  {
   "cell_type": "markdown",
   "metadata": {},
   "source": [
    "We then show the pipeline logs to demonstrate the inference request at the edge location is added to the pipeline logs."
   ]
  },
  {
   "cell_type": "code",
   "execution_count": 28,
   "metadata": {},
   "outputs": [
    {
     "data": {
      "text/html": [
       "<div>\n",
       "<style scoped>\n",
       "    .dataframe tbody tr th:only-of-type {\n",
       "        vertical-align: middle;\n",
       "    }\n",
       "\n",
       "    .dataframe tbody tr th {\n",
       "        vertical-align: top;\n",
       "    }\n",
       "\n",
       "    .dataframe thead th {\n",
       "        text-align: right;\n",
       "    }\n",
       "</style>\n",
       "<table border=\"1\" class=\"dataframe\">\n",
       "  <thead>\n",
       "    <tr style=\"text-align: right;\">\n",
       "      <th></th>\n",
       "      <th>time</th>\n",
       "      <th>out.variable</th>\n",
       "      <th>metadata.last_model</th>\n",
       "      <th>metadata.partition</th>\n",
       "    </tr>\n",
       "  </thead>\n",
       "  <tbody>\n",
       "    <tr>\n",
       "      <th>0</th>\n",
       "      <td>2024-03-26 19:11:36.422</td>\n",
       "      <td>[659806.0]</td>\n",
       "      <td>{\"model_name\":\"xgb-house-price-estimator\",\"model_sha\":\"31e92d6ccb27b041a324a7ac22cf95d9d6cc3aa7e8263a229f7c4aec4938657c\"}</td>\n",
       "      <td>houseprice-edge-inline-replacement-demo</td>\n",
       "    </tr>\n",
       "    <tr>\n",
       "      <th>1</th>\n",
       "      <td>2024-03-26 18:59:35.506</td>\n",
       "      <td>[718013.7]</td>\n",
       "      <td>{\"model_name\":\"rf-house-price-estimator\",\"model_sha\":\"e22a0831aafd9917f3cc87a15ed267797f80e2afa12ad7d8810ca58f173b8cc6\"}</td>\n",
       "      <td>houseprice-edge-inline-replacement-demo</td>\n",
       "    </tr>\n",
       "    <tr>\n",
       "      <th>2</th>\n",
       "      <td>2024-03-26 18:53:44.662</td>\n",
       "      <td>[718013.7]</td>\n",
       "      <td>{\"model_name\":\"rf-house-price-estimator\",\"model_sha\":\"e22a0831aafd9917f3cc87a15ed267797f80e2afa12ad7d8810ca58f173b8cc6\"}</td>\n",
       "      <td>engine-858996678c-qvd2w</td>\n",
       "    </tr>\n",
       "    <tr>\n",
       "      <th>3</th>\n",
       "      <td>2024-03-26 19:07:40.093</td>\n",
       "      <td>[659806.0]</td>\n",
       "      <td>{\"model_name\":\"xgb-house-price-estimator\",\"model_sha\":\"31e92d6ccb27b041a324a7ac22cf95d9d6cc3aa7e8263a229f7c4aec4938657c\"}</td>\n",
       "      <td>engine-66d588899-qwcfx</td>\n",
       "    </tr>\n",
       "  </tbody>\n",
       "</table>\n",
       "</div>"
      ],
      "text/plain": [
       "                     time out.variable  \\\n",
       "0 2024-03-26 19:11:36.422   [659806.0]   \n",
       "1 2024-03-26 18:59:35.506   [718013.7]   \n",
       "2 2024-03-26 18:53:44.662   [718013.7]   \n",
       "3 2024-03-26 19:07:40.093   [659806.0]   \n",
       "\n",
       "                                                                                                         metadata.last_model  \\\n",
       "0  {\"model_name\":\"xgb-house-price-estimator\",\"model_sha\":\"31e92d6ccb27b041a324a7ac22cf95d9d6cc3aa7e8263a229f7c4aec4938657c\"}   \n",
       "1   {\"model_name\":\"rf-house-price-estimator\",\"model_sha\":\"e22a0831aafd9917f3cc87a15ed267797f80e2afa12ad7d8810ca58f173b8cc6\"}   \n",
       "2   {\"model_name\":\"rf-house-price-estimator\",\"model_sha\":\"e22a0831aafd9917f3cc87a15ed267797f80e2afa12ad7d8810ca58f173b8cc6\"}   \n",
       "3  {\"model_name\":\"xgb-house-price-estimator\",\"model_sha\":\"31e92d6ccb27b041a324a7ac22cf95d9d6cc3aa7e8263a229f7c4aec4938657c\"}   \n",
       "\n",
       "                        metadata.partition  \n",
       "0  houseprice-edge-inline-replacement-demo  \n",
       "1  houseprice-edge-inline-replacement-demo  \n",
       "2                  engine-858996678c-qvd2w  \n",
       "3                   engine-66d588899-qwcfx  "
      ]
     },
     "metadata": {},
     "output_type": "display_data"
    }
   ],
   "source": [
    "display(mainpipeline.logs(dataset=['time', 'out', 'metadata']).loc[:, ['time', 'out.variable', 'metadata.last_model', \"metadata.partition\"]])"
   ]
  },
  {
   "cell_type": "markdown",
   "metadata": {},
   "source": [
    "### Replace Edge Location from New Pipeline\n",
    "\n",
    "For this set of examples, we will upload the third model, `./models/gbr_model.onnx` and create a new pipeline named `new-edge-inline-replacement`.  This model is added as a pipeline step and deployed."
   ]
  },
  {
   "cell_type": "code",
   "execution_count": 44,
   "metadata": {},
   "outputs": [
    {
     "data": {
      "text/html": [
       "<table><tr><th>name</th> <td>new-edge-inline-replacement</td></tr><tr><th>created</th> <td>2024-03-26 19:15:46.571741+00:00</td></tr><tr><th>last_updated</th> <td>2024-03-26 19:15:47.072911+00:00</td></tr><tr><th>deployed</th> <td>True</td></tr><tr><th>arch</th> <td>None</td></tr><tr><th>accel</th> <td>None</td></tr><tr><th>tags</th> <td></td></tr><tr><th>versions</th> <td>964ac37f-4bf0-430b-bdd1-a0f4a8f0b012, b70c6f36-58d5-4d94-b939-f5af09fba1c5</td></tr><tr><th>steps</th> <td>gbr-house-price-estimator</td></tr><tr><th>published</th> <td>False</td></tr></table>"
      ],
      "text/plain": [
       "{'name': 'new-edge-inline-replacement', 'create_time': datetime.datetime(2024, 3, 26, 19, 15, 46, 571741, tzinfo=tzutc()), 'definition': \"[{'ModelInference': {'models': [{'name': 'gbr-house-price-estimator', 'version': '759aa90b-b0c4-4b50-87f8-37bda4d69a58', 'sha': 'ed6065a79d841f7e96307bb20d5ef22840f15da0b587efb51425c7ad60589d6a'}]}}]\"}"
      ]
     },
     "execution_count": 44,
     "metadata": {},
     "output_type": "execute_result"
    }
   ],
   "source": [
    "housing_model_challenger02 = (wl.upload_model(\"gbr-house-price-estimator\", \n",
    "                                        './models/gbr_model.onnx', \n",
    "                                        framework=Framework.ONNX)\n",
    "                                        .configure(tensor_fields=[\"tensor\"])\n",
    "                        )\n",
    "\n",
    "new_pipeline = wl.build_pipeline(\"new-edge-inline-replacement\")\n",
    "# clear the steps if used before\n",
    "new_pipeline.clear()\n",
    "\n",
    "new_pipeline.add_model_step(housing_model_challenger02)\n",
    "\n",
    "#minimum deployment config\n",
    "deploy_config = wallaroo.DeploymentConfigBuilder().replica_count(1).cpus(0.5).memory(\"1Gi\").build()\n",
    "\n",
    "new_pipeline.deploy(deployment_config = deploy_config)"
   ]
  },
  {
   "cell_type": "markdown",
   "metadata": {},
   "source": [
    "We now perform an inference request on the deployed pipeline, and show the results which should be around `$700k`."
   ]
  },
  {
   "cell_type": "code",
   "execution_count": 45,
   "metadata": {},
   "outputs": [
    {
     "data": {
      "text/html": [
       "<div>\n",
       "<style scoped>\n",
       "    .dataframe tbody tr th:only-of-type {\n",
       "        vertical-align: middle;\n",
       "    }\n",
       "\n",
       "    .dataframe tbody tr th {\n",
       "        vertical-align: top;\n",
       "    }\n",
       "\n",
       "    .dataframe thead th {\n",
       "        text-align: right;\n",
       "    }\n",
       "</style>\n",
       "<table border=\"1\" class=\"dataframe\">\n",
       "  <thead>\n",
       "    <tr style=\"text-align: right;\">\n",
       "      <th></th>\n",
       "      <th>time</th>\n",
       "      <th>in.tensor</th>\n",
       "      <th>out.variable</th>\n",
       "      <th>anomaly.count</th>\n",
       "    </tr>\n",
       "  </thead>\n",
       "  <tbody>\n",
       "    <tr>\n",
       "      <th>0</th>\n",
       "      <td>2024-03-26 19:16:01.986</td>\n",
       "      <td>[4.0, 2.5, 2900.0, 5505.0, 2.0, 0.0, 0.0, 3.0, 8.0, 2900.0, 0.0, 47.6063, -122.02, 2970.0, 5251.0, 12.0, 0.0, 0.0]</td>\n",
       "      <td>[704901.9]</td>\n",
       "      <td>0</td>\n",
       "    </tr>\n",
       "  </tbody>\n",
       "</table>\n",
       "</div>"
      ],
      "text/plain": [
       "                     time  \\\n",
       "0 2024-03-26 19:16:01.986   \n",
       "\n",
       "                                                                                                            in.tensor  \\\n",
       "0  [4.0, 2.5, 2900.0, 5505.0, 2.0, 0.0, 0.0, 3.0, 8.0, 2900.0, 0.0, 47.6063, -122.02, 2970.0, 5251.0, 12.0, 0.0, 0.0]   \n",
       "\n",
       "  out.variable  anomaly.count  \n",
       "0   [704901.9]              0  "
      ]
     },
     "metadata": {},
     "output_type": "display_data"
    }
   ],
   "source": [
    "normal_input = pd.DataFrame.from_records({\"tensor\": [[4.0, 2.5, 2900.0, 5505.0, 2.0, 0.0, 0.0, 3.0, 8.0, 2900.0, 0.0, 47.6063, -122.02, 2970.0, 5251.0, 12.0, 0.0, 0.0]]})\n",
    "result = new_pipeline.infer(normal_input)\n",
    "display(result)"
   ]
  },
  {
   "cell_type": "markdown",
   "metadata": {},
   "source": [
    "With the example complete, we undeploy the pipeline to return resources back to the cluster."
   ]
  },
  {
   "cell_type": "code",
   "execution_count": 46,
   "metadata": {},
   "outputs": [
    {
     "data": {
      "text/html": [
       "<table><tr><th>name</th> <td>new-edge-inline-replacement</td></tr><tr><th>created</th> <td>2024-03-26 19:15:46.571741+00:00</td></tr><tr><th>last_updated</th> <td>2024-03-26 19:15:47.072911+00:00</td></tr><tr><th>deployed</th> <td>False</td></tr><tr><th>arch</th> <td>None</td></tr><tr><th>accel</th> <td>None</td></tr><tr><th>tags</th> <td></td></tr><tr><th>versions</th> <td>964ac37f-4bf0-430b-bdd1-a0f4a8f0b012, b70c6f36-58d5-4d94-b939-f5af09fba1c5</td></tr><tr><th>steps</th> <td>gbr-house-price-estimator</td></tr><tr><th>published</th> <td>False</td></tr></table>"
      ],
      "text/plain": [
       "{'name': 'new-edge-inline-replacement', 'create_time': datetime.datetime(2024, 3, 26, 19, 15, 46, 571741, tzinfo=tzutc()), 'definition': \"[{'ModelInference': {'models': [{'name': 'gbr-house-price-estimator', 'version': '759aa90b-b0c4-4b50-87f8-37bda4d69a58', 'sha': 'ed6065a79d841f7e96307bb20d5ef22840f15da0b587efb51425c7ad60589d6a'}]}}]\"}"
      ]
     },
     "execution_count": 46,
     "metadata": {},
     "output_type": "execute_result"
    }
   ],
   "source": [
    "new_pipeline.undeploy()"
   ]
  },
  {
   "cell_type": "markdown",
   "metadata": {},
   "source": [
    "#### Publish the New Pipeline and Replace Location\n",
    "\n",
    "We will now publish the new pipeline, and replace the previous edge location publish - labeled `new_pub` with this new one - labeled `new_pipeline_pub`.\n",
    "\n",
    "We will a new update to the edge location, with a new `helm upgrade` command to use.\n"
   ]
  },
  {
   "cell_type": "code",
   "execution_count": 47,
   "metadata": {},
   "outputs": [
    {
     "name": "stdout",
     "output_type": "stream",
     "text": [
      "Waiting for pipeline publish... It may take up to 600 sec.\n",
      "Pipeline is publishing...... Published.\n"
     ]
    },
    {
     "data": {
      "text/html": [
       "\n",
       "          <table>\n",
       "              <tr><td>ID</td><td>13</td></tr>\n",
       "              <tr><td>Pipeline Name</td><td>new-edge-inline-replacement</td></tr>\n",
       "              <tr><td>Pipeline Version</td><td>00921571-3db7-4bf9-94dc-377aab558475</td></tr>\n",
       "              <tr><td>Status</td><td>Published</td></tr>\n",
       "              <tr><td>Engine URL</td><td><a href='https://ghcr.io/wallaroolabs/doc-samples/engines/proxy/wallaroo/ghcr.io/wallaroolabs/fitzroy-mini:v2024.1.0-main-4781'>ghcr.io/wallaroolabs/doc-samples/engines/proxy/wallaroo/ghcr.io/wallaroolabs/fitzroy-mini:v2024.1.0-main-4781</a></td></tr>\n",
       "              <tr><td>Pipeline URL</td><td><a href='https://ghcr.io/wallaroolabs/doc-samples/pipelines/new-edge-inline-replacement:00921571-3db7-4bf9-94dc-377aab558475'>ghcr.io/wallaroolabs/doc-samples/pipelines/new-edge-inline-replacement:00921571-3db7-4bf9-94dc-377aab558475</a></td></tr>\n",
       "              <tr><td>Helm Chart URL</td><td>oci://<a href='https://ghcr.io/wallaroolabs/doc-samples/charts/new-edge-inline-replacement'>ghcr.io/wallaroolabs/doc-samples/charts/new-edge-inline-replacement</a></td></tr>\n",
       "              <tr><td>Helm Chart Reference</td><td>ghcr.io/wallaroolabs/doc-samples/charts@sha256:fe9a2d04f09723d5f09d0bc83d4b02367c91bdfc442007a9881e64b2f6eccfad</td></tr>\n",
       "              <tr><td>Helm Chart Version</td><td>0.0.1-00921571-3db7-4bf9-94dc-377aab558475</td></tr>\n",
       "              <tr><td>Engine Config</td><td>{'engine': {'resources': {'limits': {'cpu': 4.0, 'memory': '3Gi'}, 'requests': {'cpu': 4.0, 'memory': '3Gi'}, 'accel': 'none', 'arch': 'x86', 'gpu': False}}, 'engineAux': {'autoscale': {'type': 'none'}, 'images': None}, 'enginelb': {'resources': {'limits': {'cpu': 1.0, 'memory': '512Mi'}, 'requests': {'cpu': 0.2, 'memory': '512Mi'}, 'accel': 'none', 'arch': 'x86', 'gpu': False}}}</td></tr>\n",
       "              <tr><td>User Images</td><td>[]</td></tr>\n",
       "              <tr><td>Created By</td><td>john.hummel@wallaroo.ai</td></tr>\n",
       "              <tr><td>Created At</td><td>2024-03-26 19:16:41.564433+00:00</td></tr>\n",
       "              <tr><td>Updated At</td><td>2024-03-26 19:16:41.564433+00:00</td></tr>\n",
       "              <tr><td>Replaces</td><td>Publish 12, Pipeline \"new-edge-replacement\", Version 31</td></tr>\n",
       "              <tr>\n",
       "                  <td>Docker Run Command</td>\n",
       "                  <td>\n",
       "                      <table><tr><td style=\"text-align: left\"><b>Edge</b></td><td style=\"text-align: left\"><b>Command</b></td></tr><tr><td>houseprice-edge-inline-replacement-demo</td><td>\n",
       "<pre style=\"text-align: left\">docker run -v $PERSISTENT_VOLUME_DIR:/persist \\\n",
       "    -e OCI_USERNAME=$OCI_USERNAME \\\n",
       "    -e OCI_PASSWORD=$OCI_PASSWORD \\\n",
       "    -e PIPELINE_URL=ghcr.io/wallaroolabs/doc-samples/pipelines/new-edge-inline-replacement:00921571-3db7-4bf9-94dc-377aab558475\\\n",
       "    -e EDGE_BUNDLE=ZXhwb3J0IEJVTkRMRV9WRVJTSU9OPTEKZXhwb3J0IENPTkZJR19DUFVTPTQKZXhwb3J0IEVER0VfTkFNRT1ob3VzZXByaWNlLWVkZ2UtaW5saW5lLXJlcGxhY2VtZW50LWRlbW8KZXhwb3J0IE9QU0NFTlRFUl9IT1NUPWRvYy10ZXN0LmVkZ2Uud2FsbGFyb29jb21tdW5pdHkubmluamEKZXhwb3J0IFBJUEVMSU5FX1VSTD1naGNyLmlvL3dhbGxhcm9vbGFicy9kb2Mtc2FtcGxlcy9waXBlbGluZXMvbmV3LWVkZ2UtaW5saW5lLXJlcGxhY2VtZW50OjAwOTIxNTcxLTNkYjctNGJmOS05NGRjLTM3N2FhYjU1ODQ3NQpleHBvcnQgSk9JTl9UT0tFTj1vbWl0dGVkX2Zvcl9yZXBsYWNlCmV4cG9ydCBPQ0lfUkVHSVNUUlk9Z2hjci5pbw== \\\n",
       "    ghcr.io/wallaroolabs/doc-samples/engines/proxy/wallaroo/ghcr.io/wallaroolabs/fitzroy-mini:v2024.1.0-main-4781</pre></td></tr></table>\n",
       "                      <br />\n",
       "                      <i>\n",
       "                          Note: Please set the <code>PERSISTENT_VOLUME_DIR</code>, <code>OCI_USERNAME</code>, and <code>OCI_PASSWORD</code> environment variables.\n",
       "                      </i>\n",
       "                  </td>\n",
       "              </tr>\n",
       "              <tr>\n",
       "                  <td>Helm Install Command</td>\n",
       "                  <td>\n",
       "                      <table><tr><td style=\"text-align: left\"><b>Edge</b></td><td style=\"text-align: left\"><b>Command</b></td></tr><tr><td>houseprice-edge-inline-replacement-demo</td><td>\n",
       "<pre style=\"text-align: left\">helm upgrade $HELM_INSTALL_NAME \\\n",
       "    oci://ghcr.io/wallaroolabs/doc-samples/charts/new-edge-inline-replacement \\\n",
       "    --namespace $HELM_INSTALL_NAMESPACE \\\n",
       "    --version 0.0.1-00921571-3db7-4bf9-94dc-377aab558475 \\\n",
       "    --set ociRegistry.username=$OCI_USERNAME \\\n",
       "    --set ociRegistry.password=$OCI_PASSWORD \\\n",
       "    --set edgeBundle=ZXhwb3J0IEJVTkRMRV9WRVJTSU9OPTEKZXhwb3J0IENPTkZJR19DUFVTPTQKZXhwb3J0IEVER0VfTkFNRT1ob3VzZXByaWNlLWVkZ2UtaW5saW5lLXJlcGxhY2VtZW50LWRlbW8KZXhwb3J0IE9QU0NFTlRFUl9IT1NUPWRvYy10ZXN0LmVkZ2Uud2FsbGFyb29jb21tdW5pdHkubmluamEKZXhwb3J0IFBJUEVMSU5FX1VSTD1naGNyLmlvL3dhbGxhcm9vbGFicy9kb2Mtc2FtcGxlcy9waXBlbGluZXMvbmV3LWVkZ2UtaW5saW5lLXJlcGxhY2VtZW50OjAwOTIxNTcxLTNkYjctNGJmOS05NGRjLTM3N2FhYjU1ODQ3NQpleHBvcnQgSk9JTl9UT0tFTj1vbWl0dGVkX2Zvcl9yZXBsYWNlCmV4cG9ydCBPQ0lfUkVHSVNUUlk9Z2hjci5pbw==</pre></td></tr></table>\n",
       "                      <br />\n",
       "                      <i>\n",
       "                          Note: Please set the <code>PERSISTENT_VOLUME_DIR</code>, <code>HELM_INSTALL_NAME</code>, <code>HELM_INSTALL_NAMESPACE</code>,\n",
       "                          <code>OCI_USERNAME</code>, and <code>OCI_PASSWORD</code> environment variables.\n",
       "                      </i>\n",
       "                  </td>\n",
       "              </tr>\n",
       "              \n",
       "          </table>\n",
       "        "
      ],
      "text/plain": [
       "PipelinePublish(created_at=datetime.datetime(2024, 3, 26, 19, 16, 41, 564433, tzinfo=tzutc()), docker_run_variables={'PIPELINE_URL': 'ghcr.io/wallaroolabs/doc-samples/pipelines/new-edge-inline-replacement:00921571-3db7-4bf9-94dc-377aab558475'}, engine_config={'engine': {'resources': {'limits': {'cpu': 4.0, 'memory': '3Gi'}, 'requests': {'cpu': 4.0, 'memory': '3Gi'}, 'accel': 'none', 'arch': 'x86', 'gpu': False}}, 'engineAux': {'autoscale': {'type': 'none'}, 'images': None}, 'enginelb': {'resources': {'limits': {'cpu': 1.0, 'memory': '512Mi'}, 'requests': {'cpu': 0.2, 'memory': '512Mi'}, 'accel': 'none', 'arch': 'x86', 'gpu': False}}}, id=13, pipeline_name='new-edge-inline-replacement', pipeline_version_id=34, replaces=[{'id': 12, 'pipeline_name': 'new-edge-replacement', 'pipeline_version_id': 31}], status='Published', updated_at=datetime.datetime(2024, 3, 26, 19, 16, 41, 564433, tzinfo=tzutc()), user_images=[], created_by='526c72b4-2a0b-4ade-8f96-8d6dfa642a82', created_on_version='2024.1.0', edge_bundles={'houseprice-edge-inline-replacement-demo': 'ZXhwb3J0IEJVTkRMRV9WRVJTSU9OPTEKZXhwb3J0IENPTkZJR19DUFVTPTQKZXhwb3J0IEVER0VfTkFNRT1ob3VzZXByaWNlLWVkZ2UtaW5saW5lLXJlcGxhY2VtZW50LWRlbW8KZXhwb3J0IE9QU0NFTlRFUl9IT1NUPWRvYy10ZXN0LmVkZ2Uud2FsbGFyb29jb21tdW5pdHkubmluamEKZXhwb3J0IFBJUEVMSU5FX1VSTD1naGNyLmlvL3dhbGxhcm9vbGFicy9kb2Mtc2FtcGxlcy9waXBlbGluZXMvbmV3LWVkZ2UtaW5saW5lLXJlcGxhY2VtZW50OjAwOTIxNTcxLTNkYjctNGJmOS05NGRjLTM3N2FhYjU1ODQ3NQpleHBvcnQgSk9JTl9UT0tFTj1vbWl0dGVkX2Zvcl9yZXBsYWNlCmV4cG9ydCBPQ0lfUkVHSVNUUlk9Z2hjci5pbw=='}, engine_url='ghcr.io/wallaroolabs/doc-samples/engines/proxy/wallaroo/ghcr.io/wallaroolabs/fitzroy-mini:v2024.1.0-main-4781', error=None, helm={'reference': 'ghcr.io/wallaroolabs/doc-samples/charts@sha256:fe9a2d04f09723d5f09d0bc83d4b02367c91bdfc442007a9881e64b2f6eccfad', 'values': {}, 'chart': 'ghcr.io/wallaroolabs/doc-samples/charts/new-edge-inline-replacement', 'version': '0.0.1-00921571-3db7-4bf9-94dc-377aab558475'}, pipeline_url='ghcr.io/wallaroolabs/doc-samples/pipelines/new-edge-inline-replacement:00921571-3db7-4bf9-94dc-377aab558475', pipeline_version_name='00921571-3db7-4bf9-94dc-377aab558475', additional_properties={})"
      ]
     },
     "execution_count": 47,
     "metadata": {},
     "output_type": "execute_result"
    }
   ],
   "source": [
    "new_pipeline_pub = new_pipeline.publish(replaces=[new_pub])\n",
    "new_pipeline_pub"
   ]
  },
  {
   "cell_type": "markdown",
   "metadata": {},
   "source": [
    "With the edge location replacement complete with the new pipeline, we list the edges to the original pipeline and the new one to show the edge location is transferred to the new pipeline."
   ]
  },
  {
   "cell_type": "code",
   "execution_count": 48,
   "metadata": {},
   "outputs": [
    {
     "data": {
      "text/html": [
       "(no pipelines)"
      ],
      "text/plain": [
       "[]"
      ]
     },
     "execution_count": 48,
     "metadata": {},
     "output_type": "execute_result"
    }
   ],
   "source": [
    "mainpipeline.list_edges()"
   ]
  },
  {
   "cell_type": "code",
   "execution_count": 49,
   "metadata": {},
   "outputs": [
    {
     "data": {
      "text/html": [
       "<table><tr><th>ID</th><th>Name</th><th>Tags</th><th>SPIFFE ID</th></tr><tr><td>4a9f77c4-c9bc-4e4b-b59e-b232b80ebce7</td><td>houseprice-edge-inline-replacement-demo</td><td>[]</td><td>wallaroo.ai/ns/deployments/edge/4a9f77c4-c9bc-4e4b-b59e-b232b80ebce7</td></tr></table>"
      ],
      "text/plain": [
       "[Edge(cpus=4.0, id='4a9f77c4-c9bc-4e4b-b59e-b232b80ebce7', memory='3Gi', name='houseprice-edge-inline-replacement-demo', tags=[], created_on_version='2024.1.0', should_run_publish=13, spiffe_id='wallaroo.ai/ns/deployments/edge/4a9f77c4-c9bc-4e4b-b59e-b232b80ebce7', additional_properties={})]"
      ]
     },
     "execution_count": 49,
     "metadata": {},
     "output_type": "execute_result"
    }
   ],
   "source": [
    "new_pipeline.list_edges()"
   ]
  },
  {
   "cell_type": "markdown",
   "metadata": {},
   "source": [
    "#### Sample Inference Requests with New Pipeline Edge Location\n",
    "\n",
    "Once we have performed the `helm upgrade` command, we will run through the `/models` and `/pipelines` endpoints, then perform an inference request.  We will see the name of the new model - and the new pipeline used for the same edge location."
   ]
  },
  {
   "cell_type": "code",
   "execution_count": 52,
   "metadata": {},
   "outputs": [
    {
     "name": "stdout",
     "output_type": "stream",
     "text": [
      "{\"models\":[{\"model_version\":{\"name\":\"gbr-house-price-estimator\",\"visibility\":\"private\",\"workspace_id\":7,\"conversion\":{\"python_version\":\"3.8\",\"requirements\":[],\"framework\":\"onnx\"},\"id\":12,\"image_path\":null,\"status\":\"ready\",\"task_id\":null,\"file_info\":{\"version\":\"759aa90b-b0c4-4b50-87f8-37bda4d69a58\",\"sha\":\"ed6065a79d841f7e96307bb20d5ef22840f15da0b587efb51425c7ad60589d6a\",\"file_name\":\"gbr_model.onnx\"},\"created_on_version\":\"2024.1.0\"},\"config\":{\"id\":24,\"model_version_id\":12,\"runtime\":\"onnx\",\"filter_threshold\":null,\"tensor_fields\":[\"tensor\"],\"input_schema\":null,\"output_schema\":null,\"batch_config\":null,\"sidekick_uri\":null},\"status\":\"Running\"}]}"
     ]
    }
   ],
   "source": [
    "!curl testboy.local:8080/models"
   ]
  },
  {
   "cell_type": "code",
   "execution_count": 53,
   "metadata": {},
   "outputs": [
    {
     "name": "stdout",
     "output_type": "stream",
     "text": [
      "{\"pipelines\":[{\"id\":\"new-edge-inline-replacement\",\"status\":\"Running\"}]}"
     ]
    }
   ],
   "source": [
    "!curl testboy.local:8080/pipelines"
   ]
  },
  {
   "cell_type": "code",
   "execution_count": 54,
   "metadata": {},
   "outputs": [
    {
     "name": "stdout",
     "output_type": "stream",
     "text": [
      "  % Total    % Received % Xferd  Average Speed   Time    Time     Time  Current\n",
      "                                 Dload  Upload   Total   Spent    Left  Speed\n",
      "100   627  100   499  100   128  18816   4826 --:--:-- --:--:-- --:--:-- 24115\n"
     ]
    },
    {
     "data": {
      "text/html": [
       "<div>\n",
       "<style scoped>\n",
       "    .dataframe tbody tr th:only-of-type {\n",
       "        vertical-align: middle;\n",
       "    }\n",
       "\n",
       "    .dataframe tbody tr th {\n",
       "        vertical-align: top;\n",
       "    }\n",
       "\n",
       "    .dataframe thead th {\n",
       "        text-align: right;\n",
       "    }\n",
       "</style>\n",
       "<table border=\"1\" class=\"dataframe\">\n",
       "  <thead>\n",
       "    <tr style=\"text-align: right;\">\n",
       "      <th></th>\n",
       "      <th>time</th>\n",
       "      <th>out</th>\n",
       "      <th>metadata</th>\n",
       "    </tr>\n",
       "  </thead>\n",
       "  <tbody>\n",
       "    <tr>\n",
       "      <th>0</th>\n",
       "      <td>1711480680645</td>\n",
       "      <td>{'variable': [704901.9]}</td>\n",
       "      <td>{'last_model': '{\"model_name\":\"gbr-house-price-estimator\",\"model_sha\":\"ed6065a79d841f7e96307bb20d5ef22840f15da0b587efb51425c7ad60589d6a\"}', 'pipeline_version': '00921571-3db7-4bf9-94dc-377aab558475', 'elapsed': [296090, 747861], 'dropped': [], 'partition': 'houseprice-edge-inline-replacement-demo'}</td>\n",
       "    </tr>\n",
       "  </tbody>\n",
       "</table>\n",
       "</div>"
      ],
      "text/plain": [
       "            time                       out  \\\n",
       "0  1711480680645  {'variable': [704901.9]}   \n",
       "\n",
       "                                                                                                                                                                                                                                                                                                      metadata  \n",
       "0  {'last_model': '{\"model_name\":\"gbr-house-price-estimator\",\"model_sha\":\"ed6065a79d841f7e96307bb20d5ef22840f15da0b587efb51425c7ad60589d6a\"}', 'pipeline_version': '00921571-3db7-4bf9-94dc-377aab558475', 'elapsed': [296090, 747861], 'dropped': [], 'partition': 'houseprice-edge-inline-replacement-demo'}  "
      ]
     },
     "execution_count": 54,
     "metadata": {},
     "output_type": "execute_result"
    }
   ],
   "source": [
    "# new inference\n",
    "\n",
    "import json\n",
    "\n",
    "df = pd.DataFrame.from_records({\"tensor\": [[4.0, 2.5, 2900.0, 5505.0, 2.0, 0.0, 0.0, 3.0, 8.0, 2900.0, 0.0, 47.6063, -122.02, 2970.0, 5251.0, 12.0, 0.0, 0.0]]})\n",
    "\n",
    "data = df.to_dict(orient=\"records\")\n",
    "\n",
    "!curl -X POST testboy.local:8080/infer \\\n",
    "    -H \"Content-Type: Content-Type: application/json; format=pandas-records\" \\\n",
    "    --data '{json.dumps(data)}' > inferenceoutput.df.json\n",
    "\n",
    "# get the dataframe from what we just did\n",
    "\n",
    "df_result = pd.read_json('./inferenceoutput.df.json', orient=\"records\")\n",
    "df_result.loc[:, ['time', 'out', 'metadata']]"
   ]
  },
  {
   "cell_type": "markdown",
   "metadata": {},
   "source": [
    "With the inference request complete, we can check the logs of our new pipeline and verify the edge location inference requests are uploaded to it."
   ]
  },
  {
   "cell_type": "code",
   "execution_count": 55,
   "metadata": {},
   "outputs": [
    {
     "data": {
      "text/html": [
       "<div>\n",
       "<style scoped>\n",
       "    .dataframe tbody tr th:only-of-type {\n",
       "        vertical-align: middle;\n",
       "    }\n",
       "\n",
       "    .dataframe tbody tr th {\n",
       "        vertical-align: top;\n",
       "    }\n",
       "\n",
       "    .dataframe thead th {\n",
       "        text-align: right;\n",
       "    }\n",
       "</style>\n",
       "<table border=\"1\" class=\"dataframe\">\n",
       "  <thead>\n",
       "    <tr style=\"text-align: right;\">\n",
       "      <th></th>\n",
       "      <th>time</th>\n",
       "      <th>out.variable</th>\n",
       "      <th>metadata.last_model</th>\n",
       "      <th>metadata.partition</th>\n",
       "    </tr>\n",
       "  </thead>\n",
       "  <tbody>\n",
       "    <tr>\n",
       "      <th>0</th>\n",
       "      <td>2024-03-26 19:18:00.645</td>\n",
       "      <td>[704901.9]</td>\n",
       "      <td>{\"model_name\":\"gbr-house-price-estimator\",\"model_sha\":\"ed6065a79d841f7e96307bb20d5ef22840f15da0b587efb51425c7ad60589d6a\"}</td>\n",
       "      <td>houseprice-edge-inline-replacement-demo</td>\n",
       "    </tr>\n",
       "    <tr>\n",
       "      <th>1</th>\n",
       "      <td>2024-03-26 19:16:01.986</td>\n",
       "      <td>[704901.9]</td>\n",
       "      <td>{\"model_name\":\"gbr-house-price-estimator\",\"model_sha\":\"ed6065a79d841f7e96307bb20d5ef22840f15da0b587efb51425c7ad60589d6a\"}</td>\n",
       "      <td>engine-5c5c799fbf-scxjs</td>\n",
       "    </tr>\n",
       "  </tbody>\n",
       "</table>\n",
       "</div>"
      ],
      "text/plain": [
       "                     time out.variable  \\\n",
       "0 2024-03-26 19:18:00.645   [704901.9]   \n",
       "1 2024-03-26 19:16:01.986   [704901.9]   \n",
       "\n",
       "                                                                                                         metadata.last_model  \\\n",
       "0  {\"model_name\":\"gbr-house-price-estimator\",\"model_sha\":\"ed6065a79d841f7e96307bb20d5ef22840f15da0b587efb51425c7ad60589d6a\"}   \n",
       "1  {\"model_name\":\"gbr-house-price-estimator\",\"model_sha\":\"ed6065a79d841f7e96307bb20d5ef22840f15da0b587efb51425c7ad60589d6a\"}   \n",
       "\n",
       "                        metadata.partition  \n",
       "0  houseprice-edge-inline-replacement-demo  \n",
       "1                  engine-5c5c799fbf-scxjs  "
      ]
     },
     "metadata": {},
     "output_type": "display_data"
    }
   ],
   "source": [
    "display(new_pipeline.logs(dataset=['time', 'out', 'metadata']).loc[:, ['time', 'out.variable', 'metadata.last_model', \"metadata.partition\"]])"
   ]
  }
 ],
 "metadata": {
  "kernelspec": {
   "display_name": "Python 3 (ipykernel)",
   "language": "python",
   "name": "python3"
  },
  "language_info": {
   "codemirror_mode": {
    "name": "ipython",
    "version": 3
   },
   "file_extension": ".py",
   "mimetype": "text/x-python",
   "name": "python",
   "nbconvert_exporter": "python",
   "pygments_lexer": "ipython3",
   "version": "3.9.18"
  },
  "vscode": {
   "interpreter": {
    "hash": "7dda4bf3640b7fafcd1648658b879b4cc9f6ba6084e8fb356fdaaa1a461d1690"
   }
  }
 },
 "nbformat": 4,
 "nbformat_minor": 4
}
