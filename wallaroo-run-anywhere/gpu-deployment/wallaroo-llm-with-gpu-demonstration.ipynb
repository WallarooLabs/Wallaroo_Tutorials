{
 "cells": [
  {
   "cell_type": "markdown",
   "id": "0ff93545",
   "metadata": {},
   "source": [
    "This tutorial and the assets can be downloaded as part of the [Wallaroo Tutorials repository](https://github.com/WallarooLabs/Wallaroo_Tutorials/blob/wallaroo2024.4_tutorials/wallaroo-run-anywhere/gpu-deployment).\n",
    "\n",
    "## Large Language Model with GPU Pipeline Deployment in Wallaroo Demonstration\n",
    "\n",
    "Wallaroo supports the use of GPUs for model deployment and inferences.  This demonstration demonstrates using a Hugging Face Large Language Model (LLM) stored in a registry service that creates summaries of larger text strings.\n",
    "\n",
    "### Tutorial Goals\n",
    "\n",
    "For this demonstration, a cluster with GPU resources will be hosting the Wallaroo instance.\n",
    "\n",
    "1. The containerized model `hf-bart-summarizer3` will be registered to a Wallaroo workspace.\n",
    "1. The model will be added as a step to a Wallaroo pipeline.\n",
    "1. When the pipeline is deployed, the deployment configuration will specify the allocation of a GPU to the pipeline.\n",
    "1. A sample inference summarizing a set of text is used as an inference input, and the sample results and time period displayed.\n",
    "\n",
    "### Prerequisites\n",
    "\n",
    "The following is required for this tutorial:\n",
    "\n",
    "* A Wallaroo Enterprise version 2023.2.1 or greater instance installed into a  GPU enabled Kubernetes cluster as described in the [Wallaroo Create GPU Nodepools Kubernetes Clusters guide](https://docs.wallaroo.ai/wallaroo-operations-guide/wallaroo-install-guides/wallaroo-install-configurations/wallaroo-gpu-nodepools/).\n",
    "* The Wallaroo SDK version 2023.2.1 or greater.\n",
    "\n",
    "### References\n",
    "\n",
    "* [Wallaroo SDK Essentials Guide: Pipeline Deployment Configuration](https://docs.wallaroo.ai/wallaroo-developer-guides/wallaroo-sdk-guides/wallaroo-sdk-essentials-guide/wallaroo-sdk-essentials-pipelines/wallaroo-sdk-essentials-pipeline-deployment-config/)\n",
    "* [Wallaroo SDK Reference wallaroo.deployment_config](https://docs.wallaroo.ai/wallaroo-developer-guides/wallaroo-sdk-guides/wallaroo-sdk-reference-guide/deployment_config/)"
   ]
  },
  {
   "cell_type": "markdown",
   "id": "cd27b67b",
   "metadata": {},
   "source": [
    "## Tutorial Steps\n",
    "\n",
    "### Import Libraries\n",
    "\n",
    "The first step is to import the libraries we'll be using.  These are included by default in the Wallaroo instance's JupyterHub service."
   ]
  },
  {
   "cell_type": "code",
   "execution_count": 1,
   "id": "18745f54-45d1-464e-989c-34a70128da89",
   "metadata": {},
   "outputs": [],
   "source": [
    "import json\n",
    "import os\n",
    "import pickle\n",
    "\n",
    "import wallaroo\n",
    "from wallaroo.pipeline   import Pipeline\n",
    "from wallaroo.deployment_config import DeploymentConfigBuilder\n",
    "from wallaroo.framework import Framework\n",
    "\n",
    "import pyarrow as pa\n",
    "import numpy as np\n",
    "import pandas as pd\n",
    "\n",
    "from sklearn.datasets import load_iris\n",
    "from sklearn.cluster import KMeans"
   ]
  },
  {
   "cell_type": "markdown",
   "id": "42a474f2",
   "metadata": {},
   "source": [
    "### Connect to the Wallaroo Instance through the User Interface\n",
    "\n",
    "The next step is to connect to Wallaroo through the Wallaroo client.  The Python library is included in the Wallaroo install and available through the Jupyter Hub interface provided with your Wallaroo environment.\n",
    "\n",
    "This is accomplished using the `wallaroo.Client()` command, which provides a URL to grant the SDK permission to your specific Wallaroo environment.  When displayed, enter the URL into a browser and confirm permissions.  Store the connection into a variable that can be referenced later.\n",
    "\n",
    "If logging into the Wallaroo instance through the internal JupyterHub service, use `wl = wallaroo.Client()`.  For more information on Wallaroo Client settings, see the [Client Connection guide](https://docs.wallaroo.ai/wallaroo-developer-guides/wallaroo-sdk-guides/wallaroo-sdk-essentials-guide/wallaroo-sdk-essentials-client/)."
   ]
  },
  {
   "cell_type": "code",
   "execution_count": null,
   "id": "93511f12",
   "metadata": {},
   "outputs": [],
   "source": [
    "wl = wallaroo.Client()"
   ]
  },
  {
   "cell_type": "markdown",
   "id": "08107b76",
   "metadata": {},
   "source": [
    "### Register MLFlow Model in Wallaroo\n",
    "\n",
    "MLFlow Containerized Model require the input and output schemas be defined in Apache Arrow format.  Both the input and output schema is a string.\n",
    "\n",
    "Once complete, the MLFlow containerized model is registered to the Wallaroo workspace."
   ]
  },
  {
   "cell_type": "code",
   "execution_count": 2,
   "id": "3c86a9b5-16aa-448d-af65-dabb9e66a632",
   "metadata": {},
   "outputs": [],
   "source": [
    "input_schema = pa.schema([\n",
    "    pa.field('inputs', pa.string())\n",
    "])\n",
    "output_schema = pa.schema([\n",
    "    pa.field('summary_text', pa.string()),\n",
    "])\n",
    "\n",
    "model = wl.register_model_image(\n",
    "    name=\"hf-bart-summarizer3\",\n",
    "    image=f\"ghcr.io/wallaroolabs/doc-samples/gpu-hf-summ-official2:1.30\"\n",
    ").configure(\"mlflow\", input_schema=input_schema, output_schema=output_schema)"
   ]
  },
  {
   "cell_type": "code",
   "execution_count": 3,
   "id": "e44d3e6b-ef2c-418b-8a62-f08cefd190bf",
   "metadata": {},
   "outputs": [
    {
     "data": {
      "text/html": [
       "<table>\n",
       "        <tr>\n",
       "          <td>Name</td>\n",
       "          <td>hf-bart-summarizer3</td>\n",
       "        </tr>\n",
       "        <tr>\n",
       "          <td>Version</td>\n",
       "          <td>d511a20c-9612-4112-9368-2d79ae764dec</td>\n",
       "        </tr>\n",
       "        <tr>\n",
       "          <td>File Name</td>\n",
       "          <td>none</td>\n",
       "        </tr>\n",
       "        <tr>\n",
       "          <td>SHA</td>\n",
       "          <td>360dcd343a593e87639106757bad58a7d960899c915bbc9787e7601073bc1121</td>\n",
       "        </tr>\n",
       "        <tr>\n",
       "          <td>Status</td>\n",
       "          <td>ready</td>\n",
       "        </tr>\n",
       "        <tr>\n",
       "          <td>Image Path</td>\n",
       "          <td>proxy.replicated.com/proxy/wallaroo/ghcr.io/wallaroolabs/gpu-hf-summ-official2:1.30</td>\n",
       "        </tr>\n",
       "        <tr>\n",
       "          <td>Updated At</td>\n",
       "          <td>2023-11-Jul 19:23:57</td>\n",
       "        </tr>\n",
       "      </table>"
      ],
      "text/plain": [
       "{'name': 'hf-bart-summarizer3', 'version': 'd511a20c-9612-4112-9368-2d79ae764dec', 'file_name': 'none', 'image_path': 'proxy.replicated.com/proxy/wallaroo/ghcr.io/wallaroolabs/gpu-hf-summ-official2:1.30', 'last_update_time': datetime.datetime(2023, 7, 11, 19, 23, 57, 958398, tzinfo=tzutc())}"
      ]
     },
     "execution_count": 3,
     "metadata": {},
     "output_type": "execute_result"
    }
   ],
   "source": [
    "model"
   ]
  },
  {
   "cell_type": "markdown",
   "id": "173ed028",
   "metadata": {},
   "source": [
    "### Pipeline Deployment With GPU\n",
    "\n",
    "The registered model will be added to our sample pipeline as a pipeline step.  When the pipeline is deployed, a specific resource configuration is applied that allocated a GPU to our MLFlow containerized model.\n",
    "\n",
    "MLFlow models are run in the Containerized Runtime in the pipeline.  As such, the `DeploymentConfigBuilder` method `.sidekick_gpus(model: wallaroo.model.Model, core_count: int)` is used to allocate 1 GPU to our model.\n",
    "\n",
    "The pipeline is then deployed with our deployment configuration, and a GPU from the cluster is allocated for use by this model."
   ]
  },
  {
   "cell_type": "code",
   "execution_count": 4,
   "id": "db3ce0db-9700-4f20-9855-ba00d6c1ed1c",
   "metadata": {},
   "outputs": [
    {
     "data": {
      "text/plain": [
       "{'engine': {'cpu': 0.25,\n",
       "  'resources': {'limits': {'cpu': 0.25, 'memory': '1Gi', 'nvidia.com/gpu': 0},\n",
       "   'requests': {'cpu': 0.25, 'memory': '1Gi', 'nvidia.com/gpu': 0}},\n",
       "  'gpu': 0,\n",
       "  'image': 'proxy.replicated.com/proxy/wallaroo/ghcr.io/wallaroolabs/fitzroy-mini-cuda:v2023.3.0-josh-fitzroy-gpu-3374'},\n",
       " 'enginelb': {},\n",
       " 'engineAux': {'images': {'hf-bart-summarizer3-28': {'resources': {'limits': {'nvidia.com/gpu': 1},\n",
       "     'requests': {'nvidia.com/gpu': 1}},\n",
       "    'env': [{'name': 'GUNICORN_CMD_ARGS',\n",
       "      'value': '--timeout=180 --workers=1'}]}}},\n",
       " 'node_selector': {}}"
      ]
     },
     "execution_count": 4,
     "metadata": {},
     "output_type": "execute_result"
    }
   ],
   "source": [
    "pipeline_name = f\"test-gpu7\"\n",
    "pipeline = wl.build_pipeline(pipeline_name)\n",
    "pipeline.add_model_step(model)\n",
    "\n",
    "deployment_config = DeploymentConfigBuilder() \\\n",
    "    .cpus(0.25).memory('1Gi').gpus(0) \\\n",
    "    .sidekick_gpus(model, 1) \\\n",
    "    .sidekick_memory(model, \"8Gi\") \\\n",
    "    .sidekick_env(model, {\"GUNICORN_CMD_ARGS\": \"--timeout=180 --workers=1\"}) \\\n",
    "    .deployment_label(\"nvidia.com/gpu.present:true\") \\\n",
    "    .build()\n",
    "\n",
    "deployment_config"
   ]
  },
  {
   "cell_type": "code",
   "execution_count": 5,
   "id": "2945dc36-c939-4add-bd2c-84e835b70c5e",
   "metadata": {},
   "outputs": [
    {
     "name": "stdout",
     "output_type": "stream",
     "text": [
      "Waiting for deployment - this will take up to 90s ................ ok\n"
     ]
    },
    {
     "data": {
      "text/plain": [
       "{'status': 'Running',\n",
       " 'details': [],\n",
       " 'engines': [{'ip': '10.244.38.26',\n",
       "   'name': 'engine-7457c88db4-42ww6',\n",
       "   'status': 'Running',\n",
       "   'reason': None,\n",
       "   'details': [],\n",
       "   'pipeline_statuses': {'pipelines': [{'id': 'test-gpu7',\n",
       "      'status': 'Running'}]},\n",
       "   'model_statuses': {'models': [{'name': 'hf-bart-summarizer3',\n",
       "      'version': 'd511a20c-9612-4112-9368-2d79ae764dec',\n",
       "      'sha': '360dcd343a593e87639106757bad58a7d960899c915bbc9787e7601073bc1121',\n",
       "      'status': 'Running'}]}}],\n",
       " 'engine_lbs': [{'ip': '10.244.0.113',\n",
       "   'name': 'engine-lb-584f54c899-ht5cd',\n",
       "   'status': 'Running',\n",
       "   'reason': None,\n",
       "   'details': []}],\n",
       " 'sidekicks': [{'ip': '10.244.41.21',\n",
       "   'name': 'engine-sidekick-hf-bart-summarizer3-28-f5f8d6567-zzh62',\n",
       "   'status': 'Running',\n",
       "   'reason': None,\n",
       "   'details': [],\n",
       "   'statuses': '\\n'}]}"
      ]
     },
     "execution_count": 5,
     "metadata": {},
     "output_type": "execute_result"
    }
   ],
   "source": [
    "pipeline.deploy(deployment_config=deployment_config)\n",
    "pipeline.status()"
   ]
  },
  {
   "cell_type": "code",
   "execution_count": 7,
   "id": "291436bd-7077-4a3e-b154-d18dd5f2fe13",
   "metadata": {},
   "outputs": [
    {
     "data": {
      "text/plain": [
       "{'status': 'Running',\n",
       " 'details': [],\n",
       " 'engines': [{'ip': '10.244.38.26',\n",
       "   'name': 'engine-7457c88db4-42ww6',\n",
       "   'status': 'Running',\n",
       "   'reason': None,\n",
       "   'details': [],\n",
       "   'pipeline_statuses': {'pipelines': [{'id': 'test-gpu7',\n",
       "      'status': 'Running'}]},\n",
       "   'model_statuses': {'models': [{'name': 'hf-bart-summarizer3',\n",
       "      'version': 'd511a20c-9612-4112-9368-2d79ae764dec',\n",
       "      'sha': '360dcd343a593e87639106757bad58a7d960899c915bbc9787e7601073bc1121',\n",
       "      'status': 'Running'}]}}],\n",
       " 'engine_lbs': [{'ip': '10.244.0.113',\n",
       "   'name': 'engine-lb-584f54c899-ht5cd',\n",
       "   'status': 'Running',\n",
       "   'reason': None,\n",
       "   'details': []}],\n",
       " 'sidekicks': [{'ip': '10.244.41.21',\n",
       "   'name': 'engine-sidekick-hf-bart-summarizer3-28-f5f8d6567-zzh62',\n",
       "   'status': 'Running',\n",
       "   'reason': None,\n",
       "   'details': [],\n",
       "   'statuses': '\\n'}]}"
      ]
     },
     "execution_count": 7,
     "metadata": {},
     "output_type": "execute_result"
    }
   ],
   "source": [
    "pipeline.status()"
   ]
  },
  {
   "cell_type": "markdown",
   "id": "d4fba1af",
   "metadata": {},
   "source": [
    "### Sample Text Inference\n",
    "\n",
    "A sample inference is performed 10 times using the definition of LinkedIn, and the time to completion displayed.  In this case, the total time to create a summary of the text multiple times is around 2 seconds per inference request."
   ]
  },
  {
   "cell_type": "code",
   "execution_count": 8,
   "id": "31f6ca0e-bbb1-4be0-8d07-12f16a60ce7f",
   "metadata": {},
   "outputs": [],
   "source": [
    "input_data = {\n",
    "    \"inputs\": [\"LinkedIn (/lɪŋktˈɪn/) is a business and employment-focused social media platform that works through websites and mobile apps. It launched on May 5, 2003. It is now owned by Microsoft. The platform is primarily used for professional networking and career development, and allows jobseekers to post their CVs and employers to post jobs. From 2015 most of the company's revenue came from selling access to information about its members to recruiters and sales professionals. Since December 2016, it has been a wholly owned subsidiary of Microsoft. As of March 2023, LinkedIn has more than 900 million registered members from over 200 countries and territories. LinkedIn allows members (both workers and employers) to create profiles and connect with each other in an online social network which may represent real-world professional relationships. Members can invite anyone (whether an existing member or not) to become a connection. LinkedIn can also be used to organize offline events, join groups, write articles, publish job postings, post photos and videos, and more.\"]\n",
    "}"
   ]
  },
  {
   "cell_type": "code",
   "execution_count": 9,
   "id": "88fe9b67-c397-4715-8827-35b0c0f24d35",
   "metadata": {},
   "outputs": [],
   "source": [
    "dataframe = pd.DataFrame(input_data)\n",
    "dataframe.to_json('test_data.json', orient='records')"
   ]
  },
  {
   "cell_type": "code",
   "execution_count": 10,
   "id": "5aefb61d-7323-47d2-a4b3-e81ca5dd04a1",
   "metadata": {},
   "outputs": [
    {
     "data": {
      "text/html": [
       "<div>\n",
       "<style scoped>\n",
       "    .dataframe tbody tr th:only-of-type {\n",
       "        vertical-align: middle;\n",
       "    }\n",
       "\n",
       "    .dataframe tbody tr th {\n",
       "        vertical-align: top;\n",
       "    }\n",
       "\n",
       "    .dataframe thead th {\n",
       "        text-align: right;\n",
       "    }\n",
       "</style>\n",
       "<table border=\"1\" class=\"dataframe\">\n",
       "  <thead>\n",
       "    <tr style=\"text-align: right;\">\n",
       "      <th></th>\n",
       "      <th>inputs</th>\n",
       "    </tr>\n",
       "  </thead>\n",
       "  <tbody>\n",
       "    <tr>\n",
       "      <th>0</th>\n",
       "      <td>LinkedIn (/lɪŋktˈɪn/) is a business and employ...</td>\n",
       "    </tr>\n",
       "  </tbody>\n",
       "</table>\n",
       "</div>"
      ],
      "text/plain": [
       "                                              inputs\n",
       "0  LinkedIn (/lɪŋktˈɪn/) is a business and employ..."
      ]
     },
     "execution_count": 10,
     "metadata": {},
     "output_type": "execute_result"
    }
   ],
   "source": [
    "dataframe"
   ]
  },
  {
   "cell_type": "code",
   "execution_count": 11,
   "id": "5ad58f94-c85b-4b65-a6f4-1e4b694286c7",
   "metadata": {},
   "outputs": [],
   "source": [
    "import time"
   ]
  },
  {
   "cell_type": "code",
   "execution_count": 12,
   "id": "681e0dcc-077b-4891-ad7a-973e533bb9f3",
   "metadata": {},
   "outputs": [
    {
     "data": {
      "text/plain": [
       "2.765655517578125e-05"
      ]
     },
     "execution_count": 12,
     "metadata": {},
     "output_type": "execute_result"
    }
   ],
   "source": [
    "\n",
    "start = time.time()\n",
    "\n",
    "end = time.time()\n",
    "\n",
    "end - start"
   ]
  },
  {
   "cell_type": "code",
   "execution_count": 17,
   "id": "f37c7f3c-9347-43e7-b82d-cb23e7c8308a",
   "metadata": {},
   "outputs": [
    {
     "name": "stdout",
     "output_type": "stream",
     "text": [
      "                     time                                          in.inputs  \\\n",
      "0 2023-07-11 19:27:50.806  LinkedIn (/lɪŋktˈɪn/) is a business and employ...   \n",
      "\n",
      "                                    out.summary_text  check_failures  \n",
      "0  LinkedIn is a business and employment-focused ...               0  \n",
      "2.616016387939453\n",
      "                     time                                          in.inputs  \\\n",
      "0 2023-07-11 19:27:53.421  LinkedIn (/lɪŋktˈɪn/) is a business and employ...   \n",
      "\n",
      "                                    out.summary_text  check_failures  \n",
      "0  LinkedIn is a business and employment-focused ...               0  \n",
      "2.478372097015381\n",
      "                     time                                          in.inputs  \\\n",
      "0 2023-07-11 19:27:55.901  LinkedIn (/lɪŋktˈɪn/) is a business and employ...   \n",
      "\n",
      "                                    out.summary_text  check_failures  \n",
      "0  LinkedIn is a business and employment-focused ...               0  \n",
      "2.453855514526367\n",
      "                     time                                          in.inputs  \\\n",
      "0 2023-07-11 19:27:58.365  LinkedIn (/lɪŋktˈɪn/) is a business and employ...   \n",
      "\n",
      "                                    out.summary_text  check_failures  \n",
      "0  LinkedIn is a business and employment-focused ...               0  \n",
      "2.4600493907928467\n",
      "                     time                                          in.inputs  \\\n",
      "0 2023-07-11 19:28:00.819  LinkedIn (/lɪŋktˈɪn/) is a business and employ...   \n",
      "\n",
      "                                    out.summary_text  check_failures  \n",
      "0  LinkedIn is a business and employment-focused ...               0  \n",
      "2.461345672607422\n",
      "                     time                                          in.inputs  \\\n",
      "0 2023-07-11 19:28:03.273  LinkedIn (/lɪŋktˈɪn/) is a business and employ...   \n",
      "\n",
      "                                    out.summary_text  check_failures  \n",
      "0  LinkedIn is a business and employment-focused ...               0  \n",
      "2.4581406116485596\n",
      "                     time                                          in.inputs  \\\n",
      "0 2023-07-11 19:28:05.732  LinkedIn (/lɪŋktˈɪn/) is a business and employ...   \n",
      "\n",
      "                                    out.summary_text  check_failures  \n",
      "0  LinkedIn is a business and employment-focused ...               0  \n",
      "2.4555394649505615\n",
      "                     time                                          in.inputs  \\\n",
      "0 2023-07-11 19:28:08.192  LinkedIn (/lɪŋktˈɪn/) is a business and employ...   \n",
      "\n",
      "                                    out.summary_text  check_failures  \n",
      "0  LinkedIn is a business and employment-focused ...               0  \n",
      "2.4681003093719482\n",
      "                     time                                          in.inputs  \\\n",
      "0 2023-07-11 19:28:10.657  LinkedIn (/lɪŋktˈɪn/) is a business and employ...   \n",
      "\n",
      "                                    out.summary_text  check_failures  \n",
      "0  LinkedIn is a business and employment-focused ...               0  \n",
      "2.4639062881469727\n",
      "                     time                                          in.inputs  \\\n",
      "0 2023-07-11 19:28:13.120  LinkedIn (/lɪŋktˈɪn/) is a business and employ...   \n",
      "\n",
      "                                    out.summary_text  check_failures  \n",
      "0  LinkedIn is a business and employment-focused ...               0  \n",
      "2.4664926528930664\n",
      "Execution time: 24.782114267349243 seconds\n"
     ]
    }
   ],
   "source": [
    "start = time.time()\n",
    "elapsed_time = 0\n",
    "for i in range(10):\n",
    "    s = time.time()\n",
    "    res = pipeline.infer_from_file('test_data.json', timeout=120)\n",
    "    print(res)\n",
    "    e = time.time()\n",
    "\n",
    "    el = e-s\n",
    "    print(el)\n",
    "end = time.time()\n",
    "\n",
    "elapsed_time += end - start\n",
    "print('Execution time:', elapsed_time, 'seconds')"
   ]
  },
  {
   "cell_type": "code",
   "execution_count": 18,
   "id": "504ccff8-27b9-443b-a364-8af273ee4339",
   "metadata": {},
   "outputs": [
    {
     "data": {
      "text/plain": [
       "2.4782114267349242"
      ]
     },
     "execution_count": 18,
     "metadata": {},
     "output_type": "execute_result"
    }
   ],
   "source": [
    "elapsed_time / 10"
   ]
  },
  {
   "cell_type": "markdown",
   "id": "cc1df803",
   "metadata": {},
   "source": [
    "### Undeploy the Pipeline\n",
    "\n",
    "With the inferences completed, the pipeline is undeployed.  This returns the resources back to the cluster for use by other pipeline."
   ]
  },
  {
   "cell_type": "code",
   "execution_count": null,
   "id": "a98c8666-f904-4185-804f-04f3b0ae5136",
   "metadata": {},
   "outputs": [
    {
     "name": "stdout",
     "output_type": "stream",
     "text": [
      "Waiting for undeployment - this will take up to 45s .............."
     ]
    }
   ],
   "source": [
    "pipeline.undeploy()"
   ]
  }
 ],
 "metadata": {
  "kernelspec": {
   "display_name": "Python 3 (ipykernel)",
   "language": "python",
   "name": "python3"
  },
  "language_info": {
   "codemirror_mode": {
    "name": "ipython",
    "version": 3
   },
   "file_extension": ".py",
   "mimetype": "text/x-python",
   "name": "python",
   "nbconvert_exporter": "python",
   "pygments_lexer": "ipython3",
   "version": "3.9.13"
  }
 },
 "nbformat": 4,
 "nbformat_minor": 5
}
