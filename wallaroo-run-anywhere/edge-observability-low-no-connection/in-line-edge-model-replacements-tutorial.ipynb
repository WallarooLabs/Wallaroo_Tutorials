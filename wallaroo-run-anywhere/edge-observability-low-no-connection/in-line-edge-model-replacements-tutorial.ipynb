{
 "cells": [
  {
   "cell_type": "markdown",
   "metadata": {},
   "source": [
    "This tutorial and the assets can be downloaded as part of the [Wallaroo Tutorials repository](https://github.com/WallarooLabs/Wallaroo_Tutorials/blob/wallaroo2024.1_tutorials/wallaroo-run-anywhere/in-line-edge-model-replacements-tutorial).\n",
    "\n",
    "## In-Line Model Updates at the Edge Tutorial\n",
    "\n",
    "Wallaroo pipeline publishes are containerized versions of the pipeline, models and model steps, and the inference engine published to an Open Container Initiative (OCI) Registry.  Once published, they are used to deploy models to edge devices and used for inference requests.\n",
    "\n",
    "Edge locations added to a pipeline published allow deployments on edge devices to connect with the Wallaroo Ops instance and transmit their inference results as part of the pipeline logs.\n",
    "\n",
    "Pipeline publishes can be replaced by new pipeline publishes from the following sources:\n",
    "\n",
    "* A new version of the same pipeline that creates a new pipeline publish.  In these instances, the edge locations associated with the pipeline publish are preserved with the original pipeline along with their pipeline inference logs.  Any input or output schema changes from the new models or models steps are reflected in the pipeline logs.\n",
    "* A separate pipeline with its own models and model steps.  In this scenario, the edge locations associated with the original pipeline publish are assigned to the new pipeline.  The inference logs are stored with the original pipeline, and new inference logs for the edge locations are stored as part of the new pipeline.\n",
    "\n",
    "For more information on pipeline inference logs, see [Inference Logs](https://staging.docs.wallaroo.ai/wallaroo-model-operations/wallaroo-model-operations-serve/wallaroo-model-operations-service-pipeline-logs/).\n",
    "\n",
    "* **IMPORTANT NOTE**:  Assays and other log data is based on the pipeline and model name.  If these values change, assays that are currently running will no longer generate analyses.  These should be paused, and new assays based on the current pipeline and model name should be created.  For more information, see [Model Drift Detection with Model Insights](https://staging.docs.wallaroo.ai/wallaroo-model-operations/wallaroo-model-operations-observe/wallaroo-pipeline-assays/). \n",
    "\n",
    "## Goal\n",
    "\n",
    "* Package a model in Wallaroo and perform sample inferences.  Publish the pipeline and create an edge location, then deploy the model to an edge location.\n",
    "* Perform sample inferences on the edge location and verify the inference logs are added to the pipeline associated with the edge location.\n",
    "* Create a new pipeline version with a new model step and perform sample inferences.  Update the publish with the new pipeline version, and verify that the model is deployed to the edge location deployment.\n",
    "* Perform sample inferences on the edge location to verify the new model is being used, and verify the inference logs are added to the pipeline associated with the edge location.\n",
    "* Create a new pipeline with a different model and perform sample inferences.  Publish the pipeline, then replace the publish used for the edge location.  Verify that the edge location is transferred to the new pipeline.\n",
    "* Perform sample inferences on the edge location to verify model is updated from the new pipeline is being used, and verify the inference logs are added to the new pipeline associated with the edge location.\n",
    "\n",
    "### Resources\n",
    "\n",
    "This tutorial provides the following:\n",
    "\n",
    "* Models:\n",
    "  * `models/rf_model.onnx`: The champion model that predicts house prices.\n",
    "  * `models/xgb_model.onnx`: A new challenger model that takes the same inputs as `models/rf_model.onnx` and outputs house prices with a field of the same name.\n",
    "  * `models/gbr_model.onnx`: A new challenger model that takes the same inputs as `models/rf_model.onnx` and outputs house prices with a field of the same name.\n",
    "\n",
    "### Prerequisites\n",
    "\n",
    "* A deployed Wallaroo instance with [Edge Registry Services](https://docs.wallaroo.ai/wallaroo-operations-guide/wallaroo-configuration/wallaroo-edge-deployment/#enable-wallaroo-edge-deployment-registry) and [Edge Observability enabled](https://docs.wallaroo.ai/wallaroo-operations-guide/wallaroo-configuration/wallaroo-edge-deployment/#set-edge-observability-service).\n",
    "* The following Python libraries installed:\n",
    "  * [`wallaroo`](https://pypi.org/project/wallaroo/): The Wallaroo SDK. Included with the Wallaroo JupyterHub service by default.\n",
    "  * [`pandas`](https://pypi.org/project/pandas/): Pandas, mainly used for Pandas DataFrame\n",
    "* A X64 Docker deployment to deploy the model on an edge location.\n"
   ]
  },
  {
   "cell_type": "markdown",
   "metadata": {},
   "source": [
    "## Edge Deployment Preparation Steps\n",
    "\n",
    "The following is used to set up the environment that is used for the pipeline publish replacement and in-line model updates on an edge tutorial.\n",
    "\n",
    "In these steps, we will:\n",
    "\n",
    "* Deploying a sample ML model used to determine house prices based on a set of input parameters.\n",
    "* Publish the model deployment configuration to an OCI registry.\n",
    "* Use the publish and set edge locations.\n",
    "* Deploy the model in an edge location and perform sample inferences.\n",
    "\n",
    "### Import Libraries\n",
    "\n",
    "The first step will be to import our libraries, and set variables used through this tutorial."
   ]
  },
  {
   "cell_type": "code",
   "execution_count": 84,
   "metadata": {},
   "outputs": [],
   "source": [
    "import wallaroo\n",
    "from wallaroo.object import EntityNotFoundError\n",
    "from wallaroo.framework import Framework\n",
    "\n",
    "from IPython.display import display\n",
    "\n",
    "# used to display DataFrame information without truncating\n",
    "from IPython.display import display\n",
    "import pandas as pd\n",
    "pd.set_option('display.max_colwidth', None)\n",
    "\n",
    "import json\n",
    "import time\n",
    "\n",
    "workspace_name = 'in-line-edge-replacement-demo'\n",
    "\n",
    "# ignoring warnings for demonstration\n",
    "import warnings\n",
    "warnings.filterwarnings('ignore')\n",
    "\n",
    "# used to display DataFrame information without truncating\n",
    "from IPython.display import display\n",
    "import pandas as pd\n",
    "pd.set_option('display.max_colwidth', None)"
   ]
  },
  {
   "cell_type": "markdown",
   "metadata": {},
   "source": [
    "The following helper function is used to create a new workspace, or retrieve an existing one."
   ]
  },
  {
   "cell_type": "code",
   "execution_count": 85,
   "metadata": {},
   "outputs": [],
   "source": [
    "def get_workspace(name, client):\n",
    "    workspace = None\n",
    "    for ws in client.list_workspaces():\n",
    "        if ws.name() == name:\n",
    "            workspace= ws\n",
    "    if(workspace == None):\n",
    "        workspace = client.create_workspace(name)\n",
    "    return workspace"
   ]
  },
  {
   "cell_type": "markdown",
   "metadata": {},
   "source": [
    "### Connect to the Wallaroo Instance\n",
    "\n",
    "The first step is to connect to Wallaroo through the Wallaroo client.  The Python library is included in the Wallaroo install and available through the Jupyter Hub interface provided with your Wallaroo environment.\n",
    "\n",
    "This is accomplished using the `wallaroo.Client()` command, which provides a URL to grant the SDK permission to your specific Wallaroo environment.  When displayed, enter the URL into a browser and confirm permissions.  Store the connection into a variable that can be referenced later.\n",
    "\n",
    "If logging into the Wallaroo instance through the internal JupyterHub service, use `wl = wallaroo.Client()`.  For more information on Wallaroo Client settings, see the [Client Connection guide](https://docs.wallaroo.ai/wallaroo-developer-guides/wallaroo-sdk-guides/wallaroo-sdk-essentials-guide/wallaroo-sdk-essentials-client/)."
   ]
  },
  {
   "cell_type": "code",
   "execution_count": 89,
   "metadata": {},
   "outputs": [],
   "source": [
    "# Login through local Wallaroo instance\n",
    "\n",
    "wl = wallaroo.Client()"
   ]
  },
  {
   "cell_type": "markdown",
   "metadata": {},
   "source": [
    "### Create Workspace\n",
    "\n",
    "We will create a workspace to manage our pipeline and models.  The following variables will set the name of our sample workspace then set it as the current workspace.\n",
    "\n",
    "Workspace names are unique across the Wallaroo instance.  If a user requests a workspace they have not been granted access to, an error message is returned."
   ]
  },
  {
   "cell_type": "code",
   "execution_count": 90,
   "metadata": {},
   "outputs": [
    {
     "data": {
      "text/plain": [
       "{'name': 'in-line-edge-replacement-demo', 'id': 7, 'archived': False, 'created_by': '738d05e5-425c-4a3e-8870-1beb652db894', 'created_at': '2024-03-27T16:40:02.4306+00:00', 'models': [{'name': 'rf-house-price-estimator', 'versions': 4, 'owner_id': '\"\"', 'last_update_time': datetime.datetime(2024, 3, 27, 17, 15, 50, 488392, tzinfo=tzutc()), 'created_at': datetime.datetime(2024, 3, 27, 16, 40, 6, 63908, tzinfo=tzutc())}, {'name': 'xgb-house-price-estimator', 'versions': 4, 'owner_id': '\"\"', 'last_update_time': datetime.datetime(2024, 3, 27, 17, 18, 14, 596059, tzinfo=tzutc()), 'created_at': datetime.datetime(2024, 3, 27, 16, 51, 7, 706652, tzinfo=tzutc())}, {'name': 'gbr-house-price-estimator', 'versions': 4, 'owner_id': '\"\"', 'last_update_time': datetime.datetime(2024, 3, 27, 17, 18, 26, 994434, tzinfo=tzutc()), 'created_at': datetime.datetime(2024, 3, 27, 16, 51, 41, 86395, tzinfo=tzutc())}], 'pipelines': [{'name': 'edge-inline-replacement-demo', 'create_time': datetime.datetime(2024, 3, 27, 16, 40, 8, 60605, tzinfo=tzutc()), 'definition': '[]'}, {'name': 'edge-inline-replacement-demonstration', 'create_time': datetime.datetime(2024, 3, 27, 16, 47, 37, 180104, tzinfo=tzutc()), 'definition': '[]'}, {'name': 'new-edge-inline-replacement-demo', 'create_time': datetime.datetime(2024, 3, 27, 16, 51, 41, 632386, tzinfo=tzutc()), 'definition': '[]'}]}"
      ]
     },
     "execution_count": 90,
     "metadata": {},
     "output_type": "execute_result"
    }
   ],
   "source": [
    "workspace = get_workspace(workspace_name, wl)\n",
    "\n",
    "wl.set_current_workspace(workspace)"
   ]
  },
  {
   "cell_type": "markdown",
   "metadata": {},
   "source": [
    "### Upload The Champion Model\n",
    "\n",
    "For our example, we will upload the champion model that has been trained to derive house prices from a variety of inputs.  The model file is `rf_model.onnx`, and is uploaded with the name `rf-house-price-estimator`."
   ]
  },
  {
   "cell_type": "code",
   "execution_count": 91,
   "metadata": {},
   "outputs": [],
   "source": [
    "housing_model_control = (wl.upload_model(\"rf-house-price-estimator\", \n",
    "                                        './models/rf_model.onnx', \n",
    "                                        framework=Framework.ONNX)\n",
    "                                        .configure(tensor_fields=[\"tensor\"])\n",
    "                        )"
   ]
  },
  {
   "cell_type": "markdown",
   "metadata": {},
   "source": [
    "### Build and Deploy the Pipeline\n",
    "\n",
    "This pipeline is made to be an example of an existing situation where a model is deployed and being used for inferences in a production environment.  We'll call it `edge-inline-replacement-demonstration`, set `housing_model_control` as a pipeline step, then run a sample inference."
   ]
  },
  {
   "cell_type": "code",
   "execution_count": 92,
   "metadata": {},
   "outputs": [
    {
     "data": {
      "text/html": [
       "<table><tr><th>name</th> <td>edge-inline-replacement-demon</td></tr><tr><th>created</th> <td>2024-03-27 20:12:59.870937+00:00</td></tr><tr><th>last_updated</th> <td>2024-03-27 20:12:59.870937+00:00</td></tr><tr><th>deployed</th> <td>(none)</td></tr><tr><th>arch</th> <td>None</td></tr><tr><th>accel</th> <td>None</td></tr><tr><th>tags</th> <td></td></tr><tr><th>versions</th> <td>6724c8ef-b848-420c-96ef-8b26481d7cba</td></tr><tr><th>steps</th> <td></td></tr><tr><th>published</th> <td>False</td></tr></table>"
      ],
      "text/plain": [
       "{'name': 'edge-inline-replacement-demon', 'create_time': datetime.datetime(2024, 3, 27, 20, 12, 59, 870937, tzinfo=tzutc()), 'definition': \"[{'ModelInference': {'models': [{'name': 'rf-house-price-estimator', 'version': '5a610669-9287-4dd8-8273-0cd21cccb39a', 'sha': 'e22a0831aafd9917f3cc87a15ed267797f80e2afa12ad7d8810ca58f173b8cc6'}]}}]\"}"
      ]
     },
     "execution_count": 92,
     "metadata": {},
     "output_type": "execute_result"
    }
   ],
   "source": [
    "mainpipeline = wl.build_pipeline('edge-inline-replacement-demon')\n",
    "\n",
    "# clear the steps if used before\n",
    "mainpipeline.undeploy()\n",
    "mainpipeline.clear()\n",
    "\n",
    "mainpipeline.add_model_step(housing_model_control)"
   ]
  },
  {
   "cell_type": "code",
   "execution_count": 93,
   "metadata": {},
   "outputs": [
    {
     "data": {
      "text/html": [
       "<table><tr><th>name</th> <td>edge-inline-replacement-demon</td></tr><tr><th>created</th> <td>2024-03-27 20:12:59.870937+00:00</td></tr><tr><th>last_updated</th> <td>2024-03-27 20:13:02.536983+00:00</td></tr><tr><th>deployed</th> <td>True</td></tr><tr><th>arch</th> <td>None</td></tr><tr><th>accel</th> <td>None</td></tr><tr><th>tags</th> <td></td></tr><tr><th>versions</th> <td>b44c3c00-ea9a-47d5-bf9d-2d72edc1f050, 6724c8ef-b848-420c-96ef-8b26481d7cba</td></tr><tr><th>steps</th> <td>rf-house-price-estimator</td></tr><tr><th>published</th> <td>False</td></tr></table>"
      ],
      "text/plain": [
       "{'name': 'edge-inline-replacement-demon', 'create_time': datetime.datetime(2024, 3, 27, 20, 12, 59, 870937, tzinfo=tzutc()), 'definition': \"[{'ModelInference': {'models': [{'name': 'rf-house-price-estimator', 'version': '5a610669-9287-4dd8-8273-0cd21cccb39a', 'sha': 'e22a0831aafd9917f3cc87a15ed267797f80e2afa12ad7d8810ca58f173b8cc6'}]}}]\"}"
      ]
     },
     "execution_count": 93,
     "metadata": {},
     "output_type": "execute_result"
    }
   ],
   "source": [
    "#minimum deployment config\n",
    "deploy_config = wallaroo.DeploymentConfigBuilder().replica_count(1).cpus(0.5).memory(\"1Gi\").build()\n",
    "\n",
    "mainpipeline.deploy(deployment_config = deploy_config)"
   ]
  },
  {
   "cell_type": "markdown",
   "metadata": {},
   "source": [
    "### Inference Request Testing\n",
    "\n",
    "We'll use a single row inference request that should return a result of around `$700k`."
   ]
  },
  {
   "cell_type": "code",
   "execution_count": 94,
   "metadata": {},
   "outputs": [
    {
     "data": {
      "text/html": [
       "<div>\n",
       "<style scoped>\n",
       "    .dataframe tbody tr th:only-of-type {\n",
       "        vertical-align: middle;\n",
       "    }\n",
       "\n",
       "    .dataframe tbody tr th {\n",
       "        vertical-align: top;\n",
       "    }\n",
       "\n",
       "    .dataframe thead th {\n",
       "        text-align: right;\n",
       "    }\n",
       "</style>\n",
       "<table border=\"1\" class=\"dataframe\">\n",
       "  <thead>\n",
       "    <tr style=\"text-align: right;\">\n",
       "      <th></th>\n",
       "      <th>time</th>\n",
       "      <th>in.tensor</th>\n",
       "      <th>out.variable</th>\n",
       "      <th>anomaly.count</th>\n",
       "    </tr>\n",
       "  </thead>\n",
       "  <tbody>\n",
       "    <tr>\n",
       "      <th>0</th>\n",
       "      <td>2024-03-27 20:13:18.410</td>\n",
       "      <td>[4.0, 2.5, 2900.0, 5505.0, 2.0, 0.0, 0.0, 3.0, 8.0, 2900.0, 0.0, 47.6063, -122.02, 2970.0, 5251.0, 12.0, 0.0, 0.0]</td>\n",
       "      <td>[718013.7]</td>\n",
       "      <td>0</td>\n",
       "    </tr>\n",
       "  </tbody>\n",
       "</table>\n",
       "</div>"
      ],
      "text/plain": [
       "                     time  \\\n",
       "0 2024-03-27 20:13:18.410   \n",
       "\n",
       "                                                                                                            in.tensor  \\\n",
       "0  [4.0, 2.5, 2900.0, 5505.0, 2.0, 0.0, 0.0, 3.0, 8.0, 2900.0, 0.0, 47.6063, -122.02, 2970.0, 5251.0, 12.0, 0.0, 0.0]   \n",
       "\n",
       "  out.variable  anomaly.count  \n",
       "0   [718013.7]              0  "
      ]
     },
     "metadata": {},
     "output_type": "display_data"
    }
   ],
   "source": [
    "normal_input = pd.DataFrame.from_records({\"tensor\": [[4.0, \n",
    "                                                      2.5, \n",
    "                                                      2900.0, \n",
    "                                                      5505.0, \n",
    "                                                      2.0, \n",
    "                                                      0.0, \n",
    "                                                      0.0, \n",
    "                                                      3.0, \n",
    "                                                      8.0, \n",
    "                                                      2900.0, \n",
    "                                                      0.0, \n",
    "                                                      47.6063, \n",
    "                                                      -122.02, \n",
    "                                                      2970.0, \n",
    "                                                      5251.0, \n",
    "                                                      12.0, \n",
    "                                                      0.0, \n",
    "                                                      0.0]]})\n",
    "result = mainpipeline.infer(normal_input)\n",
    "display(result)"
   ]
  },
  {
   "cell_type": "markdown",
   "metadata": {},
   "source": [
    "### Edge Deployment\n",
    "\n",
    "We can now deploy the original pipeline to an edge device.  This will require the following steps:\n",
    "\n",
    "* Publish the pipeline:  Publishes the pipeline to the OCI registry.\n",
    "* Add Edge:  Add the edge location to the pipeline publish.\n",
    "* Deploy Edge:  Deploy the edge device with the edge location settings."
   ]
  },
  {
   "cell_type": "markdown",
   "metadata": {},
   "source": [
    "#### Publish Pipeline\n",
    "\n",
    "Publishing the pipeline uses the pipeline `wallaroo.pipeline.publish()` command.  This requires that the Wallaroo Ops instance have [Edge Registry Services](https://docs.wallaroo.ai/wallaroo-operations-guide/wallaroo-configuration/wallaroo-edge-deployment/#enable-wallaroo-edge-deployment-registry) enabled.\n",
    "\n",
    "The following publishes the pipeline to the OCI registry and displays the container details.  For more information, see [Wallaroo SDK Essentials Guide: Pipeline Edge Publication](https://docs.wallaroo.ai/wallaroo-developer-guides/wallaroo-sdk-guides/wallaroo-sdk-essentials-guide/wallaroo-sdk-essentials-pipelines/wallaroo-sdk-essentials-pipeline-publication/)."
   ]
  },
  {
   "cell_type": "code",
   "execution_count": 95,
   "metadata": {},
   "outputs": [
    {
     "name": "stdout",
     "output_type": "stream",
     "text": [
      "Waiting for pipeline publish... It may take up to 600 sec.\n",
      "Pipeline is publishing..... Published.\n"
     ]
    }
   ],
   "source": [
    "pub = mainpipeline.publish()"
   ]
  },
  {
   "cell_type": "markdown",
   "metadata": {},
   "source": [
    "#### Add Edge Location\n",
    "\n",
    "The edge location is added with the [`wallaroo.pipeline_publish.add_edge(name)`](https://docs.wallaroo.ai/wallaroo-developer-guides/wallaroo-sdk-guides/wallaroo-sdk-reference-guide/pipeline_publish/#PipelinePublish.add_edge) method.  This returns the OCI registration information, and the `EDGE_BUNDLE` information.  The `EDGE_BUNDLE` data is a base64 encoded set of parameters for the pipeline that the edge device is associated with, the workspace, and other data.\n",
    "\n",
    "For full details, see [Wallaroo SDK Essentials Guide: Pipeline Edge Publication: Edge Observability](https://docs.wallaroo.ai/wallaroo-developer-guides/wallaroo-sdk-guides/wallaroo-sdk-essentials-guide/wallaroo-sdk-essentials-pipelines/wallaroo-sdk-essentials-pipeline-publication/#edge-observability).\n",
    "\n",
    "For this example, we will add two locations:\n",
    "\n",
    "* `houseprice-edge-inline-demo`\n",
    "\n",
    "These will be used in later steps for demonstrating inferences through different locations."
   ]
  },
  {
   "cell_type": "code",
   "execution_count": 96,
   "metadata": {},
   "outputs": [
    {
     "data": {
      "text/html": [
       "\n",
       "          <table>\n",
       "              <tr><td>ID</td><td>12</td></tr>\n",
       "              <tr><td>Pipeline Name</td><td>edge-inline-replacement-demon</td></tr>\n",
       "              <tr><td>Pipeline Version</td><td>edb0c329-5b5f-4c4c-801a-07b620322a7b</td></tr>\n",
       "              <tr><td>Status</td><td>Published</td></tr>\n",
       "              <tr><td>Engine URL</td><td><a href='https://ghcr.io/wallaroolabs/doc-samples/engines/proxy/wallaroo/ghcr.io/wallaroolabs/fitzroy-mini:v2024.1.0-main-4806'>ghcr.io/wallaroolabs/doc-samples/engines/proxy/wallaroo/ghcr.io/wallaroolabs/fitzroy-mini:v2024.1.0-main-4806</a></td></tr>\n",
       "              <tr><td>Pipeline URL</td><td><a href='https://ghcr.io/wallaroolabs/doc-samples/pipelines/edge-inline-replacement-demon:edb0c329-5b5f-4c4c-801a-07b620322a7b'>ghcr.io/wallaroolabs/doc-samples/pipelines/edge-inline-replacement-demon:edb0c329-5b5f-4c4c-801a-07b620322a7b</a></td></tr>\n",
       "              <tr><td>Helm Chart URL</td><td>oci://<a href='https://ghcr.io/wallaroolabs/doc-samples/charts/edge-inline-replacement-demon'>ghcr.io/wallaroolabs/doc-samples/charts/edge-inline-replacement-demon</a></td></tr>\n",
       "              <tr><td>Helm Chart Reference</td><td>ghcr.io/wallaroolabs/doc-samples/charts@sha256:50e70bda9fa1690f8e8b30e7a6f51ffab7537ab2a7a5a5752326352deda94d5c</td></tr>\n",
       "              <tr><td>Helm Chart Version</td><td>0.0.1-edb0c329-5b5f-4c4c-801a-07b620322a7b</td></tr>\n",
       "              <tr><td>Engine Config</td><td>{'engine': {'resources': {'limits': {'cpu': 4.0, 'memory': '3Gi'}, 'requests': {'cpu': 4.0, 'memory': '3Gi'}, 'accel': 'none', 'arch': 'x86', 'gpu': False}}, 'engineAux': {'autoscale': {'type': 'none'}, 'images': None}, 'enginelb': {'resources': {'limits': {'cpu': 1.0, 'memory': '512Mi'}, 'requests': {'cpu': 0.2, 'memory': '512Mi'}, 'accel': 'none', 'arch': 'x86', 'gpu': False}}}</td></tr>\n",
       "              <tr><td>User Images</td><td>[]</td></tr>\n",
       "              <tr><td>Created By</td><td>john.hummel@wallaroo.ai</td></tr>\n",
       "              <tr><td>Created At</td><td>2024-03-27 20:13:20.690888+00:00</td></tr>\n",
       "              <tr><td>Updated At</td><td>2024-03-27 20:13:20.690888+00:00</td></tr>\n",
       "              <tr><td>Replaces</td><td></td></tr>\n",
       "              <tr>\n",
       "                  <td>Docker Run Command</td>\n",
       "                  <td>\n",
       "                      <table><tr><td>\n",
       "<pre style=\"text-align: left\">docker run -v $PERSISTENT_VOLUME_DIR:/persist \\\n",
       "    -e OCI_USERNAME=$OCI_USERNAME \\\n",
       "    -e OCI_PASSWORD=$OCI_PASSWORD \\\n",
       "    -e EDGE_BUNDLE=ZXhwb3J0IEJVTkRMRV9WRVJTSU9OPTEKZXhwb3J0IENPTkZJR19DUFVTPTQKZXhwb3J0IEVER0VfTkFNRT1ob3VzZXByaWNlLWVkZ2UtaW5saW5lLWRlbW9uc3RyYXRpb24KZXhwb3J0IE9QU0NFTlRFUl9IT1NUPWRvYy10ZXN0LmVkZ2Uud2FsbGFyb29jb21tdW5pdHkubmluamEKZXhwb3J0IFBJUEVMSU5FX1VSTD1naGNyLmlvL3dhbGxhcm9vbGFicy9kb2Mtc2FtcGxlcy9waXBlbGluZXMvZWRnZS1pbmxpbmUtcmVwbGFjZW1lbnQtZGVtb246ZWRiMGMzMjktNWI1Zi00YzRjLTgwMWEtMDdiNjIwMzIyYTdiCmV4cG9ydCBKT0lOX1RPS0VOPWIwOTM2MTE3LWY2YjktNDdmMy04ODI5LTYzMWM3ZmUwYmVkMgpleHBvcnQgT0NJX1JFR0lTVFJZPWdoY3IuaW8=\\\n",
       "    -e PIPELINE_URL=ghcr.io/wallaroolabs/doc-samples/pipelines/edge-inline-replacement-demon:edb0c329-5b5f-4c4c-801a-07b620322a7b \\\n",
       "    -e CONFIG_CPUS=4 ghcr.io/wallaroolabs/doc-samples/engines/proxy/wallaroo/ghcr.io/wallaroolabs/fitzroy-mini:v2024.1.0-main-4806</pre></td></tr></table>\n",
       "                      <br />\n",
       "                      <i>\n",
       "                          Note: Please set the <code>PERSISTENT_VOLUME_DIR</code>, <code>OCI_USERNAME</code>, and <code>OCI_PASSWORD</code> environment variables.\n",
       "                      </i>\n",
       "                  </td>\n",
       "              </tr>\n",
       "              <tr>\n",
       "                  <td>Helm Install Command</td>\n",
       "                  <td>\n",
       "                      <table><tr><td>\n",
       "<pre style=\"text-align: left\">helm install --atomic $HELM_INSTALL_NAME \\\n",
       "    oci://ghcr.io/wallaroolabs/doc-samples/charts/edge-inline-replacement-demon \\\n",
       "    --namespace $HELM_INSTALL_NAMESPACE \\\n",
       "    --version 0.0.1-edb0c329-5b5f-4c4c-801a-07b620322a7b \\\n",
       "    --set ociRegistry.username=$OCI_USERNAME \\\n",
       "    --set ociRegistry.password=$OCI_PASSWORD \\\n",
       "    --set edgeBundle=ZXhwb3J0IEJVTkRMRV9WRVJTSU9OPTEKZXhwb3J0IENPTkZJR19DUFVTPTQKZXhwb3J0IEVER0VfTkFNRT1ob3VzZXByaWNlLWVkZ2UtaW5saW5lLWRlbW9uc3RyYXRpb24KZXhwb3J0IE9QU0NFTlRFUl9IT1NUPWRvYy10ZXN0LmVkZ2Uud2FsbGFyb29jb21tdW5pdHkubmluamEKZXhwb3J0IFBJUEVMSU5FX1VSTD1naGNyLmlvL3dhbGxhcm9vbGFicy9kb2Mtc2FtcGxlcy9waXBlbGluZXMvZWRnZS1pbmxpbmUtcmVwbGFjZW1lbnQtZGVtb246ZWRiMGMzMjktNWI1Zi00YzRjLTgwMWEtMDdiNjIwMzIyYTdiCmV4cG9ydCBKT0lOX1RPS0VOPWIwOTM2MTE3LWY2YjktNDdmMy04ODI5LTYzMWM3ZmUwYmVkMgpleHBvcnQgT0NJX1JFR0lTVFJZPWdoY3IuaW8=</pre></td></tr></table>\n",
       "                      <br />\n",
       "                      <i>\n",
       "                          Note: Please set the <code>PERSISTENT_VOLUME_DIR</code>, <code>HELM_INSTALL_NAME</code>, <code>HELM_INSTALL_NAMESPACE</code>,\n",
       "                          <code>OCI_USERNAME</code>, and <code>OCI_PASSWORD</code> environment variables.\n",
       "                      </i>\n",
       "                  </td>\n",
       "              </tr>\n",
       "              \n",
       "          </table>\n",
       "        "
      ],
      "text/plain": [
       "PipelinePublish(created_at=datetime.datetime(2024, 3, 27, 20, 13, 20, 690888, tzinfo=tzutc()), docker_run_variables={'EDGE_BUNDLE': 'ZXhwb3J0IEJVTkRMRV9WRVJTSU9OPTEKZXhwb3J0IENPTkZJR19DUFVTPTQKZXhwb3J0IEVER0VfTkFNRT1ob3VzZXByaWNlLWVkZ2UtaW5saW5lLWRlbW9uc3RyYXRpb24KZXhwb3J0IE9QU0NFTlRFUl9IT1NUPWRvYy10ZXN0LmVkZ2Uud2FsbGFyb29jb21tdW5pdHkubmluamEKZXhwb3J0IFBJUEVMSU5FX1VSTD1naGNyLmlvL3dhbGxhcm9vbGFicy9kb2Mtc2FtcGxlcy9waXBlbGluZXMvZWRnZS1pbmxpbmUtcmVwbGFjZW1lbnQtZGVtb246ZWRiMGMzMjktNWI1Zi00YzRjLTgwMWEtMDdiNjIwMzIyYTdiCmV4cG9ydCBKT0lOX1RPS0VOPWIwOTM2MTE3LWY2YjktNDdmMy04ODI5LTYzMWM3ZmUwYmVkMgpleHBvcnQgT0NJX1JFR0lTVFJZPWdoY3IuaW8=', 'PIPELINE_URL': 'ghcr.io/wallaroolabs/doc-samples/pipelines/edge-inline-replacement-demon:edb0c329-5b5f-4c4c-801a-07b620322a7b'}, engine_config={'engine': {'resources': {'limits': {'cpu': 4.0, 'memory': '3Gi'}, 'requests': {'cpu': 4.0, 'memory': '3Gi'}, 'accel': 'none', 'arch': 'x86', 'gpu': False}}, 'engineAux': {'autoscale': {'type': 'none'}, 'images': None}, 'enginelb': {'resources': {'limits': {'cpu': 1.0, 'memory': '512Mi'}, 'requests': {'cpu': 0.2, 'memory': '512Mi'}, 'accel': 'none', 'arch': 'x86', 'gpu': False}}}, id=12, pipeline_name='edge-inline-replacement-demon', pipeline_version_id=43, replaces=[], status='Published', updated_at=datetime.datetime(2024, 3, 27, 20, 13, 20, 690888, tzinfo=tzutc()), user_images=[], created_by='738d05e5-425c-4a3e-8870-1beb652db894', created_on_version='2024.1.0', edge_bundles=<wallaroo.wallaroo_ml_ops_api_client.types.Unset object at 0x11d418850>, engine_url='ghcr.io/wallaroolabs/doc-samples/engines/proxy/wallaroo/ghcr.io/wallaroolabs/fitzroy-mini:v2024.1.0-main-4806', error=None, helm={'reference': 'ghcr.io/wallaroolabs/doc-samples/charts@sha256:50e70bda9fa1690f8e8b30e7a6f51ffab7537ab2a7a5a5752326352deda94d5c', 'values': {'edgeBundle': 'ZXhwb3J0IEJVTkRMRV9WRVJTSU9OPTEKZXhwb3J0IENPTkZJR19DUFVTPTQKZXhwb3J0IEVER0VfTkFNRT1ob3VzZXByaWNlLWVkZ2UtaW5saW5lLWRlbW9uc3RyYXRpb24KZXhwb3J0IE9QU0NFTlRFUl9IT1NUPWRvYy10ZXN0LmVkZ2Uud2FsbGFyb29jb21tdW5pdHkubmluamEKZXhwb3J0IFBJUEVMSU5FX1VSTD1naGNyLmlvL3dhbGxhcm9vbGFicy9kb2Mtc2FtcGxlcy9waXBlbGluZXMvZWRnZS1pbmxpbmUtcmVwbGFjZW1lbnQtZGVtb246ZWRiMGMzMjktNWI1Zi00YzRjLTgwMWEtMDdiNjIwMzIyYTdiCmV4cG9ydCBKT0lOX1RPS0VOPWIwOTM2MTE3LWY2YjktNDdmMy04ODI5LTYzMWM3ZmUwYmVkMgpleHBvcnQgT0NJX1JFR0lTVFJZPWdoY3IuaW8='}, 'chart': 'ghcr.io/wallaroolabs/doc-samples/charts/edge-inline-replacement-demon', 'version': '0.0.1-edb0c329-5b5f-4c4c-801a-07b620322a7b'}, pipeline_url='ghcr.io/wallaroolabs/doc-samples/pipelines/edge-inline-replacement-demon:edb0c329-5b5f-4c4c-801a-07b620322a7b', pipeline_version_name='edb0c329-5b5f-4c4c-801a-07b620322a7b', additional_properties={})"
      ]
     },
     "metadata": {},
     "output_type": "display_data"
    }
   ],
   "source": [
    "edge_name_01 = \"houseprice-edge-inline-demonstration\"\n",
    "edge_publish_01 = pub.add_edge(edge_name_01)\n",
    "display(edge_publish_01)"
   ]
  },
  {
   "cell_type": "markdown",
   "metadata": {},
   "source": [
    "#### DevOps Deployment\n",
    "\n",
    "The following shows two methods of model deployments on edge devices.  For more details on model edge deployments with Wallaroo, see [Model Operations: Run Anywhere](https://staging.docs.wallaroo.ai/wallaroo-model-operations/wallaroo-model-operations-run-anywhere/).\n",
    "\n",
    "##### Docker Run Based Deployment\n",
    "\n",
    "For the model deployment to the edge location via `docker run`, use the `Docker Run Command` displayed with the pipeline publish.    The following variables must be set first.\n",
    "\n",
    "* `$REGISTRYURL`: The URL of the OCI registry service hosting the pipeline publish.\n",
    "* `$OCI_USERNAME`: The username for the OCI registry service.\n",
    "* `$OCI_PASSWORD`: The password or token for the OCI registry service.\n",
    "* `$HELM_INSTALL_NAME`: The name of the Helm based installation for the edge deployment.\n",
    "* `$HELM_INSTALL_NAMESPACE`: The name of the namespace to set the edge based deployment to.\n",
    "\n",
    "Before deploying the pipeline, verify that Docker is able to connect to the OCI registry with the following command.\n",
    "\n",
    "```bash\n",
    "docker login -u $OCI_USERNAME --password $OCI_PASSWORD $REGISTRYURL\n",
    "```\n",
    "\n",
    "To add a specific port mapping, add the `-p {External Port}:8080` option to map the edge devices `{External Port}` to the Wallaroo edge deployment port `8080`.  For example, to map the external port `8080` to the internal port `8080`:\n",
    "\n",
    "```bash\n",
    "docker run -v $PERSISTENT_VOLUME_DIR:/persist \\\n",
    "    -p 8080:8080 \\\n",
    "    -e OCI_USERNAME=$OCI_USERNAME \\\n",
    "    -e OCI_PASSWORD=$OCI_PASSWORD \\\n",
    "    -e EDGE_BUNDLE=abcdefg\\\n",
    "    -e PIPELINE_URL=ghcr.io/wallaroolabs/doc-samples/pipelines/edge-inline-replacement-demonstration:96a926bf-bd64-4e88-ae27-9d5773fdc007 \\\n",
    "    -e CONFIG_CPUS=4 ghcr.io/wallaroolabs/doc-samples/engines/proxy/wallaroo/ghcr.io/wallaroolabs/fitzroy-mini:v2024.1.0-main-4806\n",
    "```\n",
    "\n",
    "##### Helm Based Deployment\n",
    "\n",
    "For the model deployment to the edge location via `helm`, use the `Helm Install Command` displayed with the pipeline publish.  The following variables must be set first.\n",
    "\n",
    "* `$REGISTRYURL`: The URL of the OCI registry service hosting the pipeline publish.\n",
    "* `$OCI_USERNAME`: The username for the OCI registry service.\n",
    "* `$OCI_PASSWORD`: The password or token for the OCI registry service.\n",
    "* `$HELM_INSTALL_NAME`: The name of the Helm based installation for the edge deployment.\n",
    "* `$HELM_INSTALL_NAMESPACE`: The name of the namespace to set the edge based deployment to.\n",
    "\n",
    "Before deploying, verify `helm` has access to the target registry.  Using the variable above, this command is:\n",
    "\n",
    "```bash\n",
    "helm registry login $REGISTRYURL --username $OCI_USERNAME --password $OCI_PASSWORD\n",
    "```\n",
    "\n",
    "If the command succeeds, proceed.  If there are any issues, verify the settings above before continuing.\n",
    "\n",
    "Once the helm registry service is set, deploy using the `Helm Install Command` from `edge_publish_01`.\n",
    "\n",
    "Once deployed, use the following to port forward to the `helm` based deployment.\n",
    "\n",
    "```bash\n",
    "kubectl port-forward svc/engine-svc -n $HELM_INSTALL_NAMESPACE 8080 --address 0.0.0.0\n",
    "```"
   ]
  },
  {
   "cell_type": "markdown",
   "metadata": {},
   "source": [
    "#### Edge Inference Example\n",
    "\n",
    "We will perform sample inferences on the **current** model edge deployment to demonstrate how the inferences change as the models are updated through the in-line edge deployments.\n",
    "\n",
    "With the model deployed on the edge location, we will perform sample inferences on the edge deployment.  For this example, the hostname is `testboy.local`.  Adjust the hostname to fit your edge location deployment.\n",
    "\n",
    "The following endpoints are available.\n",
    "\n",
    "| Endpoint | Type | Description |\n",
    "|---|---|---|\n",
    "| `/models` | GET | Returns the models and model versions used in the edge deployment. |\n",
    "| `/pipelines` | GET | Returns the pipeline ID and status of the pipeline used in the edge deployment. |\n",
    "| `/infer` | POST | The inference request endpoint.  This accepts either an Apache Arrow table, or a JSON in pandas record format.\n",
    "\n",
    "For more details on model edge deployments with Wallaroo, see [Model Operations: Run Anywhere](https://staging.docs.wallaroo.ai/wallaroo-model-operations/wallaroo-model-operations-run-anywhere/)."
   ]
  },
  {
   "cell_type": "markdown",
   "metadata": {},
   "source": [
    "First we'll retrieve the model.  We should see the same name we set when we uploaded it to the Wallaroo instance."
   ]
  },
  {
   "cell_type": "code",
   "execution_count": 97,
   "metadata": {},
   "outputs": [
    {
     "name": "stdout",
     "output_type": "stream",
     "text": [
      "{\"models\":[{\"model_version\":{\"name\":\"rf-house-price-estimator\",\"visibility\":\"private\",\"workspace_id\":7,\"conversion\":{\"python_version\":\"3.8\",\"requirements\":[],\"framework\":\"onnx\"},\"id\":16,\"image_path\":null,\"status\":\"ready\",\"task_id\":null,\"file_info\":{\"version\":\"5a610669-9287-4dd8-8273-0cd21cccb39a\",\"sha\":\"e22a0831aafd9917f3cc87a15ed267797f80e2afa12ad7d8810ca58f173b8cc6\",\"file_name\":\"rf_model.onnx\"},\"created_on_version\":\"2024.1.0\"},\"config\":{\"id\":32,\"model_version_id\":16,\"runtime\":\"onnx\",\"filter_threshold\":null,\"tensor_fields\":[\"tensor\"],\"input_schema\":null,\"output_schema\":null,\"batch_config\":null,\"sidekick_uri\":null},\"status\":\"Running\"}]}"
     ]
    }
   ],
   "source": [
    "!curl testboy.local:8080/models"
   ]
  },
  {
   "cell_type": "markdown",
   "metadata": {},
   "source": [
    "Now we'll retrieve the pipeline details, and verify the name is the same as set earlier and it is running."
   ]
  },
  {
   "cell_type": "code",
   "execution_count": 98,
   "metadata": {},
   "outputs": [
    {
     "name": "stdout",
     "output_type": "stream",
     "text": [
      "{\"pipelines\":[{\"id\":\"edge-inline-replacement-demon\",\"status\":\"Running\"}]}"
     ]
    }
   ],
   "source": [
    "!curl testboy.local:8080/pipelines"
   ]
  },
  {
   "cell_type": "markdown",
   "metadata": {},
   "source": [
    "Now do the infer with the same DataFrame we used for our sample inference when the model was deployed in the Wallaroo instance."
   ]
  },
  {
   "cell_type": "code",
   "execution_count": 99,
   "metadata": {},
   "outputs": [
    {
     "name": "stdout",
     "output_type": "stream",
     "text": [
      "  % Total    % Received % Xferd  Average Speed   Time    Time     Time  Current\n",
      "                                 Dload  Upload   Total   Spent    Left  Speed\n",
      "100   623  100   495  100   128   7061   1825 --:--:-- --:--:-- --:--:--  8900\n"
     ]
    },
    {
     "data": {
      "text/html": [
       "<div>\n",
       "<style scoped>\n",
       "    .dataframe tbody tr th:only-of-type {\n",
       "        vertical-align: middle;\n",
       "    }\n",
       "\n",
       "    .dataframe tbody tr th {\n",
       "        vertical-align: top;\n",
       "    }\n",
       "\n",
       "    .dataframe thead th {\n",
       "        text-align: right;\n",
       "    }\n",
       "</style>\n",
       "<table border=\"1\" class=\"dataframe\">\n",
       "  <thead>\n",
       "    <tr style=\"text-align: right;\">\n",
       "      <th></th>\n",
       "      <th>time</th>\n",
       "      <th>out</th>\n",
       "      <th>metadata</th>\n",
       "    </tr>\n",
       "  </thead>\n",
       "  <tbody>\n",
       "    <tr>\n",
       "      <th>0</th>\n",
       "      <td>1711570630915</td>\n",
       "      <td>{'variable': [718013.7]}</td>\n",
       "      <td>{'last_model': '{\"model_name\":\"rf-house-price-estimator\",\"model_sha\":\"e22a0831aafd9917f3cc87a15ed267797f80e2afa12ad7d8810ca58f173b8cc6\"}', 'pipeline_version': 'edb0c329-5b5f-4c4c-801a-07b620322a7b', 'elapsed': [412650, 592415], 'dropped': [], 'partition': 'houseprice-edge-inline-demonstration'}</td>\n",
       "    </tr>\n",
       "  </tbody>\n",
       "</table>\n",
       "</div>"
      ],
      "text/plain": [
       "            time                       out  \\\n",
       "0  1711570630915  {'variable': [718013.7]}   \n",
       "\n",
       "                                                                                                                                                                                                                                                                                                  metadata  \n",
       "0  {'last_model': '{\"model_name\":\"rf-house-price-estimator\",\"model_sha\":\"e22a0831aafd9917f3cc87a15ed267797f80e2afa12ad7d8810ca58f173b8cc6\"}', 'pipeline_version': 'edb0c329-5b5f-4c4c-801a-07b620322a7b', 'elapsed': [412650, 592415], 'dropped': [], 'partition': 'houseprice-edge-inline-demonstration'}  "
      ]
     },
     "execution_count": 99,
     "metadata": {},
     "output_type": "execute_result"
    }
   ],
   "source": [
    "import json\n",
    "\n",
    "df = pd.DataFrame.from_records({\"tensor\": [[4.0, \n",
    "                                            2.5, \n",
    "                                            2900.0, \n",
    "                                            5505.0, \n",
    "                                            2.0, \n",
    "                                            0.0, \n",
    "                                            0.0, \n",
    "                                            3.0, \n",
    "                                            8.0, \n",
    "                                            2900.0, \n",
    "                                            0.0, \n",
    "                                            47.6063, \n",
    "                                            -122.02, \n",
    "                                            2970.0, \n",
    "                                            5251.0, \n",
    "                                            12.0, \n",
    "                                            0.0, \n",
    "                                            0.0]]})\n",
    "\n",
    "data = df.to_dict(orient=\"records\")\n",
    "\n",
    "!curl -X POST testboy.local:8080/infer \\\n",
    "    -H \"Content-Type: Content-Type: application/json; format=pandas-records\" \\\n",
    "    --data '{json.dumps(data)}' > ./inferenceoutput.df.json\n",
    "\n",
    "# get the dataframe from what we just did\n",
    "\n",
    "df_result = pd.read_json('./inferenceoutput.df.json', orient=\"records\")\n",
    "df_result.loc[:, ['time', 'out', 'metadata']]"
   ]
  },
  {
   "cell_type": "markdown",
   "metadata": {},
   "source": [
    "## How to Replace a Pipeline Publish\n",
    "\n",
    "Pipeline publishes are replaced with the `wallaroo.pipeline.Pipeline.publish()` method.  This creates a new publish from the most recent pipeline version and takes the following parameters.\n",
    "\n",
    "| Parameter | Type | Description |\n",
    "|---|---|---|\n",
    "| **deployment_config** | *wallaroo.deployment_config.DeploymentConfig* (*Optional*) | The deployment configuration used for the edge deployment.  By default, this is the same deployment configuration used for the pipeline. |\n",
    "| **replaces** | *[List[wallaroo.pipeline_publish]]* (*Optional*) | The pipeline publish(es) to replace.|\n",
    "\n",
    "When a pipeline published is replaced with a new one, the edge locations are transferred to the pipeline that the publish came from.  In this example, this is the same pipeline.  Inference results from the edge location deployments are stored with the pipeline that generated the publish.  Note that if the model or pipeline steps have changed from one pipeline version to the next, the pipeline log schema will change with it.  For more information, see [Wallaroo SDK Essentials Guide: Pipeline Log Management](https://staging.docs.wallaroo.ai/wallaroo-developer-guides/wallaroo-sdk-guides/wallaroo-sdk-essentials-guide/wallaroo-sdk-essentials-pipelines/wallaroo-sdk-essentials-pipeline-logs/).\n",
    "\n",
    "### Verify Pipeline Publishes and Edge Locations\n",
    "\n",
    "We verify that the pipeline is published and is assigned edge locations via the `wallaroo.pipeline.Pipeline.publishes()` method and `wallaroo.pipeline.Pipeline.list_edges()` method."
   ]
  },
  {
   "cell_type": "code",
   "execution_count": 101,
   "metadata": {},
   "outputs": [
    {
     "data": {
      "text/plain": [
       "'Publishes:'"
      ]
     },
     "metadata": {},
     "output_type": "display_data"
    },
    {
     "data": {
      "text/html": [
       "<table><tr><th>id</th><th>pipeline_version_name</th><th>engine_url</th><th>pipeline_url</th><th>created_by</th><th>created_at</th><th>updated_at</th></tr><tr><td>12</td><td>edb0c329-5b5f-4c4c-801a-07b620322a7b</td><td><a href='https://ghcr.io/wallaroolabs/doc-samples/engines/proxy/wallaroo/ghcr.io/wallaroolabs/fitzroy-mini:v2024.1.0-main-4806'>ghcr.io/wallaroolabs/doc-samples/engines/proxy/wallaroo/ghcr.io/wallaroolabs/fitzroy-mini:v2024.1.0-main-4806</a></td><td><a href='https://ghcr.io/wallaroolabs/doc-samples/pipelines/edge-inline-replacement-demon:edb0c329-5b5f-4c4c-801a-07b620322a7b'>ghcr.io/wallaroolabs/doc-samples/pipelines/edge-inline-replacement-demon:edb0c329-5b5f-4c4c-801a-07b620322a7b</a></td><td>john.hummel@wallaroo.ai</td><td>2024-27-Mar 20:13:20</td><td>2024-27-Mar 20:13:20</td></tr></table>"
      ],
      "text/plain": [
       "[PipelinePublish(created_at=datetime.datetime(2024, 3, 27, 20, 13, 20, 690888, tzinfo=tzutc()), docker_run_variables={}, engine_config={'engine': {'resources': {'limits': {'cpu': 4.0, 'memory': '3Gi'}, 'requests': {'cpu': 4.0, 'memory': '3Gi'}, 'arch': 'x86', 'accel': 'none', 'gpu': False}}, 'enginelb': {'resources': {'limits': {'cpu': 1.0, 'memory': '512Mi'}, 'requests': {'cpu': 0.2, 'memory': '512Mi'}, 'arch': 'x86', 'accel': 'none', 'gpu': False}}, 'engineAux': {'images': None, 'autoscale': {'type': 'none'}}}, id=12, pipeline_name='edge-inline-replacement-demon', pipeline_version_id=43, replaces=[], status='Published', updated_at=datetime.datetime(2024, 3, 27, 20, 13, 20, 690888, tzinfo=tzutc()), user_images=[], created_by='738d05e5-425c-4a3e-8870-1beb652db894', created_on_version='2024.1.0', edge_bundles=<wallaroo.wallaroo_ml_ops_api_client.types.Unset object at 0x11d418850>, engine_url='ghcr.io/wallaroolabs/doc-samples/engines/proxy/wallaroo/ghcr.io/wallaroolabs/fitzroy-mini:v2024.1.0-main-4806', error=None, helm={'reference': 'ghcr.io/wallaroolabs/doc-samples/charts@sha256:50e70bda9fa1690f8e8b30e7a6f51ffab7537ab2a7a5a5752326352deda94d5c', 'chart': 'ghcr.io/wallaroolabs/doc-samples/charts/edge-inline-replacement-demon', 'version': '0.0.1-edb0c329-5b5f-4c4c-801a-07b620322a7b', 'values': {}}, pipeline_url='ghcr.io/wallaroolabs/doc-samples/pipelines/edge-inline-replacement-demon:edb0c329-5b5f-4c4c-801a-07b620322a7b', pipeline_version_name='edb0c329-5b5f-4c4c-801a-07b620322a7b', additional_properties={})]"
      ]
     },
     "metadata": {},
     "output_type": "display_data"
    },
    {
     "data": {
      "text/plain": [
       "'Edge Locations'"
      ]
     },
     "metadata": {},
     "output_type": "display_data"
    },
    {
     "data": {
      "text/html": [
       "<table><tr><th>ID</th><th>Name</th><th>Tags</th><th>SPIFFE ID</th></tr><tr><td>9f9d9afa-b6bc-4a75-b811-2a56da74f02b</td><td>houseprice-edge-inline-demonstration</td><td>[]</td><td>wallaroo.ai/ns/deployments/edge/9f9d9afa-b6bc-4a75-b811-2a56da74f02b</td></tr></table>"
      ],
      "text/plain": [
       "[Edge(cpus=4.0, id='9f9d9afa-b6bc-4a75-b811-2a56da74f02b', memory='3Gi', name='houseprice-edge-inline-demonstration', tags=[], created_on_version='2024.1.0', should_run_publish=12, spiffe_id='wallaroo.ai/ns/deployments/edge/9f9d9afa-b6bc-4a75-b811-2a56da74f02b', additional_properties={})]"
      ]
     },
     "metadata": {},
     "output_type": "display_data"
    }
   ],
   "source": [
    "display('Publishes:')\n",
    "display(mainpipeline.publishes())\n",
    "display('Edge Locations')\n",
    "display(mainpipeline.list_edges())"
   ]
  },
  {
   "cell_type": "markdown",
   "metadata": {},
   "source": [
    "### How to Replace a Pipeline Publish from a New Pipeline Version\n",
    "\n",
    "The following demonstrates replacing a pipeline publish with a new publish from a pipeline version.  In this procedure, the edge location has an existing model edge deployment.  The publish that is used for that deployment is replaced, and an in-line update of the model deployment is performed on the edge device."
   ]
  },
  {
   "cell_type": "markdown",
   "metadata": {},
   "source": [
    "#### Create New Pipeline Version\n",
    "\n",
    "For the next demonstration, we will use the same pipeline and update the pipeline steps with a new model.  This time with the model `./models/xgb_model.onnx`, which takes the same input as `./models/rf_model.onnx`.  We will also set a different name for this model to distinguish it from the one previously uploaded and used as the pipeline step.\n",
    "\n",
    "Once set, we will deploy the pipeline with the new model, and perform a new inference request.  From this, we will see that this new model outputs a slightly different prediction that the previous one - closer to `$650k`."
   ]
  },
  {
   "cell_type": "code",
   "execution_count": 102,
   "metadata": {},
   "outputs": [
    {
     "data": {
      "text/html": [
       "<table><tr><th>name</th> <td>edge-inline-replacement-demon</td></tr><tr><th>created</th> <td>2024-03-27 20:12:59.870937+00:00</td></tr><tr><th>last_updated</th> <td>2024-03-27 20:13:18.791266+00:00</td></tr><tr><th>deployed</th> <td>True</td></tr><tr><th>arch</th> <td>None</td></tr><tr><th>accel</th> <td>None</td></tr><tr><th>tags</th> <td></td></tr><tr><th>versions</th> <td>edb0c329-5b5f-4c4c-801a-07b620322a7b, b44c3c00-ea9a-47d5-bf9d-2d72edc1f050, 6724c8ef-b848-420c-96ef-8b26481d7cba</td></tr><tr><th>steps</th> <td>rf-house-price-estimator</td></tr><tr><th>published</th> <td>False</td></tr></table>"
      ],
      "text/plain": [
       "{'name': 'edge-inline-replacement-demon', 'create_time': datetime.datetime(2024, 3, 27, 20, 12, 59, 870937, tzinfo=tzutc()), 'definition': \"[{'ModelInference': {'models': [{'name': 'xgb-house-price-estimator', 'version': '5363f0eb-852e-4883-a2c8-6195b36f8829', 'sha': '31e92d6ccb27b041a324a7ac22cf95d9d6cc3aa7e8263a229f7c4aec4938657c'}]}}]\"}"
      ]
     },
     "execution_count": 102,
     "metadata": {},
     "output_type": "execute_result"
    }
   ],
   "source": [
    "housing_model_challenger01 = (wl.upload_model(\"xgb-house-price-estimator\", \n",
    "                                        './models/xgb_model.onnx', \n",
    "                                        framework=Framework.ONNX)\n",
    "                                        .configure(tensor_fields=[\"tensor\"])\n",
    "                        )\n",
    "\n",
    "mainpipeline.clear()\n",
    "\n",
    "mainpipeline.add_model_step(housing_model_challenger01)"
   ]
  },
  {
   "cell_type": "code",
   "execution_count": 103,
   "metadata": {},
   "outputs": [
    {
     "data": {
      "text/plain": [
       "[{'ModelInference': {'models': [{'name': 'xgb-house-price-estimator', 'version': '5363f0eb-852e-4883-a2c8-6195b36f8829', 'sha': '31e92d6ccb27b041a324a7ac22cf95d9d6cc3aa7e8263a229f7c4aec4938657c'}]}}]"
      ]
     },
     "execution_count": 103,
     "metadata": {},
     "output_type": "execute_result"
    }
   ],
   "source": [
    "#minimum deployment config\n",
    "deploy_config = wallaroo.DeploymentConfigBuilder().replica_count(1).cpus(0.5).memory(\"1Gi\").build()\n",
    "\n",
    "mainpipeline.deploy(deployment_config = deploy_config)\n",
    "mainpipeline.steps()"
   ]
  },
  {
   "cell_type": "code",
   "execution_count": 104,
   "metadata": {},
   "outputs": [
    {
     "data": {
      "text/html": [
       "<div>\n",
       "<style scoped>\n",
       "    .dataframe tbody tr th:only-of-type {\n",
       "        vertical-align: middle;\n",
       "    }\n",
       "\n",
       "    .dataframe tbody tr th {\n",
       "        vertical-align: top;\n",
       "    }\n",
       "\n",
       "    .dataframe thead th {\n",
       "        text-align: right;\n",
       "    }\n",
       "</style>\n",
       "<table border=\"1\" class=\"dataframe\">\n",
       "  <thead>\n",
       "    <tr style=\"text-align: right;\">\n",
       "      <th></th>\n",
       "      <th>time</th>\n",
       "      <th>in.tensor</th>\n",
       "      <th>out.variable</th>\n",
       "      <th>anomaly.count</th>\n",
       "    </tr>\n",
       "  </thead>\n",
       "  <tbody>\n",
       "    <tr>\n",
       "      <th>0</th>\n",
       "      <td>2024-03-27 20:18:41.592</td>\n",
       "      <td>[4.0, 2.5, 2900.0, 5505.0, 2.0, 0.0, 0.0, 3.0, 8.0, 2900.0, 0.0, 47.6063, -122.02, 2970.0, 5251.0, 12.0, 0.0, 0.0]</td>\n",
       "      <td>[659806.0]</td>\n",
       "      <td>0</td>\n",
       "    </tr>\n",
       "  </tbody>\n",
       "</table>\n",
       "</div>"
      ],
      "text/plain": [
       "                     time  \\\n",
       "0 2024-03-27 20:18:41.592   \n",
       "\n",
       "                                                                                                            in.tensor  \\\n",
       "0  [4.0, 2.5, 2900.0, 5505.0, 2.0, 0.0, 0.0, 3.0, 8.0, 2900.0, 0.0, 47.6063, -122.02, 2970.0, 5251.0, 12.0, 0.0, 0.0]   \n",
       "\n",
       "  out.variable  anomaly.count  \n",
       "0   [659806.0]              0  "
      ]
     },
     "metadata": {},
     "output_type": "display_data"
    }
   ],
   "source": [
    "normal_input = pd.DataFrame.from_records({\"tensor\": [[4.0, \n",
    "                                                      2.5, \n",
    "                                                      2900.0, \n",
    "                                                      5505.0, \n",
    "                                                      2.0, \n",
    "                                                      0.0, \n",
    "                                                      0.0, \n",
    "                                                      3.0, \n",
    "                                                      8.0, \n",
    "                                                      2900.0, \n",
    "                                                      0.0, \n",
    "                                                      47.6063, \n",
    "                                                      -122.02, \n",
    "                                                      2970.0, \n",
    "                                                      5251.0, \n",
    "                                                      12.0, \n",
    "                                                      0.0, \n",
    "                                                      0.0]]})\n",
    "result = mainpipeline.infer(normal_input)\n",
    "display(result)"
   ]
  },
  {
   "cell_type": "markdown",
   "metadata": {},
   "source": [
    "#### Replace Pipeline Publish with new Pipeline Version\n",
    "\n",
    "From our pipeline, we will publish the new version.  The method `wallaroo.pipeline.Pipeline.publish()` creates a new publish from the most recent pipeline version and takes the following parameters.\n",
    "\n",
    "We will replace our publish earlier, labeled `pub`, with the new publish generated from the pipeline labeled `new_pub`."
   ]
  },
  {
   "cell_type": "code",
   "execution_count": 105,
   "metadata": {},
   "outputs": [
    {
     "name": "stdout",
     "output_type": "stream",
     "text": [
      "Waiting for pipeline publish... It may take up to 600 sec.\n",
      "Pipeline is publishing...... Published.\n"
     ]
    },
    {
     "data": {
      "text/html": [
       "\n",
       "          <table>\n",
       "              <tr><td>ID</td><td>13</td></tr>\n",
       "              <tr><td>Pipeline Name</td><td>edge-inline-replacement-demon</td></tr>\n",
       "              <tr><td>Pipeline Version</td><td>2e78349c-d282-41c9-a435-0c943c3accf1</td></tr>\n",
       "              <tr><td>Status</td><td>Published</td></tr>\n",
       "              <tr><td>Engine URL</td><td><a href='https://ghcr.io/wallaroolabs/doc-samples/engines/proxy/wallaroo/ghcr.io/wallaroolabs/fitzroy-mini:v2024.1.0-main-4806'>ghcr.io/wallaroolabs/doc-samples/engines/proxy/wallaroo/ghcr.io/wallaroolabs/fitzroy-mini:v2024.1.0-main-4806</a></td></tr>\n",
       "              <tr><td>Pipeline URL</td><td><a href='https://ghcr.io/wallaroolabs/doc-samples/pipelines/edge-inline-replacement-demon:2e78349c-d282-41c9-a435-0c943c3accf1'>ghcr.io/wallaroolabs/doc-samples/pipelines/edge-inline-replacement-demon:2e78349c-d282-41c9-a435-0c943c3accf1</a></td></tr>\n",
       "              <tr><td>Helm Chart URL</td><td>oci://<a href='https://ghcr.io/wallaroolabs/doc-samples/charts/edge-inline-replacement-demon'>ghcr.io/wallaroolabs/doc-samples/charts/edge-inline-replacement-demon</a></td></tr>\n",
       "              <tr><td>Helm Chart Reference</td><td>ghcr.io/wallaroolabs/doc-samples/charts@sha256:0b4697ad1f3f6ec79f00d9b572e48d00a60db63a169afce1074f6670be915dd2</td></tr>\n",
       "              <tr><td>Helm Chart Version</td><td>0.0.1-2e78349c-d282-41c9-a435-0c943c3accf1</td></tr>\n",
       "              <tr><td>Engine Config</td><td>{'engine': {'resources': {'limits': {'cpu': 4.0, 'memory': '3Gi'}, 'requests': {'cpu': 4.0, 'memory': '3Gi'}, 'accel': 'none', 'arch': 'x86', 'gpu': False}}, 'engineAux': {'autoscale': {'type': 'none'}, 'images': None}, 'enginelb': {'resources': {'limits': {'cpu': 1.0, 'memory': '512Mi'}, 'requests': {'cpu': 0.2, 'memory': '512Mi'}, 'accel': 'none', 'arch': 'x86', 'gpu': False}}}</td></tr>\n",
       "              <tr><td>User Images</td><td>[]</td></tr>\n",
       "              <tr><td>Created By</td><td>john.hummel@wallaroo.ai</td></tr>\n",
       "              <tr><td>Created At</td><td>2024-03-27 20:18:55.313370+00:00</td></tr>\n",
       "              <tr><td>Updated At</td><td>2024-03-27 20:18:55.313370+00:00</td></tr>\n",
       "              <tr><td>Replaces</td><td>Publish 12, Pipeline \"edge-inline-replacement-demon\", Version 43</td></tr>\n",
       "              <tr>\n",
       "                  <td>Docker Run Command</td>\n",
       "                  <td>\n",
       "                      <table><tr><td style=\"text-align: left\"><b>Edge</b></td><td style=\"text-align: left\"><b>Command</b></td></tr><tr><td>houseprice-edge-inline-demonstration</td><td>\n",
       "<pre style=\"text-align: left\">docker run -v $PERSISTENT_VOLUME_DIR:/persist \\\n",
       "    -e OCI_USERNAME=$OCI_USERNAME \\\n",
       "    -e OCI_PASSWORD=$OCI_PASSWORD \\\n",
       "    -e PIPELINE_URL=ghcr.io/wallaroolabs/doc-samples/pipelines/edge-inline-replacement-demon:2e78349c-d282-41c9-a435-0c943c3accf1\\\n",
       "    -e EDGE_BUNDLE=ZXhwb3J0IEJVTkRMRV9WRVJTSU9OPTEKZXhwb3J0IENPTkZJR19DUFVTPTQKZXhwb3J0IEVER0VfTkFNRT1ob3VzZXByaWNlLWVkZ2UtaW5saW5lLWRlbW9uc3RyYXRpb24KZXhwb3J0IE9QU0NFTlRFUl9IT1NUPWRvYy10ZXN0LmVkZ2Uud2FsbGFyb29jb21tdW5pdHkubmluamEKZXhwb3J0IFBJUEVMSU5FX1VSTD1naGNyLmlvL3dhbGxhcm9vbGFicy9kb2Mtc2FtcGxlcy9waXBlbGluZXMvZWRnZS1pbmxpbmUtcmVwbGFjZW1lbnQtZGVtb246MmU3ODM0OWMtZDI4Mi00MWM5LWE0MzUtMGM5NDNjM2FjY2YxCmV4cG9ydCBKT0lOX1RPS0VOPW9taXR0ZWRfZm9yX3JlcGxhY2UKZXhwb3J0IE9DSV9SRUdJU1RSWT1naGNyLmlv \\\n",
       "    ghcr.io/wallaroolabs/doc-samples/engines/proxy/wallaroo/ghcr.io/wallaroolabs/fitzroy-mini:v2024.1.0-main-4806</pre></td></tr></table>\n",
       "                      <br />\n",
       "                      <i>\n",
       "                          Note: Please set the <code>PERSISTENT_VOLUME_DIR</code>, <code>OCI_USERNAME</code>, and <code>OCI_PASSWORD</code> environment variables.\n",
       "                      </i>\n",
       "                  </td>\n",
       "              </tr>\n",
       "              <tr>\n",
       "                  <td>Helm Install Command</td>\n",
       "                  <td>\n",
       "                      <table><tr><td style=\"text-align: left\"><b>Edge</b></td><td style=\"text-align: left\"><b>Command</b></td></tr><tr><td>houseprice-edge-inline-demonstration</td><td>\n",
       "<pre style=\"text-align: left\">helm upgrade $HELM_INSTALL_NAME \\\n",
       "    oci://ghcr.io/wallaroolabs/doc-samples/charts/edge-inline-replacement-demon \\\n",
       "    --namespace $HELM_INSTALL_NAMESPACE \\\n",
       "    --version 0.0.1-2e78349c-d282-41c9-a435-0c943c3accf1 \\\n",
       "    --set ociRegistry.username=$OCI_USERNAME \\\n",
       "    --set ociRegistry.password=$OCI_PASSWORD \\\n",
       "    --set edgeBundle=ZXhwb3J0IEJVTkRMRV9WRVJTSU9OPTEKZXhwb3J0IENPTkZJR19DUFVTPTQKZXhwb3J0IEVER0VfTkFNRT1ob3VzZXByaWNlLWVkZ2UtaW5saW5lLWRlbW9uc3RyYXRpb24KZXhwb3J0IE9QU0NFTlRFUl9IT1NUPWRvYy10ZXN0LmVkZ2Uud2FsbGFyb29jb21tdW5pdHkubmluamEKZXhwb3J0IFBJUEVMSU5FX1VSTD1naGNyLmlvL3dhbGxhcm9vbGFicy9kb2Mtc2FtcGxlcy9waXBlbGluZXMvZWRnZS1pbmxpbmUtcmVwbGFjZW1lbnQtZGVtb246MmU3ODM0OWMtZDI4Mi00MWM5LWE0MzUtMGM5NDNjM2FjY2YxCmV4cG9ydCBKT0lOX1RPS0VOPW9taXR0ZWRfZm9yX3JlcGxhY2UKZXhwb3J0IE9DSV9SRUdJU1RSWT1naGNyLmlv</pre></td></tr></table>\n",
       "                      <br />\n",
       "                      <i>\n",
       "                          Note: Please set the <code>PERSISTENT_VOLUME_DIR</code>, <code>HELM_INSTALL_NAME</code>, <code>HELM_INSTALL_NAMESPACE</code>,\n",
       "                          <code>OCI_USERNAME</code>, and <code>OCI_PASSWORD</code> environment variables.\n",
       "                      </i>\n",
       "                  </td>\n",
       "              </tr>\n",
       "              \n",
       "          </table>\n",
       "        "
      ],
      "text/plain": [
       "PipelinePublish(created_at=datetime.datetime(2024, 3, 27, 20, 18, 55, 313370, tzinfo=tzutc()), docker_run_variables={'PIPELINE_URL': 'ghcr.io/wallaroolabs/doc-samples/pipelines/edge-inline-replacement-demon:2e78349c-d282-41c9-a435-0c943c3accf1'}, engine_config={'engine': {'resources': {'limits': {'cpu': 4.0, 'memory': '3Gi'}, 'requests': {'cpu': 4.0, 'memory': '3Gi'}, 'accel': 'none', 'arch': 'x86', 'gpu': False}}, 'engineAux': {'autoscale': {'type': 'none'}, 'images': None}, 'enginelb': {'resources': {'limits': {'cpu': 1.0, 'memory': '512Mi'}, 'requests': {'cpu': 0.2, 'memory': '512Mi'}, 'accel': 'none', 'arch': 'x86', 'gpu': False}}}, id=13, pipeline_name='edge-inline-replacement-demon', pipeline_version_id=45, replaces=[{'id': 12, 'pipeline_name': 'edge-inline-replacement-demon', 'pipeline_version_id': 43}], status='Published', updated_at=datetime.datetime(2024, 3, 27, 20, 18, 55, 313370, tzinfo=tzutc()), user_images=[], created_by='738d05e5-425c-4a3e-8870-1beb652db894', created_on_version='2024.1.0', edge_bundles={'houseprice-edge-inline-demonstration': 'ZXhwb3J0IEJVTkRMRV9WRVJTSU9OPTEKZXhwb3J0IENPTkZJR19DUFVTPTQKZXhwb3J0IEVER0VfTkFNRT1ob3VzZXByaWNlLWVkZ2UtaW5saW5lLWRlbW9uc3RyYXRpb24KZXhwb3J0IE9QU0NFTlRFUl9IT1NUPWRvYy10ZXN0LmVkZ2Uud2FsbGFyb29jb21tdW5pdHkubmluamEKZXhwb3J0IFBJUEVMSU5FX1VSTD1naGNyLmlvL3dhbGxhcm9vbGFicy9kb2Mtc2FtcGxlcy9waXBlbGluZXMvZWRnZS1pbmxpbmUtcmVwbGFjZW1lbnQtZGVtb246MmU3ODM0OWMtZDI4Mi00MWM5LWE0MzUtMGM5NDNjM2FjY2YxCmV4cG9ydCBKT0lOX1RPS0VOPW9taXR0ZWRfZm9yX3JlcGxhY2UKZXhwb3J0IE9DSV9SRUdJU1RSWT1naGNyLmlv'}, engine_url='ghcr.io/wallaroolabs/doc-samples/engines/proxy/wallaroo/ghcr.io/wallaroolabs/fitzroy-mini:v2024.1.0-main-4806', error=None, helm={'reference': 'ghcr.io/wallaroolabs/doc-samples/charts@sha256:0b4697ad1f3f6ec79f00d9b572e48d00a60db63a169afce1074f6670be915dd2', 'values': {}, 'chart': 'ghcr.io/wallaroolabs/doc-samples/charts/edge-inline-replacement-demon', 'version': '0.0.1-2e78349c-d282-41c9-a435-0c943c3accf1'}, pipeline_url='ghcr.io/wallaroolabs/doc-samples/pipelines/edge-inline-replacement-demon:2e78349c-d282-41c9-a435-0c943c3accf1', pipeline_version_name='2e78349c-d282-41c9-a435-0c943c3accf1', additional_properties={})"
      ]
     },
     "execution_count": 105,
     "metadata": {},
     "output_type": "execute_result"
    }
   ],
   "source": [
    "new_pub = mainpipeline.publish(replaces=[pub])\n",
    "new_pub"
   ]
  },
  {
   "cell_type": "markdown",
   "metadata": {},
   "source": [
    "Note that in the `Replaces` section, updates are given for each edge location.  On the edge device, we deploy the new pipeline publish either by the provided **Docker Run Command** or **Helm Install Command**.  Note that the **Helm Install Command** uses `helm upgrade` rather than `helm install` to create a new revision.  The pipeline steps and models will be changed at the model edge location.\n",
    "\n",
    "Before we do so, we will verify the edge locations associated for our pipelines.  `mainpipeline` will still have its edges, since we only updated the **pipeline version**, while `new_pipeline` has no edges yet."
   ]
  },
  {
   "cell_type": "markdown",
   "metadata": {},
   "source": [
    "#### Inference Requests from Replaced Pipeline Version Deployment Examples\n",
    "\n",
    "We deploy the in-line model update in our new publish above for the edge location, then perform the same checks of the models, pipeline, then a sample inference using the same inference input data as before.\n",
    "\n",
    "We will see the new model name and model version used."
   ]
  },
  {
   "cell_type": "code",
   "execution_count": 106,
   "metadata": {},
   "outputs": [
    {
     "name": "stdout",
     "output_type": "stream",
     "text": [
      "{\"models\":[{\"model_version\":{\"name\":\"xgb-house-price-estimator\",\"visibility\":\"private\",\"workspace_id\":7,\"conversion\":{\"python_version\":\"3.8\",\"requirements\":[],\"framework\":\"onnx\"},\"id\":17,\"image_path\":null,\"status\":\"ready\",\"task_id\":null,\"file_info\":{\"version\":\"5363f0eb-852e-4883-a2c8-6195b36f8829\",\"sha\":\"31e92d6ccb27b041a324a7ac22cf95d9d6cc3aa7e8263a229f7c4aec4938657c\",\"file_name\":\"xgb_model.onnx\"},\"created_on_version\":\"2024.1.0\"},\"config\":{\"id\":34,\"model_version_id\":17,\"runtime\":\"onnx\",\"filter_threshold\":null,\"tensor_fields\":[\"tensor\"],\"input_schema\":null,\"output_schema\":null,\"batch_config\":null,\"sidekick_uri\":null},\"status\":\"Running\"}]}"
     ]
    }
   ],
   "source": [
    "!curl testboy.local:8080/models"
   ]
  },
  {
   "cell_type": "code",
   "execution_count": 107,
   "metadata": {},
   "outputs": [
    {
     "name": "stdout",
     "output_type": "stream",
     "text": [
      "{\"pipelines\":[{\"id\":\"edge-inline-replacement-demon\",\"status\":\"Running\"}]}"
     ]
    }
   ],
   "source": [
    "!curl testboy.local:8080/pipelines"
   ]
  },
  {
   "cell_type": "markdown",
   "metadata": {},
   "source": [
    "We now perform the same inference request on the edge location deployment, and show the results match that as the pipeline with the new model."
   ]
  },
  {
   "cell_type": "code",
   "execution_count": 108,
   "metadata": {},
   "outputs": [
    {
     "name": "stdout",
     "output_type": "stream",
     "text": [
      "  % Total    % Received % Xferd  Average Speed   Time    Time     Time  Current\n",
      "                                 Dload  Upload   Total   Spent    Left  Speed\n",
      "100   624  100   496  100   128   7639   1971 --:--:-- --:--:-- --:--:--  9750\n"
     ]
    },
    {
     "data": {
      "text/html": [
       "<div>\n",
       "<style scoped>\n",
       "    .dataframe tbody tr th:only-of-type {\n",
       "        vertical-align: middle;\n",
       "    }\n",
       "\n",
       "    .dataframe tbody tr th {\n",
       "        vertical-align: top;\n",
       "    }\n",
       "\n",
       "    .dataframe thead th {\n",
       "        text-align: right;\n",
       "    }\n",
       "</style>\n",
       "<table border=\"1\" class=\"dataframe\">\n",
       "  <thead>\n",
       "    <tr style=\"text-align: right;\">\n",
       "      <th></th>\n",
       "      <th>time</th>\n",
       "      <th>out</th>\n",
       "      <th>metadata</th>\n",
       "    </tr>\n",
       "  </thead>\n",
       "  <tbody>\n",
       "    <tr>\n",
       "      <th>0</th>\n",
       "      <td>1711570866008</td>\n",
       "      <td>{'variable': [659806.0]}</td>\n",
       "      <td>{'last_model': '{\"model_name\":\"xgb-house-price-estimator\",\"model_sha\":\"31e92d6ccb27b041a324a7ac22cf95d9d6cc3aa7e8263a229f7c4aec4938657c\"}', 'pipeline_version': '2e78349c-d282-41c9-a435-0c943c3accf1', 'elapsed': [354429, 877909], 'dropped': [], 'partition': 'houseprice-edge-inline-demonstration'}</td>\n",
       "    </tr>\n",
       "  </tbody>\n",
       "</table>\n",
       "</div>"
      ],
      "text/plain": [
       "            time                       out  \\\n",
       "0  1711570866008  {'variable': [659806.0]}   \n",
       "\n",
       "                                                                                                                                                                                                                                                                                                   metadata  \n",
       "0  {'last_model': '{\"model_name\":\"xgb-house-price-estimator\",\"model_sha\":\"31e92d6ccb27b041a324a7ac22cf95d9d6cc3aa7e8263a229f7c4aec4938657c\"}', 'pipeline_version': '2e78349c-d282-41c9-a435-0c943c3accf1', 'elapsed': [354429, 877909], 'dropped': [], 'partition': 'houseprice-edge-inline-demonstration'}  "
      ]
     },
     "execution_count": 108,
     "metadata": {},
     "output_type": "execute_result"
    }
   ],
   "source": [
    "import json\n",
    "\n",
    "df = pd.DataFrame.from_records({\"tensor\": [[4.0, \n",
    "                                            2.5, \n",
    "                                            2900.0, \n",
    "                                            5505.0, \n",
    "                                            2.0, \n",
    "                                            0.0, \n",
    "                                            0.0, \n",
    "                                            3.0, \n",
    "                                            8.0, \n",
    "                                            2900.0, \n",
    "                                            0.0, \n",
    "                                            47.6063, \n",
    "                                            -122.02, \n",
    "                                            2970.0, \n",
    "                                            5251.0, \n",
    "                                            12.0, \n",
    "                                            0.0, \n",
    "                                            0.0]]})\n",
    "\n",
    "data = df.to_dict(orient=\"records\")\n",
    "\n",
    "!curl -X POST testboy.local:8080/infer \\\n",
    "    -H \"Content-Type: Content-Type: application/json; format=pandas-records\" \\\n",
    "    --data '{json.dumps(data)}' > inferenceoutput.df.json\n",
    "\n",
    "# get the dataframe from what we just did\n",
    "\n",
    "df_result = pd.read_json('./inferenceoutput.df.json', orient=\"records\")\n",
    "df_result.loc[:, ['time', 'out', 'metadata']]"
   ]
  },
  {
   "cell_type": "markdown",
   "metadata": {},
   "source": [
    "### How to Replace a Pipeline Publish from a New Pipeline\n",
    "\n",
    "For this example, we will create a separate pipeline than the previous one with its own model.  This model will still accept the same inputs and output fields as the models previously deployed.  This is not a requirement - completely different models with different inputs and output schemas can be used; this example is used for simplicity.\n",
    "\n",
    "For this set of examples, we will upload the third model, `./models/gbr_model.onnx` and create a new pipeline named `new-edge-inline-replacement`.  This model is added as a pipeline step and deployed."
   ]
  },
  {
   "cell_type": "code",
   "execution_count": 109,
   "metadata": {},
   "outputs": [
    {
     "data": {
      "text/plain": [
       "[{'ModelInference': {'models': [{'name': 'gbr-house-price-estimator', 'version': '30654768-3797-4076-9529-850979b983c9', 'sha': 'ed6065a79d841f7e96307bb20d5ef22840f15da0b587efb51425c7ad60589d6a'}]}}]"
      ]
     },
     "execution_count": 109,
     "metadata": {},
     "output_type": "execute_result"
    }
   ],
   "source": [
    "housing_model_challenger02 = (wl.upload_model(\"gbr-house-price-estimator\", \n",
    "                                        './models/gbr_model.onnx', \n",
    "                                        framework=Framework.ONNX)\n",
    "                                        .configure(tensor_fields=[\"tensor\"])\n",
    "                        )\n",
    "\n",
    "new_pipeline = wl.build_pipeline(\"new-edge-inline-replacement\")\n",
    "\n",
    "# clear the steps if used before\n",
    "new_pipeline.clear()\n",
    "\n",
    "new_pipeline.add_model_step(housing_model_challenger02)\n",
    "\n",
    "#minimum deployment config\n",
    "deploy_config = wallaroo.DeploymentConfigBuilder().replica_count(1).cpus(0.5).memory(\"1Gi\").build()\n",
    "\n",
    "new_pipeline.deploy(deployment_config = deploy_config)\n",
    "new_pipeline.steps()"
   ]
  },
  {
   "cell_type": "code",
   "execution_count": 110,
   "metadata": {},
   "outputs": [
    {
     "data": {
      "text/html": [
       "<div>\n",
       "<style scoped>\n",
       "    .dataframe tbody tr th:only-of-type {\n",
       "        vertical-align: middle;\n",
       "    }\n",
       "\n",
       "    .dataframe tbody tr th {\n",
       "        vertical-align: top;\n",
       "    }\n",
       "\n",
       "    .dataframe thead th {\n",
       "        text-align: right;\n",
       "    }\n",
       "</style>\n",
       "<table border=\"1\" class=\"dataframe\">\n",
       "  <thead>\n",
       "    <tr style=\"text-align: right;\">\n",
       "      <th></th>\n",
       "      <th>time</th>\n",
       "      <th>in.tensor</th>\n",
       "      <th>out.variable</th>\n",
       "      <th>anomaly.count</th>\n",
       "    </tr>\n",
       "  </thead>\n",
       "  <tbody>\n",
       "    <tr>\n",
       "      <th>0</th>\n",
       "      <td>2024-03-27 20:21:49.282</td>\n",
       "      <td>[4.0, 2.5, 2900.0, 5505.0, 2.0, 0.0, 0.0, 3.0, 8.0, 2900.0, 0.0, 47.6063, -122.02, 2970.0, 5251.0, 12.0, 0.0, 0.0]</td>\n",
       "      <td>[704901.9]</td>\n",
       "      <td>0</td>\n",
       "    </tr>\n",
       "  </tbody>\n",
       "</table>\n",
       "</div>"
      ],
      "text/plain": [
       "                     time  \\\n",
       "0 2024-03-27 20:21:49.282   \n",
       "\n",
       "                                                                                                            in.tensor  \\\n",
       "0  [4.0, 2.5, 2900.0, 5505.0, 2.0, 0.0, 0.0, 3.0, 8.0, 2900.0, 0.0, 47.6063, -122.02, 2970.0, 5251.0, 12.0, 0.0, 0.0]   \n",
       "\n",
       "  out.variable  anomaly.count  \n",
       "0   [704901.9]              0  "
      ]
     },
     "metadata": {},
     "output_type": "display_data"
    }
   ],
   "source": [
    "normal_input = pd.DataFrame.from_records({\"tensor\": [[4.0, \n",
    "                                                      2.5, \n",
    "                                                      2900.0, \n",
    "                                                      5505.0, \n",
    "                                                      2.0, \n",
    "                                                      0.0, \n",
    "                                                      0.0, \n",
    "                                                      3.0, \n",
    "                                                      8.0, \n",
    "                                                      2900.0, \n",
    "                                                      0.0, \n",
    "                                                      47.6063, \n",
    "                                                      -122.02, \n",
    "                                                      2970.0, \n",
    "                                                      5251.0, \n",
    "                                                      12.0, \n",
    "                                                      0.0, \n",
    "                                                      0.0]]})\n",
    "result = new_pipeline.infer(normal_input)\n",
    "display(result)"
   ]
  },
  {
   "cell_type": "markdown",
   "metadata": {},
   "source": [
    "#### Replace Pipeline Publish with Publish from Different Pipepline\n",
    "\n",
    "We will now publish the new pipeline, and replace the previous edge location publish from our original pipeline.  The last publish is labeled `new_pub` is labeled `new_pipeline_pub`."
   ]
  },
  {
   "cell_type": "code",
   "execution_count": 111,
   "metadata": {},
   "outputs": [
    {
     "name": "stdout",
     "output_type": "stream",
     "text": [
      "Waiting for pipeline publish... It may take up to 600 sec.\n",
      "Pipeline is publishing...... Published.\n"
     ]
    },
    {
     "data": {
      "text/html": [
       "\n",
       "          <table>\n",
       "              <tr><td>ID</td><td>14</td></tr>\n",
       "              <tr><td>Pipeline Name</td><td>new-edge-inline-replacement</td></tr>\n",
       "              <tr><td>Pipeline Version</td><td>a7aceb15-68a8-4d8f-b7fa-0b70a46dfa62</td></tr>\n",
       "              <tr><td>Status</td><td>Published</td></tr>\n",
       "              <tr><td>Engine URL</td><td><a href='https://ghcr.io/wallaroolabs/doc-samples/engines/proxy/wallaroo/ghcr.io/wallaroolabs/fitzroy-mini:v2024.1.0-main-4806'>ghcr.io/wallaroolabs/doc-samples/engines/proxy/wallaroo/ghcr.io/wallaroolabs/fitzroy-mini:v2024.1.0-main-4806</a></td></tr>\n",
       "              <tr><td>Pipeline URL</td><td><a href='https://ghcr.io/wallaroolabs/doc-samples/pipelines/new-edge-inline-replacement:a7aceb15-68a8-4d8f-b7fa-0b70a46dfa62'>ghcr.io/wallaroolabs/doc-samples/pipelines/new-edge-inline-replacement:a7aceb15-68a8-4d8f-b7fa-0b70a46dfa62</a></td></tr>\n",
       "              <tr><td>Helm Chart URL</td><td>oci://<a href='https://ghcr.io/wallaroolabs/doc-samples/charts/new-edge-inline-replacement'>ghcr.io/wallaroolabs/doc-samples/charts/new-edge-inline-replacement</a></td></tr>\n",
       "              <tr><td>Helm Chart Reference</td><td>ghcr.io/wallaroolabs/doc-samples/charts@sha256:7d5b6ec9fe65be4a6e10e6f266494f73593ef5ee26de286447302961f261871e</td></tr>\n",
       "              <tr><td>Helm Chart Version</td><td>0.0.1-a7aceb15-68a8-4d8f-b7fa-0b70a46dfa62</td></tr>\n",
       "              <tr><td>Engine Config</td><td>{'engine': {'resources': {'limits': {'cpu': 4.0, 'memory': '3Gi'}, 'requests': {'cpu': 4.0, 'memory': '3Gi'}, 'accel': 'none', 'arch': 'x86', 'gpu': False}}, 'engineAux': {'autoscale': {'type': 'none'}, 'images': None}, 'enginelb': {'resources': {'limits': {'cpu': 1.0, 'memory': '512Mi'}, 'requests': {'cpu': 0.2, 'memory': '512Mi'}, 'accel': 'none', 'arch': 'x86', 'gpu': False}}}</td></tr>\n",
       "              <tr><td>User Images</td><td>[]</td></tr>\n",
       "              <tr><td>Created By</td><td>john.hummel@wallaroo.ai</td></tr>\n",
       "              <tr><td>Created At</td><td>2024-03-27 20:23:59.059717+00:00</td></tr>\n",
       "              <tr><td>Updated At</td><td>2024-03-27 20:23:59.059717+00:00</td></tr>\n",
       "              <tr><td>Replaces</td><td>Publish 13, Pipeline \"edge-inline-replacement-demon\", Version 45</td></tr>\n",
       "              <tr>\n",
       "                  <td>Docker Run Command</td>\n",
       "                  <td>\n",
       "                      <table><tr><td style=\"text-align: left\"><b>Edge</b></td><td style=\"text-align: left\"><b>Command</b></td></tr><tr><td>houseprice-edge-inline-demonstration</td><td>\n",
       "<pre style=\"text-align: left\">docker run -v $PERSISTENT_VOLUME_DIR:/persist \\\n",
       "    -e OCI_USERNAME=$OCI_USERNAME \\\n",
       "    -e OCI_PASSWORD=$OCI_PASSWORD \\\n",
       "    -e PIPELINE_URL=ghcr.io/wallaroolabs/doc-samples/pipelines/new-edge-inline-replacement:a7aceb15-68a8-4d8f-b7fa-0b70a46dfa62\\\n",
       "    -e EDGE_BUNDLE=ZXhwb3J0IEJVTkRMRV9WRVJTSU9OPTEKZXhwb3J0IENPTkZJR19DUFVTPTQKZXhwb3J0IEVER0VfTkFNRT1ob3VzZXByaWNlLWVkZ2UtaW5saW5lLWRlbW9uc3RyYXRpb24KZXhwb3J0IE9QU0NFTlRFUl9IT1NUPWRvYy10ZXN0LmVkZ2Uud2FsbGFyb29jb21tdW5pdHkubmluamEKZXhwb3J0IFBJUEVMSU5FX1VSTD1naGNyLmlvL3dhbGxhcm9vbGFicy9kb2Mtc2FtcGxlcy9waXBlbGluZXMvbmV3LWVkZ2UtaW5saW5lLXJlcGxhY2VtZW50OmE3YWNlYjE1LTY4YTgtNGQ4Zi1iN2ZhLTBiNzBhNDZkZmE2MgpleHBvcnQgSk9JTl9UT0tFTj1vbWl0dGVkX2Zvcl9yZXBsYWNlCmV4cG9ydCBPQ0lfUkVHSVNUUlk9Z2hjci5pbw== \\\n",
       "    ghcr.io/wallaroolabs/doc-samples/engines/proxy/wallaroo/ghcr.io/wallaroolabs/fitzroy-mini:v2024.1.0-main-4806</pre></td></tr></table>\n",
       "                      <br />\n",
       "                      <i>\n",
       "                          Note: Please set the <code>PERSISTENT_VOLUME_DIR</code>, <code>OCI_USERNAME</code>, and <code>OCI_PASSWORD</code> environment variables.\n",
       "                      </i>\n",
       "                  </td>\n",
       "              </tr>\n",
       "              <tr>\n",
       "                  <td>Helm Install Command</td>\n",
       "                  <td>\n",
       "                      <table><tr><td style=\"text-align: left\"><b>Edge</b></td><td style=\"text-align: left\"><b>Command</b></td></tr><tr><td>houseprice-edge-inline-demonstration</td><td>\n",
       "<pre style=\"text-align: left\">helm upgrade $HELM_INSTALL_NAME \\\n",
       "    oci://ghcr.io/wallaroolabs/doc-samples/charts/new-edge-inline-replacement \\\n",
       "    --namespace $HELM_INSTALL_NAMESPACE \\\n",
       "    --version 0.0.1-a7aceb15-68a8-4d8f-b7fa-0b70a46dfa62 \\\n",
       "    --set ociRegistry.username=$OCI_USERNAME \\\n",
       "    --set ociRegistry.password=$OCI_PASSWORD \\\n",
       "    --set edgeBundle=ZXhwb3J0IEJVTkRMRV9WRVJTSU9OPTEKZXhwb3J0IENPTkZJR19DUFVTPTQKZXhwb3J0IEVER0VfTkFNRT1ob3VzZXByaWNlLWVkZ2UtaW5saW5lLWRlbW9uc3RyYXRpb24KZXhwb3J0IE9QU0NFTlRFUl9IT1NUPWRvYy10ZXN0LmVkZ2Uud2FsbGFyb29jb21tdW5pdHkubmluamEKZXhwb3J0IFBJUEVMSU5FX1VSTD1naGNyLmlvL3dhbGxhcm9vbGFicy9kb2Mtc2FtcGxlcy9waXBlbGluZXMvbmV3LWVkZ2UtaW5saW5lLXJlcGxhY2VtZW50OmE3YWNlYjE1LTY4YTgtNGQ4Zi1iN2ZhLTBiNzBhNDZkZmE2MgpleHBvcnQgSk9JTl9UT0tFTj1vbWl0dGVkX2Zvcl9yZXBsYWNlCmV4cG9ydCBPQ0lfUkVHSVNUUlk9Z2hjci5pbw==</pre></td></tr></table>\n",
       "                      <br />\n",
       "                      <i>\n",
       "                          Note: Please set the <code>PERSISTENT_VOLUME_DIR</code>, <code>HELM_INSTALL_NAME</code>, <code>HELM_INSTALL_NAMESPACE</code>,\n",
       "                          <code>OCI_USERNAME</code>, and <code>OCI_PASSWORD</code> environment variables.\n",
       "                      </i>\n",
       "                  </td>\n",
       "              </tr>\n",
       "              \n",
       "          </table>\n",
       "        "
      ],
      "text/plain": [
       "PipelinePublish(created_at=datetime.datetime(2024, 3, 27, 20, 23, 59, 59717, tzinfo=tzutc()), docker_run_variables={'PIPELINE_URL': 'ghcr.io/wallaroolabs/doc-samples/pipelines/new-edge-inline-replacement:a7aceb15-68a8-4d8f-b7fa-0b70a46dfa62'}, engine_config={'engine': {'resources': {'limits': {'cpu': 4.0, 'memory': '3Gi'}, 'requests': {'cpu': 4.0, 'memory': '3Gi'}, 'accel': 'none', 'arch': 'x86', 'gpu': False}}, 'engineAux': {'autoscale': {'type': 'none'}, 'images': None}, 'enginelb': {'resources': {'limits': {'cpu': 1.0, 'memory': '512Mi'}, 'requests': {'cpu': 0.2, 'memory': '512Mi'}, 'accel': 'none', 'arch': 'x86', 'gpu': False}}}, id=14, pipeline_name='new-edge-inline-replacement', pipeline_version_id=48, replaces=[{'id': 13, 'pipeline_name': 'edge-inline-replacement-demon', 'pipeline_version_id': 45}], status='Published', updated_at=datetime.datetime(2024, 3, 27, 20, 23, 59, 59717, tzinfo=tzutc()), user_images=[], created_by='738d05e5-425c-4a3e-8870-1beb652db894', created_on_version='2024.1.0', edge_bundles={'houseprice-edge-inline-demonstration': 'ZXhwb3J0IEJVTkRMRV9WRVJTSU9OPTEKZXhwb3J0IENPTkZJR19DUFVTPTQKZXhwb3J0IEVER0VfTkFNRT1ob3VzZXByaWNlLWVkZ2UtaW5saW5lLWRlbW9uc3RyYXRpb24KZXhwb3J0IE9QU0NFTlRFUl9IT1NUPWRvYy10ZXN0LmVkZ2Uud2FsbGFyb29jb21tdW5pdHkubmluamEKZXhwb3J0IFBJUEVMSU5FX1VSTD1naGNyLmlvL3dhbGxhcm9vbGFicy9kb2Mtc2FtcGxlcy9waXBlbGluZXMvbmV3LWVkZ2UtaW5saW5lLXJlcGxhY2VtZW50OmE3YWNlYjE1LTY4YTgtNGQ4Zi1iN2ZhLTBiNzBhNDZkZmE2MgpleHBvcnQgSk9JTl9UT0tFTj1vbWl0dGVkX2Zvcl9yZXBsYWNlCmV4cG9ydCBPQ0lfUkVHSVNUUlk9Z2hjci5pbw=='}, engine_url='ghcr.io/wallaroolabs/doc-samples/engines/proxy/wallaroo/ghcr.io/wallaroolabs/fitzroy-mini:v2024.1.0-main-4806', error=None, helm={'reference': 'ghcr.io/wallaroolabs/doc-samples/charts@sha256:7d5b6ec9fe65be4a6e10e6f266494f73593ef5ee26de286447302961f261871e', 'values': {}, 'chart': 'ghcr.io/wallaroolabs/doc-samples/charts/new-edge-inline-replacement', 'version': '0.0.1-a7aceb15-68a8-4d8f-b7fa-0b70a46dfa62'}, pipeline_url='ghcr.io/wallaroolabs/doc-samples/pipelines/new-edge-inline-replacement:a7aceb15-68a8-4d8f-b7fa-0b70a46dfa62', pipeline_version_name='a7aceb15-68a8-4d8f-b7fa-0b70a46dfa62', additional_properties={})"
      ]
     },
     "execution_count": 111,
     "metadata": {},
     "output_type": "execute_result"
    }
   ],
   "source": [
    "new_pipeline_pub = new_pipeline.publish(replaces=[new_pub])\n",
    "new_pipeline_pub"
   ]
  },
  {
   "cell_type": "markdown",
   "metadata": {},
   "source": [
    "Once complete, we update the edge deployment with the new replacement `docker run` or `helm` based deployment commands from the configuration.\n",
    "\n",
    "With the edge location replacement complete with the new pipeline, we list the edge locations from the original pipeline and the new one to show the edge location is transferred to the new pipeline."
   ]
  },
  {
   "cell_type": "code",
   "execution_count": 112,
   "metadata": {},
   "outputs": [
    {
     "data": {
      "text/html": [
       "(no pipelines)"
      ],
      "text/plain": [
       "[]"
      ]
     },
     "metadata": {},
     "output_type": "display_data"
    }
   ],
   "source": [
    "display(mainpipeline.list_edges())"
   ]
  },
  {
   "cell_type": "code",
   "execution_count": 113,
   "metadata": {},
   "outputs": [
    {
     "data": {
      "text/html": [
       "<table><tr><th>ID</th><th>Name</th><th>Tags</th><th>SPIFFE ID</th></tr><tr><td>9f9d9afa-b6bc-4a75-b811-2a56da74f02b</td><td>houseprice-edge-inline-demonstration</td><td>[]</td><td>wallaroo.ai/ns/deployments/edge/9f9d9afa-b6bc-4a75-b811-2a56da74f02b</td></tr></table>"
      ],
      "text/plain": [
       "[Edge(cpus=4.0, id='9f9d9afa-b6bc-4a75-b811-2a56da74f02b', memory='3Gi', name='houseprice-edge-inline-demonstration', tags=[], created_on_version='2024.1.0', should_run_publish=14, spiffe_id='wallaroo.ai/ns/deployments/edge/9f9d9afa-b6bc-4a75-b811-2a56da74f02b', additional_properties={})]"
      ]
     },
     "metadata": {},
     "output_type": "display_data"
    }
   ],
   "source": [
    "display(new_pipeline.list_edges())"
   ]
  },
  {
   "cell_type": "markdown",
   "metadata": {},
   "source": [
    "#### Sample Inference Requests with New Pipeline Publish on Edge Location\n",
    "\n",
    "We deploy the new publish on the edge device either with the **Docker Run Command** or the **Helm Install Command**, with whatever modifications are required on the edge device.  Once complete, we run through the `/models` and `/pipelines` endpoints, then perform an inference request.  We will see the name of the new model - and the new pipeline used for the same edge location."
   ]
  },
  {
   "cell_type": "code",
   "execution_count": 114,
   "metadata": {},
   "outputs": [
    {
     "name": "stdout",
     "output_type": "stream",
     "text": [
      "{\"models\":[{\"model_version\":{\"name\":\"gbr-house-price-estimator\",\"visibility\":\"private\",\"workspace_id\":7,\"conversion\":{\"python_version\":\"3.8\",\"requirements\":[],\"framework\":\"onnx\"},\"id\":18,\"image_path\":null,\"status\":\"ready\",\"task_id\":null,\"file_info\":{\"version\":\"30654768-3797-4076-9529-850979b983c9\",\"sha\":\"ed6065a79d841f7e96307bb20d5ef22840f15da0b587efb51425c7ad60589d6a\",\"file_name\":\"gbr_model.onnx\"},\"created_on_version\":\"2024.1.0\"},\"config\":{\"id\":36,\"model_version_id\":18,\"runtime\":\"onnx\",\"filter_threshold\":null,\"tensor_fields\":[\"tensor\"],\"input_schema\":null,\"output_schema\":null,\"batch_config\":null,\"sidekick_uri\":null},\"status\":\"Running\"}]}"
     ]
    }
   ],
   "source": [
    "!curl testboy.local:8080/models"
   ]
  },
  {
   "cell_type": "code",
   "execution_count": 115,
   "metadata": {},
   "outputs": [
    {
     "name": "stdout",
     "output_type": "stream",
     "text": [
      "{\"pipelines\":[{\"id\":\"new-edge-inline-replacement\",\"status\":\"Running\"}]}"
     ]
    }
   ],
   "source": [
    "!curl testboy.local:8080/pipelines"
   ]
  },
  {
   "cell_type": "code",
   "execution_count": 116,
   "metadata": {},
   "outputs": [
    {
     "name": "stdout",
     "output_type": "stream",
     "text": [
      "  % Total    % Received % Xferd  Average Speed   Time    Time     Time  Current\n",
      "                                 Dload  Upload   Total   Spent    Left  Speed\n",
      "100   624  100   496  100   128   7407   1911 --:--:-- --:--:-- --:--:--  9454\n"
     ]
    },
    {
     "data": {
      "text/html": [
       "<div>\n",
       "<style scoped>\n",
       "    .dataframe tbody tr th:only-of-type {\n",
       "        vertical-align: middle;\n",
       "    }\n",
       "\n",
       "    .dataframe tbody tr th {\n",
       "        vertical-align: top;\n",
       "    }\n",
       "\n",
       "    .dataframe thead th {\n",
       "        text-align: right;\n",
       "    }\n",
       "</style>\n",
       "<table border=\"1\" class=\"dataframe\">\n",
       "  <thead>\n",
       "    <tr style=\"text-align: right;\">\n",
       "      <th></th>\n",
       "      <th>time</th>\n",
       "      <th>out</th>\n",
       "      <th>metadata</th>\n",
       "    </tr>\n",
       "  </thead>\n",
       "  <tbody>\n",
       "    <tr>\n",
       "      <th>0</th>\n",
       "      <td>1711571195622</td>\n",
       "      <td>{'variable': [704901.9]}</td>\n",
       "      <td>{'last_model': '{\"model_name\":\"gbr-house-price-estimator\",\"model_sha\":\"ed6065a79d841f7e96307bb20d5ef22840f15da0b587efb51425c7ad60589d6a\"}', 'pipeline_version': 'a7aceb15-68a8-4d8f-b7fa-0b70a46dfa62', 'elapsed': [362073, 562537], 'dropped': [], 'partition': 'houseprice-edge-inline-demonstration'}</td>\n",
       "    </tr>\n",
       "  </tbody>\n",
       "</table>\n",
       "</div>"
      ],
      "text/plain": [
       "            time                       out  \\\n",
       "0  1711571195622  {'variable': [704901.9]}   \n",
       "\n",
       "                                                                                                                                                                                                                                                                                                   metadata  \n",
       "0  {'last_model': '{\"model_name\":\"gbr-house-price-estimator\",\"model_sha\":\"ed6065a79d841f7e96307bb20d5ef22840f15da0b587efb51425c7ad60589d6a\"}', 'pipeline_version': 'a7aceb15-68a8-4d8f-b7fa-0b70a46dfa62', 'elapsed': [362073, 562537], 'dropped': [], 'partition': 'houseprice-edge-inline-demonstration'}  "
      ]
     },
     "execution_count": 116,
     "metadata": {},
     "output_type": "execute_result"
    }
   ],
   "source": [
    "# new inference\n",
    "\n",
    "import json\n",
    "\n",
    "df = pd.DataFrame.from_records({\"tensor\": [[4.0, 2.5, 2900.0, 5505.0, 2.0, 0.0, 0.0, 3.0, 8.0, 2900.0, 0.0, 47.6063, -122.02, 2970.0, 5251.0, 12.0, 0.0, 0.0]]})\n",
    "\n",
    "data = df.to_dict(orient=\"records\")\n",
    "\n",
    "!curl -X POST testboy.local:8080/infer \\\n",
    "    -H \"Content-Type: Content-Type: application/json; format=pandas-records\" \\\n",
    "    --data '{json.dumps(data)}' > inferenceoutput.df.json\n",
    "\n",
    "# get the dataframe from what we just did\n",
    "\n",
    "df_result = pd.read_json('./inferenceoutput.df.json', orient=\"records\")\n",
    "df_result.loc[:, ['time', 'out', 'metadata']]"
   ]
  },
  {
   "cell_type": "markdown",
   "metadata": {},
   "source": [
    "With the tutorial complete, we undeploy the pipelines and return the resources back to the cluster."
   ]
  },
  {
   "cell_type": "code",
   "execution_count": 117,
   "metadata": {},
   "outputs": [
    {
     "data": {
      "text/html": [
       "<table><tr><th>name</th> <td>new-edge-inline-replacement</td></tr><tr><th>created</th> <td>2024-03-27 20:21:31.294599+00:00</td></tr><tr><th>last_updated</th> <td>2024-03-27 20:23:57.117745+00:00</td></tr><tr><th>deployed</th> <td>False</td></tr><tr><th>arch</th> <td>None</td></tr><tr><th>accel</th> <td>None</td></tr><tr><th>tags</th> <td></td></tr><tr><th>versions</th> <td>a7aceb15-68a8-4d8f-b7fa-0b70a46dfa62, f38ba371-1a29-41e0-8484-8da786980dd0, 0c3aa524-a518-4472-b763-de48a3db6c57</td></tr><tr><th>steps</th> <td>gbr-house-price-estimator</td></tr><tr><th>published</th> <td>False</td></tr></table>"
      ],
      "text/plain": [
       "{'name': 'new-edge-inline-replacement', 'create_time': datetime.datetime(2024, 3, 27, 20, 21, 31, 294599, tzinfo=tzutc()), 'definition': \"[{'ModelInference': {'models': [{'name': 'gbr-house-price-estimator', 'version': '30654768-3797-4076-9529-850979b983c9', 'sha': 'ed6065a79d841f7e96307bb20d5ef22840f15da0b587efb51425c7ad60589d6a'}]}}]\"}"
      ]
     },
     "execution_count": 117,
     "metadata": {},
     "output_type": "execute_result"
    }
   ],
   "source": [
    "mainpipeline.undeploy()\n",
    "new_pipeline.undeploy()"
   ]
  },
  {
   "cell_type": "code",
   "execution_count": null,
   "metadata": {},
   "outputs": [],
   "source": []
  }
 ],
 "metadata": {
  "kernelspec": {
   "display_name": "Python 3 (ipykernel)",
   "language": "python",
   "name": "python3"
  },
  "language_info": {
   "codemirror_mode": {
    "name": "ipython",
    "version": 3
   },
   "file_extension": ".py",
   "mimetype": "text/x-python",
   "name": "python",
   "nbconvert_exporter": "python",
   "pygments_lexer": "ipython3",
   "version": "3.9.18"
  },
  "vscode": {
   "interpreter": {
    "hash": "7dda4bf3640b7fafcd1648658b879b4cc9f6ba6084e8fb356fdaaa1a461d1690"
   }
  }
 },
 "nbformat": 4,
 "nbformat_minor": 4
}
