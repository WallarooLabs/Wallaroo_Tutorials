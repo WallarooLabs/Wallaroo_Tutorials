{
 "cells": [
  {
   "cell_type": "markdown",
   "metadata": {},
   "source": [
    "This tutorial and the assets can be downloaded as part of the [Wallaroo Tutorials repository](https://github.com/WallarooLabs/Wallaroo_Tutorials/blob/wallaroo2025.1_tutorials/wallaroo-run-anywhere/model-management/inline-edge-model-replacements-tutorial).\n",
    "\n",
    "## In-Line Model Updates at the Edge Tutorial\n",
    "\n",
    "Wallaroo pipeline publishes are containerized versions of the pipeline, models and model steps, and the inference engine published to an Open Container Initiative (OCI) Registry.  Once published, they are used to deploy models to edge devices and used for inference requests.\n",
    "\n",
    "Edge locations added to a pipeline published allow deployments on edge devices to connect with the Wallaroo Ops instance and transmit their inference results as part of the pipeline logs.\n",
    "\n",
    "Pipeline publishes can be replaced by new pipeline publishes from the following sources:\n",
    "\n",
    "* A new version of the same pipeline that creates a new pipeline publish.  In these instances, the edge locations associated with the pipeline publish are preserved with the original pipeline along with their pipeline inference logs.  Any input or output schema changes from the new models or models steps are reflected in the pipeline logs.\n",
    "* A separate pipeline with its own models and model steps.  In this scenario, the edge locations associated with the original pipeline publish are assigned to the new pipeline.  The inference logs are stored with the original pipeline, and new inference logs for the edge locations are stored as part of the new pipeline.\n",
    "\n",
    "For more information on pipeline inference logs, see [Inference Logs](https://docs.wallaroo.ai/wallaroo-model-operations/wallaroo-model-operations-serve/wallaroo-model-operations-service-pipeline-logs/).\n",
    "\n",
    "* **IMPORTANT NOTE**:  Assays and other log data is based on the pipeline and model name.  If these values change, assays that are currently running will no longer generate analyses.  These should be paused, and new assays based on the current pipeline and model name should be created.  For more information, see [Model Drift Detection with Model Insights](https://docs.wallaroo.ai/wallaroo-model-operations/wallaroo-model-operations-observe/wallaroo-pipeline-assays/). \n",
    "\n",
    "## Goal\n",
    "\n",
    "* Package a model in Wallaroo and perform sample inferences.  Publish the pipeline and create an edge location, then deploy the model to an edge location.\n",
    "* Perform sample inferences on the edge location and verify the inference logs are added to the pipeline associated with the edge location.\n",
    "* Create a new pipeline version with a new model step and perform sample inferences.  Update the publish with the new pipeline version, and verify that the model is deployed to the edge location deployment.\n",
    "* Perform sample inferences on the edge location to verify the new model is being used, and verify the inference logs are added to the pipeline associated with the edge location.\n",
    "* Create a new pipeline with a different model and perform sample inferences.  Publish the pipeline, then replace the publish used for the edge location.  Verify that the edge location is transferred to the new pipeline.\n",
    "* Perform sample inferences on the edge location to verify model is updated from the new pipeline is being used, and verify the inference logs are added to the new pipeline associated with the edge location.\n",
    "\n",
    "### Resources\n",
    "\n",
    "This tutorial provides the following:\n",
    "\n",
    "* Models:\n",
    "  * `models/rf_model.onnx`: The champion model that predicts house prices.\n",
    "  * `models/xgb_model.onnx`: A new challenger model that takes the same inputs as `models/rf_model.onnx` and outputs house prices with a field of the same name.\n",
    "  * `models/gbr_model.onnx`: A new challenger model that takes the same inputs as `models/rf_model.onnx` and outputs house prices with a field of the same name.\n",
    "\n",
    "### Prerequisites\n",
    "\n",
    "* A deployed Wallaroo instance with [Edge Registry Services](https://docs.wallaroo.ai/wallaroo-platform-operations/wallaroo-platform-operations-configure/wallaroo-edge-deployment/#enable-wallaroo-edge-deployment-registry) and [Edge Observability enabled](https://docs.wallaroo.ai/wallaroo-platform-operations/wallaroo-platform-operations-configure/wallaroo-edge-deployment/#set-edge-observability-service).\n",
    "* The following Python libraries installed:\n",
    "  * [`wallaroo`](https://pypi.org/project/wallaroo/): The Wallaroo SDK. Included with the Wallaroo JupyterHub service by default.\n",
    "  * [`pandas`](https://pypi.org/project/pandas/): Pandas, mainly used for Pandas DataFrame\n",
    "* A X64 Docker deployment to deploy the model on an edge location.\n"
   ]
  },
  {
   "cell_type": "markdown",
   "metadata": {},
   "source": [
    "## Edge Deployment Preparation Steps\n",
    "\n",
    "The following is used to set up the environment that is used for the pipeline publish replacement and in-line model updates on an edge tutorial.\n",
    "\n",
    "In these steps, we will:\n",
    "\n",
    "* Deploying a sample ML model used to determine house prices based on a set of input parameters.\n",
    "* Publish the model deployment configuration to an OCI registry.\n",
    "* Use the publish and set edge locations.\n",
    "* Deploy the model in an edge location and perform sample inferences.\n",
    "\n",
    "### Import Libraries\n",
    "\n",
    "The first step will be to import our libraries, and set variables used through this tutorial."
   ]
  },
  {
   "cell_type": "code",
   "execution_count": 1,
   "metadata": {},
   "outputs": [],
   "source": [
    "import wallaroo\n",
    "from wallaroo.object import EntityNotFoundError\n",
    "from wallaroo.framework import Framework\n",
    "\n",
    "from IPython.display import display\n",
    "\n",
    "# used to display DataFrame information without truncating\n",
    "from IPython.display import display\n",
    "import pandas as pd\n",
    "pd.set_option('display.max_colwidth', None)\n",
    "pd.set_option('display.max_columns', None)\n",
    "\n",
    "import json\n",
    "import time\n",
    "\n",
    "workspace_name = 'in-line-edge-replacement-demo'\n",
    "\n",
    "# ignoring warnings for demonstration\n",
    "import warnings\n",
    "warnings.filterwarnings('ignore')\n",
    "\n",
    "# used to display DataFrame information without truncating\n",
    "from IPython.display import display\n",
    "import pandas as pd\n",
    "pd.set_option('display.max_colwidth', None)\n",
    "pd.set_option('display.max_columns', None)"
   ]
  },
  {
   "cell_type": "markdown",
   "metadata": {},
   "source": [
    "### Connect to the Wallaroo Instance\n",
    "\n",
    "The first step is to connect to Wallaroo through the Wallaroo client.  The Python library is included in the Wallaroo install and available through the Jupyter Hub interface provided with your Wallaroo environment.\n",
    "\n",
    "This is accomplished using the `wallaroo.Client()` command, which provides a URL to grant the SDK permission to your specific Wallaroo environment.  When displayed, enter the URL into a browser and confirm permissions.  Store the connection into a variable that can be referenced later.\n",
    "\n",
    "If logging into the Wallaroo instance through the internal JupyterHub service, use `wl = wallaroo.Client()`.  For more information on Wallaroo Client settings, see the [Client Connection guide](https://docs.wallaroo.ai/wallaroo-developer-guides/wallaroo-sdk-guides/wallaroo-sdk-essentials-guide/wallaroo-sdk-essentials-client/)."
   ]
  },
  {
   "cell_type": "code",
   "execution_count": 2,
   "metadata": {},
   "outputs": [],
   "source": [
    "# Login through local Wallaroo instance\n",
    "\n",
    "wl = wallaroo.Client()"
   ]
  },
  {
   "cell_type": "markdown",
   "metadata": {},
   "source": [
    "### Create Workspace\n",
    "\n",
    "We will create a workspace to manage our pipeline and models.  The following variables will set the name of our sample workspace then set it as the current workspace.\n",
    "\n",
    "Workspace names are unique across the Wallaroo instance.  If a user requests a workspace they have not been granted access to, an error message is returned."
   ]
  },
  {
   "cell_type": "code",
   "execution_count": 3,
   "metadata": {},
   "outputs": [
    {
     "data": {
      "text/plain": [
       "{'name': 'in-line-edge-replacement-demo', 'id': 1450, 'archived': False, 'created_by': 'preethi.kumar@wallaroo.ai', 'created_at': '2025-01-03T20:50:31.056555+00:00', 'models': [{'name': 'rf-house-price-estimator', 'versions': 4, 'owner_id': '\"\"', 'last_update_time': datetime.datetime(2025, 1, 7, 6, 5, 53, 129118, tzinfo=tzutc()), 'created_at': datetime.datetime(2025, 1, 3, 20, 50, 34, 629031, tzinfo=tzutc())}], 'pipelines': [{'name': 'edge-inline-replacement-demon', 'create_time': datetime.datetime(2025, 1, 3, 20, 50, 47, 990926, tzinfo=tzutc()), 'definition': '[]'}]}"
      ]
     },
     "execution_count": 3,
     "metadata": {},
     "output_type": "execute_result"
    }
   ],
   "source": [
    "workspace = wl.get_workspace(name=workspace_name, create_if_not_exist=True)\n",
    "\n",
    "wl.set_current_workspace(workspace)"
   ]
  },
  {
   "cell_type": "markdown",
   "metadata": {},
   "source": [
    "### Upload The Champion Model\n",
    "\n",
    "For our example, we will upload the champion model that has been trained to derive house prices from a variety of inputs.  The model file is `rf_model.onnx`, and is uploaded with the name `rf-house-price-estimator`."
   ]
  },
  {
   "cell_type": "code",
   "execution_count": 4,
   "metadata": {},
   "outputs": [],
   "source": [
    "housing_model_control = (wl.upload_model(\"rf-house-price-estimator\", \n",
    "                                        './models/rf_model.onnx', \n",
    "                                        framework=Framework.ONNX)\n",
    "                                        .configure(tensor_fields=[\"tensor\"])\n",
    "                        )"
   ]
  },
  {
   "cell_type": "markdown",
   "metadata": {},
   "source": [
    "### Build and Deploy the Pipeline\n",
    "\n",
    "This pipeline is made to be an example of an existing situation where a model is deployed and being used for inferences in a production environment.  We'll call it `edge-inline-replacement-demonstration`, set `housing_model_control` as a pipeline step, then run a sample inference."
   ]
  },
  {
   "cell_type": "code",
   "execution_count": 5,
   "metadata": {},
   "outputs": [
    {
     "name": "stdout",
     "output_type": "stream",
     "text": [
      " ok\n"
     ]
    },
    {
     "data": {
      "text/html": [
       "<table><tr><th>name</th> <td>edge-inline-replacement-demon</td></tr><tr><th>created</th> <td>2025-01-03 20:50:47.990926+00:00</td></tr><tr><th>last_updated</th> <td>2025-07-11 19:21:41.186582+00:00</td></tr><tr><th>deployed</th> <td>False</td></tr><tr><th>workspace_id</th> <td>1450</td></tr><tr><th>workspace_name</th> <td>in-line-edge-replacement-demo</td></tr><tr><th>arch</th> <td>x86</td></tr><tr><th>accel</th> <td>none</td></tr><tr><th>tags</th> <td></td></tr><tr><th>versions</th> <td>ef7d1c53-beec-49d5-954d-2fff4294161e, f3fa996d-ae1e-401e-8f8c-98c89e2c7009, eb5114c2-5107-47f4-8531-b7dbf7f9118e, 28314a82-eb40-4779-9801-8a8ee3e7227f, a1392690-c205-4524-8e0f-e0e1e673af72, 1aacdc72-671d-4be6-8aa4-91fea99a6c97, fdef8fb8-a4a5-491a-9f2c-0c32bffee0aa, f897a4b6-d768-47ef-9fad-9fc36bf0fb93, c84e3f55-f963-4118-a3c7-f00d31ab2b7f, cf93e8a8-b586-40e4-b5fa-2997feb39913, 086f04b1-dbe9-46de-bef1-54115bd9fc25, 7f36f537-2155-4240-843a-784eee0697e8, 9ee8b6f3-9e19-45e4-8cbf-8dcbdf4813c7</td></tr><tr><th>steps</th> <td>rf-house-price-estimator</td></tr><tr><th>published</th> <td>True</td></tr></table>"
      ],
      "text/plain": [
       "{'name': 'edge-inline-replacement-demon', 'create_time': datetime.datetime(2025, 1, 3, 20, 50, 47, 990926, tzinfo=tzutc()), 'definition': \"[{'ModelInference': {'models': [{'name': 'rf-house-price-estimator', 'version': 'e4b4af8a-3acd-4b21-9e66-73905a15bf74', 'sha': 'e22a0831aafd9917f3cc87a15ed267797f80e2afa12ad7d8810ca58f173b8cc6'}]}}]\"}"
      ]
     },
     "execution_count": 5,
     "metadata": {},
     "output_type": "execute_result"
    }
   ],
   "source": [
    "mainpipeline = wl.build_pipeline('edge-inline-replacement-demon')\n",
    "\n",
    "# undeploy if already created earlier\n",
    "mainpipeline.undeploy()\n",
    "# clear the steps if used before\n",
    "mainpipeline.clear()\n",
    "\n",
    "mainpipeline.add_model_step(housing_model_control)"
   ]
  },
  {
   "cell_type": "code",
   "execution_count": 6,
   "metadata": {},
   "outputs": [
    {
     "name": "stdout",
     "output_type": "stream",
     "text": [
      "Waiting for deployment - this will take up to 45s ............ ok\n"
     ]
    },
    {
     "data": {
      "text/html": [
       "<table><tr><th>name</th> <td>edge-inline-replacement-demon</td></tr><tr><th>created</th> <td>2025-01-03 20:50:47.990926+00:00</td></tr><tr><th>last_updated</th> <td>2025-07-11 19:21:42.251965+00:00</td></tr><tr><th>deployed</th> <td>True</td></tr><tr><th>workspace_id</th> <td>1450</td></tr><tr><th>workspace_name</th> <td>in-line-edge-replacement-demo</td></tr><tr><th>arch</th> <td>x86</td></tr><tr><th>accel</th> <td>none</td></tr><tr><th>tags</th> <td></td></tr><tr><th>versions</th> <td>2da8ce7c-4da0-404a-aafe-f0af99d5ce15, ef7d1c53-beec-49d5-954d-2fff4294161e, f3fa996d-ae1e-401e-8f8c-98c89e2c7009, eb5114c2-5107-47f4-8531-b7dbf7f9118e, 28314a82-eb40-4779-9801-8a8ee3e7227f, a1392690-c205-4524-8e0f-e0e1e673af72, 1aacdc72-671d-4be6-8aa4-91fea99a6c97, fdef8fb8-a4a5-491a-9f2c-0c32bffee0aa, f897a4b6-d768-47ef-9fad-9fc36bf0fb93, c84e3f55-f963-4118-a3c7-f00d31ab2b7f, cf93e8a8-b586-40e4-b5fa-2997feb39913, 086f04b1-dbe9-46de-bef1-54115bd9fc25, 7f36f537-2155-4240-843a-784eee0697e8, 9ee8b6f3-9e19-45e4-8cbf-8dcbdf4813c7</td></tr><tr><th>steps</th> <td>rf-house-price-estimator</td></tr><tr><th>published</th> <td>True</td></tr></table>"
      ],
      "text/plain": [
       "{'name': 'edge-inline-replacement-demon', 'create_time': datetime.datetime(2025, 1, 3, 20, 50, 47, 990926, tzinfo=tzutc()), 'definition': \"[{'ModelInference': {'models': [{'name': 'rf-house-price-estimator', 'version': 'e4b4af8a-3acd-4b21-9e66-73905a15bf74', 'sha': 'e22a0831aafd9917f3cc87a15ed267797f80e2afa12ad7d8810ca58f173b8cc6'}]}}]\"}"
      ]
     },
     "execution_count": 6,
     "metadata": {},
     "output_type": "execute_result"
    }
   ],
   "source": [
    "#minimum deployment config\n",
    "deploy_config = wallaroo.DeploymentConfigBuilder().replica_count(1).cpus(0.5).memory(\"1Gi\").build()\n",
    "\n",
    "mainpipeline.deploy(deployment_config = deploy_config)"
   ]
  },
  {
   "cell_type": "markdown",
   "metadata": {},
   "source": [
    "### Inference Request Testing\n",
    "\n",
    "We'll use a single row inference request that should return a result of around `$700k`."
   ]
  },
  {
   "cell_type": "code",
   "execution_count": 7,
   "metadata": {},
   "outputs": [
    {
     "data": {
      "text/html": [
       "<div>\n",
       "<style scoped>\n",
       "    .dataframe tbody tr th:only-of-type {\n",
       "        vertical-align: middle;\n",
       "    }\n",
       "\n",
       "    .dataframe tbody tr th {\n",
       "        vertical-align: top;\n",
       "    }\n",
       "\n",
       "    .dataframe thead th {\n",
       "        text-align: right;\n",
       "    }\n",
       "</style>\n",
       "<table border=\"1\" class=\"dataframe\">\n",
       "  <thead>\n",
       "    <tr style=\"text-align: right;\">\n",
       "      <th></th>\n",
       "      <th>time</th>\n",
       "      <th>in.tensor</th>\n",
       "      <th>out.variable</th>\n",
       "      <th>anomaly.count</th>\n",
       "    </tr>\n",
       "  </thead>\n",
       "  <tbody>\n",
       "    <tr>\n",
       "      <th>0</th>\n",
       "      <td>2025-07-11 19:21:56.632</td>\n",
       "      <td>[4.0, 2.5, 2900.0, 5505.0, 2.0, 0.0, 0.0, 3.0, 8.0, 2900.0, 0.0, 47.6063, -122.02, 2970.0, 5251.0, 12.0, 0.0, 0.0]</td>\n",
       "      <td>[718013.7]</td>\n",
       "      <td>0</td>\n",
       "    </tr>\n",
       "  </tbody>\n",
       "</table>\n",
       "</div>"
      ],
      "text/plain": [
       "                     time  \\\n",
       "0 2025-07-11 19:21:56.632   \n",
       "\n",
       "                                                                                                            in.tensor  \\\n",
       "0  [4.0, 2.5, 2900.0, 5505.0, 2.0, 0.0, 0.0, 3.0, 8.0, 2900.0, 0.0, 47.6063, -122.02, 2970.0, 5251.0, 12.0, 0.0, 0.0]   \n",
       "\n",
       "  out.variable  anomaly.count  \n",
       "0   [718013.7]              0  "
      ]
     },
     "metadata": {},
     "output_type": "display_data"
    }
   ],
   "source": [
    "normal_input = pd.DataFrame.from_records({\"tensor\": [[4.0, \n",
    "                                                      2.5, \n",
    "                                                      2900.0, \n",
    "                                                      5505.0, \n",
    "                                                      2.0, \n",
    "                                                      0.0, \n",
    "                                                      0.0, \n",
    "                                                      3.0, \n",
    "                                                      8.0, \n",
    "                                                      2900.0, \n",
    "                                                      0.0, \n",
    "                                                      47.6063, \n",
    "                                                      -122.02, \n",
    "                                                      2970.0, \n",
    "                                                      5251.0, \n",
    "                                                      12.0, \n",
    "                                                      0.0, \n",
    "                                                      0.0]]})\n",
    "result = mainpipeline.infer(normal_input)\n",
    "display(result)"
   ]
  },
  {
   "cell_type": "markdown",
   "metadata": {},
   "source": [
    "### Edge Deployment\n",
    "\n",
    "We can now deploy the original pipeline to an edge device.  This will require the following steps:\n",
    "\n",
    "* Publish the pipeline:  Publishes the pipeline to the OCI registry.\n",
    "* Add Edge:  Add the edge location to the pipeline publish.\n",
    "* Deploy Edge:  Deploy the edge device with the edge location settings."
   ]
  },
  {
   "cell_type": "markdown",
   "metadata": {},
   "source": [
    "#### Publish Pipeline\n",
    "\n",
    "Publishing the pipeline uses the pipeline `wallaroo.pipeline.publish()` command.  This requires that the Wallaroo Ops instance have [Edge Registry Services](https://docs.wallaroo.ai/wallaroo-platform-operations/wallaroo-platform-operations-configure/wallaroo-edge-deployment/#enable-wallaroo-edge-deployment-registry) enabled.\n",
    "\n",
    "The following publishes the pipeline to the OCI registry and displays the container details.  For more information, see [Wallaroo SDK Essentials Guide: Pipeline Edge Publication](https://docs.wallaroo.ai/wallaroo-developer-guides/wallaroo-sdk-guides/wallaroo-sdk-essentials-guide/wallaroo-sdk-essentials-pipelines/wallaroo-sdk-essentials-pipeline-publication/)."
   ]
  },
  {
   "cell_type": "code",
   "execution_count": 8,
   "metadata": {},
   "outputs": [
    {
     "name": "stdout",
     "output_type": "stream",
     "text": [
      "Waiting for pipeline publish... It may take up to 600 sec.\n",
      "... Published.blishing.\n"
     ]
    }
   ],
   "source": [
    "pub = mainpipeline.publish()"
   ]
  },
  {
   "cell_type": "markdown",
   "metadata": {},
   "source": [
    "#### Add Edge Location\n",
    "\n",
    "The edge location is added with the [`wallaroo.pipeline_publish.add_edge(name)`](https://docs.wallaroo.ai/wallaroo-developer-guides/wallaroo-sdk-guides/wallaroo-sdk-reference-guide/pipeline_publish/#PipelinePublish.add_edge) method.  This returns the OCI registration information, and the `EDGE_BUNDLE` information.  The `EDGE_BUNDLE` data is a base64 encoded set of parameters for the pipeline that the edge device is associated with, the workspace, and other data.\n",
    "\n",
    "For full details, see [Wallaroo SDK Essentials Guide: Pipeline Edge Publication: Edge Observability](https://docs.wallaroo.ai/wallaroo-developer-guides/wallaroo-sdk-guides/wallaroo-sdk-essentials-guide/wallaroo-sdk-essentials-pipelines/wallaroo-sdk-essentials-pipeline-publication/#edge-observability).\n",
    "\n",
    "For this example, we will add two locations:\n",
    "\n",
    "* `houseprice-edge-inline-demo`\n",
    "\n",
    "These will be used in later steps for demonstrating inferences through different locations."
   ]
  },
  {
   "cell_type": "code",
   "execution_count": 10,
   "metadata": {},
   "outputs": [
    {
     "data": {
      "text/html": [
       "\n",
       "          <table>\n",
       "              <tr><td>ID</td><td>85</td></tr>\n",
       "              <tr><td>Pipeline Name</td><td>edge-inline-replacement-demon</td></tr>\n",
       "              <tr><td>Pipeline Version</td><td>f028d883-6216-4c0e-baeb-7dc646fa2437</td></tr>\n",
       "              <tr><td>Status</td><td>Published</td></tr>\n",
       "              <tr><td>Workspace Id</td><td>1450</td></tr>\n",
       "              <tr><td>Workspace Name</td><td>in-line-edge-replacement-demo</td></tr>\n",
       "              <tr><td>Edges</td><td>houseprice-edge-inline-demo</td></tr>\n",
       "              <tr><td>Engine URL</td><td><a href='https://us-central1-docker.pkg.dev/wallaroo-dev-253816/uat/engines/proxy/wallaroo/ghcr.io/wallaroolabs/fitzroy-mini:v2025.1.0-6245'>us-central1-docker.pkg.dev/wallaroo-dev-253816/uat/engines/proxy/wallaroo/ghcr.io/wallaroolabs/fitzroy-mini:v2025.1.0-6245</a></td></tr>\n",
       "              <tr><td>Pipeline URL</td><td><a href='https://us-central1-docker.pkg.dev/wallaroo-dev-253816/uat/pipelines/edge-inline-replacement-demon:f028d883-6216-4c0e-baeb-7dc646fa2437'>us-central1-docker.pkg.dev/wallaroo-dev-253816/uat/pipelines/edge-inline-replacement-demon:f028d883-6216-4c0e-baeb-7dc646fa2437</a></td></tr>\n",
       "              <tr><td>Helm Chart URL</td><td>oci://<a href='https://us-central1-docker.pkg.dev/wallaroo-dev-253816/uat/charts/edge-inline-replacement-demon'>us-central1-docker.pkg.dev/wallaroo-dev-253816/uat/charts/edge-inline-replacement-demon</a></td></tr>\n",
       "              <tr><td>Helm Chart Reference</td><td>us-central1-docker.pkg.dev/wallaroo-dev-253816/uat/charts@sha256:c383d2332a9da6d59618087b04b5837c2a7878caa444848f25157e6092dfe153</td></tr>\n",
       "              <tr><td>Helm Chart Version</td><td>0.0.1-f028d883-6216-4c0e-baeb-7dc646fa2437</td></tr>\n",
       "              <tr><td>Engine Config</td><td>{'engine': {'resources': {'limits': {'cpu': 4.0, 'memory': '3Gi'}, 'requests': {'cpu': 4.0, 'memory': '3Gi'}, 'accel': 'none', 'arch': 'x86', 'gpu': False}}, 'engineAux': {'autoscale': {'type': 'none', 'cpu_utilization': 50.0}}}</td></tr>\n",
       "              <tr><td>User Images</td><td>[]</td></tr>\n",
       "              <tr><td>Created By</td><td>john.hummel@wallaroo.ai</td></tr>\n",
       "              <tr><td>Created At</td><td>2025-07-11 19:21:56.863256+00:00</td></tr>\n",
       "              <tr><td>Updated At</td><td>2025-07-11 19:21:56.863256+00:00</td></tr>\n",
       "              <tr><td>Replaces</td><td></td></tr>\n",
       "              <tr>\n",
       "                  <td>Docker Run Command</td>\n",
       "                  <td>\n",
       "                      <table><tr><td>\n",
       "<pre style=\"text-align: left\">docker run -v $PERSISTENT_VOLUME_DIR:/persist \\\n",
       "    -p $EDGE_PORT:8080 \\\n",
       "    -e OCI_USERNAME=$OCI_USERNAME \\\n",
       "    -e OCI_PASSWORD=$OCI_PASSWORD \\\n",
       "    -e PIPELINE_URL=us-central1-docker.pkg.dev/wallaroo-dev-253816/uat/pipelines/edge-inline-replacement-demon:f028d883-6216-4c0e-baeb-7dc646fa2437\\\n",
       "    -e EDGE_BUNDLE=ZXhwb3J0IEJVTkRMRV9WRVJTSU9OPTEKZXhwb3J0IENPTkZJR19DUFVTPTQKZXhwb3J0IEVER0VfTkFNRT1ob3VzZXByaWNlLWVkZ2UtaW5saW5lLWRlbW8KZXhwb3J0IE9QU0NFTlRFUl9IT1NUPWF1dG9zY2FsZS11YXQtZ2NwLndhbGxhcm9vLmRldgpleHBvcnQgUElQRUxJTkVfVVJMPXVzLWNlbnRyYWwxLWRvY2tlci5wa2cuZGV2L3dhbGxhcm9vLWRldi0yNTM4MTYvdWF0L3BpcGVsaW5lcy9lZGdlLWlubGluZS1yZXBsYWNlbWVudC1kZW1vbjpmMDI4ZDg4My02MjE2LTRjMGUtYmFlYi03ZGM2NDZmYTI0MzcKZXhwb3J0IEpPSU5fVE9LRU49N2Y4NzBhZTEtZDUwMi00NTMwLTgwN2ItYzYzZDliNzE1YzY3CmV4cG9ydCBPQ0lfUkVHSVNUUlk9dXMtY2VudHJhbDEtZG9ja2VyLnBrZy5kZXY= \\\n",
       "    -e CONFIG_CPUS=4 --cpus=4.0 --memory=3g \\\n",
       "    us-central1-docker.pkg.dev/wallaroo-dev-253816/uat/engines/proxy/wallaroo/ghcr.io/wallaroolabs/fitzroy-mini:v2025.1.0-6245</pre></td></tr></table>\n",
       "                      <br />\n",
       "                      <i>\n",
       "                          Note: Please set the <code>PERSISTENT_VOLUME_DIR</code>, <code>EDGE_PORT</code>, <code>OCI_USERNAME</code>, and <code>OCI_PASSWORD</code> environment variables.\n",
       "                      </i>\n",
       "                  </td>\n",
       "              </tr>\n",
       "              <tr>\n",
       "                  <td>Podman Run Command</td>\n",
       "                  <td>\n",
       "                      <table><tr><td>\n",
       "<pre style=\"text-align: left\">podman run -v $PERSISTENT_VOLUME_DIR:/persist \\\n",
       "    -p $EDGE_PORT:8080 \\\n",
       "    -e OCI_USERNAME=$OCI_USERNAME \\\n",
       "    -e OCI_PASSWORD=$OCI_PASSWORD \\\n",
       "    -e PIPELINE_URL=us-central1-docker.pkg.dev/wallaroo-dev-253816/uat/pipelines/edge-inline-replacement-demon:f028d883-6216-4c0e-baeb-7dc646fa2437\\\n",
       "    -e EDGE_BUNDLE=ZXhwb3J0IEJVTkRMRV9WRVJTSU9OPTEKZXhwb3J0IENPTkZJR19DUFVTPTQKZXhwb3J0IEVER0VfTkFNRT1ob3VzZXByaWNlLWVkZ2UtaW5saW5lLWRlbW8KZXhwb3J0IE9QU0NFTlRFUl9IT1NUPWF1dG9zY2FsZS11YXQtZ2NwLndhbGxhcm9vLmRldgpleHBvcnQgUElQRUxJTkVfVVJMPXVzLWNlbnRyYWwxLWRvY2tlci5wa2cuZGV2L3dhbGxhcm9vLWRldi0yNTM4MTYvdWF0L3BpcGVsaW5lcy9lZGdlLWlubGluZS1yZXBsYWNlbWVudC1kZW1vbjpmMDI4ZDg4My02MjE2LTRjMGUtYmFlYi03ZGM2NDZmYTI0MzcKZXhwb3J0IEpPSU5fVE9LRU49N2Y4NzBhZTEtZDUwMi00NTMwLTgwN2ItYzYzZDliNzE1YzY3CmV4cG9ydCBPQ0lfUkVHSVNUUlk9dXMtY2VudHJhbDEtZG9ja2VyLnBrZy5kZXY= \\\n",
       "    -e CONFIG_CPUS=4 --cpus=4.0 --memory=3g \\\n",
       "    us-central1-docker.pkg.dev/wallaroo-dev-253816/uat/engines/proxy/wallaroo/ghcr.io/wallaroolabs/fitzroy-mini:v2025.1.0-6245</pre></td></tr></table>\n",
       "                      <br />\n",
       "                      <i>\n",
       "                          Note: Please set the <code>PERSISTENT_VOLUME_DIR</code>, <code>EDGE_PORT</code>, <code>OCI_USERNAME</code>, and <code>OCI_PASSWORD</code> environment variables.\n",
       "                      </i>\n",
       "                  </td>\n",
       "              </tr>\n",
       "              <tr>\n",
       "                  <td>Helm Install Command</td>\n",
       "                  <td>\n",
       "                      <table><tr><td>\n",
       "<pre style=\"text-align: left\">helm install --atomic $HELM_INSTALL_NAME \\\n",
       "    oci://us-central1-docker.pkg.dev/wallaroo-dev-253816/uat/charts/edge-inline-replacement-demon \\\n",
       "    --namespace $HELM_INSTALL_NAMESPACE \\\n",
       "    --version 0.0.1-f028d883-6216-4c0e-baeb-7dc646fa2437 \\\n",
       "    --set ociRegistry.username=$OCI_USERNAME \\\n",
       "    --set ociRegistry.password=$OCI_PASSWORD \\\n",
       "    --set edgeBundle=ZXhwb3J0IEJVTkRMRV9WRVJTSU9OPTEKZXhwb3J0IENPTkZJR19DUFVTPTQKZXhwb3J0IEVER0VfTkFNRT1ob3VzZXByaWNlLWVkZ2UtaW5saW5lLWRlbW8KZXhwb3J0IE9QU0NFTlRFUl9IT1NUPWF1dG9zY2FsZS11YXQtZ2NwLndhbGxhcm9vLmRldgpleHBvcnQgUElQRUxJTkVfVVJMPXVzLWNlbnRyYWwxLWRvY2tlci5wa2cuZGV2L3dhbGxhcm9vLWRldi0yNTM4MTYvdWF0L3BpcGVsaW5lcy9lZGdlLWlubGluZS1yZXBsYWNlbWVudC1kZW1vbjpmMDI4ZDg4My02MjE2LTRjMGUtYmFlYi03ZGM2NDZmYTI0MzcKZXhwb3J0IEpPSU5fVE9LRU49N2Y4NzBhZTEtZDUwMi00NTMwLTgwN2ItYzYzZDliNzE1YzY3CmV4cG9ydCBPQ0lfUkVHSVNUUlk9dXMtY2VudHJhbDEtZG9ja2VyLnBrZy5kZXY=</pre></td></tr></table>\n",
       "                      <br />\n",
       "                      <i>\n",
       "                          Note: Please set the <code>HELM_INSTALL_NAME</code>, <code>HELM_INSTALL_NAMESPACE</code>,\n",
       "                          <code>OCI_USERNAME</code>, and <code>OCI_PASSWORD</code> environment variables.\n",
       "                      </i>\n",
       "                  </td>\n",
       "              </tr>\n",
       "              \n",
       "          </table>\n",
       "        "
      ],
      "text/plain": [
       "PipelinePublish(created_at=datetime.datetime(2025, 7, 11, 19, 21, 56, 863256, tzinfo=tzutc()), docker_run_variables={'PIPELINE_URL': 'us-central1-docker.pkg.dev/wallaroo-dev-253816/uat/pipelines/edge-inline-replacement-demon:f028d883-6216-4c0e-baeb-7dc646fa2437', 'EDGE_BUNDLE': 'ZXhwb3J0IEJVTkRMRV9WRVJTSU9OPTEKZXhwb3J0IENPTkZJR19DUFVTPTQKZXhwb3J0IEVER0VfTkFNRT1ob3VzZXByaWNlLWVkZ2UtaW5saW5lLWRlbW8KZXhwb3J0IE9QU0NFTlRFUl9IT1NUPWF1dG9zY2FsZS11YXQtZ2NwLndhbGxhcm9vLmRldgpleHBvcnQgUElQRUxJTkVfVVJMPXVzLWNlbnRyYWwxLWRvY2tlci5wa2cuZGV2L3dhbGxhcm9vLWRldi0yNTM4MTYvdWF0L3BpcGVsaW5lcy9lZGdlLWlubGluZS1yZXBsYWNlbWVudC1kZW1vbjpmMDI4ZDg4My02MjE2LTRjMGUtYmFlYi03ZGM2NDZmYTI0MzcKZXhwb3J0IEpPSU5fVE9LRU49N2Y4NzBhZTEtZDUwMi00NTMwLTgwN2ItYzYzZDliNzE1YzY3CmV4cG9ydCBPQ0lfUkVHSVNUUlk9dXMtY2VudHJhbDEtZG9ja2VyLnBrZy5kZXY='}, engine_config={'engine': {'resources': {'limits': {'cpu': 4.0, 'memory': '3Gi'}, 'requests': {'cpu': 4.0, 'memory': '3Gi'}, 'accel': 'none', 'arch': 'x86', 'gpu': False}}, 'engineAux': {'autoscale': {'type': 'none', 'cpu_utilization': 50.0}}}, id=85, pipeline_name='edge-inline-replacement-demon', pipeline_version_id=1869, replaces=[], status='Published', updated_at=datetime.datetime(2025, 7, 11, 19, 21, 56, 863256, tzinfo=tzutc()), user_images=[], created_by='7d603858-88e0-472e-8f71-e41094afd7ec', created_on_version='2025.1.2', edge_bundles=<wallaroo.wallaroo_ml_ops_api_client.types.Unset object at 0x7a6fff7ee4a0>, engine_url='us-central1-docker.pkg.dev/wallaroo-dev-253816/uat/engines/proxy/wallaroo/ghcr.io/wallaroolabs/fitzroy-mini:v2025.1.0-6245', error=None, helm={'reference': 'us-central1-docker.pkg.dev/wallaroo-dev-253816/uat/charts@sha256:c383d2332a9da6d59618087b04b5837c2a7878caa444848f25157e6092dfe153', 'values': {'edgeBundle': 'ZXhwb3J0IEJVTkRMRV9WRVJTSU9OPTEKZXhwb3J0IENPTkZJR19DUFVTPTQKZXhwb3J0IEVER0VfTkFNRT1ob3VzZXByaWNlLWVkZ2UtaW5saW5lLWRlbW8KZXhwb3J0IE9QU0NFTlRFUl9IT1NUPWF1dG9zY2FsZS11YXQtZ2NwLndhbGxhcm9vLmRldgpleHBvcnQgUElQRUxJTkVfVVJMPXVzLWNlbnRyYWwxLWRvY2tlci5wa2cuZGV2L3dhbGxhcm9vLWRldi0yNTM4MTYvdWF0L3BpcGVsaW5lcy9lZGdlLWlubGluZS1yZXBsYWNlbWVudC1kZW1vbjpmMDI4ZDg4My02MjE2LTRjMGUtYmFlYi03ZGM2NDZmYTI0MzcKZXhwb3J0IEpPSU5fVE9LRU49N2Y4NzBhZTEtZDUwMi00NTMwLTgwN2ItYzYzZDliNzE1YzY3CmV4cG9ydCBPQ0lfUkVHSVNUUlk9dXMtY2VudHJhbDEtZG9ja2VyLnBrZy5kZXY='}, 'chart': 'us-central1-docker.pkg.dev/wallaroo-dev-253816/uat/charts/edge-inline-replacement-demon', 'version': '0.0.1-f028d883-6216-4c0e-baeb-7dc646fa2437'}, pipeline_url='us-central1-docker.pkg.dev/wallaroo-dev-253816/uat/pipelines/edge-inline-replacement-demon:f028d883-6216-4c0e-baeb-7dc646fa2437', pipeline_version_name='f028d883-6216-4c0e-baeb-7dc646fa2437', workspace_id=1450, workspace_name='in-line-edge-replacement-demo', additional_properties={})"
      ]
     },
     "metadata": {},
     "output_type": "display_data"
    }
   ],
   "source": [
    "edge_name_01 = \"houseprice-edge-inline-demo\"\n",
    "edge_publish_01 = pub.add_edge(edge_name_01)\n",
    "display(edge_publish_01)"
   ]
  },
  {
   "cell_type": "markdown",
   "metadata": {},
   "source": [
    "#### DevOps Deployment\n",
    "\n",
    "The following shows two methods of model deployments on edge devices.  For more details on model edge deployments using Docker or `helm` with Wallaroo, see [Model Operations: Run Anywhere](https://docs.wallaroo.ai/wallaroo-model-operations/wallaroo-model-operations-run-anywhere/).\n",
    "\n",
    "##### Docker Run Based Deployment\n",
    "\n",
    "For the model deployment to the edge location via `docker run`, use the `Docker Run Command` displayed with the pipeline publish.    The following variables must be set first.\n",
    "\n",
    "* `PERSISTENT_VOLUME_DIR`: The file path for the persistent volume to store session data.\n",
    "* `EDGE_PORT`: The external port to connect to, typically `8080`.\n",
    "* `OCI_USERNAME`: The username for the OCI registry service.\n",
    "* `OCI_PASSWORD`: The password or token for the OCI registry service.\n",
    "* `\n",
    "\n",
    "Before deploying the pipeline, verify that Docker is able to connect to the OCI registry with the following command.\n",
    "\n",
    "```bash\n",
    "docker login -u $OCI_USERNAME --password $OCI_PASSWORD (Your registry URL)\n",
    "```"
   ]
  },
  {
   "cell_type": "markdown",
   "metadata": {},
   "source": [
    "#### Edge Inference Example\n",
    "\n",
    "We will perform sample inferences on the **current** model edge deployment to demonstrate how the inferences change as the models are updated through the in-line edge deployments.\n",
    "\n",
    "With the model deployed on the edge location, we will perform sample inferences on the edge deployment.  For this example, the hostname is `testboy.local`.  Adjust the hostname to fit your edge location deployment.\n",
    "\n",
    "The following endpoints are available.\n",
    "\n",
    "| Endpoint | Type | Description |\n",
    "|---|---|---|\n",
    "| `/models` | GET | Returns the models and model versions used in the edge deployment. |\n",
    "| `/pipelines` | GET | Returns the pipeline ID and status of the pipeline used in the edge deployment. |\n",
    "| `/infer` | POST | The inference request endpoint.  This accepts either an Apache Arrow table, or a JSON in pandas record format.\n",
    "\n",
    "For more details on model edge deployments with Wallaroo, see [Model Operations: Run Anywhere](https://docs.wallaroo.ai/wallaroo-model-operations/wallaroo-model-operations-run-anywhere/)."
   ]
  },
  {
   "cell_type": "markdown",
   "metadata": {},
   "source": [
    "First we'll retrieve the model.  We should see the same name we set when we uploaded it to the Wallaroo instance."
   ]
  },
  {
   "cell_type": "code",
   "execution_count": 10,
   "metadata": {},
   "outputs": [
    {
     "name": "stdout",
     "output_type": "stream",
     "text": [
      "{\"models\":[{\"sha\":\"e22a0831aafd9917f3cc87a15ed267797f80e2afa12ad7d8810ca58f173b8cc6\",\"name\":\"rf-house-price-estimator\",\"version\":\"02f05eac-5b37-4784-84a4-5db7ab95b65b\",\"status\":\"Running\"}]}"
     ]
    }
   ],
   "source": [
    "!curl testboy.local:8080/models"
   ]
  },
  {
   "cell_type": "markdown",
   "metadata": {},
   "source": [
    "Now we'll retrieve the pipeline details, and verify the name is the same as set earlier and it is running."
   ]
  },
  {
   "cell_type": "code",
   "execution_count": 11,
   "metadata": {},
   "outputs": [
    {
     "name": "stdout",
     "output_type": "stream",
     "text": [
      "{\"pipelines\":[{\"id\":\"edge-inline-replacement-demon\",\"version\":\"7c702eca-8acf-45e0-bdcd-bbb48a5102e5\",\"status\":\"Running\"}]}"
     ]
    }
   ],
   "source": [
    "!curl testboy.local:8080/pipelines"
   ]
  },
  {
   "cell_type": "markdown",
   "metadata": {},
   "source": [
    "Now do the infer with the same DataFrame we used for our sample inference when the model was deployed in the Wallaroo instance.\n",
    "\n",
    "We use the endpoint `/infer`; this endpoint remains the same even if the models and the pipeline changes, which is demonstrated in the later steps."
   ]
  },
  {
   "cell_type": "code",
   "execution_count": 12,
   "metadata": {},
   "outputs": [
    {
     "name": "stdout",
     "output_type": "stream",
     "text": [
      "  % Total    % Received % Xferd  Average Speed   Time    Time     Time  Current\n",
      "                                 Dload  Upload   Total   Spent    Left  Speed\n",
      "100   628  100   500  100   128   1811    463 --:--:-- --:--:-- --:--:--  2283\n"
     ]
    },
    {
     "data": {
      "text/html": [
       "<div>\n",
       "<style scoped>\n",
       "    .dataframe tbody tr th:only-of-type {\n",
       "        vertical-align: middle;\n",
       "    }\n",
       "\n",
       "    .dataframe tbody tr th {\n",
       "        vertical-align: top;\n",
       "    }\n",
       "\n",
       "    .dataframe thead th {\n",
       "        text-align: right;\n",
       "    }\n",
       "</style>\n",
       "<table border=\"1\" class=\"dataframe\">\n",
       "  <thead>\n",
       "    <tr style=\"text-align: right;\">\n",
       "      <th></th>\n",
       "      <th>time</th>\n",
       "      <th>out</th>\n",
       "      <th>metadata</th>\n",
       "    </tr>\n",
       "  </thead>\n",
       "  <tbody>\n",
       "    <tr>\n",
       "      <th>0</th>\n",
       "      <td>1713800294502</td>\n",
       "      <td>{'variable': [718013.7]}</td>\n",
       "      <td>{'last_model': '{\"model_name\":\"rf-house-price-estimator\",\"model_sha\":\"e22a0831aafd9917f3cc87a15ed267797f80e2afa12ad7d8810ca58f173b8cc6\"}', 'pipeline_version': '7c702eca-8acf-45e0-bdcd-bbb48a5102e5', 'elapsed': [142461514, 55185536], 'dropped': [], 'partition': 'houseprice-edge-inline-demonstration'}</td>\n",
       "    </tr>\n",
       "  </tbody>\n",
       "</table>\n",
       "</div>"
      ],
      "text/plain": [
       "            time                       out  \\\n",
       "0  1713800294502  {'variable': [718013.7]}   \n",
       "\n",
       "                                                                                                                                                                                                                                                                                                       metadata  \n",
       "0  {'last_model': '{\"model_name\":\"rf-house-price-estimator\",\"model_sha\":\"e22a0831aafd9917f3cc87a15ed267797f80e2afa12ad7d8810ca58f173b8cc6\"}', 'pipeline_version': '7c702eca-8acf-45e0-bdcd-bbb48a5102e5', 'elapsed': [142461514, 55185536], 'dropped': [], 'partition': 'houseprice-edge-inline-demonstration'}  "
      ]
     },
     "execution_count": 12,
     "metadata": {},
     "output_type": "execute_result"
    }
   ],
   "source": [
    "import json\n",
    "\n",
    "df = pd.DataFrame.from_records({\"tensor\": [[4.0, \n",
    "                                            2.5, \n",
    "                                            2900.0, \n",
    "                                            5505.0, \n",
    "                                            2.0, \n",
    "                                            0.0, \n",
    "                                            0.0, \n",
    "                                            3.0, \n",
    "                                            8.0, \n",
    "                                            2900.0, \n",
    "                                            0.0, \n",
    "                                            47.6063, \n",
    "                                            -122.02, \n",
    "                                            2970.0, \n",
    "                                            5251.0, \n",
    "                                            12.0, \n",
    "                                            0.0, \n",
    "                                            0.0]]})\n",
    "\n",
    "data = df.to_dict(orient=\"records\")\n",
    "\n",
    "!curl -X POST testboy.local:8080/infer \\\n",
    "    -H \"Content-Type: Content-Type: application/json; format=pandas-records\" \\\n",
    "    --data '{json.dumps(data)}' > ./inferenceoutput.df.json\n",
    "\n",
    "# get the dataframe from what we just did\n",
    "\n",
    "df_result = pd.read_json('./inferenceoutput.df.json', orient=\"records\")\n",
    "df_result.loc[:, ['time', 'out', 'metadata']]"
   ]
  },
  {
   "cell_type": "markdown",
   "metadata": {},
   "source": [
    "## How to Replace a Pipeline Publish\n",
    "\n",
    "Pipeline publishes are replaced with the `wallaroo.pipeline.Pipeline.publish()` method.  This creates a new publish from the most recent pipeline version and takes the following parameters.\n",
    "\n",
    "| Parameter | Type | Description |\n",
    "|---|---|---|\n",
    "| **deployment_config** | *wallaroo.deployment_config.DeploymentConfig* (*Optional*) | The deployment configuration used for the edge deployment.  By default, this is the same deployment configuration used for the pipeline. |\n",
    "| **replaces** | *[List[wallaroo.pipeline_publish]]* (*Optional*) | The pipeline publish(es) to replace.|\n",
    "\n",
    "When a pipeline published is replaced with a new one, the edge locations are transferred to the pipeline that the publish came from.  In this example, this is the same pipeline.  Inference results from the edge location deployments are stored with the pipeline that generated the publish.  Note that if the model or pipeline steps have changed from one pipeline version to the next, the pipeline log schema will change with it.  For more information, see [Wallaroo SDK Essentials Guide: Pipeline Log Management](https://docs.wallaroo.ai/wallaroo-developer-guides/wallaroo-sdk-guides/wallaroo-sdk-essentials-guide/wallaroo-sdk-essentials-pipelines/wallaroo-sdk-essentials-pipeline-logs/).\n",
    "\n",
    "### Verify Pipeline Publishes and Edge Locations\n",
    "\n",
    "We verify that the pipeline is published and is assigned edge locations via the `wallaroo.pipeline.Pipeline.publishes()` method and `wallaroo.pipeline.Pipeline.list_edges()` method."
   ]
  },
  {
   "cell_type": "code",
   "execution_count": 11,
   "metadata": {},
   "outputs": [
    {
     "data": {
      "text/plain": [
       "'Publishes:'"
      ]
     },
     "metadata": {},
     "output_type": "display_data"
    },
    {
     "data": {
      "text/html": [
       "<table><tr><th>id</th><th>Pipeline Name</th><th>Pipeline Version</th><th>Workspace Id</th><th>Workspace Name</th><th>Edges</th><th>Engine URL</th><th>Pipeline URL</th><th>Created By</th><th>Created At</th><th>Updated At</th></tr><tr><td>19</td><td>edge-inline-replacement-demon</td><td>086f04b1-dbe9-46de-bef1-54115bd9fc25</td><td>1450</td><td>in-line-edge-replacement-demo</td><td>houseprice-edge-inline-demonstration</td><td><a href='https://us-central1-docker.pkg.dev/wallaroo-dev-253816/uat/engines/proxy/wallaroo/ghcr.io/wallaroolabs/fitzroy-mini:v2024.4.0-5866'>us-central1-docker.pkg.dev/wallaroo-dev-253816/uat/engines/proxy/wallaroo/ghcr.io/wallaroolabs/fitzroy-mini:v2024.4.0-5866</a></td><td><a href='https://us-central1-docker.pkg.dev/wallaroo-dev-253816/uat/pipelines/edge-inline-replacement-demon:086f04b1-dbe9-46de-bef1-54115bd9fc25'>us-central1-docker.pkg.dev/wallaroo-dev-253816/uat/pipelines/edge-inline-replacement-demon:086f04b1-dbe9-46de-bef1-54115bd9fc25</a></td><td>preethi.kumar@wallaroo.ai</td><td>2025-03-Jan 20:51:14</td><td>2025-03-Jan 20:51:14</td></tr><tr><td>20</td><td>edge-inline-replacement-demon</td><td>f897a4b6-d768-47ef-9fad-9fc36bf0fb93</td><td>1450</td><td>in-line-edge-replacement-demo</td><td>my-edge-demo</td><td><a href='https://us-central1-docker.pkg.dev/wallaroo-dev-253816/uat/engines/proxy/wallaroo/ghcr.io/wallaroolabs/fitzroy-mini:v2024.4.0-5873'>us-central1-docker.pkg.dev/wallaroo-dev-253816/uat/engines/proxy/wallaroo/ghcr.io/wallaroolabs/fitzroy-mini:v2024.4.0-5873</a></td><td><a href='https://us-central1-docker.pkg.dev/wallaroo-dev-253816/uat/pipelines/edge-inline-replacement-demon:f897a4b6-d768-47ef-9fad-9fc36bf0fb93'>us-central1-docker.pkg.dev/wallaroo-dev-253816/uat/pipelines/edge-inline-replacement-demon:f897a4b6-d768-47ef-9fad-9fc36bf0fb93</a></td><td>preethi.kumar@wallaroo.ai</td><td>2025-06-Jan 18:27:42</td><td>2025-06-Jan 18:27:42</td></tr><tr><td>21</td><td>edge-inline-replacement-demon</td><td>a1392690-c205-4524-8e0f-e0e1e673af72</td><td>1450</td><td>in-line-edge-replacement-demo</td><td>my-edge-demo-1</td><td><a href='https://us-central1-docker.pkg.dev/wallaroo-dev-253816/uat/engines/proxy/wallaroo/ghcr.io/wallaroolabs/fitzroy-mini:v2024.4.0-5873'>us-central1-docker.pkg.dev/wallaroo-dev-253816/uat/engines/proxy/wallaroo/ghcr.io/wallaroolabs/fitzroy-mini:v2024.4.0-5873</a></td><td><a href='https://us-central1-docker.pkg.dev/wallaroo-dev-253816/uat/pipelines/edge-inline-replacement-demon:a1392690-c205-4524-8e0f-e0e1e673af72'>us-central1-docker.pkg.dev/wallaroo-dev-253816/uat/pipelines/edge-inline-replacement-demon:a1392690-c205-4524-8e0f-e0e1e673af72</a></td><td>preethi.kumar@wallaroo.ai</td><td>2025-07-Jan 01:20:40</td><td>2025-07-Jan 01:20:40</td></tr><tr><td>22</td><td>edge-inline-replacement-demon</td><td>f3fa996d-ae1e-401e-8f8c-98c89e2c7009</td><td>1450</td><td>in-line-edge-replacement-demo</td><td>my-edge-demo-2</td><td><a href='https://us-central1-docker.pkg.dev/wallaroo-dev-253816/uat/engines/proxy/wallaroo/ghcr.io/wallaroolabs/fitzroy-mini:v2024.4.0-5875'>us-central1-docker.pkg.dev/wallaroo-dev-253816/uat/engines/proxy/wallaroo/ghcr.io/wallaroolabs/fitzroy-mini:v2024.4.0-5875</a></td><td><a href='https://us-central1-docker.pkg.dev/wallaroo-dev-253816/uat/pipelines/edge-inline-replacement-demon:f3fa996d-ae1e-401e-8f8c-98c89e2c7009'>us-central1-docker.pkg.dev/wallaroo-dev-253816/uat/pipelines/edge-inline-replacement-demon:f3fa996d-ae1e-401e-8f8c-98c89e2c7009</a></td><td>preethi.kumar@wallaroo.ai</td><td>2025-07-Jan 06:05:58</td><td>2025-07-Jan 06:05:58</td></tr><tr><td>85</td><td>edge-inline-replacement-demon</td><td>f028d883-6216-4c0e-baeb-7dc646fa2437</td><td>1450</td><td>in-line-edge-replacement-demo</td><td>houseprice-edge-inline-demo</td><td><a href='https://us-central1-docker.pkg.dev/wallaroo-dev-253816/uat/engines/proxy/wallaroo/ghcr.io/wallaroolabs/fitzroy-mini:v2025.1.0-6245'>us-central1-docker.pkg.dev/wallaroo-dev-253816/uat/engines/proxy/wallaroo/ghcr.io/wallaroolabs/fitzroy-mini:v2025.1.0-6245</a></td><td><a href='https://us-central1-docker.pkg.dev/wallaroo-dev-253816/uat/pipelines/edge-inline-replacement-demon:f028d883-6216-4c0e-baeb-7dc646fa2437'>us-central1-docker.pkg.dev/wallaroo-dev-253816/uat/pipelines/edge-inline-replacement-demon:f028d883-6216-4c0e-baeb-7dc646fa2437</a></td><td>john.hummel@wallaroo.ai</td><td>2025-11-Jul 19:21:56</td><td>2025-11-Jul 19:21:56</td></tr></table>"
      ],
      "text/plain": [
       "[PipelinePublish(created_at=datetime.datetime(2025, 1, 3, 20, 51, 14, 773231, tzinfo=tzutc()), docker_run_variables={}, engine_config={'engine': {'resources': {'limits': {'cpu': 4.0, 'memory': '3Gi'}, 'requests': {'cpu': 4.0, 'memory': '3Gi'}, 'arch': 'x86', 'accel': 'none', 'gpu': False}}, 'engineAux': {'autoscale': {'type': 'none', 'cpu_utilization': 50.0}}}, id=19, pipeline_name='edge-inline-replacement-demon', pipeline_version_id=532, replaces=[], status='Published', updated_at=datetime.datetime(2025, 1, 3, 20, 51, 14, 773231, tzinfo=tzutc()), user_images=[], created_by='b156a083-3f38-4899-a44c-2e89099fa2eb', created_on_version='2024.4.0', edge_bundles=<wallaroo.wallaroo_ml_ops_api_client.types.Unset object at 0x7a6fff7ee4a0>, engine_url='us-central1-docker.pkg.dev/wallaroo-dev-253816/uat/engines/proxy/wallaroo/ghcr.io/wallaroolabs/fitzroy-mini:v2024.4.0-5866', error=None, helm={'reference': 'us-central1-docker.pkg.dev/wallaroo-dev-253816/uat/charts@sha256:41da83f0b8bef43c7ebf6d9801d31c58fabcc1925df6e4ed31e308f5f23a26dd', 'chart': 'us-central1-docker.pkg.dev/wallaroo-dev-253816/uat/charts/edge-inline-replacement-demon', 'version': '0.0.1-086f04b1-dbe9-46de-bef1-54115bd9fc25', 'values': {}}, pipeline_url='us-central1-docker.pkg.dev/wallaroo-dev-253816/uat/pipelines/edge-inline-replacement-demon:086f04b1-dbe9-46de-bef1-54115bd9fc25', pipeline_version_name='086f04b1-dbe9-46de-bef1-54115bd9fc25', workspace_id=1450, workspace_name='in-line-edge-replacement-demo', additional_properties={}),\n",
       " PipelinePublish(created_at=datetime.datetime(2025, 1, 6, 18, 27, 42, 625390, tzinfo=tzutc()), docker_run_variables={}, engine_config={'engine': {'resources': {'limits': {'cpu': 4.0, 'memory': '3Gi'}, 'requests': {'cpu': 4.0, 'memory': '3Gi'}, 'arch': 'x86', 'accel': 'none', 'gpu': False}}, 'engineAux': {'autoscale': {'type': 'none', 'cpu_utilization': 50.0}}}, id=20, pipeline_name='edge-inline-replacement-demon', pipeline_version_id=535, replaces=[], status='Published', updated_at=datetime.datetime(2025, 1, 6, 18, 27, 42, 625390, tzinfo=tzutc()), user_images=[], created_by='b156a083-3f38-4899-a44c-2e89099fa2eb', created_on_version='2024.4.0', edge_bundles=<wallaroo.wallaroo_ml_ops_api_client.types.Unset object at 0x7a6fff7ee4a0>, engine_url='us-central1-docker.pkg.dev/wallaroo-dev-253816/uat/engines/proxy/wallaroo/ghcr.io/wallaroolabs/fitzroy-mini:v2024.4.0-5873', error=None, helm={'reference': 'us-central1-docker.pkg.dev/wallaroo-dev-253816/uat/charts@sha256:69c3edf6a98896c1a75be78ea1cc5fead70e1f9f226a38fe213769030038a3ff', 'chart': 'us-central1-docker.pkg.dev/wallaroo-dev-253816/uat/charts/edge-inline-replacement-demon', 'version': '0.0.1-f897a4b6-d768-47ef-9fad-9fc36bf0fb93', 'values': {}}, pipeline_url='us-central1-docker.pkg.dev/wallaroo-dev-253816/uat/pipelines/edge-inline-replacement-demon:f897a4b6-d768-47ef-9fad-9fc36bf0fb93', pipeline_version_name='f897a4b6-d768-47ef-9fad-9fc36bf0fb93', workspace_id=1450, workspace_name='in-line-edge-replacement-demo', additional_properties={}),\n",
       " PipelinePublish(created_at=datetime.datetime(2025, 1, 7, 1, 20, 40, 981731, tzinfo=tzutc()), docker_run_variables={}, engine_config={'engine': {'resources': {'limits': {'cpu': 4.0, 'memory': '3Gi'}, 'requests': {'cpu': 4.0, 'memory': '3Gi'}, 'arch': 'x86', 'accel': 'none', 'gpu': False}}, 'engineAux': {'autoscale': {'type': 'none', 'cpu_utilization': 50.0}}}, id=21, pipeline_name='edge-inline-replacement-demon', pipeline_version_id=540, replaces=[], status='Published', updated_at=datetime.datetime(2025, 1, 7, 1, 20, 40, 981731, tzinfo=tzutc()), user_images=[], created_by='b156a083-3f38-4899-a44c-2e89099fa2eb', created_on_version='2024.4.0', edge_bundles=<wallaroo.wallaroo_ml_ops_api_client.types.Unset object at 0x7a6fff7ee4a0>, engine_url='us-central1-docker.pkg.dev/wallaroo-dev-253816/uat/engines/proxy/wallaroo/ghcr.io/wallaroolabs/fitzroy-mini:v2024.4.0-5873', error=None, helm={'reference': 'us-central1-docker.pkg.dev/wallaroo-dev-253816/uat/charts@sha256:94392bb4c161b640d48a331cc0e495e6e2409625d56971a8303facad27c42557', 'chart': 'us-central1-docker.pkg.dev/wallaroo-dev-253816/uat/charts/edge-inline-replacement-demon', 'version': '0.0.1-a1392690-c205-4524-8e0f-e0e1e673af72', 'values': {}}, pipeline_url='us-central1-docker.pkg.dev/wallaroo-dev-253816/uat/pipelines/edge-inline-replacement-demon:a1392690-c205-4524-8e0f-e0e1e673af72', pipeline_version_name='a1392690-c205-4524-8e0f-e0e1e673af72', workspace_id=1450, workspace_name='in-line-edge-replacement-demo', additional_properties={}),\n",
       " PipelinePublish(created_at=datetime.datetime(2025, 1, 7, 6, 5, 58, 392284, tzinfo=tzutc()), docker_run_variables={}, engine_config={'engine': {'resources': {'limits': {'cpu': 4.0, 'memory': '3Gi'}, 'requests': {'cpu': 4.0, 'memory': '3Gi'}, 'arch': 'x86', 'accel': 'none', 'gpu': False}}, 'engineAux': {'autoscale': {'type': 'none', 'cpu_utilization': 50.0}}}, id=22, pipeline_name='edge-inline-replacement-demon', pipeline_version_id=543, replaces=[], status='Published', updated_at=datetime.datetime(2025, 1, 7, 6, 5, 58, 392284, tzinfo=tzutc()), user_images=[], created_by='b156a083-3f38-4899-a44c-2e89099fa2eb', created_on_version='2024.4.0', edge_bundles=<wallaroo.wallaroo_ml_ops_api_client.types.Unset object at 0x7a6fff7ee4a0>, engine_url='us-central1-docker.pkg.dev/wallaroo-dev-253816/uat/engines/proxy/wallaroo/ghcr.io/wallaroolabs/fitzroy-mini:v2024.4.0-5875', error=None, helm={'reference': 'us-central1-docker.pkg.dev/wallaroo-dev-253816/uat/charts@sha256:cee2d575c5bc72506a8f2609dd1e4e48b96d8543bf5cac7ea366622c8c740a9a', 'chart': 'us-central1-docker.pkg.dev/wallaroo-dev-253816/uat/charts/edge-inline-replacement-demon', 'version': '0.0.1-f3fa996d-ae1e-401e-8f8c-98c89e2c7009', 'values': {}}, pipeline_url='us-central1-docker.pkg.dev/wallaroo-dev-253816/uat/pipelines/edge-inline-replacement-demon:f3fa996d-ae1e-401e-8f8c-98c89e2c7009', pipeline_version_name='f3fa996d-ae1e-401e-8f8c-98c89e2c7009', workspace_id=1450, workspace_name='in-line-edge-replacement-demo', additional_properties={}),\n",
       " PipelinePublish(created_at=datetime.datetime(2025, 7, 11, 19, 21, 56, 863256, tzinfo=tzutc()), docker_run_variables={}, engine_config={'engine': {'resources': {'limits': {'cpu': 4.0, 'memory': '3Gi'}, 'requests': {'cpu': 4.0, 'memory': '3Gi'}, 'arch': 'x86', 'accel': 'none', 'gpu': False}}, 'engineAux': {'autoscale': {'type': 'none', 'cpu_utilization': 50.0}}}, id=85, pipeline_name='edge-inline-replacement-demon', pipeline_version_id=1869, replaces=[], status='Published', updated_at=datetime.datetime(2025, 7, 11, 19, 21, 56, 863256, tzinfo=tzutc()), user_images=[], created_by='7d603858-88e0-472e-8f71-e41094afd7ec', created_on_version='2025.1.2', edge_bundles=<wallaroo.wallaroo_ml_ops_api_client.types.Unset object at 0x7a6fff7ee4a0>, engine_url='us-central1-docker.pkg.dev/wallaroo-dev-253816/uat/engines/proxy/wallaroo/ghcr.io/wallaroolabs/fitzroy-mini:v2025.1.0-6245', error=None, helm={'reference': 'us-central1-docker.pkg.dev/wallaroo-dev-253816/uat/charts@sha256:c383d2332a9da6d59618087b04b5837c2a7878caa444848f25157e6092dfe153', 'chart': 'us-central1-docker.pkg.dev/wallaroo-dev-253816/uat/charts/edge-inline-replacement-demon', 'version': '0.0.1-f028d883-6216-4c0e-baeb-7dc646fa2437', 'values': {}}, pipeline_url='us-central1-docker.pkg.dev/wallaroo-dev-253816/uat/pipelines/edge-inline-replacement-demon:f028d883-6216-4c0e-baeb-7dc646fa2437', pipeline_version_name='f028d883-6216-4c0e-baeb-7dc646fa2437', workspace_id=1450, workspace_name='in-line-edge-replacement-demo', additional_properties={})]"
      ]
     },
     "metadata": {},
     "output_type": "display_data"
    },
    {
     "data": {
      "text/plain": [
       "'Edge Locations'"
      ]
     },
     "metadata": {},
     "output_type": "display_data"
    },
    {
     "data": {
      "text/html": [
       "<table><tr><th>ID</th><th>Name</th><th>Publish ID</th><th>Created At</th><th>Tags</th><th>CPUs</th><th>Memory</th><th>SPIFFE ID</th></tr><tr>\n",
       "                <td>ca6018e1-2239-4511-958f-2aadb88cc92f</td>\n",
       "                <td>houseprice-edge-inline-demonstration</td>\n",
       "                <td>19</td>\n",
       "                <td>None</td>\n",
       "                <td>[]</td>\n",
       "                <td>4.0</td>\n",
       "                <td>3Gi</td>\n",
       "                <td>wallaroo.ai/ns/deployments/edge/ca6018e1-2239-4511-958f-2aadb88cc92f</td>\n",
       "            </tr><tr>\n",
       "                <td>51fe06d6-d194-410c-ade5-8d9a60bd3da6</td>\n",
       "                <td>my-edge-demo</td>\n",
       "                <td>20</td>\n",
       "                <td>None</td>\n",
       "                <td>[]</td>\n",
       "                <td>4.0</td>\n",
       "                <td>3Gi</td>\n",
       "                <td>wallaroo.ai/ns/deployments/edge/51fe06d6-d194-410c-ade5-8d9a60bd3da6</td>\n",
       "            </tr><tr>\n",
       "                <td>20db9fdb-2dde-4a18-bb75-2d62343d0a28</td>\n",
       "                <td>my-edge-demo-1</td>\n",
       "                <td>21</td>\n",
       "                <td>None</td>\n",
       "                <td>[]</td>\n",
       "                <td>4.0</td>\n",
       "                <td>3Gi</td>\n",
       "                <td>wallaroo.ai/ns/deployments/edge/20db9fdb-2dde-4a18-bb75-2d62343d0a28</td>\n",
       "            </tr><tr>\n",
       "                <td>57a1dc90-4baf-4548-ae33-e3186b5672ea</td>\n",
       "                <td>my-edge-demo-2</td>\n",
       "                <td>22</td>\n",
       "                <td>None</td>\n",
       "                <td>[]</td>\n",
       "                <td>4.0</td>\n",
       "                <td>3Gi</td>\n",
       "                <td>wallaroo.ai/ns/deployments/edge/57a1dc90-4baf-4548-ae33-e3186b5672ea</td>\n",
       "            </tr><tr>\n",
       "                <td>619aefe2-5c23-48e1-a256-fc807d452d0f</td>\n",
       "                <td>houseprice-edge-inline-demo</td>\n",
       "                <td>85</td>\n",
       "                <td>2025-07-11T19:22:21.621626+00:00</td>\n",
       "                <td>[]</td>\n",
       "                <td>4.0</td>\n",
       "                <td>3Gi</td>\n",
       "                <td>wallaroo.ai/ns/deployments/edge/619aefe2-5c23-48e1-a256-fc807d452d0f</td>\n",
       "            </tr></table>"
      ],
      "text/plain": [
       "[Edge(cpus=4.0, id='ca6018e1-2239-4511-958f-2aadb88cc92f', memory='3Gi', name='houseprice-edge-inline-demonstration', tags=[], created_at=None, created_on_version='2024.4.0', should_run_publish=19, spiffe_id='wallaroo.ai/ns/deployments/edge/ca6018e1-2239-4511-958f-2aadb88cc92f', additional_properties={}),\n",
       " Edge(cpus=4.0, id='51fe06d6-d194-410c-ade5-8d9a60bd3da6', memory='3Gi', name='my-edge-demo', tags=[], created_at=None, created_on_version='2024.4.0', should_run_publish=20, spiffe_id='wallaroo.ai/ns/deployments/edge/51fe06d6-d194-410c-ade5-8d9a60bd3da6', additional_properties={}),\n",
       " Edge(cpus=4.0, id='20db9fdb-2dde-4a18-bb75-2d62343d0a28', memory='3Gi', name='my-edge-demo-1', tags=[], created_at=None, created_on_version='2024.4.0', should_run_publish=21, spiffe_id='wallaroo.ai/ns/deployments/edge/20db9fdb-2dde-4a18-bb75-2d62343d0a28', additional_properties={}),\n",
       " Edge(cpus=4.0, id='57a1dc90-4baf-4548-ae33-e3186b5672ea', memory='3Gi', name='my-edge-demo-2', tags=[], created_at=None, created_on_version='2024.4.0', should_run_publish=22, spiffe_id='wallaroo.ai/ns/deployments/edge/57a1dc90-4baf-4548-ae33-e3186b5672ea', additional_properties={}),\n",
       " Edge(cpus=4.0, id='619aefe2-5c23-48e1-a256-fc807d452d0f', memory='3Gi', name='houseprice-edge-inline-demo', tags=[], created_at='2025-07-11T19:22:21.621626+00:00', created_on_version='2025.1.2', should_run_publish=85, spiffe_id='wallaroo.ai/ns/deployments/edge/619aefe2-5c23-48e1-a256-fc807d452d0f', additional_properties={})]"
      ]
     },
     "metadata": {},
     "output_type": "display_data"
    }
   ],
   "source": [
    "display('Publishes:')\n",
    "display(mainpipeline.publishes())\n",
    "display('Edge Locations')\n",
    "display(mainpipeline.list_edges())"
   ]
  },
  {
   "cell_type": "markdown",
   "metadata": {},
   "source": [
    "### How to Replace a Pipeline Publish from a New Pipeline Version\n",
    "\n",
    "The following demonstrates replacing a pipeline publish with a new publish from a pipeline version.  In this procedure, the edge location has an existing model edge deployment.  The publish that is used for that deployment is replaced, and an in-line update of the model deployment is performed on the edge device."
   ]
  },
  {
   "cell_type": "markdown",
   "metadata": {},
   "source": [
    "#### Create New Pipeline Version\n",
    "\n",
    "For the next demonstration, we will use the same pipeline and update the pipeline steps with a new model.  This time with the model `./models/xgb_model.onnx`, which takes the same input as `./models/rf_model.onnx`.  We will also set a different name for this model to distinguish it from the one previously uploaded and used as the pipeline step.\n",
    "\n",
    "Once set, we will deploy the pipeline with the new model, and perform a new inference request.  From this, we will see that this new model outputs a slightly different prediction that the previous one - closer to `$650k`."
   ]
  },
  {
   "cell_type": "code",
   "execution_count": 12,
   "metadata": {},
   "outputs": [
    {
     "name": "stdout",
     "output_type": "stream",
     "text": [
      "Waiting for undeployment - this will take up to 45s ....................................... ok\n"
     ]
    },
    {
     "data": {
      "text/html": [
       "<table><tr><th>name</th> <td>edge-inline-replacement-demon</td></tr><tr><th>created</th> <td>2025-01-03 20:50:47.990926+00:00</td></tr><tr><th>last_updated</th> <td>2025-07-11 19:21:56.673646+00:00</td></tr><tr><th>deployed</th> <td>False</td></tr><tr><th>workspace_id</th> <td>1450</td></tr><tr><th>workspace_name</th> <td>in-line-edge-replacement-demo</td></tr><tr><th>arch</th> <td>x86</td></tr><tr><th>accel</th> <td>none</td></tr><tr><th>tags</th> <td></td></tr><tr><th>versions</th> <td>f028d883-6216-4c0e-baeb-7dc646fa2437, 2da8ce7c-4da0-404a-aafe-f0af99d5ce15, ef7d1c53-beec-49d5-954d-2fff4294161e, f3fa996d-ae1e-401e-8f8c-98c89e2c7009, eb5114c2-5107-47f4-8531-b7dbf7f9118e, 28314a82-eb40-4779-9801-8a8ee3e7227f, a1392690-c205-4524-8e0f-e0e1e673af72, 1aacdc72-671d-4be6-8aa4-91fea99a6c97, fdef8fb8-a4a5-491a-9f2c-0c32bffee0aa, f897a4b6-d768-47ef-9fad-9fc36bf0fb93, c84e3f55-f963-4118-a3c7-f00d31ab2b7f, cf93e8a8-b586-40e4-b5fa-2997feb39913, 086f04b1-dbe9-46de-bef1-54115bd9fc25, 7f36f537-2155-4240-843a-784eee0697e8, 9ee8b6f3-9e19-45e4-8cbf-8dcbdf4813c7</td></tr><tr><th>steps</th> <td>rf-house-price-estimator</td></tr><tr><th>published</th> <td>True</td></tr></table>"
      ],
      "text/plain": [
       "{'name': 'edge-inline-replacement-demon', 'create_time': datetime.datetime(2025, 1, 3, 20, 50, 47, 990926, tzinfo=tzutc()), 'definition': \"[{'ModelInference': {'models': [{'name': 'xgb-house-price-estimator', 'version': 'f610c416-2536-46c8-b54c-723349866555', 'sha': '31e92d6ccb27b041a324a7ac22cf95d9d6cc3aa7e8263a229f7c4aec4938657c'}]}}]\"}"
      ]
     },
     "execution_count": 12,
     "metadata": {},
     "output_type": "execute_result"
    }
   ],
   "source": [
    "housing_model_challenger01 = (wl.upload_model(\"xgb-house-price-estimator\", \n",
    "                                        './models/xgb_model.onnx', \n",
    "                                        framework=Framework.ONNX)\n",
    "                                        .configure(tensor_fields=[\"tensor\"])\n",
    "                        )\n",
    "\n",
    "# undeploy if already created earlier\n",
    "mainpipeline.undeploy()\n",
    "# clear the steps if used before\n",
    "mainpipeline.clear()\n",
    "\n",
    "mainpipeline.add_model_step(housing_model_challenger01)"
   ]
  },
  {
   "cell_type": "code",
   "execution_count": 13,
   "metadata": {},
   "outputs": [
    {
     "name": "stdout",
     "output_type": "stream",
     "text": [
      "Waiting for deployment - this will take up to 45s ............ ok\n"
     ]
    },
    {
     "data": {
      "text/plain": [
       "[{'ModelInference': {'models': [{'name': 'xgb-house-price-estimator', 'version': 'f610c416-2536-46c8-b54c-723349866555', 'sha': '31e92d6ccb27b041a324a7ac22cf95d9d6cc3aa7e8263a229f7c4aec4938657c'}]}}]"
      ]
     },
     "execution_count": 13,
     "metadata": {},
     "output_type": "execute_result"
    }
   ],
   "source": [
    "#minimum deployment config\n",
    "deploy_config = wallaroo.DeploymentConfigBuilder().replica_count(1).cpus(0.5).memory(\"1Gi\").build()\n",
    "\n",
    "mainpipeline.deploy(deployment_config = deploy_config)\n",
    "mainpipeline.steps()"
   ]
  },
  {
   "cell_type": "code",
   "execution_count": 14,
   "metadata": {},
   "outputs": [
    {
     "data": {
      "text/html": [
       "<div>\n",
       "<style scoped>\n",
       "    .dataframe tbody tr th:only-of-type {\n",
       "        vertical-align: middle;\n",
       "    }\n",
       "\n",
       "    .dataframe tbody tr th {\n",
       "        vertical-align: top;\n",
       "    }\n",
       "\n",
       "    .dataframe thead th {\n",
       "        text-align: right;\n",
       "    }\n",
       "</style>\n",
       "<table border=\"1\" class=\"dataframe\">\n",
       "  <thead>\n",
       "    <tr style=\"text-align: right;\">\n",
       "      <th></th>\n",
       "      <th>time</th>\n",
       "      <th>in.tensor</th>\n",
       "      <th>out.variable</th>\n",
       "      <th>anomaly.count</th>\n",
       "    </tr>\n",
       "  </thead>\n",
       "  <tbody>\n",
       "    <tr>\n",
       "      <th>0</th>\n",
       "      <td>2025-07-11 19:23:33.645</td>\n",
       "      <td>[4.0, 2.5, 2900.0, 5505.0, 2.0, 0.0, 0.0, 3.0, 8.0, 2900.0, 0.0, 47.6063, -122.02, 2970.0, 5251.0, 12.0, 0.0, 0.0]</td>\n",
       "      <td>[659806.0]</td>\n",
       "      <td>0</td>\n",
       "    </tr>\n",
       "  </tbody>\n",
       "</table>\n",
       "</div>"
      ],
      "text/plain": [
       "                     time  \\\n",
       "0 2025-07-11 19:23:33.645   \n",
       "\n",
       "                                                                                                            in.tensor  \\\n",
       "0  [4.0, 2.5, 2900.0, 5505.0, 2.0, 0.0, 0.0, 3.0, 8.0, 2900.0, 0.0, 47.6063, -122.02, 2970.0, 5251.0, 12.0, 0.0, 0.0]   \n",
       "\n",
       "  out.variable  anomaly.count  \n",
       "0   [659806.0]              0  "
      ]
     },
     "metadata": {},
     "output_type": "display_data"
    }
   ],
   "source": [
    "normal_input = pd.DataFrame.from_records({\"tensor\": [[4.0, \n",
    "                                                      2.5, \n",
    "                                                      2900.0, \n",
    "                                                      5505.0, \n",
    "                                                      2.0, \n",
    "                                                      0.0, \n",
    "                                                      0.0, \n",
    "                                                      3.0, \n",
    "                                                      8.0, \n",
    "                                                      2900.0, \n",
    "                                                      0.0, \n",
    "                                                      47.6063, \n",
    "                                                      -122.02, \n",
    "                                                      2970.0, \n",
    "                                                      5251.0, \n",
    "                                                      12.0, \n",
    "                                                      0.0, \n",
    "                                                      0.0]]})\n",
    "result = mainpipeline.infer(normal_input)\n",
    "display(result)"
   ]
  },
  {
   "cell_type": "markdown",
   "metadata": {},
   "source": [
    "#### Replace Pipeline Publish with new Pipeline Version\n",
    "\n",
    "From our pipeline, we will publish the new version.  The method `wallaroo.pipeline.Pipeline.publish()` creates a new publish from the most recent pipeline version and takes the following parameters.\n",
    "\n",
    "We will replace our publish earlier, labeled `pub`, with the new publish generated from the pipeline labeled `new_pub`.\n",
    "\n",
    "The details on deploying the replaced pipeline publish(es) is under the `Replaces` section."
   ]
  },
  {
   "cell_type": "code",
   "execution_count": 15,
   "metadata": {},
   "outputs": [
    {
     "name": "stdout",
     "output_type": "stream",
     "text": [
      "Waiting for pipeline publish... It may take up to 600 sec.\n",
      "... Published.blishing.\n"
     ]
    },
    {
     "data": {
      "text/html": [
       "\n",
       "          <table>\n",
       "              <tr><td>ID</td><td>86</td></tr>\n",
       "              <tr><td>Pipeline Name</td><td>edge-inline-replacement-demon</td></tr>\n",
       "              <tr><td>Pipeline Version</td><td>f75a1a83-a783-48b8-9b0f-151dbd7564a7</td></tr>\n",
       "              <tr><td>Status</td><td>Published</td></tr>\n",
       "              <tr><td>Workspace Id</td><td>1450</td></tr>\n",
       "              <tr><td>Workspace Name</td><td>in-line-edge-replacement-demo</td></tr>\n",
       "              <tr><td>Edges</td><td>houseprice-edge-inline-demo</td></tr>\n",
       "              <tr><td>Engine URL</td><td><a href='https://us-central1-docker.pkg.dev/wallaroo-dev-253816/uat/engines/proxy/wallaroo/ghcr.io/wallaroolabs/fitzroy-mini:v2025.1.0-6245'>us-central1-docker.pkg.dev/wallaroo-dev-253816/uat/engines/proxy/wallaroo/ghcr.io/wallaroolabs/fitzroy-mini:v2025.1.0-6245</a></td></tr>\n",
       "              <tr><td>Pipeline URL</td><td><a href='https://us-central1-docker.pkg.dev/wallaroo-dev-253816/uat/pipelines/edge-inline-replacement-demon:f75a1a83-a783-48b8-9b0f-151dbd7564a7'>us-central1-docker.pkg.dev/wallaroo-dev-253816/uat/pipelines/edge-inline-replacement-demon:f75a1a83-a783-48b8-9b0f-151dbd7564a7</a></td></tr>\n",
       "              <tr><td>Helm Chart URL</td><td>oci://<a href='https://us-central1-docker.pkg.dev/wallaroo-dev-253816/uat/charts/edge-inline-replacement-demon'>us-central1-docker.pkg.dev/wallaroo-dev-253816/uat/charts/edge-inline-replacement-demon</a></td></tr>\n",
       "              <tr><td>Helm Chart Reference</td><td>us-central1-docker.pkg.dev/wallaroo-dev-253816/uat/charts@sha256:811576242dbb252f462e591d2150a297f725bb6b88681bdb2c2c516676cc10f5</td></tr>\n",
       "              <tr><td>Helm Chart Version</td><td>0.0.1-f75a1a83-a783-48b8-9b0f-151dbd7564a7</td></tr>\n",
       "              <tr><td>Engine Config</td><td>{'engine': {'resources': {'limits': {'cpu': 4.0, 'memory': '3Gi'}, 'requests': {'cpu': 4.0, 'memory': '3Gi'}, 'accel': 'none', 'arch': 'x86', 'gpu': False}}, 'engineAux': {'autoscale': {'type': 'none', 'cpu_utilization': 50.0}}}</td></tr>\n",
       "              <tr><td>User Images</td><td>[]</td></tr>\n",
       "              <tr><td>Created By</td><td>john.hummel@wallaroo.ai</td></tr>\n",
       "              <tr><td>Created At</td><td>2025-07-11 19:23:33.893928+00:00</td></tr>\n",
       "              <tr><td>Updated At</td><td>2025-07-11 19:23:33.893928+00:00</td></tr>\n",
       "              <tr><td>Replaces</td><td>Publish 85, Pipeline \"edge-inline-replacement-demon\", Version f028d883-6216-4c0e-baeb-7dc646fa2437</td></tr>\n",
       "              <tr>\n",
       "                  <td>Docker Run Command</td>\n",
       "                  <td>\n",
       "                      <table><tr><td style=\"text-align: left\"><b>Edge</b></td><td style=\"text-align: left\"><b>Command</b></td></tr><tr><td>houseprice-edge-inline-demo</td><td>\n",
       "<pre style=\"text-align: left\">docker run -v $PERSISTENT_VOLUME_DIR:/persist \\\n",
       "    -p $EDGE_PORT:8080 \\\n",
       "    -e OCI_USERNAME=$OCI_USERNAME \\\n",
       "    -e OCI_PASSWORD=$OCI_PASSWORD \\\n",
       "    -e PIPELINE_URL=us-central1-docker.pkg.dev/wallaroo-dev-253816/uat/pipelines/edge-inline-replacement-demon:f75a1a83-a783-48b8-9b0f-151dbd7564a7\\\n",
       "    -e EDGE_BUNDLE=ZXhwb3J0IEJVTkRMRV9WRVJTSU9OPTEKZXhwb3J0IENPTkZJR19DUFVTPTQKZXhwb3J0IEVER0VfTkFNRT1ob3VzZXByaWNlLWVkZ2UtaW5saW5lLWRlbW8KZXhwb3J0IE9QU0NFTlRFUl9IT1NUPWF1dG9zY2FsZS11YXQtZ2NwLndhbGxhcm9vLmRldgpleHBvcnQgUElQRUxJTkVfVVJMPXVzLWNlbnRyYWwxLWRvY2tlci5wa2cuZGV2L3dhbGxhcm9vLWRldi0yNTM4MTYvdWF0L3BpcGVsaW5lcy9lZGdlLWlubGluZS1yZXBsYWNlbWVudC1kZW1vbjpmNzVhMWE4My1hNzgzLTQ4YjgtOWIwZi0xNTFkYmQ3NTY0YTcKZXhwb3J0IEpPSU5fVE9LRU49b21pdHRlZF9mb3JfcmVwbGFjZQpleHBvcnQgT0NJX1JFR0lTVFJZPXVzLWNlbnRyYWwxLWRvY2tlci5wa2cuZGV2 \\\n",
       "    --cpus=4.0 --memory=3g \\\n",
       "    us-central1-docker.pkg.dev/wallaroo-dev-253816/uat/engines/proxy/wallaroo/ghcr.io/wallaroolabs/fitzroy-mini:v2025.1.0-6245</pre></td></tr></table>\n",
       "                      <br />\n",
       "                      <i>\n",
       "                          Note: Please set the <code>PERSISTENT_VOLUME_DIR</code>, <code>EDGE_PORT</code>, <code>OCI_USERNAME</code>, and <code>OCI_PASSWORD</code> environment variables.\n",
       "                      </i>\n",
       "                  </td>\n",
       "              </tr>\n",
       "              <tr>\n",
       "                  <td>Podman Run Command</td>\n",
       "                  <td>\n",
       "                      <table><tr><td style=\"text-align: left\"><b>Edge</b></td><td style=\"text-align: left\"><b>Command</b></td></tr><tr><td>houseprice-edge-inline-demo</td><td>\n",
       "<pre style=\"text-align: left\">podman run -v $PERSISTENT_VOLUME_DIR:/persist \\\n",
       "    -p $EDGE_PORT:8080 \\\n",
       "    -e OCI_USERNAME=$OCI_USERNAME \\\n",
       "    -e OCI_PASSWORD=$OCI_PASSWORD \\\n",
       "    -e PIPELINE_URL=us-central1-docker.pkg.dev/wallaroo-dev-253816/uat/pipelines/edge-inline-replacement-demon:f75a1a83-a783-48b8-9b0f-151dbd7564a7\\\n",
       "    -e EDGE_BUNDLE=ZXhwb3J0IEJVTkRMRV9WRVJTSU9OPTEKZXhwb3J0IENPTkZJR19DUFVTPTQKZXhwb3J0IEVER0VfTkFNRT1ob3VzZXByaWNlLWVkZ2UtaW5saW5lLWRlbW8KZXhwb3J0IE9QU0NFTlRFUl9IT1NUPWF1dG9zY2FsZS11YXQtZ2NwLndhbGxhcm9vLmRldgpleHBvcnQgUElQRUxJTkVfVVJMPXVzLWNlbnRyYWwxLWRvY2tlci5wa2cuZGV2L3dhbGxhcm9vLWRldi0yNTM4MTYvdWF0L3BpcGVsaW5lcy9lZGdlLWlubGluZS1yZXBsYWNlbWVudC1kZW1vbjpmNzVhMWE4My1hNzgzLTQ4YjgtOWIwZi0xNTFkYmQ3NTY0YTcKZXhwb3J0IEpPSU5fVE9LRU49b21pdHRlZF9mb3JfcmVwbGFjZQpleHBvcnQgT0NJX1JFR0lTVFJZPXVzLWNlbnRyYWwxLWRvY2tlci5wa2cuZGV2 \\\n",
       "    --cpus=4.0 --memory=3g \\\n",
       "    us-central1-docker.pkg.dev/wallaroo-dev-253816/uat/engines/proxy/wallaroo/ghcr.io/wallaroolabs/fitzroy-mini:v2025.1.0-6245</pre></td></tr></table>\n",
       "                      <br />\n",
       "                      <i>\n",
       "                          Note: Please set the <code>PERSISTENT_VOLUME_DIR</code>, <code>EDGE_PORT</code>, <code>OCI_USERNAME</code>, and <code>OCI_PASSWORD</code> environment variables.\n",
       "                      </i>\n",
       "                  </td>\n",
       "              </tr>\n",
       "              <tr>\n",
       "                  <td>Helm Install Command</td>\n",
       "                  <td>\n",
       "                      <table><tr><td style=\"text-align: left\"><b>Edge</b></td><td style=\"text-align: left\"><b>Command</b></td></tr><tr><td>houseprice-edge-inline-demo</td><td>\n",
       "<pre style=\"text-align: left\">helm upgrade $HELM_INSTALL_NAME \\\n",
       "    oci://us-central1-docker.pkg.dev/wallaroo-dev-253816/uat/charts/edge-inline-replacement-demon \\\n",
       "    --namespace $HELM_INSTALL_NAMESPACE \\\n",
       "    --version 0.0.1-f75a1a83-a783-48b8-9b0f-151dbd7564a7 \\\n",
       "    --set ociRegistry.username=$OCI_USERNAME \\\n",
       "    --set ociRegistry.password=$OCI_PASSWORD \\\n",
       "    --set edgeBundle=ZXhwb3J0IEJVTkRMRV9WRVJTSU9OPTEKZXhwb3J0IENPTkZJR19DUFVTPTQKZXhwb3J0IEVER0VfTkFNRT1ob3VzZXByaWNlLWVkZ2UtaW5saW5lLWRlbW8KZXhwb3J0IE9QU0NFTlRFUl9IT1NUPWF1dG9zY2FsZS11YXQtZ2NwLndhbGxhcm9vLmRldgpleHBvcnQgUElQRUxJTkVfVVJMPXVzLWNlbnRyYWwxLWRvY2tlci5wa2cuZGV2L3dhbGxhcm9vLWRldi0yNTM4MTYvdWF0L3BpcGVsaW5lcy9lZGdlLWlubGluZS1yZXBsYWNlbWVudC1kZW1vbjpmNzVhMWE4My1hNzgzLTQ4YjgtOWIwZi0xNTFkYmQ3NTY0YTcKZXhwb3J0IEpPSU5fVE9LRU49b21pdHRlZF9mb3JfcmVwbGFjZQpleHBvcnQgT0NJX1JFR0lTVFJZPXVzLWNlbnRyYWwxLWRvY2tlci5wa2cuZGV2</pre></td></tr></table>\n",
       "                      <br />\n",
       "                      <i>\n",
       "                          Note: Please set the <code>HELM_INSTALL_NAME</code>, <code>HELM_INSTALL_NAMESPACE</code>,\n",
       "                          <code>OCI_USERNAME</code>, and <code>OCI_PASSWORD</code> environment variables.\n",
       "                      </i>\n",
       "                  </td>\n",
       "              </tr>\n",
       "              \n",
       "          </table>\n",
       "        "
      ],
      "text/plain": [
       "PipelinePublish(created_at=datetime.datetime(2025, 7, 11, 19, 23, 33, 893928, tzinfo=tzutc()), docker_run_variables={'PIPELINE_URL': 'us-central1-docker.pkg.dev/wallaroo-dev-253816/uat/pipelines/edge-inline-replacement-demon:f75a1a83-a783-48b8-9b0f-151dbd7564a7'}, engine_config={'engine': {'resources': {'limits': {'cpu': 4.0, 'memory': '3Gi'}, 'requests': {'cpu': 4.0, 'memory': '3Gi'}, 'accel': 'none', 'arch': 'x86', 'gpu': False}}, 'engineAux': {'autoscale': {'type': 'none', 'cpu_utilization': 50.0}}}, id=86, pipeline_name='edge-inline-replacement-demon', pipeline_version_id=1871, replaces=[{'id': 85, 'pipeline_name': 'edge-inline-replacement-demon', 'pipeline_version_name': 'f028d883-6216-4c0e-baeb-7dc646fa2437'}], status='Published', updated_at=datetime.datetime(2025, 7, 11, 19, 23, 33, 893928, tzinfo=tzutc()), user_images=[], created_by='7d603858-88e0-472e-8f71-e41094afd7ec', created_on_version='2025.1.2', edge_bundles={'houseprice-edge-inline-demo': 'ZXhwb3J0IEJVTkRMRV9WRVJTSU9OPTEKZXhwb3J0IENPTkZJR19DUFVTPTQKZXhwb3J0IEVER0VfTkFNRT1ob3VzZXByaWNlLWVkZ2UtaW5saW5lLWRlbW8KZXhwb3J0IE9QU0NFTlRFUl9IT1NUPWF1dG9zY2FsZS11YXQtZ2NwLndhbGxhcm9vLmRldgpleHBvcnQgUElQRUxJTkVfVVJMPXVzLWNlbnRyYWwxLWRvY2tlci5wa2cuZGV2L3dhbGxhcm9vLWRldi0yNTM4MTYvdWF0L3BpcGVsaW5lcy9lZGdlLWlubGluZS1yZXBsYWNlbWVudC1kZW1vbjpmNzVhMWE4My1hNzgzLTQ4YjgtOWIwZi0xNTFkYmQ3NTY0YTcKZXhwb3J0IEpPSU5fVE9LRU49b21pdHRlZF9mb3JfcmVwbGFjZQpleHBvcnQgT0NJX1JFR0lTVFJZPXVzLWNlbnRyYWwxLWRvY2tlci5wa2cuZGV2'}, engine_url='us-central1-docker.pkg.dev/wallaroo-dev-253816/uat/engines/proxy/wallaroo/ghcr.io/wallaroolabs/fitzroy-mini:v2025.1.0-6245', error=None, helm={'reference': 'us-central1-docker.pkg.dev/wallaroo-dev-253816/uat/charts@sha256:811576242dbb252f462e591d2150a297f725bb6b88681bdb2c2c516676cc10f5', 'values': {}, 'chart': 'us-central1-docker.pkg.dev/wallaroo-dev-253816/uat/charts/edge-inline-replacement-demon', 'version': '0.0.1-f75a1a83-a783-48b8-9b0f-151dbd7564a7'}, pipeline_url='us-central1-docker.pkg.dev/wallaroo-dev-253816/uat/pipelines/edge-inline-replacement-demon:f75a1a83-a783-48b8-9b0f-151dbd7564a7', pipeline_version_name='f75a1a83-a783-48b8-9b0f-151dbd7564a7', workspace_id=1450, workspace_name='in-line-edge-replacement-demo', additional_properties={})"
      ]
     },
     "execution_count": 15,
     "metadata": {},
     "output_type": "execute_result"
    }
   ],
   "source": [
    "new_pub = mainpipeline.publish(replaces=[pub])\n",
    "new_pub"
   ]
  },
  {
   "cell_type": "markdown",
   "metadata": {},
   "source": [
    "Note that in the `Replaces` section, updates are given for each edge location.  On the edge device, we deploy the new pipeline publish either by the provided **Docker Run Command** or **Helm Install Command**.  Note that the **Helm Install Command** uses `helm upgrade` rather than `helm install` to create a new revision.  The pipeline steps and models will be changed at the model edge location.\n",
    "\n",
    "Before we do so, we will verify the edge locations associated for our pipelines.  `mainpipeline` will still have its edges, since we only updated the **pipeline version**, while `new_pipeline` has no edges yet."
   ]
  },
  {
   "cell_type": "markdown",
   "metadata": {},
   "source": [
    "#### Inference Requests from Replaced Pipeline Version Deployment Examples\n",
    "\n",
    "We deploy the in-line model update in our new publish above for the edge location, then perform the same checks of the models, pipeline, then a sample inference using the same inference input data as before.\n",
    "\n",
    "We will see the new model name and model version used."
   ]
  },
  {
   "cell_type": "code",
   "execution_count": 18,
   "metadata": {},
   "outputs": [
    {
     "name": "stdout",
     "output_type": "stream",
     "text": [
      "{\"models\":[{\"sha\":\"31e92d6ccb27b041a324a7ac22cf95d9d6cc3aa7e8263a229f7c4aec4938657c\",\"name\":\"xgb-house-price-estimator\",\"version\":\"a86668be-03ed-47f8-8f49-9e31fe502566\",\"status\":\"Running\"}]}"
     ]
    }
   ],
   "source": [
    "!curl testboy.local:8080/models"
   ]
  },
  {
   "cell_type": "code",
   "execution_count": 19,
   "metadata": {},
   "outputs": [
    {
     "name": "stdout",
     "output_type": "stream",
     "text": [
      "{\"pipelines\":[{\"id\":\"edge-inline-replacement-demon\",\"version\":\"c6a1e945-7de0-4f2c-addb-4f4746114a86\",\"status\":\"Running\"}]}"
     ]
    }
   ],
   "source": [
    "!curl testboy.local:8080/pipelines"
   ]
  },
  {
   "cell_type": "markdown",
   "metadata": {},
   "source": [
    "We now perform the same inference request on the edge location deployment, and show the results match that as the pipeline with the new model."
   ]
  },
  {
   "cell_type": "code",
   "execution_count": 20,
   "metadata": {},
   "outputs": [
    {
     "name": "stdout",
     "output_type": "stream",
     "text": [
      "  % Total    % Received % Xferd  Average Speed   Time    Time     Time  Current\n",
      "                                 Dload  Upload   Total   Spent    Left  Speed\n",
      "100   624  100   496  100   128  30468   7862 --:--:-- --:--:-- --:--:-- 39000\n"
     ]
    },
    {
     "data": {
      "text/html": [
       "<div>\n",
       "<style scoped>\n",
       "    .dataframe tbody tr th:only-of-type {\n",
       "        vertical-align: middle;\n",
       "    }\n",
       "\n",
       "    .dataframe tbody tr th {\n",
       "        vertical-align: top;\n",
       "    }\n",
       "\n",
       "    .dataframe thead th {\n",
       "        text-align: right;\n",
       "    }\n",
       "</style>\n",
       "<table border=\"1\" class=\"dataframe\">\n",
       "  <thead>\n",
       "    <tr style=\"text-align: right;\">\n",
       "      <th></th>\n",
       "      <th>time</th>\n",
       "      <th>out</th>\n",
       "      <th>metadata</th>\n",
       "    </tr>\n",
       "  </thead>\n",
       "  <tbody>\n",
       "    <tr>\n",
       "      <th>0</th>\n",
       "      <td>1713800558148</td>\n",
       "      <td>{'variable': [659806.0]}</td>\n",
       "      <td>{'last_model': '{\"model_name\":\"xgb-house-price-estimator\",\"model_sha\":\"31e92d6ccb27b041a324a7ac22cf95d9d6cc3aa7e8263a229f7c4aec4938657c\"}', 'pipeline_version': 'c6a1e945-7de0-4f2c-addb-4f4746114a86', 'elapsed': [359571, 613994], 'dropped': [], 'partition': 'houseprice-edge-inline-demonstration'}</td>\n",
       "    </tr>\n",
       "  </tbody>\n",
       "</table>\n",
       "</div>"
      ],
      "text/plain": [
       "            time                       out  \\\n",
       "0  1713800558148  {'variable': [659806.0]}   \n",
       "\n",
       "                                                                                                                                                                                                                                                                                                   metadata  \n",
       "0  {'last_model': '{\"model_name\":\"xgb-house-price-estimator\",\"model_sha\":\"31e92d6ccb27b041a324a7ac22cf95d9d6cc3aa7e8263a229f7c4aec4938657c\"}', 'pipeline_version': 'c6a1e945-7de0-4f2c-addb-4f4746114a86', 'elapsed': [359571, 613994], 'dropped': [], 'partition': 'houseprice-edge-inline-demonstration'}  "
      ]
     },
     "execution_count": 20,
     "metadata": {},
     "output_type": "execute_result"
    }
   ],
   "source": [
    "import json\n",
    "\n",
    "df = pd.DataFrame.from_records({\"tensor\": [[4.0, \n",
    "                                            2.5, \n",
    "                                            2900.0, \n",
    "                                            5505.0, \n",
    "                                            2.0, \n",
    "                                            0.0, \n",
    "                                            0.0, \n",
    "                                            3.0, \n",
    "                                            8.0, \n",
    "                                            2900.0, \n",
    "                                            0.0, \n",
    "                                            47.6063, \n",
    "                                            -122.02, \n",
    "                                            2970.0, \n",
    "                                            5251.0, \n",
    "                                            12.0, \n",
    "                                            0.0, \n",
    "                                            0.0]]})\n",
    "\n",
    "data = df.to_dict(orient=\"records\")\n",
    "\n",
    "!curl -X POST testboy.local:8080/infer \\\n",
    "    -H \"Content-Type: Content-Type: application/json; format=pandas-records\" \\\n",
    "    --data '{json.dumps(data)}' > inferenceoutput.df.json\n",
    "\n",
    "# get the dataframe from what we just did\n",
    "\n",
    "df_result = pd.read_json('./inferenceoutput.df.json', orient=\"records\")\n",
    "df_result.loc[:, ['time', 'out', 'metadata']]"
   ]
  },
  {
   "cell_type": "markdown",
   "metadata": {},
   "source": [
    "### How to Replace a Pipeline Publish from a New Pipeline\n",
    "\n",
    "For this example, we will create a separate pipeline than the previous one with its own model.  This model will still accept the same inputs and output fields as the models previously deployed.  This is not a requirement - completely different models with different inputs and output schemas can be used; this example is used for simplicity.\n",
    "\n",
    "For this set of examples, we will upload the third model, `./models/gbr_model.onnx` and create a new pipeline named `new-edge-inline-replacement`.  This model is added as a pipeline step and deployed."
   ]
  },
  {
   "cell_type": "code",
   "execution_count": 16,
   "metadata": {},
   "outputs": [
    {
     "name": "stdout",
     "output_type": "stream",
     "text": [
      "Waiting for deployment - this will take up to 45s ............ ok\n"
     ]
    },
    {
     "data": {
      "text/plain": [
       "[{'ModelInference': {'models': [{'name': 'gbr-house-price-estimator', 'version': '90877932-73b5-4fd8-aa16-ed9c56e68a93', 'sha': 'ed6065a79d841f7e96307bb20d5ef22840f15da0b587efb51425c7ad60589d6a'}]}}]"
      ]
     },
     "execution_count": 16,
     "metadata": {},
     "output_type": "execute_result"
    }
   ],
   "source": [
    "housing_model_challenger02 = (wl.upload_model(\"gbr-house-price-estimator\", \n",
    "                                        './models/gbr_model.onnx', \n",
    "                                        framework=Framework.ONNX)\n",
    "                                        .configure(tensor_fields=[\"tensor\"])\n",
    "                        )\n",
    "\n",
    "new_pipeline = wl.build_pipeline(\"new-edge-inline-replacement\")\n",
    "\n",
    "# undeploy if used before\n",
    "new_pipeline.undeploy()\n",
    "# clear the steps if used before\n",
    "new_pipeline.clear()\n",
    "\n",
    "new_pipeline.add_model_step(housing_model_challenger02)\n",
    "\n",
    "#minimum deployment config\n",
    "deploy_config = wallaroo.DeploymentConfigBuilder().replica_count(1).cpus(0.5).memory(\"1Gi\").build()\n",
    "\n",
    "new_pipeline.deploy(deployment_config = deploy_config)\n",
    "new_pipeline.steps()"
   ]
  },
  {
   "cell_type": "code",
   "execution_count": 17,
   "metadata": {},
   "outputs": [
    {
     "data": {
      "text/html": [
       "<div>\n",
       "<style scoped>\n",
       "    .dataframe tbody tr th:only-of-type {\n",
       "        vertical-align: middle;\n",
       "    }\n",
       "\n",
       "    .dataframe tbody tr th {\n",
       "        vertical-align: top;\n",
       "    }\n",
       "\n",
       "    .dataframe thead th {\n",
       "        text-align: right;\n",
       "    }\n",
       "</style>\n",
       "<table border=\"1\" class=\"dataframe\">\n",
       "  <thead>\n",
       "    <tr style=\"text-align: right;\">\n",
       "      <th></th>\n",
       "      <th>time</th>\n",
       "      <th>in.tensor</th>\n",
       "      <th>out.variable</th>\n",
       "      <th>anomaly.count</th>\n",
       "    </tr>\n",
       "  </thead>\n",
       "  <tbody>\n",
       "    <tr>\n",
       "      <th>0</th>\n",
       "      <td>2025-07-11 19:24:03.874</td>\n",
       "      <td>[4.0, 2.5, 2900.0, 5505.0, 2.0, 0.0, 0.0, 3.0, 8.0, 2900.0, 0.0, 47.6063, -122.02, 2970.0, 5251.0, 12.0, 0.0, 0.0]</td>\n",
       "      <td>[704901.9]</td>\n",
       "      <td>0</td>\n",
       "    </tr>\n",
       "  </tbody>\n",
       "</table>\n",
       "</div>"
      ],
      "text/plain": [
       "                     time  \\\n",
       "0 2025-07-11 19:24:03.874   \n",
       "\n",
       "                                                                                                            in.tensor  \\\n",
       "0  [4.0, 2.5, 2900.0, 5505.0, 2.0, 0.0, 0.0, 3.0, 8.0, 2900.0, 0.0, 47.6063, -122.02, 2970.0, 5251.0, 12.0, 0.0, 0.0]   \n",
       "\n",
       "  out.variable  anomaly.count  \n",
       "0   [704901.9]              0  "
      ]
     },
     "metadata": {},
     "output_type": "display_data"
    }
   ],
   "source": [
    "normal_input = pd.DataFrame.from_records({\"tensor\": [[4.0, \n",
    "                                                      2.5, \n",
    "                                                      2900.0, \n",
    "                                                      5505.0, \n",
    "                                                      2.0, \n",
    "                                                      0.0, \n",
    "                                                      0.0, \n",
    "                                                      3.0, \n",
    "                                                      8.0, \n",
    "                                                      2900.0, \n",
    "                                                      0.0, \n",
    "                                                      47.6063, \n",
    "                                                      -122.02, \n",
    "                                                      2970.0, \n",
    "                                                      5251.0, \n",
    "                                                      12.0, \n",
    "                                                      0.0, \n",
    "                                                      0.0]]})\n",
    "result = new_pipeline.infer(normal_input)\n",
    "display(result)"
   ]
  },
  {
   "cell_type": "markdown",
   "metadata": {},
   "source": [
    "#### Replace Pipeline Publish with Publish from Different Pipepline\n",
    "\n",
    "We will now publish the new pipeline, and replace the previous edge location publish from our original pipeline.  The last publish is labeled `new_pub` is labeled `new_pipeline_pub`."
   ]
  },
  {
   "cell_type": "code",
   "execution_count": 18,
   "metadata": {},
   "outputs": [
    {
     "name": "stdout",
     "output_type": "stream",
     "text": [
      "Waiting for pipeline publish... It may take up to 600 sec.\n",
      "... Published.blishing.\n"
     ]
    },
    {
     "data": {
      "text/html": [
       "\n",
       "          <table>\n",
       "              <tr><td>ID</td><td>87</td></tr>\n",
       "              <tr><td>Pipeline Name</td><td>new-edge-inline-replacement</td></tr>\n",
       "              <tr><td>Pipeline Version</td><td>5faddaaa-a642-4992-837b-83189b996a7c</td></tr>\n",
       "              <tr><td>Status</td><td>Published</td></tr>\n",
       "              <tr><td>Workspace Id</td><td>1450</td></tr>\n",
       "              <tr><td>Workspace Name</td><td>in-line-edge-replacement-demo</td></tr>\n",
       "              <tr><td>Edges</td><td>houseprice-edge-inline-demo</td></tr>\n",
       "              <tr><td>Engine URL</td><td><a href='https://us-central1-docker.pkg.dev/wallaroo-dev-253816/uat/engines/proxy/wallaroo/ghcr.io/wallaroolabs/fitzroy-mini:v2025.1.0-6245'>us-central1-docker.pkg.dev/wallaroo-dev-253816/uat/engines/proxy/wallaroo/ghcr.io/wallaroolabs/fitzroy-mini:v2025.1.0-6245</a></td></tr>\n",
       "              <tr><td>Pipeline URL</td><td><a href='https://us-central1-docker.pkg.dev/wallaroo-dev-253816/uat/pipelines/new-edge-inline-replacement:5faddaaa-a642-4992-837b-83189b996a7c'>us-central1-docker.pkg.dev/wallaroo-dev-253816/uat/pipelines/new-edge-inline-replacement:5faddaaa-a642-4992-837b-83189b996a7c</a></td></tr>\n",
       "              <tr><td>Helm Chart URL</td><td>oci://<a href='https://us-central1-docker.pkg.dev/wallaroo-dev-253816/uat/charts/new-edge-inline-replacement'>us-central1-docker.pkg.dev/wallaroo-dev-253816/uat/charts/new-edge-inline-replacement</a></td></tr>\n",
       "              <tr><td>Helm Chart Reference</td><td>us-central1-docker.pkg.dev/wallaroo-dev-253816/uat/charts@sha256:100156db8f3cb97b869fa4aead917ddbd244975d964f59c0d57af7f9ce9ca045</td></tr>\n",
       "              <tr><td>Helm Chart Version</td><td>0.0.1-5faddaaa-a642-4992-837b-83189b996a7c</td></tr>\n",
       "              <tr><td>Engine Config</td><td>{'engine': {'resources': {'limits': {'cpu': 4.0, 'memory': '3Gi'}, 'requests': {'cpu': 4.0, 'memory': '3Gi'}, 'accel': 'none', 'arch': 'x86', 'gpu': False}}, 'engineAux': {'autoscale': {'type': 'none', 'cpu_utilization': 50.0}}}</td></tr>\n",
       "              <tr><td>User Images</td><td>[]</td></tr>\n",
       "              <tr><td>Created By</td><td>john.hummel@wallaroo.ai</td></tr>\n",
       "              <tr><td>Created At</td><td>2025-07-11 19:24:04.135581+00:00</td></tr>\n",
       "              <tr><td>Updated At</td><td>2025-07-11 19:24:04.135581+00:00</td></tr>\n",
       "              <tr><td>Replaces</td><td>Publish 86, Pipeline \"edge-inline-replacement-demon\", Version f75a1a83-a783-48b8-9b0f-151dbd7564a7</td></tr>\n",
       "              <tr>\n",
       "                  <td>Docker Run Command</td>\n",
       "                  <td>\n",
       "                      <table><tr><td style=\"text-align: left\"><b>Edge</b></td><td style=\"text-align: left\"><b>Command</b></td></tr><tr><td>houseprice-edge-inline-demo</td><td>\n",
       "<pre style=\"text-align: left\">docker run -v $PERSISTENT_VOLUME_DIR:/persist \\\n",
       "    -p $EDGE_PORT:8080 \\\n",
       "    -e OCI_USERNAME=$OCI_USERNAME \\\n",
       "    -e OCI_PASSWORD=$OCI_PASSWORD \\\n",
       "    -e PIPELINE_URL=us-central1-docker.pkg.dev/wallaroo-dev-253816/uat/pipelines/new-edge-inline-replacement:5faddaaa-a642-4992-837b-83189b996a7c\\\n",
       "    -e EDGE_BUNDLE=ZXhwb3J0IEJVTkRMRV9WRVJTSU9OPTEKZXhwb3J0IENPTkZJR19DUFVTPTQKZXhwb3J0IEVER0VfTkFNRT1ob3VzZXByaWNlLWVkZ2UtaW5saW5lLWRlbW8KZXhwb3J0IE9QU0NFTlRFUl9IT1NUPWF1dG9zY2FsZS11YXQtZ2NwLndhbGxhcm9vLmRldgpleHBvcnQgUElQRUxJTkVfVVJMPXVzLWNlbnRyYWwxLWRvY2tlci5wa2cuZGV2L3dhbGxhcm9vLWRldi0yNTM4MTYvdWF0L3BpcGVsaW5lcy9uZXctZWRnZS1pbmxpbmUtcmVwbGFjZW1lbnQ6NWZhZGRhYWEtYTY0Mi00OTkyLTgzN2ItODMxODliOTk2YTdjCmV4cG9ydCBKT0lOX1RPS0VOPW9taXR0ZWRfZm9yX3JlcGxhY2UKZXhwb3J0IE9DSV9SRUdJU1RSWT11cy1jZW50cmFsMS1kb2NrZXIucGtnLmRldg== \\\n",
       "    --cpus=4.0 --memory=3g \\\n",
       "    us-central1-docker.pkg.dev/wallaroo-dev-253816/uat/engines/proxy/wallaroo/ghcr.io/wallaroolabs/fitzroy-mini:v2025.1.0-6245</pre></td></tr></table>\n",
       "                      <br />\n",
       "                      <i>\n",
       "                          Note: Please set the <code>PERSISTENT_VOLUME_DIR</code>, <code>EDGE_PORT</code>, <code>OCI_USERNAME</code>, and <code>OCI_PASSWORD</code> environment variables.\n",
       "                      </i>\n",
       "                  </td>\n",
       "              </tr>\n",
       "              <tr>\n",
       "                  <td>Podman Run Command</td>\n",
       "                  <td>\n",
       "                      <table><tr><td style=\"text-align: left\"><b>Edge</b></td><td style=\"text-align: left\"><b>Command</b></td></tr><tr><td>houseprice-edge-inline-demo</td><td>\n",
       "<pre style=\"text-align: left\">podman run -v $PERSISTENT_VOLUME_DIR:/persist \\\n",
       "    -p $EDGE_PORT:8080 \\\n",
       "    -e OCI_USERNAME=$OCI_USERNAME \\\n",
       "    -e OCI_PASSWORD=$OCI_PASSWORD \\\n",
       "    -e PIPELINE_URL=us-central1-docker.pkg.dev/wallaroo-dev-253816/uat/pipelines/new-edge-inline-replacement:5faddaaa-a642-4992-837b-83189b996a7c\\\n",
       "    -e EDGE_BUNDLE=ZXhwb3J0IEJVTkRMRV9WRVJTSU9OPTEKZXhwb3J0IENPTkZJR19DUFVTPTQKZXhwb3J0IEVER0VfTkFNRT1ob3VzZXByaWNlLWVkZ2UtaW5saW5lLWRlbW8KZXhwb3J0IE9QU0NFTlRFUl9IT1NUPWF1dG9zY2FsZS11YXQtZ2NwLndhbGxhcm9vLmRldgpleHBvcnQgUElQRUxJTkVfVVJMPXVzLWNlbnRyYWwxLWRvY2tlci5wa2cuZGV2L3dhbGxhcm9vLWRldi0yNTM4MTYvdWF0L3BpcGVsaW5lcy9uZXctZWRnZS1pbmxpbmUtcmVwbGFjZW1lbnQ6NWZhZGRhYWEtYTY0Mi00OTkyLTgzN2ItODMxODliOTk2YTdjCmV4cG9ydCBKT0lOX1RPS0VOPW9taXR0ZWRfZm9yX3JlcGxhY2UKZXhwb3J0IE9DSV9SRUdJU1RSWT11cy1jZW50cmFsMS1kb2NrZXIucGtnLmRldg== \\\n",
       "    --cpus=4.0 --memory=3g \\\n",
       "    us-central1-docker.pkg.dev/wallaroo-dev-253816/uat/engines/proxy/wallaroo/ghcr.io/wallaroolabs/fitzroy-mini:v2025.1.0-6245</pre></td></tr></table>\n",
       "                      <br />\n",
       "                      <i>\n",
       "                          Note: Please set the <code>PERSISTENT_VOLUME_DIR</code>, <code>EDGE_PORT</code>, <code>OCI_USERNAME</code>, and <code>OCI_PASSWORD</code> environment variables.\n",
       "                      </i>\n",
       "                  </td>\n",
       "              </tr>\n",
       "              <tr>\n",
       "                  <td>Helm Install Command</td>\n",
       "                  <td>\n",
       "                      <table><tr><td style=\"text-align: left\"><b>Edge</b></td><td style=\"text-align: left\"><b>Command</b></td></tr><tr><td>houseprice-edge-inline-demo</td><td>\n",
       "<pre style=\"text-align: left\">helm upgrade $HELM_INSTALL_NAME \\\n",
       "    oci://us-central1-docker.pkg.dev/wallaroo-dev-253816/uat/charts/new-edge-inline-replacement \\\n",
       "    --namespace $HELM_INSTALL_NAMESPACE \\\n",
       "    --version 0.0.1-5faddaaa-a642-4992-837b-83189b996a7c \\\n",
       "    --set ociRegistry.username=$OCI_USERNAME \\\n",
       "    --set ociRegistry.password=$OCI_PASSWORD \\\n",
       "    --set edgeBundle=ZXhwb3J0IEJVTkRMRV9WRVJTSU9OPTEKZXhwb3J0IENPTkZJR19DUFVTPTQKZXhwb3J0IEVER0VfTkFNRT1ob3VzZXByaWNlLWVkZ2UtaW5saW5lLWRlbW8KZXhwb3J0IE9QU0NFTlRFUl9IT1NUPWF1dG9zY2FsZS11YXQtZ2NwLndhbGxhcm9vLmRldgpleHBvcnQgUElQRUxJTkVfVVJMPXVzLWNlbnRyYWwxLWRvY2tlci5wa2cuZGV2L3dhbGxhcm9vLWRldi0yNTM4MTYvdWF0L3BpcGVsaW5lcy9uZXctZWRnZS1pbmxpbmUtcmVwbGFjZW1lbnQ6NWZhZGRhYWEtYTY0Mi00OTkyLTgzN2ItODMxODliOTk2YTdjCmV4cG9ydCBKT0lOX1RPS0VOPW9taXR0ZWRfZm9yX3JlcGxhY2UKZXhwb3J0IE9DSV9SRUdJU1RSWT11cy1jZW50cmFsMS1kb2NrZXIucGtnLmRldg==</pre></td></tr></table>\n",
       "                      <br />\n",
       "                      <i>\n",
       "                          Note: Please set the <code>HELM_INSTALL_NAME</code>, <code>HELM_INSTALL_NAMESPACE</code>,\n",
       "                          <code>OCI_USERNAME</code>, and <code>OCI_PASSWORD</code> environment variables.\n",
       "                      </i>\n",
       "                  </td>\n",
       "              </tr>\n",
       "              \n",
       "          </table>\n",
       "        "
      ],
      "text/plain": [
       "PipelinePublish(created_at=datetime.datetime(2025, 7, 11, 19, 24, 4, 135581, tzinfo=tzutc()), docker_run_variables={'PIPELINE_URL': 'us-central1-docker.pkg.dev/wallaroo-dev-253816/uat/pipelines/new-edge-inline-replacement:5faddaaa-a642-4992-837b-83189b996a7c'}, engine_config={'engine': {'resources': {'limits': {'cpu': 4.0, 'memory': '3Gi'}, 'requests': {'cpu': 4.0, 'memory': '3Gi'}, 'accel': 'none', 'arch': 'x86', 'gpu': False}}, 'engineAux': {'autoscale': {'type': 'none', 'cpu_utilization': 50.0}}}, id=87, pipeline_name='new-edge-inline-replacement', pipeline_version_id=1874, replaces=[{'id': 86, 'pipeline_name': 'edge-inline-replacement-demon', 'pipeline_version_name': 'f75a1a83-a783-48b8-9b0f-151dbd7564a7'}], status='Published', updated_at=datetime.datetime(2025, 7, 11, 19, 24, 4, 135581, tzinfo=tzutc()), user_images=[], created_by='7d603858-88e0-472e-8f71-e41094afd7ec', created_on_version='2025.1.2', edge_bundles={'houseprice-edge-inline-demo': 'ZXhwb3J0IEJVTkRMRV9WRVJTSU9OPTEKZXhwb3J0IENPTkZJR19DUFVTPTQKZXhwb3J0IEVER0VfTkFNRT1ob3VzZXByaWNlLWVkZ2UtaW5saW5lLWRlbW8KZXhwb3J0IE9QU0NFTlRFUl9IT1NUPWF1dG9zY2FsZS11YXQtZ2NwLndhbGxhcm9vLmRldgpleHBvcnQgUElQRUxJTkVfVVJMPXVzLWNlbnRyYWwxLWRvY2tlci5wa2cuZGV2L3dhbGxhcm9vLWRldi0yNTM4MTYvdWF0L3BpcGVsaW5lcy9uZXctZWRnZS1pbmxpbmUtcmVwbGFjZW1lbnQ6NWZhZGRhYWEtYTY0Mi00OTkyLTgzN2ItODMxODliOTk2YTdjCmV4cG9ydCBKT0lOX1RPS0VOPW9taXR0ZWRfZm9yX3JlcGxhY2UKZXhwb3J0IE9DSV9SRUdJU1RSWT11cy1jZW50cmFsMS1kb2NrZXIucGtnLmRldg=='}, engine_url='us-central1-docker.pkg.dev/wallaroo-dev-253816/uat/engines/proxy/wallaroo/ghcr.io/wallaroolabs/fitzroy-mini:v2025.1.0-6245', error=None, helm={'reference': 'us-central1-docker.pkg.dev/wallaroo-dev-253816/uat/charts@sha256:100156db8f3cb97b869fa4aead917ddbd244975d964f59c0d57af7f9ce9ca045', 'values': {}, 'chart': 'us-central1-docker.pkg.dev/wallaroo-dev-253816/uat/charts/new-edge-inline-replacement', 'version': '0.0.1-5faddaaa-a642-4992-837b-83189b996a7c'}, pipeline_url='us-central1-docker.pkg.dev/wallaroo-dev-253816/uat/pipelines/new-edge-inline-replacement:5faddaaa-a642-4992-837b-83189b996a7c', pipeline_version_name='5faddaaa-a642-4992-837b-83189b996a7c', workspace_id=1450, workspace_name='in-line-edge-replacement-demo', additional_properties={})"
      ]
     },
     "execution_count": 18,
     "metadata": {},
     "output_type": "execute_result"
    }
   ],
   "source": [
    "new_pipeline_pub = new_pipeline.publish(replaces=[new_pub])\n",
    "new_pipeline_pub"
   ]
  },
  {
   "cell_type": "markdown",
   "metadata": {},
   "source": [
    "Once complete, we update the edge deployment with the new replacement `docker run` or `helm` based deployment commands from the configuration.\n",
    "\n",
    "With the edge location replacement complete with the new pipeline, we list the edge locations from the original pipeline and the new one to show the edge location is transferred to the new pipeline."
   ]
  },
  {
   "cell_type": "code",
   "execution_count": 19,
   "metadata": {},
   "outputs": [
    {
     "data": {
      "text/html": [
       "<table><tr><th>ID</th><th>Name</th><th>Publish ID</th><th>Created At</th><th>Tags</th><th>CPUs</th><th>Memory</th><th>SPIFFE ID</th></tr><tr>\n",
       "                <td>ca6018e1-2239-4511-958f-2aadb88cc92f</td>\n",
       "                <td>houseprice-edge-inline-demonstration</td>\n",
       "                <td>19</td>\n",
       "                <td>None</td>\n",
       "                <td>[]</td>\n",
       "                <td>4.0</td>\n",
       "                <td>3Gi</td>\n",
       "                <td>wallaroo.ai/ns/deployments/edge/ca6018e1-2239-4511-958f-2aadb88cc92f</td>\n",
       "            </tr><tr>\n",
       "                <td>51fe06d6-d194-410c-ade5-8d9a60bd3da6</td>\n",
       "                <td>my-edge-demo</td>\n",
       "                <td>20</td>\n",
       "                <td>None</td>\n",
       "                <td>[]</td>\n",
       "                <td>4.0</td>\n",
       "                <td>3Gi</td>\n",
       "                <td>wallaroo.ai/ns/deployments/edge/51fe06d6-d194-410c-ade5-8d9a60bd3da6</td>\n",
       "            </tr><tr>\n",
       "                <td>20db9fdb-2dde-4a18-bb75-2d62343d0a28</td>\n",
       "                <td>my-edge-demo-1</td>\n",
       "                <td>21</td>\n",
       "                <td>None</td>\n",
       "                <td>[]</td>\n",
       "                <td>4.0</td>\n",
       "                <td>3Gi</td>\n",
       "                <td>wallaroo.ai/ns/deployments/edge/20db9fdb-2dde-4a18-bb75-2d62343d0a28</td>\n",
       "            </tr><tr>\n",
       "                <td>57a1dc90-4baf-4548-ae33-e3186b5672ea</td>\n",
       "                <td>my-edge-demo-2</td>\n",
       "                <td>22</td>\n",
       "                <td>None</td>\n",
       "                <td>[]</td>\n",
       "                <td>4.0</td>\n",
       "                <td>3Gi</td>\n",
       "                <td>wallaroo.ai/ns/deployments/edge/57a1dc90-4baf-4548-ae33-e3186b5672ea</td>\n",
       "            </tr></table>"
      ],
      "text/plain": [
       "[Edge(cpus=4.0, id='ca6018e1-2239-4511-958f-2aadb88cc92f', memory='3Gi', name='houseprice-edge-inline-demonstration', tags=[], created_at=None, created_on_version='2024.4.0', should_run_publish=19, spiffe_id='wallaroo.ai/ns/deployments/edge/ca6018e1-2239-4511-958f-2aadb88cc92f', additional_properties={}),\n",
       " Edge(cpus=4.0, id='51fe06d6-d194-410c-ade5-8d9a60bd3da6', memory='3Gi', name='my-edge-demo', tags=[], created_at=None, created_on_version='2024.4.0', should_run_publish=20, spiffe_id='wallaroo.ai/ns/deployments/edge/51fe06d6-d194-410c-ade5-8d9a60bd3da6', additional_properties={}),\n",
       " Edge(cpus=4.0, id='20db9fdb-2dde-4a18-bb75-2d62343d0a28', memory='3Gi', name='my-edge-demo-1', tags=[], created_at=None, created_on_version='2024.4.0', should_run_publish=21, spiffe_id='wallaroo.ai/ns/deployments/edge/20db9fdb-2dde-4a18-bb75-2d62343d0a28', additional_properties={}),\n",
       " Edge(cpus=4.0, id='57a1dc90-4baf-4548-ae33-e3186b5672ea', memory='3Gi', name='my-edge-demo-2', tags=[], created_at=None, created_on_version='2024.4.0', should_run_publish=22, spiffe_id='wallaroo.ai/ns/deployments/edge/57a1dc90-4baf-4548-ae33-e3186b5672ea', additional_properties={})]"
      ]
     },
     "metadata": {},
     "output_type": "display_data"
    }
   ],
   "source": [
    "display(mainpipeline.list_edges())"
   ]
  },
  {
   "cell_type": "code",
   "execution_count": 20,
   "metadata": {},
   "outputs": [
    {
     "data": {
      "text/html": [
       "<table><tr><th>ID</th><th>Name</th><th>Publish ID</th><th>Created At</th><th>Tags</th><th>CPUs</th><th>Memory</th><th>SPIFFE ID</th></tr><tr>\n",
       "                <td>619aefe2-5c23-48e1-a256-fc807d452d0f</td>\n",
       "                <td>houseprice-edge-inline-demo</td>\n",
       "                <td>87</td>\n",
       "                <td>2025-07-11T19:22:21.621626+00:00</td>\n",
       "                <td>[]</td>\n",
       "                <td>4.0</td>\n",
       "                <td>3Gi</td>\n",
       "                <td>wallaroo.ai/ns/deployments/edge/619aefe2-5c23-48e1-a256-fc807d452d0f</td>\n",
       "            </tr></table>"
      ],
      "text/plain": [
       "[Edge(cpus=4.0, id='619aefe2-5c23-48e1-a256-fc807d452d0f', memory='3Gi', name='houseprice-edge-inline-demo', tags=[], created_at='2025-07-11T19:22:21.621626+00:00', created_on_version='2025.1.2', should_run_publish=87, spiffe_id='wallaroo.ai/ns/deployments/edge/619aefe2-5c23-48e1-a256-fc807d452d0f', additional_properties={})]"
      ]
     },
     "metadata": {},
     "output_type": "display_data"
    }
   ],
   "source": [
    "display(new_pipeline.list_edges())"
   ]
  },
  {
   "cell_type": "markdown",
   "metadata": {},
   "source": [
    "#### Sample Inference Requests with New Pipeline Publish on Edge Location\n",
    "\n",
    "We deploy the new publish on the edge device either with the **Docker Run Command** or the **Helm Install Command**, with whatever modifications are required on the edge device.  Once complete, we run through the `/models` and `/pipelines` endpoints, then perform an inference request.  We will see the name of the new model - and the new pipeline used for the same edge location."
   ]
  },
  {
   "cell_type": "code",
   "execution_count": 26,
   "metadata": {},
   "outputs": [
    {
     "name": "stdout",
     "output_type": "stream",
     "text": [
      "{\"models\":[{\"sha\":\"ed6065a79d841f7e96307bb20d5ef22840f15da0b587efb51425c7ad60589d6a\",\"name\":\"gbr-house-price-estimator\",\"version\":\"18b322c6-7681-44c5-a607-d8ec1f021651\",\"status\":\"Running\"}]}"
     ]
    }
   ],
   "source": [
    "!curl testboy.local:8080/models"
   ]
  },
  {
   "cell_type": "code",
   "execution_count": 27,
   "metadata": {},
   "outputs": [
    {
     "name": "stdout",
     "output_type": "stream",
     "text": [
      "{\"pipelines\":[{\"id\":\"new-edge-inline-replacement\",\"version\":\"455a7840-08c3-43bb-b6a6-7535894e6055\",\"status\":\"Running\"}]}"
     ]
    }
   ],
   "source": [
    "!curl testboy.local:8080/pipelines"
   ]
  },
  {
   "cell_type": "code",
   "execution_count": 28,
   "metadata": {},
   "outputs": [
    {
     "name": "stdout",
     "output_type": "stream",
     "text": [
      "  % Total    % Received % Xferd  Average Speed   Time    Time     Time  Current\n",
      "                                 Dload  Upload   Total   Spent    Left  Speed\n",
      "100   624  100   496  100   128  25180   6498 --:--:-- --:--:-- --:--:-- 32842\n"
     ]
    },
    {
     "data": {
      "text/html": [
       "<div>\n",
       "<style scoped>\n",
       "    .dataframe tbody tr th:only-of-type {\n",
       "        vertical-align: middle;\n",
       "    }\n",
       "\n",
       "    .dataframe tbody tr th {\n",
       "        vertical-align: top;\n",
       "    }\n",
       "\n",
       "    .dataframe thead th {\n",
       "        text-align: right;\n",
       "    }\n",
       "</style>\n",
       "<table border=\"1\" class=\"dataframe\">\n",
       "  <thead>\n",
       "    <tr style=\"text-align: right;\">\n",
       "      <th></th>\n",
       "      <th>time</th>\n",
       "      <th>out</th>\n",
       "      <th>metadata</th>\n",
       "    </tr>\n",
       "  </thead>\n",
       "  <tbody>\n",
       "    <tr>\n",
       "      <th>0</th>\n",
       "      <td>1713800828863</td>\n",
       "      <td>{'variable': [704901.9]}</td>\n",
       "      <td>{'last_model': '{\"model_name\":\"gbr-house-price-estimator\",\"model_sha\":\"ed6065a79d841f7e96307bb20d5ef22840f15da0b587efb51425c7ad60589d6a\"}', 'pipeline_version': '455a7840-08c3-43bb-b6a6-7535894e6055', 'elapsed': [337802, 597249], 'dropped': [], 'partition': 'houseprice-edge-inline-demonstration'}</td>\n",
       "    </tr>\n",
       "  </tbody>\n",
       "</table>\n",
       "</div>"
      ],
      "text/plain": [
       "            time                       out  \\\n",
       "0  1713800828863  {'variable': [704901.9]}   \n",
       "\n",
       "                                                                                                                                                                                                                                                                                                   metadata  \n",
       "0  {'last_model': '{\"model_name\":\"gbr-house-price-estimator\",\"model_sha\":\"ed6065a79d841f7e96307bb20d5ef22840f15da0b587efb51425c7ad60589d6a\"}', 'pipeline_version': '455a7840-08c3-43bb-b6a6-7535894e6055', 'elapsed': [337802, 597249], 'dropped': [], 'partition': 'houseprice-edge-inline-demonstration'}  "
      ]
     },
     "execution_count": 28,
     "metadata": {},
     "output_type": "execute_result"
    }
   ],
   "source": [
    "# new inference\n",
    "\n",
    "import json\n",
    "\n",
    "df = pd.DataFrame.from_records({\"tensor\": [[4.0, \n",
    "                                            2.5, \n",
    "                                            2900.0, \n",
    "                                            5505.0, \n",
    "                                            2.0, \n",
    "                                            0.0, \n",
    "                                            0.0, \n",
    "                                            3.0, \n",
    "                                            8.0, \n",
    "                                            2900.0, \n",
    "                                            0.0, \n",
    "                                            47.6063, \n",
    "                                            -122.02, \n",
    "                                            2970.0, \n",
    "                                            5251.0, \n",
    "                                            12.0, \n",
    "                                            0.0, \n",
    "                                            0.0]\n",
    "                                            ]\n",
    "                                })\n",
    "\n",
    "data = df.to_dict(orient=\"records\")\n",
    "\n",
    "!curl -X POST testboy.local:8080/infer \\\n",
    "    -H \"Content-Type: Content-Type: application/json; format=pandas-records\" \\\n",
    "    --data '{json.dumps(data)}' > inferenceoutput.df.json\n",
    "\n",
    "# get the dataframe from what we just did\n",
    "\n",
    "df_result = pd.read_json('./inferenceoutput.df.json', orient=\"records\")\n",
    "df_result.loc[:, ['time', 'out', 'metadata']]"
   ]
  },
  {
   "cell_type": "markdown",
   "metadata": {},
   "source": [
    "With the tutorial complete, we undeploy the pipelines and return the resources back to the cluster."
   ]
  },
  {
   "cell_type": "code",
   "execution_count": 21,
   "metadata": {},
   "outputs": [
    {
     "name": "stdout",
     "output_type": "stream",
     "text": [
      "Waiting for undeployment - this will take up to 45s ................................... ok\n",
      ".................................... okke up to 45s \n"
     ]
    },
    {
     "data": {
      "text/html": [
       "<table><tr><th>name</th> <td>new-edge-inline-replacement</td></tr><tr><th>created</th> <td>2025-07-11 19:23:49.610108+00:00</td></tr><tr><th>last_updated</th> <td>2025-07-11 19:24:04.018292+00:00</td></tr><tr><th>deployed</th> <td>False</td></tr><tr><th>workspace_id</th> <td>1450</td></tr><tr><th>workspace_name</th> <td>in-line-edge-replacement-demo</td></tr><tr><th>arch</th> <td>x86</td></tr><tr><th>accel</th> <td>none</td></tr><tr><th>tags</th> <td></td></tr><tr><th>versions</th> <td>5faddaaa-a642-4992-837b-83189b996a7c, 0e77ba68-ff24-44a5-9c2a-6147f61766f2, af4501c6-5632-4125-9fbb-6428e847388d</td></tr><tr><th>steps</th> <td>gbr-house-price-estimator</td></tr><tr><th>published</th> <td>False</td></tr></table>"
      ],
      "text/plain": [
       "{'name': 'new-edge-inline-replacement', 'create_time': datetime.datetime(2025, 7, 11, 19, 23, 49, 610108, tzinfo=tzutc()), 'definition': \"[{'ModelInference': {'models': [{'name': 'gbr-house-price-estimator', 'version': '90877932-73b5-4fd8-aa16-ed9c56e68a93', 'sha': 'ed6065a79d841f7e96307bb20d5ef22840f15da0b587efb51425c7ad60589d6a'}]}}]\"}"
      ]
     },
     "execution_count": 21,
     "metadata": {},
     "output_type": "execute_result"
    }
   ],
   "source": [
    "mainpipeline.undeploy()\n",
    "new_pipeline.undeploy()"
   ]
  }
 ],
 "metadata": {
  "kernelspec": {
   "display_name": "Python 3 (ipykernel)",
   "language": "python",
   "name": "python3"
  },
  "language_info": {
   "codemirror_mode": {
    "name": "ipython",
    "version": 3
   },
   "file_extension": ".py",
   "mimetype": "text/x-python",
   "name": "python",
   "nbconvert_exporter": "python",
   "pygments_lexer": "ipython3",
   "version": "3.10.16"
  },
  "vscode": {
   "interpreter": {
    "hash": "7dda4bf3640b7fafcd1648658b879b4cc9f6ba6084e8fb356fdaaa1a461d1690"
   }
  }
 },
 "nbformat": 4,
 "nbformat_minor": 4
}
