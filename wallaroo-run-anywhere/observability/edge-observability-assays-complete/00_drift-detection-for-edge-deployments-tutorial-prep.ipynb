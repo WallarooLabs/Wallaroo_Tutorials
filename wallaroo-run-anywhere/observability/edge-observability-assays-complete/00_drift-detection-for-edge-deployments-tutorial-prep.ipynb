{
 "cells": [
  {
   "cell_type": "markdown",
   "metadata": {},
   "source": [
    "This tutorial and the assets can be downloaded as part of the [Wallaroo Tutorials repository](https://github.com/WallarooLabs/Wallaroo_Tutorials/blob/wallaroo2024.4_tutorials/wallaroo-run-anywhere/edge-observability-assays).\n",
    "\n",
    "## Model Drift Detection for Edge Deployments Tutorial: Preparation\n",
    "\n",
    "The Model Insights feature lets you monitor how the environment that your model operates within may be changing in ways that affect it's predictions so that you can intervene (retrain) in an efficient and timely manner. Changes in the inputs, **data drift**, can occur due to errors in the data processing pipeline or due to changes in the environment such as user preference or behavior. \n",
    "\n",
    "Wallaroo Run Anywhere allows models to be deployed on edge and other locations, and have their inference result logs uploaded to the Wallaroo Ops center.  Wallaroo assays allow for model drift detection to include the inference results from one or more deployment locations and compare any one or multiple locations results against an established baseline.\n",
    "\n",
    "This notebook is designed to demonstrate the Wallaroo Run Anywhere with Model Drift Observability with Wallaroo Assays.  This notebook will walk through the process of:\n",
    "\n",
    "\n",
    "* Preparation:  This notebook focuses on setting up the conditions for model edge deployments to different locations.  This includes:\n",
    "  * Setting up a workspace, pipeline, and model for deriving the price of a house based on inputs.\n",
    "  * Performing a sample set of inferences to verify the model deployment.\n",
    "  * Publish the deployed model to an Open Container Initiative (OCI) Registry, and use that to deploy the model to two difference edge locations.\n",
    "* Model Drift by Location:\n",
    "  * Perform inference requests on each of the model edge deployments.\n",
    "  * Perform the steps in creating an assay:\n",
    "    * Build an assay baseline with a specified location for inference results.\n",
    "    * Preview the assay and show different assay configurations based on selecting the inference data from the Wallaroo Ops model deployment versus the edge deployment.\n",
    "    * Create the assay.\n",
    "    * View assay results.\n",
    "\n",
    "This notebook focuses on **Preparation**.\n",
    "\n",
    "## Goal\n",
    "\n",
    "Model insights monitors the output of the house price model over a designated time window and compares it to an expected baseline distribution. We measure the performance of model deployments in different locations and compare that to the baseline to detect model drift.\n",
    "\n",
    "### Resources\n",
    "\n",
    "This tutorial provides the following:\n",
    "\n",
    "* Models:\n",
    "  * `models/rf_model.onnx`: The champion model that has been used in this environment for some time.\n",
    "  * Various inputs:\n",
    "    * `smallinputs.df.json`: A set of house inputs that tends to generate low house price values.\n",
    "    * `biginputs.df.json`: A set of house inputs that tends to generate high house price values.\n",
    "\n",
    "### Prerequisites\n",
    "\n",
    "* A deployed Wallaroo instance with [Edge Registry Services](https://docs.wallaroo.ai/wallaroo-platform-operations/wallaroo-platform-operations-configure/wallaroo-edge-deployment/#enable-wallaroo-edge-deployment-registry) and [Edge Observability enabled](https://docs.wallaroo.ai/wallaroo-platform-operations/wallaroo-platform-operations-configure/wallaroo-edge-deployment/#set-edge-observability-service).\n",
    "* The following Python libraries installed:\n",
    "  * [`wallaroo`](https://pypi.org/project/wallaroo/): The Wallaroo SDK. Included with the Wallaroo JupyterHub service by default.\n",
    "  * [`pandas`](https://pypi.org/project/pandas/): Pandas, mainly used for Pandas DataFrame\n",
    "* A X64 Docker deployment to deploy the model on an edge location.\n"
   ]
  },
  {
   "cell_type": "markdown",
   "metadata": {},
   "source": [
    "## Steps\n",
    "\n",
    "* Deploying a sample ML model used to determine house prices based on a set of input parameters.\n",
    "* Publish the model deployment configuration to an OCI registry.\n",
    "* Use the publish and set edge locations.\n",
    "* Deploy the model to two different edge locations.\n",
    "\n",
    "### Import Libraries\n",
    "\n",
    "The first step will be to import our libraries, and set variables used through this tutorial."
   ]
  },
  {
   "cell_type": "code",
   "execution_count": 1,
   "metadata": {},
   "outputs": [],
   "source": [
    "import wallaroo\n",
    "from wallaroo.object import EntityNotFoundError\n",
    "from wallaroo.framework import Framework\n",
    "\n",
    "from IPython.display import display\n",
    "\n",
    "# used to display DataFrame information without truncating\n",
    "from IPython.display import display\n",
    "import pandas as pd\n",
    "pd.set_option('display.max_colwidth', None)\n",
    "pd.set_option('display.max_columns', None)\n",
    "\n",
    "import datetime\n",
    "import time\n",
    "\n",
    "workspace_name = f'run-anywhere-assay-demonstration-tutorial'\n",
    "main_pipeline_name = f'assay-demonstration-tutorial'\n",
    "model_name_control = f'house-price-estimator'\n",
    "model_file_name_control = './models/rf_model.onnx'\n",
    "\n",
    "# Set the name of the assay\n",
    "assay_name=\"ops assay example\"\n",
    "edge_assay_name = \"edge assay example\"\n",
    "combined_assay_name = \"combined assay example\"\n",
    "\n",
    "# ignoring warnings for demonstration\n",
    "import warnings\n",
    "warnings.filterwarnings('ignore')\n",
    "\n",
    "# used to display DataFrame information without truncating\n",
    "from IPython.display import display\n",
    "import pandas as pd\n",
    "pd.set_option('display.max_colwidth', None)\n",
    "pd.set_option('display.max_columns', None)"
   ]
  },
  {
   "cell_type": "markdown",
   "metadata": {},
   "source": [
    "### Connect to the Wallaroo Instance\n",
    "\n",
    "The first step is to connect to Wallaroo through the Wallaroo client.  The Python library is included in the Wallaroo install and available through the Jupyter Hub interface provided with your Wallaroo environment.\n",
    "\n",
    "This is accomplished using the `wallaroo.Client()` command, which provides a URL to grant the SDK permission to your specific Wallaroo environment.  When displayed, enter the URL into a browser and confirm permissions.  Store the connection into a variable that can be referenced later.\n",
    "\n",
    "If logging into the Wallaroo instance through the internal JupyterHub service, use `wl = wallaroo.Client()`.  For more information on Wallaroo Client settings, see the [Client Connection guide](https://docs.wallaroo.ai/wallaroo-developer-guides/wallaroo-sdk-guides/wallaroo-sdk-essentials-guide/wallaroo-sdk-essentials-client/)."
   ]
  },
  {
   "cell_type": "code",
   "execution_count": 2,
   "metadata": {},
   "outputs": [],
   "source": [
    "wl = wallaroo.Client()"
   ]
  },
  {
   "cell_type": "markdown",
   "metadata": {},
   "source": [
    "### Create Workspace\n",
    "\n",
    "We will create a workspace to manage our pipeline and models.  The following variables will set the name of our sample workspace then set it as the current workspace.\n",
    "\n",
    "Workspace, pipeline, and model names should be unique to each user, so we'll add in a randomly generated suffix so multiple people can run this tutorial in a Wallaroo instance without effecting each other."
   ]
  },
  {
   "cell_type": "code",
   "execution_count": 3,
   "metadata": {},
   "outputs": [
    {
     "data": {
      "text/plain": [
       "{'name': 'run-anywhere-assay-demonstration-tutorial', 'id': 15, 'archived': False, 'created_by': 'fb2916bc-551e-4a76-88e8-0f7d7720a0f9', 'created_at': '2024-07-30T15:55:03.564943+00:00', 'models': [], 'pipelines': []}"
      ]
     },
     "execution_count": 3,
     "metadata": {},
     "output_type": "execute_result"
    }
   ],
   "source": [
    "workspace = wl.get_workspace(name=workspace_name, create_if_not_exist=True)\n",
    "\n",
    "wl.set_current_workspace(workspace)"
   ]
  },
  {
   "cell_type": "markdown",
   "metadata": {},
   "source": [
    "### Upload The Champion Model\n",
    "\n",
    "For our example, we will upload the champion model that has been trained to derive house prices from a variety of inputs.  The model file is `rf_model.onnx`, and is uploaded with the name `house-price-estimator`."
   ]
  },
  {
   "cell_type": "code",
   "execution_count": 4,
   "metadata": {},
   "outputs": [],
   "source": [
    "housing_model_control = (wl.upload_model(model_name_control, \n",
    "                                        model_file_name_control, \n",
    "                                        framework=Framework.ONNX)\n",
    "                                        .configure(tensor_fields=[\"tensor\"])\n",
    "                        )"
   ]
  },
  {
   "cell_type": "markdown",
   "metadata": {},
   "source": [
    "### Build the Pipeline\n",
    "\n",
    "This pipeline is made to be an example of an existing situation where a model is deployed and being used for inferences in a production environment.  We'll call it `assay-demonstration-tutorial`, set `housing_model_control` as a pipeline step, then run a few sample inferences.\n",
    "\n",
    "This pipeline will be a simple one - just a single pipeline step."
   ]
  },
  {
   "cell_type": "code",
   "execution_count": 5,
   "metadata": {},
   "outputs": [
    {
     "data": {
      "text/html": [
       "<table><tr><th>name</th> <td>assay-demonstration-tutorial</td></tr><tr><th>created</th> <td>2024-07-30 15:55:05.574830+00:00</td></tr><tr><th>last_updated</th> <td>2024-07-30 15:55:05.980656+00:00</td></tr><tr><th>deployed</th> <td>True</td></tr><tr><th>workspace_id</th> <td>15</td></tr><tr><th>workspace_name</th> <td>run-anywhere-assay-demonstration-tutorial</td></tr><tr><th>arch</th> <td>x86</td></tr><tr><th>accel</th> <td>none</td></tr><tr><th>tags</th> <td></td></tr><tr><th>versions</th> <td>35614bc9-6a13-4f99-b446-78e03e3e9a65, 1d8c4af6-69d5-4305-a355-37b2a2f07bcb</td></tr><tr><th>steps</th> <td>house-price-estimator</td></tr><tr><th>published</th> <td>False</td></tr></table>"
      ],
      "text/plain": [
       "{'name': 'assay-demonstration-tutorial', 'create_time': datetime.datetime(2024, 7, 30, 15, 55, 5, 574830, tzinfo=tzutc()), 'definition': \"[{'ModelInference': {'models': [{'name': 'house-price-estimator', 'version': 'e24fe787-af57-46ac-8582-39074c5d5294', 'sha': 'e22a0831aafd9917f3cc87a15ed267797f80e2afa12ad7d8810ca58f173b8cc6'}]}}]\"}"
      ]
     },
     "execution_count": 5,
     "metadata": {},
     "output_type": "execute_result"
    }
   ],
   "source": [
    "mainpipeline = wl.build_pipeline(main_pipeline_name)\n",
    "# clear the steps if used before\n",
    "mainpipeline.clear()\n",
    "\n",
    "mainpipeline.add_model_step(housing_model_control)\n",
    "\n",
    "#minimum deployment config\n",
    "deploy_config = wallaroo.DeploymentConfigBuilder().replica_count(1).cpus(0.5).memory(\"1Gi\").build()\n",
    "\n",
    "mainpipeline.deploy(deployment_config = deploy_config)"
   ]
  },
  {
   "cell_type": "code",
   "execution_count": 6,
   "metadata": {},
   "outputs": [
    {
     "data": {
      "text/plain": [
       "{'status': 'Running',\n",
       " 'details': [],\n",
       " 'engines': [{'ip': '10.28.1.26',\n",
       "   'name': 'engine-6fcfc77b76-7r7cb',\n",
       "   'status': 'Running',\n",
       "   'reason': None,\n",
       "   'details': [],\n",
       "   'pipeline_statuses': {'pipelines': [{'id': 'assay-demonstration-tutorial',\n",
       "      'status': 'Running',\n",
       "      'version': '35614bc9-6a13-4f99-b446-78e03e3e9a65'}]},\n",
       "   'model_statuses': {'models': [{'name': 'house-price-estimator',\n",
       "      'sha': 'e22a0831aafd9917f3cc87a15ed267797f80e2afa12ad7d8810ca58f173b8cc6',\n",
       "      'status': 'Running',\n",
       "      'version': 'e24fe787-af57-46ac-8582-39074c5d5294'}]}}],\n",
       " 'engine_lbs': [{'ip': '10.28.1.25',\n",
       "   'name': 'engine-lb-6b59985857-c6cm7',\n",
       "   'status': 'Running',\n",
       "   'reason': None,\n",
       "   'details': []}],\n",
       " 'sidekicks': []}"
      ]
     },
     "execution_count": 6,
     "metadata": {},
     "output_type": "execute_result"
    }
   ],
   "source": [
    "mainpipeline.status()"
   ]
  },
  {
   "cell_type": "markdown",
   "metadata": {},
   "source": [
    "### Testing\n",
    "\n",
    "We'll use two inferences as a quick sample test - one that has a house that should be determined around `$700k`, the other with a house determined to be around `$1.5` million."
   ]
  },
  {
   "cell_type": "code",
   "execution_count": 7,
   "metadata": {},
   "outputs": [
    {
     "data": {
      "text/html": [
       "<div>\n",
       "<style scoped>\n",
       "    .dataframe tbody tr th:only-of-type {\n",
       "        vertical-align: middle;\n",
       "    }\n",
       "\n",
       "    .dataframe tbody tr th {\n",
       "        vertical-align: top;\n",
       "    }\n",
       "\n",
       "    .dataframe thead th {\n",
       "        text-align: right;\n",
       "    }\n",
       "</style>\n",
       "<table border=\"1\" class=\"dataframe\">\n",
       "  <thead>\n",
       "    <tr style=\"text-align: right;\">\n",
       "      <th></th>\n",
       "      <th>time</th>\n",
       "      <th>in.tensor</th>\n",
       "      <th>out.variable</th>\n",
       "      <th>anomaly.count</th>\n",
       "    </tr>\n",
       "  </thead>\n",
       "  <tbody>\n",
       "    <tr>\n",
       "      <th>0</th>\n",
       "      <td>2024-07-30 15:55:19.976</td>\n",
       "      <td>[4.0, 2.5, 2900.0, 5505.0, 2.0, 0.0, 0.0, 3.0, 8.0, 2900.0, 0.0, 47.6063, -122.02, 2970.0, 5251.0, 12.0, 0.0, 0.0]</td>\n",
       "      <td>[718013.7]</td>\n",
       "      <td>0</td>\n",
       "    </tr>\n",
       "  </tbody>\n",
       "</table>\n",
       "</div>"
      ],
      "text/plain": [
       "                     time  \\\n",
       "0 2024-07-30 15:55:19.976   \n",
       "\n",
       "                                                                                                            in.tensor  \\\n",
       "0  [4.0, 2.5, 2900.0, 5505.0, 2.0, 0.0, 0.0, 3.0, 8.0, 2900.0, 0.0, 47.6063, -122.02, 2970.0, 5251.0, 12.0, 0.0, 0.0]   \n",
       "\n",
       "  out.variable  anomaly.count  \n",
       "0   [718013.7]              0  "
      ]
     },
     "metadata": {},
     "output_type": "display_data"
    }
   ],
   "source": [
    "normal_input = pd.DataFrame.from_records({\"tensor\": [[4.0, 2.5, 2900.0, 5505.0, 2.0, 0.0, 0.0, 3.0, 8.0, 2900.0, 0.0, 47.6063, -122.02, 2970.0, 5251.0, 12.0, 0.0, 0.0]]})\n",
    "result = mainpipeline.infer(normal_input)\n",
    "display(result)"
   ]
  },
  {
   "cell_type": "code",
   "execution_count": 8,
   "metadata": {},
   "outputs": [
    {
     "data": {
      "text/html": [
       "<div>\n",
       "<style scoped>\n",
       "    .dataframe tbody tr th:only-of-type {\n",
       "        vertical-align: middle;\n",
       "    }\n",
       "\n",
       "    .dataframe tbody tr th {\n",
       "        vertical-align: top;\n",
       "    }\n",
       "\n",
       "    .dataframe thead th {\n",
       "        text-align: right;\n",
       "    }\n",
       "</style>\n",
       "<table border=\"1\" class=\"dataframe\">\n",
       "  <thead>\n",
       "    <tr style=\"text-align: right;\">\n",
       "      <th></th>\n",
       "      <th>time</th>\n",
       "      <th>in.tensor</th>\n",
       "      <th>out.variable</th>\n",
       "      <th>anomaly.count</th>\n",
       "    </tr>\n",
       "  </thead>\n",
       "  <tbody>\n",
       "    <tr>\n",
       "      <th>0</th>\n",
       "      <td>2024-07-30 15:55:20.186</td>\n",
       "      <td>[4.0, 3.0, 3710.0, 20000.0, 2.0, 0.0, 2.0, 5.0, 10.0, 2760.0, 950.0, 47.6696, -122.261, 3970.0, 20000.0, 79.0, 0.0, 0.0]</td>\n",
       "      <td>[1514079.4]</td>\n",
       "      <td>0</td>\n",
       "    </tr>\n",
       "  </tbody>\n",
       "</table>\n",
       "</div>"
      ],
      "text/plain": [
       "                     time  \\\n",
       "0 2024-07-30 15:55:20.186   \n",
       "\n",
       "                                                                                                                  in.tensor  \\\n",
       "0  [4.0, 3.0, 3710.0, 20000.0, 2.0, 0.0, 2.0, 5.0, 10.0, 2760.0, 950.0, 47.6696, -122.261, 3970.0, 20000.0, 79.0, 0.0, 0.0]   \n",
       "\n",
       "  out.variable  anomaly.count  \n",
       "0  [1514079.4]              0  "
      ]
     },
     "metadata": {},
     "output_type": "display_data"
    }
   ],
   "source": [
    "large_house_input = pd.DataFrame.from_records({'tensor': [[4.0, 3.0, 3710.0, 20000.0, 2.0, 0.0, 2.0, 5.0, 10.0, 2760.0, 950.0, 47.6696, -122.261, 3970.0, 20000.0, 79.0, 0.0, 0.0]]})\n",
    "large_house_result = mainpipeline.infer(large_house_input)\n",
    "display(large_house_result)"
   ]
  },
  {
   "cell_type": "markdown",
   "metadata": {},
   "source": [
    "### Undeploy Main Pipeline\n",
    "\n",
    "With the examples and examples complete, we will undeploy the main pipeline and return the resources back to the Wallaroo instance."
   ]
  },
  {
   "cell_type": "code",
   "execution_count": 9,
   "metadata": {},
   "outputs": [
    {
     "data": {
      "text/html": [
       "<table><tr><th>name</th> <td>assay-demonstration-tutorial</td></tr><tr><th>created</th> <td>2024-07-30 15:55:05.574830+00:00</td></tr><tr><th>last_updated</th> <td>2024-07-30 15:55:05.980656+00:00</td></tr><tr><th>deployed</th> <td>False</td></tr><tr><th>workspace_id</th> <td>15</td></tr><tr><th>workspace_name</th> <td>run-anywhere-assay-demonstration-tutorial</td></tr><tr><th>arch</th> <td>x86</td></tr><tr><th>accel</th> <td>none</td></tr><tr><th>tags</th> <td></td></tr><tr><th>versions</th> <td>35614bc9-6a13-4f99-b446-78e03e3e9a65, 1d8c4af6-69d5-4305-a355-37b2a2f07bcb</td></tr><tr><th>steps</th> <td>house-price-estimator</td></tr><tr><th>published</th> <td>False</td></tr></table>"
      ],
      "text/plain": [
       "{'name': 'assay-demonstration-tutorial', 'create_time': datetime.datetime(2024, 7, 30, 15, 55, 5, 574830, tzinfo=tzutc()), 'definition': \"[{'ModelInference': {'models': [{'name': 'house-price-estimator', 'version': 'e24fe787-af57-46ac-8582-39074c5d5294', 'sha': 'e22a0831aafd9917f3cc87a15ed267797f80e2afa12ad7d8810ca58f173b8cc6'}]}}]\"}"
      ]
     },
     "execution_count": 9,
     "metadata": {},
     "output_type": "execute_result"
    }
   ],
   "source": [
    "mainpipeline.undeploy()"
   ]
  },
  {
   "cell_type": "markdown",
   "metadata": {},
   "source": [
    "## Edge Deployment\n",
    "\n",
    "We can now deploy the pipeline to an edge device.  This will require the following steps:\n",
    "\n",
    "* Publish the pipeline:  Publishes the pipeline to the OCI registry.\n",
    "* Add Edge:  Add the edge location to the pipeline publish.\n",
    "* Deploy Edge:  Deploy the edge device with the edge location settings."
   ]
  },
  {
   "cell_type": "markdown",
   "metadata": {},
   "source": [
    "### Publish Pipeline\n",
    "\n",
    "Publishing the pipeline uses the pipeline `wallaroo.pipeline.publish()` command.  This requires that the Wallaroo Ops instance have [Edge Registry Services](https://docs.wallaroo.ai/wallaroo-platform-operations/wallaroo-platform-operations-configure/wallaroo-edge-deployment/#enable-wallaroo-edge-deployment-registry) enabled.\n",
    "\n",
    "The following publishes the pipeline to the OCI registry and displays the container details.  For more information, see [Wallaroo SDK Essentials Guide: Pipeline Edge Publication](https://docs.wallaroo.ai/wallaroo-developer-guides/wallaroo-sdk-guides/wallaroo-sdk-essentials-guide/wallaroo-sdk-essentials-pipelines/wallaroo-sdk-essentials-pipeline-publication/)."
   ]
  },
  {
   "cell_type": "code",
   "execution_count": 10,
   "metadata": {},
   "outputs": [
    {
     "name": "stdout",
     "output_type": "stream",
     "text": [
      "Waiting for pipeline publish... It may take up to 600 sec.\n",
      "Pipeline is publishing..... Published.\n"
     ]
    }
   ],
   "source": [
    "assay_pub = mainpipeline.publish()"
   ]
  },
  {
   "cell_type": "markdown",
   "metadata": {},
   "source": [
    "### Add Edge Location\n",
    "\n",
    "The edge location is added with the [`wallaroo.pipeline_publish.add_edge(name)`](https://docs.wallaroo.ai/wallaroo-developer-guides/wallaroo-sdk-guides/wallaroo-sdk-reference-guide/pipeline_publish/#PipelinePublish.add_edge) method.  This returns the OCI registration information, and the `EDGE_BUNDLE` information.  The `EDGE_BUNDLE` data is a base64 encoded set of parameters for the pipeline that the edge device is associated with, the workspace, and other data.\n",
    "\n",
    "For full details, see [Wallaroo SDK Essentials Guide: Pipeline Edge Publication: Edge Observability](https://docs.wallaroo.ai/wallaroo-developer-guides/wallaroo-sdk-guides/wallaroo-sdk-essentials-guide/wallaroo-sdk-essentials-pipelines/wallaroo-sdk-essentials-pipeline-publication/#edge-observability).\n",
    "\n",
    "For this example, we will add two locations:\n",
    "\n",
    "* `houseprice-edge-demonstration-01`\n",
    "* `houseprice-edge-demonstration-02`\n",
    "\n",
    "These will be used in later steps for demonstrating inferences through different locations."
   ]
  },
  {
   "cell_type": "code",
   "execution_count": 11,
   "metadata": {},
   "outputs": [
    {
     "data": {
      "text/html": [
       "\n",
       "          <table>\n",
       "              <tr><td>ID</td><td>1</td></tr>\n",
       "              <tr><td>Pipeline Name</td><td>assay-demonstration-tutorial</td></tr>\n",
       "              <tr><td>Pipeline Version</td><td>e1abe92f-82d2-494a-8d96-dbd5810dc198</td></tr>\n",
       "              <tr><td>Status</td><td>Published</td></tr>\n",
       "              <tr><td>Engine URL</td><td><a href='https://ghcr.io/wallaroolabs/doc-samples/engines/proxy/wallaroo/ghcr.io/wallaroolabs/fitzroy-mini:v2024.2.0-main-5455'>ghcr.io/wallaroolabs/doc-samples/engines/proxy/wallaroo/ghcr.io/wallaroolabs/fitzroy-mini:v2024.2.0-main-5455</a></td></tr>\n",
       "              <tr><td>Pipeline URL</td><td><a href='https://ghcr.io/wallaroolabs/doc-samples/pipelines/assay-demonstration-tutorial:e1abe92f-82d2-494a-8d96-dbd5810dc198'>ghcr.io/wallaroolabs/doc-samples/pipelines/assay-demonstration-tutorial:e1abe92f-82d2-494a-8d96-dbd5810dc198</a></td></tr>\n",
       "              <tr><td>Helm Chart URL</td><td>oci://<a href='https://ghcr.io/wallaroolabs/doc-samples/charts/assay-demonstration-tutorial'>ghcr.io/wallaroolabs/doc-samples/charts/assay-demonstration-tutorial</a></td></tr>\n",
       "              <tr><td>Helm Chart Reference</td><td>ghcr.io/wallaroolabs/doc-samples/charts@sha256:1e13d208c02930ef2ee5d9ebc24f38bc44383cb9866c568d88009d2741e0aba5</td></tr>\n",
       "              <tr><td>Helm Chart Version</td><td>0.0.1-e1abe92f-82d2-494a-8d96-dbd5810dc198</td></tr>\n",
       "              <tr><td>Engine Config</td><td>{'engine': {'resources': {'limits': {'cpu': 4.0, 'memory': '3Gi'}, 'requests': {'cpu': 4.0, 'memory': '3Gi'}, 'accel': 'none', 'arch': 'x86', 'gpu': False}}, 'engineAux': {'autoscale': {'type': 'none'}, 'images': None}}</td></tr>\n",
       "              <tr><td>User Images</td><td>[]</td></tr>\n",
       "              <tr><td>Created By</td><td>john.hansarick@wallaroo.ai</td></tr>\n",
       "              <tr><td>Created At</td><td>2024-07-30 15:55:59.141648+00:00</td></tr>\n",
       "              <tr><td>Updated At</td><td>2024-07-30 15:55:59.141648+00:00</td></tr>\n",
       "              <tr><td>Replaces</td><td></td></tr>\n",
       "              <tr>\n",
       "                  <td>Docker Run Command</td>\n",
       "                  <td>\n",
       "                      <table><tr><td>\n",
       "<pre style=\"text-align: left\">docker run -v $PERSISTENT_VOLUME_DIR:/persist \\\n",
       "    -p $EDGE_PORT:8080 \\\n",
       "    -e OCI_USERNAME=$OCI_USERNAME \\\n",
       "    -e OCI_PASSWORD=$OCI_PASSWORD \\\n",
       "    -e PIPELINE_URL=ghcr.io/wallaroolabs/doc-samples/pipelines/assay-demonstration-tutorial:e1abe92f-82d2-494a-8d96-dbd5810dc198\\\n",
       "    -e EDGE_BUNDLE=ZXhwb3J0IEJVTkRMRV9WRVJTSU9OPTEKZXhwb3J0IENPTkZJR19DUFVTPTQKZXhwb3J0IEVER0VfTkFNRT1ob3VzZXByaWNlLWVkZ2UtZGVtb25zdHJhdGlvbi0wMQpleHBvcnQgT1BTQ0VOVEVSX0hPU1Q9ZG9jLXRlc3Qud2FsbGFyb29jb21tdW5pdHkubmluamEKZXhwb3J0IFBJUEVMSU5FX1VSTD1naGNyLmlvL3dhbGxhcm9vbGFicy9kb2Mtc2FtcGxlcy9waXBlbGluZXMvYXNzYXktZGVtb25zdHJhdGlvbi10dXRvcmlhbDplMWFiZTkyZi04MmQyLTQ5NGEtOGQ5Ni1kYmQ1ODEwZGMxOTgKZXhwb3J0IEpPSU5fVE9LRU49MGYxOTMxMGYtOGE1YS00OGI1LTljNzEtZWI0YjAxMTAzYjRkCmV4cG9ydCBPQ0lfUkVHSVNUUlk9Z2hjci5pbw== \\\n",
       "    -e CONFIG_CPUS=4 ghcr.io/wallaroolabs/doc-samples/engines/proxy/wallaroo/ghcr.io/wallaroolabs/fitzroy-mini:v2024.2.0-main-5455</pre></td></tr></table>\n",
       "                      <br />\n",
       "                      <i>\n",
       "                          Note: Please set the <code>PERSISTENT_VOLUME_DIR</code>, <code>EDGE_PORT</code>, <code>OCI_USERNAME</code>, and <code>OCI_PASSWORD</code> environment variables.\n",
       "                      </i>\n",
       "                  </td>\n",
       "              </tr>\n",
       "              <tr>\n",
       "                  <td>Helm Install Command</td>\n",
       "                  <td>\n",
       "                      <table><tr><td>\n",
       "<pre style=\"text-align: left\">helm install --atomic $HELM_INSTALL_NAME \\\n",
       "    oci://ghcr.io/wallaroolabs/doc-samples/charts/assay-demonstration-tutorial \\\n",
       "    --namespace $HELM_INSTALL_NAMESPACE \\\n",
       "    --version 0.0.1-e1abe92f-82d2-494a-8d96-dbd5810dc198 \\\n",
       "    --set ociRegistry.username=$OCI_USERNAME \\\n",
       "    --set ociRegistry.password=$OCI_PASSWORD \\\n",
       "    --set edgeBundle=ZXhwb3J0IEJVTkRMRV9WRVJTSU9OPTEKZXhwb3J0IENPTkZJR19DUFVTPTQKZXhwb3J0IEVER0VfTkFNRT1ob3VzZXByaWNlLWVkZ2UtZGVtb25zdHJhdGlvbi0wMQpleHBvcnQgT1BTQ0VOVEVSX0hPU1Q9ZG9jLXRlc3Qud2FsbGFyb29jb21tdW5pdHkubmluamEKZXhwb3J0IFBJUEVMSU5FX1VSTD1naGNyLmlvL3dhbGxhcm9vbGFicy9kb2Mtc2FtcGxlcy9waXBlbGluZXMvYXNzYXktZGVtb25zdHJhdGlvbi10dXRvcmlhbDplMWFiZTkyZi04MmQyLTQ5NGEtOGQ5Ni1kYmQ1ODEwZGMxOTgKZXhwb3J0IEpPSU5fVE9LRU49MGYxOTMxMGYtOGE1YS00OGI1LTljNzEtZWI0YjAxMTAzYjRkCmV4cG9ydCBPQ0lfUkVHSVNUUlk9Z2hjci5pbw==</pre></td></tr></table>\n",
       "                      <br />\n",
       "                      <i>\n",
       "                          Note: Please set the <code>HELM_INSTALL_NAME</code>, <code>HELM_INSTALL_NAMESPACE</code>,\n",
       "                          <code>OCI_USERNAME</code>, and <code>OCI_PASSWORD</code> environment variables.\n",
       "                      </i>\n",
       "                  </td>\n",
       "              </tr>\n",
       "              \n",
       "          </table>\n",
       "        "
      ],
      "text/plain": [
       "PipelinePublish(created_at=datetime.datetime(2024, 7, 30, 15, 55, 59, 141648, tzinfo=tzutc()), docker_run_variables={'PIPELINE_URL': 'ghcr.io/wallaroolabs/doc-samples/pipelines/assay-demonstration-tutorial:e1abe92f-82d2-494a-8d96-dbd5810dc198', 'EDGE_BUNDLE': 'ZXhwb3J0IEJVTkRMRV9WRVJTSU9OPTEKZXhwb3J0IENPTkZJR19DUFVTPTQKZXhwb3J0IEVER0VfTkFNRT1ob3VzZXByaWNlLWVkZ2UtZGVtb25zdHJhdGlvbi0wMQpleHBvcnQgT1BTQ0VOVEVSX0hPU1Q9ZG9jLXRlc3Qud2FsbGFyb29jb21tdW5pdHkubmluamEKZXhwb3J0IFBJUEVMSU5FX1VSTD1naGNyLmlvL3dhbGxhcm9vbGFicy9kb2Mtc2FtcGxlcy9waXBlbGluZXMvYXNzYXktZGVtb25zdHJhdGlvbi10dXRvcmlhbDplMWFiZTkyZi04MmQyLTQ5NGEtOGQ5Ni1kYmQ1ODEwZGMxOTgKZXhwb3J0IEpPSU5fVE9LRU49MGYxOTMxMGYtOGE1YS00OGI1LTljNzEtZWI0YjAxMTAzYjRkCmV4cG9ydCBPQ0lfUkVHSVNUUlk9Z2hjci5pbw=='}, engine_config={'engine': {'resources': {'limits': {'cpu': 4.0, 'memory': '3Gi'}, 'requests': {'cpu': 4.0, 'memory': '3Gi'}, 'accel': 'none', 'arch': 'x86', 'gpu': False}}, 'engineAux': {'autoscale': {'type': 'none'}, 'images': None}}, id=1, pipeline_name='assay-demonstration-tutorial', pipeline_version_id=60, replaces=[], status='Published', updated_at=datetime.datetime(2024, 7, 30, 15, 55, 59, 141648, tzinfo=tzutc()), user_images=[], created_by='fb2916bc-551e-4a76-88e8-0f7d7720a0f9', created_on_version='2024.2.0', edge_bundles=<wallaroo.wallaroo_ml_ops_api_client.types.Unset object at 0x126ff5e80>, engine_url='ghcr.io/wallaroolabs/doc-samples/engines/proxy/wallaroo/ghcr.io/wallaroolabs/fitzroy-mini:v2024.2.0-main-5455', error=None, helm={'reference': 'ghcr.io/wallaroolabs/doc-samples/charts@sha256:1e13d208c02930ef2ee5d9ebc24f38bc44383cb9866c568d88009d2741e0aba5', 'values': {'edgeBundle': 'ZXhwb3J0IEJVTkRMRV9WRVJTSU9OPTEKZXhwb3J0IENPTkZJR19DUFVTPTQKZXhwb3J0IEVER0VfTkFNRT1ob3VzZXByaWNlLWVkZ2UtZGVtb25zdHJhdGlvbi0wMQpleHBvcnQgT1BTQ0VOVEVSX0hPU1Q9ZG9jLXRlc3Qud2FsbGFyb29jb21tdW5pdHkubmluamEKZXhwb3J0IFBJUEVMSU5FX1VSTD1naGNyLmlvL3dhbGxhcm9vbGFicy9kb2Mtc2FtcGxlcy9waXBlbGluZXMvYXNzYXktZGVtb25zdHJhdGlvbi10dXRvcmlhbDplMWFiZTkyZi04MmQyLTQ5NGEtOGQ5Ni1kYmQ1ODEwZGMxOTgKZXhwb3J0IEpPSU5fVE9LRU49MGYxOTMxMGYtOGE1YS00OGI1LTljNzEtZWI0YjAxMTAzYjRkCmV4cG9ydCBPQ0lfUkVHSVNUUlk9Z2hjci5pbw=='}, 'chart': 'ghcr.io/wallaroolabs/doc-samples/charts/assay-demonstration-tutorial', 'version': '0.0.1-e1abe92f-82d2-494a-8d96-dbd5810dc198'}, pipeline_url='ghcr.io/wallaroolabs/doc-samples/pipelines/assay-demonstration-tutorial:e1abe92f-82d2-494a-8d96-dbd5810dc198', pipeline_version_name='e1abe92f-82d2-494a-8d96-dbd5810dc198', additional_properties={})"
      ]
     },
     "metadata": {},
     "output_type": "display_data"
    }
   ],
   "source": [
    "edge_name_01 = \"houseprice-edge-demonstration-01\"\n",
    "edge_publish_01 = assay_pub.add_edge(edge_name_01)\n",
    "display(edge_publish_01)"
   ]
  },
  {
   "cell_type": "code",
   "execution_count": 12,
   "metadata": {},
   "outputs": [
    {
     "data": {
      "text/html": [
       "\n",
       "          <table>\n",
       "              <tr><td>ID</td><td>1</td></tr>\n",
       "              <tr><td>Pipeline Name</td><td>assay-demonstration-tutorial</td></tr>\n",
       "              <tr><td>Pipeline Version</td><td>e1abe92f-82d2-494a-8d96-dbd5810dc198</td></tr>\n",
       "              <tr><td>Status</td><td>Published</td></tr>\n",
       "              <tr><td>Engine URL</td><td><a href='https://ghcr.io/wallaroolabs/doc-samples/engines/proxy/wallaroo/ghcr.io/wallaroolabs/fitzroy-mini:v2024.2.0-main-5455'>ghcr.io/wallaroolabs/doc-samples/engines/proxy/wallaroo/ghcr.io/wallaroolabs/fitzroy-mini:v2024.2.0-main-5455</a></td></tr>\n",
       "              <tr><td>Pipeline URL</td><td><a href='https://ghcr.io/wallaroolabs/doc-samples/pipelines/assay-demonstration-tutorial:e1abe92f-82d2-494a-8d96-dbd5810dc198'>ghcr.io/wallaroolabs/doc-samples/pipelines/assay-demonstration-tutorial:e1abe92f-82d2-494a-8d96-dbd5810dc198</a></td></tr>\n",
       "              <tr><td>Helm Chart URL</td><td>oci://<a href='https://ghcr.io/wallaroolabs/doc-samples/charts/assay-demonstration-tutorial'>ghcr.io/wallaroolabs/doc-samples/charts/assay-demonstration-tutorial</a></td></tr>\n",
       "              <tr><td>Helm Chart Reference</td><td>ghcr.io/wallaroolabs/doc-samples/charts@sha256:1e13d208c02930ef2ee5d9ebc24f38bc44383cb9866c568d88009d2741e0aba5</td></tr>\n",
       "              <tr><td>Helm Chart Version</td><td>0.0.1-e1abe92f-82d2-494a-8d96-dbd5810dc198</td></tr>\n",
       "              <tr><td>Engine Config</td><td>{'engine': {'resources': {'limits': {'cpu': 4.0, 'memory': '3Gi'}, 'requests': {'cpu': 4.0, 'memory': '3Gi'}, 'accel': 'none', 'arch': 'x86', 'gpu': False}}, 'engineAux': {'autoscale': {'type': 'none'}, 'images': None}}</td></tr>\n",
       "              <tr><td>User Images</td><td>[]</td></tr>\n",
       "              <tr><td>Created By</td><td>john.hansarick@wallaroo.ai</td></tr>\n",
       "              <tr><td>Created At</td><td>2024-07-30 15:55:59.141648+00:00</td></tr>\n",
       "              <tr><td>Updated At</td><td>2024-07-30 15:55:59.141648+00:00</td></tr>\n",
       "              <tr><td>Replaces</td><td></td></tr>\n",
       "              <tr>\n",
       "                  <td>Docker Run Command</td>\n",
       "                  <td>\n",
       "                      <table><tr><td>\n",
       "<pre style=\"text-align: left\">docker run -v $PERSISTENT_VOLUME_DIR:/persist \\\n",
       "    -p $EDGE_PORT:8080 \\\n",
       "    -e OCI_USERNAME=$OCI_USERNAME \\\n",
       "    -e OCI_PASSWORD=$OCI_PASSWORD \\\n",
       "    -e EDGE_BUNDLE=ZXhwb3J0IEJVTkRMRV9WRVJTSU9OPTEKZXhwb3J0IENPTkZJR19DUFVTPTQKZXhwb3J0IEVER0VfTkFNRT1ob3VzZXByaWNlLWVkZ2UtZGVtb25zdHJhdGlvbi0wMgpleHBvcnQgT1BTQ0VOVEVSX0hPU1Q9ZG9jLXRlc3Qud2FsbGFyb29jb21tdW5pdHkubmluamEKZXhwb3J0IFBJUEVMSU5FX1VSTD1naGNyLmlvL3dhbGxhcm9vbGFicy9kb2Mtc2FtcGxlcy9waXBlbGluZXMvYXNzYXktZGVtb25zdHJhdGlvbi10dXRvcmlhbDplMWFiZTkyZi04MmQyLTQ5NGEtOGQ5Ni1kYmQ1ODEwZGMxOTgKZXhwb3J0IEpPSU5fVE9LRU49MDg1NmUwYTgtZWIxMC00NDA3LTk2ODYtM2JhZTUwY2RmYTZjCmV4cG9ydCBPQ0lfUkVHSVNUUlk9Z2hjci5pbw==\\\n",
       "    -e PIPELINE_URL=ghcr.io/wallaroolabs/doc-samples/pipelines/assay-demonstration-tutorial:e1abe92f-82d2-494a-8d96-dbd5810dc198 \\\n",
       "    -e CONFIG_CPUS=4 ghcr.io/wallaroolabs/doc-samples/engines/proxy/wallaroo/ghcr.io/wallaroolabs/fitzroy-mini:v2024.2.0-main-5455</pre></td></tr></table>\n",
       "                      <br />\n",
       "                      <i>\n",
       "                          Note: Please set the <code>PERSISTENT_VOLUME_DIR</code>, <code>EDGE_PORT</code>, <code>OCI_USERNAME</code>, and <code>OCI_PASSWORD</code> environment variables.\n",
       "                      </i>\n",
       "                  </td>\n",
       "              </tr>\n",
       "              <tr>\n",
       "                  <td>Helm Install Command</td>\n",
       "                  <td>\n",
       "                      <table><tr><td>\n",
       "<pre style=\"text-align: left\">helm install --atomic $HELM_INSTALL_NAME \\\n",
       "    oci://ghcr.io/wallaroolabs/doc-samples/charts/assay-demonstration-tutorial \\\n",
       "    --namespace $HELM_INSTALL_NAMESPACE \\\n",
       "    --version 0.0.1-e1abe92f-82d2-494a-8d96-dbd5810dc198 \\\n",
       "    --set ociRegistry.username=$OCI_USERNAME \\\n",
       "    --set ociRegistry.password=$OCI_PASSWORD \\\n",
       "    --set edgeBundle=ZXhwb3J0IEJVTkRMRV9WRVJTSU9OPTEKZXhwb3J0IENPTkZJR19DUFVTPTQKZXhwb3J0IEVER0VfTkFNRT1ob3VzZXByaWNlLWVkZ2UtZGVtb25zdHJhdGlvbi0wMgpleHBvcnQgT1BTQ0VOVEVSX0hPU1Q9ZG9jLXRlc3Qud2FsbGFyb29jb21tdW5pdHkubmluamEKZXhwb3J0IFBJUEVMSU5FX1VSTD1naGNyLmlvL3dhbGxhcm9vbGFicy9kb2Mtc2FtcGxlcy9waXBlbGluZXMvYXNzYXktZGVtb25zdHJhdGlvbi10dXRvcmlhbDplMWFiZTkyZi04MmQyLTQ5NGEtOGQ5Ni1kYmQ1ODEwZGMxOTgKZXhwb3J0IEpPSU5fVE9LRU49MDg1NmUwYTgtZWIxMC00NDA3LTk2ODYtM2JhZTUwY2RmYTZjCmV4cG9ydCBPQ0lfUkVHSVNUUlk9Z2hjci5pbw==</pre></td></tr></table>\n",
       "                      <br />\n",
       "                      <i>\n",
       "                          Note: Please set the <code>HELM_INSTALL_NAME</code>, <code>HELM_INSTALL_NAMESPACE</code>,\n",
       "                          <code>OCI_USERNAME</code>, and <code>OCI_PASSWORD</code> environment variables.\n",
       "                      </i>\n",
       "                  </td>\n",
       "              </tr>\n",
       "              \n",
       "          </table>\n",
       "        "
      ],
      "text/plain": [
       "PipelinePublish(created_at=datetime.datetime(2024, 7, 30, 15, 55, 59, 141648, tzinfo=tzutc()), docker_run_variables={'EDGE_BUNDLE': 'ZXhwb3J0IEJVTkRMRV9WRVJTSU9OPTEKZXhwb3J0IENPTkZJR19DUFVTPTQKZXhwb3J0IEVER0VfTkFNRT1ob3VzZXByaWNlLWVkZ2UtZGVtb25zdHJhdGlvbi0wMgpleHBvcnQgT1BTQ0VOVEVSX0hPU1Q9ZG9jLXRlc3Qud2FsbGFyb29jb21tdW5pdHkubmluamEKZXhwb3J0IFBJUEVMSU5FX1VSTD1naGNyLmlvL3dhbGxhcm9vbGFicy9kb2Mtc2FtcGxlcy9waXBlbGluZXMvYXNzYXktZGVtb25zdHJhdGlvbi10dXRvcmlhbDplMWFiZTkyZi04MmQyLTQ5NGEtOGQ5Ni1kYmQ1ODEwZGMxOTgKZXhwb3J0IEpPSU5fVE9LRU49MDg1NmUwYTgtZWIxMC00NDA3LTk2ODYtM2JhZTUwY2RmYTZjCmV4cG9ydCBPQ0lfUkVHSVNUUlk9Z2hjci5pbw==', 'PIPELINE_URL': 'ghcr.io/wallaroolabs/doc-samples/pipelines/assay-demonstration-tutorial:e1abe92f-82d2-494a-8d96-dbd5810dc198'}, engine_config={'engine': {'resources': {'limits': {'cpu': 4.0, 'memory': '3Gi'}, 'requests': {'cpu': 4.0, 'memory': '3Gi'}, 'accel': 'none', 'arch': 'x86', 'gpu': False}}, 'engineAux': {'autoscale': {'type': 'none'}, 'images': None}}, id=1, pipeline_name='assay-demonstration-tutorial', pipeline_version_id=60, replaces=[], status='Published', updated_at=datetime.datetime(2024, 7, 30, 15, 55, 59, 141648, tzinfo=tzutc()), user_images=[], created_by='fb2916bc-551e-4a76-88e8-0f7d7720a0f9', created_on_version='2024.2.0', edge_bundles=<wallaroo.wallaroo_ml_ops_api_client.types.Unset object at 0x126ff5e80>, engine_url='ghcr.io/wallaroolabs/doc-samples/engines/proxy/wallaroo/ghcr.io/wallaroolabs/fitzroy-mini:v2024.2.0-main-5455', error=None, helm={'reference': 'ghcr.io/wallaroolabs/doc-samples/charts@sha256:1e13d208c02930ef2ee5d9ebc24f38bc44383cb9866c568d88009d2741e0aba5', 'values': {'edgeBundle': 'ZXhwb3J0IEJVTkRMRV9WRVJTSU9OPTEKZXhwb3J0IENPTkZJR19DUFVTPTQKZXhwb3J0IEVER0VfTkFNRT1ob3VzZXByaWNlLWVkZ2UtZGVtb25zdHJhdGlvbi0wMgpleHBvcnQgT1BTQ0VOVEVSX0hPU1Q9ZG9jLXRlc3Qud2FsbGFyb29jb21tdW5pdHkubmluamEKZXhwb3J0IFBJUEVMSU5FX1VSTD1naGNyLmlvL3dhbGxhcm9vbGFicy9kb2Mtc2FtcGxlcy9waXBlbGluZXMvYXNzYXktZGVtb25zdHJhdGlvbi10dXRvcmlhbDplMWFiZTkyZi04MmQyLTQ5NGEtOGQ5Ni1kYmQ1ODEwZGMxOTgKZXhwb3J0IEpPSU5fVE9LRU49MDg1NmUwYTgtZWIxMC00NDA3LTk2ODYtM2JhZTUwY2RmYTZjCmV4cG9ydCBPQ0lfUkVHSVNUUlk9Z2hjci5pbw=='}, 'chart': 'ghcr.io/wallaroolabs/doc-samples/charts/assay-demonstration-tutorial', 'version': '0.0.1-e1abe92f-82d2-494a-8d96-dbd5810dc198'}, pipeline_url='ghcr.io/wallaroolabs/doc-samples/pipelines/assay-demonstration-tutorial:e1abe92f-82d2-494a-8d96-dbd5810dc198', pipeline_version_name='e1abe92f-82d2-494a-8d96-dbd5810dc198', additional_properties={})"
      ]
     },
     "metadata": {},
     "output_type": "display_data"
    }
   ],
   "source": [
    "edge_name_02 = \"houseprice-edge-demonstration-02\"\n",
    "edge_publish_02 = assay_pub.add_edge(edge_name_02)\n",
    "display(edge_publish_02)"
   ]
  },
  {
   "cell_type": "markdown",
   "metadata": {},
   "source": [
    "### DevOps Deployment\n",
    "\n",
    "The edge deployment is performed with `docker run`, `docker compose`, or `helm` installations.  For our examples, we'll verify the following variables are set for the `docker run` deployment:\n",
    "\n",
    "* `$PERSISTENT_VOLUME_DIR`: The location of the persistent volume storage for the deployment.\n",
    "* `$EDGE_PORT`: The external port to access the edge deployment endpoints.  By default, this is port `8080`.  Since there are two deployments, verify that both are on separate ports.  For our examples, we'll use port `8080` and `8081`.\n",
    "* `$OCI_USERNAME`: The OCI registry username.\n",
    "* `$OCI_PASSWORD`: The OCI registry password.\n",
    "\n",
    "For more details on model edge deployments with Wallaroo, see [Model Operations: Run Anywhere](https://docs.wallaroo.ai/wallaroo-model-operations/wallaroo-model-operations-run-anywhere/)."
   ]
  },
  {
   "cell_type": "markdown",
   "metadata": {},
   "source": [
    "## Next Steps\n",
    "\n",
    "The next notebook \"Wallaroo Run Anywhere Model Drift Observability with Assays\" details creating assay baselines from model edge deployments, and using the data from one or more edge locations to detect model drift."
   ]
  }
 ],
 "metadata": {
  "kernelspec": {
   "display_name": "wallaroosdk2024.2",
   "language": "python",
   "name": "python3"
  },
  "language_info": {
   "codemirror_mode": {
    "name": "ipython",
    "version": 3
   },
   "file_extension": ".py",
   "mimetype": "text/x-python",
   "name": "python",
   "nbconvert_exporter": "python",
   "pygments_lexer": "ipython3",
   "version": "3.8.20"
  }
 },
 "nbformat": 4,
 "nbformat_minor": 4
}
