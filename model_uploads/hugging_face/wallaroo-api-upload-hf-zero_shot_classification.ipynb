{
 "cells": [
  {
   "attachments": {},
   "cell_type": "markdown",
   "id": "2cb6bead-18a0-4bbb-b489-a87dcd26b097",
   "metadata": {},
   "source": [
    "# Wallaroo `upload_model` API Example"
   ]
  },
  {
   "attachments": {},
   "cell_type": "markdown",
   "id": "4599c29f-7d53-4302-9f81-0e9494311b73",
   "metadata": {},
   "source": [
    "In order to call the `upload_model` endpoint, you need to have the following things ready:\n",
    "\n",
    "- API Token\n",
    "- Input/Output Arrow Schemas, encoded in base64\n",
    "- `upload_model` usual arguments (i.e. model name, requirements, framework etc.)"
   ]
  },
  {
   "attachments": {},
   "cell_type": "markdown",
   "id": "b34a09f5-8351-4c81-86fa-0a57628a7c84",
   "metadata": {},
   "source": [
    "### `upload_model` Example Call\n",
    "\n",
    "```bash\n",
    "curl --progress-bar -X POST \\\n",
    "  -H \"Content-Type: multipart/form-data\" \\\n",
    "  -H \"Authorization: Bearer <token here>\" \\\n",
    "  -F 'metadata={ \"name\": \"gpt4all\", \"visibility\": \"private\", \"workspace_id\": 6, \"conversion\": {\"framework\": \"hugging-face-text-generation\", \"python_version\": \"3.8\", \"requirements\": []}, \"input_schema\": <base64 input schema here>, \"output_schema\": <base64 output schema here>};type=application/json' \\\n",
    "  -F \"file=@model-auto-conversion_hugging-face_LLM_gpt4all-groovy-hf-pipeline.zip;type=application/octet-stream\" \\\n",
    "  https://autoscale-uat-ee.wallaroo.dev/v1/api/models/upload_and_convert | cat\n",
    "```"
   ]
  },
  {
   "attachments": {},
   "cell_type": "markdown",
   "id": "a8365423-2349-4ef7-b264-117a7bd9d450",
   "metadata": {},
   "source": [
    "### Generating Input/Output Encoded Schemas"
   ]
  },
  {
   "attachments": {},
   "cell_type": "markdown",
   "id": "955d2735-435b-4798-8435-f60df22c21d9",
   "metadata": {},
   "source": [
    "```python\n",
    "base64.b64encode(\n",
    "                bytes(input_schema.serialize())\n",
    "            ).decode(\"utf8\")\n",
    "\n",
    "base64.b64encode(\n",
    "                bytes(output_schema.serialize())\n",
    "            ).decode(\"utf8\")\n",
    "```"
   ]
  },
  {
   "attachments": {},
   "cell_type": "markdown",
   "id": "c48fd601-4f28-49b0-9038-c29c45aa249e",
   "metadata": {},
   "source": [
    "## Python Example\n",
    "\n",
    "In order to show a concrete example of a request made in Python, we will show a HuggingFace Text Classification model uploaded with an API call."
   ]
  },
  {
   "attachments": {},
   "cell_type": "markdown",
   "id": "3b2576c6-4957-4719-9890-938f1bf0c124",
   "metadata": {},
   "source": [
    "### Imports"
   ]
  },
  {
   "cell_type": "code",
   "execution_count": 1,
   "id": "c6927816-377d-4e70-91e5-42ffba68a071",
   "metadata": {},
   "outputs": [],
   "source": [
    "import json\n",
    "import os\n",
    "import requests\n",
    "import base64\n",
    "\n",
    "import wallaroo\n",
    "from wallaroo.pipeline   import Pipeline\n",
    "from wallaroo.deployment_config import DeploymentConfigBuilder\n",
    "from wallaroo.framework import Framework\n",
    "\n",
    "import pyarrow as pa\n",
    "import numpy as np\n",
    "import pandas as pd"
   ]
  },
  {
   "attachments": {},
   "cell_type": "markdown",
   "id": "de0717ef-5f5a-4651-b713-6afe58ed5378",
   "metadata": {},
   "source": [
    "### Get framework"
   ]
  },
  {
   "cell_type": "code",
   "execution_count": 2,
   "id": "338b60ce",
   "metadata": {},
   "outputs": [
    {
     "name": "stdout",
     "output_type": "stream",
     "text": [
      "Please log into the following URL in a web browser:\n",
      "\n",
      "\thttps://keycloak.autoscale-uat-ee.wallaroo.dev/auth/realms/master/device?user_code=FNAR-NMFT\n",
      "\n",
      "Login successful!\n"
     ]
    }
   ],
   "source": [
    "# wl = wallaroo.Client(auth_type=\"sso\", interactive=True)\n",
    "\n",
    "wallarooPrefix = \"\"\n",
    "wallarooSuffix = \"autoscale-uat-ee.wallaroo.dev\"\n",
    "\n",
    "wl = wallaroo.Client(api_endpoint=f\"https://{wallarooPrefix}api.{wallarooSuffix}\", \n",
    "                    auth_endpoint=f\"https://{wallarooPrefix}keycloak.{wallarooSuffix}\", \n",
    "                    auth_type=\"sso\")"
   ]
  },
  {
   "cell_type": "code",
   "execution_count": 3,
   "id": "09bf1fc9-e35a-4005-9af4-413ddc9078b1",
   "metadata": {},
   "outputs": [
    {
     "data": {
      "text/plain": [
       "['onnx',\n",
       " 'tensorflow',\n",
       " 'python',\n",
       " 'keras',\n",
       " 'sklearn',\n",
       " 'pytorch',\n",
       " 'xgboost',\n",
       " 'hugging-face-feature-extraction',\n",
       " 'hugging-face-image-classification',\n",
       " 'hugging-face-image-segmentation',\n",
       " 'hugging-face-image-to-text',\n",
       " 'hugging-face-object-detection',\n",
       " 'hugging-face-question-answering',\n",
       " 'hugging-face-stable-diffusion-text-2-img',\n",
       " 'hugging-face-summarization',\n",
       " 'hugging-face-text-classification',\n",
       " 'hugging-face-translation',\n",
       " 'hugging-face-zero-shot-classification',\n",
       " 'hugging-face-zero-shot-image-classification',\n",
       " 'hugging-face-zero-shot-object-detection',\n",
       " 'hugging-face-sentiment-analysis',\n",
       " 'hugging-face-text-generation',\n",
       " 'custom']"
      ]
     },
     "execution_count": 3,
     "metadata": {},
     "output_type": "execute_result"
    }
   ],
   "source": [
    "[e.value for e in Framework]"
   ]
  },
  {
   "attachments": {},
   "cell_type": "markdown",
   "id": "a3d273b1-88f1-44cc-bc01-7739a696d5f6",
   "metadata": {},
   "source": [
    "### Configure PyArrow Schemas"
   ]
  },
  {
   "cell_type": "code",
   "execution_count": 4,
   "id": "68a11377-f837-4583-bbeb-52e4316e4cb2",
   "metadata": {},
   "outputs": [],
   "source": [
    "input_schema = pa.schema([\n",
    "    pa.field('inputs', pa.string()), # required\n",
    "    pa.field('candidate_labels', pa.list_(pa.string(), list_size=2)), # required\n",
    "    pa.field('hypothesis_template', pa.string()), # optional\n",
    "    pa.field('multi_label', pa.bool_()), # optional\n",
    "])\n",
    "\n",
    "output_schema = pa.schema([\n",
    "    pa.field('sequence', pa.string()),\n",
    "    pa.field('scores', pa.list_(pa.float64(), list_size=2)), # same as number of candidate labels, list_size can be skipped by may result in slightly worse performance\n",
    "    pa.field('labels', pa.list_(pa.string(), list_size=2)), # same as number of candidate labels, list_size can be skipped by may result in slightly worse performance\n",
    "])"
   ]
  },
  {
   "cell_type": "code",
   "execution_count": 5,
   "id": "13de6c8a-4c21-43f2-9e94-637bb9466e92",
   "metadata": {},
   "outputs": [
    {
     "data": {
      "text/plain": [
       "'/////0gBAAAQAAAAAAAKAAwABgAFAAgACgAAAAABBAAMAAAACAAIAAAABAAIAAAABAAAAAQAAADoAAAAbAAAADQAAAAEAAAAOP///wAAAQYQAAAAHAAAAAQAAAAAAAAACwAAAG11bHRpX2xhYmVsACz///9k////AAABBRAAAAAkAAAABAAAAAAAAAATAAAAaHlwb3RoZXNpc190ZW1wbGF0ZQBg////mP///wAAARAUAAAALAAAAAQAAAABAAAAKAAAABAAAABjYW5kaWRhdGVfbGFiZWxzAAAGAAgABAAGAAAAAgAAANj///8AAAEFEAAAABgAAAAEAAAAAAAAAAQAAABpdGVtAAAAAMj///8QABQACAAGAAcADAAAABAAEAAAAAAAAQUQAAAAHAAAAAQAAAAAAAAABgAAAGlucHV0cwAABAAEAAQAAAAAAAAA'"
      ]
     },
     "execution_count": 5,
     "metadata": {},
     "output_type": "execute_result"
    }
   ],
   "source": [
    "encoded_input_schema = base64.b64encode(\n",
    "                bytes(input_schema.serialize())\n",
    "            ).decode(\"utf8\")\n",
    "encoded_input_schema"
   ]
  },
  {
   "cell_type": "code",
   "execution_count": 6,
   "id": "f85093fc-45a7-42b8-a4d0-32584275e685",
   "metadata": {},
   "outputs": [
    {
     "data": {
      "text/plain": [
       "'/////0ABAAAQAAAAAAAKAAwABgAFAAgACgAAAAABBAAMAAAACAAIAAAABAAIAAAABAAAAAMAAADcAAAAYAAAAAQAAABA////AAABEBQAAAAcAAAABAAAAAEAAAAYAAAABgAAAGxhYmVscwAApv///wIAAABw////AAABBRAAAAAYAAAABAAAAAAAAAAEAAAAaXRlbQAAAABc////mP///wAAARAUAAAAJAAAAAQAAAABAAAAIAAAAAYAAABzY29yZXMAAAAABgAIAAQABgAAAAIAAADQ////AAABAxAAAAAcAAAABAAAAAAAAAAEAAAAaXRlbQAABgAIAAYABgAAAAAAAgAQABQACAAGAAcADAAAABAAEAAAAAAAAQUQAAAAIAAAAAQAAAAAAAAACAAAAHNlcXVlbmNlAAAAAAQABAAEAAAAAAAAAA=='"
      ]
     },
     "execution_count": 6,
     "metadata": {},
     "output_type": "execute_result"
    }
   ],
   "source": [
    "encoded_output_schema = base64.b64encode(\n",
    "                bytes(output_schema.serialize())\n",
    "            ).decode(\"utf8\")\n",
    "encoded_output_schema"
   ]
  },
  {
   "attachments": {},
   "cell_type": "markdown",
   "id": "44fe463a-4d4c-490f-9445-a1f3c17d5534",
   "metadata": {},
   "source": [
    "### Build the request"
   ]
  },
  {
   "cell_type": "code",
   "execution_count": 7,
   "id": "c93692cd-8f3a-4254-acb4-c1d5bd6652ce",
   "metadata": {},
   "outputs": [],
   "source": [
    "# API_TOKEN = \"token\""
   ]
  },
  {
   "cell_type": "code",
   "execution_count": 8,
   "id": "6fbd36eb-c122-4b27-9282-cb2d32431913",
   "metadata": {},
   "outputs": [],
   "source": [
    "model_name = \"zero-shot-classification-test\"\n",
    "workspace_id = 29\n",
    "framework = \"hugging-face-zero-shot-classification\"\n",
    "model_path = \"./models/model-auto-conversion_hugging-face_dummy-pipelines_zero-shot-classification-pipeline.zip\""
   ]
  },
  {
   "cell_type": "code",
   "execution_count": 9,
   "id": "b9ec317e-398b-48a4-b45f-8f164378a68c",
   "metadata": {},
   "outputs": [],
   "source": [
    "metadata = {\n",
    "    \"name\": model_name,\n",
    "    \"visibility\": \"private\",\n",
    "    \"workspace_id\": workspace_id,\n",
    "    \"conversion\": {\n",
    "        \"framework\": framework,\n",
    "        \"python_version\": \"3.8\",\n",
    "        \"requirements\": []\n",
    "    },\n",
    "    \"input_schema\": encoded_input_schema,\n",
    "    \"output_schema\": encoded_output_schema,\n",
    "}"
   ]
  },
  {
   "cell_type": "code",
   "execution_count": 10,
   "id": "b1c401db-3244-4085-ae16-af8c2637aa4e",
   "metadata": {
    "tags": []
   },
   "outputs": [],
   "source": [
    "headers = wl.auth.auth_header()\n",
    "\n",
    "# headers = {\n",
    "#     'Content-Type': 'multipart/form-data',\n",
    "#     'Authorization': f'Bearer {API_TOKEN}',\n",
    "# }\n",
    "\n",
    "files = {\n",
    "    'metadata': (None, json.dumps(metadata), \"application/json\"),\n",
    "    'file': (model_name, open(model_path,'rb'),'application/octet-stream')\n",
    "}\n",
    "\n",
    "response = requests.post('https://autoscale-uat-ee.wallaroo.dev/v1/api/models/upload_and_convert', \n",
    "                         headers=headers, \n",
    "                         files=files)"
   ]
  },
  {
   "cell_type": "code",
   "execution_count": 12,
   "id": "59a54e10",
   "metadata": {},
   "outputs": [
    {
     "name": "stdout",
     "output_type": "stream",
     "text": [
      "{'insert_models': {'returning': [{'models': [{'id': 208}]}]}}\n"
     ]
    }
   ],
   "source": [
    "print(response.json())"
   ]
  }
 ],
 "metadata": {
  "kernelspec": {
   "display_name": "Python 3 (ipykernel)",
   "language": "python",
   "name": "python3"
  },
  "language_info": {
   "codemirror_mode": {
    "name": "ipython",
    "version": 3
   },
   "file_extension": ".py",
   "mimetype": "text/x-python",
   "name": "python",
   "nbconvert_exporter": "python",
   "pygments_lexer": "ipython3",
   "version": "3.9.16"
  }
 },
 "nbformat": 4,
 "nbformat_minor": 5
}
