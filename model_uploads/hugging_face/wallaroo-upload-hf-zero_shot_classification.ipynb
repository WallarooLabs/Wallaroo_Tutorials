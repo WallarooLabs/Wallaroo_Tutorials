{
 "cells": [
  {
   "attachments": {},
   "cell_type": "markdown",
   "id": "31d3240f",
   "metadata": {},
   "source": [
    "# Zero Shot Classification (text) Pipeline Example"
   ]
  },
  {
   "attachments": {},
   "cell_type": "markdown",
   "id": "1c33e888-28a8-48cc-b418-2d95ad206d98",
   "metadata": {},
   "source": [
    "## Imports"
   ]
  },
  {
   "cell_type": "code",
   "execution_count": 1,
   "id": "af8228fc-00ce-4770-a863-8985633605b3",
   "metadata": {},
   "outputs": [],
   "source": [
    "import json\n",
    "import os\n",
    "\n",
    "import wallaroo\n",
    "from wallaroo.pipeline   import Pipeline\n",
    "from wallaroo.deployment_config import DeploymentConfigBuilder\n",
    "from wallaroo.framework import Framework\n",
    "\n",
    "import pyarrow as pa\n",
    "import numpy as np\n",
    "import pandas as pd"
   ]
  },
  {
   "cell_type": "code",
   "execution_count": null,
   "id": "4c058c29",
   "metadata": {},
   "outputs": [],
   "source": [
    "wl = wallaroo.Client(auth_type=\"sso\", interactive=True)"
   ]
  },
  {
   "attachments": {},
   "cell_type": "markdown",
   "id": "b08a8480-293f-405b-a58f-b8e852dbe2ad",
   "metadata": {},
   "source": [
    "### Configure PyArrow Schema\n",
    "\n",
    "You can find more info on the available inputs under the [official source code](https://github.com/huggingface/transformers/blob/v4.28.1/src/transformers/pipelines/zero_shot_classification.py#L172) from `🤗 Hugging Face`."
   ]
  },
  {
   "cell_type": "code",
   "execution_count": 4,
   "id": "ef115ab9-9c73-4c28-aad8-e915a92a746b",
   "metadata": {},
   "outputs": [],
   "source": [
    "input_schema = pa.schema([\n",
    "    pa.field('inputs', pa.string()), # required\n",
    "    pa.field('candidate_labels', pa.list_(pa.string(), list_size=2)), # required\n",
    "    pa.field('hypothesis_template', pa.string()), # optional\n",
    "    pa.field('multi_label', pa.bool_()), # optional\n",
    "])\n",
    "\n",
    "output_schema = pa.schema([\n",
    "    pa.field('sequence', pa.string()),\n",
    "    pa.field('scores', pa.list_(pa.float64(), list_size=2)), # same as number of candidate labels, list_size can be skipped by may result in slightly worse performance\n",
    "    pa.field('labels', pa.list_(pa.string(), list_size=2)), # same as number of candidate labels, list_size can be skipped by may result in slightly worse performance\n",
    "])"
   ]
  },
  {
   "attachments": {},
   "cell_type": "markdown",
   "id": "8a6796f1",
   "metadata": {},
   "source": [
    "### Upload Model"
   ]
  },
  {
   "cell_type": "code",
   "execution_count": null,
   "id": "953e0857-45ec-4603-b0be-3bba13df5db8",
   "metadata": {
    "tags": []
   },
   "outputs": [
    {
     "name": "stdout",
     "output_type": "stream",
     "text": [
      "Waiting for model conversion... It may take up to 10.0min.\n",
      "Model is Pending conversion..Converting............Ready.\n"
     ]
    },
    {
     "data": {
      "text/plain": [
       "{'name': 'hf-zero-shot-classification-new-2', 'version': 'c40be249-4e25-47aa-8c80-3b932d6c5d23', 'file_name': 'zero-shot-classification-pipeline.zip', 'image_path': 'ghcr.io/wallaroolabs/mlflow-deploy:main', 'last_update_time': datetime.datetime(2023, 6, 9, 12, 14, 49, 928287, tzinfo=tzutc())}"
      ]
     },
     "execution_count": 5,
     "metadata": {},
     "output_type": "execute_result"
    }
   ],
   "source": [
    "model = wl.upload_model('hf-zero-shot-classification', \n",
    "                        'models/hugging-face/zero-shot-classification-pipeline.zip', \n",
    "                        framework=Framework.HUGGING_FACE_ZERO_SHOT_CLASSIFICATION, \n",
    "                        input_schema=input_schema, \n",
    "                        output_schema=output_schema)\n",
    "model"
   ]
  },
  {
   "attachments": {},
   "cell_type": "markdown",
   "id": "bdbb0930-8246-4731-84f9-eb1e0e1d9091",
   "metadata": {},
   "source": [
    "## Deploy Pipeline"
   ]
  },
  {
   "cell_type": "code",
   "execution_count": 8,
   "id": "c1ac85a4-1978-4fb9-91c4-a4d728ed04af",
   "metadata": {},
   "outputs": [],
   "source": [
    "deployment_config = DeploymentConfigBuilder() \\\n",
    "    .cpus(0.25).memory('1Gi') \\\n",
    "    .build()"
   ]
  },
  {
   "cell_type": "code",
   "execution_count": 9,
   "id": "ea455f46-6f8b-4d5f-a195-74634c0c886b",
   "metadata": {
    "tags": []
   },
   "outputs": [
    {
     "name": "stdout",
     "output_type": "stream",
     "text": [
      "Waiting for deployment - this will take up to 90s .............. ok\n"
     ]
    },
    {
     "data": {
      "text/plain": [
       "{'status': 'Running',\n",
       " 'details': [],\n",
       " 'engines': [{'ip': '10.24.32.219',\n",
       "   'name': 'engine-58ccb99c7-vrmpw',\n",
       "   'status': 'Running',\n",
       "   'reason': None,\n",
       "   'details': [],\n",
       "   'pipeline_statuses': {'pipelines': [{'id': 'hf-zero-shot-classification-pipeline',\n",
       "      'status': 'Running'}]},\n",
       "   'model_statuses': {'models': [{'name': 'hf-zero-shot-classification-new-2',\n",
       "      'version': 'c40be249-4e25-47aa-8c80-3b932d6c5d23',\n",
       "      'sha': '3dcc14dd925489d4f0a3960e90a7ab5917ab685ce955beca8924aa7bb9a69398',\n",
       "      'status': 'Running'}]}}],\n",
       " 'engine_lbs': [{'ip': '10.24.32.218',\n",
       "   'name': 'engine-lb-7866867b55-9bpz9',\n",
       "   'status': 'Running',\n",
       "   'reason': None,\n",
       "   'details': []}],\n",
       " 'sidekicks': [{'ip': '10.24.32.217',\n",
       "   'name': 'engine-sidekick-hf-zero-shot-classification-new-2-42-56445vnd82',\n",
       "   'status': 'Running',\n",
       "   'reason': None,\n",
       "   'details': [],\n",
       "   'statuses': '\\n'}]}"
      ]
     },
     "execution_count": 9,
     "metadata": {},
     "output_type": "execute_result"
    }
   ],
   "source": [
    "pipeline_name = \"hf-zero-shot-classification-pipeline\"\n",
    "pipeline = wl.build_pipeline(pipeline_name)\n",
    "pipeline.add_model_step(model)\n",
    "\n",
    "pipeline.deploy(deployment_config=deployment_config)\n",
    "pipeline.status()"
   ]
  },
  {
   "attachments": {},
   "cell_type": "markdown",
   "id": "8f305561-adc4-4362-9b83-547815a73fa5",
   "metadata": {
    "toc-hr-collapsed": true
   },
   "source": [
    "## Run inference"
   ]
  },
  {
   "cell_type": "code",
   "execution_count": 10,
   "id": "b6d85172-8168-4f02-8442-426331ccdcd6",
   "metadata": {
    "tags": []
   },
   "outputs": [
    {
     "data": {
      "text/html": [
       "<div>\n",
       "<style scoped>\n",
       "    .dataframe tbody tr th:only-of-type {\n",
       "        vertical-align: middle;\n",
       "    }\n",
       "\n",
       "    .dataframe tbody tr th {\n",
       "        vertical-align: top;\n",
       "    }\n",
       "\n",
       "    .dataframe thead th {\n",
       "        text-align: right;\n",
       "    }\n",
       "</style>\n",
       "<table border=\"1\" class=\"dataframe\">\n",
       "  <thead>\n",
       "    <tr style=\"text-align: right;\">\n",
       "      <th></th>\n",
       "      <th>inputs</th>\n",
       "      <th>candidate_labels</th>\n",
       "      <th>hypothesis_template</th>\n",
       "      <th>multi_label</th>\n",
       "    </tr>\n",
       "  </thead>\n",
       "  <tbody>\n",
       "    <tr>\n",
       "      <th>0</th>\n",
       "      <td>this is a test</td>\n",
       "      <td>[english, german]</td>\n",
       "      <td>This example is {}.</td>\n",
       "      <td>False</td>\n",
       "    </tr>\n",
       "    <tr>\n",
       "      <th>1</th>\n",
       "      <td>this is another test</td>\n",
       "      <td>[english, german]</td>\n",
       "      <td>This example is {}.</td>\n",
       "      <td>False</td>\n",
       "    </tr>\n",
       "  </tbody>\n",
       "</table>\n",
       "</div>"
      ],
      "text/plain": [
       "                 inputs   candidate_labels  hypothesis_template  multi_label\n",
       "0        this is a test  [english, german]  This example is {}.        False\n",
       "1  this is another test  [english, german]  This example is {}.        False"
      ]
     },
     "execution_count": 10,
     "metadata": {},
     "output_type": "execute_result"
    }
   ],
   "source": [
    "input_data = {\n",
    "        \"inputs\": [\"this is a test\", \"this is another test\"], # required\n",
    "        \"candidate_labels\": [[\"english\", \"german\"], [\"english\", \"german\"]], # optional: using the defaults, similar to not passing this parameter\n",
    "        \"hypothesis_template\": [\"This example is {}.\", \"This example is {}.\"], # optional: using the defaults, similar to not passing this parameter\n",
    "        \"multi_label\": [False, False], # optional: using the defaults, similar to not passing this parameter\n",
    "}\n",
    "dataframe = pd.DataFrame(input_data)\n",
    "dataframe"
   ]
  },
  {
   "cell_type": "code",
   "execution_count": 11,
   "id": "fa078ffd-859e-4706-8729-9e7d78f8bf60",
   "metadata": {},
   "outputs": [
    {
     "name": "stdout",
     "output_type": "stream",
     "text": [
      "CPU times: user 2 µs, sys: 0 ns, total: 2 µs\n",
      "Wall time: 5.96 µs\n"
     ]
    },
    {
     "data": {
      "text/html": [
       "<div>\n",
       "<style scoped>\n",
       "    .dataframe tbody tr th:only-of-type {\n",
       "        vertical-align: middle;\n",
       "    }\n",
       "\n",
       "    .dataframe tbody tr th {\n",
       "        vertical-align: top;\n",
       "    }\n",
       "\n",
       "    .dataframe thead th {\n",
       "        text-align: right;\n",
       "    }\n",
       "</style>\n",
       "<table border=\"1\" class=\"dataframe\">\n",
       "  <thead>\n",
       "    <tr style=\"text-align: right;\">\n",
       "      <th></th>\n",
       "      <th>time</th>\n",
       "      <th>in.candidate_labels</th>\n",
       "      <th>in.hypothesis_template</th>\n",
       "      <th>in.inputs</th>\n",
       "      <th>in.multi_label</th>\n",
       "      <th>out.labels</th>\n",
       "      <th>out.scores</th>\n",
       "      <th>out.sequence</th>\n",
       "      <th>check_failures</th>\n",
       "    </tr>\n",
       "  </thead>\n",
       "  <tbody>\n",
       "    <tr>\n",
       "      <th>0</th>\n",
       "      <td>2023-06-09 12:15:54.467</td>\n",
       "      <td>[english, german]</td>\n",
       "      <td>This example is {}.</td>\n",
       "      <td>this is a test</td>\n",
       "      <td>False</td>\n",
       "      <td>[english, german]</td>\n",
       "      <td>[0.504054605960846, 0.49594545364379883]</td>\n",
       "      <td>this is a test</td>\n",
       "      <td>0</td>\n",
       "    </tr>\n",
       "    <tr>\n",
       "      <th>1</th>\n",
       "      <td>2023-06-09 12:15:54.467</td>\n",
       "      <td>[english, german]</td>\n",
       "      <td>This example is {}.</td>\n",
       "      <td>this is another test</td>\n",
       "      <td>False</td>\n",
       "      <td>[english, german]</td>\n",
       "      <td>[0.5037839412689209, 0.4962160289287567]</td>\n",
       "      <td>this is another test</td>\n",
       "      <td>0</td>\n",
       "    </tr>\n",
       "  </tbody>\n",
       "</table>\n",
       "</div>"
      ],
      "text/plain": [
       "                     time in.candidate_labels in.hypothesis_template  \\\n",
       "0 2023-06-09 12:15:54.467   [english, german]    This example is {}.   \n",
       "1 2023-06-09 12:15:54.467   [english, german]    This example is {}.   \n",
       "\n",
       "              in.inputs  in.multi_label         out.labels  \\\n",
       "0        this is a test           False  [english, german]   \n",
       "1  this is another test           False  [english, german]   \n",
       "\n",
       "                                 out.scores          out.sequence  \\\n",
       "0  [0.504054605960846, 0.49594545364379883]        this is a test   \n",
       "1  [0.5037839412689209, 0.4962160289287567]  this is another test   \n",
       "\n",
       "   check_failures  \n",
       "0               0  \n",
       "1               0  "
      ]
     },
     "execution_count": 11,
     "metadata": {},
     "output_type": "execute_result"
    }
   ],
   "source": [
    "%time\n",
    "pipeline.infer(dataframe)"
   ]
  },
  {
   "attachments": {},
   "cell_type": "markdown",
   "id": "10efccd7-fd4a-4628-907c-e5d84397ea1c",
   "metadata": {},
   "source": [
    "## Undeploy Pipelines"
   ]
  },
  {
   "cell_type": "code",
   "execution_count": 12,
   "id": "34d053bc-b225-45e0-8e84-f45c30122f89",
   "metadata": {},
   "outputs": [
    {
     "name": "stdout",
     "output_type": "stream",
     "text": [
      "Waiting for undeployment - this will take up to 45s ..................................... ok\n",
      "Waiting for undeployment - this will take up to 45s .................................... ok\n",
      " ok\n",
      " ok\n",
      " ok\n",
      " ok\n",
      " ok\n",
      " ok\n",
      " ok\n",
      " ok\n",
      " ok\n",
      " ok\n",
      " ok\n",
      " ok\n",
      " ok\n",
      " ok\n",
      " ok\n",
      " ok\n"
     ]
    }
   ],
   "source": [
    "for pipeline in wl.list_pipelines():\n",
    "    pipeline.undeploy()"
   ]
  },
  {
   "cell_type": "code",
   "execution_count": null,
   "id": "52eb2f4a-0e8a-4878-a996-d8ec667c38b7",
   "metadata": {},
   "outputs": [],
   "source": []
  }
 ],
 "metadata": {
  "kernelspec": {
   "display_name": "Python 3 (ipykernel)",
   "language": "python",
   "name": "python3"
  },
  "language_info": {
   "codemirror_mode": {
    "name": "ipython",
    "version": 3
   },
   "file_extension": ".py",
   "mimetype": "text/x-python",
   "name": "python",
   "nbconvert_exporter": "python",
   "pygments_lexer": "ipython3",
   "version": "3.9.13"
  }
 },
 "nbformat": 4,
 "nbformat_minor": 5
}
