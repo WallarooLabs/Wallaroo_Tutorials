{
 "cells": [
  {
   "cell_type": "markdown",
   "id": "d1541638-48e2-4f9e-9a6c-1f868ba7f837",
   "metadata": {},
   "source": [
    "# BYOP Example"
   ]
  },
  {
   "cell_type": "markdown",
   "id": "55e78dca",
   "metadata": {},
   "source": [
    "## Summary\n",
    "\n",
    "On this notebook we will train a dummy `KMeans` model for clustering images using a pre-trained `VGG16` model on `cifar10` as a feature extractor. Finally, we will upload the model using the `Wallaroo SDK` and run inferences on unseen data."
   ]
  },
  {
   "cell_type": "markdown",
   "id": "3310912d",
   "metadata": {},
   "source": [
    "> If you want to skip the model training and Python implementation steps, the model is also available in model zoo [here](https://storage.cloud.google.com/wallaroo-model-zoo/model-auto-conversion/BYOP/vgg16_clustering.zip?authuser=0)."
   ]
  },
  {
   "cell_type": "markdown",
   "id": "d62d3dd1",
   "metadata": {},
   "source": [
    "> 🗒️ As mentioned in the docs, `custom_model/` should contain the following: \n",
    "> - all necessary model artifacts;\n",
    "> - one or multiple Python files implementing the aforementioned classes (i.e. `Inference` & `InferenceBuilder`). The user can use *any naming of their choice* for the implemented classes as long as they inherit from the appropriate base classes. The Python file(s) can also be arbitrarily named;\n",
    "> - a `requirements.txt` file with all necessary pip requirements to successfully run the inference;"
   ]
  },
  {
   "cell_type": "markdown",
   "id": "0a5216bd-3044-42ac-8514-98c90e5bbb38",
   "metadata": {},
   "source": [
    "## Imports"
   ]
  },
  {
   "cell_type": "code",
   "execution_count": 2,
   "id": "2fe9934d-7f28-4715-94df-e18da031a4c9",
   "metadata": {},
   "outputs": [],
   "source": [
    "import numpy as np\n",
    "import pandas as pd\n",
    "import json\n",
    "import os\n",
    "import pickle\n",
    "import pyarrow as pa\n",
    "import tensorflow as tf\n",
    "import wallaroo\n",
    "\n",
    "from sklearn.cluster import KMeans\n",
    "from tensorflow.keras.datasets import cifar10\n",
    "from tensorflow.keras import Model\n",
    "from tensorflow.keras.layers import Flatten\n",
    "from wallaroo.pipeline   import Pipeline\n",
    "from wallaroo.deployment_config import DeploymentConfigBuilder\n",
    "from wallaroo.framework import Framework\n",
    "\n",
    "wl = wallaroo.Client(auth_type=\"sso\", interactive=True)"
   ]
  },
  {
   "cell_type": "markdown",
   "id": "10bc8a4f-39d3-4b1d-aea4-2c53b313e84a",
   "metadata": {},
   "source": [
    "## Model training"
   ]
  },
  {
   "cell_type": "markdown",
   "id": "32ee2e0b-3582-45c0-b28e-9b2d216f41a9",
   "metadata": {},
   "source": [
    "### Load dataset"
   ]
  },
  {
   "cell_type": "code",
   "execution_count": 3,
   "id": "95586b16-a287-4d4e-9502-198c26e85046",
   "metadata": {},
   "outputs": [],
   "source": [
    "# Load and preprocess the CIFAR-10 dataset\n",
    "(X_train, y_train), (X_test, y_test) = cifar10.load_data()\n",
    "\n",
    "# Normalize the pixel values to be between 0 and 1\n",
    "X_train = X_train / 255.0\n",
    "X_test = X_test / 255.0"
   ]
  },
  {
   "cell_type": "code",
   "execution_count": 4,
   "id": "12aad2d1-7394-445a-90e7-fbb3afb0bfde",
   "metadata": {},
   "outputs": [
    {
     "data": {
      "text/plain": [
       "(50000, 32, 32, 3)"
      ]
     },
     "execution_count": 4,
     "metadata": {},
     "output_type": "execute_result"
    }
   ],
   "source": [
    "X_train.shape"
   ]
  },
  {
   "cell_type": "markdown",
   "id": "89f3d99c-0c4d-48f0-ada6-39284c51f1c1",
   "metadata": {},
   "source": [
    "### Train KMeans with VGG16 as feature extractor"
   ]
  },
  {
   "cell_type": "code",
   "execution_count": 5,
   "id": "730452fe-4d65-460a-9155-debd2a9efa6b",
   "metadata": {},
   "outputs": [
    {
     "name": "stderr",
     "output_type": "stream",
     "text": [
      "2023-06-28 16:32:29.023010: W tensorflow/stream_executor/platform/default/dso_loader.cc:64] Could not load dynamic library 'libcuda.so.1'; dlerror: libcuda.so.1: cannot open shared object file: No such file or directory\n",
      "2023-06-28 16:32:29.023038: W tensorflow/stream_executor/cuda/cuda_driver.cc:269] failed call to cuInit: UNKNOWN ERROR (303)\n",
      "2023-06-28 16:32:29.023060: I tensorflow/stream_executor/cuda/cuda_diagnostics.cc:156] kernel driver does not appear to be running on this host (jupyter-john-2ehummel-40wallaroo-2eai): /proc/driver/nvidia/version does not exist\n",
      "2023-06-28 16:32:29.028418: I tensorflow/core/platform/cpu_feature_guard.cc:151] This TensorFlow binary is optimized with oneAPI Deep Neural Network Library (oneDNN) to use the following CPU instructions in performance-critical operations:  AVX2 AVX512F FMA\n",
      "To enable them in other operations, rebuild TensorFlow with the appropriate compiler flags.\n"
     ]
    }
   ],
   "source": [
    "pretrained_model = tf.keras.applications.VGG16(include_top=False, weights='imagenet', input_shape=(32, 32, 3))\n",
    "embedding_model = Model(inputs=pretrained_model.input, outputs=Flatten()(pretrained_model.output))"
   ]
  },
  {
   "cell_type": "code",
   "execution_count": 6,
   "id": "22977dc9-b92f-471b-ab3b-6f041c9c6968",
   "metadata": {},
   "outputs": [],
   "source": [
    "X_train_embeddings = embedding_model.predict(X_train[:100])\n",
    "X_test_embeddings = embedding_model.predict(X_test[:100])"
   ]
  },
  {
   "cell_type": "code",
   "execution_count": 7,
   "id": "26510975-9111-4feb-a045-3eda24d36d64",
   "metadata": {},
   "outputs": [
    {
     "name": "stderr",
     "output_type": "stream",
     "text": [
      "/home/jovyan/.local/lib/python3.9/site-packages/sklearn/cluster/_kmeans.py:870: FutureWarning: The default value of `n_init` will change from 10 to 'auto' in 1.4. Set the value of `n_init` explicitly to suppress the warning\n",
      "  warnings.warn(\n"
     ]
    }
   ],
   "source": [
    "kmeans = KMeans(n_clusters=2, random_state=0).fit(X_train_embeddings)"
   ]
  },
  {
   "cell_type": "markdown",
   "id": "c23a1644-c813-4e42-bb38-2f29112a9252",
   "metadata": {},
   "source": [
    "### Save models"
   ]
  },
  {
   "cell_type": "markdown",
   "id": "5df02ac7-5199-431d-be49-65d13893a6da",
   "metadata": {},
   "source": [
    "Let's first create the directory where the model artifacts will be saved:"
   ]
  },
  {
   "cell_type": "code",
   "execution_count": 8,
   "id": "68a85cd0-4583-4119-93cb-0e469a851801",
   "metadata": {},
   "outputs": [
    {
     "ename": "FileExistsError",
     "evalue": "[Errno 17] File exists: 'vgg16_clustering/'",
     "output_type": "error",
     "traceback": [
      "\u001b[0;31m---------------------------------------------------------------------------\u001b[0m",
      "\u001b[0;31mFileExistsError\u001b[0m                           Traceback (most recent call last)",
      "\u001b[0;32m/tmp/ipykernel_57/681894016.py\u001b[0m in \u001b[0;36m<module>\u001b[0;34m\u001b[0m\n\u001b[0;32m----> 1\u001b[0;31m \u001b[0mos\u001b[0m\u001b[0;34m.\u001b[0m\u001b[0mmkdir\u001b[0m\u001b[0;34m(\u001b[0m\u001b[0;34m\"vgg16_clustering/\"\u001b[0m\u001b[0;34m)\u001b[0m\u001b[0;34m\u001b[0m\u001b[0;34m\u001b[0m\u001b[0m\n\u001b[0m",
      "\u001b[0;31mFileExistsError\u001b[0m: [Errno 17] File exists: 'vgg16_clustering/'"
     ]
    }
   ],
   "source": [
    "os.mkdir(\"vgg16_clustering/\")"
   ]
  },
  {
   "cell_type": "markdown",
   "id": "008584be-0980-47e5-9edc-6344ff33f242",
   "metadata": {
    "tags": []
   },
   "source": [
    "And now save the two models:"
   ]
  },
  {
   "cell_type": "code",
   "execution_count": 9,
   "id": "8d1a61a3-197a-4c0e-9bbc-787eef61e2a1",
   "metadata": {},
   "outputs": [],
   "source": [
    "with  open('vgg16_clustering/kmeans.pkl', 'wb') as fp:\n",
    "    pickle.dump(kmeans, fp)"
   ]
  },
  {
   "cell_type": "code",
   "execution_count": 10,
   "id": "4b381d54-6a8b-4200-ae98-05c560216ef7",
   "metadata": {},
   "outputs": [
    {
     "name": "stdout",
     "output_type": "stream",
     "text": [
      "WARNING:tensorflow:Compiled the loaded model, but the compiled metrics have yet to be built. `model.compile_metrics` will be empty until you train or evaluate the model.\n"
     ]
    },
    {
     "name": "stderr",
     "output_type": "stream",
     "text": [
      "WARNING:tensorflow:Compiled the loaded model, but the compiled metrics have yet to be built. `model.compile_metrics` will be empty until you train or evaluate the model.\n"
     ]
    }
   ],
   "source": [
    "embedding_model.save(\"vgg16_clustering/feature_extractor.h5\")"
   ]
  },
  {
   "cell_type": "markdown",
   "id": "cbc2ebdc-1a9f-4eac-98e2-6d8eb372a33e",
   "metadata": {},
   "source": [
    "> All needed model artifacts have been now saved under `vgg16_clustering/`."
   ]
  },
  {
   "cell_type": "markdown",
   "id": "7acde461-fcda-4302-b738-272831f06c0f",
   "metadata": {},
   "source": [
    "## Extend Inference & InferenceBuilder to serve a custom inference"
   ]
  },
  {
   "cell_type": "markdown",
   "id": "dfb87a02-b35a-473b-9278-1f8099c852da",
   "metadata": {},
   "source": [
    "**Note:** First we need to make sure that `mac` is included in our current Wallaroo SDK installation."
   ]
  },
  {
   "cell_type": "markdown",
   "id": "823803cb-dff3-414d-bae5-e3302c6658f9",
   "metadata": {},
   "source": [
    "After making sure that is the case, we can now extend `mac` to serve a custom inference with the pre-trained `VGG16` model as a feature extractor and the trained `KMeans` model for clustering as such:"
   ]
  },
  {
   "cell_type": "markdown",
   "id": "92df76f9-0dca-4811-b710-9f60d64abd7b",
   "metadata": {},
   "source": [
    "```python\n",
    "\"\"\"This module features an example implementation of a custom Inference and its\n",
    "corresponding InferenceBuilder.\"\"\"\n",
    "\n",
    "import pathlib\n",
    "import pickle\n",
    "from typing import Any, Set\n",
    "\n",
    "import tensorflow as tf\n",
    "from mac.config.inference import CustomInferenceConfig\n",
    "from mac.inference import Inference\n",
    "from mac.inference.creation import InferenceBuilder\n",
    "from mac.types import InferenceData\n",
    "from sklearn.cluster import KMeans\n",
    "\n",
    "\n",
    "class ImageClustering(Inference):\n",
    "    \"\"\"Inference class for image clustering, that uses\n",
    "    a pre-trained VGG16 model on cifar10 as a feature extractor\n",
    "    and performs clustering on a trained KMeans model.\n",
    "\n",
    "    Attributes:\n",
    "        - feature_extractor: The embedding model we will use\n",
    "        as a feature extractor (i.e. a trained VGG16).\n",
    "        - expected_model_types: A set of model instance types that are expected by this inference.\n",
    "        - model: The model on which the inference is calculated.\n",
    "    \"\"\"\n",
    "\n",
    "    def __init__(self, feature_extractor: tf.keras.Model):\n",
    "        self.feature_extractor = feature_extractor\n",
    "        super().__init__()\n",
    "\n",
    "    @property\n",
    "    def expected_model_types(self) -> Set[Any]:\n",
    "        return {KMeans}\n",
    "\n",
    "    @Inference.model.setter  # type: ignore\n",
    "    def model(self, model) -> None:\n",
    "        \"\"\"Sets the model on which the inference is calculated.\n",
    "\n",
    "        :param model: A model instance on which the inference is calculated.\n",
    "\n",
    "        :raises TypeError: If the model is not an instance of expected_model_types\n",
    "            (i.e. KMeans).\n",
    "        \"\"\"\n",
    "        self._raise_error_if_model_is_wrong_type(model) # this will make sure an error will be raised if the model is of wrong type\n",
    "        self._model = model\n",
    "\n",
    "    def _predict(self, input_data: InferenceData) -> InferenceData:\n",
    "        \"\"\"Calculates the inference on the given input data.\n",
    "        This is the core function that each subclass needs to implement\n",
    "        in order to calculate the inference.\n",
    "\n",
    "        :param input_data: The input data on which the inference is calculated.\n",
    "        It is of type InferenceData, meaning it comes as a dictionary of numpy\n",
    "        arrays.\n",
    "\n",
    "        :raises InferenceDataValidationError: If the input data is not valid.\n",
    "        Ideally, every subclass should raise this error if the input data is not valid.\n",
    "\n",
    "        :return: The output of the model, that is a dictionary of numpy arrays.\n",
    "        \"\"\"\n",
    "\n",
    "        # input_data maps to the input_schema we have defined\n",
    "        # with PyArrow, coming as a dictionary of numpy arrays\n",
    "        inputs = input_data[\"images\"]\n",
    "\n",
    "        # Forward inputs to the models\n",
    "        embeddings = self.feature_extractor(inputs)\n",
    "        predictions = self.model.predict(embeddings.numpy())\n",
    "\n",
    "        # Return predictions as dictionary of numpy arrays\n",
    "        return {\"predictions\": predictions}\n",
    "\n",
    "\n",
    "class ImageClusteringBuilder(InferenceBuilder):\n",
    "    \"\"\"InferenceBuilder subclass for ImageClustering, that loads\n",
    "    a pre-trained VGG16 model on cifar10 as a feature extractor\n",
    "    and a trained KMeans model, and creates an ImageClustering object.\"\"\"\n",
    "\n",
    "    @property\n",
    "    def inference(self) -> ImageClustering:\n",
    "        return ImageClustering\n",
    "\n",
    "    def create(self, config: CustomInferenceConfig) -> ImageClustering:\n",
    "        \"\"\"Creates an Inference subclass and assigns a model and additionally\n",
    "        needed attributes to it.\n",
    "\n",
    "        :param config: Custom inference configuration. In particular, we're\n",
    "        interested in `config.model_path` that is a pathlib.Path object\n",
    "        pointing to the folder where the model artifacts are saved.\n",
    "        Every artifact we need to load from this folder has to be\n",
    "        relative to `config.model_path`.\n",
    "\n",
    "        :return: A custom Inference instance.\n",
    "        \"\"\"\n",
    "        feature_extractor = self._load_feature_extractor(\n",
    "            config.model_path / \"feature_extractor.h5\"\n",
    "        )\n",
    "        inference = self.inference(feature_extractor)\n",
    "        model = self._load_model(config.model_path / \"kmeans.pkl\")\n",
    "        inference.model = model\n",
    "\n",
    "        return inference\n",
    "\n",
    "    def _load_feature_extractor(\n",
    "        self, file_path: pathlib.Path\n",
    "    ) -> tf.keras.Model:\n",
    "        return tf.keras.models.load_model(file_path)\n",
    "\n",
    "    def _load_model(self, file_path: pathlib.Path) -> KMeans:\n",
    "        with open(file_path.as_posix(), \"rb\") as fp:\n",
    "            model = pickle.load(fp)\n",
    "        return model\n",
    "```"
   ]
  },
  {
   "cell_type": "markdown",
   "id": "d293f969-e457-437c-ba9e-5edfa0e1e2ab",
   "metadata": {},
   "source": [
    "> `config.model_path` points to the zipped model folder we're going to upload via `wl.upload_model()`,\n",
    "i.e. the `vgg16_clustering.zip` file we'll save on the next step."
   ]
  },
  {
   "cell_type": "markdown",
   "id": "c9acf3f7-000e-4051-ad52-06734c85a7ed",
   "metadata": {},
   "source": [
    "We can save this implementation to a Python file (i.e. `custom_inference.py`) and save it inside the `vgg16_clustering/` folder."
   ]
  },
  {
   "cell_type": "markdown",
   "id": "3d0deb66-e1b2-440a-b5c2-eec7ffc83cad",
   "metadata": {},
   "source": [
    "### Create requirements.txt"
   ]
  },
  {
   "cell_type": "markdown",
   "id": "9feed3f4-8ce2-4752-b1d3-7a84e3f2c6cc",
   "metadata": {},
   "source": [
    "As a last step we need to create a `requirements.txt` file and save it under `vgg_clustering/`. The file should contain all the necessary pip requirements needed to run the inference. It should like like this:"
   ]
  },
  {
   "cell_type": "markdown",
   "id": "ee351974-e169-4230-83a7-1d27fbe67187",
   "metadata": {},
   "source": [
    "```txt\n",
    "tensorflow==2.8.0\n",
    "scikit-learn==1.2.2\n",
    "```"
   ]
  },
  {
   "cell_type": "markdown",
   "id": "8e361c03-24ad-4d94-b09f-3f53604c928b",
   "metadata": {},
   "source": [
    "> **Attention**: Please make sure to align with the framework requirements mentioned in the docs -both during training your models as well as in `requirements.txt`-, otherwise it's not guaranteed the inference will run successfully."
   ]
  },
  {
   "cell_type": "markdown",
   "id": "2e6942ac-f177-4297-8d2b-b737dd648a06",
   "metadata": {},
   "source": [
    "### Zip model folder"
   ]
  },
  {
   "cell_type": "markdown",
   "id": "a561b11f-bbe3-4785-a60c-7667f2128e5e",
   "metadata": {},
   "source": [
    "Assuming we have stored the following files inside `vgg_clustering/`:\n",
    "1. `feature_extractor.h5`\n",
    "2. `kmeans.pkl`\n",
    "3. `custom_inference.py`\n",
    "\n",
    "as a final step we need to zip the folder via the terminal as follows:"
   ]
  },
  {
   "cell_type": "markdown",
   "id": "fb85dde1-1af1-412e-b3a0-7740f94fb752",
   "metadata": {},
   "source": [
    "`zip -r vgg16_clustering.zip vgg16_clustering/`"
   ]
  },
  {
   "cell_type": "markdown",
   "id": "dcefe1e1-22cd-4bb9-8ddd-9b294d916db3",
   "metadata": {},
   "source": [
    "> The custom model can now be uploaded via `wl.upload_model()` and be deployed as a pipeline step."
   ]
  },
  {
   "cell_type": "markdown",
   "id": "facb9da2-a4ef-4f5c-80eb-8562aedd412f",
   "metadata": {
    "tags": []
   },
   "source": [
    "## Configure & Upload Model"
   ]
  },
  {
   "cell_type": "markdown",
   "id": "620b7f30-a262-4542-8541-a44e546f4ab6",
   "metadata": {},
   "source": [
    "### Get Framework for the `custom` inference"
   ]
  },
  {
   "cell_type": "markdown",
   "id": "66f5ce00-87f7-4957-895c-38270bf1dbbf",
   "metadata": {},
   "source": [
    "Let's see what frameworks are supported via the `Framework` Enum:"
   ]
  },
  {
   "cell_type": "code",
   "execution_count": null,
   "id": "38049ce6-d308-43a1-bbc5-0ed262da3374",
   "metadata": {},
   "outputs": [],
   "source": [
    "[e.value for e in Framework]"
   ]
  },
  {
   "cell_type": "markdown",
   "id": "fc315863-f769-4ead-8c15-4732eaed0faf",
   "metadata": {},
   "source": [
    "The appropriate one for the serving a `custom` inference is the following:"
   ]
  },
  {
   "cell_type": "code",
   "execution_count": null,
   "id": "ced5f89a-361b-4c0b-886a-3680ae0e34ae",
   "metadata": {},
   "outputs": [],
   "source": [
    "Framework.CUSTOM"
   ]
  },
  {
   "cell_type": "markdown",
   "id": "792059dc-142b-4a5a-ad2b-6dd7c008c54d",
   "metadata": {},
   "source": [
    "### Configure PyArrow Schema"
   ]
  },
  {
   "cell_type": "markdown",
   "id": "2e605c02-7335-4e17-b812-d8f3f64cb1d3",
   "metadata": {},
   "source": [
    "> `input_schema` and `output_schema` should match exactly the data we're expecting to retrieve and return within `ImageClustering._predict()`."
   ]
  },
  {
   "cell_type": "code",
   "execution_count": 11,
   "id": "30bf75b9-dc7c-48d3-9491-d042653bcf6d",
   "metadata": {},
   "outputs": [],
   "source": [
    "input_schema = pa.schema([\n",
    "    pa.field('images', pa.list_(\n",
    "        pa.list_(\n",
    "            pa.list_(\n",
    "                pa.int64(),\n",
    "                list_size=3\n",
    "            ),\n",
    "            list_size=32\n",
    "        ),\n",
    "        list_size=32\n",
    "    )),\n",
    "])\n",
    "\n",
    "output_schema = pa.schema([\n",
    "    pa.field('predictions', pa.int64()),\n",
    "])"
   ]
  },
  {
   "cell_type": "markdown",
   "id": "c8a1cf66-6d74-47bd-b739-e7bf4e9fe059",
   "metadata": {},
   "source": [
    "### Upload Model"
   ]
  },
  {
   "cell_type": "code",
   "execution_count": 18,
   "id": "4cb37931-2793-4256-968e-ea4f4ac7fee2",
   "metadata": {
    "tags": []
   },
   "outputs": [
    {
     "name": "stdout",
     "output_type": "stream",
     "text": [
      "Waiting for model conversion... It may take up to 10.0min.\n",
      "Model is Pending conversion..Converting.................Ready.\n"
     ]
    },
    {
     "data": {
      "text/plain": [
       "{'name': 'vgg16-clustering', 'version': '819114a4-c1a4-43b4-b66b-a486e05a867f', 'file_name': 'model-auto-conversion_BYOP_vgg16_clustering.zip', 'image_path': 'proxy.replicated.com/proxy/wallaroo/ghcr.io/wallaroolabs/mlflow-deploy:v2023.3.0-main-3443', 'last_update_time': datetime.datetime(2023, 6, 28, 16, 54, 38, 299848, tzinfo=tzutc())}"
      ]
     },
     "execution_count": 18,
     "metadata": {},
     "output_type": "execute_result"
    }
   ],
   "source": [
    "model = wl.upload_model('vgg16-clustering', 'model-auto-conversion_BYOP_vgg16_clustering.zip', framework=Framework.CUSTOM, input_schema=input_schema, output_schema=output_schema, convert_wait=True)\n",
    "model"
   ]
  },
  {
   "cell_type": "markdown",
   "id": "73fd53a1-2f01-42c6-97b1-b5356168c418",
   "metadata": {},
   "source": [
    "## Deploy Pipeline"
   ]
  },
  {
   "cell_type": "code",
   "execution_count": 13,
   "id": "354041c2-3769-46f9-9017-22dac6e773cf",
   "metadata": {},
   "outputs": [],
   "source": [
    "deployment_config = DeploymentConfigBuilder() \\\n",
    "    .cpus(0.25).memory('4Gi') \\\n",
    "    .build()"
   ]
  },
  {
   "cell_type": "code",
   "execution_count": 14,
   "id": "bff75bef-deb6-44b5-aaeb-df21a0d57e9e",
   "metadata": {
    "tags": []
   },
   "outputs": [
    {
     "name": "stdout",
     "output_type": "stream",
     "text": [
      "Waiting for deployment - this will take up to 90s ............................. ok\n"
     ]
    },
    {
     "data": {
      "text/plain": [
       "{'status': 'Running',\n",
       " 'details': [],\n",
       " 'engines': [{'ip': '10.244.29.63',\n",
       "   'name': 'engine-dfd47ffbc-gs9b5',\n",
       "   'status': 'Running',\n",
       "   'reason': None,\n",
       "   'details': [],\n",
       "   'pipeline_statuses': {'pipelines': [{'id': 'vgg16-clustering-pipeline',\n",
       "      'status': 'Running'}]},\n",
       "   'model_statuses': {'models': [{'name': 'vgg16-clustering',\n",
       "      'version': '5f3f4a0e-8921-4e36-b3af-ee32dec77314',\n",
       "      'sha': 'f5f5e1ab29057ac750b7b7afefd6fb16c789b22c3291a966597a5d9846eb1c53',\n",
       "      'status': 'Running'}]}}],\n",
       " 'engine_lbs': [{'ip': '10.244.29.62',\n",
       "   'name': 'engine-lb-584f54c899-7m4dz',\n",
       "   'status': 'Running',\n",
       "   'reason': None,\n",
       "   'details': []}],\n",
       " 'sidekicks': [{'ip': '10.244.4.22',\n",
       "   'name': 'engine-sidekick-vgg16-clustering-46-6cb499d45b-tmfkk',\n",
       "   'status': 'Running',\n",
       "   'reason': None,\n",
       "   'details': [],\n",
       "   'statuses': '\\n'}]}"
      ]
     },
     "execution_count": 14,
     "metadata": {},
     "output_type": "execute_result"
    }
   ],
   "source": [
    "pipeline_name = \"vgg16-clustering-pipeline\"\n",
    "pipeline = wl.build_pipeline(pipeline_name)\n",
    "pipeline.add_model_step(model)\n",
    "\n",
    "pipeline.deploy(deployment_config=deployment_config)\n",
    "pipeline.status()"
   ]
  },
  {
   "cell_type": "markdown",
   "id": "92cd9b9e-9939-4b61-a4ce-cbf275925c29",
   "metadata": {
    "tags": [],
    "toc-hr-collapsed": true
   },
   "source": [
    "## Run inference"
   ]
  },
  {
   "cell_type": "code",
   "execution_count": 15,
   "id": "910e637d-d46b-490e-aff5-9a6b195437d8",
   "metadata": {},
   "outputs": [
    {
     "data": {
      "text/html": [
       "<div>\n",
       "<style scoped>\n",
       "    .dataframe tbody tr th:only-of-type {\n",
       "        vertical-align: middle;\n",
       "    }\n",
       "\n",
       "    .dataframe tbody tr th {\n",
       "        vertical-align: top;\n",
       "    }\n",
       "\n",
       "    .dataframe thead th {\n",
       "        text-align: right;\n",
       "    }\n",
       "</style>\n",
       "<table border=\"1\" class=\"dataframe\">\n",
       "  <thead>\n",
       "    <tr style=\"text-align: right;\">\n",
       "      <th></th>\n",
       "      <th>images</th>\n",
       "    </tr>\n",
       "  </thead>\n",
       "  <tbody>\n",
       "    <tr>\n",
       "      <th>0</th>\n",
       "      <td>[[[0, 42, 244], [163, 88, 141], [195, 14, 131]...</td>\n",
       "    </tr>\n",
       "    <tr>\n",
       "      <th>1</th>\n",
       "      <td>[[[0, 42, 244], [163, 88, 141], [195, 14, 131]...</td>\n",
       "    </tr>\n",
       "  </tbody>\n",
       "</table>\n",
       "</div>"
      ],
      "text/plain": [
       "                                              images\n",
       "0  [[[0, 42, 244], [163, 88, 141], [195, 14, 131]...\n",
       "1  [[[0, 42, 244], [163, 88, 141], [195, 14, 131]..."
      ]
     },
     "execution_count": 15,
     "metadata": {},
     "output_type": "execute_result"
    }
   ],
   "source": [
    "input_data = {\n",
    "        \"images\": [np.random.randint(0, 256, (32, 32, 3), dtype=np.uint8)] * 2,\n",
    "}\n",
    "dataframe = pd.DataFrame(input_data)\n",
    "dataframe"
   ]
  },
  {
   "cell_type": "code",
   "execution_count": 16,
   "id": "52b2ba19-921f-400d-9c2e-813f51787387",
   "metadata": {},
   "outputs": [
    {
     "name": "stdout",
     "output_type": "stream",
     "text": [
      "CPU times: user 2 µs, sys: 0 ns, total: 2 µs\n",
      "Wall time: 4.53 µs\n"
     ]
    },
    {
     "data": {
      "text/html": [
       "<div>\n",
       "<style scoped>\n",
       "    .dataframe tbody tr th:only-of-type {\n",
       "        vertical-align: middle;\n",
       "    }\n",
       "\n",
       "    .dataframe tbody tr th {\n",
       "        vertical-align: top;\n",
       "    }\n",
       "\n",
       "    .dataframe thead th {\n",
       "        text-align: right;\n",
       "    }\n",
       "</style>\n",
       "<table border=\"1\" class=\"dataframe\">\n",
       "  <thead>\n",
       "    <tr style=\"text-align: right;\">\n",
       "      <th></th>\n",
       "      <th>time</th>\n",
       "      <th>in.images</th>\n",
       "      <th>out.predictions</th>\n",
       "      <th>check_failures</th>\n",
       "    </tr>\n",
       "  </thead>\n",
       "  <tbody>\n",
       "    <tr>\n",
       "      <th>0</th>\n",
       "      <td>2023-06-28 16:37:46.068</td>\n",
       "      <td>[0, 42, 244, 163, 88, 141, 195, 14, 131, 89, 1...</td>\n",
       "      <td>1</td>\n",
       "      <td>0</td>\n",
       "    </tr>\n",
       "    <tr>\n",
       "      <th>1</th>\n",
       "      <td>2023-06-28 16:37:46.068</td>\n",
       "      <td>[0, 42, 244, 163, 88, 141, 195, 14, 131, 89, 1...</td>\n",
       "      <td>1</td>\n",
       "      <td>0</td>\n",
       "    </tr>\n",
       "  </tbody>\n",
       "</table>\n",
       "</div>"
      ],
      "text/plain": [
       "                     time                                          in.images  \\\n",
       "0 2023-06-28 16:37:46.068  [0, 42, 244, 163, 88, 141, 195, 14, 131, 89, 1...   \n",
       "1 2023-06-28 16:37:46.068  [0, 42, 244, 163, 88, 141, 195, 14, 131, 89, 1...   \n",
       "\n",
       "   out.predictions  check_failures  \n",
       "0                1               0  \n",
       "1                1               0  "
      ]
     },
     "execution_count": 16,
     "metadata": {},
     "output_type": "execute_result"
    }
   ],
   "source": [
    "%time\n",
    "pipeline.infer(dataframe, timeout=10000)"
   ]
  },
  {
   "cell_type": "markdown",
   "id": "9727d4d5-9484-46b4-8fd1-4a352fafe602",
   "metadata": {},
   "source": [
    "## Undeploy Pipelines"
   ]
  },
  {
   "cell_type": "code",
   "execution_count": 17,
   "id": "7041caf5-1783-4099-97f8-37fdf81ca93a",
   "metadata": {},
   "outputs": [
    {
     "name": "stdout",
     "output_type": "stream",
     "text": [
      "Waiting for undeployment - this will take up to 45s ...................................... ok\n",
      "Waiting for undeployment - this will take up to 45s ..................................... ok\n"
     ]
    }
   ],
   "source": [
    "for pipeline in wl.list_pipelines():\n",
    "    pipeline.undeploy()"
   ]
  },
  {
   "cell_type": "code",
   "execution_count": null,
   "id": "14fdac02-f20f-4af0-8ead-45da74e3024a",
   "metadata": {},
   "outputs": [],
   "source": []
  }
 ],
 "metadata": {
  "kernelspec": {
   "display_name": "Python 3 (ipykernel)",
   "language": "python",
   "name": "python3"
  },
  "language_info": {
   "codemirror_mode": {
    "name": "ipython",
    "version": 3
   },
   "file_extension": ".py",
   "mimetype": "text/x-python",
   "name": "python",
   "nbconvert_exporter": "python",
   "pygments_lexer": "ipython3",
   "version": "3.9.13"
  }
 },
 "nbformat": 4,
 "nbformat_minor": 5
}
