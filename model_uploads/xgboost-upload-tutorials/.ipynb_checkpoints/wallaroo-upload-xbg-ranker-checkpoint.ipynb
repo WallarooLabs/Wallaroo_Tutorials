{
 "cells": [
  {
   "cell_type": "markdown",
   "id": "c18c8461-a00a-4a16-b3d7-2dee9187f672",
   "metadata": {},
   "source": [
    "## XGB Classification Upload Tutorial\n",
    "\n",
    "The following example will:\n",
    "\n",
    "* Set the input and output schemas.\n",
    "* Upload a XGB Classification model to Wallaroo.\n",
    "* Deploy a pipeline with the uploaded SKLearn model as a pipeline step.\n",
    "* Perform a test inference.\n",
    "* Undeploy the pipeline."
   ]
  },
  {
   "cell_type": "code",
   "execution_count": 1,
   "id": "3436bb69-bb45-4d18-bc19-d82f76ae9bfe",
   "metadata": {},
   "outputs": [],
   "source": [
    "import json\n",
    "import os\n",
    "import pickle\n",
    "\n",
    "import wallaroo\n",
    "from wallaroo.pipeline   import Pipeline\n",
    "from wallaroo.deployment_config import DeploymentConfigBuilder\n",
    "from wallaroo.framework import Framework\n",
    "\n",
    "import pyarrow as pa\n",
    "import numpy as np\n",
    "import pandas as pd\n",
    "\n",
    "from sklearn.datasets import load_iris\n",
    "from xgboost import XGBClassifier"
   ]
  },
  {
   "cell_type": "code",
   "execution_count": 2,
   "id": "f1fcda6d",
   "metadata": {},
   "outputs": [],
   "source": [
    "wl = wallaroo.Client(auth_type=\"sso\", interactive=True)"
   ]
  },
  {
   "cell_type": "code",
   "execution_count": 3,
   "id": "170bf187-321c-45ea-867a-0cc2879b0256",
   "metadata": {},
   "outputs": [],
   "source": [
    "def get_workspace(name):\n",
    "    workspace = None\n",
    "    for ws in wl.list_workspaces():\n",
    "        if ws.name() == name:\n",
    "            workspace= ws\n",
    "    if(workspace == None):\n",
    "        workspace = wl.create_workspace(name)\n",
    "    return workspace\n",
    "\n",
    "prefix = \"xgb-ranker\""
   ]
  },
  {
   "cell_type": "code",
   "execution_count": 4,
   "id": "6df649fa-329a-41c9-a5e6-6676383f1330",
   "metadata": {},
   "outputs": [
    {
     "data": {
      "text/plain": [
       "{'name': 'xgb-ranker-jch', 'id': 53, 'archived': False, 'created_by': '3cc9e92a-fa3c-4371-a7a7-487884df059e', 'created_at': '2023-06-16T18:26:15.008546+00:00', 'models': [{'name': 'xgb-ranker', 'versions': 3, 'owner_id': '\"\"', 'last_update_time': datetime.datetime(2023, 6, 16, 18, 32, 41, 553693, tzinfo=tzutc()), 'created_at': datetime.datetime(2023, 6, 16, 18, 26, 17, 933009, tzinfo=tzutc())}], 'pipelines': [{'name': 'xgb-ranker-pipeline', 'create_time': datetime.datetime(2023, 6, 16, 18, 27, 38, 223760, tzinfo=tzutc()), 'definition': '[]'}]}"
      ]
     },
     "execution_count": 4,
     "metadata": {},
     "output_type": "execute_result"
    }
   ],
   "source": [
    "workspace = get_workspace(f\"{prefix}-jch\")\n",
    "wl.set_current_workspace(workspace)"
   ]
  },
  {
   "cell_type": "markdown",
   "id": "2a7ab7eb-90de-4e94-90d5-316e13eae5ab",
   "metadata": {},
   "source": [
    "## Data Schema"
   ]
  },
  {
   "cell_type": "code",
   "execution_count": 6,
   "id": "1167694d-d0ac-4432-9fde-4ba7a5e65846",
   "metadata": {},
   "outputs": [
    {
     "data": {
      "text/plain": [
       "SecuritiesCode: int64\n",
       "Open: double\n",
       "High: double\n",
       "Low: double\n",
       "Close: double\n",
       "Volume: int64\n",
       "AdjustmentFactor: double\n",
       "ExpectedDividend: bool\n",
       "SupervisionFlag: bool"
      ]
     },
     "metadata": {},
     "output_type": "display_data"
    }
   ],
   "source": [
    "input_schema = pa.schema([\n",
    "    pa.field('SecuritiesCode', pa.int64()),\n",
    "    pa.field('Open', pa.float64()),\n",
    "    pa.field('High', pa.float64()),\n",
    "    pa.field('Low', pa.float64()),\n",
    "    pa.field('Close', pa.float64()),\n",
    "    pa.field('Volume', pa.int64()),\n",
    "    pa.field('AdjustmentFactor', pa.float64()),\n",
    "    pa.field('ExpectedDividend', pa.bool_()),\n",
    "    pa.field('SupervisionFlag', pa.bool_()),\n",
    "])\n",
    "display(input_schema)\n",
    "\n",
    "output_schema = pa.schema([\n",
    "    pa.field('output', pa.float64())\n",
    "])"
   ]
  },
  {
   "cell_type": "markdown",
   "id": "af676365-ebc8-48ce-b008-389ea3af91cd",
   "metadata": {
    "tags": []
   },
   "source": [
    "## Upload model"
   ]
  },
  {
   "cell_type": "code",
   "execution_count": 7,
   "id": "3700515d-f91c-481f-a495-29ad82cab91f",
   "metadata": {},
   "outputs": [
    {
     "name": "stdout",
     "output_type": "stream",
     "text": [
      "Waiting for model conversion... It may take up to 10.0min.\n",
      "Model is Pending conversion...Converting..Pending conversion.Converting.........Ready.\n"
     ]
    },
    {
     "data": {
      "text/plain": [
       "{'name': 'xgb-ranker', 'version': 'c53c6a84-9f56-41c6-bb2f-049ef6b067e8', 'file_name': 'model-auto-conversion_xgboost_xgb_ranker_model.pkl', 'image_path': 'proxy.replicated.com/proxy/wallaroo/ghcr.io/wallaroolabs/mlflow-deploy:v2023.3.0-main-3367', 'last_update_time': datetime.datetime(2023, 6, 16, 18, 51, 15, 27969, tzinfo=tzutc())}"
      ]
     },
     "execution_count": 7,
     "metadata": {},
     "output_type": "execute_result"
    }
   ],
   "source": [
    "model = wl.upload_model(f\"{prefix}\", 'models/model-auto-conversion_xgboost_xgb_ranker_model.pkl', framework=Framework.XGBOOST, input_schema=input_schema, output_schema=output_schema)\n",
    "model"
   ]
  },
  {
   "cell_type": "markdown",
   "id": "47fcab28-dce9-4385-802c-70a8f48fec38",
   "metadata": {
    "tags": []
   },
   "source": [
    "## Configure model and pipeline"
   ]
  },
  {
   "cell_type": "code",
   "execution_count": 8,
   "id": "2a709f2c-1332-4984-9cf8-87c6328d6ae4",
   "metadata": {},
   "outputs": [],
   "source": [
    "deployment_config = DeploymentConfigBuilder() \\\n",
    "    .cpus(0.25).memory('1Gi') \\\n",
    "    .build()"
   ]
  },
  {
   "cell_type": "code",
   "execution_count": 9,
   "id": "5ecc0a18-5912-4052-98a7-074b9db350b1",
   "metadata": {},
   "outputs": [
    {
     "data": {
      "text/html": [
       "<table><tr><th>name</th> <td>xgb-ranker-pipeline</td></tr><tr><th>created</th> <td>2023-06-16 18:27:38.223760+00:00</td></tr><tr><th>last_updated</th> <td>2023-06-16 18:51:16.088452+00:00</td></tr><tr><th>deployed</th> <td>False</td></tr><tr><th>tags</th> <td></td></tr><tr><th>versions</th> <td>5e705c54-0c59-4a00-bed0-6b23404dc0cf, d47b225e-84aa-4317-ac0b-3e486a4d3b58, ec9ba7b2-1070-40d5-9027-387c813eed15, a52871bf-dbc6-4a79-b067-d4e2dcaf1e39, a309493e-eeaf-49a8-8049-d297e5ea1c1c, 90d257e7-ad44-451d-aaff-64d8fe555adb, 4664d189-ae0c-4c32-a645-a57650c10573</td></tr><tr><th>steps</th> <td>xgb-ranker</td></tr></table>"
      ],
      "text/plain": [
       "{'name': 'xgb-ranker-pipeline', 'create_time': datetime.datetime(2023, 6, 16, 18, 27, 38, 223760, tzinfo=tzutc()), 'definition': \"[{'ModelInference': {'models': [{'name': 'xgb-ranker', 'version': 'c53c6a84-9f56-41c6-bb2f-049ef6b067e8', 'sha': 'f03bf4a595b9fe6c09fa1f38c3340d1c47da57ba6dc729efee36b84eb51c8941'}]}}]\"}"
      ]
     },
     "execution_count": 9,
     "metadata": {},
     "output_type": "execute_result"
    }
   ],
   "source": [
    "pipeline_name = f\"{prefix}-pipeline\"\n",
    "pipeline = wl.build_pipeline(pipeline_name)\n",
    "pipeline.clear()\n",
    "pipeline.add_model_step(model)"
   ]
  },
  {
   "cell_type": "code",
   "execution_count": 10,
   "id": "109d9117",
   "metadata": {},
   "outputs": [
    {
     "name": "stdout",
     "output_type": "stream",
     "text": [
      "Waiting for deployment - this will take up to 90s ................ ok\n"
     ]
    },
    {
     "data": {
      "text/plain": [
       "{'status': 'Running',\n",
       " 'details': [],\n",
       " 'engines': [{'ip': '10.244.4.66',\n",
       "   'name': 'engine-7bcfdd8f68-6gs8p',\n",
       "   'status': 'Running',\n",
       "   'reason': None,\n",
       "   'details': [],\n",
       "   'pipeline_statuses': {'pipelines': [{'id': 'xgb-ranker-pipeline',\n",
       "      'status': 'Running'}]},\n",
       "   'model_statuses': {'models': [{'name': 'xgb-ranker',\n",
       "      'version': 'c53c6a84-9f56-41c6-bb2f-049ef6b067e8',\n",
       "      'sha': 'f03bf4a595b9fe6c09fa1f38c3340d1c47da57ba6dc729efee36b84eb51c8941',\n",
       "      'status': 'Running'}]}}],\n",
       " 'engine_lbs': [{'ip': '10.244.4.67',\n",
       "   'name': 'engine-lb-584f54c899-78qp7',\n",
       "   'status': 'Running',\n",
       "   'reason': None,\n",
       "   'details': []}],\n",
       " 'sidekicks': [{'ip': '10.244.4.68',\n",
       "   'name': 'engine-sidekick-xgb-ranker-50-597db44c97-xmx82',\n",
       "   'status': 'Running',\n",
       "   'reason': None,\n",
       "   'details': [],\n",
       "   'statuses': '\\n'}]}"
      ]
     },
     "execution_count": 10,
     "metadata": {},
     "output_type": "execute_result"
    }
   ],
   "source": [
    "pipeline.deploy(deployment_config=deployment_config)\n",
    "pipeline.status()"
   ]
  },
  {
   "cell_type": "markdown",
   "id": "60cb4aa0-601d-4556-a3f8-cdc59e758add",
   "metadata": {},
   "source": [
    "## Inference"
   ]
  },
  {
   "cell_type": "code",
   "execution_count": 11,
   "id": "1eab3c59-c7a2-4e79-a468-e5bcb65d916c",
   "metadata": {},
   "outputs": [
    {
     "data": {
      "text/html": [
       "<div>\n",
       "<style scoped>\n",
       "    .dataframe tbody tr th:only-of-type {\n",
       "        vertical-align: middle;\n",
       "    }\n",
       "\n",
       "    .dataframe tbody tr th {\n",
       "        vertical-align: top;\n",
       "    }\n",
       "\n",
       "    .dataframe thead th {\n",
       "        text-align: right;\n",
       "    }\n",
       "</style>\n",
       "<table border=\"1\" class=\"dataframe\">\n",
       "  <thead>\n",
       "    <tr style=\"text-align: right;\">\n",
       "      <th></th>\n",
       "      <th>time</th>\n",
       "      <th>in.AdjustmentFactor</th>\n",
       "      <th>in.Close</th>\n",
       "      <th>in.ExpectedDividend</th>\n",
       "      <th>in.High</th>\n",
       "      <th>in.Low</th>\n",
       "      <th>in.Open</th>\n",
       "      <th>in.SecuritiesCode</th>\n",
       "      <th>in.SupervisionFlag</th>\n",
       "      <th>in.Volume</th>\n",
       "      <th>out.output</th>\n",
       "      <th>check_failures</th>\n",
       "    </tr>\n",
       "  </thead>\n",
       "  <tbody>\n",
       "    <tr>\n",
       "      <th>0</th>\n",
       "      <td>2023-06-16 18:51:32.812</td>\n",
       "      <td>1</td>\n",
       "      <td>451</td>\n",
       "      <td>False</td>\n",
       "      <td>452</td>\n",
       "      <td>443</td>\n",
       "      <td>445</td>\n",
       "      <td>3656</td>\n",
       "      <td>False</td>\n",
       "      <td>322400</td>\n",
       "      <td>0.478053</td>\n",
       "      <td>0</td>\n",
       "    </tr>\n",
       "    <tr>\n",
       "      <th>1</th>\n",
       "      <td>2023-06-16 18:51:32.812</td>\n",
       "      <td>1</td>\n",
       "      <td>1936</td>\n",
       "      <td>False</td>\n",
       "      <td>1942</td>\n",
       "      <td>1905</td>\n",
       "      <td>1933</td>\n",
       "      <td>9719</td>\n",
       "      <td>False</td>\n",
       "      <td>475600</td>\n",
       "      <td>0.478053</td>\n",
       "      <td>0</td>\n",
       "    </tr>\n",
       "    <tr>\n",
       "      <th>2</th>\n",
       "      <td>2023-06-16 18:51:32.812</td>\n",
       "      <td>1</td>\n",
       "      <td>2086</td>\n",
       "      <td>False</td>\n",
       "      <td>2091</td>\n",
       "      <td>2040</td>\n",
       "      <td>2048</td>\n",
       "      <td>8098</td>\n",
       "      <td>False</td>\n",
       "      <td>124600</td>\n",
       "      <td>0.478053</td>\n",
       "      <td>0</td>\n",
       "    </tr>\n",
       "    <tr>\n",
       "      <th>3</th>\n",
       "      <td>2023-06-16 18:51:32.812</td>\n",
       "      <td>1</td>\n",
       "      <td>2093</td>\n",
       "      <td>False</td>\n",
       "      <td>2102</td>\n",
       "      <td>2066</td>\n",
       "      <td>2067</td>\n",
       "      <td>6923</td>\n",
       "      <td>False</td>\n",
       "      <td>929800</td>\n",
       "      <td>0.478053</td>\n",
       "      <td>0</td>\n",
       "    </tr>\n",
       "    <tr>\n",
       "      <th>4</th>\n",
       "      <td>2023-06-16 18:51:32.812</td>\n",
       "      <td>1</td>\n",
       "      <td>2445</td>\n",
       "      <td>False</td>\n",
       "      <td>2445</td>\n",
       "      <td>2418</td>\n",
       "      <td>2437</td>\n",
       "      <td>9828</td>\n",
       "      <td>False</td>\n",
       "      <td>13700</td>\n",
       "      <td>0.478053</td>\n",
       "      <td>0</td>\n",
       "    </tr>\n",
       "    <tr>\n",
       "      <th>5</th>\n",
       "      <td>2023-06-16 18:51:32.812</td>\n",
       "      <td>1</td>\n",
       "      <td>921</td>\n",
       "      <td>False</td>\n",
       "      <td>926</td>\n",
       "      <td>921</td>\n",
       "      <td>924</td>\n",
       "      <td>1780</td>\n",
       "      <td>False</td>\n",
       "      <td>14700</td>\n",
       "      <td>0.478053</td>\n",
       "      <td>0</td>\n",
       "    </tr>\n",
       "    <tr>\n",
       "      <th>6</th>\n",
       "      <td>2023-06-16 18:51:32.812</td>\n",
       "      <td>1</td>\n",
       "      <td>2550</td>\n",
       "      <td>False</td>\n",
       "      <td>2556</td>\n",
       "      <td>2504</td>\n",
       "      <td>2532</td>\n",
       "      <td>6823</td>\n",
       "      <td>False</td>\n",
       "      <td>17700</td>\n",
       "      <td>0.494720</td>\n",
       "      <td>0</td>\n",
       "    </tr>\n",
       "    <tr>\n",
       "      <th>7</th>\n",
       "      <td>2023-06-16 18:51:32.812</td>\n",
       "      <td>1</td>\n",
       "      <td>267</td>\n",
       "      <td>False</td>\n",
       "      <td>271</td>\n",
       "      <td>263</td>\n",
       "      <td>268</td>\n",
       "      <td>4571</td>\n",
       "      <td>False</td>\n",
       "      <td>232600</td>\n",
       "      <td>0.478053</td>\n",
       "      <td>0</td>\n",
       "    </tr>\n",
       "    <tr>\n",
       "      <th>8</th>\n",
       "      <td>2023-06-16 18:51:32.812</td>\n",
       "      <td>1</td>\n",
       "      <td>898</td>\n",
       "      <td>False</td>\n",
       "      <td>909</td>\n",
       "      <td>881</td>\n",
       "      <td>909</td>\n",
       "      <td>9273</td>\n",
       "      <td>False</td>\n",
       "      <td>56100</td>\n",
       "      <td>0.478053</td>\n",
       "      <td>0</td>\n",
       "    </tr>\n",
       "    <tr>\n",
       "      <th>9</th>\n",
       "      <td>2023-06-16 18:51:32.812</td>\n",
       "      <td>1</td>\n",
       "      <td>2142</td>\n",
       "      <td>False</td>\n",
       "      <td>2171</td>\n",
       "      <td>2141</td>\n",
       "      <td>2164</td>\n",
       "      <td>5999</td>\n",
       "      <td>False</td>\n",
       "      <td>5400</td>\n",
       "      <td>0.478053</td>\n",
       "      <td>0</td>\n",
       "    </tr>\n",
       "    <tr>\n",
       "      <th>10</th>\n",
       "      <td>2023-06-16 18:51:32.812</td>\n",
       "      <td>1</td>\n",
       "      <td>1572</td>\n",
       "      <td>False</td>\n",
       "      <td>1574</td>\n",
       "      <td>1523</td>\n",
       "      <td>1527</td>\n",
       "      <td>3179</td>\n",
       "      <td>False</td>\n",
       "      <td>177500</td>\n",
       "      <td>0.478053</td>\n",
       "      <td>0</td>\n",
       "    </tr>\n",
       "    <tr>\n",
       "      <th>11</th>\n",
       "      <td>2023-06-16 18:51:32.812</td>\n",
       "      <td>1</td>\n",
       "      <td>1368</td>\n",
       "      <td>False</td>\n",
       "      <td>1369</td>\n",
       "      <td>1355</td>\n",
       "      <td>1355</td>\n",
       "      <td>7296</td>\n",
       "      <td>False</td>\n",
       "      <td>105100</td>\n",
       "      <td>0.478053</td>\n",
       "      <td>0</td>\n",
       "    </tr>\n",
       "    <tr>\n",
       "      <th>12</th>\n",
       "      <td>2023-06-16 18:51:32.812</td>\n",
       "      <td>1</td>\n",
       "      <td>1785</td>\n",
       "      <td>False</td>\n",
       "      <td>1800</td>\n",
       "      <td>1784</td>\n",
       "      <td>1798</td>\n",
       "      <td>7611</td>\n",
       "      <td>False</td>\n",
       "      <td>74300</td>\n",
       "      <td>0.478053</td>\n",
       "      <td>0</td>\n",
       "    </tr>\n",
       "    <tr>\n",
       "      <th>13</th>\n",
       "      <td>2023-06-16 18:51:32.812</td>\n",
       "      <td>1</td>\n",
       "      <td>2970</td>\n",
       "      <td>False</td>\n",
       "      <td>2979</td>\n",
       "      <td>2913</td>\n",
       "      <td>2926</td>\n",
       "      <td>5310</td>\n",
       "      <td>False</td>\n",
       "      <td>73400</td>\n",
       "      <td>0.494720</td>\n",
       "      <td>0</td>\n",
       "    </tr>\n",
       "    <tr>\n",
       "      <th>14</th>\n",
       "      <td>2023-06-16 18:51:32.812</td>\n",
       "      <td>1</td>\n",
       "      <td>2288</td>\n",
       "      <td>False</td>\n",
       "      <td>2295</td>\n",
       "      <td>2248</td>\n",
       "      <td>2295</td>\n",
       "      <td>9621</td>\n",
       "      <td>False</td>\n",
       "      <td>23800</td>\n",
       "      <td>0.478053</td>\n",
       "      <td>0</td>\n",
       "    </tr>\n",
       "    <tr>\n",
       "      <th>15</th>\n",
       "      <td>2023-06-16 18:51:32.812</td>\n",
       "      <td>1</td>\n",
       "      <td>5360</td>\n",
       "      <td>False</td>\n",
       "      <td>5380</td>\n",
       "      <td>5300</td>\n",
       "      <td>5360</td>\n",
       "      <td>7951</td>\n",
       "      <td>False</td>\n",
       "      <td>411600</td>\n",
       "      <td>0.494720</td>\n",
       "      <td>0</td>\n",
       "    </tr>\n",
       "    <tr>\n",
       "      <th>16</th>\n",
       "      <td>2023-06-16 18:51:32.812</td>\n",
       "      <td>1</td>\n",
       "      <td>4340</td>\n",
       "      <td>False</td>\n",
       "      <td>4360</td>\n",
       "      <td>4215</td>\n",
       "      <td>4250</td>\n",
       "      <td>4307</td>\n",
       "      <td>False</td>\n",
       "      <td>1473400</td>\n",
       "      <td>0.494720</td>\n",
       "      <td>0</td>\n",
       "    </tr>\n",
       "  </tbody>\n",
       "</table>\n",
       "</div>"
      ],
      "text/plain": [
       "                      time  in.AdjustmentFactor  in.Close  \\\n",
       "0  2023-06-16 18:51:32.812                    1       451   \n",
       "1  2023-06-16 18:51:32.812                    1      1936   \n",
       "2  2023-06-16 18:51:32.812                    1      2086   \n",
       "3  2023-06-16 18:51:32.812                    1      2093   \n",
       "4  2023-06-16 18:51:32.812                    1      2445   \n",
       "5  2023-06-16 18:51:32.812                    1       921   \n",
       "6  2023-06-16 18:51:32.812                    1      2550   \n",
       "7  2023-06-16 18:51:32.812                    1       267   \n",
       "8  2023-06-16 18:51:32.812                    1       898   \n",
       "9  2023-06-16 18:51:32.812                    1      2142   \n",
       "10 2023-06-16 18:51:32.812                    1      1572   \n",
       "11 2023-06-16 18:51:32.812                    1      1368   \n",
       "12 2023-06-16 18:51:32.812                    1      1785   \n",
       "13 2023-06-16 18:51:32.812                    1      2970   \n",
       "14 2023-06-16 18:51:32.812                    1      2288   \n",
       "15 2023-06-16 18:51:32.812                    1      5360   \n",
       "16 2023-06-16 18:51:32.812                    1      4340   \n",
       "\n",
       "    in.ExpectedDividend  in.High  in.Low  in.Open  in.SecuritiesCode  \\\n",
       "0                 False      452     443      445               3656   \n",
       "1                 False     1942    1905     1933               9719   \n",
       "2                 False     2091    2040     2048               8098   \n",
       "3                 False     2102    2066     2067               6923   \n",
       "4                 False     2445    2418     2437               9828   \n",
       "5                 False      926     921      924               1780   \n",
       "6                 False     2556    2504     2532               6823   \n",
       "7                 False      271     263      268               4571   \n",
       "8                 False      909     881      909               9273   \n",
       "9                 False     2171    2141     2164               5999   \n",
       "10                False     1574    1523     1527               3179   \n",
       "11                False     1369    1355     1355               7296   \n",
       "12                False     1800    1784     1798               7611   \n",
       "13                False     2979    2913     2926               5310   \n",
       "14                False     2295    2248     2295               9621   \n",
       "15                False     5380    5300     5360               7951   \n",
       "16                False     4360    4215     4250               4307   \n",
       "\n",
       "    in.SupervisionFlag  in.Volume  out.output  check_failures  \n",
       "0                False     322400    0.478053               0  \n",
       "1                False     475600    0.478053               0  \n",
       "2                False     124600    0.478053               0  \n",
       "3                False     929800    0.478053               0  \n",
       "4                False      13700    0.478053               0  \n",
       "5                False      14700    0.478053               0  \n",
       "6                False      17700    0.494720               0  \n",
       "7                False     232600    0.478053               0  \n",
       "8                False      56100    0.478053               0  \n",
       "9                False       5400    0.478053               0  \n",
       "10               False     177500    0.478053               0  \n",
       "11               False     105100    0.478053               0  \n",
       "12               False      74300    0.478053               0  \n",
       "13               False      73400    0.494720               0  \n",
       "14               False      23800    0.478053               0  \n",
       "15               False     411600    0.494720               0  \n",
       "16               False    1473400    0.494720               0  "
      ]
     },
     "execution_count": 11,
     "metadata": {},
     "output_type": "execute_result"
    }
   ],
   "source": [
    "pipeline.infer_from_file('./data/test_xgb_ranker_data.json')"
   ]
  },
  {
   "cell_type": "code",
   "execution_count": null,
   "id": "cbdc5a2e-266f-4da8-a88d-1733aca72f0d",
   "metadata": {},
   "outputs": [
    {
     "name": "stdout",
     "output_type": "stream",
     "text": [
      "Waiting for undeployment - this will take up to 45s ."
     ]
    }
   ],
   "source": [
    "pipeline.undeploy()"
   ]
  },
  {
   "cell_type": "code",
   "execution_count": null,
   "id": "b47473a5-f3f8-49ec-a5f6-6f29aa0b872a",
   "metadata": {},
   "outputs": [],
   "source": []
  }
 ],
 "metadata": {
  "kernelspec": {
   "display_name": "Python 3 (ipykernel)",
   "language": "python",
   "name": "python3"
  },
  "language_info": {
   "codemirror_mode": {
    "name": "ipython",
    "version": 3
   },
   "file_extension": ".py",
   "mimetype": "text/x-python",
   "name": "python",
   "nbconvert_exporter": "python",
   "pygments_lexer": "ipython3",
   "version": "3.9.13"
  }
 },
 "nbformat": 4,
 "nbformat_minor": 5
}
