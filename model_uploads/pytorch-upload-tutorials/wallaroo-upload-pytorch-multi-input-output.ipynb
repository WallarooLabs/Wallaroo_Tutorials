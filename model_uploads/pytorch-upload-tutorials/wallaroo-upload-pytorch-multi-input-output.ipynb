{
 "cells": [
  {
   "attachments": {},
   "cell_type": "markdown",
   "id": "c18c8461-a00a-4a16-b3d7-2dee9187f672",
   "metadata": {},
   "source": [
    "This tutorial can be downloaded as part of the [Wallaroo Tutorials repository](https://github.com/WallarooLabs/Wallaroo_Tutorials/tree/main/model_uploads/pytorch-upload-tutorials).\n",
    "\n",
    "## Wallaroo Model Upload via the Wallaroo SDK: Pytorch Multiple Input Output\n",
    "\n",
    "The following tutorial demonstrates how to upload a Pytorch Multiple Input Output model to a Wallaroo instance.\n",
    "\n",
    "### Tutorial Goals\n",
    "\n",
    "Demonstrate the following:\n",
    "\n",
    "* Upload a Pytorch Multiple Input Output to a Wallaroo instance.\n",
    "* Create a pipeline and add the model as a pipeline step.\n",
    "* Perform a sample inference.\n",
    "\n",
    "### Prerequisites\n",
    "\n",
    "* A Wallaroo version 2023.3.0 or above instance.\n",
    "\n",
    "### References\n",
    "\n",
    "* [Wallaroo MLOps API Essentials Guide: Model Upload and Registrations](https://docs.wallaroo.ai/wallaroo-developer-guides/wallaroo-api-guide/wallaroo-mlops-api-essential-guide/wallaroo-mlops-api-essentials-guide-model-uploads/)\n",
    "* [Wallaroo API Connection Guide](https://docs.wallaroo.ai/wallaroo-developer-guides/wallaroo-api-guide/wallaroo-mlops-connection-guide/)\n",
    "* [DNS Integration Guide](https://docs.wallaroo.ai/wallaroo-operations-guide/wallaroo-configuration/wallaroo-dns-guide/)"
   ]
  },
  {
   "cell_type": "markdown",
   "id": "9379fe2c",
   "metadata": {},
   "source": [
    "## Tutorial Steps\n",
    "\n",
    "### Import Libraries\n",
    "\n",
    "The first step is to import the libraries we'll be using.  These are included by default in the Wallaroo instance's JupyterHub service."
   ]
  },
  {
   "cell_type": "code",
   "execution_count": 10,
   "id": "3436bb69-bb45-4d18-bc19-d82f76ae9bfe",
   "metadata": {},
   "outputs": [],
   "source": [
    "import json\n",
    "import os\n",
    "import pickle\n",
    "\n",
    "import wallaroo\n",
    "from wallaroo.pipeline import Pipeline\n",
    "from wallaroo.deployment_config import DeploymentConfigBuilder\n",
    "from wallaroo.object import EntityNotFoundError\n",
    "from wallaroo.framework import Framework\n",
    "\n",
    "import os\n",
    "os.environ[\"MODELS_ENABLED\"] = \"true\"\n",
    "\n",
    "import pyarrow as pa\n",
    "import numpy as np\n",
    "import pandas as pd\n"
   ]
  },
  {
   "cell_type": "markdown",
   "id": "ed4be291",
   "metadata": {},
   "source": [
    "### Open a Connection to Wallaroo\n",
    "\n",
    "The next step is connect to Wallaroo through the Wallaroo client.  The Python library is included in the Wallaroo install and available through the Jupyter Hub interface provided with your Wallaroo environment.\n",
    "\n",
    "This is accomplished using the `wallaroo.Client()` command, which provides a URL to grant the SDK permission to your specific Wallaroo environment.  When displayed, enter the URL into a browser and confirm permissions.  Store the connection into a variable that can be referenced later.\n",
    "\n",
    "If logging into the Wallaroo instance through the internal JupyterHub service, use `wl = wallaroo.Client()`.  If logging in externally, update the `wallarooPrefix` and `wallarooSuffix` variables with the proper DNS information.  For more information on Wallaroo DNS settings, see the [Wallaroo DNS Integration Guide](https://docs.wallaroo.ai/wallaroo-operations-guide/wallaroo-configuration/wallaroo-dns-guide/)."
   ]
  },
  {
   "cell_type": "code",
   "execution_count": null,
   "id": "dd04b48a",
   "metadata": {},
   "outputs": [],
   "source": [
    "\n",
    "wl = wallaroo.Client()"
   ]
  },
  {
   "cell_type": "markdown",
   "id": "f89c8bfb",
   "metadata": {},
   "source": [
    "### Set Variables and Helper Functions\n",
    "\n",
    "We'll set the name of our workspace, pipeline, models and files.  Workspace names must be unique across the Wallaroo workspace.  For this, we'll add in a randomly generated 4 characters to the workspace name to prevent collisions with other users' workspaces.  If running this tutorial, we recommend hard coding the workspace name so it will function in the same workspace each time it's run.\n",
    "\n",
    "We'll set up some helper functions that will either use existing workspaces and pipelines, or create them if they do not already exist."
   ]
  },
  {
   "cell_type": "code",
   "execution_count": null,
   "id": "170bf187-321c-45ea-867a-0cc2879b0256",
   "metadata": {},
   "outputs": [],
   "source": [
    "def get_workspace(name):\n",
    "    workspace = None\n",
    "    for ws in wl.list_workspaces():\n",
    "        if ws.name() == name:\n",
    "            workspace= ws\n",
    "    if(workspace == None):\n",
    "        workspace = wl.create_workspace(name)\n",
    "    return workspace\n",
    "\n",
    "def get_pipeline(name):\n",
    "    try:\n",
    "        pipeline = wl.pipelines_by_name(name)[0]\n",
    "    except EntityNotFoundError:\n",
    "        pipeline = wl.build_pipeline(name)\n",
    "    return pipeline\n",
    "\n",
    "\n",
    "import string\n",
    "import random\n",
    "\n",
    "# make a random 4 character suffix to prevent overwriting other user's workspaces\n",
    "suffix= ''.join(random.choice(string.ascii_lowercase) for i in range(4))\n",
    "workspace_name = f'pytorch-multi-io{suffix}'\n",
    "pipeline_name = f'pytorch-multi-io'\n",
    "\n",
    "model_name = 'pytorch-multi-io'\n",
    "model_file_name = \"./models/model-auto-conversion_pytorch_multi_io_model.pt\""
   ]
  },
  {
   "cell_type": "markdown",
   "id": "49808c3c",
   "metadata": {},
   "source": [
    "### Create Workspace and Pipeline\n",
    "\n",
    "We will now create the Wallaroo workspace to store our model and set it as the current workspace.  Future commands will default to this workspace for pipeline creation, model uploads, etc.  We'll create our Wallaroo pipeline to deploy our model."
   ]
  },
  {
   "cell_type": "code",
   "execution_count": 5,
   "id": "6df649fa-329a-41c9-a5e6-6676383f1330",
   "metadata": {},
   "outputs": [],
   "source": [
    "workspace = get_workspace(workspace_name)\n",
    "wl.set_current_workspace(workspace)\n",
    "\n",
    "pipeline = get_pipeline(pipeline_name)"
   ]
  },
  {
   "cell_type": "markdown",
   "id": "74194b68",
   "metadata": {},
   "source": [
    "### Configure Data Schemas\n",
    "\n",
    "The following parameters are required for PyTorch models.  Note that while some fields are considered as **optional** for the `upload_model` method, they are required for proper uploading of a PyTorch model to Wallaroo.\n",
    "\n",
    "| Parameter | Type | Description |\n",
    "|---|---|---|\n",
    "|`name` | `string` (*Required*) | The name of the model.  Model names are unique per workspace.  Models that are uploaded with the same name are assigned as a new **version** of the model. |\n",
    "|`path` | `string` (*Required*) | The path to the model file being uploaded. \n",
    "|`framework` |`string` (*Upload Method Optional, PyTorch model Required*) | Set as the `Framework.PyTorch`. |\n",
    "|`input_schema` | `pyarrow.lib.Schema` (*Upload Method Optional, PyTorch model Required*) | The input schema in Apache Arrow schema format. |\n",
    "|`output_schema` | `pyarrow.lib.Schema` (*Upload Method Optional, PyTorch model Required*) | The output schema in Apache Arrow schema format. |\n",
    "| `convert_wait` | `bool` (*Upload Method Optional, PyTorch model Optional*) (*Default: True*) | <ul><li>**True**: Waits in the script for the model conversion completion.</li><li>**False**:  Proceeds with the script without waiting for the model conversion process to display complete. |\n",
    "\n",
    "Once the upload process starts, the model is containerized by the Wallaroo instance.  This process may take up to 10 minutes."
   ]
  },
  {
   "cell_type": "code",
   "execution_count": 6,
   "id": "c4439653",
   "metadata": {},
   "outputs": [],
   "source": [
    "input_schema = pa.schema([\n",
    "    pa.field('input_1', pa.list_(pa.float64(), list_size=10)),\n",
    "    pa.field('input_2', pa.list_(pa.float64(), list_size=5))\n",
    "])\n",
    "output_schema = pa.schema([\n",
    "    pa.field('output_1', pa.list_(pa.float64(), list_size=3)),\n",
    "    pa.field('output_2', pa.list_(pa.float64(), list_size=2))\n",
    "])"
   ]
  },
  {
   "attachments": {},
   "cell_type": "markdown",
   "id": "2a7ab7eb-90de-4e94-90d5-316e13eae5ab",
   "metadata": {},
   "source": [
    "### Upload Model\n",
    "\n",
    "The model will be uploaded with the framework set as `Framework.PYTORCH`."
   ]
  },
  {
   "cell_type": "code",
   "execution_count": 11,
   "id": "b36b29d8",
   "metadata": {},
   "outputs": [
    {
     "name": "stdout",
     "output_type": "stream",
     "text": [
      "Waiting for model conversion... It may take up to 10.0min.\n",
      "Model is Pending conversion.Converting..........Ready.\n"
     ]
    },
    {
     "data": {
      "text/html": [
       "<table>\n",
       "        <tr>\n",
       "          <td>Name</td>\n",
       "          <td>pytorch-multi-io</td>\n",
       "        </tr>\n",
       "        <tr>\n",
       "          <td>Version</td>\n",
       "          <td>d503b511-7a0c-4c90-9cbc-022467886dcd</td>\n",
       "        </tr>\n",
       "        <tr>\n",
       "          <td>File Name</td>\n",
       "          <td>model-auto-conversion_pytorch_multi_io_model.pt</td>\n",
       "        </tr>\n",
       "        <tr>\n",
       "          <td>SHA</td>\n",
       "          <td>792db9ee9f41aded3c1d4705f50ccdedd21cafb8b6232c03e4a849b6da1050a8</td>\n",
       "        </tr>\n",
       "        <tr>\n",
       "          <td>Status</td>\n",
       "          <td>ready</td>\n",
       "        </tr>\n",
       "        <tr>\n",
       "          <td>Image Path</td>\n",
       "          <td>proxy.replicated.com/proxy/wallaroo/ghcr.io/wallaroolabs/mlflow-deploy:v2023.3.0-main-3509</td>\n",
       "        </tr>\n",
       "        <tr>\n",
       "          <td>Updated At</td>\n",
       "          <td>2023-13-Jul 17:40:39</td>\n",
       "        </tr>\n",
       "      </table>"
      ],
      "text/plain": [
       "{'name': 'pytorch-multi-io', 'version': 'd503b511-7a0c-4c90-9cbc-022467886dcd', 'file_name': 'model-auto-conversion_pytorch_multi_io_model.pt', 'image_path': 'proxy.replicated.com/proxy/wallaroo/ghcr.io/wallaroolabs/mlflow-deploy:v2023.3.0-main-3509', 'last_update_time': datetime.datetime(2023, 7, 13, 17, 40, 39, 404769, tzinfo=tzutc())}"
      ]
     },
     "execution_count": 11,
     "metadata": {},
     "output_type": "execute_result"
    }
   ],
   "source": [
    "model = wl.upload_model(model_name, \n",
    "                        model_file_name, \n",
    "                        framework=Framework.PYTORCH, \n",
    "                        input_schema=input_schema, \n",
    "                        output_schema=output_schema\n",
    "                       )\n",
    "model"
   ]
  },
  {
   "cell_type": "code",
   "execution_count": 16,
   "id": "18e58d1c",
   "metadata": {},
   "outputs": [
    {
     "data": {
      "text/plain": [
       "'mlflow'"
      ]
     },
     "execution_count": 16,
     "metadata": {},
     "output_type": "execute_result"
    }
   ],
   "source": [
    "model.config().runtime()"
   ]
  },
  {
   "cell_type": "markdown",
   "id": "d007c496",
   "metadata": {},
   "source": [
    "### Deploy Pipeline\n",
    "\n",
    "The model is uploaded and ready for use.  We'll add it as a step in our pipeline, then deploy the pipeline.  For this example we're allocated 0.25 cpu and 4 Gi RAM to the pipeline through the pipeline's deployment configuration."
   ]
  },
  {
   "cell_type": "code",
   "execution_count": 12,
   "id": "2a709f2c-1332-4984-9cf8-87c6328d6ae4",
   "metadata": {},
   "outputs": [],
   "source": [
    "deployment_config = DeploymentConfigBuilder() \\\n",
    "    .cpus(0.25).memory('1Gi') \\\n",
    "    .build()"
   ]
  },
  {
   "cell_type": "code",
   "execution_count": 13,
   "id": "5ecc0a18-5912-4052-98a7-074b9db350b1",
   "metadata": {},
   "outputs": [
    {
     "data": {
      "text/plain": [
       "{'status': 'Running',\n",
       " 'details': [],\n",
       " 'engines': [{'ip': '10.244.9.169',\n",
       "   'name': 'engine-7d8fbd4b74-kc5l5',\n",
       "   'status': 'Running',\n",
       "   'reason': None,\n",
       "   'details': [],\n",
       "   'pipeline_statuses': {'pipelines': [{'id': 'pytorch-multi-io',\n",
       "      'status': 'Running'}]},\n",
       "   'model_statuses': {'models': [{'name': 'pytorch-multi-io',\n",
       "      'version': 'd503b511-7a0c-4c90-9cbc-022467886dcd',\n",
       "      'sha': '792db9ee9f41aded3c1d4705f50ccdedd21cafb8b6232c03e4a849b6da1050a8',\n",
       "      'status': 'Running'}]}}],\n",
       " 'engine_lbs': [{'ip': '10.244.9.167',\n",
       "   'name': 'engine-lb-584f54c899-xb4wd',\n",
       "   'status': 'Running',\n",
       "   'reason': None,\n",
       "   'details': []}],\n",
       " 'sidekicks': [{'ip': '10.244.9.168',\n",
       "   'name': 'engine-sidekick-pytorch-multi-io-266-c9fdfd57c-r26jj',\n",
       "   'status': 'Running',\n",
       "   'reason': None,\n",
       "   'details': [],\n",
       "   'statuses': '\\n'}]}"
      ]
     },
     "execution_count": 13,
     "metadata": {},
     "output_type": "execute_result"
    }
   ],
   "source": [
    "# clear the pipeline if it was used before\n",
    "pipeline.undeploy()\n",
    "pipeline.clear()\n",
    "\n",
    "pipeline.add_model_step(model)\n",
    "\n",
    "pipeline.deploy(deployment_config=deployment_config)\n",
    "pipeline.status()"
   ]
  },
  {
   "attachments": {},
   "cell_type": "markdown",
   "id": "60cb4aa0-601d-4556-a3f8-cdc59e758add",
   "metadata": {},
   "source": [
    "### Run Inference\n",
    "\n",
    "A sample inference will be run.  First the pandas DataFrame used for the inference is created, then the inference run through the pipeline's `infer` method."
   ]
  },
  {
   "cell_type": "code",
   "execution_count": 14,
   "id": "52bdb987",
   "metadata": {},
   "outputs": [],
   "source": [
    "mock_inference_data = [np.random.rand(10, 10), np.random.rand(10, 5)]\n",
    "mock_dataframe = pd.DataFrame(\n",
    "    {\n",
    "        \"input_1\": mock_inference_data[0].tolist(),\n",
    "        \"input_2\": mock_inference_data[1].tolist(),\n",
    "    }\n",
    ")"
   ]
  },
  {
   "cell_type": "code",
   "execution_count": 15,
   "id": "1eab3c59-c7a2-4e79-a468-e5bcb65d916c",
   "metadata": {},
   "outputs": [
    {
     "data": {
      "text/html": [
       "<div>\n",
       "<style scoped>\n",
       "    .dataframe tbody tr th:only-of-type {\n",
       "        vertical-align: middle;\n",
       "    }\n",
       "\n",
       "    .dataframe tbody tr th {\n",
       "        vertical-align: top;\n",
       "    }\n",
       "\n",
       "    .dataframe thead th {\n",
       "        text-align: right;\n",
       "    }\n",
       "</style>\n",
       "<table border=\"1\" class=\"dataframe\">\n",
       "  <thead>\n",
       "    <tr style=\"text-align: right;\">\n",
       "      <th></th>\n",
       "      <th>time</th>\n",
       "      <th>in.input_1</th>\n",
       "      <th>in.input_2</th>\n",
       "      <th>out.output_1</th>\n",
       "      <th>out.output_2</th>\n",
       "      <th>check_failures</th>\n",
       "    </tr>\n",
       "  </thead>\n",
       "  <tbody>\n",
       "    <tr>\n",
       "      <th>0</th>\n",
       "      <td>2023-07-13 17:41:15.828</td>\n",
       "      <td>[0.7193870373, 0.0442841786, 0.0050186971, 0.9...</td>\n",
       "      <td>[0.5665563078, 0.2719984279, 0.8020988158, 0.9...</td>\n",
       "      <td>[-0.054150406271219254, -0.08067788183689117, ...</td>\n",
       "      <td>[-0.0867157131433487, 0.03102545440196991]</td>\n",
       "      <td>0</td>\n",
       "    </tr>\n",
       "    <tr>\n",
       "      <th>1</th>\n",
       "      <td>2023-07-13 17:41:15.828</td>\n",
       "      <td>[0.3303183352, 0.7338588864, 0.4901244227, 0.4...</td>\n",
       "      <td>[0.0020920459, 0.7473108704, 0.4701280309, 0.8...</td>\n",
       "      <td>[-0.0814041793346405, -0.008595120161771774, 0...</td>\n",
       "      <td>[0.22059735655784607, -0.0954931378364563]</td>\n",
       "      <td>0</td>\n",
       "    </tr>\n",
       "    <tr>\n",
       "      <th>2</th>\n",
       "      <td>2023-07-13 17:41:15.828</td>\n",
       "      <td>[0.8350163099, 0.9301095252, 0.4634737661, 0.0...</td>\n",
       "      <td>[0.2042988348, 0.3131013315, 0.2396516618, 0.8...</td>\n",
       "      <td>[-0.0936204195022583, 0.07057543098926544, 0.2...</td>\n",
       "      <td>[0.07758928835391998, 0.02205061912536621]</td>\n",
       "      <td>0</td>\n",
       "    </tr>\n",
       "    <tr>\n",
       "      <th>3</th>\n",
       "      <td>2023-07-13 17:41:15.828</td>\n",
       "      <td>[0.9560662259, 0.7334543871, 0.8347215148, 0.5...</td>\n",
       "      <td>[0.0846331092, 0.4104567348, 0.9964352268, 0.7...</td>\n",
       "      <td>[-0.07443580776453018, 0.00262654572725296, 0....</td>\n",
       "      <td>[0.08881741762161255, 0.184173583984375]</td>\n",
       "      <td>0</td>\n",
       "    </tr>\n",
       "    <tr>\n",
       "      <th>4</th>\n",
       "      <td>2023-07-13 17:41:15.828</td>\n",
       "      <td>[0.8893996022, 0.0422634898, 0.094115839, 0.30...</td>\n",
       "      <td>[0.7091750984, 0.2677670739, 0.797334875, 0.60...</td>\n",
       "      <td>[0.011080481112003326, -0.03954530879855156, 0...</td>\n",
       "      <td>[0.02079789713025093, -0.023370355367660522]</td>\n",
       "      <td>0</td>\n",
       "    </tr>\n",
       "    <tr>\n",
       "      <th>5</th>\n",
       "      <td>2023-07-13 17:41:15.828</td>\n",
       "      <td>[0.360097173, 0.5326510416, 0.7427586985, 0.73...</td>\n",
       "      <td>[0.4059651678, 0.8209608747, 0.6650853071, 0.5...</td>\n",
       "      <td>[-0.041532136499881744, -0.02947094291448593, ...</td>\n",
       "      <td>[0.19275487959384918, -0.09685075283050537]</td>\n",
       "      <td>0</td>\n",
       "    </tr>\n",
       "    <tr>\n",
       "      <th>6</th>\n",
       "      <td>2023-07-13 17:41:15.828</td>\n",
       "      <td>[0.8493053911, 0.9772701228, 0.1395685377, 0.6...</td>\n",
       "      <td>[0.5020254829, 0.664290124, 0.0900637878, 0.27...</td>\n",
       "      <td>[0.023206554353237152, -0.05458785593509674, 0...</td>\n",
       "      <td>[0.252506822347641, -0.056555017828941345]</td>\n",
       "      <td>0</td>\n",
       "    </tr>\n",
       "    <tr>\n",
       "      <th>7</th>\n",
       "      <td>2023-07-13 17:41:15.828</td>\n",
       "      <td>[0.1783516801, 0.7383490632, 0.8826853, 0.8707...</td>\n",
       "      <td>[0.197614553, 0.7345261372, 0.3909055798, 0.12...</td>\n",
       "      <td>[-0.007199503481388092, -0.008408397436141968,...</td>\n",
       "      <td>[0.15768739581108093, 0.10399264097213745]</td>\n",
       "      <td>0</td>\n",
       "    </tr>\n",
       "    <tr>\n",
       "      <th>8</th>\n",
       "      <td>2023-07-13 17:41:15.828</td>\n",
       "      <td>[0.7671391397, 0.4079364465, 0.763576349, 0.26...</td>\n",
       "      <td>[0.3169436757, 0.3800284784, 0.1143413322, 0.2...</td>\n",
       "      <td>[-0.027935631573200226, 0.08666972815990448, 0...</td>\n",
       "      <td>[0.25775399804115295, -0.042692944407463074]</td>\n",
       "      <td>0</td>\n",
       "    </tr>\n",
       "    <tr>\n",
       "      <th>9</th>\n",
       "      <td>2023-07-13 17:41:15.828</td>\n",
       "      <td>[0.8885134534, 0.2440000822, 0.56551096, 0.780...</td>\n",
       "      <td>[0.1742113245, 0.624024604, 0.267043414, 0.153...</td>\n",
       "      <td>[-0.004899069666862488, 0.04411523416638374, 0...</td>\n",
       "      <td>[0.22322586178779602, -0.12406840920448303]</td>\n",
       "      <td>0</td>\n",
       "    </tr>\n",
       "  </tbody>\n",
       "</table>\n",
       "</div>"
      ],
      "text/plain": [
       "                     time                                         in.input_1  \\\n",
       "0 2023-07-13 17:41:15.828  [0.7193870373, 0.0442841786, 0.0050186971, 0.9...   \n",
       "1 2023-07-13 17:41:15.828  [0.3303183352, 0.7338588864, 0.4901244227, 0.4...   \n",
       "2 2023-07-13 17:41:15.828  [0.8350163099, 0.9301095252, 0.4634737661, 0.0...   \n",
       "3 2023-07-13 17:41:15.828  [0.9560662259, 0.7334543871, 0.8347215148, 0.5...   \n",
       "4 2023-07-13 17:41:15.828  [0.8893996022, 0.0422634898, 0.094115839, 0.30...   \n",
       "5 2023-07-13 17:41:15.828  [0.360097173, 0.5326510416, 0.7427586985, 0.73...   \n",
       "6 2023-07-13 17:41:15.828  [0.8493053911, 0.9772701228, 0.1395685377, 0.6...   \n",
       "7 2023-07-13 17:41:15.828  [0.1783516801, 0.7383490632, 0.8826853, 0.8707...   \n",
       "8 2023-07-13 17:41:15.828  [0.7671391397, 0.4079364465, 0.763576349, 0.26...   \n",
       "9 2023-07-13 17:41:15.828  [0.8885134534, 0.2440000822, 0.56551096, 0.780...   \n",
       "\n",
       "                                          in.input_2  \\\n",
       "0  [0.5665563078, 0.2719984279, 0.8020988158, 0.9...   \n",
       "1  [0.0020920459, 0.7473108704, 0.4701280309, 0.8...   \n",
       "2  [0.2042988348, 0.3131013315, 0.2396516618, 0.8...   \n",
       "3  [0.0846331092, 0.4104567348, 0.9964352268, 0.7...   \n",
       "4  [0.7091750984, 0.2677670739, 0.797334875, 0.60...   \n",
       "5  [0.4059651678, 0.8209608747, 0.6650853071, 0.5...   \n",
       "6  [0.5020254829, 0.664290124, 0.0900637878, 0.27...   \n",
       "7  [0.197614553, 0.7345261372, 0.3909055798, 0.12...   \n",
       "8  [0.3169436757, 0.3800284784, 0.1143413322, 0.2...   \n",
       "9  [0.1742113245, 0.624024604, 0.267043414, 0.153...   \n",
       "\n",
       "                                        out.output_1  \\\n",
       "0  [-0.054150406271219254, -0.08067788183689117, ...   \n",
       "1  [-0.0814041793346405, -0.008595120161771774, 0...   \n",
       "2  [-0.0936204195022583, 0.07057543098926544, 0.2...   \n",
       "3  [-0.07443580776453018, 0.00262654572725296, 0....   \n",
       "4  [0.011080481112003326, -0.03954530879855156, 0...   \n",
       "5  [-0.041532136499881744, -0.02947094291448593, ...   \n",
       "6  [0.023206554353237152, -0.05458785593509674, 0...   \n",
       "7  [-0.007199503481388092, -0.008408397436141968,...   \n",
       "8  [-0.027935631573200226, 0.08666972815990448, 0...   \n",
       "9  [-0.004899069666862488, 0.04411523416638374, 0...   \n",
       "\n",
       "                                   out.output_2  check_failures  \n",
       "0    [-0.0867157131433487, 0.03102545440196991]               0  \n",
       "1    [0.22059735655784607, -0.0954931378364563]               0  \n",
       "2    [0.07758928835391998, 0.02205061912536621]               0  \n",
       "3      [0.08881741762161255, 0.184173583984375]               0  \n",
       "4  [0.02079789713025093, -0.023370355367660522]               0  \n",
       "5   [0.19275487959384918, -0.09685075283050537]               0  \n",
       "6    [0.252506822347641, -0.056555017828941345]               0  \n",
       "7    [0.15768739581108093, 0.10399264097213745]               0  \n",
       "8  [0.25775399804115295, -0.042692944407463074]               0  \n",
       "9   [0.22322586178779602, -0.12406840920448303]               0  "
      ]
     },
     "execution_count": 15,
     "metadata": {},
     "output_type": "execute_result"
    }
   ],
   "source": [
    "pipeline.infer(mock_dataframe)"
   ]
  },
  {
   "cell_type": "markdown",
   "id": "e467f616",
   "metadata": {},
   "source": [
    "### Undeploy Pipelines\n",
    "\n",
    "With the tutorial complete, the pipeline is undeployed to return the resources back to the cluster."
   ]
  },
  {
   "cell_type": "code",
   "execution_count": 17,
   "id": "cbdc5a2e-266f-4da8-a88d-1733aca72f0d",
   "metadata": {},
   "outputs": [
    {
     "data": {
      "text/html": [
       "<table><tr><th>name</th> <td>pytorch-multi-io</td></tr><tr><th>created</th> <td>2023-07-13 17:38:02.341959+00:00</td></tr><tr><th>last_updated</th> <td>2023-07-13 17:40:44.329100+00:00</td></tr><tr><th>deployed</th> <td>False</td></tr><tr><th>tags</th> <td></td></tr><tr><th>versions</th> <td>6867e6c5-7193-44d8-9756-4dfbc8b7db5c, 7b21d715-e95e-4557-abd1-a856eaea6e42</td></tr><tr><th>steps</th> <td>pytorch-multi-io</td></tr></table>"
      ],
      "text/plain": [
       "{'name': 'pytorch-multi-io', 'create_time': datetime.datetime(2023, 7, 13, 17, 38, 2, 341959, tzinfo=tzutc()), 'definition': \"[{'ModelInference': {'models': [{'name': 'pytorch-multi-io', 'version': 'd503b511-7a0c-4c90-9cbc-022467886dcd', 'sha': '792db9ee9f41aded3c1d4705f50ccdedd21cafb8b6232c03e4a849b6da1050a8'}]}}]\"}"
      ]
     },
     "execution_count": 17,
     "metadata": {},
     "output_type": "execute_result"
    }
   ],
   "source": [
    "pipeline.undeploy()"
   ]
  }
 ],
 "metadata": {
  "kernelspec": {
   "display_name": "Python 3 (ipykernel)",
   "language": "python",
   "name": "python3"
  },
  "language_info": {
   "codemirror_mode": {
    "name": "ipython",
    "version": 3
   },
   "file_extension": ".py",
   "mimetype": "text/x-python",
   "name": "python",
   "nbconvert_exporter": "python",
   "pygments_lexer": "ipython3",
   "version": "3.9.16"
  }
 },
 "nbformat": 4,
 "nbformat_minor": 5
}
