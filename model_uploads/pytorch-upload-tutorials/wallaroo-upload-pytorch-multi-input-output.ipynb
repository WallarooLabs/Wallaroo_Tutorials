{
 "cells": [
  {
   "attachments": {},
   "cell_type": "markdown",
   "id": "c18c8461-a00a-4a16-b3d7-2dee9187f672",
   "metadata": {},
   "source": [
    "This tutorial can be downloaded as part of the [Wallaroo Tutorials repository](https://github.com/WallarooLabs/Wallaroo_Tutorials/tree/main/model_uploads/pytorch-upload-tutorials).\n",
    "\n",
    "## Wallaroo Model Upload via the Wallaroo SDK: Pytorch Multiple Input Output\n",
    "\n",
    "The following tutorial demonstrates how to upload a Pytorch Multiple Input Output model to a Wallaroo instance.\n",
    "\n",
    "### Tutorial Goals\n",
    "\n",
    "Demonstrate the following:\n",
    "\n",
    "* Upload a Pytorch Multiple Input Output to a Wallaroo instance.\n",
    "* Create a pipeline and add the model as a pipeline step.\n",
    "* Perform a sample inference.\n",
    "\n",
    "### Prerequisites\n",
    "\n",
    "* A Wallaroo version 2023.2.1 or above instance.\n",
    "\n",
    "### References\n",
    "\n",
    "* [Wallaroo MLOps API Essentials Guide: Model Upload and Registrations](https://docs.wallaroo.ai/wallaroo-developer-guides/wallaroo-api-guide/wallaroo-mlops-api-essential-guide/wallaroo-mlops-api-essentials-guide-model-uploads/)\n",
    "* [Wallaroo API Connection Guide](https://docs.wallaroo.ai/wallaroo-developer-guides/wallaroo-api-guide/wallaroo-mlops-connection-guide/)\n",
    "* [DNS Integration Guide](https://docs.wallaroo.ai/wallaroo-operations-guide/wallaroo-configuration/wallaroo-dns-guide/)"
   ]
  },
  {
   "cell_type": "markdown",
   "id": "9379fe2c",
   "metadata": {},
   "source": [
    "## Tutorial Steps\n",
    "\n",
    "### Import Libraries\n",
    "\n",
    "The first step is to import the libraries we'll be using.  These are included by default in the Wallaroo instance's JupyterHub service."
   ]
  },
  {
   "cell_type": "code",
   "execution_count": 1,
   "id": "3436bb69-bb45-4d18-bc19-d82f76ae9bfe",
   "metadata": {},
   "outputs": [],
   "source": [
    "import json\n",
    "import os\n",
    "import pickle\n",
    "\n",
    "import wallaroo\n",
    "from wallaroo.pipeline import Pipeline\n",
    "from wallaroo.deployment_config import DeploymentConfigBuilder\n",
    "from wallaroo.object import EntityNotFoundError\n",
    "from wallaroo.framework import Framework\n",
    "\n",
    "import pyarrow as pa\n",
    "import numpy as np\n",
    "import pandas as pd\n"
   ]
  },
  {
   "cell_type": "markdown",
   "id": "ed4be291",
   "metadata": {},
   "source": [
    "### Open a Connection to Wallaroo\n",
    "\n",
    "The next step is connect to Wallaroo through the Wallaroo client.  The Python library is included in the Wallaroo install and available through the Jupyter Hub interface provided with your Wallaroo environment.\n",
    "\n",
    "This is accomplished using the `wallaroo.Client()` command, which provides a URL to grant the SDK permission to your specific Wallaroo environment.  When displayed, enter the URL into a browser and confirm permissions.  Store the connection into a variable that can be referenced later.\n",
    "\n",
    "If logging into the Wallaroo instance through the internal JupyterHub service, use `wl = wallaroo.Client()`.  If logging in externally, update the `wallarooPrefix` and `wallarooSuffix` variables with the proper DNS information.  For more information on Wallaroo DNS settings, see the [Wallaroo DNS Integration Guide](https://docs.wallaroo.ai/wallaroo-operations-guide/wallaroo-configuration/wallaroo-dns-guide/)."
   ]
  },
  {
   "cell_type": "code",
   "execution_count": 2,
   "id": "dd04b48a",
   "metadata": {},
   "outputs": [],
   "source": [
    "\n",
    "wl = wallaroo.Client()"
   ]
  },
  {
   "cell_type": "markdown",
   "id": "f89c8bfb",
   "metadata": {},
   "source": [
    "### Set Variables and Helper Functions\n",
    "\n",
    "We'll set the name of our workspace, pipeline, models and files.  Workspace names must be unique across the Wallaroo workspace.  For this, we'll add in a randomly generated 4 characters to the workspace name to prevent collisions with other users' workspaces.  If running this tutorial, we recommend hard coding the workspace name so it will function in the same workspace each time it's run.\n",
    "\n",
    "We'll set up some helper functions that will either use existing workspaces and pipelines, or create them if they do not already exist."
   ]
  },
  {
   "cell_type": "code",
   "execution_count": 3,
   "id": "170bf187-321c-45ea-867a-0cc2879b0256",
   "metadata": {},
   "outputs": [],
   "source": [
    "def get_workspace(name):\n",
    "    workspace = None\n",
    "    for ws in wl.list_workspaces():\n",
    "        if ws.name() == name:\n",
    "            workspace= ws\n",
    "    if(workspace == None):\n",
    "        workspace = wl.create_workspace(name)\n",
    "    return workspace\n",
    "\n",
    "def get_pipeline(name):\n",
    "    try:\n",
    "        pipeline = wl.pipelines_by_name(name)[0]\n",
    "    except EntityNotFoundError:\n",
    "        pipeline = wl.build_pipeline(name)\n",
    "    return pipeline\n",
    "\n",
    "\n",
    "import string\n",
    "import random\n",
    "\n",
    "# make a random 4 character suffix to prevent overwriting other user's workspaces\n",
    "suffix= ''.join(random.choice(string.ascii_lowercase) for i in range(4))\n",
    "\n",
    "suffix='jch'\n",
    "\n",
    "workspace_name = f'pytorch-multi-io{suffix}'\n",
    "pipeline_name = f'pytorch-multi-io'\n",
    "\n",
    "model_name = 'pytorch-multi-io'\n",
    "model_file_name = \"./models/model-auto-conversion_pytorch_multi_io_model.pt\""
   ]
  },
  {
   "cell_type": "markdown",
   "id": "49808c3c",
   "metadata": {},
   "source": [
    "### Create Workspace and Pipeline\n",
    "\n",
    "We will now create the Wallaroo workspace to store our model and set it as the current workspace.  Future commands will default to this workspace for pipeline creation, model uploads, etc.  We'll create our Wallaroo pipeline to deploy our model."
   ]
  },
  {
   "cell_type": "code",
   "execution_count": 4,
   "id": "6df649fa-329a-41c9-a5e6-6676383f1330",
   "metadata": {},
   "outputs": [],
   "source": [
    "workspace = get_workspace(workspace_name)\n",
    "wl.set_current_workspace(workspace)\n",
    "\n",
    "pipeline = get_pipeline(pipeline_name)"
   ]
  },
  {
   "cell_type": "markdown",
   "id": "74194b68",
   "metadata": {},
   "source": [
    "### Configure Data Schemas\n",
    "\n",
    "The following parameters are required for PyTorch models.  Note that while some fields are considered as **optional** for the `upload_model` method, they are required for proper uploading of a PyTorch model to Wallaroo.\n",
    "\n",
    "| Parameter | Type | Description |\n",
    "|---|---|---|\n",
    "|`name` | `string` (*Required*) | The name of the model.  Model names are unique per workspace.  Models that are uploaded with the same name are assigned as a new **version** of the model. |\n",
    "|`path` | `string` (*Required*) | The path to the model file being uploaded. \n",
    "|`framework` |`string` (*Upload Method Optional, PyTorch model Required*) | Set as the `Framework.PyTorch`. |\n",
    "|`input_schema` | `pyarrow.lib.Schema` (*Upload Method Optional, PyTorch model Required*) | The input schema in Apache Arrow schema format. Note that float values **must** be `pyarrow.float32()`. |\n",
    "|`output_schema` | `pyarrow.lib.Schema` (*Upload Method Optional, PyTorch model Required*) | The output schema in Apache Arrow schema format. Note that float values **must** be `pyarrow.float32()`. |\n",
    "| `convert_wait` | `bool` (*Upload Method Optional, PyTorch model Optional*) (*Default: True*) | <ul><li>**True**: Waits in the script for the model conversion completion.</li><li>**False**:  Proceeds with the script without waiting for the model conversion process to display complete. |\n",
    "\n",
    "Once the upload process starts, the model is containerized by the Wallaroo instance.  This process may take up to 10 minutes."
   ]
  },
  {
   "cell_type": "code",
   "execution_count": 33,
   "id": "c4439653",
   "metadata": {},
   "outputs": [],
   "source": [
    "input_schema = pa.schema([\n",
    "    pa.field('input_1', pa.list_(pa.float32(), list_size=10)),\n",
    "    pa.field('input_2', pa.list_(pa.float32(), list_size=5))\n",
    "])\n",
    "output_schema = pa.schema([\n",
    "    pa.field('output_1', pa.list_(pa.float32(), list_size=3)),\n",
    "    pa.field('output_2', pa.list_(pa.float32(), list_size=2))\n",
    "])"
   ]
  },
  {
   "attachments": {},
   "cell_type": "markdown",
   "id": "2a7ab7eb-90de-4e94-90d5-316e13eae5ab",
   "metadata": {},
   "source": [
    "### Upload Model\n",
    "\n",
    "The model will be uploaded with the framework set as `Framework.PYTORCH`."
   ]
  },
  {
   "cell_type": "code",
   "execution_count": 34,
   "id": "b36b29d8",
   "metadata": {},
   "outputs": [
    {
     "name": "stdout",
     "output_type": "stream",
     "text": [
      "Waiting for model loading - this will take up to 10.0min.\n",
      "Model is pending loading to a native runtime.\n",
      "Model is attempting loading to a native runtime.successful\n",
      "\n",
      "Ready\n"
     ]
    },
    {
     "data": {
      "text/html": [
       "<table>\n",
       "        <tr>\n",
       "          <td>Name</td>\n",
       "          <td>pytorch-multi-io</td>\n",
       "        </tr>\n",
       "        <tr>\n",
       "          <td>Version</td>\n",
       "          <td>3ef186ed-1e2b-4699-a37a-5b05e0287d65</td>\n",
       "        </tr>\n",
       "        <tr>\n",
       "          <td>File Name</td>\n",
       "          <td>model-auto-conversion_pytorch_multi_io_model.pt</td>\n",
       "        </tr>\n",
       "        <tr>\n",
       "          <td>SHA</td>\n",
       "          <td>792db9ee9f41aded3c1d4705f50ccdedd21cafb8b6232c03e4a849b6da1050a8</td>\n",
       "        </tr>\n",
       "        <tr>\n",
       "          <td>Status</td>\n",
       "          <td>ready</td>\n",
       "        </tr>\n",
       "        <tr>\n",
       "          <td>Image Path</td>\n",
       "          <td>None</td>\n",
       "        </tr>\n",
       "        <tr>\n",
       "          <td>Architecture</td>\n",
       "          <td>None</td>\n",
       "        </tr>\n",
       "        <tr>\n",
       "          <td>Updated At</td>\n",
       "          <td>2023-19-Oct 22:17:36</td>\n",
       "        </tr>\n",
       "      </table>"
      ],
      "text/plain": [
       "{'name': 'pytorch-multi-io', 'version': '3ef186ed-1e2b-4699-a37a-5b05e0287d65', 'file_name': 'model-auto-conversion_pytorch_multi_io_model.pt', 'image_path': None, 'arch': None, 'last_update_time': datetime.datetime(2023, 10, 19, 22, 17, 36, 538235, tzinfo=tzutc())}"
      ]
     },
     "execution_count": 34,
     "metadata": {},
     "output_type": "execute_result"
    }
   ],
   "source": [
    "model = wl.upload_model(model_name, \n",
    "                        model_file_name, \n",
    "                        framework=Framework.PYTORCH, \n",
    "                        input_schema=input_schema, \n",
    "                        output_schema=output_schema\n",
    "                       )\n",
    "model"
   ]
  },
  {
   "cell_type": "code",
   "execution_count": 35,
   "id": "18e58d1c",
   "metadata": {},
   "outputs": [
    {
     "data": {
      "text/plain": [
       "'onnx'"
      ]
     },
     "execution_count": 35,
     "metadata": {},
     "output_type": "execute_result"
    }
   ],
   "source": [
    "model.config().runtime()"
   ]
  },
  {
   "cell_type": "markdown",
   "id": "d007c496",
   "metadata": {},
   "source": [
    "### Deploy Pipeline\n",
    "\n",
    "The model is uploaded and ready for use.  We'll add it as a step in our pipeline, then deploy the pipeline.  For this example we're allocated 0.25 cpu and 4 Gi RAM to the pipeline through the pipeline's deployment configuration."
   ]
  },
  {
   "cell_type": "code",
   "execution_count": 36,
   "id": "2a709f2c-1332-4984-9cf8-87c6328d6ae4",
   "metadata": {},
   "outputs": [],
   "source": [
    "deployment_config = DeploymentConfigBuilder() \\\n",
    "    .cpus(0.25).memory('1Gi') \\\n",
    "    .build()"
   ]
  },
  {
   "cell_type": "code",
   "execution_count": 38,
   "id": "5ecc0a18-5912-4052-98a7-074b9db350b1",
   "metadata": {},
   "outputs": [
    {
     "data": {
      "text/plain": [
       "{'status': 'Running',\n",
       " 'details': [],\n",
       " 'engines': [{'ip': '10.244.3.128',\n",
       "   'name': 'engine-77c4d6dbb4-nthvl',\n",
       "   'status': 'Running',\n",
       "   'reason': None,\n",
       "   'details': [],\n",
       "   'pipeline_statuses': {'pipelines': [{'id': 'pytorch-multi-io',\n",
       "      'status': 'Running'}]},\n",
       "   'model_statuses': {'models': [{'name': 'pytorch-multi-io',\n",
       "      'version': '3ef186ed-1e2b-4699-a37a-5b05e0287d65',\n",
       "      'sha': '792db9ee9f41aded3c1d4705f50ccdedd21cafb8b6232c03e4a849b6da1050a8',\n",
       "      'status': 'Running'}]}}],\n",
       " 'engine_lbs': [{'ip': '10.244.2.187',\n",
       "   'name': 'engine-lb-584f54c899-mbq8z',\n",
       "   'status': 'Running',\n",
       "   'reason': None,\n",
       "   'details': []}],\n",
       " 'sidekicks': []}"
      ]
     },
     "execution_count": 38,
     "metadata": {},
     "output_type": "execute_result"
    }
   ],
   "source": [
    "# clear the pipeline if it was used before\n",
    "pipeline.clear()\n",
    "\n",
    "pipeline.add_model_step(model)\n",
    "\n",
    "pipeline.deploy(deployment_config=deployment_config)\n",
    "pipeline.status()"
   ]
  },
  {
   "attachments": {},
   "cell_type": "markdown",
   "id": "60cb4aa0-601d-4556-a3f8-cdc59e758add",
   "metadata": {},
   "source": [
    "### Run Inference\n",
    "\n",
    "A sample inference will be run.  First the pandas DataFrame used for the inference is created, then the inference run through the pipeline's `infer` method."
   ]
  },
  {
   "cell_type": "code",
   "execution_count": 39,
   "id": "52bdb987",
   "metadata": {},
   "outputs": [],
   "source": [
    "mock_inference_data = [np.random.rand(10, 10), np.random.rand(10, 5)]\n",
    "mock_dataframe = pd.DataFrame(\n",
    "    {\n",
    "        \"input_1\": mock_inference_data[0].tolist(),\n",
    "        \"input_2\": mock_inference_data[1].tolist(),\n",
    "    }\n",
    ")"
   ]
  },
  {
   "cell_type": "code",
   "execution_count": 40,
   "id": "1eab3c59-c7a2-4e79-a468-e5bcb65d916c",
   "metadata": {},
   "outputs": [
    {
     "data": {
      "text/html": [
       "<div>\n",
       "<style scoped>\n",
       "    .dataframe tbody tr th:only-of-type {\n",
       "        vertical-align: middle;\n",
       "    }\n",
       "\n",
       "    .dataframe tbody tr th {\n",
       "        vertical-align: top;\n",
       "    }\n",
       "\n",
       "    .dataframe thead th {\n",
       "        text-align: right;\n",
       "    }\n",
       "</style>\n",
       "<table border=\"1\" class=\"dataframe\">\n",
       "  <thead>\n",
       "    <tr style=\"text-align: right;\">\n",
       "      <th></th>\n",
       "      <th>time</th>\n",
       "      <th>in.input_1</th>\n",
       "      <th>in.input_2</th>\n",
       "      <th>out.output_1</th>\n",
       "      <th>out.output_2</th>\n",
       "      <th>check_failures</th>\n",
       "    </tr>\n",
       "  </thead>\n",
       "  <tbody>\n",
       "    <tr>\n",
       "      <th>0</th>\n",
       "      <td>2023-10-19 22:19:14.125</td>\n",
       "      <td>[0.4327160941, 0.6680523081, 0.5832859885, 0.0...</td>\n",
       "      <td>[0.2347998092, 0.0456354817, 0.4508901177, 5.2...</td>\n",
       "      <td>[-0.026637405, 0.05912261, 0.16849947]</td>\n",
       "      <td>[0.14986634, 0.0044104904]</td>\n",
       "      <td>0</td>\n",
       "    </tr>\n",
       "    <tr>\n",
       "      <th>1</th>\n",
       "      <td>2023-10-19 22:19:14.125</td>\n",
       "      <td>[0.2590309749, 0.3577258841, 0.2518631052, 0.3...</td>\n",
       "      <td>[0.5622961836, 0.2350844684, 0.2017416527, 0.0...</td>\n",
       "      <td>[-0.030408666, -0.07442912, 0.1161211]</td>\n",
       "      <td>[0.029797293, 0.034324855]</td>\n",
       "      <td>0</td>\n",
       "    </tr>\n",
       "    <tr>\n",
       "      <th>2</th>\n",
       "      <td>2023-10-19 22:19:14.125</td>\n",
       "      <td>[0.9696389168, 0.4615495636, 0.6081982391, 0.6...</td>\n",
       "      <td>[0.0052452519, 0.526622605, 0.8995469378, 0.68...</td>\n",
       "      <td>[-0.11566387, -0.045465104, 0.27442083]</td>\n",
       "      <td>[-0.005684576, -0.0052274913]</td>\n",
       "      <td>0</td>\n",
       "    </tr>\n",
       "    <tr>\n",
       "      <th>3</th>\n",
       "      <td>2023-10-19 22:19:14.125</td>\n",
       "      <td>[0.6619223108, 0.1478579154, 0.1367208066, 0.4...</td>\n",
       "      <td>[0.3269275107, 0.6041623132, 0.2876937081, 0.6...</td>\n",
       "      <td>[-0.049019977, -0.09353256, 0.22203638]</td>\n",
       "      <td>[0.08988738, -0.17687897]</td>\n",
       "      <td>0</td>\n",
       "    </tr>\n",
       "    <tr>\n",
       "      <th>4</th>\n",
       "      <td>2023-10-19 22:19:14.125</td>\n",
       "      <td>[0.6674092156, 0.9862123394, 0.0949382095, 0.0...</td>\n",
       "      <td>[0.5379806839, 0.4730633663, 0.9061706484, 0.8...</td>\n",
       "      <td>[-0.04075108, -0.05331666, 0.34851304]</td>\n",
       "      <td>[0.076819465, -0.027034491]</td>\n",
       "      <td>0</td>\n",
       "    </tr>\n",
       "    <tr>\n",
       "      <th>5</th>\n",
       "      <td>2023-10-19 22:19:14.125</td>\n",
       "      <td>[0.1637691263, 0.0792595736, 0.3310374199, 0.3...</td>\n",
       "      <td>[0.9930933779, 0.8937510858, 0.0840548915, 0.1...</td>\n",
       "      <td>[-0.030322284, 0.009279203, 0.03645277]</td>\n",
       "      <td>[0.009268863, -0.13072528]</td>\n",
       "      <td>0</td>\n",
       "    </tr>\n",
       "    <tr>\n",
       "      <th>6</th>\n",
       "      <td>2023-10-19 22:19:14.125</td>\n",
       "      <td>[0.2676971724, 0.7152151127, 0.8628973481, 0.3...</td>\n",
       "      <td>[0.4350560182, 0.0709558087, 0.7948290474, 0.4...</td>\n",
       "      <td>[-0.013946526, 0.07283753, 0.36205345]</td>\n",
       "      <td>[0.10368031, 0.09944552]</td>\n",
       "      <td>0</td>\n",
       "    </tr>\n",
       "    <tr>\n",
       "      <th>7</th>\n",
       "      <td>2023-10-19 22:19:14.125</td>\n",
       "      <td>[0.1989475509, 0.2401542202, 0.8126796473, 0.1...</td>\n",
       "      <td>[0.2739875725, 0.0324299554, 0.2523070537, 0.4...</td>\n",
       "      <td>[-0.07782371, 0.0528352, 0.212226]</td>\n",
       "      <td>[0.18431139, 0.009309709]</td>\n",
       "      <td>0</td>\n",
       "    </tr>\n",
       "    <tr>\n",
       "      <th>8</th>\n",
       "      <td>2023-10-19 22:19:14.125</td>\n",
       "      <td>[0.5374385017, 0.8880117144, 0.359969765, 0.66...</td>\n",
       "      <td>[0.3012888467, 0.6528897585, 0.8792932783, 0.8...</td>\n",
       "      <td>[-0.122693785, -0.03799792, 0.2594204]</td>\n",
       "      <td>[0.10170637, 0.019279242]</td>\n",
       "      <td>0</td>\n",
       "    </tr>\n",
       "    <tr>\n",
       "      <th>9</th>\n",
       "      <td>2023-10-19 22:19:14.125</td>\n",
       "      <td>[0.7879625177, 0.7247772362, 0.2257518562, 0.3...</td>\n",
       "      <td>[0.2286801827, 0.9383274992, 0.0652973987, 0.0...</td>\n",
       "      <td>[-0.08041412, 0.053865973, 0.07040782]</td>\n",
       "      <td>[0.2569228, -0.16891222]</td>\n",
       "      <td>0</td>\n",
       "    </tr>\n",
       "  </tbody>\n",
       "</table>\n",
       "</div>"
      ],
      "text/plain": [
       "                     time                                         in.input_1  \\\n",
       "0 2023-10-19 22:19:14.125  [0.4327160941, 0.6680523081, 0.5832859885, 0.0...   \n",
       "1 2023-10-19 22:19:14.125  [0.2590309749, 0.3577258841, 0.2518631052, 0.3...   \n",
       "2 2023-10-19 22:19:14.125  [0.9696389168, 0.4615495636, 0.6081982391, 0.6...   \n",
       "3 2023-10-19 22:19:14.125  [0.6619223108, 0.1478579154, 0.1367208066, 0.4...   \n",
       "4 2023-10-19 22:19:14.125  [0.6674092156, 0.9862123394, 0.0949382095, 0.0...   \n",
       "5 2023-10-19 22:19:14.125  [0.1637691263, 0.0792595736, 0.3310374199, 0.3...   \n",
       "6 2023-10-19 22:19:14.125  [0.2676971724, 0.7152151127, 0.8628973481, 0.3...   \n",
       "7 2023-10-19 22:19:14.125  [0.1989475509, 0.2401542202, 0.8126796473, 0.1...   \n",
       "8 2023-10-19 22:19:14.125  [0.5374385017, 0.8880117144, 0.359969765, 0.66...   \n",
       "9 2023-10-19 22:19:14.125  [0.7879625177, 0.7247772362, 0.2257518562, 0.3...   \n",
       "\n",
       "                                          in.input_2  \\\n",
       "0  [0.2347998092, 0.0456354817, 0.4508901177, 5.2...   \n",
       "1  [0.5622961836, 0.2350844684, 0.2017416527, 0.0...   \n",
       "2  [0.0052452519, 0.526622605, 0.8995469378, 0.68...   \n",
       "3  [0.3269275107, 0.6041623132, 0.2876937081, 0.6...   \n",
       "4  [0.5379806839, 0.4730633663, 0.9061706484, 0.8...   \n",
       "5  [0.9930933779, 0.8937510858, 0.0840548915, 0.1...   \n",
       "6  [0.4350560182, 0.0709558087, 0.7948290474, 0.4...   \n",
       "7  [0.2739875725, 0.0324299554, 0.2523070537, 0.4...   \n",
       "8  [0.3012888467, 0.6528897585, 0.8792932783, 0.8...   \n",
       "9  [0.2286801827, 0.9383274992, 0.0652973987, 0.0...   \n",
       "\n",
       "                              out.output_1                   out.output_2  \\\n",
       "0   [-0.026637405, 0.05912261, 0.16849947]     [0.14986634, 0.0044104904]   \n",
       "1   [-0.030408666, -0.07442912, 0.1161211]     [0.029797293, 0.034324855]   \n",
       "2  [-0.11566387, -0.045465104, 0.27442083]  [-0.005684576, -0.0052274913]   \n",
       "3  [-0.049019977, -0.09353256, 0.22203638]      [0.08988738, -0.17687897]   \n",
       "4   [-0.04075108, -0.05331666, 0.34851304]    [0.076819465, -0.027034491]   \n",
       "5  [-0.030322284, 0.009279203, 0.03645277]     [0.009268863, -0.13072528]   \n",
       "6   [-0.013946526, 0.07283753, 0.36205345]       [0.10368031, 0.09944552]   \n",
       "7       [-0.07782371, 0.0528352, 0.212226]      [0.18431139, 0.009309709]   \n",
       "8   [-0.122693785, -0.03799792, 0.2594204]      [0.10170637, 0.019279242]   \n",
       "9   [-0.08041412, 0.053865973, 0.07040782]       [0.2569228, -0.16891222]   \n",
       "\n",
       "   check_failures  \n",
       "0               0  \n",
       "1               0  \n",
       "2               0  \n",
       "3               0  \n",
       "4               0  \n",
       "5               0  \n",
       "6               0  \n",
       "7               0  \n",
       "8               0  \n",
       "9               0  "
      ]
     },
     "execution_count": 40,
     "metadata": {},
     "output_type": "execute_result"
    }
   ],
   "source": [
    "pipeline.infer(mock_dataframe)"
   ]
  },
  {
   "cell_type": "markdown",
   "id": "e467f616",
   "metadata": {},
   "source": [
    "### Undeploy Pipelines\n",
    "\n",
    "With the tutorial complete, the pipeline is undeployed to return the resources back to the cluster."
   ]
  },
  {
   "cell_type": "code",
   "execution_count": 41,
   "id": "cbdc5a2e-266f-4da8-a88d-1733aca72f0d",
   "metadata": {},
   "outputs": [
    {
     "data": {
      "text/html": [
       "<table><tr><th>name</th> <td>pytorch-multi-io</td></tr><tr><th>created</th> <td>2023-10-19 21:47:11.881873+00:00</td></tr><tr><th>last_updated</th> <td>2023-10-19 22:18:54.037677+00:00</td></tr><tr><th>deployed</th> <td>False</td></tr><tr><th>tags</th> <td></td></tr><tr><th>versions</th> <td>39168af2-bd41-49f8-8f5e-b1aba608ee68, d543d8ac-ba93-4dd5-a8d4-8bd2b405eb18, c55a8525-f108-404a-b0da-2f78f2ea2e34, c0358f0b-22b1-431f-8eee-73eef2ce8bbc</td></tr><tr><th>steps</th> <td>pytorch-multi-io</td></tr><tr><th>published</th> <td>False</td></tr></table>"
      ],
      "text/plain": [
       "{'name': 'pytorch-multi-io', 'create_time': datetime.datetime(2023, 10, 19, 21, 47, 11, 881873, tzinfo=tzutc()), 'definition': \"[{'ModelInference': {'models': [{'name': 'pytorch-multi-io', 'version': '3ef186ed-1e2b-4699-a37a-5b05e0287d65', 'sha': '792db9ee9f41aded3c1d4705f50ccdedd21cafb8b6232c03e4a849b6da1050a8'}]}}]\"}"
      ]
     },
     "execution_count": 41,
     "metadata": {},
     "output_type": "execute_result"
    }
   ],
   "source": [
    "pipeline.undeploy()"
   ]
  },
  {
   "cell_type": "code",
   "execution_count": null,
   "id": "36b285e1",
   "metadata": {},
   "outputs": [],
   "source": []
  }
 ],
 "metadata": {
  "kernelspec": {
   "display_name": "Python 3 (ipykernel)",
   "language": "python",
   "name": "python3"
  },
  "language_info": {
   "codemirror_mode": {
    "name": "ipython",
    "version": 3
   },
   "file_extension": ".py",
   "mimetype": "text/x-python",
   "name": "python",
   "nbconvert_exporter": "python",
   "pygments_lexer": "ipython3",
   "version": "3.8.18"
  }
 },
 "nbformat": 4,
 "nbformat_minor": 5
}
