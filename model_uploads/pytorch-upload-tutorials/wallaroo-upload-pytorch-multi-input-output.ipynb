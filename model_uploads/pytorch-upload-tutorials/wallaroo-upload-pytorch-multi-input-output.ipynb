{
 "cells": [
  {
   "cell_type": "markdown",
   "id": "c18c8461-a00a-4a16-b3d7-2dee9187f672",
   "metadata": {},
   "source": [
    "This tutorial can be downloaded as part of the [Wallaroo Tutorials repository](https://github.com/WallarooLabs/Wallaroo_Tutorials/tree/main/model_uploads/pytorch-upload-tutorials).\n",
    "\n",
    "## Wallaroo Model Upload via the Wallaroo SDK: Pytorch Multiple Input Output\n",
    "\n",
    "The following tutorial demonstrates how to upload a Pytorch Multiple Input Output model to a Wallaroo instance.\n",
    "\n",
    "### Tutorial Goals\n",
    "\n",
    "Demonstrate the following:\n",
    "\n",
    "* Upload a Pytorch Multiple Input Output to a Wallaroo instance.\n",
    "* Create a pipeline and add the model as a pipeline step.\n",
    "* Perform a sample inference.\n",
    "\n",
    "### Prerequisites\n",
    "\n",
    "* Wallaroo Version 2023.2.1 or above instance.\n",
    "\n",
    "### References\n",
    "\n",
    "* [Wallaroo MLOps API Essentials Guide: Model Upload and Registrations](https://docs.wallaroo.ai/wallaroo-developer-guides/wallaroo-api-guide/wallaroo-mlops-api-essential-guide/wallaroo-mlops-api-essentials-guide-model-uploads/)\n",
    "* [Wallaroo API Connection Guide](https://docs.wallaroo.ai/wallaroo-developer-guides/wallaroo-api-guide/wallaroo-mlops-connection-guide/)\n",
    "* [DNS Integration Guide](https://docs.wallaroo.ai/wallaroo-operations-guide/wallaroo-configuration/wallaroo-dns-guide/)"
   ]
  },
  {
   "cell_type": "markdown",
   "id": "9379fe2c",
   "metadata": {},
   "source": [
    "## Tutorial Steps\n",
    "\n",
    "### Import Libraries\n",
    "\n",
    "The first step is to import the libraries we'll be using.  These are included by default in the Wallaroo instance's JupyterHub service."
   ]
  },
  {
   "cell_type": "code",
   "execution_count": 1,
   "id": "3436bb69-bb45-4d18-bc19-d82f76ae9bfe",
   "metadata": {},
   "outputs": [],
   "source": [
    "import json\n",
    "import os\n",
    "import pickle\n",
    "\n",
    "import wallaroo\n",
    "from wallaroo.pipeline import Pipeline\n",
    "from wallaroo.deployment_config import DeploymentConfigBuilder\n",
    "from wallaroo.object import EntityNotFoundError\n",
    "from wallaroo.framework import Framework\n",
    "\n",
    "import pyarrow as pa\n",
    "import numpy as np\n",
    "import pandas as pd\n"
   ]
  },
  {
   "cell_type": "markdown",
   "id": "ed4be291",
   "metadata": {},
   "source": [
    "### Open a Connection to Wallaroo\n",
    "\n",
    "The next step is connect to Wallaroo through the Wallaroo client.  The Python library is included in the Wallaroo install and available through the Jupyter Hub interface provided with your Wallaroo environment.\n",
    "\n",
    "This is accomplished using the `wallaroo.Client()` command, which provides a URL to grant the SDK permission to your specific Wallaroo environment.  When displayed, enter the URL into a browser and confirm permissions.  Store the connection into a variable that can be referenced later.\n",
    "\n",
    "If logging into the Wallaroo instance through the internal JupyterHub service, use `wl = wallaroo.Client()`.  If logging in externally, update the `wallarooPrefix` and `wallarooSuffix` variables with the proper DNS information.  For more information on Wallaroo DNS settings, see the [Wallaroo DNS Integration Guide](https://docs.wallaroo.ai/wallaroo-operations-guide/wallaroo-configuration/wallaroo-dns-guide/)."
   ]
  },
  {
   "cell_type": "code",
   "execution_count": null,
   "id": "dd04b48a",
   "metadata": {},
   "outputs": [],
   "source": [
    "\n",
    "wl = wallaroo.Client()"
   ]
  },
  {
   "cell_type": "markdown",
   "id": "f89c8bfb",
   "metadata": {},
   "source": [
    "### Set Variables\n",
    "\n",
    "We'll set the name of our workspace, pipeline, models and files.  Workspace names must be unique across the Wallaroo workspace.  For this, we'll add in a randomly generated 4 characters to the workspace name to prevent collisions with other users' workspaces.  If running this tutorial, we recommend hard coding the workspace name so it will function in the same workspace each time it's run.\n",
    "\n"
   ]
  },
  {
   "cell_type": "code",
   "execution_count": 3,
   "id": "170bf187-321c-45ea-867a-0cc2879b0256",
   "metadata": {},
   "outputs": [],
   "source": [
    "workspace_name = f'pytorch-multi-io'\n",
    "pipeline_name = f'pytorch-multi-io'\n",
    "\n",
    "model_name = 'pytorch-multi-io'\n",
    "model_file_name = \"./models/model-auto-conversion_pytorch_multi_io_model.pt\""
   ]
  },
  {
   "cell_type": "markdown",
   "id": "49808c3c",
   "metadata": {},
   "source": [
    "### Create Workspace and Pipeline\n",
    "\n",
    "We will now create the Wallaroo workspace to store our model and set it as the current workspace.  Future commands will default to this workspace for pipeline creation, model uploads, etc.  We'll create our Wallaroo pipeline to deploy our model."
   ]
  },
  {
   "cell_type": "code",
   "execution_count": 4,
   "id": "6df649fa-329a-41c9-a5e6-6676383f1330",
   "metadata": {},
   "outputs": [],
   "source": [
    "workspace = wl.get_workspace(name=workspace_name, create_if_not_exist=True)\n",
    "wl.set_current_workspace(workspace)\n",
    "\n",
    "pipeline = wl.build_pipeline(pipeline_name)"
   ]
  },
  {
   "cell_type": "markdown",
   "id": "74194b68",
   "metadata": {},
   "source": [
    "### Configure Data Schemas\n",
    "\n",
    "The following parameters are required for PyTorch models.  Note that while some fields are considered as **optional** for the `upload_model` method, they are required for proper uploading of a PyTorch model to Wallaroo.\n",
    "\n",
    "| Parameter | Type | Description |\n",
    "|---|---|---|\n",
    "|`name` | `string` (*Required*) | The name of the model.  Model names are unique per workspace.  Models that are uploaded with the same name are assigned as a new **version** of the model. |\n",
    "|`path` | `string` (*Required*) | The path to the model file being uploaded. \n",
    "|`framework` |`string` (*Upload Method Optional, PyTorch model Required*) | Set as the `Framework.PyTorch`. |\n",
    "|`input_schema` | `pyarrow.lib.Schema` (*Upload Method Optional, PyTorch model Required*) | The input schema in Apache Arrow schema format. Note that float values **must** be `pyarrow.float32()`. |\n",
    "|`output_schema` | `pyarrow.lib.Schema` (*Upload Method Optional, PyTorch model Required*) | The output schema in Apache Arrow schema format. Note that float values **must** be `pyarrow.float32()`. |\n",
    "| `convert_wait` | `bool` (*Upload Method Optional, PyTorch model Optional*) (*Default: True*) | <ul><li>**True**: Waits in the script for the model conversion completion.</li><li>**False**:  Proceeds with the script without waiting for the model conversion process to display complete. |\n",
    "\n",
    "Once the upload process starts, the model is containerized by the Wallaroo instance.  This process may take up to 10 minutes."
   ]
  },
  {
   "cell_type": "code",
   "execution_count": 5,
   "id": "c4439653",
   "metadata": {},
   "outputs": [],
   "source": [
    "input_schema = pa.schema([\n",
    "    pa.field('input_1', pa.list_(pa.float32(), list_size=10)),\n",
    "    pa.field('input_2', pa.list_(pa.float32(), list_size=5))\n",
    "])\n",
    "output_schema = pa.schema([\n",
    "    pa.field('output_1', pa.list_(pa.float32(), list_size=3)),\n",
    "    pa.field('output_2', pa.list_(pa.float32(), list_size=2))\n",
    "])"
   ]
  },
  {
   "cell_type": "markdown",
   "id": "2a7ab7eb-90de-4e94-90d5-316e13eae5ab",
   "metadata": {},
   "source": [
    "### Upload Model\n",
    "\n",
    "The model will be uploaded with the framework set as `Framework.PYTORCH`."
   ]
  },
  {
   "cell_type": "code",
   "execution_count": 6,
   "id": "b36b29d8",
   "metadata": {},
   "outputs": [
    {
     "name": "stdout",
     "output_type": "stream",
     "text": [
      "Waiting for model loading - this will take up to 10.0min.\n",
      "Model is pending loading to a native runtime..\n",
      "Ready\n"
     ]
    },
    {
     "data": {
      "text/html": [
       "<table>\n",
       "        <tr>\n",
       "          <td>Name</td>\n",
       "          <td>pytorch-multi-io</td>\n",
       "        </tr>\n",
       "        <tr>\n",
       "          <td>Version</td>\n",
       "          <td>f8df148e-a006-42c5-ac99-796f115897b8</td>\n",
       "        </tr>\n",
       "        <tr>\n",
       "          <td>File Name</td>\n",
       "          <td>model-auto-conversion_pytorch_multi_io_model.pt</td>\n",
       "        </tr>\n",
       "        <tr>\n",
       "          <td>SHA</td>\n",
       "          <td>792db9ee9f41aded3c1d4705f50ccdedd21cafb8b6232c03e4a849b6da1050a8</td>\n",
       "        </tr>\n",
       "        <tr>\n",
       "          <td>Status</td>\n",
       "          <td>ready</td>\n",
       "        </tr>\n",
       "        <tr>\n",
       "          <td>Image Path</td>\n",
       "          <td>None</td>\n",
       "        </tr>\n",
       "        <tr>\n",
       "          <td>Architecture</td>\n",
       "          <td>None</td>\n",
       "        </tr>\n",
       "        <tr>\n",
       "          <td>Updated At</td>\n",
       "          <td>2023-23-Oct 19:08:41</td>\n",
       "        </tr>\n",
       "      </table>"
      ],
      "text/plain": [
       "{'name': 'pytorch-multi-io', 'version': 'f8df148e-a006-42c5-ac99-796f115897b8', 'file_name': 'model-auto-conversion_pytorch_multi_io_model.pt', 'image_path': None, 'arch': None, 'last_update_time': datetime.datetime(2023, 10, 23, 19, 8, 41, 709066, tzinfo=tzutc())}"
      ]
     },
     "execution_count": 6,
     "metadata": {},
     "output_type": "execute_result"
    }
   ],
   "source": [
    "model = wl.upload_model(model_name, \n",
    "                        model_file_name, \n",
    "                        framework=Framework.PYTORCH, \n",
    "                        input_schema=input_schema, \n",
    "                        output_schema=output_schema\n",
    "                       )\n",
    "model"
   ]
  },
  {
   "cell_type": "code",
   "execution_count": 7,
   "id": "18e58d1c",
   "metadata": {},
   "outputs": [
    {
     "data": {
      "text/plain": [
       "'onnx'"
      ]
     },
     "execution_count": 7,
     "metadata": {},
     "output_type": "execute_result"
    }
   ],
   "source": [
    "model.config().runtime()"
   ]
  },
  {
   "cell_type": "markdown",
   "id": "d007c496",
   "metadata": {},
   "source": [
    "### Deploy Pipeline\n",
    "\n",
    "The model is uploaded and ready for use.  We'll add it as a step in our pipeline, then deploy the pipeline.  For this example we're allocated 0.25 cpu and 4 Gi RAM to the pipeline through the pipeline's deployment configuration."
   ]
  },
  {
   "cell_type": "code",
   "execution_count": 8,
   "id": "2a709f2c-1332-4984-9cf8-87c6328d6ae4",
   "metadata": {},
   "outputs": [],
   "source": [
    "deployment_config = DeploymentConfigBuilder() \\\n",
    "    .cpus(0.25).memory('1Gi') \\\n",
    "    .build()"
   ]
  },
  {
   "cell_type": "code",
   "execution_count": 9,
   "id": "5ecc0a18-5912-4052-98a7-074b9db350b1",
   "metadata": {},
   "outputs": [
    {
     "name": "stdout",
     "output_type": "stream",
     "text": [
      "Waiting for deployment - this will take up to 45s .................................. ok\n"
     ]
    },
    {
     "data": {
      "text/plain": [
       "{'status': 'Running',\n",
       " 'details': [],\n",
       " 'engines': [{'ip': '10.244.3.164',\n",
       "   'name': 'engine-8549d6985f-qfgsp',\n",
       "   'status': 'Running',\n",
       "   'reason': None,\n",
       "   'details': [],\n",
       "   'pipeline_statuses': {'pipelines': [{'id': 'pytorch-multi-io',\n",
       "      'status': 'Running'}]},\n",
       "   'model_statuses': {'models': [{'name': 'pytorch-multi-io',\n",
       "      'version': 'f8df148e-a006-42c5-ac99-796f115897b8',\n",
       "      'sha': '792db9ee9f41aded3c1d4705f50ccdedd21cafb8b6232c03e4a849b6da1050a8',\n",
       "      'status': 'Running'}]}}],\n",
       " 'engine_lbs': [{'ip': '10.244.2.215',\n",
       "   'name': 'engine-lb-584f54c899-n8t26',\n",
       "   'status': 'Running',\n",
       "   'reason': None,\n",
       "   'details': []}],\n",
       " 'sidekicks': []}"
      ]
     },
     "execution_count": 9,
     "metadata": {},
     "output_type": "execute_result"
    }
   ],
   "source": [
    "# clear the pipeline if it was used before\n",
    "pipeline.clear()\n",
    "\n",
    "pipeline.add_model_step(model)\n",
    "\n",
    "pipeline.deploy(deployment_config=deployment_config)\n",
    "pipeline.status()"
   ]
  },
  {
   "cell_type": "markdown",
   "id": "60cb4aa0-601d-4556-a3f8-cdc59e758add",
   "metadata": {},
   "source": [
    "### Run Inference\n",
    "\n",
    "A sample inference will be run.  First the pandas DataFrame used for the inference is created, then the inference run through the pipeline's `infer` method."
   ]
  },
  {
   "cell_type": "code",
   "execution_count": 10,
   "id": "52bdb987",
   "metadata": {},
   "outputs": [],
   "source": [
    "mock_inference_data = [np.random.rand(10, 10), np.random.rand(10, 5)]\n",
    "mock_dataframe = pd.DataFrame(\n",
    "    {\n",
    "        \"input_1\": mock_inference_data[0].tolist(),\n",
    "        \"input_2\": mock_inference_data[1].tolist(),\n",
    "    }\n",
    ")"
   ]
  },
  {
   "cell_type": "code",
   "execution_count": 11,
   "id": "1eab3c59-c7a2-4e79-a468-e5bcb65d916c",
   "metadata": {},
   "outputs": [
    {
     "data": {
      "text/html": [
       "<div>\n",
       "<style scoped>\n",
       "    .dataframe tbody tr th:only-of-type {\n",
       "        vertical-align: middle;\n",
       "    }\n",
       "\n",
       "    .dataframe tbody tr th {\n",
       "        vertical-align: top;\n",
       "    }\n",
       "\n",
       "    .dataframe thead th {\n",
       "        text-align: right;\n",
       "    }\n",
       "</style>\n",
       "<table border=\"1\" class=\"dataframe\">\n",
       "  <thead>\n",
       "    <tr style=\"text-align: right;\">\n",
       "      <th></th>\n",
       "      <th>time</th>\n",
       "      <th>in.input_1</th>\n",
       "      <th>in.input_2</th>\n",
       "      <th>out.output_1</th>\n",
       "      <th>out.output_2</th>\n",
       "      <th>check_failures</th>\n",
       "    </tr>\n",
       "  </thead>\n",
       "  <tbody>\n",
       "    <tr>\n",
       "      <th>0</th>\n",
       "      <td>2023-10-23 19:09:20.035</td>\n",
       "      <td>[0.5520269716, 0.353031825, 0.5972010785, 0.77...</td>\n",
       "      <td>[0.2850280321, 0.8368284642, 0.532692657, 0.53...</td>\n",
       "      <td>[-0.12692596, -0.048615545, 0.16396174]</td>\n",
       "      <td>[0.037088655, -0.07631089]</td>\n",
       "      <td>0</td>\n",
       "    </tr>\n",
       "    <tr>\n",
       "      <th>1</th>\n",
       "      <td>2023-10-23 19:09:20.035</td>\n",
       "      <td>[0.665654034, 0.2721328048, 0.611313055, 0.742...</td>\n",
       "      <td>[0.2229083231, 0.0462179945, 0.6249161412, 0.4...</td>\n",
       "      <td>[0.05110594, -0.0646694, 0.26961502]</td>\n",
       "      <td>[0.14888486, -0.011880934]</td>\n",
       "      <td>0</td>\n",
       "    </tr>\n",
       "    <tr>\n",
       "      <th>2</th>\n",
       "      <td>2023-10-23 19:09:20.035</td>\n",
       "      <td>[0.7482700902, 0.867766789, 0.7562958282, 0.14...</td>\n",
       "      <td>[0.5123290316, 0.619602395, 0.6079586226, 0.67...</td>\n",
       "      <td>[0.025596283, -0.04604797, 0.33752537]</td>\n",
       "      <td>[0.20393606, 0.020352483]</td>\n",
       "      <td>0</td>\n",
       "    </tr>\n",
       "    <tr>\n",
       "      <th>3</th>\n",
       "      <td>2023-10-23 19:09:20.035</td>\n",
       "      <td>[0.7405163748, 0.8286719088, 0.165741416, 0.89...</td>\n",
       "      <td>[0.3027072867, 0.3416387734, 0.2969483802, 0.1...</td>\n",
       "      <td>[0.007636443, -0.09208804, 0.23095742]</td>\n",
       "      <td>[0.09487003, 0.08022867]</td>\n",
       "      <td>0</td>\n",
       "    </tr>\n",
       "    <tr>\n",
       "      <th>4</th>\n",
       "      <td>2023-10-23 19:09:20.035</td>\n",
       "      <td>[0.1383739731, 0.1535340384, 0.5779792315, 0.0...</td>\n",
       "      <td>[0.3376164512, 0.969855208, 0.1542470748, 0.25...</td>\n",
       "      <td>[-0.14555773, 0.1504708, 0.07537982]</td>\n",
       "      <td>[0.049346283, -0.15848272]</td>\n",
       "      <td>0</td>\n",
       "    </tr>\n",
       "    <tr>\n",
       "      <th>5</th>\n",
       "      <td>2023-10-23 19:09:20.035</td>\n",
       "      <td>[0.6635943228, 0.1642769142, 0.5543163791, 0.4...</td>\n",
       "      <td>[0.822826152, 0.4580905361, 0.9199056247, 0.64...</td>\n",
       "      <td>[-0.018602632, -0.057865076, 0.31042594]</td>\n",
       "      <td>[-0.028693462, -0.06809359]</td>\n",
       "      <td>0</td>\n",
       "    </tr>\n",
       "    <tr>\n",
       "      <th>6</th>\n",
       "      <td>2023-10-23 19:09:20.035</td>\n",
       "      <td>[0.4162411861, 0.0306481021, 0.9126412322, 0.8...</td>\n",
       "      <td>[0.8228113533, 0.351936158, 0.5182544133, 0.74...</td>\n",
       "      <td>[0.030514084, -0.063929394, 0.24837358]</td>\n",
       "      <td>[-0.05689506, 0.047190517]</td>\n",
       "      <td>0</td>\n",
       "    </tr>\n",
       "    <tr>\n",
       "      <th>7</th>\n",
       "      <td>2023-10-23 19:09:20.035</td>\n",
       "      <td>[0.5263343174, 0.3983799972, 0.6999939214, 0.6...</td>\n",
       "      <td>[0.3230482528, 0.2033379246, 0.6991399275, 0.0...</td>\n",
       "      <td>[-0.008261979, 0.06275801, 0.16552104]</td>\n",
       "      <td>[0.15914191, 0.044295207]</td>\n",
       "      <td>0</td>\n",
       "    </tr>\n",
       "    <tr>\n",
       "      <th>8</th>\n",
       "      <td>2023-10-23 19:09:20.035</td>\n",
       "      <td>[0.5231957471, 0.2019007135, 0.7899041536, 0.2...</td>\n",
       "      <td>[0.633605919, 0.1939292389, 0.0518512061, 0.28...</td>\n",
       "      <td>[0.0014905855, 0.072615415, 0.21212187]</td>\n",
       "      <td>[0.16694427, -0.0021356493]</td>\n",
       "      <td>0</td>\n",
       "    </tr>\n",
       "    <tr>\n",
       "      <th>9</th>\n",
       "      <td>2023-10-23 19:09:20.035</td>\n",
       "      <td>[0.0287641209, 0.9260014076, 0.540519311, 0.10...</td>\n",
       "      <td>[0.9722058029, 0.8047130284, 0.671538585, 0.61...</td>\n",
       "      <td>[-0.07756777, -0.11604313, 0.25187707]</td>\n",
       "      <td>[-0.014747229, 0.03463669]</td>\n",
       "      <td>0</td>\n",
       "    </tr>\n",
       "  </tbody>\n",
       "</table>\n",
       "</div>"
      ],
      "text/plain": [
       "                     time                                         in.input_1  \\\n",
       "0 2023-10-23 19:09:20.035  [0.5520269716, 0.353031825, 0.5972010785, 0.77...   \n",
       "1 2023-10-23 19:09:20.035  [0.665654034, 0.2721328048, 0.611313055, 0.742...   \n",
       "2 2023-10-23 19:09:20.035  [0.7482700902, 0.867766789, 0.7562958282, 0.14...   \n",
       "3 2023-10-23 19:09:20.035  [0.7405163748, 0.8286719088, 0.165741416, 0.89...   \n",
       "4 2023-10-23 19:09:20.035  [0.1383739731, 0.1535340384, 0.5779792315, 0.0...   \n",
       "5 2023-10-23 19:09:20.035  [0.6635943228, 0.1642769142, 0.5543163791, 0.4...   \n",
       "6 2023-10-23 19:09:20.035  [0.4162411861, 0.0306481021, 0.9126412322, 0.8...   \n",
       "7 2023-10-23 19:09:20.035  [0.5263343174, 0.3983799972, 0.6999939214, 0.6...   \n",
       "8 2023-10-23 19:09:20.035  [0.5231957471, 0.2019007135, 0.7899041536, 0.2...   \n",
       "9 2023-10-23 19:09:20.035  [0.0287641209, 0.9260014076, 0.540519311, 0.10...   \n",
       "\n",
       "                                          in.input_2  \\\n",
       "0  [0.2850280321, 0.8368284642, 0.532692657, 0.53...   \n",
       "1  [0.2229083231, 0.0462179945, 0.6249161412, 0.4...   \n",
       "2  [0.5123290316, 0.619602395, 0.6079586226, 0.67...   \n",
       "3  [0.3027072867, 0.3416387734, 0.2969483802, 0.1...   \n",
       "4  [0.3376164512, 0.969855208, 0.1542470748, 0.25...   \n",
       "5  [0.822826152, 0.4580905361, 0.9199056247, 0.64...   \n",
       "6  [0.8228113533, 0.351936158, 0.5182544133, 0.74...   \n",
       "7  [0.3230482528, 0.2033379246, 0.6991399275, 0.0...   \n",
       "8  [0.633605919, 0.1939292389, 0.0518512061, 0.28...   \n",
       "9  [0.9722058029, 0.8047130284, 0.671538585, 0.61...   \n",
       "\n",
       "                               out.output_1                 out.output_2  \\\n",
       "0   [-0.12692596, -0.048615545, 0.16396174]   [0.037088655, -0.07631089]   \n",
       "1      [0.05110594, -0.0646694, 0.26961502]   [0.14888486, -0.011880934]   \n",
       "2    [0.025596283, -0.04604797, 0.33752537]    [0.20393606, 0.020352483]   \n",
       "3    [0.007636443, -0.09208804, 0.23095742]     [0.09487003, 0.08022867]   \n",
       "4      [-0.14555773, 0.1504708, 0.07537982]   [0.049346283, -0.15848272]   \n",
       "5  [-0.018602632, -0.057865076, 0.31042594]  [-0.028693462, -0.06809359]   \n",
       "6   [0.030514084, -0.063929394, 0.24837358]   [-0.05689506, 0.047190517]   \n",
       "7    [-0.008261979, 0.06275801, 0.16552104]    [0.15914191, 0.044295207]   \n",
       "8   [0.0014905855, 0.072615415, 0.21212187]  [0.16694427, -0.0021356493]   \n",
       "9    [-0.07756777, -0.11604313, 0.25187707]   [-0.014747229, 0.03463669]   \n",
       "\n",
       "   check_failures  \n",
       "0               0  \n",
       "1               0  \n",
       "2               0  \n",
       "3               0  \n",
       "4               0  \n",
       "5               0  \n",
       "6               0  \n",
       "7               0  \n",
       "8               0  \n",
       "9               0  "
      ]
     },
     "execution_count": 11,
     "metadata": {},
     "output_type": "execute_result"
    }
   ],
   "source": [
    "pipeline.infer(mock_dataframe)"
   ]
  },
  {
   "cell_type": "markdown",
   "id": "e467f616",
   "metadata": {},
   "source": [
    "### Undeploy Pipelines\n",
    "\n",
    "With the tutorial complete, the pipeline is undeployed to return the resources back to the cluster."
   ]
  },
  {
   "cell_type": "code",
   "execution_count": 12,
   "id": "cbdc5a2e-266f-4da8-a88d-1733aca72f0d",
   "metadata": {},
   "outputs": [
    {
     "name": "stdout",
     "output_type": "stream",
     "text": [
      "Waiting for undeployment - this will take up to 45s .................................... ok\n"
     ]
    },
    {
     "data": {
      "text/html": [
       "<table><tr><th>name</th> <td>pytorch-multi-io</td></tr><tr><th>created</th> <td>2023-10-19 21:47:11.881873+00:00</td></tr><tr><th>last_updated</th> <td>2023-10-23 19:08:43.867731+00:00</td></tr><tr><th>deployed</th> <td>False</td></tr><tr><th>tags</th> <td></td></tr><tr><th>versions</th> <td>75b823f2-7f60-4423-ae54-3a52c0de67c4, 39168af2-bd41-49f8-8f5e-b1aba608ee68, d543d8ac-ba93-4dd5-a8d4-8bd2b405eb18, c55a8525-f108-404a-b0da-2f78f2ea2e34, c0358f0b-22b1-431f-8eee-73eef2ce8bbc</td></tr><tr><th>steps</th> <td>pytorch-multi-io</td></tr><tr><th>published</th> <td>False</td></tr></table>"
      ],
      "text/plain": [
       "{'name': 'pytorch-multi-io', 'create_time': datetime.datetime(2023, 10, 19, 21, 47, 11, 881873, tzinfo=tzutc()), 'definition': \"[{'ModelInference': {'models': [{'name': 'pytorch-multi-io', 'version': 'f8df148e-a006-42c5-ac99-796f115897b8', 'sha': '792db9ee9f41aded3c1d4705f50ccdedd21cafb8b6232c03e4a849b6da1050a8'}]}}]\"}"
      ]
     },
     "execution_count": 12,
     "metadata": {},
     "output_type": "execute_result"
    }
   ],
   "source": [
    "pipeline.undeploy()"
   ]
  },
  {
   "cell_type": "code",
   "execution_count": null,
   "id": "36b285e1",
   "metadata": {},
   "outputs": [],
   "source": []
  }
 ],
 "metadata": {
  "kernelspec": {
   "display_name": "Python 3 (ipykernel)",
   "language": "python",
   "name": "python3"
  },
  "language_info": {
   "codemirror_mode": {
    "name": "ipython",
    "version": 3
   },
   "file_extension": ".py",
   "mimetype": "text/x-python",
   "name": "python",
   "nbconvert_exporter": "python",
   "pygments_lexer": "ipython3",
   "version": "3.8.18"
  }
 },
 "nbformat": 4,
 "nbformat_minor": 5
}
