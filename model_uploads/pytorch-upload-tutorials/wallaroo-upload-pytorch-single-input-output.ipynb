{
 "cells": [
  {
   "attachments": {},
   "cell_type": "markdown",
   "id": "c18c8461-a00a-4a16-b3d7-2dee9187f672",
   "metadata": {},
   "source": [
    "This tutorial can be downloaded as part of the [Wallaroo Tutorials repository](https://github.com/WallarooLabs/Wallaroo_Tutorials/blob/2023.2.1_prerelease/model_uploads/pytorch-upload-tutorials).\n",
    "\n",
    "## Wallaroo Model Upload via the Wallaroo SDK: Pytorch Single Input Output\n",
    "\n",
    "The following tutorial demonstrates how to upload a Pytorch Single Input Output model to a Wallaroo instance.\n",
    "\n",
    "### Tutorial Goals\n",
    "\n",
    "Demonstrate the following:\n",
    "\n",
    "* Upload a Pytorch Single Input Output to a Wallaroo instance.\n",
    "* Create a pipeline and add the model as a pipeline step.\n",
    "* Perform a sample inference.\n",
    "\n",
    "### Prerequisites\n",
    "\n",
    "* A Wallaroo version 2023.2.1 or above instance.\n",
    "\n",
    "### References\n",
    "\n",
    "* [Wallaroo MLOps API Essentials Guide: Model Upload and Registrations](https://staging.docs.wallaroo.ai/wallaroo-developer-guides/wallaroo-api-guide/wallaroo-mlops-api-essential-guide/wallaroo-mlops-api-essentials-guide-model-uploads/)\n",
    "* [Wallaroo API Connection Guide](https://staging.docs.wallaroo.ai/wallaroo-developer-guides/wallaroo-api-guide/wallaroo-mlops-connection-guide/)\n",
    "* [DNS Integration Guide](https://staging.docs.wallaroo.ai/wallaroo-operations-guide/wallaroo-configuration/wallaroo-dns-guide/)"
   ]
  },
  {
   "cell_type": "markdown",
   "id": "f5700d57",
   "metadata": {},
   "source": [
    "## Tutorial Steps\n",
    "\n",
    "### Import Libraries\n",
    "\n",
    "The first step is to import the libraries we'll be using.  These are included by default in the Wallaroo instance's JupyterHub service."
   ]
  },
  {
   "cell_type": "code",
   "execution_count": 1,
   "id": "3436bb69-bb45-4d18-bc19-d82f76ae9bfe",
   "metadata": {},
   "outputs": [],
   "source": [
    "import json\n",
    "import os\n",
    "import pickle\n",
    "\n",
    "import wallaroo\n",
    "from wallaroo.pipeline import Pipeline\n",
    "from wallaroo.deployment_config import DeploymentConfigBuilder\n",
    "from wallaroo.object import EntityNotFoundError\n",
    "from wallaroo.framework import Framework\n",
    "\n",
    "import os\n",
    "os.environ[\"MODELS_ENABLED\"] = \"true\"\n",
    "\n",
    "import pyarrow as pa\n",
    "import numpy as np\n",
    "import pandas as pd\n"
   ]
  },
  {
   "cell_type": "markdown",
   "id": "c2669d2a",
   "metadata": {},
   "source": [
    "### Open a Connection to Wallaroo\n",
    "\n",
    "The next step is connect to Wallaroo through the Wallaroo client.  The Python library is included in the Wallaroo install and available through the Jupyter Hub interface provided with your Wallaroo environment.\n",
    "\n",
    "This is accomplished using the `wallaroo.Client()` command, which provides a URL to grant the SDK permission to your specific Wallaroo environment.  When displayed, enter the URL into a browser and confirm permissions.  Store the connection into a variable that can be referenced later.\n",
    "\n",
    "If logging into the Wallaroo instance through the internal JupyterHub service, use `wl = wallaroo.Client()`.  If logging in externally, update the `wallarooPrefix` and `wallarooSuffix` variables with the proper DNS information.  For more information on Wallaroo DNS settings, see the [Wallaroo DNS Integration Guide](https://docs.wallaroo.ai/wallaroo-operations-guide/wallaroo-configuration/wallaroo-dns-guide/)."
   ]
  },
  {
   "cell_type": "code",
   "execution_count": 2,
   "id": "34f2dc88",
   "metadata": {},
   "outputs": [],
   "source": [
    "wl = wallaroo.Client()\n",
    "\n",
    "wallarooPrefix = \"\"\n",
    "wallarooSuffix = \"autoscale-uat-ee.wallaroo.dev\"\n",
    "\n",
    "wl = wallaroo.Client(api_endpoint=f\"https://{wallarooPrefix}api.{wallarooSuffix}\", \n",
    "                    auth_endpoint=f\"https://{wallarooPrefix}keycloak.{wallarooSuffix}\", \n",
    "                    auth_type=\"sso\")"
   ]
  },
  {
   "cell_type": "markdown",
   "id": "005287a4",
   "metadata": {},
   "source": [
    "### Set Variables and Helper Functions\n",
    "\n",
    "We'll set the name of our workspace, pipeline, models and files.  Workspace names must be unique across the Wallaroo workspace.  For this, we'll add in a randomly generated 4 characters to the workspace name to prevent collisions with other users' workspaces.  If running this tutorial, we recommend hard coding the workspace name so it will function in the same workspace each time it's run.\n",
    "\n",
    "We'll set up some helper functions that will either use existing workspaces and pipelines, or create them if they do not already exist."
   ]
  },
  {
   "cell_type": "code",
   "execution_count": 3,
   "id": "170bf187-321c-45ea-867a-0cc2879b0256",
   "metadata": {},
   "outputs": [],
   "source": [
    "def get_workspace(name):\n",
    "    workspace = None\n",
    "    for ws in wl.list_workspaces():\n",
    "        if ws.name() == name:\n",
    "            workspace= ws\n",
    "    if(workspace == None):\n",
    "        workspace = wl.create_workspace(name)\n",
    "    return workspace\n",
    "\n",
    "def get_pipeline(name):\n",
    "    try:\n",
    "        pipeline = wl.pipelines_by_name(name)[0]\n",
    "    except EntityNotFoundError:\n",
    "        pipeline = wl.build_pipeline(name)\n",
    "    return pipeline\n",
    "\n",
    "\n",
    "import string\n",
    "import random\n",
    "\n",
    "# make a random 4 character suffix to prevent overwriting other user's workspaces\n",
    "suffix= ''.join(random.choice(string.ascii_lowercase) for i in range(4))\n",
    "workspace_name = f'pytorch-single-io{suffix}'\n",
    "pipeline_name = f'pytorch-single-io'\n",
    "\n",
    "model_name = 'pytorch-single-io'\n",
    "model_file_name = \"./models/model-auto-conversion_pytorch_single_io_model.pt\""
   ]
  },
  {
   "cell_type": "markdown",
   "id": "fd74453e",
   "metadata": {},
   "source": [
    "### Create Workspace and Pipeline\n",
    "\n",
    "We will now create the Wallaroo workspace to store our model and set it as the current workspace.  Future commands will default to this workspace for pipeline creation, model uploads, etc.  We'll create our Wallaroo pipeline to deploy our model."
   ]
  },
  {
   "cell_type": "code",
   "execution_count": 4,
   "id": "6df649fa-329a-41c9-a5e6-6676383f1330",
   "metadata": {},
   "outputs": [],
   "source": [
    "workspace = get_workspace(workspace_name)\n",
    "wl.set_current_workspace(workspace)\n",
    "\n",
    "pipeline = get_pipeline(pipeline_name)"
   ]
  },
  {
   "attachments": {},
   "cell_type": "markdown",
   "id": "2a7ab7eb-90de-4e94-90d5-316e13eae5ab",
   "metadata": {},
   "source": [
    "### Configure Data Schemas\n",
    "\n",
    "The following parameters are required for PyTorch models.  Note that while some fields are considered as **optional** for the `upload_model` method, they are required for proper uploading of a PyTorch model to Wallaroo.\n",
    "\n",
    "| Parameter | Type | Description |\n",
    "|---|---|---|\n",
    "|`name` | `string` (*Required*) | The name of the model.  Model names are unique per workspace.  Models that are uploaded with the same name are assigned as a new **version** of the model. |\n",
    "|`path` | `string` (*Required*) | The path to the model file being uploaded. \n",
    "|`framework` |`string` (*Upload Method Optional, PyTorch model Required*) | Set as the `Framework.PyTorch`. |\n",
    "|`input_schema` | `pyarrow.lib.Schema` (*Upload Method Optional, PyTorch model Required*) | The input schema in Apache Arrow schema format. |\n",
    "|`output_schema` | `pyarrow.lib.Schema` (*Upload Method Optional, PyTorch model Required*) | The output schema in Apache Arrow schema format. |\n",
    "| `convert_wait` | `bool` (*Upload Method Optional, PyTorch model Optional*) (*Default: True*) | <ul><li>**True**: Waits in the script for the model conversion completion.</li><li>**False**:  Proceeds with the script without waiting for the model conversion process to display complete. |\n",
    "\n",
    "Once the upload process starts, the model is containerized by the Wallaroo instance.  This process may take up to 10 minutes."
   ]
  },
  {
   "cell_type": "code",
   "execution_count": 5,
   "id": "1167694d-d0ac-4432-9fde-4ba7a5e65846",
   "metadata": {},
   "outputs": [],
   "source": [
    "input_schema = pa.schema([\n",
    "    pa.field('input', pa.list_(pa.float64(), list_size=10))\n",
    "])\n",
    "output_schema = pa.schema([\n",
    "    pa.field('output', pa.list_(pa.float64(), list_size=1))\n",
    "])"
   ]
  },
  {
   "attachments": {},
   "cell_type": "markdown",
   "id": "af676365-ebc8-48ce-b008-389ea3af91cd",
   "metadata": {
    "tags": []
   },
   "source": [
    "### Upload Model\n",
    "\n",
    "The model will be uploaded with the framework set as `Framework.PYTORCH`."
   ]
  },
  {
   "cell_type": "code",
   "execution_count": 6,
   "id": "3700515d-f91c-481f-a495-29ad82cab91f",
   "metadata": {},
   "outputs": [
    {
     "name": "stdout",
     "output_type": "stream",
     "text": [
      "Waiting for model conversion... It may take up to 10.0min.\n",
      "Model is Pending conversion..Converting.........Ready.\n"
     ]
    },
    {
     "data": {
      "text/html": [
       "<table>\n",
       "        <tr>\n",
       "          <td>Name</td>\n",
       "          <td>pytorch-single-io</td>\n",
       "        </tr>\n",
       "        <tr>\n",
       "          <td>Version</td>\n",
       "          <td>60401663-c752-4448-b78d-7e4432e764f2</td>\n",
       "        </tr>\n",
       "        <tr>\n",
       "          <td>File Name</td>\n",
       "          <td>model-auto-conversion_pytorch_single_io_model.pt</td>\n",
       "        </tr>\n",
       "        <tr>\n",
       "          <td>SHA</td>\n",
       "          <td>23bdbafc51c3df7ac84e5f8b2833c592d7da2b27715a7da3e45bf732ea85b8bb</td>\n",
       "        </tr>\n",
       "        <tr>\n",
       "          <td>Status</td>\n",
       "          <td>ready</td>\n",
       "        </tr>\n",
       "        <tr>\n",
       "          <td>Image Path</td>\n",
       "          <td>proxy.replicated.com/proxy/wallaroo/ghcr.io/wallaroolabs/mlflow-deploy:v2023.3.0-main-3509</td>\n",
       "        </tr>\n",
       "        <tr>\n",
       "          <td>Updated At</td>\n",
       "          <td>2023-13-Jul 17:44:21</td>\n",
       "        </tr>\n",
       "      </table>"
      ],
      "text/plain": [
       "{'name': 'pytorch-single-io', 'version': '60401663-c752-4448-b78d-7e4432e764f2', 'file_name': 'model-auto-conversion_pytorch_single_io_model.pt', 'image_path': 'proxy.replicated.com/proxy/wallaroo/ghcr.io/wallaroolabs/mlflow-deploy:v2023.3.0-main-3509', 'last_update_time': datetime.datetime(2023, 7, 13, 17, 44, 21, 941597, tzinfo=tzutc())}"
      ]
     },
     "execution_count": 6,
     "metadata": {},
     "output_type": "execute_result"
    }
   ],
   "source": [
    "framework=Framework.PYTORCH\n",
    "\n",
    "model = wl.upload_model(model_name, \n",
    "                        model_file_name,\n",
    "                        framework=framework, \n",
    "                        input_schema=input_schema, \n",
    "                        output_schema=output_schema\n",
    "                       )\n",
    "model"
   ]
  },
  {
   "cell_type": "code",
   "execution_count": 7,
   "id": "a473b54b",
   "metadata": {},
   "outputs": [
    {
     "data": {
      "text/plain": [
       "'mlflow'"
      ]
     },
     "execution_count": 7,
     "metadata": {},
     "output_type": "execute_result"
    }
   ],
   "source": [
    "model.config().runtime()"
   ]
  },
  {
   "cell_type": "markdown",
   "id": "5271c9b4",
   "metadata": {},
   "source": [
    "### Deploy Pipeline\n",
    "\n",
    "The model is uploaded and ready for use.  We'll add it as a step in our pipeline, then deploy the pipeline.  For this example we're allocated 0.25 cpu and 4 Gi RAM to the pipeline through the pipeline's deployment configuration."
   ]
  },
  {
   "cell_type": "code",
   "execution_count": 8,
   "id": "2a709f2c-1332-4984-9cf8-87c6328d6ae4",
   "metadata": {},
   "outputs": [],
   "source": [
    "deployment_config = DeploymentConfigBuilder() \\\n",
    "    .cpus(0.25).memory('1Gi') \\\n",
    "    .build()"
   ]
  },
  {
   "cell_type": "code",
   "execution_count": 9,
   "id": "5ecc0a18-5912-4052-98a7-074b9db350b1",
   "metadata": {},
   "outputs": [
    {
     "data": {
      "text/plain": [
       "{'status': 'Running',\n",
       " 'details': [],\n",
       " 'engines': [{'ip': '10.244.9.174',\n",
       "   'name': 'engine-d4c87f97-bxgtn',\n",
       "   'status': 'Running',\n",
       "   'reason': None,\n",
       "   'details': [],\n",
       "   'pipeline_statuses': {'pipelines': [{'id': 'pytorch-single-io',\n",
       "      'status': 'Running'}]},\n",
       "   'model_statuses': {'models': [{'name': 'pytorch-single-io',\n",
       "      'version': '60401663-c752-4448-b78d-7e4432e764f2',\n",
       "      'sha': '23bdbafc51c3df7ac84e5f8b2833c592d7da2b27715a7da3e45bf732ea85b8bb',\n",
       "      'status': 'Running'}]}}],\n",
       " 'engine_lbs': [{'ip': '10.244.9.172',\n",
       "   'name': 'engine-lb-584f54c899-vd24j',\n",
       "   'status': 'Running',\n",
       "   'reason': None,\n",
       "   'details': []}],\n",
       " 'sidekicks': [{'ip': '10.244.9.173',\n",
       "   'name': 'engine-sidekick-pytorch-single-io-267-74ff565f46-r64l9',\n",
       "   'status': 'Running',\n",
       "   'reason': None,\n",
       "   'details': [],\n",
       "   'statuses': '\\n'}]}"
      ]
     },
     "execution_count": 9,
     "metadata": {},
     "output_type": "execute_result"
    }
   ],
   "source": [
    "# clear the pipeline if it was used before\n",
    "pipeline.undeploy()\n",
    "pipeline.clear()\n",
    "\n",
    "pipeline.add_model_step(model)\n",
    "\n",
    "pipeline.deploy(deployment_config=deployment_config)\n",
    "pipeline.status()"
   ]
  },
  {
   "attachments": {},
   "cell_type": "markdown",
   "id": "60cb4aa0-601d-4556-a3f8-cdc59e758add",
   "metadata": {},
   "source": [
    "### Run Inference\n",
    "\n",
    "A sample inference will be run.  First the pandas DataFrame used for the inference is created, then the inference run through the pipeline's `infer` method."
   ]
  },
  {
   "cell_type": "code",
   "execution_count": 11,
   "id": "1eab3c59-c7a2-4e79-a468-e5bcb65d916c",
   "metadata": {},
   "outputs": [
    {
     "data": {
      "text/html": [
       "<div>\n",
       "<style scoped>\n",
       "    .dataframe tbody tr th:only-of-type {\n",
       "        vertical-align: middle;\n",
       "    }\n",
       "\n",
       "    .dataframe tbody tr th {\n",
       "        vertical-align: top;\n",
       "    }\n",
       "\n",
       "    .dataframe thead th {\n",
       "        text-align: right;\n",
       "    }\n",
       "</style>\n",
       "<table border=\"1\" class=\"dataframe\">\n",
       "  <thead>\n",
       "    <tr style=\"text-align: right;\">\n",
       "      <th></th>\n",
       "      <th>time</th>\n",
       "      <th>in.input</th>\n",
       "      <th>out.output</th>\n",
       "      <th>check_failures</th>\n",
       "    </tr>\n",
       "  </thead>\n",
       "  <tbody>\n",
       "    <tr>\n",
       "      <th>0</th>\n",
       "      <td>2023-07-13 17:47:36.920</td>\n",
       "      <td>[0.9793556002, 0.7185564171, 0.3036665062, 0.2...</td>\n",
       "      <td>[-0.17520469427108765]</td>\n",
       "      <td>0</td>\n",
       "    </tr>\n",
       "    <tr>\n",
       "      <th>1</th>\n",
       "      <td>2023-07-13 17:47:36.920</td>\n",
       "      <td>[0.1405072075, 0.6040986499, 0.4725817666, 0.9...</td>\n",
       "      <td>[-0.17446672916412354]</td>\n",
       "      <td>0</td>\n",
       "    </tr>\n",
       "    <tr>\n",
       "      <th>2</th>\n",
       "      <td>2023-07-13 17:47:36.920</td>\n",
       "      <td>[0.3610862346, 0.0217239609, 0.5346289561, 0.9...</td>\n",
       "      <td>[-0.18389971554279327]</td>\n",
       "      <td>0</td>\n",
       "    </tr>\n",
       "    <tr>\n",
       "      <th>3</th>\n",
       "      <td>2023-07-13 17:47:36.920</td>\n",
       "      <td>[0.9739280826, 0.4035630357, 0.7590709887, 0.7...</td>\n",
       "      <td>[-0.1760045289993286]</td>\n",
       "      <td>0</td>\n",
       "    </tr>\n",
       "    <tr>\n",
       "      <th>4</th>\n",
       "      <td>2023-07-13 17:47:36.920</td>\n",
       "      <td>[0.6488859167, 0.8076425858, 0.3775445684, 0.7...</td>\n",
       "      <td>[-0.17518186569213867]</td>\n",
       "      <td>0</td>\n",
       "    </tr>\n",
       "    <tr>\n",
       "      <th>5</th>\n",
       "      <td>2023-07-13 17:47:36.920</td>\n",
       "      <td>[0.7711169349, 0.3743345638, 0.3789860132, 0.6...</td>\n",
       "      <td>[-0.11498415470123291]</td>\n",
       "      <td>0</td>\n",
       "    </tr>\n",
       "    <tr>\n",
       "      <th>6</th>\n",
       "      <td>2023-07-13 17:47:36.920</td>\n",
       "      <td>[0.4095596117, 0.0426551485, 0.9338234503, 0.2...</td>\n",
       "      <td>[0.06910310685634613]</td>\n",
       "      <td>0</td>\n",
       "    </tr>\n",
       "    <tr>\n",
       "      <th>7</th>\n",
       "      <td>2023-07-13 17:47:36.920</td>\n",
       "      <td>[0.0986111718, 0.4338122288, 0.2258331516, 0.3...</td>\n",
       "      <td>[0.0066347867250442505]</td>\n",
       "      <td>0</td>\n",
       "    </tr>\n",
       "    <tr>\n",
       "      <th>8</th>\n",
       "      <td>2023-07-13 17:47:36.920</td>\n",
       "      <td>[0.2659302336, 0.9380703173, 0.7125008616, 0.9...</td>\n",
       "      <td>[-0.061735235154628754]</td>\n",
       "      <td>0</td>\n",
       "    </tr>\n",
       "    <tr>\n",
       "      <th>9</th>\n",
       "      <td>2023-07-13 17:47:36.920</td>\n",
       "      <td>[0.1378982605, 0.6003082091, 0.7641944662, 0.9...</td>\n",
       "      <td>[-0.1069975420832634]</td>\n",
       "      <td>0</td>\n",
       "    </tr>\n",
       "  </tbody>\n",
       "</table>\n",
       "</div>"
      ],
      "text/plain": [
       "                     time                                           in.input  \\\n",
       "0 2023-07-13 17:47:36.920  [0.9793556002, 0.7185564171, 0.3036665062, 0.2...   \n",
       "1 2023-07-13 17:47:36.920  [0.1405072075, 0.6040986499, 0.4725817666, 0.9...   \n",
       "2 2023-07-13 17:47:36.920  [0.3610862346, 0.0217239609, 0.5346289561, 0.9...   \n",
       "3 2023-07-13 17:47:36.920  [0.9739280826, 0.4035630357, 0.7590709887, 0.7...   \n",
       "4 2023-07-13 17:47:36.920  [0.6488859167, 0.8076425858, 0.3775445684, 0.7...   \n",
       "5 2023-07-13 17:47:36.920  [0.7711169349, 0.3743345638, 0.3789860132, 0.6...   \n",
       "6 2023-07-13 17:47:36.920  [0.4095596117, 0.0426551485, 0.9338234503, 0.2...   \n",
       "7 2023-07-13 17:47:36.920  [0.0986111718, 0.4338122288, 0.2258331516, 0.3...   \n",
       "8 2023-07-13 17:47:36.920  [0.2659302336, 0.9380703173, 0.7125008616, 0.9...   \n",
       "9 2023-07-13 17:47:36.920  [0.1378982605, 0.6003082091, 0.7641944662, 0.9...   \n",
       "\n",
       "                out.output  check_failures  \n",
       "0   [-0.17520469427108765]               0  \n",
       "1   [-0.17446672916412354]               0  \n",
       "2   [-0.18389971554279327]               0  \n",
       "3    [-0.1760045289993286]               0  \n",
       "4   [-0.17518186569213867]               0  \n",
       "5   [-0.11498415470123291]               0  \n",
       "6    [0.06910310685634613]               0  \n",
       "7  [0.0066347867250442505]               0  \n",
       "8  [-0.061735235154628754]               0  \n",
       "9    [-0.1069975420832634]               0  "
      ]
     },
     "execution_count": 11,
     "metadata": {},
     "output_type": "execute_result"
    }
   ],
   "source": [
    "mock_inference_data = np.random.rand(10, 10)\n",
    "mock_dataframe = pd.DataFrame({\"input\": mock_inference_data.tolist()})\n",
    "pipeline.infer(mock_dataframe)"
   ]
  },
  {
   "cell_type": "markdown",
   "id": "f3694e07",
   "metadata": {},
   "source": [
    "### Undeploy Pipelines\n",
    "\n",
    "With the tutorial complete, the pipeline is undeployed to return the resources back to the cluster."
   ]
  },
  {
   "cell_type": "code",
   "execution_count": 12,
   "id": "cbdc5a2e-266f-4da8-a88d-1733aca72f0d",
   "metadata": {},
   "outputs": [
    {
     "data": {
      "text/html": [
       "<table><tr><th>name</th> <td>pytorch-single-io</td></tr><tr><th>created</th> <td>2023-07-13 17:43:23.742820+00:00</td></tr><tr><th>last_updated</th> <td>2023-07-13 17:44:26.785226+00:00</td></tr><tr><th>deployed</th> <td>False</td></tr><tr><th>tags</th> <td></td></tr><tr><th>versions</th> <td>49fe2e5b-b043-4a9e-bf68-2054b09cc051, 7405b506-7cce-47be-be4c-98baf0d11f75</td></tr><tr><th>steps</th> <td>pytorch-single-io</td></tr></table>"
      ],
      "text/plain": [
       "{'name': 'pytorch-single-io', 'create_time': datetime.datetime(2023, 7, 13, 17, 43, 23, 742820, tzinfo=tzutc()), 'definition': \"[{'ModelInference': {'models': [{'name': 'pytorch-single-io', 'version': '60401663-c752-4448-b78d-7e4432e764f2', 'sha': '23bdbafc51c3df7ac84e5f8b2833c592d7da2b27715a7da3e45bf732ea85b8bb'}]}}]\"}"
      ]
     },
     "execution_count": 12,
     "metadata": {},
     "output_type": "execute_result"
    }
   ],
   "source": [
    "pipeline.undeploy()"
   ]
  }
 ],
 "metadata": {
  "kernelspec": {
   "display_name": "Python 3 (ipykernel)",
   "language": "python",
   "name": "python3"
  },
  "language_info": {
   "codemirror_mode": {
    "name": "ipython",
    "version": 3
   },
   "file_extension": ".py",
   "mimetype": "text/x-python",
   "name": "python",
   "nbconvert_exporter": "python",
   "pygments_lexer": "ipython3",
   "version": "3.9.16"
  }
 },
 "nbformat": 4,
 "nbformat_minor": 5
}
