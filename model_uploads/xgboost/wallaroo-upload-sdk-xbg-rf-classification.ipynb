{
 "cells": [
  {
   "cell_type": "markdown",
   "id": "c18c8461-a00a-4a16-b3d7-2dee9187f672",
   "metadata": {},
   "source": [
    "## XGB Random Forest Classification Upload Tutorial\n",
    "\n",
    "The following example will:\n",
    "\n",
    "* Set the input and output schemas.\n",
    "* Upload a XGB Classification model to Wallaroo.\n",
    "* Deploy a pipeline with the uploaded SKLearn model as a pipeline step.\n",
    "* Perform a test inference.\n",
    "* Undeploy the pipeline."
   ]
  },
  {
   "cell_type": "code",
   "execution_count": 1,
   "id": "3436bb69-bb45-4d18-bc19-d82f76ae9bfe",
   "metadata": {},
   "outputs": [],
   "source": [
    "import json\n",
    "import os\n",
    "import pickle\n",
    "\n",
    "import wallaroo\n",
    "from wallaroo.pipeline   import Pipeline\n",
    "from wallaroo.deployment_config import DeploymentConfigBuilder\n",
    "from wallaroo.framework import Framework\n",
    "\n",
    "import pyarrow as pa\n",
    "import numpy as np\n",
    "import pandas as pd\n",
    "\n",
    "from sklearn.datasets import load_iris\n",
    "from xgboost import XGBClassifier"
   ]
  },
  {
   "cell_type": "code",
   "execution_count": 2,
   "id": "f1fcda6d",
   "metadata": {},
   "outputs": [
    {
     "name": "stdout",
     "output_type": "stream",
     "text": [
      "Please log into the following URL in a web browser:\n",
      "\n",
      "\thttps://keycloak.autoscale-uat-ee.wallaroo.dev/auth/realms/master/device?user_code=JNIX-KAAX\n",
      "\n",
      "Login successful!\n"
     ]
    }
   ],
   "source": [
    "wl = wallaroo.Client(auth_type=\"sso\", interactive=True)\n",
    "\n",
    "# wallarooPrefix = \"\"\n",
    "# wallarooSuffix = \"autoscale-uat-ee.wallaroo.dev\"\n",
    "\n",
    "# wl = wallaroo.Client(api_endpoint=f\"https://{wallarooPrefix}api.{wallarooSuffix}\", \n",
    "#                     auth_endpoint=f\"https://{wallarooPrefix}keycloak.{wallarooSuffix}\", \n",
    "#                     auth_type=\"sso\")"
   ]
  },
  {
   "cell_type": "code",
   "execution_count": 3,
   "id": "170bf187-321c-45ea-867a-0cc2879b0256",
   "metadata": {},
   "outputs": [],
   "source": [
    "def get_workspace(name):\n",
    "    workspace = None\n",
    "    for ws in wl.list_workspaces():\n",
    "        if ws.name() == name:\n",
    "            workspace= ws\n",
    "    if(workspace == None):\n",
    "        workspace = wl.create_workspace(name)\n",
    "    return workspace\n",
    "\n",
    "prefix = \"xgb-rf-classification\""
   ]
  },
  {
   "cell_type": "code",
   "execution_count": 4,
   "id": "6df649fa-329a-41c9-a5e6-6676383f1330",
   "metadata": {},
   "outputs": [
    {
     "data": {
      "text/plain": [
       "{'name': 'xgb-rf-classification-jch', 'id': 55, 'archived': False, 'created_by': '3cc9e92a-fa3c-4371-a7a7-487884df059e', 'created_at': '2023-06-16T19:31:15.163064+00:00', 'models': [], 'pipelines': []}"
      ]
     },
     "execution_count": 4,
     "metadata": {},
     "output_type": "execute_result"
    }
   ],
   "source": [
    "workspace = get_workspace(f\"{prefix}-jch\")\n",
    "wl.set_current_workspace(workspace)"
   ]
  },
  {
   "cell_type": "markdown",
   "id": "2a7ab7eb-90de-4e94-90d5-316e13eae5ab",
   "metadata": {},
   "source": [
    "## Data & Model Creation"
   ]
  },
  {
   "cell_type": "code",
   "execution_count": 5,
   "id": "1167694d-d0ac-4432-9fde-4ba7a5e65846",
   "metadata": {},
   "outputs": [],
   "source": [
    "input_schema = pa.schema([\n",
    "    pa.field('sepal length (cm)', pa.float64()),\n",
    "    pa.field('sepal width (cm)', pa.float64()),\n",
    "    pa.field('petal length (cm)', pa.float64()),\n",
    "    pa.field('petal width (cm)', pa.float64())\n",
    "])\n",
    "\n",
    "output_schema = pa.schema([\n",
    "    pa.field('output', pa.float64())\n",
    "])"
   ]
  },
  {
   "cell_type": "markdown",
   "id": "af676365-ebc8-48ce-b008-389ea3af91cd",
   "metadata": {
    "tags": []
   },
   "source": [
    "## Upload model"
   ]
  },
  {
   "cell_type": "code",
   "execution_count": 6,
   "id": "3700515d-f91c-481f-a495-29ad82cab91f",
   "metadata": {},
   "outputs": [
    {
     "name": "stdout",
     "output_type": "stream",
     "text": [
      "Waiting for model conversion... It may take up to 10.0min.\n",
      "Model is Pending conversion..Converting..Pending conversion.Converting.........Ready.\n"
     ]
    },
    {
     "data": {
      "text/plain": [
       "{'name': 'xgb-rf-classification', 'version': '10f7b81b-ef5f-4cd7-a249-a50edb3aa33e', 'file_name': 'model-auto-conversion_xgboost_xgb_rf_classification_iris.pkl', 'image_path': 'proxy.replicated.com/proxy/wallaroo/ghcr.io/wallaroolabs/mlflow-deploy:v2023.3.0-main-3367', 'last_update_time': datetime.datetime(2023, 6, 16, 19, 32, 22, 420438, tzinfo=tzutc())}"
      ]
     },
     "execution_count": 6,
     "metadata": {},
     "output_type": "execute_result"
    }
   ],
   "source": [
    "model = wl.upload_model(f\"{prefix}\", 'models/model-auto-conversion_xgboost_xgb_rf_classification_iris.pkl', framework=Framework.XGBOOST, input_schema=input_schema, output_schema=output_schema)\n",
    "model"
   ]
  },
  {
   "cell_type": "markdown",
   "id": "47fcab28-dce9-4385-802c-70a8f48fec38",
   "metadata": {
    "tags": []
   },
   "source": [
    "## Configure model and pipeline"
   ]
  },
  {
   "cell_type": "code",
   "execution_count": 7,
   "id": "2a709f2c-1332-4984-9cf8-87c6328d6ae4",
   "metadata": {},
   "outputs": [],
   "source": [
    "deployment_config = DeploymentConfigBuilder() \\\n",
    "    .cpus(0.25).memory('1Gi') \\\n",
    "    .build()"
   ]
  },
  {
   "cell_type": "code",
   "execution_count": 8,
   "id": "5ecc0a18-5912-4052-98a7-074b9db350b1",
   "metadata": {},
   "outputs": [
    {
     "data": {
      "text/html": [
       "<table><tr><th>name</th> <td>xgb-rf-classification-pipeline</td></tr><tr><th>created</th> <td>2023-06-16 19:32:25.641098+00:00</td></tr><tr><th>last_updated</th> <td>2023-06-16 19:32:25.641098+00:00</td></tr><tr><th>deployed</th> <td>(none)</td></tr><tr><th>tags</th> <td></td></tr><tr><th>versions</th> <td>9a46d503-de84-4ae3-bcd6-68bed698711c</td></tr><tr><th>steps</th> <td></td></tr></table>"
      ],
      "text/plain": [
       "{'name': 'xgb-rf-classification-pipeline', 'create_time': datetime.datetime(2023, 6, 16, 19, 32, 25, 641098, tzinfo=tzutc()), 'definition': \"[{'ModelInference': {'models': [{'name': 'xgb-rf-classification', 'version': '10f7b81b-ef5f-4cd7-a249-a50edb3aa33e', 'sha': '2aeb56c084a279770abdd26d14caba949159698c1a5d260d2aafe73090e6cb03'}]}}]\"}"
      ]
     },
     "execution_count": 8,
     "metadata": {},
     "output_type": "execute_result"
    }
   ],
   "source": [
    "pipeline_name = f\"{prefix}-pipeline\"\n",
    "pipeline = wl.build_pipeline(pipeline_name)\n",
    "pipeline.add_model_step(model)"
   ]
  },
  {
   "cell_type": "code",
   "execution_count": 9,
   "id": "109d9117",
   "metadata": {},
   "outputs": [
    {
     "name": "stdout",
     "output_type": "stream",
     "text": [
      "Waiting for deployment - this will take up to 90s ............... ok\n"
     ]
    },
    {
     "data": {
      "text/plain": [
       "{'status': 'Running',\n",
       " 'details': [],\n",
       " 'engines': [{'ip': '10.244.4.78',\n",
       "   'name': 'engine-595ff9d467-66lwd',\n",
       "   'status': 'Running',\n",
       "   'reason': None,\n",
       "   'details': [],\n",
       "   'pipeline_statuses': {'pipelines': [{'id': 'xgb-rf-classification-pipeline',\n",
       "      'status': 'Running'}]},\n",
       "   'model_statuses': {'models': [{'name': 'xgb-rf-classification',\n",
       "      'version': '10f7b81b-ef5f-4cd7-a249-a50edb3aa33e',\n",
       "      'sha': '2aeb56c084a279770abdd26d14caba949159698c1a5d260d2aafe73090e6cb03',\n",
       "      'status': 'Running'}]}}],\n",
       " 'engine_lbs': [{'ip': '10.244.4.79',\n",
       "   'name': 'engine-lb-584f54c899-g2lpr',\n",
       "   'status': 'Running',\n",
       "   'reason': None,\n",
       "   'details': []}],\n",
       " 'sidekicks': [{'ip': '10.244.4.80',\n",
       "   'name': 'engine-sidekick-xgb-rf-classification-52-ff9dd7f95-7jkns',\n",
       "   'status': 'Running',\n",
       "   'reason': None,\n",
       "   'details': [],\n",
       "   'statuses': '\\n'}]}"
      ]
     },
     "execution_count": 9,
     "metadata": {},
     "output_type": "execute_result"
    }
   ],
   "source": [
    "pipeline.deploy(deployment_config=deployment_config)\n",
    "pipeline.status()"
   ]
  },
  {
   "cell_type": "markdown",
   "id": "60cb4aa0-601d-4556-a3f8-cdc59e758add",
   "metadata": {},
   "source": [
    "## Inference"
   ]
  },
  {
   "cell_type": "code",
   "execution_count": 10,
   "id": "1eab3c59-c7a2-4e79-a468-e5bcb65d916c",
   "metadata": {},
   "outputs": [
    {
     "data": {
      "text/html": [
       "<div>\n",
       "<style scoped>\n",
       "    .dataframe tbody tr th:only-of-type {\n",
       "        vertical-align: middle;\n",
       "    }\n",
       "\n",
       "    .dataframe tbody tr th {\n",
       "        vertical-align: top;\n",
       "    }\n",
       "\n",
       "    .dataframe thead th {\n",
       "        text-align: right;\n",
       "    }\n",
       "</style>\n",
       "<table border=\"1\" class=\"dataframe\">\n",
       "  <thead>\n",
       "    <tr style=\"text-align: right;\">\n",
       "      <th></th>\n",
       "      <th>time</th>\n",
       "      <th>in.petal length (cm)</th>\n",
       "      <th>in.petal width (cm)</th>\n",
       "      <th>in.sepal length (cm)</th>\n",
       "      <th>in.sepal width (cm)</th>\n",
       "      <th>out.output</th>\n",
       "      <th>check_failures</th>\n",
       "    </tr>\n",
       "  </thead>\n",
       "  <tbody>\n",
       "    <tr>\n",
       "      <th>0</th>\n",
       "      <td>2023-06-16 19:32:41.347</td>\n",
       "      <td>1.4</td>\n",
       "      <td>0.2</td>\n",
       "      <td>5.1</td>\n",
       "      <td>3.5</td>\n",
       "      <td>1.0</td>\n",
       "      <td>0</td>\n",
       "    </tr>\n",
       "    <tr>\n",
       "      <th>1</th>\n",
       "      <td>2023-06-16 19:32:41.347</td>\n",
       "      <td>1.4</td>\n",
       "      <td>0.2</td>\n",
       "      <td>4.9</td>\n",
       "      <td>3.0</td>\n",
       "      <td>1.0</td>\n",
       "      <td>0</td>\n",
       "    </tr>\n",
       "  </tbody>\n",
       "</table>\n",
       "</div>"
      ],
      "text/plain": [
       "                     time  in.petal length (cm)  in.petal width (cm)  \\\n",
       "0 2023-06-16 19:32:41.347                   1.4                  0.2   \n",
       "1 2023-06-16 19:32:41.347                   1.4                  0.2   \n",
       "\n",
       "   in.sepal length (cm)  in.sepal width (cm)  out.output  check_failures  \n",
       "0                   5.1                  3.5         1.0               0  \n",
       "1                   4.9                  3.0         1.0               0  "
      ]
     },
     "execution_count": 10,
     "metadata": {},
     "output_type": "execute_result"
    }
   ],
   "source": [
    "pipeline.infer_from_file('data/test-xgboost-rf-classification-data.json')"
   ]
  },
  {
   "cell_type": "code",
   "execution_count": 11,
   "id": "cbdc5a2e-266f-4da8-a88d-1733aca72f0d",
   "metadata": {},
   "outputs": [
    {
     "name": "stdout",
     "output_type": "stream",
     "text": [
      "Waiting for undeployment - this will take up to 45s ....................................... ok\n"
     ]
    },
    {
     "data": {
      "text/html": [
       "<table><tr><th>name</th> <td>xgb-rf-classification-pipeline</td></tr><tr><th>created</th> <td>2023-06-16 19:32:25.641098+00:00</td></tr><tr><th>last_updated</th> <td>2023-06-16 19:32:25.712877+00:00</td></tr><tr><th>deployed</th> <td>False</td></tr><tr><th>tags</th> <td></td></tr><tr><th>versions</th> <td>bb43b870-1912-4f76-9961-545e7d76dbc2, 9a46d503-de84-4ae3-bcd6-68bed698711c</td></tr><tr><th>steps</th> <td>xgb-rf-classification</td></tr></table>"
      ],
      "text/plain": [
       "{'name': 'xgb-rf-classification-pipeline', 'create_time': datetime.datetime(2023, 6, 16, 19, 32, 25, 641098, tzinfo=tzutc()), 'definition': \"[{'ModelInference': {'models': [{'name': 'xgb-rf-classification', 'version': '10f7b81b-ef5f-4cd7-a249-a50edb3aa33e', 'sha': '2aeb56c084a279770abdd26d14caba949159698c1a5d260d2aafe73090e6cb03'}]}}]\"}"
      ]
     },
     "execution_count": 11,
     "metadata": {},
     "output_type": "execute_result"
    }
   ],
   "source": [
    "pipeline.undeploy()"
   ]
  }
 ],
 "metadata": {
  "kernelspec": {
   "display_name": "Python 3 (ipykernel)",
   "language": "python",
   "name": "python3"
  },
  "language_info": {
   "codemirror_mode": {
    "name": "ipython",
    "version": 3
   },
   "file_extension": ".py",
   "mimetype": "text/x-python",
   "name": "python",
   "nbconvert_exporter": "python",
   "pygments_lexer": "ipython3",
   "version": "3.9.13"
  }
 },
 "nbformat": 4,
 "nbformat_minor": 5
}
