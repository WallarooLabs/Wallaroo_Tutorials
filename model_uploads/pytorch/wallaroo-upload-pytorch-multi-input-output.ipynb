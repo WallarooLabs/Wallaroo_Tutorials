{
 "cells": [
  {
   "attachments": {},
   "cell_type": "markdown",
   "id": "c18c8461-a00a-4a16-b3d7-2dee9187f672",
   "metadata": {},
   "source": [
    "## PyTortch Regression\n",
    "\n",
    "The following example will:\n",
    "\n",
    "* Set the input and output schemas.\n",
    "* Upload a SKLearn Logistic Regression model to Wallaroo.\n",
    "* Deploy a pipeline with the uploaded SKLearn model as a pipeline step.\n",
    "* Perform a test inference.\n",
    "* Undeploy the pipeline."
   ]
  },
  {
   "cell_type": "code",
   "execution_count": 1,
   "id": "3436bb69-bb45-4d18-bc19-d82f76ae9bfe",
   "metadata": {},
   "outputs": [
    {
     "name": "stdout",
     "output_type": "stream",
     "text": [
      "Please log into the following URL in a web browser:\n",
      "\n",
      "\thttps://keycloak.autoscale-uat-ee.wallaroo.dev/auth/realms/master/device?user_code=PYXH-ZCNX\n",
      "\n",
      "Login successful!\n"
     ]
    }
   ],
   "source": [
    "import json\n",
    "import os\n",
    "import pickle\n",
    "\n",
    "import wallaroo\n",
    "from wallaroo.pipeline   import Pipeline\n",
    "from wallaroo.deployment_config import DeploymentConfigBuilder\n",
    "from wallaroo.framework import Framework\n",
    "\n",
    "import pyarrow as pa\n",
    "import numpy as np\n",
    "import pandas as pd\n"
   ]
  },
  {
   "cell_type": "code",
   "execution_count": null,
   "id": "dd04b48a",
   "metadata": {},
   "outputs": [],
   "source": [
    "\n",
    "wl = wallaroo.Client()"
   ]
  },
  {
   "cell_type": "code",
   "execution_count": 2,
   "id": "170bf187-321c-45ea-867a-0cc2879b0256",
   "metadata": {},
   "outputs": [],
   "source": [
    "def get_workspace(name):\n",
    "    workspace = None\n",
    "    for ws in wl.list_workspaces():\n",
    "        if ws.name() == name:\n",
    "            workspace= ws\n",
    "    if(workspace == None):\n",
    "        workspace = wl.create_workspace(name)\n",
    "    return workspace\n",
    "\n",
    "prefix = \"pytorch-multi-input\""
   ]
  },
  {
   "cell_type": "code",
   "execution_count": 3,
   "id": "6df649fa-329a-41c9-a5e6-6676383f1330",
   "metadata": {},
   "outputs": [
    {
     "data": {
      "text/plain": [
       "{'name': 'pytorch-single-input-jch', 'id': 47, 'archived': False, 'created_by': '0892876b-8b50-4541-bf29-0e570e590c01', 'created_at': '2023-06-23T02:07:54.59147+00:00', 'models': [], 'pipelines': []}"
      ]
     },
     "execution_count": 3,
     "metadata": {},
     "output_type": "execute_result"
    }
   ],
   "source": [
    "workspace = get_workspace(f\"{prefix}-jch\")\n",
    "wl.set_current_workspace(workspace)"
   ]
  },
  {
   "attachments": {},
   "cell_type": "markdown",
   "id": "2a7ab7eb-90de-4e94-90d5-316e13eae5ab",
   "metadata": {},
   "source": [
    "## Data & Model Creation"
   ]
  },
  {
   "cell_type": "code",
   "execution_count": null,
   "id": "42d9ba85",
   "metadata": {},
   "outputs": [],
   "source": [
    "mock_inference_data = [np.random.rand(10, 10), np.random.rand(10, 5)]\n",
    "mock_dataframe = pd.DataFrame(\n",
    "    {\n",
    "        \"input_1\": mock_inference_data[0].tolist(),\n",
    "        \"input_2\": mock_inference_data[1].tolist(),\n",
    "    }\n",
    ")\n",
    "mock_json = mock_dataframe.to_json('data/pytorch-multi-io-data.json', orient=\"records\")"
   ]
  },
  {
   "cell_type": "code",
   "execution_count": 4,
   "id": "1167694d-d0ac-4432-9fde-4ba7a5e65846",
   "metadata": {},
   "outputs": [],
   "source": [
    "input_schema = pa.schema([\n",
    "    pa.field('input_1', pa.list_(pa.float64(), list_size=10)),\n",
    "    pa.field('input_2', pa.list_(pa.float64(), list_size=5))\n",
    "])\n",
    "output_schema = pa.schema([\n",
    "    pa.field('output_1', pa.list_(pa.float64(), list_size=3)),\n",
    "    pa.field('output_2', pa.list_(pa.float64(), list_size=2))\n",
    "])"
   ]
  },
  {
   "attachments": {},
   "cell_type": "markdown",
   "id": "af676365-ebc8-48ce-b008-389ea3af91cd",
   "metadata": {
    "tags": []
   },
   "source": [
    "## Upload model"
   ]
  },
  {
   "cell_type": "code",
   "execution_count": 5,
   "id": "3700515d-f91c-481f-a495-29ad82cab91f",
   "metadata": {},
   "outputs": [
    {
     "name": "stdout",
     "output_type": "stream",
     "text": [
      "Waiting for model conversion... It may take up to 10.0min.\n",
      "Model is Pending conversion..Converting...........Ready.\n"
     ]
    },
    {
     "data": {
      "text/plain": [
       "{'name': 'pt-single-io-model', 'version': '8f91dee1-79e0-449b-9a59-0e93ba4a1ba9', 'file_name': 'model-auto-conversion_pytorch_single_io_model.pt', 'image_path': 'proxy.replicated.com/proxy/wallaroo/ghcr.io/wallaroolabs/mlflow-deploy:v2023.3.0-main-3397', 'last_update_time': datetime.datetime(2023, 6, 23, 2, 8, 56, 669565, tzinfo=tzutc())}"
      ]
     },
     "execution_count": 5,
     "metadata": {},
     "output_type": "execute_result"
    }
   ],
   "source": [
    "model = wl.upload_model('pt-multi-io-model', \n",
    "                        \"./models/model-auto-conversion_pytorch_multi_io_model.pt\", \n",
    "                        framework=Framework.PYTORCH, \n",
    "                        input_schema=input_schema, \n",
    "                        output_schema=output_schema\n",
    "                       )\n",
    "model"
   ]
  },
  {
   "attachments": {},
   "cell_type": "markdown",
   "id": "47fcab28-dce9-4385-802c-70a8f48fec38",
   "metadata": {
    "tags": []
   },
   "source": [
    "## Configure model and pipeline"
   ]
  },
  {
   "cell_type": "code",
   "execution_count": 6,
   "id": "2a709f2c-1332-4984-9cf8-87c6328d6ae4",
   "metadata": {},
   "outputs": [],
   "source": [
    "deployment_config = DeploymentConfigBuilder() \\\n",
    "    .cpus(0.25).memory('1Gi') \\\n",
    "    .build()"
   ]
  },
  {
   "cell_type": "code",
   "execution_count": 7,
   "id": "5ecc0a18-5912-4052-98a7-074b9db350b1",
   "metadata": {},
   "outputs": [
    {
     "name": "stdout",
     "output_type": "stream",
     "text": [
      "Waiting for deployment - this will take up to 90s ................... ok\n"
     ]
    },
    {
     "data": {
      "text/plain": [
       "{'status': 'Running',\n",
       " 'details': [],\n",
       " 'engines': [{'ip': '10.244.6.32',\n",
       "   'name': 'engine-699fc4898f-8rv9t',\n",
       "   'status': 'Running',\n",
       "   'reason': None,\n",
       "   'details': [],\n",
       "   'pipeline_statuses': {'pipelines': [{'id': 'pytorch-single-input-pipeline',\n",
       "      'status': 'Running'}]},\n",
       "   'model_statuses': {'models': [{'name': 'pt-single-io-model',\n",
       "      'version': '8f91dee1-79e0-449b-9a59-0e93ba4a1ba9',\n",
       "      'sha': '23bdbafc51c3df7ac84e5f8b2833c592d7da2b27715a7da3e45bf732ea85b8bb',\n",
       "      'status': 'Running'}]}}],\n",
       " 'engine_lbs': [{'ip': '10.244.6.31',\n",
       "   'name': 'engine-lb-584f54c899-jrkg9',\n",
       "   'status': 'Running',\n",
       "   'reason': None,\n",
       "   'details': []}],\n",
       " 'sidekicks': [{'ip': '10.244.4.202',\n",
       "   'name': 'engine-sidekick-pt-single-io-model-150-66f8c754bf-x69tx',\n",
       "   'status': 'Running',\n",
       "   'reason': None,\n",
       "   'details': [],\n",
       "   'statuses': '\\n'}]}"
      ]
     },
     "execution_count": 7,
     "metadata": {},
     "output_type": "execute_result"
    }
   ],
   "source": [
    "pipeline_name = f\"{prefix}-pipeline\"\n",
    "pipeline = wl.build_pipeline(pipeline_name)\n",
    "pipeline.add_model_step(model)\n",
    "\n",
    "pipeline.deploy(deployment_config=deployment_config)\n",
    "pipeline.status()"
   ]
  },
  {
   "attachments": {},
   "cell_type": "markdown",
   "id": "60cb4aa0-601d-4556-a3f8-cdc59e758add",
   "metadata": {},
   "source": [
    "## Inference"
   ]
  },
  {
   "cell_type": "code",
   "execution_count": 9,
   "id": "1eab3c59-c7a2-4e79-a468-e5bcb65d916c",
   "metadata": {},
   "outputs": [
    {
     "data": {
      "text/html": [
       "<div>\n",
       "<style scoped>\n",
       "    .dataframe tbody tr th:only-of-type {\n",
       "        vertical-align: middle;\n",
       "    }\n",
       "\n",
       "    .dataframe tbody tr th {\n",
       "        vertical-align: top;\n",
       "    }\n",
       "\n",
       "    .dataframe thead th {\n",
       "        text-align: right;\n",
       "    }\n",
       "</style>\n",
       "<table border=\"1\" class=\"dataframe\">\n",
       "  <thead>\n",
       "    <tr style=\"text-align: right;\">\n",
       "      <th></th>\n",
       "      <th>time</th>\n",
       "      <th>in.input</th>\n",
       "      <th>out.output</th>\n",
       "      <th>check_failures</th>\n",
       "    </tr>\n",
       "  </thead>\n",
       "  <tbody>\n",
       "    <tr>\n",
       "      <th>0</th>\n",
       "      <td>2023-06-23 02:09:44.784</td>\n",
       "      <td>[0.1810392682, 0.257671871, 0.9975622994, 0.13...</td>\n",
       "      <td>[0.150135800242424]</td>\n",
       "      <td>0</td>\n",
       "    </tr>\n",
       "    <tr>\n",
       "      <th>1</th>\n",
       "      <td>2023-06-23 02:09:44.784</td>\n",
       "      <td>[0.6790846298, 0.0180313244, 0.5641078074, 0.3...</td>\n",
       "      <td>[-0.08427916467189789]</td>\n",
       "      <td>0</td>\n",
       "    </tr>\n",
       "    <tr>\n",
       "      <th>2</th>\n",
       "      <td>2023-06-23 02:09:44.784</td>\n",
       "      <td>[0.5731166617, 0.5533275412, 0.4172515078, 0.3...</td>\n",
       "      <td>[-0.01238897442817688]</td>\n",
       "      <td>0</td>\n",
       "    </tr>\n",
       "    <tr>\n",
       "      <th>3</th>\n",
       "      <td>2023-06-23 02:09:44.784</td>\n",
       "      <td>[0.7686341548, 0.9895859489, 0.1525565068, 0.0...</td>\n",
       "      <td>[-0.0985543504357338]</td>\n",
       "      <td>0</td>\n",
       "    </tr>\n",
       "    <tr>\n",
       "      <th>4</th>\n",
       "      <td>2023-06-23 02:09:44.784</td>\n",
       "      <td>[0.916929814, 0.0148056624, 0.8978319544, 0.64...</td>\n",
       "      <td>[-0.09987331926822662]</td>\n",
       "      <td>0</td>\n",
       "    </tr>\n",
       "    <tr>\n",
       "      <th>5</th>\n",
       "      <td>2023-06-23 02:09:44.784</td>\n",
       "      <td>[0.2164508004, 0.3161185598, 0.4462939944, 0.2...</td>\n",
       "      <td>[-0.07775364816188812]</td>\n",
       "      <td>0</td>\n",
       "    </tr>\n",
       "    <tr>\n",
       "      <th>6</th>\n",
       "      <td>2023-06-23 02:09:44.784</td>\n",
       "      <td>[0.3901195238, 0.4068669654, 0.370721485, 0.99...</td>\n",
       "      <td>[-0.15208657085895538]</td>\n",
       "      <td>0</td>\n",
       "    </tr>\n",
       "    <tr>\n",
       "      <th>7</th>\n",
       "      <td>2023-06-23 02:09:44.784</td>\n",
       "      <td>[0.4070531149, 0.1575033787, 0.9212983823, 0.7...</td>\n",
       "      <td>[-0.026245146989822388]</td>\n",
       "      <td>0</td>\n",
       "    </tr>\n",
       "    <tr>\n",
       "      <th>8</th>\n",
       "      <td>2023-06-23 02:09:44.784</td>\n",
       "      <td>[0.775045768, 0.4525766175, 0.7998572455, 0.85...</td>\n",
       "      <td>[-0.12369337677955627]</td>\n",
       "      <td>0</td>\n",
       "    </tr>\n",
       "    <tr>\n",
       "      <th>9</th>\n",
       "      <td>2023-06-23 02:09:44.784</td>\n",
       "      <td>[0.7134285141, 0.4573823559, 0.3010524343, 0.4...</td>\n",
       "      <td>[-0.03293849527835846]</td>\n",
       "      <td>0</td>\n",
       "    </tr>\n",
       "  </tbody>\n",
       "</table>\n",
       "</div>"
      ],
      "text/plain": [
       "                     time                                           in.input  \\\n",
       "0 2023-06-23 02:09:44.784  [0.1810392682, 0.257671871, 0.9975622994, 0.13...   \n",
       "1 2023-06-23 02:09:44.784  [0.6790846298, 0.0180313244, 0.5641078074, 0.3...   \n",
       "2 2023-06-23 02:09:44.784  [0.5731166617, 0.5533275412, 0.4172515078, 0.3...   \n",
       "3 2023-06-23 02:09:44.784  [0.7686341548, 0.9895859489, 0.1525565068, 0.0...   \n",
       "4 2023-06-23 02:09:44.784  [0.916929814, 0.0148056624, 0.8978319544, 0.64...   \n",
       "5 2023-06-23 02:09:44.784  [0.2164508004, 0.3161185598, 0.4462939944, 0.2...   \n",
       "6 2023-06-23 02:09:44.784  [0.3901195238, 0.4068669654, 0.370721485, 0.99...   \n",
       "7 2023-06-23 02:09:44.784  [0.4070531149, 0.1575033787, 0.9212983823, 0.7...   \n",
       "8 2023-06-23 02:09:44.784  [0.775045768, 0.4525766175, 0.7998572455, 0.85...   \n",
       "9 2023-06-23 02:09:44.784  [0.7134285141, 0.4573823559, 0.3010524343, 0.4...   \n",
       "\n",
       "                out.output  check_failures  \n",
       "0      [0.150135800242424]               0  \n",
       "1   [-0.08427916467189789]               0  \n",
       "2   [-0.01238897442817688]               0  \n",
       "3    [-0.0985543504357338]               0  \n",
       "4   [-0.09987331926822662]               0  \n",
       "5   [-0.07775364816188812]               0  \n",
       "6   [-0.15208657085895538]               0  \n",
       "7  [-0.026245146989822388]               0  \n",
       "8   [-0.12369337677955627]               0  \n",
       "9   [-0.03293849527835846]               0  "
      ]
     },
     "execution_count": 9,
     "metadata": {},
     "output_type": "execute_result"
    }
   ],
   "source": [
    "pipeline.infer_from_file('./data/pytorch-multi-io-data.json')"
   ]
  },
  {
   "cell_type": "code",
   "execution_count": 10,
   "id": "cbdc5a2e-266f-4da8-a88d-1733aca72f0d",
   "metadata": {},
   "outputs": [
    {
     "name": "stdout",
     "output_type": "stream",
     "text": [
      "Waiting for undeployment - this will take up to 45s ...................................... ok\n"
     ]
    },
    {
     "data": {
      "text/html": [
       "<table><tr><th>name</th> <td>pytorch-single-input-pipeline</td></tr><tr><th>created</th> <td>2023-06-23 02:09:00.149322+00:00</td></tr><tr><th>last_updated</th> <td>2023-06-23 02:09:00.181270+00:00</td></tr><tr><th>deployed</th> <td>False</td></tr><tr><th>tags</th> <td></td></tr><tr><th>versions</th> <td>474221ef-b47b-41ae-9191-d156e0094ed5, 68164858-7608-4a79-a16b-d5ca3b7bfdfc</td></tr><tr><th>steps</th> <td>pt-single-io-model</td></tr></table>"
      ],
      "text/plain": [
       "{'name': 'pytorch-single-input-pipeline', 'create_time': datetime.datetime(2023, 6, 23, 2, 9, 0, 149322, tzinfo=tzutc()), 'definition': \"[{'ModelInference': {'models': [{'name': 'pt-single-io-model', 'version': '8f91dee1-79e0-449b-9a59-0e93ba4a1ba9', 'sha': '23bdbafc51c3df7ac84e5f8b2833c592d7da2b27715a7da3e45bf732ea85b8bb'}]}}]\"}"
      ]
     },
     "execution_count": 10,
     "metadata": {},
     "output_type": "execute_result"
    }
   ],
   "source": [
    "pipeline.undeploy()"
   ]
  },
  {
   "cell_type": "code",
   "execution_count": null,
   "id": "b47473a5-f3f8-49ec-a5f6-6f29aa0b872a",
   "metadata": {},
   "outputs": [],
   "source": []
  }
 ],
 "metadata": {
  "kernelspec": {
   "display_name": "Python 3 (ipykernel)",
   "language": "python",
   "name": "python3"
  },
  "language_info": {
   "codemirror_mode": {
    "name": "ipython",
    "version": 3
   },
   "file_extension": ".py",
   "mimetype": "text/x-python",
   "name": "python",
   "nbconvert_exporter": "python",
   "pygments_lexer": "ipython3",
   "version": "3.9.13"
  }
 },
 "nbformat": 4,
 "nbformat_minor": 5
}
