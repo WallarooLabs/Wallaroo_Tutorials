{
 "cells": [
  {
   "cell_type": "markdown",
   "id": "d1541638-48e2-4f9e-9a6c-1f868ba7f837",
   "metadata": {},
   "source": [
    "This tutorial can be downloaded as part of the [Wallaroo Tutorials repository](https://github.com/WallarooLabs/Wallaroo_Tutorials/tree/main/model_uploads/arbitrary-python-upload-tutorials).\n",
    "\n",
    "## Arbitrary Python Tutorial Deploy Model in Wallaroo Upload and Deploy\n",
    "\n",
    "This tutorial demonstrates how to use arbitrary python as a ML Model in Wallaroo.  Arbitrary Python allows organizations to use Python scripts that require specific libraries and artifacts as models in the Wallaroo engine.  This allows for highly flexible use of ML models with supporting scripts.\n",
    "\n",
    "### Tutorial Goals\n",
    "\n",
    "This tutorial is split into two parts:\n",
    "\n",
    "* **Wallaroo SDK Upload Arbitrary Python Tutorial: Generate Model**: Train a dummy `KMeans` model for clustering images using a pre-trained `VGG16` model on `cifar10` as a feature extractor.  The Python entry points used for Wallaroo deployment will be added and described.\n",
    "  * A copy of the arbitrary Python model `models/model-auto-conversion-BYOP-vgg16-clustering.zip` is included in this tutorial, so this step can be skipped.\n",
    "* **Arbitrary Python Tutorial Deploy Model in Wallaroo Upload and Deploy**: Deploys the `KMeans` model in an arbitrary Python package in Wallaroo, and perform sample inferences.  The file `models/model-auto-conversion-BYOP-vgg16-clustering.zip` is provided so users can go right to testing deployment.\n",
    "\n",
    "### Arbitrary Python Script Requirements\n",
    "\n",
    "The entry point of the arbitrary python model is any python script that **must** include the following.\n",
    "\n",
    "* `class ImageClustering(Inference)`:  The default inference class.  This is used to perform the actual inferences.  Wallaroo uses the `_predict` method to receive the inference data and call the appropriate functions for the inference.\n",
    "  * `def __init__`:  Used to initialize this class and load in any other classes or other required settings.\n",
    "  * `def expected_model_types`: Used by Wallaroo to anticipate what model types are used by the script.\n",
    "  * `def model(self, model)`: Defines the model used for the inference.  Accepts the model instance used in the inference.\n",
    "    * `self._raise_error_if_model_is_wrong_type(model)`: Returns the error if the wrong model type is used.  This verifies that only the anticipated model type is used for the inference.\n",
    "    * `self._model = model`: Sets the submitted model as the model for this class, provided `_raise_error_if_model_is_wrong_type` is not raised.\n",
    "  * `def _predict(self, input_data: InferenceData)`:  This is the entry point for Wallaroo to perform the inference.  This will receive the inference data, then perform whatever steps and return a dictionary of numpy arrays.\n",
    "* `class ImageClusteringBuilder(InferenceBuilder)`: Loads the model and prepares it for inferencing.\n",
    "  * `def inference(self) -> ImageClustering`: Sets the inference class being used for the inferences.\n",
    "  * `def create(self, config: CustomInferenceConfig) -> ImageClustering`: Creates an inference subclass, assigning the model and any attributes required for it to function.\n",
    "\n",
    "All other methods used for the functioning of these classes are optional, as long as they meet the requirements listed above.\n",
    "\n",
    "### Tutorial Prerequisites\n",
    "\n",
    "* Wallaroo Version 2023.2.1 or above instance.\n",
    "\n",
    "### References\n",
    "\n",
    "* [Wallaroo SDK Essentials Guide: Model Uploads and Registrations: Arbitrary Python](https://docs.wallaroo.ai/wallaroo-developer-guides/wallaroo-sdk-guides/wallaroo-sdk-essentials-guide/wallaroo-sdk-model-uploads/wallaroo-sdk-model-arbitrary-python/)"
   ]
  },
  {
   "cell_type": "markdown",
   "id": "0a5216bd-3044-42ac-8514-98c90e5bbb38",
   "metadata": {},
   "source": [
    "## Tutorial Steps\n",
    "\n",
    "### Import Libraries\n",
    "\n",
    "The first step is to import the libraries we'll be using.  These are included by default in the Wallaroo instance's JupyterHub service."
   ]
  },
  {
   "cell_type": "code",
   "execution_count": null,
   "id": "2fe9934d-7f28-4715-94df-e18da031a4c9",
   "metadata": {},
   "outputs": [],
   "source": [
    "import numpy as np\n",
    "import pandas as pd\n",
    "import json\n",
    "import os\n",
    "import pickle\n",
    "import pyarrow as pa\n",
    "import tensorflow as tf\n",
    "import wallaroo\n",
    "\n",
    "from sklearn.cluster import KMeans\n",
    "from tensorflow.keras.datasets import cifar10\n",
    "from tensorflow.keras import Model\n",
    "from tensorflow.keras.layers import Flatten\n",
    "from wallaroo.pipeline   import Pipeline\n",
    "from wallaroo.deployment_config import DeploymentConfigBuilder\n",
    "from wallaroo.framework import Framework\n",
    "from wallaroo.object import EntityNotFoundError"
   ]
  },
  {
   "cell_type": "markdown",
   "id": "a91f8feb",
   "metadata": {},
   "source": [
    "### Open a Connection to Wallaroo\n",
    "\n",
    "The next step is connect to Wallaroo through the Wallaroo client.  The Python library is included in the Wallaroo install and available through the Jupyter Hub interface provided with your Wallaroo environment.\n",
    "\n",
    "This is accomplished using the `wallaroo.Client()` command, which provides a URL to grant the SDK permission to your specific Wallaroo environment.  When displayed, enter the URL into a browser and confirm permissions.  Store the connection into a variable that can be referenced later.\n",
    "\n",
    "If logging into the Wallaroo instance through the internal JupyterHub service, use `wl = wallaroo.Client()`.  If logging in externally, update the `wallarooPrefix` and `wallarooSuffix` variables with the proper DNS information.  For more information on Wallaroo DNS settings, see the [Wallaroo DNS Integration Guide](https://docs.wallaroo.ai/wallaroo-operations-guide/wallaroo-configuration/wallaroo-dns-guide/)."
   ]
  },
  {
   "cell_type": "code",
   "execution_count": null,
   "id": "be793a15",
   "metadata": {},
   "outputs": [],
   "source": [
    "wl = wallaroo.Client()"
   ]
  },
  {
   "cell_type": "markdown",
   "id": "7a6c5e4b",
   "metadata": {},
   "source": [
    "### Set Variables\n",
    "\n",
    "We'll set the name of our workspace, pipeline, models and files.  Workspace names must be unique across the Wallaroo workspace.  For this, we'll add in a randomly generated 4 characters to the workspace name to prevent collisions with other users' workspaces.  If running this tutorial, we recommend hard coding the workspace name so it will function in the same workspace each time it's run."
   ]
  },
  {
   "cell_type": "code",
   "execution_count": 3,
   "id": "055924d6",
   "metadata": {},
   "outputs": [],
   "source": [
    "workspace_name = f'vgg16-clustering-workspace'\n",
    "pipeline_name = f'vgg16-clustering-pipeline'\n",
    "\n",
    "model_name = 'vgg16-clustering'\n",
    "model_file_name = './models/model-auto-conversion-BYOP-vgg16-clustering.zip'"
   ]
  },
  {
   "cell_type": "markdown",
   "id": "00353f1b",
   "metadata": {},
   "source": [
    "### Create Workspace and Pipeline\n",
    "\n",
    "We will now create the Wallaroo workspace to store our model and set it as the current workspace.  Future commands will default to this workspace for pipeline creation, model uploads, etc.  We'll create our Wallaroo pipeline that is used to deploy our arbitrary Python model."
   ]
  },
  {
   "cell_type": "code",
   "execution_count": 5,
   "id": "b4308a73",
   "metadata": {},
   "outputs": [],
   "source": [
    "workspace = wl.get_workspace(name=workspace_name, create_if_not_exist=True)\n",
    "wl.set_current_workspace(workspace)\n",
    "\n",
    "pipeline = wl.build_pipeline(pipeline_name)"
   ]
  },
  {
   "cell_type": "markdown",
   "id": "792059dc-142b-4a5a-ad2b-6dd7c008c54d",
   "metadata": {},
   "source": [
    "### Upload Arbitrary Python Model\n",
    "\n",
    "Arbitrary Python models are uploaded to Wallaroo through the Wallaroo Client `upload_model` method.\n",
    "\n",
    "#### Upload Arbitrary Python Model Parameters\n",
    "\n",
    "The following parameters are required for Arbitrary Python models.  Note that while some fields are considered as **optional** for the `upload_model` method, they are required for proper uploading of a Arbitrary Python model to Wallaroo.\n",
    "\n",
    "| Parameter | Type | Description |\n",
    "|---|---|---|\n",
    "|`name` | `string` (*Required*) | The name of the model.  Model names are unique per workspace.  Models that are uploaded with the same name are assigned as a new **version** of the model. |\n",
    "|`path` | `string` (*Required*) | The path to the model file being uploaded. |\n",
    "|`framework` |`string` (*Upload Method Optional, Arbitrary Python model Required*) | Set as `Framework.CUSTOM`. |\n",
    "|`input_schema` | `pyarrow.lib.Schema` (*Upload Method Optional, Arbitrary Python model Required*) | The input schema in Apache Arrow schema format. |\n",
    "|`output_schema` | `pyarrow.lib.Schema` (*Upload Method Optional, Arbitrary Python model Required*) | The output schema in Apache Arrow schema format. |\n",
    "| `convert_wait` | `bool` (*Upload Method Optional, Arbitrary Python model Optional*) (*Default: True*) | <ul><li>**True**: Waits in the script for the model conversion completion.</li><li>**False**:  Proceeds with the script without waiting for the model conversion process to display complete. |\n",
    "\n",
    "Once the upload process starts, the model is containerized by the Wallaroo instance.  This process may take up to 10 minutes.\n",
    "\n",
    "#### Upload Arbitrary Python Model Return\n",
    "\n",
    "The following is returned with a successful model upload and conversion.\n",
    "\n",
    "| Field | Type | Description |\n",
    "|---|---|---|\n",
    "| `name` | string | The name of the model. |\n",
    "| `version` | string | The model version as a unique UUID. |\n",
    "| `file_name` | string | The file name of the model as stored in Wallaroo. |\n",
    "| `image_path` | string | The image used to deploy the model in the Wallaroo engine. |\n",
    "| `last_update_time` | DateTime | When the model was last updated. |\n",
    "\n",
    "For our example, we'll start with setting the `input_schema` and `output_schema` that is expected by our `ImageClustering._predict()` method."
   ]
  },
  {
   "cell_type": "code",
   "execution_count": 6,
   "id": "30bf75b9-dc7c-48d3-9491-d042653bcf6d",
   "metadata": {},
   "outputs": [],
   "source": [
    "input_schema = pa.schema([\n",
    "    pa.field('images', pa.list_(\n",
    "        pa.list_(\n",
    "            pa.list_(\n",
    "                pa.int64(),\n",
    "                list_size=3\n",
    "            ),\n",
    "            list_size=32\n",
    "        ),\n",
    "        list_size=32\n",
    "    )),\n",
    "])\n",
    "\n",
    "output_schema = pa.schema([\n",
    "    pa.field('predictions', pa.int64()),\n",
    "])"
   ]
  },
  {
   "cell_type": "markdown",
   "id": "c8a1cf66-6d74-47bd-b739-e7bf4e9fe059",
   "metadata": {},
   "source": [
    "### Upload Model\n",
    "\n",
    "Now we'll upload our model.  The framework is `Framework.CUSTOM` for arbitrary Python models, and we'll specify the input and output schemas for the upload."
   ]
  },
  {
   "cell_type": "code",
   "execution_count": 7,
   "id": "4cb37931-2793-4256-968e-ea4f4ac7fee2",
   "metadata": {
    "tags": []
   },
   "outputs": [
    {
     "name": "stdout",
     "output_type": "stream",
     "text": [
      "Waiting for model loading - this will take up to 10.0min.\n",
      "Model is pending loading to a container runtime..\n",
      "Model is attempting loading to a container runtime..........................successful\n",
      "\n",
      "Ready\n"
     ]
    },
    {
     "data": {
      "text/html": [
       "<table>\n",
       "        <tr>\n",
       "          <td>Name</td>\n",
       "          <td>vgg16-clustering</td>\n",
       "        </tr>\n",
       "        <tr>\n",
       "          <td>Version</td>\n",
       "          <td>49e8e007-27ae-49da-8a69-6ed5c4aec890</td>\n",
       "        </tr>\n",
       "        <tr>\n",
       "          <td>File Name</td>\n",
       "          <td>model-auto-conversion-BYOP-vgg16-clustering.zip</td>\n",
       "        </tr>\n",
       "        <tr>\n",
       "          <td>SHA</td>\n",
       "          <td>7bb3362b1768c92ea7e593451b2b8913d3b7616c19fd8d25b73fb6990f9283e0</td>\n",
       "        </tr>\n",
       "        <tr>\n",
       "          <td>Status</td>\n",
       "          <td>ready</td>\n",
       "        </tr>\n",
       "        <tr>\n",
       "          <td>Image Path</td>\n",
       "          <td>proxy.replicated.com/proxy/wallaroo/ghcr.io/wallaroolabs/mlflow-deploy:v2023.4.0-main-4005</td>\n",
       "        </tr>\n",
       "        <tr>\n",
       "          <td>Architecture</td>\n",
       "          <td>None</td>\n",
       "        </tr>\n",
       "        <tr>\n",
       "          <td>Updated At</td>\n",
       "          <td>2023-20-Oct 15:40:13</td>\n",
       "        </tr>\n",
       "      </table>"
      ],
      "text/plain": [
       "{'name': 'vgg16-clustering', 'version': '49e8e007-27ae-49da-8a69-6ed5c4aec890', 'file_name': 'model-auto-conversion-BYOP-vgg16-clustering.zip', 'image_path': 'proxy.replicated.com/proxy/wallaroo/ghcr.io/wallaroolabs/mlflow-deploy:v2023.4.0-main-4005', 'arch': None, 'last_update_time': datetime.datetime(2023, 10, 20, 15, 40, 13, 964118, tzinfo=tzutc())}"
      ]
     },
     "execution_count": 7,
     "metadata": {},
     "output_type": "execute_result"
    }
   ],
   "source": [
    "model = wl.upload_model(model_name, \n",
    "                        model_file_name, \n",
    "                        framework=Framework.CUSTOM, \n",
    "                        input_schema=input_schema, \n",
    "                        output_schema=output_schema, \n",
    "                        convert_wait=True)\n",
    "model"
   ]
  },
  {
   "cell_type": "code",
   "execution_count": 14,
   "id": "54df7a6c-ed30-4f65-963c-15199744b2b1",
   "metadata": {},
   "outputs": [
    {
     "data": {
      "text/plain": [
       "'flight'"
      ]
     },
     "execution_count": 14,
     "metadata": {},
     "output_type": "execute_result"
    }
   ],
   "source": [
    "model.config().runtime()"
   ]
  },
  {
   "cell_type": "markdown",
   "id": "73fd53a1-2f01-42c6-97b1-b5356168c418",
   "metadata": {},
   "source": [
    "### Deploy Pipeline\n",
    "\n",
    "The model is uploaded and ready for use.  We'll add it as a step in our pipeline, then deploy the pipeline.  For this example we're allocated 0.25 cpu and 4 Gi RAM to the pipeline through the pipeline's deployment configuration."
   ]
  },
  {
   "cell_type": "code",
   "execution_count": 8,
   "id": "354041c2-3769-46f9-9017-22dac6e773cf",
   "metadata": {},
   "outputs": [
    {
     "data": {
      "text/html": [
       "<table><tr><th>name</th> <td>vgg16-clustering-pipeline</td></tr><tr><th>created</th> <td>2023-10-20 15:37:53.960266+00:00</td></tr><tr><th>last_updated</th> <td>2023-10-20 15:37:53.960266+00:00</td></tr><tr><th>deployed</th> <td>(none)</td></tr><tr><th>tags</th> <td></td></tr><tr><th>versions</th> <td>a7cc9967-3311-4540-93d6-9ea30fa48cd5</td></tr><tr><th>steps</th> <td></td></tr><tr><th>published</th> <td>False</td></tr></table>"
      ],
      "text/plain": [
       "{'name': 'vgg16-clustering-pipeline', 'create_time': datetime.datetime(2023, 10, 20, 15, 37, 53, 960266, tzinfo=tzutc()), 'definition': \"[{'ModelInference': {'models': [{'name': 'vgg16-clustering', 'version': '49e8e007-27ae-49da-8a69-6ed5c4aec890', 'sha': '7bb3362b1768c92ea7e593451b2b8913d3b7616c19fd8d25b73fb6990f9283e0'}]}}]\"}"
      ]
     },
     "execution_count": 8,
     "metadata": {},
     "output_type": "execute_result"
    }
   ],
   "source": [
    "pipeline.add_model_step(model)"
   ]
  },
  {
   "cell_type": "code",
   "execution_count": null,
   "id": "bff75bef-deb6-44b5-aaeb-df21a0d57e9e",
   "metadata": {
    "tags": []
   },
   "outputs": [],
   "source": [
    "deployment_config = DeploymentConfigBuilder() \\\n",
    "    .cpus(0.25).memory('4Gi') \\\n",
    "    .build()\n",
    "\n",
    "pipeline.deploy(deployment_config=deployment_config)\n",
    "pipeline.status()"
   ]
  },
  {
   "cell_type": "code",
   "execution_count": 13,
   "id": "a548d564-eec1-45b2-9516-f6a5a7ee6cd4",
   "metadata": {},
   "outputs": [
    {
     "data": {
      "text/plain": [
       "{'status': 'Error',\n",
       " 'details': [],\n",
       " 'engines': [{'ip': '10.244.3.130',\n",
       "   'name': 'engine-6fcbccd45c-wrrfq',\n",
       "   'status': 'Running',\n",
       "   'reason': None,\n",
       "   'details': [],\n",
       "   'pipeline_statuses': {'pipelines': [{'id': 'vgg16-clustering-pipeline',\n",
       "      'status': 'Running'}]},\n",
       "   'model_statuses': {'models': [{'name': 'vgg16-clustering',\n",
       "      'version': '49e8e007-27ae-49da-8a69-6ed5c4aec890',\n",
       "      'sha': '7bb3362b1768c92ea7e593451b2b8913d3b7616c19fd8d25b73fb6990f9283e0',\n",
       "      'status': 'Running'}]}}],\n",
       " 'engine_lbs': [{'ip': '10.244.2.188',\n",
       "   'name': 'engine-lb-584f54c899-ssbjw',\n",
       "   'status': 'Running',\n",
       "   'reason': None,\n",
       "   'details': []}],\n",
       " 'sidekicks': [{'ip': '10.244.3.129',\n",
       "   'name': 'engine-sidekick-vgg16-clustering-55-7bcb767b67-ljl6k',\n",
       "   'status': 'Running',\n",
       "   'reason': None,\n",
       "   'details': [],\n",
       "   'statuses': None}]}"
      ]
     },
     "execution_count": 13,
     "metadata": {},
     "output_type": "execute_result"
    }
   ],
   "source": [
    "pipeline.status()"
   ]
  },
  {
   "cell_type": "markdown",
   "id": "92cd9b9e-9939-4b61-a4ce-cbf275925c29",
   "metadata": {
    "tags": [],
    "toc-hr-collapsed": true
   },
   "source": [
    "### Run inference\n",
    "\n",
    "Everything is in place - we'll now run a sample inference with some toy data.  In this case we're randomly generating some values in the data shape the model expects, then submitting an inference request through our deployed pipeline."
   ]
  },
  {
   "cell_type": "code",
   "execution_count": 11,
   "id": "910e637d-d46b-490e-aff5-9a6b195437d8",
   "metadata": {},
   "outputs": [
    {
     "data": {
      "text/html": [
       "<div>\n",
       "<style scoped>\n",
       "    .dataframe tbody tr th:only-of-type {\n",
       "        vertical-align: middle;\n",
       "    }\n",
       "\n",
       "    .dataframe tbody tr th {\n",
       "        vertical-align: top;\n",
       "    }\n",
       "\n",
       "    .dataframe thead th {\n",
       "        text-align: right;\n",
       "    }\n",
       "</style>\n",
       "<table border=\"1\" class=\"dataframe\">\n",
       "  <thead>\n",
       "    <tr style=\"text-align: right;\">\n",
       "      <th></th>\n",
       "      <th>images</th>\n",
       "    </tr>\n",
       "  </thead>\n",
       "  <tbody>\n",
       "    <tr>\n",
       "      <th>0</th>\n",
       "      <td>[[[181, 128, 112], [109, 189, 153], [127, 171,...</td>\n",
       "    </tr>\n",
       "    <tr>\n",
       "      <th>1</th>\n",
       "      <td>[[[181, 128, 112], [109, 189, 153], [127, 171,...</td>\n",
       "    </tr>\n",
       "  </tbody>\n",
       "</table>\n",
       "</div>"
      ],
      "text/plain": [
       "                                              images\n",
       "0  [[[181, 128, 112], [109, 189, 153], [127, 171,...\n",
       "1  [[[181, 128, 112], [109, 189, 153], [127, 171,..."
      ]
     },
     "execution_count": 11,
     "metadata": {},
     "output_type": "execute_result"
    }
   ],
   "source": [
    "input_data = {\n",
    "        \"images\": [np.random.randint(0, 256, (32, 32, 3), dtype=np.uint8)] * 2,\n",
    "}\n",
    "dataframe = pd.DataFrame(input_data)\n",
    "dataframe"
   ]
  },
  {
   "cell_type": "code",
   "execution_count": 12,
   "id": "52b2ba19-921f-400d-9c2e-813f51787387",
   "metadata": {},
   "outputs": [
    {
     "data": {
      "text/html": [
       "<div>\n",
       "<style scoped>\n",
       "    .dataframe tbody tr th:only-of-type {\n",
       "        vertical-align: middle;\n",
       "    }\n",
       "\n",
       "    .dataframe tbody tr th {\n",
       "        vertical-align: top;\n",
       "    }\n",
       "\n",
       "    .dataframe thead th {\n",
       "        text-align: right;\n",
       "    }\n",
       "</style>\n",
       "<table border=\"1\" class=\"dataframe\">\n",
       "  <thead>\n",
       "    <tr style=\"text-align: right;\">\n",
       "      <th></th>\n",
       "      <th>time</th>\n",
       "      <th>in.images</th>\n",
       "      <th>out.predictions</th>\n",
       "      <th>check_failures</th>\n",
       "    </tr>\n",
       "  </thead>\n",
       "  <tbody>\n",
       "    <tr>\n",
       "      <th>0</th>\n",
       "      <td>2023-10-20 15:41:48.657</td>\n",
       "      <td>[181, 128, 112, 109, 189, 153, 127, 171, 206, ...</td>\n",
       "      <td>1</td>\n",
       "      <td>0</td>\n",
       "    </tr>\n",
       "    <tr>\n",
       "      <th>1</th>\n",
       "      <td>2023-10-20 15:41:48.657</td>\n",
       "      <td>[181, 128, 112, 109, 189, 153, 127, 171, 206, ...</td>\n",
       "      <td>1</td>\n",
       "      <td>0</td>\n",
       "    </tr>\n",
       "  </tbody>\n",
       "</table>\n",
       "</div>"
      ],
      "text/plain": [
       "                     time                                          in.images  \\\n",
       "0 2023-10-20 15:41:48.657  [181, 128, 112, 109, 189, 153, 127, 171, 206, ...   \n",
       "1 2023-10-20 15:41:48.657  [181, 128, 112, 109, 189, 153, 127, 171, 206, ...   \n",
       "\n",
       "   out.predictions  check_failures  \n",
       "0                1               0  \n",
       "1                1               0  "
      ]
     },
     "execution_count": 12,
     "metadata": {},
     "output_type": "execute_result"
    }
   ],
   "source": [
    "pipeline.infer(dataframe, timeout=10000)"
   ]
  },
  {
   "cell_type": "markdown",
   "id": "9727d4d5-9484-46b4-8fd1-4a352fafe602",
   "metadata": {},
   "source": [
    "### Undeploy Pipelines\n",
    "\n",
    "The inference is successful, so we will undeploy the pipeline and return the resources back to the cluster."
   ]
  },
  {
   "cell_type": "code",
   "execution_count": null,
   "id": "7041caf5-1783-4099-97f8-37fdf81ca93a",
   "metadata": {},
   "outputs": [],
   "source": [
    "pipeline.undeploy()"
   ]
  }
 ],
 "metadata": {
  "kernelspec": {
   "display_name": "Python 3 (ipykernel)",
   "language": "python",
   "name": "python3"
  },
  "language_info": {
   "codemirror_mode": {
    "name": "ipython",
    "version": 3
   },
   "file_extension": ".py",
   "mimetype": "text/x-python",
   "name": "python",
   "nbconvert_exporter": "python",
   "pygments_lexer": "ipython3",
   "version": "3.9.18"
  }
 },
 "nbformat": 4,
 "nbformat_minor": 5
}
