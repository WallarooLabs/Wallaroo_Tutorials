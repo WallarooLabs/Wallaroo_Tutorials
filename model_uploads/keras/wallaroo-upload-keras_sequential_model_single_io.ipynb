{
 "cells": [
  {
   "cell_type": "markdown",
   "id": "c18c8461-a00a-4a16-b3d7-2dee9187f672",
   "metadata": {},
   "source": [
    "## Keras Sequential Model Single IO\n",
    "\n",
    "The following example will:\n",
    "\n",
    "* Set the input and output schemas.\n",
    "* Upload a SKLearn Logistic Regression model to Wallaroo.\n",
    "* Deploy a pipeline with the uploaded SKLearn model as a pipeline step.\n",
    "* Perform a test inference.\n",
    "* Undeploy the pipeline."
   ]
  },
  {
   "cell_type": "code",
   "execution_count": 2,
   "id": "3436bb69-bb45-4d18-bc19-d82f76ae9bfe",
   "metadata": {},
   "outputs": [
    {
     "name": "stdout",
     "output_type": "stream",
     "text": [
      "Please log into the following URL in a web browser:\n",
      "\n",
      "\thttps://keycloak.autoscale-uat-ee.wallaroo.dev/auth/realms/master/device?user_code=UJEE-FFVG\n",
      "\n",
      "Login successful!\n"
     ]
    }
   ],
   "source": [
    "import json\n",
    "import os\n",
    "import pickle\n",
    "\n",
    "import wallaroo\n",
    "from wallaroo.pipeline   import Pipeline\n",
    "from wallaroo.deployment_config import DeploymentConfigBuilder\n",
    "from wallaroo.framework import Framework\n",
    "\n",
    "import pyarrow as pa\n",
    "import numpy as np\n",
    "import pandas as pd\n",
    "\n",
    "from sklearn.datasets import load_iris\n",
    "from sklearn.linear_model import LogisticRegression\n",
    "\n",
    "import datetime\n",
    "\n",
    "wl = wallaroo.Client(auth_type=\"sso\", interactive=True)"
   ]
  },
  {
   "cell_type": "code",
   "execution_count": 3,
   "id": "170bf187-321c-45ea-867a-0cc2879b0256",
   "metadata": {},
   "outputs": [],
   "source": [
    "def get_workspace(name):\n",
    "    workspace = None\n",
    "    for ws in wl.list_workspaces():\n",
    "        if ws.name() == name:\n",
    "            workspace= ws\n",
    "    if(workspace == None):\n",
    "        workspace = wl.create_workspace(name)\n",
    "    return workspace\n",
    "\n",
    "prefix = \"keras-sequential-model-single-io\""
   ]
  },
  {
   "cell_type": "code",
   "execution_count": 4,
   "id": "6df649fa-329a-41c9-a5e6-6676383f1330",
   "metadata": {},
   "outputs": [
    {
     "data": {
      "text/plain": [
       "{'name': 'keras-sequential-model-single-io-jch', 'id': 57, 'archived': False, 'created_by': '3cc9e92a-fa3c-4371-a7a7-487884df059e', 'created_at': '2023-06-20T13:54:12.895611+00:00', 'models': [], 'pipelines': []}"
      ]
     },
     "execution_count": 4,
     "metadata": {},
     "output_type": "execute_result"
    }
   ],
   "source": [
    "workspace = get_workspace(f\"{prefix}-jch\")\n",
    "wl.set_current_workspace(workspace)"
   ]
  },
  {
   "cell_type": "markdown",
   "id": "2a7ab7eb-90de-4e94-90d5-316e13eae5ab",
   "metadata": {},
   "source": [
    "## Data & Model Creation"
   ]
  },
  {
   "cell_type": "code",
   "execution_count": 5,
   "id": "1167694d-d0ac-4432-9fde-4ba7a5e65846",
   "metadata": {},
   "outputs": [],
   "source": [
    "input_schema = pa.schema([\n",
    "    pa.field('input', pa.list_(pa.float64(), list_size=10))\n",
    "])\n",
    "output_schema = pa.schema([\n",
    "    pa.field('output', pa.list_(pa.float64(), list_size=32))\n",
    "])"
   ]
  },
  {
   "cell_type": "markdown",
   "id": "af676365-ebc8-48ce-b008-389ea3af91cd",
   "metadata": {
    "tags": []
   },
   "source": [
    "## Upload model"
   ]
  },
  {
   "cell_type": "code",
   "execution_count": 19,
   "id": "3700515d-f91c-481f-a495-29ad82cab91f",
   "metadata": {},
   "outputs": [
    {
     "name": "stdout",
     "output_type": "stream",
     "text": [
      "Waiting for model conversion... It may take up to 10.0min.\n",
      "Model is Pending conversion........Converting...................Ready.\n"
     ]
    },
    {
     "data": {
      "text/plain": [
       "{'name': 'keras-sequential-model-single-io', 'version': 'b4b4b490-fe21-4f3c-8464-d24c9a2c8049', 'file_name': 'model-auto-conversion_keras_single_io_keras_sequential_model.h5', 'image_path': 'proxy.replicated.com/proxy/wallaroo/ghcr.io/wallaroolabs/mlflow-deploy:v2023.3.0-main-3367', 'last_update_time': datetime.datetime(2023, 6, 20, 14, 8, 14, 884034, tzinfo=tzutc())}"
      ]
     },
     "execution_count": 19,
     "metadata": {},
     "output_type": "execute_result"
    }
   ],
   "source": [
    "model_upload_start = datetime.datetime.now()\n",
    "\n",
    "model = wl.upload_model(f\"{prefix}\", \n",
    "                        'models/model-auto-conversion_keras_single_io_keras_sequential_model.h5', \n",
    "                        framework=Framework.KERAS, \n",
    "                        input_schema=input_schema, \n",
    "                        output_schema=output_schema)\n",
    "model_upload_end = datetime.datetime.now()\n",
    "model"
   ]
  },
  {
   "cell_type": "code",
   "execution_count": 21,
   "id": "fdb27bd6-a947-4960-a3e0-c1f141d4d540",
   "metadata": {},
   "outputs": [
    {
     "data": {
      "text/plain": [
       "datetime.timedelta(seconds=135, microseconds=652975)"
      ]
     },
     "metadata": {},
     "output_type": "display_data"
    }
   ],
   "source": [
    "display(model_upload_end - model_upload_start)"
   ]
  },
  {
   "cell_type": "markdown",
   "id": "47fcab28-dce9-4385-802c-70a8f48fec38",
   "metadata": {
    "tags": []
   },
   "source": [
    "## Configure model and pipeline"
   ]
  },
  {
   "cell_type": "code",
   "execution_count": 22,
   "id": "2a709f2c-1332-4984-9cf8-87c6328d6ae4",
   "metadata": {},
   "outputs": [],
   "source": [
    "deployment_config = DeploymentConfigBuilder() \\\n",
    "    .cpus(0.25).memory('1Gi') \\\n",
    "    .build()"
   ]
  },
  {
   "cell_type": "code",
   "execution_count": 23,
   "id": "ed1c83af-6bb3-491c-b8b8-649a53f30085",
   "metadata": {},
   "outputs": [
    {
     "data": {
      "text/html": [
       "<table><tr><th>name</th> <td>keras-sequential-model-single-io-pipeline</td></tr><tr><th>created</th> <td>2023-06-20 13:56:53.710879+00:00</td></tr><tr><th>last_updated</th> <td>2023-06-20 14:09:33.632124+00:00</td></tr><tr><th>deployed</th> <td>False</td></tr><tr><th>tags</th> <td></td></tr><tr><th>versions</th> <td>e5c2a9d0-9420-4fba-be63-581b37984c40, c425ae54-fe4a-4ec5-9b57-93ab4545d58b, 38ec1b19-372d-4ca1-87bc-fcc218d93701, 8d7093fa-6d25-4194-bfa0-4e3e62f79494, 648c6b38-2452-4177-b073-6c040a9c897f, 900ce28e-a2f6-4397-88ad-05a22ebee388</td></tr><tr><th>steps</th> <td>keras-sequential-model-single-io</td></tr></table>"
      ],
      "text/plain": [
       "{'name': 'keras-sequential-model-single-io-pipeline', 'create_time': datetime.datetime(2023, 6, 20, 13, 56, 53, 710879, tzinfo=tzutc()), 'definition': \"[{'ModelInference': {'models': [{'name': 'keras-sequential-model-single-io', 'version': 'b4b4b490-fe21-4f3c-8464-d24c9a2c8049', 'sha': 'f7e49538e38bebe066ce8df97bac8be239ae8c7d2733e500c8cd633706ae95a8'}]}}]\"}"
      ]
     },
     "execution_count": 23,
     "metadata": {},
     "output_type": "execute_result"
    }
   ],
   "source": [
    "pipeline_name = f\"{prefix}-pipeline\"\n",
    "pipeline = wl.build_pipeline(pipeline_name)\n",
    "pipeline.add_model_step(model)"
   ]
  },
  {
   "cell_type": "code",
   "execution_count": 24,
   "id": "5ecc0a18-5912-4052-98a7-074b9db350b1",
   "metadata": {},
   "outputs": [
    {
     "name": "stdout",
     "output_type": "stream",
     "text": [
      "Waiting for deployment - this will take up to 90s .......................... ok\n"
     ]
    },
    {
     "data": {
      "text/html": [
       "<table><tr><th>name</th> <td>keras-sequential-model-single-io-pipeline</td></tr><tr><th>created</th> <td>2023-06-20 13:56:53.710879+00:00</td></tr><tr><th>last_updated</th> <td>2023-06-20 14:09:35.178169+00:00</td></tr><tr><th>deployed</th> <td>True</td></tr><tr><th>tags</th> <td></td></tr><tr><th>versions</th> <td>77cd8df4-1794-4485-b9f4-9e3926db0422, e5c2a9d0-9420-4fba-be63-581b37984c40, c425ae54-fe4a-4ec5-9b57-93ab4545d58b, 38ec1b19-372d-4ca1-87bc-fcc218d93701, 8d7093fa-6d25-4194-bfa0-4e3e62f79494, 648c6b38-2452-4177-b073-6c040a9c897f, 900ce28e-a2f6-4397-88ad-05a22ebee388</td></tr><tr><th>steps</th> <td>keras-sequential-model-single-io</td></tr></table>"
      ],
      "text/plain": [
       "{'name': 'keras-sequential-model-single-io-pipeline', 'create_time': datetime.datetime(2023, 6, 20, 13, 56, 53, 710879, tzinfo=tzutc()), 'definition': \"[{'ModelInference': {'models': [{'name': 'keras-sequential-model-single-io', 'version': 'b4b4b490-fe21-4f3c-8464-d24c9a2c8049', 'sha': 'f7e49538e38bebe066ce8df97bac8be239ae8c7d2733e500c8cd633706ae95a8'}]}}]\"}"
      ]
     },
     "execution_count": 24,
     "metadata": {},
     "output_type": "execute_result"
    }
   ],
   "source": [
    "pipeline.deploy(deployment_config=deployment_config)"
   ]
  },
  {
   "cell_type": "markdown",
   "id": "60cb4aa0-601d-4556-a3f8-cdc59e758add",
   "metadata": {},
   "source": [
    "## Inference"
   ]
  },
  {
   "cell_type": "code",
   "execution_count": 25,
   "id": "1eab3c59-c7a2-4e79-a468-e5bcb65d916c",
   "metadata": {},
   "outputs": [
    {
     "data": {
      "text/html": [
       "<div>\n",
       "<style scoped>\n",
       "    .dataframe tbody tr th:only-of-type {\n",
       "        vertical-align: middle;\n",
       "    }\n",
       "\n",
       "    .dataframe tbody tr th {\n",
       "        vertical-align: top;\n",
       "    }\n",
       "\n",
       "    .dataframe thead th {\n",
       "        text-align: right;\n",
       "    }\n",
       "</style>\n",
       "<table border=\"1\" class=\"dataframe\">\n",
       "  <thead>\n",
       "    <tr style=\"text-align: right;\">\n",
       "      <th></th>\n",
       "      <th>input</th>\n",
       "    </tr>\n",
       "  </thead>\n",
       "  <tbody>\n",
       "    <tr>\n",
       "      <th>0</th>\n",
       "      <td>[0.8948402037930523, 0.8236923767258912, 0.669...</td>\n",
       "    </tr>\n",
       "    <tr>\n",
       "      <th>1</th>\n",
       "      <td>[0.2889161093430169, 0.02527054036324672, 0.95...</td>\n",
       "    </tr>\n",
       "    <tr>\n",
       "      <th>2</th>\n",
       "      <td>[0.8060020370068443, 0.8821186682883927, 0.559...</td>\n",
       "    </tr>\n",
       "    <tr>\n",
       "      <th>3</th>\n",
       "      <td>[0.8883645451955529, 0.19204670320917383, 0.09...</td>\n",
       "    </tr>\n",
       "    <tr>\n",
       "      <th>4</th>\n",
       "      <td>[0.05892172677764429, 0.8634608360310956, 0.44...</td>\n",
       "    </tr>\n",
       "    <tr>\n",
       "      <th>5</th>\n",
       "      <td>[0.4010007936827573, 0.7701734803672011, 0.033...</td>\n",
       "    </tr>\n",
       "    <tr>\n",
       "      <th>6</th>\n",
       "      <td>[0.6251592472839257, 0.8087976037612621, 0.866...</td>\n",
       "    </tr>\n",
       "    <tr>\n",
       "      <th>7</th>\n",
       "      <td>[0.14250389929667917, 0.18866998852295247, 0.8...</td>\n",
       "    </tr>\n",
       "    <tr>\n",
       "      <th>8</th>\n",
       "      <td>[0.2247017624310551, 0.7870476471329036, 0.932...</td>\n",
       "    </tr>\n",
       "    <tr>\n",
       "      <th>9</th>\n",
       "      <td>[0.07932631109734134, 0.9855873946298688, 0.99...</td>\n",
       "    </tr>\n",
       "  </tbody>\n",
       "</table>\n",
       "</div>"
      ],
      "text/plain": [
       "                                               input\n",
       "0  [0.8948402037930523, 0.8236923767258912, 0.669...\n",
       "1  [0.2889161093430169, 0.02527054036324672, 0.95...\n",
       "2  [0.8060020370068443, 0.8821186682883927, 0.559...\n",
       "3  [0.8883645451955529, 0.19204670320917383, 0.09...\n",
       "4  [0.05892172677764429, 0.8634608360310956, 0.44...\n",
       "5  [0.4010007936827573, 0.7701734803672011, 0.033...\n",
       "6  [0.6251592472839257, 0.8087976037612621, 0.866...\n",
       "7  [0.14250389929667917, 0.18866998852295247, 0.8...\n",
       "8  [0.2247017624310551, 0.7870476471329036, 0.932...\n",
       "9  [0.07932631109734134, 0.9855873946298688, 0.99..."
      ]
     },
     "execution_count": 25,
     "metadata": {},
     "output_type": "execute_result"
    }
   ],
   "source": [
    "input_data = np.random.rand(10, 10)\n",
    "mock_dataframe = pd.DataFrame({\n",
    "    \"input\": input_data.tolist()\n",
    "})\n",
    "mock_dataframe"
   ]
  },
  {
   "cell_type": "code",
   "execution_count": 26,
   "id": "105fc39a-e4b3-441f-a26f-31c15fe45c59",
   "metadata": {},
   "outputs": [
    {
     "data": {
      "text/html": [
       "<div>\n",
       "<style scoped>\n",
       "    .dataframe tbody tr th:only-of-type {\n",
       "        vertical-align: middle;\n",
       "    }\n",
       "\n",
       "    .dataframe tbody tr th {\n",
       "        vertical-align: top;\n",
       "    }\n",
       "\n",
       "    .dataframe thead th {\n",
       "        text-align: right;\n",
       "    }\n",
       "</style>\n",
       "<table border=\"1\" class=\"dataframe\">\n",
       "  <thead>\n",
       "    <tr style=\"text-align: right;\">\n",
       "      <th></th>\n",
       "      <th>time</th>\n",
       "      <th>in.input</th>\n",
       "      <th>out.output</th>\n",
       "      <th>check_failures</th>\n",
       "    </tr>\n",
       "  </thead>\n",
       "  <tbody>\n",
       "    <tr>\n",
       "      <th>0</th>\n",
       "      <td>2023-06-20 14:17:18.475</td>\n",
       "      <td>[0.8948402038, 0.8236923767, 0.6692281767, 0.6...</td>\n",
       "      <td>[0.022978410124778748, 0.023622576147317886, 0...</td>\n",
       "      <td>0</td>\n",
       "    </tr>\n",
       "    <tr>\n",
       "      <th>1</th>\n",
       "      <td>2023-06-20 14:17:18.475</td>\n",
       "      <td>[0.2889161093, 0.0252705404, 0.9563431751, 0.3...</td>\n",
       "      <td>[0.018787803128361702, 0.03189399093389511, 0....</td>\n",
       "      <td>0</td>\n",
       "    </tr>\n",
       "    <tr>\n",
       "      <th>2</th>\n",
       "      <td>2023-06-20 14:17:18.475</td>\n",
       "      <td>[0.806002037, 0.8821186683, 0.5597011509, 0.29...</td>\n",
       "      <td>[0.028999775648117065, 0.020044947043061256, 0...</td>\n",
       "      <td>0</td>\n",
       "    </tr>\n",
       "    <tr>\n",
       "      <th>3</th>\n",
       "      <td>2023-06-20 14:17:18.475</td>\n",
       "      <td>[0.8883645452, 0.1920467032, 0.0982324665, 0.6...</td>\n",
       "      <td>[0.024776356294751167, 0.02724037691950798, 0....</td>\n",
       "      <td>0</td>\n",
       "    </tr>\n",
       "    <tr>\n",
       "      <th>4</th>\n",
       "      <td>2023-06-20 14:17:18.475</td>\n",
       "      <td>[0.0589217268, 0.863460836, 0.4416552874, 0.70...</td>\n",
       "      <td>[0.02560083381831646, 0.025948569178581238, 0....</td>\n",
       "      <td>0</td>\n",
       "    </tr>\n",
       "    <tr>\n",
       "      <th>5</th>\n",
       "      <td>2023-06-20 14:17:18.475</td>\n",
       "      <td>[0.4010007937, 0.7701734804, 0.0330423197, 0.7...</td>\n",
       "      <td>[0.018146220594644547, 0.031117431819438934, 0...</td>\n",
       "      <td>0</td>\n",
       "    </tr>\n",
       "    <tr>\n",
       "      <th>6</th>\n",
       "      <td>2023-06-20 14:17:18.475</td>\n",
       "      <td>[0.6251592473, 0.8087976038, 0.8664463129, 0.5...</td>\n",
       "      <td>[0.02749345824122429, 0.03163997083902359, 0.0...</td>\n",
       "      <td>0</td>\n",
       "    </tr>\n",
       "    <tr>\n",
       "      <th>7</th>\n",
       "      <td>2023-06-20 14:17:18.475</td>\n",
       "      <td>[0.1425038993, 0.1886699885, 0.8979911291, 0.2...</td>\n",
       "      <td>[0.030713597312569618, 0.030822383239865303, 0...</td>\n",
       "      <td>0</td>\n",
       "    </tr>\n",
       "    <tr>\n",
       "      <th>8</th>\n",
       "      <td>2023-06-20 14:17:18.475</td>\n",
       "      <td>[0.2247017624, 0.7870476471, 0.932017211, 0.66...</td>\n",
       "      <td>[0.033133771270513535, 0.02262025512754917, 0....</td>\n",
       "      <td>0</td>\n",
       "    </tr>\n",
       "    <tr>\n",
       "      <th>9</th>\n",
       "      <td>2023-06-20 14:17:18.475</td>\n",
       "      <td>[0.0793263111, 0.9855873946, 0.9910993908, 0.0...</td>\n",
       "      <td>[0.036864764988422394, 0.021373195573687553, 0...</td>\n",
       "      <td>0</td>\n",
       "    </tr>\n",
       "  </tbody>\n",
       "</table>\n",
       "</div>"
      ],
      "text/plain": [
       "                     time                                           in.input  \\\n",
       "0 2023-06-20 14:17:18.475  [0.8948402038, 0.8236923767, 0.6692281767, 0.6...   \n",
       "1 2023-06-20 14:17:18.475  [0.2889161093, 0.0252705404, 0.9563431751, 0.3...   \n",
       "2 2023-06-20 14:17:18.475  [0.806002037, 0.8821186683, 0.5597011509, 0.29...   \n",
       "3 2023-06-20 14:17:18.475  [0.8883645452, 0.1920467032, 0.0982324665, 0.6...   \n",
       "4 2023-06-20 14:17:18.475  [0.0589217268, 0.863460836, 0.4416552874, 0.70...   \n",
       "5 2023-06-20 14:17:18.475  [0.4010007937, 0.7701734804, 0.0330423197, 0.7...   \n",
       "6 2023-06-20 14:17:18.475  [0.6251592473, 0.8087976038, 0.8664463129, 0.5...   \n",
       "7 2023-06-20 14:17:18.475  [0.1425038993, 0.1886699885, 0.8979911291, 0.2...   \n",
       "8 2023-06-20 14:17:18.475  [0.2247017624, 0.7870476471, 0.932017211, 0.66...   \n",
       "9 2023-06-20 14:17:18.475  [0.0793263111, 0.9855873946, 0.9910993908, 0.0...   \n",
       "\n",
       "                                          out.output  check_failures  \n",
       "0  [0.022978410124778748, 0.023622576147317886, 0...               0  \n",
       "1  [0.018787803128361702, 0.03189399093389511, 0....               0  \n",
       "2  [0.028999775648117065, 0.020044947043061256, 0...               0  \n",
       "3  [0.024776356294751167, 0.02724037691950798, 0....               0  \n",
       "4  [0.02560083381831646, 0.025948569178581238, 0....               0  \n",
       "5  [0.018146220594644547, 0.031117431819438934, 0...               0  \n",
       "6  [0.02749345824122429, 0.03163997083902359, 0.0...               0  \n",
       "7  [0.030713597312569618, 0.030822383239865303, 0...               0  \n",
       "8  [0.033133771270513535, 0.02262025512754917, 0....               0  \n",
       "9  [0.036864764988422394, 0.021373195573687553, 0...               0  "
      ]
     },
     "execution_count": 26,
     "metadata": {},
     "output_type": "execute_result"
    }
   ],
   "source": [
    "pipeline.infer(mock_dataframe)"
   ]
  },
  {
   "cell_type": "code",
   "execution_count": 27,
   "id": "cbdc5a2e-266f-4da8-a88d-1733aca72f0d",
   "metadata": {},
   "outputs": [
    {
     "name": "stdout",
     "output_type": "stream",
     "text": [
      "Waiting for undeployment - this will take up to 45s ...................................... ok\n"
     ]
    },
    {
     "data": {
      "text/html": [
       "<table><tr><th>name</th> <td>keras-sequential-model-single-io-pipeline</td></tr><tr><th>created</th> <td>2023-06-20 13:56:53.710879+00:00</td></tr><tr><th>last_updated</th> <td>2023-06-20 14:09:35.178169+00:00</td></tr><tr><th>deployed</th> <td>False</td></tr><tr><th>tags</th> <td></td></tr><tr><th>versions</th> <td>77cd8df4-1794-4485-b9f4-9e3926db0422, e5c2a9d0-9420-4fba-be63-581b37984c40, c425ae54-fe4a-4ec5-9b57-93ab4545d58b, 38ec1b19-372d-4ca1-87bc-fcc218d93701, 8d7093fa-6d25-4194-bfa0-4e3e62f79494, 648c6b38-2452-4177-b073-6c040a9c897f, 900ce28e-a2f6-4397-88ad-05a22ebee388</td></tr><tr><th>steps</th> <td>keras-sequential-model-single-io</td></tr></table>"
      ],
      "text/plain": [
       "{'name': 'keras-sequential-model-single-io-pipeline', 'create_time': datetime.datetime(2023, 6, 20, 13, 56, 53, 710879, tzinfo=tzutc()), 'definition': \"[{'ModelInference': {'models': [{'name': 'keras-sequential-model-single-io', 'version': 'b4b4b490-fe21-4f3c-8464-d24c9a2c8049', 'sha': 'f7e49538e38bebe066ce8df97bac8be239ae8c7d2733e500c8cd633706ae95a8'}]}}]\"}"
      ]
     },
     "execution_count": 27,
     "metadata": {},
     "output_type": "execute_result"
    }
   ],
   "source": [
    "pipeline.undeploy()"
   ]
  },
  {
   "cell_type": "code",
   "execution_count": null,
   "id": "b47473a5-f3f8-49ec-a5f6-6f29aa0b872a",
   "metadata": {},
   "outputs": [],
   "source": []
  }
 ],
 "metadata": {
  "kernelspec": {
   "display_name": "Python 3 (ipykernel)",
   "language": "python",
   "name": "python3"
  },
  "language_info": {
   "codemirror_mode": {
    "name": "ipython",
    "version": 3
   },
   "file_extension": ".py",
   "mimetype": "text/x-python",
   "name": "python",
   "nbconvert_exporter": "python",
   "pygments_lexer": "ipython3",
   "version": "3.9.13"
  }
 },
 "nbformat": 4,
 "nbformat_minor": 5
}
