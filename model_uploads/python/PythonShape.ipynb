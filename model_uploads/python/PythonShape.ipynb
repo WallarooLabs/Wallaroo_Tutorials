{
 "cells": [
  {
   "cell_type": "code",
   "execution_count": 1,
   "id": "70cfb29c-059f-4ed0-98bd-bbd22c69671c",
   "metadata": {},
   "outputs": [],
   "source": [
    "%load_ext autoreload\n",
    "%autoreload 2\n",
    "import wallaroo\n",
    "\n",
    "import os, json\n",
    "os.environ['DEPLOYMENT_CONFIG'] = json.dumps({\"cpus\": 0.5, \"replica_count\": 1, \"memory\": \"500Mi\"})\n",
    "\n",
    "auth_type = \"sso\"\n",
    "client = wallaroo.Client(auth_type=auth_type, request_timeout=90, interactive=True)"
   ]
  },
  {
   "cell_type": "code",
   "execution_count": 2,
   "id": "859bf5ff-3a01-48d4-a99b-15c60ae58536",
   "metadata": {},
   "outputs": [
    {
     "name": "stdout",
     "output_type": "stream",
     "text": [
      " ok\n",
      "Waiting for undeployment - this will take up to 90s ........... ok\n"
     ]
    }
   ],
   "source": [
    "for p in client.list_pipelines(): p.undeploy()"
   ]
  },
  {
   "cell_type": "code",
   "execution_count": 3,
   "id": "9cd7bcc2-5680-41ab-84db-d26c09d31877",
   "metadata": {},
   "outputs": [],
   "source": [
    "import pyarrow as pa\n",
    "input_schema = pa.schema([\n",
    "    pa.field('dense_2', pa.list_(pa.float64()))\n",
    "])\n",
    "output_schema = pa.schema([\n",
    "    pa.field('output', pa.list_(pa.float64()))\n",
    "])"
   ]
  },
  {
   "cell_type": "code",
   "execution_count": 4,
   "id": "2d01710a-c8c9-4349-8a0e-dc9e6ee4d504",
   "metadata": {},
   "outputs": [],
   "source": [
    "from wallaroo.framework import Framework\n",
    "step = client.upload_model(\"python-step\", \"./step.py\", \n",
    "                           framework=Framework.PYTHON).configure('python', \n",
    "                                                                 input_schema=input_schema, \n",
    "                                                                 output_schema=output_schema)\n"
   ]
  },
  {
   "cell_type": "code",
   "execution_count": 5,
   "id": "c0259f1a-f73d-4624-b921-e958c4d252a1",
   "metadata": {},
   "outputs": [
    {
     "name": "stdout",
     "output_type": "stream",
     "text": [
      "Waiting for deployment - this will take up to 90s ................. ok\n"
     ]
    }
   ],
   "source": [
    "pipeline = client.build_pipeline(\"py-step-test\")\n",
    "pipeline = pipeline.add_model_step(step)\n",
    "deployment = pipeline.deploy()"
   ]
  },
  {
   "cell_type": "code",
   "execution_count": 6,
   "id": "ee11ed13-5c18-4080-b937-9b8d11835edb",
   "metadata": {},
   "outputs": [
    {
     "data": {
      "text/html": [
       "<div>\n",
       "<style scoped>\n",
       "    .dataframe tbody tr th:only-of-type {\n",
       "        vertical-align: middle;\n",
       "    }\n",
       "\n",
       "    .dataframe tbody tr th {\n",
       "        vertical-align: top;\n",
       "    }\n",
       "\n",
       "    .dataframe thead th {\n",
       "        text-align: right;\n",
       "    }\n",
       "</style>\n",
       "<table border=\"1\" class=\"dataframe\">\n",
       "  <thead>\n",
       "    <tr style=\"text-align: right;\">\n",
       "      <th></th>\n",
       "      <th>time</th>\n",
       "      <th>in.dense_2</th>\n",
       "      <th>out.output</th>\n",
       "      <th>check_failures</th>\n",
       "    </tr>\n",
       "  </thead>\n",
       "  <tbody>\n",
       "    <tr>\n",
       "      <th>0</th>\n",
       "      <td>2023-06-22 17:28:52.072</td>\n",
       "      <td>[0.6878518042, 0.1760734021, -0.869514083, 0.3...</td>\n",
       "      <td>[0.6878518042]</td>\n",
       "      <td>0</td>\n",
       "    </tr>\n",
       "  </tbody>\n",
       "</table>\n",
       "</div>"
      ],
      "text/plain": [
       "                     time                                         in.dense_2  \\\n",
       "0 2023-06-22 17:28:52.072  [0.6878518042, 0.1760734021, -0.869514083, 0.3...   \n",
       "\n",
       "       out.output  check_failures  \n",
       "0  [0.6878518042]               0  "
      ]
     },
     "execution_count": 6,
     "metadata": {},
     "output_type": "execute_result"
    }
   ],
   "source": [
    "import pandas as pd\n",
    "data = pd.DataFrame.from_dict({\"dense_2\": [[0.6878518042239091,\n",
    " 0.17607340208535074,\n",
    " -0.8695140830357148,\n",
    " 0.34638762962802144,\n",
    " -0.0916270832672289,\n",
    " -0.022063226781124278,\n",
    " -0.13969884765926363,\n",
    " 1.002792335666138,\n",
    " -0.3067449033633758,\n",
    " 0.9272000630461978,\n",
    " 0.28326687982544635,\n",
    " 0.35935375728372815,\n",
    " -0.682562654045523,\n",
    " 0.532642794275658,\n",
    " -0.22705189652659302,\n",
    " 0.5743846356405602,\n",
    " -0.18805086358065454]]})\n",
    "deployment.infer(data)"
   ]
  },
  {
   "cell_type": "code",
   "execution_count": 7,
   "id": "97d38344-6648-4137-9ec8-5d0cd3e29951",
   "metadata": {},
   "outputs": [
    {
     "data": {
      "text/html": [
       "<div>\n",
       "<style scoped>\n",
       "    .dataframe tbody tr th:only-of-type {\n",
       "        vertical-align: middle;\n",
       "    }\n",
       "\n",
       "    .dataframe tbody tr th {\n",
       "        vertical-align: top;\n",
       "    }\n",
       "\n",
       "    .dataframe thead th {\n",
       "        text-align: right;\n",
       "    }\n",
       "</style>\n",
       "<table border=\"1\" class=\"dataframe\">\n",
       "  <thead>\n",
       "    <tr style=\"text-align: right;\">\n",
       "      <th></th>\n",
       "      <th>time</th>\n",
       "      <th>in.dense_2</th>\n",
       "      <th>out.output</th>\n",
       "      <th>check_failures</th>\n",
       "    </tr>\n",
       "  </thead>\n",
       "  <tbody>\n",
       "    <tr>\n",
       "      <th>0</th>\n",
       "      <td>2023-06-22 17:28:52.072</td>\n",
       "      <td>[0.6878518042, 0.1760734021, -0.869514083, 0.3...</td>\n",
       "      <td>[0.6878518042]</td>\n",
       "      <td>0</td>\n",
       "    </tr>\n",
       "    <tr>\n",
       "      <th>1</th>\n",
       "      <td>2023-06-20 20:20:50.418</td>\n",
       "      <td>[0.6878518042, 0.1760734021, -0.869514083, 0.3...</td>\n",
       "      <td>[0.6878518042]</td>\n",
       "      <td>0</td>\n",
       "    </tr>\n",
       "  </tbody>\n",
       "</table>\n",
       "</div>"
      ],
      "text/plain": [
       "                     time                                         in.dense_2  \\\n",
       "0 2023-06-22 17:28:52.072  [0.6878518042, 0.1760734021, -0.869514083, 0.3...   \n",
       "1 2023-06-20 20:20:50.418  [0.6878518042, 0.1760734021, -0.869514083, 0.3...   \n",
       "\n",
       "       out.output  check_failures  \n",
       "0  [0.6878518042]               0  \n",
       "1  [0.6878518042]               0  "
      ]
     },
     "execution_count": 7,
     "metadata": {},
     "output_type": "execute_result"
    }
   ],
   "source": [
    "deployment.logs()"
   ]
  },
  {
   "cell_type": "code",
   "execution_count": 9,
   "id": "8db7f8c5-64da-4378-95c1-d1a9b3f1f36f",
   "metadata": {},
   "outputs": [
    {
     "name": "stdout",
     "output_type": "stream",
     "text": [
      "Waiting for undeployment - this will take up to 90s ....................................... ok\n"
     ]
    },
    {
     "data": {
      "text/html": [
       "<table><tr><th>name</th> <td>py-step-test</td></tr><tr><th>created</th> <td>2023-06-20 20:04:46.758046+00:00</td></tr><tr><th>last_updated</th> <td>2023-06-22 17:28:32.826710+00:00</td></tr><tr><th>deployed</th> <td>False</td></tr><tr><th>tags</th> <td></td></tr><tr><th>versions</th> <td>d48348ff-da70-43c8-b564-14b2cff8ed51, 02bef6cf-edb3-4718-8558-20e0a2fb6f46, 8660e556-b795-444d-b53e-aeb031a077d8, d00827f8-3362-43d3-854a-485a7070cb3b, 0d80a882-f1a9-4fab-863e-631b753e0830, 0dc0b38e-140d-4d92-9f75-0b8e0fb8088a, c8b1b2ce-c722-4511-b75e-20399e94c10e, 047674d6-6c4c-43a8-900c-f5d4c2a4abf6, c1451a4a-5671-4686-8f05-afb60f6bcd15, 594357ea-7d32-4528-99be-300af2a06071, 52dfb80e-c199-4451-9b0a-7209ad345e50, 0c7bcd0f-dd09-4754-8203-615d47038a99, 330a3695-f2e6-4218-8636-3d66820fb7b4, 2298f0ec-4cfe-4668-b392-901fb6a97292</td></tr><tr><th>steps</th> <td>python-step</td></tr></table>"
      ],
      "text/plain": [
       "{'name': 'py-step-test', 'create_time': datetime.datetime(2023, 6, 20, 20, 4, 46, 758046, tzinfo=tzutc()), 'definition': \"[{'ModelInference': {'models': [{'name': 'python-step', 'version': 'c497d543-100e-4e3f-8599-299153190b7b', 'sha': '446a4cfa3f28cd05c267a7544794f8834d772e3f1123412fffb4989beee3afd4'}]}}]\"}"
      ]
     },
     "execution_count": 9,
     "metadata": {},
     "output_type": "execute_result"
    }
   ],
   "source": [
    "deployment.undeploy()\n"
   ]
  },
  {
   "cell_type": "code",
   "execution_count": null,
   "id": "09399d99-6d63-489b-8799-4e8b494c3e02",
   "metadata": {},
   "outputs": [],
   "source": []
  }
 ],
 "metadata": {
  "kernelspec": {
   "display_name": "Python 3 (ipykernel)",
   "language": "python",
   "name": "python3"
  },
  "language_info": {
   "codemirror_mode": {
    "name": "ipython",
    "version": 3
   },
   "file_extension": ".py",
   "mimetype": "text/x-python",
   "name": "python",
   "nbconvert_exporter": "python",
   "pygments_lexer": "ipython3",
   "version": "3.9.13"
  }
 },
 "nbformat": 4,
 "nbformat_minor": 5
}
