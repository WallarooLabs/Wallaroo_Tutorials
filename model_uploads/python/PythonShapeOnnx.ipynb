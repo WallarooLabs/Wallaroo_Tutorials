{
 "cells": [
  {
   "cell_type": "code",
   "execution_count": 12,
   "id": "70cfb29c-059f-4ed0-98bd-bbd22c69671c",
   "metadata": {},
   "outputs": [
    {
     "name": "stdout",
     "output_type": "stream",
     "text": [
      "The autoreload extension is already loaded. To reload it, use:\n",
      "  %reload_ext autoreload\n",
      "Please log into the following URL in a web browser:\n",
      "\n",
      "\thttps://secret-peanut-8766.keycloak.wallaroo.dev/auth/realms/master/device?user_code=SDLG-FDFZ\n",
      "\n",
      "Login successful!\n"
     ]
    }
   ],
   "source": [
    "%load_ext autoreload\n",
    "%autoreload 2\n",
    "import wallaroo\n",
    "\n",
    "import os, json\n",
    "os.environ['DEPLOYMENT_CONFIG'] = json.dumps({\"cpus\": 0.5, \"replica_count\": 1, \"memory\": \"500Mi\"})\n",
    "\n",
    "auth_type = \"sso\"\n",
    "client = wallaroo.Client(auth_type=auth_type, request_timeout=90, interactive=True)"
   ]
  },
  {
   "cell_type": "code",
   "execution_count": 13,
   "id": "859bf5ff-3a01-48d4-a99b-15c60ae58536",
   "metadata": {},
   "outputs": [
    {
     "name": "stdout",
     "output_type": "stream",
     "text": [
      "Waiting for undeployment - this will take up to 90s ..................................... ok\n",
      "Waiting for undeployment - this will take up to 90s ..................................... ok\n"
     ]
    }
   ],
   "source": [
    "for p in client.list_pipelines(): p.undeploy()"
   ]
  },
  {
   "cell_type": "code",
   "execution_count": 14,
   "id": "9cd7bcc2-5680-41ab-84db-d26c09d31877",
   "metadata": {},
   "outputs": [],
   "source": [
    "import pyarrow as pa\n",
    "input_schema = pa.schema([\n",
    "    pa.field('dense_2', pa.list_(pa.float64()))\n",
    "])\n",
    "output_schema = pa.schema([\n",
    "    pa.field('output', pa.list_(pa.float64()))\n",
    "])"
   ]
  },
  {
   "cell_type": "code",
   "execution_count": 15,
   "id": "2d01710a-c8c9-4349-8a0e-dc9e6ee4d504",
   "metadata": {},
   "outputs": [],
   "source": [
    "from wallaroo.framework import Framework\n",
    "step = client.upload_model(\"python-step\", \n",
    "                           \"./step.py\", \n",
    "                           framework=Framework.PYTHON).configure('python', \n",
    "                                                                 input_schema=input_schema, \n",
    "                                                                 output_schema=output_schema)\n"
   ]
  },
  {
   "cell_type": "code",
   "execution_count": 16,
   "id": "c0259f1a-f73d-4624-b921-e958c4d252a1",
   "metadata": {},
   "outputs": [
    {
     "name": "stdout",
     "output_type": "stream",
     "text": [
      "Waiting for deployment - this will take up to 90s ............ ok\n"
     ]
    }
   ],
   "source": [
    "# Deploy a model/pipeline\n",
    "\n",
    "pipeline_name = 'py-shape3'\n",
    "model_name = 'py-shape-onnx'\n",
    "\n",
    "onnx_file_model_name = \"house_price_keras.onnx\"\n",
    "\n",
    "fraud = client.upload_model(model_name, onnx_file_model_name, framework=Framework.ONNX).configure('onnx')\n",
    "pipeline = client.build_pipeline(pipeline_name)\n",
    "pipeline = pipeline.add_model_step(fraud)\n",
    "\n",
    "pipeline = pipeline.add_model_step(step)\n",
    "deployment = pipeline.deploy()"
   ]
  },
  {
   "cell_type": "code",
   "execution_count": 17,
   "id": "ee11ed13-5c18-4080-b937-9b8d11835edb",
   "metadata": {},
   "outputs": [],
   "source": [
    "import pandas as pd\n",
    "\n",
    "data = pd.DataFrame.from_dict({\"tensor\": [[0.6878518042239091,\n",
    " 0.17607340208535074,\n",
    " -0.8695140830357148,\n",
    " 0.34638762962802144,\n",
    " -0.0916270832672289,\n",
    " -0.022063226781124278,\n",
    " -0.13969884765926363,\n",
    " 1.002792335666138,\n",
    " -0.3067449033633758,\n",
    " 0.9272000630461978,\n",
    " 0.28326687982544635,\n",
    " 0.35935375728372815,\n",
    " -0.682562654045523,\n",
    " 0.532642794275658,\n",
    " -0.22705189652659302,\n",
    " 0.5743846356405602,\n",
    " -0.18805086358065454]]})"
   ]
  },
  {
   "cell_type": "code",
   "execution_count": 18,
   "id": "169e01af-36d5-41d4-8ab7-88ed163561c9",
   "metadata": {},
   "outputs": [
    {
     "data": {
      "text/html": [
       "<div>\n",
       "<style scoped>\n",
       "    .dataframe tbody tr th:only-of-type {\n",
       "        vertical-align: middle;\n",
       "    }\n",
       "\n",
       "    .dataframe tbody tr th {\n",
       "        vertical-align: top;\n",
       "    }\n",
       "\n",
       "    .dataframe thead th {\n",
       "        text-align: right;\n",
       "    }\n",
       "</style>\n",
       "<table border=\"1\" class=\"dataframe\">\n",
       "  <thead>\n",
       "    <tr style=\"text-align: right;\">\n",
       "      <th></th>\n",
       "      <th>time</th>\n",
       "      <th>in.tensor</th>\n",
       "      <th>out.output</th>\n",
       "      <th>check_failures</th>\n",
       "    </tr>\n",
       "  </thead>\n",
       "  <tbody>\n",
       "    <tr>\n",
       "      <th>0</th>\n",
       "      <td>2023-06-22 17:19:21.158</td>\n",
       "      <td>[0.6878518042, 0.1760734021, -0.869514083, 0.3...</td>\n",
       "      <td>[12.886651039123535]</td>\n",
       "      <td>0</td>\n",
       "    </tr>\n",
       "  </tbody>\n",
       "</table>\n",
       "</div>"
      ],
      "text/plain": [
       "                     time                                          in.tensor  \\\n",
       "0 2023-06-22 17:19:21.158  [0.6878518042, 0.1760734021, -0.869514083, 0.3...   \n",
       "\n",
       "             out.output  check_failures  \n",
       "0  [12.886651039123535]               0  "
      ]
     },
     "execution_count": 18,
     "metadata": {},
     "output_type": "execute_result"
    }
   ],
   "source": [
    "deployment.infer(data)"
   ]
  },
  {
   "cell_type": "code",
   "execution_count": 19,
   "id": "97d38344-6648-4137-9ec8-5d0cd3e29951",
   "metadata": {},
   "outputs": [
    {
     "data": {
      "text/html": [
       "<div>\n",
       "<style scoped>\n",
       "    .dataframe tbody tr th:only-of-type {\n",
       "        vertical-align: middle;\n",
       "    }\n",
       "\n",
       "    .dataframe tbody tr th {\n",
       "        vertical-align: top;\n",
       "    }\n",
       "\n",
       "    .dataframe thead th {\n",
       "        text-align: right;\n",
       "    }\n",
       "</style>\n",
       "<table border=\"1\" class=\"dataframe\">\n",
       "  <thead>\n",
       "    <tr style=\"text-align: right;\">\n",
       "      <th></th>\n",
       "      <th>time</th>\n",
       "      <th>in.tensor</th>\n",
       "      <th>out.output</th>\n",
       "      <th>check_failures</th>\n",
       "    </tr>\n",
       "  </thead>\n",
       "  <tbody>\n",
       "    <tr>\n",
       "      <th>0</th>\n",
       "      <td>2023-06-20 20:23:28.395</td>\n",
       "      <td>[0.6878518042, 0.1760734021, -0.869514083, 0.3...</td>\n",
       "      <td>[12.886651039123535]</td>\n",
       "      <td>0</td>\n",
       "    </tr>\n",
       "    <tr>\n",
       "      <th>1</th>\n",
       "      <td>2023-06-22 17:19:21.158</td>\n",
       "      <td>[0.6878518042, 0.1760734021, -0.869514083, 0.3...</td>\n",
       "      <td>[12.886651039123535]</td>\n",
       "      <td>0</td>\n",
       "    </tr>\n",
       "  </tbody>\n",
       "</table>\n",
       "</div>"
      ],
      "text/plain": [
       "                     time                                          in.tensor  \\\n",
       "0 2023-06-20 20:23:28.395  [0.6878518042, 0.1760734021, -0.869514083, 0.3...   \n",
       "1 2023-06-22 17:19:21.158  [0.6878518042, 0.1760734021, -0.869514083, 0.3...   \n",
       "\n",
       "             out.output  check_failures  \n",
       "0  [12.886651039123535]               0  \n",
       "1  [12.886651039123535]               0  "
      ]
     },
     "execution_count": 19,
     "metadata": {},
     "output_type": "execute_result"
    }
   ],
   "source": [
    "deployment.logs()"
   ]
  },
  {
   "cell_type": "code",
   "execution_count": 20,
   "id": "09399d99-6d63-489b-8799-4e8b494c3e02",
   "metadata": {},
   "outputs": [
    {
     "name": "stdout",
     "output_type": "stream",
     "text": [
      "Waiting for undeployment - this will take up to 90s .................................... ok\n"
     ]
    },
    {
     "data": {
      "text/html": [
       "<table><tr><th>name</th> <td>py-shape3</td></tr><tr><th>created</th> <td>2023-06-20 20:22:22.407777+00:00</td></tr><tr><th>last_updated</th> <td>2023-06-22 17:19:07.250675+00:00</td></tr><tr><th>deployed</th> <td>False</td></tr><tr><th>tags</th> <td></td></tr><tr><th>versions</th> <td>934f01bc-a2ed-4545-b50c-e260bf4d3841, 4dce6d87-2a1f-417e-b872-989a20bf0016, 02c12611-95d3-4c55-86d4-626b49b47dd7, a042827e-fb35-47e9-a18f-67c0d3864237</td></tr><tr><th>steps</th> <td>py-shape-onnx</td></tr></table>"
      ],
      "text/plain": [
       "{'name': 'py-shape3', 'create_time': datetime.datetime(2023, 6, 20, 20, 22, 22, 407777, tzinfo=tzutc()), 'definition': \"[{'ModelInference': {'models': [{'name': 'py-shape-onnx', 'version': 'd6446245-3c26-4f97-8691-10c981983878', 'sha': '809c9f9a3016e5ab2190900d5fcfa476ee7411aa7a9ac5d4041d1cbe874cf8b9'}]}}, {'ModelInference': {'models': [{'name': 'python-step', 'version': '223a87b9-17c2-45fc-86db-b4957d0e446f', 'sha': '446a4cfa3f28cd05c267a7544794f8834d772e3f1123412fffb4989beee3afd4'}]}}]\"}"
      ]
     },
     "execution_count": 20,
     "metadata": {},
     "output_type": "execute_result"
    }
   ],
   "source": [
    "deployment.undeploy()"
   ]
  },
  {
   "cell_type": "code",
   "execution_count": null,
   "id": "60463bbe-1ed8-4bda-a024-8610b78b804a",
   "metadata": {},
   "outputs": [],
   "source": []
  }
 ],
 "metadata": {
  "kernelspec": {
   "display_name": "Python 3 (ipykernel)",
   "language": "python",
   "name": "python3"
  },
  "language_info": {
   "codemirror_mode": {
    "name": "ipython",
    "version": 3
   },
   "file_extension": ".py",
   "mimetype": "text/x-python",
   "name": "python",
   "nbconvert_exporter": "python",
   "pygments_lexer": "ipython3",
   "version": "3.9.13"
  }
 },
 "nbformat": 4,
 "nbformat_minor": 5
}
