{
 "cells": [
  {
   "cell_type": "code",
   "execution_count": 1,
   "id": "70cfb29c-059f-4ed0-98bd-bbd22c69671c",
   "metadata": {},
   "outputs": [],
   "source": [
    "%load_ext autoreload\n",
    "%autoreload 2\n",
    "import wallaroo\n",
    "\n",
    "import os, json\n",
    "os.environ['DEPLOYMENT_CONFIG'] = json.dumps({\"cpus\": 0.5, \"replica_count\": 1, \"memory\": \"500Mi\"})\n",
    "\n",
    "auth_type = \"sso\"\n",
    "client = wallaroo.Client(auth_type=auth_type, request_timeout=90, interactive=True)"
   ]
  },
  {
   "cell_type": "code",
   "execution_count": 2,
   "id": "859bf5ff-3a01-48d4-a99b-15c60ae58536",
   "metadata": {},
   "outputs": [
    {
     "name": "stdout",
     "output_type": "stream",
     "text": [
      "Waiting for undeployment - this will take up to 90s ..................................... ok\n",
      " ok\n",
      " ok\n"
     ]
    }
   ],
   "source": [
    "# for p in client.list_pipelines(): p.undeploy()"
   ]
  },
  {
   "cell_type": "code",
   "execution_count": 3,
   "id": "9cd7bcc2-5680-41ab-84db-d26c09d31877",
   "metadata": {},
   "outputs": [],
   "source": [
    "import pyarrow as pa\n",
    "input_schema = pa.schema([\n",
    "    pa.field('dense_2', pa.list_(pa.float64()))\n",
    "])\n",
    "output_schema = pa.schema([\n",
    "    pa.field('output', pa.list_(pa.float64()))\n",
    "])"
   ]
  },
  {
   "cell_type": "code",
   "execution_count": 4,
   "id": "2d01710a-c8c9-4349-8a0e-dc9e6ee4d504",
   "metadata": {},
   "outputs": [],
   "source": [
    "step = client.upload_model(\"python-step\", \"./step.py\").configure('python', input_schema=input_schema, output_schema=output_schema)\n"
   ]
  },
  {
   "cell_type": "code",
   "execution_count": 5,
   "id": "c0259f1a-f73d-4624-b921-e958c4d252a1",
   "metadata": {},
   "outputs": [
    {
     "name": "stdout",
     "output_type": "stream",
     "text": [
      "Waiting for deployment - this will take up to 90s ............ ok\n"
     ]
    }
   ],
   "source": [
    "# Deploy a model/pipeline\n",
    "\n",
    "pipeline_name = 'py-shape3'\n",
    "model_name = 'py-shape-onnx'\n",
    "\n",
    "onnx_file_model_name = \"house_price_keras.onnx\"\n",
    "\n",
    "fraud = client.upload_model(model_name, onnx_file_model_name).configure('onnx')\n",
    "pipeline = client.build_pipeline(pipeline_name)\n",
    "pipeline = pipeline.add_model_step(fraud)\n",
    "\n",
    "pipeline = pipeline.add_model_step(step)\n",
    "deployment = pipeline.deploy()"
   ]
  },
  {
   "cell_type": "code",
   "execution_count": 7,
   "id": "ee11ed13-5c18-4080-b937-9b8d11835edb",
   "metadata": {},
   "outputs": [
    {
     "data": {
      "text/html": [
       "<div>\n",
       "<style scoped>\n",
       "    .dataframe tbody tr th:only-of-type {\n",
       "        vertical-align: middle;\n",
       "    }\n",
       "\n",
       "    .dataframe tbody tr th {\n",
       "        vertical-align: top;\n",
       "    }\n",
       "\n",
       "    .dataframe thead th {\n",
       "        text-align: right;\n",
       "    }\n",
       "</style>\n",
       "<table border=\"1\" class=\"dataframe\">\n",
       "  <thead>\n",
       "    <tr style=\"text-align: right;\">\n",
       "      <th></th>\n",
       "      <th>time</th>\n",
       "      <th>in.tensor</th>\n",
       "      <th>out.output</th>\n",
       "      <th>check_failures</th>\n",
       "    </tr>\n",
       "  </thead>\n",
       "  <tbody>\n",
       "    <tr>\n",
       "      <th>0</th>\n",
       "      <td>2023-06-15 13:55:50.300</td>\n",
       "      <td>[0.6878518042, 0.1760734021, -0.869514083, 0.3...</td>\n",
       "      <td>[12.886651039123535]</td>\n",
       "      <td>0</td>\n",
       "    </tr>\n",
       "  </tbody>\n",
       "</table>\n",
       "</div>"
      ],
      "text/plain": [
       "                     time                                          in.tensor  \\\n",
       "0 2023-06-15 13:55:50.300  [0.6878518042, 0.1760734021, -0.869514083, 0.3...   \n",
       "\n",
       "             out.output  check_failures  \n",
       "0  [12.886651039123535]               0  "
      ]
     },
     "execution_count": 7,
     "metadata": {},
     "output_type": "execute_result"
    }
   ],
   "source": [
    "import pandas as pd\n",
    "\n",
    "data = pd.DataFrame.from_dict({\"tensor\": [[0.6878518042239091,\n",
    " 0.17607340208535074,\n",
    " -0.8695140830357148,\n",
    " 0.34638762962802144,\n",
    " -0.0916270832672289,\n",
    " -0.022063226781124278,\n",
    " -0.13969884765926363,\n",
    " 1.002792335666138,\n",
    " -0.3067449033633758,\n",
    " 0.9272000630461978,\n",
    " 0.28326687982544635,\n",
    " 0.35935375728372815,\n",
    " -0.682562654045523,\n",
    " 0.532642794275658,\n",
    " -0.22705189652659302,\n",
    " 0.5743846356405602,\n",
    " -0.18805086358065454]]})"
   ]
  },
  {
   "cell_type": "code",
   "execution_count": null,
   "id": "169e01af-36d5-41d4-8ab7-88ed163561c9",
   "metadata": {},
   "outputs": [],
   "source": [
    "deployment.infer(data)"
   ]
  },
  {
   "cell_type": "code",
   "execution_count": 8,
   "id": "97d38344-6648-4137-9ec8-5d0cd3e29951",
   "metadata": {},
   "outputs": [
    {
     "data": {
      "text/html": [
       "<div>\n",
       "<style scoped>\n",
       "    .dataframe tbody tr th:only-of-type {\n",
       "        vertical-align: middle;\n",
       "    }\n",
       "\n",
       "    .dataframe tbody tr th {\n",
       "        vertical-align: top;\n",
       "    }\n",
       "\n",
       "    .dataframe thead th {\n",
       "        text-align: right;\n",
       "    }\n",
       "</style>\n",
       "<table border=\"1\" class=\"dataframe\">\n",
       "  <thead>\n",
       "    <tr style=\"text-align: right;\">\n",
       "      <th></th>\n",
       "      <th>time</th>\n",
       "      <th>in.tensor</th>\n",
       "      <th>out.output</th>\n",
       "      <th>check_failures</th>\n",
       "    </tr>\n",
       "  </thead>\n",
       "  <tbody>\n",
       "    <tr>\n",
       "      <th>0</th>\n",
       "      <td>2023-06-15 13:55:50.300</td>\n",
       "      <td>[0.6878518042, 0.1760734021, -0.869514083, 0.3...</td>\n",
       "      <td>[12.886651039123535]</td>\n",
       "      <td>0</td>\n",
       "    </tr>\n",
       "  </tbody>\n",
       "</table>\n",
       "</div>"
      ],
      "text/plain": [
       "                     time                                          in.tensor  \\\n",
       "0 2023-06-15 13:55:50.300  [0.6878518042, 0.1760734021, -0.869514083, 0.3...   \n",
       "\n",
       "             out.output  check_failures  \n",
       "0  [12.886651039123535]               0  "
      ]
     },
     "execution_count": 8,
     "metadata": {},
     "output_type": "execute_result"
    }
   ],
   "source": [
    "deployment.logs()"
   ]
  },
  {
   "cell_type": "code",
   "execution_count": null,
   "id": "09399d99-6d63-489b-8799-4e8b494c3e02",
   "metadata": {},
   "outputs": [],
   "source": []
  }
 ],
 "metadata": {
  "kernelspec": {
   "display_name": "Python 3 (ipykernel)",
   "language": "python",
   "name": "python3"
  },
  "language_info": {
   "codemirror_mode": {
    "name": "ipython",
    "version": 3
   },
   "file_extension": ".py",
   "mimetype": "text/x-python",
   "name": "python",
   "nbconvert_exporter": "python",
   "pygments_lexer": "ipython3",
   "version": "3.9.13"
  }
 },
 "nbformat": 4,
 "nbformat_minor": 5
}
