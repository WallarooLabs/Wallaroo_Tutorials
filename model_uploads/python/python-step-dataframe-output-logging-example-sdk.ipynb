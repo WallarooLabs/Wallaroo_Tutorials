{
 "cells": [
  {
   "attachments": {},
   "cell_type": "markdown",
   "metadata": {},
   "source": [
    "This tutorial can be downloaded as part of the [Wallaroo Tutorials repository](https://github.com/WallarooLabs/Wallaroo_Tutorials/blob/2023.2.1_prerelease/model_uploads/python).\n",
    "\n",
    "## Python Model Upload to Wallaroo with the Wallaroo SDK\n",
    "\n",
    "Python scripts can be deployed to Wallaroo as Python Models.  These are treated like other models, and are used for:\n",
    "\n",
    "* ML Models: Models written entirely in Python script.\n",
    "* Data Formatting:  Typically preprocess or post process modules that shape incoming data into what a ML model expects, or receives data output by a ML model and changes the data for other processes to accept.\n",
    "\n",
    "Models are added to Wallaroo pipelines as pipeline steps, with the data from the previous step submitted to the next one.  Python steps require the entry method `wallaroo_json`.  These methods should be structured to receive and send pandas DataFrames as the inputs and outputs.\n",
    "\n",
    "This allows inference requests to a Wallaroo pipeline to receive pandas DataFrames or Apache Arrow tables, and return the same for consistent results.\n",
    "\n",
    "This tutorial will:\n",
    "\n",
    "* Create a Wallaroo workspace and pipeline.\n",
    "* Upload the sample Python model and ONNX model.\n",
    "* Demonstrate the outputs of the ONNX model to an inference request.\n",
    "* Demonstrate the functionality of the Python model in reshaping data after an inference request.\n",
    "* Use both the ONNX model and the Python model together as pipeline steps to perform an inference request and export the data for use.\n",
    "\n",
    "### Prerequisites\n",
    "\n",
    "* A Wallaroo version 2023.2.1 or above instance.\n",
    "\n",
    "### References\n",
    "\n",
    "* [Wallaroo SDK Essentials Guide: Pipeline Management](https://staging.docs.wallaroo.ai/wallaroo-developer-guides/wallaroo-sdk-guides/wallaroo-sdk-essentials-guide/wallaroo-sdk-essentials-pipelines/wallaroo-sdk-essentials-pipeline/)\n",
    "* [Python Models](https://staging.docs.wallaroo.ai/wallaroo-developer-guides/wallaroo-sdk-guides/wallaroo-sdk-essentials-guide/wallaroo-sdk-model-uploads/wallaroo-sdk-model-upload-python/)"
   ]
  },
  {
   "attachments": {},
   "cell_type": "markdown",
   "metadata": {},
   "source": [
    "## Tutorial Steps\n",
    "\n",
    "### Import Libraries\n",
    "\n",
    "We'll start with importing the libraries we need for the tutorial.  The main libraries used are:\n",
    "\n",
    "* Wallaroo: To connect with the Wallaroo instance and perform the MLOps commands.\n",
    "* `pyarrow`: Used for formatting the data.\n",
    "* `pandas`: Used for pandas DataFrame tables."
   ]
  },
  {
   "cell_type": "code",
   "execution_count": 56,
   "metadata": {},
   "outputs": [],
   "source": [
    "import wallaroo\n",
    "from wallaroo.object import EntityNotFoundError\n",
    "from wallaroo.framework import Framework\n",
    "from wallaroo.deployment_config import DeploymentConfigBuilder\n",
    "\n",
    "import pandas as pd\n",
    "\n",
    "\n",
    "#import os\n",
    "# import json\n",
    "import pyarrow as pa"
   ]
  },
  {
   "attachments": {},
   "cell_type": "markdown",
   "metadata": {},
   "source": [
    "### Connect to the Wallaroo Instance through the User Interface\n",
    "\n",
    "The next step is to connect to Wallaroo through the Wallaroo client.  The Python library is included in the Wallaroo install and available through the Jupyter Hub interface provided with your Wallaroo environment.\n",
    "\n",
    "This is accomplished using the `wallaroo.Client()` command, which provides a URL to grant the SDK permission to your specific Wallaroo environment.  When displayed, enter the URL into a browser and confirm permissions.  Store the connection into a variable that can be referenced later.\n",
    "\n",
    "If logging into the Wallaroo instance through the internal JupyterHub service, use `wl = wallaroo.Client()`.  For more information on Wallaroo Client settings, see the [Client Connection guide](https://docs.wallaroo.ai/wallaroo-developer-guides/wallaroo-sdk-guides/wallaroo-sdk-essentials-guide/wallaroo-sdk-essentials-client/)."
   ]
  },
  {
   "cell_type": "code",
   "execution_count": 57,
   "metadata": {},
   "outputs": [],
   "source": [
    "# Login through local Wallaroo instance\n",
    "\n",
    "wl = wallaroo.Client()"
   ]
  },
  {
   "attachments": {},
   "cell_type": "markdown",
   "metadata": {},
   "source": [
    "### Set Variables and Helper Functions\n",
    "\n",
    "We'll set the name of our workspace, pipeline, models and files.  Workspace names must be unique across the Wallaroo workspace.  For this, we'll add in a randomly generated 4 characters to the workspace name to prevent collisions with other users' workspaces.  If running this tutorial, we recommend hard coding the workspace name so it will function in the same workspace each time it's run.\n",
    "\n",
    "We'll set up some helper functions that will either use existing workspaces and pipelines, or create them if they do not already exist."
   ]
  },
  {
   "cell_type": "code",
   "execution_count": 58,
   "metadata": {},
   "outputs": [],
   "source": [
    "import string\n",
    "import random\n",
    "\n",
    "# make a random 4 character suffix to prevent overwriting other user's workspaces\n",
    "suffix= ''.join(random.choice(string.ascii_lowercase) for i in range(4))\n",
    "workspace_name = f'python-demo{suffix}'\n",
    "pipeline_name = f'python-step-demo-pipeline'\n",
    "\n",
    "onnx_model_name = 'house-price-sample'\n",
    "onnx_model_file_name = './models/house_price_keras.onnx'\n",
    "python_model_name = 'python-step'\n",
    "python_model_file_name = './models/step.py'"
   ]
  },
  {
   "cell_type": "code",
   "execution_count": 59,
   "metadata": {},
   "outputs": [],
   "source": [
    "def get_workspace(name):\n",
    "    workspace = None\n",
    "    for ws in wl.list_workspaces():\n",
    "        if ws.name() == name:\n",
    "            workspace= ws\n",
    "    if(workspace == None):\n",
    "        workspace = wl.create_workspace(name)\n",
    "    return workspace\n",
    "\n",
    "def get_pipeline(name):\n",
    "    try:\n",
    "        pipeline = wl.pipelines_by_name(name)[0]\n",
    "    except EntityNotFoundError:\n",
    "        pipeline = wl.build_pipeline(name)\n",
    "    return pipeline"
   ]
  },
  {
   "attachments": {},
   "cell_type": "markdown",
   "metadata": {},
   "source": [
    "### Create a New Workspace\n",
    "\n",
    "For our tutorial, we'll create the workspace, set it as the current workspace, then the pipeline we'll add our models to.\n",
    "\n",
    "#### Create New Workspace References\n",
    "\n",
    "* [Wallaroo SDK Essentials Guide: Workspace Management](https://staging.docs.wallaroo.ai/wallaroo-developer-guides/wallaroo-sdk-guides/wallaroo-sdk-essentials-guide/wallaroo-sdk-essentials-workspace/)\n",
    "* [Wallaroo SDK Essentials Guide: Pipeline Management](https://staging.docs.wallaroo.ai/wallaroo-developer-guides/wallaroo-sdk-guides/wallaroo-sdk-essentials-guide/wallaroo-sdk-essentials-pipelines/wallaroo-sdk-essentials-pipeline/)"
   ]
  },
  {
   "cell_type": "code",
   "execution_count": 60,
   "metadata": {},
   "outputs": [
    {
     "data": {
      "text/html": [
       "<table><tr><th>name</th> <td>python-step-demo-pipeline</td></tr><tr><th>created</th> <td>2023-07-06 20:04:06.867667+00:00</td></tr><tr><th>last_updated</th> <td>2023-07-06 20:12:17.869364+00:00</td></tr><tr><th>deployed</th> <td>False</td></tr><tr><th>tags</th> <td></td></tr><tr><th>versions</th> <td>4947555a-048c-4eaf-8231-67c992378b9d, 3511dd65-7ce8-4f5d-b6ba-7dd6a8fc2362, f1638150-e065-486d-99f3-7bbc312329b6, 84373e6e-3a4d-4f36-a764-d1a1bd6efff3, 30bd9f70-f61e-4dfc-ae99-842ca7afad4f, 25a64e98-29be-4121-991a-eece36e54447</td></tr><tr><th>steps</th> <td>house-price-sample</td></tr></table>"
      ],
      "text/plain": [
       "{'name': 'python-step-demo-pipeline', 'create_time': datetime.datetime(2023, 7, 6, 20, 4, 6, 867667, tzinfo=tzutc()), 'definition': '[]'}"
      ]
     },
     "execution_count": 60,
     "metadata": {},
     "output_type": "execute_result"
    }
   ],
   "source": [
    "workspace = get_workspace(workspace_name)\n",
    "\n",
    "wl.set_current_workspace(workspace)\n",
    "\n",
    "pipeline = get_pipeline(pipeline_name)\n",
    "pipeline"
   ]
  },
  {
   "attachments": {},
   "cell_type": "markdown",
   "metadata": {},
   "source": [
    "### Model Descriptions\n",
    "\n",
    "We have two models we'll be using.\n",
    "\n",
    "* `./models/house_price_keras.onnx`:  A ML model trained to forecast hour prices based on inputs.  This forecast is stored in the column `dense_2`.\n",
    "* `./models/step.py`: A Python script that accepts the data from the house price model, and reformats the output. We'll be using it as a post-processing step.\n",
    "\n",
    "For the Python step, it contains the method `wallaroo_json` as the entry point used by Wallaroo when deployed as a pipeline step.  Our sample script has the following:\n",
    "\n",
    "```python\n",
    "# take a dataframe output of the house price model, and reformat the `dense_2`\n",
    "# column as `output`\n",
    "def wallaroo_json(data: pd.DataFrame):\n",
    "    print(data)\n",
    "    return [{\"output\": [data[\"dense_2\"].to_list()[0]]}]\n",
    "```\n",
    "\n",
    "As seen from the description, all those function will do it take the DataFrame output of the house price model, and output a DataFrame replacing the first element in the list from column `dense_2` with `output`."
   ]
  },
  {
   "attachments": {},
   "cell_type": "markdown",
   "metadata": {},
   "source": [
    "### Upload Models\n",
    "\n",
    "Both of these models will be uploaded to our current workspace using the method `upload_model(name, path, framework).configure(framework, input_schema, output_schema)`.\n",
    "\n",
    "* For `./models/house_price_keras.onnx`, we will specify it as `Framework.ONNX`.  We do not need to specify the input and output schemas.\n",
    "* For `./models/step.py`, we will set the input and output schemas in the required `pyarrow.lib.Schema` format.\n",
    "\n",
    "#### Upload Model References\n",
    "\n",
    "* [Wallaroo SDK Essentials Guide: Model Uploads and Registrations: ONNX](https://staging.docs.wallaroo.ai/wallaroo-developer-guides/wallaroo-sdk-guides/wallaroo-sdk-essentials-guide/wallaroo-sdk-model-uploads/wallaroo-sdk-model-upload-onnx/)\n",
    "* [Wallaroo SDK Essentials Guide: Model Uploads and Registrations: Python Models](https://staging.docs.wallaroo.ai/wallaroo-developer-guides/wallaroo-sdk-guides/wallaroo-sdk-essentials-guide/wallaroo-sdk-model-uploads/wallaroo-sdk-model-upload-python/)"
   ]
  },
  {
   "cell_type": "code",
   "execution_count": 61,
   "metadata": {},
   "outputs": [],
   "source": [
    "house_price_model = (wl.upload_model(onnx_model_name, \n",
    "                                    onnx_model_file_name, \n",
    "                                    framework=Framework.ONNX)\n",
    "                                    .configure('onnx')\n",
    "                    )\n",
    "\n",
    "input_schema = pa.schema([\n",
    "    pa.field('dense_2', pa.list_(pa.float64()))\n",
    "])\n",
    "output_schema = pa.schema([\n",
    "    pa.field('output', pa.list_(pa.float64()))\n",
    "])\n",
    "\n",
    "step = (wl.upload_model(python_model_name, \n",
    "                        python_model_file_name, \n",
    "                        framework=Framework.PYTHON)\n",
    "                        .configure(\n",
    "                            'python', \n",
    "                            input_schema=input_schema, \n",
    "                            output_schema=output_schema\n",
    "                        )\n",
    "        )"
   ]
  },
  {
   "attachments": {},
   "cell_type": "markdown",
   "metadata": {},
   "source": [
    "### Pipeline Steps\n",
    "\n",
    "With our models uploaded, we'll perform different configurations of the pipeline steps.\n",
    "\n",
    "First we'll add just the house price model to the pipeline, deploy it, and submit a sample inference."
   ]
  },
  {
   "cell_type": "code",
   "execution_count": 62,
   "metadata": {},
   "outputs": [],
   "source": [
    "# used to restrict the resources needed for this demonstration\n",
    "deployment_config = DeploymentConfigBuilder() \\\n",
    "    .cpus(0.25).memory('1Gi') \\\n",
    "    .build()"
   ]
  },
  {
   "cell_type": "code",
   "execution_count": 63,
   "metadata": {},
   "outputs": [
    {
     "data": {
      "text/html": [
       "<table><tr><th>name</th> <td>python-step-demo-pipeline</td></tr><tr><th>created</th> <td>2023-07-06 20:16:21.940611+00:00</td></tr><tr><th>last_updated</th> <td>2023-07-06 20:16:21.940611+00:00</td></tr><tr><th>deployed</th> <td>True</td></tr><tr><th>tags</th> <td></td></tr><tr><th>versions</th> <td>c66aae0f-2ead-421c-87a2-9de2d97bd371</td></tr><tr><th>steps</th> <td>house-price-sample</td></tr></table>"
      ],
      "text/plain": [
       "{'name': 'python-step-demo-pipeline', 'create_time': datetime.datetime(2023, 7, 6, 20, 16, 21, 940611, tzinfo=tzutc()), 'definition': \"[{'ModelInference': {'models': [{'name': 'house-price-sample', 'version': '232ed33b-a0be-4757-89c2-5a45d26125bb', 'sha': '809c9f9a3016e5ab2190900d5fcfa476ee7411aa7a9ac5d4041d1cbe874cf8b9'}]}}]\"}"
      ]
     },
     "execution_count": 63,
     "metadata": {},
     "output_type": "execute_result"
    }
   ],
   "source": [
    "# clear the pipeline if this tutorial was run before\n",
    "pipeline.undeploy()\n",
    "pipeline.clear()\n",
    "\n",
    "pipeline.add_model_step(house_price_model)\n",
    "\n",
    "pipeline.deploy(deployment_config=deployment_config)"
   ]
  },
  {
   "cell_type": "code",
   "execution_count": 64,
   "metadata": {},
   "outputs": [
    {
     "data": {
      "text/html": [
       "<div>\n",
       "<style scoped>\n",
       "    .dataframe tbody tr th:only-of-type {\n",
       "        vertical-align: middle;\n",
       "    }\n",
       "\n",
       "    .dataframe tbody tr th {\n",
       "        vertical-align: top;\n",
       "    }\n",
       "\n",
       "    .dataframe thead th {\n",
       "        text-align: right;\n",
       "    }\n",
       "</style>\n",
       "<table border=\"1\" class=\"dataframe\">\n",
       "  <thead>\n",
       "    <tr style=\"text-align: right;\">\n",
       "      <th></th>\n",
       "      <th>time</th>\n",
       "      <th>in.tensor</th>\n",
       "      <th>out.dense_2</th>\n",
       "      <th>check_failures</th>\n",
       "    </tr>\n",
       "  </thead>\n",
       "  <tbody>\n",
       "    <tr>\n",
       "      <th>0</th>\n",
       "      <td>2023-07-06 20:16:33.526</td>\n",
       "      <td>[0.6878518042, 0.1760734021, -0.869514083, 0.3...</td>\n",
       "      <td>[12.886651]</td>\n",
       "      <td>0</td>\n",
       "    </tr>\n",
       "  </tbody>\n",
       "</table>\n",
       "</div>"
      ],
      "text/plain": [
       "                     time                                          in.tensor  \\\n",
       "0 2023-07-06 20:16:33.526  [0.6878518042, 0.1760734021, -0.869514083, 0.3...   \n",
       "\n",
       "   out.dense_2  check_failures  \n",
       "0  [12.886651]               0  "
      ]
     },
     "metadata": {},
     "output_type": "display_data"
    }
   ],
   "source": [
    "## sample inference data\n",
    "\n",
    "data = pd.DataFrame.from_dict({\"tensor\": [[0.6878518042239091,\n",
    " 0.17607340208535074,\n",
    " -0.8695140830357148,\n",
    " 0.34638762962802144,\n",
    " -0.0916270832672289,\n",
    " -0.022063226781124278,\n",
    " -0.13969884765926363,\n",
    " 1.002792335666138,\n",
    " -0.3067449033633758,\n",
    " 0.9272000630461978,\n",
    " 0.28326687982544635,\n",
    " 0.35935375728372815,\n",
    " -0.682562654045523,\n",
    " 0.532642794275658,\n",
    " -0.22705189652659302,\n",
    " 0.5743846356405602,\n",
    " -0.18805086358065454]]})\n",
    "\n",
    "results = pipeline.infer(data)\n",
    "display(results)"
   ]
  },
  {
   "attachments": {},
   "cell_type": "markdown",
   "metadata": {},
   "source": [
    "### Inference with Pipeline Step\n",
    "\n",
    "Our inference result had the results in the `out.dense_2` column.  We'll clear the pipeline, then add in as the pipeline step just the Python postprocessing step we've created.  Then for our inference request, we'll just submit the output of the house price model.  Our result should be the first element in the array returned in the `out.output` column."
   ]
  },
  {
   "cell_type": "code",
   "execution_count": 65,
   "metadata": {},
   "outputs": [
    {
     "data": {
      "text/html": [
       "<div>\n",
       "<style scoped>\n",
       "    .dataframe tbody tr th:only-of-type {\n",
       "        vertical-align: middle;\n",
       "    }\n",
       "\n",
       "    .dataframe tbody tr th {\n",
       "        vertical-align: top;\n",
       "    }\n",
       "\n",
       "    .dataframe thead th {\n",
       "        text-align: right;\n",
       "    }\n",
       "</style>\n",
       "<table border=\"1\" class=\"dataframe\">\n",
       "  <thead>\n",
       "    <tr style=\"text-align: right;\">\n",
       "      <th></th>\n",
       "      <th>time</th>\n",
       "      <th>in.dense_2</th>\n",
       "      <th>out.output</th>\n",
       "      <th>check_failures</th>\n",
       "    </tr>\n",
       "  </thead>\n",
       "  <tbody>\n",
       "    <tr>\n",
       "      <th>0</th>\n",
       "      <td>2023-07-06 20:16:36.709</td>\n",
       "      <td>[12.886651]</td>\n",
       "      <td>[12.886651]</td>\n",
       "      <td>0</td>\n",
       "    </tr>\n",
       "  </tbody>\n",
       "</table>\n",
       "</div>"
      ],
      "text/plain": [
       "                     time   in.dense_2   out.output  check_failures\n",
       "0 2023-07-06 20:16:36.709  [12.886651]  [12.886651]               0"
      ]
     },
     "metadata": {},
     "output_type": "display_data"
    }
   ],
   "source": [
    "pipeline.clear()\n",
    "pipeline.add_model_step(step)\n",
    "\n",
    "pipeline.deploy(deployment_config=deployment_config)\n",
    "\n",
    "data = pd.DataFrame.from_dict({\"dense_2\": [[12.886651]]})\n",
    "python_result = pipeline.infer(data)\n",
    "display(python_result)"
   ]
  },
  {
   "attachments": {},
   "cell_type": "markdown",
   "metadata": {},
   "source": [
    "### Putting Both Models Together\n",
    "\n",
    "Now we'll do one last pipeline deployment with 2 steps:\n",
    "\n",
    "* First the house price model that outputs the inference result into `dense_2`.\n",
    "* Second the python step so it will accept the output of the house price model, and reshape it into `output`."
   ]
  },
  {
   "cell_type": "code",
   "execution_count": 66,
   "metadata": {},
   "outputs": [
    {
     "data": {
      "text/html": [
       "<div>\n",
       "<style scoped>\n",
       "    .dataframe tbody tr th:only-of-type {\n",
       "        vertical-align: middle;\n",
       "    }\n",
       "\n",
       "    .dataframe tbody tr th {\n",
       "        vertical-align: top;\n",
       "    }\n",
       "\n",
       "    .dataframe thead th {\n",
       "        text-align: right;\n",
       "    }\n",
       "</style>\n",
       "<table border=\"1\" class=\"dataframe\">\n",
       "  <thead>\n",
       "    <tr style=\"text-align: right;\">\n",
       "      <th></th>\n",
       "      <th>time</th>\n",
       "      <th>in.tensor</th>\n",
       "      <th>out.output</th>\n",
       "      <th>check_failures</th>\n",
       "    </tr>\n",
       "  </thead>\n",
       "  <tbody>\n",
       "    <tr>\n",
       "      <th>0</th>\n",
       "      <td>2023-07-06 20:17:40.155</td>\n",
       "      <td>[0.6878518042, 0.1760734021, -0.869514083, 0.3...</td>\n",
       "      <td>[12.886651039123535]</td>\n",
       "      <td>0</td>\n",
       "    </tr>\n",
       "  </tbody>\n",
       "</table>\n",
       "</div>"
      ],
      "text/plain": [
       "                     time                                          in.tensor  \\\n",
       "0 2023-07-06 20:17:40.155  [0.6878518042, 0.1760734021, -0.869514083, 0.3...   \n",
       "\n",
       "             out.output  check_failures  \n",
       "0  [12.886651039123535]               0  "
      ]
     },
     "metadata": {},
     "output_type": "display_data"
    }
   ],
   "source": [
    "import datetime\n",
    "inference_start = datetime.datetime.now()\n",
    "pipeline.undeploy()\n",
    "pipeline.clear()\n",
    "pipeline.add_model_step(house_price_model)\n",
    "pipeline.add_model_step(step)\n",
    "\n",
    "pipeline.deploy(deployment_config=deployment_config)\n",
    "\n",
    "data = pd.DataFrame.from_dict({\"tensor\": [[0.6878518042239091,\n",
    " 0.17607340208535074,\n",
    " -0.8695140830357148,\n",
    " 0.34638762962802144,\n",
    " -0.0916270832672289,\n",
    " -0.022063226781124278,\n",
    " -0.13969884765926363,\n",
    " 1.002792335666138,\n",
    " -0.3067449033633758,\n",
    " 0.9272000630461978,\n",
    " 0.28326687982544635,\n",
    " 0.35935375728372815,\n",
    " -0.682562654045523,\n",
    " 0.532642794275658,\n",
    " -0.22705189652659302,\n",
    " 0.5743846356405602,\n",
    " -0.18805086358065454]]})\n",
    "\n",
    "results = pipeline.infer(data)\n",
    "display(results)\n",
    "inference_end = datetime.datetime.now()"
   ]
  },
  {
   "attachments": {},
   "cell_type": "markdown",
   "metadata": {},
   "source": [
    "### Pipeline Logs\n",
    "\n",
    "As the data was exported by the pipeline step as a pandas DataFrame, it will be reflected in the pipeline logs.  We'll retrieve the most recent log from our most recent inference."
   ]
  },
  {
   "cell_type": "code",
   "execution_count": 67,
   "metadata": {},
   "outputs": [
    {
     "name": "stderr",
     "output_type": "stream",
     "text": [
      "Pipeline log schema has changed over the logs requested 1 newest records retrieved successfully, newest record seen was at <datetime>. Please request additional records separately"
     ]
    },
    {
     "data": {
      "text/html": [
       "<div>\n",
       "<style scoped>\n",
       "    .dataframe tbody tr th:only-of-type {\n",
       "        vertical-align: middle;\n",
       "    }\n",
       "\n",
       "    .dataframe tbody tr th {\n",
       "        vertical-align: top;\n",
       "    }\n",
       "\n",
       "    .dataframe thead th {\n",
       "        text-align: right;\n",
       "    }\n",
       "</style>\n",
       "<table border=\"1\" class=\"dataframe\">\n",
       "  <thead>\n",
       "    <tr style=\"text-align: right;\">\n",
       "      <th></th>\n",
       "      <th>time</th>\n",
       "      <th>in.dense_2</th>\n",
       "      <th>out.output</th>\n",
       "      <th>check_failures</th>\n",
       "    </tr>\n",
       "  </thead>\n",
       "  <tbody>\n",
       "    <tr>\n",
       "      <th>0</th>\n",
       "      <td>2023-07-06 20:16:36.709</td>\n",
       "      <td>[12.886651]</td>\n",
       "      <td>[12.886651]</td>\n",
       "      <td>0</td>\n",
       "    </tr>\n",
       "  </tbody>\n",
       "</table>\n",
       "</div>"
      ],
      "text/plain": [
       "                     time   in.dense_2   out.output  check_failures\n",
       "0 2023-07-06 20:16:36.709  [12.886651]  [12.886651]               0"
      ]
     },
     "execution_count": 67,
     "metadata": {},
     "output_type": "execute_result"
    }
   ],
   "source": [
    "pipeline.logs()"
   ]
  },
  {
   "attachments": {},
   "cell_type": "markdown",
   "metadata": {},
   "source": [
    "### Undeploy the Pipeline\n",
    "\n",
    "With our tutorial complete, we'll undeploy the pipeline and return the resources back to the cluster.\n",
    "\n",
    "This process demonstrated how to structure a postprocessing Python script as a Wallaroo Pipeline step.  This can be used for pre or post processing, Python based models, and other use cases."
   ]
  },
  {
   "cell_type": "code",
   "execution_count": 68,
   "metadata": {},
   "outputs": [
    {
     "data": {
      "text/html": [
       "<table><tr><th>name</th> <td>python-step-demo-pipeline</td></tr><tr><th>created</th> <td>2023-07-06 20:16:21.940611+00:00</td></tr><tr><th>last_updated</th> <td>2023-07-06 20:17:24.393552+00:00</td></tr><tr><th>deployed</th> <td>False</td></tr><tr><th>tags</th> <td></td></tr><tr><th>versions</th> <td>109c9b04-692d-4027-a9b1-0b2c151de2d1, bd8e6576-39e3-4c25-8b08-684eec16e912, c66aae0f-2ead-421c-87a2-9de2d97bd371</td></tr><tr><th>steps</th> <td>house-price-sample</td></tr></table>"
      ],
      "text/plain": [
       "{'name': 'python-step-demo-pipeline', 'create_time': datetime.datetime(2023, 7, 6, 20, 16, 21, 940611, tzinfo=tzutc()), 'definition': \"[{'ModelInference': {'models': [{'name': 'house-price-sample', 'version': '232ed33b-a0be-4757-89c2-5a45d26125bb', 'sha': '809c9f9a3016e5ab2190900d5fcfa476ee7411aa7a9ac5d4041d1cbe874cf8b9'}]}}, {'ModelInference': {'models': [{'name': 'python-step', 'version': 'd9dff1ca-3346-4195-a909-0049c0ff57da', 'sha': '243f72a59b5df5068ee7616f5074294b0ec6b9d3a862b2648236a6b2f42f6b8a'}]}}]\"}"
      ]
     },
     "execution_count": 68,
     "metadata": {},
     "output_type": "execute_result"
    }
   ],
   "source": [
    "pipeline.undeploy()"
   ]
  }
 ],
 "metadata": {
  "kernelspec": {
   "display_name": "wallaroosdk2023.2.1",
   "language": "python",
   "name": "python3"
  },
  "language_info": {
   "codemirror_mode": {
    "name": "ipython",
    "version": 3
   },
   "file_extension": ".py",
   "mimetype": "text/x-python",
   "name": "python",
   "nbconvert_exporter": "python",
   "pygments_lexer": "ipython3",
   "version": "3.9.16"
  },
  "orig_nbformat": 4
 },
 "nbformat": 4,
 "nbformat_minor": 2
}
