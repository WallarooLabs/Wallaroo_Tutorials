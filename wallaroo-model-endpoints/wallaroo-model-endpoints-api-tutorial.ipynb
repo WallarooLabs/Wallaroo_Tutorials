{
 "cells": [
  {
   "cell_type": "markdown",
   "id": "5bc8a64b-35ff-48a7-952c-9c7b5eff80b9",
   "metadata": {},
   "source": [
    "This tutorial and the assets can be downloaded as part of the [Wallaroo Tutorials repository](https://github.com/WallarooLabs/Wallaroo_Tutorials/tree/main/wallaroo-model-endpoints).\n",
    "\n",
    "## External Pipeline Inference URL Tutorial\n",
    "\n",
    "Wallaroo provides the ability to perform inferences through deployed pipelines via both internal and external URLs.  These URLs allow inferences to be performed by submitting data to the internal or external URL, with the inference results returned in the same format as the [InferenceResult Object](https://docs.wallaroo.ai/wallaroo-developer-guides/wallaroo-sdk-guides/wallaroo-sdk-essentials-guide/#run-inference-through-a-pipeline).\n",
    "\n",
    "**Internal URLs** are available only through the internal Kubernetes environment hosting the Wallaroo instance as demonstrated in this tutorial.\n",
    "**External URLs** are available outside of the Kubernetes environment, such as the public internet.  These are demonstrated in the External Pipeline Deployment URL Tutorial.\n",
    "\n",
    "**IMPORTANT NOTE**:  Before starting this tutorial, the Internal Pipeline Deployment URL Tutorial must be completed to establish the Wallaroo workspace, pipeline and model to be used \n",
    "\n",
    "The following tutorial shows how to set up an environment and demonstrates how to use the External Deployment URL.  This example provides the following:\n",
    "\n",
    "* `data-1.json`, `data-1k.json` and `data-25k.json`:  Sample data used for testing inferences with the sample model."
   ]
  },
  {
   "cell_type": "markdown",
   "id": "d12ae9ea-8690-47b1-9d38-5a8881fce6f8",
   "metadata": {},
   "source": [
    "## Prerequisites\n",
    "\n",
    "1. Before running this sample notebook, verify that the Internal Pipeline Deployment URL Tutorial has been run.  This will create the workspace, pipeline, etc for the below example to run.\n",
    "1. Enable external URl inference endpoints through the Wallaroo Administrative Dashboard.  This can be accessed through the `kots` application as detailed in the [Wallaroo Install Guildes](https://docs.wallaroo.ai/wallaroo-operations-guide/wallaroo-install-guides/).  To access the Wallaroo Administrative Dashboard:\n",
    "    1. From a terminal shell connected to the Kubernetes environment hosting the Wallaroo instance, run the following `kots` command:\n",
    "\n",
    "      ```bash\n",
    "      kubectl kots admin-console --namespace wallaroo\n",
    "      ```\n",
    "\n",
    "      This provides the following standard output:\n",
    "\n",
    "      ```bash\n",
    "        • Press Ctrl+C to exit\n",
    "        • Go to http://localhost:8800 to access the Admin Console\n",
    "      ```\n",
    "\n",
    "      This will host a `http` connection to the Wallaroo Administrative Dashboard, by default at `http://localhost:8800`.\n",
    "\n",
    "    1. Open a browser at the URL detailed in the step above and authenticate using the console password set as described in the as detailed in the [Wallaroo Install Guildes](https://docs.wallaroo.ai/wallaroo-operations-guide/wallaroo-install-guides/).\n",
    "    1. From the top menu, select **Config** then verify that **Networking Configuration -> Ingress Mode for Wallaroo interactive services -> Enable external URL inference endpoints** is enabled.\n",
    "\n",
    "      ![](../images/wallaroo-tutorials/wallaroo-api/enable-external-url-config.png)\n",
    " \n",
    "    1. Save the updated configuration, then deploy it.  Once complete, the external URL inference endpoints will be enabled."
   ]
  },
  {
   "cell_type": "markdown",
   "id": "1cb8ed39-12f2-4e14-9695-f8f21e940490",
   "metadata": {},
   "source": [
    "### Set Variables\n",
    "\n",
    "The following variables are used for the example and should be modified to fit your organization.\n",
    "\n",
    "Wallaroo comes pre-installed with a confidential OpenID Connect client.  The default client is `api-client`, but other clients may be created and configured.\n",
    "\n",
    "As it is a confidential client, api-client requires its secret to be supplied when requesting a token. Administrators may obtain their API client credentials from Keycloak from the Keycloak Service URL as listed above and the prefix `/auth/admin/master/console/#/realms/master/clients`.\n",
    "\n",
    "For example, if the Wallaroo Community instance DNS address is `https://magical-rhino-5555.wallaroo.community`, then the direct path to the Keycloak API client credentials would be:\n",
    "\n",
    "`https://magical-rhino-5555.keycloak.wallaroo.community/auth/admin/master/console/#/realms/master/clients`\n",
    "\n",
    "Then select the client, in this case **api-client**, then **Credentials**.\n",
    "\n",
    "![Wallaroo Keycloak Service](../images/wallaroo-tutorials/wallaroo-api/wallaroo-api-keycloak-service.png)\n",
    "\n",
    "![Wallaroo Components](../images/wallaroo-tutorials/wallaroo-api/wallaroo-api-keycloak-credentials.png)\n",
    "\n",
    "By default, tokens issued for api-client are valid for up to 60 minutes. Refresh tokens are supported.\n",
    "\n",
    "Set the following variables from the list below:\n",
    "\n",
    "* `URLPREFIX`: The prefix for your Wallaroo instance.  For more information, see the [DNS Integration Guide](https://docs.wallaroo.ai/wallaroo-operations-guide/wallaroo-configuration/wallaroo-dns-guide/).\n",
    "* `URLSUFFIX`: The suffix for your Wallaroo instance.  For more information, see the [DNS Integration Guide](https://docs.wallaroo.ai/wallaroo-operations-guide/wallaroo-configuration/wallaroo-dns-guide/).\n",
    "* `CLIENT`: The client used as defined in the steps above.\n",
    "* `SECRET`: The credentials as defined in the steps above.\n",
    "* `USERNAME`: The Wallaroo user username, typically your email address.\n",
    "* `PASSWORD`: The Wallaroo user password."
   ]
  },
  {
   "cell_type": "code",
   "execution_count": 43,
   "id": "16515edf-4c1a-46e9-9bca-ad47fc4b9906",
   "metadata": {},
   "outputs": [
    {
     "name": "stdout",
     "output_type": "stream",
     "text": [
      "eyJhbGciOiJSUzI1NiIsInR5cCIgOiAiSldUIiwia2lkIiA6ICJibVMxOWtsa2NLZlFyMzUxTlVPeVlKSzdJNzhkQ3Rza0lYTENOOWx2SUpJIn0.eyJleHAiOjE2Njk4MjUzNjMsImlhdCI6MTY2OTgyMTc2MywianRpIjoiZTdmZmVlY2EtNTNiOC00Yjk1LTk5MDEtYzA4ODUwZGEyYjMyIiwiaXNzIjoiaHR0cHM6Ly9zcGFya2x5LWFwcGxlLTMwMjYua2V5Y2xvYWsud2FsbGFyb28uY29tbXVuaXR5L2F1dGgvcmVhbG1zL21hc3RlciIsImF1ZCI6WyJtYXN0ZXItcmVhbG0iLCJhY2NvdW50Il0sInN1YiI6Ijc0YTQxMDlhLTk3OTgtNGQ3Yy05OGJlLTYyZDkzODBjOTYwNiIsInR5cCI6IkJlYXJlciIsImF6cCI6ImFwaS1jbGllbnQiLCJzZXNzaW9uX3N0YXRlIjoiNDgxMWZkOGQtMjgzNy00MWE4LWEyNjctNjA3NGQ1YTU3ZTg3IiwiYWNyIjoiMSIsImFsbG93ZWQtb3JpZ2lucyI6WyIqIl0sInJlYWxtX2FjY2VzcyI6eyJyb2xlcyI6WyJjcmVhdGUtcmVhbG0iLCJkZWZhdWx0LXJvbGVzLW1hc3RlciIsIm9mZmxpbmVfYWNjZXNzIiwiYWRtaW4iLCJ1bWFfYXV0aG9yaXphdGlvbiJdfSwicmVzb3VyY2VfYWNjZXNzIjp7Im1hc3Rlci1yZWFsbSI6eyJyb2xlcyI6WyJ2aWV3LXJlYWxtIiwidmlldy1pZGVudGl0eS1wcm92aWRlcnMiLCJtYW5hZ2UtaWRlbnRpdHktcHJvdmlkZXJzIiwiaW1wZXJzb25hdGlvbiIsImNyZWF0ZS1jbGllbnQiLCJtYW5hZ2UtdXNlcnMiLCJxdWVyeS1yZWFsbXMiLCJ2aWV3LWF1dGhvcml6YXRpb24iLCJxdWVyeS1jbGllbnRzIiwicXVlcnktdXNlcnMiLCJtYW5hZ2UtZXZlbnRzIiwibWFuYWdlLXJlYWxtIiwidmlldy1ldmVudHMiLCJ2aWV3LXVzZXJzIiwidmlldy1jbGllbnRzIiwibWFuYWdlLWF1dGhvcml6YXRpb24iLCJtYW5hZ2UtY2xpZW50cyIsInF1ZXJ5LWdyb3VwcyJdfSwiYWNjb3VudCI6eyJyb2xlcyI6WyJtYW5hZ2UtYWNjb3VudCIsIm1hbmFnZS1hY2NvdW50LWxpbmtzIiwidmlldy1wcm9maWxlIl19fSwic2NvcGUiOiJlbWFpbCBwcm9maWxlIiwic2lkIjoiNDgxMWZkOGQtMjgzNy00MWE4LWEyNjctNjA3NGQ1YTU3ZTg3IiwiZW1haWxfdmVyaWZpZWQiOnRydWUsImh0dHBzOi8vaGFzdXJhLmlvL2p3dC9jbGFpbXMiOnsieC1oYXN1cmEtdXNlci1pZCI6Ijc0YTQxMDlhLTk3OTgtNGQ3Yy05OGJlLTYyZDkzODBjOTYwNiIsIngtaGFzdXJhLWRlZmF1bHQtcm9sZSI6InVzZXIiLCJ4LWhhc3VyYS1hbGxvd2VkLXJvbGVzIjpbInVzZXIiXSwieC1oYXN1cmEtdXNlci1ncm91cHMiOiJ7fSJ9LCJwcmVmZXJyZWRfdXNlcm5hbWUiOiJqb2huLmhhbnNhcmlja0B3YWxsYXJvby5haSIsImVtYWlsIjoiam9obi5oYW5zYXJpY2tAd2FsbGFyb28uYWkifQ.Hg-ChAQijlKcHzTGkBWC9xf8EYnt8Vsc7qN_DGptMd-GYk_cGS5T0CN8k1XetN8RrFiTE_bWNmnDx5eqEHafa0P4eA_hu-omgwhjkC0VgacayxdgmvFMBgVlWVb5xR8KQBVWc_OeDACvVFRUzrl21tYNy3IW3KWo084bhKDWUJRRvAN5pmwPeN3ese9tia7ZfFbKnEliVCBT74fLmsiJICxpd8tM2Vk9NE7mpMrMsNQI3YgsYJjpntvAiTir6VIYhPAzccrvtJWozuYdPVmrqfkf5ILEzeS1Y81A3W6NsLGeND38twC5LHOLxd4m3op1hzb-RKDgXhvF9uMVjrHuOA\n"
     ]
    }
   ],
   "source": [
    "import requests\n",
    "from requests.auth import HTTPBasicAuth\n",
    "\n",
    "import json\n",
    "\n",
    "# User Set Variables\n",
    "\n",
    "URLPREFIX='YOUR-PREFIX-HERE'\n",
    "URLSUFFIX='YOUR-SUFFIX-HERE'\n",
    "SECRET=\"YOUR-API-CREDENTIALS-HERE\"\n",
    "CLIENT=\"api-client\"\n",
    "USERNAME=\"WALLAROO-USERNAME-HERE\"\n",
    "PASSWORD=\"WALLAROO-PASSWORD-HERE\"\n",
    "\n",
    "\n",
    "# Derived variables\n",
    "TOKENURL=f'https://{URLPREFIX}.keycloak.{URLSUFFIX}/auth/realms/master/protocol/openid-connect/token'\n",
    "APIURL=f\"https://{URLPREFIX}.api.{URLSUFFIX}/v1/api\"\n",
    "\n",
    "def get_jwt_token(url, client, secret, username, password):\n",
    "    auth = HTTPBasicAuth(client, secret)\n",
    "    data = {\n",
    "        'grant_type': 'password',\n",
    "        'username': username,\n",
    "        'password': password\n",
    "    }\n",
    "    response = requests.post(url, auth=auth, data=data, verify=True)\n",
    "    return response.json()['access_token']\n",
    "\n",
    "TOKEN=get_jwt_token(TOKENURL, CLIENT, SECRET, USERNAME, PASSWORD)\n",
    "print(TOKEN)"
   ]
  },
  {
   "cell_type": "markdown",
   "id": "e508320a-7941-4073-9145-1409f5eb6607",
   "metadata": {},
   "source": [
    "### API Request Methods\n",
    "\n",
    "All Wallaroo API endpoints follow the format:\n",
    "\n",
    "* `https://$URLPREFIX.api.$URLSUFFIX/v1/api$COMMAND`\n",
    "\n",
    "Where `$COMMAND` is the specific endpoint.  For example, for the command to list of workspaces in the Wallaroo instance would use the above format based on these settings:\n",
    "\n",
    "* `$URLPREFIX`: `smooth-moose-1617`\n",
    "* `$URLSUFFIX`: `wallaroo.community`\n",
    "* `$COMMAND`: `/workspaces/list`\n",
    "\n",
    "This would create the following API endpoint:\n",
    "\n",
    "* `https://smooth-moose-1617.api.wallaroo.community/v1/api/workspaces/list`\n",
    "\n",
    "The following methods are used to connect to the Wallaroo API, and the external URL inference endpoints."
   ]
  },
  {
   "cell_type": "code",
   "execution_count": 44,
   "id": "4da2e0fb-ecaa-46b7-aa61-dc9d4d96909e",
   "metadata": {},
   "outputs": [],
   "source": [
    "# This can either submit a plain POST request ('Content-Type':'application/json'), or with a file.\n",
    "\n",
    "def get_wallaroo_response(url, api_request, token, data, files=None):\n",
    "    apiUrl=f\"{url}{api_request}\"\n",
    "    if files is None:\n",
    "        # Regular POST request\n",
    "        headers= {\n",
    "            'Authorization': 'Bearer ' + token,\n",
    "            'Content-Type':'application/json'\n",
    "        }\n",
    "        response = requests.post(apiUrl, json=data, headers=headers, verify=True)\n",
    "    else:\n",
    "        # POST request with file\n",
    "        headers= {\n",
    "            'Authorization': 'Bearer ' + token\n",
    "        }\n",
    "        response = requests.post(apiUrl, data=data, headers=headers, files=files, verify=True)\n",
    "    return response.json()"
   ]
  },
  {
   "cell_type": "markdown",
   "id": "41694f84-0dfc-4c51-bdc0-7f04a3d173ca",
   "metadata": {},
   "source": [
    "### Get External Inference URL\n",
    "\n",
    "The API command `/admin/get_pipeline_external_url` retrieves the external inference URL for a specific pipeline in a workspace.\n",
    "\n",
    "* **Parameters**\n",
    "  * **workspace_id** (*REQUIRED integer*):  The workspace integer id.\n",
    "  * **pipeline_name** (*REQUIRED string*): The name of the pipeline.\n",
    "\n",
    "In this example, a list of the workspaces will be retrieved.  Based on the setup from the Internal Pipeline Deployment URL Tutorial, the workspace matching `urlworkspace` will have it's **workspace id** stored and used for the `/admin/get_pipeline_external_url` request with the pipeline `urlpipeline`.\n",
    "\n",
    "The External Inference URL will be stored as a variable for the next step.\n",
    "\n",
    "Modify these values to match the ones used in the Internal Pipeline Deployment URL Tutorial."
   ]
  },
  {
   "cell_type": "code",
   "execution_count": 45,
   "id": "4f6b01dc-e783-409a-b00a-c8ea22313e9f",
   "metadata": {},
   "outputs": [
    {
     "data": {
      "text/plain": [
       "{'workspaces': [{'id': 5,\n",
       "   'name': 'john.hansarick@wallaroo.ai - Default Workspace',\n",
       "   'created_at': '2022-11-29T19:01:47.558267+00:00',\n",
       "   'created_by': '74a4109a-9798-4d7c-98be-62d9380c9606',\n",
       "   'archived': False,\n",
       "   'models': [],\n",
       "   'pipelines': []},\n",
       "  {'id': 15,\n",
       "   'name': 'alohaworkspace',\n",
       "   'created_at': '2022-11-29T19:24:16.056468+00:00',\n",
       "   'created_by': '74a4109a-9798-4d7c-98be-62d9380c9606',\n",
       "   'archived': False,\n",
       "   'models': [3],\n",
       "   'pipelines': [5]},\n",
       "  {'id': 16,\n",
       "   'name': 'urldemoworkspace',\n",
       "   'created_at': '2022-11-30T15:19:57.293347+00:00',\n",
       "   'created_by': '74a4109a-9798-4d7c-98be-62d9380c9606',\n",
       "   'archived': False,\n",
       "   'models': [4],\n",
       "   'pipelines': [8]}]}"
      ]
     },
     "execution_count": 45,
     "metadata": {},
     "output_type": "execute_result"
    }
   ],
   "source": [
    "## Start with the a lists of the workspaces to verify the ID\n",
    "\n",
    "# List workspaces\n",
    "\n",
    "apiRequest = \"/workspaces/list\"\n",
    "\n",
    "data = {\n",
    "}\n",
    "\n",
    "response = get_wallaroo_response(APIURL, apiRequest, TOKEN, data)\n",
    "response"
   ]
  },
  {
   "cell_type": "code",
   "execution_count": 46,
   "id": "bea12222",
   "metadata": {},
   "outputs": [
    {
     "data": {
      "text/plain": [
       "16"
      ]
     },
     "execution_count": 46,
     "metadata": {},
     "output_type": "execute_result"
    }
   ],
   "source": [
    "workspaceList = response['workspaces']\n",
    "workspaceId = list(filter(lambda x:x[\"name\"]==\"urldemoworkspace\",workspaceList))[0]['id']\n",
    "workspaceId"
   ]
  },
  {
   "cell_type": "code",
   "execution_count": 57,
   "id": "a2b73cd5-8fe3-4eb5-97a0-d0e796f00b6f",
   "metadata": {},
   "outputs": [
    {
     "data": {
      "text/plain": [
       "'https://sparkly-apple-3026.api.wallaroo.community/v1/api/pipelines/infer/urldemopipeline-5'"
      ]
     },
     "execution_count": 57,
     "metadata": {},
     "output_type": "execute_result"
    }
   ],
   "source": [
    "## Retrieve the pipeline's External Inference URL\n",
    "\n",
    "apiRequest = \"/admin/get_pipeline_external_url\"\n",
    "\n",
    "data = {\n",
    "    \"workspace_id\": workspaceId,\n",
    "    \"pipeline_name\": 'urldemopipeline'\n",
    "}\n",
    "\n",
    "response = get_wallaroo_response(APIURL, apiRequest, TOKEN, data)\n",
    "externalUrl = response['url']\n",
    "externalUrl"
   ]
  },
  {
   "cell_type": "markdown",
   "id": "3c4a0937",
   "metadata": {},
   "source": [
    "### Perform Inference Through External URL\n",
    "\n",
    "The inference can now be performed through the External Inference URL.  This URL will accept the same inference data file that is used with the Wallaroo SDK, or with an Internal Inference URL as used in the Internal Pipeline Inference URL Tutorial.\n",
    "\n",
    "For this example, the `externalUrl` retrieved through the [Get External Inference URL](#get-external-inference-url) is used to submit a single inference request through the data file `data-1.json`."
   ]
  },
  {
   "cell_type": "code",
   "execution_count": 59,
   "id": "caeb608e-2ee3-424c-80c6-9650d8a2facb",
   "metadata": {},
   "outputs": [
    {
     "name": "stdout",
     "output_type": "stream",
     "text": [
      "[{\"model_name\": \"urldemomodel\", \"model_version\": \"47299047-a3e0-4637-9b87-cc243f4552f3\", \"pipeline_name\": \"urldemopipeline\", \"outputs\": [{\"Float\": {\"v\": 1, \"dim\": [1000, 1], \"data\": [0.001519581419415772, 2.8375030524330214e-05, 3.0770573289373715e-07, 8.822828535468008e-13, 5.48706066183513e-06, 8.\n"
     ]
    }
   ],
   "source": [
    "## Inference through external URL\n",
    "\n",
    "# retrieve the json data to submit\n",
    "data = json.load(open('./data-1k.json','rb'))\n",
    "\n",
    "# set the headers\n",
    "headers= {\n",
    "        'Authorization': 'Bearer ' + TOKEN\n",
    "    }\n",
    "\n",
    "# submit the request via POST\n",
    "response = requests.post(externalUrl, json=data, headers=headers)\n",
    "\n",
    "# Only the first 300 characters will be displayed for brevity\n",
    "printResponse = json.dumps(response.json())\n",
    "print(printResponse[0:300])\n"
   ]
  },
  {
   "cell_type": "markdown",
   "id": "f5bb0222",
   "metadata": {},
   "source": [
    "Wallaroo supports the ability to perform inferences through the SDK and through the API for each deployed pipeline.  For more information on how to use Wallaroo, see the [Wallaroo Documentation Site](https://docs.wallaroo.ai) for full details."
   ]
  },
  {
   "cell_type": "markdown",
   "id": "97132c10",
   "metadata": {},
   "source": [
    "##"
   ]
  }
 ],
 "metadata": {
  "kernelspec": {
   "display_name": "Python 3.9.12 ('base')",
   "language": "python",
   "name": "python3"
  },
  "language_info": {
   "codemirror_mode": {
    "name": "ipython",
    "version": 3
   },
   "file_extension": ".py",
   "mimetype": "text/x-python",
   "name": "python",
   "nbconvert_exporter": "python",
   "pygments_lexer": "ipython3",
   "version": "3.9.15"
  },
  "vscode": {
   "interpreter": {
    "hash": "38cca0c38332a56087b24af0bc80247f4fced29cb4f7f437d91dc159adec9c4e"
   }
  }
 },
 "nbformat": 4,
 "nbformat_minor": 5
}
