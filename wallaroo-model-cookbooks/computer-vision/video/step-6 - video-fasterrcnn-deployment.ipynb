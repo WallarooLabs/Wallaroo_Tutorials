{
 "cells": [
  {
   "cell_type": "markdown",
   "metadata": {},
   "source": [
    "# Detecting Objects using the Wallaroo faster-rcnn Pipeline in a Video Stream"
   ]
  },
  {
   "cell_type": "markdown",
   "metadata": {},
   "source": [
    "In this tutorial we will explore using the mobilenet pipeline we created in step 3 to run inference on the frames in a Video and then draw the identified object's bounding boxes, classification and classification confidence."
   ]
  },
  {
   "cell_type": "code",
   "execution_count": 1,
   "metadata": {},
   "outputs": [
    {
     "name": "stdout",
     "output_type": "stream",
     "text": [
      "Requirement already satisfied: imutils in /opt/conda/lib/python3.9/site-packages (0.5.4)\n"
     ]
    },
    {
     "name": "stderr",
     "output_type": "stream",
     "text": [
      "/opt/conda/lib/python3.9/site-packages/tqdm/auto.py:22: TqdmWarning: IProgress not found. Please update jupyter and ipywidgets. See https://ipywidgets.readthedocs.io/en/stable/user_install.html\n",
      "  from .autonotebook import tqdm as notebook_tqdm\n"
     ]
    }
   ],
   "source": [
    "!pip install imutils\n",
    "\n",
    "import torch\n",
    "import pickle\n",
    "import wallaroo\n",
    "import os\n",
    "import numpy as np\n",
    "import json\n",
    "import requests\n",
    "import time\n",
    "import imutils\n",
    "from CVDemoUtils import CVDemo\n"
   ]
  },
  {
   "cell_type": "code",
   "execution_count": 2,
   "metadata": {},
   "outputs": [],
   "source": [
    "wl = wallaroo.Client()"
   ]
  },
  {
   "cell_type": "code",
   "execution_count": 3,
   "metadata": {},
   "outputs": [],
   "source": [
    "ws = wl.list_workspaces()\n",
    "for w in ws:\n",
    "    if w.name() == 'computer-vision':\n",
    "        wl.set_current_workspace(w)"
   ]
  },
  {
   "cell_type": "code",
   "execution_count": 4,
   "metadata": {},
   "outputs": [],
   "source": [
    "model_name = 'resnet50'\n",
    "onnx_model_path = 'models/frcnn-resnet.pt.onnx'\n",
    "resnet_model = wl.upload_model(model_name, onnx_model_path)"
   ]
  },
  {
   "cell_type": "code",
   "execution_count": 5,
   "metadata": {},
   "outputs": [],
   "source": [
    "deployment_config = wallaroo.DeploymentConfigBuilder().replica_count(1).cpus(2).memory(\"12Gi\").build()"
   ]
  },
  {
   "cell_type": "code",
   "execution_count": 6,
   "metadata": {},
   "outputs": [
    {
     "name": "stdout",
     "output_type": "stream",
     "text": [
      " ok\n"
     ]
    }
   ],
   "source": [
    "pipeline_name = 'resnet-pp'\n",
    "pipeline = wl.build_pipeline('resnet-pp') \\\n",
    "            .add_model_step(resnet_model) \\\n",
    "            .deploy(deployment_config = deployment_config)"
   ]
  },
  {
   "cell_type": "code",
   "execution_count": 7,
   "metadata": {},
   "outputs": [
    {
     "name": "stdout",
     "output_type": "stream",
     "text": [
      "http://engine-lb.resnet-pp-971:29502/pipelines/resnet-pp\n"
     ]
    }
   ],
   "source": [
    "time.sleep(5) # needed to allow the pipeline to settle in.\n",
    "url = pipeline._deployment._url()\n",
    "print(url)"
   ]
  },
  {
   "cell_type": "code",
   "execution_count": null,
   "metadata": {},
   "outputs": [],
   "source": []
  },
  {
   "cell_type": "markdown",
   "metadata": {},
   "source": [
    "## Test the pipeline in a video stream"
   ]
  },
  {
   "cell_type": "markdown",
   "metadata": {
    "tags": []
   },
   "source": [
    "### Detect and Classify Objects in Video using Wallaroo Shadow Deployment\n",
    "\n",
    "Each frame in the input-video will be fed to the pipeline for inferencing"
   ]
  },
  {
   "cell_type": "code",
   "execution_count": 8,
   "metadata": {},
   "outputs": [
    {
     "name": "stdout",
     "output_type": "stream",
     "text": [
      "11-11-2022 11:58:31.533845 Start Time:06:58:31 AM\n",
      "11-11-2022 11:58:31.533916 Skipping [150] frames\n",
      "11-11-2022 11:58:31.544183 Video Properties\n",
      "11-11-2022 11:58:31.544256    video input:videos/amazon-fresh-go.mp4\n",
      "11-11-2022 11:58:31.544272    video output:videos/amazon-fresh-go-resnet50-inferenced.mp4\n",
      "11-11-2022 11:58:31.544313    format:0.0\n",
      "11-11-2022 11:58:31.544330    fourcc:828601953.0\n",
      "11-11-2022 11:58:31.544344    mode:0.0\n",
      "11-11-2022 11:58:31.544355    buffer:0.0\n",
      "11-11-2022 11:58:31.544370    width:1280.0\n",
      "11-11-2022 11:58:31.544382    height:720.0\n",
      "11-11-2022 11:58:31.544395    fps:25.0\n",
      "11-11-2022 11:58:31.544462    frame size:(640, 630)\n",
      "11-11-2022 11:58:31.545754 recordStartFrame:0\n",
      "11-11-2022 11:58:31.545788 recordEndFrame:0\n",
      "11-11-2022 11:58:35.278276 Frame:150 Read: 0.0011 Inf: 3.1231 Onnx: 0.0007 Draw: 0.0059 Total: 3.2335\n",
      "11-11-2022 11:58:39.012735 Frame:151 Read: 0.0015 Inf: 3.6832 Onnx: 0.0003 Draw: 0.0067 Total: 3.7340\n",
      "11-11-2022 11:58:42.653583 Frame:152 Read: 0.0012 Inf: 3.5846 Onnx: 0.0002 Draw: 0.0055 Total: 3.6407\n",
      "11-11-2022 11:58:45.849668 Frame:153 Read: 0.0013 Inf: 3.1417 Onnx: 0.0008 Draw: 0.0081 Total: 3.1959\n",
      "11-11-2022 11:58:49.531660 Frame:154 Read: 0.0015 Inf: 3.6289 Onnx: 0.0003 Draw: 0.0053 Total: 3.6818\n",
      "11-11-2022 11:58:52.748654 Frame:155 Read: 0.0012 Inf: 3.1668 Onnx: 0.0008 Draw: 0.0052 Total: 3.2169\n",
      "11-11-2022 11:58:56.093626 Frame:156 Read: 0.0012 Inf: 3.2944 Onnx: 0.0009 Draw: 0.0054 Total: 3.3448\n",
      "11-11-2022 11:58:59.797328 Frame:157 Read: 0.0015 Inf: 3.6493 Onnx: 0.0002 Draw: 0.0051 Total: 3.7036\n",
      "11-11-2022 11:59:02.932459 Frame:158 Read: 0.0012 Inf: 3.0840 Onnx: 0.0007 Draw: 0.0055 Total: 3.1350\n",
      "11-11-2022 11:59:06.534659 Frame:159 Read: 0.0013 Inf: 3.5477 Onnx: 0.0002 Draw: 0.0067 Total: 3.6019\n",
      "11-11-2022 11:59:10.106560 Frame:160 Read: 0.0012 Inf: 3.5230 Onnx: 0.0002 Draw: 0.0052 Total: 3.5718\n",
      "11-11-2022 11:59:13.220620 Frame:161 Read: 0.0013 Inf: 3.0633 Onnx: 0.0007 Draw: 0.0051 Total: 3.1139\n",
      "11-11-2022 11:59:16.903994 Frame:162 Read: 0.0011 Inf: 3.6338 Onnx: 0.0002 Draw: 0.0057 Total: 3.6832\n",
      "11-11-2022 11:59:20.213222 Frame:163 Read: 0.0012 Inf: 3.2542 Onnx: 0.0008 Draw: 0.0054 Total: 3.3091\n",
      "11-11-2022 11:59:23.610992 Frame:164 Read: 0.0022 Inf: 3.3436 Onnx: 0.0000 Draw: 0.0054 Total: 3.3976\n",
      "11-11-2022 11:59:27.290131 Frame:165 Read: 0.0012 Inf: 3.6231 Onnx: 0.0002 Draw: 0.0060 Total: 3.6790\n",
      "11-11-2022 11:59:30.383591 Frame:166 Read: 0.0020 Inf: 3.0408 Onnx: 0.0007 Draw: 0.0050 Total: 3.0933\n",
      "11-11-2022 11:59:34.165033 Frame:167 Read: 0.0019 Inf: 3.7292 Onnx: 0.0003 Draw: 0.0051 Total: 3.7813\n",
      "11-11-2022 11:59:37.488454 Frame:168 Read: 0.0018 Inf: 3.2715 Onnx: 0.0009 Draw: 0.0051 Total: 3.3233\n",
      "11-11-2022 11:59:40.636282 Frame:169 Read: 0.0013 Inf: 3.0938 Onnx: 0.0007 Draw: 0.0055 Total: 3.1477\n",
      "11-11-2022 11:59:44.459595 Frame:170 Read: 0.0024 Inf: 3.7694 Onnx: 0.0003 Draw: 0.0052 Total: 3.8232\n",
      "11-11-2022 11:59:47.889476 Frame:171 Read: 0.0018 Inf: 3.3785 Onnx: 0.0001 Draw: 0.0052 Total: 3.4297\n",
      "11-11-2022 11:59:51.042872 Frame:172 Read: 0.0024 Inf: 3.0952 Onnx: 0.0007 Draw: 0.0071 Total: 3.1532\n",
      "11-11-2022 11:59:54.770529 Frame:173 Read: 0.0014 Inf: 3.6741 Onnx: 0.0003 Draw: 0.0066 Total: 3.7275\n",
      "11-11-2022 11:59:58.057192 Frame:174 Read: 0.0029 Inf: 3.2273 Onnx: 0.0008 Draw: 0.0069 Total: 3.2865\n",
      "11-11-2022 12:00:01.481764 Frame:175 Read: 0.0013 Inf: 3.3695 Onnx: 0.0000 Draw: 0.0050 Total: 3.4244\n",
      "11-11-2022 12:00:05.357648 Frame:176 Read: 0.0023 Inf: 3.8185 Onnx: 0.0003 Draw: 0.0050 Total: 3.8757\n",
      "11-11-2022 12:00:08.485910 Frame:177 Read: 0.0018 Inf: 3.0770 Onnx: 0.0007 Draw: 0.0058 Total: 3.1281\n",
      "11-11-2022 12:00:12.294361 Frame:178 Read: 0.0014 Inf: 3.7612 Onnx: 0.0003 Draw: 0.0041 Total: 3.8083\n",
      "11-11-2022 12:00:15.812053 Frame:179 Read: 0.0015 Inf: 3.4671 Onnx: 0.0001 Draw: 0.0040 Total: 3.5176\n",
      "11-11-2022 12:00:18.941084 Frame:180 Read: 0.0018 Inf: 3.0777 Onnx: 0.0007 Draw: 0.0039 Total: 3.1289\n",
      "11-11-2022 12:00:22.641910 Frame:181 Read: 0.0018 Inf: 3.6499 Onnx: 0.0003 Draw: 0.0041 Total: 3.7007\n",
      "11-11-2022 12:00:25.843903 Frame:182 Read: 0.0018 Inf: 3.1509 Onnx: 0.0008 Draw: 0.0042 Total: 3.2016\n",
      "11-11-2022 12:00:29.366747 Frame:183 Read: 0.0018 Inf: 3.4696 Onnx: 0.0001 Draw: 0.0043 Total: 3.5227\n",
      "11-11-2022 12:00:32.946701 Frame:184 Read: 0.0017 Inf: 3.5299 Onnx: 0.0002 Draw: 0.0044 Total: 3.5798\n",
      "11-11-2022 12:00:36.077460 Frame:185 Read: 0.0018 Inf: 3.0800 Onnx: 0.0007 Draw: 0.0044 Total: 3.1306\n",
      "11-11-2022 12:00:39.811004 Frame:186 Read: 0.0012 Inf: 3.6840 Onnx: 0.0003 Draw: 0.0044 Total: 3.7334\n",
      "11-11-2022 12:00:43.363152 Frame:187 Read: 0.0018 Inf: 3.5020 Onnx: 0.0001 Draw: 0.0042 Total: 3.5520\n",
      "11-11-2022 12:00:46.519888 Frame:188 Read: 0.0012 Inf: 3.1076 Onnx: 0.0007 Draw: 0.0045 Total: 3.1566\n",
      "11-11-2022 12:00:50.320266 Frame:189 Read: 0.0012 Inf: 3.7516 Onnx: 0.0003 Draw: 0.0042 Total: 3.8000\n",
      "11-11-2022 12:00:53.526892 Frame:190 Read: 0.0013 Inf: 3.1579 Onnx: 0.0008 Draw: 0.0042 Total: 3.2065\n",
      "11-11-2022 12:00:57.039025 Frame:191 Read: 0.0018 Inf: 3.4580 Onnx: 0.0001 Draw: 0.0056 Total: 3.5120\n",
      "11-11-2022 12:01:00.763614 Frame:192 Read: 0.0015 Inf: 3.6707 Onnx: 0.0003 Draw: 0.0042 Total: 3.7241\n",
      "11-11-2022 12:01:03.888455 Frame:193 Read: 0.0015 Inf: 3.0737 Onnx: 0.0007 Draw: 0.0044 Total: 3.1247\n",
      "11-11-2022 12:01:07.554580 Frame:194 Read: 0.0012 Inf: 3.6182 Onnx: 0.0002 Draw: 0.0043 Total: 3.6660\n",
      "11-11-2022 12:01:11.115065 Frame:195 Read: 0.0023 Inf: 3.5121 Onnx: 0.0001 Draw: 0.0042 Total: 3.5603\n",
      "11-11-2022 12:01:14.362329 Frame:196 Read: 0.0012 Inf: 3.1989 Onnx: 0.0008 Draw: 0.0044 Total: 3.2471\n",
      "11-11-2022 12:01:18.173730 Frame:197 Read: 0.0014 Inf: 3.7626 Onnx: 0.0003 Draw: 0.0049 Total: 3.8113\n",
      "11-11-2022 12:01:21.337718 Frame:198 Read: 0.0012 Inf: 3.1158 Onnx: 0.0007 Draw: 0.0046 Total: 3.1638\n",
      "11-11-2022 12:01:25.025024 Frame:199 Read: 0.0012 Inf: 3.6322 Onnx: 0.0003 Draw: 0.0049 Total: 3.6872\n",
      "11-11-2022 12:01:28.604861 Frame:200 Read: 0.0018 Inf: 3.5269 Onnx: 0.0001 Draw: 0.0043 Total: 3.5797\n",
      "11-11-2022 12:01:31.790400 Frame:201 Read: 0.0014 Inf: 3.1344 Onnx: 0.0007 Draw: 0.0043 Total: 3.1854\n",
      "11-11-2022 12:01:35.589324 Frame:202 Read: 0.0017 Inf: 3.7451 Onnx: 0.0003 Draw: 0.0046 Total: 3.7988\n",
      "11-11-2022 12:01:39.052293 Frame:203 Read: 0.0012 Inf: 3.4134 Onnx: 0.0000 Draw: 0.0044 Total: 3.4628\n",
      "11-11-2022 12:01:42.331572 Frame:204 Read: 0.0012 Inf: 3.2322 Onnx: 0.0008 Draw: 0.0044 Total: 3.2791\n",
      "11-11-2022 12:01:46.137908 Frame:205 Read: 0.0012 Inf: 3.7607 Onnx: 0.0004 Draw: 0.0045 Total: 3.8062\n",
      "11-11-2022 12:01:49.289877 Frame:206 Read: 0.0017 Inf: 3.1031 Onnx: 0.0007 Draw: 0.0045 Total: 3.1518\n",
      "11-11-2022 12:01:52.989064 Frame:207 Read: 0.0012 Inf: 3.6526 Onnx: 0.0003 Draw: 0.0045 Total: 3.6990\n",
      "11-11-2022 12:01:56.664484 Frame:208 Read: 0.0012 Inf: 3.6243 Onnx: 0.0002 Draw: 0.0044 Total: 3.6753\n",
      "11-11-2022 12:02:00.253352 Frame:209 Read: 0.0014 Inf: 3.5352 Onnx: 0.0007 Draw: 0.0047 Total: 3.5887\n",
      "11-11-2022 12:02:04.638545 Frame:210 Read: 0.0021 Inf: 4.2849 Onnx: 0.0003 Draw: 0.0048 Total: 4.3851\n",
      "11-11-2022 12:02:07.828524 Frame:211 Read: 0.0013 Inf: 3.1351 Onnx: 0.0007 Draw: 0.0048 Total: 3.1898\n",
      "11-11-2022 12:02:11.620058 Frame:212 Read: 0.0019 Inf: 3.7381 Onnx: 0.0003 Draw: 0.0043 Total: 3.7914\n",
      "11-11-2022 12:02:15.281446 Frame:213 Read: 0.0014 Inf: 3.6103 Onnx: 0.0002 Draw: 0.0057 Total: 3.6612\n",
      "11-11-2022 12:02:19.202415 Frame:214 Read: 0.0017 Inf: 3.8683 Onnx: 0.0007 Draw: 0.0046 Total: 3.9209\n",
      "11-11-2022 12:02:22.810414 Frame:215 Read: 0.0012 Inf: 3.5582 Onnx: 0.0001 Draw: 0.0042 Total: 3.6079\n",
      "11-11-2022 12:02:26.514130 Frame:216 Read: 0.0017 Inf: 3.6525 Onnx: 0.0001 Draw: 0.0042 Total: 3.7036\n",
      "11-11-2022 12:02:29.667227 Frame:217 Read: 0.0013 Inf: 3.1021 Onnx: 0.0007 Draw: 0.0044 Total: 3.1530\n",
      "11-11-2022 12:02:33.428472 Exiting\n",
      "11-11-2022 12:02:33.455497 Finished writing video:videos/amazon-fresh-go-resnet50-inferenced.mp4\n",
      "11-11-2022 12:02:33.455660 End Time:07:02:33\n",
      "We are done.\n"
     ]
    }
   ],
   "source": [
    "# The size the image will be resized to\n",
    "width = 640\n",
    "height = 480\n",
    "\n",
    "cvDemo = CVDemo()\n",
    "\n",
    "input_video = \"videos/amazon-fresh-go.mp4\"\n",
    "output_video = \"videos/amazon-fresh-go-resnet50-inferenced.mp4\"\n",
    "\n",
    "#input_video = \"videos/ww2-warbirds-in-formation.mp4\"\n",
    "#output_video = \"videos/ww2-warbirds-in-formation-inferenced.mp4\"\n",
    "\n",
    "config = {\n",
    "    'input-video' : input_video, # source video\n",
    "    'output-video' : output_video, # show the input video with the inferenced results drawn on each frame\n",
    "    'fps' : 15, # Frames per second\n",
    "    'endpoint-url' : url, # the pipelines rest api endpoint url\n",
    "    'width' : width, # the width of the url\n",
    "    'height' : height, # the height of the url\n",
    "    #'max-frames' : 400, # the # of frames to capture in the output video\n",
    "    'skip-frames' : 150, # the # of frames to capture in the output video\n",
    "    'confidence-target' : 0.90, # only display bounding boxes with confidence > provided #\n",
    "    'color': CVDemo.CYAN, # color to draw bounding boxes and the text in the statistics\n",
    "    'inference' : 'WALLAROO_SDK', # \"ONNX\" or \"WALLAROO_API\" or \"WALLAROO_SDK\"\n",
    "    'onnx_model_path' : onnx_model_path,\n",
    "    'model_name' : model_name,\n",
    "    'pipeline' : pipeline, # provide this when using inference WALLAROO_SDK \n",
    "    'pipeline_name' : pipeline_name\n",
    "}\n",
    "cvDemo.DEBUG = False\n",
    "cvDemo.detectAndClassifyObjectsInVideo(config)\n",
    "print(\"We are done.\")\n"
   ]
  },
  {
   "cell_type": "code",
   "execution_count": 9,
   "metadata": {},
   "outputs": [],
   "source": [
    "#pipeline.undeploy()\n",
    "#for d in wl.list_deployments():\n",
    "#    d.undeploy()\n",
    "    "
   ]
  },
  {
   "cell_type": "markdown",
   "metadata": {},
   "source": [
    "Please be patient i"
   ]
  },
  {
   "cell_type": "markdown",
   "metadata": {},
   "source": [
    "### Conclusion\n",
    "\n",
    "Notice how simple it is to take the mobilenet object detectors rest api endpoint url and use it in a video stream.  Now its your turn.  Upload a video to this notebook and replace the input-video with the path of the uploaded video.  Update the output video accordingly.\n",
    "\n",
    "See how well it works for you.  Good luck!\n"
   ]
  },
  {
   "cell_type": "code",
   "execution_count": null,
   "metadata": {},
   "outputs": [],
   "source": []
  },
  {
   "cell_type": "code",
   "execution_count": null,
   "metadata": {},
   "outputs": [],
   "source": []
  },
  {
   "cell_type": "code",
   "execution_count": 16,
   "metadata": {},
   "outputs": [
    {
     "data": {
      "text/plain": [
       "0.051461"
      ]
     },
     "execution_count": 16,
     "metadata": {},
     "output_type": "execute_result"
    }
   ],
   "source": [
    "from datetime import timedelta\n",
    "delta = timedelta(microseconds=51461)\n",
    "int(51461) / 1e+6"
   ]
  },
  {
   "cell_type": "code",
   "execution_count": null,
   "metadata": {},
   "outputs": [],
   "source": []
  }
 ],
 "metadata": {
  "kernelspec": {
   "display_name": "Python 3 (ipykernel)",
   "language": "python",
   "name": "python3"
  },
  "language_info": {
   "codemirror_mode": {
    "name": "ipython",
    "version": 3
   },
   "file_extension": ".py",
   "mimetype": "text/x-python",
   "name": "python",
   "nbconvert_exporter": "python",
   "pygments_lexer": "ipython3",
   "version": "3.9.13"
  }
 },
 "nbformat": 4,
 "nbformat_minor": 4
}
