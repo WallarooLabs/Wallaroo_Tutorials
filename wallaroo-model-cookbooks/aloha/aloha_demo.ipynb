{
 "cells": [
  {
   "attachments": {},
   "cell_type": "markdown",
   "metadata": {},
   "source": [
    "This tutorial and the assets can be downloaded as part of the [Wallaroo Tutorials repository](https://github.com/WallarooLabs/Wallaroo_Tutorials/tree/main/wallaroo-model-cookbooks/aloha).\n",
    "\n",
    "## Aloha Demo\n",
    "\n",
    "In this notebook we will walk through a simple pipeline deployment to inference on a model. For this example we will be using an open source model that uses an [Aloha CNN LSTM model](https://www.researchgate.net/publication/348920204_Using_Auxiliary_Inputs_in_Deep_Learning_Models_for_Detecting_DGA-based_Domain_Names) for classifying Domain names as being either legitimate or being used for nefarious purposes such as malware distribution.  \n",
    "\n",
    "## Prerequisites\n",
    "\n",
    "* An installed Wallaroo instance.\n",
    "* The following Python libraries installed:\n",
    "  * `os`\n",
    "  * [`wallaroo`](https://pypi.org/project/wallaroo/): The Wallaroo SDK. Included with the Wallaroo JupyterHub service by default.\n",
    "  * [`pandas`](https://pypi.org/project/pandas/): Pandas, mainly used for Pandas DataFrame\n",
    "  * [`pyarrow`](https://pypi.org/project/pyarrow/): PyArrow for Apache Arrow support\n",
    "\n",
    "## Tutorial Goals\n",
    "\n",
    "For our example, we will perform the following:\n",
    "\n",
    "* Create a workspace for our work.\n",
    "* Upload the Aloha model.\n",
    "* Create a pipeline that can ingest our submitted data, submit it to the model, and export the results\n",
    "* Run a sample inference through our pipeline by loading a file\n",
    "* Run a sample inference through our pipeline's URL and store the results in a file.\n",
    "\n",
    "All sample data and models are available through the [Wallaroo Quick Start Guide Samples repository](https://github.com/WallarooLabs/quickstartguide_samples)."
   ]
  },
  {
   "attachments": {},
   "cell_type": "markdown",
   "metadata": {},
   "source": [
    "### Connect to the Wallaroo Instance\n",
    "\n",
    "The first step is to connect to Wallaroo through the Wallaroo client.  The Python library is included in the Wallaroo install and available through the Jupyter Hub interface provided with your Wallaroo environment.\n",
    "\n",
    "This is accomplished using the `wallaroo.Client()` command, which provides a URL to grant the SDK permission to your specific Wallaroo environment.  When displayed, enter the URL into a browser and confirm permissions.  Store the connection into a variable that can be referenced later.\n",
    "\n",
<<<<<<< HEAD
<<<<<<< HEAD
    "If logging into the Wallaroo instance through the internal JupyterHub service, use `wl = wallaroo.Client()`.  For more information on Wallaroo Client settings, see the [Client Connection guide](https://docs.wallaroo.ai/wallaroo-developer-guides/wallaroo-sdk-guides/wallaroo-sdk-essentials-guide/wallaroo-sdk-essentials-client/).e/wallaroo-sdk-essentials-client/)."
=======
    "If logging into the Wallaroo instance through the internal JupyterHub service, use `wl = wallaroo.Client()`.  If logging in externally, update the `wallarooPrefix` and `wallarooSuffix` variables with the proper DNS information.  For more information on Wallaroo DNS settings, see the [Wallaroo DNS Integration Guide](https://docs.wallaroo.ai/wallaroo-operations-guide/wallaroo-configuration/wallaroo-dns-guide/)."
>>>>>>> d5e9007 (removed polars and simplified login.)
=======
    "If logging into the Wallaroo instance through the internal JupyterHub service, use `wl = wallaroo.Client()`.  For more information on Wallaroo DNS settings, see the [Wallaroo DNS Integration Guide](https://docs.wallaroo.ai/wallaroo-operations-guide/wallaroo-configuration/wallaroo-dns-guide/)."
>>>>>>> 116b655 (updated and corrected prefix links.)
   ]
  },
  {
   "cell_type": "code",
   "execution_count": 1,
   "metadata": {},
   "outputs": [],
   "source": [
    "import wallaroo\n",
    "from wallaroo.object import EntityNotFoundError\n",
    "\n",
    "# to display dataframe tables\n",
    "from IPython.display import display\n",
    "# used to display dataframe information without truncating\n",
    "import pandas as pd\n",
    "pd.set_option('display.max_colwidth', None)\n",
<<<<<<< HEAD
<<<<<<< HEAD
    "import pyarrow as pa"
=======
    "import pyarrow as pa\n",
    "\n",
    "import os\n",
    "# Used for the Wallaroo SDK version 2023.1\n",
    "os.environ[\"ARROW_ENABLED\"]=\"True\""
>>>>>>> d5e9007 (removed polars and simplified login.)
=======
    "import pyarrow as pa"
>>>>>>> 07b717a (pipeline logs and other updates/)
   ]
  },
  {
   "cell_type": "code",
   "execution_count": null,
   "metadata": {},
   "outputs": [],
   "source": [
    "# Login through local Wallaroo instance\n",
    "\n",
    "wl = wallaroo.Client()"
   ]
  },
  {
   "attachments": {},
   "cell_type": "markdown",
   "metadata": {},
   "source": [
    "## Create the Workspace\n",
    "\n",
    "We will create a workspace to work in and call it the \"alohaworkspace\", then set it as current workspace environment.  We'll also create our pipeline in advance as `alohapipeline`.  The model name and the model file will be specified for use in later steps.\n",
    "\n",
    "To allow this tutorial to be run multiple times or by multiple users in the same Wallaroo instance, a random 4 character prefix will be added to the workspace, pipeline, and model."
   ]
  },
  {
   "cell_type": "code",
   "execution_count": 3,
   "metadata": {},
   "outputs": [],
   "source": [
    "import string\n",
    "import random\n",
    "\n",
    "# make a random 4 character suffix to verify uniqueness in tutorials\n",
    "suffix= ''.join(random.choice(string.ascii_lowercase) for i in range(4))\n",
    "workspace_name = f'alohaworkspace{suffix}'\n",
    "pipeline_name = f'alohapipeline{suffix}'\n",
    "model_name = f'alohamodel{suffix}'\n",
    "model_file_name = './alohacnnlstm.zip'"
   ]
  },
  {
   "cell_type": "code",
   "execution_count": 4,
   "metadata": {},
   "outputs": [],
   "source": [
    "def get_workspace(name):\n",
    "    workspace = None\n",
    "    for ws in wl.list_workspaces():\n",
    "        if ws.name() == name:\n",
    "            workspace= ws\n",
    "    if(workspace == None):\n",
    "        workspace = wl.create_workspace(name)\n",
    "    return workspace\n",
    "\n",
    "def get_pipeline(name):\n",
    "    try:\n",
    "        pipeline = wl.pipelines_by_name(name)[0]\n",
    "    except EntityNotFoundError:\n",
    "        pipeline = wl.build_pipeline(name)\n",
    "    return pipeline"
   ]
  },
  {
   "cell_type": "code",
   "execution_count": 5,
   "metadata": {},
   "outputs": [
    {
     "data": {
<<<<<<< HEAD
<<<<<<< HEAD
      "text/plain": [
       "[{'name': 'john.hummel@wallaroo.ai - Default Workspace', 'id': 1, 'archived': False, 'created_by': '4e296632-35b3-460e-85fe-565e311bc566', 'created_at': '2023-07-13T15:34:04.752818+00:00', 'models': [], 'pipelines': []},\n",
       " {'name': 'hf-zero-shot-classificationeibt', 'id': 6, 'archived': False, 'created_by': '4e296632-35b3-460e-85fe-565e311bc566', 'created_at': '2023-07-13T15:36:45.650031+00:00', 'models': [{'name': 'hf-zero-shot-classification', 'versions': 1, 'owner_id': '\"\"', 'last_update_time': datetime.datetime(2023, 7, 13, 15, 36, 46, 747852, tzinfo=tzutc()), 'created_at': datetime.datetime(2023, 7, 13, 15, 36, 46, 747852, tzinfo=tzutc())}], 'pipelines': [{'name': 'hf-zero-shot-classification', 'create_time': datetime.datetime(2023, 7, 13, 15, 36, 45, 831418, tzinfo=tzutc()), 'definition': '[]'}]},\n",
       " {'name': 'hugging-face-zero-shot-apibcnr', 'id': 7, 'archived': False, 'created_by': '4e296632-35b3-460e-85fe-565e311bc566', 'created_at': '2023-07-13T15:42:31.306378+00:00', 'models': [], 'pipelines': []},\n",
       " {'name': 'hugging-face-zero-shot-apiiwjo', 'id': 8, 'archived': False, 'created_by': '4e296632-35b3-460e-85fe-565e311bc566', 'created_at': '2023-07-13T15:44:04.545942+00:00', 'models': [{'name': 'zero-shot-classification', 'versions': 5, 'owner_id': '\"\"', 'last_update_time': datetime.datetime(2023, 7, 13, 15, 44, 46, 603957, tzinfo=tzutc()), 'created_at': datetime.datetime(2023, 7, 13, 15, 44, 9, 342564, tzinfo=tzutc())}], 'pipelines': []},\n",
       " {'name': 'hugging-face-zero-shot-apidkmk', 'id': 9, 'archived': False, 'created_by': '4e296632-35b3-460e-85fe-565e311bc566', 'created_at': '2023-07-13T15:45:38.796514+00:00', 'models': [{'name': 'zero-shot-classification', 'versions': 3, 'owner_id': '\"\"', 'last_update_time': datetime.datetime(2023, 7, 13, 15, 50, 1, 258107, tzinfo=tzutc()), 'created_at': datetime.datetime(2023, 7, 13, 15, 45, 46, 914881, tzinfo=tzutc())}], 'pipelines': [{'name': 'hugging-face-zero-shot', 'create_time': datetime.datetime(2023, 7, 13, 15, 47, 31, 963109, tzinfo=tzutc()), 'definition': '[]'}]}]"
=======
      "text/html": [
       "\n",
       "        <table>\n",
       "            <tr>\n",
       "                <th>Name</th>\n",
       "                <th>Created At</th>\n",
       "                <th>Users</th>\n",
       "                <th>Models</th>\n",
       "                <th>Pipelines</th>\n",
       "            </tr>\n",
       "            \n",
       "        <tr >\n",
       "            <td>john.hummel@wallaroo.ai - Default Workspace</td>\n",
       "            <td>2023-05-17 20:36:36</td>\n",
       "            <td>['john.hummel@wallaroo.ai']</td>\n",
       "            <td>0</td>\n",
       "            <td>0</td>\n",
       "        </tr>\n",
       "        \n",
       "\n",
       "        <tr >\n",
       "            <td>housepricedrift</td>\n",
       "            <td>2023-05-17 20:41:50</td>\n",
       "            <td>['john.hummel@wallaroo.ai']</td>\n",
       "            <td>1</td>\n",
       "            <td>1</td>\n",
       "        </tr>\n",
       "        \n",
       "\n",
       "        <tr >\n",
       "            <td>sdkquickworkspace</td>\n",
       "            <td>2023-05-17 20:43:36</td>\n",
       "            <td>['john.hummel@wallaroo.ai']</td>\n",
       "            <td>1</td>\n",
       "            <td>1</td>\n",
       "        </tr>\n",
       "        \n",
       "\n",
       "        <tr >\n",
       "            <td>apiworkspaces</td>\n",
       "            <td>2023-05-17 20:50:36</td>\n",
       "            <td>['john.hummel@wallaroo.ai']</td>\n",
       "            <td>2</td>\n",
       "            <td>3</td>\n",
       "        </tr>\n",
       "        \n",
       "\n",
       "        <tr >\n",
       "            <td>azuremlsdkworkspace</td>\n",
       "            <td>2023-05-17 21:01:45</td>\n",
       "            <td>['john.hummel@wallaroo.ai']</td>\n",
       "            <td>1</td>\n",
       "            <td>1</td>\n",
       "        </tr>\n",
       "        \n",
       "\n",
       "        <tr >\n",
       "            <td>databricksazuresdkworkspace</td>\n",
       "            <td>2023-05-17 21:02:53</td>\n",
       "            <td>['john.hummel@wallaroo.ai']</td>\n",
       "            <td>1</td>\n",
       "            <td>1</td>\n",
       "        </tr>\n",
       "        \n",
       "\n",
       "        <tr >\n",
       "            <td>gcpsdkworkspace</td>\n",
       "            <td>2023-05-17 21:03:43</td>\n",
       "            <td>['john.hummel@wallaroo.ai']</td>\n",
       "            <td>1</td>\n",
       "            <td>1</td>\n",
       "        </tr>\n",
       "        \n",
       "\n",
       "        <tr >\n",
       "            <td>testautoconversion</td>\n",
       "            <td>2023-05-17 21:11:40</td>\n",
       "            <td>['john.hummel@wallaroo.ai']</td>\n",
       "            <td>2</td>\n",
       "            <td>0</td>\n",
       "        </tr>\n",
       "        \n",
       "\n",
       "        <tr >\n",
       "            <td>externalkerasautoconvertworkspace</td>\n",
       "            <td>2023-05-17 21:13:26</td>\n",
       "            <td>['john.hummel@wallaroo.ai']</td>\n",
       "            <td>1</td>\n",
       "            <td>1</td>\n",
       "        </tr>\n",
       "        \n",
       "\n",
       "        <tr >\n",
       "            <td>isolettest</td>\n",
       "            <td>2023-05-17 21:17:28</td>\n",
       "            <td>['john.hummel@wallaroo.ai']</td>\n",
       "            <td>1</td>\n",
       "            <td>1</td>\n",
       "        </tr>\n",
       "        \n",
       "\n",
       "        <tr >\n",
       "            <td>statsmodelworkspace</td>\n",
       "            <td>2023-05-17 21:19:51</td>\n",
       "            <td>['john.hummel@wallaroo.ai']</td>\n",
       "            <td>1</td>\n",
       "            <td>1</td>\n",
       "        </tr>\n",
       "        \n",
       "\n",
       "        <tr >\n",
       "            <td>xgboost-classification-autoconvert-workspace</td>\n",
       "            <td>2023-05-17 21:21:19</td>\n",
       "            <td>['john.hummel@wallaroo.ai']</td>\n",
       "            <td>1</td>\n",
       "            <td>1</td>\n",
       "        </tr>\n",
       "        \n",
       "\n",
       "        <tr >\n",
       "            <td>xgboost-regression-autoconvert-workspace</td>\n",
       "            <td>2023-05-17 21:21:55</td>\n",
       "            <td>['john.hummel@wallaroo.ai']</td>\n",
       "            <td>1</td>\n",
       "            <td>1</td>\n",
       "        </tr>\n",
       "        \n",
       "\n",
       "        <tr >\n",
       "            <td>housepricing</td>\n",
       "            <td>2023-05-17 21:26:51</td>\n",
       "            <td>['john.hummel@wallaroo.ai']</td>\n",
       "            <td>3</td>\n",
       "            <td>1</td>\n",
       "        </tr>\n",
       "        \n",
       "\n",
       "        <tr >\n",
       "            <td>qjjoccfraudworkspace</td>\n",
       "            <td>2023-05-17 21:31:31</td>\n",
       "            <td>['john.hummel@wallaroo.ai']</td>\n",
       "            <td>1</td>\n",
       "            <td>1</td>\n",
       "        </tr>\n",
       "        \n",
       "\n",
       "        <tr >\n",
       "            <td>btffhotswapworkspace</td>\n",
       "            <td>2023-05-17 21:37:15</td>\n",
       "            <td>['john.hummel@wallaroo.ai']</td>\n",
       "            <td>3</td>\n",
       "            <td>1</td>\n",
       "        </tr>\n",
       "        \n",
       "\n",
       "        <tr >\n",
       "            <td>logworkspace</td>\n",
       "            <td>2023-05-17 21:41:02</td>\n",
       "            <td>['john.hummel@wallaroo.ai']</td>\n",
       "            <td>3</td>\n",
       "            <td>1</td>\n",
       "        </tr>\n",
       "        \n",
       "\n",
       "        <tr >\n",
       "            <td>gobtedgeworkspaceexample</td>\n",
       "            <td>2023-05-17 21:50:10</td>\n",
       "            <td>['john.hummel@wallaroo.ai']</td>\n",
       "            <td>1</td>\n",
       "            <td>1</td>\n",
       "        </tr>\n",
       "        \n",
       "\n",
       "        <tr >\n",
       "            <td>fvqusdkinferenceexampleworkspace</td>\n",
       "            <td>2023-05-17 21:53:12</td>\n",
       "            <td>['john.hummel@wallaroo.ai']</td>\n",
       "            <td>1</td>\n",
       "            <td>1</td>\n",
       "        </tr>\n",
       "        \n",
       "\n",
       "        <tr >\n",
       "            <td>osysapiinferenceexampleworkspace</td>\n",
       "            <td>2023-05-17 21:54:54</td>\n",
       "            <td>['john.hummel@wallaroo.ai']</td>\n",
       "            <td>1</td>\n",
       "            <td>1</td>\n",
       "        </tr>\n",
       "        \n",
       "\n",
       "        <tr >\n",
       "            <td>rehqtagtestworkspace</td>\n",
       "            <td>2023-05-17 21:56:18</td>\n",
       "            <td>['john.hummel@wallaroo.ai']</td>\n",
       "            <td>1</td>\n",
       "            <td>1</td>\n",
       "        </tr>\n",
       "        \n",
       "        </table>\n",
       "        "
      ],
=======
>>>>>>> 1024d0c (prepared for 2023.2 release)
      "text/plain": [
       "[{'name': 'john.hummel@wallaroo.ai - Default Workspace', 'id': 1, 'archived': False, 'created_by': '028c8b48-c39b-4578-9110-0b5bdd3824da', 'created_at': '2023-05-17T20:36:36.312003+00:00', 'models': [], 'pipelines': []},\n",
       " {'name': 'housepricedrift', 'id': 5, 'archived': False, 'created_by': '028c8b48-c39b-4578-9110-0b5bdd3824da', 'created_at': '2023-05-17T20:41:50.351766+00:00', 'models': [{'name': 'housepricemodel', 'versions': 1, 'owner_id': '\"\"', 'last_update_time': datetime.datetime(2023, 5, 17, 20, 41, 50, 697557, tzinfo=tzutc()), 'created_at': datetime.datetime(2023, 5, 17, 20, 41, 50, 697557, tzinfo=tzutc())}], 'pipelines': [{'name': 'housepricepipe', 'create_time': datetime.datetime(2023, 5, 17, 20, 41, 50, 504206, tzinfo=tzutc()), 'definition': '[]'}]},\n",
       " {'name': 'sdkquickworkspace', 'id': 6, 'archived': False, 'created_by': '028c8b48-c39b-4578-9110-0b5bdd3824da', 'created_at': '2023-05-17T20:43:36.727099+00:00', 'models': [{'name': 'sdkquickmodel', 'versions': 2, 'owner_id': '\"\"', 'last_update_time': datetime.datetime(2023, 5, 17, 20, 45, 44, 687223, tzinfo=tzutc()), 'created_at': datetime.datetime(2023, 5, 17, 20, 43, 42, 734108, tzinfo=tzutc())}], 'pipelines': [{'name': 'sdkquickpipeline', 'create_time': datetime.datetime(2023, 5, 17, 20, 43, 38, 111213, tzinfo=tzutc()), 'definition': '[]'}]},\n",
       " {'name': 'apiworkspaces', 'id': 7, 'archived': False, 'created_by': '028c8b48-c39b-4578-9110-0b5bdd3824da', 'created_at': '2023-05-17T20:50:36.298217+00:00', 'models': [{'name': 'apimodel', 'versions': 1, 'owner_id': '\"\"', 'last_update_time': datetime.datetime(2023, 5, 17, 20, 51, 51, 92416, tzinfo=tzutc()), 'created_at': datetime.datetime(2023, 5, 17, 20, 51, 51, 92416, tzinfo=tzutc())}, {'name': 'apiteststreammodel', 'versions': 1, 'owner_id': '\"\"', 'last_update_time': datetime.datetime(2023, 5, 17, 20, 51, 53, 77997, tzinfo=tzutc()), 'created_at': datetime.datetime(2023, 5, 17, 20, 51, 53, 77997, tzinfo=tzutc())}], 'pipelines': [{'name': 'pipelinenomodel', 'create_time': datetime.datetime(2023, 5, 17, 20, 52, 4, 815142, tzinfo=tzutc()), 'definition': '[]'}, {'name': 'pipelinemodels', 'create_time': datetime.datetime(2023, 5, 17, 20, 52, 6, 768968, tzinfo=tzutc()), 'definition': '[]'}, {'name': 'copiedmodelpipeline', 'create_time': datetime.datetime(2023, 5, 17, 20, 54, 1, 568303, tzinfo=tzutc()), 'definition': '[]'}]},\n",
<<<<<<< HEAD
       " {'name': 'azuremlsdkworkspace', 'id': 8, 'archived': False, 'created_by': '028c8b48-c39b-4578-9110-0b5bdd3824da', 'created_at': '2023-05-17T21:01:45.647036+00:00', 'models': [{'name': 'azuremlsdkmodel', 'versions': 1, 'owner_id': '\"\"', 'last_update_time': datetime.datetime(2023, 5, 17, 21, 1, 50, 122294, tzinfo=tzutc()), 'created_at': datetime.datetime(2023, 5, 17, 21, 1, 50, 122294, tzinfo=tzutc())}], 'pipelines': [{'name': 'azuremlsdkpipeline', 'create_time': datetime.datetime(2023, 5, 17, 21, 1, 46, 655024, tzinfo=tzutc()), 'definition': '[]'}]},\n",
       " {'name': 'databricksazuresdkworkspace', 'id': 9, 'archived': False, 'created_by': '028c8b48-c39b-4578-9110-0b5bdd3824da', 'created_at': '2023-05-17T21:02:53.926098+00:00', 'models': [{'name': 'ccfraudmodel', 'versions': 1, 'owner_id': '\"\"', 'last_update_time': datetime.datetime(2023, 5, 17, 21, 2, 57, 826949, tzinfo=tzutc()), 'created_at': datetime.datetime(2023, 5, 17, 21, 2, 57, 826949, tzinfo=tzutc())}], 'pipelines': [{'name': 'databricksazuresdkpipeline', 'create_time': datetime.datetime(2023, 5, 17, 21, 2, 55, 76340, tzinfo=tzutc()), 'definition': '[]'}]},\n",
       " {'name': 'gcpsdkworkspace', 'id': 10, 'archived': False, 'created_by': '028c8b48-c39b-4578-9110-0b5bdd3824da', 'created_at': '2023-05-17T21:03:43.54944+00:00', 'models': [{'name': 'gcpsdkmodel', 'versions': 1, 'owner_id': '\"\"', 'last_update_time': datetime.datetime(2023, 5, 17, 21, 3, 47, 619868, tzinfo=tzutc()), 'created_at': datetime.datetime(2023, 5, 17, 21, 3, 47, 619868, tzinfo=tzutc())}], 'pipelines': [{'name': 'gcpsdkpipeline', 'create_time': datetime.datetime(2023, 5, 17, 21, 3, 44, 485720, tzinfo=tzutc()), 'definition': '[]'}]},\n",
       " {'name': 'testautoconversion', 'id': 11, 'archived': False, 'created_by': '028c8b48-c39b-4578-9110-0b5bdd3824da', 'created_at': '2023-05-17T21:11:40.856672+00:00', 'models': [{'name': 'sklearntest', 'versions': 1, 'owner_id': '\"\"', 'last_update_time': datetime.datetime(2023, 5, 17, 21, 11, 42, 463507, tzinfo=tzutc()), 'created_at': datetime.datetime(2023, 5, 17, 21, 11, 42, 463507, tzinfo=tzutc())}, {'name': 'xgbtestreg', 'versions': 1, 'owner_id': '\"\"', 'last_update_time': datetime.datetime(2023, 5, 17, 21, 11, 43, 585229, tzinfo=tzutc()), 'created_at': datetime.datetime(2023, 5, 17, 21, 11, 43, 585229, tzinfo=tzutc())}], 'pipelines': []},\n",
       " {'name': 'externalkerasautoconvertworkspace', 'id': 12, 'archived': False, 'created_by': '028c8b48-c39b-4578-9110-0b5bdd3824da', 'created_at': '2023-05-17T21:13:26.521533+00:00', 'models': [{'name': 'externalsimple-sentiment-model', 'versions': 1, 'owner_id': '\"\"', 'last_update_time': datetime.datetime(2023, 5, 17, 21, 13, 29, 933149, tzinfo=tzutc()), 'created_at': datetime.datetime(2023, 5, 17, 21, 13, 29, 933149, tzinfo=tzutc())}], 'pipelines': [{'name': 'externalkerasautoconvertpipeline', 'create_time': datetime.datetime(2023, 5, 17, 21, 13, 27, 523527, tzinfo=tzutc()), 'definition': '[]'}]},\n",
       " {'name': 'isolettest', 'id': 13, 'archived': False, 'created_by': '028c8b48-c39b-4578-9110-0b5bdd3824da', 'created_at': '2023-05-17T21:17:28.85823+00:00', 'models': [{'name': 'isolettest', 'versions': 1, 'owner_id': '\"\"', 'last_update_time': datetime.datetime(2023, 5, 17, 21, 17, 37, 632836, tzinfo=tzutc()), 'created_at': datetime.datetime(2023, 5, 17, 21, 17, 37, 632836, tzinfo=tzutc())}], 'pipelines': [{'name': 'isoletpipeline', 'create_time': datetime.datetime(2023, 5, 17, 21, 17, 33, 444632, tzinfo=tzutc()), 'definition': '[]'}]},\n",
       " {'name': 'statsmodelworkspace', 'id': 14, 'archived': False, 'created_by': '028c8b48-c39b-4578-9110-0b5bdd3824da', 'created_at': '2023-05-17T21:19:51.895461+00:00', 'models': [{'name': 'bikedaymodel', 'versions': 1, 'owner_id': '\"\"', 'last_update_time': datetime.datetime(2023, 5, 17, 21, 19, 54, 556093, tzinfo=tzutc()), 'created_at': datetime.datetime(2023, 5, 17, 21, 19, 54, 556093, tzinfo=tzutc())}], 'pipelines': [{'name': 'statsmodelpipeline', 'create_time': datetime.datetime(2023, 5, 17, 21, 19, 52, 898178, tzinfo=tzutc()), 'definition': '[]'}]},\n",
       " {'name': 'xgboost-classification-autoconvert-workspace', 'id': 15, 'archived': False, 'created_by': '028c8b48-c39b-4578-9110-0b5bdd3824da', 'created_at': '2023-05-17T21:21:19.011022+00:00', 'models': [{'name': 'xgb-class-model', 'versions': 1, 'owner_id': '\"\"', 'last_update_time': datetime.datetime(2023, 5, 17, 21, 21, 21, 962565, tzinfo=tzutc()), 'created_at': datetime.datetime(2023, 5, 17, 21, 21, 21, 962565, tzinfo=tzutc())}], 'pipelines': [{'name': 'xgboost-classification-autoconvert-pipeline', 'create_time': datetime.datetime(2023, 5, 17, 21, 21, 19, 962450, tzinfo=tzutc()), 'definition': '[]'}]},\n",
       " {'name': 'xgboost-regression-autoconvert-workspace', 'id': 16, 'archived': False, 'created_by': '028c8b48-c39b-4578-9110-0b5bdd3824da', 'created_at': '2023-05-17T21:21:55.880893+00:00', 'models': [{'name': 'xgb-regression-model', 'versions': 1, 'owner_id': '\"\"', 'last_update_time': datetime.datetime(2023, 5, 17, 21, 21, 58, 849585, tzinfo=tzutc()), 'created_at': datetime.datetime(2023, 5, 17, 21, 21, 58, 849585, tzinfo=tzutc())}], 'pipelines': [{'name': 'xgboost-regression-autoconvert-pipeline', 'create_time': datetime.datetime(2023, 5, 17, 21, 21, 56, 828449, tzinfo=tzutc()), 'definition': '[]'}]},\n",
       " {'name': 'housepricing', 'id': 17, 'archived': False, 'created_by': '028c8b48-c39b-4578-9110-0b5bdd3824da', 'created_at': '2023-05-17T21:26:51.743388+00:00', 'models': [{'name': 'housepricemodel', 'versions': 1, 'owner_id': '\"\"', 'last_update_time': datetime.datetime(2023, 5, 17, 21, 26, 53, 657503, tzinfo=tzutc()), 'created_at': datetime.datetime(2023, 5, 17, 21, 26, 53, 657503, tzinfo=tzutc())}, {'name': 'preprocess', 'versions': 1, 'owner_id': '\"\"', 'last_update_time': datetime.datetime(2023, 5, 17, 21, 26, 54, 578720, tzinfo=tzutc()), 'created_at': datetime.datetime(2023, 5, 17, 21, 26, 54, 578720, tzinfo=tzutc())}, {'name': 'postprocess', 'versions': 1, 'owner_id': '\"\"', 'last_update_time': datetime.datetime(2023, 5, 17, 21, 26, 55, 227589, tzinfo=tzutc()), 'created_at': datetime.datetime(2023, 5, 17, 21, 26, 55, 227589, tzinfo=tzutc())}], 'pipelines': [{'name': 'housing-pipe', 'create_time': datetime.datetime(2023, 5, 17, 21, 26, 56, 133264, tzinfo=tzutc()), 'definition': '[]'}]},\n",
       " {'name': 'qjjoccfraudworkspace', 'id': 18, 'archived': False, 'created_by': '028c8b48-c39b-4578-9110-0b5bdd3824da', 'created_at': '2023-05-17T21:31:31.410613+00:00', 'models': [{'name': 'qjjoccfraudmodel', 'versions': 1, 'owner_id': '\"\"', 'last_update_time': datetime.datetime(2023, 5, 17, 21, 32, 4, 686252, tzinfo=tzutc()), 'created_at': datetime.datetime(2023, 5, 17, 21, 32, 4, 686252, tzinfo=tzutc())}], 'pipelines': [{'name': 'qjjoccfraudpipeline', 'create_time': datetime.datetime(2023, 5, 17, 21, 32, 6, 660305, tzinfo=tzutc()), 'definition': '[]'}]},\n",
       " {'name': 'btffhotswapworkspace', 'id': 19, 'archived': False, 'created_by': '028c8b48-c39b-4578-9110-0b5bdd3824da', 'created_at': '2023-05-17T21:37:15.031407+00:00', 'models': [{'name': 'btffhousingmodelcontrol', 'versions': 1, 'owner_id': '\"\"', 'last_update_time': datetime.datetime(2023, 5, 17, 21, 37, 17, 825726, tzinfo=tzutc()), 'created_at': datetime.datetime(2023, 5, 17, 21, 37, 17, 825726, tzinfo=tzutc())}, {'name': 'btffgbrhousingchallenger', 'versions': 1, 'owner_id': '\"\"', 'last_update_time': datetime.datetime(2023, 5, 17, 21, 37, 18, 489996, tzinfo=tzutc()), 'created_at': datetime.datetime(2023, 5, 17, 21, 37, 18, 489996, tzinfo=tzutc())}, {'name': 'btffxgbhousingchallenger', 'versions': 1, 'owner_id': '\"\"', 'last_update_time': datetime.datetime(2023, 5, 17, 21, 37, 19, 54417, tzinfo=tzutc()), 'created_at': datetime.datetime(2023, 5, 17, 21, 37, 19, 54417, tzinfo=tzutc())}], 'pipelines': [{'name': 'btffhotswappipeline', 'create_time': datetime.datetime(2023, 5, 17, 21, 37, 16, 33792, tzinfo=tzutc()), 'definition': '[]'}]},\n",
       " {'name': 'logworkspace', 'id': 20, 'archived': False, 'created_by': '028c8b48-c39b-4578-9110-0b5bdd3824da', 'created_at': '2023-05-17T21:41:02.817611+00:00', 'models': [{'name': 'logcontrol', 'versions': 1, 'owner_id': '\"\"', 'last_update_time': datetime.datetime(2023, 5, 17, 21, 41, 5, 381580, tzinfo=tzutc()), 'created_at': datetime.datetime(2023, 5, 17, 21, 41, 5, 381580, tzinfo=tzutc())}, {'name': 'logcontrolchallenger01', 'versions': 1, 'owner_id': '\"\"', 'last_update_time': datetime.datetime(2023, 5, 17, 21, 45, 4, 473865, tzinfo=tzutc()), 'created_at': datetime.datetime(2023, 5, 17, 21, 45, 4, 473865, tzinfo=tzutc())}, {'name': 'logcontrolchallenger02', 'versions': 1, 'owner_id': '\"\"', 'last_update_time': datetime.datetime(2023, 5, 17, 21, 45, 5, 827879, tzinfo=tzutc()), 'created_at': datetime.datetime(2023, 5, 17, 21, 45, 5, 827879, tzinfo=tzutc())}], 'pipelines': [{'name': 'logpipeline', 'create_time': datetime.datetime(2023, 5, 17, 21, 41, 6, 308048, tzinfo=tzutc()), 'definition': '[]'}]},\n",
       " {'name': 'gobtedgeworkspaceexample', 'id': 21, 'archived': False, 'created_by': '028c8b48-c39b-4578-9110-0b5bdd3824da', 'created_at': '2023-05-17T21:50:10.05059+00:00', 'models': [{'name': 'gobtalohamodel', 'versions': 1, 'owner_id': '\"\"', 'last_update_time': datetime.datetime(2023, 5, 17, 21, 50, 12, 205106, tzinfo=tzutc()), 'created_at': datetime.datetime(2023, 5, 17, 21, 50, 12, 205106, tzinfo=tzutc())}], 'pipelines': [{'name': 'gobtedgepipelineexample', 'create_time': datetime.datetime(2023, 5, 17, 21, 50, 13, 166628, tzinfo=tzutc()), 'definition': '[]'}]},\n",
       " {'name': 'fvqusdkinferenceexampleworkspace', 'id': 22, 'archived': False, 'created_by': '028c8b48-c39b-4578-9110-0b5bdd3824da', 'created_at': '2023-05-17T21:53:12.482285+00:00', 'models': [{'name': 'fvquccfraud', 'versions': 1, 'owner_id': '\"\"', 'last_update_time': datetime.datetime(2023, 5, 17, 21, 53, 14, 677044, tzinfo=tzutc()), 'created_at': datetime.datetime(2023, 5, 17, 21, 53, 14, 677044, tzinfo=tzutc())}], 'pipelines': [{'name': 'fvqusdkinferenceexamplepipeline', 'create_time': datetime.datetime(2023, 5, 17, 21, 53, 14, 322069, tzinfo=tzutc()), 'definition': '[]'}]},\n",
       " {'name': 'osysapiinferenceexampleworkspace', 'id': 23, 'archived': False, 'created_by': '028c8b48-c39b-4578-9110-0b5bdd3824da', 'created_at': '2023-05-17T21:54:54.839449+00:00', 'models': [{'name': 'osysccfraud', 'versions': 1, 'owner_id': '\"\"', 'last_update_time': datetime.datetime(2023, 5, 17, 21, 54, 55, 184528, tzinfo=tzutc()), 'created_at': datetime.datetime(2023, 5, 17, 21, 54, 55, 184528, tzinfo=tzutc())}], 'pipelines': [{'name': 'osysapiinferenceexamplepipeline', 'create_time': datetime.datetime(2023, 5, 17, 21, 54, 56, 253914, tzinfo=tzutc()), 'definition': '[]'}]},\n",
       " {'name': 'rehqtagtestworkspace', 'id': 24, 'archived': False, 'created_by': '028c8b48-c39b-4578-9110-0b5bdd3824da', 'created_at': '2023-05-17T21:56:18.63721+00:00', 'models': [{'name': 'rehqtagtestmodel', 'versions': 1, 'owner_id': '\"\"', 'last_update_time': datetime.datetime(2023, 5, 17, 21, 56, 20, 208454, tzinfo=tzutc()), 'created_at': datetime.datetime(2023, 5, 17, 21, 56, 20, 208454, tzinfo=tzutc())}], 'pipelines': [{'name': 'rehqtagtestpipeline', 'create_time': datetime.datetime(2023, 5, 17, 21, 56, 21, 405556, tzinfo=tzutc()), 'definition': '[]'}]}]"
>>>>>>> 07b717a (pipeline logs and other updates/)
=======
       " {'name': 'azuremlsdkworkspace', 'id': 8, 'archived': False, 'created_by': '028c8b48-c39b-4578-9110-0b5bdd3824da', 'created_at': '2023-05-17T21:01:45.647036+00:00', 'models': [{'name': 'azuremlsdkmodel', 'versions': 1, 'owner_id': '\"\"', 'last_update_time': datetime.datetime(2023, 5, 17, 21, 1, 50, 122294, tzinfo=tzutc()), 'created_at': datetime.datetime(2023, 5, 17, 21, 1, 50, 122294, tzinfo=tzutc())}], 'pipelines': [{'name': 'azuremlsdkpipeline', 'create_time': datetime.datetime(2023, 5, 17, 21, 1, 46, 655024, tzinfo=tzutc()), 'definition': '[]'}]}]"
>>>>>>> 1024d0c (prepared for 2023.2 release)
      ]
     },
     "execution_count": 5,
     "metadata": {},
     "output_type": "execute_result"
    }
   ],
   "source": [
    "wl.list_workspaces()[0:5]"
   ]
  },
  {
   "cell_type": "code",
   "execution_count": 6,
   "metadata": {},
   "outputs": [
    {
     "data": {
      "text/html": [
<<<<<<< HEAD
<<<<<<< HEAD
       "<table><tr><th>name</th> <td>alohapipelineagtp</td></tr><tr><th>created</th> <td>2023-07-14 15:09:51.417910+00:00</td></tr><tr><th>last_updated</th> <td>2023-07-14 15:09:51.417910+00:00</td></tr><tr><th>deployed</th> <td>(none)</td></tr><tr><th>tags</th> <td></td></tr><tr><th>versions</th> <td>b0240249-2d47-4add-adfd-c058b4e9ebd9</td></tr><tr><th>steps</th> <td></td></tr></table>"
      ],
      "text/plain": [
       "{'name': 'alohapipelineagtp', 'create_time': datetime.datetime(2023, 7, 14, 15, 9, 51, 417910, tzinfo=tzutc()), 'definition': '[]'}"
=======
       "<table><tr><th>name</th> <td>nzssalohapipeline</td></tr><tr><th>created</th> <td>2023-05-17 21:58:51.973070+00:00</td></tr><tr><th>last_updated</th> <td>2023-05-17 21:58:51.973070+00:00</td></tr><tr><th>deployed</th> <td>(none)</td></tr><tr><th>tags</th> <td></td></tr><tr><th>versions</th> <td>9d7ad02e-f87f-4d05-ac2a-64445c5b2e11</td></tr><tr><th>steps</th> <td></td></tr></table>"
      ],
      "text/plain": [
       "{'name': 'nzssalohapipeline', 'create_time': datetime.datetime(2023, 5, 17, 21, 58, 51, 973070, tzinfo=tzutc()), 'definition': '[]'}"
>>>>>>> 07b717a (pipeline logs and other updates/)
=======
       "<table><tr><th>name</th> <td>alohapipelineulmp</td></tr><tr><th>created</th> <td>2023-05-19 18:11:07.415859+00:00</td></tr><tr><th>last_updated</th> <td>2023-05-19 18:11:07.415859+00:00</td></tr><tr><th>deployed</th> <td>(none)</td></tr><tr><th>tags</th> <td></td></tr><tr><th>versions</th> <td>610ed3a7-d443-40c8-8fd8-cc19e720b336</td></tr><tr><th>steps</th> <td></td></tr></table>"
      ],
      "text/plain": [
       "{'name': 'alohapipelineulmp', 'create_time': datetime.datetime(2023, 5, 19, 18, 11, 7, 415859, tzinfo=tzutc()), 'definition': '[]'}"
>>>>>>> 1024d0c (prepared for 2023.2 release)
      ]
     },
     "execution_count": 6,
     "metadata": {},
     "output_type": "execute_result"
    }
   ],
   "source": [
    "workspace = get_workspace(workspace_name)\n",
    "\n",
    "wl.set_current_workspace(workspace)\n",
    "\n",
    "aloha_pipeline = get_pipeline(pipeline_name)\n",
    "aloha_pipeline"
   ]
  },
  {
   "attachments": {},
   "cell_type": "markdown",
   "metadata": {},
   "source": [
    "We can verify the workspace is created the current default workspace with the `get_current_workspace()` command."
   ]
  },
  {
   "cell_type": "code",
   "execution_count": 7,
   "metadata": {},
   "outputs": [
    {
     "data": {
      "text/plain": [
<<<<<<< HEAD
<<<<<<< HEAD
       "{'name': 'alohaworkspaceagtp', 'id': 13, 'archived': False, 'created_by': '4e296632-35b3-460e-85fe-565e311bc566', 'created_at': '2023-07-14T15:09:50.698139+00:00', 'models': [], 'pipelines': [{'name': 'alohapipelineagtp', 'create_time': datetime.datetime(2023, 7, 14, 15, 9, 51, 417910, tzinfo=tzutc()), 'definition': '[]'}]}"
=======
       "{'name': 'nzssalohaworkspace', 'id': 25, 'archived': False, 'created_by': '028c8b48-c39b-4578-9110-0b5bdd3824da', 'created_at': '2023-05-17T21:58:51.38289+00:00', 'models': [], 'pipelines': [{'name': 'nzssalohapipeline', 'create_time': datetime.datetime(2023, 5, 17, 21, 58, 51, 973070, tzinfo=tzutc()), 'definition': '[]'}]}"
>>>>>>> 07b717a (pipeline logs and other updates/)
=======
       "{'name': 'alohaworkspaceulmp', 'id': 43, 'archived': False, 'created_by': '028c8b48-c39b-4578-9110-0b5bdd3824da', 'created_at': '2023-05-19T18:11:06.792668+00:00', 'models': [], 'pipelines': [{'name': 'alohapipelineulmp', 'create_time': datetime.datetime(2023, 5, 19, 18, 11, 7, 415859, tzinfo=tzutc()), 'definition': '[]'}]}"
>>>>>>> 1024d0c (prepared for 2023.2 release)
      ]
     },
     "execution_count": 7,
     "metadata": {},
     "output_type": "execute_result"
    }
   ],
   "source": [
    "wl.get_current_workspace()"
   ]
  },
  {
   "attachments": {},
   "cell_type": "markdown",
   "metadata": {},
   "source": [
    "# Upload the Models\n",
    "\n",
    "Now we will upload our models.  Note that for this example we are applying the model from a .ZIP file.  The Aloha model is a [protobuf](https://developers.google.com/protocol-buffers) file that has been defined for evaluating web pages, and we will configure it to use data in the `tensorflow` format."
   ]
  },
  {
   "cell_type": "code",
   "execution_count": 8,
   "metadata": {},
   "outputs": [],
   "source": [
    "model = wl.upload_model(model_name, model_file_name).configure(\"tensorflow\")"
   ]
  },
  {
   "attachments": {},
   "cell_type": "markdown",
   "metadata": {},
   "source": [
    "## Deploy a model\n",
    "\n",
    "Now that we have a model that we want to use we will create a deployment for it. \n",
    "\n",
    "We will tell the deployment we are using a tensorflow model and give the deployment name and the configuration we want for the deployment.\n",
    "\n",
    "To do this, we'll create our pipeline that can ingest the data, pass the data to our Aloha model, and give us a final output.  We'll call our pipeline `aloha-test-demo`, then deploy it so it's ready to receive data.  The deployment process usually takes about 45 seconds.\n",
    "\n",
    "* **Note**:  If you receive an error that the pipeline could not be deployed because there are not enough resources, undeploy any other pipelines and deploy this one again.  This command can quickly undeploy all pipelines to regain resources.  We recommend **not** running this command in a production environment since it will cancel any running pipelines:\n",
    "\n",
    "```python\n",
    "for p in wl.list_pipelines(): p.undeploy()\n",
    "```"
   ]
  },
  {
   "cell_type": "code",
   "execution_count": 9,
   "metadata": {},
   "outputs": [
    {
     "data": {
      "text/html": [
<<<<<<< HEAD
<<<<<<< HEAD
       "<table><tr><th>name</th> <td>alohapipelineagtp</td></tr><tr><th>created</th> <td>2023-07-14 15:09:51.417910+00:00</td></tr><tr><th>last_updated</th> <td>2023-07-14 15:09:51.417910+00:00</td></tr><tr><th>deployed</th> <td>(none)</td></tr><tr><th>tags</th> <td></td></tr><tr><th>versions</th> <td>b0240249-2d47-4add-adfd-c058b4e9ebd9</td></tr><tr><th>steps</th> <td></td></tr></table>"
      ],
      "text/plain": [
       "{'name': 'alohapipelineagtp', 'create_time': datetime.datetime(2023, 7, 14, 15, 9, 51, 417910, tzinfo=tzutc()), 'definition': \"[{'ModelInference': {'models': [{'name': 'alohamodelagtp', 'version': '5a9b673b-8242-40d5-84c0-f0a0f2ce4429', 'sha': 'd71d9ffc61aaac58c2b1ed70a2db13d1416fb9d3f5b891e5e4e2e97180fe22f8'}]}}]\"}"
=======
       "<table><tr><th>name</th> <td>nzssalohapipeline</td></tr><tr><th>created</th> <td>2023-05-17 21:58:51.973070+00:00</td></tr><tr><th>last_updated</th> <td>2023-05-17 21:58:51.973070+00:00</td></tr><tr><th>deployed</th> <td>(none)</td></tr><tr><th>tags</th> <td></td></tr><tr><th>versions</th> <td>9d7ad02e-f87f-4d05-ac2a-64445c5b2e11</td></tr><tr><th>steps</th> <td></td></tr></table>"
      ],
      "text/plain": [
       "{'name': 'nzssalohapipeline', 'create_time': datetime.datetime(2023, 5, 17, 21, 58, 51, 973070, tzinfo=tzutc()), 'definition': \"[{'ModelInference': {'models': [{'name': 'nzssalohamodel', 'version': 'b42b3e0b-f1bb-45bc-b0e8-e8ca5053da95', 'sha': 'd71d9ffc61aaac58c2b1ed70a2db13d1416fb9d3f5b891e5e4e2e97180fe22f8'}]}}]\"}"
>>>>>>> 07b717a (pipeline logs and other updates/)
=======
       "<table><tr><th>name</th> <td>alohapipelineulmp</td></tr><tr><th>created</th> <td>2023-05-19 18:11:07.415859+00:00</td></tr><tr><th>last_updated</th> <td>2023-05-19 18:11:07.415859+00:00</td></tr><tr><th>deployed</th> <td>(none)</td></tr><tr><th>tags</th> <td></td></tr><tr><th>versions</th> <td>610ed3a7-d443-40c8-8fd8-cc19e720b336</td></tr><tr><th>steps</th> <td></td></tr></table>"
      ],
      "text/plain": [
       "{'name': 'alohapipelineulmp', 'create_time': datetime.datetime(2023, 5, 19, 18, 11, 7, 415859, tzinfo=tzutc()), 'definition': \"[{'ModelInference': {'models': [{'name': 'alohamodelulmp', 'version': '75883efa-f99e-4e67-a099-52097f24184c', 'sha': 'd71d9ffc61aaac58c2b1ed70a2db13d1416fb9d3f5b891e5e4e2e97180fe22f8'}]}}]\"}"
>>>>>>> 1024d0c (prepared for 2023.2 release)
      ]
     },
     "execution_count": 9,
     "metadata": {},
     "output_type": "execute_result"
    }
   ],
   "source": [
    "aloha_pipeline.add_model_step(model)"
   ]
  },
  {
   "cell_type": "code",
   "execution_count": 10,
   "metadata": {},
   "outputs": [
    {
     "data": {
      "text/html": [
<<<<<<< HEAD
<<<<<<< HEAD
       "<table><tr><th>name</th> <td>alohapipelineagtp</td></tr><tr><th>created</th> <td>2023-07-14 15:09:51.417910+00:00</td></tr><tr><th>last_updated</th> <td>2023-07-14 15:09:57.001909+00:00</td></tr><tr><th>deployed</th> <td>True</td></tr><tr><th>tags</th> <td></td></tr><tr><th>versions</th> <td>4c6f251c-7701-4a14-b259-76877628c47d, b0240249-2d47-4add-adfd-c058b4e9ebd9</td></tr><tr><th>steps</th> <td>alohamodelagtp</td></tr></table>"
      ],
      "text/plain": [
       "{'name': 'alohapipelineagtp', 'create_time': datetime.datetime(2023, 7, 14, 15, 9, 51, 417910, tzinfo=tzutc()), 'definition': \"[{'ModelInference': {'models': [{'name': 'alohamodelagtp', 'version': '5a9b673b-8242-40d5-84c0-f0a0f2ce4429', 'sha': 'd71d9ffc61aaac58c2b1ed70a2db13d1416fb9d3f5b891e5e4e2e97180fe22f8'}]}}]\"}"
=======
       "<table><tr><th>name</th> <td>nzssalohapipeline</td></tr><tr><th>created</th> <td>2023-05-17 21:58:51.973070+00:00</td></tr><tr><th>last_updated</th> <td>2023-05-17 21:58:57.421158+00:00</td></tr><tr><th>deployed</th> <td>True</td></tr><tr><th>tags</th> <td></td></tr><tr><th>versions</th> <td>a948c68f-6830-44db-b10d-82b25064a154, 9d7ad02e-f87f-4d05-ac2a-64445c5b2e11</td></tr><tr><th>steps</th> <td>nzssalohamodel</td></tr></table>"
      ],
      "text/plain": [
       "{'name': 'nzssalohapipeline', 'create_time': datetime.datetime(2023, 5, 17, 21, 58, 51, 973070, tzinfo=tzutc()), 'definition': \"[{'ModelInference': {'models': [{'name': 'nzssalohamodel', 'version': 'b42b3e0b-f1bb-45bc-b0e8-e8ca5053da95', 'sha': 'd71d9ffc61aaac58c2b1ed70a2db13d1416fb9d3f5b891e5e4e2e97180fe22f8'}]}}]\"}"
>>>>>>> 07b717a (pipeline logs and other updates/)
=======
       "<table><tr><th>name</th> <td>alohapipelineulmp</td></tr><tr><th>created</th> <td>2023-05-19 18:11:07.415859+00:00</td></tr><tr><th>last_updated</th> <td>2023-05-19 18:11:12.238317+00:00</td></tr><tr><th>deployed</th> <td>True</td></tr><tr><th>tags</th> <td></td></tr><tr><th>versions</th> <td>45e8b2f0-619d-41c3-b812-661b92d261f1, 610ed3a7-d443-40c8-8fd8-cc19e720b336</td></tr><tr><th>steps</th> <td>alohamodelulmp</td></tr></table>"
      ],
      "text/plain": [
       "{'name': 'alohapipelineulmp', 'create_time': datetime.datetime(2023, 5, 19, 18, 11, 7, 415859, tzinfo=tzutc()), 'definition': \"[{'ModelInference': {'models': [{'name': 'alohamodelulmp', 'version': '75883efa-f99e-4e67-a099-52097f24184c', 'sha': 'd71d9ffc61aaac58c2b1ed70a2db13d1416fb9d3f5b891e5e4e2e97180fe22f8'}]}}]\"}"
>>>>>>> 1024d0c (prepared for 2023.2 release)
      ]
     },
     "execution_count": 10,
     "metadata": {},
     "output_type": "execute_result"
    }
   ],
   "source": [
    "aloha_pipeline.deploy()"
   ]
  },
  {
   "attachments": {},
   "cell_type": "markdown",
   "metadata": {},
   "source": [
    "We can verify that the pipeline is running and list what models are associated with it."
   ]
  },
  {
   "cell_type": "code",
   "execution_count": 11,
   "metadata": {},
   "outputs": [
    {
     "data": {
      "text/plain": [
       "{'status': 'Running',\n",
       " 'details': [],\n",
<<<<<<< HEAD
<<<<<<< HEAD
       " 'engines': [{'ip': '10.244.3.134',\n",
       "   'name': 'engine-54f8d86767-lh86x',\n",
       "   'status': 'Running',\n",
       "   'reason': None,\n",
       "   'details': [],\n",
       "   'pipeline_statuses': {'pipelines': [{'id': 'alohapipelineagtp',\n",
       "      'status': 'Running'}]},\n",
       "   'model_statuses': {'models': [{'name': 'alohamodelagtp',\n",
       "      'version': '5a9b673b-8242-40d5-84c0-f0a0f2ce4429',\n",
       "      'sha': 'd71d9ffc61aaac58c2b1ed70a2db13d1416fb9d3f5b891e5e4e2e97180fe22f8',\n",
       "      'status': 'Running'}]}}],\n",
       " 'engine_lbs': [{'ip': '10.244.4.179',\n",
       "   'name': 'engine-lb-584f54c899-cmtsd',\n",
=======
       " 'engines': [{'ip': '10.244.3.153',\n",
       "   'name': 'engine-76c5f5fdd4-vzvgx',\n",
=======
       " 'engines': [{'ip': '10.244.0.152',\n",
       "   'name': 'engine-5487c945f5-9xjx2',\n",
>>>>>>> 1024d0c (prepared for 2023.2 release)
       "   'status': 'Running',\n",
       "   'reason': None,\n",
       "   'details': [],\n",
       "   'pipeline_statuses': {'pipelines': [{'id': 'alohapipelineulmp',\n",
       "      'status': 'Running'}]},\n",
       "   'model_statuses': {'models': [{'name': 'alohamodelulmp',\n",
       "      'version': '75883efa-f99e-4e67-a099-52097f24184c',\n",
       "      'sha': 'd71d9ffc61aaac58c2b1ed70a2db13d1416fb9d3f5b891e5e4e2e97180fe22f8',\n",
       "      'status': 'Running'}]}}],\n",
<<<<<<< HEAD
       " 'engine_lbs': [{'ip': '10.244.4.186',\n",
       "   'name': 'engine-lb-584f54c899-nsjx7',\n",
>>>>>>> 07b717a (pipeline logs and other updates/)
=======
       " 'engine_lbs': [{'ip': '10.244.4.220',\n",
       "   'name': 'engine-lb-584f54c899-2x4g5',\n",
>>>>>>> 1024d0c (prepared for 2023.2 release)
       "   'status': 'Running',\n",
       "   'reason': None,\n",
       "   'details': []}],\n",
       " 'sidekicks': []}"
      ]
     },
     "execution_count": 11,
     "metadata": {},
     "output_type": "execute_result"
    }
   ],
   "source": [
    "aloha_pipeline.status()"
   ]
  },
  {
   "attachments": {},
   "cell_type": "markdown",
   "metadata": {},
   "source": [
    "## Interferences\n",
    "\n",
    "### Infer 1 row\n",
    "\n",
    "Now that the pipeline is deployed and our Aloha model is in place, we'll perform a smoke test to verify the pipeline is up and running properly.  We'll use the `infer_from_file` command to load a single encoded URL into the inference engine and print the results back out.\n",
    "\n",
    "The result should tell us that the tokenized URL is legitimate (0) or fraud (1).  This sample data should return close to 1 in `out.main`."
   ]
  },
  {
   "cell_type": "code",
   "execution_count": 12,
   "metadata": {},
   "outputs": [
    {
     "data": {
      "text/html": [
       "<div>\n",
       "<style scoped>\n",
       "    .dataframe tbody tr th:only-of-type {\n",
       "        vertical-align: middle;\n",
       "    }\n",
       "\n",
       "    .dataframe tbody tr th {\n",
       "        vertical-align: top;\n",
       "    }\n",
       "\n",
       "    .dataframe thead th {\n",
       "        text-align: right;\n",
       "    }\n",
       "</style>\n",
       "<table border=\"1\" class=\"dataframe\">\n",
       "  <thead>\n",
       "    <tr style=\"text-align: right;\">\n",
       "      <th></th>\n",
       "      <th>time</th>\n",
<<<<<<< HEAD
<<<<<<< HEAD
=======
       "      <th>in.text_input</th>\n",
       "      <th>out.banjori</th>\n",
       "      <th>out.corebot</th>\n",
       "      <th>out.cryptolocker</th>\n",
       "      <th>out.dircrypt</th>\n",
       "      <th>out.gozi</th>\n",
       "      <th>out.kraken</th>\n",
       "      <th>out.locky</th>\n",
       "      <th>out.main</th>\n",
       "      <th>out.matsnu</th>\n",
       "      <th>out.pykspa</th>\n",
       "      <th>out.qakbot</th>\n",
       "      <th>out.ramdo</th>\n",
       "      <th>out.ramnit</th>\n",
       "      <th>out.simda</th>\n",
       "      <th>out.suppobox</th>\n",
       "      <th>check_failures</th>\n",
       "    </tr>\n",
       "  </thead>\n",
       "  <tbody>\n",
       "    <tr>\n",
       "      <th>0</th>\n",
       "      <td>2023-05-17 21:59:09.225</td>\n",
       "      <td>[0, 0, 0, 0, 0, 0, 0, 0, 0, 0, 0, 0, 0, 0, 0, 0, 0, 0, 0, 0, 0, 0, 0, 0, 0, 0, 0, 0, 0, 0, 0, 0, 0, 0, 0, 0, 0, 0, 0, 0, 28, 16, 32, 23, 29, 32, 30, 19, 26, 17]</td>\n",
       "      <td>[0.0015195842]</td>\n",
       "      <td>[0.98291475]</td>\n",
       "      <td>[0.012099549]</td>\n",
       "      <td>[4.759116e-05]</td>\n",
       "      <td>[2.028935e-05]</td>\n",
       "      <td>[0.00031977228]</td>\n",
       "      <td>[0.011029261]</td>\n",
       "      <td>[0.997564]</td>\n",
       "      <td>[0.010341614]</td>\n",
       "      <td>[0.008038961]</td>\n",
       "      <td>[0.016155055]</td>\n",
       "      <td>[0.0062362333]</td>\n",
       "      <td>[0.0009985747]</td>\n",
       "      <td>[1.7933368e-26]</td>\n",
       "      <td>[1.3889844e-27]</td>\n",
       "      <td>0</td>\n",
       "    </tr>\n",
       "  </tbody>\n",
       "</table>\n",
       "</div>"
      ],
      "text/plain": [
       "                     time  \\\n",
       "0 2023-05-17 21:59:09.225   \n",
       "\n",
       "                                                                                                                                                      in.text_input  \\\n",
       "0  [0, 0, 0, 0, 0, 0, 0, 0, 0, 0, 0, 0, 0, 0, 0, 0, 0, 0, 0, 0, 0, 0, 0, 0, 0, 0, 0, 0, 0, 0, 0, 0, 0, 0, 0, 0, 0, 0, 0, 0, 28, 16, 32, 23, 29, 32, 30, 19, 26, 17]   \n",
       "\n",
       "      out.banjori   out.corebot out.cryptolocker    out.dircrypt  \\\n",
       "0  [0.0015195842]  [0.98291475]    [0.012099549]  [4.759116e-05]   \n",
       "\n",
       "         out.gozi       out.kraken      out.locky    out.main     out.matsnu  \\\n",
       "0  [2.028935e-05]  [0.00031977228]  [0.011029261]  [0.997564]  [0.010341614]   \n",
       "\n",
       "      out.pykspa     out.qakbot       out.ramdo      out.ramnit  \\\n",
       "0  [0.008038961]  [0.016155055]  [0.0062362333]  [0.0009985747]   \n",
       "\n",
       "         out.simda     out.suppobox  check_failures  \n",
       "0  [1.7933368e-26]  [1.3889844e-27]               0  "
      ]
     },
     "metadata": {},
     "output_type": "display_data"
    },
    {
     "data": {
      "text/html": [
       "<div>\n",
       "<style scoped>\n",
       "    .dataframe tbody tr th:only-of-type {\n",
       "        vertical-align: middle;\n",
       "    }\n",
       "\n",
       "    .dataframe tbody tr th {\n",
       "        vertical-align: top;\n",
       "    }\n",
       "\n",
       "    .dataframe thead th {\n",
       "        text-align: right;\n",
       "    }\n",
       "</style>\n",
       "<table border=\"1\" class=\"dataframe\">\n",
       "  <thead>\n",
       "    <tr style=\"text-align: right;\">\n",
       "      <th></th>\n",
       "      <th>time</th>\n",
>>>>>>> 07b717a (pipeline logs and other updates/)
=======
>>>>>>> 1024d0c (prepared for 2023.2 release)
       "      <th>out.main</th>\n",
       "    </tr>\n",
       "  </thead>\n",
       "  <tbody>\n",
       "    <tr>\n",
       "      <th>0</th>\n",
<<<<<<< HEAD
<<<<<<< HEAD
       "      <td>2023-07-14 15:10:09.454</td>\n",
=======
       "      <td>2023-05-17 21:59:09.225</td>\n",
>>>>>>> 07b717a (pipeline logs and other updates/)
=======
       "      <td>2023-05-19 18:11:24.158</td>\n",
>>>>>>> 1024d0c (prepared for 2023.2 release)
       "      <td>[0.997564]</td>\n",
       "    </tr>\n",
       "  </tbody>\n",
       "</table>\n",
       "</div>"
      ],
      "text/plain": [
       "                     time    out.main\n",
<<<<<<< HEAD
<<<<<<< HEAD
       "0 2023-07-14 15:10:09.454  [0.997564]"
=======
       "0 2023-05-17 21:59:09.225  [0.997564]"
>>>>>>> 07b717a (pipeline logs and other updates/)
=======
       "0 2023-05-19 18:11:24.158  [0.997564]"
>>>>>>> 1024d0c (prepared for 2023.2 release)
      ]
     },
     "metadata": {},
     "output_type": "display_data"
    }
   ],
   "source": [
    "smoke_test = pd.DataFrame.from_records(\n",
    "    [\n",
    "    {\n",
    "        \"text_input\":[\n",
    "            0,\n",
    "            0,\n",
    "            0,\n",
    "            0,\n",
    "            0,\n",
    "            0,\n",
    "            0,\n",
    "            0,\n",
    "            0,\n",
    "            0,\n",
    "            0,\n",
    "            0,\n",
    "            0,\n",
    "            0,\n",
    "            0,\n",
    "            0,\n",
    "            0,\n",
    "            0,\n",
    "            0,\n",
    "            0,\n",
    "            0,\n",
    "            0,\n",
    "            0,\n",
    "            0,\n",
    "            0,\n",
    "            0,\n",
    "            0,\n",
    "            0,\n",
    "            0,\n",
    "            0,\n",
    "            0,\n",
    "            0,\n",
    "            0,\n",
    "            0,\n",
    "            0,\n",
    "            0,\n",
    "            0,\n",
    "            0,\n",
    "            0,\n",
    "            0,\n",
    "            28,\n",
    "            16,\n",
    "            32,\n",
    "            23,\n",
    "            29,\n",
    "            32,\n",
    "            30,\n",
    "            19,\n",
    "            26,\n",
    "            17\n",
    "        ]\n",
    "    }\n",
    "]\n",
    ")\n",
    "\n",
    "result = aloha_pipeline.infer(smoke_test)\n",
    "display(result.loc[:, [\"time\",\"out.main\"]])"
   ]
  },
  {
   "attachments": {},
   "cell_type": "markdown",
   "metadata": {},
   "source": [
    "### Infer From File\n",
    "\n",
    "This time, we'll give it a bigger set of data to infer.  `./data/data_1k.arrow` is an Apache Arrow table with 1,000 records in it.  Once submitted, we'll turn the result into a DataFrame and display the first five results."
   ]
  },
  {
   "cell_type": "code",
<<<<<<< HEAD
   "execution_count": 13,
<<<<<<< HEAD
=======
=======
   "execution_count": 23,
>>>>>>> 1024d0c (prepared for 2023.2 release)
   "metadata": {},
   "outputs": [
    {
     "data": {
      "text/html": [
       "<div>\n",
       "<style scoped>\n",
       "    .dataframe tbody tr th:only-of-type {\n",
       "        vertical-align: middle;\n",
       "    }\n",
       "\n",
       "    .dataframe tbody tr th {\n",
       "        vertical-align: top;\n",
       "    }\n",
       "\n",
       "    .dataframe thead th {\n",
       "        text-align: right;\n",
       "    }\n",
       "</style>\n",
       "<table border=\"1\" class=\"dataframe\">\n",
       "  <thead>\n",
       "    <tr style=\"text-align: right;\">\n",
       "      <th></th>\n",
       "      <th>time</th>\n",
       "      <th>out.main</th>\n",
       "    </tr>\n",
       "  </thead>\n",
       "  <tbody>\n",
       "    <tr>\n",
       "      <th>0</th>\n",
       "      <td>2023-05-19 18:12:46.427</td>\n",
       "      <td>[0.997564]</td>\n",
       "    </tr>\n",
       "    <tr>\n",
       "      <th>1</th>\n",
       "      <td>2023-05-19 18:12:46.427</td>\n",
       "      <td>[0.9885122]</td>\n",
       "    </tr>\n",
       "    <tr>\n",
       "      <th>2</th>\n",
       "      <td>2023-05-19 18:12:46.427</td>\n",
       "      <td>[0.9993358]</td>\n",
       "    </tr>\n",
       "    <tr>\n",
       "      <th>3</th>\n",
       "      <td>2023-05-19 18:12:46.427</td>\n",
       "      <td>[0.99999857]</td>\n",
       "    </tr>\n",
       "    <tr>\n",
       "      <th>4</th>\n",
       "      <td>2023-05-19 18:12:46.427</td>\n",
       "      <td>[0.9984837]</td>\n",
       "    </tr>\n",
       "    <tr>\n",
       "      <th>...</th>\n",
       "      <td>...</td>\n",
       "      <td>...</td>\n",
       "    </tr>\n",
       "    <tr>\n",
       "      <th>995</th>\n",
       "      <td>2023-05-19 18:12:46.427</td>\n",
       "      <td>[0.9999754]</td>\n",
       "    </tr>\n",
       "    <tr>\n",
       "      <th>996</th>\n",
       "      <td>2023-05-19 18:12:46.427</td>\n",
       "      <td>[0.9999727]</td>\n",
       "    </tr>\n",
       "    <tr>\n",
       "      <th>997</th>\n",
       "      <td>2023-05-19 18:12:46.427</td>\n",
       "      <td>[0.66066873]</td>\n",
       "    </tr>\n",
       "    <tr>\n",
       "      <th>998</th>\n",
       "      <td>2023-05-19 18:12:46.427</td>\n",
       "      <td>[0.9998954]</td>\n",
       "    </tr>\n",
       "    <tr>\n",
       "      <th>999</th>\n",
       "      <td>2023-05-19 18:12:46.427</td>\n",
       "      <td>[0.99999803]</td>\n",
       "    </tr>\n",
       "  </tbody>\n",
       "</table>\n",
       "<p>1000 rows × 2 columns</p>\n",
       "</div>"
      ],
      "text/plain": [
       "                       time      out.main\n",
       "0   2023-05-19 18:12:46.427    [0.997564]\n",
       "1   2023-05-19 18:12:46.427   [0.9885122]\n",
       "2   2023-05-19 18:12:46.427   [0.9993358]\n",
       "3   2023-05-19 18:12:46.427  [0.99999857]\n",
       "4   2023-05-19 18:12:46.427   [0.9984837]\n",
       "..                      ...           ...\n",
       "995 2023-05-19 18:12:46.427   [0.9999754]\n",
       "996 2023-05-19 18:12:46.427   [0.9999727]\n",
       "997 2023-05-19 18:12:46.427  [0.66066873]\n",
       "998 2023-05-19 18:12:46.427   [0.9998954]\n",
       "999 2023-05-19 18:12:46.427  [0.99999803]\n",
       "\n",
       "[1000 rows x 2 columns]"
      ]
     },
     "metadata": {},
     "output_type": "display_data"
    }
   ],
   "source": [
    "result = aloha_pipeline.infer_from_file('./data/data_1k.arrow')\n",
    "display(result.to_pandas().loc[:, [\"time\",\"out.main\"]])"
   ]
  },
  {
   "cell_type": "code",
   "execution_count": 14,
>>>>>>> 07b717a (pipeline logs and other updates/)
   "metadata": {},
   "outputs": [
    {
     "data": {
      "text/html": [
       "<div>\n",
       "<style scoped>\n",
       "    .dataframe tbody tr th:only-of-type {\n",
       "        vertical-align: middle;\n",
       "    }\n",
       "\n",
       "    .dataframe tbody tr th {\n",
       "        vertical-align: top;\n",
       "    }\n",
       "\n",
       "    .dataframe thead th {\n",
       "        text-align: right;\n",
       "    }\n",
       "</style>\n",
       "<table border=\"1\" class=\"dataframe\">\n",
       "  <thead>\n",
       "    <tr style=\"text-align: right;\">\n",
       "      <th></th>\n",
       "      <th>time</th>\n",
       "      <th>out.main</th>\n",
       "    </tr>\n",
       "  </thead>\n",
       "  <tbody>\n",
       "    <tr>\n",
       "      <th>0</th>\n",
<<<<<<< HEAD
<<<<<<< HEAD
       "      <td>2023-07-14 15:10:10.447</td>\n",
=======
       "      <td>2023-05-17 21:59:10.075</td>\n",
>>>>>>> 07b717a (pipeline logs and other updates/)
=======
       "      <td>2023-05-19 18:11:25.064</td>\n",
>>>>>>> 1024d0c (prepared for 2023.2 release)
       "      <td>[0.997564]</td>\n",
       "    </tr>\n",
       "    <tr>\n",
       "      <th>1</th>\n",
<<<<<<< HEAD
<<<<<<< HEAD
       "      <td>2023-07-14 15:10:10.447</td>\n",
=======
       "      <td>2023-05-17 21:59:10.075</td>\n",
>>>>>>> 07b717a (pipeline logs and other updates/)
=======
       "      <td>2023-05-19 18:11:25.064</td>\n",
>>>>>>> 1024d0c (prepared for 2023.2 release)
       "      <td>[0.9885122]</td>\n",
       "    </tr>\n",
       "    <tr>\n",
       "      <th>2</th>\n",
<<<<<<< HEAD
<<<<<<< HEAD
       "      <td>2023-07-14 15:10:10.447</td>\n",
=======
       "      <td>2023-05-17 21:59:10.075</td>\n",
>>>>>>> 07b717a (pipeline logs and other updates/)
=======
       "      <td>2023-05-19 18:11:25.064</td>\n",
>>>>>>> 1024d0c (prepared for 2023.2 release)
       "      <td>[0.9993358]</td>\n",
       "    </tr>\n",
       "    <tr>\n",
       "      <th>3</th>\n",
<<<<<<< HEAD
<<<<<<< HEAD
       "      <td>2023-07-14 15:10:10.447</td>\n",
=======
       "      <td>2023-05-17 21:59:10.075</td>\n",
>>>>>>> 07b717a (pipeline logs and other updates/)
=======
       "      <td>2023-05-19 18:11:25.064</td>\n",
>>>>>>> 1024d0c (prepared for 2023.2 release)
       "      <td>[0.99999857]</td>\n",
       "    </tr>\n",
       "    <tr>\n",
       "      <th>4</th>\n",
<<<<<<< HEAD
<<<<<<< HEAD
       "      <td>2023-07-14 15:10:10.447</td>\n",
       "      <td>[0.9984837]</td>\n",
       "    </tr>\n",
       "    <tr>\n",
       "      <th>...</th>\n",
       "      <td>...</td>\n",
       "      <td>...</td>\n",
       "    </tr>\n",
       "    <tr>\n",
       "      <th>995</th>\n",
       "      <td>2023-07-14 15:10:10.447</td>\n",
       "      <td>[0.9999754]</td>\n",
       "    </tr>\n",
       "    <tr>\n",
       "      <th>996</th>\n",
       "      <td>2023-07-14 15:10:10.447</td>\n",
       "      <td>[0.9999727]</td>\n",
       "    </tr>\n",
       "    <tr>\n",
       "      <th>997</th>\n",
       "      <td>2023-07-14 15:10:10.447</td>\n",
       "      <td>[0.66066873]</td>\n",
       "    </tr>\n",
       "    <tr>\n",
       "      <th>998</th>\n",
       "      <td>2023-07-14 15:10:10.447</td>\n",
       "      <td>[0.9998954]</td>\n",
       "    </tr>\n",
       "    <tr>\n",
       "      <th>999</th>\n",
       "      <td>2023-07-14 15:10:10.447</td>\n",
       "      <td>[0.99999803]</td>\n",
       "    </tr>\n",
       "  </tbody>\n",
       "</table>\n",
       "<p>1000 rows × 2 columns</p>\n",
       "</div>"
      ],
      "text/plain": [
       "                       time      out.main\n",
       "0   2023-07-14 15:10:10.447    [0.997564]\n",
       "1   2023-07-14 15:10:10.447   [0.9885122]\n",
       "2   2023-07-14 15:10:10.447   [0.9993358]\n",
       "3   2023-07-14 15:10:10.447  [0.99999857]\n",
       "4   2023-07-14 15:10:10.447   [0.9984837]\n",
       "..                      ...           ...\n",
       "995 2023-07-14 15:10:10.447   [0.9999754]\n",
       "996 2023-07-14 15:10:10.447   [0.9999727]\n",
       "997 2023-07-14 15:10:10.447  [0.66066873]\n",
       "998 2023-07-14 15:10:10.447   [0.9998954]\n",
       "999 2023-07-14 15:10:10.447  [0.99999803]\n",
       "\n",
       "[1000 rows x 2 columns]"
      ]
     },
     "metadata": {},
     "output_type": "display_data"
    }
   ],
   "source": [
    "result = aloha_pipeline.infer_from_file('./data/data_1k.arrow')\n",
    "display(result.to_pandas().loc[:, [\"time\",\"out.main\"]])"
   ]
  },
  {
   "cell_type": "code",
   "execution_count": 14,
   "metadata": {},
   "outputs": [
    {
     "data": {
      "text/html": [
       "<div>\n",
       "<style scoped>\n",
       "    .dataframe tbody tr th:only-of-type {\n",
       "        vertical-align: middle;\n",
       "    }\n",
       "\n",
       "    .dataframe tbody tr th {\n",
       "        vertical-align: top;\n",
       "    }\n",
       "\n",
       "    .dataframe thead th {\n",
       "        text-align: right;\n",
       "    }\n",
       "</style>\n",
       "<table border=\"1\" class=\"dataframe\">\n",
       "  <thead>\n",
       "    <tr style=\"text-align: right;\">\n",
       "      <th></th>\n",
       "      <th>time</th>\n",
       "      <th>out.main</th>\n",
       "    </tr>\n",
       "  </thead>\n",
       "  <tbody>\n",
       "    <tr>\n",
       "      <th>0</th>\n",
       "      <td>2023-07-14 15:10:10.447</td>\n",
       "      <td>[0.997564]</td>\n",
       "    </tr>\n",
       "    <tr>\n",
       "      <th>1</th>\n",
       "      <td>2023-07-14 15:10:10.447</td>\n",
       "      <td>[0.9885122]</td>\n",
       "    </tr>\n",
       "    <tr>\n",
       "      <th>2</th>\n",
       "      <td>2023-07-14 15:10:10.447</td>\n",
       "      <td>[0.9993358]</td>\n",
       "    </tr>\n",
       "    <tr>\n",
       "      <th>3</th>\n",
       "      <td>2023-07-14 15:10:10.447</td>\n",
       "      <td>[0.99999857]</td>\n",
       "    </tr>\n",
       "    <tr>\n",
       "      <th>4</th>\n",
       "      <td>2023-07-14 15:10:10.447</td>\n",
=======
       "      <td>2023-05-17 21:59:10.075</td>\n",
>>>>>>> 07b717a (pipeline logs and other updates/)
=======
       "      <td>2023-05-19 18:11:25.064</td>\n",
>>>>>>> 1024d0c (prepared for 2023.2 release)
       "      <td>[0.9984837]</td>\n",
       "    </tr>\n",
       "    <tr>\n",
       "      <th>5</th>\n",
<<<<<<< HEAD
<<<<<<< HEAD
       "      <td>2023-07-14 15:10:10.447</td>\n",
=======
       "      <td>2023-05-17 21:59:10.075</td>\n",
>>>>>>> 07b717a (pipeline logs and other updates/)
       "      <td>[1.0]</td>\n",
=======
       "      <td>2023-05-19 18:11:25.064</td>\n",
       "      <td>[0.99999994]</td>\n",
>>>>>>> 1024d0c (prepared for 2023.2 release)
       "    </tr>\n",
       "  </tbody>\n",
       "</table>\n",
       "</div>"
      ],
      "text/plain": [
       "                     time      out.main\n",
<<<<<<< HEAD
<<<<<<< HEAD
       "0 2023-07-14 15:10:10.447    [0.997564]\n",
       "1 2023-07-14 15:10:10.447   [0.9885122]\n",
       "2 2023-07-14 15:10:10.447   [0.9993358]\n",
       "3 2023-07-14 15:10:10.447  [0.99999857]\n",
       "4 2023-07-14 15:10:10.447   [0.9984837]\n",
       "5 2023-07-14 15:10:10.447         [1.0]"
=======
       "0 2023-05-17 21:59:10.075    [0.997564]\n",
       "1 2023-05-17 21:59:10.075   [0.9885122]\n",
       "2 2023-05-17 21:59:10.075   [0.9993358]\n",
       "3 2023-05-17 21:59:10.075  [0.99999857]\n",
       "4 2023-05-17 21:59:10.075   [0.9984837]\n",
       "5 2023-05-17 21:59:10.075         [1.0]"
>>>>>>> 07b717a (pipeline logs and other updates/)
=======
       "0 2023-05-19 18:11:25.064    [0.997564]\n",
       "1 2023-05-19 18:11:25.064   [0.9885122]\n",
       "2 2023-05-19 18:11:25.064   [0.9993358]\n",
       "3 2023-05-19 18:11:25.064  [0.99999857]\n",
       "4 2023-05-19 18:11:25.064   [0.9984837]\n",
       "5 2023-05-19 18:11:25.064  [0.99999994]"
>>>>>>> 1024d0c (prepared for 2023.2 release)
      ]
     },
     "metadata": {},
     "output_type": "display_data"
    }
   ],
   "source": [
    "outputs =  result.to_pandas()\n",
    "display(outputs.loc[:5, [\"time\",\"out.main\"]])"
   ]
  },
  {
   "attachments": {},
   "cell_type": "markdown",
   "metadata": {},
   "source": [
    "### Batch Inference\n",
    "\n",
    "Now that our smoke test is successful, let's really give it some data.  We have two inference files we can use:\n",
    "\n",
    "* `data_1k.arrow`:  Contains 10,000 inferences\n",
    "* `data_25k.arrow`: Contains 25,000 inferences\n",
    "\n",
    "When Apache Arrow tables are submitted to a Wallaroo Pipeline, the inference is processed natively as an Arrow table, and the results are returned as an Arrow table.  This allows for faster data processing than with JSON files or DataFrame objects.\n",
    "\n",
    "We'll pipe the `data_25k.arrow` file through the `aloha_pipeline` deployment URL, and place the results in a file named `response.arrow`.  We'll also display the time this takes.  Note that for larger batches of 50,000 inferences or more can be difficult to view in Jupyter Hub because of its size, so we'll only display the first five rows.\n",
    "\n",
    "* **IMPORTANT NOTE**:  The `_deployment._url()` method will return an **internal** URL when using Python commands from within the Wallaroo instance - for example, the Wallaroo JupyterHub service.  When connecting via an external connection, `_deployment._url()` returns an **external** URL.  External URL connections requires [the authentication be included in the HTTP request](https://docs.wallaroo.ai/wallaroo-developer-guides/wallaroo-api-guide/), and that [Model Endpoints Guide](https://docs.wallaroo.ai/wallaroo-operations-guide/wallaroo-configuration/wallaroo-model-endpoints-guide/) external endpoints are enabled in the Wallaroo configuration options."
   ]
  },
  {
   "cell_type": "code",
   "execution_count": 15,
   "metadata": {},
   "outputs": [
    {
     "data": {
      "text/plain": [
<<<<<<< HEAD
<<<<<<< HEAD
       "'https://doc-test.api.wallaroocommunity.ninja/v1/api/pipelines/infer/alohapipelineagtp-11/alohapipelineagtp'"
=======
       "'https://doc-test.api.wallaroocommunity.ninja/v1/api/pipelines/infer/nzssalohapipeline-27/nzssalohapipeline'"
>>>>>>> 07b717a (pipeline logs and other updates/)
=======
       "'https://doc-test.api.wallaroocommunity.ninja/v1/api/pipelines/infer/alohapipelineulmp-72/alohapipelineulmp'"
>>>>>>> 1024d0c (prepared for 2023.2 release)
      ]
     },
     "execution_count": 15,
     "metadata": {},
     "output_type": "execute_result"
    }
   ],
   "source": [
    "inference_url = aloha_pipeline._deployment._url()\n",
    "inference_url"
   ]
  },
  {
   "cell_type": "code",
   "execution_count": 16,
   "metadata": {},
<<<<<<< HEAD
<<<<<<< HEAD
   "outputs": [],
=======
   "outputs": [
    {
     "data": {
      "text/plain": [
       "'eyJhbGciOiJSUzI1NiIsInR5cCIgOiAiSldUIiwia2lkIiA6ICJDYkFqN19QY0xCWTFkWmJiUDZ6Q3BsbkNBYTd6US0tRHlyNy0yLXlQb25nIn0.eyJleHAiOjE2ODQzNjA3OTcsImlhdCI6MTY4NDM2MDczNywiYXV0aF90aW1lIjoxNjg0MzU1OTU5LCJqdGkiOiIzNTBiODdjMC1mNmVhLTQwM2UtOTE2NC0xYmIyNDQ3NDIyNmUiLCJpc3MiOiJodHRwczovL2RvYy10ZXN0LmtleWNsb2FrLndhbGxhcm9vY29tbXVuaXR5Lm5pbmphL2F1dGgvcmVhbG1zL21hc3RlciIsImF1ZCI6WyJtYXN0ZXItcmVhbG0iLCJhY2NvdW50Il0sInN1YiI6IjAyOGM4YjQ4LWMzOWItNDU3OC05MTEwLTBiNWJkZDM4MjRkYSIsInR5cCI6IkJlYXJlciIsImF6cCI6InNkay1jbGllbnQiLCJzZXNzaW9uX3N0YXRlIjoiMGJlODJjN2ItNzg1My00ZjVkLWJiNWEtOTlkYjUwYjhiNDVmIiwiYWNyIjoiMCIsInJlYWxtX2FjY2VzcyI6eyJyb2xlcyI6WyJkZWZhdWx0LXJvbGVzLW1hc3RlciIsIm9mZmxpbmVfYWNjZXNzIiwidW1hX2F1dGhvcml6YXRpb24iXX0sInJlc291cmNlX2FjY2VzcyI6eyJtYXN0ZXItcmVhbG0iOnsicm9sZXMiOlsibWFuYWdlLXVzZXJzIiwidmlldy11c2VycyIsInF1ZXJ5LWdyb3VwcyIsInF1ZXJ5LXVzZXJzIl19LCJhY2NvdW50Ijp7InJvbGVzIjpbIm1hbmFnZS1hY2NvdW50IiwibWFuYWdlLWFjY291bnQtbGlua3MiLCJ2aWV3LXByb2ZpbGUiXX19LCJzY29wZSI6InByb2ZpbGUgZW1haWwiLCJzaWQiOiIwYmU4MmM3Yi03ODUzLTRmNWQtYmI1YS05OWRiNTBiOGI0NWYiLCJlbWFpbF92ZXJpZmllZCI6ZmFsc2UsImh0dHBzOi8vaGFzdXJhLmlvL2p3dC9jbGFpbXMiOnsieC1oYXN1cmEtdXNlci1pZCI6IjAyOGM4YjQ4LWMzOWItNDU3OC05MTEwLTBiNWJkZDM4MjRkYSIsIngtaGFzdXJhLWRlZmF1bHQtcm9sZSI6InVzZXIiLCJ4LWhhc3VyYS1hbGxvd2VkLXJvbGVzIjpbInVzZXIiXSwieC1oYXN1cmEtdXNlci1ncm91cHMiOiJ7fSJ9LCJuYW1lIjoiSm9obiBIYW5zYXJpY2siLCJwcmVmZXJyZWRfdXNlcm5hbWUiOiJqb2huLmh1bW1lbEB3YWxsYXJvby5haSIsImdpdmVuX25hbWUiOiJKb2huIiwiZmFtaWx5X25hbWUiOiJIYW5zYXJpY2siLCJlbWFpbCI6ImpvaG4uaHVtbWVsQHdhbGxhcm9vLmFpIn0.EeUraMJjtC6UA1UzAM4yrbeoJFqHbBY42BZdzuPG9kzPX5skbRLetwAbYinVS0WZiZ-tBPH_RK5kLHjt-yw1ID3Xa_-u8mdfek3q67OydXXbr-a_dYABoLhulxfG4Eg8lo6sxE-r5BISJiMHiHFGmBK41xpr0ztZxMW9FXQtJkH5gBwE4eQtjDV7trkGIErPC73FO6Sp8WS6ywDG3SfYuTLIm9XlPjNxxjqglugcDjAVBw0TeJGNdAk2XhYfmIDUHCQfBtjWGy4P8OmJ_dfiibYl0E9pxQ0g4GsRfV9_-y45f8d-7OO-NxtrT0Z48pOMHrsBx8r2VWmqYVc_8SIxRg'"
      ]
     },
     "execution_count": 16,
     "metadata": {},
     "output_type": "execute_result"
    }
   ],
>>>>>>> 07b717a (pipeline logs and other updates/)
=======
   "outputs": [],
>>>>>>> 1024d0c (prepared for 2023.2 release)
   "source": [
    "connection =wl.mlops().__dict__\n",
    "token = connection['token']"
   ]
  },
  {
   "cell_type": "code",
   "execution_count": 17,
   "metadata": {},
   "outputs": [],
   "source": [
    "dataFile=\"./data/data_25k.arrow\"\n",
    "contentType=\"application/vnd.apache.arrow.file\""
   ]
  },
  {
   "cell_type": "code",
   "execution_count": 18,
   "metadata": {},
   "outputs": [
    {
     "name": "stdout",
     "output_type": "stream",
     "text": [
      "  % Total    % Received % Xferd  Average Speed   Time    Time     Time  Current\n",
      "                                 Dload  Upload   Total   Spent    Left  Speed\n",
<<<<<<< HEAD
<<<<<<< HEAD
      "100 25.9M  100 21.1M  100 4874k  1778k   399k  0:00:12  0:00:12 --:--:-- 4525k\n"
=======
      "100 25.6M  100 20.8M  100 4874k  2219k   506k  0:00:09  0:00:09 --:--:-- 4971k-  0:00:10  450k\n"
>>>>>>> 07b717a (pipeline logs and other updates/)
=======
      "100 25.6M  100 20.8M  100 4874k  2156k   574k  0:00:09  0:00:08  0:00:01 4398kk  2377k   542k  0:00:08  0:00:08 --:--:-- 5266k\n"
>>>>>>> 1024d0c (prepared for 2023.2 release)
     ]
    }
   ],
   "source": [
    "!curl -X POST {inference_url} -H \"Authorization: Bearer {token}\" -H \"Content-Type:{contentType}\" --data-binary @{dataFile} > curl_response.df"
   ]
  },
  {
   "cell_type": "code",
   "execution_count": 21,
   "metadata": {},
   "outputs": [
    {
     "data": {
      "text/html": [
       "<div>\n",
       "<style scoped>\n",
       "    .dataframe tbody tr th:only-of-type {\n",
       "        vertical-align: middle;\n",
       "    }\n",
       "\n",
       "    .dataframe tbody tr th {\n",
       "        vertical-align: top;\n",
       "    }\n",
       "\n",
       "    .dataframe thead th {\n",
       "        text-align: right;\n",
       "    }\n",
       "</style>\n",
       "<table border=\"1\" class=\"dataframe\">\n",
       "  <thead>\n",
       "    <tr style=\"text-align: right;\">\n",
       "      <th></th>\n",
       "      <th>time</th>\n",
       "      <th>out</th>\n",
       "    </tr>\n",
       "  </thead>\n",
       "  <tbody>\n",
       "    <tr>\n",
       "      <th>0</th>\n",
<<<<<<< HEAD
<<<<<<< HEAD
       "      <td>1689347413326</td>\n",
       "      <td>{'banjori': [0.0015195821], 'corebot': [0.9829147500000001], 'cryptolocker': [0.012099549000000001], 'dircrypt': [4.7591115e-05], 'gozi': [2.0289428e-05], 'kraken': [0.00031977256999999996], 'locky': [0.011029262000000001], 'main': [0.997564], 'matsnu': [0.010341609], 'pykspa': [0.008038961], 'qakbot': [0.016155055], 'ramdo': [0.00623623], 'ramnit': [0.0009985747000000001], 'simda': [1.7933434e-26], 'suppobox': [1.388995e-27]}</td>\n",
       "    </tr>\n",
       "    <tr>\n",
       "      <th>1</th>\n",
       "      <td>1689347413326</td>\n",
       "      <td>{'banjori': [7.447196e-18], 'corebot': [6.7359245e-08], 'cryptolocker': [0.1708199], 'dircrypt': [1.3220122000000002e-09], 'gozi': [1.2758705999999999e-24], 'kraken': [0.22559543], 'locky': [0.34209849999999997], 'main': [0.99999994], 'matsnu': [0.3080186], 'pykspa': [0.1828217], 'qakbot': [3.8022549999999994e-11], 'ramdo': [0.2062254], 'ramnit': [0.15215826], 'simda': [1.1701982e-30], 'suppobox': [3.1514454e-38]}</td>\n",
       "    </tr>\n",
       "    <tr>\n",
       "      <th>2</th>\n",
       "      <td>1689347413326</td>\n",
       "      <td>{'banjori': [2.8598648999999997e-21], 'corebot': [9.302004000000001e-08], 'cryptolocker': [0.04445298], 'dircrypt': [6.1637580000000004e-09], 'gozi': [8.3496755e-23], 'kraken': [0.48234479999999996], 'locky': [0.26332903], 'main': [1.0], 'matsnu': [0.29800338], 'pykspa': [0.22361776], 'qakbot': [1.5238920999999999e-06], 'ramdo': [0.32820392], 'ramnit': [0.029332489000000003], 'simda': [1.1995622e-31], 'suppobox': [0.0]}</td>\n",
       "    </tr>\n",
       "    <tr>\n",
       "      <th>3</th>\n",
       "      <td>1689347413326</td>\n",
       "      <td>{'banjori': [2.1387213e-15], 'corebot': [3.8817485e-10], 'cryptolocker': [0.045599736], 'dircrypt': [1.9090386e-07], 'gozi': [1.3140123e-25], 'kraken': [0.59542626], 'locky': [0.17374137], 'main': [0.9999996999999999], 'matsnu': [0.23151578], 'pykspa': [0.17591679999999998], 'qakbot': [1.0876152e-09], 'ramdo': [0.21832279999999998], 'ramnit': [0.0128692705], 'simda': [6.1588803e-28], 'suppobox': [1.4386237e-35]}</td>\n",
       "    </tr>\n",
       "    <tr>\n",
       "      <th>4</th>\n",
       "      <td>1689347413326</td>\n",
       "      <td>{'banjori': [9.453342500000001e-15], 'corebot': [7.091151e-10], 'cryptolocker': [0.049815163], 'dircrypt': [5.2914135e-09], 'gozi': [7.4132087e-19], 'kraken': [1.5504574999999998e-13], 'locky': [1.079181e-15], 'main': [0.9999988999999999], 'matsnu': [1.5003075e-15], 'pykspa': [0.33075705], 'qakbot': [2.6258850000000004e-07], 'ramdo': [0.5036279], 'ramnit': [0.020393765], 'simda': [0.0], 'suppobox': [2.3292326e-38]}</td>\n",
=======
       "      <td>1684360752527</td>\n",
       "      <td>{'text_input': [0.0, 0.0, 0.0, 0.0, 0.0, 0.0, 0.0, 0.0, 0.0, 0.0, 0.0, 0.0, 0.0, 0.0, 0.0, 0.0, 0.0, 0.0, 0.0, 0.0, 0.0, 0.0, 0.0, 0.0, 0.0, 0.0, 0.0, 0.0, 0.0, 0.0, 0.0, 0.0, 0.0, 0.0, 0.0, 0.0, 0.0, 0.0, 0.0, 0.0, 28.0, 16.0, 32.0, 23.0, 29.0, 32.0, 30.0, 19.0, 26.0, 17.0]}</td>\n",
       "      <td>{'banjori': [0.0015195821], 'corebot': [0.9829147500000001], 'cryptolocker': [0.012099549000000001], 'dircrypt': [4.7591115e-05], 'gozi': [2.0289428e-05], 'kraken': [0.00031977256999999996], 'locky': [0.011029262000000001], 'main': [0.997564], 'matsnu': [0.010341609], 'pykspa': [0.008038961], 'qakbot': [0.016155055], 'ramdo': [0.00623623], 'ramnit': [0.0009985747000000001], 'simda': [1.7933434e-26], 'suppobox': [1.388995e-27]}</td>\n",
       "      <td>[]</td>\n",
       "      <td>{'last_model': '{\"model_name\":\"nzssalohamodel\",\"model_sha\":\"d71d9ffc61aaac58c2b1ed70a2db13d1416fb9d3f5b891e5e4e2e97180fe22f8\"}', 'pipeline_version': 'a948c68f-6830-44db-b10d-82b25064a154', 'elapsed': [2482631, 4294967295]}</td>\n",
=======
       "      <td>1684519887796</td>\n",
       "      <td>{'banjori': [0.0015195871], 'corebot': [0.9829148], 'cryptolocker': [0.012099565000000001], 'dircrypt': [4.7591344e-05], 'gozi': [2.0289392e-05], 'kraken': [0.0003197726], 'locky': [0.011029272000000001], 'main': [0.997564], 'matsnu': [0.010341625], 'pykspa': [0.008038965], 'qakbot': [0.016155062], 'ramdo': [0.006236233000000001], 'ramnit': [0.0009985756], 'simda': [1.793378e-26], 'suppobox': [1.3889898e-27]}</td>\n",
>>>>>>> 1024d0c (prepared for 2023.2 release)
       "    </tr>\n",
       "    <tr>\n",
       "      <th>1</th>\n",
       "      <td>1684519887796</td>\n",
       "      <td>{'banjori': [7.447225e-18], 'corebot': [6.7359245e-08], 'cryptolocker': [0.17081991], 'dircrypt': [1.3220147000000001e-09], 'gozi': [1.2758853e-24], 'kraken': [0.22559536], 'locky': [0.34209844], 'main': [0.99999994], 'matsnu': [0.30801848], 'pykspa': [0.18282163], 'qakbot': [3.8022553999999996e-11], 'ramdo': [0.20622534], 'ramnit': [0.15215826], 'simda': [1.17020745e-30], 'suppobox': [3.1514464999999997e-38]}</td>\n",
       "    </tr>\n",
       "    <tr>\n",
       "      <th>2</th>\n",
       "      <td>1684519887796</td>\n",
       "      <td>{'banjori': [2.8599304999999997e-21], 'corebot': [9.302004999999999e-08], 'cryptolocker': [0.04445295], 'dircrypt': [6.1637580000000004e-09], 'gozi': [8.34974e-23], 'kraken': [0.48234479999999996], 'locky': [0.2633289], 'main': [1.0], 'matsnu': [0.29800323], 'pykspa': [0.22361766], 'qakbot': [1.5238920999999999e-06], 'ramdo': [0.3282038], 'ramnit': [0.029332466], 'simda': [1.1995533000000001e-31], 'suppobox': [0.0]}</td>\n",
       "    </tr>\n",
       "    <tr>\n",
       "      <th>3</th>\n",
       "      <td>1684519887796</td>\n",
       "      <td>{'banjori': [2.1386805e-15], 'corebot': [3.8817485e-10], 'cryptolocker': [0.045599725], 'dircrypt': [1.9090386e-07], 'gozi': [1.3139924000000002e-25], 'kraken': [0.59542614], 'locky': [0.17374131], 'main': [0.9999996999999999], 'matsnu': [0.2315157], 'pykspa': [0.17591687], 'qakbot': [1.087611e-09], 'ramdo': [0.21832284000000002], 'ramnit': [0.012869288000000001], 'simda': [6.158882e-28], 'suppobox': [1.438591e-35]}</td>\n",
       "    </tr>\n",
       "    <tr>\n",
       "      <th>4</th>\n",
<<<<<<< HEAD
       "      <td>1684360752527</td>\n",
       "      <td>{'text_input': [0.0, 0.0, 0.0, 0.0, 0.0, 0.0, 0.0, 0.0, 0.0, 0.0, 0.0, 0.0, 0.0, 0.0, 0.0, 0.0, 0.0, 0.0, 0.0, 0.0, 0.0, 0.0, 0.0, 0.0, 0.0, 0.0, 0.0, 32.0, 13.0, 14.0, 12.0, 33.0, 16.0, 23.0, 15.0, 22.0, 30.0, 28.0, 26.0, 12.0, 16.0, 32.0, 37.0, 29.0, 22.0, 28.0, 22.0, 16.0, 27.0, 32.0]}</td>\n",
       "      <td>{'banjori': [9.453342500000001e-15], 'corebot': [7.091151e-10], 'cryptolocker': [0.049815163], 'dircrypt': [5.2914135e-09], 'gozi': [7.4132087e-19], 'kraken': [1.5504574999999998e-13], 'locky': [1.079181e-15], 'main': [0.9999988999999999], 'matsnu': [1.5003075e-15], 'pykspa': [0.33075705], 'qakbot': [2.6258850000000004e-07], 'ramdo': [0.5036279], 'ramnit': [0.020393765], 'simda': [0.0], 'suppobox': [2.3292326e-38]}</td>\n",
       "      <td>[]</td>\n",
       "      <td>{'last_model': '{\"model_name\":\"nzssalohamodel\",\"model_sha\":\"d71d9ffc61aaac58c2b1ed70a2db13d1416fb9d3f5b891e5e4e2e97180fe22f8\"}', 'pipeline_version': 'a948c68f-6830-44db-b10d-82b25064a154', 'elapsed': [2482631, 4294967295]}</td>\n",
>>>>>>> 07b717a (pipeline logs and other updates/)
=======
       "      <td>1684519887796</td>\n",
       "      <td>{'banjori': [9.453381e-15], 'corebot': [7.091152e-10], 'cryptolocker': [0.049815107000000004], 'dircrypt': [5.2914135e-09], 'gozi': [7.4132087e-19], 'kraken': [1.5504637e-13], 'locky': [1.079181e-15], 'main': [0.9999988999999999], 'matsnu': [1.5003076000000002e-15], 'pykspa': [0.33075709999999997], 'qakbot': [2.6258948e-07], 'ramdo': [0.50362796], 'ramnit': [0.020393757000000002], 'simda': [0.0], 'suppobox': [0.0]}</td>\n",
>>>>>>> 1024d0c (prepared for 2023.2 release)
       "    </tr>\n",
       "  </tbody>\n",
       "</table>\n",
       "</div>"
      ],
      "text/plain": [
       "            time  \\\n",
<<<<<<< HEAD
<<<<<<< HEAD
       "0  1689347413326   \n",
       "1  1689347413326   \n",
       "2  1689347413326   \n",
       "3  1689347413326   \n",
       "4  1689347413326   \n",
       "\n",
       "                                                                                                                                                                                                                                                                                                                                                                                                                                              out  \n",
       "0  {'banjori': [0.0015195821], 'corebot': [0.9829147500000001], 'cryptolocker': [0.012099549000000001], 'dircrypt': [4.7591115e-05], 'gozi': [2.0289428e-05], 'kraken': [0.00031977256999999996], 'locky': [0.011029262000000001], 'main': [0.997564], 'matsnu': [0.010341609], 'pykspa': [0.008038961], 'qakbot': [0.016155055], 'ramdo': [0.00623623], 'ramnit': [0.0009985747000000001], 'simda': [1.7933434e-26], 'suppobox': [1.388995e-27]}  \n",
       "1               {'banjori': [7.447196e-18], 'corebot': [6.7359245e-08], 'cryptolocker': [0.1708199], 'dircrypt': [1.3220122000000002e-09], 'gozi': [1.2758705999999999e-24], 'kraken': [0.22559543], 'locky': [0.34209849999999997], 'main': [0.99999994], 'matsnu': [0.3080186], 'pykspa': [0.1828217], 'qakbot': [3.8022549999999994e-11], 'ramdo': [0.2062254], 'ramnit': [0.15215826], 'simda': [1.1701982e-30], 'suppobox': [3.1514454e-38]}  \n",
       "2         {'banjori': [2.8598648999999997e-21], 'corebot': [9.302004000000001e-08], 'cryptolocker': [0.04445298], 'dircrypt': [6.1637580000000004e-09], 'gozi': [8.3496755e-23], 'kraken': [0.48234479999999996], 'locky': [0.26332903], 'main': [1.0], 'matsnu': [0.29800338], 'pykspa': [0.22361776], 'qakbot': [1.5238920999999999e-06], 'ramdo': [0.32820392], 'ramnit': [0.029332489000000003], 'simda': [1.1995622e-31], 'suppobox': [0.0]}  \n",
       "3                 {'banjori': [2.1387213e-15], 'corebot': [3.8817485e-10], 'cryptolocker': [0.045599736], 'dircrypt': [1.9090386e-07], 'gozi': [1.3140123e-25], 'kraken': [0.59542626], 'locky': [0.17374137], 'main': [0.9999996999999999], 'matsnu': [0.23151578], 'pykspa': [0.17591679999999998], 'qakbot': [1.0876152e-09], 'ramdo': [0.21832279999999998], 'ramnit': [0.0128692705], 'simda': [6.1588803e-28], 'suppobox': [1.4386237e-35]}  \n",
       "4              {'banjori': [9.453342500000001e-15], 'corebot': [7.091151e-10], 'cryptolocker': [0.049815163], 'dircrypt': [5.2914135e-09], 'gozi': [7.4132087e-19], 'kraken': [1.5504574999999998e-13], 'locky': [1.079181e-15], 'main': [0.9999988999999999], 'matsnu': [1.5003075e-15], 'pykspa': [0.33075705], 'qakbot': [2.6258850000000004e-07], 'ramdo': [0.5036279], 'ramnit': [0.020393765], 'simda': [0.0], 'suppobox': [2.3292326e-38]}  "
=======
       "0  1684360752527   \n",
       "1  1684360752527   \n",
       "2  1684360752527   \n",
       "3  1684360752527   \n",
       "4  1684360752527   \n",
       "\n",
       "                                                                                                                                                                                                                                                                                                  in  \\\n",
       "0               {'text_input': [0.0, 0.0, 0.0, 0.0, 0.0, 0.0, 0.0, 0.0, 0.0, 0.0, 0.0, 0.0, 0.0, 0.0, 0.0, 0.0, 0.0, 0.0, 0.0, 0.0, 0.0, 0.0, 0.0, 0.0, 0.0, 0.0, 0.0, 0.0, 0.0, 0.0, 0.0, 0.0, 0.0, 0.0, 0.0, 0.0, 0.0, 0.0, 0.0, 0.0, 28.0, 16.0, 32.0, 23.0, 29.0, 32.0, 30.0, 19.0, 26.0, 17.0]}   \n",
       "1          {'text_input': [0.0, 0.0, 0.0, 0.0, 0.0, 0.0, 0.0, 0.0, 0.0, 0.0, 0.0, 0.0, 0.0, 0.0, 0.0, 0.0, 0.0, 0.0, 0.0, 0.0, 0.0, 0.0, 0.0, 0.0, 0.0, 0.0, 0.0, 0.0, 0.0, 0.0, 0.0, 0.0, 0.0, 0.0, 0.0, 30.0, 20.0, 19.0, 27.0, 14.0, 17.0, 24.0, 13.0, 23.0, 20.0, 18.0, 35.0, 18.0, 22.0, 23.0]}   \n",
       "2      {'text_input': [0.0, 0.0, 0.0, 0.0, 0.0, 0.0, 0.0, 0.0, 0.0, 0.0, 0.0, 0.0, 0.0, 0.0, 0.0, 0.0, 0.0, 0.0, 0.0, 0.0, 0.0, 0.0, 0.0, 0.0, 0.0, 0.0, 0.0, 0.0, 0.0, 0.0, 0.0, 25.0, 33.0, 25.0, 36.0, 25.0, 31.0, 14.0, 32.0, 36.0, 25.0, 12.0, 35.0, 34.0, 30.0, 28.0, 27.0, 24.0, 29.0, 27.0]}   \n",
       "3     {'text_input': [0.0, 0.0, 0.0, 0.0, 0.0, 0.0, 0.0, 0.0, 0.0, 0.0, 0.0, 0.0, 0.0, 0.0, 0.0, 0.0, 0.0, 0.0, 0.0, 0.0, 0.0, 0.0, 0.0, 0.0, 0.0, 0.0, 0.0, 0.0, 0.0, 0.0, 17.0, 23.0, 22.0, 15.0, 12.0, 35.0, 34.0, 36.0, 12.0, 18.0, 24.0, 34.0, 32.0, 36.0, 12.0, 14.0, 16.0, 27.0, 22.0, 23.0]}   \n",
       "4  {'text_input': [0.0, 0.0, 0.0, 0.0, 0.0, 0.0, 0.0, 0.0, 0.0, 0.0, 0.0, 0.0, 0.0, 0.0, 0.0, 0.0, 0.0, 0.0, 0.0, 0.0, 0.0, 0.0, 0.0, 0.0, 0.0, 0.0, 0.0, 32.0, 13.0, 14.0, 12.0, 33.0, 16.0, 23.0, 15.0, 22.0, 30.0, 28.0, 26.0, 12.0, 16.0, 32.0, 37.0, 29.0, 22.0, 28.0, 22.0, 16.0, 27.0, 32.0]}   \n",
       "\n",
       "                                                                                                                                                                                                                                                                                                                                                                                                                                              out  \\\n",
       "0  {'banjori': [0.0015195821], 'corebot': [0.9829147500000001], 'cryptolocker': [0.012099549000000001], 'dircrypt': [4.7591115e-05], 'gozi': [2.0289428e-05], 'kraken': [0.00031977256999999996], 'locky': [0.011029262000000001], 'main': [0.997564], 'matsnu': [0.010341609], 'pykspa': [0.008038961], 'qakbot': [0.016155055], 'ramdo': [0.00623623], 'ramnit': [0.0009985747000000001], 'simda': [1.7933434e-26], 'suppobox': [1.388995e-27]}   \n",
       "1               {'banjori': [7.447196e-18], 'corebot': [6.7359245e-08], 'cryptolocker': [0.1708199], 'dircrypt': [1.3220122000000002e-09], 'gozi': [1.2758705999999999e-24], 'kraken': [0.22559543], 'locky': [0.34209849999999997], 'main': [0.99999994], 'matsnu': [0.3080186], 'pykspa': [0.1828217], 'qakbot': [3.8022549999999994e-11], 'ramdo': [0.2062254], 'ramnit': [0.15215826], 'simda': [1.1701982e-30], 'suppobox': [3.1514454e-38]}   \n",
       "2         {'banjori': [2.8598648999999997e-21], 'corebot': [9.302004000000001e-08], 'cryptolocker': [0.04445298], 'dircrypt': [6.1637580000000004e-09], 'gozi': [8.3496755e-23], 'kraken': [0.48234479999999996], 'locky': [0.26332903], 'main': [1.0], 'matsnu': [0.29800338], 'pykspa': [0.22361776], 'qakbot': [1.5238920999999999e-06], 'ramdo': [0.32820392], 'ramnit': [0.029332489000000003], 'simda': [1.1995622e-31], 'suppobox': [0.0]}   \n",
       "3                 {'banjori': [2.1387213e-15], 'corebot': [3.8817485e-10], 'cryptolocker': [0.045599736], 'dircrypt': [1.9090386e-07], 'gozi': [1.3140123e-25], 'kraken': [0.59542626], 'locky': [0.17374137], 'main': [0.9999996999999999], 'matsnu': [0.23151578], 'pykspa': [0.17591679999999998], 'qakbot': [1.0876152e-09], 'ramdo': [0.21832279999999998], 'ramnit': [0.0128692705], 'simda': [6.1588803e-28], 'suppobox': [1.4386237e-35]}   \n",
       "4              {'banjori': [9.453342500000001e-15], 'corebot': [7.091151e-10], 'cryptolocker': [0.049815163], 'dircrypt': [5.2914135e-09], 'gozi': [7.4132087e-19], 'kraken': [1.5504574999999998e-13], 'locky': [1.079181e-15], 'main': [0.9999988999999999], 'matsnu': [1.5003075e-15], 'pykspa': [0.33075705], 'qakbot': [2.6258850000000004e-07], 'ramdo': [0.5036279], 'ramnit': [0.020393765], 'simda': [0.0], 'suppobox': [2.3292326e-38]}   \n",
       "\n",
       "  check_failures  \\\n",
       "0             []   \n",
       "1             []   \n",
       "2             []   \n",
       "3             []   \n",
       "4             []   \n",
       "\n",
       "                                                                                                                                                                                                                         metadata  \n",
       "0  {'last_model': '{\"model_name\":\"nzssalohamodel\",\"model_sha\":\"d71d9ffc61aaac58c2b1ed70a2db13d1416fb9d3f5b891e5e4e2e97180fe22f8\"}', 'pipeline_version': 'a948c68f-6830-44db-b10d-82b25064a154', 'elapsed': [2482631, 4294967295]}  \n",
       "1  {'last_model': '{\"model_name\":\"nzssalohamodel\",\"model_sha\":\"d71d9ffc61aaac58c2b1ed70a2db13d1416fb9d3f5b891e5e4e2e97180fe22f8\"}', 'pipeline_version': 'a948c68f-6830-44db-b10d-82b25064a154', 'elapsed': [2482631, 4294967295]}  \n",
       "2  {'last_model': '{\"model_name\":\"nzssalohamodel\",\"model_sha\":\"d71d9ffc61aaac58c2b1ed70a2db13d1416fb9d3f5b891e5e4e2e97180fe22f8\"}', 'pipeline_version': 'a948c68f-6830-44db-b10d-82b25064a154', 'elapsed': [2482631, 4294967295]}  \n",
       "3  {'last_model': '{\"model_name\":\"nzssalohamodel\",\"model_sha\":\"d71d9ffc61aaac58c2b1ed70a2db13d1416fb9d3f5b891e5e4e2e97180fe22f8\"}', 'pipeline_version': 'a948c68f-6830-44db-b10d-82b25064a154', 'elapsed': [2482631, 4294967295]}  \n",
       "4  {'last_model': '{\"model_name\":\"nzssalohamodel\",\"model_sha\":\"d71d9ffc61aaac58c2b1ed70a2db13d1416fb9d3f5b891e5e4e2e97180fe22f8\"}', 'pipeline_version': 'a948c68f-6830-44db-b10d-82b25064a154', 'elapsed': [2482631, 4294967295]}  "
>>>>>>> 07b717a (pipeline logs and other updates/)
=======
       "0  1684519887796   \n",
       "1  1684519887796   \n",
       "2  1684519887796   \n",
       "3  1684519887796   \n",
       "4  1684519887796   \n",
       "\n",
       "                                                                                                                                                                                                                                                                                                                                                                                                                                   out  \n",
       "0         {'banjori': [0.0015195871], 'corebot': [0.9829148], 'cryptolocker': [0.012099565000000001], 'dircrypt': [4.7591344e-05], 'gozi': [2.0289392e-05], 'kraken': [0.0003197726], 'locky': [0.011029272000000001], 'main': [0.997564], 'matsnu': [0.010341625], 'pykspa': [0.008038965], 'qakbot': [0.016155062], 'ramdo': [0.006236233000000001], 'ramnit': [0.0009985756], 'simda': [1.793378e-26], 'suppobox': [1.3889898e-27]}  \n",
       "1        {'banjori': [7.447225e-18], 'corebot': [6.7359245e-08], 'cryptolocker': [0.17081991], 'dircrypt': [1.3220147000000001e-09], 'gozi': [1.2758853e-24], 'kraken': [0.22559536], 'locky': [0.34209844], 'main': [0.99999994], 'matsnu': [0.30801848], 'pykspa': [0.18282163], 'qakbot': [3.8022553999999996e-11], 'ramdo': [0.20622534], 'ramnit': [0.15215826], 'simda': [1.17020745e-30], 'suppobox': [3.1514464999999997e-38]}  \n",
       "2  {'banjori': [2.8599304999999997e-21], 'corebot': [9.302004999999999e-08], 'cryptolocker': [0.04445295], 'dircrypt': [6.1637580000000004e-09], 'gozi': [8.34974e-23], 'kraken': [0.48234479999999996], 'locky': [0.2633289], 'main': [1.0], 'matsnu': [0.29800323], 'pykspa': [0.22361766], 'qakbot': [1.5238920999999999e-06], 'ramdo': [0.3282038], 'ramnit': [0.029332466], 'simda': [1.1995533000000001e-31], 'suppobox': [0.0]}  \n",
       "3  {'banjori': [2.1386805e-15], 'corebot': [3.8817485e-10], 'cryptolocker': [0.045599725], 'dircrypt': [1.9090386e-07], 'gozi': [1.3139924000000002e-25], 'kraken': [0.59542614], 'locky': [0.17374131], 'main': [0.9999996999999999], 'matsnu': [0.2315157], 'pykspa': [0.17591687], 'qakbot': [1.087611e-09], 'ramdo': [0.21832284000000002], 'ramnit': [0.012869288000000001], 'simda': [6.158882e-28], 'suppobox': [1.438591e-35]}  \n",
       "4   {'banjori': [9.453381e-15], 'corebot': [7.091152e-10], 'cryptolocker': [0.049815107000000004], 'dircrypt': [5.2914135e-09], 'gozi': [7.4132087e-19], 'kraken': [1.5504637e-13], 'locky': [1.079181e-15], 'main': [0.9999988999999999], 'matsnu': [1.5003076000000002e-15], 'pykspa': [0.33075709999999997], 'qakbot': [2.6258948e-07], 'ramdo': [0.50362796], 'ramnit': [0.020393757000000002], 'simda': [0.0], 'suppobox': [0.0]}  "
>>>>>>> 1024d0c (prepared for 2023.2 release)
      ]
     },
     "metadata": {},
     "output_type": "display_data"
    }
   ],
   "source": [
    "cc_data_from_file =  pd.read_json('./curl_response.df', orient=\"records\")\n",
    "display(cc_data_from_file.head(5).loc[:5, [\"time\",\"out\"]])"
   ]
  },
  {
   "attachments": {},
   "cell_type": "markdown",
   "metadata": {},
   "source": [
    "## Undeploy Pipeline\n",
    "\n",
    "When finished with our tests, we will undeploy the pipeline so we have the Kubernetes resources back for other tasks.  Note that if the deployment variable is unchanged aloha_pipeline.deploy() will restart the inference engine in the same configuration as before."
   ]
  },
  {
   "cell_type": "code",
   "execution_count": null,
   "metadata": {},
   "outputs": [
    {
     "data": {
      "text/html": [
<<<<<<< HEAD
<<<<<<< HEAD
       "<table><tr><th>name</th> <td>alohapipelineagtp</td></tr><tr><th>created</th> <td>2023-07-14 15:09:51.417910+00:00</td></tr><tr><th>last_updated</th> <td>2023-07-14 15:09:57.001909+00:00</td></tr><tr><th>deployed</th> <td>False</td></tr><tr><th>tags</th> <td></td></tr><tr><th>versions</th> <td>4c6f251c-7701-4a14-b259-76877628c47d, b0240249-2d47-4add-adfd-c058b4e9ebd9</td></tr><tr><th>steps</th> <td>alohamodelagtp</td></tr></table>"
      ],
      "text/plain": [
       "{'name': 'alohapipelineagtp', 'create_time': datetime.datetime(2023, 7, 14, 15, 9, 51, 417910, tzinfo=tzutc()), 'definition': \"[{'ModelInference': {'models': [{'name': 'alohamodelagtp', 'version': '5a9b673b-8242-40d5-84c0-f0a0f2ce4429', 'sha': 'd71d9ffc61aaac58c2b1ed70a2db13d1416fb9d3f5b891e5e4e2e97180fe22f8'}]}}]\"}"
=======
       "<table><tr><th>name</th> <td>nzssalohapipeline</td></tr><tr><th>created</th> <td>2023-05-17 21:58:51.973070+00:00</td></tr><tr><th>last_updated</th> <td>2023-05-17 21:58:57.421158+00:00</td></tr><tr><th>deployed</th> <td>False</td></tr><tr><th>tags</th> <td></td></tr><tr><th>versions</th> <td>a948c68f-6830-44db-b10d-82b25064a154, 9d7ad02e-f87f-4d05-ac2a-64445c5b2e11</td></tr><tr><th>steps</th> <td>nzssalohamodel</td></tr></table>"
      ],
      "text/plain": [
       "{'name': 'nzssalohapipeline', 'create_time': datetime.datetime(2023, 5, 17, 21, 58, 51, 973070, tzinfo=tzutc()), 'definition': \"[{'ModelInference': {'models': [{'name': 'nzssalohamodel', 'version': 'b42b3e0b-f1bb-45bc-b0e8-e8ca5053da95', 'sha': 'd71d9ffc61aaac58c2b1ed70a2db13d1416fb9d3f5b891e5e4e2e97180fe22f8'}]}}]\"}"
>>>>>>> 07b717a (pipeline logs and other updates/)
=======
       "<table><tr><th>name</th> <td>alohapipelineejcz</td></tr><tr><th>created</th> <td>2023-05-19 15:33:49.843485+00:00</td></tr><tr><th>last_updated</th> <td>2023-05-19 15:33:55.224991+00:00</td></tr><tr><th>deployed</th> <td>False</td></tr><tr><th>tags</th> <td></td></tr><tr><th>versions</th> <td>65d9561f-ca24-4d91-8639-846850d0e1e0, a0fed191-6265-435b-9257-bc59847a96cf</td></tr><tr><th>steps</th> <td>alohamodelejcz</td></tr></table>"
      ],
      "text/plain": [
       "{'name': 'alohapipelineejcz', 'create_time': datetime.datetime(2023, 5, 19, 15, 33, 49, 843485, tzinfo=tzutc()), 'definition': \"[{'ModelInference': {'models': [{'name': 'alohamodelejcz', 'version': '8147f756-b225-4377-9b31-a1f4d1e9271a', 'sha': 'd71d9ffc61aaac58c2b1ed70a2db13d1416fb9d3f5b891e5e4e2e97180fe22f8'}]}}]\"}"
>>>>>>> 1024d0c (prepared for 2023.2 release)
      ]
     },
     "execution_count": 20,
     "metadata": {},
     "output_type": "execute_result"
    }
   ],
   "source": [
    "aloha_pipeline.undeploy()"
   ]
  }
 ],
 "metadata": {
  "kernelspec": {
   "display_name": "arrowtests",
   "language": "python",
   "name": "python3"
  },
  "language_info": {
   "codemirror_mode": {
    "name": "ipython",
    "version": 3
   },
   "file_extension": ".py",
   "mimetype": "text/x-python",
   "name": "python",
   "nbconvert_exporter": "python",
   "pygments_lexer": "ipython3",
   "version": "3.9.16"
  },
  "vscode": {
   "interpreter": {
    "hash": "7dda4bf3640b7fafcd1648658b879b4cc9f6ba6084e8fb356fdaaa1a461d1690"
   }
  }
 },
 "nbformat": 4,
 "nbformat_minor": 4
}
