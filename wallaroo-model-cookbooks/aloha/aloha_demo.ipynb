{
 "cells": [
  {
   "attachments": {},
   "cell_type": "markdown",
   "metadata": {},
   "source": [
    "This tutorial and the assets can be downloaded as part of the [Wallaroo Tutorials repository](https://github.com/WallarooLabs/Wallaroo_Tutorials/tree/main/wallaroo-model-cookbooks/aloha).\n",
    "\n",
    "## Aloha Demo\n",
    "\n",
    "In this notebook we will walk through a simple pipeline deployment to inference on a model. For this example we will be using an open source model that uses an [Aloha CNN LSTM model](https://www.researchgate.net/publication/348920204_Using_Auxiliary_Inputs_in_Deep_Learning_Models_for_Detecting_DGA-based_Domain_Names) for classifying Domain names as being either legitimate or being used for nefarious purposes such as malware distribution.  \n",
    "\n",
    "For our example, we will perform the following:\n",
    "\n",
    "* Create a workspace for our work.\n",
    "* Upload the Aloha model.\n",
    "* Create a pipeline that can ingest our submitted data, submit it to the model, and export the results\n",
    "* Run a sample inference through our pipeline by loading a file\n",
    "* Run a sample inference through our pipeline's URL and store the results in a file.\n",
    "\n",
    "All sample data and models are available through the [Wallaroo Quick Start Guide Samples repository](https://github.com/WallarooLabs/quickstartguide_samples)."
   ]
  },
  {
   "cell_type": "markdown",
   "metadata": {},
   "source": [
    "## Open a Connection to Wallaroo\n",
    "\n",
    "The first step is to connect to Wallaroo through the Wallaroo client.  The Python library is included in the Wallaroo install and available through the Jupyter Hub interface provided with your Wallaroo environment.\n",
    "\n",
    "This is accomplished using the `wallaroo.Client()` command, which provides a URL to grant the SDK permission to your specific Wallaroo environment.  When displayed, enter the URL into a browser and confirm permissions.  Store the connection into a variable that can be referenced later."
   ]
  },
  {
   "cell_type": "code",
   "execution_count": 20,
   "metadata": {},
   "outputs": [],
   "source": [
    "import wallaroo\n",
    "from wallaroo.object import EntityNotFoundError\n",
    "\n",
    "# used to display dataframe information without truncating\n",
    "import pandas as pd\n",
    "pd.set_option('display.max_colwidth', None)\n",
    "\n",
    "# to display dataframe tables\n",
    "from IPython.display import display"
   ]
  },
  {
   "cell_type": "code",
   "execution_count": null,
   "metadata": {},
   "outputs": [],
   "source": [
    "# Client connection from local Wallaroo instance\n",
    "\n",
    "# wl = wallaroo.Client()\n",
    "\n",
    "# SSO login through keycloak\n",
    "\n",
    "wallarooPrefix = \"YOUR PREFIX\"\n",
    "wallarooSuffix = \"YOUR SUFFIX\"\n",
    "\n",
    "wl = wallaroo.Client(api_endpoint=f\"https://{wallarooPrefix}.api.{wallarooSuffix}\", \n",
    "                    auth_endpoint=f\"https://{wallarooPrefix}.keycloak.{wallarooSuffix}\", \n",
    "                    auth_type=\"sso\")"
   ]
  },
  {
   "attachments": {},
   "cell_type": "markdown",
   "metadata": {},
   "source": [
    "### Arrow Support\n",
    "\n",
    "As of the 2023.1 release, Wallaroo provides support for dataframe and Arrow for inference inputs.  This tutorial allows users to adjust their experience based on whether they have enabled Arrow support in their Wallaroo instance or not.\n",
    "\n",
    "If Arrow support has been enabled, `arrowEnabled=True`. If disabled or you're not sure, set it to `arrowEnabled=False`\n",
    "\n",
    "The examples below will be shown in an arrow enabled environment."
   ]
  },
  {
   "cell_type": "code",
   "execution_count": 22,
   "metadata": {},
   "outputs": [],
   "source": [
    "import os\n",
    "arrowEnabled=True\n",
    "os.environ[\"ARROW_ENABLED\"]=f\"{arrowEnabled}\"\n"
   ]
  },
  {
   "attachments": {},
   "cell_type": "markdown",
   "metadata": {},
   "source": [
    "## Create the Workspace\n",
    "\n",
    "We will create a workspace to work in and call it the \"alohaworkspace\", then set it as current workspace environment.  We'll also create our pipeline in advance as `alohapipeline`.  The model name and the model file will be specified for use in later steps.\n",
    "\n",
    "To allow this tutorial to be run multiple times or by multiple users in the same Wallaroo instance, a random 4 character prefix will be added to the workspace, pipeline, and model."
   ]
  },
  {
   "cell_type": "code",
   "execution_count": 23,
   "metadata": {},
   "outputs": [],
   "source": [
    "import string\n",
    "import random\n",
    "\n",
    "# make a random 4 character prefix\n",
    "prefix= ''.join(random.choice(string.ascii_lowercase) for i in range(4))\n",
    "workspace_name = f'{prefix}alohaworkspace'\n",
    "pipeline_name = f'{prefix}alohapipeline'\n",
    "model_name = f'{prefix}alohamodel'\n",
    "model_file_name = './alohacnnlstm.zip'"
   ]
  },
  {
   "cell_type": "code",
   "execution_count": 24,
   "metadata": {},
   "outputs": [],
   "source": [
    "def get_workspace(name):\n",
    "    workspace = None\n",
    "    for ws in wl.list_workspaces():\n",
    "        if ws.name() == name:\n",
    "            workspace= ws\n",
    "    if(workspace == None):\n",
    "        workspace = wl.create_workspace(name)\n",
    "    return workspace\n",
    "\n",
    "def get_pipeline(name):\n",
    "    try:\n",
    "        pipeline = wl.pipelines_by_name(pipeline_name)[0]\n",
    "    except EntityNotFoundError:\n",
    "        pipeline = wl.build_pipeline(pipeline_name)\n",
    "    return pipeline"
   ]
  },
  {
   "cell_type": "code",
   "execution_count": 25,
   "metadata": {},
   "outputs": [
    {
     "data": {
      "text/html": [
       "\n",
       "        <table>\n",
       "            <tr>\n",
       "                <th>Name</th>\n",
       "                <th>Created At</th>\n",
       "                <th>Users</th>\n",
       "                <th>Models</th>\n",
       "                <th>Pipelines</th>\n",
       "            </tr>\n",
       "            \n",
       "        <tr >\n",
       "            <td>john.hummel@wallaroo.ai - Default Workspace</td>\n",
       "            <td>2023-02-16 18:24:23</td>\n",
       "            <td>['john.hummel@wallaroo.ai']</td>\n",
       "            <td>0</td>\n",
       "            <td>0</td>\n",
       "        </tr>\n",
       "        \n",
       "\n",
       "        <tr >\n",
       "            <td>opuvccfraudworkspace</td>\n",
       "            <td>2023-02-16 18:27:16</td>\n",
       "            <td>['john.hummel@wallaroo.ai']</td>\n",
       "            <td>1</td>\n",
       "            <td>1</td>\n",
       "        </tr>\n",
       "        \n",
       "\n",
       "        <tr >\n",
       "            <td>dpptimdbworkspace</td>\n",
       "            <td>2023-02-16 18:33:36</td>\n",
       "            <td>['john.hummel@wallaroo.ai']</td>\n",
       "            <td>2</td>\n",
       "            <td>1</td>\n",
       "        </tr>\n",
       "        \n",
       "\n",
       "        <tr >\n",
       "            <td>puclhotswapworkspace</td>\n",
       "            <td>2023-02-16 18:52:48</td>\n",
       "            <td>['john.hummel@wallaroo.ai']</td>\n",
       "            <td>2</td>\n",
       "            <td>1</td>\n",
       "        </tr>\n",
       "        \n",
       "        </table>\n",
       "        "
      ],
      "text/plain": [
       "[{'name': 'john.hummel@wallaroo.ai - Default Workspace', 'id': 1, 'archived': False, 'created_by': 'bada4bc7-5e14-4bd9-8ef0-596a58f3d80d', 'created_at': '2023-02-16T18:24:23.054054+00:00', 'models': [], 'pipelines': []},\n",
       " {'name': 'opuvccfraudworkspace', 'id': 5, 'archived': False, 'created_by': 'bada4bc7-5e14-4bd9-8ef0-596a58f3d80d', 'created_at': '2023-02-16T18:27:16.090896+00:00', 'models': [{'name': 'opuvccfraudmodel', 'versions': 1, 'owner_id': '\"\"', 'last_update_time': datetime.datetime(2023, 2, 16, 18, 27, 22, 459238, tzinfo=tzutc()), 'created_at': datetime.datetime(2023, 2, 16, 18, 27, 22, 459238, tzinfo=tzutc())}], 'pipelines': [{'name': 'opuvccfraudpipeline', 'create_time': datetime.datetime(2023, 2, 16, 18, 27, 24, 720844, tzinfo=tzutc()), 'definition': '[]'}]},\n",
       " {'name': 'dpptimdbworkspace', 'id': 6, 'archived': False, 'created_by': 'bada4bc7-5e14-4bd9-8ef0-596a58f3d80d', 'created_at': '2023-02-16T18:33:36.723602+00:00', 'models': [{'name': 'dpptembedder-o', 'versions': 1, 'owner_id': '\"\"', 'last_update_time': datetime.datetime(2023, 2, 16, 18, 33, 45, 645848, tzinfo=tzutc()), 'created_at': datetime.datetime(2023, 2, 16, 18, 33, 45, 645848, tzinfo=tzutc())}, {'name': 'dpptsmodel-o', 'versions': 1, 'owner_id': '\"\"', 'last_update_time': datetime.datetime(2023, 2, 16, 18, 33, 46, 639525, tzinfo=tzutc()), 'created_at': datetime.datetime(2023, 2, 16, 18, 33, 46, 639525, tzinfo=tzutc())}], 'pipelines': [{'name': 'dpptimdbpipeline', 'create_time': datetime.datetime(2023, 2, 16, 18, 33, 37, 968001, tzinfo=tzutc()), 'definition': '[]'}]},\n",
       " {'name': 'puclhotswapworkspace', 'id': 7, 'archived': False, 'created_by': 'bada4bc7-5e14-4bd9-8ef0-596a58f3d80d', 'created_at': '2023-02-16T18:52:48.884296+00:00', 'models': [{'name': 'puclccfraudoriginal', 'versions': 1, 'owner_id': '\"\"', 'last_update_time': datetime.datetime(2023, 2, 16, 18, 52, 51, 730532, tzinfo=tzutc()), 'created_at': datetime.datetime(2023, 2, 16, 18, 52, 51, 730532, tzinfo=tzutc())}, {'name': 'puclccfraudreplacement', 'versions': 1, 'owner_id': '\"\"', 'last_update_time': datetime.datetime(2023, 2, 16, 18, 52, 52, 116047, tzinfo=tzutc()), 'created_at': datetime.datetime(2023, 2, 16, 18, 52, 52, 116047, tzinfo=tzutc())}], 'pipelines': [{'name': 'puclhotswappipeline', 'create_time': datetime.datetime(2023, 2, 16, 18, 52, 49, 962439, tzinfo=tzutc()), 'definition': '[]'}]}]"
      ]
     },
     "execution_count": 25,
     "metadata": {},
     "output_type": "execute_result"
    }
   ],
   "source": [
    "wl.list_workspaces()"
   ]
  },
  {
   "cell_type": "code",
   "execution_count": 26,
   "metadata": {},
   "outputs": [
    {
     "data": {
      "text/html": [
       "<table><tr><th>name</th> <td>ufonalohapipeline</td></tr><tr><th>created</th> <td>2023-02-16 19:10:17.367944+00:00</td></tr><tr><th>last_updated</th> <td>2023-02-16 19:10:17.367944+00:00</td></tr><tr><th>deployed</th> <td>(none)</td></tr><tr><th>tags</th> <td></td></tr><tr><th>versions</th> <td>fc3519f0-96e8-4d55-96b5-439f19b30b5d</td></tr><tr><th>steps</th> <td></td></tr></table>"
      ],
      "text/plain": [
       "{'name': 'ufonalohapipeline', 'create_time': datetime.datetime(2023, 2, 16, 19, 10, 17, 367944, tzinfo=tzutc()), 'definition': '[]'}"
      ]
     },
     "execution_count": 26,
     "metadata": {},
     "output_type": "execute_result"
    }
   ],
   "source": [
    "workspace = get_workspace(workspace_name)\n",
    "\n",
    "wl.set_current_workspace(workspace)\n",
    "\n",
    "aloha_pipeline = get_pipeline(pipeline_name)\n",
    "aloha_pipeline"
   ]
  },
  {
   "cell_type": "markdown",
   "metadata": {},
   "source": [
    "We can verify the workspace is created the current default workspace with the `get_current_workspace()` command."
   ]
  },
  {
   "cell_type": "code",
   "execution_count": 27,
   "metadata": {},
   "outputs": [
    {
     "data": {
      "text/plain": [
       "{'name': 'ufonalohaworkspace', 'id': 8, 'archived': False, 'created_by': 'bada4bc7-5e14-4bd9-8ef0-596a58f3d80d', 'created_at': '2023-02-16T19:10:16.629627+00:00', 'models': [], 'pipelines': [{'name': 'ufonalohapipeline', 'create_time': datetime.datetime(2023, 2, 16, 19, 10, 17, 367944, tzinfo=tzutc()), 'definition': '[]'}]}"
      ]
     },
     "execution_count": 27,
     "metadata": {},
     "output_type": "execute_result"
    }
   ],
   "source": [
    "wl.get_current_workspace()"
   ]
  },
  {
   "cell_type": "markdown",
   "metadata": {},
   "source": [
    "# Upload the Models\n",
    "\n",
    "Now we will upload our models.  Note that for this example we are applying the model from a .ZIP file.  The Aloha model is a [protobuf](https://developers.google.com/protocol-buffers) file that has been defined for evaluating web pages, and we will configure it to use data in the `tensorflow` format."
   ]
  },
  {
   "cell_type": "code",
   "execution_count": 28,
   "metadata": {},
   "outputs": [],
   "source": [
    "model = wl.upload_model(model_name, model_file_name).configure(\"tensorflow\")"
   ]
  },
  {
   "attachments": {},
   "cell_type": "markdown",
   "metadata": {},
   "source": [
    "## Deploy a model\n",
    "\n",
    "Now that we have a model that we want to use we will create a deployment for it. \n",
    "\n",
    "We will tell the deployment we are using a tensorflow model and give the deployment name and the configuration we want for the deployment.\n",
    "\n",
    "To do this, we'll create our pipeline that can ingest the data, pass the data to our Aloha model, and give us a final output.  We'll call our pipeline `aloha-test-demo`, then deploy it so it's ready to receive data.  The deployment process usually takes about 45 seconds.\n",
    "\n",
    "* **Note**:  If you receive an error that the pipeline could not be deployed because there are not enough resources, undeploy any other pipelines and deploy this one again.  This command can quickly undeploy all pipelines to regain resources.  We recommend **not** running this command in a production environment since it will cancel any running pipelines:\n",
    "\n",
    "```python\n",
    "for p in wl.list_pipelines(): p.undeploy()\n",
    "```"
   ]
  },
  {
   "cell_type": "code",
   "execution_count": 29,
   "metadata": {},
   "outputs": [
    {
     "data": {
      "text/html": [
       "<table><tr><th>name</th> <td>ufonalohapipeline</td></tr><tr><th>created</th> <td>2023-02-16 19:10:17.367944+00:00</td></tr><tr><th>last_updated</th> <td>2023-02-16 19:10:17.367944+00:00</td></tr><tr><th>deployed</th> <td>(none)</td></tr><tr><th>tags</th> <td></td></tr><tr><th>versions</th> <td>fc3519f0-96e8-4d55-96b5-439f19b30b5d</td></tr><tr><th>steps</th> <td></td></tr></table>"
      ],
      "text/plain": [
       "{'name': 'ufonalohapipeline', 'create_time': datetime.datetime(2023, 2, 16, 19, 10, 17, 367944, tzinfo=tzutc()), 'definition': \"[{'ModelInference': {'models': [{'name': 'ufonalohamodel', 'version': 'cfdab747-0e03-4fb7-8f65-f09e774a9566', 'sha': 'd71d9ffc61aaac58c2b1ed70a2db13d1416fb9d3f5b891e5e4e2e97180fe22f8'}]}}]\"}"
      ]
     },
     "execution_count": 29,
     "metadata": {},
     "output_type": "execute_result"
    }
   ],
   "source": [
    "aloha_pipeline.add_model_step(model)"
   ]
  },
  {
   "cell_type": "code",
   "execution_count": 30,
   "metadata": {},
   "outputs": [
    {
     "data": {
      "text/html": [
       "<table><tr><th>name</th> <td>ufonalohapipeline</td></tr><tr><th>created</th> <td>2023-02-16 19:10:17.367944+00:00</td></tr><tr><th>last_updated</th> <td>2023-02-16 19:10:22.844172+00:00</td></tr><tr><th>deployed</th> <td>True</td></tr><tr><th>tags</th> <td></td></tr><tr><th>versions</th> <td>0feb9059-bf2b-42b0-9957-423ed8b60222, fc3519f0-96e8-4d55-96b5-439f19b30b5d</td></tr><tr><th>steps</th> <td>ufonalohamodel</td></tr></table>"
      ],
      "text/plain": [
       "{'name': 'ufonalohapipeline', 'create_time': datetime.datetime(2023, 2, 16, 19, 10, 17, 367944, tzinfo=tzutc()), 'definition': \"[{'ModelInference': {'models': [{'name': 'ufonalohamodel', 'version': 'cfdab747-0e03-4fb7-8f65-f09e774a9566', 'sha': 'd71d9ffc61aaac58c2b1ed70a2db13d1416fb9d3f5b891e5e4e2e97180fe22f8'}]}}]\"}"
      ]
     },
     "execution_count": 30,
     "metadata": {},
     "output_type": "execute_result"
    }
   ],
   "source": [
    "aloha_pipeline.deploy()"
   ]
  },
  {
   "cell_type": "markdown",
   "metadata": {},
   "source": [
    "We can verify that the pipeline is running and list what models are associated with it."
   ]
  },
  {
   "cell_type": "code",
   "execution_count": 31,
   "metadata": {},
   "outputs": [
    {
     "data": {
      "text/plain": [
       "{'status': 'Running',\n",
       " 'details': [],\n",
       " 'engines': [{'ip': '10.244.12.17',\n",
       "   'name': 'engine-ddccf6d4c-xj7ns',\n",
       "   'status': 'Running',\n",
       "   'reason': None,\n",
       "   'details': [],\n",
       "   'pipeline_statuses': {'pipelines': [{'id': 'ufonalohapipeline',\n",
       "      'status': 'Running'}]},\n",
       "   'model_statuses': {'models': [{'name': 'ufonalohamodel',\n",
       "      'version': 'cfdab747-0e03-4fb7-8f65-f09e774a9566',\n",
       "      'sha': 'd71d9ffc61aaac58c2b1ed70a2db13d1416fb9d3f5b891e5e4e2e97180fe22f8',\n",
       "      'status': 'Running'}]}}],\n",
       " 'engine_lbs': [{'ip': '10.244.17.9',\n",
       "   'name': 'engine-lb-ddd995646-7r4dm',\n",
       "   'status': 'Running',\n",
       "   'reason': None,\n",
       "   'details': []}],\n",
       " 'sidekicks': []}"
      ]
     },
     "execution_count": 31,
     "metadata": {},
     "output_type": "execute_result"
    }
   ],
   "source": [
    "aloha_pipeline.status()"
   ]
  },
  {
   "cell_type": "markdown",
   "metadata": {},
   "source": [
    "## Interferences\n",
    "\n",
    "### Infer 1 row\n",
    "\n",
    "Now that the pipeline is deployed and our Aloha model is in place, we'll perform a smoke test to verify the pipeline is up and running properly.  We'll use the `infer_from_file` command to load a single encoded URL into the inference engine and print the results back out.\n",
    "\n",
    "The result should tell us that the tokenized URL is legitimate (0) or fraud (1).  This sample data should return close to 0."
   ]
  },
  {
   "cell_type": "code",
   "execution_count": 32,
   "metadata": {},
   "outputs": [
    {
     "data": {
      "text/html": [
       "<div>\n",
       "<style scoped>\n",
       "    .dataframe tbody tr th:only-of-type {\n",
       "        vertical-align: middle;\n",
       "    }\n",
       "\n",
       "    .dataframe tbody tr th {\n",
       "        vertical-align: top;\n",
       "    }\n",
       "\n",
       "    .dataframe thead th {\n",
       "        text-align: right;\n",
       "    }\n",
       "</style>\n",
       "<table border=\"1\" class=\"dataframe\">\n",
       "  <thead>\n",
       "    <tr style=\"text-align: right;\">\n",
       "      <th></th>\n",
       "      <th>time</th>\n",
       "      <th>in.text_input</th>\n",
       "      <th>out.cryptolocker</th>\n",
       "      <th>out.kraken</th>\n",
       "      <th>out.ramnit</th>\n",
       "      <th>out.suppobox</th>\n",
       "      <th>out.banjori</th>\n",
       "      <th>out.ramdo</th>\n",
       "      <th>out.matsnu</th>\n",
       "      <th>out.simda</th>\n",
       "      <th>out.corebot</th>\n",
       "      <th>out.pykspa</th>\n",
       "      <th>out.dircrypt</th>\n",
       "      <th>out.qakbot</th>\n",
       "      <th>out.locky</th>\n",
       "      <th>out.main</th>\n",
       "      <th>out.gozi</th>\n",
       "      <th>check_failures</th>\n",
       "    </tr>\n",
       "  </thead>\n",
       "  <tbody>\n",
       "    <tr>\n",
       "      <th>0</th>\n",
       "      <td>2023-02-16 19:10:35.739</td>\n",
       "      <td>[0, 0, 0, 0, 0, 0, 0, 0, 0, 0, 0, 0, 0, 0, 0, 0, 0, 0, 0, 0, 0, 0, 0, 0, 0, 0, 0, 0, 0, 0, 0, 0, 0, 0, 0, 0, 0, 0, 0, 0, 28, 16, 32, 23, 29, 32, 30, 19, 26, 17]</td>\n",
       "      <td>[0.012099565]</td>\n",
       "      <td>[0.0003197726]</td>\n",
       "      <td>[0.0009985751]</td>\n",
       "      <td>[1.3889951e-27]</td>\n",
       "      <td>[0.0015195857]</td>\n",
       "      <td>[0.006236233]</td>\n",
       "      <td>[0.010341615]</td>\n",
       "      <td>[1.793378e-26]</td>\n",
       "      <td>[0.9829148]</td>\n",
       "      <td>[0.008038961]</td>\n",
       "      <td>[4.7591297e-05]</td>\n",
       "      <td>[0.016155062]</td>\n",
       "      <td>[0.011029283]</td>\n",
       "      <td>[0.997564]</td>\n",
       "      <td>[2.0289372e-05]</td>\n",
       "      <td>0</td>\n",
       "    </tr>\n",
       "  </tbody>\n",
       "</table>\n",
       "</div>"
      ],
      "text/plain": [
       "                     time  \\\n",
       "0 2023-02-16 19:10:35.739   \n",
       "\n",
       "                                                                                                                                                      in.text_input  \\\n",
       "0  [0, 0, 0, 0, 0, 0, 0, 0, 0, 0, 0, 0, 0, 0, 0, 0, 0, 0, 0, 0, 0, 0, 0, 0, 0, 0, 0, 0, 0, 0, 0, 0, 0, 0, 0, 0, 0, 0, 0, 0, 28, 16, 32, 23, 29, 32, 30, 19, 26, 17]   \n",
       "\n",
       "  out.cryptolocker      out.kraken      out.ramnit     out.suppobox  \\\n",
       "0    [0.012099565]  [0.0003197726]  [0.0009985751]  [1.3889951e-27]   \n",
       "\n",
       "      out.banjori      out.ramdo     out.matsnu       out.simda  out.corebot  \\\n",
       "0  [0.0015195857]  [0.006236233]  [0.010341615]  [1.793378e-26]  [0.9829148]   \n",
       "\n",
       "      out.pykspa     out.dircrypt     out.qakbot      out.locky    out.main  \\\n",
       "0  [0.008038961]  [4.7591297e-05]  [0.016155062]  [0.011029283]  [0.997564]   \n",
       "\n",
       "          out.gozi  check_failures  \n",
       "0  [2.0289372e-05]               0  "
      ]
     },
     "metadata": {},
     "output_type": "display_data"
    }
   ],
   "source": [
    "if arrowEnabled is True:\n",
    "    result = aloha_pipeline.infer_from_file('./data/data_1.df.json')\n",
    "else:\n",
    "    result = aloha_pipeline.infer_from_file(\"./data/data_1.json\")\n",
    "display(result)"
   ]
  },
  {
   "attachments": {},
   "cell_type": "markdown",
   "metadata": {},
   "source": [
    "### Batch Inference\n",
    "\n",
    "Now that our smoke test is successful, let's really give it some data.  We have two inference files we can use:\n",
    "\n",
    "* `data_1k.json`:  Contains 10,000 inferences\n",
    "* `data_25k.json`: Contains 25,000 inferences\n",
    "\n",
    "We'll pipe the `data_25k.json` file through the `aloha_pipeline` deployment URL, and place the results in a file named `response.txt`.  We'll also display the time this takes.  Note that for larger batches of 50,000 inferences or more can be difficult to view in Jupyter Hub because of its size.\n",
    "\n",
    "* **IMPORTANT NOTE**:  The `_deployment._url()` method will return an **internal** URL when using Python commands from within the Wallaroo instance - for example, the Wallaroo JupyterHub service.  When connecting via an external connection, `_deployment._url()` returns an **external** URL.  External URL connections requires [the authentication be included in the HTTP request](https://docs.wallaroo.ai/wallaroo-developer-guides/wallaroo-api-guide/), and that [Model Endpoints Guide](https://docs.wallaroo.ai/wallaroo-operations-guide/wallaroo-configuration/wallaroo-model-endpoints-guide/) external endpoints are enabled in the Wallaroo configuration options."
   ]
  },
  {
   "cell_type": "code",
   "execution_count": 33,
   "metadata": {},
   "outputs": [
    {
     "data": {
      "text/plain": [
       "'https://doc-test.api.wallaroocommunity.ninja/v1/api/pipelines/infer/ufonalohapipeline-5'"
      ]
     },
     "execution_count": 33,
     "metadata": {},
     "output_type": "execute_result"
    }
   ],
   "source": [
    "inference_url = aloha_pipeline._deployment._url()\n",
    "inference_url"
   ]
  },
  {
   "cell_type": "code",
   "execution_count": 34,
   "metadata": {},
   "outputs": [
    {
     "data": {
      "text/plain": [
       "'eyJhbGciOiJSUzI1NiIsInR5cCIgOiAiSldUIiwia2lkIiA6ICJDUGdjeVNiNWNZaENlckRPTEFYNDU0LXkxYjhjQlgwbTd5ajhSVFNnQ3hrIn0.eyJleHAiOjE2NzY1NzQ2NjQsImlhdCI6MTY3NjU3NDYwNCwiYXV0aF90aW1lIjoxNjc2NTcxODYwLCJqdGkiOiIwOWZjZTY0Yi02MDFiLTQ1NGMtOTYzYy05MGQxNjZlYmNjYzAiLCJpc3MiOiJodHRwczovL2RvYy10ZXN0LmtleWNsb2FrLndhbGxhcm9vY29tbXVuaXR5Lm5pbmphL2F1dGgvcmVhbG1zL21hc3RlciIsImF1ZCI6WyJtYXN0ZXItcmVhbG0iLCJhY2NvdW50Il0sInN1YiI6ImJhZGE0YmM3LTVlMTQtNGJkOS04ZWYwLTU5NmE1OGYzZDgwZCIsInR5cCI6IkJlYXJlciIsImF6cCI6InNkay1jbGllbnQiLCJzZXNzaW9uX3N0YXRlIjoiMWQ3YmJmYzktZTNiOC00YzAzLWI2NmItZTdkZjY2ZDhlODU5IiwiYWNyIjoiMCIsInJlYWxtX2FjY2VzcyI6eyJyb2xlcyI6WyJkZWZhdWx0LXJvbGVzLW1hc3RlciIsIm9mZmxpbmVfYWNjZXNzIiwidW1hX2F1dGhvcml6YXRpb24iXX0sInJlc291cmNlX2FjY2VzcyI6eyJtYXN0ZXItcmVhbG0iOnsicm9sZXMiOlsibWFuYWdlLXVzZXJzIiwidmlldy11c2VycyIsInF1ZXJ5LWdyb3VwcyIsInF1ZXJ5LXVzZXJzIl19LCJhY2NvdW50Ijp7InJvbGVzIjpbIm1hbmFnZS1hY2NvdW50IiwibWFuYWdlLWFjY291bnQtbGlua3MiLCJ2aWV3LXByb2ZpbGUiXX19LCJzY29wZSI6InByb2ZpbGUgZW1haWwiLCJzaWQiOiIxZDdiYmZjOS1lM2I4LTRjMDMtYjY2Yi1lN2RmNjZkOGU4NTkiLCJlbWFpbF92ZXJpZmllZCI6ZmFsc2UsImh0dHBzOi8vaGFzdXJhLmlvL2p3dC9jbGFpbXMiOnsieC1oYXN1cmEtdXNlci1pZCI6ImJhZGE0YmM3LTVlMTQtNGJkOS04ZWYwLTU5NmE1OGYzZDgwZCIsIngtaGFzdXJhLWRlZmF1bHQtcm9sZSI6InVzZXIiLCJ4LWhhc3VyYS1hbGxvd2VkLXJvbGVzIjpbInVzZXIiXSwieC1oYXN1cmEtdXNlci1ncm91cHMiOiJ7fSJ9LCJuYW1lIjoiSm9obiBIYW5zYXJpY2siLCJwcmVmZXJyZWRfdXNlcm5hbWUiOiJqb2huLmh1bW1lbEB3YWxsYXJvby5haSIsImdpdmVuX25hbWUiOiJKb2huIiwiZmFtaWx5X25hbWUiOiJIYW5zYXJpY2siLCJlbWFpbCI6ImpvaG4uaHVtbWVsQHdhbGxhcm9vLmFpIn0.YUX2hsPZpKdSupYxVGcXRO5N_U3QUgXXor2CSccZWa_-4mFo9PDndpddn7CxYFvzqa1JKgobc51VsDpHYdALRQ0lt_0Uw5W4k5gGSrxLWOi0VLRCPjMsILPrQDVbeij-vy4Sr9CwKmEIeS8Yy2UBu9jYVpt8QaZUcneUUXjNKYUMJ4QrKA6nRXkUAbSYXA7prPNrQ5a10bTH46C67Biq0FIMwGPpIf3visYdows1IumpYHMUofFfHuia8wvQxdYjDLGGCMKIUAPrACELawIXKUMhfv8clx3jxhbePMwDIeYdo2lcG1iaW3lwO2XtbDx_UBgMYv1CJuvo6nl1KFqTAg'"
      ]
     },
     "execution_count": 34,
     "metadata": {},
     "output_type": "execute_result"
    }
   ],
   "source": [
    "connection =wl.mlops().__dict__\n",
    "token = connection['token']\n",
    "token"
   ]
  },
  {
   "cell_type": "code",
   "execution_count": 35,
   "metadata": {},
   "outputs": [],
   "source": [
    "if arrowEnabled is True:\n",
    "    dataFile=\"./data/data_25k.df.json\"\n",
    "    contentType=\"application/json; format=pandas-records\"\n",
    "else:\n",
    "    dataFile=\"./data/data_25k.json\"\n",
    "    contentType=\"application/json\""
   ]
  },
  {
   "cell_type": "code",
   "execution_count": 36,
   "metadata": {},
   "outputs": [
    {
     "name": "stdout",
     "output_type": "stream",
     "text": [
      "  % Total    % Received % Xferd  Average Speed   Time    Time     Time  Current\n",
      "                                 Dload  Upload   Total   Spent    Left  Speed\n",
      "100 34.4M  100 16.3M  100 18.0M  1507k  1659k  0:00:11  0:00:11 --:--:-- 4650k\n"
     ]
    }
   ],
   "source": [
    "!curl -X POST {inference_url} -H \"Authorization: Bearer {token}\" -H \"Content-Type:{contentType}\" --data @{dataFile} > curl_response.txt"
   ]
  },
  {
   "cell_type": "markdown",
   "metadata": {},
   "source": [
    "## Undeploy Pipeline\n",
    "\n",
    "When finished with our tests, we will undeploy the pipeline so we have the Kubernetes resources back for other tasks.  Note that if the deployment variable is unchanged aloha_pipeline.deploy() will restart the inference engine in the same configuration as before."
   ]
  },
  {
   "cell_type": "code",
   "execution_count": 37,
   "metadata": {},
   "outputs": [
    {
     "data": {
      "text/html": [
       "<table><tr><th>name</th> <td>ufonalohapipeline</td></tr><tr><th>created</th> <td>2023-02-16 19:10:17.367944+00:00</td></tr><tr><th>last_updated</th> <td>2023-02-16 19:10:22.844172+00:00</td></tr><tr><th>deployed</th> <td>False</td></tr><tr><th>tags</th> <td></td></tr><tr><th>versions</th> <td>0feb9059-bf2b-42b0-9957-423ed8b60222, fc3519f0-96e8-4d55-96b5-439f19b30b5d</td></tr><tr><th>steps</th> <td>ufonalohamodel</td></tr></table>"
      ],
      "text/plain": [
       "{'name': 'ufonalohapipeline', 'create_time': datetime.datetime(2023, 2, 16, 19, 10, 17, 367944, tzinfo=tzutc()), 'definition': \"[{'ModelInference': {'models': [{'name': 'ufonalohamodel', 'version': 'cfdab747-0e03-4fb7-8f65-f09e774a9566', 'sha': 'd71d9ffc61aaac58c2b1ed70a2db13d1416fb9d3f5b891e5e4e2e97180fe22f8'}]}}]\"}"
      ]
     },
     "execution_count": 37,
     "metadata": {},
     "output_type": "execute_result"
    }
   ],
   "source": [
    "aloha_pipeline.undeploy()"
   ]
  }
 ],
 "metadata": {
  "kernelspec": {
   "display_name": "arrowtests",
   "language": "python",
   "name": "python3"
  },
  "language_info": {
   "codemirror_mode": {
    "name": "ipython",
    "version": 3
   },
   "file_extension": ".py",
   "mimetype": "text/x-python",
   "name": "python",
   "nbconvert_exporter": "python",
   "pygments_lexer": "ipython3",
   "version": "3.8.16"
  },
  "vscode": {
   "interpreter": {
    "hash": "7dda4bf3640b7fafcd1648658b879b4cc9f6ba6084e8fb356fdaaa1a461d1690"
   }
  }
 },
 "nbformat": 4,
 "nbformat_minor": 4
}
