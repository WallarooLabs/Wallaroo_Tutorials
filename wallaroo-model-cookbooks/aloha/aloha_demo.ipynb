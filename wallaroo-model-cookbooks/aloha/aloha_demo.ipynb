{
 "cells": [
  {
   "attachments": {},
   "cell_type": "markdown",
   "metadata": {},
   "source": [
    "This tutorial and the assets can be downloaded as part of the [Wallaroo Tutorials repository](https://github.com/WallarooLabs/Wallaroo_Tutorials/tree/main/wallaroo-model-cookbooks/aloha).\n",
    "\n",
    "## Aloha Demo\n",
    "\n",
    "In this notebook we will walk through a simple pipeline deployment to inference on a model. For this example we will be using an open source model that uses an [Aloha CNN LSTM model](https://www.researchgate.net/publication/348920204_Using_Auxiliary_Inputs_in_Deep_Learning_Models_for_Detecting_DGA-based_Domain_Names) for classifying Domain names as being either legitimate or being used for nefarious purposes such as malware distribution.  \n",
    "\n",
    "## Prerequisites\n",
    "\n",
    "* An installed Wallaroo instance.\n",
    "* The following Python libraries installed:\n",
    "  * `os`\n",
    "  * [`wallaroo`](https://pypi.org/project/wallaroo/): The Wallaroo SDK. Included with the Wallaroo JupyterHub service by default.\n",
    "  * [`pandas`](https://pypi.org/project/pandas/): Pandas, mainly used for Pandas DataFrame\n",
    "  * [`pyarrow`](https://pypi.org/project/pyarrow/): PyArrow for Apache Arrow support\n",
    "  * [`polars`](https://pypi.org/project/polars/): Polars for DataFrame with native Apache Arrow support\n",
    "\n",
    "## Tutorial Goals\n",
    "\n",
    "For our example, we will perform the following:\n",
    "\n",
    "* Create a workspace for our work.\n",
    "* Upload the Aloha model.\n",
    "* Create a pipeline that can ingest our submitted data, submit it to the model, and export the results\n",
    "* Run a sample inference through our pipeline by loading a file\n",
    "* Run a sample inference through our pipeline's URL and store the results in a file.\n",
    "\n",
    "All sample data and models are available through the [Wallaroo Quick Start Guide Samples repository](https://github.com/WallarooLabs/quickstartguide_samples)."
   ]
  },
  {
   "attachments": {},
   "cell_type": "markdown",
   "metadata": {},
   "source": [
    "### Connect to the Wallaroo Instance\n",
    "\n",
    "The first step is to connect to Wallaroo through the Wallaroo client.  The Python library is included in the Wallaroo install and available through the Jupyter Hub interface provided with your Wallaroo environment.\n",
    "\n",
    "This is accomplished using the `wallaroo.Client()` command, which provides a URL to grant the SDK permission to your specific Wallaroo environment.  When displayed, enter the URL into a browser and confirm permissions.  Store the connection into a variable that can be referenced later.\n",
    "\n",
    "If logging into the Wallaroo instance through the internal JupyterHub service, use `wl = wallaroo.Client()`.  If logging in externally, update the `wallarooPrefix` and `wallarooSuffix` variables with the proper DNS information.  For more information on Wallaroo DNS settings, see the [Wallaroo DNS Integration Guide](https://docs.wallaroo.ai/wallaroo-operations-guide/wallaroo-configuration/wallaroo-dns-guide/)."
   ]
  },
  {
   "cell_type": "code",
   "execution_count": 1,
   "metadata": {},
   "outputs": [],
   "source": [
    "import wallaroo\n",
    "from wallaroo.object import EntityNotFoundError\n",
    "\n",
    "# to display dataframe tables\n",
    "from IPython.display import display\n",
    "# used to display dataframe information without truncating\n",
    "import pandas as pd\n",
    "pd.set_option('display.max_colwidth', None)\n",
    "import pyarrow as pa\n",
    "\n",
    "import os\n",
    "# Used for the Wallaroo SDK version 2023.1\n",
    "os.environ[\"ARROW_ENABLED\"]=\"True\""
   ]
  },
  {
   "cell_type": "code",
   "execution_count": 2,
   "metadata": {},
   "outputs": [
    {
     "name": "stdout",
     "output_type": "stream",
     "text": [
      "Please log into the following URL in a web browser:\n",
      "\n",
      "\thttps://doc-test.keycloak.wallaroocommunity.ninja/auth/realms/master/device?user_code=XHGB-ICCD\n",
      "\n",
      "Login successful!\n"
     ]
    }
   ],
   "source": [
    "# Login through local Wallaroo instance\n",
    "\n",
    "wl = wallaroo.Client()"
   ]
  },
  {
   "attachments": {},
   "cell_type": "markdown",
   "metadata": {},
   "source": [
    "## Create the Workspace\n",
    "\n",
    "We will create a workspace to work in and call it the \"alohaworkspace\", then set it as current workspace environment.  We'll also create our pipeline in advance as `alohapipeline`.  The model name and the model file will be specified for use in later steps.\n",
    "\n",
    "To allow this tutorial to be run multiple times or by multiple users in the same Wallaroo instance, a random 4 character prefix will be added to the workspace, pipeline, and model."
   ]
  },
  {
   "cell_type": "code",
   "execution_count": 3,
   "metadata": {},
   "outputs": [],
   "source": [
    "import string\n",
    "import random\n",
    "\n",
    "# make a random 4 character prefix\n",
    "prefix= ''.join(random.choice(string.ascii_lowercase) for i in range(4))\n",
    "workspace_name = f'{prefix}alohaworkspace'\n",
    "pipeline_name = f'{prefix}alohapipeline'\n",
    "model_name = f'{prefix}alohamodel'\n",
    "model_file_name = './alohacnnlstm.zip'"
   ]
  },
  {
   "cell_type": "code",
   "execution_count": 4,
   "metadata": {},
   "outputs": [],
   "source": [
    "def get_workspace(name):\n",
    "    workspace = None\n",
    "    for ws in wl.list_workspaces():\n",
    "        if ws.name() == name:\n",
    "            workspace= ws\n",
    "    if(workspace == None):\n",
    "        workspace = wl.create_workspace(name)\n",
    "    return workspace\n",
    "\n",
    "def get_pipeline(name):\n",
    "    try:\n",
    "        pipeline = wl.pipelines_by_name(name)[0]\n",
    "    except EntityNotFoundError:\n",
    "        pipeline = wl.build_pipeline(name)\n",
    "    return pipeline"
   ]
  },
  {
   "cell_type": "code",
   "execution_count": 5,
   "metadata": {},
   "outputs": [
    {
     "data": {
      "text/html": [
       "\n",
       "        <table>\n",
       "            <tr>\n",
       "                <th>Name</th>\n",
       "                <th>Created At</th>\n",
       "                <th>Users</th>\n",
       "                <th>Models</th>\n",
       "                <th>Pipelines</th>\n",
       "            </tr>\n",
       "            \n",
       "        <tr >\n",
       "            <td>john.hummel@wallaroo.ai - Default Workspace</td>\n",
       "            <td>2023-03-27 21:18:30</td>\n",
       "            <td>['john.hummel@wallaroo.ai']</td>\n",
       "            <td>0</td>\n",
       "            <td>0</td>\n",
       "        </tr>\n",
       "        \n",
       "\n",
       "        <tr >\n",
       "            <td>cjeuccfraudworkspace</td>\n",
       "            <td>2023-03-27 21:19:03</td>\n",
       "            <td>['john.hummel@wallaroo.ai']</td>\n",
       "            <td>1</td>\n",
       "            <td>1</td>\n",
       "        </tr>\n",
       "        \n",
       "\n",
       "        <tr >\n",
       "            <td>abtesting</td>\n",
       "            <td>2023-03-27 21:23:15</td>\n",
       "            <td>['john.hummel@wallaroo.ai']</td>\n",
       "            <td>2</td>\n",
       "            <td>1</td>\n",
       "        </tr>\n",
       "        \n",
       "\n",
       "        <tr >\n",
       "            <td>housepricing</td>\n",
       "            <td>2023-03-27 21:37:22</td>\n",
       "            <td>['john.hummel@wallaroo.ai']</td>\n",
       "            <td>3</td>\n",
       "            <td>1</td>\n",
       "        </tr>\n",
       "        \n",
       "\n",
       "        <tr >\n",
       "            <td>rnwkalohaworkspace</td>\n",
       "            <td>2023-03-27 21:56:35</td>\n",
       "            <td>['john.hummel@wallaroo.ai']</td>\n",
       "            <td>1</td>\n",
       "            <td>1</td>\n",
       "        </tr>\n",
       "        \n",
       "\n",
       "        <tr >\n",
       "            <td>bikedayevalworkspace</td>\n",
       "            <td>2023-03-27 22:05:03</td>\n",
       "            <td>['john.hummel@wallaroo.ai']</td>\n",
       "            <td>1</td>\n",
       "            <td>1</td>\n",
       "        </tr>\n",
       "        \n",
       "\n",
       "        <tr >\n",
       "            <td>demandcurveworkspace</td>\n",
       "            <td>2023-03-27 22:07:56</td>\n",
       "            <td>['john.hummel@wallaroo.ai']</td>\n",
       "            <td>3</td>\n",
       "            <td>1</td>\n",
       "        </tr>\n",
       "        \n",
       "\n",
       "        <tr >\n",
       "            <td>zxukalohaworkspace</td>\n",
       "            <td>2023-03-27 22:12:13</td>\n",
       "            <td>['john.hummel@wallaroo.ai']</td>\n",
       "            <td>1</td>\n",
       "            <td>1</td>\n",
       "        </tr>\n",
       "        \n",
       "\n",
       "        <tr >\n",
       "            <td>sdkquickworkspace</td>\n",
       "            <td>2023-03-28 14:13:26</td>\n",
       "            <td>['john.hummel@wallaroo.ai']</td>\n",
       "            <td>1</td>\n",
       "            <td>1</td>\n",
       "        </tr>\n",
       "        \n",
       "\n",
       "        <tr >\n",
       "            <td>azuremlsdkworkspace</td>\n",
       "            <td>2023-03-28 14:25:50</td>\n",
       "            <td>['john.hummel@wallaroo.ai']</td>\n",
       "            <td>1</td>\n",
       "            <td>1</td>\n",
       "        </tr>\n",
       "        \n",
       "\n",
       "        <tr >\n",
       "            <td>gcpsdkworkspace</td>\n",
       "            <td>2023-03-28 14:51:43</td>\n",
       "            <td>['john.hummel@wallaroo.ai']</td>\n",
       "            <td>1</td>\n",
       "            <td>1</td>\n",
       "        </tr>\n",
       "        \n",
       "\n",
       "        <tr >\n",
       "            <td>databricksazuresdkworkspace</td>\n",
       "            <td>2023-03-28 15:15:34</td>\n",
       "            <td>['john.hummel@wallaroo.ai']</td>\n",
       "            <td>1</td>\n",
       "            <td>1</td>\n",
       "        </tr>\n",
       "        \n",
       "\n",
       "        <tr >\n",
       "            <td>ypfwhotswapworkspace</td>\n",
       "            <td>2023-03-28 16:43:19</td>\n",
       "            <td>['john.hummel@wallaroo.ai']</td>\n",
       "            <td>3</td>\n",
       "            <td>1</td>\n",
       "        </tr>\n",
       "        \n",
       "\n",
       "        <tr >\n",
       "            <td>axnhhotswapworkspace</td>\n",
       "            <td>2023-03-28 16:50:29</td>\n",
       "            <td>['john.hummel@wallaroo.ai']</td>\n",
       "            <td>3</td>\n",
       "            <td>1</td>\n",
       "        </tr>\n",
       "        \n",
       "\n",
       "        <tr >\n",
       "            <td>owlyedgeworkspaceexample</td>\n",
       "            <td>2023-03-28 19:16:47</td>\n",
       "            <td>['john.hummel@wallaroo.ai']</td>\n",
       "            <td>1</td>\n",
       "            <td>1</td>\n",
       "        </tr>\n",
       "        \n",
       "\n",
       "        <tr >\n",
       "            <td>pqrdedgeworkspaceexample</td>\n",
       "            <td>2023-03-28 19:49:30</td>\n",
       "            <td>['john.hummel@wallaroo.ai']</td>\n",
       "            <td>1</td>\n",
       "            <td>1</td>\n",
       "        </tr>\n",
       "        \n",
       "\n",
       "        <tr >\n",
       "            <td>uqtvimdbworkspace</td>\n",
       "            <td>2023-03-29 15:20:03</td>\n",
       "            <td>['john.hummel@wallaroo.ai']</td>\n",
       "            <td>2</td>\n",
       "            <td>1</td>\n",
       "        </tr>\n",
       "        \n",
       "\n",
       "        <tr >\n",
       "            <td>mlflowstatsmodelworkspace</td>\n",
       "            <td>2023-03-29 15:30:46</td>\n",
       "            <td>['john.hummel@wallaroo.ai']</td>\n",
       "            <td>2</td>\n",
       "            <td>1</td>\n",
       "        </tr>\n",
       "        \n",
       "\n",
       "        <tr >\n",
       "            <td>testautoconversion</td>\n",
       "            <td>2023-03-29 16:33:09</td>\n",
       "            <td>['john.hummel@wallaroo.ai']</td>\n",
       "            <td>2</td>\n",
       "            <td>0</td>\n",
       "        </tr>\n",
       "        \n",
       "\n",
       "        <tr >\n",
       "            <td>isolettest</td>\n",
       "            <td>2023-03-29 16:45:09</td>\n",
       "            <td>['john.hummel@wallaroo.ai']</td>\n",
       "            <td>1</td>\n",
       "            <td>1</td>\n",
       "        </tr>\n",
       "        \n",
       "\n",
       "        <tr >\n",
       "            <td>houseprice</td>\n",
       "            <td>2023-03-29 17:26:54</td>\n",
       "            <td>['john.hummel@wallaroo.ai']</td>\n",
       "            <td>3</td>\n",
       "            <td>3</td>\n",
       "        </tr>\n",
       "        \n",
       "\n",
       "        <tr >\n",
       "            <td>statsmodelworkspacetest01</td>\n",
       "            <td>2023-03-30 19:26:06</td>\n",
       "            <td>['john.hummel@wallaroo.ai']</td>\n",
       "            <td>2</td>\n",
       "            <td>1</td>\n",
       "        </tr>\n",
       "        \n",
       "\n",
       "        <tr >\n",
       "            <td>bikedayevalworkspace2</td>\n",
       "            <td>2023-03-31 13:46:39</td>\n",
       "            <td>['john.hummel@wallaroo.ai']</td>\n",
       "            <td>1</td>\n",
       "            <td>1</td>\n",
       "        </tr>\n",
       "        \n",
       "\n",
       "        <tr >\n",
       "            <td>sdkinferenceexampleworkspace</td>\n",
       "            <td>2023-03-31 15:31:32</td>\n",
       "            <td>['john.hummel@wallaroo.ai']</td>\n",
       "            <td>1</td>\n",
       "            <td>1</td>\n",
       "        </tr>\n",
       "        \n",
       "        </table>\n",
       "        "
      ],
      "text/plain": [
       "[{'name': 'john.hummel@wallaroo.ai - Default Workspace', 'id': 1, 'archived': False, 'created_by': '56d97480-bb64-4575-acb6-f93d05652e86', 'created_at': '2023-03-27T21:18:30.063288+00:00', 'models': [], 'pipelines': []},\n",
       " {'name': 'cjeuccfraudworkspace', 'id': 5, 'archived': False, 'created_by': '56d97480-bb64-4575-acb6-f93d05652e86', 'created_at': '2023-03-27T21:19:03.340752+00:00', 'models': [{'name': 'cjeuccfraudmodel', 'versions': 1, 'owner_id': '\"\"', 'last_update_time': datetime.datetime(2023, 3, 27, 21, 19, 8, 730944, tzinfo=tzutc()), 'created_at': datetime.datetime(2023, 3, 27, 21, 19, 8, 730944, tzinfo=tzutc())}], 'pipelines': [{'name': 'cjeuccfraudpipeline', 'create_time': datetime.datetime(2023, 3, 27, 21, 19, 10, 825840, tzinfo=tzutc()), 'definition': '[]'}]},\n",
       " {'name': 'abtesting', 'id': 6, 'archived': False, 'created_by': '56d97480-bb64-4575-acb6-f93d05652e86', 'created_at': '2023-03-27T21:23:15.213957+00:00', 'models': [{'name': 'aloha-control', 'versions': 1, 'owner_id': '\"\"', 'last_update_time': datetime.datetime(2023, 3, 27, 21, 23, 17, 477742, tzinfo=tzutc()), 'created_at': datetime.datetime(2023, 3, 27, 21, 23, 17, 477742, tzinfo=tzutc())}, {'name': 'aloha-challenger', 'versions': 1, 'owner_id': '\"\"', 'last_update_time': datetime.datetime(2023, 3, 27, 21, 23, 18, 799252, tzinfo=tzutc()), 'created_at': datetime.datetime(2023, 3, 27, 21, 23, 18, 799252, tzinfo=tzutc())}], 'pipelines': [{'name': 'randomsplitpipeline-demo', 'create_time': datetime.datetime(2023, 3, 27, 21, 23, 19, 527680, tzinfo=tzutc()), 'definition': '[]'}]},\n",
       " {'name': 'housepricing', 'id': 7, 'archived': False, 'created_by': '56d97480-bb64-4575-acb6-f93d05652e86', 'created_at': '2023-03-27T21:37:22.643538+00:00', 'models': [{'name': 'housepricemodel', 'versions': 1, 'owner_id': '\"\"', 'last_update_time': datetime.datetime(2023, 3, 27, 21, 37, 24, 804588, tzinfo=tzutc()), 'created_at': datetime.datetime(2023, 3, 27, 21, 37, 24, 804588, tzinfo=tzutc())}, {'name': 'preprocess', 'versions': 1, 'owner_id': '\"\"', 'last_update_time': datetime.datetime(2023, 3, 27, 21, 37, 25, 828814, tzinfo=tzutc()), 'created_at': datetime.datetime(2023, 3, 27, 21, 37, 25, 828814, tzinfo=tzutc())}, {'name': 'postprocess', 'versions': 1, 'owner_id': '\"\"', 'last_update_time': datetime.datetime(2023, 3, 27, 21, 37, 26, 540894, tzinfo=tzutc()), 'created_at': datetime.datetime(2023, 3, 27, 21, 37, 26, 540894, tzinfo=tzutc())}], 'pipelines': [{'name': 'housing-pipe', 'create_time': datetime.datetime(2023, 3, 27, 21, 37, 27, 267496, tzinfo=tzutc()), 'definition': '[]'}]},\n",
       " {'name': 'rnwkalohaworkspace', 'id': 8, 'archived': False, 'created_by': '56d97480-bb64-4575-acb6-f93d05652e86', 'created_at': '2023-03-27T21:56:35.195109+00:00', 'models': [{'name': 'rnwkalohamodel', 'versions': 1, 'owner_id': '\"\"', 'last_update_time': datetime.datetime(2023, 3, 27, 21, 56, 39, 580601, tzinfo=tzutc()), 'created_at': datetime.datetime(2023, 3, 27, 21, 56, 39, 580601, tzinfo=tzutc())}], 'pipelines': [{'name': 'rnwkalohapipeline', 'create_time': datetime.datetime(2023, 3, 27, 21, 56, 35, 893373, tzinfo=tzutc()), 'definition': '[]'}]},\n",
       " {'name': 'bikedayevalworkspace', 'id': 9, 'archived': False, 'created_by': '56d97480-bb64-4575-acb6-f93d05652e86', 'created_at': '2023-03-27T22:05:03.08475+00:00', 'models': [{'name': 'bikedaymodel', 'versions': 6, 'owner_id': '\"\"', 'last_update_time': datetime.datetime(2023, 3, 31, 13, 43, 20, 874736, tzinfo=tzutc()), 'created_at': datetime.datetime(2023, 3, 27, 22, 5, 6, 185280, tzinfo=tzutc())}], 'pipelines': [{'name': 'bikedayevalpipeline', 'create_time': datetime.datetime(2023, 3, 27, 22, 5, 4, 176546, tzinfo=tzutc()), 'definition': '[]'}]},\n",
       " {'name': 'demandcurveworkspace', 'id': 10, 'archived': False, 'created_by': '56d97480-bb64-4575-acb6-f93d05652e86', 'created_at': '2023-03-27T22:07:56.452542+00:00', 'models': [{'name': 'demandcurvemodel', 'versions': 1, 'owner_id': '\"\"', 'last_update_time': datetime.datetime(2023, 3, 27, 22, 7, 59, 184855, tzinfo=tzutc()), 'created_at': datetime.datetime(2023, 3, 27, 22, 7, 59, 184855, tzinfo=tzutc())}, {'name': 'preprocess', 'versions': 1, 'owner_id': '\"\"', 'last_update_time': datetime.datetime(2023, 3, 27, 22, 8, 0, 228607, tzinfo=tzutc()), 'created_at': datetime.datetime(2023, 3, 27, 22, 8, 0, 228607, tzinfo=tzutc())}, {'name': 'postprocess', 'versions': 1, 'owner_id': '\"\"', 'last_update_time': datetime.datetime(2023, 3, 27, 22, 8, 0, 932190, tzinfo=tzutc()), 'created_at': datetime.datetime(2023, 3, 27, 22, 8, 0, 932190, tzinfo=tzutc())}], 'pipelines': [{'name': 'demandcurvepipeline', 'create_time': datetime.datetime(2023, 3, 27, 22, 7, 57, 525519, tzinfo=tzutc()), 'definition': '[]'}]},\n",
       " {'name': 'zxukalohaworkspace', 'id': 11, 'archived': False, 'created_by': '56d97480-bb64-4575-acb6-f93d05652e86', 'created_at': '2023-03-27T22:12:13.863035+00:00', 'models': [{'name': 'zxukalohamodel', 'versions': 1, 'owner_id': '\"\"', 'last_update_time': datetime.datetime(2023, 3, 27, 22, 12, 18, 113124, tzinfo=tzutc()), 'created_at': datetime.datetime(2023, 3, 27, 22, 12, 18, 113124, tzinfo=tzutc())}], 'pipelines': [{'name': 'zxukalohapipeline', 'create_time': datetime.datetime(2023, 3, 27, 22, 12, 14, 559376, tzinfo=tzutc()), 'definition': '[]'}]},\n",
       " {'name': 'sdkquickworkspace', 'id': 12, 'archived': False, 'created_by': '56d97480-bb64-4575-acb6-f93d05652e86', 'created_at': '2023-03-28T14:13:26.646532+00:00', 'models': [{'name': 'sdkquickmodel', 'versions': 3, 'owner_id': '\"\"', 'last_update_time': datetime.datetime(2023, 3, 29, 21, 37, 42, 451756, tzinfo=tzutc()), 'created_at': datetime.datetime(2023, 3, 28, 14, 13, 31, 278135, tzinfo=tzutc())}], 'pipelines': [{'name': 'sdkquickpipeline', 'create_time': datetime.datetime(2023, 3, 28, 14, 13, 27, 660871, tzinfo=tzutc()), 'definition': '[]'}]},\n",
       " {'name': 'azuremlsdkworkspace', 'id': 13, 'archived': False, 'created_by': '56d97480-bb64-4575-acb6-f93d05652e86', 'created_at': '2023-03-28T14:25:50.692054+00:00', 'models': [{'name': 'azuremlsdkmodel', 'versions': 1, 'owner_id': '\"\"', 'last_update_time': datetime.datetime(2023, 3, 28, 14, 25, 55, 25568, tzinfo=tzutc()), 'created_at': datetime.datetime(2023, 3, 28, 14, 25, 55, 25568, tzinfo=tzutc())}], 'pipelines': [{'name': 'azuremlsdkpipeline', 'create_time': datetime.datetime(2023, 3, 28, 14, 25, 51, 660058, tzinfo=tzutc()), 'definition': '[]'}]},\n",
       " {'name': 'gcpsdkworkspace', 'id': 14, 'archived': False, 'created_by': '56d97480-bb64-4575-acb6-f93d05652e86', 'created_at': '2023-03-28T14:51:43.283556+00:00', 'models': [{'name': 'gcpsdkmodel', 'versions': 1, 'owner_id': '\"\"', 'last_update_time': datetime.datetime(2023, 3, 28, 14, 51, 47, 789844, tzinfo=tzutc()), 'created_at': datetime.datetime(2023, 3, 28, 14, 51, 47, 789844, tzinfo=tzutc())}], 'pipelines': [{'name': 'gcpsdkpipeline', 'create_time': datetime.datetime(2023, 3, 28, 14, 51, 44, 302498, tzinfo=tzutc()), 'definition': '[]'}]},\n",
       " {'name': 'databricksazuresdkworkspace', 'id': 15, 'archived': False, 'created_by': '56d97480-bb64-4575-acb6-f93d05652e86', 'created_at': '2023-03-28T15:15:34.07038+00:00', 'models': [{'name': 'ccfraudmodel', 'versions': 1, 'owner_id': '\"\"', 'last_update_time': datetime.datetime(2023, 3, 28, 15, 15, 37, 920592, tzinfo=tzutc()), 'created_at': datetime.datetime(2023, 3, 28, 15, 15, 37, 920592, tzinfo=tzutc())}], 'pipelines': [{'name': 'databricksazuresdkpipeline', 'create_time': datetime.datetime(2023, 3, 28, 15, 15, 35, 92256, tzinfo=tzutc()), 'definition': '[]'}]},\n",
       " {'name': 'ypfwhotswapworkspace', 'id': 16, 'archived': False, 'created_by': '56d97480-bb64-4575-acb6-f93d05652e86', 'created_at': '2023-03-28T16:43:19.743034+00:00', 'models': [{'name': 'ypfwhousingmodelcontrol', 'versions': 1, 'owner_id': '\"\"', 'last_update_time': datetime.datetime(2023, 3, 28, 16, 43, 23, 937540, tzinfo=tzutc()), 'created_at': datetime.datetime(2023, 3, 28, 16, 43, 23, 937540, tzinfo=tzutc())}, {'name': 'ypfwgbrhousingchallenger', 'versions': 1, 'owner_id': '\"\"', 'last_update_time': datetime.datetime(2023, 3, 28, 16, 43, 24, 663946, tzinfo=tzutc()), 'created_at': datetime.datetime(2023, 3, 28, 16, 43, 24, 663946, tzinfo=tzutc())}, {'name': 'ypfwxgbhousingchallenger', 'versions': 1, 'owner_id': '\"\"', 'last_update_time': datetime.datetime(2023, 3, 28, 16, 43, 25, 326293, tzinfo=tzutc()), 'created_at': datetime.datetime(2023, 3, 28, 16, 43, 25, 326293, tzinfo=tzutc())}], 'pipelines': [{'name': 'ypfwhotswappipeline', 'create_time': datetime.datetime(2023, 3, 28, 16, 43, 20, 781852, tzinfo=tzutc()), 'definition': '[]'}]},\n",
       " {'name': 'axnhhotswapworkspace', 'id': 17, 'archived': False, 'created_by': '56d97480-bb64-4575-acb6-f93d05652e86', 'created_at': '2023-03-28T16:50:29.354979+00:00', 'models': [{'name': 'axnhhousingmodelcontrol', 'versions': 1, 'owner_id': '\"\"', 'last_update_time': datetime.datetime(2023, 3, 28, 16, 50, 31, 994506, tzinfo=tzutc()), 'created_at': datetime.datetime(2023, 3, 28, 16, 50, 31, 994506, tzinfo=tzutc())}, {'name': 'axnhgbrhousingchallenger', 'versions': 1, 'owner_id': '\"\"', 'last_update_time': datetime.datetime(2023, 3, 28, 16, 50, 32, 740417, tzinfo=tzutc()), 'created_at': datetime.datetime(2023, 3, 28, 16, 50, 32, 740417, tzinfo=tzutc())}, {'name': 'axnhxgbhousingchallenger', 'versions': 1, 'owner_id': '\"\"', 'last_update_time': datetime.datetime(2023, 3, 28, 16, 50, 33, 364914, tzinfo=tzutc()), 'created_at': datetime.datetime(2023, 3, 28, 16, 50, 33, 364914, tzinfo=tzutc())}], 'pipelines': [{'name': 'axnhhotswappipeline', 'create_time': datetime.datetime(2023, 3, 28, 16, 50, 30, 27322, tzinfo=tzutc()), 'definition': '[]'}]},\n",
       " {'name': 'owlyedgeworkspaceexample', 'id': 18, 'archived': False, 'created_by': '56d97480-bb64-4575-acb6-f93d05652e86', 'created_at': '2023-03-28T19:16:47.658857+00:00', 'models': [{'name': 'owlyalohamodel', 'versions': 1, 'owner_id': '\"\"', 'last_update_time': datetime.datetime(2023, 3, 28, 19, 16, 50, 27545, tzinfo=tzutc()), 'created_at': datetime.datetime(2023, 3, 28, 19, 16, 50, 27545, tzinfo=tzutc())}], 'pipelines': [{'name': 'owlyedgepipelineexample', 'create_time': datetime.datetime(2023, 3, 28, 19, 16, 51, 67087, tzinfo=tzutc()), 'definition': '[]'}]},\n",
       " {'name': 'pqrdedgeworkspaceexample', 'id': 19, 'archived': False, 'created_by': '56d97480-bb64-4575-acb6-f93d05652e86', 'created_at': '2023-03-28T19:49:30.615031+00:00', 'models': [{'name': 'pqrdalohamodel', 'versions': 1, 'owner_id': '\"\"', 'last_update_time': datetime.datetime(2023, 3, 28, 19, 49, 33, 905807, tzinfo=tzutc()), 'created_at': datetime.datetime(2023, 3, 28, 19, 49, 33, 905807, tzinfo=tzutc())}], 'pipelines': [{'name': 'pqrdedgepipelineexample', 'create_time': datetime.datetime(2023, 3, 28, 19, 49, 41, 671, tzinfo=tzutc()), 'definition': '[]'}]},\n",
       " {'name': 'uqtvimdbworkspace', 'id': 20, 'archived': False, 'created_by': '56d97480-bb64-4575-acb6-f93d05652e86', 'created_at': '2023-03-29T15:20:03.558918+00:00', 'models': [{'name': 'uqtvembedder-o', 'versions': 1, 'owner_id': '\"\"', 'last_update_time': datetime.datetime(2023, 3, 29, 15, 20, 7, 999808, tzinfo=tzutc()), 'created_at': datetime.datetime(2023, 3, 29, 15, 20, 7, 999808, tzinfo=tzutc())}, {'name': 'uqtvsmodel-o', 'versions': 1, 'owner_id': '\"\"', 'last_update_time': datetime.datetime(2023, 3, 29, 15, 20, 9, 63857, tzinfo=tzutc()), 'created_at': datetime.datetime(2023, 3, 29, 15, 20, 9, 63857, tzinfo=tzutc())}], 'pipelines': [{'name': 'uqtvimdbpipeline', 'create_time': datetime.datetime(2023, 3, 29, 15, 20, 4, 617760, tzinfo=tzutc()), 'definition': '[]'}]},\n",
       " {'name': 'mlflowstatsmodelworkspace', 'id': 21, 'archived': False, 'created_by': '56d97480-bb64-4575-acb6-f93d05652e86', 'created_at': '2023-03-29T15:30:46.137069+00:00', 'models': [{'name': 'mlflowstatmodels', 'versions': 3, 'owner_id': '\"\"', 'last_update_time': datetime.datetime(2023, 3, 30, 19, 38, 25, 671782, tzinfo=tzutc()), 'created_at': datetime.datetime(2023, 3, 29, 15, 30, 47, 514543, tzinfo=tzutc())}, {'name': 'mlflowpostprocess', 'versions': 3, 'owner_id': '\"\"', 'last_update_time': datetime.datetime(2023, 3, 30, 19, 38, 26, 530175, tzinfo=tzutc()), 'created_at': datetime.datetime(2023, 3, 29, 15, 30, 48, 84554, tzinfo=tzutc())}], 'pipelines': [{'name': 'mlflowstatsmodelpipeline', 'create_time': datetime.datetime(2023, 3, 29, 15, 30, 47, 168398, tzinfo=tzutc()), 'definition': '[]'}]},\n",
       " {'name': 'testautoconversion', 'id': 22, 'archived': False, 'created_by': '56d97480-bb64-4575-acb6-f93d05652e86', 'created_at': '2023-03-29T16:33:09.14146+00:00', 'models': [{'name': 'sklearntest', 'versions': 1, 'owner_id': '\"\"', 'last_update_time': datetime.datetime(2023, 3, 29, 16, 33, 10, 860213, tzinfo=tzutc()), 'created_at': datetime.datetime(2023, 3, 29, 16, 33, 10, 860213, tzinfo=tzutc())}, {'name': 'xgbtestreg', 'versions': 1, 'owner_id': '\"\"', 'last_update_time': datetime.datetime(2023, 3, 29, 16, 33, 11, 977787, tzinfo=tzutc()), 'created_at': datetime.datetime(2023, 3, 29, 16, 33, 11, 977787, tzinfo=tzutc())}], 'pipelines': []},\n",
       " {'name': 'isolettest', 'id': 23, 'archived': False, 'created_by': '56d97480-bb64-4575-acb6-f93d05652e86', 'created_at': '2023-03-29T16:45:09.094145+00:00', 'models': [{'name': 'isolettest', 'versions': 1, 'owner_id': '\"\"', 'last_update_time': datetime.datetime(2023, 3, 29, 16, 45, 12, 46415, tzinfo=tzutc()), 'created_at': datetime.datetime(2023, 3, 29, 16, 45, 12, 46415, tzinfo=tzutc())}], 'pipelines': [{'name': 'isoletpipeline', 'create_time': datetime.datetime(2023, 3, 29, 16, 45, 10, 61069, tzinfo=tzutc()), 'definition': '[]'}]},\n",
       " {'name': 'houseprice', 'id': 24, 'archived': False, 'created_by': '56d97480-bb64-4575-acb6-f93d05652e86', 'created_at': '2023-03-29T17:26:54.314916+00:00', 'models': [{'name': 'housingcontrol', 'versions': 8, 'owner_id': '\"\"', 'last_update_time': datetime.datetime(2023, 3, 29, 20, 23, 40, 327185, tzinfo=tzutc()), 'created_at': datetime.datetime(2023, 3, 29, 17, 26, 56, 389116, tzinfo=tzutc())}, {'name': 'housingchallenger01', 'versions': 6, 'owner_id': '\"\"', 'last_update_time': datetime.datetime(2023, 3, 29, 20, 23, 46, 695965, tzinfo=tzutc()), 'created_at': datetime.datetime(2023, 3, 29, 17, 45, 39, 264722, tzinfo=tzutc())}, {'name': 'housingchallenger02', 'versions': 6, 'owner_id': '\"\"', 'last_update_time': datetime.datetime(2023, 3, 29, 20, 23, 48, 82019, tzinfo=tzutc()), 'created_at': datetime.datetime(2023, 3, 29, 17, 45, 40, 666008, tzinfo=tzutc())}], 'pipelines': [{'name': 'housepriceabtesting', 'create_time': datetime.datetime(2023, 3, 29, 17, 45, 41, 678930, tzinfo=tzutc()), 'definition': '[]'}, {'name': 'housepriceshadowtesting', 'create_time': datetime.datetime(2023, 3, 29, 19, 31, 26, 274598, tzinfo=tzutc()), 'definition': '[]'}, {'name': 'housepricepipeline', 'create_time': datetime.datetime(2023, 3, 29, 17, 27, 50, 527879, tzinfo=tzutc()), 'definition': '[]'}]},\n",
       " {'name': 'statsmodelworkspacetest01', 'id': 25, 'archived': False, 'created_by': '56d97480-bb64-4575-acb6-f93d05652e86', 'created_at': '2023-03-30T19:26:06.492737+00:00', 'models': [{'name': 'statsmodels-test-statmodels', 'versions': 1, 'owner_id': '\"\"', 'last_update_time': datetime.datetime(2023, 3, 30, 19, 27, 53, 869239, tzinfo=tzutc()), 'created_at': datetime.datetime(2023, 3, 30, 19, 27, 53, 869239, tzinfo=tzutc())}, {'name': 'statsmodels-test-postprocess', 'versions': 1, 'owner_id': '\"\"', 'last_update_time': datetime.datetime(2023, 3, 30, 19, 27, 54, 899659, tzinfo=tzutc()), 'created_at': datetime.datetime(2023, 3, 30, 19, 27, 54, 899659, tzinfo=tzutc())}], 'pipelines': [{'name': 'statsmodelpipelinetest01', 'create_time': datetime.datetime(2023, 3, 30, 19, 26, 7, 944005, tzinfo=tzutc()), 'definition': '[]'}]},\n",
       " {'name': 'bikedayevalworkspace2', 'id': 26, 'archived': False, 'created_by': '56d97480-bb64-4575-acb6-f93d05652e86', 'created_at': '2023-03-31T13:46:39.810152+00:00', 'models': [{'name': 'bikedaymodel2', 'versions': 5, 'owner_id': '\"\"', 'last_update_time': datetime.datetime(2023, 3, 31, 14, 19, 31, 43441, tzinfo=tzutc()), 'created_at': datetime.datetime(2023, 3, 31, 13, 46, 42, 805698, tzinfo=tzutc())}], 'pipelines': [{'name': 'bikedayevalpipeline2', 'create_time': datetime.datetime(2023, 3, 31, 13, 46, 40, 869639, tzinfo=tzutc()), 'definition': '[]'}]},\n",
       " {'name': 'sdkinferenceexampleworkspace', 'id': 27, 'archived': False, 'created_by': '56d97480-bb64-4575-acb6-f93d05652e86', 'created_at': '2023-03-31T15:31:32.386944+00:00', 'models': [{'name': 'ccfraud', 'versions': 2, 'owner_id': '\"\"', 'last_update_time': datetime.datetime(2023, 3, 31, 15, 33, 40, 881055, tzinfo=tzutc()), 'created_at': datetime.datetime(2023, 3, 31, 15, 31, 34, 812165, tzinfo=tzutc())}], 'pipelines': [{'name': 'sdkinferenceexamplepipeline', 'create_time': datetime.datetime(2023, 3, 31, 15, 31, 34, 385903, tzinfo=tzutc()), 'definition': '[]'}]}]"
      ]
     },
     "execution_count": 5,
     "metadata": {},
     "output_type": "execute_result"
    }
   ],
   "source": [
    "wl.list_workspaces()"
   ]
  },
  {
   "cell_type": "code",
   "execution_count": 6,
   "metadata": {},
   "outputs": [
    {
     "data": {
      "text/html": [
       "<table><tr><th>name</th> <td>nxpyalohapipeline</td></tr><tr><th>created</th> <td>2023-03-31 17:59:06.624155+00:00</td></tr><tr><th>last_updated</th> <td>2023-03-31 17:59:06.624155+00:00</td></tr><tr><th>deployed</th> <td>(none)</td></tr><tr><th>tags</th> <td></td></tr><tr><th>versions</th> <td>5e337109-98e3-4fc5-98d3-848e25947626</td></tr><tr><th>steps</th> <td></td></tr></table>"
      ],
      "text/plain": [
       "{'name': 'nxpyalohapipeline', 'create_time': datetime.datetime(2023, 3, 31, 17, 59, 6, 624155, tzinfo=tzutc()), 'definition': '[]'}"
      ]
     },
     "execution_count": 6,
     "metadata": {},
     "output_type": "execute_result"
    }
   ],
   "source": [
    "workspace = get_workspace(workspace_name)\n",
    "\n",
    "wl.set_current_workspace(workspace)\n",
    "\n",
    "aloha_pipeline = get_pipeline(pipeline_name)\n",
    "aloha_pipeline"
   ]
  },
  {
   "attachments": {},
   "cell_type": "markdown",
   "metadata": {},
   "source": [
    "We can verify the workspace is created the current default workspace with the `get_current_workspace()` command."
   ]
  },
  {
   "cell_type": "code",
   "execution_count": 7,
   "metadata": {},
   "outputs": [
    {
     "data": {
      "text/plain": [
       "{'name': 'nxpyalohaworkspace', 'id': 28, 'archived': False, 'created_by': '56d97480-bb64-4575-acb6-f93d05652e86', 'created_at': '2023-03-31T17:59:05.942298+00:00', 'models': [], 'pipelines': [{'name': 'nxpyalohapipeline', 'create_time': datetime.datetime(2023, 3, 31, 17, 59, 6, 624155, tzinfo=tzutc()), 'definition': '[]'}]}"
      ]
     },
     "execution_count": 7,
     "metadata": {},
     "output_type": "execute_result"
    }
   ],
   "source": [
    "wl.get_current_workspace()"
   ]
  },
  {
   "attachments": {},
   "cell_type": "markdown",
   "metadata": {},
   "source": [
    "# Upload the Models\n",
    "\n",
    "Now we will upload our models.  Note that for this example we are applying the model from a .ZIP file.  The Aloha model is a [protobuf](https://developers.google.com/protocol-buffers) file that has been defined for evaluating web pages, and we will configure it to use data in the `tensorflow` format."
   ]
  },
  {
   "cell_type": "code",
   "execution_count": 8,
   "metadata": {},
   "outputs": [],
   "source": [
    "model = wl.upload_model(model_name, model_file_name).configure(\"tensorflow\")"
   ]
  },
  {
   "attachments": {},
   "cell_type": "markdown",
   "metadata": {},
   "source": [
    "## Deploy a model\n",
    "\n",
    "Now that we have a model that we want to use we will create a deployment for it. \n",
    "\n",
    "We will tell the deployment we are using a tensorflow model and give the deployment name and the configuration we want for the deployment.\n",
    "\n",
    "To do this, we'll create our pipeline that can ingest the data, pass the data to our Aloha model, and give us a final output.  We'll call our pipeline `aloha-test-demo`, then deploy it so it's ready to receive data.  The deployment process usually takes about 45 seconds.\n",
    "\n",
    "* **Note**:  If you receive an error that the pipeline could not be deployed because there are not enough resources, undeploy any other pipelines and deploy this one again.  This command can quickly undeploy all pipelines to regain resources.  We recommend **not** running this command in a production environment since it will cancel any running pipelines:\n",
    "\n",
    "```python\n",
    "for p in wl.list_pipelines(): p.undeploy()\n",
    "```"
   ]
  },
  {
   "cell_type": "code",
   "execution_count": 9,
   "metadata": {},
   "outputs": [
    {
     "data": {
      "text/html": [
       "<table><tr><th>name</th> <td>nxpyalohapipeline</td></tr><tr><th>created</th> <td>2023-03-31 17:59:06.624155+00:00</td></tr><tr><th>last_updated</th> <td>2023-03-31 17:59:06.624155+00:00</td></tr><tr><th>deployed</th> <td>(none)</td></tr><tr><th>tags</th> <td></td></tr><tr><th>versions</th> <td>5e337109-98e3-4fc5-98d3-848e25947626</td></tr><tr><th>steps</th> <td></td></tr></table>"
      ],
      "text/plain": [
       "{'name': 'nxpyalohapipeline', 'create_time': datetime.datetime(2023, 3, 31, 17, 59, 6, 624155, tzinfo=tzutc()), 'definition': \"[{'ModelInference': {'models': [{'name': 'nxpyalohamodel', 'version': 'f4958379-53b3-43d8-9fe3-121e880dd509', 'sha': 'd71d9ffc61aaac58c2b1ed70a2db13d1416fb9d3f5b891e5e4e2e97180fe22f8'}]}}]\"}"
      ]
     },
     "execution_count": 9,
     "metadata": {},
     "output_type": "execute_result"
    }
   ],
   "source": [
    "aloha_pipeline.add_model_step(model)"
   ]
  },
  {
   "cell_type": "code",
   "execution_count": 10,
   "metadata": {},
   "outputs": [
    {
     "data": {
      "text/html": [
       "<table><tr><th>name</th> <td>nxpyalohapipeline</td></tr><tr><th>created</th> <td>2023-03-31 17:59:06.624155+00:00</td></tr><tr><th>last_updated</th> <td>2023-03-31 17:59:11.957515+00:00</td></tr><tr><th>deployed</th> <td>True</td></tr><tr><th>tags</th> <td></td></tr><tr><th>versions</th> <td>4fed4c37-1d75-4a26-89fe-93939cde3357, 5e337109-98e3-4fc5-98d3-848e25947626</td></tr><tr><th>steps</th> <td>nxpyalohamodel</td></tr></table>"
      ],
      "text/plain": [
       "{'name': 'nxpyalohapipeline', 'create_time': datetime.datetime(2023, 3, 31, 17, 59, 6, 624155, tzinfo=tzutc()), 'definition': \"[{'ModelInference': {'models': [{'name': 'nxpyalohamodel', 'version': 'f4958379-53b3-43d8-9fe3-121e880dd509', 'sha': 'd71d9ffc61aaac58c2b1ed70a2db13d1416fb9d3f5b891e5e4e2e97180fe22f8'}]}}]\"}"
      ]
     },
     "execution_count": 10,
     "metadata": {},
     "output_type": "execute_result"
    }
   ],
   "source": [
    "aloha_pipeline.deploy()"
   ]
  },
  {
   "attachments": {},
   "cell_type": "markdown",
   "metadata": {},
   "source": [
    "We can verify that the pipeline is running and list what models are associated with it."
   ]
  },
  {
   "cell_type": "code",
   "execution_count": 11,
   "metadata": {},
   "outputs": [
    {
     "data": {
      "text/plain": [
       "{'status': 'Running',\n",
       " 'details': [],\n",
       " 'engines': [{'ip': '10.244.3.13',\n",
       "   'name': 'engine-6b45589599-82cd2',\n",
       "   'status': 'Running',\n",
       "   'reason': None,\n",
       "   'details': [],\n",
       "   'pipeline_statuses': {'pipelines': [{'id': 'nxpyalohapipeline',\n",
       "      'status': 'Running'}]},\n",
       "   'model_statuses': {'models': [{'name': 'nxpyalohamodel',\n",
       "      'version': 'f4958379-53b3-43d8-9fe3-121e880dd509',\n",
       "      'sha': 'd71d9ffc61aaac58c2b1ed70a2db13d1416fb9d3f5b891e5e4e2e97180fe22f8',\n",
       "      'status': 'Running'}]}}],\n",
       " 'engine_lbs': [{'ip': '10.244.2.17',\n",
       "   'name': 'engine-lb-ddd995646-cv475',\n",
       "   'status': 'Running',\n",
       "   'reason': None,\n",
       "   'details': []}],\n",
       " 'sidekicks': []}"
      ]
     },
     "execution_count": 11,
     "metadata": {},
     "output_type": "execute_result"
    }
   ],
   "source": [
    "aloha_pipeline.status()"
   ]
  },
  {
   "attachments": {},
   "cell_type": "markdown",
   "metadata": {},
   "source": [
    "## Interferences\n",
    "\n",
    "### Infer 1 row\n",
    "\n",
    "Now that the pipeline is deployed and our Aloha model is in place, we'll perform a smoke test to verify the pipeline is up and running properly.  We'll use the `infer_from_file` command to load a single encoded URL into the inference engine and print the results back out.\n",
    "\n",
    "The result should tell us that the tokenized URL is legitimate (0) or fraud (1).  This sample data should return close to 1 in `out.main`."
   ]
  },
  {
   "cell_type": "code",
   "execution_count": 13,
   "metadata": {},
   "outputs": [
    {
     "data": {
      "text/html": [
       "<div>\n",
       "<style scoped>\n",
       "    .dataframe tbody tr th:only-of-type {\n",
       "        vertical-align: middle;\n",
       "    }\n",
       "\n",
       "    .dataframe tbody tr th {\n",
       "        vertical-align: top;\n",
       "    }\n",
       "\n",
       "    .dataframe thead th {\n",
       "        text-align: right;\n",
       "    }\n",
       "</style>\n",
       "<table border=\"1\" class=\"dataframe\">\n",
       "  <thead>\n",
       "    <tr style=\"text-align: right;\">\n",
       "      <th></th>\n",
       "      <th>time</th>\n",
       "      <th>in.text_input</th>\n",
       "      <th>out.banjori</th>\n",
       "      <th>out.corebot</th>\n",
       "      <th>out.cryptolocker</th>\n",
       "      <th>out.dircrypt</th>\n",
       "      <th>out.gozi</th>\n",
       "      <th>out.kraken</th>\n",
       "      <th>out.locky</th>\n",
       "      <th>out.main</th>\n",
       "      <th>out.matsnu</th>\n",
       "      <th>out.pykspa</th>\n",
       "      <th>out.qakbot</th>\n",
       "      <th>out.ramdo</th>\n",
       "      <th>out.ramnit</th>\n",
       "      <th>out.simda</th>\n",
       "      <th>out.suppobox</th>\n",
       "      <th>check_failures</th>\n",
       "    </tr>\n",
       "  </thead>\n",
       "  <tbody>\n",
       "    <tr>\n",
       "      <th>0</th>\n",
       "      <td>2023-03-31 17:59:33.841</td>\n",
       "      <td>[0, 0, 0, 0, 0, 0, 0, 0, 0, 0, 0, 0, 0, 0, 0, 0, 0, 0, 0, 0, 0, 0, 0, 0, 0, 0, 0, 0, 0, 0, 0, 0, 0, 0, 0, 0, 0, 0, 0, 0, 28, 16, 32, 23, 29, 32, 30, 19, 26, 17]</td>\n",
       "      <td>[0.0015195857]</td>\n",
       "      <td>[0.9829148]</td>\n",
       "      <td>[0.012099565]</td>\n",
       "      <td>[4.7591297e-05]</td>\n",
       "      <td>[2.0289372e-05]</td>\n",
       "      <td>[0.0003197726]</td>\n",
       "      <td>[0.011029283]</td>\n",
       "      <td>[0.997564]</td>\n",
       "      <td>[0.010341615]</td>\n",
       "      <td>[0.008038961]</td>\n",
       "      <td>[0.016155062]</td>\n",
       "      <td>[0.006236233]</td>\n",
       "      <td>[0.0009985751]</td>\n",
       "      <td>[1.793378e-26]</td>\n",
       "      <td>[1.3889951e-27]</td>\n",
       "      <td>0</td>\n",
       "    </tr>\n",
       "  </tbody>\n",
       "</table>\n",
       "</div>"
      ],
      "text/plain": [
       "                     time  \\\n",
       "0 2023-03-31 17:59:33.841   \n",
       "\n",
       "                                                                                                                                                      in.text_input  \\\n",
       "0  [0, 0, 0, 0, 0, 0, 0, 0, 0, 0, 0, 0, 0, 0, 0, 0, 0, 0, 0, 0, 0, 0, 0, 0, 0, 0, 0, 0, 0, 0, 0, 0, 0, 0, 0, 0, 0, 0, 0, 0, 28, 16, 32, 23, 29, 32, 30, 19, 26, 17]   \n",
       "\n",
       "      out.banjori  out.corebot out.cryptolocker     out.dircrypt  \\\n",
       "0  [0.0015195857]  [0.9829148]    [0.012099565]  [4.7591297e-05]   \n",
       "\n",
       "          out.gozi      out.kraken      out.locky    out.main     out.matsnu  \\\n",
       "0  [2.0289372e-05]  [0.0003197726]  [0.011029283]  [0.997564]  [0.010341615]   \n",
       "\n",
       "      out.pykspa     out.qakbot      out.ramdo      out.ramnit  \\\n",
       "0  [0.008038961]  [0.016155062]  [0.006236233]  [0.0009985751]   \n",
       "\n",
       "        out.simda     out.suppobox  check_failures  \n",
       "0  [1.793378e-26]  [1.3889951e-27]               0  "
      ]
     },
     "metadata": {},
     "output_type": "display_data"
    },
    {
     "data": {
      "text/html": [
       "<div>\n",
       "<style scoped>\n",
       "    .dataframe tbody tr th:only-of-type {\n",
       "        vertical-align: middle;\n",
       "    }\n",
       "\n",
       "    .dataframe tbody tr th {\n",
       "        vertical-align: top;\n",
       "    }\n",
       "\n",
       "    .dataframe thead th {\n",
       "        text-align: right;\n",
       "    }\n",
       "</style>\n",
       "<table border=\"1\" class=\"dataframe\">\n",
       "  <thead>\n",
       "    <tr style=\"text-align: right;\">\n",
       "      <th></th>\n",
       "      <th>time</th>\n",
       "      <th>out.main</th>\n",
       "    </tr>\n",
       "  </thead>\n",
       "  <tbody>\n",
       "    <tr>\n",
       "      <th>0</th>\n",
       "      <td>2023-03-31 17:59:33.841</td>\n",
       "      <td>[0.997564]</td>\n",
       "    </tr>\n",
       "  </tbody>\n",
       "</table>\n",
       "</div>"
      ],
      "text/plain": [
       "                     time    out.main\n",
       "0 2023-03-31 17:59:33.841  [0.997564]"
      ]
     },
     "metadata": {},
     "output_type": "display_data"
    }
   ],
   "source": [
    "smoke_test = pd.DataFrame.from_records(\n",
    "    [\n",
    "    {\n",
    "        \"text_input\":[\n",
    "            0,\n",
    "            0,\n",
    "            0,\n",
    "            0,\n",
    "            0,\n",
    "            0,\n",
    "            0,\n",
    "            0,\n",
    "            0,\n",
    "            0,\n",
    "            0,\n",
    "            0,\n",
    "            0,\n",
    "            0,\n",
    "            0,\n",
    "            0,\n",
    "            0,\n",
    "            0,\n",
    "            0,\n",
    "            0,\n",
    "            0,\n",
    "            0,\n",
    "            0,\n",
    "            0,\n",
    "            0,\n",
    "            0,\n",
    "            0,\n",
    "            0,\n",
    "            0,\n",
    "            0,\n",
    "            0,\n",
    "            0,\n",
    "            0,\n",
    "            0,\n",
    "            0,\n",
    "            0,\n",
    "            0,\n",
    "            0,\n",
    "            0,\n",
    "            0,\n",
    "            28,\n",
    "            16,\n",
    "            32,\n",
    "            23,\n",
    "            29,\n",
    "            32,\n",
    "            30,\n",
    "            19,\n",
    "            26,\n",
    "            17\n",
    "        ]\n",
    "    }\n",
    "]\n",
    ")\n",
    "\n",
    "result = aloha_pipeline.infer(smoke_test)\n",
    "display(result)\n",
    "display(result.loc[:, [\"time\",\"out.main\"]])"
   ]
  },
  {
   "attachments": {},
   "cell_type": "markdown",
   "metadata": {},
   "source": [
    "### Infer From File\n",
    "\n",
    "This time, we'll give it a bigger set of data to infer.  `./data/data_1k.arrow` is an Apache Arrow table with 1,000 records in it.  Once submitted, we'll turn the result into a DataFrame and display the first five results."
   ]
  },
  {
   "cell_type": "code",
   "execution_count": 33,
   "metadata": {},
   "outputs": [
    {
     "data": {
      "text/plain": [
       "pyarrow.Table\n",
       "time: timestamp[ms]\n",
       "in.text_input: list<item: float> not null\n",
       "  child 0, item: float\n",
       "out.banjori: list<inner: float not null> not null\n",
       "  child 0, inner: float not null\n",
       "out.corebot: list<inner: float not null> not null\n",
       "  child 0, inner: float not null\n",
       "out.cryptolocker: list<inner: float not null> not null\n",
       "  child 0, inner: float not null\n",
       "out.dircrypt: list<inner: float not null> not null\n",
       "  child 0, inner: float not null\n",
       "out.gozi: list<inner: float not null> not null\n",
       "  child 0, inner: float not null\n",
       "out.kraken: list<inner: float not null> not null\n",
       "  child 0, inner: float not null\n",
       "out.locky: list<inner: float not null> not null\n",
       "  child 0, inner: float not null\n",
       "out.main: list<inner: float not null> not null\n",
       "  child 0, inner: float not null\n",
       "out.matsnu: list<inner: float not null> not null\n",
       "  child 0, inner: float not null\n",
       "out.pykspa: list<inner: float not null> not null\n",
       "  child 0, inner: float not null\n",
       "out.qakbot: list<inner: float not null> not null\n",
       "  child 0, inner: float not null\n",
       "out.ramdo: list<inner: float not null> not null\n",
       "  child 0, inner: float not null\n",
       "out.ramnit: list<inner: float not null> not null\n",
       "  child 0, inner: float not null\n",
       "out.simda: list<inner: float not null> not null\n",
       "  child 0, inner: float not null\n",
       "out.suppobox: list<inner: float not null> not null\n",
       "  child 0, inner: float not null\n",
       "check_failures: int8\n",
       "----\n",
       "time: [[2023-03-27 22:13:54.719,2023-03-27 22:13:54.719,2023-03-27 22:13:54.719,2023-03-27 22:13:54.719,2023-03-27 22:13:54.719,...,2023-03-27 22:13:54.719,2023-03-27 22:13:54.719,2023-03-27 22:13:54.719,2023-03-27 22:13:54.719,2023-03-27 22:13:54.719]]\n",
       "in.text_input: [[[0,0,0,0,0,...,32,30,19,26,17],[0,0,0,0,0,...,29,12,36,31,12],...,[0,0,0,0,0,...,35,16,35,27,16],[0,0,0,0,0,...,24,29,14,36,13]]]\n",
       "out.banjori: [[[0.0015195871],[0.00002837503],...,[0.000005631568],[1.3068676e-12]]]\n",
       "out.corebot: [[[0.9829148],[0.0000127531175],...,[0.000003364268],[1.1029446e-9]]]\n",
       "out.cryptolocker: [[[0.012099565],[0.025435211],...,[0.13612257],[0.014839977]]]\n",
       "out.dircrypt: [[[0.000047591344],[6.150943e-10],...,[5.6732376e-11],[2.2757407e-8]]]\n",
       "out.gozi: [[[0.000020289392],[2.321783e-10],...,[2.7730579e-8],[8.438471e-15]]]\n",
       "out.kraken: [[[0.0003197726],[0.051351093],...,[0.0025221596],[0.30495796]]]\n",
       "out.locky: [[[0.011029272],[0.022038758],...,[0.05455696],[0.11627983]]]\n",
       "out.main: [[[0.997564],[0.9885122],...,[0.9998954],[0.99999803]]]\n",
       "..."
      ]
     },
     "metadata": {},
     "output_type": "display_data"
    }
   ],
   "source": [
    "result = aloha_pipeline.infer_from_file('./data/data_1k.arrow')\n",
    "display(result)"
   ]
  },
  {
   "cell_type": "code",
   "execution_count": 35,
   "metadata": {},
   "outputs": [
    {
     "data": {
      "text/html": [
       "<div>\n",
       "<style scoped>\n",
       "    .dataframe tbody tr th:only-of-type {\n",
       "        vertical-align: middle;\n",
       "    }\n",
       "\n",
       "    .dataframe tbody tr th {\n",
       "        vertical-align: top;\n",
       "    }\n",
       "\n",
       "    .dataframe thead th {\n",
       "        text-align: right;\n",
       "    }\n",
       "</style>\n",
       "<table border=\"1\" class=\"dataframe\">\n",
       "  <thead>\n",
       "    <tr style=\"text-align: right;\">\n",
       "      <th></th>\n",
       "      <th>time</th>\n",
       "      <th>out.main</th>\n",
       "    </tr>\n",
       "  </thead>\n",
       "  <tbody>\n",
       "    <tr>\n",
       "      <th>0</th>\n",
       "      <td>2023-03-27 22:13:54.719</td>\n",
       "      <td>[0.997564]</td>\n",
       "    </tr>\n",
       "    <tr>\n",
       "      <th>1</th>\n",
       "      <td>2023-03-27 22:13:54.719</td>\n",
       "      <td>[0.9885122]</td>\n",
       "    </tr>\n",
       "    <tr>\n",
       "      <th>2</th>\n",
       "      <td>2023-03-27 22:13:54.719</td>\n",
       "      <td>[0.9993358]</td>\n",
       "    </tr>\n",
       "    <tr>\n",
       "      <th>3</th>\n",
       "      <td>2023-03-27 22:13:54.719</td>\n",
       "      <td>[0.99999857]</td>\n",
       "    </tr>\n",
       "    <tr>\n",
       "      <th>4</th>\n",
       "      <td>2023-03-27 22:13:54.719</td>\n",
       "      <td>[0.9984837]</td>\n",
       "    </tr>\n",
       "    <tr>\n",
       "      <th>5</th>\n",
       "      <td>2023-03-27 22:13:54.719</td>\n",
       "      <td>[0.99999994]</td>\n",
       "    </tr>\n",
       "  </tbody>\n",
       "</table>\n",
       "</div>"
      ],
      "text/plain": [
       "                     time      out.main\n",
       "0 2023-03-27 22:13:54.719    [0.997564]\n",
       "1 2023-03-27 22:13:54.719   [0.9885122]\n",
       "2 2023-03-27 22:13:54.719   [0.9993358]\n",
       "3 2023-03-27 22:13:54.719  [0.99999857]\n",
       "4 2023-03-27 22:13:54.719   [0.9984837]\n",
       "5 2023-03-27 22:13:54.719  [0.99999994]"
      ]
     },
     "metadata": {},
     "output_type": "display_data"
    }
   ],
   "source": [
    "outputs =  result.to_pandas()\n",
    "display(outputs.loc[:5, [\"time\",\"out.main\"]])"
   ]
  },
  {
   "attachments": {},
   "cell_type": "markdown",
   "metadata": {},
   "source": [
    "### Batch Inference\n",
    "\n",
    "Now that our smoke test is successful, let's really give it some data.  We have two inference files we can use:\n",
    "\n",
    "* `data_1k.arrow`:  Contains 10,000 inferences\n",
    "* `data_25k.arrow`: Contains 25,000 inferences\n",
    "\n",
    "When Apache Arrow tables are submitted to a Wallaroo Pipeline, the inference is processed natively as an Arrow table, and the results are returned as an Arrow table.  This allows for faster data processing than with JSON files or DataFrame objects.\n",
    "\n",
    "We'll pipe the `data_25k.arrow` file through the `aloha_pipeline` deployment URL, and place the results in a file named `response.arrow`.  We'll also display the time this takes.  Note that for larger batches of 50,000 inferences or more can be difficult to view in Jupyter Hub because of its size, so we'll only display the first five rows.\n",
    "\n",
    "* **IMPORTANT NOTE**:  The `_deployment._url()` method will return an **internal** URL when using Python commands from within the Wallaroo instance - for example, the Wallaroo JupyterHub service.  When connecting via an external connection, `_deployment._url()` returns an **external** URL.  External URL connections requires [the authentication be included in the HTTP request](https://docs.wallaroo.ai/wallaroo-developer-guides/wallaroo-api-guide/), and that [Model Endpoints Guide](https://docs.wallaroo.ai/wallaroo-operations-guide/wallaroo-configuration/wallaroo-model-endpoints-guide/) external endpoints are enabled in the Wallaroo configuration options."
   ]
  },
  {
   "cell_type": "code",
   "execution_count": 36,
   "metadata": {},
   "outputs": [
    {
     "data": {
      "text/plain": [
       "'https://wallaroo.api.example.com/v1/api/pipelines/infer/zxukalohapipeline-8'"
      ]
     },
     "execution_count": 36,
     "metadata": {},
     "output_type": "execute_result"
    }
   ],
   "source": [
    "inference_url = aloha_pipeline._deployment._url()\n",
    "inference_url"
   ]
  },
  {
   "cell_type": "code",
   "execution_count": 37,
   "metadata": {},
   "outputs": [
    {
     "data": {
      "text/plain": [
       "'eyJhbGciOiJSUzI1NiIsInR5cCIgOiAiSldUIiwia2lkIiA6ICJCRFdIZ3Q0WmxRdEIxVDNTTkJ2RjlkYkU3RmxkSWdXRENwb041UkJLeTlrIn0.eyJleHAiOjE2Nzk5NTU2NDgsImlhdCI6MTY3OTk1NTU4OCwiYXV0aF90aW1lIjoxNjc5OTUxOTA3LCJqdGkiOiJiMTJiZWFjMi0yZGQwLTRkMjUtYTI5YS04MDJkOWI3M2IxZDAiLCJpc3MiOiJodHRwczovL2RvYy10ZXN0LmtleWNsb2FrLndhbGxhcm9vY29tbXVuaXR5Lm5pbmphL2F1dGgvcmVhbG1zL21hc3RlciIsImF1ZCI6WyJtYXN0ZXItcmVhbG0iLCJhY2NvdW50Il0sInN1YiI6IjU2ZDk3NDgwLWJiNjQtNDU3NS1hY2I2LWY5M2QwNTY1MmU4NiIsInR5cCI6IkJlYXJlciIsImF6cCI6InNkay1jbGllbnQiLCJzZXNzaW9uX3N0YXRlIjoiNjUzZDUwMmYtNjI4MS00YmE1LTk5NzQtOTlhZDlkY2Y1OWVhIiwiYWNyIjoiMCIsInJlYWxtX2FjY2VzcyI6eyJyb2xlcyI6WyJkZWZhdWx0LXJvbGVzLW1hc3RlciIsIm9mZmxpbmVfYWNjZXNzIiwidW1hX2F1dGhvcml6YXRpb24iXX0sInJlc291cmNlX2FjY2VzcyI6eyJtYXN0ZXItcmVhbG0iOnsicm9sZXMiOlsibWFuYWdlLXVzZXJzIiwidmlldy11c2VycyIsInF1ZXJ5LWdyb3VwcyIsInF1ZXJ5LXVzZXJzIl19LCJhY2NvdW50Ijp7InJvbGVzIjpbIm1hbmFnZS1hY2NvdW50IiwibWFuYWdlLWFjY291bnQtbGlua3MiLCJ2aWV3LXByb2ZpbGUiXX19LCJzY29wZSI6InByb2ZpbGUgZW1haWwiLCJzaWQiOiI2NTNkNTAyZi02MjgxLTRiYTUtOTk3NC05OWFkOWRjZjU5ZWEiLCJlbWFpbF92ZXJpZmllZCI6ZmFsc2UsImh0dHBzOi8vaGFzdXJhLmlvL2p3dC9jbGFpbXMiOnsieC1oYXN1cmEtdXNlci1pZCI6IjU2ZDk3NDgwLWJiNjQtNDU3NS1hY2I2LWY5M2QwNTY1MmU4NiIsIngtaGFzdXJhLWRlZmF1bHQtcm9sZSI6InVzZXIiLCJ4LWhhc3VyYS1hbGxvd2VkLXJvbGVzIjpbInVzZXIiXSwieC1oYXN1cmEtdXNlci1ncm91cHMiOiJ7fSJ9LCJuYW1lIjoiSm9obiBIYW5zYXJpY2siLCJwcmVmZXJyZWRfdXNlcm5hbWUiOiJqb2huLmh1bW1lbEB3YWxsYXJvby5haSIsImdpdmVuX25hbWUiOiJKb2huIiwiZmFtaWx5X25hbWUiOiJIYW5zYXJpY2siLCJlbWFpbCI6ImpvaG4uaHVtbWVsQHdhbGxhcm9vLmFpIn0.mYj-HESqbqkD3SAsxj97zw9B9UrBmImJh6VkQDK-q141nr7gvNPc8gd1caGKLCMzYTKFLRtlPyRazdulp7ib8qLl3C02Jb2sONJJB56B2sJFwYVlzZ-84ze9Mc3w14be-7vWLg5t8vSvj3N8Aan9HZne5pPPM3FLfuSnD-JhfQUdhPnEzfxKO48ayA1Aaydlwebw8pUpSJ8RAVp6h5DnOKa57s4rKrzzcacjMHQszYi0Qua6rHz8NF0xwojv9cdfSdztzq4JNT16Eqe1_8lO6Ec11pZDFQAUmJy2l3naj6M6CD6W7cMm7AjSwUDE0g8gidSOo3ajztwoR1WKiJJl5w'"
      ]
     },
     "execution_count": 37,
     "metadata": {},
     "output_type": "execute_result"
    }
   ],
   "source": [
    "connection =wl.mlops().__dict__\n",
    "token = connection['token']\n",
    "token"
   ]
  },
  {
   "cell_type": "code",
   "execution_count": 38,
   "metadata": {},
   "outputs": [],
   "source": [
    "dataFile=\"./data/data_25k.arrow\"\n",
    "contentType=\"application/vnd.apache.arrow.file\""
   ]
  },
  {
   "cell_type": "code",
   "execution_count": 42,
   "metadata": {},
   "outputs": [
    {
     "name": "stdout",
     "output_type": "stream",
     "text": [
      "  % Total    % Received % Xferd  Average Speed   Time    Time     Time  Current\n",
      "                                 Dload  Upload   Total   Spent    Left  Speed\n",
      "100 23.5M  100 18.7M  100 4874k  2646k   671k  0:00:07  0:00:07 --:--:-- 3999k0 4874k  1944k   769k  0:00:09  0:00:06  0:00:03 2606k\n"
     ]
    }
   ],
   "source": [
    "!curl -X POST {inference_url} -H \"Authorization: Bearer {token}\" -H \"Content-Type:{contentType}\" --data-binary @{dataFile} > curl_response.df"
   ]
  },
  {
   "cell_type": "code",
   "execution_count": 45,
   "metadata": {},
   "outputs": [
    {
     "data": {
      "text/html": [
       "<div>\n",
       "<style scoped>\n",
       "    .dataframe tbody tr th:only-of-type {\n",
       "        vertical-align: middle;\n",
       "    }\n",
       "\n",
       "    .dataframe tbody tr th {\n",
       "        vertical-align: top;\n",
       "    }\n",
       "\n",
       "    .dataframe thead th {\n",
       "        text-align: right;\n",
       "    }\n",
       "</style>\n",
       "<table border=\"1\" class=\"dataframe\">\n",
       "  <thead>\n",
       "    <tr style=\"text-align: right;\">\n",
       "      <th></th>\n",
       "      <th>time</th>\n",
       "      <th>in</th>\n",
       "      <th>out</th>\n",
       "      <th>check_failures</th>\n",
       "      <th>metadata</th>\n",
       "    </tr>\n",
       "  </thead>\n",
       "  <tbody>\n",
       "    <tr>\n",
       "      <th>0</th>\n",
       "      <td>1679955641115</td>\n",
       "      <td>{'text_input': [0.0, 0.0, 0.0, 0.0, 0.0, 0.0, 0.0, 0.0, 0.0, 0.0, 0.0, 0.0, 0.0, 0.0, 0.0, 0.0, 0.0, 0.0, 0.0, 0.0, 0.0, 0.0, 0.0, 0.0, 0.0, 0.0, 0.0, 0.0, 0.0, 0.0, 0.0, 0.0, 0.0, 0.0, 0.0, 0.0, 0.0, 0.0, 0.0, 0.0, 28.0, 16.0, 32.0, 23.0, 29.0, 32.0, 30.0, 19.0, 26.0, 17.0]}</td>\n",
       "      <td>{'banjori': [0.0015195871], 'corebot': [0.9829148], 'cryptolocker': [0.012099565000000001], 'dircrypt': [4.7591344e-05], 'gozi': [2.0289392e-05], 'kraken': [0.0003197726], 'locky': [0.011029272000000001], 'main': [0.997564], 'matsnu': [0.010341625], 'pykspa': [0.008038965], 'qakbot': [0.016155062], 'ramdo': [0.006236233000000001], 'ramnit': [0.0009985756], 'simda': [1.793378e-26], 'suppobox': [1.3889898e-27]}</td>\n",
       "      <td>[]</td>\n",
       "      <td>{'last_model': '{\"model_name\":\"zxukalohamodel\",\"model_sha\":\"d71d9ffc61aaac58c2b1ed70a2db13d1416fb9d3f5b891e5e4e2e97180fe22f8\"}'}</td>\n",
       "    </tr>\n",
       "    <tr>\n",
       "      <th>1</th>\n",
       "      <td>1679955641115</td>\n",
       "      <td>{'text_input': [0.0, 0.0, 0.0, 0.0, 0.0, 0.0, 0.0, 0.0, 0.0, 0.0, 0.0, 0.0, 0.0, 0.0, 0.0, 0.0, 0.0, 0.0, 0.0, 0.0, 0.0, 0.0, 0.0, 0.0, 0.0, 0.0, 0.0, 0.0, 0.0, 0.0, 0.0, 0.0, 0.0, 0.0, 0.0, 30.0, 20.0, 19.0, 27.0, 14.0, 17.0, 24.0, 13.0, 23.0, 20.0, 18.0, 35.0, 18.0, 22.0, 23.0]}</td>\n",
       "      <td>{'banjori': [7.447225e-18], 'corebot': [6.7359245e-08], 'cryptolocker': [0.17081991], 'dircrypt': [1.3220147000000001e-09], 'gozi': [1.2758853e-24], 'kraken': [0.22559536], 'locky': [0.34209844], 'main': [0.99999994], 'matsnu': [0.30801848], 'pykspa': [0.18282163], 'qakbot': [3.8022553999999996e-11], 'ramdo': [0.20622534], 'ramnit': [0.15215826], 'simda': [1.17020745e-30], 'suppobox': [3.1514464999999997e-38]}</td>\n",
       "      <td>[]</td>\n",
       "      <td>{'last_model': '{\"model_name\":\"zxukalohamodel\",\"model_sha\":\"d71d9ffc61aaac58c2b1ed70a2db13d1416fb9d3f5b891e5e4e2e97180fe22f8\"}'}</td>\n",
       "    </tr>\n",
       "    <tr>\n",
       "      <th>2</th>\n",
       "      <td>1679955641115</td>\n",
       "      <td>{'text_input': [0.0, 0.0, 0.0, 0.0, 0.0, 0.0, 0.0, 0.0, 0.0, 0.0, 0.0, 0.0, 0.0, 0.0, 0.0, 0.0, 0.0, 0.0, 0.0, 0.0, 0.0, 0.0, 0.0, 0.0, 0.0, 0.0, 0.0, 0.0, 0.0, 0.0, 0.0, 25.0, 33.0, 25.0, 36.0, 25.0, 31.0, 14.0, 32.0, 36.0, 25.0, 12.0, 35.0, 34.0, 30.0, 28.0, 27.0, 24.0, 29.0, 27.0]}</td>\n",
       "      <td>{'banjori': [2.8599304999999997e-21], 'corebot': [9.302004999999999e-08], 'cryptolocker': [0.04445295], 'dircrypt': [6.1637580000000004e-09], 'gozi': [8.34974e-23], 'kraken': [0.48234479999999996], 'locky': [0.2633289], 'main': [1.0], 'matsnu': [0.29800323], 'pykspa': [0.22361766], 'qakbot': [1.5238920999999999e-06], 'ramdo': [0.3282038], 'ramnit': [0.029332466], 'simda': [1.1995533000000001e-31], 'suppobox': [0.0]}</td>\n",
       "      <td>[]</td>\n",
       "      <td>{'last_model': '{\"model_name\":\"zxukalohamodel\",\"model_sha\":\"d71d9ffc61aaac58c2b1ed70a2db13d1416fb9d3f5b891e5e4e2e97180fe22f8\"}'}</td>\n",
       "    </tr>\n",
       "    <tr>\n",
       "      <th>3</th>\n",
       "      <td>1679955641115</td>\n",
       "      <td>{'text_input': [0.0, 0.0, 0.0, 0.0, 0.0, 0.0, 0.0, 0.0, 0.0, 0.0, 0.0, 0.0, 0.0, 0.0, 0.0, 0.0, 0.0, 0.0, 0.0, 0.0, 0.0, 0.0, 0.0, 0.0, 0.0, 0.0, 0.0, 0.0, 0.0, 0.0, 17.0, 23.0, 22.0, 15.0, 12.0, 35.0, 34.0, 36.0, 12.0, 18.0, 24.0, 34.0, 32.0, 36.0, 12.0, 14.0, 16.0, 27.0, 22.0, 23.0]}</td>\n",
       "      <td>{'banjori': [2.1386805e-15], 'corebot': [3.8817485e-10], 'cryptolocker': [0.045599725], 'dircrypt': [1.9090386e-07], 'gozi': [1.3139924000000002e-25], 'kraken': [0.59542614], 'locky': [0.17374131], 'main': [0.9999996999999999], 'matsnu': [0.2315157], 'pykspa': [0.17591687], 'qakbot': [1.087611e-09], 'ramdo': [0.21832284000000002], 'ramnit': [0.012869288000000001], 'simda': [6.158882e-28], 'suppobox': [1.438591e-35]}</td>\n",
       "      <td>[]</td>\n",
       "      <td>{'last_model': '{\"model_name\":\"zxukalohamodel\",\"model_sha\":\"d71d9ffc61aaac58c2b1ed70a2db13d1416fb9d3f5b891e5e4e2e97180fe22f8\"}'}</td>\n",
       "    </tr>\n",
       "    <tr>\n",
       "      <th>4</th>\n",
       "      <td>1679955641115</td>\n",
       "      <td>{'text_input': [0.0, 0.0, 0.0, 0.0, 0.0, 0.0, 0.0, 0.0, 0.0, 0.0, 0.0, 0.0, 0.0, 0.0, 0.0, 0.0, 0.0, 0.0, 0.0, 0.0, 0.0, 0.0, 0.0, 0.0, 0.0, 0.0, 0.0, 32.0, 13.0, 14.0, 12.0, 33.0, 16.0, 23.0, 15.0, 22.0, 30.0, 28.0, 26.0, 12.0, 16.0, 32.0, 37.0, 29.0, 22.0, 28.0, 22.0, 16.0, 27.0, 32.0]}</td>\n",
       "      <td>{'banjori': [9.453381e-15], 'corebot': [7.091152e-10], 'cryptolocker': [0.049815107000000004], 'dircrypt': [5.2914135e-09], 'gozi': [7.4132087e-19], 'kraken': [1.5504637e-13], 'locky': [1.079181e-15], 'main': [0.9999988999999999], 'matsnu': [1.5003076000000002e-15], 'pykspa': [0.33075709999999997], 'qakbot': [2.6258948e-07], 'ramdo': [0.50362796], 'ramnit': [0.020393757000000002], 'simda': [0.0], 'suppobox': [0.0]}</td>\n",
       "      <td>[]</td>\n",
       "      <td>{'last_model': '{\"model_name\":\"zxukalohamodel\",\"model_sha\":\"d71d9ffc61aaac58c2b1ed70a2db13d1416fb9d3f5b891e5e4e2e97180fe22f8\"}'}</td>\n",
       "    </tr>\n",
       "  </tbody>\n",
       "</table>\n",
       "</div>"
      ],
      "text/plain": [
       "            time  \\\n",
       "0  1679955641115   \n",
       "1  1679955641115   \n",
       "2  1679955641115   \n",
       "3  1679955641115   \n",
       "4  1679955641115   \n",
       "\n",
       "                                                                                                                                                                                                                                                                                                  in  \\\n",
       "0               {'text_input': [0.0, 0.0, 0.0, 0.0, 0.0, 0.0, 0.0, 0.0, 0.0, 0.0, 0.0, 0.0, 0.0, 0.0, 0.0, 0.0, 0.0, 0.0, 0.0, 0.0, 0.0, 0.0, 0.0, 0.0, 0.0, 0.0, 0.0, 0.0, 0.0, 0.0, 0.0, 0.0, 0.0, 0.0, 0.0, 0.0, 0.0, 0.0, 0.0, 0.0, 28.0, 16.0, 32.0, 23.0, 29.0, 32.0, 30.0, 19.0, 26.0, 17.0]}   \n",
       "1          {'text_input': [0.0, 0.0, 0.0, 0.0, 0.0, 0.0, 0.0, 0.0, 0.0, 0.0, 0.0, 0.0, 0.0, 0.0, 0.0, 0.0, 0.0, 0.0, 0.0, 0.0, 0.0, 0.0, 0.0, 0.0, 0.0, 0.0, 0.0, 0.0, 0.0, 0.0, 0.0, 0.0, 0.0, 0.0, 0.0, 30.0, 20.0, 19.0, 27.0, 14.0, 17.0, 24.0, 13.0, 23.0, 20.0, 18.0, 35.0, 18.0, 22.0, 23.0]}   \n",
       "2      {'text_input': [0.0, 0.0, 0.0, 0.0, 0.0, 0.0, 0.0, 0.0, 0.0, 0.0, 0.0, 0.0, 0.0, 0.0, 0.0, 0.0, 0.0, 0.0, 0.0, 0.0, 0.0, 0.0, 0.0, 0.0, 0.0, 0.0, 0.0, 0.0, 0.0, 0.0, 0.0, 25.0, 33.0, 25.0, 36.0, 25.0, 31.0, 14.0, 32.0, 36.0, 25.0, 12.0, 35.0, 34.0, 30.0, 28.0, 27.0, 24.0, 29.0, 27.0]}   \n",
       "3     {'text_input': [0.0, 0.0, 0.0, 0.0, 0.0, 0.0, 0.0, 0.0, 0.0, 0.0, 0.0, 0.0, 0.0, 0.0, 0.0, 0.0, 0.0, 0.0, 0.0, 0.0, 0.0, 0.0, 0.0, 0.0, 0.0, 0.0, 0.0, 0.0, 0.0, 0.0, 17.0, 23.0, 22.0, 15.0, 12.0, 35.0, 34.0, 36.0, 12.0, 18.0, 24.0, 34.0, 32.0, 36.0, 12.0, 14.0, 16.0, 27.0, 22.0, 23.0]}   \n",
       "4  {'text_input': [0.0, 0.0, 0.0, 0.0, 0.0, 0.0, 0.0, 0.0, 0.0, 0.0, 0.0, 0.0, 0.0, 0.0, 0.0, 0.0, 0.0, 0.0, 0.0, 0.0, 0.0, 0.0, 0.0, 0.0, 0.0, 0.0, 0.0, 32.0, 13.0, 14.0, 12.0, 33.0, 16.0, 23.0, 15.0, 22.0, 30.0, 28.0, 26.0, 12.0, 16.0, 32.0, 37.0, 29.0, 22.0, 28.0, 22.0, 16.0, 27.0, 32.0]}   \n",
       "\n",
       "                                                                                                                                                                                                                                                                                                                                                                                                                                   out  \\\n",
       "0         {'banjori': [0.0015195871], 'corebot': [0.9829148], 'cryptolocker': [0.012099565000000001], 'dircrypt': [4.7591344e-05], 'gozi': [2.0289392e-05], 'kraken': [0.0003197726], 'locky': [0.011029272000000001], 'main': [0.997564], 'matsnu': [0.010341625], 'pykspa': [0.008038965], 'qakbot': [0.016155062], 'ramdo': [0.006236233000000001], 'ramnit': [0.0009985756], 'simda': [1.793378e-26], 'suppobox': [1.3889898e-27]}   \n",
       "1        {'banjori': [7.447225e-18], 'corebot': [6.7359245e-08], 'cryptolocker': [0.17081991], 'dircrypt': [1.3220147000000001e-09], 'gozi': [1.2758853e-24], 'kraken': [0.22559536], 'locky': [0.34209844], 'main': [0.99999994], 'matsnu': [0.30801848], 'pykspa': [0.18282163], 'qakbot': [3.8022553999999996e-11], 'ramdo': [0.20622534], 'ramnit': [0.15215826], 'simda': [1.17020745e-30], 'suppobox': [3.1514464999999997e-38]}   \n",
       "2  {'banjori': [2.8599304999999997e-21], 'corebot': [9.302004999999999e-08], 'cryptolocker': [0.04445295], 'dircrypt': [6.1637580000000004e-09], 'gozi': [8.34974e-23], 'kraken': [0.48234479999999996], 'locky': [0.2633289], 'main': [1.0], 'matsnu': [0.29800323], 'pykspa': [0.22361766], 'qakbot': [1.5238920999999999e-06], 'ramdo': [0.3282038], 'ramnit': [0.029332466], 'simda': [1.1995533000000001e-31], 'suppobox': [0.0]}   \n",
       "3  {'banjori': [2.1386805e-15], 'corebot': [3.8817485e-10], 'cryptolocker': [0.045599725], 'dircrypt': [1.9090386e-07], 'gozi': [1.3139924000000002e-25], 'kraken': [0.59542614], 'locky': [0.17374131], 'main': [0.9999996999999999], 'matsnu': [0.2315157], 'pykspa': [0.17591687], 'qakbot': [1.087611e-09], 'ramdo': [0.21832284000000002], 'ramnit': [0.012869288000000001], 'simda': [6.158882e-28], 'suppobox': [1.438591e-35]}   \n",
       "4   {'banjori': [9.453381e-15], 'corebot': [7.091152e-10], 'cryptolocker': [0.049815107000000004], 'dircrypt': [5.2914135e-09], 'gozi': [7.4132087e-19], 'kraken': [1.5504637e-13], 'locky': [1.079181e-15], 'main': [0.9999988999999999], 'matsnu': [1.5003076000000002e-15], 'pykspa': [0.33075709999999997], 'qakbot': [2.6258948e-07], 'ramdo': [0.50362796], 'ramnit': [0.020393757000000002], 'simda': [0.0], 'suppobox': [0.0]}   \n",
       "\n",
       "  check_failures  \\\n",
       "0             []   \n",
       "1             []   \n",
       "2             []   \n",
       "3             []   \n",
       "4             []   \n",
       "\n",
       "                                                                                                                           metadata  \n",
       "0  {'last_model': '{\"model_name\":\"zxukalohamodel\",\"model_sha\":\"d71d9ffc61aaac58c2b1ed70a2db13d1416fb9d3f5b891e5e4e2e97180fe22f8\"}'}  \n",
       "1  {'last_model': '{\"model_name\":\"zxukalohamodel\",\"model_sha\":\"d71d9ffc61aaac58c2b1ed70a2db13d1416fb9d3f5b891e5e4e2e97180fe22f8\"}'}  \n",
       "2  {'last_model': '{\"model_name\":\"zxukalohamodel\",\"model_sha\":\"d71d9ffc61aaac58c2b1ed70a2db13d1416fb9d3f5b891e5e4e2e97180fe22f8\"}'}  \n",
       "3  {'last_model': '{\"model_name\":\"zxukalohamodel\",\"model_sha\":\"d71d9ffc61aaac58c2b1ed70a2db13d1416fb9d3f5b891e5e4e2e97180fe22f8\"}'}  \n",
       "4  {'last_model': '{\"model_name\":\"zxukalohamodel\",\"model_sha\":\"d71d9ffc61aaac58c2b1ed70a2db13d1416fb9d3f5b891e5e4e2e97180fe22f8\"}'}  "
      ]
     },
     "metadata": {},
     "output_type": "display_data"
    }
   ],
   "source": [
    "cc_data_from_file =  pd.read_json('./curl_response.df', orient=\"records\")\n",
    "display(cc_data_from_file.head(5))"
   ]
  },
  {
   "attachments": {},
   "cell_type": "markdown",
   "metadata": {},
   "source": [
    "## Undeploy Pipeline\n",
    "\n",
    "When finished with our tests, we will undeploy the pipeline so we have the Kubernetes resources back for other tasks.  Note that if the deployment variable is unchanged aloha_pipeline.deploy() will restart the inference engine in the same configuration as before."
   ]
  },
  {
   "cell_type": "code",
   "execution_count": 46,
   "metadata": {},
   "outputs": [],
   "source": [
    "aloha_pipeline.undeploy()"
   ]
  }
 ],
 "metadata": {
  "kernelspec": {
   "display_name": "arrowtests",
   "language": "python",
   "name": "python3"
  },
  "language_info": {
   "codemirror_mode": {
    "name": "ipython",
    "version": 3
   },
   "file_extension": ".py",
   "mimetype": "text/x-python",
   "name": "python",
   "nbconvert_exporter": "python",
   "pygments_lexer": "ipython3",
   "version": "3.8.12"
  },
  "vscode": {
   "interpreter": {
    "hash": "7dda4bf3640b7fafcd1648658b879b4cc9f6ba6084e8fb356fdaaa1a461d1690"
   }
  }
 },
 "nbformat": 4,
 "nbformat_minor": 4
}
