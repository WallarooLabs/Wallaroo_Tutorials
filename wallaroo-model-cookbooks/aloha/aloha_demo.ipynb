{
 "cells": [
  {
   "attachments": {},
   "cell_type": "markdown",
   "metadata": {},
   "source": [
    "This tutorial and the assets can be downloaded as part of the [Wallaroo Tutorials repository](https://github.com/WallarooLabs/Wallaroo_Tutorials/tree/main/wallaroo-model-cookbooks/aloha).\n",
    "\n",
    "## Aloha Demo\n",
    "\n",
    "In this notebook we will walk through a simple pipeline deployment to inference on a model. For this example we will be using an open source model that uses an [Aloha CNN LSTM model](https://www.researchgate.net/publication/348920204_Using_Auxiliary_Inputs_in_Deep_Learning_Models_for_Detecting_DGA-based_Domain_Names) for classifying Domain names as being either legitimate or being used for nefarious purposes such as malware distribution.  \n",
    "\n",
    "For our example, we will perform the following:\n",
    "\n",
    "* Create a workspace for our work.\n",
    "* Upload the Aloha model.\n",
    "* Create a pipeline that can ingest our submitted data, submit it to the model, and export the results\n",
    "* Run a sample inference through our pipeline by loading a file\n",
    "* Run a sample inference through our pipeline's URL and store the results in a file.\n",
    "\n",
    "All sample data and models are available through the [Wallaroo Quick Start Guide Samples repository](https://github.com/WallarooLabs/quickstartguide_samples)."
   ]
  },
  {
   "cell_type": "markdown",
   "metadata": {},
   "source": [
    "## Open a Connection to Wallaroo\n",
    "\n",
    "The first step is to connect to Wallaroo through the Wallaroo client.  The Python library is included in the Wallaroo install and available through the Jupyter Hub interface provided with your Wallaroo environment.\n",
    "\n",
    "This is accomplished using the `wallaroo.Client()` command, which provides a URL to grant the SDK permission to your specific Wallaroo environment.  When displayed, enter the URL into a browser and confirm permissions.  Store the connection into a variable that can be referenced later."
   ]
  },
  {
   "cell_type": "code",
   "execution_count": 35,
   "metadata": {},
   "outputs": [],
   "source": [
    "import wallaroo\n",
    "from wallaroo.object import EntityNotFoundError\n",
    "\n",
    "# used to display dataframe information without truncating\n",
    "import pandas as pd\n",
    "pd.set_option('display.max_colwidth', None)\n",
    "import pyarrow as pa\n",
    "\n",
    "# to display dataframe tables\n",
    "from IPython.display import display"
   ]
  },
  {
   "cell_type": "code",
   "execution_count": 2,
   "metadata": {},
   "outputs": [],
   "source": [
    "# Login through local Wallaroo instance\n",
    "\n",
    "# wl = wallaroo.Client()\n",
    "\n",
    "# SSO login through keycloak\n",
    "\n",
    "wallarooPrefix = \"sparkly-apple-3026\"\n",
    "wallarooSuffix = \"wallaroo.community\"\n",
    "\n",
    "wl = wallaroo.Client(api_endpoint=f\"https://{wallarooPrefix}.api.{wallarooSuffix}\", \n",
    "                    auth_endpoint=f\"https://{wallarooPrefix}.keycloak.{wallarooSuffix}\", \n",
    "                    auth_type=\"sso\")"
   ]
  },
  {
   "attachments": {},
   "cell_type": "markdown",
   "metadata": {},
   "source": [
    "### Arrow Support\n",
    "\n",
    "As of the 2023.1 release, Wallaroo provides support for dataframe and Arrow for inference inputs.  This tutorial allows users to adjust their experience based on whether they have enabled Arrow support in their Wallaroo instance or not.\n",
    "\n",
    "If Arrow support has been enabled, `arrowEnabled=True`. If disabled or you're not sure, set it to `arrowEnabled=False`\n",
    "\n",
    "The examples below will be shown in an arrow enabled environment."
   ]
  },
  {
   "cell_type": "code",
   "execution_count": 3,
   "metadata": {},
   "outputs": [
    {
     "name": "stdout",
     "output_type": "stream",
     "text": [
      "True\n"
     ]
    }
   ],
   "source": [
    "import os\n",
    "# Only set the below to make the OS environment ARROW_ENABLED to TRUE.  Otherwise, leave as is.\n",
    "os.environ[\"ARROW_ENABLED\"]=\"True\"\n",
    "\n",
    "if \"ARROW_ENABLED\" not in os.environ or os.environ[\"ARROW_ENABLED\"].casefold() == \"False\".casefold():\n",
    "    arrowEnabled = False\n",
    "else:\n",
    "    arrowEnabled = True\n",
    "print(arrowEnabled)"
   ]
  },
  {
   "attachments": {},
   "cell_type": "markdown",
   "metadata": {},
   "source": [
    "## Create the Workspace\n",
    "\n",
    "We will create a workspace to work in and call it the \"alohaworkspace\", then set it as current workspace environment.  We'll also create our pipeline in advance as `alohapipeline`.  The model name and the model file will be specified for use in later steps.\n",
    "\n",
    "To allow this tutorial to be run multiple times or by multiple users in the same Wallaroo instance, a random 4 character prefix will be added to the workspace, pipeline, and model."
   ]
  },
  {
   "cell_type": "code",
   "execution_count": 4,
   "metadata": {},
   "outputs": [],
   "source": [
    "import string\n",
    "import random\n",
    "\n",
    "# make a random 4 character prefix\n",
    "prefix= ''.join(random.choice(string.ascii_lowercase) for i in range(4))\n",
    "workspace_name = f'{prefix}alohaworkspace'\n",
    "pipeline_name = f'{prefix}alohapipeline'\n",
    "model_name = f'{prefix}alohamodel'\n",
    "model_file_name = './alohacnnlstm.zip'"
   ]
  },
  {
   "cell_type": "code",
   "execution_count": 5,
   "metadata": {},
   "outputs": [],
   "source": [
    "def get_workspace(name):\n",
    "    workspace = None\n",
    "    for ws in wl.list_workspaces():\n",
    "        if ws.name() == name:\n",
    "            workspace= ws\n",
    "    if(workspace == None):\n",
    "        workspace = wl.create_workspace(name)\n",
    "    return workspace\n",
    "\n",
    "def get_pipeline(name):\n",
    "    try:\n",
    "        pipeline = wl.pipelines_by_name(pipeline_name)[0]\n",
    "    except EntityNotFoundError:\n",
    "        pipeline = wl.build_pipeline(pipeline_name)\n",
    "    return pipeline"
   ]
  },
  {
   "cell_type": "code",
   "execution_count": 6,
   "metadata": {},
   "outputs": [
    {
     "data": {
      "text/html": [
       "\n",
       "        <table>\n",
       "            <tr>\n",
       "                <th>Name</th>\n",
       "                <th>Created At</th>\n",
       "                <th>Users</th>\n",
       "                <th>Models</th>\n",
       "                <th>Pipelines</th>\n",
       "            </tr>\n",
       "            \n",
       "        <tr >\n",
       "            <td>john.hansarick@wallaroo.ai - Default Workspace</td>\n",
       "            <td>2023-02-17 20:36:12</td>\n",
       "            <td>['john.hansarick@wallaroo.ai']</td>\n",
       "            <td>5</td>\n",
       "            <td>2</td>\n",
       "        </tr>\n",
       "        \n",
       "\n",
       "        <tr >\n",
       "            <td>testautoconversion</td>\n",
       "            <td>2023-02-21 17:02:22</td>\n",
       "            <td>['john.hansarick@wallaroo.ai']</td>\n",
       "            <td>2</td>\n",
       "            <td>0</td>\n",
       "        </tr>\n",
       "        \n",
       "\n",
       "        <tr >\n",
       "            <td>kerasautoconvertworkspace</td>\n",
       "            <td>2023-02-21 18:09:28</td>\n",
       "            <td>['john.hansarick@wallaroo.ai']</td>\n",
       "            <td>1</td>\n",
       "            <td>1</td>\n",
       "        </tr>\n",
       "        \n",
       "\n",
       "        <tr >\n",
       "            <td>externalkerasautoconvertworkspace</td>\n",
       "            <td>2023-02-21 18:16:14</td>\n",
       "            <td>['john.hansarick@wallaroo.ai']</td>\n",
       "            <td>1</td>\n",
       "            <td>1</td>\n",
       "        </tr>\n",
       "        \n",
       "\n",
       "        <tr >\n",
       "            <td>ccfraudcomparisondemo</td>\n",
       "            <td>2023-02-21 18:31:10</td>\n",
       "            <td>['john.hansarick@wallaroo.ai']</td>\n",
       "            <td>6</td>\n",
       "            <td>3</td>\n",
       "        </tr>\n",
       "        \n",
       "\n",
       "        <tr >\n",
       "            <td>isolettest</td>\n",
       "            <td>2023-02-21 21:24:33</td>\n",
       "            <td>['john.hansarick@wallaroo.ai']</td>\n",
       "            <td>1</td>\n",
       "            <td>1</td>\n",
       "        </tr>\n",
       "        \n",
       "\n",
       "        <tr >\n",
       "            <td>bikedayevalworkspace</td>\n",
       "            <td>2023-02-22 16:42:58</td>\n",
       "            <td>['john.hansarick@wallaroo.ai']</td>\n",
       "            <td>1</td>\n",
       "            <td>1</td>\n",
       "        </tr>\n",
       "        \n",
       "\n",
       "        <tr >\n",
       "            <td>xgboost-classification-autoconvert-workspace</td>\n",
       "            <td>2023-02-22 17:28:52</td>\n",
       "            <td>['john.hansarick@wallaroo.ai']</td>\n",
       "            <td>1</td>\n",
       "            <td>1</td>\n",
       "        </tr>\n",
       "        \n",
       "\n",
       "        <tr >\n",
       "            <td>xgboost-regression-autoconvert-workspace</td>\n",
       "            <td>2023-02-22 17:36:30</td>\n",
       "            <td>['john.hansarick@wallaroo.ai']</td>\n",
       "            <td>1</td>\n",
       "            <td>1</td>\n",
       "        </tr>\n",
       "        \n",
       "\n",
       "        <tr >\n",
       "            <td>housepricing</td>\n",
       "            <td>2023-02-22 18:28:40</td>\n",
       "            <td>['john.hansarick@wallaroo.ai']</td>\n",
       "            <td>3</td>\n",
       "            <td>1</td>\n",
       "        </tr>\n",
       "        \n",
       "\n",
       "        <tr >\n",
       "            <td>sdkquickworkspace</td>\n",
       "            <td>2023-02-22 21:25:41</td>\n",
       "            <td>['john.hansarick@wallaroo.ai']</td>\n",
       "            <td>1</td>\n",
       "            <td>1</td>\n",
       "        </tr>\n",
       "        \n",
       "\n",
       "        <tr >\n",
       "            <td>jchdemandcurveworkspace</td>\n",
       "            <td>2023-02-22 22:23:21</td>\n",
       "            <td>['john.hansarick@wallaroo.ai']</td>\n",
       "            <td>3</td>\n",
       "            <td>1</td>\n",
       "        </tr>\n",
       "        \n",
       "\n",
       "        <tr >\n",
       "            <td>jchdemandcurveworkspace2</td>\n",
       "            <td>2023-02-22 22:33:41</td>\n",
       "            <td>['john.hansarick@wallaroo.ai']</td>\n",
       "            <td>3</td>\n",
       "            <td>1</td>\n",
       "        </tr>\n",
       "        \n",
       "\n",
       "        <tr >\n",
       "            <td>demandcurveworkspace</td>\n",
       "            <td>2023-02-23 15:14:32</td>\n",
       "            <td>['john.hansarick@wallaroo.ai']</td>\n",
       "            <td>3</td>\n",
       "            <td>1</td>\n",
       "        </tr>\n",
       "        \n",
       "\n",
       "        <tr >\n",
       "            <td>yqecccfraudworkspace</td>\n",
       "            <td>2023-02-23 16:00:59</td>\n",
       "            <td>['john.hansarick@wallaroo.ai']</td>\n",
       "            <td>1</td>\n",
       "            <td>1</td>\n",
       "        </tr>\n",
       "        \n",
       "\n",
       "        <tr >\n",
       "            <td>mobilenetworkspace2</td>\n",
       "            <td>2023-02-23 18:03:12</td>\n",
       "            <td>['john.hansarick@wallaroo.ai']</td>\n",
       "            <td>1</td>\n",
       "            <td>1</td>\n",
       "        </tr>\n",
       "        \n",
       "\n",
       "        <tr >\n",
       "            <td>mobilenetworkspacetest</td>\n",
       "            <td>2023-02-23 18:12:45</td>\n",
       "            <td>['john.hansarick@wallaroo.ai']</td>\n",
       "            <td>2</td>\n",
       "            <td>2</td>\n",
       "        </tr>\n",
       "        \n",
       "\n",
       "        <tr >\n",
       "            <td>mlflowstatsmodelworkspace</td>\n",
       "            <td>2023-02-23 23:14:12</td>\n",
       "            <td>['john.hansarick@wallaroo.ai']</td>\n",
       "            <td>4</td>\n",
       "            <td>1</td>\n",
       "        </tr>\n",
       "        \n",
       "\n",
       "        <tr >\n",
       "            <td>statsmodelworkspace</td>\n",
       "            <td>2023-02-24 17:17:13</td>\n",
       "            <td>['john.hansarick@wallaroo.ai']</td>\n",
       "            <td>2</td>\n",
       "            <td>1</td>\n",
       "        </tr>\n",
       "        \n",
       "\n",
       "        <tr >\n",
       "            <td>wjtxedgeworkspaceexample</td>\n",
       "            <td>2023-02-27 17:46:51</td>\n",
       "            <td>['john.hansarick@wallaroo.ai']</td>\n",
       "            <td>1</td>\n",
       "            <td>1</td>\n",
       "        </tr>\n",
       "        \n",
       "\n",
       "        <tr >\n",
       "            <td>xtwjccfraudworkspace</td>\n",
       "            <td>2023-02-28 19:14:51</td>\n",
       "            <td>['john.hansarick@wallaroo.ai']</td>\n",
       "            <td>1</td>\n",
       "            <td>1</td>\n",
       "        </tr>\n",
       "        \n",
       "\n",
       "        <tr >\n",
       "            <td>ccfraudcomparisondemo2a</td>\n",
       "            <td>2023-02-28 20:01:40</td>\n",
       "            <td>['john.hansarick@wallaroo.ai']</td>\n",
       "            <td>3</td>\n",
       "            <td>1</td>\n",
       "        </tr>\n",
       "        \n",
       "\n",
       "        <tr >\n",
       "            <td>ccfraudcomparisondemo3</td>\n",
       "            <td>2023-02-28 20:07:27</td>\n",
       "            <td>['john.hansarick@wallaroo.ai']</td>\n",
       "            <td>3</td>\n",
       "            <td>1</td>\n",
       "        </tr>\n",
       "        \n",
       "\n",
       "        <tr >\n",
       "            <td>ccfraudcomparisondemo4</td>\n",
       "            <td>2023-02-28 20:21:21</td>\n",
       "            <td>['john.hansarick@wallaroo.ai']</td>\n",
       "            <td>3</td>\n",
       "            <td>1</td>\n",
       "        </tr>\n",
       "        \n",
       "\n",
       "        <tr >\n",
       "            <td>ccfraudcomparisondemo5</td>\n",
       "            <td>2023-02-28 20:23:24</td>\n",
       "            <td>['john.hansarick@wallaroo.ai']</td>\n",
       "            <td>3</td>\n",
       "            <td>1</td>\n",
       "        </tr>\n",
       "        \n",
       "\n",
       "        <tr >\n",
       "            <td>ccfraudcomparisondemo6</td>\n",
       "            <td>2023-02-28 20:25:57</td>\n",
       "            <td>['john.hansarick@wallaroo.ai']</td>\n",
       "            <td>3</td>\n",
       "            <td>1</td>\n",
       "        </tr>\n",
       "        \n",
       "\n",
       "        <tr >\n",
       "            <td>anomalyexampletest</td>\n",
       "            <td>2023-02-28 20:37:58</td>\n",
       "            <td>['john.hansarick@wallaroo.ai']</td>\n",
       "            <td>1</td>\n",
       "            <td>1</td>\n",
       "        </tr>\n",
       "        \n",
       "\n",
       "        <tr >\n",
       "            <td>uupfccfraudworkspace</td>\n",
       "            <td>2023-03-01 21:59:42</td>\n",
       "            <td>['john.hansarick@wallaroo.ai']</td>\n",
       "            <td>1</td>\n",
       "            <td>1</td>\n",
       "        </tr>\n",
       "        \n",
       "\n",
       "        <tr >\n",
       "            <td>abtestingworkspace2</td>\n",
       "            <td>2023-03-01 22:17:22</td>\n",
       "            <td>['john.hansarick@wallaroo.ai']</td>\n",
       "            <td>2</td>\n",
       "            <td>1</td>\n",
       "        </tr>\n",
       "        \n",
       "\n",
       "        <tr >\n",
       "            <td>housepricedrift2</td>\n",
       "            <td>2023-03-01 22:50:30</td>\n",
       "            <td>['john.hansarick@wallaroo.ai']</td>\n",
       "            <td>1</td>\n",
       "            <td>1</td>\n",
       "        </tr>\n",
       "        \n",
       "\n",
       "        <tr >\n",
       "            <td>housepricedrift3</td>\n",
       "            <td>2023-03-02 16:48:37</td>\n",
       "            <td>['john.hansarick@wallaroo.ai']</td>\n",
       "            <td>1</td>\n",
       "            <td>1</td>\n",
       "        </tr>\n",
       "        \n",
       "\n",
       "        <tr >\n",
       "            <td>statsmodelsjchstatsmodelworkspace</td>\n",
       "            <td>2023-03-02 17:59:52</td>\n",
       "            <td>['john.hansarick@wallaroo.ai']</td>\n",
       "            <td>2</td>\n",
       "            <td>1</td>\n",
       "        </tr>\n",
       "        \n",
       "\n",
       "        <tr >\n",
       "            <td>mobilenetworkspacejch</td>\n",
       "            <td>2023-03-02 19:01:14</td>\n",
       "            <td>['john.hansarick@wallaroo.ai']</td>\n",
       "            <td>2</td>\n",
       "            <td>2</td>\n",
       "        </tr>\n",
       "        \n",
       "\n",
       "        <tr >\n",
       "            <td>abtestingworkspacejchtest</td>\n",
       "            <td>2023-03-03 17:28:12</td>\n",
       "            <td>['john.hansarick@wallaroo.ai']</td>\n",
       "            <td>2</td>\n",
       "            <td>1</td>\n",
       "        </tr>\n",
       "        \n",
       "\n",
       "        <tr >\n",
       "            <td>abtesting</td>\n",
       "            <td>2023-03-03 18:58:38</td>\n",
       "            <td>['john.hansarick@wallaroo.ai']</td>\n",
       "            <td>2</td>\n",
       "            <td>1</td>\n",
       "        </tr>\n",
       "        \n",
       "\n",
       "        <tr >\n",
       "            <td>anomalyexamples</td>\n",
       "            <td>2023-03-03 19:11:35</td>\n",
       "            <td>['john.hansarick@wallaroo.ai']</td>\n",
       "            <td>1</td>\n",
       "            <td>1</td>\n",
       "        </tr>\n",
       "        \n",
       "\n",
       "        <tr >\n",
       "            <td>uxelalohaworkspace</td>\n",
       "            <td>2023-03-03 22:15:44</td>\n",
       "            <td>['john.hansarick@wallaroo.ai']</td>\n",
       "            <td>1</td>\n",
       "            <td>1</td>\n",
       "        </tr>\n",
       "        \n",
       "\n",
       "        <tr >\n",
       "            <td>anomalytesting</td>\n",
       "            <td>2023-03-06 19:27:47</td>\n",
       "            <td>['john.hansarick@wallaroo.ai']</td>\n",
       "            <td>1</td>\n",
       "            <td>2</td>\n",
       "        </tr>\n",
       "        \n",
       "\n",
       "        <tr >\n",
       "            <td>abhousepricetesting</td>\n",
       "            <td>2023-03-10 19:39:16</td>\n",
       "            <td>['john.hansarick@wallaroo.ai']</td>\n",
       "            <td>2</td>\n",
       "            <td>1</td>\n",
       "        </tr>\n",
       "        \n",
       "\n",
       "        <tr >\n",
       "            <td>abhousetesting</td>\n",
       "            <td>2023-03-10 19:47:57</td>\n",
       "            <td>['john.hansarick@wallaroo.ai']</td>\n",
       "            <td>2</td>\n",
       "            <td>1</td>\n",
       "        </tr>\n",
       "        \n",
       "\n",
       "        <tr >\n",
       "            <td>anomalytesting03</td>\n",
       "            <td>2023-03-13 18:18:47</td>\n",
       "            <td>['john.hansarick@wallaroo.ai']</td>\n",
       "            <td>1</td>\n",
       "            <td>1</td>\n",
       "        </tr>\n",
       "        \n",
       "\n",
       "        <tr >\n",
       "            <td>anomalytesting04</td>\n",
       "            <td>2023-03-13 18:41:25</td>\n",
       "            <td>['john.hansarick@wallaroo.ai']</td>\n",
       "            <td>1</td>\n",
       "            <td>1</td>\n",
       "        </tr>\n",
       "        \n",
       "\n",
       "        <tr >\n",
       "            <td>houseprice</td>\n",
       "            <td>2023-03-13 20:43:33</td>\n",
       "            <td>['john.hansarick@wallaroo.ai']</td>\n",
       "            <td>5</td>\n",
       "            <td>7</td>\n",
       "        </tr>\n",
       "        \n",
       "\n",
       "        <tr >\n",
       "            <td>modelswap</td>\n",
       "            <td>2023-03-14 18:52:21</td>\n",
       "            <td>['john.hansarick@wallaroo.ai']</td>\n",
       "            <td>3</td>\n",
       "            <td>1</td>\n",
       "        </tr>\n",
       "        \n",
       "\n",
       "        <tr >\n",
       "            <td>bhgoccfraudworkspace</td>\n",
       "            <td>2023-03-14 20:52:41</td>\n",
       "            <td>['john.hansarick@wallaroo.ai']</td>\n",
       "            <td>1</td>\n",
       "            <td>1</td>\n",
       "        </tr>\n",
       "        \n",
       "\n",
       "        <tr >\n",
       "            <td>sjqsccfraudworkspace</td>\n",
       "            <td>2023-03-17 19:03:30</td>\n",
       "            <td>['john.hansarick@wallaroo.ai']</td>\n",
       "            <td>1</td>\n",
       "            <td>1</td>\n",
       "        </tr>\n",
       "        \n",
       "\n",
       "        <tr >\n",
       "            <td>skjmccfraudworkspace</td>\n",
       "            <td>2023-03-17 19:27:46</td>\n",
       "            <td>['john.hansarick@wallaroo.ai']</td>\n",
       "            <td>0</td>\n",
       "            <td>0</td>\n",
       "        </tr>\n",
       "        \n",
       "\n",
       "        <tr >\n",
       "            <td>reknccfraudworkspace</td>\n",
       "            <td>2023-03-17 19:29:11</td>\n",
       "            <td>['john.hansarick@wallaroo.ai']</td>\n",
       "            <td>1</td>\n",
       "            <td>1</td>\n",
       "        </tr>\n",
       "        \n",
       "\n",
       "        <tr >\n",
       "            <td>eyheccfraudworkspace</td>\n",
       "            <td>2023-03-20 18:47:51</td>\n",
       "            <td>['john.hansarick@wallaroo.ai']</td>\n",
       "            <td>1</td>\n",
       "            <td>1</td>\n",
       "        </tr>\n",
       "        \n",
       "        </table>\n",
       "        "
      ],
      "text/plain": [
       "[{'name': 'john.hansarick@wallaroo.ai - Default Workspace', 'id': 19, 'archived': False, 'created_by': '138bd7e6-4dc8-4dc1-a760-c9e721ef3c37', 'created_at': '2023-02-17T20:36:12.774807+00:00', 'models': [{'name': 'aloha-challenger', 'versions': 3, 'owner_id': '\"\"', 'last_update_time': datetime.datetime(2023, 3, 2, 15, 10, 49, 241555, tzinfo=tzutc()), 'created_at': datetime.datetime(2023, 2, 28, 19, 48, 3, 857365, tzinfo=tzutc())}, {'name': 'aloha-challenger2', 'versions': 2, 'owner_id': '\"\"', 'last_update_time': datetime.datetime(2023, 3, 3, 18, 52, 37, 507255, tzinfo=tzutc()), 'created_at': datetime.datetime(2023, 3, 2, 16, 6, 20, 764536, tzinfo=tzutc())}, {'name': 'housepricemodel', 'versions': 1, 'owner_id': '\"\"', 'last_update_time': datetime.datetime(2023, 3, 1, 22, 43, 56, 437665, tzinfo=tzutc()), 'created_at': datetime.datetime(2023, 3, 1, 22, 43, 56, 437665, tzinfo=tzutc())}, {'name': 'aloha-control', 'versions': 3, 'owner_id': '\"\"', 'last_update_time': datetime.datetime(2023, 3, 2, 15, 10, 48, 657992, tzinfo=tzutc()), 'created_at': datetime.datetime(2023, 2, 28, 19, 48, 3, 449406, tzinfo=tzutc())}, {'name': 'aloha-control2', 'versions': 2, 'owner_id': '\"\"', 'last_update_time': datetime.datetime(2023, 3, 3, 18, 52, 37, 153054, tzinfo=tzutc()), 'created_at': datetime.datetime(2023, 3, 2, 16, 6, 20, 379166, tzinfo=tzutc())}], 'pipelines': [{'name': 'randomsplitpipeline-demo', 'create_time': datetime.datetime(2023, 2, 28, 19, 48, 4, 361403, tzinfo=tzutc()), 'definition': '[]'}, {'name': 'housepricepipe', 'create_time': datetime.datetime(2023, 3, 1, 22, 43, 56, 941904, tzinfo=tzutc()), 'definition': '[]'}]},\n",
       " {'name': 'testautoconversion', 'id': 45, 'archived': False, 'created_by': '138bd7e6-4dc8-4dc1-a760-c9e721ef3c37', 'created_at': '2023-02-21T17:02:22.822181+00:00', 'models': [{'name': 'sklearntest', 'versions': 1, 'owner_id': '\"\"', 'last_update_time': datetime.datetime(2023, 2, 21, 17, 2, 31, 212283, tzinfo=tzutc()), 'created_at': datetime.datetime(2023, 2, 21, 17, 2, 31, 212283, tzinfo=tzutc())}, {'name': 'xgbtestreg', 'versions': 1, 'owner_id': '\"\"', 'last_update_time': datetime.datetime(2023, 2, 21, 17, 2, 50, 878700, tzinfo=tzutc()), 'created_at': datetime.datetime(2023, 2, 21, 17, 2, 50, 878700, tzinfo=tzutc())}], 'pipelines': []},\n",
       " {'name': 'kerasautoconvertworkspace', 'id': 48, 'archived': False, 'created_by': '138bd7e6-4dc8-4dc1-a760-c9e721ef3c37', 'created_at': '2023-02-21T18:09:28.298706+00:00', 'models': [{'name': 'simple-sentiment-model', 'versions': 1, 'owner_id': '\"\"', 'last_update_time': datetime.datetime(2023, 2, 21, 18, 9, 35, 325080, tzinfo=tzutc()), 'created_at': datetime.datetime(2023, 2, 21, 18, 9, 35, 325080, tzinfo=tzutc())}], 'pipelines': [{'name': 'kerasautoconvertpipeline', 'create_time': datetime.datetime(2023, 2, 21, 18, 9, 28, 528419, tzinfo=tzutc()), 'definition': '[]'}]},\n",
       " {'name': 'externalkerasautoconvertworkspace', 'id': 49, 'archived': False, 'created_by': '138bd7e6-4dc8-4dc1-a760-c9e721ef3c37', 'created_at': '2023-02-21T18:16:14.01416+00:00', 'models': [{'name': 'externalsimple-sentiment-model', 'versions': 1, 'owner_id': '\"\"', 'last_update_time': datetime.datetime(2023, 2, 21, 18, 16, 26, 708440, tzinfo=tzutc()), 'created_at': datetime.datetime(2023, 2, 21, 18, 16, 26, 708440, tzinfo=tzutc())}], 'pipelines': [{'name': 'externalkerasautoconvertpipeline', 'create_time': datetime.datetime(2023, 2, 21, 18, 16, 17, 818879, tzinfo=tzutc()), 'definition': '[]'}]},\n",
       " {'name': 'ccfraudcomparisondemo', 'id': 55, 'archived': False, 'created_by': '138bd7e6-4dc8-4dc1-a760-c9e721ef3c37', 'created_at': '2023-02-21T18:31:10.626664+00:00', 'models': [{'name': 'ccfraudxgb', 'versions': 9, 'owner_id': '\"\"', 'last_update_time': datetime.datetime(2023, 3, 3, 17, 35, 9, 590953, tzinfo=tzutc()), 'created_at': datetime.datetime(2023, 2, 21, 18, 34, 43, 169481, tzinfo=tzutc())}, {'name': 'ccfraudrf', 'versions': 9, 'owner_id': '\"\"', 'last_update_time': datetime.datetime(2023, 3, 3, 17, 35, 10, 947856, tzinfo=tzutc()), 'created_at': datetime.datetime(2023, 2, 21, 18, 34, 44, 56768, tzinfo=tzutc())}, {'name': 'ccfraud-lstm', 'versions': 1, 'owner_id': '\"\"', 'last_update_time': datetime.datetime(2023, 3, 3, 19, 20, 44, 531228, tzinfo=tzutc()), 'created_at': datetime.datetime(2023, 3, 3, 19, 20, 44, 531228, tzinfo=tzutc())}, {'name': 'ccfraud-xgb', 'versions': 1, 'owner_id': '\"\"', 'last_update_time': datetime.datetime(2023, 3, 3, 19, 20, 44, 777066, tzinfo=tzutc()), 'created_at': datetime.datetime(2023, 3, 3, 19, 20, 44, 777066, tzinfo=tzutc())}, {'name': 'ccfraud-rf', 'versions': 1, 'owner_id': '\"\"', 'last_update_time': datetime.datetime(2023, 3, 3, 19, 20, 45, 6148, tzinfo=tzutc()), 'created_at': datetime.datetime(2023, 3, 3, 19, 20, 45, 6148, tzinfo=tzutc())}, {'name': 'ccfraudlstm', 'versions': 9, 'owner_id': '\"\"', 'last_update_time': datetime.datetime(2023, 3, 3, 17, 35, 8, 486503, tzinfo=tzutc()), 'created_at': datetime.datetime(2023, 2, 21, 18, 34, 42, 83391, tzinfo=tzutc())}], 'pipelines': [{'name': 'cc-shadow', 'create_time': datetime.datetime(2023, 2, 21, 18, 31, 11, 386647, tzinfo=tzutc()), 'definition': '[]'}, {'name': 'ccfraudshadow', 'create_time': datetime.datetime(2023, 3, 3, 17, 35, 6, 557762, tzinfo=tzutc()), 'definition': '[]'}, {'name': 'ccshadow', 'create_time': datetime.datetime(2023, 3, 3, 19, 20, 44, 224839, tzinfo=tzutc()), 'definition': '[]'}]},\n",
       " {'name': 'isolettest', 'id': 61, 'archived': False, 'created_by': '138bd7e6-4dc8-4dc1-a760-c9e721ef3c37', 'created_at': '2023-02-21T21:24:33.872163+00:00', 'models': [{'name': 'isolettest', 'versions': 1, 'owner_id': '\"\"', 'last_update_time': datetime.datetime(2023, 2, 21, 21, 24, 39, 876720, tzinfo=tzutc()), 'created_at': datetime.datetime(2023, 2, 21, 21, 24, 39, 876720, tzinfo=tzutc())}], 'pipelines': [{'name': 'isoletpipeline', 'create_time': datetime.datetime(2023, 2, 21, 21, 24, 34, 687987, tzinfo=tzutc()), 'definition': '[]'}]},\n",
       " {'name': 'bikedayevalworkspace', 'id': 62, 'archived': False, 'created_by': '138bd7e6-4dc8-4dc1-a760-c9e721ef3c37', 'created_at': '2023-02-22T16:42:58.010343+00:00', 'models': [{'name': 'bikedaymodel', 'versions': 6, 'owner_id': '\"\"', 'last_update_time': datetime.datetime(2023, 2, 23, 16, 43, 37, 244964, tzinfo=tzutc()), 'created_at': datetime.datetime(2023, 2, 22, 16, 43, 0, 231629, tzinfo=tzutc())}], 'pipelines': [{'name': 'bikedayevalpipeline', 'create_time': datetime.datetime(2023, 2, 22, 16, 42, 58, 772535, tzinfo=tzutc()), 'definition': '[]'}]},\n",
       " {'name': 'xgboost-classification-autoconvert-workspace', 'id': 63, 'archived': False, 'created_by': '138bd7e6-4dc8-4dc1-a760-c9e721ef3c37', 'created_at': '2023-02-22T17:28:52.440729+00:00', 'models': [{'name': 'xgb-class-model', 'versions': 6, 'owner_id': '\"\"', 'last_update_time': datetime.datetime(2023, 2, 27, 20, 53, 33, 75832, tzinfo=tzutc()), 'created_at': datetime.datetime(2023, 2, 22, 17, 28, 56, 656611, tzinfo=tzutc())}], 'pipelines': [{'name': 'xgboost-classification-autoconvert-pipeline', 'create_time': datetime.datetime(2023, 2, 22, 17, 28, 53, 153447, tzinfo=tzutc()), 'definition': '[]'}]},\n",
       " {'name': 'xgboost-regression-autoconvert-workspace', 'id': 64, 'archived': False, 'created_by': '138bd7e6-4dc8-4dc1-a760-c9e721ef3c37', 'created_at': '2023-02-22T17:36:30.412517+00:00', 'models': [{'name': 'xgb-regression-model', 'versions': 5, 'owner_id': '\"\"', 'last_update_time': datetime.datetime(2023, 2, 24, 16, 26, 9, 812962, tzinfo=tzutc()), 'created_at': datetime.datetime(2023, 2, 22, 17, 36, 35, 269935, tzinfo=tzutc())}], 'pipelines': [{'name': 'xgboost-regression-autoconvert-pipeline', 'create_time': datetime.datetime(2023, 2, 22, 17, 36, 31, 143795, tzinfo=tzutc()), 'definition': '[]'}]},\n",
       " {'name': 'housepricing', 'id': 65, 'archived': False, 'created_by': '138bd7e6-4dc8-4dc1-a760-c9e721ef3c37', 'created_at': '2023-02-22T18:28:40.343233+00:00', 'models': [{'name': 'housepricemodel', 'versions': 3, 'owner_id': '\"\"', 'last_update_time': datetime.datetime(2023, 2, 23, 17, 36, 0, 905601, tzinfo=tzutc()), 'created_at': datetime.datetime(2023, 2, 22, 18, 28, 44, 182209, tzinfo=tzutc())}, {'name': 'preprocess', 'versions': 3, 'owner_id': '\"\"', 'last_update_time': datetime.datetime(2023, 2, 23, 17, 36, 1, 180991, tzinfo=tzutc()), 'created_at': datetime.datetime(2023, 2, 22, 18, 28, 46, 328473, tzinfo=tzutc())}, {'name': 'postprocess', 'versions': 3, 'owner_id': '\"\"', 'last_update_time': datetime.datetime(2023, 2, 23, 17, 36, 1, 423438, tzinfo=tzutc()), 'created_at': datetime.datetime(2023, 2, 22, 18, 28, 47, 760739, tzinfo=tzutc())}], 'pipelines': [{'name': 'housing-pipe', 'create_time': datetime.datetime(2023, 2, 22, 18, 28, 49, 604274, tzinfo=tzutc()), 'definition': '[]'}]},\n",
       " {'name': 'sdkquickworkspace', 'id': 66, 'archived': False, 'created_by': '138bd7e6-4dc8-4dc1-a760-c9e721ef3c37', 'created_at': '2023-02-22T21:25:41.546584+00:00', 'models': [{'name': 'sdkquickmodel', 'versions': 3, 'owner_id': '\"\"', 'last_update_time': datetime.datetime(2023, 3, 3, 22, 41, 5, 436920, tzinfo=tzutc()), 'created_at': datetime.datetime(2023, 2, 22, 21, 25, 44, 989355, tzinfo=tzutc())}], 'pipelines': [{'name': 'sdkquickpipeline', 'create_time': datetime.datetime(2023, 2, 22, 21, 25, 42, 312061, tzinfo=tzutc()), 'definition': '[]'}]},\n",
       " {'name': 'jchdemandcurveworkspace', 'id': 71, 'archived': False, 'created_by': '138bd7e6-4dc8-4dc1-a760-c9e721ef3c37', 'created_at': '2023-02-22T22:23:21.424908+00:00', 'models': [{'name': 'jchdemandcurvemodel', 'versions': 1, 'owner_id': '\"\"', 'last_update_time': datetime.datetime(2023, 2, 22, 22, 23, 23, 488582, tzinfo=tzutc()), 'created_at': datetime.datetime(2023, 2, 22, 22, 23, 23, 488582, tzinfo=tzutc())}, {'name': 'preprocess', 'versions': 1, 'owner_id': '\"\"', 'last_update_time': datetime.datetime(2023, 2, 22, 22, 23, 24, 328399, tzinfo=tzutc()), 'created_at': datetime.datetime(2023, 2, 22, 22, 23, 24, 328399, tzinfo=tzutc())}, {'name': 'postprocess', 'versions': 1, 'owner_id': '\"\"', 'last_update_time': datetime.datetime(2023, 2, 22, 22, 23, 24, 948346, tzinfo=tzutc()), 'created_at': datetime.datetime(2023, 2, 22, 22, 23, 24, 948346, tzinfo=tzutc())}], 'pipelines': [{'name': 'jchdemandcurvepipeline', 'create_time': datetime.datetime(2023, 2, 22, 22, 23, 22, 220946, tzinfo=tzutc()), 'definition': '[]'}]},\n",
       " {'name': 'jchdemandcurveworkspace2', 'id': 72, 'archived': False, 'created_by': '138bd7e6-4dc8-4dc1-a760-c9e721ef3c37', 'created_at': '2023-02-22T22:33:41.398011+00:00', 'models': [{'name': 'jchdemandcurvemodel2', 'versions': 1, 'owner_id': '\"\"', 'last_update_time': datetime.datetime(2023, 2, 22, 22, 33, 42, 578826, tzinfo=tzutc()), 'created_at': datetime.datetime(2023, 2, 22, 22, 33, 42, 578826, tzinfo=tzutc())}, {'name': 'preprocess', 'versions': 1, 'owner_id': '\"\"', 'last_update_time': datetime.datetime(2023, 2, 22, 22, 33, 43, 115396, tzinfo=tzutc()), 'created_at': datetime.datetime(2023, 2, 22, 22, 33, 43, 115396, tzinfo=tzutc())}, {'name': 'postprocess', 'versions': 1, 'owner_id': '\"\"', 'last_update_time': datetime.datetime(2023, 2, 22, 22, 33, 43, 432409, tzinfo=tzutc()), 'created_at': datetime.datetime(2023, 2, 22, 22, 33, 43, 432409, tzinfo=tzutc())}], 'pipelines': [{'name': 'jchdemandcurvepipeline2', 'create_time': datetime.datetime(2023, 2, 22, 22, 33, 41, 609947, tzinfo=tzutc()), 'definition': '[]'}]},\n",
       " {'name': 'demandcurveworkspace', 'id': 73, 'archived': False, 'created_by': '138bd7e6-4dc8-4dc1-a760-c9e721ef3c37', 'created_at': '2023-02-23T15:14:32.196228+00:00', 'models': [{'name': 'demandcurvemodel', 'versions': 2, 'owner_id': '\"\"', 'last_update_time': datetime.datetime(2023, 2, 23, 15, 56, 39, 981538, tzinfo=tzutc()), 'created_at': datetime.datetime(2023, 2, 23, 15, 14, 35, 580778, tzinfo=tzutc())}, {'name': 'preprocess', 'versions': 2, 'owner_id': '\"\"', 'last_update_time': datetime.datetime(2023, 2, 23, 15, 56, 40, 264650, tzinfo=tzutc()), 'created_at': datetime.datetime(2023, 2, 23, 15, 14, 35, 852306, tzinfo=tzutc())}, {'name': 'postprocess', 'versions': 2, 'owner_id': '\"\"', 'last_update_time': datetime.datetime(2023, 2, 23, 15, 56, 40, 495570, tzinfo=tzutc()), 'created_at': datetime.datetime(2023, 2, 23, 15, 14, 36, 151307, tzinfo=tzutc())}], 'pipelines': [{'name': 'demandcurvepipeline', 'create_time': datetime.datetime(2023, 2, 23, 15, 14, 32, 456495, tzinfo=tzutc()), 'definition': '[]'}]},\n",
       " {'name': 'yqecccfraudworkspace', 'id': 74, 'archived': False, 'created_by': '138bd7e6-4dc8-4dc1-a760-c9e721ef3c37', 'created_at': '2023-02-23T16:00:59.580211+00:00', 'models': [{'name': 'yqecccfraudmodel', 'versions': 1, 'owner_id': '\"\"', 'last_update_time': datetime.datetime(2023, 2, 23, 16, 1, 26, 777591, tzinfo=tzutc()), 'created_at': datetime.datetime(2023, 2, 23, 16, 1, 26, 777591, tzinfo=tzutc())}], 'pipelines': [{'name': 'yqecccfraudpipeline', 'create_time': datetime.datetime(2023, 2, 23, 16, 1, 28, 306318, tzinfo=tzutc()), 'definition': '[]'}]},\n",
       " {'name': 'mobilenetworkspace2', 'id': 77, 'archived': False, 'created_by': '138bd7e6-4dc8-4dc1-a760-c9e721ef3c37', 'created_at': '2023-02-23T18:03:12.717021+00:00', 'models': [{'name': 'mobilenet2', 'versions': 1, 'owner_id': '\"\"', 'last_update_time': datetime.datetime(2023, 2, 23, 18, 3, 40, 299978, tzinfo=tzutc()), 'created_at': datetime.datetime(2023, 2, 23, 18, 3, 40, 299978, tzinfo=tzutc())}], 'pipelines': [{'name': 'mobilenetpipeline2', 'create_time': datetime.datetime(2023, 2, 23, 18, 3, 17, 827589, tzinfo=tzutc()), 'definition': '[]'}]},\n",
       " {'name': 'mobilenetworkspacetest', 'id': 78, 'archived': False, 'created_by': '138bd7e6-4dc8-4dc1-a760-c9e721ef3c37', 'created_at': '2023-02-23T18:12:45.403645+00:00', 'models': [{'name': 'mobilenettest', 'versions': 1, 'owner_id': '\"\"', 'last_update_time': datetime.datetime(2023, 2, 23, 18, 13, 23, 387211, tzinfo=tzutc()), 'created_at': datetime.datetime(2023, 2, 23, 18, 13, 23, 387211, tzinfo=tzutc())}, {'name': 'mobilenet', 'versions': 1, 'owner_id': '\"\"', 'last_update_time': datetime.datetime(2023, 3, 2, 18, 41, 50, 21095, tzinfo=tzutc()), 'created_at': datetime.datetime(2023, 3, 2, 18, 41, 50, 21095, tzinfo=tzutc())}], 'pipelines': [{'name': 'mobilenetpipelinetest', 'create_time': datetime.datetime(2023, 2, 23, 18, 12, 46, 810024, tzinfo=tzutc()), 'definition': '[]'}, {'name': 'mobilenetpipeline', 'create_time': datetime.datetime(2023, 3, 2, 18, 41, 31, 728690, tzinfo=tzutc()), 'definition': '[]'}]},\n",
       " {'name': 'mlflowstatsmodelworkspace', 'id': 81, 'archived': False, 'created_by': '138bd7e6-4dc8-4dc1-a760-c9e721ef3c37', 'created_at': '2023-02-23T23:14:12.636255+00:00', 'models': [{'name': 'mlflow-statmodels', 'versions': 1, 'owner_id': '\"\"', 'last_update_time': datetime.datetime(2023, 2, 23, 23, 14, 13, 873236, tzinfo=tzutc()), 'created_at': datetime.datetime(2023, 2, 23, 23, 14, 13, 873236, tzinfo=tzutc())}, {'name': 'mlflow-postprocess', 'versions': 1, 'owner_id': '\"\"', 'last_update_time': datetime.datetime(2023, 2, 23, 23, 14, 14, 807739, tzinfo=tzutc()), 'created_at': datetime.datetime(2023, 2, 23, 23, 14, 14, 807739, tzinfo=tzutc())}, {'name': 'mlflowstatmodels', 'versions': 1, 'owner_id': '\"\"', 'last_update_time': datetime.datetime(2023, 3, 2, 17, 28, 2, 881490, tzinfo=tzutc()), 'created_at': datetime.datetime(2023, 3, 2, 17, 28, 2, 881490, tzinfo=tzutc())}, {'name': 'mlflowpostprocess', 'versions': 1, 'owner_id': '\"\"', 'last_update_time': datetime.datetime(2023, 3, 2, 17, 28, 3, 942347, tzinfo=tzutc()), 'created_at': datetime.datetime(2023, 3, 2, 17, 28, 3, 942347, tzinfo=tzutc())}], 'pipelines': [{'name': 'mlflowstatsmodelpipeline', 'create_time': datetime.datetime(2023, 2, 23, 23, 14, 13, 577523, tzinfo=tzutc()), 'definition': '[]'}]},\n",
       " {'name': 'statsmodelworkspace', 'id': 82, 'archived': False, 'created_by': '138bd7e6-4dc8-4dc1-a760-c9e721ef3c37', 'created_at': '2023-02-24T17:17:13.695384+00:00', 'models': [{'name': 'statsmodels-test-statmodels', 'versions': 1, 'owner_id': '\"\"', 'last_update_time': datetime.datetime(2023, 2, 24, 17, 17, 13, 967836, tzinfo=tzutc()), 'created_at': datetime.datetime(2023, 2, 24, 17, 17, 13, 967836, tzinfo=tzutc())}, {'name': 'statsmodels-test-postprocess', 'versions': 1, 'owner_id': '\"\"', 'last_update_time': datetime.datetime(2023, 2, 24, 17, 17, 14, 66739, tzinfo=tzutc()), 'created_at': datetime.datetime(2023, 2, 24, 17, 17, 14, 66739, tzinfo=tzutc())}], 'pipelines': [{'name': 'statsmodelpipeline', 'create_time': datetime.datetime(2023, 2, 24, 17, 17, 13, 905709, tzinfo=tzutc()), 'definition': '[]'}]},\n",
       " {'name': 'wjtxedgeworkspaceexample', 'id': 86, 'archived': False, 'created_by': '138bd7e6-4dc8-4dc1-a760-c9e721ef3c37', 'created_at': '2023-02-27T17:46:51.007989+00:00', 'models': [{'name': 'wjtxalohamodel', 'versions': 1, 'owner_id': '\"\"', 'last_update_time': datetime.datetime(2023, 2, 27, 17, 46, 52, 945945, tzinfo=tzutc()), 'created_at': datetime.datetime(2023, 2, 27, 17, 46, 52, 945945, tzinfo=tzutc())}], 'pipelines': [{'name': 'wjtxedgepipelineexample', 'create_time': datetime.datetime(2023, 2, 27, 17, 46, 53, 711612, tzinfo=tzutc()), 'definition': '[]'}]},\n",
       " {'name': 'xtwjccfraudworkspace', 'id': 91, 'archived': False, 'created_by': '138bd7e6-4dc8-4dc1-a760-c9e721ef3c37', 'created_at': '2023-02-28T19:14:51.216753+00:00', 'models': [{'name': 'xtwjccfraudmodel', 'versions': 6, 'owner_id': '\"\"', 'last_update_time': datetime.datetime(2023, 2, 28, 19, 27, 16, 717841, tzinfo=tzutc()), 'created_at': datetime.datetime(2023, 2, 28, 19, 14, 55, 330208, tzinfo=tzutc())}], 'pipelines': [{'name': 'xtwjccfraudpipeline', 'create_time': datetime.datetime(2023, 2, 28, 19, 15, 36, 629110, tzinfo=tzutc()), 'definition': '[]'}]},\n",
       " {'name': 'ccfraudcomparisondemo2a', 'id': 93, 'archived': False, 'created_by': '138bd7e6-4dc8-4dc1-a760-c9e721ef3c37', 'created_at': '2023-02-28T20:01:40.112337+00:00', 'models': [{'name': 'ccfraudlstm2', 'versions': 1, 'owner_id': '\"\"', 'last_update_time': datetime.datetime(2023, 2, 28, 20, 1, 54, 792686, tzinfo=tzutc()), 'created_at': datetime.datetime(2023, 2, 28, 20, 1, 54, 792686, tzinfo=tzutc())}, {'name': 'ccfraudxgb2', 'versions': 1, 'owner_id': '\"\"', 'last_update_time': datetime.datetime(2023, 2, 28, 20, 1, 55, 113236, tzinfo=tzutc()), 'created_at': datetime.datetime(2023, 2, 28, 20, 1, 55, 113236, tzinfo=tzutc())}, {'name': 'ccfraudrf2', 'versions': 1, 'owner_id': '\"\"', 'last_update_time': datetime.datetime(2023, 2, 28, 20, 1, 55, 361718, tzinfo=tzutc()), 'created_at': datetime.datetime(2023, 2, 28, 20, 1, 55, 361718, tzinfo=tzutc())}], 'pipelines': [{'name': 'cc-shadow2', 'create_time': datetime.datetime(2023, 2, 28, 20, 1, 40, 320658, tzinfo=tzutc()), 'definition': '[]'}]},\n",
       " {'name': 'ccfraudcomparisondemo3', 'id': 94, 'archived': False, 'created_by': '138bd7e6-4dc8-4dc1-a760-c9e721ef3c37', 'created_at': '2023-02-28T20:07:27.665289+00:00', 'models': [{'name': 'ccfraudlstma', 'versions': 1, 'owner_id': '\"\"', 'last_update_time': datetime.datetime(2023, 2, 28, 20, 7, 44, 940209, tzinfo=tzutc()), 'created_at': datetime.datetime(2023, 2, 28, 20, 7, 44, 940209, tzinfo=tzutc())}, {'name': 'ccfraudxgba', 'versions': 1, 'owner_id': '\"\"', 'last_update_time': datetime.datetime(2023, 2, 28, 20, 7, 45, 225650, tzinfo=tzutc()), 'created_at': datetime.datetime(2023, 2, 28, 20, 7, 45, 225650, tzinfo=tzutc())}, {'name': 'ccfraudrfa', 'versions': 1, 'owner_id': '\"\"', 'last_update_time': datetime.datetime(2023, 2, 28, 20, 7, 45, 473326, tzinfo=tzutc()), 'created_at': datetime.datetime(2023, 2, 28, 20, 7, 45, 473326, tzinfo=tzutc())}], 'pipelines': [{'name': 'cc-shadowa', 'create_time': datetime.datetime(2023, 2, 28, 20, 7, 27, 740795, tzinfo=tzutc()), 'definition': '[]'}]},\n",
       " {'name': 'ccfraudcomparisondemo4', 'id': 95, 'archived': False, 'created_by': '138bd7e6-4dc8-4dc1-a760-c9e721ef3c37', 'created_at': '2023-02-28T20:21:21.345055+00:00', 'models': [{'name': 'ccfraudlstmb', 'versions': 1, 'owner_id': '\"\"', 'last_update_time': datetime.datetime(2023, 2, 28, 20, 21, 35, 303830, tzinfo=tzutc()), 'created_at': datetime.datetime(2023, 2, 28, 20, 21, 35, 303830, tzinfo=tzutc())}, {'name': 'ccfraudxgbb', 'versions': 1, 'owner_id': '\"\"', 'last_update_time': datetime.datetime(2023, 2, 28, 20, 21, 35, 562107, tzinfo=tzutc()), 'created_at': datetime.datetime(2023, 2, 28, 20, 21, 35, 562107, tzinfo=tzutc())}, {'name': 'ccfraudrfb', 'versions': 1, 'owner_id': '\"\"', 'last_update_time': datetime.datetime(2023, 2, 28, 20, 21, 35, 812237, tzinfo=tzutc()), 'created_at': datetime.datetime(2023, 2, 28, 20, 21, 35, 812237, tzinfo=tzutc())}], 'pipelines': [{'name': 'cc-shadowb', 'create_time': datetime.datetime(2023, 2, 28, 20, 21, 21, 426219, tzinfo=tzutc()), 'definition': '[]'}]},\n",
       " {'name': 'ccfraudcomparisondemo5', 'id': 96, 'archived': False, 'created_by': '138bd7e6-4dc8-4dc1-a760-c9e721ef3c37', 'created_at': '2023-02-28T20:23:24.901907+00:00', 'models': [{'name': 'ccfraudlstmc', 'versions': 1, 'owner_id': '\"\"', 'last_update_time': datetime.datetime(2023, 2, 28, 20, 23, 33, 235958, tzinfo=tzutc()), 'created_at': datetime.datetime(2023, 2, 28, 20, 23, 33, 235958, tzinfo=tzutc())}, {'name': 'ccfraudxgbc', 'versions': 1, 'owner_id': '\"\"', 'last_update_time': datetime.datetime(2023, 2, 28, 20, 23, 33, 495498, tzinfo=tzutc()), 'created_at': datetime.datetime(2023, 2, 28, 20, 23, 33, 495498, tzinfo=tzutc())}, {'name': 'ccfraudrfc', 'versions': 1, 'owner_id': '\"\"', 'last_update_time': datetime.datetime(2023, 2, 28, 20, 23, 33, 738565, tzinfo=tzutc()), 'created_at': datetime.datetime(2023, 2, 28, 20, 23, 33, 738565, tzinfo=tzutc())}], 'pipelines': [{'name': 'cc-shadowc', 'create_time': datetime.datetime(2023, 2, 28, 20, 23, 24, 968921, tzinfo=tzutc()), 'definition': '[]'}]},\n",
       " {'name': 'ccfraudcomparisondemo6', 'id': 97, 'archived': False, 'created_by': '138bd7e6-4dc8-4dc1-a760-c9e721ef3c37', 'created_at': '2023-02-28T20:25:57.444178+00:00', 'models': [{'name': 'ccfraudlstmcontrol', 'versions': 1, 'owner_id': '\"\"', 'last_update_time': datetime.datetime(2023, 2, 28, 20, 26, 11, 188287, tzinfo=tzutc()), 'created_at': datetime.datetime(2023, 2, 28, 20, 26, 11, 188287, tzinfo=tzutc())}, {'name': 'ccfraudxgbcshadow', 'versions': 1, 'owner_id': '\"\"', 'last_update_time': datetime.datetime(2023, 2, 28, 20, 26, 11, 454657, tzinfo=tzutc()), 'created_at': datetime.datetime(2023, 2, 28, 20, 26, 11, 454657, tzinfo=tzutc())}, {'name': 'ccfraudrfcshadow', 'versions': 1, 'owner_id': '\"\"', 'last_update_time': datetime.datetime(2023, 2, 28, 20, 26, 11, 717697, tzinfo=tzutc()), 'created_at': datetime.datetime(2023, 2, 28, 20, 26, 11, 717697, tzinfo=tzutc())}], 'pipelines': [{'name': 'cc-shadowd', 'create_time': datetime.datetime(2023, 2, 28, 20, 25, 57, 526420, tzinfo=tzutc()), 'definition': '[]'}]},\n",
       " {'name': 'anomalyexampletest', 'id': 99, 'archived': False, 'created_by': '138bd7e6-4dc8-4dc1-a760-c9e721ef3c37', 'created_at': '2023-02-28T20:37:58.994507+00:00', 'models': [{'name': 'anomaly-housing-model', 'versions': 5, 'owner_id': '\"\"', 'last_update_time': datetime.datetime(2023, 3, 3, 18, 22, 52, 557677, tzinfo=tzutc()), 'created_at': datetime.datetime(2023, 2, 28, 20, 38, 16, 698794, tzinfo=tzutc())}], 'pipelines': [{'name': 'anomaly-housing-pipeline', 'create_time': datetime.datetime(2023, 2, 28, 20, 38, 18, 232016, tzinfo=tzutc()), 'definition': '[]'}]},\n",
       " {'name': 'uupfccfraudworkspace', 'id': 114, 'archived': False, 'created_by': '138bd7e6-4dc8-4dc1-a760-c9e721ef3c37', 'created_at': '2023-03-01T21:59:42.738409+00:00', 'models': [{'name': 'uupfccfraudmodel', 'versions': 1, 'owner_id': '\"\"', 'last_update_time': datetime.datetime(2023, 3, 1, 22, 0, 36, 294590, tzinfo=tzutc()), 'created_at': datetime.datetime(2023, 3, 1, 22, 0, 36, 294590, tzinfo=tzutc())}], 'pipelines': [{'name': 'uupfccfraudpipeline', 'create_time': datetime.datetime(2023, 3, 1, 22, 0, 37, 919002, tzinfo=tzutc()), 'definition': '[]'}]},\n",
       " {'name': 'abtestingworkspace2', 'id': 117, 'archived': False, 'created_by': '138bd7e6-4dc8-4dc1-a760-c9e721ef3c37', 'created_at': '2023-03-01T22:17:22.345321+00:00', 'models': [{'name': 'aloha-control', 'versions': 1, 'owner_id': '\"\"', 'last_update_time': datetime.datetime(2023, 3, 1, 22, 17, 30, 447344, tzinfo=tzutc()), 'created_at': datetime.datetime(2023, 3, 1, 22, 17, 30, 447344, tzinfo=tzutc())}, {'name': 'aloha-challenger', 'versions': 1, 'owner_id': '\"\"', 'last_update_time': datetime.datetime(2023, 3, 1, 22, 17, 31, 528850, tzinfo=tzutc()), 'created_at': datetime.datetime(2023, 3, 1, 22, 17, 31, 528850, tzinfo=tzutc())}], 'pipelines': [{'name': 'randomsplitpipeline-demo', 'create_time': datetime.datetime(2023, 3, 1, 22, 17, 32, 31906, tzinfo=tzutc()), 'definition': '[]'}]},\n",
       " {'name': 'housepricedrift2', 'id': 119, 'archived': False, 'created_by': '138bd7e6-4dc8-4dc1-a760-c9e721ef3c37', 'created_at': '2023-03-01T22:50:30.582445+00:00', 'models': [{'name': 'housepricemodel2', 'versions': 1, 'owner_id': '\"\"', 'last_update_time': datetime.datetime(2023, 3, 1, 22, 52, 0, 426368, tzinfo=tzutc()), 'created_at': datetime.datetime(2023, 3, 1, 22, 52, 0, 426368, tzinfo=tzutc())}], 'pipelines': [{'name': 'housepricepipe2', 'create_time': datetime.datetime(2023, 3, 1, 22, 50, 30, 647318, tzinfo=tzutc()), 'definition': '[]'}]},\n",
       " {'name': 'housepricedrift3', 'id': 121, 'archived': False, 'created_by': '138bd7e6-4dc8-4dc1-a760-c9e721ef3c37', 'created_at': '2023-03-02T16:48:37.377431+00:00', 'models': [{'name': 'housepricemodel3', 'versions': 1, 'owner_id': '\"\"', 'last_update_time': datetime.datetime(2023, 3, 2, 16, 48, 37, 960215, tzinfo=tzutc()), 'created_at': datetime.datetime(2023, 3, 2, 16, 48, 37, 960215, tzinfo=tzutc())}], 'pipelines': [{'name': 'housepricepipe3', 'create_time': datetime.datetime(2023, 3, 2, 16, 48, 37, 592816, tzinfo=tzutc()), 'definition': '[]'}]},\n",
       " {'name': 'statsmodelsjchstatsmodelworkspace', 'id': 122, 'archived': False, 'created_by': '138bd7e6-4dc8-4dc1-a760-c9e721ef3c37', 'created_at': '2023-03-02T17:59:52.898693+00:00', 'models': [{'name': 'statsmodelsjch-statmodels', 'versions': 1, 'owner_id': '\"\"', 'last_update_time': datetime.datetime(2023, 3, 2, 17, 59, 53, 186249, tzinfo=tzutc()), 'created_at': datetime.datetime(2023, 3, 2, 17, 59, 53, 186249, tzinfo=tzutc())}, {'name': 'statsmodelsjch-postprocess', 'versions': 1, 'owner_id': '\"\"', 'last_update_time': datetime.datetime(2023, 3, 2, 17, 59, 53, 281705, tzinfo=tzutc()), 'created_at': datetime.datetime(2023, 3, 2, 17, 59, 53, 281705, tzinfo=tzutc())}], 'pipelines': [{'name': 'statsmodelsjchstatsmodelpipeline', 'create_time': datetime.datetime(2023, 3, 2, 17, 59, 53, 119646, tzinfo=tzutc()), 'definition': '[]'}]},\n",
       " {'name': 'mobilenetworkspacejch', 'id': 125, 'archived': False, 'created_by': '138bd7e6-4dc8-4dc1-a760-c9e721ef3c37', 'created_at': '2023-03-02T19:01:14.588605+00:00', 'models': [{'name': 'mobilenetjch', 'versions': 1, 'owner_id': '\"\"', 'last_update_time': datetime.datetime(2023, 3, 3, 19, 54, 21, 69483, tzinfo=tzutc()), 'created_at': datetime.datetime(2023, 3, 3, 19, 54, 21, 69483, tzinfo=tzutc())}, {'name': 'mobilenet', 'versions': 2, 'owner_id': '\"\"', 'last_update_time': datetime.datetime(2023, 3, 3, 19, 54, 42, 838646, tzinfo=tzutc()), 'created_at': datetime.datetime(2023, 3, 2, 19, 1, 20, 912028, tzinfo=tzutc())}], 'pipelines': [{'name': 'mobilenetpipeline', 'create_time': datetime.datetime(2023, 3, 2, 19, 1, 21, 46619, tzinfo=tzutc()), 'definition': '[]'}, {'name': 'mobilenetpipelinejch', 'create_time': datetime.datetime(2023, 3, 3, 19, 54, 12, 436967, tzinfo=tzutc()), 'definition': '[]'}]},\n",
       " {'name': 'abtestingworkspacejchtest', 'id': 135, 'archived': False, 'created_by': '138bd7e6-4dc8-4dc1-a760-c9e721ef3c37', 'created_at': '2023-03-03T17:28:12.451472+00:00', 'models': [{'name': 'aloha-control', 'versions': 1, 'owner_id': '\"\"', 'last_update_time': datetime.datetime(2023, 3, 3, 17, 28, 14, 293060, tzinfo=tzutc()), 'created_at': datetime.datetime(2023, 3, 3, 17, 28, 14, 293060, tzinfo=tzutc())}, {'name': 'aloha-challenger', 'versions': 1, 'owner_id': '\"\"', 'last_update_time': datetime.datetime(2023, 3, 3, 17, 28, 15, 404203, tzinfo=tzutc()), 'created_at': datetime.datetime(2023, 3, 3, 17, 28, 15, 404203, tzinfo=tzutc())}], 'pipelines': [{'name': 'randomsplitpipeline-demo', 'create_time': datetime.datetime(2023, 3, 3, 17, 28, 15, 920974, tzinfo=tzutc()), 'definition': '[]'}]},\n",
       " {'name': 'abtesting', 'id': 137, 'archived': False, 'created_by': '138bd7e6-4dc8-4dc1-a760-c9e721ef3c37', 'created_at': '2023-03-03T18:58:38.546346+00:00', 'models': [{'name': 'aloha-control', 'versions': 2, 'owner_id': '\"\"', 'last_update_time': datetime.datetime(2023, 3, 3, 19, 5, 41, 45043, tzinfo=tzutc()), 'created_at': datetime.datetime(2023, 3, 3, 18, 58, 39, 117617, tzinfo=tzutc())}, {'name': 'aloha-challenger', 'versions': 2, 'owner_id': '\"\"', 'last_update_time': datetime.datetime(2023, 3, 3, 19, 5, 41, 447554, tzinfo=tzutc()), 'created_at': datetime.datetime(2023, 3, 3, 18, 58, 39, 431462, tzinfo=tzutc())}], 'pipelines': [{'name': 'randomsplitpipeline-demo', 'create_time': datetime.datetime(2023, 3, 3, 18, 58, 39, 517955, tzinfo=tzutc()), 'definition': '[]'}]},\n",
       " {'name': 'anomalyexamples', 'id': 139, 'archived': False, 'created_by': '138bd7e6-4dc8-4dc1-a760-c9e721ef3c37', 'created_at': '2023-03-03T19:11:35.338843+00:00', 'models': [{'name': 'anomaly-housing-model', 'versions': 2, 'owner_id': '\"\"', 'last_update_time': datetime.datetime(2023, 3, 3, 19, 19, 27, 246802, tzinfo=tzutc()), 'created_at': datetime.datetime(2023, 3, 3, 19, 11, 35, 799799, tzinfo=tzutc())}], 'pipelines': [{'name': 'anomalyhousingpipeline', 'create_time': datetime.datetime(2023, 3, 3, 19, 11, 35, 879127, tzinfo=tzutc()), 'definition': '[]'}]},\n",
       " {'name': 'uxelalohaworkspace', 'id': 142, 'archived': False, 'created_by': '138bd7e6-4dc8-4dc1-a760-c9e721ef3c37', 'created_at': '2023-03-03T22:15:44.535021+00:00', 'models': [{'name': 'uxelalohamodel', 'versions': 1, 'owner_id': '\"\"', 'last_update_time': datetime.datetime(2023, 3, 3, 22, 16, 21, 569067, tzinfo=tzutc()), 'created_at': datetime.datetime(2023, 3, 3, 22, 16, 21, 569067, tzinfo=tzutc())}], 'pipelines': [{'name': 'uxelalohapipeline', 'create_time': datetime.datetime(2023, 3, 3, 22, 15, 45, 26965, tzinfo=tzutc()), 'definition': '[]'}]},\n",
       " {'name': 'anomalytesting', 'id': 145, 'archived': False, 'created_by': '138bd7e6-4dc8-4dc1-a760-c9e721ef3c37', 'created_at': '2023-03-06T19:27:47.219395+00:00', 'models': [{'name': 'anomaly-housing-model', 'versions': 2, 'owner_id': '\"\"', 'last_update_time': datetime.datetime(2023, 3, 13, 20, 18, 14, 654339, tzinfo=tzutc()), 'created_at': datetime.datetime(2023, 3, 13, 16, 39, 41, 683686, tzinfo=tzutc())}], 'pipelines': [{'name': 'anomalytestexample', 'create_time': datetime.datetime(2023, 3, 13, 20, 18, 16, 622828, tzinfo=tzutc()), 'definition': '[]'}, {'name': 'anomalyhousing', 'create_time': datetime.datetime(2023, 3, 6, 19, 37, 23, 71334, tzinfo=tzutc()), 'definition': '[]'}]},\n",
       " {'name': 'abhousepricetesting', 'id': 148, 'archived': False, 'created_by': '138bd7e6-4dc8-4dc1-a760-c9e721ef3c37', 'created_at': '2023-03-10T19:39:16.853964+00:00', 'models': [{'name': 'houseprice-control', 'versions': 1, 'owner_id': '\"\"', 'last_update_time': datetime.datetime(2023, 3, 10, 19, 39, 23, 710885, tzinfo=tzutc()), 'created_at': datetime.datetime(2023, 3, 10, 19, 39, 23, 710885, tzinfo=tzutc())}, {'name': 'houseprice-challenger', 'versions': 1, 'owner_id': '\"\"', 'last_update_time': datetime.datetime(2023, 3, 10, 19, 39, 25, 880863, tzinfo=tzutc()), 'created_at': datetime.datetime(2023, 3, 10, 19, 39, 25, 880863, tzinfo=tzutc())}], 'pipelines': [{'name': 'randomsplitpipeline-demo', 'create_time': datetime.datetime(2023, 3, 10, 19, 39, 27, 932854, tzinfo=tzutc()), 'definition': '[]'}]},\n",
       " {'name': 'abhousetesting', 'id': 149, 'archived': False, 'created_by': '138bd7e6-4dc8-4dc1-a760-c9e721ef3c37', 'created_at': '2023-03-10T19:47:57.006484+00:00', 'models': [{'name': 'houseprice-challenger', 'versions': 2, 'owner_id': '\"\"', 'last_update_time': datetime.datetime(2023, 3, 10, 19, 48, 2, 61382, tzinfo=tzutc()), 'created_at': datetime.datetime(2023, 3, 10, 19, 48, 0, 991401, tzinfo=tzutc())}, {'name': 'houseprice-control', 'versions': 1, 'owner_id': '\"\"', 'last_update_time': datetime.datetime(2023, 3, 10, 20, 4, 4, 644974, tzinfo=tzutc()), 'created_at': datetime.datetime(2023, 3, 10, 20, 4, 4, 644974, tzinfo=tzutc())}], 'pipelines': [{'name': 'randomsplitpipeline-demo', 'create_time': datetime.datetime(2023, 3, 10, 19, 48, 3, 288037, tzinfo=tzutc()), 'definition': '[]'}]},\n",
       " {'name': 'anomalytesting03', 'id': 150, 'archived': False, 'created_by': '138bd7e6-4dc8-4dc1-a760-c9e721ef3c37', 'created_at': '2023-03-13T18:18:47.324981+00:00', 'models': [{'name': 'anomaly-housing-model', 'versions': 1, 'owner_id': '\"\"', 'last_update_time': datetime.datetime(2023, 3, 13, 18, 18, 49, 589460, tzinfo=tzutc()), 'created_at': datetime.datetime(2023, 3, 13, 18, 18, 49, 589460, tzinfo=tzutc())}], 'pipelines': [{'name': 'anomalyhousing03', 'create_time': datetime.datetime(2023, 3, 13, 18, 18, 50, 950620, tzinfo=tzutc()), 'definition': '[]'}]},\n",
       " {'name': 'anomalytesting04', 'id': 151, 'archived': False, 'created_by': '138bd7e6-4dc8-4dc1-a760-c9e721ef3c37', 'created_at': '2023-03-13T18:41:25.129765+00:00', 'models': [{'name': 'anomaly-housing-model', 'versions': 1, 'owner_id': '\"\"', 'last_update_time': datetime.datetime(2023, 3, 13, 18, 41, 26, 606890, tzinfo=tzutc()), 'created_at': datetime.datetime(2023, 3, 13, 18, 41, 26, 606890, tzinfo=tzutc())}], 'pipelines': [{'name': 'anomalytestexample', 'create_time': datetime.datetime(2023, 3, 13, 18, 41, 28, 100072, tzinfo=tzutc()), 'definition': '[]'}]},\n",
       " {'name': 'houseprice', 'id': 152, 'archived': False, 'created_by': '138bd7e6-4dc8-4dc1-a760-c9e721ef3c37', 'created_at': '2023-03-13T20:43:33.923135+00:00', 'models': [{'name': 'anomalyhousingcontrol', 'versions': 6, 'owner_id': '\"\"', 'last_update_time': datetime.datetime(2023, 3, 14, 14, 46, 29, 85602, tzinfo=tzutc()), 'created_at': datetime.datetime(2023, 3, 13, 20, 43, 36, 960968, tzinfo=tzutc())}, {'name': 'anomalyhousingchallenger', 'versions': 2, 'owner_id': '\"\"', 'last_update_time': datetime.datetime(2023, 3, 14, 14, 46, 30, 142854, tzinfo=tzutc()), 'created_at': datetime.datetime(2023, 3, 13, 22, 25, 27, 993199, tzinfo=tzutc())}, {'name': 'housingcontrol', 'versions': 5, 'owner_id': '\"\"', 'last_update_time': datetime.datetime(2023, 3, 14, 18, 12, 24, 777395, tzinfo=tzutc()), 'created_at': datetime.datetime(2023, 3, 14, 15, 31, 46, 695685, tzinfo=tzutc())}, {'name': 'housingchallenger01', 'versions': 5, 'owner_id': '\"\"', 'last_update_time': datetime.datetime(2023, 3, 14, 18, 12, 26, 161877, tzinfo=tzutc()), 'created_at': datetime.datetime(2023, 3, 14, 15, 31, 47, 759521, tzinfo=tzutc())}, {'name': 'housingchallenger02', 'versions': 5, 'owner_id': '\"\"', 'last_update_time': datetime.datetime(2023, 3, 14, 18, 12, 27, 813929, tzinfo=tzutc()), 'created_at': datetime.datetime(2023, 3, 14, 15, 31, 48, 786495, tzinfo=tzutc())}], 'pipelines': [{'name': 'housepricesanomaly', 'create_time': datetime.datetime(2023, 3, 14, 14, 37, 6, 328884, tzinfo=tzutc()), 'definition': '[]'}, {'name': 'housepriceabtest', 'create_time': datetime.datetime(2023, 3, 13, 22, 25, 51, 153652, tzinfo=tzutc()), 'definition': '[]'}, {'name': 'housepriceanomaly', 'create_time': datetime.datetime(2023, 3, 13, 20, 43, 52, 9192, tzinfo=tzutc()), 'definition': '[]'}, {'name': 'housepriceabtesting', 'create_time': datetime.datetime(2023, 3, 14, 15, 52, 10, 722286, tzinfo=tzutc()), 'definition': '[]'}, {'name': 'housepriceshadowtesting', 'create_time': datetime.datetime(2023, 3, 14, 17, 3, 17, 45793, tzinfo=tzutc()), 'definition': '[]'}, {'name': 'housepricingpipeline', 'create_time': datetime.datetime(2023, 3, 14, 15, 31, 57, 26034, tzinfo=tzutc()), 'definition': '[]'}, {'name': 'housepricepipeline', 'create_time': datetime.datetime(2023, 3, 14, 18, 12, 28, 763220, tzinfo=tzutc()), 'definition': '[]'}]},\n",
       " {'name': 'modelswap', 'id': 155, 'archived': False, 'created_by': '138bd7e6-4dc8-4dc1-a760-c9e721ef3c37', 'created_at': '2023-03-14T18:52:21.002766+00:00', 'models': [{'name': 'housingcontrol', 'versions': 1, 'owner_id': '\"\"', 'last_update_time': datetime.datetime(2023, 3, 14, 18, 52, 22, 750303, tzinfo=tzutc()), 'created_at': datetime.datetime(2023, 3, 14, 18, 52, 22, 750303, tzinfo=tzutc())}, {'name': 'housingchallenger01', 'versions': 1, 'owner_id': '\"\"', 'last_update_time': datetime.datetime(2023, 3, 14, 18, 52, 23, 791428, tzinfo=tzutc()), 'created_at': datetime.datetime(2023, 3, 14, 18, 52, 23, 791428, tzinfo=tzutc())}, {'name': 'housingchallenger02', 'versions': 1, 'owner_id': '\"\"', 'last_update_time': datetime.datetime(2023, 3, 14, 18, 52, 24, 822450, tzinfo=tzutc()), 'created_at': datetime.datetime(2023, 3, 14, 18, 52, 24, 822450, tzinfo=tzutc())}], 'pipelines': [{'name': 'modelswappipeline', 'create_time': datetime.datetime(2023, 3, 14, 18, 52, 25, 697884, tzinfo=tzutc()), 'definition': '[]'}]},\n",
       " {'name': 'bhgoccfraudworkspace', 'id': 156, 'archived': False, 'created_by': '138bd7e6-4dc8-4dc1-a760-c9e721ef3c37', 'created_at': '2023-03-14T20:52:41.732292+00:00', 'models': [{'name': 'bhgoccfraudmodel', 'versions': 1, 'owner_id': '\"\"', 'last_update_time': datetime.datetime(2023, 3, 14, 20, 54, 14, 303004, tzinfo=tzutc()), 'created_at': datetime.datetime(2023, 3, 14, 20, 54, 14, 303004, tzinfo=tzutc())}], 'pipelines': [{'name': 'bhgoccfraudpipeline', 'create_time': datetime.datetime(2023, 3, 14, 20, 54, 15, 971881, tzinfo=tzutc()), 'definition': '[]'}]},\n",
       " {'name': 'sjqsccfraudworkspace', 'id': 157, 'archived': False, 'created_by': '138bd7e6-4dc8-4dc1-a760-c9e721ef3c37', 'created_at': '2023-03-17T19:03:30.113977+00:00', 'models': [{'name': 'sjqsccfraudmodel', 'versions': 1, 'owner_id': '\"\"', 'last_update_time': datetime.datetime(2023, 3, 17, 19, 5, 0, 295826, tzinfo=tzutc()), 'created_at': datetime.datetime(2023, 3, 17, 19, 5, 0, 295826, tzinfo=tzutc())}], 'pipelines': [{'name': 'sjqsccfraudpipeline', 'create_time': datetime.datetime(2023, 3, 17, 19, 5, 1, 960482, tzinfo=tzutc()), 'definition': '[]'}]},\n",
       " {'name': 'skjmccfraudworkspace', 'id': 158, 'archived': False, 'created_by': '138bd7e6-4dc8-4dc1-a760-c9e721ef3c37', 'created_at': '2023-03-17T19:27:46.965676+00:00', 'models': [], 'pipelines': []},\n",
       " {'name': 'reknccfraudworkspace', 'id': 159, 'archived': False, 'created_by': '138bd7e6-4dc8-4dc1-a760-c9e721ef3c37', 'created_at': '2023-03-17T19:29:11.195112+00:00', 'models': [{'name': 'reknccfraudmodel', 'versions': 1, 'owner_id': '\"\"', 'last_update_time': datetime.datetime(2023, 3, 17, 19, 30, 54, 239084, tzinfo=tzutc()), 'created_at': datetime.datetime(2023, 3, 17, 19, 30, 54, 239084, tzinfo=tzutc())}], 'pipelines': [{'name': 'reknccfraudpipeline', 'create_time': datetime.datetime(2023, 3, 17, 19, 30, 56, 139961, tzinfo=tzutc()), 'definition': '[]'}]},\n",
       " {'name': 'eyheccfraudworkspace', 'id': 160, 'archived': False, 'created_by': '138bd7e6-4dc8-4dc1-a760-c9e721ef3c37', 'created_at': '2023-03-20T18:47:51.963651+00:00', 'models': [{'name': 'eyheccfraudmodel', 'versions': 1, 'owner_id': '\"\"', 'last_update_time': datetime.datetime(2023, 3, 20, 18, 49, 34, 532865, tzinfo=tzutc()), 'created_at': datetime.datetime(2023, 3, 20, 18, 49, 34, 532865, tzinfo=tzutc())}], 'pipelines': [{'name': 'eyheccfraudpipeline', 'create_time': datetime.datetime(2023, 3, 20, 18, 49, 36, 234562, tzinfo=tzutc()), 'definition': '[]'}]}]"
      ]
     },
     "execution_count": 6,
     "metadata": {},
     "output_type": "execute_result"
    }
   ],
   "source": [
    "wl.list_workspaces()"
   ]
  },
  {
   "cell_type": "code",
   "execution_count": 7,
   "metadata": {},
   "outputs": [
    {
     "data": {
      "text/html": [
       "<table><tr><th>name</th> <td>yarbalohapipeline</td></tr><tr><th>created</th> <td>2023-03-20 19:33:46.153485+00:00</td></tr><tr><th>last_updated</th> <td>2023-03-20 19:33:46.153485+00:00</td></tr><tr><th>deployed</th> <td>(none)</td></tr><tr><th>tags</th> <td></td></tr><tr><th>versions</th> <td>050a5b70-a4db-45b3-aebd-4d4d0efd25de</td></tr><tr><th>steps</th> <td></td></tr></table>"
      ],
      "text/plain": [
       "{'name': 'yarbalohapipeline', 'create_time': datetime.datetime(2023, 3, 20, 19, 33, 46, 153485, tzinfo=tzutc()), 'definition': '[]'}"
      ]
     },
     "execution_count": 7,
     "metadata": {},
     "output_type": "execute_result"
    }
   ],
   "source": [
    "workspace = get_workspace(workspace_name)\n",
    "\n",
    "wl.set_current_workspace(workspace)\n",
    "\n",
    "aloha_pipeline = get_pipeline(pipeline_name)\n",
    "aloha_pipeline"
   ]
  },
  {
   "cell_type": "markdown",
   "metadata": {},
   "source": [
    "We can verify the workspace is created the current default workspace with the `get_current_workspace()` command."
   ]
  },
  {
   "cell_type": "code",
   "execution_count": 8,
   "metadata": {},
   "outputs": [
    {
     "data": {
      "text/plain": [
       "{'name': 'yarbalohaworkspace', 'id': 161, 'archived': False, 'created_by': '138bd7e6-4dc8-4dc1-a760-c9e721ef3c37', 'created_at': '2023-03-20T19:33:45.54861+00:00', 'models': [], 'pipelines': [{'name': 'yarbalohapipeline', 'create_time': datetime.datetime(2023, 3, 20, 19, 33, 46, 153485, tzinfo=tzutc()), 'definition': '[]'}]}"
      ]
     },
     "execution_count": 8,
     "metadata": {},
     "output_type": "execute_result"
    }
   ],
   "source": [
    "wl.get_current_workspace()"
   ]
  },
  {
   "cell_type": "markdown",
   "metadata": {},
   "source": [
    "# Upload the Models\n",
    "\n",
    "Now we will upload our models.  Note that for this example we are applying the model from a .ZIP file.  The Aloha model is a [protobuf](https://developers.google.com/protocol-buffers) file that has been defined for evaluating web pages, and we will configure it to use data in the `tensorflow` format."
   ]
  },
  {
   "cell_type": "code",
   "execution_count": 9,
   "metadata": {},
   "outputs": [],
   "source": [
    "model = wl.upload_model(model_name, model_file_name).configure(\"tensorflow\")"
   ]
  },
  {
   "attachments": {},
   "cell_type": "markdown",
   "metadata": {},
   "source": [
    "## Deploy a model\n",
    "\n",
    "Now that we have a model that we want to use we will create a deployment for it. \n",
    "\n",
    "We will tell the deployment we are using a tensorflow model and give the deployment name and the configuration we want for the deployment.\n",
    "\n",
    "To do this, we'll create our pipeline that can ingest the data, pass the data to our Aloha model, and give us a final output.  We'll call our pipeline `aloha-test-demo`, then deploy it so it's ready to receive data.  The deployment process usually takes about 45 seconds.\n",
    "\n",
    "* **Note**:  If you receive an error that the pipeline could not be deployed because there are not enough resources, undeploy any other pipelines and deploy this one again.  This command can quickly undeploy all pipelines to regain resources.  We recommend **not** running this command in a production environment since it will cancel any running pipelines:\n",
    "\n",
    "```python\n",
    "for p in wl.list_pipelines(): p.undeploy()\n",
    "```"
   ]
  },
  {
   "cell_type": "code",
   "execution_count": 10,
   "metadata": {},
   "outputs": [
    {
     "data": {
      "text/html": [
       "<table><tr><th>name</th> <td>yarbalohapipeline</td></tr><tr><th>created</th> <td>2023-03-20 19:33:46.153485+00:00</td></tr><tr><th>last_updated</th> <td>2023-03-20 19:33:46.153485+00:00</td></tr><tr><th>deployed</th> <td>(none)</td></tr><tr><th>tags</th> <td></td></tr><tr><th>versions</th> <td>050a5b70-a4db-45b3-aebd-4d4d0efd25de</td></tr><tr><th>steps</th> <td></td></tr></table>"
      ],
      "text/plain": [
       "{'name': 'yarbalohapipeline', 'create_time': datetime.datetime(2023, 3, 20, 19, 33, 46, 153485, tzinfo=tzutc()), 'definition': \"[{'ModelInference': {'models': [{'name': 'yarbalohamodel', 'version': 'e52749a8-af87-4139-b0a0-2c4c33c9a362', 'sha': 'd71d9ffc61aaac58c2b1ed70a2db13d1416fb9d3f5b891e5e4e2e97180fe22f8'}]}}]\"}"
      ]
     },
     "execution_count": 10,
     "metadata": {},
     "output_type": "execute_result"
    }
   ],
   "source": [
    "aloha_pipeline.add_model_step(model)"
   ]
  },
  {
   "cell_type": "code",
   "execution_count": 11,
   "metadata": {},
   "outputs": [
    {
     "data": {
      "text/html": [
       "<strong>*** An error occurred while deploying your pipeline.</strong>"
      ],
      "text/plain": [
       "<IPython.core.display.HTML object>"
      ]
     },
     "metadata": {},
     "output_type": "display_data"
    },
    {
     "ename": "WaitForDeployError",
     "evalue": "Deployment failed. See status for details.\nStatus: {'status': 'Error', 'details': [], 'engines': [{'ip': None, 'name': 'engine-64774fc4f6-mhw2k', 'status': 'Pending', 'reason': '0/4 nodes are available: 1 Insufficient cpu, 4 Insufficient memory. preemption: 0/4 nodes are available: 4 No preemption victims found for incoming pod.', 'details': ['0/4 nodes are available: 1 Insufficient cpu, 4 Insufficient memory. preemption: 0/4 nodes are available: 4 No preemption victims found for incoming pod.'], 'pipeline_statuses': None, 'model_statuses': None}], 'engine_lbs': [{'ip': '10.48.1.66', 'name': 'engine-lb-86bc6bd77b-dc9xp', 'status': 'Running', 'reason': None, 'details': []}], 'sidekicks': []}",
     "output_type": "error",
     "traceback": [
      "Deployment failed. See status for details.\nStatus: {'status': 'Error', 'details': [], 'engines': [{'ip': None, 'name': 'engine-64774fc4f6-mhw2k', 'status': 'Pending', 'reason': '0/4 nodes are available: 1 Insufficient cpu, 4 Insufficient memory. preemption: 0/4 nodes are available: 4 No preemption victims found for incoming pod.', 'details': ['0/4 nodes are available: 1 Insufficient cpu, 4 Insufficient memory. preemption: 0/4 nodes are available: 4 No preemption victims found for incoming pod.'], 'pipeline_statuses': None, 'model_statuses': None}], 'engine_lbs': [{'ip': '10.48.1.66', 'name': 'engine-lb-86bc6bd77b-dc9xp', 'status': 'Running', 'reason': None, 'details': []}], 'sidekicks': []}"
     ]
    }
   ],
   "source": [
    "aloha_pipeline.deploy()"
   ]
  },
  {
   "cell_type": "markdown",
   "metadata": {},
   "source": [
    "We can verify that the pipeline is running and list what models are associated with it."
   ]
  },
  {
   "cell_type": "code",
   "execution_count": null,
   "metadata": {},
   "outputs": [
    {
     "data": {
      "text/plain": [
       "{'status': 'Running',\n",
       " 'details': [],\n",
       " 'engines': [{'ip': '10.244.0.41',\n",
       "   'name': 'engine-74fb5d899d-q885n',\n",
       "   'status': 'Running',\n",
       "   'reason': None,\n",
       "   'details': [],\n",
       "   'pipeline_statuses': {'pipelines': [{'id': 'uxelalohapipeline',\n",
       "      'status': 'Running'}]},\n",
       "   'model_statuses': {'models': [{'name': 'uxelalohamodel',\n",
       "      'version': '3f354fb2-4220-4873-9418-6debc06ada57',\n",
       "      'sha': 'd71d9ffc61aaac58c2b1ed70a2db13d1416fb9d3f5b891e5e4e2e97180fe22f8',\n",
       "      'status': 'Running'}]}}],\n",
       " 'engine_lbs': [{'ip': '10.244.2.16',\n",
       "   'name': 'engine-lb-ddd995646-j5nr2',\n",
       "   'status': 'Running',\n",
       "   'reason': None,\n",
       "   'details': []}],\n",
       " 'sidekicks': []}"
      ]
     },
     "execution_count": 12,
     "metadata": {},
     "output_type": "execute_result"
    }
   ],
   "source": [
    "aloha_pipeline.status()"
   ]
  },
  {
   "attachments": {},
   "cell_type": "markdown",
   "metadata": {},
   "source": [
    "## Interferences\n",
    "\n",
    "### Infer 1 row\n",
    "\n",
    "Now that the pipeline is deployed and our Aloha model is in place, we'll perform a smoke test to verify the pipeline is up and running properly.  We'll use the `infer_from_file` command to load a single encoded URL into the inference engine and print the results back out.\n",
    "\n",
    "The result should tell us that the tokenized URL is legitimate (0) or fraud (1).  This sample data should return close to 1 in `out.main`."
   ]
  },
  {
   "cell_type": "code",
   "execution_count": 18,
   "metadata": {},
   "outputs": [
    {
     "data": {
      "text/html": [
       "<div>\n",
       "<style scoped>\n",
       "    .dataframe tbody tr th:only-of-type {\n",
       "        vertical-align: middle;\n",
       "    }\n",
       "\n",
       "    .dataframe tbody tr th {\n",
       "        vertical-align: top;\n",
       "    }\n",
       "\n",
       "    .dataframe thead th {\n",
       "        text-align: right;\n",
       "    }\n",
       "</style>\n",
       "<table border=\"1\" class=\"dataframe\">\n",
       "  <thead>\n",
       "    <tr style=\"text-align: right;\">\n",
       "      <th></th>\n",
       "      <th>time</th>\n",
       "      <th>out.main</th>\n",
       "    </tr>\n",
       "  </thead>\n",
       "  <tbody>\n",
       "    <tr>\n",
       "      <th>0</th>\n",
       "      <td>2023-03-20 19:41:10.323</td>\n",
       "      <td>[0.997564]</td>\n",
       "    </tr>\n",
       "  </tbody>\n",
       "</table>\n",
       "</div>"
      ],
      "text/plain": [
       "                     time    out.main\n",
       "0 2023-03-20 19:41:10.323  [0.997564]"
      ]
     },
     "metadata": {},
     "output_type": "display_data"
    }
   ],
   "source": [
    "high_fraud = smoke_test = pd.DataFrame.from_records(\n",
    "    [\n",
    "    {\n",
    "        \"text_input\":[\n",
    "            0,\n",
    "            0,\n",
    "            0,\n",
    "            0,\n",
    "            0,\n",
    "            0,\n",
    "            0,\n",
    "            0,\n",
    "            0,\n",
    "            0,\n",
    "            0,\n",
    "            0,\n",
    "            0,\n",
    "            0,\n",
    "            0,\n",
    "            0,\n",
    "            0,\n",
    "            0,\n",
    "            0,\n",
    "            0,\n",
    "            0,\n",
    "            0,\n",
    "            0,\n",
    "            0,\n",
    "            0,\n",
    "            0,\n",
    "            0,\n",
    "            0,\n",
    "            0,\n",
    "            0,\n",
    "            0,\n",
    "            0,\n",
    "            0,\n",
    "            0,\n",
    "            0,\n",
    "            0,\n",
    "            0,\n",
    "            0,\n",
    "            0,\n",
    "            0,\n",
    "            28,\n",
    "            16,\n",
    "            32,\n",
    "            23,\n",
    "            29,\n",
    "            32,\n",
    "            30,\n",
    "            19,\n",
    "            26,\n",
    "            17\n",
    "        ]\n",
    "    }\n",
    "]\n",
    ")\n",
    "\n",
    "result = aloha_pipeline.infer(high_fraud)\n",
    "display(result.loc[:, [\"time\",\"out.main\"]])"
   ]
  },
  {
   "cell_type": "code",
   "execution_count": 33,
   "metadata": {},
   "outputs": [
    {
     "ename": "InferenceError",
     "evalue": "Inference failed: \n\tInternalError: There was an error sending data to the pipeline: Received none result for Model Inference",
     "output_type": "error",
     "traceback": [
      "\u001b[0;31m---------------------------------------------------------------------------\u001b[0m",
      "\u001b[0;31mHTTPError\u001b[0m                                 Traceback (most recent call last)",
      "\u001b[0;32m/opt/homebrew/anaconda3/envs/arrowtests/lib/python3.8/site-packages/wallaroo/deployment.py\u001b[0m in \u001b[0;36m_make_infer_request\u001b[0;34m(self, data, headers, params, timeout)\u001b[0m\n\u001b[1;32m    589\u001b[0m             )\n\u001b[0;32m--> 590\u001b[0;31m             \u001b[0mres\u001b[0m\u001b[0;34m.\u001b[0m\u001b[0mraise_for_status\u001b[0m\u001b[0;34m(\u001b[0m\u001b[0;34m)\u001b[0m\u001b[0;34m\u001b[0m\u001b[0;34m\u001b[0m\u001b[0m\n\u001b[0m\u001b[1;32m    591\u001b[0m         \u001b[0;32mexcept\u001b[0m \u001b[0mrequests\u001b[0m\u001b[0;34m.\u001b[0m\u001b[0mexceptions\u001b[0m\u001b[0;34m.\u001b[0m\u001b[0mHTTPError\u001b[0m \u001b[0;32mas\u001b[0m \u001b[0mhttp_error\u001b[0m\u001b[0;34m:\u001b[0m\u001b[0;34m\u001b[0m\u001b[0;34m\u001b[0m\u001b[0m\n",
      "\u001b[0;32m/opt/homebrew/anaconda3/envs/arrowtests/lib/python3.8/site-packages/requests/models.py\u001b[0m in \u001b[0;36mraise_for_status\u001b[0;34m(self)\u001b[0m\n\u001b[1;32m    942\u001b[0m         \u001b[0;32mif\u001b[0m \u001b[0mhttp_error_msg\u001b[0m\u001b[0;34m:\u001b[0m\u001b[0;34m\u001b[0m\u001b[0;34m\u001b[0m\u001b[0m\n\u001b[0;32m--> 943\u001b[0;31m             \u001b[0;32mraise\u001b[0m \u001b[0mHTTPError\u001b[0m\u001b[0;34m(\u001b[0m\u001b[0mhttp_error_msg\u001b[0m\u001b[0;34m,\u001b[0m \u001b[0mresponse\u001b[0m\u001b[0;34m=\u001b[0m\u001b[0mself\u001b[0m\u001b[0;34m)\u001b[0m\u001b[0;34m\u001b[0m\u001b[0;34m\u001b[0m\u001b[0m\n\u001b[0m\u001b[1;32m    944\u001b[0m \u001b[0;34m\u001b[0m\u001b[0m\n",
      "\u001b[0;31mHTTPError\u001b[0m: 500 Server Error: Internal Server Error for url: https://sparkly-apple-3026.api.wallaroo.community/v1/api/pipelines/infer/yarbalohapipeline-416?dataset%5B%5D=%2A&dataset.exclude%5B%5D=metadata&dataset.separator=.",
      "\nDuring handling of the above exception, another exception occurred:\n",
      "\u001b[0;31mInferenceError\u001b[0m                            Traceback (most recent call last)",
      "\u001b[0;32m/var/folders/jf/_cj0q9d51s365wksymljdz4h0000gn/T/ipykernel_8949/3777608000.py\u001b[0m in \u001b[0;36m<module>\u001b[0;34m\u001b[0m\n\u001b[0;32m----> 1\u001b[0;31m \u001b[0mresult\u001b[0m \u001b[0;34m=\u001b[0m \u001b[0maloha_pipeline\u001b[0m\u001b[0;34m.\u001b[0m\u001b[0minfer_from_file\u001b[0m\u001b[0;34m(\u001b[0m\u001b[0;34m'./data/data_1k.arrow'\u001b[0m\u001b[0;34m)\u001b[0m\u001b[0;34m\u001b[0m\u001b[0;34m\u001b[0m\u001b[0m\n\u001b[0m\u001b[1;32m      2\u001b[0m \u001b[0mdisplay\u001b[0m\u001b[0;34m(\u001b[0m\u001b[0mresult\u001b[0m\u001b[0;34m.\u001b[0m\u001b[0mloc\u001b[0m\u001b[0;34m[\u001b[0m\u001b[0;34m:\u001b[0m\u001b[0;34m,\u001b[0m \u001b[0;34m[\u001b[0m\u001b[0;34m\"time\"\u001b[0m\u001b[0;34m,\u001b[0m\u001b[0;34m\"out.main\"\u001b[0m\u001b[0;34m]\u001b[0m\u001b[0;34m]\u001b[0m\u001b[0;34m)\u001b[0m\u001b[0;34m\u001b[0m\u001b[0;34m\u001b[0m\u001b[0m\n",
      "\u001b[0;32m/opt/homebrew/anaconda3/envs/arrowtests/lib/python3.8/site-packages/wallaroo/pipeline.py\u001b[0m in \u001b[0;36m_inner\u001b[0;34m(self, *args, **kwargs)\u001b[0m\n\u001b[1;32m     46\u001b[0m \u001b[0;32mdef\u001b[0m \u001b[0mupdate_timestamp\u001b[0m\u001b[0;34m(\u001b[0m\u001b[0mf\u001b[0m\u001b[0;34m)\u001b[0m\u001b[0;34m:\u001b[0m\u001b[0;34m\u001b[0m\u001b[0;34m\u001b[0m\u001b[0m\n\u001b[1;32m     47\u001b[0m     \u001b[0;32mdef\u001b[0m \u001b[0m_inner\u001b[0m\u001b[0;34m(\u001b[0m\u001b[0mself\u001b[0m\u001b[0;34m,\u001b[0m \u001b[0;34m*\u001b[0m\u001b[0margs\u001b[0m\u001b[0;34m,\u001b[0m \u001b[0;34m**\u001b[0m\u001b[0mkwargs\u001b[0m\u001b[0;34m)\u001b[0m\u001b[0;34m:\u001b[0m\u001b[0;34m\u001b[0m\u001b[0;34m\u001b[0m\u001b[0m\n\u001b[0;32m---> 48\u001b[0;31m         \u001b[0mresults\u001b[0m \u001b[0;34m=\u001b[0m \u001b[0mf\u001b[0m\u001b[0;34m(\u001b[0m\u001b[0mself\u001b[0m\u001b[0;34m,\u001b[0m \u001b[0;34m*\u001b[0m\u001b[0margs\u001b[0m\u001b[0;34m,\u001b[0m \u001b[0;34m**\u001b[0m\u001b[0mkwargs\u001b[0m\u001b[0;34m)\u001b[0m\u001b[0;34m\u001b[0m\u001b[0;34m\u001b[0m\u001b[0m\n\u001b[0m\u001b[1;32m     49\u001b[0m         \u001b[0;32mif\u001b[0m \u001b[0misinstance\u001b[0m\u001b[0;34m(\u001b[0m\u001b[0mresults\u001b[0m\u001b[0;34m,\u001b[0m \u001b[0mlist\u001b[0m\u001b[0;34m)\u001b[0m\u001b[0;34m:\u001b[0m\u001b[0;34m\u001b[0m\u001b[0;34m\u001b[0m\u001b[0m\n\u001b[1;32m     50\u001b[0m             self._last_infer_time = max(\n",
      "\u001b[0;32m/opt/homebrew/anaconda3/envs/arrowtests/lib/python3.8/site-packages/wallaroo/pipeline.py\u001b[0m in \u001b[0;36minfer_from_file\u001b[0;34m(self, filename, data_format, timeout, dataset, dataset_exclude, dataset_separator)\u001b[0m\n\u001b[1;32m    515\u001b[0m         \u001b[0mdeployment\u001b[0m \u001b[0;34m=\u001b[0m \u001b[0mself\u001b[0m\u001b[0;34m.\u001b[0m\u001b[0m_deployment_for_pipeline\u001b[0m\u001b[0;34m(\u001b[0m\u001b[0;34m)\u001b[0m\u001b[0;34m\u001b[0m\u001b[0;34m\u001b[0m\u001b[0m\n\u001b[1;32m    516\u001b[0m         \u001b[0;32mif\u001b[0m \u001b[0mdeployment\u001b[0m\u001b[0;34m:\u001b[0m\u001b[0;34m\u001b[0m\u001b[0;34m\u001b[0m\u001b[0m\n\u001b[0;32m--> 517\u001b[0;31m             return deployment.infer_from_file(\n\u001b[0m\u001b[1;32m    518\u001b[0m                 \u001b[0mfilename\u001b[0m\u001b[0;34m,\u001b[0m\u001b[0;34m\u001b[0m\u001b[0;34m\u001b[0m\u001b[0m\n\u001b[1;32m    519\u001b[0m                 \u001b[0mdata_format\u001b[0m\u001b[0;34m,\u001b[0m\u001b[0;34m\u001b[0m\u001b[0;34m\u001b[0m\u001b[0m\n",
      "\u001b[0;32m/opt/homebrew/anaconda3/envs/arrowtests/lib/python3.8/site-packages/wallaroo/deployment.py\u001b[0m in \u001b[0;36minfer_from_file\u001b[0;34m(self, filename, data_format, timeout, dataset, dataset_exclude, dataset_separator)\u001b[0m\n\u001b[1;32m    697\u001b[0m             \u001b[0;32mwith\u001b[0m \u001b[0mfilename\u001b[0m\u001b[0;34m.\u001b[0m\u001b[0mopen\u001b[0m\u001b[0;34m(\u001b[0m\u001b[0;34m\"rb\"\u001b[0m\u001b[0;34m)\u001b[0m \u001b[0;32mas\u001b[0m \u001b[0mf\u001b[0m\u001b[0;34m:\u001b[0m\u001b[0;34m\u001b[0m\u001b[0;34m\u001b[0m\u001b[0m\n\u001b[1;32m    698\u001b[0m                 \u001b[0mtensor\u001b[0m \u001b[0;34m=\u001b[0m \u001b[0mjson\u001b[0m\u001b[0;34m.\u001b[0m\u001b[0mload\u001b[0m\u001b[0;34m(\u001b[0m\u001b[0mf\u001b[0m\u001b[0;34m)\u001b[0m\u001b[0;34m\u001b[0m\u001b[0;34m\u001b[0m\u001b[0m\n\u001b[0;32m--> 699\u001b[0;31m         \u001b[0;32mreturn\u001b[0m \u001b[0mself\u001b[0m\u001b[0;34m.\u001b[0m\u001b[0minfer\u001b[0m\u001b[0;34m(\u001b[0m\u001b[0mtensor\u001b[0m\u001b[0;34m,\u001b[0m \u001b[0mtimeout\u001b[0m\u001b[0;34m,\u001b[0m \u001b[0mdataset\u001b[0m\u001b[0;34m,\u001b[0m \u001b[0mdataset_exclude\u001b[0m\u001b[0;34m,\u001b[0m \u001b[0mdataset_separator\u001b[0m\u001b[0;34m)\u001b[0m\u001b[0;34m\u001b[0m\u001b[0;34m\u001b[0m\u001b[0m\n\u001b[0m\u001b[1;32m    700\u001b[0m \u001b[0;34m\u001b[0m\u001b[0m\n\u001b[1;32m    701\u001b[0m     \u001b[0;32mdef\u001b[0m \u001b[0m_chunk_data\u001b[0m\u001b[0;34m(\u001b[0m\u001b[0mself\u001b[0m\u001b[0;34m,\u001b[0m \u001b[0mdata\u001b[0m\u001b[0;34m:\u001b[0m \u001b[0mAny\u001b[0m\u001b[0;34m,\u001b[0m \u001b[0mbatch_size\u001b[0m\u001b[0;34m:\u001b[0m \u001b[0mint\u001b[0m\u001b[0;34m)\u001b[0m \u001b[0;34m->\u001b[0m \u001b[0mIterator\u001b[0m\u001b[0;34m[\u001b[0m\u001b[0mList\u001b[0m\u001b[0;34m[\u001b[0m\u001b[0mAny\u001b[0m\u001b[0;34m]\u001b[0m\u001b[0;34m]\u001b[0m\u001b[0;34m:\u001b[0m\u001b[0;34m\u001b[0m\u001b[0;34m\u001b[0m\u001b[0m\n",
      "\u001b[0;32m/opt/homebrew/anaconda3/envs/arrowtests/lib/python3.8/site-packages/wallaroo/deployment.py\u001b[0m in \u001b[0;36minfer\u001b[0;34m(self, tensor, timeout, dataset, dataset_exclude, dataset_separator)\u001b[0m\n\u001b[1;32m    651\u001b[0m                 \u001b[0;32mreturn\u001b[0m \u001b[0mself\u001b[0m\u001b[0;34m.\u001b[0m\u001b[0m_infer_with_pandas\u001b[0m\u001b[0;34m(\u001b[0m\u001b[0mtensor\u001b[0m\u001b[0;34m,\u001b[0m \u001b[0mparams\u001b[0m\u001b[0;34m,\u001b[0m \u001b[0mtimeout\u001b[0m\u001b[0;34m)\u001b[0m\u001b[0;34m\u001b[0m\u001b[0;34m\u001b[0m\u001b[0m\n\u001b[1;32m    652\u001b[0m             \u001b[0;32melif\u001b[0m \u001b[0misinstance\u001b[0m\u001b[0;34m(\u001b[0m\u001b[0mtensor\u001b[0m\u001b[0;34m,\u001b[0m \u001b[0mpa\u001b[0m\u001b[0;34m.\u001b[0m\u001b[0mTable\u001b[0m\u001b[0;34m)\u001b[0m\u001b[0;34m:\u001b[0m\u001b[0;34m\u001b[0m\u001b[0;34m\u001b[0m\u001b[0m\n\u001b[0;32m--> 653\u001b[0;31m                 \u001b[0;32mreturn\u001b[0m \u001b[0mself\u001b[0m\u001b[0;34m.\u001b[0m\u001b[0m_infer_with_arrow\u001b[0m\u001b[0;34m(\u001b[0m\u001b[0mtensor\u001b[0m\u001b[0;34m,\u001b[0m \u001b[0mparams\u001b[0m\u001b[0;34m,\u001b[0m \u001b[0mtimeout\u001b[0m\u001b[0;34m)\u001b[0m\u001b[0;34m\u001b[0m\u001b[0;34m\u001b[0m\u001b[0m\n\u001b[0m\u001b[1;32m    654\u001b[0m             \u001b[0;32melif\u001b[0m \u001b[0misinstance\u001b[0m\u001b[0;34m(\u001b[0m\u001b[0mtensor\u001b[0m\u001b[0;34m,\u001b[0m \u001b[0;34m(\u001b[0m\u001b[0mdict\u001b[0m\u001b[0;34m,\u001b[0m \u001b[0mlist\u001b[0m\u001b[0;34m)\u001b[0m\u001b[0;34m)\u001b[0m\u001b[0;34m:\u001b[0m\u001b[0;34m\u001b[0m\u001b[0;34m\u001b[0m\u001b[0m\n\u001b[1;32m    655\u001b[0m                 \u001b[0;32mreturn\u001b[0m \u001b[0mself\u001b[0m\u001b[0;34m.\u001b[0m\u001b[0m_infer_with_json\u001b[0m\u001b[0;34m(\u001b[0m\u001b[0mtensor\u001b[0m\u001b[0;34m,\u001b[0m \u001b[0mtimeout\u001b[0m\u001b[0;34m)\u001b[0m\u001b[0;34m\u001b[0m\u001b[0;34m\u001b[0m\u001b[0m\n",
      "\u001b[0;32m/opt/homebrew/anaconda3/envs/arrowtests/lib/python3.8/site-packages/wallaroo/deployment.py\u001b[0m in \u001b[0;36m_infer_with_arrow\u001b[0;34m(self, tensor, params, timeout)\u001b[0m\n\u001b[1;32m    518\u001b[0m             \u001b[0;34m\"Accept\"\u001b[0m\u001b[0;34m:\u001b[0m \u001b[0mARROW_HEADER\u001b[0m\u001b[0;34m,\u001b[0m\u001b[0;34m\u001b[0m\u001b[0;34m\u001b[0m\u001b[0m\n\u001b[1;32m    519\u001b[0m         }\n\u001b[0;32m--> 520\u001b[0;31m         res = self._make_infer_request(\n\u001b[0m\u001b[1;32m    521\u001b[0m             \u001b[0mdata\u001b[0m\u001b[0;34m=\u001b[0m\u001b[0minput_arrow\u001b[0m\u001b[0;34m,\u001b[0m\u001b[0;34m\u001b[0m\u001b[0;34m\u001b[0m\u001b[0m\n\u001b[1;32m    522\u001b[0m             \u001b[0mheaders\u001b[0m\u001b[0;34m=\u001b[0m\u001b[0mheaders\u001b[0m\u001b[0;34m,\u001b[0m\u001b[0;34m\u001b[0m\u001b[0;34m\u001b[0m\u001b[0m\n",
      "\u001b[0;32m/opt/homebrew/anaconda3/envs/arrowtests/lib/python3.8/site-packages/wallaroo/deployment.py\u001b[0m in \u001b[0;36m_make_infer_request\u001b[0;34m(self, data, headers, params, timeout)\u001b[0m\n\u001b[1;32m    590\u001b[0m             \u001b[0mres\u001b[0m\u001b[0;34m.\u001b[0m\u001b[0mraise_for_status\u001b[0m\u001b[0;34m(\u001b[0m\u001b[0;34m)\u001b[0m\u001b[0;34m\u001b[0m\u001b[0;34m\u001b[0m\u001b[0m\n\u001b[1;32m    591\u001b[0m         \u001b[0;32mexcept\u001b[0m \u001b[0mrequests\u001b[0m\u001b[0;34m.\u001b[0m\u001b[0mexceptions\u001b[0m\u001b[0;34m.\u001b[0m\u001b[0mHTTPError\u001b[0m \u001b[0;32mas\u001b[0m \u001b[0mhttp_error\u001b[0m\u001b[0;34m:\u001b[0m\u001b[0;34m\u001b[0m\u001b[0;34m\u001b[0m\u001b[0m\n\u001b[0;32m--> 592\u001b[0;31m             \u001b[0;32mraise\u001b[0m \u001b[0mInferenceError\u001b[0m\u001b[0;34m(\u001b[0m\u001b[0mjson\u001b[0m\u001b[0;34m.\u001b[0m\u001b[0mloads\u001b[0m\u001b[0;34m(\u001b[0m\u001b[0mhttp_error\u001b[0m\u001b[0;34m.\u001b[0m\u001b[0mresponse\u001b[0m\u001b[0;34m.\u001b[0m\u001b[0mtext\u001b[0m\u001b[0;34m)\u001b[0m\u001b[0;34m[\u001b[0m\u001b[0;36m0\u001b[0m\u001b[0;34m]\u001b[0m\u001b[0;34m)\u001b[0m\u001b[0;34m\u001b[0m\u001b[0;34m\u001b[0m\u001b[0m\n\u001b[0m\u001b[1;32m    593\u001b[0m         except (\n\u001b[1;32m    594\u001b[0m             \u001b[0mrequests\u001b[0m\u001b[0;34m.\u001b[0m\u001b[0mexceptions\u001b[0m\u001b[0;34m.\u001b[0m\u001b[0mTimeout\u001b[0m\u001b[0;34m,\u001b[0m\u001b[0;34m\u001b[0m\u001b[0;34m\u001b[0m\u001b[0m\n",
      "\u001b[0;31mInferenceError\u001b[0m: Inference failed: \n\tInternalError: There was an error sending data to the pipeline: Received none result for Model Inference"
     ]
    }
   ],
   "source": [
    "result = aloha_pipeline.infer_from_file('./data/data_1k.arrow')\n",
    "display(result.loc[:, [\"time\",\"out.main\"]])"
   ]
  },
  {
   "cell_type": "code",
   "execution_count": 36,
   "metadata": {},
   "outputs": [
    {
     "data": {
      "text/plain": [
       "pyarrow.Table\n",
       "text_input: fixed_size_list<item: int64>[50]\n",
       "  child 0, item: int64\n",
       "----\n",
       "text_input: [[[0,0,0,0,0,...,32,30,19,26,17],[0,0,0,0,0,...,29,12,36,31,12],...,[0,0,0,0,0,...,35,16,35,27,16],[0,0,0,0,0,...,24,29,14,36,13]]]"
      ]
     },
     "metadata": {},
     "output_type": "display_data"
    }
   ],
   "source": [
    "arrow_file_name = \"./data/data_1k.arrow\"\n",
    "with pa.ipc.open_file(arrow_file_name) as source:\n",
    "    table = source.read_all() # to get pyarrow table\n",
    "    # table_df = source.read_pandas() # to get pandas dataframe\n",
    "    display(table)\n",
    "    # display(table_df)"
   ]
  },
  {
   "attachments": {},
   "cell_type": "markdown",
   "metadata": {},
   "source": [
    "### Batch Inference\n",
    "\n",
    "Now that our smoke test is successful, let's really give it some data.  We have two inference files we can use:\n",
    "\n",
    "* `data_1k.arrow`:  Contains 10,000 inferences\n",
    "* `data_25k.arrow`: Contains 25,000 inferences\n",
    "\n",
    "When Apache Arrow tables are submitted to a Wallaroo Pipeline, the inference is processed natively as an Arrow table, and the results are returned as an Arrow table.  This allows for faster data processing than with JSON files or DataFrame objects.\n",
    "\n",
    "We'll pipe the `data_25k.arrow` file through the `aloha_pipeline` deployment URL, and place the results in a file named `response.arrow`.  We'll also display the time this takes.  Note that for larger batches of 50,000 inferences or more can be difficult to view in Jupyter Hub because of its size, so we'll only display the first five rows.\n",
    "\n",
    "* **IMPORTANT NOTE**:  The `_deployment._url()` method will return an **internal** URL when using Python commands from within the Wallaroo instance - for example, the Wallaroo JupyterHub service.  When connecting via an external connection, `_deployment._url()` returns an **external** URL.  External URL connections requires [the authentication be included in the HTTP request](https://docs.wallaroo.ai/wallaroo-developer-guides/wallaroo-api-guide/), and that [Model Endpoints Guide](https://docs.wallaroo.ai/wallaroo-operations-guide/wallaroo-configuration/wallaroo-model-endpoints-guide/) external endpoints are enabled in the Wallaroo configuration options."
   ]
  },
  {
   "cell_type": "code",
   "execution_count": 25,
   "metadata": {},
   "outputs": [
    {
     "data": {
      "text/plain": [
       "'https://sparkly-apple-3026.api.wallaroo.community/v1/api/pipelines/infer/yarbalohapipeline-416'"
      ]
     },
     "execution_count": 25,
     "metadata": {},
     "output_type": "execute_result"
    }
   ],
   "source": [
    "inference_url = aloha_pipeline._deployment._url()\n",
    "inference_url"
   ]
  },
  {
   "cell_type": "code",
   "execution_count": 26,
   "metadata": {},
   "outputs": [
    {
     "data": {
      "text/plain": [
       "'eyJhbGciOiJSUzI1NiIsInR5cCIgOiAiSldUIiwia2lkIiA6ICJjTGZaYmhVQWl0a210Z0VLV0l1NnczTWlXYmUzWjc3cHdqVjJ2QWM2WUdZIn0.eyJleHAiOjE2NzkzNDE0MDQsImlhdCI6MTY3OTM0MTM0NCwiYXV0aF90aW1lIjoxNjc5MzM4MDUzLCJqdGkiOiJiOTA4Zjk0MS1hMGM5LTQ1ZjUtOWNmYy02YTQ4NmJhNTUxOTEiLCJpc3MiOiJodHRwczovL3NwYXJrbHktYXBwbGUtMzAyNi5rZXljbG9hay53YWxsYXJvby5jb21tdW5pdHkvYXV0aC9yZWFsbXMvbWFzdGVyIiwiYXVkIjpbIm1hc3Rlci1yZWFsbSIsImFjY291bnQiXSwic3ViIjoiMTM4YmQ3ZTYtNGRjOC00ZGMxLWE3NjAtYzllNzIxZWYzYzM3IiwidHlwIjoiQmVhcmVyIiwiYXpwIjoic2RrLWNsaWVudCIsInNlc3Npb25fc3RhdGUiOiI5OGFjYTBhNi03YmRhLTQ3MjAtOGQzNi1kNWZmNjA1NTY4MWUiLCJhY3IiOiIwIiwicmVhbG1fYWNjZXNzIjp7InJvbGVzIjpbImNyZWF0ZS1yZWFsbSIsImRlZmF1bHQtcm9sZXMtbWFzdGVyIiwib2ZmbGluZV9hY2Nlc3MiLCJhZG1pbiIsInVtYV9hdXRob3JpemF0aW9uIl19LCJyZXNvdXJjZV9hY2Nlc3MiOnsibWFzdGVyLXJlYWxtIjp7InJvbGVzIjpbInZpZXctcmVhbG0iLCJ2aWV3LWlkZW50aXR5LXByb3ZpZGVycyIsIm1hbmFnZS1pZGVudGl0eS1wcm92aWRlcnMiLCJpbXBlcnNvbmF0aW9uIiwiY3JlYXRlLWNsaWVudCIsIm1hbmFnZS11c2VycyIsInF1ZXJ5LXJlYWxtcyIsInZpZXctYXV0aG9yaXphdGlvbiIsInF1ZXJ5LWNsaWVudHMiLCJxdWVyeS11c2VycyIsIm1hbmFnZS1ldmVudHMiLCJtYW5hZ2UtcmVhbG0iLCJ2aWV3LWV2ZW50cyIsInZpZXctdXNlcnMiLCJ2aWV3LWNsaWVudHMiLCJtYW5hZ2UtYXV0aG9yaXphdGlvbiIsIm1hbmFnZS1jbGllbnRzIiwicXVlcnktZ3JvdXBzIl19LCJhY2NvdW50Ijp7InJvbGVzIjpbIm1hbmFnZS1hY2NvdW50IiwibWFuYWdlLWFjY291bnQtbGlua3MiLCJ2aWV3LXByb2ZpbGUiXX19LCJzY29wZSI6ImVtYWlsIHByb2ZpbGUiLCJzaWQiOiI5OGFjYTBhNi03YmRhLTQ3MjAtOGQzNi1kNWZmNjA1NTY4MWUiLCJlbWFpbF92ZXJpZmllZCI6dHJ1ZSwiaHR0cHM6Ly9oYXN1cmEuaW8vand0L2NsYWltcyI6eyJ4LWhhc3VyYS11c2VyLWlkIjoiMTM4YmQ3ZTYtNGRjOC00ZGMxLWE3NjAtYzllNzIxZWYzYzM3IiwieC1oYXN1cmEtZGVmYXVsdC1yb2xlIjoidXNlciIsIngtaGFzdXJhLWFsbG93ZWQtcm9sZXMiOlsidXNlciJdLCJ4LWhhc3VyYS11c2VyLWdyb3VwcyI6Int9In0sInByZWZlcnJlZF91c2VybmFtZSI6ImpvaG4uaGFuc2FyaWNrQHdhbGxhcm9vLmFpIiwiZW1haWwiOiJqb2huLmhhbnNhcmlja0B3YWxsYXJvby5haSJ9.T68uFbfbbdJ7o-xIBTPbJJGEO7-0ou-LzB6jUYvd0nxH01IB7jbaNN8jELwbHKO1DGtUUEJoBVz1YUQAP4cgnMVxIyMrTIrPutQSt2AEZGVPdxmKMEj45XAc4HAOFkjuW_gVey5G12c4tfhjJs3AzQkJh7n3pf564vyMbcNMAijSOL_XpAOWyp8MB1y4cr56cqya3ZhTa9IllETekD2NMkZ3DOLhTgQTutt1L6z_lK6Wydz64-uX2NZWkn2JgVlQSg2uHY_5-cViO5bQlgO8gc3pUzJh6bzKX03v668RaNticOAsbCrKp5ORTJxPHk_bySsc_glQEv4UwZ8oExRBVA'"
      ]
     },
     "execution_count": 26,
     "metadata": {},
     "output_type": "execute_result"
    }
   ],
   "source": [
    "connection =wl.mlops().__dict__\n",
    "token = connection['token']\n",
    "token"
   ]
  },
  {
   "cell_type": "code",
   "execution_count": 27,
   "metadata": {},
   "outputs": [],
   "source": [
    "dataFile=\"./data/data_25k.arrow\"\n",
    "contentType=\"application/vnd.apache.arrow.file\""
   ]
  },
  {
   "cell_type": "code",
   "execution_count": 28,
   "metadata": {},
   "outputs": [
    {
     "name": "stdout",
     "output_type": "stream",
     "text": [
      "  % Total    % Received % Xferd  Average Speed   Time    Time     Time  Current\n",
      "                                 Dload  Upload   Total   Spent    Left  Speed\n",
      "100 9748k  100   132  100 9748k     77  5725k  0:00:01  0:00:01 --:--:-- 5734k\n"
     ]
    }
   ],
   "source": [
    "!curl -X POST {inference_url} -H \"Authorization: Bearer {token}\" -H \"Content-Type:{contentType}\" --data-binary @{dataFile} > curl_response.df"
   ]
  },
  {
   "cell_type": "code",
   "execution_count": 29,
   "metadata": {},
   "outputs": [
    {
     "data": {
      "text/html": [
       "<div>\n",
       "<style scoped>\n",
       "    .dataframe tbody tr th:only-of-type {\n",
       "        vertical-align: middle;\n",
       "    }\n",
       "\n",
       "    .dataframe tbody tr th {\n",
       "        vertical-align: top;\n",
       "    }\n",
       "\n",
       "    .dataframe thead th {\n",
       "        text-align: right;\n",
       "    }\n",
       "</style>\n",
       "<table border=\"1\" class=\"dataframe\">\n",
       "  <thead>\n",
       "    <tr style=\"text-align: right;\">\n",
       "      <th></th>\n",
       "      <th>error</th>\n",
       "      <th>error_type</th>\n",
       "    </tr>\n",
       "  </thead>\n",
       "  <tbody>\n",
       "    <tr>\n",
       "      <th>0</th>\n",
       "      <td>\"Error deserializing json\": \"arrow i/o error: InvalidFooter\"</td>\n",
       "      <td>BadRequest</td>\n",
       "    </tr>\n",
       "  </tbody>\n",
       "</table>\n",
       "</div>"
      ],
      "text/plain": [
       "                                                          error  error_type\n",
       "0  \"Error deserializing json\": \"arrow i/o error: InvalidFooter\"  BadRequest"
      ]
     },
     "metadata": {},
     "output_type": "display_data"
    }
   ],
   "source": [
    "cc_data_from_file =  pd.read_json('./curl_response.txt', orient=\"records\")\n",
    "display(cc_data_from_file.head(5))"
   ]
  },
  {
   "cell_type": "markdown",
   "metadata": {},
   "source": [
    "## Undeploy Pipeline\n",
    "\n",
    "When finished with our tests, we will undeploy the pipeline so we have the Kubernetes resources back for other tasks.  Note that if the deployment variable is unchanged aloha_pipeline.deploy() will restart the inference engine in the same configuration as before."
   ]
  },
  {
   "cell_type": "code",
   "execution_count": 37,
   "metadata": {},
   "outputs": [],
   "source": [
    "aloha_pipeline.undeploy()"
   ]
  },
  {
   "cell_type": "code",
   "execution_count": null,
   "metadata": {},
   "outputs": [],
   "source": []
  }
 ],
 "metadata": {
  "kernelspec": {
   "display_name": "arrowtests",
   "language": "python",
   "name": "python3"
  },
  "language_info": {
   "codemirror_mode": {
    "name": "ipython",
    "version": 3
   },
   "file_extension": ".py",
   "mimetype": "text/x-python",
   "name": "python",
   "nbconvert_exporter": "python",
   "pygments_lexer": "ipython3",
   "version": "3.8.12"
  },
  "vscode": {
   "interpreter": {
    "hash": "7dda4bf3640b7fafcd1648658b879b4cc9f6ba6084e8fb356fdaaa1a461d1690"
   }
  }
 },
 "nbformat": 4,
 "nbformat_minor": 4
}
