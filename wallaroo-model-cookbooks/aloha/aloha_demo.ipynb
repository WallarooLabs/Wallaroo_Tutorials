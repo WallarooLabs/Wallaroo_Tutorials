{
 "cells": [
  {
   "cell_type": "markdown",
   "metadata": {},
   "source": [
    "This tutorial and the assets can be downloaded as part of the [Wallaroo Tutorials repository](https://github.com/WallarooLabs/Wallaroo_Tutorials/tree/main/aloha).\n",
    "\n",
    "## Aloha Demo\n",
    "\n",
    "In this notebook we will walk through a simple pipeline deployment to inference on a model. For this example we will be using an open source model that uses an [Aloha CNN LSTM model](https://www.researchgate.net/publication/348920204_Using_Auxiliary_Inputs_in_Deep_Learning_Models_for_Detecting_DGA-based_Domain_Names) for classifying Domain names as being either legitimate or being used for nefarious purposes such as malware distribution.  \n",
    "\n",
    "For our example, we will perform the following:\n",
    "\n",
    "* Create a workspace for our work.\n",
    "* Upload the Aloha model.\n",
    "* Create a pipeline that can ingest our submitted data, submit it to the model, and export the results\n",
    "* Run a sample inference through our pipeline by loading a file\n",
    "* Run a sample inference through our pipeline's URL and store the results in a file.\n",
    "\n",
    "All sample data and models are available through the [Wallaroo Quick Start Guide Samples repository](https://github.com/WallarooLabs/quickstartguide_samples)."
   ]
  },
  {
   "cell_type": "markdown",
   "metadata": {},
   "source": [
    "## Open a Connection to Wallaroo\n",
    "\n",
    "The first step is to connect to Wallaroo through the Wallaroo client.  The Python library is included in the Wallaroo install and available through the Jupyter Hub interface provided with your Wallaroo environment.\n",
    "\n",
    "This is accomplished using the `wallaroo.Client()` command, which provides a URL to grant the SDK permission to your specific Wallaroo environment.  When displayed, enter the URL into a browser and confirm permissions.  Store the connection into a variable that can be referenced later."
   ]
  },
  {
   "cell_type": "code",
   "execution_count": 13,
   "metadata": {},
   "outputs": [
    {
     "name": "stdout",
     "output_type": "stream",
     "text": [
      "3.8.11\n"
     ]
    }
   ],
   "source": [
    "from platform import python_version\n",
    "\n",
    "print(python_version())"
   ]
  },
  {
   "cell_type": "code",
   "execution_count": 14,
   "metadata": {},
   "outputs": [],
   "source": [
    "import wallaroo\n",
    "from wallaroo.object import EntityNotFoundError"
   ]
  },
  {
   "cell_type": "code",
   "execution_count": 15,
   "metadata": {},
   "outputs": [],
   "source": [
    "# Client connection from local Wallaroo instance\n",
    "\n",
    "# wl = wallaroo.Client()\n",
    "\n",
    "# SSO login through keycloak\n",
    "\n",
    "wallarooPrefix = \"YOUR PREFIX\"\n",
    "wallarooSuffix = \"YOUR SUFFIX\"\n",
    "\n",
    "wl = wallaroo.Client(api_endpoint=f\"https://{wallarooPrefix}.api.{wallarooSuffix}\", \n",
    "                    auth_endpoint=f\"https://{wallarooPrefix}.keycloak.{wallarooSuffix}\", \n",
    "                    auth_type=\"sso\")"
   ]
  },
  {
   "cell_type": "markdown",
   "metadata": {},
   "source": [
    "## Create the Workspace\n",
    "\n",
    "We will create a workspace to work in and call it the \"alohaworkspace\", then set it as current workspace environment.  We'll also create our pipeline in advance as `alohapipeline`."
   ]
  },
  {
   "cell_type": "code",
   "execution_count": 16,
   "metadata": {},
   "outputs": [],
   "source": [
    "workspace_name = 'alohaworkspace'\n",
    "pipeline_name = 'alohapipeline'\n",
    "model_name = 'alohamodel'\n",
    "model_file_name = './aloha-cnn-lstm.zip'"
   ]
  },
  {
   "cell_type": "code",
   "execution_count": 17,
   "metadata": {},
   "outputs": [],
   "source": [
    "def get_workspace(name):\n",
    "    workspace = None\n",
    "    for ws in wl.list_workspaces():\n",
    "        if ws.name() == name:\n",
    "            workspace= ws\n",
    "    if(workspace == None):\n",
    "        workspace = wl.create_workspace(name)\n",
    "    return workspace\n",
    "\n",
    "def get_pipeline(name):\n",
    "    try:\n",
    "        pipeline = wl.pipelines_by_name(pipeline_name)[0]\n",
    "    except EntityNotFoundError:\n",
    "        pipeline = wl.build_pipeline(pipeline_name)\n",
    "    return pipeline"
   ]
  },
  {
   "cell_type": "code",
   "execution_count": 18,
   "metadata": {},
   "outputs": [
    {
     "data": {
      "text/html": [
       "<table><tr><th>name</th> <td>alohapipeline</td></tr><tr><th>created</th> <td>2022-12-16 21:00:02.528654+00:00</td></tr><tr><th>last_updated</th> <td>2022-12-16 21:00:02.528654+00:00</td></tr><tr><th>deployed</th> <td>(none)</td></tr><tr><th>tags</th> <td></td></tr><tr><th>versions</th> <td>5cdaa977-856c-4a7a-a14e-dae7228fb5d6</td></tr><tr><th>steps</th> <td></td></tr></table>"
      ],
      "text/plain": [
       "{'name': 'alohapipeline', 'create_time': datetime.datetime(2022, 12, 16, 21, 0, 2, 528654, tzinfo=tzutc()), 'definition': '[]'}"
      ]
     },
     "execution_count": 18,
     "metadata": {},
     "output_type": "execute_result"
    }
   ],
   "source": [
    "workspace = get_workspace(workspace_name)\n",
    "\n",
    "wl.set_current_workspace(workspace)\n",
    "\n",
    "aloha_pipeline = get_pipeline(pipeline_name)\n",
    "aloha_pipeline"
   ]
  },
  {
   "cell_type": "markdown",
   "metadata": {},
   "source": [
    "We can verify the workspace is created the current default workspace with the `get_current_workspace()` command."
   ]
  },
  {
   "cell_type": "code",
   "execution_count": 19,
   "metadata": {},
   "outputs": [
    {
     "data": {
      "text/plain": [
       "{'name': 'alohaworkspace', 'id': 28, 'archived': False, 'created_by': '01a797f9-1357-4506-a4d2-8ab9c4681103', 'created_at': '2022-12-16T21:00:01.614796+00:00', 'models': [], 'pipelines': [{'name': 'alohapipeline', 'create_time': datetime.datetime(2022, 12, 16, 21, 0, 2, 528654, tzinfo=tzutc()), 'definition': '[]'}]}"
      ]
     },
     "execution_count": 19,
     "metadata": {},
     "output_type": "execute_result"
    }
   ],
   "source": [
    "wl.get_current_workspace()"
   ]
  },
  {
   "cell_type": "markdown",
   "metadata": {},
   "source": [
    "# Upload the Models\n",
    "\n",
    "Now we will upload our models.  Note that for this example we are applying the model from a .ZIP file.  The Aloha model is a [protobuf](https://developers.google.com/protocol-buffers) file that has been defined for evaluating web pages, and we will configure it to use data in the `tensorflow` format."
   ]
  },
  {
   "cell_type": "code",
   "execution_count": 20,
   "metadata": {},
   "outputs": [],
   "source": [
    "model = wl.upload_model(model_name, model_file_name).configure(\"tensorflow\")"
   ]
  },
  {
   "cell_type": "markdown",
   "metadata": {},
   "source": [
    "## Deploy a model\n",
    "Now that we have a model that we want to use we will create a deployment for it. \n",
    "\n",
    "We will tell the deployment we are using a tensorflow model and give the deployment name and the configuration we want for the deployment.\n",
    "\n",
    "To do this, we'll create our pipeline that can ingest the data, pass the data to our Aloha model, and give us a final output.  We'll call our pipeline `aloha-test-demo`, then deploy it so it's ready to receive data.  The deployment process usually takes about 45 seconds.\n",
    "\n",
    "* **Note**:  If you receive an error that the pipeline could not be deployed because there are not enough resources, undeploy any other pipelines and deploy this one again.  This command can quickly undeploy all pipelines to regain resources.  We recommend **not** running this command in a production environment since it will cancel any running pipelines:\n",
    "\n",
    "```python\n",
    "for p in wl.list_pipelines(): p.undeploy()\n",
    "```"
   ]
  },
  {
   "cell_type": "code",
   "execution_count": 21,
   "metadata": {},
   "outputs": [
    {
     "data": {
      "text/html": [
       "<table><tr><th>name</th> <td>alohapipeline</td></tr><tr><th>created</th> <td>2022-12-16 21:00:02.528654+00:00</td></tr><tr><th>last_updated</th> <td>2022-12-16 21:00:02.528654+00:00</td></tr><tr><th>deployed</th> <td>(none)</td></tr><tr><th>tags</th> <td></td></tr><tr><th>versions</th> <td>5cdaa977-856c-4a7a-a14e-dae7228fb5d6</td></tr><tr><th>steps</th> <td></td></tr></table>"
      ],
      "text/plain": [
       "{'name': 'alohapipeline', 'create_time': datetime.datetime(2022, 12, 16, 21, 0, 2, 528654, tzinfo=tzutc()), 'definition': \"[{'ModelInference': {'models': [{'name': 'alohamodel', 'version': '45224236-61f8-4628-a6c6-f96954863c89', 'sha': '7c89707252ce389980d5348c37885d6d72af4c20cd303422e2de7e66dd7ff184'}]}}]\"}"
      ]
     },
     "execution_count": 21,
     "metadata": {},
     "output_type": "execute_result"
    }
   ],
   "source": [
    "aloha_pipeline.add_model_step(model)"
   ]
  },
  {
   "cell_type": "code",
   "execution_count": 22,
   "metadata": {},
   "outputs": [
    {
     "data": {
      "text/html": [
       "<table><tr><th>name</th> <td>alohapipeline</td></tr><tr><th>created</th> <td>2022-12-16 21:00:02.528654+00:00</td></tr><tr><th>last_updated</th> <td>2022-12-16 21:00:11.796841+00:00</td></tr><tr><th>deployed</th> <td>True</td></tr><tr><th>tags</th> <td></td></tr><tr><th>versions</th> <td>f282c205-afe3-4a77-baf5-b379fe8a60d7, 5cdaa977-856c-4a7a-a14e-dae7228fb5d6</td></tr><tr><th>steps</th> <td>alohamodel</td></tr></table>"
      ],
      "text/plain": [
       "{'name': 'alohapipeline', 'create_time': datetime.datetime(2022, 12, 16, 21, 0, 2, 528654, tzinfo=tzutc()), 'definition': \"[{'ModelInference': {'models': [{'name': 'alohamodel', 'version': '45224236-61f8-4628-a6c6-f96954863c89', 'sha': '7c89707252ce389980d5348c37885d6d72af4c20cd303422e2de7e66dd7ff184'}]}}]\"}"
      ]
     },
     "execution_count": 22,
     "metadata": {},
     "output_type": "execute_result"
    }
   ],
   "source": [
    "aloha_pipeline.deploy()"
   ]
  },
  {
   "cell_type": "markdown",
   "metadata": {},
   "source": [
    "We can verify that the pipeline is running and list what models are associated with it."
   ]
  },
  {
   "cell_type": "code",
   "execution_count": 23,
   "metadata": {},
   "outputs": [
    {
     "data": {
      "text/plain": [
       "{'status': 'Running',\n",
       " 'details': [],\n",
       " 'engines': [{'ip': '10.4.2.6',\n",
       "   'name': 'engine-7465877489-gf4g9',\n",
       "   'status': 'Running',\n",
       "   'reason': None,\n",
       "   'details': [],\n",
       "   'pipeline_statuses': {'pipelines': [{'id': 'alohapipeline',\n",
       "      'status': 'Running'}]},\n",
       "   'model_statuses': {'models': [{'name': 'alohamodel',\n",
       "      'version': '45224236-61f8-4628-a6c6-f96954863c89',\n",
       "      'sha': '7c89707252ce389980d5348c37885d6d72af4c20cd303422e2de7e66dd7ff184',\n",
       "      'status': 'Running'}]}}],\n",
       " 'engine_lbs': [{'ip': '10.4.0.22',\n",
       "   'name': 'engine-lb-7d6f4bfdd-qwdtx',\n",
       "   'status': 'Running',\n",
       "   'reason': None,\n",
       "   'details': []}],\n",
       " 'sidekicks': []}"
      ]
     },
     "execution_count": 23,
     "metadata": {},
     "output_type": "execute_result"
    }
   ],
   "source": [
    "aloha_pipeline.status()"
   ]
  },
  {
   "cell_type": "markdown",
   "metadata": {},
   "source": [
    "## Interferences\n",
    "\n",
    "### Infer 1 row\n",
    "\n",
    "Now that the pipeline is deployed and our Aloha model is in place, we'll perform a smoke test to verify the pipeline is up and running properly.  We'll use the `infer_from_file` command to load a single encoded URL into the inference engine and print the results back out.\n",
    "\n",
    "The result should tell us that the tokenized URL is legitimate (0) or fraud (1).  This sample data should return close to 0."
   ]
  },
  {
   "cell_type": "code",
   "execution_count": 24,
   "metadata": {},
   "outputs": [
    {
     "data": {
      "text/plain": [
       "[InferenceResult({'check_failures': [],\n",
       "  'elapsed': 275299859,\n",
       "  'model_name': 'alohamodel',\n",
       "  'model_version': '45224236-61f8-4628-a6c6-f96954863c89',\n",
       "  'original_data': {'text_input': [[0,\n",
       "                                    0,\n",
       "                                    0,\n",
       "                                    0,\n",
       "                                    0,\n",
       "                                    0,\n",
       "                                    0,\n",
       "                                    0,\n",
       "                                    0,\n",
       "                                    0,\n",
       "                                    0,\n",
       "                                    0,\n",
       "                                    0,\n",
       "                                    0,\n",
       "                                    0,\n",
       "                                    0,\n",
       "                                    0,\n",
       "                                    0,\n",
       "                                    0,\n",
       "                                    0,\n",
       "                                    0,\n",
       "                                    0,\n",
       "                                    0,\n",
       "                                    0,\n",
       "                                    0,\n",
       "                                    0,\n",
       "                                    0,\n",
       "                                    0,\n",
       "                                    0,\n",
       "                                    0,\n",
       "                                    0,\n",
       "                                    0,\n",
       "                                    0,\n",
       "                                    0,\n",
       "                                    0,\n",
       "                                    0,\n",
       "                                    0,\n",
       "                                    0,\n",
       "                                    0,\n",
       "                                    0,\n",
       "                                    28,\n",
       "                                    16,\n",
       "                                    32,\n",
       "                                    23,\n",
       "                                    29,\n",
       "                                    32,\n",
       "                                    30,\n",
       "                                    19,\n",
       "                                    26,\n",
       "                                    17]]},\n",
       "  'outputs': [{'Float': {'data': [0.0015195842133834958],\n",
       "                         'dim': [1, 1],\n",
       "                         'dtype': 'Float',\n",
       "                         'v': 1}},\n",
       "              {'Float': {'data': [0.9829147458076477],\n",
       "                         'dim': [1, 1],\n",
       "                         'dtype': 'Float',\n",
       "                         'v': 1}},\n",
       "              {'Float': {'data': [0.012099552899599075],\n",
       "                         'dim': [1, 1],\n",
       "                         'dtype': 'Float',\n",
       "                         'v': 1}},\n",
       "              {'Float': {'data': [4.7591205657226965e-05],\n",
       "                         'dim': [1, 1],\n",
       "                         'dtype': 'Float',\n",
       "                         'v': 1}},\n",
       "              {'Float': {'data': [2.0289331587264314e-05],\n",
       "                         'dim': [1, 1],\n",
       "                         'dtype': 'Float',\n",
       "                         'v': 1}},\n",
       "              {'Float': {'data': [0.00031977228354662657],\n",
       "                         'dim': [1, 1],\n",
       "                         'dtype': 'Float',\n",
       "                         'v': 1}},\n",
       "              {'Float': {'data': [0.011029261164367199],\n",
       "                         'dim': [1, 1],\n",
       "                         'dtype': 'Float',\n",
       "                         'v': 1}},\n",
       "              {'Float': {'data': [0.9975640177726746],\n",
       "                         'dim': [1, 1],\n",
       "                         'dtype': 'Float',\n",
       "                         'v': 1}},\n",
       "              {'Float': {'data': [0.010341613553464413],\n",
       "                         'dim': [1, 1],\n",
       "                         'dtype': 'Float',\n",
       "                         'v': 1}},\n",
       "              {'Float': {'data': [0.008038961328566074],\n",
       "                         'dim': [1, 1],\n",
       "                         'dtype': 'Float',\n",
       "                         'v': 1}},\n",
       "              {'Float': {'data': [0.016155045479536057],\n",
       "                         'dim': [1, 1],\n",
       "                         'dtype': 'Float',\n",
       "                         'v': 1}},\n",
       "              {'Float': {'data': [0.0062362332828342915],\n",
       "                         'dim': [1, 1],\n",
       "                         'dtype': 'Float',\n",
       "                         'v': 1}},\n",
       "              {'Float': {'data': [0.0009985746582970023],\n",
       "                         'dim': [1, 1],\n",
       "                         'dtype': 'Float',\n",
       "                         'v': 1}},\n",
       "              {'Float': {'data': [1.7933435344117743e-26],\n",
       "                         'dim': [1, 1],\n",
       "                         'dtype': 'Float',\n",
       "                         'v': 1}},\n",
       "              {'Float': {'data': [1.388984431455466e-27],\n",
       "                         'dim': [1, 1],\n",
       "                         'dtype': 'Float',\n",
       "                         'v': 1}}],\n",
       "  'pipeline_name': 'alohapipeline',\n",
       "  'shadow_data': {},\n",
       "  'time': 1671224441072})]"
      ]
     },
     "execution_count": 24,
     "metadata": {},
     "output_type": "execute_result"
    }
   ],
   "source": [
    "aloha_pipeline.infer_from_file(\"./data-1.json\")"
   ]
  },
  {
   "cell_type": "markdown",
   "metadata": {},
   "source": [
    "### Batch Inference\n",
    "\n",
    "Now that our smoke test is successful, let's really give it some data.  We have two inference files we can use:\n",
    "\n",
    "* `data-1k.json`:  Contains 1,0000 inferences\n",
    "* `data-25k.json`: Contains 25,000 inferences\n",
    "\n",
    "We'll pipe the `data-25k.json` file through the `aloha_pipeline` deployment URL, and place the results in a file named `response.txt`.  We'll also display the time this takes.  Note that for larger batches of 50,000 inferences or more can be difficult to view in Juypter Hub because of its size.\n",
    "\n",
    "When running this example, replace the URL from the `_deployment._url()` command into the `curl` command below."
   ]
  },
  {
   "cell_type": "code",
   "execution_count": 25,
   "metadata": {},
   "outputs": [],
   "source": [
    "inference_url = aloha_pipeline._deployment._url()"
   ]
  },
  {
   "cell_type": "code",
   "execution_count": 26,
   "metadata": {},
   "outputs": [
    {
     "data": {
      "text/plain": [
       "'eyJhbGciOiJSUzI1NiIsInR5cCIgOiAiSldUIiwia2lkIiA6ICJWalFITFhMMThub3BXNWVHM2hMOVJ5MDZ1SFVWMko1dHREUkVxSGtBT2VzIn0.eyJleHAiOjE2NzEyMjQ0NjAsImlhdCI6MTY3MTIyNDQwMCwiYXV0aF90aW1lIjoxNjcxMjIyMjM1LCJqdGkiOiJjMTZjZjU5ZS02ZDEzLTQ0OTMtYTc2NC0zZTY4ZjNiOWQ1ODciLCJpc3MiOiJodHRwczovL3NxdWlzaHktd2FsbGFyb28tNjE4Ny5rZXljbG9hay53YWxsYXJvby5kZXYvYXV0aC9yZWFsbXMvbWFzdGVyIiwiYXVkIjpbIm1hc3Rlci1yZWFsbSIsImFjY291bnQiXSwic3ViIjoiMDFhNzk3ZjktMTM1Ny00NTA2LWE0ZDItOGFiOWM0NjgxMTAzIiwidHlwIjoiQmVhcmVyIiwiYXpwIjoic2RrLWNsaWVudCIsInNlc3Npb25fc3RhdGUiOiJkODQ2NjQxZi00ZTExLTQ1YWItYThmZS01ZjI3ZGI2NzAyMjciLCJhY3IiOiIwIiwicmVhbG1fYWNjZXNzIjp7InJvbGVzIjpbImNyZWF0ZS1yZWFsbSIsImRlZmF1bHQtcm9sZXMtbWFzdGVyIiwib2ZmbGluZV9hY2Nlc3MiLCJhZG1pbiIsInVtYV9hdXRob3JpemF0aW9uIl19LCJyZXNvdXJjZV9hY2Nlc3MiOnsibWFzdGVyLXJlYWxtIjp7InJvbGVzIjpbInZpZXctaWRlbnRpdHktcHJvdmlkZXJzIiwidmlldy1yZWFsbSIsIm1hbmFnZS1pZGVudGl0eS1wcm92aWRlcnMiLCJpbXBlcnNvbmF0aW9uIiwiY3JlYXRlLWNsaWVudCIsIm1hbmFnZS11c2VycyIsInF1ZXJ5LXJlYWxtcyIsInZpZXctYXV0aG9yaXphdGlvbiIsInF1ZXJ5LWNsaWVudHMiLCJxdWVyeS11c2VycyIsIm1hbmFnZS1ldmVudHMiLCJtYW5hZ2UtcmVhbG0iLCJ2aWV3LWV2ZW50cyIsInZpZXctdXNlcnMiLCJ2aWV3LWNsaWVudHMiLCJtYW5hZ2UtYXV0aG9yaXphdGlvbiIsIm1hbmFnZS1jbGllbnRzIiwicXVlcnktZ3JvdXBzIl19LCJhY2NvdW50Ijp7InJvbGVzIjpbIm1hbmFnZS1hY2NvdW50IiwibWFuYWdlLWFjY291bnQtbGlua3MiLCJ2aWV3LXByb2ZpbGUiXX19LCJzY29wZSI6InByb2ZpbGUgZW1haWwiLCJzaWQiOiJkODQ2NjQxZi00ZTExLTQ1YWItYThmZS01ZjI3ZGI2NzAyMjciLCJlbWFpbF92ZXJpZmllZCI6dHJ1ZSwiaHR0cHM6Ly9oYXN1cmEuaW8vand0L2NsYWltcyI6eyJ4LWhhc3VyYS11c2VyLWlkIjoiMDFhNzk3ZjktMTM1Ny00NTA2LWE0ZDItOGFiOWM0NjgxMTAzIiwieC1oYXN1cmEtZGVmYXVsdC1yb2xlIjoidXNlciIsIngtaGFzdXJhLWFsbG93ZWQtcm9sZXMiOlsidXNlciJdLCJ4LWhhc3VyYS11c2VyLWdyb3VwcyI6Int9In0sInByZWZlcnJlZF91c2VybmFtZSI6ImpvaG4uaGFuc2FyaWNrQHdhbGxhcm9vLmFpIiwiZW1haWwiOiJqb2huLmhhbnNhcmlja0B3YWxsYXJvby5haSJ9.iToD4PosX9PWgyxr3Z_z3vyyI1sR-DinTBOwBGqxs_lV5LURRV6VlhnjkxZIfVzSABeWuvP7oCRKEwzOxk-IBP1GtDbBLB55fb8Mw4rlurUCD_KZ-940prnrnLDY29Vg2yRSZ2xZxO8Z6wRck6yu0NcoTJtF_VJlwtYzztKTh80RE_Sr9Ddy6PVaq8ElrT8h0OwAKh3dB9kiH5yh2RWHl3_VAubGBP4Ne2BEw5ZBPmj9gPjQ82BkA9lqaUlt5EeEMBgwEx39TWh3GjGBFmxzobdEiiBuhAZyUqIB9ffQEGrMs8Tz_r2EzdZATeUmkJ57l7zAysYnTJvvEHzVEs38AA'"
      ]
     },
     "execution_count": 26,
     "metadata": {},
     "output_type": "execute_result"
    }
   ],
   "source": [
    "connection =wl.mlops().__dict__\n",
    "token = connection['token']\n",
    "token\n"
   ]
  },
  {
   "cell_type": "code",
   "execution_count": 27,
   "metadata": {},
   "outputs": [
    {
     "name": "stdout",
     "output_type": "stream",
     "text": [
      "  % Total    % Received % Xferd  Average Speed   Time    Time     Time  Current\n",
      "                                 Dload  Upload   Total   Spent    Left  Speed\n",
      "  4 2886k    0     0    4  128k      0   709k  0:00:04 --:--:--  0:00:04  715k\n"
     ]
    }
   ],
   "source": [
    "!curl -X POST {inference_url} -H \"Content-Type:application/json\" -H \"Authorization: Bearer {token}\" -H \"Content-Type:application/json\" --data @data-25k.json > curl_response.txt"
   ]
  },
  {
   "cell_type": "markdown",
   "metadata": {},
   "source": [
    "## Undeploy Pipeline\n",
    "\n",
    "When finished with our tests, we will undeploy the pipeline so we have the Kubernetes resources back for other tasks.  Note that if the deployment variable is unchanged aloha_pipeline.deploy() will restart the inference engine in the same configuration as before."
   ]
  },
  {
   "cell_type": "code",
   "execution_count": 28,
   "metadata": {},
   "outputs": [
    {
     "data": {
      "text/html": [
       "<table><tr><th>name</th> <td>alohapipeline</td></tr><tr><th>created</th> <td>2022-12-16 21:00:02.528654+00:00</td></tr><tr><th>last_updated</th> <td>2022-12-16 21:00:11.796841+00:00</td></tr><tr><th>deployed</th> <td>False</td></tr><tr><th>tags</th> <td></td></tr><tr><th>versions</th> <td>f282c205-afe3-4a77-baf5-b379fe8a60d7, 5cdaa977-856c-4a7a-a14e-dae7228fb5d6</td></tr><tr><th>steps</th> <td>alohamodel</td></tr></table>"
      ],
      "text/plain": [
       "{'name': 'alohapipeline', 'create_time': datetime.datetime(2022, 12, 16, 21, 0, 2, 528654, tzinfo=tzutc()), 'definition': \"[{'ModelInference': {'models': [{'name': 'alohamodel', 'version': '45224236-61f8-4628-a6c6-f96954863c89', 'sha': '7c89707252ce389980d5348c37885d6d72af4c20cd303422e2de7e66dd7ff184'}]}}]\"}"
      ]
     },
     "execution_count": 28,
     "metadata": {},
     "output_type": "execute_result"
    }
   ],
   "source": [
    "aloha_pipeline.undeploy()"
   ]
  },
  {
   "cell_type": "code",
   "execution_count": null,
   "metadata": {},
   "outputs": [],
   "source": []
  }
 ],
 "metadata": {
  "kernelspec": {
   "display_name": "wallaroosdk",
   "language": "python",
   "name": "python3"
  },
  "language_info": {
   "codemirror_mode": {
    "name": "ipython",
    "version": 3
   },
   "file_extension": ".py",
   "mimetype": "text/x-python",
   "name": "python",
   "nbconvert_exporter": "python",
   "pygments_lexer": "ipython3",
   "version": "3.8.11"
  },
  "vscode": {
   "interpreter": {
    "hash": "e951b583e3fbbcadfc15df61f9ed97fb9a76f59b2130f2cdf4d0033aa05e7e64"
   }
  }
 },
 "nbformat": 4,
 "nbformat_minor": 4
}
