{
 "cells": [
  {
   "attachments": {},
   "cell_type": "markdown",
   "metadata": {},
   "source": [
    "This tutorial and the assets can be downloaded as part of the [Wallaroo Tutorials repository](https://github.com/WallarooLabs/Wallaroo_Tutorials/tree/main/wallaroo-model-cookbooks/demand_curve).\n",
    "\n",
    "## Demand Curve Pipeline Tutorial\n",
    "\n",
    "This worksheet demonstrates a Wallaroo pipeline with data preprocessing, a model, and data postprocessing.\n",
    "\n",
    "The model is a \"demand curve\" that predicts the expected number of units of a product that will be sold to a customer as a function of unit price and facts about the customer. Such models can be used for price optimization or sales volume forecasting.  This is purely a \"toy\" demonstration, but is useful for detailing the process of working with models and pipelines.\n",
    "\n",
    "Data preprocessing is required to create the features used by the model. Simple postprocessing prevents nonsensical estimates (e.g. negative units sold).\n",
    "\n",
    "## Prerequisites\n",
    "\n",
    "* An installed Wallaroo instance.\n",
    "* The following Python libraries installed:\n",
    "  * `os`\n",
    "  * [`wallaroo`](https://pypi.org/project/wallaroo/): The Wallaroo SDK. Included with the Wallaroo JupyterHub service by default."
   ]
  },
  {
   "cell_type": "code",
   "execution_count": 179,
   "metadata": {},
   "outputs": [],
   "source": [
    "import json\n",
    "import wallaroo\n",
    "from wallaroo.object import EntityNotFoundError\n",
    "import pandas\n",
    "import numpy\n",
    "import conversion\n",
    "from wallaroo.object import EntityNotFoundError\n",
    "import pyarrow as pa\n",
    "\n",
    "# used to display dataframe information without truncating\n",
    "from IPython.display import display\n",
    "import pandas as pd\n",
    "pd.set_option('display.max_colwidth', None)\n",
    "\n",
    "# ignoring warnings for demonstration\n",
    "import warnings\n",
    "warnings.filterwarnings('ignore')"
   ]
  },
  {
   "attachments": {},
   "cell_type": "markdown",
   "metadata": {},
   "source": [
    "### Connect to the Wallaroo Instance\n",
    "\n",
    "The first step is to connect to Wallaroo through the Wallaroo client.  The Python library is included in the Wallaroo install and available through the Jupyter Hub interface provided with your Wallaroo environment.\n",
    "\n",
    "This is accomplished using the `wallaroo.Client()` command, which provides a URL to grant the SDK permission to your specific Wallaroo environment.  When displayed, enter the URL into a browser and confirm permissions.  Store the connection into a variable that can be referenced later.\n",
    "\n",
    "If logging into the Wallaroo instance through the internal JupyterHub service, use `wl = wallaroo.Client()`.  For more information on Wallaroo Client settings, see the [Client Connection guide](https://docs.wallaroo.ai/wallaroo-developer-guides/wallaroo-sdk-guides/wallaroo-sdk-essentials-guide/wallaroo-sdk-essentials-client/)."
   ]
  },
  {
   "cell_type": "code",
   "execution_count": 180,
   "metadata": {},
   "outputs": [],
   "source": [
    "# Login through local Wallaroo instance\n",
    "\n",
    "wl = wallaroo.Client()\n",
    "\n",
    "wallarooPrefix = \"doc-test.\"\n",
    "wallarooSuffix = \"wallaroocommunity.ninja\"\n",
    "\n",
    "wl = wallaroo.Client(api_endpoint=f\"https://{wallarooPrefix}api.{wallarooSuffix}\", \n",
    "                    auth_endpoint=f\"https://{wallarooPrefix}keycloak.{wallarooSuffix}\", \n",
    "                    auth_type=\"sso\")"
   ]
  },
  {
   "attachments": {},
   "cell_type": "markdown",
   "metadata": {},
   "source": [
    "Now that the Wallaroo client has been initialized, we can create the workspace and call it `demandcurveworkspace`, then set it as our current workspace.  We'll also create our pipeline so it's ready when we add our models to it."
   ]
  },
  {
   "attachments": {},
   "cell_type": "markdown",
   "metadata": {},
   "source": [
    "We'll set some variables and methods to create our workspace, pipelines and models.  Note that as of the July 2022 release of Wallaroo, workspace names must be unique.  Pipelines with the same name will be created as a new version when built."
   ]
  },
  {
   "cell_type": "code",
   "execution_count": 181,
   "metadata": {},
   "outputs": [],
   "source": [
    "workspace_name = 'demandcurveworkspace'\n",
    "pipeline_name = 'demandcurvepipeline'\n",
    "model_name = 'demandcurvemodel'\n",
    "model_file_name = './demand_curve_v1.onnx'"
   ]
  },
  {
   "cell_type": "code",
   "execution_count": 182,
   "metadata": {},
   "outputs": [],
   "source": [
    "def get_workspace(name):\n",
    "    workspace = None\n",
    "    for ws in wl.list_workspaces():\n",
    "        if ws.name() == name:\n",
    "            workspace= ws\n",
    "    if(workspace == None):\n",
    "        workspace = wl.create_workspace(name)\n",
    "    return workspace\n",
    "\n",
    "def get_pipeline(name):\n",
    "    try:\n",
    "        pipeline = wl.pipelines_by_name(name)[0]\n",
    "    except EntityNotFoundError:\n",
    "        pipeline = wl.build_pipeline(name)\n",
    "    return pipeline"
   ]
  },
  {
   "cell_type": "code",
   "execution_count": 183,
   "metadata": {},
   "outputs": [
    {
     "data": {
      "text/html": [
       "<table><tr><th>name</th> <td>demandcurvepipeline</td></tr><tr><th>created</th> <td>2023-09-01 19:35:46.308437+00:00</td></tr><tr><th>last_updated</th> <td>2023-09-06 19:27:27.106897+00:00</td></tr><tr><th>deployed</th> <td>False</td></tr><tr><th>tags</th> <td></td></tr><tr><th>versions</th> <td>78bc4874-1ee4-4d93-b6e5-76baa446f8bb, 2ea4da00-7521-4ffe-9e74-7b41a440021a, 0304ba8d-d1ff-47e6-acfc-b68454d09126, e4607e83-d2e1-4809-9047-a5f5d5d27468, 4d0da913-59fb-4e99-9d6b-1c18377ab34c, 9d5076cb-5752-43ab-af4f-4c904d06ba52, d06a9550-d693-445a-a6cd-b55635018c57, c95ee014-f431-4d8d-ab99-669fde88173d, bd0c6894-63bc-4cb9-b378-390640307a36, 4136fa8b-270e-49d6-836e-75f7c9c73def, 00a4fb64-302d-4a27-90ac-86e08fb6afe8, 94f0129f-f9c1-474a-89fa-7110c81c9a22, 701a759d-6d45-4d61-bfd0-b878d9a09fc3, 4a85b06f-9051-48ff-9f9e-6b6e4e4b8d68, 698c13e2-4120-4132-b72b-99cd8c0fdd99, 1314a1a4-eabc-437d-bf3f-83f54686970e</td></tr><tr><th>steps</th> <td>demandcurvemodel</td></tr><tr><th>published</th> <td>False</td></tr></table>"
      ],
      "text/plain": [
       "{'name': 'demandcurvepipeline', 'create_time': datetime.datetime(2023, 9, 1, 19, 35, 46, 308437, tzinfo=tzutc()), 'definition': '[]'}"
      ]
     },
     "execution_count": 183,
     "metadata": {},
     "output_type": "execute_result"
    }
   ],
   "source": [
    "workspace = get_workspace(workspace_name)\n",
    "\n",
    "wl.set_current_workspace(workspace)\n",
    "\n",
    "demandcurve_pipeline = get_pipeline(pipeline_name)\n",
    "demandcurve_pipeline"
   ]
  },
  {
   "attachments": {},
   "cell_type": "markdown",
   "metadata": {},
   "source": [
    "With our workspace established, we'll upload two models:\n",
    "\n",
    "* `demand_curve_v1.onnx`: Our demand_curve model.  We'll store the upload configuration into `demand_curve_model`.\n",
    "* `postprocess.py`: A Python step that will zero out any negative values and return the output variable as \"prediction\".\n",
    "\n",
    "Note that the order we upload our models isn't important - we'll be establishing the actual process of moving data from one model to the next when we set up our pipeline."
   ]
  },
  {
   "cell_type": "code",
   "execution_count": 184,
   "metadata": {},
   "outputs": [],
   "source": [
    "demand_curve_model = wl.upload_model(model_name, model_file_name, framework=wallaroo.framework.Framework.ONNX)\n",
    "\n",
    "preprocess_input_schema = pa.schema([\n",
    "    pa.field('Date', pa.string()),\n",
    "    pa.field('cust_known', pa.bool_()),\n",
    "    pa.field('StockCode', pa.int32()),\n",
    "    pa.field('UnitPrice', pa.float32()),\n",
    "    pa.field('UnitsSold', pa.int32())\n",
    "])\n",
    "\n",
    "preprocess_input_output = pa.schema([\n",
    "    pa.field('tensor', pa.list_(pa.float64()))\n",
    "])\n",
    "\n",
    "preprocess_step = (wl.upload_model('preprocess', \n",
    "                        './preprocess.py', \n",
    "                        framework=wallaroo.framework.Framework.PYTHON)\n",
    "                        .configure(\n",
    "                            'python', \n",
    "                            input_schema=preprocess_input_schema, \n",
    "                            output_schema=preprocess_input_output\n",
    "                        )\n",
    "        )\n",
    "\n",
    "input_schema = pa.schema([\n",
    "    pa.field('variable', pa.list_(pa.float64()))\n",
    "])\n",
    "\n",
    "\n",
    "output_schema = pa.schema([\n",
    "    pa.field('prediction', pa.list_(pa.float64()))\n",
    "])\n",
    "\n",
    "\n",
    "step = (wl.upload_model('postprocess', \n",
    "                        './postprocess.py', \n",
    "                        framework=wallaroo.framework.Framework.PYTHON)\n",
    "                        .configure(\n",
    "                            'python', \n",
    "                            input_schema=input_schema, \n",
    "                            output_schema=output_schema\n",
    "                        )\n",
    "        )"
   ]
  },
  {
   "attachments": {},
   "cell_type": "markdown",
   "metadata": {},
   "source": [
    "With our models uploaded, we're going to create our own pipeline and give it three steps:\n",
    "\n",
    "* First, we apply the data to our `demand_curve_model`.\n",
    "* And finally, we prepare our data for output with the `module_post`."
   ]
  },
  {
   "cell_type": "code",
   "execution_count": 185,
   "metadata": {},
   "outputs": [
    {
     "data": {
      "text/html": [
       "<table><tr><th>name</th> <td>demandcurvepipeline</td></tr><tr><th>created</th> <td>2023-09-01 19:35:46.308437+00:00</td></tr><tr><th>last_updated</th> <td>2023-09-06 19:27:27.106897+00:00</td></tr><tr><th>deployed</th> <td>False</td></tr><tr><th>tags</th> <td></td></tr><tr><th>versions</th> <td>78bc4874-1ee4-4d93-b6e5-76baa446f8bb, 2ea4da00-7521-4ffe-9e74-7b41a440021a, 0304ba8d-d1ff-47e6-acfc-b68454d09126, e4607e83-d2e1-4809-9047-a5f5d5d27468, 4d0da913-59fb-4e99-9d6b-1c18377ab34c, 9d5076cb-5752-43ab-af4f-4c904d06ba52, d06a9550-d693-445a-a6cd-b55635018c57, c95ee014-f431-4d8d-ab99-669fde88173d, bd0c6894-63bc-4cb9-b378-390640307a36, 4136fa8b-270e-49d6-836e-75f7c9c73def, 00a4fb64-302d-4a27-90ac-86e08fb6afe8, 94f0129f-f9c1-474a-89fa-7110c81c9a22, 701a759d-6d45-4d61-bfd0-b878d9a09fc3, 4a85b06f-9051-48ff-9f9e-6b6e4e4b8d68, 698c13e2-4120-4132-b72b-99cd8c0fdd99, 1314a1a4-eabc-437d-bf3f-83f54686970e</td></tr><tr><th>steps</th> <td>demandcurvemodel</td></tr><tr><th>published</th> <td>False</td></tr></table>"
      ],
      "text/plain": [
       "{'name': 'demandcurvepipeline', 'create_time': datetime.datetime(2023, 9, 1, 19, 35, 46, 308437, tzinfo=tzutc()), 'definition': \"[{'ModelInference': {'models': [{'name': 'preprocess', 'version': '0bcb667e-cac7-4f45-884c-56171667dcc4', 'sha': '3b2b32fb6408ccee5a1886ef5cdb493692080ff6699f49de518b20d9a6f6a133'}]}}, {'ModelInference': {'models': [{'name': 'demandcurvemodel', 'version': '02fd5dc1-cf10-4b09-bf9d-191ec19bbb5e', 'sha': '2820b42c9e778ae259918315f25afc8685ecab9967bad0a3d241e6191b414a0d'}]}}, {'ModelInference': {'models': [{'name': 'postprocess', 'version': 'ec9a3eea-2ada-4cf0-b9a7-bd5bc5eb927a', 'sha': 'ecf1a555bb27bcf62bfa42922cf69db23e7188f456015fe8299f02867c3167b2'}]}}]\"}"
      ]
     },
     "execution_count": 185,
     "metadata": {},
     "output_type": "execute_result"
    }
   ],
   "source": [
    "# now make a pipeline\n",
    "demandcurve_pipeline.clear()\n",
    "demandcurve_pipeline.add_model_step(preprocess_step)\n",
    "demandcurve_pipeline.add_model_step(demand_curve_model)\n",
    "demandcurve_pipeline.add_model_step(step)"
   ]
  },
  {
   "attachments": {},
   "cell_type": "markdown",
   "metadata": {},
   "source": [
    "And with that - let's deploy our model pipeline.  This usually takes about 45 seconds for the deployment to finish."
   ]
  },
  {
   "cell_type": "code",
   "execution_count": 186,
   "metadata": {},
   "outputs": [
    {
     "data": {
      "text/html": [
       "<table><tr><th>name</th> <td>demandcurvepipeline</td></tr><tr><th>created</th> <td>2023-09-01 19:35:46.308437+00:00</td></tr><tr><th>last_updated</th> <td>2023-09-06 19:29:49.915077+00:00</td></tr><tr><th>deployed</th> <td>True</td></tr><tr><th>tags</th> <td></td></tr><tr><th>versions</th> <td>bfbea1cf-0f56-46f8-9def-4fa8a4dcb0a6, 78bc4874-1ee4-4d93-b6e5-76baa446f8bb, 2ea4da00-7521-4ffe-9e74-7b41a440021a, 0304ba8d-d1ff-47e6-acfc-b68454d09126, e4607e83-d2e1-4809-9047-a5f5d5d27468, 4d0da913-59fb-4e99-9d6b-1c18377ab34c, 9d5076cb-5752-43ab-af4f-4c904d06ba52, d06a9550-d693-445a-a6cd-b55635018c57, c95ee014-f431-4d8d-ab99-669fde88173d, bd0c6894-63bc-4cb9-b378-390640307a36, 4136fa8b-270e-49d6-836e-75f7c9c73def, 00a4fb64-302d-4a27-90ac-86e08fb6afe8, 94f0129f-f9c1-474a-89fa-7110c81c9a22, 701a759d-6d45-4d61-bfd0-b878d9a09fc3, 4a85b06f-9051-48ff-9f9e-6b6e4e4b8d68, 698c13e2-4120-4132-b72b-99cd8c0fdd99, 1314a1a4-eabc-437d-bf3f-83f54686970e</td></tr><tr><th>steps</th> <td>demandcurvemodel</td></tr><tr><th>published</th> <td>False</td></tr></table>"
      ],
      "text/plain": [
       "{'name': 'demandcurvepipeline', 'create_time': datetime.datetime(2023, 9, 1, 19, 35, 46, 308437, tzinfo=tzutc()), 'definition': \"[{'ModelInference': {'models': [{'name': 'preprocess', 'version': '0bcb667e-cac7-4f45-884c-56171667dcc4', 'sha': '3b2b32fb6408ccee5a1886ef5cdb493692080ff6699f49de518b20d9a6f6a133'}]}}, {'ModelInference': {'models': [{'name': 'demandcurvemodel', 'version': '02fd5dc1-cf10-4b09-bf9d-191ec19bbb5e', 'sha': '2820b42c9e778ae259918315f25afc8685ecab9967bad0a3d241e6191b414a0d'}]}}, {'ModelInference': {'models': [{'name': 'postprocess', 'version': 'ec9a3eea-2ada-4cf0-b9a7-bd5bc5eb927a', 'sha': 'ecf1a555bb27bcf62bfa42922cf69db23e7188f456015fe8299f02867c3167b2'}]}}]\"}"
      ]
     },
     "execution_count": 186,
     "metadata": {},
     "output_type": "execute_result"
    }
   ],
   "source": [
    "deploy_config = wallaroo.DeploymentConfigBuilder().replica_count(1).cpus(1).memory(\"1Gi\").build()\n",
    "demandcurve_pipeline.deploy(deployment_config=deploy_config)"
   ]
  },
  {
   "attachments": {},
   "cell_type": "markdown",
   "metadata": {},
   "source": [
    "We can check the status of our pipeline to make sure everything was set up correctly:"
   ]
  },
  {
   "cell_type": "code",
   "execution_count": 187,
   "metadata": {},
   "outputs": [
    {
     "data": {
      "text/plain": [
       "{'status': 'Running',\n",
       " 'details': [],\n",
       " 'engines': [{'ip': '10.244.3.140',\n",
       "   'name': 'engine-d4fccd95c-cw5q7',\n",
       "   'status': 'Running',\n",
       "   'reason': None,\n",
       "   'details': [],\n",
       "   'pipeline_statuses': {'pipelines': [{'id': 'demandcurvepipeline',\n",
       "      'status': 'Running'}]},\n",
       "   'model_statuses': {'models': [{'name': 'postprocess',\n",
       "      'version': 'ec9a3eea-2ada-4cf0-b9a7-bd5bc5eb927a',\n",
       "      'sha': 'ecf1a555bb27bcf62bfa42922cf69db23e7188f456015fe8299f02867c3167b2',\n",
       "      'status': 'Running'},\n",
       "     {'name': 'demandcurvemodel',\n",
       "      'version': '02fd5dc1-cf10-4b09-bf9d-191ec19bbb5e',\n",
       "      'sha': '2820b42c9e778ae259918315f25afc8685ecab9967bad0a3d241e6191b414a0d',\n",
       "      'status': 'Running'},\n",
       "     {'name': 'preprocess',\n",
       "      'version': '0bcb667e-cac7-4f45-884c-56171667dcc4',\n",
       "      'sha': '3b2b32fb6408ccee5a1886ef5cdb493692080ff6699f49de518b20d9a6f6a133',\n",
       "      'status': 'Running'}]}}],\n",
       " 'engine_lbs': [{'ip': '10.244.4.163',\n",
       "   'name': 'engine-lb-584f54c899-9pdbj',\n",
       "   'status': 'Running',\n",
       "   'reason': None,\n",
       "   'details': []}],\n",
       " 'sidekicks': []}"
      ]
     },
     "execution_count": 187,
     "metadata": {},
     "output_type": "execute_result"
    }
   ],
   "source": [
    "demandcurve_pipeline.status()"
   ]
  },
  {
   "attachments": {},
   "cell_type": "markdown",
   "metadata": {},
   "source": [
    "Everything is ready.  Let's feed our pipeline some data.  We have some information prepared with the `daily_purchasses.csv` spreadsheet.  We'll start with just one row to make sure that everything is working correctly."
   ]
  },
  {
   "cell_type": "code",
   "execution_count": 188,
   "metadata": {},
   "outputs": [
    {
     "data": {
      "text/html": [
       "<div>\n",
       "<style scoped>\n",
       "    .dataframe tbody tr th:only-of-type {\n",
       "        vertical-align: middle;\n",
       "    }\n",
       "\n",
       "    .dataframe tbody tr th {\n",
       "        vertical-align: top;\n",
       "    }\n",
       "\n",
       "    .dataframe thead th {\n",
       "        text-align: right;\n",
       "    }\n",
       "</style>\n",
       "<table border=\"1\" class=\"dataframe\">\n",
       "  <thead>\n",
       "    <tr style=\"text-align: right;\">\n",
       "      <th></th>\n",
       "      <th>Date</th>\n",
       "      <th>cust_known</th>\n",
       "      <th>StockCode</th>\n",
       "      <th>UnitPrice</th>\n",
       "      <th>UnitsSold</th>\n",
       "    </tr>\n",
       "  </thead>\n",
       "  <tbody>\n",
       "    <tr>\n",
       "      <th>0</th>\n",
       "      <td>2010-12-01</td>\n",
       "      <td>False</td>\n",
       "      <td>21928</td>\n",
       "      <td>4.21</td>\n",
       "      <td>1</td>\n",
       "    </tr>\n",
       "  </tbody>\n",
       "</table>\n",
       "</div>"
      ],
      "text/plain": [
       "         Date  cust_known StockCode  UnitPrice  UnitsSold\n",
       "0  2010-12-01       False     21928       4.21          1"
      ]
     },
     "execution_count": 188,
     "metadata": {},
     "output_type": "execute_result"
    }
   ],
   "source": [
    "# read in some purchase data\n",
    "purchases = pandas.read_csv('daily_purchases.csv')\n",
    "\n",
    "# start with a one-row data frame for testing\n",
    "subsamp_raw = purchases.iloc[0:1,: ]\n",
    "subsamp_raw"
   ]
  },
  {
   "cell_type": "code",
   "execution_count": 189,
   "metadata": {},
   "outputs": [
    {
     "data": {
      "text/html": [
       "<div>\n",
       "<style scoped>\n",
       "    .dataframe tbody tr th:only-of-type {\n",
       "        vertical-align: middle;\n",
       "    }\n",
       "\n",
       "    .dataframe tbody tr th {\n",
       "        vertical-align: top;\n",
       "    }\n",
       "\n",
       "    .dataframe thead th {\n",
       "        text-align: right;\n",
       "    }\n",
       "</style>\n",
       "<table border=\"1\" class=\"dataframe\">\n",
       "  <thead>\n",
       "    <tr style=\"text-align: right;\">\n",
       "      <th></th>\n",
       "      <th>time</th>\n",
       "      <th>in.Date</th>\n",
       "      <th>in.StockCode</th>\n",
       "      <th>in.UnitPrice</th>\n",
       "      <th>in.UnitsSold</th>\n",
       "      <th>in.cust_known</th>\n",
       "      <th>out.prediction</th>\n",
       "      <th>check_failures</th>\n",
       "    </tr>\n",
       "  </thead>\n",
       "  <tbody>\n",
       "    <tr>\n",
       "      <th>0</th>\n",
       "      <td>2023-09-06 19:30:05.985</td>\n",
       "      <td>2010-12-01</td>\n",
       "      <td>21928</td>\n",
       "      <td>4.21</td>\n",
       "      <td>1</td>\n",
       "      <td>False</td>\n",
       "      <td>[6.68025518653071]</td>\n",
       "      <td>0</td>\n",
       "    </tr>\n",
       "  </tbody>\n",
       "</table>\n",
       "</div>"
      ],
      "text/plain": [
       "                     time     in.Date in.StockCode  in.UnitPrice  \\\n",
       "0 2023-09-06 19:30:05.985  2010-12-01        21928          4.21   \n",
       "\n",
       "   in.UnitsSold  in.cust_known      out.prediction  check_failures  \n",
       "0             1          False  [6.68025518653071]               0  "
      ]
     },
     "metadata": {},
     "output_type": "display_data"
    }
   ],
   "source": [
    "result = demandcurve_pipeline.infer(subsamp_raw)\n",
    "display(result)"
   ]
  },
  {
   "attachments": {},
   "cell_type": "markdown",
   "metadata": {},
   "source": [
    "We can see from the `out.prediction` field that the demand curve has a predicted slope of 6.68 from our sample data.  We can isolate that by specifying just the data output below."
   ]
  },
  {
   "cell_type": "code",
   "execution_count": 190,
   "metadata": {},
   "outputs": [
    {
     "data": {
      "text/plain": [
       "[6.68025518653071]"
      ]
     },
     "metadata": {},
     "output_type": "display_data"
    }
   ],
   "source": [
    "display(result.loc[0, ['out.prediction']][0])"
   ]
  },
  {
   "attachments": {},
   "cell_type": "markdown",
   "metadata": {},
   "source": [
    "# Bulk Inference"
   ]
  },
  {
   "attachments": {},
   "cell_type": "markdown",
   "metadata": {},
   "source": [
    "The initial test went perfectly.  Now let's throw some more data into our pipeline.  We'll draw 10 random rows from our spreadsheet, perform an inference from that, and then display the results and the logs showing the pipeline's actions."
   ]
  },
  {
   "cell_type": "code",
   "execution_count": 191,
   "metadata": {},
   "outputs": [
    {
     "data": {
      "text/html": [
       "<div>\n",
       "<style scoped>\n",
       "    .dataframe tbody tr th:only-of-type {\n",
       "        vertical-align: middle;\n",
       "    }\n",
       "\n",
       "    .dataframe tbody tr th {\n",
       "        vertical-align: top;\n",
       "    }\n",
       "\n",
       "    .dataframe thead th {\n",
       "        text-align: right;\n",
       "    }\n",
       "</style>\n",
       "<table border=\"1\" class=\"dataframe\">\n",
       "  <thead>\n",
       "    <tr style=\"text-align: right;\">\n",
       "      <th></th>\n",
       "      <th>Date</th>\n",
       "      <th>cust_known</th>\n",
       "      <th>StockCode</th>\n",
       "      <th>UnitPrice</th>\n",
       "      <th>UnitsSold</th>\n",
       "    </tr>\n",
       "  </thead>\n",
       "  <tbody>\n",
       "    <tr>\n",
       "      <th>0</th>\n",
       "      <td>2011-12-07</td>\n",
       "      <td>False</td>\n",
       "      <td>22411</td>\n",
       "      <td>4.13</td>\n",
       "      <td>10</td>\n",
       "    </tr>\n",
       "    <tr>\n",
       "      <th>1</th>\n",
       "      <td>2011-07-20</td>\n",
       "      <td>True</td>\n",
       "      <td>23203</td>\n",
       "      <td>1.79</td>\n",
       "      <td>100</td>\n",
       "    </tr>\n",
       "    <tr>\n",
       "      <th>2</th>\n",
       "      <td>2011-06-30</td>\n",
       "      <td>False</td>\n",
       "      <td>23200</td>\n",
       "      <td>4.13</td>\n",
       "      <td>1</td>\n",
       "    </tr>\n",
       "    <tr>\n",
       "      <th>3</th>\n",
       "      <td>2011-06-28</td>\n",
       "      <td>True</td>\n",
       "      <td>85099B</td>\n",
       "      <td>2.08</td>\n",
       "      <td>13</td>\n",
       "    </tr>\n",
       "    <tr>\n",
       "      <th>4</th>\n",
       "      <td>2011-10-09</td>\n",
       "      <td>True</td>\n",
       "      <td>85099B</td>\n",
       "      <td>2.08</td>\n",
       "      <td>22</td>\n",
       "    </tr>\n",
       "    <tr>\n",
       "      <th>5</th>\n",
       "      <td>2011-02-16</td>\n",
       "      <td>True</td>\n",
       "      <td>85099B</td>\n",
       "      <td>1.95</td>\n",
       "      <td>30</td>\n",
       "    </tr>\n",
       "    <tr>\n",
       "      <th>6</th>\n",
       "      <td>2011-09-02</td>\n",
       "      <td>False</td>\n",
       "      <td>21930</td>\n",
       "      <td>4.13</td>\n",
       "      <td>4</td>\n",
       "    </tr>\n",
       "    <tr>\n",
       "      <th>7</th>\n",
       "      <td>2011-01-14</td>\n",
       "      <td>False</td>\n",
       "      <td>85099F</td>\n",
       "      <td>4.13</td>\n",
       "      <td>1</td>\n",
       "    </tr>\n",
       "    <tr>\n",
       "      <th>8</th>\n",
       "      <td>2011-11-07</td>\n",
       "      <td>True</td>\n",
       "      <td>22385</td>\n",
       "      <td>2.08</td>\n",
       "      <td>21</td>\n",
       "    </tr>\n",
       "    <tr>\n",
       "      <th>9</th>\n",
       "      <td>2011-11-25</td>\n",
       "      <td>True</td>\n",
       "      <td>85099F</td>\n",
       "      <td>2.08</td>\n",
       "      <td>10</td>\n",
       "    </tr>\n",
       "  </tbody>\n",
       "</table>\n",
       "</div>"
      ],
      "text/plain": [
       "         Date  cust_known StockCode  UnitPrice  UnitsSold\n",
       "0  2011-12-07       False     22411       4.13         10\n",
       "1  2011-07-20        True     23203       1.79        100\n",
       "2  2011-06-30       False     23200       4.13          1\n",
       "3  2011-06-28        True    85099B       2.08         13\n",
       "4  2011-10-09        True    85099B       2.08         22\n",
       "5  2011-02-16        True    85099B       1.95         30\n",
       "6  2011-09-02       False     21930       4.13          4\n",
       "7  2011-01-14       False    85099F       4.13          1\n",
       "8  2011-11-07        True     22385       2.08         21\n",
       "9  2011-11-25        True    85099F       2.08         10"
      ]
     },
     "metadata": {},
     "output_type": "display_data"
    },
    {
     "data": {
      "text/html": [
       "<div>\n",
       "<style scoped>\n",
       "    .dataframe tbody tr th:only-of-type {\n",
       "        vertical-align: middle;\n",
       "    }\n",
       "\n",
       "    .dataframe tbody tr th {\n",
       "        vertical-align: top;\n",
       "    }\n",
       "\n",
       "    .dataframe thead th {\n",
       "        text-align: right;\n",
       "    }\n",
       "</style>\n",
       "<table border=\"1\" class=\"dataframe\">\n",
       "  <thead>\n",
       "    <tr style=\"text-align: right;\">\n",
       "      <th></th>\n",
       "      <th>time</th>\n",
       "      <th>in.Date</th>\n",
       "      <th>in.StockCode</th>\n",
       "      <th>in.UnitPrice</th>\n",
       "      <th>in.UnitsSold</th>\n",
       "      <th>in.cust_known</th>\n",
       "      <th>out.prediction</th>\n",
       "      <th>check_failures</th>\n",
       "    </tr>\n",
       "  </thead>\n",
       "  <tbody>\n",
       "    <tr>\n",
       "      <th>0</th>\n",
       "      <td>2023-09-06 19:30:06.440</td>\n",
       "      <td>2011-12-07</td>\n",
       "      <td>22411</td>\n",
       "      <td>4.13</td>\n",
       "      <td>10</td>\n",
       "      <td>False</td>\n",
       "      <td>[6.771545926800889]</td>\n",
       "      <td>0</td>\n",
       "    </tr>\n",
       "    <tr>\n",
       "      <th>1</th>\n",
       "      <td>2023-09-06 19:30:06.440</td>\n",
       "      <td>2011-07-20</td>\n",
       "      <td>23203</td>\n",
       "      <td>1.79</td>\n",
       "      <td>100</td>\n",
       "      <td>True</td>\n",
       "      <td>[49.73419363867448]</td>\n",
       "      <td>0</td>\n",
       "    </tr>\n",
       "    <tr>\n",
       "      <th>2</th>\n",
       "      <td>2023-09-06 19:30:06.440</td>\n",
       "      <td>2011-06-30</td>\n",
       "      <td>23200</td>\n",
       "      <td>4.13</td>\n",
       "      <td>1</td>\n",
       "      <td>False</td>\n",
       "      <td>[6.771545926800889]</td>\n",
       "      <td>0</td>\n",
       "    </tr>\n",
       "    <tr>\n",
       "      <th>3</th>\n",
       "      <td>2023-09-06 19:30:06.440</td>\n",
       "      <td>2011-06-28</td>\n",
       "      <td>85099B</td>\n",
       "      <td>2.08</td>\n",
       "      <td>13</td>\n",
       "      <td>True</td>\n",
       "      <td>[33.125323160373426]</td>\n",
       "      <td>0</td>\n",
       "    </tr>\n",
       "    <tr>\n",
       "      <th>4</th>\n",
       "      <td>2023-09-06 19:30:06.440</td>\n",
       "      <td>2011-10-09</td>\n",
       "      <td>85099B</td>\n",
       "      <td>2.08</td>\n",
       "      <td>22</td>\n",
       "      <td>True</td>\n",
       "      <td>[33.125323160373426]</td>\n",
       "      <td>0</td>\n",
       "    </tr>\n",
       "    <tr>\n",
       "      <th>5</th>\n",
       "      <td>2023-09-06 19:30:06.440</td>\n",
       "      <td>2011-02-16</td>\n",
       "      <td>85099B</td>\n",
       "      <td>1.95</td>\n",
       "      <td>30</td>\n",
       "      <td>True</td>\n",
       "      <td>[40.57067889202562]</td>\n",
       "      <td>0</td>\n",
       "    </tr>\n",
       "    <tr>\n",
       "      <th>6</th>\n",
       "      <td>2023-09-06 19:30:06.440</td>\n",
       "      <td>2011-09-02</td>\n",
       "      <td>21930</td>\n",
       "      <td>4.13</td>\n",
       "      <td>4</td>\n",
       "      <td>False</td>\n",
       "      <td>[6.771545926800889]</td>\n",
       "      <td>0</td>\n",
       "    </tr>\n",
       "    <tr>\n",
       "      <th>7</th>\n",
       "      <td>2023-09-06 19:30:06.440</td>\n",
       "      <td>2011-01-14</td>\n",
       "      <td>85099F</td>\n",
       "      <td>4.13</td>\n",
       "      <td>1</td>\n",
       "      <td>False</td>\n",
       "      <td>[6.771545926800889]</td>\n",
       "      <td>0</td>\n",
       "    </tr>\n",
       "    <tr>\n",
       "      <th>8</th>\n",
       "      <td>2023-09-06 19:30:06.440</td>\n",
       "      <td>2011-11-07</td>\n",
       "      <td>22385</td>\n",
       "      <td>2.08</td>\n",
       "      <td>21</td>\n",
       "      <td>True</td>\n",
       "      <td>[33.125323160373426]</td>\n",
       "      <td>0</td>\n",
       "    </tr>\n",
       "    <tr>\n",
       "      <th>9</th>\n",
       "      <td>2023-09-06 19:30:06.440</td>\n",
       "      <td>2011-11-25</td>\n",
       "      <td>85099F</td>\n",
       "      <td>2.08</td>\n",
       "      <td>10</td>\n",
       "      <td>True</td>\n",
       "      <td>[33.125323160373426]</td>\n",
       "      <td>0</td>\n",
       "    </tr>\n",
       "  </tbody>\n",
       "</table>\n",
       "</div>"
      ],
      "text/plain": [
       "                     time     in.Date in.StockCode  in.UnitPrice  \\\n",
       "0 2023-09-06 19:30:06.440  2011-12-07        22411          4.13   \n",
       "1 2023-09-06 19:30:06.440  2011-07-20        23203          1.79   \n",
       "2 2023-09-06 19:30:06.440  2011-06-30        23200          4.13   \n",
       "3 2023-09-06 19:30:06.440  2011-06-28       85099B          2.08   \n",
       "4 2023-09-06 19:30:06.440  2011-10-09       85099B          2.08   \n",
       "5 2023-09-06 19:30:06.440  2011-02-16       85099B          1.95   \n",
       "6 2023-09-06 19:30:06.440  2011-09-02        21930          4.13   \n",
       "7 2023-09-06 19:30:06.440  2011-01-14       85099F          4.13   \n",
       "8 2023-09-06 19:30:06.440  2011-11-07        22385          2.08   \n",
       "9 2023-09-06 19:30:06.440  2011-11-25       85099F          2.08   \n",
       "\n",
       "   in.UnitsSold  in.cust_known        out.prediction  check_failures  \n",
       "0            10          False   [6.771545926800889]               0  \n",
       "1           100           True   [49.73419363867448]               0  \n",
       "2             1          False   [6.771545926800889]               0  \n",
       "3            13           True  [33.125323160373426]               0  \n",
       "4            22           True  [33.125323160373426]               0  \n",
       "5            30           True   [40.57067889202562]               0  \n",
       "6             4          False   [6.771545926800889]               0  \n",
       "7             1          False   [6.771545926800889]               0  \n",
       "8            21           True  [33.125323160373426]               0  \n",
       "9            10           True  [33.125323160373426]               0  "
      ]
     },
     "metadata": {},
     "output_type": "display_data"
    }
   ],
   "source": [
    "ix = numpy.random.choice(purchases.shape[0], size=10, replace=False)\n",
    "converted = conversion.pandas_to_dict(purchases.iloc[ix,: ])\n",
    "test_df = pd.DataFrame(converted['query'], columns=converted['colnames'])\n",
    "display(test_df)\n",
    "\n",
    "output = demandcurve_pipeline.infer(test_df)\n",
    "display(output)"
   ]
  },
  {
   "attachments": {},
   "cell_type": "markdown",
   "metadata": {},
   "source": [
    "## Undeploy the Pipeline\n",
    "\n",
    "Once we've finished with our demand curve demo, we'll undeploy the pipeline and give the resources back to our Kubernetes cluster."
   ]
  },
  {
   "cell_type": "code",
   "execution_count": 192,
   "metadata": {},
   "outputs": [
    {
     "data": {
      "text/html": [
       "<table><tr><th>name</th> <td>demandcurvepipeline</td></tr><tr><th>created</th> <td>2023-09-01 19:35:46.308437+00:00</td></tr><tr><th>last_updated</th> <td>2023-09-06 19:29:49.915077+00:00</td></tr><tr><th>deployed</th> <td>False</td></tr><tr><th>tags</th> <td></td></tr><tr><th>versions</th> <td>bfbea1cf-0f56-46f8-9def-4fa8a4dcb0a6, 78bc4874-1ee4-4d93-b6e5-76baa446f8bb, 2ea4da00-7521-4ffe-9e74-7b41a440021a, 0304ba8d-d1ff-47e6-acfc-b68454d09126, e4607e83-d2e1-4809-9047-a5f5d5d27468, 4d0da913-59fb-4e99-9d6b-1c18377ab34c, 9d5076cb-5752-43ab-af4f-4c904d06ba52, d06a9550-d693-445a-a6cd-b55635018c57, c95ee014-f431-4d8d-ab99-669fde88173d, bd0c6894-63bc-4cb9-b378-390640307a36, 4136fa8b-270e-49d6-836e-75f7c9c73def, 00a4fb64-302d-4a27-90ac-86e08fb6afe8, 94f0129f-f9c1-474a-89fa-7110c81c9a22, 701a759d-6d45-4d61-bfd0-b878d9a09fc3, 4a85b06f-9051-48ff-9f9e-6b6e4e4b8d68, 698c13e2-4120-4132-b72b-99cd8c0fdd99, 1314a1a4-eabc-437d-bf3f-83f54686970e</td></tr><tr><th>steps</th> <td>demandcurvemodel</td></tr><tr><th>published</th> <td>False</td></tr></table>"
      ],
      "text/plain": [
       "{'name': 'demandcurvepipeline', 'create_time': datetime.datetime(2023, 9, 1, 19, 35, 46, 308437, tzinfo=tzutc()), 'definition': \"[{'ModelInference': {'models': [{'name': 'preprocess', 'version': '0bcb667e-cac7-4f45-884c-56171667dcc4', 'sha': '3b2b32fb6408ccee5a1886ef5cdb493692080ff6699f49de518b20d9a6f6a133'}]}}, {'ModelInference': {'models': [{'name': 'demandcurvemodel', 'version': '02fd5dc1-cf10-4b09-bf9d-191ec19bbb5e', 'sha': '2820b42c9e778ae259918315f25afc8685ecab9967bad0a3d241e6191b414a0d'}]}}, {'ModelInference': {'models': [{'name': 'postprocess', 'version': 'ec9a3eea-2ada-4cf0-b9a7-bd5bc5eb927a', 'sha': 'ecf1a555bb27bcf62bfa42922cf69db23e7188f456015fe8299f02867c3167b2'}]}}]\"}"
      ]
     },
     "execution_count": 192,
     "metadata": {},
     "output_type": "execute_result"
    }
   ],
   "source": [
    "demandcurve_pipeline.undeploy()"
   ]
  },
  {
   "attachments": {},
   "cell_type": "markdown",
   "metadata": {},
   "source": [
    "Thank you for being a part of this demonstration.  If you have additional questions, please feel free to contact us at Wallaroo."
   ]
  }
 ],
 "metadata": {
  "kernelspec": {
   "display_name": "Python 3 (ipykernel)",
   "language": "python",
   "name": "python3"
  },
  "language_info": {
   "codemirror_mode": {
    "name": "ipython",
    "version": 3
   },
   "file_extension": ".py",
   "mimetype": "text/x-python",
   "name": "python",
   "nbconvert_exporter": "python",
   "pygments_lexer": "ipython3",
   "version": "3.8.17"
  },
  "vscode": {
   "interpreter": {
    "hash": "7dda4bf3640b7fafcd1648658b879b4cc9f6ba6084e8fb356fdaaa1a461d1690"
   }
  }
 },
 "nbformat": 4,
 "nbformat_minor": 4
}
