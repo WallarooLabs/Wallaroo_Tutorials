{
 "cells": [
  {
   "attachments": {},
   "cell_type": "markdown",
   "metadata": {},
   "source": [
    "This tutorial and the assets can be downloaded as part of the [Wallaroo Tutorials repository](https://github.com/WallarooLabs/Wallaroo_Tutorials/tree/main/wallaroo-model-cookbooks/demand_curve).\n",
    "\n",
    "## Demand Curve Pipeline Tutorial\n",
    "\n",
    "This worksheet demonstrates a Wallaroo pipeline with data preprocessing, a model, and data postprocessing.\n",
    "\n",
    "The model is a \"demand curve\" that predicts the expected number of units of a product that will be sold to a customer as a function of unit price and facts about the customer. Such models can be used for price optimization or sales volume forecasting.  This is purely a \"toy\" demonstration, but is useful for detailing the process of working with models and pipelines.\n",
    "\n",
    "Data preprocessing is required to create the features used by the model. Simple postprocessing prevents nonsensical estimates (e.g. negative units sold).\n",
    "\n",
    "## Prerequisites\n",
    "\n",
    "* An installed Wallaroo instance.\n",
    "* The following Python libraries installed:\n",
    "  * `os`\n",
    "  * [`wallaroo`](https://pypi.org/project/wallaroo/): The Wallaroo SDK. Included with the Wallaroo JupyterHub service by default."
   ]
  },
  {
   "attachments": {},
   "cell_type": "markdown",
   "metadata": {},
   "source": [
    "### Connect to the Wallaroo Instance\n",
    "\n",
    "The first step is to connect to Wallaroo through the Wallaroo client.  The Python library is included in the Wallaroo install and available through the Jupyter Hub interface provided with your Wallaroo environment.\n",
    "\n",
    "This is accomplished using the `wallaroo.Client()` command, which provides a URL to grant the SDK permission to your specific Wallaroo environment.  When displayed, enter the URL into a browser and confirm permissions.  Store the connection into a variable that can be referenced later.\n",
    "\n",
    "If logging into the Wallaroo instance through the internal JupyterHub service, use `wl = wallaroo.Client()`.  If logging in externally, update the `wallarooPrefix` and `wallarooSuffix` variables with the proper DNS information.  For more information on Wallaroo DNS settings, see the [Wallaroo DNS Integration Guide](https://docs.wallaroo.ai/wallaroo-operations-guide/wallaroo-configuration/wallaroo-dns-guide/)."
   ]
  },
  {
   "cell_type": "code",
   "execution_count": 1,
   "metadata": {},
   "outputs": [],
   "source": [
    "import json\n",
    "import wallaroo\n",
    "from wallaroo.object import EntityNotFoundError\n",
    "import pandas\n",
    "import numpy\n",
    "import conversion\n",
    "from wallaroo.object import EntityNotFoundError\n",
    "\n",
    "# used to display dataframe information without truncating\n",
    "from IPython.display import display\n",
    "import pandas as pd\n",
    "pd.set_option('display.max_colwidth', None)\n",
    "\n",
    "\n",
    "import os\n",
    "# For Wallaroo SDK 2023.1\n",
    "os.environ[\"ARROW_ENABLED\"]=\"True\""
   ]
  },
  {
   "cell_type": "code",
   "execution_count": 2,
   "metadata": {},
   "outputs": [
    {
     "name": "stdout",
     "output_type": "stream",
     "text": [
      "Please log into the following URL in a web browser:\n",
      "\n",
      "\thttps://sparkly-apple-3026.keycloak.wallaroo.community/auth/realms/master/device?user_code=VLUB-CAUH\n",
      "\n",
      "Login successful!\n"
     ]
    }
   ],
   "source": [
    "# Login through local Wallaroo instance\n",
    "\n",
    "wl = wallaroo.Client()"
   ]
  },
  {
   "attachments": {},
   "cell_type": "markdown",
   "metadata": {},
   "source": [
    "Now that the Wallaroo client has been initialized, we can create the workspace and call it `demandcurveworkspace`, then set it as our current workspace.  We'll also create our pipeline so it's ready when we add our models to it."
   ]
  },
  {
   "attachments": {},
   "cell_type": "markdown",
   "metadata": {},
   "source": [
    "We'll set some variables and methods to create our workspace, pipelines and models.  Note that as of the July 2022 release of Wallaroo, workspace names must be unique.  Pipelines with the same name will be created as a new version when built."
   ]
  },
  {
   "cell_type": "code",
   "execution_count": 3,
   "metadata": {},
   "outputs": [],
   "source": [
    "workspace_name = 'demandcurveworkspace'\n",
    "pipeline_name = 'demandcurvepipeline'\n",
    "model_name = 'demandcurvemodel'\n",
    "model_file_name = './demand_curve_v1.onnx'"
   ]
  },
  {
   "cell_type": "code",
   "execution_count": 4,
   "metadata": {},
   "outputs": [],
   "source": [
    "def get_workspace(name):\n",
    "    workspace = None\n",
    "    for ws in wl.list_workspaces():\n",
    "        if ws.name() == name:\n",
    "            workspace= ws\n",
    "    if(workspace == None):\n",
    "        workspace = wl.create_workspace(name)\n",
    "    return workspace\n",
    "\n",
    "def get_pipeline(name):\n",
    "    try:\n",
    "        pipeline = wl.pipelines_by_name(name)[0]\n",
    "    except EntityNotFoundError:\n",
    "        pipeline = wl.build_pipeline(name)\n",
    "    return pipeline"
   ]
  },
  {
   "cell_type": "code",
   "execution_count": 5,
   "metadata": {},
   "outputs": [
    {
     "data": {
      "text/html": [
       "<table><tr><th>name</th> <td>demandcurvepipeline</td></tr><tr><th>created</th> <td>2023-05-02 16:32:24.366227+00:00</td></tr><tr><th>last_updated</th> <td>2023-05-02 16:34:01.548630+00:00</td></tr><tr><th>deployed</th> <td>False</td></tr><tr><th>tags</th> <td></td></tr><tr><th>versions</th> <td>7304f84f-2648-480e-b5a0-1d74f38600ac, efbce681-280e-4378-b2e1-7be0be8a2032, 1ddc2deb-bfc8-48b1-b6d1-615958a492dd, 92501cc7-7f9a-4e6b-816c-0b8cd9e98779</td></tr><tr><th>steps</th> <td>preprocess</td></tr></table>"
      ],
      "text/plain": [
       "{'name': 'demandcurvepipeline', 'create_time': datetime.datetime(2023, 5, 2, 16, 32, 24, 366227, tzinfo=tzutc()), 'definition': '[]'}"
      ]
     },
     "execution_count": 5,
     "metadata": {},
     "output_type": "execute_result"
    }
   ],
   "source": [
    "workspace = get_workspace(workspace_name)\n",
    "\n",
    "wl.set_current_workspace(workspace)\n",
    "\n",
    "demandcurve_pipeline = get_pipeline(pipeline_name)\n",
    "demandcurve_pipeline"
   ]
  },
  {
   "attachments": {},
   "cell_type": "markdown",
   "metadata": {},
   "source": [
    "With our workspace established, we'll upload three models:\n",
    "\n",
    "* `demand_curve_v1.onnx`: Our demand_curve model.  We'll store the upload configuration into `demand_curve_model`.\n",
    "* `preprocess`:  Takes the data and prepares it for the demand curve model.  We'll store the upload configuration into `module_pre`.\n",
    "* `postprocess`:  Takes the results from our demand curve model and prepares it for our display.  We'll store the upload configuration into `module_post`.\n",
    "\n",
    "Note that the order we upload our models isn't important - we'll be establishing the actual process of moving data from one model to the next when we set up our pipeline."
   ]
  },
  {
   "cell_type": "code",
   "execution_count": 6,
   "metadata": {},
   "outputs": [],
   "source": [
    "# upload to wallaroo\n",
    "demand_curve_model = wl.upload_model(model_name, model_file_name).configure()"
   ]
  },
  {
   "cell_type": "code",
   "execution_count": 7,
   "metadata": {},
   "outputs": [],
   "source": [
    "# load the preprocess module\n",
    "module_pre = wl.upload_model(\"preprocess\", \"./preprocess.py\").configure('python')"
   ]
  },
  {
   "cell_type": "code",
   "execution_count": 8,
   "metadata": {},
   "outputs": [],
   "source": [
    "# load the postprocess module\n",
    "module_post = wl.upload_model(\"postprocess\", \"./postprocess.py\").configure('python')"
   ]
  },
  {
   "attachments": {},
   "cell_type": "markdown",
   "metadata": {},
   "source": [
    "With our models uploaded, we're going to create our own pipeline and give it three steps:\n",
    "\n",
    "* First, start with the preprocess module we called `module_pre` to prepare the data.\n",
    "* Second, we apply the data to our `demand_curve_model`.\n",
    "* And finally, we prepare our data for output with the `module_post`."
   ]
  },
  {
   "cell_type": "code",
   "execution_count": 9,
   "metadata": {},
   "outputs": [
    {
     "data": {
      "text/html": [
       "<table><tr><th>name</th> <td>demandcurvepipeline</td></tr><tr><th>created</th> <td>2023-05-02 16:32:24.366227+00:00</td></tr><tr><th>last_updated</th> <td>2023-05-02 16:34:01.548630+00:00</td></tr><tr><th>deployed</th> <td>False</td></tr><tr><th>tags</th> <td></td></tr><tr><th>versions</th> <td>7304f84f-2648-480e-b5a0-1d74f38600ac, efbce681-280e-4378-b2e1-7be0be8a2032, 1ddc2deb-bfc8-48b1-b6d1-615958a492dd, 92501cc7-7f9a-4e6b-816c-0b8cd9e98779</td></tr><tr><th>steps</th> <td>preprocess</td></tr></table>"
      ],
      "text/plain": [
       "{'name': 'demandcurvepipeline', 'create_time': datetime.datetime(2023, 5, 2, 16, 32, 24, 366227, tzinfo=tzutc()), 'definition': \"[{'ModelInference': {'models': [{'name': 'preprocess', 'version': '5b89b6b7-049a-4e1d-bbda-c90ab2d2c6c2', 'sha': '1d0090808e807ccb20422e77e59d4d38e3cc39fae5ce115032e68a855a5a62c0'}]}}, {'ModelInference': {'models': [{'name': 'demandcurvemodel', 'version': '3877c4c5-a073-44ef-8491-329328161dad', 'sha': '2820b42c9e778ae259918315f25afc8685ecab9967bad0a3d241e6191b414a0d'}]}}, {'ModelInference': {'models': [{'name': 'postprocess', 'version': 'e915b0f5-daa4-4b03-90b7-716d5895bec1', 'sha': '882d47c2fa94e2d2cc7cbdc350a86706d32a98ad1ad9fe55d878c0727444d488'}]}}]\"}"
      ]
     },
     "execution_count": 9,
     "metadata": {},
     "output_type": "execute_result"
    }
   ],
   "source": [
    "# now make a pipeline\n",
    "demandcurve_pipeline.clear()\n",
    "demandcurve_pipeline.add_model_step(module_pre)\n",
    "demandcurve_pipeline.add_model_step(demand_curve_model)\n",
    "demandcurve_pipeline.add_model_step(module_post)"
   ]
  },
  {
   "attachments": {},
   "cell_type": "markdown",
   "metadata": {},
   "source": [
    "And with that - let's deploy our model pipeline.  This usually takes about 45 seconds for the deployment to finish."
   ]
  },
  {
   "cell_type": "code",
   "execution_count": 10,
   "metadata": {},
   "outputs": [
    {
     "data": {
      "text/html": [
       "<table><tr><th>name</th> <td>demandcurvepipeline</td></tr><tr><th>created</th> <td>2023-05-02 16:32:24.366227+00:00</td></tr><tr><th>last_updated</th> <td>2023-05-02 16:37:33.045925+00:00</td></tr><tr><th>deployed</th> <td>True</td></tr><tr><th>tags</th> <td></td></tr><tr><th>versions</th> <td>073e37b7-3859-4196-8247-e93efd534a8e, 7304f84f-2648-480e-b5a0-1d74f38600ac, efbce681-280e-4378-b2e1-7be0be8a2032, 1ddc2deb-bfc8-48b1-b6d1-615958a492dd, 92501cc7-7f9a-4e6b-816c-0b8cd9e98779</td></tr><tr><th>steps</th> <td>preprocess</td></tr></table>"
      ],
      "text/plain": [
       "{'name': 'demandcurvepipeline', 'create_time': datetime.datetime(2023, 5, 2, 16, 32, 24, 366227, tzinfo=tzutc()), 'definition': \"[{'ModelInference': {'models': [{'name': 'preprocess', 'version': '5b89b6b7-049a-4e1d-bbda-c90ab2d2c6c2', 'sha': '1d0090808e807ccb20422e77e59d4d38e3cc39fae5ce115032e68a855a5a62c0'}]}}, {'ModelInference': {'models': [{'name': 'demandcurvemodel', 'version': '3877c4c5-a073-44ef-8491-329328161dad', 'sha': '2820b42c9e778ae259918315f25afc8685ecab9967bad0a3d241e6191b414a0d'}]}}, {'ModelInference': {'models': [{'name': 'postprocess', 'version': 'e915b0f5-daa4-4b03-90b7-716d5895bec1', 'sha': '882d47c2fa94e2d2cc7cbdc350a86706d32a98ad1ad9fe55d878c0727444d488'}]}}]\"}"
      ]
     },
     "execution_count": 10,
     "metadata": {},
     "output_type": "execute_result"
    }
   ],
   "source": [
    "demandcurve_pipeline.deploy()"
   ]
  },
  {
   "attachments": {},
   "cell_type": "markdown",
   "metadata": {},
   "source": [
    "We can check the status of our pipeline to make sure everything was set up correctly:"
   ]
  },
  {
   "cell_type": "code",
   "execution_count": 11,
   "metadata": {},
   "outputs": [
    {
     "data": {
      "text/plain": [
       "{'status': 'Running',\n",
       " 'details': [],\n",
       " 'engines': [{'ip': '10.48.4.176',\n",
       "   'name': 'engine-6cbf6cdb68-kqpbm',\n",
       "   'status': 'Running',\n",
       "   'reason': None,\n",
       "   'details': [],\n",
       "   'pipeline_statuses': {'pipelines': [{'id': 'demandcurvepipeline',\n",
       "      'status': 'Running'}]},\n",
       "   'model_statuses': {'models': [{'name': 'postprocess',\n",
       "      'version': 'e915b0f5-daa4-4b03-90b7-716d5895bec1',\n",
       "      'sha': '882d47c2fa94e2d2cc7cbdc350a86706d32a98ad1ad9fe55d878c0727444d488',\n",
       "      'status': 'Running'},\n",
       "     {'name': 'preprocess',\n",
       "      'version': '5b89b6b7-049a-4e1d-bbda-c90ab2d2c6c2',\n",
       "      'sha': '1d0090808e807ccb20422e77e59d4d38e3cc39fae5ce115032e68a855a5a62c0',\n",
       "      'status': 'Running'},\n",
       "     {'name': 'demandcurvemodel',\n",
       "      'version': '3877c4c5-a073-44ef-8491-329328161dad',\n",
       "      'sha': '2820b42c9e778ae259918315f25afc8685ecab9967bad0a3d241e6191b414a0d',\n",
       "      'status': 'Running'}]}}],\n",
       " 'engine_lbs': [{'ip': '10.48.4.175',\n",
       "   'name': 'engine-lb-86bc6bd77b-tmxv4',\n",
       "   'status': 'Running',\n",
       "   'reason': None,\n",
       "   'details': []}],\n",
       " 'sidekicks': []}"
      ]
     },
     "execution_count": 11,
     "metadata": {},
     "output_type": "execute_result"
    }
   ],
   "source": [
    "demandcurve_pipeline.status()"
   ]
  },
  {
   "attachments": {},
   "cell_type": "markdown",
   "metadata": {},
   "source": [
    "Everything is ready.  Let's feed our pipeline some data.  We have some information prepared with the `daily_purchasses.csv` spreadsheet.  We'll start with just one row to make sure that everything is working correctly."
   ]
  },
  {
   "cell_type": "code",
   "execution_count": 12,
   "metadata": {},
   "outputs": [],
   "source": [
    "# read in some purchase data\n",
    "purchases = pandas.read_csv('daily_purchases.csv')\n",
    "\n",
    "# start with a one-row data frame for testing\n",
    "subsamp_raw = purchases.iloc[0:1,: ]\n",
    "subsamp_raw\n",
    "\n",
    "# create the input dictionary from the original one-line dataframe\n",
    "input_dict = conversion.pandas_to_dict(subsamp_raw)"
   ]
  },
  {
   "cell_type": "code",
   "execution_count": 13,
   "metadata": {},
   "outputs": [],
   "source": [
    "result = demandcurve_pipeline.infer(input_dict)"
   ]
  },
  {
   "attachments": {},
   "cell_type": "markdown",
   "metadata": {},
   "source": [
    "We can see from the `prediction` field that the demand curve has a predicted slope of 6.68 from our sample data.  We can isolate that by specifying just the data output below."
   ]
  },
  {
   "cell_type": "code",
   "execution_count": 14,
   "metadata": {},
   "outputs": [
    {
     "data": {
      "text/plain": [
       "[6.68025518653071]"
      ]
     },
     "metadata": {},
     "output_type": "display_data"
    }
   ],
   "source": [
    "display(result[0]['prediction'])"
   ]
  },
  {
   "attachments": {},
   "cell_type": "markdown",
   "metadata": {},
   "source": [
    "# Bulk Inference"
   ]
  },
  {
   "attachments": {},
   "cell_type": "markdown",
   "metadata": {},
   "source": [
    "The initial test went perfectly.  Now let's throw some more data into our pipeline.  We'll draw 10 random rows from our spreadsheet, perform an inference from that, and then display the results and the logs showing the pipeline's actions."
   ]
  },
  {
   "cell_type": "code",
   "execution_count": 15,
   "metadata": {},
   "outputs": [],
   "source": [
    "# Let's do 10 rows at once (drawn randomly)\n",
    "ix = numpy.random.choice(purchases.shape[0], size=10, replace=False)\n",
    "output = demandcurve_pipeline.infer(conversion.pandas_to_dict(purchases.iloc[ix,: ]))"
   ]
  },
  {
   "cell_type": "code",
   "execution_count": 16,
   "metadata": {},
   "outputs": [
    {
     "data": {
      "text/plain": [
       "[40.57067889202563,\n",
       " 0.0,\n",
       " 0.0,\n",
       " 33.125323160373426,\n",
       " 33.125323160373426,\n",
       " 33.125323160373426,\n",
       " 40.57067889202563,\n",
       " 33.125323160373426,\n",
       " 6.771545926800889,\n",
       " 6.771545926800889]"
      ]
     },
     "metadata": {},
     "output_type": "display_data"
    }
   ],
   "source": [
    "display(output[0]['prediction'])"
   ]
  },
  {
   "attachments": {},
   "cell_type": "markdown",
   "metadata": {},
   "source": [
    "## Undeploy the Pipeline\n",
    "\n",
    "Once we've finished with our demand curve demo, we'll undeploy the pipeline and give the resources back to our Kubernetes cluster."
   ]
  },
  {
   "cell_type": "code",
   "execution_count": 17,
   "metadata": {},
   "outputs": [
    {
     "data": {
      "text/html": [
       "<table><tr><th>name</th> <td>demandcurvepipeline</td></tr><tr><th>created</th> <td>2023-05-02 16:32:24.366227+00:00</td></tr><tr><th>last_updated</th> <td>2023-05-02 16:37:33.045925+00:00</td></tr><tr><th>deployed</th> <td>False</td></tr><tr><th>tags</th> <td></td></tr><tr><th>versions</th> <td>073e37b7-3859-4196-8247-e93efd534a8e, 7304f84f-2648-480e-b5a0-1d74f38600ac, efbce681-280e-4378-b2e1-7be0be8a2032, 1ddc2deb-bfc8-48b1-b6d1-615958a492dd, 92501cc7-7f9a-4e6b-816c-0b8cd9e98779</td></tr><tr><th>steps</th> <td>preprocess</td></tr></table>"
      ],
      "text/plain": [
       "{'name': 'demandcurvepipeline', 'create_time': datetime.datetime(2023, 5, 2, 16, 32, 24, 366227, tzinfo=tzutc()), 'definition': \"[{'ModelInference': {'models': [{'name': 'preprocess', 'version': '5b89b6b7-049a-4e1d-bbda-c90ab2d2c6c2', 'sha': '1d0090808e807ccb20422e77e59d4d38e3cc39fae5ce115032e68a855a5a62c0'}]}}, {'ModelInference': {'models': [{'name': 'demandcurvemodel', 'version': '3877c4c5-a073-44ef-8491-329328161dad', 'sha': '2820b42c9e778ae259918315f25afc8685ecab9967bad0a3d241e6191b414a0d'}]}}, {'ModelInference': {'models': [{'name': 'postprocess', 'version': 'e915b0f5-daa4-4b03-90b7-716d5895bec1', 'sha': '882d47c2fa94e2d2cc7cbdc350a86706d32a98ad1ad9fe55d878c0727444d488'}]}}]\"}"
      ]
     },
     "execution_count": 17,
     "metadata": {},
     "output_type": "execute_result"
    }
   ],
   "source": [
    "demandcurve_pipeline.undeploy()"
   ]
  },
  {
   "attachments": {},
   "cell_type": "markdown",
   "metadata": {},
   "source": [
    "Thank you for being a part of this demonstration.  If you have additional questions, please feel free to contact us at Wallaroo."
   ]
  }
 ],
 "metadata": {
  "kernelspec": {
   "display_name": "Python 3 (ipykernel)",
   "language": "python",
   "name": "python3"
  },
  "language_info": {
   "codemirror_mode": {
    "name": "ipython",
    "version": 3
   },
   "file_extension": ".py",
   "mimetype": "text/x-python",
   "name": "python",
   "nbconvert_exporter": "python",
   "pygments_lexer": "ipython3",
   "version": "3.9.16"
  },
  "vscode": {
   "interpreter": {
    "hash": "7dda4bf3640b7fafcd1648658b879b4cc9f6ba6084e8fb356fdaaa1a461d1690"
   }
  }
 },
 "nbformat": 4,
 "nbformat_minor": 4
}
