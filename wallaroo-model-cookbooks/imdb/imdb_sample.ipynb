{
 "cells": [
  {
   "attachments": {},
   "cell_type": "markdown",
   "metadata": {},
   "source": [
    "This tutorial and the assets can be downloaded as part of the [Wallaroo Tutorials repository](https://github.com/WallarooLabs/Wallaroo_Tutorials/tree/main/wallaroo-model-cookbooks/IMDB).\n",
    "\n",
    "## IMDB Sample\n",
    "\n",
    "The following example demonstrates how to use Wallaroo with chained models.  In this example, we will be using information from the IMDB (Internet Movie DataBase) with a sentiment model to detect whether a given review is positive or negative.  Imagine using this to automatically scan Tweets regarding your product and finding either customers who need help or have nice things to say about your product.\n",
    "\n",
    "Note that this example is considered a \"toy\" model - only the first 100 words in the review were tokenized, and the embedding is very small.\n",
    "\n",
    "The following example is based on the [Large Movie Review Dataset](https://ai.stanford.edu/~amaas/data/sentiment/), and sample data can be downloaded from the [aclIMDB dataset](http://s3.amazonaws.com/text-datasets/aclImdb.zip ).\n",
    "\n",
    "## Prerequisites\n",
    "\n",
    "* An installed Wallaroo instance.\n",
    "* The following Python libraries installed:\n",
    "  * `os`\n",
    "  * [`wallaroo`](https://pypi.org/project/wallaroo/): The Wallaroo SDK. Included with the Wallaroo JupyterHub service by default.\n",
    "  * [`pandas`](https://pypi.org/project/pandas/): Pandas, mainly used for Pandas DataFrame\n",
    "  * [`pyarrow`](https://pypi.org/project/pyarrow/): PyArrow for Apache Arrow support\n",
    "  * [`polars`](https://pypi.org/project/polars/): Polars for DataFrame with native Apache Arrow support"
   ]
  },
  {
   "attachments": {},
   "cell_type": "markdown",
   "metadata": {},
   "source": [
    "## Open a Connection to Wallaroo\n",
    "\n",
    "The first step is to connect to Wallaroo through the Wallaroo client.  The Python library is included in the Wallaroo install and available through the Jupyter Hub interface provided with your Wallaroo environment.\n",
    "\n",
    "This is accomplished using the `wallaroo.Client()` command, which provides a URL to grant the SDK permission to your specific Wallaroo environment.  When displayed, enter the URL into a browser and confirm permissions.  Store the connection into a variable that can be referenced later.\n",
    "\n",
    "If logging into the Wallaroo instance through the internal JupyterHub service, use `wl = wallaroo.Client()`.  If logging in externally, update the `wallarooPrefix` and `wallarooSuffix` variables with the proper DNS information.  For more information on Wallaroo DNS settings, see the [Wallaroo DNS Integration Guide](https://docs.wallaroo.ai/wallaroo-operations-guide/wallaroo-configuration/wallaroo-dns-guide/)."
   ]
  },
  {
   "cell_type": "code",
   "execution_count": 5,
   "metadata": {},
   "outputs": [],
   "source": [
    "import wallaroo\n",
    "from wallaroo.object import EntityNotFoundError\n",
    "\n",
    "# to display dataframe tables\n",
    "from IPython.display import display\n",
    "# used to display dataframe information without truncating\n",
    "import pandas as pd\n",
    "pd.set_option('display.max_colwidth', None)\n",
    "import pyarrow as pa\n",
    "\n",
    "import polars as pl\n",
    "\n",
    "import os\n",
    "# Used for the Wallaroo SDK version 2023.1\n",
    "os.environ[\"ARROW_ENABLED\"]=\"True\""
   ]
  },
  {
   "cell_type": "code",
   "execution_count": 6,
   "metadata": {},
   "outputs": [
    {
     "name": "stdout",
     "output_type": "stream",
     "text": [
      "2023.1.0\n"
     ]
    }
   ],
   "source": [
    "print(wallaroo.__version__)"
   ]
  },
  {
   "cell_type": "code",
   "execution_count": 7,
   "metadata": {},
   "outputs": [
    {
     "name": "stdout",
     "output_type": "stream",
     "text": [
      "Please log into the following URL in a web browser:\n",
      "\n",
      "\thttps://doc-test.keycloak.wallaroocommunity.ninja/auth/realms/master/device?user_code=UHKQ-BZXQ\n",
      "\n",
      "Login successful!\n"
     ]
    }
   ],
   "source": [
    "# Login through local Wallaroo instance\n",
    "\n",
    "# wl = wallaroo.Client()\n",
    "\n",
    "# SSO login through keycloak\n",
    "\n",
    "wallarooPrefix = \"doc-test\"\n",
    "wallarooSuffix = \"wallaroocommunity.ninja\"\n",
    "\n",
    "wl = wallaroo.Client(api_endpoint=f\"https://{wallarooPrefix}.api.{wallarooSuffix}\", \n",
    "                    auth_endpoint=f\"https://{wallarooPrefix}.keycloak.{wallarooSuffix}\", \n",
    "                    auth_type=\"sso\")"
   ]
  },
  {
   "cell_type": "markdown",
   "metadata": {},
   "source": [
    "To test this model, we will perform the following:\n",
    "\n",
    "* Create a workspace for our models.\n",
    "* Upload two models:\n",
    "  * `embedder`: Takes pre-tokenized text documents (model input: 100 integers/datum; output 800 numbers/datum) and creates an embedding from them.\n",
    "  * `sentiment`:  The second model classifies the resulting embeddings from 0 to 1, which 0 being an unfavorable review, 1 being a favorable review.\n",
    "* Create a pipeline that will take incoming data and pass it to the embedder, which will pass the output to the sentiment model, and then export the final result.\n",
    "* To test it, we will use information that has already been tokenized and submit it to our pipeline and gauge the results."
   ]
  },
  {
   "attachments": {},
   "cell_type": "markdown",
   "metadata": {},
   "source": [
    "Just for the sake of this tutorial, we'll use the SDK below to create our workspace , assign as our **current workspace**, then display all of the workspaces we have at the moment.  We'll also set up for our models and pipelines down the road, so we have one spot to change names to whatever fits your organization's standards best.\n",
    "\n",
    "To allow this tutorial to be run multiple times or by multiple users in the same Wallaroo instance, a random 4 character prefix will be added to the workspace, pipeline, and model.\n",
    "\n",
    "When we create our new workspace, we'll save it in the Python variable `workspace` so we can refer to it as needed."
   ]
  },
  {
   "cell_type": "markdown",
   "metadata": {},
   "source": [
    "First we'll create a workspace for our environment, and call it `imdbworkspace`.  We'll also set up our pipeline so it's ready for our models."
   ]
  },
  {
   "cell_type": "code",
   "execution_count": 8,
   "metadata": {},
   "outputs": [],
   "source": [
    "import string\n",
    "import random\n",
    "\n",
    "# make a random 4 character prefix\n",
    "prefix= ''.join(random.choice(string.ascii_lowercase) for i in range(4))\n",
    "workspace_name = f'{prefix}imdbworkspace'\n",
    "pipeline_name = f'{prefix}imdbpipeline'"
   ]
  },
  {
   "cell_type": "code",
   "execution_count": 9,
   "metadata": {},
   "outputs": [],
   "source": [
    "def get_workspace(name):\n",
    "    workspace = None\n",
    "    for ws in wl.list_workspaces():\n",
    "        if ws.name() == name:\n",
    "            workspace= ws\n",
    "    if(workspace == None):\n",
    "        workspace = wl.create_workspace(name)\n",
    "    return workspace\n",
    "\n",
    "def get_pipeline(name):\n",
    "    try:\n",
    "        pipeline = wl.pipelines_by_name(pipeline_name)[0]\n",
    "    except EntityNotFoundError:\n",
    "        pipeline = wl.build_pipeline(pipeline_name)\n",
    "    return pipeline"
   ]
  },
  {
   "cell_type": "code",
   "execution_count": 10,
   "metadata": {},
   "outputs": [
    {
     "data": {
      "text/html": [
       "<table><tr><th>name</th> <td>uqtvimdbpipeline</td></tr><tr><th>created</th> <td>2023-03-29 15:20:04.617760+00:00</td></tr><tr><th>last_updated</th> <td>2023-03-29 15:20:04.617760+00:00</td></tr><tr><th>deployed</th> <td>(none)</td></tr><tr><th>tags</th> <td></td></tr><tr><th>versions</th> <td>f700d6b9-96e8-4e58-8c67-eb579986122f</td></tr><tr><th>steps</th> <td></td></tr></table>"
      ],
      "text/plain": [
       "{'name': 'uqtvimdbpipeline', 'create_time': datetime.datetime(2023, 3, 29, 15, 20, 4, 617760, tzinfo=tzutc()), 'definition': '[]'}"
      ]
     },
     "execution_count": 10,
     "metadata": {},
     "output_type": "execute_result"
    }
   ],
   "source": [
    "workspace = get_workspace(workspace_name)\n",
    "\n",
    "wl.set_current_workspace(workspace)\n",
    "\n",
    "imdb_pipeline = get_pipeline(pipeline_name)\n",
    "imdb_pipeline"
   ]
  },
  {
   "cell_type": "markdown",
   "metadata": {},
   "source": [
    "Just to make sure, let's list our current workspace.  If everything is going right, it will show us we're in the `imdb-workspace`."
   ]
  },
  {
   "cell_type": "code",
   "execution_count": 11,
   "metadata": {},
   "outputs": [
    {
     "data": {
      "text/plain": [
       "{'name': 'uqtvimdbworkspace', 'id': 20, 'archived': False, 'created_by': '56d97480-bb64-4575-acb6-f93d05652e86', 'created_at': '2023-03-29T15:20:03.558918+00:00', 'models': [], 'pipelines': [{'name': 'uqtvimdbpipeline', 'create_time': datetime.datetime(2023, 3, 29, 15, 20, 4, 617760, tzinfo=tzutc()), 'definition': '[]'}]}"
      ]
     },
     "execution_count": 11,
     "metadata": {},
     "output_type": "execute_result"
    }
   ],
   "source": [
    "wl.get_current_workspace()"
   ]
  },
  {
   "cell_type": "markdown",
   "metadata": {},
   "source": [
    "Now we'll upload our two models:\n",
    "\n",
    "* `embedder.onnx`: This will be used to embed the tokenized documents for evaluation.\n",
    "* `sentiment_model.onnx`: This will be used to analyze the review and determine if it is a positive or negative review.  The closer to 0, the more likely it is a negative review, while the closer to 1 the more likely it is to be a positive review."
   ]
  },
  {
   "cell_type": "code",
   "execution_count": 12,
   "metadata": {},
   "outputs": [],
   "source": [
    "embedder = wl.upload_model(f'{prefix}embedder-o', './embedder.onnx').configure()\n",
    "smodel = wl.upload_model(f'{prefix}smodel-o', './sentiment_model.onnx').configure(runtime=\"onnx\", tensor_fields=[\"flatten_1\"])"
   ]
  },
  {
   "cell_type": "markdown",
   "metadata": {},
   "source": [
    "With our models uploaded, now we'll create our pipeline that will contain two steps:\n",
    "\n",
    "* First, it runs the data through the embedder.\n",
    "* Second, it applies it to our sentiment model."
   ]
  },
  {
   "cell_type": "code",
   "execution_count": 13,
   "metadata": {},
   "outputs": [
    {
     "data": {
      "text/html": [
       "<table><tr><th>name</th> <td>uqtvimdbpipeline</td></tr><tr><th>created</th> <td>2023-03-29 15:20:04.617760+00:00</td></tr><tr><th>last_updated</th> <td>2023-03-29 15:20:04.617760+00:00</td></tr><tr><th>deployed</th> <td>(none)</td></tr><tr><th>tags</th> <td></td></tr><tr><th>versions</th> <td>f700d6b9-96e8-4e58-8c67-eb579986122f</td></tr><tr><th>steps</th> <td></td></tr></table>"
      ],
      "text/plain": [
       "{'name': 'uqtvimdbpipeline', 'create_time': datetime.datetime(2023, 3, 29, 15, 20, 4, 617760, tzinfo=tzutc()), 'definition': \"[{'ModelInference': {'models': [{'name': 'uqtvembedder-o', 'version': 'd985a2c6-d212-4ba2-98f4-ace99d45c0db', 'sha': 'd083fd87fa84451904f71ab8b9adfa88580beb92ca77c046800f79780a20b7e4'}]}}, {'ModelInference': {'models': [{'name': 'uqtvsmodel-o', 'version': 'f3b6d621-ff05-4700-8ea7-4630e3c214aa', 'sha': '3473ea8700fbf1a1a8bfb112554a0dde8aab36758030dcde94a9357a83fd5650'}]}}]\"}"
      ]
     },
     "execution_count": 13,
     "metadata": {},
     "output_type": "execute_result"
    }
   ],
   "source": [
    "# now make a pipeline\n",
    "imdb_pipeline.add_model_step(embedder)\n",
    "imdb_pipeline.add_model_step(smodel)"
   ]
  },
  {
   "cell_type": "markdown",
   "metadata": {},
   "source": [
    "Now that we have our pipeline set up with the steps, we can deploy the pipeline."
   ]
  },
  {
   "cell_type": "code",
   "execution_count": 14,
   "metadata": {},
   "outputs": [
    {
     "data": {
      "text/html": [
       "<table><tr><th>name</th> <td>uqtvimdbpipeline</td></tr><tr><th>created</th> <td>2023-03-29 15:20:04.617760+00:00</td></tr><tr><th>last_updated</th> <td>2023-03-29 15:20:10.822034+00:00</td></tr><tr><th>deployed</th> <td>True</td></tr><tr><th>tags</th> <td></td></tr><tr><th>versions</th> <td>3c0bd524-d31e-48af-8c9d-90bc440dbf47, f700d6b9-96e8-4e58-8c67-eb579986122f</td></tr><tr><th>steps</th> <td>uqtvembedder-o</td></tr></table>"
      ],
      "text/plain": [
       "{'name': 'uqtvimdbpipeline', 'create_time': datetime.datetime(2023, 3, 29, 15, 20, 4, 617760, tzinfo=tzutc()), 'definition': \"[{'ModelInference': {'models': [{'name': 'uqtvembedder-o', 'version': 'd985a2c6-d212-4ba2-98f4-ace99d45c0db', 'sha': 'd083fd87fa84451904f71ab8b9adfa88580beb92ca77c046800f79780a20b7e4'}]}}, {'ModelInference': {'models': [{'name': 'uqtvsmodel-o', 'version': 'f3b6d621-ff05-4700-8ea7-4630e3c214aa', 'sha': '3473ea8700fbf1a1a8bfb112554a0dde8aab36758030dcde94a9357a83fd5650'}]}}]\"}"
      ]
     },
     "execution_count": 14,
     "metadata": {},
     "output_type": "execute_result"
    }
   ],
   "source": [
    "imdb_pipeline.deploy()"
   ]
  },
  {
   "cell_type": "markdown",
   "metadata": {},
   "source": [
    "We'll check the pipeline status to verify it's deployed and the models are ready."
   ]
  },
  {
   "cell_type": "code",
   "execution_count": 15,
   "metadata": {},
   "outputs": [
    {
     "data": {
      "text/plain": [
       "{'status': 'Running',\n",
       " 'details': [],\n",
       " 'engines': [{'ip': '10.244.0.9',\n",
       "   'name': 'engine-f7bbc47b9-fnxml',\n",
       "   'status': 'Running',\n",
       "   'reason': None,\n",
       "   'details': [],\n",
       "   'pipeline_statuses': {'pipelines': [{'id': 'uqtvimdbpipeline',\n",
       "      'status': 'Running'}]},\n",
       "   'model_statuses': {'models': [{'name': 'uqtvsmodel-o',\n",
       "      'version': 'f3b6d621-ff05-4700-8ea7-4630e3c214aa',\n",
       "      'sha': '3473ea8700fbf1a1a8bfb112554a0dde8aab36758030dcde94a9357a83fd5650',\n",
       "      'status': 'Running'},\n",
       "     {'name': 'uqtvembedder-o',\n",
       "      'version': 'd985a2c6-d212-4ba2-98f4-ace99d45c0db',\n",
       "      'sha': 'd083fd87fa84451904f71ab8b9adfa88580beb92ca77c046800f79780a20b7e4',\n",
       "      'status': 'Running'}]}}],\n",
       " 'engine_lbs': [{'ip': '10.244.0.8',\n",
       "   'name': 'engine-lb-ddd995646-xvjnw',\n",
       "   'status': 'Running',\n",
       "   'reason': None,\n",
       "   'details': []}],\n",
       " 'sidekicks': []}"
      ]
     },
     "execution_count": 15,
     "metadata": {},
     "output_type": "execute_result"
    }
   ],
   "source": [
    "imdb_pipeline.status()"
   ]
  },
  {
   "cell_type": "markdown",
   "metadata": {},
   "source": [
    "To test this out, we'll start with a single piece of information from our data directory."
   ]
  },
  {
   "cell_type": "code",
   "execution_count": 17,
   "metadata": {},
   "outputs": [
    {
     "data": {
      "text/html": [
       "<div>\n",
       "<style scoped>\n",
       "    .dataframe tbody tr th:only-of-type {\n",
       "        vertical-align: middle;\n",
       "    }\n",
       "\n",
       "    .dataframe tbody tr th {\n",
       "        vertical-align: top;\n",
       "    }\n",
       "\n",
       "    .dataframe thead th {\n",
       "        text-align: right;\n",
       "    }\n",
       "</style>\n",
       "<table border=\"1\" class=\"dataframe\">\n",
       "  <thead>\n",
       "    <tr style=\"text-align: right;\">\n",
       "      <th></th>\n",
       "      <th>time</th>\n",
       "      <th>in.tensor</th>\n",
       "      <th>out.dense_1</th>\n",
       "      <th>check_failures</th>\n",
       "    </tr>\n",
       "  </thead>\n",
       "  <tbody>\n",
       "    <tr>\n",
       "      <th>0</th>\n",
       "      <td>2023-03-29 15:20:52.242</td>\n",
       "      <td>[1607.0, 2635.0, 5749.0, 199.0, 49.0, 351.0, 16.0, 2919.0, 159.0, 5092.0, 2457.0, 8.0, 11.0, 1252.0, 507.0, 42.0, 287.0, 316.0, 15.0, 65.0, 136.0, 2.0, 133.0, 16.0, 4311.0, 131.0, 286.0, 153.0, 5.0, 2826.0, 175.0, 54.0, 548.0, 48.0, 1.0, 17.0, 9.0, 183.0, 1.0, 111.0, 15.0, 1.0, 17.0, 284.0, 982.0, 18.0, 28.0, 211.0, 1.0, 1382.0, 8.0, 146.0, 1.0, 19.0, 12.0, 9.0, 13.0, 21.0, 1898.0, 122.0, 14.0, 70.0, 14.0, 9.0, 97.0, 25.0, 74.0, 1.0, 189.0, 12.0, 9.0, 6.0, 31.0, 3.0, 244.0, 2497.0, 3659.0, 2.0, 665.0, 2497.0, 63.0, 180.0, 1.0, 17.0, 6.0, 287.0, 3.0, 646.0, 44.0, 15.0, 161.0, 50.0, 71.0, 438.0, 351.0, 31.0, 5749.0, 2.0, 0.0, 0.0]</td>\n",
       "      <td>[0.37142318]</td>\n",
       "      <td>0</td>\n",
       "    </tr>\n",
       "  </tbody>\n",
       "</table>\n",
       "</div>"
      ],
      "text/plain": [
       "                     time  \\\n",
       "0 2023-03-29 15:20:52.242   \n",
       "\n",
       "                                                                                                                                                                                                                                                                                                                                                                                                                                                                                                                                                                                                                                                      in.tensor  \\\n",
       "0  [1607.0, 2635.0, 5749.0, 199.0, 49.0, 351.0, 16.0, 2919.0, 159.0, 5092.0, 2457.0, 8.0, 11.0, 1252.0, 507.0, 42.0, 287.0, 316.0, 15.0, 65.0, 136.0, 2.0, 133.0, 16.0, 4311.0, 131.0, 286.0, 153.0, 5.0, 2826.0, 175.0, 54.0, 548.0, 48.0, 1.0, 17.0, 9.0, 183.0, 1.0, 111.0, 15.0, 1.0, 17.0, 284.0, 982.0, 18.0, 28.0, 211.0, 1.0, 1382.0, 8.0, 146.0, 1.0, 19.0, 12.0, 9.0, 13.0, 21.0, 1898.0, 122.0, 14.0, 70.0, 14.0, 9.0, 97.0, 25.0, 74.0, 1.0, 189.0, 12.0, 9.0, 6.0, 31.0, 3.0, 244.0, 2497.0, 3659.0, 2.0, 665.0, 2497.0, 63.0, 180.0, 1.0, 17.0, 6.0, 287.0, 3.0, 646.0, 44.0, 15.0, 161.0, 50.0, 71.0, 438.0, 351.0, 31.0, 5749.0, 2.0, 0.0, 0.0]   \n",
       "\n",
       "    out.dense_1  check_failures  \n",
       "0  [0.37142318]               0  "
      ]
     },
     "metadata": {},
     "output_type": "display_data"
    }
   ],
   "source": [
    "singleton = pd.DataFrame.from_records(\n",
    "    [\n",
    "    {\n",
    "        \"tensor\":[\n",
    "            1607.0,\n",
    "            2635.0,\n",
    "            5749.0,\n",
    "            199.0,\n",
    "            49.0,\n",
    "            351.0,\n",
    "            16.0,\n",
    "            2919.0,\n",
    "            159.0,\n",
    "            5092.0,\n",
    "            2457.0,\n",
    "            8.0,\n",
    "            11.0,\n",
    "            1252.0,\n",
    "            507.0,\n",
    "            42.0,\n",
    "            287.0,\n",
    "            316.0,\n",
    "            15.0,\n",
    "            65.0,\n",
    "            136.0,\n",
    "            2.0,\n",
    "            133.0,\n",
    "            16.0,\n",
    "            4311.0,\n",
    "            131.0,\n",
    "            286.0,\n",
    "            153.0,\n",
    "            5.0,\n",
    "            2826.0,\n",
    "            175.0,\n",
    "            54.0,\n",
    "            548.0,\n",
    "            48.0,\n",
    "            1.0,\n",
    "            17.0,\n",
    "            9.0,\n",
    "            183.0,\n",
    "            1.0,\n",
    "            111.0,\n",
    "            15.0,\n",
    "            1.0,\n",
    "            17.0,\n",
    "            284.0,\n",
    "            982.0,\n",
    "            18.0,\n",
    "            28.0,\n",
    "            211.0,\n",
    "            1.0,\n",
    "            1382.0,\n",
    "            8.0,\n",
    "            146.0,\n",
    "            1.0,\n",
    "            19.0,\n",
    "            12.0,\n",
    "            9.0,\n",
    "            13.0,\n",
    "            21.0,\n",
    "            1898.0,\n",
    "            122.0,\n",
    "            14.0,\n",
    "            70.0,\n",
    "            14.0,\n",
    "            9.0,\n",
    "            97.0,\n",
    "            25.0,\n",
    "            74.0,\n",
    "            1.0,\n",
    "            189.0,\n",
    "            12.0,\n",
    "            9.0,\n",
    "            6.0,\n",
    "            31.0,\n",
    "            3.0,\n",
    "            244.0,\n",
    "            2497.0,\n",
    "            3659.0,\n",
    "            2.0,\n",
    "            665.0,\n",
    "            2497.0,\n",
    "            63.0,\n",
    "            180.0,\n",
    "            1.0,\n",
    "            17.0,\n",
    "            6.0,\n",
    "            287.0,\n",
    "            3.0,\n",
    "            646.0,\n",
    "            44.0,\n",
    "            15.0,\n",
    "            161.0,\n",
    "            50.0,\n",
    "            71.0,\n",
    "            438.0,\n",
    "            351.0,\n",
    "            31.0,\n",
    "            5749.0,\n",
    "            2.0,\n",
    "            0.0,\n",
    "            0.0\n",
    "        ]\n",
    "    }\n",
    "]\n",
    ")\n",
    "results = imdb_pipeline.infer(singleton)\n",
    "display(results)"
   ]
  },
  {
   "attachments": {},
   "cell_type": "markdown",
   "metadata": {},
   "source": [
    "Since that works, let's load up all 50,000 rows and do a full inference on each of them via an Apache Arrow file.  Wallaroo pipeline inferences use Apache Arrow as their core data type, making this inference fast.  \n",
    "\n",
    "We'll do a demonstration with both pandas DataFrame, and a `polars` DataFrame, then display the first 5 results in either case."
   ]
  },
  {
   "cell_type": "code",
   "execution_count": 18,
   "metadata": {},
   "outputs": [],
   "source": [
    "results = imdb_pipeline.infer_from_file('./data/test_data_50K.arrow')"
   ]
  },
  {
   "cell_type": "code",
   "execution_count": 19,
   "metadata": {},
   "outputs": [
    {
     "data": {
      "text/html": [
       "<div>\n",
       "<style scoped>\n",
       "    .dataframe tbody tr th:only-of-type {\n",
       "        vertical-align: middle;\n",
       "    }\n",
       "\n",
       "    .dataframe tbody tr th {\n",
       "        vertical-align: top;\n",
       "    }\n",
       "\n",
       "    .dataframe thead th {\n",
       "        text-align: right;\n",
       "    }\n",
       "</style>\n",
       "<table border=\"1\" class=\"dataframe\">\n",
       "  <thead>\n",
       "    <tr style=\"text-align: right;\">\n",
       "      <th></th>\n",
       "      <th>time</th>\n",
       "      <th>out.dense_1</th>\n",
       "    </tr>\n",
       "  </thead>\n",
       "  <tbody>\n",
       "    <tr>\n",
       "      <th>0</th>\n",
       "      <td>2023-03-29 15:21:08.307</td>\n",
       "      <td>[0.8980188]</td>\n",
       "    </tr>\n",
       "    <tr>\n",
       "      <th>1</th>\n",
       "      <td>2023-03-29 15:21:08.307</td>\n",
       "      <td>[0.056596935]</td>\n",
       "    </tr>\n",
       "    <tr>\n",
       "      <th>2</th>\n",
       "      <td>2023-03-29 15:21:08.307</td>\n",
       "      <td>[0.9260802]</td>\n",
       "    </tr>\n",
       "    <tr>\n",
       "      <th>3</th>\n",
       "      <td>2023-03-29 15:21:08.307</td>\n",
       "      <td>[0.926919]</td>\n",
       "    </tr>\n",
       "    <tr>\n",
       "      <th>4</th>\n",
       "      <td>2023-03-29 15:21:08.307</td>\n",
       "      <td>[0.6618577]</td>\n",
       "    </tr>\n",
       "    <tr>\n",
       "      <th>5</th>\n",
       "      <td>2023-03-29 15:21:08.307</td>\n",
       "      <td>[0.48736304]</td>\n",
       "    </tr>\n",
       "  </tbody>\n",
       "</table>\n",
       "</div>"
      ],
      "text/plain": [
       "                     time    out.dense_1\n",
       "0 2023-03-29 15:21:08.307    [0.8980188]\n",
       "1 2023-03-29 15:21:08.307  [0.056596935]\n",
       "2 2023-03-29 15:21:08.307    [0.9260802]\n",
       "3 2023-03-29 15:21:08.307     [0.926919]\n",
       "4 2023-03-29 15:21:08.307    [0.6618577]\n",
       "5 2023-03-29 15:21:08.307   [0.48736304]"
      ]
     },
     "metadata": {},
     "output_type": "display_data"
    }
   ],
   "source": [
    "# using pandas DataFrame\n",
    "\n",
    "outputs = results.to_pandas()\n",
    "display(outputs.loc[:5, [\"time\",\"out.dense_1\"]])"
   ]
  },
  {
   "cell_type": "code",
   "execution_count": 20,
   "metadata": {},
   "outputs": [
    {
     "data": {
      "text/html": [
       "<div><style>\n",
       ".dataframe > thead > tr > th,\n",
       ".dataframe > tbody > tr > td {\n",
       "  text-align: right;\n",
       "}\n",
       "</style>\n",
       "<small>shape: (5, 4)</small><table border=\"1\" class=\"dataframe\"><thead><tr><th>time</th><th>in.tensor</th><th>out.dense_1</th><th>check_failures</th></tr><tr><td>datetime[ms]</td><td>list[f32]</td><td>list[f32]</td><td>i8</td></tr></thead><tbody><tr><td>2023-03-29 15:21:08.307</td><td>[11.0, 6.0, … 0.0]</td><td>[0.898019]</td><td>0</td></tr><tr><td>2023-03-29 15:21:08.307</td><td>[54.0, 548.0, … 20.0]</td><td>[0.056597]</td><td>0</td></tr><tr><td>2023-03-29 15:21:08.307</td><td>[1.0, 9259.0, … 1.0]</td><td>[0.92608]</td><td>0</td></tr><tr><td>2023-03-29 15:21:08.307</td><td>[10.0, 25.0, … 0.0]</td><td>[0.926919]</td><td>0</td></tr><tr><td>2023-03-29 15:21:08.307</td><td>[10.0, 37.0, … 0.0]</td><td>[0.661858]</td><td>0</td></tr></tbody></table></div>"
      ],
      "text/plain": [
       "shape: (5, 4)\n",
       "┌─────────────────────────┬───────────────────────┬─────────────┬────────────────┐\n",
       "│ time                    ┆ in.tensor             ┆ out.dense_1 ┆ check_failures │\n",
       "│ ---                     ┆ ---                   ┆ ---         ┆ ---            │\n",
       "│ datetime[ms]            ┆ list[f32]             ┆ list[f32]   ┆ i8             │\n",
       "╞═════════════════════════╪═══════════════════════╪═════════════╪════════════════╡\n",
       "│ 2023-03-29 15:21:08.307 ┆ [11.0, 6.0, … 0.0]    ┆ [0.898019]  ┆ 0              │\n",
       "│ 2023-03-29 15:21:08.307 ┆ [54.0, 548.0, … 20.0] ┆ [0.056597]  ┆ 0              │\n",
       "│ 2023-03-29 15:21:08.307 ┆ [1.0, 9259.0, … 1.0]  ┆ [0.92608]   ┆ 0              │\n",
       "│ 2023-03-29 15:21:08.307 ┆ [10.0, 25.0, … 0.0]   ┆ [0.926919]  ┆ 0              │\n",
       "│ 2023-03-29 15:21:08.307 ┆ [10.0, 37.0, … 0.0]   ┆ [0.661858]  ┆ 0              │\n",
       "└─────────────────────────┴───────────────────────┴─────────────┴────────────────┘"
      ]
     },
     "metadata": {},
     "output_type": "display_data"
    }
   ],
   "source": [
    "# using polars DataFrame\n",
    "\n",
    "outputs = pl.from_arrow(results)\n",
    "display(outputs.head(5))"
   ]
  },
  {
   "cell_type": "markdown",
   "metadata": {},
   "source": [
    "## Undeploy\n",
    "\n",
    "With our pipeline's work done, we'll undeploy it and give our Kubernetes environment back its resources."
   ]
  },
  {
   "cell_type": "code",
   "execution_count": 21,
   "metadata": {},
   "outputs": [
    {
     "data": {
      "text/html": [
       "<table><tr><th>name</th> <td>uqtvimdbpipeline</td></tr><tr><th>created</th> <td>2023-03-29 15:20:04.617760+00:00</td></tr><tr><th>last_updated</th> <td>2023-03-29 15:20:10.822034+00:00</td></tr><tr><th>deployed</th> <td>False</td></tr><tr><th>tags</th> <td></td></tr><tr><th>versions</th> <td>3c0bd524-d31e-48af-8c9d-90bc440dbf47, f700d6b9-96e8-4e58-8c67-eb579986122f</td></tr><tr><th>steps</th> <td>uqtvembedder-o</td></tr></table>"
      ],
      "text/plain": [
       "{'name': 'uqtvimdbpipeline', 'create_time': datetime.datetime(2023, 3, 29, 15, 20, 4, 617760, tzinfo=tzutc()), 'definition': \"[{'ModelInference': {'models': [{'name': 'uqtvembedder-o', 'version': 'd985a2c6-d212-4ba2-98f4-ace99d45c0db', 'sha': 'd083fd87fa84451904f71ab8b9adfa88580beb92ca77c046800f79780a20b7e4'}]}}, {'ModelInference': {'models': [{'name': 'uqtvsmodel-o', 'version': 'f3b6d621-ff05-4700-8ea7-4630e3c214aa', 'sha': '3473ea8700fbf1a1a8bfb112554a0dde8aab36758030dcde94a9357a83fd5650'}]}}]\"}"
      ]
     },
     "execution_count": 21,
     "metadata": {},
     "output_type": "execute_result"
    }
   ],
   "source": [
    "imdb_pipeline.undeploy()"
   ]
  },
  {
   "cell_type": "markdown",
   "metadata": {},
   "source": [
    "And there is our example. Please feel free to contact us at Wallaroo for if you have any questions."
   ]
  }
 ],
 "metadata": {
  "kernelspec": {
   "display_name": "arrowtests",
   "language": "python",
   "name": "python3"
  },
  "language_info": {
   "codemirror_mode": {
    "name": "ipython",
    "version": 3
   },
   "file_extension": ".py",
   "mimetype": "text/x-python",
   "name": "python",
   "nbconvert_exporter": "python",
   "pygments_lexer": "ipython3",
   "version": "3.8.12"
  },
  "vscode": {
   "interpreter": {
    "hash": "7dda4bf3640b7fafcd1648658b879b4cc9f6ba6084e8fb356fdaaa1a461d1690"
   }
  }
 },
 "nbformat": 4,
 "nbformat_minor": 4
}
