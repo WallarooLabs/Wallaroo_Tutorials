{
 "cells": [
  {
   "attachments": {},
   "cell_type": "markdown",
   "metadata": {},
   "source": [
    "This tutorial and the assets can be downloaded as part of the [Wallaroo Tutorials repository](https://github.com/WallarooLabs/Wallaroo_Tutorials/tree/main/wallaroo-model-cookbooks/mlflow-tutorial).\n",
    "\n",
    "## MLFlow Inference with Wallaroo Tutorial \n",
    "\n",
    "Wallaroo users can register their trained [MLFlow ML Models](https://www.mlflow.org/docs/latest/models.html) from a containerized model container registry into their Wallaroo instance and perform inferences with it through a Wallaroo pipeline.\n",
    "\n",
    "As of this time, Wallaroo only supports **MLFlow 1.3.0** containerized models.  For information on how to containerize an MLFlow model, see the [MLFlow Documentation](https://mlflow.org/docs/latest/projects.html).\n",
    "\n",
    "This tutorial assumes that you have a Wallaroo instance, and have either your own containerized model or use the one from the reference and are running this Notebook from the Wallaroo Jupyter Hub service.\n",
    "\n",
    "See the [Wallaroo Private Containerized Model Container Registry Guide](https://docs.wallaroo.ai/wallaroo-operations-guide/wallaroo-configuration/wallaroo-private-model-registry/) for details on how to configure a Wallaroo instance with a private model registry.\n",
    "\n",
    "## MLFlow Data Formats\n",
    "\n",
    "When using containerized MLFlow models with Wallaroo, the inputs and outputs must be named.  For example, the following output:\n",
    "\n",
    "```json\n",
    "[-12.045839810372835]\n",
    "```\n",
    "\n",
    "Would need to be wrapped with the data values named:\n",
    "\n",
    "```json\n",
    "[{\"prediction\": -12.045839810372835}]\n",
    "```\n",
    "\n",
    "A short sample code for wrapping data may be:\n",
    "\n",
    "```python\n",
    "output_df = pd.DataFrame(prediction, columns=[\"prediction\"])\n",
    "return output_df\n",
    "```\n",
    "\n",
    "### MLFlow Models and Wallaroo\n",
    "\n",
    "MLFlow models are composed of two parts:  the model, and the flavors.  When submitting a MLFlow model to Wallaroo, both aspects must be part of the ML Model included in the container.  For full information about MLFlow model structure, see the [MLFlow Documentation](https://www.mlflow.org/docs/latest/index.html).\n",
    "\n",
    "Wallaroo registers the models from container registries.  Organizations will either have to make their containers available in a public or through a private Containerized Model Container Registry service.  For examples on setting up a private container registry service, see the [Docker Documentation \"Deploy a registry server\"](https://docs.docker.com/registry/deploying/).  For more details on setting up a container registry in a cloud environment, see the related documentation for your preferred cloud provider:\n",
    "  * [Google Cloud Platform Container Registry](https://cloud.google.com/container-registry)\n",
    "  * [Amazon Web Services Elastic Container Registry](https://docs.aws.amazon.com/AmazonECR/latest/userguide/what-is-ecr.html)\n",
    "  *  [Microsoft Azure Container Registry](https://azure.microsoft.com/en-us/free/container-registry/)\n",
    "\n",
    "For this example, we will be using the MLFlow containers that was registered in a GitHub container registry service in MLFlow Creation Tutorial Part 03: Container Registration.  The address of those containers are:\n",
    "\n",
    "* postprocess: ghcr.io/johnhansarickwallaroo/mlflowtests/mlflow-postprocess-example .  Used for format data after the statsmodel inferences.\n",
    "* statsmodel: ghcr.io/johnhansarickwallaroo/mlflowtests/mlflow-statsmodels-example . The statsmodel generated in MLFlow Creation Tutorial Part 01: Model Creation.\n",
    "\n",
    "### Prerequisites\n",
    "\n",
    "Before uploading and running an inference with a MLFlow model in Wallaroo the following will be required:\n",
    "\n",
    "* **MLFlow Input Schema**:  The input schema with the fields and data types for each MLFlow model type uploaded to Wallaroo.  In the examples below, the data types are imported using the `pyarrow` library.\n",
    "* An installed Wallaroo instance.\n",
    "* The following Python libraries installed:\n",
    "  * `os`\n",
    "  * [`wallaroo`](https://pypi.org/project/wallaroo/): The Wallaroo SDK. Included with the Wallaroo JupyterHub service by default.\n",
    "\n",
    "**IMPORTANT NOTE**:  Wallaroo supports MLFlow 1.3.0.  Please ensure the MLFlow models used in Wallaroo meet this specification."
   ]
  },
  {
   "attachments": {},
   "cell_type": "markdown",
   "metadata": {},
   "source": [
    "## MLFlow Inference Steps\n",
    "\n",
    "To register a containerized MLFlow ML Model into Wallaroo, use the following general step:\n",
    "\n",
    "* Import Libraries\n",
    "* Connect to Wallaroo\n",
    "* Set MLFlow Input Schemas\n",
    "* Register MLFlow Model\n",
    "* Create Pipeline and Add Model Steps\n",
    "* Run Inference"
   ]
  },
  {
   "cell_type": "markdown",
   "metadata": {},
   "source": [
    "### Import Libraries\n",
    "\n",
    "We start by importing the libraries we will need to connect to Wallaroo and use our MLFlow models. This includes the `wallaroo` libraries, `pyarrow` for data types, and the `json` library for handling JSON data."
   ]
  },
  {
   "cell_type": "code",
   "execution_count": 37,
   "metadata": {},
   "outputs": [],
   "source": [
    "import wallaroo\n",
    "from wallaroo.object import EntityNotFoundError\n",
    "import pyarrow as pa\n",
    "import pandas as pd\n",
    "\n",
    "\n",
    "import os\n",
    "# Used for the Wallaroo SDK version 2023.1\n",
    "os.environ[\"ARROW_ENABLED\"]=\"True\""
   ]
  },
  {
   "cell_type": "markdown",
   "metadata": {},
   "source": [
    "### Connect to Wallaroo\n",
    "\n",
    "Connect to Wallaroo and store the connection in the variable `wl`.\n",
    "\n",
    "The folowing methods are used to create the workspace and pipeline for this tutorial.  A workspace is created and set as the current workspace that will contain the registered models and pipelines."
   ]
  },
  {
   "cell_type": "code",
   "execution_count": 38,
   "metadata": {},
   "outputs": [
    {
     "data": {
      "text/html": [
       "<div>\n",
       "<style scoped>\n",
       "    .dataframe tbody tr th:only-of-type {\n",
       "        vertical-align: middle;\n",
       "    }\n",
       "\n",
       "    .dataframe tbody tr th {\n",
       "        vertical-align: top;\n",
       "    }\n",
       "\n",
       "    .dataframe thead th {\n",
       "        text-align: right;\n",
       "    }\n",
       "</style>\n",
       "<table border=\"1\" class=\"dataframe\">\n",
       "  <thead>\n",
       "    <tr style=\"text-align: right;\">\n",
       "      <th></th>\n",
       "      <th>holiday</th>\n",
       "      <th>temp</th>\n",
       "      <th>windspeed</th>\n",
       "      <th>workingday</th>\n",
       "    </tr>\n",
       "  </thead>\n",
       "  <tbody>\n",
       "    <tr>\n",
       "      <th>0</th>\n",
       "      <td>0</td>\n",
       "      <td>0.317391</td>\n",
       "      <td>0.184309</td>\n",
       "      <td>1</td>\n",
       "    </tr>\n",
       "    <tr>\n",
       "      <th>1</th>\n",
       "      <td>0</td>\n",
       "      <td>0.365217</td>\n",
       "      <td>0.203117</td>\n",
       "      <td>1</td>\n",
       "    </tr>\n",
       "    <tr>\n",
       "      <th>2</th>\n",
       "      <td>0</td>\n",
       "      <td>0.415000</td>\n",
       "      <td>0.209579</td>\n",
       "      <td>1</td>\n",
       "    </tr>\n",
       "    <tr>\n",
       "      <th>3</th>\n",
       "      <td>0</td>\n",
       "      <td>0.540000</td>\n",
       "      <td>0.231017</td>\n",
       "      <td>1</td>\n",
       "    </tr>\n",
       "    <tr>\n",
       "      <th>4</th>\n",
       "      <td>0</td>\n",
       "      <td>0.472500</td>\n",
       "      <td>0.368167</td>\n",
       "      <td>0</td>\n",
       "    </tr>\n",
       "    <tr>\n",
       "      <th>5</th>\n",
       "      <td>0</td>\n",
       "      <td>0.332500</td>\n",
       "      <td>0.207721</td>\n",
       "      <td>0</td>\n",
       "    </tr>\n",
       "    <tr>\n",
       "      <th>6</th>\n",
       "      <td>0</td>\n",
       "      <td>0.430435</td>\n",
       "      <td>0.288783</td>\n",
       "      <td>1</td>\n",
       "    </tr>\n",
       "  </tbody>\n",
       "</table>\n",
       "</div>"
      ],
      "text/plain": [
       "   holiday      temp  windspeed  workingday\n",
       "0        0  0.317391   0.184309           1\n",
       "1        0  0.365217   0.203117           1\n",
       "2        0  0.415000   0.209579           1\n",
       "3        0  0.540000   0.231017           1\n",
       "4        0  0.472500   0.368167           0\n",
       "5        0  0.332500   0.207721           0\n",
       "6        0  0.430435   0.288783           1"
      ]
     },
     "metadata": {},
     "output_type": "display_data"
    }
   ],
   "source": [
    "bike_day = pd.read_json('./resources/bike_day_eval_engine.df.json', orient=\"records\")\n",
    "display(bike_day)"
   ]
  },
  {
   "cell_type": "code",
   "execution_count": 39,
   "metadata": {},
   "outputs": [
    {
     "name": "stdout",
     "output_type": "stream",
     "text": [
      "Please log into the following URL in a web browser:\n",
      "\n",
      "\thttps://doc-test.keycloak.wallaroocommunity.ninja/auth/realms/master/device?user_code=ZNTN-HDMI\n",
      "\n",
      "Login successful!\n"
     ]
    }
   ],
   "source": [
    "# Login through local Wallaroo instance\n",
    "\n",
    "wl = wallaroo.Client()\n",
    "\n",
    "# SSO login through keycloak\n",
    "\n",
    "wallarooPrefix = \"YOUR PREFIX\"\n",
    "wallarooSuffix = \"YOUR PREFIX\"\n",
    "\n",
    "wallarooPrefix = \"doc-test\"\n",
    "wallarooSuffix = \"wallaroocommunity.ninja\"\n",
    "\n",
    "wl = wallaroo.Client(api_endpoint=f\"https://{wallarooPrefix}.api.{wallarooSuffix}\", \n",
    "                    auth_endpoint=f\"https://{wallarooPrefix}.keycloak.{wallarooSuffix}\", \n",
    "                    auth_type=\"sso\")"
   ]
  },
  {
   "cell_type": "code",
   "execution_count": 40,
   "metadata": {},
   "outputs": [],
   "source": [
    "def get_workspace(name):\n",
    "    workspace = None\n",
    "    for ws in wl.list_workspaces():\n",
    "        if ws.name() == name:\n",
    "            workspace= ws\n",
    "    if(workspace == None):\n",
    "        workspace = wl.create_workspace(name)\n",
    "    return workspace\n",
    "\n",
    "def get_pipeline(name):\n",
    "    try:\n",
    "        pipeline = wl.pipelines_by_name(pipeline_name)[0]\n",
    "    except EntityNotFoundError:\n",
    "        pipeline = wl.build_pipeline(pipeline_name)\n",
    "    return pipeline"
   ]
  },
  {
   "cell_type": "code",
   "execution_count": 41,
   "metadata": {},
   "outputs": [],
   "source": [
    "prefix = 'mlflow'\n",
    "workspace_name= f\"{prefix}statsmodelworkspace\"\n",
    "pipeline_name = f\"{prefix}statsmodelpipeline\"\n",
    "\n",
    "mlflowworkspace = get_workspace(workspace_name)\n",
    "wl.set_current_workspace(mlflowworkspace)\n",
    "\n",
    "\n",
    "pipeline = get_pipeline(pipeline_name)"
   ]
  },
  {
   "cell_type": "markdown",
   "metadata": {},
   "source": [
    "### Set MLFlow Input Schemas\n",
    "\n",
    "Set the MLFlow input schemas through the `pyarrow` library.  In the examples below, the input schemas for both the MLFlow model `statsmodels-test` and the `statsmodels-test-postprocess` model."
   ]
  },
  {
   "cell_type": "code",
   "execution_count": 42,
   "metadata": {},
   "outputs": [],
   "source": [
    "sm_input_schema = pa.schema([\n",
    "  pa.field('temp', pa.float32()),\n",
    "  pa.field('holiday', pa.uint8()),\n",
    "  pa.field('workingday', pa.uint8()),\n",
    "  pa.field('windspeed', pa.float32())\n",
    "])\n",
    "\n",
    "pp_input_schema = pa.schema([\n",
    "    pa.field('predicted_mean', pa.float32())\n",
    "])"
   ]
  },
  {
   "cell_type": "markdown",
   "metadata": {},
   "source": [
    "### Register MLFlow Model\n",
    "\n",
    "Use the `register_model_image` method to register the Docker container containing the MLFlow models."
   ]
  },
  {
   "cell_type": "code",
   "execution_count": 43,
   "metadata": {},
   "outputs": [],
   "source": [
    "statsmodelUrl = \"ghcr.io/wallaroolabs/wallaroo_tutorials/mlflow-statsmodels-example:2023.1\"\n",
    "postprocessUrl = \"ghcr.io/wallaroolabs/wallaroo_tutorials/mlflow-postprocess-example:2023.1\"\n",
    "\n",
    "sm_model = wl.register_model_image(\n",
    "    name=f\"{prefix}statmodels\",\n",
    "    image=f\"{statsmodelUrl}\"\n",
    ").configure(\"mlflow\", input_schema=sm_input_schema, output_schema=pp_input_schema)\n",
    "pp_model = wl.register_model_image(\n",
    "    name=f\"{prefix}postprocess\",\n",
    "    image=f\"{postprocessUrl}\"\n",
    ").configure(\"mlflow\", input_schema=pp_input_schema, output_schema=pp_input_schema)"
   ]
  },
  {
   "cell_type": "markdown",
   "metadata": {},
   "source": [
    "### Create Pipeline and Add Model Steps\n",
    "\n",
    "With the models registered, we can add the MLFlow models as steps in the pipeline.  Once ready, we will deploy the pipeline so it is available for submitting data for running inferences."
   ]
  },
  {
   "cell_type": "code",
   "execution_count": 44,
   "metadata": {},
   "outputs": [
    {
     "data": {
      "text/html": [
       "<table><tr><th>name</th> <td>mlflowstatsmodelpipeline</td></tr><tr><th>created</th> <td>2023-03-29 15:30:47.168398+00:00</td></tr><tr><th>last_updated</th> <td>2023-03-30 19:39:33.909512+00:00</td></tr><tr><th>deployed</th> <td>False</td></tr><tr><th>tags</th> <td></td></tr><tr><th>versions</th> <td>a0f9b98c-1111-41b1-a196-2caffa9e41c8, 06c42cf6-a4c3-4610-a0f0-f3f2464c4c1f, ace1242f-bf62-4018-b47a-b9ef2de2f80a, e20bf245-2a81-4d84-a58a-6264cf988819, ba67924f-7e4b-4b8c-be97-1c3ef995f4ac, a8ae51f2-9027-4dc6-b262-ef247948fd16</td></tr><tr><th>steps</th> <td>mlflowstatmodels</td></tr></table>"
      ],
      "text/plain": [
       "{'name': 'mlflowstatsmodelpipeline', 'create_time': datetime.datetime(2023, 3, 29, 15, 30, 47, 168398, tzinfo=tzutc()), 'definition': \"[{'ModelInference': {'models': [{'name': 'mlflowstatmodels', 'version': '38ed4b71-2eed-4f6a-b8aa-535760cb9123', 'sha': '3afd13d9c5070679e284050cd099e84aa2e5cb7c08a788b21d6cb2397615d018'}]}}, {'ModelInference': {'models': [{'name': 'mlflowpostprocess', 'version': '8cce5ed1-7f9e-44ac-9408-10221d1125e8', 'sha': '825ebae48014d297134930028ab0e823bc0d9551334b9a4402c87a714e8156b2'}]}}]\"}"
      ]
     },
     "execution_count": 44,
     "metadata": {},
     "output_type": "execute_result"
    }
   ],
   "source": [
    "pipeline.add_model_step(sm_model)\n",
    "pipeline.add_model_step(pp_model)"
   ]
  },
  {
   "cell_type": "code",
   "execution_count": 45,
   "metadata": {},
   "outputs": [
    {
     "data": {
      "text/html": [
       "<table><tr><th>name</th> <td>mlflowstatsmodelpipeline</td></tr><tr><th>created</th> <td>2023-03-29 15:30:47.168398+00:00</td></tr><tr><th>last_updated</th> <td>2023-03-31 21:27:02.378296+00:00</td></tr><tr><th>deployed</th> <td>True</td></tr><tr><th>tags</th> <td></td></tr><tr><th>versions</th> <td>42d7e5be-61eb-4b12-b5a1-cfcd50d1ad10, a0f9b98c-1111-41b1-a196-2caffa9e41c8, 06c42cf6-a4c3-4610-a0f0-f3f2464c4c1f, ace1242f-bf62-4018-b47a-b9ef2de2f80a, e20bf245-2a81-4d84-a58a-6264cf988819, ba67924f-7e4b-4b8c-be97-1c3ef995f4ac, a8ae51f2-9027-4dc6-b262-ef247948fd16</td></tr><tr><th>steps</th> <td>mlflowstatmodels</td></tr></table>"
      ],
      "text/plain": [
       "{'name': 'mlflowstatsmodelpipeline', 'create_time': datetime.datetime(2023, 3, 29, 15, 30, 47, 168398, tzinfo=tzutc()), 'definition': \"[{'ModelInference': {'models': [{'name': 'mlflowstatmodels', 'version': '38ed4b71-2eed-4f6a-b8aa-535760cb9123', 'sha': '3afd13d9c5070679e284050cd099e84aa2e5cb7c08a788b21d6cb2397615d018'}]}}, {'ModelInference': {'models': [{'name': 'mlflowpostprocess', 'version': '8cce5ed1-7f9e-44ac-9408-10221d1125e8', 'sha': '825ebae48014d297134930028ab0e823bc0d9551334b9a4402c87a714e8156b2'}]}}]\"}"
      ]
     },
     "execution_count": 45,
     "metadata": {},
     "output_type": "execute_result"
    }
   ],
   "source": [
    "pipeline.deploy()"
   ]
  },
  {
   "cell_type": "code",
   "execution_count": 46,
   "metadata": {},
   "outputs": [
    {
     "data": {
      "text/plain": [
       "{'status': 'Running',\n",
       " 'details': [],\n",
       " 'engines': [{'ip': '10.244.1.27',\n",
       "   'name': 'engine-7544765498-vx8sv',\n",
       "   'status': 'Running',\n",
       "   'reason': None,\n",
       "   'details': [],\n",
       "   'pipeline_statuses': {'pipelines': [{'id': 'mlflowstatsmodelpipeline',\n",
       "      'status': 'Running'}]},\n",
       "   'model_statuses': {'models': [{'name': 'mlflowstatmodels',\n",
       "      'version': '38ed4b71-2eed-4f6a-b8aa-535760cb9123',\n",
       "      'sha': '3afd13d9c5070679e284050cd099e84aa2e5cb7c08a788b21d6cb2397615d018',\n",
       "      'status': 'Running'},\n",
       "     {'name': 'mlflowpostprocess',\n",
       "      'version': '8cce5ed1-7f9e-44ac-9408-10221d1125e8',\n",
       "      'sha': '825ebae48014d297134930028ab0e823bc0d9551334b9a4402c87a714e8156b2',\n",
       "      'status': 'Running'}]}}],\n",
       " 'engine_lbs': [{'ip': '10.244.2.20',\n",
       "   'name': 'engine-lb-ddd995646-b8wms',\n",
       "   'status': 'Running',\n",
       "   'reason': None,\n",
       "   'details': []}],\n",
       " 'sidekicks': [{'ip': '10.244.1.28',\n",
       "   'name': 'engine-sidekick-mlflowstatmodels-74-6bd9b6648f-wgd9r',\n",
       "   'status': 'Running',\n",
       "   'reason': None,\n",
       "   'details': [],\n",
       "   'statuses': '\\n'},\n",
       "  {'ip': '10.244.2.21',\n",
       "   'name': 'engine-sidekick-mlflowpostprocess-75-67745f5fbc-jnvm5',\n",
       "   'status': 'Running',\n",
       "   'reason': None,\n",
       "   'details': [],\n",
       "   'statuses': '\\n'}]}"
      ]
     },
     "execution_count": 46,
     "metadata": {},
     "output_type": "execute_result"
    }
   ],
   "source": [
    "pipeline.status()"
   ]
  },
  {
   "cell_type": "markdown",
   "metadata": {},
   "source": [
    "### Run Inference\n",
    "\n",
    "Once the pipeline is running, we can submit our data to the pipeline and return our results.  Once finished, we will undeploy the pipeline to return the resources back to the cluster."
   ]
  },
  {
   "cell_type": "code",
   "execution_count": 47,
   "metadata": {},
   "outputs": [
    {
     "data": {
      "text/html": [
       "<div>\n",
       "<style scoped>\n",
       "    .dataframe tbody tr th:only-of-type {\n",
       "        vertical-align: middle;\n",
       "    }\n",
       "\n",
       "    .dataframe tbody tr th {\n",
       "        vertical-align: top;\n",
       "    }\n",
       "\n",
       "    .dataframe thead th {\n",
       "        text-align: right;\n",
       "    }\n",
       "</style>\n",
       "<table border=\"1\" class=\"dataframe\">\n",
       "  <thead>\n",
       "    <tr style=\"text-align: right;\">\n",
       "      <th></th>\n",
       "      <th>out.predicted_mean</th>\n",
       "    </tr>\n",
       "  </thead>\n",
       "  <tbody>\n",
       "    <tr>\n",
       "      <th>0</th>\n",
       "      <td>0.281983</td>\n",
       "    </tr>\n",
       "    <tr>\n",
       "      <th>1</th>\n",
       "      <td>0.658847</td>\n",
       "    </tr>\n",
       "    <tr>\n",
       "      <th>2</th>\n",
       "      <td>0.572368</td>\n",
       "    </tr>\n",
       "    <tr>\n",
       "      <th>3</th>\n",
       "      <td>0.619873</td>\n",
       "    </tr>\n",
       "    <tr>\n",
       "      <th>4</th>\n",
       "      <td>-1.217801</td>\n",
       "    </tr>\n",
       "    <tr>\n",
       "      <th>5</th>\n",
       "      <td>-1.849156</td>\n",
       "    </tr>\n",
       "    <tr>\n",
       "      <th>6</th>\n",
       "      <td>0.933885</td>\n",
       "    </tr>\n",
       "  </tbody>\n",
       "</table>\n",
       "</div>"
      ],
      "text/plain": [
       "   out.predicted_mean\n",
       "0            0.281983\n",
       "1            0.658847\n",
       "2            0.572368\n",
       "3            0.619873\n",
       "4           -1.217801\n",
       "5           -1.849156\n",
       "6            0.933885"
      ]
     },
     "metadata": {},
     "output_type": "display_data"
    }
   ],
   "source": [
    "results = pipeline.infer_from_file('./resources/bike_day_eval_engine.df.json')\n",
    "display(results.loc[:,[\"out.predicted_mean\"]])"
   ]
  },
  {
   "cell_type": "code",
   "execution_count": 48,
   "metadata": {},
   "outputs": [
    {
     "data": {
      "text/html": [
       "<div>\n",
       "<style scoped>\n",
       "    .dataframe tbody tr th:only-of-type {\n",
       "        vertical-align: middle;\n",
       "    }\n",
       "\n",
       "    .dataframe tbody tr th {\n",
       "        vertical-align: top;\n",
       "    }\n",
       "\n",
       "    .dataframe thead th {\n",
       "        text-align: right;\n",
       "    }\n",
       "</style>\n",
       "<table border=\"1\" class=\"dataframe\">\n",
       "  <thead>\n",
       "    <tr style=\"text-align: right;\">\n",
       "      <th></th>\n",
       "      <th>time</th>\n",
       "      <th>in.holiday</th>\n",
       "      <th>in.temp</th>\n",
       "      <th>in.windspeed</th>\n",
       "      <th>in.workingday</th>\n",
       "      <th>out.predicted_mean</th>\n",
       "      <th>check_failures</th>\n",
       "    </tr>\n",
       "  </thead>\n",
       "  <tbody>\n",
       "    <tr>\n",
       "      <th>0</th>\n",
       "      <td>2023-03-31 21:28:09.665</td>\n",
       "      <td>0</td>\n",
       "      <td>0.317391</td>\n",
       "      <td>0.184309</td>\n",
       "      <td>1</td>\n",
       "      <td>0.281983</td>\n",
       "      <td>0</td>\n",
       "    </tr>\n",
       "    <tr>\n",
       "      <th>1</th>\n",
       "      <td>2023-03-31 21:28:09.665</td>\n",
       "      <td>0</td>\n",
       "      <td>0.365217</td>\n",
       "      <td>0.203117</td>\n",
       "      <td>1</td>\n",
       "      <td>0.658847</td>\n",
       "      <td>0</td>\n",
       "    </tr>\n",
       "    <tr>\n",
       "      <th>2</th>\n",
       "      <td>2023-03-31 21:28:09.665</td>\n",
       "      <td>0</td>\n",
       "      <td>0.415000</td>\n",
       "      <td>0.209579</td>\n",
       "      <td>1</td>\n",
       "      <td>0.572368</td>\n",
       "      <td>0</td>\n",
       "    </tr>\n",
       "    <tr>\n",
       "      <th>3</th>\n",
       "      <td>2023-03-31 21:28:09.665</td>\n",
       "      <td>0</td>\n",
       "      <td>0.540000</td>\n",
       "      <td>0.231017</td>\n",
       "      <td>1</td>\n",
       "      <td>0.619873</td>\n",
       "      <td>0</td>\n",
       "    </tr>\n",
       "    <tr>\n",
       "      <th>4</th>\n",
       "      <td>2023-03-31 21:28:09.665</td>\n",
       "      <td>0</td>\n",
       "      <td>0.472500</td>\n",
       "      <td>0.368167</td>\n",
       "      <td>0</td>\n",
       "      <td>-1.217801</td>\n",
       "      <td>0</td>\n",
       "    </tr>\n",
       "    <tr>\n",
       "      <th>5</th>\n",
       "      <td>2023-03-31 21:28:09.665</td>\n",
       "      <td>0</td>\n",
       "      <td>0.332500</td>\n",
       "      <td>0.207721</td>\n",
       "      <td>0</td>\n",
       "      <td>-1.849156</td>\n",
       "      <td>0</td>\n",
       "    </tr>\n",
       "    <tr>\n",
       "      <th>6</th>\n",
       "      <td>2023-03-31 21:28:09.665</td>\n",
       "      <td>0</td>\n",
       "      <td>0.430435</td>\n",
       "      <td>0.288783</td>\n",
       "      <td>1</td>\n",
       "      <td>0.933885</td>\n",
       "      <td>0</td>\n",
       "    </tr>\n",
       "  </tbody>\n",
       "</table>\n",
       "</div>"
      ],
      "text/plain": [
       "                     time  in.holiday   in.temp  in.windspeed  in.workingday  \\\n",
       "0 2023-03-31 21:28:09.665           0  0.317391      0.184309              1   \n",
       "1 2023-03-31 21:28:09.665           0  0.365217      0.203117              1   \n",
       "2 2023-03-31 21:28:09.665           0  0.415000      0.209579              1   \n",
       "3 2023-03-31 21:28:09.665           0  0.540000      0.231017              1   \n",
       "4 2023-03-31 21:28:09.665           0  0.472500      0.368167              0   \n",
       "5 2023-03-31 21:28:09.665           0  0.332500      0.207721              0   \n",
       "6 2023-03-31 21:28:09.665           0  0.430435      0.288783              1   \n",
       "\n",
       "   out.predicted_mean  check_failures  \n",
       "0            0.281983               0  \n",
       "1            0.658847               0  \n",
       "2            0.572368               0  \n",
       "3            0.619873               0  \n",
       "4           -1.217801               0  \n",
       "5           -1.849156               0  \n",
       "6            0.933885               0  "
      ]
     },
     "metadata": {},
     "output_type": "display_data"
    }
   ],
   "source": [
    "display(results)"
   ]
  },
  {
   "cell_type": "code",
   "execution_count": 49,
   "metadata": {},
   "outputs": [
    {
     "data": {
      "text/html": [
       "<table><tr><th>name</th> <td>mlflowstatsmodelpipeline</td></tr><tr><th>created</th> <td>2023-03-29 15:30:47.168398+00:00</td></tr><tr><th>last_updated</th> <td>2023-03-31 21:27:02.378296+00:00</td></tr><tr><th>deployed</th> <td>False</td></tr><tr><th>tags</th> <td></td></tr><tr><th>versions</th> <td>42d7e5be-61eb-4b12-b5a1-cfcd50d1ad10, a0f9b98c-1111-41b1-a196-2caffa9e41c8, 06c42cf6-a4c3-4610-a0f0-f3f2464c4c1f, ace1242f-bf62-4018-b47a-b9ef2de2f80a, e20bf245-2a81-4d84-a58a-6264cf988819, ba67924f-7e4b-4b8c-be97-1c3ef995f4ac, a8ae51f2-9027-4dc6-b262-ef247948fd16</td></tr><tr><th>steps</th> <td>mlflowstatmodels</td></tr></table>"
      ],
      "text/plain": [
       "{'name': 'mlflowstatsmodelpipeline', 'create_time': datetime.datetime(2023, 3, 29, 15, 30, 47, 168398, tzinfo=tzutc()), 'definition': \"[{'ModelInference': {'models': [{'name': 'mlflowstatmodels', 'version': '38ed4b71-2eed-4f6a-b8aa-535760cb9123', 'sha': '3afd13d9c5070679e284050cd099e84aa2e5cb7c08a788b21d6cb2397615d018'}]}}, {'ModelInference': {'models': [{'name': 'mlflowpostprocess', 'version': '8cce5ed1-7f9e-44ac-9408-10221d1125e8', 'sha': '825ebae48014d297134930028ab0e823bc0d9551334b9a4402c87a714e8156b2'}]}}]\"}"
      ]
     },
     "execution_count": 49,
     "metadata": {},
     "output_type": "execute_result"
    }
   ],
   "source": [
    "pipeline.undeploy()"
   ]
  }
 ],
 "metadata": {
  "kernelspec": {
   "display_name": "arrowtests",
   "language": "python",
   "name": "python3"
  },
  "language_info": {
   "codemirror_mode": {
    "name": "ipython",
    "version": 3
   },
   "file_extension": ".py",
   "mimetype": "text/x-python",
   "name": "python",
   "nbconvert_exporter": "python",
   "pygments_lexer": "ipython3",
   "version": "3.8.12"
  },
  "vscode": {
   "interpreter": {
    "hash": "7dda4bf3640b7fafcd1648658b879b4cc9f6ba6084e8fb356fdaaa1a461d1690"
   }
  }
 },
 "nbformat": 4,
 "nbformat_minor": 4
}
