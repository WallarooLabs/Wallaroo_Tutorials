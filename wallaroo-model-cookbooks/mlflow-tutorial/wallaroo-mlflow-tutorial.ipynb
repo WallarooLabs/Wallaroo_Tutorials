{
 "cells": [
  {
   "attachments": {},
   "cell_type": "markdown",
   "metadata": {},
   "source": [
    "This tutorial and the assets can be downloaded as part of the [Wallaroo Tutorials repository](https://github.com/WallarooLabs/Wallaroo_Tutorials/tree/main/wallaroo-model-cookbooks/mlflow-tutorial).\n",
    "\n",
    "## MLFlow Inference with Wallaroo Tutorial \n",
    "\n",
    "Wallaroo users can register their trained [MLFlow ML Models](https://www.mlflow.org/docs/latest/models.html) from a containerized model container registry into their Wallaroo instance and perform inferences with it through a Wallaroo pipeline.\n",
    "\n",
    "As of this time, Wallaroo only supports **MLFlow 1.3.0** containerized models.  For information on how to containerize an MLFlow model, see the [MLFlow Documentation](https://mlflow.org/docs/latest/projects.html).\n",
    "\n",
    "This tutorial assumes that you have a Wallaroo instance, and have either your own containerized model or use the one from the reference and are running this Notebook from the Wallaroo Jupyter Hub service.\n",
    "\n",
    "See the [Wallaroo Private Containerized Model Container Registry Guide](https://docs.wallaroo.ai/wallaroo-operations-guide/wallaroo-configuration/wallaroo-private-model-registry/) for details on how to configure a Wallaroo instance with a private model registry.\n",
    "\n",
    "## MLFlow Data Formats\n",
    "\n",
    "When using containerized MLFlow models with Wallaroo, the inputs and outputs must be named.  For example, the following output:\n",
    "\n",
    "```json\n",
    "[-12.045839810372835]\n",
    "```\n",
    "\n",
    "Would need to be wrapped with the data values named:\n",
    "\n",
    "```json\n",
    "[{\"prediction\": -12.045839810372835}]\n",
    "```\n",
    "\n",
    "A short sample code for wrapping data may be:\n",
    "\n",
    "```python\n",
    "output_df = pd.DataFrame(prediction, columns=[\"prediction\"])\n",
    "return output_df\n",
    "```\n",
    "\n",
    "### MLFlow Models and Wallaroo\n",
    "\n",
    "MLFlow models are composed of two parts:  the model, and the flavors.  When submitting a MLFlow model to Wallaroo, both aspects must be part of the ML Model included in the container.  For full information about MLFlow model structure, see the [MLFlow Documentation](https://www.mlflow.org/docs/latest/index.html).\n",
    "\n",
    "Wallaroo registers the models from container registries.  Organizations will either have to make their containers available in a public or through a private Containerized Model Container Registry service.  For examples on setting up a private container registry service, see the [Docker Documentation \"Deploy a registry server\"](https://docs.docker.com/registry/deploying/).  For more details on setting up a container registry in a cloud environment, see the related documentation for your preferred cloud provider:\n",
    "  * [Google Cloud Platform Container Registry](https://cloud.google.com/container-registry)\n",
    "  * [Amazon Web Services Elastic Container Registry](https://docs.aws.amazon.com/AmazonECR/latest/userguide/what-is-ecr.html)\n",
    "  *  [Microsoft Azure Container Registry](https://azure.microsoft.com/en-us/free/container-registry/)\n",
    "\n",
    "For this example, we will be using the MLFlow containers that was registered in a GitHub container registry service in MLFlow Creation Tutorial Part 03: Container Registration.  The address of those containers are:\n",
    "\n",
    "* postprocess: ghcr.io/johnhansarickwallaroo/mlflowtests/mlflow-postprocess-example .  Used for format data after the statsmodel inferences.\n",
    "* statsmodel: ghcr.io/johnhansarickwallaroo/mlflowtests/mlflow-statsmodels-example . The statsmodel generated in MLFlow Creation Tutorial Part 01: Model Creation.\n",
    "\n",
    "### Prerequisites\n",
    "\n",
    "Before uploading and running an inference with a MLFlow model in Wallaroo the following will be required:\n",
    "\n",
    "* **MLFlow Input Schema**:  The input schema with the fields and data types for each MLFlow model type uploaded to Wallaroo.  In the examples below, the data types are imported using the `pyarrow` library.\n",
    "* A Wallaroo instance version 2023.1 or later.\n",
    "\n",
    "**IMPORTANT NOTE**:  Wallaroo supports MLFlow 1.3.0.  Please ensure the MLFlow models used in Wallaroo meet this specification."
   ]
  },
  {
   "attachments": {},
   "cell_type": "markdown",
   "metadata": {},
   "source": [
    "## MLFlow Inference Steps\n",
    "\n",
    "To register a containerized MLFlow ML Model into Wallaroo, use the following general step:\n",
    "\n",
    "* Import Libraries\n",
    "* Connect to Wallaroo\n",
    "* Set MLFlow Input Schemas\n",
    "* Register MLFlow Model\n",
    "* Create Pipeline and Add Model Steps\n",
    "* Run Inference"
   ]
  },
  {
   "cell_type": "markdown",
   "metadata": {},
   "source": [
    "### Import Libraries\n",
    "\n",
    "We start by importing the libraries we will need to connect to Wallaroo and use our MLFlow models. This includes the `wallaroo` libraries, `pyarrow` for data types, and the `json` library for handling JSON data."
   ]
  },
  {
   "cell_type": "code",
   "execution_count": 45,
   "metadata": {},
   "outputs": [],
   "source": [
    "import uuid\n",
    "import json\n",
    "\n",
    "import numpy as np\n",
    "\n",
    "import wallaroo\n",
    "from wallaroo.object import EntityNotFoundError\n",
    "\n",
    "import pyarrow as pa"
   ]
  },
  {
   "cell_type": "markdown",
   "metadata": {},
   "source": [
    "### Connect to Wallaroo\n",
    "\n",
    "Connect to Wallaroo and store the connection in the variable `wl`.\n",
    "\n",
    "The folowing methods are used to create the workspace and pipeline for this tutorial.  A workspace is created and set as the current workspace that will contain the registered models and pipelines."
   ]
  },
  {
   "cell_type": "code",
   "execution_count": null,
   "metadata": {},
   "outputs": [],
   "source": [
    "# Login through local service\n",
    "\n",
    "# wl = wallaroo.Client()\n",
    "\n",
    "# SSO login through keycloak\n",
    "\n",
    "wallarooPrefix = \"YOUR PREFIX\"\n",
    "wallarooSuffix = \"YOUR SUFFIX\"\n",
    "\n",
    "wl = wallaroo.Client(api_endpoint=f\"https://{wallarooPrefix}.api.{wallarooSuffix}\", \n",
    "                auth_endpoint=f\"https://{wallarooPrefix}.keycloak.{wallarooSuffix}\", \n",
    "                auth_type=\"sso\")"
   ]
  },
  {
   "attachments": {},
   "cell_type": "markdown",
   "metadata": {},
   "source": [
    "### Arrow Support\n",
    "\n",
    "As of the 2023.1 release, Wallaroo provides support for DataFrame and Arrow for inference inputs.  This tutorial allows users to adjust their experience based on whether they have enabled Arrow support in their Wallaroo instance or not.\n",
    "\n",
    "If Arrow support has been enabled, `arrowEnabled=True`. If disabled or you're not sure, set it to `arrowEnabled=False`\n",
    "\n",
    "The examples below will be shown in an arrow enabled environment."
   ]
  },
  {
   "cell_type": "code",
   "execution_count": 20,
   "metadata": {},
   "outputs": [
    {
     "name": "stdout",
     "output_type": "stream",
     "text": [
      "True\n"
     ]
    }
   ],
   "source": [
    "import os\n",
    "# Only set the below to make the OS environment ARROW_ENABLED to TRUE.  Otherwise, leave as is.\n",
    "# os.environ[\"ARROW_ENABLED\"]=\"True\"\n",
    "\n",
    "if \"ARROW_ENABLED\" not in os.environ or os.environ[\"ARROW_ENABLED\"].casefold() == \"False\".casefold():\n",
    "    arrowEnabled = False\n",
    "else:\n",
    "    arrowEnabled = True\n",
    "print(arrowEnabled)"
   ]
  },
  {
   "cell_type": "code",
   "execution_count": 21,
   "metadata": {},
   "outputs": [],
   "source": [
    "def get_workspace(name):\n",
    "    workspace = None\n",
    "    for ws in wl.list_workspaces():\n",
    "        if ws.name() == name:\n",
    "            workspace= ws\n",
    "    if(workspace == None):\n",
    "        workspace = wl.create_workspace(name)\n",
    "    return workspace\n",
    "\n",
    "def get_pipeline(name):\n",
    "    try:\n",
    "        pipeline = wl.pipelines_by_name(pipeline_name)[0]\n",
    "    except EntityNotFoundError:\n",
    "        pipeline = wl.build_pipeline(pipeline_name)\n",
    "    return pipeline"
   ]
  },
  {
   "cell_type": "code",
   "execution_count": 22,
   "metadata": {},
   "outputs": [],
   "source": [
    "prefix = 'mlflow'\n",
    "workspace_name= f\"{prefix}statsmodelworkspace\"\n",
    "pipeline_name = f\"{prefix}statsmodelpipeline\"\n",
    "\n",
    "mlflowworkspace = get_workspace(workspace_name)\n",
    "wl.set_current_workspace(mlflowworkspace)\n",
    "\n",
    "\n",
    "pipeline = get_pipeline(pipeline_name)"
   ]
  },
  {
   "cell_type": "markdown",
   "metadata": {},
   "source": [
    "### Set MLFlow Input Schemas\n",
    "\n",
    "Set the MLFlow input schemas through the `pyarrow` library.  In the examples below, the input schemas for both the MLFlow model `statsmodels-test` and the `statsmodels-test-postprocess` model."
   ]
  },
  {
   "cell_type": "code",
   "execution_count": 23,
   "metadata": {},
   "outputs": [],
   "source": [
    "sm_input_schema = pa.schema([\n",
    "  pa.field('temp', pa.float32()),\n",
    "  pa.field('holiday', pa.uint8()),\n",
    "  pa.field('workingday', pa.uint8()),\n",
    "  pa.field('windspeed', pa.float32())\n",
    "])\n",
    "\n",
    "pp_input_schema = pa.schema([\n",
    "    pa.field('predicted_mean', pa.float32())\n",
    "])"
   ]
  },
  {
   "cell_type": "markdown",
   "metadata": {},
   "source": [
    "### Register MLFlow Model\n",
    "\n",
    "Use the `register_model_image` method to register the Docker container containing the MLFlow models."
   ]
  },
  {
   "cell_type": "code",
   "execution_count": 24,
   "metadata": {},
   "outputs": [],
   "source": [
    "statsmodelUrl = \"ghcr.io/wallaroolabs/wallaroo_tutorials/mlflow-statsmodels-example:2022.4\"\n",
    "postprocessUrl = \"ghcr.io/wallaroolabs/wallaroo_tutorials/mlflow-postprocess-example:2022.4\"\n",
    "\n",
    "sm_model = wl.register_model_image(\n",
    "    name=f\"{prefix}statmodels\",\n",
    "    image=f\"{statsmodelUrl}\"\n",
    ").configure(\"mlflow\", input_schema=sm_input_schema, output_schema=pp_input_schema)\n",
    "pp_model = wl.register_model_image(\n",
    "    name=f\"{prefix}postprocess\",\n",
    "    image=f\"{postprocessUrl}\"\n",
    ").configure(\"mlflow\", input_schema=pp_input_schema, output_schema=pp_input_schema)"
   ]
  },
  {
   "cell_type": "markdown",
   "metadata": {},
   "source": [
    "### Create Pipeline and Add Model Steps\n",
    "\n",
    "With the models registered, we can add the MLFlow models as steps in the pipeline.  Once ready, we will deploy the pipeline so it is available for submitting data for running inferences."
   ]
  },
  {
   "cell_type": "code",
   "execution_count": 25,
   "metadata": {},
   "outputs": [
    {
     "data": {
      "text/html": [
       "<table><tr><th>name</th> <td>mlflowstatsmodelpipeline</td></tr><tr><th>created</th> <td>2023-03-02 18:06:43.227930+00:00</td></tr><tr><th>last_updated</th> <td>2023-03-02 18:06:43.227930+00:00</td></tr><tr><th>deployed</th> <td>(none)</td></tr><tr><th>tags</th> <td></td></tr><tr><th>versions</th> <td>7e0bdce0-20ce-4b46-ae24-e1ac53a1c6d2</td></tr><tr><th>steps</th> <td></td></tr></table>"
      ],
      "text/plain": [
       "{'name': 'mlflowstatsmodelpipeline', 'create_time': datetime.datetime(2023, 3, 2, 18, 6, 43, 227930, tzinfo=tzutc()), 'definition': \"[{'ModelInference': {'models': [{'name': 'mlflowstatmodels', 'version': 'aa17282c-0d17-4a95-bc0a-741ffdbd35c8', 'sha': '6029a5ba3dd2f7aee588bc285ed97bb7cabb302c190c9b9337f0985614f1ed93'}]}}, {'ModelInference': {'models': [{'name': 'mlflowpostprocess', 'version': 'c2f63298-db6f-43c4-91f7-f2f22d9aced0', 'sha': '3dd892e3bba894455bc6c7031b4dc9ce79e70330c65a1de2689dca00cdec59df'}]}}]\"}"
      ]
     },
     "execution_count": 25,
     "metadata": {},
     "output_type": "execute_result"
    }
   ],
   "source": [
    "pipeline.add_model_step(sm_model)\n",
    "pipeline.add_model_step(pp_model)"
   ]
  },
  {
   "cell_type": "code",
   "execution_count": 26,
   "metadata": {},
   "outputs": [
    {
     "data": {
      "text/html": [
       "<table><tr><th>name</th> <td>mlflowstatsmodelpipeline</td></tr><tr><th>created</th> <td>2023-03-02 18:06:43.227930+00:00</td></tr><tr><th>last_updated</th> <td>2023-03-02 18:06:48.462230+00:00</td></tr><tr><th>deployed</th> <td>True</td></tr><tr><th>tags</th> <td></td></tr><tr><th>versions</th> <td>79d6eba9-5eb6-4d70-9676-dc2db997a7ea, 7e0bdce0-20ce-4b46-ae24-e1ac53a1c6d2</td></tr><tr><th>steps</th> <td>mlflowstatmodels</td></tr></table>"
      ],
      "text/plain": [
       "{'name': 'mlflowstatsmodelpipeline', 'create_time': datetime.datetime(2023, 3, 2, 18, 6, 43, 227930, tzinfo=tzutc()), 'definition': \"[{'ModelInference': {'models': [{'name': 'mlflowstatmodels', 'version': 'aa17282c-0d17-4a95-bc0a-741ffdbd35c8', 'sha': '6029a5ba3dd2f7aee588bc285ed97bb7cabb302c190c9b9337f0985614f1ed93'}]}}, {'ModelInference': {'models': [{'name': 'mlflowpostprocess', 'version': 'c2f63298-db6f-43c4-91f7-f2f22d9aced0', 'sha': '3dd892e3bba894455bc6c7031b4dc9ce79e70330c65a1de2689dca00cdec59df'}]}}]\"}"
      ]
     },
     "execution_count": 26,
     "metadata": {},
     "output_type": "execute_result"
    }
   ],
   "source": [
    "pipeline.deploy()"
   ]
  },
  {
   "cell_type": "code",
   "execution_count": 27,
   "metadata": {},
   "outputs": [
    {
     "data": {
      "text/plain": [
       "{'status': 'Running',\n",
       " 'details': [],\n",
       " 'engines': [{'ip': '10.244.15.72',\n",
       "   'name': 'engine-6cf5554547-rvswq',\n",
       "   'status': 'Running',\n",
       "   'reason': None,\n",
       "   'details': [],\n",
       "   'pipeline_statuses': {'pipelines': [{'id': 'mlflowstatsmodelpipeline',\n",
       "      'status': 'Running'}]},\n",
       "   'model_statuses': {'models': [{'name': 'mlflowstatmodels',\n",
       "      'version': 'aa17282c-0d17-4a95-bc0a-741ffdbd35c8',\n",
       "      'sha': '6029a5ba3dd2f7aee588bc285ed97bb7cabb302c190c9b9337f0985614f1ed93',\n",
       "      'status': 'Running'},\n",
       "     {'name': 'mlflowpostprocess',\n",
       "      'version': 'c2f63298-db6f-43c4-91f7-f2f22d9aced0',\n",
       "      'sha': '3dd892e3bba894455bc6c7031b4dc9ce79e70330c65a1de2689dca00cdec59df',\n",
       "      'status': 'Running'}]}}],\n",
       " 'engine_lbs': [{'ip': '10.244.16.252',\n",
       "   'name': 'engine-lb-ddd995646-mlh2q',\n",
       "   'status': 'Running',\n",
       "   'reason': None,\n",
       "   'details': []}],\n",
       " 'sidekicks': [{'ip': '10.244.16.251',\n",
       "   'name': 'engine-sidekick-mlflowstatmodels-6-65d85f97fd-kcs4h',\n",
       "   'status': 'Running',\n",
       "   'reason': None,\n",
       "   'details': [],\n",
       "   'statuses': '\\n'},\n",
       "  {'ip': '10.244.15.71',\n",
       "   'name': 'engine-sidekick-mlflowpostprocess-7-649797d44b-gwhjl',\n",
       "   'status': 'Running',\n",
       "   'reason': None,\n",
       "   'details': [],\n",
       "   'statuses': '\\n'}]}"
      ]
     },
     "execution_count": 27,
     "metadata": {},
     "output_type": "execute_result"
    }
   ],
   "source": [
    "pipeline.status()"
   ]
  },
  {
   "cell_type": "markdown",
   "metadata": {},
   "source": [
    "### Run Inference\n",
    "\n",
    "Once the pipeline is running, we can submit our data to the pipeline and return our results.  Once finished, we will undeploy the pipeline to return the resources back to the cluster."
   ]
  },
  {
   "cell_type": "code",
   "execution_count": 58,
   "metadata": {},
   "outputs": [
    {
     "data": {
      "text/html": [
       "<div>\n",
       "<style scoped>\n",
       "    .dataframe tbody tr th:only-of-type {\n",
       "        vertical-align: middle;\n",
       "    }\n",
       "\n",
       "    .dataframe tbody tr th {\n",
       "        vertical-align: top;\n",
       "    }\n",
       "\n",
       "    .dataframe thead th {\n",
       "        text-align: right;\n",
       "    }\n",
       "</style>\n",
       "<table border=\"1\" class=\"dataframe\">\n",
       "  <thead>\n",
       "    <tr style=\"text-align: right;\">\n",
       "      <th></th>\n",
       "      <th>model_name</th>\n",
       "      <th>model_version</th>\n",
       "      <th>pipeline_name</th>\n",
       "      <th>outputs</th>\n",
       "      <th>elapsed</th>\n",
       "      <th>time</th>\n",
       "      <th>original_data</th>\n",
       "      <th>check_failures</th>\n",
       "      <th>shadow_data</th>\n",
       "    </tr>\n",
       "  </thead>\n",
       "  <tbody>\n",
       "    <tr>\n",
       "      <th>0</th>\n",
       "      <td>mlflowpostprocess</td>\n",
       "      <td>c2f63298-db6f-43c4-91f7-f2f22d9aced0</td>\n",
       "      <td>mlflowstatsmodelpipeline</td>\n",
       "      <td>[{'Float': {'v': 1, 'dim': [7, 1], 'data': [0....</td>\n",
       "      <td>200</td>\n",
       "      <td>2023-03-02 18:21:26.057</td>\n",
       "      <td>None</td>\n",
       "      <td>0</td>\n",
       "      <td>{}</td>\n",
       "    </tr>\n",
       "  </tbody>\n",
       "</table>\n",
       "</div>"
      ],
      "text/plain": [
       "          model_name                         model_version  \\\n",
       "0  mlflowpostprocess  c2f63298-db6f-43c4-91f7-f2f22d9aced0   \n",
       "\n",
       "              pipeline_name  \\\n",
       "0  mlflowstatsmodelpipeline   \n",
       "\n",
       "                                             outputs  elapsed  \\\n",
       "0  [{'Float': {'v': 1, 'dim': [7, 1], 'data': [0....      200   \n",
       "\n",
       "                     time original_data  check_failures shadow_data  \n",
       "0 2023-03-02 18:21:26.057          None               0          {}  "
      ]
     },
     "execution_count": 58,
     "metadata": {},
     "output_type": "execute_result"
    }
   ],
   "source": [
    "results = pipeline.infer_from_file('./resources/bike_day_eval_engine.json')\n",
    "results"
   ]
  },
  {
   "cell_type": "code",
   "execution_count": 56,
   "metadata": {},
   "outputs": [
    {
     "data": {
      "text/plain": [
       "[0.2819833755493164,\n",
       " 0.6588467955589294,\n",
       " 0.5723681449890137,\n",
       " 0.6198734641075134,\n",
       " -1.2178009748458862,\n",
       " -1.8491559028625488,\n",
       " 0.9338850378990173]"
      ]
     },
     "metadata": {},
     "output_type": "display_data"
    }
   ],
   "source": [
    "if arrowEnabled is True:\n",
    "    display(results.loc[0,'outputs'][0]['Float']['data'])\n",
    "else:\n",
    "    display(results[0].data()[0])"
   ]
  },
  {
   "cell_type": "code",
   "execution_count": 61,
   "metadata": {},
   "outputs": [
    {
     "data": {
      "text/html": [
       "<table><tr><th>name</th> <td>mlflowstatsmodelpipeline</td></tr><tr><th>created</th> <td>2023-03-02 18:06:43.227930+00:00</td></tr><tr><th>last_updated</th> <td>2023-03-02 18:06:48.462230+00:00</td></tr><tr><th>deployed</th> <td>False</td></tr><tr><th>tags</th> <td></td></tr><tr><th>versions</th> <td>79d6eba9-5eb6-4d70-9676-dc2db997a7ea, 7e0bdce0-20ce-4b46-ae24-e1ac53a1c6d2</td></tr><tr><th>steps</th> <td>mlflowstatmodels</td></tr></table>"
      ],
      "text/plain": [
       "{'name': 'mlflowstatsmodelpipeline', 'create_time': datetime.datetime(2023, 3, 2, 18, 6, 43, 227930, tzinfo=tzutc()), 'definition': \"[{'ModelInference': {'models': [{'name': 'mlflowstatmodels', 'version': 'aa17282c-0d17-4a95-bc0a-741ffdbd35c8', 'sha': '6029a5ba3dd2f7aee588bc285ed97bb7cabb302c190c9b9337f0985614f1ed93'}]}}, {'ModelInference': {'models': [{'name': 'mlflowpostprocess', 'version': 'c2f63298-db6f-43c4-91f7-f2f22d9aced0', 'sha': '3dd892e3bba894455bc6c7031b4dc9ce79e70330c65a1de2689dca00cdec59df'}]}}]\"}"
      ]
     },
     "execution_count": 61,
     "metadata": {},
     "output_type": "execute_result"
    }
   ],
   "source": [
    "pipeline.undeploy()"
   ]
  }
 ],
 "metadata": {
  "kernelspec": {
   "display_name": "arrowtests",
   "language": "python",
   "name": "python3"
  },
  "language_info": {
   "codemirror_mode": {
    "name": "ipython",
    "version": 3
   },
   "file_extension": ".py",
   "mimetype": "text/x-python",
   "name": "python",
   "nbconvert_exporter": "python",
   "pygments_lexer": "ipython3",
   "version": "3.8.12"
  },
  "vscode": {
   "interpreter": {
    "hash": "7dda4bf3640b7fafcd1648658b879b4cc9f6ba6084e8fb356fdaaa1a461d1690"
   }
  }
 },
 "nbformat": 4,
 "nbformat_minor": 4
}
