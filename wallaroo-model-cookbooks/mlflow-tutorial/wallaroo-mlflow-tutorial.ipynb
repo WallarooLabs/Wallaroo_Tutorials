{
 "cells": [
  {
   "attachments": {},
   "cell_type": "markdown",
   "metadata": {},
   "source": [
    "This tutorial and the assets can be downloaded as part of the [Wallaroo Tutorials repository](https://github.com/WallarooLabs/Wallaroo_Tutorials/tree/main/wallaroo-model-cookbooks/mlflow-tutorial).\n",
    "\n",
    "## MLFlow Inference with Wallaroo Tutorial \n",
    "\n",
    "Wallaroo users can register their trained [MLFlow ML Models](https://www.mlflow.org/docs/latest/models.html) from a containerized model container registry into their Wallaroo instance and perform inferences with it through a Wallaroo pipeline.\n",
    "\n",
    "As of this time, Wallaroo only supports MLFlow 1.3.0 containerized models.  For information on how to containerize an MLFlow model, see the [MLFlow Documentation](https://mlflow.org/docs/latest/projects.html).\n",
    "\n",
    "This tutorial assumes that you have a Wallaroo instance, and have either your own containerized model or use the one from the reference and are running this Notebook from the Wallaroo Jupyter Hub service.\n",
    "\n",
    "See the [Wallaroo Private Containerized Model Container Registry Guide](https://docs.wallaroo.ai/wallaroo-operations-guide/wallaroo-configuration/wallaroo-private-model-registry/) for details on how to configure a Wallaroo instance with a private model registry.\n",
    "\n",
    "## MLFlow Data Formats\n",
    "\n",
    "When using containerized MLFlow models with Wallaroo, the inputs and outputs must be named.  For example, the following output:\n",
    "\n",
    "```json\n",
    "[-12.045839810372835]\n",
    "```\n",
    "\n",
    "Would need to be wrapped with the data values named:\n",
    "\n",
    "```json\n",
    "[{\"prediction\": -12.045839810372835}]\n",
    "```\n",
    "\n",
    "A short sample code for wrapping data may be:\n",
    "\n",
    "```python\n",
    "output_df = pd.DataFrame(prediction, columns=[\"prediction\"])\n",
    "return output_df\n",
    "```\n",
    "\n",
    "### MLFlow Models and Wallaroo\n",
    "\n",
    "MLFlow models are composed of two parts:  the model, and the flavors.  When submitting a MLFlow model to Wallaroo, both aspects must be part of the ML Model included in the container.  For full information about MLFlow model structure, see the [MLFlow Documentation](https://www.mlflow.org/docs/latest/index.html).\n",
    "\n",
    "Wallaroo registers the models from container registries.  Organizations will either have to make their containers available in a public or through a private Containerized Model Container Registry service.  For examples on setting up a private container registry service, see the [Docker Documentation \"Deploy a registry server\"](https://docs.docker.com/registry/deploying/).  For more details on setting up a container registry in a cloud environment, see the related documentation for your preferred cloud provider:\n",
    "  * [Google Cloud Platform Container Registry](https://cloud.google.com/container-registry)\n",
    "  * [Amazon Web Services Elastic Container Registry](https://docs.aws.amazon.com/AmazonECR/latest/userguide/what-is-ecr.html)\n",
    "  *  [Microsoft Azure Container Registry](https://azure.microsoft.com/en-us/free/container-registry/)\n",
    "\n",
    "For this example, we will be using the MLFlow containers that was registered in a GitHub container registry service in MLFlow Creation Tutorial Part 03: Container Registration.  The address of those containers are:\n",
    "\n",
    "* postprocess: ghcr.io/johnhansarickwallaroo/mlflowtests/mlflow-postprocess-example .  Used for format data after the statsmodel inferences.\n",
    "* statsmodel: ghcr.io/johnhansarickwallaroo/mlflowtests/mlflow-statsmodels-example . The statsmodel generated in MLFlow Creation Tutorial Part 01: Model Creation.\n",
    "\n",
    "### Prerequisites\n",
    "\n",
    "Before uploading and running an inference with a MLFlow model in Wallaroo the following will be required:\n",
    "\n",
    "* **MLFlow Input Schema**:  The input schema with the fields and data types for each MLFlow model type uploaded to Wallaroo.  In the examples below, the data types are imported using the `pyarrow` library.\n",
    "* A Wallaroo instance version 2022.4 or later.\n",
    "\n",
    "**IMPORTANT NOTE**:  Wallaroo supports MLFlow 1.3.0.  Please ensure the MLFlow models used in Wallaroo meet this specification."
   ]
  },
  {
   "attachments": {},
   "cell_type": "markdown",
   "metadata": {},
   "source": [
    "## MLFlow Inference Steps\n",
    "\n",
    "To register a containerized MLFlow ML Model into Wallaroo, use the following general step:\n",
    "\n",
    "* Import Libraries\n",
    "* Connect to Wallaroo\n",
    "* Set MLFlow Input Schemas\n",
    "* Register MLFlow Model\n",
    "* Create Pipeline and Add Model Steps\n",
    "* Run Inference"
   ]
  },
  {
   "cell_type": "markdown",
   "metadata": {},
   "source": [
    "### Import Libraries\n",
    "\n",
    "We start by importing the libraries we will need to connect to Wallaroo and use our MLFlow models. This includes the `wallaroo` libraries, `pyarrow` for data types, and the `json` library for handling JSON data."
   ]
  },
  {
   "cell_type": "code",
   "execution_count": 67,
   "metadata": {},
   "outputs": [],
   "source": [
    "import uuid\n",
    "import json\n",
    "\n",
    "import wallaroo\n",
    "from wallaroo.object import EntityNotFoundError\n",
    "\n",
    "import pyarrow as pa"
   ]
  },
  {
   "cell_type": "markdown",
   "metadata": {},
   "source": [
    "### Connect to Wallaroo\n",
    "\n",
    "Connect to Wallaroo and store the connection in the variable `wl`.\n",
    "\n",
    "The folowing methods are used to create the workspace and pipeline for this tutorial.  A workspace is created and set as the current workspace that will contain the registered models and pipelines."
   ]
  },
  {
   "cell_type": "code",
   "execution_count": 68,
   "metadata": {},
   "outputs": [],
   "source": [
    "# SSO login through keycloak\n",
    "\n",
    "wallarooPrefix = \"YOUR PREFIX\"\n",
    "wallarooSuffix = \"YOUR SUFFIX\"\n",
    "\n",
    "\n",
    "wl = wallaroo.Client(api_endpoint=f\"https://{wallarooPrefix}.api.{wallarooSuffix}\", \n",
    "                auth_endpoint=f\"https://{wallarooPrefix}.keycloak.{wallarooSuffix}\", \n",
    "                auth_type=\"sso\")"
   ]
  },
  {
   "cell_type": "code",
   "execution_count": 69,
   "metadata": {},
   "outputs": [],
   "source": [
    "def get_workspace(name):\n",
    "    workspace = None\n",
    "    for ws in wl.list_workspaces():\n",
    "        if ws.name() == name:\n",
    "            workspace= ws\n",
    "    if(workspace == None):\n",
    "        workspace = wl.create_workspace(name)\n",
    "    return workspace\n",
    "\n",
    "def get_pipeline(name):\n",
    "    try:\n",
    "        pipeline = wl.pipelines_by_name(pipeline_name)[0]\n",
    "    except EntityNotFoundError:\n",
    "        pipeline = wl.build_pipeline(pipeline_name)\n",
    "    return pipeline"
   ]
  },
  {
   "cell_type": "code",
   "execution_count": 70,
   "metadata": {},
   "outputs": [],
   "source": [
    "prefix = 'statsmodels-test'\n",
    "workspace_name= \"statsmodelworkspace\"\n",
    "pipeline_name = \"statsmodelpipeline\"\n",
    "\n",
    "mlflowworkspace = get_workspace(workspace_name)\n",
    "wl.set_current_workspace(mlflowworkspace)\n",
    "\n",
    "\n",
    "pipeline = get_pipeline(pipeline_name)"
   ]
  },
  {
   "cell_type": "markdown",
   "metadata": {},
   "source": [
    "### Set MLFlow Input Schemas\n",
    "\n",
    "Set the MLFlow input schemas through the `pyarrow` library.  In the examples below, the input schemas for both the MLFlow model `statsmodels-test` and the `statsmodels-test-postprocess` model."
   ]
  },
  {
   "cell_type": "code",
   "execution_count": 71,
   "metadata": {},
   "outputs": [],
   "source": [
    "sm_input_schema = pa.schema([\n",
    "  pa.field('temp', pa.float32()),\n",
    "  pa.field('holiday', pa.uint8()),\n",
    "  pa.field('workingday', pa.uint8()),\n",
    "  pa.field('windspeed', pa.float32())\n",
    "])\n",
    "\n",
    "pp_input_schema = pa.schema([\n",
    "    pa.field('predicted_mean', pa.float32())\n",
    "])"
   ]
  },
  {
   "cell_type": "markdown",
   "metadata": {},
   "source": [
    "### Register MLFlow Model\n",
    "\n",
    "Use the `register_model_image` method to register the Docker container containing the MLFlow models."
   ]
  },
  {
   "cell_type": "code",
   "execution_count": 72,
   "metadata": {},
   "outputs": [],
   "source": [
    "statsmodelUrl = \"ghcr.io/wallaroolabs/wallaroo_tutorials/mlflow-statsmodels-example:2022.4\"\n",
    "postprocessUrl = \"ghcr.io/wallaroolabs/wallaroo_tutorials/mlflow-postprocess-example:2022.4\"\n",
    "\n",
    "sm_model = wl.register_model_image(\n",
    "    name=f\"{prefix}-statmodels\",\n",
    "    image=f\"{statsmodelUrl}\"\n",
    ").configure(\"mlflow\", input_schema=sm_input_schema, output_schema=pp_input_schema)\n",
    "pp_model = wl.register_model_image(\n",
    "    name=f\"{prefix}-postprocess\",\n",
    "    image=f\"{postprocessUrl}\"\n",
    ").configure(\"mlflow\", input_schema=pp_input_schema, output_schema=pp_input_schema)"
   ]
  },
  {
   "cell_type": "markdown",
   "metadata": {},
   "source": [
    "### Create Pipeline and Add Model Steps\n",
    "\n",
    "With the models registered, we can add the MLFlow models as steps in the pipeline.  Once ready, we will deploy the pipeline so it is available for submitting data for running inferences."
   ]
  },
  {
   "cell_type": "code",
   "execution_count": 74,
   "metadata": {},
   "outputs": [
    {
     "data": {
      "text/html": [
       "<table><tr><th>name</th> <td>statsmodelpipeline</td></tr><tr><th>created</th> <td>2023-01-09 19:11:40.149983+00:00</td></tr><tr><th>last_updated</th> <td>2023-01-09 20:08:04.722635+00:00</td></tr><tr><th>deployed</th> <td>False</td></tr><tr><th>tags</th> <td></td></tr><tr><th>versions</th> <td>facae641-8eef-421c-b8e7-71a34959e1b6, 950bd9a6-130d-491f-9328-8e627e9b95f0, ba1e7414-a383-4679-90e2-681102bad9df, 3edbdab3-f7d2-427b-9d27-78c6815931a8, 164955dd-e9af-4128-8e04-10be1c26eda3, c92cdeb9-f54a-4ae4-b990-13d00ceca3a5, d8bd9a57-5f05-46b0-be43-4fc15c137f08, 406c6969-c3f4-4dc6-bb26-b77bd25d3d6b, 7838cb49-4c51-446a-a48e-5eeb37299b9e</td></tr><tr><th>steps</th> <td>statsmodels-test-statmodels</td></tr></table>"
      ],
      "text/plain": [
       "{'name': 'statsmodelpipeline', 'create_time': datetime.datetime(2023, 1, 9, 19, 11, 40, 149983, tzinfo=tzutc()), 'definition': \"[{'ModelInference': {'models': [{'name': 'statsmodels-test-statmodels', 'version': '01d5b5a1-39f5-4097-a023-9bd8da5e01dd', 'sha': '6029a5ba3dd2f7aee588bc285ed97bb7cabb302c190c9b9337f0985614f1ed93'}]}}, {'ModelInference': {'models': [{'name': 'statsmodels-test-postprocess', 'version': 'cb654179-e9ee-4ec9-972f-0fc625c13e32', 'sha': '3dd892e3bba894455bc6c7031b4dc9ce79e70330c65a1de2689dca00cdec59df'}]}}]\"}"
      ]
     },
     "execution_count": 74,
     "metadata": {},
     "output_type": "execute_result"
    }
   ],
   "source": [
    "pipeline.add_model_step(sm_model)\n",
    "pipeline.add_model_step(pp_model)"
   ]
  },
  {
   "cell_type": "code",
   "execution_count": 75,
   "metadata": {},
   "outputs": [
    {
     "data": {
      "text/html": [
       "<table><tr><th>name</th> <td>statsmodelpipeline</td></tr><tr><th>created</th> <td>2023-01-09 19:11:40.149983+00:00</td></tr><tr><th>last_updated</th> <td>2023-01-09 20:11:55.754558+00:00</td></tr><tr><th>deployed</th> <td>True</td></tr><tr><th>tags</th> <td></td></tr><tr><th>versions</th> <td>50bf648c-082b-4a13-a4a6-162884d14802, facae641-8eef-421c-b8e7-71a34959e1b6, 950bd9a6-130d-491f-9328-8e627e9b95f0, ba1e7414-a383-4679-90e2-681102bad9df, 3edbdab3-f7d2-427b-9d27-78c6815931a8, 164955dd-e9af-4128-8e04-10be1c26eda3, c92cdeb9-f54a-4ae4-b990-13d00ceca3a5, d8bd9a57-5f05-46b0-be43-4fc15c137f08, 406c6969-c3f4-4dc6-bb26-b77bd25d3d6b, 7838cb49-4c51-446a-a48e-5eeb37299b9e</td></tr><tr><th>steps</th> <td>statsmodels-test-statmodels</td></tr></table>"
      ],
      "text/plain": [
       "{'name': 'statsmodelpipeline', 'create_time': datetime.datetime(2023, 1, 9, 19, 11, 40, 149983, tzinfo=tzutc()), 'definition': \"[{'ModelInference': {'models': [{'name': 'statsmodels-test-statmodels', 'version': '01d5b5a1-39f5-4097-a023-9bd8da5e01dd', 'sha': '6029a5ba3dd2f7aee588bc285ed97bb7cabb302c190c9b9337f0985614f1ed93'}]}}, {'ModelInference': {'models': [{'name': 'statsmodels-test-postprocess', 'version': 'cb654179-e9ee-4ec9-972f-0fc625c13e32', 'sha': '3dd892e3bba894455bc6c7031b4dc9ce79e70330c65a1de2689dca00cdec59df'}]}}]\"}"
      ]
     },
     "execution_count": 75,
     "metadata": {},
     "output_type": "execute_result"
    }
   ],
   "source": [
    "pipeline.deploy()"
   ]
  },
  {
   "cell_type": "markdown",
   "metadata": {},
   "source": [
    "### Run Inference\n",
    "\n",
    "Once the pipeline is running, we can submit our data to the pipeline and return our results.  Once finished, we will undeploy the pipeline to return the resources back to the cluster."
   ]
  },
  {
   "cell_type": "code",
   "execution_count": 76,
   "metadata": {},
   "outputs": [
    {
     "data": {
      "text/plain": [
       "{'status': 'Running',\n",
       " 'details': [],\n",
       " 'engines': [{'ip': '10.244.2.90',\n",
       "   'name': 'engine-7bfd4c684f-k7lr4',\n",
       "   'status': 'Running',\n",
       "   'reason': None,\n",
       "   'details': [],\n",
       "   'pipeline_statuses': {'pipelines': [{'id': 'statsmodelpipeline',\n",
       "      'status': 'Running'}]},\n",
       "   'model_statuses': {'models': [{'name': 'statsmodels-test-postprocess',\n",
       "      'version': 'cb654179-e9ee-4ec9-972f-0fc625c13e32',\n",
       "      'sha': '3dd892e3bba894455bc6c7031b4dc9ce79e70330c65a1de2689dca00cdec59df',\n",
       "      'status': 'Running'},\n",
       "     {'name': 'statsmodels-test-statmodels',\n",
       "      'version': '01d5b5a1-39f5-4097-a023-9bd8da5e01dd',\n",
       "      'sha': '6029a5ba3dd2f7aee588bc285ed97bb7cabb302c190c9b9337f0985614f1ed93',\n",
       "      'status': 'Running'}]}}],\n",
       " 'engine_lbs': [{'ip': '10.244.0.45',\n",
       "   'name': 'engine-lb-55dcdff64c-5nn69',\n",
       "   'status': 'Running',\n",
       "   'reason': None,\n",
       "   'details': []}],\n",
       " 'sidekicks': [{'ip': '10.244.2.89',\n",
       "   'name': 'engine-sidekick-statsmodels-test-postprocess-27-778b6bbcb6jhkcr',\n",
       "   'status': 'Running',\n",
       "   'reason': None,\n",
       "   'details': [],\n",
       "   'statuses': '\\n'},\n",
       "  {'ip': '10.244.0.46',\n",
       "   'name': 'engine-sidekick-statsmodels-test-statmodels-26-74d565568-8ttbd',\n",
       "   'status': 'Running',\n",
       "   'reason': None,\n",
       "   'details': [],\n",
       "   'statuses': '\\n'}]}"
      ]
     },
     "execution_count": 76,
     "metadata": {},
     "output_type": "execute_result"
    }
   ],
   "source": [
    "pipeline.status()"
   ]
  },
  {
   "cell_type": "code",
   "execution_count": 77,
   "metadata": {},
   "outputs": [
    {
     "data": {
      "text/plain": [
       "[InferenceResult({'check_failures': [],\n",
       "  'elapsed': 300,\n",
       "  'model_name': 'statsmodels-test-postprocess',\n",
       "  'model_version': 'cb654179-e9ee-4ec9-972f-0fc625c13e32',\n",
       "  'original_data': {'holiday': [0, 0, 0, 0, 0, 0, 0],\n",
       "                    'temp': [0.317391,\n",
       "                             0.365217,\n",
       "                             0.415,\n",
       "                             0.54,\n",
       "                             0.4725,\n",
       "                             0.3325,\n",
       "                             0.430435],\n",
       "                    'windspeed': [0.184309,\n",
       "                                  0.203117,\n",
       "                                  0.209579,\n",
       "                                  0.231017,\n",
       "                                  0.368167,\n",
       "                                  0.207721,\n",
       "                                  0.288783],\n",
       "                    'workingday': [1, 1, 1, 1, 0, 0, 1]},\n",
       "  'outputs': [{'Float': {'data': [-0.7701932787895203,\n",
       "                                  -0.15543800592422485,\n",
       "                                  0.36521396040916443,\n",
       "                                  1.739493727684021,\n",
       "                                  -0.07358897477388382,\n",
       "                                  -1.6944431066513062,\n",
       "                                  0.5889557003974915],\n",
       "                         'dim': [7, 1],\n",
       "                         'dtype': 'Float',\n",
       "                         'v': 1}}],\n",
       "  'pipeline_name': 'statsmodelpipeline',\n",
       "  'shadow_data': {},\n",
       "  'time': 1673295133657})]"
      ]
     },
     "execution_count": 77,
     "metadata": {},
     "output_type": "execute_result"
    }
   ],
   "source": [
    "results = pipeline.infer_from_file('./resources/bike_day_eval_engine.json')\n",
    "results"
   ]
  },
  {
   "cell_type": "code",
   "execution_count": 78,
   "metadata": {},
   "outputs": [],
   "source": [
    "assert results[0].data()[0].shape == (7, 1)"
   ]
  },
  {
   "cell_type": "code",
   "execution_count": 79,
   "metadata": {},
   "outputs": [
    {
     "data": {
      "text/html": [
       "<table><tr><th>name</th> <td>statsmodelpipeline</td></tr><tr><th>created</th> <td>2023-01-09 19:11:40.149983+00:00</td></tr><tr><th>last_updated</th> <td>2023-01-09 20:11:55.754558+00:00</td></tr><tr><th>deployed</th> <td>False</td></tr><tr><th>tags</th> <td></td></tr><tr><th>versions</th> <td>50bf648c-082b-4a13-a4a6-162884d14802, facae641-8eef-421c-b8e7-71a34959e1b6, 950bd9a6-130d-491f-9328-8e627e9b95f0, ba1e7414-a383-4679-90e2-681102bad9df, 3edbdab3-f7d2-427b-9d27-78c6815931a8, 164955dd-e9af-4128-8e04-10be1c26eda3, c92cdeb9-f54a-4ae4-b990-13d00ceca3a5, d8bd9a57-5f05-46b0-be43-4fc15c137f08, 406c6969-c3f4-4dc6-bb26-b77bd25d3d6b, 7838cb49-4c51-446a-a48e-5eeb37299b9e</td></tr><tr><th>steps</th> <td>statsmodels-test-statmodels</td></tr></table>"
      ],
      "text/plain": [
       "{'name': 'statsmodelpipeline', 'create_time': datetime.datetime(2023, 1, 9, 19, 11, 40, 149983, tzinfo=tzutc()), 'definition': \"[{'ModelInference': {'models': [{'name': 'statsmodels-test-statmodels', 'version': '01d5b5a1-39f5-4097-a023-9bd8da5e01dd', 'sha': '6029a5ba3dd2f7aee588bc285ed97bb7cabb302c190c9b9337f0985614f1ed93'}]}}, {'ModelInference': {'models': [{'name': 'statsmodels-test-postprocess', 'version': 'cb654179-e9ee-4ec9-972f-0fc625c13e32', 'sha': '3dd892e3bba894455bc6c7031b4dc9ce79e70330c65a1de2689dca00cdec59df'}]}}]\"}"
      ]
     },
     "execution_count": 79,
     "metadata": {},
     "output_type": "execute_result"
    }
   ],
   "source": [
    "pipeline.undeploy()"
   ]
  },
  {
   "cell_type": "code",
   "execution_count": null,
   "metadata": {},
   "outputs": [],
   "source": []
  }
 ],
 "metadata": {
  "kernelspec": {
   "display_name": "wallaroosdk",
   "language": "python",
   "name": "python3"
  },
  "language_info": {
   "codemirror_mode": {
    "name": "ipython",
    "version": 3
   },
   "file_extension": ".py",
   "mimetype": "text/x-python",
   "name": "python",
   "nbconvert_exporter": "python",
   "pygments_lexer": "ipython3",
   "version": "3.8.15 (default, Nov 24 2022, 08:57:44) \n[Clang 14.0.6 ]"
  },
  "vscode": {
   "interpreter": {
    "hash": "e951b583e3fbbcadfc15df61f9ed97fb9a76f59b2130f2cdf4d0033aa05e7e64"
   }
  }
 },
 "nbformat": 4,
 "nbformat_minor": 4
}
