{
 "cells": [
  {
   "cell_type": "code",
   "execution_count": 40,
   "id": "82baa12b-52e3-4dd1-b1f6-8744024c7cc3",
   "metadata": {},
   "outputs": [],
   "source": [
    "import wallaroo\n",
    "from wallaroo.object import EntityNotFoundError\n",
    "from wallaroo.framework import Framework\n",
    "import pandas as pd"
   ]
  },
  {
   "cell_type": "code",
   "execution_count": 41,
   "id": "f9f9af18-1d39-4994-8af9-cd8b86a40fda",
   "metadata": {},
   "outputs": [],
   "source": [
    "# Login through local Wallaroo instance\n",
    "\n",
    "wl = wallaroo.Client()\n"
   ]
  },
  {
   "cell_type": "code",
   "execution_count": 42,
   "id": "d677e414-4c63-4e69-92a7-ca29f870e73e",
   "metadata": {},
   "outputs": [],
   "source": [
    "workspace_name=\"model-version-example\"\n",
    "pipeline_name=\"helper-demo-pipeline-1\"\n",
    "model_name=\"helper-demo-model-1\"\n",
    "model_file_name_01=\"./models/rf_model.onnx\"\n",
    "model_file_name_02=\"./models/gbr_model.onnx\""
   ]
  },
  {
   "cell_type": "markdown",
   "id": "070346ae-fbda-44ff-bb47-5c2806103589",
   "metadata": {},
   "source": [
    "## Create Workspace"
   ]
  },
  {
   "cell_type": "code",
   "execution_count": 43,
   "id": "0ffebe26",
   "metadata": {},
   "outputs": [
    {
     "data": {
      "text/plain": [
       "{'name': 'model-version-example', 'id': 29, 'archived': False, 'created_by': 'fb2916bc-551e-4a76-88e8-0f7d7720a0f9', 'created_at': '2024-08-15T15:42:24.200005+00:00', 'models': [], 'pipelines': []}"
      ]
     },
     "execution_count": 43,
     "metadata": {},
     "output_type": "execute_result"
    }
   ],
   "source": [
    "workspace = wl.get_workspace(workspace_name, create_if_not_exist=True)\n",
    "wl.set_current_workspace(workspace)"
   ]
  },
  {
   "cell_type": "code",
   "execution_count": 44,
   "id": "e31b481f",
   "metadata": {},
   "outputs": [],
   "source": [
    "workspace_id = workspace.id"
   ]
  },
  {
   "cell_type": "markdown",
   "id": "e565ad81",
   "metadata": {},
   "source": [
    "## Upload Model with model_file_name_01\n",
    "\n"
   ]
  },
  {
   "cell_type": "code",
   "execution_count": 45,
   "id": "f0c28afd",
   "metadata": {},
   "outputs": [],
   "source": [
    "helper_model = (wl.upload_model(model_name, \n",
    "                                model_file_name_01, \n",
    "                                framework=Framework.ONNX)\n",
    "                                .configure(tensor_fields=[\"tensor\"])\n",
    "                        )\n",
    "\n"
   ]
  },
  {
   "cell_type": "code",
   "execution_count": 46,
   "id": "011973ce",
   "metadata": {},
   "outputs": [
    {
     "data": {
      "text/html": [
       "<table>\n",
       "        <tr>\n",
       "          <td>Name</td>\n",
       "          <td>helper-demo-model-1</td>\n",
       "        </tr>\n",
       "        <tr>\n",
       "          <td>Version</td>\n",
       "          <td>a3f51eb7-ab86-46fa-80d2-e173ba3aae50</td>\n",
       "        </tr>\n",
       "        <tr>\n",
       "          <td>File Name</td>\n",
       "          <td>rf_model.onnx</td>\n",
       "        </tr>\n",
       "        <tr>\n",
       "          <td>SHA</td>\n",
       "          <td>e22a0831aafd9917f3cc87a15ed267797f80e2afa12ad7d8810ca58f173b8cc6</td>\n",
       "        </tr>\n",
       "        <tr>\n",
       "          <td>Status</td>\n",
       "          <td>ready</td>\n",
       "        </tr>\n",
       "        <tr>\n",
       "          <td>Image Path</td>\n",
       "          <td>None</td>\n",
       "        </tr>\n",
       "        <tr>\n",
       "          <td>Architecture</td>\n",
       "          <td>x86</td>\n",
       "        </tr>\n",
       "        <tr>\n",
       "          <td>Acceleration</td>\n",
       "          <td>none</td>\n",
       "        </tr>\n",
       "        <tr>\n",
       "          <td>Updated At</td>\n",
       "          <td>2024-15-Aug 15:42:25</td>\n",
       "        </tr>\n",
       "        <tr>\n",
       "          <td>Workspace id</td>\n",
       "          <td>29</td>\n",
       "        </tr>\n",
       "        <tr>\n",
       "          <td>Workspace name</td>\n",
       "          <td>model-version-example</td>\n",
       "        </tr>\n",
       "      </table>"
      ],
      "text/plain": [
       "{'name': 'helper-demo-model-1', 'version': 'a3f51eb7-ab86-46fa-80d2-e173ba3aae50', 'file_name': 'rf_model.onnx', 'image_path': None, 'arch': 'x86', 'accel': 'none', 'last_update_time': datetime.datetime(2024, 8, 15, 15, 42, 25, 873240, tzinfo=tzutc())}"
      ]
     },
     "metadata": {},
     "output_type": "display_data"
    }
   ],
   "source": [
    "display(helper_model)"
   ]
  },
  {
   "cell_type": "code",
   "execution_count": 47,
   "id": "7318be5b",
   "metadata": {},
   "outputs": [
    {
     "data": {
      "text/html": [
       "<table><tr><th>name</th><th>version</th><th>file_name</th><th>image_path</th><th>arch</th><th>accel</th><th>last_update_time</th><th>workspace_id</th><th>workspace_name</th></tr>\n",
       "            <tr>\n",
       "                <td>helper-demo-model-1</td>\n",
       "                <td>a3f51eb7-ab86-46fa-80d2-e173ba3aae50</td>\n",
       "                <td>rf_model.onnx</td>\n",
       "                <td>None</td>\n",
       "                <td>x86</td>\n",
       "                <td>none</td>\n",
       "                <td>2024-08-15 15:42:25.873240+00:00</td>\n",
       "                <td>29</td>\n",
       "                <td>model-version-example</td>\n",
       "            </tr>\n",
       "          </table>"
      ],
      "text/plain": [
       "[{'name': 'helper-demo-model-1', 'version': 'a3f51eb7-ab86-46fa-80d2-e173ba3aae50', 'file_name': 'rf_model.onnx', 'image_path': None, 'arch': 'x86', 'accel': 'none', 'last_update_time': datetime.datetime(2024, 8, 15, 15, 42, 25, 873240, tzinfo=tzutc())}]"
      ]
     },
     "execution_count": 47,
     "metadata": {},
     "output_type": "execute_result"
    }
   ],
   "source": [
    "wl.search_models(model_name, workspace_name=workspace_name)"
   ]
  },
  {
   "cell_type": "markdown",
   "id": "390ae504",
   "metadata": {},
   "source": [
    "## Build Pipeline and Deploy Model\n",
    "\n"
   ]
  },
  {
   "cell_type": "code",
   "execution_count": 48,
   "id": "115220d1",
   "metadata": {},
   "outputs": [
    {
     "data": {
      "text/html": [
       "<table><tr><th>name</th> <td>model-version-example</td></tr><tr><th>created</th> <td>2024-08-15 15:42:27.847942+00:00</td></tr><tr><th>last_updated</th> <td>2024-08-15 15:42:28.138090+00:00</td></tr><tr><th>deployed</th> <td>True</td></tr><tr><th>workspace_id</th> <td>29</td></tr><tr><th>workspace_name</th> <td>model-version-example</td></tr><tr><th>arch</th> <td>x86</td></tr><tr><th>accel</th> <td>none</td></tr><tr><th>tags</th> <td></td></tr><tr><th>versions</th> <td>75f62f11-e292-42cd-840e-685b150f3fd5, c736de9b-fb0e-4add-8606-47d752d2e526</td></tr><tr><th>steps</th> <td>helper-demo-model-1</td></tr><tr><th>published</th> <td>False</td></tr></table>"
      ],
      "text/plain": [
       "{'name': 'model-version-example', 'create_time': datetime.datetime(2024, 8, 15, 15, 42, 27, 847942, tzinfo=tzutc()), 'definition': \"[{'ModelInference': {'models': [{'name': 'helper-demo-model-1', 'version': 'a3f51eb7-ab86-46fa-80d2-e173ba3aae50', 'sha': 'e22a0831aafd9917f3cc87a15ed267797f80e2afa12ad7d8810ca58f173b8cc6'}]}}]\"}"
      ]
     },
     "execution_count": 48,
     "metadata": {},
     "output_type": "execute_result"
    }
   ],
   "source": [
    "pipeline = wl.build_pipeline(\"model-version-example\")\n",
    "\n",
    "\n",
    "pipeline.add_model_step(helper_model)\n",
    "deploy_config = wallaroo.DeploymentConfigBuilder().cpus(0.25).memory(\"1Gi\").build()\n",
    "pipeline.deploy(deployment_config = deploy_config)"
   ]
  },
  {
   "cell_type": "code",
   "execution_count": 49,
   "id": "ba1e0fba-e0c1-46a5-b929-045333e71784",
   "metadata": {},
   "outputs": [
    {
     "data": {
      "text/html": [
       "<div>\n",
       "<style scoped>\n",
       "    .dataframe tbody tr th:only-of-type {\n",
       "        vertical-align: middle;\n",
       "    }\n",
       "\n",
       "    .dataframe tbody tr th {\n",
       "        vertical-align: top;\n",
       "    }\n",
       "\n",
       "    .dataframe thead th {\n",
       "        text-align: right;\n",
       "    }\n",
       "</style>\n",
       "<table border=\"1\" class=\"dataframe\">\n",
       "  <thead>\n",
       "    <tr style=\"text-align: right;\">\n",
       "      <th></th>\n",
       "      <th>time</th>\n",
       "      <th>in.tensor</th>\n",
       "      <th>out.variable</th>\n",
       "      <th>anomaly.count</th>\n",
       "    </tr>\n",
       "  </thead>\n",
       "  <tbody>\n",
       "    <tr>\n",
       "      <th>0</th>\n",
       "      <td>2024-08-15 15:42:42.488</td>\n",
       "      <td>[4.0, 2.5, 2900.0, 5505.0, 2.0, 0.0, 0.0, 3.0,...</td>\n",
       "      <td>[718013.7]</td>\n",
       "      <td>0</td>\n",
       "    </tr>\n",
       "  </tbody>\n",
       "</table>\n",
       "</div>"
      ],
      "text/plain": [
       "                     time                                          in.tensor  \\\n",
       "0 2024-08-15 15:42:42.488  [4.0, 2.5, 2900.0, 5505.0, 2.0, 0.0, 0.0, 3.0,...   \n",
       "\n",
       "  out.variable  anomaly.count  \n",
       "0   [718013.7]              0  "
      ]
     },
     "metadata": {},
     "output_type": "display_data"
    }
   ],
   "source": [
    "normal_input = pd.DataFrame.from_records({\"tensor\": [[4.0, 2.5, 2900.0, 5505.0, 2.0, 0.0, 0.0, 3.0, 8.0, 2900.0, 0.0, 47.6063, -122.02, 2970.0, 5251.0, 12.0, 0.0, 0.0]]})\n",
    "result = pipeline.infer(normal_input)\n",
    "display(result)"
   ]
  },
  {
   "cell_type": "code",
   "execution_count": 50,
   "id": "10382f4e-2654-4123-9d2e-a9ddd2e757b0",
   "metadata": {},
   "outputs": [
    {
     "data": {
      "text/html": [
       "<table><tr><th>name</th> <td>model-version-example</td></tr><tr><th>created</th> <td>2024-08-15 15:42:27.847942+00:00</td></tr><tr><th>last_updated</th> <td>2024-08-15 15:42:28.138090+00:00</td></tr><tr><th>deployed</th> <td>False</td></tr><tr><th>workspace_id</th> <td>29</td></tr><tr><th>workspace_name</th> <td>model-version-example</td></tr><tr><th>arch</th> <td>x86</td></tr><tr><th>accel</th> <td>none</td></tr><tr><th>tags</th> <td></td></tr><tr><th>versions</th> <td>75f62f11-e292-42cd-840e-685b150f3fd5, c736de9b-fb0e-4add-8606-47d752d2e526</td></tr><tr><th>steps</th> <td>helper-demo-model-1</td></tr><tr><th>published</th> <td>False</td></tr></table>"
      ],
      "text/plain": [
       "{'name': 'model-version-example', 'create_time': datetime.datetime(2024, 8, 15, 15, 42, 27, 847942, tzinfo=tzutc()), 'definition': \"[{'ModelInference': {'models': [{'name': 'helper-demo-model-1', 'version': 'a3f51eb7-ab86-46fa-80d2-e173ba3aae50', 'sha': 'e22a0831aafd9917f3cc87a15ed267797f80e2afa12ad7d8810ca58f173b8cc6'}]}}]\"}"
      ]
     },
     "execution_count": 50,
     "metadata": {},
     "output_type": "execute_result"
    }
   ],
   "source": [
    "pipeline.undeploy()"
   ]
  },
  {
   "cell_type": "markdown",
   "id": "038f21ba-08d1-4b10-9f17-a9d610fb4fda",
   "metadata": {},
   "source": [
    "## Upload Model as New Model Version\n",
    "\n"
   ]
  },
  {
   "cell_type": "code",
   "execution_count": 51,
   "id": "2a367300",
   "metadata": {},
   "outputs": [
    {
     "data": {
      "text/html": [
       "<table>\n",
       "        <tr>\n",
       "          <td>Name</td>\n",
       "          <td>helper-demo-model-1</td>\n",
       "        </tr>\n",
       "        <tr>\n",
       "          <td>Version</td>\n",
       "          <td>57edf478-c1f5-495d-a543-ebf2b3c73a3f</td>\n",
       "        </tr>\n",
       "        <tr>\n",
       "          <td>File Name</td>\n",
       "          <td>gbr_model.onnx</td>\n",
       "        </tr>\n",
       "        <tr>\n",
       "          <td>SHA</td>\n",
       "          <td>ed6065a79d841f7e96307bb20d5ef22840f15da0b587efb51425c7ad60589d6a</td>\n",
       "        </tr>\n",
       "        <tr>\n",
       "          <td>Status</td>\n",
       "          <td>ready</td>\n",
       "        </tr>\n",
       "        <tr>\n",
       "          <td>Image Path</td>\n",
       "          <td>None</td>\n",
       "        </tr>\n",
       "        <tr>\n",
       "          <td>Architecture</td>\n",
       "          <td>x86</td>\n",
       "        </tr>\n",
       "        <tr>\n",
       "          <td>Acceleration</td>\n",
       "          <td>none</td>\n",
       "        </tr>\n",
       "        <tr>\n",
       "          <td>Updated At</td>\n",
       "          <td>2024-15-Aug 15:43:22</td>\n",
       "        </tr>\n",
       "        <tr>\n",
       "          <td>Workspace id</td>\n",
       "          <td>29</td>\n",
       "        </tr>\n",
       "        <tr>\n",
       "          <td>Workspace name</td>\n",
       "          <td>model-version-example</td>\n",
       "        </tr>\n",
       "      </table>"
      ],
      "text/plain": [
       "{'name': 'helper-demo-model-1', 'version': '57edf478-c1f5-495d-a543-ebf2b3c73a3f', 'file_name': 'gbr_model.onnx', 'image_path': None, 'arch': 'x86', 'accel': 'none', 'last_update_time': datetime.datetime(2024, 8, 15, 15, 43, 22, 826953, tzinfo=tzutc())}"
      ]
     },
     "metadata": {},
     "output_type": "display_data"
    }
   ],
   "source": [
    "helper_model = (wl.upload_model(model_name, \n",
    "                                model_file_name_02, \n",
    "                                framework=Framework.ONNX)\n",
    "                                .configure(tensor_fields=[\"tensor\"])\n",
    "                        )\n",
    "display(helper_model)"
   ]
  },
  {
   "cell_type": "markdown",
   "id": "a7b0d6d7-c91d-4333-8fd0-e9f294bbfe19",
   "metadata": {},
   "source": [
    "## Display Model Versions"
   ]
  },
  {
   "cell_type": "code",
   "execution_count": 56,
   "id": "d8308837",
   "metadata": {},
   "outputs": [
    {
     "data": {
      "text/html": [
       "<table><tr><th>name</th><th>version</th><th>file_name</th><th>image_path</th><th>arch</th><th>accel</th><th>last_update_time</th><th>workspace_id</th><th>workspace_name</th></tr>\n",
       "            <tr>\n",
       "                <td>helper-demo-model-1</td>\n",
       "                <td>57edf478-c1f5-495d-a543-ebf2b3c73a3f</td>\n",
       "                <td>gbr_model.onnx</td>\n",
       "                <td>None</td>\n",
       "                <td>x86</td>\n",
       "                <td>none</td>\n",
       "                <td>2024-08-15 15:43:22.826953+00:00</td>\n",
       "                <td>29</td>\n",
       "                <td>model-version-example</td>\n",
       "            </tr>\n",
       "          \n",
       "            <tr>\n",
       "                <td>helper-demo-model-1</td>\n",
       "                <td>a3f51eb7-ab86-46fa-80d2-e173ba3aae50</td>\n",
       "                <td>rf_model.onnx</td>\n",
       "                <td>None</td>\n",
       "                <td>x86</td>\n",
       "                <td>none</td>\n",
       "                <td>2024-08-15 15:42:25.873240+00:00</td>\n",
       "                <td>29</td>\n",
       "                <td>model-version-example</td>\n",
       "            </tr>\n",
       "          </table>"
      ],
      "text/plain": [
       "[{'name': 'helper-demo-model-1', 'version': '57edf478-c1f5-495d-a543-ebf2b3c73a3f', 'file_name': 'gbr_model.onnx', 'image_path': None, 'arch': 'x86', 'accel': 'none', 'last_update_time': datetime.datetime(2024, 8, 15, 15, 43, 22, 826953, tzinfo=tzutc())},\n",
       " {'name': 'helper-demo-model-1', 'version': 'a3f51eb7-ab86-46fa-80d2-e173ba3aae50', 'file_name': 'rf_model.onnx', 'image_path': None, 'arch': 'x86', 'accel': 'none', 'last_update_time': datetime.datetime(2024, 8, 15, 15, 42, 25, 873240, tzinfo=tzutc())}]"
      ]
     },
     "execution_count": 56,
     "metadata": {},
     "output_type": "execute_result"
    }
   ],
   "source": [
    "wl.search_models(workspace_name=workspace_name)"
   ]
  },
  {
   "cell_type": "markdown",
   "id": "8f947c57",
   "metadata": {},
   "source": [
    "## Create New Pipeline Version with New Model Version"
   ]
  },
  {
   "cell_type": "code",
   "execution_count": 53,
   "id": "d0c60b04-adc4-4e70-bb2d-572c4a2f2b14",
   "metadata": {},
   "outputs": [
    {
     "data": {
      "text/html": [
       "<table><tr><th>name</th> <td>model-version-example</td></tr><tr><th>created</th> <td>2024-08-15 15:42:27.847942+00:00</td></tr><tr><th>last_updated</th> <td>2024-08-15 15:43:24.687114+00:00</td></tr><tr><th>deployed</th> <td>True</td></tr><tr><th>workspace_id</th> <td>29</td></tr><tr><th>workspace_name</th> <td>model-version-example</td></tr><tr><th>arch</th> <td>x86</td></tr><tr><th>accel</th> <td>none</td></tr><tr><th>tags</th> <td></td></tr><tr><th>versions</th> <td>80c19355-80e6-49e3-8ca8-4c35cd50c314, 75f62f11-e292-42cd-840e-685b150f3fd5, c736de9b-fb0e-4add-8606-47d752d2e526</td></tr><tr><th>steps</th> <td>helper-demo-model-1</td></tr><tr><th>published</th> <td>False</td></tr></table>"
      ],
      "text/plain": [
       "{'name': 'model-version-example', 'create_time': datetime.datetime(2024, 8, 15, 15, 42, 27, 847942, tzinfo=tzutc()), 'definition': \"[{'ModelInference': {'models': [{'name': 'helper-demo-model-1', 'version': '57edf478-c1f5-495d-a543-ebf2b3c73a3f', 'sha': 'ed6065a79d841f7e96307bb20d5ef22840f15da0b587efb51425c7ad60589d6a'}]}}]\"}"
      ]
     },
     "execution_count": 53,
     "metadata": {},
     "output_type": "execute_result"
    }
   ],
   "source": [
    "pipeline.clear()\n",
    "pipeline.add_model_step(helper_model)\n",
    "deploy_config = wallaroo.DeploymentConfigBuilder().cpus(0.25).memory(\"1Gi\").build()\n",
    "pipeline.deploy(deployment_config = deploy_config)"
   ]
  },
  {
   "cell_type": "code",
   "execution_count": 54,
   "id": "29b09432",
   "metadata": {},
   "outputs": [
    {
     "data": {
      "text/html": [
       "<div>\n",
       "<style scoped>\n",
       "    .dataframe tbody tr th:only-of-type {\n",
       "        vertical-align: middle;\n",
       "    }\n",
       "\n",
       "    .dataframe tbody tr th {\n",
       "        vertical-align: top;\n",
       "    }\n",
       "\n",
       "    .dataframe thead th {\n",
       "        text-align: right;\n",
       "    }\n",
       "</style>\n",
       "<table border=\"1\" class=\"dataframe\">\n",
       "  <thead>\n",
       "    <tr style=\"text-align: right;\">\n",
       "      <th></th>\n",
       "      <th>time</th>\n",
       "      <th>in.tensor</th>\n",
       "      <th>out.variable</th>\n",
       "      <th>anomaly.count</th>\n",
       "    </tr>\n",
       "  </thead>\n",
       "  <tbody>\n",
       "    <tr>\n",
       "      <th>0</th>\n",
       "      <td>2024-08-15 15:43:39.821</td>\n",
       "      <td>[4.0, 2.5, 2900.0, 5505.0, 2.0, 0.0, 0.0, 3.0,...</td>\n",
       "      <td>[704901.9]</td>\n",
       "      <td>0</td>\n",
       "    </tr>\n",
       "  </tbody>\n",
       "</table>\n",
       "</div>"
      ],
      "text/plain": [
       "                     time                                          in.tensor  \\\n",
       "0 2024-08-15 15:43:39.821  [4.0, 2.5, 2900.0, 5505.0, 2.0, 0.0, 0.0, 3.0,...   \n",
       "\n",
       "  out.variable  anomaly.count  \n",
       "0   [704901.9]              0  "
      ]
     },
     "metadata": {},
     "output_type": "display_data"
    }
   ],
   "source": [
    "normal_input = pd.DataFrame.from_records({\"tensor\": [[4.0, 2.5, 2900.0, 5505.0, 2.0, 0.0, 0.0, 3.0, 8.0, 2900.0, 0.0, 47.6063, -122.02, 2970.0, 5251.0, 12.0, 0.0, 0.0]]})\n",
    "result = pipeline.infer(normal_input)\n",
    "display(result)"
   ]
  },
  {
   "cell_type": "code",
   "execution_count": 55,
   "id": "392d4b6d-8f1a-4b63-b843-156eff446ddb",
   "metadata": {},
   "outputs": [
    {
     "data": {
      "text/html": [
       "<table><tr><th>name</th> <td>model-version-example</td></tr><tr><th>created</th> <td>2024-08-15 15:42:27.847942+00:00</td></tr><tr><th>last_updated</th> <td>2024-08-15 15:43:24.687114+00:00</td></tr><tr><th>deployed</th> <td>False</td></tr><tr><th>workspace_id</th> <td>29</td></tr><tr><th>workspace_name</th> <td>model-version-example</td></tr><tr><th>arch</th> <td>x86</td></tr><tr><th>accel</th> <td>none</td></tr><tr><th>tags</th> <td></td></tr><tr><th>versions</th> <td>80c19355-80e6-49e3-8ca8-4c35cd50c314, 75f62f11-e292-42cd-840e-685b150f3fd5, c736de9b-fb0e-4add-8606-47d752d2e526</td></tr><tr><th>steps</th> <td>helper-demo-model-1</td></tr><tr><th>published</th> <td>False</td></tr></table>"
      ],
      "text/plain": [
       "{'name': 'model-version-example', 'create_time': datetime.datetime(2024, 8, 15, 15, 42, 27, 847942, tzinfo=tzutc()), 'definition': \"[{'ModelInference': {'models': [{'name': 'helper-demo-model-1', 'version': '57edf478-c1f5-495d-a543-ebf2b3c73a3f', 'sha': 'ed6065a79d841f7e96307bb20d5ef22840f15da0b587efb51425c7ad60589d6a'}]}}]\"}"
      ]
     },
     "execution_count": 55,
     "metadata": {},
     "output_type": "execute_result"
    }
   ],
   "source": [
    "pipeline.undeploy()"
   ]
  }
 ],
 "metadata": {
  "kernelspec": {
   "display_name": "Python 3",
   "language": "python",
   "name": "python3"
  },
  "language_info": {
   "codemirror_mode": {
    "name": "ipython",
    "version": 3
   },
   "file_extension": ".py",
   "mimetype": "text/x-python",
   "name": "python",
   "nbconvert_exporter": "python",
   "pygments_lexer": "ipython3",
   "version": "3.8.19"
  }
 },
 "nbformat": 4,
 "nbformat_minor": 5
}
