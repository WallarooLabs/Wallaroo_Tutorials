{
 "cells": [
  {
   "cell_type": "code",
   "execution_count": 1,
   "id": "82baa12b-52e3-4dd1-b1f6-8744024c7cc3",
   "metadata": {},
   "outputs": [],
   "source": [
    "import wallaroo\n",
    "from wallaroo.object import EntityNotFoundError\n",
    "from wallaroo.framework import Framework\n",
    "import pandas as pd"
   ]
  },
  {
   "cell_type": "code",
   "execution_count": 3,
   "id": "f9f9af18-1d39-4994-8af9-cd8b86a40fda",
   "metadata": {},
   "outputs": [],
   "source": [
    "# Login through local Wallaroo instance\n",
    "\n",
    "wl = wallaroo.Client()\n"
   ]
  },
  {
   "cell_type": "code",
   "execution_count": 6,
   "id": "d677e414-4c63-4e69-92a7-ca29f870e73e",
   "metadata": {},
   "outputs": [],
   "source": [
    "workspace_name=\"helper-demo-workspace-2\"\n",
    "pipeline_name=\"helper-demo-pipeline-1\"\n",
    "model_name=\"helper-demo-model-1\"\n",
    "model_file_name=\"./models/rf_model.onnx\""
   ]
  },
  {
   "cell_type": "markdown",
   "id": "070346ae-fbda-44ff-bb47-5c2806103589",
   "metadata": {},
   "source": [
    "## get_workspace"
   ]
  },
  {
   "cell_type": "code",
   "execution_count": 7,
   "id": "0ffebe26",
   "metadata": {},
   "outputs": [
    {
     "data": {
      "text/html": [
       "<table><tr><th>name</th><th>version</th><th>file_name</th><th>image_path</th><th>arch</th><th>accel</th><th>last_update_time</th><th>workspace_id</th><th>workspace_name</th></tr>\n",
       "            <tr>\n",
       "                <td>helper-demo-model-1</td>\n",
       "                <td>409fb78f-bea8-4f27-bd47-a4d26514b861</td>\n",
       "                <td>rf_model.onnx</td>\n",
       "                <td>None</td>\n",
       "                <td>x86</td>\n",
       "                <td>none</td>\n",
       "                <td>2024-07-16 13:29:27.269598+00:00</td>\n",
       "                <td>26</td>\n",
       "                <td>helper-demo-workspace-2</td>\n",
       "            </tr>\n",
       "          \n",
       "            <tr>\n",
       "                <td>helper-demo-model-1</td>\n",
       "                <td>91edbb72-a7fb-470b-ae5b-85b895966375</td>\n",
       "                <td>rf_model.onnx</td>\n",
       "                <td>None</td>\n",
       "                <td>x86</td>\n",
       "                <td>none</td>\n",
       "                <td>2024-07-16 13:28:34.374392+00:00</td>\n",
       "                <td>25</td>\n",
       "                <td>helper-demo-workspace-1</td>\n",
       "            </tr>\n",
       "          \n",
       "            <tr>\n",
       "                <td>helper-demo-model-1</td>\n",
       "                <td>0b2a1702-e9e4-4251-9533-e6f329a7c247</td>\n",
       "                <td>rf_model.onnx</td>\n",
       "                <td>None</td>\n",
       "                <td>x86</td>\n",
       "                <td>none</td>\n",
       "                <td>2024-07-15 21:45:12.529732+00:00</td>\n",
       "                <td>8</td>\n",
       "                <td>john.hummel@wallaroo.ai - Default Workspace</td>\n",
       "            </tr>\n",
       "          \n",
       "            <tr>\n",
       "                <td>helper-demo-model-1</td>\n",
       "                <td>36163cc4-775e-4d87-b5ca-75c6ceb9927d</td>\n",
       "                <td>rf_model.onnx</td>\n",
       "                <td>None</td>\n",
       "                <td>x86</td>\n",
       "                <td>none</td>\n",
       "                <td>2024-07-15 18:43:44.180282+00:00</td>\n",
       "                <td>26</td>\n",
       "                <td>helper-demo-workspace-2</td>\n",
       "            </tr>\n",
       "          \n",
       "            <tr>\n",
       "                <td>helper-demo-model-1</td>\n",
       "                <td>728a7528-8ed4-4ee2-aa15-3b3e9901fd40</td>\n",
       "                <td>rf_model.onnx</td>\n",
       "                <td>None</td>\n",
       "                <td>x86</td>\n",
       "                <td>none</td>\n",
       "                <td>2024-07-15 18:19:56.113108+00:00</td>\n",
       "                <td>25</td>\n",
       "                <td>helper-demo-workspace-1</td>\n",
       "            </tr>\n",
       "          \n",
       "            <tr>\n",
       "                <td>helper-demo-model-1</td>\n",
       "                <td>de7a7b93-1cff-4ca0-8b3b-cce2ac48af17</td>\n",
       "                <td>rf_model.onnx</td>\n",
       "                <td>None</td>\n",
       "                <td>x86</td>\n",
       "                <td>none</td>\n",
       "                <td>2024-07-15 18:13:54.709321+00:00</td>\n",
       "                <td>25</td>\n",
       "                <td>helper-demo-workspace-1</td>\n",
       "            </tr>\n",
       "          </table>"
      ],
      "text/plain": [
       "[{'name': 'helper-demo-model-1', 'version': '409fb78f-bea8-4f27-bd47-a4d26514b861', 'file_name': 'rf_model.onnx', 'image_path': None, 'arch': 'x86', 'accel': 'none', 'last_update_time': datetime.datetime(2024, 7, 16, 13, 29, 27, 269598, tzinfo=tzutc())},\n",
       " {'name': 'helper-demo-model-1', 'version': '91edbb72-a7fb-470b-ae5b-85b895966375', 'file_name': 'rf_model.onnx', 'image_path': None, 'arch': 'x86', 'accel': 'none', 'last_update_time': datetime.datetime(2024, 7, 16, 13, 28, 34, 374392, tzinfo=tzutc())},\n",
       " {'name': 'helper-demo-model-1', 'version': '0b2a1702-e9e4-4251-9533-e6f329a7c247', 'file_name': 'rf_model.onnx', 'image_path': None, 'arch': 'x86', 'accel': 'none', 'last_update_time': datetime.datetime(2024, 7, 15, 21, 45, 12, 529732, tzinfo=tzutc())},\n",
       " {'name': 'helper-demo-model-1', 'version': '36163cc4-775e-4d87-b5ca-75c6ceb9927d', 'file_name': 'rf_model.onnx', 'image_path': None, 'arch': 'x86', 'accel': 'none', 'last_update_time': datetime.datetime(2024, 7, 15, 18, 43, 44, 180282, tzinfo=tzutc())},\n",
       " {'name': 'helper-demo-model-1', 'version': '728a7528-8ed4-4ee2-aa15-3b3e9901fd40', 'file_name': 'rf_model.onnx', 'image_path': None, 'arch': 'x86', 'accel': 'none', 'last_update_time': datetime.datetime(2024, 7, 15, 18, 19, 56, 113108, tzinfo=tzutc())},\n",
       " {'name': 'helper-demo-model-1', 'version': 'de7a7b93-1cff-4ca0-8b3b-cce2ac48af17', 'file_name': 'rf_model.onnx', 'image_path': None, 'arch': 'x86', 'accel': 'none', 'last_update_time': datetime.datetime(2024, 7, 15, 18, 13, 54, 709321, tzinfo=tzutc())}]"
      ]
     },
     "execution_count": 7,
     "metadata": {},
     "output_type": "execute_result"
    }
   ],
   "source": [
    "wl.search_model_versions(\"helper-demo-model-1\")"
   ]
  },
  {
   "cell_type": "code",
   "execution_count": 8,
   "id": "e82a2def",
   "metadata": {},
   "outputs": [
    {
     "data": {
      "text/html": [
       "<table><tr><th>name</th><th>version</th><th>file_name</th><th>image_path</th><th>arch</th><th>accel</th><th>last_update_time</th><th>workspace_id</th><th>workspace_name</th></tr>\n",
       "            <tr>\n",
       "                <td>helper-demo-model-1</td>\n",
       "                <td>409fb78f-bea8-4f27-bd47-a4d26514b861</td>\n",
       "                <td>rf_model.onnx</td>\n",
       "                <td>None</td>\n",
       "                <td>x86</td>\n",
       "                <td>none</td>\n",
       "                <td>2024-07-16 13:29:27.269598+00:00</td>\n",
       "                <td>26</td>\n",
       "                <td>helper-demo-workspace-2</td>\n",
       "            </tr>\n",
       "          \n",
       "            <tr>\n",
       "                <td>helper-demo-model-1</td>\n",
       "                <td>36163cc4-775e-4d87-b5ca-75c6ceb9927d</td>\n",
       "                <td>rf_model.onnx</td>\n",
       "                <td>None</td>\n",
       "                <td>x86</td>\n",
       "                <td>none</td>\n",
       "                <td>2024-07-15 18:43:44.180282+00:00</td>\n",
       "                <td>26</td>\n",
       "                <td>helper-demo-workspace-2</td>\n",
       "            </tr>\n",
       "          </table>"
      ],
      "text/plain": [
       "[{'name': 'helper-demo-model-1', 'version': '409fb78f-bea8-4f27-bd47-a4d26514b861', 'file_name': 'rf_model.onnx', 'image_path': None, 'arch': 'x86', 'accel': 'none', 'last_update_time': datetime.datetime(2024, 7, 16, 13, 29, 27, 269598, tzinfo=tzutc())},\n",
       " {'name': 'helper-demo-model-1', 'version': '36163cc4-775e-4d87-b5ca-75c6ceb9927d', 'file_name': 'rf_model.onnx', 'image_path': None, 'arch': 'x86', 'accel': 'none', 'last_update_time': datetime.datetime(2024, 7, 15, 18, 43, 44, 180282, tzinfo=tzutc())}]"
      ]
     },
     "execution_count": 8,
     "metadata": {},
     "output_type": "execute_result"
    }
   ],
   "source": [
    "wl.search_model_versions(\"helper-demo-model-1\", workspace_id=26)"
   ]
  },
  {
   "cell_type": "code",
   "execution_count": 9,
   "id": "c862794c",
   "metadata": {},
   "outputs": [
    {
     "data": {
      "text/html": [
       "<table><tr><th>name</th><th>version</th><th>file_name</th><th>image_path</th><th>arch</th><th>accel</th><th>last_update_time</th><th>workspace_id</th><th>workspace_name</th></tr>\n",
       "            <tr>\n",
       "                <td>helper-demo-model-1</td>\n",
       "                <td>91edbb72-a7fb-470b-ae5b-85b895966375</td>\n",
       "                <td>rf_model.onnx</td>\n",
       "                <td>None</td>\n",
       "                <td>x86</td>\n",
       "                <td>none</td>\n",
       "                <td>2024-07-16 13:28:34.374392+00:00</td>\n",
       "                <td>25</td>\n",
       "                <td>helper-demo-workspace-1</td>\n",
       "            </tr>\n",
       "          \n",
       "            <tr>\n",
       "                <td>helper-demo-model-1</td>\n",
       "                <td>728a7528-8ed4-4ee2-aa15-3b3e9901fd40</td>\n",
       "                <td>rf_model.onnx</td>\n",
       "                <td>None</td>\n",
       "                <td>x86</td>\n",
       "                <td>none</td>\n",
       "                <td>2024-07-15 18:19:56.113108+00:00</td>\n",
       "                <td>25</td>\n",
       "                <td>helper-demo-workspace-1</td>\n",
       "            </tr>\n",
       "          \n",
       "            <tr>\n",
       "                <td>helper-demo-model-1</td>\n",
       "                <td>de7a7b93-1cff-4ca0-8b3b-cce2ac48af17</td>\n",
       "                <td>rf_model.onnx</td>\n",
       "                <td>None</td>\n",
       "                <td>x86</td>\n",
       "                <td>none</td>\n",
       "                <td>2024-07-15 18:13:54.709321+00:00</td>\n",
       "                <td>25</td>\n",
       "                <td>helper-demo-workspace-1</td>\n",
       "            </tr>\n",
       "          </table>"
      ],
      "text/plain": [
       "[{'name': 'helper-demo-model-1', 'version': '91edbb72-a7fb-470b-ae5b-85b895966375', 'file_name': 'rf_model.onnx', 'image_path': None, 'arch': 'x86', 'accel': 'none', 'last_update_time': datetime.datetime(2024, 7, 16, 13, 28, 34, 374392, tzinfo=tzutc())},\n",
       " {'name': 'helper-demo-model-1', 'version': '728a7528-8ed4-4ee2-aa15-3b3e9901fd40', 'file_name': 'rf_model.onnx', 'image_path': None, 'arch': 'x86', 'accel': 'none', 'last_update_time': datetime.datetime(2024, 7, 15, 18, 19, 56, 113108, tzinfo=tzutc())},\n",
       " {'name': 'helper-demo-model-1', 'version': 'de7a7b93-1cff-4ca0-8b3b-cce2ac48af17', 'file_name': 'rf_model.onnx', 'image_path': None, 'arch': 'x86', 'accel': 'none', 'last_update_time': datetime.datetime(2024, 7, 15, 18, 13, 54, 709321, tzinfo=tzutc())}]"
      ]
     },
     "execution_count": 9,
     "metadata": {},
     "output_type": "execute_result"
    }
   ],
   "source": [
    "wl.search_model_versions(\"helper-demo-model-1\", workspace_name=\"helper-demo-workspace-1\")"
   ]
  },
  {
   "cell_type": "markdown",
   "id": "ee663e50-7a28-4033-b52e-c38ed28a6f3d",
   "metadata": {},
   "source": [
    "### Error when workspace does not exist"
   ]
  },
  {
   "cell_type": "code",
   "execution_count": 13,
   "id": "95cf3e1e-bae3-4429-bf07-9140c198fa74",
   "metadata": {},
   "outputs": [],
   "source": [
    "workspace = wl.get_workspace(name=workspace_name)"
   ]
  },
  {
   "cell_type": "markdown",
   "id": "bd959eaf-cbd3-4d79-96c7-cfc705e12acf",
   "metadata": {},
   "source": [
    "### Create new workspace with `create_if_not_exist` flag"
   ]
  },
  {
   "cell_type": "code",
   "execution_count": 20,
   "id": "4aa16878-72cf-48ec-9dd8-1c887fe29d28",
   "metadata": {},
   "outputs": [
    {
     "data": {
      "text/plain": [
       "{'name': 'helper-demo-workspace-2', 'id': 26, 'archived': False, 'created_by': '13486fc4-a1a7-43e2-9233-62177d5f739b', 'created_at': '2024-07-15T18:43:37.748854+00:00', 'models': [{'name': 'helper-demo-model-1', 'versions': 1, 'owner_id': '\"\"', 'last_update_time': datetime.datetime(2024, 7, 15, 18, 43, 44, 180282, tzinfo=tzutc()), 'created_at': datetime.datetime(2024, 7, 15, 18, 43, 44, 180282, tzinfo=tzutc())}], 'pipelines': [{'name': 'helper-demo-pipeline-1', 'create_time': datetime.datetime(2024, 7, 15, 18, 43, 50, 860129, tzinfo=tzutc()), 'definition': '[]'}]}"
      ]
     },
     "execution_count": 20,
     "metadata": {},
     "output_type": "execute_result"
    }
   ],
   "source": [
    "workspace = wl.get_workspace(name=workspace_name, create_if_not_exist=True)\n",
    "workspace"
   ]
  },
  {
   "cell_type": "code",
   "execution_count": 21,
   "id": "58a764ab-17c2-47b1-98d3-54e12907bcb1",
   "metadata": {},
   "outputs": [
    {
     "data": {
      "text/plain": [
       "{'name': 'helper-demo-workspace-2', 'id': 26, 'archived': False, 'created_by': '13486fc4-a1a7-43e2-9233-62177d5f739b', 'created_at': '2024-07-15T18:43:37.748854+00:00', 'models': [{'name': 'helper-demo-model-1', 'versions': 1, 'owner_id': '\"\"', 'last_update_time': datetime.datetime(2024, 7, 15, 18, 43, 44, 180282, tzinfo=tzutc()), 'created_at': datetime.datetime(2024, 7, 15, 18, 43, 44, 180282, tzinfo=tzutc())}], 'pipelines': [{'name': 'helper-demo-pipeline-1', 'create_time': datetime.datetime(2024, 7, 15, 18, 43, 50, 860129, tzinfo=tzutc()), 'definition': '[]'}]}"
      ]
     },
     "execution_count": 21,
     "metadata": {},
     "output_type": "execute_result"
    }
   ],
   "source": [
    "wl.set_current_workspace(workspace)"
   ]
  },
  {
   "cell_type": "markdown",
   "id": "8fd79506-fdb3-4d3a-a6d7-c08e307c6d62",
   "metadata": {},
   "source": [
    "### Return existing workspace"
   ]
  },
  {
   "cell_type": "code",
   "execution_count": 7,
   "id": "24e3611d-ea3a-4d60-aa7a-333dc3074f52",
   "metadata": {},
   "outputs": [
    {
     "data": {
      "text/plain": [
       "{'name': 'helper-demo-workspace-1', 'id': 25, 'archived': False, 'created_by': '13486fc4-a1a7-43e2-9233-62177d5f739b', 'created_at': '2024-07-15T18:13:49.735832+00:00', 'models': [], 'pipelines': []}"
      ]
     },
     "execution_count": 7,
     "metadata": {},
     "output_type": "execute_result"
    }
   ],
   "source": [
    "workspace = wl.get_workspace(name=workspace_name)\n",
    "workspace"
   ]
  },
  {
   "cell_type": "markdown",
   "id": "c7906839-063e-4f8f-b2c1-3e52c5052f6b",
   "metadata": {},
   "source": [
    "## create model and pipeline"
   ]
  },
  {
   "cell_type": "code",
   "execution_count": 22,
   "id": "05224e4d-b7c2-4561-983e-cfbe693d86bf",
   "metadata": {},
   "outputs": [],
   "source": [
    "helper_model = (wl.upload_model(model_name, \n",
    "                                        model_file_name, \n",
    "                                        framework=Framework.ONNX)\n",
    "                                        .configure(tensor_fields=[\"tensor\"])\n",
    "                        )"
   ]
  },
  {
   "cell_type": "code",
   "execution_count": 23,
   "id": "7427f8c6-bdd9-43f2-9b2b-357b8ae65180",
   "metadata": {},
   "outputs": [
    {
     "data": {
      "text/plain": [
       "'409fb78f-bea8-4f27-bd47-a4d26514b861'"
      ]
     },
     "execution_count": 23,
     "metadata": {},
     "output_type": "execute_result"
    }
   ],
   "source": [
    "helper_model.version()"
   ]
  },
  {
   "cell_type": "markdown",
   "id": "0aa739a0-6d5b-491d-9894-cfde61c80c84",
   "metadata": {},
   "source": [
    "## get_model"
   ]
  },
  {
   "cell_type": "markdown",
   "id": "081edfb0-2c59-4485-b70a-072493996fda",
   "metadata": {},
   "source": [
    "### Error when model not found"
   ]
  },
  {
   "cell_type": "code",
   "execution_count": 10,
   "id": "5fc6d9ad-33db-453d-b6a9-4266c9e62bd8",
   "metadata": {},
   "outputs": [
    {
     "ename": "Exception",
     "evalue": "Error: A model with the name no-such-model does not exist.",
     "output_type": "error",
     "traceback": [
      "\u001b[0;31m---------------------------------------------------------------------------\u001b[0m",
      "\u001b[0;31mException\u001b[0m                                 Traceback (most recent call last)",
      "\u001b[0;32m/var/folders/rs/yt_dh9xn6y39_h0_jth1mjb40000gq/T/ipykernel_23867/498292295.py\u001b[0m in \u001b[0;36m<module>\u001b[0;34m\u001b[0m\n\u001b[0;32m----> 1\u001b[0;31m \u001b[0mwl\u001b[0m\u001b[0;34m.\u001b[0m\u001b[0mget_model\u001b[0m\u001b[0;34m(\u001b[0m\u001b[0mname\u001b[0m\u001b[0;34m=\u001b[0m\u001b[0;34m\"no-such-model\"\u001b[0m\u001b[0;34m)\u001b[0m\u001b[0;34m\u001b[0m\u001b[0;34m\u001b[0m\u001b[0m\n\u001b[0m",
      "\u001b[0;32m~/.virtualenvs/wallaroosdk2024.2/lib/python3.8/site-packages/wallaroo/client.py\u001b[0m in \u001b[0;36mget_model\u001b[0;34m(self, name, version)\u001b[0m\n\u001b[1;32m   1388\u001b[0m         )\n\u001b[1;32m   1389\u001b[0m         \u001b[0;32mif\u001b[0m \u001b[0mmodel\u001b[0m \u001b[0;32mis\u001b[0m \u001b[0;32mNone\u001b[0m\u001b[0;34m:\u001b[0m\u001b[0;34m\u001b[0m\u001b[0;34m\u001b[0m\u001b[0m\n\u001b[0;32m-> 1390\u001b[0;31m             \u001b[0;32mraise\u001b[0m \u001b[0mException\u001b[0m\u001b[0;34m(\u001b[0m\u001b[0;34mf\"Error: A model with the name {name} does not exist.\"\u001b[0m\u001b[0;34m)\u001b[0m\u001b[0;34m\u001b[0m\u001b[0;34m\u001b[0m\u001b[0m\n\u001b[0m\u001b[1;32m   1391\u001b[0m         \u001b[0;32mif\u001b[0m \u001b[0mversion\u001b[0m \u001b[0;32mis\u001b[0m \u001b[0;32mnot\u001b[0m \u001b[0;32mNone\u001b[0m\u001b[0;34m:\u001b[0m\u001b[0;34m\u001b[0m\u001b[0;34m\u001b[0m\u001b[0m\n\u001b[1;32m   1392\u001b[0m             model_version = next(\n",
      "\u001b[0;31mException\u001b[0m: Error: A model with the name no-such-model does not exist."
     ]
    }
   ],
   "source": [
    "wl.get_model(name=\"no-such-model\")"
   ]
  },
  {
   "cell_type": "code",
   "execution_count": 28,
   "id": "5e670125-30b1-413f-b470-d62a65762272",
   "metadata": {},
   "outputs": [
    {
     "data": {
      "text/html": [
       "<table>\n",
       "        <tr>\n",
       "          <td>Name</td>\n",
       "          <td>helper-demo-model-1</td>\n",
       "        </tr>\n",
       "        <tr>\n",
       "          <td>Version</td>\n",
       "          <td>409fb78f-bea8-4f27-bd47-a4d26514b861</td>\n",
       "        </tr>\n",
       "        <tr>\n",
       "          <td>File Name</td>\n",
       "          <td>rf_model.onnx</td>\n",
       "        </tr>\n",
       "        <tr>\n",
       "          <td>SHA</td>\n",
       "          <td>e22a0831aafd9917f3cc87a15ed267797f80e2afa12ad7d8810ca58f173b8cc6</td>\n",
       "        </tr>\n",
       "        <tr>\n",
       "          <td>Status</td>\n",
       "          <td>ready</td>\n",
       "        </tr>\n",
       "        <tr>\n",
       "          <td>Image Path</td>\n",
       "          <td>None</td>\n",
       "        </tr>\n",
       "        <tr>\n",
       "          <td>Architecture</td>\n",
       "          <td>x86</td>\n",
       "        </tr>\n",
       "        <tr>\n",
       "          <td>Acceleration</td>\n",
       "          <td>none</td>\n",
       "        </tr>\n",
       "        <tr>\n",
       "          <td>Updated At</td>\n",
       "          <td>2024-16-Jul 13:29:27</td>\n",
       "        </tr>\n",
       "        <tr>\n",
       "          <td>Workspace id</td>\n",
       "          <td>26</td>\n",
       "        </tr>\n",
       "        <tr>\n",
       "          <td>Workspace name</td>\n",
       "          <td>helper-demo-workspace-2</td>\n",
       "        </tr>\n",
       "      </table>"
      ],
      "text/plain": [
       "{'name': 'helper-demo-model-1', 'version': '409fb78f-bea8-4f27-bd47-a4d26514b861', 'file_name': 'rf_model.onnx', 'image_path': None, 'arch': 'x86', 'accel': 'none', 'last_update_time': datetime.datetime(2024, 7, 16, 13, 29, 27, 269598, tzinfo=tzutc())}"
      ]
     },
     "metadata": {},
     "output_type": "display_data"
    }
   ],
   "source": [
    "model = wl.get_model(name=model_name)\n",
    "display(model)"
   ]
  },
  {
   "cell_type": "code",
   "execution_count": 19,
   "id": "98bb2d81",
   "metadata": {},
   "outputs": [
    {
     "data": {
      "text/plain": [
       "'de7a7b93-1cff-4ca0-8b3b-cce2ac48af17'"
      ]
     },
     "execution_count": 19,
     "metadata": {},
     "output_type": "execute_result"
    }
   ],
   "source": [
    "model_version = wl.get_model(name=model_name).version()"
   ]
  },
  {
   "cell_type": "code",
   "execution_count": 12,
   "id": "213fa2bf-c9c3-4f24-a7c4-8dcc936a7a45",
   "metadata": {},
   "outputs": [
    {
     "ename": "Exception",
     "evalue": "Error: A model with the version no-such-version not found in this workspace.",
     "output_type": "error",
     "traceback": [
      "\u001b[0;31m---------------------------------------------------------------------------\u001b[0m",
      "\u001b[0;31mException\u001b[0m                                 Traceback (most recent call last)",
      "\u001b[0;32m/var/folders/rs/yt_dh9xn6y39_h0_jth1mjb40000gq/T/ipykernel_23867/3669316954.py\u001b[0m in \u001b[0;36m<module>\u001b[0;34m\u001b[0m\n\u001b[0;32m----> 1\u001b[0;31m \u001b[0mwl\u001b[0m\u001b[0;34m.\u001b[0m\u001b[0mget_model\u001b[0m\u001b[0;34m(\u001b[0m\u001b[0mname\u001b[0m\u001b[0;34m=\u001b[0m\u001b[0mmodel_name\u001b[0m\u001b[0;34m,\u001b[0m \u001b[0mversion\u001b[0m\u001b[0;34m=\u001b[0m\u001b[0;34m\"no-such-version\"\u001b[0m\u001b[0;34m)\u001b[0m\u001b[0;34m\u001b[0m\u001b[0;34m\u001b[0m\u001b[0m\n\u001b[0m",
      "\u001b[0;32m~/.virtualenvs/wallaroosdk2024.2/lib/python3.8/site-packages/wallaroo/client.py\u001b[0m in \u001b[0;36mget_model\u001b[0;34m(self, name, version)\u001b[0m\n\u001b[1;32m   1396\u001b[0m                 \u001b[0;32mreturn\u001b[0m \u001b[0mmodel_version\u001b[0m\u001b[0;34m\u001b[0m\u001b[0;34m\u001b[0m\u001b[0m\n\u001b[1;32m   1397\u001b[0m             \u001b[0;32melse\u001b[0m\u001b[0;34m:\u001b[0m\u001b[0;34m\u001b[0m\u001b[0;34m\u001b[0m\u001b[0m\n\u001b[0;32m-> 1398\u001b[0;31m                 raise Exception(\n\u001b[0m\u001b[1;32m   1399\u001b[0m                     \u001b[0;34mf\"Error: A model with the version {version} not found in this workspace.\"\u001b[0m\u001b[0;34m\u001b[0m\u001b[0;34m\u001b[0m\u001b[0m\n\u001b[1;32m   1400\u001b[0m                 )\n",
      "\u001b[0;31mException\u001b[0m: Error: A model with the version no-such-version not found in this workspace."
     ]
    }
   ],
   "source": [
    "wl.get_model(name=model_name, version=\"no-such-version\")"
   ]
  },
  {
   "cell_type": "code",
   "execution_count": 20,
   "id": "86d7a2f8-12b0-4243-a7e0-69b90a462b82",
   "metadata": {},
   "outputs": [
    {
     "data": {
      "text/html": [
       "<table>\n",
       "        <tr>\n",
       "          <td>Name</td>\n",
       "          <td>helper-demo-model-1</td>\n",
       "        </tr>\n",
       "        <tr>\n",
       "          <td>Version</td>\n",
       "          <td>de7a7b93-1cff-4ca0-8b3b-cce2ac48af17</td>\n",
       "        </tr>\n",
       "        <tr>\n",
       "          <td>File Name</td>\n",
       "          <td>rf_model.onnx</td>\n",
       "        </tr>\n",
       "        <tr>\n",
       "          <td>SHA</td>\n",
       "          <td>e22a0831aafd9917f3cc87a15ed267797f80e2afa12ad7d8810ca58f173b8cc6</td>\n",
       "        </tr>\n",
       "        <tr>\n",
       "          <td>Status</td>\n",
       "          <td>ready</td>\n",
       "        </tr>\n",
       "        <tr>\n",
       "          <td>Image Path</td>\n",
       "          <td>None</td>\n",
       "        </tr>\n",
       "        <tr>\n",
       "          <td>Architecture</td>\n",
       "          <td>x86</td>\n",
       "        </tr>\n",
       "        <tr>\n",
       "          <td>Acceleration</td>\n",
       "          <td>none</td>\n",
       "        </tr>\n",
       "        <tr>\n",
       "          <td>Updated At</td>\n",
       "          <td>2024-15-Jul 18:13:54</td>\n",
       "        </tr>\n",
       "        <tr>\n",
       "          <td>Workspace id</td>\n",
       "          <td>25</td>\n",
       "        </tr>\n",
       "        <tr>\n",
       "          <td>Workspace name</td>\n",
       "          <td>helper-demo-workspace-1</td>\n",
       "        </tr>\n",
       "      </table>"
      ],
      "text/plain": [
       "{'name': 'helper-demo-model-1', 'version': 'de7a7b93-1cff-4ca0-8b3b-cce2ac48af17', 'file_name': 'rf_model.onnx', 'image_path': None, 'arch': 'x86', 'accel': 'none', 'last_update_time': datetime.datetime(2024, 7, 15, 18, 13, 54, 709321, tzinfo=tzutc())}"
      ]
     },
     "execution_count": 20,
     "metadata": {},
     "output_type": "execute_result"
    }
   ],
   "source": [
    "model_1 = wl.get_model(name=model_name, version=model_version)\n",
    "model_1"
   ]
  },
  {
   "cell_type": "markdown",
   "id": "ce3670f2-a057-45f6-bf6d-2fdd9fa5bf68",
   "metadata": {},
   "source": [
    "## get_pipeline"
   ]
  },
  {
   "cell_type": "code",
   "execution_count": 89,
   "id": "d259646d-42b4-420f-a7cd-d5cb2ffc5ab8",
   "metadata": {},
   "outputs": [
    {
     "data": {
      "text/html": [
       "<table><tr><th>name</th> <td>helper-demo-pipeline-1</td></tr><tr><th>created</th> <td>2024-07-15 21:44:19.342687+00:00</td></tr><tr><th>last_updated</th> <td>2024-07-15 21:45:56.602735+00:00</td></tr><tr><th>deployed</th> <td>True</td></tr><tr><th>workspace_id</th> <td>8</td></tr><tr><th>workspace_name</th> <td>john.hummel@wallaroo.ai - Default Workspace</td></tr><tr><th>arch</th> <td>x86</td></tr><tr><th>accel</th> <td>none</td></tr><tr><th>tags</th> <td></td></tr><tr><th>versions</th> <td>f5266b8b-07fd-4797-af2b-23a96208fb78, ad133bce-198d-4cf1-be3d-8f553a8baf03, 9153adea-72de-4925-938a-44366c0f4ef7</td></tr><tr><th>steps</th> <td>helper-demo-model-1</td></tr><tr><th>published</th> <td>False</td></tr></table>"
      ],
      "text/plain": [
       "{'name': 'helper-demo-pipeline-1', 'create_time': datetime.datetime(2024, 7, 15, 21, 44, 19, 342687, tzinfo=tzutc()), 'definition': '[]'}"
      ]
     },
     "execution_count": 89,
     "metadata": {},
     "output_type": "execute_result"
    }
   ],
   "source": [
    "pipeline = wl.build_pipeline(pipeline_name)\n",
    "pipeline"
   ]
  },
  {
   "cell_type": "markdown",
   "id": "5facc575-7935-491b-9c87-27b80ca23f01",
   "metadata": {},
   "source": [
    "### Error when pipeline doesn't exist"
   ]
  },
  {
   "cell_type": "code",
   "execution_count": 22,
   "id": "286a2eea-c064-467c-bb9e-0ad81767ed51",
   "metadata": {},
   "outputs": [
    {
     "ename": "Exception",
     "evalue": "Pipeline no-such-pipeline not found in this workspace.",
     "output_type": "error",
     "traceback": [
      "\u001b[0;31m---------------------------------------------------------------------------\u001b[0m",
      "\u001b[0;31mException\u001b[0m                                 Traceback (most recent call last)",
      "\u001b[0;32m/var/folders/rs/yt_dh9xn6y39_h0_jth1mjb40000gq/T/ipykernel_23867/1835144440.py\u001b[0m in \u001b[0;36m<module>\u001b[0;34m\u001b[0m\n\u001b[0;32m----> 1\u001b[0;31m \u001b[0mwl\u001b[0m\u001b[0;34m.\u001b[0m\u001b[0mget_pipeline\u001b[0m\u001b[0;34m(\u001b[0m\u001b[0mname\u001b[0m\u001b[0;34m=\u001b[0m\u001b[0;34m\"no-such-pipeline\"\u001b[0m\u001b[0;34m)\u001b[0m\u001b[0;34m\u001b[0m\u001b[0;34m\u001b[0m\u001b[0m\n\u001b[0m",
      "\u001b[0;32m~/.virtualenvs/wallaroosdk2024.2/lib/python3.8/site-packages/wallaroo/client.py\u001b[0m in \u001b[0;36mget_pipeline\u001b[0;34m(self, name, version)\u001b[0m\n\u001b[1;32m   1686\u001b[0m         )\n\u001b[1;32m   1687\u001b[0m         \u001b[0;32mif\u001b[0m \u001b[0mpipeline\u001b[0m \u001b[0;32mis\u001b[0m \u001b[0;32mNone\u001b[0m\u001b[0;34m:\u001b[0m\u001b[0;34m\u001b[0m\u001b[0;34m\u001b[0m\u001b[0m\n\u001b[0;32m-> 1688\u001b[0;31m             \u001b[0;32mraise\u001b[0m \u001b[0mException\u001b[0m\u001b[0;34m(\u001b[0m\u001b[0;34mf\"Pipeline {name} not found in this workspace.\"\u001b[0m\u001b[0;34m)\u001b[0m\u001b[0;34m\u001b[0m\u001b[0;34m\u001b[0m\u001b[0m\n\u001b[0m\u001b[1;32m   1689\u001b[0m         \u001b[0;32mif\u001b[0m \u001b[0mversion\u001b[0m \u001b[0;32mis\u001b[0m \u001b[0;32mnot\u001b[0m \u001b[0;32mNone\u001b[0m\u001b[0;34m:\u001b[0m\u001b[0;34m\u001b[0m\u001b[0;34m\u001b[0m\u001b[0m\n\u001b[1;32m   1690\u001b[0m             pipeline_version = next(\n",
      "\u001b[0;31mException\u001b[0m: Pipeline no-such-pipeline not found in this workspace."
     ]
    }
   ],
   "source": [
    "wl.get_pipeline(name=\"no-such-pipeline\")"
   ]
  },
  {
   "cell_type": "code",
   "execution_count": 88,
   "id": "2425b4f8-cecd-405f-a524-ccd72d9fe407",
   "metadata": {},
   "outputs": [
    {
     "data": {
      "text/html": [
       "<table><tr><th>name</th> <td>helper-demo-pipeline-1</td></tr><tr><th>created</th> <td>2024-07-15 21:44:19.342687+00:00</td></tr><tr><th>last_updated</th> <td>2024-07-15 21:45:36.935273+00:00</td></tr><tr><th>deployed</th> <td>True</td></tr><tr><th>workspace_id</th> <td>8</td></tr><tr><th>workspace_name</th> <td>john.hummel@wallaroo.ai - Default Workspace</td></tr><tr><th>arch</th> <td>x86</td></tr><tr><th>accel</th> <td>none</td></tr><tr><th>tags</th> <td></td></tr><tr><th>versions</th> <td>ad133bce-198d-4cf1-be3d-8f553a8baf03, 9153adea-72de-4925-938a-44366c0f4ef7</td></tr><tr><th>steps</th> <td>helper-demo-model-1</td></tr><tr><th>published</th> <td>False</td></tr></table>"
      ],
      "text/plain": [
       "{'name': 'helper-demo-pipeline-1', 'create_time': datetime.datetime(2024, 7, 15, 21, 44, 19, 342687, tzinfo=tzutc()), 'definition': '[]'}"
      ]
     },
     "execution_count": 88,
     "metadata": {},
     "output_type": "execute_result"
    }
   ],
   "source": [
    "wl.get_pipeline(name=pipeline_name)"
   ]
  },
  {
   "cell_type": "code",
   "execution_count": 32,
   "id": "ad1f9ed2",
   "metadata": {},
   "outputs": [
    {
     "data": {
      "text/html": [
       "\n",
       "        <table>\n",
       "          <tr><td>name</td><td>helper-demo-pipeline-1</td></tr>\n",
       "          <tr><td>version</td><td>62e0236f-e040-40c1-8666-7b703fd5d2f0</td></tr>\n",
       "          <tr><td>creation_time</td><td>2024-15-Jul 18:15:32</td></tr>\n",
       "          <tr><td>last_updated_time</td><td>2024-15-Jul 18:15:32</td></tr>\n",
       "          <tr><td>deployed</td><td>False</td></tr>\n",
       "          <tr><td>tags</td><td></td></tr>\n",
       "          <tr><td>steps</td><td></td></tr>\n",
       "        </table>\n",
       "        "
      ],
      "text/plain": [
       "<wallaroo.pipeline_version.PipelineVersion at 0x17650eee0>"
      ]
     },
     "execution_count": 32,
     "metadata": {},
     "output_type": "execute_result"
    }
   ],
   "source": [
    "pipeline_version = wl.get_pipeline(name=pipeline_name).versions()[0]\n",
    "pipeline_version"
   ]
  },
  {
   "cell_type": "markdown",
   "id": "7e9696b8-ee64-413f-99e6-03edfcde3c5b",
   "metadata": {},
   "source": [
    "### Error when version doesn't exist"
   ]
  },
  {
   "cell_type": "code",
   "execution_count": 24,
   "id": "eea9e257-1615-4389-8bc4-ab75473c59ed",
   "metadata": {},
   "outputs": [
    {
     "ename": "Exception",
     "evalue": "Pipeline version no-such-version not found in this workspace.",
     "output_type": "error",
     "traceback": [
      "\u001b[0;31m---------------------------------------------------------------------------\u001b[0m",
      "\u001b[0;31mException\u001b[0m                                 Traceback (most recent call last)",
      "\u001b[0;32m/var/folders/rs/yt_dh9xn6y39_h0_jth1mjb40000gq/T/ipykernel_23867/2171664880.py\u001b[0m in \u001b[0;36m<module>\u001b[0;34m\u001b[0m\n\u001b[0;32m----> 1\u001b[0;31m \u001b[0mwl\u001b[0m\u001b[0;34m.\u001b[0m\u001b[0mget_pipeline\u001b[0m\u001b[0;34m(\u001b[0m\u001b[0mname\u001b[0m\u001b[0;34m=\u001b[0m\u001b[0mpipeline_name\u001b[0m\u001b[0;34m,\u001b[0m \u001b[0mversion\u001b[0m\u001b[0;34m=\u001b[0m\u001b[0;34m\"no-such-version\"\u001b[0m\u001b[0;34m)\u001b[0m\u001b[0;34m\u001b[0m\u001b[0;34m\u001b[0m\u001b[0m\n\u001b[0m",
      "\u001b[0;32m~/.virtualenvs/wallaroosdk2024.2/lib/python3.8/site-packages/wallaroo/client.py\u001b[0m in \u001b[0;36mget_pipeline\u001b[0;34m(self, name, version)\u001b[0m\n\u001b[1;32m   1695\u001b[0m                 \u001b[0;32mreturn\u001b[0m \u001b[0mpipeline\u001b[0m\u001b[0;34m\u001b[0m\u001b[0;34m\u001b[0m\u001b[0m\n\u001b[1;32m   1696\u001b[0m             \u001b[0;32melse\u001b[0m\u001b[0;34m:\u001b[0m\u001b[0;34m\u001b[0m\u001b[0;34m\u001b[0m\u001b[0m\n\u001b[0;32m-> 1697\u001b[0;31m                 raise Exception(\n\u001b[0m\u001b[1;32m   1698\u001b[0m                     \u001b[0;34mf\"Pipeline version {version} not found in this workspace.\"\u001b[0m\u001b[0;34m\u001b[0m\u001b[0;34m\u001b[0m\u001b[0m\n\u001b[1;32m   1699\u001b[0m                 )\n",
      "\u001b[0;31mException\u001b[0m: Pipeline version no-such-version not found in this workspace."
     ]
    }
   ],
   "source": [
    "wl.get_pipeline(name=pipeline_name, version=\"no-such-version\")"
   ]
  },
  {
   "cell_type": "code",
   "execution_count": 40,
   "id": "1a55308d-6ef7-4821-b2d0-2fa230ce2254",
   "metadata": {},
   "outputs": [
    {
     "data": {
      "text/html": [
       "<table><tr><th>name</th> <td>helper-demo-pipeline-1</td></tr><tr><th>created</th> <td>2024-07-15 18:15:32.873521+00:00</td></tr><tr><th>last_updated</th> <td>2024-07-15 18:15:32.873521+00:00</td></tr><tr><th>deployed</th> <td>(none)</td></tr><tr><th>workspace_id</th> <td>25</td></tr><tr><th>workspace_name</th> <td>helper-demo-workspace-1</td></tr><tr><th>arch</th> <td>None</td></tr><tr><th>accel</th> <td>None</td></tr><tr><th>tags</th> <td></td></tr><tr><th>versions</th> <td>62e0236f-e040-40c1-8666-7b703fd5d2f0</td></tr><tr><th>steps</th> <td></td></tr><tr><th>published</th> <td>False</td></tr></table>"
      ],
      "text/plain": [
       "{'name': 'helper-demo-pipeline-1', 'create_time': datetime.datetime(2024, 7, 15, 18, 15, 32, 873521, tzinfo=tzutc()), 'definition': '[]'}"
      ]
     },
     "execution_count": 40,
     "metadata": {},
     "output_type": "execute_result"
    }
   ],
   "source": [
    "wl.get_pipeline(name=pipeline_name, version=\"62e0236f-e040-40c1-8666-7b703fd5d2f0\")"
   ]
  },
  {
   "cell_type": "markdown",
   "id": "67eaf282-8a3e-4f8b-8f65-f18f46b6a4c4",
   "metadata": {},
   "source": [
    "### use returned model and pipeline from get_model / get_pipeline"
   ]
  },
  {
   "cell_type": "code",
   "execution_count": 86,
   "id": "a705b978-8005-48da-b94c-cea0a70c4d5a",
   "metadata": {},
   "outputs": [
    {
     "data": {
      "text/html": [
       "<table><tr><th>name</th> <td>helper-demo-pipeline-1</td></tr><tr><th>created</th> <td>2024-07-15 21:44:19.342687+00:00</td></tr><tr><th>last_updated</th> <td>2024-07-15 21:44:19.342687+00:00</td></tr><tr><th>deployed</th> <td>(none)</td></tr><tr><th>workspace_id</th> <td>8</td></tr><tr><th>workspace_name</th> <td>john.hummel@wallaroo.ai - Default Workspace</td></tr><tr><th>arch</th> <td>None</td></tr><tr><th>accel</th> <td>None</td></tr><tr><th>tags</th> <td></td></tr><tr><th>versions</th> <td>9153adea-72de-4925-938a-44366c0f4ef7</td></tr><tr><th>steps</th> <td></td></tr><tr><th>published</th> <td>False</td></tr></table>"
      ],
      "text/plain": [
       "{'name': 'helper-demo-pipeline-1', 'create_time': datetime.datetime(2024, 7, 15, 21, 44, 19, 342687, tzinfo=tzutc()), 'definition': \"[{'ModelInference': {'models': [{'name': 'helper-demo-model-1', 'version': '0b2a1702-e9e4-4251-9533-e6f329a7c247', 'sha': 'e22a0831aafd9917f3cc87a15ed267797f80e2afa12ad7d8810ca58f173b8cc6'}]}}]\"}"
      ]
     },
     "execution_count": 86,
     "metadata": {},
     "output_type": "execute_result"
    }
   ],
   "source": [
    "mainpipeline = wl.get_pipeline(name=pipeline_name)\n",
    "mainpipeline.clear()\n",
    "\n",
    "model_1 = wl.get_model(name=model_name)\n",
    "mainpipeline.add_model_step(model_1)\n",
    "mainpipeline"
   ]
  },
  {
   "cell_type": "code",
   "execution_count": 87,
   "id": "cfd341dd-a862-47ad-906f-98948d725329",
   "metadata": {},
   "outputs": [
    {
     "data": {
      "text/html": [
       "<table><tr><th>name</th> <td>helper-demo-pipeline-1</td></tr><tr><th>created</th> <td>2024-07-15 21:44:19.342687+00:00</td></tr><tr><th>last_updated</th> <td>2024-07-15 21:45:36.935273+00:00</td></tr><tr><th>deployed</th> <td>True</td></tr><tr><th>workspace_id</th> <td>8</td></tr><tr><th>workspace_name</th> <td>john.hummel@wallaroo.ai - Default Workspace</td></tr><tr><th>arch</th> <td>x86</td></tr><tr><th>accel</th> <td>none</td></tr><tr><th>tags</th> <td></td></tr><tr><th>versions</th> <td>ad133bce-198d-4cf1-be3d-8f553a8baf03, 9153adea-72de-4925-938a-44366c0f4ef7</td></tr><tr><th>steps</th> <td>helper-demo-model-1</td></tr><tr><th>published</th> <td>False</td></tr></table>"
      ],
      "text/plain": [
       "{'name': 'helper-demo-pipeline-1', 'create_time': datetime.datetime(2024, 7, 15, 21, 44, 19, 342687, tzinfo=tzutc()), 'definition': \"[{'ModelInference': {'models': [{'name': 'helper-demo-model-1', 'version': '0b2a1702-e9e4-4251-9533-e6f329a7c247', 'sha': 'e22a0831aafd9917f3cc87a15ed267797f80e2afa12ad7d8810ca58f173b8cc6'}]}}]\"}"
      ]
     },
     "execution_count": 87,
     "metadata": {},
     "output_type": "execute_result"
    }
   ],
   "source": [
    "deploy_config = wallaroo.DeploymentConfigBuilder().cpus(0.25).memory(\"1Gi\").build()\n",
    "mainpipeline.deploy(deployment_config = deploy_config)"
   ]
  },
  {
   "cell_type": "code",
   "execution_count": 27,
   "id": "1c9f3019-75ac-4153-ae60-78c432fa2daf",
   "metadata": {},
   "outputs": [
    {
     "data": {
      "text/plain": [
       "{'status': 'Running',\n",
       " 'details': [],\n",
       " 'engines': [{'ip': '10.116.64.162',\n",
       "   'name': 'engine-5798df5fd7-nnmcx',\n",
       "   'status': 'Running',\n",
       "   'reason': None,\n",
       "   'details': [],\n",
       "   'pipeline_statuses': {'pipelines': [{'id': 'helper-demo-pipeline-1',\n",
       "      'status': 'Running'}]},\n",
       "   'model_statuses': {'models': [{'name': 'helper-demo-model-1',\n",
       "      'sha': 'e22a0831aafd9917f3cc87a15ed267797f80e2afa12ad7d8810ca58f173b8cc6',\n",
       "      'status': 'Running',\n",
       "      'version': '522e5e85-74f5-44d3-a734-4dfe2f70d790'}]}}],\n",
       " 'engine_lbs': [{'ip': '10.116.64.161',\n",
       "   'name': 'engine-lb-7bcbb95695-695k2',\n",
       "   'status': 'Running',\n",
       "   'reason': None,\n",
       "   'details': []}],\n",
       " 'sidekicks': []}"
      ]
     },
     "execution_count": 27,
     "metadata": {},
     "output_type": "execute_result"
    }
   ],
   "source": [
    "mainpipeline.status()"
   ]
  },
  {
   "cell_type": "code",
   "execution_count": 28,
   "id": "ba1e0fba-e0c1-46a5-b929-045333e71784",
   "metadata": {},
   "outputs": [
    {
     "data": {
      "text/html": [
       "<div>\n",
       "<style scoped>\n",
       "    .dataframe tbody tr th:only-of-type {\n",
       "        vertical-align: middle;\n",
       "    }\n",
       "\n",
       "    .dataframe tbody tr th {\n",
       "        vertical-align: top;\n",
       "    }\n",
       "\n",
       "    .dataframe thead th {\n",
       "        text-align: right;\n",
       "    }\n",
       "</style>\n",
       "<table border=\"1\" class=\"dataframe\">\n",
       "  <thead>\n",
       "    <tr style=\"text-align: right;\">\n",
       "      <th></th>\n",
       "      <th>time</th>\n",
       "      <th>in.tensor</th>\n",
       "      <th>out.variable</th>\n",
       "      <th>anomaly.count</th>\n",
       "    </tr>\n",
       "  </thead>\n",
       "  <tbody>\n",
       "    <tr>\n",
       "      <th>0</th>\n",
       "      <td>2024-04-04 18:05:35.870</td>\n",
       "      <td>[4.0, 2.5, 2900.0, 5505.0, 2.0, 0.0, 0.0, 3.0,...</td>\n",
       "      <td>[718013.7]</td>\n",
       "      <td>0</td>\n",
       "    </tr>\n",
       "  </tbody>\n",
       "</table>\n",
       "</div>"
      ],
      "text/plain": [
       "                     time                                          in.tensor  \\\n",
       "0 2024-04-04 18:05:35.870  [4.0, 2.5, 2900.0, 5505.0, 2.0, 0.0, 0.0, 3.0,...   \n",
       "\n",
       "  out.variable  anomaly.count  \n",
       "0   [718013.7]              0  "
      ]
     },
     "metadata": {},
     "output_type": "display_data"
    }
   ],
   "source": [
    "normal_input = pd.DataFrame.from_records({\"tensor\": [[4.0, 2.5, 2900.0, 5505.0, 2.0, 0.0, 0.0, 3.0, 8.0, 2900.0, 0.0, 47.6063, -122.02, 2970.0, 5251.0, 12.0, 0.0, 0.0]]})\n",
    "result = mainpipeline.infer(normal_input)\n",
    "display(result)"
   ]
  },
  {
   "cell_type": "code",
   "execution_count": 29,
   "id": "b242f951-90d4-4c08-9f95-a984fa966ccf",
   "metadata": {},
   "outputs": [
    {
     "data": {
      "text/plain": [
       "[<wallaroo.pipeline_version.PipelineVersion at 0x7dd9d8d01ca0>,\n",
       " <wallaroo.pipeline_version.PipelineVersion at 0x7dd9d8d01eb0>]"
      ]
     },
     "execution_count": 29,
     "metadata": {},
     "output_type": "execute_result"
    }
   ],
   "source": [
    "mainpipeline.versions()"
   ]
  },
  {
   "cell_type": "code",
   "execution_count": 30,
   "id": "10382f4e-2654-4123-9d2e-a9ddd2e757b0",
   "metadata": {},
   "outputs": [
    {
     "name": "stdout",
     "output_type": "stream",
     "text": [
      "Waiting for undeployment - this will take up to 45s ..................................... ok\n"
     ]
    },
    {
     "data": {
      "text/html": [
       "<table><tr><th>name</th> <td>helper-demo-pipeline-1</td></tr><tr><th>created</th> <td>2024-04-04 18:04:09.143113+00:00</td></tr><tr><th>last_updated</th> <td>2024-04-04 18:04:54.874386+00:00</td></tr><tr><th>deployed</th> <td>False</td></tr><tr><th>arch</th> <td>x86</td></tr><tr><th>accel</th> <td>none</td></tr><tr><th>tags</th> <td></td></tr><tr><th>versions</th> <td>e2ff1174-05e8-4ea0-9a2d-e2759e6b1707, 1647a8bd-4ed8-45bc-a2b8-b14ace57e490</td></tr><tr><th>steps</th> <td>helper-demo-model-1</td></tr><tr><th>published</th> <td>False</td></tr></table>"
      ],
      "text/plain": [
       "{'name': 'helper-demo-pipeline-1', 'create_time': datetime.datetime(2024, 4, 4, 18, 4, 9, 143113, tzinfo=tzutc()), 'definition': \"[{'ModelInference': {'models': [{'name': 'helper-demo-model-1', 'version': '522e5e85-74f5-44d3-a734-4dfe2f70d790', 'sha': 'e22a0831aafd9917f3cc87a15ed267797f80e2afa12ad7d8810ca58f173b8cc6'}]}}]\"}"
      ]
     },
     "execution_count": 30,
     "metadata": {},
     "output_type": "execute_result"
    }
   ],
   "source": [
    "mainpipeline.undeploy()"
   ]
  },
  {
   "cell_type": "markdown",
   "id": "038f21ba-08d1-4b10-9f17-a9d610fb4fda",
   "metadata": {},
   "source": [
    "### Get existing pipeline version and redeploy that specific version"
   ]
  },
  {
   "cell_type": "markdown",
   "id": "a7b0d6d7-c91d-4333-8fd0-e9f294bbfe19",
   "metadata": {},
   "source": [
    "#### Creating new versions"
   ]
  },
  {
   "cell_type": "code",
   "execution_count": 48,
   "id": "d0c60b04-adc4-4e70-bb2d-572c4a2f2b14",
   "metadata": {},
   "outputs": [
    {
     "data": {
      "text/html": [
       "<table>\n",
       "        <tr>\n",
       "          <td>Name</td>\n",
       "          <td>helper-model-replace</td>\n",
       "        </tr>\n",
       "        <tr>\n",
       "          <td>Version</td>\n",
       "          <td>0221a451-ef93-41d0-8fc4-ada0e3f95267</td>\n",
       "        </tr>\n",
       "        <tr>\n",
       "          <td>File Name</td>\n",
       "          <td>gbr_model.onnx</td>\n",
       "        </tr>\n",
       "        <tr>\n",
       "          <td>SHA</td>\n",
       "          <td>ed6065a79d841f7e96307bb20d5ef22840f15da0b587efb51425c7ad60589d6a</td>\n",
       "        </tr>\n",
       "        <tr>\n",
       "          <td>Status</td>\n",
       "          <td>ready</td>\n",
       "        </tr>\n",
       "        <tr>\n",
       "          <td>Image Path</td>\n",
       "          <td>None</td>\n",
       "        </tr>\n",
       "        <tr>\n",
       "          <td>Architecture</td>\n",
       "          <td>x86</td>\n",
       "        </tr>\n",
       "        <tr>\n",
       "          <td>Acceleration</td>\n",
       "          <td>none</td>\n",
       "        </tr>\n",
       "        <tr>\n",
       "          <td>Updated At</td>\n",
       "          <td>2024-15-Jul 18:24:51</td>\n",
       "        </tr>\n",
       "        <tr>\n",
       "          <td>Workspace id</td>\n",
       "          <td>25</td>\n",
       "        </tr>\n",
       "        <tr>\n",
       "          <td>Workspace name</td>\n",
       "          <td>helper-demo-workspace-1</td>\n",
       "        </tr>\n",
       "      </table>"
      ],
      "text/plain": [
       "{'name': 'helper-model-replace', 'version': '0221a451-ef93-41d0-8fc4-ada0e3f95267', 'file_name': 'gbr_model.onnx', 'image_path': None, 'arch': 'x86', 'accel': 'none', 'last_update_time': datetime.datetime(2024, 7, 15, 18, 24, 51, 92644, tzinfo=tzutc())}"
      ]
     },
     "execution_count": 48,
     "metadata": {},
     "output_type": "execute_result"
    }
   ],
   "source": [
    "new_model = (wl.upload_model(\"helper-model-replace\", \n",
    "                                        \"./models/gbr_model.onnx\", \n",
    "                                        framework=Framework.ONNX)\n",
    "                                        .configure(tensor_fields=[\"tensor\"])\n",
    "                        )\n",
    "new_model"
   ]
  },
  {
   "cell_type": "code",
   "execution_count": 61,
   "id": "392d4b6d-8f1a-4b63-b843-156eff446ddb",
   "metadata": {},
   "outputs": [
    {
     "data": {
      "text/plain": [
       "[{'ModelInference': {'models': [{'name': 'helper-model-replace', 'version': '0221a451-ef93-41d0-8fc4-ada0e3f95267', 'sha': 'ed6065a79d841f7e96307bb20d5ef22840f15da0b587efb51425c7ad60589d6a'}]}}]"
      ]
     },
     "execution_count": 61,
     "metadata": {},
     "output_type": "execute_result"
    }
   ],
   "source": [
    "pipeline.clear()\n",
    "pipeline.add_model_step(new_model)\n",
    "pipeline.steps()"
   ]
  },
  {
   "cell_type": "code",
   "execution_count": 62,
   "id": "e84d7010-b779-4b4a-a6bc-f7ddde427536",
   "metadata": {},
   "outputs": [
    {
     "data": {
      "text/html": [
       "<table><tr><th>name</th> <td>helper-demo-pipeline-1</td></tr><tr><th>created</th> <td>2024-07-15 18:43:50.860129+00:00</td></tr><tr><th>last_updated</th> <td>2024-07-15 18:44:09.346419+00:00</td></tr><tr><th>deployed</th> <td>True</td></tr><tr><th>workspace_id</th> <td>26</td></tr><tr><th>workspace_name</th> <td>helper-demo-workspace-2</td></tr><tr><th>arch</th> <td>x86</td></tr><tr><th>accel</th> <td>none</td></tr><tr><th>tags</th> <td></td></tr><tr><th>versions</th> <td>023ddae5-56d6-4574-8e59-eb02c004457c, 772dd02f-d7e7-4986-98df-b5cdbccbd2a7</td></tr><tr><th>steps</th> <td>helper-model-replace</td></tr><tr><th>published</th> <td>False</td></tr></table>"
      ],
      "text/plain": [
       "{'name': 'helper-demo-pipeline-1', 'create_time': datetime.datetime(2024, 7, 15, 18, 43, 50, 860129, tzinfo=tzutc()), 'definition': \"[{'ModelInference': {'models': [{'name': 'helper-model-replace', 'version': '0221a451-ef93-41d0-8fc4-ada0e3f95267', 'sha': 'ed6065a79d841f7e96307bb20d5ef22840f15da0b587efb51425c7ad60589d6a'}]}}]\"}"
      ]
     },
     "execution_count": 62,
     "metadata": {},
     "output_type": "execute_result"
    }
   ],
   "source": [
    "deploy_config = wallaroo.DeploymentConfigBuilder().cpus(0.25).memory(\"1Gi\").build()\n",
    "pipeline.deploy(deployment_config = deploy_config)"
   ]
  },
  {
   "cell_type": "code",
   "execution_count": 37,
   "id": "a2038e95-42a6-4741-8f67-62f3a02ead04",
   "metadata": {},
   "outputs": [
    {
     "name": "stdout",
     "output_type": "stream",
     "text": [
      " ok\n"
     ]
    },
    {
     "data": {
      "text/html": [
       "<table><tr><th>name</th> <td>helper-demo-pipeline-1</td></tr><tr><th>created</th> <td>2024-04-04 18:04:09.143113+00:00</td></tr><tr><th>last_updated</th> <td>2024-04-04 18:09:08.209764+00:00</td></tr><tr><th>deployed</th> <td>False</td></tr><tr><th>arch</th> <td>x86</td></tr><tr><th>accel</th> <td>none</td></tr><tr><th>tags</th> <td></td></tr><tr><th>versions</th> <td>adbda107-649f-447d-9b4f-91684b37cc37, e2ff1174-05e8-4ea0-9a2d-e2759e6b1707, 1647a8bd-4ed8-45bc-a2b8-b14ace57e490</td></tr><tr><th>steps</th> <td>helper-model-replace</td></tr><tr><th>published</th> <td>False</td></tr></table>"
      ],
      "text/plain": [
       "{'name': 'helper-demo-pipeline-1', 'create_time': datetime.datetime(2024, 4, 4, 18, 4, 9, 143113, tzinfo=tzutc()), 'definition': \"[{'ModelInference': {'models': [{'name': 'helper-model-replace', 'version': 'fec3642f-e990-4f44-aaa8-8ada296206bd', 'sha': 'ed6065a79d841f7e96307bb20d5ef22840f15da0b587efb51425c7ad60589d6a'}]}}]\"}"
      ]
     },
     "execution_count": 37,
     "metadata": {},
     "output_type": "execute_result"
    }
   ],
   "source": [
    "mainpipeline.undeploy()"
   ]
  },
  {
   "cell_type": "markdown",
   "id": "25378172-369c-4995-a05a-976c1bf297bc",
   "metadata": {},
   "source": [
    "## Get specific version and redeploy"
   ]
  },
  {
   "cell_type": "code",
   "execution_count": 53,
   "id": "23b31fa3",
   "metadata": {},
   "outputs": [
    {
     "data": {
      "text/plain": [
       "{'name': 'helper-demo-workspace-1', 'id': 25, 'archived': False, 'created_by': '13486fc4-a1a7-43e2-9233-62177d5f739b', 'created_at': '2024-07-15T18:13:49.735832+00:00', 'models': [{'name': 'helper-demo-model-1', 'versions': 2, 'owner_id': '\"\"', 'last_update_time': datetime.datetime(2024, 7, 15, 18, 19, 56, 113108, tzinfo=tzutc()), 'created_at': datetime.datetime(2024, 7, 15, 18, 13, 54, 709321, tzinfo=tzutc())}, {'name': 'helper-model-replace', 'versions': 1, 'owner_id': '\"\"', 'last_update_time': datetime.datetime(2024, 7, 15, 18, 24, 51, 92644, tzinfo=tzutc()), 'created_at': datetime.datetime(2024, 7, 15, 18, 24, 51, 92644, tzinfo=tzutc())}], 'pipelines': [{'name': 'helper-demo-pipeline-1', 'create_time': datetime.datetime(2024, 7, 15, 18, 15, 32, 873521, tzinfo=tzutc()), 'definition': '[]'}]}"
      ]
     },
     "execution_count": 53,
     "metadata": {},
     "output_type": "execute_result"
    }
   ],
   "source": [
    "workspace"
   ]
  },
  {
   "cell_type": "code",
   "execution_count": 63,
   "id": "5ce4dd27-a8c9-4a92-bea0-016090bd9550",
   "metadata": {},
   "outputs": [
    {
     "data": {
      "text/html": [
       "<table><tr><th>name</th><th>version</th><th>creation_time</th><th>last_updated_time</th><th>deployed</th><th>workspace_id</th><th>workspace_name</th><th>tags</th><th>steps</th></tr><tr><td>helper-demo-pipeline-1</td><td>023ddae5-56d6-4574-8e59-eb02c004457c</td><td>2024-15-Jul 18:44:09</td><td>2024-15-Jul 18:44:09</td><td>True</td><td>26</td><td>helper-demo-workspace-2</td><td></td><td>helper-model-replace</td></tr><tr><td>helper-demo-pipeline-1</td><td>772dd02f-d7e7-4986-98df-b5cdbccbd2a7</td><td>2024-15-Jul 18:43:50</td><td>2024-15-Jul 18:43:50</td><td>(unknown)</td><td>26</td><td>helper-demo-workspace-2</td><td></td><td></td></tr></table>"
      ],
      "text/plain": [
       "[<wallaroo.pipeline_version.PipelineVersion at 0x17650e2e0>,\n",
       " <wallaroo.pipeline_version.PipelineVersion at 0x1778c4fd0>]"
      ]
     },
     "execution_count": 63,
     "metadata": {},
     "output_type": "execute_result"
    }
   ],
   "source": [
    "wl.search_pipelines(search_term=pipeline_name, workspace_name=workspace_name)"
   ]
  },
  {
   "cell_type": "code",
   "execution_count": 64,
   "id": "a4ae8eec",
   "metadata": {},
   "outputs": [
    {
     "data": {
      "text/html": [
       "<table><tr><th>name</th><th>version</th><th>creation_time</th><th>last_updated_time</th><th>deployed</th><th>workspace_id</th><th>workspace_name</th><th>tags</th><th>steps</th></tr><tr><td>helper-demo-pipeline-1</td><td>5c173333-87bd-4bc5-b3fa-7dd651d76d1d</td><td>2024-15-Jul 18:25:07</td><td>2024-15-Jul 18:25:07</td><td>True</td><td>25</td><td>helper-demo-workspace-1</td><td></td><td>helper-model-replace</td></tr><tr><td>helper-demo-pipeline-1</td><td>a1b4337a-3379-403c-8d03-bed291092feb</td><td>2024-15-Jul 18:20:02</td><td>2024-15-Jul 18:20:02</td><td>(unknown)</td><td>25</td><td>helper-demo-workspace-1</td><td></td><td></td></tr><tr><td>helper-demo-pipeline-1</td><td>62e0236f-e040-40c1-8666-7b703fd5d2f0</td><td>2024-15-Jul 18:15:32</td><td>2024-15-Jul 18:15:32</td><td>(unknown)</td><td>25</td><td>helper-demo-workspace-1</td><td></td><td></td></tr></table>"
      ],
      "text/plain": [
       "[<wallaroo.pipeline_version.PipelineVersion at 0x17650e760>,\n",
       " <wallaroo.pipeline_version.PipelineVersion at 0x17650e100>,\n",
       " <wallaroo.pipeline_version.PipelineVersion at 0x158007e50>]"
      ]
     },
     "execution_count": 64,
     "metadata": {},
     "output_type": "execute_result"
    }
   ],
   "source": [
    "wl.search_pipelines(search_term=pipeline_name, workspace_id=25)"
   ]
  },
  {
   "cell_type": "code",
   "execution_count": 65,
   "id": "2c4c2322",
   "metadata": {},
   "outputs": [
    {
     "data": {
      "text/html": [
       "<table><tr><th>name</th><th>version</th><th>creation_time</th><th>last_updated_time</th><th>deployed</th><th>workspace_id</th><th>workspace_name</th><th>tags</th><th>steps</th></tr><tr><td>helper-demo-pipeline-1</td><td>023ddae5-56d6-4574-8e59-eb02c004457c</td><td>2024-15-Jul 18:44:09</td><td>2024-15-Jul 18:44:09</td><td>True</td><td>26</td><td>helper-demo-workspace-2</td><td></td><td>helper-model-replace</td></tr><tr><td>helper-demo-pipeline-1</td><td>772dd02f-d7e7-4986-98df-b5cdbccbd2a7</td><td>2024-15-Jul 18:43:50</td><td>2024-15-Jul 18:43:50</td><td>(unknown)</td><td>26</td><td>helper-demo-workspace-2</td><td></td><td></td></tr><tr><td>helper-demo-pipeline-1</td><td>5c173333-87bd-4bc5-b3fa-7dd651d76d1d</td><td>2024-15-Jul 18:25:07</td><td>2024-15-Jul 18:25:07</td><td>True</td><td>25</td><td>helper-demo-workspace-1</td><td></td><td>helper-model-replace</td></tr><tr><td>helper-demo-pipeline-1</td><td>a1b4337a-3379-403c-8d03-bed291092feb</td><td>2024-15-Jul 18:20:02</td><td>2024-15-Jul 18:20:02</td><td>(unknown)</td><td>25</td><td>helper-demo-workspace-1</td><td></td><td></td></tr><tr><td>helper-demo-pipeline-1</td><td>62e0236f-e040-40c1-8666-7b703fd5d2f0</td><td>2024-15-Jul 18:15:32</td><td>2024-15-Jul 18:15:32</td><td>(unknown)</td><td>25</td><td>helper-demo-workspace-1</td><td></td><td></td></tr><tr><td>api-pipeline-with-models</td><td>3fe1411e-b2e8-4a28-a0df-860267b7ad3d</td><td>2024-11-Jul 17:48:00</td><td>2024-11-Jul 17:48:00</td><td>True</td><td>24</td><td>sample-api-workspace-assays</td><td></td><td>api-sample-model</td></tr><tr><td>apiinferenceexamplepipeline</td><td>f410e6e0-59d2-488e-9ec9-11013078721e</td><td>2024-11-Jul 17:41:23</td><td>2024-11-Jul 17:41:23</td><td>False</td><td>22</td><td>apiinferenceexampleworkspace</td><td></td><td>ccfraud</td></tr><tr><td>ccfraudpipeline</td><td>ff45b328-9d7c-41bb-aa7c-5b5c7e9cbcc4</td><td>2024-11-Jul 17:40:24</td><td>2024-11-Jul 17:40:24</td><td>True</td><td>14</td><td>ccfraudworkspace</td><td></td><td>ccfraudmodel</td></tr><tr><td>ccfraudpipeline</td><td>004d69fa-67e1-448b-bd38-8fe5299be206</td><td>2024-11-Jul 17:40:22</td><td>2024-11-Jul 17:40:22</td><td>(unknown)</td><td>14</td><td>ccfraudworkspace</td><td></td><td></td></tr><tr><td>sdkinferenceexamplepipeline</td><td>a003db88-d68c-4ee0-b5be-9dd9b44195d7</td><td>2024-11-Jul 17:38:49</td><td>2024-11-Jul 17:38:49</td><td>False</td><td>21</td><td>sdkinferenceexampleworkspace</td><td></td><td>ccfraud</td></tr><tr><td>sdkinferenceexamplepipeline</td><td>ef24ecb7-1e4f-4926-b4d9-1e15ab8d6650</td><td>2024-11-Jul 17:38:49</td><td>2024-11-Jul 17:38:49</td><td>(unknown)</td><td>21</td><td>sdkinferenceexampleworkspace</td><td></td><td></td></tr><tr><td>sdkinferenceexamplepipeline</td><td>b4606f90-70ce-40f7-854f-dab5763ffa89</td><td>2024-11-Jul 17:31:35</td><td>2024-11-Jul 17:31:35</td><td>(unknown)</td><td>21</td><td>sdkinferenceexampleworkspace</td><td></td><td>ccfraud</td></tr><tr><td>sdkinferenceexamplepipeline</td><td>a6350b91-3fec-4c50-9e7d-b34feb759a1c</td><td>2024-11-Jul 17:31:34</td><td>2024-11-Jul 17:31:34</td><td>(unknown)</td><td>21</td><td>sdkinferenceexampleworkspace</td><td></td><td></td></tr><tr><td>sdkinferenceexamplepipeline</td><td>55dc0f1f-5970-4169-af07-35ff54953b00</td><td>2024-11-Jul 17:28:24</td><td>2024-11-Jul 17:28:24</td><td>(unknown)</td><td>21</td><td>sdkinferenceexampleworkspace</td><td></td><td>ccfraud</td></tr><tr><td>sdkinferenceexamplepipeline</td><td>ccb2c84b-579d-436f-ab07-cccb28628b6d</td><td>2024-11-Jul 17:28:23</td><td>2024-11-Jul 17:28:23</td><td>(unknown)</td><td>21</td><td>sdkinferenceexampleworkspace</td><td></td><td></td></tr><tr><td>sdkinferenceexamplepipeline</td><td>893920f4-dd25-4d43-906d-4261b9adf860</td><td>2024-11-Jul 17:27:20</td><td>2024-11-Jul 17:27:20</td><td>(unknown)</td><td>21</td><td>sdkinferenceexampleworkspace</td><td></td><td>ccfraud</td></tr><tr><td>sdkinferenceexamplepipeline</td><td>cc572647-c758-4b3c-b725-8fff9976a34d</td><td>2024-11-Jul 17:27:18</td><td>2024-11-Jul 17:27:18</td><td>(unknown)</td><td>21</td><td>sdkinferenceexampleworkspace</td><td></td><td></td></tr><tr><td>api-pipeline-with-models</td><td>385f5383-c800-4ff8-9274-5f51c93465e3</td><td>2024-11-Jul 17:17:42</td><td>2024-11-Jul 17:17:42</td><td>False</td><td>20</td><td>test-api-workspace-assays</td><td></td><td>api-sample-model</td></tr><tr><td>ccfraudpipeline</td><td>7e1cec77-d24f-41ae-b9c1-7c4450194e53</td><td>2024-11-Jul 16:51:56</td><td>2024-11-Jul 16:51:56</td><td>(unknown)</td><td>14</td><td>ccfraudworkspace</td><td></td><td>ccfraudmodel</td></tr><tr><td>ccfraudpipeline</td><td>c838a411-8515-4633-8a0c-45bc83d3dcde</td><td>2024-11-Jul 16:51:54</td><td>2024-11-Jul 16:51:54</td><td>(unknown)</td><td>14</td><td>ccfraudworkspace</td><td></td><td></td></tr></table>"
      ],
      "text/plain": [
       "[<wallaroo.pipeline_version.PipelineVersion at 0x1778ae880>,\n",
       " <wallaroo.pipeline_version.PipelineVersion at 0x177b61370>,\n",
       " <wallaroo.pipeline_version.PipelineVersion at 0x177b709a0>,\n",
       " <wallaroo.pipeline_version.PipelineVersion at 0x1778d4280>,\n",
       " <wallaroo.pipeline_version.PipelineVersion at 0x1765f3940>,\n",
       " <wallaroo.pipeline_version.PipelineVersion at 0x1580147c0>,\n",
       " <wallaroo.pipeline_version.PipelineVersion at 0x158014c70>,\n",
       " <wallaroo.pipeline_version.PipelineVersion at 0x158014ee0>,\n",
       " <wallaroo.pipeline_version.PipelineVersion at 0x15801c220>,\n",
       " <wallaroo.pipeline_version.PipelineVersion at 0x15801c550>,\n",
       " <wallaroo.pipeline_version.PipelineVersion at 0x15801c880>,\n",
       " <wallaroo.pipeline_version.PipelineVersion at 0x15801cbb0>,\n",
       " <wallaroo.pipeline_version.PipelineVersion at 0x15801cee0>,\n",
       " <wallaroo.pipeline_version.PipelineVersion at 0x158021250>,\n",
       " <wallaroo.pipeline_version.PipelineVersion at 0x158021580>,\n",
       " <wallaroo.pipeline_version.PipelineVersion at 0x1580218b0>,\n",
       " <wallaroo.pipeline_version.PipelineVersion at 0x158021be0>,\n",
       " <wallaroo.pipeline_version.PipelineVersion at 0x158021f10>,\n",
       " <wallaroo.pipeline_version.PipelineVersion at 0x158023280>,\n",
       " <wallaroo.pipeline_version.PipelineVersion at 0x1580235b0>]"
      ]
     },
     "execution_count": 65,
     "metadata": {},
     "output_type": "execute_result"
    }
   ],
   "source": [
    "wl.search_pipelines()"
   ]
  },
  {
   "cell_type": "markdown",
   "id": "13d2622d",
   "metadata": {},
   "source": [
    "pipelines_by_name"
   ]
  },
  {
   "cell_type": "code",
   "execution_count": 72,
   "id": "aa9e7e15",
   "metadata": {},
   "outputs": [
    {
     "data": {
      "text/html": [
       "<table><tr><th>name</th><th>created</th><th>last_updated</th><th>deployed</th><th>workspace_id</th><th>workspace_name</th><th>arch</th><th>accel</th><th>tags</th><th>versions</th><th>steps</th><th>published</th></tr><tr><td>helper-demo-pipeline-1</td><td>2024-15-Jul 18:43:50</td><td>2024-15-Jul 18:44:09</td><td>True</td><td>26</td><td>helper-demo-workspace-2</td><td>x86</td><td>none</td><td></td><td>023ddae5-56d6-4574-8e59-eb02c004457c, 772dd02f-d7e7-4986-98df-b5cdbccbd2a7</td><td>helper-model-replace</td><td>False</td></tr><tr><td>helper-demo-pipeline-1</td><td>2024-15-Jul 18:15:32</td><td>2024-15-Jul 18:25:07</td><td>True</td><td>25</td><td>helper-demo-workspace-1</td><td>x86</td><td>none</td><td></td><td>5c173333-87bd-4bc5-b3fa-7dd651d76d1d, a1b4337a-3379-403c-8d03-bed291092feb, 62e0236f-e040-40c1-8666-7b703fd5d2f0</td><td>helper-model-replace</td><td>False</td></tr></table>"
      ],
      "text/plain": [
       "[{'name': 'helper-demo-pipeline-1', 'create_time': datetime.datetime(2024, 7, 15, 18, 43, 50, 860129, tzinfo=tzutc()), 'definition': '[]'},\n",
       " {'name': 'helper-demo-pipeline-1', 'create_time': datetime.datetime(2024, 7, 15, 18, 15, 32, 873521, tzinfo=tzutc()), 'definition': '[]'}]"
      ]
     },
     "execution_count": 72,
     "metadata": {},
     "output_type": "execute_result"
    }
   ],
   "source": [
    "wl.pipelines_by_name(pipeline_name=pipeline_name)"
   ]
  },
  {
   "cell_type": "code",
   "execution_count": 74,
   "id": "239501f7",
   "metadata": {},
   "outputs": [
    {
     "data": {
      "text/html": [
       "<table><tr><th>name</th><th>created</th><th>last_updated</th><th>deployed</th><th>workspace_id</th><th>workspace_name</th><th>arch</th><th>accel</th><th>tags</th><th>versions</th><th>steps</th><th>published</th></tr><tr><td>helper-demo-pipeline-1</td><td>2024-15-Jul 18:15:32</td><td>2024-15-Jul 18:25:07</td><td>True</td><td>25</td><td>helper-demo-workspace-1</td><td>x86</td><td>none</td><td></td><td>5c173333-87bd-4bc5-b3fa-7dd651d76d1d, a1b4337a-3379-403c-8d03-bed291092feb, 62e0236f-e040-40c1-8666-7b703fd5d2f0</td><td>helper-model-replace</td><td>False</td></tr></table>"
      ],
      "text/plain": [
       "[{'name': 'helper-demo-pipeline-1', 'create_time': datetime.datetime(2024, 7, 15, 18, 15, 32, 873521, tzinfo=tzutc()), 'definition': '[]'}]"
      ]
     },
     "execution_count": 74,
     "metadata": {},
     "output_type": "execute_result"
    }
   ],
   "source": [
    "wl.pipelines_by_name(pipeline_name=pipeline_name, workspace_id=25)"
   ]
  },
  {
   "cell_type": "code",
   "execution_count": 75,
   "id": "babcdbe4",
   "metadata": {},
   "outputs": [
    {
     "data": {
      "text/html": [
       "<table><tr><th>name</th><th>created</th><th>last_updated</th><th>deployed</th><th>workspace_id</th><th>workspace_name</th><th>arch</th><th>accel</th><th>tags</th><th>versions</th><th>steps</th><th>published</th></tr><tr><td>helper-demo-pipeline-1</td><td>2024-15-Jul 18:43:50</td><td>2024-15-Jul 18:44:09</td><td>True</td><td>26</td><td>helper-demo-workspace-2</td><td>x86</td><td>none</td><td></td><td>023ddae5-56d6-4574-8e59-eb02c004457c, 772dd02f-d7e7-4986-98df-b5cdbccbd2a7</td><td>helper-model-replace</td><td>False</td></tr></table>"
      ],
      "text/plain": [
       "[{'name': 'helper-demo-pipeline-1', 'create_time': datetime.datetime(2024, 7, 15, 18, 43, 50, 860129, tzinfo=tzutc()), 'definition': '[]'}]"
      ]
     },
     "execution_count": 75,
     "metadata": {},
     "output_type": "execute_result"
    }
   ],
   "source": [
    "wl.pipelines_by_name(pipeline_name=pipeline_name, workspace_name=workspace_name)"
   ]
  },
  {
   "cell_type": "code",
   "execution_count": 40,
   "id": "041c2823-0b30-43e5-98c8-c900c3032c59",
   "metadata": {},
   "outputs": [],
   "source": [
    "pipeline_with_version_set = wl.get_pipeline(name=pipeline_name, version=\"e2ff1174-05e8-4ea0-9a2d-e2759e6b1707\")"
   ]
  },
  {
   "cell_type": "code",
   "execution_count": 41,
   "id": "55dbe401-cf91-42ad-8707-d148f60e6fe8",
   "metadata": {},
   "outputs": [
    {
     "data": {
      "text/html": [
       "\n",
       "        <table>\n",
       "          <tr><td>name</td><td>helper-demo-pipeline-1</td></tr>\n",
       "          <tr><td>version</td><td>e2ff1174-05e8-4ea0-9a2d-e2759e6b1707</td></tr>\n",
       "          <tr><td>creation_time</td><td>2024-04-Apr 18:04:54</td></tr>\n",
       "          <tr><td>last_updated_time</td><td>2024-04-Apr 18:04:54</td></tr>\n",
       "          <tr><td>deployed</td><td>False</td></tr>\n",
       "          <tr><td>tags</td><td></td></tr>\n",
       "          <tr><td>steps</td><td>helper-demo-model-1</td></tr>\n",
       "        </table>\n",
       "        "
      ],
      "text/plain": [
       "<wallaroo.pipeline_version.PipelineVersion at 0x7dd9d7cf0a30>"
      ]
     },
     "execution_count": 41,
     "metadata": {},
     "output_type": "execute_result"
    }
   ],
   "source": [
    "pipeline_with_version_set._pipeline_version_to_deploy"
   ]
  },
  {
   "cell_type": "code",
   "execution_count": 42,
   "id": "579d0588-2d9b-4fa1-b724-3d974ab0a820",
   "metadata": {},
   "outputs": [
    {
     "name": "stdout",
     "output_type": "stream",
     "text": [
      "Waiting for deployment - this will take up to 45s .................. ok\n"
     ]
    },
    {
     "data": {
      "text/html": [
       "<table><tr><th>name</th> <td>helper-demo-pipeline-1</td></tr><tr><th>created</th> <td>2024-04-04 18:04:09.143113+00:00</td></tr><tr><th>last_updated</th> <td>2024-04-04 18:16:05.302849+00:00</td></tr><tr><th>deployed</th> <td>True</td></tr><tr><th>arch</th> <td>x86</td></tr><tr><th>accel</th> <td>none</td></tr><tr><th>tags</th> <td></td></tr><tr><th>versions</th> <td>94e9989c-4ce0-4d9e-9308-0fa77c6f4049, adbda107-649f-447d-9b4f-91684b37cc37, e2ff1174-05e8-4ea0-9a2d-e2759e6b1707, 1647a8bd-4ed8-45bc-a2b8-b14ace57e490</td></tr><tr><th>steps</th> <td>helper-demo-model-1</td></tr><tr><th>published</th> <td>False</td></tr></table>"
      ],
      "text/plain": [
       "{'name': 'helper-demo-pipeline-1', 'create_time': datetime.datetime(2024, 4, 4, 18, 4, 9, 143113, tzinfo=tzutc()), 'definition': \"[{'ModelInference': {'models': [{'name': 'helper-demo-model-1', 'version': '522e5e85-74f5-44d3-a734-4dfe2f70d790', 'sha': 'e22a0831aafd9917f3cc87a15ed267797f80e2afa12ad7d8810ca58f173b8cc6'}]}}]\"}"
      ]
     },
     "execution_count": 42,
     "metadata": {},
     "output_type": "execute_result"
    }
   ],
   "source": [
    "deploy_config = wallaroo.DeploymentConfigBuilder().cpus(0.25).memory(\"1Gi\").build()\n",
    "pipeline_with_version_set.deploy(deployment_config = deploy_config)"
   ]
  },
  {
   "cell_type": "code",
   "execution_count": 43,
   "id": "cfec77ff-bc7b-40dd-9556-1908dac423a2",
   "metadata": {},
   "outputs": [
    {
     "name": "stdout",
     "output_type": "stream",
     "text": [
      "Waiting for undeployment - this will take up to 45s .................................... ok\n"
     ]
    },
    {
     "data": {
      "text/html": [
       "<table><tr><th>name</th> <td>helper-demo-pipeline-1</td></tr><tr><th>created</th> <td>2024-04-04 18:04:09.143113+00:00</td></tr><tr><th>last_updated</th> <td>2024-04-04 18:16:05.302849+00:00</td></tr><tr><th>deployed</th> <td>False</td></tr><tr><th>arch</th> <td>x86</td></tr><tr><th>accel</th> <td>none</td></tr><tr><th>tags</th> <td></td></tr><tr><th>versions</th> <td>94e9989c-4ce0-4d9e-9308-0fa77c6f4049, adbda107-649f-447d-9b4f-91684b37cc37, e2ff1174-05e8-4ea0-9a2d-e2759e6b1707, 1647a8bd-4ed8-45bc-a2b8-b14ace57e490</td></tr><tr><th>steps</th> <td>helper-demo-model-1</td></tr><tr><th>published</th> <td>False</td></tr></table>"
      ],
      "text/plain": [
       "{'name': 'helper-demo-pipeline-1', 'create_time': datetime.datetime(2024, 4, 4, 18, 4, 9, 143113, tzinfo=tzutc()), 'definition': \"[{'ModelInference': {'models': [{'name': 'helper-demo-model-1', 'version': '522e5e85-74f5-44d3-a734-4dfe2f70d790', 'sha': 'e22a0831aafd9917f3cc87a15ed267797f80e2afa12ad7d8810ca58f173b8cc6'}]}}]\"}"
      ]
     },
     "execution_count": 43,
     "metadata": {},
     "output_type": "execute_result"
    }
   ],
   "source": [
    "pipeline_with_version_set.undeploy()"
   ]
  },
  {
   "cell_type": "code",
   "execution_count": 90,
   "id": "6d94e538-9d88-4d93-b9f0-4a0fd8f13af3",
   "metadata": {},
   "outputs": [
    {
     "data": {
      "text/html": [
       "<table><tr><th>name</th><th>created</th><th>last_updated</th><th>deployed</th><th>workspace_id</th><th>workspace_name</th><th>arch</th><th>accel</th><th>tags</th><th>versions</th><th>steps</th><th>published</th></tr><tr><td>helper-demo-pipeline-1</td><td>2024-15-Jul 21:44:19</td><td>2024-15-Jul 21:45:56</td><td>True</td><td>8</td><td>john.hummel@wallaroo.ai - Default Workspace</td><td>x86</td><td>none</td><td></td><td>f5266b8b-07fd-4797-af2b-23a96208fb78, ad133bce-198d-4cf1-be3d-8f553a8baf03, 9153adea-72de-4925-938a-44366c0f4ef7</td><td>helper-demo-model-1</td><td>False</td></tr><tr><td>helper-demo-pipeline-1</td><td>2024-15-Jul 18:43:50</td><td>2024-15-Jul 18:44:09</td><td>True</td><td>26</td><td>helper-demo-workspace-2</td><td>x86</td><td>none</td><td></td><td>023ddae5-56d6-4574-8e59-eb02c004457c, 772dd02f-d7e7-4986-98df-b5cdbccbd2a7</td><td>helper-model-replace</td><td>False</td></tr><tr><td>helper-demo-pipeline-1</td><td>2024-15-Jul 18:15:32</td><td>2024-15-Jul 18:25:07</td><td>True</td><td>25</td><td>helper-demo-workspace-1</td><td>x86</td><td>none</td><td></td><td>5c173333-87bd-4bc5-b3fa-7dd651d76d1d, a1b4337a-3379-403c-8d03-bed291092feb, 62e0236f-e040-40c1-8666-7b703fd5d2f0</td><td>helper-model-replace</td><td>False</td></tr><tr><td>api-pipeline-with-models</td><td>2024-11-Jul 17:48:00</td><td>2024-11-Jul 17:48:00</td><td>True</td><td>24</td><td>sample-api-workspace-assays</td><td>x86</td><td>none</td><td></td><td>3fe1411e-b2e8-4a28-a0df-860267b7ad3d</td><td>api-sample-model</td><td>False</td></tr><tr><td>apiinferenceexamplepipeline</td><td>2024-11-Jul 17:41:23</td><td>2024-11-Jul 17:41:23</td><td>False</td><td>22</td><td>apiinferenceexampleworkspace</td><td>x86</td><td>none</td><td></td><td>f410e6e0-59d2-488e-9ec9-11013078721e</td><td>ccfraud</td><td>False</td></tr><tr><td>sdkinferenceexamplepipeline</td><td>2024-11-Jul 17:27:18</td><td>2024-11-Jul 17:38:49</td><td>False</td><td>21</td><td>sdkinferenceexampleworkspace</td><td>x86</td><td>none</td><td></td><td>a003db88-d68c-4ee0-b5be-9dd9b44195d7, ef24ecb7-1e4f-4926-b4d9-1e15ab8d6650, b4606f90-70ce-40f7-854f-dab5763ffa89, a6350b91-3fec-4c50-9e7d-b34feb759a1c, 55dc0f1f-5970-4169-af07-35ff54953b00, ccb2c84b-579d-436f-ab07-cccb28628b6d, 893920f4-dd25-4d43-906d-4261b9adf860, cc572647-c758-4b3c-b725-8fff9976a34d</td><td>ccfraud</td><td>False</td></tr><tr><td>api-pipeline-with-models</td><td>2024-11-Jul 17:17:42</td><td>2024-11-Jul 17:17:42</td><td>False</td><td>20</td><td>test-api-workspace-assays</td><td>x86</td><td>none</td><td></td><td>385f5383-c800-4ff8-9274-5f51c93465e3</td><td>api-sample-model</td><td>False</td></tr><tr><td>ccfraudpipeline</td><td>2024-11-Jul 16:51:54</td><td>2024-11-Jul 17:40:24</td><td>True</td><td>14</td><td>ccfraudworkspace</td><td>x86</td><td>none</td><td></td><td>ff45b328-9d7c-41bb-aa7c-5b5c7e9cbcc4, 004d69fa-67e1-448b-bd38-8fe5299be206, 7e1cec77-d24f-41ae-b9c1-7c4450194e53, c838a411-8515-4633-8a0c-45bc83d3dcde</td><td>ccfraudmodel</td><td>False</td></tr></table>"
      ],
      "text/plain": [
       "[{'name': 'helper-demo-pipeline-1', 'create_time': datetime.datetime(2024, 7, 15, 21, 44, 19, 342687, tzinfo=tzutc()), 'definition': '[]'},\n",
       " {'name': 'helper-demo-pipeline-1', 'create_time': datetime.datetime(2024, 7, 15, 18, 43, 50, 860129, tzinfo=tzutc()), 'definition': '[]'},\n",
       " {'name': 'helper-demo-pipeline-1', 'create_time': datetime.datetime(2024, 7, 15, 18, 15, 32, 873521, tzinfo=tzutc()), 'definition': '[]'},\n",
       " {'name': 'api-pipeline-with-models', 'create_time': datetime.datetime(2024, 7, 11, 17, 48, 0, 390091, tzinfo=tzutc()), 'definition': '[]'},\n",
       " {'name': 'apiinferenceexamplepipeline', 'create_time': datetime.datetime(2024, 7, 11, 17, 41, 23, 823447, tzinfo=tzutc()), 'definition': '[]'},\n",
       " {'name': 'sdkinferenceexamplepipeline', 'create_time': datetime.datetime(2024, 7, 11, 17, 27, 18, 764131, tzinfo=tzutc()), 'definition': '[]'},\n",
       " {'name': 'api-pipeline-with-models', 'create_time': datetime.datetime(2024, 7, 11, 17, 17, 42, 571638, tzinfo=tzutc()), 'definition': '[]'},\n",
       " {'name': 'ccfraudpipeline', 'create_time': datetime.datetime(2024, 7, 11, 16, 51, 54, 599235, tzinfo=tzutc()), 'definition': '[]'}]"
      ]
     },
     "execution_count": 90,
     "metadata": {},
     "output_type": "execute_result"
    }
   ],
   "source": [
    "wl.list_pipelines()"
   ]
  },
  {
   "cell_type": "code",
   "execution_count": 91,
   "id": "337a3dce",
   "metadata": {},
   "outputs": [
    {
     "data": {
      "text/html": [
       "<table><tr><th>name</th><th>created</th><th>last_updated</th><th>deployed</th><th>workspace_id</th><th>workspace_name</th><th>arch</th><th>accel</th><th>tags</th><th>versions</th><th>steps</th><th>published</th></tr><tr><td>helper-demo-pipeline-1</td><td>2024-15-Jul 18:15:32</td><td>2024-15-Jul 18:25:07</td><td>True</td><td>25</td><td>helper-demo-workspace-1</td><td>x86</td><td>none</td><td></td><td>5c173333-87bd-4bc5-b3fa-7dd651d76d1d, a1b4337a-3379-403c-8d03-bed291092feb, 62e0236f-e040-40c1-8666-7b703fd5d2f0</td><td>helper-model-replace</td><td>False</td></tr></table>"
      ],
      "text/plain": [
       "[{'name': 'helper-demo-pipeline-1', 'create_time': datetime.datetime(2024, 7, 15, 18, 15, 32, 873521, tzinfo=tzutc()), 'definition': '[]'}]"
      ]
     },
     "execution_count": 91,
     "metadata": {},
     "output_type": "execute_result"
    }
   ],
   "source": [
    "wl.list_pipelines(workspace_id=25)"
   ]
  },
  {
   "cell_type": "code",
   "execution_count": 92,
   "id": "6deab2aa",
   "metadata": {},
   "outputs": [
    {
     "data": {
      "text/html": [
       "<table><tr><th>name</th><th>created</th><th>last_updated</th><th>deployed</th><th>workspace_id</th><th>workspace_name</th><th>arch</th><th>accel</th><th>tags</th><th>versions</th><th>steps</th><th>published</th></tr><tr><td>helper-demo-pipeline-1</td><td>2024-15-Jul 18:15:32</td><td>2024-15-Jul 18:25:07</td><td>True</td><td>25</td><td>helper-demo-workspace-1</td><td>x86</td><td>none</td><td></td><td>5c173333-87bd-4bc5-b3fa-7dd651d76d1d, a1b4337a-3379-403c-8d03-bed291092feb, 62e0236f-e040-40c1-8666-7b703fd5d2f0</td><td>helper-model-replace</td><td>False</td></tr></table>"
      ],
      "text/plain": [
       "[{'name': 'helper-demo-pipeline-1', 'create_time': datetime.datetime(2024, 7, 15, 18, 15, 32, 873521, tzinfo=tzutc()), 'definition': '[]'}]"
      ]
     },
     "execution_count": 92,
     "metadata": {},
     "output_type": "execute_result"
    }
   ],
   "source": [
    "wl.list_pipelines(workspace_name=workspace_name)"
   ]
  },
  {
   "cell_type": "code",
   "execution_count": 93,
   "id": "a5fba216",
   "metadata": {},
   "outputs": [
    {
     "data": {
      "text/html": [
       "<table><tr><th>name</th><th>version</th><th>file_name</th><th>image_path</th><th>arch</th><th>accel</th><th>last_update_time</th><th>workspace_id</th><th>workspace_name</th></tr>\n",
       "            <tr>\n",
       "                <td>helper-demo-model-1</td>\n",
       "                <td>0b2a1702-e9e4-4251-9533-e6f329a7c247</td>\n",
       "                <td>rf_model.onnx</td>\n",
       "                <td>None</td>\n",
       "                <td>x86</td>\n",
       "                <td>none</td>\n",
       "                <td>2024-07-15 21:45:12.529732+00:00</td>\n",
       "                <td>8</td>\n",
       "                <td>john.hummel@wallaroo.ai - Default Workspace</td>\n",
       "            </tr>\n",
       "          \n",
       "            <tr>\n",
       "                <td>helper-demo-model-1</td>\n",
       "                <td>36163cc4-775e-4d87-b5ca-75c6ceb9927d</td>\n",
       "                <td>rf_model.onnx</td>\n",
       "                <td>None</td>\n",
       "                <td>x86</td>\n",
       "                <td>none</td>\n",
       "                <td>2024-07-15 18:43:44.180282+00:00</td>\n",
       "                <td>26</td>\n",
       "                <td>helper-demo-workspace-2</td>\n",
       "            </tr>\n",
       "          \n",
       "            <tr>\n",
       "                <td>helper-demo-model-1</td>\n",
       "                <td>728a7528-8ed4-4ee2-aa15-3b3e9901fd40</td>\n",
       "                <td>rf_model.onnx</td>\n",
       "                <td>None</td>\n",
       "                <td>x86</td>\n",
       "                <td>none</td>\n",
       "                <td>2024-07-15 18:19:56.113108+00:00</td>\n",
       "                <td>25</td>\n",
       "                <td>helper-demo-workspace-1</td>\n",
       "            </tr>\n",
       "          \n",
       "            <tr>\n",
       "                <td>helper-demo-model-1</td>\n",
       "                <td>de7a7b93-1cff-4ca0-8b3b-cce2ac48af17</td>\n",
       "                <td>rf_model.onnx</td>\n",
       "                <td>None</td>\n",
       "                <td>x86</td>\n",
       "                <td>none</td>\n",
       "                <td>2024-07-15 18:13:54.709321+00:00</td>\n",
       "                <td>25</td>\n",
       "                <td>helper-demo-workspace-1</td>\n",
       "            </tr>\n",
       "          </table>"
      ],
      "text/plain": [
       "[{'name': 'helper-demo-model-1', 'version': '0b2a1702-e9e4-4251-9533-e6f329a7c247', 'file_name': 'rf_model.onnx', 'image_path': None, 'arch': 'x86', 'accel': 'none', 'last_update_time': datetime.datetime(2024, 7, 15, 21, 45, 12, 529732, tzinfo=tzutc())},\n",
       " {'name': 'helper-demo-model-1', 'version': '36163cc4-775e-4d87-b5ca-75c6ceb9927d', 'file_name': 'rf_model.onnx', 'image_path': None, 'arch': 'x86', 'accel': 'none', 'last_update_time': datetime.datetime(2024, 7, 15, 18, 43, 44, 180282, tzinfo=tzutc())},\n",
       " {'name': 'helper-demo-model-1', 'version': '728a7528-8ed4-4ee2-aa15-3b3e9901fd40', 'file_name': 'rf_model.onnx', 'image_path': None, 'arch': 'x86', 'accel': 'none', 'last_update_time': datetime.datetime(2024, 7, 15, 18, 19, 56, 113108, tzinfo=tzutc())},\n",
       " {'name': 'helper-demo-model-1', 'version': 'de7a7b93-1cff-4ca0-8b3b-cce2ac48af17', 'file_name': 'rf_model.onnx', 'image_path': None, 'arch': 'x86', 'accel': 'none', 'last_update_time': datetime.datetime(2024, 7, 15, 18, 13, 54, 709321, tzinfo=tzutc())}]"
      ]
     },
     "execution_count": 93,
     "metadata": {},
     "output_type": "execute_result"
    }
   ],
   "source": [
    "wl.search_models(search_term=model_name)"
   ]
  },
  {
   "cell_type": "code",
   "execution_count": 94,
   "id": "76b12296",
   "metadata": {},
   "outputs": [
    {
     "data": {
      "text/html": [
       "<table><tr><th>name</th><th>version</th><th>file_name</th><th>image_path</th><th>arch</th><th>accel</th><th>last_update_time</th><th>workspace_id</th><th>workspace_name</th></tr>\n",
       "            <tr>\n",
       "                <td>helper-demo-model-1</td>\n",
       "                <td>728a7528-8ed4-4ee2-aa15-3b3e9901fd40</td>\n",
       "                <td>rf_model.onnx</td>\n",
       "                <td>None</td>\n",
       "                <td>x86</td>\n",
       "                <td>none</td>\n",
       "                <td>2024-07-15 18:19:56.113108+00:00</td>\n",
       "                <td>25</td>\n",
       "                <td>helper-demo-workspace-1</td>\n",
       "            </tr>\n",
       "          \n",
       "            <tr>\n",
       "                <td>helper-demo-model-1</td>\n",
       "                <td>de7a7b93-1cff-4ca0-8b3b-cce2ac48af17</td>\n",
       "                <td>rf_model.onnx</td>\n",
       "                <td>None</td>\n",
       "                <td>x86</td>\n",
       "                <td>none</td>\n",
       "                <td>2024-07-15 18:13:54.709321+00:00</td>\n",
       "                <td>25</td>\n",
       "                <td>helper-demo-workspace-1</td>\n",
       "            </tr>\n",
       "          </table>"
      ],
      "text/plain": [
       "[{'name': 'helper-demo-model-1', 'version': '728a7528-8ed4-4ee2-aa15-3b3e9901fd40', 'file_name': 'rf_model.onnx', 'image_path': None, 'arch': 'x86', 'accel': 'none', 'last_update_time': datetime.datetime(2024, 7, 15, 18, 19, 56, 113108, tzinfo=tzutc())},\n",
       " {'name': 'helper-demo-model-1', 'version': 'de7a7b93-1cff-4ca0-8b3b-cce2ac48af17', 'file_name': 'rf_model.onnx', 'image_path': None, 'arch': 'x86', 'accel': 'none', 'last_update_time': datetime.datetime(2024, 7, 15, 18, 13, 54, 709321, tzinfo=tzutc())}]"
      ]
     },
     "execution_count": 94,
     "metadata": {},
     "output_type": "execute_result"
    }
   ],
   "source": [
    "wl.search_models(search_term=model_name, workspace_name=workspace_name)"
   ]
  },
  {
   "cell_type": "code",
   "execution_count": 95,
   "id": "3572f003",
   "metadata": {},
   "outputs": [
    {
     "data": {
      "text/html": [
       "<table><tr><th>name</th><th>version</th><th>file_name</th><th>image_path</th><th>arch</th><th>accel</th><th>last_update_time</th><th>workspace_id</th><th>workspace_name</th></tr>\n",
       "            <tr>\n",
       "                <td>helper-demo-model-1</td>\n",
       "                <td>728a7528-8ed4-4ee2-aa15-3b3e9901fd40</td>\n",
       "                <td>rf_model.onnx</td>\n",
       "                <td>None</td>\n",
       "                <td>x86</td>\n",
       "                <td>none</td>\n",
       "                <td>2024-07-15 18:19:56.113108+00:00</td>\n",
       "                <td>25</td>\n",
       "                <td>helper-demo-workspace-1</td>\n",
       "            </tr>\n",
       "          \n",
       "            <tr>\n",
       "                <td>helper-demo-model-1</td>\n",
       "                <td>de7a7b93-1cff-4ca0-8b3b-cce2ac48af17</td>\n",
       "                <td>rf_model.onnx</td>\n",
       "                <td>None</td>\n",
       "                <td>x86</td>\n",
       "                <td>none</td>\n",
       "                <td>2024-07-15 18:13:54.709321+00:00</td>\n",
       "                <td>25</td>\n",
       "                <td>helper-demo-workspace-1</td>\n",
       "            </tr>\n",
       "          </table>"
      ],
      "text/plain": [
       "[{'name': 'helper-demo-model-1', 'version': '728a7528-8ed4-4ee2-aa15-3b3e9901fd40', 'file_name': 'rf_model.onnx', 'image_path': None, 'arch': 'x86', 'accel': 'none', 'last_update_time': datetime.datetime(2024, 7, 15, 18, 19, 56, 113108, tzinfo=tzutc())},\n",
       " {'name': 'helper-demo-model-1', 'version': 'de7a7b93-1cff-4ca0-8b3b-cce2ac48af17', 'file_name': 'rf_model.onnx', 'image_path': None, 'arch': 'x86', 'accel': 'none', 'last_update_time': datetime.datetime(2024, 7, 15, 18, 13, 54, 709321, tzinfo=tzutc())}]"
      ]
     },
     "execution_count": 95,
     "metadata": {},
     "output_type": "execute_result"
    }
   ],
   "source": [
    "wl.search_models(search_term=model_name, workspace_id=25)"
   ]
  },
  {
   "cell_type": "markdown",
   "id": "03a9212c",
   "metadata": {},
   "source": [
    "Search by model name and version."
   ]
  },
  {
   "cell_type": "code",
   "execution_count": 9,
   "id": "1f77d9de",
   "metadata": {},
   "outputs": [
    {
     "data": {
      "text/html": [
       "<table>\n",
       "        <tr>\n",
       "          <td>Name</td>\n",
       "          <td>helper-demo-model-1</td>\n",
       "        </tr>\n",
       "        <tr>\n",
       "          <td>Version</td>\n",
       "          <td>728a7528-8ed4-4ee2-aa15-3b3e9901fd40</td>\n",
       "        </tr>\n",
       "        <tr>\n",
       "          <td>File Name</td>\n",
       "          <td>rf_model.onnx</td>\n",
       "        </tr>\n",
       "        <tr>\n",
       "          <td>SHA</td>\n",
       "          <td>e22a0831aafd9917f3cc87a15ed267797f80e2afa12ad7d8810ca58f173b8cc6</td>\n",
       "        </tr>\n",
       "        <tr>\n",
       "          <td>Status</td>\n",
       "          <td>ready</td>\n",
       "        </tr>\n",
       "        <tr>\n",
       "          <td>Image Path</td>\n",
       "          <td>None</td>\n",
       "        </tr>\n",
       "        <tr>\n",
       "          <td>Architecture</td>\n",
       "          <td>x86</td>\n",
       "        </tr>\n",
       "        <tr>\n",
       "          <td>Acceleration</td>\n",
       "          <td>none</td>\n",
       "        </tr>\n",
       "        <tr>\n",
       "          <td>Updated At</td>\n",
       "          <td>2024-15-Jul 18:19:56</td>\n",
       "        </tr>\n",
       "        <tr>\n",
       "          <td>Workspace id</td>\n",
       "          <td>25</td>\n",
       "        </tr>\n",
       "        <tr>\n",
       "          <td>Workspace name</td>\n",
       "          <td>helper-demo-workspace-1</td>\n",
       "        </tr>\n",
       "      </table>"
      ],
      "text/plain": [
       "{'name': 'helper-demo-model-1', 'version': '728a7528-8ed4-4ee2-aa15-3b3e9901fd40', 'file_name': 'rf_model.onnx', 'image_path': None, 'arch': 'x86', 'accel': 'none', 'last_update_time': datetime.datetime(2024, 7, 15, 18, 19, 56, 113108, tzinfo=tzutc())}"
      ]
     },
     "execution_count": 9,
     "metadata": {},
     "output_type": "execute_result"
    }
   ],
   "source": [
    "wl.model_by_name(name=model_name, version=\"728a7528-8ed4-4ee2-aa15-3b3e9901fd40\")"
   ]
  },
  {
   "cell_type": "markdown",
   "id": "866a7763",
   "metadata": {},
   "source": [
    "Search by model name and version filtered by workspace id."
   ]
  },
  {
   "cell_type": "code",
   "execution_count": 24,
   "id": "2f8a6510",
   "metadata": {},
   "outputs": [
    {
     "data": {
      "text/html": [
       "<table>\n",
       "        <tr>\n",
       "          <td>Name</td>\n",
       "          <td>helper-demo-model-1</td>\n",
       "        </tr>\n",
       "        <tr>\n",
       "          <td>Version</td>\n",
       "          <td>409fb78f-bea8-4f27-bd47-a4d26514b861</td>\n",
       "        </tr>\n",
       "        <tr>\n",
       "          <td>File Name</td>\n",
       "          <td>rf_model.onnx</td>\n",
       "        </tr>\n",
       "        <tr>\n",
       "          <td>SHA</td>\n",
       "          <td>e22a0831aafd9917f3cc87a15ed267797f80e2afa12ad7d8810ca58f173b8cc6</td>\n",
       "        </tr>\n",
       "        <tr>\n",
       "          <td>Status</td>\n",
       "          <td>ready</td>\n",
       "        </tr>\n",
       "        <tr>\n",
       "          <td>Image Path</td>\n",
       "          <td>None</td>\n",
       "        </tr>\n",
       "        <tr>\n",
       "          <td>Architecture</td>\n",
       "          <td>x86</td>\n",
       "        </tr>\n",
       "        <tr>\n",
       "          <td>Acceleration</td>\n",
       "          <td>none</td>\n",
       "        </tr>\n",
       "        <tr>\n",
       "          <td>Updated At</td>\n",
       "          <td>2024-16-Jul 13:29:27</td>\n",
       "        </tr>\n",
       "        <tr>\n",
       "          <td>Workspace id</td>\n",
       "          <td>26</td>\n",
       "        </tr>\n",
       "        <tr>\n",
       "          <td>Workspace name</td>\n",
       "          <td>helper-demo-workspace-2</td>\n",
       "        </tr>\n",
       "      </table>"
      ],
      "text/plain": [
       "{'name': 'helper-demo-model-1', 'version': '409fb78f-bea8-4f27-bd47-a4d26514b861', 'file_name': 'rf_model.onnx', 'image_path': None, 'arch': 'x86', 'accel': 'none', 'last_update_time': datetime.datetime(2024, 7, 16, 13, 29, 27, 269598, tzinfo=tzutc())}"
      ]
     },
     "execution_count": 24,
     "metadata": {},
     "output_type": "execute_result"
    }
   ],
   "source": [
    "wl.model_by_name(name=model_name, \n",
    "                 version=\"409fb78f-bea8-4f27-bd47-a4d26514b861\",\n",
    "                 workspace_id=26)"
   ]
  },
  {
   "cell_type": "markdown",
   "id": "a3e9c367",
   "metadata": {},
   "source": [
    "Search by model name and version filtered by workspace name."
   ]
  },
  {
   "cell_type": "code",
   "execution_count": 11,
   "id": "293e3767",
   "metadata": {},
   "outputs": [
    {
     "data": {
      "text/html": [
       "<table>\n",
       "        <tr>\n",
       "          <td>Name</td>\n",
       "          <td>helper-demo-model-1</td>\n",
       "        </tr>\n",
       "        <tr>\n",
       "          <td>Version</td>\n",
       "          <td>728a7528-8ed4-4ee2-aa15-3b3e9901fd40</td>\n",
       "        </tr>\n",
       "        <tr>\n",
       "          <td>File Name</td>\n",
       "          <td>rf_model.onnx</td>\n",
       "        </tr>\n",
       "        <tr>\n",
       "          <td>SHA</td>\n",
       "          <td>e22a0831aafd9917f3cc87a15ed267797f80e2afa12ad7d8810ca58f173b8cc6</td>\n",
       "        </tr>\n",
       "        <tr>\n",
       "          <td>Status</td>\n",
       "          <td>ready</td>\n",
       "        </tr>\n",
       "        <tr>\n",
       "          <td>Image Path</td>\n",
       "          <td>None</td>\n",
       "        </tr>\n",
       "        <tr>\n",
       "          <td>Architecture</td>\n",
       "          <td>x86</td>\n",
       "        </tr>\n",
       "        <tr>\n",
       "          <td>Acceleration</td>\n",
       "          <td>none</td>\n",
       "        </tr>\n",
       "        <tr>\n",
       "          <td>Updated At</td>\n",
       "          <td>2024-15-Jul 18:19:56</td>\n",
       "        </tr>\n",
       "        <tr>\n",
       "          <td>Workspace id</td>\n",
       "          <td>25</td>\n",
       "        </tr>\n",
       "        <tr>\n",
       "          <td>Workspace name</td>\n",
       "          <td>helper-demo-workspace-1</td>\n",
       "        </tr>\n",
       "      </table>"
      ],
      "text/plain": [
       "{'name': 'helper-demo-model-1', 'version': '728a7528-8ed4-4ee2-aa15-3b3e9901fd40', 'file_name': 'rf_model.onnx', 'image_path': None, 'arch': 'x86', 'accel': 'none', 'last_update_time': datetime.datetime(2024, 7, 15, 18, 19, 56, 113108, tzinfo=tzutc())}"
      ]
     },
     "execution_count": 11,
     "metadata": {},
     "output_type": "execute_result"
    }
   ],
   "source": [
    "wl.model_by_name(name=model_name, \n",
    "                 version=\"728a7528-8ed4-4ee2-aa15-3b3e9901fd40\",\n",
    "                 workspace_name=workspace_name)"
   ]
  },
  {
   "cell_type": "markdown",
   "id": "44c4667a",
   "metadata": {},
   "source": [
    "## List Models\n",
    "\n",
    "List models in the current workspace."
   ]
  },
  {
   "cell_type": "code",
   "execution_count": 29,
   "id": "e924eae2",
   "metadata": {},
   "outputs": [
    {
     "data": {
      "text/html": [
       "<table><tr><th>Name</th><th># of Versions</th><th>Owner ID</th><th>Last Updated</th><th>Created At</th><th>Workspace id</th><th>Workspace name</th></tr>\n",
       "            <tr>\n",
       "              <td>helper-demo-model-1</td>\n",
       "              <td>2</td>\n",
       "              <td>\"\"</td>\n",
       "              <td>2024-07-16 13:29:27.269598+00:00</td>\n",
       "              <td>2024-07-15 18:43:44.180282+00:00</td>\n",
       "              <td>26</td>\n",
       "              <td>helper-demo-workspace-2</td>\n",
       "            </tr>\n",
       "          </table>"
      ],
      "text/plain": [
       "[{'name': 'helper-demo-model-1', 'versions': 2, 'owner_id': '\"\"', 'last_update_time': datetime.datetime(2024, 7, 16, 13, 29, 27, 269598, tzinfo=tzutc()), 'created_at': datetime.datetime(2024, 7, 15, 18, 43, 44, 180282, tzinfo=tzutc())}]"
      ]
     },
     "execution_count": 29,
     "metadata": {},
     "output_type": "execute_result"
    }
   ],
   "source": [
    "wl.list_models()"
   ]
  },
  {
   "cell_type": "markdown",
   "id": "2ba04a94",
   "metadata": {},
   "source": [
    "List models across workspaces filtered by workspace id."
   ]
  },
  {
   "cell_type": "code",
   "execution_count": 32,
   "id": "ab604dac",
   "metadata": {},
   "outputs": [
    {
     "data": {
      "text/html": [
       "<table><tr><th>Name</th><th># of Versions</th><th>Owner ID</th><th>Last Updated</th><th>Created At</th><th>Workspace id</th><th>Workspace name</th></tr>\n",
       "            <tr>\n",
       "              <td>helper-model-replace</td>\n",
       "              <td>1</td>\n",
       "              <td>\"\"</td>\n",
       "              <td>2024-07-15 18:24:51.092644+00:00</td>\n",
       "              <td>2024-07-15 18:24:51.092644+00:00</td>\n",
       "              <td>25</td>\n",
       "              <td>helper-demo-workspace-1</td>\n",
       "            </tr>\n",
       "          \n",
       "            <tr>\n",
       "              <td>helper-demo-model-1</td>\n",
       "              <td>3</td>\n",
       "              <td>\"\"</td>\n",
       "              <td>2024-07-16 13:28:34.374392+00:00</td>\n",
       "              <td>2024-07-15 18:13:54.709321+00:00</td>\n",
       "              <td>25</td>\n",
       "              <td>helper-demo-workspace-1</td>\n",
       "            </tr>\n",
       "          </table>"
      ],
      "text/plain": [
       "[{'name': 'helper-model-replace', 'versions': 1, 'owner_id': '\"\"', 'last_update_time': datetime.datetime(2024, 7, 15, 18, 24, 51, 92644, tzinfo=tzutc()), 'created_at': datetime.datetime(2024, 7, 15, 18, 24, 51, 92644, tzinfo=tzutc())},\n",
       " {'name': 'helper-demo-model-1', 'versions': 3, 'owner_id': '\"\"', 'last_update_time': datetime.datetime(2024, 7, 16, 13, 28, 34, 374392, tzinfo=tzutc()), 'created_at': datetime.datetime(2024, 7, 15, 18, 13, 54, 709321, tzinfo=tzutc())}]"
      ]
     },
     "execution_count": 32,
     "metadata": {},
     "output_type": "execute_result"
    }
   ],
   "source": [
    "wl.list_models(workspace_id=25)"
   ]
  },
  {
   "cell_type": "markdown",
   "id": "c9872977",
   "metadata": {},
   "source": [
    "List models across worksapces filtered by workspace name."
   ]
  },
  {
   "cell_type": "code",
   "execution_count": 31,
   "id": "2398391d",
   "metadata": {},
   "outputs": [
    {
     "data": {
      "text/html": [
       "<table><tr><th>Name</th><th># of Versions</th><th>Owner ID</th><th>Last Updated</th><th>Created At</th><th>Workspace id</th><th>Workspace name</th></tr>\n",
       "            <tr>\n",
       "              <td>helper-demo-model-1</td>\n",
       "              <td>2</td>\n",
       "              <td>\"\"</td>\n",
       "              <td>2024-07-16 13:29:27.269598+00:00</td>\n",
       "              <td>2024-07-15 18:43:44.180282+00:00</td>\n",
       "              <td>26</td>\n",
       "              <td>helper-demo-workspace-2</td>\n",
       "            </tr>\n",
       "          </table>"
      ],
      "text/plain": [
       "[{'name': 'helper-demo-model-1', 'versions': 2, 'owner_id': '\"\"', 'last_update_time': datetime.datetime(2024, 7, 16, 13, 29, 27, 269598, tzinfo=tzutc()), 'created_at': datetime.datetime(2024, 7, 15, 18, 43, 44, 180282, tzinfo=tzutc())}]"
      ]
     },
     "execution_count": 31,
     "metadata": {},
     "output_type": "execute_result"
    }
   ],
   "source": [
    "wl.list_models(workspace_name=workspace_name)"
   ]
  },
  {
   "cell_type": "code",
   "execution_count": null,
   "id": "0ef5e040",
   "metadata": {},
   "outputs": [],
   "source": []
  }
 ],
 "metadata": {
  "kernelspec": {
   "display_name": "Python 3",
   "language": "python",
   "name": "python3"
  },
  "language_info": {
   "codemirror_mode": {
    "name": "ipython",
    "version": 3
   },
   "file_extension": ".py",
   "mimetype": "text/x-python",
   "name": "python",
   "nbconvert_exporter": "python",
   "pygments_lexer": "ipython3",
   "version": "3.8.19"
  }
 },
 "nbformat": 4,
 "nbformat_minor": 5
}
