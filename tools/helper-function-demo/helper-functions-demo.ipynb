{
 "cells": [
  {
   "cell_type": "code",
   "execution_count": 1,
   "id": "82baa12b-52e3-4dd1-b1f6-8744024c7cc3",
   "metadata": {},
   "outputs": [],
   "source": [
    "import wallaroo\n",
    "from wallaroo.object import EntityNotFoundError\n",
    "from wallaroo.framework import Framework\n",
    "import pandas as pd"
   ]
  },
  {
   "cell_type": "code",
   "execution_count": 2,
   "id": "f9f9af18-1d39-4994-8af9-cd8b86a40fda",
   "metadata": {},
   "outputs": [],
   "source": [
    "# Login through local Wallaroo instance\n",
    "\n",
    "wl = wallaroo.Client(auth_type=\"sso\")"
   ]
  },
  {
   "cell_type": "code",
   "execution_count": 3,
   "id": "d677e414-4c63-4e69-92a7-ca29f870e73e",
   "metadata": {},
   "outputs": [],
   "source": [
    "workspace_name=\"helper-demo-workspace-1\"\n",
    "pipeline_name=\"helper-demo-pipeline-1\"\n",
    "model_name=\"helper-demo-model-1\"\n",
    "model_file_name=\"./models/rf_model.onnx\""
   ]
  },
  {
   "cell_type": "markdown",
   "id": "070346ae-fbda-44ff-bb47-5c2806103589",
   "metadata": {},
   "source": [
    "## get_workspace"
   ]
  },
  {
   "cell_type": "markdown",
   "id": "ee663e50-7a28-4033-b52e-c38ed28a6f3d",
   "metadata": {},
   "source": [
    "### Error when workspace does not exist"
   ]
  },
  {
   "cell_type": "code",
   "execution_count": 4,
   "id": "95cf3e1e-bae3-4429-bf07-9140c198fa74",
   "metadata": {},
   "outputs": [
    {
     "ename": "Exception",
     "evalue": "Error: Workspace with name helper-demo-workspace-1 does not exist. If you would like to create one, send in the request with `create_if_not_exist` flag set to True.",
     "output_type": "error",
     "traceback": [
      "\u001b[0;31m---------------------------------------------------------------------------\u001b[0m",
      "\u001b[0;31mException\u001b[0m                                 Traceback (most recent call last)",
      "\u001b[0;32m/tmp/ipykernel_208/1781751922.py\u001b[0m in \u001b[0;36m<module>\u001b[0;34m\u001b[0m\n\u001b[0;32m----> 1\u001b[0;31m \u001b[0mworkspace\u001b[0m \u001b[0;34m=\u001b[0m \u001b[0mwl\u001b[0m\u001b[0;34m.\u001b[0m\u001b[0mget_workspace\u001b[0m\u001b[0;34m(\u001b[0m\u001b[0mname\u001b[0m\u001b[0;34m=\u001b[0m\u001b[0mworkspace_name\u001b[0m\u001b[0;34m)\u001b[0m\u001b[0;34m\u001b[0m\u001b[0;34m\u001b[0m\u001b[0m\n\u001b[0m",
      "\u001b[0;32m~/.local/lib/python3.9/site-packages/wallaroo/client.py\u001b[0m in \u001b[0;36mget_workspace\u001b[0;34m(self, name, create_if_not_exist)\u001b[0m\n\u001b[1;32m   2383\u001b[0m         \u001b[0;34m:\u001b[0m\u001b[0;32mreturn\u001b[0m\u001b[0;34m:\u001b[0m \u001b[0mThe\u001b[0m \u001b[0mworkspace\u001b[0m \u001b[0;32mwith\u001b[0m \u001b[0mthe\u001b[0m \u001b[0mgiven\u001b[0m \u001b[0mname\u001b[0m\u001b[0;34m.\u001b[0m\u001b[0;34m\u001b[0m\u001b[0;34m\u001b[0m\u001b[0m\n\u001b[1;32m   2384\u001b[0m         \"\"\"\n\u001b[0;32m-> 2385\u001b[0;31m         return Workspace.get_workspace(\n\u001b[0m\u001b[1;32m   2386\u001b[0m             \u001b[0mclient\u001b[0m\u001b[0;34m=\u001b[0m\u001b[0mself\u001b[0m\u001b[0;34m,\u001b[0m \u001b[0mname\u001b[0m\u001b[0;34m=\u001b[0m\u001b[0mname\u001b[0m\u001b[0;34m,\u001b[0m \u001b[0mcreate_if_not_exist\u001b[0m\u001b[0;34m=\u001b[0m\u001b[0mcreate_if_not_exist\u001b[0m\u001b[0;34m\u001b[0m\u001b[0;34m\u001b[0m\u001b[0m\n\u001b[1;32m   2387\u001b[0m         )\n",
      "\u001b[0;32m~/.local/lib/python3.9/site-packages/wallaroo/workspace.py\u001b[0m in \u001b[0;36mget_workspace\u001b[0;34m(client, name, create_if_not_exist)\u001b[0m\n\u001b[1;32m    229\u001b[0m                 \u001b[0mworkspace\u001b[0m \u001b[0;34m=\u001b[0m \u001b[0mWorkspace\u001b[0m\u001b[0;34m.\u001b[0m\u001b[0m_create_workspace\u001b[0m\u001b[0;34m(\u001b[0m\u001b[0mclient\u001b[0m\u001b[0;34m,\u001b[0m \u001b[0mname\u001b[0m\u001b[0;34m)\u001b[0m\u001b[0;34m\u001b[0m\u001b[0;34m\u001b[0m\u001b[0m\n\u001b[1;32m    230\u001b[0m             \u001b[0;32melse\u001b[0m\u001b[0;34m:\u001b[0m\u001b[0;34m\u001b[0m\u001b[0;34m\u001b[0m\u001b[0m\n\u001b[0;32m--> 231\u001b[0;31m                 raise Exception(\n\u001b[0m\u001b[1;32m    232\u001b[0m                     \u001b[0;34mf\"Error: Workspace with name {name} does not exist.\"\u001b[0m\u001b[0;34m\u001b[0m\u001b[0;34m\u001b[0m\u001b[0m\n\u001b[1;32m    233\u001b[0m                     \u001b[0;34mf\" If you would like to create one, send in the request with `create_if_not_exist` flag set to True.\"\u001b[0m\u001b[0;34m\u001b[0m\u001b[0;34m\u001b[0m\u001b[0m\n",
      "\u001b[0;31mException\u001b[0m: Error: Workspace with name helper-demo-workspace-1 does not exist. If you would like to create one, send in the request with `create_if_not_exist` flag set to True."
     ]
    }
   ],
   "source": [
    "workspace = wl.get_workspace(name=workspace_name)"
   ]
  },
  {
   "cell_type": "markdown",
   "id": "bd959eaf-cbd3-4d79-96c7-cfc705e12acf",
   "metadata": {},
   "source": [
    "### Create new workspace with `create_if_not_exist` flag"
   ]
  },
  {
   "cell_type": "code",
   "execution_count": 5,
   "id": "4aa16878-72cf-48ec-9dd8-1c887fe29d28",
   "metadata": {},
   "outputs": [
    {
     "data": {
      "text/plain": [
       "{'name': 'helper-demo-workspace-1', 'id': 18, 'archived': False, 'created_by': '464316c9-45dd-4926-ba40-c3817485fb9b', 'created_at': '2024-04-04T18:03:33.453716+00:00', 'models': [], 'pipelines': []}"
      ]
     },
     "execution_count": 5,
     "metadata": {},
     "output_type": "execute_result"
    }
   ],
   "source": [
    "workspace = wl.get_workspace(name=workspace_name, create_if_not_exist=True)\n",
    "workspace"
   ]
  },
  {
   "cell_type": "code",
   "execution_count": 6,
   "id": "58a764ab-17c2-47b1-98d3-54e12907bcb1",
   "metadata": {},
   "outputs": [
    {
     "data": {
      "text/plain": [
       "{'name': 'helper-demo-workspace-1', 'id': 18, 'archived': False, 'created_by': '464316c9-45dd-4926-ba40-c3817485fb9b', 'created_at': '2024-04-04T18:03:33.453716+00:00', 'models': [], 'pipelines': []}"
      ]
     },
     "execution_count": 6,
     "metadata": {},
     "output_type": "execute_result"
    }
   ],
   "source": [
    "wl.set_current_workspace(workspace)"
   ]
  },
  {
   "cell_type": "markdown",
   "id": "8fd79506-fdb3-4d3a-a6d7-c08e307c6d62",
   "metadata": {},
   "source": [
    "### Return existing workspace"
   ]
  },
  {
   "cell_type": "code",
   "execution_count": 7,
   "id": "24e3611d-ea3a-4d60-aa7a-333dc3074f52",
   "metadata": {},
   "outputs": [
    {
     "data": {
      "text/plain": [
       "{'name': 'helper-demo-workspace-1', 'id': 18, 'archived': False, 'created_by': '464316c9-45dd-4926-ba40-c3817485fb9b', 'created_at': '2024-04-04T18:03:33.453716+00:00', 'models': [], 'pipelines': []}"
      ]
     },
     "execution_count": 7,
     "metadata": {},
     "output_type": "execute_result"
    }
   ],
   "source": [
    "workspace = wl.get_workspace(name=workspace_name)\n",
    "workspace"
   ]
  },
  {
   "cell_type": "markdown",
   "id": "c7906839-063e-4f8f-b2c1-3e52c5052f6b",
   "metadata": {},
   "source": [
    "## create model and pipeline"
   ]
  },
  {
   "cell_type": "code",
   "execution_count": 8,
   "id": "05224e4d-b7c2-4561-983e-cfbe693d86bf",
   "metadata": {},
   "outputs": [],
   "source": [
    "helper_model = (wl.upload_model(model_name, \n",
    "                                        model_file_name, \n",
    "                                        framework=Framework.ONNX)\n",
    "                                        .configure(tensor_fields=[\"tensor\"])\n",
    "                        )"
   ]
  },
  {
   "cell_type": "code",
   "execution_count": 9,
   "id": "7427f8c6-bdd9-43f2-9b2b-357b8ae65180",
   "metadata": {},
   "outputs": [
    {
     "data": {
      "text/plain": [
       "'522e5e85-74f5-44d3-a734-4dfe2f70d790'"
      ]
     },
     "execution_count": 9,
     "metadata": {},
     "output_type": "execute_result"
    }
   ],
   "source": [
    "helper_model.version()"
   ]
  },
  {
   "cell_type": "markdown",
   "id": "0aa739a0-6d5b-491d-9894-cfde61c80c84",
   "metadata": {},
   "source": [
    "## get_model"
   ]
  },
  {
   "cell_type": "markdown",
   "id": "081edfb0-2c59-4485-b70a-072493996fda",
   "metadata": {},
   "source": [
    "### Error when model not found"
   ]
  },
  {
   "cell_type": "code",
   "execution_count": 10,
   "id": "5fc6d9ad-33db-453d-b6a9-4266c9e62bd8",
   "metadata": {},
   "outputs": [
    {
     "ename": "Exception",
     "evalue": "Error: A model with the name no-such-model does not exist.",
     "output_type": "error",
     "traceback": [
      "\u001b[0;31m---------------------------------------------------------------------------\u001b[0m",
      "\u001b[0;31mException\u001b[0m                                 Traceback (most recent call last)",
      "\u001b[0;32m/tmp/ipykernel_208/498292295.py\u001b[0m in \u001b[0;36m<module>\u001b[0;34m\u001b[0m\n\u001b[0;32m----> 1\u001b[0;31m \u001b[0mwl\u001b[0m\u001b[0;34m.\u001b[0m\u001b[0mget_model\u001b[0m\u001b[0;34m(\u001b[0m\u001b[0mname\u001b[0m\u001b[0;34m=\u001b[0m\u001b[0;34m\"no-such-model\"\u001b[0m\u001b[0;34m)\u001b[0m\u001b[0;34m\u001b[0m\u001b[0;34m\u001b[0m\u001b[0m\n\u001b[0m",
      "\u001b[0;32m~/.local/lib/python3.9/site-packages/wallaroo/client.py\u001b[0m in \u001b[0;36mget_model\u001b[0;34m(self, name, version)\u001b[0m\n\u001b[1;32m   1182\u001b[0m         )\n\u001b[1;32m   1183\u001b[0m         \u001b[0;32mif\u001b[0m \u001b[0mmodel\u001b[0m \u001b[0;32mis\u001b[0m \u001b[0;32mNone\u001b[0m\u001b[0;34m:\u001b[0m\u001b[0;34m\u001b[0m\u001b[0;34m\u001b[0m\u001b[0m\n\u001b[0;32m-> 1184\u001b[0;31m             \u001b[0;32mraise\u001b[0m \u001b[0mException\u001b[0m\u001b[0;34m(\u001b[0m\u001b[0;34mf\"Error: A model with the name {name} does not exist.\"\u001b[0m\u001b[0;34m)\u001b[0m\u001b[0;34m\u001b[0m\u001b[0;34m\u001b[0m\u001b[0m\n\u001b[0m\u001b[1;32m   1185\u001b[0m         \u001b[0;32mif\u001b[0m \u001b[0mversion\u001b[0m \u001b[0;32mis\u001b[0m \u001b[0;32mnot\u001b[0m \u001b[0;32mNone\u001b[0m\u001b[0;34m:\u001b[0m\u001b[0;34m\u001b[0m\u001b[0;34m\u001b[0m\u001b[0m\n\u001b[1;32m   1186\u001b[0m             model_version = next(\n",
      "\u001b[0;31mException\u001b[0m: Error: A model with the name no-such-model does not exist."
     ]
    }
   ],
   "source": [
    "wl.get_model(name=\"no-such-model\")"
   ]
  },
  {
   "cell_type": "code",
   "execution_count": 11,
   "id": "5e670125-30b1-413f-b470-d62a65762272",
   "metadata": {},
   "outputs": [
    {
     "data": {
      "text/html": [
       "<table>\n",
       "        <tr>\n",
       "          <td>Name</td>\n",
       "          <td>helper-demo-model-1</td>\n",
       "        </tr>\n",
       "        <tr>\n",
       "          <td>Version</td>\n",
       "          <td>522e5e85-74f5-44d3-a734-4dfe2f70d790</td>\n",
       "        </tr>\n",
       "        <tr>\n",
       "          <td>File Name</td>\n",
       "          <td>rf_model.onnx</td>\n",
       "        </tr>\n",
       "        <tr>\n",
       "          <td>SHA</td>\n",
       "          <td>e22a0831aafd9917f3cc87a15ed267797f80e2afa12ad7d8810ca58f173b8cc6</td>\n",
       "        </tr>\n",
       "        <tr>\n",
       "          <td>Status</td>\n",
       "          <td>ready</td>\n",
       "        </tr>\n",
       "        <tr>\n",
       "          <td>Image Path</td>\n",
       "          <td>None</td>\n",
       "        </tr>\n",
       "        <tr>\n",
       "          <td>Architecture</td>\n",
       "          <td>x86</td>\n",
       "        </tr>\n",
       "        <tr>\n",
       "          <td>Acceleration</td>\n",
       "          <td>none</td>\n",
       "        </tr>\n",
       "        <tr>\n",
       "          <td>Updated At</td>\n",
       "          <td>2024-04-Apr 18:03:38</td>\n",
       "        </tr>\n",
       "      </table>"
      ],
      "text/plain": [
       "{'name': 'helper-demo-model-1', 'version': '522e5e85-74f5-44d3-a734-4dfe2f70d790', 'file_name': 'rf_model.onnx', 'image_path': None, 'arch': 'x86', 'accel': 'none', 'last_update_time': datetime.datetime(2024, 4, 4, 18, 3, 38, 781741, tzinfo=tzutc())}"
      ]
     },
     "execution_count": 11,
     "metadata": {},
     "output_type": "execute_result"
    }
   ],
   "source": [
    "wl.get_model(name=model_name)"
   ]
  },
  {
   "cell_type": "code",
   "execution_count": 12,
   "id": "213fa2bf-c9c3-4f24-a7c4-8dcc936a7a45",
   "metadata": {},
   "outputs": [
    {
     "ename": "Exception",
     "evalue": "Error: A model with the version no-such-version not found in this workspace.",
     "output_type": "error",
     "traceback": [
      "\u001b[0;31m---------------------------------------------------------------------------\u001b[0m",
      "\u001b[0;31mException\u001b[0m                                 Traceback (most recent call last)",
      "\u001b[0;32m/tmp/ipykernel_208/3669316954.py\u001b[0m in \u001b[0;36m<module>\u001b[0;34m\u001b[0m\n\u001b[0;32m----> 1\u001b[0;31m \u001b[0mwl\u001b[0m\u001b[0;34m.\u001b[0m\u001b[0mget_model\u001b[0m\u001b[0;34m(\u001b[0m\u001b[0mname\u001b[0m\u001b[0;34m=\u001b[0m\u001b[0mmodel_name\u001b[0m\u001b[0;34m,\u001b[0m \u001b[0mversion\u001b[0m\u001b[0;34m=\u001b[0m\u001b[0;34m\"no-such-version\"\u001b[0m\u001b[0;34m)\u001b[0m\u001b[0;34m\u001b[0m\u001b[0;34m\u001b[0m\u001b[0m\n\u001b[0m",
      "\u001b[0;32m~/.local/lib/python3.9/site-packages/wallaroo/client.py\u001b[0m in \u001b[0;36mget_model\u001b[0;34m(self, name, version)\u001b[0m\n\u001b[1;32m   1190\u001b[0m                 \u001b[0;32mreturn\u001b[0m \u001b[0mmodel_version\u001b[0m\u001b[0;34m\u001b[0m\u001b[0;34m\u001b[0m\u001b[0m\n\u001b[1;32m   1191\u001b[0m             \u001b[0;32melse\u001b[0m\u001b[0;34m:\u001b[0m\u001b[0;34m\u001b[0m\u001b[0;34m\u001b[0m\u001b[0m\n\u001b[0;32m-> 1192\u001b[0;31m                 raise Exception(\n\u001b[0m\u001b[1;32m   1193\u001b[0m                     \u001b[0;34mf\"Error: A model with the version {version} not found in this workspace.\"\u001b[0m\u001b[0;34m\u001b[0m\u001b[0;34m\u001b[0m\u001b[0m\n\u001b[1;32m   1194\u001b[0m                 )\n",
      "\u001b[0;31mException\u001b[0m: Error: A model with the version no-such-version not found in this workspace."
     ]
    }
   ],
   "source": [
    "wl.get_model(name=model_name, version=\"no-such-version\")"
   ]
  },
  {
   "cell_type": "code",
   "execution_count": 14,
   "id": "86d7a2f8-12b0-4243-a7e0-69b90a462b82",
   "metadata": {},
   "outputs": [
    {
     "data": {
      "text/html": [
       "<table>\n",
       "        <tr>\n",
       "          <td>Name</td>\n",
       "          <td>helper-demo-model-1</td>\n",
       "        </tr>\n",
       "        <tr>\n",
       "          <td>Version</td>\n",
       "          <td>522e5e85-74f5-44d3-a734-4dfe2f70d790</td>\n",
       "        </tr>\n",
       "        <tr>\n",
       "          <td>File Name</td>\n",
       "          <td>rf_model.onnx</td>\n",
       "        </tr>\n",
       "        <tr>\n",
       "          <td>SHA</td>\n",
       "          <td>e22a0831aafd9917f3cc87a15ed267797f80e2afa12ad7d8810ca58f173b8cc6</td>\n",
       "        </tr>\n",
       "        <tr>\n",
       "          <td>Status</td>\n",
       "          <td>ready</td>\n",
       "        </tr>\n",
       "        <tr>\n",
       "          <td>Image Path</td>\n",
       "          <td>None</td>\n",
       "        </tr>\n",
       "        <tr>\n",
       "          <td>Architecture</td>\n",
       "          <td>x86</td>\n",
       "        </tr>\n",
       "        <tr>\n",
       "          <td>Acceleration</td>\n",
       "          <td>none</td>\n",
       "        </tr>\n",
       "        <tr>\n",
       "          <td>Updated At</td>\n",
       "          <td>2024-04-Apr 18:03:38</td>\n",
       "        </tr>\n",
       "      </table>"
      ],
      "text/plain": [
       "{'name': 'helper-demo-model-1', 'version': '522e5e85-74f5-44d3-a734-4dfe2f70d790', 'file_name': 'rf_model.onnx', 'image_path': None, 'arch': 'x86', 'accel': 'none', 'last_update_time': datetime.datetime(2024, 4, 4, 18, 3, 38, 781741, tzinfo=tzutc())}"
      ]
     },
     "execution_count": 14,
     "metadata": {},
     "output_type": "execute_result"
    }
   ],
   "source": [
    "model_1 = wl.get_model(name=model_name, version=\"522e5e85-74f5-44d3-a734-4dfe2f70d790\")\n",
    "model_1"
   ]
  },
  {
   "cell_type": "markdown",
   "id": "ce3670f2-a057-45f6-bf6d-2fdd9fa5bf68",
   "metadata": {},
   "source": [
    "## get_pipeline"
   ]
  },
  {
   "cell_type": "code",
   "execution_count": 15,
   "id": "d259646d-42b4-420f-a7cd-d5cb2ffc5ab8",
   "metadata": {},
   "outputs": [],
   "source": [
    "pipeline = wl.build_pipeline(pipeline_name)"
   ]
  },
  {
   "cell_type": "markdown",
   "id": "5facc575-7935-491b-9c87-27b80ca23f01",
   "metadata": {},
   "source": [
    "### Error when pipeline doesn't exist"
   ]
  },
  {
   "cell_type": "code",
   "execution_count": 16,
   "id": "286a2eea-c064-467c-bb9e-0ad81767ed51",
   "metadata": {},
   "outputs": [
    {
     "ename": "Exception",
     "evalue": "Pipeline no-such-pipeline not found in this workspace.",
     "output_type": "error",
     "traceback": [
      "\u001b[0;31m---------------------------------------------------------------------------\u001b[0m",
      "\u001b[0;31mException\u001b[0m                                 Traceback (most recent call last)",
      "\u001b[0;32m/tmp/ipykernel_208/1835144440.py\u001b[0m in \u001b[0;36m<module>\u001b[0;34m\u001b[0m\n\u001b[0;32m----> 1\u001b[0;31m \u001b[0mwl\u001b[0m\u001b[0;34m.\u001b[0m\u001b[0mget_pipeline\u001b[0m\u001b[0;34m(\u001b[0m\u001b[0mname\u001b[0m\u001b[0;34m=\u001b[0m\u001b[0;34m\"no-such-pipeline\"\u001b[0m\u001b[0;34m)\u001b[0m\u001b[0;34m\u001b[0m\u001b[0;34m\u001b[0m\u001b[0m\n\u001b[0m",
      "\u001b[0;32m~/.local/lib/python3.9/site-packages/wallaroo/client.py\u001b[0m in \u001b[0;36mget_pipeline\u001b[0;34m(self, name, version)\u001b[0m\n\u001b[1;32m   1357\u001b[0m         )\n\u001b[1;32m   1358\u001b[0m         \u001b[0;32mif\u001b[0m \u001b[0mpipeline\u001b[0m \u001b[0;32mis\u001b[0m \u001b[0;32mNone\u001b[0m\u001b[0;34m:\u001b[0m\u001b[0;34m\u001b[0m\u001b[0;34m\u001b[0m\u001b[0m\n\u001b[0;32m-> 1359\u001b[0;31m             \u001b[0;32mraise\u001b[0m \u001b[0mException\u001b[0m\u001b[0;34m(\u001b[0m\u001b[0;34mf\"Pipeline {name} not found in this workspace.\"\u001b[0m\u001b[0;34m)\u001b[0m\u001b[0;34m\u001b[0m\u001b[0;34m\u001b[0m\u001b[0m\n\u001b[0m\u001b[1;32m   1360\u001b[0m         \u001b[0;32mif\u001b[0m \u001b[0mversion\u001b[0m \u001b[0;32mis\u001b[0m \u001b[0;32mnot\u001b[0m \u001b[0;32mNone\u001b[0m\u001b[0;34m:\u001b[0m\u001b[0;34m\u001b[0m\u001b[0;34m\u001b[0m\u001b[0m\n\u001b[1;32m   1361\u001b[0m             pipeline_version = next(\n",
      "\u001b[0;31mException\u001b[0m: Pipeline no-such-pipeline not found in this workspace."
     ]
    }
   ],
   "source": [
    "wl.get_pipeline(name=\"no-such-pipeline\")"
   ]
  },
  {
   "cell_type": "code",
   "execution_count": 17,
   "id": "2425b4f8-cecd-405f-a524-ccd72d9fe407",
   "metadata": {},
   "outputs": [
    {
     "data": {
      "text/html": [
       "<table><tr><th>name</th> <td>helper-demo-pipeline-1</td></tr><tr><th>created</th> <td>2024-04-04 18:04:09.143113+00:00</td></tr><tr><th>last_updated</th> <td>2024-04-04 18:04:09.143113+00:00</td></tr><tr><th>deployed</th> <td>(none)</td></tr><tr><th>arch</th> <td>None</td></tr><tr><th>accel</th> <td>None</td></tr><tr><th>tags</th> <td></td></tr><tr><th>versions</th> <td>1647a8bd-4ed8-45bc-a2b8-b14ace57e490</td></tr><tr><th>steps</th> <td></td></tr><tr><th>published</th> <td>False</td></tr></table>"
      ],
      "text/plain": [
       "{'name': 'helper-demo-pipeline-1', 'create_time': datetime.datetime(2024, 4, 4, 18, 4, 9, 143113, tzinfo=tzutc()), 'definition': '[]'}"
      ]
     },
     "execution_count": 17,
     "metadata": {},
     "output_type": "execute_result"
    }
   ],
   "source": [
    "wl.get_pipeline(name=pipeline_name)"
   ]
  },
  {
   "cell_type": "markdown",
   "id": "7e9696b8-ee64-413f-99e6-03edfcde3c5b",
   "metadata": {},
   "source": [
    "### Error when version doesn't exist"
   ]
  },
  {
   "cell_type": "code",
   "execution_count": 18,
   "id": "eea9e257-1615-4389-8bc4-ab75473c59ed",
   "metadata": {},
   "outputs": [
    {
     "ename": "Exception",
     "evalue": "Pipeline version no-such-version not found in this workspace.",
     "output_type": "error",
     "traceback": [
      "\u001b[0;31m---------------------------------------------------------------------------\u001b[0m",
      "\u001b[0;31mException\u001b[0m                                 Traceback (most recent call last)",
      "\u001b[0;32m/tmp/ipykernel_208/2171664880.py\u001b[0m in \u001b[0;36m<module>\u001b[0;34m\u001b[0m\n\u001b[0;32m----> 1\u001b[0;31m \u001b[0mwl\u001b[0m\u001b[0;34m.\u001b[0m\u001b[0mget_pipeline\u001b[0m\u001b[0;34m(\u001b[0m\u001b[0mname\u001b[0m\u001b[0;34m=\u001b[0m\u001b[0mpipeline_name\u001b[0m\u001b[0;34m,\u001b[0m \u001b[0mversion\u001b[0m\u001b[0;34m=\u001b[0m\u001b[0;34m\"no-such-version\"\u001b[0m\u001b[0;34m)\u001b[0m\u001b[0;34m\u001b[0m\u001b[0;34m\u001b[0m\u001b[0m\n\u001b[0m",
      "\u001b[0;32m~/.local/lib/python3.9/site-packages/wallaroo/client.py\u001b[0m in \u001b[0;36mget_pipeline\u001b[0;34m(self, name, version)\u001b[0m\n\u001b[1;32m   1366\u001b[0m                 \u001b[0;32mreturn\u001b[0m \u001b[0mpipeline\u001b[0m\u001b[0;34m\u001b[0m\u001b[0;34m\u001b[0m\u001b[0m\n\u001b[1;32m   1367\u001b[0m             \u001b[0;32melse\u001b[0m\u001b[0;34m:\u001b[0m\u001b[0;34m\u001b[0m\u001b[0;34m\u001b[0m\u001b[0m\n\u001b[0;32m-> 1368\u001b[0;31m                 raise Exception(\n\u001b[0m\u001b[1;32m   1369\u001b[0m                     \u001b[0;34mf\"Pipeline version {version} not found in this workspace.\"\u001b[0m\u001b[0;34m\u001b[0m\u001b[0;34m\u001b[0m\u001b[0m\n\u001b[1;32m   1370\u001b[0m                 )\n",
      "\u001b[0;31mException\u001b[0m: Pipeline version no-such-version not found in this workspace."
     ]
    }
   ],
   "source": [
    "wl.get_pipeline(name=pipeline_name, version=\"no-such-version\")"
   ]
  },
  {
   "cell_type": "code",
   "execution_count": 21,
   "id": "1a55308d-6ef7-4821-b2d0-2fa230ce2254",
   "metadata": {},
   "outputs": [
    {
     "data": {
      "text/html": [
       "<table><tr><th>name</th> <td>helper-demo-pipeline-1</td></tr><tr><th>created</th> <td>2024-04-04 18:04:09.143113+00:00</td></tr><tr><th>last_updated</th> <td>2024-04-04 18:04:09.143113+00:00</td></tr><tr><th>deployed</th> <td>(none)</td></tr><tr><th>arch</th> <td>None</td></tr><tr><th>accel</th> <td>None</td></tr><tr><th>tags</th> <td></td></tr><tr><th>versions</th> <td>1647a8bd-4ed8-45bc-a2b8-b14ace57e490</td></tr><tr><th>steps</th> <td></td></tr><tr><th>published</th> <td>False</td></tr></table>"
      ],
      "text/plain": [
       "{'name': 'helper-demo-pipeline-1', 'create_time': datetime.datetime(2024, 4, 4, 18, 4, 9, 143113, tzinfo=tzutc()), 'definition': '[]'}"
      ]
     },
     "execution_count": 21,
     "metadata": {},
     "output_type": "execute_result"
    }
   ],
   "source": [
    "wl.get_pipeline(name=pipeline_name, version=\"1647a8bd-4ed8-45bc-a2b8-b14ace57e490\")"
   ]
  },
  {
   "cell_type": "markdown",
   "id": "67eaf282-8a3e-4f8b-8f65-f18f46b6a4c4",
   "metadata": {},
   "source": [
    "### use returned model and pipeline from get_model / get_pipeline"
   ]
  },
  {
   "cell_type": "code",
   "execution_count": 22,
   "id": "a705b978-8005-48da-b94c-cea0a70c4d5a",
   "metadata": {},
   "outputs": [
    {
     "data": {
      "text/html": [
       "<table><tr><th>name</th> <td>helper-demo-pipeline-1</td></tr><tr><th>created</th> <td>2024-04-04 18:04:09.143113+00:00</td></tr><tr><th>last_updated</th> <td>2024-04-04 18:04:09.143113+00:00</td></tr><tr><th>deployed</th> <td>(none)</td></tr><tr><th>arch</th> <td>None</td></tr><tr><th>accel</th> <td>None</td></tr><tr><th>tags</th> <td></td></tr><tr><th>versions</th> <td>1647a8bd-4ed8-45bc-a2b8-b14ace57e490</td></tr><tr><th>steps</th> <td></td></tr><tr><th>published</th> <td>False</td></tr></table>"
      ],
      "text/plain": [
       "{'name': 'helper-demo-pipeline-1', 'create_time': datetime.datetime(2024, 4, 4, 18, 4, 9, 143113, tzinfo=tzutc()), 'definition': \"[{'ModelInference': {'models': [{'name': 'helper-demo-model-1', 'version': '522e5e85-74f5-44d3-a734-4dfe2f70d790', 'sha': 'e22a0831aafd9917f3cc87a15ed267797f80e2afa12ad7d8810ca58f173b8cc6'}]}}]\"}"
      ]
     },
     "execution_count": 22,
     "metadata": {},
     "output_type": "execute_result"
    }
   ],
   "source": [
    "mainpipeline = wl.get_pipeline(name=pipeline_name, version=\"1647a8bd-4ed8-45bc-a2b8-b14ace57e490\")\n",
    "mainpipeline.clear()\n",
    "\n",
    "model_1 = wl.get_model(name=model_name, version=\"522e5e85-74f5-44d3-a734-4dfe2f70d790\")\n",
    "mainpipeline.add_model_step(model_1)\n",
    "mainpipeline"
   ]
  },
  {
   "cell_type": "code",
   "execution_count": 23,
   "id": "cfd341dd-a862-47ad-906f-98948d725329",
   "metadata": {},
   "outputs": [
    {
     "name": "stdout",
     "output_type": "stream",
     "text": [
      "Waiting for deployment - this will take up to 45s ............. ok\n"
     ]
    },
    {
     "data": {
      "text/html": [
       "<table><tr><th>name</th> <td>helper-demo-pipeline-1</td></tr><tr><th>created</th> <td>2024-04-04 18:04:09.143113+00:00</td></tr><tr><th>last_updated</th> <td>2024-04-04 18:04:54.874386+00:00</td></tr><tr><th>deployed</th> <td>True</td></tr><tr><th>arch</th> <td>x86</td></tr><tr><th>accel</th> <td>none</td></tr><tr><th>tags</th> <td></td></tr><tr><th>versions</th> <td>e2ff1174-05e8-4ea0-9a2d-e2759e6b1707, 1647a8bd-4ed8-45bc-a2b8-b14ace57e490</td></tr><tr><th>steps</th> <td>helper-demo-model-1</td></tr><tr><th>published</th> <td>False</td></tr></table>"
      ],
      "text/plain": [
       "{'name': 'helper-demo-pipeline-1', 'create_time': datetime.datetime(2024, 4, 4, 18, 4, 9, 143113, tzinfo=tzutc()), 'definition': \"[{'ModelInference': {'models': [{'name': 'helper-demo-model-1', 'version': '522e5e85-74f5-44d3-a734-4dfe2f70d790', 'sha': 'e22a0831aafd9917f3cc87a15ed267797f80e2afa12ad7d8810ca58f173b8cc6'}]}}]\"}"
      ]
     },
     "execution_count": 23,
     "metadata": {},
     "output_type": "execute_result"
    }
   ],
   "source": [
    "deploy_config = wallaroo.DeploymentConfigBuilder().cpus(0.25).memory(\"1Gi\").build()\n",
    "mainpipeline.deploy(deployment_config = deploy_config)"
   ]
  },
  {
   "cell_type": "code",
   "execution_count": 27,
   "id": "1c9f3019-75ac-4153-ae60-78c432fa2daf",
   "metadata": {},
   "outputs": [
    {
     "data": {
      "text/plain": [
       "{'status': 'Running',\n",
       " 'details': [],\n",
       " 'engines': [{'ip': '10.116.64.162',\n",
       "   'name': 'engine-5798df5fd7-nnmcx',\n",
       "   'status': 'Running',\n",
       "   'reason': None,\n",
       "   'details': [],\n",
       "   'pipeline_statuses': {'pipelines': [{'id': 'helper-demo-pipeline-1',\n",
       "      'status': 'Running'}]},\n",
       "   'model_statuses': {'models': [{'name': 'helper-demo-model-1',\n",
       "      'sha': 'e22a0831aafd9917f3cc87a15ed267797f80e2afa12ad7d8810ca58f173b8cc6',\n",
       "      'status': 'Running',\n",
       "      'version': '522e5e85-74f5-44d3-a734-4dfe2f70d790'}]}}],\n",
       " 'engine_lbs': [{'ip': '10.116.64.161',\n",
       "   'name': 'engine-lb-7bcbb95695-695k2',\n",
       "   'status': 'Running',\n",
       "   'reason': None,\n",
       "   'details': []}],\n",
       " 'sidekicks': []}"
      ]
     },
     "execution_count": 27,
     "metadata": {},
     "output_type": "execute_result"
    }
   ],
   "source": [
    "mainpipeline.status()"
   ]
  },
  {
   "cell_type": "code",
   "execution_count": 28,
   "id": "ba1e0fba-e0c1-46a5-b929-045333e71784",
   "metadata": {},
   "outputs": [
    {
     "data": {
      "text/html": [
       "<div>\n",
       "<style scoped>\n",
       "    .dataframe tbody tr th:only-of-type {\n",
       "        vertical-align: middle;\n",
       "    }\n",
       "\n",
       "    .dataframe tbody tr th {\n",
       "        vertical-align: top;\n",
       "    }\n",
       "\n",
       "    .dataframe thead th {\n",
       "        text-align: right;\n",
       "    }\n",
       "</style>\n",
       "<table border=\"1\" class=\"dataframe\">\n",
       "  <thead>\n",
       "    <tr style=\"text-align: right;\">\n",
       "      <th></th>\n",
       "      <th>time</th>\n",
       "      <th>in.tensor</th>\n",
       "      <th>out.variable</th>\n",
       "      <th>anomaly.count</th>\n",
       "    </tr>\n",
       "  </thead>\n",
       "  <tbody>\n",
       "    <tr>\n",
       "      <th>0</th>\n",
       "      <td>2024-04-04 18:05:35.870</td>\n",
       "      <td>[4.0, 2.5, 2900.0, 5505.0, 2.0, 0.0, 0.0, 3.0,...</td>\n",
       "      <td>[718013.7]</td>\n",
       "      <td>0</td>\n",
       "    </tr>\n",
       "  </tbody>\n",
       "</table>\n",
       "</div>"
      ],
      "text/plain": [
       "                     time                                          in.tensor  \\\n",
       "0 2024-04-04 18:05:35.870  [4.0, 2.5, 2900.0, 5505.0, 2.0, 0.0, 0.0, 3.0,...   \n",
       "\n",
       "  out.variable  anomaly.count  \n",
       "0   [718013.7]              0  "
      ]
     },
     "metadata": {},
     "output_type": "display_data"
    }
   ],
   "source": [
    "normal_input = pd.DataFrame.from_records({\"tensor\": [[4.0, 2.5, 2900.0, 5505.0, 2.0, 0.0, 0.0, 3.0, 8.0, 2900.0, 0.0, 47.6063, -122.02, 2970.0, 5251.0, 12.0, 0.0, 0.0]]})\n",
    "result = mainpipeline.infer(normal_input)\n",
    "display(result)"
   ]
  },
  {
   "cell_type": "code",
   "execution_count": 29,
   "id": "b242f951-90d4-4c08-9f95-a984fa966ccf",
   "metadata": {},
   "outputs": [
    {
     "data": {
      "text/plain": [
       "[<wallaroo.pipeline_version.PipelineVersion at 0x7dd9d8d01ca0>,\n",
       " <wallaroo.pipeline_version.PipelineVersion at 0x7dd9d8d01eb0>]"
      ]
     },
     "execution_count": 29,
     "metadata": {},
     "output_type": "execute_result"
    }
   ],
   "source": [
    "mainpipeline.versions()"
   ]
  },
  {
   "cell_type": "code",
   "execution_count": 30,
   "id": "10382f4e-2654-4123-9d2e-a9ddd2e757b0",
   "metadata": {},
   "outputs": [
    {
     "name": "stdout",
     "output_type": "stream",
     "text": [
      "Waiting for undeployment - this will take up to 45s ..................................... ok\n"
     ]
    },
    {
     "data": {
      "text/html": [
       "<table><tr><th>name</th> <td>helper-demo-pipeline-1</td></tr><tr><th>created</th> <td>2024-04-04 18:04:09.143113+00:00</td></tr><tr><th>last_updated</th> <td>2024-04-04 18:04:54.874386+00:00</td></tr><tr><th>deployed</th> <td>False</td></tr><tr><th>arch</th> <td>x86</td></tr><tr><th>accel</th> <td>none</td></tr><tr><th>tags</th> <td></td></tr><tr><th>versions</th> <td>e2ff1174-05e8-4ea0-9a2d-e2759e6b1707, 1647a8bd-4ed8-45bc-a2b8-b14ace57e490</td></tr><tr><th>steps</th> <td>helper-demo-model-1</td></tr><tr><th>published</th> <td>False</td></tr></table>"
      ],
      "text/plain": [
       "{'name': 'helper-demo-pipeline-1', 'create_time': datetime.datetime(2024, 4, 4, 18, 4, 9, 143113, tzinfo=tzutc()), 'definition': \"[{'ModelInference': {'models': [{'name': 'helper-demo-model-1', 'version': '522e5e85-74f5-44d3-a734-4dfe2f70d790', 'sha': 'e22a0831aafd9917f3cc87a15ed267797f80e2afa12ad7d8810ca58f173b8cc6'}]}}]\"}"
      ]
     },
     "execution_count": 30,
     "metadata": {},
     "output_type": "execute_result"
    }
   ],
   "source": [
    "mainpipeline.undeploy()"
   ]
  },
  {
   "cell_type": "markdown",
   "id": "038f21ba-08d1-4b10-9f17-a9d610fb4fda",
   "metadata": {},
   "source": [
    "### Get existing pipeline version and redeploy that specific version"
   ]
  },
  {
   "cell_type": "markdown",
   "id": "a7b0d6d7-c91d-4333-8fd0-e9f294bbfe19",
   "metadata": {},
   "source": [
    "#### Creating new versions"
   ]
  },
  {
   "cell_type": "code",
   "execution_count": 31,
   "id": "d0c60b04-adc4-4e70-bb2d-572c4a2f2b14",
   "metadata": {},
   "outputs": [
    {
     "data": {
      "text/html": [
       "<table>\n",
       "        <tr>\n",
       "          <td>Name</td>\n",
       "          <td>helper-model-replace</td>\n",
       "        </tr>\n",
       "        <tr>\n",
       "          <td>Version</td>\n",
       "          <td>fec3642f-e990-4f44-aaa8-8ada296206bd</td>\n",
       "        </tr>\n",
       "        <tr>\n",
       "          <td>File Name</td>\n",
       "          <td>gbr_model.onnx</td>\n",
       "        </tr>\n",
       "        <tr>\n",
       "          <td>SHA</td>\n",
       "          <td>ed6065a79d841f7e96307bb20d5ef22840f15da0b587efb51425c7ad60589d6a</td>\n",
       "        </tr>\n",
       "        <tr>\n",
       "          <td>Status</td>\n",
       "          <td>ready</td>\n",
       "        </tr>\n",
       "        <tr>\n",
       "          <td>Image Path</td>\n",
       "          <td>None</td>\n",
       "        </tr>\n",
       "        <tr>\n",
       "          <td>Architecture</td>\n",
       "          <td>x86</td>\n",
       "        </tr>\n",
       "        <tr>\n",
       "          <td>Acceleration</td>\n",
       "          <td>none</td>\n",
       "        </tr>\n",
       "        <tr>\n",
       "          <td>Updated At</td>\n",
       "          <td>2024-04-Apr 18:07:40</td>\n",
       "        </tr>\n",
       "      </table>"
      ],
      "text/plain": [
       "{'name': 'helper-model-replace', 'version': 'fec3642f-e990-4f44-aaa8-8ada296206bd', 'file_name': 'gbr_model.onnx', 'image_path': None, 'arch': 'x86', 'accel': 'none', 'last_update_time': datetime.datetime(2024, 4, 4, 18, 7, 40, 126653, tzinfo=tzutc())}"
      ]
     },
     "execution_count": 31,
     "metadata": {},
     "output_type": "execute_result"
    }
   ],
   "source": [
    "new_model = (wl.upload_model(\"helper-model-replace\", \n",
    "                                        \"./models/gbr_model.onnx\", \n",
    "                                        framework=Framework.ONNX)\n",
    "                                        .configure(tensor_fields=[\"tensor\"])\n",
    "                        )\n",
    "new_model"
   ]
  },
  {
   "cell_type": "code",
   "execution_count": 33,
   "id": "392d4b6d-8f1a-4b63-b843-156eff446ddb",
   "metadata": {},
   "outputs": [
    {
     "data": {
      "text/plain": [
       "[{'ModelInference': {'models': [{'name': 'helper-model-replace', 'version': 'fec3642f-e990-4f44-aaa8-8ada296206bd', 'sha': 'ed6065a79d841f7e96307bb20d5ef22840f15da0b587efb51425c7ad60589d6a'}]}}]"
      ]
     },
     "execution_count": 33,
     "metadata": {},
     "output_type": "execute_result"
    }
   ],
   "source": [
    "mainpipeline.clear()\n",
    "mainpipeline.add_model_step(new_model)\n",
    "mainpipeline.steps()"
   ]
  },
  {
   "cell_type": "code",
   "execution_count": 34,
   "id": "e84d7010-b779-4b4a-a6bc-f7ddde427536",
   "metadata": {},
   "outputs": [
    {
     "name": "stdout",
     "output_type": "stream",
     "text": [
      "Waiting for deployment - this will take up to 45s ........... ok\n"
     ]
    },
    {
     "data": {
      "text/html": [
       "<table><tr><th>name</th> <td>helper-demo-pipeline-1</td></tr><tr><th>created</th> <td>2024-04-04 18:04:09.143113+00:00</td></tr><tr><th>last_updated</th> <td>2024-04-04 18:09:08.209764+00:00</td></tr><tr><th>deployed</th> <td>True</td></tr><tr><th>arch</th> <td>x86</td></tr><tr><th>accel</th> <td>none</td></tr><tr><th>tags</th> <td></td></tr><tr><th>versions</th> <td>adbda107-649f-447d-9b4f-91684b37cc37, e2ff1174-05e8-4ea0-9a2d-e2759e6b1707, 1647a8bd-4ed8-45bc-a2b8-b14ace57e490</td></tr><tr><th>steps</th> <td>helper-model-replace</td></tr><tr><th>published</th> <td>False</td></tr></table>"
      ],
      "text/plain": [
       "{'name': 'helper-demo-pipeline-1', 'create_time': datetime.datetime(2024, 4, 4, 18, 4, 9, 143113, tzinfo=tzutc()), 'definition': \"[{'ModelInference': {'models': [{'name': 'helper-model-replace', 'version': 'fec3642f-e990-4f44-aaa8-8ada296206bd', 'sha': 'ed6065a79d841f7e96307bb20d5ef22840f15da0b587efb51425c7ad60589d6a'}]}}]\"}"
      ]
     },
     "execution_count": 34,
     "metadata": {},
     "output_type": "execute_result"
    }
   ],
   "source": [
    "deploy_config = wallaroo.DeploymentConfigBuilder().cpus(0.25).memory(\"1Gi\").build()\n",
    "mainpipeline.deploy(deployment_config = deploy_config)"
   ]
  },
  {
   "cell_type": "code",
   "execution_count": 37,
   "id": "a2038e95-42a6-4741-8f67-62f3a02ead04",
   "metadata": {},
   "outputs": [
    {
     "name": "stdout",
     "output_type": "stream",
     "text": [
      " ok\n"
     ]
    },
    {
     "data": {
      "text/html": [
       "<table><tr><th>name</th> <td>helper-demo-pipeline-1</td></tr><tr><th>created</th> <td>2024-04-04 18:04:09.143113+00:00</td></tr><tr><th>last_updated</th> <td>2024-04-04 18:09:08.209764+00:00</td></tr><tr><th>deployed</th> <td>False</td></tr><tr><th>arch</th> <td>x86</td></tr><tr><th>accel</th> <td>none</td></tr><tr><th>tags</th> <td></td></tr><tr><th>versions</th> <td>adbda107-649f-447d-9b4f-91684b37cc37, e2ff1174-05e8-4ea0-9a2d-e2759e6b1707, 1647a8bd-4ed8-45bc-a2b8-b14ace57e490</td></tr><tr><th>steps</th> <td>helper-model-replace</td></tr><tr><th>published</th> <td>False</td></tr></table>"
      ],
      "text/plain": [
       "{'name': 'helper-demo-pipeline-1', 'create_time': datetime.datetime(2024, 4, 4, 18, 4, 9, 143113, tzinfo=tzutc()), 'definition': \"[{'ModelInference': {'models': [{'name': 'helper-model-replace', 'version': 'fec3642f-e990-4f44-aaa8-8ada296206bd', 'sha': 'ed6065a79d841f7e96307bb20d5ef22840f15da0b587efb51425c7ad60589d6a'}]}}]\"}"
      ]
     },
     "execution_count": 37,
     "metadata": {},
     "output_type": "execute_result"
    }
   ],
   "source": [
    "mainpipeline.undeploy()"
   ]
  },
  {
   "cell_type": "markdown",
   "id": "25378172-369c-4995-a05a-976c1bf297bc",
   "metadata": {},
   "source": [
    "## Get specific version and redeploy"
   ]
  },
  {
   "cell_type": "code",
   "execution_count": 39,
   "id": "5ce4dd27-a8c9-4a92-bea0-016090bd9550",
   "metadata": {},
   "outputs": [
    {
     "data": {
      "text/html": [
       "<table><tr><th>name</th><th>version</th><th>creation_time</th><th>last_updated_time</th><th>deployed</th><th>tags</th><th>steps</th></tr><tr><td>helper-demo-pipeline-1</td><td>adbda107-649f-447d-9b4f-91684b37cc37</td><td>2024-04-Apr 18:09:08</td><td>2024-04-Apr 18:09:08</td><td>False</td><td></td><td>helper-model-replace</td></tr><tr><td>helper-demo-pipeline-1</td><td>e2ff1174-05e8-4ea0-9a2d-e2759e6b1707</td><td>2024-04-Apr 18:04:54</td><td>2024-04-Apr 18:04:54</td><td>(unknown)</td><td></td><td>helper-demo-model-1</td></tr><tr><td>helper-demo-pipeline-1</td><td>1647a8bd-4ed8-45bc-a2b8-b14ace57e490</td><td>2024-04-Apr 18:04:09</td><td>2024-04-Apr 18:04:09</td><td>(unknown)</td><td></td><td></td></tr></table>"
      ],
      "text/plain": [
       "[<wallaroo.pipeline_version.PipelineVersion at 0x7dd9d8db76d0>,\n",
       " <wallaroo.pipeline_version.PipelineVersion at 0x7dda3c5d8970>,\n",
       " <wallaroo.pipeline_version.PipelineVersion at 0x7dd9d7c04b80>]"
      ]
     },
     "execution_count": 39,
     "metadata": {},
     "output_type": "execute_result"
    }
   ],
   "source": [
    "wl.search_pipelines(pipeline_name)"
   ]
  },
  {
   "cell_type": "code",
   "execution_count": 40,
   "id": "041c2823-0b30-43e5-98c8-c900c3032c59",
   "metadata": {},
   "outputs": [],
   "source": [
    "pipeline_with_version_set = wl.get_pipeline(name=pipeline_name, version=\"e2ff1174-05e8-4ea0-9a2d-e2759e6b1707\")"
   ]
  },
  {
   "cell_type": "code",
   "execution_count": 41,
   "id": "55dbe401-cf91-42ad-8707-d148f60e6fe8",
   "metadata": {},
   "outputs": [
    {
     "data": {
      "text/html": [
       "\n",
       "        <table>\n",
       "          <tr><td>name</td><td>helper-demo-pipeline-1</td></tr>\n",
       "          <tr><td>version</td><td>e2ff1174-05e8-4ea0-9a2d-e2759e6b1707</td></tr>\n",
       "          <tr><td>creation_time</td><td>2024-04-Apr 18:04:54</td></tr>\n",
       "          <tr><td>last_updated_time</td><td>2024-04-Apr 18:04:54</td></tr>\n",
       "          <tr><td>deployed</td><td>False</td></tr>\n",
       "          <tr><td>tags</td><td></td></tr>\n",
       "          <tr><td>steps</td><td>helper-demo-model-1</td></tr>\n",
       "        </table>\n",
       "        "
      ],
      "text/plain": [
       "<wallaroo.pipeline_version.PipelineVersion at 0x7dd9d7cf0a30>"
      ]
     },
     "execution_count": 41,
     "metadata": {},
     "output_type": "execute_result"
    }
   ],
   "source": [
    "pipeline_with_version_set._pipeline_version_to_deploy"
   ]
  },
  {
   "cell_type": "code",
   "execution_count": 42,
   "id": "579d0588-2d9b-4fa1-b724-3d974ab0a820",
   "metadata": {},
   "outputs": [
    {
     "name": "stdout",
     "output_type": "stream",
     "text": [
      "Waiting for deployment - this will take up to 45s .................. ok\n"
     ]
    },
    {
     "data": {
      "text/html": [
       "<table><tr><th>name</th> <td>helper-demo-pipeline-1</td></tr><tr><th>created</th> <td>2024-04-04 18:04:09.143113+00:00</td></tr><tr><th>last_updated</th> <td>2024-04-04 18:16:05.302849+00:00</td></tr><tr><th>deployed</th> <td>True</td></tr><tr><th>arch</th> <td>x86</td></tr><tr><th>accel</th> <td>none</td></tr><tr><th>tags</th> <td></td></tr><tr><th>versions</th> <td>94e9989c-4ce0-4d9e-9308-0fa77c6f4049, adbda107-649f-447d-9b4f-91684b37cc37, e2ff1174-05e8-4ea0-9a2d-e2759e6b1707, 1647a8bd-4ed8-45bc-a2b8-b14ace57e490</td></tr><tr><th>steps</th> <td>helper-demo-model-1</td></tr><tr><th>published</th> <td>False</td></tr></table>"
      ],
      "text/plain": [
       "{'name': 'helper-demo-pipeline-1', 'create_time': datetime.datetime(2024, 4, 4, 18, 4, 9, 143113, tzinfo=tzutc()), 'definition': \"[{'ModelInference': {'models': [{'name': 'helper-demo-model-1', 'version': '522e5e85-74f5-44d3-a734-4dfe2f70d790', 'sha': 'e22a0831aafd9917f3cc87a15ed267797f80e2afa12ad7d8810ca58f173b8cc6'}]}}]\"}"
      ]
     },
     "execution_count": 42,
     "metadata": {},
     "output_type": "execute_result"
    }
   ],
   "source": [
    "deploy_config = wallaroo.DeploymentConfigBuilder().cpus(0.25).memory(\"1Gi\").build()\n",
    "pipeline_with_version_set.deploy(deployment_config = deploy_config)"
   ]
  },
  {
   "cell_type": "code",
   "execution_count": 43,
   "id": "cfec77ff-bc7b-40dd-9556-1908dac423a2",
   "metadata": {},
   "outputs": [
    {
     "name": "stdout",
     "output_type": "stream",
     "text": [
      "Waiting for undeployment - this will take up to 45s .................................... ok\n"
     ]
    },
    {
     "data": {
      "text/html": [
       "<table><tr><th>name</th> <td>helper-demo-pipeline-1</td></tr><tr><th>created</th> <td>2024-04-04 18:04:09.143113+00:00</td></tr><tr><th>last_updated</th> <td>2024-04-04 18:16:05.302849+00:00</td></tr><tr><th>deployed</th> <td>False</td></tr><tr><th>arch</th> <td>x86</td></tr><tr><th>accel</th> <td>none</td></tr><tr><th>tags</th> <td></td></tr><tr><th>versions</th> <td>94e9989c-4ce0-4d9e-9308-0fa77c6f4049, adbda107-649f-447d-9b4f-91684b37cc37, e2ff1174-05e8-4ea0-9a2d-e2759e6b1707, 1647a8bd-4ed8-45bc-a2b8-b14ace57e490</td></tr><tr><th>steps</th> <td>helper-demo-model-1</td></tr><tr><th>published</th> <td>False</td></tr></table>"
      ],
      "text/plain": [
       "{'name': 'helper-demo-pipeline-1', 'create_time': datetime.datetime(2024, 4, 4, 18, 4, 9, 143113, tzinfo=tzutc()), 'definition': \"[{'ModelInference': {'models': [{'name': 'helper-demo-model-1', 'version': '522e5e85-74f5-44d3-a734-4dfe2f70d790', 'sha': 'e22a0831aafd9917f3cc87a15ed267797f80e2afa12ad7d8810ca58f173b8cc6'}]}}]\"}"
      ]
     },
     "execution_count": 43,
     "metadata": {},
     "output_type": "execute_result"
    }
   ],
   "source": [
    "pipeline_with_version_set.undeploy()"
   ]
  },
  {
   "cell_type": "code",
   "execution_count": null,
   "id": "6d94e538-9d88-4d93-b9f0-4a0fd8f13af3",
   "metadata": {},
   "outputs": [],
   "source": []
  }
 ],
 "metadata": {
  "kernelspec": {
   "display_name": "Python 3 (ipykernel)",
   "language": "python",
   "name": "python3"
  },
  "language_info": {
   "codemirror_mode": {
    "name": "ipython",
    "version": 3
   },
   "file_extension": ".py",
   "mimetype": "text/x-python",
   "name": "python",
   "nbconvert_exporter": "python",
   "pygments_lexer": "ipython3",
   "version": "3.9.13"
  }
 },
 "nbformat": 4,
 "nbformat_minor": 5
}
