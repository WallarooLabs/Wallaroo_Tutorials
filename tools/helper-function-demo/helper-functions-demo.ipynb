{
 "cells": [
  {
   "cell_type": "code",
   "execution_count": 1,
   "id": "82baa12b-52e3-4dd1-b1f6-8744024c7cc3",
   "metadata": {},
   "outputs": [],
   "source": [
    "import wallaroo\n",
    "from wallaroo.object import EntityNotFoundError\n",
    "from wallaroo.framework import Framework\n",
    "import pandas as pd"
   ]
  },
  {
   "cell_type": "code",
   "execution_count": 2,
   "id": "f9f9af18-1d39-4994-8af9-cd8b86a40fda",
   "metadata": {},
   "outputs": [],
   "source": [
    "# Login through local Wallaroo instance\n",
    "\n",
    "wl = wallaroo.Client()\n"
   ]
  },
  {
   "cell_type": "code",
   "execution_count": 3,
   "id": "d677e414-4c63-4e69-92a7-ca29f870e73e",
   "metadata": {},
   "outputs": [],
   "source": [
    "workspace_name=\"helper-demo-workspace-2\"\n",
    "pipeline_name=\"helper-demo-pipeline-1\"\n",
    "model_name=\"helper-demo-model-1\"\n",
    "model_file_name=\"./models/rf_model.onnx\""
   ]
  },
  {
   "cell_type": "markdown",
   "id": "070346ae-fbda-44ff-bb47-5c2806103589",
   "metadata": {},
   "source": [
    "## get_workspace"
   ]
  },
  {
   "cell_type": "code",
   "execution_count": 4,
   "id": "0ffebe26",
   "metadata": {},
   "outputs": [
    {
     "data": {
      "text/html": [
       "(no model versions)"
      ],
      "text/plain": [
       "[]"
      ]
     },
     "execution_count": 4,
     "metadata": {},
     "output_type": "execute_result"
    }
   ],
   "source": [
    "wl.search_model_versions(\"helper-demo-model-1\")"
   ]
  },
  {
   "cell_type": "code",
   "execution_count": 5,
   "id": "e82a2def",
   "metadata": {},
   "outputs": [
    {
     "data": {
      "text/html": [
       "(no model versions)"
      ],
      "text/plain": [
       "[]"
      ]
     },
     "execution_count": 5,
     "metadata": {},
     "output_type": "execute_result"
    }
   ],
   "source": [
    "wl.search_model_versions(\"helper-demo-model-1\", workspace_id=26)"
   ]
  },
  {
   "cell_type": "code",
   "execution_count": 6,
   "id": "c862794c",
   "metadata": {},
   "outputs": [
    {
     "data": {
      "text/html": [
       "(no model versions)"
      ],
      "text/plain": [
       "[]"
      ]
     },
     "execution_count": 6,
     "metadata": {},
     "output_type": "execute_result"
    }
   ],
   "source": [
    "wl.search_model_versions(\"helper-demo-model-1\", workspace_name=\"helper-demo-workspace-1\")"
   ]
  },
  {
   "cell_type": "markdown",
   "id": "ee663e50-7a28-4033-b52e-c38ed28a6f3d",
   "metadata": {},
   "source": [
    "### Error when workspace does not exist"
   ]
  },
  {
   "cell_type": "code",
   "execution_count": 7,
   "id": "95cf3e1e-bae3-4429-bf07-9140c198fa74",
   "metadata": {},
   "outputs": [
    {
     "ename": "Exception",
     "evalue": "Error: Workspace with name helper-demo-workspace-2 does not exist. If you would like to create one, send in the request with `create_if_not_exist` flag set to True.",
     "output_type": "error",
     "traceback": [
      "\u001b[0;31m---------------------------------------------------------------------------\u001b[0m",
      "\u001b[0;31mException\u001b[0m                                 Traceback (most recent call last)",
      "\u001b[0;32m/var/folders/rs/yt_dh9xn6y39_h0_jth1mjb40000gq/T/ipykernel_93324/1781751922.py\u001b[0m in \u001b[0;36m<module>\u001b[0;34m\u001b[0m\n\u001b[0;32m----> 1\u001b[0;31m \u001b[0mworkspace\u001b[0m \u001b[0;34m=\u001b[0m \u001b[0mwl\u001b[0m\u001b[0;34m.\u001b[0m\u001b[0mget_workspace\u001b[0m\u001b[0;34m(\u001b[0m\u001b[0mname\u001b[0m\u001b[0;34m=\u001b[0m\u001b[0mworkspace_name\u001b[0m\u001b[0;34m)\u001b[0m\u001b[0;34m\u001b[0m\u001b[0;34m\u001b[0m\u001b[0m\n\u001b[0m",
      "\u001b[0;32m~/.virtualenvs/wallaroosdk2024.2/lib/python3.8/site-packages/wallaroo/client.py\u001b[0m in \u001b[0;36mget_workspace\u001b[0;34m(self, name, create_if_not_exist)\u001b[0m\n\u001b[1;32m   2725\u001b[0m         \u001b[0;34m:\u001b[0m\u001b[0;32mreturn\u001b[0m\u001b[0;34m:\u001b[0m \u001b[0mThe\u001b[0m \u001b[0mworkspace\u001b[0m \u001b[0;32mwith\u001b[0m \u001b[0mthe\u001b[0m \u001b[0mgiven\u001b[0m \u001b[0mname\u001b[0m\u001b[0;34m.\u001b[0m\u001b[0;34m\u001b[0m\u001b[0;34m\u001b[0m\u001b[0m\n\u001b[1;32m   2726\u001b[0m         \"\"\"\n\u001b[0;32m-> 2727\u001b[0;31m         return Workspace.get_workspace(\n\u001b[0m\u001b[1;32m   2728\u001b[0m             \u001b[0mclient\u001b[0m\u001b[0;34m=\u001b[0m\u001b[0mself\u001b[0m\u001b[0;34m,\u001b[0m \u001b[0mname\u001b[0m\u001b[0;34m=\u001b[0m\u001b[0mname\u001b[0m\u001b[0;34m,\u001b[0m \u001b[0mcreate_if_not_exist\u001b[0m\u001b[0;34m=\u001b[0m\u001b[0mcreate_if_not_exist\u001b[0m\u001b[0;34m\u001b[0m\u001b[0;34m\u001b[0m\u001b[0m\n\u001b[1;32m   2729\u001b[0m         )\n",
      "\u001b[0;32m~/.virtualenvs/wallaroosdk2024.2/lib/python3.8/site-packages/wallaroo/workspace.py\u001b[0m in \u001b[0;36mget_workspace\u001b[0;34m(client, name, create_if_not_exist)\u001b[0m\n\u001b[1;32m    229\u001b[0m                 \u001b[0mworkspace\u001b[0m \u001b[0;34m=\u001b[0m \u001b[0mWorkspace\u001b[0m\u001b[0;34m.\u001b[0m\u001b[0m_create_workspace\u001b[0m\u001b[0;34m(\u001b[0m\u001b[0mclient\u001b[0m\u001b[0;34m,\u001b[0m \u001b[0mname\u001b[0m\u001b[0;34m)\u001b[0m\u001b[0;34m\u001b[0m\u001b[0;34m\u001b[0m\u001b[0m\n\u001b[1;32m    230\u001b[0m             \u001b[0;32melse\u001b[0m\u001b[0;34m:\u001b[0m\u001b[0;34m\u001b[0m\u001b[0;34m\u001b[0m\u001b[0m\n\u001b[0;32m--> 231\u001b[0;31m                 raise Exception(\n\u001b[0m\u001b[1;32m    232\u001b[0m                     \u001b[0;34mf\"Error: Workspace with name {name} does not exist.\"\u001b[0m\u001b[0;34m\u001b[0m\u001b[0;34m\u001b[0m\u001b[0m\n\u001b[1;32m    233\u001b[0m                     \u001b[0;34mf\" If you would like to create one, send in the request with `create_if_not_exist` flag set to True.\"\u001b[0m\u001b[0;34m\u001b[0m\u001b[0;34m\u001b[0m\u001b[0m\n",
      "\u001b[0;31mException\u001b[0m: Error: Workspace with name helper-demo-workspace-2 does not exist. If you would like to create one, send in the request with `create_if_not_exist` flag set to True."
     ]
    }
   ],
   "source": [
    "workspace = wl.get_workspace(name=workspace_name)"
   ]
  },
  {
   "cell_type": "markdown",
   "id": "bd959eaf-cbd3-4d79-96c7-cfc705e12acf",
   "metadata": {},
   "source": [
    "### Create new workspace with `create_if_not_exist` flag"
   ]
  },
  {
   "cell_type": "code",
   "execution_count": 8,
   "id": "4aa16878-72cf-48ec-9dd8-1c887fe29d28",
   "metadata": {},
   "outputs": [
    {
     "data": {
      "text/plain": [
       "{'name': 'helper-demo-workspace-2', 'id': 9, 'archived': False, 'created_by': 'db8299d1-ee3b-4ca1-bda1-9e616c5dad82', 'created_at': '2024-07-29T15:38:18.06432+00:00', 'models': [], 'pipelines': []}"
      ]
     },
     "execution_count": 8,
     "metadata": {},
     "output_type": "execute_result"
    }
   ],
   "source": [
    "workspace = wl.get_workspace(name=workspace_name, create_if_not_exist=True)\n",
    "workspace"
   ]
  },
  {
   "cell_type": "code",
   "execution_count": 9,
   "id": "58a764ab-17c2-47b1-98d3-54e12907bcb1",
   "metadata": {},
   "outputs": [
    {
     "data": {
      "text/plain": [
       "{'name': 'helper-demo-workspace-2', 'id': 9, 'archived': False, 'created_by': 'db8299d1-ee3b-4ca1-bda1-9e616c5dad82', 'created_at': '2024-07-29T15:38:18.06432+00:00', 'models': [], 'pipelines': []}"
      ]
     },
     "execution_count": 9,
     "metadata": {},
     "output_type": "execute_result"
    }
   ],
   "source": [
    "wl.set_current_workspace(workspace)"
   ]
  },
  {
   "cell_type": "markdown",
   "id": "8fd79506-fdb3-4d3a-a6d7-c08e307c6d62",
   "metadata": {},
   "source": [
    "### Return existing workspace"
   ]
  },
  {
   "cell_type": "code",
   "execution_count": 10,
   "id": "24e3611d-ea3a-4d60-aa7a-333dc3074f52",
   "metadata": {},
   "outputs": [
    {
     "data": {
      "text/plain": [
       "{'name': 'helper-demo-workspace-2', 'id': 9, 'archived': False, 'created_by': 'db8299d1-ee3b-4ca1-bda1-9e616c5dad82', 'created_at': '2024-07-29T15:38:18.06432+00:00', 'models': [], 'pipelines': []}"
      ]
     },
     "execution_count": 10,
     "metadata": {},
     "output_type": "execute_result"
    }
   ],
   "source": [
    "workspace = wl.get_workspace(name=workspace_name)\n",
    "workspace"
   ]
  },
  {
   "cell_type": "markdown",
   "id": "c7906839-063e-4f8f-b2c1-3e52c5052f6b",
   "metadata": {},
   "source": [
    "## create model and pipeline"
   ]
  },
  {
   "cell_type": "code",
   "execution_count": 11,
   "id": "05224e4d-b7c2-4561-983e-cfbe693d86bf",
   "metadata": {},
   "outputs": [],
   "source": [
    "helper_model = (wl.upload_model(model_name, \n",
    "                                        model_file_name, \n",
    "                                        framework=Framework.ONNX)\n",
    "                                        .configure(tensor_fields=[\"tensor\"])\n",
    "                        )"
   ]
  },
  {
   "cell_type": "code",
   "execution_count": 12,
   "id": "7427f8c6-bdd9-43f2-9b2b-357b8ae65180",
   "metadata": {},
   "outputs": [
    {
     "data": {
      "text/plain": [
       "'f3db1bee-b29f-4852-bcba-ac47a7ce6e6b'"
      ]
     },
     "execution_count": 12,
     "metadata": {},
     "output_type": "execute_result"
    }
   ],
   "source": [
    "helper_model.version()"
   ]
  },
  {
   "cell_type": "markdown",
   "id": "0aa739a0-6d5b-491d-9894-cfde61c80c84",
   "metadata": {},
   "source": [
    "## get_model"
   ]
  },
  {
   "cell_type": "markdown",
   "id": "081edfb0-2c59-4485-b70a-072493996fda",
   "metadata": {},
   "source": [
    "### Error when model not found"
   ]
  },
  {
   "cell_type": "code",
   "execution_count": 13,
   "id": "5fc6d9ad-33db-453d-b6a9-4266c9e62bd8",
   "metadata": {},
   "outputs": [
    {
     "ename": "Exception",
     "evalue": "Error: A model with the name no-such-model does not exist.",
     "output_type": "error",
     "traceback": [
      "\u001b[0;31m---------------------------------------------------------------------------\u001b[0m",
      "\u001b[0;31mException\u001b[0m                                 Traceback (most recent call last)",
      "\u001b[0;32m/var/folders/rs/yt_dh9xn6y39_h0_jth1mjb40000gq/T/ipykernel_93324/498292295.py\u001b[0m in \u001b[0;36m<module>\u001b[0;34m\u001b[0m\n\u001b[0;32m----> 1\u001b[0;31m \u001b[0mwl\u001b[0m\u001b[0;34m.\u001b[0m\u001b[0mget_model\u001b[0m\u001b[0;34m(\u001b[0m\u001b[0mname\u001b[0m\u001b[0;34m=\u001b[0m\u001b[0;34m\"no-such-model\"\u001b[0m\u001b[0;34m)\u001b[0m\u001b[0;34m\u001b[0m\u001b[0;34m\u001b[0m\u001b[0m\n\u001b[0m",
      "\u001b[0;32m~/.virtualenvs/wallaroosdk2024.2/lib/python3.8/site-packages/wallaroo/client.py\u001b[0m in \u001b[0;36mget_model\u001b[0;34m(self, name, version)\u001b[0m\n\u001b[1;32m   1388\u001b[0m         )\n\u001b[1;32m   1389\u001b[0m         \u001b[0;32mif\u001b[0m \u001b[0mmodel\u001b[0m \u001b[0;32mis\u001b[0m \u001b[0;32mNone\u001b[0m\u001b[0;34m:\u001b[0m\u001b[0;34m\u001b[0m\u001b[0;34m\u001b[0m\u001b[0m\n\u001b[0;32m-> 1390\u001b[0;31m             \u001b[0;32mraise\u001b[0m \u001b[0mException\u001b[0m\u001b[0;34m(\u001b[0m\u001b[0;34mf\"Error: A model with the name {name} does not exist.\"\u001b[0m\u001b[0;34m)\u001b[0m\u001b[0;34m\u001b[0m\u001b[0;34m\u001b[0m\u001b[0m\n\u001b[0m\u001b[1;32m   1391\u001b[0m         \u001b[0;32mif\u001b[0m \u001b[0mversion\u001b[0m \u001b[0;32mis\u001b[0m \u001b[0;32mnot\u001b[0m \u001b[0;32mNone\u001b[0m\u001b[0;34m:\u001b[0m\u001b[0;34m\u001b[0m\u001b[0;34m\u001b[0m\u001b[0m\n\u001b[1;32m   1392\u001b[0m             model_version = next(\n",
      "\u001b[0;31mException\u001b[0m: Error: A model with the name no-such-model does not exist."
     ]
    }
   ],
   "source": [
    "wl.get_model(name=\"no-such-model\")"
   ]
  },
  {
   "cell_type": "code",
   "execution_count": 14,
   "id": "5e670125-30b1-413f-b470-d62a65762272",
   "metadata": {},
   "outputs": [
    {
     "data": {
      "text/html": [
       "<table>\n",
       "        <tr>\n",
       "          <td>Name</td>\n",
       "          <td>helper-demo-model-1</td>\n",
       "        </tr>\n",
       "        <tr>\n",
       "          <td>Version</td>\n",
       "          <td>f3db1bee-b29f-4852-bcba-ac47a7ce6e6b</td>\n",
       "        </tr>\n",
       "        <tr>\n",
       "          <td>File Name</td>\n",
       "          <td>rf_model.onnx</td>\n",
       "        </tr>\n",
       "        <tr>\n",
       "          <td>SHA</td>\n",
       "          <td>e22a0831aafd9917f3cc87a15ed267797f80e2afa12ad7d8810ca58f173b8cc6</td>\n",
       "        </tr>\n",
       "        <tr>\n",
       "          <td>Status</td>\n",
       "          <td>ready</td>\n",
       "        </tr>\n",
       "        <tr>\n",
       "          <td>Image Path</td>\n",
       "          <td>None</td>\n",
       "        </tr>\n",
       "        <tr>\n",
       "          <td>Architecture</td>\n",
       "          <td>x86</td>\n",
       "        </tr>\n",
       "        <tr>\n",
       "          <td>Acceleration</td>\n",
       "          <td>none</td>\n",
       "        </tr>\n",
       "        <tr>\n",
       "          <td>Updated At</td>\n",
       "          <td>2024-29-Jul 15:38:22</td>\n",
       "        </tr>\n",
       "        <tr>\n",
       "          <td>Workspace id</td>\n",
       "          <td>9</td>\n",
       "        </tr>\n",
       "        <tr>\n",
       "          <td>Workspace name</td>\n",
       "          <td>helper-demo-workspace-2</td>\n",
       "        </tr>\n",
       "      </table>"
      ],
      "text/plain": [
       "{'name': 'helper-demo-model-1', 'version': 'f3db1bee-b29f-4852-bcba-ac47a7ce6e6b', 'file_name': 'rf_model.onnx', 'image_path': None, 'arch': 'x86', 'accel': 'none', 'last_update_time': datetime.datetime(2024, 7, 29, 15, 38, 22, 277189, tzinfo=tzutc())}"
      ]
     },
     "metadata": {},
     "output_type": "display_data"
    }
   ],
   "source": [
    "model = wl.get_model(name=model_name)\n",
    "display(model)"
   ]
  },
  {
   "cell_type": "code",
   "execution_count": 15,
   "id": "98bb2d81",
   "metadata": {},
   "outputs": [],
   "source": [
    "model_version = wl.get_model(name=model_name).version()"
   ]
  },
  {
   "cell_type": "code",
   "execution_count": 16,
   "id": "213fa2bf-c9c3-4f24-a7c4-8dcc936a7a45",
   "metadata": {},
   "outputs": [
    {
     "ename": "Exception",
     "evalue": "Error: A model with the version no-such-version not found in this workspace.",
     "output_type": "error",
     "traceback": [
      "\u001b[0;31m---------------------------------------------------------------------------\u001b[0m",
      "\u001b[0;31mException\u001b[0m                                 Traceback (most recent call last)",
      "\u001b[0;32m/var/folders/rs/yt_dh9xn6y39_h0_jth1mjb40000gq/T/ipykernel_93324/3669316954.py\u001b[0m in \u001b[0;36m<module>\u001b[0;34m\u001b[0m\n\u001b[0;32m----> 1\u001b[0;31m \u001b[0mwl\u001b[0m\u001b[0;34m.\u001b[0m\u001b[0mget_model\u001b[0m\u001b[0;34m(\u001b[0m\u001b[0mname\u001b[0m\u001b[0;34m=\u001b[0m\u001b[0mmodel_name\u001b[0m\u001b[0;34m,\u001b[0m \u001b[0mversion\u001b[0m\u001b[0;34m=\u001b[0m\u001b[0;34m\"no-such-version\"\u001b[0m\u001b[0;34m)\u001b[0m\u001b[0;34m\u001b[0m\u001b[0;34m\u001b[0m\u001b[0m\n\u001b[0m",
      "\u001b[0;32m~/.virtualenvs/wallaroosdk2024.2/lib/python3.8/site-packages/wallaroo/client.py\u001b[0m in \u001b[0;36mget_model\u001b[0;34m(self, name, version)\u001b[0m\n\u001b[1;32m   1396\u001b[0m                 \u001b[0;32mreturn\u001b[0m \u001b[0mmodel_version\u001b[0m\u001b[0;34m\u001b[0m\u001b[0;34m\u001b[0m\u001b[0m\n\u001b[1;32m   1397\u001b[0m             \u001b[0;32melse\u001b[0m\u001b[0;34m:\u001b[0m\u001b[0;34m\u001b[0m\u001b[0;34m\u001b[0m\u001b[0m\n\u001b[0;32m-> 1398\u001b[0;31m                 raise Exception(\n\u001b[0m\u001b[1;32m   1399\u001b[0m                     \u001b[0;34mf\"Error: A model with the version {version} not found in this workspace.\"\u001b[0m\u001b[0;34m\u001b[0m\u001b[0;34m\u001b[0m\u001b[0m\n\u001b[1;32m   1400\u001b[0m                 )\n",
      "\u001b[0;31mException\u001b[0m: Error: A model with the version no-such-version not found in this workspace."
     ]
    }
   ],
   "source": [
    "wl.get_model(name=model_name, version=\"no-such-version\")"
   ]
  },
  {
   "cell_type": "code",
   "execution_count": 17,
   "id": "86d7a2f8-12b0-4243-a7e0-69b90a462b82",
   "metadata": {},
   "outputs": [
    {
     "data": {
      "text/html": [
       "<table>\n",
       "        <tr>\n",
       "          <td>Name</td>\n",
       "          <td>helper-demo-model-1</td>\n",
       "        </tr>\n",
       "        <tr>\n",
       "          <td>Version</td>\n",
       "          <td>f3db1bee-b29f-4852-bcba-ac47a7ce6e6b</td>\n",
       "        </tr>\n",
       "        <tr>\n",
       "          <td>File Name</td>\n",
       "          <td>rf_model.onnx</td>\n",
       "        </tr>\n",
       "        <tr>\n",
       "          <td>SHA</td>\n",
       "          <td>e22a0831aafd9917f3cc87a15ed267797f80e2afa12ad7d8810ca58f173b8cc6</td>\n",
       "        </tr>\n",
       "        <tr>\n",
       "          <td>Status</td>\n",
       "          <td>ready</td>\n",
       "        </tr>\n",
       "        <tr>\n",
       "          <td>Image Path</td>\n",
       "          <td>None</td>\n",
       "        </tr>\n",
       "        <tr>\n",
       "          <td>Architecture</td>\n",
       "          <td>x86</td>\n",
       "        </tr>\n",
       "        <tr>\n",
       "          <td>Acceleration</td>\n",
       "          <td>none</td>\n",
       "        </tr>\n",
       "        <tr>\n",
       "          <td>Updated At</td>\n",
       "          <td>2024-29-Jul 15:38:22</td>\n",
       "        </tr>\n",
       "        <tr>\n",
       "          <td>Workspace id</td>\n",
       "          <td>9</td>\n",
       "        </tr>\n",
       "        <tr>\n",
       "          <td>Workspace name</td>\n",
       "          <td>helper-demo-workspace-2</td>\n",
       "        </tr>\n",
       "      </table>"
      ],
      "text/plain": [
       "{'name': 'helper-demo-model-1', 'version': 'f3db1bee-b29f-4852-bcba-ac47a7ce6e6b', 'file_name': 'rf_model.onnx', 'image_path': None, 'arch': 'x86', 'accel': 'none', 'last_update_time': datetime.datetime(2024, 7, 29, 15, 38, 22, 277189, tzinfo=tzutc())}"
      ]
     },
     "execution_count": 17,
     "metadata": {},
     "output_type": "execute_result"
    }
   ],
   "source": [
    "model_1 = wl.get_model(name=model_name, version=model_version)\n",
    "model_1"
   ]
  },
  {
   "cell_type": "markdown",
   "id": "ce3670f2-a057-45f6-bf6d-2fdd9fa5bf68",
   "metadata": {},
   "source": [
    "## get_pipeline"
   ]
  },
  {
   "cell_type": "code",
   "execution_count": 18,
   "id": "d259646d-42b4-420f-a7cd-d5cb2ffc5ab8",
   "metadata": {},
   "outputs": [
    {
     "data": {
      "text/html": [
       "<table><tr><th>name</th> <td>helper-demo-pipeline-1</td></tr><tr><th>created</th> <td>2024-07-29 15:38:30.152051+00:00</td></tr><tr><th>last_updated</th> <td>2024-07-29 15:38:30.152051+00:00</td></tr><tr><th>deployed</th> <td>(none)</td></tr><tr><th>workspace_id</th> <td>9</td></tr><tr><th>workspace_name</th> <td>helper-demo-workspace-2</td></tr><tr><th>arch</th> <td>None</td></tr><tr><th>accel</th> <td>None</td></tr><tr><th>tags</th> <td></td></tr><tr><th>versions</th> <td>084330f4-f19c-473a-ac00-c334ad08c9df</td></tr><tr><th>steps</th> <td></td></tr><tr><th>published</th> <td>False</td></tr></table>"
      ],
      "text/plain": [
       "{'name': 'helper-demo-pipeline-1', 'create_time': datetime.datetime(2024, 7, 29, 15, 38, 30, 152051, tzinfo=tzutc()), 'definition': '[]'}"
      ]
     },
     "execution_count": 18,
     "metadata": {},
     "output_type": "execute_result"
    }
   ],
   "source": [
    "pipeline = wl.build_pipeline(pipeline_name)\n",
    "pipeline"
   ]
  },
  {
   "cell_type": "markdown",
   "id": "5facc575-7935-491b-9c87-27b80ca23f01",
   "metadata": {},
   "source": [
    "### Error when pipeline doesn't exist"
   ]
  },
  {
   "cell_type": "code",
   "execution_count": 19,
   "id": "286a2eea-c064-467c-bb9e-0ad81767ed51",
   "metadata": {},
   "outputs": [
    {
     "ename": "Exception",
     "evalue": "Pipeline no-such-pipeline not found in this workspace.",
     "output_type": "error",
     "traceback": [
      "\u001b[0;31m---------------------------------------------------------------------------\u001b[0m",
      "\u001b[0;31mException\u001b[0m                                 Traceback (most recent call last)",
      "\u001b[0;32m/var/folders/rs/yt_dh9xn6y39_h0_jth1mjb40000gq/T/ipykernel_93324/1835144440.py\u001b[0m in \u001b[0;36m<module>\u001b[0;34m\u001b[0m\n\u001b[0;32m----> 1\u001b[0;31m \u001b[0mwl\u001b[0m\u001b[0;34m.\u001b[0m\u001b[0mget_pipeline\u001b[0m\u001b[0;34m(\u001b[0m\u001b[0mname\u001b[0m\u001b[0;34m=\u001b[0m\u001b[0;34m\"no-such-pipeline\"\u001b[0m\u001b[0;34m)\u001b[0m\u001b[0;34m\u001b[0m\u001b[0;34m\u001b[0m\u001b[0m\n\u001b[0m",
      "\u001b[0;32m~/.virtualenvs/wallaroosdk2024.2/lib/python3.8/site-packages/wallaroo/client.py\u001b[0m in \u001b[0;36mget_pipeline\u001b[0;34m(self, name, version)\u001b[0m\n\u001b[1;32m   1651\u001b[0m         )\n\u001b[1;32m   1652\u001b[0m         \u001b[0;32mif\u001b[0m \u001b[0mpipeline\u001b[0m \u001b[0;32mis\u001b[0m \u001b[0;32mNone\u001b[0m\u001b[0;34m:\u001b[0m\u001b[0;34m\u001b[0m\u001b[0;34m\u001b[0m\u001b[0m\n\u001b[0;32m-> 1653\u001b[0;31m             \u001b[0;32mraise\u001b[0m \u001b[0mException\u001b[0m\u001b[0;34m(\u001b[0m\u001b[0;34mf\"Pipeline {name} not found in this workspace.\"\u001b[0m\u001b[0;34m)\u001b[0m\u001b[0;34m\u001b[0m\u001b[0;34m\u001b[0m\u001b[0m\n\u001b[0m\u001b[1;32m   1654\u001b[0m         \u001b[0;32mif\u001b[0m \u001b[0mversion\u001b[0m \u001b[0;32mis\u001b[0m \u001b[0;32mnot\u001b[0m \u001b[0;32mNone\u001b[0m\u001b[0;34m:\u001b[0m\u001b[0;34m\u001b[0m\u001b[0;34m\u001b[0m\u001b[0m\n\u001b[1;32m   1655\u001b[0m             pipeline_version = next(\n",
      "\u001b[0;31mException\u001b[0m: Pipeline no-such-pipeline not found in this workspace."
     ]
    }
   ],
   "source": [
    "wl.get_pipeline(name=\"no-such-pipeline\")"
   ]
  },
  {
   "cell_type": "code",
   "execution_count": 20,
   "id": "2425b4f8-cecd-405f-a524-ccd72d9fe407",
   "metadata": {},
   "outputs": [
    {
     "data": {
      "text/html": [
       "<table><tr><th>name</th> <td>helper-demo-pipeline-1</td></tr><tr><th>created</th> <td>2024-07-29 15:38:30.152051+00:00</td></tr><tr><th>last_updated</th> <td>2024-07-29 15:38:30.152051+00:00</td></tr><tr><th>deployed</th> <td>(none)</td></tr><tr><th>workspace_id</th> <td>9</td></tr><tr><th>workspace_name</th> <td>helper-demo-workspace-2</td></tr><tr><th>arch</th> <td>None</td></tr><tr><th>accel</th> <td>None</td></tr><tr><th>tags</th> <td></td></tr><tr><th>versions</th> <td>084330f4-f19c-473a-ac00-c334ad08c9df</td></tr><tr><th>steps</th> <td></td></tr><tr><th>published</th> <td>False</td></tr></table>"
      ],
      "text/plain": [
       "{'name': 'helper-demo-pipeline-1', 'create_time': datetime.datetime(2024, 7, 29, 15, 38, 30, 152051, tzinfo=tzutc()), 'definition': '[]'}"
      ]
     },
     "execution_count": 20,
     "metadata": {},
     "output_type": "execute_result"
    }
   ],
   "source": [
    "wl.get_pipeline(name=pipeline_name)"
   ]
  },
  {
   "cell_type": "code",
   "execution_count": 24,
   "id": "ad1f9ed2",
   "metadata": {},
   "outputs": [
    {
     "data": {
      "text/html": [
       "\n",
       "        <table>\n",
       "          <tr><td>name</td><td>helper-demo-pipeline-1</td></tr>\n",
       "          <tr><td>version</td><td>084330f4-f19c-473a-ac00-c334ad08c9df</td></tr>\n",
       "          <tr><td>creation_time</td><td>2024-29-Jul 15:38:30</td></tr>\n",
       "          <tr><td>last_updated_time</td><td>2024-29-Jul 15:38:30</td></tr>\n",
       "          <tr><td>deployed</td><td>False</td></tr>\n",
       "          <tr><td>tags</td><td></td></tr>\n",
       "          <tr><td>steps</td><td></td></tr>\n",
       "        </table>\n",
       "        "
      ],
      "text/plain": [
       "<wallaroo.pipeline_version.PipelineVersion at 0x17750c370>"
      ]
     },
     "execution_count": 24,
     "metadata": {},
     "output_type": "execute_result"
    }
   ],
   "source": [
    "pipeline_version = wl.get_pipeline(name=pipeline_name).versions()[0]\n",
    "pipeline_version"
   ]
  },
  {
   "cell_type": "code",
   "execution_count": 33,
   "id": "d4a9b12b",
   "metadata": {},
   "outputs": [
    {
     "data": {
      "text/plain": [
       "'084330f4-f19c-473a-ac00-c334ad08c9df'"
      ]
     },
     "execution_count": 33,
     "metadata": {},
     "output_type": "execute_result"
    }
   ],
   "source": [
    "pipeline_version_id = pipeline_version._name\n",
    "pipeline_version_id"
   ]
  },
  {
   "cell_type": "markdown",
   "id": "7e9696b8-ee64-413f-99e6-03edfcde3c5b",
   "metadata": {},
   "source": [
    "### Error when version doesn't exist"
   ]
  },
  {
   "cell_type": "code",
   "execution_count": 22,
   "id": "eea9e257-1615-4389-8bc4-ab75473c59ed",
   "metadata": {},
   "outputs": [
    {
     "ename": "Exception",
     "evalue": "Pipeline version no-such-version not found in this workspace.",
     "output_type": "error",
     "traceback": [
      "\u001b[0;31m---------------------------------------------------------------------------\u001b[0m",
      "\u001b[0;31mException\u001b[0m                                 Traceback (most recent call last)",
      "\u001b[0;32m/var/folders/rs/yt_dh9xn6y39_h0_jth1mjb40000gq/T/ipykernel_93324/2171664880.py\u001b[0m in \u001b[0;36m<module>\u001b[0;34m\u001b[0m\n\u001b[0;32m----> 1\u001b[0;31m \u001b[0mwl\u001b[0m\u001b[0;34m.\u001b[0m\u001b[0mget_pipeline\u001b[0m\u001b[0;34m(\u001b[0m\u001b[0mname\u001b[0m\u001b[0;34m=\u001b[0m\u001b[0mpipeline_name\u001b[0m\u001b[0;34m,\u001b[0m \u001b[0mversion\u001b[0m\u001b[0;34m=\u001b[0m\u001b[0;34m\"no-such-version\"\u001b[0m\u001b[0;34m)\u001b[0m\u001b[0;34m\u001b[0m\u001b[0;34m\u001b[0m\u001b[0m\n\u001b[0m",
      "\u001b[0;32m~/.virtualenvs/wallaroosdk2024.2/lib/python3.8/site-packages/wallaroo/client.py\u001b[0m in \u001b[0;36mget_pipeline\u001b[0;34m(self, name, version)\u001b[0m\n\u001b[1;32m   1660\u001b[0m                 \u001b[0;32mreturn\u001b[0m \u001b[0mpipeline\u001b[0m\u001b[0;34m\u001b[0m\u001b[0;34m\u001b[0m\u001b[0m\n\u001b[1;32m   1661\u001b[0m             \u001b[0;32melse\u001b[0m\u001b[0;34m:\u001b[0m\u001b[0;34m\u001b[0m\u001b[0;34m\u001b[0m\u001b[0m\n\u001b[0;32m-> 1662\u001b[0;31m                 raise Exception(\n\u001b[0m\u001b[1;32m   1663\u001b[0m                     \u001b[0;34mf\"Pipeline version {version} not found in this workspace.\"\u001b[0m\u001b[0;34m\u001b[0m\u001b[0;34m\u001b[0m\u001b[0m\n\u001b[1;32m   1664\u001b[0m                 )\n",
      "\u001b[0;31mException\u001b[0m: Pipeline version no-such-version not found in this workspace."
     ]
    }
   ],
   "source": [
    "wl.get_pipeline(name=pipeline_name, version=\"no-such-version\")"
   ]
  },
  {
   "cell_type": "code",
   "execution_count": 34,
   "id": "1a55308d-6ef7-4821-b2d0-2fa230ce2254",
   "metadata": {},
   "outputs": [
    {
     "data": {
      "text/html": [
       "<table><tr><th>name</th> <td>helper-demo-pipeline-1</td></tr><tr><th>created</th> <td>2024-07-29 15:38:30.152051+00:00</td></tr><tr><th>last_updated</th> <td>2024-07-29 15:38:30.152051+00:00</td></tr><tr><th>deployed</th> <td>(none)</td></tr><tr><th>workspace_id</th> <td>9</td></tr><tr><th>workspace_name</th> <td>helper-demo-workspace-2</td></tr><tr><th>arch</th> <td>None</td></tr><tr><th>accel</th> <td>None</td></tr><tr><th>tags</th> <td></td></tr><tr><th>versions</th> <td>084330f4-f19c-473a-ac00-c334ad08c9df</td></tr><tr><th>steps</th> <td></td></tr><tr><th>published</th> <td>False</td></tr></table>"
      ],
      "text/plain": [
       "{'name': 'helper-demo-pipeline-1', 'create_time': datetime.datetime(2024, 7, 29, 15, 38, 30, 152051, tzinfo=tzutc()), 'definition': '[]'}"
      ]
     },
     "execution_count": 34,
     "metadata": {},
     "output_type": "execute_result"
    }
   ],
   "source": [
    "wl.get_pipeline(name=pipeline_name, version=pipeline_version_id)"
   ]
  },
  {
   "cell_type": "markdown",
   "id": "67eaf282-8a3e-4f8b-8f65-f18f46b6a4c4",
   "metadata": {},
   "source": [
    "### use returned model and pipeline from get_model / get_pipeline"
   ]
  },
  {
   "cell_type": "code",
   "execution_count": 35,
   "id": "a705b978-8005-48da-b94c-cea0a70c4d5a",
   "metadata": {},
   "outputs": [
    {
     "data": {
      "text/html": [
       "<table><tr><th>name</th> <td>helper-demo-pipeline-1</td></tr><tr><th>created</th> <td>2024-07-29 15:38:30.152051+00:00</td></tr><tr><th>last_updated</th> <td>2024-07-29 15:38:30.152051+00:00</td></tr><tr><th>deployed</th> <td>(none)</td></tr><tr><th>workspace_id</th> <td>9</td></tr><tr><th>workspace_name</th> <td>helper-demo-workspace-2</td></tr><tr><th>arch</th> <td>None</td></tr><tr><th>accel</th> <td>None</td></tr><tr><th>tags</th> <td></td></tr><tr><th>versions</th> <td>084330f4-f19c-473a-ac00-c334ad08c9df</td></tr><tr><th>steps</th> <td></td></tr><tr><th>published</th> <td>False</td></tr></table>"
      ],
      "text/plain": [
       "{'name': 'helper-demo-pipeline-1', 'create_time': datetime.datetime(2024, 7, 29, 15, 38, 30, 152051, tzinfo=tzutc()), 'definition': \"[{'ModelInference': {'models': [{'name': 'helper-demo-model-1', 'version': 'f3db1bee-b29f-4852-bcba-ac47a7ce6e6b', 'sha': 'e22a0831aafd9917f3cc87a15ed267797f80e2afa12ad7d8810ca58f173b8cc6'}]}}]\"}"
      ]
     },
     "execution_count": 35,
     "metadata": {},
     "output_type": "execute_result"
    }
   ],
   "source": [
    "mainpipeline = wl.get_pipeline(name=pipeline_name)\n",
    "mainpipeline.clear()\n",
    "\n",
    "model_1 = wl.get_model(name=model_name)\n",
    "mainpipeline.add_model_step(model_1)\n",
    "mainpipeline"
   ]
  },
  {
   "cell_type": "code",
   "execution_count": 38,
   "id": "cfd341dd-a862-47ad-906f-98948d725329",
   "metadata": {},
   "outputs": [
    {
     "data": {
      "text/html": [
       "<table><tr><th>name</th> <td>helper-demo-pipeline-1</td></tr><tr><th>created</th> <td>2024-07-29 15:38:30.152051+00:00</td></tr><tr><th>last_updated</th> <td>2024-07-29 15:46:51.751491+00:00</td></tr><tr><th>deployed</th> <td>True</td></tr><tr><th>workspace_id</th> <td>9</td></tr><tr><th>workspace_name</th> <td>helper-demo-workspace-2</td></tr><tr><th>arch</th> <td>x86</td></tr><tr><th>accel</th> <td>none</td></tr><tr><th>tags</th> <td></td></tr><tr><th>versions</th> <td>72b907a1-74ee-43ad-9e37-f3edf3a0f7fe, 29ca55a0-da90-4ec5-9ca6-01f3583d0f55, 084330f4-f19c-473a-ac00-c334ad08c9df</td></tr><tr><th>steps</th> <td>helper-demo-model-1</td></tr><tr><th>published</th> <td>False</td></tr></table>"
      ],
      "text/plain": [
       "{'name': 'helper-demo-pipeline-1', 'create_time': datetime.datetime(2024, 7, 29, 15, 38, 30, 152051, tzinfo=tzutc()), 'definition': \"[{'ModelInference': {'models': [{'name': 'helper-demo-model-1', 'version': 'f3db1bee-b29f-4852-bcba-ac47a7ce6e6b', 'sha': 'e22a0831aafd9917f3cc87a15ed267797f80e2afa12ad7d8810ca58f173b8cc6'}]}}]\"}"
      ]
     },
     "execution_count": 38,
     "metadata": {},
     "output_type": "execute_result"
    }
   ],
   "source": [
    "deploy_config = wallaroo.DeploymentConfigBuilder().cpus(0.25).memory(\"1Gi\").build()\n",
    "mainpipeline.deploy(deployment_config = deploy_config)"
   ]
  },
  {
   "cell_type": "code",
   "execution_count": 37,
   "id": "1c9f3019-75ac-4153-ae60-78c432fa2daf",
   "metadata": {},
   "outputs": [
    {
     "data": {
      "text/plain": [
       "{'status': 'Running',\n",
       " 'details': [],\n",
       " 'engines': [{'ip': '10.28.1.4',\n",
       "   'name': 'engine-568bd5fb44-529f2',\n",
       "   'status': 'Running',\n",
       "   'reason': None,\n",
       "   'details': [],\n",
       "   'pipeline_statuses': {'pipelines': [{'id': 'helper-demo-pipeline-1',\n",
       "      'status': 'Running',\n",
       "      'version': '29ca55a0-da90-4ec5-9ca6-01f3583d0f55'}]},\n",
       "   'model_statuses': {'models': [{'name': 'helper-demo-model-1',\n",
       "      'sha': 'e22a0831aafd9917f3cc87a15ed267797f80e2afa12ad7d8810ca58f173b8cc6',\n",
       "      'status': 'Running',\n",
       "      'version': 'f3db1bee-b29f-4852-bcba-ac47a7ce6e6b'}]}}],\n",
       " 'engine_lbs': [{'ip': '10.28.1.2',\n",
       "   'name': 'engine-lb-6b59985857-cps5w',\n",
       "   'status': 'Running',\n",
       "   'reason': None,\n",
       "   'details': []}],\n",
       " 'sidekicks': []}"
      ]
     },
     "execution_count": 37,
     "metadata": {},
     "output_type": "execute_result"
    }
   ],
   "source": [
    "mainpipeline.status()"
   ]
  },
  {
   "cell_type": "code",
   "execution_count": 39,
   "id": "ba1e0fba-e0c1-46a5-b929-045333e71784",
   "metadata": {},
   "outputs": [
    {
     "data": {
      "text/html": [
       "<div>\n",
       "<style scoped>\n",
       "    .dataframe tbody tr th:only-of-type {\n",
       "        vertical-align: middle;\n",
       "    }\n",
       "\n",
       "    .dataframe tbody tr th {\n",
       "        vertical-align: top;\n",
       "    }\n",
       "\n",
       "    .dataframe thead th {\n",
       "        text-align: right;\n",
       "    }\n",
       "</style>\n",
       "<table border=\"1\" class=\"dataframe\">\n",
       "  <thead>\n",
       "    <tr style=\"text-align: right;\">\n",
       "      <th></th>\n",
       "      <th>time</th>\n",
       "      <th>in.tensor</th>\n",
       "      <th>out.variable</th>\n",
       "      <th>anomaly.count</th>\n",
       "    </tr>\n",
       "  </thead>\n",
       "  <tbody>\n",
       "    <tr>\n",
       "      <th>0</th>\n",
       "      <td>2024-07-29 15:46:57.732</td>\n",
       "      <td>[4.0, 2.5, 2900.0, 5505.0, 2.0, 0.0, 0.0, 3.0,...</td>\n",
       "      <td>[718013.7]</td>\n",
       "      <td>0</td>\n",
       "    </tr>\n",
       "  </tbody>\n",
       "</table>\n",
       "</div>"
      ],
      "text/plain": [
       "                     time                                          in.tensor  \\\n",
       "0 2024-07-29 15:46:57.732  [4.0, 2.5, 2900.0, 5505.0, 2.0, 0.0, 0.0, 3.0,...   \n",
       "\n",
       "  out.variable  anomaly.count  \n",
       "0   [718013.7]              0  "
      ]
     },
     "metadata": {},
     "output_type": "display_data"
    }
   ],
   "source": [
    "normal_input = pd.DataFrame.from_records({\"tensor\": [[4.0, 2.5, 2900.0, 5505.0, 2.0, 0.0, 0.0, 3.0, 8.0, 2900.0, 0.0, 47.6063, -122.02, 2970.0, 5251.0, 12.0, 0.0, 0.0]]})\n",
    "result = mainpipeline.infer(normal_input)\n",
    "display(result)"
   ]
  },
  {
   "cell_type": "code",
   "execution_count": 40,
   "id": "b242f951-90d4-4c08-9f95-a984fa966ccf",
   "metadata": {},
   "outputs": [
    {
     "data": {
      "text/plain": [
       "[<wallaroo.pipeline_version.PipelineVersion at 0x10624ba90>,\n",
       " <wallaroo.pipeline_version.PipelineVersion at 0x176ff1310>,\n",
       " <wallaroo.pipeline_version.PipelineVersion at 0x176ff12b0>]"
      ]
     },
     "execution_count": 40,
     "metadata": {},
     "output_type": "execute_result"
    }
   ],
   "source": [
    "mainpipeline.versions()"
   ]
  },
  {
   "cell_type": "code",
   "execution_count": 41,
   "id": "10382f4e-2654-4123-9d2e-a9ddd2e757b0",
   "metadata": {},
   "outputs": [
    {
     "data": {
      "text/html": [
       "<table><tr><th>name</th> <td>helper-demo-pipeline-1</td></tr><tr><th>created</th> <td>2024-07-29 15:38:30.152051+00:00</td></tr><tr><th>last_updated</th> <td>2024-07-29 15:46:51.751491+00:00</td></tr><tr><th>deployed</th> <td>False</td></tr><tr><th>workspace_id</th> <td>9</td></tr><tr><th>workspace_name</th> <td>helper-demo-workspace-2</td></tr><tr><th>arch</th> <td>x86</td></tr><tr><th>accel</th> <td>none</td></tr><tr><th>tags</th> <td></td></tr><tr><th>versions</th> <td>72b907a1-74ee-43ad-9e37-f3edf3a0f7fe, 29ca55a0-da90-4ec5-9ca6-01f3583d0f55, 084330f4-f19c-473a-ac00-c334ad08c9df</td></tr><tr><th>steps</th> <td>helper-demo-model-1</td></tr><tr><th>published</th> <td>False</td></tr></table>"
      ],
      "text/plain": [
       "{'name': 'helper-demo-pipeline-1', 'create_time': datetime.datetime(2024, 7, 29, 15, 38, 30, 152051, tzinfo=tzutc()), 'definition': \"[{'ModelInference': {'models': [{'name': 'helper-demo-model-1', 'version': 'f3db1bee-b29f-4852-bcba-ac47a7ce6e6b', 'sha': 'e22a0831aafd9917f3cc87a15ed267797f80e2afa12ad7d8810ca58f173b8cc6'}]}}]\"}"
      ]
     },
     "execution_count": 41,
     "metadata": {},
     "output_type": "execute_result"
    }
   ],
   "source": [
    "mainpipeline.undeploy()"
   ]
  },
  {
   "cell_type": "markdown",
   "id": "038f21ba-08d1-4b10-9f17-a9d610fb4fda",
   "metadata": {},
   "source": [
    "### Get existing pipeline version and redeploy that specific version"
   ]
  },
  {
   "cell_type": "markdown",
   "id": "a7b0d6d7-c91d-4333-8fd0-e9f294bbfe19",
   "metadata": {},
   "source": [
    "#### Creating new versions"
   ]
  },
  {
   "cell_type": "code",
   "execution_count": 42,
   "id": "d0c60b04-adc4-4e70-bb2d-572c4a2f2b14",
   "metadata": {},
   "outputs": [
    {
     "data": {
      "text/html": [
       "<table>\n",
       "        <tr>\n",
       "          <td>Name</td>\n",
       "          <td>helper-model-replace</td>\n",
       "        </tr>\n",
       "        <tr>\n",
       "          <td>Version</td>\n",
       "          <td>42b85a68-2a2e-46e5-9b4c-76415ce15d07</td>\n",
       "        </tr>\n",
       "        <tr>\n",
       "          <td>File Name</td>\n",
       "          <td>gbr_model.onnx</td>\n",
       "        </tr>\n",
       "        <tr>\n",
       "          <td>SHA</td>\n",
       "          <td>ed6065a79d841f7e96307bb20d5ef22840f15da0b587efb51425c7ad60589d6a</td>\n",
       "        </tr>\n",
       "        <tr>\n",
       "          <td>Status</td>\n",
       "          <td>ready</td>\n",
       "        </tr>\n",
       "        <tr>\n",
       "          <td>Image Path</td>\n",
       "          <td>None</td>\n",
       "        </tr>\n",
       "        <tr>\n",
       "          <td>Architecture</td>\n",
       "          <td>x86</td>\n",
       "        </tr>\n",
       "        <tr>\n",
       "          <td>Acceleration</td>\n",
       "          <td>none</td>\n",
       "        </tr>\n",
       "        <tr>\n",
       "          <td>Updated At</td>\n",
       "          <td>2024-29-Jul 15:47:39</td>\n",
       "        </tr>\n",
       "        <tr>\n",
       "          <td>Workspace id</td>\n",
       "          <td>9</td>\n",
       "        </tr>\n",
       "        <tr>\n",
       "          <td>Workspace name</td>\n",
       "          <td>helper-demo-workspace-2</td>\n",
       "        </tr>\n",
       "      </table>"
      ],
      "text/plain": [
       "{'name': 'helper-model-replace', 'version': '42b85a68-2a2e-46e5-9b4c-76415ce15d07', 'file_name': 'gbr_model.onnx', 'image_path': None, 'arch': 'x86', 'accel': 'none', 'last_update_time': datetime.datetime(2024, 7, 29, 15, 47, 39, 533644, tzinfo=tzutc())}"
      ]
     },
     "execution_count": 42,
     "metadata": {},
     "output_type": "execute_result"
    }
   ],
   "source": [
    "new_model = (wl.upload_model(\"helper-model-replace\", \n",
    "                             \"./models/gbr_model.onnx\", \n",
    "                             framework=Framework.ONNX)\n",
    "                             .configure(tensor_fields=[\"tensor\"])\n",
    "                        )\n",
    "new_model"
   ]
  },
  {
   "cell_type": "code",
   "execution_count": 43,
   "id": "392d4b6d-8f1a-4b63-b843-156eff446ddb",
   "metadata": {},
   "outputs": [
    {
     "data": {
      "text/plain": [
       "[{'ModelInference': {'models': [{'name': 'helper-model-replace', 'version': '42b85a68-2a2e-46e5-9b4c-76415ce15d07', 'sha': 'ed6065a79d841f7e96307bb20d5ef22840f15da0b587efb51425c7ad60589d6a'}]}}]"
      ]
     },
     "execution_count": 43,
     "metadata": {},
     "output_type": "execute_result"
    }
   ],
   "source": [
    "pipeline.clear()\n",
    "pipeline.add_model_step(new_model)\n",
    "pipeline.steps()"
   ]
  },
  {
   "cell_type": "code",
   "execution_count": 44,
   "id": "e84d7010-b779-4b4a-a6bc-f7ddde427536",
   "metadata": {},
   "outputs": [
    {
     "data": {
      "text/html": [
       "<table><tr><th>name</th> <td>helper-demo-pipeline-1</td></tr><tr><th>created</th> <td>2024-07-29 15:38:30.152051+00:00</td></tr><tr><th>last_updated</th> <td>2024-07-29 15:47:40.501743+00:00</td></tr><tr><th>deployed</th> <td>True</td></tr><tr><th>workspace_id</th> <td>9</td></tr><tr><th>workspace_name</th> <td>helper-demo-workspace-2</td></tr><tr><th>arch</th> <td>x86</td></tr><tr><th>accel</th> <td>none</td></tr><tr><th>tags</th> <td></td></tr><tr><th>versions</th> <td>ed74510b-3c51-4b24-abb7-71ee9f069f2a, 72b907a1-74ee-43ad-9e37-f3edf3a0f7fe, 29ca55a0-da90-4ec5-9ca6-01f3583d0f55, 084330f4-f19c-473a-ac00-c334ad08c9df</td></tr><tr><th>steps</th> <td>helper-model-replace</td></tr><tr><th>published</th> <td>False</td></tr></table>"
      ],
      "text/plain": [
       "{'name': 'helper-demo-pipeline-1', 'create_time': datetime.datetime(2024, 7, 29, 15, 38, 30, 152051, tzinfo=tzutc()), 'definition': \"[{'ModelInference': {'models': [{'name': 'helper-model-replace', 'version': '42b85a68-2a2e-46e5-9b4c-76415ce15d07', 'sha': 'ed6065a79d841f7e96307bb20d5ef22840f15da0b587efb51425c7ad60589d6a'}]}}]\"}"
      ]
     },
     "execution_count": 44,
     "metadata": {},
     "output_type": "execute_result"
    }
   ],
   "source": [
    "deploy_config = wallaroo.DeploymentConfigBuilder().cpus(0.25).memory(\"1Gi\").build()\n",
    "pipeline.deploy(deployment_config = deploy_config)"
   ]
  },
  {
   "cell_type": "code",
   "execution_count": 45,
   "id": "a2038e95-42a6-4741-8f67-62f3a02ead04",
   "metadata": {},
   "outputs": [
    {
     "data": {
      "text/html": [
       "<table><tr><th>name</th> <td>helper-demo-pipeline-1</td></tr><tr><th>created</th> <td>2024-07-29 15:38:30.152051+00:00</td></tr><tr><th>last_updated</th> <td>2024-07-29 15:46:51.751491+00:00</td></tr><tr><th>deployed</th> <td>False</td></tr><tr><th>workspace_id</th> <td>9</td></tr><tr><th>workspace_name</th> <td>helper-demo-workspace-2</td></tr><tr><th>arch</th> <td>x86</td></tr><tr><th>accel</th> <td>none</td></tr><tr><th>tags</th> <td></td></tr><tr><th>versions</th> <td>72b907a1-74ee-43ad-9e37-f3edf3a0f7fe, 29ca55a0-da90-4ec5-9ca6-01f3583d0f55, 084330f4-f19c-473a-ac00-c334ad08c9df</td></tr><tr><th>steps</th> <td>helper-model-replace</td></tr><tr><th>published</th> <td>False</td></tr></table>"
      ],
      "text/plain": [
       "{'name': 'helper-demo-pipeline-1', 'create_time': datetime.datetime(2024, 7, 29, 15, 38, 30, 152051, tzinfo=tzutc()), 'definition': \"[{'ModelInference': {'models': [{'name': 'helper-demo-model-1', 'version': 'f3db1bee-b29f-4852-bcba-ac47a7ce6e6b', 'sha': 'e22a0831aafd9917f3cc87a15ed267797f80e2afa12ad7d8810ca58f173b8cc6'}]}}]\"}"
      ]
     },
     "execution_count": 45,
     "metadata": {},
     "output_type": "execute_result"
    }
   ],
   "source": [
    "mainpipeline.undeploy()"
   ]
  },
  {
   "cell_type": "markdown",
   "id": "25378172-369c-4995-a05a-976c1bf297bc",
   "metadata": {},
   "source": [
    "## Get specific version and redeploy"
   ]
  },
  {
   "cell_type": "code",
   "execution_count": 46,
   "id": "23b31fa3",
   "metadata": {},
   "outputs": [
    {
     "data": {
      "text/plain": [
       "{'name': 'helper-demo-workspace-2', 'id': 9, 'archived': False, 'created_by': 'db8299d1-ee3b-4ca1-bda1-9e616c5dad82', 'created_at': '2024-07-29T15:38:18.06432+00:00', 'models': [{'name': 'helper-demo-model-1', 'versions': 1, 'owner_id': '\"\"', 'last_update_time': datetime.datetime(2024, 7, 29, 15, 38, 22, 277189, tzinfo=tzutc()), 'created_at': datetime.datetime(2024, 7, 29, 15, 38, 22, 277189, tzinfo=tzutc())}, {'name': 'helper-model-replace', 'versions': 1, 'owner_id': '\"\"', 'last_update_time': datetime.datetime(2024, 7, 29, 15, 47, 39, 533644, tzinfo=tzutc()), 'created_at': datetime.datetime(2024, 7, 29, 15, 47, 39, 533644, tzinfo=tzutc())}], 'pipelines': [{'name': 'helper-demo-pipeline-1', 'create_time': datetime.datetime(2024, 7, 29, 15, 38, 30, 152051, tzinfo=tzutc()), 'definition': '[]'}]}"
      ]
     },
     "execution_count": 46,
     "metadata": {},
     "output_type": "execute_result"
    }
   ],
   "source": [
    "workspace"
   ]
  },
  {
   "cell_type": "code",
   "execution_count": 47,
   "id": "5ce4dd27-a8c9-4a92-bea0-016090bd9550",
   "metadata": {},
   "outputs": [
    {
     "data": {
      "text/html": [
       "<table><tr><th>name</th><th>version</th><th>creation_time</th><th>last_updated_time</th><th>deployed</th><th>workspace_id</th><th>workspace_name</th><th>tags</th><th>steps</th></tr><tr><td>helper-demo-pipeline-1</td><td>ed74510b-3c51-4b24-abb7-71ee9f069f2a</td><td>2024-29-Jul 15:47:40</td><td>2024-29-Jul 15:47:40</td><td>False</td><td>9</td><td>helper-demo-workspace-2</td><td></td><td>helper-model-replace</td></tr><tr><td>helper-demo-pipeline-1</td><td>72b907a1-74ee-43ad-9e37-f3edf3a0f7fe</td><td>2024-29-Jul 15:46:51</td><td>2024-29-Jul 15:46:51</td><td>(unknown)</td><td>9</td><td>helper-demo-workspace-2</td><td></td><td>helper-demo-model-1</td></tr><tr><td>helper-demo-pipeline-1</td><td>29ca55a0-da90-4ec5-9ca6-01f3583d0f55</td><td>2024-29-Jul 15:40:25</td><td>2024-29-Jul 15:40:25</td><td>(unknown)</td><td>9</td><td>helper-demo-workspace-2</td><td></td><td>helper-demo-model-1</td></tr><tr><td>helper-demo-pipeline-1</td><td>084330f4-f19c-473a-ac00-c334ad08c9df</td><td>2024-29-Jul 15:38:30</td><td>2024-29-Jul 15:38:30</td><td>(unknown)</td><td>9</td><td>helper-demo-workspace-2</td><td></td><td></td></tr></table>"
      ],
      "text/plain": [
       "[<wallaroo.pipeline_version.PipelineVersion at 0x177633940>,\n",
       " <wallaroo.pipeline_version.PipelineVersion at 0x177633040>,\n",
       " <wallaroo.pipeline_version.PipelineVersion at 0x17763e940>,\n",
       " <wallaroo.pipeline_version.PipelineVersion at 0x1768010d0>]"
      ]
     },
     "execution_count": 47,
     "metadata": {},
     "output_type": "execute_result"
    }
   ],
   "source": [
    "wl.search_pipelines(search_term=pipeline_name, workspace_name=workspace_name)"
   ]
  },
  {
   "cell_type": "code",
   "execution_count": 48,
   "id": "a4ae8eec",
   "metadata": {},
   "outputs": [
    {
     "data": {
      "text/html": [
       "<table><tr><th>name</th><th>version</th><th>creation_time</th><th>last_updated_time</th><th>deployed</th><th>workspace_id</th><th>workspace_name</th><th>tags</th><th>steps</th></tr><tr><td>helper-demo-pipeline-1</td><td>ed74510b-3c51-4b24-abb7-71ee9f069f2a</td><td>2024-29-Jul 15:47:40</td><td>2024-29-Jul 15:47:40</td><td>False</td><td>9</td><td>helper-demo-workspace-2</td><td></td><td>helper-model-replace</td></tr><tr><td>helper-demo-pipeline-1</td><td>72b907a1-74ee-43ad-9e37-f3edf3a0f7fe</td><td>2024-29-Jul 15:46:51</td><td>2024-29-Jul 15:46:51</td><td>(unknown)</td><td>9</td><td>helper-demo-workspace-2</td><td></td><td>helper-demo-model-1</td></tr><tr><td>helper-demo-pipeline-1</td><td>29ca55a0-da90-4ec5-9ca6-01f3583d0f55</td><td>2024-29-Jul 15:40:25</td><td>2024-29-Jul 15:40:25</td><td>(unknown)</td><td>9</td><td>helper-demo-workspace-2</td><td></td><td>helper-demo-model-1</td></tr><tr><td>helper-demo-pipeline-1</td><td>084330f4-f19c-473a-ac00-c334ad08c9df</td><td>2024-29-Jul 15:38:30</td><td>2024-29-Jul 15:38:30</td><td>(unknown)</td><td>9</td><td>helper-demo-workspace-2</td><td></td><td></td></tr></table>"
      ],
      "text/plain": [
       "[<wallaroo.pipeline_version.PipelineVersion at 0x17681dac0>,\n",
       " <wallaroo.pipeline_version.PipelineVersion at 0x17681dd60>,\n",
       " <wallaroo.pipeline_version.PipelineVersion at 0x17681d5b0>,\n",
       " <wallaroo.pipeline_version.PipelineVersion at 0x1768013d0>]"
      ]
     },
     "execution_count": 48,
     "metadata": {},
     "output_type": "execute_result"
    }
   ],
   "source": [
    "wl.search_pipelines(search_term=pipeline_name, workspace_id=9)"
   ]
  },
  {
   "cell_type": "code",
   "execution_count": 49,
   "id": "2c4c2322",
   "metadata": {},
   "outputs": [
    {
     "data": {
      "text/html": [
       "<table><tr><th>name</th><th>version</th><th>creation_time</th><th>last_updated_time</th><th>deployed</th><th>workspace_id</th><th>workspace_name</th><th>tags</th><th>steps</th></tr><tr><td>helper-demo-pipeline-1</td><td>ed74510b-3c51-4b24-abb7-71ee9f069f2a</td><td>2024-29-Jul 15:47:40</td><td>2024-29-Jul 15:47:40</td><td>False</td><td>9</td><td>helper-demo-workspace-2</td><td></td><td>helper-model-replace</td></tr><tr><td>helper-demo-pipeline-1</td><td>72b907a1-74ee-43ad-9e37-f3edf3a0f7fe</td><td>2024-29-Jul 15:46:51</td><td>2024-29-Jul 15:46:51</td><td>(unknown)</td><td>9</td><td>helper-demo-workspace-2</td><td></td><td>helper-demo-model-1</td></tr><tr><td>helper-demo-pipeline-1</td><td>29ca55a0-da90-4ec5-9ca6-01f3583d0f55</td><td>2024-29-Jul 15:40:25</td><td>2024-29-Jul 15:40:25</td><td>(unknown)</td><td>9</td><td>helper-demo-workspace-2</td><td></td><td>helper-demo-model-1</td></tr><tr><td>helper-demo-pipeline-1</td><td>084330f4-f19c-473a-ac00-c334ad08c9df</td><td>2024-29-Jul 15:38:30</td><td>2024-29-Jul 15:38:30</td><td>(unknown)</td><td>9</td><td>helper-demo-workspace-2</td><td></td><td></td></tr><tr><td>tagtestpipeline</td><td>b95151d8-35b6-47fc-9a3e-8cb2b8005687</td><td>2024-26-Jul 17:54:13</td><td>2024-26-Jul 17:54:13</td><td>(unknown)</td><td>8</td><td>tagtestworkspace</td><td></td><td></td></tr><tr><td>tagtestpipeline</td><td>98e48177-2c95-4ea4-a996-5747d9aa7d7b</td><td>2024-26-Jul 17:51:57</td><td>2024-26-Jul 17:51:57</td><td>(unknown)</td><td>8</td><td>tagtestworkspace</td><td></td><td></td></tr><tr><td>tagtestpipeline</td><td>2c4db874-0f07-4e30-82ad-43cf1d4073a0</td><td>2024-26-Jul 17:49:50</td><td>2024-26-Jul 17:49:50</td><td>(unknown)</td><td>8</td><td>tagtestworkspace</td><td></td><td></td></tr><tr><td>housing-pipe</td><td>ac0f3d0c-4b7b-4249-a72f-faaa58b393ea</td><td>2024-26-Jul 16:11:39</td><td>2024-26-Jul 16:11:39</td><td>False</td><td>7</td><td>housepricing</td><td></td><td>housepricemodel, preprocess-step, postprocess-step</td></tr><tr><td>housing-pipe</td><td>d4dc06b3-f28d-454a-be72-9d12dd30c6c2</td><td>2024-26-Jul 16:09:32</td><td>2024-26-Jul 16:09:32</td><td>(unknown)</td><td>7</td><td>housepricing</td><td></td><td>preprocess-step, housepricemodel, postprocess-step</td></tr><tr><td>housing-pipe</td><td>d610c4f2-5c05-41d6-b727-36c2dc21a04a</td><td>2024-26-Jul 16:03:54</td><td>2024-26-Jul 16:03:54</td><td>(unknown)</td><td>7</td><td>housepricing</td><td></td><td>preprocess-step, housepricemodel, postprocess-step</td></tr><tr><td>housing-pipe</td><td>5e5547d8-a722-4000-9aa8-ceca8eee589e</td><td>2024-26-Jul 16:03:54</td><td>2024-26-Jul 16:03:54</td><td>(unknown)</td><td>7</td><td>housepricing</td><td></td><td></td></tr></table>"
      ],
      "text/plain": [
       "[<wallaroo.pipeline_version.PipelineVersion at 0x177500bb0>,\n",
       " <wallaroo.pipeline_version.PipelineVersion at 0x177500250>,\n",
       " <wallaroo.pipeline_version.PipelineVersion at 0x1776a0ac0>,\n",
       " <wallaroo.pipeline_version.PipelineVersion at 0x1767f8a60>,\n",
       " <wallaroo.pipeline_version.PipelineVersion at 0x17766f8e0>,\n",
       " <wallaroo.pipeline_version.PipelineVersion at 0x177686af0>,\n",
       " <wallaroo.pipeline_version.PipelineVersion at 0x17681d9d0>,\n",
       " <wallaroo.pipeline_version.PipelineVersion at 0x17681df70>,\n",
       " <wallaroo.pipeline_version.PipelineVersion at 0x17769bf40>,\n",
       " <wallaroo.pipeline_version.PipelineVersion at 0x17769b7c0>,\n",
       " <wallaroo.pipeline_version.PipelineVersion at 0x17769bdf0>]"
      ]
     },
     "execution_count": 49,
     "metadata": {},
     "output_type": "execute_result"
    }
   ],
   "source": [
    "wl.search_pipelines()"
   ]
  },
  {
   "cell_type": "markdown",
   "id": "13d2622d",
   "metadata": {},
   "source": [
    "pipelines_by_name"
   ]
  },
  {
   "cell_type": "code",
   "execution_count": 50,
   "id": "aa9e7e15",
   "metadata": {},
   "outputs": [
    {
     "data": {
      "text/html": [
       "<table><tr><th>name</th><th>created</th><th>last_updated</th><th>deployed</th><th>workspace_id</th><th>workspace_name</th><th>arch</th><th>accel</th><th>tags</th><th>versions</th><th>steps</th><th>published</th></tr><tr><td>helper-demo-pipeline-1</td><td>2024-29-Jul 15:38:30</td><td>2024-29-Jul 15:47:40</td><td>False</td><td>9</td><td>helper-demo-workspace-2</td><td>x86</td><td>none</td><td></td><td>ed74510b-3c51-4b24-abb7-71ee9f069f2a, 72b907a1-74ee-43ad-9e37-f3edf3a0f7fe, 29ca55a0-da90-4ec5-9ca6-01f3583d0f55, 084330f4-f19c-473a-ac00-c334ad08c9df</td><td>helper-model-replace</td><td>False</td></tr></table>"
      ],
      "text/plain": [
       "[{'name': 'helper-demo-pipeline-1', 'create_time': datetime.datetime(2024, 7, 29, 15, 38, 30, 152051, tzinfo=tzutc()), 'definition': '[]'}]"
      ]
     },
     "execution_count": 50,
     "metadata": {},
     "output_type": "execute_result"
    }
   ],
   "source": [
    "wl.pipelines_by_name(pipeline_name=pipeline_name)"
   ]
  },
  {
   "cell_type": "code",
   "execution_count": 51,
   "id": "239501f7",
   "metadata": {},
   "outputs": [
    {
     "data": {
      "text/html": [
       "<table><tr><th>name</th><th>created</th><th>last_updated</th><th>deployed</th><th>workspace_id</th><th>workspace_name</th><th>arch</th><th>accel</th><th>tags</th><th>versions</th><th>steps</th><th>published</th></tr><tr><td>helper-demo-pipeline-1</td><td>2024-29-Jul 15:38:30</td><td>2024-29-Jul 15:47:40</td><td>False</td><td>9</td><td>helper-demo-workspace-2</td><td>x86</td><td>none</td><td></td><td>ed74510b-3c51-4b24-abb7-71ee9f069f2a, 72b907a1-74ee-43ad-9e37-f3edf3a0f7fe, 29ca55a0-da90-4ec5-9ca6-01f3583d0f55, 084330f4-f19c-473a-ac00-c334ad08c9df</td><td>helper-model-replace</td><td>False</td></tr></table>"
      ],
      "text/plain": [
       "[{'name': 'helper-demo-pipeline-1', 'create_time': datetime.datetime(2024, 7, 29, 15, 38, 30, 152051, tzinfo=tzutc()), 'definition': '[]'}]"
      ]
     },
     "execution_count": 51,
     "metadata": {},
     "output_type": "execute_result"
    }
   ],
   "source": [
    "wl.pipelines_by_name(pipeline_name=pipeline_name, workspace_id=9)"
   ]
  },
  {
   "cell_type": "code",
   "execution_count": 52,
   "id": "babcdbe4",
   "metadata": {},
   "outputs": [
    {
     "data": {
      "text/html": [
       "<table><tr><th>name</th><th>created</th><th>last_updated</th><th>deployed</th><th>workspace_id</th><th>workspace_name</th><th>arch</th><th>accel</th><th>tags</th><th>versions</th><th>steps</th><th>published</th></tr><tr><td>helper-demo-pipeline-1</td><td>2024-29-Jul 15:38:30</td><td>2024-29-Jul 15:47:40</td><td>False</td><td>9</td><td>helper-demo-workspace-2</td><td>x86</td><td>none</td><td></td><td>ed74510b-3c51-4b24-abb7-71ee9f069f2a, 72b907a1-74ee-43ad-9e37-f3edf3a0f7fe, 29ca55a0-da90-4ec5-9ca6-01f3583d0f55, 084330f4-f19c-473a-ac00-c334ad08c9df</td><td>helper-model-replace</td><td>False</td></tr></table>"
      ],
      "text/plain": [
       "[{'name': 'helper-demo-pipeline-1', 'create_time': datetime.datetime(2024, 7, 29, 15, 38, 30, 152051, tzinfo=tzutc()), 'definition': '[]'}]"
      ]
     },
     "execution_count": 52,
     "metadata": {},
     "output_type": "execute_result"
    }
   ],
   "source": [
    "wl.pipelines_by_name(pipeline_name=pipeline_name, workspace_name=workspace_name)"
   ]
  },
  {
   "cell_type": "code",
   "execution_count": 56,
   "id": "3bc09af1",
   "metadata": {},
   "outputs": [
    {
     "data": {
      "text/plain": [
       "'084330f4-f19c-473a-ac00-c334ad08c9df'"
      ]
     },
     "execution_count": 56,
     "metadata": {},
     "output_type": "execute_result"
    }
   ],
   "source": [
    "pipeline_version_id"
   ]
  },
  {
   "cell_type": "code",
   "execution_count": 65,
   "id": "041c2823-0b30-43e5-98c8-c900c3032c59",
   "metadata": {},
   "outputs": [
    {
     "data": {
      "text/html": [
       "<table><tr><th>name</th> <td>helper-demo-pipeline-1</td></tr><tr><th>created</th> <td>2024-07-29 15:38:30.152051+00:00</td></tr><tr><th>last_updated</th> <td>2024-07-29 15:47:40.501743+00:00</td></tr><tr><th>deployed</th> <td>False</td></tr><tr><th>workspace_id</th> <td>9</td></tr><tr><th>workspace_name</th> <td>helper-demo-workspace-2</td></tr><tr><th>arch</th> <td>x86</td></tr><tr><th>accel</th> <td>none</td></tr><tr><th>tags</th> <td></td></tr><tr><th>versions</th> <td>ed74510b-3c51-4b24-abb7-71ee9f069f2a, 72b907a1-74ee-43ad-9e37-f3edf3a0f7fe, 29ca55a0-da90-4ec5-9ca6-01f3583d0f55, 084330f4-f19c-473a-ac00-c334ad08c9df</td></tr><tr><th>steps</th> <td>helper-model-replace</td></tr><tr><th>published</th> <td>False</td></tr></table>"
      ],
      "text/plain": [
       "{'name': 'helper-demo-pipeline-1', 'create_time': datetime.datetime(2024, 7, 29, 15, 38, 30, 152051, tzinfo=tzutc()), 'definition': '[]'}"
      ]
     },
     "execution_count": 65,
     "metadata": {},
     "output_type": "execute_result"
    }
   ],
   "source": [
    "pipeline_with_version_set = wl.get_pipeline(name=pipeline_name, version=\"29ca55a0-da90-4ec5-9ca6-01f3583d0f55\")\n",
    "pipeline_with_version_set"
   ]
  },
  {
   "cell_type": "code",
   "execution_count": 67,
   "id": "55dbe401-cf91-42ad-8707-d148f60e6fe8",
   "metadata": {},
   "outputs": [
    {
     "data": {
      "text/html": [
       "<table><tr><th>name</th> <td>helper-demo-pipeline-1</td></tr><tr><th>created</th> <td>2024-07-29 15:38:30.152051+00:00</td></tr><tr><th>last_updated</th> <td>2024-07-29 15:47:40.501743+00:00</td></tr><tr><th>deployed</th> <td>False</td></tr><tr><th>workspace_id</th> <td>9</td></tr><tr><th>workspace_name</th> <td>helper-demo-workspace-2</td></tr><tr><th>arch</th> <td>x86</td></tr><tr><th>accel</th> <td>none</td></tr><tr><th>tags</th> <td></td></tr><tr><th>versions</th> <td>ed74510b-3c51-4b24-abb7-71ee9f069f2a, 72b907a1-74ee-43ad-9e37-f3edf3a0f7fe, 29ca55a0-da90-4ec5-9ca6-01f3583d0f55, 084330f4-f19c-473a-ac00-c334ad08c9df</td></tr><tr><th>steps</th> <td>helper-model-replace</td></tr><tr><th>published</th> <td>False</td></tr></table>"
      ],
      "text/plain": [
       "{'name': 'helper-demo-pipeline-1', 'create_time': datetime.datetime(2024, 7, 29, 15, 38, 30, 152051, tzinfo=tzutc()), 'definition': \"[{'ModelInference': {'models': [{'name': 'helper-model-replace', 'version': '42b85a68-2a2e-46e5-9b4c-76415ce15d07', 'sha': 'ed6065a79d841f7e96307bb20d5ef22840f15da0b587efb51425c7ad60589d6a'}]}}]\"}"
      ]
     },
     "execution_count": 67,
     "metadata": {},
     "output_type": "execute_result"
    }
   ],
   "source": [
    "pipeline_with_version_set.add_model_step(new_model)"
   ]
  },
  {
   "cell_type": "code",
   "execution_count": 68,
   "id": "579d0588-2d9b-4fa1-b724-3d974ab0a820",
   "metadata": {},
   "outputs": [
    {
     "data": {
      "text/html": [
       "<table><tr><th>name</th> <td>helper-demo-pipeline-1</td></tr><tr><th>created</th> <td>2024-07-29 15:38:30.152051+00:00</td></tr><tr><th>last_updated</th> <td>2024-07-29 15:54:36.177376+00:00</td></tr><tr><th>deployed</th> <td>True</td></tr><tr><th>workspace_id</th> <td>9</td></tr><tr><th>workspace_name</th> <td>helper-demo-workspace-2</td></tr><tr><th>arch</th> <td>x86</td></tr><tr><th>accel</th> <td>none</td></tr><tr><th>tags</th> <td></td></tr><tr><th>versions</th> <td>37c3d9ec-93aa-4b69-9092-3f49fb496a78, ed74510b-3c51-4b24-abb7-71ee9f069f2a, 72b907a1-74ee-43ad-9e37-f3edf3a0f7fe, 29ca55a0-da90-4ec5-9ca6-01f3583d0f55, 084330f4-f19c-473a-ac00-c334ad08c9df</td></tr><tr><th>steps</th> <td>helper-model-replace</td></tr><tr><th>published</th> <td>False</td></tr></table>"
      ],
      "text/plain": [
       "{'name': 'helper-demo-pipeline-1', 'create_time': datetime.datetime(2024, 7, 29, 15, 38, 30, 152051, tzinfo=tzutc()), 'definition': \"[{'ModelInference': {'models': [{'name': 'helper-model-replace', 'version': '42b85a68-2a2e-46e5-9b4c-76415ce15d07', 'sha': 'ed6065a79d841f7e96307bb20d5ef22840f15da0b587efb51425c7ad60589d6a'}]}}]\"}"
      ]
     },
     "execution_count": 68,
     "metadata": {},
     "output_type": "execute_result"
    }
   ],
   "source": [
    "deploy_config = wallaroo.DeploymentConfigBuilder().cpus(0.25).memory(\"1Gi\").build()\n",
    "pipeline_with_version_set.deploy(deployment_config = deploy_config)"
   ]
  },
  {
   "cell_type": "code",
   "execution_count": 69,
   "id": "ef6b13c6",
   "metadata": {},
   "outputs": [
    {
     "data": {
      "text/plain": [
       "{'status': 'Running',\n",
       " 'details': [],\n",
       " 'engines': [{'ip': '10.28.1.10',\n",
       "   'name': 'engine-f56cc86c-2f6kh',\n",
       "   'status': 'Running',\n",
       "   'reason': None,\n",
       "   'details': [],\n",
       "   'pipeline_statuses': {'pipelines': [{'id': 'helper-demo-pipeline-1',\n",
       "      'status': 'Running',\n",
       "      'version': '37c3d9ec-93aa-4b69-9092-3f49fb496a78'}]},\n",
       "   'model_statuses': {'models': [{'name': 'helper-model-replace',\n",
       "      'sha': 'ed6065a79d841f7e96307bb20d5ef22840f15da0b587efb51425c7ad60589d6a',\n",
       "      'status': 'Running',\n",
       "      'version': '42b85a68-2a2e-46e5-9b4c-76415ce15d07'}]}}],\n",
       " 'engine_lbs': [{'ip': '10.28.1.9',\n",
       "   'name': 'engine-lb-6b59985857-d6d8m',\n",
       "   'status': 'Running',\n",
       "   'reason': None,\n",
       "   'details': []}],\n",
       " 'sidekicks': []}"
      ]
     },
     "execution_count": 69,
     "metadata": {},
     "output_type": "execute_result"
    }
   ],
   "source": [
    "pipeline_with_version_set.status()"
   ]
  },
  {
   "cell_type": "code",
   "execution_count": 70,
   "id": "cfec77ff-bc7b-40dd-9556-1908dac423a2",
   "metadata": {},
   "outputs": [
    {
     "data": {
      "text/html": [
       "<table><tr><th>name</th> <td>helper-demo-pipeline-1</td></tr><tr><th>created</th> <td>2024-07-29 15:38:30.152051+00:00</td></tr><tr><th>last_updated</th> <td>2024-07-29 15:54:36.177376+00:00</td></tr><tr><th>deployed</th> <td>False</td></tr><tr><th>workspace_id</th> <td>9</td></tr><tr><th>workspace_name</th> <td>helper-demo-workspace-2</td></tr><tr><th>arch</th> <td>x86</td></tr><tr><th>accel</th> <td>none</td></tr><tr><th>tags</th> <td></td></tr><tr><th>versions</th> <td>37c3d9ec-93aa-4b69-9092-3f49fb496a78, ed74510b-3c51-4b24-abb7-71ee9f069f2a, 72b907a1-74ee-43ad-9e37-f3edf3a0f7fe, 29ca55a0-da90-4ec5-9ca6-01f3583d0f55, 084330f4-f19c-473a-ac00-c334ad08c9df</td></tr><tr><th>steps</th> <td>helper-model-replace</td></tr><tr><th>published</th> <td>False</td></tr></table>"
      ],
      "text/plain": [
       "{'name': 'helper-demo-pipeline-1', 'create_time': datetime.datetime(2024, 7, 29, 15, 38, 30, 152051, tzinfo=tzutc()), 'definition': \"[{'ModelInference': {'models': [{'name': 'helper-model-replace', 'version': '42b85a68-2a2e-46e5-9b4c-76415ce15d07', 'sha': 'ed6065a79d841f7e96307bb20d5ef22840f15da0b587efb51425c7ad60589d6a'}]}}]\"}"
      ]
     },
     "execution_count": 70,
     "metadata": {},
     "output_type": "execute_result"
    }
   ],
   "source": [
    "pipeline_with_version_set.undeploy()"
   ]
  },
  {
   "cell_type": "code",
   "execution_count": 71,
   "id": "6d94e538-9d88-4d93-b9f0-4a0fd8f13af3",
   "metadata": {},
   "outputs": [
    {
     "data": {
      "text/html": [
       "<table><tr><th>name</th><th>created</th><th>last_updated</th><th>deployed</th><th>workspace_id</th><th>workspace_name</th><th>arch</th><th>accel</th><th>tags</th><th>versions</th><th>steps</th><th>published</th></tr><tr><td>housing-pipe</td><td>2024-26-Jul 16:03:54</td><td>2024-26-Jul 16:11:39</td><td>False</td><td>7</td><td>housepricing</td><td>x86</td><td>none</td><td></td><td>ac0f3d0c-4b7b-4249-a72f-faaa58b393ea, d4dc06b3-f28d-454a-be72-9d12dd30c6c2, d610c4f2-5c05-41d6-b727-36c2dc21a04a, 5e5547d8-a722-4000-9aa8-ceca8eee589e</td><td>housepricemodel</td><td>False</td></tr><tr><td>tagtestpipeline</td><td>2024-26-Jul 17:49:50</td><td>2024-26-Jul 17:54:13</td><td>(unknown)</td><td>8</td><td>tagtestworkspace</td><td>None</td><td>None</td><td></td><td>b95151d8-35b6-47fc-9a3e-8cb2b8005687, 98e48177-2c95-4ea4-a996-5747d9aa7d7b, 2c4db874-0f07-4e30-82ad-43cf1d4073a0</td><td></td><td>False</td></tr><tr><td>helper-demo-pipeline-1</td><td>2024-29-Jul 15:38:30</td><td>2024-29-Jul 15:54:36</td><td>False</td><td>9</td><td>helper-demo-workspace-2</td><td>x86</td><td>none</td><td></td><td>37c3d9ec-93aa-4b69-9092-3f49fb496a78, ed74510b-3c51-4b24-abb7-71ee9f069f2a, 72b907a1-74ee-43ad-9e37-f3edf3a0f7fe, 29ca55a0-da90-4ec5-9ca6-01f3583d0f55, 084330f4-f19c-473a-ac00-c334ad08c9df</td><td>helper-model-replace</td><td>False</td></tr></table>"
      ],
      "text/plain": [
       "[{'name': 'housing-pipe', 'create_time': datetime.datetime(2024, 7, 26, 16, 3, 54, 253541, tzinfo=tzutc()), 'definition': '[]'},\n",
       " {'name': 'tagtestpipeline', 'create_time': datetime.datetime(2024, 7, 26, 17, 49, 50, 976426, tzinfo=tzutc()), 'definition': '[]'},\n",
       " {'name': 'helper-demo-pipeline-1', 'create_time': datetime.datetime(2024, 7, 29, 15, 38, 30, 152051, tzinfo=tzutc()), 'definition': '[]'}]"
      ]
     },
     "execution_count": 71,
     "metadata": {},
     "output_type": "execute_result"
    }
   ],
   "source": [
    "wl.list_pipelines()"
   ]
  },
  {
   "cell_type": "code",
   "execution_count": 72,
   "id": "337a3dce",
   "metadata": {},
   "outputs": [
    {
     "data": {
      "text/html": [
       "<table><tr><th>name</th><th>created</th><th>last_updated</th><th>deployed</th><th>workspace_id</th><th>workspace_name</th><th>arch</th><th>accel</th><th>tags</th><th>versions</th><th>steps</th><th>published</th></tr><tr><td>helper-demo-pipeline-1</td><td>2024-29-Jul 15:38:30</td><td>2024-29-Jul 15:54:36</td><td>False</td><td>9</td><td>helper-demo-workspace-2</td><td>x86</td><td>none</td><td></td><td>37c3d9ec-93aa-4b69-9092-3f49fb496a78, ed74510b-3c51-4b24-abb7-71ee9f069f2a, 72b907a1-74ee-43ad-9e37-f3edf3a0f7fe, 29ca55a0-da90-4ec5-9ca6-01f3583d0f55, 084330f4-f19c-473a-ac00-c334ad08c9df</td><td>helper-model-replace</td><td>False</td></tr></table>"
      ],
      "text/plain": [
       "[{'name': 'helper-demo-pipeline-1', 'create_time': datetime.datetime(2024, 7, 29, 15, 38, 30, 152051, tzinfo=tzutc()), 'definition': '[]'}]"
      ]
     },
     "execution_count": 72,
     "metadata": {},
     "output_type": "execute_result"
    }
   ],
   "source": [
    "wl.list_pipelines(workspace_id=9)"
   ]
  },
  {
   "cell_type": "code",
   "execution_count": 73,
   "id": "6deab2aa",
   "metadata": {},
   "outputs": [
    {
     "data": {
      "text/html": [
       "<table><tr><th>name</th><th>created</th><th>last_updated</th><th>deployed</th><th>workspace_id</th><th>workspace_name</th><th>arch</th><th>accel</th><th>tags</th><th>versions</th><th>steps</th><th>published</th></tr><tr><td>helper-demo-pipeline-1</td><td>2024-29-Jul 15:38:30</td><td>2024-29-Jul 15:54:36</td><td>False</td><td>9</td><td>helper-demo-workspace-2</td><td>x86</td><td>none</td><td></td><td>37c3d9ec-93aa-4b69-9092-3f49fb496a78, ed74510b-3c51-4b24-abb7-71ee9f069f2a, 72b907a1-74ee-43ad-9e37-f3edf3a0f7fe, 29ca55a0-da90-4ec5-9ca6-01f3583d0f55, 084330f4-f19c-473a-ac00-c334ad08c9df</td><td>helper-model-replace</td><td>False</td></tr></table>"
      ],
      "text/plain": [
       "[{'name': 'helper-demo-pipeline-1', 'create_time': datetime.datetime(2024, 7, 29, 15, 38, 30, 152051, tzinfo=tzutc()), 'definition': '[]'}]"
      ]
     },
     "execution_count": 73,
     "metadata": {},
     "output_type": "execute_result"
    }
   ],
   "source": [
    "wl.list_pipelines(workspace_name=workspace_name)"
   ]
  },
  {
   "cell_type": "code",
   "execution_count": 74,
   "id": "a5fba216",
   "metadata": {},
   "outputs": [
    {
     "data": {
      "text/html": [
       "<table><tr><th>name</th><th>version</th><th>file_name</th><th>image_path</th><th>arch</th><th>accel</th><th>last_update_time</th><th>workspace_id</th><th>workspace_name</th></tr>\n",
       "            <tr>\n",
       "                <td>helper-demo-model-1</td>\n",
       "                <td>f3db1bee-b29f-4852-bcba-ac47a7ce6e6b</td>\n",
       "                <td>rf_model.onnx</td>\n",
       "                <td>None</td>\n",
       "                <td>x86</td>\n",
       "                <td>none</td>\n",
       "                <td>2024-07-29 15:38:22.277189+00:00</td>\n",
       "                <td>9</td>\n",
       "                <td>helper-demo-workspace-2</td>\n",
       "            </tr>\n",
       "          </table>"
      ],
      "text/plain": [
       "[{'name': 'helper-demo-model-1', 'version': 'f3db1bee-b29f-4852-bcba-ac47a7ce6e6b', 'file_name': 'rf_model.onnx', 'image_path': None, 'arch': 'x86', 'accel': 'none', 'last_update_time': datetime.datetime(2024, 7, 29, 15, 38, 22, 277189, tzinfo=tzutc())}]"
      ]
     },
     "execution_count": 74,
     "metadata": {},
     "output_type": "execute_result"
    }
   ],
   "source": [
    "wl.search_models(search_term=model_name)"
   ]
  },
  {
   "cell_type": "code",
   "execution_count": 75,
   "id": "76b12296",
   "metadata": {},
   "outputs": [
    {
     "data": {
      "text/html": [
       "<table><tr><th>name</th><th>version</th><th>file_name</th><th>image_path</th><th>arch</th><th>accel</th><th>last_update_time</th><th>workspace_id</th><th>workspace_name</th></tr>\n",
       "            <tr>\n",
       "                <td>helper-demo-model-1</td>\n",
       "                <td>f3db1bee-b29f-4852-bcba-ac47a7ce6e6b</td>\n",
       "                <td>rf_model.onnx</td>\n",
       "                <td>None</td>\n",
       "                <td>x86</td>\n",
       "                <td>none</td>\n",
       "                <td>2024-07-29 15:38:22.277189+00:00</td>\n",
       "                <td>9</td>\n",
       "                <td>helper-demo-workspace-2</td>\n",
       "            </tr>\n",
       "          </table>"
      ],
      "text/plain": [
       "[{'name': 'helper-demo-model-1', 'version': 'f3db1bee-b29f-4852-bcba-ac47a7ce6e6b', 'file_name': 'rf_model.onnx', 'image_path': None, 'arch': 'x86', 'accel': 'none', 'last_update_time': datetime.datetime(2024, 7, 29, 15, 38, 22, 277189, tzinfo=tzutc())}]"
      ]
     },
     "execution_count": 75,
     "metadata": {},
     "output_type": "execute_result"
    }
   ],
   "source": [
    "wl.search_models(search_term=model_name, workspace_name=workspace_name)"
   ]
  },
  {
   "cell_type": "code",
   "execution_count": 76,
   "id": "3572f003",
   "metadata": {},
   "outputs": [
    {
     "data": {
      "text/html": [
       "<table><tr><th>name</th><th>version</th><th>file_name</th><th>image_path</th><th>arch</th><th>accel</th><th>last_update_time</th><th>workspace_id</th><th>workspace_name</th></tr>\n",
       "            <tr>\n",
       "                <td>helper-demo-model-1</td>\n",
       "                <td>f3db1bee-b29f-4852-bcba-ac47a7ce6e6b</td>\n",
       "                <td>rf_model.onnx</td>\n",
       "                <td>None</td>\n",
       "                <td>x86</td>\n",
       "                <td>none</td>\n",
       "                <td>2024-07-29 15:38:22.277189+00:00</td>\n",
       "                <td>9</td>\n",
       "                <td>helper-demo-workspace-2</td>\n",
       "            </tr>\n",
       "          </table>"
      ],
      "text/plain": [
       "[{'name': 'helper-demo-model-1', 'version': 'f3db1bee-b29f-4852-bcba-ac47a7ce6e6b', 'file_name': 'rf_model.onnx', 'image_path': None, 'arch': 'x86', 'accel': 'none', 'last_update_time': datetime.datetime(2024, 7, 29, 15, 38, 22, 277189, tzinfo=tzutc())}]"
      ]
     },
     "execution_count": 76,
     "metadata": {},
     "output_type": "execute_result"
    }
   ],
   "source": [
    "wl.search_models(search_term=model_name, workspace_id=9)"
   ]
  },
  {
   "cell_type": "markdown",
   "id": "03a9212c",
   "metadata": {},
   "source": [
    "Search by model name and version."
   ]
  },
  {
   "cell_type": "code",
   "execution_count": 78,
   "id": "1f77d9de",
   "metadata": {},
   "outputs": [
    {
     "data": {
      "text/html": [
       "<table>\n",
       "        <tr>\n",
       "          <td>Name</td>\n",
       "          <td>helper-demo-model-1</td>\n",
       "        </tr>\n",
       "        <tr>\n",
       "          <td>Version</td>\n",
       "          <td>f3db1bee-b29f-4852-bcba-ac47a7ce6e6b</td>\n",
       "        </tr>\n",
       "        <tr>\n",
       "          <td>File Name</td>\n",
       "          <td>rf_model.onnx</td>\n",
       "        </tr>\n",
       "        <tr>\n",
       "          <td>SHA</td>\n",
       "          <td>e22a0831aafd9917f3cc87a15ed267797f80e2afa12ad7d8810ca58f173b8cc6</td>\n",
       "        </tr>\n",
       "        <tr>\n",
       "          <td>Status</td>\n",
       "          <td>ready</td>\n",
       "        </tr>\n",
       "        <tr>\n",
       "          <td>Image Path</td>\n",
       "          <td>None</td>\n",
       "        </tr>\n",
       "        <tr>\n",
       "          <td>Architecture</td>\n",
       "          <td>x86</td>\n",
       "        </tr>\n",
       "        <tr>\n",
       "          <td>Acceleration</td>\n",
       "          <td>none</td>\n",
       "        </tr>\n",
       "        <tr>\n",
       "          <td>Updated At</td>\n",
       "          <td>2024-29-Jul 15:38:22</td>\n",
       "        </tr>\n",
       "        <tr>\n",
       "          <td>Workspace id</td>\n",
       "          <td>9</td>\n",
       "        </tr>\n",
       "        <tr>\n",
       "          <td>Workspace name</td>\n",
       "          <td>helper-demo-workspace-2</td>\n",
       "        </tr>\n",
       "      </table>"
      ],
      "text/plain": [
       "{'name': 'helper-demo-model-1', 'version': 'f3db1bee-b29f-4852-bcba-ac47a7ce6e6b', 'file_name': 'rf_model.onnx', 'image_path': None, 'arch': 'x86', 'accel': 'none', 'last_update_time': datetime.datetime(2024, 7, 29, 15, 38, 22, 277189, tzinfo=tzutc())}"
      ]
     },
     "execution_count": 78,
     "metadata": {},
     "output_type": "execute_result"
    }
   ],
   "source": [
    "wl.model_by_name(name=model_name, version=\"f3db1bee-b29f-4852-bcba-ac47a7ce6e6b\")"
   ]
  },
  {
   "cell_type": "markdown",
   "id": "866a7763",
   "metadata": {},
   "source": [
    "Search by model name and version filtered by workspace id."
   ]
  },
  {
   "cell_type": "code",
   "execution_count": 79,
   "id": "2f8a6510",
   "metadata": {},
   "outputs": [
    {
     "data": {
      "text/html": [
       "<table>\n",
       "        <tr>\n",
       "          <td>Name</td>\n",
       "          <td>helper-demo-model-1</td>\n",
       "        </tr>\n",
       "        <tr>\n",
       "          <td>Version</td>\n",
       "          <td>f3db1bee-b29f-4852-bcba-ac47a7ce6e6b</td>\n",
       "        </tr>\n",
       "        <tr>\n",
       "          <td>File Name</td>\n",
       "          <td>rf_model.onnx</td>\n",
       "        </tr>\n",
       "        <tr>\n",
       "          <td>SHA</td>\n",
       "          <td>e22a0831aafd9917f3cc87a15ed267797f80e2afa12ad7d8810ca58f173b8cc6</td>\n",
       "        </tr>\n",
       "        <tr>\n",
       "          <td>Status</td>\n",
       "          <td>ready</td>\n",
       "        </tr>\n",
       "        <tr>\n",
       "          <td>Image Path</td>\n",
       "          <td>None</td>\n",
       "        </tr>\n",
       "        <tr>\n",
       "          <td>Architecture</td>\n",
       "          <td>x86</td>\n",
       "        </tr>\n",
       "        <tr>\n",
       "          <td>Acceleration</td>\n",
       "          <td>none</td>\n",
       "        </tr>\n",
       "        <tr>\n",
       "          <td>Updated At</td>\n",
       "          <td>2024-29-Jul 15:38:22</td>\n",
       "        </tr>\n",
       "        <tr>\n",
       "          <td>Workspace id</td>\n",
       "          <td>9</td>\n",
       "        </tr>\n",
       "        <tr>\n",
       "          <td>Workspace name</td>\n",
       "          <td>helper-demo-workspace-2</td>\n",
       "        </tr>\n",
       "      </table>"
      ],
      "text/plain": [
       "{'name': 'helper-demo-model-1', 'version': 'f3db1bee-b29f-4852-bcba-ac47a7ce6e6b', 'file_name': 'rf_model.onnx', 'image_path': None, 'arch': 'x86', 'accel': 'none', 'last_update_time': datetime.datetime(2024, 7, 29, 15, 38, 22, 277189, tzinfo=tzutc())}"
      ]
     },
     "execution_count": 79,
     "metadata": {},
     "output_type": "execute_result"
    }
   ],
   "source": [
    "wl.model_by_name(name=model_name, \n",
    "                 version=\"f3db1bee-b29f-4852-bcba-ac47a7ce6e6b\",\n",
    "                 workspace_id=9)"
   ]
  },
  {
   "cell_type": "markdown",
   "id": "a3e9c367",
   "metadata": {},
   "source": [
    "Search by model name and version filtered by workspace name."
   ]
  },
  {
   "cell_type": "code",
   "execution_count": 80,
   "id": "293e3767",
   "metadata": {},
   "outputs": [
    {
     "data": {
      "text/html": [
       "<table>\n",
       "        <tr>\n",
       "          <td>Name</td>\n",
       "          <td>helper-demo-model-1</td>\n",
       "        </tr>\n",
       "        <tr>\n",
       "          <td>Version</td>\n",
       "          <td>f3db1bee-b29f-4852-bcba-ac47a7ce6e6b</td>\n",
       "        </tr>\n",
       "        <tr>\n",
       "          <td>File Name</td>\n",
       "          <td>rf_model.onnx</td>\n",
       "        </tr>\n",
       "        <tr>\n",
       "          <td>SHA</td>\n",
       "          <td>e22a0831aafd9917f3cc87a15ed267797f80e2afa12ad7d8810ca58f173b8cc6</td>\n",
       "        </tr>\n",
       "        <tr>\n",
       "          <td>Status</td>\n",
       "          <td>ready</td>\n",
       "        </tr>\n",
       "        <tr>\n",
       "          <td>Image Path</td>\n",
       "          <td>None</td>\n",
       "        </tr>\n",
       "        <tr>\n",
       "          <td>Architecture</td>\n",
       "          <td>x86</td>\n",
       "        </tr>\n",
       "        <tr>\n",
       "          <td>Acceleration</td>\n",
       "          <td>none</td>\n",
       "        </tr>\n",
       "        <tr>\n",
       "          <td>Updated At</td>\n",
       "          <td>2024-29-Jul 15:38:22</td>\n",
       "        </tr>\n",
       "        <tr>\n",
       "          <td>Workspace id</td>\n",
       "          <td>9</td>\n",
       "        </tr>\n",
       "        <tr>\n",
       "          <td>Workspace name</td>\n",
       "          <td>helper-demo-workspace-2</td>\n",
       "        </tr>\n",
       "      </table>"
      ],
      "text/plain": [
       "{'name': 'helper-demo-model-1', 'version': 'f3db1bee-b29f-4852-bcba-ac47a7ce6e6b', 'file_name': 'rf_model.onnx', 'image_path': None, 'arch': 'x86', 'accel': 'none', 'last_update_time': datetime.datetime(2024, 7, 29, 15, 38, 22, 277189, tzinfo=tzutc())}"
      ]
     },
     "execution_count": 80,
     "metadata": {},
     "output_type": "execute_result"
    }
   ],
   "source": [
    "wl.model_by_name(name=model_name, \n",
    "                 version=\"f3db1bee-b29f-4852-bcba-ac47a7ce6e6b\",\n",
    "                 workspace_name=workspace_name)"
   ]
  },
  {
   "cell_type": "markdown",
   "id": "44c4667a",
   "metadata": {},
   "source": [
    "## List Models\n",
    "\n",
    "List models in the current workspace."
   ]
  },
  {
   "cell_type": "code",
   "execution_count": 81,
   "id": "e924eae2",
   "metadata": {},
   "outputs": [
    {
     "data": {
      "text/html": [
       "<table><tr><th>Name</th><th># of Versions</th><th>Owner ID</th><th>Last Updated</th><th>Created At</th><th>Workspace id</th><th>Workspace name</th></tr>\n",
       "            <tr>\n",
       "              <td>helper-demo-model-1</td>\n",
       "              <td>1</td>\n",
       "              <td>\"\"</td>\n",
       "              <td>2024-07-29 15:38:22.277189+00:00</td>\n",
       "              <td>2024-07-29 15:38:22.277189+00:00</td>\n",
       "              <td>9</td>\n",
       "              <td>helper-demo-workspace-2</td>\n",
       "            </tr>\n",
       "          \n",
       "            <tr>\n",
       "              <td>helper-model-replace</td>\n",
       "              <td>1</td>\n",
       "              <td>\"\"</td>\n",
       "              <td>2024-07-29 15:47:39.533644+00:00</td>\n",
       "              <td>2024-07-29 15:47:39.533644+00:00</td>\n",
       "              <td>9</td>\n",
       "              <td>helper-demo-workspace-2</td>\n",
       "            </tr>\n",
       "          </table>"
      ],
      "text/plain": [
       "[{'name': 'helper-demo-model-1', 'versions': 1, 'owner_id': '\"\"', 'last_update_time': datetime.datetime(2024, 7, 29, 15, 38, 22, 277189, tzinfo=tzutc()), 'created_at': datetime.datetime(2024, 7, 29, 15, 38, 22, 277189, tzinfo=tzutc())},\n",
       " {'name': 'helper-model-replace', 'versions': 1, 'owner_id': '\"\"', 'last_update_time': datetime.datetime(2024, 7, 29, 15, 47, 39, 533644, tzinfo=tzutc()), 'created_at': datetime.datetime(2024, 7, 29, 15, 47, 39, 533644, tzinfo=tzutc())}]"
      ]
     },
     "execution_count": 81,
     "metadata": {},
     "output_type": "execute_result"
    }
   ],
   "source": [
    "wl.list_models()"
   ]
  },
  {
   "cell_type": "markdown",
   "id": "2ba04a94",
   "metadata": {},
   "source": [
    "List models across workspaces filtered by workspace id."
   ]
  },
  {
   "cell_type": "code",
   "execution_count": 82,
   "id": "ab604dac",
   "metadata": {},
   "outputs": [
    {
     "data": {
      "text/html": [
       "<table><tr><th>Name</th><th># of Versions</th><th>Owner ID</th><th>Last Updated</th><th>Created At</th><th>Workspace id</th><th>Workspace name</th></tr>\n",
       "            <tr>\n",
       "              <td>helper-demo-model-1</td>\n",
       "              <td>1</td>\n",
       "              <td>\"\"</td>\n",
       "              <td>2024-07-29 15:38:22.277189+00:00</td>\n",
       "              <td>2024-07-29 15:38:22.277189+00:00</td>\n",
       "              <td>9</td>\n",
       "              <td>helper-demo-workspace-2</td>\n",
       "            </tr>\n",
       "          \n",
       "            <tr>\n",
       "              <td>helper-model-replace</td>\n",
       "              <td>1</td>\n",
       "              <td>\"\"</td>\n",
       "              <td>2024-07-29 15:47:39.533644+00:00</td>\n",
       "              <td>2024-07-29 15:47:39.533644+00:00</td>\n",
       "              <td>9</td>\n",
       "              <td>helper-demo-workspace-2</td>\n",
       "            </tr>\n",
       "          </table>"
      ],
      "text/plain": [
       "[{'name': 'helper-demo-model-1', 'versions': 1, 'owner_id': '\"\"', 'last_update_time': datetime.datetime(2024, 7, 29, 15, 38, 22, 277189, tzinfo=tzutc()), 'created_at': datetime.datetime(2024, 7, 29, 15, 38, 22, 277189, tzinfo=tzutc())},\n",
       " {'name': 'helper-model-replace', 'versions': 1, 'owner_id': '\"\"', 'last_update_time': datetime.datetime(2024, 7, 29, 15, 47, 39, 533644, tzinfo=tzutc()), 'created_at': datetime.datetime(2024, 7, 29, 15, 47, 39, 533644, tzinfo=tzutc())}]"
      ]
     },
     "execution_count": 82,
     "metadata": {},
     "output_type": "execute_result"
    }
   ],
   "source": [
    "wl.list_models(workspace_id=9)"
   ]
  },
  {
   "cell_type": "markdown",
   "id": "c9872977",
   "metadata": {},
   "source": [
    "List models across worksapces filtered by workspace name."
   ]
  },
  {
   "cell_type": "code",
   "execution_count": 83,
   "id": "2398391d",
   "metadata": {},
   "outputs": [
    {
     "data": {
      "text/html": [
       "<table><tr><th>Name</th><th># of Versions</th><th>Owner ID</th><th>Last Updated</th><th>Created At</th><th>Workspace id</th><th>Workspace name</th></tr>\n",
       "            <tr>\n",
       "              <td>helper-demo-model-1</td>\n",
       "              <td>1</td>\n",
       "              <td>\"\"</td>\n",
       "              <td>2024-07-29 15:38:22.277189+00:00</td>\n",
       "              <td>2024-07-29 15:38:22.277189+00:00</td>\n",
       "              <td>9</td>\n",
       "              <td>helper-demo-workspace-2</td>\n",
       "            </tr>\n",
       "          \n",
       "            <tr>\n",
       "              <td>helper-model-replace</td>\n",
       "              <td>1</td>\n",
       "              <td>\"\"</td>\n",
       "              <td>2024-07-29 15:47:39.533644+00:00</td>\n",
       "              <td>2024-07-29 15:47:39.533644+00:00</td>\n",
       "              <td>9</td>\n",
       "              <td>helper-demo-workspace-2</td>\n",
       "            </tr>\n",
       "          </table>"
      ],
      "text/plain": [
       "[{'name': 'helper-demo-model-1', 'versions': 1, 'owner_id': '\"\"', 'last_update_time': datetime.datetime(2024, 7, 29, 15, 38, 22, 277189, tzinfo=tzutc()), 'created_at': datetime.datetime(2024, 7, 29, 15, 38, 22, 277189, tzinfo=tzutc())},\n",
       " {'name': 'helper-model-replace', 'versions': 1, 'owner_id': '\"\"', 'last_update_time': datetime.datetime(2024, 7, 29, 15, 47, 39, 533644, tzinfo=tzutc()), 'created_at': datetime.datetime(2024, 7, 29, 15, 47, 39, 533644, tzinfo=tzutc())}]"
      ]
     },
     "execution_count": 83,
     "metadata": {},
     "output_type": "execute_result"
    }
   ],
   "source": [
    "wl.list_models(workspace_name=workspace_name)"
   ]
  }
 ],
 "metadata": {
  "kernelspec": {
   "display_name": "wallaroosdk2024.2",
   "language": "python",
   "name": "python3"
  },
  "language_info": {
   "codemirror_mode": {
    "name": "ipython",
    "version": 3
   },
   "file_extension": ".py",
   "mimetype": "text/x-python",
   "name": "python",
   "nbconvert_exporter": "python",
   "pygments_lexer": "ipython3",
   "version": "3.8.20"
  }
 },
 "nbformat": 4,
 "nbformat_minor": 5
}
