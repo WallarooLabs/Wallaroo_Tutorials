{
 "cells": [
  {
   "attachments": {},
   "cell_type": "markdown",
   "id": "5717d0b8-9b04-4b4e-b5b6-12ac3d65ead2",
   "metadata": {},
   "source": [
    "### Convert pandas to arrow table\n",
    "\n"
   ]
  },
  {
   "cell_type": "code",
   "execution_count": null,
   "id": "228e400e-9ead-4a52-9735-5e5629827d49",
   "metadata": {},
   "outputs": [],
   "source": [
    "import pandas as pd\n",
    "import pyarrow as pa\n",
    "import json"
   ]
  },
  {
   "cell_type": "code",
   "execution_count": null,
   "id": "e07680fc-c1ef-4ee1-a63f-a75924176239",
   "metadata": {},
   "outputs": [],
   "source": [
    "filename = \"data-25k.json\""
   ]
  },
  {
   "cell_type": "code",
   "execution_count": null,
   "id": "bbf55c5d-e8e4-44fb-b870-3036ab1f473f",
   "metadata": {},
   "outputs": [],
   "source": [
    "data =  pd.read_json(filename, orient=\"records\")"
   ]
  },
  {
   "cell_type": "code",
   "execution_count": null,
   "id": "2b7b799d-368b-4a56-9901-2a1ae0c927ca",
   "metadata": {},
   "outputs": [],
   "source": [
    "data"
   ]
  },
  {
   "cell_type": "code",
   "execution_count": null,
   "id": "f5a48ae8-72ca-4de4-8586-772fc29534db",
   "metadata": {},
   "outputs": [],
   "source": [
    "data_table = pa.Table.from_pandas(data)\n",
    "data_schema = pa.Schema.from_pandas(data)"
   ]
  },
  {
   "cell_type": "code",
   "execution_count": null,
   "id": "849f32af-ed1f-4449-bc66-c62406493cde",
   "metadata": {},
   "outputs": [],
   "source": [
    "fields = []\n",
    "for i in data_table.column_names:\n",
    "    if pa.types.is_fixed_size_list(data_table[i].type):\n",
    "        fields.append(pa.field(i, data_table[i].type))\n",
    "    else:\n",
    "        print(data_table[i])\n",
    "        inner_size = len(data_table[i][0])\n",
    "        tensor_type = {\"shape\": [inner_size]}\n",
    "        tensor_meta_type = {\"tensor_type\": json.dumps(tensor_type)}\n",
    "        tensor_arrow_type = pa.list_(data_table[i][0][0].type, inner_size)\n",
    "        fields.append(pa.field(i, tensor_arrow_type, metadata=tensor_meta_type))\n",
    "    \n",
    "schema = pa.schema(fields)"
   ]
  },
  {
   "cell_type": "code",
   "execution_count": null,
   "id": "af1e441f-237d-4ee4-8301-892739867f13",
   "metadata": {},
   "outputs": [],
   "source": [
    "final_table = pa.Table.from_pandas(data, schema=schema)"
   ]
  },
  {
   "cell_type": "code",
   "execution_count": null,
   "id": "d9164f72-a1c3-4340-a028-591a86400866",
   "metadata": {},
   "outputs": [],
   "source": [
    "final_table"
   ]
  },
  {
   "cell_type": "markdown",
   "id": "7bec73ef-c24f-4e6e-a0cc-69ab4dde239a",
   "metadata": {},
   "source": [
    "### write arrow table to an arrow file"
   ]
  },
  {
   "cell_type": "code",
   "execution_count": null,
   "id": "f572c301-af3b-4476-9b6f-95ce5f94bac2",
   "metadata": {},
   "outputs": [],
   "source": [
    "arrow_file_name = \"data-25k.arrow\""
   ]
  },
  {
   "cell_type": "code",
   "execution_count": null,
   "id": "7ee127b7-14f6-4c1f-ab8d-d5afde48d8f7",
   "metadata": {},
   "outputs": [],
   "source": [
    "with pa.OSFile(arrow_file_name, 'wb') as sink:\n",
    "    with pa.ipc.new_file(sink, final_table.schema) as arrow_ipc:\n",
    "        arrow_ipc.write(final_table)\n",
    "        arrow_ipc.close()"
   ]
  },
  {
   "cell_type": "markdown",
   "id": "ead4e833-f153-45ff-9ef0-10ef912278bf",
   "metadata": {},
   "source": [
    "### To send it to infer function, you can read the arrow file like so:"
   ]
  },
  {
   "cell_type": "code",
   "execution_count": null,
   "id": "fb95f42b-f844-4cc9-a499-09ee97fa935b",
   "metadata": {},
   "outputs": [],
   "source": [
    "with pa.ipc.open_file(\"dev_smoke_test.arrow\") as source:\n",
    "            table = source.read_all() # to get pyarrow table\n",
    "            table_df = source.read_pandas() # to get pandas dataframe\n",
    "\n",
    "\n",
    "# pipeline.infer(table)"
   ]
  }
 ],
 "metadata": {
  "kernelspec": {
   "display_name": "Python 3",
   "language": "python",
   "name": "python3"
  },
  "language_info": {
   "codemirror_mode": {
    "name": "ipython",
    "version": 3
   },
   "file_extension": ".py",
   "mimetype": "text/x-python",
   "name": "python",
   "nbconvert_exporter": "python",
   "pygments_lexer": "ipython3",
   "version": "3.10.9 (main, Dec 15 2022, 10:44:50) [Clang 14.0.0 (clang-1400.0.29.202)]"
  },
  "vscode": {
   "interpreter": {
    "hash": "b0fa6594d8f4cbf19f97940f81e996739fb7646882a419484c72d19e05852a7e"
   }
  }
 },
 "nbformat": 4,
 "nbformat_minor": 5
}
