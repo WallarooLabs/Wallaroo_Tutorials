{
 "cells": [
  {
   "attachments": {},
   "cell_type": "markdown",
   "id": "134acdff",
   "metadata": {},
   "source": [
    "The following guide on using inference data inputs from Wallaroo proprietary JSON to either Pandas DataFrame or Apache Arrow downloaded as part of the [Wallaroo Tutorials repository](https://github.com/WallarooLabs/Wallaroo_Tutorials/tree/main/tools/convert_wallaroo_data_to_pandas_arrow).\n",
    "\n",
    "## Introduction\n",
    "\n",
    "The following guide is to help users transition from using Wallaroo Proprietary JSON to [Pandas DataFrame](https://pandas.pydata.org/docs/reference/frame.html) and [Apache Arrow](https://arrow.apache.org/).  The latter two formats allow data scientists to work natively with DataFrames, and when ready convert those into Arrow table files which provides greater file size efficiency and overall speed.\n",
    "\n",
    "Using Pandas DataFrames for inference inputs requires typecasting into the Wallaroo inference engine.  For models that are sensitive to data types, Arrow is the preferred format.\n",
    "\n",
    "This guide will demonstrate the following:\n",
    "\n",
    "* [Convert Wallaroo Proprietary JSON to Pandas DataFrame](#convert-wallaroo-proprietary-json-to-pandas-dataframe): Converting from Wallaroo Proprietary JSON to Pandas DataFrame used for inferences in the Wallaroo Engine.\n",
    "* [Convert Wallaroo JSON File to Pandas DataFrame](#convert-wallaroo-json-file-to-pandas-dataframe): Converting from Wallaroo JSON files or DataFrame JSON files to Pandas DataFrame for Wallaroo Engine inferences.\n",
    "* [Convert Pandas DataFrame to Arrow Table](#convert-pandas-dataframe-to-arrow-table): Converting from Pandas DataFrame to Apache Arrow used for inferences in the Wallaroo Engine.\n",
    "* [Read Arrow File to DataFrame](#read-arrow-file-to-dataframe): How to convert from an Arrow binary file to an Apache Arrow object or DataFrame object.\n",
    "* [Convert Flattened Arrow Table to Multi-Dimensional Pandas DataFrame](#convert-flattened-arrow-table-to-multi-dimensional-pandas-dataframe): How to convert from a one dimensional arrow table to a Multi-Dimensional Pandas DataFrame.\n",
    "\n",
    "### Prerequisites\n",
    "\n",
    "The demonstration code assumes a Wallaroo instance with Arrow support enabled and provides the following:\n",
    "\n",
    "* `ccfraud.onnx`: Sample trained ML Model trained to detect credit card fraud transactions.\n",
    "* `data/high_fraud.json`: Sample inference input formatted in the Wallaroo proprietary JSON format.\n",
    "\n",
    "The following demonstrates how to convert Wallaroo Proprietary JSON to Pandas DataFrame.  This example data and models are taken from the [Wallaroo 101](https://github.com/WallarooLabs/Wallaroo_Tutorials/tree/main/wallaroo-101), which uses the CCFraud model examples."
   ]
  },
  {
   "attachments": {},
   "cell_type": "markdown",
   "id": "c85fc969",
   "metadata": {},
   "source": [
    "## Initialization\n",
    "\n",
    "### Connect to the Wallaroo Instance\n",
    "\n",
<<<<<<< HEAD
<<<<<<< HEAD
    "### Connect to the Wallaroo Instance\n",
    "\n",
=======
>>>>>>> d5e9007 (removed polars and simplified login.)
=======
    "### Connect to the Wallaroo Instance\n",
    "\n",
>>>>>>> 116b655 (updated and corrected prefix links.)
    "The first step is to connect to Wallaroo through the Wallaroo client.  The Python library is included in the Wallaroo install and available through the Jupyter Hub interface provided with your Wallaroo environment.\n",
    "\n",
    "This is accomplished using the `wallaroo.Client()` command, which provides a URL to grant the SDK permission to your specific Wallaroo environment.  When displayed, enter the URL into a browser and confirm permissions.  Store the connection into a variable that can be referenced later.\n",
    "\n",
<<<<<<< HEAD
<<<<<<< HEAD
    "If logging into the Wallaroo instance through the internal JupyterHub service, use `wl = wallaroo.Client()`.  For more information on Wallaroo Client settings, see the [Client Connection guide](https://docs.wallaroo.ai/wallaroo-developer-guides/wallaroo-sdk-guides/wallaroo-sdk-essentials-guide/wallaroo-sdk-essentials-client/)."
=======
    "If logging into the Wallaroo instance through the internal JupyterHub service, use `wl = wallaroo.Client()`.  If logging in externally, update the `wallarooPrefix` and `wallarooSuffix` variables with the proper DNS information.  For more information on Wallaroo DNS settings, see the [Wallaroo DNS Integration Guide](https://docs.wallaroo.ai/wallaroo-operations-guide/wallaroo-configuration/wallaroo-dns-guide/)."
>>>>>>> d5e9007 (removed polars and simplified login.)
=======
    "If logging into the Wallaroo instance through the internal JupyterHub service, use `wl = wallaroo.Client()`.  For more information on Wallaroo DNS settings, see the [Wallaroo DNS Integration Guide](https://docs.wallaroo.ai/wallaroo-operations-guide/wallaroo-configuration/wallaroo-dns-guide/)."
>>>>>>> 116b655 (updated and corrected prefix links.)
   ]
  },
  {
   "cell_type": "code",
   "execution_count": 4,
   "id": "2fb8a22c",
   "metadata": {},
   "outputs": [],
   "source": [
    "import wallaroo\n",
    "from wallaroo.object import EntityNotFoundError\n",
    "from IPython.display import display\n",
    "\n",
    "# used to display dataframe information without truncating\n",
    "from IPython.display import display\n",
    "import pandas as pd\n",
    "pd.set_option('display.max_colwidth', None)"
   ]
  },
  {
   "cell_type": "code",
   "execution_count": 5,
   "id": "29326684",
   "metadata": {},
   "outputs": [],
   "source": [
    "# Login through local Wallaroo instance\n",
    "\n",
    "wl = wallaroo.Client()\n"
   ]
  },
  {
   "cell_type": "code",
   "execution_count": 6,
   "id": "6d7e1f49",
   "metadata": {},
   "outputs": [
    {
     "data": {
      "text/html": [
       "<table><tr><th>name</th> <td>inferencedataexamplespipeline</td></tr><tr><th>created</th> <td>2023-05-18 14:06:03.460084+00:00</td></tr><tr><th>last_updated</th> <td>2023-05-18 14:06:04.140319+00:00</td></tr><tr><th>deployed</th> <td>True</td></tr><tr><th>tags</th> <td></td></tr><tr><th>versions</th> <td>ad9c68c5-c692-486f-8796-a8e8561ea320, 65b69beb-a214-44ea-99fb-d60bca8d5804</td></tr><tr><th>steps</th> <td>ccfraud</td></tr></table>"
      ],
      "text/plain": [
       "{'name': 'inferencedataexamplespipeline', 'create_time': datetime.datetime(2023, 5, 18, 14, 6, 3, 460084, tzinfo=tzutc()), 'definition': \"[{'ModelInference': {'models': [{'name': 'ccfraud', 'version': '742c6509-005d-4a2b-8ceb-02d4a92a3379', 'sha': 'bc85ce596945f876256f41515c7501c399fd97ebcb9ab3dd41bf03f8937b4507'}]}}]\"}"
      ]
     },
     "execution_count": 6,
     "metadata": {},
     "output_type": "execute_result"
    }
   ],
   "source": [
    "workspace_name = 'inferencedataexamplesworkspace'\n",
    "pipeline_name = 'inferencedataexamplespipeline'\n",
    "model_name = 'ccfraud'\n",
    "model_file_name = './ccfraud.onnx'\n",
    "\n",
    "def get_workspace(name):\n",
    "    workspace = None\n",
    "    for ws in wl.list_workspaces():\n",
    "        if ws.name() == name:\n",
    "            workspace= ws\n",
    "    if(workspace == None):\n",
    "        workspace = wl.create_workspace(name)\n",
    "    return workspace\n",
    "\n",
    "def get_pipeline(name):\n",
    "    try:\n",
    "        pipeline = wl.pipelines_by_name(name)[0]\n",
    "    except EntityNotFoundError:\n",
    "        pipeline = wl.build_pipeline(name)\n",
    "    return pipeline\n",
    "\n",
    "# Create the workspace\n",
    "\n",
    "workspace = get_workspace(workspace_name)\n",
    "\n",
    "wl.set_current_workspace(workspace)\n",
    "\n",
    "# upload the model\n",
    "model = wl.upload_model(model_name, model_file_name).configure()\n",
    "\n",
    "# Create the pipeline then deploy it\n",
    "pipeline = get_pipeline(pipeline_name)\n",
    "pipeline.add_model_step(model).deploy()"
   ]
  },
  {
   "attachments": {},
   "cell_type": "markdown",
   "id": "47ed182d",
   "metadata": {},
   "source": [
    "## Convert Wallaroo Proprietary JSON to Pandas DataFrame\n",
    "\n",
    "The following demonstrates how to convert Wallaroo Proprietary JSON to Pandas DataFrame."
   ]
  },
  {
   "attachments": {},
   "cell_type": "markdown",
   "id": "a7fcd218",
   "metadata": {},
   "source": [
    "### Load Libraries\n",
    "\n",
    "The following libraries are used as part of the conversion process."
   ]
  },
  {
   "cell_type": "code",
   "execution_count": 8,
   "id": "8bdb63a8-5fd3-4db1-b3e5-3152c3ad7420",
   "metadata": {},
   "outputs": [],
   "source": [
    "import pandas as pd\n",
    "import pyarrow as pa\n",
    "import json\n",
    "import datetime\n",
    "import numpy as np"
   ]
  },
  {
   "attachments": {},
   "cell_type": "markdown",
   "id": "f4c04026",
   "metadata": {},
   "source": [
    "### Load Wallaroo Data\n",
    "\n",
    "The Wallaroo data will be saved to a variable.  This sample input when run through the trained model as an inference returns a high probability of fraud."
   ]
  },
  {
   "cell_type": "code",
   "execution_count": 9,
   "id": "608218e6-59ba-4298-9fdf-bf678850512e",
   "metadata": {},
   "outputs": [],
   "source": [
    "# Start with the single example\n",
    "\n",
    "high_fraud_data = {\n",
    "    \"tensor\": [\n",
    "        [1.0678324729342086,\n",
    "        18.155556397512136,\n",
    "        -1.658955105843852,\n",
    "        5.2111788045436445,\n",
    "        2.345247064454334,\n",
    "        10.467083577773014,\n",
    "        5.0925820522419745,\n",
    "        12.829515363712181,\n",
    "        4.953677046849403,\n",
    "        2.3934736228338225,\n",
    "        23.912131817957253,\n",
    "        1.7599568310350207,\n",
    "        0.8561037518143335,\n",
    "        1.1656456468728567,\n",
    "        0.5395988813934498,\n",
    "        0.7784221343010385,\n",
    "        6.75806107274245,\n",
    "        3.927411847659908,\n",
    "        12.462178276650056,\n",
    "        12.307538216518655,\n",
    "        13.787951906620115,\n",
    "        1.4588397511627804,\n",
    "        3.681834686805714,\n",
    "        1.7539143660379741,\n",
    "        8.484355003656184,\n",
    "        14.6454097666836,\n",
    "        26.852377436250144,\n",
    "        2.716529237720336,\n",
    "        3.061195706890285]\n",
    "    ]\n",
    "}"
   ]
  },
  {
   "attachments": {},
   "cell_type": "markdown",
   "id": "2b53ced5",
   "metadata": {},
   "source": [
    "### Convert to DataFrame\n",
    "\n",
    "The Wallaroo proprietary JSON file will now be converted into Pandas DataFrame."
   ]
  },
  {
   "cell_type": "code",
   "execution_count": 10,
   "id": "5e83f67a-30eb-40f8-b8dc-c0a74372aee9",
   "metadata": {},
   "outputs": [
    {
     "data": {
      "text/html": [
       "<div>\n",
       "<style scoped>\n",
       "    .dataframe tbody tr th:only-of-type {\n",
       "        vertical-align: middle;\n",
       "    }\n",
       "\n",
       "    .dataframe tbody tr th {\n",
       "        vertical-align: top;\n",
       "    }\n",
       "\n",
       "    .dataframe thead th {\n",
       "        text-align: right;\n",
       "    }\n",
       "</style>\n",
       "<table border=\"1\" class=\"dataframe\">\n",
       "  <thead>\n",
       "    <tr style=\"text-align: right;\">\n",
       "      <th></th>\n",
       "      <th>tensor</th>\n",
       "    </tr>\n",
       "  </thead>\n",
       "  <tbody>\n",
       "    <tr>\n",
       "      <th>0</th>\n",
       "      <td>[1.0678324729342086, 18.155556397512136, -1.658955105843852, 5.2111788045436445, 2.345247064454334, 10.467083577773014, 5.0925820522419745, 12.829515363712181, 4.953677046849403, 2.3934736228338225, 23.912131817957253, 1.7599568310350207, 0.8561037518143335, 1.1656456468728567, 0.5395988813934498, 0.7784221343010385, 6.75806107274245, 3.927411847659908, 12.462178276650056, 12.307538216518655, 13.787951906620115, 1.4588397511627804, 3.681834686805714, 1.7539143660379741, 8.484355003656184, 14.6454097666836, 26.852377436250144, 2.716529237720336, 3.061195706890285]</td>\n",
       "    </tr>\n",
       "  </tbody>\n",
       "</table>\n",
       "</div>"
      ],
      "text/plain": [
       "                                                                                                                                                                                                                                                                                                                                                                                                                                                                                                                                                                                      tensor\n",
       "0  [1.0678324729342086, 18.155556397512136, -1.658955105843852, 5.2111788045436445, 2.345247064454334, 10.467083577773014, 5.0925820522419745, 12.829515363712181, 4.953677046849403, 2.3934736228338225, 23.912131817957253, 1.7599568310350207, 0.8561037518143335, 1.1656456468728567, 0.5395988813934498, 0.7784221343010385, 6.75806107274245, 3.927411847659908, 12.462178276650056, 12.307538216518655, 13.787951906620115, 1.4588397511627804, 3.681834686805714, 1.7539143660379741, 8.484355003656184, 14.6454097666836, 26.852377436250144, 2.716529237720336, 3.061195706890285]"
      ]
     },
     "metadata": {},
     "output_type": "display_data"
    }
   ],
   "source": [
    "high_fraud_dataframe =  pd.DataFrame.from_records(high_fraud_data)\n",
    "display(high_fraud_dataframe)\n"
   ]
  },
  {
   "attachments": {},
   "cell_type": "markdown",
   "id": "25c3d500",
   "metadata": {},
   "source": [
    "### DataFrame for Inferences\n",
    "\n",
    "Once converted, the DataFrame version of the data can be used for inferences in an Arrow enabled Wallaroo instance."
   ]
  },
  {
   "cell_type": "code",
   "execution_count": 11,
   "id": "a747c79b-3bdb-438d-ab61-837497f32df9",
   "metadata": {},
   "outputs": [
    {
     "data": {
      "text/html": [
       "<div>\n",
       "<style scoped>\n",
       "    .dataframe tbody tr th:only-of-type {\n",
       "        vertical-align: middle;\n",
       "    }\n",
       "\n",
       "    .dataframe tbody tr th {\n",
       "        vertical-align: top;\n",
       "    }\n",
       "\n",
       "    .dataframe thead th {\n",
       "        text-align: right;\n",
       "    }\n",
       "</style>\n",
       "<table border=\"1\" class=\"dataframe\">\n",
       "  <thead>\n",
       "    <tr style=\"text-align: right;\">\n",
       "      <th></th>\n",
       "      <th>time</th>\n",
       "      <th>in.tensor</th>\n",
       "      <th>out.dense_1</th>\n",
       "      <th>check_failures</th>\n",
       "    </tr>\n",
       "  </thead>\n",
       "  <tbody>\n",
       "    <tr>\n",
       "      <th>0</th>\n",
       "      <td>2023-05-18 14:06:20.449</td>\n",
       "      <td>[1.0678324729, 18.1555563975, -1.6589551058, 5.2111788045, 2.3452470645, 10.4670835778, 5.0925820522, 12.8295153637, 4.9536770468, 2.3934736228, 23.912131818, 1.759956831, 0.8561037518, 1.1656456469, 0.5395988814, 0.7784221343, 6.7580610727, 3.9274118477, 12.4621782767, 12.3075382165, 13.7879519066, 1.4588397512, 3.6818346868, 1.753914366, 8.4843550037, 14.6454097667, 26.8523774363, 2.7165292377, 3.0611957069]</td>\n",
       "      <td>[0.981199]</td>\n",
       "      <td>0</td>\n",
       "    </tr>\n",
       "  </tbody>\n",
       "</table>\n",
       "</div>"
      ],
      "text/plain": [
       "                     time  \\\n",
       "0 2023-05-18 14:06:20.449   \n",
       "\n",
       "                                                                                                                                                                                                                                                                                                                                                                                                                       in.tensor  \\\n",
       "0  [1.0678324729, 18.1555563975, -1.6589551058, 5.2111788045, 2.3452470645, 10.4670835778, 5.0925820522, 12.8295153637, 4.9536770468, 2.3934736228, 23.912131818, 1.759956831, 0.8561037518, 1.1656456469, 0.5395988814, 0.7784221343, 6.7580610727, 3.9274118477, 12.4621782767, 12.3075382165, 13.7879519066, 1.4588397512, 3.6818346868, 1.753914366, 8.4843550037, 14.6454097667, 26.8523774363, 2.7165292377, 3.0611957069]   \n",
       "\n",
       "  out.dense_1  check_failures  \n",
       "0  [0.981199]               0  "
      ]
     },
     "metadata": {},
     "output_type": "display_data"
    }
   ],
   "source": [
    "# Use this dataframe to infer\n",
    "result = pipeline.infer(high_fraud_dataframe)\n",
    "display(result)"
   ]
  },
  {
   "attachments": {},
   "cell_type": "markdown",
   "id": "6084f523-6115-42ad-bd1c-aff83b206069",
   "metadata": {},
   "source": [
    "### Pandas JSON to Pandas DataFrame\n",
    "\n",
    "For JSON data that is in the Pandas DataFrame format, the data can be turned into a Pandas DataFrame object through the same method.  Note that the original variable is **JSON**, which could have come from a file, to a DataFrame object."
   ]
  },
  {
   "cell_type": "code",
   "execution_count": 12,
   "id": "a9a969f0-9b6f-42fe-bc6b-55434052f96b",
   "metadata": {},
   "outputs": [],
   "source": [
    "high_fraud_dataframe_json = [\n",
    "    {\n",
    "        \"tensor\":[\n",
    "            1.0678324729,\n",
    "            18.1555563975,\n",
    "            -1.6589551058,\n",
    "            5.2111788045,\n",
    "            2.3452470645,\n",
    "            10.4670835778,\n",
    "            5.0925820522,\n",
    "            12.8295153637,\n",
    "            4.9536770468,\n",
    "            2.3934736228,\n",
    "            23.912131818,\n",
    "            1.759956831,\n",
    "            0.8561037518,\n",
    "            1.1656456469,\n",
    "            0.5395988814,\n",
    "            0.7784221343,\n",
    "            6.7580610727,\n",
    "            3.9274118477,\n",
    "            12.4621782767,\n",
    "            12.3075382165,\n",
    "            13.7879519066,\n",
    "            1.4588397512,\n",
    "            3.6818346868,\n",
    "            1.753914366,\n",
    "            8.4843550037,\n",
    "            14.6454097667,\n",
    "            26.8523774363,\n",
    "            2.7165292377,\n",
    "            3.0611957069\n",
    "        ]\n",
    "    }\n",
    "]"
   ]
  },
  {
   "cell_type": "code",
   "execution_count": 13,
   "id": "8015e422-e7af-4a6d-8bc7-d09f084a8707",
   "metadata": {},
   "outputs": [
    {
     "data": {
      "text/html": [
       "<div>\n",
       "<style scoped>\n",
       "    .dataframe tbody tr th:only-of-type {\n",
       "        vertical-align: middle;\n",
       "    }\n",
       "\n",
       "    .dataframe tbody tr th {\n",
       "        vertical-align: top;\n",
       "    }\n",
       "\n",
       "    .dataframe thead th {\n",
       "        text-align: right;\n",
       "    }\n",
       "</style>\n",
       "<table border=\"1\" class=\"dataframe\">\n",
       "  <thead>\n",
       "    <tr style=\"text-align: right;\">\n",
       "      <th></th>\n",
       "      <th>tensor</th>\n",
       "    </tr>\n",
       "  </thead>\n",
       "  <tbody>\n",
       "    <tr>\n",
       "      <th>0</th>\n",
       "      <td>[1.0678324729, 18.1555563975, -1.6589551058, 5.2111788045, 2.3452470645, 10.4670835778, 5.0925820522, 12.8295153637, 4.9536770468, 2.3934736228, 23.912131818, 1.759956831, 0.8561037518, 1.1656456469, 0.5395988814, 0.7784221343, 6.7580610727, 3.9274118477, 12.4621782767, 12.3075382165, 13.7879519066, 1.4588397512, 3.6818346868, 1.753914366, 8.4843550037, 14.6454097667, 26.8523774363, 2.7165292377, 3.0611957069]</td>\n",
       "    </tr>\n",
       "  </tbody>\n",
       "</table>\n",
       "</div>"
      ],
      "text/plain": [
       "                                                                                                                                                                                                                                                                                                                                                                                                                          tensor\n",
       "0  [1.0678324729, 18.1555563975, -1.6589551058, 5.2111788045, 2.3452470645, 10.4670835778, 5.0925820522, 12.8295153637, 4.9536770468, 2.3934736228, 23.912131818, 1.759956831, 0.8561037518, 1.1656456469, 0.5395988814, 0.7784221343, 6.7580610727, 3.9274118477, 12.4621782767, 12.3075382165, 13.7879519066, 1.4588397512, 3.6818346868, 1.753914366, 8.4843550037, 14.6454097667, 26.8523774363, 2.7165292377, 3.0611957069]"
      ]
     },
     "metadata": {},
     "output_type": "display_data"
    }
   ],
   "source": [
    "# Infer from the JSON\n",
    "high_fraud_from_dataframe_json =  pd.DataFrame.from_records(high_fraud_dataframe_json)\n",
    "display(high_fraud_from_dataframe_json)"
   ]
  },
  {
   "cell_type": "code",
   "execution_count": 14,
   "id": "b0897ca0-b45c-47fe-9839-f0525808825f",
   "metadata": {},
   "outputs": [
    {
     "data": {
      "text/html": [
       "<div>\n",
       "<style scoped>\n",
       "    .dataframe tbody tr th:only-of-type {\n",
       "        vertical-align: middle;\n",
       "    }\n",
       "\n",
       "    .dataframe tbody tr th {\n",
       "        vertical-align: top;\n",
       "    }\n",
       "\n",
       "    .dataframe thead th {\n",
       "        text-align: right;\n",
       "    }\n",
       "</style>\n",
       "<table border=\"1\" class=\"dataframe\">\n",
       "  <thead>\n",
       "    <tr style=\"text-align: right;\">\n",
       "      <th></th>\n",
       "      <th>time</th>\n",
       "      <th>in.tensor</th>\n",
       "      <th>out.dense_1</th>\n",
       "      <th>check_failures</th>\n",
       "    </tr>\n",
       "  </thead>\n",
       "  <tbody>\n",
       "    <tr>\n",
       "      <th>0</th>\n",
       "      <td>2023-05-18 14:06:20.877</td>\n",
       "      <td>[1.0678324729, 18.1555563975, -1.6589551058, 5.2111788045, 2.3452470645, 10.4670835778, 5.0925820522, 12.8295153637, 4.9536770468, 2.3934736228, 23.912131818, 1.759956831, 0.8561037518, 1.1656456469, 0.5395988814, 0.7784221343, 6.7580610727, 3.9274118477, 12.4621782767, 12.3075382165, 13.7879519066, 1.4588397512, 3.6818346868, 1.753914366, 8.4843550037, 14.6454097667, 26.8523774363, 2.7165292377, 3.0611957069]</td>\n",
       "      <td>[0.981199]</td>\n",
       "      <td>0</td>\n",
       "    </tr>\n",
       "  </tbody>\n",
       "</table>\n",
       "</div>"
      ],
      "text/plain": [
       "                     time  \\\n",
       "0 2023-05-18 14:06:20.877   \n",
       "\n",
       "                                                                                                                                                                                                                                                                                                                                                                                                                       in.tensor  \\\n",
       "0  [1.0678324729, 18.1555563975, -1.6589551058, 5.2111788045, 2.3452470645, 10.4670835778, 5.0925820522, 12.8295153637, 4.9536770468, 2.3934736228, 23.912131818, 1.759956831, 0.8561037518, 1.1656456469, 0.5395988814, 0.7784221343, 6.7580610727, 3.9274118477, 12.4621782767, 12.3075382165, 13.7879519066, 1.4588397512, 3.6818346868, 1.753914366, 8.4843550037, 14.6454097667, 26.8523774363, 2.7165292377, 3.0611957069]   \n",
       "\n",
       "  out.dense_1  check_failures  \n",
       "0  [0.981199]               0  "
      ]
     },
     "metadata": {},
     "output_type": "display_data"
    }
   ],
   "source": [
    "# Use this dataframe to infer\n",
    "results = pipeline.infer(high_fraud_from_dataframe_json)\n",
    "display(results)"
   ]
  },
  {
   "attachments": {},
   "cell_type": "markdown",
   "id": "e65860d9-1d44-4021-81c4-f86d52b6b29f",
   "metadata": {},
   "source": [
    "## Convert Wallaroo JSON File to Pandas DataFrame\n",
    "\n",
    "When working with files containing Wallaroo JSON data, these can be imported from their original JSON, then converted to a Pandas DataFrame object with the pandas method `read_json`."
   ]
  },
  {
   "cell_type": "code",
   "execution_count": 15,
   "id": "fa01fe21-3f7e-4d14-b65d-d79182f91c4f",
   "metadata": {},
   "outputs": [
    {
     "data": {
      "text/html": [
       "<div>\n",
       "<style scoped>\n",
       "    .dataframe tbody tr th:only-of-type {\n",
       "        vertical-align: middle;\n",
       "    }\n",
       "\n",
       "    .dataframe tbody tr th {\n",
       "        vertical-align: top;\n",
       "    }\n",
       "\n",
       "    .dataframe thead th {\n",
       "        text-align: right;\n",
       "    }\n",
       "</style>\n",
       "<table border=\"1\" class=\"dataframe\">\n",
       "  <thead>\n",
       "    <tr style=\"text-align: right;\">\n",
       "      <th></th>\n",
       "      <th>tensor</th>\n",
       "    </tr>\n",
       "  </thead>\n",
       "  <tbody>\n",
       "    <tr>\n",
       "      <th>0</th>\n",
       "      <td>[1.067832472934208, 18.155556397512136, -1.658955105843852, 5.2111788045436445, 2.345247064454334, 10.467083577773014, 5.092582052241974, 12.829515363712181, 4.953677046849403, 2.393473622833822, 23.912131817957253, 1.7599568310350202, 0.8561037518143331, 1.165645646872856, 0.539598881393449, 0.778422134301038, 6.75806107274245, 3.927411847659908, 12.462178276650056, 12.307538216518655, 13.787951906620115, 1.45883975116278, 3.681834686805714, 1.7539143660379741, 8.484355003656184, 14.6454097666836, 26.852377436250144, 2.7165292377203363, 3.061195706890285]</td>\n",
       "    </tr>\n",
       "  </tbody>\n",
       "</table>\n",
       "</div>"
      ],
      "text/plain": [
       "                                                                                                                                                                                                                                                                                                                                                                                                                                                                                                                                                                               tensor\n",
       "0  [1.067832472934208, 18.155556397512136, -1.658955105843852, 5.2111788045436445, 2.345247064454334, 10.467083577773014, 5.092582052241974, 12.829515363712181, 4.953677046849403, 2.393473622833822, 23.912131817957253, 1.7599568310350202, 0.8561037518143331, 1.165645646872856, 0.539598881393449, 0.778422134301038, 6.75806107274245, 3.927411847659908, 12.462178276650056, 12.307538216518655, 13.787951906620115, 1.45883975116278, 3.681834686805714, 1.7539143660379741, 8.484355003656184, 14.6454097666836, 26.852377436250144, 2.7165292377203363, 3.061195706890285]"
      ]
     },
     "metadata": {},
     "output_type": "display_data"
    }
   ],
   "source": [
    "high_fraud_filename = \"./data/high_fraud.json\"\n",
    "high_fraud_data_from_file =  pd.read_json(high_fraud_filename, orient=\"records\")\n",
    "display(high_fraud_data_from_file)"
   ]
  },
  {
   "attachments": {},
   "cell_type": "markdown",
   "id": "4b4733d7-552a-46a6-962b-53f4eabf69b5",
   "metadata": {},
   "source": [
    "The data can be used in an inference either with the `infer` method on the DataFrame object, or directly from the file.  Note that in either case, the returned object is a DataFrame."
   ]
  },
  {
   "cell_type": "code",
   "execution_count": 16,
   "id": "e90f83b5",
   "metadata": {},
   "outputs": [
    {
     "data": {
      "text/html": [
       "<div>\n",
       "<style scoped>\n",
       "    .dataframe tbody tr th:only-of-type {\n",
       "        vertical-align: middle;\n",
       "    }\n",
       "\n",
       "    .dataframe tbody tr th {\n",
       "        vertical-align: top;\n",
       "    }\n",
       "\n",
       "    .dataframe thead th {\n",
       "        text-align: right;\n",
       "    }\n",
       "</style>\n",
       "<table border=\"1\" class=\"dataframe\">\n",
       "  <thead>\n",
       "    <tr style=\"text-align: right;\">\n",
       "      <th></th>\n",
       "      <th>time</th>\n",
       "      <th>in.tensor</th>\n",
       "      <th>out.dense_1</th>\n",
       "      <th>check_failures</th>\n",
       "    </tr>\n",
       "  </thead>\n",
       "  <tbody>\n",
       "    <tr>\n",
       "      <th>0</th>\n",
       "      <td>2023-05-18 14:06:21.259</td>\n",
       "      <td>[1.0678324729, 18.1555563975, -1.6589551058, 5.2111788045, 2.3452470645, 10.4670835778, 5.0925820522, 12.8295153637, 4.9536770468, 2.3934736228, 23.912131818, 1.759956831, 0.8561037518, 1.1656456469, 0.5395988814, 0.7784221343, 6.7580610727, 3.9274118477, 12.4621782767, 12.3075382165, 13.7879519066, 1.4588397512, 3.6818346868, 1.753914366, 8.4843550037, 14.6454097667, 26.8523774363, 2.7165292377, 3.0611957069]</td>\n",
       "      <td>[0.981199]</td>\n",
       "      <td>0</td>\n",
       "    </tr>\n",
       "  </tbody>\n",
       "</table>\n",
       "</div>"
      ],
      "text/plain": [
       "                     time  \\\n",
       "0 2023-05-18 14:06:21.259   \n",
       "\n",
       "                                                                                                                                                                                                                                                                                                                                                                                                                       in.tensor  \\\n",
       "0  [1.0678324729, 18.1555563975, -1.6589551058, 5.2111788045, 2.3452470645, 10.4670835778, 5.0925820522, 12.8295153637, 4.9536770468, 2.3934736228, 23.912131818, 1.759956831, 0.8561037518, 1.1656456469, 0.5395988814, 0.7784221343, 6.7580610727, 3.9274118477, 12.4621782767, 12.3075382165, 13.7879519066, 1.4588397512, 3.6818346868, 1.753914366, 8.4843550037, 14.6454097667, 26.8523774363, 2.7165292377, 3.0611957069]   \n",
       "\n",
       "  out.dense_1  check_failures  \n",
       "0  [0.981199]               0  "
      ]
     },
     "metadata": {},
     "output_type": "display_data"
    }
   ],
   "source": [
    "# Use this dataframe to infer\n",
    "result =  pipeline.infer(high_fraud_data_from_file)\n",
    "display(result)"
   ]
  },
  {
   "cell_type": "code",
   "execution_count": 17,
   "id": "2b9cd945",
   "metadata": {},
   "outputs": [
    {
     "data": {
      "text/html": [
       "<div>\n",
       "<style scoped>\n",
       "    .dataframe tbody tr th:only-of-type {\n",
       "        vertical-align: middle;\n",
       "    }\n",
       "\n",
       "    .dataframe tbody tr th {\n",
       "        vertical-align: top;\n",
       "    }\n",
       "\n",
       "    .dataframe thead th {\n",
       "        text-align: right;\n",
       "    }\n",
       "</style>\n",
       "<table border=\"1\" class=\"dataframe\">\n",
       "  <thead>\n",
       "    <tr style=\"text-align: right;\">\n",
       "      <th></th>\n",
       "      <th>time</th>\n",
       "      <th>in.tensor</th>\n",
       "      <th>out.dense_1</th>\n",
       "      <th>check_failures</th>\n",
       "    </tr>\n",
       "  </thead>\n",
       "  <tbody>\n",
       "    <tr>\n",
       "      <th>0</th>\n",
       "      <td>2023-05-18 14:06:21.652</td>\n",
       "      <td>[1.0678324729, 18.1555563975, -1.6589551058, 5.2111788045, 2.3452470645, 10.4670835778, 5.0925820522, 12.8295153637, 4.9536770468, 2.3934736228, 23.912131818, 1.759956831, 0.8561037518, 1.1656456469, 0.5395988814, 0.7784221343, 6.7580610727, 3.9274118477, 12.4621782767, 12.3075382165, 13.7879519066, 1.4588397512, 3.6818346868, 1.753914366, 8.4843550037, 14.6454097667, 26.8523774363, 2.7165292377, 3.0611957069]</td>\n",
       "      <td>[0.981199]</td>\n",
       "      <td>0</td>\n",
       "    </tr>\n",
       "  </tbody>\n",
       "</table>\n",
       "</div>"
      ],
      "text/plain": [
       "                     time  \\\n",
       "0 2023-05-18 14:06:21.652   \n",
       "\n",
       "                                                                                                                                                                                                                                                                                                                                                                                                                       in.tensor  \\\n",
       "0  [1.0678324729, 18.1555563975, -1.6589551058, 5.2111788045, 2.3452470645, 10.4670835778, 5.0925820522, 12.8295153637, 4.9536770468, 2.3934736228, 23.912131818, 1.759956831, 0.8561037518, 1.1656456469, 0.5395988814, 0.7784221343, 6.7580610727, 3.9274118477, 12.4621782767, 12.3075382165, 13.7879519066, 1.4588397512, 3.6818346868, 1.753914366, 8.4843550037, 14.6454097667, 26.8523774363, 2.7165292377, 3.0611957069]   \n",
       "\n",
       "  out.dense_1  check_failures  \n",
       "0  [0.981199]               0  "
      ]
     },
     "metadata": {},
     "output_type": "display_data"
    }
   ],
   "source": [
    "# Infer from file - it is read as a Pandas DataFrame object from the DataFrame JSON\n",
    "result = pipeline.infer_from_file(high_fraud_filename)\n",
    "display(result)"
   ]
  },
  {
   "attachments": {},
   "cell_type": "markdown",
   "id": "5ced31cc-dc26-49bd-8d3b-71b46fa88ea4",
   "metadata": {},
   "source": [
    "## Convert Pandas DataFrame to Arrow Table\n",
    "\n",
    "The helper file `convert_wallaroo_data.py` is used to convert from Pandas DataFrame to an Arrow Table with the following caveats:\n",
    "\n",
    "Arrow requires the user to specify the exact datatypes of the array elements before passing the data to the engine. If you are aware of what data type the model expects, create a dictionary with column names as key and data type as the value and pass it as a param in place of `data_type_dict`. If not, the `convert_to_pa_dtype` function will try and guess the equivalent pyarrow data type and use it (this may or may not work as intended)."
   ]
  },
  {
   "cell_type": "code",
   "execution_count": 18,
   "id": "fda0c1a2-eaa8-4f9c-92e4-bf2af9818028",
   "metadata": {},
   "outputs": [],
   "source": [
    "import convert_wallaroo_data"
   ]
  },
  {
   "cell_type": "code",
   "execution_count": 19,
   "id": "4155a91c-68bd-4381-bc98-1166ac074d04",
   "metadata": {},
   "outputs": [],
   "source": [
    "data_type_dict = {\"tensor\": pa.float32()}"
   ]
  },
  {
   "cell_type": "code",
   "execution_count": 20,
   "id": "76962da5-a2dc-4469-891d-9480e42bce15",
   "metadata": {},
   "outputs": [],
   "source": [
    "pa_table = convert_wallaroo_data.convert_pandas_to_arrow(high_fraud_dataframe, data_type_dict)"
   ]
  },
  {
   "cell_type": "code",
   "execution_count": 21,
   "id": "4d9d1d5d-82fe-4050-813c-68051e4eb5f2",
   "metadata": {},
   "outputs": [
    {
     "data": {
      "text/plain": [
       "pyarrow.Table\n",
       "tensor: fixed_size_list<item: float>[29]\n",
       "  child 0, item: float\n",
       "----\n",
       "tensor: [[[1.0678325,18.155556,-1.6589551,5.211179,2.345247,...,8.484355,14.64541,26.852377,2.7165291,3.0611956]]]"
      ]
     },
     "execution_count": 21,
     "metadata": {},
     "output_type": "execute_result"
    }
   ],
   "source": [
    "pa_table"
   ]
  },
  {
   "attachments": {},
   "cell_type": "markdown",
   "id": "3b8a50a7",
   "metadata": {},
   "source": [
    "An inference can be done using the arrow table.  The following shows the code sample and result.  Note that when submitting an Arrow table to `infer`, that the returned object is an Arrow table."
   ]
  },
  {
   "cell_type": "code",
   "execution_count": 22,
   "id": "594e989d-13c8-46e9-a513-a3a0865980be",
   "metadata": {},
   "outputs": [
    {
     "data": {
      "text/plain": [
       "pyarrow.Table\n",
       "time: timestamp[ms]\n",
       "in.tensor: list<item: float> not null\n",
       "  child 0, item: float\n",
       "out.dense_1: list<inner: float not null> not null\n",
       "  child 0, inner: float not null\n",
       "check_failures: int8\n",
       "----\n",
       "time: [[2023-05-18 14:06:22.107]]\n",
       "in.tensor: [[[1.0678325,18.155556,-1.6589551,5.211179,2.345247,...,8.484355,14.64541,26.852377,2.7165291,3.0611956]]]\n",
       "out.dense_1: [[[0.981199]]]\n",
       "check_failures: [[0]]"
      ]
     },
     "metadata": {},
     "output_type": "display_data"
    }
   ],
   "source": [
    "# use the arrow table for infer:\n",
    "result = pipeline.infer(pa_table)\n",
    "display(result)"
   ]
  },
  {
   "attachments": {},
   "cell_type": "markdown",
   "id": "bd77b5d3-c37b-464d-ba08-6d7eb470e326",
   "metadata": {},
   "source": [
    "### Save Arrow Table to Arrow File\n",
    "\n",
    "The converted Arrow table can be saved using the `pyarrow` library."
   ]
  },
  {
   "cell_type": "code",
   "execution_count": 23,
   "id": "7600ddb1-41cb-4286-afef-893bc71cc03a",
   "metadata": {},
   "outputs": [],
   "source": [
    "arrow_file_name = \"./data/high_fraud.arrow\""
   ]
  },
  {
   "cell_type": "code",
   "execution_count": 24,
   "id": "4b56b877-5538-4c7e-bbcc-10d3d2fa3109",
   "metadata": {},
   "outputs": [],
   "source": [
    "with pa.OSFile(arrow_file_name, 'wb') as sink:\n",
    "    with pa.ipc.new_file(sink, pa_table.schema) as arrow_ipc:\n",
    "        arrow_ipc.write(pa_table)\n",
    "        arrow_ipc.close()"
   ]
  },
  {
   "attachments": {},
   "cell_type": "markdown",
   "id": "502d0adc",
   "metadata": {},
   "source": [
    "`infer_from_file` can be performed using the new `arrow` file.  Note again that when submitting an inference with an Arrow object, the returning value is an Arrow object."
   ]
  },
  {
   "cell_type": "code",
   "execution_count": 25,
   "id": "3483b619",
   "metadata": {},
   "outputs": [
    {
     "data": {
      "text/plain": [
       "pyarrow.Table\n",
       "time: timestamp[ms]\n",
       "in.tensor: list<item: float> not null\n",
       "  child 0, item: float\n",
       "out.dense_1: list<inner: float not null> not null\n",
       "  child 0, inner: float not null\n",
       "check_failures: int8\n",
       "----\n",
       "time: [[2023-05-18 14:06:22.522]]\n",
       "in.tensor: [[[1.0678325,18.155556,-1.6589551,5.211179,2.345247,...,8.484355,14.64541,26.852377,2.7165291,3.0611956]]]\n",
       "out.dense_1: [[[0.981199]]]\n",
       "check_failures: [[0]]"
      ]
     },
     "metadata": {},
     "output_type": "display_data"
    }
   ],
   "source": [
    "result = pipeline.infer_from_file(arrow_file_name)\n",
    "display(result)"
   ]
  },
  {
   "attachments": {},
   "cell_type": "markdown",
   "id": "6e47db16-89ad-4f7c-bcd9-5d8c403022bc",
   "metadata": {},
   "source": [
    "## Read Arrow File to DataFrame\n",
    "\n",
    "The data can go the opposite direction - reading from an Arrow binary file, and turning the data into either an Arrow table with the Arrow `read_all` method, or just the data into a DataFrame with the Arrow `read_pandas` method."
   ]
  },
  {
   "cell_type": "code",
   "execution_count": 26,
   "id": "131114ed-ff31-4af3-b8db-9945bba57d1a",
   "metadata": {},
   "outputs": [
    {
     "data": {
      "text/plain": [
       "pyarrow.Table\n",
       "tensor: fixed_size_list<item: float>[29]\n",
       "  child 0, item: float\n",
       "----\n",
       "tensor: [[[1.0678325,18.155556,-1.6589551,5.211179,2.345247,...,8.484355,14.64541,26.852377,2.7165291,3.0611956]]]"
      ]
     },
     "metadata": {},
     "output_type": "display_data"
    },
    {
     "data": {
      "text/html": [
       "<div>\n",
       "<style scoped>\n",
       "    .dataframe tbody tr th:only-of-type {\n",
       "        vertical-align: middle;\n",
       "    }\n",
       "\n",
       "    .dataframe tbody tr th {\n",
       "        vertical-align: top;\n",
       "    }\n",
       "\n",
       "    .dataframe thead th {\n",
       "        text-align: right;\n",
       "    }\n",
       "</style>\n",
       "<table border=\"1\" class=\"dataframe\">\n",
       "  <thead>\n",
       "    <tr style=\"text-align: right;\">\n",
       "      <th></th>\n",
       "      <th>tensor</th>\n",
       "    </tr>\n",
       "  </thead>\n",
       "  <tbody>\n",
       "    <tr>\n",
       "      <th>0</th>\n",
       "      <td>[1.0678325, 18.155556, -1.6589551, 5.211179, 2.345247, 10.467084, 5.092582, 12.829515, 4.953677, 2.3934736, 23.912132, 1.7599568, 0.8561038, 1.1656456, 0.5395989, 0.7784221, 6.758061, 3.9274118, 12.462178, 12.307538, 13.787951, 1.4588398, 3.6818347, 1.7539144, 8.484355, 14.64541, 26.852377, 2.7165291, 3.0611956]</td>\n",
       "    </tr>\n",
       "  </tbody>\n",
       "</table>\n",
       "</div>"
      ],
      "text/plain": [
       "                                                                                                                                                                                                                                                                                                                      tensor\n",
       "0  [1.0678325, 18.155556, -1.6589551, 5.211179, 2.345247, 10.467084, 5.092582, 12.829515, 4.953677, 2.3934736, 23.912132, 1.7599568, 0.8561038, 1.1656456, 0.5395989, 0.7784221, 6.758061, 3.9274118, 12.462178, 12.307538, 13.787951, 1.4588398, 3.6818347, 1.7539144, 8.484355, 14.64541, 26.852377, 2.7165291, 3.0611956]"
      ]
     },
     "metadata": {},
     "output_type": "display_data"
    }
   ],
   "source": [
    "with pa.ipc.open_file(arrow_file_name) as source:\n",
    "            table = source.read_all() # to get pyarrow table\n",
    "            table_df = source.read_pandas() # to get pandas dataframe\n",
    "            display(table)\n",
    "            display(table_df)"
   ]
  },
  {
   "attachments": {},
   "cell_type": "markdown",
   "id": "3e6e91a1-79cf-40d8-ad8b-9fc7419b5c8d",
   "metadata": {},
   "source": [
    "### Convert Arrow Infer to DataFrame\n",
    "\n",
    "When an infer result is returned as an Arrow object, it can be converted to a DataFrame for easy viewing."
   ]
  },
  {
   "cell_type": "code",
   "execution_count": 27,
   "id": "e0e980b4",
   "metadata": {},
   "outputs": [
    {
     "data": {
      "text/html": [
       "<div>\n",
       "<style scoped>\n",
       "    .dataframe tbody tr th:only-of-type {\n",
       "        vertical-align: middle;\n",
       "    }\n",
       "\n",
       "    .dataframe tbody tr th {\n",
       "        vertical-align: top;\n",
       "    }\n",
       "\n",
       "    .dataframe thead th {\n",
       "        text-align: right;\n",
       "    }\n",
       "</style>\n",
       "<table border=\"1\" class=\"dataframe\">\n",
       "  <thead>\n",
       "    <tr style=\"text-align: right;\">\n",
       "      <th></th>\n",
       "      <th>time</th>\n",
       "      <th>in.tensor</th>\n",
       "      <th>out.dense_1</th>\n",
       "      <th>check_failures</th>\n",
       "    </tr>\n",
       "  </thead>\n",
       "  <tbody>\n",
       "    <tr>\n",
       "      <th>0</th>\n",
       "      <td>2023-05-18 14:06:22.910</td>\n",
       "      <td>[1.0678325, 18.155556, -1.6589551, 5.211179, 2.345247, 10.467084, 5.092582, 12.829515, 4.953677, 2.3934736, 23.912132, 1.7599568, 0.8561038, 1.1656456, 0.5395989, 0.7784221, 6.758061, 3.9274118, 12.462178, 12.307538, 13.787951, 1.4588398, 3.6818347, 1.7539144, 8.484355, 14.64541, 26.852377, 2.7165291, 3.0611956]</td>\n",
       "      <td>[0.981199]</td>\n",
       "      <td>0</td>\n",
       "    </tr>\n",
       "  </tbody>\n",
       "</table>\n",
       "</div>"
      ],
      "text/plain": [
       "                     time  \\\n",
       "0 2023-05-18 14:06:22.910   \n",
       "\n",
       "                                                                                                                                                                                                                                                                                                                   in.tensor  \\\n",
       "0  [1.0678325, 18.155556, -1.6589551, 5.211179, 2.345247, 10.467084, 5.092582, 12.829515, 4.953677, 2.3934736, 23.912132, 1.7599568, 0.8561038, 1.1656456, 0.5395989, 0.7784221, 6.758061, 3.9274118, 12.462178, 12.307538, 13.787951, 1.4588398, 3.6818347, 1.7539144, 8.484355, 14.64541, 26.852377, 2.7165291, 3.0611956]   \n",
       "\n",
       "  out.dense_1  check_failures  \n",
       "0  [0.981199]               0  "
      ]
     },
     "metadata": {},
     "output_type": "display_data"
    }
   ],
   "source": [
    "result = pipeline.infer_from_file(arrow_file_name)\n",
    "display(result.to_pandas())"
   ]
  },
  {
   "attachments": {},
   "cell_type": "markdown",
   "id": "0685655c-2d66-410f-a000-4289f26d219d",
   "metadata": {},
   "source": [
    "## Convert Flattened Arrow Table to Multi-Dimensional Pandas DataFrame\n",
    "\n",
    "Some ML models use multi-dimensional DataFrames.  Currently Wallaroo supports and outputs flattened tables for inferences.\n",
    "\n",
    "For situations where the original data was in a multi-dimensional DataFrame, the following procedure will convert the flattened Arrow table back into a desired multi-dimensional pandas DataFrame."
   ]
  },
  {
   "attachments": {},
   "cell_type": "markdown",
   "id": "3765299a-0d77-4958-a537-179271605fd5",
   "metadata": {},
   "source": [
    "Here is a sample infer result data in Arrow Table format."
   ]
  },
  {
   "cell_type": "code",
   "execution_count": 28,
   "id": "f1761dcc-2662-4fc4-a74f-9c3c43177a28",
   "metadata": {},
   "outputs": [
    {
     "data": {
      "text/plain": [
       "pyarrow.Table\n",
       "time: timestamp[us]\n",
       "in.tensor: list<item: double>\n",
       "  child 0, item: double\n",
       "out.reshape: list<item: double>\n",
       "  child 0, item: double\n",
       "check_failures: int64\n",
       "----\n",
       "time: [[2023-02-22 22:14:00.000000]]\n",
       "in.tensor: [[[1.5997242884551583,-0.72885535293112,-0.8464381472712799,-0.48041787186839674,0.8211244519635765,0.999086254697715,-1.365979802921807,0.36611200379560294,1.27093766309002,0.4895466723195178]]]\n",
       "out.reshape: [[[1.8749652,-0.94025564,-1.0790397,-0.72123086,0.90895796,1.092086,-1.2834015,0.340406,1.2441622,0.57471186]]]\n",
       "check_failures: [[0]]"
      ]
     },
     "execution_count": 28,
     "metadata": {},
     "output_type": "execute_result"
    }
   ],
   "source": [
    "time_array = pa.array([datetime.datetime(2023, 2 , 22, 22, 14)])\n",
    "in_tensor_array = pa.array([[1.5997242884551583,-0.72885535293112,-0.8464381472712799,-0.48041787186839674,0.8211244519635765,0.999086254697715,-1.365979802921807,0.36611200379560294,1.27093766309002,0.4895466723195178]])\n",
    "out_array = pa.array([[1.8749652,-0.94025564,-1.0790397,-0.72123086,0.90895796,1.092086,-1.2834015,0.340406,1.2441622,0.57471186]])\n",
    "check_failures_array = pa.array([0])\n",
    "names = [\"time\", \"in.tensor\", \"out.reshape\", \"check_failures\"]\n",
    "flattened_2d_table = pa.Table.from_arrays([time_array, in_tensor_array, out_array, check_failures_array], names = names)\n",
    "flattened_2d_table"
   ]
  },
  {
   "cell_type": "code",
   "execution_count": 29,
   "id": "22584404-414c-410a-86e3-944fa519ac3c",
   "metadata": {},
   "outputs": [
    {
     "data": {
      "text/plain": [
       "<pyarrow.lib.ChunkedArray object at 0x154467a40>\n",
       "[\n",
       "  [\n",
       "    [\n",
       "      1.8749652,\n",
       "      -0.94025564,\n",
       "      -1.0790397,\n",
       "      -0.72123086,\n",
       "      0.90895796,\n",
       "      1.092086,\n",
       "      -1.2834015,\n",
       "      0.340406,\n",
       "      1.2441622,\n",
       "      0.57471186\n",
       "    ]\n",
       "  ]\n",
       "]"
      ]
     },
     "execution_count": 29,
     "metadata": {},
     "output_type": "execute_result"
    }
   ],
   "source": [
    "flattened_2d_table[\"out.reshape\"]"
   ]
  },
  {
   "attachments": {},
   "cell_type": "markdown",
   "id": "eed989b8-ec4f-46be-8c8a-3f872216faf1",
   "metadata": {},
   "source": [
    "### Verify the Shape\n",
    "\n",
    "Let's suppose the shape of the output that natively comes out of the model is [2,5].  We can use that to make sure the shape is correct when translating from the 1 dimensional Arrow table."
   ]
  },
  {
   "cell_type": "code",
   "execution_count": 30,
   "id": "76fea0b7-725a-4139-be46-07fa380a520b",
   "metadata": {},
   "outputs": [],
   "source": [
    "tensor_type = {\"shape\": [2, 5]}"
   ]
  },
  {
   "cell_type": "code",
   "execution_count": 31,
   "id": "e3edb9d0-644c-482a-94d7-a59e6708e082",
   "metadata": {},
   "outputs": [],
   "source": [
    "output_df = flattened_2d_table.to_pandas()['out.reshape'] "
   ]
  },
  {
   "cell_type": "code",
   "execution_count": 32,
   "id": "066692fe-763f-4769-947a-e2610479c776",
   "metadata": {},
   "outputs": [],
   "source": [
    "# numpy array, shape [N, 2, 5] \n",
    "# In this case N = 1\n",
    "output_list = [elt.reshape(tensor_type['shape']) for elt in output_df]\n",
    "output_tensor = np.stack(output_list)"
   ]
  },
  {
   "cell_type": "code",
   "execution_count": 33,
   "id": "13db9647-1e33-4734-949b-766bbd2879a2",
   "metadata": {},
   "outputs": [
    {
     "data": {
      "text/plain": [
       "array([[[ 1.8749652 , -0.94025564, -1.0790397 , -0.72123086,\n",
       "          0.90895796],\n",
       "        [ 1.092086  , -1.2834015 ,  0.340406  ,  1.2441622 ,\n",
       "          0.57471186]]])"
      ]
     },
     "execution_count": 33,
     "metadata": {},
     "output_type": "execute_result"
    }
   ],
   "source": [
    "output_tensor"
   ]
  },
  {
   "cell_type": "code",
   "execution_count": 34,
   "id": "7106f39d-240e-47dd-be62-f975fa97628e",
   "metadata": {},
   "outputs": [],
   "source": [
    "output_2d_df = pd.DataFrame(output_tensor.tolist())"
   ]
  },
  {
   "cell_type": "code",
   "execution_count": 35,
   "id": "150c644f-8551-430f-8f9a-939fba16acfc",
   "metadata": {},
   "outputs": [
    {
     "data": {
      "text/html": [
       "<div>\n",
       "<style scoped>\n",
       "    .dataframe tbody tr th:only-of-type {\n",
       "        vertical-align: middle;\n",
       "    }\n",
       "\n",
       "    .dataframe tbody tr th {\n",
       "        vertical-align: top;\n",
       "    }\n",
       "\n",
       "    .dataframe thead th {\n",
       "        text-align: right;\n",
       "    }\n",
       "</style>\n",
       "<table border=\"1\" class=\"dataframe\">\n",
       "  <thead>\n",
       "    <tr style=\"text-align: right;\">\n",
       "      <th></th>\n",
       "      <th>0</th>\n",
       "      <th>1</th>\n",
       "    </tr>\n",
       "  </thead>\n",
       "  <tbody>\n",
       "    <tr>\n",
       "      <th>0</th>\n",
       "      <td>[1.8749652, -0.94025564, -1.0790397, -0.72123086, 0.90895796]</td>\n",
       "      <td>[1.092086, -1.2834015, 0.340406, 1.2441622, 0.57471186]</td>\n",
       "    </tr>\n",
       "  </tbody>\n",
       "</table>\n",
       "</div>"
      ],
      "text/plain": [
       "                                                               0  \\\n",
       "0  [1.8749652, -0.94025564, -1.0790397, -0.72123086, 0.90895796]   \n",
       "\n",
       "                                                         1  \n",
       "0  [1.092086, -1.2834015, 0.340406, 1.2441622, 0.57471186]  "
      ]
     },
     "execution_count": 35,
     "metadata": {},
     "output_type": "execute_result"
    }
   ],
   "source": [
    "output_2d_df"
   ]
  },
  {
   "attachments": {},
   "cell_type": "markdown",
   "id": "26de59cf",
   "metadata": {},
   "source": [
    "## Undeploy Pipeline\n",
    "\n",
    "The pipeline will now be undeployed to return the resources back to the Wallaroo instance."
   ]
  },
  {
   "cell_type": "code",
   "execution_count": 36,
   "id": "5d059e09",
   "metadata": {},
   "outputs": [
    {
     "data": {
      "text/html": [
       "<table><tr><th>name</th> <td>inferencedataexamplespipeline</td></tr><tr><th>created</th> <td>2023-05-18 14:06:03.460084+00:00</td></tr><tr><th>last_updated</th> <td>2023-05-18 14:06:04.140319+00:00</td></tr><tr><th>deployed</th> <td>False</td></tr><tr><th>tags</th> <td></td></tr><tr><th>versions</th> <td>ad9c68c5-c692-486f-8796-a8e8561ea320, 65b69beb-a214-44ea-99fb-d60bca8d5804</td></tr><tr><th>steps</th> <td>ccfraud</td></tr></table>"
      ],
      "text/plain": [
       "{'name': 'inferencedataexamplespipeline', 'create_time': datetime.datetime(2023, 5, 18, 14, 6, 3, 460084, tzinfo=tzutc()), 'definition': \"[{'ModelInference': {'models': [{'name': 'ccfraud', 'version': '742c6509-005d-4a2b-8ceb-02d4a92a3379', 'sha': 'bc85ce596945f876256f41515c7501c399fd97ebcb9ab3dd41bf03f8937b4507'}]}}]\"}"
      ]
     },
     "execution_count": 36,
     "metadata": {},
     "output_type": "execute_result"
    }
   ],
   "source": [
    "pipeline.undeploy()"
   ]
  }
 ],
 "metadata": {
  "kernelspec": {
   "display_name": "arrowtests",
   "language": "python",
   "name": "python3"
  },
  "language_info": {
   "codemirror_mode": {
    "name": "ipython",
    "version": 3
   },
   "file_extension": ".py",
   "mimetype": "text/x-python",
   "name": "python",
   "nbconvert_exporter": "python",
   "pygments_lexer": "ipython3",
   "version": "3.9.16"
  },
  "vscode": {
   "interpreter": {
    "hash": "7dda4bf3640b7fafcd1648658b879b4cc9f6ba6084e8fb356fdaaa1a461d1690"
   }
  }
 },
 "nbformat": 4,
 "nbformat_minor": 5
}
