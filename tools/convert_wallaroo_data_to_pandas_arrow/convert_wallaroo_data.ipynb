{
 "cells": [
  {
   "attachments": {},
   "cell_type": "markdown",
   "id": "134acdff",
   "metadata": {},
   "source": [
    "# Convert from Wallaroo Proprietary JSON to Pandas DataFrame and Arrow Guide\n",
    "\n",
    "The following guide is to help users transition from using Wallaroo Proprietary JSON to [Pandas DataFrame](https://pandas.pydata.org/docs/reference/frame.html) and [Apache Arrow](https://arrow.apache.org/).  The latter two formats allow data scientists to work natively with DataFrames, and when ready convert those into Arrow table files which provides greater file size efficiency and overall speed.\n",
    "\n",
    "This guide will demonstrate the following:\n",
    "\n",
    "* Converting from Wallaroo Proprietary JSON to Pandas DataFrame used for inferences in the Wallaroo Engine.\n",
    "* Converting from Pandas DataFrame to Apache Arrow used for inferences in the Wallaroo Engine.\n",
    "* Converting from a flattened Apache Arrow format to multi-dimensional Pandas DataFrame."
   ]
  },
  {
   "attachments": {},
   "cell_type": "markdown",
   "id": "c85fc969",
   "metadata": {},
   "source": [
    "## Convert Wallaroo Proprietary JSON to Pandas DataFrame\n",
    "\n",
    "The following demonstrates how to convert Wallaroo Proprietary JSON to Pandas DataFrame.  This example is taken from the [Wallaroo 101](https://github.com/WallarooLabs/Wallaroo_Tutorials/tree/main/wallaroo-101), which uses the CCFraud model examples.  The following example comes from the `high_fraud.json` file in that example:\n",
    "\n",
    "```python\n",
    "high_fraud_data = {\"tensor\": [[1.0678324729342086,\n",
    "    18.155556397512136,\n",
    "    -1.658955105843852,\n",
    "    5.2111788045436445,\n",
    "    2.345247064454334,\n",
    "    10.467083577773014,\n",
    "    5.0925820522419745,\n",
    "    12.829515363712181,\n",
    "    4.953677046849403,\n",
    "    2.3934736228338225,\n",
    "    23.912131817957253,\n",
    "    1.7599568310350207,\n",
    "    0.8561037518143335,\n",
    "    1.1656456468728567,\n",
    "    0.5395988813934498,\n",
    "    0.7784221343010385,\n",
    "    6.75806107274245,\n",
    "    3.927411847659908,\n",
    "    12.462178276650056,\n",
    "    12.307538216518655,\n",
    "    13.787951906620115,\n",
    "    1.4588397511627804,\n",
    "    3.681834686805714,\n",
    "    1.7539143660379741,\n",
    "    8.484355003656184,\n",
    "    14.6454097666836,\n",
    "    26.852377436250144,\n",
    "    2.716529237720336,\n",
    "    3.061195706890285]]\n",
    "}\n",
    "```"
   ]
  },
  {
   "attachments": {},
   "cell_type": "markdown",
   "id": "a7fcd218",
   "metadata": {},
   "source": [
    "### Load Libraries\n",
    "\n",
    "The following libraries are used as part of the conversion process."
   ]
  },
  {
   "cell_type": "code",
   "execution_count": 1,
   "id": "8bdb63a8-5fd3-4db1-b3e5-3152c3ad7420",
   "metadata": {},
   "outputs": [],
   "source": [
    "import pandas as pd\n",
    "import pyarrow as pa\n",
    "import json\n",
    "import datetime\n",
    "import numpy as np\n",
    "\n",
    "pd.set_option('display.max_colwidth', None)"
   ]
  },
  {
   "attachments": {},
   "cell_type": "markdown",
   "id": "f4c04026",
   "metadata": {},
   "source": [
    "### Load Wallaroo Data\n",
    "\n",
    "The Wallaroo data will be saved to a variable."
   ]
  },
  {
   "cell_type": "code",
   "execution_count": 2,
   "id": "608218e6-59ba-4298-9fdf-bf678850512e",
   "metadata": {},
   "outputs": [],
   "source": [
    "# Start with the single example\n",
    "\n",
    "high_fraud_data = {\"tensor\": [[1.0678324729342086,\n",
    "    18.155556397512136,\n",
    "    -1.658955105843852,\n",
    "    5.2111788045436445,\n",
    "    2.345247064454334,\n",
    "    10.467083577773014,\n",
    "    5.0925820522419745,\n",
    "    12.829515363712181,\n",
    "    4.953677046849403,\n",
    "    2.3934736228338225,\n",
    "    23.912131817957253,\n",
    "    1.7599568310350207,\n",
    "    0.8561037518143335,\n",
    "    1.1656456468728567,\n",
    "    0.5395988813934498,\n",
    "    0.7784221343010385,\n",
    "    6.75806107274245,\n",
    "    3.927411847659908,\n",
    "    12.462178276650056,\n",
    "    12.307538216518655,\n",
    "    13.787951906620115,\n",
    "    1.4588397511627804,\n",
    "    3.681834686805714,\n",
    "    1.7539143660379741,\n",
    "    8.484355003656184,\n",
    "    14.6454097666836,\n",
    "    26.852377436250144,\n",
    "    2.716529237720336,\n",
    "    3.061195706890285]]\n",
    "}"
   ]
  },
  {
   "attachments": {},
   "cell_type": "markdown",
   "id": "2b53ced5",
   "metadata": {},
   "source": [
    "### Convert to DataFrame\n",
    "\n",
    "The Wallaroo proprietary JSON file will now be converted into Pandas DataFrame."
   ]
  },
  {
   "cell_type": "code",
   "execution_count": 4,
   "id": "5e83f67a-30eb-40f8-b8dc-c0a74372aee9",
   "metadata": {},
   "outputs": [
    {
     "data": {
      "text/html": [
       "<div>\n",
       "<style scoped>\n",
       "    .dataframe tbody tr th:only-of-type {\n",
       "        vertical-align: middle;\n",
       "    }\n",
       "\n",
       "    .dataframe tbody tr th {\n",
       "        vertical-align: top;\n",
       "    }\n",
       "\n",
       "    .dataframe thead th {\n",
       "        text-align: right;\n",
       "    }\n",
       "</style>\n",
       "<table border=\"1\" class=\"dataframe\">\n",
       "  <thead>\n",
       "    <tr style=\"text-align: right;\">\n",
       "      <th></th>\n",
       "      <th>tensor</th>\n",
       "    </tr>\n",
       "  </thead>\n",
       "  <tbody>\n",
       "    <tr>\n",
       "      <th>0</th>\n",
       "      <td>[1.0678324729342086, 18.155556397512136, -1.658955105843852, 5.2111788045436445, 2.345247064454334, 10.467083577773014, 5.0925820522419745, 12.829515363712181, 4.953677046849403, 2.3934736228338225, 23.912131817957253, 1.7599568310350207, 0.8561037518143335, 1.1656456468728567, 0.5395988813934498, 0.7784221343010385, 6.75806107274245, 3.927411847659908, 12.462178276650056, 12.307538216518655, 13.787951906620115, 1.4588397511627804, 3.681834686805714, 1.7539143660379741, 8.484355003656184, 14.6454097666836, 26.852377436250144, 2.716529237720336, 3.061195706890285]</td>\n",
       "    </tr>\n",
       "  </tbody>\n",
       "</table>\n",
       "</div>"
      ],
      "text/plain": [
       "                                                                                                                                                                                                                                                                                                                                                                                                                                                                                                                                                                                      tensor\n",
       "0  [1.0678324729342086, 18.155556397512136, -1.658955105843852, 5.2111788045436445, 2.345247064454334, 10.467083577773014, 5.0925820522419745, 12.829515363712181, 4.953677046849403, 2.3934736228338225, 23.912131817957253, 1.7599568310350207, 0.8561037518143335, 1.1656456468728567, 0.5395988813934498, 0.7784221343010385, 6.75806107274245, 3.927411847659908, 12.462178276650056, 12.307538216518655, 13.787951906620115, 1.4588397511627804, 3.681834686805714, 1.7539143660379741, 8.484355003656184, 14.6454097666836, 26.852377436250144, 2.716529237720336, 3.061195706890285]"
      ]
     },
     "metadata": {},
     "output_type": "display_data"
    }
   ],
   "source": [
    "high_fraud_dataframe =  pd.DataFrame.from_records(high_fraud_data)\n",
    "display(high_fraud_dataframe)\n"
   ]
  },
  {
   "attachments": {},
   "cell_type": "markdown",
   "id": "25c3d500",
   "metadata": {},
   "source": [
    "### DataFrame for Inferences\n",
    "\n",
    "Once converted, the DataFrame version of the data can be used for inferences in an Arrow enabled Wallaroo instance."
   ]
  },
  {
   "cell_type": "code",
   "execution_count": null,
   "id": "a747c79b-3bdb-438d-ab61-837497f32df9",
   "metadata": {},
   "outputs": [],
   "source": [
    "# Use this dataframe to infer\n",
    "# pipeline.infer(high_fraud_dataframe)"
   ]
  },
  {
   "attachments": {},
   "cell_type": "markdown",
   "id": "6084f523-6115-42ad-bd1c-aff83b206069",
   "metadata": {},
   "source": [
    "### Pandas JSON to Pandas DataFrame\n",
    "\n",
    "For JSON data that is in the Pandas DataFrame format, the data can be turned into a Pandas DataFrame object through the same method.  Note that the original variable is **JSON**, which could have come from a file, to a DataFrame object."
   ]
  },
  {
   "cell_type": "code",
   "execution_count": 5,
   "id": "a9a969f0-9b6f-42fe-bc6b-55434052f96b",
   "metadata": {},
   "outputs": [],
   "source": [
    "high_fraud_dataframe_json = [\n",
    "    {\n",
    "        \"tensor\":[\n",
    "            1.0678324729,\n",
    "            18.1555563975,\n",
    "            -1.6589551058,\n",
    "            5.2111788045,\n",
    "            2.3452470645,\n",
    "            10.4670835778,\n",
    "            5.0925820522,\n",
    "            12.8295153637,\n",
    "            4.9536770468,\n",
    "            2.3934736228,\n",
    "            23.912131818,\n",
    "            1.759956831,\n",
    "            0.8561037518,\n",
    "            1.1656456469,\n",
    "            0.5395988814,\n",
    "            0.7784221343,\n",
    "            6.7580610727,\n",
    "            3.9274118477,\n",
    "            12.4621782767,\n",
    "            12.3075382165,\n",
    "            13.7879519066,\n",
    "            1.4588397512,\n",
    "            3.6818346868,\n",
    "            1.753914366,\n",
    "            8.4843550037,\n",
    "            14.6454097667,\n",
    "            26.8523774363,\n",
    "            2.7165292377,\n",
    "            3.0611957069\n",
    "        ]\n",
    "    }\n",
    "]"
   ]
  },
  {
   "cell_type": "code",
   "execution_count": 7,
   "id": "8015e422-e7af-4a6d-8bc7-d09f084a8707",
   "metadata": {},
   "outputs": [
    {
     "data": {
      "text/html": [
       "<div>\n",
       "<style scoped>\n",
       "    .dataframe tbody tr th:only-of-type {\n",
       "        vertical-align: middle;\n",
       "    }\n",
       "\n",
       "    .dataframe tbody tr th {\n",
       "        vertical-align: top;\n",
       "    }\n",
       "\n",
       "    .dataframe thead th {\n",
       "        text-align: right;\n",
       "    }\n",
       "</style>\n",
       "<table border=\"1\" class=\"dataframe\">\n",
       "  <thead>\n",
       "    <tr style=\"text-align: right;\">\n",
       "      <th></th>\n",
       "      <th>tensor</th>\n",
       "    </tr>\n",
       "  </thead>\n",
       "  <tbody>\n",
       "    <tr>\n",
       "      <th>0</th>\n",
       "      <td>[1.0678324729, 18.1555563975, -1.6589551058, 5.2111788045, 2.3452470645, 10.4670835778, 5.0925820522, 12.8295153637, 4.9536770468, 2.3934736228, 23.912131818, 1.759956831, 0.8561037518, 1.1656456469, 0.5395988814, 0.7784221343, 6.7580610727, 3.9274118477, 12.4621782767, 12.3075382165, 13.7879519066, 1.4588397512, 3.6818346868, 1.753914366, 8.4843550037, 14.6454097667, 26.8523774363, 2.7165292377, 3.0611957069]</td>\n",
       "    </tr>\n",
       "  </tbody>\n",
       "</table>\n",
       "</div>"
      ],
      "text/plain": [
       "                                                                                                                                                                                                                                                                                                                                                                                                                          tensor\n",
       "0  [1.0678324729, 18.1555563975, -1.6589551058, 5.2111788045, 2.3452470645, 10.4670835778, 5.0925820522, 12.8295153637, 4.9536770468, 2.3934736228, 23.912131818, 1.759956831, 0.8561037518, 1.1656456469, 0.5395988814, 0.7784221343, 6.7580610727, 3.9274118477, 12.4621782767, 12.3075382165, 13.7879519066, 1.4588397512, 3.6818346868, 1.753914366, 8.4843550037, 14.6454097667, 26.8523774363, 2.7165292377, 3.0611957069]"
      ]
     },
     "metadata": {},
     "output_type": "display_data"
    }
   ],
   "source": [
    "high_fraud_from_dataframe_json =  pd.DataFrame.from_records(high_fraud_dataframe_json)\n",
    "display(high_fraud_from_dataframe_json)"
   ]
  },
  {
   "cell_type": "code",
   "execution_count": null,
   "id": "b0897ca0-b45c-47fe-9839-f0525808825f",
   "metadata": {},
   "outputs": [],
   "source": [
    "# Use this dataframe to infer\n",
    "# pipeline.infer(high_fraud_from_dataframe_json)"
   ]
  },
  {
   "attachments": {},
   "cell_type": "markdown",
   "id": "e65860d9-1d44-4021-81c4-f86d52b6b29f",
   "metadata": {},
   "source": [
    "### Convert Wallaroo JSON File to Pandas DataFrame\n",
    "\n",
    "When working with files containing Wallaroo JSON data, these can be imported from their original JSON, then converted to a Pandas DataFrame object with the pandas method `read_json`."
   ]
  },
  {
   "cell_type": "code",
   "execution_count": null,
   "id": "fa01fe21-3f7e-4d14-b65d-d79182f91c4f",
   "metadata": {},
   "outputs": [],
   "source": [
    "high_fraud_filename = \"./data/high_fraud.json\"\n",
    "high_fraud_data_from_file =  pd.read_json(filename, orient=\"records\")\n",
    "display(high_fraud_data_from_file)"
   ]
  },
  {
   "attachments": {},
   "cell_type": "markdown",
   "id": "4b4733d7-552a-46a6-962b-53f4eabf69b5",
   "metadata": {},
   "source": [
    "The data can be used in an inference either with the `infer` method on the DataFrame object, or directly from the file.  Note that in either case, the returned object is a DataFrame."
   ]
  },
  {
   "attachments": {},
   "cell_type": "markdown",
   "id": "607bce46-7d15-4bf1-8ff9-0ea7e3b3773d",
   "metadata": {},
   "source": [
    "```python\n",
    "# Use this dataframe to infer\n",
    "# result_dataframe =  pipeline.infer(data)\n",
    "# display(result_dataframe)\n",
    "```\n",
    "\n",
    "DataFrame Result:\n",
    "\n",
    "```\n",
    "\ttime\tin.tensor\tout.dense_1\tcheck_failures\n",
    "0\t2023-02-23 16:01:46.486\t[1.0678324729, 18.1555563975, -1.6589551058, 5.2111788045, 2.3452470645, 10.4670835778, 5.0925820522, 12.8295153637, 4.9536770468, 2.3934736228, 23.912131818, 1.759956831, 0.8561037518, 1.1656456469, 0.5395988814, 0.7784221343, 6.7580610727, 3.9274118477, 12.4621782767, 12.3075382165, 13.7879519066, 1.4588397512, 3.6818346868, 1.753914366, 8.4843550037, 14.6454097667, 26.8523774363, 2.7165292377, 3.0611957069]\t[0.981199]\t0\n",
    "```\n",
    "\n",
    "```python\n",
    "# # or to use the file directly,\n",
    "result_json = pipeline.infer_from_file(filename)\n",
    "display(result_dataframe)\n",
    "```\n",
    "\n",
    "JSON Result:\n",
    "\n",
    "```\n",
    "\ttime\tin.tensor\tout.dense_1\tcheck_failures\n",
    "0\t2023-02-24 21:26:22.916\t[1.0678324729, 18.1555563975, -1.6589551058, 5.2111788045, 2.3452470645, 10.4670835778, 5.0925820522, 12.8295153637, 4.9536770468, 2.3934736228, 23.912131818, 1.759956831, 0.8561037518, 1.1656456469, 0.5395988814, 0.7784221343, 6.7580610727, 3.9274118477, 12.4621782767, 12.3075382165, 13.7879519066, 1.4588397512, 3.6818346868, 1.753914366, 8.4843550037, 14.6454097667, 26.8523774363, 2.7165292377, 3.0611957069]\t[0.981199]\t0\n",
    "```\n",
    "\n"
   ]
  },
  {
   "attachments": {},
   "cell_type": "markdown",
   "id": "3dba6211-38fb-4e07-a90f-34b4716d2854",
   "metadata": {},
   "source": []
  },
  {
   "attachments": {},
   "cell_type": "markdown",
   "id": "5ced31cc-dc26-49bd-8d3b-71b46fa88ea4",
   "metadata": {},
   "source": [
    "### Convert Pandas DataFrame to Arrow Table\n",
    "\n",
    "The helper file `convert_wallaroo_data.py` is used to convert from Pandas DataFrame to an Arrow Table with the following caveats:\n",
    "\n",
    "Arrow requires the user to specify the exact datatypes of the array elements before passing the data to the engine. If you are aware of what data type the model expects, create a dictionary with column names as key and data type as the value and pass it as a param in place of `data_type_dict`. If not, the `convert_to_pa_dtype` function will try and guess the equivalent pyarrow data type and use it (this may or may not work as intended)."
   ]
  },
  {
   "cell_type": "code",
   "execution_count": 8,
   "id": "fda0c1a2-eaa8-4f9c-92e4-bf2af9818028",
   "metadata": {},
   "outputs": [],
   "source": [
    "import convert_wallaroo_data"
   ]
  },
  {
   "cell_type": "code",
   "execution_count": 9,
   "id": "4155a91c-68bd-4381-bc98-1166ac074d04",
   "metadata": {},
   "outputs": [],
   "source": [
    "data_type_dict = {\"tensor\": pa.float32()}"
   ]
  },
  {
   "cell_type": "code",
   "execution_count": 11,
   "id": "76962da5-a2dc-4469-891d-9480e42bce15",
   "metadata": {},
   "outputs": [],
   "source": [
    "pa_table = convert_wallaroo_data.convert_pandas_to_arrow(high_fraud_dataframe, data_type_dict)"
   ]
  },
  {
   "cell_type": "code",
   "execution_count": 12,
   "id": "4d9d1d5d-82fe-4050-813c-68051e4eb5f2",
   "metadata": {},
   "outputs": [
    {
     "data": {
      "text/plain": [
       "pyarrow.Table\n",
       "tensor: fixed_size_list<item: float>[29]\n",
       "  child 0, item: float\n",
       "----\n",
       "tensor: [[[1.0678325,18.155556,-1.6589551,5.211179,2.345247,...,8.484355,14.64541,26.852377,2.7165291,3.0611956]]]"
      ]
     },
     "execution_count": 12,
     "metadata": {},
     "output_type": "execute_result"
    }
   ],
   "source": [
    "pa_table"
   ]
  },
  {
   "attachments": {},
   "cell_type": "markdown",
   "id": "3b8a50a7",
   "metadata": {},
   "source": [
    "An inference can be done using the arrow table.  The following shows the code sample and result.  Note that when submitting an Arrow table to `infer`, that the returned object is an Arrow table."
   ]
  },
  {
   "attachments": {},
   "cell_type": "markdown",
   "id": "594e989d-13c8-46e9-a513-a3a0865980be",
   "metadata": {},
   "source": [
    "```python\n",
    "# use the arrow table for infer:\n",
    "result = ccfraud_pipeline.infer(pa_table)\n",
    "display(result)\n",
    "\n",
    "pyarrow.Table\n",
    "time: timestamp[ms]\n",
    "in.tensor: list<item: float> not null\n",
    "  child 0, item: float\n",
    "out.dense_1: list<inner: float not null> not null\n",
    "  child 0, inner: float not null\n",
    "check_failures: int8\n",
    "----\n",
    "time: [[2023-02-24 21:40:26.752]]\n",
    "in.tensor: [[[1.0678325,18.155556,-1.6589551,5.211179,2.345247,...,8.484355,14.64541,26.852377,2.7165291,3.0611956]]]\n",
    "out.dense_1: [[[0.981199]]]\n",
    "check_failures: [[0]]\n",
    "```"
   ]
  },
  {
   "attachments": {},
   "cell_type": "markdown",
   "id": "d7bb814c",
   "metadata": {},
   "source": []
  },
  {
   "attachments": {},
   "cell_type": "markdown",
   "id": "bd77b5d3-c37b-464d-ba08-6d7eb470e326",
   "metadata": {},
   "source": [
    "### Save Arrow Table to Arrow File\n",
    "\n",
    "The converted Arrow table can be saved using the `pyarrow` library."
   ]
  },
  {
   "cell_type": "code",
   "execution_count": 13,
   "id": "7600ddb1-41cb-4286-afef-893bc71cc03a",
   "metadata": {},
   "outputs": [],
   "source": [
    "arrow_file_name = \"high_fraud.arrow\""
   ]
  },
  {
   "cell_type": "code",
   "execution_count": 14,
   "id": "4b56b877-5538-4c7e-bbcc-10d3d2fa3109",
   "metadata": {},
   "outputs": [],
   "source": [
    "with pa.OSFile(arrow_file_name, 'wb') as sink:\n",
    "    with pa.ipc.new_file(sink, pa_table.schema) as arrow_ipc:\n",
    "        arrow_ipc.write(pa_table)\n",
    "        arrow_ipc.close()"
   ]
  },
  {
   "attachments": {},
   "cell_type": "markdown",
   "id": "502d0adc",
   "metadata": {},
   "source": [
    "`infer_from_file` can be performed using the new `arrow` file.  Note again that when submitting an inference with an Arrow object, the returning value is an Arrow object.\n",
    "\n",
    "```python\n",
    "result = ccfraud_pipeline.infer_from_file('./data/high_fraud.arrow')\n",
    "display(result)\n",
    "\n",
    "pyarrow.Table\n",
    "time: timestamp[ms]\n",
    "in.tensor: list<item: float> not null\n",
    "  child 0, item: float\n",
    "out.dense_1: list<inner: float not null> not null\n",
    "  child 0, inner: float not null\n",
    "check_failures: int8\n",
    "----\n",
    "time: [[2023-02-24 21:49:04.323]]\n",
    "in.tensor: [[[1.0678325,18.155556,-1.6589551,5.211179,2.345247,...,8.484355,14.64541,26.852377,2.7165291,3.0611956]]]\n",
    "out.dense_1: [[[0.981199]]]\n",
    "check_failures: [[0]]\n",
    "```"
   ]
  },
  {
   "attachments": {},
   "cell_type": "markdown",
   "id": "6e47db16-89ad-4f7c-bcd9-5d8c403022bc",
   "metadata": {},
   "source": [
    "### Read Arrow File to DataFrame\n",
    "\n",
    "The data can go the opposite direction - reading from an Arrow file, and turning the data into either an Arrow table with the Arrow `read_all` method, or just the data into a DataFrame with the Arrow `read_pandas` method."
   ]
  },
  {
   "cell_type": "code",
   "execution_count": 15,
   "id": "131114ed-ff31-4af3-b8db-9945bba57d1a",
   "metadata": {},
   "outputs": [
    {
     "data": {
      "text/plain": [
       "pyarrow.Table\n",
       "tensor: fixed_size_list<item: float>[29]\n",
       "  child 0, item: float\n",
       "----\n",
       "tensor: [[[1.0678325,18.155556,-1.6589551,5.211179,2.345247,...,8.484355,14.64541,26.852377,2.7165291,3.0611956]]]"
      ]
     },
     "metadata": {},
     "output_type": "display_data"
    },
    {
     "data": {
      "text/html": [
       "<div>\n",
       "<style scoped>\n",
       "    .dataframe tbody tr th:only-of-type {\n",
       "        vertical-align: middle;\n",
       "    }\n",
       "\n",
       "    .dataframe tbody tr th {\n",
       "        vertical-align: top;\n",
       "    }\n",
       "\n",
       "    .dataframe thead th {\n",
       "        text-align: right;\n",
       "    }\n",
       "</style>\n",
       "<table border=\"1\" class=\"dataframe\">\n",
       "  <thead>\n",
       "    <tr style=\"text-align: right;\">\n",
       "      <th></th>\n",
       "      <th>tensor</th>\n",
       "    </tr>\n",
       "  </thead>\n",
       "  <tbody>\n",
       "    <tr>\n",
       "      <th>0</th>\n",
       "      <td>[1.0678325, 18.155556, -1.6589551, 5.211179, 2.345247, 10.467084, 5.092582, 12.829515, 4.953677, 2.3934736, 23.912132, 1.7599568, 0.8561038, 1.1656456, 0.5395989, 0.7784221, 6.758061, 3.9274118, 12.462178, 12.307538, 13.787951, 1.4588398, 3.6818347, 1.7539144, 8.484355, 14.64541, 26.852377, 2.7165291, 3.0611956]</td>\n",
       "    </tr>\n",
       "  </tbody>\n",
       "</table>\n",
       "</div>"
      ],
      "text/plain": [
       "                                                                                                                                                                                                                                                                                                                      tensor\n",
       "0  [1.0678325, 18.155556, -1.6589551, 5.211179, 2.345247, 10.467084, 5.092582, 12.829515, 4.953677, 2.3934736, 23.912132, 1.7599568, 0.8561038, 1.1656456, 0.5395989, 0.7784221, 6.758061, 3.9274118, 12.462178, 12.307538, 13.787951, 1.4588398, 3.6818347, 1.7539144, 8.484355, 14.64541, 26.852377, 2.7165291, 3.0611956]"
      ]
     },
     "metadata": {},
     "output_type": "display_data"
    }
   ],
   "source": [
    "with pa.ipc.open_file(arrow_file_name) as source:\n",
    "            table = source.read_all() # to get pyarrow table\n",
    "            table_df = source.read_pandas() # to get pandas dataframe\n",
    "            display(table)\n",
    "            display(table_df)"
   ]
  },
  {
   "attachments": {},
   "cell_type": "markdown",
   "id": "3e6e91a1-79cf-40d8-ad8b-9fc7419b5c8d",
   "metadata": {},
   "source": [
    "### Convert Arrow Infer to DataFrame\n",
    "\n",
    "When an infer result is returned as an Arrow object, it can be converted to a DataFrame for easy viewing.\n",
    "\n",
    "```python\n",
    "result = ccfraud_pipeline.infer_from_file('./data/high_fraud.arrow')\n",
    "display(result.to_pandas())\n",
    "\ttime\tin.tensor\tout.dense_1\tcheck_failures\n",
    "0\t2023-02-24 21:49:04.323\t[1.0678325, 18.155556, -1.6589551, 5.211179, 2.345247, 10.467084, 5.092582, 12.829515, 4.953677, 2.3934736, 23.912132, 1.7599568, 0.8561038, 1.1656456, 0.5395989, 0.7784221, 6.758061, 3.9274118, 12.462178, 12.307538, 13.787951, 1.4588398, 3.6818347, 1.7539144, 8.484355, 14.64541, 26.852377, 2.7165291, 3.0611956]\t[0.981199]\t0\n",
    "```"
   ]
  },
  {
   "cell_type": "markdown",
   "id": "0685655c-2d66-410f-a000-4289f26d219d",
   "metadata": {},
   "source": [
    "### Convert flattened arrow table to multi-dimensional pandas dataframe\n",
    "\n",
    "Currently, arrow doesn't give us a multi-dimensional result back nor does it provide the shape of the returned data. If you happen to know the shape of the data returned from the model, you could use it to reshape the flattened table to desired multi-dimensional pandas dataframe."
   ]
  },
  {
   "cell_type": "markdown",
   "id": "3765299a-0d77-4958-a537-179271605fd5",
   "metadata": {},
   "source": [
    "Here is a sample infer result data in arrow Table format."
   ]
  },
  {
   "cell_type": "code",
   "execution_count": 16,
   "id": "f1761dcc-2662-4fc4-a74f-9c3c43177a28",
   "metadata": {},
   "outputs": [
    {
     "data": {
      "text/plain": [
       "pyarrow.Table\n",
       "time: timestamp[us]\n",
       "in.tensor: list<item: double>\n",
       "  child 0, item: double\n",
       "out.reshape: list<item: double>\n",
       "  child 0, item: double\n",
       "check_failures: int64\n",
       "----\n",
       "time: [[2023-02-22 22:14:00.000000]]\n",
       "in.tensor: [[[1.5997242884551583,-0.72885535293112,-0.8464381472712799,-0.48041787186839674,0.8211244519635765,0.999086254697715,-1.365979802921807,0.36611200379560294,1.27093766309002,0.4895466723195178]]]\n",
       "out.reshape: [[[1.8749652,-0.94025564,-1.0790397,-0.72123086,0.90895796,1.092086,-1.2834015,0.340406,1.2441622,0.57471186]]]\n",
       "check_failures: [[0]]"
      ]
     },
     "execution_count": 16,
     "metadata": {},
     "output_type": "execute_result"
    }
   ],
   "source": [
    "time_array = pa.array([datetime.datetime(2023, 2 , 22, 22, 14)])\n",
    "in_tensor_array = pa.array([[1.5997242884551583,-0.72885535293112,-0.8464381472712799,-0.48041787186839674,0.8211244519635765,0.999086254697715,-1.365979802921807,0.36611200379560294,1.27093766309002,0.4895466723195178]])\n",
    "out_array = pa.array([[1.8749652,-0.94025564,-1.0790397,-0.72123086,0.90895796,1.092086,-1.2834015,0.340406,1.2441622,0.57471186]])\n",
    "check_failures_array = pa.array([0])\n",
    "names = [\"time\", \"in.tensor\", \"out.reshape\", \"check_failures\"]\n",
    "flattened_2d_table = pa.Table.from_arrays([time_array, in_tensor_array, out_array, check_failures_array], names = names)\n",
    "flattened_2d_table"
   ]
  },
  {
   "cell_type": "code",
   "execution_count": 17,
   "id": "22584404-414c-410a-86e3-944fa519ac3c",
   "metadata": {},
   "outputs": [
    {
     "data": {
      "text/plain": [
       "<pyarrow.lib.ChunkedArray object at 0x11e1ef630>\n",
       "[\n",
       "  [\n",
       "    [\n",
       "      1.8749652,\n",
       "      -0.94025564,\n",
       "      -1.0790397,\n",
       "      -0.72123086,\n",
       "      0.90895796,\n",
       "      1.092086,\n",
       "      -1.2834015,\n",
       "      0.340406,\n",
       "      1.2441622,\n",
       "      0.57471186\n",
       "    ]\n",
       "  ]\n",
       "]"
      ]
     },
     "execution_count": 17,
     "metadata": {},
     "output_type": "execute_result"
    }
   ],
   "source": [
    "flattened_2d_table[\"out.reshape\"]"
   ]
  },
  {
   "cell_type": "markdown",
   "id": "eed989b8-ec4f-46be-8c8a-3f872216faf1",
   "metadata": {},
   "source": [
    "#### Let's suppose the shape of the output that natively comes out of the model is [2,5]"
   ]
  },
  {
   "cell_type": "code",
   "execution_count": 18,
   "id": "76fea0b7-725a-4139-be46-07fa380a520b",
   "metadata": {},
   "outputs": [],
   "source": [
    "tensor_type = {\"shape\": [2, 5]}"
   ]
  },
  {
   "cell_type": "code",
   "execution_count": 19,
   "id": "e3edb9d0-644c-482a-94d7-a59e6708e082",
   "metadata": {},
   "outputs": [],
   "source": [
    "output_df = flattened_2d_table.to_pandas()['out.reshape'] "
   ]
  },
  {
   "cell_type": "code",
   "execution_count": 20,
   "id": "066692fe-763f-4769-947a-e2610479c776",
   "metadata": {},
   "outputs": [],
   "source": [
    "# numpy array, shape [N, 2, 5] \n",
    "# In this case N = 1\n",
    "output_list = [elt.reshape(tensor_type['shape']) for elt in output_df]\n",
    "output_tensor = np.stack(output_list)"
   ]
  },
  {
   "cell_type": "code",
   "execution_count": 21,
   "id": "13db9647-1e33-4734-949b-766bbd2879a2",
   "metadata": {},
   "outputs": [
    {
     "data": {
      "text/plain": [
       "array([[[ 1.8749652 , -0.94025564, -1.0790397 , -0.72123086,\n",
       "          0.90895796],\n",
       "        [ 1.092086  , -1.2834015 ,  0.340406  ,  1.2441622 ,\n",
       "          0.57471186]]])"
      ]
     },
     "execution_count": 21,
     "metadata": {},
     "output_type": "execute_result"
    }
   ],
   "source": [
    "output_tensor"
   ]
  },
  {
   "cell_type": "code",
   "execution_count": 22,
   "id": "7106f39d-240e-47dd-be62-f975fa97628e",
   "metadata": {},
   "outputs": [],
   "source": [
    "output_2d_df = pd.DataFrame(output_tensor.tolist())"
   ]
  },
  {
   "cell_type": "code",
   "execution_count": 23,
   "id": "150c644f-8551-430f-8f9a-939fba16acfc",
   "metadata": {},
   "outputs": [
    {
     "data": {
      "text/html": [
       "<div>\n",
       "<style scoped>\n",
       "    .dataframe tbody tr th:only-of-type {\n",
       "        vertical-align: middle;\n",
       "    }\n",
       "\n",
       "    .dataframe tbody tr th {\n",
       "        vertical-align: top;\n",
       "    }\n",
       "\n",
       "    .dataframe thead th {\n",
       "        text-align: right;\n",
       "    }\n",
       "</style>\n",
       "<table border=\"1\" class=\"dataframe\">\n",
       "  <thead>\n",
       "    <tr style=\"text-align: right;\">\n",
       "      <th></th>\n",
       "      <th>0</th>\n",
       "      <th>1</th>\n",
       "    </tr>\n",
       "  </thead>\n",
       "  <tbody>\n",
       "    <tr>\n",
       "      <th>0</th>\n",
       "      <td>[1.8749652, -0.94025564, -1.0790397, -0.72123086, 0.90895796]</td>\n",
       "      <td>[1.092086, -1.2834015, 0.340406, 1.2441622, 0.57471186]</td>\n",
       "    </tr>\n",
       "  </tbody>\n",
       "</table>\n",
       "</div>"
      ],
      "text/plain": [
       "                                                               0  \\\n",
       "0  [1.8749652, -0.94025564, -1.0790397, -0.72123086, 0.90895796]   \n",
       "\n",
       "                                                         1  \n",
       "0  [1.092086, -1.2834015, 0.340406, 1.2441622, 0.57471186]  "
      ]
     },
     "execution_count": 23,
     "metadata": {},
     "output_type": "execute_result"
    }
   ],
   "source": [
    "output_2d_df"
   ]
  }
 ],
 "metadata": {
  "kernelspec": {
   "display_name": "arrowtests",
   "language": "python",
   "name": "python3"
  },
  "language_info": {
   "codemirror_mode": {
    "name": "ipython",
    "version": 3
   },
   "file_extension": ".py",
   "mimetype": "text/x-python",
   "name": "python",
   "nbconvert_exporter": "python",
   "pygments_lexer": "ipython3",
   "version": "3.8.12"
  },
  "vscode": {
   "interpreter": {
    "hash": "7dda4bf3640b7fafcd1648658b879b4cc9f6ba6084e8fb356fdaaa1a461d1690"
   }
  }
 },
 "nbformat": 4,
 "nbformat_minor": 5
}
