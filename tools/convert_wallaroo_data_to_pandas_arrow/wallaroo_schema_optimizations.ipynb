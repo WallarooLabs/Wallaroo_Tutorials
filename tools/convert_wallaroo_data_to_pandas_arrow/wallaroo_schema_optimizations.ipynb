{
 "cells": [
  {
   "cell_type": "code",
   "execution_count": 1,
   "id": "9fc8c1a6",
   "metadata": {},
   "outputs": [],
   "source": [
    "import base64\n",
    "import io\n",
    "import json\n",
    "import numpy as np\n",
    "import numpy.testing as npt\n",
    "import pandas as pd\n",
    "import tempfile\n",
    "import time\n",
    "import uuid\n",
    "import pyarrow as pa"
   ]
  },
  {
   "cell_type": "code",
   "execution_count": 2,
   "id": "045c0bac",
   "metadata": {},
   "outputs": [],
   "source": [
    "# make the image\n",
    "\n",
    "# for testing different scenarios.\n",
    "X_RES = 6144\n",
    "Y_RES = 4096\n",
    "\n",
    "\n",
    "def mk_image():\n",
    "    \"\"\"Create a random image of size X_RES x Y_RES.\"\"\"\n",
    "    return np.random.randint(0, 256, (X_RES, Y_RES, 3), dtype=np.uint8)"
   ]
  },
  {
   "cell_type": "code",
   "execution_count": 3,
   "id": "e7ae0626",
   "metadata": {},
   "outputs": [
    {
     "name": "stdout",
     "output_type": "stream",
     "text": [
      "img.shape: (1, 6144, 4096, 3)\n"
     ]
    },
    {
     "data": {
      "text/plain": [
       "pyarrow.Table\n",
       "image: extension<arrow.fixed_shape_tensor[value_type=uint8, shape=[6144,4096,3]]>\n",
       "----\n",
       "image: [[[206,115,88,91,84,...,100,177,189,34,81]]]"
      ]
     },
     "metadata": {},
     "output_type": "display_data"
    }
   ],
   "source": [
    "# fixed shape tensor array\n",
    "\n",
    "fixed_arr_input_schema = pa.schema([\n",
    "    pa.field(\"image\", pa.fixed_shape_tensor(pa.uint8(), [X_RES, Y_RES, 3])),\n",
    "])\n",
    "\n",
    "fixed_arr_output_schema = pa.schema([\n",
    "    pa.field(\"res1\", pa.fixed_shape_tensor(pa.uint8(), [X_RES, Y_RES, 3])),\n",
    "    pa.field(\"res2\", pa.fixed_shape_tensor(pa.uint8(), [X_RES, Y_RES, 3])),\n",
    "    pa.field(\"res3\", pa.fixed_shape_tensor(pa.uint8(), [X_RES, Y_RES, 3])),\n",
    "    pa.field(\"res4\", pa.fixed_shape_tensor(pa.uint8(), [X_RES, Y_RES, 3])),\n",
    "])\n",
    "\n",
    "image = mk_image()\n",
    "image.shape = (1,) + image.shape\n",
    "print(f\"img.shape: {image.shape}\")\n",
    "data = pa.Table.from_pydict({ \"image\": pa.FixedShapeTensorArray.from_numpy_ndarray(image)}, fixed_arr_input_schema)\n",
    "display(data)"
   ]
  },
  {
   "cell_type": "code",
   "execution_count": 4,
   "id": "3986d9d9",
   "metadata": {},
   "outputs": [
    {
     "data": {
      "text/plain": [
       "pyarrow.Table\n",
       "image: list<item: uint8>\n",
       "  child 0, item: uint8\n",
       "----\n",
       "image: [[[206,115,88,91,84,...,100,177,189,34,81]]]"
      ]
     },
     "execution_count": 4,
     "metadata": {},
     "output_type": "execute_result"
    }
   ],
   "source": [
    "# from flattened array\n",
    "\n",
    "list_input_schema = pa.schema([\n",
    "    pa.field(\"image\", pa.list_(pa.uint8())),\n",
    "])\n",
    "\n",
    "list_output_schema = pa.schema([\n",
    "    pa.field(\"res1\", pa.list_(pa.uint8())),\n",
    "    pa.field(\"res2\", pa.list_(pa.uint8())),\n",
    "    pa.field(\"res3\", pa.list_(pa.uint8())),\n",
    "    pa.field(\"res4\", pa.list_(pa.uint8())),\n",
    "])\n",
    "\n",
    "img_flattened = image.flatten()\n",
    "\n",
    "data = pa.Table.from_pylist([{\"image\": img_flattened}])\n",
    "data"
   ]
  },
  {
   "cell_type": "code",
   "execution_count": 5,
   "id": "2fdd67e3",
   "metadata": {},
   "outputs": [
    {
     "data": {
      "text/html": [
       "<div>\n",
       "<style scoped>\n",
       "    .dataframe tbody tr th:only-of-type {\n",
       "        vertical-align: middle;\n",
       "    }\n",
       "\n",
       "    .dataframe tbody tr th {\n",
       "        vertical-align: top;\n",
       "    }\n",
       "\n",
       "    .dataframe thead th {\n",
       "        text-align: right;\n",
       "    }\n",
       "</style>\n",
       "<table border=\"1\" class=\"dataframe\">\n",
       "  <thead>\n",
       "    <tr style=\"text-align: right;\">\n",
       "      <th></th>\n",
       "      <th>image</th>\n",
       "    </tr>\n",
       "  </thead>\n",
       "  <tbody>\n",
       "    <tr>\n",
       "      <th>0</th>\n",
       "      <td>[[[[206, 115, 88], [91, 84, 214], [4, 122, 13]...</td>\n",
       "    </tr>\n",
       "  </tbody>\n",
       "</table>\n",
       "</div>"
      ],
      "text/plain": [
       "                                               image\n",
       "0  [[[[206, 115, 88], [91, 84, 214], [4, 122, 13]..."
      ]
     },
     "execution_count": 5,
     "metadata": {},
     "output_type": "execute_result"
    }
   ],
   "source": [
    "# dataframe list\n",
    "\n",
    "input_data_list = pd.DataFrame({\"image\": [image.tolist()]})\n",
    "input_data_list"
   ]
  },
  {
   "cell_type": "code",
   "execution_count": 6,
   "id": "2f040b26",
   "metadata": {},
   "outputs": [
    {
     "data": {
      "text/plain": [
       "pyarrow.Table\n",
       "image: list<item: list<item: list<item: list<item: int64>>>>\n",
       "  child 0, item: list<item: list<item: list<item: int64>>>\n",
       "      child 0, item: list<item: list<item: int64>>\n",
       "          child 0, item: list<item: int64>\n",
       "              child 0, item: int64\n",
       "----\n",
       "image: [[[[[[206,115,88],[91,84,214],...,[126,65,121],[226,206,88]],[[99,63,248],[242,129,169],...,[160,187,4],[93,56,111]],...,[[169,183,183],[51,196,173],...,[249,193,130],[121,160,127]],[[126,86,127],[42,123,252],...,[223,100,177],[189,34,81]]]]]]"
      ]
     },
     "execution_count": 6,
     "metadata": {},
     "output_type": "execute_result"
    }
   ],
   "source": [
    "list_input_schema = pa.schema([\n",
    "    pa.field(\"image\", pa.list_(pa.list_(pa.list_(pa.list_(pa.int64()))))),\n",
    "])\n",
    "\n",
    "input_table_list = pa.Table.from_pydict({\"image\": [image.tolist()]}, list_input_schema)\n",
    "input_table_list"
   ]
  },
  {
   "cell_type": "code",
   "execution_count": 7,
   "id": "3b537c9e",
   "metadata": {},
   "outputs": [
    {
     "data": {
      "text/html": [
       "<div>\n",
       "<style scoped>\n",
       "    .dataframe tbody tr th:only-of-type {\n",
       "        vertical-align: middle;\n",
       "    }\n",
       "\n",
       "    .dataframe tbody tr th {\n",
       "        vertical-align: top;\n",
       "    }\n",
       "\n",
       "    .dataframe thead th {\n",
       "        text-align: right;\n",
       "    }\n",
       "</style>\n",
       "<table border=\"1\" class=\"dataframe\">\n",
       "  <thead>\n",
       "    <tr style=\"text-align: right;\">\n",
       "      <th></th>\n",
       "      <th>image</th>\n",
       "    </tr>\n",
       "  </thead>\n",
       "  <tbody>\n",
       "    <tr>\n",
       "      <th>0</th>\n",
       "      <td>[[[[206 115  88], [ 91  84 214], [  4 122  13]...</td>\n",
       "    </tr>\n",
       "  </tbody>\n",
       "</table>\n",
       "</div>"
      ],
      "text/plain": [
       "                                               image\n",
       "0  [[[[206 115  88], [ 91  84 214], [  4 122  13]..."
      ]
     },
     "execution_count": 7,
     "metadata": {},
     "output_type": "execute_result"
    }
   ],
   "source": [
    "# dataframe numpy\n",
    "\n",
    "input_data_numpy = pd.DataFrame({\"image\": [np.array(image)]})\n",
    "input_data_numpy"
   ]
  },
  {
   "cell_type": "code",
   "execution_count": 8,
   "id": "be6cedfc",
   "metadata": {},
   "outputs": [
    {
     "ename": "ArrowInvalid",
     "evalue": "('Can only convert 1-dimensional array values', 'Conversion failed for column image with type object')",
     "output_type": "error",
     "traceback": [
      "\u001b[0;31m---------------------------------------------------------------------------\u001b[0m",
      "\u001b[0;31mArrowInvalid\u001b[0m                              Traceback (most recent call last)",
      "\u001b[0;32m/var/folders/rs/yt_dh9xn6y39_h0_jth1mjb40000gq/T/ipykernel_47485/2333123893.py\u001b[0m in \u001b[0;36m<module>\u001b[0;34m\u001b[0m\n\u001b[0;32m----> 1\u001b[0;31m \u001b[0minput_data_table_numpy\u001b[0m \u001b[0;34m=\u001b[0m \u001b[0mpa\u001b[0m\u001b[0;34m.\u001b[0m\u001b[0mTable\u001b[0m\u001b[0;34m.\u001b[0m\u001b[0mfrom_pandas\u001b[0m\u001b[0;34m(\u001b[0m\u001b[0minput_data_numpy\u001b[0m\u001b[0;34m)\u001b[0m\u001b[0;34m\u001b[0m\u001b[0;34m\u001b[0m\u001b[0m\n\u001b[0m\u001b[1;32m      2\u001b[0m \u001b[0minput_data_table_numpy\u001b[0m\u001b[0;34m\u001b[0m\u001b[0;34m\u001b[0m\u001b[0m\n",
      "\u001b[0;32m~/.virtualenvs/wallaroosdk2025.1/lib/python3.10/site-packages/pyarrow/table.pxi\u001b[0m in \u001b[0;36mpyarrow.lib.Table.from_pandas\u001b[0;34m()\u001b[0m\n",
      "\u001b[0;32m~/.virtualenvs/wallaroosdk2025.1/lib/python3.10/site-packages/pyarrow/pandas_compat.py\u001b[0m in \u001b[0;36mdataframe_to_arrays\u001b[0;34m(df, schema, preserve_index, nthreads, columns, safe)\u001b[0m\n\u001b[1;32m    611\u001b[0m \u001b[0;34m\u001b[0m\u001b[0m\n\u001b[1;32m    612\u001b[0m     \u001b[0;32mif\u001b[0m \u001b[0mnthreads\u001b[0m \u001b[0;34m==\u001b[0m \u001b[0;36m1\u001b[0m\u001b[0;34m:\u001b[0m\u001b[0;34m\u001b[0m\u001b[0;34m\u001b[0m\u001b[0m\n\u001b[0;32m--> 613\u001b[0;31m         arrays = [convert_column(c, f)\n\u001b[0m\u001b[1;32m    614\u001b[0m                   for c, f in zip(columns_to_convert, convert_fields)]\n\u001b[1;32m    615\u001b[0m     \u001b[0;32melse\u001b[0m\u001b[0;34m:\u001b[0m\u001b[0;34m\u001b[0m\u001b[0;34m\u001b[0m\u001b[0m\n",
      "\u001b[0;32m~/.virtualenvs/wallaroosdk2025.1/lib/python3.10/site-packages/pyarrow/pandas_compat.py\u001b[0m in \u001b[0;36m<listcomp>\u001b[0;34m(.0)\u001b[0m\n\u001b[1;32m    611\u001b[0m \u001b[0;34m\u001b[0m\u001b[0m\n\u001b[1;32m    612\u001b[0m     \u001b[0;32mif\u001b[0m \u001b[0mnthreads\u001b[0m \u001b[0;34m==\u001b[0m \u001b[0;36m1\u001b[0m\u001b[0;34m:\u001b[0m\u001b[0;34m\u001b[0m\u001b[0;34m\u001b[0m\u001b[0m\n\u001b[0;32m--> 613\u001b[0;31m         arrays = [convert_column(c, f)\n\u001b[0m\u001b[1;32m    614\u001b[0m                   for c, f in zip(columns_to_convert, convert_fields)]\n\u001b[1;32m    615\u001b[0m     \u001b[0;32melse\u001b[0m\u001b[0;34m:\u001b[0m\u001b[0;34m\u001b[0m\u001b[0;34m\u001b[0m\u001b[0m\n",
      "\u001b[0;32m~/.virtualenvs/wallaroosdk2025.1/lib/python3.10/site-packages/pyarrow/pandas_compat.py\u001b[0m in \u001b[0;36mconvert_column\u001b[0;34m(col, field)\u001b[0m\n\u001b[1;32m    598\u001b[0m             e.args += (\"Conversion failed for column {!s} with type {!s}\"\n\u001b[1;32m    599\u001b[0m                        .format(col.name, col.dtype),)\n\u001b[0;32m--> 600\u001b[0;31m             \u001b[0;32mraise\u001b[0m \u001b[0me\u001b[0m\u001b[0;34m\u001b[0m\u001b[0;34m\u001b[0m\u001b[0m\n\u001b[0m\u001b[1;32m    601\u001b[0m         \u001b[0;32mif\u001b[0m \u001b[0;32mnot\u001b[0m \u001b[0mfield_nullable\u001b[0m \u001b[0;32mand\u001b[0m \u001b[0mresult\u001b[0m\u001b[0;34m.\u001b[0m\u001b[0mnull_count\u001b[0m \u001b[0;34m>\u001b[0m \u001b[0;36m0\u001b[0m\u001b[0;34m:\u001b[0m\u001b[0;34m\u001b[0m\u001b[0;34m\u001b[0m\u001b[0m\n\u001b[1;32m    602\u001b[0m             raise ValueError(\"Field {} was non-nullable but pandas column \"\n",
      "\u001b[0;32m~/.virtualenvs/wallaroosdk2025.1/lib/python3.10/site-packages/pyarrow/pandas_compat.py\u001b[0m in \u001b[0;36mconvert_column\u001b[0;34m(col, field)\u001b[0m\n\u001b[1;32m    592\u001b[0m \u001b[0;34m\u001b[0m\u001b[0m\n\u001b[1;32m    593\u001b[0m         \u001b[0;32mtry\u001b[0m\u001b[0;34m:\u001b[0m\u001b[0;34m\u001b[0m\u001b[0;34m\u001b[0m\u001b[0m\n\u001b[0;32m--> 594\u001b[0;31m             \u001b[0mresult\u001b[0m \u001b[0;34m=\u001b[0m \u001b[0mpa\u001b[0m\u001b[0;34m.\u001b[0m\u001b[0marray\u001b[0m\u001b[0;34m(\u001b[0m\u001b[0mcol\u001b[0m\u001b[0;34m,\u001b[0m \u001b[0mtype\u001b[0m\u001b[0;34m=\u001b[0m\u001b[0mtype_\u001b[0m\u001b[0;34m,\u001b[0m \u001b[0mfrom_pandas\u001b[0m\u001b[0;34m=\u001b[0m\u001b[0;32mTrue\u001b[0m\u001b[0;34m,\u001b[0m \u001b[0msafe\u001b[0m\u001b[0;34m=\u001b[0m\u001b[0msafe\u001b[0m\u001b[0;34m)\u001b[0m\u001b[0;34m\u001b[0m\u001b[0;34m\u001b[0m\u001b[0m\n\u001b[0m\u001b[1;32m    595\u001b[0m         except (pa.ArrowInvalid,\n\u001b[1;32m    596\u001b[0m                 \u001b[0mpa\u001b[0m\u001b[0;34m.\u001b[0m\u001b[0mArrowNotImplementedError\u001b[0m\u001b[0;34m,\u001b[0m\u001b[0;34m\u001b[0m\u001b[0;34m\u001b[0m\u001b[0m\n",
      "\u001b[0;32m~/.virtualenvs/wallaroosdk2025.1/lib/python3.10/site-packages/pyarrow/array.pxi\u001b[0m in \u001b[0;36mpyarrow.lib.array\u001b[0;34m()\u001b[0m\n",
      "\u001b[0;32m~/.virtualenvs/wallaroosdk2025.1/lib/python3.10/site-packages/pyarrow/array.pxi\u001b[0m in \u001b[0;36mpyarrow.lib._ndarray_to_array\u001b[0;34m()\u001b[0m\n",
      "\u001b[0;32m~/.virtualenvs/wallaroosdk2025.1/lib/python3.10/site-packages/pyarrow/error.pxi\u001b[0m in \u001b[0;36mpyarrow.lib.check_status\u001b[0;34m()\u001b[0m\n",
      "\u001b[0;31mArrowInvalid\u001b[0m: ('Can only convert 1-dimensional array values', 'Conversion failed for column image with type object')"
     ]
    }
   ],
   "source": [
    "input_data_table_numpy = pa.Table.from_pandas(input_data_numpy)\n",
    "input_data_table_numpy\n"
   ]
  },
  {
   "cell_type": "code",
   "execution_count": null,
   "id": "5a84af27",
   "metadata": {},
   "outputs": [],
   "source": []
  }
 ],
 "metadata": {
  "kernelspec": {
   "display_name": "wallaroosdk2025.1",
   "language": "python",
   "name": "python3"
  },
  "language_info": {
   "codemirror_mode": {
    "name": "ipython",
    "version": 3
   },
   "file_extension": ".py",
   "mimetype": "text/x-python",
   "name": "python",
   "nbconvert_exporter": "python",
   "pygments_lexer": "ipython3",
   "version": "3.10.16"
  }
 },
 "nbformat": 4,
 "nbformat_minor": 5
}
