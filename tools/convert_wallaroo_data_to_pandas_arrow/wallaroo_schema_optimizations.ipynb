{
 "cells": [
  {
   "cell_type": "code",
   "execution_count": 131,
   "id": "9fc8c1a6",
   "metadata": {},
   "outputs": [],
   "source": [
    "import base64\n",
    "import io\n",
    "import json\n",
    "import numpy as np\n",
    "import numpy.testing as npt\n",
    "import pandas as pd\n",
    "import tempfile\n",
    "import time\n",
    "import uuid\n",
    "import pyarrow as pa\n",
    "import sys\n",
    "import os"
   ]
  },
  {
   "cell_type": "code",
   "execution_count": 132,
   "id": "045c0bac",
   "metadata": {},
   "outputs": [],
   "source": [
    "# make the image\n",
    "\n",
    "# for testing different scenarios.\n",
    "X_RES = 6144\n",
    "Y_RES = 4096\n",
    "\n",
    "\n",
    "def mk_image():\n",
    "    \"\"\"Create a random image of size X_RES x Y_RES.\"\"\"\n",
    "    return np.random.randint(0, 256, (X_RES, Y_RES, 3), dtype=np.uint16)\n",
    "\n",
    "def mk_image_16():\n",
    "    \"\"\"Create a random image of size X_RES x Y_RES.\"\"\"\n",
    "    return np.random.randint(0, 256, (X_RES, Y_RES, 3), dtype=np.uint16)"
   ]
  },
  {
   "cell_type": "code",
   "execution_count": 133,
   "id": "2fdd67e3",
   "metadata": {},
   "outputs": [
    {
     "data": {
      "text/html": [
       "<div>\n",
       "<style scoped>\n",
       "    .dataframe tbody tr th:only-of-type {\n",
       "        vertical-align: middle;\n",
       "    }\n",
       "\n",
       "    .dataframe tbody tr th {\n",
       "        vertical-align: top;\n",
       "    }\n",
       "\n",
       "    .dataframe thead th {\n",
       "        text-align: right;\n",
       "    }\n",
       "</style>\n",
       "<table border=\"1\" class=\"dataframe\">\n",
       "  <thead>\n",
       "    <tr style=\"text-align: right;\">\n",
       "      <th></th>\n",
       "      <th>image</th>\n",
       "    </tr>\n",
       "  </thead>\n",
       "  <tbody>\n",
       "    <tr>\n",
       "      <th>0</th>\n",
       "      <td>[[[77, 23, 187], [70, 111, 16], [187, 65, 47],...</td>\n",
       "    </tr>\n",
       "  </tbody>\n",
       "</table>\n",
       "</div>"
      ],
      "text/plain": [
       "                                               image\n",
       "0  [[[77, 23, 187], [70, 111, 16], [187, 65, 47],..."
      ]
     },
     "metadata": {},
     "output_type": "display_data"
    }
   ],
   "source": [
    "# dataframe list\n",
    "\n",
    "image = mk_image()\n",
    "unmodified_dataframe = pd.DataFrame({\"image\": [image.tolist()]})\n",
    "display(unmodified_dataframe)"
   ]
  },
  {
   "cell_type": "code",
   "execution_count": 134,
   "id": "c6487434",
   "metadata": {},
   "outputs": [
    {
     "data": {
      "text/plain": [
       "array([[[ 77,  23, 187],\n",
       "        [ 70, 111,  16],\n",
       "        [187,  65,  47],\n",
       "        ...,\n",
       "        [191, 112, 119],\n",
       "        [ 72, 225,  41],\n",
       "        [127, 172, 243]],\n",
       "\n",
       "       [[156, 188,  66],\n",
       "        [ 64, 248, 147],\n",
       "        [204, 116, 186],\n",
       "        ...,\n",
       "        [193, 252,  85],\n",
       "        [ 45, 110,  93],\n",
       "        [ 41,  31, 147]],\n",
       "\n",
       "       [[ 41, 147, 233],\n",
       "        [ 23, 178, 195],\n",
       "        [172, 143,  13],\n",
       "        ...,\n",
       "        [ 47,  59, 210],\n",
       "        [236,  23,  65],\n",
       "        [  7, 105, 218]],\n",
       "\n",
       "       ...,\n",
       "\n",
       "       [[192,  32, 218],\n",
       "        [ 29, 142, 123],\n",
       "        [ 18, 245, 181],\n",
       "        ...,\n",
       "        [250, 197,  20],\n",
       "        [219, 198,  80],\n",
       "        [175, 237,   2]],\n",
       "\n",
       "       [[119, 209,   8],\n",
       "        [ 63,  67, 233],\n",
       "        [129, 201, 235],\n",
       "        ...,\n",
       "        [209,  55,  24],\n",
       "        [ 98, 215,  99],\n",
       "        [240,  83, 171]],\n",
       "\n",
       "       [[109,  57, 129],\n",
       "        [248, 157, 181],\n",
       "        [245,  16,  20],\n",
       "        ...,\n",
       "        [130, 203, 129],\n",
       "        [ 63, 245, 150],\n",
       "        [104, 230,  51]]], dtype=uint16)"
      ]
     },
     "execution_count": 134,
     "metadata": {},
     "output_type": "execute_result"
    }
   ],
   "source": [
    "image"
   ]
  },
  {
   "cell_type": "code",
   "execution_count": 135,
   "id": "731399fb",
   "metadata": {},
   "outputs": [
    {
     "data": {
      "text/html": [
       "<div>\n",
       "<style scoped>\n",
       "    .dataframe tbody tr th:only-of-type {\n",
       "        vertical-align: middle;\n",
       "    }\n",
       "\n",
       "    .dataframe tbody tr th {\n",
       "        vertical-align: top;\n",
       "    }\n",
       "\n",
       "    .dataframe thead th {\n",
       "        text-align: right;\n",
       "    }\n",
       "</style>\n",
       "<table border=\"1\" class=\"dataframe\">\n",
       "  <thead>\n",
       "    <tr style=\"text-align: right;\">\n",
       "      <th></th>\n",
       "      <th>prompt</th>\n",
       "      <th>max_tokens</th>\n",
       "    </tr>\n",
       "  </thead>\n",
       "  <tbody>\n",
       "    <tr>\n",
       "      <th>0</th>\n",
       "      <td>What is Wallaroo.AI?</td>\n",
       "      <td>200</td>\n",
       "    </tr>\n",
       "  </tbody>\n",
       "</table>\n",
       "</div>"
      ],
      "text/plain": [
       "                 prompt  max_tokens\n",
       "0  What is Wallaroo.AI?         200"
      ]
     },
     "metadata": {},
     "output_type": "display_data"
    }
   ],
   "source": [
    "data = pd.DataFrame({\"prompt\": [\"What is Wallaroo.AI?\"], \"max_tokens\": [200]})\n",
    "display(data)"
   ]
  },
  {
   "cell_type": "code",
   "execution_count": 136,
   "id": "2f040b26",
   "metadata": {},
   "outputs": [
    {
     "data": {
      "text/plain": [
       "pyarrow.Table\n",
       "image: list<item: list<item: list<item: uint16>>>\n",
       "  child 0, item: list<item: list<item: uint16>>\n",
       "      child 0, item: list<item: uint16>\n",
       "          child 0, item: uint16\n",
       "----\n",
       "image: [[[[[77,23,187],[70,111,16],...,[72,225,41],[127,172,243]],[[156,188,66],[64,248,147],...,[45,110,93],[41,31,147]],...,[[119,209,8],[63,67,233],...,[98,215,99],[240,83,171]],[[109,57,129],[248,157,181],...,[63,245,150],[104,230,51]]]]]"
      ]
     },
     "metadata": {},
     "output_type": "display_data"
    }
   ],
   "source": [
    "# apache arrow table\n",
    "\n",
    "list_input_schema = pa.schema([\n",
    "    pa.field('image', pa.list_(pa.list_(pa.list_(pa.uint16())))),\n",
    "])\n",
    "\n",
    "unmodified_arrow_table = pa.Table.from_pydict({\"image\": [image.tolist()]}, list_input_schema)\n",
    "display(unmodified_arrow_table)"
   ]
  },
  {
   "cell_type": "code",
   "execution_count": 153,
   "id": "0f530376",
   "metadata": {},
   "outputs": [
    {
     "data": {
      "text/plain": [
       "array([ 77,  23, 187, ..., 104, 230,  51], dtype=uint16)"
      ]
     },
     "execution_count": 153,
     "metadata": {},
     "output_type": "execute_result"
    }
   ],
   "source": [
    "img_flattened = image.flatten()\n",
    "img_flattened"
   ]
  },
  {
   "cell_type": "code",
   "execution_count": null,
   "id": "9b0c9c88",
   "metadata": {},
   "outputs": [
    {
     "data": {
      "text/plain": [
       "array([ 77,  23, 187, ..., 104, 230,  51], dtype=uint16)"
      ]
     },
     "metadata": {},
     "output_type": "display_data"
    },
    {
     "data": {
      "text/plain": [
       "6144"
      ]
     },
     "metadata": {},
     "output_type": "display_data"
    },
    {
     "data": {
      "text/plain": [
       "4096"
      ]
     },
     "metadata": {},
     "output_type": "display_data"
    },
    {
     "data": {
      "text/plain": [
       "pyarrow.Table\n",
       "image: uint16\n",
       "----\n",
       "image: [[77,23,187,70,111,...,245,150,104,230,51]]"
      ]
     },
     "metadata": {},
     "output_type": "display_data"
    }
   ],
   "source": [
    "# input schema\n",
    "input_schema = pa.schema([\n",
    "    pa.field('image', pa.list_(pa.uint16())),\n",
    "    pa.field('dim0', pa.int64()),\n",
    "    pa.field('dim1', pa.int64()),\n",
    "])\n",
    "\n",
    "input_schema = pa.schema([\n",
    "    pa.field('image', pa.list_(pa.uint16()))\n",
    "    ]\n",
    ")\n",
    "\n",
    "# output schema\n",
    "output_schema = pa.schema([\n",
    "    pa.field('image', pa.list_(pa.uint16())),\n",
    "    pa.field('virtual_stain', pa.list_(pa.uint8()))\n",
    "])\n",
    "\n",
    "# \"dim0\": image.shape[0],\n",
    "#                                                     \"dim1\": image.shape[1]\n",
    "display(img_flattened)\n",
    "display(image.shape[0])\n",
    "display(image.shape[1])\n",
    "\n",
    "dim0 = image.shape[0]\n",
    "\n",
    "# table_with_flattened_array = pa.Table.from_pydict({\"image\": img_flattened,\n",
    "#                                                    \"dim0\": 64})\n",
    "table_with_flattened_array = pa.Table.from_pydict({\"image\": img_flattened})\n",
    "display(table_with_flattened_array)"
   ]
  },
  {
   "cell_type": "code",
   "execution_count": 127,
   "id": "e7ae0626",
   "metadata": {},
   "outputs": [
    {
     "data": {
      "text/plain": [
       "pyarrow.Table\n",
       "image: extension<arrow.fixed_shape_tensor[value_type=uint16, shape=[6144,4096,3]]>\n",
       "----\n",
       "image: [[[27,159,139,114,107,...,135,175,104,193,228]]]"
      ]
     },
     "metadata": {},
     "output_type": "display_data"
    }
   ],
   "source": [
    "# fixed shape tensor array\n",
    "\n",
    "fixed_arr_input_schema = pa.schema([\n",
    "    pa.field(\"image\", pa.fixed_shape_tensor(pa.uint8(), [X_RES, Y_RES, 3])),\n",
    "])\n",
    "\n",
    "fixed_arr_output_schema = pa.schema([\n",
    "    pa.field(\"res1\", pa.fixed_shape_tensor(pa.uint8(), [X_RES, Y_RES, 3])),\n",
    "    pa.field(\"res2\", pa.fixed_shape_tensor(pa.uint8(), [X_RES, Y_RES, 3])),\n",
    "    pa.field(\"res3\", pa.fixed_shape_tensor(pa.uint8(), [X_RES, Y_RES, 3])),\n",
    "    pa.field(\"res4\", pa.fixed_shape_tensor(pa.uint8(), [X_RES, Y_RES, 3])),\n",
    "])\n",
    "\n",
    "input_schema = pa.schema([\n",
    "    pa.field('image', pa.fixed_shape_tensor(pa.uint16(), [6144, 4096, 3])),\n",
    "])\n",
    "\n",
    "# output schema\n",
    "\n",
    "output_schema = pa.schema([\n",
    "    pa.field('image', pa.fixed_shape_tensor(pa.uint16(), [6144, 4096, 3])),\n",
    "    pa.field('virtual_stain', pa.fixed_shape_tensor(pa.uint8(), [6144, 4096, 3]))\n",
    "])\n",
    "\n",
    "\n",
    "image = mk_image()\n",
    "image.shape = (1,) + image.shape\n",
    "table_with_fixed_shape_tensor_array = pa.Table.from_pydict({ \"image\": pa.FixedShapeTensorArray.from_numpy_ndarray(image)}, input_schema)\n",
    "display(table_with_fixed_shape_tensor_array)"
   ]
  },
  {
   "cell_type": "code",
   "execution_count": null,
   "id": "c99d364a",
   "metadata": {},
   "outputs": [],
   "source": []
  }
 ],
 "metadata": {
  "kernelspec": {
   "display_name": "wallaroosdk2025.1",
   "language": "python",
   "name": "python3"
  },
  "language_info": {
   "codemirror_mode": {
    "name": "ipython",
    "version": 3
   },
   "file_extension": ".py",
   "mimetype": "text/x-python",
   "name": "python",
   "nbconvert_exporter": "python",
   "pygments_lexer": "ipython3",
   "version": "3.10.16"
  }
 },
 "nbformat": 4,
 "nbformat_minor": 5
}
