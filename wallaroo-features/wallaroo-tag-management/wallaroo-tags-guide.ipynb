{
 "cells": [
  {
   "attachments": {},
   "cell_type": "markdown",
   "metadata": {},
   "source": [
    "This tutorial and the assets can be downloaded as part of the [Wallaroo Tutorials repository](https://github.com/WallarooLabs/Wallaroo_Tutorials/tree/main/wallaroo-features/wallaroo-tag-management).\n",
    "\n",
    "## Wallaroo SDK Tag Tutorial\n",
    "\n",
    "The following tutorial demonstrates how to use Wallaroo Tags.  Tags are applied to either model versions or pipelines.  This allows organizations to track different versions of models, and search for what pipelines have been used for specific purposes such as testing versus production use.\n",
    "\n",
    "The following will be demonstrated:\n",
    "\n",
    "* List all tags in a Wallaroo instance.\n",
    "* List all tags applied to a model.\n",
    "* List all tags applied to a pipeline.\n",
    "* Apply a tag to a model.\n",
    "* Remove a tag from a model.\n",
    "* Apply a tag to a pipeline.\n",
    "* Remove a tag from a pipeline.\n",
    "* Search for a model version by a tag.\n",
    "* Search for a pipeline by a tag.\n",
    "\n",
    "This demonstration provides the following through the Wallaroo Tutorials Github Repository:\n",
    "\n",
    "* `models/ccfraud.onnx`: a sample model used as part of the [Wallaroo 101 Tutorials](https://docs.wallaroo.ai/wallaroo-101/).\n",
    "\n",
    "## Prerequisites\n",
    "\n",
    "* A deployed Wallaroo instance\n",
    "* The following Python libraries installed:\n",
    "  * `os`\n",
    "  * `string`\n",
    "  * `random`\n",
    "  * [`wallaroo`](https://pypi.org/project/wallaroo/): The Wallaroo SDK. Included with the Wallaroo JupyterHub service by default."
   ]
  },
  {
   "cell_type": "markdown",
   "metadata": {},
   "source": [
    "## Steps\n",
    "\n",
    "The following steps are performed use to connect to a Wallaroo instance and demonstrate how to use tags with models and pipelines.\n",
    "\n",
    "### Load Libraries\n",
    "\n",
    "The first step is to load the libraries used to connect and use a Wallaroo instance."
   ]
  },
  {
   "cell_type": "code",
   "execution_count": 1,
   "metadata": {},
   "outputs": [],
   "source": [
    "import wallaroo\n",
    "from wallaroo.object import EntityNotFoundError\n",
    "import pandas as pd\n",
    "\n",
    "# used to display dataframe information without truncating\n",
    "from IPython.display import display\n",
    "pd.set_option('display.max_colwidth', None)"
   ]
  },
  {
   "cell_type": "markdown",
   "metadata": {},
   "source": [
    "### Connect to Wallaroo\n",
    "\n",
    "The following command is used to connect to a Wallaroo instance from within a Wallaroo Jupyter Hub service.  For more information on connecting to a Wallaroo instance, see the [Wallaroo SDK Guides](https://docs.wallaroo.ai/wallaroo-developer-guides/wallaroo-sdk-guides/)."
   ]
  },
  {
   "cell_type": "code",
   "execution_count": 2,
   "metadata": {},
   "outputs": [],
   "source": [
    "# Client connection from local Wallaroo instance\n",
    "\n",
    "wl = wallaroo.Client()\n",
    "\n",
    "# SSO login through keycloak\n",
    "\n",
    "# wallarooPrefix = \"YOUR PREFIX\"\n",
    "# wallarooSuffix = \"YOUR SUFFIX\"\n",
    "\n",
    "# wl = wallaroo.Client(api_endpoint=f\"https://{wallarooPrefix}.api.{wallarooSuffix}\", \n",
    "#                     auth_endpoint=f\"https://{wallarooPrefix}.keycloak.{wallarooSuffix}\", \n",
    "#                     auth_type=\"sso\")"
   ]
  },
  {
   "attachments": {},
   "cell_type": "markdown",
   "metadata": {},
   "source": [
    "### Set Variables\n",
    "\n",
    "The following variables are used to create or connect to existing workspace and pipeline.  The model name and model file are set as well.  Adjust as required for your organization's needs.\n",
    "\n",
    "The methods `get_workspace` and `get_pipeline` are used to either create a new workspace and pipeline based on the variables below, or connect to an existing workspace and pipeline with the same name.  Once complete, the workspace will be set as the current workspace where pipelines and models are used.\n",
    "\n",
    "To allow this tutorial to be run multiple times or by multiple users in the same Wallaroo instance, a random 4 character prefix will be added to the workspace, pipeline, and model."
   ]
  },
  {
   "cell_type": "code",
   "execution_count": 4,
   "metadata": {},
   "outputs": [],
   "source": [
    "import string\n",
    "import random\n",
    "\n",
    "# make a random 4 character prefix\n",
    "prefix= ''.join(random.choice(string.ascii_lowercase) for i in range(4))\n",
    "\n",
    "workspace_name = f'{prefix}tagtestworkspace'\n",
    "pipeline_name = f'{prefix}tagtestpipeline'\n",
    "model_name = f'{prefix}tagtestmodel'\n",
    "model_file_name = './models/ccfraud.onnx'"
   ]
  },
  {
   "cell_type": "code",
   "execution_count": 5,
   "metadata": {},
   "outputs": [],
   "source": [
    "def get_workspace(name):\n",
    "    workspace = None\n",
    "    for ws in wl.list_workspaces():\n",
    "        if ws.name() == name:\n",
    "            workspace= ws\n",
    "    if(workspace == None):\n",
    "        workspace = wl.create_workspace(name)\n",
    "    return workspace\n",
    "\n",
    "def get_pipeline(name):\n",
    "    try:\n",
    "        pipeline = wl.pipelines_by_name(pipeline_name)[0]\n",
    "    except EntityNotFoundError:\n",
    "        pipeline = wl.build_pipeline(pipeline_name)\n",
    "    return pipeline"
   ]
  },
  {
   "cell_type": "code",
   "execution_count": 6,
   "metadata": {},
   "outputs": [
    {
     "data": {
      "text/plain": [
       "{'name': 'efxvtagtestworkspace', 'id': 15, 'archived': False, 'created_by': '435da905-31e2-4e74-b423-45c38edb5889', 'created_at': '2023-02-27T18:02:16.272068+00:00', 'models': [], 'pipelines': []}"
      ]
     },
     "execution_count": 6,
     "metadata": {},
     "output_type": "execute_result"
    }
   ],
   "source": [
    "workspace = get_workspace(workspace_name)\n",
    "\n",
    "wl.set_current_workspace(workspace)"
   ]
  },
  {
   "cell_type": "markdown",
   "metadata": {},
   "source": [
    "### Upload Model and Create Pipeline\n",
    "\n",
    "The `tagtest_model` and `tagtest_pipeline` will be created (or connected if already existing) based on the variables set earlier."
   ]
  },
  {
   "cell_type": "code",
   "execution_count": 7,
   "metadata": {},
   "outputs": [
    {
     "data": {
      "text/plain": [
       "{'name': 'efxvtagtestmodel', 'version': '254a2888-0c8b-4172-97c3-c3547bbe6644', 'file_name': 'ccfraud.onnx', 'image_path': None, 'last_update_time': datetime.datetime(2023, 2, 27, 18, 2, 19, 155698, tzinfo=tzutc())}"
      ]
     },
     "execution_count": 7,
     "metadata": {},
     "output_type": "execute_result"
    }
   ],
   "source": [
    "tagtest_model = wl.upload_model(model_name, model_file_name).configure()\n",
    "tagtest_model"
   ]
  },
  {
   "cell_type": "code",
   "execution_count": 8,
   "metadata": {},
   "outputs": [
    {
     "data": {
      "text/html": [
       "<table><tr><th>name</th> <td>efxvtagtestpipeline</td></tr><tr><th>created</th> <td>2023-02-27 18:02:20.861896+00:00</td></tr><tr><th>last_updated</th> <td>2023-02-27 18:02:20.861896+00:00</td></tr><tr><th>deployed</th> <td>(none)</td></tr><tr><th>tags</th> <td></td></tr><tr><th>versions</th> <td>461dd376-e42e-4479-9de1-7a253c1c5197</td></tr><tr><th>steps</th> <td></td></tr></table>"
      ],
      "text/plain": [
       "{'name': 'efxvtagtestpipeline', 'create_time': datetime.datetime(2023, 2, 27, 18, 2, 20, 861896, tzinfo=tzutc()), 'definition': '[]'}"
      ]
     },
     "execution_count": 8,
     "metadata": {},
     "output_type": "execute_result"
    }
   ],
   "source": [
    "tagtest_pipeline = get_pipeline(pipeline_name)\n",
    "tagtest_pipeline"
   ]
  },
  {
   "cell_type": "markdown",
   "metadata": {},
   "source": [
    "### List Pipeline and Model Tags\n",
    "\n",
    "This tutorial assumes that no tags are currently existing, but that can be verified through the Wallaroo client `list_pipelines` and `list_models` commands.  For this demonstration, it is recommended to use unique tags to verify each example."
   ]
  },
  {
   "cell_type": "code",
   "execution_count": 9,
   "metadata": {},
   "outputs": [
    {
     "data": {
      "text/html": [
       "<table><tr><th>name</th><th>created</th><th>last_updated</th><th>deployed</th><th>tags</th><th>versions</th><th>steps</th></tr><tr><td>efxvtagtestpipeline</td><td>2023-27-Feb 18:02:20</td><td>2023-27-Feb 18:02:20</td><td>(unknown)</td><td></td><td>461dd376-e42e-4479-9de1-7a253c1c5197</td><td></td></tr><tr><td>urldemopipeline</td><td>2023-27-Feb 17:55:12</td><td>2023-27-Feb 17:59:03</td><td>False</td><td></td><td>6db21694-9e11-42cb-914c-1528549cedca, 930fe54d-9503-4768-8bf9-499f72272098, 54158104-c71d-4980-a6a3-25564c909b44</td><td>urldemomodel</td></tr><tr><td>mlbaedgepipelineexample</td><td>2023-27-Feb 17:40:15</td><td>2023-27-Feb 17:44:15</td><td>False</td><td></td><td>b97189b0-7782-441a-84b0-2b2ed2fbf36b, 9b46e1e8-a40e-4a2d-a5f1-f2cef2ad57e9, f2aa4340-7495-4b72-b28c-98362eb72399</td><td>mlbaalohamodel</td></tr><tr><td>azwsedgepipelineexample</td><td>2023-27-Feb 17:37:37</td><td>2023-27-Feb 17:37:38</td><td>False</td><td></td><td>d8e4fce3-590c-46d5-871e-96bb1b0288c6, 93b18cbc-d951-43ba-9228-ef2e1add98cc</td><td>azwsalohamodel</td></tr><tr><td>ggwzhotswappipeline</td><td>2023-27-Feb 17:33:53</td><td>2023-27-Feb 17:34:11</td><td>False</td><td></td><td>a620354f-291e-4a98-b5f7-9d8bf165b1df, 3078dffa-4e10-41ef-85bc-e7a0de5afa82, ad943ff6-1a38-4304-a243-6958ba118df2</td><td>ggwzccfraudoriginal</td></tr><tr><td>uuzmhotswappipeline</td><td>2023-27-Feb 17:28:01</td><td>2023-27-Feb 17:32:15</td><td>False</td><td></td><td>869fd391-c562-4c51-b38a-07003d252e62, d6afc451-404b-4785-8ba0-28f0ba833f0b, 2d14a5bf-9aaf-4020-b385-9b69805f5c3c, 2b61eea9-cb7c-43c3-9ff3-2507cade98a1</td><td>uuzmccfraudoriginal</td></tr><tr><td>beticcfraudpipeline</td><td>2023-27-Feb 17:23:37</td><td>2023-27-Feb 17:23:38</td><td>False</td><td></td><td>118aefc4-b71e-4b51-84bd-85e31dbcb44a, 77463125-631b-427d-a60a-bff6d1a09eed</td><td>beticcfraudmodel</td></tr><tr><td>jnhcccfraudpipeline</td><td>2023-27-Feb 17:19:34</td><td>2023-27-Feb 17:19:36</td><td>False</td><td></td><td>a5e2db56-5ac5-49b5-9842-60b6dfe2980c, 7d50b378-e093-49dc-9458-74f439c0894d</td><td>jnhcccfraudmodel</td></tr></table>"
      ],
      "text/plain": [
       "[{'name': 'efxvtagtestpipeline', 'create_time': datetime.datetime(2023, 2, 27, 18, 2, 20, 861896, tzinfo=tzutc()), 'definition': '[]'},\n",
       " {'name': 'urldemopipeline', 'create_time': datetime.datetime(2023, 2, 27, 17, 55, 12, 813456, tzinfo=tzutc()), 'definition': '[]'},\n",
       " {'name': 'mlbaedgepipelineexample', 'create_time': datetime.datetime(2023, 2, 27, 17, 40, 15, 271037, tzinfo=tzutc()), 'definition': '[]'},\n",
       " {'name': 'azwsedgepipelineexample', 'create_time': datetime.datetime(2023, 2, 27, 17, 37, 37, 123750, tzinfo=tzutc()), 'definition': '[]'},\n",
       " {'name': 'ggwzhotswappipeline', 'create_time': datetime.datetime(2023, 2, 27, 17, 33, 53, 541871, tzinfo=tzutc()), 'definition': '[]'},\n",
       " {'name': 'uuzmhotswappipeline', 'create_time': datetime.datetime(2023, 2, 27, 17, 28, 1, 409719, tzinfo=tzutc()), 'definition': '[]'},\n",
       " {'name': 'beticcfraudpipeline', 'create_time': datetime.datetime(2023, 2, 27, 17, 23, 37, 196574, tzinfo=tzutc()), 'definition': '[]'},\n",
       " {'name': 'jnhcccfraudpipeline', 'create_time': datetime.datetime(2023, 2, 27, 17, 19, 34, 465462, tzinfo=tzutc()), 'definition': '[]'}]"
      ]
     },
     "execution_count": 9,
     "metadata": {},
     "output_type": "execute_result"
    }
   ],
   "source": [
    "wl.list_pipelines()"
   ]
  },
  {
   "cell_type": "code",
   "execution_count": 10,
   "metadata": {},
   "outputs": [
    {
     "data": {
      "text/html": [
       "\n",
       "          <table>\n",
       "            <tr>\n",
       "              <th>Name</th>\n",
       "              <th># of Versions</th>\n",
       "              <th>Owner ID</th>\n",
       "              <th>Last Updated</th>\n",
       "              <th>Created At</th>\n",
       "            </tr>\n",
       "            \n",
       "            <tr>\n",
       "              <td>efxvtagtestmodel</td>\n",
       "              <td>1</td>\n",
       "              <td>\"\"</td>\n",
       "              <td>2023-02-27 18:02:19.155698+00:00</td>\n",
       "              <td>2023-02-27 18:02:19.155698+00:00</td>\n",
       "            </tr>\n",
       "          \n",
       "          </table>\n",
       "        "
      ],
      "text/plain": [
       "[{'name': 'efxvtagtestmodel', 'versions': 1, 'owner_id': '\"\"', 'last_update_time': datetime.datetime(2023, 2, 27, 18, 2, 19, 155698, tzinfo=tzutc()), 'created_at': datetime.datetime(2023, 2, 27, 18, 2, 19, 155698, tzinfo=tzutc())}]"
      ]
     },
     "execution_count": 10,
     "metadata": {},
     "output_type": "execute_result"
    }
   ],
   "source": [
    "wl.list_models()"
   ]
  },
  {
   "cell_type": "markdown",
   "metadata": {},
   "source": [
    "### Create Tag\n",
    "\n",
    "Tags are created with the Wallaroo client command `create_tag(String tagname)`.  This creates the tag and makes it available for use.\n",
    "\n",
    "The tag will be saved to the variable `currentTag` to be used in the rest of these examples."
   ]
  },
  {
   "cell_type": "code",
   "execution_count": 11,
   "metadata": {},
   "outputs": [],
   "source": [
    "# Now we create our tag\n",
    "currentTag = wl.create_tag(\"My Great Tag\")"
   ]
  },
  {
   "attachments": {},
   "cell_type": "markdown",
   "metadata": {},
   "source": [
    "### List Tags\n",
    "\n",
    "Tags are listed with the Wallaroo client command `list_tags()`, which shows all tags and what models and pipelines they have been assigned to.  Note that if a tag has not been assigned, it will not be displayed."
   ]
  },
  {
   "cell_type": "code",
   "execution_count": 12,
   "metadata": {
    "tags": []
   },
   "outputs": [
    {
     "data": {
      "text/html": [
       "(no tags)"
      ],
      "text/plain": [
       "[]"
      ]
     },
     "execution_count": 12,
     "metadata": {},
     "output_type": "execute_result"
    }
   ],
   "source": [
    "# List all tags\n",
    "\n",
    "wl.list_tags()"
   ]
  },
  {
   "cell_type": "markdown",
   "metadata": {},
   "source": [
    "### Assign Tag to a Model\n",
    "\n",
    "Tags are assigned to a model through the Wallaroo Tag `add_to_model(model_id)` command, where `model_id` is the model's numerical ID number.  The tag is applied to the most current version of the model.\n",
    "\n",
    "For this example, the `currentTag` will be applied to the `tagtest_model`.  All tags will then be listed to show it has been assigned to this model."
   ]
  },
  {
   "cell_type": "code",
   "execution_count": 13,
   "metadata": {},
   "outputs": [
    {
     "data": {
      "text/plain": [
       "{'model_id': 10, 'tag_id': 1}"
      ]
     },
     "execution_count": 13,
     "metadata": {},
     "output_type": "execute_result"
    }
   ],
   "source": [
    "# add tag to model\n",
    "\n",
    "currentTag.add_to_model(tagtest_model.id())"
   ]
  },
  {
   "cell_type": "code",
   "execution_count": 14,
   "metadata": {},
   "outputs": [
    {
     "data": {
      "text/html": [
       "<table><tr><th>id</th><th>tag</th><th>models</th><th>pipelines</th></tr><tr><td>1</td><td>My Great Tag</td><td>[('efxvtagtestmodel', ['254a2888-0c8b-4172-97c3-c3547bbe6644'])]</td><td>[]</td></tr></table>"
      ],
      "text/plain": [
       "[{'id': 1, 'tag': 'My Great Tag', 'models': [{'name': 'efxvtagtestmodel', 'version': '254a2888-0c8b-4172-97c3-c3547bbe6644', 'file_name': 'ccfraud.onnx', 'image_path': None, 'last_update_time': datetime.datetime(2023, 2, 27, 18, 2, 19, 155698, tzinfo=tzutc())}], 'pipelines': []}]"
      ]
     },
     "execution_count": 14,
     "metadata": {},
     "output_type": "execute_result"
    }
   ],
   "source": [
    "# list all tags to verify\n",
    "\n",
    "wl.list_tags()"
   ]
  },
  {
   "cell_type": "markdown",
   "metadata": {},
   "source": [
    "### Search Models by Tag\n",
    "\n",
    "Model versions can be searched via tags using the Wallaroo Client method `search_models(search_term)`, where `search_term` is a string value.  All models versions containing the tag will be displayed.  In this example, we will be using the text from our tag to list all models that have the text from `currentTag` in them."
   ]
  },
  {
   "cell_type": "code",
   "execution_count": 15,
   "metadata": {},
   "outputs": [
    {
     "data": {
      "text/html": [
       "<table><tr><th>name</th><th>version</th><th>file_name</th><th>image_path</th><th>last_update_time</th></tr>\n",
       "            <tr>\n",
       "                <td>efxvtagtestmodel</td>\n",
       "                <td>254a2888-0c8b-4172-97c3-c3547bbe6644</td>\n",
       "                <td>ccfraud.onnx</td>\n",
       "                <td>None</td>\n",
       "                <td>2023-02-27 18:02:19.155698+00:00</td>\n",
       "            </tr>\n",
       "          </table>"
      ],
      "text/plain": [
       "[{'name': 'efxvtagtestmodel', 'version': '254a2888-0c8b-4172-97c3-c3547bbe6644', 'file_name': 'ccfraud.onnx', 'image_path': None, 'last_update_time': datetime.datetime(2023, 2, 27, 18, 2, 19, 155698, tzinfo=tzutc())}]"
      ]
     },
     "execution_count": 15,
     "metadata": {},
     "output_type": "execute_result"
    }
   ],
   "source": [
    "# Search models by tag\n",
    "\n",
    "wl.search_models('My Great Tag')"
   ]
  },
  {
   "cell_type": "markdown",
   "metadata": {},
   "source": [
    "### Remove Tag from Model\n",
    "\n",
    "Tags are removed from models using the Wallaroo Tag `remove_from_model(model_id)` command.\n",
    "\n",
    "In this example, the `currentTag` will be removed from `tagtest_model`.  A list of all tags will be shown with the `list_tags` command, followed by searching the models for the tag to verify it has been removed."
   ]
  },
  {
   "cell_type": "code",
   "execution_count": 16,
   "metadata": {},
   "outputs": [
    {
     "data": {
      "text/plain": [
       "{'model_id': 10, 'tag_id': 1}"
      ]
     },
     "execution_count": 16,
     "metadata": {},
     "output_type": "execute_result"
    }
   ],
   "source": [
    "### remove tag from model\n",
    "\n",
    "currentTag.remove_from_model(tagtest_model.id())"
   ]
  },
  {
   "cell_type": "code",
   "execution_count": 17,
   "metadata": {},
   "outputs": [
    {
     "data": {
      "text/html": [
       "(no tags)"
      ],
      "text/plain": [
       "[]"
      ]
     },
     "execution_count": 17,
     "metadata": {},
     "output_type": "execute_result"
    }
   ],
   "source": [
    "# list all tags to verify it has been removed from `tagtest_model`.\n",
    "\n",
    "wl.list_tags()"
   ]
  },
  {
   "cell_type": "code",
   "execution_count": 18,
   "metadata": {},
   "outputs": [
    {
     "data": {
      "text/html": [
       "(no model versions)"
      ],
      "text/plain": [
       "[]"
      ]
     },
     "execution_count": 18,
     "metadata": {},
     "output_type": "execute_result"
    }
   ],
   "source": [
    "# search models for currentTag to verify it has been removed from `tagtest_model`.\n",
    "\n",
    "wl.search_models('My Great Tag')"
   ]
  },
  {
   "cell_type": "markdown",
   "metadata": {},
   "source": [
    "### Add Tag to Pipeline\n",
    "\n",
    "Tags are added to a pipeline through the Wallaroo Tag `add_to_pipeline(pipeline_id)` method, where `pipeline_id` is the pipeline's integer id.\n",
    "\n",
    "For this example, we will add `currentTag` to `testtest_pipeline`, then verify it has been added through the `list_tags` command and `list_pipelines` command."
   ]
  },
  {
   "cell_type": "code",
   "execution_count": 19,
   "metadata": {},
   "outputs": [
    {
     "data": {
      "text/plain": [
       "{'pipeline_pk_id': 20, 'tag_pk_id': 1}"
      ]
     },
     "execution_count": 19,
     "metadata": {},
     "output_type": "execute_result"
    }
   ],
   "source": [
    "# add this tag to the pipeline\n",
    "currentTag.add_to_pipeline(tagtest_pipeline.id())"
   ]
  },
  {
   "cell_type": "code",
   "execution_count": 20,
   "metadata": {},
   "outputs": [
    {
     "data": {
      "text/html": [
       "<table><tr><th>id</th><th>tag</th><th>models</th><th>pipelines</th></tr><tr><td>1</td><td>My Great Tag</td><td>[]</td><td>[('efxvtagtestpipeline', ['461dd376-e42e-4479-9de1-7a253c1c5197'])]</td></tr></table>"
      ],
      "text/plain": [
       "[{'id': 1, 'tag': 'My Great Tag', 'models': [], 'pipelines': [{'name': 'efxvtagtestpipeline', 'create_time': datetime.datetime(2023, 2, 27, 18, 2, 20, 861896, tzinfo=tzutc()), 'definition': '[]'}]}]"
      ]
     },
     "execution_count": 20,
     "metadata": {},
     "output_type": "execute_result"
    }
   ],
   "source": [
    "# list tags to verify it was added to tagtest_pipeline\n",
    "\n",
    "wl.list_tags()\n"
   ]
  },
  {
   "cell_type": "code",
   "execution_count": 21,
   "metadata": {},
   "outputs": [
    {
     "data": {
      "text/html": [
       "<table><tr><th>name</th><th>created</th><th>last_updated</th><th>deployed</th><th>tags</th><th>versions</th><th>steps</th></tr><tr><td>efxvtagtestpipeline</td><td>2023-27-Feb 18:02:20</td><td>2023-27-Feb 18:02:20</td><td>(unknown)</td><td>My Great Tag</td><td>461dd376-e42e-4479-9de1-7a253c1c5197</td><td></td></tr><tr><td>urldemopipeline</td><td>2023-27-Feb 17:55:12</td><td>2023-27-Feb 17:59:03</td><td>False</td><td></td><td>6db21694-9e11-42cb-914c-1528549cedca, 930fe54d-9503-4768-8bf9-499f72272098, 54158104-c71d-4980-a6a3-25564c909b44</td><td>urldemomodel</td></tr><tr><td>mlbaedgepipelineexample</td><td>2023-27-Feb 17:40:15</td><td>2023-27-Feb 17:44:15</td><td>False</td><td></td><td>b97189b0-7782-441a-84b0-2b2ed2fbf36b, 9b46e1e8-a40e-4a2d-a5f1-f2cef2ad57e9, f2aa4340-7495-4b72-b28c-98362eb72399</td><td>mlbaalohamodel</td></tr><tr><td>azwsedgepipelineexample</td><td>2023-27-Feb 17:37:37</td><td>2023-27-Feb 17:37:38</td><td>False</td><td></td><td>d8e4fce3-590c-46d5-871e-96bb1b0288c6, 93b18cbc-d951-43ba-9228-ef2e1add98cc</td><td>azwsalohamodel</td></tr><tr><td>ggwzhotswappipeline</td><td>2023-27-Feb 17:33:53</td><td>2023-27-Feb 17:34:11</td><td>False</td><td></td><td>a620354f-291e-4a98-b5f7-9d8bf165b1df, 3078dffa-4e10-41ef-85bc-e7a0de5afa82, ad943ff6-1a38-4304-a243-6958ba118df2</td><td>ggwzccfraudoriginal</td></tr><tr><td>uuzmhotswappipeline</td><td>2023-27-Feb 17:28:01</td><td>2023-27-Feb 17:32:15</td><td>False</td><td></td><td>869fd391-c562-4c51-b38a-07003d252e62, d6afc451-404b-4785-8ba0-28f0ba833f0b, 2d14a5bf-9aaf-4020-b385-9b69805f5c3c, 2b61eea9-cb7c-43c3-9ff3-2507cade98a1</td><td>uuzmccfraudoriginal</td></tr><tr><td>beticcfraudpipeline</td><td>2023-27-Feb 17:23:37</td><td>2023-27-Feb 17:23:38</td><td>False</td><td></td><td>118aefc4-b71e-4b51-84bd-85e31dbcb44a, 77463125-631b-427d-a60a-bff6d1a09eed</td><td>beticcfraudmodel</td></tr><tr><td>jnhcccfraudpipeline</td><td>2023-27-Feb 17:19:34</td><td>2023-27-Feb 17:19:36</td><td>False</td><td></td><td>a5e2db56-5ac5-49b5-9842-60b6dfe2980c, 7d50b378-e093-49dc-9458-74f439c0894d</td><td>jnhcccfraudmodel</td></tr></table>"
      ],
      "text/plain": [
       "[{'name': 'efxvtagtestpipeline', 'create_time': datetime.datetime(2023, 2, 27, 18, 2, 20, 861896, tzinfo=tzutc()), 'definition': '[]'},\n",
       " {'name': 'urldemopipeline', 'create_time': datetime.datetime(2023, 2, 27, 17, 55, 12, 813456, tzinfo=tzutc()), 'definition': '[]'},\n",
       " {'name': 'mlbaedgepipelineexample', 'create_time': datetime.datetime(2023, 2, 27, 17, 40, 15, 271037, tzinfo=tzutc()), 'definition': '[]'},\n",
       " {'name': 'azwsedgepipelineexample', 'create_time': datetime.datetime(2023, 2, 27, 17, 37, 37, 123750, tzinfo=tzutc()), 'definition': '[]'},\n",
       " {'name': 'ggwzhotswappipeline', 'create_time': datetime.datetime(2023, 2, 27, 17, 33, 53, 541871, tzinfo=tzutc()), 'definition': '[]'},\n",
       " {'name': 'uuzmhotswappipeline', 'create_time': datetime.datetime(2023, 2, 27, 17, 28, 1, 409719, tzinfo=tzutc()), 'definition': '[]'},\n",
       " {'name': 'beticcfraudpipeline', 'create_time': datetime.datetime(2023, 2, 27, 17, 23, 37, 196574, tzinfo=tzutc()), 'definition': '[]'},\n",
       " {'name': 'jnhcccfraudpipeline', 'create_time': datetime.datetime(2023, 2, 27, 17, 19, 34, 465462, tzinfo=tzutc()), 'definition': '[]'}]"
      ]
     },
     "execution_count": 21,
     "metadata": {},
     "output_type": "execute_result"
    }
   ],
   "source": [
    "# get all of the pipelines to show the tag was added to tagtest-pipeline\n",
    "\n",
    "wl.list_pipelines()"
   ]
  },
  {
   "cell_type": "markdown",
   "metadata": {},
   "source": [
    "### Search Pipelines by Tag\n",
    "\n",
    "Pipelines can be searched through the Wallaroo Client `search_pipelines(search_term)` method, where `search_term` is a string value for tags assigned to the pipelines.\n",
    "\n",
    "In this example, the text \"My Great Tag\" that corresponds to `currentTag` will be searched for and displayed."
   ]
  },
  {
   "cell_type": "code",
   "execution_count": 22,
   "metadata": {},
   "outputs": [
    {
     "data": {
      "text/html": [
       "<table><tr><th>name</th><th>version</th><th>creation_time</th><th>last_updated_time</th><th>deployed</th><th>tags</th><th>steps</th></tr><tr><td>efxvtagtestpipeline</td><td>461dd376-e42e-4479-9de1-7a253c1c5197</td><td>2023-27-Feb 18:02:20</td><td>2023-27-Feb 18:02:20</td><td>(unknown)</td><td>My Great Tag</td><td></td></tr></table>"
      ],
      "text/plain": [
       "[<wallaroo.pipeline_variant.PipelineVariant at 0x2801d8250>]"
      ]
     },
     "execution_count": 22,
     "metadata": {},
     "output_type": "execute_result"
    }
   ],
   "source": [
    "wl.search_pipelines('My Great Tag')"
   ]
  },
  {
   "cell_type": "markdown",
   "metadata": {},
   "source": [
    "### Remove Tag from Pipeline\n",
    "\n",
    "Tags are removed from a pipeline with the Wallaroo Tag `remove_from_pipeline(pipeline_id)` command, where `pipeline_id` is the integer value of the pipeline's id.\n",
    "\n",
    "For this example, `currentTag` will be removed from `tagtest_pipeline`.  This will be verified through the `list_tags` and `search_pipelines` command."
   ]
  },
  {
   "cell_type": "code",
   "execution_count": 23,
   "metadata": {},
   "outputs": [
    {
     "data": {
      "text/plain": [
       "{'pipeline_pk_id': 20, 'tag_pk_id': 1}"
      ]
     },
     "execution_count": 23,
     "metadata": {},
     "output_type": "execute_result"
    }
   ],
   "source": [
    "## remove from pipeline\n",
    "currentTag.remove_from_pipeline(tagtest_pipeline.id())"
   ]
  },
  {
   "cell_type": "code",
   "execution_count": 24,
   "metadata": {},
   "outputs": [
    {
     "data": {
      "text/html": [
       "(no tags)"
      ],
      "text/plain": [
       "[]"
      ]
     },
     "execution_count": 24,
     "metadata": {},
     "output_type": "execute_result"
    }
   ],
   "source": [
    "wl.list_tags()"
   ]
  },
  {
   "cell_type": "code",
   "execution_count": 25,
   "metadata": {},
   "outputs": [
    {
     "data": {
      "text/html": [
       "(no pipelines)"
      ],
      "text/plain": [
       "[]"
      ]
     },
     "execution_count": 25,
     "metadata": {},
     "output_type": "execute_result"
    }
   ],
   "source": [
    "## Verify it was removed\n",
    "wl.search_pipelines('My Great Tag')"
   ]
  }
 ],
 "metadata": {
  "kernelspec": {
   "display_name": "arrowtests",
   "language": "python",
   "name": "python3"
  },
  "language_info": {
   "codemirror_mode": {
    "name": "ipython",
    "version": 3
   },
   "file_extension": ".py",
   "mimetype": "text/x-python",
   "name": "python",
   "nbconvert_exporter": "python",
   "pygments_lexer": "ipython3",
   "version": "3.8.12"
  },
  "vscode": {
   "interpreter": {
    "hash": "7dda4bf3640b7fafcd1648658b879b4cc9f6ba6084e8fb356fdaaa1a461d1690"
   }
  }
 },
 "nbformat": 4,
 "nbformat_minor": 4
}
