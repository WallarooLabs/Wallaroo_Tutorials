{
 "cells": [
  {
   "cell_type": "markdown",
   "metadata": {},
   "source": [
    "This tutorial and the assets can be downloaded as part of the [Wallaroo Tutorials repository](https://github.com/WallarooLabs/Wallaroo_Tutorials/tree/main/wallaroo-features/model_hot_swap).\n",
    "\n",
    "## Model Hot Swap Tutorial\n",
    "\n",
    "One of the biggest challenges facing organizations once they have a model trained is deploying the model:  Getting all of the resources together, MLOps configured and systems prepared to allow inferences to run.\n",
    "\n",
    "The next biggest challenge?  Replacing the model while keeping the existing production systems running.\n",
    "\n",
    "This tutorial demonstrates how Wallaroo model hot swap can update a pipeline step with a new model with one command.  This lets organizations keep their production systems running while changing a ML model, with the change taking only milliseconds, and any inference requests in that time are processed after the hot swap is completed.\n",
    "\n",
    "This example and sample data comes from the Machine Learning Group's demonstration on [Credit Card Fraud detection](https://www.kaggle.com/datasets/mlg-ulb/creditcardfraud).\n",
    "\n",
    "This tutorial provides the following:\n",
    "\n",
    "* `ccfraud.onnx`: A pre-trained ML model used to detect potential credit card fraud.\n",
    "* `xgboost_ccfraud.onnx`: A pre-trained ML model used to detect potential credit card fraud originally converted from an XGBoost model.  This will be used to swap with the `ccfraud.onnx`.\n",
    "* `smoke_test.json`: A data file used to verify that the model will return a low possibility of credit card fraud.\n",
    "* `high_fraud.json`: A data file used to verify that the model will return a high possibility of credit card fraud.\n",
    "* Sample inference data files: Data files used for inference examples with the following number of records:\n",
    "  * `cc_data_5.json`: 5 records.\n",
    "  * `cc_data_1k.json`: 1,000 records.\n",
    "  * `cc_data_10k.json`: 10,000 records.\n",
    "  * `cc_data_40k.json`: Over 40,000 records.\n",
    "\n",
    "## Reference\n",
    "\n",
    "For more information about Wallaroo and related features, see the [Wallaroo Documentation Site](https://docs.wallaroo.ai)."
   ]
  },
  {
   "cell_type": "markdown",
   "metadata": {},
   "source": [
    "## Steps\n",
    "\n",
    "The following steps demonstrate the following:\n",
    "\n",
    "* Connect to a Wallaroo instance.\n",
    "* Create a workspace and pipeline.\n",
    "* Upload both models to the workspace.\n",
    "* Deploy the pipe with the `ccfraud.onnx` model as a pipeline step.\n",
    "* Perform sample inferences.\n",
    "* Hot swap and replace the existing model with the `xgboost_ccfraud.onnx` while keeping the pipeline deployed.\n",
    "* Conduct additional inferences to demonstrate the model hot swap was successful.\n",
    "* Undeploy the pipeline and return the resources back to the Wallaroo instance."
   ]
  },
  {
   "cell_type": "markdown",
   "metadata": {},
   "source": [
    "### Load the Libraries\n",
    "\n",
    "Load the Python libraries used to connect and interact with the Wallaroo instance."
   ]
  },
  {
   "cell_type": "code",
   "execution_count": 1,
   "metadata": {},
   "outputs": [],
   "source": [
    "import wallaroo\n",
    "from wallaroo.object import EntityNotFoundError\n",
    "\n",
    "import pandas as pd\n",
    "\n",
    "# used to display dataframe information without truncating\n",
    "pd.set_option('display.max_colwidth', None)  \n",
    "\n",
    "import os\n",
    "# For use with 2023.1 Wallaroo instances to set arrow support to True for the local SDK\n",
    "os.environ[\"ARROW_ENABLED\"]=\"True\""
   ]
  },
  {
   "attachments": {},
   "cell_type": "markdown",
   "metadata": {},
   "source": [
    "### Arrow Support\n",
    "\n",
    "As of the 2023.1 release, Wallaroo provides support for dataframe and Arrow for inference inputs.  This tutorial allows users to adjust their experience based on whether they have enabled Arrow support in their Wallaroo instance or not.\n",
    "\n",
    "If Arrow support has been enabled, `arrowEnabled=True`. If disabled or you're not sure, set it to `arrowEnabled=False`\n",
    "\n",
    "The examples below will be shown in an arrow enabled environment."
   ]
  },
  {
   "cell_type": "markdown",
   "metadata": {},
   "source": [
    "### Open a Connection to Wallaroo\n",
    "\n",
    "The first step is to connect to Wallaroo through the Wallaroo client.\n",
    "\n",
    "This is accomplished using the `wallaroo.Client(api_endpoint, auth_endpoint, auth_type command)` command that connects to the Wallaroo instance services.\n",
    "\n",
    "The `Client` method takes the following parameters:\n",
    "\n",
    "* **api_endpoint** (*String*): The URL to the Wallaroo instance API service.\n",
    "* **auth_endpoint** (*String*): The URL to the Wallaroo instance Keycloak service.\n",
    "* **auth_type command** (*String*): The authorization type.  In this case, `SSO`.\n",
    "\n",
    "The URLs are based on the Wallaroo Prefix and Wallaroo Suffix for the Wallaroo instance.  For more information, see the [DNS Integration Guide](https://docs.wallaroo.ai/wallaroo-operations-guide/wallaroo-configuration/wallaroo-dns-guide/).  In the example below, replace \"YOUR PREFIX\" and \"YOUR SUFFIX\" with the Wallaroo Prefix and Suffix, respectively.\n",
    "\n",
    "If connecting from within the Wallaroo instance's JupyterHub service, then only `wl = wallaroo.Client()` is required.\n",
    "\n",
    "Once run, the `wallaroo.Client` command provides a URL to grant the SDK permission to your specific Wallaroo environment.  When displayed, enter the URL into a browser and confirm permissions.  Depending on the configuration of the Wallaroo instance, the user will either be presented with a login request to the Wallaroo instance or be authenticated through a broker such as Google, Github, etc.  To use the broker, select it from the list under the username/password login forms.  For more information on Wallaroo authentication configurations, see the [Wallaroo Authentication Configuration Guides](https://docs.wallaroo.ai/wallaroo-operations-guide/wallaroo-configuration/wallaroo-sso-authentication/)."
   ]
  },
  {
   "cell_type": "code",
   "execution_count": 2,
   "metadata": {},
   "outputs": [
    {
     "name": "stdout",
     "output_type": "stream",
     "text": [
      "Please log into the following URL in a web browser:\n",
      "\n",
      "\thttps://sparkly-apple-3026.keycloak.wallaroo.community/auth/realms/master/device?user_code=SKFP-GRMT\n",
      "\n",
      "Login successful!\n"
     ]
    }
   ],
   "source": [
    "# Internal Login\n",
    "\n",
    "# wl = wallaroo.Client()\n",
    "\n",
    "# Remote Login\n",
    "\n",
    "wallarooPrefix = \"YOUR PREFIX\"\n",
    "wallarooSuffix = \"YOUR SUFFIX\"\n",
    "\n",
    "wallarooPrefix = \"sparkly-apple-3026\"\n",
    "wallarooSuffix = \"wallaroo.community\"\n",
    "\n",
    "wl = wallaroo.Client(api_endpoint=f\"https://{wallarooPrefix}.api.{wallarooSuffix}\", \n",
    "                    auth_endpoint=f\"https://{wallarooPrefix}.keycloak.{wallarooSuffix}\", \n",
    "                    auth_type=\"sso\")"
   ]
  },
  {
   "attachments": {},
   "cell_type": "markdown",
   "metadata": {},
   "source": [
    "### Set the Variables\n",
    "\n",
    "The following variables are used in the later steps for creating the workspace, pipeline, and uploading the models.  Modify them according to your organization's requirements.\n",
    "\n",
    "Just for the sake of this tutorial, we'll use the SDK below to create our workspace , assign as our **current workspace**, then display all of the workspaces we have at the moment.  We'll also set up for our models and pipelines down the road, so we have one spot to change names to whatever fits your organization's standards best.\n",
    "\n",
    "To allow this tutorial to be run multiple times or by multiple users in the same Wallaroo instance, a random 4 character prefix will be added to the workspace, pipeline, and model."
   ]
  },
  {
   "cell_type": "code",
   "execution_count": 3,
   "metadata": {},
   "outputs": [],
   "source": [
    "import string\n",
    "import random\n",
    "\n",
    "# make a random 4 character prefix\n",
    "prefix= ''.join(random.choice(string.ascii_lowercase) for i in range(4))\n",
    "\n",
    "workspace_name = f'{prefix}hotswapworkspace'\n",
    "pipeline_name = f'{prefix}hotswappipeline'\n",
    "original_model_name = f'{prefix}ccfraudoriginal'\n",
    "original_model_file_name = './ccfraud.onnx'\n",
    "replacement_model_name = f'{prefix}ccfraudreplacement'\n",
    "replacement_model_file_name = './xgboost_ccfraud.onnx'"
   ]
  },
  {
   "cell_type": "code",
   "execution_count": 4,
   "metadata": {},
   "outputs": [],
   "source": [
    "def get_workspace(name):\n",
    "    workspace = None\n",
    "    for ws in wl.list_workspaces():\n",
    "        if ws.name() == name:\n",
    "            workspace= ws\n",
    "    if(workspace == None):\n",
    "        workspace = wl.create_workspace(name)\n",
    "    return workspace\n",
    "\n",
    "def get_pipeline(name):\n",
    "    try:\n",
    "        pipeline = wl.pipelines_by_name(pipeline_name)[0]\n",
    "    except EntityNotFoundError:\n",
    "        pipeline = wl.build_pipeline(pipeline_name)\n",
    "    return pipeline"
   ]
  },
  {
   "cell_type": "markdown",
   "metadata": {},
   "source": [
    "### Create the Workspace\n",
    "\n",
    "We will create a workspace based on the variable names set above, and set the new workspace as the `current` workspace.  This workspace is where new pipelines will be created in and store uploaded models for this session.\n",
    "\n",
    "Once set, the pipeline will be created."
   ]
  },
  {
   "cell_type": "code",
   "execution_count": 5,
   "metadata": {},
   "outputs": [
    {
     "data": {
      "text/html": [
       "<table><tr><th>name</th> <td>junshotswappipeline</td></tr><tr><th>created</th> <td>2023-03-27 17:49:03.825430+00:00</td></tr><tr><th>last_updated</th> <td>2023-03-27 17:49:03.825430+00:00</td></tr><tr><th>deployed</th> <td>(none)</td></tr><tr><th>tags</th> <td></td></tr><tr><th>versions</th> <td>3003993e-040d-4ba8-a497-a7a4eeca98fb</td></tr><tr><th>steps</th> <td></td></tr></table>"
      ],
      "text/plain": [
       "{'name': 'junshotswappipeline', 'create_time': datetime.datetime(2023, 3, 27, 17, 49, 3, 825430, tzinfo=tzutc()), 'definition': '[]'}"
      ]
     },
     "execution_count": 5,
     "metadata": {},
     "output_type": "execute_result"
    }
   ],
   "source": [
    "workspace = get_workspace(workspace_name)\n",
    "\n",
    "wl.set_current_workspace(workspace)\n",
    "\n",
    "pipeline = get_pipeline(pipeline_name)\n",
    "pipeline"
   ]
  },
  {
   "cell_type": "markdown",
   "metadata": {},
   "source": [
    "### Upload Models\n",
    "\n",
    "We can now upload both of the models.  In a later step, only one model will be added as a [pipeline step](https://docs.wallaroo.ai/wallaroo-developer-guides/wallaroo-sdk-guides/wallaroo-sdk-essentials-guide/wallaroo-sdk-essentials-pipeline/#add-a-step-to-a-pipeline), where the pipeline will submit inference requests to the pipeline."
   ]
  },
  {
   "cell_type": "code",
   "execution_count": 6,
   "metadata": {},
   "outputs": [],
   "source": [
    "original_model = wl.upload_model(original_model_name , original_model_file_name)\n",
    "replacement_model = wl.upload_model(replacement_model_name , replacement_model_file_name)"
   ]
  },
  {
   "cell_type": "code",
   "execution_count": 7,
   "metadata": {},
   "outputs": [
    {
     "data": {
      "text/html": [
       "\n",
       "          <table>\n",
       "            <tr>\n",
       "              <th>Name</th>\n",
       "              <th># of Versions</th>\n",
       "              <th>Owner ID</th>\n",
       "              <th>Last Updated</th>\n",
       "              <th>Created At</th>\n",
       "            </tr>\n",
       "            \n",
       "            <tr>\n",
       "              <td>junsccfraudreplacement</td>\n",
       "              <td>1</td>\n",
       "              <td>\"\"</td>\n",
       "              <td>2023-03-27 17:49:06.131201+00:00</td>\n",
       "              <td>2023-03-27 17:49:06.131201+00:00</td>\n",
       "            </tr>\n",
       "           \n",
       "            <tr>\n",
       "              <td>junsccfraudoriginal</td>\n",
       "              <td>1</td>\n",
       "              <td>\"\"</td>\n",
       "              <td>2023-03-27 17:49:05.257389+00:00</td>\n",
       "              <td>2023-03-27 17:49:05.257389+00:00</td>\n",
       "            </tr>\n",
       "          \n",
       "          </table>\n",
       "        "
      ],
      "text/plain": [
       "[{'name': 'junsccfraudreplacement', 'versions': 1, 'owner_id': '\"\"', 'last_update_time': datetime.datetime(2023, 3, 27, 17, 49, 6, 131201, tzinfo=tzutc()), 'created_at': datetime.datetime(2023, 3, 27, 17, 49, 6, 131201, tzinfo=tzutc())},\n",
       " {'name': 'junsccfraudoriginal', 'versions': 1, 'owner_id': '\"\"', 'last_update_time': datetime.datetime(2023, 3, 27, 17, 49, 5, 257389, tzinfo=tzutc()), 'created_at': datetime.datetime(2023, 3, 27, 17, 49, 5, 257389, tzinfo=tzutc())}]"
      ]
     },
     "execution_count": 7,
     "metadata": {},
     "output_type": "execute_result"
    }
   ],
   "source": [
    "wl.list_models()"
   ]
  },
  {
   "cell_type": "markdown",
   "metadata": {},
   "source": [
    "### Add Model to Pipeline Step\n",
    "\n",
    "With the models uploaded, we will add the original model as a pipeline step, then deploy the pipeline so it is available for performing inferences."
   ]
  },
  {
   "cell_type": "code",
   "execution_count": 8,
   "metadata": {},
   "outputs": [
    {
     "data": {
      "text/html": [
       "<table><tr><th>name</th> <td>junshotswappipeline</td></tr><tr><th>created</th> <td>2023-03-27 17:49:03.825430+00:00</td></tr><tr><th>last_updated</th> <td>2023-03-27 17:49:03.825430+00:00</td></tr><tr><th>deployed</th> <td>(none)</td></tr><tr><th>tags</th> <td></td></tr><tr><th>versions</th> <td>3003993e-040d-4ba8-a497-a7a4eeca98fb</td></tr><tr><th>steps</th> <td></td></tr></table>"
      ],
      "text/plain": [
       "{'name': 'junshotswappipeline', 'create_time': datetime.datetime(2023, 3, 27, 17, 49, 3, 825430, tzinfo=tzutc()), 'definition': \"[{'ModelInference': {'models': [{'name': 'junsccfraudoriginal', 'version': '077cb138-dd49-41aa-8657-4260da841097', 'sha': 'bc85ce596945f876256f41515c7501c399fd97ebcb9ab3dd41bf03f8937b4507'}]}}]\"}"
      ]
     },
     "execution_count": 8,
     "metadata": {},
     "output_type": "execute_result"
    }
   ],
   "source": [
    "pipeline.add_model_step(original_model)\n",
    "pipeline"
   ]
  },
  {
   "cell_type": "code",
   "execution_count": 9,
   "metadata": {},
   "outputs": [
    {
     "data": {
      "text/html": [
       "<table><tr><th>name</th> <td>junshotswappipeline</td></tr><tr><th>created</th> <td>2023-03-27 17:49:03.825430+00:00</td></tr><tr><th>last_updated</th> <td>2023-03-27 17:49:09.679016+00:00</td></tr><tr><th>deployed</th> <td>True</td></tr><tr><th>tags</th> <td></td></tr><tr><th>versions</th> <td>ea5a50ba-d130-4819-9e70-cba0e4f1dfa9, 3003993e-040d-4ba8-a497-a7a4eeca98fb</td></tr><tr><th>steps</th> <td>junsccfraudoriginal</td></tr></table>"
      ],
      "text/plain": [
       "{'name': 'junshotswappipeline', 'create_time': datetime.datetime(2023, 3, 27, 17, 49, 3, 825430, tzinfo=tzutc()), 'definition': \"[{'ModelInference': {'models': [{'name': 'junsccfraudoriginal', 'version': '077cb138-dd49-41aa-8657-4260da841097', 'sha': 'bc85ce596945f876256f41515c7501c399fd97ebcb9ab3dd41bf03f8937b4507'}]}}]\"}"
      ]
     },
     "execution_count": 9,
     "metadata": {},
     "output_type": "execute_result"
    }
   ],
   "source": [
    "pipeline.deploy()"
   ]
  },
  {
   "cell_type": "code",
   "execution_count": 10,
   "metadata": {},
   "outputs": [
    {
     "data": {
      "text/plain": [
       "{'status': 'Running',\n",
       " 'details': [],\n",
       " 'engines': [{'ip': '10.48.4.243',\n",
       "   'name': 'engine-7d6646b979-r5x6n',\n",
       "   'status': 'Running',\n",
       "   'reason': None,\n",
       "   'details': [],\n",
       "   'pipeline_statuses': {'pipelines': [{'id': 'junshotswappipeline',\n",
       "      'status': 'Running'}]},\n",
       "   'model_statuses': {'models': [{'name': 'junsccfraudoriginal',\n",
       "      'version': '077cb138-dd49-41aa-8657-4260da841097',\n",
       "      'sha': 'bc85ce596945f876256f41515c7501c399fd97ebcb9ab3dd41bf03f8937b4507',\n",
       "      'status': 'Running'}]}}],\n",
       " 'engine_lbs': [{'ip': '10.48.3.119',\n",
       "   'name': 'engine-lb-86bc6bd77b-r4d2s',\n",
       "   'status': 'Running',\n",
       "   'reason': None,\n",
       "   'details': []}],\n",
       " 'sidekicks': []}"
      ]
     },
     "execution_count": 10,
     "metadata": {},
     "output_type": "execute_result"
    }
   ],
   "source": [
    "pipeline.status()"
   ]
  },
  {
   "cell_type": "markdown",
   "metadata": {},
   "source": [
    "### Verify the Model\n",
    "\n",
    "The pipeline is deployed with our model.  The following will verify that the model is operating correctly.  The `high_fraud.json` file contains data that the model should process as a high likelihood of being a fraudulent transaction."
   ]
  },
  {
   "cell_type": "code",
   "execution_count": 11,
   "metadata": {},
   "outputs": [
    {
     "data": {
      "text/html": [
       "<div>\n",
       "<style scoped>\n",
       "    .dataframe tbody tr th:only-of-type {\n",
       "        vertical-align: middle;\n",
       "    }\n",
       "\n",
       "    .dataframe tbody tr th {\n",
       "        vertical-align: top;\n",
       "    }\n",
       "\n",
       "    .dataframe thead th {\n",
       "        text-align: right;\n",
       "    }\n",
       "</style>\n",
       "<table border=\"1\" class=\"dataframe\">\n",
       "  <thead>\n",
       "    <tr style=\"text-align: right;\">\n",
       "      <th></th>\n",
       "      <th>time</th>\n",
       "      <th>in.tensor</th>\n",
       "      <th>out.dense_1</th>\n",
       "      <th>check_failures</th>\n",
       "    </tr>\n",
       "  </thead>\n",
       "  <tbody>\n",
       "    <tr>\n",
       "      <th>0</th>\n",
       "      <td>2023-03-27 17:49:27.881</td>\n",
       "      <td>[1.0678324729, 0.2177810266, -1.7115145262, 0.682285721, 1.0138553067, -0.4335000013, 0.7395859437, -0.2882839595, -0.447262688, 0.5146124988, 0.3791316964, 0.5190619748, -0.4904593222, 1.1656456469, -0.9776307444, -0.6322198963, -0.6891477694, 0.1783317857, 0.1397992467, -0.3554220649, 0.4394217877, 1.4588397512, -0.3886829615, 0.4353492889, 1.7420053483, -0.4434654615, -0.1515747891, -0.2668451725, -1.4549617756]</td>\n",
       "      <td>[0.0014974177]</td>\n",
       "      <td>0</td>\n",
       "    </tr>\n",
       "  </tbody>\n",
       "</table>\n",
       "</div>"
      ],
      "text/plain": [
       "                     time  \\\n",
       "0 2023-03-27 17:49:27.881   \n",
       "\n",
       "                                                                                                                                                                                                                                                                                                                                                                                                                            in.tensor  \\\n",
       "0  [1.0678324729, 0.2177810266, -1.7115145262, 0.682285721, 1.0138553067, -0.4335000013, 0.7395859437, -0.2882839595, -0.447262688, 0.5146124988, 0.3791316964, 0.5190619748, -0.4904593222, 1.1656456469, -0.9776307444, -0.6322198963, -0.6891477694, 0.1783317857, 0.1397992467, -0.3554220649, 0.4394217877, 1.4588397512, -0.3886829615, 0.4353492889, 1.7420053483, -0.4434654615, -0.1515747891, -0.2668451725, -1.4549617756]   \n",
       "\n",
       "      out.dense_1  check_failures  \n",
       "0  [0.0014974177]               0  "
      ]
     },
     "metadata": {},
     "output_type": "display_data"
    }
   ],
   "source": [
    "result = pipeline.infer_from_file('./data/smoke_test.df.json')\n",
    "display(result)"
   ]
  },
  {
   "cell_type": "markdown",
   "metadata": {},
   "source": [
    "### Replace the Model\n",
    "\n",
    "The pipeline is currently deployed and is able to handle inferences.  The model will now be replaced without having to undeploy the pipeline.  This is done using the pipeline method [`replace_with_model_step(index, model)`](https://docs.wallaroo.ai/wallaroo-developer-guides/wallaroo-sdk-guides/wallaroo-sdk-reference-guide/pipeline/#Pipeline.replace_with_model_step).  Steps start at `0`, so the method called below will replace step 0 in our pipeline with the replacement model.\n",
    "\n",
    "As an exercise, this deployment can be performed while inferences are actively being submitted to the pipeline to show how quickly the swap takes place."
   ]
  },
  {
   "cell_type": "code",
   "execution_count": 12,
   "metadata": {},
   "outputs": [
    {
     "data": {
      "text/html": [
       "<table><tr><th>name</th> <td>junshotswappipeline</td></tr><tr><th>created</th> <td>2023-03-27 17:49:03.825430+00:00</td></tr><tr><th>last_updated</th> <td>2023-03-27 17:49:28.623168+00:00</td></tr><tr><th>deployed</th> <td>True</td></tr><tr><th>tags</th> <td></td></tr><tr><th>versions</th> <td>894ec8a6-9bfe-4c4e-8ecf-aeb978b9e4fc, ea5a50ba-d130-4819-9e70-cba0e4f1dfa9, 3003993e-040d-4ba8-a497-a7a4eeca98fb</td></tr><tr><th>steps</th> <td>junsccfraudoriginal</td></tr></table>"
      ],
      "text/plain": [
       "{'name': 'junshotswappipeline', 'create_time': datetime.datetime(2023, 3, 27, 17, 49, 3, 825430, tzinfo=tzutc()), 'definition': \"[{'ModelInference': {'models': [{'name': 'junsccfraudreplacement', 'version': 'ff3dd2f6-d815-47e7-850f-f5e7d8c3c604', 'sha': 'bc85ce596945f876256f41515c7501c399fd97ebcb9ab3dd41bf03f8937b4507'}]}}]\"}"
      ]
     },
     "execution_count": 12,
     "metadata": {},
     "output_type": "execute_result"
    }
   ],
   "source": [
    "pipeline.replace_with_model_step(0, replacement_model).deploy()"
   ]
  },
  {
   "cell_type": "code",
   "execution_count": 13,
   "metadata": {},
   "outputs": [
    {
     "data": {
      "text/plain": [
       "{'status': 'Running',\n",
       " 'details': [],\n",
       " 'engines': [{'ip': '10.48.4.243',\n",
       "   'name': 'engine-7d6646b979-r5x6n',\n",
       "   'status': 'Running',\n",
       "   'reason': None,\n",
       "   'details': [],\n",
       "   'pipeline_statuses': {'pipelines': [{'id': 'junshotswappipeline',\n",
       "      'status': 'Running'}]},\n",
       "   'model_statuses': {'models': [{'name': 'junsccfraudoriginal',\n",
       "      'version': '077cb138-dd49-41aa-8657-4260da841097',\n",
       "      'sha': 'bc85ce596945f876256f41515c7501c399fd97ebcb9ab3dd41bf03f8937b4507',\n",
       "      'status': 'Running'}]}}],\n",
       " 'engine_lbs': [{'ip': '10.48.3.119',\n",
       "   'name': 'engine-lb-86bc6bd77b-r4d2s',\n",
       "   'status': 'Running',\n",
       "   'reason': None,\n",
       "   'details': []}],\n",
       " 'sidekicks': []}"
      ]
     },
     "execution_count": 13,
     "metadata": {},
     "output_type": "execute_result"
    }
   ],
   "source": [
    "# Display the pipeline after hot swap\n",
    "pipeline.status()"
   ]
  },
  {
   "cell_type": "code",
   "execution_count": 14,
   "metadata": {},
   "outputs": [
    {
     "data": {
      "text/html": [
       "<table><tr><th>name</th> <td>junshotswappipeline</td></tr><tr><th>created</th> <td>2023-03-27 17:49:03.825430+00:00</td></tr><tr><th>last_updated</th> <td>2023-03-27 17:49:28.623168+00:00</td></tr><tr><th>deployed</th> <td>False</td></tr><tr><th>tags</th> <td></td></tr><tr><th>versions</th> <td>894ec8a6-9bfe-4c4e-8ecf-aeb978b9e4fc, ea5a50ba-d130-4819-9e70-cba0e4f1dfa9, 3003993e-040d-4ba8-a497-a7a4eeca98fb</td></tr><tr><th>steps</th> <td>junsccfraudoriginal</td></tr></table>"
      ],
      "text/plain": [
       "{'name': 'junshotswappipeline', 'create_time': datetime.datetime(2023, 3, 27, 17, 49, 3, 825430, tzinfo=tzutc()), 'definition': \"[{'ModelInference': {'models': [{'name': 'junsccfraudreplacement', 'version': 'ff3dd2f6-d815-47e7-850f-f5e7d8c3c604', 'sha': 'bc85ce596945f876256f41515c7501c399fd97ebcb9ab3dd41bf03f8937b4507'}]}}]\"}"
      ]
     },
     "metadata": {},
     "output_type": "display_data"
    },
    {
     "ename": "EntityNotFoundError",
     "evalue": "Deployment not found not found: {'name': 'junshotswappipeline'}",
     "output_type": "error",
     "traceback": [
      "\u001b[0;31m---------------------------------------------------------------------------\u001b[0m",
      "\u001b[0;31mEntityNotFoundError\u001b[0m                       Traceback (most recent call last)",
      "\u001b[0;32m/var/folders/jf/_cj0q9d51s365wksymljdz4h0000gn/T/ipykernel_98990/4111311272.py\u001b[0m in \u001b[0;36m<module>\u001b[0;34m\u001b[0m\n\u001b[1;32m      3\u001b[0m \u001b[0mpipeline\u001b[0m\u001b[0;34m.\u001b[0m\u001b[0mundeploy\u001b[0m\u001b[0;34m(\u001b[0m\u001b[0;34m)\u001b[0m\u001b[0;34m\u001b[0m\u001b[0;34m\u001b[0m\u001b[0m\n\u001b[1;32m      4\u001b[0m \u001b[0mdisplay\u001b[0m\u001b[0;34m(\u001b[0m\u001b[0mpipeline\u001b[0m\u001b[0;34m)\u001b[0m\u001b[0;34m\u001b[0m\u001b[0;34m\u001b[0m\u001b[0m\n\u001b[0;32m----> 5\u001b[0;31m \u001b[0mdisplay\u001b[0m\u001b[0;34m(\u001b[0m\u001b[0mpipeline\u001b[0m\u001b[0;34m.\u001b[0m\u001b[0mstatus\u001b[0m\u001b[0;34m(\u001b[0m\u001b[0;34m)\u001b[0m\u001b[0;34m)\u001b[0m\u001b[0;34m\u001b[0m\u001b[0;34m\u001b[0m\u001b[0m\n\u001b[0m",
      "\u001b[0;32m/opt/homebrew/anaconda3/envs/arrowtests/lib/python3.8/site-packages/wallaroo/pipeline.py\u001b[0m in \u001b[0;36mstatus\u001b[0;34m(self)\u001b[0m\n\u001b[1;32m    530\u001b[0m         \u001b[0mdeployment\u001b[0m \u001b[0;34m=\u001b[0m \u001b[0mself\u001b[0m\u001b[0;34m.\u001b[0m\u001b[0m_deployment_for_pipeline\u001b[0m\u001b[0;34m(\u001b[0m\u001b[0;34m)\u001b[0m\u001b[0;34m\u001b[0m\u001b[0;34m\u001b[0m\u001b[0m\n\u001b[1;32m    531\u001b[0m         \u001b[0;32mif\u001b[0m \u001b[0mdeployment\u001b[0m\u001b[0;34m:\u001b[0m\u001b[0;34m\u001b[0m\u001b[0;34m\u001b[0m\u001b[0m\n\u001b[0;32m--> 532\u001b[0;31m             \u001b[0;32mreturn\u001b[0m \u001b[0mdeployment\u001b[0m\u001b[0;34m.\u001b[0m\u001b[0mstatus\u001b[0m\u001b[0;34m(\u001b[0m\u001b[0;34m)\u001b[0m\u001b[0;34m\u001b[0m\u001b[0;34m\u001b[0m\u001b[0m\n\u001b[0m\u001b[1;32m    533\u001b[0m         \u001b[0;32melse\u001b[0m\u001b[0;34m:\u001b[0m\u001b[0;34m\u001b[0m\u001b[0;34m\u001b[0m\u001b[0m\n\u001b[1;32m    534\u001b[0m             \u001b[0;32mreturn\u001b[0m \u001b[0;34m{\u001b[0m\u001b[0;34m\"status\"\u001b[0m\u001b[0;34m:\u001b[0m \u001b[0;34mf\"Pipeline {self.name()} is not deployed\"\u001b[0m\u001b[0;34m}\u001b[0m\u001b[0;34m\u001b[0m\u001b[0;34m\u001b[0m\u001b[0m\n",
      "\u001b[0;32m/opt/homebrew/anaconda3/envs/arrowtests/lib/python3.8/site-packages/wallaroo/deployment.py\u001b[0m in \u001b[0;36mstatus\u001b[0;34m(self)\u001b[0m\n\u001b[1;32m    274\u001b[0m \u001b[0;34m\u001b[0m\u001b[0m\n\u001b[1;32m    275\u001b[0m             \u001b[0;32mif\u001b[0m \u001b[0mresp\u001b[0m\u001b[0;34m.\u001b[0m\u001b[0mstatus_code\u001b[0m \u001b[0;34m==\u001b[0m \u001b[0;36m404\u001b[0m\u001b[0;34m:\u001b[0m\u001b[0;34m\u001b[0m\u001b[0;34m\u001b[0m\u001b[0m\n\u001b[0;32m--> 276\u001b[0;31m                 raise EntityNotFoundError(\n\u001b[0m\u001b[1;32m    277\u001b[0m                     \u001b[0;34mf\"Deployment not found\"\u001b[0m\u001b[0;34m,\u001b[0m \u001b[0;34m{\u001b[0m\u001b[0;34m\"name\"\u001b[0m\u001b[0;34m:\u001b[0m \u001b[0mself\u001b[0m\u001b[0;34m.\u001b[0m\u001b[0mname\u001b[0m\u001b[0;34m(\u001b[0m\u001b[0;34m)\u001b[0m\u001b[0;34m}\u001b[0m\u001b[0;34m\u001b[0m\u001b[0;34m\u001b[0m\u001b[0m\n\u001b[1;32m    278\u001b[0m                 )\n",
      "\u001b[0;31mEntityNotFoundError\u001b[0m: Deployment not found not found: {'name': 'junshotswappipeline'}"
     ]
    }
   ],
   "source": [
    "# undeploy the pipeline, then redeploy the pipeline, then display the results each time.\n",
    "\n",
    "pipeline.undeploy()\n",
    "display(pipeline)\n",
    "display(pipeline.status())"
   ]
  },
  {
   "cell_type": "code",
   "execution_count": 15,
   "metadata": {},
   "outputs": [
    {
     "data": {
      "text/html": [
       "<table><tr><th>name</th> <td>junshotswappipeline</td></tr><tr><th>created</th> <td>2023-03-27 17:49:03.825430+00:00</td></tr><tr><th>last_updated</th> <td>2023-03-27 17:50:15.777389+00:00</td></tr><tr><th>deployed</th> <td>True</td></tr><tr><th>tags</th> <td></td></tr><tr><th>versions</th> <td>2c345754-6d18-4ab8-ae82-a721299816cd, 894ec8a6-9bfe-4c4e-8ecf-aeb978b9e4fc, ea5a50ba-d130-4819-9e70-cba0e4f1dfa9, 3003993e-040d-4ba8-a497-a7a4eeca98fb</td></tr><tr><th>steps</th> <td>junsccfraudoriginal</td></tr></table>"
      ],
      "text/plain": [
       "{'name': 'junshotswappipeline', 'create_time': datetime.datetime(2023, 3, 27, 17, 49, 3, 825430, tzinfo=tzutc()), 'definition': \"[{'ModelInference': {'models': [{'name': 'junsccfraudreplacement', 'version': 'ff3dd2f6-d815-47e7-850f-f5e7d8c3c604', 'sha': 'bc85ce596945f876256f41515c7501c399fd97ebcb9ab3dd41bf03f8937b4507'}]}}]\"}"
      ]
     },
     "metadata": {},
     "output_type": "display_data"
    },
    {
     "data": {
      "text/plain": [
       "{'status': 'Running',\n",
       " 'details': [],\n",
       " 'engines': [{'ip': '10.48.4.247',\n",
       "   'name': 'engine-7f54f5454b-jwm9j',\n",
       "   'status': 'Running',\n",
       "   'reason': None,\n",
       "   'details': [],\n",
       "   'pipeline_statuses': {'pipelines': [{'id': 'junshotswappipeline',\n",
       "      'status': 'Running'}]},\n",
       "   'model_statuses': {'models': [{'name': 'junsccfraudreplacement',\n",
       "      'version': 'ff3dd2f6-d815-47e7-850f-f5e7d8c3c604',\n",
       "      'sha': 'bc85ce596945f876256f41515c7501c399fd97ebcb9ab3dd41bf03f8937b4507',\n",
       "      'status': 'Running'}]}}],\n",
       " 'engine_lbs': [{'ip': '10.48.4.246',\n",
       "   'name': 'engine-lb-86bc6bd77b-87hgr',\n",
       "   'status': 'Running',\n",
       "   'reason': None,\n",
       "   'details': []}],\n",
       " 'sidekicks': []}"
      ]
     },
     "metadata": {},
     "output_type": "display_data"
    }
   ],
   "source": [
    "pipeline.deploy()\n",
    "display(pipeline)\n",
    "display(pipeline.status())"
   ]
  },
  {
   "cell_type": "markdown",
   "metadata": {},
   "source": [
    "### Verify the Swap\n",
    "\n",
    "To verify the swap, we'll submit a set of inferences to the pipeline using the new model.  We'll display just the first 5 rows for space reasons."
   ]
  },
  {
   "cell_type": "code",
   "execution_count": 16,
   "metadata": {},
   "outputs": [
    {
     "data": {
      "text/html": [
       "<div>\n",
       "<style scoped>\n",
       "    .dataframe tbody tr th:only-of-type {\n",
       "        vertical-align: middle;\n",
       "    }\n",
       "\n",
       "    .dataframe tbody tr th {\n",
       "        vertical-align: top;\n",
       "    }\n",
       "\n",
       "    .dataframe thead th {\n",
       "        text-align: right;\n",
       "    }\n",
       "</style>\n",
       "<table border=\"1\" class=\"dataframe\">\n",
       "  <thead>\n",
       "    <tr style=\"text-align: right;\">\n",
       "      <th></th>\n",
       "      <th>time</th>\n",
       "      <th>in.tensor</th>\n",
       "      <th>out.dense_1</th>\n",
       "      <th>check_failures</th>\n",
       "    </tr>\n",
       "  </thead>\n",
       "  <tbody>\n",
       "    <tr>\n",
       "      <th>0</th>\n",
       "      <td>2023-03-27 17:50:35.910</td>\n",
       "      <td>[-1.0603297501, 2.3544967095, -3.5638788326, 5.1387348926, -1.2308457019, -0.7687824608, -3.5881228109, 1.8880837663, -3.2789674274, -3.9563254554, 4.0993439118, -5.6539176395, -0.8775733373, -9.131571192, -0.6093537873, -3.7480276773, -5.0309125017, -0.8748149526, 1.9870535692, 0.7005485718, 0.9204422758, -0.1041491809, 0.3229564351, -0.7418141657, 0.0384120159, 1.0993439146, 1.2603409756, -0.1466244739, -1.4463212439]</td>\n",
       "      <td>[0.99300325]</td>\n",
       "      <td>0</td>\n",
       "    </tr>\n",
       "    <tr>\n",
       "      <th>1</th>\n",
       "      <td>2023-03-27 17:50:35.910</td>\n",
       "      <td>[-1.0603297501, 2.3544967095, -3.5638788326, 5.1387348926, -1.2308457019, -0.7687824608, -3.5881228109, 1.8880837663, -3.2789674274, -3.9563254554, 4.0993439118, -5.6539176395, -0.8775733373, -9.131571192, -0.6093537873, -3.7480276773, -5.0309125017, -0.8748149526, 1.9870535692, 0.7005485718, 0.9204422758, -0.1041491809, 0.3229564351, -0.7418141657, 0.0384120159, 1.0993439146, 1.2603409756, -0.1466244739, -1.4463212439]</td>\n",
       "      <td>[0.99300325]</td>\n",
       "      <td>0</td>\n",
       "    </tr>\n",
       "    <tr>\n",
       "      <th>2</th>\n",
       "      <td>2023-03-27 17:50:35.910</td>\n",
       "      <td>[-1.0603297501, 2.3544967095, -3.5638788326, 5.1387348926, -1.2308457019, -0.7687824608, -3.5881228109, 1.8880837663, -3.2789674274, -3.9563254554, 4.0993439118, -5.6539176395, -0.8775733373, -9.131571192, -0.6093537873, -3.7480276773, -5.0309125017, -0.8748149526, 1.9870535692, 0.7005485718, 0.9204422758, -0.1041491809, 0.3229564351, -0.7418141657, 0.0384120159, 1.0993439146, 1.2603409756, -0.1466244739, -1.4463212439]</td>\n",
       "      <td>[0.99300325]</td>\n",
       "      <td>0</td>\n",
       "    </tr>\n",
       "    <tr>\n",
       "      <th>3</th>\n",
       "      <td>2023-03-27 17:50:35.910</td>\n",
       "      <td>[-1.0603297501, 2.3544967095, -3.5638788326, 5.1387348926, -1.2308457019, -0.7687824608, -3.5881228109, 1.8880837663, -3.2789674274, -3.9563254554, 4.0993439118, -5.6539176395, -0.8775733373, -9.131571192, -0.6093537873, -3.7480276773, -5.0309125017, -0.8748149526, 1.9870535692, 0.7005485718, 0.9204422758, -0.1041491809, 0.3229564351, -0.7418141657, 0.0384120159, 1.0993439146, 1.2603409756, -0.1466244739, -1.4463212439]</td>\n",
       "      <td>[0.99300325]</td>\n",
       "      <td>0</td>\n",
       "    </tr>\n",
       "    <tr>\n",
       "      <th>4</th>\n",
       "      <td>2023-03-27 17:50:35.910</td>\n",
       "      <td>[0.5817662108, 0.097881551, 0.1546819424, 0.4754101949, -0.1978862306, -0.4504344854, 0.0166540447, -0.0256070551, 0.0920561602, -0.2783917153, 0.0593299441, -0.0196585416, -0.4225083157, -0.1217538877, 1.5473094894, 0.2391622864, 0.3553974881, -0.7685165301, -0.7000849355, -0.1190043285, -0.3450517133, -1.1065114108, 0.2523411195, 0.0209441826, 0.2199267436, 0.2540689265, -0.0450225094, 0.1086773898, 0.2547179311]</td>\n",
       "      <td>[0.0010916889]</td>\n",
       "      <td>0</td>\n",
       "    </tr>\n",
       "  </tbody>\n",
       "</table>\n",
       "</div>"
      ],
      "text/plain": [
       "                     time  \\\n",
       "0 2023-03-27 17:50:35.910   \n",
       "1 2023-03-27 17:50:35.910   \n",
       "2 2023-03-27 17:50:35.910   \n",
       "3 2023-03-27 17:50:35.910   \n",
       "4 2023-03-27 17:50:35.910   \n",
       "\n",
       "                                                                                                                                                                                                                                                                                                                                                                                                                                 in.tensor  \\\n",
       "0  [-1.0603297501, 2.3544967095, -3.5638788326, 5.1387348926, -1.2308457019, -0.7687824608, -3.5881228109, 1.8880837663, -3.2789674274, -3.9563254554, 4.0993439118, -5.6539176395, -0.8775733373, -9.131571192, -0.6093537873, -3.7480276773, -5.0309125017, -0.8748149526, 1.9870535692, 0.7005485718, 0.9204422758, -0.1041491809, 0.3229564351, -0.7418141657, 0.0384120159, 1.0993439146, 1.2603409756, -0.1466244739, -1.4463212439]   \n",
       "1  [-1.0603297501, 2.3544967095, -3.5638788326, 5.1387348926, -1.2308457019, -0.7687824608, -3.5881228109, 1.8880837663, -3.2789674274, -3.9563254554, 4.0993439118, -5.6539176395, -0.8775733373, -9.131571192, -0.6093537873, -3.7480276773, -5.0309125017, -0.8748149526, 1.9870535692, 0.7005485718, 0.9204422758, -0.1041491809, 0.3229564351, -0.7418141657, 0.0384120159, 1.0993439146, 1.2603409756, -0.1466244739, -1.4463212439]   \n",
       "2  [-1.0603297501, 2.3544967095, -3.5638788326, 5.1387348926, -1.2308457019, -0.7687824608, -3.5881228109, 1.8880837663, -3.2789674274, -3.9563254554, 4.0993439118, -5.6539176395, -0.8775733373, -9.131571192, -0.6093537873, -3.7480276773, -5.0309125017, -0.8748149526, 1.9870535692, 0.7005485718, 0.9204422758, -0.1041491809, 0.3229564351, -0.7418141657, 0.0384120159, 1.0993439146, 1.2603409756, -0.1466244739, -1.4463212439]   \n",
       "3  [-1.0603297501, 2.3544967095, -3.5638788326, 5.1387348926, -1.2308457019, -0.7687824608, -3.5881228109, 1.8880837663, -3.2789674274, -3.9563254554, 4.0993439118, -5.6539176395, -0.8775733373, -9.131571192, -0.6093537873, -3.7480276773, -5.0309125017, -0.8748149526, 1.9870535692, 0.7005485718, 0.9204422758, -0.1041491809, 0.3229564351, -0.7418141657, 0.0384120159, 1.0993439146, 1.2603409756, -0.1466244739, -1.4463212439]   \n",
       "4       [0.5817662108, 0.097881551, 0.1546819424, 0.4754101949, -0.1978862306, -0.4504344854, 0.0166540447, -0.0256070551, 0.0920561602, -0.2783917153, 0.0593299441, -0.0196585416, -0.4225083157, -0.1217538877, 1.5473094894, 0.2391622864, 0.3553974881, -0.7685165301, -0.7000849355, -0.1190043285, -0.3450517133, -1.1065114108, 0.2523411195, 0.0209441826, 0.2199267436, 0.2540689265, -0.0450225094, 0.1086773898, 0.2547179311]   \n",
       "\n",
       "      out.dense_1  check_failures  \n",
       "0    [0.99300325]               0  \n",
       "1    [0.99300325]               0  \n",
       "2    [0.99300325]               0  \n",
       "3    [0.99300325]               0  \n",
       "4  [0.0010916889]               0  "
      ]
     },
     "metadata": {},
     "output_type": "display_data"
    }
   ],
   "source": [
    "result = pipeline.infer_from_file('./data/cc_data_1k.df.json')\n",
    "display(result.loc[0:4,:])"
   ]
  },
  {
   "cell_type": "markdown",
   "metadata": {},
   "source": [
    "### Undeploy the Pipeline\n",
    "\n",
    "With the tutorial complete, the pipeline is undeployed to return the resources back to the Wallaroo instance."
   ]
  },
  {
   "cell_type": "code",
   "execution_count": 21,
   "metadata": {},
   "outputs": [
    {
     "data": {
      "text/html": [
       "<table><tr><th>name</th> <td>junshotswappipeline</td></tr><tr><th>created</th> <td>2023-03-27 17:49:03.825430+00:00</td></tr><tr><th>last_updated</th> <td>2023-03-27 17:52:32.198831+00:00</td></tr><tr><th>deployed</th> <td>False</td></tr><tr><th>tags</th> <td></td></tr><tr><th>versions</th> <td>1e033a54-0bec-44aa-8630-0b13daaaaca5, 2c345754-6d18-4ab8-ae82-a721299816cd, 894ec8a6-9bfe-4c4e-8ecf-aeb978b9e4fc, ea5a50ba-d130-4819-9e70-cba0e4f1dfa9, 3003993e-040d-4ba8-a497-a7a4eeca98fb</td></tr><tr><th>steps</th> <td>junsccfraudoriginal</td></tr></table>"
      ],
      "text/plain": [
       "{'name': 'junshotswappipeline', 'create_time': datetime.datetime(2023, 3, 27, 17, 49, 3, 825430, tzinfo=tzutc()), 'definition': \"[{'ModelInference': {'models': [{'name': 'junsccfraudoriginal', 'version': '077cb138-dd49-41aa-8657-4260da841097', 'sha': 'bc85ce596945f876256f41515c7501c399fd97ebcb9ab3dd41bf03f8937b4507'}]}}]\"}"
      ]
     },
     "execution_count": 21,
     "metadata": {},
     "output_type": "execute_result"
    }
   ],
   "source": [
    "pipeline.undeploy()"
   ]
  },
  {
   "cell_type": "code",
   "execution_count": 18,
   "metadata": {},
   "outputs": [
    {
     "data": {
      "text/html": [
       "<table><tr><th>name</th> <td>junshotswappipeline</td></tr><tr><th>created</th> <td>2023-03-27 17:49:03.825430+00:00</td></tr><tr><th>last_updated</th> <td>2023-03-27 17:52:32.198831+00:00</td></tr><tr><th>deployed</th> <td>True</td></tr><tr><th>tags</th> <td></td></tr><tr><th>versions</th> <td>1e033a54-0bec-44aa-8630-0b13daaaaca5, 2c345754-6d18-4ab8-ae82-a721299816cd, 894ec8a6-9bfe-4c4e-8ecf-aeb978b9e4fc, ea5a50ba-d130-4819-9e70-cba0e4f1dfa9, 3003993e-040d-4ba8-a497-a7a4eeca98fb</td></tr><tr><th>steps</th> <td>junsccfraudoriginal</td></tr></table>"
      ],
      "text/plain": [
       "{'name': 'junshotswappipeline', 'create_time': datetime.datetime(2023, 3, 27, 17, 49, 3, 825430, tzinfo=tzutc()), 'definition': \"[{'ModelInference': {'models': [{'name': 'junsccfraudoriginal', 'version': '077cb138-dd49-41aa-8657-4260da841097', 'sha': 'bc85ce596945f876256f41515c7501c399fd97ebcb9ab3dd41bf03f8937b4507'}]}}]\"}"
      ]
     },
     "execution_count": 18,
     "metadata": {},
     "output_type": "execute_result"
    }
   ],
   "source": [
    "## Swap back in the original model, check the inference resulta\n",
    "\n",
    "pipeline.replace_with_model_step(0, original_model).deploy()"
   ]
  },
  {
   "cell_type": "code",
   "execution_count": 19,
   "metadata": {},
   "outputs": [
    {
     "data": {
      "text/html": [
       "<table><tr><th>name</th> <td>junshotswappipeline</td></tr><tr><th>created</th> <td>2023-03-27 17:49:03.825430+00:00</td></tr><tr><th>last_updated</th> <td>2023-03-27 17:52:32.198831+00:00</td></tr><tr><th>deployed</th> <td>True</td></tr><tr><th>tags</th> <td></td></tr><tr><th>versions</th> <td>1e033a54-0bec-44aa-8630-0b13daaaaca5, 2c345754-6d18-4ab8-ae82-a721299816cd, 894ec8a6-9bfe-4c4e-8ecf-aeb978b9e4fc, ea5a50ba-d130-4819-9e70-cba0e4f1dfa9, 3003993e-040d-4ba8-a497-a7a4eeca98fb</td></tr><tr><th>steps</th> <td>junsccfraudoriginal</td></tr></table>"
      ],
      "text/plain": [
       "{'name': 'junshotswappipeline', 'create_time': datetime.datetime(2023, 3, 27, 17, 49, 3, 825430, tzinfo=tzutc()), 'definition': \"[{'ModelInference': {'models': [{'name': 'junsccfraudoriginal', 'version': '077cb138-dd49-41aa-8657-4260da841097', 'sha': 'bc85ce596945f876256f41515c7501c399fd97ebcb9ab3dd41bf03f8937b4507'}]}}]\"}"
      ]
     },
     "metadata": {},
     "output_type": "display_data"
    },
    {
     "data": {
      "text/plain": [
       "{'status': 'Running',\n",
       " 'details': [],\n",
       " 'engines': [{'ip': '10.48.4.252',\n",
       "   'name': 'engine-789994bcc8-pjr5h',\n",
       "   'status': 'Running',\n",
       "   'reason': None,\n",
       "   'details': [],\n",
       "   'pipeline_statuses': {'pipelines': [{'id': 'junshotswappipeline',\n",
       "      'status': 'Running'}]},\n",
       "   'model_statuses': {'models': [{'name': 'junsccfraudoriginal',\n",
       "      'version': '077cb138-dd49-41aa-8657-4260da841097',\n",
       "      'sha': 'bc85ce596945f876256f41515c7501c399fd97ebcb9ab3dd41bf03f8937b4507',\n",
       "      'status': 'Running'}]}}],\n",
       " 'engine_lbs': [{'ip': '10.48.4.251',\n",
       "   'name': 'engine-lb-86bc6bd77b-jrzfp',\n",
       "   'status': 'Running',\n",
       "   'reason': None,\n",
       "   'details': []}],\n",
       " 'sidekicks': []}"
      ]
     },
     "metadata": {},
     "output_type": "display_data"
    }
   ],
   "source": [
    "display(pipeline)\n",
    "display(pipeline.status())"
   ]
  },
  {
   "cell_type": "code",
   "execution_count": 20,
   "metadata": {},
   "outputs": [
    {
     "data": {
      "text/html": [
       "<div>\n",
       "<style scoped>\n",
       "    .dataframe tbody tr th:only-of-type {\n",
       "        vertical-align: middle;\n",
       "    }\n",
       "\n",
       "    .dataframe tbody tr th {\n",
       "        vertical-align: top;\n",
       "    }\n",
       "\n",
       "    .dataframe thead th {\n",
       "        text-align: right;\n",
       "    }\n",
       "</style>\n",
       "<table border=\"1\" class=\"dataframe\">\n",
       "  <thead>\n",
       "    <tr style=\"text-align: right;\">\n",
       "      <th></th>\n",
       "      <th>time</th>\n",
       "      <th>in.tensor</th>\n",
       "      <th>out.dense_1</th>\n",
       "      <th>check_failures</th>\n",
       "    </tr>\n",
       "  </thead>\n",
       "  <tbody>\n",
       "    <tr>\n",
       "      <th>0</th>\n",
       "      <td>2023-03-27 17:52:52.197</td>\n",
       "      <td>[-1.0603297501, 2.3544967095, -3.5638788326, 5.1387348926, -1.2308457019, -0.7687824608, -3.5881228109, 1.8880837663, -3.2789674274, -3.9563254554, 4.0993439118, -5.6539176395, -0.8775733373, -9.131571192, -0.6093537873, -3.7480276773, -5.0309125017, -0.8748149526, 1.9870535692, 0.7005485718, 0.9204422758, -0.1041491809, 0.3229564351, -0.7418141657, 0.0384120159, 1.0993439146, 1.2603409756, -0.1466244739, -1.4463212439]</td>\n",
       "      <td>[0.99300325]</td>\n",
       "      <td>0</td>\n",
       "    </tr>\n",
       "    <tr>\n",
       "      <th>1</th>\n",
       "      <td>2023-03-27 17:52:52.197</td>\n",
       "      <td>[-1.0603297501, 2.3544967095, -3.5638788326, 5.1387348926, -1.2308457019, -0.7687824608, -3.5881228109, 1.8880837663, -3.2789674274, -3.9563254554, 4.0993439118, -5.6539176395, -0.8775733373, -9.131571192, -0.6093537873, -3.7480276773, -5.0309125017, -0.8748149526, 1.9870535692, 0.7005485718, 0.9204422758, -0.1041491809, 0.3229564351, -0.7418141657, 0.0384120159, 1.0993439146, 1.2603409756, -0.1466244739, -1.4463212439]</td>\n",
       "      <td>[0.99300325]</td>\n",
       "      <td>0</td>\n",
       "    </tr>\n",
       "    <tr>\n",
       "      <th>2</th>\n",
       "      <td>2023-03-27 17:52:52.197</td>\n",
       "      <td>[-1.0603297501, 2.3544967095, -3.5638788326, 5.1387348926, -1.2308457019, -0.7687824608, -3.5881228109, 1.8880837663, -3.2789674274, -3.9563254554, 4.0993439118, -5.6539176395, -0.8775733373, -9.131571192, -0.6093537873, -3.7480276773, -5.0309125017, -0.8748149526, 1.9870535692, 0.7005485718, 0.9204422758, -0.1041491809, 0.3229564351, -0.7418141657, 0.0384120159, 1.0993439146, 1.2603409756, -0.1466244739, -1.4463212439]</td>\n",
       "      <td>[0.99300325]</td>\n",
       "      <td>0</td>\n",
       "    </tr>\n",
       "    <tr>\n",
       "      <th>3</th>\n",
       "      <td>2023-03-27 17:52:52.197</td>\n",
       "      <td>[-1.0603297501, 2.3544967095, -3.5638788326, 5.1387348926, -1.2308457019, -0.7687824608, -3.5881228109, 1.8880837663, -3.2789674274, -3.9563254554, 4.0993439118, -5.6539176395, -0.8775733373, -9.131571192, -0.6093537873, -3.7480276773, -5.0309125017, -0.8748149526, 1.9870535692, 0.7005485718, 0.9204422758, -0.1041491809, 0.3229564351, -0.7418141657, 0.0384120159, 1.0993439146, 1.2603409756, -0.1466244739, -1.4463212439]</td>\n",
       "      <td>[0.99300325]</td>\n",
       "      <td>0</td>\n",
       "    </tr>\n",
       "    <tr>\n",
       "      <th>4</th>\n",
       "      <td>2023-03-27 17:52:52.197</td>\n",
       "      <td>[0.5817662108, 0.097881551, 0.1546819424, 0.4754101949, -0.1978862306, -0.4504344854, 0.0166540447, -0.0256070551, 0.0920561602, -0.2783917153, 0.0593299441, -0.0196585416, -0.4225083157, -0.1217538877, 1.5473094894, 0.2391622864, 0.3553974881, -0.7685165301, -0.7000849355, -0.1190043285, -0.3450517133, -1.1065114108, 0.2523411195, 0.0209441826, 0.2199267436, 0.2540689265, -0.0450225094, 0.1086773898, 0.2547179311]</td>\n",
       "      <td>[0.0010916889]</td>\n",
       "      <td>0</td>\n",
       "    </tr>\n",
       "  </tbody>\n",
       "</table>\n",
       "</div>"
      ],
      "text/plain": [
       "                     time  \\\n",
       "0 2023-03-27 17:52:52.197   \n",
       "1 2023-03-27 17:52:52.197   \n",
       "2 2023-03-27 17:52:52.197   \n",
       "3 2023-03-27 17:52:52.197   \n",
       "4 2023-03-27 17:52:52.197   \n",
       "\n",
       "                                                                                                                                                                                                                                                                                                                                                                                                                                 in.tensor  \\\n",
       "0  [-1.0603297501, 2.3544967095, -3.5638788326, 5.1387348926, -1.2308457019, -0.7687824608, -3.5881228109, 1.8880837663, -3.2789674274, -3.9563254554, 4.0993439118, -5.6539176395, -0.8775733373, -9.131571192, -0.6093537873, -3.7480276773, -5.0309125017, -0.8748149526, 1.9870535692, 0.7005485718, 0.9204422758, -0.1041491809, 0.3229564351, -0.7418141657, 0.0384120159, 1.0993439146, 1.2603409756, -0.1466244739, -1.4463212439]   \n",
       "1  [-1.0603297501, 2.3544967095, -3.5638788326, 5.1387348926, -1.2308457019, -0.7687824608, -3.5881228109, 1.8880837663, -3.2789674274, -3.9563254554, 4.0993439118, -5.6539176395, -0.8775733373, -9.131571192, -0.6093537873, -3.7480276773, -5.0309125017, -0.8748149526, 1.9870535692, 0.7005485718, 0.9204422758, -0.1041491809, 0.3229564351, -0.7418141657, 0.0384120159, 1.0993439146, 1.2603409756, -0.1466244739, -1.4463212439]   \n",
       "2  [-1.0603297501, 2.3544967095, -3.5638788326, 5.1387348926, -1.2308457019, -0.7687824608, -3.5881228109, 1.8880837663, -3.2789674274, -3.9563254554, 4.0993439118, -5.6539176395, -0.8775733373, -9.131571192, -0.6093537873, -3.7480276773, -5.0309125017, -0.8748149526, 1.9870535692, 0.7005485718, 0.9204422758, -0.1041491809, 0.3229564351, -0.7418141657, 0.0384120159, 1.0993439146, 1.2603409756, -0.1466244739, -1.4463212439]   \n",
       "3  [-1.0603297501, 2.3544967095, -3.5638788326, 5.1387348926, -1.2308457019, -0.7687824608, -3.5881228109, 1.8880837663, -3.2789674274, -3.9563254554, 4.0993439118, -5.6539176395, -0.8775733373, -9.131571192, -0.6093537873, -3.7480276773, -5.0309125017, -0.8748149526, 1.9870535692, 0.7005485718, 0.9204422758, -0.1041491809, 0.3229564351, -0.7418141657, 0.0384120159, 1.0993439146, 1.2603409756, -0.1466244739, -1.4463212439]   \n",
       "4       [0.5817662108, 0.097881551, 0.1546819424, 0.4754101949, -0.1978862306, -0.4504344854, 0.0166540447, -0.0256070551, 0.0920561602, -0.2783917153, 0.0593299441, -0.0196585416, -0.4225083157, -0.1217538877, 1.5473094894, 0.2391622864, 0.3553974881, -0.7685165301, -0.7000849355, -0.1190043285, -0.3450517133, -1.1065114108, 0.2523411195, 0.0209441826, 0.2199267436, 0.2540689265, -0.0450225094, 0.1086773898, 0.2547179311]   \n",
       "\n",
       "      out.dense_1  check_failures  \n",
       "0    [0.99300325]               0  \n",
       "1    [0.99300325]               0  \n",
       "2    [0.99300325]               0  \n",
       "3    [0.99300325]               0  \n",
       "4  [0.0010916889]               0  "
      ]
     },
     "metadata": {},
     "output_type": "display_data"
    }
   ],
   "source": [
    "# inference with the original pipeline\n",
    "\n",
    "result = pipeline.infer_from_file('./data/cc_data_1k.df.json')\n",
    "display(result.loc[0:4,:])"
   ]
  },
  {
   "cell_type": "code",
   "execution_count": null,
   "metadata": {},
   "outputs": [],
   "source": []
  }
 ],
 "metadata": {
  "kernelspec": {
   "display_name": "wallaroosdk",
   "language": "python",
   "name": "python3"
  },
  "language_info": {
   "codemirror_mode": {
    "name": "ipython",
    "version": 3
   },
   "file_extension": ".py",
   "mimetype": "text/x-python",
   "name": "python",
   "nbconvert_exporter": "python",
   "pygments_lexer": "ipython3",
   "version": "3.8.12"
  },
  "vscode": {
   "interpreter": {
    "hash": "e951b583e3fbbcadfc15df61f9ed97fb9a76f59b2130f2cdf4d0033aa05e7e64"
   }
  }
 },
 "nbformat": 4,
 "nbformat_minor": 4
}
