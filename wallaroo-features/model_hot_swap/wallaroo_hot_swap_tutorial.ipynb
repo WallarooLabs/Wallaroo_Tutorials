{
 "cells": [
  {
   "attachments": {},
   "cell_type": "markdown",
   "metadata": {},
   "source": [
    "This tutorial and the assets can be downloaded as part of the [Wallaroo Tutorials repository](https://github.com/WallarooLabs/Wallaroo_Tutorials/tree/main/wallaroo-features/model_hot_swap).\n",
    "\n",
    "## Model Hot Swap Tutorial\n",
    "\n",
    "One of the biggest challenges facing organizations once they have a model trained is deploying the model:  Getting all of the resources together, MLOps configured and systems prepared to allow inferences to run.\n",
    "\n",
    "The next biggest challenge?  Replacing the model while keeping the existing production systems running.\n",
    "\n",
    "This tutorial demonstrates how Wallaroo model hot swap can update a pipeline step with a new model with one command.  This lets organizations keep their production systems running while changing a ML model, with the change taking only milliseconds, and any inference requests in that time are processed after the hot swap is completed.\n",
    "\n",
    "This example and sample data comes from the Machine Learning Group's demonstration on [Credit Card Fraud detection](https://www.kaggle.com/datasets/mlg-ulb/creditcardfraud).\n",
    "\n",
    "This tutorial provides the following:\n",
    "\n",
    "* `ccfraud.onnx`: A pre-trained ML model used to detect potential credit card fraud.\n",
    "* `xgboost_ccfraud.onnx`: A pre-trained ML model used to detect potential credit card fraud originally converted from an XGBoost model.  This will be used to swap with the `ccfraud.onnx`.\n",
    "* `smoke_test.json`: A data file used to verify that the model will return a low possibility of credit card fraud.\n",
    "* `high_fraud.json`: A data file used to verify that the model will return a high possibility of credit card fraud.\n",
    "* Sample inference data files: Data files used for inference examples with the following number of records:\n",
    "  * `cc_data_5.json`: 5 records.\n",
    "  * `cc_data_1k.json`: 1,000 records.\n",
    "  * `cc_data_10k.json`: 10,000 records.\n",
    "  * `cc_data_40k.json`: Over 40,000 records.\n",
    "\n",
    "## Reference\n",
    "\n",
    "For more information about Wallaroo and related features, see the [Wallaroo Documentation Site](https://docs.wallaroo.ai)."
   ]
  },
  {
   "attachments": {},
   "cell_type": "markdown",
   "metadata": {},
   "source": [
    "## Steps\n",
    "\n",
    "The following steps demonstrate the following:\n",
    "\n",
    "* Connect to a Wallaroo instance.\n",
    "* Create a workspace and pipeline.\n",
    "* Upload both models to the workspace.\n",
    "* Deploy the pipe with the `ccfraud.onnx` model as a pipeline step.\n",
    "* Perform sample inferences.\n",
    "* Hot swap and replace the existing model with the `xgboost_ccfraud.onnx` while keeping the pipeline deployed.\n",
    "* Conduct additional inferences to demonstrate the model hot swap was successful.\n",
    "* Undeploy the pipeline and return the resources back to the Wallaroo instance."
   ]
  },
  {
   "attachments": {},
   "cell_type": "markdown",
   "metadata": {},
   "source": [
    "### Load the Libraries\n",
    "\n",
    "Load the Python libraries used to connect and interact with the Wallaroo instance."
   ]
  },
  {
   "cell_type": "code",
   "execution_count": 7,
   "metadata": {},
   "outputs": [],
   "source": [
    "import wallaroo\n",
    "from wallaroo.object import EntityNotFoundError"
   ]
  },
  {
   "attachments": {},
   "cell_type": "markdown",
   "metadata": {},
   "source": [
    "### Open a Connection to Wallaroo\n",
    "\n",
    "The first step is to connect to Wallaroo through the Wallaroo client.\n",
    "\n",
    "This is accomplished using the `wallaroo.Client(api_endpoint, auth_endpoint, auth_type command)` command that connects to the Wallaroo instance services.\n",
    "\n",
    "The `Client` method takes the following parameters:\n",
    "\n",
    "* **api_endpoint** (*String*): The URL to the Wallaroo instance API service.\n",
    "* **auth_endpoint** (*String*): The URL to the Wallaroo instance Keycloak service.\n",
    "* **auth_type command** (*String*): The authorization type.  In this case, `SSO`.\n",
    "\n",
    "The URLs are based on the Wallaroo Prefix and Wallaroo Suffix for the Wallaroo instance.  For more information, see the [DNS Integration Guide](https://docs.wallaroo.ai/wallaroo-operations-guide/wallaroo-configuration/wallaroo-dns-guide/).  In the example below, replace \"YOUR PREFIX\" and \"YOUR SUFFIX\" with the Wallaroo Prefix and Suffix, respectively.\n",
    "\n",
    "If connecting from within the Wallaroo instance's JupyterHub service, then only `wl = wallaroo.Client()` is required.\n",
    "\n",
    "Once run, the `wallaroo.Client` command provides a URL to grant the SDK permission to your specific Wallaroo environment.  When displayed, enter the URL into a browser and confirm permissions.  Depending on the configuration of the Wallaroo instance, the user will either be presented with a login request to the Wallaroo instance or be authenticated through a broker such as Google, Github, etc.  To use the broker, select it from the list under the username/password login forms.  For more information on Wallaroo authentication configurations, see the [Wallaroo Authentication Configuration Guides](https://docs.wallaroo.ai/wallaroo-operations-guide/wallaroo-configuration/wallaroo-sso-authentication/)."
   ]
  },
  {
   "cell_type": "code",
   "execution_count": 8,
   "metadata": {},
   "outputs": [],
   "source": [
    "# Remote Login\n",
    "\n",
    "wallarooPrefix = \"YOUR PREFIX\"\n",
    "wallarooSuffix = \"YOUR SUFFIX\"\n",
    "\n",
    "wl = wallaroo.Client(api_endpoint=f\"https://{wallarooPrefix}.api.{wallarooSuffix}\", \n",
    "                    auth_endpoint=f\"https://{wallarooPrefix}.keycloak.{wallarooSuffix}\", \n",
    "                    auth_type=\"sso\")\n",
    "\n",
    "# Internal Login\n",
    "\n",
    "# wl = wallaroo.Client()"
   ]
  },
  {
   "attachments": {},
   "cell_type": "markdown",
   "metadata": {},
   "source": [
    "### Set the Variables\n",
    "\n",
    "The following variables are used in the later steps for creating the workspace, pipeline, and uploading the models.  Modify them according to your organization's requirements."
   ]
  },
  {
   "cell_type": "code",
   "execution_count": 9,
   "metadata": {},
   "outputs": [],
   "source": [
    "workspace_name = 'hotswapworkspace'\n",
    "pipeline_name = 'hotswappipeline'\n",
    "original_model_name = 'ccfraudoriginal'\n",
    "original_model_file_name = './ccfraud.onnx'\n",
    "replacement_model_name = 'ccfraudreplacement'\n",
    "replacement_model_file_name = './xgboost_ccfraud.onnx'"
   ]
  },
  {
   "cell_type": "code",
   "execution_count": 10,
   "metadata": {},
   "outputs": [],
   "source": [
    "def get_workspace(name):\n",
    "    workspace = None\n",
    "    for ws in wl.list_workspaces():\n",
    "        if ws.name() == name:\n",
    "            workspace= ws\n",
    "    if(workspace == None):\n",
    "        workspace = wl.create_workspace(name)\n",
    "    return workspace\n",
    "\n",
    "def get_pipeline(name):\n",
    "    try:\n",
    "        pipeline = wl.pipelines_by_name(pipeline_name)[0]\n",
    "    except EntityNotFoundError:\n",
    "        pipeline = wl.build_pipeline(pipeline_name)\n",
    "    return pipeline"
   ]
  },
  {
   "attachments": {},
   "cell_type": "markdown",
   "metadata": {},
   "source": [
    "### Create the Workspace\n",
    "\n",
    "We will create a workspace based on the variable names set above, and set the new workspace as the `current` workspace.  This workspace is where new pipelines will be created in and store uploaded models for this session.\n",
    "\n",
    "Once set, the pipeline will be created."
   ]
  },
  {
   "cell_type": "code",
   "execution_count": 11,
   "metadata": {},
   "outputs": [
    {
     "data": {
      "text/html": [
       "<table><tr><th>name</th> <td>hotswappipeline</td></tr><tr><th>created</th> <td>2023-01-18 16:44:54.245465+00:00</td></tr><tr><th>last_updated</th> <td>2023-01-18 16:44:54.245465+00:00</td></tr><tr><th>deployed</th> <td>(none)</td></tr><tr><th>tags</th> <td></td></tr><tr><th>versions</th> <td>9c993849-94d0-4f54-9fbe-9d62d2833cb3</td></tr><tr><th>steps</th> <td></td></tr></table>"
      ],
      "text/plain": [
       "{'name': 'hotswappipeline', 'create_time': datetime.datetime(2023, 1, 18, 16, 44, 54, 245465, tzinfo=tzutc()), 'definition': '[]'}"
      ]
     },
     "execution_count": 11,
     "metadata": {},
     "output_type": "execute_result"
    }
   ],
   "source": [
    "workspace = get_workspace(workspace_name)\n",
    "\n",
    "wl.set_current_workspace(workspace)\n",
    "\n",
    "pipeline = get_pipeline(pipeline_name)\n",
    "pipeline"
   ]
  },
  {
   "attachments": {},
   "cell_type": "markdown",
   "metadata": {},
   "source": [
    "### Upload Models\n",
    "\n",
    "We can now upload both of the models.  In a later step, only one model will be added as a [pipeline step](https://docs.wallaroo.ai/wallaroo-developer-guides/wallaroo-sdk-guides/wallaroo-sdk-essentials-guide/wallaroo-sdk-essentials-pipeline/#add-a-step-to-a-pipeline), where the pipeline will submit inference requests to the pipeline."
   ]
  },
  {
   "cell_type": "code",
   "execution_count": 12,
   "metadata": {},
   "outputs": [],
   "source": [
    "original_model = wl.upload_model(original_model_name , original_model_file_name)\n",
    "replacement_model = wl.upload_model(replacement_model_name , replacement_model_file_name)"
   ]
  },
  {
   "attachments": {},
   "cell_type": "markdown",
   "metadata": {},
   "source": [
    "### Add Model to Pipeline Step\n",
    "\n",
    "With the models uploaded, we will add the original model as a pipeline step, then deploy the pipeline so it is available for performing inferences."
   ]
  },
  {
   "cell_type": "code",
   "execution_count": 13,
   "metadata": {},
   "outputs": [
    {
     "data": {
      "text/html": [
       "<table><tr><th>name</th> <td>hotswappipeline</td></tr><tr><th>created</th> <td>2023-01-18 16:44:54.245465+00:00</td></tr><tr><th>last_updated</th> <td>2023-01-18 16:44:54.245465+00:00</td></tr><tr><th>deployed</th> <td>(none)</td></tr><tr><th>tags</th> <td></td></tr><tr><th>versions</th> <td>9c993849-94d0-4f54-9fbe-9d62d2833cb3</td></tr><tr><th>steps</th> <td></td></tr></table>"
      ],
      "text/plain": [
       "{'name': 'hotswappipeline', 'create_time': datetime.datetime(2023, 1, 18, 16, 44, 54, 245465, tzinfo=tzutc()), 'definition': \"[{'ModelInference': {'models': [{'name': 'ccfraudoriginal', 'version': '3a03dc94-716e-46bb-84c8-91bc99ceb2c3', 'sha': 'bc85ce596945f876256f41515c7501c399fd97ebcb9ab3dd41bf03f8937b4507'}]}}]\"}"
      ]
     },
     "execution_count": 13,
     "metadata": {},
     "output_type": "execute_result"
    }
   ],
   "source": [
    "pipeline.add_model_step(original_model)\n",
    "pipeline"
   ]
  },
  {
   "cell_type": "code",
   "execution_count": 23,
   "metadata": {},
   "outputs": [
    {
     "data": {
      "text/html": [
       "<table><tr><th>name</th> <td>hotswappipeline</td></tr><tr><th>created</th> <td>2023-01-18 16:44:54.245465+00:00</td></tr><tr><th>last_updated</th> <td>2023-01-18 16:55:46.047515+00:00</td></tr><tr><th>deployed</th> <td>True</td></tr><tr><th>tags</th> <td></td></tr><tr><th>versions</th> <td>d0295b33-f1f9-420d-a1a6-c55485a13715, 9ccee697-98e5-4635-8db6-6ff8e577a47e, ab55afb4-2473-466b-b6eb-594f1a5727c3, 9c993849-94d0-4f54-9fbe-9d62d2833cb3</td></tr><tr><th>steps</th> <td>ccfraudoriginal</td></tr></table>"
      ],
      "text/plain": [
       "{'name': 'hotswappipeline', 'create_time': datetime.datetime(2023, 1, 18, 16, 44, 54, 245465, tzinfo=tzutc()), 'definition': \"[{'ModelInference': {'models': [{'name': 'ccfraudreplacement', 'version': '714efd19-5c83-42a8-aece-24b4ba530925', 'sha': 'bc85ce596945f876256f41515c7501c399fd97ebcb9ab3dd41bf03f8937b4507'}]}}]\"}"
      ]
     },
     "execution_count": 23,
     "metadata": {},
     "output_type": "execute_result"
    }
   ],
   "source": [
    "pipeline.deploy()"
   ]
  },
  {
   "cell_type": "code",
   "execution_count": 24,
   "metadata": {},
   "outputs": [
    {
     "data": {
      "text/plain": [
       "{'status': 'Running',\n",
       " 'details': [],\n",
       " 'engines': [{'ip': '10.244.2.153',\n",
       "   'name': 'engine-96486c95d-zfchr',\n",
       "   'status': 'Running',\n",
       "   'reason': None,\n",
       "   'details': [],\n",
       "   'pipeline_statuses': {'pipelines': [{'id': 'hotswappipeline',\n",
       "      'status': 'Running'}]},\n",
       "   'model_statuses': {'models': [{'name': 'ccfraudreplacement',\n",
       "      'version': '714efd19-5c83-42a8-aece-24b4ba530925',\n",
       "      'sha': 'bc85ce596945f876256f41515c7501c399fd97ebcb9ab3dd41bf03f8937b4507',\n",
       "      'status': 'Running'}]}}],\n",
       " 'engine_lbs': [{'ip': '10.244.2.154',\n",
       "   'name': 'engine-lb-55dcdff64c-9np9k',\n",
       "   'status': 'Running',\n",
       "   'reason': None,\n",
       "   'details': []}],\n",
       " 'sidekicks': []}"
      ]
     },
     "execution_count": 24,
     "metadata": {},
     "output_type": "execute_result"
    }
   ],
   "source": [
    "pipeline.status()"
   ]
  },
  {
   "attachments": {},
   "cell_type": "markdown",
   "metadata": {},
   "source": [
    "### Verify the Model\n",
    "\n",
    "The pipeline is deployed with our model.  The following will verify that the model is operating correctly.  The `high_fraud.json` file contains data that the model should process as a high likelihood of being a fraudulent transaction."
   ]
  },
  {
   "cell_type": "code",
   "execution_count": 16,
   "metadata": {},
   "outputs": [
    {
     "data": {
      "text/plain": [
       "[InferenceResult({'check_failures': [],\n",
       "  'elapsed': 123002,\n",
       "  'model_name': 'ccfraudoriginal',\n",
       "  'model_version': '3a03dc94-716e-46bb-84c8-91bc99ceb2c3',\n",
       "  'original_data': {'tensor': [[1.0678324729342086,\n",
       "                                18.155556397512136,\n",
       "                                -1.658955105843852,\n",
       "                                5.2111788045436445,\n",
       "                                2.345247064454334,\n",
       "                                10.467083577773014,\n",
       "                                5.0925820522419745,\n",
       "                                12.82951536371218,\n",
       "                                4.953677046849403,\n",
       "                                2.3934736228338225,\n",
       "                                23.912131817957253,\n",
       "                                1.7599568310350209,\n",
       "                                0.8561037518143335,\n",
       "                                1.1656456468728569,\n",
       "                                0.5395988813934498,\n",
       "                                0.7784221343010385,\n",
       "                                6.75806107274245,\n",
       "                                3.927411847659908,\n",
       "                                12.462178276650056,\n",
       "                                12.307538216518656,\n",
       "                                13.787951906620115,\n",
       "                                1.4588397511627804,\n",
       "                                3.681834686805714,\n",
       "                                1.753914366037974,\n",
       "                                8.484355003656184,\n",
       "                                14.6454097666836,\n",
       "                                26.852377436250144,\n",
       "                                2.716529237720336,\n",
       "                                3.061195706890285]]},\n",
       "  'outputs': [{'Float': {'data': [0.9811990261077881],\n",
       "                         'dim': [1, 1],\n",
       "                         'dtype': 'Float',\n",
       "                         'v': 1}}],\n",
       "  'pipeline_name': 'hotswappipeline',\n",
       "  'shadow_data': {},\n",
       "  'time': 1674060313971})]"
      ]
     },
     "execution_count": 16,
     "metadata": {},
     "output_type": "execute_result"
    }
   ],
   "source": [
    "pipeline.infer_from_file('./high_fraud.json')"
   ]
  },
  {
   "attachments": {},
   "cell_type": "markdown",
   "metadata": {},
   "source": [
    "### Replace the Model\n",
    "\n",
    "The pipeline is currently deployed and is able to handle inferences.  The model will now be replaced without having to undeploy the pipeline.  This is done using the pipeline method [`replace_with_model_step(index, model)`](https://docs.wallaroo.ai/wallaroo-developer-guides/wallaroo-sdk-guides/wallaroo-sdk-reference-guide/pipeline/#Pipeline.replace_with_model_step).  Steps start at `0`, so the method called below will replace step 0 in our pipeline with the replacement model.\n",
    "\n",
    "As an exercise, this deployment can be performed while inferences are actively being submitted to the pipeline to show how quickly the swap takes place."
   ]
  },
  {
   "cell_type": "code",
   "execution_count": 19,
   "metadata": {},
   "outputs": [
    {
     "data": {
      "text/html": [
       "<table><tr><th>name</th> <td>hotswappipeline</td></tr><tr><th>created</th> <td>2023-01-18 16:44:54.245465+00:00</td></tr><tr><th>last_updated</th> <td>2023-01-18 16:47:12.577511+00:00</td></tr><tr><th>deployed</th> <td>True</td></tr><tr><th>tags</th> <td></td></tr><tr><th>versions</th> <td>9ccee697-98e5-4635-8db6-6ff8e577a47e, ab55afb4-2473-466b-b6eb-594f1a5727c3, 9c993849-94d0-4f54-9fbe-9d62d2833cb3</td></tr><tr><th>steps</th> <td>ccfraudoriginal</td></tr></table>"
      ],
      "text/plain": [
       "{'name': 'hotswappipeline', 'create_time': datetime.datetime(2023, 1, 18, 16, 44, 54, 245465, tzinfo=tzutc()), 'definition': \"[{'ModelInference': {'models': [{'name': 'ccfraudreplacement', 'version': '714efd19-5c83-42a8-aece-24b4ba530925', 'sha': 'bc85ce596945f876256f41515c7501c399fd97ebcb9ab3dd41bf03f8937b4507'}]}}]\"}"
      ]
     },
     "execution_count": 19,
     "metadata": {},
     "output_type": "execute_result"
    }
   ],
   "source": [
    "pipeline.replace_with_model_step(0, replacement_model).deploy()"
   ]
  },
  {
   "attachments": {},
   "cell_type": "markdown",
   "metadata": {},
   "source": [
    "### Verify the Swap\n",
    "\n",
    "To verify the swap, we'll submit a set of inferences to the pipeline using the new model."
   ]
  },
  {
   "cell_type": "code",
   "execution_count": 20,
   "metadata": {},
   "outputs": [
    {
     "data": {
      "text/plain": [
       "[InferenceResult({'check_failures': [],\n",
       "  'elapsed': 121101,\n",
       "  'model_name': 'ccfraudreplacement',\n",
       "  'model_version': '3a03dc94-716e-46bb-84c8-91bc99ceb2c3',\n",
       "  'original_data': {'tensor': [[-1.060329750089797,\n",
       "                                2.354496709462385,\n",
       "                                -3.563878832646437,\n",
       "                                5.138734892618555,\n",
       "                                -1.23084570186641,\n",
       "                                -0.7687824607744093,\n",
       "                                -3.588122810891446,\n",
       "                                1.888083766259287,\n",
       "                                -3.2789674273886593,\n",
       "                                -3.956325455353324,\n",
       "                                4.099343911805088,\n",
       "                                -5.653917639476211,\n",
       "                                -0.8775733373342495,\n",
       "                                -9.131571191990632,\n",
       "                                -0.6093537872620682,\n",
       "                                -3.748027677256424,\n",
       "                                -5.030912501659983,\n",
       "                                -0.8748149525506821,\n",
       "                                1.9870535692026476,\n",
       "                                0.7005485718467245,\n",
       "                                0.9204422758154284,\n",
       "                                -0.10414918089758483,\n",
       "                                0.3229564351284999,\n",
       "                                -0.7418141656910608,\n",
       "                                0.03841201586730117,\n",
       "                                1.099343914614657,\n",
       "                                1.2603409755785089,\n",
       "                                -0.14662447391576958,\n",
       "                                -1.446321243938815],\n",
       "                               [-1.060329750089797,\n",
       "                                2.354496709462385,\n",
       "                                -3.563878832646437,\n",
       "                                5.138734892618555,\n",
       "                                -1.23084570186641,\n",
       "                                -0.7687824607744093,\n",
       "                                -3.588122810891446,\n",
       "                                1.888083766259287,\n",
       "                                -3.2789674273886593,\n",
       "                                -3.956325455353324,\n",
       "                                4.099343911805088,\n",
       "                                -5.653917639476211,\n",
       "                                -0.8775733373342495,\n",
       "                                -9.131571191990632,\n",
       "                                -0.6093537872620682,\n",
       "                                -3.748027677256424,\n",
       "                                -5.030912501659983,\n",
       "                                -0.8748149525506821,\n",
       "                                1.9870535692026476,\n",
       "                                0.7005485718467245,\n",
       "                                0.9204422758154284,\n",
       "                                -0.10414918089758483,\n",
       "                                0.3229564351284999,\n",
       "                                -0.7418141656910608,\n",
       "                                0.03841201586730117,\n",
       "                                1.099343914614657,\n",
       "                                1.2603409755785089,\n",
       "                                -0.14662447391576958,\n",
       "                                -1.446321243938815],\n",
       "                               [-1.060329750089797,\n",
       "                                2.354496709462385,\n",
       "                                -3.563878832646437,\n",
       "                                5.138734892618555,\n",
       "                                -1.23084570186641,\n",
       "                                -0.7687824607744093,\n",
       "                                -3.588122810891446,\n",
       "                                1.888083766259287,\n",
       "                                -3.2789674273886593,\n",
       "                                -3.956325455353324,\n",
       "                                4.099343911805088,\n",
       "                                -5.653917639476211,\n",
       "                                -0.8775733373342495,\n",
       "                                -9.131571191990632,\n",
       "                                -0.6093537872620682,\n",
       "                                -3.748027677256424,\n",
       "                                -5.030912501659983,\n",
       "                                -0.8748149525506821,\n",
       "                                1.9870535692026476,\n",
       "                                0.7005485718467245,\n",
       "                                0.9204422758154284,\n",
       "                                -0.10414918089758483,\n",
       "                                0.3229564351284999,\n",
       "                                -0.7418141656910608,\n",
       "                                0.03841201586730117,\n",
       "                                1.099343914614657,\n",
       "                                1.2603409755785089,\n",
       "                                -0.14662447391576958,\n",
       "                                -1.446321243938815],\n",
       "                               [-1.060329750089797,\n",
       "                                2.354496709462385,\n",
       "                                -3.563878832646437,\n",
       "                                5.138734892618555,\n",
       "                                -1.23084570186641,\n",
       "                                -0.7687824607744093,\n",
       "                                -3.588122810891446,\n",
       "                                1.888083766259287,\n",
       "                                -3.2789674273886593,\n",
       "                                -3.956325455353324,\n",
       "                                4.099343911805088,\n",
       "                                -5.653917639476211,\n",
       "                                -0.8775733373342495,\n",
       "                                -9.131571191990632,\n",
       "                                -0.6093537872620682,\n",
       "                                -3.748027677256424,\n",
       "                                -5.030912501659983,\n",
       "                                -0.8748149525506821,\n",
       "                                1.9870535692026476,\n",
       "                                0.7005485718467245,\n",
       "                                0.9204422758154284,\n",
       "                                -0.10414918089758483,\n",
       "                                0.3229564351284999,\n",
       "                                -0.7418141656910608,\n",
       "                                0.03841201586730117,\n",
       "                                1.099343914614657,\n",
       "                                1.2603409755785089,\n",
       "                                -0.14662447391576958,\n",
       "                                -1.446321243938815],\n",
       "                               [0.5817662107606553,\n",
       "                                0.0978815509566172,\n",
       "                                0.1546819423995403,\n",
       "                                0.475410194903404,\n",
       "                                -0.1978862305998003,\n",
       "                                -0.45043448542395703,\n",
       "                                0.016654044671806197,\n",
       "                                -0.025607055099995037,\n",
       "                                0.09205616023555586,\n",
       "                                -0.27839171528517387,\n",
       "                                0.059329944112281194,\n",
       "                                -0.019658541640589822,\n",
       "                                -0.4225083156745137,\n",
       "                                -0.12175388766841427,\n",
       "                                1.547309489412488,\n",
       "                                0.23916228635697,\n",
       "                                0.35539748808055915,\n",
       "                                -0.7685165300981693,\n",
       "                                -0.7000849354838512,\n",
       "                                -0.11900432852127547,\n",
       "                                -0.3450517133266211,\n",
       "                                -1.1065114107709193,\n",
       "                                0.2523411195349452,\n",
       "                                0.02094418256934876,\n",
       "                                0.2199267436399366,\n",
       "                                0.2540689265485751,\n",
       "                                -0.04502250942505252,\n",
       "                                0.1086773897916229,\n",
       "                                0.2547179311087416]]},\n",
       "  'outputs': [{'Float': {'data': [0.993003249168396,\n",
       "                                  0.993003249168396,\n",
       "                                  0.993003249168396,\n",
       "                                  0.993003249168396,\n",
       "                                  0.001091688871383667],\n",
       "                         'dim': [5, 1],\n",
       "                         'dtype': 'Float',\n",
       "                         'v': 1}}],\n",
       "  'pipeline_name': 'hotswappipeline',\n",
       "  'shadow_data': {},\n",
       "  'time': 1674060447520})]"
      ]
     },
     "execution_count": 20,
     "metadata": {},
     "output_type": "execute_result"
    }
   ],
   "source": [
    "pipeline.infer_from_file('./cc_data_5.json')"
   ]
  },
  {
   "attachments": {},
   "cell_type": "markdown",
   "metadata": {},
   "source": [
    "### Undeploy the Pipeline\n",
    "\n",
    "With the tutorial complete, the pipeline is undeployed to return the resources back to the Wallaroo instance."
   ]
  },
  {
   "cell_type": "code",
   "execution_count": 22,
   "metadata": {},
   "outputs": [
    {
     "data": {
      "text/html": [
       "<table><tr><th>name</th> <td>hotswappipeline</td></tr><tr><th>created</th> <td>2023-01-18 16:44:54.245465+00:00</td></tr><tr><th>last_updated</th> <td>2023-01-18 16:47:12.577511+00:00</td></tr><tr><th>deployed</th> <td>False</td></tr><tr><th>tags</th> <td></td></tr><tr><th>versions</th> <td>9ccee697-98e5-4635-8db6-6ff8e577a47e, ab55afb4-2473-466b-b6eb-594f1a5727c3, 9c993849-94d0-4f54-9fbe-9d62d2833cb3</td></tr><tr><th>steps</th> <td>ccfraudoriginal</td></tr></table>"
      ],
      "text/plain": [
       "{'name': 'hotswappipeline', 'create_time': datetime.datetime(2023, 1, 18, 16, 44, 54, 245465, tzinfo=tzutc()), 'definition': \"[{'ModelInference': {'models': [{'name': 'ccfraudreplacement', 'version': '714efd19-5c83-42a8-aece-24b4ba530925', 'sha': 'bc85ce596945f876256f41515c7501c399fd97ebcb9ab3dd41bf03f8937b4507'}]}}]\"}"
      ]
     },
     "execution_count": 22,
     "metadata": {},
     "output_type": "execute_result"
    }
   ],
   "source": [
    "pipeline.undeploy()"
   ]
  }
 ],
 "metadata": {
  "kernelspec": {
   "display_name": "wallaroosdk",
   "language": "python",
   "name": "python3"
  },
  "language_info": {
   "codemirror_mode": {
    "name": "ipython",
    "version": 3
   },
   "file_extension": ".py",
   "mimetype": "text/x-python",
   "name": "python",
   "nbconvert_exporter": "python",
   "pygments_lexer": "ipython3",
   "version": "3.8.15 (default, Nov 24 2022, 08:57:44) \n[Clang 14.0.6 ]"
  },
  "vscode": {
   "interpreter": {
    "hash": "e951b583e3fbbcadfc15df61f9ed97fb9a76f59b2130f2cdf4d0033aa05e7e64"
   }
  }
 },
 "nbformat": 4,
 "nbformat_minor": 4
}
