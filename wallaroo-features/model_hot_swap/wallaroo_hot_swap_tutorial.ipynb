{
 "cells": [
  {
   "attachments": {},
   "cell_type": "markdown",
   "metadata": {},
   "source": [
    "This tutorial and the assets can be downloaded as part of the [Wallaroo Tutorials repository](https://github.com/WallarooLabs/Wallaroo_Tutorials/tree/main/wallaroo-features/model_hot_swap).\n",
    "\n",
    "## Model Hot Swap Tutorial\n",
    "\n",
    "One of the biggest challenges facing organizations once they have a model trained is deploying the model:  Getting all of the resources together, MLOps configured and systems prepared to allow inferences to run.\n",
    "\n",
    "The next biggest challenge?  Replacing the model while keeping the existing production systems running.\n",
    "\n",
    "This tutorial demonstrates how Wallaroo model hot swap can update a pipeline step with a new model with one command.  This lets organizations keep their production systems running while changing a ML model, with the change taking only milliseconds, and any inference requests in that time are processed after the hot swap is completed.\n",
    "\n",
    "This example and sample data comes from the Machine Learning Group's demonstration on [Credit Card Fraud detection](https://www.kaggle.com/datasets/mlg-ulb/creditcardfraud).\n",
    "\n",
    "This tutorial provides the following:\n",
    "\n",
    "* Models:\n",
    "  * `rf_model.onnx`: The champion model that has been used in this environment for some time.\n",
    "  * `xgb_model.onnx` and `gbr_model.onnx`: Rival models that we will swap out from the champion model.\n",
    "* Data:\n",
    "  * xtest-1.df.json and xtest-1k.df.json:  DataFrame JSON inference inputs with 1 input and 1,000 inputs.\n",
    "  * xtest-1.arrow and xtest-1k.arrow:  Apache Arrow inference inputs with 1 input and 1,000 inputs.\n",
    "\n",
    "## Reference\n",
    "\n",
    "For more information about Wallaroo and related features, see the [Wallaroo Documentation Site](https://docs.wallaroo.ai).\n",
    "\n",
    "## Prerequisites\n",
    "\n",
    "* A deployed Wallaroo instance\n",
    "* The following Python libraries installed:\n",
    "  * `os`\n",
    "  * [`wallaroo`](https://pypi.org/project/wallaroo/): The Wallaroo SDK. Included with the Wallaroo JupyterHub service by default.\n",
    "  * [`pandas`](https://pypi.org/project/pandas/): Pandas, mainly used for Pandas DataFrame\n",
    "  * [`pyarrow`](https://pypi.org/project/pyarrow/): PyArrow for Apache Arrow support\n",
    "  * [`polars`](https://pypi.org/project/polars/): Polars for DataFrame with native Apache Arrow support"
   ]
  },
  {
   "attachments": {},
   "cell_type": "markdown",
   "metadata": {},
   "source": [
    "## Steps\n",
    "\n",
    "The following steps demonstrate the following:\n",
    "\n",
    "* Connect to a Wallaroo instance.\n",
    "* Create a workspace and pipeline.\n",
    "* Upload both models to the workspace.\n",
    "* Deploy the pipe with the `rf_model.onnx` model as a pipeline step.\n",
    "* Perform sample inferences.\n",
    "* Hot swap and replace the existing model with the `xgb_model.onnx` while keeping the pipeline deployed.\n",
    "* Conduct additional inferences to demonstrate the model hot swap was successful.\n",
    "* Hot swap again with gbr_model.onnx, and perform more sample inferences.\n",
    "* Undeploy the pipeline and return the resources back to the Wallaroo instance."
   ]
  },
  {
   "attachments": {},
   "cell_type": "markdown",
   "metadata": {},
   "source": [
    "### Load the Libraries\n",
    "\n",
    "Load the Python libraries used to connect and interact with the Wallaroo instance."
   ]
  },
  {
   "cell_type": "code",
   "execution_count": 1,
   "metadata": {},
   "outputs": [],
   "source": [
    "import wallaroo\n",
    "from wallaroo.object import EntityNotFoundError\n",
    "\n",
    "# to display dataframe tables\n",
    "from IPython.display import display\n",
    "# used to display dataframe information without truncating\n",
    "import pandas as pd\n",
    "pd.set_option('display.max_colwidth', None)\n",
    "import pyarrow as pa"
   ]
  },
  {
   "attachments": {},
   "cell_type": "markdown",
   "metadata": {},
   "source": [
    "### Connect to the Wallaroo Instance\n",
    "\n",
    "The first step is to connect to Wallaroo through the Wallaroo client.  The Python library is included in the Wallaroo install and available through the Jupyter Hub interface provided with your Wallaroo environment.\n",
    "\n",
    "This is accomplished using the `wallaroo.Client()` command, which provides a URL to grant the SDK permission to your specific Wallaroo environment.  When displayed, enter the URL into a browser and confirm permissions.  Store the connection into a variable that can be referenced later.\n",
    "\n",
<<<<<<< HEAD
<<<<<<< HEAD
<<<<<<< HEAD
    "If logging into the Wallaroo instance through the internal JupyterHub service, use `wl = wallaroo.Client()`.  For more information on Wallaroo Client settings, see the [Client Connection guide](https://docs.wallaroo.ai/wallaroo-developer-guides/wallaroo-sdk-guides/wallaroo-sdk-essentials-guide/wallaroo-sdk-essentials-client/)."
=======
    "If logging into the Wallaroo instance through the internal JupyterHub service, use `wl = wallaroo.Client()`.  If logging in externally, update the `wallarooPrefix` and `wallarooSuffix` variables with the proper DNS information.  For more information on Wallaroo DNS settings, see the [Wallaroo DNS Integration Guide](https://docs.wallaroo.ai/wallaroo-operations-guide/wallaroo-configuration/wallaroo-dns-guide/)."
>>>>>>> d5e9007 (removed polars and simplified login.)
=======
    "If logging into the Wallaroo instance through the internal JupyterHub service, use `wl = wallaroo.Client()`.  For more information on Wallaroo DNS settings, see the [Wallaroo DNS Integration Guide](https://docs.wallaroo.ai/wallaroo-operations-guide/wallaroo-configuration/wallaroo-dns-guide/)."
>>>>>>> 116b655 (updated and corrected prefix links.)
=======
    "If logging into the Wallaroo instance through the internal JupyterHub service, use `wl = wallaroo.Client()`.  For more information on Wallaroo Client settings, see the [Client Connection guide](https://docs.wallaroo.ai/wallaroo-developer-guides/wallaroo-sdk-guides/wallaroo-sdk-essentials-guide/wallaroo-sdk-essentials-client/)."
>>>>>>> 3087073 (updated prefix)
   ]
  },
  {
   "cell_type": "code",
   "execution_count": 2,
   "metadata": {},
   "outputs": [],
   "source": [
    "# Login through local Wallaroo instance\n",
    "\n",
    "wl = wallaroo.Client()"
   ]
  },
  {
   "attachments": {},
   "cell_type": "markdown",
   "metadata": {},
   "source": [
    "### Set the Variables\n",
    "\n",
    "The following variables are used in the later steps for creating the workspace, pipeline, and uploading the models.  Modify them according to your organization's requirements.\n",
    "\n",
    "Just for the sake of this tutorial, we'll use the SDK below to create our workspace , assign as our **current workspace**, then display all of the workspaces we have at the moment.  We'll also set up for our models and pipelines down the road, so we have one spot to change names to whatever fits your organization's standards best.\n",
    "\n",
    "To allow this tutorial to be run multiple times or by multiple users in the same Wallaroo instance, a random 4 character prefix will be added to the workspace, pipeline, and model."
   ]
  },
  {
   "cell_type": "code",
   "execution_count": 3,
   "metadata": {},
   "outputs": [],
   "source": [
    "import string\n",
    "import random\n",
    "\n",
    "# make a random 4 character prefix\n",
    "prefix= ''.join(random.choice(string.ascii_lowercase) for i in range(4))\n",
    "\n",
    "workspace_name = f'{prefix}hotswapworkspace'\n",
    "pipeline_name = f'{prefix}hotswappipeline'\n",
    "original_model_name = f'{prefix}housingmodelcontrol'\n",
    "original_model_file_name = './models/rf_model.onnx'\n",
    "replacement_model_name01 = f'{prefix}gbrhousingchallenger'\n",
    "replacement_model_file_name01 = './models/gbr_model.onnx'\n",
    "replacement_model_name02 = f'{prefix}xgbhousingchallenger'\n",
    "replacement_model_file_name02 = './models/xgb_model.onnx'\n"
   ]
  },
  {
   "cell_type": "code",
   "execution_count": 4,
   "metadata": {},
   "outputs": [],
   "source": [
    "def get_workspace(name):\n",
    "    workspace = None\n",
    "    for ws in wl.list_workspaces():\n",
    "        if ws.name() == name:\n",
    "            workspace= ws\n",
    "    if(workspace == None):\n",
    "        workspace = wl.create_workspace(name)\n",
    "    return workspace\n",
    "\n",
    "def get_pipeline(name):\n",
    "    try:\n",
    "        pipeline = wl.pipelines_by_name(name)[0]\n",
    "    except EntityNotFoundError:\n",
    "        pipeline = wl.build_pipeline(name)\n",
    "    return pipeline"
   ]
  },
  {
   "attachments": {},
   "cell_type": "markdown",
   "metadata": {},
   "source": [
    "### Create the Workspace\n",
    "\n",
    "We will create a workspace based on the variable names set above, and set the new workspace as the `current` workspace.  This workspace is where new pipelines will be created in and store uploaded models for this session.\n",
    "\n",
    "Once set, the pipeline will be created."
   ]
  },
  {
   "cell_type": "code",
   "execution_count": 5,
   "metadata": {},
   "outputs": [
    {
     "data": {
      "text/html": [
<<<<<<< HEAD
       "<table><tr><th>name</th> <td>hjfkhotswappipeline</td></tr><tr><th>created</th> <td>2023-07-14 15:36:48.697941+00:00</td></tr><tr><th>last_updated</th> <td>2023-07-14 15:36:48.697941+00:00</td></tr><tr><th>deployed</th> <td>(none)</td></tr><tr><th>tags</th> <td></td></tr><tr><th>versions</th> <td>2b84d42b-bda9-4cc8-b182-cb3856c2882b</td></tr><tr><th>steps</th> <td></td></tr></table>"
      ],
      "text/plain": [
       "{'name': 'hjfkhotswappipeline', 'create_time': datetime.datetime(2023, 7, 14, 15, 36, 48, 697941, tzinfo=tzutc()), 'definition': '[]'}"
=======
       "<table><tr><th>name</th> <td>btffhotswappipeline</td></tr><tr><th>created</th> <td>2023-05-17 21:37:16.033792+00:00</td></tr><tr><th>last_updated</th> <td>2023-05-17 21:37:16.033792+00:00</td></tr><tr><th>deployed</th> <td>(none)</td></tr><tr><th>tags</th> <td></td></tr><tr><th>versions</th> <td>3c5f951b-e815-4bc7-93bf-84de3d46718d</td></tr><tr><th>steps</th> <td></td></tr></table>"
      ],
      "text/plain": [
       "{'name': 'btffhotswappipeline', 'create_time': datetime.datetime(2023, 5, 17, 21, 37, 16, 33792, tzinfo=tzutc()), 'definition': '[]'}"
>>>>>>> 07b717a (pipeline logs and other updates/)
      ]
     },
     "execution_count": 5,
     "metadata": {},
     "output_type": "execute_result"
    }
   ],
   "source": [
    "workspace = get_workspace(workspace_name)\n",
    "\n",
    "wl.set_current_workspace(workspace)\n",
    "\n",
    "pipeline = get_pipeline(pipeline_name)\n",
    "pipeline"
   ]
  },
  {
   "attachments": {},
   "cell_type": "markdown",
   "metadata": {},
   "source": [
    "### Upload Models\n",
    "\n",
    "We can now upload both of the models.  In a later step, only one model will be added as a [pipeline step](https://docs.wallaroo.ai/wallaroo-developer-guides/wallaroo-sdk-guides/wallaroo-sdk-essentials-guide/wallaroo-sdk-essentials-pipeline/#add-a-step-to-a-pipeline), where the pipeline will submit inference requests to the pipeline."
   ]
  },
  {
   "cell_type": "code",
   "execution_count": 6,
   "metadata": {},
   "outputs": [],
   "source": [
    "original_model = wl.upload_model(original_model_name , original_model_file_name)\n",
    "replacement_model01 = wl.upload_model(replacement_model_name01 , replacement_model_file_name01)\n",
    "replacement_model02 = wl.upload_model(replacement_model_name02 , replacement_model_file_name02)"
   ]
  },
  {
   "cell_type": "code",
   "execution_count": 7,
   "metadata": {},
   "outputs": [
    {
     "data": {
      "text/html": [
       "\n",
       "          <table>\n",
       "            <tr>\n",
       "              <th>Name</th>\n",
       "              <th># of Versions</th>\n",
       "              <th>Owner ID</th>\n",
       "              <th>Last Updated</th>\n",
       "              <th>Created At</th>\n",
       "            </tr>\n",
       "            \n",
       "            <tr>\n",
<<<<<<< HEAD
       "              <td>hjfkxgbhousingchallenger</td>\n",
       "              <td>1</td>\n",
       "              <td>\"\"</td>\n",
       "              <td>2023-07-14 15:36:52.193971+00:00</td>\n",
       "              <td>2023-07-14 15:36:52.193971+00:00</td>\n",
       "            </tr>\n",
       "           \n",
       "            <tr>\n",
       "              <td>hjfkgbrhousingchallenger</td>\n",
       "              <td>1</td>\n",
       "              <td>\"\"</td>\n",
       "              <td>2023-07-14 15:36:51.451443+00:00</td>\n",
       "              <td>2023-07-14 15:36:51.451443+00:00</td>\n",
       "            </tr>\n",
       "           \n",
       "            <tr>\n",
       "              <td>hjfkhousingmodelcontrol</td>\n",
       "              <td>1</td>\n",
       "              <td>\"\"</td>\n",
       "              <td>2023-07-14 15:36:50.705124+00:00</td>\n",
       "              <td>2023-07-14 15:36:50.705124+00:00</td>\n",
=======
       "              <td>btffxgbhousingchallenger</td>\n",
       "              <td>1</td>\n",
       "              <td>\"\"</td>\n",
       "              <td>2023-05-17 21:37:19.054417+00:00</td>\n",
       "              <td>2023-05-17 21:37:19.054417+00:00</td>\n",
       "            </tr>\n",
       "           \n",
       "            <tr>\n",
       "              <td>btffgbrhousingchallenger</td>\n",
       "              <td>1</td>\n",
       "              <td>\"\"</td>\n",
       "              <td>2023-05-17 21:37:18.489996+00:00</td>\n",
       "              <td>2023-05-17 21:37:18.489996+00:00</td>\n",
       "            </tr>\n",
       "           \n",
       "            <tr>\n",
       "              <td>btffhousingmodelcontrol</td>\n",
       "              <td>1</td>\n",
       "              <td>\"\"</td>\n",
       "              <td>2023-05-17 21:37:17.825726+00:00</td>\n",
       "              <td>2023-05-17 21:37:17.825726+00:00</td>\n",
>>>>>>> 07b717a (pipeline logs and other updates/)
       "            </tr>\n",
       "          \n",
       "          </table>\n",
       "        "
      ],
      "text/plain": [
<<<<<<< HEAD
       "[{'name': 'hjfkxgbhousingchallenger', 'versions': 1, 'owner_id': '\"\"', 'last_update_time': datetime.datetime(2023, 7, 14, 15, 36, 52, 193971, tzinfo=tzutc()), 'created_at': datetime.datetime(2023, 7, 14, 15, 36, 52, 193971, tzinfo=tzutc())},\n",
       " {'name': 'hjfkgbrhousingchallenger', 'versions': 1, 'owner_id': '\"\"', 'last_update_time': datetime.datetime(2023, 7, 14, 15, 36, 51, 451443, tzinfo=tzutc()), 'created_at': datetime.datetime(2023, 7, 14, 15, 36, 51, 451443, tzinfo=tzutc())},\n",
       " {'name': 'hjfkhousingmodelcontrol', 'versions': 1, 'owner_id': '\"\"', 'last_update_time': datetime.datetime(2023, 7, 14, 15, 36, 50, 705124, tzinfo=tzutc()), 'created_at': datetime.datetime(2023, 7, 14, 15, 36, 50, 705124, tzinfo=tzutc())}]"
=======
       "[{'name': 'btffxgbhousingchallenger', 'versions': 1, 'owner_id': '\"\"', 'last_update_time': datetime.datetime(2023, 5, 17, 21, 37, 19, 54417, tzinfo=tzutc()), 'created_at': datetime.datetime(2023, 5, 17, 21, 37, 19, 54417, tzinfo=tzutc())},\n",
       " {'name': 'btffgbrhousingchallenger', 'versions': 1, 'owner_id': '\"\"', 'last_update_time': datetime.datetime(2023, 5, 17, 21, 37, 18, 489996, tzinfo=tzutc()), 'created_at': datetime.datetime(2023, 5, 17, 21, 37, 18, 489996, tzinfo=tzutc())},\n",
       " {'name': 'btffhousingmodelcontrol', 'versions': 1, 'owner_id': '\"\"', 'last_update_time': datetime.datetime(2023, 5, 17, 21, 37, 17, 825726, tzinfo=tzutc()), 'created_at': datetime.datetime(2023, 5, 17, 21, 37, 17, 825726, tzinfo=tzutc())}]"
>>>>>>> 07b717a (pipeline logs and other updates/)
      ]
     },
     "execution_count": 7,
     "metadata": {},
     "output_type": "execute_result"
    }
   ],
   "source": [
    "wl.list_models()"
   ]
  },
  {
   "attachments": {},
   "cell_type": "markdown",
   "metadata": {},
   "source": [
    "### Add Model to Pipeline Step\n",
    "\n",
    "With the models uploaded, we will add the original model as a pipeline step, then deploy the pipeline so it is available for performing inferences."
   ]
  },
  {
   "cell_type": "code",
   "execution_count": 8,
   "metadata": {},
   "outputs": [
    {
     "data": {
      "text/html": [
<<<<<<< HEAD
       "<table><tr><th>name</th> <td>hjfkhotswappipeline</td></tr><tr><th>created</th> <td>2023-07-14 15:36:48.697941+00:00</td></tr><tr><th>last_updated</th> <td>2023-07-14 15:36:48.697941+00:00</td></tr><tr><th>deployed</th> <td>(none)</td></tr><tr><th>tags</th> <td></td></tr><tr><th>versions</th> <td>2b84d42b-bda9-4cc8-b182-cb3856c2882b</td></tr><tr><th>steps</th> <td></td></tr></table>"
      ],
      "text/plain": [
       "{'name': 'hjfkhotswappipeline', 'create_time': datetime.datetime(2023, 7, 14, 15, 36, 48, 697941, tzinfo=tzutc()), 'definition': \"[{'ModelInference': {'models': [{'name': 'hjfkhousingmodelcontrol', 'version': '5c97c14e-b8f4-412c-b812-ec67ccc964b9', 'sha': 'e22a0831aafd9917f3cc87a15ed267797f80e2afa12ad7d8810ca58f173b8cc6'}]}}]\"}"
=======
       "<table><tr><th>name</th> <td>btffhotswappipeline</td></tr><tr><th>created</th> <td>2023-05-17 21:37:16.033792+00:00</td></tr><tr><th>last_updated</th> <td>2023-05-17 21:37:16.033792+00:00</td></tr><tr><th>deployed</th> <td>(none)</td></tr><tr><th>tags</th> <td></td></tr><tr><th>versions</th> <td>3c5f951b-e815-4bc7-93bf-84de3d46718d</td></tr><tr><th>steps</th> <td></td></tr></table>"
      ],
      "text/plain": [
       "{'name': 'btffhotswappipeline', 'create_time': datetime.datetime(2023, 5, 17, 21, 37, 16, 33792, tzinfo=tzutc()), 'definition': \"[{'ModelInference': {'models': [{'name': 'btffhousingmodelcontrol', 'version': 'e2f17763-fff5-4180-9b6b-f513102173da', 'sha': 'e22a0831aafd9917f3cc87a15ed267797f80e2afa12ad7d8810ca58f173b8cc6'}]}}]\"}"
>>>>>>> 07b717a (pipeline logs and other updates/)
      ]
     },
     "execution_count": 8,
     "metadata": {},
     "output_type": "execute_result"
    }
   ],
   "source": [
    "pipeline.add_model_step(original_model)\n",
    "pipeline"
   ]
  },
  {
   "cell_type": "code",
   "execution_count": 9,
   "metadata": {},
   "outputs": [
    {
     "data": {
      "text/html": [
<<<<<<< HEAD
       "<table><tr><th>name</th> <td>hjfkhotswappipeline</td></tr><tr><th>created</th> <td>2023-07-14 15:36:48.697941+00:00</td></tr><tr><th>last_updated</th> <td>2023-07-14 15:36:55.684558+00:00</td></tr><tr><th>deployed</th> <td>True</td></tr><tr><th>tags</th> <td></td></tr><tr><th>versions</th> <td>88c2fa3b-9d7e-494c-a84f-5786509b59f4, 2b84d42b-bda9-4cc8-b182-cb3856c2882b</td></tr><tr><th>steps</th> <td>hjfkhousingmodelcontrol</td></tr></table>"
      ],
      "text/plain": [
       "{'name': 'hjfkhotswappipeline', 'create_time': datetime.datetime(2023, 7, 14, 15, 36, 48, 697941, tzinfo=tzutc()), 'definition': \"[{'ModelInference': {'models': [{'name': 'hjfkhousingmodelcontrol', 'version': '5c97c14e-b8f4-412c-b812-ec67ccc964b9', 'sha': 'e22a0831aafd9917f3cc87a15ed267797f80e2afa12ad7d8810ca58f173b8cc6'}]}}]\"}"
=======
       "<table><tr><th>name</th> <td>btffhotswappipeline</td></tr><tr><th>created</th> <td>2023-05-17 21:37:16.033792+00:00</td></tr><tr><th>last_updated</th> <td>2023-05-17 21:37:21.972663+00:00</td></tr><tr><th>deployed</th> <td>True</td></tr><tr><th>tags</th> <td></td></tr><tr><th>versions</th> <td>e4b8d7ca-00fa-4e31-8671-3d0a3bf4c16e, 3c5f951b-e815-4bc7-93bf-84de3d46718d</td></tr><tr><th>steps</th> <td>btffhousingmodelcontrol</td></tr></table>"
      ],
      "text/plain": [
       "{'name': 'btffhotswappipeline', 'create_time': datetime.datetime(2023, 5, 17, 21, 37, 16, 33792, tzinfo=tzutc()), 'definition': \"[{'ModelInference': {'models': [{'name': 'btffhousingmodelcontrol', 'version': 'e2f17763-fff5-4180-9b6b-f513102173da', 'sha': 'e22a0831aafd9917f3cc87a15ed267797f80e2afa12ad7d8810ca58f173b8cc6'}]}}]\"}"
>>>>>>> 07b717a (pipeline logs and other updates/)
      ]
     },
     "execution_count": 9,
     "metadata": {},
     "output_type": "execute_result"
    }
   ],
   "source": [
    "pipeline.deploy()"
   ]
  },
  {
   "cell_type": "code",
   "execution_count": 10,
   "metadata": {},
   "outputs": [
    {
     "data": {
      "text/plain": [
       "{'status': 'Running',\n",
       " 'details': [],\n",
<<<<<<< HEAD
       " 'engines': [{'ip': '10.244.3.143',\n",
       "   'name': 'engine-96ddf456f-nlxtl',\n",
       "   'status': 'Running',\n",
       "   'reason': None,\n",
       "   'details': [],\n",
       "   'pipeline_statuses': {'pipelines': [{'id': 'hjfkhotswappipeline',\n",
       "      'status': 'Running'}]},\n",
       "   'model_statuses': {'models': [{'name': 'hjfkhousingmodelcontrol',\n",
       "      'version': '5c97c14e-b8f4-412c-b812-ec67ccc964b9',\n",
       "      'sha': 'e22a0831aafd9917f3cc87a15ed267797f80e2afa12ad7d8810ca58f173b8cc6',\n",
       "      'status': 'Running'}]}}],\n",
       " 'engine_lbs': [{'ip': '10.244.4.189',\n",
       "   'name': 'engine-lb-584f54c899-fz26k',\n",
=======
       " 'engines': [{'ip': '10.244.3.146',\n",
       "   'name': 'engine-67df6b7596-6jltl',\n",
       "   'status': 'Running',\n",
       "   'reason': None,\n",
       "   'details': [],\n",
       "   'pipeline_statuses': {'pipelines': [{'id': 'btffhotswappipeline',\n",
       "      'status': 'Running'}]},\n",
       "   'model_statuses': {'models': [{'name': 'btffhousingmodelcontrol',\n",
       "      'version': 'e2f17763-fff5-4180-9b6b-f513102173da',\n",
       "      'sha': 'e22a0831aafd9917f3cc87a15ed267797f80e2afa12ad7d8810ca58f173b8cc6',\n",
       "      'status': 'Running'}]}}],\n",
       " 'engine_lbs': [{'ip': '10.244.4.178',\n",
       "   'name': 'engine-lb-584f54c899-kgd8k',\n",
>>>>>>> 07b717a (pipeline logs and other updates/)
       "   'status': 'Running',\n",
       "   'reason': None,\n",
       "   'details': []}],\n",
       " 'sidekicks': []}"
      ]
     },
     "execution_count": 10,
     "metadata": {},
     "output_type": "execute_result"
    }
   ],
   "source": [
    "pipeline.status()"
   ]
  },
  {
   "attachments": {},
   "cell_type": "markdown",
   "metadata": {},
   "source": [
    "### Verify the Model\n",
    "\n",
    "The pipeline is deployed with our model.  The following will verify that the model is operating correctly.  The `high_fraud.json` file contains data that the model should process as a high likelihood of being a fraudulent transaction."
   ]
  },
  {
   "cell_type": "code",
   "execution_count": 11,
   "metadata": {},
   "outputs": [
    {
     "data": {
      "text/html": [
       "<div>\n",
       "<style scoped>\n",
       "    .dataframe tbody tr th:only-of-type {\n",
       "        vertical-align: middle;\n",
       "    }\n",
       "\n",
       "    .dataframe tbody tr th {\n",
       "        vertical-align: top;\n",
       "    }\n",
       "\n",
       "    .dataframe thead th {\n",
       "        text-align: right;\n",
       "    }\n",
       "</style>\n",
       "<table border=\"1\" class=\"dataframe\">\n",
       "  <thead>\n",
       "    <tr style=\"text-align: right;\">\n",
       "      <th></th>\n",
       "      <th>time</th>\n",
       "      <th>in.tensor</th>\n",
       "      <th>out.variable</th>\n",
       "      <th>check_failures</th>\n",
       "    </tr>\n",
       "  </thead>\n",
       "  <tbody>\n",
       "    <tr>\n",
       "      <th>0</th>\n",
<<<<<<< HEAD
       "      <td>2023-07-14 15:37:09.422</td>\n",
=======
       "      <td>2023-05-17 21:37:33.700</td>\n",
>>>>>>> 07b717a (pipeline logs and other updates/)
       "      <td>[4.0, 2.5, 2900.0, 5505.0, 2.0, 0.0, 0.0, 3.0, 8.0, 2900.0, 0.0, 47.6063, -122.02, 2970.0, 5251.0, 12.0, 0.0, 0.0]</td>\n",
       "      <td>[718013.7]</td>\n",
       "      <td>0</td>\n",
       "    </tr>\n",
       "  </tbody>\n",
       "</table>\n",
       "</div>"
      ],
      "text/plain": [
       "                     time  \\\n",
<<<<<<< HEAD
       "0 2023-07-14 15:37:09.422   \n",
=======
       "0 2023-05-17 21:37:33.700   \n",
>>>>>>> 07b717a (pipeline logs and other updates/)
       "\n",
       "                                                                                                            in.tensor  \\\n",
       "0  [4.0, 2.5, 2900.0, 5505.0, 2.0, 0.0, 0.0, 3.0, 8.0, 2900.0, 0.0, 47.6063, -122.02, 2970.0, 5251.0, 12.0, 0.0, 0.0]   \n",
       "\n",
       "  out.variable  check_failures  \n",
       "0   [718013.7]               0  "
      ]
     },
     "metadata": {},
     "output_type": "display_data"
    }
   ],
   "source": [
    "normal_input = pd.DataFrame.from_records({\"tensor\": [[4.0, 2.5, 2900.0, 5505.0, 2.0, 0.0, 0.0, 3.0, 8.0, 2900.0, 0.0, 47.6063, -122.02, 2970.0, 5251.0, 12.0, 0.0, 0.0]]})\n",
    "result = pipeline.infer(normal_input)\n",
    "display(result)"
   ]
  },
  {
   "cell_type": "code",
   "execution_count": 12,
   "metadata": {},
   "outputs": [
    {
     "data": {
      "text/html": [
       "<div>\n",
       "<style scoped>\n",
       "    .dataframe tbody tr th:only-of-type {\n",
       "        vertical-align: middle;\n",
       "    }\n",
       "\n",
       "    .dataframe tbody tr th {\n",
       "        vertical-align: top;\n",
       "    }\n",
       "\n",
       "    .dataframe thead th {\n",
       "        text-align: right;\n",
       "    }\n",
       "</style>\n",
       "<table border=\"1\" class=\"dataframe\">\n",
       "  <thead>\n",
       "    <tr style=\"text-align: right;\">\n",
       "      <th></th>\n",
       "      <th>time</th>\n",
       "      <th>in.tensor</th>\n",
       "      <th>out.variable</th>\n",
       "      <th>check_failures</th>\n",
       "    </tr>\n",
       "  </thead>\n",
       "  <tbody>\n",
       "    <tr>\n",
       "      <th>0</th>\n",
<<<<<<< HEAD
       "      <td>2023-07-14 15:37:09.871</td>\n",
=======
       "      <td>2023-05-17 21:37:34.107</td>\n",
>>>>>>> 07b717a (pipeline logs and other updates/)
       "      <td>[4.0, 3.0, 3710.0, 20000.0, 2.0, 0.0, 2.0, 5.0, 10.0, 2760.0, 950.0, 47.6696, -122.261, 3970.0, 20000.0, 79.0, 0.0, 0.0]</td>\n",
       "      <td>[1514079.4]</td>\n",
       "      <td>0</td>\n",
       "    </tr>\n",
       "  </tbody>\n",
       "</table>\n",
       "</div>"
      ],
      "text/plain": [
       "                     time  \\\n",
<<<<<<< HEAD
       "0 2023-07-14 15:37:09.871   \n",
=======
       "0 2023-05-17 21:37:34.107   \n",
>>>>>>> 07b717a (pipeline logs and other updates/)
       "\n",
       "                                                                                                                  in.tensor  \\\n",
       "0  [4.0, 3.0, 3710.0, 20000.0, 2.0, 0.0, 2.0, 5.0, 10.0, 2760.0, 950.0, 47.6696, -122.261, 3970.0, 20000.0, 79.0, 0.0, 0.0]   \n",
       "\n",
       "  out.variable  check_failures  \n",
       "0  [1514079.4]               0  "
      ]
     },
     "metadata": {},
     "output_type": "display_data"
    }
   ],
   "source": [
    "large_house_input = pd.DataFrame.from_records({'tensor': [[4.0, 3.0, 3710.0, 20000.0, 2.0, 0.0, 2.0, 5.0, 10.0, 2760.0, 950.0, 47.6696, -122.261, 3970.0, 20000.0, 79.0, 0.0, 0.0]]})\n",
    "large_house_result = pipeline.infer(large_house_input)\n",
    "display(large_house_result)"
   ]
  },
  {
   "attachments": {},
   "cell_type": "markdown",
   "metadata": {},
   "source": [
    "### Replace the Model\n",
    "\n",
    "The pipeline is currently deployed and is able to handle inferences.  The model will now be replaced without having to undeploy the pipeline.  This is done using the pipeline method [`replace_with_model_step(index, model)`](https://docs.wallaroo.ai/wallaroo-developer-guides/wallaroo-sdk-guides/wallaroo-sdk-reference-guide/pipeline/#Pipeline.replace_with_model_step).  Steps start at `0`, so the method called below will replace step 0 in our pipeline with the replacement model.\n",
    "\n",
    "As an exercise, this deployment can be performed while inferences are actively being submitted to the pipeline to show how quickly the swap takes place."
   ]
  },
  {
   "cell_type": "code",
<<<<<<< HEAD
   "execution_count": null,
   "metadata": {},
   "outputs": [],
=======
   "execution_count": 13,
   "metadata": {},
   "outputs": [
    {
     "data": {
      "text/html": [
       "<table><tr><th>name</th> <td>btffhotswappipeline</td></tr><tr><th>created</th> <td>2023-05-17 21:37:16.033792+00:00</td></tr><tr><th>last_updated</th> <td>2023-05-17 21:37:35.040199+00:00</td></tr><tr><th>deployed</th> <td>True</td></tr><tr><th>tags</th> <td></td></tr><tr><th>versions</th> <td>4fc11650-1003-43c2-bd3a-96b9cdacbb6d, e4b8d7ca-00fa-4e31-8671-3d0a3bf4c16e, 3c5f951b-e815-4bc7-93bf-84de3d46718d</td></tr><tr><th>steps</th> <td>btffhousingmodelcontrol</td></tr></table>"
      ],
      "text/plain": [
       "{'name': 'btffhotswappipeline', 'create_time': datetime.datetime(2023, 5, 17, 21, 37, 16, 33792, tzinfo=tzutc()), 'definition': \"[{'ModelInference': {'models': [{'name': 'btffgbrhousingchallenger', 'version': 'e1124a31-c1df-40b4-9211-abe1f6fb90f2', 'sha': 'ed6065a79d841f7e96307bb20d5ef22840f15da0b587efb51425c7ad60589d6a'}]}}]\"}"
      ]
     },
     "execution_count": 13,
     "metadata": {},
     "output_type": "execute_result"
    }
   ],
>>>>>>> 07b717a (pipeline logs and other updates/)
   "source": [
    "pipeline.replace_with_model_step(0, replacement_model01).deploy()"
   ]
  },
  {
   "attachments": {},
   "cell_type": "markdown",
   "metadata": {},
   "source": [
    "### Verify the Swap\n",
    "\n",
    "To verify the swap, we'll submit the same inferences and display the result.  Note that `out.variable` has a different output than with the original model."
   ]
  },
  {
   "cell_type": "code",
   "execution_count": 14,
   "metadata": {},
   "outputs": [
    {
     "data": {
      "text/html": [
       "<div>\n",
       "<style scoped>\n",
       "    .dataframe tbody tr th:only-of-type {\n",
       "        vertical-align: middle;\n",
       "    }\n",
       "\n",
       "    .dataframe tbody tr th {\n",
       "        vertical-align: top;\n",
       "    }\n",
       "\n",
       "    .dataframe thead th {\n",
       "        text-align: right;\n",
       "    }\n",
       "</style>\n",
       "<table border=\"1\" class=\"dataframe\">\n",
       "  <thead>\n",
       "    <tr style=\"text-align: right;\">\n",
       "      <th></th>\n",
       "      <th>time</th>\n",
       "      <th>in.tensor</th>\n",
       "      <th>out.variable</th>\n",
       "      <th>check_failures</th>\n",
       "    </tr>\n",
       "  </thead>\n",
       "  <tbody>\n",
       "    <tr>\n",
       "      <th>0</th>\n",
<<<<<<< HEAD
       "      <td>2023-07-14 15:37:25.853</td>\n",
=======
       "      <td>2023-05-17 21:37:38.375</td>\n",
>>>>>>> 07b717a (pipeline logs and other updates/)
       "      <td>[4.0, 2.5, 2900.0, 5505.0, 2.0, 0.0, 0.0, 3.0, 8.0, 2900.0, 0.0, 47.6063, -122.02, 2970.0, 5251.0, 12.0, 0.0, 0.0]</td>\n",
       "      <td>[704901.9]</td>\n",
       "      <td>0</td>\n",
       "    </tr>\n",
       "  </tbody>\n",
       "</table>\n",
       "</div>"
      ],
      "text/plain": [
       "                     time  \\\n",
<<<<<<< HEAD
       "0 2023-07-14 15:37:25.853   \n",
=======
       "0 2023-05-17 21:37:38.375   \n",
>>>>>>> 07b717a (pipeline logs and other updates/)
       "\n",
       "                                                                                                            in.tensor  \\\n",
       "0  [4.0, 2.5, 2900.0, 5505.0, 2.0, 0.0, 0.0, 3.0, 8.0, 2900.0, 0.0, 47.6063, -122.02, 2970.0, 5251.0, 12.0, 0.0, 0.0]   \n",
       "\n",
       "  out.variable  check_failures  \n",
       "0   [704901.9]               0  "
      ]
     },
     "metadata": {},
     "output_type": "display_data"
    }
   ],
   "source": [
    "normal_input = pd.DataFrame.from_records({\"tensor\": [[4.0, 2.5, 2900.0, 5505.0, 2.0, 0.0, 0.0, 3.0, 8.0, 2900.0, 0.0, 47.6063, -122.02, 2970.0, 5251.0, 12.0, 0.0, 0.0]]})\n",
    "result02 = pipeline.infer(normal_input)\n",
    "display(result02)"
   ]
  },
  {
   "cell_type": "code",
   "execution_count": 15,
   "metadata": {},
   "outputs": [
    {
     "data": {
      "text/html": [
       "<div>\n",
       "<style scoped>\n",
       "    .dataframe tbody tr th:only-of-type {\n",
       "        vertical-align: middle;\n",
       "    }\n",
       "\n",
       "    .dataframe tbody tr th {\n",
       "        vertical-align: top;\n",
       "    }\n",
       "\n",
       "    .dataframe thead th {\n",
       "        text-align: right;\n",
       "    }\n",
       "</style>\n",
       "<table border=\"1\" class=\"dataframe\">\n",
       "  <thead>\n",
       "    <tr style=\"text-align: right;\">\n",
       "      <th></th>\n",
       "      <th>time</th>\n",
       "      <th>in.tensor</th>\n",
       "      <th>out.variable</th>\n",
       "      <th>check_failures</th>\n",
       "    </tr>\n",
       "  </thead>\n",
       "  <tbody>\n",
       "    <tr>\n",
       "      <th>0</th>\n",
<<<<<<< HEAD
       "      <td>2023-07-14 15:37:26.255</td>\n",
=======
       "      <td>2023-05-17 21:37:38.820</td>\n",
>>>>>>> 07b717a (pipeline logs and other updates/)
       "      <td>[4.0, 3.0, 3710.0, 20000.0, 2.0, 0.0, 2.0, 5.0, 10.0, 2760.0, 950.0, 47.6696, -122.261, 3970.0, 20000.0, 79.0, 0.0, 0.0]</td>\n",
       "      <td>[1981238.0]</td>\n",
       "      <td>0</td>\n",
       "    </tr>\n",
       "  </tbody>\n",
       "</table>\n",
       "</div>"
      ],
      "text/plain": [
       "                     time  \\\n",
<<<<<<< HEAD
       "0 2023-07-14 15:37:26.255   \n",
=======
       "0 2023-05-17 21:37:38.820   \n",
>>>>>>> 07b717a (pipeline logs and other updates/)
       "\n",
       "                                                                                                                  in.tensor  \\\n",
       "0  [4.0, 3.0, 3710.0, 20000.0, 2.0, 0.0, 2.0, 5.0, 10.0, 2760.0, 950.0, 47.6696, -122.261, 3970.0, 20000.0, 79.0, 0.0, 0.0]   \n",
       "\n",
       "  out.variable  check_failures  \n",
       "0  [1981238.0]               0  "
      ]
     },
     "metadata": {},
     "output_type": "display_data"
    }
   ],
   "source": [
    "large_house_input = pd.DataFrame.from_records({'tensor': [[4.0, 3.0, 3710.0, 20000.0, 2.0, 0.0, 2.0, 5.0, 10.0, 2760.0, 950.0, 47.6696, -122.261, 3970.0, 20000.0, 79.0, 0.0, 0.0]]})\n",
    "large_house_result02 = pipeline.infer(large_house_input)\n",
    "display(large_house_result02)"
   ]
  },
  {
   "attachments": {},
   "cell_type": "markdown",
   "metadata": {},
   "source": [
    "### Replace the Model Again\n",
    "\n",
    "Let's do one more hot swap, this time with our `replacement_model02`, then get some test inferences."
   ]
  },
  {
   "cell_type": "code",
   "execution_count": 16,
   "metadata": {},
   "outputs": [
    {
     "data": {
      "text/html": [
<<<<<<< HEAD
       "<table><tr><th>name</th> <td>hjfkhotswappipeline</td></tr><tr><th>created</th> <td>2023-07-14 15:36:48.697941+00:00</td></tr><tr><th>last_updated</th> <td>2023-07-14 15:37:27.279807+00:00</td></tr><tr><th>deployed</th> <td>True</td></tr><tr><th>tags</th> <td></td></tr><tr><th>versions</th> <td>9126c35d-68db-4b41-915e-14ebef5b1b51, 5c643e10-c9bf-48db-ad25-a5e38b6faf5f, 88c2fa3b-9d7e-494c-a84f-5786509b59f4, 2b84d42b-bda9-4cc8-b182-cb3856c2882b</td></tr><tr><th>steps</th> <td>hjfkhousingmodelcontrol</td></tr></table>"
      ],
      "text/plain": [
       "{'name': 'hjfkhotswappipeline', 'create_time': datetime.datetime(2023, 7, 14, 15, 36, 48, 697941, tzinfo=tzutc()), 'definition': \"[{'ModelInference': {'models': [{'name': 'hjfkxgbhousingchallenger', 'version': 'd0878a14-e526-4e6d-984c-373578f88d72', 'sha': '31e92d6ccb27b041a324a7ac22cf95d9d6cc3aa7e8263a229f7c4aec4938657c'}]}}]\"}"
=======
       "<table><tr><th>name</th> <td>btffhotswappipeline</td></tr><tr><th>created</th> <td>2023-05-17 21:37:16.033792+00:00</td></tr><tr><th>last_updated</th> <td>2023-05-17 21:37:39.738867+00:00</td></tr><tr><th>deployed</th> <td>True</td></tr><tr><th>tags</th> <td></td></tr><tr><th>versions</th> <td>438796a3-e320-4a51-9e64-35eb32d57b49, 4fc11650-1003-43c2-bd3a-96b9cdacbb6d, e4b8d7ca-00fa-4e31-8671-3d0a3bf4c16e, 3c5f951b-e815-4bc7-93bf-84de3d46718d</td></tr><tr><th>steps</th> <td>btffhousingmodelcontrol</td></tr></table>"
      ],
      "text/plain": [
       "{'name': 'btffhotswappipeline', 'create_time': datetime.datetime(2023, 5, 17, 21, 37, 16, 33792, tzinfo=tzutc()), 'definition': \"[{'ModelInference': {'models': [{'name': 'btffxgbhousingchallenger', 'version': '1d807bb8-e190-41a6-8253-d1706267d225', 'sha': '31e92d6ccb27b041a324a7ac22cf95d9d6cc3aa7e8263a229f7c4aec4938657c'}]}}]\"}"
>>>>>>> 07b717a (pipeline logs and other updates/)
      ]
     },
     "execution_count": 16,
     "metadata": {},
     "output_type": "execute_result"
    }
   ],
   "source": [
    "pipeline.replace_with_model_step(0, replacement_model02).deploy()"
   ]
  },
  {
   "cell_type": "code",
   "execution_count": 17,
   "metadata": {},
   "outputs": [
    {
     "data": {
      "text/html": [
       "<div>\n",
       "<style scoped>\n",
       "    .dataframe tbody tr th:only-of-type {\n",
       "        vertical-align: middle;\n",
       "    }\n",
       "\n",
       "    .dataframe tbody tr th {\n",
       "        vertical-align: top;\n",
       "    }\n",
       "\n",
       "    .dataframe thead th {\n",
       "        text-align: right;\n",
       "    }\n",
       "</style>\n",
       "<table border=\"1\" class=\"dataframe\">\n",
       "  <thead>\n",
       "    <tr style=\"text-align: right;\">\n",
       "      <th></th>\n",
       "      <th>time</th>\n",
       "      <th>in.tensor</th>\n",
       "      <th>out.variable</th>\n",
       "      <th>check_failures</th>\n",
       "    </tr>\n",
       "  </thead>\n",
       "  <tbody>\n",
       "    <tr>\n",
       "      <th>0</th>\n",
<<<<<<< HEAD
       "      <td>2023-07-14 15:37:31.114</td>\n",
=======
       "      <td>2023-05-17 21:37:43.235</td>\n",
>>>>>>> 07b717a (pipeline logs and other updates/)
       "      <td>[4.0, 2.5, 2900.0, 5505.0, 2.0, 0.0, 0.0, 3.0, 8.0, 2900.0, 0.0, 47.6063, -122.02, 2970.0, 5251.0, 12.0, 0.0, 0.0]</td>\n",
       "      <td>[659806.0]</td>\n",
       "      <td>0</td>\n",
       "    </tr>\n",
       "  </tbody>\n",
       "</table>\n",
       "</div>"
      ],
      "text/plain": [
       "                     time  \\\n",
<<<<<<< HEAD
       "0 2023-07-14 15:37:31.114   \n",
=======
       "0 2023-05-17 21:37:43.235   \n",
>>>>>>> 07b717a (pipeline logs and other updates/)
       "\n",
       "                                                                                                            in.tensor  \\\n",
       "0  [4.0, 2.5, 2900.0, 5505.0, 2.0, 0.0, 0.0, 3.0, 8.0, 2900.0, 0.0, 47.6063, -122.02, 2970.0, 5251.0, 12.0, 0.0, 0.0]   \n",
       "\n",
       "  out.variable  check_failures  \n",
       "0   [659806.0]               0  "
      ]
     },
     "metadata": {},
     "output_type": "display_data"
    }
   ],
   "source": [
    "normal_input = pd.DataFrame.from_records({\"tensor\": [[4.0, 2.5, 2900.0, 5505.0, 2.0, 0.0, 0.0, 3.0, 8.0, 2900.0, 0.0, 47.6063, -122.02, 2970.0, 5251.0, 12.0, 0.0, 0.0]]})\n",
    "result03 = pipeline.infer(normal_input)\n",
    "display(result03)"
   ]
  },
  {
   "cell_type": "code",
   "execution_count": 18,
   "metadata": {},
   "outputs": [
    {
     "data": {
      "text/html": [
       "<div>\n",
       "<style scoped>\n",
       "    .dataframe tbody tr th:only-of-type {\n",
       "        vertical-align: middle;\n",
       "    }\n",
       "\n",
       "    .dataframe tbody tr th {\n",
       "        vertical-align: top;\n",
       "    }\n",
       "\n",
       "    .dataframe thead th {\n",
       "        text-align: right;\n",
       "    }\n",
       "</style>\n",
       "<table border=\"1\" class=\"dataframe\">\n",
       "  <thead>\n",
       "    <tr style=\"text-align: right;\">\n",
       "      <th></th>\n",
       "      <th>time</th>\n",
       "      <th>in.tensor</th>\n",
       "      <th>out.variable</th>\n",
       "      <th>check_failures</th>\n",
       "    </tr>\n",
       "  </thead>\n",
       "  <tbody>\n",
       "    <tr>\n",
       "      <th>0</th>\n",
<<<<<<< HEAD
       "      <td>2023-07-14 15:37:31.514</td>\n",
=======
       "      <td>2023-05-17 21:37:43.613</td>\n",
>>>>>>> 07b717a (pipeline logs and other updates/)
       "      <td>[4.0, 3.0, 3710.0, 20000.0, 2.0, 0.0, 2.0, 5.0, 10.0, 2760.0, 950.0, 47.6696, -122.261, 3970.0, 20000.0, 79.0, 0.0, 0.0]</td>\n",
       "      <td>[2176827.0]</td>\n",
       "      <td>0</td>\n",
       "    </tr>\n",
       "  </tbody>\n",
       "</table>\n",
       "</div>"
      ],
      "text/plain": [
       "                     time  \\\n",
<<<<<<< HEAD
       "0 2023-07-14 15:37:31.514   \n",
=======
       "0 2023-05-17 21:37:43.613   \n",
>>>>>>> 07b717a (pipeline logs and other updates/)
       "\n",
       "                                                                                                                  in.tensor  \\\n",
       "0  [4.0, 3.0, 3710.0, 20000.0, 2.0, 0.0, 2.0, 5.0, 10.0, 2760.0, 950.0, 47.6696, -122.261, 3970.0, 20000.0, 79.0, 0.0, 0.0]   \n",
       "\n",
       "  out.variable  check_failures  \n",
       "0  [2176827.0]               0  "
      ]
     },
     "metadata": {},
     "output_type": "display_data"
    }
   ],
   "source": [
    "large_house_input = pd.DataFrame.from_records({'tensor': [[4.0, 3.0, 3710.0, 20000.0, 2.0, 0.0, 2.0, 5.0, 10.0, 2760.0, 950.0, 47.6696, -122.261, 3970.0, 20000.0, 79.0, 0.0, 0.0]]})\n",
    "large_house_result03 = pipeline.infer(large_house_input)\n",
    "display(large_house_result03)"
   ]
  },
  {
   "attachments": {},
   "cell_type": "markdown",
   "metadata": {},
   "source": [
    "### Compare Outputs\n",
    "\n",
    "We'll display the outputs of our inferences through the different models for comparison."
   ]
  },
  {
   "cell_type": "code",
   "execution_count": 19,
   "metadata": {},
   "outputs": [
    {
     "data": {
      "text/plain": [
<<<<<<< HEAD
       "['hjfkhousingmodelcontrol', [718013.7]]"
=======
       "['btffhousingmodelcontrol', [718013.7]]"
>>>>>>> 07b717a (pipeline logs and other updates/)
      ]
     },
     "metadata": {},
     "output_type": "display_data"
    },
    {
     "data": {
      "text/plain": [
<<<<<<< HEAD
       "['hjfkgbrhousingchallenger', [704901.9]]"
=======
       "['btffgbrhousingchallenger', [704901.9]]"
>>>>>>> 07b717a (pipeline logs and other updates/)
      ]
     },
     "metadata": {},
     "output_type": "display_data"
    },
    {
     "data": {
      "text/plain": [
<<<<<<< HEAD
       "['hjfkxgbhousingchallenger', [659806.0]]"
=======
       "['btffxgbhousingchallenger', [659806.0]]"
>>>>>>> 07b717a (pipeline logs and other updates/)
      ]
     },
     "metadata": {},
     "output_type": "display_data"
    }
   ],
   "source": [
    "display([original_model_name, result.loc[0, \"out.variable\"]])\n",
    "display([replacement_model_name01, result02.loc[0, \"out.variable\"]])\n",
    "display([replacement_model_name02, result03.loc[0, \"out.variable\"]])"
   ]
  },
  {
   "cell_type": "code",
   "execution_count": 20,
   "metadata": {},
   "outputs": [
    {
     "data": {
      "text/plain": [
<<<<<<< HEAD
       "['hjfkhousingmodelcontrol', [1514079.4]]"
=======
       "['btffhousingmodelcontrol', [1514079.4]]"
>>>>>>> 07b717a (pipeline logs and other updates/)
      ]
     },
     "metadata": {},
     "output_type": "display_data"
    },
    {
     "data": {
      "text/plain": [
<<<<<<< HEAD
       "['hjfkgbrhousingchallenger', [1981238.0]]"
=======
       "['btffgbrhousingchallenger', [1981238.0]]"
>>>>>>> 07b717a (pipeline logs and other updates/)
      ]
     },
     "metadata": {},
     "output_type": "display_data"
    },
    {
     "data": {
      "text/plain": [
<<<<<<< HEAD
       "['hjfkxgbhousingchallenger', [2176827.0]]"
=======
       "['btffxgbhousingchallenger', [2176827.0]]"
>>>>>>> 07b717a (pipeline logs and other updates/)
      ]
     },
     "metadata": {},
     "output_type": "display_data"
    }
   ],
   "source": [
    "display([original_model_name, large_house_result.loc[0, \"out.variable\"]])\n",
    "display([replacement_model_name01, large_house_result02.loc[0, \"out.variable\"]])\n",
    "display([replacement_model_name02, large_house_result03.loc[0, \"out.variable\"]])"
   ]
  },
  {
   "attachments": {},
   "cell_type": "markdown",
   "metadata": {},
   "source": [
    "### Undeploy the Pipeline\n",
    "\n",
    "With the tutorial complete, the pipeline is undeployed to return the resources back to the Wallaroo instance."
   ]
  },
  {
   "cell_type": "code",
   "execution_count": 21,
   "metadata": {},
   "outputs": [
    {
     "data": {
      "text/html": [
<<<<<<< HEAD
       "<table><tr><th>name</th> <td>hjfkhotswappipeline</td></tr><tr><th>created</th> <td>2023-07-14 15:36:48.697941+00:00</td></tr><tr><th>last_updated</th> <td>2023-07-14 15:37:27.279807+00:00</td></tr><tr><th>deployed</th> <td>False</td></tr><tr><th>tags</th> <td></td></tr><tr><th>versions</th> <td>9126c35d-68db-4b41-915e-14ebef5b1b51, 5c643e10-c9bf-48db-ad25-a5e38b6faf5f, 88c2fa3b-9d7e-494c-a84f-5786509b59f4, 2b84d42b-bda9-4cc8-b182-cb3856c2882b</td></tr><tr><th>steps</th> <td>hjfkhousingmodelcontrol</td></tr></table>"
      ],
      "text/plain": [
       "{'name': 'hjfkhotswappipeline', 'create_time': datetime.datetime(2023, 7, 14, 15, 36, 48, 697941, tzinfo=tzutc()), 'definition': \"[{'ModelInference': {'models': [{'name': 'hjfkxgbhousingchallenger', 'version': 'd0878a14-e526-4e6d-984c-373578f88d72', 'sha': '31e92d6ccb27b041a324a7ac22cf95d9d6cc3aa7e8263a229f7c4aec4938657c'}]}}]\"}"
=======
       "<table><tr><th>name</th> <td>btffhotswappipeline</td></tr><tr><th>created</th> <td>2023-05-17 21:37:16.033792+00:00</td></tr><tr><th>last_updated</th> <td>2023-05-17 21:37:39.738867+00:00</td></tr><tr><th>deployed</th> <td>False</td></tr><tr><th>tags</th> <td></td></tr><tr><th>versions</th> <td>438796a3-e320-4a51-9e64-35eb32d57b49, 4fc11650-1003-43c2-bd3a-96b9cdacbb6d, e4b8d7ca-00fa-4e31-8671-3d0a3bf4c16e, 3c5f951b-e815-4bc7-93bf-84de3d46718d</td></tr><tr><th>steps</th> <td>btffhousingmodelcontrol</td></tr></table>"
      ],
      "text/plain": [
       "{'name': 'btffhotswappipeline', 'create_time': datetime.datetime(2023, 5, 17, 21, 37, 16, 33792, tzinfo=tzutc()), 'definition': \"[{'ModelInference': {'models': [{'name': 'btffxgbhousingchallenger', 'version': '1d807bb8-e190-41a6-8253-d1706267d225', 'sha': '31e92d6ccb27b041a324a7ac22cf95d9d6cc3aa7e8263a229f7c4aec4938657c'}]}}]\"}"
>>>>>>> 07b717a (pipeline logs and other updates/)
      ]
     },
     "execution_count": 21,
     "metadata": {},
     "output_type": "execute_result"
    }
   ],
   "source": [
    "pipeline.undeploy()"
   ]
  }
 ],
 "metadata": {
  "kernelspec": {
   "display_name": "wallaroosdk",
   "language": "python",
   "name": "python3"
  },
  "language_info": {
   "codemirror_mode": {
    "name": "ipython",
    "version": 3
   },
   "file_extension": ".py",
   "mimetype": "text/x-python",
   "name": "python",
   "nbconvert_exporter": "python",
   "pygments_lexer": "ipython3",
   "version": "3.9.16"
  },
  "vscode": {
   "interpreter": {
    "hash": "e951b583e3fbbcadfc15df61f9ed97fb9a76f59b2130f2cdf4d0033aa05e7e64"
   }
  }
 },
 "nbformat": 4,
 "nbformat_minor": 4
}
