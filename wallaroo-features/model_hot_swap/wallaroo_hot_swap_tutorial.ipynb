{
 "cells": [
  {
   "cell_type": "markdown",
   "metadata": {},
   "source": [
    "This tutorial and the assets can be downloaded as part of the [Wallaroo Tutorials repository](https://github.com/WallarooLabs/Wallaroo_Tutorials/tree/main/wallaroo-features/model_hot_swap).\n",
    "\n",
    "## Model Hot Swap Tutorial\n",
    "\n",
    "One of the biggest challenges facing organizations once they have a model trained is deploying the model:  Getting all of the resources together, MLOps configured and systems prepared to allow inferences to run.\n",
    "\n",
    "The next biggest challenge?  Replacing the model while keeping the existing production systems running.\n",
    "\n",
    "This tutorial demonstrates how Wallaroo model hot swap can update a pipeline step with a new model with one command.  This lets organizations keep their production systems running while changing a ML model, with the change taking only milliseconds, and any inference requests in that time are processed after the hot swap is completed.\n",
    "\n",
    "This example and sample data comes from the Machine Learning Group's demonstration on [Credit Card Fraud detection](https://www.kaggle.com/datasets/mlg-ulb/creditcardfraud).\n",
    "\n",
    "This tutorial provides the following:\n",
    "\n",
    "* `ccfraud.onnx`: A pre-trained ML model used to detect potential credit card fraud.\n",
    "* `xgboost_ccfraud.onnx`: A pre-trained ML model used to detect potential credit card fraud originally converted from an XGBoost model.  This will be used to swap with the `ccfraud.onnx`.\n",
    "* `smoke_test.json`: A data file used to verify that the model will return a low possibility of credit card fraud.\n",
    "* `high_fraud.json`: A data file used to verify that the model will return a high possibility of credit card fraud.\n",
    "* Sample inference data files: Data files used for inference examples with the following number of records:\n",
    "  * `cc_data_5.json`: 5 records.\n",
    "  * `cc_data_1k.json`: 1,000 records.\n",
    "  * `cc_data_10k.json`: 10,000 records.\n",
    "  * `cc_data_40k.json`: Over 40,000 records.\n",
    "\n",
    "## Reference\n",
    "\n",
    "For more information about Wallaroo and related features, see the [Wallaroo Documentation Site](https://docs.wallaroo.ai)."
   ]
  },
  {
   "cell_type": "markdown",
   "metadata": {},
   "source": [
    "## Steps\n",
    "\n",
    "The following steps demonstrate the following:\n",
    "\n",
    "* Connect to a Wallaroo instance.\n",
    "* Create a workspace and pipeline.\n",
    "* Upload both models to the workspace.\n",
    "* Deploy the pipe with the `ccfraud.onnx` model as a pipeline step.\n",
    "* Perform sample inferences.\n",
    "* Hot swap and replace the existing model with the `xgboost_ccfraud.onnx` while keeping the pipeline deployed.\n",
    "* Conduct additional inferences to demonstrate the model hot swap was successful.\n",
    "* Undeploy the pipeline and return the resources back to the Wallaroo instance."
   ]
  },
  {
   "cell_type": "markdown",
   "metadata": {},
   "source": [
    "### Load the Libraries\n",
    "\n",
    "Load the Python libraries used to connect and interact with the Wallaroo instance."
   ]
  },
  {
   "cell_type": "code",
   "execution_count": 27,
   "metadata": {},
   "outputs": [],
   "source": [
    "import wallaroo\n",
    "from wallaroo.object import EntityNotFoundError\n",
    "\n",
    "import pandas as pd\n",
    "\n",
    "# used to display dataframe information without truncating\n",
    "pd.set_option('display.max_colwidth', None)  \n"
   ]
  },
  {
   "attachments": {},
   "cell_type": "markdown",
   "metadata": {},
   "source": [
    "### Arrow Support\n",
    "\n",
    "As of the 2023.1 release, Wallaroo provides support for dataframe and Arrow for inference inputs.  This tutorial allows users to adjust their experience based on whether they have enabled Arrow support in their Wallaroo instance or not.\n",
    "\n",
    "If Arrow support has been enabled, `arrowEnabled=True`. If disabled or you're not sure, set it to `arrowEnabled=False`\n",
    "\n",
    "The examples below will be shown in an arrow enabled environment."
   ]
  },
  {
   "cell_type": "code",
   "execution_count": 28,
   "metadata": {},
   "outputs": [
    {
     "name": "stdout",
     "output_type": "stream",
     "text": [
      "True\n"
     ]
    }
   ],
   "source": [
    "import os\n",
    "# Only set the below to make the OS environment ARROW_ENABLED to TRUE.  Otherwise, leave as is.\n",
    "# os.environ[\"ARROW_ENABLED\"]=\"True\"\n",
    "\n",
    "if \"ARROW_ENABLED\" not in os.environ or os.environ[\"ARROW_ENABLED\"].casefold() == \"False\".casefold():\n",
    "    arrowEnabled = False\n",
    "else:\n",
    "    arrowEnabled = True\n",
    "print(arrowEnabled)"
   ]
  },
  {
   "cell_type": "markdown",
   "metadata": {},
   "source": [
    "### Open a Connection to Wallaroo\n",
    "\n",
    "The first step is to connect to Wallaroo through the Wallaroo client.\n",
    "\n",
    "This is accomplished using the `wallaroo.Client(api_endpoint, auth_endpoint, auth_type command)` command that connects to the Wallaroo instance services.\n",
    "\n",
    "The `Client` method takes the following parameters:\n",
    "\n",
    "* **api_endpoint** (*String*): The URL to the Wallaroo instance API service.\n",
    "* **auth_endpoint** (*String*): The URL to the Wallaroo instance Keycloak service.\n",
    "* **auth_type command** (*String*): The authorization type.  In this case, `SSO`.\n",
    "\n",
    "The URLs are based on the Wallaroo Prefix and Wallaroo Suffix for the Wallaroo instance.  For more information, see the [DNS Integration Guide](https://docs.wallaroo.ai/wallaroo-operations-guide/wallaroo-configuration/wallaroo-dns-guide/).  In the example below, replace \"YOUR PREFIX\" and \"YOUR SUFFIX\" with the Wallaroo Prefix and Suffix, respectively.\n",
    "\n",
    "If connecting from within the Wallaroo instance's JupyterHub service, then only `wl = wallaroo.Client()` is required.\n",
    "\n",
    "Once run, the `wallaroo.Client` command provides a URL to grant the SDK permission to your specific Wallaroo environment.  When displayed, enter the URL into a browser and confirm permissions.  Depending on the configuration of the Wallaroo instance, the user will either be presented with a login request to the Wallaroo instance or be authenticated through a broker such as Google, Github, etc.  To use the broker, select it from the list under the username/password login forms.  For more information on Wallaroo authentication configurations, see the [Wallaroo Authentication Configuration Guides](https://docs.wallaroo.ai/wallaroo-operations-guide/wallaroo-configuration/wallaroo-sso-authentication/)."
   ]
  },
  {
   "cell_type": "code",
   "execution_count": 29,
   "metadata": {},
   "outputs": [],
   "source": [
    "# Internal Login\n",
    "\n",
    "wl = wallaroo.Client()\n",
    "\n",
    "# Remote Login\n",
    "\n",
    "# wallarooPrefix = \"YOUR PREFIX\"\n",
    "# wallarooSuffix = \"YOUR SUFFIX\"\n",
    "\n",
    "# wl = wallaroo.Client(api_endpoint=f\"https://{wallarooPrefix}.api.{wallarooSuffix}\", \n",
    "#                     auth_endpoint=f\"https://{wallarooPrefix}.keycloak.{wallarooSuffix}\", \n",
    "#                     auth_type=\"sso\")"
   ]
  },
  {
   "attachments": {},
   "cell_type": "markdown",
   "metadata": {},
   "source": [
    "### Set the Variables\n",
    "\n",
    "The following variables are used in the later steps for creating the workspace, pipeline, and uploading the models.  Modify them according to your organization's requirements.\n",
    "\n",
    "Just for the sake of this tutorial, we'll use the SDK below to create our workspace , assign as our **current workspace**, then display all of the workspaces we have at the moment.  We'll also set up for our models and pipelines down the road, so we have one spot to change names to whatever fits your organization's standards best.\n",
    "\n",
    "To allow this tutorial to be run multiple times or by multiple users in the same Wallaroo instance, a random 4 character prefix will be added to the workspace, pipeline, and model."
   ]
  },
  {
   "cell_type": "code",
   "execution_count": 30,
   "metadata": {},
   "outputs": [],
   "source": [
    "import string\n",
    "import random\n",
    "\n",
    "# make a random 4 character prefix\n",
    "prefix= ''.join(random.choice(string.ascii_lowercase) for i in range(4))\n",
    "\n",
    "workspace_name = f'{prefix}hotswapworkspace'\n",
    "pipeline_name = f'{prefix}hotswappipeline'\n",
    "original_model_name = f'{prefix}ccfraudoriginal'\n",
    "original_model_file_name = './ccfraud.onnx'\n",
    "replacement_model_name = f'{prefix}ccfraudreplacement'\n",
    "replacement_model_file_name = './xgboost_ccfraud.onnx'"
   ]
  },
  {
   "cell_type": "code",
   "execution_count": 31,
   "metadata": {},
   "outputs": [],
   "source": [
    "def get_workspace(name):\n",
    "    workspace = None\n",
    "    for ws in wl.list_workspaces():\n",
    "        if ws.name() == name:\n",
    "            workspace= ws\n",
    "    if(workspace == None):\n",
    "        workspace = wl.create_workspace(name)\n",
    "    return workspace\n",
    "\n",
    "def get_pipeline(name):\n",
    "    try:\n",
    "        pipeline = wl.pipelines_by_name(pipeline_name)[0]\n",
    "    except EntityNotFoundError:\n",
    "        pipeline = wl.build_pipeline(pipeline_name)\n",
    "    return pipeline"
   ]
  },
  {
   "cell_type": "markdown",
   "metadata": {},
   "source": [
    "### Create the Workspace\n",
    "\n",
    "We will create a workspace based on the variable names set above, and set the new workspace as the `current` workspace.  This workspace is where new pipelines will be created in and store uploaded models for this session.\n",
    "\n",
    "Once set, the pipeline will be created."
   ]
  },
  {
   "cell_type": "code",
   "execution_count": 32,
   "metadata": {},
   "outputs": [
    {
     "data": {
      "text/html": [
       "<table><tr><th>name</th> <td>ggwzhotswappipeline</td></tr><tr><th>created</th> <td>2023-02-27 17:33:53.541871+00:00</td></tr><tr><th>last_updated</th> <td>2023-02-27 17:33:53.541871+00:00</td></tr><tr><th>deployed</th> <td>(none)</td></tr><tr><th>tags</th> <td></td></tr><tr><th>versions</th> <td>ad943ff6-1a38-4304-a243-6958ba118df2</td></tr><tr><th>steps</th> <td></td></tr></table>"
      ],
      "text/plain": [
       "{'name': 'ggwzhotswappipeline', 'create_time': datetime.datetime(2023, 2, 27, 17, 33, 53, 541871, tzinfo=tzutc()), 'definition': '[]'}"
      ]
     },
     "execution_count": 32,
     "metadata": {},
     "output_type": "execute_result"
    }
   ],
   "source": [
    "workspace = get_workspace(workspace_name)\n",
    "\n",
    "wl.set_current_workspace(workspace)\n",
    "\n",
    "pipeline = get_pipeline(pipeline_name)\n",
    "pipeline"
   ]
  },
  {
   "cell_type": "markdown",
   "metadata": {},
   "source": [
    "### Upload Models\n",
    "\n",
    "We can now upload both of the models.  In a later step, only one model will be added as a [pipeline step](https://docs.wallaroo.ai/wallaroo-developer-guides/wallaroo-sdk-guides/wallaroo-sdk-essentials-guide/wallaroo-sdk-essentials-pipeline/#add-a-step-to-a-pipeline), where the pipeline will submit inference requests to the pipeline."
   ]
  },
  {
   "cell_type": "code",
   "execution_count": 33,
   "metadata": {},
   "outputs": [],
   "source": [
    "original_model = wl.upload_model(original_model_name , original_model_file_name)\n",
    "replacement_model = wl.upload_model(replacement_model_name , replacement_model_file_name)"
   ]
  },
  {
   "cell_type": "code",
   "execution_count": 34,
   "metadata": {},
   "outputs": [
    {
     "data": {
      "text/html": [
       "\n",
       "          <table>\n",
       "            <tr>\n",
       "              <th>Name</th>\n",
       "              <th># of Versions</th>\n",
       "              <th>Owner ID</th>\n",
       "              <th>Last Updated</th>\n",
       "              <th>Created At</th>\n",
       "            </tr>\n",
       "            \n",
       "            <tr>\n",
       "              <td>ggwzccfraudreplacement</td>\n",
       "              <td>1</td>\n",
       "              <td>\"\"</td>\n",
       "              <td>2023-02-27 17:33:55.531013+00:00</td>\n",
       "              <td>2023-02-27 17:33:55.531013+00:00</td>\n",
       "            </tr>\n",
       "           \n",
       "            <tr>\n",
       "              <td>ggwzccfraudoriginal</td>\n",
       "              <td>1</td>\n",
       "              <td>\"\"</td>\n",
       "              <td>2023-02-27 17:33:55.147884+00:00</td>\n",
       "              <td>2023-02-27 17:33:55.147884+00:00</td>\n",
       "            </tr>\n",
       "          \n",
       "          </table>\n",
       "        "
      ],
      "text/plain": [
       "[{'name': 'ggwzccfraudreplacement', 'versions': 1, 'owner_id': '\"\"', 'last_update_time': datetime.datetime(2023, 2, 27, 17, 33, 55, 531013, tzinfo=tzutc()), 'created_at': datetime.datetime(2023, 2, 27, 17, 33, 55, 531013, tzinfo=tzutc())},\n",
       " {'name': 'ggwzccfraudoriginal', 'versions': 1, 'owner_id': '\"\"', 'last_update_time': datetime.datetime(2023, 2, 27, 17, 33, 55, 147884, tzinfo=tzutc()), 'created_at': datetime.datetime(2023, 2, 27, 17, 33, 55, 147884, tzinfo=tzutc())}]"
      ]
     },
     "execution_count": 34,
     "metadata": {},
     "output_type": "execute_result"
    }
   ],
   "source": [
    "wl.list_models()"
   ]
  },
  {
   "cell_type": "markdown",
   "metadata": {},
   "source": [
    "### Add Model to Pipeline Step\n",
    "\n",
    "With the models uploaded, we will add the original model as a pipeline step, then deploy the pipeline so it is available for performing inferences."
   ]
  },
  {
   "cell_type": "code",
   "execution_count": 35,
   "metadata": {},
   "outputs": [
    {
     "data": {
      "text/html": [
       "<table><tr><th>name</th> <td>ggwzhotswappipeline</td></tr><tr><th>created</th> <td>2023-02-27 17:33:53.541871+00:00</td></tr><tr><th>last_updated</th> <td>2023-02-27 17:33:53.541871+00:00</td></tr><tr><th>deployed</th> <td>(none)</td></tr><tr><th>tags</th> <td></td></tr><tr><th>versions</th> <td>ad943ff6-1a38-4304-a243-6958ba118df2</td></tr><tr><th>steps</th> <td></td></tr></table>"
      ],
      "text/plain": [
       "{'name': 'ggwzhotswappipeline', 'create_time': datetime.datetime(2023, 2, 27, 17, 33, 53, 541871, tzinfo=tzutc()), 'definition': \"[{'ModelInference': {'models': [{'name': 'ggwzccfraudoriginal', 'version': '55fe0137-2e0b-4c7d-9cf2-6521b526339e', 'sha': 'bc85ce596945f876256f41515c7501c399fd97ebcb9ab3dd41bf03f8937b4507'}]}}]\"}"
      ]
     },
     "execution_count": 35,
     "metadata": {},
     "output_type": "execute_result"
    }
   ],
   "source": [
    "pipeline.add_model_step(original_model)\n",
    "pipeline"
   ]
  },
  {
   "cell_type": "code",
   "execution_count": 36,
   "metadata": {},
   "outputs": [
    {
     "data": {
      "text/html": [
       "<table><tr><th>name</th> <td>ggwzhotswappipeline</td></tr><tr><th>created</th> <td>2023-02-27 17:33:53.541871+00:00</td></tr><tr><th>last_updated</th> <td>2023-02-27 17:33:58.263239+00:00</td></tr><tr><th>deployed</th> <td>True</td></tr><tr><th>tags</th> <td></td></tr><tr><th>versions</th> <td>3078dffa-4e10-41ef-85bc-e7a0de5afa82, ad943ff6-1a38-4304-a243-6958ba118df2</td></tr><tr><th>steps</th> <td>ggwzccfraudoriginal</td></tr></table>"
      ],
      "text/plain": [
       "{'name': 'ggwzhotswappipeline', 'create_time': datetime.datetime(2023, 2, 27, 17, 33, 53, 541871, tzinfo=tzutc()), 'definition': \"[{'ModelInference': {'models': [{'name': 'ggwzccfraudoriginal', 'version': '55fe0137-2e0b-4c7d-9cf2-6521b526339e', 'sha': 'bc85ce596945f876256f41515c7501c399fd97ebcb9ab3dd41bf03f8937b4507'}]}}]\"}"
      ]
     },
     "execution_count": 36,
     "metadata": {},
     "output_type": "execute_result"
    }
   ],
   "source": [
    "pipeline.deploy()"
   ]
  },
  {
   "cell_type": "code",
   "execution_count": 37,
   "metadata": {},
   "outputs": [
    {
     "data": {
      "text/plain": [
       "{'status': 'Running',\n",
       " 'details': [],\n",
       " 'engines': [{'ip': '10.244.0.30',\n",
       "   'name': 'engine-7bb46d756-2v7j7',\n",
       "   'status': 'Running',\n",
       "   'reason': None,\n",
       "   'details': [],\n",
       "   'pipeline_statuses': {'pipelines': [{'id': 'ggwzhotswappipeline',\n",
       "      'status': 'Running'}]},\n",
       "   'model_statuses': {'models': [{'name': 'ggwzccfraudoriginal',\n",
       "      'version': '55fe0137-2e0b-4c7d-9cf2-6521b526339e',\n",
       "      'sha': 'bc85ce596945f876256f41515c7501c399fd97ebcb9ab3dd41bf03f8937b4507',\n",
       "      'status': 'Running'}]}}],\n",
       " 'engine_lbs': [{'ip': '10.244.0.29',\n",
       "   'name': 'engine-lb-ddd995646-wjg4k',\n",
       "   'status': 'Running',\n",
       "   'reason': None,\n",
       "   'details': []}],\n",
       " 'sidekicks': []}"
      ]
     },
     "execution_count": 37,
     "metadata": {},
     "output_type": "execute_result"
    }
   ],
   "source": [
    "pipeline.status()"
   ]
  },
  {
   "cell_type": "markdown",
   "metadata": {},
   "source": [
    "### Verify the Model\n",
    "\n",
    "The pipeline is deployed with our model.  The following will verify that the model is operating correctly.  The `high_fraud.json` file contains data that the model should process as a high likelihood of being a fraudulent transaction."
   ]
  },
  {
   "cell_type": "code",
   "execution_count": 38,
   "metadata": {},
   "outputs": [
    {
     "data": {
      "text/html": [
       "<div>\n",
       "<style scoped>\n",
       "    .dataframe tbody tr th:only-of-type {\n",
       "        vertical-align: middle;\n",
       "    }\n",
       "\n",
       "    .dataframe tbody tr th {\n",
       "        vertical-align: top;\n",
       "    }\n",
       "\n",
       "    .dataframe thead th {\n",
       "        text-align: right;\n",
       "    }\n",
       "</style>\n",
       "<table border=\"1\" class=\"dataframe\">\n",
       "  <thead>\n",
       "    <tr style=\"text-align: right;\">\n",
       "      <th></th>\n",
       "      <th>time</th>\n",
       "      <th>out.dense_1</th>\n",
       "      <th>check_failures</th>\n",
       "      <th>metadata.last_model</th>\n",
       "    </tr>\n",
       "  </thead>\n",
       "  <tbody>\n",
       "    <tr>\n",
       "      <th>0</th>\n",
       "      <td>1677519249926</td>\n",
       "      <td>[0.0014974177]</td>\n",
       "      <td>[]</td>\n",
       "      <td>{\"model_name\":\"ggwzccfraudoriginal\",\"model_sha\":\"bc85ce596945f876256f41515c7501c399fd97ebcb9ab3dd41bf03f8937b4507\"}</td>\n",
       "    </tr>\n",
       "  </tbody>\n",
       "</table>\n",
       "</div>"
      ],
      "text/plain": [
       "            time     out.dense_1 check_failures  \\\n",
       "0  1677519249926  [0.0014974177]             []   \n",
       "\n",
       "                                                                                                   metadata.last_model  \n",
       "0  {\"model_name\":\"ggwzccfraudoriginal\",\"model_sha\":\"bc85ce596945f876256f41515c7501c399fd97ebcb9ab3dd41bf03f8937b4507\"}  "
      ]
     },
     "metadata": {},
     "output_type": "display_data"
    }
   ],
   "source": [
    "if arrowEnabled is True:\n",
    "    result = pipeline.infer_from_file('./data/smoke_test.df.json')\n",
    "else:\n",
    "    result = pipeline.infer_from_file('./data/smoke_test.json')\n",
    "display(result)"
   ]
  },
  {
   "cell_type": "markdown",
   "metadata": {},
   "source": [
    "### Replace the Model\n",
    "\n",
    "The pipeline is currently deployed and is able to handle inferences.  The model will now be replaced without having to undeploy the pipeline.  This is done using the pipeline method [`replace_with_model_step(index, model)`](https://docs.wallaroo.ai/wallaroo-developer-guides/wallaroo-sdk-guides/wallaroo-sdk-reference-guide/pipeline/#Pipeline.replace_with_model_step).  Steps start at `0`, so the method called below will replace step 0 in our pipeline with the replacement model.\n",
    "\n",
    "As an exercise, this deployment can be performed while inferences are actively being submitted to the pipeline to show how quickly the swap takes place."
   ]
  },
  {
   "cell_type": "code",
   "execution_count": 39,
   "metadata": {},
   "outputs": [
    {
     "data": {
      "text/html": [
       "<table><tr><th>name</th> <td>ggwzhotswappipeline</td></tr><tr><th>created</th> <td>2023-02-27 17:33:53.541871+00:00</td></tr><tr><th>last_updated</th> <td>2023-02-27 17:34:11.049248+00:00</td></tr><tr><th>deployed</th> <td>True</td></tr><tr><th>tags</th> <td></td></tr><tr><th>versions</th> <td>a620354f-291e-4a98-b5f7-9d8bf165b1df, 3078dffa-4e10-41ef-85bc-e7a0de5afa82, ad943ff6-1a38-4304-a243-6958ba118df2</td></tr><tr><th>steps</th> <td>ggwzccfraudoriginal</td></tr></table>"
      ],
      "text/plain": [
       "{'name': 'ggwzhotswappipeline', 'create_time': datetime.datetime(2023, 2, 27, 17, 33, 53, 541871, tzinfo=tzutc()), 'definition': \"[{'ModelInference': {'models': [{'name': 'ggwzccfraudreplacement', 'version': '478c0eec-e5f3-4759-b466-b3537e2563ad', 'sha': 'bc85ce596945f876256f41515c7501c399fd97ebcb9ab3dd41bf03f8937b4507'}]}}]\"}"
      ]
     },
     "execution_count": 39,
     "metadata": {},
     "output_type": "execute_result"
    }
   ],
   "source": [
    "pipeline.replace_with_model_step(0, replacement_model).deploy()"
   ]
  },
  {
   "cell_type": "code",
   "execution_count": 40,
   "metadata": {},
   "outputs": [
    {
     "data": {
      "text/plain": [
       "{'status': 'Running',\n",
       " 'details': [],\n",
       " 'engines': [{'ip': '10.244.0.30',\n",
       "   'name': 'engine-7bb46d756-2v7j7',\n",
       "   'status': 'Running',\n",
       "   'reason': None,\n",
       "   'details': [],\n",
       "   'pipeline_statuses': {'pipelines': [{'id': 'ggwzhotswappipeline',\n",
       "      'status': 'Running'}]},\n",
       "   'model_statuses': {'models': [{'name': 'ggwzccfraudoriginal',\n",
       "      'version': '55fe0137-2e0b-4c7d-9cf2-6521b526339e',\n",
       "      'sha': 'bc85ce596945f876256f41515c7501c399fd97ebcb9ab3dd41bf03f8937b4507',\n",
       "      'status': 'Running'}]}}],\n",
       " 'engine_lbs': [{'ip': '10.244.0.29',\n",
       "   'name': 'engine-lb-ddd995646-wjg4k',\n",
       "   'status': 'Running',\n",
       "   'reason': None,\n",
       "   'details': []}],\n",
       " 'sidekicks': []}"
      ]
     },
     "execution_count": 40,
     "metadata": {},
     "output_type": "execute_result"
    }
   ],
   "source": [
    "# Display the pipeline\n",
    "pipeline.status()"
   ]
  },
  {
   "cell_type": "markdown",
   "metadata": {},
   "source": [
    "### Verify the Swap\n",
    "\n",
    "To verify the swap, we'll submit a set of inferences to the pipeline using the new model.  We'll display just the first 5 rows for space reasons."
   ]
  },
  {
   "cell_type": "code",
   "execution_count": 41,
   "metadata": {},
   "outputs": [
    {
     "data": {
      "text/html": [
       "<div>\n",
       "<style scoped>\n",
       "    .dataframe tbody tr th:only-of-type {\n",
       "        vertical-align: middle;\n",
       "    }\n",
       "\n",
       "    .dataframe tbody tr th {\n",
       "        vertical-align: top;\n",
       "    }\n",
       "\n",
       "    .dataframe thead th {\n",
       "        text-align: right;\n",
       "    }\n",
       "</style>\n",
       "<table border=\"1\" class=\"dataframe\">\n",
       "  <thead>\n",
       "    <tr style=\"text-align: right;\">\n",
       "      <th></th>\n",
       "      <th>time</th>\n",
       "      <th>out.dense_1</th>\n",
       "      <th>check_failures</th>\n",
       "      <th>metadata.last_model</th>\n",
       "    </tr>\n",
       "  </thead>\n",
       "  <tbody>\n",
       "    <tr>\n",
       "      <th>0</th>\n",
       "      <td>1677519255319</td>\n",
       "      <td>[0.99300325]</td>\n",
       "      <td>[]</td>\n",
       "      <td>{\"model_name\":\"ggwzccfraudreplacement\",\"model_sha\":\"bc85ce596945f876256f41515c7501c399fd97ebcb9ab3dd41bf03f8937b4507\"}</td>\n",
       "    </tr>\n",
       "    <tr>\n",
       "      <th>1</th>\n",
       "      <td>1677519255319</td>\n",
       "      <td>[0.99300325]</td>\n",
       "      <td>[]</td>\n",
       "      <td>{\"model_name\":\"ggwzccfraudreplacement\",\"model_sha\":\"bc85ce596945f876256f41515c7501c399fd97ebcb9ab3dd41bf03f8937b4507\"}</td>\n",
       "    </tr>\n",
       "    <tr>\n",
       "      <th>2</th>\n",
       "      <td>1677519255319</td>\n",
       "      <td>[0.99300325]</td>\n",
       "      <td>[]</td>\n",
       "      <td>{\"model_name\":\"ggwzccfraudreplacement\",\"model_sha\":\"bc85ce596945f876256f41515c7501c399fd97ebcb9ab3dd41bf03f8937b4507\"}</td>\n",
       "    </tr>\n",
       "    <tr>\n",
       "      <th>3</th>\n",
       "      <td>1677519255319</td>\n",
       "      <td>[0.99300325]</td>\n",
       "      <td>[]</td>\n",
       "      <td>{\"model_name\":\"ggwzccfraudreplacement\",\"model_sha\":\"bc85ce596945f876256f41515c7501c399fd97ebcb9ab3dd41bf03f8937b4507\"}</td>\n",
       "    </tr>\n",
       "    <tr>\n",
       "      <th>4</th>\n",
       "      <td>1677519255319</td>\n",
       "      <td>[0.0010916889]</td>\n",
       "      <td>[]</td>\n",
       "      <td>{\"model_name\":\"ggwzccfraudreplacement\",\"model_sha\":\"bc85ce596945f876256f41515c7501c399fd97ebcb9ab3dd41bf03f8937b4507\"}</td>\n",
       "    </tr>\n",
       "  </tbody>\n",
       "</table>\n",
       "</div>"
      ],
      "text/plain": [
       "            time     out.dense_1 check_failures  \\\n",
       "0  1677519255319    [0.99300325]             []   \n",
       "1  1677519255319    [0.99300325]             []   \n",
       "2  1677519255319    [0.99300325]             []   \n",
       "3  1677519255319    [0.99300325]             []   \n",
       "4  1677519255319  [0.0010916889]             []   \n",
       "\n",
       "                                                                                                      metadata.last_model  \n",
       "0  {\"model_name\":\"ggwzccfraudreplacement\",\"model_sha\":\"bc85ce596945f876256f41515c7501c399fd97ebcb9ab3dd41bf03f8937b4507\"}  \n",
       "1  {\"model_name\":\"ggwzccfraudreplacement\",\"model_sha\":\"bc85ce596945f876256f41515c7501c399fd97ebcb9ab3dd41bf03f8937b4507\"}  \n",
       "2  {\"model_name\":\"ggwzccfraudreplacement\",\"model_sha\":\"bc85ce596945f876256f41515c7501c399fd97ebcb9ab3dd41bf03f8937b4507\"}  \n",
       "3  {\"model_name\":\"ggwzccfraudreplacement\",\"model_sha\":\"bc85ce596945f876256f41515c7501c399fd97ebcb9ab3dd41bf03f8937b4507\"}  \n",
       "4  {\"model_name\":\"ggwzccfraudreplacement\",\"model_sha\":\"bc85ce596945f876256f41515c7501c399fd97ebcb9ab3dd41bf03f8937b4507\"}  "
      ]
     },
     "metadata": {},
     "output_type": "display_data"
    }
   ],
   "source": [
    "if arrowEnabled is True:\n",
    "    result = pipeline.infer_from_file('./data/cc_data_1k.df.json')\n",
    "    display(result.loc[0:4,:])\n",
    "else:\n",
    "    result = pipeline.infer_from_file('./data/cc_data_1k.json')\n",
    "    display(result)"
   ]
  },
  {
   "cell_type": "markdown",
   "metadata": {},
   "source": [
    "### Undeploy the Pipeline\n",
    "\n",
    "With the tutorial complete, the pipeline is undeployed to return the resources back to the Wallaroo instance."
   ]
  },
  {
   "cell_type": "code",
   "execution_count": 42,
   "metadata": {},
   "outputs": [
    {
     "data": {
      "text/html": [
       "<table><tr><th>name</th> <td>ggwzhotswappipeline</td></tr><tr><th>created</th> <td>2023-02-27 17:33:53.541871+00:00</td></tr><tr><th>last_updated</th> <td>2023-02-27 17:34:11.049248+00:00</td></tr><tr><th>deployed</th> <td>False</td></tr><tr><th>tags</th> <td></td></tr><tr><th>versions</th> <td>a620354f-291e-4a98-b5f7-9d8bf165b1df, 3078dffa-4e10-41ef-85bc-e7a0de5afa82, ad943ff6-1a38-4304-a243-6958ba118df2</td></tr><tr><th>steps</th> <td>ggwzccfraudoriginal</td></tr></table>"
      ],
      "text/plain": [
       "{'name': 'ggwzhotswappipeline', 'create_time': datetime.datetime(2023, 2, 27, 17, 33, 53, 541871, tzinfo=tzutc()), 'definition': \"[{'ModelInference': {'models': [{'name': 'ggwzccfraudreplacement', 'version': '478c0eec-e5f3-4759-b466-b3537e2563ad', 'sha': 'bc85ce596945f876256f41515c7501c399fd97ebcb9ab3dd41bf03f8937b4507'}]}}]\"}"
      ]
     },
     "execution_count": 42,
     "metadata": {},
     "output_type": "execute_result"
    }
   ],
   "source": [
    "pipeline.undeploy()"
   ]
  }
 ],
 "metadata": {
  "kernelspec": {
   "display_name": "wallaroosdk",
   "language": "python",
   "name": "python3"
  },
  "language_info": {
   "codemirror_mode": {
    "name": "ipython",
    "version": 3
   },
   "file_extension": ".py",
   "mimetype": "text/x-python",
   "name": "python",
   "nbconvert_exporter": "python",
   "pygments_lexer": "ipython3",
   "version": "3.8.15"
  },
  "vscode": {
   "interpreter": {
    "hash": "e951b583e3fbbcadfc15df61f9ed97fb9a76f59b2130f2cdf4d0033aa05e7e64"
   }
  }
 },
 "nbformat": 4,
 "nbformat_minor": 4
}
