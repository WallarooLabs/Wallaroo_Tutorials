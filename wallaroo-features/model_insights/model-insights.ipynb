{
 "cells": [
  {
   "attachments": {},
   "cell_type": "markdown",
   "id": "c5296593",
   "metadata": {},
   "source": [
    "This tutorial and the assets can be downloaded as part of the [Wallaroo Tutorials repository](https://github.com/WallarooLabs/Wallaroo_Tutorials/tree/main/wallaroo-features/model_insights).\n",
    "\n",
    "## Wallaroo Assays Tutorial\n",
    "\n",
    "Select [Steps](#steps) to skip the introduction and jump right into the code sample."
   ]
  },
  {
   "cell_type": "markdown",
   "id": "49ab8ff7",
   "metadata": {},
   "source": [
    "## Introduction\n",
    "\n",
    "The Wallaroo Assays feature lets you monitor how the environment that your model operates within changes in ways that affect the model's predictions.  This allows you to intervene (aka retrain a model) in an efficient and timely manner. Changes in the inputs, **data drift**, can occur due to errors in the data processing pipeline or due to changes in the environment such as user behavior.\n",
    "\n",
    "The validation framework performs per inference range checks with count frequency based thresholds for alerts and is ideal for catching many errors in input and output data.\n",
    "\n",
    "In complement to the validation framework, model insights examines the distribution of data within a specified window of time, and compares it to a baseline for a given pipeline. It can detect situations where values are still within the expected range, but the distribution has shifted. \n",
    "\n",
    "For example, for a model that predicts housing prices you might expect the predictions to be between \\\\$200,000 and \\\\$1,000,000 with a distribution centered around \\\\$400,000. Then your model suddenly starts predicting prices centered around \\\\$250,000 or \\\\$750,000.  The predictions may still be within the expected range but the shift may signal something has changed that should be investigated.\n",
    "\n",
    "Ideally we'd also monitor the _quality_ of the predictions, aka **concept drift**. However this can be difficult as true labels are often not available or are severely delayed in practice. That is there may be a significant lag between the time the prediction is made and the true (sale price) value is observed.\n",
    "\n",
    "Consequently, model insights uses data drift detection techniques on both inputs and outputs to detect changes in the distributions of the data.\n",
    "\n",
    "There are many useful statistical tests for calculating the difference between distributions; however, they typically require assumptions about the underlying distributions or confusing and expensive calculations. We've implemented a data drift framework that is easy to understand, fast to compute, runs in an automated fashion and is extensible to many specific use cases.\n",
    "\n",
    "The methodology currently revolves around calculating the specific percentile-based bins of the baseline distribution and measuring how future distributions fall into these bins. This approach is both visually intuitive and supports an easy to calculate difference score between distributions. Users can tune the scoring mechanism to emphasize different regions of the distribution: for example, you may only care if there is a change in the top 20th percentile of the distribution, compared to the baseline.\n",
    "\n",
    "You can specify the inputs or outputs that you want to monitor and the data to use for your baselines. You can also specify how often you want to monitor distributions and set parameters to define what constitutes a meaningful change in a distribution for your application. \n",
    "\n",
    "Once you've set up a monitoring task, called an assay, comparisons against your baseline are then run automatically on a scheduled basis. You can be notified if the system notices any abnormally different behavior. The framework also allows you to quickly investigate the cause of any unexpected drifts in your predictions.\n",
    "\n",
    "The rest of this tutorial shows how to create assays to monitor your pipelines."
   ]
  },
  {
   "attachments": {},
   "cell_type": "markdown",
   "id": "8bdd151f",
   "metadata": {},
   "source": [
    "## Steps\n",
    "\n",
    "Model Insights has the capability to perform interactive assays so that you can explore the data from a pipeline and learn how the data is behaving. With this information and the knowledge of your particular business use case you can then choose appropriate thresholds for persistent automatic assays as desired.\n",
    "\n",
    "**NOTE:** Model insights operates over time and is difficult to demo in a notebook without pre-canned data. **We assume you have an active pipeline that has been running and making predictions over time and show you the code you may use to analyze your pipeline.**"
   ]
  },
  {
   "cell_type": "markdown",
   "id": "57a5bc5d",
   "metadata": {},
   "source": [
    "### Load Libraries\n",
    "\n",
    "To get started we import the libraries we'll need."
   ]
  },
  {
   "cell_type": "code",
   "execution_count": null,
   "id": "e8e5ceae",
   "metadata": {},
   "outputs": [],
   "source": [
    "import matplotlib.pyplot as plt\n",
    "import pandas as pd \n",
    "\n",
    "import wallaroo\n",
    "from wallaroo.assay_config import BinMode, Aggregation, Metric\n",
    "from wallaroo.object import EntityNotFoundError"
   ]
  },
  {
   "cell_type": "markdown",
   "id": "700dd57b",
   "metadata": {},
   "source": [
    "### Set Configuration\n",
    "\n",
    "The following configuration is used to connect to the pipeline used, and display the graphs.  The `pipeline_name` and `model_name` shown here are from the [Model Insights Canned Data Loader](model-insights-load_canned_data.ipynb), so adjust them based on your own needs."
   ]
  },
  {
   "cell_type": "code",
   "execution_count": null,
   "id": "74cd1013",
   "metadata": {},
   "outputs": [],
   "source": [
    "plt.rcParams[\"figure.figsize\"] = (12,6)\n",
    "pd.options.display.float_format = '{:,.2f}'.format\n",
    "\n",
    "workspace_name = 'housepricedrift'\n",
    "pipeline_name = 'housepricepipe'\n",
    "model_name = 'housepricemodel'\n",
    "\n",
    "assay_name = \"example assay jch\""
   ]
  },
  {
   "cell_type": "markdown",
   "id": "5a3aa432",
   "metadata": {},
   "source": [
    "### Connect to Wallaroo\n",
    "\n",
    "Connect to your Wallaroo instance."
   ]
  },
  {
   "cell_type": "code",
   "execution_count": null,
   "id": "75f09902",
   "metadata": {},
   "outputs": [],
   "source": [
    "# Login through local Wallaroo instance\n",
    "\n",
    "# wl = wallaroo.Client()\n",
    "\n",
    "# SSO login through keycloak\n",
    "\n",
    "wallarooPrefix = \"YOUR PREFIX\"\n",
    "wallarooSuffix = \"YOUR SUFFIX\"\n",
    "\n",
    "wl = wallaroo.Client(api_endpoint=f\"https://{wallarooPrefix}.api.{wallarooSuffix}\", \n",
    "                    auth_endpoint=f\"https://{wallarooPrefix}.keycloak.{wallarooSuffix}\", \n",
    "                    auth_type=\"sso\")"
   ]
  },
  {
   "cell_type": "markdown",
   "id": "7b9bce19",
   "metadata": {},
   "source": [
    "### Connect to Workspace and Pipeline\n",
    "\n",
    "Connect to the workspace, pipeline, and model listed above.  This code assumes that there are not multiple pipelines with the same name."
   ]
  },
  {
   "cell_type": "code",
   "execution_count": null,
   "id": "fbfdfc53",
   "metadata": {},
   "outputs": [],
   "source": [
    "def get_workspace(name):\n",
    "    workspace = None\n",
    "    for ws in wl.list_workspaces():\n",
    "        if ws.name() == name:\n",
    "            workspace= ws\n",
    "    if(workspace == None):\n",
    "        workspace = wl.create_workspace(name)\n",
    "    return workspace\n",
    "\n",
    "def get_pipeline(name):\n",
    "    try:\n",
    "        pipeline = wl.pipelines_by_name(pipeline_name)[0]\n",
    "    except EntityNotFoundError:\n",
    "        pipeline = wl.build_pipeline(pipeline_name)\n",
    "    return pipeline\n",
    "\n",
    "workspace = get_workspace(workspace_name)\n",
    "wl.set_current_workspace(workspace)\n",
    "\n",
    "pipeline = get_pipeline(pipeline_name)\n",
    "pipeline"
   ]
  },
  {
   "cell_type": "markdown",
   "id": "33b5845a",
   "metadata": {},
   "source": [
    "We assume the pipeline has been running for a while and there is a period of time that is free of errors that we'd like to use as the _baseline_. Let's note the start and end times. For this example we have 30 days of data from Jan 2022 and will use Jan 1 data as our baseline."
   ]
  },
  {
   "cell_type": "code",
   "execution_count": null,
   "id": "b76f81f0",
   "metadata": {},
   "outputs": [],
   "source": [
    "import datetime\n",
    "baseline_start = datetime.datetime.fromisoformat('2022-01-01T00:00:00+00:00')\n",
    "baseline_end = datetime.datetime.fromisoformat('2022-01-02T00:00:00+00:00')\n",
    "last_day = datetime.datetime.fromisoformat('2022-02-01T00:00:00+00:00')"
   ]
  },
  {
   "cell_type": "markdown",
   "id": "a39926cb",
   "metadata": {},
   "source": [
    "Let's create an assay using that pipeline and the model in the pipeline. We also specify the baseline start and end."
   ]
  },
  {
   "cell_type": "code",
   "execution_count": null,
   "id": "8efe4e0b",
   "metadata": {},
   "outputs": [],
   "source": [
    "\n",
    "assay_builder = wl.build_assay(assay_name, pipeline, model_name, baseline_start, baseline_end)"
   ]
  },
  {
   "cell_type": "markdown",
   "id": "9d0047e5",
   "metadata": {},
   "source": [
    "We don't know much about our baseline data yet so let's examine the data and create a couple of visual representations. First let's get some basic stats on the baseline data."
   ]
  },
  {
   "cell_type": "code",
   "execution_count": null,
   "id": "274a8b66",
   "metadata": {},
   "outputs": [],
   "source": [
    "baseline_run = assay_builder.build().interactive_baseline_run()\n",
    "baseline_run.baseline_stats()"
   ]
  },
  {
   "cell_type": "markdown",
   "id": "53c90160",
   "metadata": {},
   "source": [
    "Now let's look at a histogram, kernel density estimate (KDE), and Empirical Cumulative Distribution (ecdf) charts of the baseline data. These will give us insights into the distributions of the predictions and features that the assay is configured for."
   ]
  },
  {
   "cell_type": "code",
   "execution_count": null,
   "id": "c68cc9b0",
   "metadata": {},
   "outputs": [],
   "source": [
    "assay_builder.baseline_histogram()"
   ]
  },
  {
   "cell_type": "code",
   "execution_count": null,
   "id": "141836b2",
   "metadata": {},
   "outputs": [],
   "source": [
    "assay_builder.baseline_kde()"
   ]
  },
  {
   "cell_type": "code",
   "execution_count": null,
   "id": "abb3bb80",
   "metadata": {},
   "outputs": [],
   "source": [
    "assay_builder.baseline_ecdf()"
   ]
  },
  {
   "cell_type": "markdown",
   "id": "f01d562e",
   "metadata": {},
   "source": [
    "### Interactive Baseline Runs\n",
    "We can do an interactive run of just the baseline part to see how the baseline data will be put into bins. This assay uses quintiles so all 5 bins (not counting the outlier bins) have 20% of the predictions. We can see the bin boundaries along the x-axis."
   ]
  },
  {
   "cell_type": "code",
   "execution_count": null,
   "id": "2f178a15",
   "metadata": {},
   "outputs": [],
   "source": [
    "baseline_run.chart()"
   ]
  },
  {
   "cell_type": "markdown",
   "id": "2b7daf61",
   "metadata": {},
   "source": [
    "We can also get a dataframe with the bin/edge information."
   ]
  },
  {
   "cell_type": "code",
   "execution_count": null,
   "id": "af33f6c0",
   "metadata": {},
   "outputs": [],
   "source": [
    "baseline_run.baseline_bins()"
   ]
  },
  {
   "cell_type": "markdown",
   "id": "0cccd18c",
   "metadata": {},
   "source": [
    "The previous assay used quintiles so all of the bins had the same percentage/count of samples.  To get bins that are divided equally along the range of values we can use `BinMode.EQUAL`."
   ]
  },
  {
   "cell_type": "code",
   "execution_count": null,
   "id": "6452a263",
   "metadata": {},
   "outputs": [],
   "source": [
    "equal_bin_builder = wl.build_assay(assay_name, pipeline, model_name, baseline_start, baseline_end)\n",
    "equal_bin_builder.summarizer_builder.add_bin_mode(BinMode.EQUAL)\n",
    "equal_baseline = equal_bin_builder.build().interactive_baseline_run()\n",
    "equal_baseline.chart()"
   ]
  },
  {
   "cell_type": "markdown",
   "id": "0273ba3c",
   "metadata": {},
   "source": [
    "We now see very different bin edges and sample percentages per bin."
   ]
  },
  {
   "cell_type": "code",
   "execution_count": null,
   "id": "726e8928",
   "metadata": {},
   "outputs": [],
   "source": [
    "equal_baseline.baseline_bins()"
   ]
  },
  {
   "cell_type": "markdown",
   "id": "312e95c8",
   "metadata": {},
   "source": [
    "### Interactive Assay Runs\n",
    "\n",
    "By default the assay builder creates an assay with some good starting parameters. In particular the assay is configured to run a new analysis for **every 24 hours starting at the end of the baseline period**. Additionally, it sets the **number of bins to 5** to create quintiles, and sets the target `iopath` to `\"outputs 0 0\"` which means we want to monitor the first column of the first output/prediction.\n",
    "\n",
    "We can do an interactive run of just the baseline part to see how the baseline data will be put into bins. This assay uses quintiles so all 5 bins (not counting the outlier bins) have 20% of the predictions. We can see the bin boundaries along the x-axis.\n",
    "\n",
    "We then run it with `interactive_run` and convert it to a dataframe for easy analysis with `to_dataframe`.\n",
    "\n",
    "Now let's do an interactive run of the first assay as it is configured.  Interactive runs don't save the assay to the database (so they won't be scheduled in the future) nor do they save the assay results. Instead the results are returned after a short while for further analysis.\n",
    "\n",
    "#### Configuration Notes\n",
    "\n",
    "By default the distance measure used is a modified version of the *Population Stability Index*, a measure that's widely used in banking and finance, and is also known as the *Jeffreys divergence*, or the *Symmetrised Kullback-Leibler divergence*.\n",
    "\n",
    "There is a handy rule of thumb for determining whether the PSI score is \"large\":\n",
    "\n",
    "* PSI < 0.1: The distance is small; the distributions are about the same\n",
    "* 0.1 <= PSI < 0.2: The distance is moderately large; the distributions are somewhat different, and there may be some data drift\n",
    "* PSI >= 0.2: The distance is large; the distributions are different. A prolonged range of PSI > 0.2 can indicate the model is no longer in operating bounds and should be retrained.\n",
    "\n",
    "Of course, this is only a rule of thumb; different thresholds may work better for a specific application, and this exploration can help you properly tune the threshold (or other parameters, like the binning scheme or difference metric) as needed.\n",
    "\n",
    "The red dots in the above graph indicate distance scores larger than our threshold of 0.1. We see that the difference scores are low for a while and then jump up to indicate there is an issue. We can examine that particular window to help us decide if that threshold is set correctly or not.\n",
    "\n",
    "We can also retrieve the above results as a data frame, for further analysis, if desired."
   ]
  },
  {
   "cell_type": "code",
   "execution_count": null,
   "id": "b71764aa",
   "metadata": {},
   "outputs": [],
   "source": [
    "assay_builder = wl.build_assay(assay_name, pipeline, model_name, baseline_start, baseline_end)\n",
    "assay_config = assay_builder.add_run_until(last_day).build()\n",
    "assay_results = assay_config.interactive_run()\n",
    "assay_df = assay_results.to_dataframe()\n",
    "assay_df"
   ]
  },
  {
   "cell_type": "markdown",
   "id": "364a77ed",
   "metadata": {},
   "source": [
    "Basic functionality for creating quick charts is included."
   ]
  },
  {
   "cell_type": "code",
   "execution_count": null,
   "id": "121b40b0",
   "metadata": {},
   "outputs": [],
   "source": [
    "assay_results.chart_scores()"
   ]
  },
  {
   "cell_type": "markdown",
   "id": "936e849a",
   "metadata": {},
   "source": [
    "We see that the difference scores are low for a while and then jump up to indicate there is an issue. We can examine that particular window to help us decide if that threshold is set correctly or not.\n",
    "\n",
    "We can generate a quick chart of the results. This chart shows the 5 quantile bins (quintiles) derived from the baseline data plus one for left outliers and one for right outliers.  We also see that the data from the window falls within the baseline quintiles but in a different proportion and is skewing higher. Whether this is an issue or not is specific to your use case.\n",
    "\n",
    "First let's examine a day that is only slightly different than the baseline. We see that we do see some values that fall outside of the range from the baseline values, the left and right outliers, and that the bin values are different but similar."
   ]
  },
  {
   "cell_type": "code",
   "execution_count": null,
   "id": "b24986c4",
   "metadata": {},
   "outputs": [],
   "source": [
    "assay_results[0].chart()"
   ]
  },
  {
   "cell_type": "markdown",
   "id": "105af4de",
   "metadata": {},
   "source": [
    "Other days, however are significantly different."
   ]
  },
  {
   "cell_type": "code",
   "execution_count": null,
   "id": "6b7dde3d",
   "metadata": {},
   "outputs": [],
   "source": [
    "assay_results[12].chart()"
   ]
  },
  {
   "cell_type": "code",
   "execution_count": null,
   "id": "8c8b4506",
   "metadata": {},
   "outputs": [],
   "source": [
    "assay_results[13].chart()"
   ]
  },
  {
   "cell_type": "markdown",
   "id": "db24dacb",
   "metadata": {},
   "source": [
    "If we want to investigate further, we can run interactive assays on each of the inputs to see if any of them show anything abnormal. In this example we'll provide the feature labels to create more understandable titles.\n",
    "\n",
    "The current assay expects continuous data. Sometimes categorical data is encoded as 1 or 0 in a feature and sometimes in a limited number of values such as 1, 2, 3. If one value has high a percentage the analysis emits a warning so that we know the scores for that feature may not behave as we expect."
   ]
  },
  {
   "cell_type": "code",
   "execution_count": null,
   "id": "68d51d20",
   "metadata": {},
   "outputs": [],
   "source": [
    "labels = ['bedrooms', 'bathrooms', 'lat', 'long', 'waterfront', 'sqft_living', 'sqft_lot', 'floors', 'view', 'condition', 'grade', 'sqft_above', 'sqft_basement', 'yr_built', 'yr_renovated', 'sqft_living15', 'sqft_lot15']\n",
    "\n",
    "# get the raw inference logs\n",
    "topic = wl.get_topic_name(pipeline.id())\n",
    "baseline_inferences = wl.get_raw_pipeline_inference_logs(topic, baseline_start, baseline_end, model_name)\n",
    "\n",
    "# feed the inference logs into the assay so we can examine the inputs\n",
    "assay_results = assay_config.interactive_input_run(baseline_inferences, labels)\n",
    "iadf = assay_results.to_dataframe()"
   ]
  },
  {
   "cell_type": "markdown",
   "id": "a2f57c16",
   "metadata": {},
   "source": [
    "We can chart each of the iopaths and do a visual inspection. From the charts we see that if any of the input features had significant differences in the first two days which we can choose to inspect further. Here we choose to show 3 charts just to save space in this notebook."
   ]
  },
  {
   "cell_type": "code",
   "execution_count": null,
   "id": "11e18d7d",
   "metadata": {},
   "outputs": [],
   "source": [
    "assay_results.chart_iopaths(labels=labels, selected_labels=['bedrooms', 'lat', 'sqft_living'])"
   ]
  },
  {
   "cell_type": "markdown",
   "id": "05eac65e",
   "metadata": {},
   "source": [
    "When we are comfortable with what alert threshold should be for our specific purposes we can create and save an assay that will be automatically run on a daily basis.\n",
    "\n",
    "In this example we're create an assay that runs everyday against the baseline and has an alert threshold of 0.5.\n",
    "\n",
    "Once we upload it it will be saved and scheduled for future data as well as run against past data."
   ]
  },
  {
   "cell_type": "code",
   "execution_count": null,
   "id": "302d966c",
   "metadata": {},
   "outputs": [],
   "source": [
    "alert_threshold = 0.1\n",
    "assay_builder = wl.build_assay(assay_name, pipeline, model_name, baseline_start, baseline_end).add_alert_threshold(alert_threshold)\n",
    "assay_id = assay_builder.upload()"
   ]
  },
  {
   "cell_type": "markdown",
   "id": "def3ef0e",
   "metadata": {},
   "source": [
    "To retrieve the results after enough time has passed, collect them with the method `get_assay_results_logs` specifying the time to collect and the `assay_id`.  This will take additional inference history so can not be demonstrated here, but the command to collect the data is listed below."
   ]
  },
  {
   "cell_type": "code",
   "execution_count": null,
   "id": "9f6a89c3",
   "metadata": {},
   "outputs": [],
   "source": [
    "assay_results = wl.get_assay_results_logs(baseline_end,datetime.datetime.now(), assay_id=assay_id)"
   ]
  },
  {
   "cell_type": "markdown",
   "id": "18dc2ecb",
   "metadata": {},
   "source": [
    "## Scheduling Assays\n",
    "\n",
    "By default assays are scheduled to run **every 24 hours** starting immediately after the baseline period ends.\n",
    "\n",
    "However, you can control the start time by setting `start` and the frequency by setting `interval` on the window.\n",
    "\n",
    "So to recap:\n",
    "\n",
    "* The window width is the **size** of the window. The default is 24 hours.\n",
    "* The interval is:\n",
    "  * How often the analysis is run.\n",
    "  * How far the window is slid into the future based on the last run.\n",
    "  * The default is the window width.\n",
    "* The window start is when the analysis should start. The default is the end of the baseline period.\n",
    "\n",
    "For example to run an analysis every 12 hours on the previous 24 hours of data, you'd set the window width to 24 (the default) and the interval to 12."
   ]
  },
  {
   "cell_type": "code",
   "execution_count": null,
   "id": "dbd38b03",
   "metadata": {},
   "outputs": [],
   "source": [
    "assay_builder = wl.build_assay(assay_name, pipeline, model_name, baseline_start, baseline_end)\n",
    "assay_builder = assay_builder.add_run_until(last_day)\n",
    "\n",
    "assay_builder.window_builder().add_width(hours=24).add_interval(hours=12)\n",
    "\n",
    "assay_config = assay_builder.build()\n",
    "\n",
    "assay_results = assay_config.interactive_run()\n",
    "print(f\"Generated {len(assay_results)} analyses\")"
   ]
  },
  {
   "cell_type": "code",
   "execution_count": null,
   "id": "002d0cb1",
   "metadata": {},
   "outputs": [],
   "source": [
    "assay_results.chart_scores()"
   ]
  },
  {
   "cell_type": "markdown",
   "id": "e2cb0877",
   "metadata": {},
   "source": [
    "To start a weekly analysis of the previous week on a specific day, set the start date (taking care to specify the desired timezone), and the width and interval to 1 week.  The analysis will be generated when the window is complete."
   ]
  },
  {
   "cell_type": "code",
   "execution_count": null,
   "id": "17cbe82b",
   "metadata": {},
   "outputs": [],
   "source": [
    "report_start = datetime.datetime.fromisoformat('2022-01-03T00:00:00+00:00')\n",
    "\n",
    "assay_builder = wl.build_assay(assay_name, pipeline, model_name, baseline_start, baseline_end)\n",
    "assay_builder = assay_builder.add_run_until(last_day)\n",
    "\n",
    "assay_builder.window_builder().add_width(weeks=1).add_interval(weeks=1).add_start(report_start)\n",
    "\n",
    "assay_config = assay_builder.build()\n",
    "\n",
    "assay_results = assay_config.interactive_run()\n",
    "print(f\"Generated {len(assay_results)} analyses\")"
   ]
  },
  {
   "cell_type": "code",
   "execution_count": null,
   "id": "ab0a3ce9",
   "metadata": {},
   "outputs": [],
   "source": [
    "assay_results.chart_scores()"
   ]
  },
  {
   "cell_type": "markdown",
   "id": "eba542f2",
   "metadata": {},
   "source": [
    "## Advanced Configuration\n",
    "\n",
    "The assay can be configured in a variety of ways to help customize it to your particular needs. Specifically you can:\n",
    "* change the `BinMode` to evenly spaced, quantile or user provided\n",
    "* change the number of bins to use\n",
    "* provide weights to use when scoring the bins\n",
    "* calculate the score using the sum of differences, maximum difference or population stability index\n",
    "* change the value aggregation for the bins to density, cumulative or edges\n",
    "\n",
    "Let's take a look at these in turn.\n",
    "\n",
    "### Default configuration\n",
    "\n",
    "First let's look at the default configuration. This is a lot of information but much of it is useful to know where it is available.\n",
    "\n",
    "We see that the assay is broken up into 4 sections: \n",
    "  \n",
    "* Top level meta data section\n",
    "* Baseline specification\n",
    "* Window specification\n",
    "* The summarization configuration.\n",
    "\n",
    "In the meta section we see the name of the assay, that it runs on the first column of the first output `\"outputs 0 0\"` and that there is a default threshold of 0.25.\n",
    "\n",
    "The summarizer section shows us the defaults of Quantile, Density and PSI on 5 bins.\n",
    "\n",
    "The baseline section shows us that it is configured as a fixed baseline with the specified start and end date times.\n",
    "\n",
    "And the window tells us what model in the pipeline we are analyzing and how often."
   ]
  },
  {
   "cell_type": "code",
   "execution_count": null,
   "id": "84fc85e1",
   "metadata": {},
   "outputs": [],
   "source": [
    "assay_builder = wl.build_assay(\"Test Assay\", pipeline, model_name, baseline_start, baseline_end).add_run_until(last_day)\n",
    "print(assay_builder.build().to_json())"
   ]
  },
  {
   "cell_type": "markdown",
   "id": "bb967801",
   "metadata": {},
   "source": [
    "## Defaults\n",
    "\n",
    "We can run the assay interactively and review the first analysis. The method `compare_basic_stats` gives us a dataframe with basic stats for the baseline and window data."
   ]
  },
  {
   "cell_type": "code",
   "execution_count": null,
   "id": "de9faeac",
   "metadata": {},
   "outputs": [],
   "source": [
    "assay_results = assay_builder.build().interactive_run()\n",
    "ar = assay_results[0]\n",
    "\n",
    "ar.compare_basic_stats()"
   ]
  },
  {
   "cell_type": "markdown",
   "id": "ce6dbf9d",
   "metadata": {},
   "source": [
    "The method `compare_bins` gives us a dataframe with the bin information. Such as the number of bins, the right edges, suggested bin/edge names and the values for each bin in the baseline and the window."
   ]
  },
  {
   "cell_type": "code",
   "execution_count": null,
   "id": "6f8d7e78",
   "metadata": {},
   "outputs": [],
   "source": [
    "ar.compare_bins()"
   ]
  },
  {
   "cell_type": "markdown",
   "id": "28ef760c",
   "metadata": {},
   "source": [
    "We can also plot the chart to visualize the values of the bins."
   ]
  },
  {
   "cell_type": "code",
   "execution_count": null,
   "id": "92db57dd",
   "metadata": {},
   "outputs": [],
   "source": [
    "ar.chart()"
   ]
  },
  {
   "cell_type": "markdown",
   "id": "540ee24d",
   "metadata": {},
   "source": [
    "## Binning Mode\n",
    "\n",
    "We can change the bin mode algorithm to equal and see that the bins/edges are partitioned at different points and the bins have different values."
   ]
  },
  {
   "cell_type": "code",
   "execution_count": null,
   "id": "ca0832df",
   "metadata": {},
   "outputs": [],
   "source": [
    "assay_builder = wl.build_assay(\"Test Assay\", pipeline, model_name, baseline_start, baseline_end).add_run_until(last_day)\n",
    "assay_builder.summarizer_builder.add_bin_mode(BinMode.EQUAL)\n",
    "assay_results = assay_builder.build().interactive_run()\n",
    "display(display(assay_results[0].compare_bins()))\n",
    "assay_results[0].chart()"
   ]
  },
  {
   "cell_type": "markdown",
   "id": "ed4f8aff",
   "metadata": {},
   "source": [
    "## User Provided Bin Edges\n",
    "\n",
    "The values in this dataset run from ~11.6 to ~15.81. And let's say we had a business reason to use specific bin edges.  We can specify them with the BinMode.PROVIDED and specifying a list of floats with the right hand / upper edge of each bin and optionally the lower edge of the smallest bin. If the lowest edge is not specified the threshold for left outliers is taken from the smallest value in the baseline dataset."
   ]
  },
  {
   "cell_type": "code",
   "execution_count": null,
   "id": "cd2a930d",
   "metadata": {},
   "outputs": [],
   "source": [
    "edges = [11.0, 12.0, 13.0, 14.0, 15.0, 16.0]\n",
    "assay_builder = wl.build_assay(\"Test Assay\", pipeline, model_name, baseline_start, baseline_end).add_run_until(last_day)\n",
    "assay_builder.summarizer_builder.add_bin_mode(BinMode.PROVIDED, edges)\n",
    "assay_results = assay_builder.build().interactive_run()\n",
    "display(display(assay_results[0].compare_bins()))\n",
    "assay_results[0].chart()"
   ]
  },
  {
   "cell_type": "markdown",
   "id": "31148224",
   "metadata": {},
   "source": [
    "## Number of Bins\n",
    "\n",
    "We could also choose to a different number of bins, let's say 10, which can be evenly spaced or based on the quantiles (deciles)."
   ]
  },
  {
   "cell_type": "code",
   "execution_count": null,
   "id": "ff481849",
   "metadata": {},
   "outputs": [],
   "source": [
    "assay_builder = wl.build_assay(\"Test Assay\", pipeline, model_name, baseline_start, baseline_end).add_run_until(last_day)\n",
    "assay_builder.summarizer_builder.add_bin_mode(BinMode.QUANTILE).add_num_bins(10)\n",
    "assay_results = assay_builder.build().interactive_run()\n",
    "display(display(assay_results[1].compare_bins()))\n",
    "assay_results[1].chart()"
   ]
  },
  {
   "cell_type": "markdown",
   "id": "08c65a59",
   "metadata": {},
   "source": [
    "## Bin Weights\n",
    "\n",
    "Now let's say we only care about differences at the higher end of the range. We can use weights to specify that difference in the lower bins should not be counted in the score. \n",
    "\n",
    "If we stick with 10 bins we can provide 10 a vector of 12 weights. One weight each for the original bins plus one at the front for the left outlier bin and one at the end for the right outlier bin.\n",
    "\n",
    "Note we still show the values for the bins but the scores for the lower 5 and left outlier are 0 and only the right half is counted and reflected in the score."
   ]
  },
  {
   "cell_type": "code",
   "execution_count": null,
   "id": "d37caebd",
   "metadata": {},
   "outputs": [],
   "source": [
    "weights = [0] * 6\n",
    "weights.extend([1] * 6)\n",
    "print(\"Using weights: \", weights)\n",
    "assay_builder = wl.build_assay(\"Test Assay\", pipeline, model_name, baseline_start, baseline_end).add_run_until(last_day)\n",
    "assay_builder.summarizer_builder.add_bin_mode(BinMode.QUANTILE).add_num_bins(10).add_bin_weights(weights)\n",
    "assay_results = assay_builder.build().interactive_run()\n",
    "display(display(assay_results[1].compare_bins()))\n",
    "assay_results[1].chart()"
   ]
  },
  {
   "cell_type": "markdown",
   "id": "1c8fd313",
   "metadata": {},
   "source": [
    "## Metrics\n",
    "\n",
    "The `score` is a distance or dis-similarity measure. The larger it is the less similar the two distributions are. We currently support\n",
    "summing the differences of each individual bin, taking the maximum difference and a modified Population Stability Index (PSI).\n",
    "\n",
    "The following three charts use each of the metrics. Note how the scores change. The best one will depend on your particular use case."
   ]
  },
  {
   "cell_type": "code",
   "execution_count": null,
   "id": "c5ebda6f",
   "metadata": {},
   "outputs": [],
   "source": [
    "assay_builder = wl.build_assay(\"Test Assay\", pipeline, model_name, baseline_start, baseline_end).add_run_until(last_day)\n",
    "assay_results = assay_builder.build().interactive_run()\n",
    "assay_results[0].chart()"
   ]
  },
  {
   "cell_type": "code",
   "execution_count": null,
   "id": "1170b423",
   "metadata": {},
   "outputs": [],
   "source": [
    "assay_builder = wl.build_assay(\"Test Assay\", pipeline, model_name, baseline_start, baseline_end).add_run_until(last_day)\n",
    "assay_builder.summarizer_builder.add_metric(Metric.SUMDIFF)\n",
    "assay_results = assay_builder.build().interactive_run()\n",
    "assay_results[0].chart()"
   ]
  },
  {
   "cell_type": "code",
   "execution_count": null,
   "id": "aadfa497",
   "metadata": {},
   "outputs": [],
   "source": [
    "assay_builder = wl.build_assay(\"Test Assay\", pipeline, model_name, baseline_start, baseline_end).add_run_until(last_day)\n",
    "assay_builder.summarizer_builder.add_metric(Metric.MAXDIFF)\n",
    "assay_results = assay_builder.build().interactive_run()\n",
    "assay_results[0].chart()"
   ]
  },
  {
   "cell_type": "markdown",
   "id": "520ac9f6",
   "metadata": {},
   "source": [
    "## Aggregation Options\n",
    "\n",
    "Also, bin aggregation can be done in histogram `Aggregation.DENSITY` style (the default) where we count the number/percentage of values that fall in each bin or Empirical Cumulative Density Function style `Aggregation.CUMULATIVE` where we keep a cumulative count of the values/percentages that fall in each bin."
   ]
  },
  {
   "cell_type": "code",
   "execution_count": null,
   "id": "e02e4a52",
   "metadata": {},
   "outputs": [],
   "source": [
    "assay_builder = wl.build_assay(\"Test Assay\", pipeline, model_name, baseline_start, baseline_end).add_run_until(last_day)\n",
    "assay_builder.summarizer_builder.add_aggregation(Aggregation.DENSITY)\n",
    "assay_results = assay_builder.build().interactive_run()\n",
    "assay_results[0].chart()"
   ]
  },
  {
   "cell_type": "code",
   "execution_count": null,
   "id": "a80e60bd",
   "metadata": {},
   "outputs": [],
   "source": [
    "assay_builder = wl.build_assay(\"Test Assay\", pipeline, model_name, baseline_start, baseline_end).add_run_until(last_day)\n",
    "assay_builder.summarizer_builder.add_aggregation(Aggregation.CUMULATIVE)\n",
    "assay_results = assay_builder.build().interactive_run()\n",
    "assay_results[0].chart()"
   ]
  }
 ],
 "metadata": {
  "kernelspec": {
   "display_name": "wallaroosdk",
   "language": "python",
   "name": "python3"
  },
  "language_info": {
   "codemirror_mode": {
    "name": "ipython",
    "version": 3
   },
   "file_extension": ".py",
   "mimetype": "text/x-python",
   "name": "python",
   "nbconvert_exporter": "python",
   "pygments_lexer": "ipython3",
   "version": "3.8.15 (default, Nov 24 2022, 08:57:44) \n[Clang 14.0.6 ]"
  },
  "vscode": {
   "interpreter": {
    "hash": "e951b583e3fbbcadfc15df61f9ed97fb9a76f59b2130f2cdf4d0033aa05e7e64"
   }
  }
 },
 "nbformat": 4,
 "nbformat_minor": 5
}
