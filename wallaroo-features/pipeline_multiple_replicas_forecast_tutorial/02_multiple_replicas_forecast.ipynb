{
 "cells": [
  {
   "attachments": {},
   "cell_type": "markdown",
   "metadata": {},
   "source": [
    "## Async Forecast Infer\n",
    "\n",
    "### Import Libraries\n",
    "\n",
    "The first step is to import the libraries that we will need."
   ]
  },
  {
   "cell_type": "code",
   "execution_count": null,
   "metadata": {},
   "outputs": [],
   "source": [
    "import json\n",
    "import os\n",
    "import datetime\n",
    "\n",
    "import wallaroo\n",
    "from wallaroo.object import EntityNotFoundError\n",
    "from wallaroo.framework import Framework\n",
    "\n",
    "# used to display dataframe information without truncating\n",
    "from IPython.display import display\n",
    "import pandas as pd\n",
    "import numpy as np\n",
    "\n",
    "from resources import simdb\n",
    "from resources import util\n",
    "\n",
    "pd.set_option('display.max_colwidth', None)"
   ]
  },
  {
   "cell_type": "code",
   "execution_count": null,
   "metadata": {},
   "outputs": [],
   "source": [
    "display(wallaroo.__version__)"
   ]
  },
  {
   "attachments": {},
   "cell_type": "markdown",
   "metadata": {},
   "source": [
    "### Initialize connection\n",
    "\n",
    "Start a connect to the Wallaroo instance and save the connection into the variable `wl`."
   ]
  },
  {
   "cell_type": "code",
   "execution_count": null,
   "metadata": {},
   "outputs": [],
   "source": [
    "# Login through local Wallaroo instance\n",
    "\n",
    "wl = wallaroo.Client()"
   ]
  },
  {
   "attachments": {},
   "cell_type": "markdown",
   "metadata": {},
   "source": [
    "### Set Configurations\n",
    "\n",
    "The following will set the workspace, model name, and pipeline that will be used for this example.  If the workspace or pipeline already exist, then they will assigned for use in this example.  If they do not exist, they will be created based on the names listed below."
   ]
  },
  {
   "cell_type": "code",
   "execution_count": null,
   "metadata": {},
   "outputs": [],
   "source": [
    "# used for unique connection names\n",
    "\n",
    "import string\n",
    "import random\n",
    "\n",
    "suffix= ''.join(random.choice(string.ascii_lowercase) for i in range(4))\n",
    "\n",
    "\n",
    "workspace_name = f'multiple-replica-forecast-tutorial-{suffix}'\n",
    "pipeline_name = 'bikedaypipe'\n",
    "model_name = 'bikedaymodel'"
   ]
  },
  {
   "attachments": {},
   "cell_type": "markdown",
   "metadata": {},
   "source": [
    "## Set the Workspace and Pipeline\n"
   ]
  },
  {
   "cell_type": "code",
   "execution_count": null,
   "metadata": {},
   "outputs": [],
   "source": [
    "def get_workspace(name):\n",
    "    workspace = None\n",
    "    for ws in wl.list_workspaces():\n",
    "        if ws.name() == name:\n",
    "            workspace= ws\n",
    "    if(workspace == None):\n",
    "        workspace = wl.create_workspace(name)\n",
    "    return workspace\n",
    "\n",
    "def get_pipeline(name):\n",
    "    try:\n",
    "        pipeline = wl.pipelines_by_name(name)[0]\n",
    "    except EntityNotFoundError:\n",
    "        pipeline = wl.build_pipeline(name)\n",
    "    return pipeline\n",
    "\n",
    "workspace = get_workspace(workspace_name)\n",
    "\n",
    "wl.set_current_workspace(workspace)\n",
    "\n",
    "pipeline = get_pipeline(pipeline_name)\n",
    "\n"
   ]
  },
  {
   "cell_type": "code",
   "execution_count": null,
   "metadata": {},
   "outputs": [],
   "source": [
    "model_file_name = 'forecast.py'\n",
    "\n",
    "bike_day_model = wl.upload_model(model_name, model_file_name, Framework.PYTHON).configure(runtime=\"python\")"
   ]
  },
  {
   "cell_type": "code",
   "execution_count": null,
   "metadata": {},
   "outputs": [],
   "source": [
    "pipeline.add_model_step(bike_day_model)"
   ]
  },
  {
   "cell_type": "code",
   "execution_count": null,
   "metadata": {},
   "outputs": [],
   "source": [
    "# Set the deployment to allow for additional engines to run\n",
    "deploy_config = (wallaroo.DeploymentConfigBuilder()\n",
    "                        .replica_count(4)\n",
    "                        .cpus(1)\n",
    "                        .memory(\"1Gi\")\n",
    "                        .build()\n",
    "                    )\n",
    "\n",
    "pipeline.deploy(deployment_config = deploy_config)"
   ]
  },
  {
   "attachments": {},
   "cell_type": "markdown",
   "metadata": {},
   "source": [
    "### Run Inference\n",
    "For this example, we will forecast bike rentals for the following seven days, based on the previous month's rentals (inclusive of \"today\")."
   ]
  },
  {
   "cell_type": "code",
   "execution_count": null,
   "metadata": {},
   "outputs": [],
   "source": [
    "# retrieve forecast schedule\n",
    "first_day, analysis_days = util.get_forecast_days()\n",
    "\n",
    "print(f'Running analysis on {first_day}')"
   ]
  },
  {
   "cell_type": "code",
   "execution_count": null,
   "metadata": {},
   "outputs": [],
   "source": [
    "# connect to SQL data base \n",
    "conn = simdb.get_db_connection()\n",
    "print(f'Bike rentals table: {simdb.tablename}')\n",
    "\n",
    "# create the query and retrieve data\n",
    "query = util.mk_dt_range_query(tablename=simdb.tablename, forecast_day=first_day)\n",
    "print(query)\n",
    "data = pd.read_sql_query(query, conn)\n",
    "data.head()"
   ]
  },
  {
   "cell_type": "code",
   "execution_count": null,
   "metadata": {},
   "outputs": [],
   "source": [
    "pd.read_sql_query(\"select date, cnt from bikerentals where date > DATE(DATE('2011-02-22'), '-1 month') AND date <= DATE('2011-02-22') LIMIT 5\", conn)"
   ]
  },
  {
   "cell_type": "code",
   "execution_count": null,
   "metadata": {},
   "outputs": [],
   "source": [
    "# send data to model for forecast\n",
    "\n",
    "results = pipeline.infer(data.to_dict(orient='list'))[0]\n",
    "results\n"
   ]
  },
  {
   "cell_type": "code",
   "execution_count": null,
   "metadata": {},
   "outputs": [],
   "source": [
    "# annotate with the appropriate dates (the next seven days)\n",
    "resultframe = pd.DataFrame({\n",
    "    'date' : util.get_forecast_dates(first_day),\n",
    "    'forecast' : results['forecast']\n",
    "})\n",
    "\n",
    "# write the new data to the db table \"bikeforecast\"\n",
    "resultframe.to_sql('bikeforecast', conn, index=False, if_exists='append')\n",
    "\n",
    "# display the db table\n",
    "query = \"select date, forecast from bikeforecast\"\n",
    "pd.read_sql_query(query, conn)"
   ]
  },
  {
   "attachments": {},
   "cell_type": "markdown",
   "metadata": {},
   "source": [
    "# Four weeks of inferences\n",
    "\n",
    "We'll do it all in a loop, to get inferences for the entire month of March."
   ]
  },
  {
   "cell_type": "code",
   "execution_count": null,
   "metadata": {},
   "outputs": [],
   "source": [
    "# get our list of items to run through\n",
    "\n",
    "inference_data = []\n",
    "\n",
    "content_type = \"application/json\"\n",
    "\n",
    "days = []\n",
    "\n",
    "for day in analysis_days:\n",
    "    print(f\"Current date: {day}\")\n",
    "    days.append(day)\n",
    "    query = util.mk_dt_range_query(tablename=simdb.tablename, forecast_day=day)\n",
    "    print(query)\n",
    "    data = pd.read_sql_query(query, conn)\n",
    "    inference_data.append(data.to_dict(orient='list'))"
   ]
  },
  {
   "cell_type": "code",
   "execution_count": null,
   "metadata": {},
   "outputs": [],
   "source": [
    "parallel_results = await pipeline.parallel_infer(tensor_list=inference_data, timeout=20, num_parallel=16, retries=2)"
   ]
  },
  {
   "cell_type": "code",
   "execution_count": null,
   "metadata": {},
   "outputs": [],
   "source": [
    "display(parallel_results)"
   ]
  },
  {
   "attachments": {},
   "cell_type": "markdown",
   "metadata": {},
   "source": [
    "### Upload into DataBase\n",
    "\n",
    "With our results, we'll merge the results we have into the days we were looking to analyze.  Then we can upload the results into the sample database and display the results."
   ]
  },
  {
   "cell_type": "code",
   "execution_count": null,
   "metadata": {},
   "outputs": [],
   "source": [
    "# merge the days and the results\n",
    "\n",
    "days_results = list(zip(days, parallel_results))"
   ]
  },
  {
   "cell_type": "code",
   "execution_count": null,
   "metadata": {},
   "outputs": [],
   "source": [
    "# upload to the database\n",
    "for day_result in days_results:\n",
    "    resultframe = pd.DataFrame({\n",
    "        'date' : util.get_forecast_dates(day_result[0]),\n",
    "        'forecast' : day_result[1][0]['forecast']\n",
    "    })\n",
    "    resultframe.to_sql('bikeforecast', conn, index=False, if_exists='append')"
   ]
  },
  {
   "attachments": {},
   "cell_type": "markdown",
   "metadata": {},
   "source": [
    "On April 1st, we can compare March forecasts to actuals"
   ]
  },
  {
   "cell_type": "code",
   "execution_count": null,
   "metadata": {},
   "outputs": [],
   "source": [
    "query = f'''SELECT bikeforecast.date AS date, forecast, cnt AS actual\n",
    "            FROM bikeforecast LEFT JOIN bikerentals\n",
    "            ON bikeforecast.date = bikerentals.date\n",
    "            WHERE bikeforecast.date >= DATE('2011-03-01')\n",
    "            AND bikeforecast.date <  DATE('2011-04-01')\n",
    "            ORDER BY 1'''\n",
    "\n",
    "print(query)\n",
    "\n",
    "\n",
    "comparison = pd.read_sql_query(query, conn)\n",
    "comparison"
   ]
  },
  {
   "attachments": {},
   "cell_type": "markdown",
   "metadata": {},
   "source": [
    "### Undeploy the Pipeline\n",
    "\n",
    "Undeploy the pipeline and return the resources back to the Wallaroo instance."
   ]
  },
  {
   "cell_type": "code",
   "execution_count": null,
   "metadata": {},
   "outputs": [],
   "source": [
    "conn.close()\n",
    "pipeline.undeploy()"
   ]
  },
  {
   "cell_type": "code",
   "execution_count": null,
   "metadata": {},
   "outputs": [],
   "source": []
  }
 ],
 "metadata": {
  "kernelspec": {
   "display_name": "Python 3 (ipykernel)",
   "language": "python",
   "name": "python3"
  },
  "language_info": {
   "codemirror_mode": {
    "name": "ipython",
    "version": 3
   },
   "file_extension": ".py",
   "mimetype": "text/x-python",
   "name": "python",
   "nbconvert_exporter": "python",
   "pygments_lexer": "ipython3",
   "version": "3.9.13"
  },
  "vscode": {
   "interpreter": {
    "hash": "7dda4bf3640b7fafcd1648658b879b4cc9f6ba6084e8fb356fdaaa1a461d1690"
   }
  }
 },
 "nbformat": 4,
 "nbformat_minor": 4
}
