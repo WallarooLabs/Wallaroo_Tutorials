{
 "cells": [
  {
   "cell_type": "markdown",
   "metadata": {},
   "source": [
    "## Statsmodel Forecast with Wallaroo Features: ML Workload Orchestration\n",
    "\n",
    "Wallaroo provides Data Connections and ML Workload Orchestrations to provide organizations with a method of creating and managing automated tasks that can either be run on demand or a regular schedule.\n",
    "\n",
    "## Prerequisites\n",
    "\n",
    "* A Wallaroo instance version 2023.2.1 or greater.\n",
    "\n",
    "## References\n",
    "\n",
    "* [Wallaroo SDK Essentials Guide: Model Uploads and Registrations: Python Models](https://docs.wallaroo.ai/wallaroo-developer-guides/wallaroo-sdk-guides/wallaroo-sdk-essentials-guide/wallaroo-sdk-model-uploads/wallaroo-sdk-model-upload-python/)\n",
    "* [Wallaroo SDK Essentials Guide: Pipeline Management](https://docs.wallaroo.ai/wallaroo-developer-guides/wallaroo-sdk-guides/wallaroo-sdk-essentials-guide/wallaroo-sdk-essentials-pipelines/wallaroo-sdk-essentials-pipeline/)\n",
    "* [Wallaroo SDK Essentials Guide: ML Workload Orchestration](https://docs.wallaroo.ai/wallaroo-developer-guides/wallaroo-sdk-guides/wallaroo-sdk-essentials-guide/wallaroo-sdk-essentials-ml-workload-orchestration/)"
   ]
  },
  {
   "cell_type": "markdown",
   "metadata": {},
   "source": [
    "## Orchestrations, Taks, and Tasks Runs\n",
    "\n",
    "We've details how Wallaroo Connections work.  Now we'll use Orchestrations, Tasks, and Task Runs.\n",
    "\n",
    "| Item | Description |\n",
    "|---|---|\n",
    "| Orchestration | ML Workload orchestration allows data scientists and ML Engineers to automate and scale production ML workflows in Wallaroo to ensure a tight feedback loop and continuous tuning of models from training to production. Wallaroo platform users (data scientists or ML Engineers) have the ability to deploy, automate and scale recurring batch production ML workloads that can ingest data from predefined data sources to run inferences in Wallaroo, chain pipelines, and send inference results to predefined destinations to analyze model insights and assess business outcomes. |\n",
    "| Task | An implementation of an Orchestration.  Tasks can be either `Run Once`:  They run once and upon completion, stop. `Run Scheduled`: The task runs whenever a specific `cron` like schedule is reached.  Scheduled tasks will run until the `kill` command is issued. |\n",
    "| Task Run | The execusion of a task.  For `Run Once` tasks, there will be only one `Run Task`.  A `Run Scheduled` tasks will have multiple tasks, one for every time the schedule parameter is met.  Task Runs have their own log files that can be examined to track progress and results. |"
   ]
  },
  {
   "cell_type": "markdown",
   "metadata": {},
   "source": [
    "## Statsmodel Forecast Connection Steps\n",
    "\n",
    "### Import Libraries\n",
    "\n",
    "The first step is to import the libraries that we will need."
   ]
  },
  {
   "cell_type": "code",
   "execution_count": 1,
   "metadata": {},
   "outputs": [],
   "source": [
    "import json\n",
    "import os\n",
    "import datetime\n",
    "\n",
    "import wallaroo\n",
    "from wallaroo.object import EntityNotFoundError\n",
    "from wallaroo.framework import Framework\n",
    "\n",
    "# used to display dataframe information without truncating\n",
    "from IPython.display import display\n",
    "import pandas as pd\n",
    "import numpy as np\n",
    "\n",
    "pd.set_option('display.max_colwidth', None)\n",
    "\n",
    "import time"
   ]
  },
  {
   "cell_type": "code",
   "execution_count": 2,
   "metadata": {},
   "outputs": [
    {
     "data": {
      "text/plain": [
       "'2023.2.1'"
      ]
     },
     "metadata": {},
     "output_type": "display_data"
    }
   ],
   "source": [
    "display(wallaroo.__version__)"
   ]
  },
  {
   "cell_type": "markdown",
   "metadata": {},
   "source": [
    "### Connect to the Wallaroo Instance\n",
    "\n",
    "The first step is to connect to Wallaroo through the Wallaroo client.  The Python library is included in the Wallaroo install and available through the Jupyter Hub interface provided with your Wallaroo environment.\n",
    "\n",
    "This is accomplished using the `wallaroo.Client()` command, which provides a URL to grant the SDK permission to your specific Wallaroo environment.  When displayed, enter the URL into a browser and confirm permissions.  Store the connection into a variable that can be referenced later.\n",
    "\n",
    "If logging into the Wallaroo instance through the internal JupyterHub service, use `wl = wallaroo.Client()`.  For more information on Wallaroo Client settings, see the [Client Connection guide](https://docs.wallaroo.ai/wallaroo-developer-guides/wallaroo-sdk-guides/wallaroo-sdk-essentials-guide/wallaroo-sdk-essentials-client/)."
   ]
  },
  {
   "cell_type": "code",
   "execution_count": 3,
   "metadata": {},
   "outputs": [],
   "source": [
    "# Login through local Wallaroo instance\n",
    "\n",
    "wl = wallaroo.Client()"
   ]
  },
  {
   "cell_type": "markdown",
   "metadata": {},
   "source": [
    "### Set Configurations\n",
    "\n",
    "The following will set the workspace, model name, and pipeline that will be used for this example.  If the workspace or pipeline already exist, then they will assigned for use in this example.  If they do not exist, they will be created based on the names listed below.\n",
    "\n",
    "Workspace names must be unique.  To allow this tutorial to run in the same Wallaroo instance for multiple users, set the `suffix` variable or share the workspace with other users.\n",
    "\n",
    "#### Set Configurations References\n",
    "\n",
    "* [Wallaroo SDK Essentials Guide: Workspace Management](https://docs.wallaroo.ai/wallaroo-developer-guides/wallaroo-sdk-guides/wallaroo-sdk-essentials-guide/wallaroo-sdk-essentials-workspace/)\n",
    "* [Wallaroo SDK Essentials Guide: Pipeline Management](https://docs.wallaroo.ai/wallaroo-developer-guides/wallaroo-sdk-guides/wallaroo-sdk-essentials-guide/wallaroo-sdk-essentials-pipelines/wallaroo-sdk-essentials-pipeline/)"
   ]
  },
  {
   "cell_type": "code",
   "execution_count": 4,
   "metadata": {},
   "outputs": [],
   "source": [
    "# used for unique connection names\n",
    "\n",
    "import string\n",
    "import random\n",
    "\n",
    "suffix= ''.join(random.choice(string.ascii_lowercase) for i in range(4))\n",
    "\n",
    "workspace_name = f'multiple-replica-forecast-tutorial-{suffix}'\n",
    "pipeline_name = 'bikedaypipe'\n",
    "model_name = 'bikedaymodel'\n",
    "model_file_name = './models/forecast_standard.py'"
   ]
  },
  {
   "cell_type": "markdown",
   "metadata": {},
   "source": [
    "### Set the Workspace and Pipeline\n",
    "\n",
    "The workspace will be either used or created if it does not exist, along with the pipeline.  The models uploaded in the Upload and Deploy tutorial are referenced in this step."
   ]
  },
  {
   "cell_type": "code",
   "execution_count": 5,
   "metadata": {},
   "outputs": [],
   "source": [
    "## convenience functions from the previous notebooks\n",
    "## these functions assume your connection to wallaroo is called wl\n",
    "\n",
    "# return the workspace called <name>, or create it if it does not exist.\n",
    "# this function assumes your connection to wallaroo is called wl\n",
    "def get_workspace(name):\n",
    "    workspace = None\n",
    "    for ws in wl.list_workspaces():\n",
    "        if ws.name() == name:\n",
    "            workspace= ws\n",
    "    if(workspace == None):\n",
    "        workspace = wl.create_workspace(name)\n",
    "    return workspace\n",
    "\n",
    "def get_singleton_forecast(df, field):\n",
    "    singleton = pd.DataFrame({field: [df[field].values.tolist()]})\n",
    "    return singleton\n",
    "\n",
    "# Get the most recent version of a model in the workspace\n",
    "# Assumes that the most recent version is the first in the list of versions.\n",
    "# wl.get_current_workspace().models() returns a list of models in the current workspace\n",
    "\n",
    "def get_model(mname):\n",
    "    modellist = wl.get_current_workspace().models()\n",
    "    model = [m.versions()[-1] for m in modellist if m.name() == mname]\n",
    "    if len(model) <= 0:\n",
    "        raise KeyError(f\"model {mname} not found in this workspace\")\n",
    "    return model[0]\n",
    "\n",
    "# get a pipeline by name in the workspace\n",
    "def get_pipeline(pname):\n",
    "    plist = wl.get_current_workspace().pipelines()\n",
    "    pipeline = [p for p in plist if p.name() == pname]\n",
    "    if len(pipeline) <= 0:\n",
    "        raise KeyError(f\"pipeline {pname} not found in this workspace\")\n",
    "    return pipeline[0]"
   ]
  },
  {
   "cell_type": "code",
   "execution_count": 6,
   "metadata": {},
   "outputs": [],
   "source": [
    "workspace = get_workspace(workspace_name)\n",
    "\n",
    "wl.set_current_workspace(workspace)\n",
    "\n",
    "pipeline = get_pipeline(pipeline_name)\n",
    "\n",
    "bike_day_model = get_model(model_name)"
   ]
  },
  {
   "cell_type": "markdown",
   "metadata": {},
   "source": [
    "### Deploy Pipeline\n",
    "\n",
    "The pipeline is already set witht the model.  For our demo we'll verify that it's deployed."
   ]
  },
  {
   "cell_type": "code",
   "execution_count": 7,
   "metadata": {},
   "outputs": [
    {
     "data": {
      "text/html": [
       "<table><tr><th>name</th> <td>bikedaypipe</td></tr><tr><th>created</th> <td>2023-08-30 16:35:13.214513+00:00</td></tr><tr><th>last_updated</th> <td>2023-08-30 18:08:51.972661+00:00</td></tr><tr><th>deployed</th> <td>True</td></tr><tr><th>tags</th> <td></td></tr><tr><th>versions</th> <td>ab812d0f-f180-4009-8aa5-391293caf97a, 90dc8495-df27-4121-ad87-96e47ebbd88b, f5cf610b-be30-46c2-8b00-021af2a28bdd, 02dcf27d-c55c-4b05-9287-d649f6dafd80, fc83ce79-8106-4f51-804e-e1fac17a9176, 4c387893-ff95-4936-99a4-fa8c27586366, 19d13dbe-4cbe-4b5e-8057-e693aed2af15, 1f8b7439-2b7a-4dba-9b89-d7fc25ef267f, eca8033b-6409-4f8e-ab5c-10a871fa97cb, 938f7f64-be97-4c3b-824b-4d1b15698ef0</td></tr><tr><th>steps</th> <td>bikedaymodel</td></tr></table>"
      ],
      "text/plain": [
       "{'name': 'bikedaypipe', 'create_time': datetime.datetime(2023, 8, 30, 16, 35, 13, 214513, tzinfo=tzutc()), 'definition': \"[{'ModelInference': {'models': [{'name': 'bikedaymodel', 'version': 'fe8ec39b-e926-4d01-9073-f46face2e9a8', 'sha': '3cd2acdd1f513f46615be7aa5beac16f09903be851e91f20f6dcdead4a48faa0'}]}}]\"}"
      ]
     },
     "execution_count": 7,
     "metadata": {},
     "output_type": "execute_result"
    }
   ],
   "source": [
    "# Set the deployment to allow for additional engines to run\n",
    "# Undeploy and clear the pipeline in case it was used in other demonstrations\n",
    "pipeline.undeploy()\n",
    "pipeline.clear()\n",
    "\n",
    "pipeline.add_model_step(bike_day_model)\n",
    "# pipeline.add_model_step(step)\n",
    "pipeline.deploy()"
   ]
  },
  {
   "cell_type": "markdown",
   "metadata": {},
   "source": [
    "### Sample Inference\n",
    "\n",
    "Verify the pipeline is deployed properly with a sample inference.\n",
    "\n"
   ]
  },
  {
   "cell_type": "code",
   "execution_count": 9,
   "metadata": {},
   "outputs": [
    {
     "data": {
      "text/html": [
       "<div>\n",
       "<style scoped>\n",
       "    .dataframe tbody tr th:only-of-type {\n",
       "        vertical-align: middle;\n",
       "    }\n",
       "\n",
       "    .dataframe tbody tr th {\n",
       "        vertical-align: top;\n",
       "    }\n",
       "\n",
       "    .dataframe thead th {\n",
       "        text-align: right;\n",
       "    }\n",
       "</style>\n",
       "<table border=\"1\" class=\"dataframe\">\n",
       "  <thead>\n",
       "    <tr style=\"text-align: right;\">\n",
       "      <th></th>\n",
       "      <th>time</th>\n",
       "      <th>in.count</th>\n",
       "      <th>out.forecast</th>\n",
       "      <th>out.weekly_average</th>\n",
       "      <th>check_failures</th>\n",
       "    </tr>\n",
       "  </thead>\n",
       "  <tbody>\n",
       "    <tr>\n",
       "      <th>0</th>\n",
       "      <td>2023-08-30 18:09:55.040</td>\n",
       "      <td>[1349, 1562, 1600, 1606, 1510, 959, 822, 1321, 1263, 1162, 1406, 1421, 1248, 1204, 1000, 683, 1650, 1927, 1543, 981, 986]</td>\n",
       "      <td>[1278, 1295, 1295, 1295, 1295, 1295, 1295]</td>\n",
       "      <td>[1292.5714285714287]</td>\n",
       "      <td>0</td>\n",
       "    </tr>\n",
       "  </tbody>\n",
       "</table>\n",
       "</div>"
      ],
      "text/plain": [
       "                     time  \\\n",
       "0 2023-08-30 18:09:55.040   \n",
       "\n",
       "                                                                                                                    in.count  \\\n",
       "0  [1349, 1562, 1600, 1606, 1510, 959, 822, 1321, 1263, 1162, 1406, 1421, 1248, 1204, 1000, 683, 1650, 1927, 1543, 981, 986]   \n",
       "\n",
       "                                 out.forecast    out.weekly_average  \\\n",
       "0  [1278, 1295, 1295, 1295, 1295, 1295, 1295]  [1292.5714285714287]   \n",
       "\n",
       "   check_failures  \n",
       "0               0  "
      ]
     },
     "metadata": {},
     "output_type": "display_data"
    }
   ],
   "source": [
    "\n",
    "sample_count = pd.read_csv('./data/test_data.csv')\n",
    "inference_df = get_singleton_forecast(sample_count.loc[2:22], 'count')\n",
    "\n",
    "results = pipeline.infer(inference_df)\n",
    "\n",
    "display(results)"
   ]
  },
  {
   "cell_type": "markdown",
   "metadata": {},
   "source": [
    "### Forecast Sample Orchestration\n",
    "\n",
    "The orchestration that will automate this process is `./resources/forecast-orchestration.zip`.  The files used are stored in the directory `forecast-orchestration`, created with the command:\n",
    "\n",
    "`zip -r forecast-bigquery-connection.zip forecast-orchestration/`.\n",
    "\n",
    "This contains the following:\n",
    "\n",
    "* `requirements.txt`:  The Python requirements file to specify the following libraries used.  For this example, that will be empty since we will be using the \n",
    "* `main.py`: The entry file that uses a deployed pipeline and performs an inference request against it visible from its log files.\n",
    "* `data/testdata_dict.json`: An inference input file.\n",
    "\n",
    "The `main.py` script performs a workspace and pipeline retrieval, then an inference against the inference input file.\n",
    "\n",
    "```python\n",
    "import wallaroo\n",
    "from wallaroo.object import EntityNotFoundError\n",
    "import pandas as pd\n",
    "\n",
    "wl = wallaroo.Client()\n",
    "\n",
    "# get the arguments\n",
    "arguments = wl.task_args()\n",
    "\n",
    "if \"workspace_name\" in arguments:\n",
    "    workspace_name = arguments['workspace_name']\n",
    "else:\n",
    "    workspace_name=\"forecast-model-workshop\"\n",
    "\n",
    "if \"pipeline_name\" in arguments:\n",
    "    pipeline_name = arguments['pipeline_name']\n",
    "else:\n",
    "    pipeline_name=\"bikedaypipe\"\n",
    "\n",
    "def get_workspace(name):\n",
    "    workspace = None\n",
    "    for ws in wl.list_workspaces():\n",
    "        if ws.name() == name:\n",
    "            workspace= ws\n",
    "    return workspace\n",
    "\n",
    "def get_pipeline(name):\n",
    "    try:\n",
    "        pipeline = wl.pipelines_by_name(name)[0]\n",
    "    except EntityNotFoundError:\n",
    "        print(f\"Pipeline not found:{name}\")\n",
    "    return pipeline\n",
    "\n",
    "def get_singleton_forecast(df, field):\n",
    "    singleton = pd.DataFrame({field: [df[field].values.tolist()]})\n",
    "    return singleton\n",
    "\n",
    "print(f\"Workspace: {workspace_name}\")\n",
    "workspace = get_workspace(workspace_name)\n",
    "\n",
    "wl.set_current_workspace(workspace)\n",
    "print(workspace)\n",
    "\n",
    "# the pipeline is assumed to be deployed\n",
    "print(f\"Pipeline: {pipeline_name}\")\n",
    "pipeline = get_pipeline(pipeline_name)\n",
    "print(pipeline)\n",
    "\n",
    "print(pipeline.status())\n",
    "\n",
    "sample_count = pd.read_csv('./data/test_data.csv')\n",
    "inference_df = get_singleton_forecast(sample_count.loc[2:22], 'count')\n",
    "\n",
    "results = pipeline.infer(inference_df)\n",
    "\n",
    "print(results)\n",
    "```\n",
    "\n",
    "A few things to go over here.  You'll notice this is almost the exact procedures we've been following so far:  we get a workspace and pipeline, pull data from a CSV file, and perform an inference off the data.\n",
    "\n",
    "This script assumes that the pipeline has already been deployed, and also includes this part:\n",
    "\n",
    "`arguments = wl.task_args()`\n",
    "\n",
    "This allows us to pass arguments into a Task created from an Orchestration, so we can specify a different workspace, pipeline, or any other arguments we construct.  This allows orchestrations to be very flexible.\n",
    "\n",
    "Also, notice that it refers to a specific file:\n",
    "\n",
    "`sample_count = pd.read_csv('./data/test_data.csv')`\n",
    "\n",
    "In the `forecast-orchestration` directory is the `data` directory with our sample CSV file.  Orchestrations can include additional artifacts.  We could have used a Wallaroo Connection instead, and we encourage you to try that if you want."
   ]
  },
  {
   "cell_type": "markdown",
   "metadata": {},
   "source": [
    "### Upload the Orchestration\n",
    "\n",
    "Orchestrations are uploaded with the Wallaroo client `upload_orchestration(path)` method with the following parameters.\n",
    "\n",
    "| Parameter | Type | Description |\n",
    "| --- | --- | ---|\n",
    "| **path** | string (Required) | The path to the ZIP file to be uploaded. |\n",
    "\n",
    "Once uploaded, the deployment will be prepared and any requirements will be downloaded and installed.  A typical orchestration upload looks like this:\n",
    "\n",
    "```python\n",
    "my_orchestration = wl.upload_orchestration(path-to-zip-file)\n",
    "```\n",
    "\n",
    "\n",
    "Try uploading our orchestration from `./forecast-orchestration/forecast-orchestration.zip` - or make your own and upload it.\n",
    "\n",
    "Once uploaded, you can check the status with the `status()`.  If using the orchestration example above, that would be `my_orchestration.status()`  This is handy to make into a loop to check the status until is shows `ready`.\n"
   ]
  },
  {
   "cell_type": "code",
   "execution_count": 11,
   "metadata": {},
   "outputs": [
    {
     "name": "stdout",
     "output_type": "stream",
     "text": [
      "pending_packaging\n",
      "pending_packaging\n",
      "pending_packaging\n",
      "packaging\n",
      "packaging\n",
      "packaging\n",
      "packaging\n",
      "packaging\n",
      "packaging\n",
      "packaging\n",
      "packaging\n"
     ]
    }
   ],
   "source": [
    "orchestration = wl.upload_orchestration(name=\"forecast example\", path=\"./forecast-orchestration/forecast-orchestration.zip\")\n",
    "\n",
    "while orchestration.status() != 'ready':\n",
    "    print(orchestration.status())\n",
    "    time.sleep(5)"
   ]
  },
  {
   "cell_type": "markdown",
   "metadata": {},
   "source": [
    "### List Orchestrations\n",
    "\n",
    "Orchestrations are listed with the Wallaroo Client `list_orchestrations()` method.  Orchestrations can be retrieved to a variable by allocated their position in the array - for example:  `orchestration = wl.list_orchestrations()[0]` would return the first orchestration on the list."
   ]
  },
  {
   "cell_type": "code",
   "execution_count": 12,
   "metadata": {},
   "outputs": [
    {
     "data": {
      "text/html": [
       "<table><tr><th>id</th><th>name</th><th>status</th><th>filename</th><th>sha</th><th>created at</th><th>updated at</th></tr><tr><td>07459cea-4d19-4733-b0a7-c90f8703d514</td><td>forecast example</td><td>ready</td><td>forecast-orchestration.zip</td><td>d38397...fcf803</td><td>2023-30-Aug 18:10:34</td><td>2023-30-Aug 18:11:32</td></tr></table>"
      ],
      "text/plain": [
       "[<wallaroo.orchestration.Orchestration at 0x167120700>]"
      ]
     },
     "execution_count": 12,
     "metadata": {},
     "output_type": "execute_result"
    }
   ],
   "source": [
    "# list orchestration here\n",
    "\n",
    "wl.list_orchestrations()"
   ]
  },
  {
   "cell_type": "code",
   "execution_count": 14,
   "metadata": {},
   "outputs": [
    {
     "data": {
      "text/html": [
       "\n",
       "        <table>\n",
       "          <tr>\n",
       "            <th>Field</th>\n",
       "            <th>Value</th>\n",
       "          </tr>\n",
       "          <tr>\n",
       "            <td>ID</td><td>07459cea-4d19-4733-b0a7-c90f8703d514</td>\n",
       "          </tr>\n",
       "          <tr>\n",
       "            <td>Name</td><td>forecast example</td>\n",
       "          </tr>\n",
       "          <tr>\n",
       "            <td>File Name</td><td>forecast-orchestration.zip</td>\n",
       "          </tr>\n",
       "          <tr>\n",
       "            <td>SHA</td><td>d38397d19fa05339a7884cd324208515d3ef2cdc85542af31290c45176fcf803</td>\n",
       "          </tr>\n",
       "          <tr>\n",
       "            <td>Status</td><td>ready</td>\n",
       "          </tr>\n",
       "          <tr>\n",
       "            <td>Created At</td><td>2023-30-Aug 18:10:34</td>\n",
       "          </tr>\n",
       "          <tr>\n",
       "            <td>Updated At</td><td>2023-30-Aug 18:11:32</td>\n",
       "          </tr>\n",
       "        </table>\n",
       "        "
      ],
      "text/plain": [
       "<wallaroo.orchestration.Orchestration at 0x16660e2e0>"
      ]
     },
     "execution_count": 14,
     "metadata": {},
     "output_type": "execute_result"
    }
   ],
   "source": [
    "# retrieve the orchestration from the list\n",
    "\n",
    "orchestration_from_list = wl.list_orchestrations()[-1]\n",
    "orchestration_from_list"
   ]
  },
  {
   "cell_type": "markdown",
   "metadata": {},
   "source": [
    "### Create the Task\n",
    "\n",
    "The orchestration is now ready to be implemented as a Wallaroo Task.  We'll just run it once as an example.  This specific Orchestration that creates the Task assumes that the pipeline is deployed, and accepts the arguments:\n",
    "\n",
    "* workspace_name\n",
    "* pipeline_name\n",
    "\n",
    "Tasks are either Run Once, or Run Scheduled.  We create a new task from the Orchestration with either `run_once(task_name, json_args, timeout)` or with `run_scheduled(name, timeout,schedule,json_args)`.  The schedule is based on the Kubernetes cron scheduler.  For example:\n",
    "\n",
    "```python\n",
    "schedule={'42 * * * *'}\n",
    "```\n",
    "\n",
    "Runs every 42 minutes and contains the answer to life, the universe, and everything.\n",
    "\n",
    "Creating a scheduled task might be:\n",
    "\n",
    "```python\n",
    "task_scheduled = orchestration.run_scheduled(name=\"schedule example\", \n",
    "                                             timeout=600, \n",
    "                                             schedule=schedule, \n",
    "                                             json_args={\"workspace_name\": workspace_name, \n",
    "                                                        \"pipeline_name\": pipeline_name})\n",
    "```\n",
    "\n",
    "\n",
    "Using the uploaded orchestration, create a Run Once task using your workspace and pipeline names as the `json_args`."
   ]
  },
  {
   "cell_type": "code",
   "execution_count": 15,
   "metadata": {},
   "outputs": [],
   "source": [
    "# create the task here\n",
    "\n",
    "task = orchestration.run_once(name=\"forecast single run\", \n",
    "                              json_args={\"workspace_name\":workspace_name,\n",
    "                                         \"pipeline_name\":pipeline_name}\n",
    "                              )"
   ]
  },
  {
   "cell_type": "markdown",
   "metadata": {},
   "source": [
    "### Monitor Run with Task Status\n",
    "\n",
    "We'll monitor the run first with it's status with the `Task.status()` command.\n",
    "\n",
    "Get the status of the task, and once it is `started` proceed to the next step.  Try doing it as a `while` loop if you feel confident."
   ]
  },
  {
   "cell_type": "code",
   "execution_count": 16,
   "metadata": {},
   "outputs": [
    {
     "data": {
      "text/plain": [
       "'pending'"
      ]
     },
     "metadata": {},
     "output_type": "display_data"
    },
    {
     "data": {
      "text/plain": [
       "'pending'"
      ]
     },
     "metadata": {},
     "output_type": "display_data"
    },
    {
     "data": {
      "text/plain": [
       "'pending'"
      ]
     },
     "metadata": {},
     "output_type": "display_data"
    }
   ],
   "source": [
    "while task.status() != \"started\":\n",
    "    display(task.status())\n",
    "    time.sleep(5)"
   ]
  },
  {
   "cell_type": "markdown",
   "metadata": {},
   "source": [
    "### List Tasks\n",
    "\n",
    "We'll use the Wallaroo client `list_tasks` method to view the tasks currently running or scheduled."
   ]
  },
  {
   "cell_type": "code",
   "execution_count": 17,
   "metadata": {},
   "outputs": [
    {
     "data": {
      "text/html": [
       "<table><tr><th>id</th><th>name</th><th>last run status</th><th>type</th><th>active</th><th>schedule</th><th>created at</th><th>updated at</th></tr><tr><td>e48cfa68-996b-4e8b-ae4a-ab05ff613f74</td><td>forecast single run</td><td>success</td><td>Temporary Run</td><td>True</td><td>-</td><td>2023-30-Aug 18:12:03</td><td>2023-30-Aug 18:12:19</td></tr></table>"
      ],
      "text/plain": [
       "[<wallaroo.task.Task at 0x166fcc1c0>]"
      ]
     },
     "execution_count": 17,
     "metadata": {},
     "output_type": "execute_result"
    }
   ],
   "source": [
    "wl.list_tasks()"
   ]
  },
  {
   "cell_type": "markdown",
   "metadata": {},
   "source": [
    "### Display Task Run Results\n",
    "\n",
    "The Task Run is the implementation of the task - the actual running of the script and it's results.  Tasks that are Run Once will only have one Task Run, while a Task set to Run Scheduled will have a Task Run for each time the task is executed.  Each Task Run has its own set of logs and results that are monitored through the Task Run `logs()` method.\n",
    "\n",
    "First, get the Task Run - this is the actual execution of a Task.  The Task is the **scheduled** run of an Orchestration.  The Task Run is the **implementation** of a scheduled Task.  A Run Once Task while generate one Task Run, while a Scheduled Task generated a new Task Run every time the schedule pattern is met until the Task is killed.\n",
    "\n",
    "We retrieve the task runs with the Task `last_runs()` method, and assign a single Task Run to a variable by selecting it with the list with `last_runs()[index]`.  If you only have one Task Run from a Task, then you can just set the `index` to 0.\n",
    "\n",
    "Retrieve the task run for our generated task, then start checking the logs for our task run.  It may take longer than 30 seconds to launch the task, so be prepared to run the `.logs()` method again to view the logs."
   ]
  },
  {
   "cell_type": "code",
   "execution_count": 18,
   "metadata": {},
   "outputs": [
    {
     "data": {
      "text/html": [
       "\n",
       "        <table>\n",
       "          <tr>\n",
       "            <th>Field</th>\n",
       "            <th>Value</th>\n",
       "          </tr>\n",
       "          <tr>\n",
       "            <td>ID</td><td>e48cfa68-996b-4e8b-ae4a-ab05ff613f74</td>\n",
       "          </tr>\n",
       "          <tr>\n",
       "            <td>Name</td><td>forecast single run</td>\n",
       "          </tr>\n",
       "          <tr>\n",
       "            <td>Last Run Status</td><td>success</td>\n",
       "          </tr>\n",
       "          <tr>\n",
       "            <td>Type</td><td>Temporary Run</td>\n",
       "          </tr>\n",
       "          <tr>\n",
       "            <td>Active</td><td>True</td>\n",
       "          </tr>\n",
       "          <tr>\n",
       "            <td>Schedule</td><td>-</td>\n",
       "          </tr>\n",
       "          <tr>\n",
       "            <td>Created At</td><td>2023-30-Aug 18:12:03</td>\n",
       "          </tr>\n",
       "          <tr>\n",
       "            <td>Updated At</td><td>2023-30-Aug 18:12:19</td>\n",
       "          </tr>\n",
       "        </table>\n",
       "        "
      ],
      "text/plain": [
       "<wallaroo.task.Task at 0x167443d30>"
      ]
     },
     "execution_count": 18,
     "metadata": {},
     "output_type": "execute_result"
    }
   ],
   "source": [
    "task"
   ]
  },
  {
   "cell_type": "code",
   "execution_count": 19,
   "metadata": {},
   "outputs": [],
   "source": [
    "statsmodel_task_run = task.last_runs()[0]"
   ]
  },
  {
   "cell_type": "markdown",
   "metadata": {},
   "source": [
    "The Task Run Status is checked with the `_status` method.  This lets you know if there was a failure or if it ran successfully.  If it didn't, you can still get the task run logs to find out why."
   ]
  },
  {
   "cell_type": "code",
   "execution_count": 20,
   "metadata": {},
   "outputs": [
    {
     "data": {
      "text/plain": [
       "'success'"
      ]
     },
     "execution_count": 20,
     "metadata": {},
     "output_type": "execute_result"
    }
   ],
   "source": [
    "statsmodel_task_run._status"
   ]
  },
  {
   "cell_type": "markdown",
   "metadata": {},
   "source": [
    "### Retrieve Task Run Logs\n",
    "\n",
    "The Task Run logs are retrieved with the Wallaroo task runs `log()`, and shows the outputs of the results.  This is why it's useful to have `print` commands in your code to track what it's doing."
   ]
  },
  {
   "cell_type": "code",
   "execution_count": 21,
   "metadata": {},
   "outputs": [
    {
     "data": {
      "text/html": [
       "<pre><code>2023-30-Aug 18:12:18 Workspace: multiple-replica-forecast-tutorial-john\n",
       "2023-30-Aug 18:12:18 {'name': 'multiple-replica-forecast-tutorial-john', 'id': 162, 'archived': False, 'created_by': 'd1704c38-2016-4b1d-9407-85e7e6875e6d', 'created_at': '2023-08-30T16:35:12.106205+00:00', 'models': [{'name': 'bikedaymodel', 'versions': 5, 'owner_id': '\"\"', 'last_update_time': datetime.datetime(2023, 8, 30, 17, 32, 11, 233260, tzinfo=tzutc()), 'created_at': datetime.datetime(2023, 8, 30, 16, 35, 15, 447811, tzinfo=tzutc())}], 'pipelines': [{'name': 'bikedaypipe', 'create_time': datetime.datetime(2023, 8, 30, 16, 35, 13, 214513, tzinfo=tzutc()), 'definition': '[]'}]}\n",
       "2023-30-Aug 18:12:18 Pipeline: bikedaypipe\n",
       "2023-30-Aug 18:12:18 {'name': 'bikedaypipe', 'create_time': datetime.datetime(2023, 8, 30, 16, 35, 13, 214513, tzinfo=tzutc()), 'definition': '[]'}\n",
       "2023-30-Aug 18:12:18 {'status': 'Running', 'details': [], 'engines': [{'ip': '10.244.5.66', 'name': 'engine-788766df64-lwpph', 'status': 'Running', 'reason': None, 'details': [], 'pipeline_statuses': {'pipelines': [{'id': 'bikedaypipe', 'status': 'Running'}]}, 'model_statuses': {'models': [{'name': 'bikedaymodel', 'version': 'fe8ec39b-e926-4d01-9073-f46face2e9a8', 'sha': '3cd2acdd1f513f46615be7aa5beac16f09903be851e91f20f6dcdead4a48faa0', 'status': 'Running'}]}}], 'engine_lbs': [{'ip': '10.244.5.65', 'name': 'engine-lb-584f54c899-kpwgj', 'status': 'Running', 'reason': None, 'details': []}], 'sidekicks': []}\n",
       "2023-30-Aug 18:12:18                      time  ... check_failures\n",
       "2023-30-Aug 18:12:18 0 2023-08-30 18:12:18.800  ...              0\n",
       "2023-30-Aug 18:12:18 \n",
       "2023-30-Aug 18:12:18 [1 rows x 5 columns]</code></pre>"
      ],
      "text/plain": [
       "['2023-08-30T18:12:18.859443398Z stdout F Workspace: multiple-replica-forecast-tutorial-john',\n",
       " '2023-08-30T18:12:18.859499198Z stdout F {\\'name\\': \\'multiple-replica-forecast-tutorial-john\\', \\'id\\': 162, \\'archived\\': False, \\'created_by\\': \\'d1704c38-2016-4b1d-9407-85e7e6875e6d\\', \\'created_at\\': \\'2023-08-30T16:35:12.106205+00:00\\', \\'models\\': [{\\'name\\': \\'bikedaymodel\\', \\'versions\\': 5, \\'owner_id\\': \\'\"\"\\', \\'last_update_time\\': datetime.datetime(2023, 8, 30, 17, 32, 11, 233260, tzinfo=tzutc()), \\'created_at\\': datetime.datetime(2023, 8, 30, 16, 35, 15, 447811, tzinfo=tzutc())}], \\'pipelines\\': [{\\'name\\': \\'bikedaypipe\\', \\'create_time\\': datetime.datetime(2023, 8, 30, 16, 35, 13, 214513, tzinfo=tzutc()), \\'definition\\': \\'[]\\'}]}',\n",
       " '2023-08-30T18:12:18.859512499Z stdout F Pipeline: bikedaypipe',\n",
       " \"2023-08-30T18:12:18.859519499Z stdout F {'name': 'bikedaypipe', 'create_time': datetime.datetime(2023, 8, 30, 16, 35, 13, 214513, tzinfo=tzutc()), 'definition': '[]'}\",\n",
       " \"2023-08-30T18:12:18.859526399Z stdout F {'status': 'Running', 'details': [], 'engines': [{'ip': '10.244.5.66', 'name': 'engine-788766df64-lwpph', 'status': 'Running', 'reason': None, 'details': [], 'pipeline_statuses': {'pipelines': [{'id': 'bikedaypipe', 'status': 'Running'}]}, 'model_statuses': {'models': [{'name': 'bikedaymodel', 'version': 'fe8ec39b-e926-4d01-9073-f46face2e9a8', 'sha': '3cd2acdd1f513f46615be7aa5beac16f09903be851e91f20f6dcdead4a48faa0', 'status': 'Running'}]}}], 'engine_lbs': [{'ip': '10.244.5.65', 'name': 'engine-lb-584f54c899-kpwgj', 'status': 'Running', 'reason': None, 'details': []}], 'sidekicks': []}\",\n",
       " '2023-08-30T18:12:18.859533699Z stdout F                      time  ... check_failures',\n",
       " '2023-08-30T18:12:18.859540299Z stdout F 0 2023-08-30 18:12:18.800  ...              0',\n",
       " '2023-08-30T18:12:18.859544699Z stdout F ',\n",
       " '2023-08-30T18:12:18.859549199Z stdout F [1 rows x 5 columns]']"
      ]
     },
     "execution_count": 21,
     "metadata": {},
     "output_type": "execute_result"
    }
   ],
   "source": [
    "statsmodel_task_run.logs()"
   ]
  },
  {
   "cell_type": "markdown",
   "metadata": {},
   "source": [
    "You have now walked through setting up a basic assay and running it over historical data.\n",
    "\n",
    "## Congratulations!\n",
    "In this workshop you have\n",
    "* Deployed a single step house price prediction pipeline and sent data to it.\n",
    "* Uploaded an ML Orchestration into Wallaroo.\n",
    "* Created a Run Once Task from the Orchestration.\n",
    "* Viewed the Task Run's status generated from the Task.\n",
    "* Viewed the Task Run's logs.\n",
    "\n",
    "Great job! \n",
    "\n",
    "### Cleaning up.\n",
    "\n",
    "Now that the workshop is complete, don't forget to undeploy your pipeline to free up the resources."
   ]
  },
  {
   "cell_type": "code",
   "execution_count": 22,
   "metadata": {},
   "outputs": [
    {
     "data": {
      "text/html": [
       "<table><tr><th>name</th> <td>bikedaypipe</td></tr><tr><th>created</th> <td>2023-08-30 16:35:13.214513+00:00</td></tr><tr><th>last_updated</th> <td>2023-08-30 18:08:51.972661+00:00</td></tr><tr><th>deployed</th> <td>False</td></tr><tr><th>tags</th> <td></td></tr><tr><th>versions</th> <td>ab812d0f-f180-4009-8aa5-391293caf97a, 90dc8495-df27-4121-ad87-96e47ebbd88b, f5cf610b-be30-46c2-8b00-021af2a28bdd, 02dcf27d-c55c-4b05-9287-d649f6dafd80, fc83ce79-8106-4f51-804e-e1fac17a9176, 4c387893-ff95-4936-99a4-fa8c27586366, 19d13dbe-4cbe-4b5e-8057-e693aed2af15, 1f8b7439-2b7a-4dba-9b89-d7fc25ef267f, eca8033b-6409-4f8e-ab5c-10a871fa97cb, 938f7f64-be97-4c3b-824b-4d1b15698ef0</td></tr><tr><th>steps</th> <td>bikedaymodel</td></tr></table>"
      ],
      "text/plain": [
       "{'name': 'bikedaypipe', 'create_time': datetime.datetime(2023, 8, 30, 16, 35, 13, 214513, tzinfo=tzutc()), 'definition': \"[{'ModelInference': {'models': [{'name': 'bikedaymodel', 'version': 'fe8ec39b-e926-4d01-9073-f46face2e9a8', 'sha': '3cd2acdd1f513f46615be7aa5beac16f09903be851e91f20f6dcdead4a48faa0'}]}}]\"}"
      ]
     },
     "execution_count": 22,
     "metadata": {},
     "output_type": "execute_result"
    }
   ],
   "source": [
    "pipeline.undeploy()"
   ]
  }
 ],
 "metadata": {
  "kernelspec": {
   "display_name": "Python 3 (ipykernel)",
   "language": "python",
   "name": "python3"
  },
  "language_info": {
   "codemirror_mode": {
    "name": "ipython",
    "version": 3
   },
   "file_extension": ".py",
   "mimetype": "text/x-python",
   "name": "python",
   "nbconvert_exporter": "python",
   "pygments_lexer": "ipython3",
   "version": "3.8.17"
  },
  "vscode": {
   "interpreter": {
    "hash": "7dda4bf3640b7fafcd1648658b879b4cc9f6ba6084e8fb356fdaaa1a461d1690"
   }
  }
 },
 "nbformat": 4,
 "nbformat_minor": 4
}
