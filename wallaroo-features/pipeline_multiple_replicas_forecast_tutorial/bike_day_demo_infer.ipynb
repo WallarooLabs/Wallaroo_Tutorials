{
 "cells": [
  {
   "attachments": {},
   "cell_type": "markdown",
   "metadata": {},
   "source": [
    "### Import Libraries\n",
    "\n",
    "The first step is to import the libraries that we will need."
   ]
  },
  {
   "cell_type": "code",
   "execution_count": null,
   "metadata": {},
   "outputs": [],
   "source": [
    "import json\n",
    "import os\n",
    "import datetime\n",
    "\n",
    "import wallaroo\n",
    "from wallaroo.object import EntityNotFoundError\n",
    "\n",
    "# used to display dataframe information without truncating\n",
    "from IPython.display import display\n",
    "import pandas as pd\n",
    "import numpy as np\n",
    "\n",
    "from resources import simdb\n",
    "from resources import util\n",
    "\n",
    "pd.set_option('display.max_colwidth', None)\n"
   ]
  },
  {
   "cell_type": "raw",
   "metadata": {},
   "source": [
    "wallaroo.__version__"
   ]
  },
  {
   "attachments": {},
   "cell_type": "markdown",
   "metadata": {},
   "source": [
    "### Initialize connection\n",
    "\n",
    "Start a connect to the Wallaroo instance and save the connection into the variable `wl`."
   ]
  },
  {
   "cell_type": "code",
   "execution_count": null,
   "metadata": {},
   "outputs": [],
   "source": [
    "# Login through local Wallaroo instance\n",
    "\n",
    "wl = wallaroo.Client()\n",
    "\n",
    "wallarooPrefix = \"doc-test\"\n",
    "wallarooSuffix = \"wallaroocommunity.ninja\"\n",
    "\n",
    "wl = wallaroo.Client(api_endpoint=f\"https://{wallarooPrefix}.api.{wallarooSuffix}\", \n",
    "                    auth_endpoint=f\"https://{wallarooPrefix}.keycloak.{wallarooSuffix}\", \n",
    "                    auth_type=\"sso\")"
   ]
  },
  {
   "attachments": {},
   "cell_type": "markdown",
   "metadata": {},
   "source": [
    "### Set Configurations\n",
    "\n",
    "The following will set the workspace, model name, and pipeline that will be used for this example.  If the workspace or pipeline already exist, then they will assigned for use in this example.  If they do not exist, they will be created based on the names listed below."
   ]
  },
  {
   "cell_type": "code",
   "execution_count": null,
   "metadata": {},
   "outputs": [],
   "source": [
    "workspace_name = 'moto2'\n",
    "pipeline_name = 'bikedaypipe'\n",
    "model_name = 'bikedaymodel'"
   ]
  },
  {
   "attachments": {},
   "cell_type": "markdown",
   "metadata": {},
   "source": [
    "## Set the Workspace and Pipeline\n"
   ]
  },
  {
   "cell_type": "code",
   "execution_count": 17,
   "metadata": {},
   "outputs": [
    {
     "data": {
      "text/html": [
       "<strong>*** An error occurred while deploying your pipeline.</strong>"
      ],
      "text/plain": [
       "<IPython.core.display.HTML object>"
      ]
     },
     "metadata": {},
     "output_type": "display_data"
    },
    {
     "ename": "WaitForDeployError",
     "evalue": "Deployment did not finish within 45s.\nStatus: None",
     "output_type": "error",
     "traceback": [
      "Deployment did not finish within 45s.\nStatus: None"
     ]
    }
   ],
   "source": [
    "def get_workspace(name):\n",
    "    workspace = None\n",
    "    for ws in wl.list_workspaces():\n",
    "        if ws.name() == name:\n",
    "            workspace= ws\n",
    "    if(workspace == None):\n",
    "        workspace = wl.create_workspace(name)\n",
    "    return workspace\n",
    "\n",
    "def get_pipeline(name):\n",
    "    try:\n",
    "        pipeline = wl.pipelines_by_name(name)[0]\n",
    "    except EntityNotFoundError:\n",
    "        pipeline = wl.build_pipeline(name)\n",
    "    return pipeline\n",
    "\n",
    "workspace = get_workspace(workspace_name)\n",
    "\n",
    "wl.set_current_workspace(workspace)\n",
    "\n",
    "pipeline = get_pipeline(pipeline_name)\n",
    "\n"
   ]
  },
  {
   "cell_type": "code",
   "execution_count": 21,
   "metadata": {},
   "outputs": [
    {
     "data": {
      "text/html": [
       "<table><tr><th>name</th> <td>bikedaypipe</td></tr><tr><th>created</th> <td>2023-05-18 18:55:59.011989+00:00</td></tr><tr><th>last_updated</th> <td>2023-05-18 20:15:57.744801+00:00</td></tr><tr><th>deployed</th> <td>True</td></tr><tr><th>tags</th> <td></td></tr><tr><th>versions</th> <td>2b9c771d-6c7b-4618-ac1b-c18ac4d01f9e, d1be9e11-4c80-405b-9fde-c8d3a6737736, cc55d2e4-bee0-4865-8bcb-2c54bd21a820, 826a7a0a-449e-475e-ab01-816fcb7ff488, af2cf9d4-1861-4771-a3f0-5bbc5b139c64, 8bd2604a-ea82-4890-80d9-051c9f4e07bd, f1b8b382-5286-4c6f-b452-42c808f65801</td></tr><tr><th>steps</th> <td>bikedaymodel</td></tr></table>"
      ],
      "text/plain": [
       "{'name': 'bikedaypipe', 'create_time': datetime.datetime(2023, 5, 18, 18, 55, 59, 11989, tzinfo=tzutc()), 'definition': \"[{'ModelInference': {'models': [{'name': 'bikedaymodel', 'version': '58068857-dee3-40f4-bfeb-f05b384b46a4', 'sha': '525ea2be4402725878382631c2c32b2e3f105bf78eedf41f3ac6d71c0dfa986b'}]}}]\"}"
      ]
     },
     "execution_count": 21,
     "metadata": {},
     "output_type": "execute_result"
    }
   ],
   "source": [
    "# Set the deployment to allow for additional engines to run\n",
    "deploy_config = (wallaroo.DeploymentConfigBuilder()\n",
    "                        .replica_count(4)\n",
    "                        .build()\n",
    "                    )\n",
    "\n",
    "\n",
    "pipeline.deploy(deployment_config=deploy_config)"
   ]
  },
  {
   "attachments": {},
   "cell_type": "markdown",
   "metadata": {},
   "source": [
    "### Run Inference\n",
    "For this example, we will forecast bike rentals for the following seven days, based on the previous month's rentals (inclusive of \"today\")."
   ]
  },
  {
   "cell_type": "code",
   "execution_count": 22,
   "metadata": {},
   "outputs": [
    {
     "name": "stdout",
     "output_type": "stream",
     "text": [
      "Running analysis on 2011-02-22\n"
     ]
    }
   ],
   "source": [
    "# retrieve forecast schedule\n",
    "first_day, analysis_days = util.get_forecast_days()\n",
    "\n",
    "print(f'Running analysis on {first_day}')"
   ]
  },
  {
   "cell_type": "code",
   "execution_count": 23,
   "metadata": {},
   "outputs": [
    {
     "name": "stdout",
     "output_type": "stream",
     "text": [
      "Bike rentals table: bikerentals\n",
      "select cnt from bikerentals where date > DATE(DATE('2011-02-22'), '-1 month') AND date <= DATE('2011-02-22')\n"
     ]
    },
    {
     "data": {
      "text/html": [
       "<div>\n",
       "<style scoped>\n",
       "    .dataframe tbody tr th:only-of-type {\n",
       "        vertical-align: middle;\n",
       "    }\n",
       "\n",
       "    .dataframe tbody tr th {\n",
       "        vertical-align: top;\n",
       "    }\n",
       "\n",
       "    .dataframe thead th {\n",
       "        text-align: right;\n",
       "    }\n",
       "</style>\n",
       "<table border=\"1\" class=\"dataframe\">\n",
       "  <thead>\n",
       "    <tr style=\"text-align: right;\">\n",
       "      <th></th>\n",
       "      <th>cnt</th>\n",
       "    </tr>\n",
       "  </thead>\n",
       "  <tbody>\n",
       "    <tr>\n",
       "      <th>0</th>\n",
       "      <td>986</td>\n",
       "    </tr>\n",
       "    <tr>\n",
       "      <th>1</th>\n",
       "      <td>1416</td>\n",
       "    </tr>\n",
       "    <tr>\n",
       "      <th>2</th>\n",
       "      <td>1985</td>\n",
       "    </tr>\n",
       "    <tr>\n",
       "      <th>3</th>\n",
       "      <td>506</td>\n",
       "    </tr>\n",
       "    <tr>\n",
       "      <th>4</th>\n",
       "      <td>431</td>\n",
       "    </tr>\n",
       "  </tbody>\n",
       "</table>\n",
       "</div>"
      ],
      "text/plain": [
       "    cnt\n",
       "0   986\n",
       "1  1416\n",
       "2  1985\n",
       "3   506\n",
       "4   431"
      ]
     },
     "execution_count": 23,
     "metadata": {},
     "output_type": "execute_result"
    }
   ],
   "source": [
    "# connect to SQL data base \n",
    "conn = simdb.get_db_connection()\n",
    "print(f'Bike rentals table: {simdb.tablename}')\n",
    "\n",
    "# create the query and retrieve data\n",
    "query = util.mk_dt_range_query(tablename=simdb.tablename, forecast_day=first_day)\n",
    "print(query)\n",
    "data = pd.read_sql_query(query, conn)\n",
    "data.head()"
   ]
  },
  {
   "cell_type": "code",
   "execution_count": 24,
   "metadata": {},
   "outputs": [
    {
     "data": {
      "text/html": [
       "<div>\n",
       "<style scoped>\n",
       "    .dataframe tbody tr th:only-of-type {\n",
       "        vertical-align: middle;\n",
       "    }\n",
       "\n",
       "    .dataframe tbody tr th {\n",
       "        vertical-align: top;\n",
       "    }\n",
       "\n",
       "    .dataframe thead th {\n",
       "        text-align: right;\n",
       "    }\n",
       "</style>\n",
       "<table border=\"1\" class=\"dataframe\">\n",
       "  <thead>\n",
       "    <tr style=\"text-align: right;\">\n",
       "      <th></th>\n",
       "      <th>date</th>\n",
       "      <th>cnt</th>\n",
       "    </tr>\n",
       "  </thead>\n",
       "  <tbody>\n",
       "    <tr>\n",
       "      <th>0</th>\n",
       "      <td>2011-01-23</td>\n",
       "      <td>986</td>\n",
       "    </tr>\n",
       "    <tr>\n",
       "      <th>1</th>\n",
       "      <td>2011-01-24</td>\n",
       "      <td>1416</td>\n",
       "    </tr>\n",
       "    <tr>\n",
       "      <th>2</th>\n",
       "      <td>2011-01-25</td>\n",
       "      <td>1985</td>\n",
       "    </tr>\n",
       "    <tr>\n",
       "      <th>3</th>\n",
       "      <td>2011-01-26</td>\n",
       "      <td>506</td>\n",
       "    </tr>\n",
       "    <tr>\n",
       "      <th>4</th>\n",
       "      <td>2011-01-27</td>\n",
       "      <td>431</td>\n",
       "    </tr>\n",
       "  </tbody>\n",
       "</table>\n",
       "</div>"
      ],
      "text/plain": [
       "         date   cnt\n",
       "0  2011-01-23   986\n",
       "1  2011-01-24  1416\n",
       "2  2011-01-25  1985\n",
       "3  2011-01-26   506\n",
       "4  2011-01-27   431"
      ]
     },
     "execution_count": 24,
     "metadata": {},
     "output_type": "execute_result"
    }
   ],
   "source": [
    "pd.read_sql_query(\"select date, cnt from bikerentals where date > DATE(DATE('2011-02-22'), '-1 month') AND date <= DATE('2011-02-22') LIMIT 5\", conn)"
   ]
  },
  {
   "cell_type": "code",
   "execution_count": 29,
   "metadata": {},
   "outputs": [
    {
     "data": {
      "text/plain": [
       "{'forecast': [1462, 1483, 1497, 1507, 1513, 1518, 1521]}"
      ]
     },
     "execution_count": 29,
     "metadata": {},
     "output_type": "execute_result"
    }
   ],
   "source": [
    "# send data to model for forecast\n",
    "\n",
    "results = pipeline.infer(data.to_dict(orient='list'))[0]\n",
    "results\n"
   ]
  },
  {
   "cell_type": "code",
   "execution_count": 32,
   "metadata": {},
   "outputs": [
    {
     "data": {
      "text/html": [
       "<div>\n",
       "<style scoped>\n",
       "    .dataframe tbody tr th:only-of-type {\n",
       "        vertical-align: middle;\n",
       "    }\n",
       "\n",
       "    .dataframe tbody tr th {\n",
       "        vertical-align: top;\n",
       "    }\n",
       "\n",
       "    .dataframe thead th {\n",
       "        text-align: right;\n",
       "    }\n",
       "</style>\n",
       "<table border=\"1\" class=\"dataframe\">\n",
       "  <thead>\n",
       "    <tr style=\"text-align: right;\">\n",
       "      <th></th>\n",
       "      <th>date</th>\n",
       "      <th>forecast</th>\n",
       "    </tr>\n",
       "  </thead>\n",
       "  <tbody>\n",
       "    <tr>\n",
       "      <th>0</th>\n",
       "      <td>2011-02-23</td>\n",
       "      <td>1462</td>\n",
       "    </tr>\n",
       "    <tr>\n",
       "      <th>1</th>\n",
       "      <td>2011-02-24</td>\n",
       "      <td>1462</td>\n",
       "    </tr>\n",
       "    <tr>\n",
       "      <th>2</th>\n",
       "      <td>2011-02-25</td>\n",
       "      <td>1462</td>\n",
       "    </tr>\n",
       "    <tr>\n",
       "      <th>3</th>\n",
       "      <td>2011-02-26</td>\n",
       "      <td>1462</td>\n",
       "    </tr>\n",
       "    <tr>\n",
       "      <th>4</th>\n",
       "      <td>2011-02-27</td>\n",
       "      <td>1462</td>\n",
       "    </tr>\n",
       "    <tr>\n",
       "      <th>5</th>\n",
       "      <td>2011-02-28</td>\n",
       "      <td>1462</td>\n",
       "    </tr>\n",
       "    <tr>\n",
       "      <th>6</th>\n",
       "      <td>2011-03-01</td>\n",
       "      <td>1462</td>\n",
       "    </tr>\n",
       "    <tr>\n",
       "      <th>7</th>\n",
       "      <td>2011-02-23</td>\n",
       "      <td>1462</td>\n",
       "    </tr>\n",
       "    <tr>\n",
       "      <th>8</th>\n",
       "      <td>2011-02-24</td>\n",
       "      <td>1483</td>\n",
       "    </tr>\n",
       "    <tr>\n",
       "      <th>9</th>\n",
       "      <td>2011-02-25</td>\n",
       "      <td>1497</td>\n",
       "    </tr>\n",
       "    <tr>\n",
       "      <th>10</th>\n",
       "      <td>2011-02-26</td>\n",
       "      <td>1507</td>\n",
       "    </tr>\n",
       "    <tr>\n",
       "      <th>11</th>\n",
       "      <td>2011-02-27</td>\n",
       "      <td>1513</td>\n",
       "    </tr>\n",
       "    <tr>\n",
       "      <th>12</th>\n",
       "      <td>2011-02-28</td>\n",
       "      <td>1518</td>\n",
       "    </tr>\n",
       "    <tr>\n",
       "      <th>13</th>\n",
       "      <td>2011-03-01</td>\n",
       "      <td>1521</td>\n",
       "    </tr>\n",
       "    <tr>\n",
       "      <th>14</th>\n",
       "      <td>2011-02-23</td>\n",
       "      <td>1462</td>\n",
       "    </tr>\n",
       "    <tr>\n",
       "      <th>15</th>\n",
       "      <td>2011-02-24</td>\n",
       "      <td>1483</td>\n",
       "    </tr>\n",
       "    <tr>\n",
       "      <th>16</th>\n",
       "      <td>2011-02-25</td>\n",
       "      <td>1497</td>\n",
       "    </tr>\n",
       "    <tr>\n",
       "      <th>17</th>\n",
       "      <td>2011-02-26</td>\n",
       "      <td>1507</td>\n",
       "    </tr>\n",
       "    <tr>\n",
       "      <th>18</th>\n",
       "      <td>2011-02-27</td>\n",
       "      <td>1513</td>\n",
       "    </tr>\n",
       "    <tr>\n",
       "      <th>19</th>\n",
       "      <td>2011-02-28</td>\n",
       "      <td>1518</td>\n",
       "    </tr>\n",
       "    <tr>\n",
       "      <th>20</th>\n",
       "      <td>2011-03-01</td>\n",
       "      <td>1521</td>\n",
       "    </tr>\n",
       "    <tr>\n",
       "      <th>21</th>\n",
       "      <td>2011-02-23</td>\n",
       "      <td>1462</td>\n",
       "    </tr>\n",
       "    <tr>\n",
       "      <th>22</th>\n",
       "      <td>2011-02-24</td>\n",
       "      <td>1483</td>\n",
       "    </tr>\n",
       "    <tr>\n",
       "      <th>23</th>\n",
       "      <td>2011-02-25</td>\n",
       "      <td>1497</td>\n",
       "    </tr>\n",
       "    <tr>\n",
       "      <th>24</th>\n",
       "      <td>2011-02-26</td>\n",
       "      <td>1507</td>\n",
       "    </tr>\n",
       "    <tr>\n",
       "      <th>25</th>\n",
       "      <td>2011-02-27</td>\n",
       "      <td>1513</td>\n",
       "    </tr>\n",
       "    <tr>\n",
       "      <th>26</th>\n",
       "      <td>2011-02-28</td>\n",
       "      <td>1518</td>\n",
       "    </tr>\n",
       "    <tr>\n",
       "      <th>27</th>\n",
       "      <td>2011-03-01</td>\n",
       "      <td>1521</td>\n",
       "    </tr>\n",
       "    <tr>\n",
       "      <th>28</th>\n",
       "      <td>2011-02-23</td>\n",
       "      <td>1462</td>\n",
       "    </tr>\n",
       "    <tr>\n",
       "      <th>29</th>\n",
       "      <td>2011-02-24</td>\n",
       "      <td>1483</td>\n",
       "    </tr>\n",
       "    <tr>\n",
       "      <th>30</th>\n",
       "      <td>2011-02-25</td>\n",
       "      <td>1497</td>\n",
       "    </tr>\n",
       "    <tr>\n",
       "      <th>31</th>\n",
       "      <td>2011-02-26</td>\n",
       "      <td>1507</td>\n",
       "    </tr>\n",
       "    <tr>\n",
       "      <th>32</th>\n",
       "      <td>2011-02-27</td>\n",
       "      <td>1513</td>\n",
       "    </tr>\n",
       "    <tr>\n",
       "      <th>33</th>\n",
       "      <td>2011-02-28</td>\n",
       "      <td>1518</td>\n",
       "    </tr>\n",
       "    <tr>\n",
       "      <th>34</th>\n",
       "      <td>2011-03-01</td>\n",
       "      <td>1521</td>\n",
       "    </tr>\n",
       "  </tbody>\n",
       "</table>\n",
       "</div>"
      ],
      "text/plain": [
       "          date  forecast\n",
       "0   2011-02-23      1462\n",
       "1   2011-02-24      1462\n",
       "2   2011-02-25      1462\n",
       "3   2011-02-26      1462\n",
       "4   2011-02-27      1462\n",
       "5   2011-02-28      1462\n",
       "6   2011-03-01      1462\n",
       "7   2011-02-23      1462\n",
       "8   2011-02-24      1483\n",
       "9   2011-02-25      1497\n",
       "10  2011-02-26      1507\n",
       "11  2011-02-27      1513\n",
       "12  2011-02-28      1518\n",
       "13  2011-03-01      1521\n",
       "14  2011-02-23      1462\n",
       "15  2011-02-24      1483\n",
       "16  2011-02-25      1497\n",
       "17  2011-02-26      1507\n",
       "18  2011-02-27      1513\n",
       "19  2011-02-28      1518\n",
       "20  2011-03-01      1521\n",
       "21  2011-02-23      1462\n",
       "22  2011-02-24      1483\n",
       "23  2011-02-25      1497\n",
       "24  2011-02-26      1507\n",
       "25  2011-02-27      1513\n",
       "26  2011-02-28      1518\n",
       "27  2011-03-01      1521\n",
       "28  2011-02-23      1462\n",
       "29  2011-02-24      1483\n",
       "30  2011-02-25      1497\n",
       "31  2011-02-26      1507\n",
       "32  2011-02-27      1513\n",
       "33  2011-02-28      1518\n",
       "34  2011-03-01      1521"
      ]
     },
     "execution_count": 32,
     "metadata": {},
     "output_type": "execute_result"
    }
   ],
   "source": [
    "# annotate with the appropriate dates (the next seven days)\n",
    "resultframe = pd.DataFrame({\n",
    "    'date' : util.get_forecast_dates(first_day),\n",
    "    'forecast' : results['forecast']\n",
    "})\n",
    "\n",
    "# write the new data to the db table \"bikeforecast\"\n",
    "resultframe.to_sql('bikeforecast', conn, index=False, if_exists='append')\n",
    "\n",
    "# display the db table\n",
    "query = \"select date, forecast from bikeforecast\"\n",
    "pd.read_sql_query(query, conn)"
   ]
  },
  {
   "attachments": {},
   "cell_type": "markdown",
   "metadata": {},
   "source": [
    "Normally here we would close the database connection and undeploy the pipeline until the next forecast run."
   ]
  },
  {
   "attachments": {},
   "cell_type": "markdown",
   "metadata": {},
   "source": [
    "# Four weeks of inferences\n",
    "We'll do it all in a loop, to get inferences for the entire month of March."
   ]
  },
  {
   "cell_type": "code",
   "execution_count": null,
   "metadata": {},
   "outputs": [],
   "source": [
    "import asyncio\n",
    "import httpx\n",
    "import collections\n",
    "import json\n",
    "\n",
    "async def parallel_infer(pipe, dataset, timeout_secs, num_parallel):\n",
    "    \"\"\" Runs inference on a list of data in parallel and returns a list of results.\n",
    "        pipe:         The pipeline to use for inference\n",
    "        dataset:      A list of data objects to call pipe.infer() with. Can be dataframes, Python dictionary, or Arrow table\n",
    "        timeout:      How long to wait for an inference result before timing out. Should be 2-3x the longest inference time to allow for queuing.\n",
    "        num_parallel: The number of jobs to submit in parallel, should be equal to the number of replicas, or up to 2x\n",
    "    \"\"\"\n",
    "    # Limit the concurrency so we don't run into issues with connections timing out due to\n",
    "    # submitting 1000's of jobs per replica\n",
    "    semaphore = asyncio.Semaphore(num_parallel)\n",
    "\n",
    "    print(f\"Parallel inference: {len(dataset)} jobs to {pipe.name()}\")\n",
    "    # We need to know what kind of data we're working with.  Maybe we just use dataframes for now. \n",
    "\n",
    "\n",
    "    headers = {\"Content-Type\": \"application/json\"}\n",
    "    async def infer(client, idx, url, df):\n",
    "        \n",
    "        resp = None\n",
    "        async with semaphore:\n",
    "            print(f\"Submitting {idx}\")\n",
    "            now = datetime.datetime.now()\n",
    "            #js = json.dumps(df)\n",
    "            nowwow = datetime.datetime.now()\n",
    "            resp = await pipeline.infer(df)\n",
    "            # resp = await client.post(url, headers=headers, data=js)\n",
    "            # if resp.status_code != 200:\n",
    "            #     print(f\"Retrying #{idx}: status code={resp.status_code} {resp.text}\")\n",
    "            #     resp = await client.post(url, headers=headers, data=df)\n",
    "            #     if resp.status_code != 200:\n",
    "            #         print(f\"Job #{idx}: failed after two tries\")\n",
    "            #         return None\n",
    "\n",
    "            bow = datetime.datetime.now()\n",
    "            #js = json.loads(resp.text)[0]\n",
    "            #dct = js[\"outputs\"][0][\"Json\"][\"data\"][0]\n",
    "            bowwow = datetime.datetime.now()\n",
    "        \n",
    "            #print(f\"Job #{idx}: complete {(nowwow - now).total_seconds()} {(bowwow - bow).total_seconds()} {len(resp)} {(datetime.datetime.now() - now).total_seconds()} {js['elapsed']/1000000000}\")\n",
    "            return resp\n",
    "            # return pd.DataFrame.from_dict(dct)\n",
    "\n",
    "    results = []\n",
    "    async with httpx.AsyncClient(timeout=timeout_secs) as client:\n",
    "        results = await asyncio.gather(*[infer(client, idx, url, df) for idx, df in enumerate(dataset)])\n",
    "\n",
    "    return pd.concat((r for r in results if not None))"
   ]
  },
  {
   "cell_type": "code",
   "execution_count": null,
   "metadata": {},
   "outputs": [],
   "source": [
    "# get our list of items to run through\n",
    "\n",
    "inference_data = []\n",
    "\n",
    "for day in analysis_days:\n",
    "    print(f\"Current date: {day}\")\n",
    "    query = util.mk_dt_range_query(tablename=simdb.tablename, forecast_day=day)\n",
    "    print(query)\n",
    "    data = pd.read_sql_query(query, conn)\n",
    "    inference_data.append(data)\n",
    "\n",
    "    # # send data to model for forecast\n",
    "    # results = pipeline.infer(data.to_dict(orient='list'))[0]\n",
    "    \n",
    "    # # annotate with the appropriate dates (the next seven days)\n",
    "    # resultframe = pd.DataFrame({\n",
    "    #     'date' : util.get_forecast_dates(day),\n",
    "    #     'forecast' : results['forecast']\n",
    "    # })\n",
    "    \n",
    "    # # write the new data to the db table \"bikeforecast\"\n",
    "    # resultframe.to_sql('bikeforecast', conn, index=False, if_exists='append')\n",
    "display(inference_data)"
   ]
  },
  {
   "attachments": {},
   "cell_type": "markdown",
   "metadata": {},
   "source": [
    "On April 1st, we can compare March forecasts to actuals"
   ]
  },
  {
   "cell_type": "code",
   "execution_count": null,
   "metadata": {},
   "outputs": [],
   "source": [
    "query = f'''SELECT bikeforecast.date AS date, forecast, cnt AS actual\n",
    "            FROM bikeforecast LEFT JOIN bikerentals\n",
    "            ON bikeforecast.date = bikerentals.date\n",
    "            WHERE bikeforecast.date >= DATE('2011-03-01')\n",
    "            AND bikeforecast.date <  DATE('2011-04-01')\n",
    "            ORDER BY 1'''\n",
    "\n",
    "print(query)\n",
    "\n",
    "\n",
    "comparison = pd.read_sql_query(query, conn)\n",
    "comparison"
   ]
  },
  {
   "attachments": {},
   "cell_type": "markdown",
   "metadata": {},
   "source": [
    "### Undeploy the Pipeline\n",
    "\n",
    "Undeploy the pipeline and return the resources back to the Wallaroo instance."
   ]
  },
  {
   "cell_type": "code",
   "execution_count": null,
   "metadata": {},
   "outputs": [],
   "source": [
    "conn.close()\n",
    "pipeline.undeploy()"
   ]
  },
  {
   "cell_type": "code",
   "execution_count": null,
   "metadata": {},
   "outputs": [],
   "source": []
  }
 ],
 "metadata": {
  "kernelspec": {
   "display_name": "Python 3 (ipykernel)",
   "language": "python",
   "name": "python3"
  },
  "language_info": {
   "codemirror_mode": {
    "name": "ipython",
    "version": 3
   },
   "file_extension": ".py",
   "mimetype": "text/x-python",
   "name": "python",
   "nbconvert_exporter": "python",
   "pygments_lexer": "ipython3",
   "version": "3.9.16"
  },
  "vscode": {
   "interpreter": {
    "hash": "7dda4bf3640b7fafcd1648658b879b4cc9f6ba6084e8fb356fdaaa1a461d1690"
   }
  }
 },
 "nbformat": 4,
 "nbformat_minor": 4
}
