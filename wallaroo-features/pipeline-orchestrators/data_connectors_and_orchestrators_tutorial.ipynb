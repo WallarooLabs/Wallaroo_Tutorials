{
 "cells": [
  {
   "attachments": {},
   "cell_type": "markdown",
   "metadata": {},
   "source": [
    "## Wallaroo Pipeline Orchestrators Tutorial\n",
    "\n",
    "Wallaroo Orchestrators provide organizations with two powerful tools for connecting a Wallaroo instance to data sources, and performing automated tasks either as needed or on a scheduled basis.  Organizations can have regular, timely inference results, or deploy new models to existing pipelines, or any number of tasks of value to the organization.\n",
    "\n",
    "### References\n",
    "\n",
    "* [https://staging.docs.wallaroo.ai/wallaroo-developer-guides/wallaroo-sdk-guides/wallaroo-sdk-essentials-guide/wallaroo-sdk-essentials-pipeline-orchestration/](https://staging.docs.wallaroo.ai/wallaroo-developer-guides/wallaroo-sdk-guides/wallaroo-sdk-essentials-guide/wallaroo-sdk-essentials-pipeline-orchestration/)\n",
    "\n",
    "### Prerequisites\n",
    "\n",
    "The following are required for running this tutorial:\n",
    "\n",
    "* A deployed Wallaroo instance.\n",
    "* If running this tutorial external to the deployed Wallaroo instance's JupyterHub service, then the [Wallaroo SDK](https://pypi.org/project/wallaroo/) will be required.  The Wallaroo SDK is installed by default in the Wallaroo JupyterHub service."
   ]
  },
  {
   "attachments": {},
   "cell_type": "markdown",
   "metadata": {},
   "source": [
    "## Orchestrators Defined\n",
    "\n"
   ]
  }
 ],
 "metadata": {
  "language_info": {
   "name": "python"
  },
  "orig_nbformat": 4
 },
 "nbformat": 4,
 "nbformat_minor": 2
}
