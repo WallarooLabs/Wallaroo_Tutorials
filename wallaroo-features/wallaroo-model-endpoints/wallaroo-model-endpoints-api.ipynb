{
 "cells": [
  {
   "attachments": {},
   "cell_type": "markdown",
   "id": "5bc8a64b-35ff-48a7-952c-9c7b5eff80b9",
   "metadata": {},
   "source": [
    "This tutorial and the assets can be downloaded as part of the [Wallaroo Tutorials repository](https://github.com/WallarooLabs/Wallaroo_Tutorials/tree/main/wallaroo-features/wallaroo-model-endpoints).\n",
    "\n",
    "## Wallaroo API Inference Tutorial\n",
    "\n",
    "Wallaroo provides the ability to perform inferences through deployed pipelines via the Wallaroo SDK and the Wallaroo MLOps API.  This tutorial demonstrates performing inferences using the Wallaroo MLOps API.\n",
    "\n",
    "This tutorial provides the following:\n",
    "\n",
    "* `ccfraud.onnx`:  A pre-trained credit card fraud detection model.\n",
    "* `data/cc_data_1k.arrow`, `data/cc_data_10k.arrow`: Sample testing data in Apache Arrow format with 1,000 and 10,000 records respectively.\n",
    "\n",
    "This tutorial and sample data comes from the Machine Learning Group's demonstration on [Credit Card Fraud detection](https://www.kaggle.com/datasets/mlg-ulb/creditcardfraud).\n",
    "\n",
    "### Prerequisites\n",
    "\n",
    "The following is required for this tutorial:\n",
    "\n",
    "* A [deployed Wallaroo instance](https://docs.wallaroo.ai/wallaroo-operations-guide/wallaroo-install-guides/) with [Model Endpoints Enabled](https://docs.wallaroo.ai/wallaroo-operations-guide/wallaroo-configuration/wallaroo-model-endpoints-guide/)\n",
    "* The following Python libraries:\n",
    "  * `os`\n",
    "  * `requests`\n",
    "  * [`pandas`](https://pypi.org/project/pandas/)\n",
    "  * [`polars`](https://pypi.org/project/polars/)\n",
    "  * [`pyarrow`](https://pypi.org/project/pyarrow/)\n",
    "  * [`wallaroo`](https://pypi.org/project/wallaroo/) (Installed in the Wallaroo JupyterHub service by default).\n",
    "\n",
    "### Tutorial Goals\n",
    "\n",
    "This demonstration provides a quick tutorial on performing inferences using the Wallaroo MLOps API using a deployed pipeline's Inference URL.  This following steps will be performed:\n",
    "\n",
    "* Connect to a Wallaroo instance using the Wallaroo SDK and environmental variables.  This bypasses the browser link confirmation for a seamless login, and provides a simple method of retrieving the JWT token used for Wallaroo MLOps API calls.  For more information, see the [Wallaroo SDK Essentials Guide:  Client Connection](https://docs.wallaroo.ai/wallaroo-developer-guides/wallaroo-sdk-guides/wallaroo-sdk-essentials-guide/wallaroo-sdk-essentials-client/) and the [Wallaroo MLOps API Essentials Guide](https://docs.wallaroo.ai/wallaroo-developer-guides/wallaroo-api-guide/wallaroo-mlops-api-essential-guide/).\n",
    "* Create a workspace for our models and pipelines.\n",
    "* Upload the `ccfraud` model.\n",
    "* Create a pipeline and add the `ccfraud` model as a pipeline step.\n",
    "* Run sample inferences with pandas DataFrame inputs and Apache Arrow inputs."
   ]
  },
  {
   "attachments": {},
   "cell_type": "markdown",
   "id": "1cb8ed39-12f2-4e14-9695-f8f21e940490",
   "metadata": {},
   "source": [
    "### Retrieve Token\n",
    "\n",
    "There are two methods of retrieving the JWT token used to authenticate to the Wallaroo instance's API service:\n",
    "\n",
    "* [Wallaroo SDK](https://docs.wallaroo.ai/wallaroo-developer-guides/wallaroo-api-guide/wallaroo-mlops-api-essential-guide/#through-the-wallaroo-sdk).  This method requires a Wallaroo based user.\n",
    "* [API Clent Secret](https://docs.wallaroo.ai/wallaroo-developer-guides/wallaroo-api-guide/wallaroo-mlops-api-essential-guide/#through-keycloak).  This is the recommended method as it is user independent.  It allows any valid user to make an inference request.\n",
    "\n",
    "This tutorial will use the Wallaroo SDK method for convenience with environmental variables for a seamless login without browser validation.  For more information, see the [Wallaroo SDK Essentials Guide: Client Connection](https://docs.wallaroo.ai/wallaroo-developer-guides/wallaroo-sdk-guides/wallaroo-sdk-essentials-guide/wallaroo-sdk-essentials-client/)."
   ]
  },
  {
   "attachments": {},
   "cell_type": "markdown",
   "id": "e508320a-7941-4073-9145-1409f5eb6607",
   "metadata": {},
   "source": [
    "### API Request Methods\n",
    "\n",
    "All Wallaroo API endpoints follow the format:\n",
    "\n",
    "* `https://$URLPREFIX.api.$URLSUFFIX/v1/api$COMMAND`\n",
    "\n",
    "Where `$COMMAND` is the specific endpoint.  For example, for the command to list of workspaces in the Wallaroo instance would use the above format based on these settings:\n",
    "\n",
    "* `$URLPREFIX`: `smooth-moose-1617`\n",
    "* `$URLSUFFIX`: `example.wallaroo.ai`\n",
    "* `$COMMAND`: `/workspaces/list`\n",
    "\n",
    "This would create the following API endpoint:\n",
    "\n",
    "* `https://smooth-moose-1617.api.example.wallaroo.ai/v1/api/workspaces/list`"
   ]
  },
  {
   "attachments": {},
   "cell_type": "markdown",
   "id": "93ebf412",
   "metadata": {},
   "source": [
    "### Connect to Wallaroo\n",
    "\n",
    "For this example, a connection to the Wallaroo SDK is used.  This will be used to retrieve the JWT token for the MLOps API calls.  \n",
    "\n",
    "This example will store the user's credentials into the file `./creds.json` which contains the following:\n",
    "\n",
    "```json\n",
    "{\n",
    "    \"username\": \"{Connecting User's Username}\", \n",
    "    \"password\": \"{Connecting User's Password}\", \n",
    "    \"email\": \"{Connecting User's Email Address}\"\n",
    "}\n",
    "```\n",
    "\n",
    "Replace the `username`, `password`, and `email` fields with the user account connecting to the Wallaroo instance.  This allows a seamless connection to the Wallaroo instance and bypasses the standard browser based confirmation link.  For more information, see the [Wallaroo SDK Essentials Guide:  Client Connection](https://docs.wallaroo.ai/wallaroo-developer-guides/wallaroo-sdk-guides/wallaroo-sdk-essentials-guide/wallaroo-sdk-essentials-client/).\n",
    "\n",
    "Update `wallarooPrefix = \"YOUR PREFIX\"` and `wallarooSuffix = \"YOUR SUFFIX\"` to match the Wallaroo instance used for this demonstration."
   ]
  },
  {
   "cell_type": "code",
   "execution_count": 3,
   "id": "a4fbc453",
   "metadata": {},
   "outputs": [],
   "source": [
    "import wallaroo\n",
    "from wallaroo.object import EntityNotFoundError\n",
    "import pandas as pd\n",
    "import os\n",
    "\n",
    "import requests\n",
    "from requests.auth import HTTPBasicAuth\n",
    "\n",
    "import json\n",
    "\n",
    "# used to display dataframe information without truncating\n",
    "from IPython.display import display\n",
    "pd.set_option('display.max_colwidth', None)"
   ]
  },
  {
   "cell_type": "code",
   "execution_count": 4,
   "id": "74aa9dcf",
   "metadata": {},
   "outputs": [],
   "source": [
    "# Retrieve the login credentials.\n",
    "os.environ[\"WALLAROO_SDK_CREDENTIALS\"] = './creds.json'\n",
    "\n",
    "# Login from external connection\n",
    "\n",
    "wallarooPrefix = \"YOUR PREFIX\"\n",
    "wallarooSuffix = \"YOUR SUFFIX\"\n",
    "\n",
    "wallarooPrefix = \"sparkly-apple-3026\"\n",
    "wallarooSuffix = \"wallaroo.community\"\n",
    "\n",
    "wl = wallaroo.Client(api_endpoint=f\"https://{wallarooPrefix}.api.{wallarooSuffix}\", \n",
    "                    auth_endpoint=f\"https://{wallarooPrefix}.keycloak.{wallarooSuffix}\", \n",
    "                    auth_type=\"user_password\")"
   ]
  },
  {
   "cell_type": "code",
   "execution_count": 5,
   "id": "da268905",
   "metadata": {},
   "outputs": [],
   "source": [
    "APIURL=f\"https://{wallarooPrefix}.api.{wallarooSuffix}\""
   ]
  },
  {
   "attachments": {},
   "cell_type": "markdown",
   "id": "47bb4d88",
   "metadata": {},
   "source": [
    "## Retrieve the JWT Token\n",
    "\n",
    "As mentioned earlier, there are multiple methods of authenticating to the Wallaroo instance for MLOps API calls.  This tutorial will use the Wallaroo SDK method Wallaroo Client `wl.mlops().__dict__` method, extracting the token from the response.\n",
    "\n",
    "Reference:  [MLOps API Retrieve Token Through Wallaroo SDK](https://docs.wallaroo.ai/wallaroo-developer-guides/wallaroo-api-guide/wallaroo-mlops-api-essential-guide/#through-the-wallaroo-sdk)"
   ]
  },
  {
   "cell_type": "code",
   "execution_count": 6,
   "id": "50eeaf93",
   "metadata": {},
   "outputs": [
    {
     "data": {
      "text/plain": [
       "'eyJhbGciOiJSUzI1NiIsInR5cCIgOiAiSldUIiwia2lkIiA6ICJjTGZaYmhVQWl0a210Z0VLV0l1NnczTWlXYmUzWjc3cHdqVjJ2QWM2WUdZIn0.eyJleHAiOjE2Nzk1MjA1NjMsImlhdCI6MTY3OTUyMDUwMywianRpIjoiZGQwOGE2MWUtZmYxZC00MmFjLTg3M2ItOGQ3OGVlOTFkODQzIiwiaXNzIjoiaHR0cHM6Ly9zcGFya2x5LWFwcGxlLTMwMjYua2V5Y2xvYWsud2FsbGFyb28uY29tbXVuaXR5L2F1dGgvcmVhbG1zL21hc3RlciIsImF1ZCI6WyJtYXN0ZXItcmVhbG0iLCJhY2NvdW50Il0sInN1YiI6IjEzOGJkN2U2LTRkYzgtNGRjMS1hNzYwLWM5ZTcyMWVmM2MzNyIsInR5cCI6IkJlYXJlciIsImF6cCI6InNkay1jbGllbnQiLCJzZXNzaW9uX3N0YXRlIjoiODlkODg0YzUtMmU0MC00MTRmLWE1MjYtMmUwNGM4YjVkNGJkIiwiYWNyIjoiMSIsInJlYWxtX2FjY2VzcyI6eyJyb2xlcyI6WyJjcmVhdGUtcmVhbG0iLCJkZWZhdWx0LXJvbGVzLW1hc3RlciIsIm9mZmxpbmVfYWNjZXNzIiwiYWRtaW4iLCJ1bWFfYXV0aG9yaXphdGlvbiJdfSwicmVzb3VyY2VfYWNjZXNzIjp7Im1hc3Rlci1yZWFsbSI6eyJyb2xlcyI6WyJ2aWV3LXJlYWxtIiwidmlldy1pZGVudGl0eS1wcm92aWRlcnMiLCJtYW5hZ2UtaWRlbnRpdHktcHJvdmlkZXJzIiwiaW1wZXJzb25hdGlvbiIsImNyZWF0ZS1jbGllbnQiLCJtYW5hZ2UtdXNlcnMiLCJxdWVyeS1yZWFsbXMiLCJ2aWV3LWF1dGhvcml6YXRpb24iLCJxdWVyeS1jbGllbnRzIiwicXVlcnktdXNlcnMiLCJtYW5hZ2UtZXZlbnRzIiwibWFuYWdlLXJlYWxtIiwidmlldy1ldmVudHMiLCJ2aWV3LXVzZXJzIiwidmlldy1jbGllbnRzIiwibWFuYWdlLWF1dGhvcml6YXRpb24iLCJtYW5hZ2UtY2xpZW50cyIsInF1ZXJ5LWdyb3VwcyJdfSwiYWNjb3VudCI6eyJyb2xlcyI6WyJtYW5hZ2UtYWNjb3VudCIsIm1hbmFnZS1hY2NvdW50LWxpbmtzIiwidmlldy1wcm9maWxlIl19fSwic2NvcGUiOiJlbWFpbCBwcm9maWxlIiwic2lkIjoiODlkODg0YzUtMmU0MC00MTRmLWE1MjYtMmUwNGM4YjVkNGJkIiwiZW1haWxfdmVyaWZpZWQiOnRydWUsImh0dHBzOi8vaGFzdXJhLmlvL2p3dC9jbGFpbXMiOnsieC1oYXN1cmEtdXNlci1pZCI6IjEzOGJkN2U2LTRkYzgtNGRjMS1hNzYwLWM5ZTcyMWVmM2MzNyIsIngtaGFzdXJhLWRlZmF1bHQtcm9sZSI6InVzZXIiLCJ4LWhhc3VyYS1hbGxvd2VkLXJvbGVzIjpbInVzZXIiXSwieC1oYXN1cmEtdXNlci1ncm91cHMiOiJ7fSJ9LCJwcmVmZXJyZWRfdXNlcm5hbWUiOiJqb2huLmhhbnNhcmlja0B3YWxsYXJvby5haSIsImVtYWlsIjoiam9obi5oYW5zYXJpY2tAd2FsbGFyb28uYWkifQ.X2Ng65ISBSGF408GFP7uw7n8jO8iQ5t88mFpMmRars7YyjgBsz4dS5epQqdPrTxPyE9HmmC7pipTkz1jq-JA_WzM6FXzQNa0_6R5CX2JfPTdVS_L2u3dMWtENS_bRRg1smuIIlhub77y8bR8Y-J4sOkTC5BrRMVJy-Co2Z9eeAhtR39h0LvGbeWkbsbr2olE-d3EPE7Ws8vfaKi_uVNNhCt3gj0r6VM8PinYIjhoQiGte1ZJnplXDSk1SUE9dLXRC1MLTCCoQCTinzId4Wu4O6EZcJCJf1JBpYLfras0c4rrzf_r9ZtIssmxGrTEeOopH3SsuSU3097q7dyZsjww4A'"
      ]
     },
     "metadata": {},
     "output_type": "display_data"
    }
   ],
   "source": [
    "# Retrieve the token\n",
    "connection =wl.mlops().__dict__\n",
    "token = connection['token']\n",
    "display(token)"
   ]
  },
  {
   "attachments": {},
   "cell_type": "markdown",
   "id": "da1bb3f1",
   "metadata": {},
   "source": [
    "## Create Workspace\n",
    "\n",
    "In a production environment, the Wallaroo workspace that contains the pipeline and models would be created and deployed.  We will quickly recreate those steps using the MLOps API.  If the workspace and pipeline have already been created through the [Wallaroo SDK Inference Tutorial](https://staging.docs.wallaroo.ai/wallaroo-tutorials/wallaroo-tutorial-features/wallaroo-model-endpoints/wallaroo-external-inference-tutorial/), then we can skip directly to [Deploy Pipeline](#deploy-pipeline).\n",
    "\n",
    "Workspaces are created through the MLOps API with the `/v1/api/workspaces/create` command.  This requires the workspace name be provided, and that the workspace not already exist in the Wallaroo instance.\n",
    "\n",
    "Reference: [MLOps API Create Workspace](https://docs.wallaroo.ai/wallaroo-developer-guides/wallaroo-api-guide/wallaroo-mlops-api-essential-guide/wallaroo-mlops-api-essential-guide-workspaces/#create-workspace)"
   ]
  },
  {
   "cell_type": "code",
   "execution_count": 7,
   "id": "e58124ac",
   "metadata": {},
   "outputs": [
    {
     "data": {
      "text/plain": [
       "{'workspace_id': 167}"
      ]
     },
     "metadata": {},
     "output_type": "display_data"
    }
   ],
   "source": [
    "# Retrieve the token\n",
    "connection =wl.mlops().__dict__\n",
    "token = connection['token']\n",
    "\n",
    "# Create workspace\n",
    "apiRequest = f\"{APIURL}/v1/api/workspaces/create\"\n",
    "\n",
    "workspace_name = \"apiinferenceexampleworkspace\"\n",
    "\n",
    "data = {\n",
    "  \"workspace_name\": workspace_name\n",
    "}\n",
    "\n",
    "headers= {\n",
    "    'Authorization': 'Bearer ' + token,\n",
    "    'Content-Type':'application/json'\n",
    "}\n",
    "\n",
    "response = requests.post(apiRequest, json=data, headers=headers, verify=True).json()\n",
    "display(response)\n",
    "# Stored for future examples\n",
    "workspaceId = response['workspace_id']"
   ]
  },
  {
   "attachments": {},
   "cell_type": "markdown",
   "id": "e304ed61",
   "metadata": {},
   "source": [
    "## Upload Model\n",
    "\n",
    "The model is uploaded using the `/v1/api/models/upload` command.  This uploads a ML Model to a Wallaroo workspace via POST with `Content-Type: multipart/form-data` and takes the following parameters:\n",
    "\n",
    "* **Parameters**\n",
    "  * **name** - (*REQUIRED string*): Name of the model\n",
    "  * **visibility** - (*OPTIONAL string*): The visibility of the model as either `public` or `private`.\n",
    "  * **workspace_id** - (*REQUIRED int*): The numerical id of the workspace to upload the model to.  Stored earlier as `workspaceId`.\n",
    "\n",
    "Directly after we will use the `/models/list_versions` to retrieve model details used for later steps."
   ]
  },
  {
   "cell_type": "code",
   "execution_count": 11,
   "id": "38f65fc0",
   "metadata": {},
   "outputs": [
    {
     "data": {
      "text/plain": [
       "{'insert_models': {'returning': [{'models': [{'id': 509}]}]}}"
      ]
     },
     "metadata": {},
     "output_type": "display_data"
    }
   ],
   "source": [
    "# Upload Model\n",
    "\n",
    "# Retrieve the token\n",
    "connection =wl.mlops().__dict__\n",
    "token = connection['token']\n",
    "\n",
    "apiRequest = f\"{APIURL}/v1/api/models/upload\"\n",
    "\n",
    "model_name = \"ccfraud\"\n",
    "\n",
    "data = {\n",
    "    \"name\":model_name,\n",
    "    \"visibility\":\"public\",\n",
    "    \"workspace_id\": workspaceId\n",
    "}\n",
    "\n",
    "headers= {\n",
    "    'Authorization': 'Bearer ' + token\n",
    "}\n",
    "\n",
    "files = {\n",
    "    \"file\": ('ccfraud.onnx', open('./ccfraud.onnx','rb'))\n",
    "}\n",
    "\n",
    "response = requests.post(apiRequest, data=data, headers=headers, files=files, verify=True).json()\n",
    "display(response)\n",
    "\n",
    "modelId=response['insert_models']['returning'][0]['models'][0]['id'] # Stored for later steps."
   ]
  },
  {
   "cell_type": "code",
   "execution_count": 18,
   "id": "c5da1285",
   "metadata": {},
   "outputs": [
    {
     "data": {
      "text/plain": [
       "[{'sha': 'bc85ce596945f876256f41515c7501c399fd97ebcb9ab3dd41bf03f8937b4507',\n",
       "  'models_pk_id': 502,\n",
       "  'model_version': 'e8d54fd0-56d5-463d-85b0-95eda93212e0',\n",
       "  'owner_id': '\"\"',\n",
       "  'model_id': 'ccfraud',\n",
       "  'id': 502,\n",
       "  'file_name': 'ccfraud.onnx',\n",
       "  'image_path': None},\n",
       " {'sha': 'bc85ce596945f876256f41515c7501c399fd97ebcb9ab3dd41bf03f8937b4507',\n",
       "  'models_pk_id': 502,\n",
       "  'model_version': '3045258c-74cf-4e3b-a86c-eaba4b3398bd',\n",
       "  'owner_id': '\"\"',\n",
       "  'model_id': 'ccfraud',\n",
       "  'id': 504,\n",
       "  'file_name': 'ccfraud.onnx',\n",
       "  'image_path': None},\n",
       " {'sha': 'bc85ce596945f876256f41515c7501c399fd97ebcb9ab3dd41bf03f8937b4507',\n",
       "  'models_pk_id': 502,\n",
       "  'model_version': '29a33571-eeb5-4076-9f4d-62d4a5a45877',\n",
       "  'owner_id': '\"\"',\n",
       "  'model_id': 'ccfraud',\n",
       "  'id': 505,\n",
       "  'file_name': 'ccfraud.onnx',\n",
       "  'image_path': None},\n",
       " {'sha': 'bc85ce596945f876256f41515c7501c399fd97ebcb9ab3dd41bf03f8937b4507',\n",
       "  'models_pk_id': 509,\n",
       "  'model_version': '9573321a-2d15-456f-b01f-ccc437ddfe54',\n",
       "  'owner_id': '\"\"',\n",
       "  'model_id': 'ccfraud',\n",
       "  'id': 509,\n",
       "  'file_name': 'ccfraud.onnx',\n",
       "  'image_path': None}]"
      ]
     },
     "metadata": {},
     "output_type": "display_data"
    }
   ],
   "source": [
    "# Retrieve uploaded model details\n",
    "\n",
    "# Retrieve the token\n",
    "connection =wl.mlops().__dict__\n",
    "token = connection['token']\n",
    "\n",
    "apiRequest = f\"{APIURL}/v1/api/models/list_versions\"\n",
    "\n",
    "headers= {\n",
    "    'Authorization': 'Bearer ' + token,\n",
    "    'Content-Type':'application/json'\n",
    "}\n",
    "\n",
    "data = {\n",
    "  \"model_id\": model_name,\n",
    "  \"models_pk_id\": modelId\n",
    "}\n",
    "\n",
    "response = requests.post(apiRequest, json=data, headers=headers, verify=True).json()\n",
    "display(response)\n",
    "\n",
    "# Stored for future examples - get the last model id information\n",
    "\n",
    "exampleModelVersion = response[-1]['model_version']\n",
    "exampleModelSha = response[-1]['sha']"
   ]
  },
  {
   "attachments": {},
   "cell_type": "markdown",
   "id": "da2936e1",
   "metadata": {},
   "source": [
    "## Create Pipeline\n",
    "\n",
    "Create Pipeline in a Workspace with the `/v1/api/pipelines/create` command.  This creates a new pipeline in the specified workspace.\n",
    "\n",
    "* **Parameters**\n",
    "  * **pipeline_id** - (REQUIRED string): Name of the new pipeline.\n",
    "  * **workspace_id** - (REQUIRED int): Numerical id of the workspace for the new pipeline.  Stored earlier as `workspaceId`.\n",
    "  * **definition** - (REQUIRED string): Pipeline definitions, can be `{}` for none."
   ]
  },
  {
   "cell_type": "code",
   "execution_count": 19,
   "id": "7dc3f54c",
   "metadata": {},
   "outputs": [],
   "source": [
    "# Create pipeline\n",
    "\n",
    "# Retrieve the token\n",
    "connection =wl.mlops().__dict__\n",
    "token = connection['token']\n",
    "\n",
    "apiRequest = f\"{APIURL}/v1/api/pipelines/create\"\n",
    "\n",
    "pipeline_name=\"apiinferenceexamplepipeline\"\n",
    "\n",
    "data = {\n",
    "  \"pipeline_id\": pipeline_name,\n",
    "  \"workspace_id\": workspaceId,\n",
    "  \"definition\": {}\n",
    "}\n",
    "\n",
    "headers= {\n",
    "    'Authorization': 'Bearer ' + token,\n",
    "    'Content-Type':'application/json'\n",
    "}\n",
    "\n",
    "response = requests.post(apiRequest, json=data, headers=headers, verify=True).json()\n",
    "\n",
    "pipeline_id = response['pipeline_pk_id']\n",
    "pipeline_variant_id=response['pipeline_variant_pk_id']\n",
    "pipeline_variant_version=['pipeline_variant_version']"
   ]
  },
  {
   "attachments": {},
   "cell_type": "markdown",
   "id": "f68b6a35",
   "metadata": {},
   "source": [
    "## Deploy Pipeline\n",
    "\n",
    "With the pipeline created and the model uploaded into the workspace, the pipeline can be deployed.  This will allocate resources from the Kubernetes cluster hosting the Wallaroo instance and prepare the pipeline to process inference requests.\n",
    "\n",
    "Pipelines are deployed through the MLOps API command `/v1/api/pipelines/deploy` which takes the following parameters:\n",
    "\n",
    "* **Parameters**\n",
    "  * **deploy_id** (*REQUIRED string*): The name for the pipeline deployment.\n",
    "  * **engine_config** (*OPTIONAL string*): Additional configuration options for the pipeline.\n",
    "  * **pipeline_version_pk_id** (*REQUIRED int*): Pipeline version id.  Captured earlier as `pipeline_variant_id`.\n",
    "  * **model_configs** (*OPTIONAL Array int*): Ids of model configs to apply.\n",
    "  * **model_ids** (*OPTIONAL Array int*): Ids of models to apply to the pipeline.  If passed in, model_configs will be created automatically.\n",
    "  * **models** (*OPTIONAL Array models*):  If the model ids are not available as a pipeline step, the models' data can be passed to it through this method.  The options below are only required if `models` are provided as a parameter.\n",
    "    * **name** (*REQUIRED string*): Name of the uploaded model that is in the same workspace as the pipeline.  Captured earlier as the `model_name` variable.\n",
    "    * **version** (*REQUIRED string*): Version of the model to use.  \n",
    "    * **sha** (*REQUIRED string*): SHA value of the model.\n",
    "  * **pipeline_id** (*REQUIRED int*): Numerical value of the pipeline to deploy.\n",
    "* **Returns**\n",
    "  * **id** (*int*): The deployment id."
   ]
  },
  {
   "cell_type": "code",
   "execution_count": 25,
   "id": "bafba7d1",
   "metadata": {},
   "outputs": [
    {
     "data": {
      "text/plain": [
       "{'id': 465}"
      ]
     },
     "metadata": {},
     "output_type": "display_data"
    }
   ],
   "source": [
    "# Deploy Pipeline\n",
    "\n",
    "# Retrieve the token\n",
    "connection =wl.mlops().__dict__\n",
    "token = connection['token']\n",
    "\n",
    "apiRequest = f\"{APIURL}/v1/api/pipelines/deploy\"\n",
    "\n",
    "exampleModelDeployId=pipeline_name\n",
    "\n",
    "headers= {\n",
    "    'Authorization': 'Bearer ' + token,\n",
    "    'Content-Type':'application/json'\n",
    "}\n",
    "\n",
    "data = {\n",
    "    \"deploy_id\": exampleModelDeployId,\n",
    "    \"pipeline_version_pk_id\": pipeline_variant_id,\n",
    "    \"models\": [\n",
    "        {\n",
    "            \"name\":model_name,\n",
    "            \"version\":exampleModelVersion,\n",
    "            \"sha\":exampleModelSha\n",
    "        }\n",
    "    ],\n",
    "    \"pipeline_id\": pipeline_id\n",
    "}\n",
    "\n",
    "\n",
    "response = requests.post(apiRequest, json=data, headers=headers, verify=True).json()\n",
    "display(response)\n",
    "exampleModelDeploymentId=response['id']"
   ]
  },
  {
   "attachments": {},
   "cell_type": "markdown",
   "id": "41694f84-0dfc-4c51-bdc0-7f04a3d173ca",
   "metadata": {},
   "source": [
    "## Get External Inference URL\n",
    "\n",
    "The API command `/admin/get_pipeline_external_url` retrieves the external inference URL for a specific pipeline in a workspace.\n",
    "\n",
    "* **Parameters**\n",
    "  * **workspace_id** (*REQUIRED integer*):  The workspace integer id.\n",
    "  * **pipeline_name** (*REQUIRED string*): The name of the pipeline.\n",
    "\n",
    "In this example, a list of the workspaces will be retrieved.  Based on the setup from the Internal Pipeline Deployment URL Tutorial, the workspace matching `urlworkspace` will have it's **workspace id** stored and used for the `/admin/get_pipeline_external_url` request with the pipeline `urlpipeline`.\n",
    "\n",
    "The External Inference URL will be stored as a variable for the next step.\n",
    "\n",
    "**Modify these values to match the ones used in the Internal Pipeline Deployment URL Tutorial.**"
   ]
  },
  {
   "cell_type": "code",
   "execution_count": 26,
   "id": "a2b73cd5-8fe3-4eb5-97a0-d0e796f00b6f",
   "metadata": {},
   "outputs": [
    {
     "data": {
      "text/plain": [
       "'https://sparkly-apple-3026.api.wallaroo.community/v1/api/pipelines/infer/apiinferenceexamplepipeline-465'"
      ]
     },
     "execution_count": 26,
     "metadata": {},
     "output_type": "execute_result"
    }
   ],
   "source": [
    "# Retrieve the token\n",
    "connection =wl.mlops().__dict__\n",
    "token = connection['token']\n",
    "\n",
    "## Retrieve the pipeline's External Inference URL\n",
    "\n",
    "apiRequest = f\"{APIURL}/v1/api/admin/get_pipeline_external_url\"\n",
    "\n",
    "data = {\n",
    "    \"workspace_id\": workspaceId,\n",
    "    \"pipeline_name\": pipeline_name\n",
    "}\n",
    "\n",
    "headers= {\n",
    "    'Authorization': 'Bearer ' + token,\n",
    "    'Content-Type':'application/json'\n",
    "}\n",
    "\n",
    "response = requests.post(apiRequest, json=data, headers=headers, verify=True).json()\n",
    "externalUrl = response['url']\n",
    "externalUrl"
   ]
  },
  {
   "cell_type": "markdown",
   "id": "3c4a0937",
   "metadata": {},
   "source": [
    "### Perform Inference Through External URL\n",
    "\n",
    "The inference can now be performed through the External Inference URL.  This URL will accept the same inference data file that is used with the Wallaroo SDK, or with an Internal Inference URL as used in the Internal Pipeline Inference URL Tutorial.\n",
    "\n",
    "For this example, the `externalUrl` retrieved through the [Get External Inference URL](#get-external-inference-url) is used to submit a single inference request through the data file `data-1.json`."
   ]
  },
  {
   "cell_type": "code",
   "execution_count": 30,
   "id": "caeb608e-2ee3-424c-80c6-9650d8a2facb",
   "metadata": {},
   "outputs": [
    {
     "data": {
      "text/html": [
       "<div>\n",
       "<style scoped>\n",
       "    .dataframe tbody tr th:only-of-type {\n",
       "        vertical-align: middle;\n",
       "    }\n",
       "\n",
       "    .dataframe tbody tr th {\n",
       "        vertical-align: top;\n",
       "    }\n",
       "\n",
       "    .dataframe thead th {\n",
       "        text-align: right;\n",
       "    }\n",
       "</style>\n",
       "<table border=\"1\" class=\"dataframe\">\n",
       "  <thead>\n",
       "    <tr style=\"text-align: right;\">\n",
       "      <th></th>\n",
       "      <th>time</th>\n",
       "      <th>in</th>\n",
       "      <th>out</th>\n",
       "      <th>check_failures</th>\n",
       "      <th>metadata</th>\n",
       "    </tr>\n",
       "  </thead>\n",
       "  <tbody>\n",
       "    <tr>\n",
       "      <th>0</th>\n",
       "      <td>1679521134293</td>\n",
       "      <td>{'tensor': [1.0678324729, 0.2177810266, -1.7115145262, 0.682285721, 1.0138553067, -0.4335000013, 0.7395859437, -0.2882839595, -0.447262688, 0.5146124988, 0.3791316964, 0.5190619748, -0.4904593222, 1.1656456469, -0.9776307444, -0.6322198963, -0.6891477694, 0.1783317857, 0.1397992467, -0.3554220649, 0.4394217877, 1.4588397512, -0.3886829615, 0.4353492889, 1.7420053483, -0.4434654615, -0.1515747891, -0.2668451725, -1.4549617756]}</td>\n",
       "      <td>{'tensor': [1.0678324729, 0.2177810266, -1.7115145262, 0.682285721, 1.0138553067, -0.4335000013, 0.7395859437, -0.2882839595, -0.447262688, 0.5146124988, 0.3791316964, 0.5190619748, -0.4904593222, 1.1656456469, -0.9776307444, -0.6322198963, -0.6891477694, 0.1783317857, 0.1397992467, -0.3554220649, 0.4394217877, 1.4588397512, -0.3886829615, 0.4353492889, 1.7420053483, -0.4434654615, -0.1515747891, -0.2668451725, -1.4549617756]}</td>\n",
       "      <td>[]</td>\n",
       "      <td>{'last_model': '{\"model_name\":\"\",\"model_sha\":\"\"}'}</td>\n",
       "    </tr>\n",
       "  </tbody>\n",
       "</table>\n",
       "</div>"
      ],
      "text/plain": [
       "            time  \\\n",
       "0  1679521134293   \n",
       "\n",
       "                                                                                                                                                                                                                                                                                                                                                                                                                                               in  \\\n",
       "0  {'tensor': [1.0678324729, 0.2177810266, -1.7115145262, 0.682285721, 1.0138553067, -0.4335000013, 0.7395859437, -0.2882839595, -0.447262688, 0.5146124988, 0.3791316964, 0.5190619748, -0.4904593222, 1.1656456469, -0.9776307444, -0.6322198963, -0.6891477694, 0.1783317857, 0.1397992467, -0.3554220649, 0.4394217877, 1.4588397512, -0.3886829615, 0.4353492889, 1.7420053483, -0.4434654615, -0.1515747891, -0.2668451725, -1.4549617756]}   \n",
       "\n",
       "                                                                                                                                                                                                                                                                                                                                                                                                                                              out  \\\n",
       "0  {'tensor': [1.0678324729, 0.2177810266, -1.7115145262, 0.682285721, 1.0138553067, -0.4335000013, 0.7395859437, -0.2882839595, -0.447262688, 0.5146124988, 0.3791316964, 0.5190619748, -0.4904593222, 1.1656456469, -0.9776307444, -0.6322198963, -0.6891477694, 0.1783317857, 0.1397992467, -0.3554220649, 0.4394217877, 1.4588397512, -0.3886829615, 0.4353492889, 1.7420053483, -0.4434654615, -0.1515747891, -0.2668451725, -1.4549617756]}   \n",
       "\n",
       "  check_failures                                            metadata  \n",
       "0             []  {'last_model': '{\"model_name\":\"\",\"model_sha\":\"\"}'}  "
      ]
     },
     "metadata": {},
     "output_type": "display_data"
    }
   ],
   "source": [
    "# Retrieve the token\n",
    "connection =wl.mlops().__dict__\n",
    "token = connection['token']\n",
    "\n",
    "## Inference through external URL using dataframe\n",
    "\n",
    "# retrieve the json data to submit\n",
    "data = [\n",
    "    {\n",
    "        \"tensor\":[\n",
    "            1.0678324729,\n",
    "            0.2177810266,\n",
    "            -1.7115145262,\n",
    "            0.682285721,\n",
    "            1.0138553067,\n",
    "            -0.4335000013,\n",
    "            0.7395859437,\n",
    "            -0.2882839595,\n",
    "            -0.447262688,\n",
    "            0.5146124988,\n",
    "            0.3791316964,\n",
    "            0.5190619748,\n",
    "            -0.4904593222,\n",
    "            1.1656456469,\n",
    "            -0.9776307444,\n",
    "            -0.6322198963,\n",
    "            -0.6891477694,\n",
    "            0.1783317857,\n",
    "            0.1397992467,\n",
    "            -0.3554220649,\n",
    "            0.4394217877,\n",
    "            1.4588397512,\n",
    "            -0.3886829615,\n",
    "            0.4353492889,\n",
    "            1.7420053483,\n",
    "            -0.4434654615,\n",
    "            -0.1515747891,\n",
    "            -0.2668451725,\n",
    "            -1.4549617756\n",
    "        ]\n",
    "    }\n",
    "]\n",
    "\n",
    "# set the headers\n",
    "headers= {\n",
    "    'Authorization': 'Bearer ' + token,\n",
    "    'Content-Type':'application/json; format=pandas-records'\n",
    "}\n",
    "\n",
    "# submit the request via POST, import as pandas DataFrame\n",
    "response = pd.DataFrame.from_records(requests.post(externalUrl, json=data, headers=headers).json())\n",
    "display(response)"
   ]
  },
  {
   "cell_type": "code",
   "execution_count": 43,
   "id": "02639d02",
   "metadata": {},
   "outputs": [
    {
     "data": {
      "text/html": [
       "<div>\n",
       "<style scoped>\n",
       "    .dataframe tbody tr th:only-of-type {\n",
       "        vertical-align: middle;\n",
       "    }\n",
       "\n",
       "    .dataframe tbody tr th {\n",
       "        vertical-align: top;\n",
       "    }\n",
       "\n",
       "    .dataframe thead th {\n",
       "        text-align: right;\n",
       "    }\n",
       "</style>\n",
       "<table border=\"1\" class=\"dataframe\">\n",
       "  <thead>\n",
       "    <tr style=\"text-align: right;\">\n",
       "      <th></th>\n",
       "      <th>time</th>\n",
       "      <th>in</th>\n",
       "      <th>out</th>\n",
       "      <th>check_failures</th>\n",
       "      <th>metadata</th>\n",
       "    </tr>\n",
       "  </thead>\n",
       "  <tbody>\n",
       "    <tr>\n",
       "      <th>0</th>\n",
       "      <td>1679521597449</td>\n",
       "      <td>{'tensor': [-1.0603298, 2.3544967, -3.5638788, 5.138735, -1.2308457, -0.76878244, -3.5881228, 1.8880838, -3.2789674, -3.9563255, 4.099344, -5.653918, -0.8775733, -9.131571, -0.6093538, -3.7480276, -5.0309124, -0.8748149, 1.9870535, 0.7005486, 0.9204423, -0.10414918, 0.32295644, -0.74181414, 0.038412016, 1.0993439, 1.2603409, -0.14662448, -1.4463212]}</td>\n",
       "      <td>{'tensor': [-1.0603298, 2.3544967, -3.5638788, 5.138735, -1.2308457, -0.76878244, -3.5881228, 1.8880838, -3.2789674, -3.9563255, 4.099344, -5.653918, -0.8775733, -9.131571, -0.6093538, -3.7480276, -5.0309124, -0.8748149, 1.9870535, 0.7005486, 0.9204423, -0.10414918, 0.32295644, -0.74181414, 0.038412016, 1.0993439, 1.2603409, -0.14662448, -1.4463212]}</td>\n",
       "      <td>[]</td>\n",
       "      <td>{'last_model': '{\"model_name\":\"\",\"model_sha\":\"\"}'}</td>\n",
       "    </tr>\n",
       "    <tr>\n",
       "      <th>1</th>\n",
       "      <td>1679521597449</td>\n",
       "      <td>{'tensor': [-1.0603298, 2.3544967, -3.5638788, 5.138735, -1.2308457, -0.76878244, -3.5881228, 1.8880838, -3.2789674, -3.9563255, 4.099344, -5.653918, -0.8775733, -9.131571, -0.6093538, -3.7480276, -5.0309124, -0.8748149, 1.9870535, 0.7005486, 0.9204423, -0.10414918, 0.32295644, -0.74181414, 0.038412016, 1.0993439, 1.2603409, -0.14662448, -1.4463212]}</td>\n",
       "      <td>{'tensor': [-1.0603298, 2.3544967, -3.5638788, 5.138735, -1.2308457, -0.76878244, -3.5881228, 1.8880838, -3.2789674, -3.9563255, 4.099344, -5.653918, -0.8775733, -9.131571, -0.6093538, -3.7480276, -5.0309124, -0.8748149, 1.9870535, 0.7005486, 0.9204423, -0.10414918, 0.32295644, -0.74181414, 0.038412016, 1.0993439, 1.2603409, -0.14662448, -1.4463212]}</td>\n",
       "      <td>[]</td>\n",
       "      <td>{'last_model': '{\"model_name\":\"\",\"model_sha\":\"\"}'}</td>\n",
       "    </tr>\n",
       "    <tr>\n",
       "      <th>2</th>\n",
       "      <td>1679521597449</td>\n",
       "      <td>{'tensor': [-1.0603298, 2.3544967, -3.5638788, 5.138735, -1.2308457, -0.76878244, -3.5881228, 1.8880838, -3.2789674, -3.9563255, 4.099344, -5.653918, -0.8775733, -9.131571, -0.6093538, -3.7480276, -5.0309124, -0.8748149, 1.9870535, 0.7005486, 0.9204423, -0.10414918, 0.32295644, -0.74181414, 0.038412016, 1.0993439, 1.2603409, -0.14662448, -1.4463212]}</td>\n",
       "      <td>{'tensor': [-1.0603298, 2.3544967, -3.5638788, 5.138735, -1.2308457, -0.76878244, -3.5881228, 1.8880838, -3.2789674, -3.9563255, 4.099344, -5.653918, -0.8775733, -9.131571, -0.6093538, -3.7480276, -5.0309124, -0.8748149, 1.9870535, 0.7005486, 0.9204423, -0.10414918, 0.32295644, -0.74181414, 0.038412016, 1.0993439, 1.2603409, -0.14662448, -1.4463212]}</td>\n",
       "      <td>[]</td>\n",
       "      <td>{'last_model': '{\"model_name\":\"\",\"model_sha\":\"\"}'}</td>\n",
       "    </tr>\n",
       "    <tr>\n",
       "      <th>3</th>\n",
       "      <td>1679521597449</td>\n",
       "      <td>{'tensor': [-1.0603298, 2.3544967, -3.5638788, 5.138735, -1.2308457, -0.76878244, -3.5881228, 1.8880838, -3.2789674, -3.9563255, 4.099344, -5.653918, -0.8775733, -9.131571, -0.6093538, -3.7480276, -5.0309124, -0.8748149, 1.9870535, 0.7005486, 0.9204423, -0.10414918, 0.32295644, -0.74181414, 0.038412016, 1.0993439, 1.2603409, -0.14662448, -1.4463212]}</td>\n",
       "      <td>{'tensor': [-1.0603298, 2.3544967, -3.5638788, 5.138735, -1.2308457, -0.76878244, -3.5881228, 1.8880838, -3.2789674, -3.9563255, 4.099344, -5.653918, -0.8775733, -9.131571, -0.6093538, -3.7480276, -5.0309124, -0.8748149, 1.9870535, 0.7005486, 0.9204423, -0.10414918, 0.32295644, -0.74181414, 0.038412016, 1.0993439, 1.2603409, -0.14662448, -1.4463212]}</td>\n",
       "      <td>[]</td>\n",
       "      <td>{'last_model': '{\"model_name\":\"\",\"model_sha\":\"\"}'}</td>\n",
       "    </tr>\n",
       "    <tr>\n",
       "      <th>4</th>\n",
       "      <td>1679521597449</td>\n",
       "      <td>{'tensor': [0.5817662, 0.09788155, 0.15468194, 0.4754102, -0.19788623, -0.45043448, 0.016654044, -0.025607055, 0.09205616, -0.27839172, 0.059329946, -0.019658541, -0.42250833, -0.12175389, 1.5473095, 0.23916228, 0.3553975, -0.76851654, -0.7000849, -0.11900433, -0.3450517, -1.1065114, 0.25234112, 0.020944182, 0.21992674, 0.25406894, -0.04502251, 0.10867739, 0.25471792]}</td>\n",
       "      <td>{'tensor': [0.5817662, 0.09788155, 0.15468194, 0.4754102, -0.19788623, -0.45043448, 0.016654044, -0.025607055, 0.09205616, -0.27839172, 0.059329946, -0.019658541, -0.42250833, -0.12175389, 1.5473095, 0.23916228, 0.3553975, -0.76851654, -0.7000849, -0.11900433, -0.3450517, -1.1065114, 0.25234112, 0.020944182, 0.21992674, 0.25406894, -0.04502251, 0.10867739, 0.25471792]}</td>\n",
       "      <td>[]</td>\n",
       "      <td>{'last_model': '{\"model_name\":\"\",\"model_sha\":\"\"}'}</td>\n",
       "    </tr>\n",
       "  </tbody>\n",
       "</table>\n",
       "</div>"
      ],
      "text/plain": [
       "            time  \\\n",
       "0  1679521597449   \n",
       "1  1679521597449   \n",
       "2  1679521597449   \n",
       "3  1679521597449   \n",
       "4  1679521597449   \n",
       "\n",
       "                                                                                                                                                                                                                                                                                                                                                                                    in  \\\n",
       "0                     {'tensor': [-1.0603298, 2.3544967, -3.5638788, 5.138735, -1.2308457, -0.76878244, -3.5881228, 1.8880838, -3.2789674, -3.9563255, 4.099344, -5.653918, -0.8775733, -9.131571, -0.6093538, -3.7480276, -5.0309124, -0.8748149, 1.9870535, 0.7005486, 0.9204423, -0.10414918, 0.32295644, -0.74181414, 0.038412016, 1.0993439, 1.2603409, -0.14662448, -1.4463212]}   \n",
       "1                     {'tensor': [-1.0603298, 2.3544967, -3.5638788, 5.138735, -1.2308457, -0.76878244, -3.5881228, 1.8880838, -3.2789674, -3.9563255, 4.099344, -5.653918, -0.8775733, -9.131571, -0.6093538, -3.7480276, -5.0309124, -0.8748149, 1.9870535, 0.7005486, 0.9204423, -0.10414918, 0.32295644, -0.74181414, 0.038412016, 1.0993439, 1.2603409, -0.14662448, -1.4463212]}   \n",
       "2                     {'tensor': [-1.0603298, 2.3544967, -3.5638788, 5.138735, -1.2308457, -0.76878244, -3.5881228, 1.8880838, -3.2789674, -3.9563255, 4.099344, -5.653918, -0.8775733, -9.131571, -0.6093538, -3.7480276, -5.0309124, -0.8748149, 1.9870535, 0.7005486, 0.9204423, -0.10414918, 0.32295644, -0.74181414, 0.038412016, 1.0993439, 1.2603409, -0.14662448, -1.4463212]}   \n",
       "3                     {'tensor': [-1.0603298, 2.3544967, -3.5638788, 5.138735, -1.2308457, -0.76878244, -3.5881228, 1.8880838, -3.2789674, -3.9563255, 4.099344, -5.653918, -0.8775733, -9.131571, -0.6093538, -3.7480276, -5.0309124, -0.8748149, 1.9870535, 0.7005486, 0.9204423, -0.10414918, 0.32295644, -0.74181414, 0.038412016, 1.0993439, 1.2603409, -0.14662448, -1.4463212]}   \n",
       "4  {'tensor': [0.5817662, 0.09788155, 0.15468194, 0.4754102, -0.19788623, -0.45043448, 0.016654044, -0.025607055, 0.09205616, -0.27839172, 0.059329946, -0.019658541, -0.42250833, -0.12175389, 1.5473095, 0.23916228, 0.3553975, -0.76851654, -0.7000849, -0.11900433, -0.3450517, -1.1065114, 0.25234112, 0.020944182, 0.21992674, 0.25406894, -0.04502251, 0.10867739, 0.25471792]}   \n",
       "\n",
       "                                                                                                                                                                                                                                                                                                                                                                                   out  \\\n",
       "0                     {'tensor': [-1.0603298, 2.3544967, -3.5638788, 5.138735, -1.2308457, -0.76878244, -3.5881228, 1.8880838, -3.2789674, -3.9563255, 4.099344, -5.653918, -0.8775733, -9.131571, -0.6093538, -3.7480276, -5.0309124, -0.8748149, 1.9870535, 0.7005486, 0.9204423, -0.10414918, 0.32295644, -0.74181414, 0.038412016, 1.0993439, 1.2603409, -0.14662448, -1.4463212]}   \n",
       "1                     {'tensor': [-1.0603298, 2.3544967, -3.5638788, 5.138735, -1.2308457, -0.76878244, -3.5881228, 1.8880838, -3.2789674, -3.9563255, 4.099344, -5.653918, -0.8775733, -9.131571, -0.6093538, -3.7480276, -5.0309124, -0.8748149, 1.9870535, 0.7005486, 0.9204423, -0.10414918, 0.32295644, -0.74181414, 0.038412016, 1.0993439, 1.2603409, -0.14662448, -1.4463212]}   \n",
       "2                     {'tensor': [-1.0603298, 2.3544967, -3.5638788, 5.138735, -1.2308457, -0.76878244, -3.5881228, 1.8880838, -3.2789674, -3.9563255, 4.099344, -5.653918, -0.8775733, -9.131571, -0.6093538, -3.7480276, -5.0309124, -0.8748149, 1.9870535, 0.7005486, 0.9204423, -0.10414918, 0.32295644, -0.74181414, 0.038412016, 1.0993439, 1.2603409, -0.14662448, -1.4463212]}   \n",
       "3                     {'tensor': [-1.0603298, 2.3544967, -3.5638788, 5.138735, -1.2308457, -0.76878244, -3.5881228, 1.8880838, -3.2789674, -3.9563255, 4.099344, -5.653918, -0.8775733, -9.131571, -0.6093538, -3.7480276, -5.0309124, -0.8748149, 1.9870535, 0.7005486, 0.9204423, -0.10414918, 0.32295644, -0.74181414, 0.038412016, 1.0993439, 1.2603409, -0.14662448, -1.4463212]}   \n",
       "4  {'tensor': [0.5817662, 0.09788155, 0.15468194, 0.4754102, -0.19788623, -0.45043448, 0.016654044, -0.025607055, 0.09205616, -0.27839172, 0.059329946, -0.019658541, -0.42250833, -0.12175389, 1.5473095, 0.23916228, 0.3553975, -0.76851654, -0.7000849, -0.11900433, -0.3450517, -1.1065114, 0.25234112, 0.020944182, 0.21992674, 0.25406894, -0.04502251, 0.10867739, 0.25471792]}   \n",
       "\n",
       "  check_failures                                            metadata  \n",
       "0             []  {'last_model': '{\"model_name\":\"\",\"model_sha\":\"\"}'}  \n",
       "1             []  {'last_model': '{\"model_name\":\"\",\"model_sha\":\"\"}'}  \n",
       "2             []  {'last_model': '{\"model_name\":\"\",\"model_sha\":\"\"}'}  \n",
       "3             []  {'last_model': '{\"model_name\":\"\",\"model_sha\":\"\"}'}  \n",
       "4             []  {'last_model': '{\"model_name\":\"\",\"model_sha\":\"\"}'}  "
      ]
     },
     "metadata": {},
     "output_type": "display_data"
    }
   ],
   "source": [
    "# Retrieve the token\n",
    "connection =wl.mlops().__dict__\n",
    "token = connection['token']\n",
    "\n",
    "# Submit arrow file\n",
    "dataFile=\"./data/cc_data_10k.arrow\"\n",
    "\n",
    "data = open(dataFile,'rb').read()\n",
    "\n",
    "\n",
    "contentType=\"application/vnd.apache.arrow.file\"\n",
    "\n",
    "# set the headers\n",
    "headers= {\n",
    "    'Authorization': 'Bearer ' + token,\n",
    "    'Content-Type':'application/vnd.apache.arrow.file'\n",
    "}\n",
    "\n",
    "response = pd.DataFrame.from_records(requests.post(externalUrl, headers=headers, data=data, verify=True).json())\n",
    "display(response.head(5))"
   ]
  },
  {
   "attachments": {},
   "cell_type": "markdown",
   "id": "f8907c12",
   "metadata": {},
   "source": [
    "### Undeploy the Pipeline\n",
    "\n",
    "With the tutorial complete, we'll undeploy the pipeline with `/v1/api/pipelines/undeploy` and return the resources back to the Wallaroo instance."
   ]
  },
  {
   "cell_type": "code",
   "execution_count": 49,
   "id": "19177e79",
   "metadata": {},
   "outputs": [
    {
     "data": {
      "text/plain": [
       "None"
      ]
     },
     "metadata": {},
     "output_type": "display_data"
    }
   ],
   "source": [
    "# Retrieve the token\n",
    "connection =wl.mlops().__dict__\n",
    "token = connection['token']\n",
    "\n",
    "apiRequest = f\"{APIURL}/v1/api/pipelines/undeploy\"\n",
    "\n",
    "data = {\n",
    "    \"pipeline_id\": pipeline_id,\n",
    "    \"deployment_id\":exampleModelDeploymentId\n",
    "}\n",
    "\n",
    "# set the headers\n",
    "headers= {\n",
    "    'Authorization': 'Bearer ' + token,\n",
    "    'Content-Type':'application/json; format=pandas-records'\n",
    "}\n",
    "\n",
    "response = requests.post(apiRequest, json=data, headers=headers, verify=True).json()\n",
    "display(response)"
   ]
  },
  {
   "cell_type": "markdown",
   "id": "f5bb0222",
   "metadata": {},
   "source": [
    "Wallaroo supports the ability to perform inferences through the SDK and through the API for each deployed pipeline.  For more information on how to use Wallaroo, see the [Wallaroo Documentation Site](https://docs.wallaroo.ai) for full details."
   ]
  },
  {
   "cell_type": "markdown",
   "id": "97132c10",
   "metadata": {},
   "source": [
    "##"
   ]
  }
 ],
 "metadata": {
  "kernelspec": {
   "display_name": "arrowtests",
   "language": "python",
   "name": "python3"
  },
  "language_info": {
   "codemirror_mode": {
    "name": "ipython",
    "version": 3
   },
   "file_extension": ".py",
   "mimetype": "text/x-python",
   "name": "python",
   "nbconvert_exporter": "python",
   "pygments_lexer": "ipython3",
   "version": "3.8.12"
  },
  "vscode": {
   "interpreter": {
    "hash": "7dda4bf3640b7fafcd1648658b879b4cc9f6ba6084e8fb356fdaaa1a461d1690"
   }
  }
 },
 "nbformat": 4,
 "nbformat_minor": 5
}
