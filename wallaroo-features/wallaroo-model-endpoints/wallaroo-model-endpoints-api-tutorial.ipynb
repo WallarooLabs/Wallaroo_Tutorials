{
 "cells": [
  {
   "attachments": {},
   "cell_type": "markdown",
   "id": "5bc8a64b-35ff-48a7-952c-9c7b5eff80b9",
   "metadata": {},
   "source": [
    "This tutorial and the assets can be downloaded as part of the [Wallaroo Tutorials repository](https://github.com/WallarooLabs/Wallaroo_Tutorials/tree/main/wallaroo-features/wallaroo-model-endpoints).\n",
    "\n",
    "## External Pipeline Inference URL Tutorial\n",
    "\n",
    "Wallaroo provides the ability to perform inferences through deployed pipelines via both internal and external URLs.  These URLs allow inferences to be performed by submitting data to the internal or external URL, with the inference results returned in the same format as the [InferenceResult Object](https://docs.wallaroo.ai/wallaroo-developer-guides/wallaroo-sdk-guides/wallaroo-sdk-essentials-guide/#run-inference-through-a-pipeline).\n",
    "\n",
    "**Internal URLs** are available only through the internal Kubernetes environment hosting the Wallaroo instance as demonstrated in this tutorial.\n",
    "**External URLs** are available outside of the Kubernetes environment, such as the public internet.  These are demonstrated in the External Pipeline Deployment URL Tutorial.\n",
    "\n",
    "**IMPORTANT NOTE**:  Before starting this tutorial, the Internal Pipeline Deployment URL Tutorial must be completed to establish the Wallaroo workspace, pipeline and model to be used \n",
    "\n",
    "The following tutorial shows how to set up an environment and demonstrates how to use the External Deployment URL.  This example provides the following:\n",
    "\n",
    "* For Arrow enabled instances:\n",
    "  * `data_1.df.json`, `data_1k.df.json` and `data_25k.df.json`:  Sample data used for testing inferences with the sample model.\n",
    "* For Arrow distabled instances:\n",
    "  * `data_1.json`, `data_1k.json` and `data_25k.json`:  Sample data used for testing inferences with the sample model."
   ]
  },
  {
   "attachments": {},
   "cell_type": "markdown",
   "id": "d12ae9ea-8690-47b1-9d38-5a8881fce6f8",
   "metadata": {},
   "source": [
    "## Prerequisites\n",
    "\n",
    "1. Before running this sample notebook, verify that the Internal Pipeline Deployment URL Tutorial has been run.  This will create the workspace, pipeline, etc for the below example to run.\n",
    "1. Enable external URl inference endpoints through the Wallaroo Administrative Dashboard.  This can be accessed through the `kots` application as detailed in the [Wallaroo Install Guildes](https://docs.wallaroo.ai/wallaroo-operations-guide/wallaroo-install-guides/)."
   ]
  },
  {
   "attachments": {},
   "cell_type": "markdown",
   "id": "1cb8ed39-12f2-4e14-9695-f8f21e940490",
   "metadata": {},
   "source": [
    "### Retrieve Token\n",
    "\n",
    "There are two methods of retrieving the JWT token used to authenticate to the Wallaroo instance's API service:\n",
    "\n",
    "* [Wallaroo SDK](https://docs.wallaroo.ai/wallaroo-developer-guides/wallaroo-api-guide/wallaroo-mlops-api-essential-guide/#through-the-wallaroo-sdk).  This method requires a Wallaroo based user.\n",
    "* [API Clent Secret](https://docs.wallaroo.ai/wallaroo-developer-guides/wallaroo-api-guide/wallaroo-mlops-api-essential-guide/#through-keycloak).  This is the recommended method as it is user independent.  It allows any valid user to make an inference request.\n",
    "\n",
    "This tutorial will use the Wallaroo SDK method for convenience, with examples on using the API Client Secret method."
   ]
  },
  {
   "attachments": {},
   "cell_type": "markdown",
   "id": "e508320a-7941-4073-9145-1409f5eb6607",
   "metadata": {},
   "source": [
    "### API Request Methods\n",
    "\n",
    "All Wallaroo API endpoints follow the format:\n",
    "\n",
    "* `https://$URLPREFIX.api.$URLSUFFIX/v1/api$COMMAND`\n",
    "\n",
    "Where `$COMMAND` is the specific endpoint.  For example, for the command to list of workspaces in the Wallaroo instance would use the above format based on these settings:\n",
    "\n",
    "* `$URLPREFIX`: `smooth-moose-1617`\n",
    "* `$URLSUFFIX`: `example.wallaroo.ai`\n",
    "* `$COMMAND`: `/workspaces/list`\n",
    "\n",
    "This would create the following API endpoint:\n",
    "\n",
    "* `https://smooth-moose-1617.api.example.wallaroo.ai/v1/api/workspaces/list`"
   ]
  },
  {
   "attachments": {},
   "cell_type": "markdown",
   "id": "93ebf412",
   "metadata": {},
   "source": [
    "### Connect to Wallaroo\n",
    "\n",
    "For this example, a connection to the Wallaroo SDK is used.  This will be used to retrieve the JWT token as describe above.  Update `wallarooPrefix = \"YOUR PREFIX\"` and `wallarooSuffix = \"YOUR SUFFIX\"` to match the Wallaroo instance used for this demonstration."
   ]
  },
  {
   "cell_type": "code",
   "execution_count": 6,
   "id": "a4fbc453",
   "metadata": {},
   "outputs": [],
   "source": [
    "import wallaroo\n",
    "from wallaroo.object import EntityNotFoundError\n",
    "import pandas as pd\n",
    "\n",
    "import requests\n",
    "from requests.auth import HTTPBasicAuth\n",
    "\n",
    "import json\n",
    "\n",
    "# used to display dataframe information without truncating\n",
    "from IPython.display import display\n",
    "pd.set_option('display.max_colwidth', None)"
   ]
  },
  {
   "cell_type": "code",
   "execution_count": 7,
   "id": "74aa9dcf",
   "metadata": {},
   "outputs": [],
   "source": [
    "# Client connection from local Wallaroo instance\n",
    "\n",
    "wl = wallaroo.Client()\n",
    "\n",
    "# SSO login through keycloak\n",
    "\n",
    "# wallarooPrefix = \"YOUR PREFIX\"\n",
    "# wallarooSuffix = \"YOUR SUFFIX\"\n",
    "\n",
    "# wl = wallaroo.Client(api_endpoint=f\"https://{wallarooPrefix}.api.{wallarooSuffix}\", \n",
    "#                     auth_endpoint=f\"https://{wallarooPrefix}.keycloak.{wallarooSuffix}\", \n",
    "#                     auth_type=\"sso\")"
   ]
  },
  {
   "cell_type": "code",
   "execution_count": 8,
   "id": "da268905",
   "metadata": {},
   "outputs": [],
   "source": [
    "APIURL=f\"https://{wallarooPrefix}.api.{wallarooSuffix}/v1/api\""
   ]
  },
  {
   "attachments": {},
   "cell_type": "markdown",
   "id": "7919dd8a",
   "metadata": {},
   "source": [
    "### Arrow Support\n",
    "\n",
    "As of the 2023.1 release, Wallaroo provides support for dataframe and Arrow for inference inputs.  This tutorial allows users to adjust their experience based on whether they have enabled Arrow support in their Wallaroo instance or not.\n",
    "\n",
    "If Arrow support has been enabled, `arrowEnabled=True`. If disabled or you're not sure, set it to `arrowEnabled=False`\n",
    "\n",
    "The examples below will be shown in an arrow enabled environment."
   ]
  },
  {
   "cell_type": "code",
   "execution_count": 9,
   "id": "da68a78f",
   "metadata": {},
   "outputs": [
    {
     "name": "stdout",
     "output_type": "stream",
     "text": [
      "True\n"
     ]
    }
   ],
   "source": [
    "import os\n",
    "# Only set the below to make the OS environment ARROW_ENABLED to TRUE.  Otherwise, leave as is.\n",
    "# os.environ[\"ARROW_ENABLED\"]=\"True\"\n",
    "\n",
    "if \"ARROW_ENABLED\" not in os.environ or os.environ[\"ARROW_ENABLED\"].casefold() == \"False\".casefold():\n",
    "    arrowEnabled = False\n",
    "else:\n",
    "    arrowEnabled = True\n",
    "print(arrowEnabled)"
   ]
  },
  {
   "attachments": {},
   "cell_type": "markdown",
   "id": "d371387d",
   "metadata": {},
   "source": [
    "## Verify Pipeline Deployed\n",
    "\n",
    "We're using the same pipeline from the Internal Pipeline Inference URL Tutorial.  We'll deploy it via the SDK to verify it is running for the later tests."
   ]
  },
  {
   "cell_type": "code",
   "execution_count": 10,
   "id": "be436f3b",
   "metadata": {},
   "outputs": [
    {
     "data": {
      "text/html": [
       "<table><tr><th>name</th> <td>urldemopipeline</td></tr><tr><th>created</th> <td>2023-02-27 17:55:12.813456+00:00</td></tr><tr><th>last_updated</th> <td>2023-02-27 17:59:03.244180+00:00</td></tr><tr><th>deployed</th> <td>True</td></tr><tr><th>tags</th> <td></td></tr><tr><th>versions</th> <td>6db21694-9e11-42cb-914c-1528549cedca, 930fe54d-9503-4768-8bf9-499f72272098, 54158104-c71d-4980-a6a3-25564c909b44</td></tr><tr><th>steps</th> <td>urldemomodel</td></tr></table>"
      ],
      "text/plain": [
       "{'name': 'urldemopipeline', 'create_time': datetime.datetime(2023, 2, 27, 17, 55, 12, 813456, tzinfo=tzutc()), 'definition': \"[{'ModelInference': {'models': [{'name': 'urldemomodel', 'version': 'a4a80d9f-dcfe-419d-becd-dbab31b65904', 'sha': 'd71d9ffc61aaac58c2b1ed70a2db13d1416fb9d3f5b891e5e4e2e97180fe22f8'}]}}]\"}"
      ]
     },
     "execution_count": 10,
     "metadata": {},
     "output_type": "execute_result"
    }
   ],
   "source": [
    "workspace_name = 'urldemoworkspace'\n",
    "pipeline_name = 'urldemopipeline'\n",
    "model_name = 'urldemomodel'\n",
    "model_file_name = './alohacnnlstm.zip'\n",
    "\n",
    "def get_workspace(name):\n",
    "    workspace = None\n",
    "    for ws in wl.list_workspaces():\n",
    "        if ws.name() == name:\n",
    "            workspace= ws\n",
    "    if(workspace == None):\n",
    "        workspace = wl.create_workspace(name)\n",
    "    return workspace\n",
    "\n",
    "def get_pipeline(name):\n",
    "    try:\n",
    "        pipeline = wl.pipelines_by_name(pipeline_name)[0]\n",
    "    except EntityNotFoundError:\n",
    "        pipeline = wl.build_pipeline(pipeline_name)\n",
    "    return pipeline\n",
    "\n",
    "workspace = get_workspace(workspace_name)\n",
    "\n",
    "wl.set_current_workspace(workspace)\n",
    "\n",
    "pipeline = get_pipeline(pipeline_name)\n",
    "pipeline\n",
    "\n",
    "pipeline.deploy()"
   ]
  },
  {
   "attachments": {},
   "cell_type": "markdown",
   "id": "41694f84-0dfc-4c51-bdc0-7f04a3d173ca",
   "metadata": {},
   "source": [
    "### Get External Inference URL\n",
    "\n",
    "The API command `/admin/get_pipeline_external_url` retrieves the external inference URL for a specific pipeline in a workspace.\n",
    "\n",
    "* **Parameters**\n",
    "  * **workspace_id** (*REQUIRED integer*):  The workspace integer id.\n",
    "  * **pipeline_name** (*REQUIRED string*): The name of the pipeline.\n",
    "\n",
    "In this example, a list of the workspaces will be retrieved.  Based on the setup from the Internal Pipeline Deployment URL Tutorial, the workspace matching `urlworkspace` will have it's **workspace id** stored and used for the `/admin/get_pipeline_external_url` request with the pipeline `urlpipeline`.\n",
    "\n",
    "The External Inference URL will be stored as a variable for the next step.\n",
    "\n",
    "**Modify these values to match the ones used in the Internal Pipeline Deployment URL Tutorial.**"
   ]
  },
  {
   "cell_type": "code",
   "execution_count": 11,
   "id": "4f6b01dc-e783-409a-b00a-c8ea22313e9f",
   "metadata": {},
   "outputs": [],
   "source": [
    "# Retrieve the token\n",
    "connection =wl.mlops().__dict__\n",
    "token = connection['token']\n",
    "\n",
    "## Start with the a lists of the workspaces to verify the ID\n",
    "\n",
    "workspaceName = \"urldemoworkspace\"\n",
    "urlPipeline = \"urldemopipeline\"\n",
    "\n",
    "# List workspaces\n",
    "\n",
    "apiRequest = f\"{APIURL}/workspaces/list\"\n",
    "\n",
    "data = {\n",
    "}\n",
    "\n",
    "headers= {\n",
    "    'Authorization': 'Bearer ' + token,\n",
    "    'Content-Type':'application/json'\n",
    "}\n",
    "\n",
    "response = requests.post(apiRequest, json=data, headers=headers, verify=True)\n",
    "workspaces = response.json()"
   ]
  },
  {
   "cell_type": "code",
   "execution_count": 12,
   "id": "bea12222",
   "metadata": {},
   "outputs": [],
   "source": [
    "workspaceList = workspaces['workspaces']\n",
    "#print(workspaceList)\n",
    "workspaceId = list(filter(lambda x:x[\"name\"]==workspaceName,workspaceList))[0]['id']"
   ]
  },
  {
   "cell_type": "code",
   "execution_count": 13,
   "id": "a2b73cd5-8fe3-4eb5-97a0-d0e796f00b6f",
   "metadata": {},
   "outputs": [
    {
     "data": {
      "text/plain": [
       "'https://doc-test.api.wallaroocommunity.ninja/v1/api/pipelines/infer/urldemopipeline-11'"
      ]
     },
     "execution_count": 13,
     "metadata": {},
     "output_type": "execute_result"
    }
   ],
   "source": [
    "# Retrieve the token\n",
    "connection =wl.mlops().__dict__\n",
    "token = connection['token']\n",
    "\n",
    "## Retrieve the pipeline's External Inference URL\n",
    "\n",
    "apiRequest = f\"{APIURL}/admin/get_pipeline_external_url\"\n",
    "\n",
    "data = {\n",
    "    \"workspace_id\": workspaceId,\n",
    "    \"pipeline_name\": urlPipeline\n",
    "}\n",
    "\n",
    "headers= {\n",
    "    'Authorization': 'Bearer ' + token,\n",
    "    'Content-Type':'application/json'\n",
    "}\n",
    "\n",
    "response = requests.post(apiRequest, json=data, headers=headers, verify=True).json()\n",
    "externalUrl = response['url']\n",
    "externalUrl"
   ]
  },
  {
   "cell_type": "markdown",
   "id": "3c4a0937",
   "metadata": {},
   "source": [
    "### Perform Inference Through External URL\n",
    "\n",
    "The inference can now be performed through the External Inference URL.  This URL will accept the same inference data file that is used with the Wallaroo SDK, or with an Internal Inference URL as used in the Internal Pipeline Inference URL Tutorial.\n",
    "\n",
    "For this example, the `externalUrl` retrieved through the [Get External Inference URL](#get-external-inference-url) is used to submit a single inference request through the data file `data-1.json`."
   ]
  },
  {
   "cell_type": "code",
   "execution_count": 14,
   "id": "caeb608e-2ee3-424c-80c6-9650d8a2facb",
   "metadata": {},
   "outputs": [
    {
     "name": "stdout",
     "output_type": "stream",
     "text": [
      "[{\"time\": 1677520761514, \"in\": {\"text_input\": [0, 0, 0, 0, 0, 0, 0, 0, 0, 0, 0, 0, 0, 0, 0, 0, 0, 0, 0, 0, 0, 0, 0, 0, 0, 0, 0, 0, 0, 0, 0, 0, 0, 0, 0, 0, 0, 0, 0, 0, 28, 16, 32, 23, 29, 32, 30, 19, 26, 17]}, \"out\": {\"corebot\": [0.9829148], \"banjori\": [0.0015195871], \"suppobox\": [1.3889898e-27], \"ma\n"
     ]
    }
   ],
   "source": [
    "# Retrieve the token\n",
    "connection =wl.mlops().__dict__\n",
    "token = connection['token']\n",
    "\n",
    "## Inference through external URL\n",
    "\n",
    "if arrowEnabled is True:\n",
    "    # retrieve the json data to submit\n",
    "    data = json.load(open('./data/data_1k.df.json','rb'))\n",
    "    # set the headers\n",
    "    headers= {\n",
    "        'Authorization': 'Bearer ' + token,\n",
    "        'Content-Type':'application/json; format=pandas-records'\n",
    "    }\n",
    "else:\n",
    "    data = json.load(open('./data/data_1k.json','rb'))\n",
    "    # set the headers\n",
    "    headers= {\n",
    "        'Authorization': 'Bearer ' + token\n",
    "    }\n",
    "\n",
    "# submit the request via POST\n",
    "response = requests.post(externalUrl, json=data, headers=headers)\n",
    "\n",
    "# Only the first 300 characters will be displayed for brevity\n",
    "printResponse = json.dumps(response.json())\n",
    "print(printResponse[0:300])\n"
   ]
  },
  {
   "attachments": {},
   "cell_type": "markdown",
   "id": "f8907c12",
   "metadata": {},
   "source": [
    "### Undeploy the Pipeline\n",
    "\n",
    "With the tutorial complete, we'll use the SDK to undeploy the pipeline and return the resources back to the Wallaroo instance."
   ]
  },
  {
   "cell_type": "code",
   "execution_count": 16,
   "id": "19177e79",
   "metadata": {},
   "outputs": [
    {
     "data": {
      "text/html": [
       "<table><tr><th>name</th> <td>urldemopipeline</td></tr><tr><th>created</th> <td>2023-02-27 17:55:12.813456+00:00</td></tr><tr><th>last_updated</th> <td>2023-02-27 17:59:03.244180+00:00</td></tr><tr><th>deployed</th> <td>False</td></tr><tr><th>tags</th> <td></td></tr><tr><th>versions</th> <td>6db21694-9e11-42cb-914c-1528549cedca, 930fe54d-9503-4768-8bf9-499f72272098, 54158104-c71d-4980-a6a3-25564c909b44</td></tr><tr><th>steps</th> <td>urldemomodel</td></tr></table>"
      ],
      "text/plain": [
       "{'name': 'urldemopipeline', 'create_time': datetime.datetime(2023, 2, 27, 17, 55, 12, 813456, tzinfo=tzutc()), 'definition': \"[{'ModelInference': {'models': [{'name': 'urldemomodel', 'version': 'a4a80d9f-dcfe-419d-becd-dbab31b65904', 'sha': 'd71d9ffc61aaac58c2b1ed70a2db13d1416fb9d3f5b891e5e4e2e97180fe22f8'}]}}]\"}"
      ]
     },
     "execution_count": 16,
     "metadata": {},
     "output_type": "execute_result"
    }
   ],
   "source": [
    "pipeline.undeploy()"
   ]
  },
  {
   "cell_type": "markdown",
   "id": "f5bb0222",
   "metadata": {},
   "source": [
    "Wallaroo supports the ability to perform inferences through the SDK and through the API for each deployed pipeline.  For more information on how to use Wallaroo, see the [Wallaroo Documentation Site](https://docs.wallaroo.ai) for full details."
   ]
  },
  {
   "cell_type": "markdown",
   "id": "97132c10",
   "metadata": {},
   "source": [
    "##"
   ]
  }
 ],
 "metadata": {
  "kernelspec": {
   "display_name": "arrowtests",
   "language": "python",
   "name": "python3"
  },
  "language_info": {
   "codemirror_mode": {
    "name": "ipython",
    "version": 3
   },
   "file_extension": ".py",
   "mimetype": "text/x-python",
   "name": "python",
   "nbconvert_exporter": "python",
   "pygments_lexer": "ipython3",
   "version": "3.8.12"
  },
  "vscode": {
   "interpreter": {
    "hash": "7dda4bf3640b7fafcd1648658b879b4cc9f6ba6084e8fb356fdaaa1a461d1690"
   }
  }
 },
 "nbformat": 4,
 "nbformat_minor": 5
}
