{
 "cells": [
  {
   "attachments": {},
   "cell_type": "markdown",
   "id": "5bc8a64b-35ff-48a7-952c-9c7b5eff80b9",
   "metadata": {},
   "source": [
    "This tutorial and the assets can be downloaded as part of the [Wallaroo Tutorials repository](https://github.com/WallarooLabs/Wallaroo_Tutorials/tree/main/wallaroo-features/wallaroo-model-endpoints).\n",
    "\n",
    "## External Pipeline Inference URL Tutorial\n",
    "\n",
    "Wallaroo provides the ability to perform inferences through deployed pipelines via both internal and external URLs.  These URLs allow inferences to be performed by submitting data to the internal or external URL, with the inference results returned in the same format as the [InferenceResult Object](https://docs.wallaroo.ai/wallaroo-developer-guides/wallaroo-sdk-guides/wallaroo-sdk-essentials-guide/#run-inference-through-a-pipeline).\n",
    "\n",
    "**Internal URLs** are available only through the internal Kubernetes environment hosting the Wallaroo instance as demonstrated in this tutorial.\n",
    "**External URLs** are available outside of the Kubernetes environment, such as the public internet.  These are demonstrated in the External Pipeline Deployment URL Tutorial.\n",
    "\n",
    "**IMPORTANT NOTE**:  Before starting this tutorial, the Internal Pipeline Deployment URL Tutorial must be completed to establish the Wallaroo workspace, pipeline and model to be used \n",
    "\n",
    "The following tutorial shows how to set up an environment and demonstrates how to use the External Deployment URL.  This example provides the following:\n",
    "\n",
    "* For Arrow enabled instances:\n",
    "  * `data_1.df.json`, `data_1k.df.json` and `data_25k.df.json`:  Sample data used for testing inferences with the sample model.\n",
    "* For Arrow distabled instances:\n",
    "  * `data_1.json`, `data_1k.json` and `data_25k.json`:  Sample data used for testing inferences with the sample model."
   ]
  },
  {
   "attachments": {},
   "cell_type": "markdown",
   "id": "d12ae9ea-8690-47b1-9d38-5a8881fce6f8",
   "metadata": {},
   "source": [
    "## Prerequisites\n",
    "\n",
    "1. Before running this sample notebook, verify that the Internal Pipeline Deployment URL Tutorial has been run.  This will create the workspace, pipeline, etc for the below example to run.\n",
    "1. Enable external URl inference endpoints through the Wallaroo Administrative Dashboard.  This can be accessed through the `kots` application as detailed in the [Wallaroo Install Guildes](https://docs.wallaroo.ai/wallaroo-operations-guide/wallaroo-install-guides/)."
   ]
  },
  {
   "attachments": {},
   "cell_type": "markdown",
   "id": "1cb8ed39-12f2-4e14-9695-f8f21e940490",
   "metadata": {},
   "source": [
    "### Retrieve Token\n",
    "\n",
    "There are two methods of retrieving the JWT token used to authenticate to the Wallaroo instance's API service:\n",
    "\n",
    "* Wallaroo SDK\n",
    "* API Clent Secret\n",
    "\n",
    "This tutorial will use the Wallaroo SDK method for convenience, with examples on using the API Client Secret method.\n",
    "\n",
    "#### Wallaroo SDK\n",
    "\n",
    "The Wallaroo SDK provides the method Wallaroo.Client.`mlops().__dict__`, with one of the fields being `token`.  A token value can be generated this way, for example:\n",
    "\n",
    "```python\n",
    "connection =wl.mlops().__dict__\n",
    "token = connection['token']\n",
    "print(token)\n",
    "eyJhbGciOiJSUzI1NiIsInR5cCIgOiAiSldUIiwia2lkIiA6ICJKZ2xrMWJBU0JWRUZxWEVoUHRHeGJUZUFGNmxvc29pS3M1WkEzVFRJYThvIn0.eyJleHAiOjE2NzY1ODUwNjEsImlhdCI6MTY3NjU4NTAwMSwiYXV0aF90aW1lIjoxNjc2NTgwNDA0LCJqdGkiOiI4ZThkZjFiZC1hOGY5LTQ1NWQtOWFmNC1kNTNkMTdkMzBhMjAiLCJpc3MiOiJodHRwczovL3NxdWlzaHktd2FsbGFyb28tNjE4Ny5rZXljbG9hay53YWxsYXJvby5kZXYvYXV0aC9yZWFsbXMvbWFzdGVyIiwiYXVkIjpbIm1hc3Rlci1yZWFsbSIsImFjY291bnQiXSwic3ViIjoiN2QwOWYwOWItMTM1Yi00YmEzLThmNWItZDFjZjhkMmZiNTkzIiwidHlwIjoiQmVhcmVyIiwiYXpwIjoic2RrLWNsaWVudCIsInNlc3Npb25fc3RhdGUiOiJhMDVkYTMxNy0wNzRhLTQwNTMtOWJhMi1mM2E0MWRlZWU3Y2QiLCJhY3IiOiIwIiwicmVhbG1fYWNjZXNzIjp7InJvbGVzIjpbImNyZWF0ZS1yZWFsbSIsImRlZmF1bHQtcm9sZXMtbWFzdGVyIiwib2ZmbGluZV9hY2Nlc3MiLCJhZG1pbiIsInVtYV9hdXRob3JpemF0aW9uIl19LCJyZXNvdXJjZV9hY2Nlc3MiOnsibWFzdGVyLXJlYWxtIjp7InJvbGVzIjpbInZpZXctcmVhbG0iLCJ2aWV3LWlkZW50aXR5LXByb3ZpZGVycyIsIm1hbmFnZS1pZGVudGl0eS1wcm92aWRlcnMiLCJpbXBlcnNvbmF0aW9uIiwiY3JlYXRlLWNsaWVudCIsIm1hbmFnZS11c2VycyIsInF1ZXJ5LXJlYWxtcyIsInZpZXctYXV0aG9yaXphdGlvbiIsInF1ZXJ5LWNsaWVudHMiLCJxdWVyeS11c2VycyIsIm1hbmFnZS1ldmVudHMiLCJtYW5hZ2UtcmVhbG0iLCJ2aWV3LWV2ZW50cyIsInZpZXctdXNlcnMiLCJ2aWV3LWNsaWVudHMiLCJtYW5hZ2UtYXV0aG9yaXphdGlvbiIsIm1hbmFnZS1jbGllbnRzIiwicXVlcnktZ3JvdXBzIl19LCJhY2NvdW50Ijp7InJvbGVzIjpbIm1hbmFnZS1hY2NvdW50IiwibWFuYWdlLWFjY291bnQtbGlua3MiLCJ2aWV3LXByb2ZpbGUiXX19LCJzY29wZSI6InByb2ZpbGUgZW1haWwiLCJzaWQiOiJhMDVkYTMxNy0wNzRhLTQwNTMtOWJhMi1mM2E0MWRlZWU3Y2QiLCJlbWFpbF92ZXJpZmllZCI6dHJ1ZSwiaHR0cHM6Ly9oYXN1cmEuaW8vand0L2NsYWltcyI6eyJ4LWhhc3VyYS11c2VyLWlkIjoiN2QwOWYwOWItMTM1Yi00YmEzLThmNWItZDFjZjhkMmZiNTkzIiwieC1oYXN1cmEtZGVmYXVsdC1yb2xlIjoidXNlciIsIngtaGFzdXJhLWFsbG93ZWQtcm9sZXMiOlsidXNlciJdLCJ4LWhhc3VyYS11c2VyLWdyb3VwcyI6Int9In0sInByZWZlcnJlZF91c2VybmFtZSI6ImpvaG4uaGFuc2FyaWNrQHdhbGxhcm9vLmFpIiwiZW1haWwiOiJqb2huLmhhbnNhcmlja0B3YWxsYXJvby5haSJ9.Zx5KXQOxx3thmkX3niNEL8KvXxIj0JmmswfmYIeRk0tDI7Epon9mvdQc--BOQNdi-T_BQe-8CdIVvVNJrxteuWLVNDesM_xFOCkGjiDxYDvxoEGflWMdYb9BkYgfKzqDCL0Ncns4NGjjBebSKmZKkKXNVhS26UXpSdqpdhJsK3ntfOxWhXab_7Khzq-6m3Z3_qomXUqJXf8Xhs9dOJs73qzM3_g3nXvQmz8W--P8Q0OPkcA-c5pOQ4axf7QHskuf5cbEciHpn0QVmigtGgqH4wQ5pjiSkGHzgq1NAAOaLhzhUBE4tneeEaTWUYyspkH3T5t6082JhTL3X5PrnpDgZA\n",
    "```\n",
    "\n",
    "#### API Clent Secret\n",
    "\n",
    "The other method of retrievine the JWT token is through the OpenID Connect Client.  The default client is `api-client`, but other clients may be created and configured.\n",
    "\n",
    "As it is a confidential client, api-client requires its secret to be supplied when requesting a token. Administrators may obtain their API client credentials from Keycloak from the Keycloak Service URL as listed above and the prefix `/auth/admin/master/console/#/realms/master/clients`.\n",
    "\n",
    "For example, if the YOUR SUFFIX instance DNS address is `https://magical-rhino-5555.example.wallaroo.ai`, then the direct path to the Keycloak API client credentials would be:\n",
    "\n",
    "`https://magical-rhino-5555.keycloak.example.wallaroo.ai/auth/admin/master/console/#/realms/master/clients`\n",
    "\n",
    "Then select the client, in this case **api-client**, then **Credentials**.\n",
    "\n",
    "![Wallaroo Keycloak Service](./images/wallaroo-tutorials/wallaroo-api/wallaroo-api-keycloak-service.png)\n",
    "\n",
    "![Wallaroo Components](./images/wallaroo-tutorials/wallaroo-api/wallaroo-api-keycloak-credentials.png)\n",
    "\n",
    "By default, tokens issued for api-client are valid for up to 60 minutes. Refresh tokens are supported.\n",
    "\n",
    "The following sample code demonstrates retrieving the JWT token using the API Client Secret method:\n",
    "\n",
    "```python\n",
    "import requests\n",
    "from requests.auth import HTTPBasicAuth\n",
    "\n",
    "import json\n",
    "\n",
    "# User Set Variables\n",
    "\n",
    "URLPREFIX='YOUR-PREFIX-HERE'\n",
    "URLSUFFIX='YOUR-SUFFIX-HERE'\n",
    "SECRET=\"YOUR-API-CREDENTIALS-HERE\"\n",
    "CLIENT=\"api-client\"\n",
    "USERNAME=\"WALLAROO-USERNAME-HERE\"\n",
    "PASSWORD=\"WALLAROO-PASSWORD-HERE\"\n",
    "\n",
    "\n",
    "# Derived variables\n",
    "TOKENURL=f'https://{URLPREFIX}.keycloak.{URLSUFFIX}/auth/realms/master/protocol/openid-connect/token'\n",
    "APIURL=f\"https://{URLPREFIX}.api.{URLSUFFIX}/v1/api\"\n",
    "\n",
    "def get_jwt_token(url, client, secret, username, password):\n",
    "    auth = HTTPBasicAuth(client, secret)\n",
    "    data = {\n",
    "        'grant_type': 'password',\n",
    "        'username': username,\n",
    "        'password': password\n",
    "    }\n",
    "    response = requests.post(url, auth=auth, data=data, verify=True)\n",
    "    return response.json()['access_token']\n",
    "\n",
    "TOKEN=get_jwt_token(TOKENURL, CLIENT, SECRET, USERNAME, PASSWORD)\n",
    "```"
   ]
  },
  {
   "attachments": {},
   "cell_type": "markdown",
   "id": "e508320a-7941-4073-9145-1409f5eb6607",
   "metadata": {},
   "source": [
    "### API Request Methods\n",
    "\n",
    "All Wallaroo API endpoints follow the format:\n",
    "\n",
    "* `https://$URLPREFIX.api.$URLSUFFIX/v1/api$COMMAND`\n",
    "\n",
    "Where `$COMMAND` is the specific endpoint.  For example, for the command to list of workspaces in the Wallaroo instance would use the above format based on these settings:\n",
    "\n",
    "* `$URLPREFIX`: `smooth-moose-1617`\n",
    "* `$URLSUFFIX`: `example.wallaroo.ai`\n",
    "* `$COMMAND`: `/workspaces/list`\n",
    "\n",
    "This would create the following API endpoint:\n",
    "\n",
    "* `https://smooth-moose-1617.api.example.wallaroo.ai/v1/api/workspaces/list`"
   ]
  },
  {
   "cell_type": "code",
   "execution_count": null,
   "id": "4da2e0fb-ecaa-46b7-aa61-dc9d4d96909e",
   "metadata": {},
   "outputs": [],
   "source": [
    "# This can either submit a plain POST request ('Content-Type':'application/json'), or with a file.\n",
    "\n",
    "def get_wallaroo_response(url, api_request, token, data, files=None):\n",
    "    apiUrl=f\"{url}{api_request}\"\n",
    "    if files is None:\n",
    "        # Regular POST request\n",
    "        headers= {\n",
    "            'Authorization': 'Bearer ' + token,\n",
    "            'Content-Type':'application/json'\n",
    "        }\n",
    "        response = requests.post(apiUrl, json=data, headers=headers, verify=True)\n",
    "    else:\n",
    "        # POST request with file\n",
    "        headers= {\n",
    "            'Authorization': 'Bearer ' + token\n",
    "        }\n",
    "        response = requests.post(apiUrl, data=data, headers=headers, files=files, verify=True)\n",
    "    return response.json()"
   ]
  },
  {
   "attachments": {},
   "cell_type": "markdown",
   "id": "93ebf412",
   "metadata": {},
   "source": [
    "### Connect to Wallaroo\n",
    "\n",
    "For this example, a connection to the Wallaroo SDK is used.  This will be used to retrieve the JWT token as describe above.  Update `wallarooPrefix = \"YOUR PREFIX\"` and `wallarooSuffix = \"YOUR SUFFIX\"` to match the Wallaroo instance used for this demonstration."
   ]
  },
  {
   "cell_type": "code",
   "execution_count": 1,
   "id": "a4fbc453",
   "metadata": {},
   "outputs": [],
   "source": [
    "import wallaroo\n",
    "from wallaroo.object import EntityNotFoundError\n",
    "import pandas as pd\n",
    "\n",
    "import requests\n",
    "from requests.auth import HTTPBasicAuth\n",
    "\n",
    "import json\n",
    "\n",
    "# used to display dataframe information without truncating\n",
    "from IPython.display import display\n",
    "pd.set_option('display.max_colwidth', None)"
   ]
  },
  {
   "cell_type": "code",
   "execution_count": 2,
   "id": "74aa9dcf",
   "metadata": {},
   "outputs": [],
   "source": [
    "# SSO login through keycloak\n",
    "\n",
    "wallarooPrefix = \"YOUR PREFIX\"\n",
    "wallarooSuffix = \"YOUR SUFFIX\"\n",
    "\n",
    "wl = wallaroo.Client(api_endpoint=f\"https://{wallarooPrefix}.api.{wallarooSuffix}\", \n",
    "                    auth_endpoint=f\"https://{wallarooPrefix}.keycloak.{wallarooSuffix}\", \n",
    "                    auth_type=\"sso\")"
   ]
  },
  {
   "cell_type": "code",
   "execution_count": 3,
   "id": "da268905",
   "metadata": {},
   "outputs": [],
   "source": [
    "APIURL=f\"https://{wallarooPrefix}.api.{wallarooSuffix}/v1/api\""
   ]
  },
  {
   "attachments": {},
   "cell_type": "markdown",
   "id": "7919dd8a",
   "metadata": {},
   "source": [
    "### Arrow Support\n",
    "\n",
    "As of the 2023.1 release, Wallaroo provides support for dataframe and Arrow for inference inputs.  This tutorial allows users to adjust their experience based on whether they have enabled Arrow support in their Wallaroo instance or not.\n",
    "\n",
    "If Arrow support has been enabled, `arrowEnabled=True`. If disabled or you're not sure, set it to `arrowEnabled=False`\n",
    "\n",
    "The examples below will be shown in an arrow enabled environment."
   ]
  },
  {
   "cell_type": "code",
   "execution_count": 4,
   "id": "da68a78f",
   "metadata": {},
   "outputs": [],
   "source": [
    "arrowEnabled=True"
   ]
  },
  {
   "attachments": {},
   "cell_type": "markdown",
   "id": "41694f84-0dfc-4c51-bdc0-7f04a3d173ca",
   "metadata": {},
   "source": [
    "### Get External Inference URL\n",
    "\n",
    "The API command `/admin/get_pipeline_external_url` retrieves the external inference URL for a specific pipeline in a workspace.\n",
    "\n",
    "* **Parameters**\n",
    "  * **workspace_id** (*REQUIRED integer*):  The workspace integer id.\n",
    "  * **pipeline_name** (*REQUIRED string*): The name of the pipeline.\n",
    "\n",
    "In this example, a list of the workspaces will be retrieved.  Based on the setup from the Internal Pipeline Deployment URL Tutorial, the workspace matching `urlworkspace` will have it's **workspace id** stored and used for the `/admin/get_pipeline_external_url` request with the pipeline `urlpipeline`.\n",
    "\n",
    "The External Inference URL will be stored as a variable for the next step.\n",
    "\n",
    "**Modify these values to match the ones used in the Internal Pipeline Deployment URL Tutorial.**"
   ]
  },
  {
   "cell_type": "code",
   "execution_count": 5,
   "id": "4f6b01dc-e783-409a-b00a-c8ea22313e9f",
   "metadata": {},
   "outputs": [],
   "source": [
    "# Retrieve the token\n",
    "connection =wl.mlops().__dict__\n",
    "token = connection['token']\n",
    "\n",
    "## Start with the a lists of the workspaces to verify the ID\n",
    "\n",
    "workspaceName = \"urldemoworkspace\"\n",
    "urlPipeline = \"urldemopipeline\"\n",
    "\n",
    "# List workspaces\n",
    "\n",
    "apiRequest = f\"{APIURL}/workspaces/list\"\n",
    "\n",
    "data = {\n",
    "}\n",
    "\n",
    "headers= {\n",
    "    'Authorization': 'Bearer ' + token,\n",
    "    'Content-Type':'application/json'\n",
    "}\n",
    "\n",
    "response = requests.post(apiRequest, json=data, headers=headers, verify=True)\n",
    "workspaces = response.json()"
   ]
  },
  {
   "cell_type": "code",
   "execution_count": 6,
   "id": "bea12222",
   "metadata": {},
   "outputs": [],
   "source": [
    "workspaceList = workspaces['workspaces']\n",
    "#print(workspaceList)\n",
    "workspaceId = list(filter(lambda x:x[\"name\"]==workspaceName,workspaceList))[0]['id']"
   ]
  },
  {
   "cell_type": "code",
   "execution_count": 7,
   "id": "a2b73cd5-8fe3-4eb5-97a0-d0e796f00b6f",
   "metadata": {},
   "outputs": [
    {
     "data": {
      "text/plain": [
       "'https://doc-test.api.wallaroocommunity.ninja/v1/api/pipelines/infer/urldemopipeline-4'"
      ]
     },
     "execution_count": 7,
     "metadata": {},
     "output_type": "execute_result"
    }
   ],
   "source": [
    "# Retrieve the token\n",
    "connection =wl.mlops().__dict__\n",
    "token = connection['token']\n",
    "\n",
    "## Retrieve the pipeline's External Inference URL\n",
    "\n",
    "apiRequest = f\"{APIURL}/admin/get_pipeline_external_url\"\n",
    "\n",
    "data = {\n",
    "    \"workspace_id\": workspaceId,\n",
    "    \"pipeline_name\": urlPipeline\n",
    "}\n",
    "\n",
    "headers= {\n",
    "    'Authorization': 'Bearer ' + token,\n",
    "    'Content-Type':'application/json'\n",
    "}\n",
    "\n",
    "response = requests.post(apiRequest, json=data, headers=headers, verify=True).json()\n",
    "externalUrl = response['url']\n",
    "externalUrl"
   ]
  },
  {
   "cell_type": "markdown",
   "id": "3c4a0937",
   "metadata": {},
   "source": [
    "### Perform Inference Through External URL\n",
    "\n",
    "The inference can now be performed through the External Inference URL.  This URL will accept the same inference data file that is used with the Wallaroo SDK, or with an Internal Inference URL as used in the Internal Pipeline Inference URL Tutorial.\n",
    "\n",
    "For this example, the `externalUrl` retrieved through the [Get External Inference URL](#get-external-inference-url) is used to submit a single inference request through the data file `data-1.json`."
   ]
  },
  {
   "cell_type": "code",
   "execution_count": 9,
   "id": "caeb608e-2ee3-424c-80c6-9650d8a2facb",
   "metadata": {},
   "outputs": [
    {
     "name": "stdout",
     "output_type": "stream",
     "text": [
      "[{\"time\": 1676589239548, \"in\": {\"text_input\": [0, 0, 0, 0, 0, 0, 0, 0, 0, 0, 0, 0, 0, 0, 0, 0, 0, 0, 0, 0, 0, 0, 0, 0, 0, 0, 0, 0, 0, 0, 0, 0, 0, 0, 0, 0, 0, 0, 0, 0, 28, 16, 32, 23, 29, 32, 30, 19, 26, 17]}, \"out\": {\"qakbot\": [0.016155055], \"main\": [0.997564], \"kraken\": [0.00031977257], \"dircrypt\":\n"
     ]
    }
   ],
   "source": [
    "# Retrieve the token\n",
    "connection =wl.mlops().__dict__\n",
    "token = connection['token']\n",
    "\n",
    "## Inference through external URL\n",
    "\n",
    "if arrowEnabled is True:\n",
    "    # retrieve the json data to submit\n",
    "    data = json.load(open('./data/data_1k.df.json','rb'))\n",
    "    # set the headers\n",
    "    headers= {\n",
    "        'Authorization': 'Bearer ' + token,\n",
    "        'Content-Type':'application/json; format=pandas-records'\n",
    "    }\n",
    "else:\n",
    "    data = json.load(open('./data/data_1k.json','rb'))\n",
    "    # set the headers\n",
    "    headers= {\n",
    "        'Authorization': 'Bearer ' + token\n",
    "    }\n",
    "\n",
    "\n",
    "\n",
    "# submit the request via POST\n",
    "response = requests.post(externalUrl, json=data, headers=headers)\n",
    "\n",
    "# Only the first 300 characters will be displayed for brevity\n",
    "printResponse = json.dumps(response.json())\n",
    "print(printResponse[0:300])\n"
   ]
  },
  {
   "cell_type": "markdown",
   "id": "f5bb0222",
   "metadata": {},
   "source": [
    "Wallaroo supports the ability to perform inferences through the SDK and through the API for each deployed pipeline.  For more information on how to use Wallaroo, see the [Wallaroo Documentation Site](https://docs.wallaroo.ai) for full details."
   ]
  },
  {
   "cell_type": "markdown",
   "id": "97132c10",
   "metadata": {},
   "source": [
    "##"
   ]
  }
 ],
 "metadata": {
  "kernelspec": {
   "display_name": "arrowtests",
   "language": "python",
   "name": "python3"
  },
  "language_info": {
   "codemirror_mode": {
    "name": "ipython",
    "version": 3
   },
   "file_extension": ".py",
   "mimetype": "text/x-python",
   "name": "python",
   "nbconvert_exporter": "python",
   "pygments_lexer": "ipython3",
   "version": "3.8.16"
  },
  "vscode": {
   "interpreter": {
    "hash": "7dda4bf3640b7fafcd1648658b879b4cc9f6ba6084e8fb356fdaaa1a461d1690"
   }
  }
 },
 "nbformat": 4,
 "nbformat_minor": 5
}
