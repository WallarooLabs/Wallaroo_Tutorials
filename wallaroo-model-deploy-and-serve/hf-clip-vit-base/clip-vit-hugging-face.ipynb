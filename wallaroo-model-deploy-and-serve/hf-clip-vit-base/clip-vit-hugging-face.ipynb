{
 "cells": [
  {
   "cell_type": "markdown",
   "id": "46cc9341",
   "metadata": {},
   "source": [
    "This tutorial and the assets can be downloaded as part of the [Wallaroo Tutorials repository](https://github.com/WallarooLabs/Wallaroo_Tutorials/blob/wallaroo2024.1_tutorials/wallaroo-model-deploy-and-serve/hf-clip-vit-base).\n",
    "\n",
    "## CLIP ViT-B/32 Transformer Demonstration with Wallaroo\n",
    "\n",
    "The following tutorial demonstrates deploying and performing sample inferences with the Hugging Face CLIP ViT-B/32 Transformer model.\n",
    "\n",
    "### Prerequisites\n",
    "\n",
    "This tutorial is geared towards the Wallaroo version 2023.2.1 and above.  The model `clip-vit-base-patch-32.zip` must be downloaded and placed into the `./models` directory.  This is available from the following URL:\n",
    "\n",
    "[https://storage.googleapis.com/wallaroo-public-data/hf-clip-vit-b32/clip-vit-base-patch-32.zip](https://storage.googleapis.com/wallaroo-public-data/hf-clip-vit-b32/clip-vit-base-patch-32.zip)\n",
    "\n",
    "If performing this tutorial from outside the Wallaroo JupyterHub environment, install the [Wallaroo SDK](https://pypi.org/project/wallaroo/)."
   ]
  },
  {
   "cell_type": "markdown",
   "id": "1c33e888-28a8-48cc-b418-2d95ad206d98",
   "metadata": {},
   "source": [
    "## Steps\n",
    "\n",
    "### Imports\n",
    "\n",
    "The first step is to import the libraries used for the example."
   ]
  },
  {
   "cell_type": "code",
   "execution_count": 1,
   "id": "af8228fc-00ce-4770-a863-8985633605b3",
   "metadata": {},
   "outputs": [],
   "source": [
    "import json\n",
    "import os\n",
    "import requests\n",
    "\n",
    "import wallaroo\n",
    "from wallaroo.pipeline   import Pipeline\n",
    "from wallaroo.deployment_config import DeploymentConfigBuilder\n",
    "from wallaroo.framework import Framework\n",
    "from wallaroo.object import EntityNotFoundError\n",
    "\n",
    "import pyarrow as pa\n",
    "import numpy as np\n",
    "import pandas as pd\n",
    "\n",
    "from PIL import Image"
   ]
  },
  {
   "cell_type": "markdown",
   "metadata": {},
   "source": [
    "### Connect to the Wallaroo Instance\n",
    "\n",
    "The first step is to connect to Wallaroo through the Wallaroo client.  The Python library is included in the Wallaroo install and available through the Jupyter Hub interface provided with your Wallaroo environment.\n",
    "\n",
    "This is accomplished using the `wallaroo.Client()` command, which provides a URL to grant the SDK permission to your specific Wallaroo environment.  When displayed, enter the URL into a browser and confirm permissions.  Store the connection into a variable that can be referenced later.\n",
    "\n",
    "If logging into the Wallaroo instance through the internal JupyterHub service, use `wl = wallaroo.Client()`.  For more information on Wallaroo Client settings, see the [Client Connection guide](https://docs.wallaroo.ai/wallaroo-developer-guides/wallaroo-sdk-guides/wallaroo-sdk-essentials-guide/wallaroo-sdk-essentials-client/)."
   ]
  },
  {
   "cell_type": "code",
   "execution_count": 2,
   "id": "84693247",
   "metadata": {},
   "outputs": [],
   "source": [
    "wl = wallaroo.Client()"
   ]
  },
  {
   "cell_type": "markdown",
   "metadata": {},
   "source": [
    "### Set Workspace and Pipeline\n",
    "\n",
    "The next step is to create the Wallaroo workspace and pipeline used for the inference requests.\n",
    "\n",
    "* References\n",
    "  * [Wallaroo SDK Essentials Guide: Workspace Management](https://docs.wallaroo.ai/wallaroo-developer-guides/wallaroo-sdk-guides/wallaroo-sdk-essentials-guide/wallaroo-sdk-essentials-workspace/)\n",
    "  * [Wallaroo SDK Essentials Guide: Pipeline Management](https://docs.wallaroo.ai/wallaroo-developer-guides/wallaroo-sdk-guides/wallaroo-sdk-essentials-guide/wallaroo-sdk-essentials-pipelines/wallaroo-sdk-essentials-pipeline/)"
   ]
  },
  {
   "cell_type": "code",
   "execution_count": 4,
   "id": "938d8a78",
   "metadata": {},
   "outputs": [
    {
     "data": {
      "text/plain": [
       "{'name': 'clip-demo', 'id': 8, 'archived': False, 'created_by': '12ea09d1-0f49-405e-bed1-27eb6d10fde4', 'created_at': '2023-11-20T18:57:53.667873+00:00', 'models': [], 'pipelines': [{'name': 'clip-demo', 'create_time': datetime.datetime(2023, 11, 20, 18, 57, 55, 550690, tzinfo=tzutc()), 'definition': '[]'}]}"
      ]
     },
     "metadata": {},
     "output_type": "display_data"
    },
    {
     "data": {
      "text/html": [
       "<table><tr><th>name</th> <td>clip-demo</td></tr><tr><th>created</th> <td>2023-11-20 18:57:55.550690+00:00</td></tr><tr><th>last_updated</th> <td>2023-11-20 18:57:55.550690+00:00</td></tr><tr><th>deployed</th> <td>(none)</td></tr><tr><th>arch</th> <td>None</td></tr><tr><th>tags</th> <td></td></tr><tr><th>versions</th> <td>ff0e4846-f0f9-4fb0-bc06-d6daa21797bf</td></tr><tr><th>steps</th> <td></td></tr><tr><th>published</th> <td>False</td></tr></table>"
      ],
      "text/plain": [
       "{'name': 'clip-demo', 'create_time': datetime.datetime(2023, 11, 20, 18, 57, 55, 550690, tzinfo=tzutc()), 'definition': '[]'}"
      ]
     },
     "execution_count": 4,
     "metadata": {},
     "output_type": "execute_result"
    }
   ],
   "source": [
    "# create the workspace and pipeline\n",
    "\n",
    "workspace_name = 'clip-demo'\n",
    "pipeline_name = 'clip-demo'\n",
    "\n",
    "\n",
    "workspace = wl.get_workspace(name=workspace_name, create_if_not_exist=True)\n",
    "\n",
    "wl.set_current_workspace(workspace)\n",
    "display(wl.get_current_workspace())\n",
    "\n",
    "pipeline = wl.build_pipeline(pipeline_name)\n",
    "pipeline"
   ]
  },
  {
   "cell_type": "markdown",
   "id": "a72de5f7-02ef-4b0b-a478-f6a21335270a",
   "metadata": {
    "tags": []
   },
   "source": [
    "### Configure and Upload Model\n",
    "\n",
    "The 🤗 Hugging Face model is uploaded to Wallaroo by defining the input and output schema, and specifying the model's framework as `wallaroo.framework.Framework.HUGGING_FACE_ZERO_SHOT_IMAGE_CLASSIFICATION`.\n",
    "\n",
    "The data schemas are defined in Apache PyArrow Schema format.\n",
    "\n",
    "The model is converted to the Wallaroo Containerized runtime after the upload is complete.\n",
    "\n",
    "* References\n",
    "  * [Wallaroo SDK Essentials Guide: Model Uploads and Registrations: Hugging Face](https://docs.wallaroo.ai/wallaroo-developer-guides/wallaroo-sdk-guides/wallaroo-sdk-essentials-guide/wallaroo-sdk-model-uploads/wallaroo-sdk-model-upload-hugging-face/)"
   ]
  },
  {
   "cell_type": "code",
   "execution_count": 5,
   "id": "ef115ab9-9c73-4c28-aad8-e915a92a746b",
   "metadata": {},
   "outputs": [],
   "source": [
    "input_schema = pa.schema([\n",
    "    pa.field('inputs', # required, fixed image dimensions\n",
    "        pa.list_(\n",
    "            pa.list_(\n",
    "                pa.list_(\n",
    "                    pa.int64(),\n",
    "                    list_size=3\n",
    "                ),\n",
    "                list_size=640 \n",
    "            ),\n",
    "        list_size=480\n",
    "    )),\n",
    "    pa.field('candidate_labels', pa.list_(pa.string(), list_size=4)), # required, equivalent to `options` in the provided demo\n",
    "]) \n",
    "\n",
    "output_schema = pa.schema([\n",
    "    pa.field('score', pa.list_(pa.float64(), list_size=4)), # has to be same as number of candidate labels\n",
    "    pa.field('label', pa.list_(pa.string(), list_size=4)), # has to be same as number of candidate labels\n",
    "])"
   ]
  },
  {
   "cell_type": "markdown",
   "id": "1600b756",
   "metadata": {},
   "source": [
    "### Upload Model"
   ]
  },
  {
   "cell_type": "code",
   "execution_count": 7,
   "id": "953e0857-45ec-4603-b0be-3bba13df5db8",
   "metadata": {
    "tags": []
   },
   "outputs": [
    {
     "name": "stdout",
     "output_type": "stream",
     "text": [
      "Waiting for model loading - this will take up to 10.0min.\n",
      "Model is pending loading to a container runtime..\n",
      "Model is attempting loading to a container runtime............................................................successful\n",
      "\n",
      "Ready\n"
     ]
    },
    {
     "data": {
      "text/html": [
       "<table>\n",
       "        <tr>\n",
       "          <td>Name</td>\n",
       "          <td>clip-vit</td>\n",
       "        </tr>\n",
       "        <tr>\n",
       "          <td>Version</td>\n",
       "          <td>57594cc7-7db1-43c3-b21a-6dcaba846f26</td>\n",
       "        </tr>\n",
       "        <tr>\n",
       "          <td>File Name</td>\n",
       "          <td>clip-vit-base-patch-32.zip</td>\n",
       "        </tr>\n",
       "        <tr>\n",
       "          <td>SHA</td>\n",
       "          <td>4efc24685a14e1682301cc0085b9db931aeb5f3f8247854bedc6863275ed0646</td>\n",
       "        </tr>\n",
       "        <tr>\n",
       "          <td>Status</td>\n",
       "          <td>ready</td>\n",
       "        </tr>\n",
       "        <tr>\n",
       "          <td>Image Path</td>\n",
       "          <td>proxy.replicated.com/proxy/wallaroo/ghcr.io/wallaroolabs/mlflow-deploy:v2023.4.0-4103</td>\n",
       "        </tr>\n",
       "        <tr>\n",
       "          <td>Architecture</td>\n",
       "          <td>None</td>\n",
       "        </tr>\n",
       "        <tr>\n",
       "          <td>Updated At</td>\n",
       "          <td>2023-20-Nov 20:51:44</td>\n",
       "        </tr>\n",
       "      </table>"
      ],
      "text/plain": [
       "{'name': 'clip-vit', 'version': '57594cc7-7db1-43c3-b21a-6dcaba846f26', 'file_name': 'clip-vit-base-patch-32.zip', 'image_path': 'proxy.replicated.com/proxy/wallaroo/ghcr.io/wallaroolabs/mlflow-deploy:v2023.4.0-4103', 'arch': None, 'last_update_time': datetime.datetime(2023, 11, 20, 20, 51, 44, 412492, tzinfo=tzutc())}"
      ]
     },
     "execution_count": 7,
     "metadata": {},
     "output_type": "execute_result"
    }
   ],
   "source": [
    "model = wl.upload_model('clip-vit', './models/clip-vit-base-patch-32.zip', \n",
    "                        framework=Framework.HUGGING_FACE_ZERO_SHOT_IMAGE_CLASSIFICATION, \n",
    "                        input_schema=input_schema, \n",
    "                        output_schema=output_schema)\n",
    "model"
   ]
  },
  {
   "cell_type": "markdown",
   "id": "bdbb0930-8246-4731-84f9-eb1e0e1d9091",
   "metadata": {},
   "source": [
    "### Deploy Pipeline\n",
    "\n",
    "With the model uploaded and prepared, we add the model as a pipeline step and deploy it.  For this example, we will allocate 4 Gi of RAM and 1 CPU to the model's use through the pipeline deployment configuration.\n",
    "\n",
    "* References\n",
    "  * [Wallaroo SDK Essentials Guide: Pipeline Deployment Configuration](https://docs.wallaroo.ai/wallaroo-developer-guides/wallaroo-sdk-guides/wallaroo-sdk-essentials-guide/wallaroo-sdk-essentials-pipelines/wallaroo-sdk-essentials-pipeline-deployment-config/)"
   ]
  },
  {
   "cell_type": "code",
   "execution_count": 8,
   "id": "c1ac85a4-1978-4fb9-91c4-a4d728ed04af",
   "metadata": {},
   "outputs": [],
   "source": [
    "deployment_config = wallaroo.DeploymentConfigBuilder() \\\n",
    "    .cpus(.25).memory('1Gi') \\\n",
    "    .sidekick_memory(model, '4Gi') \\\n",
    "    .sidekick_cpus(model, 1.0) \\\n",
    "    .build()"
   ]
  },
  {
   "cell_type": "markdown",
   "metadata": {},
   "source": [
    "The pipeline is deployed with the specified engine deployment.\n",
    "\n",
    "Because the model is converted to the Wallaroo Containerized Runtime, the deployment step may timeout with the `status` still as `Starting`.  If this occurs, wait an additional 60 seconds, then run the `pipeline.status()` cell.  Once the status is `Running`, the rest of the tutorial can proceed."
   ]
  },
  {
   "cell_type": "code",
   "execution_count": 9,
   "id": "ea455f46-6f8b-4d5f-a195-74634c0c886b",
   "metadata": {
    "tags": []
   },
   "outputs": [
    {
     "data": {
      "text/html": [
       "<table><tr><th>name</th> <td>clip-demo</td></tr><tr><th>created</th> <td>2023-11-20 18:57:55.550690+00:00</td></tr><tr><th>last_updated</th> <td>2023-11-20 20:51:59.304917+00:00</td></tr><tr><th>deployed</th> <td>True</td></tr><tr><th>arch</th> <td>None</td></tr><tr><th>tags</th> <td></td></tr><tr><th>versions</th> <td>7a6168c2-f807-465f-a122-33fe7b5d8a3d, ff0e4846-f0f9-4fb0-bc06-d6daa21797bf</td></tr><tr><th>steps</th> <td>clip-vit</td></tr><tr><th>published</th> <td>False</td></tr></table>"
      ],
      "text/plain": [
       "{'name': 'clip-demo', 'create_time': datetime.datetime(2023, 11, 20, 18, 57, 55, 550690, tzinfo=tzutc()), 'definition': \"[{'ModelInference': {'models': [{'name': 'clip-vit', 'version': '57594cc7-7db1-43c3-b21a-6dcaba846f26', 'sha': '4efc24685a14e1682301cc0085b9db931aeb5f3f8247854bedc6863275ed0646'}]}}]\"}"
      ]
     },
     "execution_count": 9,
     "metadata": {},
     "output_type": "execute_result"
    }
   ],
   "source": [
    "pipeline.clear()\n",
    "pipeline.add_model_step(model)\n",
    "pipeline.deploy(deployment_config=deployment_config)"
   ]
  },
  {
   "cell_type": "code",
   "execution_count": 10,
   "id": "5b5dd7fe-e2bb-4421-abb1-953228cbd3d7",
   "metadata": {},
   "outputs": [
    {
     "data": {
      "text/plain": [
       "{'status': 'Running',\n",
       " 'details': [],\n",
       " 'engines': [{'ip': '10.244.3.140',\n",
       "   'name': 'engine-bb48bb959-2xctn',\n",
       "   'status': 'Running',\n",
       "   'reason': None,\n",
       "   'details': [],\n",
       "   'pipeline_statuses': {'pipelines': [{'id': 'clip-demo',\n",
       "      'status': 'Running'}]},\n",
       "   'model_statuses': {'models': [{'name': 'clip-vit',\n",
       "      'version': '57594cc7-7db1-43c3-b21a-6dcaba846f26',\n",
       "      'sha': '4efc24685a14e1682301cc0085b9db931aeb5f3f8247854bedc6863275ed0646',\n",
       "      'status': 'Running'}]}}],\n",
       " 'engine_lbs': [{'ip': '10.244.4.152',\n",
       "   'name': 'engine-lb-584f54c899-gcbpj',\n",
       "   'status': 'Running',\n",
       "   'reason': None,\n",
       "   'details': []}],\n",
       " 'sidekicks': [{'ip': '10.244.3.139',\n",
       "   'name': 'engine-sidekick-clip-vit-11-75c5666b69-tqfbk',\n",
       "   'status': 'Running',\n",
       "   'reason': None,\n",
       "   'details': [],\n",
       "   'statuses': '\\n'}]}"
      ]
     },
     "execution_count": 10,
     "metadata": {},
     "output_type": "execute_result"
    }
   ],
   "source": [
    "pipeline.status()"
   ]
  },
  {
   "cell_type": "markdown",
   "id": "8f305561-adc4-4362-9b83-547815a73fa5",
   "metadata": {
    "toc-hr-collapsed": true
   },
   "source": [
    "### Run Inference\n",
    "\n",
    "We verify the pipeline is deployed by checking the `status()`.\n",
    "\n",
    "The sample images in the `./data` directory are converted into numpy arrays, and the candidate labels added as inputs.  Both are set as DataFrame arrays where the field `inputs` are the image values, and `candidate_labels` the labels."
   ]
  },
  {
   "cell_type": "code",
   "execution_count": 11,
   "id": "792817ce-f8fa-445b-8154-98263a646d37",
   "metadata": {},
   "outputs": [],
   "source": [
    "image_paths = [\n",
    "    \"./data/bear-in-tree.jpg\",\n",
    "    \"./data/elephant-and-zebras.jpg\",\n",
    "    \"./data/horse-and-dogs.jpg\",\n",
    "    \"./data/kittens.jpg\",\n",
    "    \"./data/remote-monitor.jpg\"\n",
    "]\n",
    "images = []\n",
    "\n",
    "for iu in image_paths:\n",
    "    image = Image.open(iu)\n",
    "    image = image.resize((640, 480)) # fixed image dimensions\n",
    "    images.append(np.array(image))\n",
    "\n",
    "dataframe = pd.DataFrame({\"images\": images})"
   ]
  },
  {
   "cell_type": "code",
   "execution_count": 12,
   "id": "b6d85172-8168-4f02-8442-426331ccdcd6",
   "metadata": {
    "tags": []
   },
   "outputs": [
    {
     "data": {
      "text/html": [
       "<div>\n",
       "<style scoped>\n",
       "    .dataframe tbody tr th:only-of-type {\n",
       "        vertical-align: middle;\n",
       "    }\n",
       "\n",
       "    .dataframe tbody tr th {\n",
       "        vertical-align: top;\n",
       "    }\n",
       "\n",
       "    .dataframe thead th {\n",
       "        text-align: right;\n",
       "    }\n",
       "</style>\n",
       "<table border=\"1\" class=\"dataframe\">\n",
       "  <thead>\n",
       "    <tr style=\"text-align: right;\">\n",
       "      <th></th>\n",
       "      <th>inputs</th>\n",
       "      <th>candidate_labels</th>\n",
       "    </tr>\n",
       "  </thead>\n",
       "  <tbody>\n",
       "    <tr>\n",
       "      <th>0</th>\n",
       "      <td>[[[60, 62, 61], [62, 64, 63], [67, 69, 68], [7...</td>\n",
       "      <td>[cat, dog, horse, elephant]</td>\n",
       "    </tr>\n",
       "    <tr>\n",
       "      <th>1</th>\n",
       "      <td>[[[228, 235, 241], [229, 236, 242], [230, 237,...</td>\n",
       "      <td>[cat, dog, horse, elephant]</td>\n",
       "    </tr>\n",
       "    <tr>\n",
       "      <th>2</th>\n",
       "      <td>[[[177, 177, 177], [177, 177, 177], [177, 177,...</td>\n",
       "      <td>[cat, dog, horse, elephant]</td>\n",
       "    </tr>\n",
       "    <tr>\n",
       "      <th>3</th>\n",
       "      <td>[[[140, 25, 56], [144, 25, 67], [146, 24, 73],...</td>\n",
       "      <td>[cat, dog, horse, elephant]</td>\n",
       "    </tr>\n",
       "    <tr>\n",
       "      <th>4</th>\n",
       "      <td>[[[24, 20, 11], [22, 18, 9], [18, 14, 5], [21,...</td>\n",
       "      <td>[cat, dog, horse, elephant]</td>\n",
       "    </tr>\n",
       "  </tbody>\n",
       "</table>\n",
       "</div>"
      ],
      "text/plain": [
       "                                              inputs  \\\n",
       "0  [[[60, 62, 61], [62, 64, 63], [67, 69, 68], [7...   \n",
       "1  [[[228, 235, 241], [229, 236, 242], [230, 237,...   \n",
       "2  [[[177, 177, 177], [177, 177, 177], [177, 177,...   \n",
       "3  [[[140, 25, 56], [144, 25, 67], [146, 24, 73],...   \n",
       "4  [[[24, 20, 11], [22, 18, 9], [18, 14, 5], [21,...   \n",
       "\n",
       "              candidate_labels  \n",
       "0  [cat, dog, horse, elephant]  \n",
       "1  [cat, dog, horse, elephant]  \n",
       "2  [cat, dog, horse, elephant]  \n",
       "3  [cat, dog, horse, elephant]  \n",
       "4  [cat, dog, horse, elephant]  "
      ]
     },
     "execution_count": 12,
     "metadata": {},
     "output_type": "execute_result"
    }
   ],
   "source": [
    "input_data = {\n",
    "        \"inputs\": images,\n",
    "        \"candidate_labels\": [[\"cat\", \"dog\", \"horse\", \"elephant\"]] * 5,\n",
    "}\n",
    "dataframe = pd.DataFrame(input_data)\n",
    "dataframe"
   ]
  },
  {
   "cell_type": "markdown",
   "metadata": {},
   "source": [
    "### Inference Outputs\n",
    "\n",
    "The inference is run, and the labels with their corresponding confidence values for each label are mapped to `out.label` and `out.score` for each image."
   ]
  },
  {
   "cell_type": "code",
   "execution_count": 13,
   "id": "fa078ffd-859e-4706-8729-9e7d78f8bf60",
   "metadata": {},
   "outputs": [
    {
     "data": {
      "text/html": [
       "<div>\n",
       "<style scoped>\n",
       "    .dataframe tbody tr th:only-of-type {\n",
       "        vertical-align: middle;\n",
       "    }\n",
       "\n",
       "    .dataframe tbody tr th {\n",
       "        vertical-align: top;\n",
       "    }\n",
       "\n",
       "    .dataframe thead th {\n",
       "        text-align: right;\n",
       "    }\n",
       "</style>\n",
       "<table border=\"1\" class=\"dataframe\">\n",
       "  <thead>\n",
       "    <tr style=\"text-align: right;\">\n",
       "      <th></th>\n",
       "      <th>out.label</th>\n",
       "      <th>out.score</th>\n",
       "    </tr>\n",
       "  </thead>\n",
       "  <tbody>\n",
       "    <tr>\n",
       "      <th>0</th>\n",
       "      <td>[elephant, dog, horse, cat]</td>\n",
       "      <td>[0.4146825075149536, 0.3483847379684448, 0.1285749077796936, 0.10835790634155273]</td>\n",
       "    </tr>\n",
       "    <tr>\n",
       "      <th>1</th>\n",
       "      <td>[elephant, horse, dog, cat]</td>\n",
       "      <td>[0.9981434345245361, 0.001765866531059146, 6.823801231803373e-05, 2.2441448891186155e-05]</td>\n",
       "    </tr>\n",
       "    <tr>\n",
       "      <th>2</th>\n",
       "      <td>[horse, dog, elephant, cat]</td>\n",
       "      <td>[0.7596800923347473, 0.217111736536026, 0.020392831414937973, 0.0028152535669505596]</td>\n",
       "    </tr>\n",
       "    <tr>\n",
       "      <th>3</th>\n",
       "      <td>[cat, dog, elephant, horse]</td>\n",
       "      <td>[0.9870228171348572, 0.0066468678414821625, 0.0032716328278183937, 0.003058753442019224]</td>\n",
       "    </tr>\n",
       "    <tr>\n",
       "      <th>4</th>\n",
       "      <td>[dog, horse, cat, elephant]</td>\n",
       "      <td>[0.5713965892791748, 0.17229433357715607, 0.15523898601531982, 0.1010700911283493]</td>\n",
       "    </tr>\n",
       "  </tbody>\n",
       "</table>\n",
       "</div>"
      ],
      "text/plain": [
       "                     out.label  \\\n",
       "0  [elephant, dog, horse, cat]   \n",
       "1  [elephant, horse, dog, cat]   \n",
       "2  [horse, dog, elephant, cat]   \n",
       "3  [cat, dog, elephant, horse]   \n",
       "4  [dog, horse, cat, elephant]   \n",
       "\n",
       "                                                                                   out.score  \n",
       "0          [0.4146825075149536, 0.3483847379684448, 0.1285749077796936, 0.10835790634155273]  \n",
       "1  [0.9981434345245361, 0.001765866531059146, 6.823801231803373e-05, 2.2441448891186155e-05]  \n",
       "2       [0.7596800923347473, 0.217111736536026, 0.020392831414937973, 0.0028152535669505596]  \n",
       "3   [0.9870228171348572, 0.0066468678414821625, 0.0032716328278183937, 0.003058753442019224]  \n",
       "4         [0.5713965892791748, 0.17229433357715607, 0.15523898601531982, 0.1010700911283493]  "
      ]
     },
     "metadata": {},
     "output_type": "display_data"
    }
   ],
   "source": [
    "results = pipeline.infer(dataframe,timeout=600,dataset=[\"in\", \"out\", \"metadata.elapsed\", \"time\", \"check_failures\"])\n",
    "pd.set_option('display.max_colwidth', None)\n",
    "display(results.loc[:, ['out.label', 'out.score']])"
   ]
  },
  {
   "cell_type": "markdown",
   "id": "10efccd7-fd4a-4628-907c-e5d84397ea1c",
   "metadata": {},
   "source": [
    "### Undeploy Pipelines\n",
    "\n",
    "With the tutorial complete, the pipeline is undeployed and the resources returned back to the cluster."
   ]
  },
  {
   "cell_type": "code",
   "execution_count": 14,
   "id": "34d053bc-b225-45e0-8e84-f45c30122f89",
   "metadata": {},
   "outputs": [
    {
     "data": {
      "text/html": [
       "<table><tr><th>name</th> <td>clip-demo</td></tr><tr><th>created</th> <td>2023-11-20 18:57:55.550690+00:00</td></tr><tr><th>last_updated</th> <td>2023-11-20 20:51:59.304917+00:00</td></tr><tr><th>deployed</th> <td>False</td></tr><tr><th>arch</th> <td>None</td></tr><tr><th>tags</th> <td></td></tr><tr><th>versions</th> <td>7a6168c2-f807-465f-a122-33fe7b5d8a3d, ff0e4846-f0f9-4fb0-bc06-d6daa21797bf</td></tr><tr><th>steps</th> <td>clip-vit</td></tr><tr><th>published</th> <td>False</td></tr></table>"
      ],
      "text/plain": [
       "{'name': 'clip-demo', 'create_time': datetime.datetime(2023, 11, 20, 18, 57, 55, 550690, tzinfo=tzutc()), 'definition': \"[{'ModelInference': {'models': [{'name': 'clip-vit', 'version': '57594cc7-7db1-43c3-b21a-6dcaba846f26', 'sha': '4efc24685a14e1682301cc0085b9db931aeb5f3f8247854bedc6863275ed0646'}]}}]\"}"
      ]
     },
     "execution_count": 14,
     "metadata": {},
     "output_type": "execute_result"
    }
   ],
   "source": [
    "pipeline.undeploy()"
   ]
  }
 ],
 "metadata": {
  "kernelspec": {
   "display_name": "Python 3 (ipykernel)",
   "language": "python",
   "name": "python3"
  },
  "language_info": {
   "codemirror_mode": {
    "name": "ipython",
    "version": 3
   },
   "file_extension": ".py",
   "mimetype": "text/x-python",
   "name": "python",
   "nbconvert_exporter": "python",
   "pygments_lexer": "ipython3",
   "version": "3.8.18"
  }
 },
 "nbformat": 4,
 "nbformat_minor": 5
}
