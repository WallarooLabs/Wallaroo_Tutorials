{
 "cells": [
  {
   "cell_type": "markdown",
   "id": "3c813723",
   "metadata": {},
   "source": [
    "# XGRegressor Example"
   ]
  },
  {
   "cell_type": "markdown",
   "id": "24cd74e9-5af7-4b3d-93b4-f09c9b5561dc",
   "metadata": {},
   "source": [
    "## Imports"
   ]
  },
  {
   "cell_type": "code",
   "execution_count": 1,
   "id": "58a2bdec-1c92-43b8-9c43-fa6bc6010b73",
   "metadata": {},
   "outputs": [],
   "source": [
    "import wallaroo\n",
    "from wallaroo.pipeline import Pipeline\n",
    "from wallaroo.deployment_config import DeploymentConfigBuilder\n",
    "import pyarrow as pa\n",
    "from wallaroo.framework import Framework\n",
    "\n",
    "import pickle\n",
    "from sklearn.datasets import load_diabetes\n",
    "\n",
    "wl = wallaroo.Client(auth_type=\"sso\", interactive=True)"
   ]
  },
  {
   "cell_type": "markdown",
   "id": "f0f8d805-a42d-48d1-8af6-c1b88932f764",
   "metadata": {},
   "source": [
    "## Data"
   ]
  },
  {
   "cell_type": "code",
   "execution_count": 2,
   "id": "94bdd2b2-063d-445e-ab38-012f17e3a242",
   "metadata": {},
   "outputs": [],
   "source": [
    "data = load_diabetes(as_frame=True)\n",
    "\n",
    "X = data['data'].values[:100]\n",
    "y = data['target'][:100]"
   ]
  },
  {
   "cell_type": "markdown",
   "id": "670a827e-0266-4661-bbf0-87aad1a5a875",
   "metadata": {},
   "source": [
    "## Configure & Upload Model"
   ]
  },
  {
   "cell_type": "markdown",
   "id": "ad3a257c-f8eb-4062-a025-a05f2eb2a36d",
   "metadata": {},
   "source": [
    "### Configure PyArrow Schema"
   ]
  },
  {
   "cell_type": "code",
   "execution_count": 3,
   "id": "d2f3c13b-5386-4bb1-87f4-8983a4df5f39",
   "metadata": {},
   "outputs": [],
   "source": [
    "input_schema = pa.schema([\n",
    "    pa.field('inputs', pa.list_(pa.float32(), list_size=10))\n",
    "])\n",
    "\n",
    "output_schema = pa.schema([\n",
    "    pa.field('predictions', pa.float32()),\n",
    "])"
   ]
  },
  {
   "cell_type": "markdown",
   "id": "f12d8885-afa8-4db8-9d36-daba4a5de38b",
   "metadata": {},
   "source": [
    "### Upload model"
   ]
  },
  {
   "cell_type": "markdown",
   "id": "1950fcbf",
   "metadata": {},
   "source": [
    "You can find the model uploaded in [model zoo](https://storage.cloud.google.com/wallaroo-model-zoo/model-auto-conversion/xgboost/xgb_rf_regressor.pkl?authuser=0)."
   ]
  },
  {
   "cell_type": "code",
   "execution_count": 4,
   "id": "a61ca32a-67d0-49c9-9bce-9b3bf6d44dfd",
   "metadata": {},
   "outputs": [
    {
     "name": "stdout",
     "output_type": "stream",
     "text": [
      "Waiting for model loading - this will take up to 10.0min.\n",
      "Model is pending loading to a native runtime..\n",
      "Model is attempting loading to a native runtime................incompatible\n",
      "\n",
      "Model is pending loading to a container runtime..\n",
      "Model is attempting loading to a container runtime........................successful\n",
      "\n",
      "Ready\n"
     ]
    },
    {
     "data": {
      "text/html": [
       "<table>\n",
       "        <tr>\n",
       "          <td>Name</td>\n",
       "          <td>xgb-rf-regressor</td>\n",
       "        </tr>\n",
       "        <tr>\n",
       "          <td>Version</td>\n",
       "          <td>83b4dd8f-c3d1-49d8-a84b-7df92eb9f91f</td>\n",
       "        </tr>\n",
       "        <tr>\n",
       "          <td>File Name</td>\n",
       "          <td>xgb_rf_regressor.pkl</td>\n",
       "        </tr>\n",
       "        <tr>\n",
       "          <td>SHA</td>\n",
       "          <td>ead81583402e6b17f14402b848c6ae6eb7854578f607ea9baf63379a6f60539c</td>\n",
       "        </tr>\n",
       "        <tr>\n",
       "          <td>Status</td>\n",
       "          <td>ready</td>\n",
       "        </tr>\n",
       "        <tr>\n",
       "          <td>Image Path</td>\n",
       "          <td>proxy.replicated.com/proxy/wallaroo/ghcr.io/wallaroolabs/mac-deploy:v2024.1.0-main-4756</td>\n",
       "        </tr>\n",
       "        <tr>\n",
       "          <td>Architecture</td>\n",
       "          <td>None</td>\n",
       "        </tr>\n",
       "        <tr>\n",
       "          <td>Acceleration</td>\n",
       "          <td>None</td>\n",
       "        </tr>\n",
       "        <tr>\n",
       "          <td>Updated At</td>\n",
       "          <td>2024-20-Mar 10:47:00</td>\n",
       "        </tr>\n",
       "      </table>"
      ],
      "text/plain": [
       "{'name': 'xgb-rf-regressor', 'version': '83b4dd8f-c3d1-49d8-a84b-7df92eb9f91f', 'file_name': 'xgb_rf_regressor.pkl', 'image_path': 'proxy.replicated.com/proxy/wallaroo/ghcr.io/wallaroolabs/mac-deploy:v2024.1.0-main-4756', 'arch': None, 'accel': None, 'last_update_time': datetime.datetime(2024, 3, 20, 10, 47, 0, 483830, tzinfo=tzutc())}"
      ]
     },
     "execution_count": 4,
     "metadata": {},
     "output_type": "execute_result"
    }
   ],
   "source": [
    "model = wl.upload_model('xgb-rf-regressor', 'xgb_rf_regressor.pkl', framework=Framework.XGBOOST, input_schema=input_schema, output_schema=output_schema)\n",
    "model"
   ]
  },
  {
   "cell_type": "code",
   "execution_count": 5,
   "id": "0338c1a2-16e2-4b94-be40-9bf8f1f7d7bd",
   "metadata": {},
   "outputs": [
    {
     "data": {
      "text/plain": [
       "'flight'"
      ]
     },
     "execution_count": 5,
     "metadata": {},
     "output_type": "execute_result"
    }
   ],
   "source": [
    "model.config().runtime()"
   ]
  },
  {
   "cell_type": "markdown",
   "id": "3dbcca65-4102-41c5-8d8a-a6434ade69a6",
   "metadata": {},
   "source": [
    "## Deploy Pipeline"
   ]
  },
  {
   "cell_type": "code",
   "execution_count": 6,
   "id": "afaa4557-f380-4259-8717-b3848005fd7d",
   "metadata": {},
   "outputs": [],
   "source": [
    "deployment_config = DeploymentConfigBuilder() \\\n",
    "    .cpus(0.25).memory('1Gi') \\\n",
    "    .build()"
   ]
  },
  {
   "cell_type": "code",
   "execution_count": 7,
   "id": "8324f3ee-f96a-44dc-9a47-d2f13a48bab7",
   "metadata": {},
   "outputs": [
    {
     "name": "stdout",
     "output_type": "stream",
     "text": [
      "Waiting for deployment - this will take up to 45s .............. ok\n"
     ]
    },
    {
     "data": {
      "text/plain": [
       "{'status': 'Running',\n",
       " 'details': [],\n",
       " 'engines': [{'ip': '10.124.3.134',\n",
       "   'name': 'engine-5bd8d496d6-mmk28',\n",
       "   'status': 'Running',\n",
       "   'reason': None,\n",
       "   'details': [],\n",
       "   'pipeline_statuses': {'pipelines': [{'id': 'xgb-rf-regressor-pipeline',\n",
       "      'status': 'Running'}]},\n",
       "   'model_statuses': {'models': [{'config': {'batch_config': None,\n",
       "       'filter_threshold': None,\n",
       "       'id': 214,\n",
       "       'input_schema': '/////7AAAAAQAAAAAAAKAAwABgAFAAgACgAAAAABBAAMAAAACAAIAAAABAAIAAAABAAAAAEAAAAEAAAAyP///wAAARAUAAAAJAAAAAQAAAABAAAAMAAAAAYAAABpbnB1dHMAAAAABgAIAAQABgAAAAoAAAAQABQACAAGAAcADAAAABAAEAAAAAAAAQMQAAAAHAAAAAQAAAAAAAAABAAAAGl0ZW0AAAYACAAGAAYAAAAAAAEAAAAAAA==',\n",
       "       'model_version_id': 132,\n",
       "       'output_schema': '/////4AAAAAQAAAAAAAKAAwABgAFAAgACgAAAAABBAAMAAAACAAIAAAABAAIAAAABAAAAAEAAAAUAAAAEAAUAAgABgAHAAwAAAAQABAAAAAAAAEDEAAAACQAAAAEAAAAAAAAAAsAAABwcmVkaWN0aW9ucwAAAAYACAAGAAYAAAAAAAEAAAAAAA==',\n",
       "       'runtime': 'flight',\n",
       "       'sidekick_uri': None,\n",
       "       'tensor_fields': None},\n",
       "      'model_version': {'conversion': {'framework': 'xgboost',\n",
       "        'python_version': '3.8',\n",
       "        'requirements': []},\n",
       "       'created_on_version': '2024.1.0',\n",
       "       'file_info': {'file_name': 'xgb_rf_regressor.pkl',\n",
       "        'sha': 'ead81583402e6b17f14402b848c6ae6eb7854578f607ea9baf63379a6f60539c',\n",
       "        'version': '83b4dd8f-c3d1-49d8-a84b-7df92eb9f91f'},\n",
       "       'id': 132,\n",
       "       'image_path': 'proxy.replicated.com/proxy/wallaroo/ghcr.io/wallaroolabs/mac-deploy:v2024.1.0-main-4756',\n",
       "       'name': 'xgb-rf-regressor',\n",
       "       'status': 'ready',\n",
       "       'task_id': '27a78b6d-3f74-4d9c-9106-ba2789a2c048',\n",
       "       'visibility': 'private',\n",
       "       'workspace_id': 33},\n",
       "      'status': 'Running'}]}}],\n",
       " 'engine_lbs': [{'ip': '10.124.2.8',\n",
       "   'name': 'engine-lb-d7cc8fc9c-mtmpr',\n",
       "   'status': 'Running',\n",
       "   'reason': None,\n",
       "   'details': []}],\n",
       " 'sidekicks': [{'ip': '10.124.2.9',\n",
       "   'name': 'engine-sidekick-xgb-rf-regressor-132-7d966cdfc9-dcv77',\n",
       "   'status': 'Running',\n",
       "   'reason': None,\n",
       "   'details': [],\n",
       "   'statuses': '\\n'}]}"
      ]
     },
     "execution_count": 7,
     "metadata": {},
     "output_type": "execute_result"
    }
   ],
   "source": [
    "pipeline_name = f\"xgb-rf-regressor-pipeline\"\n",
    "pipeline = wl.build_pipeline(pipeline_name)\n",
    "pipeline.add_model_step(model)\n",
    "\n",
    "pipeline.deploy(deployment_config=deployment_config)\n",
    "pipeline.status()"
   ]
  },
  {
   "cell_type": "markdown",
   "id": "33590194-abfd-4c48-9e83-888c1f61b724",
   "metadata": {},
   "source": [
    "## Run Inference"
   ]
  },
  {
   "cell_type": "code",
   "execution_count": 8,
   "id": "c6b04a3c-5147-4cba-81a7-dde2a675eb76",
   "metadata": {},
   "outputs": [
    {
     "data": {
      "text/html": [
       "<div>\n",
       "<style scoped>\n",
       "    .dataframe tbody tr th:only-of-type {\n",
       "        vertical-align: middle;\n",
       "    }\n",
       "\n",
       "    .dataframe tbody tr th {\n",
       "        vertical-align: top;\n",
       "    }\n",
       "\n",
       "    .dataframe thead th {\n",
       "        text-align: right;\n",
       "    }\n",
       "</style>\n",
       "<table border=\"1\" class=\"dataframe\">\n",
       "  <thead>\n",
       "    <tr style=\"text-align: right;\">\n",
       "      <th></th>\n",
       "      <th>inputs</th>\n",
       "    </tr>\n",
       "  </thead>\n",
       "  <tbody>\n",
       "    <tr>\n",
       "      <th>0</th>\n",
       "      <td>[0.038075906433423026, 0.05068011873981862, 0....</td>\n",
       "    </tr>\n",
       "    <tr>\n",
       "      <th>1</th>\n",
       "      <td>[-0.0018820165277906047, -0.044641636506989144...</td>\n",
       "    </tr>\n",
       "    <tr>\n",
       "      <th>2</th>\n",
       "      <td>[0.08529890629667548, 0.05068011873981862, 0.0...</td>\n",
       "    </tr>\n",
       "    <tr>\n",
       "      <th>3</th>\n",
       "      <td>[-0.0890629393522567, -0.044641636506989144, -...</td>\n",
       "    </tr>\n",
       "    <tr>\n",
       "      <th>4</th>\n",
       "      <td>[0.005383060374248237, -0.044641636506989144, ...</td>\n",
       "    </tr>\n",
       "    <tr>\n",
       "      <th>...</th>\n",
       "      <td>...</td>\n",
       "    </tr>\n",
       "    <tr>\n",
       "      <th>95</th>\n",
       "      <td>[-0.07090024709715959, -0.044641636506989144, ...</td>\n",
       "    </tr>\n",
       "    <tr>\n",
       "      <th>96</th>\n",
       "      <td>[0.056238598688520124, 0.05068011873981862, 0....</td>\n",
       "    </tr>\n",
       "    <tr>\n",
       "      <th>97</th>\n",
       "      <td>[-0.027309785684926546, -0.044641636506989144,...</td>\n",
       "    </tr>\n",
       "    <tr>\n",
       "      <th>98</th>\n",
       "      <td>[0.001750521923228816, 0.05068011873981862, -0...</td>\n",
       "    </tr>\n",
       "    <tr>\n",
       "      <th>99</th>\n",
       "      <td>[-0.0018820165277906047, -0.044641636506989144...</td>\n",
       "    </tr>\n",
       "  </tbody>\n",
       "</table>\n",
       "<p>100 rows × 1 columns</p>\n",
       "</div>"
      ],
      "text/plain": [
       "                                               inputs\n",
       "0   [0.038075906433423026, 0.05068011873981862, 0....\n",
       "1   [-0.0018820165277906047, -0.044641636506989144...\n",
       "2   [0.08529890629667548, 0.05068011873981862, 0.0...\n",
       "3   [-0.0890629393522567, -0.044641636506989144, -...\n",
       "4   [0.005383060374248237, -0.044641636506989144, ...\n",
       "..                                                ...\n",
       "95  [-0.07090024709715959, -0.044641636506989144, ...\n",
       "96  [0.056238598688520124, 0.05068011873981862, 0....\n",
       "97  [-0.027309785684926546, -0.044641636506989144,...\n",
       "98  [0.001750521923228816, 0.05068011873981862, -0...\n",
       "99  [-0.0018820165277906047, -0.044641636506989144...\n",
       "\n",
       "[100 rows x 1 columns]"
      ]
     },
     "execution_count": 8,
     "metadata": {},
     "output_type": "execute_result"
    }
   ],
   "source": [
    "import pandas as pd\n",
    "\n",
    "dataframe = pd.DataFrame({\"inputs\": X[:100].tolist()})\n",
    "dataframe"
   ]
  },
  {
   "cell_type": "markdown",
   "id": "1cdf718c-c0f1-4d0d-9423-41fb9570b3c3",
   "metadata": {},
   "source": [
    "Getting results from the pipeline:"
   ]
  },
  {
   "cell_type": "code",
   "execution_count": 9,
   "id": "3860fa57-c9ad-422a-8659-37f20f710257",
   "metadata": {},
   "outputs": [
    {
     "name": "stdout",
     "output_type": "stream",
     "text": [
      "CPU times: user 23.5 ms, sys: 2.73 ms, total: 26.3 ms\n",
      "Wall time: 56.4 ms\n"
     ]
    },
    {
     "data": {
      "text/html": [
       "<div>\n",
       "<style scoped>\n",
       "    .dataframe tbody tr th:only-of-type {\n",
       "        vertical-align: middle;\n",
       "    }\n",
       "\n",
       "    .dataframe tbody tr th {\n",
       "        vertical-align: top;\n",
       "    }\n",
       "\n",
       "    .dataframe thead th {\n",
       "        text-align: right;\n",
       "    }\n",
       "</style>\n",
       "<table border=\"1\" class=\"dataframe\">\n",
       "  <thead>\n",
       "    <tr style=\"text-align: right;\">\n",
       "      <th></th>\n",
       "      <th>time</th>\n",
       "      <th>in.inputs</th>\n",
       "      <th>out.predictions</th>\n",
       "      <th>anomaly.count</th>\n",
       "    </tr>\n",
       "  </thead>\n",
       "  <tbody>\n",
       "    <tr>\n",
       "      <th>0</th>\n",
       "      <td>2024-03-20 10:47:26.132</td>\n",
       "      <td>[0.0380759064, 0.0506801187, 0.0616962065, 0.0...</td>\n",
       "      <td>222.492130</td>\n",
       "      <td>0</td>\n",
       "    </tr>\n",
       "    <tr>\n",
       "      <th>1</th>\n",
       "      <td>2024-03-20 10:47:26.132</td>\n",
       "      <td>[-0.0018820165, -0.0446416365, -0.0514740612, ...</td>\n",
       "      <td>85.170210</td>\n",
       "      <td>0</td>\n",
       "    </tr>\n",
       "    <tr>\n",
       "      <th>2</th>\n",
       "      <td>2024-03-20 10:47:26.132</td>\n",
       "      <td>[0.0852989063, 0.0506801187, 0.0444512133, -0....</td>\n",
       "      <td>156.588300</td>\n",
       "      <td>0</td>\n",
       "    </tr>\n",
       "    <tr>\n",
       "      <th>3</th>\n",
       "      <td>2024-03-20 10:47:26.132</td>\n",
       "      <td>[-0.0890629394, -0.0446416365, -0.0115950145, ...</td>\n",
       "      <td>180.512100</td>\n",
       "      <td>0</td>\n",
       "    </tr>\n",
       "    <tr>\n",
       "      <th>4</th>\n",
       "      <td>2024-03-20 10:47:26.132</td>\n",
       "      <td>[0.0053830604, -0.0446416365, -0.0363846922, 0...</td>\n",
       "      <td>105.263480</td>\n",
       "      <td>0</td>\n",
       "    </tr>\n",
       "    <tr>\n",
       "      <th>...</th>\n",
       "      <td>...</td>\n",
       "      <td>...</td>\n",
       "      <td>...</td>\n",
       "      <td>...</td>\n",
       "    </tr>\n",
       "    <tr>\n",
       "      <th>95</th>\n",
       "      <td>2024-03-20 10:47:26.132</td>\n",
       "      <td>[-0.0709002471, -0.0446416365, -0.0579409337, ...</td>\n",
       "      <td>139.580600</td>\n",
       "      <td>0</td>\n",
       "    </tr>\n",
       "    <tr>\n",
       "      <th>96</th>\n",
       "      <td>2024-03-20 10:47:26.132</td>\n",
       "      <td>[0.0562385987, 0.0506801187, 0.009961227, 0.04...</td>\n",
       "      <td>207.162200</td>\n",
       "      <td>0</td>\n",
       "    </tr>\n",
       "    <tr>\n",
       "      <th>97</th>\n",
       "      <td>2024-03-20 10:47:26.132</td>\n",
       "      <td>[-0.0273097857, -0.0446416365, 0.0886415084, -...</td>\n",
       "      <td>166.432820</td>\n",
       "      <td>0</td>\n",
       "    </tr>\n",
       "    <tr>\n",
       "      <th>98</th>\n",
       "      <td>2024-03-20 10:47:26.132</td>\n",
       "      <td>[0.0017505219, 0.0506801187, -0.0051281421, -0...</td>\n",
       "      <td>124.094310</td>\n",
       "      <td>0</td>\n",
       "    </tr>\n",
       "    <tr>\n",
       "      <th>99</th>\n",
       "      <td>2024-03-20 10:47:26.132</td>\n",
       "      <td>[-0.0018820165, -0.0446416365, -0.0644078061, ...</td>\n",
       "      <td>120.641075</td>\n",
       "      <td>0</td>\n",
       "    </tr>\n",
       "  </tbody>\n",
       "</table>\n",
       "<p>100 rows × 4 columns</p>\n",
       "</div>"
      ],
      "text/plain": [
       "                      time                                          in.inputs  \\\n",
       "0  2024-03-20 10:47:26.132  [0.0380759064, 0.0506801187, 0.0616962065, 0.0...   \n",
       "1  2024-03-20 10:47:26.132  [-0.0018820165, -0.0446416365, -0.0514740612, ...   \n",
       "2  2024-03-20 10:47:26.132  [0.0852989063, 0.0506801187, 0.0444512133, -0....   \n",
       "3  2024-03-20 10:47:26.132  [-0.0890629394, -0.0446416365, -0.0115950145, ...   \n",
       "4  2024-03-20 10:47:26.132  [0.0053830604, -0.0446416365, -0.0363846922, 0...   \n",
       "..                     ...                                                ...   \n",
       "95 2024-03-20 10:47:26.132  [-0.0709002471, -0.0446416365, -0.0579409337, ...   \n",
       "96 2024-03-20 10:47:26.132  [0.0562385987, 0.0506801187, 0.009961227, 0.04...   \n",
       "97 2024-03-20 10:47:26.132  [-0.0273097857, -0.0446416365, 0.0886415084, -...   \n",
       "98 2024-03-20 10:47:26.132  [0.0017505219, 0.0506801187, -0.0051281421, -0...   \n",
       "99 2024-03-20 10:47:26.132  [-0.0018820165, -0.0446416365, -0.0644078061, ...   \n",
       "\n",
       "    out.predictions  anomaly.count  \n",
       "0        222.492130              0  \n",
       "1         85.170210              0  \n",
       "2        156.588300              0  \n",
       "3        180.512100              0  \n",
       "4        105.263480              0  \n",
       "..              ...            ...  \n",
       "95       139.580600              0  \n",
       "96       207.162200              0  \n",
       "97       166.432820              0  \n",
       "98       124.094310              0  \n",
       "99       120.641075              0  \n",
       "\n",
       "[100 rows x 4 columns]"
      ]
     },
     "execution_count": 9,
     "metadata": {},
     "output_type": "execute_result"
    }
   ],
   "source": [
    "%%time\n",
    "pipeline.infer(dataframe)"
   ]
  },
  {
   "cell_type": "markdown",
   "id": "0f9beac7-5fbe-4eae-b210-2303c972cd97",
   "metadata": {},
   "source": [
    "Comparing them to the original model:"
   ]
  },
  {
   "cell_type": "code",
   "execution_count": 10,
   "id": "0ef2900c-791b-4723-8542-3f05c21032cc",
   "metadata": {},
   "outputs": [],
   "source": [
    "import pickle\n",
    "\n",
    "with open(\"xgb_rf_regressor.pkl\", \"rb\") as fp:\n",
    "    model = pickle.load(fp)"
   ]
  },
  {
   "cell_type": "code",
   "execution_count": 12,
   "id": "fdb731ec-f78e-4c73-9f1f-d6fe82a7a2c4",
   "metadata": {},
   "outputs": [
    {
     "data": {
      "text/html": [
       "<style>#sk-container-id-1 {color: black;}#sk-container-id-1 pre{padding: 0;}#sk-container-id-1 div.sk-toggleable {background-color: white;}#sk-container-id-1 label.sk-toggleable__label {cursor: pointer;display: block;width: 100%;margin-bottom: 0;padding: 0.3em;box-sizing: border-box;text-align: center;}#sk-container-id-1 label.sk-toggleable__label-arrow:before {content: \"▸\";float: left;margin-right: 0.25em;color: #696969;}#sk-container-id-1 label.sk-toggleable__label-arrow:hover:before {color: black;}#sk-container-id-1 div.sk-estimator:hover label.sk-toggleable__label-arrow:before {color: black;}#sk-container-id-1 div.sk-toggleable__content {max-height: 0;max-width: 0;overflow: hidden;text-align: left;background-color: #f0f8ff;}#sk-container-id-1 div.sk-toggleable__content pre {margin: 0.2em;color: black;border-radius: 0.25em;background-color: #f0f8ff;}#sk-container-id-1 input.sk-toggleable__control:checked~div.sk-toggleable__content {max-height: 200px;max-width: 100%;overflow: auto;}#sk-container-id-1 input.sk-toggleable__control:checked~label.sk-toggleable__label-arrow:before {content: \"▾\";}#sk-container-id-1 div.sk-estimator input.sk-toggleable__control:checked~label.sk-toggleable__label {background-color: #d4ebff;}#sk-container-id-1 div.sk-label input.sk-toggleable__control:checked~label.sk-toggleable__label {background-color: #d4ebff;}#sk-container-id-1 input.sk-hidden--visually {border: 0;clip: rect(1px 1px 1px 1px);clip: rect(1px, 1px, 1px, 1px);height: 1px;margin: -1px;overflow: hidden;padding: 0;position: absolute;width: 1px;}#sk-container-id-1 div.sk-estimator {font-family: monospace;background-color: #f0f8ff;border: 1px dotted black;border-radius: 0.25em;box-sizing: border-box;margin-bottom: 0.5em;}#sk-container-id-1 div.sk-estimator:hover {background-color: #d4ebff;}#sk-container-id-1 div.sk-parallel-item::after {content: \"\";width: 100%;border-bottom: 1px solid gray;flex-grow: 1;}#sk-container-id-1 div.sk-label:hover label.sk-toggleable__label {background-color: #d4ebff;}#sk-container-id-1 div.sk-serial::before {content: \"\";position: absolute;border-left: 1px solid gray;box-sizing: border-box;top: 0;bottom: 0;left: 50%;z-index: 0;}#sk-container-id-1 div.sk-serial {display: flex;flex-direction: column;align-items: center;background-color: white;padding-right: 0.2em;padding-left: 0.2em;position: relative;}#sk-container-id-1 div.sk-item {position: relative;z-index: 1;}#sk-container-id-1 div.sk-parallel {display: flex;align-items: stretch;justify-content: center;background-color: white;position: relative;}#sk-container-id-1 div.sk-item::before, #sk-container-id-1 div.sk-parallel-item::before {content: \"\";position: absolute;border-left: 1px solid gray;box-sizing: border-box;top: 0;bottom: 0;left: 50%;z-index: -1;}#sk-container-id-1 div.sk-parallel-item {display: flex;flex-direction: column;z-index: 1;position: relative;background-color: white;}#sk-container-id-1 div.sk-parallel-item:first-child::after {align-self: flex-end;width: 50%;}#sk-container-id-1 div.sk-parallel-item:last-child::after {align-self: flex-start;width: 50%;}#sk-container-id-1 div.sk-parallel-item:only-child::after {width: 0;}#sk-container-id-1 div.sk-dashed-wrapped {border: 1px dashed gray;margin: 0 0.4em 0.5em 0.4em;box-sizing: border-box;padding-bottom: 0.4em;background-color: white;}#sk-container-id-1 div.sk-label label {font-family: monospace;font-weight: bold;display: inline-block;line-height: 1.2em;}#sk-container-id-1 div.sk-label-container {text-align: center;}#sk-container-id-1 div.sk-container {/* jupyter's `normalize.less` sets `[hidden] { display: none; }` but bootstrap.min.css set `[hidden] { display: none !important; }` so we also need the `!important` here to be able to override the default hidden behavior on the sphinx rendered scikit-learn.org. See: https://github.com/scikit-learn/scikit-learn/issues/21755 */display: inline-block !important;position: relative;}#sk-container-id-1 div.sk-text-repr-fallback {display: none;}</style><div id=\"sk-container-id-1\" class=\"sk-top-container\"><div class=\"sk-text-repr-fallback\"><pre>XGBRFRegressor(base_score=None, booster=None, callbacks=None,\n",
       "               colsample_bylevel=None, colsample_bytree=None,\n",
       "               early_stopping_rounds=None, enable_categorical=False,\n",
       "               eval_metric=None, feature_types=None, gamma=None, gpu_id=None,\n",
       "               grow_policy=None, importance_type=None,\n",
       "               interaction_constraints=None, max_bin=None,\n",
       "               max_cat_threshold=None, max_cat_to_onehot=None,\n",
       "               max_delta_step=None, max_depth=None, max_leaves=None,\n",
       "               min_child_weight=None, missing=nan, monotone_constraints=None,\n",
       "               n_estimators=100, n_jobs=None, num_parallel_tree=None,\n",
       "               objective=&#x27;reg:squarederror&#x27;, predictor=None, random_state=None,\n",
       "               reg_alpha=None, ...)</pre><b>In a Jupyter environment, please rerun this cell to show the HTML representation or trust the notebook. <br />On GitHub, the HTML representation is unable to render, please try loading this page with nbviewer.org.</b></div><div class=\"sk-container\" hidden><div class=\"sk-item\"><div class=\"sk-estimator sk-toggleable\"><input class=\"sk-toggleable__control sk-hidden--visually\" id=\"sk-estimator-id-1\" type=\"checkbox\" checked><label for=\"sk-estimator-id-1\" class=\"sk-toggleable__label sk-toggleable__label-arrow\">XGBRFRegressor</label><div class=\"sk-toggleable__content\"><pre>XGBRFRegressor(base_score=None, booster=None, callbacks=None,\n",
       "               colsample_bylevel=None, colsample_bytree=None,\n",
       "               early_stopping_rounds=None, enable_categorical=False,\n",
       "               eval_metric=None, feature_types=None, gamma=None, gpu_id=None,\n",
       "               grow_policy=None, importance_type=None,\n",
       "               interaction_constraints=None, max_bin=None,\n",
       "               max_cat_threshold=None, max_cat_to_onehot=None,\n",
       "               max_delta_step=None, max_depth=None, max_leaves=None,\n",
       "               min_child_weight=None, missing=nan, monotone_constraints=None,\n",
       "               n_estimators=100, n_jobs=None, num_parallel_tree=None,\n",
       "               objective=&#x27;reg:squarederror&#x27;, predictor=None, random_state=None,\n",
       "               reg_alpha=None, ...)</pre></div></div></div></div></div>"
      ],
      "text/plain": [
       "XGBRFRegressor(base_score=None, booster=None, callbacks=None,\n",
       "               colsample_bylevel=None, colsample_bytree=None,\n",
       "               early_stopping_rounds=None, enable_categorical=False,\n",
       "               eval_metric=None, feature_types=None, gamma=None, gpu_id=None,\n",
       "               grow_policy=None, importance_type=None,\n",
       "               interaction_constraints=None, max_bin=None,\n",
       "               max_cat_threshold=None, max_cat_to_onehot=None,\n",
       "               max_delta_step=None, max_depth=None, max_leaves=None,\n",
       "               min_child_weight=None, missing=nan, monotone_constraints=None,\n",
       "               n_estimators=100, n_jobs=None, num_parallel_tree=None,\n",
       "               objective='reg:squarederror', predictor=None, random_state=None,\n",
       "               reg_alpha=None, ...)"
      ]
     },
     "execution_count": 12,
     "metadata": {},
     "output_type": "execute_result"
    }
   ],
   "source": [
    "model"
   ]
  },
  {
   "cell_type": "code",
   "execution_count": 11,
   "id": "db553ed2-0273-41f5-81d9-fca8af806d5a",
   "metadata": {},
   "outputs": [
    {
     "data": {
      "text/plain": [
       "array([222.49213,  85.17021], dtype=float32)"
      ]
     },
     "execution_count": 11,
     "metadata": {},
     "output_type": "execute_result"
    }
   ],
   "source": [
    "model.predict(X[:2])"
   ]
  },
  {
   "cell_type": "markdown",
   "id": "28c42355-6fad-42d1-ab39-8354b31b06aa",
   "metadata": {},
   "source": [
    "## Undeploy Pipelines"
   ]
  },
  {
   "cell_type": "code",
   "execution_count": 13,
   "id": "694064c0-fc44-4e56-96cc-4990b7c084bd",
   "metadata": {},
   "outputs": [
    {
     "name": "stdout",
     "output_type": "stream",
     "text": [
      "Waiting for undeployment - this will take up to 45s .................................... ok\n"
     ]
    },
    {
     "data": {
      "text/html": [
       "<table><tr><th>name</th> <td>xgb-rf-regressor-pipeline</td></tr><tr><th>created</th> <td>2024-03-20 10:47:10.328621+00:00</td></tr><tr><th>last_updated</th> <td>2024-03-20 10:47:10.410037+00:00</td></tr><tr><th>deployed</th> <td>False</td></tr><tr><th>arch</th> <td>None</td></tr><tr><th>accel</th> <td>None</td></tr><tr><th>tags</th> <td></td></tr><tr><th>versions</th> <td>0e942c7c-0bc8-4153-bf4e-7aa66e238b7f, 98904e0b-daff-462e-8b6f-fec1448ba076</td></tr><tr><th>steps</th> <td>xgb-rf-regressor</td></tr><tr><th>published</th> <td>False</td></tr></table>"
      ],
      "text/plain": [
       "{'name': 'xgb-rf-regressor-pipeline', 'create_time': datetime.datetime(2024, 3, 20, 10, 47, 10, 328621, tzinfo=tzutc()), 'definition': \"[{'ModelInference': {'models': [{'name': 'xgb-rf-regressor', 'version': '83b4dd8f-c3d1-49d8-a84b-7df92eb9f91f', 'sha': 'ead81583402e6b17f14402b848c6ae6eb7854578f607ea9baf63379a6f60539c'}]}}]\"}"
      ]
     },
     "execution_count": 13,
     "metadata": {},
     "output_type": "execute_result"
    }
   ],
   "source": [
    "pipeline.undeploy()"
   ]
  }
 ],
 "metadata": {
  "kernelspec": {
   "display_name": "Python 3 (ipykernel)",
   "language": "python",
   "name": "python3"
  },
  "language_info": {
   "codemirror_mode": {
    "name": "ipython",
    "version": 3
   },
   "file_extension": ".py",
   "mimetype": "text/x-python",
   "name": "python",
   "nbconvert_exporter": "python",
   "pygments_lexer": "ipython3",
   "version": "3.9.13"
  }
 },
 "nbformat": 4,
 "nbformat_minor": 5
}
