{
 "cells": [
  {
   "cell_type": "markdown",
   "id": "3c813723",
   "metadata": {},
   "source": [
    "# Booster Multiclass Classification Softmax Example"
   ]
  },
  {
   "cell_type": "markdown",
   "id": "24cd74e9-5af7-4b3d-93b4-f09c9b5561dc",
   "metadata": {},
   "source": [
    "## Imports"
   ]
  },
  {
   "cell_type": "code",
   "execution_count": 1,
   "id": "58a2bdec-1c92-43b8-9c43-fa6bc6010b73",
   "metadata": {
    "tags": []
   },
   "outputs": [],
   "source": [
    "import wallaroo\n",
    "from wallaroo.deployment_config import DeploymentConfigBuilder\n",
    "from wallaroo.pipeline import Pipeline\n",
    "import pyarrow as pa\n",
    "from wallaroo.framework import Framework\n",
    "\n",
    "import pickle\n",
    "from sklearn.datasets import load_iris\n",
    "from sklearn.model_selection import train_test_split\n",
    "from xgboost import train, DMatrix\n",
    "\n",
    "wl = wallaroo.Client(auth_type=\"sso\", interactive=True)"
   ]
  },
  {
   "cell_type": "markdown",
   "id": "f0f8d805-a42d-48d1-8af6-c1b88932f764",
   "metadata": {},
   "source": [
    "## Data"
   ]
  },
  {
   "cell_type": "markdown",
   "id": "267f3a0c-a9e2-461d-b263-14a7c4a83adb",
   "metadata": {},
   "source": [
    "Load data:"
   ]
  },
  {
   "cell_type": "code",
   "execution_count": 2,
   "id": "b8e30dbb-22ea-48a5-915a-67ee811778fa",
   "metadata": {},
   "outputs": [],
   "source": [
    "dataset = load_iris()\n",
    "X, y = dataset.data, dataset.target\n",
    "X_train, X_test, y_train, y_test = train_test_split(\n",
    "    X, y, test_size=0.2, random_state=42\n",
    ")\n",
    "dtrain = DMatrix(X_train, label=y_train)\n",
    "dtest = DMatrix(X_test, label=y_test)"
   ]
  },
  {
   "cell_type": "markdown",
   "id": "cd9368d5-03fb-4c58-bbf7-c9bb50629df9",
   "metadata": {},
   "source": [
    "Load raw model:"
   ]
  },
  {
   "cell_type": "code",
   "execution_count": 13,
   "id": "38a6a637-98fd-4f26-8be0-c38ae46c75c3",
   "metadata": {},
   "outputs": [],
   "source": [
    "with open(\"booster_multi_classification_softmax.pkl\", \"rb\") as fp:\n",
    "    raw_model = pickle.load(fp)"
   ]
  },
  {
   "cell_type": "markdown",
   "id": "670a827e-0266-4661-bbf0-87aad1a5a875",
   "metadata": {},
   "source": [
    "## Configure & Upload Model"
   ]
  },
  {
   "cell_type": "markdown",
   "id": "ad3a257c-f8eb-4062-a025-a05f2eb2a36d",
   "metadata": {},
   "source": [
    "### Configure PyArrow Schema"
   ]
  },
  {
   "cell_type": "code",
   "execution_count": 4,
   "id": "d2f3c13b-5386-4bb1-87f4-8983a4df5f39",
   "metadata": {},
   "outputs": [],
   "source": [
    "input_schema = pa.schema([\n",
    "    pa.field('inputs', pa.list_(pa.float32(), list_size=4))\n",
    "])\n",
    "\n",
    "output_schema = pa.schema([\n",
    "    pa.field('predictions', pa.float32()),\n",
    "])"
   ]
  },
  {
   "cell_type": "markdown",
   "id": "f12d8885-afa8-4db8-9d36-daba4a5de38b",
   "metadata": {},
   "source": [
    "### Upload model"
   ]
  },
  {
   "cell_type": "markdown",
   "id": "5d3b14ef-8dcc-4f83-bfd0-d9d2c0ca3033",
   "metadata": {},
   "source": [
    "You can find the model uploaded in [model zoo](https://storage.cloud.google.com/wallaroo-model-zoo/model-auto-conversion/convert-non-native-frameworks/xgboost/xgb_booster_multi_classification_softmax.pkl?authuser=0)."
   ]
  },
  {
   "cell_type": "code",
   "execution_count": 5,
   "id": "0e16d95a-88b3-4bf8-bdfe-c62f5b464d7a",
   "metadata": {},
   "outputs": [
    {
     "name": "stdout",
     "output_type": "stream",
     "text": [
      "Waiting for model loading - this will take up to 10.0min.\n",
      "Model is pending loading to a native runtime..\n",
      "Ready\n"
     ]
    },
    {
     "data": {
      "text/html": [
       "<table>\n",
       "        <tr>\n",
       "          <td>Name</td>\n",
       "          <td>booster-multi-classification-softmax</td>\n",
       "        </tr>\n",
       "        <tr>\n",
       "          <td>Version</td>\n",
       "          <td>c105d1a7-7894-4c2d-9786-d3ab6063f893</td>\n",
       "        </tr>\n",
       "        <tr>\n",
       "          <td>File Name</td>\n",
       "          <td>booster_multi_classification_softmax.pkl</td>\n",
       "        </tr>\n",
       "        <tr>\n",
       "          <td>SHA</td>\n",
       "          <td>6ace49bb2a3514724937de8ec023a14c94ac71dde7dce220ad27e44d296b4b25</td>\n",
       "        </tr>\n",
       "        <tr>\n",
       "          <td>Status</td>\n",
       "          <td>ready</td>\n",
       "        </tr>\n",
       "        <tr>\n",
       "          <td>Image Path</td>\n",
       "          <td>None</td>\n",
       "        </tr>\n",
       "        <tr>\n",
       "          <td>Architecture</td>\n",
       "          <td>None</td>\n",
       "        </tr>\n",
       "        <tr>\n",
       "          <td>Acceleration</td>\n",
       "          <td>None</td>\n",
       "        </tr>\n",
       "        <tr>\n",
       "          <td>Updated At</td>\n",
       "          <td>2024-18-Mar 12:15:01</td>\n",
       "        </tr>\n",
       "      </table>"
      ],
      "text/plain": [
       "{'name': 'booster-multi-classification-softmax', 'version': 'c105d1a7-7894-4c2d-9786-d3ab6063f893', 'file_name': 'booster_multi_classification_softmax.pkl', 'image_path': None, 'arch': None, 'accel': None, 'last_update_time': datetime.datetime(2024, 3, 18, 12, 15, 1, 955672, tzinfo=tzutc())}"
      ]
     },
     "execution_count": 5,
     "metadata": {},
     "output_type": "execute_result"
    }
   ],
   "source": [
    "model = wl.upload_model('booster-multi-classification-softmax', 'booster_multi_classification_softmax.pkl', framework=Framework.XGBOOST, input_schema=input_schema, output_schema=output_schema)\n",
    "model"
   ]
  },
  {
   "cell_type": "code",
   "execution_count": 6,
   "id": "a7c4c446-7546-428b-acff-de3e7d5e94ab",
   "metadata": {},
   "outputs": [
    {
     "data": {
      "text/plain": [
       "'onnx'"
      ]
     },
     "execution_count": 6,
     "metadata": {},
     "output_type": "execute_result"
    }
   ],
   "source": [
    "model.config().runtime()"
   ]
  },
  {
   "cell_type": "markdown",
   "id": "3dbcca65-4102-41c5-8d8a-a6434ade69a6",
   "metadata": {},
   "source": [
    "## Deploy Pipeline"
   ]
  },
  {
   "cell_type": "code",
   "execution_count": 7,
   "id": "afaa4557-f380-4259-8717-b3848005fd7d",
   "metadata": {},
   "outputs": [],
   "source": [
    "deployment_config = DeploymentConfigBuilder() \\\n",
    "    .cpus(0.25).memory('1Gi') \\\n",
    "    .build()"
   ]
  },
  {
   "cell_type": "code",
   "execution_count": 8,
   "id": "8324f3ee-f96a-44dc-9a47-d2f13a48bab7",
   "metadata": {},
   "outputs": [
    {
     "name": "stdout",
     "output_type": "stream",
     "text": [
      "Waiting for deployment - this will take up to 45s ...................... ok\n"
     ]
    },
    {
     "data": {
      "text/plain": [
       "{'status': 'Running',\n",
       " 'details': [],\n",
       " 'engines': [{'ip': '10.223.128.12',\n",
       "   'name': 'engine-74ccd7ffc4-lf2lf',\n",
       "   'status': 'Running',\n",
       "   'reason': None,\n",
       "   'details': [],\n",
       "   'pipeline_statuses': {'pipelines': [{'id': 'booster-binary-classification-softmax-pipeline',\n",
       "      'status': 'Running'}]},\n",
       "   'model_statuses': {'models': [{'config': {'batch_config': None,\n",
       "       'filter_threshold': None,\n",
       "       'id': 21,\n",
       "       'input_schema': '/////7AAAAAQAAAAAAAKAAwABgAFAAgACgAAAAABBAAMAAAACAAIAAAABAAIAAAABAAAAAEAAAAEAAAAyP///wAAARAUAAAAJAAAAAQAAAABAAAAMAAAAAYAAABpbnB1dHMAAAAABgAIAAQABgAAAAQAAAAQABQACAAGAAcADAAAABAAEAAAAAAAAQMQAAAAHAAAAAQAAAAAAAAABAAAAGl0ZW0AAAYACAAGAAYAAAAAAAEAAAAAAA==',\n",
       "       'model_version_id': 7,\n",
       "       'output_schema': '/////4AAAAAQAAAAAAAKAAwABgAFAAgACgAAAAABBAAMAAAACAAIAAAABAAIAAAABAAAAAEAAAAUAAAAEAAUAAgABgAHAAwAAAAQABAAAAAAAAEDEAAAACQAAAAEAAAAAAAAAAsAAABwcmVkaWN0aW9ucwAAAAYACAAGAAYAAAAAAAEAAAAAAA==',\n",
       "       'runtime': 'onnx',\n",
       "       'sidekick_uri': None,\n",
       "       'tensor_fields': None},\n",
       "      'model_version': {'conversion': {'framework': 'xgboost',\n",
       "        'python_version': '3.8',\n",
       "        'requirements': []},\n",
       "       'created_on_version': '2024.1.0',\n",
       "       'file_info': {'file_name': 'booster_multi_classification_softmax.pkl',\n",
       "        'sha': '6ace49bb2a3514724937de8ec023a14c94ac71dde7dce220ad27e44d296b4b25',\n",
       "        'version': 'c105d1a7-7894-4c2d-9786-d3ab6063f893'},\n",
       "       'id': 7,\n",
       "       'image_path': None,\n",
       "       'name': 'booster-multi-classification-softmax',\n",
       "       'status': 'ready',\n",
       "       'task_id': 'dfd55c3e-521c-4262-986f-7b4f25d55991',\n",
       "       'visibility': 'private',\n",
       "       'workspace_id': 1},\n",
       "      'status': 'Running'}]}}],\n",
       " 'engine_lbs': [{'ip': '10.223.128.2',\n",
       "   'name': 'engine-lb-7bcbb95695-fvkl5',\n",
       "   'status': 'Running',\n",
       "   'reason': None,\n",
       "   'details': []}],\n",
       " 'sidekicks': []}"
      ]
     },
     "execution_count": 8,
     "metadata": {},
     "output_type": "execute_result"
    }
   ],
   "source": [
    "pipeline_name = f\"booster-binary-classification-softmax-pipeline\"\n",
    "pipeline = wl.build_pipeline(pipeline_name)\n",
    "pipeline.add_model_step(model)\n",
    "\n",
    "pipeline.deploy(deployment_config=deployment_config)\n",
    "pipeline.status()"
   ]
  },
  {
   "cell_type": "markdown",
   "id": "33590194-abfd-4c48-9e83-888c1f61b724",
   "metadata": {},
   "source": [
    "## Run Inference"
   ]
  },
  {
   "cell_type": "code",
   "execution_count": 9,
   "id": "024b57df-bbd0-43d7-9319-ffd171453c7d",
   "metadata": {},
   "outputs": [],
   "source": [
    "data = dtest.get_data().todense()[:100]"
   ]
  },
  {
   "cell_type": "code",
   "execution_count": 10,
   "id": "622b7558-bfb4-4fb2-889d-b1c8c6e2734e",
   "metadata": {},
   "outputs": [
    {
     "data": {
      "text/html": [
       "<div>\n",
       "<style scoped>\n",
       "    .dataframe tbody tr th:only-of-type {\n",
       "        vertical-align: middle;\n",
       "    }\n",
       "\n",
       "    .dataframe tbody tr th {\n",
       "        vertical-align: top;\n",
       "    }\n",
       "\n",
       "    .dataframe thead th {\n",
       "        text-align: right;\n",
       "    }\n",
       "</style>\n",
       "<table border=\"1\" class=\"dataframe\">\n",
       "  <thead>\n",
       "    <tr style=\"text-align: right;\">\n",
       "      <th></th>\n",
       "      <th>inputs</th>\n",
       "    </tr>\n",
       "  </thead>\n",
       "  <tbody>\n",
       "    <tr>\n",
       "      <th>0</th>\n",
       "      <td>[6.099999904632568, 2.799999952316284, 4.69999...</td>\n",
       "    </tr>\n",
       "    <tr>\n",
       "      <th>1</th>\n",
       "      <td>[5.699999809265137, 3.799999952316284, 1.70000...</td>\n",
       "    </tr>\n",
       "    <tr>\n",
       "      <th>2</th>\n",
       "      <td>[7.699999809265137, 2.5999999046325684, 6.9000...</td>\n",
       "    </tr>\n",
       "    <tr>\n",
       "      <th>3</th>\n",
       "      <td>[6.0, 2.9000000953674316, 4.5, 1.5]</td>\n",
       "    </tr>\n",
       "    <tr>\n",
       "      <th>4</th>\n",
       "      <td>[6.800000190734863, 2.799999952316284, 4.80000...</td>\n",
       "    </tr>\n",
       "    <tr>\n",
       "      <th>5</th>\n",
       "      <td>[5.400000095367432, 3.4000000953674316, 1.5, 0...</td>\n",
       "    </tr>\n",
       "    <tr>\n",
       "      <th>6</th>\n",
       "      <td>[5.599999904632568, 2.9000000953674316, 3.5999...</td>\n",
       "    </tr>\n",
       "    <tr>\n",
       "      <th>7</th>\n",
       "      <td>[6.900000095367432, 3.0999999046325684, 5.0999...</td>\n",
       "    </tr>\n",
       "    <tr>\n",
       "      <th>8</th>\n",
       "      <td>[6.199999809265137, 2.200000047683716, 4.5, 1.5]</td>\n",
       "    </tr>\n",
       "    <tr>\n",
       "      <th>9</th>\n",
       "      <td>[5.800000190734863, 2.700000047683716, 3.90000...</td>\n",
       "    </tr>\n",
       "    <tr>\n",
       "      <th>10</th>\n",
       "      <td>[6.5, 3.200000047683716, 5.099999904632568, 2.0]</td>\n",
       "    </tr>\n",
       "    <tr>\n",
       "      <th>11</th>\n",
       "      <td>[4.800000190734863, 3.0, 1.399999976158142, 0....</td>\n",
       "    </tr>\n",
       "    <tr>\n",
       "      <th>12</th>\n",
       "      <td>[5.5, 3.5, 1.2999999523162842, 0.2000000029802...</td>\n",
       "    </tr>\n",
       "    <tr>\n",
       "      <th>13</th>\n",
       "      <td>[4.900000095367432, 3.0999999046325684, 1.5, 0...</td>\n",
       "    </tr>\n",
       "    <tr>\n",
       "      <th>14</th>\n",
       "      <td>[5.099999904632568, 3.799999952316284, 1.5, 0....</td>\n",
       "    </tr>\n",
       "    <tr>\n",
       "      <th>15</th>\n",
       "      <td>[6.300000190734863, 3.299999952316284, 4.69999...</td>\n",
       "    </tr>\n",
       "    <tr>\n",
       "      <th>16</th>\n",
       "      <td>[6.5, 3.0, 5.800000190734863, 2.200000047683716]</td>\n",
       "    </tr>\n",
       "    <tr>\n",
       "      <th>17</th>\n",
       "      <td>[5.599999904632568, 2.5, 3.9000000953674316, 1...</td>\n",
       "    </tr>\n",
       "    <tr>\n",
       "      <th>18</th>\n",
       "      <td>[5.699999809265137, 2.799999952316284, 4.5, 1....</td>\n",
       "    </tr>\n",
       "    <tr>\n",
       "      <th>19</th>\n",
       "      <td>[6.400000095367432, 2.799999952316284, 5.59999...</td>\n",
       "    </tr>\n",
       "    <tr>\n",
       "      <th>20</th>\n",
       "      <td>[4.699999809265137, 3.200000047683716, 1.60000...</td>\n",
       "    </tr>\n",
       "    <tr>\n",
       "      <th>21</th>\n",
       "      <td>[6.099999904632568, 3.0, 4.900000095367432, 1....</td>\n",
       "    </tr>\n",
       "    <tr>\n",
       "      <th>22</th>\n",
       "      <td>[5.0, 3.4000000953674316, 1.600000023841858, 0...</td>\n",
       "    </tr>\n",
       "    <tr>\n",
       "      <th>23</th>\n",
       "      <td>[6.400000095367432, 2.799999952316284, 5.59999...</td>\n",
       "    </tr>\n",
       "    <tr>\n",
       "      <th>24</th>\n",
       "      <td>[7.900000095367432, 3.799999952316284, 6.40000...</td>\n",
       "    </tr>\n",
       "    <tr>\n",
       "      <th>25</th>\n",
       "      <td>[6.699999809265137, 3.0, 5.199999809265137, 2....</td>\n",
       "    </tr>\n",
       "    <tr>\n",
       "      <th>26</th>\n",
       "      <td>[6.699999809265137, 2.5, 5.800000190734863, 1....</td>\n",
       "    </tr>\n",
       "    <tr>\n",
       "      <th>27</th>\n",
       "      <td>[6.800000190734863, 3.200000047683716, 5.90000...</td>\n",
       "    </tr>\n",
       "    <tr>\n",
       "      <th>28</th>\n",
       "      <td>[4.800000190734863, 3.0, 1.399999976158142, 0....</td>\n",
       "    </tr>\n",
       "    <tr>\n",
       "      <th>29</th>\n",
       "      <td>[4.800000190734863, 3.0999999046325684, 1.6000...</td>\n",
       "    </tr>\n",
       "  </tbody>\n",
       "</table>\n",
       "</div>"
      ],
      "text/plain": [
       "                                               inputs\n",
       "0   [6.099999904632568, 2.799999952316284, 4.69999...\n",
       "1   [5.699999809265137, 3.799999952316284, 1.70000...\n",
       "2   [7.699999809265137, 2.5999999046325684, 6.9000...\n",
       "3                 [6.0, 2.9000000953674316, 4.5, 1.5]\n",
       "4   [6.800000190734863, 2.799999952316284, 4.80000...\n",
       "5   [5.400000095367432, 3.4000000953674316, 1.5, 0...\n",
       "6   [5.599999904632568, 2.9000000953674316, 3.5999...\n",
       "7   [6.900000095367432, 3.0999999046325684, 5.0999...\n",
       "8    [6.199999809265137, 2.200000047683716, 4.5, 1.5]\n",
       "9   [5.800000190734863, 2.700000047683716, 3.90000...\n",
       "10   [6.5, 3.200000047683716, 5.099999904632568, 2.0]\n",
       "11  [4.800000190734863, 3.0, 1.399999976158142, 0....\n",
       "12  [5.5, 3.5, 1.2999999523162842, 0.2000000029802...\n",
       "13  [4.900000095367432, 3.0999999046325684, 1.5, 0...\n",
       "14  [5.099999904632568, 3.799999952316284, 1.5, 0....\n",
       "15  [6.300000190734863, 3.299999952316284, 4.69999...\n",
       "16   [6.5, 3.0, 5.800000190734863, 2.200000047683716]\n",
       "17  [5.599999904632568, 2.5, 3.9000000953674316, 1...\n",
       "18  [5.699999809265137, 2.799999952316284, 4.5, 1....\n",
       "19  [6.400000095367432, 2.799999952316284, 5.59999...\n",
       "20  [4.699999809265137, 3.200000047683716, 1.60000...\n",
       "21  [6.099999904632568, 3.0, 4.900000095367432, 1....\n",
       "22  [5.0, 3.4000000953674316, 1.600000023841858, 0...\n",
       "23  [6.400000095367432, 2.799999952316284, 5.59999...\n",
       "24  [7.900000095367432, 3.799999952316284, 6.40000...\n",
       "25  [6.699999809265137, 3.0, 5.199999809265137, 2....\n",
       "26  [6.699999809265137, 2.5, 5.800000190734863, 1....\n",
       "27  [6.800000190734863, 3.200000047683716, 5.90000...\n",
       "28  [4.800000190734863, 3.0, 1.399999976158142, 0....\n",
       "29  [4.800000190734863, 3.0999999046325684, 1.6000..."
      ]
     },
     "execution_count": 10,
     "metadata": {},
     "output_type": "execute_result"
    }
   ],
   "source": [
    "import pandas as pd\n",
    "\n",
    "dataframe = pd.DataFrame({\"inputs\": data.tolist()})\n",
    "dataframe"
   ]
  },
  {
   "cell_type": "markdown",
   "id": "b701587b-dacb-4d1c-a836-cc3483595df2",
   "metadata": {},
   "source": [
    "Getting results from pipeline:"
   ]
  },
  {
   "cell_type": "code",
   "execution_count": 11,
   "id": "83710ebf-4c55-4be9-876a-68b37756572e",
   "metadata": {},
   "outputs": [
    {
     "name": "stdout",
     "output_type": "stream",
     "text": [
      "CPU times: user 16.4 ms, sys: 2.41 ms, total: 18.8 ms\n",
      "Wall time: 35.3 ms\n"
     ]
    },
    {
     "data": {
      "text/html": [
       "<div>\n",
       "<style scoped>\n",
       "    .dataframe tbody tr th:only-of-type {\n",
       "        vertical-align: middle;\n",
       "    }\n",
       "\n",
       "    .dataframe tbody tr th {\n",
       "        vertical-align: top;\n",
       "    }\n",
       "\n",
       "    .dataframe thead th {\n",
       "        text-align: right;\n",
       "    }\n",
       "</style>\n",
       "<table border=\"1\" class=\"dataframe\">\n",
       "  <thead>\n",
       "    <tr style=\"text-align: right;\">\n",
       "      <th></th>\n",
       "      <th>time</th>\n",
       "      <th>in.inputs</th>\n",
       "      <th>out.predictions</th>\n",
       "      <th>anomaly.count</th>\n",
       "    </tr>\n",
       "  </thead>\n",
       "  <tbody>\n",
       "    <tr>\n",
       "      <th>0</th>\n",
       "      <td>2024-03-18 12:15:57.227</td>\n",
       "      <td>[6.0999999046, 2.7999999523, 4.6999998093, 1.2...</td>\n",
       "      <td>1.0</td>\n",
       "      <td>0</td>\n",
       "    </tr>\n",
       "    <tr>\n",
       "      <th>1</th>\n",
       "      <td>2024-03-18 12:15:57.227</td>\n",
       "      <td>[5.6999998093, 3.7999999523, 1.7000000477, 0.3...</td>\n",
       "      <td>0.0</td>\n",
       "      <td>0</td>\n",
       "    </tr>\n",
       "    <tr>\n",
       "      <th>2</th>\n",
       "      <td>2024-03-18 12:15:57.227</td>\n",
       "      <td>[7.6999998093, 2.5999999046, 6.9000000954, 2.2...</td>\n",
       "      <td>2.0</td>\n",
       "      <td>0</td>\n",
       "    </tr>\n",
       "    <tr>\n",
       "      <th>3</th>\n",
       "      <td>2024-03-18 12:15:57.227</td>\n",
       "      <td>[6.0, 2.9000000954, 4.5, 1.5]</td>\n",
       "      <td>1.0</td>\n",
       "      <td>0</td>\n",
       "    </tr>\n",
       "    <tr>\n",
       "      <th>4</th>\n",
       "      <td>2024-03-18 12:15:57.227</td>\n",
       "      <td>[6.8000001907, 2.7999999523, 4.8000001907, 1.3...</td>\n",
       "      <td>1.0</td>\n",
       "      <td>0</td>\n",
       "    </tr>\n",
       "    <tr>\n",
       "      <th>5</th>\n",
       "      <td>2024-03-18 12:15:57.227</td>\n",
       "      <td>[5.4000000954, 3.4000000954, 1.5, 0.400000006]</td>\n",
       "      <td>0.0</td>\n",
       "      <td>0</td>\n",
       "    </tr>\n",
       "    <tr>\n",
       "      <th>6</th>\n",
       "      <td>2024-03-18 12:15:57.227</td>\n",
       "      <td>[5.5999999046, 2.9000000954, 3.5999999046, 1.2...</td>\n",
       "      <td>1.0</td>\n",
       "      <td>0</td>\n",
       "    </tr>\n",
       "    <tr>\n",
       "      <th>7</th>\n",
       "      <td>2024-03-18 12:15:57.227</td>\n",
       "      <td>[6.9000000954, 3.0999999046, 5.0999999046, 2.2...</td>\n",
       "      <td>2.0</td>\n",
       "      <td>0</td>\n",
       "    </tr>\n",
       "    <tr>\n",
       "      <th>8</th>\n",
       "      <td>2024-03-18 12:15:57.227</td>\n",
       "      <td>[6.1999998093, 2.2000000477, 4.5, 1.5]</td>\n",
       "      <td>1.0</td>\n",
       "      <td>0</td>\n",
       "    </tr>\n",
       "    <tr>\n",
       "      <th>9</th>\n",
       "      <td>2024-03-18 12:15:57.227</td>\n",
       "      <td>[5.8000001907, 2.7000000477, 3.9000000954, 1.2...</td>\n",
       "      <td>1.0</td>\n",
       "      <td>0</td>\n",
       "    </tr>\n",
       "    <tr>\n",
       "      <th>10</th>\n",
       "      <td>2024-03-18 12:15:57.227</td>\n",
       "      <td>[6.5, 3.2000000477, 5.0999999046, 2.0]</td>\n",
       "      <td>2.0</td>\n",
       "      <td>0</td>\n",
       "    </tr>\n",
       "    <tr>\n",
       "      <th>11</th>\n",
       "      <td>2024-03-18 12:15:57.227</td>\n",
       "      <td>[4.8000001907, 3.0, 1.3999999762, 0.1000000015]</td>\n",
       "      <td>0.0</td>\n",
       "      <td>0</td>\n",
       "    </tr>\n",
       "    <tr>\n",
       "      <th>12</th>\n",
       "      <td>2024-03-18 12:15:57.227</td>\n",
       "      <td>[5.5, 3.5, 1.2999999523, 0.200000003]</td>\n",
       "      <td>0.0</td>\n",
       "      <td>0</td>\n",
       "    </tr>\n",
       "    <tr>\n",
       "      <th>13</th>\n",
       "      <td>2024-03-18 12:15:57.227</td>\n",
       "      <td>[4.9000000954, 3.0999999046, 1.5, 0.1000000015]</td>\n",
       "      <td>0.0</td>\n",
       "      <td>0</td>\n",
       "    </tr>\n",
       "    <tr>\n",
       "      <th>14</th>\n",
       "      <td>2024-03-18 12:15:57.227</td>\n",
       "      <td>[5.0999999046, 3.7999999523, 1.5, 0.3000000119]</td>\n",
       "      <td>0.0</td>\n",
       "      <td>0</td>\n",
       "    </tr>\n",
       "    <tr>\n",
       "      <th>15</th>\n",
       "      <td>2024-03-18 12:15:57.227</td>\n",
       "      <td>[6.3000001907, 3.2999999523, 4.6999998093, 1.6...</td>\n",
       "      <td>1.0</td>\n",
       "      <td>0</td>\n",
       "    </tr>\n",
       "    <tr>\n",
       "      <th>16</th>\n",
       "      <td>2024-03-18 12:15:57.227</td>\n",
       "      <td>[6.5, 3.0, 5.8000001907, 2.2000000477]</td>\n",
       "      <td>2.0</td>\n",
       "      <td>0</td>\n",
       "    </tr>\n",
       "    <tr>\n",
       "      <th>17</th>\n",
       "      <td>2024-03-18 12:15:57.227</td>\n",
       "      <td>[5.5999999046, 2.5, 3.9000000954, 1.1000000238]</td>\n",
       "      <td>1.0</td>\n",
       "      <td>0</td>\n",
       "    </tr>\n",
       "    <tr>\n",
       "      <th>18</th>\n",
       "      <td>2024-03-18 12:15:57.227</td>\n",
       "      <td>[5.6999998093, 2.7999999523, 4.5, 1.2999999523]</td>\n",
       "      <td>1.0</td>\n",
       "      <td>0</td>\n",
       "    </tr>\n",
       "    <tr>\n",
       "      <th>19</th>\n",
       "      <td>2024-03-18 12:15:57.227</td>\n",
       "      <td>[6.4000000954, 2.7999999523, 5.5999999046, 2.2...</td>\n",
       "      <td>2.0</td>\n",
       "      <td>0</td>\n",
       "    </tr>\n",
       "    <tr>\n",
       "      <th>20</th>\n",
       "      <td>2024-03-18 12:15:57.227</td>\n",
       "      <td>[4.6999998093, 3.2000000477, 1.6000000238, 0.2...</td>\n",
       "      <td>0.0</td>\n",
       "      <td>0</td>\n",
       "    </tr>\n",
       "    <tr>\n",
       "      <th>21</th>\n",
       "      <td>2024-03-18 12:15:57.227</td>\n",
       "      <td>[6.0999999046, 3.0, 4.9000000954, 1.7999999523]</td>\n",
       "      <td>2.0</td>\n",
       "      <td>0</td>\n",
       "    </tr>\n",
       "    <tr>\n",
       "      <th>22</th>\n",
       "      <td>2024-03-18 12:15:57.227</td>\n",
       "      <td>[5.0, 3.4000000954, 1.6000000238, 0.400000006]</td>\n",
       "      <td>0.0</td>\n",
       "      <td>0</td>\n",
       "    </tr>\n",
       "    <tr>\n",
       "      <th>23</th>\n",
       "      <td>2024-03-18 12:15:57.227</td>\n",
       "      <td>[6.4000000954, 2.7999999523, 5.5999999046, 2.0...</td>\n",
       "      <td>2.0</td>\n",
       "      <td>0</td>\n",
       "    </tr>\n",
       "    <tr>\n",
       "      <th>24</th>\n",
       "      <td>2024-03-18 12:15:57.227</td>\n",
       "      <td>[7.9000000954, 3.7999999523, 6.4000000954, 2.0]</td>\n",
       "      <td>2.0</td>\n",
       "      <td>0</td>\n",
       "    </tr>\n",
       "    <tr>\n",
       "      <th>25</th>\n",
       "      <td>2024-03-18 12:15:57.227</td>\n",
       "      <td>[6.6999998093, 3.0, 5.1999998093, 2.2999999523]</td>\n",
       "      <td>2.0</td>\n",
       "      <td>0</td>\n",
       "    </tr>\n",
       "    <tr>\n",
       "      <th>26</th>\n",
       "      <td>2024-03-18 12:15:57.227</td>\n",
       "      <td>[6.6999998093, 2.5, 5.8000001907, 1.7999999523]</td>\n",
       "      <td>2.0</td>\n",
       "      <td>0</td>\n",
       "    </tr>\n",
       "    <tr>\n",
       "      <th>27</th>\n",
       "      <td>2024-03-18 12:15:57.227</td>\n",
       "      <td>[6.8000001907, 3.2000000477, 5.9000000954, 2.2...</td>\n",
       "      <td>2.0</td>\n",
       "      <td>0</td>\n",
       "    </tr>\n",
       "    <tr>\n",
       "      <th>28</th>\n",
       "      <td>2024-03-18 12:15:57.227</td>\n",
       "      <td>[4.8000001907, 3.0, 1.3999999762, 0.3000000119]</td>\n",
       "      <td>0.0</td>\n",
       "      <td>0</td>\n",
       "    </tr>\n",
       "    <tr>\n",
       "      <th>29</th>\n",
       "      <td>2024-03-18 12:15:57.227</td>\n",
       "      <td>[4.8000001907, 3.0999999046, 1.6000000238, 0.2...</td>\n",
       "      <td>0.0</td>\n",
       "      <td>0</td>\n",
       "    </tr>\n",
       "  </tbody>\n",
       "</table>\n",
       "</div>"
      ],
      "text/plain": [
       "                      time                                          in.inputs  \\\n",
       "0  2024-03-18 12:15:57.227  [6.0999999046, 2.7999999523, 4.6999998093, 1.2...   \n",
       "1  2024-03-18 12:15:57.227  [5.6999998093, 3.7999999523, 1.7000000477, 0.3...   \n",
       "2  2024-03-18 12:15:57.227  [7.6999998093, 2.5999999046, 6.9000000954, 2.2...   \n",
       "3  2024-03-18 12:15:57.227                      [6.0, 2.9000000954, 4.5, 1.5]   \n",
       "4  2024-03-18 12:15:57.227  [6.8000001907, 2.7999999523, 4.8000001907, 1.3...   \n",
       "5  2024-03-18 12:15:57.227     [5.4000000954, 3.4000000954, 1.5, 0.400000006]   \n",
       "6  2024-03-18 12:15:57.227  [5.5999999046, 2.9000000954, 3.5999999046, 1.2...   \n",
       "7  2024-03-18 12:15:57.227  [6.9000000954, 3.0999999046, 5.0999999046, 2.2...   \n",
       "8  2024-03-18 12:15:57.227             [6.1999998093, 2.2000000477, 4.5, 1.5]   \n",
       "9  2024-03-18 12:15:57.227  [5.8000001907, 2.7000000477, 3.9000000954, 1.2...   \n",
       "10 2024-03-18 12:15:57.227             [6.5, 3.2000000477, 5.0999999046, 2.0]   \n",
       "11 2024-03-18 12:15:57.227    [4.8000001907, 3.0, 1.3999999762, 0.1000000015]   \n",
       "12 2024-03-18 12:15:57.227              [5.5, 3.5, 1.2999999523, 0.200000003]   \n",
       "13 2024-03-18 12:15:57.227    [4.9000000954, 3.0999999046, 1.5, 0.1000000015]   \n",
       "14 2024-03-18 12:15:57.227    [5.0999999046, 3.7999999523, 1.5, 0.3000000119]   \n",
       "15 2024-03-18 12:15:57.227  [6.3000001907, 3.2999999523, 4.6999998093, 1.6...   \n",
       "16 2024-03-18 12:15:57.227             [6.5, 3.0, 5.8000001907, 2.2000000477]   \n",
       "17 2024-03-18 12:15:57.227    [5.5999999046, 2.5, 3.9000000954, 1.1000000238]   \n",
       "18 2024-03-18 12:15:57.227    [5.6999998093, 2.7999999523, 4.5, 1.2999999523]   \n",
       "19 2024-03-18 12:15:57.227  [6.4000000954, 2.7999999523, 5.5999999046, 2.2...   \n",
       "20 2024-03-18 12:15:57.227  [4.6999998093, 3.2000000477, 1.6000000238, 0.2...   \n",
       "21 2024-03-18 12:15:57.227    [6.0999999046, 3.0, 4.9000000954, 1.7999999523]   \n",
       "22 2024-03-18 12:15:57.227     [5.0, 3.4000000954, 1.6000000238, 0.400000006]   \n",
       "23 2024-03-18 12:15:57.227  [6.4000000954, 2.7999999523, 5.5999999046, 2.0...   \n",
       "24 2024-03-18 12:15:57.227    [7.9000000954, 3.7999999523, 6.4000000954, 2.0]   \n",
       "25 2024-03-18 12:15:57.227    [6.6999998093, 3.0, 5.1999998093, 2.2999999523]   \n",
       "26 2024-03-18 12:15:57.227    [6.6999998093, 2.5, 5.8000001907, 1.7999999523]   \n",
       "27 2024-03-18 12:15:57.227  [6.8000001907, 3.2000000477, 5.9000000954, 2.2...   \n",
       "28 2024-03-18 12:15:57.227    [4.8000001907, 3.0, 1.3999999762, 0.3000000119]   \n",
       "29 2024-03-18 12:15:57.227  [4.8000001907, 3.0999999046, 1.6000000238, 0.2...   \n",
       "\n",
       "    out.predictions  anomaly.count  \n",
       "0               1.0              0  \n",
       "1               0.0              0  \n",
       "2               2.0              0  \n",
       "3               1.0              0  \n",
       "4               1.0              0  \n",
       "5               0.0              0  \n",
       "6               1.0              0  \n",
       "7               2.0              0  \n",
       "8               1.0              0  \n",
       "9               1.0              0  \n",
       "10              2.0              0  \n",
       "11              0.0              0  \n",
       "12              0.0              0  \n",
       "13              0.0              0  \n",
       "14              0.0              0  \n",
       "15              1.0              0  \n",
       "16              2.0              0  \n",
       "17              1.0              0  \n",
       "18              1.0              0  \n",
       "19              2.0              0  \n",
       "20              0.0              0  \n",
       "21              2.0              0  \n",
       "22              0.0              0  \n",
       "23              2.0              0  \n",
       "24              2.0              0  \n",
       "25              2.0              0  \n",
       "26              2.0              0  \n",
       "27              2.0              0  \n",
       "28              0.0              0  \n",
       "29              0.0              0  "
      ]
     },
     "execution_count": 11,
     "metadata": {},
     "output_type": "execute_result"
    }
   ],
   "source": [
    "%%time\n",
    "pipeline.infer(dataframe)"
   ]
  },
  {
   "cell_type": "markdown",
   "id": "cb70d5da-3f48-4700-8c7a-5507bbff91f4",
   "metadata": {},
   "source": [
    "Comparing them to the original model:"
   ]
  },
  {
   "cell_type": "code",
   "execution_count": 14,
   "id": "b3bfbfe6-e884-418e-83c2-bc443780595b",
   "metadata": {},
   "outputs": [
    {
     "data": {
      "text/plain": [
       "array([1., 0., 2., 1., 1., 0., 1., 2., 1., 1., 2., 0., 0., 0., 0., 1., 2.,\n",
       "       1., 1., 2., 0., 2., 0., 2., 2., 2., 2., 2., 0., 0.], dtype=float32)"
      ]
     },
     "execution_count": 14,
     "metadata": {},
     "output_type": "execute_result"
    }
   ],
   "source": [
    "raw_model.predict(dtest)[:100]"
   ]
  },
  {
   "cell_type": "markdown",
   "id": "28c42355-6fad-42d1-ab39-8354b31b06aa",
   "metadata": {},
   "source": [
    "## Undeploy Pipelines"
   ]
  },
  {
   "cell_type": "code",
   "execution_count": 15,
   "id": "694064c0-fc44-4e56-96cc-4990b7c084bd",
   "metadata": {
    "tags": []
   },
   "outputs": [
    {
     "name": "stdout",
     "output_type": "stream",
     "text": [
      "Waiting for undeployment - this will take up to 45s ............................................"
     ]
    },
    {
     "ename": "RuntimeError",
     "evalue": "Undeployment did not finish within 45s.\nStatus: None",
     "output_type": "error",
     "traceback": [
      "\u001b[0;31m---------------------------------------------------------------------------\u001b[0m",
      "\u001b[0;31mWaitForError\u001b[0m                              Traceback (most recent call last)",
      "\u001b[0;32m/opt/conda/lib/python3.9/site-packages/wallaroo/deployment.py\u001b[0m in \u001b[0;36mwait_for_undeployed\u001b[0;34m(self)\u001b[0m\n\u001b[1;32m    479\u001b[0m         \u001b[0;32mtry\u001b[0m\u001b[0;34m:\u001b[0m\u001b[0;34m\u001b[0m\u001b[0;34m\u001b[0m\u001b[0m\n\u001b[0;32m--> 480\u001b[0;31m             \u001b[0;32mreturn\u001b[0m \u001b[0mself\u001b[0m\u001b[0;34m.\u001b[0m\u001b[0m_wait_for\u001b[0m\u001b[0;34m(\u001b[0m\u001b[0mcheck_for_undeployed\u001b[0m\u001b[0;34m,\u001b[0m \u001b[0;34m\"undeployment\"\u001b[0m\u001b[0;34m)\u001b[0m\u001b[0;34m\u001b[0m\u001b[0;34m\u001b[0m\u001b[0m\n\u001b[0m\u001b[1;32m    481\u001b[0m         \u001b[0;32mexcept\u001b[0m \u001b[0mWaitForError\u001b[0m \u001b[0;32mas\u001b[0m \u001b[0mex\u001b[0m\u001b[0;34m:\u001b[0m\u001b[0;34m\u001b[0m\u001b[0;34m\u001b[0m\u001b[0m\n",
      "\u001b[0;32m/opt/conda/lib/python3.9/site-packages/wallaroo/deployment.py\u001b[0m in \u001b[0;36m_wait_for\u001b[0;34m(self, poll_fn, task_name, on_iter, timeout)\u001b[0m\n\u001b[1;32m    377\u001b[0m                 \u001b[0mstatus\u001b[0m \u001b[0;34m=\u001b[0m \u001b[0;32mNone\u001b[0m\u001b[0;34m\u001b[0m\u001b[0;34m\u001b[0m\u001b[0m\n\u001b[0;32m--> 378\u001b[0;31m             \u001b[0;32mraise\u001b[0m \u001b[0mWaitForError\u001b[0m\u001b[0;34m(\u001b[0m\u001b[0mmessage\u001b[0m\u001b[0;34m,\u001b[0m \u001b[0mstatus\u001b[0m\u001b[0;34m)\u001b[0m\u001b[0;34m\u001b[0m\u001b[0;34m\u001b[0m\u001b[0m\n\u001b[0m\u001b[1;32m    379\u001b[0m \u001b[0;34m\u001b[0m\u001b[0m\n",
      "\u001b[0;31mWaitForError\u001b[0m: Undeployment did not finish within 45s.",
      "\nDuring handling of the above exception, another exception occurred:\n",
      "\u001b[0;31mRuntimeError\u001b[0m                              Traceback (most recent call last)",
      "\u001b[0;32m/tmp/ipykernel_378/3887922933.py\u001b[0m in \u001b[0;36m<module>\u001b[0;34m\u001b[0m\n\u001b[0;32m----> 1\u001b[0;31m \u001b[0mpipeline\u001b[0m\u001b[0;34m.\u001b[0m\u001b[0mundeploy\u001b[0m\u001b[0;34m(\u001b[0m\u001b[0;34m)\u001b[0m\u001b[0;34m\u001b[0m\u001b[0;34m\u001b[0m\u001b[0m\n\u001b[0m",
      "\u001b[0;32m/opt/conda/lib/python3.9/site-packages/wallaroo/pipeline.py\u001b[0m in \u001b[0;36mundeploy\u001b[0;34m(self)\u001b[0m\n\u001b[1;32m    665\u001b[0m         \u001b[0mdeployment\u001b[0m \u001b[0;34m=\u001b[0m \u001b[0mself\u001b[0m\u001b[0;34m.\u001b[0m\u001b[0m_deployment_for_pipeline\u001b[0m\u001b[0;34m(\u001b[0m\u001b[0;34m)\u001b[0m\u001b[0;34m\u001b[0m\u001b[0;34m\u001b[0m\u001b[0m\n\u001b[1;32m    666\u001b[0m         \u001b[0;32mif\u001b[0m \u001b[0mdeployment\u001b[0m\u001b[0;34m:\u001b[0m\u001b[0;34m\u001b[0m\u001b[0;34m\u001b[0m\u001b[0m\n\u001b[0;32m--> 667\u001b[0;31m             \u001b[0mdeployment\u001b[0m\u001b[0;34m.\u001b[0m\u001b[0mundeploy\u001b[0m\u001b[0;34m(\u001b[0m\u001b[0;34m)\u001b[0m\u001b[0;34m\u001b[0m\u001b[0;34m\u001b[0m\u001b[0m\n\u001b[0m\u001b[1;32m    668\u001b[0m         \u001b[0;32mreturn\u001b[0m \u001b[0mself\u001b[0m\u001b[0;34m\u001b[0m\u001b[0;34m\u001b[0m\u001b[0m\n\u001b[1;32m    669\u001b[0m \u001b[0;34m\u001b[0m\u001b[0m\n",
      "\u001b[0;32m/opt/conda/lib/python3.9/site-packages/wallaroo/deployment.py\u001b[0m in \u001b[0;36mundeploy\u001b[0;34m(self)\u001b[0m\n\u001b[1;32m    242\u001b[0m \u001b[0;34m\u001b[0m\u001b[0m\n\u001b[1;32m    243\u001b[0m         \u001b[0mself\u001b[0m\u001b[0;34m.\u001b[0m\u001b[0m_rehydrate\u001b[0m\u001b[0;34m(\u001b[0m\u001b[0;34m)\u001b[0m\u001b[0;34m\u001b[0m\u001b[0;34m\u001b[0m\u001b[0m\n\u001b[0;32m--> 244\u001b[0;31m         \u001b[0;32mreturn\u001b[0m \u001b[0mself\u001b[0m\u001b[0;34m.\u001b[0m\u001b[0mwait_for_undeployed\u001b[0m\u001b[0;34m(\u001b[0m\u001b[0;34m)\u001b[0m\u001b[0;34m\u001b[0m\u001b[0;34m\u001b[0m\u001b[0m\n\u001b[0m\u001b[1;32m    245\u001b[0m \u001b[0;34m\u001b[0m\u001b[0m\n\u001b[1;32m    246\u001b[0m     \u001b[0;32mdef\u001b[0m \u001b[0m_get_auth\u001b[0m\u001b[0;34m(\u001b[0m\u001b[0mself\u001b[0m\u001b[0;34m)\u001b[0m\u001b[0;34m:\u001b[0m\u001b[0;34m\u001b[0m\u001b[0;34m\u001b[0m\u001b[0m\n",
      "\u001b[0;32m/opt/conda/lib/python3.9/site-packages/wallaroo/deployment.py\u001b[0m in \u001b[0;36mwait_for_undeployed\u001b[0;34m(self)\u001b[0m\n\u001b[1;32m    481\u001b[0m         \u001b[0;32mexcept\u001b[0m \u001b[0mWaitForError\u001b[0m \u001b[0;32mas\u001b[0m \u001b[0mex\u001b[0m\u001b[0;34m:\u001b[0m\u001b[0;34m\u001b[0m\u001b[0;34m\u001b[0m\u001b[0m\n\u001b[1;32m    482\u001b[0m             \u001b[0mmessage\u001b[0m \u001b[0;34m=\u001b[0m \u001b[0;34mf\"{str(ex)}\\nStatus: {str(ex.status)}\"\u001b[0m\u001b[0;34m\u001b[0m\u001b[0;34m\u001b[0m\u001b[0m\n\u001b[0;32m--> 483\u001b[0;31m             \u001b[0;32mraise\u001b[0m \u001b[0mRuntimeError\u001b[0m\u001b[0;34m(\u001b[0m\u001b[0mmessage\u001b[0m\u001b[0;34m)\u001b[0m\u001b[0;34m\u001b[0m\u001b[0;34m\u001b[0m\u001b[0m\n\u001b[0m\u001b[1;32m    484\u001b[0m \u001b[0;34m\u001b[0m\u001b[0m\n\u001b[1;32m    485\u001b[0m     \u001b[0;34m@\u001b[0m\u001b[0mstaticmethod\u001b[0m\u001b[0;34m\u001b[0m\u001b[0;34m\u001b[0m\u001b[0m\n",
      "\u001b[0;31mRuntimeError\u001b[0m: Undeployment did not finish within 45s.\nStatus: None"
     ]
    }
   ],
   "source": [
    "pipeline.undeploy()"
   ]
  },
  {
   "cell_type": "code",
   "execution_count": null,
   "id": "6683712e-2a79-429f-994f-8d84770f9364",
   "metadata": {},
   "outputs": [],
   "source": []
  }
 ],
 "metadata": {
  "kernelspec": {
   "display_name": "Python 3 (ipykernel)",
   "language": "python",
   "name": "python3"
  },
  "language_info": {
   "codemirror_mode": {
    "name": "ipython",
    "version": 3
   },
   "file_extension": ".py",
   "mimetype": "text/x-python",
   "name": "python",
   "nbconvert_exporter": "python",
   "pygments_lexer": "ipython3",
   "version": "3.9.13"
  }
 },
 "nbformat": 4,
 "nbformat_minor": 5
}
