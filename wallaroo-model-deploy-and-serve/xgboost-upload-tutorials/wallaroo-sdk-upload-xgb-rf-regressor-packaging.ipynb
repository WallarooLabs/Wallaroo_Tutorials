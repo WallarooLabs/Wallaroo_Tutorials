{
 "cells": [
  {
   "cell_type": "markdown",
   "id": "3c813723",
   "metadata": {},
   "source": [
    "This tutorial and the assets can be downloaded as part of the [Wallaroo Tutorials repository](https://github.com/WallarooLabs/Wallaroo_Tutorials/blob/wallaroo2024.1_tutorials/wallaroo-model-deploy-and-serve/xgboost-upload-tutorials).\n",
    "\n",
    "## XGBoost RF Regressor Example\n",
    "\n",
    "The following tutorial demonstrates deploying and serving an XGBoost RF Regressor model to Wallaroo.\n",
    "\n",
    "The following XGBoost model types are supported by Wallaroo.  XGBoost models **not** supported by Wallaroo are supported via the [Arbitrary Python models, also known as Bring Your Own Predict (BYOP)](https://staging.docs.wallaroo.ai/wallaroo-model-operations/wallaroo-model-operations-deploy/wallaroo-model-operations-upload-register/wallaroo-model-operations-upload-register-arbitrary-python/).\n",
    "\n",
    "| XGBoost Model Type | Wallaroo Auto Packaging Supported |\n",
    "|---|---|\n",
    "| XGBClassifier | √ |\n",
    "| XGBRegressor | √ |\n",
    "| Booster Classifier | √ |\n",
    "| Booster Classifier | √ |\n",
    "| Booster Regressor | √ |\n",
    "| Booster Random Forest Regressor | √ |\n",
    "| Booster Random Forest Classifier | √ |\n",
    "| XGBRFClassifier | √ |\n",
    "| XGBRFRegressor | √ |\n",
    "| XGBRanker\\* | X |\n",
    "\n",
    "* XGBRanker XGBoost models are currently supported via converting them to [BYOP](https://staging.docs.wallaroo.ai/wallaroo-model-operations/wallaroo-model-operations-deploy/wallaroo-model-operations-upload-register/wallaroo-model-operations-upload-register-arbitrary-python/) models.\n",
    "\n",
    "## Goal\n",
    "\n",
    "Upload, deploy, and serve a sample XGBoost RF Regressor model.\n",
    "\n",
    "### Resources\n",
    "\n",
    "This tutorial provides the following:\n",
    "\n",
    "* Models:\n",
    "  * `./models/xgb_rf_regressor.pkl`: The sample XGBoost model that receives the `sklearn.datasets.load_diabetes` dataset.\n",
    "\n",
    "### Prerequisites\n",
    "\n",
    "* A deployed Wallaroo instance with [Edge Registry Services](https://docs.wallaroo.ai/wallaroo-operations-guide/wallaroo-configuration/wallaroo-edge-deployment/#enable-wallaroo-edge-deployment-registry) and [Edge Observability enabled](https://docs.wallaroo.ai/wallaroo-operations-guide/wallaroo-configuration/wallaroo-edge-deployment/#set-edge-observability-service).\n",
    "* The following Python libraries installed:\n",
    "  * [`wallaroo`](https://pypi.org/project/wallaroo/): The Wallaroo SDK. Included with the Wallaroo JupyterHub service by default.\n",
    "  * [`pandas`](https://pypi.org/project/pandas/): Pandas, mainly used for Pandas DataFrame\n",
    "* A X64 Docker deployment to deploy the model on an edge location.\n",
    "* The notebook \"Wallaroo Run Anywhere Model Drift Observability with Assays: Preparation\" has been run, and the model edge deployments executed."
   ]
  },
  {
   "cell_type": "markdown",
   "id": "24cd74e9-5af7-4b3d-93b4-f09c9b5561dc",
   "metadata": {},
   "source": [
    "## Steps\n",
    "\n",
    "### Import Libraries\n",
    "\n",
    "The first step is to import the libraries we will need.  See `./requirements.txt` for a list of additional libraries used with this tutorial."
   ]
  },
  {
   "cell_type": "code",
   "execution_count": 1,
   "id": "58a2bdec-1c92-43b8-9c43-fa6bc6010b73",
   "metadata": {
    "tags": []
   },
   "outputs": [],
   "source": [
    "import wallaroo\n",
    "from wallaroo.pipeline import Pipeline\n",
    "from wallaroo.deployment_config import DeploymentConfigBuilder\n",
    "import pyarrow as pa\n",
    "from wallaroo.framework import Framework\n",
    "\n",
    "import pickle\n",
    "from sklearn.datasets import load_diabetes\n",
    "from xgboost import train, DMatrix\n",
    "from sklearn.model_selection import train_test_split"
   ]
  },
  {
   "cell_type": "markdown",
   "id": "8c8017be-c000-4695-b910-875254c2abf2",
   "metadata": {},
   "source": [
    "### Open a Connection to Wallaroo\n",
    "\n",
    "The next step is connect to Wallaroo through the Wallaroo client.  The Python library is included in the Wallaroo install and available through the Jupyter Hub interface provided with your Wallaroo environment.\n",
    "\n",
    "This is accomplished using the `wallaroo.Client()` command, which provides a URL to grant the SDK permission to your specific Wallaroo environment.  When displayed, enter the URL into a browser and confirm permissions.  Store the connection into a variable that can be referenced later.\n",
    "\n",
    "If logging into the Wallaroo instance through the internal JupyterHub service, use `wl = wallaroo.Client()`.  If logging in externally, update the `wallarooPrefix` and `wallarooSuffix` variables with the proper DNS information.  For more information on Wallaroo DNS settings, see the [Wallaroo DNS Integration Guide](https://docs.wallaroo.ai/wallaroo-operations-guide/wallaroo-configuration/wallaroo-dns-guide/)."
   ]
  },
  {
   "cell_type": "code",
   "execution_count": 2,
   "id": "5a973790-2aa3-4e78-ac27-ba13df3c4c90",
   "metadata": {},
   "outputs": [],
   "source": [
    "wl = wallaroo.Client()"
   ]
  },
  {
   "cell_type": "markdown",
   "id": "4efe9902-043d-46e5-82e9-0ecc76dd24f4",
   "metadata": {},
   "source": [
    "### Set Variables and Helper Functions\n",
    "\n",
    "We'll set the name of our workspace, pipeline, models and files.  Workspace names must be unique across the Wallaroo workspace.  For this, we'll add in a randomly generated 4 characters to the workspace name to prevent collisions with other users' workspaces.  If running this tutorial, we recommend hard coding the workspace name so it will function in the same workspace each time it's run.\n",
    "\n",
    "We'll set up some helper functions that will either use existing workspaces and pipelines, or create them if they do not already exist."
   ]
  },
  {
   "cell_type": "code",
   "execution_count": 3,
   "id": "c42d7a74-70ea-46ad-b4be-b0fafe858676",
   "metadata": {},
   "outputs": [],
   "source": [
    "def get_workspace(name, client):\n",
    "    workspace = None\n",
    "    for ws in client.list_workspaces():\n",
    "        if ws.name() == name:\n",
    "            workspace= ws\n",
    "    if(workspace == None):\n",
    "        workspace = client.create_workspace(name)\n",
    "    return workspace\n",
    "\n",
    "workspace_name = f'xgb-rf-regressor-conversion'\n",
    "pipeline_name = f'xgb-rf-regressor-conversion'\n",
    "\n",
    "model_name = 'xgb-rf-regressor-conversion'\n",
    "model_file_name = './models/xgb_rf_regressor.pkl'"
   ]
  },
  {
   "cell_type": "markdown",
   "id": "cfff5bb3-894c-43a4-a0f8-ab3be74539f8",
   "metadata": {},
   "source": [
    "### Create Workspace and Pipeline\n",
    "\n",
    "We will now create the Wallaroo workspace to store our model and set it as the current workspace.  Future commands will default to this workspace for pipeline creation, model uploads, etc.  We'll create our Wallaroo pipeline to deploy our model."
   ]
  },
  {
   "cell_type": "code",
   "execution_count": 4,
   "id": "7362f099-1e43-4dff-9e8c-8c0f044fb33a",
   "metadata": {},
   "outputs": [],
   "source": [
    "workspace = get_workspace(workspace_name, wl)\n",
    "wl.set_current_workspace(workspace)\n",
    "\n",
    "pipeline = wl.build_pipeline(pipeline_name)"
   ]
  },
  {
   "cell_type": "markdown",
   "id": "670a827e-0266-4661-bbf0-87aad1a5a875",
   "metadata": {},
   "source": [
    "### Upload XGBoost Model\n",
    "\n",
    "XGBoost models are uploaded to Wallaroo through the `wallaroo.client.Client.upload_model` method.\n",
    "\n",
    "#### Upload XGBoost Model Parameters\n",
    "\n",
    "The following parameters are required for XGBoost models.  Note that while some fields are considered as **optional** for the `upload_model` method, they are required for proper uploading of a XGBoost model to Wallaroo.\n",
    "\n",
    "| Parameter | Type | Description |\n",
    "|---|---|---|\n",
    "|`name` | `string` (*Required*) | The name of the model.  Model names are unique per workspace.  Models that are uploaded with the same name are assigned as a new **version** of the model. |\n",
    "|`path` | `string` (*Required*) | The path to the model file being uploaded. \n",
    "|`framework` |`string` (*Required*) | Set as the `Framework.XGBOOST`. |\n",
    "|`input_schema` | `pyarrow.lib.Schema` (*Required*) | The input schema in Apache Arrow schema format. |\n",
    "|`output_schema` | `pyarrow.lib.Schema` (*Required*) | The output schema in Apache Arrow schema format. |\n",
    "| `convert_wait` | `bool` (*Optional*) (*Default: True*) | <ul><li>**True**: Waits in the script for the model conversion completion.</li><li>**False**:  Proceeds with the script without waiting for the model conversion process to display complete. |\n",
    "\n",
    "Once the upload process starts, the model is containerized by the Wallaroo instance.  This process may take up to 10 minutes.\n",
    "\n",
    "#### Upload XGBoost Model Return\n",
    "\n",
    "The following is returned with a successful model upload and conversion.\n",
    "\n",
    "| Field | Type | Description |\n",
    "|---|---|---|\n",
    "| `name` | string | The name of the model. |\n",
    "| `version` | string | The model version as a unique UUID. |\n",
    "| `file_name` | string | The file name of the model as stored in Wallaroo. |\n",
    "| `image_path` | string | The image used to deploy the model in the Wallaroo engine. |\n",
    "| `last_update_time` | DateTime | When the model was last updated. |#"
   ]
  },
  {
   "cell_type": "markdown",
   "id": "ad3a257c-f8eb-4062-a025-a05f2eb2a36d",
   "metadata": {},
   "source": [
    "### Configure Input and Output Schemas\n",
    "\n",
    "First we configure the input and output schemas in PyArrow format."
   ]
  },
  {
   "cell_type": "code",
   "execution_count": 5,
   "id": "d2f3c13b-5386-4bb1-87f4-8983a4df5f39",
   "metadata": {},
   "outputs": [],
   "source": [
    "input_schema = pa.schema([\n",
    "    pa.field('inputs', pa.list_(pa.float32(), list_size=10))\n",
    "])\n",
    "\n",
    "output_schema = pa.schema([\n",
    "    pa.field('predictions', pa.float32()),\n",
    "])"
   ]
  },
  {
   "cell_type": "markdown",
   "id": "f12d8885-afa8-4db8-9d36-daba4a5de38b",
   "metadata": {},
   "source": [
    "### Upload Model Example\n",
    "\n",
    "With the input and output schemas defined, we now upload the XGBoost model."
   ]
  },
  {
   "cell_type": "code",
   "execution_count": 6,
   "id": "0e16d95a-88b3-4bf8-bdfe-c62f5b464d7a",
   "metadata": {},
   "outputs": [
    {
     "name": "stdout",
     "output_type": "stream",
     "text": [
      "Waiting for model loading - this will take up to 10.0min.\n",
      "Model is pending loading to a native runtime.\n",
      "Model is attempting loading to a native runtime............incompatible\n",
      "\n",
      "Model is pending loading to a container runtime..\n",
      "Model is attempting loading to a container runtime..........successful\n",
      "\n",
      "Ready\n"
     ]
    },
    {
     "data": {
      "text/html": [
       "<table>\n",
       "        <tr>\n",
       "          <td>Name</td>\n",
       "          <td>xgb-rf-regressor-conversion</td>\n",
       "        </tr>\n",
       "        <tr>\n",
       "          <td>Version</td>\n",
       "          <td>391ec81f-2210-464a-b0b1-89c731fa0683</td>\n",
       "        </tr>\n",
       "        <tr>\n",
       "          <td>File Name</td>\n",
       "          <td>xgb_rf_regressor.pkl</td>\n",
       "        </tr>\n",
       "        <tr>\n",
       "          <td>SHA</td>\n",
       "          <td>ead81583402e6b17f14402b848c6ae6eb7854578f607ea9baf63379a6f60539c</td>\n",
       "        </tr>\n",
       "        <tr>\n",
       "          <td>Status</td>\n",
       "          <td>ready</td>\n",
       "        </tr>\n",
       "        <tr>\n",
       "          <td>Image Path</td>\n",
       "          <td>proxy.replicated.com/proxy/wallaroo/ghcr.io/wallaroolabs/mac-deploy:v2024.1.0-main-4806</td>\n",
       "        </tr>\n",
       "        <tr>\n",
       "          <td>Architecture</td>\n",
       "          <td>None</td>\n",
       "        </tr>\n",
       "        <tr>\n",
       "          <td>Acceleration</td>\n",
       "          <td>None</td>\n",
       "        </tr>\n",
       "        <tr>\n",
       "          <td>Updated At</td>\n",
       "          <td>2024-28-Mar 15:01:19</td>\n",
       "        </tr>\n",
       "      </table>"
      ],
      "text/plain": [
       "{'name': 'xgb-rf-regressor-conversion', 'version': '391ec81f-2210-464a-b0b1-89c731fa0683', 'file_name': 'xgb_rf_regressor.pkl', 'image_path': 'proxy.replicated.com/proxy/wallaroo/ghcr.io/wallaroolabs/mac-deploy:v2024.1.0-main-4806', 'arch': None, 'accel': None, 'last_update_time': datetime.datetime(2024, 3, 28, 15, 1, 19, 42267, tzinfo=tzutc())}"
      ]
     },
     "execution_count": 6,
     "metadata": {},
     "output_type": "execute_result"
    }
   ],
   "source": [
    "model = wl.upload_model(model_name, \n",
    "                        model_file_name, \n",
    "                        framework=Framework.XGBOOST, \n",
    "                        input_schema=input_schema, \n",
    "                        output_schema=output_schema)\n",
    "model"
   ]
  },
  {
   "cell_type": "markdown",
   "id": "3dbcca65-4102-41c5-8d8a-a6434ade69a6",
   "metadata": {},
   "source": [
    "### Deploy Pipeline\n",
    "\n",
    "With the model uploaded and packaged, we add the model as a pipeline model step.  For our deployment, we will set a minimum deployment configuration - this is the amount of resources the deployed pipeline uses from the cluster.\n",
    "\n",
    "Once set, we deploy the pipeline, which allocates the assigned resources for the cluster and makes it available for inference requests."
   ]
  },
  {
   "cell_type": "code",
   "execution_count": 7,
   "id": "afaa4557-f380-4259-8717-b3848005fd7d",
   "metadata": {},
   "outputs": [],
   "source": [
    "pipeline.add_model_step(model)\n",
    "\n",
    "deployment_config = DeploymentConfigBuilder() \\\n",
    "    .cpus(0.25).memory('1Gi') \\\n",
    "    .build()"
   ]
  },
  {
   "cell_type": "code",
   "execution_count": 8,
   "id": "297d5650-d720-4e59-9d2f-b5dad8b7e6ce",
   "metadata": {},
   "outputs": [
    {
     "data": {
      "text/plain": [
       "{'status': 'Running',\n",
       " 'details': [],\n",
       " 'engines': [{'ip': '10.28.0.185',\n",
       "   'name': 'engine-85cfd5c66b-mcpzs',\n",
       "   'status': 'Running',\n",
       "   'reason': None,\n",
       "   'details': [],\n",
       "   'pipeline_statuses': {'pipelines': [{'id': 'xgb-rf-regressor-conversion',\n",
       "      'status': 'Running'}]},\n",
       "   'model_statuses': {'models': [{'config': {'batch_config': None,\n",
       "       'filter_threshold': None,\n",
       "       'id': 68,\n",
       "       'input_schema': '/////7AAAAAQAAAAAAAKAAwABgAFAAgACgAAAAABBAAMAAAACAAIAAAABAAIAAAABAAAAAEAAAAEAAAAyP///wAAARAUAAAAJAAAAAQAAAABAAAAMAAAAAYAAABpbnB1dHMAAAAABgAIAAQABgAAAAoAAAAQABQACAAGAAcADAAAABAAEAAAAAAAAQMQAAAAHAAAAAQAAAAAAAAABAAAAGl0ZW0AAAYACAAGAAYAAAAAAAEAAAAAAA==',\n",
       "       'model_version_id': 37,\n",
       "       'output_schema': '/////4AAAAAQAAAAAAAKAAwABgAFAAgACgAAAAABBAAMAAAACAAIAAAABAAIAAAABAAAAAEAAAAUAAAAEAAUAAgABgAHAAwAAAAQABAAAAAAAAEDEAAAACQAAAAEAAAAAAAAAAsAAABwcmVkaWN0aW9ucwAAAAYACAAGAAYAAAAAAAEAAAAAAA==',\n",
       "       'runtime': 'flight',\n",
       "       'sidekick_uri': None,\n",
       "       'tensor_fields': None},\n",
       "      'model_version': {'conversion': {'framework': 'xgboost',\n",
       "        'python_version': '3.8',\n",
       "        'requirements': []},\n",
       "       'created_on_version': '2024.1.0',\n",
       "       'file_info': {'file_name': 'xgb_rf_regressor.pkl',\n",
       "        'sha': 'ead81583402e6b17f14402b848c6ae6eb7854578f607ea9baf63379a6f60539c',\n",
       "        'version': '391ec81f-2210-464a-b0b1-89c731fa0683'},\n",
       "       'id': 37,\n",
       "       'image_path': 'proxy.replicated.com/proxy/wallaroo/ghcr.io/wallaroolabs/mac-deploy:v2024.1.0-main-4806',\n",
       "       'name': 'xgb-rf-regressor-conversion',\n",
       "       'status': 'ready',\n",
       "       'task_id': '6e4f8f1e-7ce3-4a70-a198-965a3d63d068',\n",
       "       'visibility': 'private',\n",
       "       'workspace_id': 21},\n",
       "      'status': 'Running'}]}}],\n",
       " 'engine_lbs': [{'ip': '10.28.0.187',\n",
       "   'name': 'engine-lb-d7cc8fc9c-872qv',\n",
       "   'status': 'Running',\n",
       "   'reason': None,\n",
       "   'details': []}],\n",
       " 'sidekicks': [{'ip': '10.28.0.186',\n",
       "   'name': 'engine-sidekick-xgb-rf-regressor-conversion-37-6fcd654484-bck5t',\n",
       "   'status': 'Running',\n",
       "   'reason': None,\n",
       "   'details': [],\n",
       "   'statuses': '\\n'}]}"
      ]
     },
     "execution_count": 8,
     "metadata": {},
     "output_type": "execute_result"
    }
   ],
   "source": [
    "pipeline.deploy(deployment_config=deployment_config)\n",
    "pipeline.status()"
   ]
  },
  {
   "cell_type": "markdown",
   "id": "33590194-abfd-4c48-9e83-888c1f61b724",
   "metadata": {},
   "source": [
    "### Run Sample Inference\n",
    "\n",
    "The dataset is from the `sklearn.datasets.load_breast_cancer` examples.  These are converted to a pandas DataFrame, that is submitted to the deployed model in Wallaroo for an inference request."
   ]
  },
  {
   "cell_type": "code",
   "execution_count": 13,
   "id": "b8e30dbb-22ea-48a5-915a-67ee811778fa",
   "metadata": {},
   "outputs": [],
   "source": [
    "data = load_diabetes(as_frame=True)\n",
    "\n",
    "X = data['data'].values[:100]\n",
    "y = data['target'][:100]"
   ]
  },
  {
   "cell_type": "code",
   "execution_count": 14,
   "id": "622b7558-bfb4-4fb2-889d-b1c8c6e2734e",
   "metadata": {},
   "outputs": [],
   "source": [
    "import pandas as pd\n",
    "\n",
    "dataframe = pd.DataFrame({\"inputs\": X[:100].tolist()})"
   ]
  },
  {
   "cell_type": "code",
   "execution_count": 15,
   "id": "5205dee5-a6fc-469d-8c06-b54a77cc7c66",
   "metadata": {},
   "outputs": [
    {
     "data": {
      "text/html": [
       "<div>\n",
       "<style scoped>\n",
       "    .dataframe tbody tr th:only-of-type {\n",
       "        vertical-align: middle;\n",
       "    }\n",
       "\n",
       "    .dataframe tbody tr th {\n",
       "        vertical-align: top;\n",
       "    }\n",
       "\n",
       "    .dataframe thead th {\n",
       "        text-align: right;\n",
       "    }\n",
       "</style>\n",
       "<table border=\"1\" class=\"dataframe\">\n",
       "  <thead>\n",
       "    <tr style=\"text-align: right;\">\n",
       "      <th></th>\n",
       "      <th>time</th>\n",
       "      <th>in.inputs</th>\n",
       "      <th>out.predictions</th>\n",
       "      <th>anomaly.count</th>\n",
       "    </tr>\n",
       "  </thead>\n",
       "  <tbody>\n",
       "    <tr>\n",
       "      <th>0</th>\n",
       "      <td>2024-03-28 15:03:13.736</td>\n",
       "      <td>[0.0380759064, 0.0506801187, 0.0616962065, 0.0...</td>\n",
       "      <td>222.492130</td>\n",
       "      <td>0</td>\n",
       "    </tr>\n",
       "    <tr>\n",
       "      <th>1</th>\n",
       "      <td>2024-03-28 15:03:13.736</td>\n",
       "      <td>[-0.0018820165, -0.0446416365, -0.0514740612, ...</td>\n",
       "      <td>85.170210</td>\n",
       "      <td>0</td>\n",
       "    </tr>\n",
       "    <tr>\n",
       "      <th>2</th>\n",
       "      <td>2024-03-28 15:03:13.736</td>\n",
       "      <td>[0.0852989063, 0.0506801187, 0.0444512133, -0....</td>\n",
       "      <td>156.588300</td>\n",
       "      <td>0</td>\n",
       "    </tr>\n",
       "    <tr>\n",
       "      <th>3</th>\n",
       "      <td>2024-03-28 15:03:13.736</td>\n",
       "      <td>[-0.0890629394, -0.0446416365, -0.0115950145, ...</td>\n",
       "      <td>180.512100</td>\n",
       "      <td>0</td>\n",
       "    </tr>\n",
       "    <tr>\n",
       "      <th>4</th>\n",
       "      <td>2024-03-28 15:03:13.736</td>\n",
       "      <td>[0.0053830604, -0.0446416365, -0.0363846922, 0...</td>\n",
       "      <td>105.263480</td>\n",
       "      <td>0</td>\n",
       "    </tr>\n",
       "    <tr>\n",
       "      <th>...</th>\n",
       "      <td>...</td>\n",
       "      <td>...</td>\n",
       "      <td>...</td>\n",
       "      <td>...</td>\n",
       "    </tr>\n",
       "    <tr>\n",
       "      <th>95</th>\n",
       "      <td>2024-03-28 15:03:13.736</td>\n",
       "      <td>[-0.0709002471, -0.0446416365, -0.0579409337, ...</td>\n",
       "      <td>139.580600</td>\n",
       "      <td>0</td>\n",
       "    </tr>\n",
       "    <tr>\n",
       "      <th>96</th>\n",
       "      <td>2024-03-28 15:03:13.736</td>\n",
       "      <td>[0.0562385987, 0.0506801187, 0.009961227, 0.04...</td>\n",
       "      <td>207.162200</td>\n",
       "      <td>0</td>\n",
       "    </tr>\n",
       "    <tr>\n",
       "      <th>97</th>\n",
       "      <td>2024-03-28 15:03:13.736</td>\n",
       "      <td>[-0.0273097857, -0.0446416365, 0.0886415084, -...</td>\n",
       "      <td>166.432820</td>\n",
       "      <td>0</td>\n",
       "    </tr>\n",
       "    <tr>\n",
       "      <th>98</th>\n",
       "      <td>2024-03-28 15:03:13.736</td>\n",
       "      <td>[0.0017505219, 0.0506801187, -0.0051281421, -0...</td>\n",
       "      <td>124.094310</td>\n",
       "      <td>0</td>\n",
       "    </tr>\n",
       "    <tr>\n",
       "      <th>99</th>\n",
       "      <td>2024-03-28 15:03:13.736</td>\n",
       "      <td>[-0.0018820165, -0.0446416365, -0.0644078061, ...</td>\n",
       "      <td>120.641075</td>\n",
       "      <td>0</td>\n",
       "    </tr>\n",
       "  </tbody>\n",
       "</table>\n",
       "<p>100 rows × 4 columns</p>\n",
       "</div>"
      ],
      "text/plain": [
       "                      time                                          in.inputs  \\\n",
       "0  2024-03-28 15:03:13.736  [0.0380759064, 0.0506801187, 0.0616962065, 0.0...   \n",
       "1  2024-03-28 15:03:13.736  [-0.0018820165, -0.0446416365, -0.0514740612, ...   \n",
       "2  2024-03-28 15:03:13.736  [0.0852989063, 0.0506801187, 0.0444512133, -0....   \n",
       "3  2024-03-28 15:03:13.736  [-0.0890629394, -0.0446416365, -0.0115950145, ...   \n",
       "4  2024-03-28 15:03:13.736  [0.0053830604, -0.0446416365, -0.0363846922, 0...   \n",
       "..                     ...                                                ...   \n",
       "95 2024-03-28 15:03:13.736  [-0.0709002471, -0.0446416365, -0.0579409337, ...   \n",
       "96 2024-03-28 15:03:13.736  [0.0562385987, 0.0506801187, 0.009961227, 0.04...   \n",
       "97 2024-03-28 15:03:13.736  [-0.0273097857, -0.0446416365, 0.0886415084, -...   \n",
       "98 2024-03-28 15:03:13.736  [0.0017505219, 0.0506801187, -0.0051281421, -0...   \n",
       "99 2024-03-28 15:03:13.736  [-0.0018820165, -0.0446416365, -0.0644078061, ...   \n",
       "\n",
       "    out.predictions  anomaly.count  \n",
       "0        222.492130              0  \n",
       "1         85.170210              0  \n",
       "2        156.588300              0  \n",
       "3        180.512100              0  \n",
       "4        105.263480              0  \n",
       "..              ...            ...  \n",
       "95       139.580600              0  \n",
       "96       207.162200              0  \n",
       "97       166.432820              0  \n",
       "98       124.094310              0  \n",
       "99       120.641075              0  \n",
       "\n",
       "[100 rows x 4 columns]"
      ]
     },
     "execution_count": 15,
     "metadata": {},
     "output_type": "execute_result"
    }
   ],
   "source": [
    "results = pipeline.infer(dataframe)\n",
    "results"
   ]
  },
  {
   "cell_type": "markdown",
   "id": "28c42355-6fad-42d1-ab39-8354b31b06aa",
   "metadata": {},
   "source": [
    "### Undeploy the Pipeline\n",
    "\n",
    "With the tutorial complete, we undeploy the pipeline and return the resources back to the cluster."
   ]
  },
  {
   "cell_type": "code",
   "execution_count": 16,
   "id": "694064c0-fc44-4e56-96cc-4990b7c084bd",
   "metadata": {
    "tags": []
   },
   "outputs": [
    {
     "data": {
      "text/html": [
       "<table><tr><th>name</th> <td>xgb-rf-regressor-conversion</td></tr><tr><th>created</th> <td>2024-03-28 14:59:03.946327+00:00</td></tr><tr><th>last_updated</th> <td>2024-03-28 15:01:20.866942+00:00</td></tr><tr><th>deployed</th> <td>False</td></tr><tr><th>arch</th> <td>None</td></tr><tr><th>accel</th> <td>None</td></tr><tr><th>tags</th> <td></td></tr><tr><th>versions</th> <td>a0addd85-4715-47c8-bf34-a48af375ca2c, a7a0132b-b13e-4fd6-87af-5eac29b3ceac</td></tr><tr><th>steps</th> <td>xgb-rf-regressor-conversion</td></tr><tr><th>published</th> <td>False</td></tr></table>"
      ],
      "text/plain": [
       "{'name': 'xgb-rf-regressor-conversion', 'create_time': datetime.datetime(2024, 3, 28, 14, 59, 3, 946327, tzinfo=tzutc()), 'definition': \"[{'ModelInference': {'models': [{'name': 'xgb-rf-regressor-conversion', 'version': '391ec81f-2210-464a-b0b1-89c731fa0683', 'sha': 'ead81583402e6b17f14402b848c6ae6eb7854578f607ea9baf63379a6f60539c'}]}}]\"}"
      ]
     },
     "execution_count": 16,
     "metadata": {},
     "output_type": "execute_result"
    }
   ],
   "source": [
    "pipeline.undeploy()"
   ]
  }
 ],
 "metadata": {
  "kernelspec": {
   "display_name": "Python 3 (ipykernel)",
   "language": "python",
   "name": "python3"
  },
  "language_info": {
   "codemirror_mode": {
    "name": "ipython",
    "version": 3
   },
   "file_extension": ".py",
   "mimetype": "text/x-python",
   "name": "python",
   "nbconvert_exporter": "python",
   "pygments_lexer": "ipython3",
   "version": "3.9.18"
  }
 },
 "nbformat": 4,
 "nbformat_minor": 5
}
