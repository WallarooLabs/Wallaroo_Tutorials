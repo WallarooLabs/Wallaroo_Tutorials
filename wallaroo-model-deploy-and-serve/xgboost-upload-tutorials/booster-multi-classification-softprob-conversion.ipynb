{
 "cells": [
  {
   "cell_type": "markdown",
   "id": "3c813723",
   "metadata": {},
   "source": [
    "# Booster Multiclass Classification Softprob Example"
   ]
  },
  {
   "cell_type": "markdown",
   "id": "24cd74e9-5af7-4b3d-93b4-f09c9b5561dc",
   "metadata": {},
   "source": [
    "## Imports"
   ]
  },
  {
   "cell_type": "code",
   "execution_count": 1,
   "id": "58a2bdec-1c92-43b8-9c43-fa6bc6010b73",
   "metadata": {
    "tags": []
   },
   "outputs": [],
   "source": [
    "import wallaroo\n",
    "from wallaroo.pipeline import Pipeline\n",
    "from wallaroo.deployment_config import DeploymentConfigBuilder\n",
    "import pyarrow as pa\n",
    "from wallaroo.framework import Framework\n",
    "\n",
    "import pickle\n",
    "from sklearn.datasets import load_iris\n",
    "from sklearn.model_selection import train_test_split\n",
    "from xgboost import train, DMatrix\n",
    "\n",
    "wl = wallaroo.Client(auth_type=\"sso\", interactive=True)"
   ]
  },
  {
   "cell_type": "markdown",
   "id": "f0f8d805-a42d-48d1-8af6-c1b88932f764",
   "metadata": {},
   "source": [
    "## Data"
   ]
  },
  {
   "cell_type": "markdown",
   "id": "d92ad2e1-e51b-45b7-ad74-1ef11c765671",
   "metadata": {},
   "source": [
    "Load data:"
   ]
  },
  {
   "cell_type": "code",
   "execution_count": 2,
   "id": "b8e30dbb-22ea-48a5-915a-67ee811778fa",
   "metadata": {},
   "outputs": [],
   "source": [
    "dataset = load_iris()\n",
    "X, y = dataset.data, dataset.target\n",
    "X_train, X_test, y_train, y_test = train_test_split(\n",
    "    X, y, test_size=0.2, random_state=42\n",
    ")\n",
    "dtrain = DMatrix(X_train, label=y_train)\n",
    "dtest = DMatrix(X_test, label=y_test)"
   ]
  },
  {
   "cell_type": "markdown",
   "id": "8c30ce5e-a197-4126-b446-5109c1fe08c4",
   "metadata": {},
   "source": [
    "Load raw model:"
   ]
  },
  {
   "cell_type": "code",
   "execution_count": 13,
   "id": "38a6a637-98fd-4f26-8be0-c38ae46c75c3",
   "metadata": {},
   "outputs": [],
   "source": [
    "with open(\"booster_multi_classification_softprob.pkl\", \"rb\") as fp:\n",
    "    raw_model = pickle.load(fp)"
   ]
  },
  {
   "cell_type": "markdown",
   "id": "670a827e-0266-4661-bbf0-87aad1a5a875",
   "metadata": {},
   "source": [
    "## Configure & Upload Model"
   ]
  },
  {
   "cell_type": "markdown",
   "id": "ad3a257c-f8eb-4062-a025-a05f2eb2a36d",
   "metadata": {},
   "source": [
    "### Configure PyArrow Schema"
   ]
  },
  {
   "cell_type": "code",
   "execution_count": 4,
   "id": "d2f3c13b-5386-4bb1-87f4-8983a4df5f39",
   "metadata": {},
   "outputs": [],
   "source": [
    "input_schema = pa.schema([\n",
    "    pa.field('inputs', pa.list_(pa.float32(), list_size=4))\n",
    "])\n",
    "\n",
    "output_schema = pa.schema([\n",
    "    pa.field('probabilities', pa.list_(pa.float32(), list_size=3)),\n",
    "])"
   ]
  },
  {
   "cell_type": "markdown",
   "id": "f12d8885-afa8-4db8-9d36-daba4a5de38b",
   "metadata": {},
   "source": [
    "### Upload model"
   ]
  },
  {
   "cell_type": "markdown",
   "id": "ab02c303-5caa-459c-b7fc-f1dff889b349",
   "metadata": {},
   "source": [
    "You can find the model uploaded in [model zoo](https://storage.cloud.google.com/wallaroo-model-zoo/model-auto-conversion/convert-non-native-frameworks/xgboost/xgb_booster_multi_classification_softprob.pkl?authuser=0)."
   ]
  },
  {
   "cell_type": "code",
   "execution_count": 5,
   "id": "0e16d95a-88b3-4bf8-bdfe-c62f5b464d7a",
   "metadata": {},
   "outputs": [
    {
     "name": "stdout",
     "output_type": "stream",
     "text": [
      "Waiting for model loading - this will take up to 10.0min.\n",
      "Model is pending loading to a native runtime..\n",
      "Ready\n"
     ]
    },
    {
     "data": {
      "text/html": [
       "<table>\n",
       "        <tr>\n",
       "          <td>Name</td>\n",
       "          <td>booster-multi-classification-softprob</td>\n",
       "        </tr>\n",
       "        <tr>\n",
       "          <td>Version</td>\n",
       "          <td>746c5fe1-a92c-4fbf-b929-e2af35f40da6</td>\n",
       "        </tr>\n",
       "        <tr>\n",
       "          <td>File Name</td>\n",
       "          <td>booster_multi_classification_softprob.pkl</td>\n",
       "        </tr>\n",
       "        <tr>\n",
       "          <td>SHA</td>\n",
       "          <td>eefed02b648166eda12c0d617c160d9aa8c560fdf54a5c42fe9934d473151034</td>\n",
       "        </tr>\n",
       "        <tr>\n",
       "          <td>Status</td>\n",
       "          <td>ready</td>\n",
       "        </tr>\n",
       "        <tr>\n",
       "          <td>Image Path</td>\n",
       "          <td>None</td>\n",
       "        </tr>\n",
       "        <tr>\n",
       "          <td>Architecture</td>\n",
       "          <td>None</td>\n",
       "        </tr>\n",
       "        <tr>\n",
       "          <td>Acceleration</td>\n",
       "          <td>None</td>\n",
       "        </tr>\n",
       "        <tr>\n",
       "          <td>Updated At</td>\n",
       "          <td>2024-18-Mar 12:20:10</td>\n",
       "        </tr>\n",
       "      </table>"
      ],
      "text/plain": [
       "{'name': 'booster-multi-classification-softprob', 'version': '746c5fe1-a92c-4fbf-b929-e2af35f40da6', 'file_name': 'booster_multi_classification_softprob.pkl', 'image_path': None, 'arch': None, 'accel': None, 'last_update_time': datetime.datetime(2024, 3, 18, 12, 20, 10, 475636, tzinfo=tzutc())}"
      ]
     },
     "execution_count": 5,
     "metadata": {},
     "output_type": "execute_result"
    }
   ],
   "source": [
    "model = wl.upload_model('booster-multi-classification-softprob', 'booster_multi_classification_softprob.pkl', framework=Framework.XGBOOST, input_schema=input_schema, output_schema=output_schema)\n",
    "model"
   ]
  },
  {
   "cell_type": "code",
   "execution_count": 6,
   "id": "a7c4c446-7546-428b-acff-de3e7d5e94ab",
   "metadata": {},
   "outputs": [
    {
     "data": {
      "text/plain": [
       "'onnx'"
      ]
     },
     "execution_count": 6,
     "metadata": {},
     "output_type": "execute_result"
    }
   ],
   "source": [
    "model.config().runtime()"
   ]
  },
  {
   "cell_type": "markdown",
   "id": "3dbcca65-4102-41c5-8d8a-a6434ade69a6",
   "metadata": {},
   "source": [
    "## Deploy Pipeline"
   ]
  },
  {
   "cell_type": "code",
   "execution_count": 7,
   "id": "afaa4557-f380-4259-8717-b3848005fd7d",
   "metadata": {},
   "outputs": [],
   "source": [
    "deployment_config = DeploymentConfigBuilder() \\\n",
    "    .cpus(0.25).memory('1Gi') \\\n",
    "    .build()"
   ]
  },
  {
   "cell_type": "code",
   "execution_count": 8,
   "id": "8324f3ee-f96a-44dc-9a47-d2f13a48bab7",
   "metadata": {},
   "outputs": [
    {
     "name": "stdout",
     "output_type": "stream",
     "text": [
      "Waiting for deployment - this will take up to 45s ............. ok\n"
     ]
    },
    {
     "data": {
      "text/plain": [
       "{'status': 'Running',\n",
       " 'details': [],\n",
       " 'engines': [{'ip': '10.223.128.24',\n",
       "   'name': 'engine-7d755445f9-vkjcm',\n",
       "   'status': 'Running',\n",
       "   'reason': None,\n",
       "   'details': [],\n",
       "   'pipeline_statuses': {'pipelines': [{'id': 'xgb-booster-multi-classification-softprob-pipeline',\n",
       "      'status': 'Running'}]},\n",
       "   'model_statuses': {'models': [{'config': {'batch_config': None,\n",
       "       'filter_threshold': None,\n",
       "       'id': 24,\n",
       "       'input_schema': '/////7AAAAAQAAAAAAAKAAwABgAFAAgACgAAAAABBAAMAAAACAAIAAAABAAIAAAABAAAAAEAAAAEAAAAyP///wAAARAUAAAAJAAAAAQAAAABAAAAMAAAAAYAAABpbnB1dHMAAAAABgAIAAQABgAAAAQAAAAQABQACAAGAAcADAAAABAAEAAAAAAAAQMQAAAAHAAAAAQAAAAAAAAABAAAAGl0ZW0AAAYACAAGAAYAAAAAAAEAAAAAAA==',\n",
       "       'model_version_id': 8,\n",
       "       'output_schema': '/////7AAAAAQAAAAAAAKAAwABgAFAAgACgAAAAABBAAMAAAACAAIAAAABAAIAAAABAAAAAEAAAAEAAAAxP///wAAARAUAAAAKAAAAAQAAAABAAAANAAAAA0AAABwcm9iYWJpbGl0aWVzAAYACAAEAAYAAAADAAAAEAAUAAgABgAHAAwAAAAQABAAAAAAAAEDEAAAABwAAAAEAAAAAAAAAAQAAABpdGVtAAAGAAgABgAGAAAAAAABAA==',\n",
       "       'runtime': 'onnx',\n",
       "       'sidekick_uri': None,\n",
       "       'tensor_fields': None},\n",
       "      'model_version': {'conversion': {'framework': 'xgboost',\n",
       "        'python_version': '3.8',\n",
       "        'requirements': []},\n",
       "       'created_on_version': '2024.1.0',\n",
       "       'file_info': {'file_name': 'booster_multi_classification_softprob.pkl',\n",
       "        'sha': 'eefed02b648166eda12c0d617c160d9aa8c560fdf54a5c42fe9934d473151034',\n",
       "        'version': '746c5fe1-a92c-4fbf-b929-e2af35f40da6'},\n",
       "       'id': 8,\n",
       "       'image_path': None,\n",
       "       'name': 'booster-multi-classification-softprob',\n",
       "       'status': 'ready',\n",
       "       'task_id': 'd883e9da-0fff-4dac-94fa-8ebbd2f8d5ff',\n",
       "       'visibility': 'private',\n",
       "       'workspace_id': 1},\n",
       "      'status': 'Running'}]}}],\n",
       " 'engine_lbs': [{'ip': '10.223.128.23',\n",
       "   'name': 'engine-lb-7bcbb95695-pzh46',\n",
       "   'status': 'Running',\n",
       "   'reason': None,\n",
       "   'details': []}],\n",
       " 'sidekicks': []}"
      ]
     },
     "execution_count": 8,
     "metadata": {},
     "output_type": "execute_result"
    }
   ],
   "source": [
    "pipeline_name = f\"xgb-booster-multi-classification-softprob-pipeline\"\n",
    "pipeline = wl.build_pipeline(pipeline_name)\n",
    "pipeline.add_model_step(model)\n",
    "\n",
    "pipeline.deploy(deployment_config=deployment_config)\n",
    "pipeline.status()"
   ]
  },
  {
   "cell_type": "markdown",
   "id": "33590194-abfd-4c48-9e83-888c1f61b724",
   "metadata": {},
   "source": [
    "## Run Inference"
   ]
  },
  {
   "cell_type": "code",
   "execution_count": 9,
   "id": "024b57df-bbd0-43d7-9319-ffd171453c7d",
   "metadata": {},
   "outputs": [],
   "source": [
    "data = dtest.get_data().todense()[:100]"
   ]
  },
  {
   "cell_type": "code",
   "execution_count": 10,
   "id": "622b7558-bfb4-4fb2-889d-b1c8c6e2734e",
   "metadata": {},
   "outputs": [
    {
     "data": {
      "text/html": [
       "<div>\n",
       "<style scoped>\n",
       "    .dataframe tbody tr th:only-of-type {\n",
       "        vertical-align: middle;\n",
       "    }\n",
       "\n",
       "    .dataframe tbody tr th {\n",
       "        vertical-align: top;\n",
       "    }\n",
       "\n",
       "    .dataframe thead th {\n",
       "        text-align: right;\n",
       "    }\n",
       "</style>\n",
       "<table border=\"1\" class=\"dataframe\">\n",
       "  <thead>\n",
       "    <tr style=\"text-align: right;\">\n",
       "      <th></th>\n",
       "      <th>inputs</th>\n",
       "    </tr>\n",
       "  </thead>\n",
       "  <tbody>\n",
       "    <tr>\n",
       "      <th>0</th>\n",
       "      <td>[6.099999904632568, 2.799999952316284, 4.69999...</td>\n",
       "    </tr>\n",
       "    <tr>\n",
       "      <th>1</th>\n",
       "      <td>[5.699999809265137, 3.799999952316284, 1.70000...</td>\n",
       "    </tr>\n",
       "    <tr>\n",
       "      <th>2</th>\n",
       "      <td>[7.699999809265137, 2.5999999046325684, 6.9000...</td>\n",
       "    </tr>\n",
       "    <tr>\n",
       "      <th>3</th>\n",
       "      <td>[6.0, 2.9000000953674316, 4.5, 1.5]</td>\n",
       "    </tr>\n",
       "    <tr>\n",
       "      <th>4</th>\n",
       "      <td>[6.800000190734863, 2.799999952316284, 4.80000...</td>\n",
       "    </tr>\n",
       "    <tr>\n",
       "      <th>5</th>\n",
       "      <td>[5.400000095367432, 3.4000000953674316, 1.5, 0...</td>\n",
       "    </tr>\n",
       "    <tr>\n",
       "      <th>6</th>\n",
       "      <td>[5.599999904632568, 2.9000000953674316, 3.5999...</td>\n",
       "    </tr>\n",
       "    <tr>\n",
       "      <th>7</th>\n",
       "      <td>[6.900000095367432, 3.0999999046325684, 5.0999...</td>\n",
       "    </tr>\n",
       "    <tr>\n",
       "      <th>8</th>\n",
       "      <td>[6.199999809265137, 2.200000047683716, 4.5, 1.5]</td>\n",
       "    </tr>\n",
       "    <tr>\n",
       "      <th>9</th>\n",
       "      <td>[5.800000190734863, 2.700000047683716, 3.90000...</td>\n",
       "    </tr>\n",
       "    <tr>\n",
       "      <th>10</th>\n",
       "      <td>[6.5, 3.200000047683716, 5.099999904632568, 2.0]</td>\n",
       "    </tr>\n",
       "    <tr>\n",
       "      <th>11</th>\n",
       "      <td>[4.800000190734863, 3.0, 1.399999976158142, 0....</td>\n",
       "    </tr>\n",
       "    <tr>\n",
       "      <th>12</th>\n",
       "      <td>[5.5, 3.5, 1.2999999523162842, 0.2000000029802...</td>\n",
       "    </tr>\n",
       "    <tr>\n",
       "      <th>13</th>\n",
       "      <td>[4.900000095367432, 3.0999999046325684, 1.5, 0...</td>\n",
       "    </tr>\n",
       "    <tr>\n",
       "      <th>14</th>\n",
       "      <td>[5.099999904632568, 3.799999952316284, 1.5, 0....</td>\n",
       "    </tr>\n",
       "    <tr>\n",
       "      <th>15</th>\n",
       "      <td>[6.300000190734863, 3.299999952316284, 4.69999...</td>\n",
       "    </tr>\n",
       "    <tr>\n",
       "      <th>16</th>\n",
       "      <td>[6.5, 3.0, 5.800000190734863, 2.200000047683716]</td>\n",
       "    </tr>\n",
       "    <tr>\n",
       "      <th>17</th>\n",
       "      <td>[5.599999904632568, 2.5, 3.9000000953674316, 1...</td>\n",
       "    </tr>\n",
       "    <tr>\n",
       "      <th>18</th>\n",
       "      <td>[5.699999809265137, 2.799999952316284, 4.5, 1....</td>\n",
       "    </tr>\n",
       "    <tr>\n",
       "      <th>19</th>\n",
       "      <td>[6.400000095367432, 2.799999952316284, 5.59999...</td>\n",
       "    </tr>\n",
       "    <tr>\n",
       "      <th>20</th>\n",
       "      <td>[4.699999809265137, 3.200000047683716, 1.60000...</td>\n",
       "    </tr>\n",
       "    <tr>\n",
       "      <th>21</th>\n",
       "      <td>[6.099999904632568, 3.0, 4.900000095367432, 1....</td>\n",
       "    </tr>\n",
       "    <tr>\n",
       "      <th>22</th>\n",
       "      <td>[5.0, 3.4000000953674316, 1.600000023841858, 0...</td>\n",
       "    </tr>\n",
       "    <tr>\n",
       "      <th>23</th>\n",
       "      <td>[6.400000095367432, 2.799999952316284, 5.59999...</td>\n",
       "    </tr>\n",
       "    <tr>\n",
       "      <th>24</th>\n",
       "      <td>[7.900000095367432, 3.799999952316284, 6.40000...</td>\n",
       "    </tr>\n",
       "    <tr>\n",
       "      <th>25</th>\n",
       "      <td>[6.699999809265137, 3.0, 5.199999809265137, 2....</td>\n",
       "    </tr>\n",
       "    <tr>\n",
       "      <th>26</th>\n",
       "      <td>[6.699999809265137, 2.5, 5.800000190734863, 1....</td>\n",
       "    </tr>\n",
       "    <tr>\n",
       "      <th>27</th>\n",
       "      <td>[6.800000190734863, 3.200000047683716, 5.90000...</td>\n",
       "    </tr>\n",
       "    <tr>\n",
       "      <th>28</th>\n",
       "      <td>[4.800000190734863, 3.0, 1.399999976158142, 0....</td>\n",
       "    </tr>\n",
       "    <tr>\n",
       "      <th>29</th>\n",
       "      <td>[4.800000190734863, 3.0999999046325684, 1.6000...</td>\n",
       "    </tr>\n",
       "  </tbody>\n",
       "</table>\n",
       "</div>"
      ],
      "text/plain": [
       "                                               inputs\n",
       "0   [6.099999904632568, 2.799999952316284, 4.69999...\n",
       "1   [5.699999809265137, 3.799999952316284, 1.70000...\n",
       "2   [7.699999809265137, 2.5999999046325684, 6.9000...\n",
       "3                 [6.0, 2.9000000953674316, 4.5, 1.5]\n",
       "4   [6.800000190734863, 2.799999952316284, 4.80000...\n",
       "5   [5.400000095367432, 3.4000000953674316, 1.5, 0...\n",
       "6   [5.599999904632568, 2.9000000953674316, 3.5999...\n",
       "7   [6.900000095367432, 3.0999999046325684, 5.0999...\n",
       "8    [6.199999809265137, 2.200000047683716, 4.5, 1.5]\n",
       "9   [5.800000190734863, 2.700000047683716, 3.90000...\n",
       "10   [6.5, 3.200000047683716, 5.099999904632568, 2.0]\n",
       "11  [4.800000190734863, 3.0, 1.399999976158142, 0....\n",
       "12  [5.5, 3.5, 1.2999999523162842, 0.2000000029802...\n",
       "13  [4.900000095367432, 3.0999999046325684, 1.5, 0...\n",
       "14  [5.099999904632568, 3.799999952316284, 1.5, 0....\n",
       "15  [6.300000190734863, 3.299999952316284, 4.69999...\n",
       "16   [6.5, 3.0, 5.800000190734863, 2.200000047683716]\n",
       "17  [5.599999904632568, 2.5, 3.9000000953674316, 1...\n",
       "18  [5.699999809265137, 2.799999952316284, 4.5, 1....\n",
       "19  [6.400000095367432, 2.799999952316284, 5.59999...\n",
       "20  [4.699999809265137, 3.200000047683716, 1.60000...\n",
       "21  [6.099999904632568, 3.0, 4.900000095367432, 1....\n",
       "22  [5.0, 3.4000000953674316, 1.600000023841858, 0...\n",
       "23  [6.400000095367432, 2.799999952316284, 5.59999...\n",
       "24  [7.900000095367432, 3.799999952316284, 6.40000...\n",
       "25  [6.699999809265137, 3.0, 5.199999809265137, 2....\n",
       "26  [6.699999809265137, 2.5, 5.800000190734863, 1....\n",
       "27  [6.800000190734863, 3.200000047683716, 5.90000...\n",
       "28  [4.800000190734863, 3.0, 1.399999976158142, 0....\n",
       "29  [4.800000190734863, 3.0999999046325684, 1.6000..."
      ]
     },
     "execution_count": 10,
     "metadata": {},
     "output_type": "execute_result"
    }
   ],
   "source": [
    "import pandas as pd\n",
    "\n",
    "dataframe = pd.DataFrame({\"inputs\": data.tolist()})\n",
    "dataframe"
   ]
  },
  {
   "cell_type": "markdown",
   "id": "a9351765-0238-4fec-adaa-fd822f744b51",
   "metadata": {},
   "source": [
    "Getting results from pipeline:"
   ]
  },
  {
   "cell_type": "code",
   "execution_count": 11,
   "id": "e6261136-76be-43af-89fc-062658f4ece4",
   "metadata": {},
   "outputs": [
    {
     "name": "stdout",
     "output_type": "stream",
     "text": [
      "CPU times: user 14 ms, sys: 2 ms, total: 16 ms\n",
      "Wall time: 25.2 ms\n"
     ]
    },
    {
     "data": {
      "text/html": [
       "<div>\n",
       "<style scoped>\n",
       "    .dataframe tbody tr th:only-of-type {\n",
       "        vertical-align: middle;\n",
       "    }\n",
       "\n",
       "    .dataframe tbody tr th {\n",
       "        vertical-align: top;\n",
       "    }\n",
       "\n",
       "    .dataframe thead th {\n",
       "        text-align: right;\n",
       "    }\n",
       "</style>\n",
       "<table border=\"1\" class=\"dataframe\">\n",
       "  <thead>\n",
       "    <tr style=\"text-align: right;\">\n",
       "      <th></th>\n",
       "      <th>time</th>\n",
       "      <th>in.inputs</th>\n",
       "      <th>out.probabilities</th>\n",
       "      <th>anomaly.count</th>\n",
       "    </tr>\n",
       "  </thead>\n",
       "  <tbody>\n",
       "    <tr>\n",
       "      <th>0</th>\n",
       "      <td>2024-03-18 12:20:39.544</td>\n",
       "      <td>[6.0999999046, 2.7999999523, 4.6999998093, 1.2...</td>\n",
       "      <td>[0.0860216, 0.82712775, 0.08685072]</td>\n",
       "      <td>0</td>\n",
       "    </tr>\n",
       "    <tr>\n",
       "      <th>1</th>\n",
       "      <td>2024-03-18 12:20:39.544</td>\n",
       "      <td>[5.6999998093, 3.7999999523, 1.7000000477, 0.3...</td>\n",
       "      <td>[0.8245585, 0.08896249, 0.08647902]</td>\n",
       "      <td>0</td>\n",
       "    </tr>\n",
       "    <tr>\n",
       "      <th>2</th>\n",
       "      <td>2024-03-18 12:20:39.544</td>\n",
       "      <td>[7.6999998093, 2.5999999046, 6.9000000954, 2.2...</td>\n",
       "      <td>[0.087060094, 0.0922827, 0.82065725]</td>\n",
       "      <td>0</td>\n",
       "    </tr>\n",
       "    <tr>\n",
       "      <th>3</th>\n",
       "      <td>2024-03-18 12:20:39.544</td>\n",
       "      <td>[6.0, 2.9000000954, 4.5, 1.5]</td>\n",
       "      <td>[0.083474845, 0.8026398, 0.11388545]</td>\n",
       "      <td>0</td>\n",
       "    </tr>\n",
       "    <tr>\n",
       "      <th>4</th>\n",
       "      <td>2024-03-18 12:20:39.544</td>\n",
       "      <td>[6.8000001907, 2.7999999523, 4.8000001907, 1.3...</td>\n",
       "      <td>[0.074739285, 0.7186443, 0.20661643]</td>\n",
       "      <td>0</td>\n",
       "    </tr>\n",
       "    <tr>\n",
       "      <th>5</th>\n",
       "      <td>2024-03-18 12:20:39.544</td>\n",
       "      <td>[5.4000000954, 3.4000000954, 1.5, 0.400000006]</td>\n",
       "      <td>[0.8245585, 0.08896249, 0.08647902]</td>\n",
       "      <td>0</td>\n",
       "    </tr>\n",
       "    <tr>\n",
       "      <th>6</th>\n",
       "      <td>2024-03-18 12:20:39.544</td>\n",
       "      <td>[5.5999999046, 2.9000000954, 3.5999999046, 1.2...</td>\n",
       "      <td>[0.0860216, 0.82712775, 0.08685072]</td>\n",
       "      <td>0</td>\n",
       "    </tr>\n",
       "    <tr>\n",
       "      <th>7</th>\n",
       "      <td>2024-03-18 12:20:39.544</td>\n",
       "      <td>[6.9000000954, 3.0999999046, 5.0999999046, 2.2...</td>\n",
       "      <td>[0.087060094, 0.0922827, 0.82065725]</td>\n",
       "      <td>0</td>\n",
       "    </tr>\n",
       "    <tr>\n",
       "      <th>8</th>\n",
       "      <td>2024-03-18 12:20:39.544</td>\n",
       "      <td>[6.1999998093, 2.2000000477, 4.5, 1.5]</td>\n",
       "      <td>[0.083474845, 0.8026398, 0.11388545]</td>\n",
       "      <td>0</td>\n",
       "    </tr>\n",
       "    <tr>\n",
       "      <th>9</th>\n",
       "      <td>2024-03-18 12:20:39.544</td>\n",
       "      <td>[5.8000001907, 2.7000000477, 3.9000000954, 1.2...</td>\n",
       "      <td>[0.0860216, 0.82712775, 0.08685072]</td>\n",
       "      <td>0</td>\n",
       "    </tr>\n",
       "    <tr>\n",
       "      <th>10</th>\n",
       "      <td>2024-03-18 12:20:39.544</td>\n",
       "      <td>[6.5, 3.2000000477, 5.0999999046, 2.0]</td>\n",
       "      <td>[0.087060094, 0.0922827, 0.82065725]</td>\n",
       "      <td>0</td>\n",
       "    </tr>\n",
       "    <tr>\n",
       "      <th>11</th>\n",
       "      <td>2024-03-18 12:20:39.544</td>\n",
       "      <td>[4.8000001907, 3.0, 1.3999999762, 0.1000000015]</td>\n",
       "      <td>[0.8245585, 0.08896249, 0.08647902]</td>\n",
       "      <td>0</td>\n",
       "    </tr>\n",
       "    <tr>\n",
       "      <th>12</th>\n",
       "      <td>2024-03-18 12:20:39.544</td>\n",
       "      <td>[5.5, 3.5, 1.2999999523, 0.200000003]</td>\n",
       "      <td>[0.8245585, 0.08896249, 0.08647902]</td>\n",
       "      <td>0</td>\n",
       "    </tr>\n",
       "    <tr>\n",
       "      <th>13</th>\n",
       "      <td>2024-03-18 12:20:39.544</td>\n",
       "      <td>[4.9000000954, 3.0999999046, 1.5, 0.1000000015]</td>\n",
       "      <td>[0.8245585, 0.08896249, 0.08647902]</td>\n",
       "      <td>0</td>\n",
       "    </tr>\n",
       "    <tr>\n",
       "      <th>14</th>\n",
       "      <td>2024-03-18 12:20:39.544</td>\n",
       "      <td>[5.0999999046, 3.7999999523, 1.5, 0.3000000119]</td>\n",
       "      <td>[0.8245585, 0.08896249, 0.08647902]</td>\n",
       "      <td>0</td>\n",
       "    </tr>\n",
       "    <tr>\n",
       "      <th>15</th>\n",
       "      <td>2024-03-18 12:20:39.544</td>\n",
       "      <td>[6.3000001907, 3.2999999523, 4.6999998093, 1.6...</td>\n",
       "      <td>[0.083474845, 0.8026398, 0.11388545]</td>\n",
       "      <td>0</td>\n",
       "    </tr>\n",
       "    <tr>\n",
       "      <th>16</th>\n",
       "      <td>2024-03-18 12:20:39.544</td>\n",
       "      <td>[6.5, 3.0, 5.8000001907, 2.2000000477]</td>\n",
       "      <td>[0.087060094, 0.0922827, 0.82065725]</td>\n",
       "      <td>0</td>\n",
       "    </tr>\n",
       "    <tr>\n",
       "      <th>17</th>\n",
       "      <td>2024-03-18 12:20:39.544</td>\n",
       "      <td>[5.5999999046, 2.5, 3.9000000954, 1.1000000238]</td>\n",
       "      <td>[0.0860216, 0.82712775, 0.08685072]</td>\n",
       "      <td>0</td>\n",
       "    </tr>\n",
       "    <tr>\n",
       "      <th>18</th>\n",
       "      <td>2024-03-18 12:20:39.544</td>\n",
       "      <td>[5.6999998093, 2.7999999523, 4.5, 1.2999999523]</td>\n",
       "      <td>[0.0860216, 0.82712775, 0.08685072]</td>\n",
       "      <td>0</td>\n",
       "    </tr>\n",
       "    <tr>\n",
       "      <th>19</th>\n",
       "      <td>2024-03-18 12:20:39.544</td>\n",
       "      <td>[6.4000000954, 2.7999999523, 5.5999999046, 2.2...</td>\n",
       "      <td>[0.087060094, 0.0922827, 0.82065725]</td>\n",
       "      <td>0</td>\n",
       "    </tr>\n",
       "    <tr>\n",
       "      <th>20</th>\n",
       "      <td>2024-03-18 12:20:39.544</td>\n",
       "      <td>[4.6999998093, 3.2000000477, 1.6000000238, 0.2...</td>\n",
       "      <td>[0.8245585, 0.08896249, 0.08647902]</td>\n",
       "      <td>0</td>\n",
       "    </tr>\n",
       "    <tr>\n",
       "      <th>21</th>\n",
       "      <td>2024-03-18 12:20:39.544</td>\n",
       "      <td>[6.0999999046, 3.0, 4.9000000954, 1.7999999523]</td>\n",
       "      <td>[0.0784706, 0.1818396, 0.7396898]</td>\n",
       "      <td>0</td>\n",
       "    </tr>\n",
       "    <tr>\n",
       "      <th>22</th>\n",
       "      <td>2024-03-18 12:20:39.544</td>\n",
       "      <td>[5.0, 3.4000000954, 1.6000000238, 0.400000006]</td>\n",
       "      <td>[0.8245585, 0.08896249, 0.08647902]</td>\n",
       "      <td>0</td>\n",
       "    </tr>\n",
       "    <tr>\n",
       "      <th>23</th>\n",
       "      <td>2024-03-18 12:20:39.544</td>\n",
       "      <td>[6.4000000954, 2.7999999523, 5.5999999046, 2.0...</td>\n",
       "      <td>[0.087060094, 0.0922827, 0.82065725]</td>\n",
       "      <td>0</td>\n",
       "    </tr>\n",
       "    <tr>\n",
       "      <th>24</th>\n",
       "      <td>2024-03-18 12:20:39.544</td>\n",
       "      <td>[7.9000000954, 3.7999999523, 6.4000000954, 2.0]</td>\n",
       "      <td>[0.087060094, 0.0922827, 0.82065725]</td>\n",
       "      <td>0</td>\n",
       "    </tr>\n",
       "    <tr>\n",
       "      <th>25</th>\n",
       "      <td>2024-03-18 12:20:39.544</td>\n",
       "      <td>[6.6999998093, 3.0, 5.1999998093, 2.2999999523]</td>\n",
       "      <td>[0.087060094, 0.0922827, 0.82065725]</td>\n",
       "      <td>0</td>\n",
       "    </tr>\n",
       "    <tr>\n",
       "      <th>26</th>\n",
       "      <td>2024-03-18 12:20:39.544</td>\n",
       "      <td>[6.6999998093, 2.5, 5.8000001907, 1.7999999523]</td>\n",
       "      <td>[0.087060094, 0.0922827, 0.82065725]</td>\n",
       "      <td>0</td>\n",
       "    </tr>\n",
       "    <tr>\n",
       "      <th>27</th>\n",
       "      <td>2024-03-18 12:20:39.544</td>\n",
       "      <td>[6.8000001907, 3.2000000477, 5.9000000954, 2.2...</td>\n",
       "      <td>[0.087060094, 0.0922827, 0.82065725]</td>\n",
       "      <td>0</td>\n",
       "    </tr>\n",
       "    <tr>\n",
       "      <th>28</th>\n",
       "      <td>2024-03-18 12:20:39.544</td>\n",
       "      <td>[4.8000001907, 3.0, 1.3999999762, 0.3000000119]</td>\n",
       "      <td>[0.8245585, 0.08896249, 0.08647902]</td>\n",
       "      <td>0</td>\n",
       "    </tr>\n",
       "    <tr>\n",
       "      <th>29</th>\n",
       "      <td>2024-03-18 12:20:39.544</td>\n",
       "      <td>[4.8000001907, 3.0999999046, 1.6000000238, 0.2...</td>\n",
       "      <td>[0.8245585, 0.08896249, 0.08647902]</td>\n",
       "      <td>0</td>\n",
       "    </tr>\n",
       "  </tbody>\n",
       "</table>\n",
       "</div>"
      ],
      "text/plain": [
       "                      time                                          in.inputs  \\\n",
       "0  2024-03-18 12:20:39.544  [6.0999999046, 2.7999999523, 4.6999998093, 1.2...   \n",
       "1  2024-03-18 12:20:39.544  [5.6999998093, 3.7999999523, 1.7000000477, 0.3...   \n",
       "2  2024-03-18 12:20:39.544  [7.6999998093, 2.5999999046, 6.9000000954, 2.2...   \n",
       "3  2024-03-18 12:20:39.544                      [6.0, 2.9000000954, 4.5, 1.5]   \n",
       "4  2024-03-18 12:20:39.544  [6.8000001907, 2.7999999523, 4.8000001907, 1.3...   \n",
       "5  2024-03-18 12:20:39.544     [5.4000000954, 3.4000000954, 1.5, 0.400000006]   \n",
       "6  2024-03-18 12:20:39.544  [5.5999999046, 2.9000000954, 3.5999999046, 1.2...   \n",
       "7  2024-03-18 12:20:39.544  [6.9000000954, 3.0999999046, 5.0999999046, 2.2...   \n",
       "8  2024-03-18 12:20:39.544             [6.1999998093, 2.2000000477, 4.5, 1.5]   \n",
       "9  2024-03-18 12:20:39.544  [5.8000001907, 2.7000000477, 3.9000000954, 1.2...   \n",
       "10 2024-03-18 12:20:39.544             [6.5, 3.2000000477, 5.0999999046, 2.0]   \n",
       "11 2024-03-18 12:20:39.544    [4.8000001907, 3.0, 1.3999999762, 0.1000000015]   \n",
       "12 2024-03-18 12:20:39.544              [5.5, 3.5, 1.2999999523, 0.200000003]   \n",
       "13 2024-03-18 12:20:39.544    [4.9000000954, 3.0999999046, 1.5, 0.1000000015]   \n",
       "14 2024-03-18 12:20:39.544    [5.0999999046, 3.7999999523, 1.5, 0.3000000119]   \n",
       "15 2024-03-18 12:20:39.544  [6.3000001907, 3.2999999523, 4.6999998093, 1.6...   \n",
       "16 2024-03-18 12:20:39.544             [6.5, 3.0, 5.8000001907, 2.2000000477]   \n",
       "17 2024-03-18 12:20:39.544    [5.5999999046, 2.5, 3.9000000954, 1.1000000238]   \n",
       "18 2024-03-18 12:20:39.544    [5.6999998093, 2.7999999523, 4.5, 1.2999999523]   \n",
       "19 2024-03-18 12:20:39.544  [6.4000000954, 2.7999999523, 5.5999999046, 2.2...   \n",
       "20 2024-03-18 12:20:39.544  [4.6999998093, 3.2000000477, 1.6000000238, 0.2...   \n",
       "21 2024-03-18 12:20:39.544    [6.0999999046, 3.0, 4.9000000954, 1.7999999523]   \n",
       "22 2024-03-18 12:20:39.544     [5.0, 3.4000000954, 1.6000000238, 0.400000006]   \n",
       "23 2024-03-18 12:20:39.544  [6.4000000954, 2.7999999523, 5.5999999046, 2.0...   \n",
       "24 2024-03-18 12:20:39.544    [7.9000000954, 3.7999999523, 6.4000000954, 2.0]   \n",
       "25 2024-03-18 12:20:39.544    [6.6999998093, 3.0, 5.1999998093, 2.2999999523]   \n",
       "26 2024-03-18 12:20:39.544    [6.6999998093, 2.5, 5.8000001907, 1.7999999523]   \n",
       "27 2024-03-18 12:20:39.544  [6.8000001907, 3.2000000477, 5.9000000954, 2.2...   \n",
       "28 2024-03-18 12:20:39.544    [4.8000001907, 3.0, 1.3999999762, 0.3000000119]   \n",
       "29 2024-03-18 12:20:39.544  [4.8000001907, 3.0999999046, 1.6000000238, 0.2...   \n",
       "\n",
       "                       out.probabilities  anomaly.count  \n",
       "0    [0.0860216, 0.82712775, 0.08685072]              0  \n",
       "1    [0.8245585, 0.08896249, 0.08647902]              0  \n",
       "2   [0.087060094, 0.0922827, 0.82065725]              0  \n",
       "3   [0.083474845, 0.8026398, 0.11388545]              0  \n",
       "4   [0.074739285, 0.7186443, 0.20661643]              0  \n",
       "5    [0.8245585, 0.08896249, 0.08647902]              0  \n",
       "6    [0.0860216, 0.82712775, 0.08685072]              0  \n",
       "7   [0.087060094, 0.0922827, 0.82065725]              0  \n",
       "8   [0.083474845, 0.8026398, 0.11388545]              0  \n",
       "9    [0.0860216, 0.82712775, 0.08685072]              0  \n",
       "10  [0.087060094, 0.0922827, 0.82065725]              0  \n",
       "11   [0.8245585, 0.08896249, 0.08647902]              0  \n",
       "12   [0.8245585, 0.08896249, 0.08647902]              0  \n",
       "13   [0.8245585, 0.08896249, 0.08647902]              0  \n",
       "14   [0.8245585, 0.08896249, 0.08647902]              0  \n",
       "15  [0.083474845, 0.8026398, 0.11388545]              0  \n",
       "16  [0.087060094, 0.0922827, 0.82065725]              0  \n",
       "17   [0.0860216, 0.82712775, 0.08685072]              0  \n",
       "18   [0.0860216, 0.82712775, 0.08685072]              0  \n",
       "19  [0.087060094, 0.0922827, 0.82065725]              0  \n",
       "20   [0.8245585, 0.08896249, 0.08647902]              0  \n",
       "21     [0.0784706, 0.1818396, 0.7396898]              0  \n",
       "22   [0.8245585, 0.08896249, 0.08647902]              0  \n",
       "23  [0.087060094, 0.0922827, 0.82065725]              0  \n",
       "24  [0.087060094, 0.0922827, 0.82065725]              0  \n",
       "25  [0.087060094, 0.0922827, 0.82065725]              0  \n",
       "26  [0.087060094, 0.0922827, 0.82065725]              0  \n",
       "27  [0.087060094, 0.0922827, 0.82065725]              0  \n",
       "28   [0.8245585, 0.08896249, 0.08647902]              0  \n",
       "29   [0.8245585, 0.08896249, 0.08647902]              0  "
      ]
     },
     "execution_count": 11,
     "metadata": {},
     "output_type": "execute_result"
    }
   ],
   "source": [
    "%%time\n",
    "pipeline.infer(dataframe)"
   ]
  },
  {
   "cell_type": "markdown",
   "id": "8e1dadbf-06b8-45f6-9188-f8f825a36b4a",
   "metadata": {},
   "source": [
    "Comparing them to the original model:"
   ]
  },
  {
   "cell_type": "code",
   "execution_count": 14,
   "id": "b3bfbfe6-e884-418e-83c2-bc443780595b",
   "metadata": {},
   "outputs": [
    {
     "data": {
      "text/plain": [
       "array([[0.08602159, 0.82712764, 0.08685071],\n",
       "       [0.8245585 , 0.08896249, 0.08647902],\n",
       "       [0.08706011, 0.09228271, 0.82065713],\n",
       "       [0.08347484, 0.8026398 , 0.11388545],\n",
       "       [0.07473928, 0.7186443 , 0.20661643],\n",
       "       [0.8245585 , 0.08896249, 0.08647902],\n",
       "       [0.08602159, 0.82712764, 0.08685071],\n",
       "       [0.08706011, 0.09228271, 0.82065713],\n",
       "       [0.08347484, 0.8026398 , 0.11388545],\n",
       "       [0.08602159, 0.82712764, 0.08685071],\n",
       "       [0.08706011, 0.09228271, 0.82065713],\n",
       "       [0.8245585 , 0.08896249, 0.08647902],\n",
       "       [0.8245585 , 0.08896249, 0.08647902],\n",
       "       [0.8245585 , 0.08896249, 0.08647902],\n",
       "       [0.8245585 , 0.08896249, 0.08647902],\n",
       "       [0.08347484, 0.8026398 , 0.11388545],\n",
       "       [0.08706011, 0.09228271, 0.82065713],\n",
       "       [0.08602159, 0.82712764, 0.08685071],\n",
       "       [0.08602159, 0.82712764, 0.08685071],\n",
       "       [0.08706011, 0.09228271, 0.82065713],\n",
       "       [0.8245585 , 0.08896249, 0.08647902],\n",
       "       [0.07847062, 0.18183963, 0.73968977],\n",
       "       [0.8245585 , 0.08896249, 0.08647902],\n",
       "       [0.08706011, 0.09228271, 0.82065713],\n",
       "       [0.08706011, 0.09228271, 0.82065713],\n",
       "       [0.08706011, 0.09228271, 0.82065713],\n",
       "       [0.08706011, 0.09228271, 0.82065713],\n",
       "       [0.08706011, 0.09228271, 0.82065713],\n",
       "       [0.8245585 , 0.08896249, 0.08647902],\n",
       "       [0.8245585 , 0.08896249, 0.08647902]], dtype=float32)"
      ]
     },
     "execution_count": 14,
     "metadata": {},
     "output_type": "execute_result"
    }
   ],
   "source": [
    "raw_model.predict(dtest)[:100]"
   ]
  },
  {
   "cell_type": "markdown",
   "id": "28c42355-6fad-42d1-ab39-8354b31b06aa",
   "metadata": {},
   "source": [
    "## Undeploy Pipelines"
   ]
  },
  {
   "cell_type": "code",
   "execution_count": 35,
   "id": "694064c0-fc44-4e56-96cc-4990b7c084bd",
   "metadata": {
    "tags": []
   },
   "outputs": [
    {
     "name": "stdout",
     "output_type": "stream",
     "text": [
      "Waiting for undeployment - this will take up to 45s ..................................... ok\n"
     ]
    },
    {
     "data": {
      "text/html": [
       "<table><tr><th>name</th> <td>xgb-booster-binary-classification-softprob-pipeline-123</td></tr><tr><th>created</th> <td>2023-11-17 11:18:25.623392+00:00</td></tr><tr><th>last_updated</th> <td>2023-11-17 11:18:25.654893+00:00</td></tr><tr><th>deployed</th> <td>False</td></tr><tr><th>arch</th> <td>None</td></tr><tr><th>tags</th> <td></td></tr><tr><th>versions</th> <td>0c66611d-0696-4edc-8c35-e5bd0be69b98, 4f0274c0-90f9-4512-afed-e1150ec3206c</td></tr><tr><th>steps</th> <td>xgb-booster-binary-classification-softprob</td></tr><tr><th>published</th> <td>False</td></tr></table>"
      ],
      "text/plain": [
       "{'name': 'xgb-booster-binary-classification-softprob-pipeline-123', 'create_time': datetime.datetime(2023, 11, 17, 11, 18, 25, 623392, tzinfo=tzutc()), 'definition': \"[{'ModelInference': {'models': [{'name': 'xgb-booster-binary-classification-softprob', 'version': '7ce52749-b616-4f21-b0d2-a7082e95bbde', 'sha': 'eefed02b648166eda12c0d617c160d9aa8c560fdf54a5c42fe9934d473151034'}]}}]\"}"
      ]
     },
     "execution_count": 35,
     "metadata": {},
     "output_type": "execute_result"
    }
   ],
   "source": [
    "pipeline.undeploy()"
   ]
  }
 ],
 "metadata": {
  "kernelspec": {
   "display_name": "Python 3 (ipykernel)",
   "language": "python",
   "name": "python3"
  },
  "language_info": {
   "codemirror_mode": {
    "name": "ipython",
    "version": 3
   },
   "file_extension": ".py",
   "mimetype": "text/x-python",
   "name": "python",
   "nbconvert_exporter": "python",
   "pygments_lexer": "ipython3",
   "version": "3.9.13"
  }
 },
 "nbformat": 4,
 "nbformat_minor": 5
}
