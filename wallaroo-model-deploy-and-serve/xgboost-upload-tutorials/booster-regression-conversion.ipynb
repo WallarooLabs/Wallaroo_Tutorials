{
 "cells": [
  {
   "cell_type": "markdown",
   "id": "3c813723",
   "metadata": {},
   "source": [
    "# Booster Regression Example"
   ]
  },
  {
   "cell_type": "markdown",
   "id": "24cd74e9-5af7-4b3d-93b4-f09c9b5561dc",
   "metadata": {},
   "source": [
    "## Imports"
   ]
  },
  {
   "cell_type": "code",
   "execution_count": 11,
   "id": "58a2bdec-1c92-43b8-9c43-fa6bc6010b73",
   "metadata": {
    "tags": []
   },
   "outputs": [],
   "source": [
    "import wallaroo\n",
    "from wallaroo.pipeline import Pipeline\n",
    "from wallaroo.deployment_config import DeploymentConfigBuilder\n",
    "import pyarrow as pa\n",
    "from wallaroo.framework import Framework\n",
    "\n",
    "import pickle\n",
    "from sklearn.datasets import load_diabetes\n",
    "from xgboost import train, DMatrix\n",
    "from sklearn.model_selection import train_test_split\n",
    "\n",
    "wl = wallaroo.Client(auth_type=\"sso\", interactive=True)"
   ]
  },
  {
   "cell_type": "markdown",
   "id": "f0f8d805-a42d-48d1-8af6-c1b88932f764",
   "metadata": {},
   "source": [
    "## Data"
   ]
  },
  {
   "cell_type": "markdown",
   "id": "95211fb6-1a53-44a9-ade0-527beffe8354",
   "metadata": {},
   "source": [
    "Load data:"
   ]
  },
  {
   "cell_type": "code",
   "execution_count": 12,
   "id": "94bdd2b2-063d-445e-ab38-012f17e3a242",
   "metadata": {},
   "outputs": [],
   "source": [
    "dataset = load_diabetes()\n",
    "\n",
    "# assuming the model is trained on the following DMatrix\n",
    "X, y = dataset.data, dataset.target\n",
    "X_train, X_test, y_train, y_test = train_test_split(\n",
    "    X, y, test_size=0.2, random_state=42\n",
    ")\n",
    "dtrain = DMatrix(X_train, label=y_train)\n",
    "dtest = DMatrix(X_test, label=y_test)"
   ]
  },
  {
   "cell_type": "markdown",
   "id": "aa749e2f",
   "metadata": {},
   "source": [
    "Load raw model:"
   ]
  },
  {
   "cell_type": "code",
   "execution_count": 15,
   "id": "c41df347-9fac-4cf6-abf5-a0d8391c878b",
   "metadata": {},
   "outputs": [],
   "source": [
    "with open(\"booster_regression.pkl\", \"rb\") as fp:\n",
    "    raw_model = pickle.load(fp)"
   ]
  },
  {
   "cell_type": "markdown",
   "id": "670a827e-0266-4661-bbf0-87aad1a5a875",
   "metadata": {},
   "source": [
    "## Configure & Upload Model"
   ]
  },
  {
   "cell_type": "markdown",
   "id": "ad3a257c-f8eb-4062-a025-a05f2eb2a36d",
   "metadata": {},
   "source": [
    "### Configure PyArrow Schema"
   ]
  },
  {
   "cell_type": "code",
   "execution_count": 16,
   "id": "d2f3c13b-5386-4bb1-87f4-8983a4df5f39",
   "metadata": {},
   "outputs": [],
   "source": [
    "input_schema = pa.schema([\n",
    "    pa.field('inputs', pa.list_(pa.float32(), list_size=10))\n",
    "])\n",
    "\n",
    "output_schema = pa.schema([\n",
    "    pa.field('predictions', pa.float32()),\n",
    "])"
   ]
  },
  {
   "cell_type": "markdown",
   "id": "f12d8885-afa8-4db8-9d36-daba4a5de38b",
   "metadata": {},
   "source": [
    "### Upload model"
   ]
  },
  {
   "cell_type": "markdown",
   "id": "78447961-c349-412a-b14d-e05b4f0e5c77",
   "metadata": {},
   "source": [
    "You can find the model uploaded in [model zoo](https://storage.cloud.google.com/wallaroo-model-zoo/model-auto-conversion/convert-non-native-frameworks/xgboost/xgb_booster_regression.pkl?authuser=0)."
   ]
  },
  {
   "cell_type": "code",
   "execution_count": 17,
   "id": "a61ca32a-67d0-49c9-9bce-9b3bf6d44dfd",
   "metadata": {},
   "outputs": [
    {
     "name": "stdout",
     "output_type": "stream",
     "text": [
      "Waiting for model loading - this will take up to 10.0min.\n",
      "Model is pending loading to a native runtime..\n",
      "Ready\n"
     ]
    },
    {
     "data": {
      "text/html": [
       "<table>\n",
       "        <tr>\n",
       "          <td>Name</td>\n",
       "          <td>booster-regression</td>\n",
       "        </tr>\n",
       "        <tr>\n",
       "          <td>Version</td>\n",
       "          <td>5bf402d3-fe8a-429f-8ab6-e5092ba61266</td>\n",
       "        </tr>\n",
       "        <tr>\n",
       "          <td>File Name</td>\n",
       "          <td>booster_regression.pkl</td>\n",
       "        </tr>\n",
       "        <tr>\n",
       "          <td>SHA</td>\n",
       "          <td>4d1c91595d7c89f0e67227813f818eee50667ce04116841f1c4d8d817f610b7b</td>\n",
       "        </tr>\n",
       "        <tr>\n",
       "          <td>Status</td>\n",
       "          <td>ready</td>\n",
       "        </tr>\n",
       "        <tr>\n",
       "          <td>Image Path</td>\n",
       "          <td>None</td>\n",
       "        </tr>\n",
       "        <tr>\n",
       "          <td>Architecture</td>\n",
       "          <td>None</td>\n",
       "        </tr>\n",
       "        <tr>\n",
       "          <td>Acceleration</td>\n",
       "          <td>None</td>\n",
       "        </tr>\n",
       "        <tr>\n",
       "          <td>Updated At</td>\n",
       "          <td>2024-18-Mar 11:56:23</td>\n",
       "        </tr>\n",
       "      </table>"
      ],
      "text/plain": [
       "{'name': 'booster-regression', 'version': '5bf402d3-fe8a-429f-8ab6-e5092ba61266', 'file_name': 'booster_regression.pkl', 'image_path': None, 'arch': None, 'accel': None, 'last_update_time': datetime.datetime(2024, 3, 18, 11, 56, 23, 760466, tzinfo=tzutc())}"
      ]
     },
     "execution_count": 17,
     "metadata": {},
     "output_type": "execute_result"
    }
   ],
   "source": [
    "model = wl.upload_model('booster-regression', 'booster_regression.pkl', framework=Framework.XGBOOST, input_schema=input_schema, output_schema=output_schema)\n",
    "model"
   ]
  },
  {
   "cell_type": "code",
   "execution_count": 18,
   "id": "a7c4c446-7546-428b-acff-de3e7d5e94ab",
   "metadata": {},
   "outputs": [
    {
     "data": {
      "text/plain": [
       "'onnx'"
      ]
     },
     "execution_count": 18,
     "metadata": {},
     "output_type": "execute_result"
    }
   ],
   "source": [
    "model.config().runtime()"
   ]
  },
  {
   "cell_type": "markdown",
   "id": "3dbcca65-4102-41c5-8d8a-a6434ade69a6",
   "metadata": {},
   "source": [
    "## Deploy Pipeline"
   ]
  },
  {
   "cell_type": "code",
   "execution_count": 19,
   "id": "afaa4557-f380-4259-8717-b3848005fd7d",
   "metadata": {},
   "outputs": [],
   "source": [
    "deployment_config = DeploymentConfigBuilder() \\\n",
    "    .cpus(0.25).memory('1Gi') \\\n",
    "    .build()"
   ]
  },
  {
   "cell_type": "code",
   "execution_count": 20,
   "id": "8324f3ee-f96a-44dc-9a47-d2f13a48bab7",
   "metadata": {},
   "outputs": [
    {
     "name": "stdout",
     "output_type": "stream",
     "text": [
      "Waiting for deployment - this will take up to 45s .............. ok\n"
     ]
    },
    {
     "data": {
      "text/plain": [
       "{'status': 'Running',\n",
       " 'details': [],\n",
       " 'engines': [{'ip': '10.223.128.226',\n",
       "   'name': 'engine-6c7fc94bc7-m8m7m',\n",
       "   'status': 'Running',\n",
       "   'reason': None,\n",
       "   'details': [],\n",
       "   'pipeline_statuses': {'pipelines': [{'id': 'booster-regression-pipeline',\n",
       "      'status': 'Running'}]},\n",
       "   'model_statuses': {'models': [{'config': {'batch_config': None,\n",
       "       'filter_threshold': None,\n",
       "       'id': 15,\n",
       "       'input_schema': '/////7AAAAAQAAAAAAAKAAwABgAFAAgACgAAAAABBAAMAAAACAAIAAAABAAIAAAABAAAAAEAAAAEAAAAyP///wAAARAUAAAAJAAAAAQAAAABAAAAMAAAAAYAAABpbnB1dHMAAAAABgAIAAQABgAAAAoAAAAQABQACAAGAAcADAAAABAAEAAAAAAAAQMQAAAAHAAAAAQAAAAAAAAABAAAAGl0ZW0AAAYACAAGAAYAAAAAAAEAAAAAAA==',\n",
       "       'model_version_id': 5,\n",
       "       'output_schema': '/////4AAAAAQAAAAAAAKAAwABgAFAAgACgAAAAABBAAMAAAACAAIAAAABAAIAAAABAAAAAEAAAAUAAAAEAAUAAgABgAHAAwAAAAQABAAAAAAAAEDEAAAACQAAAAEAAAAAAAAAAsAAABwcmVkaWN0aW9ucwAAAAYACAAGAAYAAAAAAAEAAAAAAA==',\n",
       "       'runtime': 'onnx',\n",
       "       'sidekick_uri': None,\n",
       "       'tensor_fields': None},\n",
       "      'model_version': {'conversion': {'framework': 'xgboost',\n",
       "        'python_version': '3.8',\n",
       "        'requirements': []},\n",
       "       'created_on_version': '2024.1.0',\n",
       "       'file_info': {'file_name': 'booster_regression.pkl',\n",
       "        'sha': '4d1c91595d7c89f0e67227813f818eee50667ce04116841f1c4d8d817f610b7b',\n",
       "        'version': '5bf402d3-fe8a-429f-8ab6-e5092ba61266'},\n",
       "       'id': 5,\n",
       "       'image_path': None,\n",
       "       'name': 'booster-regression',\n",
       "       'status': 'ready',\n",
       "       'task_id': '9539c911-bf00-46ae-a1aa-e2d77b4756f2',\n",
       "       'visibility': 'private',\n",
       "       'workspace_id': 1},\n",
       "      'status': 'Running'}]}}],\n",
       " 'engine_lbs': [{'ip': '10.223.128.227',\n",
       "   'name': 'engine-lb-7bcbb95695-b9dx9',\n",
       "   'status': 'Running',\n",
       "   'reason': None,\n",
       "   'details': []}],\n",
       " 'sidekicks': []}"
      ]
     },
     "execution_count": 20,
     "metadata": {},
     "output_type": "execute_result"
    }
   ],
   "source": [
    "pipeline_name = f\"booster-regression-pipeline\"\n",
    "pipeline = wl.build_pipeline(pipeline_name)\n",
    "pipeline.add_model_step(model)\n",
    "\n",
    "pipeline.deploy(deployment_config=deployment_config)\n",
    "pipeline.status()"
   ]
  },
  {
   "cell_type": "markdown",
   "id": "33590194-abfd-4c48-9e83-888c1f61b724",
   "metadata": {},
   "source": [
    "## Run Inference"
   ]
  },
  {
   "cell_type": "code",
   "execution_count": 21,
   "id": "e650f065-fdcc-4613-b9e4-e82e88c9de93",
   "metadata": {},
   "outputs": [],
   "source": [
    "data = dtest.get_data().todense()[:100]"
   ]
  },
  {
   "cell_type": "code",
   "execution_count": 22,
   "id": "622b7558-bfb4-4fb2-889d-b1c8c6e2734e",
   "metadata": {},
   "outputs": [
    {
     "data": {
      "text/html": [
       "<div>\n",
       "<style scoped>\n",
       "    .dataframe tbody tr th:only-of-type {\n",
       "        vertical-align: middle;\n",
       "    }\n",
       "\n",
       "    .dataframe tbody tr th {\n",
       "        vertical-align: top;\n",
       "    }\n",
       "\n",
       "    .dataframe thead th {\n",
       "        text-align: right;\n",
       "    }\n",
       "</style>\n",
       "<table border=\"1\" class=\"dataframe\">\n",
       "  <thead>\n",
       "    <tr style=\"text-align: right;\">\n",
       "      <th></th>\n",
       "      <th>inputs</th>\n",
       "    </tr>\n",
       "  </thead>\n",
       "  <tbody>\n",
       "    <tr>\n",
       "      <th>0</th>\n",
       "      <td>[0.04534098505973816, -0.044641636312007904, -...</td>\n",
       "    </tr>\n",
       "    <tr>\n",
       "      <th>1</th>\n",
       "      <td>[0.09256398677825928, -0.044641636312007904, 0...</td>\n",
       "    </tr>\n",
       "    <tr>\n",
       "      <th>2</th>\n",
       "      <td>[0.0635036751627922, 0.050680119544267654, -0....</td>\n",
       "    </tr>\n",
       "    <tr>\n",
       "      <th>3</th>\n",
       "      <td>[0.09619652479887009, -0.044641636312007904, 0...</td>\n",
       "    </tr>\n",
       "    <tr>\n",
       "      <th>4</th>\n",
       "      <td>[0.012648137286305428, 0.050680119544267654, -...</td>\n",
       "    </tr>\n",
       "    <tr>\n",
       "      <th>...</th>\n",
       "      <td>...</td>\n",
       "    </tr>\n",
       "    <tr>\n",
       "      <th>84</th>\n",
       "      <td>[0.0017505219439044595, -0.044641636312007904,...</td>\n",
       "    </tr>\n",
       "    <tr>\n",
       "      <th>85</th>\n",
       "      <td>[0.012648137286305428, -0.044641636312007904, ...</td>\n",
       "    </tr>\n",
       "    <tr>\n",
       "      <th>86</th>\n",
       "      <td>[-0.027309786528348923, -0.044641636312007904,...</td>\n",
       "    </tr>\n",
       "    <tr>\n",
       "      <th>87</th>\n",
       "      <td>[-0.023677246645092964, -0.044641636312007904,...</td>\n",
       "    </tr>\n",
       "    <tr>\n",
       "      <th>88</th>\n",
       "      <td>[-0.06363517045974731, -0.044641636312007904, ...</td>\n",
       "    </tr>\n",
       "  </tbody>\n",
       "</table>\n",
       "<p>89 rows × 1 columns</p>\n",
       "</div>"
      ],
      "text/plain": [
       "                                               inputs\n",
       "0   [0.04534098505973816, -0.044641636312007904, -...\n",
       "1   [0.09256398677825928, -0.044641636312007904, 0...\n",
       "2   [0.0635036751627922, 0.050680119544267654, -0....\n",
       "3   [0.09619652479887009, -0.044641636312007904, 0...\n",
       "4   [0.012648137286305428, 0.050680119544267654, -...\n",
       "..                                                ...\n",
       "84  [0.0017505219439044595, -0.044641636312007904,...\n",
       "85  [0.012648137286305428, -0.044641636312007904, ...\n",
       "86  [-0.027309786528348923, -0.044641636312007904,...\n",
       "87  [-0.023677246645092964, -0.044641636312007904,...\n",
       "88  [-0.06363517045974731, -0.044641636312007904, ...\n",
       "\n",
       "[89 rows x 1 columns]"
      ]
     },
     "execution_count": 22,
     "metadata": {},
     "output_type": "execute_result"
    }
   ],
   "source": [
    "import pandas as pd\n",
    "\n",
    "dataframe = pd.DataFrame({\"inputs\": data.tolist()})\n",
    "dataframe"
   ]
  },
  {
   "cell_type": "markdown",
   "id": "d92a4de6-09bc-46d6-a04e-4c847b1b92e3",
   "metadata": {},
   "source": [
    "Getting results from the pipeline:"
   ]
  },
  {
   "cell_type": "code",
   "execution_count": 23,
   "id": "418d1017-d6a9-4bd5-8a57-e31d42e52e75",
   "metadata": {},
   "outputs": [
    {
     "name": "stdout",
     "output_type": "stream",
     "text": [
      "CPU times: user 16.8 ms, sys: 0 ns, total: 16.8 ms\n",
      "Wall time: 29 ms\n"
     ]
    },
    {
     "data": {
      "text/html": [
       "<div>\n",
       "<style scoped>\n",
       "    .dataframe tbody tr th:only-of-type {\n",
       "        vertical-align: middle;\n",
       "    }\n",
       "\n",
       "    .dataframe tbody tr th {\n",
       "        vertical-align: top;\n",
       "    }\n",
       "\n",
       "    .dataframe thead th {\n",
       "        text-align: right;\n",
       "    }\n",
       "</style>\n",
       "<table border=\"1\" class=\"dataframe\">\n",
       "  <thead>\n",
       "    <tr style=\"text-align: right;\">\n",
       "      <th></th>\n",
       "      <th>time</th>\n",
       "      <th>in.inputs</th>\n",
       "      <th>out.predictions</th>\n",
       "      <th>anomaly.count</th>\n",
       "    </tr>\n",
       "  </thead>\n",
       "  <tbody>\n",
       "    <tr>\n",
       "      <th>0</th>\n",
       "      <td>2024-03-18 11:56:55.525</td>\n",
       "      <td>[0.0453409851, -0.0446416363, -0.0062059541, -...</td>\n",
       "      <td>121.672900</td>\n",
       "      <td>0</td>\n",
       "    </tr>\n",
       "    <tr>\n",
       "      <th>1</th>\n",
       "      <td>2024-03-18 11:56:55.525</td>\n",
       "      <td>[0.0925639868, -0.0446416363, 0.0369065292, 0....</td>\n",
       "      <td>190.484830</td>\n",
       "      <td>0</td>\n",
       "    </tr>\n",
       "    <tr>\n",
       "      <th>2</th>\n",
       "      <td>2024-03-18 11:56:55.525</td>\n",
       "      <td>[0.0635036752, 0.0506801195, -0.0040503298, -0...</td>\n",
       "      <td>111.782380</td>\n",
       "      <td>0</td>\n",
       "    </tr>\n",
       "    <tr>\n",
       "      <th>3</th>\n",
       "      <td>2024-03-18 11:56:55.525</td>\n",
       "      <td>[0.0961965248, -0.0446416363, 0.0519958995, 0....</td>\n",
       "      <td>109.612880</td>\n",
       "      <td>0</td>\n",
       "    </tr>\n",
       "    <tr>\n",
       "      <th>4</th>\n",
       "      <td>2024-03-18 11:56:55.525</td>\n",
       "      <td>[0.0126481373, 0.0506801195, -0.0202175118, -0...</td>\n",
       "      <td>116.345750</td>\n",
       "      <td>0</td>\n",
       "    </tr>\n",
       "    <tr>\n",
       "      <th>...</th>\n",
       "      <td>...</td>\n",
       "      <td>...</td>\n",
       "      <td>...</td>\n",
       "      <td>...</td>\n",
       "    </tr>\n",
       "    <tr>\n",
       "      <th>84</th>\n",
       "      <td>2024-03-18 11:56:55.525</td>\n",
       "      <td>[0.0017505219, -0.0446416363, -0.065485619, -0...</td>\n",
       "      <td>71.996124</td>\n",
       "      <td>0</td>\n",
       "    </tr>\n",
       "    <tr>\n",
       "      <th>85</th>\n",
       "      <td>2024-03-18 11:56:55.525</td>\n",
       "      <td>[0.0126481373, -0.0446416363, -0.0256065708, -...</td>\n",
       "      <td>46.890617</td>\n",
       "      <td>0</td>\n",
       "    </tr>\n",
       "    <tr>\n",
       "      <th>86</th>\n",
       "      <td>2024-03-18 11:56:55.525</td>\n",
       "      <td>[-0.0273097865, -0.0446416363, -0.0633299947, ...</td>\n",
       "      <td>63.577980</td>\n",
       "      <td>0</td>\n",
       "    </tr>\n",
       "    <tr>\n",
       "      <th>87</th>\n",
       "      <td>2024-03-18 11:56:55.525</td>\n",
       "      <td>[-0.0236772466, -0.0446416363, -0.0697968677, ...</td>\n",
       "      <td>55.595460</td>\n",
       "      <td>0</td>\n",
       "    </tr>\n",
       "    <tr>\n",
       "      <th>88</th>\n",
       "      <td>2024-03-18 11:56:55.525</td>\n",
       "      <td>[-0.0636351705, -0.0446416363, 0.0358287171, -...</td>\n",
       "      <td>178.056530</td>\n",
       "      <td>0</td>\n",
       "    </tr>\n",
       "  </tbody>\n",
       "</table>\n",
       "<p>89 rows × 4 columns</p>\n",
       "</div>"
      ],
      "text/plain": [
       "                      time                                          in.inputs  \\\n",
       "0  2024-03-18 11:56:55.525  [0.0453409851, -0.0446416363, -0.0062059541, -...   \n",
       "1  2024-03-18 11:56:55.525  [0.0925639868, -0.0446416363, 0.0369065292, 0....   \n",
       "2  2024-03-18 11:56:55.525  [0.0635036752, 0.0506801195, -0.0040503298, -0...   \n",
       "3  2024-03-18 11:56:55.525  [0.0961965248, -0.0446416363, 0.0519958995, 0....   \n",
       "4  2024-03-18 11:56:55.525  [0.0126481373, 0.0506801195, -0.0202175118, -0...   \n",
       "..                     ...                                                ...   \n",
       "84 2024-03-18 11:56:55.525  [0.0017505219, -0.0446416363, -0.065485619, -0...   \n",
       "85 2024-03-18 11:56:55.525  [0.0126481373, -0.0446416363, -0.0256065708, -...   \n",
       "86 2024-03-18 11:56:55.525  [-0.0273097865, -0.0446416363, -0.0633299947, ...   \n",
       "87 2024-03-18 11:56:55.525  [-0.0236772466, -0.0446416363, -0.0697968677, ...   \n",
       "88 2024-03-18 11:56:55.525  [-0.0636351705, -0.0446416363, 0.0358287171, -...   \n",
       "\n",
       "    out.predictions  anomaly.count  \n",
       "0        121.672900              0  \n",
       "1        190.484830              0  \n",
       "2        111.782380              0  \n",
       "3        109.612880              0  \n",
       "4        116.345750              0  \n",
       "..              ...            ...  \n",
       "84        71.996124              0  \n",
       "85        46.890617              0  \n",
       "86        63.577980              0  \n",
       "87        55.595460              0  \n",
       "88       178.056530              0  \n",
       "\n",
       "[89 rows x 4 columns]"
      ]
     },
     "execution_count": 23,
     "metadata": {},
     "output_type": "execute_result"
    }
   ],
   "source": [
    "%%time\n",
    "pipeline.infer(dataframe)"
   ]
  },
  {
   "cell_type": "markdown",
   "id": "9b94bce8-fbc7-4f85-b0e6-f9bd5bb6bb70",
   "metadata": {},
   "source": [
    "Comparing them to the original model:"
   ]
  },
  {
   "cell_type": "code",
   "execution_count": 24,
   "id": "cdd2a4ec-bd7a-4a26-b5b6-032b507a3b34",
   "metadata": {},
   "outputs": [
    {
     "data": {
      "text/plain": [
       "array([121.6729  , 190.48483 , 111.78238 , 109.61288 , 116.34575 ,\n",
       "        85.216545, 213.15    , 207.94493 , 101.29846 , 170.69362 ,\n",
       "        66.96854 , 145.21446 ,  73.83197 , 163.54646 ,  70.32    ,\n",
       "        74.63077 , 201.35542 , 186.59804 , 130.75244 , 183.10846 ,\n",
       "        98.62304 ,  87.72134 ,  59.893726, 171.65509 , 155.49603 ,\n",
       "       160.44809 , 173.86526 , 115.04234 ,  56.607304,  86.4588  ,\n",
       "       120.462746,  73.96513 , 115.0956  , 148.43173 , 100.05525 ,\n",
       "       102.38193 ,  88.871796,  88.871796, 134.7709  ,  51.302593,\n",
       "        53.15803 ,  83.91626 , 128.96738 , 120.48001 , 136.86176 ,\n",
       "        52.778484,  46.68677 ,  71.15934 ,  58.29168 , 133.73485 ,\n",
       "        35.829025,  66.652855, 121.18785 ,  74.08378 , 114.03221 ,\n",
       "       128.89253 ,  70.77263 , 186.60004 ,  86.5795  ,  74.0783  ,\n",
       "       151.58614 , 167.9001  ,  90.85109 ,  46.70047 ,  94.22118 ,\n",
       "       174.81976 , 140.16185 , 121.38359 , 112.195694,  93.37313 ,\n",
       "       147.53513 , 163.0744  , 122.94733 ,  85.41721 ,  65.30148 ,\n",
       "       144.29498 , 201.47932 , 145.33958 , 137.46051 , 170.77689 ,\n",
       "        73.96513 , 117.17574 ,  58.75694 ,  52.52489 ,  71.996124,\n",
       "        46.890617,  63.57798 ,  55.59546 , 178.05655 ], dtype=float32)"
      ]
     },
     "execution_count": 24,
     "metadata": {},
     "output_type": "execute_result"
    }
   ],
   "source": [
    "raw_model.predict(dtest)[:100]"
   ]
  },
  {
   "cell_type": "markdown",
   "id": "28c42355-6fad-42d1-ab39-8354b31b06aa",
   "metadata": {},
   "source": [
    "## Undeploy Pipelines"
   ]
  },
  {
   "cell_type": "code",
   "execution_count": 54,
   "id": "694064c0-fc44-4e56-96cc-4990b7c084bd",
   "metadata": {},
   "outputs": [
    {
     "name": "stdout",
     "output_type": "stream",
     "text": [
      "Waiting for undeployment - this will take up to 45s .................................... ok\n"
     ]
    },
    {
     "data": {
      "text/html": [
       "<table><tr><th>name</th> <td>xgb-core-regression-pipeline-test-123</td></tr><tr><th>created</th> <td>2023-11-17 11:03:01.946102+00:00</td></tr><tr><th>last_updated</th> <td>2023-11-17 11:03:01.975551+00:00</td></tr><tr><th>deployed</th> <td>False</td></tr><tr><th>arch</th> <td>None</td></tr><tr><th>tags</th> <td></td></tr><tr><th>versions</th> <td>0f68e5f3-07db-4eff-93fe-9b2c1806bce8, a84f6b11-095d-4420-a40b-c8d5bff0ad51</td></tr><tr><th>steps</th> <td>xgb-core-regression</td></tr><tr><th>published</th> <td>False</td></tr></table>"
      ],
      "text/plain": [
       "{'name': 'xgb-core-regression-pipeline-test-123', 'create_time': datetime.datetime(2023, 11, 17, 11, 3, 1, 946102, tzinfo=tzutc()), 'definition': \"[{'ModelInference': {'models': [{'name': 'xgb-core-regression', 'version': '678f7664-617a-4f62-afe5-9f4b5ed69ee3', 'sha': '4d1c91595d7c89f0e67227813f818eee50667ce04116841f1c4d8d817f610b7b'}]}}]\"}"
      ]
     },
     "execution_count": 54,
     "metadata": {},
     "output_type": "execute_result"
    }
   ],
   "source": [
    "pipeline.undeploy()"
   ]
  }
 ],
 "metadata": {
  "kernelspec": {
   "display_name": "Python 3 (ipykernel)",
   "language": "python",
   "name": "python3"
  },
  "language_info": {
   "codemirror_mode": {
    "name": "ipython",
    "version": 3
   },
   "file_extension": ".py",
   "mimetype": "text/x-python",
   "name": "python",
   "nbconvert_exporter": "python",
   "pygments_lexer": "ipython3",
   "version": "3.9.13"
  }
 },
 "nbformat": 4,
 "nbformat_minor": 5
}
