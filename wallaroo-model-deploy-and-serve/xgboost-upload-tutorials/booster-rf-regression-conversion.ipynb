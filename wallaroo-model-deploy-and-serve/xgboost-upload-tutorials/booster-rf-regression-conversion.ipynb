{
 "cells": [
  {
   "cell_type": "markdown",
   "id": "3c813723",
   "metadata": {},
   "source": [
    "# Booster RF Regression Example"
   ]
  },
  {
   "cell_type": "markdown",
   "id": "24cd74e9-5af7-4b3d-93b4-f09c9b5561dc",
   "metadata": {},
   "source": [
    "## Imports"
   ]
  },
  {
   "cell_type": "code",
   "execution_count": 1,
   "id": "58a2bdec-1c92-43b8-9c43-fa6bc6010b73",
   "metadata": {
    "tags": []
   },
   "outputs": [],
   "source": [
    "import wallaroo\n",
    "from wallaroo.pipeline import Pipeline\n",
    "from wallaroo.deployment_config import DeploymentConfigBuilder\n",
    "import pyarrow as pa\n",
    "import pandas as pd\n",
    "import numpy as np\n",
    "from wallaroo.framework import Framework\n",
    "\n",
    "import pickle\n",
    "from sklearn.datasets import load_diabetes\n",
    "from sklearn.model_selection import train_test_split\n",
    "from xgboost import train, DMatrix\n",
    "\n",
    "wl = wallaroo.Client(auth_type=\"sso\", interactive=True)"
   ]
  },
  {
   "cell_type": "markdown",
   "id": "f0f8d805-a42d-48d1-8af6-c1b88932f764",
   "metadata": {},
   "source": [
    "## Data"
   ]
  },
  {
   "cell_type": "markdown",
   "id": "7aa73956-a234-4d34-a3ee-0af1e12a8def",
   "metadata": {},
   "source": [
    "Load data:"
   ]
  },
  {
   "cell_type": "code",
   "execution_count": 5,
   "id": "ce4ba279-7079-4665-8f1d-013c1d5f4a71",
   "metadata": {},
   "outputs": [],
   "source": [
    "dataset = load_diabetes()\n",
    "\n",
    "# assuming the model is trained on the following DMatrix\n",
    "X, y = dataset.data, dataset.target\n",
    "X_train, X_test, y_train, y_test = train_test_split(\n",
    "    X, y, test_size=0.2, random_state=42\n",
    ")\n",
    "dtrain = DMatrix(X_train, label=y_train)\n",
    "dtest = DMatrix(X_test, label=y_test)"
   ]
  },
  {
   "cell_type": "markdown",
   "id": "659801ec-2098-4d74-aef6-dc42b8a9ebc6",
   "metadata": {},
   "source": [
    "Load raw model:"
   ]
  },
  {
   "cell_type": "code",
   "execution_count": 16,
   "id": "661de0e7-7de8-4eb9-8e13-09779685832f",
   "metadata": {},
   "outputs": [],
   "source": [
    "with open(\"booster_rf_regression.pkl\", \"rb\") as fp:\n",
    "    raw_model = pickle.load(fp)"
   ]
  },
  {
   "cell_type": "markdown",
   "id": "670a827e-0266-4661-bbf0-87aad1a5a875",
   "metadata": {},
   "source": [
    "## Configure & Upload Model"
   ]
  },
  {
   "cell_type": "markdown",
   "id": "ad3a257c-f8eb-4062-a025-a05f2eb2a36d",
   "metadata": {},
   "source": [
    "### Configure PyArrow Schema"
   ]
  },
  {
   "cell_type": "code",
   "execution_count": 6,
   "id": "d2f3c13b-5386-4bb1-87f4-8983a4df5f39",
   "metadata": {},
   "outputs": [],
   "source": [
    "input_schema = pa.schema([\n",
    "    pa.field('inputs', pa.list_(pa.float32(), list_size=10))\n",
    "])\n",
    "\n",
    "output_schema = pa.schema([\n",
    "    pa.field('predictions', pa.float32()),\n",
    "])"
   ]
  },
  {
   "cell_type": "markdown",
   "id": "f12d8885-afa8-4db8-9d36-daba4a5de38b",
   "metadata": {},
   "source": [
    "### Upload model"
   ]
  },
  {
   "cell_type": "markdown",
   "id": "ddfbfbbf-892a-4892-9ee2-5a708c6cc40a",
   "metadata": {},
   "source": [
    "You can find the model uploaded in [model zoo](https://storage.cloud.google.com/wallaroo-model-zoo/model-auto-conversion/convert-non-native-frameworks/xgboost/xgb_booster_rf_regression.pkl)."
   ]
  },
  {
   "cell_type": "code",
   "execution_count": 7,
   "id": "a61ca32a-67d0-49c9-9bce-9b3bf6d44dfd",
   "metadata": {},
   "outputs": [
    {
     "name": "stdout",
     "output_type": "stream",
     "text": [
      "Waiting for model loading - this will take up to 10.0min.\n",
      "Model is pending loading to a native runtime..\n",
      "Ready\n"
     ]
    },
    {
     "data": {
      "text/html": [
       "<table>\n",
       "        <tr>\n",
       "          <td>Name</td>\n",
       "          <td>booster-rf-regression</td>\n",
       "        </tr>\n",
       "        <tr>\n",
       "          <td>Version</td>\n",
       "          <td>2a10bc32-1fa9-46f6-93d5-6ae06a3d1617</td>\n",
       "        </tr>\n",
       "        <tr>\n",
       "          <td>File Name</td>\n",
       "          <td>booster_rf_regression.pkl</td>\n",
       "        </tr>\n",
       "        <tr>\n",
       "          <td>SHA</td>\n",
       "          <td>b58b410a1eb4690dcf1bdcd08157f37253d8316cafd406a165b484ceb47408b3</td>\n",
       "        </tr>\n",
       "        <tr>\n",
       "          <td>Status</td>\n",
       "          <td>ready</td>\n",
       "        </tr>\n",
       "        <tr>\n",
       "          <td>Image Path</td>\n",
       "          <td>None</td>\n",
       "        </tr>\n",
       "        <tr>\n",
       "          <td>Architecture</td>\n",
       "          <td>None</td>\n",
       "        </tr>\n",
       "        <tr>\n",
       "          <td>Acceleration</td>\n",
       "          <td>None</td>\n",
       "        </tr>\n",
       "        <tr>\n",
       "          <td>Updated At</td>\n",
       "          <td>2024-18-Mar 11:32:27</td>\n",
       "        </tr>\n",
       "      </table>"
      ],
      "text/plain": [
       "{'name': 'booster-rf-regression', 'version': '2a10bc32-1fa9-46f6-93d5-6ae06a3d1617', 'file_name': 'booster_rf_regression.pkl', 'image_path': None, 'arch': None, 'accel': None, 'last_update_time': datetime.datetime(2024, 3, 18, 11, 32, 27, 705965, tzinfo=tzutc())}"
      ]
     },
     "execution_count": 7,
     "metadata": {},
     "output_type": "execute_result"
    }
   ],
   "source": [
    "model = wl.upload_model('booster-rf-regression', 'booster_rf_regression.pkl', framework=Framework.XGBOOST, input_schema=input_schema, output_schema=output_schema)\n",
    "model"
   ]
  },
  {
   "cell_type": "code",
   "execution_count": 8,
   "id": "a7c4c446-7546-428b-acff-de3e7d5e94ab",
   "metadata": {},
   "outputs": [
    {
     "data": {
      "text/plain": [
       "'onnx'"
      ]
     },
     "execution_count": 8,
     "metadata": {},
     "output_type": "execute_result"
    }
   ],
   "source": [
    "model.config().runtime()"
   ]
  },
  {
   "cell_type": "markdown",
   "id": "3dbcca65-4102-41c5-8d8a-a6434ade69a6",
   "metadata": {},
   "source": [
    "## Deploy Pipeline"
   ]
  },
  {
   "cell_type": "code",
   "execution_count": 9,
   "id": "afaa4557-f380-4259-8717-b3848005fd7d",
   "metadata": {},
   "outputs": [],
   "source": [
    "deployment_config = DeploymentConfigBuilder() \\\n",
    "    .cpus(0.25).memory('1Gi') \\\n",
    "    .build()"
   ]
  },
  {
   "cell_type": "code",
   "execution_count": 10,
   "id": "8324f3ee-f96a-44dc-9a47-d2f13a48bab7",
   "metadata": {},
   "outputs": [
    {
     "name": "stdout",
     "output_type": "stream",
     "text": [
      "Waiting for deployment - this will take up to 45s ............. ok\n"
     ]
    },
    {
     "data": {
      "text/plain": [
       "{'status': 'Running',\n",
       " 'details': [],\n",
       " 'engines': [{'ip': '10.223.128.192',\n",
       "   'name': 'engine-8457f47df7-hxtwr',\n",
       "   'status': 'Running',\n",
       "   'reason': None,\n",
       "   'details': [],\n",
       "   'pipeline_statuses': {'pipelines': [{'id': 'booster-rf-regression-pipeline',\n",
       "      'status': 'Running'}]},\n",
       "   'model_statuses': {'models': [{'config': {'batch_config': None,\n",
       "       'filter_threshold': None,\n",
       "       'id': 9,\n",
       "       'input_schema': '/////7AAAAAQAAAAAAAKAAwABgAFAAgACgAAAAABBAAMAAAACAAIAAAABAAIAAAABAAAAAEAAAAEAAAAyP///wAAARAUAAAAJAAAAAQAAAABAAAAMAAAAAYAAABpbnB1dHMAAAAABgAIAAQABgAAAAoAAAAQABQACAAGAAcADAAAABAAEAAAAAAAAQMQAAAAHAAAAAQAAAAAAAAABAAAAGl0ZW0AAAYACAAGAAYAAAAAAAEAAAAAAA==',\n",
       "       'model_version_id': 3,\n",
       "       'output_schema': '/////4AAAAAQAAAAAAAKAAwABgAFAAgACgAAAAABBAAMAAAACAAIAAAABAAIAAAABAAAAAEAAAAUAAAAEAAUAAgABgAHAAwAAAAQABAAAAAAAAEDEAAAACQAAAAEAAAAAAAAAAsAAABwcmVkaWN0aW9ucwAAAAYACAAGAAYAAAAAAAEAAAAAAA==',\n",
       "       'runtime': 'onnx',\n",
       "       'sidekick_uri': None,\n",
       "       'tensor_fields': None},\n",
       "      'model_version': {'conversion': {'framework': 'xgboost',\n",
       "        'python_version': '3.8',\n",
       "        'requirements': []},\n",
       "       'created_on_version': '2024.1.0',\n",
       "       'file_info': {'file_name': 'booster_rf_regression.pkl',\n",
       "        'sha': 'b58b410a1eb4690dcf1bdcd08157f37253d8316cafd406a165b484ceb47408b3',\n",
       "        'version': '2a10bc32-1fa9-46f6-93d5-6ae06a3d1617'},\n",
       "       'id': 3,\n",
       "       'image_path': None,\n",
       "       'name': 'booster-rf-regression',\n",
       "       'status': 'ready',\n",
       "       'task_id': 'b5051fe3-7fa5-4e2d-832f-2b42d030e179',\n",
       "       'visibility': 'private',\n",
       "       'workspace_id': 1},\n",
       "      'status': 'Running'}]}}],\n",
       " 'engine_lbs': [{'ip': '10.223.128.193',\n",
       "   'name': 'engine-lb-7bcbb95695-kpt78',\n",
       "   'status': 'Running',\n",
       "   'reason': None,\n",
       "   'details': []}],\n",
       " 'sidekicks': []}"
      ]
     },
     "execution_count": 10,
     "metadata": {},
     "output_type": "execute_result"
    }
   ],
   "source": [
    "pipeline_name = f\"booster-rf-regression-pipeline\"\n",
    "pipeline = wl.build_pipeline(pipeline_name)\n",
    "pipeline.add_model_step(model)\n",
    "\n",
    "pipeline.deploy(deployment_config=deployment_config)\n",
    "pipeline.status()"
   ]
  },
  {
   "cell_type": "markdown",
   "id": "33590194-abfd-4c48-9e83-888c1f61b724",
   "metadata": {},
   "source": [
    "## Run Inference"
   ]
  },
  {
   "cell_type": "code",
   "execution_count": 11,
   "id": "c1cbfb13-d7ab-465d-8370-d5edbcce62c0",
   "metadata": {},
   "outputs": [],
   "source": [
    "data = dtest.get_data().todense()[:100]"
   ]
  },
  {
   "cell_type": "code",
   "execution_count": 12,
   "id": "622b7558-bfb4-4fb2-889d-b1c8c6e2734e",
   "metadata": {},
   "outputs": [
    {
     "data": {
      "text/html": [
       "<div>\n",
       "<style scoped>\n",
       "    .dataframe tbody tr th:only-of-type {\n",
       "        vertical-align: middle;\n",
       "    }\n",
       "\n",
       "    .dataframe tbody tr th {\n",
       "        vertical-align: top;\n",
       "    }\n",
       "\n",
       "    .dataframe thead th {\n",
       "        text-align: right;\n",
       "    }\n",
       "</style>\n",
       "<table border=\"1\" class=\"dataframe\">\n",
       "  <thead>\n",
       "    <tr style=\"text-align: right;\">\n",
       "      <th></th>\n",
       "      <th>inputs</th>\n",
       "    </tr>\n",
       "  </thead>\n",
       "  <tbody>\n",
       "    <tr>\n",
       "      <th>0</th>\n",
       "      <td>[0.04534098505973816, -0.044641636312007904, -...</td>\n",
       "    </tr>\n",
       "    <tr>\n",
       "      <th>1</th>\n",
       "      <td>[0.09256398677825928, -0.044641636312007904, 0...</td>\n",
       "    </tr>\n",
       "    <tr>\n",
       "      <th>2</th>\n",
       "      <td>[0.0635036751627922, 0.050680119544267654, -0....</td>\n",
       "    </tr>\n",
       "    <tr>\n",
       "      <th>3</th>\n",
       "      <td>[0.09619652479887009, -0.044641636312007904, 0...</td>\n",
       "    </tr>\n",
       "    <tr>\n",
       "      <th>4</th>\n",
       "      <td>[0.012648137286305428, 0.050680119544267654, -...</td>\n",
       "    </tr>\n",
       "    <tr>\n",
       "      <th>...</th>\n",
       "      <td>...</td>\n",
       "    </tr>\n",
       "    <tr>\n",
       "      <th>84</th>\n",
       "      <td>[0.0017505219439044595, -0.044641636312007904,...</td>\n",
       "    </tr>\n",
       "    <tr>\n",
       "      <th>85</th>\n",
       "      <td>[0.012648137286305428, -0.044641636312007904, ...</td>\n",
       "    </tr>\n",
       "    <tr>\n",
       "      <th>86</th>\n",
       "      <td>[-0.027309786528348923, -0.044641636312007904,...</td>\n",
       "    </tr>\n",
       "    <tr>\n",
       "      <th>87</th>\n",
       "      <td>[-0.023677246645092964, -0.044641636312007904,...</td>\n",
       "    </tr>\n",
       "    <tr>\n",
       "      <th>88</th>\n",
       "      <td>[-0.06363517045974731, -0.044641636312007904, ...</td>\n",
       "    </tr>\n",
       "  </tbody>\n",
       "</table>\n",
       "<p>89 rows × 1 columns</p>\n",
       "</div>"
      ],
      "text/plain": [
       "                                               inputs\n",
       "0   [0.04534098505973816, -0.044641636312007904, -...\n",
       "1   [0.09256398677825928, -0.044641636312007904, 0...\n",
       "2   [0.0635036751627922, 0.050680119544267654, -0....\n",
       "3   [0.09619652479887009, -0.044641636312007904, 0...\n",
       "4   [0.012648137286305428, 0.050680119544267654, -...\n",
       "..                                                ...\n",
       "84  [0.0017505219439044595, -0.044641636312007904,...\n",
       "85  [0.012648137286305428, -0.044641636312007904, ...\n",
       "86  [-0.027309786528348923, -0.044641636312007904,...\n",
       "87  [-0.023677246645092964, -0.044641636312007904,...\n",
       "88  [-0.06363517045974731, -0.044641636312007904, ...\n",
       "\n",
       "[89 rows x 1 columns]"
      ]
     },
     "execution_count": 12,
     "metadata": {},
     "output_type": "execute_result"
    }
   ],
   "source": [
    "import pandas as pd\n",
    "\n",
    "dataframe = pd.DataFrame({\"inputs\": data.tolist()})\n",
    "dataframe"
   ]
  },
  {
   "cell_type": "markdown",
   "id": "0d8550b5-e67f-469f-a9b7-b97a0c7ec4bc",
   "metadata": {},
   "source": [
    "Get results from the pipeline:"
   ]
  },
  {
   "cell_type": "code",
   "execution_count": 13,
   "id": "531ae275-7816-4968-95e4-be66eb9403fd",
   "metadata": {},
   "outputs": [
    {
     "name": "stdout",
     "output_type": "stream",
     "text": [
      "CPU times: user 14.4 ms, sys: 1.94 ms, total: 16.3 ms\n",
      "Wall time: 26.1 ms\n"
     ]
    },
    {
     "data": {
      "text/html": [
       "<div>\n",
       "<style scoped>\n",
       "    .dataframe tbody tr th:only-of-type {\n",
       "        vertical-align: middle;\n",
       "    }\n",
       "\n",
       "    .dataframe tbody tr th {\n",
       "        vertical-align: top;\n",
       "    }\n",
       "\n",
       "    .dataframe thead th {\n",
       "        text-align: right;\n",
       "    }\n",
       "</style>\n",
       "<table border=\"1\" class=\"dataframe\">\n",
       "  <thead>\n",
       "    <tr style=\"text-align: right;\">\n",
       "      <th></th>\n",
       "      <th>time</th>\n",
       "      <th>in.inputs</th>\n",
       "      <th>out.predictions</th>\n",
       "      <th>anomaly.count</th>\n",
       "    </tr>\n",
       "  </thead>\n",
       "  <tbody>\n",
       "    <tr>\n",
       "      <th>0</th>\n",
       "      <td>2024-03-18 11:33:08.368</td>\n",
       "      <td>[0.0453409851, -0.0446416363, -0.0062059541, -...</td>\n",
       "      <td>154.345660</td>\n",
       "      <td>0</td>\n",
       "    </tr>\n",
       "    <tr>\n",
       "      <th>1</th>\n",
       "      <td>2024-03-18 11:33:08.368</td>\n",
       "      <td>[0.0925639868, -0.0446416363, 0.0369065292, 0....</td>\n",
       "      <td>161.982850</td>\n",
       "      <td>0</td>\n",
       "    </tr>\n",
       "    <tr>\n",
       "      <th>2</th>\n",
       "      <td>2024-03-18 11:33:08.368</td>\n",
       "      <td>[0.0635036752, 0.0506801195, -0.0040503298, -0...</td>\n",
       "      <td>154.345660</td>\n",
       "      <td>0</td>\n",
       "    </tr>\n",
       "    <tr>\n",
       "      <th>3</th>\n",
       "      <td>2024-03-18 11:33:08.368</td>\n",
       "      <td>[0.0961965248, -0.0446416363, 0.0519958995, 0....</td>\n",
       "      <td>244.706510</td>\n",
       "      <td>0</td>\n",
       "    </tr>\n",
       "    <tr>\n",
       "      <th>4</th>\n",
       "      <td>2024-03-18 11:33:08.368</td>\n",
       "      <td>[0.0126481373, 0.0506801195, -0.0202175118, -0...</td>\n",
       "      <td>108.613180</td>\n",
       "      <td>0</td>\n",
       "    </tr>\n",
       "    <tr>\n",
       "      <th>...</th>\n",
       "      <td>...</td>\n",
       "      <td>...</td>\n",
       "      <td>...</td>\n",
       "      <td>...</td>\n",
       "    </tr>\n",
       "    <tr>\n",
       "      <th>84</th>\n",
       "      <td>2024-03-18 11:33:08.368</td>\n",
       "      <td>[0.0017505219, -0.0446416363, -0.065485619, -0...</td>\n",
       "      <td>104.921776</td>\n",
       "      <td>0</td>\n",
       "    </tr>\n",
       "    <tr>\n",
       "      <th>85</th>\n",
       "      <td>2024-03-18 11:33:08.368</td>\n",
       "      <td>[0.0126481373, -0.0446416363, -0.0256065708, -...</td>\n",
       "      <td>78.300160</td>\n",
       "      <td>0</td>\n",
       "    </tr>\n",
       "    <tr>\n",
       "      <th>86</th>\n",
       "      <td>2024-03-18 11:33:08.368</td>\n",
       "      <td>[-0.0273097865, -0.0446416363, -0.0633299947, ...</td>\n",
       "      <td>82.259480</td>\n",
       "      <td>0</td>\n",
       "    </tr>\n",
       "    <tr>\n",
       "      <th>87</th>\n",
       "      <td>2024-03-18 11:33:08.368</td>\n",
       "      <td>[-0.0236772466, -0.0446416363, -0.0697968677, ...</td>\n",
       "      <td>68.962540</td>\n",
       "      <td>0</td>\n",
       "    </tr>\n",
       "    <tr>\n",
       "      <th>88</th>\n",
       "      <td>2024-03-18 11:33:08.368</td>\n",
       "      <td>[-0.0636351705, -0.0446416363, 0.0358287171, -...</td>\n",
       "      <td>126.315810</td>\n",
       "      <td>0</td>\n",
       "    </tr>\n",
       "  </tbody>\n",
       "</table>\n",
       "<p>89 rows × 4 columns</p>\n",
       "</div>"
      ],
      "text/plain": [
       "                      time                                          in.inputs  \\\n",
       "0  2024-03-18 11:33:08.368  [0.0453409851, -0.0446416363, -0.0062059541, -...   \n",
       "1  2024-03-18 11:33:08.368  [0.0925639868, -0.0446416363, 0.0369065292, 0....   \n",
       "2  2024-03-18 11:33:08.368  [0.0635036752, 0.0506801195, -0.0040503298, -0...   \n",
       "3  2024-03-18 11:33:08.368  [0.0961965248, -0.0446416363, 0.0519958995, 0....   \n",
       "4  2024-03-18 11:33:08.368  [0.0126481373, 0.0506801195, -0.0202175118, -0...   \n",
       "..                     ...                                                ...   \n",
       "84 2024-03-18 11:33:08.368  [0.0017505219, -0.0446416363, -0.065485619, -0...   \n",
       "85 2024-03-18 11:33:08.368  [0.0126481373, -0.0446416363, -0.0256065708, -...   \n",
       "86 2024-03-18 11:33:08.368  [-0.0273097865, -0.0446416363, -0.0633299947, ...   \n",
       "87 2024-03-18 11:33:08.368  [-0.0236772466, -0.0446416363, -0.0697968677, ...   \n",
       "88 2024-03-18 11:33:08.368  [-0.0636351705, -0.0446416363, 0.0358287171, -...   \n",
       "\n",
       "    out.predictions  anomaly.count  \n",
       "0        154.345660              0  \n",
       "1        161.982850              0  \n",
       "2        154.345660              0  \n",
       "3        244.706510              0  \n",
       "4        108.613180              0  \n",
       "..              ...            ...  \n",
       "84       104.921776              0  \n",
       "85        78.300160              0  \n",
       "86        82.259480              0  \n",
       "87        68.962540              0  \n",
       "88       126.315810              0  \n",
       "\n",
       "[89 rows x 4 columns]"
      ]
     },
     "execution_count": 13,
     "metadata": {},
     "output_type": "execute_result"
    }
   ],
   "source": [
    "%%time\n",
    "pipeline.infer(dataframe)"
   ]
  },
  {
   "cell_type": "markdown",
   "id": "1cf90599-72db-4ed3-9077-9ab7cde98673",
   "metadata": {},
   "source": [
    "Comparing them to the original model:"
   ]
  },
  {
   "cell_type": "code",
   "execution_count": 18,
   "id": "cdd2a4ec-bd7a-4a26-b5b6-032b507a3b34",
   "metadata": {},
   "outputs": [
    {
     "data": {
      "text/plain": [
       "array([154.34566 , 161.98285 , 154.34566 , 244.70651 , 108.61318 ,\n",
       "        90.13367 , 222.60936 , 216.11751 ,  95.64049 , 141.68506 ,\n",
       "        85.97687 , 145.99286 ,  80.62069 , 208.578   , 106.19375 ,\n",
       "        88.29169 , 222.60936 , 244.70651 , 205.60529 , 244.70651 ,\n",
       "       190.86652 ,  93.20975 ,  77.53956 , 224.3846  , 131.42479 ,\n",
       "       148.30319 , 200.4963  , 143.51114 ,  76.604965, 112.95469 ,\n",
       "       147.85834 ,  81.30711 , 204.29251 , 165.45825 , 188.92328 ,\n",
       "       217.28133 , 136.13403 , 136.13403 , 161.14886 ,  70.106415,\n",
       "        83.257484,  90.17679 , 116.94887 , 161.14886 , 154.78029 ,\n",
       "        64.749084,  68.96254 , 109.63051 ,  80.62069 , 144.93239 ,\n",
       "       107.90619 ,  74.991714, 147.85834 , 103.40725 , 122.28518 ,\n",
       "       152.96732 ,  83.16392 , 228.43729 ,  76.18227 ,  91.63138 ,\n",
       "       210.28957 , 210.28957 , 126.3298  , 116.10301 , 115.68012 ,\n",
       "       232.38673 , 143.91437 , 148.65825 , 101.39177 , 116.99875 ,\n",
       "       116.99875 , 224.3846  , 191.23105 , 105.35338 ,  68.41122 ,\n",
       "       133.74887 , 236.70438 , 196.2729  , 200.4963  , 155.79262 ,\n",
       "        91.53319 ,  82.762764,  79.02914 ,  63.053883, 104.921776,\n",
       "        78.30016 ,  82.25948 ,  68.96254 , 126.31581 ], dtype=float32)"
      ]
     },
     "execution_count": 18,
     "metadata": {},
     "output_type": "execute_result"
    }
   ],
   "source": [
    "raw_model.predict(dtest)[:100]"
   ]
  },
  {
   "cell_type": "markdown",
   "id": "28c42355-6fad-42d1-ab39-8354b31b06aa",
   "metadata": {},
   "source": [
    "## Undeploy Pipelines"
   ]
  },
  {
   "cell_type": "code",
   "execution_count": 141,
   "id": "694064c0-fc44-4e56-96cc-4990b7c084bd",
   "metadata": {},
   "outputs": [
    {
     "name": "stdout",
     "output_type": "stream",
     "text": [
      "Waiting for undeployment - this will take up to 45s ..................................... ok\n"
     ]
    },
    {
     "data": {
      "text/html": [
       "<table><tr><th>name</th> <td>xgb-booster-rf-classification-pipeline-123</td></tr><tr><th>created</th> <td>2023-11-17 13:33:28.878254+00:00</td></tr><tr><th>last_updated</th> <td>2023-11-17 13:33:28.909970+00:00</td></tr><tr><th>deployed</th> <td>False</td></tr><tr><th>arch</th> <td>None</td></tr><tr><th>tags</th> <td></td></tr><tr><th>versions</th> <td>5e1ddb2d-1c60-4f7b-865e-3b3eb0282ff6, 6041516c-7113-42f0-97bf-902945718ece</td></tr><tr><th>steps</th> <td>xgb-booster-rf-classification</td></tr><tr><th>published</th> <td>False</td></tr></table>"
      ],
      "text/plain": [
       "{'name': 'xgb-booster-rf-classification-pipeline-123', 'create_time': datetime.datetime(2023, 11, 17, 13, 33, 28, 878254, tzinfo=tzutc()), 'definition': \"[{'ModelInference': {'models': [{'name': 'xgb-booster-rf-classification', 'version': '0c4bb2ce-3f73-4a09-8e26-2b02e46e2496', 'sha': '141eeb77f04e16b500b5f0e60864be208586af4d61030de4fa1de8488b54fda4'}]}}]\"}"
      ]
     },
     "execution_count": 141,
     "metadata": {},
     "output_type": "execute_result"
    }
   ],
   "source": [
    "pipeline.undeploy()"
   ]
  },
  {
   "cell_type": "code",
   "execution_count": null,
   "id": "866abfb2-efbb-4b01-90b7-06df8020e9ba",
   "metadata": {},
   "outputs": [],
   "source": []
  }
 ],
 "metadata": {
  "kernelspec": {
   "display_name": "Python 3 (ipykernel)",
   "language": "python",
   "name": "python3"
  },
  "language_info": {
   "codemirror_mode": {
    "name": "ipython",
    "version": 3
   },
   "file_extension": ".py",
   "mimetype": "text/x-python",
   "name": "python",
   "nbconvert_exporter": "python",
   "pygments_lexer": "ipython3",
   "version": "3.9.13"
  }
 },
 "nbformat": 4,
 "nbformat_minor": 5
}
