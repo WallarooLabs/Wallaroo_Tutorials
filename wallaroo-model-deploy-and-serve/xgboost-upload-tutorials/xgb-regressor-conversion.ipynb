{
 "cells": [
  {
   "cell_type": "markdown",
   "id": "3c813723",
   "metadata": {},
   "source": [
    "# XGRegressor Example"
   ]
  },
  {
   "cell_type": "markdown",
   "id": "24cd74e9-5af7-4b3d-93b4-f09c9b5561dc",
   "metadata": {},
   "source": [
    "## Imports"
   ]
  },
  {
   "cell_type": "code",
   "execution_count": 1,
   "id": "58a2bdec-1c92-43b8-9c43-fa6bc6010b73",
   "metadata": {},
   "outputs": [],
   "source": [
    "import wallaroo\n",
    "from wallaroo.pipeline import Pipeline\n",
    "from wallaroo.deployment_config import DeploymentConfigBuilder\n",
    "import pyarrow as pa\n",
    "from wallaroo.framework import Framework\n",
    "\n",
    "import pickle\n",
    "from sklearn.datasets import load_diabetes\n",
    "\n",
    "wl = wallaroo.Client(auth_type=\"sso\", interactive=True)"
   ]
  },
  {
   "cell_type": "markdown",
   "id": "f0f8d805-a42d-48d1-8af6-c1b88932f764",
   "metadata": {},
   "source": [
    "## Data"
   ]
  },
  {
   "cell_type": "code",
   "execution_count": 2,
   "id": "94bdd2b2-063d-445e-ab38-012f17e3a242",
   "metadata": {},
   "outputs": [],
   "source": [
    "data = load_diabetes(as_frame=True)\n",
    "\n",
    "X = data['data'].values[:100]\n",
    "y = data['target'][:100]"
   ]
  },
  {
   "cell_type": "markdown",
   "id": "670a827e-0266-4661-bbf0-87aad1a5a875",
   "metadata": {},
   "source": [
    "## Configure & Upload Model"
   ]
  },
  {
   "cell_type": "markdown",
   "id": "ad3a257c-f8eb-4062-a025-a05f2eb2a36d",
   "metadata": {},
   "source": [
    "### Configure PyArrow Schema"
   ]
  },
  {
   "cell_type": "code",
   "execution_count": 3,
   "id": "d2f3c13b-5386-4bb1-87f4-8983a4df5f39",
   "metadata": {},
   "outputs": [],
   "source": [
    "input_schema = pa.schema([\n",
    "    pa.field('inputs', pa.list_(pa.float32(), list_size=10))\n",
    "])\n",
    "\n",
    "output_schema = pa.schema([\n",
    "    pa.field('predictions', pa.float32()),\n",
    "])"
   ]
  },
  {
   "cell_type": "markdown",
   "id": "f12d8885-afa8-4db8-9d36-daba4a5de38b",
   "metadata": {},
   "source": [
    "### Upload model"
   ]
  },
  {
   "cell_type": "markdown",
   "id": "1950fcbf",
   "metadata": {},
   "source": [
    "You can find the model uploaded in [model zoo](https://storage.cloud.google.com/wallaroo-model-zoo/model-auto-conversion/convert-non-native-frameworks/xgboost/xgb_regressor.pkl?authuser=0)."
   ]
  },
  {
   "cell_type": "code",
   "execution_count": 4,
   "id": "a61ca32a-67d0-49c9-9bce-9b3bf6d44dfd",
   "metadata": {},
   "outputs": [
    {
     "name": "stdout",
     "output_type": "stream",
     "text": [
      "Waiting for model loading - this will take up to 10.0min.\n",
      "Model is pending loading to a native runtime..\n",
      "Ready\n"
     ]
    },
    {
     "data": {
      "text/html": [
       "<table>\n",
       "        <tr>\n",
       "          <td>Name</td>\n",
       "          <td>xgb-regressor</td>\n",
       "        </tr>\n",
       "        <tr>\n",
       "          <td>Version</td>\n",
       "          <td>cd9dfd0c-1def-4bcc-a0ef-2e3b29f04ce8</td>\n",
       "        </tr>\n",
       "        <tr>\n",
       "          <td>File Name</td>\n",
       "          <td>xgb_regressor.pkl</td>\n",
       "        </tr>\n",
       "        <tr>\n",
       "          <td>SHA</td>\n",
       "          <td>8b2bc0c86d0baac42807fa069b0798bcf1ef61b19b8cd23c1bfca0b27d3defd7</td>\n",
       "        </tr>\n",
       "        <tr>\n",
       "          <td>Status</td>\n",
       "          <td>ready</td>\n",
       "        </tr>\n",
       "        <tr>\n",
       "          <td>Image Path</td>\n",
       "          <td>None</td>\n",
       "        </tr>\n",
       "        <tr>\n",
       "          <td>Architecture</td>\n",
       "          <td>None</td>\n",
       "        </tr>\n",
       "        <tr>\n",
       "          <td>Acceleration</td>\n",
       "          <td>None</td>\n",
       "        </tr>\n",
       "        <tr>\n",
       "          <td>Updated At</td>\n",
       "          <td>2024-18-Mar 11:19:45</td>\n",
       "        </tr>\n",
       "      </table>"
      ],
      "text/plain": [
       "{'name': 'xgb-regressor', 'version': 'cd9dfd0c-1def-4bcc-a0ef-2e3b29f04ce8', 'file_name': 'xgb_regressor.pkl', 'image_path': None, 'arch': None, 'accel': None, 'last_update_time': datetime.datetime(2024, 3, 18, 11, 19, 45, 937274, tzinfo=tzutc())}"
      ]
     },
     "execution_count": 4,
     "metadata": {},
     "output_type": "execute_result"
    }
   ],
   "source": [
    "model = wl.upload_model('xgb-regressor', 'xgb_regressor.pkl', framework=Framework.XGBOOST, input_schema=input_schema, output_schema=output_schema)\n",
    "model"
   ]
  },
  {
   "cell_type": "code",
   "execution_count": 5,
   "id": "0338c1a2-16e2-4b94-be40-9bf8f1f7d7bd",
   "metadata": {},
   "outputs": [
    {
     "data": {
      "text/plain": [
       "'onnx'"
      ]
     },
     "execution_count": 5,
     "metadata": {},
     "output_type": "execute_result"
    }
   ],
   "source": [
    "model.config().runtime()"
   ]
  },
  {
   "cell_type": "markdown",
   "id": "3dbcca65-4102-41c5-8d8a-a6434ade69a6",
   "metadata": {},
   "source": [
    "## Deploy Pipeline"
   ]
  },
  {
   "cell_type": "code",
   "execution_count": 6,
   "id": "afaa4557-f380-4259-8717-b3848005fd7d",
   "metadata": {},
   "outputs": [],
   "source": [
    "deployment_config = DeploymentConfigBuilder() \\\n",
    "    .cpus(0.25).memory('1Gi') \\\n",
    "    .build()"
   ]
  },
  {
   "cell_type": "code",
   "execution_count": 7,
   "id": "8324f3ee-f96a-44dc-9a47-d2f13a48bab7",
   "metadata": {},
   "outputs": [
    {
     "name": "stdout",
     "output_type": "stream",
     "text": [
      "Waiting for deployment - this will take up to 45s .............. ok\n"
     ]
    },
    {
     "data": {
      "text/plain": [
       "{'status': 'Running',\n",
       " 'details': [],\n",
       " 'engines': [{'ip': '10.223.128.175',\n",
       "   'name': 'engine-5b7b897556-7t5zw',\n",
       "   'status': 'Running',\n",
       "   'reason': None,\n",
       "   'details': [],\n",
       "   'pipeline_statuses': {'pipelines': [{'id': 'xgb-regression-pipeline',\n",
       "      'status': 'Running'}]},\n",
       "   'model_statuses': {'models': [{'config': {'batch_config': None,\n",
       "       'filter_threshold': None,\n",
       "       'id': 6,\n",
       "       'input_schema': '/////7AAAAAQAAAAAAAKAAwABgAFAAgACgAAAAABBAAMAAAACAAIAAAABAAIAAAABAAAAAEAAAAEAAAAyP///wAAARAUAAAAJAAAAAQAAAABAAAAMAAAAAYAAABpbnB1dHMAAAAABgAIAAQABgAAAAoAAAAQABQACAAGAAcADAAAABAAEAAAAAAAAQMQAAAAHAAAAAQAAAAAAAAABAAAAGl0ZW0AAAYACAAGAAYAAAAAAAEAAAAAAA==',\n",
       "       'model_version_id': 2,\n",
       "       'output_schema': '/////4AAAAAQAAAAAAAKAAwABgAFAAgACgAAAAABBAAMAAAACAAIAAAABAAIAAAABAAAAAEAAAAUAAAAEAAUAAgABgAHAAwAAAAQABAAAAAAAAEDEAAAACQAAAAEAAAAAAAAAAsAAABwcmVkaWN0aW9ucwAAAAYACAAGAAYAAAAAAAEAAAAAAA==',\n",
       "       'runtime': 'onnx',\n",
       "       'sidekick_uri': None,\n",
       "       'tensor_fields': None},\n",
       "      'model_version': {'conversion': {'framework': 'xgboost',\n",
       "        'python_version': '3.8',\n",
       "        'requirements': []},\n",
       "       'created_on_version': '2024.1.0',\n",
       "       'file_info': {'file_name': 'xgb_regressor.pkl',\n",
       "        'sha': '8b2bc0c86d0baac42807fa069b0798bcf1ef61b19b8cd23c1bfca0b27d3defd7',\n",
       "        'version': 'cd9dfd0c-1def-4bcc-a0ef-2e3b29f04ce8'},\n",
       "       'id': 2,\n",
       "       'image_path': None,\n",
       "       'name': 'xgb-regressor',\n",
       "       'status': 'ready',\n",
       "       'task_id': '457c2575-91cd-4b49-b827-21b80d3eb580',\n",
       "       'visibility': 'private',\n",
       "       'workspace_id': 1},\n",
       "      'status': 'Running'}]}}],\n",
       " 'engine_lbs': [{'ip': '10.223.128.176',\n",
       "   'name': 'engine-lb-7bcbb95695-ntgl6',\n",
       "   'status': 'Running',\n",
       "   'reason': None,\n",
       "   'details': []}],\n",
       " 'sidekicks': []}"
      ]
     },
     "execution_count": 7,
     "metadata": {},
     "output_type": "execute_result"
    }
   ],
   "source": [
    "pipeline_name = f\"xgb-regression-pipeline\"\n",
    "pipeline = wl.build_pipeline(pipeline_name)\n",
    "pipeline.add_model_step(model)\n",
    "\n",
    "pipeline.deploy(deployment_config=deployment_config)\n",
    "pipeline.status()"
   ]
  },
  {
   "cell_type": "markdown",
   "id": "33590194-abfd-4c48-9e83-888c1f61b724",
   "metadata": {},
   "source": [
    "## Run Inference"
   ]
  },
  {
   "cell_type": "code",
   "execution_count": 8,
   "id": "c6b04a3c-5147-4cba-81a7-dde2a675eb76",
   "metadata": {},
   "outputs": [
    {
     "data": {
      "text/html": [
       "<div>\n",
       "<style scoped>\n",
       "    .dataframe tbody tr th:only-of-type {\n",
       "        vertical-align: middle;\n",
       "    }\n",
       "\n",
       "    .dataframe tbody tr th {\n",
       "        vertical-align: top;\n",
       "    }\n",
       "\n",
       "    .dataframe thead th {\n",
       "        text-align: right;\n",
       "    }\n",
       "</style>\n",
       "<table border=\"1\" class=\"dataframe\">\n",
       "  <thead>\n",
       "    <tr style=\"text-align: right;\">\n",
       "      <th></th>\n",
       "      <th>inputs</th>\n",
       "    </tr>\n",
       "  </thead>\n",
       "  <tbody>\n",
       "    <tr>\n",
       "      <th>0</th>\n",
       "      <td>[0.038075906433423026, 0.05068011873981862, 0....</td>\n",
       "    </tr>\n",
       "    <tr>\n",
       "      <th>1</th>\n",
       "      <td>[-0.0018820165277906047, -0.044641636506989144...</td>\n",
       "    </tr>\n",
       "    <tr>\n",
       "      <th>2</th>\n",
       "      <td>[0.08529890629667548, 0.05068011873981862, 0.0...</td>\n",
       "    </tr>\n",
       "    <tr>\n",
       "      <th>3</th>\n",
       "      <td>[-0.0890629393522567, -0.044641636506989144, -...</td>\n",
       "    </tr>\n",
       "    <tr>\n",
       "      <th>4</th>\n",
       "      <td>[0.005383060374248237, -0.044641636506989144, ...</td>\n",
       "    </tr>\n",
       "    <tr>\n",
       "      <th>...</th>\n",
       "      <td>...</td>\n",
       "    </tr>\n",
       "    <tr>\n",
       "      <th>95</th>\n",
       "      <td>[-0.07090024709715959, -0.044641636506989144, ...</td>\n",
       "    </tr>\n",
       "    <tr>\n",
       "      <th>96</th>\n",
       "      <td>[0.056238598688520124, 0.05068011873981862, 0....</td>\n",
       "    </tr>\n",
       "    <tr>\n",
       "      <th>97</th>\n",
       "      <td>[-0.027309785684926546, -0.044641636506989144,...</td>\n",
       "    </tr>\n",
       "    <tr>\n",
       "      <th>98</th>\n",
       "      <td>[0.001750521923228816, 0.05068011873981862, -0...</td>\n",
       "    </tr>\n",
       "    <tr>\n",
       "      <th>99</th>\n",
       "      <td>[-0.0018820165277906047, -0.044641636506989144...</td>\n",
       "    </tr>\n",
       "  </tbody>\n",
       "</table>\n",
       "<p>100 rows × 1 columns</p>\n",
       "</div>"
      ],
      "text/plain": [
       "                                               inputs\n",
       "0   [0.038075906433423026, 0.05068011873981862, 0....\n",
       "1   [-0.0018820165277906047, -0.044641636506989144...\n",
       "2   [0.08529890629667548, 0.05068011873981862, 0.0...\n",
       "3   [-0.0890629393522567, -0.044641636506989144, -...\n",
       "4   [0.005383060374248237, -0.044641636506989144, ...\n",
       "..                                                ...\n",
       "95  [-0.07090024709715959, -0.044641636506989144, ...\n",
       "96  [0.056238598688520124, 0.05068011873981862, 0....\n",
       "97  [-0.027309785684926546, -0.044641636506989144,...\n",
       "98  [0.001750521923228816, 0.05068011873981862, -0...\n",
       "99  [-0.0018820165277906047, -0.044641636506989144...\n",
       "\n",
       "[100 rows x 1 columns]"
      ]
     },
     "execution_count": 8,
     "metadata": {},
     "output_type": "execute_result"
    }
   ],
   "source": [
    "import pandas as pd\n",
    "\n",
    "dataframe = pd.DataFrame({\"inputs\": X[:100].tolist()})\n",
    "dataframe"
   ]
  },
  {
   "cell_type": "markdown",
   "id": "1cdf718c-c0f1-4d0d-9423-41fb9570b3c3",
   "metadata": {},
   "source": [
    "Getting results from the pipeline:"
   ]
  },
  {
   "cell_type": "code",
   "execution_count": 9,
   "id": "3860fa57-c9ad-422a-8659-37f20f710257",
   "metadata": {},
   "outputs": [
    {
     "name": "stdout",
     "output_type": "stream",
     "text": [
      "CPU times: user 17.5 ms, sys: 1.51 ms, total: 19 ms\n",
      "Wall time: 37.5 ms\n"
     ]
    },
    {
     "data": {
      "text/html": [
       "<div>\n",
       "<style scoped>\n",
       "    .dataframe tbody tr th:only-of-type {\n",
       "        vertical-align: middle;\n",
       "    }\n",
       "\n",
       "    .dataframe tbody tr th {\n",
       "        vertical-align: top;\n",
       "    }\n",
       "\n",
       "    .dataframe thead th {\n",
       "        text-align: right;\n",
       "    }\n",
       "</style>\n",
       "<table border=\"1\" class=\"dataframe\">\n",
       "  <thead>\n",
       "    <tr style=\"text-align: right;\">\n",
       "      <th></th>\n",
       "      <th>time</th>\n",
       "      <th>in.inputs</th>\n",
       "      <th>out.predictions</th>\n",
       "      <th>anomaly.count</th>\n",
       "    </tr>\n",
       "  </thead>\n",
       "  <tbody>\n",
       "    <tr>\n",
       "      <th>0</th>\n",
       "      <td>2024-03-18 11:20:43.551</td>\n",
       "      <td>[0.0380759064, 0.0506801187, 0.0616962065, 0.0...</td>\n",
       "      <td>151.232500</td>\n",
       "      <td>0</td>\n",
       "    </tr>\n",
       "    <tr>\n",
       "      <th>1</th>\n",
       "      <td>2024-03-18 11:20:43.551</td>\n",
       "      <td>[-0.0018820165, -0.0446416365, -0.0514740612, ...</td>\n",
       "      <td>75.027435</td>\n",
       "      <td>0</td>\n",
       "    </tr>\n",
       "    <tr>\n",
       "      <th>2</th>\n",
       "      <td>2024-03-18 11:20:43.551</td>\n",
       "      <td>[0.0852989063, 0.0506801187, 0.0444512133, -0....</td>\n",
       "      <td>141.047700</td>\n",
       "      <td>0</td>\n",
       "    </tr>\n",
       "    <tr>\n",
       "      <th>3</th>\n",
       "      <td>2024-03-18 11:20:43.551</td>\n",
       "      <td>[-0.0890629394, -0.0446416365, -0.0115950145, ...</td>\n",
       "      <td>205.850620</td>\n",
       "      <td>0</td>\n",
       "    </tr>\n",
       "    <tr>\n",
       "      <th>4</th>\n",
       "      <td>2024-03-18 11:20:43.551</td>\n",
       "      <td>[0.0053830604, -0.0446416365, -0.0363846922, 0...</td>\n",
       "      <td>135.084580</td>\n",
       "      <td>0</td>\n",
       "    </tr>\n",
       "    <tr>\n",
       "      <th>...</th>\n",
       "      <td>...</td>\n",
       "      <td>...</td>\n",
       "      <td>...</td>\n",
       "      <td>...</td>\n",
       "    </tr>\n",
       "    <tr>\n",
       "      <th>95</th>\n",
       "      <td>2024-03-18 11:20:43.551</td>\n",
       "      <td>[-0.0709002471, -0.0446416365, -0.0579409337, ...</td>\n",
       "      <td>162.006600</td>\n",
       "      <td>0</td>\n",
       "    </tr>\n",
       "    <tr>\n",
       "      <th>96</th>\n",
       "      <td>2024-03-18 11:20:43.551</td>\n",
       "      <td>[0.0562385987, 0.0506801187, 0.009961227, 0.04...</td>\n",
       "      <td>149.929400</td>\n",
       "      <td>0</td>\n",
       "    </tr>\n",
       "    <tr>\n",
       "      <th>97</th>\n",
       "      <td>2024-03-18 11:20:43.551</td>\n",
       "      <td>[-0.0273097857, -0.0446416365, 0.0886415084, -...</td>\n",
       "      <td>278.562560</td>\n",
       "      <td>0</td>\n",
       "    </tr>\n",
       "    <tr>\n",
       "      <th>98</th>\n",
       "      <td>2024-03-18 11:20:43.551</td>\n",
       "      <td>[0.0017505219, 0.0506801187, -0.0051281421, -0...</td>\n",
       "      <td>91.701310</td>\n",
       "      <td>0</td>\n",
       "    </tr>\n",
       "    <tr>\n",
       "      <th>99</th>\n",
       "      <td>2024-03-18 11:20:43.551</td>\n",
       "      <td>[-0.0018820165, -0.0446416365, -0.0644078061, ...</td>\n",
       "      <td>83.313730</td>\n",
       "      <td>0</td>\n",
       "    </tr>\n",
       "  </tbody>\n",
       "</table>\n",
       "<p>100 rows × 4 columns</p>\n",
       "</div>"
      ],
      "text/plain": [
       "                      time                                          in.inputs  \\\n",
       "0  2024-03-18 11:20:43.551  [0.0380759064, 0.0506801187, 0.0616962065, 0.0...   \n",
       "1  2024-03-18 11:20:43.551  [-0.0018820165, -0.0446416365, -0.0514740612, ...   \n",
       "2  2024-03-18 11:20:43.551  [0.0852989063, 0.0506801187, 0.0444512133, -0....   \n",
       "3  2024-03-18 11:20:43.551  [-0.0890629394, -0.0446416365, -0.0115950145, ...   \n",
       "4  2024-03-18 11:20:43.551  [0.0053830604, -0.0446416365, -0.0363846922, 0...   \n",
       "..                     ...                                                ...   \n",
       "95 2024-03-18 11:20:43.551  [-0.0709002471, -0.0446416365, -0.0579409337, ...   \n",
       "96 2024-03-18 11:20:43.551  [0.0562385987, 0.0506801187, 0.009961227, 0.04...   \n",
       "97 2024-03-18 11:20:43.551  [-0.0273097857, -0.0446416365, 0.0886415084, -...   \n",
       "98 2024-03-18 11:20:43.551  [0.0017505219, 0.0506801187, -0.0051281421, -0...   \n",
       "99 2024-03-18 11:20:43.551  [-0.0018820165, -0.0446416365, -0.0644078061, ...   \n",
       "\n",
       "    out.predictions  anomaly.count  \n",
       "0        151.232500              0  \n",
       "1         75.027435              0  \n",
       "2        141.047700              0  \n",
       "3        205.850620              0  \n",
       "4        135.084580              0  \n",
       "..              ...            ...  \n",
       "95       162.006600              0  \n",
       "96       149.929400              0  \n",
       "97       278.562560              0  \n",
       "98        91.701310              0  \n",
       "99        83.313730              0  \n",
       "\n",
       "[100 rows x 4 columns]"
      ]
     },
     "execution_count": 9,
     "metadata": {},
     "output_type": "execute_result"
    }
   ],
   "source": [
    "%%time\n",
    "pipeline.infer(dataframe)"
   ]
  },
  {
   "cell_type": "markdown",
   "id": "0f9beac7-5fbe-4eae-b210-2303c972cd97",
   "metadata": {},
   "source": [
    "Comparing them to the original model:"
   ]
  },
  {
   "cell_type": "code",
   "execution_count": 10,
   "id": "0ef2900c-791b-4723-8542-3f05c21032cc",
   "metadata": {},
   "outputs": [],
   "source": [
    "import pickle\n",
    "\n",
    "with open(\"xgb_regressor.pkl\", \"rb\") as fp:\n",
    "    model = pickle.load(fp)"
   ]
  },
  {
   "cell_type": "code",
   "execution_count": 11,
   "id": "db553ed2-0273-41f5-81d9-fca8af806d5a",
   "metadata": {},
   "outputs": [
    {
     "data": {
      "text/plain": [
       "array([151.23256 ,  75.027435], dtype=float32)"
      ]
     },
     "execution_count": 11,
     "metadata": {},
     "output_type": "execute_result"
    }
   ],
   "source": [
    "model.predict(X[:2])"
   ]
  },
  {
   "cell_type": "markdown",
   "id": "28c42355-6fad-42d1-ab39-8354b31b06aa",
   "metadata": {},
   "source": [
    "## Undeploy Pipelines"
   ]
  },
  {
   "cell_type": "code",
   "execution_count": 12,
   "id": "694064c0-fc44-4e56-96cc-4990b7c084bd",
   "metadata": {},
   "outputs": [
    {
     "name": "stdout",
     "output_type": "stream",
     "text": [
      "Waiting for undeployment - this will take up to 45s ..................................... ok\n"
     ]
    },
    {
     "data": {
      "text/html": [
       "<table><tr><th>name</th> <td>xgb-regression-pipeline</td></tr><tr><th>created</th> <td>2024-03-18 11:20:03.590129+00:00</td></tr><tr><th>last_updated</th> <td>2024-03-18 11:20:03.637267+00:00</td></tr><tr><th>deployed</th> <td>False</td></tr><tr><th>arch</th> <td>None</td></tr><tr><th>accel</th> <td>None</td></tr><tr><th>tags</th> <td></td></tr><tr><th>versions</th> <td>5bcd61a8-1f1c-4157-96f8-6c72138545fe, 6543a14c-0a48-4ce9-ac9b-c5704a4178ec</td></tr><tr><th>steps</th> <td>xgb-regressor</td></tr><tr><th>published</th> <td>False</td></tr></table>"
      ],
      "text/plain": [
       "{'name': 'xgb-regression-pipeline', 'create_time': datetime.datetime(2024, 3, 18, 11, 20, 3, 590129, tzinfo=tzutc()), 'definition': \"[{'ModelInference': {'models': [{'name': 'xgb-regressor', 'version': 'cd9dfd0c-1def-4bcc-a0ef-2e3b29f04ce8', 'sha': '8b2bc0c86d0baac42807fa069b0798bcf1ef61b19b8cd23c1bfca0b27d3defd7'}]}}]\"}"
      ]
     },
     "execution_count": 12,
     "metadata": {},
     "output_type": "execute_result"
    }
   ],
   "source": [
    "pipeline.undeploy()"
   ]
  }
 ],
 "metadata": {
  "kernelspec": {
   "display_name": "Python 3 (ipykernel)",
   "language": "python",
   "name": "python3"
  },
  "language_info": {
   "codemirror_mode": {
    "name": "ipython",
    "version": 3
   },
   "file_extension": ".py",
   "mimetype": "text/x-python",
   "name": "python",
   "nbconvert_exporter": "python",
   "pygments_lexer": "ipython3",
   "version": "3.9.13"
  }
 },
 "nbformat": 4,
 "nbformat_minor": 5
}
