{
 "cells": [
  {
   "cell_type": "markdown",
   "id": "3c813723",
   "metadata": {},
   "source": [
    "# Booster RF Classification Example"
   ]
  },
  {
   "cell_type": "markdown",
   "id": "24cd74e9-5af7-4b3d-93b4-f09c9b5561dc",
   "metadata": {},
   "source": [
    "## Imports"
   ]
  },
  {
   "cell_type": "code",
   "execution_count": 1,
   "id": "58a2bdec-1c92-43b8-9c43-fa6bc6010b73",
   "metadata": {
    "tags": []
   },
   "outputs": [],
   "source": [
    "import wallaroo\n",
    "from wallaroo.pipeline import Pipeline\n",
    "from wallaroo.deployment_config import DeploymentConfigBuilder\n",
    "import pyarrow as pa\n",
    "import pandas as pd\n",
    "import numpy as np\n",
    "from wallaroo.framework import Framework\n",
    "\n",
    "import pickle\n",
    "from sklearn.datasets import load_breast_cancer\n",
    "from sklearn.model_selection import train_test_split\n",
    "from xgboost import train, DMatrix\n",
    "\n",
    "wl = wallaroo.Client(auth_type=\"sso\", interactive=True)"
   ]
  },
  {
   "cell_type": "markdown",
   "id": "f0f8d805-a42d-48d1-8af6-c1b88932f764",
   "metadata": {},
   "source": [
    "## Data"
   ]
  },
  {
   "cell_type": "markdown",
   "id": "7aa73956-a234-4d34-a3ee-0af1e12a8def",
   "metadata": {},
   "source": [
    "Load data:"
   ]
  },
  {
   "cell_type": "code",
   "execution_count": 2,
   "id": "ce4ba279-7079-4665-8f1d-013c1d5f4a71",
   "metadata": {},
   "outputs": [],
   "source": [
    "dataset = load_breast_cancer()\n",
    "X, y = dataset.data, dataset.target\n",
    "X_train, X_test, y_train, y_test = train_test_split(\n",
    "    X, y, test_size=0.2, random_state=42\n",
    ")\n",
    "dtrain = DMatrix(X_train, label=y_train)\n",
    "dtest = DMatrix(X_test, label=y_test)"
   ]
  },
  {
   "cell_type": "markdown",
   "id": "458f4b29-450c-4a52-9f36-562f4f8123dc",
   "metadata": {},
   "source": [
    "Load raw model:"
   ]
  },
  {
   "cell_type": "code",
   "execution_count": 3,
   "id": "ed81b453-f6b0-4fe0-800d-66c4a58dfcb8",
   "metadata": {},
   "outputs": [],
   "source": [
    "with open(\"booster_rf_classification.pkl\", \"rb\") as fp:\n",
    "    raw_model = pickle.load(fp)"
   ]
  },
  {
   "cell_type": "markdown",
   "id": "670a827e-0266-4661-bbf0-87aad1a5a875",
   "metadata": {},
   "source": [
    "## Configure & Upload Model"
   ]
  },
  {
   "cell_type": "markdown",
   "id": "ad3a257c-f8eb-4062-a025-a05f2eb2a36d",
   "metadata": {},
   "source": [
    "### Configure PyArrow Schema"
   ]
  },
  {
   "cell_type": "code",
   "execution_count": 4,
   "id": "d2f3c13b-5386-4bb1-87f4-8983a4df5f39",
   "metadata": {},
   "outputs": [],
   "source": [
    "input_schema = pa.schema([\n",
    "    pa.field('inputs', pa.list_(pa.float32(), list_size=30))\n",
    "])\n",
    "\n",
    "output_schema = pa.schema([\n",
    "    pa.field('probabilities', pa.float32()),\n",
    "])"
   ]
  },
  {
   "cell_type": "markdown",
   "id": "f12d8885-afa8-4db8-9d36-daba4a5de38b",
   "metadata": {},
   "source": [
    "### Upload model"
   ]
  },
  {
   "cell_type": "markdown",
   "id": "ddfbfbbf-892a-4892-9ee2-5a708c6cc40a",
   "metadata": {},
   "source": [
    "You can find the model uploaded in [model zoo](https://storage.cloud.google.com/wallaroo-model-zoo/model-auto-conversion/convert-non-native-frameworks/xgboost/xgb_booster_rf_classification.pkl)."
   ]
  },
  {
   "cell_type": "code",
   "execution_count": 5,
   "id": "a61ca32a-67d0-49c9-9bce-9b3bf6d44dfd",
   "metadata": {},
   "outputs": [
    {
     "name": "stdout",
     "output_type": "stream",
     "text": [
      "Waiting for model loading - this will take up to 10.0min.\n",
      "Model is pending loading to a native runtime..\n",
      "Ready\n"
     ]
    },
    {
     "data": {
      "text/html": [
       "<table>\n",
       "        <tr>\n",
       "          <td>Name</td>\n",
       "          <td>booster-rf-classification</td>\n",
       "        </tr>\n",
       "        <tr>\n",
       "          <td>Version</td>\n",
       "          <td>533d860a-1135-4e15-87dc-740f6ff1a758</td>\n",
       "        </tr>\n",
       "        <tr>\n",
       "          <td>File Name</td>\n",
       "          <td>booster_rf_classification.pkl</td>\n",
       "        </tr>\n",
       "        <tr>\n",
       "          <td>SHA</td>\n",
       "          <td>141eeb77f04e16b500b5f0e60864be208586af4d61030de4fa1de8488b54fda4</td>\n",
       "        </tr>\n",
       "        <tr>\n",
       "          <td>Status</td>\n",
       "          <td>ready</td>\n",
       "        </tr>\n",
       "        <tr>\n",
       "          <td>Image Path</td>\n",
       "          <td>None</td>\n",
       "        </tr>\n",
       "        <tr>\n",
       "          <td>Architecture</td>\n",
       "          <td>None</td>\n",
       "        </tr>\n",
       "        <tr>\n",
       "          <td>Acceleration</td>\n",
       "          <td>None</td>\n",
       "        </tr>\n",
       "        <tr>\n",
       "          <td>Updated At</td>\n",
       "          <td>2024-18-Mar 12:24:33</td>\n",
       "        </tr>\n",
       "      </table>"
      ],
      "text/plain": [
       "{'name': 'booster-rf-classification', 'version': '533d860a-1135-4e15-87dc-740f6ff1a758', 'file_name': 'booster_rf_classification.pkl', 'image_path': None, 'arch': None, 'accel': None, 'last_update_time': datetime.datetime(2024, 3, 18, 12, 24, 33, 485890, tzinfo=tzutc())}"
      ]
     },
     "execution_count": 5,
     "metadata": {},
     "output_type": "execute_result"
    }
   ],
   "source": [
    "model = wl.upload_model('booster-rf-classification', 'booster_rf_classification.pkl', framework=Framework.XGBOOST, input_schema=input_schema, output_schema=output_schema)\n",
    "model"
   ]
  },
  {
   "cell_type": "code",
   "execution_count": 6,
   "id": "a7c4c446-7546-428b-acff-de3e7d5e94ab",
   "metadata": {},
   "outputs": [
    {
     "data": {
      "text/plain": [
       "'onnx'"
      ]
     },
     "execution_count": 6,
     "metadata": {},
     "output_type": "execute_result"
    }
   ],
   "source": [
    "model.config().runtime()"
   ]
  },
  {
   "cell_type": "markdown",
   "id": "3dbcca65-4102-41c5-8d8a-a6434ade69a6",
   "metadata": {},
   "source": [
    "## Deploy Pipeline"
   ]
  },
  {
   "cell_type": "code",
   "execution_count": 7,
   "id": "afaa4557-f380-4259-8717-b3848005fd7d",
   "metadata": {},
   "outputs": [],
   "source": [
    "deployment_config = DeploymentConfigBuilder() \\\n",
    "    .cpus(0.25).memory('1Gi') \\\n",
    "    .build()"
   ]
  },
  {
   "cell_type": "code",
   "execution_count": 8,
   "id": "8324f3ee-f96a-44dc-9a47-d2f13a48bab7",
   "metadata": {},
   "outputs": [
    {
     "name": "stdout",
     "output_type": "stream",
     "text": [
      "Waiting for deployment - this will take up to 45s ............ ok\n"
     ]
    },
    {
     "data": {
      "text/plain": [
       "{'status': 'Running',\n",
       " 'details': [],\n",
       " 'engines': [{'ip': '10.223.128.33',\n",
       "   'name': 'engine-5546c764c7-cbgwn',\n",
       "   'status': 'Running',\n",
       "   'reason': None,\n",
       "   'details': [],\n",
       "   'pipeline_statuses': {'pipelines': [{'id': 'booster-rf-classification-pipeline',\n",
       "      'status': 'Running'}]},\n",
       "   'model_statuses': {'models': [{'config': {'batch_config': None,\n",
       "       'filter_threshold': None,\n",
       "       'id': 12,\n",
       "       'input_schema': '/////7AAAAAQAAAAAAAKAAwABgAFAAgACgAAAAABBAAMAAAACAAIAAAABAAIAAAABAAAAAEAAAAEAAAAyP///wAAARAUAAAAJAAAAAQAAAABAAAAMAAAAAYAAABpbnB1dHMAAAAABgAIAAQABgAAAB4AAAAQABQACAAGAAcADAAAABAAEAAAAAAAAQMQAAAAHAAAAAQAAAAAAAAABAAAAGl0ZW0AAAYACAAGAAYAAAAAAAEAAAAAAA==',\n",
       "       'model_version_id': 4,\n",
       "       'output_schema': '/////4AAAAAQAAAAAAAKAAwABgAFAAgACgAAAAABBAAMAAAACAAIAAAABAAIAAAABAAAAAEAAAAUAAAAEAAUAAgABgAHAAwAAAAQABAAAAAAAAEDEAAAACQAAAAEAAAAAAAAAA0AAABwcm9iYWJpbGl0aWVzAAYACAAGAAYAAAAAAAEAAAAAAA==',\n",
       "       'runtime': 'onnx',\n",
       "       'sidekick_uri': None,\n",
       "       'tensor_fields': None},\n",
       "      'model_version': {'conversion': {'framework': 'xgboost',\n",
       "        'python_version': '3.8',\n",
       "        'requirements': []},\n",
       "       'created_on_version': '2024.1.0',\n",
       "       'file_info': {'file_name': 'booster_rf_classification.pkl',\n",
       "        'sha': '141eeb77f04e16b500b5f0e60864be208586af4d61030de4fa1de8488b54fda4',\n",
       "        'version': 'c3bec745-7f9e-41f2-a12e-34b7e702cb29'},\n",
       "       'id': 4,\n",
       "       'image_path': None,\n",
       "       'name': 'booster-rf-classification',\n",
       "       'status': 'ready',\n",
       "       'task_id': 'b3e0f66a-7c56-451b-adb0-ec55f19e0fd4',\n",
       "       'visibility': 'private',\n",
       "       'workspace_id': 1},\n",
       "      'status': 'Running'}]}}],\n",
       " 'engine_lbs': [{'ip': '10.223.128.32',\n",
       "   'name': 'engine-lb-7bcbb95695-6rt77',\n",
       "   'status': 'Running',\n",
       "   'reason': None,\n",
       "   'details': []}],\n",
       " 'sidekicks': []}"
      ]
     },
     "execution_count": 8,
     "metadata": {},
     "output_type": "execute_result"
    }
   ],
   "source": [
    "pipeline_name = f\"booster-rf-classification-pipeline\"\n",
    "pipeline = wl.build_pipeline(pipeline_name)\n",
    "pipeline.add_model_step(model)\n",
    "\n",
    "pipeline.deploy(deployment_config=deployment_config)\n",
    "pipeline.status()"
   ]
  },
  {
   "cell_type": "markdown",
   "id": "33590194-abfd-4c48-9e83-888c1f61b724",
   "metadata": {},
   "source": [
    "## Run Inference"
   ]
  },
  {
   "cell_type": "code",
   "execution_count": 9,
   "id": "c1cbfb13-d7ab-465d-8370-d5edbcce62c0",
   "metadata": {},
   "outputs": [],
   "source": [
    "data = dtest.get_data().todense()[:100]"
   ]
  },
  {
   "cell_type": "code",
   "execution_count": 10,
   "id": "622b7558-bfb4-4fb2-889d-b1c8c6e2734e",
   "metadata": {},
   "outputs": [
    {
     "data": {
      "text/html": [
       "<div>\n",
       "<style scoped>\n",
       "    .dataframe tbody tr th:only-of-type {\n",
       "        vertical-align: middle;\n",
       "    }\n",
       "\n",
       "    .dataframe tbody tr th {\n",
       "        vertical-align: top;\n",
       "    }\n",
       "\n",
       "    .dataframe thead th {\n",
       "        text-align: right;\n",
       "    }\n",
       "</style>\n",
       "<table border=\"1\" class=\"dataframe\">\n",
       "  <thead>\n",
       "    <tr style=\"text-align: right;\">\n",
       "      <th></th>\n",
       "      <th>inputs</th>\n",
       "    </tr>\n",
       "  </thead>\n",
       "  <tbody>\n",
       "    <tr>\n",
       "      <th>0</th>\n",
       "      <td>[12.470000267028809, 18.600000381469727, 81.08...</td>\n",
       "    </tr>\n",
       "    <tr>\n",
       "      <th>1</th>\n",
       "      <td>[18.940000534057617, 21.309999465942383, 123.5...</td>\n",
       "    </tr>\n",
       "    <tr>\n",
       "      <th>2</th>\n",
       "      <td>[15.460000038146973, 19.479999542236328, 101.6...</td>\n",
       "    </tr>\n",
       "    <tr>\n",
       "      <th>3</th>\n",
       "      <td>[12.399999618530273, 17.68000030517578, 81.470...</td>\n",
       "    </tr>\n",
       "    <tr>\n",
       "      <th>4</th>\n",
       "      <td>[11.539999961853027, 14.4399995803833, 74.6500...</td>\n",
       "    </tr>\n",
       "    <tr>\n",
       "      <th>...</th>\n",
       "      <td>...</td>\n",
       "    </tr>\n",
       "    <tr>\n",
       "      <th>95</th>\n",
       "      <td>[9.777000427246094, 16.989999771118164, 62.5, ...</td>\n",
       "    </tr>\n",
       "    <tr>\n",
       "      <th>96</th>\n",
       "      <td>[20.1299991607666, 28.25, 131.1999969482422, 1...</td>\n",
       "    </tr>\n",
       "    <tr>\n",
       "      <th>97</th>\n",
       "      <td>[13.8100004196167, 23.75, 91.55999755859375, 5...</td>\n",
       "    </tr>\n",
       "    <tr>\n",
       "      <th>98</th>\n",
       "      <td>[11.149999618530273, 13.079999923706055, 70.87...</td>\n",
       "    </tr>\n",
       "    <tr>\n",
       "      <th>99</th>\n",
       "      <td>[17.270000457763672, 25.420000076293945, 112.4...</td>\n",
       "    </tr>\n",
       "  </tbody>\n",
       "</table>\n",
       "<p>100 rows × 1 columns</p>\n",
       "</div>"
      ],
      "text/plain": [
       "                                               inputs\n",
       "0   [12.470000267028809, 18.600000381469727, 81.08...\n",
       "1   [18.940000534057617, 21.309999465942383, 123.5...\n",
       "2   [15.460000038146973, 19.479999542236328, 101.6...\n",
       "3   [12.399999618530273, 17.68000030517578, 81.470...\n",
       "4   [11.539999961853027, 14.4399995803833, 74.6500...\n",
       "..                                                ...\n",
       "95  [9.777000427246094, 16.989999771118164, 62.5, ...\n",
       "96  [20.1299991607666, 28.25, 131.1999969482422, 1...\n",
       "97  [13.8100004196167, 23.75, 91.55999755859375, 5...\n",
       "98  [11.149999618530273, 13.079999923706055, 70.87...\n",
       "99  [17.270000457763672, 25.420000076293945, 112.4...\n",
       "\n",
       "[100 rows x 1 columns]"
      ]
     },
     "execution_count": 10,
     "metadata": {},
     "output_type": "execute_result"
    }
   ],
   "source": [
    "import pandas as pd\n",
    "\n",
    "dataframe = pd.DataFrame({\"inputs\": data.tolist()})\n",
    "dataframe"
   ]
  },
  {
   "cell_type": "markdown",
   "id": "0d8550b5-e67f-469f-a9b7-b97a0c7ec4bc",
   "metadata": {},
   "source": [
    "Get results from the pipeline:"
   ]
  },
  {
   "cell_type": "code",
   "execution_count": 11,
   "id": "84e5d49b-9515-4b17-a4ff-cf91c72b571b",
   "metadata": {},
   "outputs": [
    {
     "name": "stdout",
     "output_type": "stream",
     "text": [
      "CPU times: user 14.8 ms, sys: 950 µs, total: 15.7 ms\n",
      "Wall time: 26.4 ms\n"
     ]
    },
    {
     "data": {
      "text/html": [
       "<div>\n",
       "<style scoped>\n",
       "    .dataframe tbody tr th:only-of-type {\n",
       "        vertical-align: middle;\n",
       "    }\n",
       "\n",
       "    .dataframe tbody tr th {\n",
       "        vertical-align: top;\n",
       "    }\n",
       "\n",
       "    .dataframe thead th {\n",
       "        text-align: right;\n",
       "    }\n",
       "</style>\n",
       "<table border=\"1\" class=\"dataframe\">\n",
       "  <thead>\n",
       "    <tr style=\"text-align: right;\">\n",
       "      <th></th>\n",
       "      <th>time</th>\n",
       "      <th>in.inputs</th>\n",
       "      <th>out.probabilities</th>\n",
       "      <th>anomaly.count</th>\n",
       "    </tr>\n",
       "  </thead>\n",
       "  <tbody>\n",
       "    <tr>\n",
       "      <th>0</th>\n",
       "      <td>2024-03-18 12:24:48.171</td>\n",
       "      <td>[12.470000267, 18.6000003815, 81.0899963379, 4...</td>\n",
       "      <td>0.872063</td>\n",
       "      <td>0</td>\n",
       "    </tr>\n",
       "    <tr>\n",
       "      <th>1</th>\n",
       "      <td>2024-03-18 12:24:48.171</td>\n",
       "      <td>[18.9400005341, 21.3099994659, 123.5999984741,...</td>\n",
       "      <td>0.126989</td>\n",
       "      <td>0</td>\n",
       "    </tr>\n",
       "    <tr>\n",
       "      <th>2</th>\n",
       "      <td>2024-03-18 12:24:48.171</td>\n",
       "      <td>[15.4600000381, 19.4799995422, 101.6999969482,...</td>\n",
       "      <td>0.126989</td>\n",
       "      <td>0</td>\n",
       "    </tr>\n",
       "    <tr>\n",
       "      <th>3</th>\n",
       "      <td>2024-03-18 12:24:48.171</td>\n",
       "      <td>[12.3999996185, 17.6800003052, 81.4700012207, ...</td>\n",
       "      <td>0.872063</td>\n",
       "      <td>0</td>\n",
       "    </tr>\n",
       "    <tr>\n",
       "      <th>4</th>\n",
       "      <td>2024-03-18 12:24:48.171</td>\n",
       "      <td>[11.5399999619, 14.4399995804, 74.6500015259, ...</td>\n",
       "      <td>0.872063</td>\n",
       "      <td>0</td>\n",
       "    </tr>\n",
       "    <tr>\n",
       "      <th>...</th>\n",
       "      <td>...</td>\n",
       "      <td>...</td>\n",
       "      <td>...</td>\n",
       "      <td>...</td>\n",
       "    </tr>\n",
       "    <tr>\n",
       "      <th>95</th>\n",
       "      <td>2024-03-18 12:24:48.171</td>\n",
       "      <td>[9.7770004272, 16.9899997711, 62.5, 290.200012...</td>\n",
       "      <td>0.872063</td>\n",
       "      <td>0</td>\n",
       "    </tr>\n",
       "    <tr>\n",
       "      <th>96</th>\n",
       "      <td>2024-03-18 12:24:48.171</td>\n",
       "      <td>[20.1299991608, 28.25, 131.1999969482, 1261.0,...</td>\n",
       "      <td>0.126989</td>\n",
       "      <td>0</td>\n",
       "    </tr>\n",
       "    <tr>\n",
       "      <th>97</th>\n",
       "      <td>2024-03-18 12:24:48.171</td>\n",
       "      <td>[13.8100004196, 23.75, 91.5599975586, 597.7999...</td>\n",
       "      <td>0.126989</td>\n",
       "      <td>0</td>\n",
       "    </tr>\n",
       "    <tr>\n",
       "      <th>98</th>\n",
       "      <td>2024-03-18 12:24:48.171</td>\n",
       "      <td>[11.1499996185, 13.0799999237, 70.8700027466, ...</td>\n",
       "      <td>0.872063</td>\n",
       "      <td>0</td>\n",
       "    </tr>\n",
       "    <tr>\n",
       "      <th>99</th>\n",
       "      <td>2024-03-18 12:24:48.171</td>\n",
       "      <td>[17.2700004578, 25.4200000763, 112.4000015259,...</td>\n",
       "      <td>0.126989</td>\n",
       "      <td>0</td>\n",
       "    </tr>\n",
       "  </tbody>\n",
       "</table>\n",
       "<p>100 rows × 4 columns</p>\n",
       "</div>"
      ],
      "text/plain": [
       "                      time                                          in.inputs  \\\n",
       "0  2024-03-18 12:24:48.171  [12.470000267, 18.6000003815, 81.0899963379, 4...   \n",
       "1  2024-03-18 12:24:48.171  [18.9400005341, 21.3099994659, 123.5999984741,...   \n",
       "2  2024-03-18 12:24:48.171  [15.4600000381, 19.4799995422, 101.6999969482,...   \n",
       "3  2024-03-18 12:24:48.171  [12.3999996185, 17.6800003052, 81.4700012207, ...   \n",
       "4  2024-03-18 12:24:48.171  [11.5399999619, 14.4399995804, 74.6500015259, ...   \n",
       "..                     ...                                                ...   \n",
       "95 2024-03-18 12:24:48.171  [9.7770004272, 16.9899997711, 62.5, 290.200012...   \n",
       "96 2024-03-18 12:24:48.171  [20.1299991608, 28.25, 131.1999969482, 1261.0,...   \n",
       "97 2024-03-18 12:24:48.171  [13.8100004196, 23.75, 91.5599975586, 597.7999...   \n",
       "98 2024-03-18 12:24:48.171  [11.1499996185, 13.0799999237, 70.8700027466, ...   \n",
       "99 2024-03-18 12:24:48.171  [17.2700004578, 25.4200000763, 112.4000015259,...   \n",
       "\n",
       "    out.probabilities  anomaly.count  \n",
       "0            0.872063              0  \n",
       "1            0.126989              0  \n",
       "2            0.126989              0  \n",
       "3            0.872063              0  \n",
       "4            0.872063              0  \n",
       "..                ...            ...  \n",
       "95           0.872063              0  \n",
       "96           0.126989              0  \n",
       "97           0.126989              0  \n",
       "98           0.872063              0  \n",
       "99           0.126989              0  \n",
       "\n",
       "[100 rows x 4 columns]"
      ]
     },
     "execution_count": 11,
     "metadata": {},
     "output_type": "execute_result"
    }
   ],
   "source": [
    "%%time\n",
    "pipeline.infer(dataframe)"
   ]
  },
  {
   "cell_type": "markdown",
   "id": "1cf90599-72db-4ed3-9077-9ab7cde98673",
   "metadata": {},
   "source": [
    "Comparing them to the original model:"
   ]
  },
  {
   "cell_type": "code",
   "execution_count": 12,
   "id": "cdd2a4ec-bd7a-4a26-b5b6-032b507a3b34",
   "metadata": {},
   "outputs": [
    {
     "data": {
      "text/plain": [
       "array([0.87206346, 0.12698936, 0.12698936, 0.87206346, 0.87206346,\n",
       "       0.12698936, 0.12698936, 0.63091993, 0.5152838 , 0.87206346,\n",
       "       0.87206346, 0.16085385, 0.87206346, 0.24110334, 0.87206346,\n",
       "       0.12698936, 0.87206346, 0.87206346, 0.87206346, 0.12698936,\n",
       "       0.87206346, 0.87206346, 0.12698936, 0.87206346, 0.87206346,\n",
       "       0.84158796, 0.87206346, 0.87206346, 0.87206346, 0.12698936,\n",
       "       0.87206346, 0.87206346, 0.54983395, 0.87206346, 0.87206346,\n",
       "       0.87206346, 0.33302268, 0.8227614 , 0.12698936, 0.87206346,\n",
       "       0.87206346, 0.12698936, 0.87206346, 0.87206346, 0.7319315 ,\n",
       "       0.87206346, 0.87206346, 0.8227614 , 0.87206346, 0.87206346,\n",
       "       0.12698936, 0.12698936, 0.72419685, 0.84158796, 0.87206346,\n",
       "       0.87206346, 0.87206346, 0.12698936, 0.21343476, 0.87206346,\n",
       "       0.87206346, 0.12698936, 0.12698936, 0.87206346, 0.87206346,\n",
       "       0.83846515, 0.12698936, 0.1621926 , 0.87206346, 0.87206346,\n",
       "       0.20617768, 0.12698936, 0.87206346, 0.12698936, 0.87206346,\n",
       "       0.84158796, 0.87206346, 0.5755647 , 0.87206346, 0.84158796,\n",
       "       0.13672073, 0.87206346, 0.87206346, 0.12698936, 0.21752791,\n",
       "       0.12698936, 0.21357852, 0.12698936, 0.87206346, 0.87206346,\n",
       "       0.87206346, 0.87206346, 0.5755647 , 0.8368041 , 0.87206346,\n",
       "       0.87206346, 0.12698936, 0.12698936, 0.87206346, 0.12698936],\n",
       "      dtype=float32)"
      ]
     },
     "execution_count": 12,
     "metadata": {},
     "output_type": "execute_result"
    }
   ],
   "source": [
    "raw_model.predict(dtest)[:100]"
   ]
  },
  {
   "cell_type": "markdown",
   "id": "28c42355-6fad-42d1-ab39-8354b31b06aa",
   "metadata": {},
   "source": [
    "## Undeploy Pipelines"
   ]
  },
  {
   "cell_type": "code",
   "execution_count": 13,
   "id": "694064c0-fc44-4e56-96cc-4990b7c084bd",
   "metadata": {},
   "outputs": [
    {
     "name": "stdout",
     "output_type": "stream",
     "text": [
      "Waiting for undeployment - this will take up to 45s .................................... ok\n"
     ]
    },
    {
     "data": {
      "text/html": [
       "<table><tr><th>name</th> <td>booster-rf-classification-pipeline</td></tr><tr><th>created</th> <td>2024-03-18 11:46:43.465032+00:00</td></tr><tr><th>last_updated</th> <td>2024-03-18 12:24:35.249571+00:00</td></tr><tr><th>deployed</th> <td>False</td></tr><tr><th>arch</th> <td>None</td></tr><tr><th>accel</th> <td>None</td></tr><tr><th>tags</th> <td></td></tr><tr><th>versions</th> <td>7a10bfa8-0198-49c0-9a34-0ddbe86316e3, 47008751-baa9-4ebc-ae96-b04a3c9d670d, 5af2a874-6087-463b-b911-0e416a9889b5, d0263370-5985-4df2-b2c9-629461c68321</td></tr><tr><th>steps</th> <td>booster-rf-classification</td></tr><tr><th>published</th> <td>False</td></tr></table>"
      ],
      "text/plain": [
       "{'name': 'booster-rf-classification-pipeline', 'create_time': datetime.datetime(2024, 3, 18, 11, 46, 43, 465032, tzinfo=tzutc()), 'definition': \"[{'ModelInference': {'models': [{'name': 'booster-rf-classification', 'version': '533d860a-1135-4e15-87dc-740f6ff1a758', 'sha': '141eeb77f04e16b500b5f0e60864be208586af4d61030de4fa1de8488b54fda4'}]}}]\"}"
      ]
     },
     "execution_count": 13,
     "metadata": {},
     "output_type": "execute_result"
    }
   ],
   "source": [
    "pipeline.undeploy()"
   ]
  },
  {
   "cell_type": "code",
   "execution_count": null,
   "id": "9a864865-8b0f-4790-aaf6-37d16e5bd804",
   "metadata": {},
   "outputs": [],
   "source": []
  }
 ],
 "metadata": {
  "kernelspec": {
   "display_name": "Python 3 (ipykernel)",
   "language": "python",
   "name": "python3"
  },
  "language_info": {
   "codemirror_mode": {
    "name": "ipython",
    "version": 3
   },
   "file_extension": ".py",
   "mimetype": "text/x-python",
   "name": "python",
   "nbconvert_exporter": "python",
   "pygments_lexer": "ipython3",
   "version": "3.9.13"
  }
 },
 "nbformat": 4,
 "nbformat_minor": 5
}
