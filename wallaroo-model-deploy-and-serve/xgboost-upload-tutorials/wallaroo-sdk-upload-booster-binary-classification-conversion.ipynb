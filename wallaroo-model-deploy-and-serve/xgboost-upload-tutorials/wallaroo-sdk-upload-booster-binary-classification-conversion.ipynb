{
 "cells": [
  {
   "cell_type": "markdown",
   "id": "3c813723",
   "metadata": {},
   "source": [
    "This tutorial and the assets can be downloaded as part of the [Wallaroo Tutorials repository](https://github.com/WallarooLabs/Wallaroo_Tutorials/blob/wallaroo2024.1_tutorials/wallaroo-model-deploy-and-serve/xgboost-upload-tutorials).\n",
    "\n",
    "## XGBoost Booster Binary Classification Example\n",
    "\n",
    "The following tutorial demonstrates deploying and serving an XGBoost Booster Binary Classification model to Wallaroo.\n",
    "\n",
    "The following XGBoost model types are supported by Wallaroo.  XGBoost models **not** supported by Wallaroo are supported via the [Arbitrary Python models, also known as Bring Your Own Predict (BYOP)](https://staging.docs.wallaroo.ai/wallaroo-model-operations/wallaroo-model-operations-deploy/wallaroo-model-operations-upload-register/wallaroo-model-operations-upload-register-arbitrary-python/).\n",
    "\n",
    "| XGBoost Model Type | Wallaroo Auto Packaging Supported |\n",
    "|---|---|\n",
    "| XGBClassifier | √ |\n",
    "| XGBRegressor | √ |\n",
    "| Booster Classifier | √ |\n",
    "| Booster Classifier | √ |\n",
    "| Booster Regressor | √ |\n",
    "| Booster Random Forest Regressor | √ |\n",
    "| Booster Random Forest Classifier | √ |\n",
    "| XGBRFClassifier | √ |\n",
    "| XGBRFRegressor | √ |\n",
    "| XGBRanker\\* | X |\n",
    "\n",
    "* XGBRanker XGBoost models are currently supported via converting them to [BYOP](https://staging.docs.wallaroo.ai/wallaroo-model-operations/wallaroo-model-operations-deploy/wallaroo-model-operations-upload-register/wallaroo-model-operations-upload-register-arbitrary-python/) models.\n",
    "\n",
    "## Goal\n",
    "\n",
    "Upload, deploy, and serve a sample XGBoost Booster Binary Classification model.\n",
    "\n",
    "### Resources\n",
    "\n",
    "This tutorial provides the following:\n",
    "\n",
    "* Models:\n",
    "  * `/models/xgb_booster_binary_classification.pkl`: The sample XGBoost model that receives the `sklearn.datasets.load_breast_cancer` dataset.\n",
    "\n",
    "### Prerequisites\n",
    "\n",
    "* A deployed Wallaroo instance with [Edge Registry Services](https://docs.wallaroo.ai/wallaroo-operations-guide/wallaroo-configuration/wallaroo-edge-deployment/#enable-wallaroo-edge-deployment-registry) and [Edge Observability enabled](https://docs.wallaroo.ai/wallaroo-operations-guide/wallaroo-configuration/wallaroo-edge-deployment/#set-edge-observability-service).\n",
    "* The following Python libraries installed:\n",
    "  * [`wallaroo`](https://pypi.org/project/wallaroo/): The Wallaroo SDK. Included with the Wallaroo JupyterHub service by default.\n",
    "  * [`pandas`](https://pypi.org/project/pandas/): Pandas, mainly used for Pandas DataFrame\n",
    "* A X64 Docker deployment to deploy the model on an edge location.\n",
    "* The notebook \"Wallaroo Run Anywhere Model Drift Observability with Assays: Preparation\" has been run, and the model edge deployments executed."
   ]
  },
  {
   "cell_type": "markdown",
   "id": "24cd74e9-5af7-4b3d-93b4-f09c9b5561dc",
   "metadata": {},
   "source": [
    "## Steps\n",
    "\n",
    "### Import Libraries\n",
    "\n",
    "The first step is to import the libraries we will need.  See `./requirements.txt` for a list of additional libraries used with this tutorial."
   ]
  },
  {
   "cell_type": "code",
   "execution_count": 12,
   "id": "58a2bdec-1c92-43b8-9c43-fa6bc6010b73",
   "metadata": {
    "tags": []
   },
   "outputs": [],
   "source": [
    "import wallaroo\n",
    "from wallaroo.deployment_config import DeploymentConfigBuilder\n",
    "import pyarrow as pa\n",
    "from wallaroo.framework import Framework\n",
    "\n",
    "import pickle\n",
    "from sklearn.datasets import load_breast_cancer\n",
    "from sklearn.model_selection import train_test_split\n",
    "from xgboost import train, DMatrix"
   ]
  },
  {
   "cell_type": "markdown",
   "id": "8c8017be-c000-4695-b910-875254c2abf2",
   "metadata": {},
   "source": [
    "### Open a Connection to Wallaroo\n",
    "\n",
    "The next step is connect to Wallaroo through the Wallaroo client.  The Python library is included in the Wallaroo install and available through the Jupyter Hub interface provided with your Wallaroo environment.\n",
    "\n",
    "This is accomplished using the `wallaroo.Client()` command, which provides a URL to grant the SDK permission to your specific Wallaroo environment.  When displayed, enter the URL into a browser and confirm permissions.  Store the connection into a variable that can be referenced later.\n",
    "\n",
    "If logging into the Wallaroo instance through the internal JupyterHub service, use `wl = wallaroo.Client()`.  If logging in externally, update the `wallarooPrefix` and `wallarooSuffix` variables with the proper DNS information.  For more information on Wallaroo DNS settings, see the [Wallaroo DNS Integration Guide](https://docs.wallaroo.ai/wallaroo-operations-guide/wallaroo-configuration/wallaroo-dns-guide/)."
   ]
  },
  {
   "cell_type": "code",
   "execution_count": 24,
   "id": "5a973790-2aa3-4e78-ac27-ba13df3c4c90",
   "metadata": {},
   "outputs": [],
   "source": [
    "wl = wallaroo.Client()"
   ]
  },
  {
   "cell_type": "markdown",
   "id": "4efe9902-043d-46e5-82e9-0ecc76dd24f4",
   "metadata": {},
   "source": [
    "### Set Variables and Helper Functions\n",
    "\n",
    "We'll set the name of our workspace, pipeline, models and files.  Workspace names must be unique across the Wallaroo workspace.  For this, we'll add in a randomly generated 4 characters to the workspace name to prevent collisions with other users' workspaces.  If running this tutorial, we recommend hard coding the workspace name so it will function in the same workspace each time it's run.\n",
    "\n",
    "We'll set up some helper functions that will either use existing workspaces and pipelines, or create them if they do not already exist."
   ]
  },
  {
   "cell_type": "code",
   "execution_count": 14,
   "id": "c42d7a74-70ea-46ad-b4be-b0fafe858676",
   "metadata": {},
   "outputs": [],
   "source": [
    "def get_workspace(name, client):\n",
    "    workspace = None\n",
    "    for ws in client.list_workspaces():\n",
    "        if ws.name() == name:\n",
    "            workspace= ws\n",
    "    if(workspace == None):\n",
    "        workspace = client.create_workspace(name)\n",
    "    return workspace\n",
    "\n",
    "workspace_name = f'xgboost-booster-binary-classification'\n",
    "pipeline_name = f'xgboost-booster-binary-classification'\n",
    "\n",
    "model_name = 'xgboost-booster-binary-classification'\n",
    "model_file_name = './models/xgb_booster_binary_classification.pkl'"
   ]
  },
  {
   "cell_type": "markdown",
   "id": "cfff5bb3-894c-43a4-a0f8-ab3be74539f8",
   "metadata": {},
   "source": [
    "### Create Workspace and Pipeline\n",
    "\n",
    "We will now create the Wallaroo workspace to store our model and set it as the current workspace.  Future commands will default to this workspace for pipeline creation, model uploads, etc.  We'll create our Wallaroo pipeline to deploy our model."
   ]
  },
  {
   "cell_type": "code",
   "execution_count": 15,
   "id": "7362f099-1e43-4dff-9e8c-8c0f044fb33a",
   "metadata": {},
   "outputs": [],
   "source": [
    "workspace = get_workspace(workspace_name, wl)\n",
    "wl.set_current_workspace(workspace)\n",
    "\n",
    "pipeline = wl.build_pipeline(pipeline_name)"
   ]
  },
  {
   "cell_type": "markdown",
   "id": "670a827e-0266-4661-bbf0-87aad1a5a875",
   "metadata": {},
   "source": [
    "### Upload XGBoost Model\n",
    "\n",
    "XGBoost models are uploaded to Wallaroo through the `wallaroo.client.Client.upload_model` method.\n",
    "\n",
    "#### Upload XGBoost Model Parameters\n",
    "\n",
    "The following parameters are required for XGBoost models.  Note that while some fields are considered as **optional** for the `upload_model` method, they are required for proper uploading of a XGBoost model to Wallaroo.\n",
    "\n",
    "| Parameter | Type | Description |\n",
    "|---|---|---|\n",
    "|`name` | `string` (*Required*) | The name of the model.  Model names are unique per workspace.  Models that are uploaded with the same name are assigned as a new **version** of the model. |\n",
    "|`path` | `string` (*Required*) | The path to the model file being uploaded. \n",
    "|`framework` |`string` (*Required*) | Set as the `Framework.XGBOOST`. |\n",
    "|`input_schema` | `pyarrow.lib.Schema` (*Required*) | The input schema in Apache Arrow schema format. |\n",
    "|`output_schema` | `pyarrow.lib.Schema` (*Required*) | The output schema in Apache Arrow schema format. |\n",
    "| `convert_wait` | `bool` (*Optional*) (*Default: True*) | <ul><li>**True**: Waits in the script for the model conversion completion.</li><li>**False**:  Proceeds with the script without waiting for the model conversion process to display complete. |\n",
    "\n",
    "Once the upload process starts, the model is containerized by the Wallaroo instance.  This process may take up to 10 minutes.\n",
    "\n",
    "#### Upload XGBoost Model Return\n",
    "\n",
    "The following is returned with a successful model upload and conversion.\n",
    "\n",
    "| Field | Type | Description |\n",
    "|---|---|---|\n",
    "| `name` | string | The name of the model. |\n",
    "| `version` | string | The model version as a unique UUID. |\n",
    "| `file_name` | string | The file name of the model as stored in Wallaroo. |\n",
    "| `image_path` | string | The image used to deploy the model in the Wallaroo engine. |\n",
    "| `last_update_time` | DateTime | When the model was last updated. |#"
   ]
  },
  {
   "cell_type": "markdown",
   "id": "ad3a257c-f8eb-4062-a025-a05f2eb2a36d",
   "metadata": {},
   "source": [
    "### Configure Input and Output Schemas\n",
    "\n",
    "First we configure the input and output schemas in PyArrow format."
   ]
  },
  {
   "cell_type": "code",
   "execution_count": 16,
   "id": "d2f3c13b-5386-4bb1-87f4-8983a4df5f39",
   "metadata": {},
   "outputs": [],
   "source": [
    "input_schema = pa.schema([\n",
    "    pa.field('inputs', pa.list_(pa.float32(), list_size=30))\n",
    "])\n",
    "\n",
    "output_schema = pa.schema([\n",
    "    pa.field('probabilities', pa.float32()),\n",
    "])"
   ]
  },
  {
   "cell_type": "markdown",
   "id": "f12d8885-afa8-4db8-9d36-daba4a5de38b",
   "metadata": {},
   "source": [
    "### Upload Model Example\n",
    "\n",
    "With the input and output schemas defined, we now upload the XGBoost model."
   ]
  },
  {
   "cell_type": "code",
   "execution_count": 17,
   "id": "0e16d95a-88b3-4bf8-bdfe-c62f5b464d7a",
   "metadata": {},
   "outputs": [
    {
     "name": "stdout",
     "output_type": "stream",
     "text": [
      "Waiting for model loading - this will take up to 10.0min.\n",
      "Model is pending loading to a native runtime.\n",
      "Model is attempting loading to a native runtime.successful\n",
      "\n",
      "Ready\n"
     ]
    },
    {
     "data": {
      "text/html": [
       "<table>\n",
       "        <tr>\n",
       "          <td>Name</td>\n",
       "          <td>xgboost-booster-binary-classification</td>\n",
       "        </tr>\n",
       "        <tr>\n",
       "          <td>Version</td>\n",
       "          <td>6ce7ed21-018b-4864-ba8f-1f86834024e2</td>\n",
       "        </tr>\n",
       "        <tr>\n",
       "          <td>File Name</td>\n",
       "          <td>xgb_booster_binary_classification.pkl</td>\n",
       "        </tr>\n",
       "        <tr>\n",
       "          <td>SHA</td>\n",
       "          <td>be6d8c51395196da4720951b45660840fecdd680e7d99003a966023873322d8b</td>\n",
       "        </tr>\n",
       "        <tr>\n",
       "          <td>Status</td>\n",
       "          <td>ready</td>\n",
       "        </tr>\n",
       "        <tr>\n",
       "          <td>Image Path</td>\n",
       "          <td>None</td>\n",
       "        </tr>\n",
       "        <tr>\n",
       "          <td>Architecture</td>\n",
       "          <td>None</td>\n",
       "        </tr>\n",
       "        <tr>\n",
       "          <td>Acceleration</td>\n",
       "          <td>None</td>\n",
       "        </tr>\n",
       "        <tr>\n",
       "          <td>Updated At</td>\n",
       "          <td>2024-27-Mar 22:18:14</td>\n",
       "        </tr>\n",
       "      </table>"
      ],
      "text/plain": [
       "{'name': 'xgboost-booster-binary-classification', 'version': '6ce7ed21-018b-4864-ba8f-1f86834024e2', 'file_name': 'xgb_booster_binary_classification.pkl', 'image_path': None, 'arch': None, 'accel': None, 'last_update_time': datetime.datetime(2024, 3, 27, 22, 18, 14, 480213, tzinfo=tzutc())}"
      ]
     },
     "execution_count": 17,
     "metadata": {},
     "output_type": "execute_result"
    }
   ],
   "source": [
    "model = wl.upload_model(model_name, \n",
    "                        model_file_name, \n",
    "                        framework=Framework.XGBOOST, \n",
    "                        input_schema=input_schema, \n",
    "                        output_schema=output_schema)\n",
    "model"
   ]
  },
  {
   "cell_type": "markdown",
   "id": "3dbcca65-4102-41c5-8d8a-a6434ade69a6",
   "metadata": {},
   "source": [
    "### Deploy Pipeline\n",
    "\n",
    "With the model uploaded and packaged, we add the model as a pipeline model step.  For our deployment, we will set a minimum deployment configuration - this is the amount of resources the deployed pipeline uses from the cluster.\n",
    "\n",
    "Once set, we deploy the pipeline, which allocates the assigned resources for the cluster and makes it available for inference requests."
   ]
  },
  {
   "cell_type": "code",
   "execution_count": 18,
   "id": "afaa4557-f380-4259-8717-b3848005fd7d",
   "metadata": {},
   "outputs": [],
   "source": [
    "pipeline.add_model_step(model)\n",
    "\n",
    "deployment_config = DeploymentConfigBuilder() \\\n",
    "    .cpus(0.25).memory('1Gi') \\\n",
    "    .build()"
   ]
  },
  {
   "cell_type": "code",
   "execution_count": 19,
   "id": "297d5650-d720-4e59-9d2f-b5dad8b7e6ce",
   "metadata": {},
   "outputs": [
    {
     "data": {
      "text/plain": [
       "{'status': 'Running',\n",
       " 'details': [],\n",
       " 'engines': [{'ip': '10.28.0.223',\n",
       "   'name': 'engine-58f6c4f589-p8mz2',\n",
       "   'status': 'Running',\n",
       "   'reason': None,\n",
       "   'details': [],\n",
       "   'pipeline_statuses': {'pipelines': [{'id': 'xgboost-booster-binary-classification',\n",
       "      'status': 'Running'}]},\n",
       "   'model_statuses': {'models': [{'config': {'batch_config': None,\n",
       "       'filter_threshold': None,\n",
       "       'id': 38,\n",
       "       'input_schema': '/////7AAAAAQAAAAAAAKAAwABgAFAAgACgAAAAABBAAMAAAACAAIAAAABAAIAAAABAAAAAEAAAAEAAAAyP///wAAARAUAAAAJAAAAAQAAAABAAAAMAAAAAYAAABpbnB1dHMAAAAABgAIAAQABgAAAB4AAAAQABQACAAGAAcADAAAABAAEAAAAAAAAQMQAAAAHAAAAAQAAAAAAAAABAAAAGl0ZW0AAAYACAAGAAYAAAAAAAEAAAAAAA==',\n",
       "       'model_version_id': 19,\n",
       "       'output_schema': '/////4AAAAAQAAAAAAAKAAwABgAFAAgACgAAAAABBAAMAAAACAAIAAAABAAIAAAABAAAAAEAAAAUAAAAEAAUAAgABgAHAAwAAAAQABAAAAAAAAEDEAAAACQAAAAEAAAAAAAAAA0AAABwcm9iYWJpbGl0aWVzAAYACAAGAAYAAAAAAAEAAAAAAA==',\n",
       "       'runtime': 'onnx',\n",
       "       'sidekick_uri': None,\n",
       "       'tensor_fields': None},\n",
       "      'model_version': {'conversion': {'framework': 'xgboost',\n",
       "        'python_version': '3.8',\n",
       "        'requirements': []},\n",
       "       'created_on_version': '2024.1.0',\n",
       "       'file_info': {'file_name': 'xgb_booster_binary_classification.pkl',\n",
       "        'sha': 'be6d8c51395196da4720951b45660840fecdd680e7d99003a966023873322d8b',\n",
       "        'version': '6ce7ed21-018b-4864-ba8f-1f86834024e2'},\n",
       "       'id': 19,\n",
       "       'image_path': None,\n",
       "       'name': 'xgboost-booster-binary-classification',\n",
       "       'status': 'ready',\n",
       "       'task_id': '9804c1df-a801-4d3c-a565-da345752d5b7',\n",
       "       'visibility': 'private',\n",
       "       'workspace_id': 9},\n",
       "      'status': 'Running'}]}}],\n",
       " 'engine_lbs': [{'ip': '10.28.2.239',\n",
       "   'name': 'engine-lb-d7cc8fc9c-f86kt',\n",
       "   'status': 'Running',\n",
       "   'reason': None,\n",
       "   'details': []}],\n",
       " 'sidekicks': []}"
      ]
     },
     "execution_count": 19,
     "metadata": {},
     "output_type": "execute_result"
    }
   ],
   "source": [
    "pipeline.deploy(deployment_config=deployment_config)\n",
    "pipeline.status()"
   ]
  },
  {
   "cell_type": "markdown",
   "id": "33590194-abfd-4c48-9e83-888c1f61b724",
   "metadata": {},
   "source": [
    "### Run Sample Inference\n",
    "\n",
    "The dataset is from the `sklearn.datasets.load_breast_cancer` examples.  These are converted to a pandas DataFrame, that is submitted to the deployed model in Wallaroo for an inference request."
   ]
  },
  {
   "cell_type": "code",
   "execution_count": 20,
   "id": "b8e30dbb-22ea-48a5-915a-67ee811778fa",
   "metadata": {},
   "outputs": [],
   "source": [
    "dataset = load_breast_cancer()\n",
    "X, y = dataset.data, dataset.target\n",
    "X_train, X_test, y_train, y_test = train_test_split(\n",
    "    X, y, test_size=0.2, random_state=42\n",
    ")\n",
    "dtrain = DMatrix(X_train, label=y_train)\n",
    "dtest = DMatrix(X_test, label=y_test)\n",
    "\n",
    "data = dtest.get_data().todense()[:100]"
   ]
  },
  {
   "cell_type": "code",
   "execution_count": 21,
   "id": "622b7558-bfb4-4fb2-889d-b1c8c6e2734e",
   "metadata": {},
   "outputs": [
    {
     "data": {
      "text/html": [
       "<div>\n",
       "<style scoped>\n",
       "    .dataframe tbody tr th:only-of-type {\n",
       "        vertical-align: middle;\n",
       "    }\n",
       "\n",
       "    .dataframe tbody tr th {\n",
       "        vertical-align: top;\n",
       "    }\n",
       "\n",
       "    .dataframe thead th {\n",
       "        text-align: right;\n",
       "    }\n",
       "</style>\n",
       "<table border=\"1\" class=\"dataframe\">\n",
       "  <thead>\n",
       "    <tr style=\"text-align: right;\">\n",
       "      <th></th>\n",
       "      <th>inputs</th>\n",
       "    </tr>\n",
       "  </thead>\n",
       "  <tbody>\n",
       "    <tr>\n",
       "      <th>0</th>\n",
       "      <td>[12.470000267028809, 18.600000381469727, 81.08...</td>\n",
       "    </tr>\n",
       "    <tr>\n",
       "      <th>1</th>\n",
       "      <td>[18.940000534057617, 21.309999465942383, 123.5...</td>\n",
       "    </tr>\n",
       "    <tr>\n",
       "      <th>2</th>\n",
       "      <td>[15.460000038146973, 19.479999542236328, 101.6...</td>\n",
       "    </tr>\n",
       "    <tr>\n",
       "      <th>3</th>\n",
       "      <td>[12.399999618530273, 17.68000030517578, 81.470...</td>\n",
       "    </tr>\n",
       "    <tr>\n",
       "      <th>4</th>\n",
       "      <td>[11.539999961853027, 14.4399995803833, 74.6500...</td>\n",
       "    </tr>\n",
       "    <tr>\n",
       "      <th>...</th>\n",
       "      <td>...</td>\n",
       "    </tr>\n",
       "    <tr>\n",
       "      <th>95</th>\n",
       "      <td>[9.777000427246094, 16.989999771118164, 62.5, ...</td>\n",
       "    </tr>\n",
       "    <tr>\n",
       "      <th>96</th>\n",
       "      <td>[20.1299991607666, 28.25, 131.1999969482422, 1...</td>\n",
       "    </tr>\n",
       "    <tr>\n",
       "      <th>97</th>\n",
       "      <td>[13.8100004196167, 23.75, 91.55999755859375, 5...</td>\n",
       "    </tr>\n",
       "    <tr>\n",
       "      <th>98</th>\n",
       "      <td>[11.149999618530273, 13.079999923706055, 70.87...</td>\n",
       "    </tr>\n",
       "    <tr>\n",
       "      <th>99</th>\n",
       "      <td>[17.270000457763672, 25.420000076293945, 112.4...</td>\n",
       "    </tr>\n",
       "  </tbody>\n",
       "</table>\n",
       "<p>100 rows × 1 columns</p>\n",
       "</div>"
      ],
      "text/plain": [
       "                                               inputs\n",
       "0   [12.470000267028809, 18.600000381469727, 81.08...\n",
       "1   [18.940000534057617, 21.309999465942383, 123.5...\n",
       "2   [15.460000038146973, 19.479999542236328, 101.6...\n",
       "3   [12.399999618530273, 17.68000030517578, 81.470...\n",
       "4   [11.539999961853027, 14.4399995803833, 74.6500...\n",
       "..                                                ...\n",
       "95  [9.777000427246094, 16.989999771118164, 62.5, ...\n",
       "96  [20.1299991607666, 28.25, 131.1999969482422, 1...\n",
       "97  [13.8100004196167, 23.75, 91.55999755859375, 5...\n",
       "98  [11.149999618530273, 13.079999923706055, 70.87...\n",
       "99  [17.270000457763672, 25.420000076293945, 112.4...\n",
       "\n",
       "[100 rows x 1 columns]"
      ]
     },
     "execution_count": 21,
     "metadata": {},
     "output_type": "execute_result"
    }
   ],
   "source": [
    "import pandas as pd\n",
    "\n",
    "dataframe = pd.DataFrame({\"inputs\": data.tolist()})\n",
    "dataframe"
   ]
  },
  {
   "cell_type": "code",
   "execution_count": 22,
   "id": "5205dee5-a6fc-469d-8c06-b54a77cc7c66",
   "metadata": {},
   "outputs": [
    {
     "data": {
      "text/html": [
       "<div>\n",
       "<style scoped>\n",
       "    .dataframe tbody tr th:only-of-type {\n",
       "        vertical-align: middle;\n",
       "    }\n",
       "\n",
       "    .dataframe tbody tr th {\n",
       "        vertical-align: top;\n",
       "    }\n",
       "\n",
       "    .dataframe thead th {\n",
       "        text-align: right;\n",
       "    }\n",
       "</style>\n",
       "<table border=\"1\" class=\"dataframe\">\n",
       "  <thead>\n",
       "    <tr style=\"text-align: right;\">\n",
       "      <th></th>\n",
       "      <th>time</th>\n",
       "      <th>in.inputs</th>\n",
       "      <th>out.probabilities</th>\n",
       "      <th>anomaly.count</th>\n",
       "    </tr>\n",
       "  </thead>\n",
       "  <tbody>\n",
       "    <tr>\n",
       "      <th>0</th>\n",
       "      <td>2024-03-27 22:18:33.902</td>\n",
       "      <td>[12.470000267, 18.6000003815, 81.0899963379, 4...</td>\n",
       "      <td>0.894763</td>\n",
       "      <td>0</td>\n",
       "    </tr>\n",
       "    <tr>\n",
       "      <th>1</th>\n",
       "      <td>2024-03-27 22:18:33.902</td>\n",
       "      <td>[18.9400005341, 21.3099994659, 123.5999984741,...</td>\n",
       "      <td>0.107060</td>\n",
       "      <td>0</td>\n",
       "    </tr>\n",
       "    <tr>\n",
       "      <th>2</th>\n",
       "      <td>2024-03-27 22:18:33.902</td>\n",
       "      <td>[15.4600000381, 19.4799995422, 101.6999969482,...</td>\n",
       "      <td>0.107060</td>\n",
       "      <td>0</td>\n",
       "    </tr>\n",
       "    <tr>\n",
       "      <th>3</th>\n",
       "      <td>2024-03-27 22:18:33.902</td>\n",
       "      <td>[12.3999996185, 17.6800003052, 81.4700012207, ...</td>\n",
       "      <td>0.894763</td>\n",
       "      <td>0</td>\n",
       "    </tr>\n",
       "    <tr>\n",
       "      <th>4</th>\n",
       "      <td>2024-03-27 22:18:33.902</td>\n",
       "      <td>[11.5399999619, 14.4399995804, 74.6500015259, ...</td>\n",
       "      <td>0.894763</td>\n",
       "      <td>0</td>\n",
       "    </tr>\n",
       "    <tr>\n",
       "      <th>...</th>\n",
       "      <td>...</td>\n",
       "      <td>...</td>\n",
       "      <td>...</td>\n",
       "      <td>...</td>\n",
       "    </tr>\n",
       "    <tr>\n",
       "      <th>95</th>\n",
       "      <td>2024-03-27 22:18:33.902</td>\n",
       "      <td>[9.7770004272, 16.9899997711, 62.5, 290.200012...</td>\n",
       "      <td>0.894763</td>\n",
       "      <td>0</td>\n",
       "    </tr>\n",
       "    <tr>\n",
       "      <th>96</th>\n",
       "      <td>2024-03-27 22:18:33.902</td>\n",
       "      <td>[20.1299991608, 28.25, 131.1999969482, 1261.0,...</td>\n",
       "      <td>0.107060</td>\n",
       "      <td>0</td>\n",
       "    </tr>\n",
       "    <tr>\n",
       "      <th>97</th>\n",
       "      <td>2024-03-27 22:18:33.902</td>\n",
       "      <td>[13.8100004196, 23.75, 91.5599975586, 597.7999...</td>\n",
       "      <td>0.107060</td>\n",
       "      <td>0</td>\n",
       "    </tr>\n",
       "    <tr>\n",
       "      <th>98</th>\n",
       "      <td>2024-03-27 22:18:33.902</td>\n",
       "      <td>[11.1499996185, 13.0799999237, 70.8700027466, ...</td>\n",
       "      <td>0.894763</td>\n",
       "      <td>0</td>\n",
       "    </tr>\n",
       "    <tr>\n",
       "      <th>99</th>\n",
       "      <td>2024-03-27 22:18:33.902</td>\n",
       "      <td>[17.2700004578, 25.4200000763, 112.4000015259,...</td>\n",
       "      <td>0.107060</td>\n",
       "      <td>0</td>\n",
       "    </tr>\n",
       "  </tbody>\n",
       "</table>\n",
       "<p>100 rows × 4 columns</p>\n",
       "</div>"
      ],
      "text/plain": [
       "                      time                                          in.inputs  \\\n",
       "0  2024-03-27 22:18:33.902  [12.470000267, 18.6000003815, 81.0899963379, 4...   \n",
       "1  2024-03-27 22:18:33.902  [18.9400005341, 21.3099994659, 123.5999984741,...   \n",
       "2  2024-03-27 22:18:33.902  [15.4600000381, 19.4799995422, 101.6999969482,...   \n",
       "3  2024-03-27 22:18:33.902  [12.3999996185, 17.6800003052, 81.4700012207, ...   \n",
       "4  2024-03-27 22:18:33.902  [11.5399999619, 14.4399995804, 74.6500015259, ...   \n",
       "..                     ...                                                ...   \n",
       "95 2024-03-27 22:18:33.902  [9.7770004272, 16.9899997711, 62.5, 290.200012...   \n",
       "96 2024-03-27 22:18:33.902  [20.1299991608, 28.25, 131.1999969482, 1261.0,...   \n",
       "97 2024-03-27 22:18:33.902  [13.8100004196, 23.75, 91.5599975586, 597.7999...   \n",
       "98 2024-03-27 22:18:33.902  [11.1499996185, 13.0799999237, 70.8700027466, ...   \n",
       "99 2024-03-27 22:18:33.902  [17.2700004578, 25.4200000763, 112.4000015259,...   \n",
       "\n",
       "    out.probabilities  anomaly.count  \n",
       "0            0.894763              0  \n",
       "1            0.107060              0  \n",
       "2            0.107060              0  \n",
       "3            0.894763              0  \n",
       "4            0.894763              0  \n",
       "..                ...            ...  \n",
       "95           0.894763              0  \n",
       "96           0.107060              0  \n",
       "97           0.107060              0  \n",
       "98           0.894763              0  \n",
       "99           0.107060              0  \n",
       "\n",
       "[100 rows x 4 columns]"
      ]
     },
     "execution_count": 22,
     "metadata": {},
     "output_type": "execute_result"
    }
   ],
   "source": [
    "results = pipeline.infer(dataframe)\n",
    "results"
   ]
  },
  {
   "cell_type": "markdown",
   "id": "28c42355-6fad-42d1-ab39-8354b31b06aa",
   "metadata": {},
   "source": [
    "### Undeploy the Pipeline\n",
    "\n",
    "With the tutorial complete, we undeploy the pipeline and return the resources back to the cluster."
   ]
  },
  {
   "cell_type": "code",
   "execution_count": 23,
   "id": "694064c0-fc44-4e56-96cc-4990b7c084bd",
   "metadata": {
    "tags": []
   },
   "outputs": [
    {
     "data": {
      "text/html": [
       "<table><tr><th>name</th> <td>xgboost-booster-binary-classification</td></tr><tr><th>created</th> <td>2024-03-27 19:30:30.786550+00:00</td></tr><tr><th>last_updated</th> <td>2024-03-27 22:18:18.175518+00:00</td></tr><tr><th>deployed</th> <td>False</td></tr><tr><th>arch</th> <td>None</td></tr><tr><th>accel</th> <td>None</td></tr><tr><th>tags</th> <td></td></tr><tr><th>versions</th> <td>4ae4ab80-69a4-4702-a32e-81c3a2b9da4c, ba3a9dae-e7ae-42ef-8560-3e3e869eb064, ac8e2a24-705e-41ef-8376-eb2e021ba8ee</td></tr><tr><th>steps</th> <td>xgboost-booster-binary-classification</td></tr><tr><th>published</th> <td>False</td></tr></table>"
      ],
      "text/plain": [
       "{'name': 'xgboost-booster-binary-classification', 'create_time': datetime.datetime(2024, 3, 27, 19, 30, 30, 786550, tzinfo=tzutc()), 'definition': \"[{'ModelInference': {'models': [{'name': 'xgboost-booster-binary-classification', 'version': '6ce7ed21-018b-4864-ba8f-1f86834024e2', 'sha': 'be6d8c51395196da4720951b45660840fecdd680e7d99003a966023873322d8b'}]}}]\"}"
      ]
     },
     "execution_count": 23,
     "metadata": {},
     "output_type": "execute_result"
    }
   ],
   "source": [
    "pipeline.undeploy()"
   ]
  }
 ],
 "metadata": {
  "kernelspec": {
   "display_name": "Python 3 (ipykernel)",
   "language": "python",
   "name": "python3"
  },
  "language_info": {
   "codemirror_mode": {
    "name": "ipython",
    "version": 3
   },
   "file_extension": ".py",
   "mimetype": "text/x-python",
   "name": "python",
   "nbconvert_exporter": "python",
   "pygments_lexer": "ipython3",
   "version": "3.9.18"
  }
 },
 "nbformat": 4,
 "nbformat_minor": 5
}
