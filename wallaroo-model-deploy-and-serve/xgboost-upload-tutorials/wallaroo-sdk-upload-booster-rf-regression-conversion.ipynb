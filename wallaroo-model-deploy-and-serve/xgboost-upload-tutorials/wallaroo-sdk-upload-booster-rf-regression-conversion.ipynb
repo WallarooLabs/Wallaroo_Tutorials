{
 "cells": [
  {
   "cell_type": "markdown",
   "id": "3c813723",
   "metadata": {},
   "source": [
    "This tutorial and the assets can be downloaded as part of the [Wallaroo Tutorials repository](https://github.com/WallarooLabs/Wallaroo_Tutorials/blob/wallaroo2024.1_tutorials/wallaroo-model-deploy-and-serve/xgboost-upload-tutorials).\n",
    "\n",
    "## Booster RF Regression Example\n",
    "\n",
    "The following tutorial demonstrates deploying and serving an Booster RF Regression model to Wallaroo.\n",
    "\n",
    "The following XGBoost model types are supported by Wallaroo.  XGBoost models **not** supported by Wallaroo are supported via the [Arbitrary Python models, also known as Bring Your Own Predict (BYOP)](https://staging.docs.wallaroo.ai/wallaroo-model-operations/wallaroo-model-operations-deploy/wallaroo-model-operations-upload-register/wallaroo-model-operations-upload-register-arbitrary-python/).\n",
    "\n",
    "| XGBoost Model Type | Wallaroo Auto Packaging Supported |\n",
    "|---|---|\n",
    "| XGBClassifier | √ |\n",
    "| XGBRegressor | √ |\n",
    "| Booster Classifier | √ |\n",
    "| Booster Classifier | √ |\n",
    "| Booster Regressor | √ |\n",
    "| Booster Random Forest Regressor | √ |\n",
    "| Booster Random Forest Classifier | √ |\n",
    "| XGBRFClassifier | √ |\n",
    "| XGBRFRegressor | √ |\n",
    "| XGBRanker\\* | X |\n",
    "\n",
    "* XGBRanker XGBoost models are currently supported via converting them to [BYOP](https://staging.docs.wallaroo.ai/wallaroo-model-operations/wallaroo-model-operations-deploy/wallaroo-model-operations-upload-register/wallaroo-model-operations-upload-register-arbitrary-python/) models.\n",
    "\n",
    "## Goal\n",
    "\n",
    "Upload, deploy, and serve a sample Booster RF Regression model.\n",
    "\n",
    "### Resources\n",
    "\n",
    "This tutorial provides the following:\n",
    "\n",
    "* Models:\n",
    "  * `./models/xgb_booster_rf_regression.pkl`: The sample XGBoost model that receives the `sklearn.datasets.load_diabetes` dataset.\n",
    "\n",
    "### Prerequisites\n",
    "\n",
    "* A deployed Wallaroo instance with [Edge Registry Services](https://docs.wallaroo.ai/wallaroo-operations-guide/wallaroo-configuration/wallaroo-edge-deployment/#enable-wallaroo-edge-deployment-registry) and [Edge Observability enabled](https://docs.wallaroo.ai/wallaroo-operations-guide/wallaroo-configuration/wallaroo-edge-deployment/#set-edge-observability-service).\n",
    "* The following Python libraries installed:\n",
    "  * [`wallaroo`](https://pypi.org/project/wallaroo/): The Wallaroo SDK. Included with the Wallaroo JupyterHub service by default.\n",
    "  * [`pandas`](https://pypi.org/project/pandas/): Pandas, mainly used for Pandas DataFrame\n",
    "* A X64 Docker deployment to deploy the model on an edge location.\n",
    "* The notebook \"Wallaroo Run Anywhere Model Drift Observability with Assays: Preparation\" has been run, and the model edge deployments executed."
   ]
  },
  {
   "cell_type": "markdown",
   "id": "24cd74e9-5af7-4b3d-93b4-f09c9b5561dc",
   "metadata": {},
   "source": [
    "## Steps\n",
    "\n",
    "### Import Libraries\n",
    "\n",
    "The first step is to import the libraries we will need.  See `./requirements.txt` for a list of additional libraries used with this tutorial."
   ]
  },
  {
   "cell_type": "code",
   "execution_count": 1,
   "id": "58a2bdec-1c92-43b8-9c43-fa6bc6010b73",
   "metadata": {
    "tags": []
   },
   "outputs": [],
   "source": [
    "import wallaroo\n",
    "from wallaroo.pipeline import Pipeline\n",
    "from wallaroo.deployment_config import DeploymentConfigBuilder\n",
    "import pyarrow as pa\n",
    "from wallaroo.framework import Framework\n",
    "\n",
    "import pickle\n",
    "from sklearn.datasets import load_diabetes\n",
    "from xgboost import train, DMatrix\n",
    "from sklearn.model_selection import train_test_split"
   ]
  },
  {
   "cell_type": "markdown",
   "id": "8c8017be-c000-4695-b910-875254c2abf2",
   "metadata": {},
   "source": [
    "### Open a Connection to Wallaroo\n",
    "\n",
    "The next step is connect to Wallaroo through the Wallaroo client.  The Python library is included in the Wallaroo install and available through the Jupyter Hub interface provided with your Wallaroo environment.\n",
    "\n",
    "This is accomplished using the `wallaroo.Client()` command, which provides a URL to grant the SDK permission to your specific Wallaroo environment.  When displayed, enter the URL into a browser and confirm permissions.  Store the connection into a variable that can be referenced later.\n",
    "\n",
    "If logging into the Wallaroo instance through the internal JupyterHub service, use `wl = wallaroo.Client()`.  If logging in externally, update the `wallarooPrefix` and `wallarooSuffix` variables with the proper DNS information.  For more information on Wallaroo DNS settings, see the [Wallaroo DNS Integration Guide](https://docs.wallaroo.ai/wallaroo-operations-guide/wallaroo-configuration/wallaroo-dns-guide/)."
   ]
  },
  {
   "cell_type": "code",
   "execution_count": 2,
   "id": "5a973790-2aa3-4e78-ac27-ba13df3c4c90",
   "metadata": {},
   "outputs": [],
   "source": [
    "wl = wallaroo.Client()"
   ]
  },
  {
   "cell_type": "markdown",
   "id": "4efe9902-043d-46e5-82e9-0ecc76dd24f4",
   "metadata": {},
   "source": [
    "### Set Variables\n",
    "\n",
    "We'll set the name of our workspace, pipeline, models and files.  Workspace names must be unique across the Wallaroo workspace.  For this, we'll add in a randomly generated 4 characters to the workspace name to prevent collisions with other users' workspaces.  If running this tutorial, we recommend hard coding the workspace name so it will function in the same workspace each time it's run.\n",
    "\n"
   ]
  },
  {
   "cell_type": "code",
   "execution_count": 3,
   "id": "c42d7a74-70ea-46ad-b4be-b0fafe858676",
   "metadata": {},
   "outputs": [],
   "source": [
    "workspace_name = f'booster-rf-regression'\n",
    "pipeline_name = f'booster-rf-regression'\n",
    "\n",
    "model_name = 'booster-rf-regression'\n",
    "model_file_name = './models/xgb_booster_rf_regression.pkl'"
   ]
  },
  {
   "cell_type": "markdown",
   "id": "cfff5bb3-894c-43a4-a0f8-ab3be74539f8",
   "metadata": {},
   "source": [
    "### Create Workspace and Pipeline\n",
    "\n",
    "We will now create the Wallaroo workspace to store our model and set it as the current workspace.  Future commands will default to this workspace for pipeline creation, model uploads, etc.  We'll create our Wallaroo pipeline to deploy our model."
   ]
  },
  {
   "cell_type": "code",
   "execution_count": 4,
   "id": "7362f099-1e43-4dff-9e8c-8c0f044fb33a",
   "metadata": {},
   "outputs": [],
   "source": [
    "workspace = wl.get_workspace(name=workspace_name, create_if_not_exist=True)\n",
    "wl.set_current_workspace(workspace)\n",
    "\n",
    "pipeline = wl.build_pipeline(pipeline_name)"
   ]
  },
  {
   "cell_type": "markdown",
   "id": "670a827e-0266-4661-bbf0-87aad1a5a875",
   "metadata": {},
   "source": [
    "### Upload XGBoost Model\n",
    "\n",
    "XGBoost models are uploaded to Wallaroo through the `wallaroo.client.Client.upload_model` method.\n",
    "\n",
    "#### Upload XGBoost Model Parameters\n",
    "\n",
    "The following parameters are available for XGBoost models.  \n",
    "\n",
    "| Parameter | Type | Description |\n",
    "|---|---|---|\n",
    "|`name` | `string` (*Required*) | The name of the model.  Model names are unique per workspace.  Models that are uploaded with the same name are assigned as a new **version** of the model. |\n",
    "|`path` | `string` (*Required*) | The path to the model file being uploaded. \n",
    "|`framework` |`string` (*Required*) | Set as `Framework.XGBOOST`. |\n",
    "|`input_schema` | `pyarrow.lib.Schema` (*Required*) | The input schema in Apache Arrow schema format. |\n",
    "|`output_schema` | `pyarrow.lib.Schema` (*Required*) | The output schema in Apache Arrow schema format. |\n",
    "| `convert_wait` | `bool` (*Optional*) (*Default: True*) | <ul><li>**True**: Waits in the script for the model conversion completion.</li><li>**False**:  Proceeds with the script without waiting for the model conversion process to display complete. |\n",
    "\n",
    "Once the upload process starts, the model is containerized by the Wallaroo instance.  This process may take up to 10 minutes.\n",
    "\n",
    "#### Upload XGBoost Model Return\n",
    "\n",
    "The following is returned with a successful model upload and conversion.\n",
    "\n",
    "| Field | Type | Description |\n",
    "|---|---|---|\n",
    "| `name` | string | The name of the model. |\n",
    "| `version` | string | The model version as a unique UUID. |\n",
    "| `file_name` | string | The file name of the model as stored in Wallaroo. |\n",
    "| `image_path` | string | The image used to deploy the model in the Wallaroo engine. |\n",
    "| `last_update_time` | DateTime | When the model was last updated. |#"
   ]
  },
  {
   "cell_type": "markdown",
   "id": "ad3a257c-f8eb-4062-a025-a05f2eb2a36d",
   "metadata": {},
   "source": [
    "### Configure Input and Output Schemas\n",
    "\n",
    "First we configure the input and output schemas in PyArrow format."
   ]
  },
  {
   "cell_type": "code",
   "execution_count": 5,
   "id": "d2f3c13b-5386-4bb1-87f4-8983a4df5f39",
   "metadata": {},
   "outputs": [],
   "source": [
    "input_schema = pa.schema([\n",
    "    pa.field('inputs', pa.list_(pa.float32(), list_size=10))\n",
    "])\n",
    "\n",
    "output_schema = pa.schema([\n",
    "    pa.field('predictions', pa.float32()),\n",
    "])"
   ]
  },
  {
   "cell_type": "markdown",
   "id": "f12d8885-afa8-4db8-9d36-daba4a5de38b",
   "metadata": {},
   "source": [
    "### Upload Model Example\n",
    "\n",
    "With the input and output schemas defined, we now upload the XGBoost model."
   ]
  },
  {
   "cell_type": "code",
   "execution_count": 6,
   "id": "0e16d95a-88b3-4bf8-bdfe-c62f5b464d7a",
   "metadata": {},
   "outputs": [
    {
     "name": "stdout",
     "output_type": "stream",
     "text": [
      "Waiting for model loading - this will take up to 10.0min.\n",
      "Model is pending loading to a native runtime.\n",
      "Model is attempting loading to a native runtime.successful\n",
      "\n",
      "Ready\n"
     ]
    },
    {
     "data": {
      "text/html": [
       "<table>\n",
       "        <tr>\n",
       "          <td>Name</td>\n",
       "          <td>booster-rf-regression</td>\n",
       "        </tr>\n",
       "        <tr>\n",
       "          <td>Version</td>\n",
       "          <td>436f63ea-47ca-4921-9ee5-dcef948a843d</td>\n",
       "        </tr>\n",
       "        <tr>\n",
       "          <td>File Name</td>\n",
       "          <td>xgb_booster_rf_regression.pkl</td>\n",
       "        </tr>\n",
       "        <tr>\n",
       "          <td>SHA</td>\n",
       "          <td>b58b410a1eb4690dcf1bdcd08157f37253d8316cafd406a165b484ceb47408b3</td>\n",
       "        </tr>\n",
       "        <tr>\n",
       "          <td>Status</td>\n",
       "          <td>ready</td>\n",
       "        </tr>\n",
       "        <tr>\n",
       "          <td>Image Path</td>\n",
       "          <td>None</td>\n",
       "        </tr>\n",
       "        <tr>\n",
       "          <td>Architecture</td>\n",
       "          <td>x86</td>\n",
       "        </tr>\n",
       "        <tr>\n",
       "          <td>Acceleration</td>\n",
       "          <td>none</td>\n",
       "        </tr>\n",
       "        <tr>\n",
       "          <td>Updated At</td>\n",
       "          <td>2024-11-Apr 20:34:17</td>\n",
       "        </tr>\n",
       "      </table>"
      ],
      "text/plain": [
       "{'name': 'booster-rf-regression', 'version': '436f63ea-47ca-4921-9ee5-dcef948a843d', 'file_name': 'xgb_booster_rf_regression.pkl', 'image_path': None, 'arch': 'x86', 'accel': 'none', 'last_update_time': datetime.datetime(2024, 4, 11, 20, 34, 17, 189084, tzinfo=tzutc())}"
      ]
     },
     "execution_count": 6,
     "metadata": {},
     "output_type": "execute_result"
    }
   ],
   "source": [
    "model = wl.upload_model(model_name, \n",
    "                        model_file_name, \n",
    "                        framework=Framework.XGBOOST, \n",
    "                        input_schema=input_schema, \n",
    "                        output_schema=output_schema)\n",
    "model"
   ]
  },
  {
   "cell_type": "markdown",
   "id": "3dbcca65-4102-41c5-8d8a-a6434ade69a6",
   "metadata": {},
   "source": [
    "### Deploy Pipeline\n",
    "\n",
    "With the model uploaded and packaged, we add the model as a pipeline model step.  For our deployment, we will set a minimum deployment configuration - this is the amount of resources the deployed pipeline uses from the cluster.\n",
    "\n",
    "Once set, we deploy the pipeline, which allocates the assigned resources for the cluster and makes it available for inference requests."
   ]
  },
  {
   "cell_type": "code",
   "execution_count": 7,
   "id": "afaa4557-f380-4259-8717-b3848005fd7d",
   "metadata": {},
   "outputs": [],
   "source": [
    "pipeline.add_model_step(model)\n",
    "\n",
    "deployment_config = DeploymentConfigBuilder() \\\n",
    "    .cpus(0.25).memory('1Gi') \\\n",
    "    .build()"
   ]
  },
  {
   "cell_type": "code",
   "execution_count": 8,
   "id": "297d5650-d720-4e59-9d2f-b5dad8b7e6ce",
   "metadata": {},
   "outputs": [
    {
     "data": {
      "text/plain": [
       "{'status': 'Running',\n",
       " 'details': [],\n",
       " 'engines': [{'ip': '10.28.0.164',\n",
       "   'name': 'engine-7bf7dfb769-rl7h9',\n",
       "   'status': 'Running',\n",
       "   'reason': None,\n",
       "   'details': [],\n",
       "   'pipeline_statuses': {'pipelines': [{'id': 'booster-rf-regression',\n",
       "      'status': 'Running'}]},\n",
       "   'model_statuses': {'models': [{'name': 'booster-rf-regression',\n",
       "      'sha': 'b58b410a1eb4690dcf1bdcd08157f37253d8316cafd406a165b484ceb47408b3',\n",
       "      'status': 'Running',\n",
       "      'version': '436f63ea-47ca-4921-9ee5-dcef948a843d'}]}}],\n",
       " 'engine_lbs': [{'ip': '10.28.1.127',\n",
       "   'name': 'engine-lb-d7cc8fc9c-xnb2r',\n",
       "   'status': 'Running',\n",
       "   'reason': None,\n",
       "   'details': []}],\n",
       " 'sidekicks': []}"
      ]
     },
     "execution_count": 8,
     "metadata": {},
     "output_type": "execute_result"
    }
   ],
   "source": [
    "pipeline.deploy(deployment_config=deployment_config)\n",
    "pipeline.status()"
   ]
  },
  {
   "cell_type": "markdown",
   "id": "33590194-abfd-4c48-9e83-888c1f61b724",
   "metadata": {},
   "source": [
    "### Run Sample Inference\n",
    "\n",
    "The dataset is from the `sklearn.datasets.load_breast_cancer` examples.  These are converted to a pandas DataFrame, that is submitted to the deployed model in Wallaroo for an inference request."
   ]
  },
  {
   "cell_type": "code",
   "execution_count": 9,
   "id": "b8e30dbb-22ea-48a5-915a-67ee811778fa",
   "metadata": {},
   "outputs": [],
   "source": [
    "dataset = load_diabetes()\n",
    "\n",
    "# assuming the model is trained on the following DMatrix\n",
    "X, y = dataset.data, dataset.target\n",
    "X_train, X_test, y_train, y_test = train_test_split(\n",
    "    X, y, test_size=0.2, random_state=42\n",
    ")\n",
    "dtrain = DMatrix(X_train, label=y_train)\n",
    "dtest = DMatrix(X_test, label=y_test)\n",
    "\n",
    "data = dtest.get_data().todense()[:100]"
   ]
  },
  {
   "cell_type": "code",
   "execution_count": 10,
   "id": "622b7558-bfb4-4fb2-889d-b1c8c6e2734e",
   "metadata": {},
   "outputs": [],
   "source": [
    "import pandas as pd\n",
    "\n",
    "dataframe = pd.DataFrame({\"inputs\": data.tolist()})"
   ]
  },
  {
   "cell_type": "code",
   "execution_count": 11,
   "id": "5205dee5-a6fc-469d-8c06-b54a77cc7c66",
   "metadata": {},
   "outputs": [
    {
     "data": {
      "text/html": [
       "<div>\n",
       "<style scoped>\n",
       "    .dataframe tbody tr th:only-of-type {\n",
       "        vertical-align: middle;\n",
       "    }\n",
       "\n",
       "    .dataframe tbody tr th {\n",
       "        vertical-align: top;\n",
       "    }\n",
       "\n",
       "    .dataframe thead th {\n",
       "        text-align: right;\n",
       "    }\n",
       "</style>\n",
       "<table border=\"1\" class=\"dataframe\">\n",
       "  <thead>\n",
       "    <tr style=\"text-align: right;\">\n",
       "      <th></th>\n",
       "      <th>time</th>\n",
       "      <th>in.inputs</th>\n",
       "      <th>out.predictions</th>\n",
       "      <th>anomaly.count</th>\n",
       "    </tr>\n",
       "  </thead>\n",
       "  <tbody>\n",
       "    <tr>\n",
       "      <th>0</th>\n",
       "      <td>2024-04-11 20:34:34.359</td>\n",
       "      <td>[0.0453409851, -0.0446416363, -0.0062059541, -...</td>\n",
       "      <td>154.345660</td>\n",
       "      <td>0</td>\n",
       "    </tr>\n",
       "    <tr>\n",
       "      <th>1</th>\n",
       "      <td>2024-04-11 20:34:34.359</td>\n",
       "      <td>[0.0925639868, -0.0446416363, 0.0369065292, 0....</td>\n",
       "      <td>161.982850</td>\n",
       "      <td>0</td>\n",
       "    </tr>\n",
       "    <tr>\n",
       "      <th>2</th>\n",
       "      <td>2024-04-11 20:34:34.359</td>\n",
       "      <td>[0.0635036752, 0.0506801195, -0.0040503298, -0...</td>\n",
       "      <td>154.345660</td>\n",
       "      <td>0</td>\n",
       "    </tr>\n",
       "    <tr>\n",
       "      <th>3</th>\n",
       "      <td>2024-04-11 20:34:34.359</td>\n",
       "      <td>[0.0961965248, -0.0446416363, 0.0519958995, 0....</td>\n",
       "      <td>244.706510</td>\n",
       "      <td>0</td>\n",
       "    </tr>\n",
       "    <tr>\n",
       "      <th>4</th>\n",
       "      <td>2024-04-11 20:34:34.359</td>\n",
       "      <td>[0.0126481373, 0.0506801195, -0.0202175118, -0...</td>\n",
       "      <td>108.613180</td>\n",
       "      <td>0</td>\n",
       "    </tr>\n",
       "    <tr>\n",
       "      <th>...</th>\n",
       "      <td>...</td>\n",
       "      <td>...</td>\n",
       "      <td>...</td>\n",
       "      <td>...</td>\n",
       "    </tr>\n",
       "    <tr>\n",
       "      <th>84</th>\n",
       "      <td>2024-04-11 20:34:34.359</td>\n",
       "      <td>[0.0017505219, -0.0446416363, -0.065485619, -0...</td>\n",
       "      <td>104.921776</td>\n",
       "      <td>0</td>\n",
       "    </tr>\n",
       "    <tr>\n",
       "      <th>85</th>\n",
       "      <td>2024-04-11 20:34:34.359</td>\n",
       "      <td>[0.0126481373, -0.0446416363, -0.0256065708, -...</td>\n",
       "      <td>78.300160</td>\n",
       "      <td>0</td>\n",
       "    </tr>\n",
       "    <tr>\n",
       "      <th>86</th>\n",
       "      <td>2024-04-11 20:34:34.359</td>\n",
       "      <td>[-0.0273097865, -0.0446416363, -0.0633299947, ...</td>\n",
       "      <td>82.259480</td>\n",
       "      <td>0</td>\n",
       "    </tr>\n",
       "    <tr>\n",
       "      <th>87</th>\n",
       "      <td>2024-04-11 20:34:34.359</td>\n",
       "      <td>[-0.0236772466, -0.0446416363, -0.0697968677, ...</td>\n",
       "      <td>68.962540</td>\n",
       "      <td>0</td>\n",
       "    </tr>\n",
       "    <tr>\n",
       "      <th>88</th>\n",
       "      <td>2024-04-11 20:34:34.359</td>\n",
       "      <td>[-0.0636351705, -0.0446416363, 0.0358287171, -...</td>\n",
       "      <td>126.315810</td>\n",
       "      <td>0</td>\n",
       "    </tr>\n",
       "  </tbody>\n",
       "</table>\n",
       "<p>89 rows × 4 columns</p>\n",
       "</div>"
      ],
      "text/plain": [
       "                      time                                          in.inputs  \\\n",
       "0  2024-04-11 20:34:34.359  [0.0453409851, -0.0446416363, -0.0062059541, -...   \n",
       "1  2024-04-11 20:34:34.359  [0.0925639868, -0.0446416363, 0.0369065292, 0....   \n",
       "2  2024-04-11 20:34:34.359  [0.0635036752, 0.0506801195, -0.0040503298, -0...   \n",
       "3  2024-04-11 20:34:34.359  [0.0961965248, -0.0446416363, 0.0519958995, 0....   \n",
       "4  2024-04-11 20:34:34.359  [0.0126481373, 0.0506801195, -0.0202175118, -0...   \n",
       "..                     ...                                                ...   \n",
       "84 2024-04-11 20:34:34.359  [0.0017505219, -0.0446416363, -0.065485619, -0...   \n",
       "85 2024-04-11 20:34:34.359  [0.0126481373, -0.0446416363, -0.0256065708, -...   \n",
       "86 2024-04-11 20:34:34.359  [-0.0273097865, -0.0446416363, -0.0633299947, ...   \n",
       "87 2024-04-11 20:34:34.359  [-0.0236772466, -0.0446416363, -0.0697968677, ...   \n",
       "88 2024-04-11 20:34:34.359  [-0.0636351705, -0.0446416363, 0.0358287171, -...   \n",
       "\n",
       "    out.predictions  anomaly.count  \n",
       "0        154.345660              0  \n",
       "1        161.982850              0  \n",
       "2        154.345660              0  \n",
       "3        244.706510              0  \n",
       "4        108.613180              0  \n",
       "..              ...            ...  \n",
       "84       104.921776              0  \n",
       "85        78.300160              0  \n",
       "86        82.259480              0  \n",
       "87        68.962540              0  \n",
       "88       126.315810              0  \n",
       "\n",
       "[89 rows x 4 columns]"
      ]
     },
     "execution_count": 11,
     "metadata": {},
     "output_type": "execute_result"
    }
   ],
   "source": [
    "results = pipeline.infer(dataframe)\n",
    "results"
   ]
  },
  {
   "cell_type": "markdown",
   "id": "28c42355-6fad-42d1-ab39-8354b31b06aa",
   "metadata": {},
   "source": [
    "### Undeploy the Pipeline\n",
    "\n",
    "With the tutorial complete, we undeploy the pipeline and return the resources back to the cluster."
   ]
  },
  {
   "cell_type": "code",
   "execution_count": 12,
   "id": "694064c0-fc44-4e56-96cc-4990b7c084bd",
   "metadata": {
    "tags": []
   },
   "outputs": [
    {
     "data": {
      "text/html": [
       "<table><tr><th>name</th> <td>booster-rf-regression</td></tr><tr><th>created</th> <td>2024-04-11 20:34:07.909749+00:00</td></tr><tr><th>last_updated</th> <td>2024-04-11 20:34:20.805478+00:00</td></tr><tr><th>deployed</th> <td>False</td></tr><tr><th>arch</th> <td>x86</td></tr><tr><th>accel</th> <td>none</td></tr><tr><th>tags</th> <td></td></tr><tr><th>versions</th> <td>535c2ef2-4ed9-414d-8f21-188086b7acbd, 165b59e5-9b64-4ba7-a2f1-b565da86a74b</td></tr><tr><th>steps</th> <td>booster-rf-regression</td></tr><tr><th>published</th> <td>False</td></tr></table>"
      ],
      "text/plain": [
       "{'name': 'booster-rf-regression', 'create_time': datetime.datetime(2024, 4, 11, 20, 34, 7, 909749, tzinfo=tzutc()), 'definition': \"[{'ModelInference': {'models': [{'name': 'booster-rf-regression', 'version': '436f63ea-47ca-4921-9ee5-dcef948a843d', 'sha': 'b58b410a1eb4690dcf1bdcd08157f37253d8316cafd406a165b484ceb47408b3'}]}}]\"}"
      ]
     },
     "execution_count": 12,
     "metadata": {},
     "output_type": "execute_result"
    }
   ],
   "source": [
    "pipeline.undeploy()"
   ]
  }
 ],
 "metadata": {
  "kernelspec": {
   "display_name": "Python 3 (ipykernel)",
   "language": "python",
   "name": "python3"
  },
  "language_info": {
   "codemirror_mode": {
    "name": "ipython",
    "version": 3
   },
   "file_extension": ".py",
   "mimetype": "text/x-python",
   "name": "python",
   "nbconvert_exporter": "python",
   "pygments_lexer": "ipython3",
   "version": "3.8.19"
  }
 },
 "nbformat": 4,
 "nbformat_minor": 5
}
