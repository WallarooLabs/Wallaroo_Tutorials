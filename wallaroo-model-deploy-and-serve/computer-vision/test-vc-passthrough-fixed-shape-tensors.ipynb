{
 "cells": [
  {
   "cell_type": "markdown",
   "id": "c18c8461-a00a-4a16-b3d7-2dee9187f672",
   "metadata": {},
   "source": [
    "# Test passthrough fixed shape tensors"
   ]
  },
  {
   "cell_type": "markdown",
   "id": "2af502b1",
   "metadata": {},
   "source": [
    "## Tutorial Steps\n",
    "\n",
    "### Import Libraries\n",
    "\n",
    "The first step is to import the libraries we'll be using.  These are included by default in the Wallaroo instance's JupyterHub service."
   ]
  },
  {
   "cell_type": "code",
   "execution_count": 4,
   "id": "3436bb69-bb45-4d18-bc19-d82f76ae9bfe",
   "metadata": {},
   "outputs": [],
   "source": [
    "import json\n",
    "import os\n",
    "import pickle\n",
    "\n",
    "import wallaroo\n",
    "from wallaroo.pipeline   import Pipeline\n",
    "from wallaroo.deployment_config import DeploymentConfigBuilder\n",
    "from wallaroo.framework import Framework\n",
    "from wallaroo.object import EntityNotFoundError\n",
    "\n",
    "import pyarrow as pa\n",
    "import numpy as np\n",
    "import pandas as pd\n",
    "\n",
    "import datetime"
   ]
  },
  {
   "cell_type": "code",
   "execution_count": 5,
   "id": "8d568583-9c2d-4efe-b700-fe1a967d0506",
   "metadata": {},
   "outputs": [],
   "source": [
    "wl = wallaroo.Client()"
   ]
  },
  {
   "cell_type": "markdown",
   "id": "56fb4480",
   "metadata": {},
   "source": [
    "### Set Variables\n",
    "\n",
    "We'll set the name of our workspace, pipeline, models and files.  Workspace names must be unique across the Wallaroo workspace.  For this, we'll add in a randomly generated 4 characters to the workspace name to prevent collisions with other users' workspaces.  If running this tutorial, we recommend hard coding the workspace name so it will function in the same workspace each time it's run."
   ]
  },
  {
   "cell_type": "code",
   "execution_count": 6,
   "id": "7f1f92c9-8249-4823-808a-d0ab7152bf2a",
   "metadata": {},
   "outputs": [],
   "source": [
    "pipeline_name = 'passthrough-vc-fixed-shape-tensor-test'\n",
    "model_name = 'passthrough-vc-fixed-shape-tensor'\n",
    "model_file_name = 'passthrough_vc_fixed_shape_tensors.zip'"
   ]
  },
  {
   "cell_type": "markdown",
   "id": "6b7cd74b",
   "metadata": {},
   "source": [
    "### Create Workspace and Pipeline\n",
    "\n",
    "We will now create the Wallaroo workspace to store our model and set it as the current workspace.  Future commands will default to this workspace for pipeline creation, model uploads, etc.  We'll create our Wallaroo pipeline to deploy our model."
   ]
  },
  {
   "cell_type": "code",
   "execution_count": 7,
   "id": "e65ea6e1",
   "metadata": {},
   "outputs": [],
   "source": [
    "def get_pipeline(name):\n",
    "    try:\n",
    "        pipeline = wl.pipelines_by_name(name)[0]\n",
    "    except EntityNotFoundError:\n",
    "        pipeline = wl.build_pipeline(name)\n",
    "    return pipeline"
   ]
  },
  {
   "cell_type": "code",
   "execution_count": 8,
   "id": "eead6b11-01cb-460c-9ea3-805d217a4145",
   "metadata": {},
   "outputs": [],
   "source": [
    "input_schema = pa.schema([\n",
    "    pa.field('image', pa.fixed_shape_tensor(pa.uint16(), [2052, 2456])),\n",
    "])\n",
    "\n",
    "output_schema = pa.schema([\n",
    "    pa.field('image', pa.fixed_shape_tensor(pa.uint16(), [2052, 2456])),\n",
    "    pa.field('virtual_stain', pa.fixed_shape_tensor(pa.uint8(), [2052, 2456, 3])),\n",
    "    pa.field('mask_overlay', pa.fixed_shape_tensor(pa.uint8(), [2052, 2456, 3])),\n",
    "    pa.field('mask', pa.fixed_shape_tensor(pa.uint16(), [2052, 2456])),\n",
    "])"
   ]
  },
  {
   "cell_type": "markdown",
   "id": "af676365-ebc8-48ce-b008-389ea3af91cd",
   "metadata": {
    "tags": []
   },
   "source": [
    "### Upload Model\n",
    "\n",
    "The model will be uploaded with the framework set as `Framework.KERAS`."
   ]
  },
  {
   "cell_type": "code",
   "execution_count": 9,
   "id": "3700515d-f91c-481f-a495-29ad82cab91f",
   "metadata": {},
   "outputs": [
    {
     "name": "stdout",
     "output_type": "stream",
     "text": [
      "Waiting for model loading - this will take up to 10.0min.\n",
      "Model is pending loading to a container runtime..\n",
      "Model is attempting loading to a container runtime...successful\n",
      "\n",
      "Ready\n"
     ]
    }
   ],
   "source": [
    "model = wl.upload_model(model_name, model_file_name, framework=Framework.PYTHON, input_schema=input_schema, output_schema=output_schema)"
   ]
  },
  {
   "cell_type": "code",
   "execution_count": 10,
   "id": "551e6989",
   "metadata": {},
   "outputs": [
    {
     "data": {
      "text/plain": [
       "'flight'"
      ]
     },
     "execution_count": 10,
     "metadata": {},
     "output_type": "execute_result"
    }
   ],
   "source": [
    "model.config().runtime()"
   ]
  },
  {
   "cell_type": "markdown",
   "id": "47fcab28-dce9-4385-802c-70a8f48fec38",
   "metadata": {
    "tags": []
   },
   "source": [
    "### Deploy Pipeline\n",
    "\n",
    "The model is uploaded and ready for use.  We'll add it as a step in our pipeline, then deploy the pipeline.  For this example we're allocated 0.25 cpu and 4 Gi RAM to the pipeline through the pipeline's deployment configuration."
   ]
  },
  {
   "cell_type": "code",
   "execution_count": 11,
   "id": "2a709f2c-1332-4984-9cf8-87c6328d6ae4",
   "metadata": {},
   "outputs": [],
   "source": [
    "deployment_config = DeploymentConfigBuilder() \\\n",
    "    .cpus(1.).memory('1Gi') \\\n",
    "    .sidekick_memory(model, '1Gi') \\\n",
    "    .sidekick_cpus(model, 1.0) \\\n",
    "    .build()"
   ]
  },
  {
   "cell_type": "code",
   "execution_count": 12,
   "id": "ed1c83af-6bb3-491c-b8b8-649a53f30085",
   "metadata": {},
   "outputs": [
    {
     "name": "stdout",
     "output_type": "stream",
     "text": [
      " ok\n",
      "Waiting for deployment - this will take up to 45s ................ ok\n"
     ]
    },
    {
     "data": {
      "text/plain": [
       "{'status': 'Running',\n",
       " 'details': [],\n",
       " 'engines': [{'ip': '10.124.8.26',\n",
       "   'name': 'engine-5b4f59cfd9-jqzt4',\n",
       "   'status': 'Running',\n",
       "   'reason': None,\n",
       "   'details': [],\n",
       "   'pipeline_statuses': {'pipelines': [{'id': 'passthrough-vc-fixed-shape-tensor-test',\n",
       "      'status': 'Running',\n",
       "      'version': '0a9b2c4e-b2c9-4d7a-b4fa-55283db149b8'}]},\n",
       "   'model_statuses': {'models': [{'name': 'passthrough-vc-fixed-shape-tensor',\n",
       "      'sha': 'b6392a54195f35db1d9b82b5adc7534c39d9d7c4f35cc855cb73e9ad4433ca23',\n",
       "      'status': 'Running',\n",
       "      'version': '80fe0702-f757-4df5-9566-4e1ee163c0aa'}]}}],\n",
       " 'engine_lbs': [{'ip': '10.124.0.140',\n",
       "   'name': 'engine-lb-6b59985857-rm9zk',\n",
       "   'status': 'Running',\n",
       "   'reason': None,\n",
       "   'details': []}],\n",
       " 'sidekicks': [{'ip': '10.124.0.141',\n",
       "   'name': 'engine-sidekick-passthrough-vc-fixed-shape-tensor-306-589d7fwks',\n",
       "   'status': 'Running',\n",
       "   'reason': None,\n",
       "   'details': [],\n",
       "   'statuses': '\\n'}]}"
      ]
     },
     "execution_count": 12,
     "metadata": {},
     "output_type": "execute_result"
    }
   ],
   "source": [
    "# clear the pipeline if used in a previous tutorial\n",
    "pipeline = get_pipeline(pipeline_name)\n",
    "pipeline.undeploy()\n",
    "pipeline.clear()\n",
    "pipeline.add_model_step(model)\n",
    "\n",
    "pipeline.deploy(deployment_config=deployment_config)\n",
    "pipeline.status()"
   ]
  },
  {
   "cell_type": "markdown",
   "id": "60cb4aa0-601d-4556-a3f8-cdc59e758add",
   "metadata": {},
   "source": [
    "### Run Inference\n",
    "\n",
    "A sample inference will be run.  First the pandas DataFrame used for the inference is created, then the inference run through the pipeline's `infer` method."
   ]
  },
  {
   "cell_type": "code",
   "execution_count": 17,
   "id": "73d70cef-084f-4279-b884-27fc5b9e27aa",
   "metadata": {},
   "outputs": [],
   "source": [
    "image = np.zeros((1, 2052, 2456)).astype(np.uint16)"
   ]
  },
  {
   "cell_type": "code",
   "execution_count": 18,
   "id": "a3dd17f1-2e4f-448d-adb6-69599a955535",
   "metadata": {},
   "outputs": [
    {
     "data": {
      "text/plain": [
       "(1, 2052, 2456)"
      ]
     },
     "execution_count": 18,
     "metadata": {},
     "output_type": "execute_result"
    }
   ],
   "source": [
    "image.shape"
   ]
  },
  {
   "cell_type": "code",
   "execution_count": 19,
   "id": "e411b481-8d0d-4231-93fa-2fe1b1e936ec",
   "metadata": {},
   "outputs": [
    {
     "data": {
      "text/plain": [
       "pyarrow.Table\n",
       "image: extension<arrow.fixed_shape_tensor>\n",
       "----\n",
       "image: [[[0,0,0,0,0,...,0,0,0,0,0]]]"
      ]
     },
     "execution_count": 19,
     "metadata": {},
     "output_type": "execute_result"
    }
   ],
   "source": [
    "input_data = pa.Table.from_pydict({\n",
    "    'image': pa.FixedShapeTensorArray.from_numpy_ndarray(image),\n",
    "})\n",
    "input_data"
   ]
  },
  {
   "cell_type": "code",
   "execution_count": 20,
   "id": "1eab3c59-c7a2-4e79-a468-e5bcb65d916c",
   "metadata": {},
   "outputs": [
    {
     "data": {
      "text/plain": [
       "pyarrow.Table\n",
       "time: timestamp[ms]\n",
       "in.image.data: list<item: uint16>\n",
       "  child 0, item: uint16\n",
       "in.image.shape: fixed_size_list<item: int32>[2]\n",
       "  child 0, item: int32\n",
       "out.image.data: list<item: uint16>\n",
       "  child 0, item: uint16\n",
       "out.image.shape: fixed_size_list<item: int32>[2]\n",
       "  child 0, item: int32\n",
       "out.mask.data: list<item: uint16>\n",
       "  child 0, item: uint16\n",
       "out.mask.shape: fixed_size_list<item: int32>[2]\n",
       "  child 0, item: int32\n",
       "out.mask_overlay.data: list<item: uint8>\n",
       "  child 0, item: uint8\n",
       "out.mask_overlay.shape: fixed_size_list<item: int32>[3]\n",
       "  child 0, item: int32\n",
       "out.virtual_stain.data: list<item: uint8>\n",
       "  child 0, item: uint8\n",
       "out.virtual_stain.shape: fixed_size_list<item: int32>[3]\n",
       "  child 0, item: int32\n",
       "anomaly.count: uint32 not null\n",
       "----\n",
       "time: [[2024-07-02 15:21:59.205]]\n",
       "in.image.data: [[[0,0,0,0,0,...,0,0,0,0,0]]]\n",
       "in.image.shape: [[[2052,2456]]]\n",
       "out.image.data: [[[0,0,0,0,0,...,0,0,0,0,0]]]\n",
       "out.image.shape: [[[2052,2456]]]\n",
       "out.mask.data: [[[0,0,0,0,0,...,0,0,0,0,0]]]\n",
       "out.mask.shape: [[[2052,2456]]]\n",
       "out.mask_overlay.data: [[[0,0,0,0,0,...,0,0,0,0,0]]]\n",
       "out.mask_overlay.shape: [[[2052,2456,3]]]\n",
       "out.virtual_stain.data: [[[0,0,0,0,0,...,0,0,0,0,0]]]\n",
       "..."
      ]
     },
     "execution_count": 20,
     "metadata": {},
     "output_type": "execute_result"
    }
   ],
   "source": [
    "pipeline.infer(input_data, timeout=600)"
   ]
  },
  {
   "cell_type": "markdown",
   "id": "17852d33",
   "metadata": {},
   "source": [
    "### Undeploy Pipelines\n",
    "\n",
    "With the tutorial complete, the pipeline is undeployed to return the resources back to the cluster."
   ]
  },
  {
   "cell_type": "code",
   "execution_count": null,
   "id": "cbdc5a2e-266f-4da8-a88d-1733aca72f0d",
   "metadata": {},
   "outputs": [],
   "source": [
    "pipeline.undeploy()"
   ]
  },
  {
   "cell_type": "code",
   "execution_count": null,
   "id": "4f6685a0-fd6b-47d9-98fd-621d7201c601",
   "metadata": {},
   "outputs": [],
   "source": []
  }
 ],
 "metadata": {
  "kernelspec": {
   "display_name": "Python 3 (ipykernel)",
   "language": "python",
   "name": "python3"
  },
  "language_info": {
   "codemirror_mode": {
    "name": "ipython",
    "version": 3
   },
   "file_extension": ".py",
   "mimetype": "text/x-python",
   "name": "python",
   "nbconvert_exporter": "python",
   "pygments_lexer": "ipython3",
   "version": "3.9.13"
  }
 },
 "nbformat": 4,
 "nbformat_minor": 5
}
