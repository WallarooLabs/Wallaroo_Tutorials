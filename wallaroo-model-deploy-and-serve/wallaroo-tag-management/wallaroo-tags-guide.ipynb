{
 "cells": [
  {
   "attachments": {},
   "cell_type": "markdown",
   "metadata": {},
   "source": [
    "This tutorial and the assets can be downloaded as part of the [Wallaroo Tutorials repository](https://github.com/WallarooLabs/Wallaroo_Tutorials/blob/wallaroo2024.2_tutorials/wallaroo-model-deploy-and-serve/wallaroo-tag-management).\n",
    "\n",
    "## Wallaroo SDK Tag Tutorial\n",
    "\n",
    "The following tutorial demonstrates how to use Wallaroo Tags.  Tags are applied to either model versions or pipelines.  This allows organizations to track different versions of models, and search for what pipelines have been used for specific purposes such as testing versus production use.\n",
    "\n",
    "The following will be demonstrated:\n",
    "\n",
    "* List all tags in a Wallaroo instance.\n",
    "* List all tags applied to a model.\n",
    "* List all tags applied to a pipeline.\n",
    "* Apply a tag to a model.\n",
    "* Remove a tag from a model.\n",
    "* Apply a tag to a pipeline.\n",
    "* Remove a tag from a pipeline.\n",
    "* Search for a model version by a tag.\n",
    "* Search for a pipeline by a tag.\n",
    "\n",
    "This demonstration provides the following through the Wallaroo Tutorials Github Repository:\n",
    "\n",
    "* `models/ccfraud.onnx`: a sample model used as part of the [Wallaroo 101 Tutorials](https://docs.wallaroo.ai/wallaroo-101/).\n",
    "\n",
    "## Prerequisites\n",
    "\n",
    "* A deployed Wallaroo instance\n",
    "* The following Python libraries installed:\n",
    "  * `os`\n",
    "  * `string`\n",
    "  * `random`\n",
    "  * [`wallaroo`](https://pypi.org/project/wallaroo/): The Wallaroo SDK. Included with the Wallaroo JupyterHub service by default."
   ]
  },
  {
   "attachments": {},
   "cell_type": "markdown",
   "metadata": {},
   "source": [
    "## Steps\n",
    "\n",
    "The following steps are performed use to connect to a Wallaroo instance and demonstrate how to use tags with models and pipelines.\n",
    "\n",
    "### Load Libraries\n",
    "\n",
    "The first step is to load the libraries used to connect and use a Wallaroo instance."
   ]
  },
  {
   "cell_type": "code",
   "execution_count": 1,
   "metadata": {},
   "outputs": [],
   "source": [
    "import wallaroo\n",
    "from wallaroo.object import EntityNotFoundError\n",
    "import pandas as pd\n",
    "\n",
    "# used to display dataframe information without truncating\n",
    "from IPython.display import display\n",
    "pd.set_option('display.max_colwidth', None)"
   ]
  },
  {
   "attachments": {},
   "cell_type": "markdown",
   "metadata": {},
   "source": [
    "### Connect to the Wallaroo Instance\n",
    "\n",
    "The first step is to connect to Wallaroo through the Wallaroo client.  The Python library is included in the Wallaroo install and available through the Jupyter Hub interface provided with your Wallaroo environment.\n",
    "\n",
    "This is accomplished using the `wallaroo.Client()` command, which provides a URL to grant the SDK permission to your specific Wallaroo environment.  When displayed, enter the URL into a browser and confirm permissions.  Store the connection into a variable that can be referenced later.\n",
    "\n",
    "If logging into the Wallaroo instance through the internal JupyterHub service, use `wl = wallaroo.Client()`.  For more information on Wallaroo Client settings, see the [Client Connection guide](https://docs.wallaroo.ai/wallaroo-developer-guides/wallaroo-sdk-guides/wallaroo-sdk-essentials-guide/wallaroo-sdk-essentials-client/)."
   ]
  },
  {
   "cell_type": "code",
   "execution_count": 2,
   "metadata": {},
   "outputs": [],
   "source": [
    "# Client connection from local Wallaroo instance\n",
    "\n",
    "wl = wallaroo.Client()"
   ]
  },
  {
   "attachments": {},
   "cell_type": "markdown",
   "metadata": {},
   "source": [
    "### Set Variables\n",
    "\n",
    "The following variables are used to create or connect to existing workspace and pipeline.  The model name and model file are set as well.  Adjust as required for your organization's needs.\n",
    "\n",
    "The methods `get_workspace` and `get_pipeline` are used to either create a new workspace and pipeline based on the variables below, or connect to an existing workspace and pipeline with the same name.  Once complete, the workspace will be set as the current workspace where pipelines and models are used."
   ]
  },
  {
   "cell_type": "code",
   "execution_count": 3,
   "metadata": {},
   "outputs": [],
   "source": [
    "workspace_name = f'tagtestworkspace'\n",
    "pipeline_name = f'tagtestpipeline'\n",
    "model_name = f'tagtestmodel'\n",
    "model_file_name = './models/ccfraud.onnx'"
   ]
  },
  {
   "cell_type": "code",
   "execution_count": 4,
   "metadata": {},
   "outputs": [
    {
     "data": {
      "text/plain": [
       "{'name': 'tagtestworkspace', 'id': 26, 'archived': False, 'created_by': '65124b18-8382-49af-b3c8-ada3b9df3330', 'created_at': '2024-04-16T20:52:22.403537+00:00', 'models': [], 'pipelines': []}"
      ]
     },
     "execution_count": 4,
     "metadata": {},
     "output_type": "execute_result"
    }
   ],
   "source": [
    "workspace = wl.get_workspace(name=workspace_name, create_if_not_exist=True)\n",
    "\n",
    "wl.set_current_workspace(workspace)"
   ]
  },
  {
   "attachments": {},
   "cell_type": "markdown",
   "metadata": {},
   "source": [
    "### Upload Model and Create Pipeline\n",
    "\n",
    "The `tagtest_model` and `tagtest_pipeline` will be created (or connected if already existing) based on the variables set earlier."
   ]
  },
  {
   "cell_type": "code",
   "execution_count": 5,
   "metadata": {},
   "outputs": [
    {
     "data": {
      "text/html": [
       "<table>\n",
       "        <tr>\n",
       "          <td>Name</td>\n",
       "          <td>tagtestmodel</td>\n",
       "        </tr>\n",
       "        <tr>\n",
       "          <td>Version</td>\n",
       "          <td>e3d7cec4-f92c-4c90-b4a7-14252a58860d</td>\n",
       "        </tr>\n",
       "        <tr>\n",
       "          <td>File Name</td>\n",
       "          <td>ccfraud.onnx</td>\n",
       "        </tr>\n",
       "        <tr>\n",
       "          <td>SHA</td>\n",
       "          <td>bc85ce596945f876256f41515c7501c399fd97ebcb9ab3dd41bf03f8937b4507</td>\n",
       "        </tr>\n",
       "        <tr>\n",
       "          <td>Status</td>\n",
       "          <td>ready</td>\n",
       "        </tr>\n",
       "        <tr>\n",
       "          <td>Image Path</td>\n",
       "          <td>None</td>\n",
       "        </tr>\n",
       "        <tr>\n",
       "          <td>Architecture</td>\n",
       "          <td>x86</td>\n",
       "        </tr>\n",
       "        <tr>\n",
       "          <td>Acceleration</td>\n",
       "          <td>none</td>\n",
       "        </tr>\n",
       "        <tr>\n",
       "          <td>Updated At</td>\n",
       "          <td>2024-16-Apr 20:52:24</td>\n",
       "        </tr>\n",
       "      </table>"
      ],
      "text/plain": [
       "{'name': 'tagtestmodel', 'version': 'e3d7cec4-f92c-4c90-b4a7-14252a58860d', 'file_name': 'ccfraud.onnx', 'image_path': None, 'arch': 'x86', 'accel': 'none', 'last_update_time': datetime.datetime(2024, 4, 16, 20, 52, 24, 844870, tzinfo=tzutc())}"
      ]
     },
     "execution_count": 5,
     "metadata": {},
     "output_type": "execute_result"
    }
   ],
   "source": [
    "tagtest_model = (wl.upload_model(model_name, \n",
    "                                 model_file_name, \n",
    "                                 framework=wallaroo.framework.Framework.ONNX)\n",
    "                                 .configure(tensor_fields=[\"tensor\"])\n",
    "                )\n",
    "tagtest_model"
   ]
  },
  {
   "cell_type": "code",
   "execution_count": 6,
   "metadata": {},
   "outputs": [
    {
     "data": {
      "text/html": [
       "<table><tr><th>name</th> <td>tagtestpipeline</td></tr><tr><th>created</th> <td>2024-04-16 20:52:25.682271+00:00</td></tr><tr><th>last_updated</th> <td>2024-04-16 20:52:25.682271+00:00</td></tr><tr><th>deployed</th> <td>(none)</td></tr><tr><th>arch</th> <td>None</td></tr><tr><th>accel</th> <td>None</td></tr><tr><th>tags</th> <td></td></tr><tr><th>versions</th> <td>2e303938-dc76-4dbd-a88a-d515cf2430b1</td></tr><tr><th>steps</th> <td></td></tr><tr><th>published</th> <td>False</td></tr></table>"
      ],
      "text/plain": [
       "{'name': 'tagtestpipeline', 'create_time': datetime.datetime(2024, 4, 16, 20, 52, 25, 682271, tzinfo=tzutc()), 'definition': '[]'}"
      ]
     },
     "execution_count": 6,
     "metadata": {},
     "output_type": "execute_result"
    }
   ],
   "source": [
    "tagtest_pipeline = wl.build_pipeline(pipeline_name)\n",
    "tagtest_pipeline"
   ]
  },
  {
   "attachments": {},
   "cell_type": "markdown",
   "metadata": {},
   "source": [
    "### List Pipeline and Model Tags\n",
    "\n",
    "This tutorial assumes that no tags are currently existing, but that can be verified through the Wallaroo client `list_pipelines` and `list_models` commands.  For this demonstration, it is recommended to use unique tags to verify each example."
   ]
  },
  {
   "cell_type": "code",
   "execution_count": 7,
   "metadata": {},
   "outputs": [
    {
     "ename": "AttributeError",
     "evalue": "'NoneType' object has no attribute 'get'",
     "output_type": "error",
     "traceback": [
      "\u001b[0;31m---------------------------------------------------------------------------\u001b[0m",
      "\u001b[0;31mAttributeError\u001b[0m                            Traceback (most recent call last)",
      "\u001b[0;32m~/.virtualenvs/wallaroosdk2024.1/lib/python3.8/site-packages/IPython/core/formatters.py\u001b[0m in \u001b[0;36m__call__\u001b[0;34m(self, obj)\u001b[0m\n\u001b[1;32m    343\u001b[0m             \u001b[0mmethod\u001b[0m \u001b[0;34m=\u001b[0m \u001b[0mget_real_method\u001b[0m\u001b[0;34m(\u001b[0m\u001b[0mobj\u001b[0m\u001b[0;34m,\u001b[0m \u001b[0mself\u001b[0m\u001b[0;34m.\u001b[0m\u001b[0mprint_method\u001b[0m\u001b[0;34m)\u001b[0m\u001b[0;34m\u001b[0m\u001b[0;34m\u001b[0m\u001b[0m\n\u001b[1;32m    344\u001b[0m             \u001b[0;32mif\u001b[0m \u001b[0mmethod\u001b[0m \u001b[0;32mis\u001b[0m \u001b[0;32mnot\u001b[0m \u001b[0;32mNone\u001b[0m\u001b[0;34m:\u001b[0m\u001b[0;34m\u001b[0m\u001b[0;34m\u001b[0m\u001b[0m\n\u001b[0;32m--> 345\u001b[0;31m                 \u001b[0;32mreturn\u001b[0m \u001b[0mmethod\u001b[0m\u001b[0;34m(\u001b[0m\u001b[0;34m)\u001b[0m\u001b[0;34m\u001b[0m\u001b[0;34m\u001b[0m\u001b[0m\n\u001b[0m\u001b[1;32m    346\u001b[0m             \u001b[0;32mreturn\u001b[0m \u001b[0;32mNone\u001b[0m\u001b[0;34m\u001b[0m\u001b[0;34m\u001b[0m\u001b[0m\n\u001b[1;32m    347\u001b[0m         \u001b[0;32melse\u001b[0m\u001b[0;34m:\u001b[0m\u001b[0;34m\u001b[0m\u001b[0;34m\u001b[0m\u001b[0m\n",
      "\u001b[0;32m~/.virtualenvs/wallaroosdk2024.1/lib/python3.8/site-packages/wallaroo/pipeline.py\u001b[0m in \u001b[0;36m_repr_html_\u001b[0;34m(self)\u001b[0m\n\u001b[1;32m   1449\u001b[0m                 \u001b[0;34m+\u001b[0m \u001b[0;34m\"</th><th>\"\u001b[0m\u001b[0;34m.\u001b[0m\u001b[0mjoin\u001b[0m\u001b[0;34m(\u001b[0m\u001b[0mfields\u001b[0m\u001b[0;34m)\u001b[0m\u001b[0;34m\u001b[0m\u001b[0;34m\u001b[0m\u001b[0m\n\u001b[1;32m   1450\u001b[0m                 \u001b[0;34m+\u001b[0m \u001b[0;34m\"</th></tr>\"\u001b[0m\u001b[0;34m\u001b[0m\u001b[0;34m\u001b[0m\u001b[0m\n\u001b[0;32m-> 1451\u001b[0;31m                 \u001b[0;34m+\u001b[0m \u001b[0;34m(\u001b[0m\u001b[0;34m\"\"\u001b[0m\u001b[0;34m.\u001b[0m\u001b[0mjoin\u001b[0m\u001b[0;34m(\u001b[0m\u001b[0;34m[\u001b[0m\u001b[0mrow\u001b[0m\u001b[0;34m(\u001b[0m\u001b[0mp\u001b[0m\u001b[0;34m)\u001b[0m \u001b[0;32mfor\u001b[0m \u001b[0mp\u001b[0m \u001b[0;32min\u001b[0m \u001b[0mself\u001b[0m\u001b[0;34m]\u001b[0m\u001b[0;34m)\u001b[0m\u001b[0;34m)\u001b[0m\u001b[0;34m\u001b[0m\u001b[0;34m\u001b[0m\u001b[0m\n\u001b[0m\u001b[1;32m   1452\u001b[0m                 \u001b[0;34m+\u001b[0m \u001b[0;34m\"</table>\"\u001b[0m\u001b[0;34m\u001b[0m\u001b[0;34m\u001b[0m\u001b[0m\n\u001b[1;32m   1453\u001b[0m             )\n",
      "\u001b[0;32m~/.virtualenvs/wallaroosdk2024.1/lib/python3.8/site-packages/wallaroo/pipeline.py\u001b[0m in \u001b[0;36m<listcomp>\u001b[0;34m(.0)\u001b[0m\n\u001b[1;32m   1449\u001b[0m                 \u001b[0;34m+\u001b[0m \u001b[0;34m\"</th><th>\"\u001b[0m\u001b[0;34m.\u001b[0m\u001b[0mjoin\u001b[0m\u001b[0;34m(\u001b[0m\u001b[0mfields\u001b[0m\u001b[0;34m)\u001b[0m\u001b[0;34m\u001b[0m\u001b[0;34m\u001b[0m\u001b[0m\n\u001b[1;32m   1450\u001b[0m                 \u001b[0;34m+\u001b[0m \u001b[0;34m\"</th></tr>\"\u001b[0m\u001b[0;34m\u001b[0m\u001b[0;34m\u001b[0m\u001b[0m\n\u001b[0;32m-> 1451\u001b[0;31m                 \u001b[0;34m+\u001b[0m \u001b[0;34m(\u001b[0m\u001b[0;34m\"\"\u001b[0m\u001b[0;34m.\u001b[0m\u001b[0mjoin\u001b[0m\u001b[0;34m(\u001b[0m\u001b[0;34m[\u001b[0m\u001b[0mrow\u001b[0m\u001b[0;34m(\u001b[0m\u001b[0mp\u001b[0m\u001b[0;34m)\u001b[0m \u001b[0;32mfor\u001b[0m \u001b[0mp\u001b[0m \u001b[0;32min\u001b[0m \u001b[0mself\u001b[0m\u001b[0;34m]\u001b[0m\u001b[0;34m)\u001b[0m\u001b[0;34m)\u001b[0m\u001b[0;34m\u001b[0m\u001b[0;34m\u001b[0m\u001b[0m\n\u001b[0m\u001b[1;32m   1452\u001b[0m                 \u001b[0;34m+\u001b[0m \u001b[0;34m\"</table>\"\u001b[0m\u001b[0;34m\u001b[0m\u001b[0;34m\u001b[0m\u001b[0m\n\u001b[1;32m   1453\u001b[0m             )\n",
      "\u001b[0;32m~/.virtualenvs/wallaroosdk2024.1/lib/python3.8/site-packages/wallaroo/pipeline.py\u001b[0m in \u001b[0;36mrow\u001b[0;34m(pipeline)\u001b[0m\n\u001b[1;32m   1401\u001b[0m                 \u001b[0;32mNone\u001b[0m\u001b[0;34m\u001b[0m\u001b[0;34m\u001b[0m\u001b[0m\n\u001b[1;32m   1402\u001b[0m                 \u001b[0;32mif\u001b[0m \u001b[0mdeployment\u001b[0m \u001b[0;32mis\u001b[0m \u001b[0;32mNone\u001b[0m\u001b[0;34m\u001b[0m\u001b[0;34m\u001b[0m\u001b[0m\n\u001b[0;32m-> 1403\u001b[0;31m                 \u001b[0;32melse\u001b[0m \u001b[0mdeployment\u001b[0m\u001b[0;34m.\u001b[0m\u001b[0mengine_config\u001b[0m\u001b[0;34m(\u001b[0m\u001b[0;34m)\u001b[0m\u001b[0;34m\u001b[0m\u001b[0;34m\u001b[0m\u001b[0m\n\u001b[0m\u001b[1;32m   1404\u001b[0m                 \u001b[0;34m.\u001b[0m\u001b[0mget\u001b[0m\u001b[0;34m(\u001b[0m\u001b[0;34m\"engine\"\u001b[0m\u001b[0;34m,\u001b[0m \u001b[0mdict\u001b[0m\u001b[0;34m(\u001b[0m\u001b[0;34m)\u001b[0m\u001b[0;34m)\u001b[0m\u001b[0;34m\u001b[0m\u001b[0;34m\u001b[0m\u001b[0m\n\u001b[1;32m   1405\u001b[0m                 \u001b[0;34m.\u001b[0m\u001b[0mget\u001b[0m\u001b[0;34m(\u001b[0m\u001b[0;34m\"arch\"\u001b[0m\u001b[0;34m,\u001b[0m \u001b[0mstr\u001b[0m\u001b[0;34m(\u001b[0m\u001b[0mArchitecture\u001b[0m\u001b[0;34m.\u001b[0m\u001b[0mdefault\u001b[0m\u001b[0;34m(\u001b[0m\u001b[0;34m)\u001b[0m\u001b[0;34m)\u001b[0m\u001b[0;34m)\u001b[0m\u001b[0;34m\u001b[0m\u001b[0;34m\u001b[0m\u001b[0m\n",
      "\u001b[0;31mAttributeError\u001b[0m: 'NoneType' object has no attribute 'get'"
     ]
    },
    {
     "data": {
      "text/plain": [
       "[{'name': 'tagtestpipeline', 'create_time': datetime.datetime(2024, 4, 16, 20, 52, 25, 682271, tzinfo=tzutc()), 'definition': '[]'},\n",
       " {'name': 'retail-inv-tracker-edge-obs', 'create_time': datetime.datetime(2024, 4, 16, 20, 52, 25, 348600, tzinfo=tzutc()), 'definition': '[]'},\n",
       " {'name': 'apiinferenceexamplepipeline', 'create_time': datetime.datetime(2024, 4, 16, 20, 35, 54, 584977, tzinfo=tzutc()), 'definition': '[]'},\n",
       " {'name': 'sdkinferenceexamplepipeline', 'create_time': datetime.datetime(2024, 4, 16, 20, 27, 30, 246869, tzinfo=tzutc()), 'definition': '[]'},\n",
       " {'name': 'alohapipeline', 'create_time': datetime.datetime(2024, 4, 16, 20, 15, 1, 333941, tzinfo=tzutc()), 'definition': '[]'},\n",
       " {'name': 'multi-io-example', 'create_time': datetime.datetime(2024, 4, 16, 20, 13, 37, 949936, tzinfo=tzutc()), 'definition': '[]'},\n",
       " {'name': 'mlflowstatsmodelpipeline', 'create_time': datetime.datetime(2024, 4, 16, 20, 7, 55, 551305, tzinfo=tzutc()), 'definition': '[]'},\n",
       " {'name': 'imdbpipeline', 'create_time': datetime.datetime(2024, 4, 16, 20, 3, 23, 496689, tzinfo=tzutc()), 'definition': '[]'},\n",
       " {'name': 'whisper-hf-byop', 'create_time': datetime.datetime(2024, 4, 16, 19, 59, 40, 217098, tzinfo=tzutc()), 'definition': '[]'},\n",
       " {'name': 'clip-demo', 'create_time': datetime.datetime(2024, 4, 16, 19, 48, 50, 468599, tzinfo=tzutc()), 'definition': '[]'},\n",
       " {'name': 'demandcurvepipeline', 'create_time': datetime.datetime(2024, 4, 16, 19, 38, 36, 714333, tzinfo=tzutc()), 'definition': '[]'},\n",
       " {'name': 'yolo8demonstration', 'create_time': datetime.datetime(2024, 4, 16, 17, 57, 58, 950766, tzinfo=tzutc()), 'definition': '[]'},\n",
       " {'name': 'biolabspipeline', 'create_time': datetime.datetime(2024, 4, 16, 17, 45, 11, 920420, tzinfo=tzutc()), 'definition': '[]'},\n",
       " {'name': 'alohapipeline', 'create_time': datetime.datetime(2024, 4, 16, 16, 8, 59, 561542, tzinfo=tzutc()), 'definition': '[]'},\n",
       " {'name': 'log-api-cv', 'create_time': datetime.datetime(2024, 4, 16, 15, 9, 59, 926451, tzinfo=tzutc()), 'definition': '[]'},\n",
       " {'name': 'logapipipeline', 'create_time': datetime.datetime(2024, 4, 16, 15, 6, 25, 377413, tzinfo=tzutc()), 'definition': '[]'},\n",
       " {'name': 'logpipeline-anomaly-example', 'create_time': datetime.datetime(2024, 4, 16, 15, 1, 10, 179403, tzinfo=tzutc()), 'definition': '[]'},\n",
       " {'name': 'logpipeline-test', 'create_time': datetime.datetime(2024, 4, 16, 14, 47, 16, 921419, tzinfo=tzutc()), 'definition': '[]'},\n",
       " {'name': 'assay-demonstration-tutorial', 'create_time': datetime.datetime(2024, 4, 16, 14, 35, 4, 333563, tzinfo=tzutc()), 'definition': '[]'},\n",
       " {'name': 'bikedaypipe', 'create_time': datetime.datetime(2024, 4, 15, 14, 36, 58, 942226, tzinfo=tzutc()), 'definition': '[]'},\n",
       " {'name': 'bikedaypipe-300', 'create_time': datetime.datetime(2024, 4, 15, 14, 30, 47, 721971, tzinfo=tzutc()), 'definition': '[]'}]"
      ]
     },
     "execution_count": 7,
     "metadata": {},
     "output_type": "execute_result"
    }
   ],
   "source": [
    "wl.list_pipelines()"
   ]
  },
  {
   "cell_type": "code",
   "execution_count": 8,
   "metadata": {},
   "outputs": [
    {
     "data": {
      "text/html": [
       "\n",
       "          <table>\n",
       "            <tr>\n",
       "              <th>Name</th>\n",
       "              <th># of Versions</th>\n",
       "              <th>Owner ID</th>\n",
       "              <th>Last Updated</th>\n",
       "              <th>Created At</th>\n",
       "            </tr>\n",
       "            \n",
       "            <tr>\n",
       "              <td>tagtestmodel</td>\n",
       "              <td>1</td>\n",
       "              <td>\"\"</td>\n",
       "              <td>2024-04-16 20:52:24.844870+00:00</td>\n",
       "              <td>2024-04-16 20:52:24.844870+00:00</td>\n",
       "            </tr>\n",
       "          \n",
       "          </table>\n",
       "        "
      ],
      "text/plain": [
       "[{'name': 'tagtestmodel', 'versions': 1, 'owner_id': '\"\"', 'last_update_time': datetime.datetime(2024, 4, 16, 20, 52, 24, 844870, tzinfo=tzutc()), 'created_at': datetime.datetime(2024, 4, 16, 20, 52, 24, 844870, tzinfo=tzutc())}]"
      ]
     },
     "execution_count": 8,
     "metadata": {},
     "output_type": "execute_result"
    }
   ],
   "source": [
    "wl.list_models()"
   ]
  },
  {
   "attachments": {},
   "cell_type": "markdown",
   "metadata": {},
   "source": [
    "### Create Tag\n",
    "\n",
    "Tags are created with the Wallaroo client command `create_tag(String tagname)`.  This creates the tag and makes it available for use.\n",
    "\n",
    "The tag will be saved to the variable `currentTag` to be used in the rest of these examples."
   ]
  },
  {
   "cell_type": "code",
   "execution_count": 9,
   "metadata": {},
   "outputs": [],
   "source": [
    "# Now we create our tag\n",
    "currentTag = wl.create_tag(\"My Great Tag\")"
   ]
  },
  {
   "attachments": {},
   "cell_type": "markdown",
   "metadata": {},
   "source": [
    "### List Tags\n",
    "\n",
    "Tags are listed with the Wallaroo client command `list_tags()`, which shows all tags and what models and pipelines they have been assigned to.  Note that if a **tag has not been assigned**, it will not be displayed."
   ]
  },
  {
   "cell_type": "code",
   "execution_count": 10,
   "metadata": {
    "tags": []
   },
   "outputs": [
    {
     "data": {
      "text/html": [
       "<table><tr><th>id</th><th>tag</th><th>models</th><th>pipelines</th></tr><tr><td>1</td><td>My Great Tag</td><td>[]</td><td>[]</td></tr></table>"
      ],
      "text/plain": [
       "[{'id': 1, 'tag': 'My Great Tag', 'models': [], 'pipelines': []}]"
      ]
     },
     "execution_count": 10,
     "metadata": {},
     "output_type": "execute_result"
    }
   ],
   "source": [
    "# List all tags\n",
    "\n",
    "wl.list_tags()"
   ]
  },
  {
   "attachments": {},
   "cell_type": "markdown",
   "metadata": {},
   "source": [
    "### Assign Tag to a Model\n",
    "\n",
    "Tags are assigned to a model through the Wallaroo Tag `add_to_model(model_id)` command, where `model_id` is the model's numerical ID number.  The tag is applied to the most current version of the model.\n",
    "\n",
    "For this example, the `currentTag` will be applied to the `tagtest_model`.  All tags will then be listed to show it has been assigned to this model."
   ]
  },
  {
   "cell_type": "code",
   "execution_count": 11,
   "metadata": {},
   "outputs": [
    {
     "data": {
      "text/plain": [
       "{'model_id': 33, 'tag_id': 1}"
      ]
     },
     "execution_count": 11,
     "metadata": {},
     "output_type": "execute_result"
    }
   ],
   "source": [
    "# add tag to model\n",
    "\n",
    "currentTag.add_to_model(tagtest_model.id())"
   ]
  },
  {
   "cell_type": "code",
   "execution_count": 12,
   "metadata": {},
   "outputs": [
    {
     "data": {
      "text/html": [
       "<table><tr><th>id</th><th>tag</th><th>models</th><th>pipelines</th></tr><tr><td>1</td><td>My Great Tag</td><td>[('tagtestmodel', ['e3d7cec4-f92c-4c90-b4a7-14252a58860d'])]</td><td>[]</td></tr></table>"
      ],
      "text/plain": [
       "[{'id': 1, 'tag': 'My Great Tag', 'models': [{'name': 'tagtestmodel', 'version': 'e3d7cec4-f92c-4c90-b4a7-14252a58860d', 'file_name': 'ccfraud.onnx', 'image_path': None, 'arch': 'x86', 'accel': 'none', 'last_update_time': datetime.datetime(2024, 4, 16, 20, 52, 24, 844870, tzinfo=tzutc())}], 'pipelines': []}]"
      ]
     },
     "execution_count": 12,
     "metadata": {},
     "output_type": "execute_result"
    }
   ],
   "source": [
    "# list all tags to verify\n",
    "\n",
    "wl.list_tags()"
   ]
  },
  {
   "attachments": {},
   "cell_type": "markdown",
   "metadata": {},
   "source": [
    "### Search Models by Tag\n",
    "\n",
    "Model versions can be searched via tags using the Wallaroo Client method `search_models(search_term)`, where `search_term` is a string value.  All models versions containing the tag will be displayed.  In this example, we will be using the text from our tag to list all models that have the text from `currentTag` in them."
   ]
  },
  {
   "cell_type": "code",
   "execution_count": 13,
   "metadata": {},
   "outputs": [
    {
     "data": {
      "text/html": [
       "<table><tr><th>name</th><th>version</th><th>file_name</th><th>image_path</th><th>arch</th><th>accel</th><th>last_update_time</th></tr>\n",
       "            <tr>\n",
       "                <td>tagtestmodel</td>\n",
       "                <td>e3d7cec4-f92c-4c90-b4a7-14252a58860d</td>\n",
       "                <td>ccfraud.onnx</td>\n",
       "                <td>None</td>\n",
       "                <td>x86</td>\n",
       "                <td>none</td>\n",
       "                <td>2024-04-16 20:52:24.844870+00:00</td>\n",
       "            </tr>\n",
       "          </table>"
      ],
      "text/plain": [
       "[{'name': 'tagtestmodel', 'version': 'e3d7cec4-f92c-4c90-b4a7-14252a58860d', 'file_name': 'ccfraud.onnx', 'image_path': None, 'arch': 'x86', 'accel': 'none', 'last_update_time': datetime.datetime(2024, 4, 16, 20, 52, 24, 844870, tzinfo=tzutc())}]"
      ]
     },
     "execution_count": 13,
     "metadata": {},
     "output_type": "execute_result"
    }
   ],
   "source": [
    "# Search models by tag\n",
    "\n",
    "wl.search_models('My Great Tag')"
   ]
  },
  {
   "attachments": {},
   "cell_type": "markdown",
   "metadata": {},
   "source": [
    "### Remove Tag from Model\n",
    "\n",
    "Tags are removed from models using the Wallaroo Tag `remove_from_model(model_id)` command.\n",
    "\n",
    "In this example, the `currentTag` will be removed from `tagtest_model`.  A list of all tags will be shown with the `list_tags` command, followed by searching the models for the tag to verify it has been removed."
   ]
  },
  {
   "cell_type": "code",
   "execution_count": 14,
   "metadata": {},
   "outputs": [
    {
     "data": {
      "text/plain": [
       "{'model_id': 33, 'tag_id': 1}"
      ]
     },
     "execution_count": 14,
     "metadata": {},
     "output_type": "execute_result"
    }
   ],
   "source": [
    "### remove tag from model\n",
    "\n",
    "currentTag.remove_from_model(tagtest_model.id())"
   ]
  },
  {
   "cell_type": "code",
   "execution_count": 15,
   "metadata": {},
   "outputs": [
    {
     "data": {
      "text/html": [
       "<table><tr><th>id</th><th>tag</th><th>models</th><th>pipelines</th></tr><tr><td>1</td><td>My Great Tag</td><td>[]</td><td>[]</td></tr></table>"
      ],
      "text/plain": [
       "[{'id': 1, 'tag': 'My Great Tag', 'models': [], 'pipelines': []}]"
      ]
     },
     "execution_count": 15,
     "metadata": {},
     "output_type": "execute_result"
    }
   ],
   "source": [
    "# list all tags to verify it has been removed from `tagtest_model`.\n",
    "\n",
    "wl.list_tags()"
   ]
  },
  {
   "cell_type": "code",
   "execution_count": 16,
   "metadata": {},
   "outputs": [
    {
     "data": {
      "text/html": [
       "(no model versions)"
      ],
      "text/plain": [
       "[]"
      ]
     },
     "execution_count": 16,
     "metadata": {},
     "output_type": "execute_result"
    }
   ],
   "source": [
    "# search models for currentTag to verify it has been removed from `tagtest_model`.\n",
    "\n",
    "wl.search_models('My Great Tag')"
   ]
  },
  {
   "attachments": {},
   "cell_type": "markdown",
   "metadata": {},
   "source": [
    "### Add Tag to Pipeline\n",
    "\n",
    "Tags are added to a pipeline through the Wallaroo Tag `add_to_pipeline(pipeline_id)` method, where `pipeline_id` is the pipeline's integer id.\n",
    "\n",
    "For this example, we will add `currentTag` to `testtest_pipeline`, then verify it has been added through the `list_tags` command and `list_pipelines` command."
   ]
  },
  {
   "cell_type": "code",
   "execution_count": 17,
   "metadata": {},
   "outputs": [
    {
     "data": {
      "text/plain": [
       "{'pipeline_pk_id': 65, 'tag_pk_id': 1}"
      ]
     },
     "execution_count": 17,
     "metadata": {},
     "output_type": "execute_result"
    }
   ],
   "source": [
    "# add this tag to the pipeline\n",
    "currentTag.add_to_pipeline(tagtest_pipeline.id())"
   ]
  },
  {
   "cell_type": "code",
   "execution_count": 18,
   "metadata": {},
   "outputs": [
    {
     "data": {
      "text/html": [
       "<table><tr><th>id</th><th>tag</th><th>models</th><th>pipelines</th></tr><tr><td>1</td><td>My Great Tag</td><td>[]</td><td>[('tagtestpipeline', ['2e303938-dc76-4dbd-a88a-d515cf2430b1'])]</td></tr></table>"
      ],
      "text/plain": [
       "[{'id': 1, 'tag': 'My Great Tag', 'models': [], 'pipelines': [{'name': 'tagtestpipeline', 'create_time': datetime.datetime(2024, 4, 16, 20, 52, 25, 682271, tzinfo=tzutc()), 'definition': '[]'}]}]"
      ]
     },
     "execution_count": 18,
     "metadata": {},
     "output_type": "execute_result"
    }
   ],
   "source": [
    "# list tags to verify it was added to tagtest_pipeline\n",
    "\n",
    "wl.list_tags()\n"
   ]
  },
  {
   "cell_type": "code",
   "execution_count": 19,
   "metadata": {},
   "outputs": [
    {
     "ename": "AttributeError",
     "evalue": "'NoneType' object has no attribute 'get'",
     "output_type": "error",
     "traceback": [
      "\u001b[0;31m---------------------------------------------------------------------------\u001b[0m",
      "\u001b[0;31mAttributeError\u001b[0m                            Traceback (most recent call last)",
      "\u001b[0;32m~/.virtualenvs/wallaroosdk2024.1/lib/python3.8/site-packages/IPython/core/formatters.py\u001b[0m in \u001b[0;36m__call__\u001b[0;34m(self, obj)\u001b[0m\n\u001b[1;32m    343\u001b[0m             \u001b[0mmethod\u001b[0m \u001b[0;34m=\u001b[0m \u001b[0mget_real_method\u001b[0m\u001b[0;34m(\u001b[0m\u001b[0mobj\u001b[0m\u001b[0;34m,\u001b[0m \u001b[0mself\u001b[0m\u001b[0;34m.\u001b[0m\u001b[0mprint_method\u001b[0m\u001b[0;34m)\u001b[0m\u001b[0;34m\u001b[0m\u001b[0;34m\u001b[0m\u001b[0m\n\u001b[1;32m    344\u001b[0m             \u001b[0;32mif\u001b[0m \u001b[0mmethod\u001b[0m \u001b[0;32mis\u001b[0m \u001b[0;32mnot\u001b[0m \u001b[0;32mNone\u001b[0m\u001b[0;34m:\u001b[0m\u001b[0;34m\u001b[0m\u001b[0;34m\u001b[0m\u001b[0m\n\u001b[0;32m--> 345\u001b[0;31m                 \u001b[0;32mreturn\u001b[0m \u001b[0mmethod\u001b[0m\u001b[0;34m(\u001b[0m\u001b[0;34m)\u001b[0m\u001b[0;34m\u001b[0m\u001b[0;34m\u001b[0m\u001b[0m\n\u001b[0m\u001b[1;32m    346\u001b[0m             \u001b[0;32mreturn\u001b[0m \u001b[0;32mNone\u001b[0m\u001b[0;34m\u001b[0m\u001b[0;34m\u001b[0m\u001b[0m\n\u001b[1;32m    347\u001b[0m         \u001b[0;32melse\u001b[0m\u001b[0;34m:\u001b[0m\u001b[0;34m\u001b[0m\u001b[0;34m\u001b[0m\u001b[0m\n",
      "\u001b[0;32m~/.virtualenvs/wallaroosdk2024.1/lib/python3.8/site-packages/wallaroo/pipeline.py\u001b[0m in \u001b[0;36m_repr_html_\u001b[0;34m(self)\u001b[0m\n\u001b[1;32m   1449\u001b[0m                 \u001b[0;34m+\u001b[0m \u001b[0;34m\"</th><th>\"\u001b[0m\u001b[0;34m.\u001b[0m\u001b[0mjoin\u001b[0m\u001b[0;34m(\u001b[0m\u001b[0mfields\u001b[0m\u001b[0;34m)\u001b[0m\u001b[0;34m\u001b[0m\u001b[0;34m\u001b[0m\u001b[0m\n\u001b[1;32m   1450\u001b[0m                 \u001b[0;34m+\u001b[0m \u001b[0;34m\"</th></tr>\"\u001b[0m\u001b[0;34m\u001b[0m\u001b[0;34m\u001b[0m\u001b[0m\n\u001b[0;32m-> 1451\u001b[0;31m                 \u001b[0;34m+\u001b[0m \u001b[0;34m(\u001b[0m\u001b[0;34m\"\"\u001b[0m\u001b[0;34m.\u001b[0m\u001b[0mjoin\u001b[0m\u001b[0;34m(\u001b[0m\u001b[0;34m[\u001b[0m\u001b[0mrow\u001b[0m\u001b[0;34m(\u001b[0m\u001b[0mp\u001b[0m\u001b[0;34m)\u001b[0m \u001b[0;32mfor\u001b[0m \u001b[0mp\u001b[0m \u001b[0;32min\u001b[0m \u001b[0mself\u001b[0m\u001b[0;34m]\u001b[0m\u001b[0;34m)\u001b[0m\u001b[0;34m)\u001b[0m\u001b[0;34m\u001b[0m\u001b[0;34m\u001b[0m\u001b[0m\n\u001b[0m\u001b[1;32m   1452\u001b[0m                 \u001b[0;34m+\u001b[0m \u001b[0;34m\"</table>\"\u001b[0m\u001b[0;34m\u001b[0m\u001b[0;34m\u001b[0m\u001b[0m\n\u001b[1;32m   1453\u001b[0m             )\n",
      "\u001b[0;32m~/.virtualenvs/wallaroosdk2024.1/lib/python3.8/site-packages/wallaroo/pipeline.py\u001b[0m in \u001b[0;36m<listcomp>\u001b[0;34m(.0)\u001b[0m\n\u001b[1;32m   1449\u001b[0m                 \u001b[0;34m+\u001b[0m \u001b[0;34m\"</th><th>\"\u001b[0m\u001b[0;34m.\u001b[0m\u001b[0mjoin\u001b[0m\u001b[0;34m(\u001b[0m\u001b[0mfields\u001b[0m\u001b[0;34m)\u001b[0m\u001b[0;34m\u001b[0m\u001b[0;34m\u001b[0m\u001b[0m\n\u001b[1;32m   1450\u001b[0m                 \u001b[0;34m+\u001b[0m \u001b[0;34m\"</th></tr>\"\u001b[0m\u001b[0;34m\u001b[0m\u001b[0;34m\u001b[0m\u001b[0m\n\u001b[0;32m-> 1451\u001b[0;31m                 \u001b[0;34m+\u001b[0m \u001b[0;34m(\u001b[0m\u001b[0;34m\"\"\u001b[0m\u001b[0;34m.\u001b[0m\u001b[0mjoin\u001b[0m\u001b[0;34m(\u001b[0m\u001b[0;34m[\u001b[0m\u001b[0mrow\u001b[0m\u001b[0;34m(\u001b[0m\u001b[0mp\u001b[0m\u001b[0;34m)\u001b[0m \u001b[0;32mfor\u001b[0m \u001b[0mp\u001b[0m \u001b[0;32min\u001b[0m \u001b[0mself\u001b[0m\u001b[0;34m]\u001b[0m\u001b[0;34m)\u001b[0m\u001b[0;34m)\u001b[0m\u001b[0;34m\u001b[0m\u001b[0;34m\u001b[0m\u001b[0m\n\u001b[0m\u001b[1;32m   1452\u001b[0m                 \u001b[0;34m+\u001b[0m \u001b[0;34m\"</table>\"\u001b[0m\u001b[0;34m\u001b[0m\u001b[0;34m\u001b[0m\u001b[0m\n\u001b[1;32m   1453\u001b[0m             )\n",
      "\u001b[0;32m~/.virtualenvs/wallaroosdk2024.1/lib/python3.8/site-packages/wallaroo/pipeline.py\u001b[0m in \u001b[0;36mrow\u001b[0;34m(pipeline)\u001b[0m\n\u001b[1;32m   1401\u001b[0m                 \u001b[0;32mNone\u001b[0m\u001b[0;34m\u001b[0m\u001b[0;34m\u001b[0m\u001b[0m\n\u001b[1;32m   1402\u001b[0m                 \u001b[0;32mif\u001b[0m \u001b[0mdeployment\u001b[0m \u001b[0;32mis\u001b[0m \u001b[0;32mNone\u001b[0m\u001b[0;34m\u001b[0m\u001b[0;34m\u001b[0m\u001b[0m\n\u001b[0;32m-> 1403\u001b[0;31m                 \u001b[0;32melse\u001b[0m \u001b[0mdeployment\u001b[0m\u001b[0;34m.\u001b[0m\u001b[0mengine_config\u001b[0m\u001b[0;34m(\u001b[0m\u001b[0;34m)\u001b[0m\u001b[0;34m\u001b[0m\u001b[0;34m\u001b[0m\u001b[0m\n\u001b[0m\u001b[1;32m   1404\u001b[0m                 \u001b[0;34m.\u001b[0m\u001b[0mget\u001b[0m\u001b[0;34m(\u001b[0m\u001b[0;34m\"engine\"\u001b[0m\u001b[0;34m,\u001b[0m \u001b[0mdict\u001b[0m\u001b[0;34m(\u001b[0m\u001b[0;34m)\u001b[0m\u001b[0;34m)\u001b[0m\u001b[0;34m\u001b[0m\u001b[0;34m\u001b[0m\u001b[0m\n\u001b[1;32m   1405\u001b[0m                 \u001b[0;34m.\u001b[0m\u001b[0mget\u001b[0m\u001b[0;34m(\u001b[0m\u001b[0;34m\"arch\"\u001b[0m\u001b[0;34m,\u001b[0m \u001b[0mstr\u001b[0m\u001b[0;34m(\u001b[0m\u001b[0mArchitecture\u001b[0m\u001b[0;34m.\u001b[0m\u001b[0mdefault\u001b[0m\u001b[0;34m(\u001b[0m\u001b[0;34m)\u001b[0m\u001b[0;34m)\u001b[0m\u001b[0;34m)\u001b[0m\u001b[0;34m\u001b[0m\u001b[0;34m\u001b[0m\u001b[0m\n",
      "\u001b[0;31mAttributeError\u001b[0m: 'NoneType' object has no attribute 'get'"
     ]
    },
    {
     "data": {
      "text/plain": [
       "[{'name': 'tagtestpipeline', 'create_time': datetime.datetime(2024, 4, 16, 20, 52, 25, 682271, tzinfo=tzutc()), 'definition': '[]'},\n",
       " {'name': 'retail-inv-tracker-edge-obs', 'create_time': datetime.datetime(2024, 4, 16, 20, 52, 25, 348600, tzinfo=tzutc()), 'definition': '[]'},\n",
       " {'name': 'apiinferenceexamplepipeline', 'create_time': datetime.datetime(2024, 4, 16, 20, 35, 54, 584977, tzinfo=tzutc()), 'definition': '[]'},\n",
       " {'name': 'sdkinferenceexamplepipeline', 'create_time': datetime.datetime(2024, 4, 16, 20, 27, 30, 246869, tzinfo=tzutc()), 'definition': '[]'},\n",
       " {'name': 'alohapipeline', 'create_time': datetime.datetime(2024, 4, 16, 20, 15, 1, 333941, tzinfo=tzutc()), 'definition': '[]'},\n",
       " {'name': 'multi-io-example', 'create_time': datetime.datetime(2024, 4, 16, 20, 13, 37, 949936, tzinfo=tzutc()), 'definition': '[]'},\n",
       " {'name': 'mlflowstatsmodelpipeline', 'create_time': datetime.datetime(2024, 4, 16, 20, 7, 55, 551305, tzinfo=tzutc()), 'definition': '[]'},\n",
       " {'name': 'imdbpipeline', 'create_time': datetime.datetime(2024, 4, 16, 20, 3, 23, 496689, tzinfo=tzutc()), 'definition': '[]'},\n",
       " {'name': 'whisper-hf-byop', 'create_time': datetime.datetime(2024, 4, 16, 19, 59, 40, 217098, tzinfo=tzutc()), 'definition': '[]'},\n",
       " {'name': 'clip-demo', 'create_time': datetime.datetime(2024, 4, 16, 19, 48, 50, 468599, tzinfo=tzutc()), 'definition': '[]'},\n",
       " {'name': 'demandcurvepipeline', 'create_time': datetime.datetime(2024, 4, 16, 19, 38, 36, 714333, tzinfo=tzutc()), 'definition': '[]'},\n",
       " {'name': 'yolo8demonstration', 'create_time': datetime.datetime(2024, 4, 16, 17, 57, 58, 950766, tzinfo=tzutc()), 'definition': '[]'},\n",
       " {'name': 'biolabspipeline', 'create_time': datetime.datetime(2024, 4, 16, 17, 45, 11, 920420, tzinfo=tzutc()), 'definition': '[]'},\n",
       " {'name': 'alohapipeline', 'create_time': datetime.datetime(2024, 4, 16, 16, 8, 59, 561542, tzinfo=tzutc()), 'definition': '[]'},\n",
       " {'name': 'log-api-cv', 'create_time': datetime.datetime(2024, 4, 16, 15, 9, 59, 926451, tzinfo=tzutc()), 'definition': '[]'},\n",
       " {'name': 'logapipipeline', 'create_time': datetime.datetime(2024, 4, 16, 15, 6, 25, 377413, tzinfo=tzutc()), 'definition': '[]'},\n",
       " {'name': 'logpipeline-anomaly-example', 'create_time': datetime.datetime(2024, 4, 16, 15, 1, 10, 179403, tzinfo=tzutc()), 'definition': '[]'},\n",
       " {'name': 'logpipeline-test', 'create_time': datetime.datetime(2024, 4, 16, 14, 47, 16, 921419, tzinfo=tzutc()), 'definition': '[]'},\n",
       " {'name': 'assay-demonstration-tutorial', 'create_time': datetime.datetime(2024, 4, 16, 14, 35, 4, 333563, tzinfo=tzutc()), 'definition': '[]'},\n",
       " {'name': 'bikedaypipe', 'create_time': datetime.datetime(2024, 4, 15, 14, 36, 58, 942226, tzinfo=tzutc()), 'definition': '[]'},\n",
       " {'name': 'bikedaypipe-300', 'create_time': datetime.datetime(2024, 4, 15, 14, 30, 47, 721971, tzinfo=tzutc()), 'definition': '[]'}]"
      ]
     },
     "execution_count": 19,
     "metadata": {},
     "output_type": "execute_result"
    }
   ],
   "source": [
    "# get all of the pipelines to show the tag was added to tagtest-pipeline\n",
    "\n",
    "wl.list_pipelines()"
   ]
  },
  {
   "attachments": {},
   "cell_type": "markdown",
   "metadata": {},
   "source": [
    "### Search Pipelines by Tag\n",
    "\n",
    "Pipelines can be searched through the Wallaroo Client `search_pipelines(search_term)` method, where `search_term` is a string value for tags assigned to the pipelines.\n",
    "\n",
    "In this example, the text \"My Great Tag\" that corresponds to `currentTag` will be searched for and displayed."
   ]
  },
  {
   "cell_type": "code",
   "execution_count": 20,
   "metadata": {},
   "outputs": [
    {
     "data": {
      "text/html": [
       "<table><tr><th>name</th><th>version</th><th>creation_time</th><th>last_updated_time</th><th>deployed</th><th>tags</th><th>steps</th></tr><tr><td>tagtestpipeline</td><td>2e303938-dc76-4dbd-a88a-d515cf2430b1</td><td>2024-16-Apr 20:52:25</td><td>2024-16-Apr 20:52:25</td><td>(unknown)</td><td>My Great Tag</td><td></td></tr></table>"
      ],
      "text/plain": [
       "[<wallaroo.pipeline_version.PipelineVersion at 0x17c137430>]"
      ]
     },
     "execution_count": 20,
     "metadata": {},
     "output_type": "execute_result"
    }
   ],
   "source": [
    "wl.search_pipelines('My Great Tag')"
   ]
  },
  {
   "attachments": {},
   "cell_type": "markdown",
   "metadata": {},
   "source": [
    "### Remove Tag from Pipeline\n",
    "\n",
    "Tags are removed from a pipeline with the Wallaroo Tag `remove_from_pipeline(pipeline_id)` command, where `pipeline_id` is the integer value of the pipeline's id.\n",
    "\n",
    "For this example, `currentTag` will be removed from `tagtest_pipeline`.  This will be verified through the `list_tags` and `search_pipelines` command."
   ]
  },
  {
   "cell_type": "code",
   "execution_count": 21,
   "metadata": {},
   "outputs": [
    {
     "data": {
      "text/plain": [
       "{'pipeline_pk_id': 65, 'tag_pk_id': 1}"
      ]
     },
     "execution_count": 21,
     "metadata": {},
     "output_type": "execute_result"
    }
   ],
   "source": [
    "## remove from pipeline\n",
    "currentTag.remove_from_pipeline(tagtest_pipeline.id())"
   ]
  },
  {
   "cell_type": "code",
   "execution_count": 22,
   "metadata": {},
   "outputs": [
    {
     "data": {
      "text/html": [
       "<table><tr><th>id</th><th>tag</th><th>models</th><th>pipelines</th></tr><tr><td>1</td><td>My Great Tag</td><td>[]</td><td>[]</td></tr></table>"
      ],
      "text/plain": [
       "[{'id': 1, 'tag': 'My Great Tag', 'models': [], 'pipelines': []}]"
      ]
     },
     "execution_count": 22,
     "metadata": {},
     "output_type": "execute_result"
    }
   ],
   "source": [
    "wl.list_tags()"
   ]
  },
  {
   "cell_type": "code",
   "execution_count": 23,
   "metadata": {},
   "outputs": [
    {
     "data": {
      "text/html": [
       "(no pipelines)"
      ],
      "text/plain": [
       "[]"
      ]
     },
     "execution_count": 23,
     "metadata": {},
     "output_type": "execute_result"
    }
   ],
   "source": [
    "## Verify it was removed\n",
    "wl.search_pipelines('My Great Tag')"
   ]
  }
 ],
 "metadata": {
  "kernelspec": {
   "display_name": "wallaroosdk.2024.1",
   "language": "python",
   "name": "wallaroosdk.2024.1"
  },
  "language_info": {
   "codemirror_mode": {
    "name": "ipython",
    "version": 3
   },
   "file_extension": ".py",
   "mimetype": "text/x-python",
   "name": "python",
   "nbconvert_exporter": "python",
   "pygments_lexer": "ipython3",
   "version": "3.8.19"
  },
  "vscode": {
   "interpreter": {
    "hash": "7dda4bf3640b7fafcd1648658b879b4cc9f6ba6084e8fb356fdaaa1a461d1690"
   }
  }
 },
 "nbformat": 4,
 "nbformat_minor": 4
}
