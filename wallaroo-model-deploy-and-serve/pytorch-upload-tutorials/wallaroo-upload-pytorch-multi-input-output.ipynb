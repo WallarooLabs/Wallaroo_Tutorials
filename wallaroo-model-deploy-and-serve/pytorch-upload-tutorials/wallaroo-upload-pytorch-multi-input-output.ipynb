{
 "cells": [
  {
   "cell_type": "markdown",
   "id": "c18c8461-a00a-4a16-b3d7-2dee9187f672",
   "metadata": {},
   "source": [
    "This tutorial can be downloaded as part of the [Wallaroo Tutorials repository](https://github.com/WallarooLabs/Wallaroo_Tutorials/tree/main/model_uploads/pytorch-upload-tutorials).\n",
    "\n",
    "## Wallaroo Model Upload via the Wallaroo SDK: Pytorch Multiple Input Output\n",
    "\n",
    "The following tutorial demonstrates how to upload a Pytorch Multiple Input Output model to a Wallaroo instance.\n",
    "\n",
    "### Tutorial Goals\n",
    "\n",
    "Demonstrate the following:\n",
    "\n",
    "* Upload a Pytorch Multiple Input Output to a Wallaroo instance.\n",
    "* Create a pipeline and add the model as a pipeline step.\n",
    "* Perform a sample inference.\n",
    "\n",
    "### Prerequisites\n",
    "\n",
    "* Wallaroo Version 2023.2.1 or above instance.\n",
    "\n",
    "### References\n",
    "\n",
    "* [Wallaroo MLOps API Essentials Guide: Model Upload and Registrations](https://docs.wallaroo.ai/wallaroo-developer-guides/wallaroo-api-guide/wallaroo-mlops-api-essential-guide/wallaroo-mlops-api-essentials-guide-model-uploads/)\n",
    "* [Wallaroo API Connection Guide](https://docs.wallaroo.ai/wallaroo-developer-guides/wallaroo-api-guide/wallaroo-mlops-connection-guide/)\n",
    "* [DNS Integration Guide](https://docs.wallaroo.ai/wallaroo-operations-guide/wallaroo-configuration/wallaroo-dns-guide/)"
   ]
  },
  {
   "cell_type": "markdown",
   "id": "9379fe2c",
   "metadata": {},
   "source": [
    "## Tutorial Steps\n",
    "\n",
    "### Import Libraries\n",
    "\n",
    "The first step is to import the libraries we'll be using.  These are included by default in the Wallaroo instance's JupyterHub service."
   ]
  },
  {
   "cell_type": "code",
   "execution_count": 1,
   "id": "3436bb69-bb45-4d18-bc19-d82f76ae9bfe",
   "metadata": {},
   "outputs": [],
   "source": [
    "import json\n",
    "import os\n",
    "import pickle\n",
    "\n",
    "import wallaroo\n",
    "from wallaroo.pipeline import Pipeline\n",
    "from wallaroo.deployment_config import DeploymentConfigBuilder\n",
    "from wallaroo.object import EntityNotFoundError\n",
    "from wallaroo.framework import Framework\n",
    "\n",
    "import pyarrow as pa\n",
    "import numpy as np\n",
    "import pandas as pd\n"
   ]
  },
  {
   "cell_type": "markdown",
   "id": "ed4be291",
   "metadata": {},
   "source": [
    "### Open a Connection to Wallaroo\n",
    "\n",
    "The next step is connect to Wallaroo through the Wallaroo client.  The Python library is included in the Wallaroo install and available through the Jupyter Hub interface provided with your Wallaroo environment.\n",
    "\n",
    "This is accomplished using the `wallaroo.Client()` command, which provides a URL to grant the SDK permission to your specific Wallaroo environment.  When displayed, enter the URL into a browser and confirm permissions.  Store the connection into a variable that can be referenced later.\n",
    "\n",
    "If logging into the Wallaroo instance through the internal JupyterHub service, use `wl = wallaroo.Client()`.  If logging in externally, update the `wallarooPrefix` and `wallarooSuffix` variables with the proper DNS information.  For more information on Wallaroo DNS settings, see the [Wallaroo DNS Integration Guide](https://docs.wallaroo.ai/wallaroo-operations-guide/wallaroo-configuration/wallaroo-dns-guide/)."
   ]
  },
  {
   "cell_type": "code",
   "execution_count": 2,
   "id": "dd04b48a",
   "metadata": {},
   "outputs": [],
   "source": [
    "wl = wallaroo.Client()"
   ]
  },
  {
   "cell_type": "markdown",
   "id": "f89c8bfb",
   "metadata": {},
   "source": [
    "### Set Variables\n",
    "\n",
    "We'll set the name of our workspace, pipeline, models and files.  Workspace names must be unique across the Wallaroo workspace.  For this, we'll add in a randomly generated 4 characters to the workspace name to prevent collisions with other users' workspaces.  If running this tutorial, we recommend hard coding the workspace name so it will function in the same workspace each time it's run.\n",
    "\n"
   ]
  },
  {
   "cell_type": "code",
   "execution_count": 3,
   "id": "170bf187-321c-45ea-867a-0cc2879b0256",
   "metadata": {},
   "outputs": [],
   "source": [
    "workspace_name = f'pytorch-multi-io'\n",
    "pipeline_name = f'pytorch-multi-io'\n",
    "\n",
    "model_name = 'pytorch-multi-io'\n",
    "model_file_name = \"./models/model-auto-conversion_pytorch_multi_io_model.pt\""
   ]
  },
  {
   "cell_type": "markdown",
   "id": "49808c3c",
   "metadata": {},
   "source": [
    "### Create Workspace and Pipeline\n",
    "\n",
    "We will now create the Wallaroo workspace to store our model and set it as the current workspace.  Future commands will default to this workspace for pipeline creation, model uploads, etc.  We'll create our Wallaroo pipeline to deploy our model."
   ]
  },
  {
   "cell_type": "code",
   "execution_count": 4,
   "id": "6df649fa-329a-41c9-a5e6-6676383f1330",
   "metadata": {},
   "outputs": [],
   "source": [
    "workspace = wl.get_workspace(name=workspace_name, create_if_not_exist=True)\n",
    "wl.set_current_workspace(workspace)\n",
    "\n",
    "pipeline = wl.build_pipeline(pipeline_name)"
   ]
  },
  {
   "cell_type": "markdown",
   "id": "74194b68",
   "metadata": {},
   "source": [
    "### Configure Data Schemas\n",
    "\n",
    "The following parameters are required for PyTorch models.  Note that while some fields are considered as **optional** for the `upload_model` method, they are required for proper uploading of a PyTorch model to Wallaroo.\n",
    "\n",
    "| Parameter | Type | Description |\n",
    "|---|---|---|\n",
    "|`name` | `string` (*Required*) | The name of the model.  Model names are unique per workspace.  Models that are uploaded with the same name are assigned as a new **version** of the model. |\n",
    "|`path` | `string` (*Required*) | The path to the model file being uploaded. \n",
    "|`framework` |`string` (*Upload Method Optional, PyTorch model Required*) | Set as the `Framework.PyTorch`. |\n",
    "|`input_schema` | `pyarrow.lib.Schema` (*Upload Method Optional, PyTorch model Required*) | The input schema in Apache Arrow schema format. Note that float values **must** be `pyarrow.float32()`. |\n",
    "|`output_schema` | `pyarrow.lib.Schema` (*Upload Method Optional, PyTorch model Required*) | The output schema in Apache Arrow schema format. Note that float values **must** be `pyarrow.float32()`. |\n",
    "| `convert_wait` | `bool` (*Upload Method Optional, PyTorch model Optional*) (*Default: True*) | <ul><li>**True**: Waits in the script for the model conversion completion.</li><li>**False**:  Proceeds with the script without waiting for the model conversion process to display complete. |\n",
    "\n",
    "Once the upload process starts, the model is containerized by the Wallaroo instance.  This process may take up to 10 minutes."
   ]
  },
  {
   "cell_type": "code",
   "execution_count": 5,
   "id": "c4439653",
   "metadata": {},
   "outputs": [],
   "source": [
    "input_schema = pa.schema([\n",
    "    pa.field('input_1', pa.list_(pa.float32(), list_size=10)),\n",
    "    pa.field('input_2', pa.list_(pa.float32(), list_size=5))\n",
    "])\n",
    "output_schema = pa.schema([\n",
    "    pa.field('output_1', pa.list_(pa.float32(), list_size=3)),\n",
    "    pa.field('output_2', pa.list_(pa.float32(), list_size=2))\n",
    "])"
   ]
  },
  {
   "cell_type": "markdown",
   "id": "2a7ab7eb-90de-4e94-90d5-316e13eae5ab",
   "metadata": {},
   "source": [
    "### Upload Model\n",
    "\n",
    "The model will be uploaded with the framework set as `Framework.PYTORCH`."
   ]
  },
  {
   "cell_type": "code",
   "execution_count": 7,
   "id": "b36b29d8",
   "metadata": {},
   "outputs": [
    {
     "name": "stdout",
     "output_type": "stream",
     "text": [
      "Waiting for model loading - this will take up to 10.0min.\n",
      "Model is pending loading to a native runtime.\n",
      "Model is attempting loading to a native runtime.successful\n",
      "\n",
      "Ready\n"
     ]
    },
    {
     "data": {
      "text/html": [
       "<table>\n",
       "        <tr>\n",
       "          <td>Name</td>\n",
       "          <td>pytorch-multi-io</td>\n",
       "        </tr>\n",
       "        <tr>\n",
       "          <td>Version</td>\n",
       "          <td>f2f97177-62f7-4124-8c7a-5e458612310d</td>\n",
       "        </tr>\n",
       "        <tr>\n",
       "          <td>File Name</td>\n",
       "          <td>model-auto-conversion_pytorch_multi_io_model.pt</td>\n",
       "        </tr>\n",
       "        <tr>\n",
       "          <td>SHA</td>\n",
       "          <td>792db9ee9f41aded3c1d4705f50ccdedd21cafb8b6232c03e4a849b6da1050a8</td>\n",
       "        </tr>\n",
       "        <tr>\n",
       "          <td>Status</td>\n",
       "          <td>ready</td>\n",
       "        </tr>\n",
       "        <tr>\n",
       "          <td>Image Path</td>\n",
       "          <td>None</td>\n",
       "        </tr>\n",
       "        <tr>\n",
       "          <td>Architecture</td>\n",
       "          <td>x86</td>\n",
       "        </tr>\n",
       "        <tr>\n",
       "          <td>Acceleration</td>\n",
       "          <td>none</td>\n",
       "        </tr>\n",
       "        <tr>\n",
       "          <td>Updated At</td>\n",
       "          <td>2024-12-Apr 17:28:11</td>\n",
       "        </tr>\n",
       "      </table>"
      ],
      "text/plain": [
       "{'name': 'pytorch-multi-io', 'version': 'f2f97177-62f7-4124-8c7a-5e458612310d', 'file_name': 'model-auto-conversion_pytorch_multi_io_model.pt', 'image_path': None, 'arch': 'x86', 'accel': 'none', 'last_update_time': datetime.datetime(2024, 4, 12, 17, 28, 11, 9169, tzinfo=tzutc())}"
      ]
     },
     "execution_count": 7,
     "metadata": {},
     "output_type": "execute_result"
    }
   ],
   "source": [
    "model = wl.upload_model(model_name, \n",
    "                        model_file_name, \n",
    "                        framework=Framework.PYTORCH, \n",
    "                        input_schema=input_schema, \n",
    "                        output_schema=output_schema\n",
    "                       )\n",
    "model"
   ]
  },
  {
   "cell_type": "code",
   "execution_count": 8,
   "id": "18e58d1c",
   "metadata": {},
   "outputs": [
    {
     "data": {
      "text/plain": [
       "'onnx'"
      ]
     },
     "execution_count": 8,
     "metadata": {},
     "output_type": "execute_result"
    }
   ],
   "source": [
    "model.config().runtime()"
   ]
  },
  {
   "cell_type": "markdown",
   "id": "d007c496",
   "metadata": {},
   "source": [
    "### Deploy Pipeline\n",
    "\n",
    "The model is uploaded and ready for use.  We'll add it as a step in our pipeline, then deploy the pipeline.  For this example we're allocated 0.25 cpu and 4 Gi RAM to the pipeline through the pipeline's deployment configuration."
   ]
  },
  {
   "cell_type": "code",
   "execution_count": 9,
   "id": "2a709f2c-1332-4984-9cf8-87c6328d6ae4",
   "metadata": {},
   "outputs": [],
   "source": [
    "deployment_config = DeploymentConfigBuilder() \\\n",
    "    .cpus(0.25).memory('1Gi') \\\n",
    "    .build()"
   ]
  },
  {
   "cell_type": "code",
   "execution_count": 10,
   "id": "5ecc0a18-5912-4052-98a7-074b9db350b1",
   "metadata": {},
   "outputs": [
    {
     "data": {
      "text/plain": [
       "{'status': 'Running',\n",
       " 'details': [],\n",
       " 'engines': [{'ip': '10.28.0.252',\n",
       "   'name': 'engine-c844b6f6b-bftpr',\n",
       "   'status': 'Running',\n",
       "   'reason': None,\n",
       "   'details': [],\n",
       "   'pipeline_statuses': {'pipelines': [{'id': 'pytorch-multi-io',\n",
       "      'status': 'Running'}]},\n",
       "   'model_statuses': {'models': [{'name': 'pytorch-multi-io',\n",
       "      'sha': '792db9ee9f41aded3c1d4705f50ccdedd21cafb8b6232c03e4a849b6da1050a8',\n",
       "      'status': 'Running',\n",
       "      'version': 'f2f97177-62f7-4124-8c7a-5e458612310d'}]}}],\n",
       " 'engine_lbs': [{'ip': '10.28.0.253',\n",
       "   'name': 'engine-lb-d7cc8fc9c-2knjz',\n",
       "   'status': 'Running',\n",
       "   'reason': None,\n",
       "   'details': []}],\n",
       " 'sidekicks': []}"
      ]
     },
     "execution_count": 10,
     "metadata": {},
     "output_type": "execute_result"
    }
   ],
   "source": [
    "# clear the pipeline if it was used before\n",
    "pipeline.clear()\n",
    "\n",
    "pipeline.add_model_step(model)\n",
    "\n",
    "pipeline.deploy(deployment_config=deployment_config)\n",
    "pipeline.status()"
   ]
  },
  {
   "cell_type": "markdown",
   "id": "60cb4aa0-601d-4556-a3f8-cdc59e758add",
   "metadata": {},
   "source": [
    "### Run Inference\n",
    "\n",
    "A sample inference will be run.  First the pandas DataFrame used for the inference is created, then the inference run through the pipeline's `infer` method."
   ]
  },
  {
   "cell_type": "code",
   "execution_count": 11,
   "id": "52bdb987",
   "metadata": {},
   "outputs": [],
   "source": [
    "mock_inference_data = [np.random.rand(10, 10), np.random.rand(10, 5)]\n",
    "mock_dataframe = pd.DataFrame(\n",
    "    {\n",
    "        \"input_1\": mock_inference_data[0].tolist(),\n",
    "        \"input_2\": mock_inference_data[1].tolist(),\n",
    "    }\n",
    ")"
   ]
  },
  {
   "cell_type": "code",
   "execution_count": 12,
   "id": "1eab3c59-c7a2-4e79-a468-e5bcb65d916c",
   "metadata": {},
   "outputs": [
    {
     "data": {
      "text/html": [
       "<div>\n",
       "<style scoped>\n",
       "    .dataframe tbody tr th:only-of-type {\n",
       "        vertical-align: middle;\n",
       "    }\n",
       "\n",
       "    .dataframe tbody tr th {\n",
       "        vertical-align: top;\n",
       "    }\n",
       "\n",
       "    .dataframe thead th {\n",
       "        text-align: right;\n",
       "    }\n",
       "</style>\n",
       "<table border=\"1\" class=\"dataframe\">\n",
       "  <thead>\n",
       "    <tr style=\"text-align: right;\">\n",
       "      <th></th>\n",
       "      <th>time</th>\n",
       "      <th>in.input_1</th>\n",
       "      <th>in.input_2</th>\n",
       "      <th>out.output_1</th>\n",
       "      <th>out.output_2</th>\n",
       "      <th>anomaly.count</th>\n",
       "    </tr>\n",
       "  </thead>\n",
       "  <tbody>\n",
       "    <tr>\n",
       "      <th>0</th>\n",
       "      <td>2024-04-12 17:28:32.625</td>\n",
       "      <td>[0.9109700519, 0.3169575485, 0.0769643673, 0.8...</td>\n",
       "      <td>[0.8953973272, 0.2605879044, 0.7480816126, 0.2...</td>\n",
       "      <td>[0.02766981, -0.07259649, 0.2620843]</td>\n",
       "      <td>[-0.14548574, 0.11293939]</td>\n",
       "      <td>0</td>\n",
       "    </tr>\n",
       "    <tr>\n",
       "      <th>1</th>\n",
       "      <td>2024-04-12 17:28:32.625</td>\n",
       "      <td>[0.8466220739, 0.5009051624, 0.1561670987, 0.7...</td>\n",
       "      <td>[0.9767897887, 0.4272101532, 0.5284931864, 0.7...</td>\n",
       "      <td>[-0.0552716, -0.0068743527, 0.20660618]</td>\n",
       "      <td>[-0.07974212, 0.051745012]</td>\n",
       "      <td>0</td>\n",
       "    </tr>\n",
       "    <tr>\n",
       "      <th>2</th>\n",
       "      <td>2024-04-12 17:28:32.625</td>\n",
       "      <td>[0.6028804613, 0.191810007, 0.4115756608, 0.04...</td>\n",
       "      <td>[0.8267110995, 0.1623875745, 0.7075612713, 0.3...</td>\n",
       "      <td>[0.020370252, -0.013679747, 0.22586967]</td>\n",
       "      <td>[0.18796784, -0.07283032]</td>\n",
       "      <td>0</td>\n",
       "    </tr>\n",
       "    <tr>\n",
       "      <th>3</th>\n",
       "      <td>2024-04-12 17:28:32.625</td>\n",
       "      <td>[0.7153226706, 0.5041547823, 0.3013886164, 0.1...</td>\n",
       "      <td>[0.1366878788, 0.1746995667, 0.8863207683, 0.7...</td>\n",
       "      <td>[-0.013608955, -0.09129709, 0.4607787]</td>\n",
       "      <td>[0.05677295, 0.050741404]</td>\n",
       "      <td>0</td>\n",
       "    </tr>\n",
       "    <tr>\n",
       "      <th>4</th>\n",
       "      <td>2024-04-12 17:28:32.625</td>\n",
       "      <td>[0.3411437764, 0.7328673708, 0.980411164, 0.32...</td>\n",
       "      <td>[0.5961747145, 0.7028441849, 0.4200162769, 0.9...</td>\n",
       "      <td>[-0.059214503, -0.036837004, 0.2780401]</td>\n",
       "      <td>[-0.0002666721, -0.088903986]</td>\n",
       "      <td>0</td>\n",
       "    </tr>\n",
       "    <tr>\n",
       "      <th>5</th>\n",
       "      <td>2024-04-12 17:28:32.625</td>\n",
       "      <td>[0.4542408627, 0.116382546, 0.1009935686, 0.90...</td>\n",
       "      <td>[0.9132025402, 0.7122236805, 0.9662095863, 0.9...</td>\n",
       "      <td>[0.04246279, -0.15800561, 0.4424684]</td>\n",
       "      <td>[-0.046756577, -0.0058508515]</td>\n",
       "      <td>0</td>\n",
       "    </tr>\n",
       "    <tr>\n",
       "      <th>6</th>\n",
       "      <td>2024-04-12 17:28:32.625</td>\n",
       "      <td>[0.8305691738, 0.204106362, 0.7037219991, 0.20...</td>\n",
       "      <td>[0.3193820444, 0.5499977325, 0.3284488511, 0.1...</td>\n",
       "      <td>[-0.047178756, 0.021341052, 0.1612856]</td>\n",
       "      <td>[0.011848757, -0.06673317]</td>\n",
       "      <td>0</td>\n",
       "    </tr>\n",
       "    <tr>\n",
       "      <th>7</th>\n",
       "      <td>2024-04-12 17:28:32.625</td>\n",
       "      <td>[0.472728972, 0.9336368358, 0.3760646219, 0.84...</td>\n",
       "      <td>[0.0560057682, 0.4189214525, 0.9670296607, 0.3...</td>\n",
       "      <td>[-0.047954347, -0.0315362, 0.27049458]</td>\n",
       "      <td>[0.15487051, 0.008990034]</td>\n",
       "      <td>0</td>\n",
       "    </tr>\n",
       "    <tr>\n",
       "      <th>8</th>\n",
       "      <td>2024-04-12 17:28:32.625</td>\n",
       "      <td>[0.6893380018, 0.9131849658, 0.7052689101, 0.3...</td>\n",
       "      <td>[0.0508924326, 0.9863486789, 0.196386472, 0.04...</td>\n",
       "      <td>[-0.100792035, 0.04375423, 0.14693232]</td>\n",
       "      <td>[0.16369253, 0.040995926]</td>\n",
       "      <td>0</td>\n",
       "    </tr>\n",
       "    <tr>\n",
       "      <th>9</th>\n",
       "      <td>2024-04-12 17:28:32.625</td>\n",
       "      <td>[0.9433111673, 0.4592229624, 0.8921336148, 0.3...</td>\n",
       "      <td>[0.5270989968, 0.9967014918, 0.7570415345, 0.6...</td>\n",
       "      <td>[-0.14226617, -0.051928118, 0.25710666]</td>\n",
       "      <td>[-0.004090662, 0.044676527]</td>\n",
       "      <td>0</td>\n",
       "    </tr>\n",
       "  </tbody>\n",
       "</table>\n",
       "</div>"
      ],
      "text/plain": [
       "                     time                                         in.input_1  \\\n",
       "0 2024-04-12 17:28:32.625  [0.9109700519, 0.3169575485, 0.0769643673, 0.8...   \n",
       "1 2024-04-12 17:28:32.625  [0.8466220739, 0.5009051624, 0.1561670987, 0.7...   \n",
       "2 2024-04-12 17:28:32.625  [0.6028804613, 0.191810007, 0.4115756608, 0.04...   \n",
       "3 2024-04-12 17:28:32.625  [0.7153226706, 0.5041547823, 0.3013886164, 0.1...   \n",
       "4 2024-04-12 17:28:32.625  [0.3411437764, 0.7328673708, 0.980411164, 0.32...   \n",
       "5 2024-04-12 17:28:32.625  [0.4542408627, 0.116382546, 0.1009935686, 0.90...   \n",
       "6 2024-04-12 17:28:32.625  [0.8305691738, 0.204106362, 0.7037219991, 0.20...   \n",
       "7 2024-04-12 17:28:32.625  [0.472728972, 0.9336368358, 0.3760646219, 0.84...   \n",
       "8 2024-04-12 17:28:32.625  [0.6893380018, 0.9131849658, 0.7052689101, 0.3...   \n",
       "9 2024-04-12 17:28:32.625  [0.9433111673, 0.4592229624, 0.8921336148, 0.3...   \n",
       "\n",
       "                                          in.input_2  \\\n",
       "0  [0.8953973272, 0.2605879044, 0.7480816126, 0.2...   \n",
       "1  [0.9767897887, 0.4272101532, 0.5284931864, 0.7...   \n",
       "2  [0.8267110995, 0.1623875745, 0.7075612713, 0.3...   \n",
       "3  [0.1366878788, 0.1746995667, 0.8863207683, 0.7...   \n",
       "4  [0.5961747145, 0.7028441849, 0.4200162769, 0.9...   \n",
       "5  [0.9132025402, 0.7122236805, 0.9662095863, 0.9...   \n",
       "6  [0.3193820444, 0.5499977325, 0.3284488511, 0.1...   \n",
       "7  [0.0560057682, 0.4189214525, 0.9670296607, 0.3...   \n",
       "8  [0.0508924326, 0.9863486789, 0.196386472, 0.04...   \n",
       "9  [0.5270989968, 0.9967014918, 0.7570415345, 0.6...   \n",
       "\n",
       "                              out.output_1                   out.output_2  \\\n",
       "0     [0.02766981, -0.07259649, 0.2620843]      [-0.14548574, 0.11293939]   \n",
       "1  [-0.0552716, -0.0068743527, 0.20660618]     [-0.07974212, 0.051745012]   \n",
       "2  [0.020370252, -0.013679747, 0.22586967]      [0.18796784, -0.07283032]   \n",
       "3   [-0.013608955, -0.09129709, 0.4607787]      [0.05677295, 0.050741404]   \n",
       "4  [-0.059214503, -0.036837004, 0.2780401]  [-0.0002666721, -0.088903986]   \n",
       "5     [0.04246279, -0.15800561, 0.4424684]  [-0.046756577, -0.0058508515]   \n",
       "6   [-0.047178756, 0.021341052, 0.1612856]     [0.011848757, -0.06673317]   \n",
       "7   [-0.047954347, -0.0315362, 0.27049458]      [0.15487051, 0.008990034]   \n",
       "8   [-0.100792035, 0.04375423, 0.14693232]      [0.16369253, 0.040995926]   \n",
       "9  [-0.14226617, -0.051928118, 0.25710666]    [-0.004090662, 0.044676527]   \n",
       "\n",
       "   anomaly.count  \n",
       "0              0  \n",
       "1              0  \n",
       "2              0  \n",
       "3              0  \n",
       "4              0  \n",
       "5              0  \n",
       "6              0  \n",
       "7              0  \n",
       "8              0  \n",
       "9              0  "
      ]
     },
     "execution_count": 12,
     "metadata": {},
     "output_type": "execute_result"
    }
   ],
   "source": [
    "pipeline.infer(mock_dataframe)"
   ]
  },
  {
   "cell_type": "markdown",
   "id": "e467f616",
   "metadata": {},
   "source": [
    "### Undeploy Pipelines\n",
    "\n",
    "With the tutorial complete, the pipeline is undeployed to return the resources back to the cluster."
   ]
  },
  {
   "cell_type": "code",
   "execution_count": 13,
   "id": "cbdc5a2e-266f-4da8-a88d-1733aca72f0d",
   "metadata": {},
   "outputs": [
    {
     "data": {
      "text/html": [
       "<table><tr><th>name</th> <td>pytorch-multi-io</td></tr><tr><th>created</th> <td>2024-04-12 17:21:40.944555+00:00</td></tr><tr><th>last_updated</th> <td>2024-04-12 17:28:18.633501+00:00</td></tr><tr><th>deployed</th> <td>False</td></tr><tr><th>arch</th> <td>x86</td></tr><tr><th>accel</th> <td>none</td></tr><tr><th>tags</th> <td></td></tr><tr><th>versions</th> <td>a2f7ca99-2c2f-4dcd-ae18-7d95abe93ae9, d4644148-28ab-486f-aad6-f00581aae424</td></tr><tr><th>steps</th> <td>pytorch-multi-io</td></tr><tr><th>published</th> <td>False</td></tr></table>"
      ],
      "text/plain": [
       "{'name': 'pytorch-multi-io', 'create_time': datetime.datetime(2024, 4, 12, 17, 21, 40, 944555, tzinfo=tzutc()), 'definition': \"[{'ModelInference': {'models': [{'name': 'pytorch-multi-io', 'version': 'f2f97177-62f7-4124-8c7a-5e458612310d', 'sha': '792db9ee9f41aded3c1d4705f50ccdedd21cafb8b6232c03e4a849b6da1050a8'}]}}]\"}"
      ]
     },
     "execution_count": 13,
     "metadata": {},
     "output_type": "execute_result"
    }
   ],
   "source": [
    "pipeline.undeploy()"
   ]
  }
 ],
 "metadata": {
  "kernelspec": {
   "display_name": "Python 3 (ipykernel)",
   "language": "python",
   "name": "python3"
  },
  "language_info": {
   "codemirror_mode": {
    "name": "ipython",
    "version": 3
   },
   "file_extension": ".py",
   "mimetype": "text/x-python",
   "name": "python",
   "nbconvert_exporter": "python",
   "pygments_lexer": "ipython3",
   "version": "3.8.19"
  }
 },
 "nbformat": 4,
 "nbformat_minor": 5
}
