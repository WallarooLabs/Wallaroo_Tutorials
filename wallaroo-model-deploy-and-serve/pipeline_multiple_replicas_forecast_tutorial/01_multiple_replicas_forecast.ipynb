{
 "cells": [
  {
   "cell_type": "markdown",
   "metadata": {},
   "source": [
    "This tutorial and the assets can be downloaded as part of the [Wallaroo Tutorials repository](https://github.com/WallarooLabs/Wallaroo_Tutorials/tree/main/wallaroo-features/pipeline_multiple_replicas_forecast_tutorial).\n",
    "\n",
    "## Statsmodel Forecast with Wallaroo Features: Deploy and Test Infer\n",
    "\n",
    "This tutorial series demonstrates how to use Wallaroo to create a Statsmodel forecasting model based on bike rentals.  This tutorial series is broken down into the following:\n",
    "\n",
    "* Create and Train the Model:  This first notebook shows how the model is trained from existing data.\n",
    "* Deploy and Sample Inference:  With the model developed, we will deploy it into Wallaroo and perform a sample inference.\n",
    "* Sample Inferences from DataBase Records:  Simulate pulling inference input data from a database, performing inferences, and uploading the results to the database.\n",
    "\n",
    "In the previous step \"Statsmodel Forecast with Wallaroo Features: Model Creation\", the statsmodel was trained and saved to the Python file `forecast.py`.  This file will now be uploaded to a Wallaroo instance as a Python model, then used for sample inferences.\n",
    "\n",
    "## Prerequisites\n",
    "\n",
    "* A Wallaroo instance version 2024.1 or greater.\n",
    "\n",
    "## References\n",
    "\n",
    "* [Wallaroo SDK Essentials Guide: Model Uploads and Registrations: Python Models](https://docs.wallaroo.ai/wallaroo-developer-guides/wallaroo-sdk-guides/wallaroo-sdk-essentials-guide/wallaroo-sdk-model-uploads/wallaroo-sdk-model-upload-python/)\n",
    "* [Wallaroo SDK Essentials Guide: Pipeline Management](https://docs.wallaroo.ai/wallaroo-developer-guides/wallaroo-sdk-guides/wallaroo-sdk-essentials-guide/wallaroo-sdk-essentials-pipelines/wallaroo-sdk-essentials-pipeline/)\n",
    "* [Wallaroo SDK Essentials: Inference Guide: Parallel Inferences](https://docs.wallaroo.ai/wallaroo-developer-guides/wallaroo-sdk-guides/wallaroo-sdk-essentials-guide/wallaroo-sdk-essentials-inferences/#parallel-inferences)"
   ]
  },
  {
   "cell_type": "markdown",
   "metadata": {},
   "source": [
    "## Tutorial Steps\n",
    "\n",
    "### Import Libraries\n",
    "\n",
    "The first step is to import the libraries that we will need."
   ]
  },
  {
   "cell_type": "code",
   "execution_count": 1,
   "metadata": {},
   "outputs": [],
   "source": [
    "import json\n",
    "import os\n",
    "import datetime\n",
    "\n",
    "import wallaroo\n",
    "from wallaroo.object import EntityNotFoundError\n",
    "from wallaroo.framework import Framework\n",
    "\n",
    "# used to display dataframe information without truncating\n",
    "from IPython.display import display\n",
    "import pandas as pd\n",
    "pd.set_option('display.max_colwidth', None)"
   ]
  },
  {
   "cell_type": "code",
   "execution_count": 2,
   "metadata": {},
   "outputs": [
    {
     "data": {
      "text/plain": [
       "'2024.1.0+042ae40e0'"
      ]
     },
     "execution_count": 2,
     "metadata": {},
     "output_type": "execute_result"
    }
   ],
   "source": [
    "wallaroo.__version__"
   ]
  },
  {
   "cell_type": "markdown",
   "metadata": {},
   "source": [
    "### Initialize connection\n",
    "\n",
    "Start a connect to the Wallaroo instance and save the connection into the variable `wl`."
   ]
  },
  {
   "cell_type": "code",
   "execution_count": 3,
   "metadata": {},
   "outputs": [],
   "source": [
    "# Login through local Wallaroo instance\n",
    "\n",
    "wl = wallaroo.Client()"
   ]
  },
  {
   "cell_type": "markdown",
   "metadata": {},
   "source": [
    "### Set Configurations\n",
    "\n",
    "The following will set the workspace, model name, and pipeline that will be used for this example.  If the workspace or pipeline already exist, then they will assigned for use in this example.  If they do not exist, they will be created based on the names listed below.\n",
    "\n",
    "Note that workspace names are unique across the Wallaroo instance.  Verify that the workspace for this example is either not previously created, or that the user has access to it."
   ]
  },
  {
   "cell_type": "code",
   "execution_count": 4,
   "metadata": {},
   "outputs": [],
   "source": [
    "# used for unique connection names\n",
    "\n",
    "workspace_name = f'multiple-replica-forecast-tutorial'\n",
    "pipeline_name = 'bikedaypipe'\n",
    "model_name = 'bikedaymodel'"
   ]
  },
  {
   "cell_type": "markdown",
   "metadata": {},
   "source": [
    "### Set the Workspace and Pipeline\n",
    "\n",
    "The workspace will be either used or created if it does not exist, along with the pipeline."
   ]
  },
  {
   "cell_type": "code",
   "execution_count": 5,
   "metadata": {},
   "outputs": [],
   "source": [
    "def get_workspace(name, client):\n",
    "    workspace = None\n",
    "    for ws in wl.list_workspaces():\n",
    "        if ws.name() == name:\n",
    "            workspace= ws\n",
    "    if(workspace == None):\n",
    "        workspace = wl.create_workspace(name)\n",
    "    return workspace\n",
    "\n",
    "workspace = get_workspace(workspace_name, wl)\n",
    "\n",
    "wl.set_current_workspace(workspace)\n",
    "\n",
    "pipeline = wl.build_pipeline(pipeline_name)"
   ]
  },
  {
   "cell_type": "markdown",
   "metadata": {},
   "source": [
    "### Upload Model\n",
    "\n",
    "The Python model created in \"Forecast and Parallel Infer with Statsmodel: Model Creation\" will now be uploaded.  Note that the Framework and runtime are set to `python`."
   ]
  },
  {
   "cell_type": "code",
   "execution_count": 6,
   "metadata": {},
   "outputs": [],
   "source": [
    "model_file_name = 'forecast.py'\n",
    "\n",
    "bike_day_model = wl.upload_model(model_name, model_file_name, Framework.PYTHON).configure(runtime=\"python\")"
   ]
  },
  {
   "cell_type": "markdown",
   "metadata": {},
   "source": [
    "### Deploy the Pipeline\n",
    "\n",
    "We will now add the uploaded model as a step for the pipeline, then deploy it.  The pipeline configuration will allow for multiple replicas of the pipeline to be deployed and spooled up in the cluster.  Each pipeline replica will use 0.25 cpu and 512 Gi RAM."
   ]
  },
  {
   "cell_type": "code",
   "execution_count": 7,
   "metadata": {},
   "outputs": [
    {
     "name": "stdout",
     "output_type": "stream",
     "text": [
      " ok\n"
     ]
    },
    {
     "data": {
      "text/html": [
       "<table><tr><th>name</th> <td>bikedaypipe</td></tr><tr><th>created</th> <td>2024-03-08 17:12:54.805027+00:00</td></tr><tr><th>last_updated</th> <td>2024-03-08 18:12:27.434679+00:00</td></tr><tr><th>deployed</th> <td>True</td></tr><tr><th>arch</th> <td>None</td></tr><tr><th>accel</th> <td>None</td></tr><tr><th>tags</th> <td></td></tr><tr><th>versions</th> <td>540508cc-e46c-47e9-9865-390f90341478, 3d91bf51-9084-4c76-8276-c6065539664a, d53f1c4c-05db-418c-beac-1efa2b70749e, 4ba5bfb0-5fb8-4211-8383-58be302b2e94, d7a7277e-a81d-4d56-9bf2-f1d189da11b0, 99b992bb-ea94-4fe4-b43c-91ea3d76eb7c, 98be46d4-7469-446e-8ba0-ea2d0895d19a, 163b7dc3-e710-408d-9570-d03ed228f9b7, f2a543e4-37d6-4cf3-b1c7-e76aab799bda, 1b1cd7d1-c920-4754-9cb4-09f62ef1ee8b, 3cce6b59-112b-45d3-abba-ca913643bb5c, 5640f74b-7aa6-4aa8-a42d-af3f2f38ed41, 433971aa-7567-4198-838f-d60081aefa59</td></tr><tr><th>steps</th> <td>bikedaymodel</td></tr><tr><th>published</th> <td>False</td></tr></table>"
      ],
      "text/plain": [
       "{'name': 'bikedaypipe', 'create_time': datetime.datetime(2024, 3, 8, 17, 12, 54, 805027, tzinfo=tzutc()), 'definition': \"[{'ModelInference': {'models': [{'name': 'bikedaymodel', 'version': '8be373bc-f286-4d17-96f1-6ff3bacbd64d', 'sha': '60156c8e9bad5b9fee1dfea2aeae05ca3f643f53b5b6d6a365e8e020c72af6ac'}]}}]\"}"
      ]
     },
     "execution_count": 7,
     "metadata": {},
     "output_type": "execute_result"
    }
   ],
   "source": [
    "# Set the deployment to allow for additional engines to run\n",
    "deploy_config = (wallaroo.DeploymentConfigBuilder()\n",
    "                        .replica_count(1)\n",
    "                        .replica_autoscale_min_max(minimum=2, maximum=5)\n",
    "                        .cpus(0.25)\n",
    "                        .memory(\"512Mi\")\n",
    "                        .build()\n",
    "                    )\n",
    "\n",
    "pipeline.clear()\n",
    "\n",
    "pipeline.add_model_step(bike_day_model).deploy(deployment_config = deploy_config)"
   ]
  },
  {
   "cell_type": "markdown",
   "metadata": {},
   "source": [
    "### Run Inference\n",
    "\n",
    "Run a test inference to verify the pipeline is operational from the sample test data stored in `./data/testdata_dict.json`."
   ]
  },
  {
   "cell_type": "code",
   "execution_count": 8,
   "metadata": {},
   "outputs": [
    {
     "data": {
      "text/plain": [
       "[{'forecast': [1764, 1749, 1743, 1741, 1740, 1740, 1740]}]"
      ]
     },
     "metadata": {},
     "output_type": "display_data"
    }
   ],
   "source": [
    "inferencedata = json.load(open(\"./data/testdata.json\"))\n",
    "\n",
    "results = pipeline.infer(inferencedata)\n",
    "\n",
    "display(results)"
   ]
  },
  {
   "cell_type": "markdown",
   "metadata": {},
   "source": [
    "### Undeploy the Pipeline\n",
    "\n",
    "Undeploy the pipeline and return the resources back to the Wallaroo instance."
   ]
  },
  {
   "cell_type": "code",
   "execution_count": 9,
   "metadata": {},
   "outputs": [
    {
     "name": "stdout",
     "output_type": "stream",
     "text": [
      "Waiting for undeployment - this will take up to 45s ................................... ok\n"
     ]
    },
    {
     "data": {
      "text/html": [
       "<table><tr><th>name</th> <td>bikedaypipe</td></tr><tr><th>created</th> <td>2024-03-08 17:12:54.805027+00:00</td></tr><tr><th>last_updated</th> <td>2024-03-08 18:12:27.434679+00:00</td></tr><tr><th>deployed</th> <td>False</td></tr><tr><th>arch</th> <td>None</td></tr><tr><th>accel</th> <td>None</td></tr><tr><th>tags</th> <td></td></tr><tr><th>versions</th> <td>540508cc-e46c-47e9-9865-390f90341478, 3d91bf51-9084-4c76-8276-c6065539664a, d53f1c4c-05db-418c-beac-1efa2b70749e, 4ba5bfb0-5fb8-4211-8383-58be302b2e94, d7a7277e-a81d-4d56-9bf2-f1d189da11b0, 99b992bb-ea94-4fe4-b43c-91ea3d76eb7c, 98be46d4-7469-446e-8ba0-ea2d0895d19a, 163b7dc3-e710-408d-9570-d03ed228f9b7, f2a543e4-37d6-4cf3-b1c7-e76aab799bda, 1b1cd7d1-c920-4754-9cb4-09f62ef1ee8b, 3cce6b59-112b-45d3-abba-ca913643bb5c, 5640f74b-7aa6-4aa8-a42d-af3f2f38ed41, 433971aa-7567-4198-838f-d60081aefa59</td></tr><tr><th>steps</th> <td>bikedaymodel</td></tr><tr><th>published</th> <td>False</td></tr></table>"
      ],
      "text/plain": [
       "{'name': 'bikedaypipe', 'create_time': datetime.datetime(2024, 3, 8, 17, 12, 54, 805027, tzinfo=tzutc()), 'definition': \"[{'ModelInference': {'models': [{'name': 'bikedaymodel', 'version': '8be373bc-f286-4d17-96f1-6ff3bacbd64d', 'sha': '60156c8e9bad5b9fee1dfea2aeae05ca3f643f53b5b6d6a365e8e020c72af6ac'}]}}]\"}"
      ]
     },
     "execution_count": 9,
     "metadata": {},
     "output_type": "execute_result"
    }
   ],
   "source": [
    "pipeline.undeploy()"
   ]
  }
 ],
 "metadata": {
  "kernelspec": {
   "display_name": "Python 3 (ipykernel)",
   "language": "python",
   "name": "python3"
  },
  "language_info": {
   "codemirror_mode": {
    "name": "ipython",
    "version": 3
   },
   "file_extension": ".py",
   "mimetype": "text/x-python",
   "name": "python",
   "nbconvert_exporter": "python",
   "pygments_lexer": "ipython3",
   "version": "3.9.13"
  },
  "vscode": {
   "interpreter": {
    "hash": "7dda4bf3640b7fafcd1648658b879b4cc9f6ba6084e8fb356fdaaa1a461d1690"
   }
  }
 },
 "nbformat": 4,
 "nbformat_minor": 4
}
