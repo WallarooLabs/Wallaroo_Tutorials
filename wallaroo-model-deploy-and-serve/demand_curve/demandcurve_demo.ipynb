{
 "cells": [
  {
   "cell_type": "markdown",
   "metadata": {},
   "source": [
    "This tutorial and the assets can be downloaded as part of the [Wallaroo Tutorials repository](https://github.com/WallarooLabs/Wallaroo_Tutorials/blob/wallaroo2024.2_tutorials/wallaroo-model-deploy-and-serve/demand_curve).\n",
    "\n",
    "## Demand Curve Pipeline Tutorial\n",
    "\n",
    "This worksheet demonstrates a Wallaroo pipeline with data preprocessing, a model, and data postprocessing.\n",
    "\n",
    "The model is a \"demand curve\" that predicts the expected number of units of a product that will be sold to a customer as a function of unit price and facts about the customer. Such models can be used for price optimization or sales volume forecasting.  This is purely a \"toy\" demonstration, but is useful for detailing the process of working with models and pipelines.\n",
    "\n",
    "Data preprocessing is required to create the features used by the model. Simple postprocessing prevents nonsensical estimates (e.g. negative units sold).\n",
    "\n",
    "## Prerequisites\n",
    "\n",
    "* An installed Wallaroo instance.\n",
    "* The following Python libraries installed:\n",
    "  * `os`\n",
    "  * [`wallaroo`](https://pypi.org/project/wallaroo/): The Wallaroo SDK. Included with the Wallaroo JupyterHub service by default."
   ]
  },
  {
   "cell_type": "code",
   "execution_count": 1,
   "metadata": {},
   "outputs": [],
   "source": [
    "import json\n",
    "import wallaroo\n",
    "from wallaroo.object import EntityNotFoundError\n",
    "import pandas\n",
    "import numpy\n",
    "import conversion\n",
    "from wallaroo.object import EntityNotFoundError\n",
    "import pyarrow as pa\n",
    "\n",
    "# used to display dataframe information without truncating\n",
    "from IPython.display import display\n",
    "import pandas as pd\n",
    "pd.set_option('display.max_colwidth', None)\n",
    "\n",
    "# ignoring warnings for demonstration\n",
    "import warnings\n",
    "warnings.filterwarnings('ignore')"
   ]
  },
  {
   "cell_type": "markdown",
   "metadata": {},
   "source": [
    "### Connect to the Wallaroo Instance\n",
    "\n",
    "The first step is to connect to Wallaroo through the Wallaroo client.  The Python library is included in the Wallaroo install and available through the Jupyter Hub interface provided with your Wallaroo environment.\n",
    "\n",
    "This is accomplished using the `wallaroo.Client()` command, which provides a URL to grant the SDK permission to your specific Wallaroo environment.  When displayed, enter the URL into a browser and confirm permissions.  Store the connection into a variable that can be referenced later.\n",
    "\n",
    "If logging into the Wallaroo instance through the internal JupyterHub service, use `wl = wallaroo.Client()`.  For more information on Wallaroo Client settings, see the [Client Connection guide](https://docs.wallaroo.ai/wallaroo-developer-guides/wallaroo-sdk-guides/wallaroo-sdk-essentials-guide/wallaroo-sdk-essentials-client/)."
   ]
  },
  {
   "cell_type": "code",
   "execution_count": 2,
   "metadata": {},
   "outputs": [
    {
     "name": "stdout",
     "output_type": "stream",
     "text": [
      "Please log into the following URL in a web browser:\n",
      "\n",
      "\thttps://autoscale-uat-gcp.wallaroo.dev/auth/realms/master/device?user_code=OUZT-AWMJ\n",
      "\n",
      "Login successful!\n"
     ]
    }
   ],
   "source": [
    "# Login through local Wallaroo instance\n",
    "\n",
    "wl = wallaroo.Client()"
   ]
  },
  {
   "cell_type": "markdown",
   "metadata": {},
   "source": [
    "Now that the Wallaroo client has been initialized, we can create the workspace and call it `demandcurveworkspace`, then set it as our current workspace.  We'll also create our pipeline so it's ready when we add our models to it."
   ]
  },
  {
   "cell_type": "markdown",
   "metadata": {},
   "source": [
    "We'll set some variables and methods to create our workspace, pipelines and models.  Note that as of the July 2022 release of Wallaroo, workspace names must be unique.  Pipelines with the same name will be created as a new version when built."
   ]
  },
  {
   "cell_type": "code",
   "execution_count": 3,
   "metadata": {},
   "outputs": [],
   "source": [
    "workspace_name = 'demandcurveworkspace'\n",
    "pipeline_name = 'demandcurvepipeline'\n",
    "model_name = 'demandcurvemodel'\n",
    "model_file_name = './models/demand_curve_v1.onnx'"
   ]
  },
  {
   "cell_type": "code",
   "execution_count": 4,
   "metadata": {},
   "outputs": [
    {
     "data": {
      "text/html": [
       "<table><tr><th>name</th> <td>demandcurvepipeline</td></tr><tr><th>created</th> <td>2024-07-22 21:39:54.411345+00:00</td></tr><tr><th>last_updated</th> <td>2024-07-23 14:56:35.240924+00:00</td></tr><tr><th>deployed</th> <td>False</td></tr><tr><th>workspace_id</th> <td>161</td></tr><tr><th>workspace_name</th> <td>demandcurveworkspace</td></tr><tr><th>arch</th> <td>x86</td></tr><tr><th>accel</th> <td>none</td></tr><tr><th>tags</th> <td></td></tr><tr><th>versions</th> <td>edd05f9d-523c-4be6-83d3-09dc4c1ec545, 8f1db6fb-58ba-4a83-9880-c3b4cb1de48f, 915021b6-e0cc-4d47-99c2-43d04cb83398</td></tr><tr><th>steps</th> <td>demandcurvemodel</td></tr><tr><th>published</th> <td>False</td></tr></table>"
      ],
      "text/plain": [
       "{'name': 'demandcurvepipeline', 'create_time': datetime.datetime(2024, 7, 22, 21, 39, 54, 411345, tzinfo=tzutc()), 'definition': '[]'}"
      ]
     },
     "execution_count": 4,
     "metadata": {},
     "output_type": "execute_result"
    }
   ],
   "source": [
    "workspace = wl.get_workspace(name=workspace_name, create_if_not_exist=True)\n",
    "\n",
    "wl.set_current_workspace(workspace)\n",
    "\n",
    "demandcurve_pipeline = wl.build_pipeline(pipeline_name)\n",
    "demandcurve_pipeline"
   ]
  },
  {
   "cell_type": "markdown",
   "metadata": {},
   "source": [
    "With our workspace established, we'll upload three models:\n",
    "\n",
    "\n",
    "* `./models/preprocess_dc_byop.zip`: A preprocess model step that formats the data into a tensor that the model can inference from.\n",
    "* `./models/demand_curve_v1.onnx`: Our demand_curve model.  We'll store the upload configuration into `demand_curve_model`.\n",
    "* `./models/postprocess_dc_byop.zip`: A postprocess model step that will zero out any negative values and return the output variable as \"prediction\".\n",
    "\n",
    "Note that the order we upload our models isn't important - we'll be establishing the actual process of moving data from one model to the next when we set up our pipeline."
   ]
  },
  {
   "cell_type": "code",
   "execution_count": 7,
   "metadata": {},
   "outputs": [],
   "source": [
    "demand_curve_model = wl.upload_model(model_name, \n",
    "                                     model_file_name, \n",
    "                                     framework=wallaroo.framework.Framework.ONNX\n",
    "                                     ).configure(tensor_fields=[\"tensor\"])"
   ]
  },
  {
   "cell_type": "code",
   "execution_count": 8,
   "metadata": {},
   "outputs": [
    {
     "name": "stdout",
     "output_type": "stream",
     "text": [
      "Waiting for model loading - this will take up to 10.0min.\n",
      "Model is pending loading to a container runtime..\n",
      "Model is attempting loading to a container runtime...successful\n",
      "\n",
      "Ready\n"
     ]
    }
   ],
   "source": [
    "input_schema = pa.schema([\n",
    "    pa.field('Date', pa.string()),\n",
    "    pa.field('cust_known', pa.bool_()),\n",
    "    pa.field('StockCode', pa.int32()),\n",
    "    pa.field('UnitPrice', pa.float32()),\n",
    "    pa.field('UnitsSold', pa.int32())\n",
    "])\n",
    "\n",
    "output_schema = pa.schema([\n",
    "    pa.field('tensor', pa.list_(pa.float64()))\n",
    "])\n",
    "\n",
    "preprocess_step = wl.upload_model('curve-preprocess', \n",
    "                                  './models/preprocess_dc_byop.zip', \n",
    "                                  framework=wallaroo.framework.Framework.CUSTOM, \n",
    "                                  input_schema=input_schema, \n",
    "                                  output_schema=output_schema)"
   ]
  },
  {
   "cell_type": "code",
   "execution_count": 9,
   "metadata": {},
   "outputs": [
    {
     "name": "stdout",
     "output_type": "stream",
     "text": [
      "Waiting for model loading - this will take up to 10.0min.\n",
      "Model is pending loading to a container runtime..\n",
      "Model is attempting loading to a container runtime..successful\n",
      "\n",
      "Ready\n"
     ]
    }
   ],
   "source": [
    "input_schema = pa.schema([\n",
    "    pa.field('variable', pa.list_(pa.float64()))\n",
    "])\n",
    "\n",
    "\n",
    "output_schema = pa.schema([\n",
    "    pa.field('prediction', pa.list_(pa.float64()))\n",
    "])\n",
    "\n",
    "postprocess_step = wl.upload_model('curve-postprocess', \n",
    "                                   './models/postprocess_dc_byop.zip', \n",
    "                                   framework=wallaroo.framework.Framework.CUSTOM, \n",
    "                                   input_schema=input_schema, \n",
    "                                   output_schema=output_schema)"
   ]
  },
  {
   "cell_type": "markdown",
   "metadata": {},
   "source": [
    "With our models uploaded, we're going to create our own pipeline and give it three steps:\n",
    "\n",
    "* The preprocess step to put the data into a tensor format.\n",
    "* Then we apply the data to our `demand_curve_model`.\n",
    "* And finally, we prepare our data for output with the `module_post`."
   ]
  },
  {
   "cell_type": "code",
   "execution_count": 10,
   "metadata": {},
   "outputs": [
    {
     "name": "stdout",
     "output_type": "stream",
     "text": [
      " ok\n"
     ]
    },
    {
     "data": {
      "text/html": [
       "<table><tr><th>name</th> <td>demandcurvepipeline</td></tr><tr><th>created</th> <td>2024-07-22 21:39:54.411345+00:00</td></tr><tr><th>last_updated</th> <td>2024-07-23 14:56:35.240924+00:00</td></tr><tr><th>deployed</th> <td>False</td></tr><tr><th>workspace_id</th> <td>161</td></tr><tr><th>workspace_name</th> <td>demandcurveworkspace</td></tr><tr><th>arch</th> <td>x86</td></tr><tr><th>accel</th> <td>none</td></tr><tr><th>tags</th> <td></td></tr><tr><th>versions</th> <td>edd05f9d-523c-4be6-83d3-09dc4c1ec545, 8f1db6fb-58ba-4a83-9880-c3b4cb1de48f, 915021b6-e0cc-4d47-99c2-43d04cb83398</td></tr><tr><th>steps</th> <td>demandcurvemodel</td></tr><tr><th>published</th> <td>False</td></tr></table>"
      ],
      "text/plain": [
       "{'name': 'demandcurvepipeline', 'create_time': datetime.datetime(2024, 7, 22, 21, 39, 54, 411345, tzinfo=tzutc()), 'definition': \"[{'ModelInference': {'models': [{'name': 'curve-preprocess', 'version': '096e5c3b-21d6-4887-92f6-84acdbf8153d', 'sha': '22d6886115cbf667cfb7dbd394730625e09d0f8a8ff853848a7edebdb3c26f01'}]}}, {'ModelInference': {'models': [{'name': 'demandcurvemodel', 'version': '9b3a8640-e2b6-4de0-9096-eac369f87a29', 'sha': '2820b42c9e778ae259918315f25afc8685ecab9967bad0a3d241e6191b414a0d'}]}}, {'ModelInference': {'models': [{'name': 'curve-postprocess', 'version': 'd8b4fff0-3603-48e3-88be-004cd0fc717b', 'sha': 'cf4cb335761e2bd5f238bd13f70e777f1fcc1eb31837ebea9cf3eb55c8faeb2f'}]}}]\"}"
      ]
     },
     "execution_count": 10,
     "metadata": {},
     "output_type": "execute_result"
    }
   ],
   "source": [
    "# now make a pipeline\n",
    "demandcurve_pipeline.undeploy()\n",
    "demandcurve_pipeline.clear()\n",
    "demandcurve_pipeline.add_model_step(preprocess_step)\n",
    "demandcurve_pipeline.add_model_step(demand_curve_model)\n",
    "demandcurve_pipeline.add_model_step(postprocess_step)"
   ]
  },
  {
   "cell_type": "markdown",
   "metadata": {},
   "source": [
    "And with that - let's deploy our model pipeline.  This usually takes about 45 seconds for the deployment to finish."
   ]
  },
  {
   "cell_type": "code",
   "execution_count": null,
   "metadata": {},
   "outputs": [],
   "source": [
    "deploy_config = wallaroo.DeploymentConfigBuilder().replica_count(1).cpus(1).memory(\"1Gi\").build()\n",
    "demandcurve_pipeline.deploy(deployment_config=deploy_config)"
   ]
  },
  {
   "cell_type": "code",
   "execution_count": 12,
   "metadata": {},
   "outputs": [
    {
     "data": {
      "text/plain": [
       "{'status': 'Running',\n",
       " 'details': [],\n",
       " 'engines': [{'ip': '10.4.2.40',\n",
       "   'name': 'engine-5744fbddb4-9bdlt',\n",
       "   'status': 'Running',\n",
       "   'reason': None,\n",
       "   'details': [],\n",
       "   'pipeline_statuses': {'pipelines': [{'id': 'demandcurvepipeline',\n",
       "      'status': 'Running',\n",
       "      'version': 'ae33d660-608f-4d7f-8183-78b0fc7cc440'}]},\n",
       "   'model_statuses': {'models': [{'name': 'demandcurvemodel',\n",
       "      'sha': '2820b42c9e778ae259918315f25afc8685ecab9967bad0a3d241e6191b414a0d',\n",
       "      'status': 'Running',\n",
       "      'version': '9b3a8640-e2b6-4de0-9096-eac369f87a29'},\n",
       "     {'name': 'curve-postprocess',\n",
       "      'sha': 'cf4cb335761e2bd5f238bd13f70e777f1fcc1eb31837ebea9cf3eb55c8faeb2f',\n",
       "      'status': 'Running',\n",
       "      'version': 'd8b4fff0-3603-48e3-88be-004cd0fc717b'},\n",
       "     {'name': 'curve-preprocess',\n",
       "      'sha': '22d6886115cbf667cfb7dbd394730625e09d0f8a8ff853848a7edebdb3c26f01',\n",
       "      'status': 'Running',\n",
       "      'version': '096e5c3b-21d6-4887-92f6-84acdbf8153d'}]}}],\n",
       " 'engine_lbs': [{'ip': '10.4.2.39',\n",
       "   'name': 'engine-lb-75cf576f7f-xd264',\n",
       "   'status': 'Running',\n",
       "   'reason': None,\n",
       "   'details': []}],\n",
       " 'sidekicks': [{'ip': '10.4.2.38',\n",
       "   'name': 'engine-sidekick-curve-postprocess-279-6799b7dfd7-js744',\n",
       "   'status': 'Running',\n",
       "   'reason': None,\n",
       "   'details': [],\n",
       "   'statuses': '\\n'},\n",
       "  {'ip': '10.4.3.3',\n",
       "   'name': 'engine-sidekick-curve-preprocess-278-6b6cf8fdcf-pvnv8',\n",
       "   'status': 'Running',\n",
       "   'reason': None,\n",
       "   'details': [],\n",
       "   'statuses': '\\n'}]}"
      ]
     },
     "execution_count": 12,
     "metadata": {},
     "output_type": "execute_result"
    }
   ],
   "source": [
    "demandcurve_pipeline.status()"
   ]
  },
  {
   "cell_type": "markdown",
   "metadata": {},
   "source": [
    "Everything is ready.  Let's feed our pipeline some data.  We have some information prepared with the `daily_purchasses.csv` spreadsheet.  We'll start with just one row to make sure that everything is working correctly."
   ]
  },
  {
   "cell_type": "code",
   "execution_count": 13,
   "metadata": {},
   "outputs": [
    {
     "data": {
      "text/html": [
       "<div>\n",
       "<style scoped>\n",
       "    .dataframe tbody tr th:only-of-type {\n",
       "        vertical-align: middle;\n",
       "    }\n",
       "\n",
       "    .dataframe tbody tr th {\n",
       "        vertical-align: top;\n",
       "    }\n",
       "\n",
       "    .dataframe thead th {\n",
       "        text-align: right;\n",
       "    }\n",
       "</style>\n",
       "<table border=\"1\" class=\"dataframe\">\n",
       "  <thead>\n",
       "    <tr style=\"text-align: right;\">\n",
       "      <th></th>\n",
       "      <th>Date</th>\n",
       "      <th>cust_known</th>\n",
       "      <th>StockCode</th>\n",
       "      <th>UnitPrice</th>\n",
       "      <th>UnitsSold</th>\n",
       "    </tr>\n",
       "  </thead>\n",
       "  <tbody>\n",
       "    <tr>\n",
       "      <th>0</th>\n",
       "      <td>2010-12-01</td>\n",
       "      <td>False</td>\n",
       "      <td>21928</td>\n",
       "      <td>4.21</td>\n",
       "      <td>1</td>\n",
       "    </tr>\n",
       "  </tbody>\n",
       "</table>\n",
       "</div>"
      ],
      "text/plain": [
       "         Date  cust_known StockCode  UnitPrice  UnitsSold\n",
       "0  2010-12-01       False     21928       4.21          1"
      ]
     },
     "execution_count": 13,
     "metadata": {},
     "output_type": "execute_result"
    }
   ],
   "source": [
    "# read in some purchase data\n",
    "purchases = pandas.read_csv('daily_purchases.csv')\n",
    "\n",
    "# start with a one-row data frame for testing\n",
    "subsamp_raw = purchases.iloc[0:1,: ]\n",
    "subsamp_raw"
   ]
  },
  {
   "cell_type": "code",
   "execution_count": 14,
   "metadata": {},
   "outputs": [
    {
     "data": {
      "text/html": [
       "<div>\n",
       "<style scoped>\n",
       "    .dataframe tbody tr th:only-of-type {\n",
       "        vertical-align: middle;\n",
       "    }\n",
       "\n",
       "    .dataframe tbody tr th {\n",
       "        vertical-align: top;\n",
       "    }\n",
       "\n",
       "    .dataframe thead th {\n",
       "        text-align: right;\n",
       "    }\n",
       "</style>\n",
       "<table border=\"1\" class=\"dataframe\">\n",
       "  <thead>\n",
       "    <tr style=\"text-align: right;\">\n",
       "      <th></th>\n",
       "      <th>time</th>\n",
       "      <th>in.Date</th>\n",
       "      <th>in.StockCode</th>\n",
       "      <th>in.UnitPrice</th>\n",
       "      <th>in.UnitsSold</th>\n",
       "      <th>in.cust_known</th>\n",
       "      <th>out.prediction</th>\n",
       "      <th>anomaly.count</th>\n",
       "    </tr>\n",
       "  </thead>\n",
       "  <tbody>\n",
       "    <tr>\n",
       "      <th>0</th>\n",
       "      <td>2024-07-23 15:01:47.076</td>\n",
       "      <td>2010-12-01</td>\n",
       "      <td>None</td>\n",
       "      <td>4.21</td>\n",
       "      <td>1</td>\n",
       "      <td>False</td>\n",
       "      <td>[6.680255142999893]</td>\n",
       "      <td>0</td>\n",
       "    </tr>\n",
       "  </tbody>\n",
       "</table>\n",
       "</div>"
      ],
      "text/plain": [
       "                     time     in.Date in.StockCode  in.UnitPrice  \\\n",
       "0 2024-07-23 15:01:47.076  2010-12-01         None          4.21   \n",
       "\n",
       "   in.UnitsSold  in.cust_known       out.prediction  anomaly.count  \n",
       "0             1          False  [6.680255142999893]              0  "
      ]
     },
     "metadata": {},
     "output_type": "display_data"
    }
   ],
   "source": [
    "result = demandcurve_pipeline.infer(subsamp_raw)\n",
    "display(result)"
   ]
  },
  {
   "cell_type": "markdown",
   "metadata": {},
   "source": [
    "We can see from the `out.prediction` field that the demand curve has a predicted slope of 6.68 from our sample data.  We can isolate that by specifying just the data output below."
   ]
  },
  {
   "cell_type": "code",
   "execution_count": 15,
   "metadata": {},
   "outputs": [
    {
     "data": {
      "text/plain": [
       "[6.680255142999893]"
      ]
     },
     "metadata": {},
     "output_type": "display_data"
    }
   ],
   "source": [
    "display(result.loc[0, ['out.prediction']][0])"
   ]
  },
  {
   "cell_type": "markdown",
   "metadata": {},
   "source": [
    "# Bulk Inference"
   ]
  },
  {
   "cell_type": "markdown",
   "metadata": {},
   "source": [
    "The initial test went perfectly.  Now let's throw some more data into our pipeline.  We'll draw 10 random rows from our spreadsheet, perform an inference from that, and then display the results and the logs showing the pipeline's actions."
   ]
  },
  {
   "cell_type": "code",
   "execution_count": 16,
   "metadata": {},
   "outputs": [
    {
     "data": {
      "text/html": [
       "<div>\n",
       "<style scoped>\n",
       "    .dataframe tbody tr th:only-of-type {\n",
       "        vertical-align: middle;\n",
       "    }\n",
       "\n",
       "    .dataframe tbody tr th {\n",
       "        vertical-align: top;\n",
       "    }\n",
       "\n",
       "    .dataframe thead th {\n",
       "        text-align: right;\n",
       "    }\n",
       "</style>\n",
       "<table border=\"1\" class=\"dataframe\">\n",
       "  <thead>\n",
       "    <tr style=\"text-align: right;\">\n",
       "      <th></th>\n",
       "      <th>Date</th>\n",
       "      <th>cust_known</th>\n",
       "      <th>StockCode</th>\n",
       "      <th>UnitPrice</th>\n",
       "      <th>UnitsSold</th>\n",
       "    </tr>\n",
       "  </thead>\n",
       "  <tbody>\n",
       "    <tr>\n",
       "      <th>0</th>\n",
       "      <td>2011-04-27</td>\n",
       "      <td>True</td>\n",
       "      <td>85099B</td>\n",
       "      <td>2.08</td>\n",
       "      <td>64</td>\n",
       "    </tr>\n",
       "    <tr>\n",
       "      <th>1</th>\n",
       "      <td>2011-11-25</td>\n",
       "      <td>True</td>\n",
       "      <td>23581</td>\n",
       "      <td>2.08</td>\n",
       "      <td>50</td>\n",
       "    </tr>\n",
       "    <tr>\n",
       "      <th>2</th>\n",
       "      <td>2011-08-09</td>\n",
       "      <td>True</td>\n",
       "      <td>21931</td>\n",
       "      <td>2.08</td>\n",
       "      <td>30</td>\n",
       "    </tr>\n",
       "    <tr>\n",
       "      <th>3</th>\n",
       "      <td>2011-09-07</td>\n",
       "      <td>False</td>\n",
       "      <td>22411</td>\n",
       "      <td>4.13</td>\n",
       "      <td>36</td>\n",
       "    </tr>\n",
       "    <tr>\n",
       "      <th>4</th>\n",
       "      <td>2011-04-19</td>\n",
       "      <td>True</td>\n",
       "      <td>21033</td>\n",
       "      <td>2.08</td>\n",
       "      <td>10</td>\n",
       "    </tr>\n",
       "    <tr>\n",
       "      <th>5</th>\n",
       "      <td>2011-09-15</td>\n",
       "      <td>False</td>\n",
       "      <td>22663</td>\n",
       "      <td>4.13</td>\n",
       "      <td>3</td>\n",
       "    </tr>\n",
       "    <tr>\n",
       "      <th>6</th>\n",
       "      <td>2011-09-11</td>\n",
       "      <td>True</td>\n",
       "      <td>22386</td>\n",
       "      <td>2.08</td>\n",
       "      <td>17</td>\n",
       "    </tr>\n",
       "    <tr>\n",
       "      <th>7</th>\n",
       "      <td>2011-01-14</td>\n",
       "      <td>True</td>\n",
       "      <td>22411</td>\n",
       "      <td>1.95</td>\n",
       "      <td>30</td>\n",
       "    </tr>\n",
       "    <tr>\n",
       "      <th>8</th>\n",
       "      <td>2011-03-23</td>\n",
       "      <td>False</td>\n",
       "      <td>21931</td>\n",
       "      <td>4.13</td>\n",
       "      <td>5</td>\n",
       "    </tr>\n",
       "    <tr>\n",
       "      <th>9</th>\n",
       "      <td>2011-07-27</td>\n",
       "      <td>False</td>\n",
       "      <td>85099B</td>\n",
       "      <td>4.13</td>\n",
       "      <td>1</td>\n",
       "    </tr>\n",
       "  </tbody>\n",
       "</table>\n",
       "</div>"
      ],
      "text/plain": [
       "         Date  cust_known StockCode  UnitPrice  UnitsSold\n",
       "0  2011-04-27        True    85099B       2.08         64\n",
       "1  2011-11-25        True     23581       2.08         50\n",
       "2  2011-08-09        True     21931       2.08         30\n",
       "3  2011-09-07       False     22411       4.13         36\n",
       "4  2011-04-19        True     21033       2.08         10\n",
       "5  2011-09-15       False     22663       4.13          3\n",
       "6  2011-09-11        True     22386       2.08         17\n",
       "7  2011-01-14        True     22411       1.95         30\n",
       "8  2011-03-23       False     21931       4.13          5\n",
       "9  2011-07-27       False    85099B       4.13          1"
      ]
     },
     "metadata": {},
     "output_type": "display_data"
    },
    {
     "data": {
      "text/html": [
       "<div>\n",
       "<style scoped>\n",
       "    .dataframe tbody tr th:only-of-type {\n",
       "        vertical-align: middle;\n",
       "    }\n",
       "\n",
       "    .dataframe tbody tr th {\n",
       "        vertical-align: top;\n",
       "    }\n",
       "\n",
       "    .dataframe thead th {\n",
       "        text-align: right;\n",
       "    }\n",
       "</style>\n",
       "<table border=\"1\" class=\"dataframe\">\n",
       "  <thead>\n",
       "    <tr style=\"text-align: right;\">\n",
       "      <th></th>\n",
       "      <th>time</th>\n",
       "      <th>in.Date</th>\n",
       "      <th>in.StockCode</th>\n",
       "      <th>in.UnitPrice</th>\n",
       "      <th>in.UnitsSold</th>\n",
       "      <th>in.cust_known</th>\n",
       "      <th>out.prediction</th>\n",
       "      <th>anomaly.count</th>\n",
       "    </tr>\n",
       "  </thead>\n",
       "  <tbody>\n",
       "    <tr>\n",
       "      <th>0</th>\n",
       "      <td>2024-07-23 15:01:51.323</td>\n",
       "      <td>2011-04-27</td>\n",
       "      <td>None</td>\n",
       "      <td>2.08</td>\n",
       "      <td>64</td>\n",
       "      <td>True</td>\n",
       "      <td>[33.125327529877765]</td>\n",
       "      <td>0</td>\n",
       "    </tr>\n",
       "    <tr>\n",
       "      <th>1</th>\n",
       "      <td>2024-07-23 15:01:51.323</td>\n",
       "      <td>2011-11-25</td>\n",
       "      <td>None</td>\n",
       "      <td>2.08</td>\n",
       "      <td>50</td>\n",
       "      <td>True</td>\n",
       "      <td>[33.125327529877765]</td>\n",
       "      <td>0</td>\n",
       "    </tr>\n",
       "    <tr>\n",
       "      <th>2</th>\n",
       "      <td>2024-07-23 15:01:51.323</td>\n",
       "      <td>2011-08-09</td>\n",
       "      <td>None</td>\n",
       "      <td>2.08</td>\n",
       "      <td>30</td>\n",
       "      <td>True</td>\n",
       "      <td>[33.125327529877765]</td>\n",
       "      <td>0</td>\n",
       "    </tr>\n",
       "    <tr>\n",
       "      <th>3</th>\n",
       "      <td>2024-07-23 15:01:51.323</td>\n",
       "      <td>2011-09-07</td>\n",
       "      <td>None</td>\n",
       "      <td>4.13</td>\n",
       "      <td>36</td>\n",
       "      <td>False</td>\n",
       "      <td>[6.7715457962084376]</td>\n",
       "      <td>0</td>\n",
       "    </tr>\n",
       "    <tr>\n",
       "      <th>4</th>\n",
       "      <td>2024-07-23 15:01:51.323</td>\n",
       "      <td>2011-04-19</td>\n",
       "      <td>None</td>\n",
       "      <td>2.08</td>\n",
       "      <td>10</td>\n",
       "      <td>True</td>\n",
       "      <td>[33.125327529877765]</td>\n",
       "      <td>0</td>\n",
       "    </tr>\n",
       "    <tr>\n",
       "      <th>5</th>\n",
       "      <td>2024-07-23 15:01:51.323</td>\n",
       "      <td>2011-09-15</td>\n",
       "      <td>None</td>\n",
       "      <td>4.13</td>\n",
       "      <td>3</td>\n",
       "      <td>False</td>\n",
       "      <td>[6.7715457962084376]</td>\n",
       "      <td>0</td>\n",
       "    </tr>\n",
       "    <tr>\n",
       "      <th>6</th>\n",
       "      <td>2024-07-23 15:01:51.323</td>\n",
       "      <td>2011-09-11</td>\n",
       "      <td>None</td>\n",
       "      <td>2.08</td>\n",
       "      <td>17</td>\n",
       "      <td>True</td>\n",
       "      <td>[33.125327529877765]</td>\n",
       "      <td>0</td>\n",
       "    </tr>\n",
       "    <tr>\n",
       "      <th>7</th>\n",
       "      <td>2024-07-23 15:01:51.323</td>\n",
       "      <td>2011-01-14</td>\n",
       "      <td>None</td>\n",
       "      <td>1.95</td>\n",
       "      <td>30</td>\n",
       "      <td>True</td>\n",
       "      <td>[40.57067616108544]</td>\n",
       "      <td>0</td>\n",
       "    </tr>\n",
       "    <tr>\n",
       "      <th>8</th>\n",
       "      <td>2024-07-23 15:01:51.323</td>\n",
       "      <td>2011-03-23</td>\n",
       "      <td>None</td>\n",
       "      <td>4.13</td>\n",
       "      <td>5</td>\n",
       "      <td>False</td>\n",
       "      <td>[6.7715457962084376]</td>\n",
       "      <td>0</td>\n",
       "    </tr>\n",
       "    <tr>\n",
       "      <th>9</th>\n",
       "      <td>2024-07-23 15:01:51.323</td>\n",
       "      <td>2011-07-27</td>\n",
       "      <td>None</td>\n",
       "      <td>4.13</td>\n",
       "      <td>1</td>\n",
       "      <td>False</td>\n",
       "      <td>[6.7715457962084376]</td>\n",
       "      <td>0</td>\n",
       "    </tr>\n",
       "  </tbody>\n",
       "</table>\n",
       "</div>"
      ],
      "text/plain": [
       "                     time     in.Date in.StockCode  in.UnitPrice  \\\n",
       "0 2024-07-23 15:01:51.323  2011-04-27         None          2.08   \n",
       "1 2024-07-23 15:01:51.323  2011-11-25         None          2.08   \n",
       "2 2024-07-23 15:01:51.323  2011-08-09         None          2.08   \n",
       "3 2024-07-23 15:01:51.323  2011-09-07         None          4.13   \n",
       "4 2024-07-23 15:01:51.323  2011-04-19         None          2.08   \n",
       "5 2024-07-23 15:01:51.323  2011-09-15         None          4.13   \n",
       "6 2024-07-23 15:01:51.323  2011-09-11         None          2.08   \n",
       "7 2024-07-23 15:01:51.323  2011-01-14         None          1.95   \n",
       "8 2024-07-23 15:01:51.323  2011-03-23         None          4.13   \n",
       "9 2024-07-23 15:01:51.323  2011-07-27         None          4.13   \n",
       "\n",
       "   in.UnitsSold  in.cust_known        out.prediction  anomaly.count  \n",
       "0            64           True  [33.125327529877765]              0  \n",
       "1            50           True  [33.125327529877765]              0  \n",
       "2            30           True  [33.125327529877765]              0  \n",
       "3            36          False  [6.7715457962084376]              0  \n",
       "4            10           True  [33.125327529877765]              0  \n",
       "5             3          False  [6.7715457962084376]              0  \n",
       "6            17           True  [33.125327529877765]              0  \n",
       "7            30           True   [40.57067616108544]              0  \n",
       "8             5          False  [6.7715457962084376]              0  \n",
       "9             1          False  [6.7715457962084376]              0  "
      ]
     },
     "metadata": {},
     "output_type": "display_data"
    }
   ],
   "source": [
    "ix = numpy.random.choice(purchases.shape[0], size=10, replace=False)\n",
    "converted = conversion.pandas_to_dict(purchases.iloc[ix,: ])\n",
    "test_df = pd.DataFrame(converted['query'], columns=converted['colnames'])\n",
    "display(test_df)\n",
    "\n",
    "output = demandcurve_pipeline.infer(test_df)\n",
    "display(output)"
   ]
  },
  {
   "cell_type": "markdown",
   "metadata": {},
   "source": [
    "## Undeploy the Pipeline\n",
    "\n",
    "Once we've finished with our demand curve demo, we'll undeploy the pipeline and give the resources back to our Kubernetes cluster."
   ]
  },
  {
   "cell_type": "code",
   "execution_count": 17,
   "metadata": {},
   "outputs": [
    {
     "name": "stdout",
     "output_type": "stream",
     "text": [
      "Waiting for undeployment - this will take up to 45s ................................... ok\n"
     ]
    },
    {
     "data": {
      "text/html": [
       "<table><tr><th>name</th> <td>demandcurvepipeline</td></tr><tr><th>created</th> <td>2024-07-22 21:39:54.411345+00:00</td></tr><tr><th>last_updated</th> <td>2024-07-23 14:58:00.732488+00:00</td></tr><tr><th>deployed</th> <td>False</td></tr><tr><th>workspace_id</th> <td>161</td></tr><tr><th>workspace_name</th> <td>demandcurveworkspace</td></tr><tr><th>arch</th> <td>x86</td></tr><tr><th>accel</th> <td>none</td></tr><tr><th>tags</th> <td></td></tr><tr><th>versions</th> <td>ae33d660-608f-4d7f-8183-78b0fc7cc440, edd05f9d-523c-4be6-83d3-09dc4c1ec545, 8f1db6fb-58ba-4a83-9880-c3b4cb1de48f, 915021b6-e0cc-4d47-99c2-43d04cb83398</td></tr><tr><th>steps</th> <td>demandcurvemodel</td></tr><tr><th>published</th> <td>False</td></tr></table>"
      ],
      "text/plain": [
       "{'name': 'demandcurvepipeline', 'create_time': datetime.datetime(2024, 7, 22, 21, 39, 54, 411345, tzinfo=tzutc()), 'definition': \"[{'ModelInference': {'models': [{'name': 'curve-preprocess', 'version': '096e5c3b-21d6-4887-92f6-84acdbf8153d', 'sha': '22d6886115cbf667cfb7dbd394730625e09d0f8a8ff853848a7edebdb3c26f01'}]}}, {'ModelInference': {'models': [{'name': 'demandcurvemodel', 'version': '9b3a8640-e2b6-4de0-9096-eac369f87a29', 'sha': '2820b42c9e778ae259918315f25afc8685ecab9967bad0a3d241e6191b414a0d'}]}}, {'ModelInference': {'models': [{'name': 'curve-postprocess', 'version': 'd8b4fff0-3603-48e3-88be-004cd0fc717b', 'sha': 'cf4cb335761e2bd5f238bd13f70e777f1fcc1eb31837ebea9cf3eb55c8faeb2f'}]}}]\"}"
      ]
     },
     "execution_count": 17,
     "metadata": {},
     "output_type": "execute_result"
    }
   ],
   "source": [
    "demandcurve_pipeline.undeploy()"
   ]
  },
  {
   "cell_type": "markdown",
   "metadata": {},
   "source": [
    "Thank you for being a part of this demonstration.  If you have additional questions, please feel free to contact us at Wallaroo."
   ]
  }
 ],
 "metadata": {
  "kernelspec": {
   "display_name": "Python 3 (ipykernel)",
   "language": "python",
   "name": "python3"
  },
  "language_info": {
   "codemirror_mode": {
    "name": "ipython",
    "version": 3
   },
   "file_extension": ".py",
   "mimetype": "text/x-python",
   "name": "python",
   "nbconvert_exporter": "python",
   "pygments_lexer": "ipython3",
   "version": "3.9.13"
  },
  "vscode": {
   "interpreter": {
    "hash": "7dda4bf3640b7fafcd1648658b879b4cc9f6ba6084e8fb356fdaaa1a461d1690"
   }
  }
 },
 "nbformat": 4,
 "nbformat_minor": 4
}
