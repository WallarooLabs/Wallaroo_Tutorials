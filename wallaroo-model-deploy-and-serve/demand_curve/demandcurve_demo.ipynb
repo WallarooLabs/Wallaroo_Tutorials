{
 "cells": [
  {
   "cell_type": "markdown",
   "metadata": {},
   "source": [
    "This tutorial and the assets can be downloaded as part of the [Wallaroo Tutorials repository](https://github.com/WallarooLabs/Wallaroo_Tutorials/blob/wallaroo2024.2_tutorials/wallaroo-model-deploy-and-serve/demand_curve).\n",
    "\n",
    "## Demand Curve Pipeline Tutorial\n",
    "\n",
    "This worksheet demonstrates a Wallaroo pipeline with data preprocessing, a model, and data postprocessing.\n",
    "\n",
    "The model is a \"demand curve\" that predicts the expected number of units of a product that will be sold to a customer as a function of unit price and facts about the customer. Such models can be used for price optimization or sales volume forecasting.  This is purely a \"toy\" demonstration, but is useful for detailing the process of working with models and pipelines.\n",
    "\n",
    "Data preprocessing is required to create the features used by the model. Simple postprocessing prevents nonsensical estimates (e.g. negative units sold).\n",
    "\n",
    "## Prerequisites\n",
    "\n",
    "* An installed Wallaroo instance.\n",
    "* The following Python libraries installed:\n",
    "  * `os`\n",
    "  * [`wallaroo`](https://pypi.org/project/wallaroo/): The Wallaroo SDK. Included with the Wallaroo JupyterHub service by default."
   ]
  },
  {
   "cell_type": "code",
   "execution_count": 1,
   "metadata": {},
   "outputs": [],
   "source": [
    "import json\n",
    "import wallaroo\n",
    "from wallaroo.object import EntityNotFoundError\n",
    "import pandas\n",
    "import numpy\n",
    "import conversion\n",
    "from wallaroo.object import EntityNotFoundError\n",
    "import pyarrow as pa\n",
    "\n",
    "# used to display dataframe information without truncating\n",
    "from IPython.display import display\n",
    "import pandas as pd\n",
    "pd.set_option('display.max_colwidth', None)\n",
    "\n",
    "# ignoring warnings for demonstration\n",
    "import warnings\n",
    "warnings.filterwarnings('ignore')"
   ]
  },
  {
   "cell_type": "markdown",
   "metadata": {},
   "source": [
    "### Connect to the Wallaroo Instance\n",
    "\n",
    "The first step is to connect to Wallaroo through the Wallaroo client.  The Python library is included in the Wallaroo install and available through the Jupyter Hub interface provided with your Wallaroo environment.\n",
    "\n",
    "This is accomplished using the `wallaroo.Client()` command, which provides a URL to grant the SDK permission to your specific Wallaroo environment.  When displayed, enter the URL into a browser and confirm permissions.  Store the connection into a variable that can be referenced later.\n",
    "\n",
    "If logging into the Wallaroo instance through the internal JupyterHub service, use `wl = wallaroo.Client()`.  For more information on Wallaroo Client settings, see the [Client Connection guide](https://docs.wallaroo.ai/wallaroo-developer-guides/wallaroo-sdk-guides/wallaroo-sdk-essentials-guide/wallaroo-sdk-essentials-client/)."
   ]
  },
  {
   "cell_type": "code",
   "execution_count": 2,
   "metadata": {},
   "outputs": [],
   "source": [
    "# Login through local Wallaroo instance\n",
    "\n",
    "wl = wallaroo.Client()"
   ]
  },
  {
   "cell_type": "markdown",
   "metadata": {},
   "source": [
    "Now that the Wallaroo client has been initialized, we can create the workspace and call it `demandcurveworkspace`, then set it as our current workspace.  We'll also create our pipeline so it's ready when we add our models to it."
   ]
  },
  {
   "cell_type": "markdown",
   "metadata": {},
   "source": [
    "We'll set some variables and methods to create our workspace, pipelines and models.  Note that as of the July 2022 release of Wallaroo, workspace names must be unique.  Pipelines with the same name will be created as a new version when built."
   ]
  },
  {
   "cell_type": "code",
   "execution_count": 3,
   "metadata": {},
   "outputs": [],
   "source": [
    "workspace_name = 'demandcurveworkspace'\n",
    "pipeline_name = 'demandcurvepipeline'\n",
    "model_name = 'demandcurvemodel'\n",
    "model_file_name = './models/demand_curve_v1.onnx'"
   ]
  },
  {
   "cell_type": "code",
   "execution_count": 4,
   "metadata": {},
   "outputs": [
    {
     "data": {
      "text/html": [
       "<table><tr><th>name</th> <td>demandcurvepipeline</td></tr><tr><th>created</th> <td>2024-04-16 19:38:36.714333+00:00</td></tr><tr><th>last_updated</th> <td>2024-04-16 19:38:36.714333+00:00</td></tr><tr><th>deployed</th> <td>(none)</td></tr><tr><th>arch</th> <td>None</td></tr><tr><th>accel</th> <td>None</td></tr><tr><th>tags</th> <td></td></tr><tr><th>versions</th> <td>79b65e34-675d-4bdc-b764-1299f30fa26f</td></tr><tr><th>steps</th> <td></td></tr><tr><th>published</th> <td>False</td></tr></table>"
      ],
      "text/plain": [
       "{'name': 'demandcurvepipeline', 'create_time': datetime.datetime(2024, 4, 16, 19, 38, 36, 714333, tzinfo=tzutc()), 'definition': '[]'}"
      ]
     },
     "execution_count": 4,
     "metadata": {},
     "output_type": "execute_result"
    }
   ],
   "source": [
    "workspace = wl.get_workspace(name=workspace_name, create_if_not_exist=True)\n",
    "\n",
    "wl.set_current_workspace(workspace)\n",
    "\n",
    "demandcurve_pipeline = wl.build_pipeline(pipeline_name)\n",
    "demandcurve_pipeline"
   ]
  },
  {
   "cell_type": "markdown",
   "metadata": {},
   "source": [
    "With our workspace established, we'll upload three models:\n",
    "\n",
    "\n",
    "* `./models/preprocess_dc_byop.zip`: A preprocess model step that formats the data into a tensor that the model can inference from.\n",
    "* `./models/demand_curve_v1.onnx`: Our demand_curve model.  We'll store the upload configuration into `demand_curve_model`.\n",
    "* `./models/postprocess_dc_byop.zip`: A postprocess model step that will zero out any negative values and return the output variable as \"prediction\".\n",
    "\n",
    "Note that the order we upload our models isn't important - we'll be establishing the actual process of moving data from one model to the next when we set up our pipeline."
   ]
  },
  {
   "cell_type": "code",
   "execution_count": 5,
   "metadata": {},
   "outputs": [],
   "source": [
    "demand_curve_model = wl.upload_model(model_name, \n",
    "                                     model_file_name, \n",
    "                                     framework=wallaroo.framework.Framework.ONNX\n",
    "                                     ).configure(tensor_fields=[\"tensor\"])"
   ]
  },
  {
   "cell_type": "code",
   "execution_count": 6,
   "metadata": {},
   "outputs": [
    {
     "name": "stdout",
     "output_type": "stream",
     "text": [
      "Waiting for model loading - this will take up to 10.0min.\n",
      "Model is pending loading to a container runtime..\n",
      "Model is attempting loading to a container runtime...........successful\n",
      "\n",
      "Ready\n"
     ]
    }
   ],
   "source": [
    "input_schema = pa.schema([\n",
    "    pa.field('Date', pa.string()),\n",
    "    pa.field('cust_known', pa.bool_()),\n",
    "    pa.field('StockCode', pa.int32()),\n",
    "    pa.field('UnitPrice', pa.float32()),\n",
    "    pa.field('UnitsSold', pa.int32())\n",
    "])\n",
    "\n",
    "output_schema = pa.schema([\n",
    "    pa.field('tensor', pa.list_(pa.float64()))\n",
    "])\n",
    "\n",
    "preprocess_step = wl.upload_model('curve-preprocess', \n",
    "                                  './models/preprocess_dc_byop.zip', \n",
    "                                  framework=wallaroo.framework.Framework.CUSTOM, \n",
    "                                  input_schema=input_schema, \n",
    "                                  output_schema=output_schema)"
   ]
  },
  {
   "cell_type": "code",
   "execution_count": 7,
   "metadata": {},
   "outputs": [
    {
     "name": "stdout",
     "output_type": "stream",
     "text": [
      "Waiting for model loading - this will take up to 10.0min.\n",
      "Model is pending loading to a container runtime..\n",
      "Model is attempting loading to a container runtime..........successful\n",
      "\n",
      "Ready\n"
     ]
    }
   ],
   "source": [
    "input_schema = pa.schema([\n",
    "    pa.field('variable', pa.list_(pa.float64()))\n",
    "])\n",
    "\n",
    "\n",
    "output_schema = pa.schema([\n",
    "    pa.field('prediction', pa.list_(pa.float64()))\n",
    "])\n",
    "\n",
    "postprocess_step = wl.upload_model('curve-postprocess', \n",
    "                                   './models/postprocess_dc_byop.zip', \n",
    "                                   framework=wallaroo.framework.Framework.CUSTOM, \n",
    "                                   input_schema=input_schema, \n",
    "                                   output_schema=output_schema)"
   ]
  },
  {
   "cell_type": "markdown",
   "metadata": {},
   "source": [
    "With our models uploaded, we're going to create our own pipeline and give it three steps:\n",
    "\n",
    "* The preprocess step to put the data into a tensor format.\n",
    "* Then we apply the data to our `demand_curve_model`.\n",
    "* And finally, we prepare our data for output with the `module_post`."
   ]
  },
  {
   "cell_type": "code",
   "execution_count": 8,
   "metadata": {},
   "outputs": [
    {
     "data": {
      "text/html": [
       "<table><tr><th>name</th> <td>demandcurvepipeline</td></tr><tr><th>created</th> <td>2024-04-16 19:38:36.714333+00:00</td></tr><tr><th>last_updated</th> <td>2024-04-16 19:38:36.714333+00:00</td></tr><tr><th>deployed</th> <td>(none)</td></tr><tr><th>arch</th> <td>None</td></tr><tr><th>accel</th> <td>None</td></tr><tr><th>tags</th> <td></td></tr><tr><th>versions</th> <td>79b65e34-675d-4bdc-b764-1299f30fa26f</td></tr><tr><th>steps</th> <td></td></tr><tr><th>published</th> <td>False</td></tr></table>"
      ],
      "text/plain": [
       "{'name': 'demandcurvepipeline', 'create_time': datetime.datetime(2024, 4, 16, 19, 38, 36, 714333, tzinfo=tzutc()), 'definition': \"[{'ModelInference': {'models': [{'name': 'curve-preprocess', 'version': 'edafa913-e002-4b18-856c-53aa64a16f09', 'sha': '22d6886115cbf667cfb7dbd394730625e09d0f8a8ff853848a7edebdb3c26f01'}]}}, {'ModelInference': {'models': [{'name': 'demandcurvemodel', 'version': '61bc2d45-4826-4377-8cf7-b2822a7bf6a8', 'sha': '2820b42c9e778ae259918315f25afc8685ecab9967bad0a3d241e6191b414a0d'}]}}, {'ModelInference': {'models': [{'name': 'curve-postprocess', 'version': '8d981675-ef50-4d19-9837-9c1faca75195', 'sha': 'cf4cb335761e2bd5f238bd13f70e777f1fcc1eb31837ebea9cf3eb55c8faeb2f'}]}}]\"}"
      ]
     },
     "execution_count": 8,
     "metadata": {},
     "output_type": "execute_result"
    }
   ],
   "source": [
    "# now make a pipeline\n",
    "demandcurve_pipeline.undeploy()\n",
    "demandcurve_pipeline.clear()\n",
    "demandcurve_pipeline.add_model_step(preprocess_step)\n",
    "demandcurve_pipeline.add_model_step(demand_curve_model)\n",
    "demandcurve_pipeline.add_model_step(postprocess_step)"
   ]
  },
  {
   "cell_type": "markdown",
   "metadata": {},
   "source": [
    "And with that - let's deploy our model pipeline.  This usually takes about 45 seconds for the deployment to finish."
   ]
  },
  {
   "cell_type": "code",
   "execution_count": 9,
   "metadata": {},
   "outputs": [
    {
     "data": {
      "text/html": [
       "<table><tr><th>name</th> <td>demandcurvepipeline</td></tr><tr><th>created</th> <td>2024-04-16 19:38:36.714333+00:00</td></tr><tr><th>last_updated</th> <td>2024-04-16 19:40:58.596389+00:00</td></tr><tr><th>deployed</th> <td>True</td></tr><tr><th>arch</th> <td>x86</td></tr><tr><th>accel</th> <td>none</td></tr><tr><th>tags</th> <td></td></tr><tr><th>versions</th> <td>182cdcee-ef04-416e-a4dd-964e3b3a2e9c, 79b65e34-675d-4bdc-b764-1299f30fa26f</td></tr><tr><th>steps</th> <td>demandcurvemodel</td></tr><tr><th>published</th> <td>False</td></tr></table>"
      ],
      "text/plain": [
       "{'name': 'demandcurvepipeline', 'create_time': datetime.datetime(2024, 4, 16, 19, 38, 36, 714333, tzinfo=tzutc()), 'definition': \"[{'ModelInference': {'models': [{'name': 'curve-preprocess', 'version': 'edafa913-e002-4b18-856c-53aa64a16f09', 'sha': '22d6886115cbf667cfb7dbd394730625e09d0f8a8ff853848a7edebdb3c26f01'}]}}, {'ModelInference': {'models': [{'name': 'demandcurvemodel', 'version': '61bc2d45-4826-4377-8cf7-b2822a7bf6a8', 'sha': '2820b42c9e778ae259918315f25afc8685ecab9967bad0a3d241e6191b414a0d'}]}}, {'ModelInference': {'models': [{'name': 'curve-postprocess', 'version': '8d981675-ef50-4d19-9837-9c1faca75195', 'sha': 'cf4cb335761e2bd5f238bd13f70e777f1fcc1eb31837ebea9cf3eb55c8faeb2f'}]}}]\"}"
      ]
     },
     "execution_count": 9,
     "metadata": {},
     "output_type": "execute_result"
    }
   ],
   "source": [
    "deploy_config = wallaroo.DeploymentConfigBuilder().replica_count(1).cpus(1).memory(\"1Gi\").build()\n",
    "demandcurve_pipeline.deploy(deployment_config=deploy_config)"
   ]
  },
  {
   "cell_type": "markdown",
   "metadata": {},
   "source": [
    "Everything is ready.  Let's feed our pipeline some data.  We have some information prepared with the `daily_purchasses.csv` spreadsheet.  We'll start with just one row to make sure that everything is working correctly."
   ]
  },
  {
   "cell_type": "code",
   "execution_count": 10,
   "metadata": {},
   "outputs": [
    {
     "data": {
      "text/html": [
       "<div>\n",
       "<style scoped>\n",
       "    .dataframe tbody tr th:only-of-type {\n",
       "        vertical-align: middle;\n",
       "    }\n",
       "\n",
       "    .dataframe tbody tr th {\n",
       "        vertical-align: top;\n",
       "    }\n",
       "\n",
       "    .dataframe thead th {\n",
       "        text-align: right;\n",
       "    }\n",
       "</style>\n",
       "<table border=\"1\" class=\"dataframe\">\n",
       "  <thead>\n",
       "    <tr style=\"text-align: right;\">\n",
       "      <th></th>\n",
       "      <th>Date</th>\n",
       "      <th>cust_known</th>\n",
       "      <th>StockCode</th>\n",
       "      <th>UnitPrice</th>\n",
       "      <th>UnitsSold</th>\n",
       "    </tr>\n",
       "  </thead>\n",
       "  <tbody>\n",
       "    <tr>\n",
       "      <th>0</th>\n",
       "      <td>2010-12-01</td>\n",
       "      <td>False</td>\n",
       "      <td>21928</td>\n",
       "      <td>4.21</td>\n",
       "      <td>1</td>\n",
       "    </tr>\n",
       "  </tbody>\n",
       "</table>\n",
       "</div>"
      ],
      "text/plain": [
       "         Date  cust_known StockCode  UnitPrice  UnitsSold\n",
       "0  2010-12-01       False     21928       4.21          1"
      ]
     },
     "execution_count": 10,
     "metadata": {},
     "output_type": "execute_result"
    }
   ],
   "source": [
    "# read in some purchase data\n",
    "purchases = pandas.read_csv('daily_purchases.csv')\n",
    "\n",
    "# start with a one-row data frame for testing\n",
    "subsamp_raw = purchases.iloc[0:1,: ]\n",
    "subsamp_raw"
   ]
  },
  {
   "cell_type": "code",
   "execution_count": 12,
   "metadata": {},
   "outputs": [
    {
     "data": {
      "text/html": [
       "<div>\n",
       "<style scoped>\n",
       "    .dataframe tbody tr th:only-of-type {\n",
       "        vertical-align: middle;\n",
       "    }\n",
       "\n",
       "    .dataframe tbody tr th {\n",
       "        vertical-align: top;\n",
       "    }\n",
       "\n",
       "    .dataframe thead th {\n",
       "        text-align: right;\n",
       "    }\n",
       "</style>\n",
       "<table border=\"1\" class=\"dataframe\">\n",
       "  <thead>\n",
       "    <tr style=\"text-align: right;\">\n",
       "      <th></th>\n",
       "      <th>time</th>\n",
       "      <th>in.Date</th>\n",
       "      <th>in.StockCode</th>\n",
       "      <th>in.UnitPrice</th>\n",
       "      <th>in.UnitsSold</th>\n",
       "      <th>in.cust_known</th>\n",
       "      <th>out.prediction</th>\n",
       "      <th>anomaly.count</th>\n",
       "    </tr>\n",
       "  </thead>\n",
       "  <tbody>\n",
       "    <tr>\n",
       "      <th>0</th>\n",
       "      <td>2024-04-16 19:41:44.706</td>\n",
       "      <td>2010-12-01</td>\n",
       "      <td>21928</td>\n",
       "      <td>4.21</td>\n",
       "      <td>1</td>\n",
       "      <td>False</td>\n",
       "      <td>[6.680255142999893]</td>\n",
       "      <td>0</td>\n",
       "    </tr>\n",
       "  </tbody>\n",
       "</table>\n",
       "</div>"
      ],
      "text/plain": [
       "                     time     in.Date in.StockCode  in.UnitPrice  \\\n",
       "0 2024-04-16 19:41:44.706  2010-12-01        21928          4.21   \n",
       "\n",
       "   in.UnitsSold  in.cust_known       out.prediction  anomaly.count  \n",
       "0             1          False  [6.680255142999893]              0  "
      ]
     },
     "metadata": {},
     "output_type": "display_data"
    }
   ],
   "source": [
    "result = demandcurve_pipeline.infer(subsamp_raw)\n",
    "display(result)"
   ]
  },
  {
   "cell_type": "markdown",
   "metadata": {},
   "source": [
    "We can see from the `out.prediction` field that the demand curve has a predicted slope of 6.68 from our sample data.  We can isolate that by specifying just the data output below."
   ]
  },
  {
   "cell_type": "code",
   "execution_count": 13,
   "metadata": {},
   "outputs": [
    {
     "data": {
      "text/plain": [
       "[6.680255142999893]"
      ]
     },
     "metadata": {},
     "output_type": "display_data"
    }
   ],
   "source": [
    "display(result.loc[0, ['out.prediction']][0])"
   ]
  },
  {
   "cell_type": "markdown",
   "metadata": {},
   "source": [
    "# Bulk Inference"
   ]
  },
  {
   "cell_type": "markdown",
   "metadata": {},
   "source": [
    "The initial test went perfectly.  Now let's throw some more data into our pipeline.  We'll draw 10 random rows from our spreadsheet, perform an inference from that, and then display the results and the logs showing the pipeline's actions."
   ]
  },
  {
   "cell_type": "code",
   "execution_count": 14,
   "metadata": {},
   "outputs": [
    {
     "data": {
      "text/html": [
       "<div>\n",
       "<style scoped>\n",
       "    .dataframe tbody tr th:only-of-type {\n",
       "        vertical-align: middle;\n",
       "    }\n",
       "\n",
       "    .dataframe tbody tr th {\n",
       "        vertical-align: top;\n",
       "    }\n",
       "\n",
       "    .dataframe thead th {\n",
       "        text-align: right;\n",
       "    }\n",
       "</style>\n",
       "<table border=\"1\" class=\"dataframe\">\n",
       "  <thead>\n",
       "    <tr style=\"text-align: right;\">\n",
       "      <th></th>\n",
       "      <th>Date</th>\n",
       "      <th>cust_known</th>\n",
       "      <th>StockCode</th>\n",
       "      <th>UnitPrice</th>\n",
       "      <th>UnitsSold</th>\n",
       "    </tr>\n",
       "  </thead>\n",
       "  <tbody>\n",
       "    <tr>\n",
       "      <th>0</th>\n",
       "      <td>2011-09-09</td>\n",
       "      <td>False</td>\n",
       "      <td>20712</td>\n",
       "      <td>2.08</td>\n",
       "      <td>4</td>\n",
       "    </tr>\n",
       "    <tr>\n",
       "      <th>1</th>\n",
       "      <td>2010-12-07</td>\n",
       "      <td>True</td>\n",
       "      <td>21928</td>\n",
       "      <td>1.95</td>\n",
       "      <td>21</td>\n",
       "    </tr>\n",
       "    <tr>\n",
       "      <th>2</th>\n",
       "      <td>2011-10-11</td>\n",
       "      <td>True</td>\n",
       "      <td>23203</td>\n",
       "      <td>2.08</td>\n",
       "      <td>40</td>\n",
       "    </tr>\n",
       "    <tr>\n",
       "      <th>3</th>\n",
       "      <td>2011-01-26</td>\n",
       "      <td>False</td>\n",
       "      <td>22385</td>\n",
       "      <td>4.13</td>\n",
       "      <td>1</td>\n",
       "    </tr>\n",
       "    <tr>\n",
       "      <th>4</th>\n",
       "      <td>2011-09-04</td>\n",
       "      <td>True</td>\n",
       "      <td>23202</td>\n",
       "      <td>2.08</td>\n",
       "      <td>26</td>\n",
       "    </tr>\n",
       "    <tr>\n",
       "      <th>5</th>\n",
       "      <td>2011-02-20</td>\n",
       "      <td>True</td>\n",
       "      <td>21929</td>\n",
       "      <td>1.95</td>\n",
       "      <td>10</td>\n",
       "    </tr>\n",
       "    <tr>\n",
       "      <th>6</th>\n",
       "      <td>2010-12-09</td>\n",
       "      <td>False</td>\n",
       "      <td>22663</td>\n",
       "      <td>5.06</td>\n",
       "      <td>1</td>\n",
       "    </tr>\n",
       "    <tr>\n",
       "      <th>7</th>\n",
       "      <td>2010-12-01</td>\n",
       "      <td>False</td>\n",
       "      <td>85099F</td>\n",
       "      <td>4.21</td>\n",
       "      <td>1</td>\n",
       "    </tr>\n",
       "    <tr>\n",
       "      <th>8</th>\n",
       "      <td>2011-07-25</td>\n",
       "      <td>False</td>\n",
       "      <td>22411</td>\n",
       "      <td>4.13</td>\n",
       "      <td>3</td>\n",
       "    </tr>\n",
       "    <tr>\n",
       "      <th>9</th>\n",
       "      <td>2011-11-11</td>\n",
       "      <td>True</td>\n",
       "      <td>21928</td>\n",
       "      <td>1.79</td>\n",
       "      <td>100</td>\n",
       "    </tr>\n",
       "  </tbody>\n",
       "</table>\n",
       "</div>"
      ],
      "text/plain": [
       "         Date  cust_known StockCode  UnitPrice  UnitsSold\n",
       "0  2011-09-09       False     20712       2.08          4\n",
       "1  2010-12-07        True     21928       1.95         21\n",
       "2  2011-10-11        True     23203       2.08         40\n",
       "3  2011-01-26       False     22385       4.13          1\n",
       "4  2011-09-04        True     23202       2.08         26\n",
       "5  2011-02-20        True     21929       1.95         10\n",
       "6  2010-12-09       False     22663       5.06          1\n",
       "7  2010-12-01       False    85099F       4.21          1\n",
       "8  2011-07-25       False     22411       4.13          3\n",
       "9  2011-11-11        True     21928       1.79        100"
      ]
     },
     "metadata": {},
     "output_type": "display_data"
    },
    {
     "data": {
      "text/html": [
       "<div>\n",
       "<style scoped>\n",
       "    .dataframe tbody tr th:only-of-type {\n",
       "        vertical-align: middle;\n",
       "    }\n",
       "\n",
       "    .dataframe tbody tr th {\n",
       "        vertical-align: top;\n",
       "    }\n",
       "\n",
       "    .dataframe thead th {\n",
       "        text-align: right;\n",
       "    }\n",
       "</style>\n",
       "<table border=\"1\" class=\"dataframe\">\n",
       "  <thead>\n",
       "    <tr style=\"text-align: right;\">\n",
       "      <th></th>\n",
       "      <th>time</th>\n",
       "      <th>in.Date</th>\n",
       "      <th>in.StockCode</th>\n",
       "      <th>in.UnitPrice</th>\n",
       "      <th>in.UnitsSold</th>\n",
       "      <th>in.cust_known</th>\n",
       "      <th>out.prediction</th>\n",
       "      <th>anomaly.count</th>\n",
       "    </tr>\n",
       "  </thead>\n",
       "  <tbody>\n",
       "    <tr>\n",
       "      <th>0</th>\n",
       "      <td>2024-04-16 19:41:56.287</td>\n",
       "      <td>2011-09-09</td>\n",
       "      <td>20712</td>\n",
       "      <td>2.08</td>\n",
       "      <td>4</td>\n",
       "      <td>False</td>\n",
       "      <td>[9.110871233285868]</td>\n",
       "      <td>0</td>\n",
       "    </tr>\n",
       "    <tr>\n",
       "      <th>1</th>\n",
       "      <td>2024-04-16 19:41:56.287</td>\n",
       "      <td>2010-12-07</td>\n",
       "      <td>21928</td>\n",
       "      <td>1.95</td>\n",
       "      <td>21</td>\n",
       "      <td>True</td>\n",
       "      <td>[40.57067616108544]</td>\n",
       "      <td>0</td>\n",
       "    </tr>\n",
       "    <tr>\n",
       "      <th>2</th>\n",
       "      <td>2024-04-16 19:41:56.287</td>\n",
       "      <td>2011-10-11</td>\n",
       "      <td>23203</td>\n",
       "      <td>2.08</td>\n",
       "      <td>40</td>\n",
       "      <td>True</td>\n",
       "      <td>[33.125327529877765]</td>\n",
       "      <td>0</td>\n",
       "    </tr>\n",
       "    <tr>\n",
       "      <th>3</th>\n",
       "      <td>2024-04-16 19:41:56.287</td>\n",
       "      <td>2011-01-26</td>\n",
       "      <td>22385</td>\n",
       "      <td>4.13</td>\n",
       "      <td>1</td>\n",
       "      <td>False</td>\n",
       "      <td>[6.7715457962084376]</td>\n",
       "      <td>0</td>\n",
       "    </tr>\n",
       "    <tr>\n",
       "      <th>4</th>\n",
       "      <td>2024-04-16 19:41:56.287</td>\n",
       "      <td>2011-09-04</td>\n",
       "      <td>23202</td>\n",
       "      <td>2.08</td>\n",
       "      <td>26</td>\n",
       "      <td>True</td>\n",
       "      <td>[33.125327529877765]</td>\n",
       "      <td>0</td>\n",
       "    </tr>\n",
       "    <tr>\n",
       "      <th>5</th>\n",
       "      <td>2024-04-16 19:41:56.287</td>\n",
       "      <td>2011-02-20</td>\n",
       "      <td>21929</td>\n",
       "      <td>1.95</td>\n",
       "      <td>10</td>\n",
       "      <td>True</td>\n",
       "      <td>[40.57067616108544]</td>\n",
       "      <td>0</td>\n",
       "    </tr>\n",
       "    <tr>\n",
       "      <th>6</th>\n",
       "      <td>2024-04-16 19:41:56.287</td>\n",
       "      <td>2010-12-09</td>\n",
       "      <td>22663</td>\n",
       "      <td>5.06</td>\n",
       "      <td>1</td>\n",
       "      <td>False</td>\n",
       "      <td>[5.71029113645628]</td>\n",
       "      <td>0</td>\n",
       "    </tr>\n",
       "    <tr>\n",
       "      <th>7</th>\n",
       "      <td>2024-04-16 19:41:56.287</td>\n",
       "      <td>2010-12-01</td>\n",
       "      <td>85099F</td>\n",
       "      <td>4.21</td>\n",
       "      <td>1</td>\n",
       "      <td>False</td>\n",
       "      <td>[6.680255142999893]</td>\n",
       "      <td>0</td>\n",
       "    </tr>\n",
       "    <tr>\n",
       "      <th>8</th>\n",
       "      <td>2024-04-16 19:41:56.287</td>\n",
       "      <td>2011-07-25</td>\n",
       "      <td>22411</td>\n",
       "      <td>4.13</td>\n",
       "      <td>3</td>\n",
       "      <td>False</td>\n",
       "      <td>[6.7715457962084376]</td>\n",
       "      <td>0</td>\n",
       "    </tr>\n",
       "    <tr>\n",
       "      <th>9</th>\n",
       "      <td>2024-04-16 19:41:56.287</td>\n",
       "      <td>2011-11-11</td>\n",
       "      <td>21928</td>\n",
       "      <td>1.79</td>\n",
       "      <td>100</td>\n",
       "      <td>True</td>\n",
       "      <td>[49.73419582342663]</td>\n",
       "      <td>0</td>\n",
       "    </tr>\n",
       "  </tbody>\n",
       "</table>\n",
       "</div>"
      ],
      "text/plain": [
       "                     time     in.Date in.StockCode  in.UnitPrice  \\\n",
       "0 2024-04-16 19:41:56.287  2011-09-09        20712          2.08   \n",
       "1 2024-04-16 19:41:56.287  2010-12-07        21928          1.95   \n",
       "2 2024-04-16 19:41:56.287  2011-10-11        23203          2.08   \n",
       "3 2024-04-16 19:41:56.287  2011-01-26        22385          4.13   \n",
       "4 2024-04-16 19:41:56.287  2011-09-04        23202          2.08   \n",
       "5 2024-04-16 19:41:56.287  2011-02-20        21929          1.95   \n",
       "6 2024-04-16 19:41:56.287  2010-12-09        22663          5.06   \n",
       "7 2024-04-16 19:41:56.287  2010-12-01       85099F          4.21   \n",
       "8 2024-04-16 19:41:56.287  2011-07-25        22411          4.13   \n",
       "9 2024-04-16 19:41:56.287  2011-11-11        21928          1.79   \n",
       "\n",
       "   in.UnitsSold  in.cust_known        out.prediction  anomaly.count  \n",
       "0             4          False   [9.110871233285868]              0  \n",
       "1            21           True   [40.57067616108544]              0  \n",
       "2            40           True  [33.125327529877765]              0  \n",
       "3             1          False  [6.7715457962084376]              0  \n",
       "4            26           True  [33.125327529877765]              0  \n",
       "5            10           True   [40.57067616108544]              0  \n",
       "6             1          False    [5.71029113645628]              0  \n",
       "7             1          False   [6.680255142999893]              0  \n",
       "8             3          False  [6.7715457962084376]              0  \n",
       "9           100           True   [49.73419582342663]              0  "
      ]
     },
     "metadata": {},
     "output_type": "display_data"
    }
   ],
   "source": [
    "ix = numpy.random.choice(purchases.shape[0], size=10, replace=False)\n",
    "converted = conversion.pandas_to_dict(purchases.iloc[ix,: ])\n",
    "test_df = pd.DataFrame(converted['query'], columns=converted['colnames'])\n",
    "display(test_df)\n",
    "\n",
    "output = demandcurve_pipeline.infer(test_df)\n",
    "display(output)"
   ]
  },
  {
   "cell_type": "markdown",
   "metadata": {},
   "source": [
    "## Undeploy the Pipeline\n",
    "\n",
    "Once we've finished with our demand curve demo, we'll undeploy the pipeline and give the resources back to our Kubernetes cluster."
   ]
  },
  {
   "cell_type": "code",
   "execution_count": 15,
   "metadata": {},
   "outputs": [
    {
     "data": {
      "text/html": [
       "<table><tr><th>name</th> <td>demandcurvepipeline</td></tr><tr><th>created</th> <td>2024-04-16 19:38:36.714333+00:00</td></tr><tr><th>last_updated</th> <td>2024-04-16 19:40:58.596389+00:00</td></tr><tr><th>deployed</th> <td>False</td></tr><tr><th>arch</th> <td>x86</td></tr><tr><th>accel</th> <td>none</td></tr><tr><th>tags</th> <td></td></tr><tr><th>versions</th> <td>182cdcee-ef04-416e-a4dd-964e3b3a2e9c, 79b65e34-675d-4bdc-b764-1299f30fa26f</td></tr><tr><th>steps</th> <td>demandcurvemodel</td></tr><tr><th>published</th> <td>False</td></tr></table>"
      ],
      "text/plain": [
       "{'name': 'demandcurvepipeline', 'create_time': datetime.datetime(2024, 4, 16, 19, 38, 36, 714333, tzinfo=tzutc()), 'definition': \"[{'ModelInference': {'models': [{'name': 'curve-preprocess', 'version': 'edafa913-e002-4b18-856c-53aa64a16f09', 'sha': '22d6886115cbf667cfb7dbd394730625e09d0f8a8ff853848a7edebdb3c26f01'}]}}, {'ModelInference': {'models': [{'name': 'demandcurvemodel', 'version': '61bc2d45-4826-4377-8cf7-b2822a7bf6a8', 'sha': '2820b42c9e778ae259918315f25afc8685ecab9967bad0a3d241e6191b414a0d'}]}}, {'ModelInference': {'models': [{'name': 'curve-postprocess', 'version': '8d981675-ef50-4d19-9837-9c1faca75195', 'sha': 'cf4cb335761e2bd5f238bd13f70e777f1fcc1eb31837ebea9cf3eb55c8faeb2f'}]}}]\"}"
      ]
     },
     "execution_count": 15,
     "metadata": {},
     "output_type": "execute_result"
    }
   ],
   "source": [
    "demandcurve_pipeline.undeploy()"
   ]
  },
  {
   "cell_type": "markdown",
   "metadata": {},
   "source": [
    "Thank you for being a part of this demonstration.  If you have additional questions, please feel free to contact us at Wallaroo."
   ]
  }
 ],
 "metadata": {
  "kernelspec": {
   "display_name": "wallaroosdk.2024.1",
   "language": "python",
   "name": "wallaroosdk.2024.1"
  },
  "language_info": {
   "codemirror_mode": {
    "name": "ipython",
    "version": 3
   },
   "file_extension": ".py",
   "mimetype": "text/x-python",
   "name": "python",
   "nbconvert_exporter": "python",
   "pygments_lexer": "ipython3",
   "version": "3.8.19"
  },
  "vscode": {
   "interpreter": {
    "hash": "7dda4bf3640b7fafcd1648658b879b4cc9f6ba6084e8fb356fdaaa1a461d1690"
   }
  }
 },
 "nbformat": 4,
 "nbformat_minor": 4
}
