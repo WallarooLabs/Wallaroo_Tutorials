{
 "cells": [
  {
   "cell_type": "markdown",
   "metadata": {},
   "source": [
    "The following tutorials are available from the [Wallaroo Tutorials Repository](https://github.com/WallarooLabs/Wallaroo_Tutorials/tree/main/notebooks_in_prod).\n",
    "\n",
    "# Stage 3: Deploy the Model in Wallaroo\n",
    " \n",
    "In this stage, we upload the trained model and the processing steps to Wallaroo, then set up and deploy the inference pipeline. \n",
    "\n",
    "Once deployed we can feed the newest batch of data to the pipeline, do the inferences and write the results to a results table.\n",
    "\n",
    "For clarity in this demo, we have split the training/upload task into two notebooks:\n",
    "\n",
    "* `02_automated_training_process.ipynb`: Train and pickle ML model.\n",
    "* `03_deploy_model.ipynb`: Upload the model to Wallaroo and deploy into a pipeline.\n",
    "\n",
    "Assuming no changes are made to the structure of the model, these two notebooks, or a script based on them, can then be scheduled to run on a regular basis, to refresh the model with more recent training data and update the inference pipeline.\n",
    "\n",
    "This notebook is expected to run within the Wallaroo instance's Jupyter Hub service to provide access to all required Wallaroo libraries and functionality.\n",
    "\n",
    "## Resources\n",
    "\n",
    "The following resources are used as part of this tutorial:\n",
    "\n",
    "* **data**\n",
    "  * `data/seattle_housing_col_description.txt`: Describes the columns used as part data analysis.\n",
    "  * `data/seattle_housing.csv`: Sample data of the Seattle, Washington housing market between 2014 and 2015.\n",
    "* **code**\n",
    "  * `postprocess.py`: Formats the data after inference by the model is complete.\n",
    "  * `simdb.py`: A simulated database to demonstrate sending and receiving queries.\n",
    "  * `wallaroo_client.py`: Additional methods used with the Wallaroo instance to create workspaces, etc.\n",
    "* **models**\n",
    "  * `housing_model_xgb.onnx`: Model created in Stage 2: Training Process Automation Setup."
   ]
  },
  {
   "cell_type": "markdown",
   "metadata": {},
   "source": [
    "## Steps\n",
    "\n",
    "The process of uploading the model to Wallaroo follows these steps:\n",
    "\n",
    "* [Connect to Wallaroo](#connect-to-wallaroo): Connect to the Wallaroo instance and set up the workspace.\n",
    "* [Upload The Model](#upload-the-model): Upload the model and autoconvert for use in the Wallaroo engine.\n",
    "* [Upload the Processing Modules](#upload-the-processing-modules): Upload the processing modules.\n",
    "* [Create and Deploy the Pipeline](#create-and-deploy-the-pipeline): Create the pipeline with the model and processing modules as steps, then deploy it.\n",
    "* [Test the Pipeline](#test-the-pipeline): Verify that the pipeline works with the sample data."
   ]
  },
  {
   "cell_type": "markdown",
   "metadata": {},
   "source": [
    "### Connect to Wallaroo\n",
    "\n",
    "First we import the required libraries to connect to the Wallaroo instance, then connect to the Wallaroo instance."
   ]
  },
  {
   "cell_type": "code",
   "execution_count": 1,
   "metadata": {},
   "outputs": [],
   "source": [
    "import json\n",
    "import pickle\n",
    "import pandas as pd\n",
    "import numpy as np\n",
    "import pyarrow as pa\n",
    "\n",
    "import simdb # module for the purpose of this demo to simulate pulling data from a database\n",
    "\n",
    "# from wallaroo.ModelConversion import ConvertXGBoostArgs, ModelConversionSource, ModelConversionInputType\n",
    "import wallaroo\n",
    "from wallaroo.object import EntityNotFoundError\n",
    "\n",
    "# used to display dataframe information without truncating\n",
    "from IPython.display import display\n",
    "import pandas as pd\n",
    "pd.set_option('display.max_colwidth', None)\n",
    "\n",
    "import datetime"
   ]
  },
  {
   "cell_type": "markdown",
   "metadata": {},
   "source": [
    "### Connect to the Wallaroo Instance\n",
    "\n",
    "The first step is to connect to Wallaroo through the Wallaroo client.  The Python library is included in the Wallaroo install and available through the Jupyter Hub interface provided with your Wallaroo environment.\n",
    "\n",
    "This is accomplished using the `wallaroo.Client()` command, which provides a URL to grant the SDK permission to your specific Wallaroo environment.  When displayed, enter the URL into a browser and confirm permissions.  Store the connection into a variable that can be referenced later.\n",
    "\n",
    "If logging into the Wallaroo instance through the internal JupyterHub service, use `wl = wallaroo.Client()`.  For more information on Wallaroo Client settings, see the [Client Connection guide](https://docs.wallaroo.ai/wallaroo-developer-guides/wallaroo-sdk-guides/wallaroo-sdk-essentials-guide/wallaroo-sdk-essentials-client/)."
   ]
  },
  {
   "cell_type": "code",
   "execution_count": 2,
   "metadata": {},
   "outputs": [],
   "source": [
    "# Login through local Wallaroo instance\n",
    "\n",
    "wl = wallaroo.Client()\n",
    "\n",
    "wl = wallaroo.Client()\n",
    "\n",
    "wallarooPrefix = \"doc-test.\"\n",
    "wallarooSuffix = \"wallaroocommunity.ninja\"\n",
    "\n",
    "wl = wallaroo.Client(api_endpoint=f\"https://{wallarooPrefix}api.{wallarooSuffix}\", \n",
    "                    auth_endpoint=f\"https://{wallarooPrefix}keycloak.{wallarooSuffix}\", \n",
    "                    auth_type=\"sso\")\n"
   ]
  },
  {
   "cell_type": "code",
   "execution_count": 3,
   "metadata": {},
   "outputs": [],
   "source": [
    "def get_workspace(name):\n",
    "    workspace = None\n",
    "    for ws in wl.list_workspaces():\n",
    "        if ws.name() == name:\n",
    "            workspace= ws\n",
    "    if(workspace == None):\n",
    "        workspace = wl.create_workspace(name)\n",
    "    return workspace\n",
    "\n",
    "def get_pipeline(name):\n",
    "    try:\n",
    "        pipeline = wl.pipelines_by_name(name)[0]\n",
    "    except EntityNotFoundError:\n",
    "        pipeline = wl.build_pipeline(name)\n",
    "    return pipeline"
   ]
  },
  {
   "cell_type": "code",
   "execution_count": 4,
   "metadata": {},
   "outputs": [],
   "source": [
    "model_name = \"housepricemodel\"\n",
    "model_file = \"./housing_model_xgb.onnx\"\n",
    "pipeline_name = \"housing-pipe\""
   ]
  },
  {
   "cell_type": "markdown",
   "metadata": {},
   "source": [
    "### Upload The Model\n",
    "\n",
    "With the connection set and workspace prepared, upload the model created in `02_automated_training_process.ipynb` into the current workspace.\n",
    "\n",
    "To ensure the model input contract matches the provided input, the configuration `tensor_fields=[\"tensor\"]` is used so regardless of what the model input type is, Wallaroo will ensure inputs of type `tensor` are accepted."
   ]
  },
  {
   "cell_type": "code",
   "execution_count": 5,
   "metadata": {},
   "outputs": [],
   "source": [
    "hpmodel = (wl.upload_model(model_name, \n",
    "                           model_file, \n",
    "                           framework=wallaroo.framework.Framework.ONNX)\n",
    "                           .configure(tensor_fields=[\"tensor\"]\n",
    "                                    )\n",
    "            )"
   ]
  },
  {
   "cell_type": "markdown",
   "metadata": {},
   "source": [
    "## Upload the Processing Modules"
   ]
  },
  {
   "cell_type": "markdown",
   "metadata": {},
   "source": [
    "Preprocess model:"
   ]
  },
  {
   "cell_type": "code",
   "execution_count": 6,
   "metadata": {},
   "outputs": [
    {
     "name": "stdout",
     "output_type": "stream",
     "text": [
      "Waiting for model loading - this will take up to 10.0min.\n",
      "Model is pending loading to a container runtime..\n",
      "Model is attempting loading to a container runtime........successful\n",
      "\n",
      "Ready\n"
     ]
    }
   ],
   "source": [
    "input_schema = pa.schema([\n",
    "    pa.field('id', pa.int64()),\n",
    "    pa.field('date', pa.string()),\n",
    "    pa.field('list_price', pa.float64()),\n",
    "    pa.field('bedrooms', pa.int64()),\n",
    "    pa.field('bathrooms', pa.float64()),\n",
    "    pa.field('sqft_living', pa.int64()),\n",
    "    pa.field('sqft_lot', pa.int64()),\n",
    "    pa.field('floors', pa.float64()),\n",
    "    pa.field('waterfront', pa.int64()),\n",
    "    pa.field('view', pa.int64()),\n",
    "    pa.field('condition', pa.int64()),\n",
    "    pa.field('grade', pa.int64()),\n",
    "    pa.field('sqft_above', pa.int64()),\n",
    "    pa.field('sqft_basement', pa.int64()),\n",
    "    pa.field('yr_built', pa.int64()),\n",
    "    pa.field('yr_renovated', pa.int64()),\n",
    "    pa.field('zipcode', pa.int64()),\n",
    "    pa.field('lat', pa.float64()),\n",
    "    pa.field('long', pa.float64()),\n",
    "    pa.field('sqft_living15', pa.int64()),\n",
    "    pa.field('sqft_lot15', pa.int64()),\n",
    "    pa.field('sale_price', pa.float64())\n",
    "])\n",
    "\n",
    "output_schema = pa.schema([\n",
    "    pa.field('tensor', pa.list_(pa.float32(), list_size=18))\n",
    "])\n",
    "\n",
    "preprocess_model = wl.upload_model(\"preprocess-step\", \"./models/preprocess_step.zip\", \\\n",
    "                                   framework=wallaroo.framework.Framework.PYTHON, \\\n",
    "                                   input_schema=input_schema, output_schema=output_schema)"
   ]
  },
  {
   "cell_type": "markdown",
   "metadata": {},
   "source": [
    "Postprocess model:"
   ]
  },
  {
   "cell_type": "code",
   "execution_count": 7,
   "metadata": {},
   "outputs": [
    {
     "name": "stdout",
     "output_type": "stream",
     "text": [
      "Waiting for model loading - this will take up to 10.0min.\n",
      "Model is pending loading to a container runtime..\n",
      "Model is attempting loading to a container runtime.......successful\n",
      "\n",
      "Ready\n"
     ]
    }
   ],
   "source": [
    "input_schema = pa.schema([\n",
    "    pa.field('variable', pa.list_(pa.float32()))\n",
    "])\n",
    "\n",
    "\n",
    "output_schema = pa.schema([\n",
    "    pa.field('variable', pa.list_(pa.float32()))\n",
    "])\n",
    "\n",
    "postprocess_model = wl.upload_model(\"postprocess-step\", \"./models/postprocess_step.zip\", \\\n",
    "                                   framework=wallaroo.framework.Framework.PYTHON, \\\n",
    "                                   input_schema=input_schema, output_schema=output_schema)"
   ]
  },
  {
   "cell_type": "markdown",
   "metadata": {},
   "source": [
    "### Create and Deploy the Pipeline\n",
    "\n",
    "Create the pipeline with the preprocess module, housing model, and postprocess module as pipeline steps, then deploy the newpipeline."
   ]
  },
  {
   "cell_type": "code",
   "execution_count": 8,
   "metadata": {},
   "outputs": [
    {
     "data": {
      "text/html": [
       "<table><tr><th>name</th> <td>housing-pipe</td></tr><tr><th>created</th> <td>2024-03-14 21:40:49.410206+00:00</td></tr><tr><th>last_updated</th> <td>2024-03-15 14:30:21.730581+00:00</td></tr><tr><th>deployed</th> <td>True</td></tr><tr><th>arch</th> <td>None</td></tr><tr><th>accel</th> <td>None</td></tr><tr><th>tags</th> <td></td></tr><tr><th>versions</th> <td>2f010e0a-d8a4-432b-9bc0-e0aa6e99fa83, c233aaf7-565b-449b-b3bc-1ac099679663, a930f821-31aa-4adb-a29a-33044bb69259, b8d12b5c-27f7-4985-a6ba-e6c53f549018, 3c6a77cf-296d-433a-874d-0267ce544c11</td></tr><tr><th>steps</th> <td>preprocess-step</td></tr><tr><th>published</th> <td>True</td></tr></table>"
      ],
      "text/plain": [
       "{'name': 'housing-pipe', 'create_time': datetime.datetime(2024, 3, 14, 21, 40, 49, 410206, tzinfo=tzutc()), 'definition': \"[{'ModelInference': {'models': [{'name': 'preprocess-step', 'version': 'bfde3d67-f029-4ee5-bfb6-f1fd449e71d0', 'sha': 'c09bbca6748ff23d83f48f57446c3ad6b5758c403936157ab731b3c269c0afb9'}]}}, {'ModelInference': {'models': [{'name': 'housepricemodel', 'version': '3afaf802-9ecb-4503-a62f-1b160c90c246', 'sha': 'd8b79e526eed180d39d4653b39bebd9d06e6ae7f68293b5745775a9093a3ae7d'}]}}, {'ModelInference': {'models': [{'name': 'postprocess-step', 'version': '38855c07-937f-4e20-9731-0112c56625b2', 'sha': 'c4dfec3dd259395598646ce85b8efd7811840dc726bf4915c39d862b87fc7070'}]}}]\"}"
      ]
     },
     "execution_count": 8,
     "metadata": {},
     "output_type": "execute_result"
    }
   ],
   "source": [
    "pipeline = get_pipeline(pipeline_name)\n",
    "# clear if the tutorial was run before\n",
    "pipeline.clear()\n",
    "\n",
    "pipeline.add_model_step(preprocess_model)\n",
    "pipeline.add_model_step(hpmodel)\n",
    "pipeline.add_model_step(postprocess_model)"
   ]
  },
  {
   "cell_type": "code",
   "execution_count": 15,
   "metadata": {},
   "outputs": [
    {
     "data": {
      "text/html": [
       "<table><tr><th>name</th> <td>housing-pipe</td></tr><tr><th>created</th> <td>2024-03-14 21:40:49.410206+00:00</td></tr><tr><th>last_updated</th> <td>2024-03-15 14:32:01.571423+00:00</td></tr><tr><th>deployed</th> <td>True</td></tr><tr><th>arch</th> <td>None</td></tr><tr><th>accel</th> <td>None</td></tr><tr><th>tags</th> <td></td></tr><tr><th>versions</th> <td>247bc22d-a702-4d04-9642-4a7766407b96, 26cfb381-ecae-465b-a9c5-15a459a0993f, 2f010e0a-d8a4-432b-9bc0-e0aa6e99fa83, c233aaf7-565b-449b-b3bc-1ac099679663, a930f821-31aa-4adb-a29a-33044bb69259, b8d12b5c-27f7-4985-a6ba-e6c53f549018, 3c6a77cf-296d-433a-874d-0267ce544c11</td></tr><tr><th>steps</th> <td>preprocess-step</td></tr><tr><th>published</th> <td>True</td></tr></table>"
      ],
      "text/plain": [
       "{'name': 'housing-pipe', 'create_time': datetime.datetime(2024, 3, 14, 21, 40, 49, 410206, tzinfo=tzutc()), 'definition': \"[{'ModelInference': {'models': [{'name': 'preprocess-step', 'version': 'bfde3d67-f029-4ee5-bfb6-f1fd449e71d0', 'sha': 'c09bbca6748ff23d83f48f57446c3ad6b5758c403936157ab731b3c269c0afb9'}]}}, {'ModelInference': {'models': [{'name': 'housepricemodel', 'version': '3afaf802-9ecb-4503-a62f-1b160c90c246', 'sha': 'd8b79e526eed180d39d4653b39bebd9d06e6ae7f68293b5745775a9093a3ae7d'}]}}, {'ModelInference': {'models': [{'name': 'postprocess-step', 'version': '38855c07-937f-4e20-9731-0112c56625b2', 'sha': 'c4dfec3dd259395598646ce85b8efd7811840dc726bf4915c39d862b87fc7070'}]}}]\"}"
      ]
     },
     "execution_count": 15,
     "metadata": {},
     "output_type": "execute_result"
    }
   ],
   "source": [
    "deploy_config = wallaroo.DeploymentConfigBuilder().replica_count(1).cpus(0.5).memory(\"1Gi\").build()\n",
    "pipeline.deploy(deployment_config=deploy_config)"
   ]
  },
  {
   "cell_type": "code",
   "execution_count": 9,
   "metadata": {},
   "outputs": [
    {
     "data": {
      "text/html": [
       "<table><tr><th>name</th> <td>housing-pipe</td></tr><tr><th>created</th> <td>2024-03-14 21:40:49.410206+00:00</td></tr><tr><th>last_updated</th> <td>2024-03-15 14:30:21.730581+00:00</td></tr><tr><th>deployed</th> <td>True</td></tr><tr><th>arch</th> <td>None</td></tr><tr><th>accel</th> <td>None</td></tr><tr><th>tags</th> <td></td></tr><tr><th>versions</th> <td>2f010e0a-d8a4-432b-9bc0-e0aa6e99fa83, c233aaf7-565b-449b-b3bc-1ac099679663, a930f821-31aa-4adb-a29a-33044bb69259, b8d12b5c-27f7-4985-a6ba-e6c53f549018, 3c6a77cf-296d-433a-874d-0267ce544c11</td></tr><tr><th>steps</th> <td>preprocess-step</td></tr><tr><th>published</th> <td>True</td></tr></table>"
      ],
      "text/plain": [
       "{'name': 'housing-pipe', 'create_time': datetime.datetime(2024, 3, 14, 21, 40, 49, 410206, tzinfo=tzutc()), 'definition': \"[{'ModelInference': {'models': [{'name': 'preprocess-step', 'version': 'bfde3d67-f029-4ee5-bfb6-f1fd449e71d0', 'sha': 'c09bbca6748ff23d83f48f57446c3ad6b5758c403936157ab731b3c269c0afb9'}]}}, {'ModelInference': {'models': [{'name': 'housepricemodel', 'version': '3afaf802-9ecb-4503-a62f-1b160c90c246', 'sha': 'd8b79e526eed180d39d4653b39bebd9d06e6ae7f68293b5745775a9093a3ae7d'}]}}, {'ModelInference': {'models': [{'name': 'postprocess-step', 'version': '38855c07-937f-4e20-9731-0112c56625b2', 'sha': 'c4dfec3dd259395598646ce85b8efd7811840dc726bf4915c39d862b87fc7070'}]}}]\"}"
      ]
     },
     "execution_count": 9,
     "metadata": {},
     "output_type": "execute_result"
    }
   ],
   "source": [
    "pipeline"
   ]
  },
  {
   "cell_type": "code",
   "execution_count": 10,
   "metadata": {},
   "outputs": [
    {
     "data": {
      "text/plain": [
       "{'status': 'Running',\n",
       " 'details': [],\n",
       " 'engines': [{'ip': '10.28.1.176',\n",
       "   'name': 'engine-6d44cb79b5-vpvd8',\n",
       "   'status': 'Running',\n",
       "   'reason': None,\n",
       "   'details': [],\n",
       "   'pipeline_statuses': {'pipelines': [{'id': 'housing-pipe',\n",
       "      'status': 'Running'}]},\n",
       "   'model_statuses': {'models': [{'config': {'batch_config': None,\n",
       "       'filter_threshold': None,\n",
       "       'id': 7,\n",
       "       'input_schema': None,\n",
       "       'model_version_id': 4,\n",
       "       'output_schema': None,\n",
       "       'runtime': 'onnx',\n",
       "       'sidekick_uri': None,\n",
       "       'tensor_fields': ['tensor']},\n",
       "      'model_version': {'conversion': {'framework': 'onnx',\n",
       "        'python_version': '3.8',\n",
       "        'requirements': []},\n",
       "       'file_info': {'file_name': 'housing_model_xgb.onnx',\n",
       "        'sha': 'd8b79e526eed180d39d4653b39bebd9d06e6ae7f68293b5745775a9093a3ae7d',\n",
       "        'version': '19323f59-37b8-47fa-978d-bf03f107a958'},\n",
       "       'id': 4,\n",
       "       'image_path': None,\n",
       "       'name': 'housepricemodel',\n",
       "       'status': 'ready',\n",
       "       'task_id': None,\n",
       "       'visibility': 'private',\n",
       "       'workspace_id': 1},\n",
       "      'status': 'Running'},\n",
       "     {'config': {'batch_config': None,\n",
       "       'filter_threshold': None,\n",
       "       'id': 9,\n",
       "       'input_schema': '/////6gAAAAQAAAAAAAKAAwABgAFAAgACgAAAAABBAAMAAAACAAIAAAABAAIAAAABAAAAAEAAAAEAAAAzP///wAAAQwUAAAAJAAAAAQAAAABAAAALAAAAAgAAAB2YXJpYWJsZQAAAAAEAAQABAAAABAAFAAIAAYABwAMAAAAEAAQAAAAAAABAxAAAAAcAAAABAAAAAAAAAAEAAAAaXRlbQAABgAIAAYABgAAAAAAAQA=',\n",
       "       'model_version_id': 6,\n",
       "       'output_schema': '/////6gAAAAQAAAAAAAKAAwABgAFAAgACgAAAAABBAAMAAAACAAIAAAABAAIAAAABAAAAAEAAAAEAAAAzP///wAAAQwUAAAAJAAAAAQAAAABAAAALAAAAAgAAAB2YXJpYWJsZQAAAAAEAAQABAAAABAAFAAIAAYABwAMAAAAEAAQAAAAAAABAxAAAAAcAAAABAAAAAAAAAAEAAAAaXRlbQAABgAIAAYABgAAAAAAAQA=',\n",
       "       'runtime': 'flight',\n",
       "       'sidekick_uri': None,\n",
       "       'tensor_fields': None},\n",
       "      'model_version': {'conversion': {'framework': 'python',\n",
       "        'python_version': '3.8',\n",
       "        'requirements': []},\n",
       "       'file_info': {'file_name': 'postprocess_step.zip',\n",
       "        'sha': 'c4dfec3dd259395598646ce85b8efd7811840dc726bf4915c39d862b87fc7070',\n",
       "        'version': 'e0c434cd-a674-4247-a03c-8d4b65d42282'},\n",
       "       'id': 6,\n",
       "       'image_path': 'proxy.replicated.com/proxy/wallaroo/ghcr.io/wallaroolabs/mac-deploy:v2024.1.0-main-4676',\n",
       "       'name': 'postprocess-step',\n",
       "       'status': 'ready',\n",
       "       'task_id': '42d5da5a-cc72-4f9d-b1c2-72481afe32fc',\n",
       "       'visibility': 'private',\n",
       "       'workspace_id': 1},\n",
       "      'status': 'Running'},\n",
       "     {'config': {'batch_config': None,\n",
       "       'filter_threshold': None,\n",
       "       'id': 8,\n",
       "       'input_schema': '/////+gEAAAQAAAAAAAKAAwABgAFAAgACgAAAAABBAAMAAAACAAIAAAABAAIAAAABAAAABYAAACEBAAARAQAAAgEAADQAwAAnAMAAGQDAAAsAwAA/AIAAMQCAACQAgAAWAIAACQCAADsAQAAsAEAAHgBAAA8AQAACAEAANwAAACsAAAAcAAAADgAAAAEAAAA5Pv//wAAAQMQAAAAHAAAAAQAAAAAAAAACgAAAHNhbGVfcHJpY2UAAEb8//8AAAIAFPz//wAAAQIQAAAAHAAAAAQAAAAAAAAACgAAAHNxZnRfbG90MTUAAAz8//8AAAABQAAAAEj8//8AAAECEAAAACAAAAAEAAAAAAAAAA0AAABzcWZ0X2xpdmluZzE1AAAARPz//wAAAAFAAAAAgPz//wAAAQMQAAAAGAAAAAQAAAAAAAAABAAAAGxvbmcAAAAA3vz//wAAAgCs/P//AAABAxAAAAAUAAAABAAAAAAAAAADAAAAbGF0AAb9//8AAAIA1Pz//wAAAQIQAAAAGAAAAAQAAAAAAAAABwAAAHppcGNvZGUAyPz//wAAAAFAAAAABP3//wAAAQIQAAAAIAAAAAQAAAAAAAAADAAAAHlyX3Jlbm92YXRlZAAAAAAA/f//AAAAAUAAAAA8/f//AAABAhAAAAAcAAAABAAAAAAAAAAIAAAAeXJfYnVpbHQAAAAANP3//wAAAAFAAAAAcP3//wAAAQIQAAAAIAAAAAQAAAAAAAAADQAAAHNxZnRfYmFzZW1lbnQAAABs/f//AAAAAUAAAACo/f//AAABAhAAAAAcAAAABAAAAAAAAAAKAAAAc3FmdF9hYm92ZQAAoP3//wAAAAFAAAAA3P3//wAAAQIQAAAAGAAAAAQAAAAAAAAABQAAAGdyYWRlAAAA0P3//wAAAAFAAAAADP7//wAAAQIQAAAAHAAAAAQAAAAAAAAACQAAAGNvbmRpdGlvbgAAAAT+//8AAAABQAAAAED+//8AAAECEAAAABgAAAAEAAAAAAAAAAQAAAB2aWV3AAAAADT+//8AAAABQAAAAHD+//8AAAECEAAAABwAAAAEAAAAAAAAAAoAAAB3YXRlcmZyb250AABo/v//AAAAAUAAAACk/v//AAABAxAAAAAYAAAABAAAAAAAAAAGAAAAZmxvb3JzAAAC////AAACAND+//8AAAECEAAAABwAAAAEAAAAAAAAAAgAAABzcWZ0X2xvdAAAAADI/v//AAAAAUAAAAAE////AAABAhAAAAAcAAAABAAAAAAAAAALAAAAc3FmdF9saXZpbmcA/P7//wAAAAFAAAAAOP///wAAAQMQAAAAHAAAAAQAAAAAAAAACQAAAGJhdGhyb29tcwAAAJr///8AAAIAaP///wAAAQIQAAAAHAAAAAQAAAAAAAAACAAAAGJlZHJvb21zAAAAAGD///8AAAABQAAAAJz///8AAAEDEAAAACQAAAAEAAAAAAAAAAoAAABsaXN0X3ByaWNlAAAAAAYACAAGAAYAAAAAAAIA1P///wAAAQUQAAAAHAAAAAQAAAAAAAAABAAAAGRhdGUAAAAABAAEAAQAAAAQABQACAAGAAcADAAAABAAEAAAAAAAAQIQAAAAHAAAAAQAAAAAAAAAAgAAAGlkAAAIAAwACAAHAAgAAAAAAAABQAAAAA==',\n",
       "       'model_version_id': 5,\n",
       "       'output_schema': '/////7AAAAAQAAAAAAAKAAwABgAFAAgACgAAAAABBAAMAAAACAAIAAAABAAIAAAABAAAAAEAAAAEAAAAyP///wAAARAUAAAAJAAAAAQAAAABAAAAMAAAAAYAAAB0ZW5zb3IAAAAABgAIAAQABgAAABIAAAAQABQACAAGAAcADAAAABAAEAAAAAAAAQMQAAAAHAAAAAQAAAAAAAAABAAAAGl0ZW0AAAYACAAGAAYAAAAAAAEAAAAAAA==',\n",
       "       'runtime': 'flight',\n",
       "       'sidekick_uri': None,\n",
       "       'tensor_fields': None},\n",
       "      'model_version': {'conversion': {'framework': 'python',\n",
       "        'python_version': '3.8',\n",
       "        'requirements': []},\n",
       "       'file_info': {'file_name': 'preprocess_step.zip',\n",
       "        'sha': 'c09bbca6748ff23d83f48f57446c3ad6b5758c403936157ab731b3c269c0afb9',\n",
       "        'version': 'ec2361d0-cba5-4814-8bce-557bbb3f4acc'},\n",
       "       'id': 5,\n",
       "       'image_path': 'proxy.replicated.com/proxy/wallaroo/ghcr.io/wallaroolabs/mac-deploy:v2024.1.0-main-4676',\n",
       "       'name': 'preprocess-step',\n",
       "       'status': 'ready',\n",
       "       'task_id': '648bc597-b743-4a47-96a2-a802b7d0d77c',\n",
       "       'visibility': 'private',\n",
       "       'workspace_id': 1},\n",
       "      'status': 'Running'}]}}],\n",
       " 'engine_lbs': [{'ip': '10.28.0.197',\n",
       "   'name': 'engine-lb-d7cc8fc9c-wv6lz',\n",
       "   'status': 'Running',\n",
       "   'reason': None,\n",
       "   'details': []}],\n",
       " 'sidekicks': [{'ip': '10.28.1.175',\n",
       "   'name': 'engine-sidekick-preprocess-step-5-bfb4db6cd-xw4c6',\n",
       "   'status': 'Running',\n",
       "   'reason': None,\n",
       "   'details': [],\n",
       "   'statuses': '\\n'},\n",
       "  {'ip': '10.28.0.198',\n",
       "   'name': 'engine-sidekick-postprocess-step-6-7f48994ccb-4sbkf',\n",
       "   'status': 'Running',\n",
       "   'reason': None,\n",
       "   'details': [],\n",
       "   'statuses': '\\n'}]}"
      ]
     },
     "execution_count": 10,
     "metadata": {},
     "output_type": "execute_result"
    }
   ],
   "source": [
    "pipeline.status()"
   ]
  },
  {
   "cell_type": "markdown",
   "metadata": {},
   "source": [
    "### Test the Pipeline\n",
    "\n",
    "We will use a single query from the simulated `housing_price` table and infer.  When successful, we will undeploy the pipeline to restore the resources back to the Kubernetes environment."
   ]
  },
  {
   "cell_type": "code",
   "execution_count": 11,
   "metadata": {},
   "outputs": [
    {
     "name": "stdout",
     "output_type": "stream",
     "text": [
      "select * from house_listings limit 1\n"
     ]
    },
    {
     "data": {
      "text/html": [
       "<div>\n",
       "<style scoped>\n",
       "    .dataframe tbody tr th:only-of-type {\n",
       "        vertical-align: middle;\n",
       "    }\n",
       "\n",
       "    .dataframe tbody tr th {\n",
       "        vertical-align: top;\n",
       "    }\n",
       "\n",
       "    .dataframe thead th {\n",
       "        text-align: right;\n",
       "    }\n",
       "</style>\n",
       "<table border=\"1\" class=\"dataframe\">\n",
       "  <thead>\n",
       "    <tr style=\"text-align: right;\">\n",
       "      <th></th>\n",
       "      <th>id</th>\n",
       "      <th>date</th>\n",
       "      <th>list_price</th>\n",
       "      <th>bedrooms</th>\n",
       "      <th>bathrooms</th>\n",
       "      <th>sqft_living</th>\n",
       "      <th>sqft_lot</th>\n",
       "    </tr>\n",
       "  </thead>\n",
       "  <tbody>\n",
       "    <tr>\n",
       "      <th>0</th>\n",
       "      <td>7129300520</td>\n",
       "      <td>2023-08-02</td>\n",
       "      <td>221900.0</td>\n",
       "      <td>3</td>\n",
       "      <td>1.0</td>\n",
       "      <td>1180</td>\n",
       "      <td>5650</td>\n",
       "    </tr>\n",
       "  </tbody>\n",
       "</table>\n",
       "</div>"
      ],
      "text/plain": [
       "           id        date  list_price  bedrooms  bathrooms  sqft_living  \\\n",
       "0  7129300520  2023-08-02    221900.0         3        1.0         1180   \n",
       "\n",
       "   sqft_lot  \n",
       "0      5650  "
      ]
     },
     "metadata": {},
     "output_type": "display_data"
    }
   ],
   "source": [
    "conn = simdb.simulate_db_connection()\n",
    "\n",
    "# create the query\n",
    "query = f\"select * from {simdb.tablename} limit 1\"\n",
    "print(query)\n",
    "\n",
    "# read in the data\n",
    "singleton = pd.read_sql_query(query, conn)\n",
    "conn.close()\n",
    "\n",
    "display(singleton.loc[:, [\"id\", \"date\", \"list_price\", \"bedrooms\", \"bathrooms\", \"sqft_living\", \"sqft_lot\"]])"
   ]
  },
  {
   "cell_type": "code",
   "execution_count": 18,
   "metadata": {},
   "outputs": [
    {
     "data": {
      "text/plain": [
       "[{'time': 1710513169909,\n",
       "  'in': {'bathrooms': 1.0,\n",
       "   'bedrooms': 3,\n",
       "   'condition': 3,\n",
       "   'date': '2023-08-02',\n",
       "   'floors': 1.0,\n",
       "   'grade': 7,\n",
       "   'id': 7129300520,\n",
       "   'lat': 47.5112,\n",
       "   'list_price': 221900.0,\n",
       "   'long': -122.257,\n",
       "   'sale_price': 221900.0,\n",
       "   'sqft_above': 1180,\n",
       "   'sqft_basement': 0,\n",
       "   'sqft_living': 1180,\n",
       "   'sqft_living15': 1340,\n",
       "   'sqft_lot': 5650,\n",
       "   'sqft_lot15': 5650,\n",
       "   'view': 0,\n",
       "   'waterfront': 0,\n",
       "   'yr_built': 1955,\n",
       "   'yr_renovated': 0,\n",
       "   'zipcode': 98178},\n",
       "  'out': {'variable': [224852.0]},\n",
       "  'anomaly': {'count': 0},\n",
       "  'metadata': {'last_model': '{\"model_name\":\"postprocess-step\",\"model_sha\":\"c4dfec3dd259395598646ce85b8efd7811840dc726bf4915c39d862b87fc7070\"}',\n",
       "   'pipeline_version': '247bc22d-a702-4d04-9642-4a7766407b96',\n",
       "   'elapsed': [107880, 7593739, 337280, 2178980],\n",
       "   'dropped': [],\n",
       "   'partition': 'engine-5dc7776c94-drhsg'}}]"
      ]
     },
     "metadata": {},
     "output_type": "display_data"
    }
   ],
   "source": [
    "# inference via API call\n",
    "\n",
    "import requests\n",
    "\n",
    "# Retrieve the token\n",
    "headers = wl.auth.auth_header()\n",
    "\n",
    "# set Content-Type type\n",
    "headers['Content-Type']='application/json; format=pandas-records'\n",
    "\n",
    "deploy_url = pipeline._deployment._url()\n",
    "\n",
    "# submit the request via POST, import as pandas DataFrame\n",
    "response = requests.post(\n",
    "                    deploy_url, \n",
    "                    data=singleton.to_json(orient=\"records\"), \n",
    "                    headers=headers)\n",
    "\n",
    "display(response.json())"
   ]
  },
  {
   "cell_type": "code",
   "execution_count": 17,
   "metadata": {},
   "outputs": [
    {
     "data": {
      "text/html": [
       "<div>\n",
       "<style scoped>\n",
       "    .dataframe tbody tr th:only-of-type {\n",
       "        vertical-align: middle;\n",
       "    }\n",
       "\n",
       "    .dataframe tbody tr th {\n",
       "        vertical-align: top;\n",
       "    }\n",
       "\n",
       "    .dataframe thead th {\n",
       "        text-align: right;\n",
       "    }\n",
       "</style>\n",
       "<table border=\"1\" class=\"dataframe\">\n",
       "  <thead>\n",
       "    <tr style=\"text-align: right;\">\n",
       "      <th></th>\n",
       "      <th>time</th>\n",
       "      <th>out.variable</th>\n",
       "    </tr>\n",
       "  </thead>\n",
       "  <tbody>\n",
       "    <tr>\n",
       "      <th>0</th>\n",
       "      <td>2024-03-15 14:32:27.690</td>\n",
       "      <td>[224852.0]</td>\n",
       "    </tr>\n",
       "  </tbody>\n",
       "</table>\n",
       "</div>"
      ],
      "text/plain": [
       "                     time out.variable\n",
       "0 2024-03-15 14:32:27.690   [224852.0]"
      ]
     },
     "metadata": {},
     "output_type": "display_data"
    }
   ],
   "source": [
    "result = pipeline.infer(singleton)\n",
    "display(result.loc[:, ['time', 'out.variable']])"
   ]
  },
  {
   "cell_type": "markdown",
   "metadata": {},
   "source": [
    "When finished, we undeploy the pipeline to return the resources back to the environment."
   ]
  },
  {
   "cell_type": "code",
   "execution_count": 13,
   "metadata": {},
   "outputs": [
    {
     "data": {
      "text/html": [
       "<table><tr><th>name</th> <td>housing-pipe</td></tr><tr><th>created</th> <td>2024-03-14 21:40:49.410206+00:00</td></tr><tr><th>last_updated</th> <td>2024-03-15 14:30:21.730581+00:00</td></tr><tr><th>deployed</th> <td>False</td></tr><tr><th>arch</th> <td>None</td></tr><tr><th>accel</th> <td>None</td></tr><tr><th>tags</th> <td></td></tr><tr><th>versions</th> <td>2f010e0a-d8a4-432b-9bc0-e0aa6e99fa83, c233aaf7-565b-449b-b3bc-1ac099679663, a930f821-31aa-4adb-a29a-33044bb69259, b8d12b5c-27f7-4985-a6ba-e6c53f549018, 3c6a77cf-296d-433a-874d-0267ce544c11</td></tr><tr><th>steps</th> <td>preprocess-step</td></tr><tr><th>published</th> <td>True</td></tr></table>"
      ],
      "text/plain": [
       "{'name': 'housing-pipe', 'create_time': datetime.datetime(2024, 3, 14, 21, 40, 49, 410206, tzinfo=tzutc()), 'definition': \"[{'ModelInference': {'models': [{'name': 'preprocess-step', 'version': 'bfde3d67-f029-4ee5-bfb6-f1fd449e71d0', 'sha': 'c09bbca6748ff23d83f48f57446c3ad6b5758c403936157ab731b3c269c0afb9'}]}}, {'ModelInference': {'models': [{'name': 'housepricemodel', 'version': '3afaf802-9ecb-4503-a62f-1b160c90c246', 'sha': 'd8b79e526eed180d39d4653b39bebd9d06e6ae7f68293b5745775a9093a3ae7d'}]}}, {'ModelInference': {'models': [{'name': 'postprocess-step', 'version': '38855c07-937f-4e20-9731-0112c56625b2', 'sha': 'c4dfec3dd259395598646ce85b8efd7811840dc726bf4915c39d862b87fc7070'}]}}]\"}"
      ]
     },
     "execution_count": 13,
     "metadata": {},
     "output_type": "execute_result"
    }
   ],
   "source": [
    "pipeline.undeploy()"
   ]
  },
  {
   "cell_type": "markdown",
   "metadata": {},
   "source": [
    "With this stage complete, we can proceed to Stage 4: Regular Batch Inference."
   ]
  },
  {
   "cell_type": "code",
   "execution_count": 14,
   "metadata": {},
   "outputs": [
    {
     "name": "stdout",
     "output_type": "stream",
     "text": [
      "Waiting for pipeline publish... It may take up to 600 sec.\n",
      "Pipeline is publishing.......... Published.\n"
     ]
    },
    {
     "data": {
      "text/html": [
       "\n",
       "          <table>\n",
       "              <tr><td>ID</td><td>5</td></tr>\n",
       "              <tr><td>Pipeline Name</td><td>housing-pipe</td></tr>\n",
       "              <tr><td>Pipeline Version</td><td>26cfb381-ecae-465b-a9c5-15a459a0993f</td></tr>\n",
       "              <tr><td>Status</td><td>Published</td></tr>\n",
       "              <tr><td>Engine URL</td><td><a href='https://ghcr.io/wallaroolabs/doc-samples/engines/proxy/wallaroo/ghcr.io/wallaroolabs/fitzroy-mini:v2024.1.0-main-4676'>ghcr.io/wallaroolabs/doc-samples/engines/proxy/wallaroo/ghcr.io/wallaroolabs/fitzroy-mini:v2024.1.0-main-4676</a></td></tr>\n",
       "              <tr><td>Pipeline URL</td><td><a href='https://ghcr.io/wallaroolabs/doc-samples/pipelines/housing-pipe:26cfb381-ecae-465b-a9c5-15a459a0993f'>ghcr.io/wallaroolabs/doc-samples/pipelines/housing-pipe:26cfb381-ecae-465b-a9c5-15a459a0993f</a></td></tr>\n",
       "              <tr><td>Helm Chart URL</td><td>oci://<a href='https://ghcr.io/wallaroolabs/doc-samples/charts/housing-pipe'>ghcr.io/wallaroolabs/doc-samples/charts/housing-pipe</a></td></tr>\n",
       "              <tr><td>Helm Chart Reference</td><td>ghcr.io/wallaroolabs/doc-samples/charts@sha256:453ea77cb3b2dd833536298bb75e7553be9ce5e664e78d35cd85485962a03e0f</td></tr>\n",
       "              <tr><td>Helm Chart Version</td><td>0.0.1-26cfb381-ecae-465b-a9c5-15a459a0993f</td></tr>\n",
       "              <tr><td>Engine Config</td><td>{'engine': {'resources': {'limits': {'cpu': 4.0, 'memory': '3Gi'}, 'requests': {'cpu': 4.0, 'memory': '3Gi'}, 'accel': 'none', 'arch': 'x86', 'gpu': False}}, 'engineAux': {'autoscale': {'type': 'none'}, 'images': None}, 'enginelb': {'resources': {'limits': {'cpu': 1.0, 'memory': '512Mi'}, 'requests': {'cpu': 0.2, 'memory': '512Mi'}, 'accel': 'none', 'arch': 'x86', 'gpu': False}}}</td></tr>\n",
       "              <tr><td>User Images</td><td>[]</td></tr>\n",
       "              <tr><td>Created By</td><td>john.hummel@wallaroo.ai</td></tr>\n",
       "              <tr><td>Created At</td><td>2024-03-15 14:31:13.665902+00:00</td></tr>\n",
       "              <tr><td>Updated At</td><td>2024-03-15 14:31:13.665902+00:00</td></tr>\n",
       "              <tr><td>Replaces</td><td></td></tr>\n",
       "              <tr>\n",
       "                  <td>Docker Run Command</td>\n",
       "                  <td>\n",
       "                      <table><tr><td>\n",
       "<pre style=\"text-align: left\">docker run \\\n",
       "    -e OCI_USERNAME=$OCI_USERNAME \\\n",
       "    -e OCI_PASSWORD=$OCI_PASSWORD \\\n",
       "    -e CONFIG_CPUS=4 ghcr.io/wallaroolabs/doc-samples/engines/proxy/wallaroo/ghcr.io/wallaroolabs/fitzroy-mini:v2024.1.0-main-4676</pre></td></tr></table>\n",
       "                      <br />\n",
       "                      <i>\n",
       "                          Note: Please set the <code>OCI_USERNAME</code>, and <code>OCI_PASSWORD</code> environment variables.\n",
       "                      </i>\n",
       "                  </td>\n",
       "              </tr>\n",
       "              <tr>\n",
       "                  <td>Helm Install Command</td>\n",
       "                  <td>\n",
       "                      <table><tr><td>\n",
       "<pre style=\"text-align: left\">helm install --atomic $HELM_INSTALL_NAME \\\n",
       "    oci://ghcr.io/wallaroolabs/doc-samples/charts/housing-pipe \\\n",
       "    --namespace $HELM_INSTALL_NAMESPACE \\\n",
       "    --version 0.0.1-26cfb381-ecae-465b-a9c5-15a459a0993f \\\n",
       "    --set ociRegistry.username=$OCI_USERNAME \\\n",
       "    --set ociRegistry.password=$OCI_PASSWORD</pre></td></tr></table>\n",
       "                      <br />\n",
       "                      <i>\n",
       "                          Note: Please set the <code>HELM_INSTALL_NAME</code>, <code>HELM_INSTALL_NAMESPACE</code>,\n",
       "                          <code>OCI_USERNAME</code>, and <code>OCI_PASSWORD</code> environment variables.\n",
       "                      </i>\n",
       "                  </td>\n",
       "              </tr>\n",
       "              \n",
       "          </table>\n",
       "        "
      ],
      "text/plain": [
       "PipelinePublish(created_at=datetime.datetime(2024, 3, 15, 14, 31, 13, 665902, tzinfo=tzutc()), docker_run_variables={}, engine_config={'engine': {'resources': {'limits': {'cpu': 4.0, 'memory': '3Gi'}, 'requests': {'cpu': 4.0, 'memory': '3Gi'}, 'accel': 'none', 'arch': 'x86', 'gpu': False}}, 'engineAux': {'autoscale': {'type': 'none'}, 'images': None}, 'enginelb': {'resources': {'limits': {'cpu': 1.0, 'memory': '512Mi'}, 'requests': {'cpu': 0.2, 'memory': '512Mi'}, 'accel': 'none', 'arch': 'x86', 'gpu': False}}}, id=5, pipeline_name='housing-pipe', pipeline_version_id=12, replaces=[], status='Published', updated_at=datetime.datetime(2024, 3, 15, 14, 31, 13, 665902, tzinfo=tzutc()), user_images=[], created_by='18d38b67-7f70-4b0c-8cfb-c209016963ff', edge_bundles=<wallaroo.wallaroo_ml_ops_api_client.types.Unset object at 0x11fd8e670>, engine_url='ghcr.io/wallaroolabs/doc-samples/engines/proxy/wallaroo/ghcr.io/wallaroolabs/fitzroy-mini:v2024.1.0-main-4676', error=None, helm={'reference': 'ghcr.io/wallaroolabs/doc-samples/charts@sha256:453ea77cb3b2dd833536298bb75e7553be9ce5e664e78d35cd85485962a03e0f', 'values': {}, 'chart': 'ghcr.io/wallaroolabs/doc-samples/charts/housing-pipe', 'version': '0.0.1-26cfb381-ecae-465b-a9c5-15a459a0993f'}, pipeline_url='ghcr.io/wallaroolabs/doc-samples/pipelines/housing-pipe:26cfb381-ecae-465b-a9c5-15a459a0993f', pipeline_version_name='26cfb381-ecae-465b-a9c5-15a459a0993f', additional_properties={})"
      ]
     },
     "execution_count": 14,
     "metadata": {},
     "output_type": "execute_result"
    }
   ],
   "source": [
    "pub = pipeline.publish()\n",
    "pub"
   ]
  },
  {
   "cell_type": "code",
   "execution_count": 20,
   "metadata": {},
   "outputs": [
    {
     "name": "stdout",
     "output_type": "stream",
     "text": [
      "\n",
      "docker run -p 8080:8080 \\\n",
      "    -e DEBUG=true \\\n",
      "    -e OCI_REGISTRY=$REGISTRYURL \\\n",
      "    -e CONFIG_CPUS=1 \\\n",
      "    -e OCI_USERNAME=$OCI_USERNAME \\\n",
      "    -e OCI_PASSWORD=$OCI_PASSWORD \\\n",
      "    -e PIPELINE_URL=ghcr.io/wallaroolabs/doc-samples/pipelines/housing-pipe:26cfb381-ecae-465b-a9c5-15a459a0993f \\\n",
      "    ghcr.io/wallaroolabs/doc-samples/engines/proxy/wallaroo/ghcr.io/wallaroolabs/fitzroy-mini:v2024.1.0-main-4676\n",
      "\n"
     ]
    }
   ],
   "source": [
    "# create docker run \n",
    "\n",
    "docker_command = f'''\n",
    "docker run -p 8080:8080 \\\\\n",
    "    -e DEBUG=true \\\\\n",
    "    -e OCI_REGISTRY=$REGISTRYURL \\\\\n",
    "    -e CONFIG_CPUS=1 \\\\\n",
    "    -e OCI_USERNAME=$OCI_USERNAME \\\\\n",
    "    -e OCI_PASSWORD=$OCI_PASSWORD \\\\\n",
    "    -e PIPELINE_URL={pub.pipeline_url} \\\\\n",
    "    {pub.engine_url}\n",
    "'''\n",
    "\n",
    "print(docker_command)"
   ]
  },
  {
   "cell_type": "code",
   "execution_count": 21,
   "metadata": {},
   "outputs": [
    {
     "data": {
      "text/plain": [
       "{'status': 'Error',\n",
       " 'error': 'Error occurred while creating a new object: transport error: transport error'}"
      ]
     },
     "metadata": {},
     "output_type": "display_data"
    }
   ],
   "source": [
    "# inference via API call\n",
    "\n",
    "import requests\n",
    "\n",
    "# set Content-Type type\n",
    "headers = {\n",
    "    'Content-Type': 'application/json; format=pandas-records'\n",
    "}\n",
    "\n",
    "deploy_url = 'http://testboy.local:8080/pipelines/housing-pipe'\n",
    "\n",
    "# submit the request via POST, import as pandas DataFrame\n",
    "response = requests.post(\n",
    "                    deploy_url, \n",
    "                    data=singleton.to_json(orient=\"records\"), \n",
    "                    headers=headers)\n",
    "\n",
    "display(response.json())"
   ]
  }
 ],
 "metadata": {
  "kernelspec": {
   "display_name": "Python 3 (ipykernel)",
   "language": "python",
   "name": "python3"
  },
  "language_info": {
   "codemirror_mode": {
    "name": "ipython",
    "version": 3
   },
   "file_extension": ".py",
   "mimetype": "text/x-python",
   "name": "python",
   "nbconvert_exporter": "python",
   "pygments_lexer": "ipython3",
   "version": "3.9.18"
  }
 },
 "nbformat": 4,
 "nbformat_minor": 4
}
