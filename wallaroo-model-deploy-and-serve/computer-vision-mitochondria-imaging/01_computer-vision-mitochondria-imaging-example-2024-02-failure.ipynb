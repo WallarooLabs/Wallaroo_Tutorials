{
 "cells": [
  {
   "attachments": {},
   "cell_type": "markdown",
   "id": "6a6e76a7-7f51-4d60-89c6-ec983e7445f7",
   "metadata": {},
   "source": [
    "This tutorial can be found on the [Wallaroo Tutorials Github Repository](https://github.com/WallarooLabs/Wallaroo_Tutorials/blob/wallaroo2025.1_tutorials/wallaroo-model-deploy-and-serve/computer-vision-mitochondria-imaging).\n",
    "\n",
    "\n",
    "## Image Detection for Health Care Computer Vision Tutorial Part 01: Mitochondria Detection\n",
    "\n",
    "The following tutorial demonstrates how to use Wallaroo to detect mitochondria from high resolution images.  For this example we will be using a high resolution 1536x2048 image that is broken down into \"patches\" of 256x256 images that can be quickly analyzed.\n",
    "\n",
    "Mitochondria are known as the \"powerhouse\" of the cell, and having a healthy amount of mitochondria indicates that a patient has enough energy to live a healthy life, or may have underling issues that a doctor can check for.\n",
    "\n",
    "Scanning high resolution images of patient cells can be used to count how many mitochondria a patient has, but the process is laborious.  The following ML Model is trained to examine an image of cells, then detect which structures are mitochondria.  This is used to speed up the process of testing patients and determining next steps.\n",
    "\n",
    "## Tutorial Goals\n",
    "\n",
    "This tutorial will perform the following:\n",
    "\n",
    "1. Upload and deploy the `mitochondria_epochs_15.onnx` model to a Wallaroo pipeline.\n",
    "1. Randomly select from from a selection of 256x256 images that were originally part of a larger 1536x2048 image.\n",
    "1. Convert the images into a numpy array inserted into a pandas DataFrame.\n",
    "1. Submit the DataFrame to the Wallaroo pipeline and use the results to create a mask image of where the model detects mitochondria.\n",
    "1. Compare the original image against a map of \"ground truth\" and the model's mask image.\n",
    "1. Undeploy the pipeline and return the resources back to the Wallaroo instance."
   ]
  },
  {
   "attachments": {},
   "cell_type": "markdown",
   "id": "9461daf4",
   "metadata": {},
   "source": [
    "## Prerequisites\n",
    "\n",
    "Complete the steps from Mitochondria Detection Computer Vision Tutorial Part 00: Prerequisites."
   ]
  },
  {
   "attachments": {},
   "cell_type": "markdown",
   "id": "820db0da",
   "metadata": {},
   "source": [
    "## Mitochondria Computer Vision Detection Steps\n",
    "\n",
    "### Import Libraries\n",
    "\n",
    "The first step is to import the necessary libraries.  Included with this tutorial are the following custom modules:\n",
    "\n",
    "* `tiff_utils`: Organizes the tiff images to perform random image selections and other tasks.\n",
    "\n",
    "Note that tensorflow may return warnings depending on the environment."
   ]
  },
  {
   "cell_type": "code",
   "execution_count": 3,
   "id": "40db93de-c4de-47b5-a65a-33ffb9194835",
   "metadata": {
    "tags": []
   },
   "outputs": [],
   "source": [
    "import json\n",
    "import IPython.display as display\n",
    "import time\n",
    "import matplotlib.pyplot as plt\n",
    "from IPython.display import clear_output, display\n",
    "from lib.TiffImageUtils import TiffUtils\n",
    "import tifffile as tiff\n",
    "\n",
    "import pandas as pd\n",
    "\n",
    "import wallaroo\n",
    "from wallaroo.object import EntityNotFoundError\n",
    "\n",
    "import numpy as np\n",
    "from matplotlib import pyplot as plt\n",
    "import cv2\n",
    "from tensorflow.keras.utils import normalize\n",
    "\n",
    "tiff_utils = TiffUtils()\n",
    "\n",
    "# ignoring warnings for demonstration\n",
    "import warnings\n",
    "warnings.filterwarnings('ignore')"
   ]
  },
  {
   "attachments": {},
   "cell_type": "markdown",
   "id": "8613607b-3242-486e-be92-9571a4493dd4",
   "metadata": {},
   "source": [
    "### Open a Connection to Wallaroo\n",
    "\n",
    "The next step is connect to Wallaroo through the Wallaroo client.  The Python library is included in the Wallaroo install and available through the Jupyter Hub interface provided with your Wallaroo environment.\n",
    "\n",
    "This is accomplished using the `wallaroo.Client()` command, which provides a URL to grant the SDK permission to your specific Wallaroo environment.  When displayed, enter the URL into a browser and confirm permissions.  Store the connection into a variable that can be referenced later.\n",
    "\n",
    "If logging into the Wallaroo instance through the internal JupyterHub service, use `wl = wallaroo.Client()`.  For more information on Wallaroo DNS settings, see the [Wallaroo DNS Integration Guide](https://docs.wallaroo.ai/wallaroo-operations-guide/wallaroo-configuration/wallaroo-dns-guide/)."
   ]
  },
  {
   "cell_type": "code",
   "execution_count": 4,
   "id": "ad6b4a36-30fb-41d9-9236-61ac3f963e89",
   "metadata": {
    "tags": []
   },
   "outputs": [],
   "source": [
    "# Login through local Wallaroo instance\n",
    "\n",
    "wl = wallaroo.Client()"
   ]
  },
  {
   "attachments": {},
   "cell_type": "markdown",
   "id": "ee3aa2ec-59d2-4045-868b-b779f071b364",
   "metadata": {},
   "source": [
    "### Create Workspace and Pipeline\n",
    "\n",
    "We will create a workspace to manage our pipeline and models.  The following variables will set the name of our sample workspace then set it as the current workspace.\n",
    "\n",
    "Workspace, pipeline, and model names should be unique to each Wallaroo instance, so we'll add in a randomly generated suffix so multiple people can run this tutorial in a Wallaroo instance without affecting each other."
   ]
  },
  {
   "cell_type": "code",
   "execution_count": 5,
   "id": "2db8a56f",
   "metadata": {},
   "outputs": [],
   "source": [
    "workspace_name = f'biolabsworkspace'\n",
    "pipeline_name = f'biolabspipeline'\n",
    "model_name = f'biolabsmodel'\n",
    "model_file_name = 'models/mitochondria_epochs_15.onnx'"
   ]
  },
  {
   "cell_type": "code",
   "execution_count": 6,
   "id": "0a309289",
   "metadata": {},
   "outputs": [
    {
     "data": {
      "text/html": [
       "<table><tr><th>name</th> <td>biolabspipeline</td></tr><tr><th>created</th> <td>2024-07-24 17:26:42.123914+00:00</td></tr><tr><th>last_updated</th> <td>2024-07-24 17:26:42.123914+00:00</td></tr><tr><th>deployed</th> <td>(none)</td></tr><tr><th>workspace_id</th> <td>22</td></tr><tr><th>workspace_name</th> <td>biolabsworkspace</td></tr><tr><th>arch</th> <td>None</td></tr><tr><th>accel</th> <td>None</td></tr><tr><th>tags</th> <td></td></tr><tr><th>versions</th> <td>d392f937-833b-41d2-940d-0968a1420a96</td></tr><tr><th>steps</th> <td></td></tr><tr><th>published</th> <td>False</td></tr></table>"
      ],
      "text/plain": [
       "{'name': 'biolabspipeline', 'create_time': datetime.datetime(2024, 7, 24, 17, 26, 42, 123914, tzinfo=tzutc()), 'definition': '[]'}"
      ]
     },
     "execution_count": 6,
     "metadata": {},
     "output_type": "execute_result"
    }
   ],
   "source": [
    "workspace = wl.get_workspace(name=workspace_name, create_if_not_exist=True)\n",
    "\n",
    "wl.set_current_workspace(workspace)\n",
    "\n",
    "pipeline = wl.build_pipeline(pipeline_name)\n",
    "pipeline"
   ]
  },
  {
   "attachments": {},
   "cell_type": "markdown",
   "id": "00b8bb92",
   "metadata": {},
   "source": [
    "### Upload the Models\n",
    "\n",
    "Now we will:\n",
    "\n",
    "1. Upload our model.\n",
    "1. Apply it as a step in our pipeline.\n",
    "1. Create a pipeline deployment with enough memory to perform the inferences.\n",
    "1. Deploy the pipeline."
   ]
  },
  {
   "cell_type": "code",
   "execution_count": 7,
   "id": "27e1eaf7-153b-4bde-a804-8cb7284db376",
   "metadata": {
    "tags": []
   },
   "outputs": [],
   "source": [
    "deployment_config = wallaroo.DeploymentConfigBuilder() \\\n",
    "                        .replica_count(1) \\\n",
    "                        .cpus(1) \\\n",
    "                        .memory(\"2Gi\") \\\n",
    "                        .build()\n",
    "\n",
    "model = (wl.upload_model(model_name, \n",
    "                         model_file_name, \n",
    "                         framework=wallaroo.framework.Framework.ONNX)\n",
    "                         .configure(tensor_fields=[\"tensor\"])\n",
    "        )\n",
    "\n",
    "pipeline = wl.build_pipeline(pipeline_name) \\\n",
    "            .add_model_step(model) \\\n",
    "            .deploy(deployment_config = deployment_config)"
   ]
  },
  {
   "attachments": {},
   "cell_type": "markdown",
   "id": "a15b6027-11e1-4da5-bfa4-a0d5a949b58e",
   "metadata": {
    "tags": []
   },
   "source": [
    "### Retrieve Image and Convert to Data\n",
    "\n",
    "The next step is to process the image into a numpy array that the model is trained to detect from.\n",
    "\n",
    "We start by retrieving all the patch images from a recorded time series tiff recorded on one of our microscopes."
   ]
  },
  {
   "cell_type": "code",
   "execution_count": 8,
   "id": "907f5885-1fb0-4c35-83b4-002056db30f9",
   "metadata": {},
   "outputs": [],
   "source": [
    "sample_mitochondria_patches_path = \"./patches/ms-01-atl-3-22-23_9-50\"\n",
    "\n",
    "patches = tiff_utils.get_all_patches(sample_mitochondria_patches_path)"
   ]
  },
  {
   "attachments": {},
   "cell_type": "markdown",
   "id": "3e083eb4-86f0-4214-b6ed-aee60be441af",
   "metadata": {},
   "source": [
    "Randomly we will retrieve a 256x256 patch image and use it to do our semantic segmentation prediction.\n",
    "\n",
    "We'll then convert it into a numpy array and insert into a DataFrame for a single inference.\n",
    "\n",
    "The following helper function `loadImageAndConvertTiff` is used to convert the image into a numpy, then insert that into the DataFrame.  This allows a later command to take the randomly grabbed image perform the process on other images."
   ]
  },
  {
   "cell_type": "code",
   "execution_count": 9,
   "id": "20ab8363",
   "metadata": {},
   "outputs": [],
   "source": [
    "def loadImageAndConvertTiff(imagePath, width, height):\n",
    "    img = cv2.imread(imagePath, 0)\n",
    "    imgNorm = np.expand_dims(normalize(np.array(img), axis=1),2)\n",
    "    imgNorm=imgNorm[:,:,0][:,:,None]\n",
    "    imgNorm=np.expand_dims(imgNorm, 0)\n",
    "    \n",
    "    resizedImage = None\n",
    "    #creates a dictionary with the wallaroo \"tensor\" key and the numpy ndim array representing image as the value.\n",
    "    dictData = {\"tensor\":[imgNorm]}\n",
    "    dataframedata = pd.DataFrame(dictData)\n",
    "    # display(dataframedata)\n",
    "    return dataframedata, resizedImage"
   ]
  },
  {
   "cell_type": "code",
   "execution_count": 12,
   "id": "6f7a53c3",
   "metadata": {},
   "outputs": [],
   "source": [
    "def run_semantic_segmentation_inference(pipeline, input_tiff_image, width, height, threshold):\n",
    "    \n",
    "    tensor, resizedImage = loadImageAndConvertTiff(input_tiff_image, width, height)\n",
    "    print(tensor)\n",
    "\n",
    "    # #\n",
    "    # # run inference on the 256x256 patch image get the predicted mitochondria mask\n",
    "    # #\n",
    "    output = pipeline.infer(tensor)\n",
    "    # print(output)\n",
    "\n",
    "    # # Obtain the flattened predicted mitochondria mask result\n",
    "    list1d = output.loc[0][\"out.conv2d_37\"]\n",
    "    np1d = np.array(list1d)\n",
    "    \n",
    "    # # unflatten it\n",
    "    predicted_mask = np1d.reshape(1,width,height,1)\n",
    "    \n",
    "    # # perform the element-wise comparison operation using the threshold provided\n",
    "    predicted_mask = (predicted_mask[0,:,:,0] > threshold).astype(np.uint8)\n",
    "    \n",
    "    # return predicted_mask\n",
    "    return predicted_mask"
   ]
  },
  {
   "attachments": {},
   "cell_type": "markdown",
   "id": "75661e7f",
   "metadata": {},
   "source": [
    "### Infer and Display Results\n",
    "\n",
    "We will now perform our inferences and display the results.  This results in a predicted mask showing us where the mitochondria cells are located.\n",
    "\n",
    "1. The first image is the input image.\n",
    "1. The 2nd image is the ground truth. The mask was created by a human who identified the mitochondria cells in the input image\n",
    "1. The 3rd image is the predicted mask after running inference on the Wallaroo pipeline.\n",
    "\n",
    "We'll perform this 10 times to show how quickly the inferences can be submitted."
   ]
  },
  {
   "cell_type": "code",
   "execution_count": 13,
   "id": "e8b9669e-34ac-4f70-86fb-ef5e9cfed4d4",
   "metadata": {},
   "outputs": [
    {
     "name": "stdout",
     "output_type": "stream",
     "text": [
      "                                              tensor\n",
      "0  [[[[0.04807142], [0.05240217], [0.05066987], [...\n"
     ]
    },
    {
     "ename": "InferenceError",
     "evalue": "Inference failed: {\"status\":\"Error\",\"error\":\"Error running inference: \\\"Error getting tensor from inference data\\\"\"}",
     "output_type": "error",
     "traceback": [
      "\u001b[0;31m---------------------------------------------------------------------------\u001b[0m",
      "\u001b[0;31mHTTPError\u001b[0m                                 Traceback (most recent call last)",
      "\u001b[0;32m~/.virtualenvs/wallaroosdk2024.2/lib/python3.8/site-packages/wallaroo/deployment.py\u001b[0m in \u001b[0;36m_make_infer_request\u001b[0;34m(self, data, headers, params, timeout)\u001b[0m\n\u001b[1;32m    632\u001b[0m             )\n\u001b[0;32m--> 633\u001b[0;31m             \u001b[0mres\u001b[0m\u001b[0;34m.\u001b[0m\u001b[0mraise_for_status\u001b[0m\u001b[0;34m(\u001b[0m\u001b[0;34m)\u001b[0m\u001b[0;34m\u001b[0m\u001b[0;34m\u001b[0m\u001b[0m\n\u001b[0m\u001b[1;32m    634\u001b[0m         \u001b[0;32mexcept\u001b[0m \u001b[0mrequests\u001b[0m\u001b[0;34m.\u001b[0m\u001b[0mexceptions\u001b[0m\u001b[0;34m.\u001b[0m\u001b[0mHTTPError\u001b[0m \u001b[0;32mas\u001b[0m \u001b[0mhttp_error\u001b[0m\u001b[0;34m:\u001b[0m\u001b[0;34m\u001b[0m\u001b[0;34m\u001b[0m\u001b[0m\n",
      "\u001b[0;32m~/.virtualenvs/wallaroosdk2024.2/lib/python3.8/site-packages/requests/models.py\u001b[0m in \u001b[0;36mraise_for_status\u001b[0;34m(self)\u001b[0m\n\u001b[1;32m    942\u001b[0m         \u001b[0;32mif\u001b[0m \u001b[0mhttp_error_msg\u001b[0m\u001b[0;34m:\u001b[0m\u001b[0;34m\u001b[0m\u001b[0;34m\u001b[0m\u001b[0m\n\u001b[0;32m--> 943\u001b[0;31m             \u001b[0;32mraise\u001b[0m \u001b[0mHTTPError\u001b[0m\u001b[0;34m(\u001b[0m\u001b[0mhttp_error_msg\u001b[0m\u001b[0;34m,\u001b[0m \u001b[0mresponse\u001b[0m\u001b[0;34m=\u001b[0m\u001b[0mself\u001b[0m\u001b[0;34m)\u001b[0m\u001b[0;34m\u001b[0m\u001b[0;34m\u001b[0m\u001b[0m\n\u001b[0m\u001b[1;32m    944\u001b[0m \u001b[0;34m\u001b[0m\u001b[0m\n",
      "\u001b[0;31mHTTPError\u001b[0m: 500 Server Error: Internal Server Error for url: https://doc-test.wallaroocommunity.ninja/v1/api/pipelines/infer/biolabspipeline-13/biolabspipeline?dataset%5B%5D=%2A&dataset.exclude%5B%5D=metadata&dataset.separator=.",
      "\nDuring handling of the above exception, another exception occurred:\n",
      "\u001b[0;31mInferenceError\u001b[0m                            Traceback (most recent call last)",
      "\u001b[0;32m/var/folders/rs/yt_dh9xn6y39_h0_jth1mjb40000gq/T/ipykernel_65619/3615529291.py\u001b[0m in \u001b[0;36m<module>\u001b[0;34m\u001b[0m\n\u001b[1;32m      7\u001b[0m \u001b[0;34m\u001b[0m\u001b[0m\n\u001b[1;32m      8\u001b[0m     \u001b[0;31m# run inference in order to get the predicted 256x256 mask\u001b[0m\u001b[0;34m\u001b[0m\u001b[0;34m\u001b[0m\u001b[0;34m\u001b[0m\u001b[0m\n\u001b[0;32m----> 9\u001b[0;31m     \u001b[0mpredicted_mask\u001b[0m \u001b[0;34m=\u001b[0m \u001b[0mrun_semantic_segmentation_inference\u001b[0m\u001b[0;34m(\u001b[0m\u001b[0mpipeline\u001b[0m\u001b[0;34m,\u001b[0m \u001b[0mpatch_image_path\u001b[0m\u001b[0;34m,\u001b[0m \u001b[0;36m256\u001b[0m\u001b[0;34m,\u001b[0m\u001b[0;36m256\u001b[0m\u001b[0;34m,\u001b[0m \u001b[0;36m0.2\u001b[0m\u001b[0;34m)\u001b[0m\u001b[0;34m\u001b[0m\u001b[0;34m\u001b[0m\u001b[0m\n\u001b[0m\u001b[1;32m     10\u001b[0m \u001b[0;34m\u001b[0m\u001b[0m\n\u001b[1;32m     11\u001b[0m     \u001b[0;31m# # plot the results\u001b[0m\u001b[0;34m\u001b[0m\u001b[0;34m\u001b[0m\u001b[0;34m\u001b[0m\u001b[0m\n",
      "\u001b[0;32m/var/folders/rs/yt_dh9xn6y39_h0_jth1mjb40000gq/T/ipykernel_65619/3914987179.py\u001b[0m in \u001b[0;36mrun_semantic_segmentation_inference\u001b[0;34m(pipeline, input_tiff_image, width, height, threshold)\u001b[0m\n\u001b[1;32m      7\u001b[0m     \u001b[0;31m# # run inference on the 256x256 patch image get the predicted mitochandria mask\u001b[0m\u001b[0;34m\u001b[0m\u001b[0;34m\u001b[0m\u001b[0;34m\u001b[0m\u001b[0m\n\u001b[1;32m      8\u001b[0m     \u001b[0;31m# #\u001b[0m\u001b[0;34m\u001b[0m\u001b[0;34m\u001b[0m\u001b[0;34m\u001b[0m\u001b[0m\n\u001b[0;32m----> 9\u001b[0;31m     \u001b[0moutput\u001b[0m \u001b[0;34m=\u001b[0m \u001b[0mpipeline\u001b[0m\u001b[0;34m.\u001b[0m\u001b[0minfer\u001b[0m\u001b[0;34m(\u001b[0m\u001b[0mtensor\u001b[0m\u001b[0;34m)\u001b[0m\u001b[0;34m\u001b[0m\u001b[0;34m\u001b[0m\u001b[0m\n\u001b[0m\u001b[1;32m     10\u001b[0m     \u001b[0;31m# print(output)\u001b[0m\u001b[0;34m\u001b[0m\u001b[0;34m\u001b[0m\u001b[0;34m\u001b[0m\u001b[0m\n\u001b[1;32m     11\u001b[0m \u001b[0;34m\u001b[0m\u001b[0m\n",
      "\u001b[0;32m~/.virtualenvs/wallaroosdk2024.2/lib/python3.8/site-packages/wallaroo/pipeline.py\u001b[0m in \u001b[0;36m_inner\u001b[0;34m(self, *args, **kwargs)\u001b[0m\n\u001b[1;32m     62\u001b[0m \u001b[0;32mdef\u001b[0m \u001b[0mupdate_timestamp\u001b[0m\u001b[0;34m(\u001b[0m\u001b[0mf\u001b[0m\u001b[0;34m)\u001b[0m\u001b[0;34m:\u001b[0m\u001b[0;34m\u001b[0m\u001b[0;34m\u001b[0m\u001b[0m\n\u001b[1;32m     63\u001b[0m     \u001b[0;32mdef\u001b[0m \u001b[0m_inner\u001b[0m\u001b[0;34m(\u001b[0m\u001b[0mself\u001b[0m\u001b[0;34m,\u001b[0m \u001b[0;34m*\u001b[0m\u001b[0margs\u001b[0m\u001b[0;34m,\u001b[0m \u001b[0;34m**\u001b[0m\u001b[0mkwargs\u001b[0m\u001b[0;34m)\u001b[0m\u001b[0;34m:\u001b[0m\u001b[0;34m\u001b[0m\u001b[0;34m\u001b[0m\u001b[0m\n\u001b[0;32m---> 64\u001b[0;31m         \u001b[0mresults\u001b[0m \u001b[0;34m=\u001b[0m \u001b[0mf\u001b[0m\u001b[0;34m(\u001b[0m\u001b[0mself\u001b[0m\u001b[0;34m,\u001b[0m \u001b[0;34m*\u001b[0m\u001b[0margs\u001b[0m\u001b[0;34m,\u001b[0m \u001b[0;34m**\u001b[0m\u001b[0mkwargs\u001b[0m\u001b[0;34m)\u001b[0m\u001b[0;34m\u001b[0m\u001b[0;34m\u001b[0m\u001b[0m\n\u001b[0m\u001b[1;32m     65\u001b[0m         \u001b[0;32mif\u001b[0m \u001b[0misinstance\u001b[0m\u001b[0;34m(\u001b[0m\u001b[0mresults\u001b[0m\u001b[0;34m,\u001b[0m \u001b[0mlist\u001b[0m\u001b[0;34m)\u001b[0m\u001b[0;34m:\u001b[0m\u001b[0;34m\u001b[0m\u001b[0;34m\u001b[0m\u001b[0m\n\u001b[1;32m     66\u001b[0m             self._last_infer_time = max(\n",
      "\u001b[0;32m~/.virtualenvs/wallaroosdk2024.2/lib/python3.8/site-packages/wallaroo/pipeline.py\u001b[0m in \u001b[0;36minfer\u001b[0;34m(self, tensor, timeout, dataset, dataset_exclude, dataset_separator)\u001b[0m\n\u001b[1;32m    718\u001b[0m         \u001b[0mdeployment\u001b[0m \u001b[0;34m=\u001b[0m \u001b[0mself\u001b[0m\u001b[0;34m.\u001b[0m\u001b[0m_deployment_for_pipeline\u001b[0m\u001b[0;34m(\u001b[0m\u001b[0;34m)\u001b[0m\u001b[0;34m\u001b[0m\u001b[0;34m\u001b[0m\u001b[0m\n\u001b[1;32m    719\u001b[0m         \u001b[0;32mif\u001b[0m \u001b[0mdeployment\u001b[0m\u001b[0;34m:\u001b[0m\u001b[0;34m\u001b[0m\u001b[0;34m\u001b[0m\u001b[0m\n\u001b[0;32m--> 720\u001b[0;31m             return deployment.infer(\n\u001b[0m\u001b[1;32m    721\u001b[0m                 \u001b[0mtensor\u001b[0m\u001b[0;34m,\u001b[0m \u001b[0mtimeout\u001b[0m\u001b[0;34m,\u001b[0m \u001b[0mdataset\u001b[0m\u001b[0;34m,\u001b[0m \u001b[0mdataset_exclude\u001b[0m\u001b[0;34m,\u001b[0m \u001b[0mdataset_separator\u001b[0m\u001b[0;34m\u001b[0m\u001b[0;34m\u001b[0m\u001b[0m\n\u001b[1;32m    722\u001b[0m             )\n",
      "\u001b[0;32m~/.virtualenvs/wallaroosdk2024.2/lib/python3.8/site-packages/wallaroo/deployment.py\u001b[0m in \u001b[0;36minfer\u001b[0;34m(self, tensor, timeout, dataset, dataset_exclude, dataset_separator)\u001b[0m\n\u001b[1;32m    677\u001b[0m                 )\n\u001b[1;32m    678\u001b[0m             \u001b[0;32mif\u001b[0m \u001b[0misinstance\u001b[0m\u001b[0;34m(\u001b[0m\u001b[0mtensor\u001b[0m\u001b[0;34m,\u001b[0m \u001b[0mpd\u001b[0m\u001b[0;34m.\u001b[0m\u001b[0mDataFrame\u001b[0m\u001b[0;34m)\u001b[0m\u001b[0;34m:\u001b[0m\u001b[0;34m\u001b[0m\u001b[0;34m\u001b[0m\u001b[0m\n\u001b[0;32m--> 679\u001b[0;31m                 \u001b[0;32mreturn\u001b[0m \u001b[0mself\u001b[0m\u001b[0;34m.\u001b[0m\u001b[0m_infer_with_pandas\u001b[0m\u001b[0;34m(\u001b[0m\u001b[0mtensor\u001b[0m\u001b[0;34m,\u001b[0m \u001b[0mparams\u001b[0m\u001b[0;34m,\u001b[0m \u001b[0mtimeout\u001b[0m\u001b[0;34m)\u001b[0m\u001b[0;34m\u001b[0m\u001b[0;34m\u001b[0m\u001b[0m\n\u001b[0m\u001b[1;32m    680\u001b[0m             \u001b[0;32melif\u001b[0m \u001b[0misinstance\u001b[0m\u001b[0;34m(\u001b[0m\u001b[0mtensor\u001b[0m\u001b[0;34m,\u001b[0m \u001b[0mpa\u001b[0m\u001b[0;34m.\u001b[0m\u001b[0mTable\u001b[0m\u001b[0;34m)\u001b[0m\u001b[0;34m:\u001b[0m\u001b[0;34m\u001b[0m\u001b[0;34m\u001b[0m\u001b[0m\n\u001b[1;32m    681\u001b[0m                 \u001b[0;32mreturn\u001b[0m \u001b[0mself\u001b[0m\u001b[0;34m.\u001b[0m\u001b[0m_infer_with_arrow\u001b[0m\u001b[0;34m(\u001b[0m\u001b[0mtensor\u001b[0m\u001b[0;34m,\u001b[0m \u001b[0mparams\u001b[0m\u001b[0;34m,\u001b[0m \u001b[0mtimeout\u001b[0m\u001b[0;34m)\u001b[0m\u001b[0;34m\u001b[0m\u001b[0;34m\u001b[0m\u001b[0m\n",
      "\u001b[0;32m~/.virtualenvs/wallaroosdk2024.2/lib/python3.8/site-packages/wallaroo/deployment.py\u001b[0m in \u001b[0;36m_infer_with_pandas\u001b[0;34m(self, tensor, params, timeout)\u001b[0m\n\u001b[1;32m    528\u001b[0m             \u001b[0;34m\"Content-Type\"\u001b[0m\u001b[0;34m:\u001b[0m \u001b[0mPANDAS_RECORDS_HEADER\u001b[0m\u001b[0;34m,\u001b[0m\u001b[0;34m\u001b[0m\u001b[0;34m\u001b[0m\u001b[0m\n\u001b[1;32m    529\u001b[0m         }\n\u001b[0;32m--> 530\u001b[0;31m         res = self._make_infer_request(\n\u001b[0m\u001b[1;32m    531\u001b[0m             \u001b[0mdata\u001b[0m\u001b[0;34m=\u001b[0m\u001b[0minput_records\u001b[0m\u001b[0;34m,\u001b[0m\u001b[0;34m\u001b[0m\u001b[0;34m\u001b[0m\u001b[0m\n\u001b[1;32m    532\u001b[0m             \u001b[0mheaders\u001b[0m\u001b[0;34m=\u001b[0m\u001b[0mheaders\u001b[0m\u001b[0;34m,\u001b[0m\u001b[0;34m\u001b[0m\u001b[0;34m\u001b[0m\u001b[0m\n",
      "\u001b[0;32m~/.virtualenvs/wallaroosdk2024.2/lib/python3.8/site-packages/wallaroo/deployment.py\u001b[0m in \u001b[0;36m_make_infer_request\u001b[0;34m(self, data, headers, params, timeout)\u001b[0m\n\u001b[1;32m    633\u001b[0m             \u001b[0mres\u001b[0m\u001b[0;34m.\u001b[0m\u001b[0mraise_for_status\u001b[0m\u001b[0;34m(\u001b[0m\u001b[0;34m)\u001b[0m\u001b[0;34m\u001b[0m\u001b[0;34m\u001b[0m\u001b[0m\n\u001b[1;32m    634\u001b[0m         \u001b[0;32mexcept\u001b[0m \u001b[0mrequests\u001b[0m\u001b[0;34m.\u001b[0m\u001b[0mexceptions\u001b[0m\u001b[0;34m.\u001b[0m\u001b[0mHTTPError\u001b[0m \u001b[0;32mas\u001b[0m \u001b[0mhttp_error\u001b[0m\u001b[0;34m:\u001b[0m\u001b[0;34m\u001b[0m\u001b[0;34m\u001b[0m\u001b[0m\n\u001b[0;32m--> 635\u001b[0;31m             \u001b[0;32mraise\u001b[0m \u001b[0mInferenceError\u001b[0m\u001b[0;34m(\u001b[0m\u001b[0mhttp_error\u001b[0m\u001b[0;34m.\u001b[0m\u001b[0mresponse\u001b[0m\u001b[0;34m.\u001b[0m\u001b[0mtext\u001b[0m\u001b[0;34m)\u001b[0m\u001b[0;34m\u001b[0m\u001b[0;34m\u001b[0m\u001b[0m\n\u001b[0m\u001b[1;32m    636\u001b[0m         except (\n\u001b[1;32m    637\u001b[0m             \u001b[0mrequests\u001b[0m\u001b[0;34m.\u001b[0m\u001b[0mexceptions\u001b[0m\u001b[0;34m.\u001b[0m\u001b[0mTimeout\u001b[0m\u001b[0;34m,\u001b[0m\u001b[0;34m\u001b[0m\u001b[0;34m\u001b[0m\u001b[0m\n",
      "\u001b[0;31mInferenceError\u001b[0m: Inference failed: {\"status\":\"Error\",\"error\":\"Error running inference: \\\"Error getting tensor from inference data\\\"\"}"
     ]
    }
   ],
   "source": [
    "for x in range(10):     \n",
    "    # get a sample 256x256 mitochondria image\n",
    "    random_patch = tiff_utils.get_random_patch_sample(patches)\n",
    "\n",
    "    # build the path to the image\n",
    "    patch_image_path = sample_mitochondria_patches_path + \"/images/\" + random_patch['patch_image_file']\n",
    "\n",
    "    # run inference in order to get the predicted 256x256 mask\n",
    "    predicted_mask = run_semantic_segmentation_inference(pipeline, patch_image_path, 256,256, 0.2)\n",
    "\n",
    "    # # plot the results\n",
    "    test_image = random_patch['patch_image'][:,:,0]\n",
    "    test_image_title = f\"Testing Image - {random_patch['index']}\"\n",
    "\n",
    "    ground_truth_image = random_patch['patch_mask'][:,:,0]\n",
    "    ground_truth_image_title = \"Ground Truth Mask\"\n",
    "\n",
    "    predicted_mask_title = 'Predicted Mask'\n",
    "\n",
    "    tiff_utils.plot_test_results(test_image, test_image_title, \\\n",
    "                            ground_truth_image, ground_truth_image_title, \\\n",
    "                            predicted_mask, predicted_mask_title)"
   ]
  },
  {
   "attachments": {},
   "cell_type": "markdown",
   "id": "d6bdfd6b",
   "metadata": {},
   "source": [
    "### Complete Tutorial\n",
    "\n",
    "With the demonstration complete, the pipeline is undeployed and the resources returned back to the Wallaroo instance."
   ]
  },
  {
   "cell_type": "code",
   "execution_count": null,
   "id": "d2b3d311-4661-4dd1-a1a4-b20d44834469",
   "metadata": {
    "tags": []
   },
   "outputs": [
    {
     "data": {
      "text/html": [
       "<table><tr><th>name</th> <td>biolabspipeline</td></tr><tr><th>created</th> <td>2024-04-16 17:45:11.920420+00:00</td></tr><tr><th>last_updated</th> <td>2024-04-16 17:49:35.206242+00:00</td></tr><tr><th>deployed</th> <td>False</td></tr><tr><th>arch</th> <td>x86</td></tr><tr><th>accel</th> <td>none</td></tr><tr><th>tags</th> <td></td></tr><tr><th>versions</th> <td>05c8bd8a-9e9e-4a7d-8b5e-60b90db17f37, c6cbdc9f-89f9-45ec-8c57-b8f53b97afc5, 96936bac-8412-4858-ab31-0dcf9de140cf, a28ee7d0-8067-4762-b030-12c0b566d745, 3d06942d-aaf9-4737-b955-944e7d5ef4ec, a14aa324-f8e7-4245-aba2-e494ce66db5f, 93427c46-e084-4e0e-98a3-01d8f7a12e51, ce375d49-cda7-4a6e-805a-735946d59f52, 9fac21be-a163-478e-a59f-eda0b00dd0c8</td></tr><tr><th>steps</th> <td>biolabsmodel</td></tr><tr><th>published</th> <td>False</td></tr></table>"
      ],
      "text/plain": [
       "{'name': 'biolabspipeline', 'create_time': datetime.datetime(2024, 4, 16, 17, 45, 11, 920420, tzinfo=tzutc()), 'definition': \"[{'ModelInference': {'models': [{'name': 'biolabsmodel', 'version': '25b99b10-fa8d-4865-8223-393d7e5ddd05', 'sha': 'e80fcdaf563a183b0c32c027dcb3890a64e1764d6d7dcd29524cd270dd42e7bd'}]}}]\"}"
      ]
     },
     "execution_count": 21,
     "metadata": {},
     "output_type": "execute_result"
    }
   ],
   "source": [
    "pipeline.undeploy()"
   ]
  }
 ],
 "metadata": {
  "kernelspec": {
   "display_name": "wallaroosdk2024.2",
   "language": "python",
   "name": "python3"
  },
  "language_info": {
   "codemirror_mode": {
    "name": "ipython",
    "version": 3
   },
   "file_extension": ".py",
   "mimetype": "text/x-python",
   "name": "python",
   "nbconvert_exporter": "python",
   "pygments_lexer": "ipython3",
   "version": "3.8.19"
  }
 },
 "nbformat": 4,
 "nbformat_minor": 5
}
