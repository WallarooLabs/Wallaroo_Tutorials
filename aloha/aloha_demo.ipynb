{
 "cells": [
  {
   "cell_type": "markdown",
   "metadata": {},
   "source": [
    "This tutorial and the assets can be downloaded as part of the [Wallaroo Tutorials repository](https://github.com/WallarooLabs/Wallaroo_Tutorials/tree/main/aloha).\n",
    "\n",
    "## Aloha Demo\n",
    "\n",
    "In this notebook we will walk through a simple pipeline deployment to inference on a model. For this example we will be using an open source model that uses an [Aloha CNN LSTM model](https://www.researchgate.net/publication/348920204_Using_Auxiliary_Inputs_in_Deep_Learning_Models_for_Detecting_DGA-based_Domain_Names) for classifying Domain names as being either legitimate or being used for nefarious purposes such as malware distribution.  \n",
    "\n",
    "For our example, we will perform the following:\n",
    "\n",
    "* Create a workspace for our work.\n",
    "* Upload the Aloha model.\n",
    "* Create a pipeline that can ingest our submitted data, submit it to the model, and export the results\n",
    "* Run a sample inference through our pipeline by loading a file\n",
    "* Run a sample inference through our pipeline's URL and store the results in a file.\n",
    "\n",
    "All sample data and models are available through the [Wallaroo Quick Start Guide Samples repository](https://github.com/WallarooLabs/quickstartguide_samples)."
   ]
  },
  {
   "cell_type": "markdown",
   "metadata": {},
   "source": [
    "## Open a Connection to Wallaroo\n",
    "\n",
    "The first step is to connect to Wallaroo through the Wallaroo client.  The Python library is included in the Wallaroo install and available through the Jupyter Hub interface provided with your Wallaroo environment.\n",
    "\n",
    "This is accomplished using the `wallaroo.Client()` command, which provides a URL to grant the SDK permission to your specific Wallaroo environment.  When displayed, enter the URL into a browser and confirm permissions.  Store the connection into a variable that can be referenced later."
   ]
  },
  {
   "cell_type": "code",
   "execution_count": 1,
   "metadata": {},
   "outputs": [
    {
     "name": "stdout",
     "output_type": "stream",
     "text": [
      "3.8.11\n"
     ]
    }
   ],
   "source": [
    "from platform import python_version\n",
    "\n",
    "print(python_version())"
   ]
  },
  {
   "cell_type": "code",
   "execution_count": 2,
   "metadata": {},
   "outputs": [],
   "source": [
    "import wallaroo\n",
    "from wallaroo.object import EntityNotFoundError"
   ]
  },
  {
   "cell_type": "code",
   "execution_count": 3,
   "metadata": {},
   "outputs": [],
   "source": [
    "# Client connection from local Wallaroo instance\n",
    "\n",
    "# wl = wallaroo.Client()\n",
    "\n",
    "# SSO login through keycloak\n",
    "\n",
    "wallarooPrefix = \"YOUR PREFIX\"\n",
    "wallarooSuffix = \"YOUR SUFFIX\"\n",
    "\n",
    "wl = wallaroo.Client(api_endpoint=f\"https://{wallarooPrefix}.api.{wallarooSuffix}\", \n",
    "                    auth_endpoint=f\"https://{wallarooPrefix}.keycloak.{wallarooSuffix}\", \n",
    "                    auth_type=\"sso\")"
   ]
  },
  {
   "cell_type": "markdown",
   "metadata": {},
   "source": [
    "## Create the Workspace\n",
    "\n",
    "We will create a workspace to work in and call it the \"alohaworkspace\", then set it as current workspace environment.  We'll also create our pipeline in advance as `alohapipeline`."
   ]
  },
  {
   "cell_type": "code",
   "execution_count": 4,
   "metadata": {},
   "outputs": [],
   "source": [
    "workspace_name = 'alohaworkspace-regression'\n",
    "pipeline_name = 'alohapipeline-regression'\n",
    "model_name = 'alohamodel-regression'\n",
    "model_file_name = './aloha-cnn-lstm.zip'"
   ]
  },
  {
   "cell_type": "code",
   "execution_count": 5,
   "metadata": {},
   "outputs": [],
   "source": [
    "def get_workspace(name):\n",
    "    workspace = None\n",
    "    for ws in wl.list_workspaces():\n",
    "        if ws.name() == name:\n",
    "            workspace= ws\n",
    "    if(workspace == None):\n",
    "        workspace = wl.create_workspace(name)\n",
    "    return workspace\n",
    "\n",
    "def get_pipeline(name):\n",
    "    try:\n",
    "        pipeline = wl.pipelines_by_name(pipeline_name)[0]\n",
    "    except EntityNotFoundError:\n",
    "        pipeline = wl.build_pipeline(pipeline_name)\n",
    "    return pipeline"
   ]
  },
  {
   "cell_type": "code",
   "execution_count": 6,
   "metadata": {},
   "outputs": [
    {
     "data": {
      "text/html": [
       "<table><tr><th>name</th> <td>alohapipeline-regression</td></tr><tr><th>created</th> <td>2022-12-14 20:03:19.667842+00:00</td></tr><tr><th>last_updated</th> <td>2022-12-14 20:39:39.461307+00:00</td></tr><tr><th>deployed</th> <td>False</td></tr><tr><th>tags</th> <td></td></tr><tr><th>versions</th> <td>e9516442-3eec-464b-9b77-d773a55861b3, 2aae2bc8-a274-4cd0-b6c1-148e3007223b, fb55aa25-d0f3-4520-92b1-40c054e85e05, 0a06ed9d-5201-452f-895d-8e86e3e6c0cc, ccfff584-a0f8-4091-9d3e-e0d429b34682, 8bfdc3a5-2e67-4e01-b412-262b7a39f09f, 0a3d5233-c5e7-48aa-bc34-6fe69bc588b0, b7f1efeb-2755-41fb-90cd-c01a70b68d74</td></tr><tr><th>steps</th> <td>alohamodel-regression</td></tr></table>"
      ],
      "text/plain": [
       "{'name': 'alohapipeline-regression', 'create_time': datetime.datetime(2022, 12, 14, 20, 3, 19, 667842, tzinfo=tzutc()), 'definition': '[]'}"
      ]
     },
     "execution_count": 6,
     "metadata": {},
     "output_type": "execute_result"
    }
   ],
   "source": [
    "workspace = get_workspace(workspace_name)\n",
    "\n",
    "wl.set_current_workspace(workspace)\n",
    "\n",
    "aloha_pipeline = get_pipeline(pipeline_name)\n",
    "aloha_pipeline"
   ]
  },
  {
   "cell_type": "markdown",
   "metadata": {},
   "source": [
    "We can verify the workspace is created the current default workspace with the `get_current_workspace()` command."
   ]
  },
  {
   "cell_type": "code",
   "execution_count": 7,
   "metadata": {},
   "outputs": [
    {
     "data": {
      "text/plain": [
       "{'name': 'alohaworkspace-regression', 'id': 5, 'archived': False, 'created_by': 'f1f32bdf-9bd9-4595-a531-aca5778ceaf0', 'created_at': '2022-12-14T20:03:18.629642+00:00', 'models': [{'name': 'alohamodel-regression', 'versions': 5, 'owner_id': '\"\"', 'last_update_time': datetime.datetime(2022, 12, 14, 20, 36, 22, 35356, tzinfo=tzutc()), 'created_at': datetime.datetime(2022, 12, 14, 20, 3, 22, 914422, tzinfo=tzutc())}], 'pipelines': [{'name': 'alohapipeline-regression', 'create_time': datetime.datetime(2022, 12, 14, 20, 3, 19, 667842, tzinfo=tzutc()), 'definition': '[]'}]}"
      ]
     },
     "execution_count": 7,
     "metadata": {},
     "output_type": "execute_result"
    }
   ],
   "source": [
    "wl.get_current_workspace()"
   ]
  },
  {
   "cell_type": "markdown",
   "metadata": {},
   "source": [
    "# Upload the Models\n",
    "\n",
    "Now we will upload our models.  Note that for this example we are applying the model from a .ZIP file.  The Aloha model is a [protobuf](https://developers.google.com/protocol-buffers) file that has been defined for evaluating web pages, and we will configure it to use data in the `tensorflow` format."
   ]
  },
  {
   "cell_type": "code",
   "execution_count": 8,
   "metadata": {},
   "outputs": [],
   "source": [
    "model = wl.upload_model(model_name, model_file_name).configure(\"tensorflow\")"
   ]
  },
  {
   "cell_type": "markdown",
   "metadata": {},
   "source": [
    "## Deploy a model\n",
    "Now that we have a model that we want to use we will create a deployment for it. \n",
    "\n",
    "We will tell the deployment we are using a tensorflow model and give the deployment name and the configuration we want for the deployment.\n",
    "\n",
    "To do this, we'll create our pipeline that can ingest the data, pass the data to our Aloha model, and give us a final output.  We'll call our pipeline `aloha-test-demo`, then deploy it so it's ready to receive data.  The deployment process usually takes about 45 seconds.\n",
    "\n",
    "* **Note**:  If you receive an error that the pipeline could not be deployed because there are not enough resources, undeploy any other pipelines and deploy this one again.  This command can quickly undeploy all pipelines to regain resources.  We recommend **not** running this command in a production environment since it will cancel any running pipelines:\n",
    "\n",
    "```python\n",
    "for p in wl.list_pipelines(): p.undeploy()\n",
    "```"
   ]
  },
  {
   "cell_type": "code",
   "execution_count": 9,
   "metadata": {},
   "outputs": [
    {
     "data": {
      "text/html": [
       "<table><tr><th>name</th> <td>alohapipeline-regression</td></tr><tr><th>created</th> <td>2022-12-14 20:03:19.667842+00:00</td></tr><tr><th>last_updated</th> <td>2022-12-14 20:39:39.461307+00:00</td></tr><tr><th>deployed</th> <td>False</td></tr><tr><th>tags</th> <td></td></tr><tr><th>versions</th> <td>e9516442-3eec-464b-9b77-d773a55861b3, 2aae2bc8-a274-4cd0-b6c1-148e3007223b, fb55aa25-d0f3-4520-92b1-40c054e85e05, 0a06ed9d-5201-452f-895d-8e86e3e6c0cc, ccfff584-a0f8-4091-9d3e-e0d429b34682, 8bfdc3a5-2e67-4e01-b412-262b7a39f09f, 0a3d5233-c5e7-48aa-bc34-6fe69bc588b0, b7f1efeb-2755-41fb-90cd-c01a70b68d74</td></tr><tr><th>steps</th> <td>alohamodel-regression</td></tr></table>"
      ],
      "text/plain": [
       "{'name': 'alohapipeline-regression', 'create_time': datetime.datetime(2022, 12, 14, 20, 3, 19, 667842, tzinfo=tzutc()), 'definition': \"[{'ModelInference': {'models': [{'name': 'alohamodel-regression', 'version': '590c7724-f43a-4813-a530-e39549b90dad', 'sha': '7c89707252ce389980d5348c37885d6d72af4c20cd303422e2de7e66dd7ff184'}]}}]\"}"
      ]
     },
     "execution_count": 9,
     "metadata": {},
     "output_type": "execute_result"
    }
   ],
   "source": [
    "aloha_pipeline.add_model_step(model)"
   ]
  },
  {
   "cell_type": "code",
   "execution_count": 14,
   "metadata": {},
   "outputs": [
    {
     "data": {
      "text/html": [
       "<table><tr><th>name</th> <td>alohapipeline-regression</td></tr><tr><th>created</th> <td>2022-12-14 20:03:19.667842+00:00</td></tr><tr><th>last_updated</th> <td>2022-12-14 20:48:15.168321+00:00</td></tr><tr><th>deployed</th> <td>True</td></tr><tr><th>tags</th> <td></td></tr><tr><th>versions</th> <td>00e1f944-f780-4185-86e9-0e65ca33fdac, 5e699f22-4a9a-47e0-892c-6855baa5b9ba, e9516442-3eec-464b-9b77-d773a55861b3, 2aae2bc8-a274-4cd0-b6c1-148e3007223b, fb55aa25-d0f3-4520-92b1-40c054e85e05, 0a06ed9d-5201-452f-895d-8e86e3e6c0cc, ccfff584-a0f8-4091-9d3e-e0d429b34682, 8bfdc3a5-2e67-4e01-b412-262b7a39f09f, 0a3d5233-c5e7-48aa-bc34-6fe69bc588b0, b7f1efeb-2755-41fb-90cd-c01a70b68d74</td></tr><tr><th>steps</th> <td>alohamodel-regression</td></tr></table>"
      ],
      "text/plain": [
       "{'name': 'alohapipeline-regression', 'create_time': datetime.datetime(2022, 12, 14, 20, 3, 19, 667842, tzinfo=tzutc()), 'definition': \"[{'ModelInference': {'models': [{'name': 'alohamodel-regression', 'version': '590c7724-f43a-4813-a530-e39549b90dad', 'sha': '7c89707252ce389980d5348c37885d6d72af4c20cd303422e2de7e66dd7ff184'}]}}]\"}"
      ]
     },
     "execution_count": 14,
     "metadata": {},
     "output_type": "execute_result"
    }
   ],
   "source": [
    "aloha_pipeline.deploy()"
   ]
  },
  {
   "cell_type": "markdown",
   "metadata": {},
   "source": [
    "We can verify that the pipeline is running and list what models are associated with it."
   ]
  },
  {
   "cell_type": "code",
   "execution_count": 15,
   "metadata": {},
   "outputs": [
    {
     "data": {
      "text/plain": [
       "{'status': 'Running',\n",
       " 'details': [],\n",
       " 'engines': [{'ip': '10.244.5.25',\n",
       "   'name': 'engine-85cf5d8f64-j6pg7',\n",
       "   'status': 'Running',\n",
       "   'reason': None,\n",
       "   'details': [],\n",
       "   'pipeline_statuses': {'pipelines': [{'id': 'alohapipeline-regression',\n",
       "      'status': 'Running'}]},\n",
       "   'model_statuses': {'models': [{'name': 'alohamodel-regression',\n",
       "      'version': '590c7724-f43a-4813-a530-e39549b90dad',\n",
       "      'sha': '7c89707252ce389980d5348c37885d6d72af4c20cd303422e2de7e66dd7ff184',\n",
       "      'status': 'Running'}]}}],\n",
       " 'engine_lbs': [{'ip': '10.244.5.26',\n",
       "   'name': 'engine-lb-c6485cfd5-42rw9',\n",
       "   'status': 'Running',\n",
       "   'reason': None,\n",
       "   'details': []}],\n",
       " 'sidekicks': []}"
      ]
     },
     "execution_count": 15,
     "metadata": {},
     "output_type": "execute_result"
    }
   ],
   "source": [
    "aloha_pipeline.status()"
   ]
  },
  {
   "cell_type": "markdown",
   "metadata": {},
   "source": [
    "## Interferences\n",
    "\n",
    "### Infer 1 row\n",
    "\n",
    "Now that the pipeline is deployed and our Aloha model is in place, we'll perform a smoke test to verify the pipeline is up and running properly.  We'll use the `infer_from_file` command to load a single encoded URL into the inference engine and print the results back out.\n",
    "\n",
    "The result should tell us that the tokenized URL is legitimate (0) or fraud (1).  This sample data should return close to 0."
   ]
  },
  {
   "cell_type": "code",
   "execution_count": 16,
   "metadata": {},
   "outputs": [
    {
     "data": {
      "text/plain": [
       "[InferenceResult({'check_failures': [],\n",
       "  'elapsed': 221234512,\n",
       "  'model_name': 'alohamodel-regression',\n",
       "  'model_version': '590c7724-f43a-4813-a530-e39549b90dad',\n",
       "  'original_data': {'text_input': [[0,\n",
       "                                    0,\n",
       "                                    0,\n",
       "                                    0,\n",
       "                                    0,\n",
       "                                    0,\n",
       "                                    0,\n",
       "                                    0,\n",
       "                                    0,\n",
       "                                    0,\n",
       "                                    0,\n",
       "                                    0,\n",
       "                                    0,\n",
       "                                    0,\n",
       "                                    0,\n",
       "                                    0,\n",
       "                                    0,\n",
       "                                    0,\n",
       "                                    0,\n",
       "                                    0,\n",
       "                                    0,\n",
       "                                    0,\n",
       "                                    0,\n",
       "                                    0,\n",
       "                                    0,\n",
       "                                    0,\n",
       "                                    0,\n",
       "                                    0,\n",
       "                                    0,\n",
       "                                    0,\n",
       "                                    0,\n",
       "                                    0,\n",
       "                                    0,\n",
       "                                    0,\n",
       "                                    0,\n",
       "                                    0,\n",
       "                                    0,\n",
       "                                    0,\n",
       "                                    0,\n",
       "                                    0,\n",
       "                                    28,\n",
       "                                    16,\n",
       "                                    32,\n",
       "                                    23,\n",
       "                                    29,\n",
       "                                    32,\n",
       "                                    30,\n",
       "                                    19,\n",
       "                                    26,\n",
       "                                    17]]},\n",
       "  'outputs': [{'Float': {'data': [0.0015195857267826796],\n",
       "                         'dim': [1, 1],\n",
       "                         'dtype': 'Float',\n",
       "                         'v': 1}},\n",
       "              {'Float': {'data': [0.9829148054122925],\n",
       "                         'dim': [1, 1],\n",
       "                         'dtype': 'Float',\n",
       "                         'v': 1}},\n",
       "              {'Float': {'data': [0.012099565006792545],\n",
       "                         'dim': [1, 1],\n",
       "                         'dtype': 'Float',\n",
       "                         'v': 1}},\n",
       "              {'Float': {'data': [4.759129660669714e-05],\n",
       "                         'dim': [1, 1],\n",
       "                         'dtype': 'Float',\n",
       "                         'v': 1}},\n",
       "              {'Float': {'data': [2.0289371605031192e-05],\n",
       "                         'dim': [1, 1],\n",
       "                         'dtype': 'Float',\n",
       "                         'v': 1}},\n",
       "              {'Float': {'data': [0.0003197726036887616],\n",
       "                         'dim': [1, 1],\n",
       "                         'dtype': 'Float',\n",
       "                         'v': 1}},\n",
       "              {'Float': {'data': [0.011029282584786415],\n",
       "                         'dim': [1, 1],\n",
       "                         'dtype': 'Float',\n",
       "                         'v': 1}},\n",
       "              {'Float': {'data': [0.9975640177726746],\n",
       "                         'dim': [1, 1],\n",
       "                         'dtype': 'Float',\n",
       "                         'v': 1}},\n",
       "              {'Float': {'data': [0.010341615416109562],\n",
       "                         'dim': [1, 1],\n",
       "                         'dtype': 'Float',\n",
       "                         'v': 1}},\n",
       "              {'Float': {'data': [0.008038961328566074],\n",
       "                         'dim': [1, 1],\n",
       "                         'dtype': 'Float',\n",
       "                         'v': 1}},\n",
       "              {'Float': {'data': [0.0161550622433424],\n",
       "                         'dim': [1, 1],\n",
       "                         'dtype': 'Float',\n",
       "                         'v': 1}},\n",
       "              {'Float': {'data': [0.006236232817173004],\n",
       "                         'dim': [1, 1],\n",
       "                         'dtype': 'Float',\n",
       "                         'v': 1}},\n",
       "              {'Float': {'data': [0.0009985751239582896],\n",
       "                         'dim': [1, 1],\n",
       "                         'dtype': 'Float',\n",
       "                         'v': 1}},\n",
       "              {'Float': {'data': [1.7933780470763777e-26],\n",
       "                         'dim': [1, 1],\n",
       "                         'dtype': 'Float',\n",
       "                         'v': 1}},\n",
       "              {'Float': {'data': [1.3889951203666574e-27],\n",
       "                         'dim': [1, 1],\n",
       "                         'dtype': 'Float',\n",
       "                         'v': 1}}],\n",
       "  'pipeline_name': 'alohapipeline-regression',\n",
       "  'shadow_data': {},\n",
       "  'time': 1671050977627})]"
      ]
     },
     "execution_count": 16,
     "metadata": {},
     "output_type": "execute_result"
    }
   ],
   "source": [
    "aloha_pipeline.infer_from_file(\"./data-1.json\")"
   ]
  },
  {
   "cell_type": "markdown",
   "metadata": {},
   "source": [
    "### Batch Inference\n",
    "\n",
    "Now that our smoke test is successful, let's really give it some data.  We have two inference files we can use:\n",
    "\n",
    "* `data-1k.json`:  Contains 1,0000 inferences\n",
    "* `data-25k.json`: Contains 25,000 inferences\n",
    "\n",
    "We'll pipe the `data-25k.json` file through the `aloha_pipeline` deployment URL, and place the results in a file named `response.txt`.  We'll also display the time this takes.  Note that for larger batches of 50,000 inferences or more can be difficult to view in Juypter Hub because of its size.\n",
    "\n",
    "When running this example, replace the URL from the `_deployment._url()` command into the `curl` command below."
   ]
  },
  {
   "cell_type": "code",
   "execution_count": 17,
   "metadata": {},
   "outputs": [],
   "source": [
    "inference_url = aloha_pipeline._deployment._url()"
   ]
  },
  {
   "cell_type": "code",
   "execution_count": 18,
   "metadata": {},
   "outputs": [
    {
     "data": {
      "text/plain": [
       "'eyJhbGciOiJSUzI1NiIsInR5cCIgOiAiSldUIiwia2lkIiA6ICJnTHBSY1B6QkhjQ1k1RTFHTVZoTlQtelI0VDY2YUM0QWh2eXVORmpVOTBjIn0.eyJleHAiOjE2NzEwNTEwMzUsImlhdCI6MTY3MTA1MDk3NSwiYXV0aF90aW1lIjoxNjcxMDQ1NTUwLCJqdGkiOiJjYTdkNmE1Ny0xM2NkLTRmY2MtYTRiMi0wYmFhMDliYzIyYmYiLCJpc3MiOiJodHRwczovL21hZ2ljYWwtYmVhci0zNzgyLmtleWNsb2FrLndhbGxhcm9vLmNvbW11bml0eS9hdXRoL3JlYWxtcy9tYXN0ZXIiLCJhdWQiOlsibWFzdGVyLXJlYWxtIiwiYWNjb3VudCJdLCJzdWIiOiJmMWYzMmJkZi05YmQ5LTQ1OTUtYTUzMS1hY2E1Nzc4Y2VhZjAiLCJ0eXAiOiJCZWFyZXIiLCJhenAiOiJzZGstY2xpZW50Iiwic2Vzc2lvbl9zdGF0ZSI6IjBkZWQ0NzY1LTk2ZjAtNDhhYi05YjkyLTJjMDkyNDBhOTAzMyIsImFjciI6IjEiLCJyZWFsbV9hY2Nlc3MiOnsicm9sZXMiOlsiY3JlYXRlLXJlYWxtIiwiZGVmYXVsdC1yb2xlcy1tYXN0ZXIiLCJvZmZsaW5lX2FjY2VzcyIsImFkbWluIiwidW1hX2F1dGhvcml6YXRpb24iXX0sInJlc291cmNlX2FjY2VzcyI6eyJtYXN0ZXItcmVhbG0iOnsicm9sZXMiOlsidmlldy1pZGVudGl0eS1wcm92aWRlcnMiLCJ2aWV3LXJlYWxtIiwibWFuYWdlLWlkZW50aXR5LXByb3ZpZGVycyIsImltcGVyc29uYXRpb24iLCJjcmVhdGUtY2xpZW50IiwibWFuYWdlLXVzZXJzIiwicXVlcnktcmVhbG1zIiwidmlldy1hdXRob3JpemF0aW9uIiwicXVlcnktY2xpZW50cyIsInF1ZXJ5LXVzZXJzIiwibWFuYWdlLWV2ZW50cyIsIm1hbmFnZS1yZWFsbSIsInZpZXctZXZlbnRzIiwidmlldy11c2VycyIsInZpZXctY2xpZW50cyIsIm1hbmFnZS1hdXRob3JpemF0aW9uIiwibWFuYWdlLWNsaWVudHMiLCJxdWVyeS1ncm91cHMiXX0sImFjY291bnQiOnsicm9sZXMiOlsibWFuYWdlLWFjY291bnQiLCJtYW5hZ2UtYWNjb3VudC1saW5rcyIsInZpZXctcHJvZmlsZSJdfX0sInNjb3BlIjoiZW1haWwgcHJvZmlsZSIsInNpZCI6IjBkZWQ0NzY1LTk2ZjAtNDhhYi05YjkyLTJjMDkyNDBhOTAzMyIsImVtYWlsX3ZlcmlmaWVkIjp0cnVlLCJodHRwczovL2hhc3VyYS5pby9qd3QvY2xhaW1zIjp7IngtaGFzdXJhLXVzZXItaWQiOiJmMWYzMmJkZi05YmQ5LTQ1OTUtYTUzMS1hY2E1Nzc4Y2VhZjAiLCJ4LWhhc3VyYS1kZWZhdWx0LXJvbGUiOiJ1c2VyIiwieC1oYXN1cmEtYWxsb3dlZC1yb2xlcyI6WyJ1c2VyIl0sIngtaGFzdXJhLXVzZXItZ3JvdXBzIjoie30ifSwicHJlZmVycmVkX3VzZXJuYW1lIjoiam9obi5oYW5zYXJpY2tAd2FsbGFyb28uYWkiLCJlbWFpbCI6ImpvaG4uaGFuc2FyaWNrQHdhbGxhcm9vLmFpIn0.K9FvEXdkNbcV74EXE2zXp-YthjgR34SrmwvdQGtRhx1TF7qcQW02b6-Dtzg3hxLA0u4mvsBK3TKxZbVUZzqKh6cTbq_qnE5JdUo7BFzomfxGkpCIc38yoQUF4G2UPhJe4W9hhCDDdFmtuN0ygga2bB-zpuWcSq0BHB0_pBjQ5VuCUBtbnGX4jYXJg0eGDTeD1TEcJSm-jeYHKcPKHBQ4dNZE6WjSjLBn0EIzqCELF6cEAjFFRxVT0y7j5ubuGqvp4feccB7H460waO_Zf-GQI6oGlui9pi6tOAxEeypocYs-QQnqtKhDgnQ7ROchQNHtsCzd8cQ8ivtgau6mEhkntg'"
      ]
     },
     "execution_count": 18,
     "metadata": {},
     "output_type": "execute_result"
    }
   ],
   "source": [
    "connection =wl.mlops().__dict__\n",
    "token = connection['token']\n",
    "token\n"
   ]
  },
  {
   "cell_type": "code",
   "execution_count": 19,
   "metadata": {},
   "outputs": [
    {
     "name": "stdout",
     "output_type": "stream",
     "text": [
      "  % Total    % Received % Xferd  Average Speed   Time    Time     Time  Current\n",
      "                                 Dload  Upload   Total   Spent    Left  Speed\n",
      "  4 2886k    0     0    4  128k      0   465k  0:00:06 --:--:--  0:00:06  468k\n"
     ]
    }
   ],
   "source": [
    "!curl -X POST {inference_url} -H \"Content-Type:application/json\" -H \"Authorization: Bearer {token}\" -H \"Content-Type:application/json\" --data @data-25k.json > curl_response.txt"
   ]
  },
  {
   "cell_type": "markdown",
   "metadata": {},
   "source": [
    "## Undeploy Pipeline\n",
    "\n",
    "When finished with our tests, we will undeploy the pipeline so we have the Kubernetes resources back for other tasks.  Note that if the deployment variable is unchanged aloha_pipeline.deploy() will restart the inference engine in the same configuration as before."
   ]
  },
  {
   "cell_type": "code",
   "execution_count": 20,
   "metadata": {},
   "outputs": [
    {
     "data": {
      "text/html": [
       "<table><tr><th>name</th> <td>alohapipeline-regression</td></tr><tr><th>created</th> <td>2022-12-14 20:03:19.667842+00:00</td></tr><tr><th>last_updated</th> <td>2022-12-14 20:48:15.168321+00:00</td></tr><tr><th>deployed</th> <td>False</td></tr><tr><th>tags</th> <td></td></tr><tr><th>versions</th> <td>00e1f944-f780-4185-86e9-0e65ca33fdac, 5e699f22-4a9a-47e0-892c-6855baa5b9ba, e9516442-3eec-464b-9b77-d773a55861b3, 2aae2bc8-a274-4cd0-b6c1-148e3007223b, fb55aa25-d0f3-4520-92b1-40c054e85e05, 0a06ed9d-5201-452f-895d-8e86e3e6c0cc, ccfff584-a0f8-4091-9d3e-e0d429b34682, 8bfdc3a5-2e67-4e01-b412-262b7a39f09f, 0a3d5233-c5e7-48aa-bc34-6fe69bc588b0, b7f1efeb-2755-41fb-90cd-c01a70b68d74</td></tr><tr><th>steps</th> <td>alohamodel-regression</td></tr></table>"
      ],
      "text/plain": [
       "{'name': 'alohapipeline-regression', 'create_time': datetime.datetime(2022, 12, 14, 20, 3, 19, 667842, tzinfo=tzutc()), 'definition': \"[{'ModelInference': {'models': [{'name': 'alohamodel-regression', 'version': '590c7724-f43a-4813-a530-e39549b90dad', 'sha': '7c89707252ce389980d5348c37885d6d72af4c20cd303422e2de7e66dd7ff184'}]}}]\"}"
      ]
     },
     "execution_count": 20,
     "metadata": {},
     "output_type": "execute_result"
    }
   ],
   "source": [
    "aloha_pipeline.undeploy()"
   ]
  },
  {
   "cell_type": "code",
   "execution_count": null,
   "metadata": {},
   "outputs": [],
   "source": []
  }
 ],
 "metadata": {
  "kernelspec": {
   "display_name": "Python 3",
   "language": "python",
   "name": "python3"
  },
  "language_info": {
   "codemirror_mode": {
    "name": "ipython",
    "version": 3
   },
   "file_extension": ".py",
   "mimetype": "text/x-python",
   "name": "python",
   "nbconvert_exporter": "python",
   "pygments_lexer": "ipython3",
   "version": "3.10.8 (main, Oct 13 2022, 09:48:40) [Clang 14.0.0 (clang-1400.0.29.102)]"
  },
  "vscode": {
   "interpreter": {
    "hash": "b0fa6594d8f4cbf19f97940f81e996739fb7646882a419484c72d19e05852a7e"
   }
  }
 },
 "nbformat": 4,
 "nbformat_minor": 4
}
