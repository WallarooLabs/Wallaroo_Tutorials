{
 "cells": [
  {
   "cell_type": "markdown",
   "id": "54d6daff",
   "metadata": {},
   "source": [
    "This can be downloaded as part of the [Wallaroo Tutorials repository](https://github.com/WallarooLabs/Wallaroo_Tutorials/blob/wallaroo2025.1_tutorials/wallaroo-ml-operations/model-automation/orchestration_sdk_run_continuously_tutorial).\n",
    "\n",
    "## Wallaroo ML Automation Run Continuously Task Tutorial\n",
    "\n",
    "This tutorial provides a tutorial for the Run Continuously Task for ML Orchestrations.\n",
    "\n",
    "## Definitions\n",
    "\n",
    "* **Orchestration**: A set of instructions written as a python script with a requirements library.  Orchestrations are uploaded to the Wallaroo instance as a .zip file.\n",
    "* **Task**: An implementation of an orchestration.  Tasks are run either once when requested, on a repeating schedule, or continuously.\n",
    "* **Connection**: Definitions set by MLOps engineers that are used by other Wallaroo users for connection information to a data source.  Usually paired with orchestrations.\n",
    "\n",
    "Tasks are created from an orchestration through the following methods.\n",
    "\n",
    "| Task Type | Orchestration Method | Description |\n",
    "|---|---|---|\n",
    "| [Run Once](#run-task-once) | `run_once` | Create one Task Run and end when the Task Run is finished executing or until the `timeout` for the task is reached . |\n",
    "| [Run Scheduled](#run-task-scheduled) | `run_scheduled` | Based on a schedule, create a new Task Run until the Scheduled Task is terminated.  Repeat every time the schedule pattern is fulfilled (every hour, every Tuesday at 2 PM, etc).  Continue generating new Task Runs until the Run Scheduled Task is terminated. |\n",
    "| [Run Continuously](#run-task-continuously) | `run_continuously` | Generate a Task Run and continue running that task.  These tasks typically have a repeating loop that continues to run until the Run Continuously Task is issued the `kill` command. |\n",
    "\n",
    "\n",
    "## Tutorial Goals\n",
    "\n",
    "The tutorial will demonstrate the following:\n",
    "\n",
    "1. Create a Wallaroo connection to retrieving information from an external source.\n",
    "1. Upload Wallaroo ML Workload Orchestration with a task meant for Run Continuously Tasks.  The instructions are:\n",
    "  1. Deploy a previously defined pipeline.\n",
    "  1. Every 1 minute, download data through the defined connection.  This simulates using a database connection to retrieve the latest data from a data store.\n",
    "  1. Perform an inference with the downloaded data.\n",
    "1. Create a Run Continuously Task and verify that the loop has pulled data and performed the inference request.\n",
    "1. Kill the task and undeploy the pipeline used to end the tutorial.\n"
   ]
  },
  {
   "cell_type": "markdown",
   "id": "67e1bb26",
   "metadata": {},
   "source": [
    "## Prerequisites\n",
    "\n",
    "* An installed Wallaroo instance.\n",
    "* The following Python libraries installed.  These are included by default in a Wallaroo instance's JupyterHub service.\n",
    "  * `os`\n",
    "  * [`wallaroo`](https://pypi.org/project/wallaroo/): The Wallaroo SDK. Included with the Wallaroo JupyterHub service by default.\n",
    "  * [`pandas`](https://pypi.org/project/pandas/): Pandas, mainly used for Pandas DataFrame\n",
    "  * [`pyarrow`](https://pypi.org/project/pyarrow/): PyArrow for Apache Arrow support"
   ]
  },
  {
   "cell_type": "markdown",
   "id": "a2b09330-0408-45eb-b321-b48b65041789",
   "metadata": {},
   "source": [
    "## Orchestration Setup Steps\n",
    "\n",
    "For this tutorial, we'll create a workspace, upload our sample model and deploy a pipeline.  We'll perform some quick sample inferences to verify that everything it working.\n",
    "\n",
    "### Load Libraries\n",
    "\n",
    "Here we'll import the various libraries we'll use for the tutorial."
   ]
  },
  {
   "cell_type": "code",
   "execution_count": 1,
   "id": "43ee5f42",
   "metadata": {},
   "outputs": [],
   "source": [
    "import wallaroo\n",
    "from wallaroo.object import EntityNotFoundError, RequiredAttributeMissing\n",
    "\n",
    "# to display dataframe tables\n",
    "from IPython.display import display\n",
    "# used to display dataframe information without truncating\n",
    "import pandas as pd\n",
    "pd.set_option('display.max_colwidth', None)\n",
    "pd.set_option('display.max_columns', None)\n",
    "import pyarrow as pa\n",
    "\n",
    "import time"
   ]
  },
  {
   "cell_type": "markdown",
   "id": "ae645fd0",
   "metadata": {},
   "source": [
    "### Connect to the Wallaroo Instance\n",
    "\n",
    "The first step is to connect to Wallaroo through the Wallaroo client.  The Python library is included in the Wallaroo install and available through the Jupyter Hub interface provided with your Wallaroo environment.\n",
    "\n",
    "This is accomplished using the `wallaroo.Client()` command, which provides a URL to grant the SDK permission to your specific Wallaroo environment.  When displayed, enter the URL into a browser and confirm permissions.  Store the connection into a variable that can be referenced later.\n",
    "\n",
    "If logging into the Wallaroo instance through the internal JupyterHub service, use `wl = wallaroo.Client()`.  For more information on Wallaroo Client settings, see the [Client Connection guide](https://docs.wallaroo.ai/wallaroo-developer-guides/wallaroo-sdk-guides/wallaroo-sdk-essentials-guide/wallaroo-sdk-essentials-client/)."
   ]
  },
  {
   "cell_type": "code",
   "execution_count": 3,
   "id": "e9d19a6e",
   "metadata": {},
   "outputs": [],
   "source": [
    "# Login through local Wallaroo instance\n",
    "\n",
    "wl = wallaroo.Client()"
   ]
  },
  {
   "cell_type": "code",
   "execution_count": 27,
   "id": "06a981ef",
   "metadata": {},
   "outputs": [],
   "source": [
    "# Setting variables for later steps\n",
    "\n",
    "workspace_name = f'continuoustutorial'\n",
    "pipeline_name = f'continuouspipeline'\n",
    "model_name = f'houseprice'\n",
    "model_file_name = './models/rf_model.onnx'\n",
    "\n",
    "connection_name = f'continuous_data_sample'\n",
    "connection_type = \"HTTP\"\n",
    "connection_argument = {'host':'https://github.com/WallarooLabs/Wallaroo_Tutorials/raw/refs/heads/wallaroo2025.1_tutorials/wallaroo-automate/orchestration_sdk_simple_tutorial/data/xtest-1k.arrow'}"
   ]
  },
  {
   "cell_type": "markdown",
   "id": "98b78cf9",
   "metadata": {},
   "source": [
    "### Create the Workspace and Pipeline\n",
    "\n",
    "We'll now create our workspace and pipeline for the tutorial.  If this tutorial has been run previously, then this will retrieve the existing ones with the assumption they're for us with this tutorial.\n",
    "\n",
    "We'll set the retrieved workspace as the current workspace in the SDK, so all commands will default to that workspace."
   ]
  },
  {
   "cell_type": "code",
   "execution_count": 5,
   "id": "59aa845d",
   "metadata": {},
   "outputs": [],
   "source": [
    "workspace = wl.get_workspace(name=workspace_name, create_if_not_exist=True)\n",
    "wl.set_current_workspace(workspace)\n",
    "\n",
    "pipeline = wl.build_pipeline(pipeline_name)"
   ]
  },
  {
   "cell_type": "markdown",
   "id": "8a9fc274",
   "metadata": {},
   "source": [
    "### Upload the Model and Deploy Pipeline\n",
    "\n",
    "We'll upload our model into our sample workspace, then add it as a pipeline step before deploying the pipeline to it's ready to accept inference requests."
   ]
  },
  {
   "cell_type": "code",
   "execution_count": 6,
   "id": "f6a69610",
   "metadata": {},
   "outputs": [
    {
     "data": {
      "text/html": [
       "<table><tr><th>name</th> <td>continuouspipeline</td></tr><tr><th>created</th> <td>2024-09-24 17:11:25.717188+00:00</td></tr><tr><th>last_updated</th> <td>2024-09-24 17:11:25.717188+00:00</td></tr><tr><th>deployed</th> <td>(none)</td></tr><tr><th>workspace_id</th> <td>9</td></tr><tr><th>workspace_name</th> <td>continuoustutorial</td></tr><tr><th>arch</th> <td>None</td></tr><tr><th>accel</th> <td>None</td></tr><tr><th>tags</th> <td></td></tr><tr><th>versions</th> <td>8ae1c528-d714-4060-af99-98dbf0a93dd0</td></tr><tr><th>steps</th> <td></td></tr><tr><th>published</th> <td>False</td></tr></table>"
      ],
      "text/plain": [
       "{'name': 'continuouspipeline', 'create_time': datetime.datetime(2024, 9, 24, 17, 11, 25, 717188, tzinfo=tzutc()), 'definition': \"[{'ModelInference': {'models': [{'name': 'houseprice', 'version': '5b7438ae-04f0-4398-8dae-3d7a0370e746', 'sha': 'e22a0831aafd9917f3cc87a15ed267797f80e2afa12ad7d8810ca58f173b8cc6'}]}}]\"}"
      ]
     },
     "execution_count": 6,
     "metadata": {},
     "output_type": "execute_result"
    }
   ],
   "source": [
    "# Upload the model\n",
    "\n",
    "housing_model_control = (wl.upload_model(model_name, \n",
    "                                         model_file_name, \n",
    "                                         framework=wallaroo.framework.Framework.ONNX)\n",
    "                                         .configure(tensor_fields=[\"tensor\"])\n",
    "                        )\n",
    "\n",
    "# Add the model as a pipeline step\n",
    "\n",
    "pipeline.add_model_step(housing_model_control)"
   ]
  },
  {
   "cell_type": "code",
   "execution_count": 11,
   "id": "a484796e",
   "metadata": {},
   "outputs": [
    {
     "name": "stdout",
     "output_type": "stream",
     "text": [
      "Deployment initiated for continuouspipeline. Please check pipeline status.\n"
     ]
    },
    {
     "data": {
      "text/html": [
       "<table><tr><th>name</th> <td>continuouspipeline</td></tr><tr><th>created</th> <td>2024-09-24 17:11:25.717188+00:00</td></tr><tr><th>last_updated</th> <td>2024-09-24 17:15:12.541464+00:00</td></tr><tr><th>deployed</th> <td>True</td></tr><tr><th>workspace_id</th> <td>9</td></tr><tr><th>workspace_name</th> <td>continuoustutorial</td></tr><tr><th>arch</th> <td>x86</td></tr><tr><th>accel</th> <td>none</td></tr><tr><th>tags</th> <td></td></tr><tr><th>versions</th> <td>759bd273-6b20-4cc2-87c1-7c48b81686f4, 085f7dd4-72fb-4a16-928b-bf3fb71b0baa, 8ae1c528-d714-4060-af99-98dbf0a93dd0</td></tr><tr><th>steps</th> <td>houseprice</td></tr><tr><th>published</th> <td>False</td></tr></table>"
      ],
      "text/plain": [
       "{'name': 'continuouspipeline', 'create_time': datetime.datetime(2024, 9, 24, 17, 11, 25, 717188, tzinfo=tzutc()), 'definition': \"[{'ModelInference': {'models': [{'name': 'houseprice', 'version': '5b7438ae-04f0-4398-8dae-3d7a0370e746', 'sha': 'e22a0831aafd9917f3cc87a15ed267797f80e2afa12ad7d8810ca58f173b8cc6'}]}}]\"}"
      ]
     },
     "execution_count": 11,
     "metadata": {},
     "output_type": "execute_result"
    }
   ],
   "source": [
    "#deploy the pipeline\n",
    "deploy_config = wallaroo.DeploymentConfigBuilder().replica_count(1).cpus(0.5).memory(\"1Gi\").build()\n",
    "\n",
    "pipeline.deploy(deployment_config=deploy_config, wait_for_status=False)"
   ]
  },
  {
   "cell_type": "code",
   "execution_count": 12,
   "id": "3d01af7f-3567-4212-a2ab-3f5a2866add0",
   "metadata": {},
   "outputs": [
    {
     "name": "stdout",
     "output_type": "stream",
     "text": [
      "Waiting for deployment.\n"
     ]
    },
    {
     "data": {
      "text/plain": [
       "{'status': 'Running',\n",
       " 'details': [],\n",
       " 'engines': [{'ip': '10.28.2.54',\n",
       "   'name': 'engine-df98f4788-q9jjw',\n",
       "   'status': 'Running',\n",
       "   'reason': None,\n",
       "   'details': [],\n",
       "   'pipeline_statuses': {'pipelines': [{'id': 'continuouspipeline',\n",
       "      'status': 'Running',\n",
       "      'version': '759bd273-6b20-4cc2-87c1-7c48b81686f4'}]},\n",
       "   'model_statuses': {'models': [{'model_version_id': 7,\n",
       "      'name': 'houseprice',\n",
       "      'sha': 'e22a0831aafd9917f3cc87a15ed267797f80e2afa12ad7d8810ca58f173b8cc6',\n",
       "      'status': 'Running',\n",
       "      'version': '5b7438ae-04f0-4398-8dae-3d7a0370e746'}]}}],\n",
       " 'engine_lbs': [{'ip': '10.28.2.53',\n",
       "   'name': 'engine-lb-6b59985857-j7475',\n",
       "   'status': 'Running',\n",
       "   'reason': None,\n",
       "   'details': []}],\n",
       " 'sidekicks': []}"
      ]
     },
     "execution_count": 12,
     "metadata": {},
     "output_type": "execute_result"
    }
   ],
   "source": [
    "import time\n",
    "\n",
    "while pipeline.status()['status'] != 'Running':\n",
    "    time.sleep(15)\n",
    "    print(\"Waiting for deployment.\")\n",
    "\n",
    "pipeline.status()"
   ]
  },
  {
   "cell_type": "markdown",
   "id": "af993279-8816-4fad-8043-18444c0f9d22",
   "metadata": {},
   "source": [
    "## Create Connections\n",
    "\n",
    "We will create the data source connection via the Wallaroo client command `create_connection`.\n",
    "\n",
    "Connections are created with the Wallaroo client command [`create_connection`](https://docs.wallaroo.ai/wallaroo-developer-guides/wallaroo-sdk-guides/wallaroo-sdk-essentials-guide/wallaroo-sdk-essentials-ml-workload-orchestration/#create-orchestration) with the following parameters.\n",
    "\n",
    "| Parameter | Type | Description |\n",
    "| --- | --- | ---|\n",
    "| **name** | string (Required) | The name of the connection. This must be unique - **if submitting the name of an existing** connection it will return an error. |\n",
    "| **type** | string (Required) | The user defined type of connection. |\n",
    "| **details** | Dict (Required) | User defined configuration details for the data connection.  These can be `{'username':'dataperson', 'password':'datapassword', 'port': 3339}`, or `{'token':'abcde123==', 'host':'example.com', 'port:1234'}`, or other user defined combinations.  |\n",
    "\n",
    "* **IMPORTANT NOTE**:  Data connections names **must** be unique.  Attempting to create a data connection with the same `name` as an existing data connection will result in an error.\n",
    "\n",
    "We'll also create a data connection named `inference_results_connection` with our helper function `get_connection` that will either create **or** retrieve a connection if it already exists.  From there we'll create out connections:  \n",
    "\n",
    "* `houseprice_arrow_table`: An Apache Arrow file stored on GitHub that will be used for our inference input."
   ]
  },
  {
   "cell_type": "code",
   "execution_count": 28,
   "id": "35d02cb6-df65-4673-9712-8fff978642c8",
   "metadata": {},
   "outputs": [
    {
     "data": {
      "text/html": [
       "\n",
       "        <table>\n",
       "          <tr>\n",
       "            <th>Field</th>\n",
       "            <th>Value</th>\n",
       "          </tr>\n",
       "          <tr>\n",
       "            <td>Name</td><td>continuous_data_sample</td>\n",
       "          </tr>\n",
       "          <tr>\n",
       "            <td>Connection Type</td><td>HTTP</td>\n",
       "          </tr>\n",
       "          <tr>\n",
       "            <td>Details</td><td>*****</td>\n",
       "          </tr>\n",
       "          <tr>\n",
       "            <td>Created At</td><td>2024-09-24T17:29:30.959757+00:00</td>\n",
       "          </tr>\n",
       "          <tr>\n",
       "            <td>Linked Workspaces</td><td>[]</td>\n",
       "          </tr>\n",
       "        </table>\n",
       "        "
      ],
      "text/plain": [
       "<wallaroo.connection.Connection at 0x7fb75851ed30>"
      ]
     },
     "execution_count": 28,
     "metadata": {},
     "output_type": "execute_result"
    }
   ],
   "source": [
    "wl.create_connection(connection_name, connection_type, connection_argument)"
   ]
  },
  {
   "cell_type": "markdown",
   "id": "b4b4d452-a8d8-4412-bf8e-b42d46d533bf",
   "metadata": {},
   "source": [
    "### Test Orchestration Script\n",
    "\n",
    "To verify the orchestration will work, we'll test the relevant code here.  The complete code is in `./remote_inference/main.py`.\n",
    "\n",
    "The run below will run through the inference loop twice to verify the loop code works."
   ]
  },
  {
   "cell_type": "code",
   "execution_count": 68,
   "id": "6ab8966e-f0b5-44f0-943a-2a8600c9a566",
   "metadata": {},
   "outputs": [
    {
     "name": "stdout",
     "output_type": "stream",
     "text": [
      "Deploy the pipeline.\n",
      "Deployment initiated for continuouspipeline. Please check pipeline status.\n",
      "{'status': 'Running', 'details': [], 'engines': [{'ip': '10.28.2.56', 'name': 'engine-8595d79f94-8zvrs', 'status': 'Running', 'reason': None, 'details': [], 'pipeline_statuses': {'pipelines': [{'id': 'continuouspipeline', 'status': 'Running', 'version': 'fd88bf40-1305-491f-9c93-7c27fc49e754'}]}, 'model_statuses': {'models': [{'model_version_id': 7, 'name': 'houseprice', 'sha': 'e22a0831aafd9917f3cc87a15ed267797f80e2afa12ad7d8810ca58f173b8cc6', 'status': 'Running', 'version': '5b7438ae-04f0-4398-8dae-3d7a0370e746'}]}}], 'engine_lbs': [{'ip': '10.28.2.55', 'name': 'engine-lb-6b59985857-jwwtb', 'status': 'Running', 'reason': None, 'details': []}], 'sidekicks': []}\n",
      "Getting arrow table file\n",
      "Inference time.  Displaying results after.\n",
      "                     time  \\\n",
      "0 2024-09-24 17:58:40.884   \n",
      "1 2024-09-24 17:58:40.884   \n",
      "2 2024-09-24 17:58:40.884   \n",
      "3 2024-09-24 17:58:40.884   \n",
      "4 2024-09-24 17:58:40.884   \n",
      "\n",
      "                                                                                                               in.tensor  \\\n",
      "0     [4.0, 2.5, 2900.0, 5505.0, 2.0, 0.0, 0.0, 3.0, 8.0, 2900.0, 0.0, 47.6063, -122.02, 2970.0, 5251.0, 12.0, 0.0, 0.0]   \n",
      "1     [2.0, 2.5, 2170.0, 6361.0, 1.0, 0.0, 2.0, 3.0, 8.0, 2170.0, 0.0, 47.7109, -122.017, 2310.0, 7419.0, 6.0, 0.0, 0.0]   \n",
      "2      [3.0, 2.5, 1300.0, 812.0, 2.0, 0.0, 0.0, 3.0, 8.0, 880.0, 420.0, 47.5893, -122.317, 1300.0, 824.0, 6.0, 0.0, 0.0]   \n",
      "3    [4.0, 2.5, 2500.0, 8540.0, 2.0, 0.0, 0.0, 3.0, 9.0, 2500.0, 0.0, 47.5759, -121.994, 2560.0, 8475.0, 24.0, 0.0, 0.0]   \n",
      "4  [3.0, 1.75, 2200.0, 11520.0, 1.0, 0.0, 0.0, 4.0, 7.0, 2200.0, 0.0, 47.7659, -122.341, 1690.0, 8038.0, 62.0, 0.0, 0.0]   \n",
      "\n",
      "  out.variable  anomaly.count  \n",
      "0   [718013.7]              0  \n",
      "1   [615094.6]              0  \n",
      "2   [448627.8]              0  \n",
      "3   [758714.3]              0  \n",
      "4  [513264.66]              0  \n",
      "Getting arrow table file\n",
      "Inference time.  Displaying results after.\n",
      "                     time  \\\n",
      "0 2024-09-24 17:59:41.327   \n",
      "1 2024-09-24 17:59:41.327   \n",
      "2 2024-09-24 17:59:41.327   \n",
      "3 2024-09-24 17:59:41.327   \n",
      "4 2024-09-24 17:59:41.327   \n",
      "\n",
      "                                                                                                               in.tensor  \\\n",
      "0     [4.0, 2.5, 2900.0, 5505.0, 2.0, 0.0, 0.0, 3.0, 8.0, 2900.0, 0.0, 47.6063, -122.02, 2970.0, 5251.0, 12.0, 0.0, 0.0]   \n",
      "1     [2.0, 2.5, 2170.0, 6361.0, 1.0, 0.0, 2.0, 3.0, 8.0, 2170.0, 0.0, 47.7109, -122.017, 2310.0, 7419.0, 6.0, 0.0, 0.0]   \n",
      "2      [3.0, 2.5, 1300.0, 812.0, 2.0, 0.0, 0.0, 3.0, 8.0, 880.0, 420.0, 47.5893, -122.317, 1300.0, 824.0, 6.0, 0.0, 0.0]   \n",
      "3    [4.0, 2.5, 2500.0, 8540.0, 2.0, 0.0, 0.0, 3.0, 9.0, 2500.0, 0.0, 47.5759, -121.994, 2560.0, 8475.0, 24.0, 0.0, 0.0]   \n",
      "4  [3.0, 1.75, 2200.0, 11520.0, 1.0, 0.0, 0.0, 4.0, 7.0, 2200.0, 0.0, 47.7659, -122.341, 1690.0, 8038.0, 62.0, 0.0, 0.0]   \n",
      "\n",
      "  out.variable  anomaly.count  \n",
      "0   [718013.7]              0  \n",
      "1   [615094.6]              0  \n",
      "2   [448627.8]              0  \n",
      "3   [758714.3]              0  \n",
      "4  [513264.66]              0  \n"
     ]
    }
   ],
   "source": [
    "print(\"Deploy the pipeline.\")\n",
    "deploy_config = wallaroo.DeploymentConfigBuilder().replica_count(1).cpus(0.5).memory(\"1Gi\").build()\n",
    "\n",
    "pipeline.deploy(deployment_config=deploy_config, wait_for_status=False)\n",
    "\n",
    "# verify the pipeline is running\n",
    "\n",
    "while pipeline.status()['status'] != 'Running':\n",
    "    time.sleep(15)\n",
    "    print(\"Waiting for deployment.\")\n",
    "\n",
    "print(pipeline.status())\n",
    "\n",
    "# Get the connection - assuming it will be the only one\n",
    "\n",
    "inference_source_connection = wl.get_connection(name=connection_name)\n",
    "\n",
    "# our continuous loop - check every minute for the file.\n",
    "# in a real example, this would be a database with a search filter to inference on the latest\n",
    "# updates, then store the inference results in another data store\n",
    "\n",
    "# for this test, we'll just run through twice to verify it works\n",
    "for x in range (2):\n",
    "    time.sleep(60)\n",
    "\n",
    "    print(f\"Getting arrow table file\")\n",
    "    # Retrieve the file\n",
    "    # set accept as apache arrow table\n",
    "    headers = {\n",
    "        'Accept': 'application/vnd.apache.arrow.file'\n",
    "    }\n",
    "\n",
    "    response = requests.get(\n",
    "                        inference_source_connection.details()['host'], \n",
    "                        headers=headers\n",
    "                    )\n",
    "\n",
    "    # Arrow table is retrieved \n",
    "    with pa.ipc.open_file(response.content) as reader:\n",
    "        arrow_table = reader.read_all()\n",
    "\n",
    "    print(\"Inference time.  Displaying results after.\")\n",
    "    # Perform the inference\n",
    "    result = pipeline.infer(arrow_table)\n",
    "\n",
    "    result_dataframe = result.to_pandas()\n",
    "\n",
    "    print(result_dataframe.head(5))\n"
   ]
  },
  {
   "cell_type": "markdown",
   "id": "9ca5cd1e-5ab6-4ac0-9a93-fca706676987",
   "metadata": {},
   "source": [
    "Before we continue to the Run Continuously Task example, we'll undeploy the pipeline since our Orchestration deploys the pipeline as part of the task cycle."
   ]
  },
  {
   "cell_type": "code",
   "execution_count": 69,
   "id": "763d470f-77f5-4aac-b6f7-c051716d5be7",
   "metadata": {},
   "outputs": [
    {
     "name": "stdout",
     "output_type": "stream",
     "text": [
      "Waiting for undeployment - this will take up to 45s ................................... ok\n"
     ]
    },
    {
     "data": {
      "text/html": [
       "<table><tr><th>name</th> <td>continuouspipeline</td></tr><tr><th>created</th> <td>2024-09-24 17:11:25.717188+00:00</td></tr><tr><th>last_updated</th> <td>2024-09-24 17:57:40.189304+00:00</td></tr><tr><th>deployed</th> <td>False</td></tr><tr><th>workspace_id</th> <td>9</td></tr><tr><th>workspace_name</th> <td>continuoustutorial</td></tr><tr><th>arch</th> <td>x86</td></tr><tr><th>accel</th> <td>none</td></tr><tr><th>tags</th> <td></td></tr><tr><th>versions</th> <td>ba43237a-94ca-4375-a259-484775e9ed46, fd88bf40-1305-491f-9c93-7c27fc49e754, bf8e8426-d3ae-4f8d-a549-3ebd7bb30ae8, 6be2d1d9-719f-42ff-8cd6-d253ad924b7f, 759bd273-6b20-4cc2-87c1-7c48b81686f4, 085f7dd4-72fb-4a16-928b-bf3fb71b0baa, 8ae1c528-d714-4060-af99-98dbf0a93dd0</td></tr><tr><th>steps</th> <td>houseprice</td></tr><tr><th>published</th> <td>False</td></tr></table>"
      ],
      "text/plain": [
       "{'name': 'continuouspipeline', 'create_time': datetime.datetime(2024, 9, 24, 17, 11, 25, 717188, tzinfo=tzutc()), 'definition': \"[{'ModelInference': {'models': [{'name': 'houseprice', 'version': '5b7438ae-04f0-4398-8dae-3d7a0370e746', 'sha': 'e22a0831aafd9917f3cc87a15ed267797f80e2afa12ad7d8810ca58f173b8cc6'}]}}]\"}"
      ]
     },
     "execution_count": 69,
     "metadata": {},
     "output_type": "execute_result"
    }
   ],
   "source": [
    "pipeline.undeploy()"
   ]
  },
  {
   "cell_type": "markdown",
   "id": "b8d44dc7",
   "metadata": {},
   "source": [
    "## Wallaroo ML Workload Run Continuously Task Example\n",
    "\n",
    "With the pipeline deployed and our connections set, we will now generate our ML Workload Orchestration.  See the [Wallaroo ML Workload Orchestrations guide](https://docs.wallaroo.ai/wallaroo-developer-guides/wallaroo-sdk-guides/wallaroo-sdk-essentials-guide/wallaroo-sdk-essentials-ml-workload-orchestration/) for full details.\n",
    "\n",
    "Orchestrations are uploaded to the Wallaroo instance as a ZIP file with the following requirements:\n",
    "\n",
    "| Parameter | Type | Description |\n",
    "|---|---|---|\n",
    "| **User Code** | (*Required*) Python script as `.py` files | If `main.py` exists, then that will be used as the task entrypoint. Otherwise, the **first** `main.py` found in any subdirectory will be used as the entrypoint. |\n",
    "| **Python Library Requirements** | (*Optional*) `requirements.txt` file in the [requirements file format](https://pip.pypa.io/en/stable/reference/requirements-file-format/).  A standard Python requirements.txt for any dependencies to be provided in the task environment. The Wallaroo SDK will already be present and **should not be included in the requirements.txt**. Multiple requirements.txt files are not allowed. |\n",
    "| **Other artifacts** | &nbsp; | Other artifacts such as files, data, or code to support the orchestration.\n",
    "\n",
    "For our example, our orchestration will:\n",
    "\n",
    "\n",
    "1. Upload Wallaroo ML Workload Orchestration with a task meant for Run Continuously Tasks.  The instructions are:\n",
    "  1. Deploy a previously defined pipeline.\n",
    "  1. Every 1 minute, download data through the defined connection.  This simulates using a database connection to retrieve the latest data from a data store.\n",
    "  1. Perform an inference with the downloaded data.\n",
    "\n",
    "This sample script is stored in `remote_inference/main.py` with an empty `requirements.txt` file, and packaged into the orchestration as `./remote_inference/remote_inference.zip`.  We'll display the steps in uploading the orchestration to the Wallaroo instance."
   ]
  },
  {
   "cell_type": "markdown",
   "id": "c54d9602",
   "metadata": {},
   "source": [
    "### Upload the Orchestration\n",
    "\n",
    "Orchestrations are uploaded with the Wallaroo client `upload_orchestration(path)` method with the following parameters.\n",
    "\n",
    "| Parameter | Type | Description |\n",
    "| --- | --- | ---|\n",
    "| **path** | string (Required) | The path to the ZIP file to be uploaded. |\n",
    "\n",
    "Once uploaded, the deployment will be prepared and any requirements will be downloaded and installed.\n",
    "\n",
    "\n",
    "For this example, the orchestration `./remote_inference/remote_inference.zip` will be uploaded and saved to the variable `orchestration`.\n",
    "\n",
    "### Orchestration Status\n",
    "\n",
    "We will loop until the uploaded orchestration's `status` displays `ready`."
   ]
  },
  {
   "cell_type": "code",
   "execution_count": 168,
   "id": "00e6e6e5",
   "metadata": {},
   "outputs": [
    {
     "name": "stdout",
     "output_type": "stream",
     "text": [
      "pending_packaging\n",
      "pending_packaging\n",
      "packaging\n",
      "packaging\n",
      "packaging\n",
      "packaging\n",
      "packaging\n",
      "packaging\n",
      "packaging\n",
      "packaging\n"
     ]
    }
   ],
   "source": [
    "orchestration = wl.upload_orchestration(path=\"./remote_inference/remote_inference.zip\")\n",
    "\n",
    "while orchestration.status() != 'ready' and orchestration.status() != 'error':\n",
    "    print(orchestration.status())\n",
    "    time.sleep(5)"
   ]
  },
  {
   "cell_type": "markdown",
   "id": "bf028e54",
   "metadata": {},
   "source": [
    "## Task Management Tutorial\n",
    "\n",
    "Once an Orchestration has the status `ready`, it can be run as a Task.  \n",
    "\n",
    "Tasks are created from an Orchestration through the following methods.\n",
    "\n",
    "| Task Type | Orchestration Method | Description |\n",
    "|---|---|---|\n",
    "| [Run Once](#run-task-once) | `run_once` | Create one Task Run and end when the Task Run is finished executing or until the `timeout` for the task is reached . |\n",
    "| [Run Scheduled](#run-task-scheduled) | `run_scheduled` | Based on a schedule, create a new Task Run until the Scheduled Task is terminated.  Repeat every time the schedule pattern is fulfilled (every hour, every Tuesday at 2 PM, etc).  Continue generating new Task Runs until the Run Scheduled Task is terminated. |\n",
    "| [Run Continuously](#run-task-continuously) | `run_continuously` | Generate a Task Run and continue running that task.  These tasks typically have a repeating loop that continues to run until the Run Continuously Task is issued the `kill` command. |"
   ]
  },
  {
   "cell_type": "markdown",
   "id": "de1423fb",
   "metadata": {},
   "source": [
    "### Run Continuously Task\n",
    "\n",
    "We'll create a Run Continuously Task from our Orchestration.  This Task has an infinite `while` loop, so it will continue to loop until the Task is issued the `kill` command.\n",
    "\n",
    "Run Continuously Tasks are generated Orchestration `run_continuously(name, json_args)` method.  Any arguments for the orchestration are passed in through the `json_args` parameter as a `Dict`.  If there are no arguments, then an empty set `{}` is passed."
   ]
  },
  {
   "cell_type": "code",
   "execution_count": 176,
   "id": "e53d7731",
   "metadata": {},
   "outputs": [],
   "source": [
    "# Example: run continuously\n",
    "\n",
    "import datetime\n",
    "task_start = datetime.datetime.now()\n",
    "task_continuously = orchestration.run_continuously(name=\"run continuous sample\", \n",
    "                              json_args={\"workspace_name\": workspace_name, \n",
    "                                         \"pipeline_name\": pipeline_name,\n",
    "                                         \"connection_name\": connection_name\n",
    "                                            })"
   ]
  },
  {
   "cell_type": "markdown",
   "id": "0dcbc1d4",
   "metadata": {},
   "source": [
    "### Task Status\n",
    "\n",
    "The list of tasks in the Wallaroo instance is retrieves through the Wallaroo Client `list_tasks()` method.  This returns an array list of the following.\n",
    "\n",
    "| Parameter | Type | Description |\n",
    "| --- | --- | ---|\n",
    "| **id** | string | The UUID identifier for the task. |\n",
    "| **last run status** | string | The last reported status the task.  Values are: <br><ul><li>`pending`: The task has not been started.</li><li>`started`: The task has been scheduled to execute.</li><li>`pending_kill`: The task kill command has been issued and the task is scheduled to be stopped.</li></ul> |\n",
    "| **type** | string | The type of the task.  Values are: <br><ul><li>`Temporary Run`: The task runs once then stop.</li><li>`Scheduled Run`: The task repeats on a `cron` like schedule.</li></ul> |\n",
    "| **created at** | DateTime | The date and time the task was started. |\n",
    "| **updated at** | DateTime | The date and time the task was updated. |\n",
    "\n",
    "For this example, the status of the previously created task will be generated, then looped until it has reached status `started`."
   ]
  },
  {
   "cell_type": "code",
   "execution_count": 177,
   "id": "a05a299f",
   "metadata": {},
   "outputs": [],
   "source": [
    "while task_continuously.status() != \"started\":\n",
    "    display(task_continuously.status())\n",
    "    time.sleep(5)"
   ]
  },
  {
   "cell_type": "markdown",
   "id": "7bd6a79a",
   "metadata": {},
   "source": [
    "### Task Results\n",
    "\n",
    "We can view the inferences from our logs and verify that new entries were added from our task.  We can do that with the task `last_runs()` method to see the list of task runs executed, then show the log from the last completed task run."
   ]
  },
  {
   "cell_type": "code",
   "execution_count": 178,
   "id": "40333f29-0ae9-49f3-8612-ed9f00a46ca6",
   "metadata": {},
   "outputs": [
    {
     "data": {
      "text/html": [
       "<table><tr><th>task id</th><th>pod id</th><th>status</th><th>created at</th><th>updated at</th></tr>\n",
       "            <tr>\n",
       "              <td>51ade31c-d69f-4f95-9b7a-b48096ef3d3b</td>\n",
       "              <td>0f8c2940-f025-4abc-9daa-b608e4dbde05</td>\n",
       "              <td>running</td>\n",
       "              <td>2024-24-Sep 20:17:03</td>\n",
       "              <td>2024-24-Sep 20:17:03</td>\n",
       "            </tr>\n",
       "            </table>"
      ],
      "text/plain": [
       "[<wallaroo.task_run.TaskRun at 0x7fb6eacb9460>]"
      ]
     },
     "execution_count": 178,
     "metadata": {},
     "output_type": "execute_result"
    }
   ],
   "source": [
    "# give time for the first task run to generate\n",
    "time.sleep(30)\n",
    "task_continuously.last_runs()"
   ]
  },
  {
   "cell_type": "markdown",
   "id": "42db2f49-9a0a-4476-9aa4-a94309ade9be",
   "metadata": {},
   "source": [
    "For this example, we'll update the Task Run logs ever 20 seconds to show the loop is executing."
   ]
  },
  {
   "cell_type": "code",
   "execution_count": 179,
   "id": "818b5f3d",
   "metadata": {},
   "outputs": [
    {
     "data": {
      "text/html": [
       "(no logs yet)"
      ],
      "text/plain": [
       "[]"
      ]
     },
     "metadata": {},
     "output_type": "display_data"
    },
    {
     "data": {
      "text/html": [
       "(no logs yet)"
      ],
      "text/plain": [
       "[]"
      ]
     },
     "metadata": {},
     "output_type": "display_data"
    },
    {
     "data": {
      "text/html": [
       "<pre><code>2024-24-Sep 20:17:10 Getting the workspace continuoustutorial\n",
       "2024-24-Sep 20:17:10 Getting the pipeline continuouspipeline\n",
       "2024-24-Sep 20:17:11 Deploy the pipeline.\n",
       "2024-24-Sep 20:17:11 Deployment initiated for continuouspipeline. Please check pipeline status.\n",
       "2024-24-Sep 20:17:11 {'status': 'Running', 'details': [], 'engines': [{'ip': '10.28.2.58', 'name': 'engine-77cb97f568-lpgk4', 'status': 'Running', 'reason': None, 'details': [], 'pipeline_statuses': {'pipelines': [{'id': 'continuouspipeline', 'status': 'Running', 'version': '0bb33df8-532b-46f6-990f-5bc3e69dd04e'}]}, 'model_statuses': {'models': [{'model_version_id': 7, 'name': 'houseprice', 'sha': 'e22a0831aafd9917f3cc87a15ed267797f80e2afa12ad7d8810ca58f173b8cc6', 'status': 'Running', 'version': '5b7438ae-04f0-4398-8dae-3d7a0370e746'}]}}], 'engine_lbs': [{'ip': '10.28.2.57', 'name': 'engine-lb-6b59985857-tkx7c', 'status': 'Running', 'reason': None, 'details': []}], 'sidekicks': []}\n",
       "2024-24-Sep 20:17:11 Inference time.  Displaying results after.\n",
       "2024-24-Sep 20:17:11 Getting arrow table file\n",
       "2024-24-Sep 20:17:11 0 2024-09-24 20:17:11.906  ...             0\n",
       "2024-24-Sep 20:17:11 1 2024-09-24 20:17:11.906  ...             0\n",
       "2024-24-Sep 20:17:11                      time  ... anomaly.count\n",
       "2024-24-Sep 20:17:11 2 2024-09-24 20:17:11.906  ...             0\n",
       "2024-24-Sep 20:17:11 3 2024-09-24 20:17:11.906  ...             0\n",
       "2024-24-Sep 20:17:11 \n",
       "2024-24-Sep 20:17:11 4 2024-09-24 20:17:11.906  ...             0\n",
       "2024-24-Sep 20:17:11 [5 rows x 4 columns]\n",
       "2024-24-Sep 20:18:11 Getting arrow table file\n",
       "2024-24-Sep 20:18:12 Inference time.  Displaying results after.\n",
       "2024-24-Sep 20:18:12                      time  ... anomaly.count\n",
       "2024-24-Sep 20:18:12 0 2024-09-24 20:18:12.353  ...             0\n",
       "2024-24-Sep 20:18:12 1 2024-09-24 20:18:12.353  ...             0\n",
       "2024-24-Sep 20:18:12 2 2024-09-24 20:18:12.353  ...             0\n",
       "2024-24-Sep 20:18:12 3 2024-09-24 20:18:12.353  ...             0\n",
       "2024-24-Sep 20:18:12 4 2024-09-24 20:18:12.353  ...             0\n",
       "2024-24-Sep 20:18:12 [5 rows x 4 columns]\n",
       "2024-24-Sep 20:18:12 </code></pre>"
      ],
      "text/plain": [
       "['2024-09-24T20:17:10.86879146Z stdout F Getting the workspace continuoustutorial',\n",
       " '2024-09-24T20:17:10.918647416Z stdout F Getting the pipeline continuouspipeline',\n",
       " '2024-09-24T20:17:11.76110169Z stdout F Deploy the pipeline.',\n",
       " '2024-09-24T20:17:11.76114773Z stdout F Deployment initiated for continuouspipeline. Please check pipeline status.',\n",
       " \"2024-09-24T20:17:11.76115947Z stdout F {'status': 'Running', 'details': [], 'engines': [{'ip': '10.28.2.58', 'name': 'engine-77cb97f568-lpgk4', 'status': 'Running', 'reason': None, 'details': [], 'pipeline_statuses': {'pipelines': [{'id': 'continuouspipeline', 'status': 'Running', 'version': '0bb33df8-532b-46f6-990f-5bc3e69dd04e'}]}, 'model_statuses': {'models': [{'model_version_id': 7, 'name': 'houseprice', 'sha': 'e22a0831aafd9917f3cc87a15ed267797f80e2afa12ad7d8810ca58f173b8cc6', 'status': 'Running', 'version': '5b7438ae-04f0-4398-8dae-3d7a0370e746'}]}}], 'engine_lbs': [{'ip': '10.28.2.57', 'name': 'engine-lb-6b59985857-tkx7c', 'status': 'Running', 'reason': None, 'details': []}], 'sidekicks': []}\",\n",
       " '2024-09-24T20:17:11.879440891Z stdout F Inference time.  Displaying results after.',\n",
       " '2024-09-24T20:17:11.76116851Z stdout F Getting arrow table file',\n",
       " '2024-09-24T20:17:11.930446327Z stdout F 0 2024-09-24 20:17:11.906  ...             0',\n",
       " '2024-09-24T20:17:11.930454137Z stdout F 1 2024-09-24 20:17:11.906  ...             0',\n",
       " '2024-09-24T20:17:11.930407817Z stdout F                      time  ... anomaly.count',\n",
       " '2024-09-24T20:17:11.930460097Z stdout F 2 2024-09-24 20:17:11.906  ...             0',\n",
       " '2024-09-24T20:17:11.930465247Z stdout F 3 2024-09-24 20:17:11.906  ...             0',\n",
       " '2024-09-24T20:17:11.930473117Z stdout F ',\n",
       " '2024-09-24T20:17:11.930469197Z stdout F 4 2024-09-24 20:17:11.906  ...             0',\n",
       " '2024-09-24T20:17:11.930477527Z stdout F [5 rows x 4 columns]',\n",
       " '2024-09-24T20:18:11.951983346Z stdout F Getting arrow table file',\n",
       " '2024-09-24T20:18:12.284001989Z stdout F Inference time.  Displaying results after.',\n",
       " '2024-09-24T20:18:12.369996093Z stdout F                      time  ... anomaly.count',\n",
       " '2024-09-24T20:18:12.370047903Z stdout F 0 2024-09-24 20:18:12.353  ...             0',\n",
       " '2024-09-24T20:18:12.370059403Z stdout F 1 2024-09-24 20:18:12.353  ...             0',\n",
       " '2024-09-24T20:18:12.370069133Z stdout F 2 2024-09-24 20:18:12.353  ...             0',\n",
       " '2024-09-24T20:18:12.370077063Z stdout F 3 2024-09-24 20:18:12.353  ...             0',\n",
       " '2024-09-24T20:18:12.370084763Z stdout F 4 2024-09-24 20:18:12.353  ...             0',\n",
       " '2024-09-24T20:18:12.370103233Z stdout F [5 rows x 4 columns]',\n",
       " '2024-09-24T20:18:12.370093593Z stdout F ']"
      ]
     },
     "metadata": {},
     "output_type": "display_data"
    },
    {
     "data": {
      "text/html": [
       "<pre><code>2024-24-Sep 20:17:10 Getting the workspace continuoustutorial\n",
       "2024-24-Sep 20:17:10 Getting the pipeline continuouspipeline\n",
       "2024-24-Sep 20:17:11 Deploy the pipeline.\n",
       "2024-24-Sep 20:17:11 Deployment initiated for continuouspipeline. Please check pipeline status.\n",
       "2024-24-Sep 20:17:11 {'status': 'Running', 'details': [], 'engines': [{'ip': '10.28.2.58', 'name': 'engine-77cb97f568-lpgk4', 'status': 'Running', 'reason': None, 'details': [], 'pipeline_statuses': {'pipelines': [{'id': 'continuouspipeline', 'status': 'Running', 'version': '0bb33df8-532b-46f6-990f-5bc3e69dd04e'}]}, 'model_statuses': {'models': [{'model_version_id': 7, 'name': 'houseprice', 'sha': 'e22a0831aafd9917f3cc87a15ed267797f80e2afa12ad7d8810ca58f173b8cc6', 'status': 'Running', 'version': '5b7438ae-04f0-4398-8dae-3d7a0370e746'}]}}], 'engine_lbs': [{'ip': '10.28.2.57', 'name': 'engine-lb-6b59985857-tkx7c', 'status': 'Running', 'reason': None, 'details': []}], 'sidekicks': []}\n",
       "2024-24-Sep 20:17:11 Inference time.  Displaying results after.\n",
       "2024-24-Sep 20:17:11 Getting arrow table file\n",
       "2024-24-Sep 20:17:11 0 2024-09-24 20:17:11.906  ...             0\n",
       "2024-24-Sep 20:17:11 1 2024-09-24 20:17:11.906  ...             0\n",
       "2024-24-Sep 20:17:11                      time  ... anomaly.count\n",
       "2024-24-Sep 20:17:11 2 2024-09-24 20:17:11.906  ...             0\n",
       "2024-24-Sep 20:17:11 3 2024-09-24 20:17:11.906  ...             0\n",
       "2024-24-Sep 20:17:11 \n",
       "2024-24-Sep 20:17:11 4 2024-09-24 20:17:11.906  ...             0\n",
       "2024-24-Sep 20:17:11 [5 rows x 4 columns]\n",
       "2024-24-Sep 20:18:11 Getting arrow table file\n",
       "2024-24-Sep 20:18:12 Inference time.  Displaying results after.\n",
       "2024-24-Sep 20:18:12                      time  ... anomaly.count\n",
       "2024-24-Sep 20:18:12 0 2024-09-24 20:18:12.353  ...             0\n",
       "2024-24-Sep 20:18:12 1 2024-09-24 20:18:12.353  ...             0\n",
       "2024-24-Sep 20:18:12 2 2024-09-24 20:18:12.353  ...             0\n",
       "2024-24-Sep 20:18:12 3 2024-09-24 20:18:12.353  ...             0\n",
       "2024-24-Sep 20:18:12 4 2024-09-24 20:18:12.353  ...             0\n",
       "2024-24-Sep 20:18:12 [5 rows x 4 columns]\n",
       "2024-24-Sep 20:18:12 </code></pre>"
      ],
      "text/plain": [
       "['2024-09-24T20:17:10.86879146Z stdout F Getting the workspace continuoustutorial',\n",
       " '2024-09-24T20:17:10.918647416Z stdout F Getting the pipeline continuouspipeline',\n",
       " '2024-09-24T20:17:11.76110169Z stdout F Deploy the pipeline.',\n",
       " '2024-09-24T20:17:11.76114773Z stdout F Deployment initiated for continuouspipeline. Please check pipeline status.',\n",
       " \"2024-09-24T20:17:11.76115947Z stdout F {'status': 'Running', 'details': [], 'engines': [{'ip': '10.28.2.58', 'name': 'engine-77cb97f568-lpgk4', 'status': 'Running', 'reason': None, 'details': [], 'pipeline_statuses': {'pipelines': [{'id': 'continuouspipeline', 'status': 'Running', 'version': '0bb33df8-532b-46f6-990f-5bc3e69dd04e'}]}, 'model_statuses': {'models': [{'model_version_id': 7, 'name': 'houseprice', 'sha': 'e22a0831aafd9917f3cc87a15ed267797f80e2afa12ad7d8810ca58f173b8cc6', 'status': 'Running', 'version': '5b7438ae-04f0-4398-8dae-3d7a0370e746'}]}}], 'engine_lbs': [{'ip': '10.28.2.57', 'name': 'engine-lb-6b59985857-tkx7c', 'status': 'Running', 'reason': None, 'details': []}], 'sidekicks': []}\",\n",
       " '2024-09-24T20:17:11.879440891Z stdout F Inference time.  Displaying results after.',\n",
       " '2024-09-24T20:17:11.76116851Z stdout F Getting arrow table file',\n",
       " '2024-09-24T20:17:11.930446327Z stdout F 0 2024-09-24 20:17:11.906  ...             0',\n",
       " '2024-09-24T20:17:11.930454137Z stdout F 1 2024-09-24 20:17:11.906  ...             0',\n",
       " '2024-09-24T20:17:11.930407817Z stdout F                      time  ... anomaly.count',\n",
       " '2024-09-24T20:17:11.930460097Z stdout F 2 2024-09-24 20:17:11.906  ...             0',\n",
       " '2024-09-24T20:17:11.930465247Z stdout F 3 2024-09-24 20:17:11.906  ...             0',\n",
       " '2024-09-24T20:17:11.930473117Z stdout F ',\n",
       " '2024-09-24T20:17:11.930469197Z stdout F 4 2024-09-24 20:17:11.906  ...             0',\n",
       " '2024-09-24T20:17:11.930477527Z stdout F [5 rows x 4 columns]',\n",
       " '2024-09-24T20:18:11.951983346Z stdout F Getting arrow table file',\n",
       " '2024-09-24T20:18:12.284001989Z stdout F Inference time.  Displaying results after.',\n",
       " '2024-09-24T20:18:12.369996093Z stdout F                      time  ... anomaly.count',\n",
       " '2024-09-24T20:18:12.370047903Z stdout F 0 2024-09-24 20:18:12.353  ...             0',\n",
       " '2024-09-24T20:18:12.370059403Z stdout F 1 2024-09-24 20:18:12.353  ...             0',\n",
       " '2024-09-24T20:18:12.370069133Z stdout F 2 2024-09-24 20:18:12.353  ...             0',\n",
       " '2024-09-24T20:18:12.370077063Z stdout F 3 2024-09-24 20:18:12.353  ...             0',\n",
       " '2024-09-24T20:18:12.370084763Z stdout F 4 2024-09-24 20:18:12.353  ...             0',\n",
       " '2024-09-24T20:18:12.370103233Z stdout F [5 rows x 4 columns]',\n",
       " '2024-09-24T20:18:12.370093593Z stdout F ']"
      ]
     },
     "metadata": {},
     "output_type": "display_data"
    },
    {
     "data": {
      "text/html": [
       "<pre><code>2024-24-Sep 20:17:10 Getting the workspace continuoustutorial\n",
       "2024-24-Sep 20:17:10 Getting the pipeline continuouspipeline\n",
       "2024-24-Sep 20:17:11 Deploy the pipeline.\n",
       "2024-24-Sep 20:17:11 Deployment initiated for continuouspipeline. Please check pipeline status.\n",
       "2024-24-Sep 20:17:11 {'status': 'Running', 'details': [], 'engines': [{'ip': '10.28.2.58', 'name': 'engine-77cb97f568-lpgk4', 'status': 'Running', 'reason': None, 'details': [], 'pipeline_statuses': {'pipelines': [{'id': 'continuouspipeline', 'status': 'Running', 'version': '0bb33df8-532b-46f6-990f-5bc3e69dd04e'}]}, 'model_statuses': {'models': [{'model_version_id': 7, 'name': 'houseprice', 'sha': 'e22a0831aafd9917f3cc87a15ed267797f80e2afa12ad7d8810ca58f173b8cc6', 'status': 'Running', 'version': '5b7438ae-04f0-4398-8dae-3d7a0370e746'}]}}], 'engine_lbs': [{'ip': '10.28.2.57', 'name': 'engine-lb-6b59985857-tkx7c', 'status': 'Running', 'reason': None, 'details': []}], 'sidekicks': []}\n",
       "2024-24-Sep 20:17:11 Inference time.  Displaying results after.\n",
       "2024-24-Sep 20:17:11 Getting arrow table file\n",
       "2024-24-Sep 20:17:11 0 2024-09-24 20:17:11.906  ...             0\n",
       "2024-24-Sep 20:17:11 1 2024-09-24 20:17:11.906  ...             0\n",
       "2024-24-Sep 20:17:11                      time  ... anomaly.count\n",
       "2024-24-Sep 20:17:11 2 2024-09-24 20:17:11.906  ...             0\n",
       "2024-24-Sep 20:17:11 3 2024-09-24 20:17:11.906  ...             0\n",
       "2024-24-Sep 20:17:11 \n",
       "2024-24-Sep 20:17:11 4 2024-09-24 20:17:11.906  ...             0\n",
       "2024-24-Sep 20:17:11 [5 rows x 4 columns]\n",
       "2024-24-Sep 20:18:11 Getting arrow table file\n",
       "2024-24-Sep 20:18:12 Inference time.  Displaying results after.\n",
       "2024-24-Sep 20:18:12                      time  ... anomaly.count\n",
       "2024-24-Sep 20:18:12 0 2024-09-24 20:18:12.353  ...             0\n",
       "2024-24-Sep 20:18:12 1 2024-09-24 20:18:12.353  ...             0\n",
       "2024-24-Sep 20:18:12 2 2024-09-24 20:18:12.353  ...             0\n",
       "2024-24-Sep 20:18:12 3 2024-09-24 20:18:12.353  ...             0\n",
       "2024-24-Sep 20:18:12 4 2024-09-24 20:18:12.353  ...             0\n",
       "2024-24-Sep 20:18:12 [5 rows x 4 columns]\n",
       "2024-24-Sep 20:18:12 </code></pre>"
      ],
      "text/plain": [
       "['2024-09-24T20:17:10.86879146Z stdout F Getting the workspace continuoustutorial',\n",
       " '2024-09-24T20:17:10.918647416Z stdout F Getting the pipeline continuouspipeline',\n",
       " '2024-09-24T20:17:11.76110169Z stdout F Deploy the pipeline.',\n",
       " '2024-09-24T20:17:11.76114773Z stdout F Deployment initiated for continuouspipeline. Please check pipeline status.',\n",
       " \"2024-09-24T20:17:11.76115947Z stdout F {'status': 'Running', 'details': [], 'engines': [{'ip': '10.28.2.58', 'name': 'engine-77cb97f568-lpgk4', 'status': 'Running', 'reason': None, 'details': [], 'pipeline_statuses': {'pipelines': [{'id': 'continuouspipeline', 'status': 'Running', 'version': '0bb33df8-532b-46f6-990f-5bc3e69dd04e'}]}, 'model_statuses': {'models': [{'model_version_id': 7, 'name': 'houseprice', 'sha': 'e22a0831aafd9917f3cc87a15ed267797f80e2afa12ad7d8810ca58f173b8cc6', 'status': 'Running', 'version': '5b7438ae-04f0-4398-8dae-3d7a0370e746'}]}}], 'engine_lbs': [{'ip': '10.28.2.57', 'name': 'engine-lb-6b59985857-tkx7c', 'status': 'Running', 'reason': None, 'details': []}], 'sidekicks': []}\",\n",
       " '2024-09-24T20:17:11.879440891Z stdout F Inference time.  Displaying results after.',\n",
       " '2024-09-24T20:17:11.76116851Z stdout F Getting arrow table file',\n",
       " '2024-09-24T20:17:11.930446327Z stdout F 0 2024-09-24 20:17:11.906  ...             0',\n",
       " '2024-09-24T20:17:11.930454137Z stdout F 1 2024-09-24 20:17:11.906  ...             0',\n",
       " '2024-09-24T20:17:11.930407817Z stdout F                      time  ... anomaly.count',\n",
       " '2024-09-24T20:17:11.930460097Z stdout F 2 2024-09-24 20:17:11.906  ...             0',\n",
       " '2024-09-24T20:17:11.930465247Z stdout F 3 2024-09-24 20:17:11.906  ...             0',\n",
       " '2024-09-24T20:17:11.930473117Z stdout F ',\n",
       " '2024-09-24T20:17:11.930469197Z stdout F 4 2024-09-24 20:17:11.906  ...             0',\n",
       " '2024-09-24T20:17:11.930477527Z stdout F [5 rows x 4 columns]',\n",
       " '2024-09-24T20:18:11.951983346Z stdout F Getting arrow table file',\n",
       " '2024-09-24T20:18:12.284001989Z stdout F Inference time.  Displaying results after.',\n",
       " '2024-09-24T20:18:12.369996093Z stdout F                      time  ... anomaly.count',\n",
       " '2024-09-24T20:18:12.370047903Z stdout F 0 2024-09-24 20:18:12.353  ...             0',\n",
       " '2024-09-24T20:18:12.370059403Z stdout F 1 2024-09-24 20:18:12.353  ...             0',\n",
       " '2024-09-24T20:18:12.370069133Z stdout F 2 2024-09-24 20:18:12.353  ...             0',\n",
       " '2024-09-24T20:18:12.370077063Z stdout F 3 2024-09-24 20:18:12.353  ...             0',\n",
       " '2024-09-24T20:18:12.370084763Z stdout F 4 2024-09-24 20:18:12.353  ...             0',\n",
       " '2024-09-24T20:18:12.370103233Z stdout F [5 rows x 4 columns]',\n",
       " '2024-09-24T20:18:12.370093593Z stdout F ']"
      ]
     },
     "metadata": {},
     "output_type": "display_data"
    },
    {
     "data": {
      "text/html": [
       "<pre><code>2024-24-Sep 20:17:10 Getting the workspace continuoustutorial\n",
       "2024-24-Sep 20:17:10 Getting the pipeline continuouspipeline\n",
       "2024-24-Sep 20:17:11 Deploy the pipeline.\n",
       "2024-24-Sep 20:17:11 Deployment initiated for continuouspipeline. Please check pipeline status.\n",
       "2024-24-Sep 20:17:11 {'status': 'Running', 'details': [], 'engines': [{'ip': '10.28.2.58', 'name': 'engine-77cb97f568-lpgk4', 'status': 'Running', 'reason': None, 'details': [], 'pipeline_statuses': {'pipelines': [{'id': 'continuouspipeline', 'status': 'Running', 'version': '0bb33df8-532b-46f6-990f-5bc3e69dd04e'}]}, 'model_statuses': {'models': [{'model_version_id': 7, 'name': 'houseprice', 'sha': 'e22a0831aafd9917f3cc87a15ed267797f80e2afa12ad7d8810ca58f173b8cc6', 'status': 'Running', 'version': '5b7438ae-04f0-4398-8dae-3d7a0370e746'}]}}], 'engine_lbs': [{'ip': '10.28.2.57', 'name': 'engine-lb-6b59985857-tkx7c', 'status': 'Running', 'reason': None, 'details': []}], 'sidekicks': []}\n",
       "2024-24-Sep 20:17:11 Inference time.  Displaying results after.\n",
       "2024-24-Sep 20:17:11 Getting arrow table file\n",
       "2024-24-Sep 20:17:11                      time  ... anomaly.count\n",
       "2024-24-Sep 20:17:11 1 2024-09-24 20:17:11.906  ...             0\n",
       "2024-24-Sep 20:17:11 0 2024-09-24 20:17:11.906  ...             0\n",
       "2024-24-Sep 20:17:11 3 2024-09-24 20:17:11.906  ...             0\n",
       "2024-24-Sep 20:17:11 2 2024-09-24 20:17:11.906  ...             0\n",
       "2024-24-Sep 20:17:11 4 2024-09-24 20:17:11.906  ...             0\n",
       "2024-24-Sep 20:17:11 \n",
       "2024-24-Sep 20:17:11 [5 rows x 4 columns]\n",
       "2024-24-Sep 20:18:11 Getting arrow table file\n",
       "2024-24-Sep 20:18:12 Inference time.  Displaying results after.\n",
       "2024-24-Sep 20:18:12                      time  ... anomaly.count\n",
       "2024-24-Sep 20:18:12 0 2024-09-24 20:18:12.353  ...             0\n",
       "2024-24-Sep 20:18:12 1 2024-09-24 20:18:12.353  ...             0\n",
       "2024-24-Sep 20:18:12 2 2024-09-24 20:18:12.353  ...             0\n",
       "2024-24-Sep 20:18:12 3 2024-09-24 20:18:12.353  ...             0\n",
       "2024-24-Sep 20:18:12 4 2024-09-24 20:18:12.353  ...             0\n",
       "2024-24-Sep 20:18:12 [5 rows x 4 columns]\n",
       "2024-24-Sep 20:18:12 \n",
       "2024-24-Sep 20:19:12 Getting arrow table file\n",
       "2024-24-Sep 20:19:12 Inference time.  Displaying results after.\n",
       "2024-24-Sep 20:19:12                      time  ... anomaly.count\n",
       "2024-24-Sep 20:19:12 0 2024-09-24 20:19:12.748  ...             0\n",
       "2024-24-Sep 20:19:12 1 2024-09-24 20:19:12.748  ...             0\n",
       "2024-24-Sep 20:19:12 2 2024-09-24 20:19:12.748  ...             0\n",
       "2024-24-Sep 20:19:12 3 2024-09-24 20:19:12.748  ...             0\n",
       "2024-24-Sep 20:19:12 4 2024-09-24 20:19:12.748  ...             0\n",
       "2024-24-Sep 20:19:12 \n",
       "2024-24-Sep 20:19:12 [5 rows x 4 columns]</code></pre>"
      ],
      "text/plain": [
       "['2024-09-24T20:17:10.86879146Z stdout F Getting the workspace continuoustutorial',\n",
       " '2024-09-24T20:17:10.918647416Z stdout F Getting the pipeline continuouspipeline',\n",
       " '2024-09-24T20:17:11.76110169Z stdout F Deploy the pipeline.',\n",
       " '2024-09-24T20:17:11.76114773Z stdout F Deployment initiated for continuouspipeline. Please check pipeline status.',\n",
       " \"2024-09-24T20:17:11.76115947Z stdout F {'status': 'Running', 'details': [], 'engines': [{'ip': '10.28.2.58', 'name': 'engine-77cb97f568-lpgk4', 'status': 'Running', 'reason': None, 'details': [], 'pipeline_statuses': {'pipelines': [{'id': 'continuouspipeline', 'status': 'Running', 'version': '0bb33df8-532b-46f6-990f-5bc3e69dd04e'}]}, 'model_statuses': {'models': [{'model_version_id': 7, 'name': 'houseprice', 'sha': 'e22a0831aafd9917f3cc87a15ed267797f80e2afa12ad7d8810ca58f173b8cc6', 'status': 'Running', 'version': '5b7438ae-04f0-4398-8dae-3d7a0370e746'}]}}], 'engine_lbs': [{'ip': '10.28.2.57', 'name': 'engine-lb-6b59985857-tkx7c', 'status': 'Running', 'reason': None, 'details': []}], 'sidekicks': []}\",\n",
       " '2024-09-24T20:17:11.879440891Z stdout F Inference time.  Displaying results after.',\n",
       " '2024-09-24T20:17:11.76116851Z stdout F Getting arrow table file',\n",
       " '2024-09-24T20:17:11.930407817Z stdout F                      time  ... anomaly.count',\n",
       " '2024-09-24T20:17:11.930454137Z stdout F 1 2024-09-24 20:17:11.906  ...             0',\n",
       " '2024-09-24T20:17:11.930446327Z stdout F 0 2024-09-24 20:17:11.906  ...             0',\n",
       " '2024-09-24T20:17:11.930465247Z stdout F 3 2024-09-24 20:17:11.906  ...             0',\n",
       " '2024-09-24T20:17:11.930460097Z stdout F 2 2024-09-24 20:17:11.906  ...             0',\n",
       " '2024-09-24T20:17:11.930469197Z stdout F 4 2024-09-24 20:17:11.906  ...             0',\n",
       " '2024-09-24T20:17:11.930473117Z stdout F ',\n",
       " '2024-09-24T20:17:11.930477527Z stdout F [5 rows x 4 columns]',\n",
       " '2024-09-24T20:18:11.951983346Z stdout F Getting arrow table file',\n",
       " '2024-09-24T20:18:12.284001989Z stdout F Inference time.  Displaying results after.',\n",
       " '2024-09-24T20:18:12.369996093Z stdout F                      time  ... anomaly.count',\n",
       " '2024-09-24T20:18:12.370047903Z stdout F 0 2024-09-24 20:18:12.353  ...             0',\n",
       " '2024-09-24T20:18:12.370059403Z stdout F 1 2024-09-24 20:18:12.353  ...             0',\n",
       " '2024-09-24T20:18:12.370069133Z stdout F 2 2024-09-24 20:18:12.353  ...             0',\n",
       " '2024-09-24T20:18:12.370077063Z stdout F 3 2024-09-24 20:18:12.353  ...             0',\n",
       " '2024-09-24T20:18:12.370084763Z stdout F 4 2024-09-24 20:18:12.353  ...             0',\n",
       " '2024-09-24T20:18:12.370103233Z stdout F [5 rows x 4 columns]',\n",
       " '2024-09-24T20:18:12.370093593Z stdout F ',\n",
       " '2024-09-24T20:19:12.429861463Z stdout F Getting arrow table file',\n",
       " '2024-09-24T20:19:12.666226965Z stdout F Inference time.  Displaying results after.',\n",
       " '2024-09-24T20:19:12.768620646Z stdout F                      time  ... anomaly.count',\n",
       " '2024-09-24T20:19:12.768700546Z stdout F 0 2024-09-24 20:19:12.748  ...             0',\n",
       " '2024-09-24T20:19:12.768713437Z stdout F 1 2024-09-24 20:19:12.748  ...             0',\n",
       " '2024-09-24T20:19:12.768722206Z stdout F 2 2024-09-24 20:19:12.748  ...             0',\n",
       " '2024-09-24T20:19:12.768730846Z stdout F 3 2024-09-24 20:19:12.748  ...             0',\n",
       " '2024-09-24T20:19:12.768738877Z stdout F 4 2024-09-24 20:19:12.748  ...             0',\n",
       " '2024-09-24T20:19:12.768747917Z stdout F ',\n",
       " '2024-09-24T20:19:12.768758377Z stdout F [5 rows x 4 columns]']"
      ]
     },
     "metadata": {},
     "output_type": "display_data"
    },
    {
     "data": {
      "text/html": [
       "<pre><code>2024-24-Sep 20:17:10 Getting the workspace continuoustutorial\n",
       "2024-24-Sep 20:17:10 Getting the pipeline continuouspipeline\n",
       "2024-24-Sep 20:17:11 Deploy the pipeline.\n",
       "2024-24-Sep 20:17:11 Deployment initiated for continuouspipeline. Please check pipeline status.\n",
       "2024-24-Sep 20:17:11 {'status': 'Running', 'details': [], 'engines': [{'ip': '10.28.2.58', 'name': 'engine-77cb97f568-lpgk4', 'status': 'Running', 'reason': None, 'details': [], 'pipeline_statuses': {'pipelines': [{'id': 'continuouspipeline', 'status': 'Running', 'version': '0bb33df8-532b-46f6-990f-5bc3e69dd04e'}]}, 'model_statuses': {'models': [{'model_version_id': 7, 'name': 'houseprice', 'sha': 'e22a0831aafd9917f3cc87a15ed267797f80e2afa12ad7d8810ca58f173b8cc6', 'status': 'Running', 'version': '5b7438ae-04f0-4398-8dae-3d7a0370e746'}]}}], 'engine_lbs': [{'ip': '10.28.2.57', 'name': 'engine-lb-6b59985857-tkx7c', 'status': 'Running', 'reason': None, 'details': []}], 'sidekicks': []}\n",
       "2024-24-Sep 20:17:11 Inference time.  Displaying results after.\n",
       "2024-24-Sep 20:17:11 Getting arrow table file\n",
       "2024-24-Sep 20:17:11                      time  ... anomaly.count\n",
       "2024-24-Sep 20:17:11 1 2024-09-24 20:17:11.906  ...             0\n",
       "2024-24-Sep 20:17:11 0 2024-09-24 20:17:11.906  ...             0\n",
       "2024-24-Sep 20:17:11 3 2024-09-24 20:17:11.906  ...             0\n",
       "2024-24-Sep 20:17:11 2 2024-09-24 20:17:11.906  ...             0\n",
       "2024-24-Sep 20:17:11 4 2024-09-24 20:17:11.906  ...             0\n",
       "2024-24-Sep 20:17:11 \n",
       "2024-24-Sep 20:17:11 [5 rows x 4 columns]\n",
       "2024-24-Sep 20:18:11 Getting arrow table file\n",
       "2024-24-Sep 20:18:12 Inference time.  Displaying results after.\n",
       "2024-24-Sep 20:18:12                      time  ... anomaly.count\n",
       "2024-24-Sep 20:18:12 0 2024-09-24 20:18:12.353  ...             0\n",
       "2024-24-Sep 20:18:12 1 2024-09-24 20:18:12.353  ...             0\n",
       "2024-24-Sep 20:18:12 2 2024-09-24 20:18:12.353  ...             0\n",
       "2024-24-Sep 20:18:12 3 2024-09-24 20:18:12.353  ...             0\n",
       "2024-24-Sep 20:18:12 4 2024-09-24 20:18:12.353  ...             0\n",
       "2024-24-Sep 20:18:12 [5 rows x 4 columns]\n",
       "2024-24-Sep 20:18:12 \n",
       "2024-24-Sep 20:19:12 Getting arrow table file\n",
       "2024-24-Sep 20:19:12 Inference time.  Displaying results after.\n",
       "2024-24-Sep 20:19:12                      time  ... anomaly.count\n",
       "2024-24-Sep 20:19:12 0 2024-09-24 20:19:12.748  ...             0\n",
       "2024-24-Sep 20:19:12 1 2024-09-24 20:19:12.748  ...             0\n",
       "2024-24-Sep 20:19:12 2 2024-09-24 20:19:12.748  ...             0\n",
       "2024-24-Sep 20:19:12 3 2024-09-24 20:19:12.748  ...             0\n",
       "2024-24-Sep 20:19:12 4 2024-09-24 20:19:12.748  ...             0\n",
       "2024-24-Sep 20:19:12 \n",
       "2024-24-Sep 20:19:12 [5 rows x 4 columns]</code></pre>"
      ],
      "text/plain": [
       "['2024-09-24T20:17:10.86879146Z stdout F Getting the workspace continuoustutorial',\n",
       " '2024-09-24T20:17:10.918647416Z stdout F Getting the pipeline continuouspipeline',\n",
       " '2024-09-24T20:17:11.76110169Z stdout F Deploy the pipeline.',\n",
       " '2024-09-24T20:17:11.76114773Z stdout F Deployment initiated for continuouspipeline. Please check pipeline status.',\n",
       " \"2024-09-24T20:17:11.76115947Z stdout F {'status': 'Running', 'details': [], 'engines': [{'ip': '10.28.2.58', 'name': 'engine-77cb97f568-lpgk4', 'status': 'Running', 'reason': None, 'details': [], 'pipeline_statuses': {'pipelines': [{'id': 'continuouspipeline', 'status': 'Running', 'version': '0bb33df8-532b-46f6-990f-5bc3e69dd04e'}]}, 'model_statuses': {'models': [{'model_version_id': 7, 'name': 'houseprice', 'sha': 'e22a0831aafd9917f3cc87a15ed267797f80e2afa12ad7d8810ca58f173b8cc6', 'status': 'Running', 'version': '5b7438ae-04f0-4398-8dae-3d7a0370e746'}]}}], 'engine_lbs': [{'ip': '10.28.2.57', 'name': 'engine-lb-6b59985857-tkx7c', 'status': 'Running', 'reason': None, 'details': []}], 'sidekicks': []}\",\n",
       " '2024-09-24T20:17:11.879440891Z stdout F Inference time.  Displaying results after.',\n",
       " '2024-09-24T20:17:11.76116851Z stdout F Getting arrow table file',\n",
       " '2024-09-24T20:17:11.930407817Z stdout F                      time  ... anomaly.count',\n",
       " '2024-09-24T20:17:11.930454137Z stdout F 1 2024-09-24 20:17:11.906  ...             0',\n",
       " '2024-09-24T20:17:11.930446327Z stdout F 0 2024-09-24 20:17:11.906  ...             0',\n",
       " '2024-09-24T20:17:11.930465247Z stdout F 3 2024-09-24 20:17:11.906  ...             0',\n",
       " '2024-09-24T20:17:11.930460097Z stdout F 2 2024-09-24 20:17:11.906  ...             0',\n",
       " '2024-09-24T20:17:11.930469197Z stdout F 4 2024-09-24 20:17:11.906  ...             0',\n",
       " '2024-09-24T20:17:11.930473117Z stdout F ',\n",
       " '2024-09-24T20:17:11.930477527Z stdout F [5 rows x 4 columns]',\n",
       " '2024-09-24T20:18:11.951983346Z stdout F Getting arrow table file',\n",
       " '2024-09-24T20:18:12.284001989Z stdout F Inference time.  Displaying results after.',\n",
       " '2024-09-24T20:18:12.369996093Z stdout F                      time  ... anomaly.count',\n",
       " '2024-09-24T20:18:12.370047903Z stdout F 0 2024-09-24 20:18:12.353  ...             0',\n",
       " '2024-09-24T20:18:12.370059403Z stdout F 1 2024-09-24 20:18:12.353  ...             0',\n",
       " '2024-09-24T20:18:12.370069133Z stdout F 2 2024-09-24 20:18:12.353  ...             0',\n",
       " '2024-09-24T20:18:12.370077063Z stdout F 3 2024-09-24 20:18:12.353  ...             0',\n",
       " '2024-09-24T20:18:12.370084763Z stdout F 4 2024-09-24 20:18:12.353  ...             0',\n",
       " '2024-09-24T20:18:12.370103233Z stdout F [5 rows x 4 columns]',\n",
       " '2024-09-24T20:18:12.370093593Z stdout F ',\n",
       " '2024-09-24T20:19:12.429861463Z stdout F Getting arrow table file',\n",
       " '2024-09-24T20:19:12.666226965Z stdout F Inference time.  Displaying results after.',\n",
       " '2024-09-24T20:19:12.768620646Z stdout F                      time  ... anomaly.count',\n",
       " '2024-09-24T20:19:12.768700546Z stdout F 0 2024-09-24 20:19:12.748  ...             0',\n",
       " '2024-09-24T20:19:12.768713437Z stdout F 1 2024-09-24 20:19:12.748  ...             0',\n",
       " '2024-09-24T20:19:12.768722206Z stdout F 2 2024-09-24 20:19:12.748  ...             0',\n",
       " '2024-09-24T20:19:12.768730846Z stdout F 3 2024-09-24 20:19:12.748  ...             0',\n",
       " '2024-09-24T20:19:12.768738877Z stdout F 4 2024-09-24 20:19:12.748  ...             0',\n",
       " '2024-09-24T20:19:12.768747917Z stdout F ',\n",
       " '2024-09-24T20:19:12.768758377Z stdout F [5 rows x 4 columns]']"
      ]
     },
     "metadata": {},
     "output_type": "display_data"
    },
    {
     "data": {
      "text/html": [
       "<pre><code>2024-24-Sep 20:17:10 Getting the workspace continuoustutorial\n",
       "2024-24-Sep 20:17:10 Getting the pipeline continuouspipeline\n",
       "2024-24-Sep 20:17:11 Deploy the pipeline.\n",
       "2024-24-Sep 20:17:11 Deployment initiated for continuouspipeline. Please check pipeline status.\n",
       "2024-24-Sep 20:17:11 {'status': 'Running', 'details': [], 'engines': [{'ip': '10.28.2.58', 'name': 'engine-77cb97f568-lpgk4', 'status': 'Running', 'reason': None, 'details': [], 'pipeline_statuses': {'pipelines': [{'id': 'continuouspipeline', 'status': 'Running', 'version': '0bb33df8-532b-46f6-990f-5bc3e69dd04e'}]}, 'model_statuses': {'models': [{'model_version_id': 7, 'name': 'houseprice', 'sha': 'e22a0831aafd9917f3cc87a15ed267797f80e2afa12ad7d8810ca58f173b8cc6', 'status': 'Running', 'version': '5b7438ae-04f0-4398-8dae-3d7a0370e746'}]}}], 'engine_lbs': [{'ip': '10.28.2.57', 'name': 'engine-lb-6b59985857-tkx7c', 'status': 'Running', 'reason': None, 'details': []}], 'sidekicks': []}\n",
       "2024-24-Sep 20:17:11 Inference time.  Displaying results after.\n",
       "2024-24-Sep 20:17:11 Getting arrow table file\n",
       "2024-24-Sep 20:17:11                      time  ... anomaly.count\n",
       "2024-24-Sep 20:17:11 1 2024-09-24 20:17:11.906  ...             0\n",
       "2024-24-Sep 20:17:11 0 2024-09-24 20:17:11.906  ...             0\n",
       "2024-24-Sep 20:17:11 3 2024-09-24 20:17:11.906  ...             0\n",
       "2024-24-Sep 20:17:11 2 2024-09-24 20:17:11.906  ...             0\n",
       "2024-24-Sep 20:17:11 4 2024-09-24 20:17:11.906  ...             0\n",
       "2024-24-Sep 20:17:11 \n",
       "2024-24-Sep 20:17:11 [5 rows x 4 columns]\n",
       "2024-24-Sep 20:18:11 Getting arrow table file\n",
       "2024-24-Sep 20:18:12 Inference time.  Displaying results after.\n",
       "2024-24-Sep 20:18:12                      time  ... anomaly.count\n",
       "2024-24-Sep 20:18:12 0 2024-09-24 20:18:12.353  ...             0\n",
       "2024-24-Sep 20:18:12 1 2024-09-24 20:18:12.353  ...             0\n",
       "2024-24-Sep 20:18:12 2 2024-09-24 20:18:12.353  ...             0\n",
       "2024-24-Sep 20:18:12 3 2024-09-24 20:18:12.353  ...             0\n",
       "2024-24-Sep 20:18:12 4 2024-09-24 20:18:12.353  ...             0\n",
       "2024-24-Sep 20:18:12 [5 rows x 4 columns]\n",
       "2024-24-Sep 20:18:12 \n",
       "2024-24-Sep 20:19:12 Getting arrow table file\n",
       "2024-24-Sep 20:19:12 Inference time.  Displaying results after.\n",
       "2024-24-Sep 20:19:12                      time  ... anomaly.count\n",
       "2024-24-Sep 20:19:12 0 2024-09-24 20:19:12.748  ...             0\n",
       "2024-24-Sep 20:19:12 1 2024-09-24 20:19:12.748  ...             0\n",
       "2024-24-Sep 20:19:12 2 2024-09-24 20:19:12.748  ...             0\n",
       "2024-24-Sep 20:19:12 3 2024-09-24 20:19:12.748  ...             0\n",
       "2024-24-Sep 20:19:12 4 2024-09-24 20:19:12.748  ...             0\n",
       "2024-24-Sep 20:19:12 \n",
       "2024-24-Sep 20:19:12 [5 rows x 4 columns]</code></pre>"
      ],
      "text/plain": [
       "['2024-09-24T20:17:10.86879146Z stdout F Getting the workspace continuoustutorial',\n",
       " '2024-09-24T20:17:10.918647416Z stdout F Getting the pipeline continuouspipeline',\n",
       " '2024-09-24T20:17:11.76110169Z stdout F Deploy the pipeline.',\n",
       " '2024-09-24T20:17:11.76114773Z stdout F Deployment initiated for continuouspipeline. Please check pipeline status.',\n",
       " \"2024-09-24T20:17:11.76115947Z stdout F {'status': 'Running', 'details': [], 'engines': [{'ip': '10.28.2.58', 'name': 'engine-77cb97f568-lpgk4', 'status': 'Running', 'reason': None, 'details': [], 'pipeline_statuses': {'pipelines': [{'id': 'continuouspipeline', 'status': 'Running', 'version': '0bb33df8-532b-46f6-990f-5bc3e69dd04e'}]}, 'model_statuses': {'models': [{'model_version_id': 7, 'name': 'houseprice', 'sha': 'e22a0831aafd9917f3cc87a15ed267797f80e2afa12ad7d8810ca58f173b8cc6', 'status': 'Running', 'version': '5b7438ae-04f0-4398-8dae-3d7a0370e746'}]}}], 'engine_lbs': [{'ip': '10.28.2.57', 'name': 'engine-lb-6b59985857-tkx7c', 'status': 'Running', 'reason': None, 'details': []}], 'sidekicks': []}\",\n",
       " '2024-09-24T20:17:11.879440891Z stdout F Inference time.  Displaying results after.',\n",
       " '2024-09-24T20:17:11.76116851Z stdout F Getting arrow table file',\n",
       " '2024-09-24T20:17:11.930407817Z stdout F                      time  ... anomaly.count',\n",
       " '2024-09-24T20:17:11.930454137Z stdout F 1 2024-09-24 20:17:11.906  ...             0',\n",
       " '2024-09-24T20:17:11.930446327Z stdout F 0 2024-09-24 20:17:11.906  ...             0',\n",
       " '2024-09-24T20:17:11.930465247Z stdout F 3 2024-09-24 20:17:11.906  ...             0',\n",
       " '2024-09-24T20:17:11.930460097Z stdout F 2 2024-09-24 20:17:11.906  ...             0',\n",
       " '2024-09-24T20:17:11.930469197Z stdout F 4 2024-09-24 20:17:11.906  ...             0',\n",
       " '2024-09-24T20:17:11.930473117Z stdout F ',\n",
       " '2024-09-24T20:17:11.930477527Z stdout F [5 rows x 4 columns]',\n",
       " '2024-09-24T20:18:11.951983346Z stdout F Getting arrow table file',\n",
       " '2024-09-24T20:18:12.284001989Z stdout F Inference time.  Displaying results after.',\n",
       " '2024-09-24T20:18:12.369996093Z stdout F                      time  ... anomaly.count',\n",
       " '2024-09-24T20:18:12.370047903Z stdout F 0 2024-09-24 20:18:12.353  ...             0',\n",
       " '2024-09-24T20:18:12.370059403Z stdout F 1 2024-09-24 20:18:12.353  ...             0',\n",
       " '2024-09-24T20:18:12.370069133Z stdout F 2 2024-09-24 20:18:12.353  ...             0',\n",
       " '2024-09-24T20:18:12.370077063Z stdout F 3 2024-09-24 20:18:12.353  ...             0',\n",
       " '2024-09-24T20:18:12.370084763Z stdout F 4 2024-09-24 20:18:12.353  ...             0',\n",
       " '2024-09-24T20:18:12.370103233Z stdout F [5 rows x 4 columns]',\n",
       " '2024-09-24T20:18:12.370093593Z stdout F ',\n",
       " '2024-09-24T20:19:12.429861463Z stdout F Getting arrow table file',\n",
       " '2024-09-24T20:19:12.666226965Z stdout F Inference time.  Displaying results after.',\n",
       " '2024-09-24T20:19:12.768620646Z stdout F                      time  ... anomaly.count',\n",
       " '2024-09-24T20:19:12.768700546Z stdout F 0 2024-09-24 20:19:12.748  ...             0',\n",
       " '2024-09-24T20:19:12.768713437Z stdout F 1 2024-09-24 20:19:12.748  ...             0',\n",
       " '2024-09-24T20:19:12.768722206Z stdout F 2 2024-09-24 20:19:12.748  ...             0',\n",
       " '2024-09-24T20:19:12.768730846Z stdout F 3 2024-09-24 20:19:12.748  ...             0',\n",
       " '2024-09-24T20:19:12.768738877Z stdout F 4 2024-09-24 20:19:12.748  ...             0',\n",
       " '2024-09-24T20:19:12.768747917Z stdout F ',\n",
       " '2024-09-24T20:19:12.768758377Z stdout F [5 rows x 4 columns]']"
      ]
     },
     "metadata": {},
     "output_type": "display_data"
    },
    {
     "data": {
      "text/html": [
       "<pre><code>2024-24-Sep 20:17:10 Getting the workspace continuoustutorial\n",
       "2024-24-Sep 20:17:10 Getting the pipeline continuouspipeline\n",
       "2024-24-Sep 20:17:11 Deploy the pipeline.\n",
       "2024-24-Sep 20:17:11 Deployment initiated for continuouspipeline. Please check pipeline status.\n",
       "2024-24-Sep 20:17:11 {'status': 'Running', 'details': [], 'engines': [{'ip': '10.28.2.58', 'name': 'engine-77cb97f568-lpgk4', 'status': 'Running', 'reason': None, 'details': [], 'pipeline_statuses': {'pipelines': [{'id': 'continuouspipeline', 'status': 'Running', 'version': '0bb33df8-532b-46f6-990f-5bc3e69dd04e'}]}, 'model_statuses': {'models': [{'model_version_id': 7, 'name': 'houseprice', 'sha': 'e22a0831aafd9917f3cc87a15ed267797f80e2afa12ad7d8810ca58f173b8cc6', 'status': 'Running', 'version': '5b7438ae-04f0-4398-8dae-3d7a0370e746'}]}}], 'engine_lbs': [{'ip': '10.28.2.57', 'name': 'engine-lb-6b59985857-tkx7c', 'status': 'Running', 'reason': None, 'details': []}], 'sidekicks': []}\n",
       "2024-24-Sep 20:17:11 Inference time.  Displaying results after.\n",
       "2024-24-Sep 20:17:11 Getting arrow table file\n",
       "2024-24-Sep 20:17:11                      time  ... anomaly.count\n",
       "2024-24-Sep 20:17:11 1 2024-09-24 20:17:11.906  ...             0\n",
       "2024-24-Sep 20:17:11 0 2024-09-24 20:17:11.906  ...             0\n",
       "2024-24-Sep 20:17:11 2 2024-09-24 20:17:11.906  ...             0\n",
       "2024-24-Sep 20:17:11 3 2024-09-24 20:17:11.906  ...             0\n",
       "2024-24-Sep 20:17:11 4 2024-09-24 20:17:11.906  ...             0\n",
       "2024-24-Sep 20:17:11 \n",
       "2024-24-Sep 20:17:11 [5 rows x 4 columns]\n",
       "2024-24-Sep 20:18:11 Getting arrow table file\n",
       "2024-24-Sep 20:18:12 Inference time.  Displaying results after.\n",
       "2024-24-Sep 20:18:12                      time  ... anomaly.count\n",
       "2024-24-Sep 20:18:12 0 2024-09-24 20:18:12.353  ...             0\n",
       "2024-24-Sep 20:18:12 1 2024-09-24 20:18:12.353  ...             0\n",
       "2024-24-Sep 20:18:12 2 2024-09-24 20:18:12.353  ...             0\n",
       "2024-24-Sep 20:18:12 3 2024-09-24 20:18:12.353  ...             0\n",
       "2024-24-Sep 20:18:12 4 2024-09-24 20:18:12.353  ...             0\n",
       "2024-24-Sep 20:18:12 \n",
       "2024-24-Sep 20:18:12 [5 rows x 4 columns]\n",
       "2024-24-Sep 20:19:12 Getting arrow table file\n",
       "2024-24-Sep 20:19:12 Inference time.  Displaying results after.\n",
       "2024-24-Sep 20:19:12                      time  ... anomaly.count\n",
       "2024-24-Sep 20:19:12 0 2024-09-24 20:19:12.748  ...             0\n",
       "2024-24-Sep 20:19:12 1 2024-09-24 20:19:12.748  ...             0\n",
       "2024-24-Sep 20:19:12 2 2024-09-24 20:19:12.748  ...             0\n",
       "2024-24-Sep 20:19:12 3 2024-09-24 20:19:12.748  ...             0\n",
       "2024-24-Sep 20:19:12 4 2024-09-24 20:19:12.748  ...             0\n",
       "2024-24-Sep 20:19:12 \n",
       "2024-24-Sep 20:19:12 [5 rows x 4 columns]\n",
       "2024-24-Sep 20:20:12 Getting arrow table file\n",
       "2024-24-Sep 20:20:13 Inference time.  Displaying results after.\n",
       "2024-24-Sep 20:20:13                      time  ... anomaly.count\n",
       "2024-24-Sep 20:20:13 0 2024-09-24 20:20:13.119  ...             0\n",
       "2024-24-Sep 20:20:13 1 2024-09-24 20:20:13.119  ...             0\n",
       "2024-24-Sep 20:20:13 2 2024-09-24 20:20:13.119  ...             0\n",
       "2024-24-Sep 20:20:13 3 2024-09-24 20:20:13.119  ...             0\n",
       "2024-24-Sep 20:20:13 4 2024-09-24 20:20:13.119  ...             0\n",
       "2024-24-Sep 20:20:13 \n",
       "2024-24-Sep 20:20:13 [5 rows x 4 columns]</code></pre>"
      ],
      "text/plain": [
       "['2024-09-24T20:17:10.86879146Z stdout F Getting the workspace continuoustutorial',\n",
       " '2024-09-24T20:17:10.918647416Z stdout F Getting the pipeline continuouspipeline',\n",
       " '2024-09-24T20:17:11.76110169Z stdout F Deploy the pipeline.',\n",
       " '2024-09-24T20:17:11.76114773Z stdout F Deployment initiated for continuouspipeline. Please check pipeline status.',\n",
       " \"2024-09-24T20:17:11.76115947Z stdout F {'status': 'Running', 'details': [], 'engines': [{'ip': '10.28.2.58', 'name': 'engine-77cb97f568-lpgk4', 'status': 'Running', 'reason': None, 'details': [], 'pipeline_statuses': {'pipelines': [{'id': 'continuouspipeline', 'status': 'Running', 'version': '0bb33df8-532b-46f6-990f-5bc3e69dd04e'}]}, 'model_statuses': {'models': [{'model_version_id': 7, 'name': 'houseprice', 'sha': 'e22a0831aafd9917f3cc87a15ed267797f80e2afa12ad7d8810ca58f173b8cc6', 'status': 'Running', 'version': '5b7438ae-04f0-4398-8dae-3d7a0370e746'}]}}], 'engine_lbs': [{'ip': '10.28.2.57', 'name': 'engine-lb-6b59985857-tkx7c', 'status': 'Running', 'reason': None, 'details': []}], 'sidekicks': []}\",\n",
       " '2024-09-24T20:17:11.879440891Z stdout F Inference time.  Displaying results after.',\n",
       " '2024-09-24T20:17:11.76116851Z stdout F Getting arrow table file',\n",
       " '2024-09-24T20:17:11.930407817Z stdout F                      time  ... anomaly.count',\n",
       " '2024-09-24T20:17:11.930454137Z stdout F 1 2024-09-24 20:17:11.906  ...             0',\n",
       " '2024-09-24T20:17:11.930446327Z stdout F 0 2024-09-24 20:17:11.906  ...             0',\n",
       " '2024-09-24T20:17:11.930460097Z stdout F 2 2024-09-24 20:17:11.906  ...             0',\n",
       " '2024-09-24T20:17:11.930465247Z stdout F 3 2024-09-24 20:17:11.906  ...             0',\n",
       " '2024-09-24T20:17:11.930469197Z stdout F 4 2024-09-24 20:17:11.906  ...             0',\n",
       " '2024-09-24T20:17:11.930473117Z stdout F ',\n",
       " '2024-09-24T20:17:11.930477527Z stdout F [5 rows x 4 columns]',\n",
       " '2024-09-24T20:18:11.951983346Z stdout F Getting arrow table file',\n",
       " '2024-09-24T20:18:12.284001989Z stdout F Inference time.  Displaying results after.',\n",
       " '2024-09-24T20:18:12.369996093Z stdout F                      time  ... anomaly.count',\n",
       " '2024-09-24T20:18:12.370047903Z stdout F 0 2024-09-24 20:18:12.353  ...             0',\n",
       " '2024-09-24T20:18:12.370059403Z stdout F 1 2024-09-24 20:18:12.353  ...             0',\n",
       " '2024-09-24T20:18:12.370069133Z stdout F 2 2024-09-24 20:18:12.353  ...             0',\n",
       " '2024-09-24T20:18:12.370077063Z stdout F 3 2024-09-24 20:18:12.353  ...             0',\n",
       " '2024-09-24T20:18:12.370084763Z stdout F 4 2024-09-24 20:18:12.353  ...             0',\n",
       " '2024-09-24T20:18:12.370093593Z stdout F ',\n",
       " '2024-09-24T20:18:12.370103233Z stdout F [5 rows x 4 columns]',\n",
       " '2024-09-24T20:19:12.429861463Z stdout F Getting arrow table file',\n",
       " '2024-09-24T20:19:12.666226965Z stdout F Inference time.  Displaying results after.',\n",
       " '2024-09-24T20:19:12.768620646Z stdout F                      time  ... anomaly.count',\n",
       " '2024-09-24T20:19:12.768700546Z stdout F 0 2024-09-24 20:19:12.748  ...             0',\n",
       " '2024-09-24T20:19:12.768713437Z stdout F 1 2024-09-24 20:19:12.748  ...             0',\n",
       " '2024-09-24T20:19:12.768722206Z stdout F 2 2024-09-24 20:19:12.748  ...             0',\n",
       " '2024-09-24T20:19:12.768730846Z stdout F 3 2024-09-24 20:19:12.748  ...             0',\n",
       " '2024-09-24T20:19:12.768738877Z stdout F 4 2024-09-24 20:19:12.748  ...             0',\n",
       " '2024-09-24T20:19:12.768747917Z stdout F ',\n",
       " '2024-09-24T20:19:12.768758377Z stdout F [5 rows x 4 columns]',\n",
       " '2024-09-24T20:20:12.816141828Z stdout F Getting arrow table file',\n",
       " '2024-09-24T20:20:13.049633599Z stdout F Inference time.  Displaying results after.',\n",
       " '2024-09-24T20:20:13.136137823Z stdout F                      time  ... anomaly.count',\n",
       " '2024-09-24T20:20:13.136203553Z stdout F 0 2024-09-24 20:20:13.119  ...             0',\n",
       " '2024-09-24T20:20:13.136212942Z stdout F 1 2024-09-24 20:20:13.119  ...             0',\n",
       " '2024-09-24T20:20:13.136219102Z stdout F 2 2024-09-24 20:20:13.119  ...             0',\n",
       " '2024-09-24T20:20:13.136224953Z stdout F 3 2024-09-24 20:20:13.119  ...             0',\n",
       " '2024-09-24T20:20:13.136231002Z stdout F 4 2024-09-24 20:20:13.119  ...             0',\n",
       " '2024-09-24T20:20:13.136236853Z stdout F ',\n",
       " '2024-09-24T20:20:13.136243793Z stdout F [5 rows x 4 columns]']"
      ]
     },
     "metadata": {},
     "output_type": "display_data"
    },
    {
     "data": {
      "text/html": [
       "<pre><code>2024-24-Sep 20:17:10 Getting the workspace continuoustutorial\n",
       "2024-24-Sep 20:17:10 Getting the pipeline continuouspipeline\n",
       "2024-24-Sep 20:17:11 Deploy the pipeline.\n",
       "2024-24-Sep 20:17:11 Deployment initiated for continuouspipeline. Please check pipeline status.\n",
       "2024-24-Sep 20:17:11 {'status': 'Running', 'details': [], 'engines': [{'ip': '10.28.2.58', 'name': 'engine-77cb97f568-lpgk4', 'status': 'Running', 'reason': None, 'details': [], 'pipeline_statuses': {'pipelines': [{'id': 'continuouspipeline', 'status': 'Running', 'version': '0bb33df8-532b-46f6-990f-5bc3e69dd04e'}]}, 'model_statuses': {'models': [{'model_version_id': 7, 'name': 'houseprice', 'sha': 'e22a0831aafd9917f3cc87a15ed267797f80e2afa12ad7d8810ca58f173b8cc6', 'status': 'Running', 'version': '5b7438ae-04f0-4398-8dae-3d7a0370e746'}]}}], 'engine_lbs': [{'ip': '10.28.2.57', 'name': 'engine-lb-6b59985857-tkx7c', 'status': 'Running', 'reason': None, 'details': []}], 'sidekicks': []}\n",
       "2024-24-Sep 20:17:11 Inference time.  Displaying results after.\n",
       "2024-24-Sep 20:17:11 Getting arrow table file\n",
       "2024-24-Sep 20:17:11                      time  ... anomaly.count\n",
       "2024-24-Sep 20:17:11 1 2024-09-24 20:17:11.906  ...             0\n",
       "2024-24-Sep 20:17:11 0 2024-09-24 20:17:11.906  ...             0\n",
       "2024-24-Sep 20:17:11 2 2024-09-24 20:17:11.906  ...             0\n",
       "2024-24-Sep 20:17:11 3 2024-09-24 20:17:11.906  ...             0\n",
       "2024-24-Sep 20:17:11 4 2024-09-24 20:17:11.906  ...             0\n",
       "2024-24-Sep 20:17:11 \n",
       "2024-24-Sep 20:17:11 [5 rows x 4 columns]\n",
       "2024-24-Sep 20:18:11 Getting arrow table file\n",
       "2024-24-Sep 20:18:12 Inference time.  Displaying results after.\n",
       "2024-24-Sep 20:18:12                      time  ... anomaly.count\n",
       "2024-24-Sep 20:18:12 0 2024-09-24 20:18:12.353  ...             0\n",
       "2024-24-Sep 20:18:12 1 2024-09-24 20:18:12.353  ...             0\n",
       "2024-24-Sep 20:18:12 2 2024-09-24 20:18:12.353  ...             0\n",
       "2024-24-Sep 20:18:12 3 2024-09-24 20:18:12.353  ...             0\n",
       "2024-24-Sep 20:18:12 4 2024-09-24 20:18:12.353  ...             0\n",
       "2024-24-Sep 20:18:12 \n",
       "2024-24-Sep 20:18:12 [5 rows x 4 columns]\n",
       "2024-24-Sep 20:19:12 Getting arrow table file\n",
       "2024-24-Sep 20:19:12 Inference time.  Displaying results after.\n",
       "2024-24-Sep 20:19:12                      time  ... anomaly.count\n",
       "2024-24-Sep 20:19:12 0 2024-09-24 20:19:12.748  ...             0\n",
       "2024-24-Sep 20:19:12 1 2024-09-24 20:19:12.748  ...             0\n",
       "2024-24-Sep 20:19:12 2 2024-09-24 20:19:12.748  ...             0\n",
       "2024-24-Sep 20:19:12 3 2024-09-24 20:19:12.748  ...             0\n",
       "2024-24-Sep 20:19:12 4 2024-09-24 20:19:12.748  ...             0\n",
       "2024-24-Sep 20:19:12 \n",
       "2024-24-Sep 20:19:12 [5 rows x 4 columns]\n",
       "2024-24-Sep 20:20:12 Getting arrow table file\n",
       "2024-24-Sep 20:20:13 Inference time.  Displaying results after.\n",
       "2024-24-Sep 20:20:13                      time  ... anomaly.count\n",
       "2024-24-Sep 20:20:13 0 2024-09-24 20:20:13.119  ...             0\n",
       "2024-24-Sep 20:20:13 1 2024-09-24 20:20:13.119  ...             0\n",
       "2024-24-Sep 20:20:13 2 2024-09-24 20:20:13.119  ...             0\n",
       "2024-24-Sep 20:20:13 3 2024-09-24 20:20:13.119  ...             0\n",
       "2024-24-Sep 20:20:13 4 2024-09-24 20:20:13.119  ...             0\n",
       "2024-24-Sep 20:20:13 \n",
       "2024-24-Sep 20:20:13 [5 rows x 4 columns]</code></pre>"
      ],
      "text/plain": [
       "['2024-09-24T20:17:10.86879146Z stdout F Getting the workspace continuoustutorial',\n",
       " '2024-09-24T20:17:10.918647416Z stdout F Getting the pipeline continuouspipeline',\n",
       " '2024-09-24T20:17:11.76110169Z stdout F Deploy the pipeline.',\n",
       " '2024-09-24T20:17:11.76114773Z stdout F Deployment initiated for continuouspipeline. Please check pipeline status.',\n",
       " \"2024-09-24T20:17:11.76115947Z stdout F {'status': 'Running', 'details': [], 'engines': [{'ip': '10.28.2.58', 'name': 'engine-77cb97f568-lpgk4', 'status': 'Running', 'reason': None, 'details': [], 'pipeline_statuses': {'pipelines': [{'id': 'continuouspipeline', 'status': 'Running', 'version': '0bb33df8-532b-46f6-990f-5bc3e69dd04e'}]}, 'model_statuses': {'models': [{'model_version_id': 7, 'name': 'houseprice', 'sha': 'e22a0831aafd9917f3cc87a15ed267797f80e2afa12ad7d8810ca58f173b8cc6', 'status': 'Running', 'version': '5b7438ae-04f0-4398-8dae-3d7a0370e746'}]}}], 'engine_lbs': [{'ip': '10.28.2.57', 'name': 'engine-lb-6b59985857-tkx7c', 'status': 'Running', 'reason': None, 'details': []}], 'sidekicks': []}\",\n",
       " '2024-09-24T20:17:11.879440891Z stdout F Inference time.  Displaying results after.',\n",
       " '2024-09-24T20:17:11.76116851Z stdout F Getting arrow table file',\n",
       " '2024-09-24T20:17:11.930407817Z stdout F                      time  ... anomaly.count',\n",
       " '2024-09-24T20:17:11.930454137Z stdout F 1 2024-09-24 20:17:11.906  ...             0',\n",
       " '2024-09-24T20:17:11.930446327Z stdout F 0 2024-09-24 20:17:11.906  ...             0',\n",
       " '2024-09-24T20:17:11.930460097Z stdout F 2 2024-09-24 20:17:11.906  ...             0',\n",
       " '2024-09-24T20:17:11.930465247Z stdout F 3 2024-09-24 20:17:11.906  ...             0',\n",
       " '2024-09-24T20:17:11.930469197Z stdout F 4 2024-09-24 20:17:11.906  ...             0',\n",
       " '2024-09-24T20:17:11.930473117Z stdout F ',\n",
       " '2024-09-24T20:17:11.930477527Z stdout F [5 rows x 4 columns]',\n",
       " '2024-09-24T20:18:11.951983346Z stdout F Getting arrow table file',\n",
       " '2024-09-24T20:18:12.284001989Z stdout F Inference time.  Displaying results after.',\n",
       " '2024-09-24T20:18:12.369996093Z stdout F                      time  ... anomaly.count',\n",
       " '2024-09-24T20:18:12.370047903Z stdout F 0 2024-09-24 20:18:12.353  ...             0',\n",
       " '2024-09-24T20:18:12.370059403Z stdout F 1 2024-09-24 20:18:12.353  ...             0',\n",
       " '2024-09-24T20:18:12.370069133Z stdout F 2 2024-09-24 20:18:12.353  ...             0',\n",
       " '2024-09-24T20:18:12.370077063Z stdout F 3 2024-09-24 20:18:12.353  ...             0',\n",
       " '2024-09-24T20:18:12.370084763Z stdout F 4 2024-09-24 20:18:12.353  ...             0',\n",
       " '2024-09-24T20:18:12.370093593Z stdout F ',\n",
       " '2024-09-24T20:18:12.370103233Z stdout F [5 rows x 4 columns]',\n",
       " '2024-09-24T20:19:12.429861463Z stdout F Getting arrow table file',\n",
       " '2024-09-24T20:19:12.666226965Z stdout F Inference time.  Displaying results after.',\n",
       " '2024-09-24T20:19:12.768620646Z stdout F                      time  ... anomaly.count',\n",
       " '2024-09-24T20:19:12.768700546Z stdout F 0 2024-09-24 20:19:12.748  ...             0',\n",
       " '2024-09-24T20:19:12.768713437Z stdout F 1 2024-09-24 20:19:12.748  ...             0',\n",
       " '2024-09-24T20:19:12.768722206Z stdout F 2 2024-09-24 20:19:12.748  ...             0',\n",
       " '2024-09-24T20:19:12.768730846Z stdout F 3 2024-09-24 20:19:12.748  ...             0',\n",
       " '2024-09-24T20:19:12.768738877Z stdout F 4 2024-09-24 20:19:12.748  ...             0',\n",
       " '2024-09-24T20:19:12.768747917Z stdout F ',\n",
       " '2024-09-24T20:19:12.768758377Z stdout F [5 rows x 4 columns]',\n",
       " '2024-09-24T20:20:12.816141828Z stdout F Getting arrow table file',\n",
       " '2024-09-24T20:20:13.049633599Z stdout F Inference time.  Displaying results after.',\n",
       " '2024-09-24T20:20:13.136137823Z stdout F                      time  ... anomaly.count',\n",
       " '2024-09-24T20:20:13.136203553Z stdout F 0 2024-09-24 20:20:13.119  ...             0',\n",
       " '2024-09-24T20:20:13.136212942Z stdout F 1 2024-09-24 20:20:13.119  ...             0',\n",
       " '2024-09-24T20:20:13.136219102Z stdout F 2 2024-09-24 20:20:13.119  ...             0',\n",
       " '2024-09-24T20:20:13.136224953Z stdout F 3 2024-09-24 20:20:13.119  ...             0',\n",
       " '2024-09-24T20:20:13.136231002Z stdout F 4 2024-09-24 20:20:13.119  ...             0',\n",
       " '2024-09-24T20:20:13.136236853Z stdout F ',\n",
       " '2024-09-24T20:20:13.136243793Z stdout F [5 rows x 4 columns]']"
      ]
     },
     "metadata": {},
     "output_type": "display_data"
    }
   ],
   "source": [
    "for x in range (10):  \n",
    "    time.sleep(20)\n",
    "    display(task_continuously.last_runs()[0].logs())"
   ]
  },
  {
   "cell_type": "markdown",
   "id": "bba8cdc9-e8a8-4656-957a-97c9311ffd53",
   "metadata": {},
   "source": [
    "### Kill Task\n",
    "\n",
    "With our example complete, we will kill the task and undeploy the pipeline."
   ]
  },
  {
   "cell_type": "code",
   "execution_count": 180,
   "id": "0336dd2f-09cb-43e4-9fba-445b301344a5",
   "metadata": {},
   "outputs": [
    {
     "data": {
      "text/plain": [
       "<ArbexStatus.PENDING_KILL: 'pending_kill'>"
      ]
     },
     "execution_count": 180,
     "metadata": {},
     "output_type": "execute_result"
    }
   ],
   "source": [
    "task_continuously.kill()"
   ]
  },
  {
   "cell_type": "code",
   "execution_count": 181,
   "id": "f3084671-9f4b-4d0e-80cd-065a42805223",
   "metadata": {},
   "outputs": [
    {
     "name": "stdout",
     "output_type": "stream",
     "text": [
      "Waiting for undeployment - this will take up to 45s .................................... ok\n"
     ]
    },
    {
     "data": {
      "text/html": [
       "<table><tr><th>name</th> <td>continuouspipeline</td></tr><tr><th>created</th> <td>2024-09-24 17:11:25.717188+00:00</td></tr><tr><th>last_updated</th> <td>2024-09-24 17:57:40.189304+00:00</td></tr><tr><th>deployed</th> <td>False</td></tr><tr><th>workspace_id</th> <td>9</td></tr><tr><th>workspace_name</th> <td>continuoustutorial</td></tr><tr><th>arch</th> <td>x86</td></tr><tr><th>accel</th> <td>none</td></tr><tr><th>tags</th> <td></td></tr><tr><th>versions</th> <td>ba43237a-94ca-4375-a259-484775e9ed46, fd88bf40-1305-491f-9c93-7c27fc49e754, bf8e8426-d3ae-4f8d-a549-3ebd7bb30ae8, 6be2d1d9-719f-42ff-8cd6-d253ad924b7f, 759bd273-6b20-4cc2-87c1-7c48b81686f4, 085f7dd4-72fb-4a16-928b-bf3fb71b0baa, 8ae1c528-d714-4060-af99-98dbf0a93dd0</td></tr><tr><th>steps</th> <td>houseprice</td></tr><tr><th>published</th> <td>False</td></tr></table>"
      ],
      "text/plain": [
       "{'name': 'continuouspipeline', 'create_time': datetime.datetime(2024, 9, 24, 17, 11, 25, 717188, tzinfo=tzutc()), 'definition': \"[{'ModelInference': {'models': [{'name': 'houseprice', 'version': '5b7438ae-04f0-4398-8dae-3d7a0370e746', 'sha': 'e22a0831aafd9917f3cc87a15ed267797f80e2afa12ad7d8810ca58f173b8cc6'}]}}]\"}"
      ]
     },
     "execution_count": 181,
     "metadata": {},
     "output_type": "execute_result"
    }
   ],
   "source": [
    "pipeline.undeploy()"
   ]
  }
 ],
 "metadata": {
  "kernelspec": {
   "display_name": "Python 3 (ipykernel)",
   "language": "python",
   "name": "python3"
  },
  "language_info": {
   "codemirror_mode": {
    "name": "ipython",
    "version": 3
   },
   "file_extension": ".py",
   "mimetype": "text/x-python",
   "name": "python",
   "nbconvert_exporter": "python",
   "pygments_lexer": "ipython3",
   "version": "3.9.13"
  }
 },
 "nbformat": 4,
 "nbformat_minor": 5
}
