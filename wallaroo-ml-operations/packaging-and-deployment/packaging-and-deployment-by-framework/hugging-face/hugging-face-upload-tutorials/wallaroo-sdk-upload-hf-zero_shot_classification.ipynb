{
 "cells": [
  {
   "cell_type": "markdown",
   "id": "31d3240f",
   "metadata": {},
   "source": [
    "This tutorial can be downloaded as part of the [Wallaroo Tutorials repository](https://github.com/WallarooLabs/Wallaroo_Tutorials/blob/wallaroo2025.1_tutorials/wallaroo-ml-operations/packaging-and-deployment/packaging-and-deployment-by-framework/hugging-face/hugging-face-upload-tutorials).\n",
    "\n",
    "## Wallaroo Model Upload via the Wallaroo SDK: Hugging Face Zero Shot Classification\n",
    "\n",
    "The following tutorial demonstrates how to upload a Hugging Face Zero Shot model to a Wallaroo instance.\n",
    "\n",
    "### Tutorial Goals\n",
    "\n",
    "Demonstrate the following:\n",
    "\n",
    "* Upload a Hugging Face Zero Shot Model to a Wallaroo instance.\n",
    "* Create a pipeline and add the model as a pipeline step.\n",
    "* Perform a sample inference.\n",
    "\n",
    "### Prerequisites\n",
    "\n",
    "* Wallaroo Version 2023.2.1 or above instance.\n",
    "\n",
    "### References\n",
    "\n",
    "* [Wallaroo MLOps API Essentials Guide: Model Upload and Registrations](https://docs.wallaroo.ai/wallaroo-developer-guides/wallaroo-api-guide/wallaroo-mlops-api-essential-guide/wallaroo-mlops-api-essentials-guide-model-uploads/)\n",
    "* [Wallaroo API Connection Guide](https://docs.wallaroo.ai/wallaroo-developer-guides/wallaroo-api-guide/wallaroo-mlops-connection-guide/)\n",
    "* [DNS Integration Guide](https://docs.wallaroo.ai/wallaroo-operations-guide/wallaroo-configuration/wallaroo-dns-guide/)"
   ]
  },
  {
   "cell_type": "markdown",
   "id": "1c33e888-28a8-48cc-b418-2d95ad206d98",
   "metadata": {},
   "source": [
    "## Tutorial Steps\n",
    "\n",
    "### Import Libraries\n",
    "\n",
    "The first step is to import the libraries we'll be using.  These are included by default in the Wallaroo instance's JupyterHub service."
   ]
  },
  {
   "cell_type": "code",
   "execution_count": 1,
   "id": "af8228fc-00ce-4770-a863-8985633605b3",
   "metadata": {},
   "outputs": [],
   "source": [
    "import json\n",
    "import os\n",
    "\n",
    "import wallaroo\n",
    "from wallaroo.pipeline   import Pipeline\n",
    "from wallaroo.deployment_config import DeploymentConfigBuilder\n",
    "from wallaroo.framework import Framework\n",
    "from wallaroo.object import EntityNotFoundError\n",
    "\n",
    "\n",
    "\n",
    "import pyarrow as pa\n",
    "import numpy as np\n",
    "import pandas as pd"
   ]
  },
  {
   "cell_type": "markdown",
   "id": "80b84817",
   "metadata": {},
   "source": [
    "### Open a Connection to Wallaroo\n",
    "\n",
    "The next step is connect to Wallaroo through the Wallaroo client.  The Python library is included in the Wallaroo install and available through the Jupyter Hub interface provided with your Wallaroo environment.\n",
    "\n",
    "This is accomplished using the `wallaroo.Client()` command, which provides a URL to grant the SDK permission to your specific Wallaroo environment.  When displayed, enter the URL into a browser and confirm permissions.  Store the connection into a variable that can be referenced later.\n",
    "\n",
    "If logging into the Wallaroo instance through the internal JupyterHub service, use `wl = wallaroo.Client()`.  For more details on logging in through Wallaroo, see the [Wallaroo SDK Essentials Guide: Client Connection](https://docs.wallaroo.ai/wallaroo-developer-guides/wallaroo-sdk-guides/wallaroo-sdk-essentials-guide/wallaroo-sdk-essentials-client/)."
   ]
  },
  {
   "cell_type": "code",
   "execution_count": 2,
   "id": "4c058c29",
   "metadata": {},
   "outputs": [],
   "source": [
    "wl = wallaroo.Client()"
   ]
  },
  {
   "cell_type": "markdown",
   "id": "37c58147",
   "metadata": {},
   "source": [
    "### Set Variables and Helper Functions\n",
    "\n",
    "We'll set the name of our workspace, pipeline, models and files.  Workspace names must be unique across the Wallaroo workspace.  For this, we'll add in a randomly generated 4 characters to the workspace name to prevent collisions with other users' workspaces.  If running this tutorial, we recommend hard coding the workspace name so it will function in the same workspace each time it's run.\n",
    "\n"
   ]
  },
  {
   "cell_type": "code",
   "execution_count": 3,
   "id": "c0e44b9e-48e8-4e8d-93aa-4f39f1a4735a",
   "metadata": {},
   "outputs": [],
   "source": [
    "workspace_name = f'hf-zero-shot-classification'\n",
    "pipeline_name = f'hf-zero-shot-classification'\n",
    "\n",
    "model_name = 'hf-zero-shot-classification'\n",
    "model_file_name = './models/model-auto-conversion_hugging-face_dummy-pipelines_zero-shot-classification-pipeline.zip'\n"
   ]
  },
  {
   "cell_type": "markdown",
   "id": "a7995326-04aa-48cc-8877-136978f9436f",
   "metadata": {},
   "source": [
    "### Create Workspace and Pipeline\n",
    "\n",
    "We will now create the Wallaroo workspace to store our model and set it as the current workspace.  Future commands will default to this workspace for pipeline creation, model uploads, etc.  We'll create our Wallaroo pipeline to deploy our model."
   ]
  },
  {
   "cell_type": "code",
   "execution_count": 4,
   "id": "40102ece-7ad2-4231-a432-365bd6461134",
   "metadata": {},
   "outputs": [],
   "source": [
    "workspace = wl.get_workspace(name=workspace_name, create_if_not_exist=True)\n",
    "wl.set_current_workspace(workspace)\n",
    "\n",
    "pipeline = wl.build_pipeline(pipeline_name)"
   ]
  },
  {
   "cell_type": "markdown",
   "id": "b08a8480-293f-405b-a58f-b8e852dbe2ad",
   "metadata": {},
   "source": [
    "### Configure Data Schemas\n",
    "\n",
    "The following parameters are required for Hugging Face models.  Note that while some fields are considered as **optional** for the `upload_model` method, they are required for proper uploading of a Hugging Face model to Wallaroo.\n",
    "\n",
    "| Parameter | Type | Description |\n",
    "|---|---|---|\n",
    "|`name` | `string` (*Required*) | The name of the model.  Model names are unique per workspace.  Models that are uploaded with the same name are assigned as a new **version** of the model. |\n",
    "|`path` | `string` (*Required*) | The path to the model file being uploaded. \n",
    "|`framework` |`string` (*Upload Method Optional, Hugging Face model Required*) | Set as the framework. |\n",
    "|`input_schema` | `pyarrow.lib.Schema` (*Upload Method Optional, Hugging Face model Required*) | The input schema in Apache Arrow schema format. |\n",
    "|`output_schema` | `pyarrow.lib.Schema` (*Upload Method Optional, Hugging Face model Required*) | The output schema in Apache Arrow schema format. |\n",
    "| `convert_wait` | `bool` (*Upload Method Optional, Hugging Face model Optional*) (*Default: True*) | <ul><li>**True**: Waits in the script for the model conversion completion.</li><li>**False**:  Proceeds with the script without waiting for the model conversion process to display complete. |\n",
    "\n",
    "The input and output schemas will be configured for the data inputs and outputs.  More information on the available inputs under the [official 🤗 Hugging Face source code](https://github.com/huggingface/transformers/blob/v4.28.1/src/transformers/pipelines/zero_shot_classification.py#L172)."
   ]
  },
  {
   "cell_type": "code",
   "execution_count": 5,
   "id": "ef115ab9-9c73-4c28-aad8-e915a92a746b",
   "metadata": {},
   "outputs": [],
   "source": [
    "input_schema = pa.schema([\n",
    "    pa.field('inputs', pa.string()), # required\n",
    "    pa.field('candidate_labels', pa.list_(pa.string(), list_size=2)), # required\n",
    "    pa.field('hypothesis_template', pa.string()), # optional\n",
    "    pa.field('multi_label', pa.bool_()), # optional\n",
    "])\n",
    "\n",
    "output_schema = pa.schema([\n",
    "    pa.field('sequence', pa.string()),\n",
    "    pa.field('scores', pa.list_(pa.float64(), list_size=2)), # same as number of candidate labels, list_size can be skipped by may result in slightly worse performance\n",
    "    pa.field('labels', pa.list_(pa.string(), list_size=2)), # same as number of candidate labels, list_size can be skipped by may result in slightly worse performance\n",
    "])"
   ]
  },
  {
   "cell_type": "markdown",
   "id": "3e7835d5",
   "metadata": {},
   "source": [
    "### Upload Model\n",
    "\n",
    "The model will be uploaded with the framework set as `Framework.HUGGING_FACE_ZERO_SHOT_CLASSIFICATION`."
   ]
  },
  {
   "cell_type": "code",
   "execution_count": 6,
   "id": "953e0857-45ec-4603-b0be-3bba13df5db8",
   "metadata": {
    "tags": []
   },
   "outputs": [
    {
     "name": "stdout",
     "output_type": "stream",
     "text": [
      "Waiting for model loading - this will take up to 10.0min.\n",
      "Model is pending loading to a container runtime..\n",
      "Model is attempting loading to a container runtime............................successful\n",
      "\n",
      "Ready\n"
     ]
    },
    {
     "data": {
      "text/html": [
       "<table>\n",
       "        <tr>\n",
       "          <td>Name</td>\n",
       "          <td>hf-zero-shot-classification</td>\n",
       "        </tr>\n",
       "        <tr>\n",
       "          <td>Version</td>\n",
       "          <td>61cee832-934d-46c0-a436-89b629234e56</td>\n",
       "        </tr>\n",
       "        <tr>\n",
       "          <td>File Name</td>\n",
       "          <td>model-auto-conversion_hugging-face_dummy-pipelines_zero-shot-classification-pipeline.zip</td>\n",
       "        </tr>\n",
       "        <tr>\n",
       "          <td>SHA</td>\n",
       "          <td>3dcc14dd925489d4f0a3960e90a7ab5917ab685ce955beca8924aa7bb9a69398</td>\n",
       "        </tr>\n",
       "        <tr>\n",
       "          <td>Status</td>\n",
       "          <td>ready</td>\n",
       "        </tr>\n",
       "        <tr>\n",
       "          <td>Image Path</td>\n",
       "          <td>proxy.replicated.com/proxy/wallaroo/ghcr.io/wallaroolabs/mac-deploy:v2024.2.0-main-5434</td>\n",
       "        </tr>\n",
       "        <tr>\n",
       "          <td>Architecture</td>\n",
       "          <td>x86</td>\n",
       "        </tr>\n",
       "        <tr>\n",
       "          <td>Acceleration</td>\n",
       "          <td>none</td>\n",
       "        </tr>\n",
       "        <tr>\n",
       "          <td>Updated At</td>\n",
       "          <td>2024-22-Jul 21:29:41</td>\n",
       "        </tr>\n",
       "        <tr>\n",
       "          <td>Workspace id</td>\n",
       "          <td>159</td>\n",
       "        </tr>\n",
       "        <tr>\n",
       "          <td>Workspace name</td>\n",
       "          <td>hf-zero-shot-classification</td>\n",
       "        </tr>\n",
       "      </table>"
      ],
      "text/plain": [
       "{'name': 'hf-zero-shot-classification', 'version': '61cee832-934d-46c0-a436-89b629234e56', 'file_name': 'model-auto-conversion_hugging-face_dummy-pipelines_zero-shot-classification-pipeline.zip', 'image_path': 'proxy.replicated.com/proxy/wallaroo/ghcr.io/wallaroolabs/mac-deploy:v2024.2.0-main-5434', 'arch': 'x86', 'accel': 'none', 'last_update_time': datetime.datetime(2024, 7, 22, 21, 29, 41, 604885, tzinfo=tzutc())}"
      ]
     },
     "execution_count": 6,
     "metadata": {},
     "output_type": "execute_result"
    }
   ],
   "source": [
    "framework=Framework.HUGGING_FACE_ZERO_SHOT_CLASSIFICATION\n",
    "\n",
    "model = wl.upload_model(model_name,\n",
    "                        model_file_name,\n",
    "                        framework=framework,\n",
    "                        input_schema=input_schema,\n",
    "                        output_schema=output_schema,\n",
    "                        convert_wait=True)\n",
    "model"
   ]
  },
  {
   "cell_type": "code",
   "execution_count": 7,
   "id": "95ab380e",
   "metadata": {},
   "outputs": [
    {
     "data": {
      "text/plain": [
       "'flight'"
      ]
     },
     "execution_count": 7,
     "metadata": {},
     "output_type": "execute_result"
    }
   ],
   "source": [
    "model.config().runtime()"
   ]
  },
  {
   "cell_type": "markdown",
   "id": "bdbb0930-8246-4731-84f9-eb1e0e1d9091",
   "metadata": {},
   "source": [
    "### Deploy Pipeline\n",
    "\n",
    "The model is uploaded and ready for use.  We'll add it as a step in our pipeline, then deploy the pipeline.  For this example we're allocated 0.25 cpu and 4 Gi RAM to the pipeline through the pipeline's deployment configuration."
   ]
  },
  {
   "cell_type": "code",
   "execution_count": 8,
   "id": "c1ac85a4-1978-4fb9-91c4-a4d728ed04af",
   "metadata": {},
   "outputs": [],
   "source": [
    "deployment_config = DeploymentConfigBuilder() \\\n",
    "    .cpus(0.25).memory('1Gi') \\\n",
    "    .build()"
   ]
  },
  {
   "cell_type": "code",
   "execution_count": null,
   "id": "ea455f46-6f8b-4d5f-a195-74634c0c886b",
   "metadata": {
    "tags": []
   },
   "outputs": [],
   "source": [
    "pipeline = wl.build_pipeline(pipeline_name)\n",
    "# clear the pipeline if used previously\n",
    "pipeline.undeploy()\n",
    "pipeline.clear()\n",
    "pipeline.add_model_step(model)\n",
    "\n",
    "pipeline.deploy(deployment_config=deployment_config)\n",
    "pipeline.status()"
   ]
  },
  {
   "cell_type": "code",
   "execution_count": 10,
   "id": "b48f8085-2630-463b-9be8-5b5d005b873e",
   "metadata": {},
   "outputs": [
    {
     "data": {
      "text/plain": [
       "{'status': 'Running',\n",
       " 'details': [],\n",
       " 'engines': [{'ip': '10.4.2.25',\n",
       "   'name': 'engine-75bcf84fd5-rkwct',\n",
       "   'status': 'Running',\n",
       "   'reason': None,\n",
       "   'details': [],\n",
       "   'pipeline_statuses': {'pipelines': [{'id': 'hf-zero-shot-classification',\n",
       "      'status': 'Running',\n",
       "      'version': '21e08518-66a1-4e51-b001-96e410fcd117'}]},\n",
       "   'model_statuses': {'models': [{'name': 'hf-zero-shot-classification',\n",
       "      'sha': '3dcc14dd925489d4f0a3960e90a7ab5917ab685ce955beca8924aa7bb9a69398',\n",
       "      'status': 'Running',\n",
       "      'version': '61cee832-934d-46c0-a436-89b629234e56'}]}}],\n",
       " 'engine_lbs': [{'ip': '10.4.2.24',\n",
       "   'name': 'engine-lb-75cf576f7f-89xfs',\n",
       "   'status': 'Running',\n",
       "   'reason': None,\n",
       "   'details': []}],\n",
       " 'sidekicks': [{'ip': '10.4.2.23',\n",
       "   'name': 'engine-sidekick-hf-zero-shot-classification-267-b6dfb9784-qhnft',\n",
       "   'status': 'Running',\n",
       "   'reason': None,\n",
       "   'details': [],\n",
       "   'statuses': '\\n'}]}"
      ]
     },
     "execution_count": 10,
     "metadata": {},
     "output_type": "execute_result"
    }
   ],
   "source": [
    "pipeline.status()"
   ]
  },
  {
   "cell_type": "markdown",
   "id": "8f305561-adc4-4362-9b83-547815a73fa5",
   "metadata": {
    "toc-hr-collapsed": true
   },
   "source": [
    "### Run Inference\n",
    "\n",
    "A sample inference will be run.  First the pandas DataFrame used for the inference is created, then the inference run through the pipeline's `infer` method."
   ]
  },
  {
   "cell_type": "code",
   "execution_count": 11,
   "id": "b6d85172-8168-4f02-8442-426331ccdcd6",
   "metadata": {
    "tags": []
   },
   "outputs": [
    {
     "data": {
      "text/html": [
       "<div>\n",
       "<style scoped>\n",
       "    .dataframe tbody tr th:only-of-type {\n",
       "        vertical-align: middle;\n",
       "    }\n",
       "\n",
       "    .dataframe tbody tr th {\n",
       "        vertical-align: top;\n",
       "    }\n",
       "\n",
       "    .dataframe thead th {\n",
       "        text-align: right;\n",
       "    }\n",
       "</style>\n",
       "<table border=\"1\" class=\"dataframe\">\n",
       "  <thead>\n",
       "    <tr style=\"text-align: right;\">\n",
       "      <th></th>\n",
       "      <th>inputs</th>\n",
       "      <th>candidate_labels</th>\n",
       "      <th>hypothesis_template</th>\n",
       "      <th>multi_label</th>\n",
       "    </tr>\n",
       "  </thead>\n",
       "  <tbody>\n",
       "    <tr>\n",
       "      <th>0</th>\n",
       "      <td>this is a test</td>\n",
       "      <td>[english, german]</td>\n",
       "      <td>This example is {}.</td>\n",
       "      <td>False</td>\n",
       "    </tr>\n",
       "    <tr>\n",
       "      <th>1</th>\n",
       "      <td>this is another test</td>\n",
       "      <td>[english, german]</td>\n",
       "      <td>This example is {}.</td>\n",
       "      <td>False</td>\n",
       "    </tr>\n",
       "  </tbody>\n",
       "</table>\n",
       "</div>"
      ],
      "text/plain": [
       "                 inputs   candidate_labels  hypothesis_template  multi_label\n",
       "0        this is a test  [english, german]  This example is {}.        False\n",
       "1  this is another test  [english, german]  This example is {}.        False"
      ]
     },
     "execution_count": 11,
     "metadata": {},
     "output_type": "execute_result"
    }
   ],
   "source": [
    "input_data = {\n",
    "        \"inputs\": [\"this is a test\", \"this is another test\"], # required\n",
    "        \"candidate_labels\": [[\"english\", \"german\"], [\"english\", \"german\"]], # optional: using the defaults, similar to not passing this parameter\n",
    "        \"hypothesis_template\": [\"This example is {}.\", \"This example is {}.\"], # optional: using the defaults, similar to not passing this parameter\n",
    "        \"multi_label\": [False, False], # optional: using the defaults, similar to not passing this parameter\n",
    "}\n",
    "dataframe = pd.DataFrame(input_data)\n",
    "dataframe"
   ]
  },
  {
   "cell_type": "code",
   "execution_count": 12,
   "id": "fa078ffd-859e-4706-8729-9e7d78f8bf60",
   "metadata": {},
   "outputs": [
    {
     "name": "stdout",
     "output_type": "stream",
     "text": [
      "CPU times: user 2 µs, sys: 0 ns, total: 2 µs\n",
      "Wall time: 5.96 µs\n"
     ]
    },
    {
     "data": {
      "text/html": [
       "<div>\n",
       "<style scoped>\n",
       "    .dataframe tbody tr th:only-of-type {\n",
       "        vertical-align: middle;\n",
       "    }\n",
       "\n",
       "    .dataframe tbody tr th {\n",
       "        vertical-align: top;\n",
       "    }\n",
       "\n",
       "    .dataframe thead th {\n",
       "        text-align: right;\n",
       "    }\n",
       "</style>\n",
       "<table border=\"1\" class=\"dataframe\">\n",
       "  <thead>\n",
       "    <tr style=\"text-align: right;\">\n",
       "      <th></th>\n",
       "      <th>time</th>\n",
       "      <th>in.candidate_labels</th>\n",
       "      <th>in.hypothesis_template</th>\n",
       "      <th>in.inputs</th>\n",
       "      <th>in.multi_label</th>\n",
       "      <th>out.labels</th>\n",
       "      <th>out.scores</th>\n",
       "      <th>out.sequence</th>\n",
       "      <th>anomaly.count</th>\n",
       "    </tr>\n",
       "  </thead>\n",
       "  <tbody>\n",
       "    <tr>\n",
       "      <th>0</th>\n",
       "      <td>2024-07-22 21:32:22.191</td>\n",
       "      <td>[english, german]</td>\n",
       "      <td>This example is {}.</td>\n",
       "      <td>this is a test</td>\n",
       "      <td>False</td>\n",
       "      <td>[english, german]</td>\n",
       "      <td>[0.5040545463562012, 0.49594542384147644]</td>\n",
       "      <td>this is a test</td>\n",
       "      <td>0</td>\n",
       "    </tr>\n",
       "    <tr>\n",
       "      <th>1</th>\n",
       "      <td>2024-07-22 21:32:22.191</td>\n",
       "      <td>[english, german]</td>\n",
       "      <td>This example is {}.</td>\n",
       "      <td>this is another test</td>\n",
       "      <td>False</td>\n",
       "      <td>[english, german]</td>\n",
       "      <td>[0.5037839412689209, 0.4962160289287567]</td>\n",
       "      <td>this is another test</td>\n",
       "      <td>0</td>\n",
       "    </tr>\n",
       "  </tbody>\n",
       "</table>\n",
       "</div>"
      ],
      "text/plain": [
       "                     time in.candidate_labels in.hypothesis_template  \\\n",
       "0 2024-07-22 21:32:22.191   [english, german]    This example is {}.   \n",
       "1 2024-07-22 21:32:22.191   [english, german]    This example is {}.   \n",
       "\n",
       "              in.inputs  in.multi_label         out.labels  \\\n",
       "0        this is a test           False  [english, german]   \n",
       "1  this is another test           False  [english, german]   \n",
       "\n",
       "                                  out.scores          out.sequence  \\\n",
       "0  [0.5040545463562012, 0.49594542384147644]        this is a test   \n",
       "1   [0.5037839412689209, 0.4962160289287567]  this is another test   \n",
       "\n",
       "   anomaly.count  \n",
       "0              0  \n",
       "1              0  "
      ]
     },
     "execution_count": 12,
     "metadata": {},
     "output_type": "execute_result"
    }
   ],
   "source": [
    "%time\n",
    "pipeline.infer(dataframe)"
   ]
  },
  {
   "cell_type": "markdown",
   "id": "10efccd7-fd4a-4628-907c-e5d84397ea1c",
   "metadata": {},
   "source": [
    "### Undeploy Pipelines\n",
    "\n",
    "With the tutorial complete, the pipeline is undeployed to return the resources back to the cluster."
   ]
  },
  {
   "cell_type": "code",
   "execution_count": 13,
   "id": "34d053bc-b225-45e0-8e84-f45c30122f89",
   "metadata": {},
   "outputs": [
    {
     "name": "stdout",
     "output_type": "stream",
     "text": [
      "Waiting for undeployment - this will take up to 45s ................................... ok\n"
     ]
    },
    {
     "data": {
      "text/html": [
       "<table><tr><th>name</th> <td>hf-zero-shot-classification</td></tr><tr><th>created</th> <td>2024-07-22 21:27:08.293923+00:00</td></tr><tr><th>last_updated</th> <td>2024-07-22 21:29:41.848511+00:00</td></tr><tr><th>deployed</th> <td>False</td></tr><tr><th>workspace_id</th> <td>159</td></tr><tr><th>workspace_name</th> <td>hf-zero-shot-classification</td></tr><tr><th>arch</th> <td>x86</td></tr><tr><th>accel</th> <td>none</td></tr><tr><th>tags</th> <td></td></tr><tr><th>versions</th> <td>21e08518-66a1-4e51-b001-96e410fcd117, 3a15209e-4e20-46a0-b439-123923ab2a68, 6a510f49-a1ac-4fa5-9a0a-1f827ffcbeef</td></tr><tr><th>steps</th> <td>hf-zero-shot-classification</td></tr><tr><th>published</th> <td>False</td></tr></table>"
      ],
      "text/plain": [
       "{'name': 'hf-zero-shot-classification', 'create_time': datetime.datetime(2024, 7, 22, 21, 27, 8, 293923, tzinfo=tzutc()), 'definition': \"[{'ModelInference': {'models': [{'name': 'hf-zero-shot-classification', 'version': '61cee832-934d-46c0-a436-89b629234e56', 'sha': '3dcc14dd925489d4f0a3960e90a7ab5917ab685ce955beca8924aa7bb9a69398'}]}}]\"}"
      ]
     },
     "execution_count": 13,
     "metadata": {},
     "output_type": "execute_result"
    }
   ],
   "source": [
    "pipeline.undeploy()"
   ]
  }
 ],
 "metadata": {
  "kernelspec": {
   "display_name": "wallaroosdk2024.3",
   "language": "python",
   "name": "python3"
  },
  "language_info": {
   "codemirror_mode": {
    "name": "ipython",
    "version": 3
   },
   "file_extension": ".py",
   "mimetype": "text/x-python",
   "name": "python",
   "nbconvert_exporter": "python",
   "pygments_lexer": "ipython3",
   "version": "3.8.20"
  }
 },
 "nbformat": 4,
 "nbformat_minor": 5
}
