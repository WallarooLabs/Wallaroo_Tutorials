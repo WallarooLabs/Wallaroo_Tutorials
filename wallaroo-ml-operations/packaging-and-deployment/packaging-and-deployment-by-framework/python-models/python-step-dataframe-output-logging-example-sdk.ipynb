{
 "cells": [
  {
   "cell_type": "markdown",
   "metadata": {},
   "source": [
    "This tutorial can be downloaded as part of the [Wallaroo Tutorials repository](https://github.com/WallarooLabs/Wallaroo_Tutorials/blob/wallaroo2025.1_tutorials/wallaroo-ml-operations/packaging-and-deployment/packaging-and-deployment-by-framework/python-models).\n",
    "\n",
    "## Python Model Upload to Wallaroo\n",
    "\n",
    "Python scripts can be deployed to Wallaroo as Python Models.  These are treated like other models, and are used for:\n",
    "\n",
    "* ML Models: Models written entirely in Python script.\n",
    "* Data Formatting:  Typically preprocess or post process modules that shape incoming data into what a ML model expects, or receives data output by a ML model and changes the data for other processes to accept.\n",
    "\n",
    "Models are added to Wallaroo pipelines as pipeline steps, with the data from the previous step submitted to the next one.  Python steps require the entry method `wallaroo_json`.  These methods should be structured to receive and send pandas DataFrames as the inputs and outputs.\n",
    "\n",
    "This allows inference requests to a Wallaroo pipeline to receive pandas DataFrames or Apache Arrow tables, and return the same for consistent results.\n",
    "\n",
    "This tutorial will:\n",
    "\n",
    "* Create a Wallaroo workspace and pipeline.\n",
    "* Upload the sample Python model and ONNX model.\n",
    "* Demonstrate the outputs of the ONNX model to an inference request.\n",
    "* Demonstrate the functionality of the Python model in reshaping data after an inference request.\n",
    "* Use both the ONNX model and the Python model together as pipeline steps to perform an inference request and export the data for use.\n",
    "\n",
    "### Prerequisites\n",
    "\n",
    "* Wallaroo Version 2023.2.1 or above instance.\n",
    "\n",
    "### References\n",
    "\n",
    "* [Wallaroo SDK Essentials Guide: Pipeline Management](https://docs.wallaroo.ai/wallaroo-developer-guides/wallaroo-sdk-guides/wallaroo-sdk-essentials-guide/wallaroo-sdk-essentials-pipelines/wallaroo-sdk-essentials-pipeline/)\n",
    "* [Python Models](https://docs.wallaroo.ai/wallaroo-developer-guides/wallaroo-sdk-guides/wallaroo-sdk-essentials-guide/wallaroo-sdk-model-uploads/wallaroo-sdk-model-upload-python/)"
   ]
  },
  {
   "cell_type": "markdown",
   "metadata": {},
   "source": [
    "## Tutorial Steps\n",
    "\n",
    "### Import Libraries\n",
    "\n",
    "We'll start with importing the libraries we need for the tutorial.  The main libraries used are:\n",
    "\n",
    "* Wallaroo: To connect with the Wallaroo instance and perform the MLOps commands.\n",
    "* `pyarrow`: Used for formatting the data.\n",
    "* `pandas`: Used for pandas DataFrame tables."
   ]
  },
  {
   "cell_type": "code",
   "execution_count": 1,
   "metadata": {},
   "outputs": [],
   "source": [
    "import wallaroo\n",
    "from wallaroo.object import EntityNotFoundError\n",
    "from wallaroo.framework import Framework\n",
    "from wallaroo.deployment_config import DeploymentConfigBuilder\n",
    "\n",
    "import datetime\n",
    "\n",
    "import pandas as pd\n",
    "\n",
    "import pyarrow as pa"
   ]
  },
  {
   "cell_type": "markdown",
   "metadata": {},
   "source": [
    "### Connect to the Wallaroo Instance through the User Interface\n",
    "\n",
    "The next step is to connect to Wallaroo through the Wallaroo client.  The Python library is included in the Wallaroo install and available through the Jupyter Hub interface provided with your Wallaroo environment.\n",
    "\n",
    "This is accomplished using the `wallaroo.Client()` command, which provides a URL to grant the SDK permission to your specific Wallaroo environment.  When displayed, enter the URL into a browser and confirm permissions.  Store the connection into a variable that can be referenced later.\n",
    "\n",
    "If logging into the Wallaroo instance through the internal JupyterHub service, use `wl = wallaroo.Client()`.  For more information on Wallaroo Client settings, see the [Client Connection guide](https://docs.wallaroo.ai/wallaroo-developer-guides/wallaroo-sdk-guides/wallaroo-sdk-essentials-guide/wallaroo-sdk-essentials-client/)."
   ]
  },
  {
   "cell_type": "code",
   "execution_count": 2,
   "metadata": {},
   "outputs": [],
   "source": [
    "# Login through local Wallaroo instance\n",
    "\n",
    "wl = wallaroo.Client()"
   ]
  },
  {
   "cell_type": "markdown",
   "metadata": {},
   "source": [
    "### Set Variables\n",
    "\n",
    "We'll set the name of our workspace, pipeline, models and files.  Workspace names must be unique across the Wallaroo workspace.  For this, we'll add in a randomly generated 4 characters to the workspace name to prevent collisions with other users' workspaces.  If running this tutorial, we recommend hard coding the workspace name so it will function in the same workspace each time it's run.\n",
    "\n"
   ]
  },
  {
   "cell_type": "code",
   "execution_count": 3,
   "metadata": {},
   "outputs": [],
   "source": [
    "workspace_name = f'python-demo'\n",
    "pipeline_name = f'python-step-demo-pipeline'\n",
    "\n",
    "onnx_model_name = 'house-price-sample'\n",
    "onnx_model_file_name = './models/house_price_keras.onnx'\n",
    "python_model_name = 'python-step'\n",
    "python_model_file_name = './models/step.zip'"
   ]
  },
  {
   "cell_type": "markdown",
   "metadata": {},
   "source": [
    "### Create a New Workspace\n",
    "\n",
    "For our tutorial, we'll create the workspace, set it as the current workspace, then the pipeline we'll add our models to.\n",
    "\n",
    "#### Create New Workspace References\n",
    "\n",
    "* [Wallaroo SDK Essentials Guide: Workspace Management](https://docs.wallaroo.ai/wallaroo-developer-guides/wallaroo-sdk-guides/wallaroo-sdk-essentials-guide/wallaroo-sdk-essentials-workspace/)\n",
    "* [Wallaroo SDK Essentials Guide: Pipeline Management](https://docs.wallaroo.ai/wallaroo-developer-guides/wallaroo-sdk-guides/wallaroo-sdk-essentials-guide/wallaroo-sdk-essentials-pipelines/wallaroo-sdk-essentials-pipeline/)"
   ]
  },
  {
   "cell_type": "code",
   "execution_count": 4,
   "metadata": {},
   "outputs": [
    {
     "data": {
      "text/html": [
       "<table><tr><th>name</th> <td>python-step-demo-pipeline</td></tr><tr><th>created</th> <td>2024-07-25 19:56:50.572311+00:00</td></tr><tr><th>last_updated</th> <td>2024-07-25 20:05:44.952816+00:00</td></tr><tr><th>deployed</th> <td>(none)</td></tr><tr><th>workspace_id</th> <td>30</td></tr><tr><th>workspace_name</th> <td>python-demo</td></tr><tr><th>arch</th> <td>None</td></tr><tr><th>accel</th> <td>None</td></tr><tr><th>tags</th> <td></td></tr><tr><th>versions</th> <td>9738f3df-3cd4-474a-b402-b9dc0349cd68, b47d1d07-ab29-48aa-9931-bc1ad0c2c5bd</td></tr><tr><th>steps</th> <td></td></tr><tr><th>published</th> <td>False</td></tr></table>"
      ],
      "text/plain": [
       "{'name': 'python-step-demo-pipeline', 'create_time': datetime.datetime(2024, 7, 25, 19, 56, 50, 572311, tzinfo=tzutc()), 'definition': '[]'}"
      ]
     },
     "execution_count": 4,
     "metadata": {},
     "output_type": "execute_result"
    }
   ],
   "source": [
    "workspace = wl.get_workspace(name=workspace_name, create_if_not_exist=True)\n",
    "\n",
    "wl.set_current_workspace(workspace)\n",
    "\n",
    "pipeline = wl.build_pipeline(pipeline_name)\n",
    "pipeline"
   ]
  },
  {
   "cell_type": "markdown",
   "metadata": {},
   "source": [
    "### Model Descriptions\n",
    "\n",
    "We have two models we'll be using.\n",
    "\n",
    "* `./models/house_price_keras.onnx`:  A ML model trained to forecast hour prices based on inputs.  This forecast is stored in the column `dense_2`.\n",
    "* `./models/step.py`: A Python script that accepts the data from the house price model, and reformats the output. We'll be using it as a post-processing step.\n",
    "\n",
    "For the Python step, it contains the method `wallaroo_json` as the entry point used by Wallaroo when deployed as a pipeline step.  Our sample script has the following:\n",
    "\n",
    "```python\n",
    "# take a dataframe output of the house price model, and reformat the `dense_2`\n",
    "# column as `output`\n",
    "def wallaroo_json(data: pd.DataFrame):\n",
    "    print(data)\n",
    "    return [{\"output\": [data[\"dense_2\"].to_list()[0][0]]}]\n",
    "```\n",
    "\n",
    "As seen from the description, all those function will do it take the DataFrame output of the house price model, and output a DataFrame replacing the first element in the list from column `dense_2` with `output`."
   ]
  },
  {
   "cell_type": "markdown",
   "metadata": {},
   "source": [
    "### Upload Models\n",
    "\n",
    "Both of these models will be uploaded to our current workspace using the method `upload_model(name, path, framework).configure(framework, input_schema, output_schema)`.\n",
    "\n",
    "* For `./models/house_price_keras.onnx`, we will specify it as `Framework.ONNX`.  We do not need to specify the input and output schemas.\n",
    "* For `./models/step.py`, we will set the input and output schemas in the required `pyarrow.lib.Schema` format.\n",
    "\n",
    "#### Upload Model References\n",
    "\n",
    "* [Wallaroo SDK Essentials Guide: Model Uploads and Registrations: ONNX](https://docs.wallaroo.ai/wallaroo-developer-guides/wallaroo-sdk-guides/wallaroo-sdk-essentials-guide/wallaroo-sdk-model-uploads/wallaroo-sdk-model-upload-onnx/)\n",
    "* [Wallaroo SDK Essentials Guide: Model Uploads and Registrations: Python Models](https://docs.wallaroo.ai/wallaroo-developer-guides/wallaroo-sdk-guides/wallaroo-sdk-essentials-guide/wallaroo-sdk-model-uploads/wallaroo-sdk-model-upload-python/)"
   ]
  },
  {
   "cell_type": "code",
   "execution_count": 5,
   "metadata": {},
   "outputs": [],
   "source": [
    "house_price_model = (wl.upload_model(onnx_model_name, \n",
    "                                    onnx_model_file_name, \n",
    "                                    framework=Framework.ONNX)\n",
    "                                    .configure('onnx', \n",
    "                                    tensor_fields=[\"tensor\"]\n",
    "                                    )\n",
    "                    )"
   ]
  },
  {
   "cell_type": "markdown",
   "metadata": {},
   "source": [
    "### Pipeline Steps\n",
    "\n",
    "With our models uploaded, we'll perform different configurations of the pipeline steps.\n",
    "\n",
    "First we'll add just the house price model to the pipeline, deploy it, and submit a sample inference."
   ]
  },
  {
   "cell_type": "code",
   "execution_count": 6,
   "metadata": {},
   "outputs": [],
   "source": [
    "# used to restrict the resources needed for this demonstration\n",
    "deployment_config = DeploymentConfigBuilder() \\\n",
    "    .cpus(0.25).memory('1Gi') \\\n",
    "    .build()"
   ]
  },
  {
   "cell_type": "code",
   "execution_count": 7,
   "metadata": {},
   "outputs": [
    {
     "data": {
      "text/html": [
       "<table><tr><th>name</th> <td>python-step-demo-pipeline</td></tr><tr><th>created</th> <td>2024-07-25 19:56:50.572311+00:00</td></tr><tr><th>last_updated</th> <td>2024-07-25 20:05:44.952816+00:00</td></tr><tr><th>deployed</th> <td>(none)</td></tr><tr><th>workspace_id</th> <td>30</td></tr><tr><th>workspace_name</th> <td>python-demo</td></tr><tr><th>arch</th> <td>None</td></tr><tr><th>accel</th> <td>None</td></tr><tr><th>tags</th> <td></td></tr><tr><th>versions</th> <td>9738f3df-3cd4-474a-b402-b9dc0349cd68, b47d1d07-ab29-48aa-9931-bc1ad0c2c5bd</td></tr><tr><th>steps</th> <td></td></tr><tr><th>published</th> <td>False</td></tr></table>"
      ],
      "text/plain": [
       "{'name': 'python-step-demo-pipeline', 'create_time': datetime.datetime(2024, 7, 25, 19, 56, 50, 572311, tzinfo=tzutc()), 'definition': '[]'}"
      ]
     },
     "execution_count": 7,
     "metadata": {},
     "output_type": "execute_result"
    }
   ],
   "source": [
    "# clear the pipeline if this tutorial was run before\n",
    "pipeline.undeploy()\n",
    "pipeline.clear()"
   ]
  },
  {
   "cell_type": "code",
   "execution_count": null,
   "metadata": {},
   "outputs": [],
   "source": [
    "pipeline.add_model_step(house_price_model).deploy(deployment_config=deployment_config)"
   ]
  },
  {
   "cell_type": "code",
   "execution_count": 9,
   "metadata": {},
   "outputs": [
    {
     "data": {
      "text/plain": [
       "{'status': 'Running',\n",
       " 'details': [],\n",
       " 'engines': [{'ip': '10.28.1.2',\n",
       "   'name': 'engine-554b7dfd75-4j4mj',\n",
       "   'status': 'Running',\n",
       "   'reason': None,\n",
       "   'details': [],\n",
       "   'pipeline_statuses': {'pipelines': [{'id': 'python-step-demo-pipeline',\n",
       "      'status': 'Running',\n",
       "      'version': '915af6d2-f164-4b67-a1e6-acc39b2facc4'}]},\n",
       "   'model_statuses': {'models': [{'name': 'house-price-sample',\n",
       "      'sha': '809c9f9a3016e5ab2190900d5fcfa476ee7411aa7a9ac5d4041d1cbe874cf8b9',\n",
       "      'status': 'Running',\n",
       "      'version': '53f2f613-c5a0-40f0-ae20-b852548c7878'}]}}],\n",
       " 'engine_lbs': [{'ip': '10.28.1.3',\n",
       "   'name': 'engine-lb-6b59985857-9t5xs',\n",
       "   'status': 'Running',\n",
       "   'reason': None,\n",
       "   'details': []}],\n",
       " 'sidekicks': []}"
      ]
     },
     "execution_count": 9,
     "metadata": {},
     "output_type": "execute_result"
    }
   ],
   "source": [
    "pipeline.status()"
   ]
  },
  {
   "cell_type": "code",
   "execution_count": 10,
   "metadata": {},
   "outputs": [
    {
     "data": {
      "text/html": [
       "<div>\n",
       "<style scoped>\n",
       "    .dataframe tbody tr th:only-of-type {\n",
       "        vertical-align: middle;\n",
       "    }\n",
       "\n",
       "    .dataframe tbody tr th {\n",
       "        vertical-align: top;\n",
       "    }\n",
       "\n",
       "    .dataframe thead th {\n",
       "        text-align: right;\n",
       "    }\n",
       "</style>\n",
       "<table border=\"1\" class=\"dataframe\">\n",
       "  <thead>\n",
       "    <tr style=\"text-align: right;\">\n",
       "      <th></th>\n",
       "      <th>time</th>\n",
       "      <th>in.tensor</th>\n",
       "      <th>out.dense_2</th>\n",
       "      <th>anomaly.count</th>\n",
       "    </tr>\n",
       "  </thead>\n",
       "  <tbody>\n",
       "    <tr>\n",
       "      <th>0</th>\n",
       "      <td>2024-07-25 20:08:05.694</td>\n",
       "      <td>[0.6878518042, 0.1760734021, -0.869514083, 0.3...</td>\n",
       "      <td>[12.886651]</td>\n",
       "      <td>0</td>\n",
       "    </tr>\n",
       "  </tbody>\n",
       "</table>\n",
       "</div>"
      ],
      "text/plain": [
       "                     time                                          in.tensor  \\\n",
       "0 2024-07-25 20:08:05.694  [0.6878518042, 0.1760734021, -0.869514083, 0.3...   \n",
       "\n",
       "   out.dense_2  anomaly.count  \n",
       "0  [12.886651]              0  "
      ]
     },
     "metadata": {},
     "output_type": "display_data"
    }
   ],
   "source": [
    "## sample inference data\n",
    "\n",
    "data = pd.DataFrame.from_dict({\"tensor\": [[0.6878518042239091,\n",
    "                                            0.17607340208535074,\n",
    "                                            -0.8695140830357148,\n",
    "                                            0.34638762962802144,\n",
    "                                            -0.0916270832672289,\n",
    "                                            -0.022063226781124278,\n",
    "                                            -0.13969884765926363,\n",
    "                                            1.002792335666138,\n",
    "                                            -0.3067449033633758,\n",
    "                                            0.9272000630461978,\n",
    "                                            0.28326687982544635,\n",
    "                                            0.35935375728372815,\n",
    "                                            -0.682562654045523,\n",
    "                                            0.532642794275658,\n",
    "                                            -0.22705189652659302,\n",
    "                                            0.5743846356405602,\n",
    "                                            -0.18805086358065454\n",
    "                                            ]]})\n",
    "\n",
    "results = pipeline.infer(data)\n",
    "display(results)"
   ]
  },
  {
   "cell_type": "markdown",
   "metadata": {},
   "source": [
    "### Inference with Pipeline Step\n",
    "\n",
    "Our inference result had the results in the `out.dense_2` column.  We'll clear the pipeline, then add in as the pipeline step just the Python postprocessing step we've created.  Then for our inference request, we'll just submit the output of the house price model.  Our result should be the first element in the array returned in the `out.output` column."
   ]
  },
  {
   "cell_type": "code",
   "execution_count": 11,
   "metadata": {},
   "outputs": [
    {
     "name": "stdout",
     "output_type": "stream",
     "text": [
      "Waiting for model loading - this will take up to 10.0min.\n",
      "Model is pending loading to a container runtime..\n",
      "Model is attempting loading to a container runtime..successful\n",
      "\n",
      "Ready\n"
     ]
    }
   ],
   "source": [
    "input_schema = pa.schema([\n",
    "    pa.field('dense_2', pa.list_(pa.float32()))\n",
    "])\n",
    "output_schema = pa.schema([\n",
    "    pa.field('output', pa.list_(pa.float32()))\n",
    "])\n",
    "\n",
    "step = (wl.upload_model(python_model_name, \n",
    "                        python_model_file_name, \n",
    "                        framework=Framework.PYTHON,\n",
    "                        input_schema=input_schema, \n",
    "                        output_schema=output_schema\n",
    "                       )\n",
    "\n",
    "       )"
   ]
  },
  {
   "cell_type": "code",
   "execution_count": null,
   "metadata": {},
   "outputs": [],
   "source": [
    "pipeline.undeploy()\n",
    "pipeline.clear()\n",
    "pipeline.add_model_step(step)\n",
    "\n",
    "pipeline.deploy(deployment_config=deployment_config)"
   ]
  },
  {
   "cell_type": "code",
   "execution_count": 14,
   "metadata": {},
   "outputs": [
    {
     "data": {
      "text/plain": [
       "{'status': 'Starting',\n",
       " 'details': [],\n",
       " 'engines': [{'ip': '10.28.1.8',\n",
       "   'name': 'engine-5d57d4849d-wbngz',\n",
       "   'status': 'Running',\n",
       "   'reason': None,\n",
       "   'details': [],\n",
       "   'pipeline_statuses': {'pipelines': [{'id': 'python-step-demo-pipeline',\n",
       "      'status': 'Running',\n",
       "      'version': 'ee274120-db36-4610-bbf7-8a35888c7e22'}]},\n",
       "   'model_statuses': {'models': [{'name': 'python-step',\n",
       "      'sha': 'a89a5a6172f085630b1f893d980b8390bdcc2fb081408905bacf8bc1c78f00d6',\n",
       "      'status': 'Running',\n",
       "      'version': 'a1597a4f-59e4-44e8-8904-8871feaa1176'}]}}],\n",
       " 'engine_lbs': [{'ip': '10.28.1.7',\n",
       "   'name': 'engine-lb-6b59985857-rsk8n',\n",
       "   'status': 'Running',\n",
       "   'reason': None,\n",
       "   'details': []}],\n",
       " 'sidekicks': [{'ip': '10.28.1.9',\n",
       "   'name': 'engine-sidekick-python-step-41-cb85dc7d6-266qh',\n",
       "   'status': 'Running',\n",
       "   'reason': None,\n",
       "   'details': ['containers with unready status: [engine-sidekick-python-step-41]',\n",
       "    'containers with unready status: [engine-sidekick-python-step-41]'],\n",
       "   'statuses': None}]}"
      ]
     },
     "execution_count": 14,
     "metadata": {},
     "output_type": "execute_result"
    }
   ],
   "source": [
    "pipeline.status()"
   ]
  },
  {
   "cell_type": "code",
   "execution_count": 15,
   "metadata": {},
   "outputs": [
    {
     "data": {
      "text/html": [
       "<div>\n",
       "<style scoped>\n",
       "    .dataframe tbody tr th:only-of-type {\n",
       "        vertical-align: middle;\n",
       "    }\n",
       "\n",
       "    .dataframe tbody tr th {\n",
       "        vertical-align: top;\n",
       "    }\n",
       "\n",
       "    .dataframe thead th {\n",
       "        text-align: right;\n",
       "    }\n",
       "</style>\n",
       "<table border=\"1\" class=\"dataframe\">\n",
       "  <thead>\n",
       "    <tr style=\"text-align: right;\">\n",
       "      <th></th>\n",
       "      <th>dense_2</th>\n",
       "    </tr>\n",
       "  </thead>\n",
       "  <tbody>\n",
       "    <tr>\n",
       "      <th>0</th>\n",
       "      <td>12.886651</td>\n",
       "    </tr>\n",
       "  </tbody>\n",
       "</table>\n",
       "</div>"
      ],
      "text/plain": [
       "     dense_2\n",
       "0  12.886651"
      ]
     },
     "metadata": {},
     "output_type": "display_data"
    },
    {
     "data": {
      "text/html": [
       "<div>\n",
       "<style scoped>\n",
       "    .dataframe tbody tr th:only-of-type {\n",
       "        vertical-align: middle;\n",
       "    }\n",
       "\n",
       "    .dataframe tbody tr th {\n",
       "        vertical-align: top;\n",
       "    }\n",
       "\n",
       "    .dataframe thead th {\n",
       "        text-align: right;\n",
       "    }\n",
       "</style>\n",
       "<table border=\"1\" class=\"dataframe\">\n",
       "  <thead>\n",
       "    <tr style=\"text-align: right;\">\n",
       "      <th></th>\n",
       "      <th>time</th>\n",
       "      <th>in.dense_2</th>\n",
       "      <th>out.output</th>\n",
       "      <th>anomaly.count</th>\n",
       "    </tr>\n",
       "  </thead>\n",
       "  <tbody>\n",
       "    <tr>\n",
       "      <th>0</th>\n",
       "      <td>2024-07-25 20:15:27.361</td>\n",
       "      <td>[]</td>\n",
       "      <td>[]</td>\n",
       "      <td>0</td>\n",
       "    </tr>\n",
       "  </tbody>\n",
       "</table>\n",
       "</div>"
      ],
      "text/plain": [
       "                     time in.dense_2 out.output  anomaly.count\n",
       "0 2024-07-25 20:15:27.361         []         []              0"
      ]
     },
     "metadata": {},
     "output_type": "display_data"
    }
   ],
   "source": [
    "data = pd.DataFrame.from_dict({\"dense_2\": [12.886651]})\n",
    "display(data)\n",
    "python_result = pipeline.infer(data)\n",
    "display(python_result)"
   ]
  },
  {
   "cell_type": "markdown",
   "metadata": {},
   "source": [
    "### Putting Both Models Together\n",
    "\n",
    "Now we'll do one last pipeline deployment with 2 steps:\n",
    "\n",
    "* First the house price model that outputs the inference result into `dense_2`.\n",
    "* Second the python step so it will accept the output of the house price model, and reshape it into `output`."
   ]
  },
  {
   "cell_type": "code",
   "execution_count": 16,
   "metadata": {},
   "outputs": [
    {
     "data": {
      "text/html": [
       "<table><tr><th>name</th> <td>python-step-demo-pipeline</td></tr><tr><th>created</th> <td>2024-07-25 19:56:50.572311+00:00</td></tr><tr><th>last_updated</th> <td>2024-07-25 20:09:15.747015+00:00</td></tr><tr><th>deployed</th> <td>True</td></tr><tr><th>workspace_id</th> <td>30</td></tr><tr><th>workspace_name</th> <td>python-demo</td></tr><tr><th>arch</th> <td>x86</td></tr><tr><th>accel</th> <td>none</td></tr><tr><th>tags</th> <td></td></tr><tr><th>versions</th> <td>ee274120-db36-4610-bbf7-8a35888c7e22, 915af6d2-f164-4b67-a1e6-acc39b2facc4, 9738f3df-3cd4-474a-b402-b9dc0349cd68, b47d1d07-ab29-48aa-9931-bc1ad0c2c5bd</td></tr><tr><th>steps</th> <td>python-step</td></tr><tr><th>published</th> <td>False</td></tr></table>"
      ],
      "text/plain": [
       "{'name': 'python-step-demo-pipeline', 'create_time': datetime.datetime(2024, 7, 25, 19, 56, 50, 572311, tzinfo=tzutc()), 'definition': \"[{'ModelInference': {'models': [{'name': 'house-price-sample', 'version': '53f2f613-c5a0-40f0-ae20-b852548c7878', 'sha': '809c9f9a3016e5ab2190900d5fcfa476ee7411aa7a9ac5d4041d1cbe874cf8b9'}]}}, {'ModelInference': {'models': [{'name': 'python-step', 'version': 'a1597a4f-59e4-44e8-8904-8871feaa1176', 'sha': 'a89a5a6172f085630b1f893d980b8390bdcc2fb081408905bacf8bc1c78f00d6'}]}}]\"}"
      ]
     },
     "execution_count": 16,
     "metadata": {},
     "output_type": "execute_result"
    }
   ],
   "source": [
    "inference_start = datetime.datetime.now()\n",
    "pipeline.clear()\n",
    "pipeline.add_model_step(house_price_model)\n",
    "pipeline.add_model_step(step)"
   ]
  },
  {
   "cell_type": "code",
   "execution_count": 17,
   "metadata": {},
   "outputs": [
    {
     "data": {
      "text/html": [
       "<table><tr><th>name</th> <td>python-step-demo-pipeline</td></tr><tr><th>created</th> <td>2024-07-25 19:56:50.572311+00:00</td></tr><tr><th>last_updated</th> <td>2024-07-25 20:16:09.829183+00:00</td></tr><tr><th>deployed</th> <td>True</td></tr><tr><th>workspace_id</th> <td>30</td></tr><tr><th>workspace_name</th> <td>python-demo</td></tr><tr><th>arch</th> <td>x86</td></tr><tr><th>accel</th> <td>none</td></tr><tr><th>tags</th> <td></td></tr><tr><th>versions</th> <td>7fe9ffde-6c49-4599-a4ab-6b6f7a6aa5ac, ee274120-db36-4610-bbf7-8a35888c7e22, 915af6d2-f164-4b67-a1e6-acc39b2facc4, 9738f3df-3cd4-474a-b402-b9dc0349cd68, b47d1d07-ab29-48aa-9931-bc1ad0c2c5bd</td></tr><tr><th>steps</th> <td>house-price-sample</td></tr><tr><th>published</th> <td>False</td></tr></table>"
      ],
      "text/plain": [
       "{'name': 'python-step-demo-pipeline', 'create_time': datetime.datetime(2024, 7, 25, 19, 56, 50, 572311, tzinfo=tzutc()), 'definition': \"[{'ModelInference': {'models': [{'name': 'house-price-sample', 'version': '53f2f613-c5a0-40f0-ae20-b852548c7878', 'sha': '809c9f9a3016e5ab2190900d5fcfa476ee7411aa7a9ac5d4041d1cbe874cf8b9'}]}}, {'ModelInference': {'models': [{'name': 'python-step', 'version': 'a1597a4f-59e4-44e8-8904-8871feaa1176', 'sha': 'a89a5a6172f085630b1f893d980b8390bdcc2fb081408905bacf8bc1c78f00d6'}]}}]\"}"
      ]
     },
     "execution_count": 17,
     "metadata": {},
     "output_type": "execute_result"
    }
   ],
   "source": [
    "pipeline.undeploy()\n",
    "pipeline.deploy(deployment_config=deployment_config)"
   ]
  },
  {
   "cell_type": "code",
   "execution_count": 19,
   "metadata": {},
   "outputs": [
    {
     "data": {
      "text/html": [
       "<div>\n",
       "<style scoped>\n",
       "    .dataframe tbody tr th:only-of-type {\n",
       "        vertical-align: middle;\n",
       "    }\n",
       "\n",
       "    .dataframe tbody tr th {\n",
       "        vertical-align: top;\n",
       "    }\n",
       "\n",
       "    .dataframe thead th {\n",
       "        text-align: right;\n",
       "    }\n",
       "</style>\n",
       "<table border=\"1\" class=\"dataframe\">\n",
       "  <thead>\n",
       "    <tr style=\"text-align: right;\">\n",
       "      <th></th>\n",
       "      <th>time</th>\n",
       "      <th>in.tensor</th>\n",
       "      <th>out.output</th>\n",
       "      <th>anomaly.count</th>\n",
       "    </tr>\n",
       "  </thead>\n",
       "  <tbody>\n",
       "    <tr>\n",
       "      <th>0</th>\n",
       "      <td>2024-07-25 20:17:36.499</td>\n",
       "      <td>[0.6878518042, 0.1760734021, -0.869514083, 0.3...</td>\n",
       "      <td>[12.886651]</td>\n",
       "      <td>0</td>\n",
       "    </tr>\n",
       "  </tbody>\n",
       "</table>\n",
       "</div>"
      ],
      "text/plain": [
       "                     time                                          in.tensor  \\\n",
       "0 2024-07-25 20:17:36.499  [0.6878518042, 0.1760734021, -0.869514083, 0.3...   \n",
       "\n",
       "    out.output  anomaly.count  \n",
       "0  [12.886651]              0  "
      ]
     },
     "metadata": {},
     "output_type": "display_data"
    }
   ],
   "source": [
    "data = pd.DataFrame.from_dict({\"tensor\": [[0.6878518042239091,\n",
    "                                            0.17607340208535074,\n",
    "                                            -0.8695140830357148,\n",
    "                                            0.34638762962802144,\n",
    "                                            -0.0916270832672289,\n",
    "                                            -0.022063226781124278,\n",
    "                                            -0.13969884765926363,\n",
    "                                            1.002792335666138,\n",
    "                                            -0.3067449033633758,\n",
    "                                            0.9272000630461978,\n",
    "                                            0.28326687982544635,\n",
    "                                            0.35935375728372815,\n",
    "                                            -0.682562654045523,\n",
    "                                            0.532642794275658,\n",
    "                                            -0.22705189652659302,\n",
    "                                            0.5743846356405602,\n",
    "                                            -0.18805086358065454\n",
    "                                        ]]})\n",
    "\n",
    "results = pipeline.infer(data)\n",
    "display(results)"
   ]
  },
  {
   "cell_type": "markdown",
   "metadata": {},
   "source": [
    "### Pipeline Logs\n",
    "\n",
    "As the data was exported by the pipeline step as a pandas DataFrame, it will be reflected in the pipeline logs.  We'll retrieve the most recent log from our most recent inference."
   ]
  },
  {
   "cell_type": "code",
   "execution_count": null,
   "metadata": {},
   "outputs": [
    {
     "data": {
      "text/html": [
       "<div>\n",
       "<style scoped>\n",
       "    .dataframe tbody tr th:only-of-type {\n",
       "        vertical-align: middle;\n",
       "    }\n",
       "\n",
       "    .dataframe tbody tr th {\n",
       "        vertical-align: top;\n",
       "    }\n",
       "\n",
       "    .dataframe thead th {\n",
       "        text-align: right;\n",
       "    }\n",
       "</style>\n",
       "<table border=\"1\" class=\"dataframe\">\n",
       "  <thead>\n",
       "    <tr style=\"text-align: right;\">\n",
       "      <th></th>\n",
       "      <th>time</th>\n",
       "      <th>in.tensor</th>\n",
       "      <th>out.output</th>\n",
       "      <th>anomaly.count</th>\n",
       "    </tr>\n",
       "  </thead>\n",
       "  <tbody>\n",
       "    <tr>\n",
       "      <th>0</th>\n",
       "      <td>2024-04-09 16:03:53.059</td>\n",
       "      <td>[0.6878518042, 0.1760734021, -0.869514083, 0.3...</td>\n",
       "      <td>[12.886651]</td>\n",
       "      <td>0</td>\n",
       "    </tr>\n",
       "  </tbody>\n",
       "</table>\n",
       "</div>"
      ],
      "text/plain": [
       "                     time                                          in.tensor  \\\n",
       "0 2024-04-09 16:03:53.059  [0.6878518042, 0.1760734021, -0.869514083, 0.3...   \n",
       "\n",
       "    out.output  anomaly.count  \n",
       "0  [12.886651]              0  "
      ]
     },
     "execution_count": 45,
     "metadata": {},
     "output_type": "execute_result"
    }
   ],
   "source": [
    "inference_end = datetime.datetime.now()\n",
    "\n",
    "pipeline.logs(start_datetime=inference_start, end_datetime=inference_end)"
   ]
  },
  {
   "cell_type": "markdown",
   "metadata": {},
   "source": [
    "### Undeploy the Pipeline\n",
    "\n",
    "With our tutorial complete, we'll undeploy the pipeline and return the resources back to the cluster.\n",
    "\n",
    "This process demonstrated how to structure a postprocessing Python script as a Wallaroo Pipeline step.  This can be used for pre or post processing, Python based models, and other use cases."
   ]
  },
  {
   "cell_type": "code",
   "execution_count": 20,
   "metadata": {},
   "outputs": [
    {
     "data": {
      "text/html": [
       "<table><tr><th>name</th> <td>python-step-demo-pipeline</td></tr><tr><th>created</th> <td>2024-07-25 19:56:50.572311+00:00</td></tr><tr><th>last_updated</th> <td>2024-07-25 20:16:09.829183+00:00</td></tr><tr><th>deployed</th> <td>False</td></tr><tr><th>workspace_id</th> <td>30</td></tr><tr><th>workspace_name</th> <td>python-demo</td></tr><tr><th>arch</th> <td>x86</td></tr><tr><th>accel</th> <td>none</td></tr><tr><th>tags</th> <td></td></tr><tr><th>versions</th> <td>7fe9ffde-6c49-4599-a4ab-6b6f7a6aa5ac, ee274120-db36-4610-bbf7-8a35888c7e22, 915af6d2-f164-4b67-a1e6-acc39b2facc4, 9738f3df-3cd4-474a-b402-b9dc0349cd68, b47d1d07-ab29-48aa-9931-bc1ad0c2c5bd</td></tr><tr><th>steps</th> <td>house-price-sample</td></tr><tr><th>published</th> <td>False</td></tr></table>"
      ],
      "text/plain": [
       "{'name': 'python-step-demo-pipeline', 'create_time': datetime.datetime(2024, 7, 25, 19, 56, 50, 572311, tzinfo=tzutc()), 'definition': \"[{'ModelInference': {'models': [{'name': 'house-price-sample', 'version': '53f2f613-c5a0-40f0-ae20-b852548c7878', 'sha': '809c9f9a3016e5ab2190900d5fcfa476ee7411aa7a9ac5d4041d1cbe874cf8b9'}]}}, {'ModelInference': {'models': [{'name': 'python-step', 'version': 'a1597a4f-59e4-44e8-8904-8871feaa1176', 'sha': 'a89a5a6172f085630b1f893d980b8390bdcc2fb081408905bacf8bc1c78f00d6'}]}}]\"}"
      ]
     },
     "execution_count": 20,
     "metadata": {},
     "output_type": "execute_result"
    }
   ],
   "source": [
    "pipeline.undeploy()"
   ]
  }
 ],
 "metadata": {
  "kernelspec": {
   "display_name": "wallaroosdk2024.2",
   "language": "python",
   "name": "python3"
  },
  "language_info": {
   "codemirror_mode": {
    "name": "ipython",
    "version": 3
   },
   "file_extension": ".py",
   "mimetype": "text/x-python",
   "name": "python",
   "nbconvert_exporter": "python",
   "pygments_lexer": "ipython3",
   "version": "3.8.20"
  }
 },
 "nbformat": 4,
 "nbformat_minor": 4
}
