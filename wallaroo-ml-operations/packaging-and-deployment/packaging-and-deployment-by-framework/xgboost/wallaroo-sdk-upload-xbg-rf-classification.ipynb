{
 "cells": [
  {
   "cell_type": "markdown",
   "id": "c18c8461-a00a-4a16-b3d7-2dee9187f672",
   "metadata": {},
   "source": [
    "This tutorial can be downloaded as part of the [Wallaroo Tutorials repository](https://github.com/WallarooLabs/Wallaroo_Tutorials/blob/wallaroo2025.1_tutorials/wallaroo-ml-operations/packaging-and-deployment/packaging-and-deployment-by-framework/xgboost).\n",
    "\n",
    "## XGBoost RF Classification Deployment Tutorial\n",
    "\n",
    "The following tutorial demonstrates how to upload a XGBoost RF Classification model to a Wallaroo instance.\n",
    "\n",
    "The following XGBoost model types are supported by Wallaroo.  XGBoost models **not** supported by Wallaroo are supported via the [Custom Models, also known as Bring Your Own Predict (BYOP)](https://docs.wallaroo.ai/wallaroo-model-operations/wallaroo-model-operations-deploy/wallaroo-model-operations-upload-register/wallaroo-model-operations-upload-register-arbitrary-python/).\n",
    "\n",
    "| XGBoost Model Type | Wallaroo Auto Packaging Supported |\n",
    "|---|---|\n",
    "| XGBClassifier | √ |\n",
    "| XGBRegressor | √ |\n",
    "| Booster Classifier | √ |\n",
    "| Booster Classifier | √ |\n",
    "| Booster Regressor | √ |\n",
    "| Booster Random Forest Regressor | √ |\n",
    "| Booster Random Forest Classifier | √ |\n",
    "| XGBRFClassifier | √ |\n",
    "| XGBRFRegressor | √ |\n",
    "| XGBRanker\\* | X |\n",
    "\n",
    "* XGBRanker XGBoost models are currently supported via converting them to [BYOP](https://docs.wallaroo.ai/wallaroo-model-operations/wallaroo-model-operations-deploy/wallaroo-model-operations-upload-register/wallaroo-model-operations-upload-register-arbitrary-python/) models.\n",
    "\n",
    "### Tutorial Goals\n",
    "\n",
    "Demonstrate the following:\n",
    "\n",
    "* Upload a XGBoost RF Classification model to a Wallaroo instance.\n",
    "* Create a pipeline and add the model as a pipeline step.\n",
    "* Perform a sample inference.\n",
    "\n",
    "### Prerequisites\n",
    "\n",
    "* A Wallaroo version 2023.2.1 or above instance.\n",
    "\n",
    "### References\n",
    "\n",
    "* [Wallaroo MLOps API Essentials Guide: Model Upload and Registrations](https://docs.wallaroo.ai/wallaroo-developer-guides/wallaroo-api-guide/wallaroo-mlops-api-essential-guide/wallaroo-mlops-api-essentials-guide-model-uploads/)\n",
    "* [Wallaroo API Connection Guide](https://docs.wallaroo.ai/wallaroo-developer-guides/wallaroo-api-guide/wallaroo-mlops-connection-guide/)\n",
    "* [DNS Integration Guide](https://docs.wallaroo.ai/wallaroo-operations-guide/wallaroo-configuration/wallaroo-dns-guide/)"
   ]
  },
  {
   "cell_type": "markdown",
   "id": "0ba58186",
   "metadata": {},
   "source": [
    "## Tutorial Steps\n",
    "\n",
    "### Import Libraries\n",
    "\n",
    "The first step is to import the libraries we'll be using.  These are included by default in the Wallaroo instance's JupyterHub service.  See `./requirements.txt` for a list of additional libraries used with this tutorial."
   ]
  },
  {
   "cell_type": "code",
   "execution_count": 1,
   "id": "3436bb69-bb45-4d18-bc19-d82f76ae9bfe",
   "metadata": {},
   "outputs": [],
   "source": [
    "from sklearn.datasets import load_iris\n",
    "from xgboost import XGBClassifier\n",
    "\n",
    "import wallaroo\n",
    "from wallaroo.pipeline import Pipeline\n",
    "from wallaroo.deployment_config import DeploymentConfigBuilder\n",
    "from wallaroo.object import EntityNotFoundError\n",
    "from wallaroo.framework import Framework\n",
    "\n",
    "import pyarrow as pa\n",
    "import numpy as np\n",
    "import pandas as pd"
   ]
  },
  {
   "cell_type": "markdown",
   "id": "a5f0e7af",
   "metadata": {},
   "source": [
    "### Open a Connection to Wallaroo\n",
    "\n",
    "The next step is connect to Wallaroo through the Wallaroo client.  The Python library is included in the Wallaroo install and available through the Jupyter Hub interface provided with your Wallaroo environment.\n",
    "\n",
    "This is accomplished using the `wallaroo.Client()` command, which provides a URL to grant the SDK permission to your specific Wallaroo environment.  When displayed, enter the URL into a browser and confirm permissions.  Store the connection into a variable that can be referenced later.\n",
    "\n",
    "If logging into the Wallaroo instance through the internal JupyterHub service, use `wl = wallaroo.Client()`.  For more details on logging in through Wallaroo, see the [Wallaroo SDK Essentials Guide: Client Connection](https://docs.wallaroo.ai/wallaroo-developer-guides/wallaroo-sdk-guides/wallaroo-sdk-essentials-guide/wallaroo-sdk-essentials-client/)."
   ]
  },
  {
   "cell_type": "code",
   "execution_count": 2,
   "id": "f1fcda6d",
   "metadata": {},
   "outputs": [],
   "source": [
    "wl = wallaroo.Client()"
   ]
  },
  {
   "cell_type": "markdown",
   "id": "9dfc1759",
   "metadata": {},
   "source": [
    "### Set Variables\n",
    "\n",
    "We'll set the name of our workspace, pipeline, models and files.  Workspace names must be unique across the Wallaroo workspace.  For this, we'll add in a randomly generated 4 characters to the workspace name to prevent collisions with other users' workspaces.  If running this tutorial, we recommend hard coding the workspace name so it will function in the same workspace each time it's run.\n",
    "\n"
   ]
  },
  {
   "cell_type": "code",
   "execution_count": 3,
   "id": "170bf187-321c-45ea-867a-0cc2879b0256",
   "metadata": {},
   "outputs": [],
   "source": [
    "workspace_name = f'xgboost-rf-classification'\n",
    "pipeline_name = f'xgboost-rf-classification'\n",
    "\n",
    "model_name = 'xgboost-rf-classification'\n",
    "model_file_name = './models/xgb_rf_classifier.pkl'"
   ]
  },
  {
   "cell_type": "markdown",
   "id": "2a7ab7eb-90de-4e94-90d5-316e13eae5ab",
   "metadata": {},
   "source": [
    "### Create Workspace and Pipeline\n",
    "\n",
    "We will now create the Wallaroo workspace to store our model and set it as the current workspace.  Future commands will default to this workspace for pipeline creation, model uploads, etc.  We'll create our Wallaroo pipeline to deploy our model."
   ]
  },
  {
   "cell_type": "code",
   "execution_count": 4,
   "id": "faa3deaf",
   "metadata": {},
   "outputs": [],
   "source": [
    "workspace = wl.get_workspace(name=workspace_name, create_if_not_exist=True)\n",
    "wl.set_current_workspace(workspace)\n",
    "\n",
    "pipeline = wl.build_pipeline(pipeline_name)"
   ]
  },
  {
   "cell_type": "markdown",
   "id": "9725fdcf",
   "metadata": {},
   "source": [
    "### Configure Data Schemas\n",
    "\n",
    "XGBoost models are uploaded to Wallaroo through the Wallaroo Client `upload_model` method.\n",
    "\n",
    "### Upload XGBoost Model Parameters\n",
    "\n",
    "The following parameters are available for XGBoost models.  \n",
    "\n",
    "| Parameter | Type | Description |\n",
    "|---|---|---|\n",
    "|`name` | `string` (*Required*) | The name of the model.  Model names are unique per workspace.  Models that are uploaded with the same name are assigned as a new **version** of the model. |\n",
    "|`path` | `string` (*Required*) | The path to the model file being uploaded. \n",
    "|`framework` |`string` (*Required*) | Set as `Framework.XGBOOST`. |\n",
    "|`input_schema` | `pyarrow.lib.Schema` (*Required*) | The input schema in Apache Arrow schema format. |\n",
    "|`output_schema` | `pyarrow.lib.Schema` (*Required*) | The output schema in Apache Arrow schema format. |\n",
    "| `convert_wait` | `bool` (*Optional*) (*Default: True*) | <ul><li>**True**: Waits in the script for the model conversion completion.</li><li>**False**:  Proceeds with the script without waiting for the model conversion process to display complete. |\n",
    "\n",
    "Once the upload process starts, the model is containerized by the Wallaroo instance.  This process may take up to 10 minutes.\n",
    "\n",
    "#### XGBoost Schema Inputs\n",
    "\n",
    "XGBoost schema follows a different format than other models.  To prevent inputs from being out of order, the inputs should be submitted in a single row in the order the model is trained to accept, with **all of the data types being the same**.  If a model is originally trained to accept inputs of different data types, it will need to be retrained to only accept one data type for each column - typically `pa.float64()` is a good choice.\n",
    "\n",
    "For example, the following DataFrame has 4 columns, each column a `float`.\n",
    "\n",
    "|&nbsp;|sepal length (cm)|sepal width (cm)|petal length (cm)|petal width (cm)|\n",
    "|---|---|---|---|---|\n",
    "|0|5.1|3.5|1.4|0.2|\n",
    "|1|4.9|3.0|1.4|0.2|\n",
    "\n",
    "For submission to an XGBoost model, the data input schema will be a single array with 4 float values.\n",
    "\n",
    "```python\n",
    "input_schema = pa.schema([\n",
    "    pa.field('inputs', pa.list_(pa.float64(), list_size=4))\n",
    "])\n",
    "```\n",
    "\n",
    "When submitting as an inference, the DataFrame is converted to rows with the column data expressed as a single array.  The data **must** be in the same order as the model expects, which is why the data is submitted as a single array rather than JSON labeled columns:  this insures that the data is submitted in the exact order as the model is trained to accept.\n",
    "\n",
    "Original DataFrame:\n",
    "\n",
    "&nbsp;|sepal length (cm)|sepal width (cm)|petal length (cm)|petal width (cm)\n",
    "|---|---|---|---|---|\n",
    "0|5.1|3.5|1.4|0.2\n",
    "1|4.9|3.0|1.4|0.2\n",
    "\n",
    "Converted DataFrame:\n",
    "\n",
    "|&nbsp;|inputs|\n",
    "|---|---|\n",
    "|0|[5.1, 3.5, 1.4, 0.2]|\n",
    "|1|[4.9, 3.0, 1.4, 0.2]|\n",
    "\n",
    "#### XGBoost Schema Outputs\n",
    "\n",
    "Outputs for XGBoost are labeled based on the trained model outputs.  For this example, the output is simply a single output listed as `output`.  In the Wallaroo inference result, it is grouped with the metadata `out` as `out.output`.\n",
    "\n",
    "```python\n",
    "output_schema = pa.schema([\n",
    "    pa.field('output', pa.int32())\n",
    "])\n",
    "```\n",
    "\n",
    "```python\n",
    "pipeline.infer(dataframe)\n",
    "```\n",
    "\n",
    "|&nbsp;|time|in.inputs|out.output|check_failures|\n",
    "|---|---|---|---|---|\n",
    "|0|2023-07-05 15:11:29.776|[5.1, 3.5, 1.4, 0.2]|0|0|\n",
    "|1|2023-07-05 15:11:29.776|[4.9, 3.0, 1.4, 0.2]|0|0|\n"
   ]
  },
  {
   "cell_type": "code",
   "execution_count": 5,
   "id": "1167694d-d0ac-4432-9fde-4ba7a5e65846",
   "metadata": {},
   "outputs": [],
   "source": [
    "input_schema = pa.schema([\n",
    "    pa.field('inputs', pa.list_(pa.float32(), list_size=4))\n",
    "])\n",
    "\n",
    "output_schema = pa.schema([\n",
    "    pa.field('predictions', pa.int64()),\n",
    "    pa.field('probabilities', pa.list_(pa.float32(), list_size=3))\n",
    "])"
   ]
  },
  {
   "cell_type": "markdown",
   "id": "af676365-ebc8-48ce-b008-389ea3af91cd",
   "metadata": {
    "tags": []
   },
   "source": [
    "### Upload Model\n",
    "\n",
    "The model will be uploaded with the framework set as `Framework.XGBOOST`."
   ]
  },
  {
   "cell_type": "code",
   "execution_count": 7,
   "id": "3700515d-f91c-481f-a495-29ad82cab91f",
   "metadata": {},
   "outputs": [
    {
     "name": "stdout",
     "output_type": "stream",
     "text": [
      "Waiting for model loading - this will take up to 10.0min.\n",
      "Model is pending loading to a native runtime.\n",
      "Model is attempting loading to a native runtime...incompatible\n",
      "\n",
      "Model is pending loading to a container runtime..\n",
      "Model is attempting loading to a container runtime...successful\n",
      "\n",
      "Ready\n"
     ]
    },
    {
     "data": {
      "text/html": [
       "<table>\n",
       "        <tr>\n",
       "          <td>Name</td>\n",
       "          <td>xgboost-rf-classification</td>\n",
       "        </tr>\n",
       "        <tr>\n",
       "          <td>Version</td>\n",
       "          <td>0fcd0d49-fdb7-4ee0-a599-ba0f1394ab04</td>\n",
       "        </tr>\n",
       "        <tr>\n",
       "          <td>File Name</td>\n",
       "          <td>xgb_rf_classifier.pkl</td>\n",
       "        </tr>\n",
       "        <tr>\n",
       "          <td>SHA</td>\n",
       "          <td>1e5ecfd77cb3bb75eab7aaf5b3975d037191c2d9e825805bff027fbec76be296</td>\n",
       "        </tr>\n",
       "        <tr>\n",
       "          <td>Status</td>\n",
       "          <td>ready</td>\n",
       "        </tr>\n",
       "        <tr>\n",
       "          <td>Image Path</td>\n",
       "          <td>proxy.replicated.com/proxy/wallaroo/ghcr.io/wallaroolabs/mac-deploy:v2024.2.0-main-5408</td>\n",
       "        </tr>\n",
       "        <tr>\n",
       "          <td>Architecture</td>\n",
       "          <td>x86</td>\n",
       "        </tr>\n",
       "        <tr>\n",
       "          <td>Acceleration</td>\n",
       "          <td>none</td>\n",
       "        </tr>\n",
       "        <tr>\n",
       "          <td>Updated At</td>\n",
       "          <td>2024-19-Jul 18:00:13</td>\n",
       "        </tr>\n",
       "        <tr>\n",
       "          <td>Workspace id</td>\n",
       "          <td>45</td>\n",
       "        </tr>\n",
       "        <tr>\n",
       "          <td>Workspace name</td>\n",
       "          <td>xgboost-rf-classification</td>\n",
       "        </tr>\n",
       "      </table>"
      ],
      "text/plain": [
       "{'name': 'xgboost-rf-classification', 'version': '0fcd0d49-fdb7-4ee0-a599-ba0f1394ab04', 'file_name': 'xgb_rf_classifier.pkl', 'image_path': 'proxy.replicated.com/proxy/wallaroo/ghcr.io/wallaroolabs/mac-deploy:v2024.2.0-main-5408', 'arch': 'x86', 'accel': 'none', 'last_update_time': datetime.datetime(2024, 7, 19, 18, 0, 13, 847947, tzinfo=tzutc())}"
      ]
     },
     "execution_count": 7,
     "metadata": {},
     "output_type": "execute_result"
    }
   ],
   "source": [
    "model = wl.upload_model(model_name, \n",
    "                        model_file_name, \n",
    "                        framework=Framework.XGBOOST, \n",
    "                        input_schema=input_schema, \n",
    "                        output_schema=output_schema)\n",
    "model"
   ]
  },
  {
   "cell_type": "markdown",
   "id": "47fcab28-dce9-4385-802c-70a8f48fec38",
   "metadata": {
    "tags": []
   },
   "source": [
    "### Deploy Pipeline\n",
    "\n",
    "The model is uploaded and ready for use.  We'll add it as a step in our pipeline, then deploy the pipeline.  For this example we're allocated 0.25 cpu and 4 Gi RAM to the pipeline through the pipeline's deployment configuration."
   ]
  },
  {
   "cell_type": "code",
   "execution_count": 8,
   "id": "2a709f2c-1332-4984-9cf8-87c6328d6ae4",
   "metadata": {},
   "outputs": [],
   "source": [
    "deployment_config = DeploymentConfigBuilder() \\\n",
    "    .cpus(0.25).memory('1Gi') \\\n",
    "    .build()"
   ]
  },
  {
   "cell_type": "code",
   "execution_count": 9,
   "id": "5ecc0a18-5912-4052-98a7-074b9db350b1",
   "metadata": {},
   "outputs": [
    {
     "data": {
      "text/html": [
       "<table><tr><th>name</th> <td>xgboost-rf-classification</td></tr><tr><th>created</th> <td>2024-07-19 16:39:08.601984+00:00</td></tr><tr><th>last_updated</th> <td>2024-07-19 18:00:21.961555+00:00</td></tr><tr><th>deployed</th> <td>True</td></tr><tr><th>workspace_id</th> <td>45</td></tr><tr><th>workspace_name</th> <td>xgboost-rf-classification</td></tr><tr><th>arch</th> <td>x86</td></tr><tr><th>accel</th> <td>none</td></tr><tr><th>tags</th> <td></td></tr><tr><th>versions</th> <td>7bac25f2-74e1-4166-97a1-e92f382741d5, b61bb623-dfde-4676-b48b-4178096f172c, 7d19728f-6a44-4858-b11e-6c9029622f83, 335aebc6-5a6a-4563-a039-bbbd54c7c060, 7bae5762-5e2b-4d95-8c95-b01003438330, 1d45cd70-06a5-4570-84b6-93d7ce3f8139, 6f555bf1-36c0-4b49-84ff-9b72baf3020b, 14653559-ce12-4ebb-912d-22dbc21fec7c, 94df97ae-5594-4b65-829f-ad8eb4df5c9d, ff951a29-2a5c-4855-aa74-57350a9dda11, 77010639-8d71-48be-9403-3ef0e67cfb0f</td></tr><tr><th>steps</th> <td>xgboost-rf-classification</td></tr><tr><th>published</th> <td>False</td></tr></table>"
      ],
      "text/plain": [
       "{'name': 'xgboost-rf-classification', 'create_time': datetime.datetime(2024, 7, 19, 16, 39, 8, 601984, tzinfo=tzutc()), 'definition': \"[{'ModelInference': {'models': [{'name': 'xgboost-rf-classification', 'version': '0fcd0d49-fdb7-4ee0-a599-ba0f1394ab04', 'sha': '1e5ecfd77cb3bb75eab7aaf5b3975d037191c2d9e825805bff027fbec76be296'}]}}]\"}"
      ]
     },
     "execution_count": 9,
     "metadata": {},
     "output_type": "execute_result"
    }
   ],
   "source": [
    "# clear the pipeline if it was used before\n",
    "pipeline.undeploy()\n",
    "pipeline.clear()\n",
    "\n",
    "pipeline.add_model_step(model)\n",
    "\n",
    "pipeline.deploy(deployment_config=deployment_config)"
   ]
  },
  {
   "cell_type": "markdown",
   "id": "60cb4aa0-601d-4556-a3f8-cdc59e758add",
   "metadata": {},
   "source": [
    "### Run Inference\n",
    "\n",
    "A sample inference will be run.  First the pandas DataFrame used for the inference is created, then the inference run through the pipeline's `infer` method."
   ]
  },
  {
   "cell_type": "code",
   "execution_count": 10,
   "id": "1eab3c59-c7a2-4e79-a468-e5bcb65d916c",
   "metadata": {},
   "outputs": [
    {
     "data": {
      "text/html": [
       "<div>\n",
       "<style scoped>\n",
       "    .dataframe tbody tr th:only-of-type {\n",
       "        vertical-align: middle;\n",
       "    }\n",
       "\n",
       "    .dataframe tbody tr th {\n",
       "        vertical-align: top;\n",
       "    }\n",
       "\n",
       "    .dataframe thead th {\n",
       "        text-align: right;\n",
       "    }\n",
       "</style>\n",
       "<table border=\"1\" class=\"dataframe\">\n",
       "  <thead>\n",
       "    <tr style=\"text-align: right;\">\n",
       "      <th></th>\n",
       "      <th>inputs</th>\n",
       "    </tr>\n",
       "  </thead>\n",
       "  <tbody>\n",
       "    <tr>\n",
       "      <th>0</th>\n",
       "      <td>[5.1, 3.5, 1.4, 0.2]</td>\n",
       "    </tr>\n",
       "    <tr>\n",
       "      <th>1</th>\n",
       "      <td>[4.9, 3.0, 1.4, 0.2]</td>\n",
       "    </tr>\n",
       "    <tr>\n",
       "      <th>2</th>\n",
       "      <td>[4.7, 3.2, 1.3, 0.2]</td>\n",
       "    </tr>\n",
       "    <tr>\n",
       "      <th>3</th>\n",
       "      <td>[4.6, 3.1, 1.5, 0.2]</td>\n",
       "    </tr>\n",
       "    <tr>\n",
       "      <th>4</th>\n",
       "      <td>[5.0, 3.6, 1.4, 0.2]</td>\n",
       "    </tr>\n",
       "    <tr>\n",
       "      <th>...</th>\n",
       "      <td>...</td>\n",
       "    </tr>\n",
       "    <tr>\n",
       "      <th>95</th>\n",
       "      <td>[5.7, 3.0, 4.2, 1.2]</td>\n",
       "    </tr>\n",
       "    <tr>\n",
       "      <th>96</th>\n",
       "      <td>[5.7, 2.9, 4.2, 1.3]</td>\n",
       "    </tr>\n",
       "    <tr>\n",
       "      <th>97</th>\n",
       "      <td>[6.2, 2.9, 4.3, 1.3]</td>\n",
       "    </tr>\n",
       "    <tr>\n",
       "      <th>98</th>\n",
       "      <td>[5.1, 2.5, 3.0, 1.1]</td>\n",
       "    </tr>\n",
       "    <tr>\n",
       "      <th>99</th>\n",
       "      <td>[5.7, 2.8, 4.1, 1.3]</td>\n",
       "    </tr>\n",
       "  </tbody>\n",
       "</table>\n",
       "<p>100 rows × 1 columns</p>\n",
       "</div>"
      ],
      "text/plain": [
       "                  inputs\n",
       "0   [5.1, 3.5, 1.4, 0.2]\n",
       "1   [4.9, 3.0, 1.4, 0.2]\n",
       "2   [4.7, 3.2, 1.3, 0.2]\n",
       "3   [4.6, 3.1, 1.5, 0.2]\n",
       "4   [5.0, 3.6, 1.4, 0.2]\n",
       "..                   ...\n",
       "95  [5.7, 3.0, 4.2, 1.2]\n",
       "96  [5.7, 2.9, 4.2, 1.3]\n",
       "97  [6.2, 2.9, 4.3, 1.3]\n",
       "98  [5.1, 2.5, 3.0, 1.1]\n",
       "99  [5.7, 2.8, 4.1, 1.3]\n",
       "\n",
       "[100 rows x 1 columns]"
      ]
     },
     "execution_count": 10,
     "metadata": {},
     "output_type": "execute_result"
    }
   ],
   "source": [
    "data = load_iris(as_frame=True)\n",
    "\n",
    "X = data['data'].values[:100]\n",
    "y = data['target'][:100]\n",
    "\n",
    "dataframe = pd.DataFrame({\"inputs\": X[:100].tolist()})\n",
    "dataframe"
   ]
  },
  {
   "cell_type": "code",
   "execution_count": 11,
   "id": "225ed108",
   "metadata": {},
   "outputs": [
    {
     "data": {
      "text/html": [
       "<div>\n",
       "<style scoped>\n",
       "    .dataframe tbody tr th:only-of-type {\n",
       "        vertical-align: middle;\n",
       "    }\n",
       "\n",
       "    .dataframe tbody tr th {\n",
       "        vertical-align: top;\n",
       "    }\n",
       "\n",
       "    .dataframe thead th {\n",
       "        text-align: right;\n",
       "    }\n",
       "</style>\n",
       "<table border=\"1\" class=\"dataframe\">\n",
       "  <thead>\n",
       "    <tr style=\"text-align: right;\">\n",
       "      <th></th>\n",
       "      <th>time</th>\n",
       "      <th>in.inputs</th>\n",
       "      <th>out.predictions</th>\n",
       "      <th>out.probabilities</th>\n",
       "      <th>anomaly.count</th>\n",
       "    </tr>\n",
       "  </thead>\n",
       "  <tbody>\n",
       "    <tr>\n",
       "      <th>0</th>\n",
       "      <td>2024-07-19 18:00:45.231</td>\n",
       "      <td>[5.1, 3.5, 1.4, 0.2]</td>\n",
       "      <td>0</td>\n",
       "      <td>[0.82590103, 0.087049514, 0.08704949]</td>\n",
       "      <td>0</td>\n",
       "    </tr>\n",
       "    <tr>\n",
       "      <th>1</th>\n",
       "      <td>2024-07-19 18:00:45.231</td>\n",
       "      <td>[4.9, 3.0, 1.4, 0.2]</td>\n",
       "      <td>0</td>\n",
       "      <td>[0.82590103, 0.087049514, 0.08704949]</td>\n",
       "      <td>0</td>\n",
       "    </tr>\n",
       "    <tr>\n",
       "      <th>2</th>\n",
       "      <td>2024-07-19 18:00:45.231</td>\n",
       "      <td>[4.7, 3.2, 1.3, 0.2]</td>\n",
       "      <td>0</td>\n",
       "      <td>[0.82590103, 0.087049514, 0.08704949]</td>\n",
       "      <td>0</td>\n",
       "    </tr>\n",
       "    <tr>\n",
       "      <th>3</th>\n",
       "      <td>2024-07-19 18:00:45.231</td>\n",
       "      <td>[4.6, 3.1, 1.5, 0.2]</td>\n",
       "      <td>0</td>\n",
       "      <td>[0.82590103, 0.087049514, 0.08704949]</td>\n",
       "      <td>0</td>\n",
       "    </tr>\n",
       "    <tr>\n",
       "      <th>4</th>\n",
       "      <td>2024-07-19 18:00:45.231</td>\n",
       "      <td>[5.0, 3.6, 1.4, 0.2]</td>\n",
       "      <td>0</td>\n",
       "      <td>[0.82590103, 0.087049514, 0.08704949]</td>\n",
       "      <td>0</td>\n",
       "    </tr>\n",
       "    <tr>\n",
       "      <th>...</th>\n",
       "      <td>...</td>\n",
       "      <td>...</td>\n",
       "      <td>...</td>\n",
       "      <td>...</td>\n",
       "      <td>...</td>\n",
       "    </tr>\n",
       "    <tr>\n",
       "      <th>95</th>\n",
       "      <td>2024-07-19 18:00:45.231</td>\n",
       "      <td>[5.7, 3.0, 4.2, 1.2]</td>\n",
       "      <td>1</td>\n",
       "      <td>[0.08704949, 0.82590103, 0.08704949]</td>\n",
       "      <td>0</td>\n",
       "    </tr>\n",
       "    <tr>\n",
       "      <th>96</th>\n",
       "      <td>2024-07-19 18:00:45.231</td>\n",
       "      <td>[5.7, 2.9, 4.2, 1.3]</td>\n",
       "      <td>1</td>\n",
       "      <td>[0.08704949, 0.82590103, 0.08704949]</td>\n",
       "      <td>0</td>\n",
       "    </tr>\n",
       "    <tr>\n",
       "      <th>97</th>\n",
       "      <td>2024-07-19 18:00:45.231</td>\n",
       "      <td>[6.2, 2.9, 4.3, 1.3]</td>\n",
       "      <td>1</td>\n",
       "      <td>[0.08704949, 0.82590103, 0.08704949]</td>\n",
       "      <td>0</td>\n",
       "    </tr>\n",
       "    <tr>\n",
       "      <th>98</th>\n",
       "      <td>2024-07-19 18:00:45.231</td>\n",
       "      <td>[5.1, 2.5, 3.0, 1.1]</td>\n",
       "      <td>1</td>\n",
       "      <td>[0.088133186, 0.82373357, 0.088133186]</td>\n",
       "      <td>0</td>\n",
       "    </tr>\n",
       "    <tr>\n",
       "      <th>99</th>\n",
       "      <td>2024-07-19 18:00:45.231</td>\n",
       "      <td>[5.7, 2.8, 4.1, 1.3]</td>\n",
       "      <td>1</td>\n",
       "      <td>[0.08704949, 0.82590103, 0.08704949]</td>\n",
       "      <td>0</td>\n",
       "    </tr>\n",
       "  </tbody>\n",
       "</table>\n",
       "<p>100 rows × 5 columns</p>\n",
       "</div>"
      ],
      "text/plain": [
       "                      time             in.inputs  out.predictions  \\\n",
       "0  2024-07-19 18:00:45.231  [5.1, 3.5, 1.4, 0.2]                0   \n",
       "1  2024-07-19 18:00:45.231  [4.9, 3.0, 1.4, 0.2]                0   \n",
       "2  2024-07-19 18:00:45.231  [4.7, 3.2, 1.3, 0.2]                0   \n",
       "3  2024-07-19 18:00:45.231  [4.6, 3.1, 1.5, 0.2]                0   \n",
       "4  2024-07-19 18:00:45.231  [5.0, 3.6, 1.4, 0.2]                0   \n",
       "..                     ...                   ...              ...   \n",
       "95 2024-07-19 18:00:45.231  [5.7, 3.0, 4.2, 1.2]                1   \n",
       "96 2024-07-19 18:00:45.231  [5.7, 2.9, 4.2, 1.3]                1   \n",
       "97 2024-07-19 18:00:45.231  [6.2, 2.9, 4.3, 1.3]                1   \n",
       "98 2024-07-19 18:00:45.231  [5.1, 2.5, 3.0, 1.1]                1   \n",
       "99 2024-07-19 18:00:45.231  [5.7, 2.8, 4.1, 1.3]                1   \n",
       "\n",
       "                         out.probabilities  anomaly.count  \n",
       "0    [0.82590103, 0.087049514, 0.08704949]              0  \n",
       "1    [0.82590103, 0.087049514, 0.08704949]              0  \n",
       "2    [0.82590103, 0.087049514, 0.08704949]              0  \n",
       "3    [0.82590103, 0.087049514, 0.08704949]              0  \n",
       "4    [0.82590103, 0.087049514, 0.08704949]              0  \n",
       "..                                     ...            ...  \n",
       "95    [0.08704949, 0.82590103, 0.08704949]              0  \n",
       "96    [0.08704949, 0.82590103, 0.08704949]              0  \n",
       "97    [0.08704949, 0.82590103, 0.08704949]              0  \n",
       "98  [0.088133186, 0.82373357, 0.088133186]              0  \n",
       "99    [0.08704949, 0.82590103, 0.08704949]              0  \n",
       "\n",
       "[100 rows x 5 columns]"
      ]
     },
     "execution_count": 11,
     "metadata": {},
     "output_type": "execute_result"
    }
   ],
   "source": [
    "pipeline.infer(dataframe)"
   ]
  },
  {
   "cell_type": "markdown",
   "id": "16c07635",
   "metadata": {},
   "source": [
    "### Undeploy Pipelines\n",
    "\n",
    "With the tutorial complete, the pipeline is undeployed to return the resources back to the cluster."
   ]
  },
  {
   "cell_type": "code",
   "execution_count": 12,
   "id": "cbdc5a2e-266f-4da8-a88d-1733aca72f0d",
   "metadata": {},
   "outputs": [
    {
     "data": {
      "text/html": [
       "<table><tr><th>name</th> <td>xgboost-rf-classification</td></tr><tr><th>created</th> <td>2024-07-19 16:39:08.601984+00:00</td></tr><tr><th>last_updated</th> <td>2024-07-19 18:00:21.961555+00:00</td></tr><tr><th>deployed</th> <td>False</td></tr><tr><th>workspace_id</th> <td>45</td></tr><tr><th>workspace_name</th> <td>xgboost-rf-classification</td></tr><tr><th>arch</th> <td>x86</td></tr><tr><th>accel</th> <td>none</td></tr><tr><th>tags</th> <td></td></tr><tr><th>versions</th> <td>7bac25f2-74e1-4166-97a1-e92f382741d5, b61bb623-dfde-4676-b48b-4178096f172c, 7d19728f-6a44-4858-b11e-6c9029622f83, 335aebc6-5a6a-4563-a039-bbbd54c7c060, 7bae5762-5e2b-4d95-8c95-b01003438330, 1d45cd70-06a5-4570-84b6-93d7ce3f8139, 6f555bf1-36c0-4b49-84ff-9b72baf3020b, 14653559-ce12-4ebb-912d-22dbc21fec7c, 94df97ae-5594-4b65-829f-ad8eb4df5c9d, ff951a29-2a5c-4855-aa74-57350a9dda11, 77010639-8d71-48be-9403-3ef0e67cfb0f</td></tr><tr><th>steps</th> <td>xgboost-rf-classification</td></tr><tr><th>published</th> <td>False</td></tr></table>"
      ],
      "text/plain": [
       "{'name': 'xgboost-rf-classification', 'create_time': datetime.datetime(2024, 7, 19, 16, 39, 8, 601984, tzinfo=tzutc()), 'definition': \"[{'ModelInference': {'models': [{'name': 'xgboost-rf-classification', 'version': '0fcd0d49-fdb7-4ee0-a599-ba0f1394ab04', 'sha': '1e5ecfd77cb3bb75eab7aaf5b3975d037191c2d9e825805bff027fbec76be296'}]}}]\"}"
      ]
     },
     "execution_count": 12,
     "metadata": {},
     "output_type": "execute_result"
    }
   ],
   "source": [
    "pipeline.undeploy()"
   ]
  }
 ],
 "metadata": {
  "kernelspec": {
   "display_name": "Python 3 (ipykernel)",
   "language": "python",
   "name": "python3"
  },
  "language_info": {
   "codemirror_mode": {
    "name": "ipython",
    "version": 3
   },
   "file_extension": ".py",
   "mimetype": "text/x-python",
   "name": "python",
   "nbconvert_exporter": "python",
   "pygments_lexer": "ipython3",
   "version": "3.8.19"
  }
 },
 "nbformat": 4,
 "nbformat_minor": 5
}
