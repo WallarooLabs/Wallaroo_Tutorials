{
 "cells": [
  {
   "cell_type": "markdown",
   "id": "c18c8461-a00a-4a16-b3d7-2dee9187f672",
   "metadata": {},
   "source": [
    "This tutorial can be downloaded as part of the [Wallaroo Tutorials repository](https://github.com/WallarooLabs/Wallaroo_Tutorials/blob/wallaroo2025.1_tutorials/wallaroo-ml-operations/packaging-and-deployment/packaging-and-deployment-by-framework/sklearn).\n",
    "\n",
    "## Wallaroo Model Upload via the Wallaroo SDK: SKLearn Linear Regression\n",
    "\n",
    "The following tutorial demonstrates how to upload a SKLearn Linear Regression model to a Wallaroo instance.\n",
    "\n",
    "### Tutorial Goals\n",
    "\n",
    "Demonstrate the following:\n",
    "\n",
    "* Upload a SKLearn Linear Regression model to a Wallaroo instance.\n",
    "* Create a pipeline and add the model as a pipeline step.\n",
    "* Perform a sample inference.\n",
    "\n",
    "### Prerequisites\n",
    "\n",
    "* Wallaroo Version 2023.2.1 or above instance.\n",
    "\n",
    "### References\n",
    "\n",
    "* [Wallaroo MLOps API Essentials Guide: Model Upload and Registrations](https://docs.wallaroo.ai/wallaroo-developer-guides/wallaroo-api-guide/wallaroo-mlops-api-essential-guide/wallaroo-mlops-api-essentials-guide-model-uploads/)\n",
    "* [Wallaroo API Connection Guide](https://docs.wallaroo.ai/wallaroo-developer-guides/wallaroo-api-guide/wallaroo-mlops-connection-guide/)\n",
    "* [DNS Integration Guide](https://docs.wallaroo.ai/wallaroo-operations-guide/wallaroo-configuration/wallaroo-dns-guide/)"
   ]
  },
  {
   "cell_type": "markdown",
   "id": "81b1f65b",
   "metadata": {},
   "source": [
    "## Tutorial Steps\n",
    "\n",
    "### Import Libraries\n",
    "\n",
    "The first step is to import the libraries we'll be using.  These are included by default in the Wallaroo instance's JupyterHub service."
   ]
  },
  {
   "cell_type": "code",
   "execution_count": 1,
   "id": "3436bb69-bb45-4d18-bc19-d82f76ae9bfe",
   "metadata": {},
   "outputs": [],
   "source": [
    "import json\n",
    "import os\n",
    "import pickle\n",
    "\n",
    "import wallaroo\n",
    "from wallaroo.pipeline import Pipeline\n",
    "from wallaroo.deployment_config import DeploymentConfigBuilder\n",
    "from wallaroo.object import EntityNotFoundError\n",
    "from wallaroo.framework import Framework\n",
    "\n",
    "import pyarrow as pa\n",
    "import numpy as np\n",
    "import pandas as pd\n"
   ]
  },
  {
   "cell_type": "markdown",
   "id": "0c944c21",
   "metadata": {},
   "source": [
    "### Open a Connection to Wallaroo\n",
    "\n",
    "The next step is connect to Wallaroo through the Wallaroo client.  The Python library is included in the Wallaroo install and available through the Jupyter Hub interface provided with your Wallaroo environment.\n",
    "\n",
    "This is accomplished using the `wallaroo.Client()` command, which provides a URL to grant the SDK permission to your specific Wallaroo environment.  When displayed, enter the URL into a browser and confirm permissions.  Store the connection into a variable that can be referenced later.\n",
    "\n",
    "If logging into the Wallaroo instance through the internal JupyterHub service, use `wl = wallaroo.Client()`.  For more details on logging in through Wallaroo, see the [Wallaroo SDK Essentials Guide: Client Connection](https://docs.wallaroo.ai/wallaroo-developer-guides/wallaroo-sdk-guides/wallaroo-sdk-essentials-guide/wallaroo-sdk-essentials-client/)."
   ]
  },
  {
   "cell_type": "code",
   "execution_count": 2,
   "id": "6988575b",
   "metadata": {},
   "outputs": [],
   "source": [
    "wl = wallaroo.Client()"
   ]
  },
  {
   "cell_type": "markdown",
   "id": "0a9733ee",
   "metadata": {},
   "source": [
    "### Set Variables\n",
    "\n",
    "We'll set the name of our workspace, pipeline, models and files.  Workspace names must be unique across the Wallaroo workspace.  For this, we'll add in a randomly generated 4 characters to the workspace name to prevent collisions with other users' workspaces.  If running this tutorial, we recommend hard coding the workspace name so it will function in the same workspace each time it's run.\n",
    "\n"
   ]
  },
  {
   "cell_type": "code",
   "execution_count": 3,
   "id": "170bf187-321c-45ea-867a-0cc2879b0256",
   "metadata": {},
   "outputs": [],
   "source": [
    "workspace_name = f'sklearn-linear-regression'\n",
    "pipeline_name = f'sklearn-linear-regression'\n",
    "\n",
    "model_name = 'sklearn-linear-regression'\n",
    "model_file_name = 'models/model-auto-conversion_sklearn_linreg_diabetes.pkl'"
   ]
  },
  {
   "cell_type": "markdown",
   "id": "b7854d7d",
   "metadata": {},
   "source": [
    "### Create Workspace and Pipeline\n",
    "\n",
    "We will now create the Wallaroo workspace to store our model and set it as the current workspace.  Future commands will default to this workspace for pipeline creation, model uploads, etc.  We'll create our Wallaroo pipeline to deploy our model."
   ]
  },
  {
   "cell_type": "code",
   "execution_count": 4,
   "id": "37e5e9b5",
   "metadata": {},
   "outputs": [],
   "source": [
    "workspace = wl.get_workspace(name=workspace_name, create_if_not_exist=True)\n",
    "wl.set_current_workspace(workspace)\n",
    "\n",
    "pipeline = wl.build_pipeline(pipeline_name)"
   ]
  },
  {
   "cell_type": "markdown",
   "id": "2a7ab7eb-90de-4e94-90d5-316e13eae5ab",
   "metadata": {},
   "source": [
    "### Configure Data Schemas\n",
    "\n",
    "SKLearn models are uploaded to Wallaroo through the Wallaroo Client [`upload_model`](/wallaroo-developer-guides/wallaroo-sdk-guides/wallaroo-sdk-reference-guide/client/#Client.upload_model) method.\n",
    "\n",
    "### Upload SKLearn Model Parameters\n",
    "\n",
    "The following parameters are required for SKLearn models.  Note that while some fields are considered as **optional** for the `upload_model` method, they are required for proper uploading of a SKLearn model to Wallaroo.\n",
    "\n",
    "| Parameter | Type | Description |\n",
    "|---|---|---|\n",
    "|`name` | `string` (*Required*) | The name of the model.  Model names are unique per workspace.  Models that are uploaded with the same name are assigned as a new **version** of the model. |\n",
    "|`path` | `string` (*Required*) | The path to the model file being uploaded. \n",
    "|`framework` |`string` (*Upload Method Optional, SKLearn model Required*) | Set as the `Framework.SKLEARN`. |\n",
    "|`input_schema` | `pyarrow.lib.Schema` (*Upload Method Optional, SKLearn model Required*) | The input schema in Apache Arrow schema format. |\n",
    "|`output_schema` | `pyarrow.lib.Schema` (*Upload Method Optional, SKLearn model Required*) | The output schema in Apache Arrow schema format. |\n",
    "| `convert_wait` | `bool` (*Upload Method Optional, SKLearn model Optional*) (*Default: True*) | <ul><li>**True**: Waits in the script for the model conversion completion.</li><li>**False**:  Proceeds with the script without waiting for the model conversion process to display complete. |\n",
    "\n",
    "Once the upload process starts, the model is containerized by the Wallaroo instance.  This process may take up to 10 minutes."
   ]
  },
  {
   "cell_type": "code",
   "execution_count": 5,
   "id": "1167694d-d0ac-4432-9fde-4ba7a5e65846",
   "metadata": {},
   "outputs": [],
   "source": [
    "input_schema = pa.schema([\n",
    "    pa.field('inputs', pa.list_(pa.float64(), list_size=10))\n",
    "])\n",
    "\n",
    "output_schema = pa.schema([\n",
    "    pa.field('predictions', pa.float32())\n",
    "])"
   ]
  },
  {
   "cell_type": "markdown",
   "id": "af676365-ebc8-48ce-b008-389ea3af91cd",
   "metadata": {
    "tags": []
   },
   "source": [
    "### Upload Model\n",
    "\n",
    "The model will be uploaded with the framework set as `Framework.SKLEARN`."
   ]
  },
  {
   "cell_type": "code",
   "execution_count": 6,
   "id": "3700515d-f91c-481f-a495-29ad82cab91f",
   "metadata": {},
   "outputs": [
    {
     "name": "stdout",
     "output_type": "stream",
     "text": [
      "Waiting for model loading - this will take up to 10.0min.\n",
      "Model is pending loading to a native runtime..\n",
      "Model is attempting loading to a native runtime..incompatible\n",
      "\n",
      "Model is pending loading to a container runtime.....\n",
      "Model is attempting loading to a container runtime.....successful\n",
      "\n",
      "Ready\n"
     ]
    },
    {
     "data": {
      "text/html": [
       "<table>\n",
       "        <tr>\n",
       "          <td>Name</td>\n",
       "          <td>sklearn-linear-regression</td>\n",
       "        </tr>\n",
       "        <tr>\n",
       "          <td>Version</td>\n",
       "          <td>1da200ce-0c9f-4e77-b291-bce668705bf6</td>\n",
       "        </tr>\n",
       "        <tr>\n",
       "          <td>File Name</td>\n",
       "          <td>model-auto-conversion_sklearn_linreg_diabetes.pkl</td>\n",
       "        </tr>\n",
       "        <tr>\n",
       "          <td>SHA</td>\n",
       "          <td>6a9085e2d65bf0379934651d2272d3c6c4e020e36030933d85df3a8d15135a45</td>\n",
       "        </tr>\n",
       "        <tr>\n",
       "          <td>Status</td>\n",
       "          <td>ready</td>\n",
       "        </tr>\n",
       "        <tr>\n",
       "          <td>Image Path</td>\n",
       "          <td>proxy.replicated.com/proxy/wallaroo/ghcr.io/wallaroolabs/mac-deploy:v2024.2.0-main-5421</td>\n",
       "        </tr>\n",
       "        <tr>\n",
       "          <td>Architecture</td>\n",
       "          <td>x86</td>\n",
       "        </tr>\n",
       "        <tr>\n",
       "          <td>Acceleration</td>\n",
       "          <td>none</td>\n",
       "        </tr>\n",
       "        <tr>\n",
       "          <td>Updated At</td>\n",
       "          <td>2024-22-Jul 20:53:18</td>\n",
       "        </tr>\n",
       "        <tr>\n",
       "          <td>Workspace id</td>\n",
       "          <td>10</td>\n",
       "        </tr>\n",
       "        <tr>\n",
       "          <td>Workspace name</td>\n",
       "          <td>sklearn-linear-regression</td>\n",
       "        </tr>\n",
       "      </table>"
      ],
      "text/plain": [
       "{'name': 'sklearn-linear-regression', 'version': '1da200ce-0c9f-4e77-b291-bce668705bf6', 'file_name': 'model-auto-conversion_sklearn_linreg_diabetes.pkl', 'image_path': 'proxy.replicated.com/proxy/wallaroo/ghcr.io/wallaroolabs/mac-deploy:v2024.2.0-main-5421', 'arch': 'x86', 'accel': 'none', 'last_update_time': datetime.datetime(2024, 7, 22, 20, 53, 18, 126242, tzinfo=tzutc())}"
      ]
     },
     "execution_count": 6,
     "metadata": {},
     "output_type": "execute_result"
    }
   ],
   "source": [
    "model = wl.upload_model(model_name, \n",
    "                        model_file_name, \n",
    "                        framework=Framework.SKLEARN, \n",
    "                        input_schema=input_schema, \n",
    "                        output_schema=output_schema)\n",
    "model"
   ]
  },
  {
   "cell_type": "code",
   "execution_count": 7,
   "id": "0375a3c2",
   "metadata": {},
   "outputs": [
    {
     "data": {
      "text/plain": [
       "'flight'"
      ]
     },
     "execution_count": 7,
     "metadata": {},
     "output_type": "execute_result"
    }
   ],
   "source": [
    "model.config().runtime()"
   ]
  },
  {
   "cell_type": "markdown",
   "id": "47fcab28-dce9-4385-802c-70a8f48fec38",
   "metadata": {
    "tags": []
   },
   "source": [
    "### Deploy Pipeline\n",
    "\n",
    "The model is uploaded and ready for use.  We'll add it as a step in our pipeline, then deploy the pipeline.  For this example we're allocated 0.25 cpu and 4 Gi RAM to the pipeline through the pipeline's deployment configuration."
   ]
  },
  {
   "cell_type": "code",
   "execution_count": 8,
   "id": "2a709f2c-1332-4984-9cf8-87c6328d6ae4",
   "metadata": {},
   "outputs": [],
   "source": [
    "deployment_config = DeploymentConfigBuilder() \\\n",
    "    .cpus(0.25).memory('1Gi') \\\n",
    "    .build()"
   ]
  },
  {
   "cell_type": "code",
   "execution_count": 9,
   "id": "5ecc0a18-5912-4052-98a7-074b9db350b1",
   "metadata": {},
   "outputs": [
    {
     "name": "stdout",
     "output_type": "stream",
     "text": [
      " ok\n"
     ]
    },
    {
     "data": {
      "text/html": [
       "<table><tr><th>name</th> <td>sklearn-linear-regression</td></tr><tr><th>created</th> <td>2024-07-22 20:41:40.024660+00:00</td></tr><tr><th>last_updated</th> <td>2024-07-22 20:53:23.240996+00:00</td></tr><tr><th>deployed</th> <td>True</td></tr><tr><th>workspace_id</th> <td>10</td></tr><tr><th>workspace_name</th> <td>sklearn-linear-regression</td></tr><tr><th>arch</th> <td>x86</td></tr><tr><th>accel</th> <td>none</td></tr><tr><th>tags</th> <td></td></tr><tr><th>versions</th> <td>101286eb-99c3-40a9-a565-c3e6c4735a97, bc3d020d-2f16-4974-8355-4423c22ae86e, 5f5428d3-39d3-4b15-9099-693fd244aee6, 4edf2c45-1bb5-4c9c-af6e-4b9cce6bece0</td></tr><tr><th>steps</th> <td>sklearn-linear-regression</td></tr><tr><th>published</th> <td>False</td></tr></table>"
      ],
      "text/plain": [
       "{'name': 'sklearn-linear-regression', 'create_time': datetime.datetime(2024, 7, 22, 20, 41, 40, 24660, tzinfo=tzutc()), 'definition': \"[{'ModelInference': {'models': [{'name': 'sklearn-linear-regression', 'version': '1da200ce-0c9f-4e77-b291-bce668705bf6', 'sha': '6a9085e2d65bf0379934651d2272d3c6c4e020e36030933d85df3a8d15135a45'}]}}]\"}"
      ]
     },
     "execution_count": 9,
     "metadata": {},
     "output_type": "execute_result"
    }
   ],
   "source": [
    "# clear the pipeline if it was used before\n",
    "pipeline.clear()\n",
    "\n",
    "pipeline.add_model_step(model)\n",
    "\n",
    "pipeline.deploy(deployment_config=deployment_config)"
   ]
  },
  {
   "cell_type": "markdown",
   "id": "60cb4aa0-601d-4556-a3f8-cdc59e758add",
   "metadata": {},
   "source": [
    "## Inference\n",
    "\n",
    "SKLearn models must have all of the data as one line to prevent columns from being read out of order when submitting in JSON.  The following will take in the data, convert the rows into a single `inputs` for the table, then perform the inference.  From the `output_schema` we have defined the output as `predictions` which will be displayed in our inference result output as `out.predictions`."
   ]
  },
  {
   "cell_type": "code",
   "execution_count": 10,
   "id": "1eab3c59-c7a2-4e79-a468-e5bcb65d916c",
   "metadata": {},
   "outputs": [
    {
     "data": {
      "text/html": [
       "<div>\n",
       "<style scoped>\n",
       "    .dataframe tbody tr th:only-of-type {\n",
       "        vertical-align: middle;\n",
       "    }\n",
       "\n",
       "    .dataframe tbody tr th {\n",
       "        vertical-align: top;\n",
       "    }\n",
       "\n",
       "    .dataframe thead th {\n",
       "        text-align: right;\n",
       "    }\n",
       "</style>\n",
       "<table border=\"1\" class=\"dataframe\">\n",
       "  <thead>\n",
       "    <tr style=\"text-align: right;\">\n",
       "      <th></th>\n",
       "      <th>age</th>\n",
       "      <th>sex</th>\n",
       "      <th>bmi</th>\n",
       "      <th>bp</th>\n",
       "      <th>s1</th>\n",
       "      <th>s2</th>\n",
       "      <th>s3</th>\n",
       "      <th>s4</th>\n",
       "      <th>s5</th>\n",
       "      <th>s6</th>\n",
       "    </tr>\n",
       "  </thead>\n",
       "  <tbody>\n",
       "    <tr>\n",
       "      <th>0</th>\n",
       "      <td>0.038076</td>\n",
       "      <td>0.050680</td>\n",
       "      <td>0.061696</td>\n",
       "      <td>0.021872</td>\n",
       "      <td>-0.044223</td>\n",
       "      <td>-0.034821</td>\n",
       "      <td>-0.043401</td>\n",
       "      <td>-0.002592</td>\n",
       "      <td>0.019907</td>\n",
       "      <td>-0.017646</td>\n",
       "    </tr>\n",
       "    <tr>\n",
       "      <th>1</th>\n",
       "      <td>-0.001882</td>\n",
       "      <td>-0.044642</td>\n",
       "      <td>-0.051474</td>\n",
       "      <td>-0.026328</td>\n",
       "      <td>-0.008449</td>\n",
       "      <td>-0.019163</td>\n",
       "      <td>0.074412</td>\n",
       "      <td>-0.039493</td>\n",
       "      <td>-0.068332</td>\n",
       "      <td>-0.092204</td>\n",
       "    </tr>\n",
       "  </tbody>\n",
       "</table>\n",
       "</div>"
      ],
      "text/plain": [
       "        age       sex       bmi        bp        s1        s2        s3  \\\n",
       "0  0.038076  0.050680  0.061696  0.021872 -0.044223 -0.034821 -0.043401   \n",
       "1 -0.001882 -0.044642 -0.051474 -0.026328 -0.008449 -0.019163  0.074412   \n",
       "\n",
       "         s4        s5        s6  \n",
       "0 -0.002592  0.019907 -0.017646  \n",
       "1 -0.039493 -0.068332 -0.092204  "
      ]
     },
     "metadata": {},
     "output_type": "display_data"
    },
    {
     "data": {
      "text/html": [
       "<div>\n",
       "<style scoped>\n",
       "    .dataframe tbody tr th:only-of-type {\n",
       "        vertical-align: middle;\n",
       "    }\n",
       "\n",
       "    .dataframe tbody tr th {\n",
       "        vertical-align: top;\n",
       "    }\n",
       "\n",
       "    .dataframe thead th {\n",
       "        text-align: right;\n",
       "    }\n",
       "</style>\n",
       "<table border=\"1\" class=\"dataframe\">\n",
       "  <thead>\n",
       "    <tr style=\"text-align: right;\">\n",
       "      <th></th>\n",
       "      <th>inputs</th>\n",
       "    </tr>\n",
       "  </thead>\n",
       "  <tbody>\n",
       "    <tr>\n",
       "      <th>0</th>\n",
       "      <td>[0.0380759064, 0.0506801187, 0.0616962065, 0.0...</td>\n",
       "    </tr>\n",
       "    <tr>\n",
       "      <th>1</th>\n",
       "      <td>[-0.0018820165, -0.0446416365, -0.051474061200...</td>\n",
       "    </tr>\n",
       "  </tbody>\n",
       "</table>\n",
       "</div>"
      ],
      "text/plain": [
       "                                              inputs\n",
       "0  [0.0380759064, 0.0506801187, 0.0616962065, 0.0...\n",
       "1  [-0.0018820165, -0.0446416365, -0.051474061200..."
      ]
     },
     "metadata": {},
     "output_type": "display_data"
    }
   ],
   "source": [
    "data = pd.read_json('data/test_linear_regression_data.json')\n",
    "display(data)\n",
    "\n",
    "# move the column values to a single array input\n",
    "dataframe = pd.DataFrame({\"inputs\": data[:2].values.tolist()})\n",
    "display(dataframe)"
   ]
  },
  {
   "cell_type": "code",
   "execution_count": 11,
   "id": "468c2b30-f7b8-4d29-869a-4a91c98477e4",
   "metadata": {},
   "outputs": [
    {
     "data": {
      "text/html": [
       "<div>\n",
       "<style scoped>\n",
       "    .dataframe tbody tr th:only-of-type {\n",
       "        vertical-align: middle;\n",
       "    }\n",
       "\n",
       "    .dataframe tbody tr th {\n",
       "        vertical-align: top;\n",
       "    }\n",
       "\n",
       "    .dataframe thead th {\n",
       "        text-align: right;\n",
       "    }\n",
       "</style>\n",
       "<table border=\"1\" class=\"dataframe\">\n",
       "  <thead>\n",
       "    <tr style=\"text-align: right;\">\n",
       "      <th></th>\n",
       "      <th>time</th>\n",
       "      <th>in.inputs</th>\n",
       "      <th>out.predictions</th>\n",
       "      <th>anomaly.count</th>\n",
       "    </tr>\n",
       "  </thead>\n",
       "  <tbody>\n",
       "    <tr>\n",
       "      <th>0</th>\n",
       "      <td>2024-07-22 20:53:23.765</td>\n",
       "      <td>[0.0380759064, 0.0506801187, 0.0616962065, 0.0...</td>\n",
       "      <td>206.11668</td>\n",
       "      <td>0</td>\n",
       "    </tr>\n",
       "    <tr>\n",
       "      <th>1</th>\n",
       "      <td>2024-07-22 20:53:23.765</td>\n",
       "      <td>[-0.0018820165, -0.0446416365, -0.0514740612, ...</td>\n",
       "      <td>68.07103</td>\n",
       "      <td>0</td>\n",
       "    </tr>\n",
       "  </tbody>\n",
       "</table>\n",
       "</div>"
      ],
      "text/plain": [
       "                     time                                          in.inputs  \\\n",
       "0 2024-07-22 20:53:23.765  [0.0380759064, 0.0506801187, 0.0616962065, 0.0...   \n",
       "1 2024-07-22 20:53:23.765  [-0.0018820165, -0.0446416365, -0.0514740612, ...   \n",
       "\n",
       "   out.predictions  anomaly.count  \n",
       "0        206.11668              0  \n",
       "1         68.07103              0  "
      ]
     },
     "execution_count": 11,
     "metadata": {},
     "output_type": "execute_result"
    }
   ],
   "source": [
    "pipeline.infer(dataframe)"
   ]
  },
  {
   "cell_type": "markdown",
   "id": "3acb7c35",
   "metadata": {},
   "source": [
    "### Undeploy Pipelines\n",
    "\n",
    "With the tutorial complete, the pipeline is undeployed to return the resources back to the cluster."
   ]
  },
  {
   "cell_type": "code",
   "execution_count": 12,
   "id": "cbdc5a2e-266f-4da8-a88d-1733aca72f0d",
   "metadata": {},
   "outputs": [
    {
     "name": "stdout",
     "output_type": "stream",
     "text": [
      "Waiting for undeployment - this will take up to 45s .................................... ok\n"
     ]
    },
    {
     "data": {
      "text/html": [
       "<table><tr><th>name</th> <td>sklearn-linear-regression</td></tr><tr><th>created</th> <td>2024-07-22 20:41:40.024660+00:00</td></tr><tr><th>last_updated</th> <td>2024-07-22 20:53:23.240996+00:00</td></tr><tr><th>deployed</th> <td>False</td></tr><tr><th>workspace_id</th> <td>10</td></tr><tr><th>workspace_name</th> <td>sklearn-linear-regression</td></tr><tr><th>arch</th> <td>x86</td></tr><tr><th>accel</th> <td>none</td></tr><tr><th>tags</th> <td></td></tr><tr><th>versions</th> <td>101286eb-99c3-40a9-a565-c3e6c4735a97, bc3d020d-2f16-4974-8355-4423c22ae86e, 5f5428d3-39d3-4b15-9099-693fd244aee6, 4edf2c45-1bb5-4c9c-af6e-4b9cce6bece0</td></tr><tr><th>steps</th> <td>sklearn-linear-regression</td></tr><tr><th>published</th> <td>False</td></tr></table>"
      ],
      "text/plain": [
       "{'name': 'sklearn-linear-regression', 'create_time': datetime.datetime(2024, 7, 22, 20, 41, 40, 24660, tzinfo=tzutc()), 'definition': \"[{'ModelInference': {'models': [{'name': 'sklearn-linear-regression', 'version': '1da200ce-0c9f-4e77-b291-bce668705bf6', 'sha': '6a9085e2d65bf0379934651d2272d3c6c4e020e36030933d85df3a8d15135a45'}]}}]\"}"
      ]
     },
     "execution_count": 12,
     "metadata": {},
     "output_type": "execute_result"
    }
   ],
   "source": [
    "pipeline.undeploy()"
   ]
  }
 ],
 "metadata": {
  "kernelspec": {
   "display_name": "Python 3 (ipykernel)",
   "language": "python",
   "name": "python3"
  },
  "language_info": {
   "codemirror_mode": {
    "name": "ipython",
    "version": 3
   },
   "file_extension": ".py",
   "mimetype": "text/x-python",
   "name": "python",
   "nbconvert_exporter": "python",
   "pygments_lexer": "ipython3",
   "version": "3.9.13"
  }
 },
 "nbformat": 4,
 "nbformat_minor": 5
}
