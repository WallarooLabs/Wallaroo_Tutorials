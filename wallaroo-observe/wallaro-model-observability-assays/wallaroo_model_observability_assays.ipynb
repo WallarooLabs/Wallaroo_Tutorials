{
 "cells": [
  {
   "cell_type": "markdown",
   "metadata": {},
   "source": [
    "This tutorial and the assets can be downloaded as part of the [Wallaroo Tutorials repository](https://github.com/WallarooLabs/Wallaroo_Tutorials/blob/wallaroo2024.1_tutorials/wallaroo-observe/wallaro-model-observability-assays).\n",
    "\n",
    "## Model Drift Observability with Assays\n",
    "\n",
    "The Model Insights feature lets you monitor how the environment that your model operates within may be changing in ways that affect it's predictions so that you can intervene (retrain) in an efficient and timely manner. Changes in the inputs, **data drift**, can occur due to errors in the data processing pipeline or due to changes in the environment such as user preference or behavior. \n",
    "\n",
    "This notebook focuses on interactive exploration over historical data. After you are comfortable with how your data has behaved historically, you can schedule this same analysis (called an *assay*) to automatically run periodically, looking for indications of data drift or concept drift.\n",
    "\n",
    "In this notebook, we will be running a drift assay on an ONNX model pre-trained to predict house prices.\n",
    "\n",
    "## Goal\n",
    "\n",
    "Model insights monitors the output of the spam classifier model over a designated time window and compares it to an expected baseline distribution. We measure the difference between  the window distribution and the baseline distribution; large differences indicate that the behavior of the model (or its inputs) has changed from what we expect. This possibly indicates a change that should be accounted for, possibly by retraining the models.\n",
    "\n",
    "### Resources\n",
    "\n",
    "This tutorial provides the following:\n",
    "\n",
    "* Models:\n",
    "  * `models/rf_model.onnx`: The champion model that has been used in this environment for some time.\n",
    "  * Various inputs:\n",
    "    * `smallinputs.df.json`: A set of house inputs that tends to generate low house price values.\n",
    "    * `biginputs.df.json`: A set of house inputs that tends to generate high house price values.\n",
    "\n",
    "### Prerequisites\n",
    "\n",
    "* A deployed Wallaroo instance\n",
    "* The following Python libraries installed:\n",
    "  * [`wallaroo`](https://pypi.org/project/wallaroo/): The Wallaroo SDK. Included with the Wallaroo JupyterHub service by default.\n",
    "  * [`pandas`](https://pypi.org/project/pandas/): Pandas, mainly used for Pandas DataFrame\n"
   ]
  },
  {
   "cell_type": "markdown",
   "metadata": {},
   "source": [
    "## Steps\n",
    "\n",
    "* Deploying a sample ML model used to determine house prices based on a set of input parameters.\n",
    "* Build an assay baseline from a set of baseline start and end dates, and an assay baseline from a numpy array.\n",
    "* Preview the assay and show different assay configurations.\n",
    "* Upload the assay.\n",
    "* View assay results.\n",
    "* Pause and resume the assay.\n",
    "\n",
    "### Import Libraries\n",
    "\n",
    "The first step will be to import our libraries, and set variables used through this tutorial."
   ]
  },
  {
   "cell_type": "code",
   "execution_count": 1,
   "metadata": {},
   "outputs": [],
   "source": [
    "import wallaroo\n",
    "from wallaroo.object import EntityNotFoundError\n",
    "from wallaroo.framework import Framework\n",
    "\n",
    "from IPython.display import display\n",
    "\n",
    "# used to display DataFrame information without truncating\n",
    "from IPython.display import display\n",
    "import pandas as pd\n",
    "pd.set_option('display.max_colwidth', None)\n",
    "\n",
    "import datetime\n",
    "import time\n",
    "\n",
    "workspace_name = f'assay-demonstration-tutorial'\n",
    "main_pipeline_name = f'assay-demonstration-tutorial'\n",
    "model_name_control = f'house-price-estimator'\n",
    "model_file_name_control = './models/rf_model.onnx'\n",
    "\n",
    "# Set the name of the assay\n",
    "assay_name=f\"house price assay demo\"\n",
    "\n",
    "# ignoring warnings for demonstration\n",
    "import warnings\n",
    "warnings.filterwarnings('ignore')\n",
    "\n",
    "# used to display DataFrame information without truncating\n",
    "from IPython.display import display\n",
    "import pandas as pd\n",
    "pd.set_option('display.max_colwidth', None)"
   ]
  },
  {
   "cell_type": "markdown",
   "metadata": {},
   "source": [
    "### Connect to the Wallaroo Instance\n",
    "\n",
    "The first step is to connect to Wallaroo through the Wallaroo client.  The Python library is included in the Wallaroo install and available through the Jupyter Hub interface provided with your Wallaroo environment.\n",
    "\n",
    "This is accomplished using the `wallaroo.Client()` command, which provides a URL to grant the SDK permission to your specific Wallaroo environment.  When displayed, enter the URL into a browser and confirm permissions.  Store the connection into a variable that can be referenced later.\n",
    "\n",
    "If logging into the Wallaroo instance through the internal JupyterHub service, use `wl = wallaroo.Client()`.  For more information on Wallaroo Client settings, see the [Client Connection guide](https://docs.wallaroo.ai/wallaroo-developer-guides/wallaroo-sdk-guides/wallaroo-sdk-essentials-guide/wallaroo-sdk-essentials-client/)."
   ]
  },
  {
   "cell_type": "code",
   "execution_count": 3,
   "metadata": {},
   "outputs": [],
   "source": [
    "# Login through local Wallaroo instance\n",
    "\n",
    "wl = wallaroo.Client()"
   ]
  },
  {
   "cell_type": "markdown",
   "metadata": {},
   "source": [
    "### Create Workspace\n",
    "\n",
    "We will create a workspace to manage our pipeline and models.  The following variables will set the name of our sample workspace then set it as the current workspace.\n",
    "\n",
    "Workspace, pipeline, and model names should be unique to each user, so we'll add in a randomly generated suffix so multiple people can run this tutorial in a Wallaroo instance without effecting each other."
   ]
  },
  {
   "cell_type": "code",
   "execution_count": 4,
   "metadata": {},
   "outputs": [
    {
     "data": {
      "text/plain": [
       "{'name': 'assay-demonstration-tutorial', 'id': 5, 'archived': False, 'created_by': '3a5f6a48-ba54-4ee6-a1d1-7e78be567625', 'created_at': '2024-04-04T20:21:25.279453+00:00', 'models': [{'name': 'house-price-estimator', 'versions': 1, 'owner_id': '\"\"', 'last_update_time': datetime.datetime(2024, 4, 4, 20, 21, 26, 10539, tzinfo=tzutc()), 'created_at': datetime.datetime(2024, 4, 4, 20, 21, 26, 10539, tzinfo=tzutc())}], 'pipelines': [{'name': 'assay-demonstration-tutorial', 'create_time': datetime.datetime(2024, 4, 4, 20, 21, 26, 97172, tzinfo=tzutc()), 'definition': '[]'}]}"
      ]
     },
     "execution_count": 4,
     "metadata": {},
     "output_type": "execute_result"
    }
   ],
   "source": [
    "workspace = wl.get_workspace(name=workspace_name, create_if_not_exist=True)\n",
    "\n",
    "wl.set_current_workspace(workspace)"
   ]
  },
  {
   "cell_type": "markdown",
   "metadata": {},
   "source": [
    "### Upload The Champion Model\n",
    "\n",
    "For our example, we will upload the champion model that has been trained to derive house prices from a variety of inputs.  The model file is `rf_model.onnx`, and is uploaded with the name `house-price-estimator`."
   ]
  },
  {
   "cell_type": "code",
   "execution_count": 5,
   "metadata": {},
   "outputs": [],
   "source": [
    "housing_model_control = (wl.upload_model(model_name_control, \n",
    "                                        model_file_name_control, \n",
    "                                        framework=Framework.ONNX)\n",
    "                                        .configure(tensor_fields=[\"tensor\"])\n",
    "                        )"
   ]
  },
  {
   "cell_type": "markdown",
   "metadata": {},
   "source": [
    "### Build the Pipeline\n",
    "\n",
    "This pipeline is made to be an example of an existing situation where a model is deployed and being used for inferences in a production environment.  We'll call it `assay-demonstration-tutorial`, set `housing_model_control` as a pipeline step, then run a few sample inferences.\n",
    "\n",
    "This pipeline will be a simple one - just a single pipeline step."
   ]
  },
  {
   "cell_type": "code",
   "execution_count": 6,
   "metadata": {},
   "outputs": [
    {
     "name": "stdout",
     "output_type": "stream",
     "text": [
      "Waiting for deployment - this will take up to 45s ............. ok\n"
     ]
    },
    {
     "data": {
      "text/html": [
       "<table><tr><th>name</th> <td>assay-demonstration-tutorial</td></tr><tr><th>created</th> <td>2024-04-04 20:21:26.097172+00:00</td></tr><tr><th>last_updated</th> <td>2024-04-05 14:21:56.146938+00:00</td></tr><tr><th>deployed</th> <td>True</td></tr><tr><th>arch</th> <td>x86</td></tr><tr><th>accel</th> <td>none</td></tr><tr><th>tags</th> <td></td></tr><tr><th>versions</th> <td>96fffb75-1052-44c3-ac7a-1de65e1cfa6a, c4176af9-607e-4142-a65b-6d8242848ec0, e6af1065-6cce-4900-872c-0d5ac0f66ae7, 7afd488f-fbfb-479c-9ff2-f8472147678e</td></tr><tr><th>steps</th> <td>house-price-estimator</td></tr><tr><th>published</th> <td>False</td></tr></table>"
      ],
      "text/plain": [
       "{'name': 'assay-demonstration-tutorial', 'create_time': datetime.datetime(2024, 4, 4, 20, 21, 26, 97172, tzinfo=tzutc()), 'definition': \"[{'ModelInference': {'models': [{'name': 'house-price-estimator', 'version': 'f731388a-084f-41c4-b89f-6ecdd8a356de', 'sha': 'e22a0831aafd9917f3cc87a15ed267797f80e2afa12ad7d8810ca58f173b8cc6'}]}}]\"}"
      ]
     },
     "execution_count": 6,
     "metadata": {},
     "output_type": "execute_result"
    }
   ],
   "source": [
    "mainpipeline = wl.build_pipeline(main_pipeline_name)\n",
    "# clear the steps if used before\n",
    "mainpipeline.clear()\n",
    "\n",
    "mainpipeline.add_model_step(housing_model_control)\n",
    "\n",
    "#minimum deployment config\n",
    "deploy_config = wallaroo.DeploymentConfigBuilder().replica_count(1).cpus(0.5).memory(\"1Gi\").build()\n",
    "\n",
    "mainpipeline.deploy(deployment_config = deploy_config)"
   ]
  },
  {
   "cell_type": "markdown",
   "metadata": {},
   "source": [
    "### Testing\n",
    "\n",
    "We'll use two inferences as a quick sample test - one that has a house that should be determined around `$700k`, the other with a house determined to be around `$1.5` million."
   ]
  },
  {
   "cell_type": "code",
   "execution_count": 7,
   "metadata": {},
   "outputs": [
    {
     "data": {
      "text/html": [
       "<div>\n",
       "<style scoped>\n",
       "    .dataframe tbody tr th:only-of-type {\n",
       "        vertical-align: middle;\n",
       "    }\n",
       "\n",
       "    .dataframe tbody tr th {\n",
       "        vertical-align: top;\n",
       "    }\n",
       "\n",
       "    .dataframe thead th {\n",
       "        text-align: right;\n",
       "    }\n",
       "</style>\n",
       "<table border=\"1\" class=\"dataframe\">\n",
       "  <thead>\n",
       "    <tr style=\"text-align: right;\">\n",
       "      <th></th>\n",
       "      <th>time</th>\n",
       "      <th>in.tensor</th>\n",
       "      <th>out.variable</th>\n",
       "      <th>anomaly.count</th>\n",
       "    </tr>\n",
       "  </thead>\n",
       "  <tbody>\n",
       "    <tr>\n",
       "      <th>0</th>\n",
       "      <td>2024-04-05 14:22:11.225</td>\n",
       "      <td>[4.0, 2.5, 2900.0, 5505.0, 2.0, 0.0, 0.0, 3.0, 8.0, 2900.0, 0.0, 47.6063, -122.02, 2970.0, 5251.0, 12.0, 0.0, 0.0]</td>\n",
       "      <td>[718013.7]</td>\n",
       "      <td>0</td>\n",
       "    </tr>\n",
       "  </tbody>\n",
       "</table>\n",
       "</div>"
      ],
      "text/plain": [
       "                     time  \\\n",
       "0 2024-04-05 14:22:11.225   \n",
       "\n",
       "                                                                                                            in.tensor  \\\n",
       "0  [4.0, 2.5, 2900.0, 5505.0, 2.0, 0.0, 0.0, 3.0, 8.0, 2900.0, 0.0, 47.6063, -122.02, 2970.0, 5251.0, 12.0, 0.0, 0.0]   \n",
       "\n",
       "  out.variable  anomaly.count  \n",
       "0   [718013.7]              0  "
      ]
     },
     "metadata": {},
     "output_type": "display_data"
    }
   ],
   "source": [
    "normal_input = pd.DataFrame.from_records({\"tensor\": [[4.0, 2.5, 2900.0, 5505.0, 2.0, 0.0, 0.0, 3.0, 8.0, 2900.0, 0.0, 47.6063, -122.02, 2970.0, 5251.0, 12.0, 0.0, 0.0]]})\n",
    "result = mainpipeline.infer(normal_input)\n",
    "display(result)"
   ]
  },
  {
   "cell_type": "code",
   "execution_count": 8,
   "metadata": {},
   "outputs": [
    {
     "data": {
      "text/html": [
       "<div>\n",
       "<style scoped>\n",
       "    .dataframe tbody tr th:only-of-type {\n",
       "        vertical-align: middle;\n",
       "    }\n",
       "\n",
       "    .dataframe tbody tr th {\n",
       "        vertical-align: top;\n",
       "    }\n",
       "\n",
       "    .dataframe thead th {\n",
       "        text-align: right;\n",
       "    }\n",
       "</style>\n",
       "<table border=\"1\" class=\"dataframe\">\n",
       "  <thead>\n",
       "    <tr style=\"text-align: right;\">\n",
       "      <th></th>\n",
       "      <th>time</th>\n",
       "      <th>in.tensor</th>\n",
       "      <th>out.variable</th>\n",
       "      <th>anomaly.count</th>\n",
       "    </tr>\n",
       "  </thead>\n",
       "  <tbody>\n",
       "    <tr>\n",
       "      <th>0</th>\n",
       "      <td>2024-04-05 14:22:11.288</td>\n",
       "      <td>[4.0, 3.0, 3710.0, 20000.0, 2.0, 0.0, 2.0, 5.0, 10.0, 2760.0, 950.0, 47.6696, -122.261, 3970.0, 20000.0, 79.0, 0.0, 0.0]</td>\n",
       "      <td>[1514079.4]</td>\n",
       "      <td>0</td>\n",
       "    </tr>\n",
       "  </tbody>\n",
       "</table>\n",
       "</div>"
      ],
      "text/plain": [
       "                     time  \\\n",
       "0 2024-04-05 14:22:11.288   \n",
       "\n",
       "                                                                                                                  in.tensor  \\\n",
       "0  [4.0, 3.0, 3710.0, 20000.0, 2.0, 0.0, 2.0, 5.0, 10.0, 2760.0, 950.0, 47.6696, -122.261, 3970.0, 20000.0, 79.0, 0.0, 0.0]   \n",
       "\n",
       "  out.variable  anomaly.count  \n",
       "0  [1514079.4]              0  "
      ]
     },
     "metadata": {},
     "output_type": "display_data"
    }
   ],
   "source": [
    "large_house_input = pd.DataFrame.from_records({'tensor': [[4.0, 3.0, 3710.0, 20000.0, 2.0, 0.0, 2.0, 5.0, 10.0, 2760.0, 950.0, 47.6696, -122.261, 3970.0, 20000.0, 79.0, 0.0, 0.0]]})\n",
    "large_house_result = mainpipeline.infer(large_house_input)\n",
    "display(large_house_result)"
   ]
  },
  {
   "cell_type": "markdown",
   "metadata": {},
   "source": [
    "### Generate Sample Data\n",
    "\n",
    "Before creating the assays, we must generate data for the assays to build from.\n",
    "\n",
    "For this example, we will:\n",
    "\n",
    "* Perform sample inferences based on lower priced houses and use that as our baseline.\n",
    "* Generate inferences from specific set of high priced houses create inference outputs that will be outside the baseline.  This is used in later steps to demonstrate baseline comparison against assay analyses."
   ]
  },
  {
   "cell_type": "markdown",
   "metadata": {},
   "source": [
    "#### Inference Results History Generation\n",
    "\n",
    "To start the demonstration, we'll create a baseline of values from houses with small estimated prices and set that as our baseline.\n",
    "\n",
    "We will save the beginning and end periods of our baseline data to the variables `assay_baseline_start` and `assay_baseline_end`."
   ]
  },
  {
   "cell_type": "code",
   "execution_count": 9,
   "metadata": {},
   "outputs": [],
   "source": [
    "small_houses_inputs = pd.read_json('./data/smallinputs.df.json')\n",
    "baseline_size = 500\n",
    "\n",
    "# Where the baseline data will start\n",
    "assay_baseline_start = datetime.datetime.now()\n",
    "\n",
    "# These inputs will be random samples of small priced houses.  Around 30,000 is a good number\n",
    "small_houses = small_houses_inputs.sample(baseline_size, replace=True).reset_index(drop=True)\n",
    "\n",
    "# Wait 60 seconds to set this data apart from the rest\n",
    "time.sleep(60)\n",
    "small_results = mainpipeline.infer(small_houses)\n",
    "\n",
    "# Set the baseline end\n",
    "\n",
    "assay_baseline_end = datetime.datetime.now()"
   ]
  },
  {
   "cell_type": "markdown",
   "metadata": {},
   "source": [
    "#### Generate Numpy Baseline Values\n",
    "\n",
    "This process generates a numpy array of the inference results used as baseline data in later steps."
   ]
  },
  {
   "cell_type": "code",
   "execution_count": 10,
   "metadata": {},
   "outputs": [],
   "source": [
    "# get the numpy values\n",
    "\n",
    "# set the results to a non-array value\n",
    "small_results_baseline_df = small_results.copy()\n",
    "small_results_baseline_df['variable']=small_results['out.variable'].map(lambda x: x[0])\n",
    "small_results_baseline_df\n",
    "\n",
    "# set the numpy array\n",
    "small_results_baseline = small_results_baseline_df['variable'].to_numpy()"
   ]
  },
  {
   "cell_type": "markdown",
   "metadata": {},
   "source": [
    "#### Assay Test Data\n",
    "\n",
    "The following will generate inference data for us to test against the assay baseline.  For this, we will add in house data that generate higher house prices than the baseline data we used earlier.\n",
    "\n",
    "This process should take 6 minutes to generate the historical data we'll later use in our assays.  We store the DateTime `assay_window_start` to determine where to start out assay analyses."
   ]
  },
  {
   "cell_type": "code",
   "execution_count": 11,
   "metadata": {},
   "outputs": [],
   "source": [
    "# Get a spread of house values\n",
    "\n",
    "# # Set the start for our assay window period.\n",
    "assay_window_start = datetime.datetime.now()\n",
    "\n",
    "time.sleep(65)\n",
    "inference_size = 1000\n",
    "\n",
    "# And a spread of large house values\n",
    "\n",
    "small_houses_inputs = pd.read_json('./data/smallinputs.df.json', orient=\"records\")\n",
    "small_houses = small_houses_inputs.sample(inference_size, replace=True).reset_index(drop=True)\n",
    "\n",
    "mainpipeline.infer(small_houses)\n",
    "\n",
    "time.sleep(65)"
   ]
  },
  {
   "cell_type": "code",
   "execution_count": 12,
   "metadata": {},
   "outputs": [],
   "source": [
    "# Get a spread of large house values\n",
    "\n",
    "time.sleep(65)\n",
    "inference_size = 1000\n",
    "\n",
    "# And a spread of large house values\n",
    "\n",
    "big_houses_inputs = pd.read_json('./data/biginputs.df.json', orient=\"records\")\n",
    "big_houses = big_houses_inputs.sample(inference_size, replace=True).reset_index(drop=True)\n",
    "\n",
    "mainpipeline.infer(big_houses)\n",
    "\n",
    "time.sleep(65)"
   ]
  },
  {
   "cell_type": "markdown",
   "metadata": {},
   "source": [
    "## Model Insights via the Wallaroo Dashboard SDK\n",
    "\n",
    "Assays generated through the Wallaroo SDK can be previewed, configured, and uploaded to the Wallaroo Ops instance.  The following is a condensed version of this process.  For full details see the [Wallaroo SDK Essentials Guide: Assays Management](https://docs.wallaroo.ai/wallaroo-developer-guides/wallaroo-sdk-guides/wallaroo-sdk-essentials-guide/wallaroo-sdk-essentials-assays/) guide.\n",
    "\n",
    "Model drift detection with assays using the Wallaroo SDK follows this general process.\n",
    "\n",
    "* Define the Baseline: From either historical inference data for a specific model in a pipeline, or from a pre-determine array of data, a **baseline** is formed.\n",
    "* Assay Preview:  Once the baseline is formed, we **preview the assay** and configure the different options until we have the the best method of detecting environment or model drift.\n",
    "* Create Assay:  With the previews and configuration complete, we **upload** the assay.  The assay will perform an analysis on a regular scheduled based on the configuration.\n",
    "* Get Assay Results:  Retrieve the analyses and use them to detect model drift and possible sources.\n",
    "* Pause/Resume Assay:  Pause or restart an assay as needed.\n",
    "\n",
    "### Define the Baseline\n",
    "\n",
    "Assay baselines are defined with the [`wallaroo.client.build_assay`](https://docs.wallaroo.ai/wallaroo-developer-guides/wallaroo-sdk-guides/wallaroo-sdk-reference-guide/client/#Client.build_assay) method. Through this process we define the baseline from either a range of dates or pre-generated values.\n",
    "\n",
    "`wallaroo.client.build_assay` take the following parameters:\n",
    "\n",
    "| Parameter | Type | Description |\n",
    "|---|---|---|\n",
    "| **assay_name** | *String* (*Required*) - required | The name of the assay.  Assay names **must** be unique across the Wallaroo instance. |\n",
    "| **pipeline** | *wallaroo.pipeline.Pipeline* (*Required*) | The pipeline the assay is monitoring. |\n",
    "| **model_name** | *String* (*Optional*)  | The name of the model to monitor.  This field should only be used to track the inputs/outputs for a specific model step in a pipeline. |\n",
    "| **iopath** | *String* (*Required*) | The input/output data for the model being tracked in the format `input/output field index`.  Only one value is tracked for any assay.  For example, to track the **output** of the model's field `house_value` at index `0`, the `iopath` is `'output house_value 0`. |\n",
    "| **baseline_start** | *datetime.datetime* (*Optional*) | The start time for the inferences to use as the baseline.  **Must be included with `baseline_end`.  Cannot be included with `baseline_data`**. |\n",
    "| **baseline_end** | *datetime.datetime* (*Optional*) | The end time of the baseline window. the baseline. Windows start immediately after the baseline window and are run at regular intervals continuously until the assay is deactivated or deleted.  **Must be included with `baseline_start`.  Cannot be included with `baseline_data`.**. |\n",
    "| **baseline_data** | *numpy.array* (*Optional*) | The baseline data in numpy array format.  **Cannot be included with either `baseline_start` or `baseline_data`**. |\n",
    "\n",
    "Baselines are created in one of two ways:\n",
    "\n",
    "* **Date Range**:  The `baseline_start` and `baseline_end` retrieves the inference requests and results for the pipeline from the start and end period.  This data is summarized and used to create the baseline.\n",
    "* **Numpy Values**:  The `baseline_data` sets the baseline from a provided numpy array.\n",
    "\n",
    "#### Define the Baseline Example\n",
    "\n",
    "This example shows two methods of defining the baseline for an assay:\n",
    "\n",
    "* `\"assays from date baseline\"`: This assay uses historical inference requests to define the baseline.  This assay is saved to the variable `assay_builder_from_dates`.\n",
    "* `\"assays from numpy\"`:  This assay uses a pre-generated numpy array to define the baseline.  This assay is saved to the variable `assay_builder_from_numpy`.\n",
    "\n",
    "In both cases, the following parameters are used:\n",
    "\n",
    "| Parameter | Value |\n",
    "|---|---|\n",
    "| **assay_name** | `\"assays from date baseline\"` and `\"assays from numpy\"` |\n",
    "| **pipeline** | `mainpipeline`:  A pipeline with a ML model that predicts house prices.  The output field for this model is `variable`. |\n",
    "| **iopath** | These assays monitor the model's **output** field **variable** at index 0 for the pipeline.  From this, the `iopath` setting is `\"output variable 0\"`.  |\n",
    "\n",
    "The difference between the two assays' parameters determines how the baseline is generated.\n",
    "\n",
    "* `\"assays from date baseline\"`: Uses the `baseline_start` and `baseline_end` to set the time period of inference requests and results to gather data from.\n",
    "* `\"assays from numpy\"`:  Uses a pre-generated numpy array as for the baseline data.\n",
    "\n",
    "For each of our assays, we will set the time period of inference data to compare against the baseline data."
   ]
  },
  {
   "cell_type": "code",
   "execution_count": 13,
   "metadata": {},
   "outputs": [],
   "source": [
    "# Build the assay, based on the start and end of our baseline time, \n",
    "# and tracking the output variable index 0\n",
    "assay_builder_from_dates = wl.build_assay(assay_name=\"assays from date baseline\", \n",
    "                                          pipeline=mainpipeline, \n",
    "                                          iopath=\"output variable 0\",\n",
    "                                          baseline_start=assay_baseline_start, \n",
    "                                          baseline_end=assay_baseline_end)\n",
    "\n",
    "# create the baseline from the dates\n",
    "assay_baseline_run_from_dates = assay_builder_from_dates.build().interactive_baseline_run()\n",
    "\n",
    "# assay builder by baseline\n",
    "assay_builder_from_numpy = wl.build_assay(assay_name=\"assays from numpy\", \n",
    "                               pipeline=mainpipeline, \n",
    "                               iopath=\"output variable 0\", \n",
    "                               baseline_data = small_results_baseline)\n",
    "\n",
    "# create the baseline from the dates\n",
    "assay_baseline_run_from_numpy = assay_builder_from_numpy.build().interactive_baseline_run()"
   ]
  },
  {
   "cell_type": "markdown",
   "metadata": {},
   "source": [
    "#### Baseline Chart\n",
    "\n",
    "The baseline chart is displayed with `wallaroo.assay.AssayAnalysis.chart()`, which returns:\n",
    "\n",
    "* **baseline mean**:  The mean value of the baseline values.\n",
    "* **baseline median**: The median value of the baseline values.\n",
    "* **bin_mode**: The binning mode.  See [Binning Mode](#binning-mode)\n",
    "* **aggregation**:  The aggregation type.  See [Aggregation Options](#aggregation-options)\n",
    "* **metric**:  The assay's metric type.  See [Score Metric](#score-metric)\n",
    "* **weighted**:  Whether the binning mode is weighted.  See [Binning Mode](#binning-mode)"
   ]
  },
  {
   "cell_type": "code",
   "execution_count": 16,
   "metadata": {},
   "outputs": [
    {
     "name": "stdout",
     "output_type": "stream",
     "text": [
      "baseline mean = 494775.5852799998\n",
      "baseline median = 441374.925\n",
      "bin_mode = Quantile\n",
      "aggregation = Density\n",
      "metric = PSI\n",
      "weighted = False\n"
     ]
    },
    {
     "data": {
      "image/png": "[encoded data removed]",
      "text/plain": [
       "<Figure size 432x288 with 1 Axes>"
      ]
     },
     "metadata": {
      "needs_background": "light"
     },
     "output_type": "display_data"
    }
   ],
   "source": [
    "assay_baseline_run_from_numpy.chart()"
   ]
  },
  {
   "cell_type": "code",
   "execution_count": 22,
   "metadata": {},
   "outputs": [
    {
     "name": "stdout",
     "output_type": "stream",
     "text": [
      "baseline mean = 494775.5852799998\n",
      "baseline median = 441374.925\n",
      "bin_mode = Quantile\n",
      "aggregation = Density\n",
      "metric = PSI\n",
      "weighted = False\n"
     ]
    },
    {
     "data": {
      "image/png": "[encoded data removed]",
      "text/plain": [
       "<Figure size 432x288 with 1 Axes>"
      ]
     },
     "metadata": {
      "needs_background": "light"
     },
     "output_type": "display_data"
    }
   ],
   "source": [
    "assay_baseline_run_from_numpy.chart()"
   ]
  },
  {
   "cell_type": "markdown",
   "metadata": {},
   "source": [
    "#### Baseline DataFrame\n",
    "\n",
    "The method [`wallaroo.assay_config.AssayBuilder.baseline_dataframe`](https://docs.wallaroo.ai/wallaroo-developer-guides/wallaroo-sdk-guides/wallaroo-sdk-reference-guide/assay_config/#AssayBuilder.baseline_dataframe) returns a DataFrame of the assay baseline generated from the provided parameters.  This includes:\n",
    "\n",
    "* `metadata`:  The inference metadata with the model information, inference time, and other related factors.\n",
    "* `in` data:  Each input field assigned with the label `in.{input field name}`.\n",
    "* `out` data:  Each output field assigned with the label `out.{output field name}`\n",
    "\n",
    "Note that for assays generated from numpy values, there is only the `out` data based on the supplied baseline data.\n",
    "\n",
    "In the following example, the baseline DataFrame is retrieved.  "
   ]
  },
  {
   "cell_type": "code",
   "execution_count": 23,
   "metadata": {},
   "outputs": [
    {
     "data": {
      "text/html": [
       "<div>\n",
       "<style scoped>\n",
       "    .dataframe tbody tr th:only-of-type {\n",
       "        vertical-align: middle;\n",
       "    }\n",
       "\n",
       "    .dataframe tbody tr th {\n",
       "        vertical-align: top;\n",
       "    }\n",
       "\n",
       "    .dataframe thead th {\n",
       "        text-align: right;\n",
       "    }\n",
       "</style>\n",
       "<table border=\"1\" class=\"dataframe\">\n",
       "  <thead>\n",
       "    <tr style=\"text-align: right;\">\n",
       "      <th></th>\n",
       "      <th>time</th>\n",
       "      <th>metadata</th>\n",
       "      <th>input_tensor_0</th>\n",
       "      <th>input_tensor_1</th>\n",
       "      <th>input_tensor_2</th>\n",
       "      <th>input_tensor_3</th>\n",
       "      <th>input_tensor_4</th>\n",
       "      <th>input_tensor_5</th>\n",
       "      <th>input_tensor_6</th>\n",
       "      <th>input_tensor_7</th>\n",
       "      <th>...</th>\n",
       "      <th>input_tensor_9</th>\n",
       "      <th>input_tensor_10</th>\n",
       "      <th>input_tensor_11</th>\n",
       "      <th>input_tensor_12</th>\n",
       "      <th>input_tensor_13</th>\n",
       "      <th>input_tensor_14</th>\n",
       "      <th>input_tensor_15</th>\n",
       "      <th>input_tensor_16</th>\n",
       "      <th>input_tensor_17</th>\n",
       "      <th>output_variable_0</th>\n",
       "    </tr>\n",
       "  </thead>\n",
       "  <tbody>\n",
       "    <tr>\n",
       "      <th>0</th>\n",
       "      <td>1712326991391</td>\n",
       "      <td>{'last_model': '{\"model_name\":\"house-price-estimator\",\"model_sha\":\"e22a0831aafd9917f3cc87a15ed267797f80e2afa12ad7d8810ca58f173b8cc6\"}', 'pipeline_version': '96fffb75-1052-44c3-ac7a-1de65e1cfa6a', 'elapsed': [1693810, 1825700], 'dropped': [], 'partition': 'engine-cc6758fd4-vdvk2'}</td>\n",
       "      <td>3.0</td>\n",
       "      <td>2.25</td>\n",
       "      <td>1190.0</td>\n",
       "      <td>1022.0</td>\n",
       "      <td>3.0</td>\n",
       "      <td>0.0</td>\n",
       "      <td>0.0</td>\n",
       "      <td>3.0</td>\n",
       "      <td>...</td>\n",
       "      <td>1190.0</td>\n",
       "      <td>0.0</td>\n",
       "      <td>47.697201</td>\n",
       "      <td>-122.348999</td>\n",
       "      <td>1210.0</td>\n",
       "      <td>1171.0</td>\n",
       "      <td>17.0</td>\n",
       "      <td>0.0</td>\n",
       "      <td>0.0</td>\n",
       "      <td>4.005612e+05</td>\n",
       "    </tr>\n",
       "    <tr>\n",
       "      <th>1</th>\n",
       "      <td>1712326991391</td>\n",
       "      <td>{'last_model': '{\"model_name\":\"house-price-estimator\",\"model_sha\":\"e22a0831aafd9917f3cc87a15ed267797f80e2afa12ad7d8810ca58f173b8cc6\"}', 'pipeline_version': '96fffb75-1052-44c3-ac7a-1de65e1cfa6a', 'elapsed': [1693810, 1825700], 'dropped': [], 'partition': 'engine-cc6758fd4-vdvk2'}</td>\n",
       "      <td>2.0</td>\n",
       "      <td>1.00</td>\n",
       "      <td>980.0</td>\n",
       "      <td>3800.0</td>\n",
       "      <td>1.0</td>\n",
       "      <td>0.0</td>\n",
       "      <td>0.0</td>\n",
       "      <td>3.0</td>\n",
       "      <td>...</td>\n",
       "      <td>980.0</td>\n",
       "      <td>0.0</td>\n",
       "      <td>47.690300</td>\n",
       "      <td>-122.339996</td>\n",
       "      <td>1520.0</td>\n",
       "      <td>5010.0</td>\n",
       "      <td>89.0</td>\n",
       "      <td>0.0</td>\n",
       "      <td>0.0</td>\n",
       "      <td>4.486278e+05</td>\n",
       "    </tr>\n",
       "    <tr>\n",
       "      <th>2</th>\n",
       "      <td>1712326991391</td>\n",
       "      <td>{'last_model': '{\"model_name\":\"house-price-estimator\",\"model_sha\":\"e22a0831aafd9917f3cc87a15ed267797f80e2afa12ad7d8810ca58f173b8cc6\"}', 'pipeline_version': '96fffb75-1052-44c3-ac7a-1de65e1cfa6a', 'elapsed': [1693810, 1825700], 'dropped': [], 'partition': 'engine-cc6758fd4-vdvk2'}</td>\n",
       "      <td>3.0</td>\n",
       "      <td>2.25</td>\n",
       "      <td>3280.0</td>\n",
       "      <td>79279.0</td>\n",
       "      <td>1.0</td>\n",
       "      <td>0.0</td>\n",
       "      <td>0.0</td>\n",
       "      <td>3.0</td>\n",
       "      <td>...</td>\n",
       "      <td>3280.0</td>\n",
       "      <td>0.0</td>\n",
       "      <td>47.320702</td>\n",
       "      <td>-122.292999</td>\n",
       "      <td>1860.0</td>\n",
       "      <td>24008.0</td>\n",
       "      <td>13.0</td>\n",
       "      <td>0.0</td>\n",
       "      <td>0.0</td>\n",
       "      <td>6.348657e+05</td>\n",
       "    </tr>\n",
       "    <tr>\n",
       "      <th>3</th>\n",
       "      <td>1712326991391</td>\n",
       "      <td>{'last_model': '{\"model_name\":\"house-price-estimator\",\"model_sha\":\"e22a0831aafd9917f3cc87a15ed267797f80e2afa12ad7d8810ca58f173b8cc6\"}', 'pipeline_version': '96fffb75-1052-44c3-ac7a-1de65e1cfa6a', 'elapsed': [1693810, 1825700], 'dropped': [], 'partition': 'engine-cc6758fd4-vdvk2'}</td>\n",
       "      <td>5.0</td>\n",
       "      <td>3.50</td>\n",
       "      <td>4200.0</td>\n",
       "      <td>5400.0</td>\n",
       "      <td>2.0</td>\n",
       "      <td>0.0</td>\n",
       "      <td>0.0</td>\n",
       "      <td>3.0</td>\n",
       "      <td>...</td>\n",
       "      <td>3140.0</td>\n",
       "      <td>1060.0</td>\n",
       "      <td>47.707699</td>\n",
       "      <td>-122.120003</td>\n",
       "      <td>3300.0</td>\n",
       "      <td>5564.0</td>\n",
       "      <td>2.0</td>\n",
       "      <td>0.0</td>\n",
       "      <td>0.0</td>\n",
       "      <td>1.052898e+06</td>\n",
       "    </tr>\n",
       "    <tr>\n",
       "      <th>4</th>\n",
       "      <td>1712326991391</td>\n",
       "      <td>{'last_model': '{\"model_name\":\"house-price-estimator\",\"model_sha\":\"e22a0831aafd9917f3cc87a15ed267797f80e2afa12ad7d8810ca58f173b8cc6\"}', 'pipeline_version': '96fffb75-1052-44c3-ac7a-1de65e1cfa6a', 'elapsed': [1693810, 1825700], 'dropped': [], 'partition': 'engine-cc6758fd4-vdvk2'}</td>\n",
       "      <td>5.0</td>\n",
       "      <td>2.75</td>\n",
       "      <td>2980.0</td>\n",
       "      <td>9838.0</td>\n",
       "      <td>1.0</td>\n",
       "      <td>0.0</td>\n",
       "      <td>0.0</td>\n",
       "      <td>3.0</td>\n",
       "      <td>...</td>\n",
       "      <td>1710.0</td>\n",
       "      <td>1270.0</td>\n",
       "      <td>47.380699</td>\n",
       "      <td>-122.222000</td>\n",
       "      <td>2240.0</td>\n",
       "      <td>9838.0</td>\n",
       "      <td>47.0</td>\n",
       "      <td>0.0</td>\n",
       "      <td>0.0</td>\n",
       "      <td>3.790763e+05</td>\n",
       "    </tr>\n",
       "    <tr>\n",
       "      <th>...</th>\n",
       "      <td>...</td>\n",
       "      <td>...</td>\n",
       "      <td>...</td>\n",
       "      <td>...</td>\n",
       "      <td>...</td>\n",
       "      <td>...</td>\n",
       "      <td>...</td>\n",
       "      <td>...</td>\n",
       "      <td>...</td>\n",
       "      <td>...</td>\n",
       "      <td>...</td>\n",
       "      <td>...</td>\n",
       "      <td>...</td>\n",
       "      <td>...</td>\n",
       "      <td>...</td>\n",
       "      <td>...</td>\n",
       "      <td>...</td>\n",
       "      <td>...</td>\n",
       "      <td>...</td>\n",
       "      <td>...</td>\n",
       "      <td>...</td>\n",
       "    </tr>\n",
       "    <tr>\n",
       "      <th>495</th>\n",
       "      <td>1712326991391</td>\n",
       "      <td>{'last_model': '{\"model_name\":\"house-price-estimator\",\"model_sha\":\"e22a0831aafd9917f3cc87a15ed267797f80e2afa12ad7d8810ca58f173b8cc6\"}', 'pipeline_version': '96fffb75-1052-44c3-ac7a-1de65e1cfa6a', 'elapsed': [1693810, 1825700], 'dropped': [], 'partition': 'engine-cc6758fd4-vdvk2'}</td>\n",
       "      <td>3.0</td>\n",
       "      <td>1.00</td>\n",
       "      <td>1420.0</td>\n",
       "      <td>11040.0</td>\n",
       "      <td>1.0</td>\n",
       "      <td>0.0</td>\n",
       "      <td>0.0</td>\n",
       "      <td>4.0</td>\n",
       "      <td>...</td>\n",
       "      <td>1420.0</td>\n",
       "      <td>0.0</td>\n",
       "      <td>47.596901</td>\n",
       "      <td>-122.139999</td>\n",
       "      <td>1530.0</td>\n",
       "      <td>8208.0</td>\n",
       "      <td>54.0</td>\n",
       "      <td>0.0</td>\n",
       "      <td>0.0</td>\n",
       "      <td>4.531958e+05</td>\n",
       "    </tr>\n",
       "    <tr>\n",
       "      <th>496</th>\n",
       "      <td>1712326991391</td>\n",
       "      <td>{'last_model': '{\"model_name\":\"house-price-estimator\",\"model_sha\":\"e22a0831aafd9917f3cc87a15ed267797f80e2afa12ad7d8810ca58f173b8cc6\"}', 'pipeline_version': '96fffb75-1052-44c3-ac7a-1de65e1cfa6a', 'elapsed': [1693810, 1825700], 'dropped': [], 'partition': 'engine-cc6758fd4-vdvk2'}</td>\n",
       "      <td>3.0</td>\n",
       "      <td>2.25</td>\n",
       "      <td>1260.0</td>\n",
       "      <td>1488.0</td>\n",
       "      <td>3.0</td>\n",
       "      <td>0.0</td>\n",
       "      <td>0.0</td>\n",
       "      <td>3.0</td>\n",
       "      <td>...</td>\n",
       "      <td>1260.0</td>\n",
       "      <td>0.0</td>\n",
       "      <td>47.707100</td>\n",
       "      <td>-122.335999</td>\n",
       "      <td>1190.0</td>\n",
       "      <td>1095.0</td>\n",
       "      <td>5.0</td>\n",
       "      <td>0.0</td>\n",
       "      <td>0.0</td>\n",
       "      <td>3.407645e+05</td>\n",
       "    </tr>\n",
       "    <tr>\n",
       "      <th>497</th>\n",
       "      <td>1712326991391</td>\n",
       "      <td>{'last_model': '{\"model_name\":\"house-price-estimator\",\"model_sha\":\"e22a0831aafd9917f3cc87a15ed267797f80e2afa12ad7d8810ca58f173b8cc6\"}', 'pipeline_version': '96fffb75-1052-44c3-ac7a-1de65e1cfa6a', 'elapsed': [1693810, 1825700], 'dropped': [], 'partition': 'engine-cc6758fd4-vdvk2'}</td>\n",
       "      <td>2.0</td>\n",
       "      <td>1.00</td>\n",
       "      <td>1450.0</td>\n",
       "      <td>4500.0</td>\n",
       "      <td>1.5</td>\n",
       "      <td>0.0</td>\n",
       "      <td>0.0</td>\n",
       "      <td>4.0</td>\n",
       "      <td>...</td>\n",
       "      <td>1450.0</td>\n",
       "      <td>0.0</td>\n",
       "      <td>47.673901</td>\n",
       "      <td>-122.396004</td>\n",
       "      <td>1470.0</td>\n",
       "      <td>5000.0</td>\n",
       "      <td>93.0</td>\n",
       "      <td>0.0</td>\n",
       "      <td>0.0</td>\n",
       "      <td>4.640574e+05</td>\n",
       "    </tr>\n",
       "    <tr>\n",
       "      <th>498</th>\n",
       "      <td>1712326991391</td>\n",
       "      <td>{'last_model': '{\"model_name\":\"house-price-estimator\",\"model_sha\":\"e22a0831aafd9917f3cc87a15ed267797f80e2afa12ad7d8810ca58f173b8cc6\"}', 'pipeline_version': '96fffb75-1052-44c3-ac7a-1de65e1cfa6a', 'elapsed': [1693810, 1825700], 'dropped': [], 'partition': 'engine-cc6758fd4-vdvk2'}</td>\n",
       "      <td>5.0</td>\n",
       "      <td>2.75</td>\n",
       "      <td>2980.0</td>\n",
       "      <td>9838.0</td>\n",
       "      <td>1.0</td>\n",
       "      <td>0.0</td>\n",
       "      <td>0.0</td>\n",
       "      <td>3.0</td>\n",
       "      <td>...</td>\n",
       "      <td>1710.0</td>\n",
       "      <td>1270.0</td>\n",
       "      <td>47.380699</td>\n",
       "      <td>-122.222000</td>\n",
       "      <td>2240.0</td>\n",
       "      <td>9838.0</td>\n",
       "      <td>47.0</td>\n",
       "      <td>0.0</td>\n",
       "      <td>0.0</td>\n",
       "      <td>3.790763e+05</td>\n",
       "    </tr>\n",
       "    <tr>\n",
       "      <th>499</th>\n",
       "      <td>1712326991391</td>\n",
       "      <td>{'last_model': '{\"model_name\":\"house-price-estimator\",\"model_sha\":\"e22a0831aafd9917f3cc87a15ed267797f80e2afa12ad7d8810ca58f173b8cc6\"}', 'pipeline_version': '96fffb75-1052-44c3-ac7a-1de65e1cfa6a', 'elapsed': [1693810, 1825700], 'dropped': [], 'partition': 'engine-cc6758fd4-vdvk2'}</td>\n",
       "      <td>3.0</td>\n",
       "      <td>1.75</td>\n",
       "      <td>1050.0</td>\n",
       "      <td>7854.0</td>\n",
       "      <td>1.0</td>\n",
       "      <td>0.0</td>\n",
       "      <td>0.0</td>\n",
       "      <td>4.0</td>\n",
       "      <td>...</td>\n",
       "      <td>1050.0</td>\n",
       "      <td>0.0</td>\n",
       "      <td>47.301102</td>\n",
       "      <td>-122.369003</td>\n",
       "      <td>1360.0</td>\n",
       "      <td>7668.0</td>\n",
       "      <td>40.0</td>\n",
       "      <td>0.0</td>\n",
       "      <td>0.0</td>\n",
       "      <td>2.397341e+05</td>\n",
       "    </tr>\n",
       "  </tbody>\n",
       "</table>\n",
       "<p>500 rows × 21 columns</p>\n",
       "</div>"
      ],
      "text/plain": [
       "              time  \\\n",
       "0    1712326991391   \n",
       "1    1712326991391   \n",
       "2    1712326991391   \n",
       "3    1712326991391   \n",
       "4    1712326991391   \n",
       "..             ...   \n",
       "495  1712326991391   \n",
       "496  1712326991391   \n",
       "497  1712326991391   \n",
       "498  1712326991391   \n",
       "499  1712326991391   \n",
       "\n",
       "                                                                                                                                                                                                                                                                                     metadata  \\\n",
       "0    {'last_model': '{\"model_name\":\"house-price-estimator\",\"model_sha\":\"e22a0831aafd9917f3cc87a15ed267797f80e2afa12ad7d8810ca58f173b8cc6\"}', 'pipeline_version': '96fffb75-1052-44c3-ac7a-1de65e1cfa6a', 'elapsed': [1693810, 1825700], 'dropped': [], 'partition': 'engine-cc6758fd4-vdvk2'}   \n",
       "1    {'last_model': '{\"model_name\":\"house-price-estimator\",\"model_sha\":\"e22a0831aafd9917f3cc87a15ed267797f80e2afa12ad7d8810ca58f173b8cc6\"}', 'pipeline_version': '96fffb75-1052-44c3-ac7a-1de65e1cfa6a', 'elapsed': [1693810, 1825700], 'dropped': [], 'partition': 'engine-cc6758fd4-vdvk2'}   \n",
       "2    {'last_model': '{\"model_name\":\"house-price-estimator\",\"model_sha\":\"e22a0831aafd9917f3cc87a15ed267797f80e2afa12ad7d8810ca58f173b8cc6\"}', 'pipeline_version': '96fffb75-1052-44c3-ac7a-1de65e1cfa6a', 'elapsed': [1693810, 1825700], 'dropped': [], 'partition': 'engine-cc6758fd4-vdvk2'}   \n",
       "3    {'last_model': '{\"model_name\":\"house-price-estimator\",\"model_sha\":\"e22a0831aafd9917f3cc87a15ed267797f80e2afa12ad7d8810ca58f173b8cc6\"}', 'pipeline_version': '96fffb75-1052-44c3-ac7a-1de65e1cfa6a', 'elapsed': [1693810, 1825700], 'dropped': [], 'partition': 'engine-cc6758fd4-vdvk2'}   \n",
       "4    {'last_model': '{\"model_name\":\"house-price-estimator\",\"model_sha\":\"e22a0831aafd9917f3cc87a15ed267797f80e2afa12ad7d8810ca58f173b8cc6\"}', 'pipeline_version': '96fffb75-1052-44c3-ac7a-1de65e1cfa6a', 'elapsed': [1693810, 1825700], 'dropped': [], 'partition': 'engine-cc6758fd4-vdvk2'}   \n",
       "..                                                                                                                                                                                                                                                                                        ...   \n",
       "495  {'last_model': '{\"model_name\":\"house-price-estimator\",\"model_sha\":\"e22a0831aafd9917f3cc87a15ed267797f80e2afa12ad7d8810ca58f173b8cc6\"}', 'pipeline_version': '96fffb75-1052-44c3-ac7a-1de65e1cfa6a', 'elapsed': [1693810, 1825700], 'dropped': [], 'partition': 'engine-cc6758fd4-vdvk2'}   \n",
       "496  {'last_model': '{\"model_name\":\"house-price-estimator\",\"model_sha\":\"e22a0831aafd9917f3cc87a15ed267797f80e2afa12ad7d8810ca58f173b8cc6\"}', 'pipeline_version': '96fffb75-1052-44c3-ac7a-1de65e1cfa6a', 'elapsed': [1693810, 1825700], 'dropped': [], 'partition': 'engine-cc6758fd4-vdvk2'}   \n",
       "497  {'last_model': '{\"model_name\":\"house-price-estimator\",\"model_sha\":\"e22a0831aafd9917f3cc87a15ed267797f80e2afa12ad7d8810ca58f173b8cc6\"}', 'pipeline_version': '96fffb75-1052-44c3-ac7a-1de65e1cfa6a', 'elapsed': [1693810, 1825700], 'dropped': [], 'partition': 'engine-cc6758fd4-vdvk2'}   \n",
       "498  {'last_model': '{\"model_name\":\"house-price-estimator\",\"model_sha\":\"e22a0831aafd9917f3cc87a15ed267797f80e2afa12ad7d8810ca58f173b8cc6\"}', 'pipeline_version': '96fffb75-1052-44c3-ac7a-1de65e1cfa6a', 'elapsed': [1693810, 1825700], 'dropped': [], 'partition': 'engine-cc6758fd4-vdvk2'}   \n",
       "499  {'last_model': '{\"model_name\":\"house-price-estimator\",\"model_sha\":\"e22a0831aafd9917f3cc87a15ed267797f80e2afa12ad7d8810ca58f173b8cc6\"}', 'pipeline_version': '96fffb75-1052-44c3-ac7a-1de65e1cfa6a', 'elapsed': [1693810, 1825700], 'dropped': [], 'partition': 'engine-cc6758fd4-vdvk2'}   \n",
       "\n",
       "     input_tensor_0  input_tensor_1  input_tensor_2  input_tensor_3  \\\n",
       "0               3.0            2.25          1190.0          1022.0   \n",
       "1               2.0            1.00           980.0          3800.0   \n",
       "2               3.0            2.25          3280.0         79279.0   \n",
       "3               5.0            3.50          4200.0          5400.0   \n",
       "4               5.0            2.75          2980.0          9838.0   \n",
       "..              ...             ...             ...             ...   \n",
       "495             3.0            1.00          1420.0         11040.0   \n",
       "496             3.0            2.25          1260.0          1488.0   \n",
       "497             2.0            1.00          1450.0          4500.0   \n",
       "498             5.0            2.75          2980.0          9838.0   \n",
       "499             3.0            1.75          1050.0          7854.0   \n",
       "\n",
       "     input_tensor_4  input_tensor_5  input_tensor_6  input_tensor_7  ...  \\\n",
       "0               3.0             0.0             0.0             3.0  ...   \n",
       "1               1.0             0.0             0.0             3.0  ...   \n",
       "2               1.0             0.0             0.0             3.0  ...   \n",
       "3               2.0             0.0             0.0             3.0  ...   \n",
       "4               1.0             0.0             0.0             3.0  ...   \n",
       "..              ...             ...             ...             ...  ...   \n",
       "495             1.0             0.0             0.0             4.0  ...   \n",
       "496             3.0             0.0             0.0             3.0  ...   \n",
       "497             1.5             0.0             0.0             4.0  ...   \n",
       "498             1.0             0.0             0.0             3.0  ...   \n",
       "499             1.0             0.0             0.0             4.0  ...   \n",
       "\n",
       "     input_tensor_9  input_tensor_10  input_tensor_11  input_tensor_12  \\\n",
       "0            1190.0              0.0        47.697201      -122.348999   \n",
       "1             980.0              0.0        47.690300      -122.339996   \n",
       "2            3280.0              0.0        47.320702      -122.292999   \n",
       "3            3140.0           1060.0        47.707699      -122.120003   \n",
       "4            1710.0           1270.0        47.380699      -122.222000   \n",
       "..              ...              ...              ...              ...   \n",
       "495          1420.0              0.0        47.596901      -122.139999   \n",
       "496          1260.0              0.0        47.707100      -122.335999   \n",
       "497          1450.0              0.0        47.673901      -122.396004   \n",
       "498          1710.0           1270.0        47.380699      -122.222000   \n",
       "499          1050.0              0.0        47.301102      -122.369003   \n",
       "\n",
       "     input_tensor_13  input_tensor_14  input_tensor_15  input_tensor_16  \\\n",
       "0             1210.0           1171.0             17.0              0.0   \n",
       "1             1520.0           5010.0             89.0              0.0   \n",
       "2             1860.0          24008.0             13.0              0.0   \n",
       "3             3300.0           5564.0              2.0              0.0   \n",
       "4             2240.0           9838.0             47.0              0.0   \n",
       "..               ...              ...              ...              ...   \n",
       "495           1530.0           8208.0             54.0              0.0   \n",
       "496           1190.0           1095.0              5.0              0.0   \n",
       "497           1470.0           5000.0             93.0              0.0   \n",
       "498           2240.0           9838.0             47.0              0.0   \n",
       "499           1360.0           7668.0             40.0              0.0   \n",
       "\n",
       "     input_tensor_17  output_variable_0  \n",
       "0                0.0       4.005612e+05  \n",
       "1                0.0       4.486278e+05  \n",
       "2                0.0       6.348657e+05  \n",
       "3                0.0       1.052898e+06  \n",
       "4                0.0       3.790763e+05  \n",
       "..               ...                ...  \n",
       "495              0.0       4.531958e+05  \n",
       "496              0.0       3.407645e+05  \n",
       "497              0.0       4.640574e+05  \n",
       "498              0.0       3.790763e+05  \n",
       "499              0.0       2.397341e+05  \n",
       "\n",
       "[500 rows x 21 columns]"
      ]
     },
     "metadata": {},
     "output_type": "display_data"
    }
   ],
   "source": [
    "display(assay_builder_from_dates.baseline_dataframe())"
   ]
  },
  {
   "cell_type": "code",
   "execution_count": 24,
   "metadata": {},
   "outputs": [
    {
     "data": {
      "text/html": [
       "<div>\n",
       "<style scoped>\n",
       "    .dataframe tbody tr th:only-of-type {\n",
       "        vertical-align: middle;\n",
       "    }\n",
       "\n",
       "    .dataframe tbody tr th {\n",
       "        vertical-align: top;\n",
       "    }\n",
       "\n",
       "    .dataframe thead th {\n",
       "        text-align: right;\n",
       "    }\n",
       "</style>\n",
       "<table border=\"1\" class=\"dataframe\">\n",
       "  <thead>\n",
       "    <tr style=\"text-align: right;\">\n",
       "      <th></th>\n",
       "      <th>output_variable_0</th>\n",
       "    </tr>\n",
       "  </thead>\n",
       "  <tbody>\n",
       "    <tr>\n",
       "      <th>0</th>\n",
       "      <td>400561.20</td>\n",
       "    </tr>\n",
       "    <tr>\n",
       "      <th>1</th>\n",
       "      <td>448627.80</td>\n",
       "    </tr>\n",
       "    <tr>\n",
       "      <th>2</th>\n",
       "      <td>634865.70</td>\n",
       "    </tr>\n",
       "    <tr>\n",
       "      <th>3</th>\n",
       "      <td>1052897.90</td>\n",
       "    </tr>\n",
       "    <tr>\n",
       "      <th>4</th>\n",
       "      <td>379076.28</td>\n",
       "    </tr>\n",
       "    <tr>\n",
       "      <th>...</th>\n",
       "      <td>...</td>\n",
       "    </tr>\n",
       "    <tr>\n",
       "      <th>495</th>\n",
       "      <td>453195.80</td>\n",
       "    </tr>\n",
       "    <tr>\n",
       "      <th>496</th>\n",
       "      <td>340764.53</td>\n",
       "    </tr>\n",
       "    <tr>\n",
       "      <th>497</th>\n",
       "      <td>464057.38</td>\n",
       "    </tr>\n",
       "    <tr>\n",
       "      <th>498</th>\n",
       "      <td>379076.28</td>\n",
       "    </tr>\n",
       "    <tr>\n",
       "      <th>499</th>\n",
       "      <td>239734.08</td>\n",
       "    </tr>\n",
       "  </tbody>\n",
       "</table>\n",
       "<p>500 rows × 1 columns</p>\n",
       "</div>"
      ],
      "text/plain": [
       "     output_variable_0\n",
       "0            400561.20\n",
       "1            448627.80\n",
       "2            634865.70\n",
       "3           1052897.90\n",
       "4            379076.28\n",
       "..                 ...\n",
       "495          453195.80\n",
       "496          340764.53\n",
       "497          464057.38\n",
       "498          379076.28\n",
       "499          239734.08\n",
       "\n",
       "[500 rows x 1 columns]"
      ]
     },
     "metadata": {},
     "output_type": "display_data"
    }
   ],
   "source": [
    "display(assay_builder_from_numpy.baseline_dataframe())"
   ]
  },
  {
   "cell_type": "markdown",
   "metadata": {},
   "source": [
    "#### Baseline Stats\n",
    "\n",
    "The method `wallaroo.assay.AssayAnalysis.baseline_stats()` returns a `pandas.core.frame.DataFrame` of the baseline stats.\n",
    "\n",
    "The baseline stats for each assay are displayed in the examples below."
   ]
  },
  {
   "cell_type": "code",
   "execution_count": 25,
   "metadata": {},
   "outputs": [
    {
     "data": {
      "text/html": [
       "<div>\n",
       "<style scoped>\n",
       "    .dataframe tbody tr th:only-of-type {\n",
       "        vertical-align: middle;\n",
       "    }\n",
       "\n",
       "    .dataframe tbody tr th {\n",
       "        vertical-align: top;\n",
       "    }\n",
       "\n",
       "    .dataframe thead th {\n",
       "        text-align: right;\n",
       "    }\n",
       "</style>\n",
       "<table border=\"1\" class=\"dataframe\">\n",
       "  <thead>\n",
       "    <tr style=\"text-align: right;\">\n",
       "      <th></th>\n",
       "      <th>Baseline</th>\n",
       "    </tr>\n",
       "  </thead>\n",
       "  <tbody>\n",
       "    <tr>\n",
       "      <th>count</th>\n",
       "      <td>500</td>\n",
       "    </tr>\n",
       "    <tr>\n",
       "      <th>min</th>\n",
       "      <td>236238.671875</td>\n",
       "    </tr>\n",
       "    <tr>\n",
       "      <th>max</th>\n",
       "      <td>1489624.25</td>\n",
       "    </tr>\n",
       "    <tr>\n",
       "      <th>mean</th>\n",
       "      <td>494775.583469</td>\n",
       "    </tr>\n",
       "    <tr>\n",
       "      <th>median</th>\n",
       "      <td>441374.921875</td>\n",
       "    </tr>\n",
       "    <tr>\n",
       "      <th>std</th>\n",
       "      <td>229911.627142</td>\n",
       "    </tr>\n",
       "    <tr>\n",
       "      <th>start</th>\n",
       "      <td>2024-04-05T14:22:11.324703+00:00</td>\n",
       "    </tr>\n",
       "    <tr>\n",
       "      <th>end</th>\n",
       "      <td>2024-04-05T14:23:11.405703+00:00</td>\n",
       "    </tr>\n",
       "  </tbody>\n",
       "</table>\n",
       "</div>"
      ],
      "text/plain": [
       "                                Baseline\n",
       "count                                500\n",
       "min                        236238.671875\n",
       "max                           1489624.25\n",
       "mean                       494775.583469\n",
       "median                     441374.921875\n",
       "std                        229911.627142\n",
       "start   2024-04-05T14:22:11.324703+00:00\n",
       "end     2024-04-05T14:23:11.405703+00:00"
      ]
     },
     "execution_count": 25,
     "metadata": {},
     "output_type": "execute_result"
    }
   ],
   "source": [
    "assay_baseline_run_from_dates.baseline_stats()"
   ]
  },
  {
   "cell_type": "code",
   "execution_count": 26,
   "metadata": {},
   "outputs": [
    {
     "data": {
      "text/html": [
       "<div>\n",
       "<style scoped>\n",
       "    .dataframe tbody tr th:only-of-type {\n",
       "        vertical-align: middle;\n",
       "    }\n",
       "\n",
       "    .dataframe tbody tr th {\n",
       "        vertical-align: top;\n",
       "    }\n",
       "\n",
       "    .dataframe thead th {\n",
       "        text-align: right;\n",
       "    }\n",
       "</style>\n",
       "<table border=\"1\" class=\"dataframe\">\n",
       "  <thead>\n",
       "    <tr style=\"text-align: right;\">\n",
       "      <th></th>\n",
       "      <th>Baseline</th>\n",
       "    </tr>\n",
       "  </thead>\n",
       "  <tbody>\n",
       "    <tr>\n",
       "      <th>count</th>\n",
       "      <td>500</td>\n",
       "    </tr>\n",
       "    <tr>\n",
       "      <th>min</th>\n",
       "      <td>236238.67</td>\n",
       "    </tr>\n",
       "    <tr>\n",
       "      <th>max</th>\n",
       "      <td>1489624.3</td>\n",
       "    </tr>\n",
       "    <tr>\n",
       "      <th>mean</th>\n",
       "      <td>494775.58528</td>\n",
       "    </tr>\n",
       "    <tr>\n",
       "      <th>median</th>\n",
       "      <td>441374.925</td>\n",
       "    </tr>\n",
       "    <tr>\n",
       "      <th>std</th>\n",
       "      <td>229911.630437</td>\n",
       "    </tr>\n",
       "    <tr>\n",
       "      <th>start</th>\n",
       "      <td>None</td>\n",
       "    </tr>\n",
       "    <tr>\n",
       "      <th>end</th>\n",
       "      <td>None</td>\n",
       "    </tr>\n",
       "  </tbody>\n",
       "</table>\n",
       "</div>"
      ],
      "text/plain": [
       "             Baseline\n",
       "count             500\n",
       "min         236238.67\n",
       "max         1489624.3\n",
       "mean     494775.58528\n",
       "median     441374.925\n",
       "std     229911.630437\n",
       "start            None\n",
       "end              None"
      ]
     },
     "execution_count": 26,
     "metadata": {},
     "output_type": "execute_result"
    }
   ],
   "source": [
    "assay_baseline_run_from_numpy.baseline_stats()"
   ]
  },
  {
   "cell_type": "markdown",
   "metadata": {},
   "source": [
    "#### Baseline Bins\n",
    "\n",
    "The method `wallaroo.assay.AssayAnalysis.baseline_bins` a simple dataframe to with the edge/bin data for a baseline."
   ]
  },
  {
   "cell_type": "code",
   "execution_count": 27,
   "metadata": {},
   "outputs": [
    {
     "data": {
      "text/html": [
       "<div>\n",
       "<style scoped>\n",
       "    .dataframe tbody tr th:only-of-type {\n",
       "        vertical-align: middle;\n",
       "    }\n",
       "\n",
       "    .dataframe tbody tr th {\n",
       "        vertical-align: top;\n",
       "    }\n",
       "\n",
       "    .dataframe thead th {\n",
       "        text-align: right;\n",
       "    }\n",
       "</style>\n",
       "<table border=\"1\" class=\"dataframe\">\n",
       "  <thead>\n",
       "    <tr style=\"text-align: right;\">\n",
       "      <th></th>\n",
       "      <th>b_edges</th>\n",
       "      <th>b_edge_names</th>\n",
       "      <th>b_aggregated_values</th>\n",
       "      <th>b_aggregation</th>\n",
       "    </tr>\n",
       "  </thead>\n",
       "  <tbody>\n",
       "    <tr>\n",
       "      <th>0</th>\n",
       "      <td>2.362387e+05</td>\n",
       "      <td>left_outlier</td>\n",
       "      <td>0.000</td>\n",
       "      <td>Aggregation.DENSITY</td>\n",
       "    </tr>\n",
       "    <tr>\n",
       "      <th>1</th>\n",
       "      <td>3.061594e+05</td>\n",
       "      <td>q_20</td>\n",
       "      <td>0.200</td>\n",
       "      <td>Aggregation.DENSITY</td>\n",
       "    </tr>\n",
       "    <tr>\n",
       "      <th>2</th>\n",
       "      <td>4.130134e+05</td>\n",
       "      <td>q_40</td>\n",
       "      <td>0.200</td>\n",
       "      <td>Aggregation.DENSITY</td>\n",
       "    </tr>\n",
       "    <tr>\n",
       "      <th>3</th>\n",
       "      <td>4.508677e+05</td>\n",
       "      <td>q_60</td>\n",
       "      <td>0.206</td>\n",
       "      <td>Aggregation.DENSITY</td>\n",
       "    </tr>\n",
       "    <tr>\n",
       "      <th>4</th>\n",
       "      <td>6.755454e+05</td>\n",
       "      <td>q_80</td>\n",
       "      <td>0.194</td>\n",
       "      <td>Aggregation.DENSITY</td>\n",
       "    </tr>\n",
       "    <tr>\n",
       "      <th>5</th>\n",
       "      <td>1.489624e+06</td>\n",
       "      <td>q_100</td>\n",
       "      <td>0.200</td>\n",
       "      <td>Aggregation.DENSITY</td>\n",
       "    </tr>\n",
       "    <tr>\n",
       "      <th>6</th>\n",
       "      <td>inf</td>\n",
       "      <td>right_outlier</td>\n",
       "      <td>0.000</td>\n",
       "      <td>Aggregation.DENSITY</td>\n",
       "    </tr>\n",
       "  </tbody>\n",
       "</table>\n",
       "</div>"
      ],
      "text/plain": [
       "        b_edges   b_edge_names  b_aggregated_values        b_aggregation\n",
       "0  2.362387e+05   left_outlier                0.000  Aggregation.DENSITY\n",
       "1  3.061594e+05           q_20                0.200  Aggregation.DENSITY\n",
       "2  4.130134e+05           q_40                0.200  Aggregation.DENSITY\n",
       "3  4.508677e+05           q_60                0.206  Aggregation.DENSITY\n",
       "4  6.755454e+05           q_80                0.194  Aggregation.DENSITY\n",
       "5  1.489624e+06          q_100                0.200  Aggregation.DENSITY\n",
       "6           inf  right_outlier                0.000  Aggregation.DENSITY"
      ]
     },
     "execution_count": 27,
     "metadata": {},
     "output_type": "execute_result"
    }
   ],
   "source": [
    "assay_baseline_run_from_dates.baseline_bins()"
   ]
  },
  {
   "cell_type": "code",
   "execution_count": 28,
   "metadata": {},
   "outputs": [
    {
     "data": {
      "text/html": [
       "<div>\n",
       "<style scoped>\n",
       "    .dataframe tbody tr th:only-of-type {\n",
       "        vertical-align: middle;\n",
       "    }\n",
       "\n",
       "    .dataframe tbody tr th {\n",
       "        vertical-align: top;\n",
       "    }\n",
       "\n",
       "    .dataframe thead th {\n",
       "        text-align: right;\n",
       "    }\n",
       "</style>\n",
       "<table border=\"1\" class=\"dataframe\">\n",
       "  <thead>\n",
       "    <tr style=\"text-align: right;\">\n",
       "      <th></th>\n",
       "      <th>b_edges</th>\n",
       "      <th>b_edge_names</th>\n",
       "      <th>b_aggregated_values</th>\n",
       "      <th>b_aggregation</th>\n",
       "    </tr>\n",
       "  </thead>\n",
       "  <tbody>\n",
       "    <tr>\n",
       "      <th>0</th>\n",
       "      <td>236238.67</td>\n",
       "      <td>left_outlier</td>\n",
       "      <td>0.000</td>\n",
       "      <td>Aggregation.DENSITY</td>\n",
       "    </tr>\n",
       "    <tr>\n",
       "      <th>1</th>\n",
       "      <td>306159.38</td>\n",
       "      <td>q_20</td>\n",
       "      <td>0.200</td>\n",
       "      <td>Aggregation.DENSITY</td>\n",
       "    </tr>\n",
       "    <tr>\n",
       "      <th>2</th>\n",
       "      <td>413013.38</td>\n",
       "      <td>q_40</td>\n",
       "      <td>0.200</td>\n",
       "      <td>Aggregation.DENSITY</td>\n",
       "    </tr>\n",
       "    <tr>\n",
       "      <th>3</th>\n",
       "      <td>450867.70</td>\n",
       "      <td>q_60</td>\n",
       "      <td>0.206</td>\n",
       "      <td>Aggregation.DENSITY</td>\n",
       "    </tr>\n",
       "    <tr>\n",
       "      <th>4</th>\n",
       "      <td>675545.44</td>\n",
       "      <td>q_80</td>\n",
       "      <td>0.194</td>\n",
       "      <td>Aggregation.DENSITY</td>\n",
       "    </tr>\n",
       "    <tr>\n",
       "      <th>5</th>\n",
       "      <td>1489624.30</td>\n",
       "      <td>q_100</td>\n",
       "      <td>0.200</td>\n",
       "      <td>Aggregation.DENSITY</td>\n",
       "    </tr>\n",
       "    <tr>\n",
       "      <th>6</th>\n",
       "      <td>inf</td>\n",
       "      <td>right_outlier</td>\n",
       "      <td>0.000</td>\n",
       "      <td>Aggregation.DENSITY</td>\n",
       "    </tr>\n",
       "  </tbody>\n",
       "</table>\n",
       "</div>"
      ],
      "text/plain": [
       "      b_edges   b_edge_names  b_aggregated_values        b_aggregation\n",
       "0   236238.67   left_outlier                0.000  Aggregation.DENSITY\n",
       "1   306159.38           q_20                0.200  Aggregation.DENSITY\n",
       "2   413013.38           q_40                0.200  Aggregation.DENSITY\n",
       "3   450867.70           q_60                0.206  Aggregation.DENSITY\n",
       "4   675545.44           q_80                0.194  Aggregation.DENSITY\n",
       "5  1489624.30          q_100                0.200  Aggregation.DENSITY\n",
       "6         inf  right_outlier                0.000  Aggregation.DENSITY"
      ]
     },
     "execution_count": 28,
     "metadata": {},
     "output_type": "execute_result"
    }
   ],
   "source": [
    "assay_baseline_run_from_numpy.baseline_bins()"
   ]
  },
  {
   "cell_type": "markdown",
   "metadata": {},
   "source": [
    "#### Baseline Histogram Chart\n",
    "\n",
    "The method [`wallaroo.assay_config.AssayBuilder.baseline_histogram`](https://docs.wallaroo.ai/wallaroo-developer-guides/wallaroo-sdk-guides/wallaroo-sdk-reference-guide/assay_config/#AssayBuilder.baseline_dataframe) returns a histogram chart of the assay baseline generated from the provided parameters."
   ]
  },
  {
   "cell_type": "code",
   "execution_count": 29,
   "metadata": {},
   "outputs": [
    {
     "data": {
      "image/png": "[encoded data removed]",
      "text/plain": [
       "<Figure size 432x288 with 1 Axes>"
      ]
     },
     "metadata": {
      "needs_background": "light"
     },
     "output_type": "display_data"
    }
   ],
   "source": [
    "assay_builder_from_dates.baseline_histogram()"
   ]
  },
  {
   "cell_type": "markdown",
   "metadata": {},
   "source": [
    "#### Baseline KDE Chart\n",
    "\n",
    "The method [`wallaroo.assay_config.AssayBuilder.baseline_kde`](https://docs.wallaroo.ai/wallaroo-developer-guides/wallaroo-sdk-guides/wallaroo-sdk-reference-guide/assay_config/#AssayBuilder.baseline_dataframe) returns a Kernel Density Estimation (KDE) chart of the assay baseline generated from the provided parameters."
   ]
  },
  {
   "cell_type": "code",
   "execution_count": 30,
   "metadata": {},
   "outputs": [
    {
     "data": {
      "image/png": "[encoded data removed]",
      "text/plain": [
       "<Figure size 432x288 with 1 Axes>"
      ]
     },
     "metadata": {
      "needs_background": "light"
     },
     "output_type": "display_data"
    }
   ],
   "source": [
    "assay_builder_from_dates.baseline_kde()"
   ]
  },
  {
   "cell_type": "markdown",
   "metadata": {},
   "source": [
    "#### Baseline ECDF Chart\n",
    "\n",
    "The method [`wallaroo.assay_config.AssayBuilder.baseline_ecdf`](https://docs.wallaroo.ai/wallaroo-developer-guides/wallaroo-sdk-guides/wallaroo-sdk-reference-guide/assay_config/#AssayBuilder.baseline_dataframe) returns a Empirical Cumulative Distribution Function (CDF) chart of the assay baseline generated from the provided parameters."
   ]
  },
  {
   "cell_type": "code",
   "execution_count": 31,
   "metadata": {},
   "outputs": [
    {
     "data": {
      "image/png": "[encoded data removed]",
      "text/plain": [
       "<Figure size 432x288 with 1 Axes>"
      ]
     },
     "metadata": {
      "needs_background": "light"
     },
     "output_type": "display_data"
    }
   ],
   "source": [
    "assay_builder_from_dates.baseline_ecdf()"
   ]
  },
  {
   "cell_type": "markdown",
   "metadata": {},
   "source": [
    "### Assay Preview\n",
    "\n",
    "Now that the baseline is defined, we look at different configuration options and view how the assay baseline and results changes.  Once we determine what gives us the best method of determining model drift, we can create the assay."
   ]
  },
  {
   "cell_type": "markdown",
   "metadata": {},
   "source": [
    "#### Analysis List Chart Scores\n",
    "\n",
    "Analysis List scores show the assay scores for each assay result interval in one chart.  Values that are outside of the alert threshold are colored red, while scores within the alert threshold are green.\n",
    "\n",
    "Assay chart scores are displayed with the method [`wallaroo.assay.AssayAnalysisList.chart_scores(title: Optional[str] = None)`](https://docs.wallaroo.ai/wallaroo-developer-guides/wallaroo-sdk-guides/wallaroo-sdk-reference-guide/assay/#AssayAnalysisList.chart_scores), with ability to display an optional title with the chart.\n",
    "\n",
    "The following example shows retrieving the assay results and displaying the chart scores.  From our example, we have two windows - the first should be green, and the second is red showing that values were outside the alert threshold."
   ]
  },
  {
   "cell_type": "code",
   "execution_count": 32,
   "metadata": {},
   "outputs": [
    {
     "data": {
      "image/png": "[encoded data removed]",
      "text/plain": [
       "<Figure size 432x288 with 1 Axes>"
      ]
     },
     "metadata": {
      "needs_background": "light"
     },
     "output_type": "display_data"
    }
   ],
   "source": [
    "# Build the assay, based on the start and end of our baseline time, \n",
    "# and tracking the output variable index 0\n",
    "assay_builder_from_dates = wl.build_assay(assay_name=\"assays from date baseline\", \n",
    "                                          pipeline=mainpipeline, \n",
    "                                          iopath=\"output variable 0\",\n",
    "                                          baseline_start=assay_baseline_start, \n",
    "                                          baseline_end=assay_baseline_end)\n",
    "\n",
    "\n",
    "# set the width, interval, and time period \n",
    "assay_builder_from_dates.add_run_until(datetime.datetime.now())\n",
    "assay_builder_from_dates.window_builder().add_width(minutes=1).add_interval(minutes=1).add_start(assay_window_start)\n",
    "assay_config_from_dates = assay_builder_from_dates.build()\n",
    "assay_results_from_dates = assay_config_from_dates.interactive_run()\n",
    "\n",
    "assay_results_from_dates.chart_scores()"
   ]
  },
  {
   "cell_type": "markdown",
   "metadata": {},
   "source": [
    "#### Analysis Chart\n",
    "\n",
    "The method `wallaroo.assay.AssayAnalysis.chart()` displays a comparison between the baseline and an interval of inference data.\n",
    "\n",
    "This is compared to the [Chart Scores](#analysis-list-chart-scores), which is a **list** of all of the inference data split into intervals, while the **Analysis Chart** shows the breakdown of one set of inference data against the baseline.\n",
    "\n",
    "Score from the [Analysis List Chart Scores](#analysis-list-chart-scores) and each element from the [Analysis List DataFrame](#analysis-list-dataframe) generates \n",
    "\n",
    "The following fields are included.\n",
    "\n",
    "| Field | Type | Description |\n",
    "|---|---|---|\n",
    "| **baseline mean** | **Float** | The mean of the baseline values. |\n",
    "| **window mean** | **Float** | The mean of the window values. |\n",
    "| **baseline median** | **Float** | The median of the baseline values. |\n",
    "| **window median** | **Float** | The median of the window values. |\n",
    "| **bin_mode** | **String** | The binning mode used for the assay. |\n",
    "| **aggregation** | **String** | The aggregation mode used for the assay. |\n",
    "| **metric** | **String** | The metric mode used for the assay. |\n",
    "| **weighted** | **Bool** | Whether the bins were manually weighted. |\n",
    "| **score** | **Float** | The score from the assay window. |\n",
    "| **scores** | **List(Float)** | The score from each assay window bin. |\n",
    "| **index** | **Integer/None** | The window index.  Interactive assay runs are `None`. |"
   ]
  },
  {
   "cell_type": "code",
   "execution_count": 33,
   "metadata": {},
   "outputs": [
    {
     "name": "stdout",
     "output_type": "stream",
     "text": [
      "baseline mean = 494775.58346875\n",
      "window mean = 521217.603609375\n",
      "baseline median = 441374.921875\n",
      "window median = 448627.8125\n",
      "bin_mode = Quantile\n",
      "aggregation = Density\n",
      "metric = PSI\n",
      "weighted = False\n",
      "score = 0.023881030710736943\n",
      "scores = [0.0, 0.0013341057430248191, 0.0033382848156130714, 0.006132977527188355, 0.006127961394955222, 0.006947701229955476, 0.0]\n",
      "index = None\n"
     ]
    },
    {
     "data": {
      "image/png": "[encoded data removed]",
      "text/plain": [
       "<Figure size 432x288 with 1 Axes>"
      ]
     },
     "metadata": {
      "needs_background": "light"
     },
     "output_type": "display_data"
    }
   ],
   "source": [
    "# Build the assay, based on the start and end of our baseline time, \n",
    "# and tracking the output variable index 0\n",
    "assay_builder_from_dates = wl.build_assay(assay_name=\"assays from date baseline\", \n",
    "                                          pipeline=mainpipeline, \n",
    "                                          iopath=\"output variable 0\",\n",
    "                                          baseline_start=assay_baseline_start, \n",
    "                                          baseline_end=assay_baseline_end)\n",
    "\n",
    "# set the width, interval, and time period \n",
    "assay_builder_from_dates.add_run_until(datetime.datetime.now())\n",
    "assay_builder_from_dates.window_builder().add_width(minutes=1).add_interval(minutes=1).add_start(assay_window_start)\n",
    "assay_config_from_dates = assay_builder_from_dates.build()\n",
    "assay_results_from_dates = assay_config_from_dates.interactive_run()\n",
    "\n",
    "assay_results_from_dates[0].chart()"
   ]
  },
  {
   "cell_type": "markdown",
   "metadata": {},
   "source": [
    "#### Analysis List DataFrame\n",
    "\n",
    "`wallaroo.assay.AssayAnalysisList.to_dataframe()` returns a DataFrame showing the assay results for each window aka individual analysis.  This DataFrame contains the following fields:\n",
    "\n",
    "| Field | Type | Description |\n",
    "|---|---|---|\n",
    "| **assay_id** | *Integer/None* | The assay id.  Only provided from uploaded and executed assays. |\n",
    "| **name** | *String/None* | The name of the assay.  Only provided from uploaded and executed assays. |\n",
    "| **iopath** | *String/None* | The iopath of the assay.  Only provided from uploaded and executed assays. |\n",
    "| **score** | *Float* | The assay score. |\n",
    "| **start** | *DateTime* | The DateTime start of the assay window.\n",
    "| **min** | *Float* | The minimum value in the assay window.\n",
    "| **max**  | *Float* | The maximum value in the assay window.\n",
    "| **mean** | *Float* | The mean value in the assay window.\n",
    "| **median** | *Float* | The median value in the assay window.\n",
    "| **std** | *Float* | The standard deviation value in the assay window.\n",
    "| **warning_threshold** | *Float/None* | The warning threshold of the assay window.\n",
    "| **alert_threshold** | *Float/None* | The alert threshold of the assay window.\n",
    "| **status** | *String* | The assay window status.  Values are:  <ul><li>`OK`: The score is within accepted thresholds.</li><li>`Warning`: The score has triggered the `warning_threshold` if exists, but not the `alert_threshold`.</li><li>`Alert`: The score has triggered the the `alert_threshold`.</li></ul> |\n",
    "\n",
    "For this example, the assay analysis list DataFrame is listed.  \n",
    "\n",
    "From this tutorial, we should have 2 windows of dta to look at, each one minute apart.  The first window should show `status: OK`, with the second window with the very large house prices will show `status: alert`"
   ]
  },
  {
   "cell_type": "code",
   "execution_count": 36,
   "metadata": {},
   "outputs": [
    {
     "data": {
      "text/html": [
       "<div>\n",
       "<style scoped>\n",
       "    .dataframe tbody tr th:only-of-type {\n",
       "        vertical-align: middle;\n",
       "    }\n",
       "\n",
       "    .dataframe tbody tr th {\n",
       "        vertical-align: top;\n",
       "    }\n",
       "\n",
       "    .dataframe thead th {\n",
       "        text-align: right;\n",
       "    }\n",
       "</style>\n",
       "<table border=\"1\" class=\"dataframe\">\n",
       "  <thead>\n",
       "    <tr style=\"text-align: right;\">\n",
       "      <th></th>\n",
       "      <th>id</th>\n",
       "      <th>assay_id</th>\n",
       "      <th>assay_name</th>\n",
       "      <th>iopath</th>\n",
       "      <th>pipeline_id</th>\n",
       "      <th>pipeline_name</th>\n",
       "      <th>score</th>\n",
       "      <th>start</th>\n",
       "      <th>min</th>\n",
       "      <th>max</th>\n",
       "      <th>mean</th>\n",
       "      <th>median</th>\n",
       "      <th>std</th>\n",
       "      <th>warning_threshold</th>\n",
       "      <th>alert_threshold</th>\n",
       "      <th>status</th>\n",
       "    </tr>\n",
       "  </thead>\n",
       "  <tbody>\n",
       "    <tr>\n",
       "      <th>0</th>\n",
       "      <td>None</td>\n",
       "      <td>None</td>\n",
       "      <td>assays from date baseline</td>\n",
       "      <td></td>\n",
       "      <td>None</td>\n",
       "      <td></td>\n",
       "      <td>0.023881</td>\n",
       "      <td>2024-04-05T14:24:11.425652+00:00</td>\n",
       "      <td>2.362387e+05</td>\n",
       "      <td>1489624.250</td>\n",
       "      <td>5.212176e+05</td>\n",
       "      <td>4.486278e+05</td>\n",
       "      <td>234592.462609</td>\n",
       "      <td>None</td>\n",
       "      <td>0.25</td>\n",
       "      <td>Ok</td>\n",
       "    </tr>\n",
       "    <tr>\n",
       "      <th>1</th>\n",
       "      <td>None</td>\n",
       "      <td>None</td>\n",
       "      <td>assays from date baseline</td>\n",
       "      <td></td>\n",
       "      <td>None</td>\n",
       "      <td></td>\n",
       "      <td>8.868668</td>\n",
       "      <td>2024-04-05T14:26:11.425652+00:00</td>\n",
       "      <td>1.514079e+06</td>\n",
       "      <td>2016006.125</td>\n",
       "      <td>1.887869e+06</td>\n",
       "      <td>1.946438e+06</td>\n",
       "      <td>159595.168343</td>\n",
       "      <td>None</td>\n",
       "      <td>0.25</td>\n",
       "      <td>Alert</td>\n",
       "    </tr>\n",
       "  </tbody>\n",
       "</table>\n",
       "</div>"
      ],
      "text/plain": [
       "     id assay_id                 assay_name iopath pipeline_id pipeline_name  \\\n",
       "0  None     None  assays from date baseline               None                 \n",
       "1  None     None  assays from date baseline               None                 \n",
       "\n",
       "      score                             start           min          max  \\\n",
       "0  0.023881  2024-04-05T14:24:11.425652+00:00  2.362387e+05  1489624.250   \n",
       "1  8.868668  2024-04-05T14:26:11.425652+00:00  1.514079e+06  2016006.125   \n",
       "\n",
       "           mean        median            std warning_threshold  \\\n",
       "0  5.212176e+05  4.486278e+05  234592.462609              None   \n",
       "1  1.887869e+06  1.946438e+06  159595.168343              None   \n",
       "\n",
       "   alert_threshold status  \n",
       "0             0.25     Ok  \n",
       "1             0.25  Alert  "
      ]
     },
     "execution_count": 36,
     "metadata": {},
     "output_type": "execute_result"
    }
   ],
   "source": [
    "# Build the assay, based on the start and end of our baseline time, \n",
    "# and tracking the output variable index 0\n",
    "assay_builder_from_dates = wl.build_assay(assay_name=\"assays from date baseline\", \n",
    "                                          pipeline=mainpipeline, \n",
    "                                          iopath=\"output variable 0\",\n",
    "                                          baseline_start=assay_baseline_start, \n",
    "                                          baseline_end=assay_baseline_end)\n",
    "\n",
    "# set the width, interval, and time period \n",
    "assay_builder_from_dates.add_run_until(datetime.datetime.now())\n",
    "assay_builder_from_dates.window_builder().add_width(minutes=1).add_interval(minutes=1).add_start(assay_window_start)\n",
    "assay_config_from_dates = assay_builder_from_dates.build()\n",
    "assay_results_from_dates = assay_config_from_dates.interactive_run()\n",
    "\n",
    "assay_results_from_dates.to_dataframe()"
   ]
  },
  {
   "cell_type": "markdown",
   "metadata": {},
   "source": [
    "#### Analysis List Full DataFrame\n",
    "\n",
    "`wallaroo.assay.AssayAnalysisList.to_full_dataframe()` returns a DataFrame showing all values, including the inputs and outputs from the assay results for each window aka individual analysis.  This DataFrame contains the following fields:\n",
    "\n",
    "\n",
    "\tpipeline_id\twarning_threshold\tbin_index\tcreated_at\n",
    "\n",
    "\n",
    "| Field | Type | Description |\n",
    "|---|---|---|\n",
    "| **window_start** | *DateTime* | The date and time when the window period began. |\n",
    "| **analyzed_at** | *DateTime* | The date and time when the assay analysis was performed. |\n",
    "| **elapsed_millis** | *Integer* | How long the analysis took to perform in milliseconds. |\n",
    "| **baseline_summary_count** | *Integer* | The number of data elements from the baseline. |\n",
    "| **baseline_summary_min** | *Float* | The minimum value from the baseline summary. |\n",
    "| **baseline_summary_max** | *Float* | The maximum value from the baseline summary. |\n",
    "| **baseline_summary_mean** | *Float* | The mean value of the baseline summary. |\n",
    "| **baseline_summary_median** | *Float* | The median value of the baseline summary. |\n",
    "| **baseline_summary_std** | *Float* | The standard deviation value of the baseline summary. |\n",
    "| **baseline_summary_edges_{0...n}** | *Float* | The baseline summary edges for each baseline edge from 0 to number of edges. |\n",
    "| **summarizer_type** | *String* | The type of summarizer used for the baseline.  See [`wallaroo.assay_config` for other summarizer types](https://docs.wallaroo.ai/wallaroo-developer-guides/wallaroo-sdk-guides/wallaroo-sdk-reference-guide/assay_config/). |\n",
    "| **summarizer_bin_weights** | *List / None* | If baseline bin weights were provided, the list of those weights.  Otherwise, `None`. |\n",
    "| **summarizer_provided_edges** | *List / None* | If baseline bin edges were provided, the list of those edges.  Otherwise, `None`. |\n",
    "| **status** | *String* | The assay window status.  Values are:  <ul><li>`OK`: The score is within accepted thresholds.</li><li>`Warning`: The score has triggered the `warning_threshold` if exists, but not the `alert_threshold`.</li><li>`Alert`: The score has triggered the the `alert_threshold`.</li></ul> |\n",
    "| **id** | *Integer/None* | The id for the window aka analysis.  Only provided from uploaded and executed assays. |\n",
    "| **assay_id** | *Integer/None* | The assay id.  Only provided from uploaded and executed assays. |\n",
    "| **pipeline_id** | *Integer/None* | The pipeline id.  Only provided from uploaded and executed assays. |\n",
    "| **warning_threshold** | *Float* | The warning threshold set for the assay. |\n",
    "| **warning_threshold** | *Float* | The warning threshold set for the assay.\n",
    "| **bin_index** | *Integer/None* | The bin index for the window aka analysis.|\n",
    "| **created_at** | *Datetime/None* | The date and time the window aka analysis was generated.  Only provided from uploaded and executed assays. |\n",
    "\n",
    "For this example, full DataFrame from an assay preview is generated.\n",
    "\n",
    "From this tutorial, we should have 2 windows of dta to look at, each one minute apart.  The first window should show `status: OK`, with the second window with the very large house prices will show `status: alert`"
   ]
  },
  {
   "cell_type": "code",
   "execution_count": 37,
   "metadata": {},
   "outputs": [
    {
     "data": {
      "text/html": [
       "<div>\n",
       "<style scoped>\n",
       "    .dataframe tbody tr th:only-of-type {\n",
       "        vertical-align: middle;\n",
       "    }\n",
       "\n",
       "    .dataframe tbody tr th {\n",
       "        vertical-align: top;\n",
       "    }\n",
       "\n",
       "    .dataframe thead th {\n",
       "        text-align: right;\n",
       "    }\n",
       "</style>\n",
       "<table border=\"1\" class=\"dataframe\">\n",
       "  <thead>\n",
       "    <tr style=\"text-align: right;\">\n",
       "      <th></th>\n",
       "      <th>window_start</th>\n",
       "      <th>analyzed_at</th>\n",
       "      <th>elapsed_millis</th>\n",
       "      <th>baseline_summary_count</th>\n",
       "      <th>baseline_summary_min</th>\n",
       "      <th>baseline_summary_max</th>\n",
       "      <th>baseline_summary_mean</th>\n",
       "      <th>baseline_summary_median</th>\n",
       "      <th>baseline_summary_std</th>\n",
       "      <th>baseline_summary_edges_0</th>\n",
       "      <th>...</th>\n",
       "      <th>summarizer_type</th>\n",
       "      <th>summarizer_bin_weights</th>\n",
       "      <th>summarizer_provided_edges</th>\n",
       "      <th>status</th>\n",
       "      <th>id</th>\n",
       "      <th>assay_id</th>\n",
       "      <th>pipeline_id</th>\n",
       "      <th>warning_threshold</th>\n",
       "      <th>bin_index</th>\n",
       "      <th>created_at</th>\n",
       "    </tr>\n",
       "  </thead>\n",
       "  <tbody>\n",
       "    <tr>\n",
       "      <th>0</th>\n",
       "      <td>2024-04-05T14:24:11.425652+00:00</td>\n",
       "      <td>2024-04-05T14:33:56.464363+00:00</td>\n",
       "      <td>22</td>\n",
       "      <td>500</td>\n",
       "      <td>236238.671875</td>\n",
       "      <td>1489624.25</td>\n",
       "      <td>494775.583469</td>\n",
       "      <td>441374.921875</td>\n",
       "      <td>229911.627142</td>\n",
       "      <td>236238.671875</td>\n",
       "      <td>...</td>\n",
       "      <td>UnivariateContinuous</td>\n",
       "      <td>None</td>\n",
       "      <td>None</td>\n",
       "      <td>Ok</td>\n",
       "      <td>None</td>\n",
       "      <td>None</td>\n",
       "      <td>None</td>\n",
       "      <td>None</td>\n",
       "      <td>None</td>\n",
       "      <td>None</td>\n",
       "    </tr>\n",
       "    <tr>\n",
       "      <th>1</th>\n",
       "      <td>2024-04-05T14:26:11.425652+00:00</td>\n",
       "      <td>2024-04-05T14:33:56.464435+00:00</td>\n",
       "      <td>77</td>\n",
       "      <td>500</td>\n",
       "      <td>236238.671875</td>\n",
       "      <td>1489624.25</td>\n",
       "      <td>494775.583469</td>\n",
       "      <td>441374.921875</td>\n",
       "      <td>229911.627142</td>\n",
       "      <td>236238.671875</td>\n",
       "      <td>...</td>\n",
       "      <td>UnivariateContinuous</td>\n",
       "      <td>None</td>\n",
       "      <td>None</td>\n",
       "      <td>Alert</td>\n",
       "      <td>None</td>\n",
       "      <td>None</td>\n",
       "      <td>None</td>\n",
       "      <td>None</td>\n",
       "      <td>None</td>\n",
       "      <td>None</td>\n",
       "    </tr>\n",
       "  </tbody>\n",
       "</table>\n",
       "<p>2 rows × 86 columns</p>\n",
       "</div>"
      ],
      "text/plain": [
       "                       window_start                       analyzed_at  \\\n",
       "0  2024-04-05T14:24:11.425652+00:00  2024-04-05T14:33:56.464363+00:00   \n",
       "1  2024-04-05T14:26:11.425652+00:00  2024-04-05T14:33:56.464435+00:00   \n",
       "\n",
       "   elapsed_millis  baseline_summary_count  baseline_summary_min  \\\n",
       "0              22                     500         236238.671875   \n",
       "1              77                     500         236238.671875   \n",
       "\n",
       "   baseline_summary_max  baseline_summary_mean  baseline_summary_median  \\\n",
       "0            1489624.25          494775.583469            441374.921875   \n",
       "1            1489624.25          494775.583469            441374.921875   \n",
       "\n",
       "   baseline_summary_std  baseline_summary_edges_0  ...       summarizer_type  \\\n",
       "0         229911.627142             236238.671875  ...  UnivariateContinuous   \n",
       "1         229911.627142             236238.671875  ...  UnivariateContinuous   \n",
       "\n",
       "   summarizer_bin_weights  summarizer_provided_edges  status    id assay_id  \\\n",
       "0                    None                       None      Ok  None     None   \n",
       "1                    None                       None   Alert  None     None   \n",
       "\n",
       "  pipeline_id warning_threshold bin_index created_at  \n",
       "0        None              None      None       None  \n",
       "1        None              None      None       None  \n",
       "\n",
       "[2 rows x 86 columns]"
      ]
     },
     "execution_count": 37,
     "metadata": {},
     "output_type": "execute_result"
    }
   ],
   "source": [
    "# Build the assay, based on the start and end of our baseline time, \n",
    "# and tracking the output variable index 0\n",
    "assay_builder_from_dates = wl.build_assay(assay_name=\"assays from date baseline\", \n",
    "                                          pipeline=mainpipeline, \n",
    "                                          iopath=\"output variable 0\",\n",
    "                                          baseline_start=assay_baseline_start, \n",
    "                                          baseline_end=assay_baseline_end)\n",
    "\n",
    "# set the width, interval, and time period \n",
    "assay_builder_from_dates.add_run_until(datetime.datetime.now())\n",
    "assay_builder_from_dates.window_builder().add_width(minutes=1).add_interval(minutes=1).add_start(assay_window_start)\n",
    "assay_config_from_dates = assay_builder_from_dates.build()\n",
    "assay_results_from_dates = assay_config_from_dates.interactive_run()\n",
    "\n",
    "assay_results_from_dates.to_full_dataframe()"
   ]
  },
  {
   "cell_type": "markdown",
   "metadata": {},
   "source": [
    "#### Analysis Compare Basic Stats\n",
    "\n",
    "The method `wallaroo.assay.AssayAnalysis.compare_basic_stats` returns a DataFrame comparing one set of inference data against the baseline.\n",
    "\n",
    "This is compared to the [Analysis List DataFrame](#analysis-list-dataframe), which is a **list** of all of the inference data split into intervals, while the **Analysis Compare Basic Stats** shows the breakdown of one set of inference data against the baseline."
   ]
  },
  {
   "cell_type": "code",
   "execution_count": 38,
   "metadata": {},
   "outputs": [
    {
     "data": {
      "text/html": [
       "<div>\n",
       "<style scoped>\n",
       "    .dataframe tbody tr th:only-of-type {\n",
       "        vertical-align: middle;\n",
       "    }\n",
       "\n",
       "    .dataframe tbody tr th {\n",
       "        vertical-align: top;\n",
       "    }\n",
       "\n",
       "    .dataframe thead th {\n",
       "        text-align: right;\n",
       "    }\n",
       "</style>\n",
       "<table border=\"1\" class=\"dataframe\">\n",
       "  <thead>\n",
       "    <tr style=\"text-align: right;\">\n",
       "      <th></th>\n",
       "      <th>Baseline</th>\n",
       "      <th>Window</th>\n",
       "      <th>diff</th>\n",
       "      <th>pct_diff</th>\n",
       "    </tr>\n",
       "  </thead>\n",
       "  <tbody>\n",
       "    <tr>\n",
       "      <th>count</th>\n",
       "      <td>500.0</td>\n",
       "      <td>1000.0</td>\n",
       "      <td>500.000000</td>\n",
       "      <td>100.000000</td>\n",
       "    </tr>\n",
       "    <tr>\n",
       "      <th>min</th>\n",
       "      <td>236238.671875</td>\n",
       "      <td>236238.671875</td>\n",
       "      <td>0.000000</td>\n",
       "      <td>0.000000</td>\n",
       "    </tr>\n",
       "    <tr>\n",
       "      <th>max</th>\n",
       "      <td>1489624.25</td>\n",
       "      <td>1489624.25</td>\n",
       "      <td>0.000000</td>\n",
       "      <td>0.000000</td>\n",
       "    </tr>\n",
       "    <tr>\n",
       "      <th>mean</th>\n",
       "      <td>494775.583469</td>\n",
       "      <td>521217.603609</td>\n",
       "      <td>26442.020141</td>\n",
       "      <td>5.344245</td>\n",
       "    </tr>\n",
       "    <tr>\n",
       "      <th>median</th>\n",
       "      <td>441374.921875</td>\n",
       "      <td>448627.8125</td>\n",
       "      <td>7252.890625</td>\n",
       "      <td>1.643249</td>\n",
       "    </tr>\n",
       "    <tr>\n",
       "      <th>std</th>\n",
       "      <td>229911.627142</td>\n",
       "      <td>234592.462609</td>\n",
       "      <td>4680.835467</td>\n",
       "      <td>2.035928</td>\n",
       "    </tr>\n",
       "    <tr>\n",
       "      <th>start</th>\n",
       "      <td>None</td>\n",
       "      <td>2024-04-05T14:24:11.425652+00:00</td>\n",
       "      <td>NaN</td>\n",
       "      <td>NaN</td>\n",
       "    </tr>\n",
       "    <tr>\n",
       "      <th>end</th>\n",
       "      <td>None</td>\n",
       "      <td>2024-04-05T14:25:11.425652+00:00</td>\n",
       "      <td>NaN</td>\n",
       "      <td>NaN</td>\n",
       "    </tr>\n",
       "  </tbody>\n",
       "</table>\n",
       "</div>"
      ],
      "text/plain": [
       "             Baseline                            Window          diff  \\\n",
       "count           500.0                            1000.0    500.000000   \n",
       "min     236238.671875                     236238.671875      0.000000   \n",
       "max        1489624.25                        1489624.25      0.000000   \n",
       "mean    494775.583469                     521217.603609  26442.020141   \n",
       "median  441374.921875                       448627.8125   7252.890625   \n",
       "std     229911.627142                     234592.462609   4680.835467   \n",
       "start            None  2024-04-05T14:24:11.425652+00:00           NaN   \n",
       "end              None  2024-04-05T14:25:11.425652+00:00           NaN   \n",
       "\n",
       "          pct_diff  \n",
       "count   100.000000  \n",
       "min       0.000000  \n",
       "max       0.000000  \n",
       "mean      5.344245  \n",
       "median    1.643249  \n",
       "std       2.035928  \n",
       "start          NaN  \n",
       "end            NaN  "
      ]
     },
     "execution_count": 38,
     "metadata": {},
     "output_type": "execute_result"
    }
   ],
   "source": [
    "# Build the assay, based on the start and end of our baseline time, \n",
    "# and tracking the output variable index 0\n",
    "assay_builder_from_dates = wl.build_assay(assay_name=\"assays from date baseline\", \n",
    "                                          pipeline=mainpipeline, \n",
    "                                          iopath=\"output variable 0\",\n",
    "                                          baseline_start=assay_baseline_start, \n",
    "                                          baseline_end=assay_baseline_end)\n",
    "\n",
    "# set the width, interval, and time period \n",
    "assay_builder_from_dates.add_run_until(datetime.datetime.now())\n",
    "assay_builder_from_dates.window_builder().add_width(minutes=1).add_interval(minutes=1).add_start(assay_window_start)\n",
    "assay_config_from_dates = assay_builder_from_dates.build()\n",
    "assay_results_from_dates = assay_config_from_dates.interactive_run()\n",
    "\n",
    "assay_results_from_dates[0].compare_basic_stats()"
   ]
  },
  {
   "cell_type": "markdown",
   "metadata": {},
   "source": [
    "#### Configure Assays\n",
    "\n",
    "Before creating the assay, **configure** the assay and continue to preview it until the best method for detecting drift is set.  The following options are available."
   ]
  },
  {
   "cell_type": "markdown",
   "metadata": {},
   "source": [
    "##### Score Metric\n",
    "\n",
    "The `score` is a distance between the baseline and the analysis window.  The larger the score, the greater the difference between the baseline and the analysis window.  The following methods are provided determining the score:\n",
    "\n",
    "* `PSI` (*Default*) - Population Stability Index (PSI).\n",
    "* `MAXDIFF`: Maximum difference between corresponding bins.\n",
    "* `SUMDIFF`: Mum of differences between corresponding bins.\n",
    "\n",
    "The metric type used is updated with the [`wallaroo.assay_config.AssayBuilder.add_metric(metric: wallaroo.assay_config.Metric)`](https://docs.wallaroo.ai/wallaroo-developer-guides/wallaroo-sdk-guides/wallaroo-sdk-reference-guide/assay_config/#UnivariateContinousSummarizerBuilder.add_metric) method.\n",
    "\n",
    "The following three charts use each of the metrics.  Note how the scores change based on the score type used."
   ]
  },
  {
   "cell_type": "code",
   "execution_count": 39,
   "metadata": {},
   "outputs": [
    {
     "name": "stdout",
     "output_type": "stream",
     "text": [
      "baseline mean = 494775.58346875\n",
      "window mean = 521217.603609375\n",
      "baseline median = 441374.921875\n",
      "window median = 448627.8125\n",
      "bin_mode = Quantile\n",
      "aggregation = Density\n",
      "metric = PSI\n",
      "weighted = False\n",
      "score = 0.023881030710736943\n",
      "scores = [0.0, 0.0013341057430248191, 0.0033382848156130714, 0.006132977527188355, 0.006127961394955222, 0.006947701229955476, 0.0]\n",
      "index = None\n"
     ]
    },
    {
     "data": {
      "image/png": "[encoded data removed]",
      "text/plain": [
       "<Figure size 432x288 with 1 Axes>"
      ]
     },
     "metadata": {
      "needs_background": "light"
     },
     "output_type": "display_data"
    }
   ],
   "source": [
    "# Build the assay, based on the start and end of our baseline time, \n",
    "# and tracking the output variable index 0\n",
    "assay_builder_from_dates = wl.build_assay(assay_name=\"assays from date baseline\", \n",
    "                                          pipeline=mainpipeline, \n",
    "                                          iopath=\"output variable 0\",\n",
    "                                          baseline_start=assay_baseline_start, \n",
    "                                          baseline_end=assay_baseline_end)\n",
    "\n",
    "# set metric PSI mode\n",
    "assay_builder_from_dates.summarizer_builder.add_metric(wallaroo.assay_config.Metric.PSI)\n",
    "\n",
    "# set the width, interval, and time period \n",
    "assay_builder_from_dates.add_run_until(datetime.datetime.now())\n",
    "assay_builder_from_dates.window_builder().add_width(minutes=1).add_interval(minutes=1).add_start(assay_window_start)\n",
    "assay_config_from_dates = assay_builder_from_dates.build()\n",
    "assay_results_from_dates = assay_config_from_dates.interactive_run()\n",
    "\n",
    "assay_results_from_dates[0].chart()"
   ]
  },
  {
   "cell_type": "code",
   "execution_count": 40,
   "metadata": {},
   "outputs": [
    {
     "name": "stdout",
     "output_type": "stream",
     "text": [
      "baseline mean = 494775.58346875\n",
      "window mean = 521217.603609375\n",
      "baseline median = 441374.921875\n",
      "window median = 448627.8125\n",
      "bin_mode = Quantile\n",
      "aggregation = Density\n",
      "metric = MaxDiff\n",
      "weighted = False\n",
      "score = 0.03899999999999998\n",
      "scores = [0.0, 0.016000000000000014, 0.025000000000000026, 0.034, 0.036000000000000004, 0.03899999999999998, 0.0]\n",
      "index = 5\n"
     ]
    },
    {
     "data": {
      "image/png": "[encoded data removed]",
      "text/plain": [
       "<Figure size 432x288 with 1 Axes>"
      ]
     },
     "metadata": {
      "needs_background": "light"
     },
     "output_type": "display_data"
    }
   ],
   "source": [
    "# Build the assay, based on the start and end of our baseline time, \n",
    "# and tracking the output variable index 0\n",
    "assay_builder_from_dates = wl.build_assay(assay_name=\"assays from date baseline\", \n",
    "                                          pipeline=mainpipeline, \n",
    "                                          iopath=\"output variable 0\",\n",
    "                                          baseline_start=assay_baseline_start, \n",
    "                                          baseline_end=assay_baseline_end)\n",
    "\n",
    "# set metric MAXDIFF mode\n",
    "assay_builder_from_dates.summarizer_builder.add_metric(wallaroo.assay_config.Metric.MAXDIFF)\n",
    "\n",
    "# set the width, interval, and time period \n",
    "assay_builder_from_dates.add_run_until(datetime.datetime.now())\n",
    "assay_builder_from_dates.window_builder().add_width(minutes=1).add_interval(minutes=1).add_start(assay_window_start)\n",
    "assay_config_from_dates = assay_builder_from_dates.build()\n",
    "assay_results_from_dates = assay_config_from_dates.interactive_run()\n",
    "\n",
    "assay_results_from_dates[0].chart()"
   ]
  },
  {
   "cell_type": "code",
   "execution_count": 41,
   "metadata": {},
   "outputs": [
    {
     "name": "stdout",
     "output_type": "stream",
     "text": [
      "baseline mean = 494775.58346875\n",
      "window mean = 521217.603609375\n",
      "baseline median = 441374.921875\n",
      "window median = 448627.8125\n",
      "bin_mode = Quantile\n",
      "aggregation = Density\n",
      "metric = SumDiff\n",
      "weighted = False\n",
      "score = 0.07500000000000001\n",
      "scores = [0.0, 0.016000000000000014, 0.025000000000000026, 0.034, 0.036000000000000004, 0.03899999999999998, 0.0]\n",
      "index = None\n"
     ]
    },
    {
     "data": {
      "image/png": "[encoded data removed]",
      "text/plain": [
       "<Figure size 432x288 with 1 Axes>"
      ]
     },
     "metadata": {
      "needs_background": "light"
     },
     "output_type": "display_data"
    }
   ],
   "source": [
    "# Build the assay, based on the start and end of our baseline time, \n",
    "# and tracking the output variable index 0\n",
    "assay_builder_from_dates = wl.build_assay(assay_name=\"assays from date baseline\", \n",
    "                                          pipeline=mainpipeline, \n",
    "                                          iopath=\"output variable 0\",\n",
    "                                          baseline_start=assay_baseline_start, \n",
    "                                          baseline_end=assay_baseline_end)\n",
    "\n",
    "# set metric SUMDIFF mode\n",
    "assay_builder_from_dates.summarizer_builder.add_metric(wallaroo.assay_config.Metric.SUMDIFF)\n",
    "\n",
    "# set the width, interval, and time period \n",
    "assay_builder_from_dates.add_run_until(datetime.datetime.now())\n",
    "assay_builder_from_dates.window_builder().add_width(minutes=1).add_interval(minutes=1).add_start(assay_window_start)\n",
    "assay_config_from_dates = assay_builder_from_dates.build()\n",
    "assay_results_from_dates = assay_config_from_dates.interactive_run()\n",
    "\n",
    "assay_results_from_dates[0].chart()"
   ]
  },
  {
   "cell_type": "markdown",
   "metadata": {},
   "source": [
    "##### Alert Threshold\n",
    "\n",
    "Assay alert thresholds are modified with the [`wallaroo.assay_config.AssayBuilder.add_alert_threshold(alert_threshold: float)`](https://docs.wallaroo.ai/wallaroo-developer-guides/wallaroo-sdk-guides/wallaroo-sdk-reference-guide/assay_config/) method.  By default alert thresholds are `0.1`.\n",
    "\n",
    "The following example updates the alert threshold to `0.5`."
   ]
  },
  {
   "cell_type": "code",
   "execution_count": 42,
   "metadata": {},
   "outputs": [
    {
     "data": {
      "text/html": [
       "<div>\n",
       "<style scoped>\n",
       "    .dataframe tbody tr th:only-of-type {\n",
       "        vertical-align: middle;\n",
       "    }\n",
       "\n",
       "    .dataframe tbody tr th {\n",
       "        vertical-align: top;\n",
       "    }\n",
       "\n",
       "    .dataframe thead th {\n",
       "        text-align: right;\n",
       "    }\n",
       "</style>\n",
       "<table border=\"1\" class=\"dataframe\">\n",
       "  <thead>\n",
       "    <tr style=\"text-align: right;\">\n",
       "      <th></th>\n",
       "      <th>id</th>\n",
       "      <th>assay_id</th>\n",
       "      <th>assay_name</th>\n",
       "      <th>iopath</th>\n",
       "      <th>pipeline_id</th>\n",
       "      <th>pipeline_name</th>\n",
       "      <th>score</th>\n",
       "      <th>start</th>\n",
       "      <th>min</th>\n",
       "      <th>max</th>\n",
       "      <th>mean</th>\n",
       "      <th>median</th>\n",
       "      <th>std</th>\n",
       "      <th>warning_threshold</th>\n",
       "      <th>alert_threshold</th>\n",
       "      <th>status</th>\n",
       "    </tr>\n",
       "  </thead>\n",
       "  <tbody>\n",
       "    <tr>\n",
       "      <th>0</th>\n",
       "      <td>None</td>\n",
       "      <td>None</td>\n",
       "      <td>assays from date baseline</td>\n",
       "      <td></td>\n",
       "      <td>None</td>\n",
       "      <td></td>\n",
       "      <td>0.023881</td>\n",
       "      <td>2024-04-05T14:24:11.425652+00:00</td>\n",
       "      <td>2.362387e+05</td>\n",
       "      <td>1489624.250</td>\n",
       "      <td>5.212176e+05</td>\n",
       "      <td>4.486278e+05</td>\n",
       "      <td>234592.462609</td>\n",
       "      <td>None</td>\n",
       "      <td>0.5</td>\n",
       "      <td>Ok</td>\n",
       "    </tr>\n",
       "    <tr>\n",
       "      <th>1</th>\n",
       "      <td>None</td>\n",
       "      <td>None</td>\n",
       "      <td>assays from date baseline</td>\n",
       "      <td></td>\n",
       "      <td>None</td>\n",
       "      <td></td>\n",
       "      <td>8.868668</td>\n",
       "      <td>2024-04-05T14:26:11.425652+00:00</td>\n",
       "      <td>1.514079e+06</td>\n",
       "      <td>2016006.125</td>\n",
       "      <td>1.887869e+06</td>\n",
       "      <td>1.946438e+06</td>\n",
       "      <td>159595.168343</td>\n",
       "      <td>None</td>\n",
       "      <td>0.5</td>\n",
       "      <td>Alert</td>\n",
       "    </tr>\n",
       "  </tbody>\n",
       "</table>\n",
       "</div>"
      ],
      "text/plain": [
       "     id assay_id                 assay_name iopath pipeline_id pipeline_name  \\\n",
       "0  None     None  assays from date baseline               None                 \n",
       "1  None     None  assays from date baseline               None                 \n",
       "\n",
       "      score                             start           min          max  \\\n",
       "0  0.023881  2024-04-05T14:24:11.425652+00:00  2.362387e+05  1489624.250   \n",
       "1  8.868668  2024-04-05T14:26:11.425652+00:00  1.514079e+06  2016006.125   \n",
       "\n",
       "           mean        median            std warning_threshold  \\\n",
       "0  5.212176e+05  4.486278e+05  234592.462609              None   \n",
       "1  1.887869e+06  1.946438e+06  159595.168343              None   \n",
       "\n",
       "   alert_threshold status  \n",
       "0              0.5     Ok  \n",
       "1              0.5  Alert  "
      ]
     },
     "execution_count": 42,
     "metadata": {},
     "output_type": "execute_result"
    }
   ],
   "source": [
    "# Build the assay, based on the start and end of our baseline time, \n",
    "# and tracking the output variable index 0\n",
    "assay_builder_from_dates = wl.build_assay(assay_name=\"assays from date baseline\", \n",
    "                                          pipeline=mainpipeline, \n",
    "                                          iopath=\"output variable 0\",\n",
    "                                          baseline_start=assay_baseline_start, \n",
    "                                          baseline_end=assay_baseline_end)\n",
    "\n",
    "assay_builder_from_dates.add_alert_threshold(0.5)\n",
    "\n",
    "# set the width, interval, and time period \n",
    "assay_builder_from_dates.add_run_until(datetime.datetime.now())\n",
    "assay_builder_from_dates.window_builder().add_width(minutes=1).add_interval(minutes=1).add_start(assay_window_start)\n",
    "assay_config_from_dates = assay_builder_from_dates.build()\n",
    "assay_results_from_dates = assay_config_from_dates.interactive_run()\n",
    "\n",
    "assay_results_from_dates.to_dataframe()"
   ]
  },
  {
   "cell_type": "markdown",
   "metadata": {},
   "source": [
    "##### Number of Bins\n",
    "\n",
    "Number of bins sets how the baseline data is partitioned.  The total number of bins includes the set number plus the left_outlier and the right_outlier, so the total number of bins will be the total set + 2.\n",
    "\n",
    "The number of bins is set with the [`wallaroo.assay_config.UnivariateContinousSummarizerBuilder.add_num_bins(num_bins: int)`](https://docs.wallaroo.ai/wallaroo-developer-guides/wallaroo-sdk-guides/wallaroo-sdk-reference-guide/assay_config/#UnivariateContinousSummarizerBuilder.add_num_bins) method."
   ]
  },
  {
   "cell_type": "code",
   "execution_count": 43,
   "metadata": {},
   "outputs": [
    {
     "name": "stdout",
     "output_type": "stream",
     "text": [
      "baseline mean = 494775.58346875\n",
      "window mean = 521217.603609375\n",
      "baseline median = 441374.921875\n",
      "window median = 448627.8125\n",
      "bin_mode = Quantile\n",
      "aggregation = Density\n",
      "metric = PSI\n",
      "weighted = False\n",
      "score = 0.052624855590203246\n",
      "scores = [0.0, 0.00495016900394247, 0.0002439508208471587, 0.0150774020632359, 0.000953101798043247, 9.13776224541258e-05, 0.01072448039784846, 0.0001739404477589557, 0.013458889464848522, 0.00364643113587909, 0.0033051128353453196, 0.0]\n",
      "index = None\n"
     ]
    },
    {
     "data": {
      "image/png": "[encoded data removed]",
      "text/plain": [
       "<Figure size 432x288 with 1 Axes>"
      ]
     },
     "metadata": {
      "needs_background": "light"
     },
     "output_type": "display_data"
    }
   ],
   "source": [
    "# Build the assay, based on the start and end of our baseline time, \n",
    "# and tracking the output variable index 0\n",
    "assay_builder_from_dates = wl.build_assay(assay_name=\"assays from date baseline\", \n",
    "                                          pipeline=mainpipeline, \n",
    "                                          iopath=\"output variable 0\",\n",
    "                                          baseline_start=assay_baseline_start, \n",
    "                                          baseline_end=assay_baseline_end)\n",
    "\n",
    "# Set the number of bins\n",
    "# update number of bins here\n",
    "assay_builder_from_dates.summarizer_builder.add_num_bins(10)\n",
    "\n",
    "# set the width, interval, and time period \n",
    "assay_builder_from_dates.add_run_until(datetime.datetime.now())\n",
    "assay_builder_from_dates.window_builder().add_width(minutes=1).add_interval(minutes=1).add_start(assay_window_start)\n",
    "assay_config_from_dates = assay_builder_from_dates.build()\n",
    "assay_results_from_dates = assay_config_from_dates.interactive_run()\n",
    "\n",
    "assay_results_from_dates[0].chart()"
   ]
  },
  {
   "cell_type": "markdown",
   "metadata": {},
   "source": [
    "##### Binning Mode\n",
    "\n",
    "Binning Mode defines how the bins are separated.  Binning modes are modified through the `wallaroo.assay_config.UnivariateContinousSummarizerBuilder.add_bin_mode(bin_mode: bin_mode: wallaroo.assay_config.BinMode, edges: Optional[List[float]] = None)`.\n",
    "\n",
    "Available `bin_mode` values from `wallaroo.assay_config.Binmode` are the following:\n",
    "\n",
    "* `QUANTILE` (*Default*): Based on percentages. If `num_bins` is 5 then quintiles so bins are created at the 20%, 40%, 60%, 80% and 100% points.\n",
    "* `EQUAL`: Evenly spaced bins where each bin is set with the formula `min - max / num_bins`\n",
    "* `PROVIDED`: The user provides the edge points for the bins.\n",
    "\n",
    "If `PROVIDED` is supplied, then a List of float values must be provided for the `edges` parameter that matches the number of bins.\n",
    "\n",
    "The following examples are used to show how each of the binning modes effects the bins."
   ]
  },
  {
   "cell_type": "code",
   "execution_count": 44,
   "metadata": {},
   "outputs": [
    {
     "name": "stdout",
     "output_type": "stream",
     "text": [
      "baseline mean = 494775.58346875\n",
      "window mean = 521217.603609375\n",
      "baseline median = 441374.921875\n",
      "window median = 448627.8125\n",
      "bin_mode = Quantile\n",
      "aggregation = Density\n",
      "metric = PSI\n",
      "weighted = False\n",
      "score = 0.023881030710736943\n",
      "scores = [0.0, 0.0013341057430248191, 0.0033382848156130714, 0.006132977527188355, 0.006127961394955222, 0.006947701229955476, 0.0]\n",
      "index = None\n"
     ]
    },
    {
     "data": {
      "image/png": "[encoded data removed]",
      "text/plain": [
       "<Figure size 432x288 with 1 Axes>"
      ]
     },
     "metadata": {
      "needs_background": "light"
     },
     "output_type": "display_data"
    }
   ],
   "source": [
    "# Build the assay, based on the start and end of our baseline time, \n",
    "# and tracking the output variable index 0\n",
    "assay_builder_from_dates = wl.build_assay(assay_name=\"assays from date baseline\", \n",
    "                                          pipeline=mainpipeline, \n",
    "                                          iopath=\"output variable 0\",\n",
    "                                          baseline_start=assay_baseline_start, \n",
    "                                          baseline_end=assay_baseline_end)\n",
    "\n",
    "# update binning mode here\n",
    "assay_builder_from_dates.summarizer_builder.add_bin_mode(wallaroo.assay_config.BinMode.QUANTILE)\n",
    "\n",
    "# set the width, interval, and time period \n",
    "assay_builder_from_dates.add_run_until(datetime.datetime.now())\n",
    "assay_builder_from_dates.window_builder().add_width(minutes=1).add_interval(minutes=1).add_start(assay_window_start)\n",
    "assay_config_from_dates = assay_builder_from_dates.build()\n",
    "assay_results_from_dates = assay_config_from_dates.interactive_run()\n",
    "\n",
    "assay_results_from_dates[0].chart()"
   ]
  },
  {
   "cell_type": "code",
   "execution_count": 45,
   "metadata": {},
   "outputs": [
    {
     "name": "stdout",
     "output_type": "stream",
     "text": [
      "baseline mean = 494775.58346875\n",
      "window mean = 521217.603609375\n",
      "baseline median = 441374.921875\n",
      "window median = 448627.8125\n",
      "bin_mode = Equal\n",
      "aggregation = Density\n",
      "metric = PSI\n",
      "weighted = False\n",
      "score = 0.02784908264813885\n",
      "scores = [0.0, 0.0101036560709684, 0.008341981211920044, 0.008418464004441326, 0.0008796208451512524, 0.0001053605156578265, 0.0]\n",
      "index = None\n"
     ]
    },
    {
     "data": {
      "image/png": "[encoded data removed]",
      "text/plain": [
       "<Figure size 432x288 with 1 Axes>"
      ]
     },
     "metadata": {
      "needs_background": "light"
     },
     "output_type": "display_data"
    }
   ],
   "source": [
    "# Build the assay, based on the start and end of our baseline time, \n",
    "# and tracking the output variable index 0\n",
    "assay_builder_from_dates = wl.build_assay(assay_name=\"assays from date baseline\", \n",
    "                                          pipeline=mainpipeline, \n",
    "                                          iopath=\"output variable 0\",\n",
    "                                          baseline_start=assay_baseline_start, \n",
    "                                          baseline_end=assay_baseline_end)\n",
    "\n",
    "# update binning mode here\n",
    "assay_builder_from_dates.summarizer_builder.add_bin_mode(wallaroo.assay_config.BinMode.EQUAL)\n",
    "\n",
    "# set the width, interval, and time period \n",
    "assay_builder_from_dates.add_run_until(datetime.datetime.now())\n",
    "assay_builder_from_dates.window_builder().add_width(minutes=1).add_interval(minutes=1).add_start(assay_window_start)\n",
    "assay_config_from_dates = assay_builder_from_dates.build()\n",
    "assay_results_from_dates = assay_config_from_dates.interactive_run()\n",
    "\n",
    "assay_results_from_dates[0].chart()"
   ]
  },
  {
   "cell_type": "markdown",
   "metadata": {},
   "source": [
    "The following example manually sets the bin values.\n",
    "\n",
    "The values in this dataset run from 200000 to 1500000. We can specify the bins with the `BinMode.PROVIDED` and specifying a list of floats with the right hand / upper edge of each bin and optionally the lower edge of the smallest bin. If the lowest edge is not specified the threshold for left outliers is taken from the smallest value in the baseline dataset."
   ]
  },
  {
   "cell_type": "code",
   "execution_count": 46,
   "metadata": {},
   "outputs": [
    {
     "name": "stdout",
     "output_type": "stream",
     "text": [
      "baseline mean = 494775.58346875\n",
      "window mean = 521217.603609375\n",
      "baseline median = 441374.921875\n",
      "window median = 448627.8125\n",
      "bin_mode = Provided\n",
      "aggregation = Density\n",
      "metric = PSI\n",
      "weighted = False\n",
      "score = 0.011437921156931406\n",
      "scores = [0.0, 0.005060554684673304, 1.0025083647088396e-05, 0.0037467798315476194, 0.0026205615570633924, 0.0, 0.0]\n",
      "index = None\n"
     ]
    },
    {
     "data": {
      "image/png": "[encoded data removed]",
      "text/plain": [
       "<Figure size 432x288 with 1 Axes>"
      ]
     },
     "metadata": {
      "needs_background": "light"
     },
     "output_type": "display_data"
    }
   ],
   "source": [
    "# Build the assay, based on the start and end of our baseline time, \n",
    "# and tracking the output variable index 0\n",
    "assay_builder_from_dates = wl.build_assay(assay_name=\"assays from date baseline\", \n",
    "                                          pipeline=mainpipeline, \n",
    "                                          iopath=\"output variable 0\",\n",
    "                                          baseline_start=assay_baseline_start, \n",
    "                                          baseline_end=assay_baseline_end)\n",
    "\n",
    "edges = [200000.0, 400000.0, 600000.0, 800000.0, 1500000.0, 2000000.0]\n",
    "\n",
    "# update binning mode here\n",
    "assay_builder_from_dates.summarizer_builder.add_bin_mode(wallaroo.assay_config.BinMode.PROVIDED, edges)\n",
    "\n",
    "# set the width, interval, and time period \n",
    "assay_builder_from_dates.add_run_until(datetime.datetime.now())\n",
    "assay_builder_from_dates.window_builder().add_width(minutes=1).add_interval(minutes=1).add_start(assay_window_start)\n",
    "assay_config_from_dates = assay_builder_from_dates.build()\n",
    "assay_results_from_dates = assay_config_from_dates.interactive_run()\n",
    "\n",
    "assay_results_from_dates[0].chart()"
   ]
  },
  {
   "cell_type": "markdown",
   "metadata": {},
   "source": [
    "##### Aggregation Options\n",
    "\n",
    "Assay aggregation options are modified with the [`wallaroo.assay_config.AssayBuilder.add_aggregation(aggregation: wallaroo.assay_config.Aggregation)`](https://docs.wallaroo.ai/wallaroo-developer-guides/wallaroo-sdk-guides/wallaroo-sdk-reference-guide/assay_config/#UnivariateContinousSummarizerBuilder.add_aggregation) method.  The following options are provided:\n",
    "\n",
    "* `Aggregation.DENSITY` (*Default*): Count the number/percentage of values that fall in each bin. \n",
    "* `Aggregation.CUMULATIVE`: Empirical Cumulative Density Function style, which keeps a cumulative count of the values/percentages that fall in each bin.\n",
    "\n",
    "The following example demonstrate the different results between the two."
   ]
  },
  {
   "cell_type": "code",
   "execution_count": 47,
   "metadata": {},
   "outputs": [
    {
     "name": "stdout",
     "output_type": "stream",
     "text": [
      "baseline mean = 494775.58346875\n",
      "window mean = 521217.603609375\n",
      "baseline median = 441374.921875\n",
      "window median = 448627.8125\n",
      "bin_mode = Quantile\n",
      "aggregation = Density\n",
      "metric = PSI\n",
      "weighted = False\n",
      "score = 0.023881030710736943\n",
      "scores = [0.0, 0.0013341057430248191, 0.0033382848156130714, 0.006132977527188355, 0.006127961394955222, 0.006947701229955476, 0.0]\n",
      "index = None\n"
     ]
    },
    {
     "data": {
      "image/png": "[encoded data removed]",
      "text/plain": [
       "<Figure size 432x288 with 1 Axes>"
      ]
     },
     "metadata": {
      "needs_background": "light"
     },
     "output_type": "display_data"
    }
   ],
   "source": [
    "#Aggregation.DENSITY - the default\n",
    "\n",
    "# Build the assay, based on the start and end of our baseline time, \n",
    "# and tracking the output variable index 0\n",
    "assay_builder_from_dates = wl.build_assay(assay_name=\"assays from date baseline\", \n",
    "                                          pipeline=mainpipeline, \n",
    "                                          iopath=\"output variable 0\",\n",
    "                                          baseline_start=assay_baseline_start, \n",
    "                                          baseline_end=assay_baseline_end)\n",
    "\n",
    "assay_builder_from_dates.summarizer_builder.add_aggregation(wallaroo.assay_config.Aggregation.DENSITY)\n",
    "\n",
    "# set the width, interval, and time period \n",
    "assay_builder_from_dates.add_run_until(datetime.datetime.now())\n",
    "assay_builder_from_dates.window_builder().add_width(minutes=1).add_interval(minutes=1).add_start(assay_window_start)\n",
    "assay_config_from_dates = assay_builder_from_dates.build()\n",
    "assay_results_from_dates = assay_config_from_dates.interactive_run()\n",
    "\n",
    "assay_results_from_dates[0].chart()"
   ]
  },
  {
   "cell_type": "code",
   "execution_count": 48,
   "metadata": {},
   "outputs": [
    {
     "name": "stdout",
     "output_type": "stream",
     "text": [
      "baseline mean = 494775.58346875\n",
      "window mean = 521217.603609375\n",
      "baseline median = 441374.921875\n",
      "window median = 448627.8125\n",
      "bin_mode = Quantile\n",
      "aggregation = Cumulative\n",
      "metric = PSI\n",
      "weighted = False\n",
      "score = 0.17100000000000004\n",
      "scores = [0.0, 0.016000000000000014, 0.04100000000000003, 0.07499999999999996, 0.039000000000000035, 0.0, 0.0]\n",
      "index = None\n"
     ]
    },
    {
     "data": {
      "image/png": "[encoded data removed]",
      "text/plain": [
       "<Figure size 432x288 with 1 Axes>"
      ]
     },
     "metadata": {
      "needs_background": "light"
     },
     "output_type": "display_data"
    }
   ],
   "source": [
    "#Aggregation.CUMULATIVE\n",
    "\n",
    "# Build the assay, based on the start and end of our baseline time, \n",
    "# and tracking the output variable index 0\n",
    "assay_builder_from_dates = wl.build_assay(assay_name=\"assays from date baseline\", \n",
    "                                          pipeline=mainpipeline, \n",
    "                                          iopath=\"output variable 0\",\n",
    "                                          baseline_start=assay_baseline_start, \n",
    "                                          baseline_end=assay_baseline_end)\n",
    "\n",
    "assay_builder_from_dates.summarizer_builder.add_aggregation(wallaroo.assay_config.Aggregation.CUMULATIVE)\n",
    "\n",
    "# set the width, interval, and time period \n",
    "assay_builder_from_dates.add_run_until(datetime.datetime.now())\n",
    "assay_builder_from_dates.window_builder().add_width(minutes=1).add_interval(minutes=1).add_start(assay_window_start)\n",
    "assay_config_from_dates = assay_builder_from_dates.build()\n",
    "assay_results_from_dates = assay_config_from_dates.interactive_run()\n",
    "\n",
    "assay_results_from_dates[0].chart()"
   ]
  },
  {
   "cell_type": "markdown",
   "metadata": {},
   "source": [
    "##### Inference Interval and Inference Width\n",
    "\n",
    "The inference interval aka window interval sets how often to run the assay analysis.  This is set from the [`wallaroo.assay_config.AssayBuilder.window_builder.add_interval`](https://docs.wallaroo.ai/wallaroo-developer-guides/wallaroo-sdk-guides/wallaroo-sdk-reference-guide/assay_config/#WindowBuilder.add_interval) method to collect data expressed in time units:  \"hours=24\", \"minutes=1\", etc.\n",
    "\n",
    "For example, with an interval of 1 minute, the assay collects data every minute.  Within an hour, 60 intervals of data is collected.\n",
    "\n",
    "We can adjust the interval and see how the assays change based on how **frequently** they are run.\n",
    "\n",
    "The width sets the time period from the [`wallaroo.assay_config.AssayBuilder.window_builder.add_width`](/wallaroo-developer-guides/wallaroo-sdk-guides/wallaroo-sdk-reference-guide/assay_config/#WindowBuilder.add_width) method to collect data expressed in time units:  \"hours=24\", \"minutes=1\", etc.\n",
    "\n",
    "For example, an interval of 1 minute and a width of 1 minute collects 1 minutes worth of data every minute.  An interval of 1 minute with a width of 5 minutes collects 5 minute of inference data every minute.\n",
    "\n",
    "By default, the interval and width is **24 hours**.\n",
    "\n",
    "For this example, we'll adjust the width and interval from 1 minute to 5 minutes and see how the number of analyses and their score changes."
   ]
  },
  {
   "cell_type": "code",
   "execution_count": 49,
   "metadata": {},
   "outputs": [
    {
     "data": {
      "image/png": "[encoded data removed]",
      "text/plain": [
       "<Figure size 432x288 with 1 Axes>"
      ]
     },
     "metadata": {
      "needs_background": "light"
     },
     "output_type": "display_data"
    }
   ],
   "source": [
    "# Build the assay, based on the start and end of our baseline time, \n",
    "# and tracking the output variable index 0\n",
    "assay_builder_from_dates = wl.build_assay(assay_name=\"assays from date baseline\", \n",
    "                                          pipeline=mainpipeline, \n",
    "                                          iopath=\"output variable 0\",\n",
    "                                          baseline_start=assay_baseline_start, \n",
    "                                          baseline_end=assay_baseline_end)\n",
    "\n",
    "# set the width, interval, and time period \n",
    "assay_builder_from_dates.add_run_until(datetime.datetime.now())\n",
    "assay_builder_from_dates.window_builder().add_width(minutes=1).add_interval(minutes=1).add_start(assay_window_start)\n",
    "assay_config_from_dates = assay_builder_from_dates.build()\n",
    "assay_results_from_dates = assay_config_from_dates.interactive_run()\n",
    "\n",
    "assay_results_from_dates.chart_scores()"
   ]
  },
  {
   "cell_type": "code",
   "execution_count": 50,
   "metadata": {},
   "outputs": [
    {
     "data": {
      "image/png": "[encoded data removed]",
      "text/plain": [
       "<Figure size 432x288 with 1 Axes>"
      ]
     },
     "metadata": {
      "needs_background": "light"
     },
     "output_type": "display_data"
    }
   ],
   "source": [
    "# Build the assay, based on the start and end of our baseline time, \n",
    "# and tracking the output variable index 0\n",
    "assay_builder_from_dates = wl.build_assay(assay_name=\"assays from date baseline\", \n",
    "                                          pipeline=mainpipeline, \n",
    "                                          iopath=\"output variable 0\",\n",
    "                                          baseline_start=assay_baseline_start, \n",
    "                                          baseline_end=assay_baseline_end)\n",
    "\n",
    "# set the width, interval, and time period \n",
    "assay_builder_from_dates.add_run_until(datetime.datetime.now())\n",
    "assay_builder_from_dates.window_builder().add_width(minutes=5).add_interval(minutes=5).add_start(assay_window_start)\n",
    "assay_config_from_dates = assay_builder_from_dates.build()\n",
    "assay_results_from_dates = assay_config_from_dates.interactive_run()\n",
    "\n",
    "assay_results_from_dates.chart_scores()"
   ]
  },
  {
   "cell_type": "markdown",
   "metadata": {},
   "source": [
    "##### Add Run Until and Add Inference Start\n",
    "\n",
    "For previewing assays, setting [`wallaroo.assay_config.AssayBuilder.add_run_until`](https://docs.wallaroo.ai/wallaroo-developer-guides/wallaroo-sdk-guides/wallaroo-sdk-reference-guide/assay_config/#AssayBuilder.add_run_until) sets the **end date and time** for collecting inference data.  When an assay is uploaded, this setting is no longer valid - assays run at the [Inference Interval](#inference-interval-and-inference-width) until the [assay is paused](#pause-and-resume-assay).\n",
    "\n",
    "Setting the [`wallaroo.assay_config.WindowBuilder.add_start`](https://docs.wallaroo.ai/wallaroo-developer-guides/wallaroo-sdk-guides/wallaroo-sdk-reference-guide/assay_config/#WindowBuilder.add_start) sets the **start date and time** to collect inference data.   When an assay is uploaded, this setting **is included**, and assay results will be displayed starting from that start date at the [Inference Interval](#inference-interval-and-inference-width) until the [assay is paused](#pause-and-resume-assay).  By default, `add_start` begins 24 hours after the assay is uploaded unless set in the assay configuration manually.\n",
    "\n",
    "For the following example, the `add_run_until` setting is set to `datetime.datetime.now()` to collect all inference data from `assay_window_start` up until now, and the second example limits that example to only two minutes of data."
   ]
  },
  {
   "cell_type": "code",
   "execution_count": 51,
   "metadata": {},
   "outputs": [
    {
     "data": {
      "image/png": "[encoded data removed]",
      "text/plain": [
       "<Figure size 432x288 with 1 Axes>"
      ]
     },
     "metadata": {
      "needs_background": "light"
     },
     "output_type": "display_data"
    }
   ],
   "source": [
    "# inference data that includes all of the data until now \n",
    "\n",
    "assay_builder_from_dates = wl.build_assay(assay_name=\"assays from date baseline\", \n",
    "                                          pipeline=mainpipeline, \n",
    "                                          iopath=\"output variable 0\",\n",
    "                                          baseline_start=assay_baseline_start, \n",
    "                                          baseline_end=assay_baseline_end)\n",
    "\n",
    "# set the width, interval, and time period \n",
    "assay_builder_from_dates.add_run_until(datetime.datetime.now())\n",
    "assay_builder_from_dates.window_builder().add_width(minutes=1).add_interval(minutes=1).add_start(assay_window_start)\n",
    "assay_config_from_dates = assay_builder_from_dates.build()\n",
    "assay_results_from_dates = assay_config_from_dates.interactive_run()\n",
    "assay_results_from_dates.chart_scores()"
   ]
  },
  {
   "cell_type": "code",
   "execution_count": 52,
   "metadata": {},
   "outputs": [
    {
     "data": {
      "image/png": "[encoded data removed]",
      "text/plain": [
       "<Figure size 432x288 with 1 Axes>"
      ]
     },
     "metadata": {
      "needs_background": "light"
     },
     "output_type": "display_data"
    }
   ],
   "source": [
    "# inference data that includes all of the data until now \n",
    "\n",
    "assay_builder_from_dates = wl.build_assay(assay_name=\"assays from date baseline\", \n",
    "                                          pipeline=mainpipeline, \n",
    "                                          iopath=\"output variable 0\",\n",
    "                                          baseline_start=assay_baseline_start, \n",
    "                                          baseline_end=assay_baseline_end)\n",
    "\n",
    "# set the width, interval, and time period \n",
    "assay_builder_from_dates.add_run_until(assay_window_start+datetime.timedelta(seconds=120))\n",
    "assay_builder_from_dates.window_builder().add_width(minutes=1).add_interval(minutes=1).add_start(assay_window_start)\n",
    "assay_config_from_dates = assay_builder_from_dates.build()\n",
    "assay_results_from_dates = assay_config_from_dates.interactive_run()\n",
    "\n",
    "assay_results_from_dates.chart_scores()"
   ]
  },
  {
   "cell_type": "markdown",
   "metadata": {},
   "source": [
    "### Create Assay\n",
    "\n",
    "With the assay previewed and configuration options determined, we officially create it by uploading it to the Wallaroo instance.\n",
    "\n",
    "Once it is uploaded, the assay runs an analysis based on the window width, interval, and the other settings configured.\n",
    "\n",
    "Assays are uploaded with the `wallaroo.assay_config.upload()` method. This uploads the assay into the Wallaroo database with the configurations applied and returns the assay id. Note that assay names **must be unique across the Wallaroo instance**; attempting to upload an assay with the same name as an existing one will return an error.\n",
    "\n",
    "`wallaroo.assay_config.upload()` returns the assay id for the assay.\n",
    "\n",
    "Typically we would just call `wallaroo.assay_config.upload()` after configuring the assay.  For the example below, we will perform the complete configuration in one window to show all of the configuration steps at once before creating the assay."
   ]
  },
  {
   "cell_type": "code",
   "execution_count": 53,
   "metadata": {},
   "outputs": [],
   "source": [
    "# Build the assay, based on the start and end of our baseline time, \n",
    "# and tracking the output variable index 0\n",
    "assay_builder_from_dates = wl.build_assay(assay_name=\"assays from date baseline tutorial\", \n",
    "                                          pipeline=mainpipeline, \n",
    "                                          iopath=\"output variable 0\",\n",
    "                                          baseline_start=assay_baseline_start, \n",
    "                                          baseline_end=assay_baseline_end)\n",
    "\n",
    "# set the width, interval, and assay start date and time\n",
    "assay_builder_from_dates.window_builder().add_width(minutes=1).add_interval(minutes=1).add_start(assay_window_start)\n",
    "\n",
    "# add other options\n",
    "assay_builder_from_dates.summarizer_builder.add_aggregation(wallaroo.assay_config.Aggregation.CUMULATIVE)\n",
    "assay_builder_from_dates.summarizer_builder.add_metric(wallaroo.assay_config.Metric.MAXDIFF)\n",
    "assay_builder_from_dates.add_alert_threshold(0.5)\n",
    "\n",
    "\n",
    "assay_id = assay_builder_from_dates.upload()\n",
    "\n",
    "# wait 65 seconds for the first analysis run performed\n",
    "time.sleep(65)\n"
   ]
  },
  {
   "cell_type": "markdown",
   "metadata": {},
   "source": [
    "The assay is now visible through the Wallaroo UI by selecting the workspace, then the pipeline, then **Insights**.\n",
    "\n",
    "![Sample assay in the UI](images/housepricesaga-sample-assay.png)"
   ]
  },
  {
   "cell_type": "markdown",
   "metadata": {},
   "source": [
    "### Get Assay Info\n",
    "\n",
    "Assay information is retrieved with the `wallaroo.client.get_assay_info()` which takes the following parameters.\n",
    "\n",
    "| Parameter | Type | Description |\n",
    "|---|---|---|\n",
    "| **assay_id** | *Integer* (*Required*) | The numerical id of the assay. |\n",
    "\n",
    "This returns the following:\n",
    "\n",
    "| Parameter | Type | Description |\n",
    "|---|---|---|\n",
    "| *id* | *Integer* | The numerical id of the assay. |\n",
    "| *name* | *String* | The name of the assay. |\n",
    "| *active* | *Boolean* | `True`: The assay is active and generates analyses based on its configuration. `False`: The assay is disabled and will not generate new analyses. |\n",
    "| *pipeline_name* | *String* | The name of the pipeline the assay references. |\n",
    "| *last_run* | *DateTime* | The date and time the assay last ran. |\n",
    "| *next_run* | *DateTime* | THe date and time the assay analysis will next run. |\n",
    "| *alert_threshold* | *Float* | The alert threshold setting for the assay. |\n",
    "| *baseline* | *Dict* | The baseline and settings as set from the assay configuration. |\n",
    "| *iopath* | *String* | The `iopath` setting for the assay. |\n",
    "| *metric* | *String* | The `metric` setting for the assay. |\n",
    "| *num_bins* | *Integer* | The number of bins for the assay. |\n",
    "| *bin_weights* | *List*/None | The bin weights used if any. |\n",
    "| *bin_mode* | *String* | The binning mode used. |\n"
   ]
  },
  {
   "cell_type": "code",
   "execution_count": 54,
   "metadata": {},
   "outputs": [
    {
     "data": {
      "text/html": [
       "<div>\n",
       "<style scoped>\n",
       "    .dataframe tbody tr th:only-of-type {\n",
       "        vertical-align: middle;\n",
       "    }\n",
       "\n",
       "    .dataframe tbody tr th {\n",
       "        vertical-align: top;\n",
       "    }\n",
       "\n",
       "    .dataframe thead th {\n",
       "        text-align: right;\n",
       "    }\n",
       "</style>\n",
       "<table border=\"1\" class=\"dataframe\">\n",
       "  <thead>\n",
       "    <tr style=\"text-align: right;\">\n",
       "      <th></th>\n",
       "      <th>id</th>\n",
       "      <th>name</th>\n",
       "      <th>active</th>\n",
       "      <th>status</th>\n",
       "      <th>pipeline_name</th>\n",
       "      <th>last_run</th>\n",
       "      <th>next_run</th>\n",
       "      <th>alert_threshold</th>\n",
       "      <th>baseline</th>\n",
       "      <th>iopath</th>\n",
       "      <th>metric</th>\n",
       "      <th>num_bins</th>\n",
       "      <th>bin_weights</th>\n",
       "      <th>bin_mode</th>\n",
       "    </tr>\n",
       "  </thead>\n",
       "  <tbody>\n",
       "    <tr>\n",
       "      <th>0</th>\n",
       "      <td>2</td>\n",
       "      <td>assays from date baseline tutorial</td>\n",
       "      <td>True</td>\n",
       "      <td>{\"run_at\": \"2024-04-05T14:34:27.189783139+00:00\",  \"num_ok\": 0, \"num_warnings\": 0, \"num_alerts\": 0}</td>\n",
       "      <td>assay-demonstration-tutorial</td>\n",
       "      <td>2024-04-05T14:34:27.189783+00:00</td>\n",
       "      <td>2024-04-05T14:34:11.425652+00:00</td>\n",
       "      <td>0.5</td>\n",
       "      <td>{'static': {'count': 500, 'min': 236238.671875, 'max': 1489624.25, 'mean': 494775.58346875, 'median': 441374.921875, 'std': 229911.62714226343, 'edges': [236238.671875, 306159.375, 413013.375, 450867.6875, 675545.4375, 1489624.25, None], 'edge_names': ['left_outlier', 'q_20', 'q_40', 'q_60', 'q_80', 'q_100', 'right_outlier'], 'aggregated_values': [0.0, 0.2, 0.4, 0.606, 0.8, 1.0, 1.0], 'aggregation': 'Cumulative', 'start': None, 'end': None}}</td>\n",
       "      <td>output variable 0</td>\n",
       "      <td>MaxDiff</td>\n",
       "      <td>5</td>\n",
       "      <td>None</td>\n",
       "      <td>Quantile</td>\n",
       "    </tr>\n",
       "  </tbody>\n",
       "</table>\n",
       "</div>"
      ],
      "text/plain": [
       "   id                                name  active  \\\n",
       "0   2  assays from date baseline tutorial    True   \n",
       "\n",
       "                                                                                                status  \\\n",
       "0  {\"run_at\": \"2024-04-05T14:34:27.189783139+00:00\",  \"num_ok\": 0, \"num_warnings\": 0, \"num_alerts\": 0}   \n",
       "\n",
       "                  pipeline_name                          last_run  \\\n",
       "0  assay-demonstration-tutorial  2024-04-05T14:34:27.189783+00:00   \n",
       "\n",
       "                           next_run  alert_threshold  \\\n",
       "0  2024-04-05T14:34:11.425652+00:00              0.5   \n",
       "\n",
       "                                                                                                                                                                                                                                                                                                                                                                                                                                                        baseline  \\\n",
       "0  {'static': {'count': 500, 'min': 236238.671875, 'max': 1489624.25, 'mean': 494775.58346875, 'median': 441374.921875, 'std': 229911.62714226343, 'edges': [236238.671875, 306159.375, 413013.375, 450867.6875, 675545.4375, 1489624.25, None], 'edge_names': ['left_outlier', 'q_20', 'q_40', 'q_60', 'q_80', 'q_100', 'right_outlier'], 'aggregated_values': [0.0, 0.2, 0.4, 0.606, 0.8, 1.0, 1.0], 'aggregation': 'Cumulative', 'start': None, 'end': None}}   \n",
       "\n",
       "              iopath   metric  num_bins bin_weights  bin_mode  \n",
       "0  output variable 0  MaxDiff         5        None  Quantile  "
      ]
     },
     "metadata": {},
     "output_type": "display_data"
    }
   ],
   "source": [
    "display(wl.get_assay_info(assay_id))"
   ]
  },
  {
   "cell_type": "markdown",
   "metadata": {},
   "source": [
    "### Get Assay Results\n",
    "\n",
    "Once an assay is created the assay runs an analysis based on the window width, interval, and the other settings configured.\n",
    "\n",
    "Assay results are retrieved with the `wallaroo.client.get_assay_results` method which takes the following parameters:\n",
    "\n",
    "| Parameter | Type | Description |\n",
    "|---|---|---|\n",
    "| **assay_id** | *Integer* (*Required*) | The numerical id of the assay. |\n",
    "| **start** | *Datetime.Datetime* (*Required*) | The start date and time of historical data from the pipeline to start analyses from. |\n",
    "| **end** | *Datetime.Datetime* (*Required*) | The end date and time of historical data from the pipeline to limit analyses to. |\n",
    "\n",
    "* **IMPORTANT NOTE**:  This process requires that additional historical data is generated from the time the assay is created to when the results are available. To add additional inference data, use the [Assay Test Data](#assay-test-data) section above."
   ]
  },
  {
   "cell_type": "code",
   "execution_count": 55,
   "metadata": {},
   "outputs": [
    {
     "data": {
      "image/png": "[encoded data removed]",
      "text/plain": [
       "<Figure size 432x288 with 1 Axes>"
      ]
     },
     "metadata": {
      "needs_background": "light"
     },
     "output_type": "display_data"
    }
   ],
   "source": [
    "assay_results = wl.get_assay_results(assay_id=assay_id,\n",
    "                     start=assay_window_start,\n",
    "                     end=datetime.datetime.now())\n",
    "\n",
    "assay_results.chart_scores()"
   ]
  },
  {
   "cell_type": "code",
   "execution_count": 56,
   "metadata": {},
   "outputs": [
    {
     "name": "stdout",
     "output_type": "stream",
     "text": [
      "baseline mean = 494775.58346875\n",
      "window mean = 521217.603609375\n",
      "baseline median = 441374.921875\n",
      "window median = 448627.8125\n",
      "bin_mode = Quantile\n",
      "aggregation = Cumulative\n",
      "metric = MaxDiff\n",
      "weighted = False\n",
      "score = 0.075\n",
      "scores = [0.0, 0.016000000000000014, 0.04100000000000003, 0.07499999999999996, 0.039000000000000035, 0.0, 0.0]\n",
      "index = 3\n"
     ]
    },
    {
     "data": {
      "image/png": "[encoded data removed]",
      "text/plain": [
       "<Figure size 432x288 with 1 Axes>"
      ]
     },
     "metadata": {
      "needs_background": "light"
     },
     "output_type": "display_data"
    }
   ],
   "source": [
    "assay_results[0].chart()"
   ]
  },
  {
   "cell_type": "markdown",
   "metadata": {},
   "source": [
    "#### List Assays\n",
    "\n",
    "A list of assays is retrieved with the `wallaroo.client.list_assays()` method.\n",
    "\n",
    "This returns a Object as a List with the following fields.\n",
    "\n",
    "| Parameter | Type | Description |\n",
    "|---|---|---|\n",
    "| *Assay Id* | *Integer* | The numerical id of the assay. |\n",
    "| *Assay Name* | *String* | The name of the assay. |\n",
    "| *Active* | *Boolean* | `True`: The assay is active and generates analyses based on its configuration. `False`: The assay is disabled and will not generate new analyses. |\n",
    "| *Status* | *Dict* | The status of the assay including the \n",
    "| *Warning Threshold* | *Float*/*None* | The warning threshold if set. |\n",
    "| *Alert Threshold* | *Float* | The alert threshold for the assay. |\n",
    "| *Pipeline Id* | *Integer* | The numerical id of the pipeline the assay references. |\n",
    "| *Pipeline Name* | *String* | The name of the pipeline the assay references. |\n"
   ]
  },
  {
   "cell_type": "code",
   "execution_count": 57,
   "metadata": {},
   "outputs": [
    {
     "data": {
      "text/html": [
       "<table><tr><th>Assay ID</th><th>Assay Name</th><th>Active</th><th>Status</th><th>Warning Threshold</th><th>Alert Threshold</th><th>Pipeline ID</th><th>Pipeline Name</th></tr><tr><td>2</td><td>assays from date baseline tutorial</td><td>True</td><td>{\"run_at\": \"2024-04-05T14:34:27.189783139+00:00\",  \"num_ok\": 0, \"num_warnings\": 0, \"num_alerts\": 0}</td><td>None</td><td>0.5</td><td>1</td><td>assay-demonstration-tutorial</td></tr><tr><td>1</td><td>assays from date baseline</td><td>True</td><td>{\"run_at\": \"2024-04-05T14:34:02.561889525+00:00\",  \"num_ok\": 0, \"num_warnings\": 0, \"num_alerts\": 0}</td><td>None</td><td>0.5</td><td>1</td><td>assay-demonstration-tutorial</td></tr></table>"
      ],
      "text/plain": [
       "[<wallaroo.assay.Assay at 0x7953a7406e50>,\n",
       " <wallaroo.assay.Assay at 0x7953a7406e20>]"
      ]
     },
     "execution_count": 57,
     "metadata": {},
     "output_type": "execute_result"
    }
   ],
   "source": [
    "wl.list_assays()"
   ]
  },
  {
   "cell_type": "markdown",
   "metadata": {},
   "source": [
    "### Set Assay Active Status\n",
    "\n",
    "Assays active status is either:\n",
    "\n",
    "* **True**:  The assay generates analyses based on the assay configuration.\n",
    "* **False**:  The assay will not generate new analyses.\n",
    "\n",
    "Assays are set to active or not active with the `wallaroo.client.set_assay_active` which takes the following parameters.\n",
    "\n",
    "| Parameter | Type | Description |\n",
    "|---|---|---|\n",
    "| *assay_id* | *Integer* | The numerical id of the assay. |\n",
    "| *active* | *Boolean* | `True`: The assay status is set to `Active`.  `False`: The assay status is `Not Active`. |\n",
    "\n",
    "First we will show the current active status.\n",
    "\n",
    "In the following, set the assay status to `False`, then set the assay active status back to `True`."
   ]
  },
  {
   "cell_type": "code",
   "execution_count": 58,
   "metadata": {},
   "outputs": [
    {
     "data": {
      "text/html": [
       "<div>\n",
       "<style scoped>\n",
       "    .dataframe tbody tr th:only-of-type {\n",
       "        vertical-align: middle;\n",
       "    }\n",
       "\n",
       "    .dataframe tbody tr th {\n",
       "        vertical-align: top;\n",
       "    }\n",
       "\n",
       "    .dataframe thead th {\n",
       "        text-align: right;\n",
       "    }\n",
       "</style>\n",
       "<table border=\"1\" class=\"dataframe\">\n",
       "  <thead>\n",
       "    <tr style=\"text-align: right;\">\n",
       "      <th></th>\n",
       "      <th>id</th>\n",
       "      <th>name</th>\n",
       "      <th>active</th>\n",
       "      <th>status</th>\n",
       "      <th>pipeline_name</th>\n",
       "      <th>last_run</th>\n",
       "      <th>next_run</th>\n",
       "      <th>alert_threshold</th>\n",
       "      <th>baseline</th>\n",
       "      <th>iopath</th>\n",
       "      <th>metric</th>\n",
       "      <th>num_bins</th>\n",
       "      <th>bin_weights</th>\n",
       "      <th>bin_mode</th>\n",
       "    </tr>\n",
       "  </thead>\n",
       "  <tbody>\n",
       "    <tr>\n",
       "      <th>0</th>\n",
       "      <td>2</td>\n",
       "      <td>assays from date baseline tutorial</td>\n",
       "      <td>True</td>\n",
       "      <td>{\"run_at\": \"2024-04-05T14:34:27.189783139+00:00\",  \"num_ok\": 0, \"num_warnings\": 0, \"num_alerts\": 0}</td>\n",
       "      <td>assay-demonstration-tutorial</td>\n",
       "      <td>2024-04-05T14:34:27.189783+00:00</td>\n",
       "      <td>2024-04-05T14:34:11.425652+00:00</td>\n",
       "      <td>0.5</td>\n",
       "      <td>{'static': {'count': 500, 'min': 236238.671875, 'max': 1489624.25, 'mean': 494775.58346875, 'median': 441374.921875, 'std': 229911.62714226343, 'edges': [236238.671875, 306159.375, 413013.375, 450867.6875, 675545.4375, 1489624.25, None], 'edge_names': ['left_outlier', 'q_20', 'q_40', 'q_60', 'q_80', 'q_100', 'right_outlier'], 'aggregated_values': [0.0, 0.2, 0.4, 0.606, 0.8, 1.0, 1.0], 'aggregation': 'Cumulative', 'start': None, 'end': None}}</td>\n",
       "      <td>output variable 0</td>\n",
       "      <td>MaxDiff</td>\n",
       "      <td>5</td>\n",
       "      <td>None</td>\n",
       "      <td>Quantile</td>\n",
       "    </tr>\n",
       "  </tbody>\n",
       "</table>\n",
       "</div>"
      ],
      "text/plain": [
       "   id                                name  active  \\\n",
       "0   2  assays from date baseline tutorial    True   \n",
       "\n",
       "                                                                                                status  \\\n",
       "0  {\"run_at\": \"2024-04-05T14:34:27.189783139+00:00\",  \"num_ok\": 0, \"num_warnings\": 0, \"num_alerts\": 0}   \n",
       "\n",
       "                  pipeline_name                          last_run  \\\n",
       "0  assay-demonstration-tutorial  2024-04-05T14:34:27.189783+00:00   \n",
       "\n",
       "                           next_run  alert_threshold  \\\n",
       "0  2024-04-05T14:34:11.425652+00:00              0.5   \n",
       "\n",
       "                                                                                                                                                                                                                                                                                                                                                                                                                                                        baseline  \\\n",
       "0  {'static': {'count': 500, 'min': 236238.671875, 'max': 1489624.25, 'mean': 494775.58346875, 'median': 441374.921875, 'std': 229911.62714226343, 'edges': [236238.671875, 306159.375, 413013.375, 450867.6875, 675545.4375, 1489624.25, None], 'edge_names': ['left_outlier', 'q_20', 'q_40', 'q_60', 'q_80', 'q_100', 'right_outlier'], 'aggregated_values': [0.0, 0.2, 0.4, 0.606, 0.8, 1.0, 1.0], 'aggregation': 'Cumulative', 'start': None, 'end': None}}   \n",
       "\n",
       "              iopath   metric  num_bins bin_weights  bin_mode  \n",
       "0  output variable 0  MaxDiff         5        None  Quantile  "
      ]
     },
     "metadata": {},
     "output_type": "display_data"
    }
   ],
   "source": [
    "display(wl.get_assay_info(assay_id))"
   ]
  },
  {
   "cell_type": "markdown",
   "metadata": {},
   "source": [
    "Now we set the active status to `False`, and show the assay list to verify it is no longer active."
   ]
  },
  {
   "cell_type": "code",
   "execution_count": 59,
   "metadata": {},
   "outputs": [
    {
     "data": {
      "text/html": [
       "<div>\n",
       "<style scoped>\n",
       "    .dataframe tbody tr th:only-of-type {\n",
       "        vertical-align: middle;\n",
       "    }\n",
       "\n",
       "    .dataframe tbody tr th {\n",
       "        vertical-align: top;\n",
       "    }\n",
       "\n",
       "    .dataframe thead th {\n",
       "        text-align: right;\n",
       "    }\n",
       "</style>\n",
       "<table border=\"1\" class=\"dataframe\">\n",
       "  <thead>\n",
       "    <tr style=\"text-align: right;\">\n",
       "      <th></th>\n",
       "      <th>id</th>\n",
       "      <th>name</th>\n",
       "      <th>active</th>\n",
       "      <th>status</th>\n",
       "      <th>pipeline_name</th>\n",
       "      <th>last_run</th>\n",
       "      <th>next_run</th>\n",
       "      <th>alert_threshold</th>\n",
       "      <th>baseline</th>\n",
       "      <th>iopath</th>\n",
       "      <th>metric</th>\n",
       "      <th>num_bins</th>\n",
       "      <th>bin_weights</th>\n",
       "      <th>bin_mode</th>\n",
       "    </tr>\n",
       "  </thead>\n",
       "  <tbody>\n",
       "    <tr>\n",
       "      <th>0</th>\n",
       "      <td>2</td>\n",
       "      <td>assays from date baseline tutorial</td>\n",
       "      <td>False</td>\n",
       "      <td>{\"run_at\": \"2024-04-05T14:34:27.189783139+00:00\",  \"num_ok\": 0, \"num_warnings\": 0, \"num_alerts\": 0}</td>\n",
       "      <td>assay-demonstration-tutorial</td>\n",
       "      <td>2024-04-05T14:34:27.189783+00:00</td>\n",
       "      <td>2024-04-05T14:34:11.425652+00:00</td>\n",
       "      <td>0.5</td>\n",
       "      <td>{'static': {'count': 500, 'min': 236238.671875, 'max': 1489624.25, 'mean': 494775.58346875, 'median': 441374.921875, 'std': 229911.62714226343, 'edges': [236238.671875, 306159.375, 413013.375, 450867.6875, 675545.4375, 1489624.25, None], 'edge_names': ['left_outlier', 'q_20', 'q_40', 'q_60', 'q_80', 'q_100', 'right_outlier'], 'aggregated_values': [0.0, 0.2, 0.4, 0.606, 0.8, 1.0, 1.0], 'aggregation': 'Cumulative', 'start': None, 'end': None}}</td>\n",
       "      <td>output variable 0</td>\n",
       "      <td>MaxDiff</td>\n",
       "      <td>5</td>\n",
       "      <td>None</td>\n",
       "      <td>Quantile</td>\n",
       "    </tr>\n",
       "  </tbody>\n",
       "</table>\n",
       "</div>"
      ],
      "text/plain": [
       "   id                                name  active  \\\n",
       "0   2  assays from date baseline tutorial   False   \n",
       "\n",
       "                                                                                                status  \\\n",
       "0  {\"run_at\": \"2024-04-05T14:34:27.189783139+00:00\",  \"num_ok\": 0, \"num_warnings\": 0, \"num_alerts\": 0}   \n",
       "\n",
       "                  pipeline_name                          last_run  \\\n",
       "0  assay-demonstration-tutorial  2024-04-05T14:34:27.189783+00:00   \n",
       "\n",
       "                           next_run  alert_threshold  \\\n",
       "0  2024-04-05T14:34:11.425652+00:00              0.5   \n",
       "\n",
       "                                                                                                                                                                                                                                                                                                                                                                                                                                                        baseline  \\\n",
       "0  {'static': {'count': 500, 'min': 236238.671875, 'max': 1489624.25, 'mean': 494775.58346875, 'median': 441374.921875, 'std': 229911.62714226343, 'edges': [236238.671875, 306159.375, 413013.375, 450867.6875, 675545.4375, 1489624.25, None], 'edge_names': ['left_outlier', 'q_20', 'q_40', 'q_60', 'q_80', 'q_100', 'right_outlier'], 'aggregated_values': [0.0, 0.2, 0.4, 0.606, 0.8, 1.0, 1.0], 'aggregation': 'Cumulative', 'start': None, 'end': None}}   \n",
       "\n",
       "              iopath   metric  num_bins bin_weights  bin_mode  \n",
       "0  output variable 0  MaxDiff         5        None  Quantile  "
      ]
     },
     "metadata": {},
     "output_type": "display_data"
    }
   ],
   "source": [
    "wl.set_assay_active(assay_id, False)\n",
    "display(wl.get_assay_info(assay_id))"
   ]
  },
  {
   "cell_type": "markdown",
   "metadata": {},
   "source": [
    "We resume the assay by setting it's active status to `True`."
   ]
  },
  {
   "cell_type": "code",
   "execution_count": 60,
   "metadata": {},
   "outputs": [
    {
     "data": {
      "text/html": [
       "<div>\n",
       "<style scoped>\n",
       "    .dataframe tbody tr th:only-of-type {\n",
       "        vertical-align: middle;\n",
       "    }\n",
       "\n",
       "    .dataframe tbody tr th {\n",
       "        vertical-align: top;\n",
       "    }\n",
       "\n",
       "    .dataframe thead th {\n",
       "        text-align: right;\n",
       "    }\n",
       "</style>\n",
       "<table border=\"1\" class=\"dataframe\">\n",
       "  <thead>\n",
       "    <tr style=\"text-align: right;\">\n",
       "      <th></th>\n",
       "      <th>id</th>\n",
       "      <th>name</th>\n",
       "      <th>active</th>\n",
       "      <th>status</th>\n",
       "      <th>pipeline_name</th>\n",
       "      <th>last_run</th>\n",
       "      <th>next_run</th>\n",
       "      <th>alert_threshold</th>\n",
       "      <th>baseline</th>\n",
       "      <th>iopath</th>\n",
       "      <th>metric</th>\n",
       "      <th>num_bins</th>\n",
       "      <th>bin_weights</th>\n",
       "      <th>bin_mode</th>\n",
       "    </tr>\n",
       "  </thead>\n",
       "  <tbody>\n",
       "    <tr>\n",
       "      <th>0</th>\n",
       "      <td>2</td>\n",
       "      <td>assays from date baseline tutorial</td>\n",
       "      <td>True</td>\n",
       "      <td>{\"run_at\": \"2024-04-05T14:34:27.189783139+00:00\",  \"num_ok\": 0, \"num_warnings\": 0, \"num_alerts\": 0}</td>\n",
       "      <td>assay-demonstration-tutorial</td>\n",
       "      <td>2024-04-05T14:34:27.189783+00:00</td>\n",
       "      <td>2024-04-05T14:34:11.425652+00:00</td>\n",
       "      <td>0.5</td>\n",
       "      <td>{'static': {'count': 500, 'min': 236238.671875, 'max': 1489624.25, 'mean': 494775.58346875, 'median': 441374.921875, 'std': 229911.62714226343, 'edges': [236238.671875, 306159.375, 413013.375, 450867.6875, 675545.4375, 1489624.25, None], 'edge_names': ['left_outlier', 'q_20', 'q_40', 'q_60', 'q_80', 'q_100', 'right_outlier'], 'aggregated_values': [0.0, 0.2, 0.4, 0.606, 0.8, 1.0, 1.0], 'aggregation': 'Cumulative', 'start': None, 'end': None}}</td>\n",
       "      <td>output variable 0</td>\n",
       "      <td>MaxDiff</td>\n",
       "      <td>5</td>\n",
       "      <td>None</td>\n",
       "      <td>Quantile</td>\n",
       "    </tr>\n",
       "  </tbody>\n",
       "</table>\n",
       "</div>"
      ],
      "text/plain": [
       "   id                                name  active  \\\n",
       "0   2  assays from date baseline tutorial    True   \n",
       "\n",
       "                                                                                                status  \\\n",
       "0  {\"run_at\": \"2024-04-05T14:34:27.189783139+00:00\",  \"num_ok\": 0, \"num_warnings\": 0, \"num_alerts\": 0}   \n",
       "\n",
       "                  pipeline_name                          last_run  \\\n",
       "0  assay-demonstration-tutorial  2024-04-05T14:34:27.189783+00:00   \n",
       "\n",
       "                           next_run  alert_threshold  \\\n",
       "0  2024-04-05T14:34:11.425652+00:00              0.5   \n",
       "\n",
       "                                                                                                                                                                                                                                                                                                                                                                                                                                                        baseline  \\\n",
       "0  {'static': {'count': 500, 'min': 236238.671875, 'max': 1489624.25, 'mean': 494775.58346875, 'median': 441374.921875, 'std': 229911.62714226343, 'edges': [236238.671875, 306159.375, 413013.375, 450867.6875, 675545.4375, 1489624.25, None], 'edge_names': ['left_outlier', 'q_20', 'q_40', 'q_60', 'q_80', 'q_100', 'right_outlier'], 'aggregated_values': [0.0, 0.2, 0.4, 0.606, 0.8, 1.0, 1.0], 'aggregation': 'Cumulative', 'start': None, 'end': None}}   \n",
       "\n",
       "              iopath   metric  num_bins bin_weights  bin_mode  \n",
       "0  output variable 0  MaxDiff         5        None  Quantile  "
      ]
     },
     "metadata": {},
     "output_type": "display_data"
    }
   ],
   "source": [
    "wl.set_assay_active(assay_id, True)\n",
    "display(wl.get_assay_info(assay_id))"
   ]
  },
  {
   "cell_type": "markdown",
   "metadata": {},
   "source": [
    "### Undeploy Main Pipeline\n",
    "\n",
    "With the examples and tutorial complete, we will undeploy the main pipeline and return the resources back to the Wallaroo instance."
   ]
  },
  {
   "cell_type": "code",
   "execution_count": 61,
   "metadata": {},
   "outputs": [
    {
     "name": "stdout",
     "output_type": "stream",
     "text": [
      "Waiting for undeployment - this will take up to 45s ........................................ ok\n"
     ]
    },
    {
     "data": {
      "text/html": [
       "<table><tr><th>name</th> <td>assay-demonstration-tutorial</td></tr><tr><th>created</th> <td>2024-04-04 20:21:26.097172+00:00</td></tr><tr><th>last_updated</th> <td>2024-04-05 14:21:56.146938+00:00</td></tr><tr><th>deployed</th> <td>False</td></tr><tr><th>arch</th> <td>x86</td></tr><tr><th>accel</th> <td>none</td></tr><tr><th>tags</th> <td></td></tr><tr><th>versions</th> <td>96fffb75-1052-44c3-ac7a-1de65e1cfa6a, c4176af9-607e-4142-a65b-6d8242848ec0, e6af1065-6cce-4900-872c-0d5ac0f66ae7, 7afd488f-fbfb-479c-9ff2-f8472147678e</td></tr><tr><th>steps</th> <td>house-price-estimator</td></tr><tr><th>published</th> <td>False</td></tr></table>"
      ],
      "text/plain": [
       "{'name': 'assay-demonstration-tutorial', 'create_time': datetime.datetime(2024, 4, 4, 20, 21, 26, 97172, tzinfo=tzutc()), 'definition': \"[{'ModelInference': {'models': [{'name': 'house-price-estimator', 'version': 'f731388a-084f-41c4-b89f-6ecdd8a356de', 'sha': 'e22a0831aafd9917f3cc87a15ed267797f80e2afa12ad7d8810ca58f173b8cc6'}]}}]\"}"
      ]
     },
     "execution_count": 61,
     "metadata": {},
     "output_type": "execute_result"
    }
   ],
   "source": [
    "mainpipeline.undeploy()"
   ]
  }
 ],
 "metadata": {
  "kernelspec": {
   "display_name": "Python 3 (ipykernel)",
   "language": "python",
   "name": "python3"
  },
  "language_info": {
   "codemirror_mode": {
    "name": "ipython",
    "version": 3
   },
   "file_extension": ".py",
   "mimetype": "text/x-python",
   "name": "python",
   "nbconvert_exporter": "python",
   "pygments_lexer": "ipython3",
   "version": "3.9.13"
  },
  "vscode": {
   "interpreter": {
    "hash": "7dda4bf3640b7fafcd1648658b879b4cc9f6ba6084e8fb356fdaaa1a461d1690"
   }
  }
 },
 "nbformat": 4,
 "nbformat_minor": 4
}
