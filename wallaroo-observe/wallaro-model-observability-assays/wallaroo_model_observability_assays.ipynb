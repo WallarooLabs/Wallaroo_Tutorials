{
 "cells": [
  {
   "cell_type": "markdown",
   "metadata": {},
   "source": [
    "This tutorial and the assets can be downloaded as part of the [Wallaroo Tutorials repository](https://github.com/WallarooLabs/Wallaroo_Tutorials/blob/wallaroo2024.2_tutorials/wallaroo-observe/wallaro-model-observability-assays).\n",
    "\n",
    "## Model Drift Observability with Assays\n",
    "\n",
    "The Model Insights feature lets you monitor how the environment that your model operates within may be changing in ways that affect it's predictions so that you can intervene (retrain) in an efficient and timely manner. Changes in the inputs, **data drift**, can occur due to errors in the data processing pipeline or due to changes in the environment such as user preference or behavior. \n",
    "\n",
    "This notebook focuses on interactive exploration over historical data. After you are comfortable with how your data has behaved historically, you can schedule this same analysis (called an *assay*) to automatically run periodically, looking for indications of data drift or concept drift.\n",
    "\n",
    "In this notebook, we will be running a drift assay on an ONNX model pre-trained to predict house prices.\n",
    "\n",
    "## Goal\n",
    "\n",
    "Model insights monitors the output of the spam classifier model over a designated time window and compares it to an expected baseline distribution. We measure the difference between  the window distribution and the baseline distribution; large differences indicate that the behavior of the model (or its inputs) has changed from what we expect. This possibly indicates a change that should be accounted for, possibly by retraining the models.\n",
    "\n",
    "### Resources\n",
    "\n",
    "This tutorial provides the following:\n",
    "\n",
    "* Models:\n",
    "  * `models/rf_model.onnx`: The champion model that has been used in this environment for some time.\n",
    "  * Various inputs:\n",
    "    * `smallinputs.df.json`: A set of house inputs that tends to generate low house price values.\n",
    "    * `biginputs.df.json`: A set of house inputs that tends to generate high house price values.\n",
    "\n",
    "### Prerequisites\n",
    "\n",
    "* A deployed Wallaroo instance\n",
    "* The following Python libraries installed:\n",
    "  * [`wallaroo`](https://pypi.org/project/wallaroo/): The Wallaroo SDK. Included with the Wallaroo JupyterHub service by default.\n",
    "  * [`pandas`](https://pypi.org/project/pandas/): Pandas, mainly used for Pandas DataFrame\n"
   ]
  },
  {
   "cell_type": "markdown",
   "metadata": {},
   "source": [
    "## Steps\n",
    "\n",
    "* Deploying a sample ML model used to determine house prices based on a set of input parameters.\n",
    "* Build an assay baseline from a set of baseline start and end dates, and an assay baseline from a numpy array.\n",
    "* Preview the assay and show different assay configurations.\n",
    "* Upload the assay.\n",
    "* View assay results.\n",
    "* Pause and resume the assay.\n",
    "\n",
    "### Import Libraries\n",
    "\n",
    "The first step will be to import our libraries, and set variables used through this tutorial."
   ]
  },
  {
   "cell_type": "code",
   "execution_count": 1,
   "metadata": {},
   "outputs": [],
   "source": [
    "import wallaroo\n",
    "from wallaroo.object import EntityNotFoundError\n",
    "from wallaroo.framework import Framework\n",
    "\n",
    "from IPython.display import display\n",
    "\n",
    "# used to display DataFrame information without truncating\n",
    "from IPython.display import display\n",
    "import pandas as pd\n",
    "pd.set_option('display.max_colwidth', None)\n",
    "\n",
    "import datetime\n",
    "import time\n",
    "\n",
    "workspace_name = f'assay-demonstration-tutorial-2'\n",
    "main_pipeline_name = f'assay-demonstration-tutorial'\n",
    "model_name_control = f'house-price-estimator'\n",
    "model_file_name_control = './models/rf_model.onnx'\n",
    "\n",
    "# Set the name of the assay\n",
    "assay_name=f\"house price assay demo\"\n",
    "\n",
    "# ignoring warnings for demonstration\n",
    "import warnings\n",
    "warnings.filterwarnings('ignore')\n",
    "\n",
    "# used to display DataFrame information without truncating\n",
    "from IPython.display import display\n",
    "import pandas as pd\n",
    "pd.set_option('display.max_colwidth', None)"
   ]
  },
  {
   "cell_type": "markdown",
   "metadata": {},
   "source": [
    "### Connect to the Wallaroo Instance\n",
    "\n",
    "The first step is to connect to Wallaroo through the Wallaroo client.  The Python library is included in the Wallaroo install and available through the Jupyter Hub interface provided with your Wallaroo environment.\n",
    "\n",
    "This is accomplished using the `wallaroo.Client()` command, which provides a URL to grant the SDK permission to your specific Wallaroo environment.  When displayed, enter the URL into a browser and confirm permissions.  Store the connection into a variable that can be referenced later.\n",
    "\n",
    "If logging into the Wallaroo instance through the internal JupyterHub service, use `wl = wallaroo.Client()`.  For more information on Wallaroo Client settings, see the [Client Connection guide](https://docs.wallaroo.ai/wallaroo-developer-guides/wallaroo-sdk-guides/wallaroo-sdk-essentials-guide/wallaroo-sdk-essentials-client/)."
   ]
  },
  {
   "cell_type": "code",
   "execution_count": 2,
   "metadata": {},
   "outputs": [],
   "source": [
    "# Login through local Wallaroo instance\n",
    "\n",
    "wl = wallaroo.Client()"
   ]
  },
  {
   "cell_type": "markdown",
   "metadata": {},
   "source": [
    "### Create Workspace\n",
    "\n",
    "We will create a workspace to manage our pipeline and models.  The following variables will set the name of our sample workspace then set it as the current workspace.\n",
    "\n",
    "Workspace, pipeline, and model names should be unique to each user, so we'll add in a randomly generated suffix so multiple people can run this tutorial in a Wallaroo instance without effecting each other."
   ]
  },
  {
   "cell_type": "code",
   "execution_count": 3,
   "metadata": {},
   "outputs": [
    {
     "data": {
      "text/plain": [
       "{'name': 'assay-demonstration-tutorial-2', 'id': 29, 'archived': False, 'created_by': '13486fc4-a1a7-43e2-9233-62177d5f739b', 'created_at': '2024-07-16T17:12:14.37779+00:00', 'models': [], 'pipelines': []}"
      ]
     },
     "execution_count": 3,
     "metadata": {},
     "output_type": "execute_result"
    }
   ],
   "source": [
    "workspace = wl.get_workspace(name=workspace_name, create_if_not_exist=True)\n",
    "\n",
    "wl.set_current_workspace(workspace)"
   ]
  },
  {
   "cell_type": "markdown",
   "metadata": {},
   "source": [
    "### Upload The Champion Model\n",
    "\n",
    "For our example, we will upload the champion model that has been trained to derive house prices from a variety of inputs.  The model file is `rf_model.onnx`, and is uploaded with the name `house-price-estimator`."
   ]
  },
  {
   "cell_type": "code",
   "execution_count": 4,
   "metadata": {},
   "outputs": [],
   "source": [
    "housing_model_control = (wl.upload_model(model_name_control, \n",
    "                                        model_file_name_control, \n",
    "                                        framework=Framework.ONNX)\n",
    "                                        .configure(tensor_fields=[\"tensor\"])\n",
    "                        )"
   ]
  },
  {
   "cell_type": "markdown",
   "metadata": {},
   "source": [
    "### Build the Pipeline\n",
    "\n",
    "This pipeline is made to be an example of an existing situation where a model is deployed and being used for inferences in a production environment.  We'll call it `assay-demonstration-tutorial`, set `housing_model_control` as a pipeline step, then run a few sample inferences.\n",
    "\n",
    "This pipeline will be a simple one - just a single pipeline step."
   ]
  },
  {
   "cell_type": "code",
   "execution_count": 5,
   "metadata": {},
   "outputs": [
    {
     "name": "stdout",
     "output_type": "stream",
     "text": [
      "Waiting for deployment - this will take up to 45s ........... ok\n"
     ]
    },
    {
     "data": {
      "text/html": [
       "<table><tr><th>name</th> <td>assay-demonstration-tutorial</td></tr><tr><th>created</th> <td>2024-07-16 17:12:15.096674+00:00</td></tr><tr><th>last_updated</th> <td>2024-07-16 17:12:15.152669+00:00</td></tr><tr><th>deployed</th> <td>True</td></tr><tr><th>workspace_id</th> <td>29</td></tr><tr><th>workspace_name</th> <td>assay-demonstration-tutorial-2</td></tr><tr><th>arch</th> <td>x86</td></tr><tr><th>accel</th> <td>none</td></tr><tr><th>tags</th> <td></td></tr><tr><th>versions</th> <td>3307faae-8a2f-4079-866b-f474d99f55aa, 5fcb820c-671b-48fc-b7ee-869e72fce4e5</td></tr><tr><th>steps</th> <td>house-price-estimator</td></tr><tr><th>published</th> <td>False</td></tr></table>"
      ],
      "text/plain": [
       "{'name': 'assay-demonstration-tutorial', 'create_time': datetime.datetime(2024, 7, 16, 17, 12, 15, 96674, tzinfo=tzutc()), 'definition': \"[{'ModelInference': {'models': [{'name': 'house-price-estimator', 'version': '5f66c859-0d30-4601-827b-56bfecba92b7', 'sha': 'e22a0831aafd9917f3cc87a15ed267797f80e2afa12ad7d8810ca58f173b8cc6'}]}}]\"}"
      ]
     },
     "execution_count": 5,
     "metadata": {},
     "output_type": "execute_result"
    }
   ],
   "source": [
    "mainpipeline = wl.build_pipeline(main_pipeline_name)\n",
    "# clear the steps if used before\n",
    "mainpipeline.clear()\n",
    "\n",
    "mainpipeline.add_model_step(housing_model_control)\n",
    "\n",
    "#minimum deployment config\n",
    "deploy_config = wallaroo.DeploymentConfigBuilder().replica_count(1).cpus(0.5).memory(\"1Gi\").build()\n",
    "\n",
    "mainpipeline.deploy(deployment_config = deploy_config)"
   ]
  },
  {
   "cell_type": "markdown",
   "metadata": {},
   "source": [
    "### Testing\n",
    "\n",
    "We'll use two inferences as a quick sample test - one that has a house that should be determined around `$700k`, the other with a house determined to be around `$1.5` million."
   ]
  },
  {
   "cell_type": "code",
   "execution_count": 6,
   "metadata": {},
   "outputs": [
    {
     "data": {
      "text/html": [
       "<div>\n",
       "<style scoped>\n",
       "    .dataframe tbody tr th:only-of-type {\n",
       "        vertical-align: middle;\n",
       "    }\n",
       "\n",
       "    .dataframe tbody tr th {\n",
       "        vertical-align: top;\n",
       "    }\n",
       "\n",
       "    .dataframe thead th {\n",
       "        text-align: right;\n",
       "    }\n",
       "</style>\n",
       "<table border=\"1\" class=\"dataframe\">\n",
       "  <thead>\n",
       "    <tr style=\"text-align: right;\">\n",
       "      <th></th>\n",
       "      <th>time</th>\n",
       "      <th>in.tensor</th>\n",
       "      <th>out.variable</th>\n",
       "      <th>anomaly.count</th>\n",
       "    </tr>\n",
       "  </thead>\n",
       "  <tbody>\n",
       "    <tr>\n",
       "      <th>0</th>\n",
       "      <td>2024-07-16 17:12:27.056</td>\n",
       "      <td>[4.0, 2.5, 2900.0, 5505.0, 2.0, 0.0, 0.0, 3.0, 8.0, 2900.0, 0.0, 47.6063, -122.02, 2970.0, 5251.0, 12.0, 0.0, 0.0]</td>\n",
       "      <td>[718013.7]</td>\n",
       "      <td>0</td>\n",
       "    </tr>\n",
       "  </tbody>\n",
       "</table>\n",
       "</div>"
      ],
      "text/plain": [
       "                     time  \\\n",
       "0 2024-07-16 17:12:27.056   \n",
       "\n",
       "                                                                                                            in.tensor  \\\n",
       "0  [4.0, 2.5, 2900.0, 5505.0, 2.0, 0.0, 0.0, 3.0, 8.0, 2900.0, 0.0, 47.6063, -122.02, 2970.0, 5251.0, 12.0, 0.0, 0.0]   \n",
       "\n",
       "  out.variable  anomaly.count  \n",
       "0   [718013.7]              0  "
      ]
     },
     "metadata": {},
     "output_type": "display_data"
    }
   ],
   "source": [
    "normal_input = pd.DataFrame.from_records({\"tensor\": [[4.0, 2.5, 2900.0, 5505.0, 2.0, 0.0, 0.0, 3.0, 8.0, 2900.0, 0.0, 47.6063, -122.02, 2970.0, 5251.0, 12.0, 0.0, 0.0]]})\n",
    "result = mainpipeline.infer(normal_input)\n",
    "display(result)"
   ]
  },
  {
   "cell_type": "code",
   "execution_count": 7,
   "metadata": {},
   "outputs": [
    {
     "data": {
      "text/html": [
       "<div>\n",
       "<style scoped>\n",
       "    .dataframe tbody tr th:only-of-type {\n",
       "        vertical-align: middle;\n",
       "    }\n",
       "\n",
       "    .dataframe tbody tr th {\n",
       "        vertical-align: top;\n",
       "    }\n",
       "\n",
       "    .dataframe thead th {\n",
       "        text-align: right;\n",
       "    }\n",
       "</style>\n",
       "<table border=\"1\" class=\"dataframe\">\n",
       "  <thead>\n",
       "    <tr style=\"text-align: right;\">\n",
       "      <th></th>\n",
       "      <th>time</th>\n",
       "      <th>in.tensor</th>\n",
       "      <th>out.variable</th>\n",
       "      <th>anomaly.count</th>\n",
       "    </tr>\n",
       "  </thead>\n",
       "  <tbody>\n",
       "    <tr>\n",
       "      <th>0</th>\n",
       "      <td>2024-07-16 17:12:27.099</td>\n",
       "      <td>[4.0, 3.0, 3710.0, 20000.0, 2.0, 0.0, 2.0, 5.0, 10.0, 2760.0, 950.0, 47.6696, -122.261, 3970.0, 20000.0, 79.0, 0.0, 0.0]</td>\n",
       "      <td>[1514079.4]</td>\n",
       "      <td>0</td>\n",
       "    </tr>\n",
       "  </tbody>\n",
       "</table>\n",
       "</div>"
      ],
      "text/plain": [
       "                     time  \\\n",
       "0 2024-07-16 17:12:27.099   \n",
       "\n",
       "                                                                                                                  in.tensor  \\\n",
       "0  [4.0, 3.0, 3710.0, 20000.0, 2.0, 0.0, 2.0, 5.0, 10.0, 2760.0, 950.0, 47.6696, -122.261, 3970.0, 20000.0, 79.0, 0.0, 0.0]   \n",
       "\n",
       "  out.variable  anomaly.count  \n",
       "0  [1514079.4]              0  "
      ]
     },
     "metadata": {},
     "output_type": "display_data"
    }
   ],
   "source": [
    "large_house_input = pd.DataFrame.from_records({'tensor': [[4.0, 3.0, 3710.0, 20000.0, 2.0, 0.0, 2.0, 5.0, 10.0, 2760.0, 950.0, 47.6696, -122.261, 3970.0, 20000.0, 79.0, 0.0, 0.0]]})\n",
    "large_house_result = mainpipeline.infer(large_house_input)\n",
    "display(large_house_result)"
   ]
  },
  {
   "cell_type": "markdown",
   "metadata": {},
   "source": [
    "### Generate Sample Data\n",
    "\n",
    "Before creating the assays, we must generate data for the assays to build from.\n",
    "\n",
    "For this example, we will:\n",
    "\n",
    "* Perform sample inferences based on lower priced houses and use that as our baseline.\n",
    "* Generate inferences from specific set of high priced houses create inference outputs that will be outside the baseline.  This is used in later steps to demonstrate baseline comparison against assay analyses."
   ]
  },
  {
   "cell_type": "markdown",
   "metadata": {},
   "source": [
    "#### Inference Results History Generation\n",
    "\n",
    "To start the demonstration, we'll create a set of inferences based on houses with small estimated prices.\n",
    "\n",
    "We will save the beginning and end periods of inferences to the variables `assay_baseline_start` and `assay_baseline_end`.  These will be used later to create assay baselines from a **range of dates**."
   ]
  },
  {
   "cell_type": "code",
   "execution_count": 8,
   "metadata": {},
   "outputs": [],
   "source": [
    "small_houses_inputs = pd.read_json('./data/smallinputs.df.json')\n",
    "baseline_size = 500\n",
    "\n",
    "# Where the baseline data will start\n",
    "assay_baseline_start = datetime.datetime.now()\n",
    "\n",
    "# These inputs will be random samples of small priced houses.  Around 30,000 is a good number\n",
    "small_houses = small_houses_inputs.sample(baseline_size, replace=True).reset_index(drop=True)\n",
    "\n",
    "# Wait 60 seconds to set this data apart from the rest\n",
    "time.sleep(60)\n",
    "small_results = mainpipeline.infer(small_houses)\n",
    "\n",
    "# Set the baseline end\n",
    "\n",
    "assay_baseline_end = datetime.datetime.now()"
   ]
  },
  {
   "cell_type": "markdown",
   "metadata": {},
   "source": [
    "#### Generate Numpy Baseline Values\n",
    "\n",
    "From our inference outputs, we will create an array of numpy values.  These are used for **assays baselines created from numpy values**."
   ]
  },
  {
   "cell_type": "code",
   "execution_count": 9,
   "metadata": {},
   "outputs": [],
   "source": [
    "# get the numpy values\n",
    "\n",
    "# set the results to a non-array value\n",
    "small_results_baseline_df = small_results.copy()\n",
    "small_results_baseline_df['variable']=small_results['out.variable'].map(lambda x: x[0])\n",
    "small_results_baseline_df\n",
    "\n",
    "# set the numpy array\n",
    "small_results_baseline = small_results_baseline_df['variable'].to_numpy()"
   ]
  },
  {
   "cell_type": "markdown",
   "metadata": {},
   "source": [
    "#### Assay Test Data\n",
    "\n",
    "The following will generate inference data for us to test against the assay baseline.  For this, we will add in house data that generate higher house prices than the baseline data we used earlier.\n",
    "\n",
    "This process should take 6 minutes to generate the historical data we'll later use in our assays.  We store the DateTime `assay_window_start` to determine where to start out assay analyses."
   ]
  },
  {
   "cell_type": "code",
   "execution_count": 10,
   "metadata": {},
   "outputs": [],
   "source": [
    "# Get a spread of house values\n",
    "\n",
    "# # Set the start for our assay window period.\n",
    "assay_window_start = datetime.datetime.now()\n",
    "\n",
    "time.sleep(65)\n",
    "inference_size = 1000\n",
    "\n",
    "# And a spread of large house values\n",
    "\n",
    "small_houses_inputs = pd.read_json('./data/smallinputs.df.json', orient=\"records\")\n",
    "small_houses = small_houses_inputs.sample(inference_size, replace=True).reset_index(drop=True)\n",
    "\n",
    "mainpipeline.infer(small_houses)\n",
    "\n",
    "time.sleep(65)"
   ]
  },
  {
   "cell_type": "code",
   "execution_count": 11,
   "metadata": {},
   "outputs": [],
   "source": [
    "# Get a spread of large house values\n",
    "\n",
    "time.sleep(65)\n",
    "inference_size = 1000\n",
    "\n",
    "# And a spread of large house values\n",
    "\n",
    "big_houses_inputs = pd.read_json('./data/biginputs.df.json', orient=\"records\")\n",
    "big_houses = big_houses_inputs.sample(inference_size, replace=True).reset_index(drop=True)\n",
    "\n",
    "mainpipeline.infer(big_houses)\n",
    "\n",
    "time.sleep(65)"
   ]
  },
  {
   "cell_type": "markdown",
   "metadata": {},
   "source": [
    "## Model Insights via the Wallaroo Dashboard SDK\n",
    "\n",
    "Assays generated through the Wallaroo SDK can be previewed, configured, and uploaded to the Wallaroo Ops instance.  The following is a condensed version of this process.  For full details see the [Wallaroo SDK Essentials Guide: Assays Management](https://docs.wallaroo.ai/wallaroo-developer-guides/wallaroo-sdk-guides/wallaroo-sdk-essentials-guide/wallaroo-sdk-essentials-assays/) guide.\n",
    "\n",
    "Model drift detection with assays using the Wallaroo SDK follows this general process.\n",
    "\n",
    "* Define the Baseline: From either historical inference data for a specific model in a pipeline, or from a pre-determine array of data, a **baseline** is formed.\n",
    "* Assay Preview:  Once the baseline is formed, we **preview the assay** and configure the different options until we have the the best method of detecting environment or model drift.\n",
    "* Create Assay:  With the previews and configuration complete, we **upload** the assay.  The assay will perform an analysis on a regular scheduled based on the configuration.\n",
    "* Get Assay Results:  Retrieve the analyses and use them to detect model drift and possible sources.\n",
    "* Pause/Resume Assay:  Pause or restart an assay as needed.\n",
    "\n",
    "### Define the Baseline\n",
    "\n",
    "Assay baselines are defined with the [`wallaroo.client.build_assay`](https://docs.wallaroo.ai/wallaroo-developer-guides/wallaroo-sdk-guides/wallaroo-sdk-reference-guide/client/#Client.build_assay) method. Through this process we define the baseline from either a range of dates or pre-generated values.\n",
    "\n",
    "`wallaroo.client.build_assay` take the following parameters:\n",
    "\n",
    "| Parameter | Type | Description |\n",
    "|---|---|---|\n",
    "| **assay_name** | *String* (*Required*) - required | The name of the assay.  Assay names **must** be unique across the Wallaroo instance. |\n",
    "| **pipeline** | *wallaroo.pipeline.Pipeline* (*Required*) | The pipeline the assay is monitoring. |\n",
    "| **model_name** | *String* (*Optional*) / `None` | The name of the model to monitor.  This field should only be used to track the inputs/outputs for a specific model step in a pipeline.  If no `model_name` is to be included, then the parameters must be passed a named parameters not positional ones.   |\n",
    "| **iopath** | *String* (*Required*) | The input/output data for the model being tracked in the format `input/output field index`.  Only one value is tracked for any assay.  For example, to track the **output** of the model's field `house_value` at index `0`, the `iopath` is `'output house_value 0`. |\n",
    "| **baseline_start** | *datetime.datetime* (*Optional*) | The start time for the inferences to use as the baseline.  **Must be included with `baseline_end`.  Cannot be included with `baseline_data`**. |\n",
    "| **baseline_end** | *datetime.datetime* (*Optional*) | The end time of the baseline window. the baseline. Windows start immediately after the baseline window and are run at regular intervals continuously until the assay is deactivated or deleted.  **Must be included with `baseline_start`.  Cannot be included with `baseline_data`.**. |\n",
    "| **baseline_data** | *numpy.array* (*Optional*) | The baseline data in numpy array format.  **Cannot be included with either `baseline_start` or `baseline_data`**. |\n",
    "\n",
    "Note that `model_name` is an optional parameters **when parameters are named**.  For example:\n",
    "\n",
    "```python\n",
    "assay_builder_from_dates = wl.build_assay(assay_name=\"assays from date baseline\", \n",
    "                                          pipeline=mainpipeline, \n",
    "                                          iopath=\"output variable 0\",\n",
    "                                          baseline_start=assay_baseline_start, \n",
    "                                          baseline_end=assay_baseline_end)\n",
    "```\n",
    "\n",
    "**or**:\n",
    "\n",
    "```python\n",
    "assay_builder_from_dates = wl.build_assay(\"assays from date baseline\", \n",
    "                                          mainpipeline, \n",
    "                                          None, ## since we are using positional parameters, `None` must be included for the model parameter\n",
    "                                          \"output variable 0\",\n",
    "                                          assay_baseline_start, \n",
    "                                          assay_baseline_end)\n",
    "```\n",
    "\n",
    "Baselines are created in one of two **mutually exclusive** methods:\n",
    "\n",
    "* **Date Range**:  The `baseline_start` and `baseline_end` retrieves the inference requests and results for the pipeline from the start and end period.  This data is summarized and used to create the baseline.  For our examples, we're using the variables `assay_baseline_start` and `assay_baseline_end` to represent a range of dates, with `assay_baseline_start` being set **before** `assay_baseline_end`.\n",
    "* **Numpy Values**:  The `baseline_data` sets the baseline from a provided numpy array.  This allows assay baselines to be created without first performing inferences in Wallaroo.\n",
    "\n",
    "#### Define the Baseline Example\n",
    "\n",
    "This example shows two methods of defining the baseline for an assay:\n",
    "\n",
    "* `\"assays from date baseline\"`: This assay uses historical inference requests to define the baseline.  This assay is saved to the variable `assay_builder_from_dates`.\n",
    "* `\"assays from numpy\"`:  This assay uses a pre-generated numpy array to define the baseline.  This assay is saved to the variable `assay_builder_from_numpy`.\n",
    "\n",
    "In both cases, the following parameters are used:\n",
    "\n",
    "| Parameter | Value |\n",
    "|---|---|\n",
    "| **assay_name** | `\"assays from date baseline\"` and `\"assays from numpy\"` |\n",
    "| **pipeline** | `mainpipeline`:  A pipeline with a ML model that predicts house prices.  The output field for this model is `variable`. |\n",
    "| **iopath** | These assays monitor the model's **output** field **variable** at index 0 for the pipeline.  From this, the `iopath` setting is `\"output variable 0\"`.  |\n",
    "\n",
    "The difference between the two assays' parameters determines how the baseline is generated.\n",
    "\n",
    "* `\"assays from date baseline\"`: Uses the `baseline_start` and `baseline_end` to set the time period of inference requests and results to gather data from.\n",
    "* `\"assays from numpy\"`:  Uses a pre-generated numpy array as for the baseline data.\n",
    "\n",
    "First we generate an assay baseline from a range of historical inferences performed through the specified pipeline deployment."
   ]
  },
  {
   "cell_type": "code",
   "execution_count": 12,
   "metadata": {},
   "outputs": [
    {
     "data": {
      "text/plain": [
       "datetime.datetime(2024, 7, 16, 17, 12, 27, 123262)"
      ]
     },
     "metadata": {},
     "output_type": "display_data"
    },
    {
     "data": {
      "text/plain": [
       "datetime.datetime(2024, 7, 16, 17, 13, 27, 222295)"
      ]
     },
     "metadata": {},
     "output_type": "display_data"
    }
   ],
   "source": [
    "# Build the assay, based on the start and end of our baseline time, \n",
    "# and tracking the output variable index 0\n",
    "\n",
    "display(assay_baseline_start)\n",
    "display(assay_baseline_end)\n",
    "\n",
    "assay_baseline_from_dates = wl.build_assay(assay_name=\"assays from date baseline\", \n",
    "                                          pipeline=mainpipeline, \n",
    "                                          iopath=\"output variable 0\",\n",
    "                                          baseline_start=assay_baseline_start, \n",
    "                                          baseline_end=assay_baseline_end)\n",
    "\n",
    "# create the baseline from the dates\n",
    "assay_baseline_run_from_dates = assay_baseline_from_dates.build().interactive_baseline_run()"
   ]
  },
  {
   "cell_type": "markdown",
   "metadata": {},
   "source": [
    "In this code sample, we generate the assay baseline from a preset numpy array called `small_results_baseline`."
   ]
  },
  {
   "cell_type": "code",
   "execution_count": 13,
   "metadata": {},
   "outputs": [
    {
     "data": {
      "text/plain": [
       "array([ 318011.4 ,  383833.88, 1295531.8 ,  437177.97,  513264.66])"
      ]
     },
     "metadata": {},
     "output_type": "display_data"
    }
   ],
   "source": [
    "# build the baseline from the numpy array\n",
    "display(small_results_baseline[0:5])\n",
    "\n",
    "# assay builder by baseline\n",
    "assay_baseline_from_numpy = wl.build_assay(assay_name=\"assays from numpy\", \n",
    "                               pipeline=mainpipeline, \n",
    "                               iopath=\"output variable 0\", \n",
    "                               baseline_data = small_results_baseline)\n",
    "\n",
    "# create the baseline from the numpy array\n",
    "assay_baseline_run_from_numpy = assay_baseline_from_numpy.build().interactive_baseline_run()"
   ]
  },
  {
   "cell_type": "markdown",
   "metadata": {},
   "source": [
    "#### Baseline Chart\n",
    "\n",
    "The baseline chart is displayed with `wallaroo.assay.AssayAnalysis.chart()`, which returns a chart with:\n",
    "\n",
    "* **baseline mean**:  The mean value of the baseline values.\n",
    "* **baseline median**: The median value of the baseline values.\n",
    "* **bin_mode**: The binning mode.  See [Binning Mode](#binning-mode)\n",
    "* **aggregation**:  The aggregation type.  See [Aggregation Options](#aggregation-options)\n",
    "* **metric**:  The assay's metric type.  See [Score Metric](#score-metric)\n",
    "* **weighted**:  Whether the binning mode is weighted.  See [Binning Mode](#binning-mode)"
   ]
  },
  {
   "cell_type": "markdown",
   "metadata": {},
   "source": [
    "The first chart is from an assay baseline generated from a set of inferences across a range of dates."
   ]
  },
  {
   "cell_type": "code",
   "execution_count": 14,
   "metadata": {},
   "outputs": [
    {
     "name": "stdout",
     "output_type": "stream",
     "text": [
      "baseline mean = 513781.205375\n",
      "baseline median = 448627.8125\n",
      "bin_mode = Quantile\n",
      "aggregation = Density\n",
      "metric = PSI\n",
      "weighted = False\n"
     ]
    },
    {
     "data": {
      "image/png": "[encoded data removed]",
      "text/plain": [
       "<Figure size 432x288 with 1 Axes>"
      ]
     },
     "metadata": {
      "needs_background": "light"
     },
     "output_type": "display_data"
    }
   ],
   "source": [
    "assay_baseline_run_from_dates.chart()"
   ]
  },
  {
   "cell_type": "markdown",
   "metadata": {},
   "source": [
    "This chart is from an assay baseline generated from a set of numpy values."
   ]
  },
  {
   "cell_type": "code",
   "execution_count": 15,
   "metadata": {},
   "outputs": [
    {
     "name": "stdout",
     "output_type": "stream",
     "text": [
      "baseline mean = 513781.2065599997\n",
      "baseline median = 448627.8\n",
      "bin_mode = Quantile\n",
      "aggregation = Density\n",
      "metric = PSI\n",
      "weighted = False\n"
     ]
    },
    {
     "data": {
      "image/png": "[encoded data removed]",
      "text/plain": [
       "<Figure size 432x288 with 1 Axes>"
      ]
     },
     "metadata": {
      "needs_background": "light"
     },
     "output_type": "display_data"
    }
   ],
   "source": [
    "assay_baseline_run_from_numpy.chart()"
   ]
  },
  {
   "cell_type": "markdown",
   "metadata": {},
   "source": [
    "#### Baseline DataFrame\n",
    "\n",
    "The method [`wallaroo.assay_config.AssayBuilder.baseline_dataframe`](https://docs.wallaroo.ai/wallaroo-developer-guides/wallaroo-sdk-guides/wallaroo-sdk-reference-guide/assay_config/#AssayBuilder.baseline_dataframe) returns a DataFrame of the assay baseline generated from the provided parameters.  This includes:\n",
    "\n",
    "* `metadata`:  The inference metadata with the model information, inference time, and other related factors.\n",
    "* `in` data:  Each input field assigned with the label `in.{input field name}`.\n",
    "* `out` data:  Each output field assigned with the label `out.{output field name}`\n",
    "\n",
    "Note that for assays generated from numpy values, there is only the `out` data based on the supplied baseline data.\n",
    "\n",
    "In the following example, the baseline DataFrame is retrieved.  "
   ]
  },
  {
   "cell_type": "markdown",
   "metadata": {},
   "source": [
    "This baseline DataFrame is from an assay baseline generated from a set of inferences across a range of dates."
   ]
  },
  {
   "cell_type": "code",
   "execution_count": 16,
   "metadata": {},
   "outputs": [
    {
     "data": {
      "text/html": [
       "<div>\n",
       "<style scoped>\n",
       "    .dataframe tbody tr th:only-of-type {\n",
       "        vertical-align: middle;\n",
       "    }\n",
       "\n",
       "    .dataframe tbody tr th {\n",
       "        vertical-align: top;\n",
       "    }\n",
       "\n",
       "    .dataframe thead th {\n",
       "        text-align: right;\n",
       "    }\n",
       "</style>\n",
       "<table border=\"1\" class=\"dataframe\">\n",
       "  <thead>\n",
       "    <tr style=\"text-align: right;\">\n",
       "      <th></th>\n",
       "      <th>time</th>\n",
       "      <th>metadata</th>\n",
       "      <th>input_tensor_0</th>\n",
       "      <th>input_tensor_1</th>\n",
       "      <th>input_tensor_2</th>\n",
       "      <th>input_tensor_3</th>\n",
       "      <th>input_tensor_4</th>\n",
       "      <th>input_tensor_5</th>\n",
       "      <th>input_tensor_6</th>\n",
       "      <th>input_tensor_7</th>\n",
       "      <th>...</th>\n",
       "      <th>input_tensor_9</th>\n",
       "      <th>input_tensor_10</th>\n",
       "      <th>input_tensor_11</th>\n",
       "      <th>input_tensor_12</th>\n",
       "      <th>input_tensor_13</th>\n",
       "      <th>input_tensor_14</th>\n",
       "      <th>input_tensor_15</th>\n",
       "      <th>input_tensor_16</th>\n",
       "      <th>input_tensor_17</th>\n",
       "      <th>output_variable_0</th>\n",
       "    </tr>\n",
       "  </thead>\n",
       "  <tbody>\n",
       "    <tr>\n",
       "      <th>0</th>\n",
       "      <td>1721150007209</td>\n",
       "      <td>{'last_model': '{\"model_name\":\"house-price-estimator\",\"model_sha\":\"e22a0831aafd9917f3cc87a15ed267797f80e2afa12ad7d8810ca58f173b8cc6\"}', 'pipeline_version': '3307faae-8a2f-4079-866b-f474d99f55aa', 'elapsed': [2159729, 3663809], 'dropped': [], 'partition': 'engine-5cfd766455-k42dw'}</td>\n",
       "      <td>3.0</td>\n",
       "      <td>2.00</td>\n",
       "      <td>1590.0</td>\n",
       "      <td>87120.0</td>\n",
       "      <td>1.0</td>\n",
       "      <td>0.0</td>\n",
       "      <td>3.0</td>\n",
       "      <td>3.0</td>\n",
       "      <td>...</td>\n",
       "      <td>1590.0</td>\n",
       "      <td>0.0</td>\n",
       "      <td>47.224098</td>\n",
       "      <td>-122.071999</td>\n",
       "      <td>2780.0</td>\n",
       "      <td>183161.0</td>\n",
       "      <td>16.0</td>\n",
       "      <td>0.0</td>\n",
       "      <td>0.0</td>\n",
       "      <td>3.180114e+05</td>\n",
       "    </tr>\n",
       "    <tr>\n",
       "      <th>1</th>\n",
       "      <td>1721150007209</td>\n",
       "      <td>{'last_model': '{\"model_name\":\"house-price-estimator\",\"model_sha\":\"e22a0831aafd9917f3cc87a15ed267797f80e2afa12ad7d8810ca58f173b8cc6\"}', 'pipeline_version': '3307faae-8a2f-4079-866b-f474d99f55aa', 'elapsed': [2159729, 3663809], 'dropped': [], 'partition': 'engine-5cfd766455-k42dw'}</td>\n",
       "      <td>4.0</td>\n",
       "      <td>2.50</td>\n",
       "      <td>3200.0</td>\n",
       "      <td>6691.0</td>\n",
       "      <td>2.0</td>\n",
       "      <td>0.0</td>\n",
       "      <td>0.0</td>\n",
       "      <td>3.0</td>\n",
       "      <td>...</td>\n",
       "      <td>3200.0</td>\n",
       "      <td>0.0</td>\n",
       "      <td>47.367001</td>\n",
       "      <td>-122.030998</td>\n",
       "      <td>2610.0</td>\n",
       "      <td>6510.0</td>\n",
       "      <td>13.0</td>\n",
       "      <td>0.0</td>\n",
       "      <td>0.0</td>\n",
       "      <td>3.838339e+05</td>\n",
       "    </tr>\n",
       "    <tr>\n",
       "      <th>2</th>\n",
       "      <td>1721150007209</td>\n",
       "      <td>{'last_model': '{\"model_name\":\"house-price-estimator\",\"model_sha\":\"e22a0831aafd9917f3cc87a15ed267797f80e2afa12ad7d8810ca58f173b8cc6\"}', 'pipeline_version': '3307faae-8a2f-4079-866b-f474d99f55aa', 'elapsed': [2159729, 3663809], 'dropped': [], 'partition': 'engine-5cfd766455-k42dw'}</td>\n",
       "      <td>4.0</td>\n",
       "      <td>3.25</td>\n",
       "      <td>5180.0</td>\n",
       "      <td>19850.0</td>\n",
       "      <td>2.0</td>\n",
       "      <td>0.0</td>\n",
       "      <td>3.0</td>\n",
       "      <td>3.0</td>\n",
       "      <td>...</td>\n",
       "      <td>3540.0</td>\n",
       "      <td>1640.0</td>\n",
       "      <td>47.562000</td>\n",
       "      <td>-122.162003</td>\n",
       "      <td>3160.0</td>\n",
       "      <td>9750.0</td>\n",
       "      <td>9.0</td>\n",
       "      <td>0.0</td>\n",
       "      <td>0.0</td>\n",
       "      <td>1.295532e+06</td>\n",
       "    </tr>\n",
       "    <tr>\n",
       "      <th>3</th>\n",
       "      <td>1721150007209</td>\n",
       "      <td>{'last_model': '{\"model_name\":\"house-price-estimator\",\"model_sha\":\"e22a0831aafd9917f3cc87a15ed267797f80e2afa12ad7d8810ca58f173b8cc6\"}', 'pipeline_version': '3307faae-8a2f-4079-866b-f474d99f55aa', 'elapsed': [2159729, 3663809], 'dropped': [], 'partition': 'engine-5cfd766455-k42dw'}</td>\n",
       "      <td>3.0</td>\n",
       "      <td>2.00</td>\n",
       "      <td>1790.0</td>\n",
       "      <td>6800.0</td>\n",
       "      <td>1.0</td>\n",
       "      <td>0.0</td>\n",
       "      <td>0.0</td>\n",
       "      <td>4.0</td>\n",
       "      <td>...</td>\n",
       "      <td>1240.0</td>\n",
       "      <td>550.0</td>\n",
       "      <td>47.728001</td>\n",
       "      <td>-122.338997</td>\n",
       "      <td>1470.0</td>\n",
       "      <td>6800.0</td>\n",
       "      <td>51.0</td>\n",
       "      <td>0.0</td>\n",
       "      <td>0.0</td>\n",
       "      <td>4.371780e+05</td>\n",
       "    </tr>\n",
       "    <tr>\n",
       "      <th>4</th>\n",
       "      <td>1721150007209</td>\n",
       "      <td>{'last_model': '{\"model_name\":\"house-price-estimator\",\"model_sha\":\"e22a0831aafd9917f3cc87a15ed267797f80e2afa12ad7d8810ca58f173b8cc6\"}', 'pipeline_version': '3307faae-8a2f-4079-866b-f474d99f55aa', 'elapsed': [2159729, 3663809], 'dropped': [], 'partition': 'engine-5cfd766455-k42dw'}</td>\n",
       "      <td>3.0</td>\n",
       "      <td>1.75</td>\n",
       "      <td>2220.0</td>\n",
       "      <td>11646.0</td>\n",
       "      <td>1.0</td>\n",
       "      <td>0.0</td>\n",
       "      <td>0.0</td>\n",
       "      <td>3.0</td>\n",
       "      <td>...</td>\n",
       "      <td>1270.0</td>\n",
       "      <td>950.0</td>\n",
       "      <td>47.776199</td>\n",
       "      <td>-122.269997</td>\n",
       "      <td>1490.0</td>\n",
       "      <td>10003.0</td>\n",
       "      <td>64.0</td>\n",
       "      <td>0.0</td>\n",
       "      <td>0.0</td>\n",
       "      <td>5.132647e+05</td>\n",
       "    </tr>\n",
       "    <tr>\n",
       "      <th>...</th>\n",
       "      <td>...</td>\n",
       "      <td>...</td>\n",
       "      <td>...</td>\n",
       "      <td>...</td>\n",
       "      <td>...</td>\n",
       "      <td>...</td>\n",
       "      <td>...</td>\n",
       "      <td>...</td>\n",
       "      <td>...</td>\n",
       "      <td>...</td>\n",
       "      <td>...</td>\n",
       "      <td>...</td>\n",
       "      <td>...</td>\n",
       "      <td>...</td>\n",
       "      <td>...</td>\n",
       "      <td>...</td>\n",
       "      <td>...</td>\n",
       "      <td>...</td>\n",
       "      <td>...</td>\n",
       "      <td>...</td>\n",
       "      <td>...</td>\n",
       "    </tr>\n",
       "    <tr>\n",
       "      <th>495</th>\n",
       "      <td>1721150007209</td>\n",
       "      <td>{'last_model': '{\"model_name\":\"house-price-estimator\",\"model_sha\":\"e22a0831aafd9917f3cc87a15ed267797f80e2afa12ad7d8810ca58f173b8cc6\"}', 'pipeline_version': '3307faae-8a2f-4079-866b-f474d99f55aa', 'elapsed': [2159729, 3663809], 'dropped': [], 'partition': 'engine-5cfd766455-k42dw'}</td>\n",
       "      <td>3.0</td>\n",
       "      <td>2.50</td>\n",
       "      <td>2160.0</td>\n",
       "      <td>8809.0</td>\n",
       "      <td>1.0</td>\n",
       "      <td>0.0</td>\n",
       "      <td>0.0</td>\n",
       "      <td>3.0</td>\n",
       "      <td>...</td>\n",
       "      <td>1540.0</td>\n",
       "      <td>620.0</td>\n",
       "      <td>47.699402</td>\n",
       "      <td>-122.348999</td>\n",
       "      <td>930.0</td>\n",
       "      <td>5420.0</td>\n",
       "      <td>0.0</td>\n",
       "      <td>0.0</td>\n",
       "      <td>0.0</td>\n",
       "      <td>7.261818e+05</td>\n",
       "    </tr>\n",
       "    <tr>\n",
       "      <th>496</th>\n",
       "      <td>1721150007209</td>\n",
       "      <td>{'last_model': '{\"model_name\":\"house-price-estimator\",\"model_sha\":\"e22a0831aafd9917f3cc87a15ed267797f80e2afa12ad7d8810ca58f173b8cc6\"}', 'pipeline_version': '3307faae-8a2f-4079-866b-f474d99f55aa', 'elapsed': [2159729, 3663809], 'dropped': [], 'partition': 'engine-5cfd766455-k42dw'}</td>\n",
       "      <td>2.0</td>\n",
       "      <td>2.50</td>\n",
       "      <td>1785.0</td>\n",
       "      <td>779.0</td>\n",
       "      <td>2.0</td>\n",
       "      <td>0.0</td>\n",
       "      <td>0.0</td>\n",
       "      <td>3.0</td>\n",
       "      <td>...</td>\n",
       "      <td>1595.0</td>\n",
       "      <td>190.0</td>\n",
       "      <td>47.595901</td>\n",
       "      <td>-122.197998</td>\n",
       "      <td>1780.0</td>\n",
       "      <td>794.0</td>\n",
       "      <td>39.0</td>\n",
       "      <td>0.0</td>\n",
       "      <td>0.0</td>\n",
       "      <td>5.596311e+05</td>\n",
       "    </tr>\n",
       "    <tr>\n",
       "      <th>497</th>\n",
       "      <td>1721150007209</td>\n",
       "      <td>{'last_model': '{\"model_name\":\"house-price-estimator\",\"model_sha\":\"e22a0831aafd9917f3cc87a15ed267797f80e2afa12ad7d8810ca58f173b8cc6\"}', 'pipeline_version': '3307faae-8a2f-4079-866b-f474d99f55aa', 'elapsed': [2159729, 3663809], 'dropped': [], 'partition': 'engine-5cfd766455-k42dw'}</td>\n",
       "      <td>4.0</td>\n",
       "      <td>2.50</td>\n",
       "      <td>1750.0</td>\n",
       "      <td>6397.0</td>\n",
       "      <td>2.0</td>\n",
       "      <td>0.0</td>\n",
       "      <td>0.0</td>\n",
       "      <td>3.0</td>\n",
       "      <td>...</td>\n",
       "      <td>1750.0</td>\n",
       "      <td>0.0</td>\n",
       "      <td>47.308201</td>\n",
       "      <td>-122.358002</td>\n",
       "      <td>1940.0</td>\n",
       "      <td>6502.0</td>\n",
       "      <td>27.0</td>\n",
       "      <td>0.0</td>\n",
       "      <td>0.0</td>\n",
       "      <td>2.912398e+05</td>\n",
       "    </tr>\n",
       "    <tr>\n",
       "      <th>498</th>\n",
       "      <td>1721150007209</td>\n",
       "      <td>{'last_model': '{\"model_name\":\"house-price-estimator\",\"model_sha\":\"e22a0831aafd9917f3cc87a15ed267797f80e2afa12ad7d8810ca58f173b8cc6\"}', 'pipeline_version': '3307faae-8a2f-4079-866b-f474d99f55aa', 'elapsed': [2159729, 3663809], 'dropped': [], 'partition': 'engine-5cfd766455-k42dw'}</td>\n",
       "      <td>4.0</td>\n",
       "      <td>2.25</td>\n",
       "      <td>2130.0</td>\n",
       "      <td>8499.0</td>\n",
       "      <td>1.0</td>\n",
       "      <td>0.0</td>\n",
       "      <td>0.0</td>\n",
       "      <td>4.0</td>\n",
       "      <td>...</td>\n",
       "      <td>1600.0</td>\n",
       "      <td>530.0</td>\n",
       "      <td>47.365700</td>\n",
       "      <td>-122.209999</td>\n",
       "      <td>1890.0</td>\n",
       "      <td>11368.0</td>\n",
       "      <td>39.0</td>\n",
       "      <td>0.0</td>\n",
       "      <td>0.0</td>\n",
       "      <td>3.342577e+05</td>\n",
       "    </tr>\n",
       "    <tr>\n",
       "      <th>499</th>\n",
       "      <td>1721150007209</td>\n",
       "      <td>{'last_model': '{\"model_name\":\"house-price-estimator\",\"model_sha\":\"e22a0831aafd9917f3cc87a15ed267797f80e2afa12ad7d8810ca58f173b8cc6\"}', 'pipeline_version': '3307faae-8a2f-4079-866b-f474d99f55aa', 'elapsed': [2159729, 3663809], 'dropped': [], 'partition': 'engine-5cfd766455-k42dw'}</td>\n",
       "      <td>2.0</td>\n",
       "      <td>2.25</td>\n",
       "      <td>1660.0</td>\n",
       "      <td>2128.0</td>\n",
       "      <td>2.0</td>\n",
       "      <td>0.0</td>\n",
       "      <td>0.0</td>\n",
       "      <td>4.0</td>\n",
       "      <td>...</td>\n",
       "      <td>1660.0</td>\n",
       "      <td>0.0</td>\n",
       "      <td>47.752800</td>\n",
       "      <td>-122.251999</td>\n",
       "      <td>1640.0</td>\n",
       "      <td>2128.0</td>\n",
       "      <td>41.0</td>\n",
       "      <td>0.0</td>\n",
       "      <td>0.0</td>\n",
       "      <td>4.371780e+05</td>\n",
       "    </tr>\n",
       "  </tbody>\n",
       "</table>\n",
       "<p>500 rows × 21 columns</p>\n",
       "</div>"
      ],
      "text/plain": [
       "              time  \\\n",
       "0    1721150007209   \n",
       "1    1721150007209   \n",
       "2    1721150007209   \n",
       "3    1721150007209   \n",
       "4    1721150007209   \n",
       "..             ...   \n",
       "495  1721150007209   \n",
       "496  1721150007209   \n",
       "497  1721150007209   \n",
       "498  1721150007209   \n",
       "499  1721150007209   \n",
       "\n",
       "                                                                                                                                                                                                                                                                                      metadata  \\\n",
       "0    {'last_model': '{\"model_name\":\"house-price-estimator\",\"model_sha\":\"e22a0831aafd9917f3cc87a15ed267797f80e2afa12ad7d8810ca58f173b8cc6\"}', 'pipeline_version': '3307faae-8a2f-4079-866b-f474d99f55aa', 'elapsed': [2159729, 3663809], 'dropped': [], 'partition': 'engine-5cfd766455-k42dw'}   \n",
       "1    {'last_model': '{\"model_name\":\"house-price-estimator\",\"model_sha\":\"e22a0831aafd9917f3cc87a15ed267797f80e2afa12ad7d8810ca58f173b8cc6\"}', 'pipeline_version': '3307faae-8a2f-4079-866b-f474d99f55aa', 'elapsed': [2159729, 3663809], 'dropped': [], 'partition': 'engine-5cfd766455-k42dw'}   \n",
       "2    {'last_model': '{\"model_name\":\"house-price-estimator\",\"model_sha\":\"e22a0831aafd9917f3cc87a15ed267797f80e2afa12ad7d8810ca58f173b8cc6\"}', 'pipeline_version': '3307faae-8a2f-4079-866b-f474d99f55aa', 'elapsed': [2159729, 3663809], 'dropped': [], 'partition': 'engine-5cfd766455-k42dw'}   \n",
       "3    {'last_model': '{\"model_name\":\"house-price-estimator\",\"model_sha\":\"e22a0831aafd9917f3cc87a15ed267797f80e2afa12ad7d8810ca58f173b8cc6\"}', 'pipeline_version': '3307faae-8a2f-4079-866b-f474d99f55aa', 'elapsed': [2159729, 3663809], 'dropped': [], 'partition': 'engine-5cfd766455-k42dw'}   \n",
       "4    {'last_model': '{\"model_name\":\"house-price-estimator\",\"model_sha\":\"e22a0831aafd9917f3cc87a15ed267797f80e2afa12ad7d8810ca58f173b8cc6\"}', 'pipeline_version': '3307faae-8a2f-4079-866b-f474d99f55aa', 'elapsed': [2159729, 3663809], 'dropped': [], 'partition': 'engine-5cfd766455-k42dw'}   \n",
       "..                                                                                                                                                                                                                                                                                         ...   \n",
       "495  {'last_model': '{\"model_name\":\"house-price-estimator\",\"model_sha\":\"e22a0831aafd9917f3cc87a15ed267797f80e2afa12ad7d8810ca58f173b8cc6\"}', 'pipeline_version': '3307faae-8a2f-4079-866b-f474d99f55aa', 'elapsed': [2159729, 3663809], 'dropped': [], 'partition': 'engine-5cfd766455-k42dw'}   \n",
       "496  {'last_model': '{\"model_name\":\"house-price-estimator\",\"model_sha\":\"e22a0831aafd9917f3cc87a15ed267797f80e2afa12ad7d8810ca58f173b8cc6\"}', 'pipeline_version': '3307faae-8a2f-4079-866b-f474d99f55aa', 'elapsed': [2159729, 3663809], 'dropped': [], 'partition': 'engine-5cfd766455-k42dw'}   \n",
       "497  {'last_model': '{\"model_name\":\"house-price-estimator\",\"model_sha\":\"e22a0831aafd9917f3cc87a15ed267797f80e2afa12ad7d8810ca58f173b8cc6\"}', 'pipeline_version': '3307faae-8a2f-4079-866b-f474d99f55aa', 'elapsed': [2159729, 3663809], 'dropped': [], 'partition': 'engine-5cfd766455-k42dw'}   \n",
       "498  {'last_model': '{\"model_name\":\"house-price-estimator\",\"model_sha\":\"e22a0831aafd9917f3cc87a15ed267797f80e2afa12ad7d8810ca58f173b8cc6\"}', 'pipeline_version': '3307faae-8a2f-4079-866b-f474d99f55aa', 'elapsed': [2159729, 3663809], 'dropped': [], 'partition': 'engine-5cfd766455-k42dw'}   \n",
       "499  {'last_model': '{\"model_name\":\"house-price-estimator\",\"model_sha\":\"e22a0831aafd9917f3cc87a15ed267797f80e2afa12ad7d8810ca58f173b8cc6\"}', 'pipeline_version': '3307faae-8a2f-4079-866b-f474d99f55aa', 'elapsed': [2159729, 3663809], 'dropped': [], 'partition': 'engine-5cfd766455-k42dw'}   \n",
       "\n",
       "     input_tensor_0  input_tensor_1  input_tensor_2  input_tensor_3  \\\n",
       "0               3.0            2.00          1590.0         87120.0   \n",
       "1               4.0            2.50          3200.0          6691.0   \n",
       "2               4.0            3.25          5180.0         19850.0   \n",
       "3               3.0            2.00          1790.0          6800.0   \n",
       "4               3.0            1.75          2220.0         11646.0   \n",
       "..              ...             ...             ...             ...   \n",
       "495             3.0            2.50          2160.0          8809.0   \n",
       "496             2.0            2.50          1785.0           779.0   \n",
       "497             4.0            2.50          1750.0          6397.0   \n",
       "498             4.0            2.25          2130.0          8499.0   \n",
       "499             2.0            2.25          1660.0          2128.0   \n",
       "\n",
       "     input_tensor_4  input_tensor_5  input_tensor_6  input_tensor_7  ...  \\\n",
       "0               1.0             0.0             3.0             3.0  ...   \n",
       "1               2.0             0.0             0.0             3.0  ...   \n",
       "2               2.0             0.0             3.0             3.0  ...   \n",
       "3               1.0             0.0             0.0             4.0  ...   \n",
       "4               1.0             0.0             0.0             3.0  ...   \n",
       "..              ...             ...             ...             ...  ...   \n",
       "495             1.0             0.0             0.0             3.0  ...   \n",
       "496             2.0             0.0             0.0             3.0  ...   \n",
       "497             2.0             0.0             0.0             3.0  ...   \n",
       "498             1.0             0.0             0.0             4.0  ...   \n",
       "499             2.0             0.0             0.0             4.0  ...   \n",
       "\n",
       "     input_tensor_9  input_tensor_10  input_tensor_11  input_tensor_12  \\\n",
       "0            1590.0              0.0        47.224098      -122.071999   \n",
       "1            3200.0              0.0        47.367001      -122.030998   \n",
       "2            3540.0           1640.0        47.562000      -122.162003   \n",
       "3            1240.0            550.0        47.728001      -122.338997   \n",
       "4            1270.0            950.0        47.776199      -122.269997   \n",
       "..              ...              ...              ...              ...   \n",
       "495          1540.0            620.0        47.699402      -122.348999   \n",
       "496          1595.0            190.0        47.595901      -122.197998   \n",
       "497          1750.0              0.0        47.308201      -122.358002   \n",
       "498          1600.0            530.0        47.365700      -122.209999   \n",
       "499          1660.0              0.0        47.752800      -122.251999   \n",
       "\n",
       "     input_tensor_13  input_tensor_14  input_tensor_15  input_tensor_16  \\\n",
       "0             2780.0         183161.0             16.0              0.0   \n",
       "1             2610.0           6510.0             13.0              0.0   \n",
       "2             3160.0           9750.0              9.0              0.0   \n",
       "3             1470.0           6800.0             51.0              0.0   \n",
       "4             1490.0          10003.0             64.0              0.0   \n",
       "..               ...              ...              ...              ...   \n",
       "495            930.0           5420.0              0.0              0.0   \n",
       "496           1780.0            794.0             39.0              0.0   \n",
       "497           1940.0           6502.0             27.0              0.0   \n",
       "498           1890.0          11368.0             39.0              0.0   \n",
       "499           1640.0           2128.0             41.0              0.0   \n",
       "\n",
       "     input_tensor_17  output_variable_0  \n",
       "0                0.0       3.180114e+05  \n",
       "1                0.0       3.838339e+05  \n",
       "2                0.0       1.295532e+06  \n",
       "3                0.0       4.371780e+05  \n",
       "4                0.0       5.132647e+05  \n",
       "..               ...                ...  \n",
       "495              0.0       7.261818e+05  \n",
       "496              0.0       5.596311e+05  \n",
       "497              0.0       2.912398e+05  \n",
       "498              0.0       3.342577e+05  \n",
       "499              0.0       4.371780e+05  \n",
       "\n",
       "[500 rows x 21 columns]"
      ]
     },
     "metadata": {},
     "output_type": "display_data"
    }
   ],
   "source": [
    "display(assay_baseline_from_dates.baseline_dataframe())"
   ]
  },
  {
   "cell_type": "markdown",
   "metadata": {},
   "source": [
    "This baseline DataFrame is from an assay baseline generated from an array of numpy values."
   ]
  },
  {
   "cell_type": "code",
   "execution_count": 17,
   "metadata": {},
   "outputs": [
    {
     "data": {
      "text/html": [
       "<div>\n",
       "<style scoped>\n",
       "    .dataframe tbody tr th:only-of-type {\n",
       "        vertical-align: middle;\n",
       "    }\n",
       "\n",
       "    .dataframe tbody tr th {\n",
       "        vertical-align: top;\n",
       "    }\n",
       "\n",
       "    .dataframe thead th {\n",
       "        text-align: right;\n",
       "    }\n",
       "</style>\n",
       "<table border=\"1\" class=\"dataframe\">\n",
       "  <thead>\n",
       "    <tr style=\"text-align: right;\">\n",
       "      <th></th>\n",
       "      <th>output_variable_0</th>\n",
       "    </tr>\n",
       "  </thead>\n",
       "  <tbody>\n",
       "    <tr>\n",
       "      <th>0</th>\n",
       "      <td>318011.40</td>\n",
       "    </tr>\n",
       "    <tr>\n",
       "      <th>1</th>\n",
       "      <td>383833.88</td>\n",
       "    </tr>\n",
       "    <tr>\n",
       "      <th>2</th>\n",
       "      <td>1295531.80</td>\n",
       "    </tr>\n",
       "    <tr>\n",
       "      <th>3</th>\n",
       "      <td>437177.97</td>\n",
       "    </tr>\n",
       "    <tr>\n",
       "      <th>4</th>\n",
       "      <td>513264.66</td>\n",
       "    </tr>\n",
       "    <tr>\n",
       "      <th>...</th>\n",
       "      <td>...</td>\n",
       "    </tr>\n",
       "    <tr>\n",
       "      <th>495</th>\n",
       "      <td>726181.75</td>\n",
       "    </tr>\n",
       "    <tr>\n",
       "      <th>496</th>\n",
       "      <td>559631.06</td>\n",
       "    </tr>\n",
       "    <tr>\n",
       "      <th>497</th>\n",
       "      <td>291239.75</td>\n",
       "    </tr>\n",
       "    <tr>\n",
       "      <th>498</th>\n",
       "      <td>334257.70</td>\n",
       "    </tr>\n",
       "    <tr>\n",
       "      <th>499</th>\n",
       "      <td>437177.97</td>\n",
       "    </tr>\n",
       "  </tbody>\n",
       "</table>\n",
       "<p>500 rows × 1 columns</p>\n",
       "</div>"
      ],
      "text/plain": [
       "     output_variable_0\n",
       "0            318011.40\n",
       "1            383833.88\n",
       "2           1295531.80\n",
       "3            437177.97\n",
       "4            513264.66\n",
       "..                 ...\n",
       "495          726181.75\n",
       "496          559631.06\n",
       "497          291239.75\n",
       "498          334257.70\n",
       "499          437177.97\n",
       "\n",
       "[500 rows x 1 columns]"
      ]
     },
     "metadata": {},
     "output_type": "display_data"
    }
   ],
   "source": [
    "display(assay_baseline_from_numpy.baseline_dataframe())"
   ]
  },
  {
   "cell_type": "markdown",
   "metadata": {},
   "source": [
    "#### Baseline Stats\n",
    "\n",
    "The method `wallaroo.assay.AssayAnalysis.baseline_stats()` returns a `pandas.core.frame.DataFrame` of the baseline stats.\n",
    "\n",
    "The baseline stats for each assay are displayed in the examples below."
   ]
  },
  {
   "cell_type": "markdown",
   "metadata": {},
   "source": [
    "This baseline states DataFrame is from an assay baseline generated from a set of inferences across a range of dates."
   ]
  },
  {
   "cell_type": "code",
   "execution_count": 18,
   "metadata": {},
   "outputs": [
    {
     "data": {
      "text/html": [
       "<div>\n",
       "<style scoped>\n",
       "    .dataframe tbody tr th:only-of-type {\n",
       "        vertical-align: middle;\n",
       "    }\n",
       "\n",
       "    .dataframe tbody tr th {\n",
       "        vertical-align: top;\n",
       "    }\n",
       "\n",
       "    .dataframe thead th {\n",
       "        text-align: right;\n",
       "    }\n",
       "</style>\n",
       "<table border=\"1\" class=\"dataframe\">\n",
       "  <thead>\n",
       "    <tr style=\"text-align: right;\">\n",
       "      <th></th>\n",
       "      <th>Baseline</th>\n",
       "    </tr>\n",
       "  </thead>\n",
       "  <tbody>\n",
       "    <tr>\n",
       "      <th>count</th>\n",
       "      <td>500</td>\n",
       "    </tr>\n",
       "    <tr>\n",
       "      <th>min</th>\n",
       "      <td>236238.671875</td>\n",
       "    </tr>\n",
       "    <tr>\n",
       "      <th>max</th>\n",
       "      <td>1295531.75</td>\n",
       "    </tr>\n",
       "    <tr>\n",
       "      <th>mean</th>\n",
       "      <td>513781.205375</td>\n",
       "    </tr>\n",
       "    <tr>\n",
       "      <th>median</th>\n",
       "      <td>448627.8125</td>\n",
       "    </tr>\n",
       "    <tr>\n",
       "      <th>std</th>\n",
       "      <td>233066.759431</td>\n",
       "    </tr>\n",
       "    <tr>\n",
       "      <th>start</th>\n",
       "      <td>2024-07-16T17:12:27.123262+00:00</td>\n",
       "    </tr>\n",
       "    <tr>\n",
       "      <th>end</th>\n",
       "      <td>2024-07-16T17:13:27.222262+00:00</td>\n",
       "    </tr>\n",
       "  </tbody>\n",
       "</table>\n",
       "</div>"
      ],
      "text/plain": [
       "                                Baseline\n",
       "count                                500\n",
       "min                        236238.671875\n",
       "max                           1295531.75\n",
       "mean                       513781.205375\n",
       "median                       448627.8125\n",
       "std                        233066.759431\n",
       "start   2024-07-16T17:12:27.123262+00:00\n",
       "end     2024-07-16T17:13:27.222262+00:00"
      ]
     },
     "execution_count": 18,
     "metadata": {},
     "output_type": "execute_result"
    }
   ],
   "source": [
    "assay_baseline_run_from_dates.baseline_stats()"
   ]
  },
  {
   "cell_type": "markdown",
   "metadata": {},
   "source": [
    "This baseline states DataFrame is from an assay baseline generated from an array of numpy values."
   ]
  },
  {
   "cell_type": "code",
   "execution_count": 19,
   "metadata": {},
   "outputs": [
    {
     "data": {
      "text/html": [
       "<div>\n",
       "<style scoped>\n",
       "    .dataframe tbody tr th:only-of-type {\n",
       "        vertical-align: middle;\n",
       "    }\n",
       "\n",
       "    .dataframe tbody tr th {\n",
       "        vertical-align: top;\n",
       "    }\n",
       "\n",
       "    .dataframe thead th {\n",
       "        text-align: right;\n",
       "    }\n",
       "</style>\n",
       "<table border=\"1\" class=\"dataframe\">\n",
       "  <thead>\n",
       "    <tr style=\"text-align: right;\">\n",
       "      <th></th>\n",
       "      <th>Baseline</th>\n",
       "    </tr>\n",
       "  </thead>\n",
       "  <tbody>\n",
       "    <tr>\n",
       "      <th>count</th>\n",
       "      <td>500</td>\n",
       "    </tr>\n",
       "    <tr>\n",
       "      <th>min</th>\n",
       "      <td>236238.67</td>\n",
       "    </tr>\n",
       "    <tr>\n",
       "      <th>max</th>\n",
       "      <td>1295531.8</td>\n",
       "    </tr>\n",
       "    <tr>\n",
       "      <th>mean</th>\n",
       "      <td>513781.20656</td>\n",
       "    </tr>\n",
       "    <tr>\n",
       "      <th>median</th>\n",
       "      <td>448627.8</td>\n",
       "    </tr>\n",
       "    <tr>\n",
       "      <th>std</th>\n",
       "      <td>233066.761363</td>\n",
       "    </tr>\n",
       "    <tr>\n",
       "      <th>start</th>\n",
       "      <td>None</td>\n",
       "    </tr>\n",
       "    <tr>\n",
       "      <th>end</th>\n",
       "      <td>None</td>\n",
       "    </tr>\n",
       "  </tbody>\n",
       "</table>\n",
       "</div>"
      ],
      "text/plain": [
       "             Baseline\n",
       "count             500\n",
       "min         236238.67\n",
       "max         1295531.8\n",
       "mean     513781.20656\n",
       "median       448627.8\n",
       "std     233066.761363\n",
       "start            None\n",
       "end              None"
      ]
     },
     "execution_count": 19,
     "metadata": {},
     "output_type": "execute_result"
    }
   ],
   "source": [
    "assay_baseline_run_from_numpy.baseline_stats()"
   ]
  },
  {
   "cell_type": "markdown",
   "metadata": {},
   "source": [
    "#### Baseline Bins\n",
    "\n",
    "The method `wallaroo.assay.AssayAnalysis.baseline_bins` a simple dataframe to with the edge/bin data for a baseline."
   ]
  },
  {
   "cell_type": "markdown",
   "metadata": {},
   "source": [
    "These baseline bins DataFrame is from an assay baseline generated from a set of inferences across a range of dates."
   ]
  },
  {
   "cell_type": "code",
   "execution_count": 20,
   "metadata": {},
   "outputs": [
    {
     "data": {
      "text/html": [
       "<div>\n",
       "<style scoped>\n",
       "    .dataframe tbody tr th:only-of-type {\n",
       "        vertical-align: middle;\n",
       "    }\n",
       "\n",
       "    .dataframe tbody tr th {\n",
       "        vertical-align: top;\n",
       "    }\n",
       "\n",
       "    .dataframe thead th {\n",
       "        text-align: right;\n",
       "    }\n",
       "</style>\n",
       "<table border=\"1\" class=\"dataframe\">\n",
       "  <thead>\n",
       "    <tr style=\"text-align: right;\">\n",
       "      <th></th>\n",
       "      <th>b_edges</th>\n",
       "      <th>b_edge_names</th>\n",
       "      <th>b_aggregated_values</th>\n",
       "      <th>b_aggregation</th>\n",
       "    </tr>\n",
       "  </thead>\n",
       "  <tbody>\n",
       "    <tr>\n",
       "      <th>0</th>\n",
       "      <td>2.362387e+05</td>\n",
       "      <td>left_outlier</td>\n",
       "      <td>0.0</td>\n",
       "      <td>Aggregation.DENSITY</td>\n",
       "    </tr>\n",
       "    <tr>\n",
       "      <th>1</th>\n",
       "      <td>3.109929e+05</td>\n",
       "      <td>q_20</td>\n",
       "      <td>0.2</td>\n",
       "      <td>Aggregation.DENSITY</td>\n",
       "    </tr>\n",
       "    <tr>\n",
       "      <th>2</th>\n",
       "      <td>4.319922e+05</td>\n",
       "      <td>q_40</td>\n",
       "      <td>0.2</td>\n",
       "      <td>Aggregation.DENSITY</td>\n",
       "    </tr>\n",
       "    <tr>\n",
       "      <th>3</th>\n",
       "      <td>4.759715e+05</td>\n",
       "      <td>q_60</td>\n",
       "      <td>0.2</td>\n",
       "      <td>Aggregation.DENSITY</td>\n",
       "    </tr>\n",
       "    <tr>\n",
       "      <th>4</th>\n",
       "      <td>7.019407e+05</td>\n",
       "      <td>q_80</td>\n",
       "      <td>0.2</td>\n",
       "      <td>Aggregation.DENSITY</td>\n",
       "    </tr>\n",
       "    <tr>\n",
       "      <th>5</th>\n",
       "      <td>1.295532e+06</td>\n",
       "      <td>q_100</td>\n",
       "      <td>0.2</td>\n",
       "      <td>Aggregation.DENSITY</td>\n",
       "    </tr>\n",
       "    <tr>\n",
       "      <th>6</th>\n",
       "      <td>inf</td>\n",
       "      <td>right_outlier</td>\n",
       "      <td>0.0</td>\n",
       "      <td>Aggregation.DENSITY</td>\n",
       "    </tr>\n",
       "  </tbody>\n",
       "</table>\n",
       "</div>"
      ],
      "text/plain": [
       "        b_edges   b_edge_names  b_aggregated_values        b_aggregation\n",
       "0  2.362387e+05   left_outlier                  0.0  Aggregation.DENSITY\n",
       "1  3.109929e+05           q_20                  0.2  Aggregation.DENSITY\n",
       "2  4.319922e+05           q_40                  0.2  Aggregation.DENSITY\n",
       "3  4.759715e+05           q_60                  0.2  Aggregation.DENSITY\n",
       "4  7.019407e+05           q_80                  0.2  Aggregation.DENSITY\n",
       "5  1.295532e+06          q_100                  0.2  Aggregation.DENSITY\n",
       "6           inf  right_outlier                  0.0  Aggregation.DENSITY"
      ]
     },
     "execution_count": 20,
     "metadata": {},
     "output_type": "execute_result"
    }
   ],
   "source": [
    "assay_baseline_run_from_dates.baseline_bins()"
   ]
  },
  {
   "cell_type": "markdown",
   "metadata": {},
   "source": [
    "These baseline bins DataFrame is from an assay baseline generated from an array of numpy values."
   ]
  },
  {
   "cell_type": "code",
   "execution_count": 21,
   "metadata": {},
   "outputs": [
    {
     "data": {
      "text/html": [
       "<div>\n",
       "<style scoped>\n",
       "    .dataframe tbody tr th:only-of-type {\n",
       "        vertical-align: middle;\n",
       "    }\n",
       "\n",
       "    .dataframe tbody tr th {\n",
       "        vertical-align: top;\n",
       "    }\n",
       "\n",
       "    .dataframe thead th {\n",
       "        text-align: right;\n",
       "    }\n",
       "</style>\n",
       "<table border=\"1\" class=\"dataframe\">\n",
       "  <thead>\n",
       "    <tr style=\"text-align: right;\">\n",
       "      <th></th>\n",
       "      <th>b_edges</th>\n",
       "      <th>b_edge_names</th>\n",
       "      <th>b_aggregated_values</th>\n",
       "      <th>b_aggregation</th>\n",
       "    </tr>\n",
       "  </thead>\n",
       "  <tbody>\n",
       "    <tr>\n",
       "      <th>0</th>\n",
       "      <td>236238.67</td>\n",
       "      <td>left_outlier</td>\n",
       "      <td>0.0</td>\n",
       "      <td>Aggregation.DENSITY</td>\n",
       "    </tr>\n",
       "    <tr>\n",
       "      <th>1</th>\n",
       "      <td>310992.94</td>\n",
       "      <td>q_20</td>\n",
       "      <td>0.2</td>\n",
       "      <td>Aggregation.DENSITY</td>\n",
       "    </tr>\n",
       "    <tr>\n",
       "      <th>2</th>\n",
       "      <td>431992.22</td>\n",
       "      <td>q_40</td>\n",
       "      <td>0.2</td>\n",
       "      <td>Aggregation.DENSITY</td>\n",
       "    </tr>\n",
       "    <tr>\n",
       "      <th>3</th>\n",
       "      <td>475971.50</td>\n",
       "      <td>q_60</td>\n",
       "      <td>0.2</td>\n",
       "      <td>Aggregation.DENSITY</td>\n",
       "    </tr>\n",
       "    <tr>\n",
       "      <th>4</th>\n",
       "      <td>701940.70</td>\n",
       "      <td>q_80</td>\n",
       "      <td>0.2</td>\n",
       "      <td>Aggregation.DENSITY</td>\n",
       "    </tr>\n",
       "    <tr>\n",
       "      <th>5</th>\n",
       "      <td>1295531.80</td>\n",
       "      <td>q_100</td>\n",
       "      <td>0.2</td>\n",
       "      <td>Aggregation.DENSITY</td>\n",
       "    </tr>\n",
       "    <tr>\n",
       "      <th>6</th>\n",
       "      <td>inf</td>\n",
       "      <td>right_outlier</td>\n",
       "      <td>0.0</td>\n",
       "      <td>Aggregation.DENSITY</td>\n",
       "    </tr>\n",
       "  </tbody>\n",
       "</table>\n",
       "</div>"
      ],
      "text/plain": [
       "      b_edges   b_edge_names  b_aggregated_values        b_aggregation\n",
       "0   236238.67   left_outlier                  0.0  Aggregation.DENSITY\n",
       "1   310992.94           q_20                  0.2  Aggregation.DENSITY\n",
       "2   431992.22           q_40                  0.2  Aggregation.DENSITY\n",
       "3   475971.50           q_60                  0.2  Aggregation.DENSITY\n",
       "4   701940.70           q_80                  0.2  Aggregation.DENSITY\n",
       "5  1295531.80          q_100                  0.2  Aggregation.DENSITY\n",
       "6         inf  right_outlier                  0.0  Aggregation.DENSITY"
      ]
     },
     "execution_count": 21,
     "metadata": {},
     "output_type": "execute_result"
    }
   ],
   "source": [
    "assay_baseline_run_from_numpy.baseline_bins()"
   ]
  },
  {
   "cell_type": "markdown",
   "metadata": {},
   "source": [
    "#### Baseline Histogram Chart\n",
    "\n",
    "The method [`wallaroo.assay_config.AssayBuilder.baseline_histogram`](https://docs.wallaroo.ai/wallaroo-developer-guides/wallaroo-sdk-guides/wallaroo-sdk-reference-guide/assay_config/#AssayBuilder.baseline_dataframe) returns a histogram chart of the assay baseline generated from the provided parameters.\n",
    "\n",
    "These chart is from an assay baseline generated from a set of inferences across a range of dates."
   ]
  },
  {
   "cell_type": "code",
   "execution_count": 22,
   "metadata": {},
   "outputs": [
    {
     "data": {
      "image/png": "[encoded data removed]",
      "text/plain": [
       "<Figure size 432x288 with 1 Axes>"
      ]
     },
     "metadata": {
      "needs_background": "light"
     },
     "output_type": "display_data"
    }
   ],
   "source": [
    "assay_baseline_from_dates.baseline_histogram()"
   ]
  },
  {
   "cell_type": "markdown",
   "metadata": {},
   "source": [
    "#### Baseline KDE Chart\n",
    "\n",
    "The method [`wallaroo.assay_config.AssayBuilder.baseline_kde`](https://docs.wallaroo.ai/wallaroo-developer-guides/wallaroo-sdk-guides/wallaroo-sdk-reference-guide/assay_config/#AssayBuilder.baseline_dataframe) returns a Kernel Density Estimation (KDE) chart of the assay baseline generated from the provided parameters.\n",
    "\n",
    "These chart is from an assay baseline generated from a set of inferences across a range of dates."
   ]
  },
  {
   "cell_type": "code",
   "execution_count": 23,
   "metadata": {},
   "outputs": [
    {
     "data": {
      "image/png": "[encoded data removed]",
      "text/plain": [
       "<Figure size 432x288 with 1 Axes>"
      ]
     },
     "metadata": {
      "needs_background": "light"
     },
     "output_type": "display_data"
    }
   ],
   "source": [
    "assay_baseline_from_dates.baseline_kde()"
   ]
  },
  {
   "cell_type": "markdown",
   "metadata": {},
   "source": [
    "#### Baseline ECDF Chart\n",
    "\n",
    "The method [`wallaroo.assay_config.AssayBuilder.baseline_ecdf`](https://docs.wallaroo.ai/wallaroo-developer-guides/wallaroo-sdk-guides/wallaroo-sdk-reference-guide/assay_config/#AssayBuilder.baseline_dataframe) returns a Empirical Cumulative Distribution Function (CDF) chart of the assay baseline generated from the provided parameters.\n",
    "\n",
    "These chart is from an assay baseline generated from a set of inferences across a range of dates."
   ]
  },
  {
   "cell_type": "code",
   "execution_count": 24,
   "metadata": {},
   "outputs": [
    {
     "data": {
      "image/png": "[encoded data removed]",
      "text/plain": [
       "<Figure size 432x288 with 1 Axes>"
      ]
     },
     "metadata": {
      "needs_background": "light"
     },
     "output_type": "display_data"
    }
   ],
   "source": [
    "assay_baseline_from_dates.baseline_ecdf()"
   ]
  },
  {
   "cell_type": "markdown",
   "metadata": {},
   "source": [
    "### Assay Preview\n",
    "\n",
    "Now that the baseline is defined, we look at different configuration options and view how the assay baseline and results changes.  Once we determine what gives us the best method of determining model drift, we can create the assay."
   ]
  },
  {
   "cell_type": "markdown",
   "metadata": {},
   "source": [
    "#### Analysis List Chart Scores\n",
    "\n",
    "Analysis List scores show the assay scores for each assay result interval in one chart.  Values that are outside of the alert threshold are colored red, while scores within the alert threshold are green.\n",
    "\n",
    "Assay chart scores are displayed with the method [`wallaroo.assay.AssayAnalysisList.chart_scores(title: Optional[str] = None)`](https://docs.wallaroo.ai/wallaroo-developer-guides/wallaroo-sdk-guides/wallaroo-sdk-reference-guide/assay/#AssayAnalysisList.chart_scores), with ability to display an optional title with the chart.\n",
    "\n",
    "The following example shows retrieving the assay results and displaying the chart scores.  From our example, we have two windows - the first should be green, and the second is red showing that values were outside the alert threshold."
   ]
  },
  {
   "cell_type": "code",
   "execution_count": 25,
   "metadata": {},
   "outputs": [
    {
     "data": {
      "image/png": "[encoded data removed]",
      "text/plain": [
       "<Figure size 432x288 with 1 Axes>"
      ]
     },
     "metadata": {
      "needs_background": "light"
     },
     "output_type": "display_data"
    }
   ],
   "source": [
    "# Create the assay baseline\n",
    "assay_baseline = wl.build_assay(assay_name=\"assays from date baseline\", \n",
    "                                          pipeline=mainpipeline, \n",
    "                                          iopath=\"output variable 0\",\n",
    "                                          baseline_start=assay_baseline_start, \n",
    "                                          baseline_end=assay_baseline_end)\n",
    "\n",
    "\n",
    "# Set the assay parameters\n",
    "\n",
    "# The end date to gather inference results\n",
    "assay_baseline.add_run_until(datetime.datetime.now())\n",
    "\n",
    "# Set the interval and window to one minute each, set the start date for gathering inference results\n",
    "assay_baseline.window_builder().add_width(minutes=1).add_interval(minutes=1).add_start(assay_window_start)\n",
    "\n",
    "# build the assay configuration\n",
    "assay_config = assay_baseline.build()\n",
    "\n",
    "# perform an interactive run and collect inference data\n",
    "assay_results = assay_config.interactive_run()\n",
    "\n",
    "# Preview the assay analyses\n",
    "assay_results.chart_scores()"
   ]
  },
  {
   "cell_type": "markdown",
   "metadata": {},
   "source": [
    "#### Analysis Chart\n",
    "\n",
    "The method `wallaroo.assay.AssayAnalysis.chart()` displays a comparison between the baseline and an interval of inference data.\n",
    "\n",
    "This is compared to the [Chart Scores](#analysis-list-chart-scores), which is a **list** of all of the inference data split into intervals, while the **Analysis Chart** shows the breakdown of one set of inference data against the baseline.\n",
    "\n",
    "Score from the [Analysis List Chart Scores](#analysis-list-chart-scores) and each element from the [Analysis List DataFrame](#analysis-list-dataframe) generates \n",
    "\n",
    "The following fields are included.\n",
    "\n",
    "| Field | Type | Description |\n",
    "|---|---|---|\n",
    "| **baseline mean** | **Float** | The mean of the baseline values. |\n",
    "| **window mean** | **Float** | The mean of the window values. |\n",
    "| **baseline median** | **Float** | The median of the baseline values. |\n",
    "| **window median** | **Float** | The median of the window values. |\n",
    "| **bin_mode** | **String** | The binning mode used for the assay. |\n",
    "| **aggregation** | **String** | The aggregation mode used for the assay. |\n",
    "| **metric** | **String** | The metric mode used for the assay. |\n",
    "| **weighted** | **Bool** | Whether the bins were manually weighted. |\n",
    "| **score** | **Float** | The score from the assay window. |\n",
    "| **scores** | **List(Float)** | The score from each assay window bin. |\n",
    "| **index** | **Integer/None** | The window index.  Interactive assay runs are `None`. |"
   ]
  },
  {
   "cell_type": "code",
   "execution_count": 26,
   "metadata": {},
   "outputs": [
    {
     "name": "stdout",
     "output_type": "stream",
     "text": [
      "baseline mean = 513781.205375\n",
      "window mean = 512779.469375\n",
      "baseline median = 448627.8125\n",
      "window median = 448627.8125\n",
      "bin_mode = Quantile\n",
      "aggregation = Density\n",
      "metric = PSI\n",
      "weighted = False\n",
      "score = 0.008604680420075936\n",
      "scores = [0.0, 0.001015989699687698, 0.0009472210786334042, 0.0033382848156130714, 0.002503651312977887, 0.0001265890399214496, 0.0006729444732424258]\n",
      "index = None\n"
     ]
    },
    {
     "data": {
      "image/png": "[encoded data removed]",
      "text/plain": [
       "<Figure size 432x288 with 1 Axes>"
      ]
     },
     "metadata": {
      "needs_background": "light"
     },
     "output_type": "display_data"
    }
   ],
   "source": [
    "# Create the assay baseline\n",
    "assay_baseline = wl.build_assay(assay_name=\"assays from date baseline\", \n",
    "                                          pipeline=mainpipeline, \n",
    "                                          iopath=\"output variable 0\",\n",
    "                                          baseline_start=assay_baseline_start, \n",
    "                                          baseline_end=assay_baseline_end)\n",
    "\n",
    "\n",
    "# Set the assay parameters\n",
    "\n",
    "# The end date to gather inference results\n",
    "assay_baseline.add_run_until(datetime.datetime.now())\n",
    "\n",
    "# Set the interval and window to one minute each, set the start date for gathering inference results\n",
    "assay_baseline.window_builder().add_width(minutes=1).add_interval(minutes=1).add_start(assay_window_start)\n",
    "\n",
    "# build the assay configuration\n",
    "assay_config = assay_baseline.build()\n",
    "\n",
    "# perform an interactive run and collect inference data\n",
    "assay_results = assay_config.interactive_run()\n",
    "\n",
    "# display one of the analysis from the total results\n",
    "assay_results[0].chart()"
   ]
  },
  {
   "cell_type": "markdown",
   "metadata": {},
   "source": [
    "#### Analysis List DataFrame\n",
    "\n",
    "`wallaroo.assay.AssayAnalysisList.to_dataframe()` returns a DataFrame showing the assay results for each window aka individual analysis.  This DataFrame contains the following fields:\n",
    "\n",
    "| Field | Type | Description |\n",
    "|---|---|---|\n",
    "| **assay_id** | *Integer/None* | The assay id.  Only provided from uploaded and executed assays. |\n",
    "| **name** | *String/None* | The name of the assay.  Only provided from uploaded and executed assays. |\n",
    "| **iopath** | *String/None* | The iopath of the assay.  Only provided from uploaded and executed assays. |\n",
    "| **score** | *Float* | The assay score. |\n",
    "| **start** | *DateTime* | The DateTime start of the assay window.\n",
    "| **min** | *Float* | The minimum value in the assay window.\n",
    "| **max**  | *Float* | The maximum value in the assay window.\n",
    "| **mean** | *Float* | The mean value in the assay window.\n",
    "| **median** | *Float* | The median value in the assay window.\n",
    "| **std** | *Float* | The standard deviation value in the assay window.\n",
    "| **warning_threshold** | *Float/None* | The warning threshold of the assay window.\n",
    "| **alert_threshold** | *Float/None* | The alert threshold of the assay window.\n",
    "| **status** | *String* | The assay window status.  Values are:  <ul><li>`OK`: The score is within accepted thresholds.</li><li>`Warning`: The score has triggered the `warning_threshold` if exists, but not the `alert_threshold`.</li><li>`Alert`: The score has triggered the the `alert_threshold`.</li></ul> |\n",
    "\n",
    "For this example, the assay analysis list DataFrame is listed.  \n",
    "\n",
    "From this tutorial, we should have 2 windows of dta to look at, each one minute apart.  The first window should show `status: OK`, with the second window with the very large house prices will show `status: alert`"
   ]
  },
  {
   "cell_type": "code",
   "execution_count": 27,
   "metadata": {},
   "outputs": [
    {
     "data": {
      "text/html": [
       "<div>\n",
       "<style scoped>\n",
       "    .dataframe tbody tr th:only-of-type {\n",
       "        vertical-align: middle;\n",
       "    }\n",
       "\n",
       "    .dataframe tbody tr th {\n",
       "        vertical-align: top;\n",
       "    }\n",
       "\n",
       "    .dataframe thead th {\n",
       "        text-align: right;\n",
       "    }\n",
       "</style>\n",
       "<table border=\"1\" class=\"dataframe\">\n",
       "  <thead>\n",
       "    <tr style=\"text-align: right;\">\n",
       "      <th></th>\n",
       "      <th>id</th>\n",
       "      <th>assay_id</th>\n",
       "      <th>assay_name</th>\n",
       "      <th>iopath</th>\n",
       "      <th>pipeline_id</th>\n",
       "      <th>pipeline_name</th>\n",
       "      <th>workspace_id</th>\n",
       "      <th>workspace_name</th>\n",
       "      <th>score</th>\n",
       "      <th>start</th>\n",
       "      <th>min</th>\n",
       "      <th>max</th>\n",
       "      <th>mean</th>\n",
       "      <th>median</th>\n",
       "      <th>std</th>\n",
       "      <th>warning_threshold</th>\n",
       "      <th>alert_threshold</th>\n",
       "      <th>status</th>\n",
       "    </tr>\n",
       "  </thead>\n",
       "  <tbody>\n",
       "    <tr>\n",
       "      <th>0</th>\n",
       "      <td>None</td>\n",
       "      <td>None</td>\n",
       "      <td>assays from date baseline</td>\n",
       "      <td></td>\n",
       "      <td>None</td>\n",
       "      <td></td>\n",
       "      <td>None</td>\n",
       "      <td>None</td>\n",
       "      <td>0.008605</td>\n",
       "      <td>2024-07-16T17:14:27.239563+00:00</td>\n",
       "      <td>2.362387e+05</td>\n",
       "      <td>1489624.250</td>\n",
       "      <td>5.127795e+05</td>\n",
       "      <td>4.486278e+05</td>\n",
       "      <td>226255.370366</td>\n",
       "      <td>None</td>\n",
       "      <td>0.25</td>\n",
       "      <td>Ok</td>\n",
       "    </tr>\n",
       "    <tr>\n",
       "      <th>1</th>\n",
       "      <td>None</td>\n",
       "      <td>None</td>\n",
       "      <td>assays from date baseline</td>\n",
       "      <td></td>\n",
       "      <td>None</td>\n",
       "      <td></td>\n",
       "      <td>None</td>\n",
       "      <td>None</td>\n",
       "      <td>8.868483</td>\n",
       "      <td>2024-07-16T17:16:27.239563+00:00</td>\n",
       "      <td>1.514079e+06</td>\n",
       "      <td>2016006.125</td>\n",
       "      <td>1.881163e+06</td>\n",
       "      <td>1.946438e+06</td>\n",
       "      <td>162405.590663</td>\n",
       "      <td>None</td>\n",
       "      <td>0.25</td>\n",
       "      <td>Alert</td>\n",
       "    </tr>\n",
       "  </tbody>\n",
       "</table>\n",
       "</div>"
      ],
      "text/plain": [
       "     id assay_id                 assay_name iopath pipeline_id pipeline_name  \\\n",
       "0  None     None  assays from date baseline               None                 \n",
       "1  None     None  assays from date baseline               None                 \n",
       "\n",
       "  workspace_id workspace_name     score                             start  \\\n",
       "0         None           None  0.008605  2024-07-16T17:14:27.239563+00:00   \n",
       "1         None           None  8.868483  2024-07-16T17:16:27.239563+00:00   \n",
       "\n",
       "            min          max          mean        median            std  \\\n",
       "0  2.362387e+05  1489624.250  5.127795e+05  4.486278e+05  226255.370366   \n",
       "1  1.514079e+06  2016006.125  1.881163e+06  1.946438e+06  162405.590663   \n",
       "\n",
       "  warning_threshold  alert_threshold status  \n",
       "0              None             0.25     Ok  \n",
       "1              None             0.25  Alert  "
      ]
     },
     "execution_count": 27,
     "metadata": {},
     "output_type": "execute_result"
    }
   ],
   "source": [
    "# Create the assay baseline\n",
    "assay_baseline = wl.build_assay(assay_name=\"assays from date baseline\", \n",
    "                                          pipeline=mainpipeline, \n",
    "                                          iopath=\"output variable 0\",\n",
    "                                          baseline_start=assay_baseline_start, \n",
    "                                          baseline_end=assay_baseline_end)\n",
    "\n",
    "\n",
    "# Set the assay parameters\n",
    "\n",
    "# The end date to gather inference results\n",
    "assay_baseline.add_run_until(datetime.datetime.now())\n",
    "\n",
    "# Set the interval and window to one minute each, set the start date for gathering inference results\n",
    "assay_baseline.window_builder().add_width(minutes=1).add_interval(minutes=1).add_start(assay_window_start)\n",
    "\n",
    "# build the assay configuration\n",
    "assay_config = assay_baseline.build()\n",
    "\n",
    "# perform an interactive run and collect inference data\n",
    "assay_results = assay_config.interactive_run()\n",
    "\n",
    "# display the dataframe from the analyses\n",
    "assay_results.to_dataframe()"
   ]
  },
  {
   "cell_type": "markdown",
   "metadata": {},
   "source": [
    "#### Analysis List Full DataFrame\n",
    "\n",
    "`wallaroo.assay.AssayAnalysisList.to_full_dataframe()` returns a DataFrame showing all values, including the inputs and outputs from the assay results for each window aka individual analysis.  This DataFrame contains the following fields:\n",
    "\n",
    "\n",
    "\tpipeline_id\twarning_threshold\tbin_index\tcreated_at\n",
    "\n",
    "\n",
    "| Field | Type | Description |\n",
    "|---|---|---|\n",
    "| **window_start** | *DateTime* | The date and time when the window period began. |\n",
    "| **analyzed_at** | *DateTime* | The date and time when the assay analysis was performed. |\n",
    "| **elapsed_millis** | *Integer* | How long the analysis took to perform in milliseconds. |\n",
    "| **baseline_summary_count** | *Integer* | The number of data elements from the baseline. |\n",
    "| **baseline_summary_min** | *Float* | The minimum value from the baseline summary. |\n",
    "| **baseline_summary_max** | *Float* | The maximum value from the baseline summary. |\n",
    "| **baseline_summary_mean** | *Float* | The mean value of the baseline summary. |\n",
    "| **baseline_summary_median** | *Float* | The median value of the baseline summary. |\n",
    "| **baseline_summary_std** | *Float* | The standard deviation value of the baseline summary. |\n",
    "| **baseline_summary_edges_{0...n}** | *Float* | The baseline summary edges for each baseline edge from 0 to number of edges. |\n",
    "| **summarizer_type** | *String* | The type of summarizer used for the baseline.  See [`wallaroo.assay_config` for other summarizer types](https://docs.wallaroo.ai/wallaroo-developer-guides/wallaroo-sdk-guides/wallaroo-sdk-reference-guide/assay_config/). |\n",
    "| **summarizer_bin_weights** | *List / None* | If baseline bin weights were provided, the list of those weights.  Otherwise, `None`. |\n",
    "| **summarizer_provided_edges** | *List / None* | If baseline bin edges were provided, the list of those edges.  Otherwise, `None`. |\n",
    "| **status** | *String* | The assay window status.  Values are:  <ul><li>`OK`: The score is within accepted thresholds.</li><li>`Warning`: The score has triggered the `warning_threshold` if exists, but not the `alert_threshold`.</li><li>`Alert`: The score has triggered the the `alert_threshold`.</li></ul> |\n",
    "| **id** | *Integer/None* | The id for the window aka analysis.  Only provided from uploaded and executed assays. |\n",
    "| **assay_id** | *Integer/None* | The assay id.  Only provided from uploaded and executed assays. |\n",
    "| **pipeline_id** | *Integer/None* | The pipeline id.  Only provided from uploaded and executed assays. |\n",
    "| **warning_threshold** | *Float* | The warning threshold set for the assay. |\n",
    "| **warning_threshold** | *Float* | The warning threshold set for the assay.\n",
    "| **bin_index** | *Integer/None* | The bin index for the window aka analysis.|\n",
    "| **created_at** | *Datetime/None* | The date and time the window aka analysis was generated.  Only provided from uploaded and executed assays. |\n",
    "\n",
    "For this example, full DataFrame from an assay preview is generated.\n",
    "\n",
    "From this tutorial, we should have 2 windows of dta to look at, each one minute apart.  The first window should show `status: OK`, with the second window with the very large house prices will show `status: alert`"
   ]
  },
  {
   "cell_type": "code",
   "execution_count": 28,
   "metadata": {},
   "outputs": [
    {
     "data": {
      "text/html": [
       "<div>\n",
       "<style scoped>\n",
       "    .dataframe tbody tr th:only-of-type {\n",
       "        vertical-align: middle;\n",
       "    }\n",
       "\n",
       "    .dataframe tbody tr th {\n",
       "        vertical-align: top;\n",
       "    }\n",
       "\n",
       "    .dataframe thead th {\n",
       "        text-align: right;\n",
       "    }\n",
       "</style>\n",
       "<table border=\"1\" class=\"dataframe\">\n",
       "  <thead>\n",
       "    <tr style=\"text-align: right;\">\n",
       "      <th></th>\n",
       "      <th>window_start</th>\n",
       "      <th>analyzed_at</th>\n",
       "      <th>elapsed_millis</th>\n",
       "      <th>baseline_summary_count</th>\n",
       "      <th>baseline_summary_min</th>\n",
       "      <th>baseline_summary_max</th>\n",
       "      <th>baseline_summary_mean</th>\n",
       "      <th>baseline_summary_median</th>\n",
       "      <th>baseline_summary_std</th>\n",
       "      <th>baseline_summary_edges_0</th>\n",
       "      <th>...</th>\n",
       "      <th>summarizer_provided_edges</th>\n",
       "      <th>status</th>\n",
       "      <th>id</th>\n",
       "      <th>assay_id</th>\n",
       "      <th>pipeline_id</th>\n",
       "      <th>workspace_id</th>\n",
       "      <th>workspace_name</th>\n",
       "      <th>warning_threshold</th>\n",
       "      <th>bin_index</th>\n",
       "      <th>created_at</th>\n",
       "    </tr>\n",
       "  </thead>\n",
       "  <tbody>\n",
       "    <tr>\n",
       "      <th>0</th>\n",
       "      <td>2024-07-16T17:14:27.239563+00:00</td>\n",
       "      <td>2024-07-16T17:17:49.440491+00:00</td>\n",
       "      <td>17</td>\n",
       "      <td>500</td>\n",
       "      <td>236238.671875</td>\n",
       "      <td>1295531.75</td>\n",
       "      <td>513781.205375</td>\n",
       "      <td>448627.8125</td>\n",
       "      <td>233066.759431</td>\n",
       "      <td>236238.671875</td>\n",
       "      <td>...</td>\n",
       "      <td>None</td>\n",
       "      <td>Ok</td>\n",
       "      <td>None</td>\n",
       "      <td>None</td>\n",
       "      <td>None</td>\n",
       "      <td>None</td>\n",
       "      <td>None</td>\n",
       "      <td>None</td>\n",
       "      <td>None</td>\n",
       "      <td>None</td>\n",
       "    </tr>\n",
       "    <tr>\n",
       "      <th>1</th>\n",
       "      <td>2024-07-16T17:16:27.239563+00:00</td>\n",
       "      <td>2024-07-16T17:17:49.440649+00:00</td>\n",
       "      <td>9</td>\n",
       "      <td>500</td>\n",
       "      <td>236238.671875</td>\n",
       "      <td>1295531.75</td>\n",
       "      <td>513781.205375</td>\n",
       "      <td>448627.8125</td>\n",
       "      <td>233066.759431</td>\n",
       "      <td>236238.671875</td>\n",
       "      <td>...</td>\n",
       "      <td>None</td>\n",
       "      <td>Alert</td>\n",
       "      <td>None</td>\n",
       "      <td>None</td>\n",
       "      <td>None</td>\n",
       "      <td>None</td>\n",
       "      <td>None</td>\n",
       "      <td>None</td>\n",
       "      <td>None</td>\n",
       "      <td>None</td>\n",
       "    </tr>\n",
       "  </tbody>\n",
       "</table>\n",
       "<p>2 rows × 88 columns</p>\n",
       "</div>"
      ],
      "text/plain": [
       "                       window_start                       analyzed_at  \\\n",
       "0  2024-07-16T17:14:27.239563+00:00  2024-07-16T17:17:49.440491+00:00   \n",
       "1  2024-07-16T17:16:27.239563+00:00  2024-07-16T17:17:49.440649+00:00   \n",
       "\n",
       "   elapsed_millis  baseline_summary_count  baseline_summary_min  \\\n",
       "0              17                     500         236238.671875   \n",
       "1               9                     500         236238.671875   \n",
       "\n",
       "   baseline_summary_max  baseline_summary_mean  baseline_summary_median  \\\n",
       "0            1295531.75          513781.205375              448627.8125   \n",
       "1            1295531.75          513781.205375              448627.8125   \n",
       "\n",
       "   baseline_summary_std  baseline_summary_edges_0  ...  \\\n",
       "0         233066.759431             236238.671875  ...   \n",
       "1         233066.759431             236238.671875  ...   \n",
       "\n",
       "   summarizer_provided_edges  status    id  assay_id  pipeline_id  \\\n",
       "0                       None      Ok  None      None         None   \n",
       "1                       None   Alert  None      None         None   \n",
       "\n",
       "  workspace_id workspace_name warning_threshold bin_index created_at  \n",
       "0         None           None              None      None       None  \n",
       "1         None           None              None      None       None  \n",
       "\n",
       "[2 rows x 88 columns]"
      ]
     },
     "execution_count": 28,
     "metadata": {},
     "output_type": "execute_result"
    }
   ],
   "source": [
    "# Create the assay baseline\n",
    "assay_baseline = wl.build_assay(assay_name=\"assays from date baseline\", \n",
    "                                          pipeline=mainpipeline, \n",
    "                                          iopath=\"output variable 0\",\n",
    "                                          baseline_start=assay_baseline_start, \n",
    "                                          baseline_end=assay_baseline_end)\n",
    "\n",
    "\n",
    "# Set the assay parameters\n",
    "\n",
    "# The end date to gather inference results\n",
    "assay_baseline.add_run_until(datetime.datetime.now())\n",
    "\n",
    "# Set the interval and window to one minute each, set the start date for gathering inference results\n",
    "assay_baseline.window_builder().add_width(minutes=1).add_interval(minutes=1).add_start(assay_window_start)\n",
    "\n",
    "# build the assay configuration\n",
    "assay_config = assay_baseline.build()\n",
    "\n",
    "# perform an interactive run and collect inference data\n",
    "assay_results = assay_config.interactive_run()\n",
    "\n",
    "# display the full dataframe from the analyses\n",
    "assay_results.to_full_dataframe()"
   ]
  },
  {
   "cell_type": "markdown",
   "metadata": {},
   "source": [
    "#### Analysis Compare Basic Stats\n",
    "\n",
    "The method `wallaroo.assay.AssayAnalysis.compare_basic_stats` returns a DataFrame comparing one set of inference data against the baseline.\n",
    "\n",
    "This is compared to the [Analysis List DataFrame](#analysis-list-dataframe), which is a **list** of all of the inference data split into intervals, while the **Analysis Compare Basic Stats** shows the breakdown of one set of inference data against the baseline."
   ]
  },
  {
   "cell_type": "code",
   "execution_count": 29,
   "metadata": {},
   "outputs": [
    {
     "data": {
      "text/html": [
       "<div>\n",
       "<style scoped>\n",
       "    .dataframe tbody tr th:only-of-type {\n",
       "        vertical-align: middle;\n",
       "    }\n",
       "\n",
       "    .dataframe tbody tr th {\n",
       "        vertical-align: top;\n",
       "    }\n",
       "\n",
       "    .dataframe thead th {\n",
       "        text-align: right;\n",
       "    }\n",
       "</style>\n",
       "<table border=\"1\" class=\"dataframe\">\n",
       "  <thead>\n",
       "    <tr style=\"text-align: right;\">\n",
       "      <th></th>\n",
       "      <th>Baseline</th>\n",
       "      <th>Window</th>\n",
       "      <th>diff</th>\n",
       "      <th>pct_diff</th>\n",
       "    </tr>\n",
       "  </thead>\n",
       "  <tbody>\n",
       "    <tr>\n",
       "      <th>count</th>\n",
       "      <td>500.0</td>\n",
       "      <td>1000.0</td>\n",
       "      <td>500.000000</td>\n",
       "      <td>100.000000</td>\n",
       "    </tr>\n",
       "    <tr>\n",
       "      <th>min</th>\n",
       "      <td>236238.671875</td>\n",
       "      <td>236238.671875</td>\n",
       "      <td>0.000000</td>\n",
       "      <td>0.000000</td>\n",
       "    </tr>\n",
       "    <tr>\n",
       "      <th>max</th>\n",
       "      <td>1295531.75</td>\n",
       "      <td>1489624.25</td>\n",
       "      <td>194092.500000</td>\n",
       "      <td>14.981686</td>\n",
       "    </tr>\n",
       "    <tr>\n",
       "      <th>mean</th>\n",
       "      <td>513781.205375</td>\n",
       "      <td>512779.469375</td>\n",
       "      <td>-1001.736000</td>\n",
       "      <td>-0.194973</td>\n",
       "    </tr>\n",
       "    <tr>\n",
       "      <th>median</th>\n",
       "      <td>448627.8125</td>\n",
       "      <td>448627.8125</td>\n",
       "      <td>0.000000</td>\n",
       "      <td>0.000000</td>\n",
       "    </tr>\n",
       "    <tr>\n",
       "      <th>std</th>\n",
       "      <td>233066.759431</td>\n",
       "      <td>226255.370366</td>\n",
       "      <td>-6811.389065</td>\n",
       "      <td>-2.922506</td>\n",
       "    </tr>\n",
       "    <tr>\n",
       "      <th>start</th>\n",
       "      <td>2024-07-16T17:12:27.123262+00:00</td>\n",
       "      <td>2024-07-16T17:14:27.239563+00:00</td>\n",
       "      <td>NaN</td>\n",
       "      <td>NaN</td>\n",
       "    </tr>\n",
       "    <tr>\n",
       "      <th>end</th>\n",
       "      <td>2024-07-16T17:13:27.222262+00:00</td>\n",
       "      <td>2024-07-16T17:15:27.239563+00:00</td>\n",
       "      <td>NaN</td>\n",
       "      <td>NaN</td>\n",
       "    </tr>\n",
       "  </tbody>\n",
       "</table>\n",
       "</div>"
      ],
      "text/plain": [
       "                                Baseline                            Window  \\\n",
       "count                              500.0                            1000.0   \n",
       "min                        236238.671875                     236238.671875   \n",
       "max                           1295531.75                        1489624.25   \n",
       "mean                       513781.205375                     512779.469375   \n",
       "median                       448627.8125                       448627.8125   \n",
       "std                        233066.759431                     226255.370366   \n",
       "start   2024-07-16T17:12:27.123262+00:00  2024-07-16T17:14:27.239563+00:00   \n",
       "end     2024-07-16T17:13:27.222262+00:00  2024-07-16T17:15:27.239563+00:00   \n",
       "\n",
       "                 diff    pct_diff  \n",
       "count      500.000000  100.000000  \n",
       "min          0.000000    0.000000  \n",
       "max     194092.500000   14.981686  \n",
       "mean     -1001.736000   -0.194973  \n",
       "median       0.000000    0.000000  \n",
       "std      -6811.389065   -2.922506  \n",
       "start             NaN         NaN  \n",
       "end               NaN         NaN  "
      ]
     },
     "execution_count": 29,
     "metadata": {},
     "output_type": "execute_result"
    }
   ],
   "source": [
    "# Create the assay baseline\n",
    "assay_baseline = wl.build_assay(assay_name=\"assays from date baseline\", \n",
    "                                          pipeline=mainpipeline, \n",
    "                                          iopath=\"output variable 0\",\n",
    "                                          baseline_start=assay_baseline_start, \n",
    "                                          baseline_end=assay_baseline_end)\n",
    "\n",
    "\n",
    "# Set the assay parameters\n",
    "\n",
    "# The end date to gather inference results\n",
    "assay_baseline.add_run_until(datetime.datetime.now())\n",
    "\n",
    "# Set the interval and window to one minute each, set the start date for gathering inference results\n",
    "assay_baseline.window_builder().add_width(minutes=1).add_interval(minutes=1).add_start(assay_window_start)\n",
    "\n",
    "# build the assay configuration\n",
    "assay_config = assay_baseline.build()\n",
    "\n",
    "# perform an interactive run and collect inference data\n",
    "assay_results = assay_config.interactive_run()\n",
    "\n",
    "# display one analysis against the baseline\n",
    "assay_results[0].compare_basic_stats()"
   ]
  },
  {
   "cell_type": "markdown",
   "metadata": {},
   "source": [
    "#### Configure Assays\n",
    "\n",
    "Before creating the assay, **configure** the assay and continue to preview it until the best method for detecting drift is set.  The following options are available."
   ]
  },
  {
   "cell_type": "markdown",
   "metadata": {},
   "source": [
    "##### Inference Interval and Inference Width\n",
    "\n",
    "The inference interval aka window interval sets how often to run the assay analysis.  This is set from the [`wallaroo.assay_config.AssayBuilder.window_builder.add_interval`](https://docs.wallaroo.ai/wallaroo-developer-guides/wallaroo-sdk-guides/wallaroo-sdk-reference-guide/assay_config/#WindowBuilder.add_interval) method to collect data expressed in time units:  \"hours=24\", \"minutes=1\", etc.\n",
    "\n",
    "For example, with an interval of 1 minute, the assay collects data every minute.  Within an hour, 60 intervals of data is collected.\n",
    "\n",
    "We can adjust the interval and see how the assays change based on how **frequently** they are run.\n",
    "\n",
    "The width sets the time period from the [`wallaroo.assay_config.AssayBuilder.window_builder.add_width`](/wallaroo-developer-guides/wallaroo-sdk-guides/wallaroo-sdk-reference-guide/assay_config/#WindowBuilder.add_width) method to collect data expressed in time units:  \"hours=24\", \"minutes=1\", etc.\n",
    "\n",
    "For example, an interval of 1 minute and a width of 1 minute collects 1 minutes worth of data every minute.  An interval of 1 minute with a width of 5 minutes collects 5 minute of inference data every minute.\n",
    "\n",
    "By default, the interval and width is **24 hours**.\n",
    "\n",
    "For this example, we'll adjust the width and interval from 1 minute to 5 minutes and see how the number of analyses and their score changes."
   ]
  },
  {
   "cell_type": "code",
   "execution_count": 30,
   "metadata": {},
   "outputs": [
    {
     "data": {
      "image/png": "[encoded data removed]",
      "text/plain": [
       "<Figure size 432x288 with 1 Axes>"
      ]
     },
     "metadata": {
      "needs_background": "light"
     },
     "output_type": "display_data"
    }
   ],
   "source": [
    "# Create the assay baseline\n",
    "assay_baseline = wl.build_assay(assay_name=\"assays from date baseline\", \n",
    "                                          pipeline=mainpipeline, \n",
    "                                          iopath=\"output variable 0\",\n",
    "                                          baseline_start=assay_baseline_start, \n",
    "                                          baseline_end=assay_baseline_end)\n",
    "\n",
    "\n",
    "# Set the assay parameters\n",
    "\n",
    "# The end date to gather inference results\n",
    "assay_baseline.add_run_until(datetime.datetime.now())\n",
    "\n",
    "# Set the interval and window to one minute each, set the start date for gathering inference results\n",
    "assay_baseline.window_builder().add_width(minutes=1).add_interval(minutes=1).add_start(assay_window_start)\n",
    "\n",
    "\n",
    "# build the assay configuration\n",
    "assay_config = assay_baseline.build()\n",
    "\n",
    "# perform an interactive run and collect inference data\n",
    "assay_results = assay_config.interactive_run()\n",
    "\n",
    "# show the analyses chart\n",
    "assay_results.chart_scores()"
   ]
  },
  {
   "cell_type": "code",
   "execution_count": 47,
   "metadata": {},
   "outputs": [
    {
     "data": {
      "image/png": "[encoded data removed]",
      "text/plain": [
       "<Figure size 432x288 with 1 Axes>"
      ]
     },
     "metadata": {
      "needs_background": "light"
     },
     "output_type": "display_data"
    }
   ],
   "source": [
    "# Create the assay baseline\n",
    "assay_baseline = wl.build_assay(assay_name=\"assays from date baseline\", \n",
    "                                          pipeline=mainpipeline, \n",
    "                                          iopath=\"output variable 0\",\n",
    "                                          baseline_start=assay_baseline_start, \n",
    "                                          baseline_end=assay_baseline_end)\n",
    "\n",
    "\n",
    "# Set the assay parameters\n",
    "\n",
    "# The end date to gather inference results\n",
    "assay_baseline.add_run_until(datetime.datetime.now())\n",
    "\n",
    "# Set the interval and window to five minutes each, set the start date for gathering inference results\n",
    "assay_baseline.window_builder().add_width(minutes=5).add_interval(minutes=5).add_start(assay_window_start)\n",
    "\n",
    "# build the assay configuration\n",
    "assay_config = assay_baseline.build()\n",
    "\n",
    "# perform an interactive run and collect inference data\n",
    "assay_results = assay_config.interactive_run()\n",
    "\n",
    "# show the analyses chart\n",
    "assay_results.chart_scores()"
   ]
  },
  {
   "cell_type": "markdown",
   "metadata": {},
   "source": [
    "##### Add Run Until and Add Inference Start\n",
    "\n",
    "For previewing assays, setting [`wallaroo.assay_config.AssayBuilder.add_run_until`](https://docs.wallaroo.ai/wallaroo-developer-guides/wallaroo-sdk-guides/wallaroo-sdk-reference-guide/assay_config/#AssayBuilder.add_run_until) sets the **end date and time** for collecting inference data.  When an assay is uploaded, this setting is no longer valid - assays run at the [Inference Interval](#inference-interval-and-inference-width) until the [assay is paused](#pause-and-resume-assay).\n",
    "\n",
    "Setting the [`wallaroo.assay_config.WindowBuilder.add_start`](https://docs.wallaroo.ai/wallaroo-developer-guides/wallaroo-sdk-guides/wallaroo-sdk-reference-guide/assay_config/#WindowBuilder.add_start) sets the **start date and time** to collect inference data.   When an assay is uploaded, this setting **is included**, and assay results will be displayed starting from that start date at the [Inference Interval](#inference-interval-and-inference-width) until the [assay is paused](#pause-and-resume-assay).  By default, `add_start` begins 24 hours after the assay is uploaded unless set in the assay configuration manually.\n",
    "\n",
    "For the following example, the `add_run_until` setting is set to `datetime.datetime.now()` to collect all inference data from `assay_window_start` up until now, and the second example limits that example to only two minutes of data."
   ]
  },
  {
   "cell_type": "code",
   "execution_count": 48,
   "metadata": {},
   "outputs": [
    {
     "data": {
      "image/png": "[encoded data removed]",
      "text/plain": [
       "<Figure size 432x288 with 1 Axes>"
      ]
     },
     "metadata": {
      "needs_background": "light"
     },
     "output_type": "display_data"
    }
   ],
   "source": [
    "# Create the assay baseline\n",
    "assay_baseline = wl.build_assay(assay_name=\"assays from date baseline\", \n",
    "                                          pipeline=mainpipeline, \n",
    "                                          iopath=\"output variable 0\",\n",
    "                                          baseline_start=assay_baseline_start, \n",
    "                                          baseline_end=assay_baseline_end)\n",
    "\n",
    "\n",
    "# Set the assay parameters\n",
    "\n",
    "# The end date to gather inference results\n",
    "assay_baseline.add_run_until(datetime.datetime.now())\n",
    "\n",
    "# Set the interval and window to one minute each, set the start date for gathering inference results, minus 2 minutes for the period to start gathering analyses\n",
    "assay_baseline.window_builder().add_width(minutes=1).add_interval(minutes=1).add_start(assay_window_start+datetime.timedelta(seconds=-120))\n",
    "\n",
    "\n",
    "# build the assay configuration\n",
    "assay_config = assay_baseline.build()\n",
    "\n",
    "# perform an interactive run and collect inference data\n",
    "assay_results = assay_config.interactive_run()\n",
    "\n",
    "# show the analyses chart\n",
    "assay_results.chart_scores()"
   ]
  },
  {
   "cell_type": "code",
   "execution_count": 49,
   "metadata": {},
   "outputs": [
    {
     "data": {
      "image/png": "[encoded data removed]",
      "text/plain": [
       "<Figure size 432x288 with 1 Axes>"
      ]
     },
     "metadata": {
      "needs_background": "light"
     },
     "output_type": "display_data"
    }
   ],
   "source": [
    "# Create the assay baseline\n",
    "assay_baseline = wl.build_assay(assay_name=\"assays from date baseline\", \n",
    "                                          pipeline=mainpipeline, \n",
    "                                          iopath=\"output variable 0\",\n",
    "                                          baseline_start=assay_baseline_start, \n",
    "                                          baseline_end=assay_baseline_end)\n",
    "\n",
    "\n",
    "# Set the assay parameters\n",
    "\n",
    "# The end date to gather inference results plus 2 minutes \n",
    "assay_baseline_from_dates.add_run_until(assay_window_start+datetime.timedelta(seconds=120))\n",
    "\n",
    "# Set the interval and window to one minute each\n",
    "assay_baseline.window_builder().add_width(minutes=1).add_interval(minutes=1).add_start(assay_window_start)\n",
    "\n",
    "\n",
    "# build the assay configuration\n",
    "assay_config = assay_baseline.build()\n",
    "\n",
    "# perform an interactive run and collect inference data\n",
    "assay_results = assay_config.interactive_run()\n",
    "\n",
    "# show the analyses chart\n",
    "assay_results.chart_scores()"
   ]
  },
  {
   "cell_type": "markdown",
   "metadata": {},
   "source": [
    "##### Score Metric\n",
    "\n",
    "The `score` is a distance between the baseline and the analysis window.  The larger the score, the greater the difference between the baseline and the analysis window.  The following methods are provided determining the score:\n",
    "\n",
    "* `PSI` (*Default*) - Population Stability Index (PSI).\n",
    "* `MAXDIFF`: Maximum difference between corresponding bins.\n",
    "* `SUMDIFF`: Mum of differences between corresponding bins.\n",
    "\n",
    "The metric type used is updated with the [`wallaroo.assay_config.AssayBuilder.add_metric(metric: wallaroo.assay_config.Metric)`](https://docs.wallaroo.ai/wallaroo-developer-guides/wallaroo-sdk-guides/wallaroo-sdk-reference-guide/assay_config/#UnivariateContinousSummarizerBuilder.add_metric) method.\n",
    "\n",
    "The following three charts use each of the metrics.  Note how the scores change based on the score type used."
   ]
  },
  {
   "cell_type": "code",
   "execution_count": 50,
   "metadata": {},
   "outputs": [
    {
     "name": "stdout",
     "output_type": "stream",
     "text": [
      "baseline mean = 513781.205375\n",
      "window mean = 512779.469375\n",
      "baseline median = 448627.8125\n",
      "window median = 448627.8125\n",
      "bin_mode = Quantile\n",
      "aggregation = Density\n",
      "metric = PSI\n",
      "weighted = False\n",
      "score = 0.008604680420075936\n",
      "scores = [0.0, 0.001015989699687698, 0.0009472210786334042, 0.0033382848156130714, 0.002503651312977887, 0.0001265890399214496, 0.0006729444732424258]\n",
      "index = None\n"
     ]
    },
    {
     "data": {
      "image/png": "[encoded data removed]",
      "text/plain": [
       "<Figure size 432x288 with 1 Axes>"
      ]
     },
     "metadata": {
      "needs_background": "light"
     },
     "output_type": "display_data"
    }
   ],
   "source": [
    "# Create the assay baseline\n",
    "assay_baseline = wl.build_assay(assay_name=\"assays from date baseline\", \n",
    "                                          pipeline=mainpipeline, \n",
    "                                          iopath=\"output variable 0\",\n",
    "                                          baseline_start=assay_baseline_start, \n",
    "                                          baseline_end=assay_baseline_end)\n",
    "\n",
    "\n",
    "# Set the assay parameters\n",
    "\n",
    "# The end date to gather inference results\n",
    "assay_baseline.add_run_until(datetime.datetime.now())\n",
    "\n",
    "# Set the interval and window to one minute each, set the start date for gathering inference results\n",
    "assay_baseline.window_builder().add_width(minutes=1).add_interval(minutes=1).add_start(assay_window_start)\n",
    "\n",
    "# set metric PSI mode\n",
    "assay_baseline.summarizer_builder.add_metric(wallaroo.assay_config.Metric.PSI)\n",
    "\n",
    "\n",
    "# build the assay configuration\n",
    "assay_config = assay_baseline.build()\n",
    "\n",
    "# perform an interactive run and collect inference data\n",
    "assay_results = assay_config.interactive_run()\n",
    "\n",
    "# display one analysis from the results\n",
    "assay_results[0].chart()"
   ]
  },
  {
   "cell_type": "code",
   "execution_count": 51,
   "metadata": {},
   "outputs": [
    {
     "name": "stdout",
     "output_type": "stream",
     "text": [
      "baseline mean = 513781.205375\n",
      "window mean = 512779.469375\n",
      "baseline median = 448627.8125\n",
      "window median = 448627.8125\n",
      "bin_mode = Quantile\n",
      "aggregation = Density\n",
      "metric = MaxDiff\n",
      "weighted = False\n",
      "score = 0.025000000000000026\n",
      "scores = [0.0, 0.014000000000000012, 0.013999999999999985, 0.025000000000000026, 0.022999999999999993, 0.0050000000000000044, 0.007]\n",
      "index = 3\n"
     ]
    },
    {
     "data": {
      "image/png": "[encoded data removed]",
      "text/plain": [
       "<Figure size 432x288 with 1 Axes>"
      ]
     },
     "metadata": {
      "needs_background": "light"
     },
     "output_type": "display_data"
    }
   ],
   "source": [
    "# Create the assay baseline\n",
    "assay_baseline = wl.build_assay(assay_name=\"assays from date baseline\", \n",
    "                                          pipeline=mainpipeline, \n",
    "                                          iopath=\"output variable 0\",\n",
    "                                          baseline_start=assay_baseline_start, \n",
    "                                          baseline_end=assay_baseline_end)\n",
    "\n",
    "\n",
    "# Set the assay parameters\n",
    "\n",
    "# The end date to gather inference results\n",
    "assay_baseline.add_run_until(datetime.datetime.now())\n",
    "\n",
    "# Set the interval and window to one minute each, set the start date for gathering inference results\n",
    "assay_baseline.window_builder().add_width(minutes=1).add_interval(minutes=1).add_start(assay_window_start)\n",
    "\n",
    "# set metric MAXDIFF mode\n",
    "assay_baseline.summarizer_builder.add_metric(wallaroo.assay_config.Metric.MAXDIFF)\n",
    "\n",
    "# build the assay configuration\n",
    "assay_config = assay_baseline.build()\n",
    "\n",
    "# perform an interactive run and collect inference data\n",
    "assay_results = assay_config.interactive_run()\n",
    "\n",
    "# display one analysis from the results\n",
    "assay_results[0].chart()"
   ]
  },
  {
   "cell_type": "code",
   "execution_count": 52,
   "metadata": {},
   "outputs": [
    {
     "name": "stdout",
     "output_type": "stream",
     "text": [
      "baseline mean = 513781.205375\n",
      "window mean = 512779.469375\n",
      "baseline median = 448627.8125\n",
      "window median = 448627.8125\n",
      "bin_mode = Quantile\n",
      "aggregation = Density\n",
      "metric = SumDiff\n",
      "weighted = False\n",
      "score = 0.04400000000000001\n",
      "scores = [0.0, 0.014000000000000012, 0.013999999999999985, 0.025000000000000026, 0.022999999999999993, 0.0050000000000000044, 0.007]\n",
      "index = None\n"
     ]
    },
    {
     "data": {
      "image/png": "[encoded data removed]",
      "text/plain": [
       "<Figure size 432x288 with 1 Axes>"
      ]
     },
     "metadata": {
      "needs_background": "light"
     },
     "output_type": "display_data"
    }
   ],
   "source": [
    "# Create the assay baseline\n",
    "assay_baseline = wl.build_assay(assay_name=\"assays from date baseline\", \n",
    "                                          pipeline=mainpipeline, \n",
    "                                          iopath=\"output variable 0\",\n",
    "                                          baseline_start=assay_baseline_start, \n",
    "                                          baseline_end=assay_baseline_end)\n",
    "\n",
    "\n",
    "# Set the assay parameters\n",
    "\n",
    "# The end date to gather inference results\n",
    "assay_baseline.add_run_until(datetime.datetime.now())\n",
    "\n",
    "# Set the interval and window to one minute each, set the start date for gathering inference results\n",
    "assay_baseline.window_builder().add_width(minutes=1).add_interval(minutes=1).add_start(assay_window_start)\n",
    "\n",
    "# set metric SUMDIFF mode\n",
    "assay_baseline.summarizer_builder.add_metric(wallaroo.assay_config.Metric.SUMDIFF)\n",
    "\n",
    "# build the assay configuration\n",
    "assay_config = assay_baseline.build()\n",
    "\n",
    "# perform an interactive run and collect inference data\n",
    "assay_results = assay_config.interactive_run()\n",
    "\n",
    "# display one analysis from the results\n",
    "assay_results[0].chart()"
   ]
  },
  {
   "cell_type": "markdown",
   "metadata": {},
   "source": [
    "##### Alert Threshold\n",
    "\n",
    "Assay alert thresholds are modified with the [`wallaroo.assay_config.AssayBuilder.add_alert_threshold(alert_threshold: float)`](https://docs.wallaroo.ai/wallaroo-developer-guides/wallaroo-sdk-guides/wallaroo-sdk-reference-guide/assay_config/) method.  By default alert thresholds are `0.1`.\n",
    "\n",
    "The following example updates the alert threshold to `0.5`."
   ]
  },
  {
   "cell_type": "code",
   "execution_count": 53,
   "metadata": {},
   "outputs": [
    {
     "data": {
      "text/html": [
       "<div>\n",
       "<style scoped>\n",
       "    .dataframe tbody tr th:only-of-type {\n",
       "        vertical-align: middle;\n",
       "    }\n",
       "\n",
       "    .dataframe tbody tr th {\n",
       "        vertical-align: top;\n",
       "    }\n",
       "\n",
       "    .dataframe thead th {\n",
       "        text-align: right;\n",
       "    }\n",
       "</style>\n",
       "<table border=\"1\" class=\"dataframe\">\n",
       "  <thead>\n",
       "    <tr style=\"text-align: right;\">\n",
       "      <th></th>\n",
       "      <th>id</th>\n",
       "      <th>assay_id</th>\n",
       "      <th>assay_name</th>\n",
       "      <th>iopath</th>\n",
       "      <th>pipeline_id</th>\n",
       "      <th>pipeline_name</th>\n",
       "      <th>workspace_id</th>\n",
       "      <th>workspace_name</th>\n",
       "      <th>score</th>\n",
       "      <th>start</th>\n",
       "      <th>min</th>\n",
       "      <th>max</th>\n",
       "      <th>mean</th>\n",
       "      <th>median</th>\n",
       "      <th>std</th>\n",
       "      <th>warning_threshold</th>\n",
       "      <th>alert_threshold</th>\n",
       "      <th>status</th>\n",
       "    </tr>\n",
       "  </thead>\n",
       "  <tbody>\n",
       "    <tr>\n",
       "      <th>0</th>\n",
       "      <td>None</td>\n",
       "      <td>None</td>\n",
       "      <td>assays from date baseline</td>\n",
       "      <td></td>\n",
       "      <td>None</td>\n",
       "      <td></td>\n",
       "      <td>None</td>\n",
       "      <td>None</td>\n",
       "      <td>0.008605</td>\n",
       "      <td>2024-07-16T17:14:27.239563+00:00</td>\n",
       "      <td>2.362387e+05</td>\n",
       "      <td>1489624.250</td>\n",
       "      <td>5.127795e+05</td>\n",
       "      <td>4.486278e+05</td>\n",
       "      <td>226255.370366</td>\n",
       "      <td>None</td>\n",
       "      <td>0.5</td>\n",
       "      <td>Ok</td>\n",
       "    </tr>\n",
       "    <tr>\n",
       "      <th>1</th>\n",
       "      <td>None</td>\n",
       "      <td>None</td>\n",
       "      <td>assays from date baseline</td>\n",
       "      <td></td>\n",
       "      <td>None</td>\n",
       "      <td></td>\n",
       "      <td>None</td>\n",
       "      <td>None</td>\n",
       "      <td>8.868483</td>\n",
       "      <td>2024-07-16T17:16:27.239563+00:00</td>\n",
       "      <td>1.514079e+06</td>\n",
       "      <td>2016006.125</td>\n",
       "      <td>1.881163e+06</td>\n",
       "      <td>1.946438e+06</td>\n",
       "      <td>162405.590663</td>\n",
       "      <td>None</td>\n",
       "      <td>0.5</td>\n",
       "      <td>Alert</td>\n",
       "    </tr>\n",
       "  </tbody>\n",
       "</table>\n",
       "</div>"
      ],
      "text/plain": [
       "     id assay_id                 assay_name iopath pipeline_id pipeline_name  \\\n",
       "0  None     None  assays from date baseline               None                 \n",
       "1  None     None  assays from date baseline               None                 \n",
       "\n",
       "  workspace_id workspace_name     score                             start  \\\n",
       "0         None           None  0.008605  2024-07-16T17:14:27.239563+00:00   \n",
       "1         None           None  8.868483  2024-07-16T17:16:27.239563+00:00   \n",
       "\n",
       "            min          max          mean        median            std  \\\n",
       "0  2.362387e+05  1489624.250  5.127795e+05  4.486278e+05  226255.370366   \n",
       "1  1.514079e+06  2016006.125  1.881163e+06  1.946438e+06  162405.590663   \n",
       "\n",
       "  warning_threshold  alert_threshold status  \n",
       "0              None              0.5     Ok  \n",
       "1              None              0.5  Alert  "
      ]
     },
     "execution_count": 53,
     "metadata": {},
     "output_type": "execute_result"
    }
   ],
   "source": [
    "# Create the assay baseline\n",
    "assay_baseline = wl.build_assay(assay_name=\"assays from date baseline\", \n",
    "                                          pipeline=mainpipeline, \n",
    "                                          iopath=\"output variable 0\",\n",
    "                                          baseline_start=assay_baseline_start, \n",
    "                                          baseline_end=assay_baseline_end)\n",
    "\n",
    "\n",
    "# Set the assay parameters\n",
    "\n",
    "# The end date to gather inference results\n",
    "assay_baseline.add_run_until(datetime.datetime.now())\n",
    "\n",
    "# Set the interval and window to one minute each, set the start date for gathering inference results\n",
    "assay_baseline.window_builder().add_width(minutes=1).add_interval(minutes=1).add_start(assay_window_start)\n",
    "\n",
    "# set the alert threshold\n",
    "assay_baseline.add_alert_threshold(0.5)\n",
    "\n",
    "# build the assay configuration\n",
    "assay_config = assay_baseline.build()\n",
    "\n",
    "# perform an interactive run and collect inference data\n",
    "assay_results = assay_config.interactive_run()\n",
    "\n",
    "# show the analyses with the alert threshold\n",
    "assay_results.to_dataframe()"
   ]
  },
  {
   "cell_type": "markdown",
   "metadata": {},
   "source": [
    "##### Number of Bins\n",
    "\n",
    "Number of bins sets how the baseline data is partitioned.  The total number of bins includes the set number plus the left_outlier and the right_outlier, so the total number of bins will be the total set + 2.\n",
    "\n",
    "The number of bins is set with the [`wallaroo.assay_config.UnivariateContinousSummarizerBuilder.add_num_bins(num_bins: int)`](https://docs.wallaroo.ai/wallaroo-developer-guides/wallaroo-sdk-guides/wallaroo-sdk-reference-guide/assay_config/#UnivariateContinousSummarizerBuilder.add_num_bins) method."
   ]
  },
  {
   "cell_type": "code",
   "execution_count": 54,
   "metadata": {},
   "outputs": [
    {
     "name": "stdout",
     "output_type": "stream",
     "text": [
      "baseline mean = 513781.205375\n",
      "window mean = 512779.469375\n",
      "baseline median = 448627.8125\n",
      "window median = 448627.8125\n",
      "bin_mode = Quantile\n",
      "aggregation = Density\n",
      "metric = PSI\n",
      "weighted = False\n",
      "score = 0.049245130581621346\n",
      "scores = [0.0, 0.0071920518112945295, 0.0011479601685666688, 0.00024635524503391294, 0.003431094801012864, 0.0005425807707100881, 0.0041791943627767685, 0.016044296997867993, 0.00495016900394247, 0.00364643113587909, 0.0071920518112945295, 0.0006729444732424258]\n",
      "index = None\n"
     ]
    },
    {
     "data": {
      "image/png": "[encoded data removed]",
      "text/plain": [
       "<Figure size 432x288 with 1 Axes>"
      ]
     },
     "metadata": {
      "needs_background": "light"
     },
     "output_type": "display_data"
    }
   ],
   "source": [
    "# Create the assay baseline\n",
    "assay_baseline = wl.build_assay(assay_name=\"assays from date baseline\", \n",
    "                                          pipeline=mainpipeline, \n",
    "                                          iopath=\"output variable 0\",\n",
    "                                          baseline_start=assay_baseline_start, \n",
    "                                          baseline_end=assay_baseline_end)\n",
    "\n",
    "\n",
    "# Set the assay parameters\n",
    "\n",
    "# The end date to gather inference results\n",
    "assay_baseline.add_run_until(datetime.datetime.now())\n",
    "\n",
    "# Set the interval and window to one minute each, set the start date for gathering inference results\n",
    "assay_baseline.window_builder().add_width(minutes=1).add_interval(minutes=1).add_start(assay_window_start)\n",
    "\n",
    "# update number of bins here\n",
    "assay_baseline.summarizer_builder.add_num_bins(10)\n",
    "\n",
    "# build the assay configuration\n",
    "assay_config = assay_baseline.build()\n",
    "\n",
    "# perform an interactive run and collect inference data\n",
    "assay_results = assay_config.interactive_run()\n",
    "\n",
    "# show one analysis with the updated bins\n",
    "assay_results[0].chart()"
   ]
  },
  {
   "cell_type": "markdown",
   "metadata": {},
   "source": [
    "##### Binning Mode\n",
    "\n",
    "Binning Mode defines how the bins are separated.  Binning modes are modified through the `wallaroo.assay_config.UnivariateContinousSummarizerBuilder.add_bin_mode(bin_mode: bin_mode: wallaroo.assay_config.BinMode, edges: Optional[List[float]] = None)`.\n",
    "\n",
    "Available `bin_mode` values from `wallaroo.assay_config.Binmode` are the following:\n",
    "\n",
    "* `QUANTILE` (*Default*): Based on percentages. If `num_bins` is 5 then quintiles so bins are created at the 20%, 40%, 60%, 80% and 100% points.\n",
    "* `EQUAL`: Evenly spaced bins where each bin is set with the formula `min - max / num_bins`\n",
    "* `PROVIDED`: The user provides the edge points for the bins.\n",
    "\n",
    "If `PROVIDED` is supplied, then a List of float values must be provided for the `edges` parameter that matches the number of bins.\n",
    "\n",
    "The following examples are used to show how each of the binning modes effects the bins."
   ]
  },
  {
   "cell_type": "code",
   "execution_count": 55,
   "metadata": {},
   "outputs": [
    {
     "name": "stdout",
     "output_type": "stream",
     "text": [
      "baseline mean = 513781.205375\n",
      "window mean = 512779.469375\n",
      "baseline median = 448627.8125\n",
      "window median = 448627.8125\n",
      "bin_mode = Quantile\n",
      "aggregation = Density\n",
      "metric = PSI\n",
      "weighted = False\n",
      "score = 0.008604680420075936\n",
      "scores = [0.0, 0.001015989699687698, 0.0009472210786334042, 0.0033382848156130714, 0.002503651312977887, 0.0001265890399214496, 0.0006729444732424258]\n",
      "index = None\n"
     ]
    },
    {
     "data": {
      "image/png": "[encoded data removed]",
      "text/plain": [
       "<Figure size 432x288 with 1 Axes>"
      ]
     },
     "metadata": {
      "needs_background": "light"
     },
     "output_type": "display_data"
    }
   ],
   "source": [
    "# Create the assay baseline\n",
    "assay_baseline = wl.build_assay(assay_name=\"assays from date baseline\", \n",
    "                                          pipeline=mainpipeline, \n",
    "                                          iopath=\"output variable 0\",\n",
    "                                          baseline_start=assay_baseline_start, \n",
    "                                          baseline_end=assay_baseline_end)\n",
    "\n",
    "\n",
    "# Set the assay parameters\n",
    "\n",
    "# The end date to gather inference results\n",
    "assay_baseline.add_run_until(datetime.datetime.now())\n",
    "\n",
    "# Set the interval and window to one minute each, set the start date for gathering inference results\n",
    "assay_baseline.window_builder().add_width(minutes=1).add_interval(minutes=1).add_start(assay_window_start)\n",
    "\n",
    "# update binning mode here\n",
    "assay_baseline.summarizer_builder.add_bin_mode(wallaroo.assay_config.BinMode.QUANTILE)\n",
    "\n",
    "# build the assay configuration\n",
    "assay_config = assay_baseline.build()\n",
    "\n",
    "# perform an interactive run and collect inference data\n",
    "assay_results = assay_config.interactive_run()\n",
    "\n",
    "# show one analysis with the updated bins\n",
    "assay_results[0].chart()"
   ]
  },
  {
   "cell_type": "code",
   "execution_count": 56,
   "metadata": {},
   "outputs": [
    {
     "name": "stdout",
     "output_type": "stream",
     "text": [
      "baseline mean = 513781.205375\n",
      "window mean = 512779.469375\n",
      "baseline median = 448627.8125\n",
      "window median = 448627.8125\n",
      "bin_mode = Equal\n",
      "aggregation = Density\n",
      "metric = PSI\n",
      "weighted = False\n",
      "score = 0.014403886718133243\n",
      "scores = [0.0, 2.0986366569212073e-06, 0.000233593237538099, 0.001922311458522506, 0.009091699485742576, 0.002481239426430717, 0.0006729444732424258]\n",
      "index = None\n"
     ]
    },
    {
     "data": {
      "image/png": "[encoded data removed]",
      "text/plain": [
       "<Figure size 432x288 with 1 Axes>"
      ]
     },
     "metadata": {
      "needs_background": "light"
     },
     "output_type": "display_data"
    }
   ],
   "source": [
    "# Create the assay baseline\n",
    "assay_baseline = wl.build_assay(assay_name=\"assays from date baseline\", \n",
    "                                          pipeline=mainpipeline, \n",
    "                                          iopath=\"output variable 0\",\n",
    "                                          baseline_start=assay_baseline_start, \n",
    "                                          baseline_end=assay_baseline_end)\n",
    "\n",
    "\n",
    "# Set the assay parameters\n",
    "\n",
    "# The end date to gather inference results\n",
    "assay_baseline.add_run_until(datetime.datetime.now())\n",
    "\n",
    "# Set the interval and window to one minute each, set the start date for gathering inference results\n",
    "assay_baseline.window_builder().add_width(minutes=1).add_interval(minutes=1).add_start(assay_window_start)\n",
    "\n",
    "# update binning mode here\n",
    "assay_baseline.summarizer_builder.add_bin_mode(wallaroo.assay_config.BinMode.EQUAL)\n",
    "\n",
    "# build the assay configuration\n",
    "assay_config = assay_baseline.build()\n",
    "\n",
    "# perform an interactive run and collect inference data\n",
    "assay_results = assay_config.interactive_run()\n",
    "\n",
    "# show one analysis with the updated bins\n",
    "assay_results[0].chart()"
   ]
  },
  {
   "cell_type": "markdown",
   "metadata": {},
   "source": [
    "The following example manually sets the bin values.\n",
    "\n",
    "The values in this dataset run from 200000 to 1500000. We can specify the bins with the `BinMode.PROVIDED` and specifying a list of floats with the right hand / upper edge of each bin and optionally the lower edge of the smallest bin. If the lowest edge is not specified the threshold for left outliers is taken from the smallest value in the baseline dataset."
   ]
  },
  {
   "cell_type": "code",
   "execution_count": 57,
   "metadata": {},
   "outputs": [
    {
     "name": "stdout",
     "output_type": "stream",
     "text": [
      "baseline mean = 513781.205375\n",
      "window mean = 512779.469375\n",
      "baseline median = 448627.8125\n",
      "window median = 448627.8125\n",
      "bin_mode = Provided\n",
      "aggregation = Density\n",
      "metric = PSI\n",
      "weighted = False\n",
      "score = 0.005462658417539512\n",
      "scores = [0.0, 0.0002882043853549172, 0.0017843411661165069, 5.438215377767015e-05, 0.003335730712290418, 0.0, 0.0]\n",
      "index = None\n"
     ]
    },
    {
     "data": {
      "image/png": "[encoded data removed]",
      "text/plain": [
       "<Figure size 432x288 with 1 Axes>"
      ]
     },
     "metadata": {
      "needs_background": "light"
     },
     "output_type": "display_data"
    }
   ],
   "source": [
    "# Create the assay baseline\n",
    "assay_baseline = wl.build_assay(assay_name=\"assays from date baseline\", \n",
    "                                          pipeline=mainpipeline, \n",
    "                                          iopath=\"output variable 0\",\n",
    "                                          baseline_start=assay_baseline_start, \n",
    "                                          baseline_end=assay_baseline_end)\n",
    "\n",
    "\n",
    "# Set the assay parameters\n",
    "\n",
    "# The end date to gather inference results\n",
    "assay_baseline.add_run_until(datetime.datetime.now())\n",
    "\n",
    "# Set the interval and window to one minute each, set the start date for gathering inference results\n",
    "assay_baseline.window_builder().add_width(minutes=1).add_interval(minutes=1).add_start(assay_window_start)\n",
    "\n",
    "edges = [200000.0, 400000.0, 600000.0, 800000.0, 1500000.0, 2000000.0]\n",
    "\n",
    "# update binning mode here\n",
    "assay_baseline.summarizer_builder.add_bin_mode(wallaroo.assay_config.BinMode.PROVIDED, edges)\n",
    "\n",
    "# build the assay configuration\n",
    "assay_config = assay_baseline.build()\n",
    "\n",
    "# perform an interactive run and collect inference data\n",
    "assay_results = assay_config.interactive_run()\n",
    "\n",
    "# show one analysis with the updated bins\n",
    "assay_results[0].chart()"
   ]
  },
  {
   "cell_type": "markdown",
   "metadata": {},
   "source": [
    "##### Aggregation Options\n",
    "\n",
    "Assay aggregation options are modified with the [`wallaroo.assay_config.AssayBuilder.add_aggregation(aggregation: wallaroo.assay_config.Aggregation)`](https://docs.wallaroo.ai/wallaroo-developer-guides/wallaroo-sdk-guides/wallaroo-sdk-reference-guide/assay_config/#UnivariateContinousSummarizerBuilder.add_aggregation) method.  The following options are provided:\n",
    "\n",
    "* `Aggregation.DENSITY` (*Default*): Count the number/percentage of values that fall in each bin. \n",
    "* `Aggregation.CUMULATIVE`: Empirical Cumulative Density Function style, which keeps a cumulative count of the values/percentages that fall in each bin.\n",
    "\n",
    "The following example demonstrate the different results between the two."
   ]
  },
  {
   "cell_type": "code",
   "execution_count": 58,
   "metadata": {},
   "outputs": [
    {
     "name": "stdout",
     "output_type": "stream",
     "text": [
      "baseline mean = 513781.205375\n",
      "window mean = 512779.469375\n",
      "baseline median = 448627.8125\n",
      "window median = 448627.8125\n",
      "bin_mode = Quantile\n",
      "aggregation = Density\n",
      "metric = PSI\n",
      "weighted = False\n",
      "score = 0.008604680420075936\n",
      "scores = [0.0, 0.001015989699687698, 0.0009472210786334042, 0.0033382848156130714, 0.002503651312977887, 0.0001265890399214496, 0.0006729444732424258]\n",
      "index = None\n"
     ]
    },
    {
     "data": {
      "image/png": "[encoded data removed]",
      "text/plain": [
       "<Figure size 432x288 with 1 Axes>"
      ]
     },
     "metadata": {
      "needs_background": "light"
     },
     "output_type": "display_data"
    }
   ],
   "source": [
    "# Create the assay baseline\n",
    "assay_baseline = wl.build_assay(assay_name=\"assays from date baseline\", \n",
    "                                          pipeline=mainpipeline, \n",
    "                                          iopath=\"output variable 0\",\n",
    "                                          baseline_start=assay_baseline_start, \n",
    "                                          baseline_end=assay_baseline_end)\n",
    "\n",
    "\n",
    "# Set the assay parameters\n",
    "\n",
    "# The end date to gather inference results\n",
    "assay_baseline.add_run_until(datetime.datetime.now())\n",
    "\n",
    "# Set the interval and window to one minute each, set the start date for gathering inference results\n",
    "assay_baseline.window_builder().add_width(minutes=1).add_interval(minutes=1).add_start(assay_window_start)\n",
    "\n",
    "#Aggregation.DENSITY - the default\n",
    "assay_baseline.summarizer_builder.add_aggregation(wallaroo.assay_config.Aggregation.DENSITY)\n",
    "\n",
    "# build the assay configuration\n",
    "assay_config = assay_baseline.build()\n",
    "\n",
    "# perform an interactive run and collect inference data\n",
    "assay_results = assay_config.interactive_run()\n",
    "\n",
    "# show one analysis with the updated bins\n",
    "assay_results[0].chart()"
   ]
  },
  {
   "cell_type": "code",
   "execution_count": 59,
   "metadata": {},
   "outputs": [
    {
     "name": "stdout",
     "output_type": "stream",
     "text": [
      "baseline mean = 513781.205375\n",
      "window mean = 512779.469375\n",
      "baseline median = 448627.8125\n",
      "window median = 448627.8125\n",
      "bin_mode = Quantile\n",
      "aggregation = Cumulative\n",
      "metric = PSI\n",
      "weighted = False\n",
      "score = 0.04800000000000004\n",
      "scores = [0.0, 0.014000000000000012, 0.0, 0.025000000000000026, 0.0020000000000000018, 0.007000000000000006, 0.0]\n",
      "index = None\n"
     ]
    },
    {
     "data": {
      "image/png": "[encoded data removed]",
      "text/plain": [
       "<Figure size 432x288 with 1 Axes>"
      ]
     },
     "metadata": {
      "needs_background": "light"
     },
     "output_type": "display_data"
    }
   ],
   "source": [
    "# Create the assay baseline\n",
    "assay_baseline = wl.build_assay(assay_name=\"assays from date baseline\", \n",
    "                                          pipeline=mainpipeline, \n",
    "                                          iopath=\"output variable 0\",\n",
    "                                          baseline_start=assay_baseline_start, \n",
    "                                          baseline_end=assay_baseline_end)\n",
    "\n",
    "\n",
    "# Set the assay parameters\n",
    "\n",
    "# The end date to gather inference results\n",
    "assay_baseline.add_run_until(datetime.datetime.now())\n",
    "\n",
    "# Set the interval and window to one minute each, set the start date for gathering inference results\n",
    "assay_baseline.window_builder().add_width(minutes=1).add_interval(minutes=1).add_start(assay_window_start)\n",
    "\n",
    "#Aggregation.CUMULATIVE\n",
    "assay_baseline.summarizer_builder.add_aggregation(wallaroo.assay_config.Aggregation.CUMULATIVE)\n",
    "\n",
    "# build the assay configuration\n",
    "assay_config = assay_baseline.build()\n",
    "\n",
    "# perform an interactive run and collect inference data\n",
    "assay_results = assay_config.interactive_run()\n",
    "\n",
    "# show one analysis with the updated bins\n",
    "assay_results[0].chart()"
   ]
  },
  {
   "cell_type": "markdown",
   "metadata": {},
   "source": [
    "### Create Assay\n",
    "\n",
    "With the assay previewed and configuration options determined, we officially create it by uploading it to the Wallaroo instance.\n",
    "\n",
    "Once it is uploaded, the assay runs an analysis based on the window width, interval, and the other settings configured.\n",
    "\n",
    "Assays are uploaded with the `wallaroo.assay_config.upload()` method. This uploads the assay into the Wallaroo database with the configurations applied and returns the assay id. Note that assay names **must be unique across the Wallaroo instance**; attempting to upload an assay with the same name as an existing one will return an error.\n",
    "\n",
    "`wallaroo.assay_config.upload()` returns the assay id for the assay.\n",
    "\n",
    "Typically we would just call `wallaroo.assay_config.upload()` after configuring the assay.  For the example below, we will perform the complete configuration in one window to show all of the configuration steps at once before creating the assay."
   ]
  },
  {
   "cell_type": "code",
   "execution_count": null,
   "metadata": {},
   "outputs": [],
   "source": [
    "# Build the assay, based on the start and end of our baseline time, \n",
    "# and tracking the output variable index 0\n",
    "assay_baseline = wl.build_assay(assay_name=\"assays from date baseline tutorial 2\", \n",
    "                                          pipeline=mainpipeline, \n",
    "                                          iopath=\"output variable 0\",\n",
    "                                          baseline_start=assay_baseline_start, \n",
    "                                          baseline_end=assay_baseline_end)\n",
    "\n",
    "# set the width, interval, and assay start date and time\n",
    "assay_baseline.window_builder().add_width(minutes=1).add_interval(minutes=1).add_start(assay_window_start)\n",
    "\n",
    "# add other options\n",
    "assay_baseline.summarizer_builder.add_aggregation(wallaroo.assay_config.Aggregation.CUMULATIVE)\n",
    "assay_baseline.summarizer_builder.add_metric(wallaroo.assay_config.Metric.MAXDIFF)\n",
    "assay_baseline.add_alert_threshold(0.5)\n",
    "\n",
    "\n",
    "assay_id = assay_baseline.upload()\n",
    "\n",
    "# wait 65 seconds for the first analysis run performed\n",
    "time.sleep(65)\n"
   ]
  },
  {
   "cell_type": "markdown",
   "metadata": {},
   "source": [
    "The assay is now visible through the Wallaroo UI by selecting the workspace, then the pipeline, then **Insights**.\n",
    "\n",
    "![Sample assay in the UI](images/housepricesaga-sample-assay.png)"
   ]
  },
  {
   "cell_type": "markdown",
   "metadata": {},
   "source": [
    "### Get Assay Info\n",
    "\n",
    "Assay information is retrieved with the `wallaroo.client.get_assay_info()` which takes the following parameters.\n",
    "\n",
    "| Parameter | Type | Description |\n",
    "|---|---|---|\n",
    "| **assay_id** | *Integer* (*Required*) | The numerical id of the assay. |\n",
    "| **workspace_id** | (*Int*) (*Optional*) | The numerical identifier of the workspace to filter by. |\n",
    "| **workspace_name** | (*String*) (*Optional*) | The name of the workspace to filter by. |\n",
    "\n",
    "\n",
    "This returns the following:\n",
    "\n",
    "| Parameter | Type | Description |\n",
    "|---|---|---|\n",
    "| *id* | *Integer* | The numerical id of the assay. |\n",
    "| *name* | *String* | The name of the assay. |\n",
    "| *active* | *Boolean* | `True`: The assay is active and generates analyses based on its configuration. `False`: The assay is disabled and will not generate new analyses. |\n",
    "| *pipeline_name* | *String* | The name of the pipeline the assay references. |\n",
    "| *last_run* | *DateTime* | The date and time the assay last ran. |\n",
    "| *next_run* | *DateTime* | THe date and time the assay analysis will next run. |\n",
    "| *alert_threshold* | *Float* | The alert threshold setting for the assay. |\n",
    "| *baseline* | *Dict* | The baseline and settings as set from the assay configuration. |\n",
    "| *iopath* | *String* | The `iopath` setting for the assay. |\n",
    "| *metric* | *String* | The `metric` setting for the assay. |\n",
    "| *num_bins* | *Integer* | The number of bins for the assay. |\n",
    "| *bin_weights* | *List*/None | The bin weights used if any. |\n",
    "| *bin_mode* | *String* | The binning mode used. |\n",
    "| *workspace_id* | (*Int*) | The numerical identifier of the workspace the assay is associated with. |\n",
    "| *workspace_name* | (*String*)  | The name of the workspace the assay is associated with. |\n"
   ]
  },
  {
   "cell_type": "code",
   "execution_count": 61,
   "metadata": {},
   "outputs": [
    {
     "data": {
      "text/html": [
       "<div>\n",
       "<style scoped>\n",
       "    .dataframe tbody tr th:only-of-type {\n",
       "        vertical-align: middle;\n",
       "    }\n",
       "\n",
       "    .dataframe tbody tr th {\n",
       "        vertical-align: top;\n",
       "    }\n",
       "\n",
       "    .dataframe thead th {\n",
       "        text-align: right;\n",
       "    }\n",
       "</style>\n",
       "<table border=\"1\" class=\"dataframe\">\n",
       "  <thead>\n",
       "    <tr style=\"text-align: right;\">\n",
       "      <th></th>\n",
       "      <th>id</th>\n",
       "      <th>name</th>\n",
       "      <th>active</th>\n",
       "      <th>status</th>\n",
       "      <th>pipeline_name</th>\n",
       "      <th>last_run</th>\n",
       "      <th>next_run</th>\n",
       "      <th>alert_threshold</th>\n",
       "      <th>workspace_id</th>\n",
       "      <th>workspace_name</th>\n",
       "      <th>baseline</th>\n",
       "      <th>iopath</th>\n",
       "      <th>metric</th>\n",
       "      <th>num_bins</th>\n",
       "      <th>bin_weights</th>\n",
       "      <th>bin_mode</th>\n",
       "    </tr>\n",
       "  </thead>\n",
       "  <tbody>\n",
       "    <tr>\n",
       "      <th>0</th>\n",
       "      <td>2</td>\n",
       "      <td>assays from date baseline tutorial 2</td>\n",
       "      <td>True</td>\n",
       "      <td>{\"run_at\": \"2024-07-16T18:42:03.041484407+00:00\",  \"num_ok\": 0, \"num_warnings\": 0, \"num_alerts\": 0}</td>\n",
       "      <td>assay-demonstration-tutorial</td>\n",
       "      <td>2024-07-16T18:42:03.041484+00:00</td>\n",
       "      <td>2024-07-16T18:41:27.239563+00:00</td>\n",
       "      <td>0.5</td>\n",
       "      <td>29</td>\n",
       "      <td>assay-demonstration-tutorial-2</td>\n",
       "      <td>Start:2024-07-16T17:12:27.123262+00:00, End:2024-07-16T17:13:27.222262+00:00</td>\n",
       "      <td>output variable 0</td>\n",
       "      <td>MaxDiff</td>\n",
       "      <td>5</td>\n",
       "      <td>None</td>\n",
       "      <td>Quantile</td>\n",
       "    </tr>\n",
       "  </tbody>\n",
       "</table>\n",
       "</div>"
      ],
      "text/plain": [
       "   id                                  name  active  \\\n",
       "0   2  assays from date baseline tutorial 2    True   \n",
       "\n",
       "                                                                                                status  \\\n",
       "0  {\"run_at\": \"2024-07-16T18:42:03.041484407+00:00\",  \"num_ok\": 0, \"num_warnings\": 0, \"num_alerts\": 0}   \n",
       "\n",
       "                  pipeline_name                          last_run  \\\n",
       "0  assay-demonstration-tutorial  2024-07-16T18:42:03.041484+00:00   \n",
       "\n",
       "                           next_run  alert_threshold  workspace_id  \\\n",
       "0  2024-07-16T18:41:27.239563+00:00              0.5            29   \n",
       "\n",
       "                   workspace_name  \\\n",
       "0  assay-demonstration-tutorial-2   \n",
       "\n",
       "                                                                       baseline  \\\n",
       "0  Start:2024-07-16T17:12:27.123262+00:00, End:2024-07-16T17:13:27.222262+00:00   \n",
       "\n",
       "              iopath   metric  num_bins bin_weights  bin_mode  \n",
       "0  output variable 0  MaxDiff         5        None  Quantile  "
      ]
     },
     "metadata": {},
     "output_type": "display_data"
    }
   ],
   "source": [
    "display(wl.get_assay_info(assay_id))"
   ]
  },
  {
   "cell_type": "markdown",
   "metadata": {},
   "source": [
    "### Get Assay Results\n",
    "\n",
    "Once an assay is created the assay runs an analysis based on the window width, interval, and the other settings configured.\n",
    "\n",
    "Assay results are retrieved with the `wallaroo.client.get_assay_results` method which takes the following parameters:\n",
    "\n",
    "| Parameter | Type | Description |\n",
    "|---|---|---|\n",
    "| **assay_id** | *Integer* (*Required*) | The numerical id of the assay. |\n",
    "| **start** | *Datetime.Datetime* (*Required*) | The start date and time of historical data from the pipeline to start analyses from. |\n",
    "| **end** | *Datetime.Datetime* (*Required*) | The end date and time of historical data from the pipeline to limit analyses to. |\n",
    "| **workspace_id** | (*Int*) (*Optional*) | The numerical identifier of the workspace to filter by. |\n",
    "| **workspace_name** | (*String*) (*Optional*) | The name of the workspace to filter by. |\n",
    "\n",
    "* **IMPORTANT NOTE**:  This process requires that additional historical data is generated from the time the assay is created to when the results are available. To add additional inference data, use the [Assay Test Data](#assay-test-data) section above."
   ]
  },
  {
   "cell_type": "code",
   "execution_count": 62,
   "metadata": {},
   "outputs": [
    {
     "data": {
      "image/png": "[encoded data removed]",
      "text/plain": [
       "<Figure size 432x288 with 1 Axes>"
      ]
     },
     "metadata": {
      "needs_background": "light"
     },
     "output_type": "display_data"
    }
   ],
   "source": [
    "assay_results = wl.get_assay_results(assay_id=assay_id,\n",
    "                     start=assay_window_start,\n",
    "                     end=datetime.datetime.now())\n",
    "\n",
    "assay_results.chart_scores()"
   ]
  },
  {
   "cell_type": "code",
   "execution_count": 63,
   "metadata": {},
   "outputs": [
    {
     "name": "stdout",
     "output_type": "stream",
     "text": [
      "baseline mean = 513781.205375\n",
      "window mean = 512779.469375\n",
      "baseline median = 448627.8125\n",
      "window median = 448627.8125\n",
      "bin_mode = Quantile\n",
      "aggregation = Cumulative\n",
      "metric = MaxDiff\n",
      "weighted = False\n",
      "score = 0.025\n",
      "scores = [0.0, 0.014000000000000012, 0.0, 0.025000000000000026, 0.0020000000000000018, 0.007000000000000006, 0.0]\n",
      "index = 3\n"
     ]
    },
    {
     "data": {
      "image/png": "[encoded data removed]",
      "text/plain": [
       "<Figure size 432x288 with 1 Axes>"
      ]
     },
     "metadata": {
      "needs_background": "light"
     },
     "output_type": "display_data"
    }
   ],
   "source": [
    "assay_results[0].chart()"
   ]
  },
  {
   "cell_type": "markdown",
   "metadata": {},
   "source": [
    "### List Assays\n",
    "\n",
    "A list of assays is retrieved with the `wallaroo.client.list_assays()` method and takes the following parameters:\n",
    "\n",
    "| Parameter | Type | Description |\n",
    "|---|---|---|\n",
    "| **workspace_id** | (*Int*) (*Optional*) | The numerical identifier of the workspace to filter by. |\n",
    "| **workspace_name** | (*String*) (*Optional*) | The name of the workspace to filter by. |\n",
    "\n",
    "This returns a list of assays as filtered in reverse chronological order.\n",
    "\n",
    "| Parameter | Type | Description |\n",
    "|---|---|---|\n",
    "| *Assay Id* | *Integer* | The numerical id of the assay. |\n",
    "| *Assay Name* | *String* | The name of the assay. |\n",
    "| *Active* | *Boolean* | `True`: The assay is active and generates analyses based on its configuration. `False`: The assay is disabled and will not generate new analyses. |\n",
    "| *Status* | *Dict* | The status of the assay including the \n",
    "| *Warning Threshold* | *Float*/*None* | The warning threshold if set. |\n",
    "| *Alert Threshold* | *Float* | The alert threshold for the assay. |\n",
    "| *workspace_id* | (*Int*) | The numerical identifier of the workspace the assay is associated with. |\n",
    "| *workspace_name* | (*String*)  | The name of the workspace the assay is associated with. |\n",
    "\n",
    "The errors for this method include:\n",
    "\n",
    "* If the parameter `workspace_id` is not an integer.\n",
    "* If the parameter `workspace_name` is not a String.\n"
   ]
  },
  {
   "cell_type": "code",
   "execution_count": 64,
   "metadata": {},
   "outputs": [
    {
     "data": {
      "text/html": [
       "<table><tr><th>Assay ID</th><th>Assay Name</th><th>Active</th><th>Status</th><th>Warning Threshold</th><th>Alert Threshold</th><th>Pipeline ID</th><th>Pipeline Name</th><th>Workspace ID</th><th>Workspace Name</th></tr><tr><td>2</td><td>assays from date baseline tutorial 2</td><td>True</td><td>{\"run_at\": \"2024-07-16T18:42:03.041484407+00:00\",  \"num_ok\": 0, \"num_warnings\": 0, \"num_alerts\": 0}</td><td>None</td><td>0.5</td><td>28</td><td>assay-demonstration-tutorial</td><td>29</td><td>assay-demonstration-tutorial-2</td></tr><tr><td>1</td><td>assays from date baseline tutorial</td><td>True</td><td>{\"run_at\": \"2024-07-16T17:08:02.913332768+00:00\",  \"num_ok\": 0, \"num_warnings\": 0, \"num_alerts\": 0}</td><td>None</td><td>0.5</td><td>24</td><td>assay-demonstration-tutorial</td><td>27</td><td>assay-demonstration-tutorial</td></tr></table>"
      ],
      "text/plain": [
       "[<wallaroo.assay.Assay at 0x78584c21c5e0>,\n",
       " <wallaroo.assay.Assay at 0x785859df0130>]"
      ]
     },
     "execution_count": 64,
     "metadata": {},
     "output_type": "execute_result"
    }
   ],
   "source": [
    "wl.list_assays()"
   ]
  },
  {
   "cell_type": "markdown",
   "metadata": {},
   "source": [
    "### Set Assay Active Status\n",
    "\n",
    "Assays active status is either:\n",
    "\n",
    "* **True**:  The assay generates analyses based on the assay configuration.\n",
    "* **False**:  The assay will not generate new analyses.\n",
    "\n",
    "Assays are set to active or not active with the `wallaroo.client.set_assay_active` which takes the following parameters.\n",
    "\n",
    "| Parameter | Type | Description |\n",
    "|---|---|---|\n",
    "| *assay_id* | *Integer* | The numerical id of the assay. |\n",
    "| *active* | *Boolean* | `True`: The assay status is set to `Active`.  `False`: The assay status is `Not Active`. |\n",
    "\n",
    "First we will show the current active status.\n",
    "\n",
    "In the following, set the assay status to `False`, then set the assay active status back to `True`."
   ]
  },
  {
   "cell_type": "code",
   "execution_count": 65,
   "metadata": {},
   "outputs": [
    {
     "data": {
      "text/html": [
       "<div>\n",
       "<style scoped>\n",
       "    .dataframe tbody tr th:only-of-type {\n",
       "        vertical-align: middle;\n",
       "    }\n",
       "\n",
       "    .dataframe tbody tr th {\n",
       "        vertical-align: top;\n",
       "    }\n",
       "\n",
       "    .dataframe thead th {\n",
       "        text-align: right;\n",
       "    }\n",
       "</style>\n",
       "<table border=\"1\" class=\"dataframe\">\n",
       "  <thead>\n",
       "    <tr style=\"text-align: right;\">\n",
       "      <th></th>\n",
       "      <th>id</th>\n",
       "      <th>name</th>\n",
       "      <th>active</th>\n",
       "      <th>status</th>\n",
       "      <th>pipeline_name</th>\n",
       "      <th>last_run</th>\n",
       "      <th>next_run</th>\n",
       "      <th>alert_threshold</th>\n",
       "      <th>workspace_id</th>\n",
       "      <th>workspace_name</th>\n",
       "      <th>baseline</th>\n",
       "      <th>iopath</th>\n",
       "      <th>metric</th>\n",
       "      <th>num_bins</th>\n",
       "      <th>bin_weights</th>\n",
       "      <th>bin_mode</th>\n",
       "    </tr>\n",
       "  </thead>\n",
       "  <tbody>\n",
       "    <tr>\n",
       "      <th>0</th>\n",
       "      <td>2</td>\n",
       "      <td>assays from date baseline tutorial 2</td>\n",
       "      <td>True</td>\n",
       "      <td>{\"run_at\": \"2024-07-16T18:42:03.041484407+00:00\",  \"num_ok\": 0, \"num_warnings\": 0, \"num_alerts\": 0}</td>\n",
       "      <td>assay-demonstration-tutorial</td>\n",
       "      <td>2024-07-16T18:42:03.041484+00:00</td>\n",
       "      <td>2024-07-16T18:41:27.239563+00:00</td>\n",
       "      <td>0.5</td>\n",
       "      <td>29</td>\n",
       "      <td>assay-demonstration-tutorial-2</td>\n",
       "      <td>Start:2024-07-16T17:12:27.123262+00:00, End:2024-07-16T17:13:27.222262+00:00</td>\n",
       "      <td>output variable 0</td>\n",
       "      <td>MaxDiff</td>\n",
       "      <td>5</td>\n",
       "      <td>None</td>\n",
       "      <td>Quantile</td>\n",
       "    </tr>\n",
       "  </tbody>\n",
       "</table>\n",
       "</div>"
      ],
      "text/plain": [
       "   id                                  name  active  \\\n",
       "0   2  assays from date baseline tutorial 2    True   \n",
       "\n",
       "                                                                                                status  \\\n",
       "0  {\"run_at\": \"2024-07-16T18:42:03.041484407+00:00\",  \"num_ok\": 0, \"num_warnings\": 0, \"num_alerts\": 0}   \n",
       "\n",
       "                  pipeline_name                          last_run  \\\n",
       "0  assay-demonstration-tutorial  2024-07-16T18:42:03.041484+00:00   \n",
       "\n",
       "                           next_run  alert_threshold  workspace_id  \\\n",
       "0  2024-07-16T18:41:27.239563+00:00              0.5            29   \n",
       "\n",
       "                   workspace_name  \\\n",
       "0  assay-demonstration-tutorial-2   \n",
       "\n",
       "                                                                       baseline  \\\n",
       "0  Start:2024-07-16T17:12:27.123262+00:00, End:2024-07-16T17:13:27.222262+00:00   \n",
       "\n",
       "              iopath   metric  num_bins bin_weights  bin_mode  \n",
       "0  output variable 0  MaxDiff         5        None  Quantile  "
      ]
     },
     "metadata": {},
     "output_type": "display_data"
    }
   ],
   "source": [
    "display(wl.get_assay_info(assay_id))"
   ]
  },
  {
   "cell_type": "markdown",
   "metadata": {},
   "source": [
    "Now we set the active status to `False`, and show the assay list to verify it is no longer active."
   ]
  },
  {
   "cell_type": "code",
   "execution_count": 66,
   "metadata": {},
   "outputs": [
    {
     "data": {
      "text/html": [
       "<div>\n",
       "<style scoped>\n",
       "    .dataframe tbody tr th:only-of-type {\n",
       "        vertical-align: middle;\n",
       "    }\n",
       "\n",
       "    .dataframe tbody tr th {\n",
       "        vertical-align: top;\n",
       "    }\n",
       "\n",
       "    .dataframe thead th {\n",
       "        text-align: right;\n",
       "    }\n",
       "</style>\n",
       "<table border=\"1\" class=\"dataframe\">\n",
       "  <thead>\n",
       "    <tr style=\"text-align: right;\">\n",
       "      <th></th>\n",
       "      <th>id</th>\n",
       "      <th>name</th>\n",
       "      <th>active</th>\n",
       "      <th>status</th>\n",
       "      <th>pipeline_name</th>\n",
       "      <th>last_run</th>\n",
       "      <th>next_run</th>\n",
       "      <th>alert_threshold</th>\n",
       "      <th>workspace_id</th>\n",
       "      <th>workspace_name</th>\n",
       "      <th>baseline</th>\n",
       "      <th>iopath</th>\n",
       "      <th>metric</th>\n",
       "      <th>num_bins</th>\n",
       "      <th>bin_weights</th>\n",
       "      <th>bin_mode</th>\n",
       "    </tr>\n",
       "  </thead>\n",
       "  <tbody>\n",
       "    <tr>\n",
       "      <th>0</th>\n",
       "      <td>2</td>\n",
       "      <td>assays from date baseline tutorial 2</td>\n",
       "      <td>False</td>\n",
       "      <td>{\"run_at\": \"2024-07-16T18:42:03.041484407+00:00\",  \"num_ok\": 0, \"num_warnings\": 0, \"num_alerts\": 0}</td>\n",
       "      <td>assay-demonstration-tutorial</td>\n",
       "      <td>2024-07-16T18:42:03.041484+00:00</td>\n",
       "      <td>2024-07-16T18:41:27.239563+00:00</td>\n",
       "      <td>0.5</td>\n",
       "      <td>29</td>\n",
       "      <td>assay-demonstration-tutorial-2</td>\n",
       "      <td>Start:2024-07-16T17:12:27.123262+00:00, End:2024-07-16T17:13:27.222262+00:00</td>\n",
       "      <td>output variable 0</td>\n",
       "      <td>MaxDiff</td>\n",
       "      <td>5</td>\n",
       "      <td>None</td>\n",
       "      <td>Quantile</td>\n",
       "    </tr>\n",
       "  </tbody>\n",
       "</table>\n",
       "</div>"
      ],
      "text/plain": [
       "   id                                  name  active  \\\n",
       "0   2  assays from date baseline tutorial 2   False   \n",
       "\n",
       "                                                                                                status  \\\n",
       "0  {\"run_at\": \"2024-07-16T18:42:03.041484407+00:00\",  \"num_ok\": 0, \"num_warnings\": 0, \"num_alerts\": 0}   \n",
       "\n",
       "                  pipeline_name                          last_run  \\\n",
       "0  assay-demonstration-tutorial  2024-07-16T18:42:03.041484+00:00   \n",
       "\n",
       "                           next_run  alert_threshold  workspace_id  \\\n",
       "0  2024-07-16T18:41:27.239563+00:00              0.5            29   \n",
       "\n",
       "                   workspace_name  \\\n",
       "0  assay-demonstration-tutorial-2   \n",
       "\n",
       "                                                                       baseline  \\\n",
       "0  Start:2024-07-16T17:12:27.123262+00:00, End:2024-07-16T17:13:27.222262+00:00   \n",
       "\n",
       "              iopath   metric  num_bins bin_weights  bin_mode  \n",
       "0  output variable 0  MaxDiff         5        None  Quantile  "
      ]
     },
     "metadata": {},
     "output_type": "display_data"
    }
   ],
   "source": [
    "wl.set_assay_active(assay_id, False)\n",
    "display(wl.get_assay_info(assay_id))"
   ]
  },
  {
   "cell_type": "markdown",
   "metadata": {},
   "source": [
    "We resume the assay by setting it's active status to `True`."
   ]
  },
  {
   "cell_type": "code",
   "execution_count": 67,
   "metadata": {},
   "outputs": [
    {
     "data": {
      "text/html": [
       "<div>\n",
       "<style scoped>\n",
       "    .dataframe tbody tr th:only-of-type {\n",
       "        vertical-align: middle;\n",
       "    }\n",
       "\n",
       "    .dataframe tbody tr th {\n",
       "        vertical-align: top;\n",
       "    }\n",
       "\n",
       "    .dataframe thead th {\n",
       "        text-align: right;\n",
       "    }\n",
       "</style>\n",
       "<table border=\"1\" class=\"dataframe\">\n",
       "  <thead>\n",
       "    <tr style=\"text-align: right;\">\n",
       "      <th></th>\n",
       "      <th>id</th>\n",
       "      <th>name</th>\n",
       "      <th>active</th>\n",
       "      <th>status</th>\n",
       "      <th>pipeline_name</th>\n",
       "      <th>last_run</th>\n",
       "      <th>next_run</th>\n",
       "      <th>alert_threshold</th>\n",
       "      <th>workspace_id</th>\n",
       "      <th>workspace_name</th>\n",
       "      <th>baseline</th>\n",
       "      <th>iopath</th>\n",
       "      <th>metric</th>\n",
       "      <th>num_bins</th>\n",
       "      <th>bin_weights</th>\n",
       "      <th>bin_mode</th>\n",
       "    </tr>\n",
       "  </thead>\n",
       "  <tbody>\n",
       "    <tr>\n",
       "      <th>0</th>\n",
       "      <td>2</td>\n",
       "      <td>assays from date baseline tutorial 2</td>\n",
       "      <td>True</td>\n",
       "      <td>{\"run_at\": \"2024-07-16T18:42:03.041484407+00:00\",  \"num_ok\": 0, \"num_warnings\": 0, \"num_alerts\": 0}</td>\n",
       "      <td>assay-demonstration-tutorial</td>\n",
       "      <td>2024-07-16T18:42:03.041484+00:00</td>\n",
       "      <td>2024-07-16T18:41:27.239563+00:00</td>\n",
       "      <td>0.5</td>\n",
       "      <td>29</td>\n",
       "      <td>assay-demonstration-tutorial-2</td>\n",
       "      <td>Start:2024-07-16T17:12:27.123262+00:00, End:2024-07-16T17:13:27.222262+00:00</td>\n",
       "      <td>output variable 0</td>\n",
       "      <td>MaxDiff</td>\n",
       "      <td>5</td>\n",
       "      <td>None</td>\n",
       "      <td>Quantile</td>\n",
       "    </tr>\n",
       "  </tbody>\n",
       "</table>\n",
       "</div>"
      ],
      "text/plain": [
       "   id                                  name  active  \\\n",
       "0   2  assays from date baseline tutorial 2    True   \n",
       "\n",
       "                                                                                                status  \\\n",
       "0  {\"run_at\": \"2024-07-16T18:42:03.041484407+00:00\",  \"num_ok\": 0, \"num_warnings\": 0, \"num_alerts\": 0}   \n",
       "\n",
       "                  pipeline_name                          last_run  \\\n",
       "0  assay-demonstration-tutorial  2024-07-16T18:42:03.041484+00:00   \n",
       "\n",
       "                           next_run  alert_threshold  workspace_id  \\\n",
       "0  2024-07-16T18:41:27.239563+00:00              0.5            29   \n",
       "\n",
       "                   workspace_name  \\\n",
       "0  assay-demonstration-tutorial-2   \n",
       "\n",
       "                                                                       baseline  \\\n",
       "0  Start:2024-07-16T17:12:27.123262+00:00, End:2024-07-16T17:13:27.222262+00:00   \n",
       "\n",
       "              iopath   metric  num_bins bin_weights  bin_mode  \n",
       "0  output variable 0  MaxDiff         5        None  Quantile  "
      ]
     },
     "metadata": {},
     "output_type": "display_data"
    }
   ],
   "source": [
    "wl.set_assay_active(assay_id, True)\n",
    "display(wl.get_assay_info(assay_id))"
   ]
  },
  {
   "cell_type": "markdown",
   "metadata": {},
   "source": [
    "### Undeploy Main Pipeline\n",
    "\n",
    "With the examples and tutorial complete, we will undeploy the main pipeline and return the resources back to the Wallaroo instance."
   ]
  },
  {
   "cell_type": "code",
   "execution_count": null,
   "metadata": {},
   "outputs": [
    {
     "name": "stdout",
     "output_type": "stream",
     "text": [
      "Waiting for undeployment - this will take up to 45s ..."
     ]
    }
   ],
   "source": [
    "mainpipeline.undeploy()"
   ]
  },
  {
   "cell_type": "markdown",
   "metadata": {},
   "source": [
    "## View Assay Filters\n",
    "\n",
    "The following examples demonstrate various ways of listing assays and retrieving assay details, with filtering options.\n",
    "\n",
    "### List Assays with Filters\n",
    "\n",
    "List all assays for workspaces the user is a member of."
   ]
  },
  {
   "cell_type": "code",
   "execution_count": 35,
   "metadata": {},
   "outputs": [
    {
     "name": "stdout",
     "output_type": "stream",
     "text": [
      "Please log into the following URL in a web browser:\n",
      "\n",
      "\thttps://doc-test.wallaroocommunity.ninja/auth/realms/master/device?user_code=LOHS-MKKO\n",
      "\n",
      "Login successful!\n"
     ]
    },
    {
     "data": {
      "text/html": [
       "<table><tr><th>Assay ID</th><th>Assay Name</th><th>Active</th><th>Status</th><th>Warning Threshold</th><th>Alert Threshold</th><th>Pipeline ID</th><th>Pipeline Name</th><th>Workspace ID</th><th>Workspace Name</th></tr><tr><td>2</td><td>assays from date baseline tutorial 2</td><td>True</td><td>{\"run_at\": \"2024-07-16T18:29:03.024210200+00:00\",  \"num_ok\": 0, \"num_warnings\": 0, \"num_alerts\": 0}</td><td>None</td><td>0.5</td><td>28</td><td>assay-demonstration-tutorial</td><td>29</td><td>assay-demonstration-tutorial-2</td></tr><tr><td>1</td><td>assays from date baseline tutorial</td><td>True</td><td>{\"run_at\": \"2024-07-16T17:08:02.913332768+00:00\",  \"num_ok\": 0, \"num_warnings\": 0, \"num_alerts\": 0}</td><td>None</td><td>0.5</td><td>24</td><td>assay-demonstration-tutorial</td><td>27</td><td>assay-demonstration-tutorial</td></tr></table>"
      ],
      "text/plain": [
       "[<wallaroo.assay.Assay at 0x785859e4fc70>,\n",
       " <wallaroo.assay.Assay at 0x785859e4f310>]"
      ]
     },
     "execution_count": 35,
     "metadata": {},
     "output_type": "execute_result"
    }
   ],
   "source": [
    "wl.list_assays()"
   ]
  },
  {
   "cell_type": "markdown",
   "metadata": {},
   "source": [
    "List all assays filtered by workspace id."
   ]
  },
  {
   "cell_type": "code",
   "execution_count": 36,
   "metadata": {},
   "outputs": [
    {
     "data": {
      "text/html": [
       "<table><tr><th>Assay ID</th><th>Assay Name</th><th>Active</th><th>Status</th><th>Warning Threshold</th><th>Alert Threshold</th><th>Pipeline ID</th><th>Pipeline Name</th><th>Workspace ID</th><th>Workspace Name</th></tr><tr><td>1</td><td>assays from date baseline tutorial</td><td>True</td><td>{\"run_at\": \"2024-07-16T17:08:02.913332768+00:00\",  \"num_ok\": 0, \"num_warnings\": 0, \"num_alerts\": 0}</td><td>None</td><td>0.5</td><td>24</td><td>assay-demonstration-tutorial</td><td>27</td><td>assay-demonstration-tutorial</td></tr></table>"
      ],
      "text/plain": [
       "[<wallaroo.assay.Assay at 0x785854d96c40>]"
      ]
     },
     "execution_count": 36,
     "metadata": {},
     "output_type": "execute_result"
    }
   ],
   "source": [
    "wl.list_assays(workspace_id=27)"
   ]
  },
  {
   "cell_type": "markdown",
   "metadata": {},
   "source": [
    "List assays filtered by workspace name."
   ]
  },
  {
   "cell_type": "code",
   "execution_count": 38,
   "metadata": {},
   "outputs": [
    {
     "data": {
      "text/html": [
       "<table><tr><th>Assay ID</th><th>Assay Name</th><th>Active</th><th>Status</th><th>Warning Threshold</th><th>Alert Threshold</th><th>Pipeline ID</th><th>Pipeline Name</th><th>Workspace ID</th><th>Workspace Name</th></tr><tr><td>2</td><td>assays from date baseline tutorial 2</td><td>True</td><td>{\"run_at\": \"2024-07-16T18:30:03.029976427+00:00\",  \"num_ok\": 0, \"num_warnings\": 0, \"num_alerts\": 0}</td><td>None</td><td>0.5</td><td>28</td><td>assay-demonstration-tutorial</td><td>29</td><td>assay-demonstration-tutorial-2</td></tr></table>"
      ],
      "text/plain": [
       "[<wallaroo.assay.Assay at 0x785859e4f610>]"
      ]
     },
     "execution_count": 38,
     "metadata": {},
     "output_type": "execute_result"
    }
   ],
   "source": [
    "wl.list_assays(workspace_name=\"assay-demonstration-tutorial-2\")"
   ]
  },
  {
   "cell_type": "markdown",
   "metadata": {},
   "source": [
    "### Get Assay Results\n",
    "\n",
    "Get assay results."
   ]
  },
  {
   "cell_type": "code",
   "execution_count": 40,
   "metadata": {},
   "outputs": [
    {
     "data": {
      "image/png": "[encoded data removed]",
      "text/plain": [
       "<Figure size 432x288 with 1 Axes>"
      ]
     },
     "metadata": {
      "needs_background": "light"
     },
     "output_type": "display_data"
    }
   ],
   "source": [
    "assay_results = wl.get_assay_results(assay_id=assay_id,\n",
    "                     start=assay_window_start,\n",
    "                     end=datetime.datetime.now())\n",
    "\n",
    "assay_results.chart_scores()"
   ]
  },
  {
   "cell_type": "code",
   "execution_count": null,
   "metadata": {},
   "outputs": [],
   "source": [
    "Get assay results filtered by workspace id."
   ]
  },
  {
   "cell_type": "code",
   "execution_count": 42,
   "metadata": {},
   "outputs": [
    {
     "data": {
      "image/png": "[encoded data removed]",
      "text/plain": [
       "<Figure size 432x288 with 1 Axes>"
      ]
     },
     "metadata": {
      "needs_background": "light"
     },
     "output_type": "display_data"
    }
   ],
   "source": [
    "assay_results = wl.get_assay_results(assay_id=assay_id,\n",
    "                                     workspace_id=29,\n",
    "                     start=assay_window_start,\n",
    "                     end=datetime.datetime.now())\n",
    "\n",
    "assay_results.chart_scores()"
   ]
  },
  {
   "cell_type": "code",
   "execution_count": null,
   "metadata": {},
   "outputs": [],
   "source": [
    "Get assay results filtered by workspace name."
   ]
  },
  {
   "cell_type": "code",
   "execution_count": 43,
   "metadata": {},
   "outputs": [
    {
     "data": {
      "image/png": "[encoded data removed]",
      "text/plain": [
       "<Figure size 432x288 with 1 Axes>"
      ]
     },
     "metadata": {
      "needs_background": "light"
     },
     "output_type": "display_data"
    }
   ],
   "source": [
    "assay_results = wl.get_assay_results(assay_id=assay_id,\n",
    "                                     workspace_name=\"assay-demonstration-tutorial-2\",\n",
    "                     start=assay_window_start,\n",
    "                     end=datetime.datetime.now())\n",
    "\n",
    "assay_results.chart_scores()"
   ]
  },
  {
   "cell_type": "markdown",
   "metadata": {},
   "source": [
    "### Get Assay Info\n",
    "\n",
    "Get assay info."
   ]
  },
  {
   "cell_type": "code",
   "execution_count": 44,
   "metadata": {},
   "outputs": [
    {
     "data": {
      "text/html": [
       "<div>\n",
       "<style scoped>\n",
       "    .dataframe tbody tr th:only-of-type {\n",
       "        vertical-align: middle;\n",
       "    }\n",
       "\n",
       "    .dataframe tbody tr th {\n",
       "        vertical-align: top;\n",
       "    }\n",
       "\n",
       "    .dataframe thead th {\n",
       "        text-align: right;\n",
       "    }\n",
       "</style>\n",
       "<table border=\"1\" class=\"dataframe\">\n",
       "  <thead>\n",
       "    <tr style=\"text-align: right;\">\n",
       "      <th></th>\n",
       "      <th>id</th>\n",
       "      <th>name</th>\n",
       "      <th>active</th>\n",
       "      <th>status</th>\n",
       "      <th>pipeline_name</th>\n",
       "      <th>last_run</th>\n",
       "      <th>next_run</th>\n",
       "      <th>alert_threshold</th>\n",
       "      <th>workspace_id</th>\n",
       "      <th>workspace_name</th>\n",
       "      <th>baseline</th>\n",
       "      <th>iopath</th>\n",
       "      <th>metric</th>\n",
       "      <th>num_bins</th>\n",
       "      <th>bin_weights</th>\n",
       "      <th>bin_mode</th>\n",
       "    </tr>\n",
       "  </thead>\n",
       "  <tbody>\n",
       "    <tr>\n",
       "      <th>0</th>\n",
       "      <td>2</td>\n",
       "      <td>assays from date baseline tutorial 2</td>\n",
       "      <td>True</td>\n",
       "      <td>{\"run_at\": \"2024-07-16T18:35:03.031351761+00:00\",  \"num_ok\": 0, \"num_warnings\": 0, \"num_alerts\": 0}</td>\n",
       "      <td>assay-demonstration-tutorial</td>\n",
       "      <td>2024-07-16T18:35:03.031352+00:00</td>\n",
       "      <td>2024-07-16T18:34:27.239563+00:00</td>\n",
       "      <td>0.5</td>\n",
       "      <td>29</td>\n",
       "      <td>assay-demonstration-tutorial-2</td>\n",
       "      <td>Start:2024-07-16T17:12:27.123262+00:00, End:2024-07-16T17:13:27.222262+00:00</td>\n",
       "      <td>output variable 0</td>\n",
       "      <td>MaxDiff</td>\n",
       "      <td>5</td>\n",
       "      <td>None</td>\n",
       "      <td>Quantile</td>\n",
       "    </tr>\n",
       "  </tbody>\n",
       "</table>\n",
       "</div>"
      ],
      "text/plain": [
       "   id                                  name  active  \\\n",
       "0   2  assays from date baseline tutorial 2    True   \n",
       "\n",
       "                                                                                                status  \\\n",
       "0  {\"run_at\": \"2024-07-16T18:35:03.031351761+00:00\",  \"num_ok\": 0, \"num_warnings\": 0, \"num_alerts\": 0}   \n",
       "\n",
       "                  pipeline_name                          last_run  \\\n",
       "0  assay-demonstration-tutorial  2024-07-16T18:35:03.031352+00:00   \n",
       "\n",
       "                           next_run  alert_threshold  workspace_id  \\\n",
       "0  2024-07-16T18:34:27.239563+00:00              0.5            29   \n",
       "\n",
       "                   workspace_name  \\\n",
       "0  assay-demonstration-tutorial-2   \n",
       "\n",
       "                                                                       baseline  \\\n",
       "0  Start:2024-07-16T17:12:27.123262+00:00, End:2024-07-16T17:13:27.222262+00:00   \n",
       "\n",
       "              iopath   metric  num_bins bin_weights  bin_mode  \n",
       "0  output variable 0  MaxDiff         5        None  Quantile  "
      ]
     },
     "execution_count": 44,
     "metadata": {},
     "output_type": "execute_result"
    }
   ],
   "source": [
    "wl.get_assay_info(assay_id=assay_id)"
   ]
  },
  {
   "cell_type": "markdown",
   "metadata": {},
   "source": [
    "Get assay info filtered by workspace id."
   ]
  },
  {
   "cell_type": "code",
   "execution_count": 45,
   "metadata": {},
   "outputs": [
    {
     "data": {
      "text/html": [
       "<div>\n",
       "<style scoped>\n",
       "    .dataframe tbody tr th:only-of-type {\n",
       "        vertical-align: middle;\n",
       "    }\n",
       "\n",
       "    .dataframe tbody tr th {\n",
       "        vertical-align: top;\n",
       "    }\n",
       "\n",
       "    .dataframe thead th {\n",
       "        text-align: right;\n",
       "    }\n",
       "</style>\n",
       "<table border=\"1\" class=\"dataframe\">\n",
       "  <thead>\n",
       "    <tr style=\"text-align: right;\">\n",
       "      <th></th>\n",
       "      <th>id</th>\n",
       "      <th>name</th>\n",
       "      <th>active</th>\n",
       "      <th>status</th>\n",
       "      <th>pipeline_name</th>\n",
       "      <th>last_run</th>\n",
       "      <th>next_run</th>\n",
       "      <th>alert_threshold</th>\n",
       "      <th>workspace_id</th>\n",
       "      <th>workspace_name</th>\n",
       "      <th>baseline</th>\n",
       "      <th>iopath</th>\n",
       "      <th>metric</th>\n",
       "      <th>num_bins</th>\n",
       "      <th>bin_weights</th>\n",
       "      <th>bin_mode</th>\n",
       "    </tr>\n",
       "  </thead>\n",
       "  <tbody>\n",
       "    <tr>\n",
       "      <th>0</th>\n",
       "      <td>2</td>\n",
       "      <td>assays from date baseline tutorial 2</td>\n",
       "      <td>True</td>\n",
       "      <td>{\"run_at\": \"2024-07-16T18:36:03.030744191+00:00\",  \"num_ok\": 0, \"num_warnings\": 0, \"num_alerts\": 0}</td>\n",
       "      <td>assay-demonstration-tutorial</td>\n",
       "      <td>2024-07-16T18:36:03.030744+00:00</td>\n",
       "      <td>2024-07-16T18:35:27.239563+00:00</td>\n",
       "      <td>0.5</td>\n",
       "      <td>29</td>\n",
       "      <td>assay-demonstration-tutorial-2</td>\n",
       "      <td>Start:2024-07-16T17:12:27.123262+00:00, End:2024-07-16T17:13:27.222262+00:00</td>\n",
       "      <td>output variable 0</td>\n",
       "      <td>MaxDiff</td>\n",
       "      <td>5</td>\n",
       "      <td>None</td>\n",
       "      <td>Quantile</td>\n",
       "    </tr>\n",
       "  </tbody>\n",
       "</table>\n",
       "</div>"
      ],
      "text/plain": [
       "   id                                  name  active  \\\n",
       "0   2  assays from date baseline tutorial 2    True   \n",
       "\n",
       "                                                                                                status  \\\n",
       "0  {\"run_at\": \"2024-07-16T18:36:03.030744191+00:00\",  \"num_ok\": 0, \"num_warnings\": 0, \"num_alerts\": 0}   \n",
       "\n",
       "                  pipeline_name                          last_run  \\\n",
       "0  assay-demonstration-tutorial  2024-07-16T18:36:03.030744+00:00   \n",
       "\n",
       "                           next_run  alert_threshold  workspace_id  \\\n",
       "0  2024-07-16T18:35:27.239563+00:00              0.5            29   \n",
       "\n",
       "                   workspace_name  \\\n",
       "0  assay-demonstration-tutorial-2   \n",
       "\n",
       "                                                                       baseline  \\\n",
       "0  Start:2024-07-16T17:12:27.123262+00:00, End:2024-07-16T17:13:27.222262+00:00   \n",
       "\n",
       "              iopath   metric  num_bins bin_weights  bin_mode  \n",
       "0  output variable 0  MaxDiff         5        None  Quantile  "
      ]
     },
     "execution_count": 45,
     "metadata": {},
     "output_type": "execute_result"
    }
   ],
   "source": [
    "wl.get_assay_info(assay_id=assay_id, \n",
    "                 workspace_id=29)"
   ]
  },
  {
   "cell_type": "markdown",
   "metadata": {},
   "source": [
    "Get assay info filtered by workspace name."
   ]
  },
  {
   "cell_type": "code",
   "execution_count": 46,
   "metadata": {},
   "outputs": [
    {
     "data": {
      "text/html": [
       "<div>\n",
       "<style scoped>\n",
       "    .dataframe tbody tr th:only-of-type {\n",
       "        vertical-align: middle;\n",
       "    }\n",
       "\n",
       "    .dataframe tbody tr th {\n",
       "        vertical-align: top;\n",
       "    }\n",
       "\n",
       "    .dataframe thead th {\n",
       "        text-align: right;\n",
       "    }\n",
       "</style>\n",
       "<table border=\"1\" class=\"dataframe\">\n",
       "  <thead>\n",
       "    <tr style=\"text-align: right;\">\n",
       "      <th></th>\n",
       "      <th>id</th>\n",
       "      <th>name</th>\n",
       "      <th>active</th>\n",
       "      <th>status</th>\n",
       "      <th>pipeline_name</th>\n",
       "      <th>last_run</th>\n",
       "      <th>next_run</th>\n",
       "      <th>alert_threshold</th>\n",
       "      <th>workspace_id</th>\n",
       "      <th>workspace_name</th>\n",
       "      <th>baseline</th>\n",
       "      <th>iopath</th>\n",
       "      <th>metric</th>\n",
       "      <th>num_bins</th>\n",
       "      <th>bin_weights</th>\n",
       "      <th>bin_mode</th>\n",
       "    </tr>\n",
       "  </thead>\n",
       "  <tbody>\n",
       "    <tr>\n",
       "      <th>0</th>\n",
       "      <td>2</td>\n",
       "      <td>assays from date baseline tutorial 2</td>\n",
       "      <td>True</td>\n",
       "      <td>{\"run_at\": \"2024-07-16T18:36:03.030744191+00:00\",  \"num_ok\": 0, \"num_warnings\": 0, \"num_alerts\": 0}</td>\n",
       "      <td>assay-demonstration-tutorial</td>\n",
       "      <td>2024-07-16T18:36:03.030744+00:00</td>\n",
       "      <td>2024-07-16T18:35:27.239563+00:00</td>\n",
       "      <td>0.5</td>\n",
       "      <td>29</td>\n",
       "      <td>assay-demonstration-tutorial-2</td>\n",
       "      <td>Start:2024-07-16T17:12:27.123262+00:00, End:2024-07-16T17:13:27.222262+00:00</td>\n",
       "      <td>output variable 0</td>\n",
       "      <td>MaxDiff</td>\n",
       "      <td>5</td>\n",
       "      <td>None</td>\n",
       "      <td>Quantile</td>\n",
       "    </tr>\n",
       "  </tbody>\n",
       "</table>\n",
       "</div>"
      ],
      "text/plain": [
       "   id                                  name  active  \\\n",
       "0   2  assays from date baseline tutorial 2    True   \n",
       "\n",
       "                                                                                                status  \\\n",
       "0  {\"run_at\": \"2024-07-16T18:36:03.030744191+00:00\",  \"num_ok\": 0, \"num_warnings\": 0, \"num_alerts\": 0}   \n",
       "\n",
       "                  pipeline_name                          last_run  \\\n",
       "0  assay-demonstration-tutorial  2024-07-16T18:36:03.030744+00:00   \n",
       "\n",
       "                           next_run  alert_threshold  workspace_id  \\\n",
       "0  2024-07-16T18:35:27.239563+00:00              0.5            29   \n",
       "\n",
       "                   workspace_name  \\\n",
       "0  assay-demonstration-tutorial-2   \n",
       "\n",
       "                                                                       baseline  \\\n",
       "0  Start:2024-07-16T17:12:27.123262+00:00, End:2024-07-16T17:13:27.222262+00:00   \n",
       "\n",
       "              iopath   metric  num_bins bin_weights  bin_mode  \n",
       "0  output variable 0  MaxDiff         5        None  Quantile  "
      ]
     },
     "execution_count": 46,
     "metadata": {},
     "output_type": "execute_result"
    }
   ],
   "source": [
    "wl.get_assay_info(assay_id=assay_id, \n",
    "                 workspace_name=\"assay-demonstration-tutorial-2\")"
   ]
  }
 ],
 "metadata": {
  "kernelspec": {
   "display_name": "Python 3 (ipykernel)",
   "language": "python",
   "name": "python3"
  },
  "language_info": {
   "codemirror_mode": {
    "name": "ipython",
    "version": 3
   },
   "file_extension": ".py",
   "mimetype": "text/x-python",
   "name": "python",
   "nbconvert_exporter": "python",
   "pygments_lexer": "ipython3",
   "version": "3.9.13"
  },
  "vscode": {
   "interpreter": {
    "hash": "7dda4bf3640b7fafcd1648658b879b4cc9f6ba6084e8fb356fdaaa1a461d1690"
   }
  }
 },
 "nbformat": 4,
 "nbformat_minor": 4
}
