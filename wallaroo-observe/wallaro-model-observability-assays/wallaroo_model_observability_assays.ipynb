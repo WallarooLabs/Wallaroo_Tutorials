{
 "cells": [
  {
   "cell_type": "markdown",
   "metadata": {},
   "source": [
    "This tutorial and the assets can be downloaded as part of the [Wallaroo Tutorials repository](https://github.com/WallarooLabs/Wallaroo_Tutorials/blob/wallaroo2024.4_tutorials/wallaroo-observe/wallaro-model-observability-assays).\n",
    "\n",
    "## Model Drift Observability with Assays\n",
    "\n",
    "The Model Insights feature lets you monitor how the environment that your model operates within may be changing in ways that affect it's predictions so that you can intervene (retrain) in an efficient and timely manner. Changes in the inputs, **data drift**, can occur due to errors in the data processing pipeline or due to changes in the environment such as user preference or behavior. \n",
    "\n",
    "This notebook focuses on interactive exploration over historical data. After you are comfortable with how your data has behaved historically, you can schedule this same analysis (called an *assay*) to automatically run periodically, looking for indications of data drift or concept drift.\n",
    "\n",
    "In this notebook, we will be running a drift assay on an ONNX model pre-trained to predict house prices.\n",
    "\n",
    "## Goal\n",
    "\n",
    "Model insights monitors the output of the spam classifier model over a designated time window and compares it to an expected baseline distribution. We measure the difference between  the window distribution and the baseline distribution; large differences indicate that the behavior of the model (or its inputs) has changed from what we expect. This possibly indicates a change that should be accounted for, possibly by retraining the models.\n",
    "\n",
    "### Resources\n",
    "\n",
    "This tutorial provides the following:\n",
    "\n",
    "* Models:\n",
    "  * `models/rf_model.onnx`: The champion model that has been used in this environment for some time.\n",
    "  * Various inputs:\n",
    "    * `smallinputs.df.json`: A set of house inputs that tends to generate low house price values.\n",
    "    * `biginputs.df.json`: A set of house inputs that tends to generate high house price values.\n",
    "\n",
    "### Prerequisites\n",
    "\n",
    "* A deployed Wallaroo instance\n",
    "* The following Python libraries installed:\n",
    "  * [`wallaroo`](https://pypi.org/project/wallaroo/): The Wallaroo SDK. Included with the Wallaroo JupyterHub service by default.\n",
    "  * [`pandas`](https://pypi.org/project/pandas/): Pandas, mainly used for Pandas DataFrame\n"
   ]
  },
  {
   "cell_type": "markdown",
   "metadata": {},
   "source": [
    "## Steps\n",
    "\n",
    "* Deploying a sample ML model used to determine house prices based on a set of input parameters.\n",
    "* Build an assay baseline from a set of baseline start and end dates, and an assay baseline from a numpy array.\n",
    "* Preview the assay and show different assay configurations.\n",
    "* Upload the assay.\n",
    "* View assay results.\n",
    "* Pause and resume the assay.\n",
    "\n",
    "### Import Libraries\n",
    "\n",
    "The first step will be to import our libraries, and set variables used through this tutorial."
   ]
  },
  {
   "cell_type": "code",
   "execution_count": null,
   "metadata": {},
   "outputs": [],
   "source": [
    "import os\n",
    "\n",
    "os.environ[\"ASSAYS_V2_ENABLED\"] = \"True\""
   ]
  },
  {
   "cell_type": "code",
   "execution_count": null,
   "metadata": {},
   "outputs": [],
   "source": [
    "import wallaroo\n",
    "from wallaroo.object import EntityNotFoundError\n",
    "from wallaroo.framework import Framework\n",
    "\n",
    "from IPython.display import display\n",
    "\n",
    "# used to display DataFrame information without truncating\n",
    "from IPython.display import display\n",
    "import pandas as pd\n",
    "pd.set_option('display.max_colwidth', None)\n",
    "pd.set_option('display.max_columns', None)\n",
    "\n",
    "import datetime\n",
    "import time\n",
    "\n",
    "workspace_name = f'assay-demonstration-tutorial-2'\n",
    "main_pipeline_name = f'assay-demonstration-tutorial'\n",
    "model_name_control = f'house-price-estimator'\n",
    "model_file_name_control = './models/rf_model.onnx'\n",
    "\n",
    "# Set the name of the assay\n",
    "assay_name=f\"house price assay demo v2\"\n",
    "\n",
    "# ignoring warnings for demonstration\n",
    "import warnings\n",
    "warnings.filterwarnings('ignore')\n",
    "\n",
    "# used to display DataFrame information without truncating\n",
    "from IPython.display import display\n",
    "import pandas as pd\n",
    "pd.set_option('display.max_colwidth', None)\n",
    "pd.set_option('display.max_columns', None)"
   ]
  },
  {
   "cell_type": "markdown",
   "metadata": {},
   "source": [
    "### Connect to the Wallaroo Instance\n",
    "\n",
    "The first step is to connect to Wallaroo through the Wallaroo client.  The Python library is included in the Wallaroo install and available through the Jupyter Hub interface provided with your Wallaroo environment.\n",
    "\n",
    "This is accomplished using the `wallaroo.Client()` command, which provides a URL to grant the SDK permission to your specific Wallaroo environment.  When displayed, enter the URL into a browser and confirm permissions.  Store the connection into a variable that can be referenced later.\n",
    "\n",
    "If logging into the Wallaroo instance through the internal JupyterHub service, use `wl = wallaroo.Client()`.  For more information on Wallaroo Client settings, see the [Client Connection guide](https://docs.wallaroo.ai/wallaroo-developer-guides/wallaroo-sdk-guides/wallaroo-sdk-essentials-guide/wallaroo-sdk-essentials-client/)."
   ]
  },
  {
   "cell_type": "code",
   "execution_count": null,
   "metadata": {},
   "outputs": [],
   "source": [
    "# Login through local Wallaroo instance\n",
    "\n",
    "wl = wallaroo.Client()"
   ]
  },
  {
   "cell_type": "markdown",
   "metadata": {},
   "source": [
    "### Create Workspace\n",
    "\n",
    "We will create a workspace to manage our pipeline and models.  The following variables will set the name of our sample workspace then set it as the current workspace.\n",
    "\n",
    "Workspace, pipeline, and model names should be unique to each user, so we'll add in a randomly generated suffix so multiple people can run this tutorial in a Wallaroo instance without effecting each other."
   ]
  },
  {
   "cell_type": "code",
   "execution_count": null,
   "metadata": {},
   "outputs": [],
   "source": [
    "workspace = wl.get_workspace(name=workspace_name, create_if_not_exist=True)\n",
    "\n",
    "wl.set_current_workspace(workspace)"
   ]
  },
  {
   "cell_type": "markdown",
   "metadata": {},
   "source": [
    "### Upload Model\n",
    "\n",
    "For our example, we will upload the model that has been trained to derive house prices from a variety of inputs.  The model file is `rf_model.onnx`, and is uploaded with the name `house-price-estimator`."
   ]
  },
  {
   "cell_type": "code",
   "execution_count": null,
   "metadata": {},
   "outputs": [],
   "source": [
    "housing_model_control = (wl.upload_model(model_name_control, \n",
    "                                        model_file_name_control, \n",
    "                                        framework=Framework.ONNX)\n",
    "                                        .configure(tensor_fields=[\"tensor\"])\n",
    "                        )"
   ]
  },
  {
   "cell_type": "markdown",
   "metadata": {},
   "source": [
    "### Build the Pipeline\n",
    "\n",
    "This pipeline is made to be an example of an existing situation where a model is deployed and being used for inferences in a production environment.  We'll call it `assay-demonstration-tutorial`, set `housing_model_control` as a pipeline step, then run a few sample inferences.\n",
    "\n",
    "This pipeline will be a simple one - just a single pipeline step."
   ]
  },
  {
   "cell_type": "code",
   "execution_count": null,
   "metadata": {},
   "outputs": [],
   "source": [
    "mainpipeline = wl.build_pipeline(main_pipeline_name)\n",
    "# # clear the steps if used before\n",
    "mainpipeline.clear()\n",
    "\n",
    "mainpipeline.add_model_step(housing_model_control)\n",
    "\n",
    "#minimum deployment config\n",
    "deploy_config = wallaroo.DeploymentConfigBuilder().replica_count(1).cpus(0.5).memory(\"1Gi\").build()\n",
    "\n",
    "mainpipeline.deploy(deployment_config = deploy_config, wait_for_status=False)"
   ]
  },
  {
   "cell_type": "code",
   "execution_count": null,
   "metadata": {},
   "outputs": [],
   "source": [
    "# check the pipeline status before performing an inference\n",
    "\n",
    "import time\n",
    "time.sleep(15)\n",
    "\n",
    "while mainpipeline.status()['status'] != 'Running':\n",
    "    time.sleep(15)\n",
    "    display(mainpipeline.status()['status'])\n",
    "\n",
    "mainpipeline.status()"
   ]
  },
  {
   "cell_type": "markdown",
   "metadata": {},
   "source": [
    "### Testing\n",
    "\n",
    "We'll use two inferences as a quick sample test - one that has a house that should be determined around `$700k`, the other with a house determined to be around `$1.5` million."
   ]
  },
  {
   "cell_type": "code",
   "execution_count": null,
   "metadata": {},
   "outputs": [],
   "source": [
    "normal_input = pd.DataFrame.from_records({\"tensor\": [[4.0, 2.5, 2900.0, 5505.0, 2.0, 0.0, 0.0, 3.0, 8.0, 2900.0, 0.0, 47.6063, -122.02, 2970.0, 5251.0, 12.0, 0.0, 0.0]]})\n",
    "result = mainpipeline.infer(normal_input)\n",
    "display(result)"
   ]
  },
  {
   "cell_type": "code",
   "execution_count": null,
   "metadata": {},
   "outputs": [],
   "source": [
    "large_house_input = pd.DataFrame.from_records({'tensor': [[4.0, 3.0, 3710.0, 20000.0, 2.0, 0.0, 2.0, 5.0, 10.0, 2760.0, 950.0, 47.6696, -122.261, 3970.0, 20000.0, 79.0, 0.0, 0.0]]})\n",
    "large_house_result = mainpipeline.infer(large_house_input)\n",
    "display(large_house_result)"
   ]
  },
  {
   "cell_type": "markdown",
   "metadata": {},
   "source": [
    "### Generate Sample Data\n",
    "\n",
    "Before creating the assays, we must generate data for the assays to build from.\n",
    "\n",
    "For this example, we will:\n",
    "\n",
    "* Perform sample inferences based on lower priced houses and use that as our baseline.\n",
    "* Generate inferences from specific set of high priced houses create inference outputs that will be outside the baseline.  This is used in later steps to demonstrate baseline comparison against assay analyses."
   ]
  },
  {
   "cell_type": "markdown",
   "metadata": {},
   "source": [
    "#### Inference Results History Generation\n",
    "\n",
    "To start the demonstration, we'll create a set of inferences based on houses with small estimated prices.\n",
    "\n",
    "We will save the beginning and end periods of inferences to the variables `assay_baseline_start` and `assay_baseline_end`.  These will be used later to create assay baselines from a **range of dates**."
   ]
  },
  {
   "cell_type": "code",
   "execution_count": null,
   "metadata": {},
   "outputs": [],
   "source": [
    "small_houses_inputs = pd.read_json('./data/smallinputs.df.json')\n",
    "baseline_size = 500\n",
    "\n",
    "# Where the baseline data will start\n",
    "assay_baseline_start = datetime.datetime.now()\n",
    "\n",
    "# These inputs will be random samples of small priced houses.  Around 30,000 is a good number\n",
    "small_houses = small_houses_inputs.sample(baseline_size, replace=True).reset_index(drop=True)\n",
    "\n",
    "# Wait 60 seconds to set this data apart from the rest\n",
    "time.sleep(60)\n",
    "small_results = mainpipeline.infer(small_houses)\n",
    "\n",
    "# Set the baseline end\n",
    "\n",
    "assay_baseline_end = datetime.datetime.now()"
   ]
  },
  {
   "cell_type": "markdown",
   "metadata": {},
   "source": [
    "#### Generate Numpy Baseline Values\n",
    "\n",
    "From our inference outputs, we will create an array of numpy values.  These are used for **assays baselines created from numpy values**."
   ]
  },
  {
   "cell_type": "code",
   "execution_count": null,
   "metadata": {},
   "outputs": [],
   "source": [
    "# get the numpy values\n",
    "\n",
    "# set the results to a non-array value\n",
    "small_results_baseline_df = small_results.copy()\n",
    "small_results_baseline_df['variable']=small_results['out.variable'].map(lambda x: x[0])\n",
    "small_results_baseline_df\n",
    "\n",
    "# set the numpy array\n",
    "small_results_baseline = small_results_baseline_df['variable'].to_numpy()"
   ]
  },
  {
   "cell_type": "markdown",
   "metadata": {},
   "source": [
    "#### Assay Test Data\n",
    "\n",
    "The following will generate inference data for us to test against the assay baseline.  For this, we will add in house data that generate higher house prices than the baseline data we used earlier.\n",
    "\n",
    "This process should take 6 minutes to generate the historical data we'll later use in our assays.  We store the DateTime `assay_window_start` to determine where to start out assay analyses."
   ]
  },
  {
   "cell_type": "code",
   "execution_count": null,
   "metadata": {},
   "outputs": [],
   "source": [
    "# Get a spread of house values\n",
    "\n",
    "# # Set the start for our assay window period.\n",
    "assay_window_start = datetime.datetime.now()\n",
    "\n",
    "\n",
    "\n",
    "for x in range(10):\n",
    "    time.sleep(65)\n",
    "    inference_size = 1000\n",
    "\n",
    "    # And a spread of small house values\n",
    "\n",
    "    small_houses_inputs = pd.read_json('./data/smallinputs.df.json', orient=\"records\")\n",
    "    small_houses = small_houses_inputs.sample(inference_size, replace=True).reset_index(drop=True)\n",
    "\n",
    "    mainpipeline.infer(small_houses)\n",
    "\n",
    "time.sleep(65)"
   ]
  },
  {
   "cell_type": "code",
   "execution_count": null,
   "metadata": {},
   "outputs": [],
   "source": [
    "# Get a spread of large house values\n",
    "\n",
    "for x in range(10):\n",
    "    time.sleep(65)\n",
    "    inference_size = 1000\n",
    "\n",
    "    # And a spread of large house values\n",
    "\n",
    "    big_houses_inputs = pd.read_json('./data/biginputs.df.json', orient=\"records\")\n",
    "    big_houses = big_houses_inputs.sample(inference_size, replace=True).reset_index(drop=True)\n",
    "\n",
    "    mainpipeline.infer(big_houses)\n",
    "\n",
    "time.sleep(65)"
   ]
  },
  {
   "cell_type": "markdown",
   "metadata": {},
   "source": [
    "## Model Insights via the Wallaroo Dashboard SDK\n",
    "\n",
    "Assays generated through the Wallaroo SDK can be previewed, configured, and uploaded to the Wallaroo Ops instance.  The following is a condensed version of this process.  For full details see the [Wallaroo SDK Essentials Guide: Assays Management](https://docs.wallaroo.ai/wallaroo-developer-guides/wallaroo-sdk-guides/wallaroo-sdk-essentials-guide/wallaroo-sdk-essentials-assays/) guide.\n",
    "\n",
    "Model drift detection with assays using the Wallaroo SDK follows this general process.\n",
    "\n",
    "* Define the Baseline: From either historical inference data for a specific model in a pipeline, or from a pre-determine array of data, a **baseline** is formed.\n",
    "* Assay Preview:  Once the baseline is formed, we **preview the assay** and configure the different options until we have the the best method of detecting environment or model drift.\n",
    "* Create Assay:  With the previews and configuration complete, we **upload** the assay.  The assay will perform an analysis on a regular scheduled based on the configuration.\n",
    "* Get Assay Results:  Retrieve the analyses and use them to detect model drift and possible sources.\n",
    "* Pause/Resume Assay:  Pause or restart an assay as needed.\n",
    "\n",
    "### Define the Baseline\n",
    "\n",
    "Assay baselines are defined with the [`wallaroo.client.build_assay`](https://docs.wallaroo.ai/wallaroo-developer-guides/wallaroo-sdk-guides/wallaroo-sdk-reference-guide/client/#Client.build_assay) method. Through this process we define the baseline from either a range of dates or pre-generated values.\n",
    "\n",
    "`wallaroo.client.build_assay` take the following parameters:\n",
    "\n",
    "| Parameter | Type | Description |\n",
    "|---|---|---|\n",
    "| **assay_name** | *String* (*Required*) - required | The name of the assay.  Assay names **must** be unique across the Wallaroo instance. |\n",
    "| **pipeline** | *wallaroo.pipeline.Pipeline* (*Required*) | The pipeline the assay is monitoring. |\n",
    "| **model_name** | *String* (*Optional*) / `None` | The name of the model to monitor.  This field should only be used to track the inputs/outputs for a specific model step in a pipeline.  If no `model_name` is to be included, then the parameters must be passed a named parameters not positional ones.   |\n",
    "| **iopath** | *String* (*Required*) | The input/output data for the model being tracked in the format `input/output field index`.  Only one value is tracked for any assay.  For example, to track the **output** of the model's field `house_value` at index `0`, the `iopath` is `'output house_value 0`. |\n",
    "| **baseline_start** | *datetime.datetime* (*Optional*) | The start time for the inferences to use as the baseline.  **Must be included with `baseline_end`.  Cannot be included with `baseline_data`**. |\n",
    "| **baseline_end** | *datetime.datetime* (*Optional*) | The end time of the baseline window. the baseline. Windows start immediately after the baseline window and are run at regular intervals continuously until the assay is deactivated or deleted.  **Must be included with `baseline_start`.  Cannot be included with `baseline_data`.**. |\n",
    "| **baseline_data** | *numpy.array* (*Optional*) | The baseline data in numpy array format.  **Cannot be included with either `baseline_start` or `baseline_data`**. |\n",
    "\n",
    "Note that `model_name` is an optional parameters **when parameters are named**.  For example:\n",
    "\n",
    "```python\n",
    "assay_builder_from_dates = wl.build_assay(assay_name=assay_name, \n",
    "                                          pipeline=mainpipeline, \n",
    "                                          iopath=\"output variable 0\",\n",
    "                                          baseline_start=assay_baseline_start, \n",
    "                                          baseline_end=assay_baseline_end)\n",
    "```\n",
    "\n",
    "**or**:\n",
    "\n",
    "```python\n",
    "assay_builder_from_dates = wl.build_assay(\"assays from date baseline\", \n",
    "                                          mainpipeline, \n",
    "                                          None, ## since we are using positional parameters, `None` must be included for the model parameter\n",
    "                                          \"output variable 0\",\n",
    "                                          assay_baseline_start, \n",
    "                                          assay_baseline_end)\n",
    "```\n",
    "\n",
    "Baselines are created in one of two **mutually exclusive** methods:\n",
    "\n",
    "* **Date Range**:  The `baseline_start` and `baseline_end` retrieves the inference requests and results for the pipeline from the start and end period.  This data is summarized and used to create the baseline.  For our examples, we're using the variables `assay_baseline_start` and `assay_baseline_end` to represent a range of dates, with `assay_baseline_start` being set **before** `assay_baseline_end`.\n",
    "* **Numpy Values**:  The `baseline_data` sets the baseline from a provided numpy array.  This allows assay baselines to be created without first performing inferences in Wallaroo.\n",
    "\n",
    "#### Define the Baseline Example\n",
    "\n",
    "This example shows two methods of defining the baseline for an assay:\n",
    "\n",
    "* `\"assays from date baseline\"`: This assay uses historical inference requests to define the baseline.  This assay is saved to the variable `assay_builder_from_dates`.\n",
    "* `\"assays from numpy\"`:  This assay uses a pre-generated numpy array to define the baseline.  This assay is saved to the variable `assay_builder_from_numpy`.\n",
    "\n",
    "In both cases, the following parameters are used:\n",
    "\n",
    "| Parameter | Value |\n",
    "|---|---|\n",
    "| **assay_name** | `\"assays from date baseline\"` and `\"assays from numpy\"` |\n",
    "| **pipeline** | `mainpipeline`:  A pipeline with a ML model that predicts house prices.  The output field for this model is `variable`. |\n",
    "| **iopath** | These assays monitor the model's **output** field **variable** at index 0 for the pipeline.  From this, the `iopath` setting is `\"output variable 0\"`.  |\n",
    "\n",
    "The difference between the two assays' parameters determines how the baseline is generated.\n",
    "\n",
    "* `\"assays from date baseline\"`: Uses the `baseline_start` and `baseline_end` to set the time period of inference requests and results to gather data from.\n",
    "* `\"assays from numpy\"`:  Uses a pre-generated numpy array as for the baseline data.\n",
    "\n",
    "First we generate an assay baseline from a range of historical inferences performed through the specified pipeline deployment."
   ]
  },
  {
   "cell_type": "code",
   "execution_count": null,
   "metadata": {},
   "outputs": [],
   "source": [
    "# Build the assay, based on the start and end of our baseline time, \n",
    "# and tracking the output variable index 0\n",
    "\n",
    "display(assay_baseline_start)\n",
    "display(assay_baseline_end)\n",
    "\n",
    "assay_baseline_from_dates = wl.build_assay(assay_name=assay_name, \n",
    "                                          pipeline=mainpipeline, \n",
    "                                          iopath=\"output variable 0\",\n",
    "                                          baseline_start=assay_baseline_start, \n",
    "                                          baseline_end=assay_baseline_end)\n",
    "\n",
    "# create the baseline from the dates\n",
    "assay_baseline_run_from_dates = assay_baseline_from_dates.build().interactive_baseline_run()"
   ]
  },
  {
   "cell_type": "code",
   "execution_count": null,
   "metadata": {},
   "outputs": [],
   "source": [
    "# storing the workspace id for later requests\n",
    "workspace_id = workspace.id()\n",
    "workspace_id"
   ]
  },
  {
   "cell_type": "markdown",
   "metadata": {},
   "source": [
    "In this code sample, we generate the assay baseline from a preset numpy array called `small_results_baseline`."
   ]
  },
  {
   "cell_type": "code",
   "execution_count": null,
   "metadata": {},
   "outputs": [],
   "source": [
    "# build the baseline from the numpy array\n",
    "display(small_results_baseline[0:5])\n",
    "\n",
    "# assay builder by baseline\n",
    "assay_baseline_from_numpy = wl.build_assay(assay_name, \n",
    "                               pipeline=mainpipeline, \n",
    "                               iopath=\"output variable 0\", \n",
    "                               baseline_data = small_results_baseline)\n",
    "\n",
    "# create the baseline from the numpy array\n",
    "assay_baseline_run_from_numpy = assay_baseline_from_numpy.build().interactive_baseline_run()"
   ]
  },
  {
   "cell_type": "markdown",
   "metadata": {},
   "source": [
    "#### Baseline Chart\n",
    "\n",
    "The baseline chart is displayed with `wallaroo.assay.AssayAnalysis.chart()`, which returns a chart with:\n",
    "\n",
    "* **baseline mean**:  The mean value of the baseline values.\n",
    "* **baseline median**: The median value of the baseline values.\n",
    "* **bin_mode**: The binning mode.  See [Binning Mode](#binning-mode)\n",
    "* **aggregation**:  The aggregation type.  See [Aggregation Options](#aggregation-options)\n",
    "* **metric**:  The assay's metric type.  See [Score Metric](#score-metric)\n",
    "* **weighted**:  Whether the binning mode is weighted.  See [Binning Mode](#binning-mode)"
   ]
  },
  {
   "cell_type": "markdown",
   "metadata": {},
   "source": [
    "The first chart is from an assay baseline generated from a set of inferences across a range of dates."
   ]
  },
  {
   "cell_type": "code",
   "execution_count": null,
   "metadata": {},
   "outputs": [],
   "source": [
    "assay_baseline_run_from_dates.chart()"
   ]
  },
  {
   "cell_type": "markdown",
   "metadata": {},
   "source": [
    "This chart is from an assay baseline generated from a set of numpy values."
   ]
  },
  {
   "cell_type": "code",
   "execution_count": null,
   "metadata": {},
   "outputs": [],
   "source": [
    "assay_baseline_run_from_numpy.chart()"
   ]
  },
  {
   "cell_type": "markdown",
   "metadata": {},
   "source": [
    "#### Baseline DataFrame\n",
    "\n",
    "The method [`wallaroo.assay_config.AssayBuilder.baseline_dataframe`](https://docs.wallaroo.ai/wallaroo-developer-guides/wallaroo-sdk-guides/wallaroo-sdk-reference-guide/assay_config/#AssayBuilder.baseline_dataframe) returns a DataFrame of the assay baseline generated from the provided parameters.  This includes:\n",
    "\n",
    "* `metadata`:  The inference metadata with the model information, inference time, and other related factors.\n",
    "* `in` data:  Each input field assigned with the label `in.{input field name}`.\n",
    "* `out` data:  Each output field assigned with the label `out.{output field name}`\n",
    "\n",
    "Note that for assays generated from numpy values, there is only the `out` data based on the supplied baseline data.\n",
    "\n",
    "In the following example, the baseline DataFrame is retrieved.  "
   ]
  },
  {
   "cell_type": "markdown",
   "metadata": {},
   "source": [
    "This baseline DataFrame is from an assay baseline generated from a set of inferences across a range of dates."
   ]
  },
  {
   "cell_type": "code",
   "execution_count": null,
   "metadata": {},
   "outputs": [],
   "source": [
    "display(assay_baseline_from_dates.baseline_dataframe())"
   ]
  },
  {
   "cell_type": "markdown",
   "metadata": {},
   "source": [
    "This baseline DataFrame is from an assay baseline generated from an array of numpy values."
   ]
  },
  {
   "cell_type": "code",
   "execution_count": null,
   "metadata": {},
   "outputs": [],
   "source": [
    "display(assay_baseline_from_numpy.baseline_dataframe())"
   ]
  },
  {
   "cell_type": "markdown",
   "metadata": {},
   "source": [
    "#### Baseline Stats\n",
    "\n",
    "The method `wallaroo.assay.AssayAnalysis.baseline_stats()` returns a `pandas.core.frame.DataFrame` of the baseline stats.\n",
    "\n",
    "The baseline stats for each assay are displayed in the examples below."
   ]
  },
  {
   "cell_type": "markdown",
   "metadata": {},
   "source": [
    "This baseline states DataFrame is from an assay baseline generated from a set of inferences across a range of dates."
   ]
  },
  {
   "cell_type": "code",
   "execution_count": null,
   "metadata": {},
   "outputs": [],
   "source": [
    "assay_baseline_run_from_dates.baseline_stats()"
   ]
  },
  {
   "cell_type": "markdown",
   "metadata": {},
   "source": [
    "This baseline states DataFrame is from an assay baseline generated from an array of numpy values."
   ]
  },
  {
   "cell_type": "code",
   "execution_count": null,
   "metadata": {},
   "outputs": [],
   "source": [
    "assay_baseline_run_from_numpy.baseline_stats()"
   ]
  },
  {
   "cell_type": "markdown",
   "metadata": {},
   "source": [
    "#### Baseline Bins\n",
    "\n",
    "The method `wallaroo.assay.AssayAnalysis.baseline_bins` a simple dataframe to with the edge/bin data for a baseline."
   ]
  },
  {
   "cell_type": "markdown",
   "metadata": {},
   "source": [
    "These baseline bins DataFrame is from an assay baseline generated from a set of inferences across a range of dates."
   ]
  },
  {
   "cell_type": "code",
   "execution_count": null,
   "metadata": {},
   "outputs": [],
   "source": [
    "assay_baseline_run_from_dates.baseline_bins()"
   ]
  },
  {
   "cell_type": "markdown",
   "metadata": {},
   "source": [
    "These baseline bins DataFrame is from an assay baseline generated from an array of numpy values."
   ]
  },
  {
   "cell_type": "code",
   "execution_count": null,
   "metadata": {},
   "outputs": [],
   "source": [
    "assay_baseline_run_from_numpy.baseline_bins()"
   ]
  },
  {
   "cell_type": "markdown",
   "metadata": {},
   "source": [
    "#### Baseline Histogram Chart\n",
    "\n",
    "The method [`wallaroo.assay_config.AssayBuilder.baseline_histogram`](https://docs.wallaroo.ai/wallaroo-developer-guides/wallaroo-sdk-guides/wallaroo-sdk-reference-guide/assay_config/#AssayBuilder.baseline_dataframe) returns a histogram chart of the assay baseline generated from the provided parameters.\n",
    "\n",
    "These chart is from an assay baseline generated from a set of inferences across a range of dates."
   ]
  },
  {
   "cell_type": "code",
   "execution_count": null,
   "metadata": {},
   "outputs": [],
   "source": [
    "assay_baseline_from_dates.baseline_histogram()"
   ]
  },
  {
   "cell_type": "markdown",
   "metadata": {},
   "source": [
    "#### Baseline KDE Chart\n",
    "\n",
    "The method [`wallaroo.assay_config.AssayBuilder.baseline_kde`](https://docs.wallaroo.ai/wallaroo-developer-guides/wallaroo-sdk-guides/wallaroo-sdk-reference-guide/assay_config/#AssayBuilder.baseline_dataframe) returns a Kernel Density Estimation (KDE) chart of the assay baseline generated from the provided parameters.\n",
    "\n",
    "These chart is from an assay baseline generated from a set of inferences across a range of dates."
   ]
  },
  {
   "cell_type": "code",
   "execution_count": null,
   "metadata": {},
   "outputs": [],
   "source": [
    "assay_baseline_from_dates.baseline_kde()"
   ]
  },
  {
   "cell_type": "markdown",
   "metadata": {},
   "source": [
    "#### Baseline ECDF Chart\n",
    "\n",
    "The method [`wallaroo.assay_config.AssayBuilder.baseline_ecdf`](https://docs.wallaroo.ai/wallaroo-developer-guides/wallaroo-sdk-guides/wallaroo-sdk-reference-guide/assay_config/#AssayBuilder.baseline_dataframe) returns a Empirical Cumulative Distribution Function (CDF) chart of the assay baseline generated from the provided parameters.\n",
    "\n",
    "These chart is from an assay baseline generated from a set of inferences across a range of dates."
   ]
  },
  {
   "cell_type": "code",
   "execution_count": null,
   "metadata": {},
   "outputs": [],
   "source": [
    "assay_baseline_from_dates.baseline_ecdf()"
   ]
  },
  {
   "cell_type": "markdown",
   "metadata": {},
   "source": [
    "### Assay Preview\n",
    "\n",
    "Now that the baseline is defined, we look at different configuration options and view how the assay baseline and results changes.  Once we determine what gives us the best method of determining model drift, we can create the assay."
   ]
  },
  {
   "cell_type": "markdown",
   "metadata": {},
   "source": [
    "#### Analysis List Chart Scores\n",
    "\n",
    "Analysis List scores show the assay scores for each assay result interval in one chart.  Values that are outside of the alert threshold are colored red, while scores within the alert threshold are green.\n",
    "\n",
    "Assay chart scores are displayed with the method `wallaroo.assay.AssayAnalysisList.chart_scores`, with ability to display an optional title with the chart.  This takes the following parameters:\n",
    "\n",
    "| Parameter | Type | Description |\n",
    "|---|---|---|\n",
    "| **title** | *String* (*Optional*) | The title to assign the chart. |\n",
    "| **nth_x_tick** | *Integer* (*Optional*) (*Default: 4*) | The density of the x ticks.  |\n",
    "| **start** | *DateTime* (*Optional*) | The start time of the chart.  If `start` is set, the parameter `end` **must** be set. |\n",
    "| **end** | *DateTime* (*Optional*) | The end time of the chart.  If `end` is set, the parameter `start` **must** be set. |\n",
    "\n",
    "The following example shows retrieving the assay results and displaying the chart scores.  From our example, we have two windows - the first should be green, and the second is red showing that values were outside the alert threshold."
   ]
  },
  {
   "cell_type": "code",
   "execution_count": null,
   "metadata": {},
   "outputs": [],
   "source": [
    "assay_baseline = wl.build_assay(assay_name=assay_name, \n",
    "                                          pipeline=mainpipeline, \n",
    "                                          iopath=\"output variable 0\",\n",
    "                                          baseline_start=assay_baseline_start, \n",
    "                                          baseline_end=assay_baseline_end)\n",
    "\n",
    "\n",
    "# Set the assay parameters\n",
    "\n",
    "# The end date to gather inference results\n",
    "assay_baseline.add_run_until(datetime.datetime.now())\n",
    "\n",
    "# Set the interval and window to one minute each, set the start date for gathering inference results\n",
    "assay_baseline.window_builder().add_width(minutes=1).add_interval(minutes=1).add_start(assay_window_start)\n",
    "\n",
    "\n",
    "# build the assay configuration\n",
    "assay_config = assay_baseline.build()\n",
    "\n",
    "# perform an interactive run and collect inference data\n",
    "assay_results = assay_config.interactive_run()\n",
    "\n",
    "# show the analyses chart\n",
    "assay_results.chart_scores()"
   ]
  },
  {
   "cell_type": "markdown",
   "metadata": {},
   "source": [
    "The following chart uses the `nth_x_tick` setting to space out the x-axis labels further."
   ]
  },
  {
   "cell_type": "code",
   "execution_count": null,
   "metadata": {},
   "outputs": [],
   "source": [
    "# set different nth_x_tick\n",
    "assay_results.chart_scores(nth_x_tick=10)"
   ]
  },
  {
   "cell_type": "markdown",
   "metadata": {},
   "source": [
    "#### Analysis Chart\n",
    "\n",
    "The method `wallaroo.assay.AssayAnalysis.chart()` displays a comparison between the baseline and an interval of inference data.\n",
    "\n",
    "This is compared to the [Chart Scores](#analysis-list-chart-scores), which is a **list** of all of the inference data split into intervals, while the **Analysis Chart** shows the breakdown of one set of inference data against the baseline.\n",
    "\n",
    "Score from the [Analysis List Chart Scores](#analysis-list-chart-scores) and each element from the [Analysis List DataFrame](#analysis-list-dataframe) generates \n",
    "\n",
    "The following fields are included.\n",
    "\n",
    "| Field | Type | Description |\n",
    "|---|---|---|\n",
    "| **baseline mean** | **Float** | The mean of the baseline values. |\n",
    "| **window mean** | **Float** | The mean of the window values. |\n",
    "| **baseline median** | **Float** | The median of the baseline values. |\n",
    "| **window median** | **Float** | The median of the window values. |\n",
    "| **bin_mode** | **String** | The binning mode used for the assay. |\n",
    "| **aggregation** | **String** | The aggregation mode used for the assay. |\n",
    "| **metric** | **String** | The metric mode used for the assay. |\n",
    "| **weighted** | **Bool** | Whether the bins were manually weighted. |\n",
    "| **score** | **Float** | The score from the assay window. |\n",
    "| **scores** | **List(Float)** | The score from each assay window bin. |\n",
    "| **index** | **Integer/None** | The window index.  Interactive assay runs are `None`. |"
   ]
  },
  {
   "cell_type": "code",
   "execution_count": null,
   "metadata": {},
   "outputs": [],
   "source": [
    "# Create the assay baseline\n",
    "assay_baseline = wl.build_assay(assay_name=\"assays from date baseline sample\", \n",
    "                                          pipeline=mainpipeline, \n",
    "                                          iopath=\"output variable 0\",\n",
    "                                          baseline_start=assay_baseline_start, \n",
    "                                          baseline_end=assay_baseline_end)\n",
    "\n",
    "\n",
    "# Set the assay parameters\n",
    "\n",
    "# The end date to gather inference results\n",
    "assay_baseline.add_run_until(datetime.datetime.now())\n",
    "\n",
    "# Set the interval and window to one minute each, set the start date for gathering inference results\n",
    "assay_baseline.window_builder().add_width(minutes=1).add_interval(minutes=1).add_start(assay_window_start)\n",
    "\n",
    "# build the assay configuration\n",
    "assay_config = assay_baseline.build()\n",
    "\n",
    "# perform an interactive run and collect inference data\n",
    "assay_results = assay_config.interactive_run()\n",
    "\n",
    "# display one of the analysis from the total results\n",
    "assay_results[0].chart()"
   ]
  },
  {
   "cell_type": "markdown",
   "metadata": {},
   "source": [
    "#### Analysis List DataFrame\n",
    "\n",
    "`wallaroo.assay.AssayAnalysisList.to_dataframe()` returns a DataFrame showing the assay results for each window aka individual analysis.  This DataFrame contains the following fields:\n",
    "\n",
    "| Field | Type | Description |\n",
    "|---|---|---|\n",
    "| **assay_id** | *Integer/None* | The assay id.  Only provided from uploaded and executed assays. |\n",
    "| **name** | *String/None* | The name of the assay.  Only provided from uploaded and executed assays. |\n",
    "| **iopath** | *String/None* | The iopath of the assay.  Only provided from uploaded and executed assays. |\n",
    "| **score** | *Float* | The assay score. |\n",
    "| **start** | *DateTime* | The DateTime start of the assay window.\n",
    "| **min** | *Float* | The minimum value in the assay window.\n",
    "| **max**  | *Float* | The maximum value in the assay window.\n",
    "| **mean** | *Float* | The mean value in the assay window.\n",
    "| **median** | *Float* | The median value in the assay window.\n",
    "| **std** | *Float* | The standard deviation value in the assay window.\n",
    "| **warning_threshold** | *Float/None* | The warning threshold of the assay window.\n",
    "| **alert_threshold** | *Float/None* | The alert threshold of the assay window.\n",
    "| **status** | *String* | The assay window status.  Values are:  <ul><li>`OK`: The score is within accepted thresholds.</li><li>`Warning`: The score has triggered the `warning_threshold` if exists, but not the `alert_threshold`.</li><li>`Alert`: The score has triggered the the `alert_threshold`.</li></ul> |\n",
    "\n",
    "For this example, the assay analysis list DataFrame is listed.  \n",
    "\n",
    "From this tutorial, we should have 2 windows of dta to look at, each one minute apart.  The first window should show `status: OK`, with the second window with the very large house prices will show `status: alert`"
   ]
  },
  {
   "cell_type": "code",
   "execution_count": null,
   "metadata": {},
   "outputs": [],
   "source": [
    "# Create the assay baseline\n",
    "assay_baseline = wl.build_assay(assay_name=assay_name, \n",
    "                                          pipeline=mainpipeline, \n",
    "                                          iopath=\"output variable 0\",\n",
    "                                          baseline_start=assay_baseline_start, \n",
    "                                          baseline_end=assay_baseline_end)\n",
    "\n",
    "\n",
    "# Set the assay parameters\n",
    "\n",
    "# The end date to gather inference results\n",
    "assay_baseline.add_run_until(datetime.datetime.now())\n",
    "\n",
    "# Set the interval and window to one minute each, set the start date for gathering inference results\n",
    "assay_baseline.window_builder().add_width(minutes=1).add_interval(minutes=1).add_start(assay_window_start)\n",
    "\n",
    "# build the assay configuration\n",
    "assay_config = assay_baseline.build()\n",
    "\n",
    "# perform an interactive run and collect inference data\n",
    "assay_results = assay_config.interactive_run()\n",
    "\n",
    "# display the dataframe from the analyses\n",
    "assay_results.to_dataframe()"
   ]
  },
  {
   "cell_type": "markdown",
   "metadata": {},
   "source": [
    "#### Analysis List Full DataFrame\n",
    "\n",
    "`wallaroo.assay.AssayAnalysisList.to_full_dataframe()` returns a DataFrame showing all values, including the inputs and outputs from the assay results for each window aka individual analysis.  This DataFrame contains the following fields:\n",
    "\n",
    "\n",
    "\tpipeline_id\twarning_threshold\tbin_index\tcreated_at\n",
    "\n",
    "\n",
    "| Field | Type | Description |\n",
    "|---|---|---|\n",
    "| **window_start** | *DateTime* | The date and time when the window period began. |\n",
    "| **analyzed_at** | *DateTime* | The date and time when the assay analysis was performed. |\n",
    "| **elapsed_millis** | *Integer* | How long the analysis took to perform in milliseconds. |\n",
    "| **baseline_summary_count** | *Integer* | The number of data elements from the baseline. |\n",
    "| **baseline_summary_min** | *Float* | The minimum value from the baseline summary. |\n",
    "| **baseline_summary_max** | *Float* | The maximum value from the baseline summary. |\n",
    "| **baseline_summary_mean** | *Float* | The mean value of the baseline summary. |\n",
    "| **baseline_summary_median** | *Float* | The median value of the baseline summary. |\n",
    "| **baseline_summary_std** | *Float* | The standard deviation value of the baseline summary. |\n",
    "| **baseline_summary_edges_{0...n}** | *Float* | The baseline summary edges for each baseline edge from 0 to number of edges. |\n",
    "| **summarizer_type** | *String* | The type of summarizer used for the baseline.  See [`wallaroo.assay_config` for other summarizer types](https://docs.wallaroo.ai/wallaroo-developer-guides/wallaroo-sdk-guides/wallaroo-sdk-reference-guide/assay_config/). |\n",
    "| **summarizer_bin_weights** | *List / None* | If baseline bin weights were provided, the list of those weights.  Otherwise, `None`. |\n",
    "| **summarizer_provided_edges** | *List / None* | If baseline bin edges were provided, the list of those edges.  Otherwise, `None`. |\n",
    "| **status** | *String* | The assay window status.  Values are:  <ul><li>`OK`: The score is within accepted thresholds.</li><li>`Warning`: The score has triggered the `warning_threshold` if exists, but not the `alert_threshold`.</li><li>`Alert`: The score has triggered the the `alert_threshold`.</li></ul> |\n",
    "| **id** | *Integer/None* | The id for the window aka analysis.  Only provided from uploaded and executed assays. |\n",
    "| **assay_id** | *Integer/None* | The assay id.  Only provided from uploaded and executed assays. |\n",
    "| **pipeline_id** | *Integer/None* | The pipeline id.  Only provided from uploaded and executed assays. |\n",
    "| **warning_threshold** | *Float* | The warning threshold set for the assay. |\n",
    "| **warning_threshold** | *Float* | The warning threshold set for the assay.\n",
    "| **bin_index** | *Integer/None* | The bin index for the window aka analysis.|\n",
    "| **created_at** | *Datetime/None* | The date and time the window aka analysis was generated.  Only provided from uploaded and executed assays. |\n",
    "\n",
    "For this example, full DataFrame from an assay preview is generated.\n",
    "\n",
    "From this tutorial, we should have 2 windows of dta to look at, each one minute apart.  The first window should show `status: OK`, with the second window with the very large house prices will show `status: alert`"
   ]
  },
  {
   "cell_type": "code",
   "execution_count": null,
   "metadata": {},
   "outputs": [],
   "source": [
    "# Create the assay baseline\n",
    "assay_baseline = wl.build_assay(assay_name=assay_name, \n",
    "                                          pipeline=mainpipeline, \n",
    "                                          iopath=\"output variable 0\",\n",
    "                                          baseline_start=assay_baseline_start, \n",
    "                                          baseline_end=assay_baseline_end)\n",
    "\n",
    "\n",
    "# Set the assay parameters\n",
    "\n",
    "# The end date to gather inference results\n",
    "assay_baseline.add_run_until(datetime.datetime.now())\n",
    "\n",
    "# Set the interval and window to one minute each, set the start date for gathering inference results\n",
    "assay_baseline.window_builder().add_width(minutes=1).add_interval(minutes=1).add_start(assay_window_start)\n",
    "\n",
    "# build the assay configuration\n",
    "assay_config = assay_baseline.build()\n",
    "\n",
    "# perform an interactive run and collect inference data\n",
    "assay_results = assay_config.interactive_run()\n",
    "\n",
    "# display the full dataframe from the analyses\n",
    "assay_results.to_full_dataframe()"
   ]
  },
  {
   "cell_type": "markdown",
   "metadata": {},
   "source": [
    "#### Analysis Compare Basic Stats\n",
    "\n",
    "The method `wallaroo.assay.AssayAnalysis.compare_basic_stats` returns a DataFrame comparing one set of inference data against the baseline.\n",
    "\n",
    "This is compared to the [Analysis List DataFrame](#analysis-list-dataframe), which is a **list** of all of the inference data split into intervals, while the **Analysis Compare Basic Stats** shows the breakdown of one set of inference data against the baseline."
   ]
  },
  {
   "cell_type": "code",
   "execution_count": null,
   "metadata": {},
   "outputs": [],
   "source": [
    "# Create the assay baseline\n",
    "assay_baseline = wl.build_assay(assay_name=assay_name, \n",
    "                                          pipeline=mainpipeline, \n",
    "                                          iopath=\"output variable 0\",\n",
    "                                          baseline_start=assay_baseline_start, \n",
    "                                          baseline_end=assay_baseline_end)\n",
    "\n",
    "\n",
    "# Set the assay parameters\n",
    "\n",
    "# The end date to gather inference results\n",
    "assay_baseline.add_run_until(datetime.datetime.now())\n",
    "\n",
    "# Set the interval and window to one minute each, set the start date for gathering inference results\n",
    "assay_baseline.window_builder().add_width(minutes=1).add_interval(minutes=1).add_start(assay_window_start)\n",
    "\n",
    "# build the assay configuration\n",
    "assay_config = assay_baseline.build()\n",
    "\n",
    "# perform an interactive run and collect inference data\n",
    "assay_results = assay_config.interactive_run()\n",
    "\n",
    "# display one analysis against the baseline\n",
    "assay_results[0].compare_basic_stats()"
   ]
  },
  {
   "cell_type": "markdown",
   "metadata": {},
   "source": [
    "#### Configure Assays\n",
    "\n",
    "Before creating the assay, **configure** the assay and continue to preview it until the best method for detecting drift is set.  The following options are available."
   ]
  },
  {
   "cell_type": "markdown",
   "metadata": {},
   "source": [
    "##### Inference Interval and Inference Width\n",
    "\n",
    "The inference interval aka window interval sets how often to run the assay analysis.  This is set from the [`wallaroo.assay_config.AssayBuilder.window_builder.add_interval`](https://docs.wallaroo.ai/wallaroo-developer-guides/wallaroo-sdk-guides/wallaroo-sdk-reference-guide/assay_config/#WindowBuilder.add_interval) method to collect data expressed in time units:  \"hours=24\", \"minutes=1\", etc.\n",
    "\n",
    "For example, with an interval of 1 minute, the assay collects data every minute.  Within an hour, 60 intervals of data is collected.\n",
    "\n",
    "We can adjust the interval and see how the assays change based on how **frequently** they are run.\n",
    "\n",
    "The width sets the time period from the [`wallaroo.assay_config.AssayBuilder.window_builder.add_width`](/wallaroo-developer-guides/wallaroo-sdk-guides/wallaroo-sdk-reference-guide/assay_config/#WindowBuilder.add_width) method to collect data expressed in time units:  \"hours=24\", \"minutes=1\", etc.\n",
    "\n",
    "For example, an interval of 1 minute and a width of 1 minute collects 1 minutes worth of data every minute.  An interval of 1 minute with a width of 5 minutes collects 5 minute of inference data every minute.\n",
    "\n",
    "By default, the interval and width is **24 hours**.\n",
    "\n",
    "For this example, we'll adjust the width and interval from 1 minute to 5 minutes and see how the number of analyses and their score changes."
   ]
  },
  {
   "cell_type": "code",
   "execution_count": null,
   "metadata": {},
   "outputs": [],
   "source": [
    "# Create the assay baseline\n",
    "assay_baseline = wl.build_assay(assay_name=assay_name, \n",
    "                                          pipeline=mainpipeline, \n",
    "                                          iopath=\"output variable 0\",\n",
    "                                          baseline_start=assay_baseline_start, \n",
    "                                          baseline_end=assay_baseline_end)\n",
    "\n",
    "\n",
    "# Set the assay parameters\n",
    "\n",
    "# The end date to gather inference results\n",
    "assay_baseline.add_run_until(datetime.datetime.now())\n",
    "\n",
    "# Set the interval and window to one minute each, set the start date for gathering inference results\n",
    "assay_baseline.window_builder().add_width(minutes=1).add_interval(minutes=1).add_start(assay_window_start)\n",
    "\n",
    "\n",
    "# build the assay configuration\n",
    "assay_config = assay_baseline.build()\n",
    "\n",
    "# perform an interactive run and collect inference data\n",
    "assay_results = assay_config.interactive_run()\n",
    "\n",
    "# show the analyses chart\n",
    "assay_results.chart_scores()"
   ]
  },
  {
   "cell_type": "code",
   "execution_count": null,
   "metadata": {},
   "outputs": [],
   "source": [
    "wl.get_current_workspace()"
   ]
  },
  {
   "cell_type": "code",
   "execution_count": null,
   "metadata": {},
   "outputs": [],
   "source": [
    "# Create the assay baseline\n",
    "assay_baseline = wl.build_assay(assay_name=assay_name, \n",
    "                                          pipeline=mainpipeline, \n",
    "                                          iopath=\"output variable 0\",\n",
    "                                          baseline_start=assay_baseline_start, \n",
    "                                          baseline_end=assay_baseline_end)\n",
    "\n",
    "\n",
    "# Set the assay parameters\n",
    "\n",
    "# The end date to gather inference results\n",
    "assay_baseline.add_run_until(datetime.datetime.now())\n",
    "\n",
    "# Set the interval and window to five minutes each, set the start date for gathering inference results\n",
    "assay_baseline.window_builder().add_width(minutes=1).add_interval(minutes=1).add_start(assay_window_start)\n",
    "\n",
    "# build the assay configuration\n",
    "assay_config = assay_baseline.build()\n",
    "\n",
    "# perform an interactive run and collect inference data\n",
    "assay_results = assay_config.interactive_run()\n",
    "\n",
    "# show the analyses chart\n",
    "assay_results.chart_scores()"
   ]
  },
  {
   "cell_type": "markdown",
   "metadata": {},
   "source": [
    "##### Add Run Until and Add Inference Start\n",
    "\n",
    "For previewing assays, setting [`wallaroo.assay_config.AssayBuilder.add_run_until`](https://docs.wallaroo.ai/wallaroo-developer-guides/wallaroo-sdk-guides/wallaroo-sdk-reference-guide/assay_config/#AssayBuilder.add_run_until) sets the **end date and time** for collecting inference data.  When an assay is uploaded, this setting is no longer valid - assays run at the [Inference Interval](#inference-interval-and-inference-width) until the [assay is paused](#pause-and-resume-assay).\n",
    "\n",
    "Setting the [`wallaroo.assay_config.WindowBuilder.add_start`](https://docs.wallaroo.ai/wallaroo-developer-guides/wallaroo-sdk-guides/wallaroo-sdk-reference-guide/assay_config/#WindowBuilder.add_start) sets the **start date and time** to collect inference data.   When an assay is uploaded, this setting **is included**, and assay results will be displayed starting from that start date at the [Inference Interval](#inference-interval-and-inference-width) until the [assay is paused](#pause-and-resume-assay).  By default, `add_start` begins 24 hours after the assay is uploaded unless set in the assay configuration manually.\n",
    "\n",
    "For the following example, the `add_run_until` setting is set to `datetime.datetime.now()` to collect all inference data from `assay_window_start` up until now, and the second example limits that example to only two minutes of data."
   ]
  },
  {
   "cell_type": "code",
   "execution_count": null,
   "metadata": {},
   "outputs": [],
   "source": [
    "# Create the assay baseline\n",
    "assay_baseline = wl.build_assay(assay_name=assay_name, \n",
    "                                          pipeline=mainpipeline, \n",
    "                                          iopath=\"output variable 0\",\n",
    "                                          baseline_start=assay_baseline_start, \n",
    "                                          baseline_end=assay_baseline_end)\n",
    "\n",
    "\n",
    "# Set the assay parameters\n",
    "\n",
    "# The end date to gather inference results\n",
    "assay_baseline.add_run_until(datetime.datetime.now())\n",
    "\n",
    "# Set the interval and window to one minute each, set the start date for gathering inference results, minus 2 minutes for the period to start gathering analyses\n",
    "assay_baseline.window_builder().add_width(minutes=1).add_interval(minutes=1).add_start(assay_window_start+datetime.timedelta(seconds=-120))\n",
    "\n",
    "\n",
    "# build the assay configuration\n",
    "assay_config = assay_baseline.build()\n",
    "\n",
    "# perform an interactive run and collect inference data\n",
    "assay_results = assay_config.interactive_run()\n",
    "\n",
    "# show the analyses chart\n",
    "assay_results.chart_scores()"
   ]
  },
  {
   "cell_type": "code",
   "execution_count": null,
   "metadata": {},
   "outputs": [],
   "source": [
    "# Create the assay baseline\n",
    "assay_baseline = wl.build_assay(assay_name=assay_name, \n",
    "                                          pipeline=mainpipeline, \n",
    "                                          iopath=\"output variable 0\",\n",
    "                                          baseline_start=assay_baseline_start, \n",
    "                                          baseline_end=assay_baseline_end)\n",
    "\n",
    "\n",
    "# Set the assay parameters\n",
    "\n",
    "# The end date to gather inference results plus 2 minutes \n",
    "assay_baseline_from_dates.add_run_until(assay_window_start+datetime.timedelta(seconds=120))\n",
    "\n",
    "# Set the interval and window to one minute each\n",
    "assay_baseline.window_builder().add_width(minutes=1).add_interval(minutes=1).add_start(assay_window_start)\n",
    "\n",
    "\n",
    "# build the assay configuration\n",
    "assay_config = assay_baseline.build()\n",
    "\n",
    "# perform an interactive run and collect inference data\n",
    "assay_results = assay_config.interactive_run()\n",
    "\n",
    "# show the analyses chart\n",
    "assay_results.chart_scores()"
   ]
  },
  {
   "cell_type": "markdown",
   "metadata": {},
   "source": [
    "##### Score Metric\n",
    "\n",
    "The `score` is a distance between the baseline and the analysis window.  The larger the score, the greater the difference between the baseline and the analysis window.  The following methods are provided determining the score:\n",
    "\n",
    "* `PSI` (*Default*) - Population Stability Index (PSI).\n",
    "* `MAXDIFF`: Maximum difference between corresponding bins.\n",
    "* `SUMDIFF`: Mum of differences between corresponding bins.\n",
    "\n",
    "The metric type used is updated with the [`wallaroo.assay_config.AssayBuilder.add_metric(metric: wallaroo.assay_config.Metric)`](https://docs.wallaroo.ai/wallaroo-developer-guides/wallaroo-sdk-guides/wallaroo-sdk-reference-guide/assay_config/#UnivariateContinousSummarizerBuilder.add_metric) method.\n",
    "\n",
    "The following three charts use each of the metrics.  Note how the scores change based on the score type used."
   ]
  },
  {
   "cell_type": "code",
   "execution_count": null,
   "metadata": {},
   "outputs": [],
   "source": [
    "# Create the assay baseline\n",
    "assay_baseline = wl.build_assay(assay_name=assay_name, \n",
    "                                          pipeline=mainpipeline, \n",
    "                                          iopath=\"output variable 0\",\n",
    "                                          baseline_start=assay_baseline_start, \n",
    "                                          baseline_end=assay_baseline_end)\n",
    "\n",
    "\n",
    "# Set the assay parameters\n",
    "\n",
    "# The end date to gather inference results\n",
    "assay_baseline.add_run_until(datetime.datetime.now())\n",
    "\n",
    "# Set the interval and window to one minute each, set the start date for gathering inference results\n",
    "assay_baseline.window_builder().add_width(minutes=1).add_interval(minutes=1).add_start(assay_window_start)\n",
    "\n",
    "# set metric PSI mode\n",
    "assay_baseline.summarizer_builder.add_metric(wallaroo.assay_config.Metric.PSI)\n",
    "\n",
    "\n",
    "# build the assay configuration\n",
    "assay_config = assay_baseline.build()\n",
    "\n",
    "# perform an interactive run and collect inference data\n",
    "assay_results = assay_config.interactive_run()\n",
    "\n",
    "# display one analysis from the results\n",
    "assay_results[0].chart()"
   ]
  },
  {
   "cell_type": "code",
   "execution_count": null,
   "metadata": {},
   "outputs": [],
   "source": [
    "# Create the assay baseline\n",
    "assay_baseline = wl.build_assay(assay_name=assay_name, \n",
    "                                          pipeline=mainpipeline, \n",
    "                                          iopath=\"output variable 0\",\n",
    "                                          baseline_start=assay_baseline_start, \n",
    "                                          baseline_end=assay_baseline_end)\n",
    "\n",
    "\n",
    "# Set the assay parameters\n",
    "\n",
    "# The end date to gather inference results\n",
    "assay_baseline.add_run_until(datetime.datetime.now())\n",
    "\n",
    "# Set the interval and window to one minute each, set the start date for gathering inference results\n",
    "assay_baseline.window_builder().add_width(minutes=1).add_interval(minutes=1).add_start(assay_window_start)\n",
    "\n",
    "# set metric MAXDIFF mode\n",
    "assay_baseline.summarizer_builder.add_metric(wallaroo.assay_config.Metric.MAXDIFF)\n",
    "\n",
    "# build the assay configuration\n",
    "assay_config = assay_baseline.build()\n",
    "\n",
    "# perform an interactive run and collect inference data\n",
    "assay_results = assay_config.interactive_run()\n",
    "\n",
    "# display one analysis from the results\n",
    "assay_results[0].chart()"
   ]
  },
  {
   "cell_type": "code",
   "execution_count": null,
   "metadata": {},
   "outputs": [],
   "source": [
    "# Create the assay baseline\n",
    "assay_baseline = wl.build_assay(assay_name=assay_name, \n",
    "                                          pipeline=mainpipeline, \n",
    "                                          iopath=\"output variable 0\",\n",
    "                                          baseline_start=assay_baseline_start, \n",
    "                                          baseline_end=assay_baseline_end)\n",
    "\n",
    "\n",
    "# Set the assay parameters\n",
    "\n",
    "# The end date to gather inference results\n",
    "assay_baseline.add_run_until(datetime.datetime.now())\n",
    "\n",
    "# Set the interval and window to one minute each, set the start date for gathering inference results\n",
    "assay_baseline.window_builder().add_width(minutes=1).add_interval(minutes=1).add_start(assay_window_start)\n",
    "\n",
    "# set metric SUMDIFF mode\n",
    "assay_baseline.summarizer_builder.add_metric(wallaroo.assay_config.Metric.SUMDIFF)\n",
    "\n",
    "# build the assay configuration\n",
    "assay_config = assay_baseline.build()\n",
    "\n",
    "# perform an interactive run and collect inference data\n",
    "assay_results = assay_config.interactive_run()\n",
    "\n",
    "# display one analysis from the results\n",
    "assay_results[0].chart()"
   ]
  },
  {
   "cell_type": "markdown",
   "metadata": {},
   "source": [
    "##### Alert Threshold\n",
    "\n",
    "Assay alert thresholds are modified with the [`wallaroo.assay_config.AssayBuilder.add_alert_threshold(alert_threshold: float)`](https://docs.wallaroo.ai/wallaroo-developer-guides/wallaroo-sdk-guides/wallaroo-sdk-reference-guide/assay_config/) method.  By default alert thresholds are `0.1`.\n",
    "\n",
    "The following example updates the alert threshold to `0.5`."
   ]
  },
  {
   "cell_type": "code",
   "execution_count": null,
   "metadata": {},
   "outputs": [],
   "source": [
    "# Create the assay baseline\n",
    "assay_baseline = wl.build_assay(assay_name=assay_name, \n",
    "                                          pipeline=mainpipeline, \n",
    "                                          iopath=\"output variable 0\",\n",
    "                                          baseline_start=assay_baseline_start, \n",
    "                                          baseline_end=assay_baseline_end)\n",
    "\n",
    "\n",
    "# Set the assay parameters\n",
    "\n",
    "# The end date to gather inference results\n",
    "assay_baseline.add_run_until(datetime.datetime.now())\n",
    "\n",
    "# Set the interval and window to one minute each, set the start date for gathering inference results\n",
    "assay_baseline.window_builder().add_width(minutes=1).add_interval(minutes=1).add_start(assay_window_start)\n",
    "\n",
    "# set the alert threshold\n",
    "assay_baseline.add_alert_threshold(0.5)\n",
    "\n",
    "# build the assay configuration\n",
    "assay_config = assay_baseline.build()\n",
    "\n",
    "# perform an interactive run and collect inference data\n",
    "assay_results = assay_config.interactive_run()\n",
    "\n",
    "# show the analyses with the alert threshold\n",
    "assay_results.to_dataframe()"
   ]
  },
  {
   "cell_type": "markdown",
   "metadata": {},
   "source": [
    "##### Number of Bins\n",
    "\n",
    "Number of bins sets how the baseline data is partitioned.  The total number of bins includes the set number plus the left_outlier and the right_outlier, so the total number of bins will be the total set + 2.\n",
    "\n",
    "The number of bins is set with the [`wallaroo.assay_config.UnivariateContinousSummarizerBuilder.add_num_bins(num_bins: int)`](https://docs.wallaroo.ai/wallaroo-developer-guides/wallaroo-sdk-guides/wallaroo-sdk-reference-guide/assay_config/#UnivariateContinousSummarizerBuilder.add_num_bins) method."
   ]
  },
  {
   "cell_type": "code",
   "execution_count": null,
   "metadata": {},
   "outputs": [],
   "source": [
    "# Create the assay baseline\n",
    "assay_baseline = wl.build_assay(assay_name=assay_name, \n",
    "                                          pipeline=mainpipeline, \n",
    "                                          iopath=\"output variable 0\",\n",
    "                                          baseline_start=assay_baseline_start, \n",
    "                                          baseline_end=assay_baseline_end)\n",
    "\n",
    "\n",
    "# Set the assay parameters\n",
    "\n",
    "# The end date to gather inference results\n",
    "assay_baseline.add_run_until(datetime.datetime.now())\n",
    "\n",
    "# Set the interval and window to one minute each, set the start date for gathering inference results\n",
    "assay_baseline.window_builder().add_width(minutes=1).add_interval(minutes=1).add_start(assay_window_start)\n",
    "\n",
    "# update number of bins here\n",
    "assay_baseline.summarizer_builder.add_num_bins(10)\n",
    "\n",
    "# build the assay configuration\n",
    "assay_config = assay_baseline.build()\n",
    "\n",
    "# perform an interactive run and collect inference data\n",
    "assay_results = assay_config.interactive_run()\n",
    "\n",
    "# show one analysis with the updated bins\n",
    "assay_results[0].chart()"
   ]
  },
  {
   "cell_type": "markdown",
   "metadata": {},
   "source": [
    "##### Binning Mode\n",
    "\n",
    "Binning Mode defines how the bins are separated.  Binning modes are modified through the `wallaroo.assay_config.UnivariateContinousSummarizerBuilder.add_bin_mode(bin_mode: bin_mode: wallaroo.assay_config.BinMode, edges: Optional[List[float]] = None)`.\n",
    "\n",
    "Available `bin_mode` values from `wallaroo.assay_config.Binmode` are the following:\n",
    "\n",
    "* `QUANTILE` (*Default*): Based on percentages. If `num_bins` is 5 then quintiles so bins are created at the 20%, 40%, 60%, 80% and 100% points.\n",
    "* `EQUAL`: Evenly spaced bins where each bin is set with the formula `min - max / num_bins`\n",
    "* `PROVIDED`: The user provides the edge points for the bins.\n",
    "\n",
    "If `PROVIDED` is supplied, then a List of float values must be provided for the `edges` parameter that matches the number of bins.\n",
    "\n",
    "The following examples are used to show how each of the binning modes effects the bins."
   ]
  },
  {
   "cell_type": "code",
   "execution_count": null,
   "metadata": {},
   "outputs": [],
   "source": [
    "# Create the assay baseline\n",
    "assay_baseline = wl.build_assay(assay_name=assay_name, \n",
    "                                          pipeline=mainpipeline, \n",
    "                                          iopath=\"output variable 0\",\n",
    "                                          baseline_start=assay_baseline_start, \n",
    "                                          baseline_end=assay_baseline_end)\n",
    "\n",
    "\n",
    "# Set the assay parameters\n",
    "\n",
    "# The end date to gather inference results\n",
    "assay_baseline.add_run_until(datetime.datetime.now())\n",
    "\n",
    "# Set the interval and window to one minute each, set the start date for gathering inference results\n",
    "assay_baseline.window_builder().add_width(minutes=1).add_interval(minutes=1).add_start(assay_window_start)\n",
    "\n",
    "# update binning mode here\n",
    "assay_baseline.summarizer_builder.add_bin_mode(wallaroo.assay_config.BinMode.QUANTILE)\n",
    "\n",
    "# build the assay configuration\n",
    "assay_config = assay_baseline.build()\n",
    "\n",
    "# perform an interactive run and collect inference data\n",
    "assay_results = assay_config.interactive_run()\n",
    "\n",
    "# show one analysis with the updated bins\n",
    "assay_results[0].chart()"
   ]
  },
  {
   "cell_type": "code",
   "execution_count": null,
   "metadata": {},
   "outputs": [],
   "source": [
    "# Create the assay baseline\n",
    "assay_baseline = wl.build_assay(assay_name=assay_name, \n",
    "                                          pipeline=mainpipeline, \n",
    "                                          iopath=\"output variable 0\",\n",
    "                                          baseline_start=assay_baseline_start, \n",
    "                                          baseline_end=assay_baseline_end)\n",
    "\n",
    "\n",
    "# Set the assay parameters\n",
    "\n",
    "# The end date to gather inference results\n",
    "assay_baseline.add_run_until(datetime.datetime.now())\n",
    "\n",
    "# Set the interval and window to one minute each, set the start date for gathering inference results\n",
    "assay_baseline.window_builder().add_width(minutes=1).add_interval(minutes=1).add_start(assay_window_start)\n",
    "\n",
    "# update binning mode here\n",
    "assay_baseline.summarizer_builder.add_bin_mode(wallaroo.assay_config.BinMode.EQUAL)\n",
    "\n",
    "# build the assay configuration\n",
    "assay_config = assay_baseline.build()\n",
    "\n",
    "# perform an interactive run and collect inference data\n",
    "assay_results = assay_config.interactive_run()\n",
    "\n",
    "# show one analysis with the updated bins\n",
    "assay_results[0].chart()"
   ]
  },
  {
   "cell_type": "markdown",
   "metadata": {},
   "source": [
    "The following example manually sets the bin values.\n",
    "\n",
    "The values in this dataset run from 200000 to 1500000. We can specify the bins with the `BinMode.PROVIDED` and specifying a list of floats with the right hand / upper edge of each bin and optionally the lower edge of the smallest bin. If the lowest edge is not specified the threshold for left outliers is taken from the smallest value in the baseline dataset."
   ]
  },
  {
   "cell_type": "code",
   "execution_count": null,
   "metadata": {},
   "outputs": [],
   "source": [
    "# Create the assay baseline\n",
    "assay_baseline = wl.build_assay(assay_name=assay_name, \n",
    "                                          pipeline=mainpipeline, \n",
    "                                          iopath=\"output variable 0\",\n",
    "                                          baseline_start=assay_baseline_start, \n",
    "                                          baseline_end=assay_baseline_end)\n",
    "\n",
    "\n",
    "# Set the assay parameters\n",
    "\n",
    "# The end date to gather inference results\n",
    "assay_baseline.add_run_until(datetime.datetime.now())\n",
    "\n",
    "# Set the interval and window to one minute each, set the start date for gathering inference results\n",
    "assay_baseline.window_builder().add_width(minutes=1).add_interval(minutes=1).add_start(assay_window_start)\n",
    "\n",
    "edges = [200000.0, 400000.0, 600000.0, 800000.0, 1500000.0, 2000000.0]\n",
    "\n",
    "# update binning mode here\n",
    "assay_baseline.summarizer_builder.add_bin_mode(wallaroo.assay_config.BinMode.PROVIDED, edges)\n",
    "\n",
    "# build the assay configuration\n",
    "assay_config = assay_baseline.build()\n",
    "\n",
    "# perform an interactive run and collect inference data\n",
    "assay_results = assay_config.interactive_run()\n",
    "\n",
    "# show one analysis with the updated bins\n",
    "assay_results[0].chart()"
   ]
  },
  {
   "cell_type": "markdown",
   "metadata": {},
   "source": [
    "##### Aggregation Options\n",
    "\n",
    "Assay aggregation options are modified with the [`wallaroo.assay_config.AssayBuilder.add_aggregation(aggregation: wallaroo.assay_config.Aggregation)`](https://docs.wallaroo.ai/wallaroo-developer-guides/wallaroo-sdk-guides/wallaroo-sdk-reference-guide/assay_config/#UnivariateContinousSummarizerBuilder.add_aggregation) method.  The following options are provided:\n",
    "\n",
    "* `Aggregation.DENSITY` (*Default*): Count the number/percentage of values that fall in each bin. \n",
    "* `Aggregation.CUMULATIVE`: Empirical Cumulative Density Function style, which keeps a cumulative count of the values/percentages that fall in each bin.\n",
    "\n",
    "The following example demonstrate the different results between the two."
   ]
  },
  {
   "cell_type": "code",
   "execution_count": null,
   "metadata": {},
   "outputs": [],
   "source": [
    "# Create the assay baseline\n",
    "assay_baseline = wl.build_assay(assay_name=assay_name, \n",
    "                                          pipeline=mainpipeline, \n",
    "                                          iopath=\"output variable 0\",\n",
    "                                          baseline_start=assay_baseline_start, \n",
    "                                          baseline_end=assay_baseline_end)\n",
    "\n",
    "\n",
    "# Set the assay parameters\n",
    "\n",
    "# The end date to gather inference results\n",
    "assay_baseline.add_run_until(datetime.datetime.now())\n",
    "\n",
    "# Set the interval and window to one minute each, set the start date for gathering inference results\n",
    "assay_baseline.window_builder().add_width(minutes=1).add_interval(minutes=1).add_start(assay_window_start)\n",
    "\n",
    "#Aggregation.DENSITY - the default\n",
    "assay_baseline.summarizer_builder.add_aggregation(wallaroo.assay_config.Aggregation.DENSITY)\n",
    "\n",
    "# build the assay configuration\n",
    "assay_config = assay_baseline.build()\n",
    "\n",
    "# perform an interactive run and collect inference data\n",
    "assay_results = assay_config.interactive_run()\n",
    "\n",
    "# show one analysis with the updated bins\n",
    "assay_results[0].chart()"
   ]
  },
  {
   "cell_type": "code",
   "execution_count": null,
   "metadata": {},
   "outputs": [],
   "source": [
    "# Create the assay baseline\n",
    "assay_baseline = wl.build_assay(assay_name=assay_name, \n",
    "                                          pipeline=mainpipeline, \n",
    "                                          iopath=\"output variable 0\",\n",
    "                                          baseline_start=assay_baseline_start, \n",
    "                                          baseline_end=assay_baseline_end)\n",
    "\n",
    "\n",
    "# Set the assay parameters\n",
    "\n",
    "# The end date to gather inference results\n",
    "assay_baseline.add_run_until(datetime.datetime.now())\n",
    "\n",
    "# Set the interval and window to one minute each, set the start date for gathering inference results\n",
    "assay_baseline.window_builder().add_width(minutes=1).add_interval(minutes=1).add_start(assay_window_start)\n",
    "\n",
    "#Aggregation.CUMULATIVE\n",
    "assay_baseline.summarizer_builder.add_aggregation(wallaroo.assay_config.Aggregation.CUMULATIVE)\n",
    "\n",
    "# build the assay configuration\n",
    "assay_config = assay_baseline.build()\n",
    "\n",
    "# perform an interactive run and collect inference data\n",
    "assay_results = assay_config.interactive_run()\n",
    "\n",
    "# show one analysis with the updated bins\n",
    "assay_results[0].chart()"
   ]
  },
  {
   "cell_type": "markdown",
   "metadata": {},
   "source": [
    "### Create Assay\n",
    "\n",
    "With the assay previewed and configuration options determined, we officially create it by uploading it to the Wallaroo instance.\n",
    "\n",
    "Once it is uploaded, the assay runs an analysis based on the window width, interval, and the other settings configured.\n",
    "\n",
    "Assays are uploaded with the `wallaroo.assay_config.upload()` method. This uploads the assay into the Wallaroo database with the configurations applied and returns the assay id. Note that assay names **must be unique across the Wallaroo instance**; attempting to upload an assay with the same name as an existing one will return an error.\n",
    "\n",
    "`wallaroo.assay_config.upload()` returns the assay id for the assay.\n",
    "\n",
    "Typically we would just call `wallaroo.assay_config.upload()` after configuring the assay.  For the example below, we will perform the complete configuration in one window to show all of the configuration steps at once before creating the assay."
   ]
  },
  {
   "cell_type": "code",
   "execution_count": null,
   "metadata": {},
   "outputs": [],
   "source": [
    "# Build the assay, based on the start and end of our baseline time, \n",
    "# and tracking the output variable index 0\n",
    "assay_baseline = wl.build_assay(assay_name=\"assays from date baseline tutorial samples\", \n",
    "                                          pipeline=mainpipeline, \n",
    "                                          iopath=\"output variable 0\",\n",
    "                                          baseline_start=assay_baseline_start, \n",
    "                                          baseline_end=assay_baseline_end)\n",
    "\n",
    "# set the width, interval, and assay start date and time\n",
    "assay_baseline.window_builder().add_width(minutes=1).add_interval(minutes=1).add_start(assay_window_start)\n",
    "\n",
    "# add other options\n",
    "assay_baseline.summarizer_builder.add_aggregation(wallaroo.assay_config.Aggregation.CUMULATIVE)\n",
    "assay_baseline.summarizer_builder.add_metric(wallaroo.assay_config.Metric.MAXDIFF)\n",
    "assay_baseline.add_alert_threshold(0.5)\n",
    "\n",
    "\n",
    "assay_id = assay_baseline.upload()\n",
    "\n",
    "# wait 65 seconds for the first analysis run performed\n",
    "time.sleep(65)\n"
   ]
  },
  {
   "cell_type": "markdown",
   "metadata": {},
   "source": [
    "The assay is now visible through the Wallaroo UI by selecting the workspace, then the pipeline, then **Insights**.\n",
    "\n",
    "![Sample assay in the UI](images/housepricesaga-sample-assay.png)"
   ]
  },
  {
   "cell_type": "markdown",
   "metadata": {},
   "source": [
    "### Get Assay Info\n",
    "\n",
    "Assay information is retrieved with the `wallaroo.client.get_assay_info()` which takes the following parameters.\n",
    "\n",
    "| Parameter | Type | Description |\n",
    "|---|---|---|\n",
    "| **assay_id** | *Integer* (*Required*) | The numerical id of the assay. |\n",
    "| **workspace_id** | (*Int*) (*Optional*) | The numerical identifier of the workspace to filter by. |\n",
    "| **workspace_name** | (*String*) (*Optional*) | The name of the workspace to filter by. |\n",
    "\n",
    "\n",
    "This returns the following:\n",
    "\n",
    "| Parameter | Type | Description |\n",
    "|---|---|---|\n",
    "| *id* | *String* | The id of the assay in UUID format. |\n",
    "| *name* | *String* | The name of the assay. |\n",
    "| *active* | *Boolean* | `True`: The assay is active and generates analyses based on its configuration. `False`: The assay is disabled and will not generate new analyses. |\n",
    "| *pipeline_name* | *String* | The name of the pipeline the assay references. |\n",
    "| *last_run* | *DateTime* | The date and time the assay last ran. |\n",
    "| *next_run* | *DateTime* | THe date and time the assay analysis will next run. |\n",
    "| *alert_threshold* | *Float* | The alert threshold setting for the assay. |\n",
    "| *baseline* | *Dict* | The baseline and settings as set from the assay configuration. |\n",
    "| *iopath* | *String* | The `iopath` setting for the assay. |\n",
    "| *metric* | *String* | The `metric` setting for the assay. |\n",
    "| *num_bins* | *Integer* | The number of bins for the assay. |\n",
    "| *bin_weights* | *List*/None | The bin weights used if any. |\n",
    "| *bin_mode* | *String* | The binning mode used. |\n",
    "| *workspace_id* | (*Int*) | The numerical identifier of the workspace the assay is associated with. |\n",
    "| *workspace_name* | (*String*)  | The name of the workspace the assay is associated with. |\n"
   ]
  },
  {
   "cell_type": "code",
   "execution_count": null,
   "metadata": {},
   "outputs": [],
   "source": [
    "display(wl.get_assay_info(assay_id))"
   ]
  },
  {
   "cell_type": "markdown",
   "metadata": {},
   "source": [
    "### Get Assay Results\n",
    "\n",
    "Once an assay is created the assay runs an analysis based on the window width, interval, and the other settings configured.\n",
    "\n",
    "Assay results are retrieved with the `wallaroo.client.get_assay_results` method which takes the following parameters:\n",
    "\n",
    "| Parameter | Type | Description |\n",
    "|---|---|---|\n",
    "| **assay_id** | *String* (*Required*) | The id of the assay in UUID format. |\n",
    "| **start** | *Datetime.Datetime* (*Required*) | The start date and time of historical data from the pipeline to start analyses from. |\n",
    "| **end** | *Datetime.Datetime* (*Required*) | The end date and time of historical data from the pipeline to limit analyses to. |\n",
    "| **workspace_id** | (*Int*) (*Optional*) | The numerical identifier of the workspace to filter by. |\n",
    "| **workspace_name** | (*String*) (*Optional*) | The name of the workspace to filter by. |\n",
    "\n",
    "* **IMPORTANT NOTE**:  This process requires that additional historical data is generated from the time the assay is created to when the results are available. To add additional inference data, use the [Assay Test Data](#assay-test-data) section above."
   ]
  },
  {
   "cell_type": "code",
   "execution_count": null,
   "metadata": {},
   "outputs": [],
   "source": [
    "assay_results = wl.get_assay_results(assay_id=assay_id,\n",
    "                     start=(datetime.datetime.now()-datetime.timedelta(days=2)),\n",
    "                     end=datetime.datetime.now())\n",
    "\n",
    "# Preview the assay analyses\n",
    "assay_results.chart_scores()"
   ]
  },
  {
   "cell_type": "code",
   "execution_count": null,
   "metadata": {},
   "outputs": [],
   "source": [
    "assay_results[0].chart()"
   ]
  },
  {
   "cell_type": "markdown",
   "metadata": {},
   "source": [
    "### List Assays\n",
    "\n",
    "A list of assays is retrieved with the `wallaroo.client.list_assays()` method and takes the following parameters:\n",
    "\n",
    "| Parameter | Type | Description |\n",
    "|---|---|---|\n",
    "| **workspace_id** | (*Int*) (*Optional*) | The numerical identifier of the workspace to filter by. |\n",
    "| **workspace_name** | (*String*) (*Optional*) | The name of the workspace to filter by. |\n",
    "\n",
    "This returns a list of assays as filtered in reverse chronological order.\n",
    "\n",
    "| Parameter | Type | Description |\n",
    "|---|---|---|\n",
    "| *Assay Id* | *Integer* | The numerical id of the assay. |\n",
    "| *Assay Name* | *String* | The name of the assay. |\n",
    "| *Active* | *Boolean* | `True`: The assay is active and generates analyses based on its configuration. `False`: The assay is disabled and will not generate new analyses. |\n",
    "| *Status* | *Dict* | The status of the assay including the \n",
    "| *Warning Threshold* | *Float*/*None* | The warning threshold if set. |\n",
    "| *Alert Threshold* | *Float* | The alert threshold for the assay. |\n",
    "| *workspace_id* | (*Int*) | The numerical identifier of the workspace the assay is associated with. |\n",
    "| *workspace_name* | (*String*)  | The name of the workspace the assay is associated with. |\n",
    "\n",
    "The errors for this method include:\n",
    "\n",
    "* If the parameter `workspace_id` is not an integer.\n",
    "* If the parameter `workspace_name` is not a String.\n"
   ]
  },
  {
   "cell_type": "code",
   "execution_count": null,
   "metadata": {},
   "outputs": [],
   "source": [
    "wl.list_assays()"
   ]
  },
  {
   "cell_type": "markdown",
   "metadata": {},
   "source": [
    "### Set Assay Active Status\n",
    "\n",
    "Assays active status is either:\n",
    "\n",
    "* **True**:  The assay generates analyses based on the assay configuration.\n",
    "* **False**:  The assay will not generate new analyses.\n",
    "\n",
    "Assays are set to active or not active with the `wallaroo.client.set_assay_active` which takes the following parameters.\n",
    "\n",
    "| Parameter | Type | Description |\n",
    "|---|---|---|\n",
    "| *assay_id* | *Integer* | The numerical id of the assay. |\n",
    "| *active* | *Boolean* | `True`: The assay status is set to `Active`.  `False`: The assay status is `Not Active`. |\n",
    "\n",
    "First we will show the current active status.\n",
    "\n",
    "In the following, set the assay status to `False`, then set the assay active status back to `True`."
   ]
  },
  {
   "cell_type": "code",
   "execution_count": null,
   "metadata": {},
   "outputs": [],
   "source": [
    "display(wl.get_assay_info(2))"
   ]
  },
  {
   "cell_type": "markdown",
   "metadata": {},
   "source": [
    "Now we set the active status to `False`, and show the assay list to verify it is no longer active."
   ]
  },
  {
   "cell_type": "code",
   "execution_count": null,
   "metadata": {},
   "outputs": [],
   "source": [
    "wl.set_assay_active(1, False)\n",
    "display(wl.get_assay_info(assay_id))"
   ]
  },
  {
   "cell_type": "markdown",
   "metadata": {},
   "source": [
    "We resume the assay by setting it's active status to `True`."
   ]
  },
  {
   "cell_type": "code",
   "execution_count": null,
   "metadata": {},
   "outputs": [],
   "source": [
    "wl.set_assay_active(assay_id, True)\n",
    "display(wl.get_assay_info(assay_id))"
   ]
  },
  {
   "cell_type": "markdown",
   "metadata": {},
   "source": [
    "### Undeploy Main Pipeline\n",
    "\n",
    "With the examples and tutorial complete, we will undeploy the main pipeline and return the resources back to the Wallaroo instance."
   ]
  },
  {
   "cell_type": "code",
   "execution_count": null,
   "metadata": {},
   "outputs": [],
   "source": [
    "mainpipeline.undeploy()"
   ]
  },
  {
   "cell_type": "markdown",
   "metadata": {},
   "source": [
    "### View Assay Filters\n",
    "\n",
    "The following examples demonstrate various ways of listing assays and retrieving assay details, with filtering options.\n",
    "\n",
    "#### List Assays with Filters\n",
    "\n",
    "List all assays for workspaces the user is a member of."
   ]
  },
  {
   "cell_type": "code",
   "execution_count": null,
   "metadata": {},
   "outputs": [],
   "source": [
    "wl.list_assays()"
   ]
  },
  {
   "cell_type": "markdown",
   "metadata": {},
   "source": [
    "List all assays filtered by workspace id."
   ]
  },
  {
   "cell_type": "code",
   "execution_count": null,
   "metadata": {},
   "outputs": [],
   "source": [
    "wl.list_assays(workspace_id=workspace_id)"
   ]
  },
  {
   "cell_type": "markdown",
   "metadata": {},
   "source": [
    "List assays filtered by workspace name."
   ]
  },
  {
   "cell_type": "code",
   "execution_count": null,
   "metadata": {},
   "outputs": [],
   "source": [
    "wl.list_assays(workspace_name=workspace_name)"
   ]
  },
  {
   "cell_type": "markdown",
   "metadata": {},
   "source": [
    "#### Get Assay Results with Filters\n",
    "\n",
    "Get assay results."
   ]
  },
  {
   "cell_type": "code",
   "execution_count": null,
   "metadata": {},
   "outputs": [],
   "source": [
    "assay_results = wl.get_assay_results(assay_id=assay_id,\n",
    "                     start=assay_window_start,\n",
    "                     end=datetime.datetime.now())\n",
    "\n",
    "assay_results.chart_scores()"
   ]
  },
  {
   "cell_type": "markdown",
   "metadata": {},
   "source": [
    "Get assay results filtered by workspace id."
   ]
  },
  {
   "cell_type": "code",
   "execution_count": null,
   "metadata": {},
   "outputs": [],
   "source": [
    "assay_results = wl.get_assay_results(assay_id=assay_id,\n",
    "                                     workspace_id=workspace_id,\n",
    "                     start=assay_window_start,\n",
    "                     end=datetime.datetime.now())\n",
    "\n",
    "assay_results.chart_scores()"
   ]
  },
  {
   "cell_type": "markdown",
   "metadata": {},
   "source": [
    "Get assay results filtered by workspace name."
   ]
  },
  {
   "cell_type": "code",
   "execution_count": null,
   "metadata": {},
   "outputs": [],
   "source": [
    "assay_results = wl.get_assay_results(assay_id=assay_id,\n",
    "                                     workspace_name=workspace_name,\n",
    "                     start=assay_window_start,\n",
    "                     end=datetime.datetime.now())\n",
    "\n",
    "assay_results.chart_scores()"
   ]
  },
  {
   "cell_type": "markdown",
   "metadata": {},
   "source": [
    "#### Get Assay Info with Filter\n",
    "\n",
    "Get assay info."
   ]
  },
  {
   "cell_type": "code",
   "execution_count": null,
   "metadata": {},
   "outputs": [],
   "source": [
    "wl.get_assay_info(assay_id=assay_id)"
   ]
  },
  {
   "cell_type": "markdown",
   "metadata": {},
   "source": [
    "Get assay info filtered by workspace id."
   ]
  },
  {
   "cell_type": "code",
   "execution_count": null,
   "metadata": {},
   "outputs": [],
   "source": [
    "wl.get_assay_info(assay_id=assay_id, \n",
    "                 workspace_id=workspace_id)"
   ]
  },
  {
   "cell_type": "markdown",
   "metadata": {},
   "source": [
    "Get assay info filtered by workspace name."
   ]
  },
  {
   "cell_type": "code",
   "execution_count": null,
   "metadata": {},
   "outputs": [],
   "source": [
    "wl.get_assay_info(assay_id=assay_id, \n",
    "                 workspace_name=workspace_name)"
   ]
  }
 ],
 "metadata": {
  "kernelspec": {
   "display_name": "Python 3 (ipykernel)",
   "language": "python",
   "name": "python3"
  },
  "language_info": {
   "codemirror_mode": {
    "name": "ipython",
    "version": 3
   },
   "file_extension": ".py",
   "mimetype": "text/x-python",
   "name": "python",
   "nbconvert_exporter": "python",
   "pygments_lexer": "ipython3",
   "version": "3.10.11"
  }
 },
 "nbformat": 4,
 "nbformat_minor": 4
}
