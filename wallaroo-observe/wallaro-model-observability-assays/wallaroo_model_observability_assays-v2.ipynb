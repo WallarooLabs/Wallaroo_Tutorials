{
 "cells": [
  {
   "cell_type": "markdown",
   "metadata": {},
   "source": [
    "This tutorial and the assets can be downloaded as part of the [Wallaroo Tutorials repository](https://github.com/WallarooLabs/Wallaroo_Tutorials/blob/wallaroo2024.2_tutorials/wallaroo-observe/wallaro-model-observability-assays).\n",
    "\n",
    "## Model Drift Observability with Assays V2\n",
    "\n",
    "The Model Insights feature lets you monitor how the environment that your model operates within may be changing in ways that affect it's predictions so that you can intervene (retrain) in an efficient and timely manner. Changes in the inputs, **data drift**, can occur due to errors in the data processing pipeline or due to changes in the environment such as user preference or behavior. \n",
    "\n",
    "This notebook focuses on interactive exploration over historical data. After you are comfortable with how your data has behaved historically, you can schedule this same analysis (called an *assay*) to automatically run periodically, looking for indications of data drift or concept drift.\n",
    "\n",
    "In this notebook, we will be running a drift assay on an ONNX model pre-trained to predict house prices.  For this example, the Wallaroo instance **must** be [configured for Wallaroo Assays V2](https://docs.wallaroo.ai/wallaroo-platform-operations/wallaroo-platform-operations-configure/wallaroo-platform-operations-configure-enable-assay/).\n",
    "\n",
    "* **IMPORTANT NOTE**:  This tutorial is focused on [Wallaroo Assays V2](https://docs.wallaroo.ai/wallaroo-model-operations/wallaroo-model-operations-observe/wallaroo-pipeline-assays/).  Verify the Wallaroo SDK is set with the proper environmental variable as shown below.\n",
    "\n",
    "## Goal\n",
    "\n",
    "Model insights monitors the output of the spam classifier model over a designated time window and compares it to an expected baseline distribution. We measure the difference between  the window distribution and the baseline distribution; large differences indicate that the behavior of the model (or its inputs) has changed from what we expect. This possibly indicates a change that should be accounted for, possibly by retraining the models.\n",
    "\n",
    "### Resources\n",
    "\n",
    "This tutorial provides the following:\n",
    "\n",
    "* Models:\n",
    "  * `models/rf_model.onnx`: The champion model that has been used in this environment for some time.\n",
    "  * Various inputs:\n",
    "    * `smallinputs.df.json`: A set of house inputs that tends to generate low house price values.\n",
    "    * `biginputs.df.json`: A set of house inputs that tends to generate high house price values.\n",
    "\n",
    "### Prerequisites\n",
    "\n",
    "* A deployed Wallaroo instance\n",
    "* The following Python libraries installed:\n",
    "  * [`wallaroo`](https://pypi.org/project/wallaroo/): The Wallaroo SDK. Included with the Wallaroo JupyterHub service by default.\n",
    "  * [`pandas`](https://pypi.org/project/pandas/): Pandas, mainly used for Pandas DataFrame\n"
   ]
  },
  {
   "cell_type": "markdown",
   "metadata": {},
   "source": [
    "## Steps\n",
    "\n",
    "* Deploying a sample ML model used to determine house prices based on a set of input parameters.\n",
    "* Build an assay baseline from a set of baseline start and end dates, and an assay baseline from a numpy array.\n",
    "* Preview the assay and show different assay configurations.\n",
    "* Upload the assay.\n",
    "* View assay results.\n",
    "* Pause and resume the assay.\n",
    "\n",
    "### Import Libraries\n",
    "\n",
    "The first step will be to import our libraries, and set variables used through this tutorial."
   ]
  },
  {
   "cell_type": "code",
   "execution_count": 1,
   "metadata": {},
   "outputs": [],
   "source": [
    "import wallaroo\n",
    "from wallaroo.object import EntityNotFoundError\n",
    "from wallaroo.framework import Framework\n",
    "\n",
    "from IPython.display import display\n",
    "\n",
    "# used to display DataFrame information without truncating\n",
    "from IPython.display import display\n",
    "import pandas as pd\n",
    "pd.set_option('display.max_colwidth', None)\n",
    "\n",
    "import datetime\n",
    "import time\n",
    "\n",
    "workspace_name = f'assay-demonstration-tutorial-2'\n",
    "main_pipeline_name = f'assay-demonstration-tutorial'\n",
    "model_name_control = f'house-price-estimator'\n",
    "model_file_name_control = './models/rf_model.onnx'\n",
    "\n",
    "# Set the name of the assay\n",
    "assay_name=f\"house price assay demo\"\n",
    "\n",
    "# ignoring warnings for demonstration\n",
    "import warnings\n",
    "warnings.filterwarnings('ignore')\n",
    "\n",
    "# used to display DataFrame information without truncating\n",
    "from IPython.display import display\n",
    "import pandas as pd\n",
    "pd.set_option('display.max_colwidth', None)"
   ]
  },
  {
   "cell_type": "markdown",
   "metadata": {},
   "source": [
    "### Set Assay Version\n",
    "\n",
    "<div class=\"alert alert-info\" role=\"alert\">\n",
    "<h5 class=\"alert-heading\">IMPORTANT NOTE</h5>\n",
    "<p>Wallaroo provides two versions of Wallaroo Assays:  <bold>Assays V1</bold> and <bold>Assays V2</bold>.  The Wallaroo SDK <bold>must</bold> be matched to the same version <a href=\"https://docs.wallaroo.ai/wallaroo-platform-operations/wallaroo-platform-operations-configure/wallaroo-platform-operations-configure-enable-assay/\">Wallaroo is configured for</a>.</p>\n",
    "\n",
    "<p>See <a href=\"https://docs.wallaroo.ai/wallaroo-model-operations/wallaroo-model-operations-observe/wallaroo-pipeline-assays/#configuring-assay-version\">Configuring Assay Version</a> for details on setting the SDK to match the Wallaroo Assay version.  Note that Wallaroo Assays V1 are enabled by default and require no changes.</p>\n",
    "</div>\n",
    "\n",
    "The following code block is one example of setting the environmental variable using the Python `os` library.\n",
    "\n",
    "```python\n",
    "import os\n",
    "os.environ[\"ASSAYS_V2_ENABLED\"] = \"True\"\n",
    "```"
   ]
  },
  {
   "cell_type": "markdown",
   "metadata": {},
   "source": [
    "### Connect to the Wallaroo Instance\n",
    "\n",
    "The first step is to connect to Wallaroo through the Wallaroo client.  The Python library is included in the Wallaroo install and available through the Jupyter Hub interface provided with your Wallaroo environment.\n",
    "\n",
    "This is accomplished using the `wallaroo.Client()` command, which provides a URL to grant the SDK permission to your specific Wallaroo environment.  When displayed, enter the URL into a browser and confirm permissions.  Store the connection into a variable that can be referenced later.\n",
    "\n",
    "If logging into the Wallaroo instance through the internal JupyterHub service, use `wl = wallaroo.Client()`.  For more information on Wallaroo Client settings, see the [Client Connection guide](https://docs.wallaroo.ai/wallaroo-developer-guides/wallaroo-sdk-guides/wallaroo-sdk-essentials-guide/wallaroo-sdk-essentials-client/)."
   ]
  },
  {
   "cell_type": "code",
   "execution_count": null,
   "metadata": {},
   "outputs": [],
   "source": [
    "# Login through local Wallaroo instance\n",
    "\n",
    "wl = wallaroo.Client()"
   ]
  },
  {
   "cell_type": "markdown",
   "metadata": {},
   "source": [
    "### Create Workspace\n",
    "\n",
    "We will create a workspace to manage our pipeline and models.  The following variables will set the name of our sample workspace then set it as the current workspace.\n",
    "\n",
    "Workspace, pipeline, and model names should be unique to each user, so we'll add in a randomly generated suffix so multiple people can run this tutorial in a Wallaroo instance without effecting each other."
   ]
  },
  {
   "cell_type": "code",
   "execution_count": 4,
   "metadata": {},
   "outputs": [
    {
     "data": {
      "text/plain": [
       "{'name': 'assay-demonstration-tutorial-2', 'id': 8, 'archived': False, 'created_by': 'b43dd432-f665-4ea6-abe6-13c5c0028cd7', 'created_at': '2024-08-20T15:45:26.048772+00:00', 'models': [], 'pipelines': []}"
      ]
     },
     "execution_count": 4,
     "metadata": {},
     "output_type": "execute_result"
    }
   ],
   "source": [
    "workspace = wl.get_workspace(name=workspace_name, create_if_not_exist=True)\n",
    "\n",
    "wl.set_current_workspace(workspace)"
   ]
  },
  {
   "cell_type": "markdown",
   "metadata": {},
   "source": [
    "### Upload The Champion Model\n",
    "\n",
    "For our example, we will upload the champion model that has been trained to derive house prices from a variety of inputs.  The model file is `rf_model.onnx`, and is uploaded with the name `house-price-estimator`."
   ]
  },
  {
   "cell_type": "code",
   "execution_count": 5,
   "metadata": {},
   "outputs": [],
   "source": [
    "housing_model_control = (wl.upload_model(model_name_control, \n",
    "                                        model_file_name_control, \n",
    "                                        framework=Framework.ONNX)\n",
    "                                        .configure(tensor_fields=[\"tensor\"])\n",
    "                        )"
   ]
  },
  {
   "cell_type": "markdown",
   "metadata": {},
   "source": [
    "### Build the Pipeline\n",
    "\n",
    "This pipeline is made to be an example of an existing situation where a model is deployed and being used for inferences in a production environment.  We'll call it `assay-demonstration-tutorial`, set `housing_model_control` as a pipeline step, then run a few sample inferences.\n",
    "\n",
    "This pipeline will be a simple one - just a single pipeline step."
   ]
  },
  {
   "cell_type": "code",
   "execution_count": null,
   "metadata": {},
   "outputs": [],
   "source": [
    "mainpipeline = wl.build_pipeline(main_pipeline_name)\n",
    "# clear the steps if used before\n",
    "mainpipeline.clear()\n",
    "\n",
    "mainpipeline.add_model_step(housing_model_control)\n",
    "\n",
    "#minimum deployment config\n",
    "deploy_config = wallaroo.DeploymentConfigBuilder().replica_count(1).cpus(0.5).memory(\"1Gi\").build()"
   ]
  },
  {
   "cell_type": "code",
   "execution_count": 7,
   "metadata": {},
   "outputs": [
    {
     "name": "stdout",
     "output_type": "stream",
     "text": [
      " ok\n"
     ]
    },
    {
     "data": {
      "text/html": [
       "<table><tr><th>name</th> <td>assay-demonstration-tutorial</td></tr><tr><th>created</th> <td>2024-08-20 15:45:27.024352+00:00</td></tr><tr><th>last_updated</th> <td>2024-08-20 15:47:03.959686+00:00</td></tr><tr><th>deployed</th> <td>True</td></tr><tr><th>workspace_id</th> <td>8</td></tr><tr><th>workspace_name</th> <td>assay-demonstration-tutorial-2</td></tr><tr><th>arch</th> <td>x86</td></tr><tr><th>accel</th> <td>none</td></tr><tr><th>tags</th> <td></td></tr><tr><th>versions</th> <td>6d3131f0-797c-4087-90fb-37056a65726f, 4e7a65db-b1c3-4331-b3f8-549917f73e9c, 63d04c05-e9d6-468f-a960-9d7b136e8e4e</td></tr><tr><th>steps</th> <td>house-price-estimator</td></tr><tr><th>published</th> <td>False</td></tr></table>"
      ],
      "text/plain": [
       "{'name': 'assay-demonstration-tutorial', 'create_time': datetime.datetime(2024, 8, 20, 15, 45, 27, 24352, tzinfo=tzutc()), 'definition': \"[{'ModelInference': {'models': [{'name': 'house-price-estimator', 'version': '5e8fcae0-fcda-4fb4-ba7d-da262effaf7b', 'sha': 'e22a0831aafd9917f3cc87a15ed267797f80e2afa12ad7d8810ca58f173b8cc6'}]}}]\"}"
      ]
     },
     "execution_count": 7,
     "metadata": {},
     "output_type": "execute_result"
    }
   ],
   "source": [
    "mainpipeline.deploy(deployment_config = deploy_config)"
   ]
  },
  {
   "cell_type": "markdown",
   "metadata": {},
   "source": [
    "### Testing\n",
    "\n",
    "We'll use two inferences as a quick sample test - one that has a house that should be determined around `$700k`, the other with a house determined to be around `$1.5` million."
   ]
  },
  {
   "cell_type": "code",
   "execution_count": 8,
   "metadata": {},
   "outputs": [
    {
     "data": {
      "text/html": [
       "<div>\n",
       "<style scoped>\n",
       "    .dataframe tbody tr th:only-of-type {\n",
       "        vertical-align: middle;\n",
       "    }\n",
       "\n",
       "    .dataframe tbody tr th {\n",
       "        vertical-align: top;\n",
       "    }\n",
       "\n",
       "    .dataframe thead th {\n",
       "        text-align: right;\n",
       "    }\n",
       "</style>\n",
       "<table border=\"1\" class=\"dataframe\">\n",
       "  <thead>\n",
       "    <tr style=\"text-align: right;\">\n",
       "      <th></th>\n",
       "      <th>time</th>\n",
       "      <th>in.tensor</th>\n",
       "      <th>out.variable</th>\n",
       "      <th>anomaly.count</th>\n",
       "    </tr>\n",
       "  </thead>\n",
       "  <tbody>\n",
       "    <tr>\n",
       "      <th>0</th>\n",
       "      <td>2024-08-20 15:47:05.258</td>\n",
       "      <td>[4.0, 2.5, 2900.0, 5505.0, 2.0, 0.0, 0.0, 3.0, 8.0, 2900.0, 0.0, 47.6063, -122.02, 2970.0, 5251.0, 12.0, 0.0, 0.0]</td>\n",
       "      <td>[718013.7]</td>\n",
       "      <td>0</td>\n",
       "    </tr>\n",
       "  </tbody>\n",
       "</table>\n",
       "</div>"
      ],
      "text/plain": [
       "                     time  \\\n",
       "0 2024-08-20 15:47:05.258   \n",
       "\n",
       "                                                                                                            in.tensor  \\\n",
       "0  [4.0, 2.5, 2900.0, 5505.0, 2.0, 0.0, 0.0, 3.0, 8.0, 2900.0, 0.0, 47.6063, -122.02, 2970.0, 5251.0, 12.0, 0.0, 0.0]   \n",
       "\n",
       "  out.variable  anomaly.count  \n",
       "0   [718013.7]              0  "
      ]
     },
     "metadata": {},
     "output_type": "display_data"
    }
   ],
   "source": [
    "normal_input = pd.DataFrame.from_records({\"tensor\": [[4.0, 2.5, 2900.0, 5505.0, 2.0, 0.0, 0.0, 3.0, 8.0, 2900.0, 0.0, 47.6063, -122.02, 2970.0, 5251.0, 12.0, 0.0, 0.0]]})\n",
    "result = mainpipeline.infer(normal_input)\n",
    "display(result)"
   ]
  },
  {
   "cell_type": "code",
   "execution_count": 9,
   "metadata": {},
   "outputs": [
    {
     "data": {
      "text/html": [
       "<div>\n",
       "<style scoped>\n",
       "    .dataframe tbody tr th:only-of-type {\n",
       "        vertical-align: middle;\n",
       "    }\n",
       "\n",
       "    .dataframe tbody tr th {\n",
       "        vertical-align: top;\n",
       "    }\n",
       "\n",
       "    .dataframe thead th {\n",
       "        text-align: right;\n",
       "    }\n",
       "</style>\n",
       "<table border=\"1\" class=\"dataframe\">\n",
       "  <thead>\n",
       "    <tr style=\"text-align: right;\">\n",
       "      <th></th>\n",
       "      <th>time</th>\n",
       "      <th>in.tensor</th>\n",
       "      <th>out.variable</th>\n",
       "      <th>anomaly.count</th>\n",
       "    </tr>\n",
       "  </thead>\n",
       "  <tbody>\n",
       "    <tr>\n",
       "      <th>0</th>\n",
       "      <td>2024-08-20 15:47:05.384</td>\n",
       "      <td>[4.0, 3.0, 3710.0, 20000.0, 2.0, 0.0, 2.0, 5.0, 10.0, 2760.0, 950.0, 47.6696, -122.261, 3970.0, 20000.0, 79.0, 0.0, 0.0]</td>\n",
       "      <td>[1514079.4]</td>\n",
       "      <td>0</td>\n",
       "    </tr>\n",
       "  </tbody>\n",
       "</table>\n",
       "</div>"
      ],
      "text/plain": [
       "                     time  \\\n",
       "0 2024-08-20 15:47:05.384   \n",
       "\n",
       "                                                                                                                  in.tensor  \\\n",
       "0  [4.0, 3.0, 3710.0, 20000.0, 2.0, 0.0, 2.0, 5.0, 10.0, 2760.0, 950.0, 47.6696, -122.261, 3970.0, 20000.0, 79.0, 0.0, 0.0]   \n",
       "\n",
       "  out.variable  anomaly.count  \n",
       "0  [1514079.4]              0  "
      ]
     },
     "metadata": {},
     "output_type": "display_data"
    }
   ],
   "source": [
    "large_house_input = pd.DataFrame.from_records({'tensor': [[4.0, 3.0, 3710.0, 20000.0, 2.0, 0.0, 2.0, 5.0, 10.0, 2760.0, 950.0, 47.6696, -122.261, 3970.0, 20000.0, 79.0, 0.0, 0.0]]})\n",
    "large_house_result = mainpipeline.infer(large_house_input)\n",
    "display(large_house_result)"
   ]
  },
  {
   "cell_type": "markdown",
   "metadata": {},
   "source": [
    "### Generate Sample Data\n",
    "\n",
    "Before creating the assays, we must generate data for the assays to build from.\n",
    "\n",
    "For this example, we will:\n",
    "\n",
    "* Perform sample inferences based on lower priced houses and use that as our baseline.\n",
    "* Generate inferences from specific set of high priced houses create inference outputs that will be outside the baseline.  This is used in later steps to demonstrate baseline comparison against assay analyses."
   ]
  },
  {
   "cell_type": "markdown",
   "metadata": {},
   "source": [
    "#### Inference Results History Generation\n",
    "\n",
    "To start the demonstration, we'll create a set of inferences based on houses with small estimated prices.\n",
    "\n",
    "We will save the beginning and end periods of inferences to the variables `assay_baseline_start` and `assay_baseline_end`.  These will be used later to create assay baselines from a **range of dates**."
   ]
  },
  {
   "cell_type": "code",
   "execution_count": 51,
   "metadata": {},
   "outputs": [],
   "source": [
    "small_houses_inputs = pd.read_json('./data/smallinputs.df.json')\n",
    "baseline_size = 500\n",
    "\n",
    "# Where the baseline data will start\n",
    "assay_baseline_start = datetime.datetime.now()\n",
    "\n",
    "# These inputs will be random samples of small priced houses.  Around 30,000 is a good number\n",
    "small_houses = small_houses_inputs.sample(baseline_size, replace=True).reset_index(drop=True)\n",
    "\n",
    "# Wait 60 seconds to set this data apart from the rest\n",
    "time.sleep(60)\n",
    "small_results = mainpipeline.infer(small_houses)\n",
    "\n",
    "# Set the baseline end\n",
    "\n",
    "assay_baseline_end = datetime.datetime.now()"
   ]
  },
  {
   "cell_type": "markdown",
   "metadata": {},
   "source": [
    "#### Generate Numpy Baseline Values\n",
    "\n",
    "From our inference outputs, we will create an array of numpy values.  These are used for **assays baselines created from numpy values**."
   ]
  },
  {
   "cell_type": "code",
   "execution_count": 11,
   "metadata": {},
   "outputs": [],
   "source": [
    "# get the numpy values\n",
    "\n",
    "# set the results to a non-array value\n",
    "small_results_baseline_df = small_results.copy()\n",
    "small_results_baseline_df['variable']=small_results['out.variable'].map(lambda x: x[0])\n",
    "small_results_baseline_df\n",
    "\n",
    "# set the numpy array\n",
    "small_results_baseline = small_results_baseline_df['variable'].to_numpy()"
   ]
  },
  {
   "cell_type": "markdown",
   "metadata": {},
   "source": [
    "#### Assay Test Data\n",
    "\n",
    "The following will generate inference data for us to test against the assay baseline.  For this, we will add in house data that generate higher house prices than the baseline data we used earlier.\n",
    "\n",
    "This process should take 6 minutes to generate the historical data we'll later use in our assays.  We store the DateTime `assay_window_start` to determine where to start out assay analyses."
   ]
  },
  {
   "cell_type": "code",
   "execution_count": 12,
   "metadata": {},
   "outputs": [],
   "source": [
    "# Get a spread of house values\n",
    "\n",
    "# # Set the start for our assay window period.\n",
    "assay_window_start = datetime.datetime.now()\n",
    "\n",
    "time.sleep(65)\n",
    "inference_size = 1000\n",
    "\n",
    "# And a spread of large house values\n",
    "\n",
    "small_houses_inputs = pd.read_json('./data/smallinputs.df.json', orient=\"records\")\n",
    "small_houses = small_houses_inputs.sample(inference_size, replace=True).reset_index(drop=True)\n",
    "\n",
    "mainpipeline.infer(small_houses)\n",
    "\n",
    "time.sleep(65)"
   ]
  },
  {
   "cell_type": "code",
   "execution_count": 52,
   "metadata": {},
   "outputs": [],
   "source": [
    "# Get a spread of large house values\n",
    "\n",
    "time.sleep(65)\n",
    "inference_size = 1000\n",
    "\n",
    "# And a spread of large house values\n",
    "\n",
    "big_houses_inputs = pd.read_json('./data/biginputs.df.json', orient=\"records\")\n",
    "big_houses = big_houses_inputs.sample(inference_size, replace=True).reset_index(drop=True)\n",
    "\n",
    "mainpipeline.infer(big_houses)\n",
    "\n",
    "time.sleep(65)"
   ]
  },
  {
   "cell_type": "markdown",
   "metadata": {},
   "source": [
    "## Model Insights via the Wallaroo SDK\n",
    "\n",
    "Assays generated through the Wallaroo SDK can be previewed, configured, and uploaded to the Wallaroo Ops instance.  The following is a condensed version of this process.  For full details see the [Wallaroo SDK Essentials Guide: Assays Management](https://docs.wallaroo.ai/wallaroo-developer-guides/wallaroo-sdk-guides/wallaroo-sdk-essentials-guide/wallaroo-sdk-essentials-assays/) guide.\n",
    "\n",
    "Model drift detection with assays using the Wallaroo SDK follows this general process.\n",
    "\n",
    "* Define the Baseline: From either historical inference data for a specific model in a pipeline, or from a pre-determine array of data, a **baseline** is formed.\n",
    "* Assay Preview:  Once the baseline is formed, we **preview the assay** and configure the different options until we have the the best method of detecting environment or model drift.\n",
    "* Create Assay:  With the previews and configuration complete, we **upload** the assay.  The assay will perform an analysis on a regular scheduled based on the configuration.\n",
    "* Get Assay Results:  Retrieve the analyses and use them to detect model drift and possible sources.\n",
    "* Pause/Resume Assay:  Pause or restart an assay as needed.\n",
    "\n",
    "### Set Assay Version\n",
    "\n",
    "<div class=\"alert alert-info\" role=\"alert\">\n",
    "<h5 class=\"alert-heading\">IMPORTANT NOTE</h5>\n",
    "<p>Wallaroo provides two versions of Wallaroo Assays:  <bold>Assays V1</bold> and <bold>Assays V2</bold>.  The Wallaroo SDK <bold>must</bold> be matched to the same version <a href=\"https://drafts.docs.wallaroo.ai/wallaroo-platform-operations/wallaroo-platform-operations-configure/wallaroo-platform-operations-configure-enable-assay/\">Wallaroo is configured for</a>.</p>\n",
    "\n",
    "<p>See <a href=\"https://drafts.docs.wallaroo.ai/wallaroo-model-operations/wallaroo-model-operations-observe/wallaroo-pipeline-assays/#configuring-assay-version\">Configuring Assay Version</a> for details on setting the SDK to match the Wallaroo Assay version.  Note that Wallaroo Assays V1 are enabled by default and require no changes.</p>\n",
    "</div>\n",
    "\n",
    "### Define the Baseline\n",
    "\n",
    "Assay baselines are defined with the [`wallaroo.client.build_assay`](https://docs.wallaroo.ai/wallaroo-developer-guides/wallaroo-sdk-guides/wallaroo-sdk-reference-guide/client/#Client.build_assay) method. Through this process we define the baseline from either a range of dates or pre-generated values.\n",
    "\n",
    "`wallaroo.client.build_assay` take the following parameters:\n",
    "\n",
    "| Parameter | Type | Description |\n",
    "|---|---|---|\n",
    "| **assay_name** | *String* (*Required*) - required | The name of the assay.  Assay names **must** be unique across the Wallaroo instance. |\n",
    "| **pipeline** | *wallaroo.pipeline.Pipeline* (*Required*) | The pipeline the assay is monitoring. |\n",
    "| **model_name** | *String* (*Optional*) / `None` | The name of the model to monitor.  This field should only be used to track the inputs/outputs for a specific model step in a pipeline.  If no `model_name` is to be included, then the parameters must be passed a named parameters not positional ones.   |\n",
    "| **iopath** | *String* (*Required*) | The input/output data for the model being tracked in the format `input/output field index`.  Only one value is tracked for any assay.  For example, to track the **output** of the model's field `house_value` at index `0`, the `iopath` is `'output house_value 0`. |\n",
    "| **baseline_start** | *datetime.datetime* (*Optional*) | The start time for the inferences to use as the baseline.  **Must be included with `baseline_end`.  Cannot be included with `baseline_data`**. |\n",
    "| **baseline_end** | *datetime.datetime* (*Optional*) | The end time of the baseline window. the baseline. Windows start immediately after the baseline window and are run at regular intervals continuously until the assay is deactivated or deleted.  **Must be included with `baseline_start`.  Cannot be included with `baseline_data`.**. |\n",
    "| **baseline_data** | *numpy.array* (*Optional*) | The baseline data in numpy array format.  **Cannot be included with either `baseline_start` or `baseline_data`**. |\n",
    "\n",
    "Note that `model_name` is an optional parameters **when parameters are named**.  For example:\n",
    "\n",
    "```python\n",
    "assay_builder_from_dates = wl.build_assay(assay_name=\"assays from date baseline\", \n",
    "                                          pipeline=mainpipeline, \n",
    "                                          iopath=\"output variable 0\",\n",
    "                                          baseline_start=assay_baseline_start, \n",
    "                                          baseline_end=assay_baseline_end)\n",
    "```\n",
    "\n",
    "**or**:\n",
    "\n",
    "```python\n",
    "assay_builder_from_dates = wl.build_assay(\"assays from date baseline\", \n",
    "                                          mainpipeline, \n",
    "                                          None, ## since we are using positional parameters, `None` must be included for the model parameter\n",
    "                                          \"output variable 0\",\n",
    "                                          assay_baseline_start, \n",
    "                                          assay_baseline_end)\n",
    "```\n",
    "\n",
    "Baselines are created in one of two **mutually exclusive** methods:\n",
    "\n",
    "* **Date Range**:  The `baseline_start` and `baseline_end` retrieves the inference requests and results for the pipeline from the start and end period.  This data is summarized and used to create the baseline.  For our examples, we're using the variables `assay_baseline_start` and `assay_baseline_end` to represent a range of dates, with `assay_baseline_start` being set **before** `assay_baseline_end`.\n",
    "* **Numpy Values**:  The `baseline_data` sets the baseline from a provided numpy array.  This allows assay baselines to be created without first performing inferences in Wallaroo.\n",
    "\n",
    "#### Define the Baseline Example\n",
    "\n",
    "This example shows two methods of defining the baseline for an assay:\n",
    "\n",
    "* `\"assays from date baseline\"`: This assay uses historical inference requests to define the baseline.  This assay is saved to the variable `assay_builder_from_dates`.\n",
    "* `\"assays from numpy\"`:  This assay uses a pre-generated numpy array to define the baseline.  This assay is saved to the variable `assay_builder_from_numpy`.\n",
    "\n",
    "In both cases, the following parameters are used:\n",
    "\n",
    "| Parameter | Value |\n",
    "|---|---|\n",
    "| **assay_name** | `\"assays from date baseline\"` and `\"assays from numpy\"` |\n",
    "| **pipeline** | `mainpipeline`:  A pipeline with a ML model that predicts house prices.  The output field for this model is `variable`. |\n",
    "| **iopath** | These assays monitor the model's **output** field **variable** at index 0 for the pipeline.  From this, the `iopath` setting is `\"output variable 0\"`.  |\n",
    "\n",
    "The difference between the two assays' parameters determines how the baseline is generated.\n",
    "\n",
    "* `\"assays from date baseline\"`: Uses the `baseline_start` and `baseline_end` to set the time period of inference requests and results to gather data from.\n",
    "* `\"assays from numpy\"`:  Uses a pre-generated numpy array as for the baseline data.\n",
    "\n",
    "First we generate an assay baseline from a range of historical inferences performed through the specified pipeline deployment."
   ]
  },
  {
   "cell_type": "code",
   "execution_count": 14,
   "metadata": {},
   "outputs": [
    {
     "data": {
      "text/plain": [
       "datetime.datetime(2024, 8, 20, 15, 47, 6, 29299)"
      ]
     },
     "metadata": {},
     "output_type": "display_data"
    },
    {
     "data": {
      "text/plain": [
       "datetime.datetime(2024, 8, 20, 15, 48, 6, 151928)"
      ]
     },
     "metadata": {},
     "output_type": "display_data"
    }
   ],
   "source": [
    "# Build the assay, based on the start and end of our baseline time, \n",
    "# and tracking the output variable index 0\n",
    "\n",
    "display(assay_baseline_start)\n",
    "display(assay_baseline_end)\n",
    "\n",
    "assay_baseline_from_dates = wl.build_assay(assay_name=\"assays from date baseline\", \n",
    "                                          pipeline=mainpipeline, \n",
    "                                          iopath=\"output variable 0\",\n",
    "                                          baseline_start=assay_baseline_start, \n",
    "                                          baseline_end=assay_baseline_end)\n",
    "\n",
    "# create the baseline from the dates\n",
    "assay_baseline_run_from_dates = assay_baseline_from_dates.build().interactive_baseline_run()"
   ]
  },
  {
   "cell_type": "code",
   "execution_count": 15,
   "metadata": {},
   "outputs": [
    {
     "data": {
      "text/plain": [
       "8"
      ]
     },
     "execution_count": 15,
     "metadata": {},
     "output_type": "execute_result"
    }
   ],
   "source": [
    "# storing the workspace id for later requests\n",
    "workspace_id = workspace.id()\n",
    "workspace_id"
   ]
  },
  {
   "cell_type": "markdown",
   "metadata": {},
   "source": [
    "In this code sample, we generate the assay baseline from a preset numpy array called `small_results_baseline`."
   ]
  },
  {
   "cell_type": "code",
   "execution_count": 16,
   "metadata": {},
   "outputs": [
    {
     "data": {
      "text/plain": [
       "array([450867.7 , 332134.97, 355371.1 , 784103.56, 306037.63])"
      ]
     },
     "metadata": {},
     "output_type": "display_data"
    }
   ],
   "source": [
    "# build the baseline from the numpy array\n",
    "display(small_results_baseline[0:5])\n",
    "\n",
    "# assay builder by baseline\n",
    "assay_baseline_from_numpy = wl.build_assay(assay_name=\"assays from numpy\", \n",
    "                               pipeline=mainpipeline, \n",
    "                               iopath=\"output variable 0\", \n",
    "                               baseline_data = small_results_baseline)\n",
    "\n",
    "# create the baseline from the numpy array\n",
    "assay_baseline_run_from_numpy = assay_baseline_from_numpy.build().interactive_baseline_run()"
   ]
  },
  {
   "cell_type": "markdown",
   "metadata": {},
   "source": [
    "#### Baseline Chart\n",
    "\n",
    "The baseline chart is displayed with `wallaroo.assay.AssayAnalysis.chart()`, which returns a chart with:\n",
    "\n",
    "* **baseline mean**:  The mean value of the baseline values.\n",
    "* **baseline median**: The median value of the baseline values.\n",
    "* **bin_mode**: The binning mode.  See [Binning Mode](#binning-mode)\n",
    "* **aggregation**:  The aggregation type.  See [Aggregation Options](#aggregation-options)\n",
    "* **metric**:  The assay's metric type.  See [Score Metric](#score-metric)\n",
    "* **weighted**:  Whether the binning mode is weighted.  See [Binning Mode](#binning-mode)"
   ]
  },
  {
   "cell_type": "markdown",
   "metadata": {},
   "source": [
    "The first chart is from an assay baseline generated from a set of inferences across a range of dates."
   ]
  },
  {
   "cell_type": "code",
   "execution_count": 17,
   "metadata": {},
   "outputs": [
    {
     "name": "stdout",
     "output_type": "stream",
     "text": [
      "baseline mean = 530885.18140625\n",
      "baseline median = 448928.890625\n",
      "bin_mode = Quantile\n",
      "aggregation = Density\n",
      "metric = PSI\n",
      "weighted = False\n"
     ]
    },
    {
     "data": {
      "image/png": "[encoded data removed]",
      "text/plain": [
       "<Figure size 432x288 with 1 Axes>"
      ]
     },
     "metadata": {
      "needs_background": "light"
     },
     "output_type": "display_data"
    }
   ],
   "source": [
    "assay_baseline_run_from_dates.chart()"
   ]
  },
  {
   "cell_type": "markdown",
   "metadata": {},
   "source": [
    "This chart is from an assay baseline generated from a set of numpy values."
   ]
  },
  {
   "cell_type": "code",
   "execution_count": 18,
   "metadata": {},
   "outputs": [
    {
     "name": "stdout",
     "output_type": "stream",
     "text": [
      "baseline mean = 530885.1848200001\n",
      "baseline median = 448928.885\n",
      "bin_mode = Quantile\n",
      "aggregation = Density\n",
      "metric = PSI\n",
      "weighted = False\n"
     ]
    },
    {
     "data": {
      "image/png": "[encoded data removed]",
      "text/plain": [
       "<Figure size 432x288 with 1 Axes>"
      ]
     },
     "metadata": {
      "needs_background": "light"
     },
     "output_type": "display_data"
    }
   ],
   "source": [
    "assay_baseline_run_from_numpy.chart()"
   ]
  },
  {
   "cell_type": "markdown",
   "metadata": {},
   "source": [
    "#### Baseline DataFrame\n",
    "\n",
    "The method [`wallaroo.assay_config.AssayBuilder.baseline_dataframe`](https://docs.wallaroo.ai/wallaroo-developer-guides/wallaroo-sdk-guides/wallaroo-sdk-reference-guide/assay_config/#AssayBuilder.baseline_dataframe) returns a DataFrame of the assay baseline generated from the provided parameters.  This includes:\n",
    "\n",
    "* `metadata`:  The inference metadata with the model information, inference time, and other related factors.\n",
    "* `in` data:  Each input field assigned with the label `in.{input field name}`.\n",
    "* `out` data:  Each output field assigned with the label `out.{output field name}`\n",
    "\n",
    "Note that for assays generated from numpy values, there is only the `out` data based on the supplied baseline data.\n",
    "\n",
    "In the following example, the baseline DataFrame is retrieved.  "
   ]
  },
  {
   "cell_type": "markdown",
   "metadata": {},
   "source": [
    "This baseline DataFrame is from an assay baseline generated from a set of inferences across a range of dates."
   ]
  },
  {
   "cell_type": "code",
   "execution_count": 19,
   "metadata": {},
   "outputs": [
    {
     "data": {
      "text/html": [
       "<div>\n",
       "<style scoped>\n",
       "    .dataframe tbody tr th:only-of-type {\n",
       "        vertical-align: middle;\n",
       "    }\n",
       "\n",
       "    .dataframe tbody tr th {\n",
       "        vertical-align: top;\n",
       "    }\n",
       "\n",
       "    .dataframe thead th {\n",
       "        text-align: right;\n",
       "    }\n",
       "</style>\n",
       "<table border=\"1\" class=\"dataframe\">\n",
       "  <thead>\n",
       "    <tr style=\"text-align: right;\">\n",
       "      <th></th>\n",
       "      <th>time</th>\n",
       "      <th>metadata</th>\n",
       "      <th>input_tensor_0</th>\n",
       "      <th>input_tensor_1</th>\n",
       "      <th>input_tensor_2</th>\n",
       "      <th>input_tensor_3</th>\n",
       "      <th>input_tensor_4</th>\n",
       "      <th>input_tensor_5</th>\n",
       "      <th>input_tensor_6</th>\n",
       "      <th>input_tensor_7</th>\n",
       "      <th>...</th>\n",
       "      <th>input_tensor_9</th>\n",
       "      <th>input_tensor_10</th>\n",
       "      <th>input_tensor_11</th>\n",
       "      <th>input_tensor_12</th>\n",
       "      <th>input_tensor_13</th>\n",
       "      <th>input_tensor_14</th>\n",
       "      <th>input_tensor_15</th>\n",
       "      <th>input_tensor_16</th>\n",
       "      <th>input_tensor_17</th>\n",
       "      <th>output_variable_0</th>\n",
       "    </tr>\n",
       "  </thead>\n",
       "  <tbody>\n",
       "    <tr>\n",
       "      <th>0</th>\n",
       "      <td>1724168886133</td>\n",
       "      <td>{'last_model': '{\"model_name\":\"house-price-estimator\",\"model_sha\":\"e22a0831aafd9917f3cc87a15ed267797f80e2afa12ad7d8810ca58f173b8cc6\"}', 'pipeline_version': '6d3131f0-797c-4087-90fb-37056a65726f', 'elapsed': [2151200, 3725890], 'dropped': [], 'partition': 'engine-6c7cb497bc-z6kdd'}</td>\n",
       "      <td>2.0</td>\n",
       "      <td>1.00</td>\n",
       "      <td>990.0</td>\n",
       "      <td>8140.0</td>\n",
       "      <td>1.0</td>\n",
       "      <td>0.0</td>\n",
       "      <td>0.0</td>\n",
       "      <td>1.0</td>\n",
       "      <td>...</td>\n",
       "      <td>990.0</td>\n",
       "      <td>0.0</td>\n",
       "      <td>47.582802</td>\n",
       "      <td>-122.382004</td>\n",
       "      <td>2150.0</td>\n",
       "      <td>5000.0</td>\n",
       "      <td>105.0</td>\n",
       "      <td>0.0</td>\n",
       "      <td>0.0</td>\n",
       "      <td>450867.68750</td>\n",
       "    </tr>\n",
       "    <tr>\n",
       "      <th>1</th>\n",
       "      <td>1724168886133</td>\n",
       "      <td>{'last_model': '{\"model_name\":\"house-price-estimator\",\"model_sha\":\"e22a0831aafd9917f3cc87a15ed267797f80e2afa12ad7d8810ca58f173b8cc6\"}', 'pipeline_version': '6d3131f0-797c-4087-90fb-37056a65726f', 'elapsed': [2151200, 3725890], 'dropped': [], 'partition': 'engine-6c7cb497bc-z6kdd'}</td>\n",
       "      <td>3.0</td>\n",
       "      <td>2.00</td>\n",
       "      <td>1640.0</td>\n",
       "      <td>9234.0</td>\n",
       "      <td>1.0</td>\n",
       "      <td>0.0</td>\n",
       "      <td>0.0</td>\n",
       "      <td>5.0</td>\n",
       "      <td>...</td>\n",
       "      <td>1060.0</td>\n",
       "      <td>580.0</td>\n",
       "      <td>47.516201</td>\n",
       "      <td>-122.274002</td>\n",
       "      <td>2230.0</td>\n",
       "      <td>10354.0</td>\n",
       "      <td>47.0</td>\n",
       "      <td>0.0</td>\n",
       "      <td>0.0</td>\n",
       "      <td>332134.96875</td>\n",
       "    </tr>\n",
       "    <tr>\n",
       "      <th>2</th>\n",
       "      <td>1724168886133</td>\n",
       "      <td>{'last_model': '{\"model_name\":\"house-price-estimator\",\"model_sha\":\"e22a0831aafd9917f3cc87a15ed267797f80e2afa12ad7d8810ca58f173b8cc6\"}', 'pipeline_version': '6d3131f0-797c-4087-90fb-37056a65726f', 'elapsed': [2151200, 3725890], 'dropped': [], 'partition': 'engine-6c7cb497bc-z6kdd'}</td>\n",
       "      <td>5.0</td>\n",
       "      <td>2.00</td>\n",
       "      <td>2050.0</td>\n",
       "      <td>10200.0</td>\n",
       "      <td>1.0</td>\n",
       "      <td>0.0</td>\n",
       "      <td>0.0</td>\n",
       "      <td>3.0</td>\n",
       "      <td>...</td>\n",
       "      <td>1430.0</td>\n",
       "      <td>620.0</td>\n",
       "      <td>47.413601</td>\n",
       "      <td>-122.333000</td>\n",
       "      <td>1940.0</td>\n",
       "      <td>8625.0</td>\n",
       "      <td>58.0</td>\n",
       "      <td>0.0</td>\n",
       "      <td>0.0</td>\n",
       "      <td>355371.09375</td>\n",
       "    </tr>\n",
       "    <tr>\n",
       "      <th>3</th>\n",
       "      <td>1724168886133</td>\n",
       "      <td>{'last_model': '{\"model_name\":\"house-price-estimator\",\"model_sha\":\"e22a0831aafd9917f3cc87a15ed267797f80e2afa12ad7d8810ca58f173b8cc6\"}', 'pipeline_version': '6d3131f0-797c-4087-90fb-37056a65726f', 'elapsed': [2151200, 3725890], 'dropped': [], 'partition': 'engine-6c7cb497bc-z6kdd'}</td>\n",
       "      <td>4.0</td>\n",
       "      <td>1.50</td>\n",
       "      <td>3520.0</td>\n",
       "      <td>4933.0</td>\n",
       "      <td>1.5</td>\n",
       "      <td>0.0</td>\n",
       "      <td>0.0</td>\n",
       "      <td>4.0</td>\n",
       "      <td>...</td>\n",
       "      <td>2270.0</td>\n",
       "      <td>1250.0</td>\n",
       "      <td>47.565498</td>\n",
       "      <td>-122.315002</td>\n",
       "      <td>1710.0</td>\n",
       "      <td>5400.0</td>\n",
       "      <td>86.0</td>\n",
       "      <td>0.0</td>\n",
       "      <td>0.0</td>\n",
       "      <td>784103.56250</td>\n",
       "    </tr>\n",
       "    <tr>\n",
       "      <th>4</th>\n",
       "      <td>1724168886133</td>\n",
       "      <td>{'last_model': '{\"model_name\":\"house-price-estimator\",\"model_sha\":\"e22a0831aafd9917f3cc87a15ed267797f80e2afa12ad7d8810ca58f173b8cc6\"}', 'pipeline_version': '6d3131f0-797c-4087-90fb-37056a65726f', 'elapsed': [2151200, 3725890], 'dropped': [], 'partition': 'engine-6c7cb497bc-z6kdd'}</td>\n",
       "      <td>3.0</td>\n",
       "      <td>2.50</td>\n",
       "      <td>1740.0</td>\n",
       "      <td>30886.0</td>\n",
       "      <td>2.0</td>\n",
       "      <td>0.0</td>\n",
       "      <td>0.0</td>\n",
       "      <td>3.0</td>\n",
       "      <td>...</td>\n",
       "      <td>1740.0</td>\n",
       "      <td>0.0</td>\n",
       "      <td>47.459999</td>\n",
       "      <td>-121.707001</td>\n",
       "      <td>1740.0</td>\n",
       "      <td>39133.0</td>\n",
       "      <td>22.0</td>\n",
       "      <td>0.0</td>\n",
       "      <td>0.0</td>\n",
       "      <td>306037.62500</td>\n",
       "    </tr>\n",
       "    <tr>\n",
       "      <th>...</th>\n",
       "      <td>...</td>\n",
       "      <td>...</td>\n",
       "      <td>...</td>\n",
       "      <td>...</td>\n",
       "      <td>...</td>\n",
       "      <td>...</td>\n",
       "      <td>...</td>\n",
       "      <td>...</td>\n",
       "      <td>...</td>\n",
       "      <td>...</td>\n",
       "      <td>...</td>\n",
       "      <td>...</td>\n",
       "      <td>...</td>\n",
       "      <td>...</td>\n",
       "      <td>...</td>\n",
       "      <td>...</td>\n",
       "      <td>...</td>\n",
       "      <td>...</td>\n",
       "      <td>...</td>\n",
       "      <td>...</td>\n",
       "      <td>...</td>\n",
       "    </tr>\n",
       "    <tr>\n",
       "      <th>495</th>\n",
       "      <td>1724168886133</td>\n",
       "      <td>{'last_model': '{\"model_name\":\"house-price-estimator\",\"model_sha\":\"e22a0831aafd9917f3cc87a15ed267797f80e2afa12ad7d8810ca58f173b8cc6\"}', 'pipeline_version': '6d3131f0-797c-4087-90fb-37056a65726f', 'elapsed': [2151200, 3725890], 'dropped': [], 'partition': 'engine-6c7cb497bc-z6kdd'}</td>\n",
       "      <td>4.0</td>\n",
       "      <td>3.50</td>\n",
       "      <td>3660.0</td>\n",
       "      <td>4903.0</td>\n",
       "      <td>2.0</td>\n",
       "      <td>0.0</td>\n",
       "      <td>0.0</td>\n",
       "      <td>3.0</td>\n",
       "      <td>...</td>\n",
       "      <td>2760.0</td>\n",
       "      <td>900.0</td>\n",
       "      <td>47.718399</td>\n",
       "      <td>-122.155998</td>\n",
       "      <td>3630.0</td>\n",
       "      <td>4992.0</td>\n",
       "      <td>0.0</td>\n",
       "      <td>0.0</td>\n",
       "      <td>0.0</td>\n",
       "      <td>873848.43750</td>\n",
       "    </tr>\n",
       "    <tr>\n",
       "      <th>496</th>\n",
       "      <td>1724168886133</td>\n",
       "      <td>{'last_model': '{\"model_name\":\"house-price-estimator\",\"model_sha\":\"e22a0831aafd9917f3cc87a15ed267797f80e2afa12ad7d8810ca58f173b8cc6\"}', 'pipeline_version': '6d3131f0-797c-4087-90fb-37056a65726f', 'elapsed': [2151200, 3725890], 'dropped': [], 'partition': 'engine-6c7cb497bc-z6kdd'}</td>\n",
       "      <td>2.0</td>\n",
       "      <td>2.00</td>\n",
       "      <td>1350.0</td>\n",
       "      <td>2560.0</td>\n",
       "      <td>1.0</td>\n",
       "      <td>0.0</td>\n",
       "      <td>0.0</td>\n",
       "      <td>4.0</td>\n",
       "      <td>...</td>\n",
       "      <td>1350.0</td>\n",
       "      <td>0.0</td>\n",
       "      <td>47.633801</td>\n",
       "      <td>-122.106003</td>\n",
       "      <td>1800.0</td>\n",
       "      <td>2560.0</td>\n",
       "      <td>41.0</td>\n",
       "      <td>0.0</td>\n",
       "      <td>0.0</td>\n",
       "      <td>450867.68750</td>\n",
       "    </tr>\n",
       "    <tr>\n",
       "      <th>497</th>\n",
       "      <td>1724168886133</td>\n",
       "      <td>{'last_model': '{\"model_name\":\"house-price-estimator\",\"model_sha\":\"e22a0831aafd9917f3cc87a15ed267797f80e2afa12ad7d8810ca58f173b8cc6\"}', 'pipeline_version': '6d3131f0-797c-4087-90fb-37056a65726f', 'elapsed': [2151200, 3725890], 'dropped': [], 'partition': 'engine-6c7cb497bc-z6kdd'}</td>\n",
       "      <td>5.0</td>\n",
       "      <td>2.75</td>\n",
       "      <td>3460.0</td>\n",
       "      <td>7977.0</td>\n",
       "      <td>2.0</td>\n",
       "      <td>0.0</td>\n",
       "      <td>0.0</td>\n",
       "      <td>3.0</td>\n",
       "      <td>...</td>\n",
       "      <td>3460.0</td>\n",
       "      <td>0.0</td>\n",
       "      <td>47.590801</td>\n",
       "      <td>-122.061996</td>\n",
       "      <td>3390.0</td>\n",
       "      <td>6630.0</td>\n",
       "      <td>3.0</td>\n",
       "      <td>0.0</td>\n",
       "      <td>0.0</td>\n",
       "      <td>879092.87500</td>\n",
       "    </tr>\n",
       "    <tr>\n",
       "      <th>498</th>\n",
       "      <td>1724168886133</td>\n",
       "      <td>{'last_model': '{\"model_name\":\"house-price-estimator\",\"model_sha\":\"e22a0831aafd9917f3cc87a15ed267797f80e2afa12ad7d8810ca58f173b8cc6\"}', 'pipeline_version': '6d3131f0-797c-4087-90fb-37056a65726f', 'elapsed': [2151200, 3725890], 'dropped': [], 'partition': 'engine-6c7cb497bc-z6kdd'}</td>\n",
       "      <td>4.0</td>\n",
       "      <td>1.00</td>\n",
       "      <td>1510.0</td>\n",
       "      <td>7200.0</td>\n",
       "      <td>1.5</td>\n",
       "      <td>0.0</td>\n",
       "      <td>0.0</td>\n",
       "      <td>4.0</td>\n",
       "      <td>...</td>\n",
       "      <td>1510.0</td>\n",
       "      <td>0.0</td>\n",
       "      <td>47.761002</td>\n",
       "      <td>-122.306999</td>\n",
       "      <td>1950.0</td>\n",
       "      <td>10656.0</td>\n",
       "      <td>60.0</td>\n",
       "      <td>0.0</td>\n",
       "      <td>0.0</td>\n",
       "      <td>421306.59375</td>\n",
       "    </tr>\n",
       "    <tr>\n",
       "      <th>499</th>\n",
       "      <td>1724168886133</td>\n",
       "      <td>{'last_model': '{\"model_name\":\"house-price-estimator\",\"model_sha\":\"e22a0831aafd9917f3cc87a15ed267797f80e2afa12ad7d8810ca58f173b8cc6\"}', 'pipeline_version': '6d3131f0-797c-4087-90fb-37056a65726f', 'elapsed': [2151200, 3725890], 'dropped': [], 'partition': 'engine-6c7cb497bc-z6kdd'}</td>\n",
       "      <td>4.0</td>\n",
       "      <td>2.50</td>\n",
       "      <td>2800.0</td>\n",
       "      <td>246114.0</td>\n",
       "      <td>2.0</td>\n",
       "      <td>0.0</td>\n",
       "      <td>0.0</td>\n",
       "      <td>3.0</td>\n",
       "      <td>...</td>\n",
       "      <td>2800.0</td>\n",
       "      <td>0.0</td>\n",
       "      <td>47.658600</td>\n",
       "      <td>-121.961998</td>\n",
       "      <td>2750.0</td>\n",
       "      <td>60351.0</td>\n",
       "      <td>15.0</td>\n",
       "      <td>0.0</td>\n",
       "      <td>0.0</td>\n",
       "      <td>765468.87500</td>\n",
       "    </tr>\n",
       "  </tbody>\n",
       "</table>\n",
       "<p>500 rows × 21 columns</p>\n",
       "</div>"
      ],
      "text/plain": [
       "              time  \\\n",
       "0    1724168886133   \n",
       "1    1724168886133   \n",
       "2    1724168886133   \n",
       "3    1724168886133   \n",
       "4    1724168886133   \n",
       "..             ...   \n",
       "495  1724168886133   \n",
       "496  1724168886133   \n",
       "497  1724168886133   \n",
       "498  1724168886133   \n",
       "499  1724168886133   \n",
       "\n",
       "                                                                                                                                                                                                                                                                                      metadata  \\\n",
       "0    {'last_model': '{\"model_name\":\"house-price-estimator\",\"model_sha\":\"e22a0831aafd9917f3cc87a15ed267797f80e2afa12ad7d8810ca58f173b8cc6\"}', 'pipeline_version': '6d3131f0-797c-4087-90fb-37056a65726f', 'elapsed': [2151200, 3725890], 'dropped': [], 'partition': 'engine-6c7cb497bc-z6kdd'}   \n",
       "1    {'last_model': '{\"model_name\":\"house-price-estimator\",\"model_sha\":\"e22a0831aafd9917f3cc87a15ed267797f80e2afa12ad7d8810ca58f173b8cc6\"}', 'pipeline_version': '6d3131f0-797c-4087-90fb-37056a65726f', 'elapsed': [2151200, 3725890], 'dropped': [], 'partition': 'engine-6c7cb497bc-z6kdd'}   \n",
       "2    {'last_model': '{\"model_name\":\"house-price-estimator\",\"model_sha\":\"e22a0831aafd9917f3cc87a15ed267797f80e2afa12ad7d8810ca58f173b8cc6\"}', 'pipeline_version': '6d3131f0-797c-4087-90fb-37056a65726f', 'elapsed': [2151200, 3725890], 'dropped': [], 'partition': 'engine-6c7cb497bc-z6kdd'}   \n",
       "3    {'last_model': '{\"model_name\":\"house-price-estimator\",\"model_sha\":\"e22a0831aafd9917f3cc87a15ed267797f80e2afa12ad7d8810ca58f173b8cc6\"}', 'pipeline_version': '6d3131f0-797c-4087-90fb-37056a65726f', 'elapsed': [2151200, 3725890], 'dropped': [], 'partition': 'engine-6c7cb497bc-z6kdd'}   \n",
       "4    {'last_model': '{\"model_name\":\"house-price-estimator\",\"model_sha\":\"e22a0831aafd9917f3cc87a15ed267797f80e2afa12ad7d8810ca58f173b8cc6\"}', 'pipeline_version': '6d3131f0-797c-4087-90fb-37056a65726f', 'elapsed': [2151200, 3725890], 'dropped': [], 'partition': 'engine-6c7cb497bc-z6kdd'}   \n",
       "..                                                                                                                                                                                                                                                                                         ...   \n",
       "495  {'last_model': '{\"model_name\":\"house-price-estimator\",\"model_sha\":\"e22a0831aafd9917f3cc87a15ed267797f80e2afa12ad7d8810ca58f173b8cc6\"}', 'pipeline_version': '6d3131f0-797c-4087-90fb-37056a65726f', 'elapsed': [2151200, 3725890], 'dropped': [], 'partition': 'engine-6c7cb497bc-z6kdd'}   \n",
       "496  {'last_model': '{\"model_name\":\"house-price-estimator\",\"model_sha\":\"e22a0831aafd9917f3cc87a15ed267797f80e2afa12ad7d8810ca58f173b8cc6\"}', 'pipeline_version': '6d3131f0-797c-4087-90fb-37056a65726f', 'elapsed': [2151200, 3725890], 'dropped': [], 'partition': 'engine-6c7cb497bc-z6kdd'}   \n",
       "497  {'last_model': '{\"model_name\":\"house-price-estimator\",\"model_sha\":\"e22a0831aafd9917f3cc87a15ed267797f80e2afa12ad7d8810ca58f173b8cc6\"}', 'pipeline_version': '6d3131f0-797c-4087-90fb-37056a65726f', 'elapsed': [2151200, 3725890], 'dropped': [], 'partition': 'engine-6c7cb497bc-z6kdd'}   \n",
       "498  {'last_model': '{\"model_name\":\"house-price-estimator\",\"model_sha\":\"e22a0831aafd9917f3cc87a15ed267797f80e2afa12ad7d8810ca58f173b8cc6\"}', 'pipeline_version': '6d3131f0-797c-4087-90fb-37056a65726f', 'elapsed': [2151200, 3725890], 'dropped': [], 'partition': 'engine-6c7cb497bc-z6kdd'}   \n",
       "499  {'last_model': '{\"model_name\":\"house-price-estimator\",\"model_sha\":\"e22a0831aafd9917f3cc87a15ed267797f80e2afa12ad7d8810ca58f173b8cc6\"}', 'pipeline_version': '6d3131f0-797c-4087-90fb-37056a65726f', 'elapsed': [2151200, 3725890], 'dropped': [], 'partition': 'engine-6c7cb497bc-z6kdd'}   \n",
       "\n",
       "     input_tensor_0  input_tensor_1  input_tensor_2  input_tensor_3  \\\n",
       "0               2.0            1.00           990.0          8140.0   \n",
       "1               3.0            2.00          1640.0          9234.0   \n",
       "2               5.0            2.00          2050.0         10200.0   \n",
       "3               4.0            1.50          3520.0          4933.0   \n",
       "4               3.0            2.50          1740.0         30886.0   \n",
       "..              ...             ...             ...             ...   \n",
       "495             4.0            3.50          3660.0          4903.0   \n",
       "496             2.0            2.00          1350.0          2560.0   \n",
       "497             5.0            2.75          3460.0          7977.0   \n",
       "498             4.0            1.00          1510.0          7200.0   \n",
       "499             4.0            2.50          2800.0        246114.0   \n",
       "\n",
       "     input_tensor_4  input_tensor_5  input_tensor_6  input_tensor_7  ...  \\\n",
       "0               1.0             0.0             0.0             1.0  ...   \n",
       "1               1.0             0.0             0.0             5.0  ...   \n",
       "2               1.0             0.0             0.0             3.0  ...   \n",
       "3               1.5             0.0             0.0             4.0  ...   \n",
       "4               2.0             0.0             0.0             3.0  ...   \n",
       "..              ...             ...             ...             ...  ...   \n",
       "495             2.0             0.0             0.0             3.0  ...   \n",
       "496             1.0             0.0             0.0             4.0  ...   \n",
       "497             2.0             0.0             0.0             3.0  ...   \n",
       "498             1.5             0.0             0.0             4.0  ...   \n",
       "499             2.0             0.0             0.0             3.0  ...   \n",
       "\n",
       "     input_tensor_9  input_tensor_10  input_tensor_11  input_tensor_12  \\\n",
       "0             990.0              0.0        47.582802      -122.382004   \n",
       "1            1060.0            580.0        47.516201      -122.274002   \n",
       "2            1430.0            620.0        47.413601      -122.333000   \n",
       "3            2270.0           1250.0        47.565498      -122.315002   \n",
       "4            1740.0              0.0        47.459999      -121.707001   \n",
       "..              ...              ...              ...              ...   \n",
       "495          2760.0            900.0        47.718399      -122.155998   \n",
       "496          1350.0              0.0        47.633801      -122.106003   \n",
       "497          3460.0              0.0        47.590801      -122.061996   \n",
       "498          1510.0              0.0        47.761002      -122.306999   \n",
       "499          2800.0              0.0        47.658600      -121.961998   \n",
       "\n",
       "     input_tensor_13  input_tensor_14  input_tensor_15  input_tensor_16  \\\n",
       "0             2150.0           5000.0            105.0              0.0   \n",
       "1             2230.0          10354.0             47.0              0.0   \n",
       "2             1940.0           8625.0             58.0              0.0   \n",
       "3             1710.0           5400.0             86.0              0.0   \n",
       "4             1740.0          39133.0             22.0              0.0   \n",
       "..               ...              ...              ...              ...   \n",
       "495           3630.0           4992.0              0.0              0.0   \n",
       "496           1800.0           2560.0             41.0              0.0   \n",
       "497           3390.0           6630.0              3.0              0.0   \n",
       "498           1950.0          10656.0             60.0              0.0   \n",
       "499           2750.0          60351.0             15.0              0.0   \n",
       "\n",
       "     input_tensor_17  output_variable_0  \n",
       "0                0.0       450867.68750  \n",
       "1                0.0       332134.96875  \n",
       "2                0.0       355371.09375  \n",
       "3                0.0       784103.56250  \n",
       "4                0.0       306037.62500  \n",
       "..               ...                ...  \n",
       "495              0.0       873848.43750  \n",
       "496              0.0       450867.68750  \n",
       "497              0.0       879092.87500  \n",
       "498              0.0       421306.59375  \n",
       "499              0.0       765468.87500  \n",
       "\n",
       "[500 rows x 21 columns]"
      ]
     },
     "metadata": {},
     "output_type": "display_data"
    }
   ],
   "source": [
    "display(assay_baseline_from_dates.baseline_dataframe())"
   ]
  },
  {
   "cell_type": "markdown",
   "metadata": {},
   "source": [
    "This baseline DataFrame is from an assay baseline generated from an array of numpy values."
   ]
  },
  {
   "cell_type": "code",
   "execution_count": 20,
   "metadata": {},
   "outputs": [
    {
     "data": {
      "text/html": [
       "<div>\n",
       "<style scoped>\n",
       "    .dataframe tbody tr th:only-of-type {\n",
       "        vertical-align: middle;\n",
       "    }\n",
       "\n",
       "    .dataframe tbody tr th {\n",
       "        vertical-align: top;\n",
       "    }\n",
       "\n",
       "    .dataframe thead th {\n",
       "        text-align: right;\n",
       "    }\n",
       "</style>\n",
       "<table border=\"1\" class=\"dataframe\">\n",
       "  <thead>\n",
       "    <tr style=\"text-align: right;\">\n",
       "      <th></th>\n",
       "      <th>output_variable_0</th>\n",
       "    </tr>\n",
       "  </thead>\n",
       "  <tbody>\n",
       "    <tr>\n",
       "      <th>0</th>\n",
       "      <td>450867.70</td>\n",
       "    </tr>\n",
       "    <tr>\n",
       "      <th>1</th>\n",
       "      <td>332134.97</td>\n",
       "    </tr>\n",
       "    <tr>\n",
       "      <th>2</th>\n",
       "      <td>355371.10</td>\n",
       "    </tr>\n",
       "    <tr>\n",
       "      <th>3</th>\n",
       "      <td>784103.56</td>\n",
       "    </tr>\n",
       "    <tr>\n",
       "      <th>4</th>\n",
       "      <td>306037.63</td>\n",
       "    </tr>\n",
       "    <tr>\n",
       "      <th>...</th>\n",
       "      <td>...</td>\n",
       "    </tr>\n",
       "    <tr>\n",
       "      <th>495</th>\n",
       "      <td>873848.44</td>\n",
       "    </tr>\n",
       "    <tr>\n",
       "      <th>496</th>\n",
       "      <td>450867.70</td>\n",
       "    </tr>\n",
       "    <tr>\n",
       "      <th>497</th>\n",
       "      <td>879092.90</td>\n",
       "    </tr>\n",
       "    <tr>\n",
       "      <th>498</th>\n",
       "      <td>421306.60</td>\n",
       "    </tr>\n",
       "    <tr>\n",
       "      <th>499</th>\n",
       "      <td>765468.90</td>\n",
       "    </tr>\n",
       "  </tbody>\n",
       "</table>\n",
       "<p>500 rows × 1 columns</p>\n",
       "</div>"
      ],
      "text/plain": [
       "     output_variable_0\n",
       "0            450867.70\n",
       "1            332134.97\n",
       "2            355371.10\n",
       "3            784103.56\n",
       "4            306037.63\n",
       "..                 ...\n",
       "495          873848.44\n",
       "496          450867.70\n",
       "497          879092.90\n",
       "498          421306.60\n",
       "499          765468.90\n",
       "\n",
       "[500 rows x 1 columns]"
      ]
     },
     "metadata": {},
     "output_type": "display_data"
    }
   ],
   "source": [
    "display(assay_baseline_from_numpy.baseline_dataframe())"
   ]
  },
  {
   "cell_type": "markdown",
   "metadata": {},
   "source": [
    "#### Baseline Stats\n",
    "\n",
    "The method `wallaroo.assay.AssayAnalysis.baseline_stats()` returns a `pandas.core.frame.DataFrame` of the baseline stats.\n",
    "\n",
    "The baseline stats for each assay are displayed in the examples below."
   ]
  },
  {
   "cell_type": "markdown",
   "metadata": {},
   "source": [
    "This baseline states DataFrame is from an assay baseline generated from a set of inferences across a range of dates."
   ]
  },
  {
   "cell_type": "code",
   "execution_count": 21,
   "metadata": {},
   "outputs": [
    {
     "data": {
      "text/html": [
       "<div>\n",
       "<style scoped>\n",
       "    .dataframe tbody tr th:only-of-type {\n",
       "        vertical-align: middle;\n",
       "    }\n",
       "\n",
       "    .dataframe tbody tr th {\n",
       "        vertical-align: top;\n",
       "    }\n",
       "\n",
       "    .dataframe thead th {\n",
       "        text-align: right;\n",
       "    }\n",
       "</style>\n",
       "<table border=\"1\" class=\"dataframe\">\n",
       "  <thead>\n",
       "    <tr style=\"text-align: right;\">\n",
       "      <th></th>\n",
       "      <th>Baseline</th>\n",
       "    </tr>\n",
       "  </thead>\n",
       "  <tbody>\n",
       "    <tr>\n",
       "      <th>count</th>\n",
       "      <td>500</td>\n",
       "    </tr>\n",
       "    <tr>\n",
       "      <th>min</th>\n",
       "      <td>236238.671875</td>\n",
       "    </tr>\n",
       "    <tr>\n",
       "      <th>max</th>\n",
       "      <td>1489624.25</td>\n",
       "    </tr>\n",
       "    <tr>\n",
       "      <th>mean</th>\n",
       "      <td>530885.181406</td>\n",
       "    </tr>\n",
       "    <tr>\n",
       "      <th>median</th>\n",
       "      <td>448928.890625</td>\n",
       "    </tr>\n",
       "    <tr>\n",
       "      <th>std</th>\n",
       "      <td>238628.657281</td>\n",
       "    </tr>\n",
       "    <tr>\n",
       "      <th>start</th>\n",
       "      <td>2024-08-20T15:47:06.029299+00:00</td>\n",
       "    </tr>\n",
       "    <tr>\n",
       "      <th>end</th>\n",
       "      <td>2024-08-20T15:48:06.151299+00:00</td>\n",
       "    </tr>\n",
       "  </tbody>\n",
       "</table>\n",
       "</div>"
      ],
      "text/plain": [
       "                                Baseline\n",
       "count                                500\n",
       "min                        236238.671875\n",
       "max                           1489624.25\n",
       "mean                       530885.181406\n",
       "median                     448928.890625\n",
       "std                        238628.657281\n",
       "start   2024-08-20T15:47:06.029299+00:00\n",
       "end     2024-08-20T15:48:06.151299+00:00"
      ]
     },
     "execution_count": 21,
     "metadata": {},
     "output_type": "execute_result"
    }
   ],
   "source": [
    "assay_baseline_run_from_dates.baseline_stats()"
   ]
  },
  {
   "cell_type": "markdown",
   "metadata": {},
   "source": [
    "This baseline states DataFrame is from an assay baseline generated from an array of numpy values."
   ]
  },
  {
   "cell_type": "code",
   "execution_count": 22,
   "metadata": {},
   "outputs": [
    {
     "data": {
      "text/html": [
       "<div>\n",
       "<style scoped>\n",
       "    .dataframe tbody tr th:only-of-type {\n",
       "        vertical-align: middle;\n",
       "    }\n",
       "\n",
       "    .dataframe tbody tr th {\n",
       "        vertical-align: top;\n",
       "    }\n",
       "\n",
       "    .dataframe thead th {\n",
       "        text-align: right;\n",
       "    }\n",
       "</style>\n",
       "<table border=\"1\" class=\"dataframe\">\n",
       "  <thead>\n",
       "    <tr style=\"text-align: right;\">\n",
       "      <th></th>\n",
       "      <th>Baseline</th>\n",
       "    </tr>\n",
       "  </thead>\n",
       "  <tbody>\n",
       "    <tr>\n",
       "      <th>count</th>\n",
       "      <td>500</td>\n",
       "    </tr>\n",
       "    <tr>\n",
       "      <th>min</th>\n",
       "      <td>236238.67</td>\n",
       "    </tr>\n",
       "    <tr>\n",
       "      <th>max</th>\n",
       "      <td>1489624.3</td>\n",
       "    </tr>\n",
       "    <tr>\n",
       "      <th>mean</th>\n",
       "      <td>530885.18482</td>\n",
       "    </tr>\n",
       "    <tr>\n",
       "      <th>median</th>\n",
       "      <td>448928.885</td>\n",
       "    </tr>\n",
       "    <tr>\n",
       "      <th>std</th>\n",
       "      <td>238628.661941</td>\n",
       "    </tr>\n",
       "    <tr>\n",
       "      <th>start</th>\n",
       "      <td>None</td>\n",
       "    </tr>\n",
       "    <tr>\n",
       "      <th>end</th>\n",
       "      <td>None</td>\n",
       "    </tr>\n",
       "  </tbody>\n",
       "</table>\n",
       "</div>"
      ],
      "text/plain": [
       "             Baseline\n",
       "count             500\n",
       "min         236238.67\n",
       "max         1489624.3\n",
       "mean     530885.18482\n",
       "median     448928.885\n",
       "std     238628.661941\n",
       "start            None\n",
       "end              None"
      ]
     },
     "execution_count": 22,
     "metadata": {},
     "output_type": "execute_result"
    }
   ],
   "source": [
    "assay_baseline_run_from_numpy.baseline_stats()"
   ]
  },
  {
   "cell_type": "markdown",
   "metadata": {},
   "source": [
    "#### Baseline Bins\n",
    "\n",
    "The method `wallaroo.assay.AssayAnalysis.baseline_bins` a simple dataframe to with the edge/bin data for a baseline."
   ]
  },
  {
   "cell_type": "markdown",
   "metadata": {},
   "source": [
    "These baseline bins DataFrame is from an assay baseline generated from a set of inferences across a range of dates."
   ]
  },
  {
   "cell_type": "code",
   "execution_count": 23,
   "metadata": {},
   "outputs": [
    {
     "data": {
      "text/html": [
       "<div>\n",
       "<style scoped>\n",
       "    .dataframe tbody tr th:only-of-type {\n",
       "        vertical-align: middle;\n",
       "    }\n",
       "\n",
       "    .dataframe tbody tr th {\n",
       "        vertical-align: top;\n",
       "    }\n",
       "\n",
       "    .dataframe thead th {\n",
       "        text-align: right;\n",
       "    }\n",
       "</style>\n",
       "<table border=\"1\" class=\"dataframe\">\n",
       "  <thead>\n",
       "    <tr style=\"text-align: right;\">\n",
       "      <th></th>\n",
       "      <th>b_edges</th>\n",
       "      <th>b_edge_names</th>\n",
       "      <th>b_aggregated_values</th>\n",
       "      <th>b_aggregation</th>\n",
       "    </tr>\n",
       "  </thead>\n",
       "  <tbody>\n",
       "    <tr>\n",
       "      <th>0</th>\n",
       "      <td>2.362387e+05</td>\n",
       "      <td>left_outlier</td>\n",
       "      <td>0.000</td>\n",
       "      <td>Aggregation.DENSITY</td>\n",
       "    </tr>\n",
       "    <tr>\n",
       "      <th>1</th>\n",
       "      <td>3.353989e+05</td>\n",
       "      <td>q_20</td>\n",
       "      <td>0.200</td>\n",
       "      <td>Aggregation.DENSITY</td>\n",
       "    </tr>\n",
       "    <tr>\n",
       "      <th>2</th>\n",
       "      <td>4.356287e+05</td>\n",
       "      <td>q_40</td>\n",
       "      <td>0.222</td>\n",
       "      <td>Aggregation.DENSITY</td>\n",
       "    </tr>\n",
       "    <tr>\n",
       "      <th>3</th>\n",
       "      <td>5.235762e+05</td>\n",
       "      <td>q_60</td>\n",
       "      <td>0.178</td>\n",
       "      <td>Aggregation.DENSITY</td>\n",
       "    </tr>\n",
       "    <tr>\n",
       "      <th>4</th>\n",
       "      <td>7.184457e+05</td>\n",
       "      <td>q_80</td>\n",
       "      <td>0.200</td>\n",
       "      <td>Aggregation.DENSITY</td>\n",
       "    </tr>\n",
       "    <tr>\n",
       "      <th>5</th>\n",
       "      <td>1.489624e+06</td>\n",
       "      <td>q_100</td>\n",
       "      <td>0.200</td>\n",
       "      <td>Aggregation.DENSITY</td>\n",
       "    </tr>\n",
       "    <tr>\n",
       "      <th>6</th>\n",
       "      <td>inf</td>\n",
       "      <td>right_outlier</td>\n",
       "      <td>0.000</td>\n",
       "      <td>Aggregation.DENSITY</td>\n",
       "    </tr>\n",
       "  </tbody>\n",
       "</table>\n",
       "</div>"
      ],
      "text/plain": [
       "        b_edges   b_edge_names  b_aggregated_values        b_aggregation\n",
       "0  2.362387e+05   left_outlier                0.000  Aggregation.DENSITY\n",
       "1  3.353989e+05           q_20                0.200  Aggregation.DENSITY\n",
       "2  4.356287e+05           q_40                0.222  Aggregation.DENSITY\n",
       "3  5.235762e+05           q_60                0.178  Aggregation.DENSITY\n",
       "4  7.184457e+05           q_80                0.200  Aggregation.DENSITY\n",
       "5  1.489624e+06          q_100                0.200  Aggregation.DENSITY\n",
       "6           inf  right_outlier                0.000  Aggregation.DENSITY"
      ]
     },
     "execution_count": 23,
     "metadata": {},
     "output_type": "execute_result"
    }
   ],
   "source": [
    "assay_baseline_run_from_dates.baseline_bins()"
   ]
  },
  {
   "cell_type": "markdown",
   "metadata": {},
   "source": [
    "These baseline bins DataFrame is from an assay baseline generated from an array of numpy values."
   ]
  },
  {
   "cell_type": "code",
   "execution_count": 24,
   "metadata": {},
   "outputs": [
    {
     "data": {
      "text/html": [
       "<div>\n",
       "<style scoped>\n",
       "    .dataframe tbody tr th:only-of-type {\n",
       "        vertical-align: middle;\n",
       "    }\n",
       "\n",
       "    .dataframe tbody tr th {\n",
       "        vertical-align: top;\n",
       "    }\n",
       "\n",
       "    .dataframe thead th {\n",
       "        text-align: right;\n",
       "    }\n",
       "</style>\n",
       "<table border=\"1\" class=\"dataframe\">\n",
       "  <thead>\n",
       "    <tr style=\"text-align: right;\">\n",
       "      <th></th>\n",
       "      <th>b_edges</th>\n",
       "      <th>b_edge_names</th>\n",
       "      <th>b_aggregated_values</th>\n",
       "      <th>b_aggregation</th>\n",
       "    </tr>\n",
       "  </thead>\n",
       "  <tbody>\n",
       "    <tr>\n",
       "      <th>0</th>\n",
       "      <td>236238.67</td>\n",
       "      <td>left_outlier</td>\n",
       "      <td>0.000</td>\n",
       "      <td>Aggregation.DENSITY</td>\n",
       "    </tr>\n",
       "    <tr>\n",
       "      <th>1</th>\n",
       "      <td>335398.94</td>\n",
       "      <td>q_20</td>\n",
       "      <td>0.200</td>\n",
       "      <td>Aggregation.DENSITY</td>\n",
       "    </tr>\n",
       "    <tr>\n",
       "      <th>2</th>\n",
       "      <td>435628.72</td>\n",
       "      <td>q_40</td>\n",
       "      <td>0.222</td>\n",
       "      <td>Aggregation.DENSITY</td>\n",
       "    </tr>\n",
       "    <tr>\n",
       "      <th>3</th>\n",
       "      <td>523576.20</td>\n",
       "      <td>q_60</td>\n",
       "      <td>0.178</td>\n",
       "      <td>Aggregation.DENSITY</td>\n",
       "    </tr>\n",
       "    <tr>\n",
       "      <th>4</th>\n",
       "      <td>718445.70</td>\n",
       "      <td>q_80</td>\n",
       "      <td>0.200</td>\n",
       "      <td>Aggregation.DENSITY</td>\n",
       "    </tr>\n",
       "    <tr>\n",
       "      <th>5</th>\n",
       "      <td>1489624.30</td>\n",
       "      <td>q_100</td>\n",
       "      <td>0.200</td>\n",
       "      <td>Aggregation.DENSITY</td>\n",
       "    </tr>\n",
       "    <tr>\n",
       "      <th>6</th>\n",
       "      <td>inf</td>\n",
       "      <td>right_outlier</td>\n",
       "      <td>0.000</td>\n",
       "      <td>Aggregation.DENSITY</td>\n",
       "    </tr>\n",
       "  </tbody>\n",
       "</table>\n",
       "</div>"
      ],
      "text/plain": [
       "      b_edges   b_edge_names  b_aggregated_values        b_aggregation\n",
       "0   236238.67   left_outlier                0.000  Aggregation.DENSITY\n",
       "1   335398.94           q_20                0.200  Aggregation.DENSITY\n",
       "2   435628.72           q_40                0.222  Aggregation.DENSITY\n",
       "3   523576.20           q_60                0.178  Aggregation.DENSITY\n",
       "4   718445.70           q_80                0.200  Aggregation.DENSITY\n",
       "5  1489624.30          q_100                0.200  Aggregation.DENSITY\n",
       "6         inf  right_outlier                0.000  Aggregation.DENSITY"
      ]
     },
     "execution_count": 24,
     "metadata": {},
     "output_type": "execute_result"
    }
   ],
   "source": [
    "assay_baseline_run_from_numpy.baseline_bins()"
   ]
  },
  {
   "cell_type": "markdown",
   "metadata": {},
   "source": [
    "#### Baseline Histogram Chart\n",
    "\n",
    "The method [`wallaroo.assay_config.AssayBuilder.baseline_histogram`](https://docs.wallaroo.ai/wallaroo-developer-guides/wallaroo-sdk-guides/wallaroo-sdk-reference-guide/assay_config/#AssayBuilder.baseline_dataframe) returns a histogram chart of the assay baseline generated from the provided parameters.\n",
    "\n",
    "These chart is from an assay baseline generated from a set of inferences across a range of dates."
   ]
  },
  {
   "cell_type": "code",
   "execution_count": 25,
   "metadata": {},
   "outputs": [
    {
     "data": {
      "image/png": "[encoded data removed]",
      "text/plain": [
       "<Figure size 432x288 with 1 Axes>"
      ]
     },
     "metadata": {
      "needs_background": "light"
     },
     "output_type": "display_data"
    }
   ],
   "source": [
    "assay_baseline_from_dates.baseline_histogram()"
   ]
  },
  {
   "cell_type": "markdown",
   "metadata": {},
   "source": [
    "#### Baseline KDE Chart\n",
    "\n",
    "The method [`wallaroo.assay_config.AssayBuilder.baseline_kde`](https://docs.wallaroo.ai/wallaroo-developer-guides/wallaroo-sdk-guides/wallaroo-sdk-reference-guide/assay_config/#AssayBuilder.baseline_dataframe) returns a Kernel Density Estimation (KDE) chart of the assay baseline generated from the provided parameters.\n",
    "\n",
    "These chart is from an assay baseline generated from a set of inferences across a range of dates."
   ]
  },
  {
   "cell_type": "code",
   "execution_count": 26,
   "metadata": {},
   "outputs": [
    {
     "data": {
      "image/png": "[encoded data removed]",
      "text/plain": [
       "<Figure size 432x288 with 1 Axes>"
      ]
     },
     "metadata": {
      "needs_background": "light"
     },
     "output_type": "display_data"
    }
   ],
   "source": [
    "assay_baseline_from_dates.baseline_kde()"
   ]
  },
  {
   "cell_type": "markdown",
   "metadata": {},
   "source": [
    "#### Baseline ECDF Chart\n",
    "\n",
    "The method [`wallaroo.assay_config.AssayBuilder.baseline_ecdf`](https://docs.wallaroo.ai/wallaroo-developer-guides/wallaroo-sdk-guides/wallaroo-sdk-reference-guide/assay_config/#AssayBuilder.baseline_dataframe) returns a Empirical Cumulative Distribution Function (CDF) chart of the assay baseline generated from the provided parameters.\n",
    "\n",
    "These chart is from an assay baseline generated from a set of inferences across a range of dates."
   ]
  },
  {
   "cell_type": "code",
   "execution_count": 27,
   "metadata": {},
   "outputs": [
    {
     "data": {
      "image/png": "[encoded data removed]",
      "text/plain": [
       "<Figure size 432x288 with 1 Axes>"
      ]
     },
     "metadata": {
      "needs_background": "light"
     },
     "output_type": "display_data"
    }
   ],
   "source": [
    "assay_baseline_from_dates.baseline_ecdf()"
   ]
  },
  {
   "cell_type": "markdown",
   "metadata": {},
   "source": [
    "### Assay Preview\n",
    "\n",
    "Now that the baseline is defined, we look at different configuration options and view how the assay baseline and results changes.  Once we determine what gives us the best method of determining model drift, we can create the assay."
   ]
  },
  {
   "cell_type": "markdown",
   "metadata": {},
   "source": [
    "#### Analysis List Chart Scores\n",
    "\n",
    "Analysis List scores show the assay scores for each assay result interval in one chart.  Values that are outside of the alert threshold are colored red, while scores within the alert threshold are green.\n",
    "\n",
    "Assay chart scores are displayed with the method [`wallaroo.assay.AssayAnalysisList.chart_scores(title: Optional[str] = None)`](https://docs.wallaroo.ai/wallaroo-developer-guides/wallaroo-sdk-guides/wallaroo-sdk-reference-guide/assay/#AssayAnalysisList.chart_scores), with ability to display an optional title with the chart.\n",
    "\n",
    "The following example shows retrieving the assay results and displaying the chart scores.  From our example, we have two windows - the first should be green, and the second is red showing that values were outside the alert threshold."
   ]
  },
  {
   "cell_type": "code",
   "execution_count": 28,
   "metadata": {},
   "outputs": [
    {
     "data": {
      "image/png": "[encoded data removed]",
      "text/plain": [
       "<Figure size 432x288 with 1 Axes>"
      ]
     },
     "metadata": {
      "needs_background": "light"
     },
     "output_type": "display_data"
    }
   ],
   "source": [
    "# Create the assay baseline\n",
    "assay_baseline = wl.build_assay(assay_name=\"assays from date baseline\", \n",
    "                                          pipeline=mainpipeline, \n",
    "                                          iopath=\"output variable 0\",\n",
    "                                          baseline_start=assay_baseline_start, \n",
    "                                          baseline_end=assay_baseline_end)\n",
    "\n",
    "\n",
    "# Set the assay parameters\n",
    "\n",
    "# The end date to gather inference results\n",
    "assay_baseline.add_run_until(datetime.datetime.now())\n",
    "\n",
    "# Set the interval and window to one minute each, set the start date for gathering inference results\n",
    "assay_baseline.window_builder().add_width(minutes=1).add_interval(minutes=1).add_start(assay_window_start)\n",
    "\n",
    "# build the assay configuration\n",
    "assay_config = assay_baseline.build()\n",
    "\n",
    "# perform an interactive run and collect inference data\n",
    "assay_results = assay_config.interactive_run()\n",
    "\n",
    "# Preview the assay analyses\n",
    "assay_results.chart_scores()"
   ]
  },
  {
   "cell_type": "markdown",
   "metadata": {},
   "source": [
    "#### Analysis Chart\n",
    "\n",
    "The method `wallaroo.assay.AssayAnalysis.chart()` displays a comparison between the baseline and an interval of inference data.\n",
    "\n",
    "This is compared to the [Chart Scores](#analysis-list-chart-scores), which is a **list** of all of the inference data split into intervals, while the **Analysis Chart** shows the breakdown of one set of inference data against the baseline.\n",
    "\n",
    "Score from the [Analysis List Chart Scores](#analysis-list-chart-scores) and each element from the [Analysis List DataFrame](#analysis-list-dataframe) generates \n",
    "\n",
    "The following fields are included.\n",
    "\n",
    "| Field | Type | Description |\n",
    "|---|---|---|\n",
    "| **baseline mean** | **Float** | The mean of the baseline values. |\n",
    "| **window mean** | **Float** | The mean of the window values. |\n",
    "| **baseline median** | **Float** | The median of the baseline values. |\n",
    "| **window median** | **Float** | The median of the window values. |\n",
    "| **bin_mode** | **String** | The binning mode used for the assay. |\n",
    "| **aggregation** | **String** | The aggregation mode used for the assay. |\n",
    "| **metric** | **String** | The metric mode used for the assay. |\n",
    "| **weighted** | **Bool** | Whether the bins were manually weighted. |\n",
    "| **score** | **Float** | The score from the assay window. |\n",
    "| **scores** | **List(Float)** | The score from each assay window bin. |\n",
    "| **index** | **Integer/None** | The window index.  Interactive assay runs are `None`. |"
   ]
  },
  {
   "cell_type": "code",
   "execution_count": 29,
   "metadata": {},
   "outputs": [
    {
     "data": {
      "image/png": "[encoded data removed]",
      "text/plain": [
       "<Figure size 432x288 with 1 Axes>"
      ]
     },
     "metadata": {
      "needs_background": "light"
     },
     "output_type": "display_data"
    }
   ],
   "source": [
    "# Create the assay baseline\n",
    "assay_baseline = wl.build_assay(assay_name=\"assays from date baseline\", \n",
    "                                          pipeline=mainpipeline, \n",
    "                                          iopath=\"output variable 0\",\n",
    "                                          baseline_start=assay_baseline_start, \n",
    "                                          baseline_end=assay_baseline_end)\n",
    "\n",
    "\n",
    "# Set the assay parameters\n",
    "\n",
    "# The end date to gather inference results\n",
    "assay_baseline.add_run_until(datetime.datetime.now())\n",
    "\n",
    "# Set the interval and window to one minute each, set the start date for gathering inference results\n",
    "assay_baseline.window_builder().add_width(minutes=1).add_interval(minutes=1).add_start(assay_window_start)\n",
    "\n",
    "# build the assay configuration\n",
    "assay_config = assay_baseline.build()\n",
    "\n",
    "# perform an interactive run and collect inference data\n",
    "assay_results = assay_config.interactive_run()\n",
    "\n",
    "# display one of the analysis from the total results\n",
    "assay_results[0].chart()"
   ]
  },
  {
   "cell_type": "markdown",
   "metadata": {},
   "source": [
    "#### Analysis List DataFrame\n",
    "\n",
    "`wallaroo.assay.AssayAnalysisList.to_dataframe()` returns a DataFrame showing the assay results for each window aka individual analysis.  This DataFrame contains the following fields:\n",
    "\n",
    "| Field | Type | Description |\n",
    "|---|---|---|\n",
    "| **assay_id** | Assays V1: *Integer*, Assays V2: *String* | For Assays V1: The numerical id of the assay.  For Assays V2: The UUID string identifier of the assay.  Only returned from assays uploaded to Wallaroo; interactive assays return `None`. |\n",
    "| **name** | *String/None* | The name of the assay.  Only provided from uploaded and executed assays. |\n",
    "| **iopath** | *String/None* | The iopath of the assay.  Only provided from uploaded and executed assays. |\n",
    "| **score** | *Float* | The assay score. |\n",
    "| **start** | *DateTime* | The DateTime start of the assay window.\n",
    "| **min** | *Float* | The minimum value in the assay window.\n",
    "| **max**  | *Float* | The maximum value in the assay window.\n",
    "| **mean** | *Float* | The mean value in the assay window.\n",
    "| **median** | *Float* | The median value in the assay window.\n",
    "| **std** | *Float* | The standard deviation value in the assay window.\n",
    "| **warning_threshold** | *Float/None* | The warning threshold of the assay window.\n",
    "| **alert_threshold** | *Float/None* | The alert threshold of the assay window.\n",
    "| **status** | *String* | The assay window status.  Values are:  <ul><li>`OK`: The score is within accepted thresholds.</li><li>`Warning`: The score has triggered the `warning_threshold` if exists, but not the `alert_threshold`.</li><li>`Alert`: The score has triggered the the `alert_threshold`.</li></ul> |\n",
    "\n",
    "For this example, the assay analysis list DataFrame is listed.  \n",
    "\n",
    "From this tutorial, we should have 2 windows of dta to look at, each one minute apart.  The first window should show `status: OK`, with the second window with the very large house prices will show `status: alert`"
   ]
  },
  {
   "cell_type": "code",
   "execution_count": 30,
   "metadata": {},
   "outputs": [
    {
     "data": {
      "text/html": [
       "<div>\n",
       "<style scoped>\n",
       "    .dataframe tbody tr th:only-of-type {\n",
       "        vertical-align: middle;\n",
       "    }\n",
       "\n",
       "    .dataframe tbody tr th {\n",
       "        vertical-align: top;\n",
       "    }\n",
       "\n",
       "    .dataframe thead th {\n",
       "        text-align: right;\n",
       "    }\n",
       "</style>\n",
       "<table border=\"1\" class=\"dataframe\">\n",
       "  <thead>\n",
       "    <tr style=\"text-align: right;\">\n",
       "      <th></th>\n",
       "      <th>assay_id</th>\n",
       "      <th>assay_name</th>\n",
       "      <th>pipeline_name</th>\n",
       "      <th>window_end</th>\n",
       "      <th>out.variable.0</th>\n",
       "      <th>out.variable.0.summary</th>\n",
       "      <th>warning_threshold</th>\n",
       "      <th>alert_threshold</th>\n",
       "      <th>aggregated_values</th>\n",
       "      <th>end</th>\n",
       "      <th>start</th>\n",
       "      <th>statistics.count</th>\n",
       "      <th>statistics.max</th>\n",
       "      <th>statistics.mean</th>\n",
       "      <th>statistics.median</th>\n",
       "      <th>statistics.min</th>\n",
       "      <th>statistics.std</th>\n",
       "      <th>iopath</th>\n",
       "      <th>workspace_id</th>\n",
       "      <th>status</th>\n",
       "    </tr>\n",
       "  </thead>\n",
       "  <tbody>\n",
       "    <tr>\n",
       "      <th>0</th>\n",
       "      <td>Preview</td>\n",
       "      <td>assay-demonstration-tutorial assay</td>\n",
       "      <td>assay-demonstration-tutorial</td>\n",
       "      <td>2024-08-20 15:48:06.178458+00:00</td>\n",
       "      <td>0.008710</td>\n",
       "      <td>{'aggregated_values': [0.0, 0.198, 0.198, 0.202, 0.196, 0.204, 0.002], 'statistics': {'count': 500, 'max': 1489624.25, 'mean': 530885.18140625, 'median': 448928.875, 'min': 236238.671875, 'std': 238628.65625}, 'end': '2024-08-20T15:48:06.178458+00:00', 'start': '2024-08-20T15:47:06.178458+00:00'}</td>\n",
       "      <td>None</td>\n",
       "      <td>0.25</td>\n",
       "      <td>[0.0, 0.198, 0.198, 0.202, 0.196, 0.204, 0.002]</td>\n",
       "      <td>2024-08-20T15:48:06.178458+00:00</td>\n",
       "      <td>2024-08-20T15:47:06.178458+00:00</td>\n",
       "      <td>500</td>\n",
       "      <td>1489624.250</td>\n",
       "      <td>5.308852e+05</td>\n",
       "      <td>4.489289e+05</td>\n",
       "      <td>2.362387e+05</td>\n",
       "      <td>238628.656250</td>\n",
       "      <td>out.variable.0</td>\n",
       "      <td>8</td>\n",
       "      <td>Ok</td>\n",
       "    </tr>\n",
       "    <tr>\n",
       "      <th>1</th>\n",
       "      <td>Preview</td>\n",
       "      <td>assay-demonstration-tutorial assay</td>\n",
       "      <td>assay-demonstration-tutorial</td>\n",
       "      <td>2024-08-20 15:50:06.178458+00:00</td>\n",
       "      <td>0.042383</td>\n",
       "      <td>{'aggregated_values': [0.0, 0.237, 0.162, 0.211, 0.216, 0.173, 0.001], 'statistics': {'count': 1000, 'max': 1489624.25, 'mean': 511214.17046875, 'median': 448627.8125, 'min': 236238.671875, 'std': 223742.921875}, 'end': '2024-08-20T15:50:06.178458+00:00', 'start': '2024-08-20T15:49:06.178458+00:00'}</td>\n",
       "      <td>None</td>\n",
       "      <td>0.25</td>\n",
       "      <td>[0.0, 0.237, 0.162, 0.211, 0.216, 0.173, 0.001]</td>\n",
       "      <td>2024-08-20T15:50:06.178458+00:00</td>\n",
       "      <td>2024-08-20T15:49:06.178458+00:00</td>\n",
       "      <td>1000</td>\n",
       "      <td>1489624.250</td>\n",
       "      <td>5.112142e+05</td>\n",
       "      <td>4.486278e+05</td>\n",
       "      <td>2.362387e+05</td>\n",
       "      <td>223742.921875</td>\n",
       "      <td>out.variable.0</td>\n",
       "      <td>8</td>\n",
       "      <td>Ok</td>\n",
       "    </tr>\n",
       "    <tr>\n",
       "      <th>2</th>\n",
       "      <td>Preview</td>\n",
       "      <td>assay-demonstration-tutorial assay</td>\n",
       "      <td>assay-demonstration-tutorial</td>\n",
       "      <td>2024-08-20 15:52:06.178458+00:00</td>\n",
       "      <td>8.870969</td>\n",
       "      <td>{'aggregated_values': [0.0, 0.0, 0.0, 0.0, 0.0, 0.0, 1.0], 'statistics': {'count': 1000, 'max': 2016006.125, 'mean': 1877492.697, 'median': 1946437.75, 'min': 1514079.375, 'std': 165515.890625}, 'end': '2024-08-20T15:52:06.178458+00:00', 'start': '2024-08-20T15:51:06.178458+00:00'}</td>\n",
       "      <td>None</td>\n",
       "      <td>0.25</td>\n",
       "      <td>[0.0, 0.0, 0.0, 0.0, 0.0, 0.0, 1.0]</td>\n",
       "      <td>2024-08-20T15:52:06.178458+00:00</td>\n",
       "      <td>2024-08-20T15:51:06.178458+00:00</td>\n",
       "      <td>1000</td>\n",
       "      <td>2016006.125</td>\n",
       "      <td>1.877493e+06</td>\n",
       "      <td>1.946438e+06</td>\n",
       "      <td>1.514079e+06</td>\n",
       "      <td>165515.890625</td>\n",
       "      <td>out.variable.0</td>\n",
       "      <td>8</td>\n",
       "      <td>Alert</td>\n",
       "    </tr>\n",
       "  </tbody>\n",
       "</table>\n",
       "</div>"
      ],
      "text/plain": [
       "  assay_id                          assay_name                 pipeline_name  \\\n",
       "0  Preview  assay-demonstration-tutorial assay  assay-demonstration-tutorial   \n",
       "1  Preview  assay-demonstration-tutorial assay  assay-demonstration-tutorial   \n",
       "2  Preview  assay-demonstration-tutorial assay  assay-demonstration-tutorial   \n",
       "\n",
       "                        window_end  out.variable.0  \\\n",
       "0 2024-08-20 15:48:06.178458+00:00        0.008710   \n",
       "1 2024-08-20 15:50:06.178458+00:00        0.042383   \n",
       "2 2024-08-20 15:52:06.178458+00:00        8.870969   \n",
       "\n",
       "                                                                                                                                                                                                                                                                                         out.variable.0.summary  \\\n",
       "0     {'aggregated_values': [0.0, 0.198, 0.198, 0.202, 0.196, 0.204, 0.002], 'statistics': {'count': 500, 'max': 1489624.25, 'mean': 530885.18140625, 'median': 448928.875, 'min': 236238.671875, 'std': 238628.65625}, 'end': '2024-08-20T15:48:06.178458+00:00', 'start': '2024-08-20T15:47:06.178458+00:00'}   \n",
       "1  {'aggregated_values': [0.0, 0.237, 0.162, 0.211, 0.216, 0.173, 0.001], 'statistics': {'count': 1000, 'max': 1489624.25, 'mean': 511214.17046875, 'median': 448627.8125, 'min': 236238.671875, 'std': 223742.921875}, 'end': '2024-08-20T15:50:06.178458+00:00', 'start': '2024-08-20T15:49:06.178458+00:00'}   \n",
       "2                    {'aggregated_values': [0.0, 0.0, 0.0, 0.0, 0.0, 0.0, 1.0], 'statistics': {'count': 1000, 'max': 2016006.125, 'mean': 1877492.697, 'median': 1946437.75, 'min': 1514079.375, 'std': 165515.890625}, 'end': '2024-08-20T15:52:06.178458+00:00', 'start': '2024-08-20T15:51:06.178458+00:00'}   \n",
       "\n",
       "  warning_threshold  alert_threshold  \\\n",
       "0              None             0.25   \n",
       "1              None             0.25   \n",
       "2              None             0.25   \n",
       "\n",
       "                                 aggregated_values  \\\n",
       "0  [0.0, 0.198, 0.198, 0.202, 0.196, 0.204, 0.002]   \n",
       "1  [0.0, 0.237, 0.162, 0.211, 0.216, 0.173, 0.001]   \n",
       "2              [0.0, 0.0, 0.0, 0.0, 0.0, 0.0, 1.0]   \n",
       "\n",
       "                                end                             start  \\\n",
       "0  2024-08-20T15:48:06.178458+00:00  2024-08-20T15:47:06.178458+00:00   \n",
       "1  2024-08-20T15:50:06.178458+00:00  2024-08-20T15:49:06.178458+00:00   \n",
       "2  2024-08-20T15:52:06.178458+00:00  2024-08-20T15:51:06.178458+00:00   \n",
       "\n",
       "   statistics.count  statistics.max  statistics.mean  statistics.median  \\\n",
       "0               500     1489624.250     5.308852e+05       4.489289e+05   \n",
       "1              1000     1489624.250     5.112142e+05       4.486278e+05   \n",
       "2              1000     2016006.125     1.877493e+06       1.946438e+06   \n",
       "\n",
       "   statistics.min  statistics.std          iopath  workspace_id status  \n",
       "0    2.362387e+05   238628.656250  out.variable.0             8     Ok  \n",
       "1    2.362387e+05   223742.921875  out.variable.0             8     Ok  \n",
       "2    1.514079e+06   165515.890625  out.variable.0             8  Alert  "
      ]
     },
     "execution_count": 30,
     "metadata": {},
     "output_type": "execute_result"
    }
   ],
   "source": [
    "# Create the assay baseline\n",
    "assay_baseline = wl.build_assay(assay_name=\"assays from date baseline\", \n",
    "                                          pipeline=mainpipeline, \n",
    "                                          iopath=\"output variable 0\",\n",
    "                                          baseline_start=assay_baseline_start, \n",
    "                                          baseline_end=assay_baseline_end)\n",
    "\n",
    "\n",
    "# Set the assay parameters\n",
    "\n",
    "# The end date to gather inference results\n",
    "assay_baseline.add_run_until(datetime.datetime.now())\n",
    "\n",
    "# Set the interval and window to one minute each, set the start date for gathering inference results\n",
    "assay_baseline.window_builder().add_width(minutes=1).add_interval(minutes=1).add_start(assay_window_start)\n",
    "\n",
    "# build the assay configuration\n",
    "assay_config = assay_baseline.build()\n",
    "\n",
    "# perform an interactive run and collect inference data\n",
    "assay_results = assay_config.interactive_run()\n",
    "\n",
    "# display the dataframe from the analyses\n",
    "assay_results.to_dataframe()"
   ]
  },
  {
   "cell_type": "markdown",
   "metadata": {},
   "source": [
    "#### Analysis List Full DataFrame\n",
    "\n",
    "`wallaroo.assay.AssayAnalysisList.to_full_dataframe()` returns a DataFrame showing all values, including the inputs and outputs from the assay results for each window aka individual analysis.  This DataFrame contains the following fields:\n",
    "\n",
    "\n",
    "\tpipeline_id\twarning_threshold\tbin_index\tcreated_at\n",
    "\n",
    "\n",
    "| Field | Type | Description |\n",
    "|---|---|---|\n",
    "| **window_start** | *DateTime* | The date and time when the window period began. |\n",
    "| **analyzed_at** | *DateTime* | The date and time when the assay analysis was performed. |\n",
    "| **elapsed_millis** | *Integer* | How long the analysis took to perform in milliseconds. |\n",
    "| **baseline_summary_count** | *Integer* | The number of data elements from the baseline. |\n",
    "| **baseline_summary_min** | *Float* | The minimum value from the baseline summary. |\n",
    "| **baseline_summary_max** | *Float* | The maximum value from the baseline summary. |\n",
    "| **baseline_summary_mean** | *Float* | The mean value of the baseline summary. |\n",
    "| **baseline_summary_median** | *Float* | The median value of the baseline summary. |\n",
    "| **baseline_summary_std** | *Float* | The standard deviation value of the baseline summary. |\n",
    "| **baseline_summary_edges_{0...n}** | *Float* | The baseline summary edges for each baseline edge from 0 to number of edges. |\n",
    "| **summarizer_type** | *String* | The type of summarizer used for the baseline.  See [`wallaroo.assay_config` for other summarizer types](https://docs.wallaroo.ai/wallaroo-developer-guides/wallaroo-sdk-guides/wallaroo-sdk-reference-guide/assay_config/). |\n",
    "| **summarizer_bin_weights** | *List / None* | If baseline bin weights were provided, the list of those weights.  Otherwise, `None`. |\n",
    "| **summarizer_provided_edges** | *List / None* | If baseline bin edges were provided, the list of those edges.  Otherwise, `None`. |\n",
    "| **status** | *String* | The assay window status.  Values are:  <ul><li>`OK`: The score is within accepted thresholds.</li><li>`Warning`: The score has triggered the `warning_threshold` if exists, but not the `alert_threshold`.</li><li>`Alert`: The score has triggered the the `alert_threshold`.</li></ul> |\n",
    "| **id** | *Integer/None* | The id for the window aka analysis.  Only provided from uploaded and executed assays. |\n",
    "| **assay_id** | Assays V1: *Integer*, Assays V2: *String* | For Assays V1: The numerical id of the assay.  For Assays V2: The UUID string identifier of the assay.  Only returned from assays uploaded to Wallaroo; interactive assays return `None`. |\n",
    "| **pipeline_id** | *Integer/None* | The pipeline id.  Only provided from uploaded and executed assays. |\n",
    "| **warning_threshold** | *Float* | The warning threshold set for the assay. |\n",
    "| **warning_threshold** | *Float* | The warning threshold set for the assay.\n",
    "| **bin_index** | *Integer/None* | The bin index for the window aka analysis.|\n",
    "| **created_at** | *Datetime/None* | The date and time the window aka analysis was generated.  Only provided from uploaded and executed assays. |\n",
    "\n",
    "For this example, full DataFrame from an assay preview is generated.\n",
    "\n",
    "From this tutorial, we should have 2 windows of data to look at, each one minute apart.  The first window should show `status: OK`, with the second window with the very large house prices will show `status: alert`."
   ]
  },
  {
   "cell_type": "code",
   "execution_count": null,
   "metadata": {},
   "outputs": [],
   "source": [
    "# Create the assay baseline\n",
    "assay_baseline = wl.build_assay(assay_name=\"assays from date baseline\", \n",
    "                                          pipeline=mainpipeline, \n",
    "                                          iopath=\"output variable 0\",\n",
    "                                          baseline_start=assay_baseline_start, \n",
    "                                          baseline_end=assay_baseline_end)\n",
    "\n",
    "\n",
    "# Set the assay parameters\n",
    "\n",
    "# The end date to gather inference results\n",
    "assay_baseline.add_run_until(datetime.datetime.now())\n",
    "\n",
    "# Set the interval and window to one minute each, set the start date for gathering inference results\n",
    "assay_baseline.window_builder().add_width(minutes=1).add_interval(minutes=1).add_start(assay_window_start)\n",
    "\n",
    "# build the assay configuration\n",
    "assay_config = assay_baseline.build()\n",
    "\n",
    "# perform an interactive run and collect inference data\n",
    "assay_results = assay_config.interactive_run()\n",
    "\n",
    "# display the full dataframe from the analyses\n",
    "assay_results.to_full_dataframe()"
   ]
  },
  {
   "cell_type": "markdown",
   "metadata": {},
   "source": [
    "#### Analysis Compare Basic Stats\n",
    "\n",
    "The method `wallaroo.assay.AssayAnalysis.compare_basic_stats` returns a DataFrame comparing one set of inference data against the baseline.\n",
    "\n",
    "This is compared to the [Analysis List DataFrame](#analysis-list-dataframe), which is a **list** of all of the inference data split into intervals, while the **Analysis Compare Basic Stats** shows the breakdown of one set of inference data against the baseline."
   ]
  },
  {
   "cell_type": "code",
   "execution_count": 31,
   "metadata": {},
   "outputs": [
    {
     "data": {
      "text/html": [
       "<div>\n",
       "<style scoped>\n",
       "    .dataframe tbody tr th:only-of-type {\n",
       "        vertical-align: middle;\n",
       "    }\n",
       "\n",
       "    .dataframe tbody tr th {\n",
       "        vertical-align: top;\n",
       "    }\n",
       "\n",
       "    .dataframe thead th {\n",
       "        text-align: right;\n",
       "    }\n",
       "</style>\n",
       "<table border=\"1\" class=\"dataframe\">\n",
       "  <thead>\n",
       "    <tr style=\"text-align: right;\">\n",
       "      <th></th>\n",
       "      <th>Baseline</th>\n",
       "      <th>Window</th>\n",
       "      <th>diff</th>\n",
       "      <th>pct_diff</th>\n",
       "    </tr>\n",
       "  </thead>\n",
       "  <tbody>\n",
       "    <tr>\n",
       "      <th>count</th>\n",
       "      <td>500.0</td>\n",
       "      <td>500.0</td>\n",
       "      <td>0.0</td>\n",
       "      <td>0.0</td>\n",
       "    </tr>\n",
       "    <tr>\n",
       "      <th>max</th>\n",
       "      <td>1489624.25</td>\n",
       "      <td>1489624.25</td>\n",
       "      <td>0.0</td>\n",
       "      <td>0.0</td>\n",
       "    </tr>\n",
       "    <tr>\n",
       "      <th>mean</th>\n",
       "      <td>530885.181406</td>\n",
       "      <td>530885.181406</td>\n",
       "      <td>0.0</td>\n",
       "      <td>0.0</td>\n",
       "    </tr>\n",
       "    <tr>\n",
       "      <th>median</th>\n",
       "      <td>448928.890625</td>\n",
       "      <td>448928.875</td>\n",
       "      <td>-0.015625</td>\n",
       "      <td>-0.000003</td>\n",
       "    </tr>\n",
       "    <tr>\n",
       "      <th>min</th>\n",
       "      <td>236238.671875</td>\n",
       "      <td>236238.671875</td>\n",
       "      <td>0.0</td>\n",
       "      <td>0.0</td>\n",
       "    </tr>\n",
       "    <tr>\n",
       "      <th>std</th>\n",
       "      <td>238628.657281</td>\n",
       "      <td>238628.65625</td>\n",
       "      <td>-0.001031</td>\n",
       "      <td>-0.0</td>\n",
       "    </tr>\n",
       "    <tr>\n",
       "      <th>start</th>\n",
       "      <td>2024-08-20T15:47:06.029299+00:00</td>\n",
       "      <td>2024-08-20T15:47:06.178458+00:00</td>\n",
       "      <td>NaN</td>\n",
       "      <td>NaN</td>\n",
       "    </tr>\n",
       "    <tr>\n",
       "      <th>end</th>\n",
       "      <td>2024-08-20T15:48:06.151299+00:00</td>\n",
       "      <td>2024-08-20T15:48:06.178458+00:00</td>\n",
       "      <td>NaN</td>\n",
       "      <td>NaN</td>\n",
       "    </tr>\n",
       "  </tbody>\n",
       "</table>\n",
       "</div>"
      ],
      "text/plain": [
       "                                Baseline                            Window  \\\n",
       "count                              500.0                             500.0   \n",
       "max                           1489624.25                        1489624.25   \n",
       "mean                       530885.181406                     530885.181406   \n",
       "median                     448928.890625                        448928.875   \n",
       "min                        236238.671875                     236238.671875   \n",
       "std                        238628.657281                      238628.65625   \n",
       "start   2024-08-20T15:47:06.029299+00:00  2024-08-20T15:47:06.178458+00:00   \n",
       "end     2024-08-20T15:48:06.151299+00:00  2024-08-20T15:48:06.178458+00:00   \n",
       "\n",
       "            diff  pct_diff  \n",
       "count        0.0       0.0  \n",
       "max          0.0       0.0  \n",
       "mean         0.0       0.0  \n",
       "median -0.015625 -0.000003  \n",
       "min          0.0       0.0  \n",
       "std    -0.001031      -0.0  \n",
       "start        NaN       NaN  \n",
       "end          NaN       NaN  "
      ]
     },
     "execution_count": 31,
     "metadata": {},
     "output_type": "execute_result"
    }
   ],
   "source": [
    "# Create the assay baseline\n",
    "assay_baseline = wl.build_assay(assay_name=\"assays from date baseline\", \n",
    "                                          pipeline=mainpipeline, \n",
    "                                          iopath=\"output variable 0\",\n",
    "                                          baseline_start=assay_baseline_start, \n",
    "                                          baseline_end=assay_baseline_end)\n",
    "\n",
    "\n",
    "# Set the assay parameters\n",
    "\n",
    "# The end date to gather inference results\n",
    "assay_baseline.add_run_until(datetime.datetime.now())\n",
    "\n",
    "# Set the interval and window to one minute each, set the start date for gathering inference results\n",
    "assay_baseline.window_builder().add_width(minutes=1).add_interval(minutes=1).add_start(assay_window_start)\n",
    "\n",
    "# build the assay configuration\n",
    "assay_config = assay_baseline.build()\n",
    "\n",
    "# perform an interactive run and collect inference data\n",
    "assay_results = assay_config.interactive_run()\n",
    "\n",
    "# display one analysis against the baseline\n",
    "assay_results[0].compare_basic_stats()"
   ]
  },
  {
   "cell_type": "markdown",
   "metadata": {},
   "source": [
    "#### Configure Assays\n",
    "\n",
    "Before creating the assay, **configure** the assay and continue to preview it until the best method for detecting drift is set.  The following options are available."
   ]
  },
  {
   "cell_type": "markdown",
   "metadata": {},
   "source": [
    "##### Inference Interval and Inference Width\n",
    "\n",
    "The inference interval aka window interval sets how often to run the assay analysis.  This is set from the [`wallaroo.assay_config.AssayBuilder.window_builder.add_interval`](https://docs.wallaroo.ai/wallaroo-developer-guides/wallaroo-sdk-guides/wallaroo-sdk-reference-guide/assay_config/#WindowBuilder.add_interval) method to collect data expressed in time units:  \"hours=24\", \"minutes=1\", etc.\n",
    "\n",
    "For example, with an interval of 1 minute, the assay collects data every minute.  Within an hour, 60 intervals of data is collected.\n",
    "\n",
    "We can adjust the interval and see how the assays change based on how **frequently** they are run.\n",
    "\n",
    "The width sets the time period from the [`wallaroo.assay_config.AssayBuilder.window_builder.add_width`](/wallaroo-developer-guides/wallaroo-sdk-guides/wallaroo-sdk-reference-guide/assay_config/#WindowBuilder.add_width) method to collect data expressed in time units:  \"hours=24\", \"minutes=1\", etc.\n",
    "\n",
    "For example, an interval of 1 minute and a width of 1 minute collects 1 minutes worth of data every minute.  An interval of 1 minute with a width of 5 minutes collects 5 minute of inference data every minute.\n",
    "\n",
    "By default, the interval and width is **24 hours**.\n",
    "\n",
    "For this example, we'll adjust the width and interval from 1 minute to 5 minutes and see how the number of analyses and their score changes."
   ]
  },
  {
   "cell_type": "code",
   "execution_count": 32,
   "metadata": {},
   "outputs": [
    {
     "data": {
      "image/png": "[encoded data removed]",
      "text/plain": [
       "<Figure size 432x288 with 1 Axes>"
      ]
     },
     "metadata": {
      "needs_background": "light"
     },
     "output_type": "display_data"
    }
   ],
   "source": [
    "# Create the assay baseline\n",
    "assay_baseline = wl.build_assay(assay_name=\"assays from date baseline\", \n",
    "                                          pipeline=mainpipeline, \n",
    "                                          iopath=\"output variable 0\",\n",
    "                                          baseline_start=assay_baseline_start, \n",
    "                                          baseline_end=assay_baseline_end)\n",
    "\n",
    "\n",
    "# Set the assay parameters\n",
    "\n",
    "# The end date to gather inference results\n",
    "assay_baseline.add_run_until(datetime.datetime.now())\n",
    "\n",
    "# Set the interval and window to one minute each, set the start date for gathering inference results\n",
    "assay_baseline.window_builder().add_width(minutes=1).add_interval(minutes=1).add_start(assay_window_start)\n",
    "\n",
    "\n",
    "# build the assay configuration\n",
    "assay_config = assay_baseline.build()\n",
    "\n",
    "# perform an interactive run and collect inference data\n",
    "assay_results = assay_config.interactive_run()\n",
    "\n",
    "# show the analyses chart\n",
    "assay_results.chart_scores()"
   ]
  },
  {
   "cell_type": "code",
   "execution_count": 33,
   "metadata": {},
   "outputs": [
    {
     "data": {
      "text/plain": [
       "{'name': 'assay-demonstration-tutorial-2', 'id': 8, 'archived': False, 'created_by': 'b43dd432-f665-4ea6-abe6-13c5c0028cd7', 'created_at': '2024-08-20T15:45:26.048772+00:00', 'models': [{'name': 'house-price-estimator', 'versions': 1, 'owner_id': '\"\"', 'last_update_time': datetime.datetime(2024, 8, 20, 15, 45, 26, 860170, tzinfo=tzutc()), 'created_at': datetime.datetime(2024, 8, 20, 15, 45, 26, 860170, tzinfo=tzutc())}], 'pipelines': [{'name': 'assay-demonstration-tutorial', 'create_time': datetime.datetime(2024, 8, 20, 15, 45, 27, 24352, tzinfo=tzutc()), 'definition': '[]'}]}"
      ]
     },
     "execution_count": 33,
     "metadata": {},
     "output_type": "execute_result"
    }
   ],
   "source": [
    "wl.get_current_workspace()"
   ]
  },
  {
   "cell_type": "code",
   "execution_count": 34,
   "metadata": {},
   "outputs": [
    {
     "data": {
      "image/png": "[encoded data removed]",
      "text/plain": [
       "<Figure size 432x288 with 1 Axes>"
      ]
     },
     "metadata": {
      "needs_background": "light"
     },
     "output_type": "display_data"
    }
   ],
   "source": [
    "# Create the assay baseline\n",
    "assay_baseline = wl.build_assay(assay_name=\"assays from date baseline\", \n",
    "                                          pipeline=mainpipeline, \n",
    "                                          iopath=\"output variable 0\",\n",
    "                                          baseline_start=assay_baseline_start, \n",
    "                                          baseline_end=assay_baseline_end)\n",
    "\n",
    "\n",
    "# Set the assay parameters\n",
    "\n",
    "# The end date to gather inference results\n",
    "assay_baseline.add_run_until(datetime.datetime.now())\n",
    "\n",
    "# Set the interval and window to five minutes each, set the start date for gathering inference results\n",
    "assay_baseline.window_builder().add_width(minutes=1).add_interval(minutes=1).add_start(assay_window_start)\n",
    "\n",
    "# build the assay configuration\n",
    "assay_config = assay_baseline.build()\n",
    "\n",
    "# perform an interactive run and collect inference data\n",
    "assay_results = assay_config.interactive_run()\n",
    "\n",
    "# show the analyses chart\n",
    "assay_results.chart_scores()"
   ]
  },
  {
   "cell_type": "markdown",
   "metadata": {},
   "source": [
    "##### Add Run Until and Add Inference Start\n",
    "\n",
    "For previewing assays, setting [`wallaroo.assay_config.AssayBuilder.add_run_until`](https://docs.wallaroo.ai/wallaroo-developer-guides/wallaroo-sdk-guides/wallaroo-sdk-reference-guide/assay_config/#AssayBuilder.add_run_until) sets the **end date and time** for collecting inference data.  When an assay is uploaded, this setting is no longer valid - assays run at the [Inference Interval](#inference-interval-and-inference-width) until the [assay is paused](#pause-and-resume-assay).\n",
    "\n",
    "Setting the [`wallaroo.assay_config.WindowBuilder.add_start`](https://docs.wallaroo.ai/wallaroo-developer-guides/wallaroo-sdk-guides/wallaroo-sdk-reference-guide/assay_config/#WindowBuilder.add_start) sets the **start date and time** to collect inference data.   When an assay is uploaded, this setting **is included**, and assay results will be displayed starting from that start date at the [Inference Interval](#inference-interval-and-inference-width) until the [assay is paused](#pause-and-resume-assay).  By default, `add_start` begins 24 hours after the assay is uploaded unless set in the assay configuration manually.\n",
    "\n",
    "For the following example, the `add_run_until` setting is set to `datetime.datetime.now()` to collect all inference data from `assay_window_start` up until now, and the second example limits that example to only two minutes of data."
   ]
  },
  {
   "cell_type": "code",
   "execution_count": 35,
   "metadata": {},
   "outputs": [
    {
     "data": {
      "image/png": "[encoded data removed]",
      "text/plain": [
       "<Figure size 432x288 with 1 Axes>"
      ]
     },
     "metadata": {
      "needs_background": "light"
     },
     "output_type": "display_data"
    }
   ],
   "source": [
    "# Create the assay baseline\n",
    "assay_baseline = wl.build_assay(assay_name=\"assays from date baseline\", \n",
    "                                          pipeline=mainpipeline, \n",
    "                                          iopath=\"output variable 0\",\n",
    "                                          baseline_start=assay_baseline_start, \n",
    "                                          baseline_end=assay_baseline_end)\n",
    "\n",
    "\n",
    "# Set the assay parameters\n",
    "\n",
    "# The end date to gather inference results\n",
    "assay_baseline.add_run_until(datetime.datetime.now())\n",
    "\n",
    "# Set the interval and window to one minute each, set the start date for gathering inference results, minus 2 minutes for the period to start gathering analyses\n",
    "assay_baseline.window_builder().add_width(minutes=1).add_interval(minutes=1).add_start(assay_window_start+datetime.timedelta(seconds=-120))\n",
    "\n",
    "\n",
    "# build the assay configuration\n",
    "assay_config = assay_baseline.build()\n",
    "\n",
    "# perform an interactive run and collect inference data\n",
    "assay_results = assay_config.interactive_run()\n",
    "\n",
    "# show the analyses chart\n",
    "assay_results.chart_scores()"
   ]
  },
  {
   "cell_type": "code",
   "execution_count": 37,
   "metadata": {},
   "outputs": [
    {
     "data": {
      "image/png": "[encoded data removed]",
      "text/plain": [
       "<Figure size 432x288 with 1 Axes>"
      ]
     },
     "metadata": {
      "needs_background": "light"
     },
     "output_type": "display_data"
    }
   ],
   "source": [
    "# Create the assay baseline\n",
    "assay_baseline = wl.build_assay(assay_name=\"assays from date baseline\", \n",
    "                                          pipeline=mainpipeline, \n",
    "                                          iopath=\"output variable 0\",\n",
    "                                          baseline_start=assay_baseline_start, \n",
    "                                          baseline_end=assay_baseline_end)\n",
    "\n",
    "\n",
    "# Set the assay parameters\n",
    "\n",
    "# The end date to gather inference results plus 2 minutes \n",
    "assay_baseline.add_run_until(assay_window_start+datetime.timedelta(seconds=120))\n",
    "\n",
    "# Set the interval and window to one minute each\n",
    "assay_baseline.window_builder().add_width(minutes=1).add_interval(minutes=1).add_start(assay_window_start)\n",
    "\n",
    "\n",
    "# build the assay configuration\n",
    "assay_config = assay_baseline.build()\n",
    "\n",
    "# perform an interactive run and collect inference data\n",
    "assay_results = assay_config.interactive_run()\n",
    "\n",
    "# show the analyses chart\n",
    "assay_results.chart_scores()"
   ]
  },
  {
   "cell_type": "markdown",
   "metadata": {},
   "source": [
    "##### Score Metric\n",
    "\n",
    "The `score` is a distance between the baseline and the analysis window.  The larger the score, the greater the difference between the baseline and the analysis window.  The following methods are provided determining the score:\n",
    "\n",
    "* `PSI` (*Default*) - Population Stability Index (PSI).\n",
    "* `MAXDIFF`: Maximum difference between corresponding bins.\n",
    "* `SUMDIFF`: Mum of differences between corresponding bins.\n",
    "\n",
    "The metric type used is updated with the [`wallaroo.assay_config.AssayBuilder.add_metric(metric: wallaroo.assay_config.Metric)`](https://docs.wallaroo.ai/wallaroo-developer-guides/wallaroo-sdk-guides/wallaroo-sdk-reference-guide/assay_config/#UnivariateContinousSummarizerBuilder.add_metric) method.\n",
    "\n",
    "The following three charts use each of the metrics.  Note how the scores change based on the score type used."
   ]
  },
  {
   "cell_type": "code",
   "execution_count": 38,
   "metadata": {},
   "outputs": [
    {
     "data": {
      "image/png": "[encoded data removed]",
      "text/plain": [
       "<Figure size 432x288 with 1 Axes>"
      ]
     },
     "metadata": {
      "needs_background": "light"
     },
     "output_type": "display_data"
    }
   ],
   "source": [
    "# Create the assay baseline\n",
    "assay_baseline = wl.build_assay(assay_name=\"assays from date baseline\", \n",
    "                                          pipeline=mainpipeline, \n",
    "                                          iopath=\"output variable 0\",\n",
    "                                          baseline_start=assay_baseline_start, \n",
    "                                          baseline_end=assay_baseline_end)\n",
    "\n",
    "\n",
    "# Set the assay parameters\n",
    "\n",
    "# The end date to gather inference results\n",
    "assay_baseline.add_run_until(datetime.datetime.now())\n",
    "\n",
    "# Set the interval and window to one minute each, set the start date for gathering inference results\n",
    "assay_baseline.window_builder().add_width(minutes=1).add_interval(minutes=1).add_start(assay_window_start)\n",
    "\n",
    "# set metric PSI mode\n",
    "assay_baseline.summarizer_builder.add_metric(wallaroo.assay_config.Metric.PSI)\n",
    "\n",
    "\n",
    "# build the assay configuration\n",
    "assay_config = assay_baseline.build()\n",
    "\n",
    "# perform an interactive run and collect inference data\n",
    "assay_results = assay_config.interactive_run()\n",
    "\n",
    "# display one analysis from the results\n",
    "assay_results[0].chart()"
   ]
  },
  {
   "cell_type": "code",
   "execution_count": 39,
   "metadata": {},
   "outputs": [
    {
     "data": {
      "image/png": "[encoded data removed]",
      "text/plain": [
       "<Figure size 432x288 with 1 Axes>"
      ]
     },
     "metadata": {
      "needs_background": "light"
     },
     "output_type": "display_data"
    }
   ],
   "source": [
    "# Create the assay baseline\n",
    "assay_baseline = wl.build_assay(assay_name=\"assays from date baseline\", \n",
    "                                          pipeline=mainpipeline, \n",
    "                                          iopath=\"output variable 0\",\n",
    "                                          baseline_start=assay_baseline_start, \n",
    "                                          baseline_end=assay_baseline_end)\n",
    "\n",
    "\n",
    "# Set the assay parameters\n",
    "\n",
    "# The end date to gather inference results\n",
    "assay_baseline.add_run_until(datetime.datetime.now())\n",
    "\n",
    "# Set the interval and window to one minute each, set the start date for gathering inference results\n",
    "assay_baseline.window_builder().add_width(minutes=1).add_interval(minutes=1).add_start(assay_window_start)\n",
    "\n",
    "# set metric MAXDIFF mode\n",
    "assay_baseline.summarizer_builder.add_metric(wallaroo.assay_config.Metric.MAXDIFF)\n",
    "\n",
    "# build the assay configuration\n",
    "assay_config = assay_baseline.build()\n",
    "\n",
    "# perform an interactive run and collect inference data\n",
    "assay_results = assay_config.interactive_run()\n",
    "\n",
    "# display one analysis from the results\n",
    "assay_results[0].chart()"
   ]
  },
  {
   "cell_type": "code",
   "execution_count": 40,
   "metadata": {},
   "outputs": [
    {
     "data": {
      "image/png": "[encoded data removed]",
      "text/plain": [
       "<Figure size 432x288 with 1 Axes>"
      ]
     },
     "metadata": {
      "needs_background": "light"
     },
     "output_type": "display_data"
    }
   ],
   "source": [
    "# Create the assay baseline\n",
    "assay_baseline = wl.build_assay(assay_name=\"assays from date baseline\", \n",
    "                                          pipeline=mainpipeline, \n",
    "                                          iopath=\"output variable 0\",\n",
    "                                          baseline_start=assay_baseline_start, \n",
    "                                          baseline_end=assay_baseline_end)\n",
    "\n",
    "\n",
    "# Set the assay parameters\n",
    "\n",
    "# The end date to gather inference results\n",
    "assay_baseline.add_run_until(datetime.datetime.now())\n",
    "\n",
    "# Set the interval and window to one minute each, set the start date for gathering inference results\n",
    "assay_baseline.window_builder().add_width(minutes=1).add_interval(minutes=1).add_start(assay_window_start)\n",
    "\n",
    "# set metric SUMDIFF mode\n",
    "assay_baseline.summarizer_builder.add_metric(wallaroo.assay_config.Metric.SUMDIFF)\n",
    "\n",
    "# build the assay configuration\n",
    "assay_config = assay_baseline.build()\n",
    "\n",
    "# perform an interactive run and collect inference data\n",
    "assay_results = assay_config.interactive_run()\n",
    "\n",
    "# display one analysis from the results\n",
    "assay_results[0].chart()"
   ]
  },
  {
   "cell_type": "markdown",
   "metadata": {},
   "source": [
    "##### Alert Threshold\n",
    "\n",
    "Assay alert thresholds are modified with the [`wallaroo.assay_config.AssayBuilder.add_alert_threshold(alert_threshold: float)`](https://docs.wallaroo.ai/wallaroo-developer-guides/wallaroo-sdk-guides/wallaroo-sdk-reference-guide/assay_config/) method.  By default alert thresholds are `0.1`.\n",
    "\n",
    "The following example updates the alert threshold to `0.5`."
   ]
  },
  {
   "cell_type": "code",
   "execution_count": 41,
   "metadata": {},
   "outputs": [
    {
     "data": {
      "text/html": [
       "<div>\n",
       "<style scoped>\n",
       "    .dataframe tbody tr th:only-of-type {\n",
       "        vertical-align: middle;\n",
       "    }\n",
       "\n",
       "    .dataframe tbody tr th {\n",
       "        vertical-align: top;\n",
       "    }\n",
       "\n",
       "    .dataframe thead th {\n",
       "        text-align: right;\n",
       "    }\n",
       "</style>\n",
       "<table border=\"1\" class=\"dataframe\">\n",
       "  <thead>\n",
       "    <tr style=\"text-align: right;\">\n",
       "      <th></th>\n",
       "      <th>assay_id</th>\n",
       "      <th>assay_name</th>\n",
       "      <th>pipeline_name</th>\n",
       "      <th>window_end</th>\n",
       "      <th>out.variable.0</th>\n",
       "      <th>out.variable.0.summary</th>\n",
       "      <th>warning_threshold</th>\n",
       "      <th>alert_threshold</th>\n",
       "      <th>aggregated_values</th>\n",
       "      <th>end</th>\n",
       "      <th>start</th>\n",
       "      <th>statistics.count</th>\n",
       "      <th>statistics.max</th>\n",
       "      <th>statistics.mean</th>\n",
       "      <th>statistics.median</th>\n",
       "      <th>statistics.min</th>\n",
       "      <th>statistics.std</th>\n",
       "      <th>iopath</th>\n",
       "      <th>workspace_id</th>\n",
       "      <th>status</th>\n",
       "    </tr>\n",
       "  </thead>\n",
       "  <tbody>\n",
       "    <tr>\n",
       "      <th>0</th>\n",
       "      <td>Preview</td>\n",
       "      <td>assay-demonstration-tutorial assay</td>\n",
       "      <td>assay-demonstration-tutorial</td>\n",
       "      <td>2024-08-20 15:48:06.178458+00:00</td>\n",
       "      <td>0.008710</td>\n",
       "      <td>{'aggregated_values': [0.0, 0.198, 0.198, 0.202, 0.196, 0.204, 0.002], 'statistics': {'count': 500, 'max': 1489624.25, 'mean': 530885.18140625, 'median': 448928.875, 'min': 236238.671875, 'std': 238628.65625}, 'end': '2024-08-20T15:48:06.178458+00:00', 'start': '2024-08-20T15:47:06.178458+00:00'}</td>\n",
       "      <td>None</td>\n",
       "      <td>0.5</td>\n",
       "      <td>[0.0, 0.198, 0.198, 0.202, 0.196, 0.204, 0.002]</td>\n",
       "      <td>2024-08-20T15:48:06.178458+00:00</td>\n",
       "      <td>2024-08-20T15:47:06.178458+00:00</td>\n",
       "      <td>500</td>\n",
       "      <td>1489624.250</td>\n",
       "      <td>5.308852e+05</td>\n",
       "      <td>4.489289e+05</td>\n",
       "      <td>2.362387e+05</td>\n",
       "      <td>238628.656250</td>\n",
       "      <td>out.variable.0</td>\n",
       "      <td>8</td>\n",
       "      <td>Ok</td>\n",
       "    </tr>\n",
       "    <tr>\n",
       "      <th>1</th>\n",
       "      <td>Preview</td>\n",
       "      <td>assay-demonstration-tutorial assay</td>\n",
       "      <td>assay-demonstration-tutorial</td>\n",
       "      <td>2024-08-20 15:50:06.178458+00:00</td>\n",
       "      <td>0.042383</td>\n",
       "      <td>{'aggregated_values': [0.0, 0.237, 0.162, 0.211, 0.216, 0.173, 0.001], 'statistics': {'count': 1000, 'max': 1489624.25, 'mean': 511214.17046875, 'median': 448627.8125, 'min': 236238.671875, 'std': 223742.921875}, 'end': '2024-08-20T15:50:06.178458+00:00', 'start': '2024-08-20T15:49:06.178458+00:00'}</td>\n",
       "      <td>None</td>\n",
       "      <td>0.5</td>\n",
       "      <td>[0.0, 0.237, 0.162, 0.211, 0.216, 0.173, 0.001]</td>\n",
       "      <td>2024-08-20T15:50:06.178458+00:00</td>\n",
       "      <td>2024-08-20T15:49:06.178458+00:00</td>\n",
       "      <td>1000</td>\n",
       "      <td>1489624.250</td>\n",
       "      <td>5.112142e+05</td>\n",
       "      <td>4.486278e+05</td>\n",
       "      <td>2.362387e+05</td>\n",
       "      <td>223742.921875</td>\n",
       "      <td>out.variable.0</td>\n",
       "      <td>8</td>\n",
       "      <td>Ok</td>\n",
       "    </tr>\n",
       "    <tr>\n",
       "      <th>2</th>\n",
       "      <td>Preview</td>\n",
       "      <td>assay-demonstration-tutorial assay</td>\n",
       "      <td>assay-demonstration-tutorial</td>\n",
       "      <td>2024-08-20 15:52:06.178458+00:00</td>\n",
       "      <td>8.870969</td>\n",
       "      <td>{'aggregated_values': [0.0, 0.0, 0.0, 0.0, 0.0, 0.0, 1.0], 'statistics': {'count': 1000, 'max': 2016006.125, 'mean': 1877492.697, 'median': 1946437.75, 'min': 1514079.375, 'std': 165515.890625}, 'end': '2024-08-20T15:52:06.178458+00:00', 'start': '2024-08-20T15:51:06.178458+00:00'}</td>\n",
       "      <td>None</td>\n",
       "      <td>0.5</td>\n",
       "      <td>[0.0, 0.0, 0.0, 0.0, 0.0, 0.0, 1.0]</td>\n",
       "      <td>2024-08-20T15:52:06.178458+00:00</td>\n",
       "      <td>2024-08-20T15:51:06.178458+00:00</td>\n",
       "      <td>1000</td>\n",
       "      <td>2016006.125</td>\n",
       "      <td>1.877493e+06</td>\n",
       "      <td>1.946438e+06</td>\n",
       "      <td>1.514079e+06</td>\n",
       "      <td>165515.890625</td>\n",
       "      <td>out.variable.0</td>\n",
       "      <td>8</td>\n",
       "      <td>Alert</td>\n",
       "    </tr>\n",
       "  </tbody>\n",
       "</table>\n",
       "</div>"
      ],
      "text/plain": [
       "  assay_id                          assay_name                 pipeline_name  \\\n",
       "0  Preview  assay-demonstration-tutorial assay  assay-demonstration-tutorial   \n",
       "1  Preview  assay-demonstration-tutorial assay  assay-demonstration-tutorial   \n",
       "2  Preview  assay-demonstration-tutorial assay  assay-demonstration-tutorial   \n",
       "\n",
       "                        window_end  out.variable.0  \\\n",
       "0 2024-08-20 15:48:06.178458+00:00        0.008710   \n",
       "1 2024-08-20 15:50:06.178458+00:00        0.042383   \n",
       "2 2024-08-20 15:52:06.178458+00:00        8.870969   \n",
       "\n",
       "                                                                                                                                                                                                                                                                                         out.variable.0.summary  \\\n",
       "0     {'aggregated_values': [0.0, 0.198, 0.198, 0.202, 0.196, 0.204, 0.002], 'statistics': {'count': 500, 'max': 1489624.25, 'mean': 530885.18140625, 'median': 448928.875, 'min': 236238.671875, 'std': 238628.65625}, 'end': '2024-08-20T15:48:06.178458+00:00', 'start': '2024-08-20T15:47:06.178458+00:00'}   \n",
       "1  {'aggregated_values': [0.0, 0.237, 0.162, 0.211, 0.216, 0.173, 0.001], 'statistics': {'count': 1000, 'max': 1489624.25, 'mean': 511214.17046875, 'median': 448627.8125, 'min': 236238.671875, 'std': 223742.921875}, 'end': '2024-08-20T15:50:06.178458+00:00', 'start': '2024-08-20T15:49:06.178458+00:00'}   \n",
       "2                    {'aggregated_values': [0.0, 0.0, 0.0, 0.0, 0.0, 0.0, 1.0], 'statistics': {'count': 1000, 'max': 2016006.125, 'mean': 1877492.697, 'median': 1946437.75, 'min': 1514079.375, 'std': 165515.890625}, 'end': '2024-08-20T15:52:06.178458+00:00', 'start': '2024-08-20T15:51:06.178458+00:00'}   \n",
       "\n",
       "  warning_threshold  alert_threshold  \\\n",
       "0              None              0.5   \n",
       "1              None              0.5   \n",
       "2              None              0.5   \n",
       "\n",
       "                                 aggregated_values  \\\n",
       "0  [0.0, 0.198, 0.198, 0.202, 0.196, 0.204, 0.002]   \n",
       "1  [0.0, 0.237, 0.162, 0.211, 0.216, 0.173, 0.001]   \n",
       "2              [0.0, 0.0, 0.0, 0.0, 0.0, 0.0, 1.0]   \n",
       "\n",
       "                                end                             start  \\\n",
       "0  2024-08-20T15:48:06.178458+00:00  2024-08-20T15:47:06.178458+00:00   \n",
       "1  2024-08-20T15:50:06.178458+00:00  2024-08-20T15:49:06.178458+00:00   \n",
       "2  2024-08-20T15:52:06.178458+00:00  2024-08-20T15:51:06.178458+00:00   \n",
       "\n",
       "   statistics.count  statistics.max  statistics.mean  statistics.median  \\\n",
       "0               500     1489624.250     5.308852e+05       4.489289e+05   \n",
       "1              1000     1489624.250     5.112142e+05       4.486278e+05   \n",
       "2              1000     2016006.125     1.877493e+06       1.946438e+06   \n",
       "\n",
       "   statistics.min  statistics.std          iopath  workspace_id status  \n",
       "0    2.362387e+05   238628.656250  out.variable.0             8     Ok  \n",
       "1    2.362387e+05   223742.921875  out.variable.0             8     Ok  \n",
       "2    1.514079e+06   165515.890625  out.variable.0             8  Alert  "
      ]
     },
     "execution_count": 41,
     "metadata": {},
     "output_type": "execute_result"
    }
   ],
   "source": [
    "# Create the assay baseline\n",
    "assay_baseline = wl.build_assay(assay_name=\"assays from date baseline\", \n",
    "                                          pipeline=mainpipeline, \n",
    "                                          iopath=\"output variable 0\",\n",
    "                                          baseline_start=assay_baseline_start, \n",
    "                                          baseline_end=assay_baseline_end)\n",
    "\n",
    "\n",
    "# Set the assay parameters\n",
    "\n",
    "# The end date to gather inference results\n",
    "assay_baseline.add_run_until(datetime.datetime.now())\n",
    "\n",
    "# Set the interval and window to one minute each, set the start date for gathering inference results\n",
    "assay_baseline.window_builder().add_width(minutes=1).add_interval(minutes=1).add_start(assay_window_start)\n",
    "\n",
    "# set the alert threshold\n",
    "assay_baseline.add_alert_threshold(0.5)\n",
    "\n",
    "# build the assay configuration\n",
    "assay_config = assay_baseline.build()\n",
    "\n",
    "# perform an interactive run and collect inference data\n",
    "assay_results = assay_config.interactive_run()\n",
    "\n",
    "# show the analyses with the alert threshold\n",
    "assay_results.to_dataframe()"
   ]
  },
  {
   "cell_type": "markdown",
   "metadata": {},
   "source": [
    "##### Number of Bins\n",
    "\n",
    "Number of bins sets how the baseline data is partitioned.  The total number of bins includes the set number plus the left_outlier and the right_outlier, so the total number of bins will be the total set + 2.\n",
    "\n",
    "The number of bins is set with the [`wallaroo.assay_config.UnivariateContinousSummarizerBuilder.add_num_bins(num_bins: int)`](https://docs.wallaroo.ai/wallaroo-developer-guides/wallaroo-sdk-guides/wallaroo-sdk-reference-guide/assay_config/#UnivariateContinousSummarizerBuilder.add_num_bins) method."
   ]
  },
  {
   "cell_type": "code",
   "execution_count": 42,
   "metadata": {},
   "outputs": [
    {
     "data": {
      "image/png": "[encoded data removed]",
      "text/plain": [
       "<Figure size 432x288 with 1 Axes>"
      ]
     },
     "metadata": {
      "needs_background": "light"
     },
     "output_type": "display_data"
    }
   ],
   "source": [
    "# Create the assay baseline\n",
    "assay_baseline = wl.build_assay(assay_name=\"assays from date baseline\", \n",
    "                                          pipeline=mainpipeline, \n",
    "                                          iopath=\"output variable 0\",\n",
    "                                          baseline_start=assay_baseline_start, \n",
    "                                          baseline_end=assay_baseline_end)\n",
    "\n",
    "\n",
    "# Set the assay parameters\n",
    "\n",
    "# The end date to gather inference results\n",
    "assay_baseline.add_run_until(datetime.datetime.now())\n",
    "\n",
    "# Set the interval and window to one minute each, set the start date for gathering inference results\n",
    "assay_baseline.window_builder().add_width(minutes=1).add_interval(minutes=1).add_start(assay_window_start)\n",
    "\n",
    "# update number of bins here\n",
    "assay_baseline.summarizer_builder.add_num_bins(10)\n",
    "\n",
    "# build the assay configuration\n",
    "assay_config = assay_baseline.build()\n",
    "\n",
    "# perform an interactive run and collect inference data\n",
    "assay_results = assay_config.interactive_run()\n",
    "\n",
    "# show one analysis with the updated bins\n",
    "assay_results[0].chart()"
   ]
  },
  {
   "cell_type": "markdown",
   "metadata": {},
   "source": [
    "##### Binning Mode\n",
    "\n",
    "Binning Mode defines how the bins are separated.  Binning modes are modified through the `wallaroo.assay_config.UnivariateContinousSummarizerBuilder.add_bin_mode(bin_mode: bin_mode: wallaroo.assay_config.BinMode, edges: Optional[List[float]] = None)`.\n",
    "\n",
    "Available `bin_mode` values from `wallaroo.assay_config.Binmode` are the following:\n",
    "\n",
    "* `QUANTILE` (*Default*): Based on percentages. If `num_bins` is 5 then quintiles so bins are created at the 20%, 40%, 60%, 80% and 100% points.\n",
    "* `EQUAL`: Evenly spaced bins where each bin is set with the formula `min - max / num_bins`\n",
    "* `PROVIDED`: The user provides the edge points for the bins.\n",
    "\n",
    "If `PROVIDED` is supplied, then a List of float values must be provided for the `edges` parameter that matches the number of bins.\n",
    "\n",
    "The following examples are used to show how each of the binning modes effects the bins."
   ]
  },
  {
   "cell_type": "code",
   "execution_count": 43,
   "metadata": {},
   "outputs": [
    {
     "data": {
      "image/png": "[encoded data removed]",
      "text/plain": [
       "<Figure size 432x288 with 1 Axes>"
      ]
     },
     "metadata": {
      "needs_background": "light"
     },
     "output_type": "display_data"
    }
   ],
   "source": [
    "# Create the assay baseline\n",
    "assay_baseline = wl.build_assay(assay_name=\"assays from date baseline\", \n",
    "                                          pipeline=mainpipeline, \n",
    "                                          iopath=\"output variable 0\",\n",
    "                                          baseline_start=assay_baseline_start, \n",
    "                                          baseline_end=assay_baseline_end)\n",
    "\n",
    "\n",
    "# Set the assay parameters\n",
    "\n",
    "# The end date to gather inference results\n",
    "assay_baseline.add_run_until(datetime.datetime.now())\n",
    "\n",
    "# Set the interval and window to one minute each, set the start date for gathering inference results\n",
    "assay_baseline.window_builder().add_width(minutes=1).add_interval(minutes=1).add_start(assay_window_start)\n",
    "\n",
    "# update binning mode here\n",
    "assay_baseline.summarizer_builder.add_bin_mode(wallaroo.assay_config.BinMode.QUANTILE)\n",
    "\n",
    "# build the assay configuration\n",
    "assay_config = assay_baseline.build()\n",
    "\n",
    "# perform an interactive run and collect inference data\n",
    "assay_results = assay_config.interactive_run()\n",
    "\n",
    "# show one analysis with the updated bins\n",
    "assay_results[0].chart()"
   ]
  },
  {
   "cell_type": "code",
   "execution_count": 44,
   "metadata": {},
   "outputs": [
    {
     "data": {
      "image/png": "[encoded data removed]",
      "text/plain": [
       "<Figure size 432x288 with 1 Axes>"
      ]
     },
     "metadata": {
      "needs_background": "light"
     },
     "output_type": "display_data"
    }
   ],
   "source": [
    "# Create the assay baseline\n",
    "assay_baseline = wl.build_assay(assay_name=\"assays from date baseline\", \n",
    "                                          pipeline=mainpipeline, \n",
    "                                          iopath=\"output variable 0\",\n",
    "                                          baseline_start=assay_baseline_start, \n",
    "                                          baseline_end=assay_baseline_end)\n",
    "\n",
    "\n",
    "# Set the assay parameters\n",
    "\n",
    "# The end date to gather inference results\n",
    "assay_baseline.add_run_until(datetime.datetime.now())\n",
    "\n",
    "# Set the interval and window to one minute each, set the start date for gathering inference results\n",
    "assay_baseline.window_builder().add_width(minutes=1).add_interval(minutes=1).add_start(assay_window_start)\n",
    "\n",
    "# update binning mode here\n",
    "assay_baseline.summarizer_builder.add_bin_mode(wallaroo.assay_config.BinMode.EQUAL)\n",
    "\n",
    "# build the assay configuration\n",
    "assay_config = assay_baseline.build()\n",
    "\n",
    "# perform an interactive run and collect inference data\n",
    "assay_results = assay_config.interactive_run()\n",
    "\n",
    "# show one analysis with the updated bins\n",
    "assay_results[0].chart()"
   ]
  },
  {
   "cell_type": "markdown",
   "metadata": {},
   "source": [
    "The following example manually sets the bin values.\n",
    "\n",
    "The values in this dataset run from 200000 to 1500000. We can specify the bins with the `BinMode.PROVIDED` and specifying a list of floats with the right hand / upper edge of each bin and optionally the lower edge of the smallest bin. If the lowest edge is not specified the threshold for left outliers is taken from the smallest value in the baseline dataset."
   ]
  },
  {
   "cell_type": "code",
   "execution_count": 45,
   "metadata": {},
   "outputs": [
    {
     "data": {
      "image/png": "[encoded data removed]",
      "text/plain": [
       "<Figure size 432x288 with 1 Axes>"
      ]
     },
     "metadata": {
      "needs_background": "light"
     },
     "output_type": "display_data"
    }
   ],
   "source": [
    "# Create the assay baseline\n",
    "assay_baseline = wl.build_assay(assay_name=\"assays from date baseline\", \n",
    "                                          pipeline=mainpipeline, \n",
    "                                          iopath=\"output variable 0\",\n",
    "                                          baseline_start=assay_baseline_start, \n",
    "                                          baseline_end=assay_baseline_end)\n",
    "\n",
    "\n",
    "# Set the assay parameters\n",
    "\n",
    "# The end date to gather inference results\n",
    "assay_baseline.add_run_until(datetime.datetime.now())\n",
    "\n",
    "# Set the interval and window to one minute each, set the start date for gathering inference results\n",
    "assay_baseline.window_builder().add_width(minutes=1).add_interval(minutes=1).add_start(assay_window_start)\n",
    "\n",
    "edges = [200000.0, 400000.0, 600000.0, 800000.0, 1500000.0, 2000000.0]\n",
    "\n",
    "# update binning mode here\n",
    "assay_baseline.summarizer_builder.add_bin_mode(wallaroo.assay_config.BinMode.PROVIDED, edges)\n",
    "\n",
    "# build the assay configuration\n",
    "assay_config = assay_baseline.build()\n",
    "\n",
    "# perform an interactive run and collect inference data\n",
    "assay_results = assay_config.interactive_run()\n",
    "\n",
    "# show one analysis with the updated bins\n",
    "assay_results[0].chart()"
   ]
  },
  {
   "cell_type": "markdown",
   "metadata": {},
   "source": [
    "##### Aggregation Options\n",
    "\n",
    "Assay aggregation options are modified with the [`wallaroo.assay_config.AssayBuilder.add_aggregation(aggregation: wallaroo.assay_config.Aggregation)`](https://docs.wallaroo.ai/wallaroo-developer-guides/wallaroo-sdk-guides/wallaroo-sdk-reference-guide/assay_config/#UnivariateContinousSummarizerBuilder.add_aggregation) method.  The following options are provided:\n",
    "\n",
    "* `Aggregation.DENSITY` (*Default*): Count the number/percentage of values that fall in each bin. \n",
    "* `Aggregation.CUMULATIVE`: Empirical Cumulative Density Function style, which keeps a cumulative count of the values/percentages that fall in each bin.\n",
    "\n",
    "The following example demonstrate the different results between the two."
   ]
  },
  {
   "cell_type": "code",
   "execution_count": 46,
   "metadata": {},
   "outputs": [
    {
     "data": {
      "image/png": "[encoded data removed]",
      "text/plain": [
       "<Figure size 432x288 with 1 Axes>"
      ]
     },
     "metadata": {
      "needs_background": "light"
     },
     "output_type": "display_data"
    }
   ],
   "source": [
    "# Create the assay baseline\n",
    "assay_baseline = wl.build_assay(assay_name=\"assays from date baseline\", \n",
    "                                          pipeline=mainpipeline, \n",
    "                                          iopath=\"output variable 0\",\n",
    "                                          baseline_start=assay_baseline_start, \n",
    "                                          baseline_end=assay_baseline_end)\n",
    "\n",
    "\n",
    "# Set the assay parameters\n",
    "\n",
    "# The end date to gather inference results\n",
    "assay_baseline.add_run_until(datetime.datetime.now())\n",
    "\n",
    "# Set the interval and window to one minute each, set the start date for gathering inference results\n",
    "assay_baseline.window_builder().add_width(minutes=1).add_interval(minutes=1).add_start(assay_window_start)\n",
    "\n",
    "#Aggregation.DENSITY - the default\n",
    "assay_baseline.summarizer_builder.add_aggregation(wallaroo.assay_config.Aggregation.DENSITY)\n",
    "\n",
    "# build the assay configuration\n",
    "assay_config = assay_baseline.build()\n",
    "\n",
    "# perform an interactive run and collect inference data\n",
    "assay_results = assay_config.interactive_run()\n",
    "\n",
    "# show one analysis with the updated bins\n",
    "assay_results[0].chart()"
   ]
  },
  {
   "cell_type": "code",
   "execution_count": 47,
   "metadata": {},
   "outputs": [
    {
     "data": {
      "image/png": "[encoded data removed]",
      "text/plain": [
       "<Figure size 432x288 with 1 Axes>"
      ]
     },
     "metadata": {
      "needs_background": "light"
     },
     "output_type": "display_data"
    }
   ],
   "source": [
    "# Create the assay baseline\n",
    "assay_baseline = wl.build_assay(assay_name=\"assays from date baseline\", \n",
    "                                          pipeline=mainpipeline, \n",
    "                                          iopath=\"output variable 0\",\n",
    "                                          baseline_start=assay_baseline_start, \n",
    "                                          baseline_end=assay_baseline_end)\n",
    "\n",
    "\n",
    "# Set the assay parameters\n",
    "\n",
    "# The end date to gather inference results\n",
    "assay_baseline.add_run_until(datetime.datetime.now())\n",
    "\n",
    "# Set the interval and window to one minute each, set the start date for gathering inference results\n",
    "assay_baseline.window_builder().add_width(minutes=1).add_interval(minutes=1).add_start(assay_window_start)\n",
    "\n",
    "#Aggregation.CUMULATIVE\n",
    "assay_baseline.summarizer_builder.add_aggregation(wallaroo.assay_config.Aggregation.CUMULATIVE)\n",
    "\n",
    "# build the assay configuration\n",
    "assay_config = assay_baseline.build()\n",
    "\n",
    "# perform an interactive run and collect inference data\n",
    "assay_results = assay_config.interactive_run()\n",
    "\n",
    "# show one analysis with the updated bins\n",
    "assay_results[0].chart()"
   ]
  },
  {
   "cell_type": "markdown",
   "metadata": {},
   "source": [
    "### Create Assay\n",
    "\n",
    "With the assay previewed and configuration options determined, we officially create it by uploading it to the Wallaroo instance.\n",
    "\n",
    "Once it is uploaded, the assay runs an analysis based on the window width, interval, and the other settings configured.\n",
    "\n",
    "Assays are uploaded with the `wallaroo.assay_config.upload()` method. This uploads the assay into the Wallaroo database with the configurations applied and returns the assay id. Note that assay names **must be unique across the Wallaroo instance**; attempting to upload an assay with the same name as an existing one will return an error.\n",
    "\n",
    "`wallaroo.assay_config.upload()` returns the assay id for the assay.\n",
    "\n",
    "Typically we would just call `wallaroo.assay_config.upload()` after configuring the assay.  For the example below, we will perform the complete configuration in one window to show all of the configuration steps at once before creating the assay."
   ]
  },
  {
   "cell_type": "code",
   "execution_count": 48,
   "metadata": {},
   "outputs": [],
   "source": [
    "# Build the assay, based on the start and end of our baseline time, \n",
    "# and tracking the output variable index 0\n",
    "assay_baseline = wl.build_assay(assay_name=\"assays from date baseline tutorial v2\", \n",
    "                                          pipeline=mainpipeline, \n",
    "                                          iopath=\"output variable 0\",\n",
    "                                          baseline_start=assay_baseline_start, \n",
    "                                          baseline_end=assay_baseline_end)\n",
    "\n",
    "# set the width, interval, and assay start date and time\n",
    "assay_baseline.window_builder().add_width(minutes=1).add_interval(minutes=1).add_start(assay_window_start)\n",
    "\n",
    "# add other options\n",
    "assay_baseline.summarizer_builder.add_aggregation(wallaroo.assay_config.Aggregation.CUMULATIVE)\n",
    "assay_baseline.summarizer_builder.add_metric(wallaroo.assay_config.Metric.MAXDIFF)\n",
    "assay_baseline.add_alert_threshold(0.5)\n",
    "\n",
    "\n",
    "assay_id = assay_baseline.upload()\n",
    "\n",
    "# wait 65 seconds for the first analysis run performed\n",
    "time.sleep(65)\n"
   ]
  },
  {
   "cell_type": "code",
   "execution_count": null,
   "metadata": {},
   "outputs": [],
   "source": [
    "# add additional inferences for the assay to use\n",
    "\n",
    "small_houses_inputs = pd.read_json('./data/smallinputs.df.json')\n",
    "baseline_size = 500\n",
    "\n",
    "\n",
    "# These inputs will be random samples of small priced houses.  Around 30,000 is a good number\n",
    "small_houses = small_houses_inputs.sample(baseline_size, replace=True).reset_index(drop=True)\n",
    "\n",
    "# Wait 60 seconds to set this data apart from the rest\n",
    "time.sleep(60)\n",
    "small_results = mainpipeline.infer(small_houses)\n",
    "\n",
    "\n",
    "# Get a spread of large house values\n",
    "\n",
    "time.sleep(65)\n",
    "inference_size = 1000\n",
    "\n",
    "# And a spread of large house values\n",
    "\n",
    "big_houses_inputs = pd.read_json('./data/biginputs.df.json', orient=\"records\")\n",
    "big_houses = big_houses_inputs.sample(inference_size, replace=True).reset_index(drop=True)\n",
    "\n",
    "mainpipeline.infer(big_houses)\n",
    "\n",
    "time.sleep(65)\n"
   ]
  },
  {
   "cell_type": "code",
   "execution_count": 58,
   "metadata": {},
   "outputs": [],
   "source": [
    "# Set the assay end\n",
    "\n",
    "assay_window_end = datetime.datetime.now()"
   ]
  },
  {
   "cell_type": "markdown",
   "metadata": {},
   "source": [
    "The assay is now visible through the Wallaroo UI by selecting the workspace, then the pipeline, then **Insights**.\n",
    "\n",
    "![Sample assay in the UI](images/housepricesaga-sample-assay.png)"
   ]
  },
  {
   "cell_type": "markdown",
   "metadata": {},
   "source": [
    "### Get Assay Info\n",
    "\n",
    "Assay information is retrieved with the `wallaroo.client.get_assay_info()` which takes the following parameters.\n",
    "\n",
    "| Parameter | Type | Description |\n",
    "|---|---|---|\n",
    "| **assay_id** | Assays V1: *Integer* (*Required*), Assays V2: *String* (*Require*) | For Assays V1: The numerical id of the assay.  For Assays V2: The UUID string identifier of the assay. |\n",
    "| **workspace_id** | (*Int*) (*Optional*) | The numerical identifier of the workspace to filter by. |\n",
    "| **workspace_name** | (*String*) (*Optional*) | The name of the workspace to filter by. |\n",
    "\n",
    "\n",
    "This returns the following:\n",
    "\n",
    "| Parameter | Type | Description |\n",
    "|---|---|---|\n",
    "| *id* | *Integer* | The numerical id of the assay. |\n",
    "| *name* | *String* | The name of the assay. |\n",
    "| *active* | *Boolean* | `True`: The assay is active and generates analyses based on its configuration. `False`: The assay is disabled and will not generate new analyses. |\n",
    "| *pipeline_name* | *String* | The name of the pipeline the assay references. |\n",
    "| *last_run* | *DateTime* | The date and time the assay last ran. |\n",
    "| *next_run* | *DateTime* | THe date and time the assay analysis will next run. |\n",
    "| *alert_threshold* | *Float* | The alert threshold setting for the assay. |\n",
    "| *baseline* | *Dict* | The baseline and settings as set from the assay configuration. |\n",
    "| *iopath* | *String* | The `iopath` setting for the assay. |\n",
    "| *metric* | *String* | The `metric` setting for the assay. |\n",
    "| *num_bins* | *Integer* | The number of bins for the assay. |\n",
    "| *bin_weights* | *List*/None | The bin weights used if any. |\n",
    "| *bin_mode* | *String* | The binning mode used. |\n",
    "| *workspace_id* | (*Int*) | The numerical identifier of the workspace the assay is associated with. |\n",
    "| *workspace_name* | (*String*)  | The name of the workspace the assay is associated with. |\n"
   ]
  },
  {
   "cell_type": "code",
   "execution_count": 49,
   "metadata": {},
   "outputs": [
    {
     "data": {
      "text/html": [
       "<table>\n",
       "          <tr><th>Field</th><th>Value</th></tr>\n",
       "          <tr><td>ID</td><td>2a5f2692-1ce4-4710-af08-ddac0fe6dc23</td></tr>\n",
       "          <tr><td>Name</td><td>assays from date baseline tutorial 2</td></tr>\n",
       "          <tr><td>Active</td><td>True</td></tr>\n",
       "          \n",
       "        <tr><td>Pipeline</td><td>assay-demonstration-tutorial</td></tr>\n",
       "        \n",
       "        <tr><td>Workspace ID</td><td>8</td></tr>\n",
       "        \n",
       "          <tr><td>Workspace Name</td><td>assay-demonstration-tutorial-2</td></tr>\n",
       "          \n",
       "        <tr><td>Monitoring</td><td>['out.variable.0']</td></tr>\n",
       "        \n",
       "          \n",
       "        <tr><td>Window Width</td><td>60 seconds</td></tr>\n",
       "        \n",
       "          \n",
       "        <tr><td>First Run</td><td>2024-20-Aug 15:48:06</td></tr>\n",
       "        \n",
       "        <tr><td>Run Frequency</td><td>1 Minute</td></tr>\n",
       "        \n",
       "          \n",
       "        <tr><td>Bin Mode</td><td>5 Quantile bins</td></tr>\n",
       "        \n",
       "        <tr><td>Aggregation</td><td>Cumulative</td></tr>\n",
       "        <tr><td>Metric</td><td>MaxDiff</td></tr>\n",
       "        \n",
       "          <tr><td>Last Run</td><td>2024-20-Aug 15:57:06</td></tr>\n",
       "          <tr><td>Next Run</td><td>2024-20-Aug 15:58:06</td></tr>\n",
       "          <tr><td>Created At</td><td>2024-20-Aug 15:56:35</td></tr>\n",
       "          <tr><td>Updated At</td><td>2024-20-Aug 15:56:35</td></tr>\n",
       "        </table>"
      ],
      "text/plain": [
       "<wallaroo.assays_v2.AssayV2 at 0x7f1de1930310>"
      ]
     },
     "metadata": {},
     "output_type": "display_data"
    }
   ],
   "source": [
    "display(wl.get_assay_info(assay_id))"
   ]
  },
  {
   "cell_type": "markdown",
   "metadata": {},
   "source": [
    "### Get Assay Results\n",
    "\n",
    "Once an assay is created the assay runs an analysis based on the window width, interval, and the other settings configured.\n",
    "\n",
    "Assay results are retrieved with the `wallaroo.client.get_assay_results` method which takes the following parameters:\n",
    "\n",
    "| Parameter | Type | Description |\n",
    "|---|---|---|\n",
    "| **assay_id** | Assays V1: *Integer* (*Required*), Assays V2: *String* (*Require*) | For Assays V1: The numerical id of the assay.  For Assays V2: The UUID string identifier of the assay. |\n",
    "| **start** | *Datetime.Datetime* (*Required*) | The start date and time of historical data from the pipeline to start analyses from. |\n",
    "| **end** | *Datetime.Datetime* (*Required*) | The end date and time of historical data from the pipeline to limit analyses to. |\n",
    "| **workspace_id** | (*Int*) (*Optional*) | The numerical identifier of the workspace to filter by. |\n",
    "| **workspace_name** | (*String*) (*Optional*) | The name of the workspace to filter by. |\n",
    "\n",
    "* **IMPORTANT NOTE**:  This process requires that additional historical data is generated from the time the assay is created to when the results are available. To add additional inference data, use the [Assay Test Data](#assay-test-data) section above.\n",
    "\n",
    "For this example, we assume that there is at least 1 day of data to review and set our `assay_start` and `assay_end` based on the `now()` and the 24 hours previous from `now()`.  Timezones are added to endure that the assay start and end times align with the timezone of the Wallaroo server and the assay window is properly defined."
   ]
  },
  {
   "cell_type": "code",
   "execution_count": 65,
   "metadata": {},
   "outputs": [
    {
     "data": {
      "image/png": "[encoded data removed]",
      "text/plain": [
       "<Figure size 432x288 with 1 Axes>"
      ]
     },
     "metadata": {
      "needs_background": "light"
     },
     "output_type": "display_data"
    }
   ],
   "source": [
    "assay_start = datetime.datetime.now(datetime.timezone.utc)+datetime.timedelta(days=-1)\n",
    "assay_end = datetime.datetime.now(datetime.timezone.utc)\n",
    "\n",
    "assay_results = wl.get_assay_results(assay_id=assay_id,\n",
    "                     start=assay_start,\n",
    "                     end=assay_end\n",
    "                    )\n",
    "\n",
    "assay_results.chart_scores()"
   ]
  },
  {
   "cell_type": "code",
   "execution_count": 66,
   "metadata": {},
   "outputs": [
    {
     "data": {
      "image/png": "[encoded data removed]",
      "text/plain": [
       "<Figure size 432x288 with 1 Axes>"
      ]
     },
     "metadata": {
      "needs_background": "light"
     },
     "output_type": "display_data"
    }
   ],
   "source": [
    "assay_results[0].chart()"
   ]
  },
  {
   "cell_type": "markdown",
   "metadata": {},
   "source": [
    "### List Assays\n",
    "\n",
    "A list of assays is retrieved with the `wallaroo.client.list_assays()` method and takes the following parameters:\n",
    "\n",
    "| Parameter | Type | Description |\n",
    "|---|---|---|\n",
    "| **workspace_id** | (*Int*) (*Optional*) | The numerical identifier of the workspace to filter by. |\n",
    "| **workspace_name** | (*String*) (*Optional*) | The name of the workspace to filter by. |\n",
    "\n",
    "This returns a list of assays as filtered in reverse chronological order.\n",
    "\n",
    "| Parameter | Type | Description |\n",
    "|---|---|---|\n",
    "| *Assay Id* | *Integer* | The numerical id of the assay. |\n",
    "| *Assay Name* | *String* | The name of the assay. |\n",
    "| *Active* | *Boolean* | `True`: The assay is active and generates analyses based on its configuration. `False`: The assay is disabled and will not generate new analyses. |\n",
    "| *Status* | *Dict* | The status of the assay including the \n",
    "| *Warning Threshold* | *Float*/*None* | The warning threshold if set. |\n",
    "| *Alert Threshold* | *Float* | The alert threshold for the assay. |\n",
    "| *workspace_id* | (*Int*) | The numerical identifier of the workspace the assay is associated with. |\n",
    "| *workspace_name* | (*String*)  | The name of the workspace the assay is associated with. |\n",
    "\n",
    "The errors for this method include:\n",
    "\n",
    "* If the parameter `workspace_id` is not an integer.\n",
    "* If the parameter `workspace_name` is not a String.\n"
   ]
  },
  {
   "cell_type": "code",
   "execution_count": 67,
   "metadata": {},
   "outputs": [
    {
     "data": {
      "text/html": [
       "<table><tr><th>id</th><th>name</th><th>active</th><th>pipeline</th><th>workspace id</th><th>workspace name</th><th>monitored fields</th><th>last_run</th><th>next_run</th><th>created_at</th><th>updated_at</th></tr>\n",
       "            <tr>\n",
       "              <td>2a5f2692-1ce4-4710-af08-ddac0fe6dc23</td>\n",
       "              <td>assays from date baseline tutorial 2</td>\n",
       "              <td>True</td>\n",
       "              <td>assay-demonstration-tutorial</td>\n",
       "              <td>8</td>\n",
       "              <td>assay-demonstration-tutorial-2</td>\n",
       "              <td>['out.variable.0']</td>\n",
       "              <td>2024-20-Aug 16:12:06</td>\n",
       "              <td>2024-20-Aug 16:13:06</td>\n",
       "              <td>2024-20-Aug 15:56:35</td>\n",
       "              <td>2024-20-Aug 15:56:35</td>\n",
       "            </tr>\n",
       "            </table>"
      ],
      "text/plain": [
       "[<wallaroo.assays_v2.AssayV2 at 0x7f1dc9521be0>]"
      ]
     },
     "execution_count": 67,
     "metadata": {},
     "output_type": "execute_result"
    }
   ],
   "source": [
    "wl.list_assays()"
   ]
  },
  {
   "cell_type": "markdown",
   "metadata": {},
   "source": [
    "### Set Assay Active Status\n",
    "\n",
    "Assays active status is either:\n",
    "\n",
    "* **True**:  The assay generates analyses based on the assay configuration.\n",
    "* **False**:  The assay will not generate new analyses.\n",
    "\n",
    "Assays are set to active or not active with the `wallaroo.client.set_assay_active` which takes the following parameters.\n",
    "\n",
    "| Parameter | Type | Description |\n",
    "|---|---|---|\n",
    "| **assay_id** | Assays V1: *Integer* (*Required*), Assays V2: *String* (*Require*) | For Assays V1: The numerical id of the assay.  For Assays V2: The UUID string identifier of the assay. |\n",
    "| *active* | *Boolean* (*Required*) | `True`: The assay status is set to `Active`.  `False`: The assay status is `Not Active`. |\n",
    "\n",
    "First we will show the current active status.\n",
    "\n",
    "In the following, set the assay status to `False`, then set the assay active status back to `True`."
   ]
  },
  {
   "cell_type": "code",
   "execution_count": 68,
   "metadata": {},
   "outputs": [
    {
     "data": {
      "text/html": [
       "<table>\n",
       "          <tr><th>Field</th><th>Value</th></tr>\n",
       "          <tr><td>ID</td><td>2a5f2692-1ce4-4710-af08-ddac0fe6dc23</td></tr>\n",
       "          <tr><td>Name</td><td>assays from date baseline tutorial 2</td></tr>\n",
       "          <tr><td>Active</td><td>True</td></tr>\n",
       "          \n",
       "        <tr><td>Pipeline</td><td>assay-demonstration-tutorial</td></tr>\n",
       "        \n",
       "        <tr><td>Workspace ID</td><td>8</td></tr>\n",
       "        \n",
       "          <tr><td>Workspace Name</td><td>assay-demonstration-tutorial-2</td></tr>\n",
       "          \n",
       "        <tr><td>Monitoring</td><td>['out.variable.0']</td></tr>\n",
       "        \n",
       "          \n",
       "        <tr><td>Window Width</td><td>60 seconds</td></tr>\n",
       "        \n",
       "          \n",
       "        <tr><td>First Run</td><td>2024-20-Aug 15:48:06</td></tr>\n",
       "        \n",
       "        <tr><td>Run Frequency</td><td>1 Minute</td></tr>\n",
       "        \n",
       "          \n",
       "        <tr><td>Bin Mode</td><td>5 Quantile bins</td></tr>\n",
       "        \n",
       "        <tr><td>Aggregation</td><td>Cumulative</td></tr>\n",
       "        <tr><td>Metric</td><td>MaxDiff</td></tr>\n",
       "        \n",
       "          <tr><td>Last Run</td><td>2024-20-Aug 16:12:06</td></tr>\n",
       "          <tr><td>Next Run</td><td>2024-20-Aug 16:13:06</td></tr>\n",
       "          <tr><td>Created At</td><td>2024-20-Aug 15:56:35</td></tr>\n",
       "          <tr><td>Updated At</td><td>2024-20-Aug 15:56:35</td></tr>\n",
       "        </table>"
      ],
      "text/plain": [
       "<wallaroo.assays_v2.AssayV2 at 0x7f1dc9535ee0>"
      ]
     },
     "metadata": {},
     "output_type": "display_data"
    }
   ],
   "source": [
    "display(wl.get_assay_info(assay_id))"
   ]
  },
  {
   "cell_type": "markdown",
   "metadata": {},
   "source": [
    "Now we set the active status to `False`, and show the assay list to verify it is no longer active."
   ]
  },
  {
   "cell_type": "code",
   "execution_count": 69,
   "metadata": {},
   "outputs": [
    {
     "data": {
      "text/html": [
       "<table>\n",
       "          <tr><th>Field</th><th>Value</th></tr>\n",
       "          <tr><td>ID</td><td>2a5f2692-1ce4-4710-af08-ddac0fe6dc23</td></tr>\n",
       "          <tr><td>Name</td><td>assays from date baseline tutorial 2</td></tr>\n",
       "          <tr><td>Active</td><td>False</td></tr>\n",
       "          \n",
       "        <tr><td>Pipeline</td><td>assay-demonstration-tutorial</td></tr>\n",
       "        \n",
       "        <tr><td>Workspace ID</td><td>8</td></tr>\n",
       "        \n",
       "          <tr><td>Workspace Name</td><td>assay-demonstration-tutorial-2</td></tr>\n",
       "          \n",
       "        <tr><td>Monitoring</td><td>['out.variable.0']</td></tr>\n",
       "        \n",
       "          \n",
       "        <tr><td>Window Width</td><td>60 seconds</td></tr>\n",
       "        \n",
       "          \n",
       "        <tr><td>First Run</td><td>2024-20-Aug 15:48:06</td></tr>\n",
       "        \n",
       "        <tr><td>Run Frequency</td><td>1 Minute</td></tr>\n",
       "        \n",
       "          \n",
       "        <tr><td>Bin Mode</td><td>5 Quantile bins</td></tr>\n",
       "        \n",
       "        <tr><td>Aggregation</td><td>Cumulative</td></tr>\n",
       "        <tr><td>Metric</td><td>MaxDiff</td></tr>\n",
       "        \n",
       "          <tr><td>Last Run</td><td>2024-20-Aug 16:12:06</td></tr>\n",
       "          <tr><td>Next Run</td><td>None</td></tr>\n",
       "          <tr><td>Created At</td><td>2024-20-Aug 15:56:35</td></tr>\n",
       "          <tr><td>Updated At</td><td>2024-20-Aug 16:12:06</td></tr>\n",
       "        </table>"
      ],
      "text/plain": [
       "<wallaroo.assays_v2.AssayV2 at 0x7f1dca9b2430>"
      ]
     },
     "metadata": {},
     "output_type": "display_data"
    }
   ],
   "source": [
    "wl.set_assay_active(assay_id, False)\n",
    "display(wl.get_assay_info(assay_id))"
   ]
  },
  {
   "cell_type": "markdown",
   "metadata": {},
   "source": [
    "We resume the assay by setting it's active status to `True`."
   ]
  },
  {
   "cell_type": "code",
   "execution_count": 70,
   "metadata": {},
   "outputs": [
    {
     "data": {
      "text/html": [
       "<table>\n",
       "          <tr><th>Field</th><th>Value</th></tr>\n",
       "          <tr><td>ID</td><td>2a5f2692-1ce4-4710-af08-ddac0fe6dc23</td></tr>\n",
       "          <tr><td>Name</td><td>assays from date baseline tutorial 2</td></tr>\n",
       "          <tr><td>Active</td><td>True</td></tr>\n",
       "          \n",
       "        <tr><td>Pipeline</td><td>assay-demonstration-tutorial</td></tr>\n",
       "        \n",
       "        <tr><td>Workspace ID</td><td>8</td></tr>\n",
       "        \n",
       "          <tr><td>Workspace Name</td><td>assay-demonstration-tutorial-2</td></tr>\n",
       "          \n",
       "        <tr><td>Monitoring</td><td>['out.variable.0']</td></tr>\n",
       "        \n",
       "          \n",
       "        <tr><td>Window Width</td><td>60 seconds</td></tr>\n",
       "        \n",
       "          \n",
       "        <tr><td>First Run</td><td>2024-20-Aug 15:48:06</td></tr>\n",
       "        \n",
       "        <tr><td>Run Frequency</td><td>1 Minute</td></tr>\n",
       "        \n",
       "          \n",
       "        <tr><td>Bin Mode</td><td>5 Quantile bins</td></tr>\n",
       "        \n",
       "        <tr><td>Aggregation</td><td>Cumulative</td></tr>\n",
       "        <tr><td>Metric</td><td>MaxDiff</td></tr>\n",
       "        \n",
       "          <tr><td>Last Run</td><td>2024-20-Aug 16:12:06</td></tr>\n",
       "          <tr><td>Next Run</td><td>2024-20-Aug 16:13:06</td></tr>\n",
       "          <tr><td>Created At</td><td>2024-20-Aug 15:56:35</td></tr>\n",
       "          <tr><td>Updated At</td><td>2024-20-Aug 16:12:06</td></tr>\n",
       "        </table>"
      ],
      "text/plain": [
       "<wallaroo.assays_v2.AssayV2 at 0x7f1dc9551370>"
      ]
     },
     "metadata": {},
     "output_type": "display_data"
    }
   ],
   "source": [
    "wl.set_assay_active(assay_id, True)\n",
    "display(wl.get_assay_info(assay_id))"
   ]
  },
  {
   "cell_type": "markdown",
   "metadata": {},
   "source": [
    "### Undeploy Main Pipeline\n",
    "\n",
    "With the examples and tutorial complete, we will undeploy the main pipeline and return the resources back to the Wallaroo instance."
   ]
  },
  {
   "cell_type": "code",
   "execution_count": 71,
   "metadata": {},
   "outputs": [
    {
     "name": "stdout",
     "output_type": "stream",
     "text": [
      "Waiting for undeployment - this will take up to 45s .................................... ok\n"
     ]
    },
    {
     "data": {
      "text/html": [
       "<table><tr><th>name</th> <td>assay-demonstration-tutorial</td></tr><tr><th>created</th> <td>2024-08-20 15:45:27.024352+00:00</td></tr><tr><th>last_updated</th> <td>2024-08-20 15:47:03.959686+00:00</td></tr><tr><th>deployed</th> <td>False</td></tr><tr><th>workspace_id</th> <td>8</td></tr><tr><th>workspace_name</th> <td>assay-demonstration-tutorial-2</td></tr><tr><th>arch</th> <td>x86</td></tr><tr><th>accel</th> <td>none</td></tr><tr><th>tags</th> <td></td></tr><tr><th>versions</th> <td>6d3131f0-797c-4087-90fb-37056a65726f, 4e7a65db-b1c3-4331-b3f8-549917f73e9c, 63d04c05-e9d6-468f-a960-9d7b136e8e4e</td></tr><tr><th>steps</th> <td>house-price-estimator</td></tr><tr><th>published</th> <td>False</td></tr></table>"
      ],
      "text/plain": [
       "{'name': 'assay-demonstration-tutorial', 'create_time': datetime.datetime(2024, 8, 20, 15, 45, 27, 24352, tzinfo=tzutc()), 'definition': \"[{'ModelInference': {'models': [{'name': 'house-price-estimator', 'version': '5e8fcae0-fcda-4fb4-ba7d-da262effaf7b', 'sha': 'e22a0831aafd9917f3cc87a15ed267797f80e2afa12ad7d8810ca58f173b8cc6'}]}}]\"}"
      ]
     },
     "execution_count": 71,
     "metadata": {},
     "output_type": "execute_result"
    }
   ],
   "source": [
    "mainpipeline.undeploy()"
   ]
  },
  {
   "cell_type": "markdown",
   "metadata": {},
   "source": [
    "## View Assay Filters\n",
    "\n",
    "The following examples demonstrate various ways of listing assays and retrieving assay details, with filtering options.\n",
    "\n",
    "### List Assays with Filters\n",
    "\n",
    "List all assays for workspaces the user is a member of."
   ]
  },
  {
   "cell_type": "code",
   "execution_count": 72,
   "metadata": {},
   "outputs": [
    {
     "data": {
      "text/html": [
       "<table><tr><th>id</th><th>name</th><th>active</th><th>pipeline</th><th>workspace id</th><th>workspace name</th><th>monitored fields</th><th>last_run</th><th>next_run</th><th>created_at</th><th>updated_at</th></tr>\n",
       "            <tr>\n",
       "              <td>2a5f2692-1ce4-4710-af08-ddac0fe6dc23</td>\n",
       "              <td>assays from date baseline tutorial 2</td>\n",
       "              <td>True</td>\n",
       "              <td>assay-demonstration-tutorial</td>\n",
       "              <td>8</td>\n",
       "              <td>assay-demonstration-tutorial-2</td>\n",
       "              <td>['out.variable.0']</td>\n",
       "              <td>2024-20-Aug 16:12:06</td>\n",
       "              <td>2024-20-Aug 16:13:06</td>\n",
       "              <td>2024-20-Aug 15:56:35</td>\n",
       "              <td>2024-20-Aug 16:12:06</td>\n",
       "            </tr>\n",
       "            </table>"
      ],
      "text/plain": [
       "[<wallaroo.assays_v2.AssayV2 at 0x7f1dc95a5430>]"
      ]
     },
     "execution_count": 72,
     "metadata": {},
     "output_type": "execute_result"
    }
   ],
   "source": [
    "wl.list_assays()"
   ]
  },
  {
   "cell_type": "markdown",
   "metadata": {},
   "source": [
    "List all assays filtered by workspace id."
   ]
  },
  {
   "cell_type": "code",
   "execution_count": 73,
   "metadata": {},
   "outputs": [
    {
     "data": {
      "text/html": [
       "<table><tr><th>id</th><th>name</th><th>active</th><th>pipeline</th><th>workspace id</th><th>workspace name</th><th>monitored fields</th><th>last_run</th><th>next_run</th><th>created_at</th><th>updated_at</th></tr>\n",
       "            <tr>\n",
       "              <td>2a5f2692-1ce4-4710-af08-ddac0fe6dc23</td>\n",
       "              <td>assays from date baseline tutorial 2</td>\n",
       "              <td>True</td>\n",
       "              <td>assay-demonstration-tutorial</td>\n",
       "              <td>8</td>\n",
       "              <td>assay-demonstration-tutorial-2</td>\n",
       "              <td>['out.variable.0']</td>\n",
       "              <td>2024-20-Aug 16:12:06</td>\n",
       "              <td>2024-20-Aug 16:13:06</td>\n",
       "              <td>2024-20-Aug 15:56:35</td>\n",
       "              <td>2024-20-Aug 16:12:06</td>\n",
       "            </tr>\n",
       "            </table>"
      ],
      "text/plain": [
       "[<wallaroo.assays_v2.AssayV2 at 0x7f1dc9521af0>]"
      ]
     },
     "execution_count": 73,
     "metadata": {},
     "output_type": "execute_result"
    }
   ],
   "source": [
    "wl.list_assays(workspace_id=workspace_id)"
   ]
  },
  {
   "cell_type": "markdown",
   "metadata": {},
   "source": [
    "List assays filtered by workspace name."
   ]
  },
  {
   "cell_type": "code",
   "execution_count": 74,
   "metadata": {},
   "outputs": [
    {
     "data": {
      "text/html": [
       "<table><tr><th>id</th><th>name</th><th>active</th><th>pipeline</th><th>workspace id</th><th>workspace name</th><th>monitored fields</th><th>last_run</th><th>next_run</th><th>created_at</th><th>updated_at</th></tr>\n",
       "            <tr>\n",
       "              <td>2a5f2692-1ce4-4710-af08-ddac0fe6dc23</td>\n",
       "              <td>assays from date baseline tutorial 2</td>\n",
       "              <td>True</td>\n",
       "              <td>assay-demonstration-tutorial</td>\n",
       "              <td>8</td>\n",
       "              <td>assay-demonstration-tutorial-2</td>\n",
       "              <td>['out.variable.0']</td>\n",
       "              <td>2024-20-Aug 16:12:06</td>\n",
       "              <td>2024-20-Aug 16:13:06</td>\n",
       "              <td>2024-20-Aug 15:56:35</td>\n",
       "              <td>2024-20-Aug 16:12:06</td>\n",
       "            </tr>\n",
       "            </table>"
      ],
      "text/plain": [
       "[<wallaroo.assays_v2.AssayV2 at 0x7f1dc9514490>]"
      ]
     },
     "execution_count": 74,
     "metadata": {},
     "output_type": "execute_result"
    }
   ],
   "source": [
    "wl.list_assays(workspace_name=workspace_name)"
   ]
  },
  {
   "cell_type": "markdown",
   "metadata": {},
   "source": [
    "### Get Assay Results\n",
    "\n",
    "Get assay results."
   ]
  },
  {
   "cell_type": "code",
   "execution_count": 76,
   "metadata": {},
   "outputs": [
    {
     "data": {
      "image/png": "[encoded data removed]",
      "text/plain": [
       "<Figure size 432x288 with 1 Axes>"
      ]
     },
     "metadata": {
      "needs_background": "light"
     },
     "output_type": "display_data"
    }
   ],
   "source": [
    "assay_start = datetime.datetime.now(datetime.timezone.utc)+datetime.timedelta(days=-1)\n",
    "assay_end = datetime.datetime.now(datetime.timezone.utc)\n",
    "\n",
    "assay_results = wl.get_assay_results(assay_id=assay_id,\n",
    "                     start=assay_start,\n",
    "                     end=assay_end\n",
    "                    )\n",
    "\n",
    "assay_results.chart_scores()"
   ]
  },
  {
   "cell_type": "markdown",
   "metadata": {},
   "source": [
    "Get assay results filtered by workspace id."
   ]
  },
  {
   "cell_type": "code",
   "execution_count": 77,
   "metadata": {},
   "outputs": [
    {
     "data": {
      "image/png": "[encoded data removed]",
      "text/plain": [
       "<Figure size 432x288 with 1 Axes>"
      ]
     },
     "metadata": {
      "needs_background": "light"
     },
     "output_type": "display_data"
    }
   ],
   "source": [
    "assay_start = datetime.datetime.now(datetime.timezone.utc)+datetime.timedelta(days=-1)\n",
    "assay_end = datetime.datetime.now(datetime.timezone.utc)\n",
    "\n",
    "assay_results = wl.get_assay_results(assay_id=assay_id,\n",
    "                     workspace_id=workspace_id,\n",
    "                     start=assay_start,\n",
    "                     end=assay_end\n",
    "                    )\n",
    "\n",
    "assay_results.chart_scores()"
   ]
  },
  {
   "cell_type": "markdown",
   "metadata": {},
   "source": [
    "Get assay results filtered by workspace name."
   ]
  },
  {
   "cell_type": "code",
   "execution_count": 78,
   "metadata": {},
   "outputs": [
    {
     "data": {
      "image/png": "[encoded data removed]",
      "text/plain": [
       "<Figure size 432x288 with 1 Axes>"
      ]
     },
     "metadata": {
      "needs_background": "light"
     },
     "output_type": "display_data"
    }
   ],
   "source": [
    "assay_start = datetime.datetime.now(datetime.timezone.utc)+datetime.timedelta(days=-1)\n",
    "assay_end = datetime.datetime.now(datetime.timezone.utc)\n",
    "\n",
    "assay_results = wl.get_assay_results(assay_id=assay_id,\n",
    "                     workspace_name=workspace_name,\n",
    "                     start=assay_start,\n",
    "                     end=assay_end\n",
    "                    )\n",
    "\n",
    "assay_results.chart_scores()"
   ]
  },
  {
   "cell_type": "markdown",
   "metadata": {},
   "source": [
    "### Get Assay Info\n",
    "\n",
    "Get assay info."
   ]
  },
  {
   "cell_type": "code",
   "execution_count": 79,
   "metadata": {},
   "outputs": [
    {
     "data": {
      "text/html": [
       "<table>\n",
       "          <tr><th>Field</th><th>Value</th></tr>\n",
       "          <tr><td>ID</td><td>2a5f2692-1ce4-4710-af08-ddac0fe6dc23</td></tr>\n",
       "          <tr><td>Name</td><td>assays from date baseline tutorial 2</td></tr>\n",
       "          <tr><td>Active</td><td>True</td></tr>\n",
       "          \n",
       "        <tr><td>Pipeline</td><td>assay-demonstration-tutorial</td></tr>\n",
       "        \n",
       "        <tr><td>Workspace ID</td><td>8</td></tr>\n",
       "        \n",
       "          <tr><td>Workspace Name</td><td>assay-demonstration-tutorial-2</td></tr>\n",
       "          \n",
       "        <tr><td>Monitoring</td><td>['out.variable.0']</td></tr>\n",
       "        \n",
       "          \n",
       "        <tr><td>Window Width</td><td>60 seconds</td></tr>\n",
       "        \n",
       "          \n",
       "        <tr><td>First Run</td><td>2024-20-Aug 15:48:06</td></tr>\n",
       "        \n",
       "        <tr><td>Run Frequency</td><td>1 Minute</td></tr>\n",
       "        \n",
       "          \n",
       "        <tr><td>Bin Mode</td><td>5 Quantile bins</td></tr>\n",
       "        \n",
       "        <tr><td>Aggregation</td><td>Cumulative</td></tr>\n",
       "        <tr><td>Metric</td><td>MaxDiff</td></tr>\n",
       "        \n",
       "          <tr><td>Last Run</td><td>2024-20-Aug 16:13:06</td></tr>\n",
       "          <tr><td>Next Run</td><td>2024-20-Aug 16:14:06</td></tr>\n",
       "          <tr><td>Created At</td><td>2024-20-Aug 15:56:35</td></tr>\n",
       "          <tr><td>Updated At</td><td>2024-20-Aug 16:12:06</td></tr>\n",
       "        </table>"
      ],
      "text/plain": [
       "<wallaroo.assays_v2.AssayV2 at 0x7f1dc9535be0>"
      ]
     },
     "execution_count": 79,
     "metadata": {},
     "output_type": "execute_result"
    }
   ],
   "source": [
    "wl.get_assay_info(assay_id=assay_id)"
   ]
  },
  {
   "cell_type": "markdown",
   "metadata": {},
   "source": [
    "Get assay info filtered by workspace id."
   ]
  },
  {
   "cell_type": "code",
   "execution_count": 80,
   "metadata": {},
   "outputs": [
    {
     "data": {
      "text/html": [
       "<table>\n",
       "          <tr><th>Field</th><th>Value</th></tr>\n",
       "          <tr><td>ID</td><td>2a5f2692-1ce4-4710-af08-ddac0fe6dc23</td></tr>\n",
       "          <tr><td>Name</td><td>assays from date baseline tutorial 2</td></tr>\n",
       "          <tr><td>Active</td><td>True</td></tr>\n",
       "          \n",
       "        <tr><td>Pipeline</td><td>assay-demonstration-tutorial</td></tr>\n",
       "        \n",
       "        <tr><td>Workspace ID</td><td>8</td></tr>\n",
       "        \n",
       "          <tr><td>Workspace Name</td><td>assay-demonstration-tutorial-2</td></tr>\n",
       "          \n",
       "        <tr><td>Monitoring</td><td>['out.variable.0']</td></tr>\n",
       "        \n",
       "          \n",
       "        <tr><td>Window Width</td><td>60 seconds</td></tr>\n",
       "        \n",
       "          \n",
       "        <tr><td>First Run</td><td>2024-20-Aug 15:48:06</td></tr>\n",
       "        \n",
       "        <tr><td>Run Frequency</td><td>1 Minute</td></tr>\n",
       "        \n",
       "          \n",
       "        <tr><td>Bin Mode</td><td>5 Quantile bins</td></tr>\n",
       "        \n",
       "        <tr><td>Aggregation</td><td>Cumulative</td></tr>\n",
       "        <tr><td>Metric</td><td>MaxDiff</td></tr>\n",
       "        \n",
       "          <tr><td>Last Run</td><td>2024-20-Aug 16:13:06</td></tr>\n",
       "          <tr><td>Next Run</td><td>2024-20-Aug 16:14:06</td></tr>\n",
       "          <tr><td>Created At</td><td>2024-20-Aug 15:56:35</td></tr>\n",
       "          <tr><td>Updated At</td><td>2024-20-Aug 16:12:06</td></tr>\n",
       "        </table>"
      ],
      "text/plain": [
       "<wallaroo.assays_v2.AssayV2 at 0x7f1dc94ead90>"
      ]
     },
     "execution_count": 80,
     "metadata": {},
     "output_type": "execute_result"
    }
   ],
   "source": [
    "wl.get_assay_info(assay_id=assay_id, \n",
    "                 workspace_id=workspace_id)"
   ]
  },
  {
   "cell_type": "markdown",
   "metadata": {},
   "source": [
    "Get assay info filtered by workspace name."
   ]
  },
  {
   "cell_type": "code",
   "execution_count": 81,
   "metadata": {},
   "outputs": [
    {
     "data": {
      "text/html": [
       "<table>\n",
       "          <tr><th>Field</th><th>Value</th></tr>\n",
       "          <tr><td>ID</td><td>2a5f2692-1ce4-4710-af08-ddac0fe6dc23</td></tr>\n",
       "          <tr><td>Name</td><td>assays from date baseline tutorial 2</td></tr>\n",
       "          <tr><td>Active</td><td>True</td></tr>\n",
       "          \n",
       "        <tr><td>Pipeline</td><td>assay-demonstration-tutorial</td></tr>\n",
       "        \n",
       "        <tr><td>Workspace ID</td><td>8</td></tr>\n",
       "        \n",
       "          <tr><td>Workspace Name</td><td>assay-demonstration-tutorial-2</td></tr>\n",
       "          \n",
       "        <tr><td>Monitoring</td><td>['out.variable.0']</td></tr>\n",
       "        \n",
       "          \n",
       "        <tr><td>Window Width</td><td>60 seconds</td></tr>\n",
       "        \n",
       "          \n",
       "        <tr><td>First Run</td><td>2024-20-Aug 15:48:06</td></tr>\n",
       "        \n",
       "        <tr><td>Run Frequency</td><td>1 Minute</td></tr>\n",
       "        \n",
       "          \n",
       "        <tr><td>Bin Mode</td><td>5 Quantile bins</td></tr>\n",
       "        \n",
       "        <tr><td>Aggregation</td><td>Cumulative</td></tr>\n",
       "        <tr><td>Metric</td><td>MaxDiff</td></tr>\n",
       "        \n",
       "          <tr><td>Last Run</td><td>2024-20-Aug 16:13:06</td></tr>\n",
       "          <tr><td>Next Run</td><td>2024-20-Aug 16:14:06</td></tr>\n",
       "          <tr><td>Created At</td><td>2024-20-Aug 15:56:35</td></tr>\n",
       "          <tr><td>Updated At</td><td>2024-20-Aug 16:12:06</td></tr>\n",
       "        </table>"
      ],
      "text/plain": [
       "<wallaroo.assays_v2.AssayV2 at 0x7f1dcb6d4af0>"
      ]
     },
     "execution_count": 81,
     "metadata": {},
     "output_type": "execute_result"
    }
   ],
   "source": [
    "wl.get_assay_info(assay_id=assay_id, \n",
    "                 workspace_name=workspace_name)"
   ]
  }
 ],
 "metadata": {
  "kernelspec": {
   "display_name": "Python 3 (ipykernel)",
   "language": "python",
   "name": "python3"
  },
  "language_info": {
   "codemirror_mode": {
    "name": "ipython",
    "version": 3
   },
   "file_extension": ".py",
   "mimetype": "text/x-python",
   "name": "python",
   "nbconvert_exporter": "python",
   "pygments_lexer": "ipython3",
   "version": "3.9.13"
  }
 },
 "nbformat": 4,
 "nbformat_minor": 4
}
