{
 "cells": [
  {
   "cell_type": "markdown",
   "metadata": {},
   "source": [
    "This tutorial and the assets can be downloaded as part of the [Wallaroo Tutorials repository](https://github.com/WallarooLabs/Wallaroo_Tutorials/blob/wallaroo2024.1_tutorials/wallaroo-observe/houseprice-saga).\n",
    "\n",
    "## House Price Testing Life Cycle Succinct Version\n",
    "\n",
    "This tutorial simulates using Wallaroo for testing a model for inference outliers, potential model drift, and methods to test competitive models against each other and deploy the final version to use.  This demonstrates using assays to detect model or data drift, then Wallaroo Shadow Deploy to compare different models to determine which one is most fit for an organization's needs.  These features allow organizations to monitor model performance and accuracy then swap out models as needed.\n",
    "\n",
    "* **IMPORTANT NOTE**: This tutorial assumes that the House Price Model Life Cycle Preparation notebook was run before this notebook, and that the workspace, pipeline and models used are the same.  This is **critical** for the section on Assays below.  If the preparation notebook has not been run, skip the Assays section as there will be no historical data for the assays to function on.\n",
    "\n",
    "This tutorial will demonstrate how to:\n",
    "\n",
    "1. Select or create a workspace, pipeline and upload the champion model.\n",
    "1. Add a pipeline step with the champion model, then deploy the pipeline and perform sample inferences.\n",
    "1. Create an assay and set a baseline, then demonstrate inferences that trigger the assay alert threshold.\n",
    "    1. This process will use an existing assay to demonstrate the \n",
    "1. Swap out the pipeline step with the champion model with a shadow deploy step that compares the champion model against two competitors.\n",
    "1. Evaluate the results of the champion versus competitor models.\n",
    "1. Swap out the existing model with a competitor without undeploying the pipeline.  This allows the pipeline to continue to receive inference requests while swapping the model.\n",
    "1. Undeploy the pipeline at the end of the tutorial.\n",
    "\n",
    "This tutorial provides the following:\n",
    "\n",
    "* Models:\n",
    "  * `models/rf_model.onnx`: The champion model that has been used in this environment for some time.\n",
    "  * `models/xgb_model.onnx` and `models/gbr_model.onnx`: Rival models that will be tested against the champion.\n",
    "* Data:\n",
    "  * `data/xtest-1.df.json` and `data/xtest-1k.df.json`:  DataFrame JSON inference inputs with 1 input and 1,000 inputs.\n",
    "  * `data/xtest-1k.arrow`:  Apache Arrow inference inputs with 1 input and 1,000 inputs.\n",
    "\n",
    "## Prerequisites\n",
    "\n",
    "* A deployed Wallaroo instance\n",
    "* The following Python libraries installed:\n",
    "  * [`wallaroo`](https://pypi.org/project/wallaroo/): The Wallaroo SDK. Included with the Wallaroo JupyterHub service by default.\n",
    "  * [`pandas`](https://pypi.org/project/pandas/): Pandas, mainly used for Pandas DataFrame"
   ]
  },
  {
   "cell_type": "markdown",
   "metadata": {},
   "source": [
    "## Initial Steps\n",
    "\n",
    "### Import libraries\n",
    "\n",
    "The first step is to import the libraries needed for this notebook."
   ]
  },
  {
   "cell_type": "code",
   "execution_count": 1,
   "metadata": {},
   "outputs": [],
   "source": [
    "import wallaroo\n",
    "from wallaroo.object import EntityNotFoundError\n",
    "from wallaroo.framework import Framework\n",
    "\n",
    "from IPython.display import display\n",
    "\n",
    "# used to display DataFrame information without truncating\n",
    "from IPython.display import display\n",
    "import pandas as pd\n",
    "pd.set_option('display.max_colwidth', None)\n",
    "\n",
    "import datetime\n",
    "import time\n"
   ]
  },
  {
   "cell_type": "markdown",
   "metadata": {},
   "source": [
    "### Connect to the Wallaroo Instance\n",
    "\n",
    "The first step is to connect to Wallaroo through the Wallaroo client.  The Python library is included in the Wallaroo install and available through the Jupyter Hub interface provided with your Wallaroo environment.\n",
    "\n",
    "This is accomplished using the `wallaroo.Client()` command, which provides a URL to grant the SDK permission to your specific Wallaroo environment.  When displayed, enter the URL into a browser and confirm permissions.  Store the connection into a variable that can be referenced later.\n",
    "\n",
    "If logging into the Wallaroo instance through the internal JupyterHub service, use `wl = wallaroo.Client()`.  For more information on Wallaroo Client settings, see the [Client Connection guide](https://docs.wallaroo.ai/wallaroo-developer-guides/wallaroo-sdk-guides/wallaroo-sdk-essentials-guide/wallaroo-sdk-essentials-client/)."
   ]
  },
  {
   "cell_type": "code",
   "execution_count": 2,
   "metadata": {},
   "outputs": [],
   "source": [
    "# Login through local Wallaroo instance\n",
    "\n",
    "wl = wallaroo.Client()"
   ]
  },
  {
   "cell_type": "markdown",
   "metadata": {},
   "source": [
    "### Retrieve the Workspace\n",
    "\n",
    "For our example, the workspace, pipeline and model have already been created in the Wallaroo instance.  We will retrieve these and store them to local variables for our examples.\n",
    "\n",
    "\n",
    "\n",
    "We will create a workspace to manage our pipeline and models.  The following variables will set the name of our sample workspace then set it as the current workspace.\n",
    "\n",
    "Workspace, pipeline, and model names should be unique to each user, so we'll add in a randomly generated suffix so multiple people can run this tutorial in a Wallaroo instance without effecting each other."
   ]
  },
  {
   "cell_type": "code",
   "execution_count": 3,
   "metadata": {},
   "outputs": [],
   "source": [
    "workspace_name = f'housepricesagaworkspacebaseline-examples'\n",
    "main_pipeline_name = f'housepricesagapipeline'\n",
    "model_name_control = f'housepricesagacontrol'\n",
    "model_file_name_control = './models/rf_model.onnx'"
   ]
  },
  {
   "cell_type": "code",
   "execution_count": 5,
   "metadata": {},
   "outputs": [
    {
     "data": {
      "text/plain": [
       "{'name': 'housepricesagaworkspacebaseline-examples', 'id': 86, 'archived': False, 'created_by': 'd6a42dd8-1da9-4405-bb80-7c4b42e38b52', 'created_at': '2023-10-31T16:29:48.848568+00:00', 'models': [{'name': 'housepricesagacontrol', 'versions': 1, 'owner_id': '\"\"', 'last_update_time': datetime.datetime(2023, 10, 31, 16, 29, 49, 151343, tzinfo=tzutc()), 'created_at': datetime.datetime(2023, 10, 31, 16, 29, 49, 151343, tzinfo=tzutc())}], 'pipelines': [{'name': 'housepricesagapipeline', 'create_time': datetime.datetime(2023, 10, 31, 16, 29, 49, 230421, tzinfo=tzutc()), 'definition': '[]'}]}"
      ]
     },
     "execution_count": 5,
     "metadata": {},
     "output_type": "execute_result"
    }
   ],
   "source": [
    "workspace = wl.get_workspace(name=workspace_name, create_if_not_exist=True)\n",
    "\n",
    "wl.set_current_workspace(workspace)"
   ]
  },
  {
   "cell_type": "markdown",
   "metadata": {},
   "source": [
    "### Upload The Champion Model\n",
    "\n",
    "For our example, we will retrieve the previously uploaded champion model that has been trained to derive house prices from a variety of inputs.  The model file is `rf_model.onnx`, and is uploaded with the name `housingcontrol`."
   ]
  },
  {
   "cell_type": "code",
   "execution_count": 6,
   "metadata": {},
   "outputs": [
    {
     "data": {
      "text/html": [
       "<table>\n",
       "        <tr>\n",
       "          <td>Name</td>\n",
       "          <td>housepricesagacontrol</td>\n",
       "        </tr>\n",
       "        <tr>\n",
       "          <td>Version</td>\n",
       "          <td>f700b294-6b5c-4faf-92d8-401c9bf56b03</td>\n",
       "        </tr>\n",
       "        <tr>\n",
       "          <td>File Name</td>\n",
       "          <td>rf_model.onnx</td>\n",
       "        </tr>\n",
       "        <tr>\n",
       "          <td>SHA</td>\n",
       "          <td>e22a0831aafd9917f3cc87a15ed267797f80e2afa12ad7d8810ca58f173b8cc6</td>\n",
       "        </tr>\n",
       "        <tr>\n",
       "          <td>Status</td>\n",
       "          <td>ready</td>\n",
       "        </tr>\n",
       "        <tr>\n",
       "          <td>Image Path</td>\n",
       "          <td>None</td>\n",
       "        </tr>\n",
       "        <tr>\n",
       "          <td>Architecture</td>\n",
       "          <td>None</td>\n",
       "        </tr>\n",
       "        <tr>\n",
       "          <td>Updated At</td>\n",
       "          <td>2023-31-Oct 16:29:49</td>\n",
       "        </tr>\n",
       "      </table>"
      ],
      "text/plain": [
       "{'name': 'housepricesagacontrol', 'version': 'f700b294-6b5c-4faf-92d8-401c9bf56b03', 'file_name': 'rf_model.onnx', 'image_path': None, 'arch': None, 'last_update_time': datetime.datetime(2023, 10, 31, 16, 29, 49, 151343, tzinfo=tzutc())}"
      ]
     },
     "execution_count": 6,
     "metadata": {},
     "output_type": "execute_result"
    }
   ],
   "source": [
    "housing_model_control = wl.get_model(model_name_control)\n",
    "housing_model_control"
   ]
  },
  {
   "cell_type": "markdown",
   "metadata": {},
   "source": [
    "## Standard Pipeline Steps\n",
    "\n",
    "### Build the Pipeline\n",
    "\n",
    "This pipeline is made to be an example of an existing situation where a model is deployed and being used for inferences in a production environment.  We'll call it `housepricepipeline`, set `housingcontrol` as a pipeline step, then run a few sample inferences.\n",
    "\n",
    "This pipeline will be a simple one - just a single pipeline step, with a single validation.\n",
    "\n",
    "Anomaly detection allows organizations to set validation parameters in a pipeline. A validation is added to a pipeline to test data based on an expression, and flag any inferences where the validation failed inference result and the pipeline logs.\n",
    "\n",
    "Validations are added through the Pipeline `add_validation(name, validation)` command which uses the following parameters:\n",
    "\n",
    "| Parameter | Type | Description |\n",
    "|---|---|---|\n",
    "| name | String (**Required**) | The name of the validation. |\n",
    "| Validation | [Expression](https://docs.wallaroo.ai/wallaroo-developer-guides/wallaroo-sdk-guides/wallaroo-sdk-reference-guide/checks/#Expression) (**Required**) | The validation test command in the format `model_name.outputs][field][index] {Operation} {Value}`. |\n",
    "\n",
    "For this example, we want to detect the outputs of `housing_model_control` and validate that values are less than `1,500,000`.  Any outputs greater than that will trigger a `check_failure` which is shown in the output."
   ]
  },
  {
   "cell_type": "code",
   "execution_count": 25,
   "metadata": {},
   "outputs": [
    {
     "name": "stdout",
     "output_type": "stream",
     "text": [
      "Waiting for undeployment - this will take up to 45s ..................................... ok\n",
      "Waiting for deployment - this will take up to 45s .............. ok\n"
     ]
    },
    {
     "data": {
      "text/html": [
       "<table><tr><th>name</th> <td>housepricesagapipeline</td></tr><tr><th>created</th> <td>2023-10-31 16:29:49.230421+00:00</td></tr><tr><th>last_updated</th> <td>2023-10-31 16:47:28.679255+00:00</td></tr><tr><th>deployed</th> <td>True</td></tr><tr><th>tags</th> <td></td></tr><tr><th>versions</th> <td>13704ba7-fac9-4055-8930-d8ed9a66909c, ba5748ac-8225-47e3-9842-e8f49b658c58, aeff29b2-69b3-4ee2-b501-c97e085ed893, 8e6a0e06-e415-43ab-85c1-76560e0f5aff, d72af4cf-de94-417a-8cb2-abc6b3ff4ceb, c834a1ad-b574-47e2-902b-db8a3466494a, 4500760b-00be-48a4-aff1-89079664e203, 097caab6-9087-4e6b-a936-667ff1ebdb02</td></tr><tr><th>steps</th> <td>housepricesagacontrol</td></tr><tr><th>published</th> <td>False</td></tr></table>"
      ],
      "text/plain": [
       "{'name': 'housepricesagapipeline', 'create_time': datetime.datetime(2023, 10, 31, 16, 29, 49, 230421, tzinfo=tzutc()), 'definition': '[{\\'ModelInference\\': {\\'models\\': [{\\'name\\': \\'housepricesagacontrol\\', \\'version\\': \\'f700b294-6b5c-4faf-92d8-401c9bf56b03\\', \\'sha\\': \\'e22a0831aafd9917f3cc87a15ed267797f80e2afa12ad7d8810ca58f173b8cc6\\'}]}}, {\\'Check\\': {\\'tree\\': [\\'{\"values\": {\"price too high\": {\"root\": {\"node\": \"binop\", \"op\": \"<\", \"left\": {\"node\": \"variable\", \"variant_id\": {\"name\": \"housepricesagacontrol\"}, \"position\": \"output\", \"key\": [0, 0]}, \"right\": {\"node\": \"literal\", \"float\": 1500000.0}}, \"required_data\": [{\"name\": \"housepricesagacontrol\"}]}}, \"gauges\": [], \"validations\": [\"price too high\"]}\\']}}]'}"
      ]
     },
     "execution_count": 25,
     "metadata": {},
     "output_type": "execute_result"
    }
   ],
   "source": [
    "mainpipeline = wl.get_pipeline(main_pipeline_name)\n",
    "\n",
    "# removes any previous steps\n",
    "mainpipeline.undeploy()\n",
    "mainpipeline.clear()\n",
    "\n",
    "mainpipeline.add_model_step(housing_model_control)\n",
    "\n",
    "mainpipeline = mainpipeline.add_validation('price too high', housing_model_control.outputs[0][0] < 1500000.0)\n",
    "\n",
    "#minimum deployment config\n",
    "deploy_config = wallaroo.DeploymentConfigBuilder().replica_count(1).cpus(0.5).memory(\"1Gi\").build()\n",
    "mainpipeline.deploy(deployment_config = deploy_config)"
   ]
  },
  {
   "cell_type": "markdown",
   "metadata": {},
   "source": [
    "### Validation Testing\n",
    "\n",
    "Two validations will be tested:\n",
    "\n",
    "* One that should return a house value lower than 1,500,000.  The validation will pass so `check_failure` will be 0.\n",
    "* The other than should return a house value greater than 1,500,000.  The validation will fail, so `check_failure` will be 1."
   ]
  },
  {
   "cell_type": "code",
   "execution_count": 26,
   "metadata": {},
   "outputs": [
    {
     "data": {
      "text/html": [
       "<div>\n",
       "<style scoped>\n",
       "    .dataframe tbody tr th:only-of-type {\n",
       "        vertical-align: middle;\n",
       "    }\n",
       "\n",
       "    .dataframe tbody tr th {\n",
       "        vertical-align: top;\n",
       "    }\n",
       "\n",
       "    .dataframe thead th {\n",
       "        text-align: right;\n",
       "    }\n",
       "</style>\n",
       "<table border=\"1\" class=\"dataframe\">\n",
       "  <thead>\n",
       "    <tr style=\"text-align: right;\">\n",
       "      <th></th>\n",
       "      <th>time</th>\n",
       "      <th>out.variable</th>\n",
       "      <th>check_failures</th>\n",
       "    </tr>\n",
       "  </thead>\n",
       "  <tbody>\n",
       "    <tr>\n",
       "      <th>0</th>\n",
       "      <td>2023-10-31 16:47:49.877</td>\n",
       "      <td>[544392.06]</td>\n",
       "      <td>0</td>\n",
       "    </tr>\n",
       "  </tbody>\n",
       "</table>\n",
       "</div>"
      ],
      "text/plain": [
       "                     time out.variable  check_failures\n",
       "0 2023-10-31 16:47:49.877  [544392.06]               0"
      ]
     },
     "metadata": {},
     "output_type": "display_data"
    }
   ],
   "source": [
    "# Small value home\n",
    "\n",
    "normal_input = pd.DataFrame.from_records({\n",
    "        \"tensor\": [[\n",
    "            3.0,\n",
    "            2.25,\n",
    "            1620.0,\n",
    "            997.0,\n",
    "            2.5,\n",
    "            0.0,\n",
    "            0.0,\n",
    "            3.0,\n",
    "            8.0,\n",
    "            1540.0,\n",
    "            80.0,\n",
    "            47.5400009155,\n",
    "            -122.0260009766,\n",
    "            1620.0,\n",
    "            1068.0,\n",
    "            4.0,\n",
    "            0.0,\n",
    "            0.0\n",
    "        ]]\n",
    "    }\n",
    ")\n",
    "\n",
    "small_result = mainpipeline.infer(normal_input)\n",
    "\n",
    "display(small_result.loc[:,[\"time\", \"out.variable\", \"check_failures\"]])"
   ]
  },
  {
   "cell_type": "code",
   "execution_count": 27,
   "metadata": {},
   "outputs": [
    {
     "data": {
      "text/html": [
       "<div>\n",
       "<style scoped>\n",
       "    .dataframe tbody tr th:only-of-type {\n",
       "        vertical-align: middle;\n",
       "    }\n",
       "\n",
       "    .dataframe tbody tr th {\n",
       "        vertical-align: top;\n",
       "    }\n",
       "\n",
       "    .dataframe thead th {\n",
       "        text-align: right;\n",
       "    }\n",
       "</style>\n",
       "<table border=\"1\" class=\"dataframe\">\n",
       "  <thead>\n",
       "    <tr style=\"text-align: right;\">\n",
       "      <th></th>\n",
       "      <th>time</th>\n",
       "      <th>out.variable</th>\n",
       "      <th>check_failures</th>\n",
       "    </tr>\n",
       "  </thead>\n",
       "  <tbody>\n",
       "    <tr>\n",
       "      <th>0</th>\n",
       "      <td>2023-10-31 16:47:50.081</td>\n",
       "      <td>[1689843.1]</td>\n",
       "      <td>1</td>\n",
       "    </tr>\n",
       "  </tbody>\n",
       "</table>\n",
       "</div>"
      ],
      "text/plain": [
       "                     time out.variable  check_failures\n",
       "0 2023-10-31 16:47:50.081  [1689843.1]               1"
      ]
     },
     "metadata": {},
     "output_type": "display_data"
    }
   ],
   "source": [
    "# Big value home\n",
    "\n",
    "big_input = pd.DataFrame.from_records({\n",
    "        \"tensor\": [[\n",
    "            4.0,\n",
    "            4.5,\n",
    "            5770.0,\n",
    "            10050.0,\n",
    "            1.0,\n",
    "            0.0,\n",
    "            3.0,\n",
    "            5.0,\n",
    "            9.0,\n",
    "            3160.0,\n",
    "            2610.0,\n",
    "            47.6769981384,\n",
    "            -122.2750015259,\n",
    "            2950.0,\n",
    "            6700.0,\n",
    "            65.0,\n",
    "            0.0,\n",
    "            0.0\n",
    "        ]]\n",
    "    }\n",
    ")\n",
    "\n",
    "big_result = mainpipeline.infer(big_input)\n",
    "\n",
    "display(big_result.loc[:,[\"time\", \"out.variable\", \"check_failures\"]])"
   ]
  },
  {
   "cell_type": "markdown",
   "metadata": {},
   "source": [
    "### Anomaly Results\n",
    "\n",
    "We'll run through our previous batch, this time showing only those results outside of the validation, and a graph showing where the anomalies are against the other results.\n",
    "\n",
    "This time we will be using an Apache Arrow table to submit 1000 inferences in a single batch."
   ]
  },
  {
   "cell_type": "code",
   "execution_count": 28,
   "metadata": {},
   "outputs": [],
   "source": [
    "batch_inferences = mainpipeline.infer_from_file('./data/xtest-1k.arrow')\n",
    "\n",
    "large_inference_result =  batch_inferences.to_pandas()"
   ]
  },
  {
   "cell_type": "code",
   "execution_count": 29,
   "metadata": {},
   "outputs": [
    {
     "data": {
      "image/png": "[encoded data removed]",
      "text/plain": [
       "<Figure size 864x576 with 1 Axes>"
      ]
     },
     "metadata": {
      "needs_background": "light"
     },
     "output_type": "display_data"
    }
   ],
   "source": [
    "import matplotlib.pyplot as plt\n",
    "houseprices = pd.DataFrame({'sell_price': large_inference_result['out.variable'].apply(lambda x: x[0])})\n",
    "\n",
    "houseprices.hist(column='sell_price', bins=75, grid=False, figsize=(12,8))\n",
    "plt.axvline(x=1500000, color='red', ls='--')\n",
    "_ = plt.title('Distribution of predicted home sales price')"
   ]
  },
  {
   "cell_type": "markdown",
   "metadata": {},
   "source": [
    "## Shadow Deploy\n",
    "\n",
    "Let's assume that after analyzing the assay information we want to test two challenger models to our control.  We do that with the Shadow Deploy pipeline step.\n",
    "\n",
    "In Shadow Deploy, the pipeline step is added with the `add_shadow_deploy` method, with the champion model listed first, then an array of challenger models after.  **All** inference data is fed to **all** models, with the champion results displayed in the `out.variable` column, and the shadow results in the format `out_{model name}.variable`.  For example, since we named our challenger models `housingchallenger01` and `housingchallenger02`, the columns `out_housingchallenger01.variable` and `out_housingchallenger02.variable` have the shadow deployed model results.\n",
    "\n",
    "For this example, we will remove the previous pipeline step, then replace it with a shadow deploy step with `rf_model.onnx` as our champion, and models `xgb_model.onnx` and `gbr_model.onnx` as the challengers.  We'll deploy the pipeline and prepare it for sample inferences."
   ]
  },
  {
   "cell_type": "code",
   "execution_count": 30,
   "metadata": {},
   "outputs": [],
   "source": [
    "# Upload the challenger models\n",
    "\n",
    "model_name_challenger01 = 'housingchallenger01'\n",
    "model_file_name_challenger01 = './models/xgb_model.onnx'\n",
    "\n",
    "model_name_challenger02 = 'housingchallenger02'\n",
    "model_file_name_challenger02 = './models/gbr_model.onnx'\n",
    "\n",
    "housing_model_challenger01 = (wl.upload_model(model_name_challenger01, \n",
    "                                              model_file_name_challenger01, \n",
    "                                              framework=Framework.ONNX)\n",
    "                                              .configure(tensor_fields=[\"tensor\"])\n",
    "                            )\n",
    "housing_model_challenger02 = (wl.upload_model(model_name_challenger02, \n",
    "                                              model_file_name_challenger02, \n",
    "                                              framework=Framework.ONNX)\n",
    "                                              .configure(tensor_fields=[\"tensor\"])\n",
    "                            )\n"
   ]
  },
  {
   "cell_type": "code",
   "execution_count": 31,
   "metadata": {},
   "outputs": [
    {
     "name": "stdout",
     "output_type": "stream",
     "text": [
      " ok\n"
     ]
    },
    {
     "data": {
      "text/html": [
       "<table><tr><th>name</th> <td>housepricesagapipeline</td></tr><tr><th>created</th> <td>2023-10-31 16:29:49.230421+00:00</td></tr><tr><th>last_updated</th> <td>2023-10-31 16:47:54.645371+00:00</td></tr><tr><th>deployed</th> <td>True</td></tr><tr><th>tags</th> <td></td></tr><tr><th>versions</th> <td>7b0de2c4-3feb-4c2f-a26f-37c1e9d38dbc, 13704ba7-fac9-4055-8930-d8ed9a66909c, ba5748ac-8225-47e3-9842-e8f49b658c58, aeff29b2-69b3-4ee2-b501-c97e085ed893, 8e6a0e06-e415-43ab-85c1-76560e0f5aff, d72af4cf-de94-417a-8cb2-abc6b3ff4ceb, c834a1ad-b574-47e2-902b-db8a3466494a, 4500760b-00be-48a4-aff1-89079664e203, 097caab6-9087-4e6b-a936-667ff1ebdb02</td></tr><tr><th>steps</th> <td>housepricesagacontrol</td></tr><tr><th>published</th> <td>False</td></tr></table>"
      ],
      "text/plain": [
       "{'name': 'housepricesagapipeline', 'create_time': datetime.datetime(2023, 10, 31, 16, 29, 49, 230421, tzinfo=tzutc()), 'definition': '[{\\'ModelInference\\': {\\'models\\': [{\\'name\\': \\'housepricesagacontrol\\', \\'version\\': \\'f700b294-6b5c-4faf-92d8-401c9bf56b03\\', \\'sha\\': \\'e22a0831aafd9917f3cc87a15ed267797f80e2afa12ad7d8810ca58f173b8cc6\\'}, {\\'name\\': \\'housingchallenger01\\', \\'version\\': \\'0c8937c5-6c25-4d36-847c-477697dfa508\\', \\'sha\\': \\'31e92d6ccb27b041a324a7ac22cf95d9d6cc3aa7e8263a229f7c4aec4938657c\\'}, {\\'name\\': \\'housingchallenger02\\', \\'version\\': \\'3fd63fc5-e734-48d5-a3d3-deac7944e76c\\', \\'sha\\': \\'ed6065a79d841f7e96307bb20d5ef22840f15da0b587efb51425c7ad60589d6a\\'}]}}, {\\'AuditResults\\': {\\'from\\': 1, \\'to\\': None}}, {\\'MultiOut\\': {}}, {\\'Check\\': {\\'tree\\': [\\'{\"values\": {\"price too high\": {\"root\": {\"node\": \"binop\", \"op\": \"<\", \"left\": {\"node\": \"variable\", \"variant_id\": {\"name\": \"housepricesagacontrol\"}, \"position\": \"output\", \"key\": [0, 0]}, \"right\": {\"node\": \"literal\", \"float\": 1500000.0}}, \"required_data\": [{\"name\": \"housepricesagacontrol\"}]}}, \"gauges\": [], \"validations\": [\"price too high\"]}\\']}}]'}"
      ]
     },
     "execution_count": 31,
     "metadata": {},
     "output_type": "execute_result"
    }
   ],
   "source": [
    "# Add the new shadow deploy step with our challenger models\n",
    "mainpipeline.replace_with_shadow_deploy(0, housing_model_control, [housing_model_challenger01, housing_model_challenger02])\n",
    "\n",
    "# Deploy the pipeline with the new shadow step\n",
    "#minimum deployment config\n",
    "deploy_config = wallaroo.DeploymentConfigBuilder().replica_count(1).cpus(0.5).memory(\"1Gi\").build()\n",
    "mainpipeline.deploy(deployment_config = deploy_config)"
   ]
  },
  {
   "cell_type": "markdown",
   "metadata": {},
   "source": [
    "### Shadow Deploy Comparison\n",
    "\n",
    "We can now perform a comparison between the different model results in one graph."
   ]
  },
  {
   "cell_type": "code",
   "execution_count": 33,
   "metadata": {},
   "outputs": [
    {
     "data": {
      "image/png": "[encoded data removed]",
      "text/plain": [
       "<Figure size 864x576 with 1 Axes>"
      ]
     },
     "metadata": {
      "needs_background": "light"
     },
     "output_type": "display_data"
    }
   ],
   "source": [
    "shadow_result = mainpipeline.infer_from_file('./data/xtest-1k.arrow')\n",
    "\n",
    "shadow_outputs =  shadow_result.to_pandas()\n",
    "\n",
    "import matplotlib.pyplot as plt\n",
    "d=houseprices_primary = pd.DataFrame({'sell_price': shadow_outputs['out.variable'].apply(lambda x: x[0])})\n",
    "d1=houseprices_challenger1 = pd.DataFrame({'sell_price': shadow_outputs['out_housingchallenger01.variable'].apply(lambda x: x[0])})\n",
    "d2=houseprices_challenger2 = pd.DataFrame({'sell_price': shadow_outputs['out_housingchallenger02.variable'].apply(lambda x: x[0])})\n",
    "plt.figure(figsize=(12,8))\n",
    "plt.hist(d, bins=75, histtype=\"step\", label=\"primary model\")\n",
    "plt.hist(d1 , bins=75, histtype=\"step\", label=\"challenger 1\")\n",
    "plt.hist(d2 , bins=75, histtype=\"step\", label=\"challenger 2\")\n",
    "plt.axvline(x=1500000.0, color='red', ls='--')\n",
    "plt.legend(prop={'size': 15})\n",
    "_ = plt.title('Distribution of predicted home sales price across the primary model and its challengers')\n",
    "plt.show()"
   ]
  },
  {
   "cell_type": "markdown",
   "metadata": {},
   "source": [
    "## Model Swap\n",
    "\n",
    "Now that we've completed our testing, we can swap our deployed model in the original `housepricingpipeline` with one we feel works better.\n",
    "\n",
    "We'll start by **removing** the A/B Testing pipeline step, then going back to a **single pipeline step with the champion model** and perform a test inference.\n",
    "\n",
    "When going from a testing step such as A/B Testing or Shadow Deploy, it is best to undeploy the pipeline, change the steps, then deploy the pipeline.  In a production environment, there should be two pipelines:  One for production, the other for testing models.  Since this example uses one pipeline for simplicity, we will undeploy our main pipeline and reset it back to a one-step pipeline with the current champion model as our pipeline step.\n",
    "\n",
    "Once done, we'll perform the hot swap with the model `gbr_model.onnx`, which was labeled `housing_model_challenger02` in a previous step.  We'll do an inference with the same data as used with the challenger model.  Note that previously, the inference through the original model returned `[718013.7]`."
   ]
  },
  {
   "cell_type": "code",
   "execution_count": 35,
   "metadata": {},
   "outputs": [
    {
     "name": "stdout",
     "output_type": "stream",
     "text": [
      "Waiting for undeployment - this will take up to 45s ........ ok\n",
      "Waiting for deployment - this will take up to 45s ......... ok\n"
     ]
    },
    {
     "data": {
      "text/html": [
       "<div>\n",
       "<style scoped>\n",
       "    .dataframe tbody tr th:only-of-type {\n",
       "        vertical-align: middle;\n",
       "    }\n",
       "\n",
       "    .dataframe tbody tr th {\n",
       "        vertical-align: top;\n",
       "    }\n",
       "\n",
       "    .dataframe thead th {\n",
       "        text-align: right;\n",
       "    }\n",
       "</style>\n",
       "<table border=\"1\" class=\"dataframe\">\n",
       "  <thead>\n",
       "    <tr style=\"text-align: right;\">\n",
       "      <th></th>\n",
       "      <th>time</th>\n",
       "      <th>in.tensor</th>\n",
       "      <th>out.variable</th>\n",
       "      <th>check_failures</th>\n",
       "    </tr>\n",
       "  </thead>\n",
       "  <tbody>\n",
       "    <tr>\n",
       "      <th>0</th>\n",
       "      <td>2023-10-31 16:49:36.321</td>\n",
       "      <td>[4.0, 2.25, 2200.0, 11250.0, 1.5, 0.0, 0.0, 5.0, 7.0, 1300.0, 900.0, 47.6845, -122.201, 2320.0, 10814.0, 94.0, 0.0, 0.0]</td>\n",
       "      <td>[682284.56]</td>\n",
       "      <td>0</td>\n",
       "    </tr>\n",
       "  </tbody>\n",
       "</table>\n",
       "</div>"
      ],
      "text/plain": [
       "                     time  \\\n",
       "0 2023-10-31 16:49:36.321   \n",
       "\n",
       "                                                                                                                  in.tensor  \\\n",
       "0  [4.0, 2.25, 2200.0, 11250.0, 1.5, 0.0, 0.0, 5.0, 7.0, 1300.0, 900.0, 47.6845, -122.201, 2320.0, 10814.0, 94.0, 0.0, 0.0]   \n",
       "\n",
       "  out.variable  check_failures  \n",
       "0  [682284.56]               0  "
      ]
     },
     "metadata": {},
     "output_type": "display_data"
    }
   ],
   "source": [
    "mainpipeline.undeploy()\n",
    "\n",
    "# remove the shadow deploy steps\n",
    "mainpipeline.clear()\n",
    "\n",
    "mainpipeline.add_model_step(housing_model_control)\n",
    "\n",
    "#minimum deployment config\n",
    "deploy_config = wallaroo.DeploymentConfigBuilder().replica_count(1).cpus(0.5).memory(\"1Gi\").build()\n",
    "mainpipeline.deploy(deployment_config = deploy_config)\n",
    "\n",
    "# Inference test\n",
    "normal_input = pd.DataFrame.from_records({\"tensor\": [[4.0,\n",
    "            2.25,\n",
    "            2200.0,\n",
    "            11250.0,\n",
    "            1.5,\n",
    "            0.0,\n",
    "            0.0,\n",
    "            5.0,\n",
    "            7.0,\n",
    "            1300.0,\n",
    "            900.0,\n",
    "            47.6845,\n",
    "            -122.201,\n",
    "            2320.0,\n",
    "            10814.0,\n",
    "            94.0,\n",
    "            0.0,\n",
    "            0.0]]})\n",
    "controlresult = mainpipeline.infer(normal_input)\n",
    "display(controlresult)"
   ]
  },
  {
   "cell_type": "markdown",
   "metadata": {},
   "source": [
    "Now we'll \"hot swap\" the control model.  We don't have to undeploy the pipeline - we can just swap the model out in that pipeline step and continue with only a millisecond or two lost while the swap was performed."
   ]
  },
  {
   "cell_type": "code",
   "execution_count": 37,
   "metadata": {},
   "outputs": [
    {
     "name": "stdout",
     "output_type": "stream",
     "text": [
      " ok\n"
     ]
    },
    {
     "data": {
      "text/html": [
       "<div>\n",
       "<style scoped>\n",
       "    .dataframe tbody tr th:only-of-type {\n",
       "        vertical-align: middle;\n",
       "    }\n",
       "\n",
       "    .dataframe tbody tr th {\n",
       "        vertical-align: top;\n",
       "    }\n",
       "\n",
       "    .dataframe thead th {\n",
       "        text-align: right;\n",
       "    }\n",
       "</style>\n",
       "<table border=\"1\" class=\"dataframe\">\n",
       "  <thead>\n",
       "    <tr style=\"text-align: right;\">\n",
       "      <th></th>\n",
       "      <th>time</th>\n",
       "      <th>in.tensor</th>\n",
       "      <th>out.variable</th>\n",
       "      <th>check_failures</th>\n",
       "    </tr>\n",
       "  </thead>\n",
       "  <tbody>\n",
       "    <tr>\n",
       "      <th>0</th>\n",
       "      <td>2023-10-31 16:50:17.942</td>\n",
       "      <td>[4.0, 2.25, 2200.0, 11250.0, 1.5, 0.0, 0.0, 5.0, 7.0, 1300.0, 900.0, 47.6845, -122.201, 2320.0, 10814.0, 94.0, 0.0, 0.0]</td>\n",
       "      <td>[770916.6]</td>\n",
       "      <td>0</td>\n",
       "    </tr>\n",
       "  </tbody>\n",
       "</table>\n",
       "</div>"
      ],
      "text/plain": [
       "                     time  \\\n",
       "0 2023-10-31 16:50:17.942   \n",
       "\n",
       "                                                                                                                  in.tensor  \\\n",
       "0  [4.0, 2.25, 2200.0, 11250.0, 1.5, 0.0, 0.0, 5.0, 7.0, 1300.0, 900.0, 47.6845, -122.201, 2320.0, 10814.0, 94.0, 0.0, 0.0]   \n",
       "\n",
       "  out.variable  check_failures  \n",
       "0   [770916.6]               0  "
      ]
     },
     "metadata": {},
     "output_type": "display_data"
    }
   ],
   "source": [
    "# Perform hot swap\n",
    "\n",
    "mainpipeline.replace_with_model_step(0, housing_model_challenger02).deploy()\n",
    "# wait for the swap to complete\n",
    "import time\n",
    "time.sleep(15)\n",
    "\n",
    "# inference after model swap\n",
    "normal_input = pd.DataFrame.from_records({\"tensor\": [[4.0,\n",
    "            2.25,\n",
    "            2200.0,\n",
    "            11250.0,\n",
    "            1.5,\n",
    "            0.0,\n",
    "            0.0,\n",
    "            5.0,\n",
    "            7.0,\n",
    "            1300.0,\n",
    "            900.0,\n",
    "            47.6845,\n",
    "            -122.201,\n",
    "            2320.0,\n",
    "            10814.0,\n",
    "            94.0,\n",
    "            0.0,\n",
    "            0.0]]})\n",
    "challengerresult = mainpipeline.infer(normal_input)\n",
    "display(challengerresult)"
   ]
  },
  {
   "cell_type": "code",
   "execution_count": 38,
   "metadata": {},
   "outputs": [
    {
     "data": {
      "text/plain": [
       "'Original model output: [682284.56]'"
      ]
     },
     "metadata": {},
     "output_type": "display_data"
    },
    {
     "data": {
      "text/plain": [
       "'Hot swapped model  output: [770916.6]'"
      ]
     },
     "metadata": {},
     "output_type": "display_data"
    }
   ],
   "source": [
    "# Display the difference between the two\n",
    "\n",
    "display(f'Original model output: {controlresult.loc[0][\"out.variable\"]}')\n",
    "display(f'Hot swapped model  output: {challengerresult.loc[0][\"out.variable\"]}')"
   ]
  },
  {
   "cell_type": "markdown",
   "metadata": {},
   "source": [
    "### Undeploy Main Pipeline\n",
    "\n",
    "With the examples and tutorial complete, we will undeploy the main pipeline and return the resources back to the Wallaroo instance."
   ]
  },
  {
   "cell_type": "code",
   "execution_count": 39,
   "metadata": {},
   "outputs": [
    {
     "name": "stdout",
     "output_type": "stream",
     "text": [
      "Waiting for undeployment - this will take up to 45s ..................................... ok\n"
     ]
    },
    {
     "data": {
      "text/html": [
       "<table><tr><th>name</th> <td>housepricesagapipeline</td></tr><tr><th>created</th> <td>2023-10-31 16:29:49.230421+00:00</td></tr><tr><th>last_updated</th> <td>2023-10-31 16:50:02.677896+00:00</td></tr><tr><th>deployed</th> <td>False</td></tr><tr><th>tags</th> <td></td></tr><tr><th>versions</th> <td>84be01ce-5869-4fdd-af45-8db6b8bf3ef8, 87a06ff0-f235-434e-a6d8-e49c51e63339, 427ec384-f689-4f72-be54-04b7577f7ba7, 7b0de2c4-3feb-4c2f-a26f-37c1e9d38dbc, 13704ba7-fac9-4055-8930-d8ed9a66909c, ba5748ac-8225-47e3-9842-e8f49b658c58, aeff29b2-69b3-4ee2-b501-c97e085ed893, 8e6a0e06-e415-43ab-85c1-76560e0f5aff, d72af4cf-de94-417a-8cb2-abc6b3ff4ceb, c834a1ad-b574-47e2-902b-db8a3466494a, 4500760b-00be-48a4-aff1-89079664e203, 097caab6-9087-4e6b-a936-667ff1ebdb02</td></tr><tr><th>steps</th> <td>housepricesagacontrol</td></tr><tr><th>published</th> <td>False</td></tr></table>"
      ],
      "text/plain": [
       "{'name': 'housepricesagapipeline', 'create_time': datetime.datetime(2023, 10, 31, 16, 29, 49, 230421, tzinfo=tzutc()), 'definition': \"[{'ModelInference': {'models': [{'name': 'housingchallenger02', 'version': '3fd63fc5-e734-48d5-a3d3-deac7944e76c', 'sha': 'ed6065a79d841f7e96307bb20d5ef22840f15da0b587efb51425c7ad60589d6a'}]}}]\"}"
      ]
     },
     "execution_count": 39,
     "metadata": {},
     "output_type": "execute_result"
    }
   ],
   "source": [
    "mainpipeline.undeploy()"
   ]
  }
 ],
 "metadata": {
  "kernelspec": {
   "display_name": "Python 3 (ipykernel)",
   "language": "python",
   "name": "python3"
  },
  "language_info": {
   "codemirror_mode": {
    "name": "ipython",
    "version": 3
   },
   "file_extension": ".py",
   "mimetype": "text/x-python",
   "name": "python",
   "nbconvert_exporter": "python",
   "pygments_lexer": "ipython3",
   "version": "3.9.13"
  },
  "vscode": {
   "interpreter": {
    "hash": "7dda4bf3640b7fafcd1648658b879b4cc9f6ba6084e8fb356fdaaa1a461d1690"
   }
  }
 },
 "nbformat": 4,
 "nbformat_minor": 4
}
