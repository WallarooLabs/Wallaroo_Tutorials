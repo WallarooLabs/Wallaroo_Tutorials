{
 "cells": [
  {
   "cell_type": "markdown",
   "metadata": {},
   "source": [
    "This tutorial and the assets can be downloaded as part of the [Wallaroo Tutorials repository](https://github.com/WallarooLabs/Wallaroo_Tutorials/tree/main/wallaroo-testing-tutorials/abtesting).\n",
    "\n",
    "## A/B Testing\n",
    "\n",
    "A/B testing is a method that provides the ability to test out ML models for performance, accuracy or other useful benchmarks.  A/B testing is contrasted with the Wallaroo Shadow Deployment feature.  In both cases, two sets of models are added to a pipeline step:\n",
    "\n",
    "* Control or Champion model:  The model currently used for inferences.\n",
    "* Challenger model(s): One or more models that are to be compared to the champion model.\n",
    "\n",
    "The two feature are different in this way:\n",
    "\n",
    "| Feature | Description |\n",
    "|---|---|\n",
    "| A/B Testing | A subset of inferences are submitted to either the champion ML model or a challenger ML model. |\n",
    "| Shadow Deploy | All inferences are submitted to the champion model and one or more challenger models. |\n",
    "\n",
    "So to repeat:  A/B testing submits *some* of the inference requests to the champion model, some to the challenger model with one set of outputs, while shadow testing submits *all* of the inference requests to champion and shadow models, and has separate outputs.\n",
    "\n",
    "This tutorial demonstrate how to conduct A/B testing in Wallaroo.  For this example we will be using an open source model that uses an [Aloha CNN LSTM model](https://www.researchgate.net/publication/348920204_Using_Auxiliary_Inputs_in_Deep_Learning_Models_for_Detecting_DGA-based_Domain_Names) for classifying Domain names as being either legitimate or being used for nefarious purposes such as malware distribution.  \n",
    "\n",
    "For our example, we will perform the following:\n",
    "\n",
    "* Create a workspace for our work.\n",
    "* Upload the Aloha model and a challenger model.\n",
    "* Create a pipeline that can ingest our submitted data with the champion model and the challenger model set into a A/B step.\n",
    "* Run a series of sample inferences to display inferences that are run through the champion model versus the challenger model, then determine which is more efficient.\n",
    "\n",
    "All sample data and models are available through the [Wallaroo Quick Start Guide Samples repository](https://github.com/WallarooLabs/quickstartguide_samples)."
   ]
  },
  {
   "cell_type": "markdown",
   "metadata": {},
   "source": [
    "## Steps\n",
    "\n",
    "### Import libraries\n",
    "\n",
    "Here we will import the libraries needed for this notebook."
   ]
  },
  {
   "cell_type": "code",
   "execution_count": 35,
   "metadata": {},
   "outputs": [],
   "source": [
    "import wallaroo\n",
    "from wallaroo.object import EntityNotFoundError\n",
    "import os\n",
    "import pandas as pd\n",
    "import json\n",
    "from IPython.display import display\n",
    "\n",
    "# used to display dataframe information without truncating\n",
    "from IPython.display import display\n",
    "pd.set_option('display.max_colwidth', None)"
   ]
  },
  {
   "cell_type": "code",
   "execution_count": 36,
   "metadata": {},
   "outputs": [
    {
     "data": {
      "text/plain": [
       "'2023.1.0'"
      ]
     },
     "execution_count": 36,
     "metadata": {},
     "output_type": "execute_result"
    }
   ],
   "source": [
    "wallaroo.__version__"
   ]
  },
  {
   "cell_type": "markdown",
   "metadata": {},
   "source": [
    "### Arrow Support\n",
    "\n",
    "As of the 2023.1 release, Wallaroo provides support for dataframe and Arrow for inference inputs.  This tutorial allows users to adjust their experience based on whether they have enabled Arrow support in their Wallaroo instance or not.\n",
    "\n",
    "If Arrow support has been enabled, `arrowEnabled=True`. If disabled or you're not sure, set it to `arrowEnabled=False`\n",
    "\n",
    "The examples below will be shown in an arrow enabled environment."
   ]
  },
  {
   "cell_type": "code",
   "execution_count": 37,
   "metadata": {},
   "outputs": [
    {
     "name": "stdout",
     "output_type": "stream",
     "text": [
      "True\n"
     ]
    }
   ],
   "source": [
    "import os\n",
    "# Only set the below to make the OS environment ARROW_ENABLED to TRUE.  Otherwise, leave as is.\n",
    "os.environ[\"ARROW_ENABLED\"]=\"True\"\n",
    "\n",
    "if \"ARROW_ENABLED\" not in os.environ or os.environ[\"ARROW_ENABLED\"].casefold() == \"False\".casefold():\n",
    "    arrowEnabled = False\n",
    "else:\n",
    "    arrowEnabled = True\n",
    "print(arrowEnabled)"
   ]
  },
  {
   "cell_type": "markdown",
   "metadata": {},
   "source": [
    "### Connect to the Wallaroo Instance\n",
    "\n",
    "This command will be used to set up a connection to the Wallaroo cluster and allow creating and use of Wallaroo inference engines."
   ]
  },
  {
   "cell_type": "code",
   "execution_count": 38,
   "metadata": {},
   "outputs": [],
   "source": [
    "# Client connection from local Wallaroo instance\n",
    "\n",
    "# wl = wallaroo.Client()\n",
    "\n",
    "# SSO login through keycloak\n",
    "\n",
    "wallarooPrefix = \"YOUR PREFIX\"\n",
    "wallarooSuffix = \"YOUR SUFFIX\"\n",
    "\n",
    "wallarooPrefix = \"sparkly-apple-3026\"\n",
    "wallarooSuffix = \"wallaroo.community\"\n",
    "\n",
    "wl = wallaroo.Client(api_endpoint=f\"https://{wallarooPrefix}.api.{wallarooSuffix}\", \n",
    "                    auth_endpoint=f\"https://{wallarooPrefix}.keycloak.{wallarooSuffix}\", \n",
    "                    auth_type=\"sso\")"
   ]
  },
  {
   "cell_type": "markdown",
   "metadata": {},
   "source": [
    "### Create Workspace\n",
    "\n",
    "We will create a workspace to manage our pipeline and models.  The following variables will set the name of our sample workspace then set it as the current workspace for all other commands.\n",
    "\n",
    "To allow this tutorial to be run multiple times or by multiple users in the same Wallaroo instance, a random 4 character prefix will be added to the workspace, pipeline, and model."
   ]
  },
  {
   "cell_type": "code",
   "execution_count": 51,
   "metadata": {},
   "outputs": [],
   "source": [
    "workspace_name = 'houseprice'\n",
    "pipeline_name = 'housepriceabtest'\n",
    "model_name_control = 'anomalyhousingcontrol'\n",
    "model_file_name_control = './models/house_price_keras.onnx'\n",
    "model_name_challenger = 'anomalyhousingchallenger'\n",
    "model_file_name_challenger = './models/house_price_retrained.onnx'"
   ]
  },
  {
   "cell_type": "code",
   "execution_count": 40,
   "metadata": {},
   "outputs": [],
   "source": [
    "def get_workspace(name):\n",
    "    workspace = None\n",
    "    for ws in wl.list_workspaces():\n",
    "        if ws.name() == name:\n",
    "            workspace= ws\n",
    "    if(workspace == None):\n",
    "        workspace = wl.create_workspace(name)\n",
    "    return workspace"
   ]
  },
  {
   "cell_type": "code",
   "execution_count": 41,
   "metadata": {},
   "outputs": [
    {
     "data": {
      "text/plain": [
       "{'name': 'houseprice', 'id': 152, 'archived': False, 'created_by': '138bd7e6-4dc8-4dc1-a760-c9e721ef3c37', 'created_at': '2023-03-13T20:43:33.923135+00:00', 'models': [{'name': 'anomalyhousingcontrol', 'versions': 2, 'owner_id': '\"\"', 'last_update_time': datetime.datetime(2023, 3, 13, 20, 43, 50, 275376, tzinfo=tzutc()), 'created_at': datetime.datetime(2023, 3, 13, 20, 43, 36, 960968, tzinfo=tzutc())}], 'pipelines': [{'name': 'housepriceanomaly', 'create_time': datetime.datetime(2023, 3, 13, 20, 43, 52, 9192, tzinfo=tzutc()), 'definition': '[]'}]}"
      ]
     },
     "execution_count": 41,
     "metadata": {},
     "output_type": "execute_result"
    }
   ],
   "source": [
    "workspace = get_workspace(workspace_name)\n",
    "\n",
    "wl.set_current_workspace(workspace)"
   ]
  },
  {
   "attachments": {},
   "cell_type": "markdown",
   "metadata": {},
   "source": [
    "### Set Up the Champion and Challenger Models\n",
    "\n",
    "We will be using two models.  The champion model was uploaded in the step `00_house-price-model-saga-anomaly-testing` as `anomalyhousingcontrol`, while the challenger model will be uploaded in the next steps.\n",
    "\n",
    "1. `house_price_keras.onnx`: model trained to determine house prices.\n",
    "2. `house_price_retrained.onnx`: a retrained version model trained to determine house prices."
   ]
  },
  {
   "attachments": {},
   "cell_type": "markdown",
   "metadata": {},
   "source": [
    "### Upload the Challenger Model\n",
    "\n",
    "We will upload the challenger model next labeled as `anomalyhousingchallenger`, and the control as `anomalyhousingcontrol`."
   ]
  },
  {
   "cell_type": "code",
   "execution_count": 52,
   "metadata": {},
   "outputs": [],
   "source": [
    "housing_model_control = wl.upload_model(model_name_control, model_file_name_control).configure()"
   ]
  },
  {
   "cell_type": "code",
   "execution_count": 43,
   "metadata": {},
   "outputs": [],
   "source": [
    "housing_model_challenger = wl.upload_model(model_name_challenger, model_file_name_challenger).configure()"
   ]
  },
  {
   "cell_type": "markdown",
   "metadata": {},
   "source": [
    "### Define The Pipeline\n",
    "\n",
    "Here we will configure a pipeline with two models and set the control model with a random split chance of receiving 2/3 of the data.  Because this is a random split, it is possible for one model or the other to receive more inferences than a strict 2:1 ratio, but the more inferences are run, the more likely it is for the proper ratio split."
   ]
  },
  {
   "cell_type": "code",
   "execution_count": 53,
   "metadata": {},
   "outputs": [],
   "source": [
    "pipeline = (wl.build_pipeline(pipeline_name)\n",
    "            .add_random_split([(2, housing_model_control), (1, housing_model_challenger )], \"session_id\"))"
   ]
  },
  {
   "cell_type": "markdown",
   "metadata": {},
   "source": [
    "### Deploy the pipeline\n",
    "\n",
    "Now we deploy the pipeline so we can run our inference through it."
   ]
  },
  {
   "cell_type": "code",
   "execution_count": 54,
   "metadata": {},
   "outputs": [],
   "source": [
    "experiment_pipeline = pipeline.deploy()"
   ]
  },
  {
   "cell_type": "code",
   "execution_count": 55,
   "metadata": {},
   "outputs": [
    {
     "data": {
      "text/plain": [
       "{'status': 'Running',\n",
       " 'details': [],\n",
       " 'engines': [{'ip': '10.48.1.80',\n",
       "   'name': 'engine-6bc7cbc765-7khpb',\n",
       "   'status': 'Running',\n",
       "   'reason': None,\n",
       "   'details': [],\n",
       "   'pipeline_statuses': {'pipelines': [{'id': 'housepriceabtest',\n",
       "      'status': 'Running'}]},\n",
       "   'model_statuses': {'models': [{'name': 'anomalyhousingcontrol',\n",
       "      'version': '30fd938b-90b8-42f7-92e7-b1058cddd4ac',\n",
       "      'sha': '809c9f9a3016e5ab2190900d5fcfa476ee7411aa7a9ac5d4041d1cbe874cf8b9',\n",
       "      'status': 'Running'}]}}],\n",
       " 'engine_lbs': [{'ip': '10.48.1.79',\n",
       "   'name': 'engine-lb-86bc6bd77b-mg5v9',\n",
       "   'status': 'Running',\n",
       "   'reason': None,\n",
       "   'details': []}],\n",
       " 'sidekicks': []}"
      ]
     },
     "execution_count": 55,
     "metadata": {},
     "output_type": "execute_result"
    }
   ],
   "source": [
    "experiment_pipeline.status()"
   ]
  },
  {
   "cell_type": "markdown",
   "metadata": {},
   "source": [
    "# Run a single inference\n",
    "Now we have our deployment set up let's run a single inference. In the results we will be able to see the inference results as well as which model the inference went to under model_id.  We'll run the inference request 5 times, with the odds are that the challenger model being run at least once."
   ]
  },
  {
   "cell_type": "code",
   "execution_count": 62,
   "metadata": {},
   "outputs": [
    {
     "data": {
      "text/html": [
       "<div>\n",
       "<style scoped>\n",
       "    .dataframe tbody tr th:only-of-type {\n",
       "        vertical-align: middle;\n",
       "    }\n",
       "\n",
       "    .dataframe tbody tr th {\n",
       "        vertical-align: top;\n",
       "    }\n",
       "\n",
       "    .dataframe thead th {\n",
       "        text-align: right;\n",
       "    }\n",
       "</style>\n",
       "<table border=\"1\" class=\"dataframe\">\n",
       "  <thead>\n",
       "    <tr style=\"text-align: right;\">\n",
       "      <th></th>\n",
       "      <th>out._model_split</th>\n",
       "      <th>out.dense_2</th>\n",
       "    </tr>\n",
       "  </thead>\n",
       "  <tbody>\n",
       "    <tr>\n",
       "      <th>0</th>\n",
       "      <td>[{\"name\":\"anomalyhousingcontrol\",\"version\":\"30fd938b-90b8-42f7-92e7-b1058cddd4ac\",\"sha\":\"809c9f9a3016e5ab2190900d5fcfa476ee7411aa7a9ac5d4041d1cbe874cf8b9\"}]</td>\n",
       "      <td>[13.12781]</td>\n",
       "    </tr>\n",
       "  </tbody>\n",
       "</table>\n",
       "</div>"
      ],
      "text/plain": [
       "                                                                                                                                               out._model_split  \\\n",
       "0  [{\"name\":\"anomalyhousingcontrol\",\"version\":\"30fd938b-90b8-42f7-92e7-b1058cddd4ac\",\"sha\":\"809c9f9a3016e5ab2190900d5fcfa476ee7411aa7a9ac5d4041d1cbe874cf8b9\"}]   \n",
       "\n",
       "  out.dense_2  \n",
       "0  [13.12781]  "
      ]
     },
     "metadata": {},
     "output_type": "display_data"
    },
    {
     "data": {
      "text/html": [
       "<div>\n",
       "<style scoped>\n",
       "    .dataframe tbody tr th:only-of-type {\n",
       "        vertical-align: middle;\n",
       "    }\n",
       "\n",
       "    .dataframe tbody tr th {\n",
       "        vertical-align: top;\n",
       "    }\n",
       "\n",
       "    .dataframe thead th {\n",
       "        text-align: right;\n",
       "    }\n",
       "</style>\n",
       "<table border=\"1\" class=\"dataframe\">\n",
       "  <thead>\n",
       "    <tr style=\"text-align: right;\">\n",
       "      <th></th>\n",
       "      <th>out._model_split</th>\n",
       "      <th>out.dense_2</th>\n",
       "    </tr>\n",
       "  </thead>\n",
       "  <tbody>\n",
       "    <tr>\n",
       "      <th>0</th>\n",
       "      <td>[{\"name\":\"anomalyhousingchallenger\",\"version\":\"f636099a-00bd-481c-a258-a16a510cf645\",\"sha\":\"809c9f9a3016e5ab2190900d5fcfa476ee7411aa7a9ac5d4041d1cbe874cf8b9\"}]</td>\n",
       "      <td>[13.12781]</td>\n",
       "    </tr>\n",
       "  </tbody>\n",
       "</table>\n",
       "</div>"
      ],
      "text/plain": [
       "                                                                                                                                                  out._model_split  \\\n",
       "0  [{\"name\":\"anomalyhousingchallenger\",\"version\":\"f636099a-00bd-481c-a258-a16a510cf645\",\"sha\":\"809c9f9a3016e5ab2190900d5fcfa476ee7411aa7a9ac5d4041d1cbe874cf8b9\"}]   \n",
       "\n",
       "  out.dense_2  \n",
       "0  [13.12781]  "
      ]
     },
     "metadata": {},
     "output_type": "display_data"
    },
    {
     "data": {
      "text/html": [
       "<div>\n",
       "<style scoped>\n",
       "    .dataframe tbody tr th:only-of-type {\n",
       "        vertical-align: middle;\n",
       "    }\n",
       "\n",
       "    .dataframe tbody tr th {\n",
       "        vertical-align: top;\n",
       "    }\n",
       "\n",
       "    .dataframe thead th {\n",
       "        text-align: right;\n",
       "    }\n",
       "</style>\n",
       "<table border=\"1\" class=\"dataframe\">\n",
       "  <thead>\n",
       "    <tr style=\"text-align: right;\">\n",
       "      <th></th>\n",
       "      <th>out._model_split</th>\n",
       "      <th>out.dense_2</th>\n",
       "    </tr>\n",
       "  </thead>\n",
       "  <tbody>\n",
       "    <tr>\n",
       "      <th>0</th>\n",
       "      <td>[{\"name\":\"anomalyhousingcontrol\",\"version\":\"30fd938b-90b8-42f7-92e7-b1058cddd4ac\",\"sha\":\"809c9f9a3016e5ab2190900d5fcfa476ee7411aa7a9ac5d4041d1cbe874cf8b9\"}]</td>\n",
       "      <td>[13.12781]</td>\n",
       "    </tr>\n",
       "  </tbody>\n",
       "</table>\n",
       "</div>"
      ],
      "text/plain": [
       "                                                                                                                                               out._model_split  \\\n",
       "0  [{\"name\":\"anomalyhousingcontrol\",\"version\":\"30fd938b-90b8-42f7-92e7-b1058cddd4ac\",\"sha\":\"809c9f9a3016e5ab2190900d5fcfa476ee7411aa7a9ac5d4041d1cbe874cf8b9\"}]   \n",
       "\n",
       "  out.dense_2  \n",
       "0  [13.12781]  "
      ]
     },
     "metadata": {},
     "output_type": "display_data"
    },
    {
     "data": {
      "text/html": [
       "<div>\n",
       "<style scoped>\n",
       "    .dataframe tbody tr th:only-of-type {\n",
       "        vertical-align: middle;\n",
       "    }\n",
       "\n",
       "    .dataframe tbody tr th {\n",
       "        vertical-align: top;\n",
       "    }\n",
       "\n",
       "    .dataframe thead th {\n",
       "        text-align: right;\n",
       "    }\n",
       "</style>\n",
       "<table border=\"1\" class=\"dataframe\">\n",
       "  <thead>\n",
       "    <tr style=\"text-align: right;\">\n",
       "      <th></th>\n",
       "      <th>out._model_split</th>\n",
       "      <th>out.dense_2</th>\n",
       "    </tr>\n",
       "  </thead>\n",
       "  <tbody>\n",
       "    <tr>\n",
       "      <th>0</th>\n",
       "      <td>[{\"name\":\"anomalyhousingcontrol\",\"version\":\"30fd938b-90b8-42f7-92e7-b1058cddd4ac\",\"sha\":\"809c9f9a3016e5ab2190900d5fcfa476ee7411aa7a9ac5d4041d1cbe874cf8b9\"}]</td>\n",
       "      <td>[13.12781]</td>\n",
       "    </tr>\n",
       "  </tbody>\n",
       "</table>\n",
       "</div>"
      ],
      "text/plain": [
       "                                                                                                                                               out._model_split  \\\n",
       "0  [{\"name\":\"anomalyhousingcontrol\",\"version\":\"30fd938b-90b8-42f7-92e7-b1058cddd4ac\",\"sha\":\"809c9f9a3016e5ab2190900d5fcfa476ee7411aa7a9ac5d4041d1cbe874cf8b9\"}]   \n",
       "\n",
       "  out.dense_2  \n",
       "0  [13.12781]  "
      ]
     },
     "metadata": {},
     "output_type": "display_data"
    },
    {
     "data": {
      "text/html": [
       "<div>\n",
       "<style scoped>\n",
       "    .dataframe tbody tr th:only-of-type {\n",
       "        vertical-align: middle;\n",
       "    }\n",
       "\n",
       "    .dataframe tbody tr th {\n",
       "        vertical-align: top;\n",
       "    }\n",
       "\n",
       "    .dataframe thead th {\n",
       "        text-align: right;\n",
       "    }\n",
       "</style>\n",
       "<table border=\"1\" class=\"dataframe\">\n",
       "  <thead>\n",
       "    <tr style=\"text-align: right;\">\n",
       "      <th></th>\n",
       "      <th>out._model_split</th>\n",
       "      <th>out.dense_2</th>\n",
       "    </tr>\n",
       "  </thead>\n",
       "  <tbody>\n",
       "    <tr>\n",
       "      <th>0</th>\n",
       "      <td>[{\"name\":\"anomalyhousingchallenger\",\"version\":\"f636099a-00bd-481c-a258-a16a510cf645\",\"sha\":\"809c9f9a3016e5ab2190900d5fcfa476ee7411aa7a9ac5d4041d1cbe874cf8b9\"}]</td>\n",
       "      <td>[13.12781]</td>\n",
       "    </tr>\n",
       "  </tbody>\n",
       "</table>\n",
       "</div>"
      ],
      "text/plain": [
       "                                                                                                                                                  out._model_split  \\\n",
       "0  [{\"name\":\"anomalyhousingchallenger\",\"version\":\"f636099a-00bd-481c-a258-a16a510cf645\",\"sha\":\"809c9f9a3016e5ab2190900d5fcfa476ee7411aa7a9ac5d4041d1cbe874cf8b9\"}]   \n",
       "\n",
       "  out.dense_2  \n",
       "0  [13.12781]  "
      ]
     },
     "metadata": {},
     "output_type": "display_data"
    }
   ],
   "source": [
    "results = []\n",
    "if arrowEnabled is True:\n",
    "    housing_input = pd.DataFrame.from_records({\"tensor\": [\n",
    "                                                [\n",
    "                                                    0.6752651953165153,\n",
    "                                                    0.49993424710692347,\n",
    "                                                    0.7386510547400537,\n",
    "                                                    1.4527294113261855,\n",
    "                                                    -0.08666382440547035,\n",
    "                                                    -0.0713079330077084,\n",
    "                                                    1.8870291307801872,\n",
    "                                                    0.9294639723887077,\n",
    "                                                    -0.305653139057544,\n",
    "                                                    -0.6285378875598833,\n",
    "                                                    0.29288456205300767,\n",
    "                                                    1.181109967163617,\n",
    "                                                    -0.65605032361317,\n",
    "                                                    1.1203567680905366,\n",
    "                                                    -0.20817781526102327,\n",
    "                                                    0.9695503533113344,\n",
    "                                                    2.823342771358126\n",
    "                                                ]\n",
    "                                            ]\n",
    "                                        })\n",
    "    # use dataframe JSON files\n",
    "    for x in range(5):\n",
    "        result = experiment_pipeline.infer(housing_input)\n",
    "        # display(result)\n",
    "        display(result.loc[:,[\"out._model_split\", \"out.dense_2\"]])    \n",
    "else:\n",
    "    # use Wallaroo JSON files\n",
    "    results.append(experiment_pipeline.infer({\"tensor\": [\n",
    "                                                [\n",
    "                                                    0.6752651953165153,\n",
    "                                                    0.49993424710692347,\n",
    "                                                    0.7386510547400537,\n",
    "                                                    1.4527294113261855,\n",
    "                                                    -0.08666382440547035,\n",
    "                                                    -0.0713079330077084,\n",
    "                                                    1.8870291307801872,\n",
    "                                                    0.9294639723887077,\n",
    "                                                    -0.305653139057544,\n",
    "                                                    -0.6285378875598833,\n",
    "                                                    0.29288456205300767,\n",
    "                                                    1.181109967163617,\n",
    "                                                    -0.65605032361317,\n",
    "                                                    1.1203567680905366,\n",
    "                                                    -0.20817781526102327,\n",
    "                                                    0.9695503533113344,\n",
    "                                                    2.823342771358126\n",
    "                                                ]\n",
    "                                            ]\n",
    "                                        }))\n",
    "    results.append(experiment_pipeline.infer({\"tensor\": [\n",
    "                                                [\n",
    "                                                    0.6752651953165153,\n",
    "                                                    0.49993424710692347,\n",
    "                                                    0.7386510547400537,\n",
    "                                                    1.4527294113261855,\n",
    "                                                    -0.08666382440547035,\n",
    "                                                    -0.0713079330077084,\n",
    "                                                    1.8870291307801872,\n",
    "                                                    0.9294639723887077,\n",
    "                                                    -0.305653139057544,\n",
    "                                                    -0.6285378875598833,\n",
    "                                                    0.29288456205300767,\n",
    "                                                    1.181109967163617,\n",
    "                                                    -0.65605032361317,\n",
    "                                                    1.1203567680905366,\n",
    "                                                    -0.20817781526102327,\n",
    "                                                    0.9695503533113344,\n",
    "                                                    2.823342771358126\n",
    "                                                ]\n",
    "                                            ]\n",
    "                                        }))\n",
    "    results.append(experiment_pipeline.infer({\"tensor\": [\n",
    "                                                [\n",
    "                                                    0.6752651953165153,\n",
    "                                                    0.49993424710692347,\n",
    "                                                    0.7386510547400537,\n",
    "                                                    1.4527294113261855,\n",
    "                                                    -0.08666382440547035,\n",
    "                                                    -0.0713079330077084,\n",
    "                                                    1.8870291307801872,\n",
    "                                                    0.9294639723887077,\n",
    "                                                    -0.305653139057544,\n",
    "                                                    -0.6285378875598833,\n",
    "                                                    0.29288456205300767,\n",
    "                                                    1.181109967163617,\n",
    "                                                    -0.65605032361317,\n",
    "                                                    1.1203567680905366,\n",
    "                                                    -0.20817781526102327,\n",
    "                                                    0.9695503533113344,\n",
    "                                                    2.823342771358126\n",
    "                                                ]\n",
    "                                            ]\n",
    "                                        }))\n",
    "    results.append(experiment_pipeline.infer({\"tensor\": [\n",
    "                                                [\n",
    "                                                    0.6752651953165153,\n",
    "                                                    0.49993424710692347,\n",
    "                                                    0.7386510547400537,\n",
    "                                                    1.4527294113261855,\n",
    "                                                    -0.08666382440547035,\n",
    "                                                    -0.0713079330077084,\n",
    "                                                    1.8870291307801872,\n",
    "                                                    0.9294639723887077,\n",
    "                                                    -0.305653139057544,\n",
    "                                                    -0.6285378875598833,\n",
    "                                                    0.29288456205300767,\n",
    "                                                    1.181109967163617,\n",
    "                                                    -0.65605032361317,\n",
    "                                                    1.1203567680905366,\n",
    "                                                    -0.20817781526102327,\n",
    "                                                    0.9695503533113344,\n",
    "                                                    2.823342771358126\n",
    "                                                ]\n",
    "                                            ]\n",
    "                                        }))\n",
    "    results.append(experiment_pipeline.infer({\"tensor\": [\n",
    "                                                [\n",
    "                                                    0.6752651953165153,\n",
    "                                                    0.49993424710692347,\n",
    "                                                    0.7386510547400537,\n",
    "                                                    1.4527294113261855,\n",
    "                                                    -0.08666382440547035,\n",
    "                                                    -0.0713079330077084,\n",
    "                                                    1.8870291307801872,\n",
    "                                                    0.9294639723887077,\n",
    "                                                    -0.305653139057544,\n",
    "                                                    -0.6285378875598833,\n",
    "                                                    0.29288456205300767,\n",
    "                                                    1.181109967163617,\n",
    "                                                    -0.65605032361317,\n",
    "                                                    1.1203567680905366,\n",
    "                                                    -0.20817781526102327,\n",
    "                                                    0.9695503533113344,\n",
    "                                                    2.823342771358126\n",
    "                                                ]\n",
    "                                            ]\n",
    "                                        }))\n",
    "    for result in results:\n",
    "        print(result[0].model())\n",
    "        print(result[0].data())"
   ]
  },
  {
   "cell_type": "markdown",
   "metadata": {},
   "source": [
    "### Run Inference Batch\n",
    "\n",
    "We will submit 1000 rows of test data through the pipeline, then loop through the responses and display which model each inference was performed in.  The results between the control and challenger should be approximately 2:1."
   ]
  },
  {
   "cell_type": "code",
   "execution_count": 63,
   "metadata": {},
   "outputs": [
    {
     "data": {
      "text/plain": [
       "anomalyhousingcontrol       314\n",
       "anomalyhousingchallenger    186\n",
       "Name: model, dtype: int64"
      ]
     },
     "metadata": {},
     "output_type": "display_data"
    }
   ],
   "source": [
    "responses = []\n",
    "if arrowEnabled is True:\n",
    "    test_data = pd.read_json('./data/houseprice_inputs_500.json', orient=\"records\")\n",
    "    responses_anomaly = pd.DataFrame()\n",
    "    # For each row, submit that row as a separate dataframe\n",
    "    # Add the results to the responses array\n",
    "    for index, row in test_data.head(500).iterrows():\n",
    "        responses.append(experiment_pipeline.infer(row.to_frame('tensor').reset_index()))\n",
    "        # display(responses)\n",
    "    #now get our responses for each row\n",
    "    # each r is a dataframe, then get the result from out.split into json and get the model name\n",
    "    # for r in responses:\n",
    "    #     display(r.loc[0][\"out.split\"])\n",
    "    l = [json.loads(r.loc[0][\"out._model_split\"][0])[\"name\"] for r in responses]\n",
    "    df = pd.DataFrame({'model': l})\n",
    "    display(df.model.value_counts())\n",
    "else:\n",
    "    l = []\n",
    "    responses =[]\n",
    "    from data import test_data\n",
    "    for nth in range(500):\n",
    "        responses.extend(experiment_pipeline.infer(test_data.data[nth]))\n",
    "    l = [r.raw['model_name'] for r in responses]\n",
    "    df = pd.DataFrame({'model': l})\n",
    "    display(df.model.value_counts())"
   ]
  },
  {
   "cell_type": "markdown",
   "metadata": {},
   "source": [
    "### Test Challenger\n",
    "\n",
    "Now we have run a large amount of data we can compare the results.\n",
    "\n",
    "For this experiment we are looking for a significant change in the fraction of inferences that predicted a probability of the seventh category being high than 0.5 so we can determine whether our challenger model is more \"successful\" than the champion model at identifying category 7."
   ]
  },
  {
   "cell_type": "code",
   "execution_count": 65,
   "metadata": {},
   "outputs": [
    {
     "name": "stdout",
     "output_type": "stream",
     "text": [
      "control class 7 prediction rate: 1.0\n",
      "challenger class 7 prediction rate: 1.0\n"
     ]
    }
   ],
   "source": [
    "control_count = 0\n",
    "challenger_count = 0\n",
    "\n",
    "control_success = 0\n",
    "challenger_success = 0\n",
    "\n",
    "if arrowEnabled is True:\n",
    "    # do nothing\n",
    "    for r in responses:\n",
    "        if json.loads(r.loc[0][\"out._model_split\"][0])[\"name\"] == \"anomalyhousingcontrol\":\n",
    "            control_count += 1\n",
    "            if(r.loc[0][\"out.dense_2\"][0] > .5):\n",
    "                control_success += 1\n",
    "        else:\n",
    "            challenger_count += 1\n",
    "            if(r.loc[0][\"out.dense_2\"][0] > .5):\n",
    "               challenger_success += 1\n",
    "else:\n",
    "    for r in responses:\n",
    "        if r.raw['model_name'] == \"aloha-control\":\n",
    "            control_count += 1\n",
    "            if(r.raw['outputs'][7]['Float']['data'][0] > .5):\n",
    "                control_success += 1\n",
    "        else:\n",
    "            challenger_count +=1\n",
    "            if(r.raw['outputs'][7]['Float']['data'][0] > .5):\n",
    "                challenger_success += 1\n",
    "\n",
    "print(\"control class 7 prediction rate: \" + str(control_success/control_count))\n",
    "print(\"challenger class 7 prediction rate: \" + str(challenger_success/challenger_count))"
   ]
  },
  {
   "cell_type": "markdown",
   "metadata": {},
   "source": [
    "### Logs\n",
    "\n",
    "Logs can be viewed with the Pipeline method `logs()`.  For this example, only the first 5 logs will be shown.  For Arrow enabled environments, the model type can be found in the column `out._model_split`."
   ]
  },
  {
   "cell_type": "code",
   "execution_count": 66,
   "metadata": {},
   "outputs": [
    {
     "data": {
      "text/html": [
       "<div>\n",
       "<style scoped>\n",
       "    .dataframe tbody tr th:only-of-type {\n",
       "        vertical-align: middle;\n",
       "    }\n",
       "\n",
       "    .dataframe tbody tr th {\n",
       "        vertical-align: top;\n",
       "    }\n",
       "\n",
       "    .dataframe thead th {\n",
       "        text-align: right;\n",
       "    }\n",
       "</style>\n",
       "<table border=\"1\" class=\"dataframe\">\n",
       "  <thead>\n",
       "    <tr style=\"text-align: right;\">\n",
       "      <th></th>\n",
       "      <th>time</th>\n",
       "      <th>out._model_split</th>\n",
       "      <th>out.dense_2</th>\n",
       "    </tr>\n",
       "  </thead>\n",
       "  <tbody>\n",
       "    <tr>\n",
       "      <th>0</th>\n",
       "      <td>2023-03-13 22:43:01.982</td>\n",
       "      <td>[{\"name\":\"anomalyhousingcontrol\",\"version\":\"30fd938b-90b8-42f7-92e7-b1058cddd4ac\",\"sha\":\"809c9f9a3016e5ab2190900d5fcfa476ee7411aa7a9ac5d4041d1cbe874cf8b9\"}]</td>\n",
       "      <td>[12.946312]</td>\n",
       "    </tr>\n",
       "    <tr>\n",
       "      <th>1</th>\n",
       "      <td>2023-03-13 22:43:02.268</td>\n",
       "      <td>[{\"name\":\"anomalyhousingcontrol\",\"version\":\"30fd938b-90b8-42f7-92e7-b1058cddd4ac\",\"sha\":\"809c9f9a3016e5ab2190900d5fcfa476ee7411aa7a9ac5d4041d1cbe874cf8b9\"}]</td>\n",
       "      <td>[13.141247]</td>\n",
       "    </tr>\n",
       "    <tr>\n",
       "      <th>2</th>\n",
       "      <td>2023-03-13 22:43:02.567</td>\n",
       "      <td>[{\"name\":\"anomalyhousingcontrol\",\"version\":\"30fd938b-90b8-42f7-92e7-b1058cddd4ac\",\"sha\":\"809c9f9a3016e5ab2190900d5fcfa476ee7411aa7a9ac5d4041d1cbe874cf8b9\"}]</td>\n",
       "      <td>[12.689613]</td>\n",
       "    </tr>\n",
       "    <tr>\n",
       "      <th>3</th>\n",
       "      <td>2023-03-13 22:43:02.840</td>\n",
       "      <td>[{\"name\":\"anomalyhousingcontrol\",\"version\":\"30fd938b-90b8-42f7-92e7-b1058cddd4ac\",\"sha\":\"809c9f9a3016e5ab2190900d5fcfa476ee7411aa7a9ac5d4041d1cbe874cf8b9\"}]</td>\n",
       "      <td>[12.582939]</td>\n",
       "    </tr>\n",
       "    <tr>\n",
       "      <th>4</th>\n",
       "      <td>2023-03-13 22:43:03.119</td>\n",
       "      <td>[{\"name\":\"anomalyhousingchallenger\",\"version\":\"f636099a-00bd-481c-a258-a16a510cf645\",\"sha\":\"809c9f9a3016e5ab2190900d5fcfa476ee7411aa7a9ac5d4041d1cbe874cf8b9\"}]</td>\n",
       "      <td>[13.797941]</td>\n",
       "    </tr>\n",
       "  </tbody>\n",
       "</table>\n",
       "</div>"
      ],
      "text/plain": [
       "                     time  \\\n",
       "0 2023-03-13 22:43:01.982   \n",
       "1 2023-03-13 22:43:02.268   \n",
       "2 2023-03-13 22:43:02.567   \n",
       "3 2023-03-13 22:43:02.840   \n",
       "4 2023-03-13 22:43:03.119   \n",
       "\n",
       "                                                                                                                                                  out._model_split  \\\n",
       "0     [{\"name\":\"anomalyhousingcontrol\",\"version\":\"30fd938b-90b8-42f7-92e7-b1058cddd4ac\",\"sha\":\"809c9f9a3016e5ab2190900d5fcfa476ee7411aa7a9ac5d4041d1cbe874cf8b9\"}]   \n",
       "1     [{\"name\":\"anomalyhousingcontrol\",\"version\":\"30fd938b-90b8-42f7-92e7-b1058cddd4ac\",\"sha\":\"809c9f9a3016e5ab2190900d5fcfa476ee7411aa7a9ac5d4041d1cbe874cf8b9\"}]   \n",
       "2     [{\"name\":\"anomalyhousingcontrol\",\"version\":\"30fd938b-90b8-42f7-92e7-b1058cddd4ac\",\"sha\":\"809c9f9a3016e5ab2190900d5fcfa476ee7411aa7a9ac5d4041d1cbe874cf8b9\"}]   \n",
       "3     [{\"name\":\"anomalyhousingcontrol\",\"version\":\"30fd938b-90b8-42f7-92e7-b1058cddd4ac\",\"sha\":\"809c9f9a3016e5ab2190900d5fcfa476ee7411aa7a9ac5d4041d1cbe874cf8b9\"}]   \n",
       "4  [{\"name\":\"anomalyhousingchallenger\",\"version\":\"f636099a-00bd-481c-a258-a16a510cf645\",\"sha\":\"809c9f9a3016e5ab2190900d5fcfa476ee7411aa7a9ac5d4041d1cbe874cf8b9\"}]   \n",
       "\n",
       "   out.dense_2  \n",
       "0  [12.946312]  \n",
       "1  [13.141247]  \n",
       "2  [12.689613]  \n",
       "3  [12.582939]  \n",
       "4  [13.797941]  "
      ]
     },
     "metadata": {},
     "output_type": "display_data"
    }
   ],
   "source": [
    "logs = experiment_pipeline.logs(limit=5)\n",
    "\n",
    "if arrowEnabled is True:\n",
    "    # display(logs)\n",
    "    display(logs.loc[:,['time', 'out._model_split', 'out.dense_2']])\n",
    "else:\n",
    "    display(logs)"
   ]
  },
  {
   "cell_type": "markdown",
   "metadata": {
    "tags": []
   },
   "source": [
    "### Undeploy Pipeline\n",
    "\n",
    "With the testing complete, we undeploy the pipeline to return the resources back to the environment."
   ]
  },
  {
   "cell_type": "code",
   "execution_count": 67,
   "metadata": {},
   "outputs": [],
   "source": [
    "experiment_pipeline.undeploy()"
   ]
  },
  {
   "cell_type": "code",
   "execution_count": null,
   "metadata": {},
   "outputs": [],
   "source": []
  }
 ],
 "metadata": {
  "kernelspec": {
   "display_name": "Python 3 (ipykernel)",
   "language": "python",
   "name": "python3"
  },
  "language_info": {
   "codemirror_mode": {
    "name": "ipython",
    "version": 3
   },
   "file_extension": ".py",
   "mimetype": "text/x-python",
   "name": "python",
   "nbconvert_exporter": "python",
   "pygments_lexer": "ipython3",
   "version": "3.8.12"
  },
  "vscode": {
   "interpreter": {
    "hash": "7dda4bf3640b7fafcd1648658b879b4cc9f6ba6084e8fb356fdaaa1a461d1690"
   }
  }
 },
 "nbformat": 4,
 "nbformat_minor": 4
}
