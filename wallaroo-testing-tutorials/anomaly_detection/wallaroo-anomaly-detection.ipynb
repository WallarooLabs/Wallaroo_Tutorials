{
 "cells": [
  {
   "cell_type": "markdown",
   "metadata": {},
   "source": [
    "This tutorial and the assets can be downloaded as part of the [Wallaroo Tutorials repository](https://github.com/WallarooLabs/Wallaroo_Tutorials/tree/main/wallaroo-testing-tutorials/anomaly_detection).\n",
    "\n",
    "## Anomaly Detection\n",
    "\n",
    "Wallaroo provides multiple methods of analytical analysis to verify that the data received and generated during an inference is accurate.  This tutorial will demonstrate how to use anomaly detection to track the outputs from a sample model to verify that the model is outputting acceptable results.\n",
    "\n",
    "Anomaly detection allows organizations to set validation parameters in a pipeline.  A **validation** is added to a pipeline to test data based on an expression, and flag any inferences where the validation failed to the [InferenceResult](https://docs.wallaroo.ai/wallaroo-developer-guides/wallaroo-sdk-guides/wallaroo-sdk-essentials-guide/#inferenceresult-object) object and the pipeline logs.\n",
    "\n",
    "This tutorial will follow this process in setting up a validation to a pipeline and examining the results:\n",
    "\n",
    "1. Create a workspace and upload the sample model.\n",
    "1. Establish a pipeline and add the model as a step.\n",
    "1. Add a validation to the pipeline.\n",
    "1. Perform inferences and display anomalies through the `InferenceResult` object and the pipeline log files.\n",
    "\n",
    "This tutorial provides the following:\n",
    "\n",
    "* Housing model: `./models/housing.zip` - a pretrained model used to determine standard home prices.\n",
    "* Test Data:  `./data` - sample data.\n",
    "\n",
    "This demonstration assumes that a Wallaroo instance has been installed."
   ]
  },
  {
   "cell_type": "markdown",
   "metadata": {},
   "source": [
    "## Steps\n",
    "\n",
    "### Import libraries\n",
    "\n",
    "The first step is to import the libraries needed for this notebook."
   ]
  },
  {
   "cell_type": "code",
   "execution_count": 129,
   "metadata": {},
   "outputs": [],
   "source": [
    "import wallaroo\n",
    "from wallaroo.object import EntityNotFoundError\n",
    "import os\n",
    "import json\n",
    "\n",
    "from IPython.display import display\n",
    "\n",
    "# used to display dataframe information without truncating\n",
    "from IPython.display import display\n",
    "import pandas as pd\n",
    "pd.set_option('display.max_colwidth', None)"
   ]
  },
  {
   "cell_type": "markdown",
   "metadata": {},
   "source": [
    "### Connect to Wallaroo Instance\n",
    "\n",
    "The following command will create a connection to the Wallaroo instance and store it in the variable `wl`."
   ]
  },
  {
   "cell_type": "code",
   "execution_count": null,
   "metadata": {},
   "outputs": [],
   "source": [
    "# Client connection from local Wallaroo instance\n",
    "\n",
    "wl = wallaroo.Client()\n",
    "\n",
    "# SSO login through keycloak\n",
    "\n",
    "# wallarooPrefix = \"YOUR PREFIX\"\n",
    "# wallarooSuffix = \"YOUR SUFFIX\"\n",
    "\n",
    "# wl = wallaroo.Client(api_endpoint=f\"https://{wallarooPrefix}.api.{wallarooSuffix}\", \n",
    "#                     auth_endpoint=f\"https://{wallarooPrefix}.keycloak.{wallarooSuffix}\", \n",
    "#                     auth_type=\"sso\")"
   ]
  },
  {
   "cell_type": "code",
   "execution_count": 131,
   "metadata": {},
   "outputs": [
    {
     "name": "stdout",
     "output_type": "stream",
     "text": [
      "True\n"
     ]
    }
   ],
   "source": [
    "import os\n",
    "# Only set the below to make the OS environment ARROW_ENABLED to TRUE.  Otherwise, leave as is.\n",
    "os.environ[\"ARROW_ENABLED\"]=\"True\"\n",
    "\n",
    "if \"ARROW_ENABLED\" not in os.environ or os.environ[\"ARROW_ENABLED\"].casefold() == \"False\".casefold():\n",
    "    arrowEnabled = False\n",
    "else:\n",
    "    arrowEnabled = True\n",
    "print(arrowEnabled)"
   ]
  },
  {
   "cell_type": "markdown",
   "metadata": {},
   "source": [
    "### Create Workspace\n",
    "\n",
    "We will create a workspace to manage our pipeline and models.  The following variables will set the name of our sample workspace then set it as the current workspace."
   ]
  },
  {
   "cell_type": "code",
   "execution_count": 132,
   "metadata": {},
   "outputs": [
    {
     "data": {
      "text/plain": [
       "{'name': 'anomalyexampletest3', 'id': 4, 'archived': False, 'created_by': 'ca7d7043-8e94-42d5-9f3a-8f55c2e42814', 'created_at': '2023-03-01T20:56:32.632146+00:00', 'models': [], 'pipelines': []}"
      ]
     },
     "execution_count": 132,
     "metadata": {},
     "output_type": "execute_result"
    }
   ],
   "source": [
    "workspace_name = 'anomalyexampletest3'\n",
    "\n",
    "def get_workspace(name):\n",
    "    workspace = None\n",
    "    for ws in wl.list_workspaces():\n",
    "        if ws.name() == name:\n",
    "            workspace= ws\n",
    "    if(workspace == None):\n",
    "        workspace = wl.create_workspace(name)\n",
    "    return workspace\n",
    "\n",
    "workspace = get_workspace(workspace_name)\n",
    "\n",
    "wl.set_current_workspace(workspace)"
   ]
  },
  {
   "cell_type": "markdown",
   "metadata": {},
   "source": [
    "## Upload The Model\n",
    "\n",
    "The housing model will be uploaded for use in our pipeline."
   ]
  },
  {
   "cell_type": "code",
   "execution_count": 133,
   "metadata": {},
   "outputs": [],
   "source": [
    "housing_model = wl.upload_model(\"anomaly-housing-model\", \"./models/housing.zip\").configure(\"tensorflow\")"
   ]
  },
  {
   "cell_type": "markdown",
   "metadata": {},
   "source": [
    "### Build the Pipeline and Validation\n",
    "\n",
    "The pipeline `anomaly-housing-pipeline` will be created and the `anomaly-housing-model` added as a step.  A validation will be created for outputs greater 100.0.  This is interpreted as houses with a value greater than $100 million with the `add_validation` method.  When houses greater than this value are detected, the `InferenceObject` will add it in the `check_failures` array with the message \"price too high\".\n",
    "\n",
    "Once complete, the pipeline will be deployed and ready for inferences.\n"
   ]
  },
  {
   "cell_type": "code",
   "execution_count": 134,
   "metadata": {},
   "outputs": [],
   "source": [
    "p = wl.build_pipeline('anomaly-housing-pipeline3')\n",
    "p = p.add_model_step(housing_model)\n"
   ]
  },
  {
   "cell_type": "code",
   "execution_count": 135,
   "metadata": {},
   "outputs": [],
   "source": [
    "p = p.add_validation('price too high', housing_model.outputs[0][0] < 100.0)"
   ]
  },
  {
   "cell_type": "code",
   "execution_count": 136,
   "metadata": {},
   "outputs": [],
   "source": [
    "pipeline = p.deploy()"
   ]
  },
  {
   "cell_type": "markdown",
   "metadata": {},
   "source": [
    "### Testing\n",
    "\n",
    "Two data points will be fed used for an inference.\n",
    "\n",
    "The first, labeled `response_normal`, will not trigger an anomaly detection.  The other, labeled `response_trigger`, will trigger the anomaly detection, which will be shown in the InferenceResult `check_failures` array.  \n",
    "\n",
    "Note that multiple validations can be created to allow for multiple anomalies detected."
   ]
  },
  {
   "cell_type": "code",
   "execution_count": 137,
   "metadata": {},
   "outputs": [
    {
     "data": {
      "text/html": [
       "<div>\n",
       "<style scoped>\n",
       "    .dataframe tbody tr th:only-of-type {\n",
       "        vertical-align: middle;\n",
       "    }\n",
       "\n",
       "    .dataframe tbody tr th {\n",
       "        vertical-align: top;\n",
       "    }\n",
       "\n",
       "    .dataframe thead th {\n",
       "        text-align: right;\n",
       "    }\n",
       "</style>\n",
       "<table border=\"1\" class=\"dataframe\">\n",
       "  <thead>\n",
       "    <tr style=\"text-align: right;\">\n",
       "      <th></th>\n",
       "      <th>model_name</th>\n",
       "      <th>model_version</th>\n",
       "      <th>pipeline_name</th>\n",
       "      <th>outputs</th>\n",
       "      <th>elapsed</th>\n",
       "      <th>time</th>\n",
       "      <th>original_data</th>\n",
       "      <th>check_failures</th>\n",
       "      <th>shadow_data</th>\n",
       "    </tr>\n",
       "  </thead>\n",
       "  <tbody>\n",
       "    <tr>\n",
       "      <th>0</th>\n",
       "      <td>anomaly-housing-model</td>\n",
       "      <td>4354ad0b-d1c8-4b7f-a4b3-52837f4ffdcb</td>\n",
       "      <td>anomaly-housing-pipeline3</td>\n",
       "      <td>[{'Float': {'v': 1, 'dim': [1, 1], 'data': [10.349835395812988]}}]</td>\n",
       "      <td>18971336</td>\n",
       "      <td>2023-03-01 20:56:51.948</td>\n",
       "      <td>None</td>\n",
       "      <td>1</td>\n",
       "      <td>{}</td>\n",
       "    </tr>\n",
       "  </tbody>\n",
       "</table>\n",
       "</div>"
      ],
      "text/plain": [
       "              model_name                         model_version  \\\n",
       "0  anomaly-housing-model  4354ad0b-d1c8-4b7f-a4b3-52837f4ffdcb   \n",
       "\n",
       "               pipeline_name  \\\n",
       "0  anomaly-housing-pipeline3   \n",
       "\n",
       "                                                              outputs  \\\n",
       "0  [{'Float': {'v': 1, 'dim': [1, 1], 'data': [10.349835395812988]}}]   \n",
       "\n",
       "    elapsed                    time original_data  check_failures shadow_data  \n",
       "0  18971336 2023-03-01 20:56:51.948          None               1          {}  "
      ]
     },
     "metadata": {},
     "output_type": "display_data"
    }
   ],
   "source": [
    "if arrowEnabled is True:\n",
    "    test_input = pd.DataFrame.from_records({\"dense_16_input\":{\"0\":[0.02675675,0.0,0.02677953,0.0,0.0010046,0.00951931,0.14795322,0.0027145,0.03550877,0.98536841,0.02988655,0.04031725,0.04298041]}})\n",
    "else:\n",
    "    test_input = {\"dense_16_input\":[[0.02675675, 0.0, 0.02677953, 0.0, 0.0010046, 0.00951931, 0.14795322, 0.0027145,  0.03550877, 0.98536841, 0.02988655, 0.04031725, 0.04298041]]}\n",
    "\n",
    "response_normal = pipeline.infer(test_input)\n",
    "display(response_normal)"
   ]
  },
  {
   "cell_type": "code",
   "execution_count": 147,
   "metadata": {},
   "outputs": [
    {
     "data": {
      "text/html": [
       "<div>\n",
       "<style scoped>\n",
       "    .dataframe tbody tr th:only-of-type {\n",
       "        vertical-align: middle;\n",
       "    }\n",
       "\n",
       "    .dataframe tbody tr th {\n",
       "        vertical-align: top;\n",
       "    }\n",
       "\n",
       "    .dataframe thead th {\n",
       "        text-align: right;\n",
       "    }\n",
       "</style>\n",
       "<table border=\"1\" class=\"dataframe\">\n",
       "  <thead>\n",
       "    <tr style=\"text-align: right;\">\n",
       "      <th></th>\n",
       "      <th>model_name</th>\n",
       "      <th>model_version</th>\n",
       "      <th>pipeline_name</th>\n",
       "      <th>outputs</th>\n",
       "      <th>elapsed</th>\n",
       "      <th>time</th>\n",
       "      <th>original_data</th>\n",
       "      <th>check_failures</th>\n",
       "      <th>shadow_data</th>\n",
       "    </tr>\n",
       "  </thead>\n",
       "  <tbody>\n",
       "    <tr>\n",
       "      <th>0</th>\n",
       "      <td>anomaly-housing-model</td>\n",
       "      <td>4354ad0b-d1c8-4b7f-a4b3-52837f4ffdcb</td>\n",
       "      <td>anomaly-housing-pipeline3</td>\n",
       "      <td>[{'Float': {'v': 1, 'dim': [1, 1], 'data': [350.46990966796875]}}]</td>\n",
       "      <td>336412</td>\n",
       "      <td>2023-03-01 21:00:23.102</td>\n",
       "      <td>None</td>\n",
       "      <td>1</td>\n",
       "      <td>{}</td>\n",
       "    </tr>\n",
       "  </tbody>\n",
       "</table>\n",
       "</div>"
      ],
      "text/plain": [
       "              model_name                         model_version  \\\n",
       "0  anomaly-housing-model  4354ad0b-d1c8-4b7f-a4b3-52837f4ffdcb   \n",
       "\n",
       "               pipeline_name  \\\n",
       "0  anomaly-housing-pipeline3   \n",
       "\n",
       "                                                              outputs  \\\n",
       "0  [{'Float': {'v': 1, 'dim': [1, 1], 'data': [350.46990966796875]}}]   \n",
       "\n",
       "   elapsed                    time original_data  check_failures shadow_data  \n",
       "0   336412 2023-03-01 21:00:23.102          None               1          {}  "
      ]
     },
     "metadata": {},
     "output_type": "display_data"
    }
   ],
   "source": [
    "if arrowEnabled is True:\n",
    "    test_input = pd.DataFrame.from_records({\"dense_16_input\":{\"0\":[0.02675675,0.0,0.02677953,0.0,0.0010046,0.00951931,0.14795322,0.0027145,2,0.98536841,0.02988655,0.04031725,0.04298041]}})\n",
    "else:\n",
    "    test_input = {\"dense_16_input\":[[0.02675675, 0.0, 0.02677953, 0.0, 0.0010046, 0.00951931, 0.14795322, 0.0027145, 2, 0.98536841, 0.02988655, 0.04031725, 0.04298041]]}\n",
    "\n",
    "response_trigger = pipeline.infer(test_input)\n",
    "display(response_trigger)"
   ]
  },
  {
   "attachments": {},
   "cell_type": "markdown",
   "metadata": {},
   "source": [
    "### Multiple Tests\n",
    "\n",
    "With the initial tests run, we can run the inferences against a larger set of data and identify anomalies that appear versus the expected results.  These will be displayed into a graph so we can see where the anomalies occur.  In this case with the house that came in at $350 million - outside of our validation range.\n",
    "\n",
    "Note:  Because this is splitting one batch inference into 400 separate inferences for this example, it may take longer to run."
   ]
  },
  {
   "cell_type": "code",
   "execution_count": 139,
   "metadata": {},
   "outputs": [],
   "source": [
    "if arrowEnabled is True:\n",
    "    test_data = pd.read_json('./data/test_data_anomaly_df.json', orient=\"records\")\n",
    "    responses_anomaly = pd.DataFrame()\n",
    "    # For the first 400 rows, submit that row as a separate DataFrame\n",
    "    # Add the results to the responses_anomaly dataframe\n",
    "    for index, row in test_data.head(400).iterrows():\n",
    "        responses_anomaly = responses_anomaly.append(pipeline.infer(row.to_frame('dense_16_input').reset_index()))\n",
    "else:\n",
    "    responses_anomaly =[]\n",
    "    from data import test_data_anomaly\n",
    "    for nth in range(400):\n",
    "        responses_anomaly.extend(pipeline.infer(test_data_anomaly.data[nth]))"
   ]
  },
  {
   "cell_type": "code",
   "execution_count": 141,
   "metadata": {},
   "outputs": [],
   "source": [
    "import pandas as pd\n",
    "import matplotlib.pyplot as plt\n",
    "%matplotlib inline"
   ]
  },
  {
   "cell_type": "code",
   "execution_count": 142,
   "metadata": {},
   "outputs": [
    {
     "data": {
      "image/png": "[encoded data removed]",
      "text/plain": [
       "<Figure size 1200x800 with 1 Axes>"
      ]
     },
     "metadata": {},
     "output_type": "display_data"
    }
   ],
   "source": [
    "if arrowEnabled is True:\n",
    "    houseprices = pd.DataFrame({'sell_price': responses_anomaly['outputs'].apply(lambda x: x[0]['Float']['data'][0])})\n",
    "else:\n",
    "    houseprices = pd.DataFrame({'sell_price': [r.raw['outputs'][0]['Float']['data'][0] for  r in responses_anomaly]})\n",
    "\n",
    "houseprices.hist(column='sell_price', bins=50, grid=False, figsize=(12,8))\n",
    "plt.axvline(x=100, color='gray', ls='--')\n",
    "_ = plt.title('Distribution of predicted home sales price')"
   ]
  },
  {
   "cell_type": "markdown",
   "metadata": {},
   "source": [
    "### How To Check For Anomalies\n",
    "\n",
    "There are two primary methods for detecting anomalies with Wallaroo:\n",
    "\n",
    "* As demonstrated in the example above, from the `InferenceObject` `check_failures` array in the output of each inference to see if anything has happened.\n",
    "* The other method is to view pipeline's logs and see what anomalies have been detected."
   ]
  },
  {
   "attachments": {},
   "cell_type": "markdown",
   "metadata": {},
   "source": [
    "#### View Logs\n",
    "\n",
    "Anomalies can be displayed through the pipeline `logs()` method.  The parameter `valid=False` will show any validations that were flagged as `False` - in this case, houses that were above 100 million in value."
   ]
  },
  {
   "cell_type": "code",
   "execution_count": 152,
   "metadata": {},
   "outputs": [
    {
     "data": {
      "text/html": [
       "<div>\n",
       "<style scoped>\n",
       "    .dataframe tbody tr th:only-of-type {\n",
       "        vertical-align: middle;\n",
       "    }\n",
       "\n",
       "    .dataframe tbody tr th {\n",
       "        vertical-align: top;\n",
       "    }\n",
       "\n",
       "    .dataframe thead th {\n",
       "        text-align: right;\n",
       "    }\n",
       "</style>\n",
       "<table border=\"1\" class=\"dataframe\">\n",
       "  <thead>\n",
       "    <tr style=\"text-align: right;\">\n",
       "      <th></th>\n",
       "      <th>time</th>\n",
       "      <th>message</th>\n",
       "    </tr>\n",
       "  </thead>\n",
       "  <tbody>\n",
       "    <tr>\n",
       "      <th>0</th>\n",
       "      <td>2023-03-01 20:56:55.257</td>\n",
       "      <td>{\"model_name\":\"anomaly-housing-model\",\"model_version\":\"4354ad0b-d1c8-4b7f-a4b3-52837f4ffdcb\",\"pipeline_name\":\"anomaly-housing-pipeline3\",\"outputs\":[{\"Float\":{\"v\":1,\"dim\":[1,1],\"data\":[350.46990966796875]}}],\"elapsed\":16643809,\"time\":1677704212379,\"original_data\":null,\"check_failures\":[[{\"False\":{\"expr\":\"anomaly-housing-model.outputs[0][0] &lt; 100\"}}]],\"shadow_data\":{}}</td>\n",
       "    </tr>\n",
       "    <tr>\n",
       "      <th>1</th>\n",
       "      <td>2023-03-01 20:59:55.652</td>\n",
       "      <td>{\"model_name\":\"anomaly-housing-model\",\"model_version\":\"4354ad0b-d1c8-4b7f-a4b3-52837f4ffdcb\",\"pipeline_name\":\"anomaly-housing-pipeline3\",\"outputs\":[{\"Float\":{\"v\":1,\"dim\":[1,1],\"data\":[350.46990966796875]}}],\"elapsed\":348312,\"time\":1677704394641,\"original_data\":null,\"check_failures\":[[{\"False\":{\"expr\":\"anomaly-housing-model.outputs[0][0] &lt; 100\"}}]],\"shadow_data\":{}}</td>\n",
       "    </tr>\n",
       "    <tr>\n",
       "      <th>2</th>\n",
       "      <td>2023-03-01 21:00:24.113</td>\n",
       "      <td>{\"model_name\":\"anomaly-housing-model\",\"model_version\":\"4354ad0b-d1c8-4b7f-a4b3-52837f4ffdcb\",\"pipeline_name\":\"anomaly-housing-pipeline3\",\"outputs\":[{\"Float\":{\"v\":1,\"dim\":[1,1],\"data\":[350.46990966796875]}}],\"elapsed\":336412,\"time\":1677704423102,\"original_data\":null,\"check_failures\":[[{\"False\":{\"expr\":\"anomaly-housing-model.outputs[0][0] &lt; 100\"}}]],\"shadow_data\":{}}</td>\n",
       "    </tr>\n",
       "  </tbody>\n",
       "</table>\n",
       "</div>"
      ],
      "text/plain": [
       "                     time  \\\n",
       "0 2023-03-01 20:56:55.257   \n",
       "1 2023-03-01 20:59:55.652   \n",
       "2 2023-03-01 21:00:24.113   \n",
       "\n",
       "                                                                                                                                                                                                                                                                                                                                                                             message  \n",
       "0  {\"model_name\":\"anomaly-housing-model\",\"model_version\":\"4354ad0b-d1c8-4b7f-a4b3-52837f4ffdcb\",\"pipeline_name\":\"anomaly-housing-pipeline3\",\"outputs\":[{\"Float\":{\"v\":1,\"dim\":[1,1],\"data\":[350.46990966796875]}}],\"elapsed\":16643809,\"time\":1677704212379,\"original_data\":null,\"check_failures\":[[{\"False\":{\"expr\":\"anomaly-housing-model.outputs[0][0] < 100\"}}]],\"shadow_data\":{}}  \n",
       "1    {\"model_name\":\"anomaly-housing-model\",\"model_version\":\"4354ad0b-d1c8-4b7f-a4b3-52837f4ffdcb\",\"pipeline_name\":\"anomaly-housing-pipeline3\",\"outputs\":[{\"Float\":{\"v\":1,\"dim\":[1,1],\"data\":[350.46990966796875]}}],\"elapsed\":348312,\"time\":1677704394641,\"original_data\":null,\"check_failures\":[[{\"False\":{\"expr\":\"anomaly-housing-model.outputs[0][0] < 100\"}}]],\"shadow_data\":{}}  \n",
       "2    {\"model_name\":\"anomaly-housing-model\",\"model_version\":\"4354ad0b-d1c8-4b7f-a4b3-52837f4ffdcb\",\"pipeline_name\":\"anomaly-housing-pipeline3\",\"outputs\":[{\"Float\":{\"v\":1,\"dim\":[1,1],\"data\":[350.46990966796875]}}],\"elapsed\":336412,\"time\":1677704423102,\"original_data\":null,\"check_failures\":[[{\"False\":{\"expr\":\"anomaly-housing-model.outputs[0][0] < 100\"}}]],\"shadow_data\":{}}  "
      ]
     },
     "metadata": {},
     "output_type": "display_data"
    }
   ],
   "source": [
    "logs = pipeline.logs(valid=False)\n",
    "display(logs)"
   ]
  },
  {
   "cell_type": "markdown",
   "metadata": {},
   "source": [
    "### Undeploy The Pipeline\n",
    "\n",
    "With the example complete, we undeploy the pipeline to return the resources back to the Wallaroo instance."
   ]
  },
  {
   "cell_type": "code",
   "execution_count": 144,
   "metadata": {},
   "outputs": [],
   "source": [
    "#pipeline.undeploy()"
   ]
  }
 ],
 "metadata": {
  "kernelspec": {
   "display_name": "arrowtests",
   "language": "python",
   "name": "python3"
  },
  "language_info": {
   "codemirror_mode": {
    "name": "ipython",
    "version": 3
   },
   "file_extension": ".py",
   "mimetype": "text/x-python",
   "name": "python",
   "nbconvert_exporter": "python",
   "pygments_lexer": "ipython3",
   "version": "3.8.12"
  },
  "vscode": {
   "interpreter": {
    "hash": "7dda4bf3640b7fafcd1648658b879b4cc9f6ba6084e8fb356fdaaa1a461d1690"
   }
  }
 },
 "nbformat": 4,
 "nbformat_minor": 4
}
