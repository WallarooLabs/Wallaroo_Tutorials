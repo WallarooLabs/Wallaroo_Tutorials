{
 "cells": [
  {
   "attachments": {},
   "cell_type": "markdown",
   "metadata": {},
   "source": [
    "This tutorial and the assets can be downloaded as part of the [Wallaroo Tutorials repository](https://github.com/WallarooLabs/Wallaroo_Tutorials/tree/main/wallaroo-testing-tutorials/anomaly_detection).\n",
    "\n",
    "## Anomaly Detection\n",
    "\n",
    "Wallaroo provides multiple methods of analytical analysis to verify that the data received and generated during an inference is accurate.  This tutorial will demonstrate how to use anomaly detection to track the outputs from a sample model to verify that the model is outputting acceptable results.\n",
    "\n",
    "Anomaly detection allows organizations to set validation parameters in a pipeline.  A **validation** is added to a pipeline to test data based on an expression, and flag any inferences where the validation failed inference result and the pipeline logs.\n",
    "\n",
    "This tutorial will follow this process in setting up a validation to a pipeline and examining the results:\n",
    "\n",
    "1. Create a workspace and upload the sample model.\n",
    "1. Establish a pipeline and add the model as a step.\n",
    "1. Add a validation to the pipeline.\n",
    "1. Perform inferences and display anomalies through the `InferenceResult` object and the pipeline log files.\n",
    "\n",
    "This tutorial provides the following:\n",
    "\n",
    "* Housing model: `./models/housingprice.onnx` - a pretrained model used to determine standard home prices.\n",
    "* Test Data:  `./data` - sample data.\n",
    "\n",
    "## Prerequisites\n",
    "\n",
    "* A deployed Wallaroo instance\n",
    "* The following Python libraries installed:\n",
    "  * `os`\n",
    "  * `json`\n",
    "  * [`wallaroo`](https://pypi.org/project/wallaroo/): The Wallaroo SDK. Included with the Wallaroo JupyterHub service by default.\n",
    "  * [`pandas`](https://pypi.org/project/pandas/): Pandas, mainly used for Pandas DataFrame"
   ]
  },
  {
   "attachments": {},
   "cell_type": "markdown",
   "metadata": {},
   "source": [
    "## Steps\n",
    "\n",
    "### Import libraries\n",
    "\n",
    "The first step is to import the libraries needed for this notebook."
   ]
  },
  {
   "cell_type": "code",
   "execution_count": 3,
   "metadata": {},
   "outputs": [],
   "source": [
    "import wallaroo\n",
    "from wallaroo.object import EntityNotFoundError\n",
    "import os\n",
    "import json\n",
    "\n",
    "from IPython.display import display\n",
    "\n",
    "# used to display dataframe information without truncating\n",
    "from IPython.display import display\n",
    "import pandas as pd\n",
    "pd.set_option('display.max_colwidth', None)\n",
    "\n",
    "import datetime"
   ]
  },
  {
   "attachments": {},
   "cell_type": "markdown",
   "metadata": {},
   "source": [
    "### Connect to the Wallaroo Instance\n",
    "\n",
    "The first step is to connect to Wallaroo through the Wallaroo client.  The Python library is included in the Wallaroo install and available through the Jupyter Hub interface provided with your Wallaroo environment.\n",
    "\n",
    "This is accomplished using the `wallaroo.Client()` command, which provides a URL to grant the SDK permission to your specific Wallaroo environment.  When displayed, enter the URL into a browser and confirm permissions.  Store the connection into a variable that can be referenced later.\n",
    "\n",
<<<<<<< HEAD
    "If logging into the Wallaroo instance through the internal JupyterHub service, use `wl = wallaroo.Client()`.  For more information on Wallaroo Client settings, see the [Client Connection guide](https://docs.wallaroo.ai/wallaroo-developer-guides/wallaroo-sdk-guides/wallaroo-sdk-essentials-guide/wallaroo-sdk-essentials-client/)."
=======
    "If logging into the Wallaroo instance through the internal JupyterHub service, use `wl = wallaroo.Client()`.  If logging in externally, update the `wallarooPrefix` and `wallarooSuffix` variables with the proper DNS information.  For more information on Wallaroo DNS settings, see the [Wallaroo DNS Integration Guide](https://docs.wallaroo.ai/wallaroo-operations-guide/wallaroo-configuration/wallaroo-dns-guide/)."
>>>>>>> d5e9007 (removed polars and simplified login.)
   ]
  },
  {
   "cell_type": "code",
   "execution_count": 4,
   "metadata": {},
   "outputs": [],
   "source": [
    "# Login through local Wallaroo instance\n",
    "\n",
    "wl = wallaroo.Client()"
<<<<<<< HEAD
=======
   ]
  },
  {
   "cell_type": "code",
   "execution_count": 27,
   "metadata": {},
   "outputs": [
    {
     "name": "stdout",
     "output_type": "stream",
     "text": [
      "True\n"
     ]
    }
   ],
   "source": [
    "import os\n",
    "# Only set the below to make the OS environment ARROW_ENABLED to TRUE.  Otherwise, leave as is.\n",
    "os.environ[\"ARROW_ENABLED\"]=\"True\"\n",
    "\n",
    "if \"ARROW_ENABLED\" not in os.environ or os.environ[\"ARROW_ENABLED\"].casefold() == \"False\".casefold():\n",
    "    arrowEnabled = False\n",
    "else:\n",
    "    arrowEnabled = True\n",
    "print(arrowEnabled)"
>>>>>>> d5e9007 (removed polars and simplified login.)
   ]
  },
  {
   "attachments": {},
   "cell_type": "markdown",
   "metadata": {},
   "source": [
    "### Create Workspace\n",
    "\n",
    "We will create a workspace to manage our pipeline and models.  The following variables will set the name of our sample workspace then set it as the current workspace."
   ]
  },
  {
   "cell_type": "code",
   "execution_count": 105,
   "metadata": {},
   "outputs": [],
   "source": [
    "workspace_name = 'anomalytesting'\n",
    "pipeline_name = 'anomalytestexample'\n",
    "model_name = 'anomaly-housing-model'\n",
    "model_file_name = './models/house_price_keras.onnx'"
   ]
  },
  {
   "cell_type": "code",
   "execution_count": 106,
   "metadata": {},
   "outputs": [],
   "source": [
    "def get_workspace(name):\n",
    "    workspace = None\n",
    "    for ws in wl.list_workspaces():\n",
    "        if ws.name() == name:\n",
    "            workspace= ws\n",
    "    if(workspace == None):\n",
    "        workspace = wl.create_workspace(name)\n",
    "    return workspace\n",
    "\n"
   ]
  },
  {
   "cell_type": "code",
   "execution_count": 107,
   "metadata": {},
   "outputs": [
    {
     "data": {
      "text/plain": [
       "{'name': 'anomalytesting', 'id': 145, 'archived': False, 'created_by': '138bd7e6-4dc8-4dc1-a760-c9e721ef3c37', 'created_at': '2023-03-06T19:27:47.219395+00:00', 'models': [{'name': 'anomaly-housing-model', 'versions': 1, 'owner_id': '\"\"', 'last_update_time': datetime.datetime(2023, 3, 13, 16, 39, 41, 683686, tzinfo=tzutc()), 'created_at': datetime.datetime(2023, 3, 13, 16, 39, 41, 683686, tzinfo=tzutc())}], 'pipelines': [{'name': 'anomalyhousing', 'create_time': datetime.datetime(2023, 3, 6, 19, 37, 23, 71334, tzinfo=tzutc()), 'definition': '[]'}]}"
      ]
     },
     "execution_count": 107,
     "metadata": {},
     "output_type": "execute_result"
    }
   ],
   "source": [
    "workspace = get_workspace(workspace_name)\n",
    "\n",
    "wl.set_current_workspace(workspace)"
   ]
  },
  {
   "attachments": {},
   "cell_type": "markdown",
   "metadata": {},
   "source": [
    "## Upload The Model\n",
    "\n",
    "The housing model will be uploaded for use in our pipeline."
   ]
  },
  {
   "cell_type": "code",
   "execution_count": 108,
   "metadata": {},
   "outputs": [],
   "source": [
    "housing_model = wl.upload_model(model_name, model_file_name).configure()"
   ]
  },
  {
   "attachments": {},
   "cell_type": "markdown",
   "metadata": {},
   "source": [
    "### Build the Pipeline and Validation\n",
    "\n",
    "The pipeline `anomaly-housing-pipeline` will be created and the `anomaly-housing-model` added as a step.  A validation will be created for outputs greater 100.0.  This is interpreted as houses with a value greater than $350 thousand with the `add_validation` method.  When houses greater than this value are detected, the `InferenceObject` will add it in the `check_failures` array with the message \"price too high\".\n",
    "\n",
    "Once complete, the pipeline will be deployed and ready for inferences.\n"
   ]
  },
  {
   "cell_type": "code",
   "execution_count": 109,
   "metadata": {},
   "outputs": [],
   "source": [
    "p = wl.build_pipeline(pipeline_name)\n",
    "p = p.add_model_step(housing_model)\n"
   ]
  },
  {
   "cell_type": "code",
   "execution_count": 110,
   "metadata": {},
   "outputs": [],
   "source": [
    "p = p.add_validation('price too high', housing_model.outputs[0][0] < 35.0)"
   ]
  },
  {
   "cell_type": "code",
   "execution_count": 111,
   "metadata": {},
   "outputs": [],
   "source": [
    "pipeline = p.deploy()"
   ]
  },
  {
   "attachments": {},
   "cell_type": "markdown",
   "metadata": {},
   "source": [
    "### Testing\n",
    "\n",
    "Two data points will be fed used for an inference.\n",
    "\n",
    "The first, labeled `response_normal`, will not trigger an anomaly detection.  The other, labeled `response_trigger`, will trigger the anomaly detection, which will be shown in the InferenceResult `check_failures` array.  \n",
    "\n",
    "Note that multiple validations can be created to allow for multiple anomalies detected."
   ]
  },
  {
   "cell_type": "code",
   "execution_count": 112,
   "metadata": {},
   "outputs": [
    {
     "data": {
      "text/html": [
       "<div>\n",
       "<style scoped>\n",
       "    .dataframe tbody tr th:only-of-type {\n",
       "        vertical-align: middle;\n",
       "    }\n",
       "\n",
       "    .dataframe tbody tr th {\n",
       "        vertical-align: top;\n",
       "    }\n",
       "\n",
       "    .dataframe thead th {\n",
       "        text-align: right;\n",
       "    }\n",
       "</style>\n",
       "<table border=\"1\" class=\"dataframe\">\n",
       "  <thead>\n",
       "    <tr style=\"text-align: right;\">\n",
       "      <th></th>\n",
       "      <th>time</th>\n",
       "      <th>in.tensor</th>\n",
       "      <th>out.dense_2</th>\n",
       "      <th>check_failures</th>\n",
       "    </tr>\n",
       "  </thead>\n",
       "  <tbody>\n",
       "    <tr>\n",
       "      <th>0</th>\n",
       "      <td>2023-03-13 20:18:34.677</td>\n",
       "      <td>[0.6752651953, 0.4999342471, 0.7386510547, 1.4527294113, -0.0866638244, -0.071307933, 1.8870291308, 0.9294639724, -0.3056531391, -0.6285378876, 0.2928845621, 1.1811099672, -0.6560503236, 1.1203567681, -0.2081778153, 0.9695503533, 2.8233427714]</td>\n",
       "      <td>[13.12781]</td>\n",
       "      <td>0</td>\n",
       "    </tr>\n",
       "  </tbody>\n",
       "</table>\n",
       "</div>"
      ],
      "text/plain": [
       "                     time  \\\n",
       "0 2023-03-13 20:18:34.677   \n",
       "\n",
       "                                                                                                                                                                                                                                             in.tensor  \\\n",
       "0  [0.6752651953, 0.4999342471, 0.7386510547, 1.4527294113, -0.0866638244, -0.071307933, 1.8870291308, 0.9294639724, -0.3056531391, -0.6285378876, 0.2928845621, 1.1811099672, -0.6560503236, 1.1203567681, -0.2081778153, 0.9695503533, 2.8233427714]   \n",
       "\n",
       "  out.dense_2  check_failures  \n",
       "0  [13.12781]               0  "
      ]
     },
     "metadata": {},
     "output_type": "display_data"
    }
   ],
   "source": [
    "if arrowEnabled is True:\n",
    "    normal_input = pd.DataFrame.from_records({\"tensor\": [\n",
    "                                                [\n",
    "                                                    0.6752651953165153,\n",
    "                                                    0.49993424710692347,\n",
    "                                                    0.7386510547400537,\n",
    "                                                    1.4527294113261855,\n",
    "                                                    -0.08666382440547035,\n",
    "                                                    -0.0713079330077084,\n",
    "                                                    1.8870291307801872,\n",
    "                                                    0.9294639723887077,\n",
    "                                                    -0.305653139057544,\n",
    "                                                    -0.6285378875598833,\n",
    "                                                    0.29288456205300767,\n",
    "                                                    1.181109967163617,\n",
    "                                                    -0.65605032361317,\n",
    "                                                    1.1203567680905366,\n",
    "                                                    -0.20817781526102327,\n",
    "                                                    0.9695503533113344,\n",
    "                                                    2.823342771358126\n",
    "                                                ]\n",
    "                                            ]\n",
    "                                        })\n",
    "else:\n",
    "    normal_input = {\"tensor\": [\n",
    "                                                [\n",
    "                                                    0.6752651953165153,\n",
    "                                                    0.49993424710692347,\n",
    "                                                    0.7386510547400537,\n",
    "                                                    1.4527294113261855,\n",
    "                                                    -0.08666382440547035,\n",
    "                                                    -0.0713079330077084,\n",
    "                                                    1.8870291307801872,\n",
    "                                                    0.9294639723887077,\n",
    "                                                    -0.305653139057544,\n",
    "                                                    -0.6285378875598833,\n",
    "                                                    0.29288456205300767,\n",
    "                                                    1.181109967163617,\n",
    "                                                    -0.65605032361317,\n",
    "                                                    1.1203567680905366,\n",
    "                                                    -0.20817781526102327,\n",
    "                                                    0.9695503533113344,\n",
    "                                                    2.823342771358126\n",
    "                                                ]\n",
    "                                            ]\n",
    "                                        }\n",
    "result = pipeline.infer(normal_input)\n",
    "display(result)"
   ]
  },
  {
   "cell_type": "code",
   "execution_count": 77,
   "metadata": {},
   "outputs": [
    {
     "data": {
      "text/html": [
       "<div>\n",
       "<style scoped>\n",
       "    .dataframe tbody tr th:only-of-type {\n",
       "        vertical-align: middle;\n",
       "    }\n",
       "\n",
       "    .dataframe tbody tr th {\n",
       "        vertical-align: top;\n",
       "    }\n",
       "\n",
       "    .dataframe thead th {\n",
       "        text-align: right;\n",
       "    }\n",
       "</style>\n",
       "<table border=\"1\" class=\"dataframe\">\n",
       "  <thead>\n",
       "    <tr style=\"text-align: right;\">\n",
       "      <th></th>\n",
       "      <th>time</th>\n",
       "      <th>in.tensor</th>\n",
       "      <th>out.dense_2</th>\n",
       "      <th>check_failures</th>\n",
       "    </tr>\n",
       "  </thead>\n",
       "  <tbody>\n",
       "    <tr>\n",
       "      <th>0</th>\n",
       "      <td>2023-03-13 18:53:50.585</td>\n",
       "      <td>[0.6752651953, -1.4463372267, 0.859222745, -1.3368839439, -0.0866638244, 372.1154780984, -0.2667405624, 0.0057462263, 2.3087968204, -0.6285378876, -0.5584151415, -0.0835430586, -0.6560503236, -1.4648287574, -0.2081778153, 0.2255257157, -0.3033813134]</td>\n",
       "      <td>[39.575085]</td>\n",
       "      <td>1</td>\n",
       "    </tr>\n",
       "  </tbody>\n",
       "</table>\n",
       "</div>"
      ],
      "text/plain": [
       "                     time  \\\n",
       "0 2023-03-13 18:53:50.585   \n",
       "\n",
       "                                                                                                                                                                                                                                                    in.tensor  \\\n",
       "0  [0.6752651953, -1.4463372267, 0.859222745, -1.3368839439, -0.0866638244, 372.1154780984, -0.2667405624, 0.0057462263, 2.3087968204, -0.6285378876, -0.5584151415, -0.0835430586, -0.6560503236, -1.4648287574, -0.2081778153, 0.2255257157, -0.3033813134]   \n",
       "\n",
       "   out.dense_2  check_failures  \n",
       "0  [39.575085]               1  "
      ]
     },
     "metadata": {},
     "output_type": "display_data"
    }
   ],
   "source": [
    "if arrowEnabled is True:\n",
    "    trigger_input= pd.DataFrame.from_records({\"tensor\": [\n",
    "                                                        [0.6752651953165153, -1.4463372267359147, 0.8592227450151407, -1.336883943861539, -0.08666382440547035, 372.11547809844996, -0.26674056237955046, 0.005746226275241667, 2.308796820400806, -0.6285378875598833, -0.5584151415472702, -0.08354305857288258, -0.65605032361317, -1.4648287573778653, -0.20817781526102327, 0.22552571571180896, -0.30338131340656516]\n",
    "                                                    ]\n",
    "                                                }\n",
    "                                            )\n",
    "else:\n",
    "    trigger_input= {\"tensor\": [\n",
    "                            [0.6752651953165153, -1.4463372267359147, 0.8592227450151407, -1.336883943861539, -0.08666382440547035, 372.11547809844996, -0.26674056237955046, 0.005746226275241667, 2.308796820400806, -0.6285378875598833, -0.5584151415472702, -0.08354305857288258, -0.65605032361317, -1.4648287573778653, -0.20817781526102327, 0.22552571571180896, -0.30338131340656516]\n",
    "                        ]\n",
    "                    }\n",
    "trigger_result = pipeline.infer(trigger_input)\n",
    "display(trigger_result)"
   ]
  },
  {
   "attachments": {},
   "cell_type": "markdown",
   "metadata": {},
   "source": [
    "### Multiple Tests\n",
    "\n",
    "With the initial tests run, we can run the inferences against a larger set of data and identify anomalies that appear versus the expected results.  These will be displayed into a graph so we can see where the anomalies occur.  In this case with the house that came in at $350 million - outside of our validation range.\n",
    "\n",
    "Note:  Because this is splitting one batch inference into 500 separate inferences for this example, it may take longer to run.\n",
    "\n",
    "Notice the one result that is outside the normal range - the one lonely result on the far right."
   ]
  },
  {
   "cell_type": "code",
   "execution_count": null,
   "metadata": {},
   "outputs": [],
   "source": [
    "if arrowEnabled is True:\n",
    "    test_data = pd.read_json(\"./data/houseprice_inputs_500.json\", orient=\"records\")\n",
    "    responses_anomaly = pd.DataFrame()\n",
    "    # For the first 1000 rows, submit that row as a separate DataFrame\n",
    "    # Add the results to the responses_anomaly dataframe\n",
    "    for index, row in test_data.head(500).iterrows():\n",
    "        responses_anomaly = responses_anomaly.append(pipeline.infer(row.to_frame('tensor').reset_index()))\n",
    "else:\n",
    "    test_data = json.load(\"./data/houseprice_inputs_500.json\")\n",
    "    responses_anomaly =[]\n",
    "    for nth in range(500):\n",
    "        responses_anomaly.extend(pipeline.infer({ \"tensor\": [test_data['tensor'][0][nth]]}))"
   ]
  },
  {
   "cell_type": "code",
   "execution_count": 92,
   "metadata": {},
   "outputs": [],
   "source": [
    "import pandas as pd\n",
    "import matplotlib.pyplot as plt\n",
    "%matplotlib inline"
   ]
  },
  {
   "cell_type": "code",
   "execution_count": 99,
   "metadata": {},
   "outputs": [
    {
     "data": {
      "image/png": "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",
      "text/plain": [
       "<Figure size 1200x800 with 1 Axes>"
      ]
     },
     "metadata": {},
     "output_type": "display_data"
    }
   ],
   "source": [
    "if arrowEnabled is True:\n",
    "    houseprices = pd.DataFrame({'sell_price': responses_anomaly['out.dense_2'].apply(lambda x: x[0])})\n",
    "else:\n",
    "    houseprices = pd.DataFrame({'sell_price': [r.raw['outputs'][0]['Float']['data'][0] for  r in responses_anomaly]})\n",
    "\n",
    "houseprices.hist(column='sell_price', bins=75, grid=False, figsize=(12,8))\n",
    "plt.axvline(x=40, color='gray', ls='--')\n",
    "_ = plt.title('Distribution of predicted home sales price')"
   ]
  },
  {
   "attachments": {},
   "cell_type": "markdown",
   "metadata": {},
   "source": [
    "### How To Check For Anomalies\n",
    "\n",
    "There are two primary methods for detecting anomalies with Wallaroo:\n",
    "\n",
    "* As demonstrated in the example above, from the `InferenceObject` `check_failures` array in the output of each inference to see if anything has happened.\n",
    "* The other method is to view pipeline's logs and see what anomalies have been detected."
   ]
  },
  {
   "attachments": {},
   "cell_type": "markdown",
   "metadata": {},
   "source": [
    "#### View Logs\n",
    "\n",
    "Anomalies can be displayed through the pipeline `logs()` method.  \n",
    "\n",
    "For Arrow enabled Wallaroo instances, the logs are returned as a dataframe.  Filtering by the column `check_failures` greater than 0 displays any inferences that had an anomaly triggered.\n",
    "\n",
    "For Arrow disabled Wallaroo instances, the parameter `valid=False` will show any validations that were flagged as `False` - in this case, houses that were above 350 thousand in value."
   ]
  },
  {
   "cell_type": "code",
   "execution_count": 96,
   "metadata": {},
   "outputs": [
    {
     "name": "stderr",
     "output_type": "stream",
     "text": [
      "Warning: Pipeline log size limit exceeded. Please request logs using export_logs"
     ]
    },
    {
     "data": {
      "text/html": [
       "<div>\n",
       "<style scoped>\n",
       "    .dataframe tbody tr th:only-of-type {\n",
       "        vertical-align: middle;\n",
       "    }\n",
       "\n",
       "    .dataframe tbody tr th {\n",
       "        vertical-align: top;\n",
       "    }\n",
       "\n",
       "    .dataframe thead th {\n",
       "        text-align: right;\n",
       "    }\n",
       "</style>\n",
       "<table border=\"1\" class=\"dataframe\">\n",
       "  <thead>\n",
       "    <tr style=\"text-align: right;\">\n",
       "      <th></th>\n",
       "      <th>time</th>\n",
       "      <th>in.index</th>\n",
       "      <th>in.tensor</th>\n",
       "      <th>out.dense_2</th>\n",
       "      <th>check_failures</th>\n",
       "    </tr>\n",
       "  </thead>\n",
       "  <tbody>\n",
       "    <tr>\n",
       "      <th>32</th>\n",
       "      <td>2023-03-13 19:41:03.596</td>\n",
       "      <td>tensor</td>\n",
       "      <td>[0.6752651953, -1.4463372267, 0.859222745, -1.3368839439, -0.0866638244, 372.1154780984, -0.2667405624, 0.0057462263, 2.3087968204, -0.6285378876, -0.5584151415, -0.0835430586, -0.6560503236, -1.4648287574, -0.2081778153, 0.2255257157, -0.3033813134]</td>\n",
       "      <td>[39.575085]</td>\n",
       "      <td>1</td>\n",
       "    </tr>\n",
       "  </tbody>\n",
       "</table>\n",
       "</div>"
      ],
      "text/plain": [
       "                      time in.index  \\\n",
       "32 2023-03-13 19:41:03.596   tensor   \n",
       "\n",
       "                                                                                                                                                                                                                                                     in.tensor  \\\n",
       "32  [0.6752651953, -1.4463372267, 0.859222745, -1.3368839439, -0.0866638244, 372.1154780984, -0.2667405624, 0.0057462263, 2.3087968204, -0.6285378876, -0.5584151415, -0.0835430586, -0.6560503236, -1.4648287574, -0.2081778153, 0.2255257157, -0.3033813134]   \n",
       "\n",
       "    out.dense_2  check_failures  \n",
       "32  [39.575085]               1  "
      ]
     },
     "metadata": {},
     "output_type": "display_data"
    }
   ],
   "source": [
    "if arrowEnabled is True:\n",
    "    logs = pipeline.logs()\n",
    "    logs = logs.loc[logs['check_failures'] > 0]\n",
    "else:\n",
    "    logs = pipeline.logs(valid=False)\n",
    "display(logs)"
   ]
  },
  {
   "attachments": {},
   "cell_type": "markdown",
   "metadata": {},
   "source": [
    "### Undeploy The Pipeline\n",
    "\n",
    "With the example complete, we undeploy the pipeline to return the resources back to the Wallaroo instance."
   ]
  },
  {
   "cell_type": "code",
   "execution_count": 113,
   "metadata": {},
   "outputs": [
    {
     "data": {
      "text/html": [
       "<table><tr><th>name</th> <td>anomalytestexample</td></tr><tr><th>created</th> <td>2023-03-13 20:18:16.622828+00:00</td></tr><tr><th>last_updated</th> <td>2023-03-13 20:18:18.995804+00:00</td></tr><tr><th>deployed</th> <td>False</td></tr><tr><th>tags</th> <td></td></tr><tr><th>versions</th> <td>dec18ab4-8b71-44c9-a507-c9763803153f, 64246a8b-61a8-4ead-94aa-00f4cf571f74</td></tr><tr><th>steps</th> <td>anomaly-housing-model</td></tr></table>"
      ],
      "text/plain": [
       "{'name': 'anomalytestexample', 'create_time': datetime.datetime(2023, 3, 13, 20, 18, 16, 622828, tzinfo=tzutc()), 'definition': '[{\\'ModelInference\\': {\\'models\\': [{\\'name\\': \\'anomaly-housing-model\\', \\'version\\': \\'449a1dda-93c4-49cc-8533-ab69afdfb057\\', \\'sha\\': \\'809c9f9a3016e5ab2190900d5fcfa476ee7411aa7a9ac5d4041d1cbe874cf8b9\\'}]}}, {\\'Check\\': {\\'tree\\': [\\'{\"values\": {\"price too high\": {\"root\": {\"node\": \"binop\", \"op\": \"<\", \"left\": {\"node\": \"variable\", \"variant_id\": {\"name\": \"anomaly-housing-model\"}, \"position\": \"output\", \"key\": [0, 0]}, \"right\": {\"node\": \"literal\", \"float\": 35.0}}, \"required_data\": [{\"name\": \"anomaly-housing-model\"}]}}, \"gauges\": [], \"validations\": [\"price too high\"]}\\']}}]'}"
      ]
     },
     "execution_count": 113,
     "metadata": {},
     "output_type": "execute_result"
    }
   ],
   "source": [
    "pipeline.undeploy()"
   ]
  },
  {
   "cell_type": "code",
   "execution_count": null,
   "metadata": {},
   "outputs": [],
   "source": []
  }
 ],
 "metadata": {
  "kernelspec": {
   "display_name": "Python 3 (ipykernel)",
   "language": "python",
   "name": "python3"
  },
  "language_info": {
   "codemirror_mode": {
    "name": "ipython",
    "version": 3
   },
   "file_extension": ".py",
   "mimetype": "text/x-python",
   "name": "python",
   "nbconvert_exporter": "python",
   "pygments_lexer": "ipython3",
   "version": "3.9.16"
  },
  "vscode": {
   "interpreter": {
    "hash": "7dda4bf3640b7fafcd1648658b879b4cc9f6ba6084e8fb356fdaaa1a461d1690"
   }
  }
 },
 "nbformat": 4,
 "nbformat_minor": 4
}
