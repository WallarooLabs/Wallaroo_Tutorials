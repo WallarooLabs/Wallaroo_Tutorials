{
 "cells": [
  {
   "cell_type": "markdown",
   "metadata": {},
   "source": [
    "## Steps\n",
    "\n",
    "### Import libraries\n",
    "\n",
    "The first step is to import the libraries needed for this notebook."
   ]
  },
  {
   "cell_type": "code",
   "execution_count": 1,
   "metadata": {},
   "outputs": [],
   "source": [
    "import wallaroo\n",
    "from wallaroo.object import EntityNotFoundError\n",
    "import os\n",
    "import json\n",
    "\n",
    "from IPython.display import display\n",
    "\n",
    "# used to display dataframe information without truncating\n",
    "from IPython.display import display\n",
    "import pandas as pd\n",
    "pd.set_option('display.max_colwidth', None)"
   ]
  },
  {
   "cell_type": "markdown",
   "metadata": {},
   "source": [
    "### Connect to Wallaroo Instance\n",
    "\n",
    "The following command will create a connection to the Wallaroo instance and store it in the variable `wl`."
   ]
  },
  {
   "cell_type": "code",
   "execution_count": 2,
   "metadata": {},
   "outputs": [
    {
     "name": "stdout",
     "output_type": "stream",
     "text": [
      "Please log into the following URL in a web browser:\n",
      "\n",
      "\thttps://docreleasetest.keycloak.wallaroocommunity.ninja/auth/realms/master/device?user_code=XNUJ-HLUU\n",
      "\n",
      "Login successful!\n"
     ]
    }
   ],
   "source": [
    "# Login through local Wallaroo instance\n",
    "\n",
    "# wl = wallaroo.Client()\n",
    "\n",
    "# SSO login through keycloak\n",
    "\n",
    "# wallarooPrefix = \"YOUR PREFIX\"\n",
    "# wallarooSuffix = \"YOUR PREFIX\"\n",
    "\n",
    "# wl = wallaroo.Client(api_endpoint=f\"https://{wallarooPrefix}.api.{wallarooSuffix}\", \n",
    "#                     auth_endpoint=f\"https://{wallarooPrefix}.keycloak.{wallarooSuffix}\", \n",
    "#                     auth_type=\"sso\")\n",
    "\n",
    "# os.environ[\"WALLAROO_SDK_CREDENTIALS\"] = './creds.json.example'\n",
    "\n",
    "# # wallarooPrefix = \"docreleasetest\"\n",
    "# # wallarooSuffix = \"wallaroocommunity.ninja\"\n",
    "\n",
    "wallarooPrefix = \"docreleasetest\"\n",
    "wallarooSuffix = \"wallaroocommunity.ninja\"\n",
    "\n",
    "# # wallarooPrefix = \"sparkly-apple-3026\"\n",
    "# # wallarooSuffix = \"wallaroo.community\"\n",
    "\n",
    "wl = wallaroo.Client(api_endpoint=f\"https://{wallarooPrefix}.api.{wallarooSuffix}\", \n",
    "                     auth_endpoint=f\"https://{wallarooPrefix}.keycloak.{wallarooSuffix}\", \n",
    "                     auth_type=\"sso\")\n",
    "\n",
    "# wl = wallaroo.Client(api_endpoint=f\"https://{wallarooPrefix}.api.{wallarooSuffix}\", \n",
    "#                     auth_endpoint=f\"https://{wallarooPrefix}.keycloak.{wallarooSuffix}\", \n",
    "#                     auth_type=\"sso\")"
   ]
  },
  {
   "cell_type": "code",
   "execution_count": 4,
   "metadata": {},
   "outputs": [],
   "source": [
    "import os\n",
    "os.environ[\"ARROW_ENABLED\"]=\"True\""
   ]
  },
  {
   "cell_type": "markdown",
   "metadata": {},
   "source": [
    "### Create Workspace\n",
    "\n",
    "We will create a workspace to manage our pipeline and models.  The following variables will set the name of our sample workspace then set it as the current workspace."
   ]
  },
  {
   "cell_type": "code",
   "execution_count": 5,
   "metadata": {},
   "outputs": [
    {
     "data": {
      "text/plain": [
       "{'name': 'anomalytesting', 'id': 4, 'archived': False, 'created_by': 'e8e34a3e-db75-49e3-a294-ac69f17bc177', 'created_at': '2023-05-03T21:10:11.609797+00:00', 'models': [], 'pipelines': []}"
      ]
     },
     "execution_count": 5,
     "metadata": {},
     "output_type": "execute_result"
    }
   ],
   "source": [
    "workspace_name = 'anomalytesting'\n",
    "\n",
    "def get_workspace(name):\n",
    "    workspace = None\n",
    "    for ws in wl.list_workspaces():\n",
    "        if ws.name() == name:\n",
    "            workspace= ws\n",
    "    if(workspace == None):\n",
    "        workspace = wl.create_workspace(name)\n",
    "    return workspace\n",
    "\n",
    "def get_pipeline(name):\n",
    "    try:\n",
    "        pipeline = wl.pipelines_by_name(name)[0]\n",
    "    except EntityNotFoundError:\n",
    "        pipeline = wl.build_pipeline(name)\n",
    "    return pipeline\n",
    "\n",
    "workspace = get_workspace(workspace_name)\n",
    "\n",
    "wl.set_current_workspace(workspace)"
   ]
  },
  {
   "cell_type": "markdown",
   "metadata": {},
   "source": [
    "## Upload The Model\n",
    "\n",
    "The housing model will be uploaded for use in our pipeline."
   ]
  },
  {
   "cell_type": "code",
   "execution_count": 6,
   "metadata": {},
   "outputs": [],
   "source": [
    "housing_model = wl.upload_model(\"anomaly-housing-model\", \"./models/housing.zip\").configure(\"tensorflow\")"
   ]
  },
  {
   "cell_type": "markdown",
   "metadata": {},
   "source": [
    "### Build the Pipeline and Validation\n",
    "\n",
    "The pipeline `anomaly-housing-pipeline` will be created and the `anomaly-housing-model` added as a step.  A validation will be created for outputs greater 100.0.  This is interpreted as houses with a value greater than $100 million with the `add_validation` method.  When houses greater than this value are detected, the `InferenceObject` will add it in the `check_failures` array with the message \"price too high\".\n",
    "\n",
    "Once complete, the pipeline will be deployed and ready for inferences.\n"
   ]
  },
  {
   "attachments": {},
   "cell_type": "markdown",
   "metadata": {},
   "source": [
    "Two pipelines:\n",
    "\n",
    "* Validation Integer:  A pipeline where the validation is set as an integer values.\n",
    "* Validation float:  A pipeline where the validation is set as a float."
   ]
  },
  {
   "cell_type": "code",
   "execution_count": 7,
   "metadata": {},
   "outputs": [
    {
     "data": {
      "text/html": [
       "<table><tr><th>name</th> <td>floatpipeline</td></tr><tr><th>created</th> <td>2023-05-03 21:10:15.346191+00:00</td></tr><tr><th>last_updated</th> <td>2023-05-03 21:10:15.346191+00:00</td></tr><tr><th>deployed</th> <td>(none)</td></tr><tr><th>tags</th> <td></td></tr><tr><th>versions</th> <td>b4fbce01-703d-4b9b-acda-4b19e0ab5da8</td></tr><tr><th>steps</th> <td></td></tr></table>"
      ],
      "text/plain": [
       "{'name': 'floatpipeline', 'create_time': datetime.datetime(2023, 5, 3, 21, 10, 15, 346191, tzinfo=tzutc()), 'definition': '[{\\'ModelInference\\': {\\'models\\': [{\\'name\\': \\'anomaly-housing-model\\', \\'version\\': \\'d06f27b2-addd-4df6-81c8-ef0d82eee1e1\\', \\'sha\\': \\'0d03d638f7100827288c808c2cc6e5dae127f5f31e7f0f97ef70aa2078f11cc1\\'}]}}, {\\'Check\\': {\\'tree\\': [\\'{\"values\": {\"price too high\": {\"root\": {\"node\": \"binop\", \"op\": \"<\", \"left\": {\"node\": \"variable\", \"variant_id\": {\"name\": \"anomaly-housing-model\"}, \"position\": \"output\", \"key\": [0, 0]}, \"right\": {\"node\": \"literal\", \"float\": 100.0}}, \"required_data\": [{\"name\": \"anomaly-housing-model\"}]}}, \"gauges\": [], \"validations\": [\"price too high\"]}\\']}}]'}"
      ]
     },
     "execution_count": 7,
     "metadata": {},
     "output_type": "execute_result"
    }
   ],
   "source": [
    "intpipeline = get_pipeline(\"intpipeline\")\n",
    "floatpipeline = get_pipeline(\"floatpipeline\")\n",
    "\n",
    "intpipeline.add_model_step(housing_model)\n",
    "floatpipeline.add_model_step(housing_model)\n",
    "\n",
    "intpipeline.add_validation('price too high', housing_model.outputs[0][0] < 100)\n",
    "floatpipeline.add_validation('price too high', housing_model.outputs[0][0] < 100.0)"
   ]
  },
  {
   "cell_type": "code",
   "execution_count": 8,
   "metadata": {},
   "outputs": [
    {
     "data": {
      "text/html": [
       "<table><tr><th>name</th> <td>floatpipeline</td></tr><tr><th>created</th> <td>2023-05-03 21:10:15.346191+00:00</td></tr><tr><th>last_updated</th> <td>2023-05-03 21:10:27.456869+00:00</td></tr><tr><th>deployed</th> <td>True</td></tr><tr><th>tags</th> <td></td></tr><tr><th>versions</th> <td>9cf8bddb-0eb5-43fc-81ee-7a1ef5a63bf9, b4fbce01-703d-4b9b-acda-4b19e0ab5da8</td></tr><tr><th>steps</th> <td>anomaly-housing-model</td></tr></table>"
      ],
      "text/plain": [
       "{'name': 'floatpipeline', 'create_time': datetime.datetime(2023, 5, 3, 21, 10, 15, 346191, tzinfo=tzutc()), 'definition': '[{\\'ModelInference\\': {\\'models\\': [{\\'name\\': \\'anomaly-housing-model\\', \\'version\\': \\'d06f27b2-addd-4df6-81c8-ef0d82eee1e1\\', \\'sha\\': \\'0d03d638f7100827288c808c2cc6e5dae127f5f31e7f0f97ef70aa2078f11cc1\\'}]}}, {\\'Check\\': {\\'tree\\': [\\'{\"values\": {\"price too high\": {\"root\": {\"node\": \"binop\", \"op\": \"<\", \"left\": {\"node\": \"variable\", \"variant_id\": {\"name\": \"anomaly-housing-model\"}, \"position\": \"output\", \"key\": [0, 0]}, \"right\": {\"node\": \"literal\", \"float\": 100.0}}, \"required_data\": [{\"name\": \"anomaly-housing-model\"}]}}, \"gauges\": [], \"validations\": [\"price too high\"]}\\']}}]'}"
      ]
     },
     "execution_count": 8,
     "metadata": {},
     "output_type": "execute_result"
    }
   ],
   "source": [
    "intpipeline.deploy()\n",
    "floatpipeline.deploy()"
   ]
  },
  {
   "cell_type": "code",
   "execution_count": 9,
   "metadata": {},
   "outputs": [
    {
     "data": {
      "text/html": [
       "<div>\n",
       "<style scoped>\n",
       "    .dataframe tbody tr th:only-of-type {\n",
       "        vertical-align: middle;\n",
       "    }\n",
       "\n",
       "    .dataframe tbody tr th {\n",
       "        vertical-align: top;\n",
       "    }\n",
       "\n",
       "    .dataframe thead th {\n",
       "        text-align: right;\n",
       "    }\n",
       "</style>\n",
       "<table border=\"1\" class=\"dataframe\">\n",
       "  <thead>\n",
       "    <tr style=\"text-align: right;\">\n",
       "      <th></th>\n",
       "      <th>time</th>\n",
       "      <th>in.dense_16_input</th>\n",
       "      <th>out.dense_19</th>\n",
       "      <th>check_failures</th>\n",
       "    </tr>\n",
       "  </thead>\n",
       "  <tbody>\n",
       "    <tr>\n",
       "      <th>0</th>\n",
       "      <td>2023-05-03 21:10:38.059</td>\n",
       "      <td>[0.02675675, 0.0, 0.02677953, 0.0, 0.0010046, 0.00951931, 0.14795322, 0.0027145, 0.03550877, 0.98536841, 0.02988655, 0.04031725, 0.04298041]</td>\n",
       "      <td>[10.349834]</td>\n",
       "      <td>1</td>\n",
       "    </tr>\n",
       "  </tbody>\n",
       "</table>\n",
       "</div>"
      ],
      "text/plain": [
       "                     time  \\\n",
       "0 2023-05-03 21:10:38.059   \n",
       "\n",
       "                                                                                                                              in.dense_16_input  \\\n",
       "0  [0.02675675, 0.0, 0.02677953, 0.0, 0.0010046, 0.00951931, 0.14795322, 0.0027145, 0.03550877, 0.98536841, 0.02988655, 0.04031725, 0.04298041]   \n",
       "\n",
       "  out.dense_19  check_failures  \n",
       "0  [10.349834]               1  "
      ]
     },
     "metadata": {},
     "output_type": "display_data"
    },
    {
     "data": {
      "text/html": [
       "<div>\n",
       "<style scoped>\n",
       "    .dataframe tbody tr th:only-of-type {\n",
       "        vertical-align: middle;\n",
       "    }\n",
       "\n",
       "    .dataframe tbody tr th {\n",
       "        vertical-align: top;\n",
       "    }\n",
       "\n",
       "    .dataframe thead th {\n",
       "        text-align: right;\n",
       "    }\n",
       "</style>\n",
       "<table border=\"1\" class=\"dataframe\">\n",
       "  <thead>\n",
       "    <tr style=\"text-align: right;\">\n",
       "      <th></th>\n",
       "      <th>time</th>\n",
       "      <th>in.dense_16_input</th>\n",
       "      <th>out.dense_19</th>\n",
       "      <th>check_failures</th>\n",
       "    </tr>\n",
       "  </thead>\n",
       "  <tbody>\n",
       "    <tr>\n",
       "      <th>0</th>\n",
       "      <td>2023-05-03 21:10:38.630</td>\n",
       "      <td>[0.02675675, 0.0, 0.02677953, 0.0, 0.0010046, 0.00951931, 0.14795322, 0.0027145, 0.03550877, 0.98536841, 0.02988655, 0.04031725, 0.04298041]</td>\n",
       "      <td>[10.349834]</td>\n",
       "      <td>0</td>\n",
       "    </tr>\n",
       "  </tbody>\n",
       "</table>\n",
       "</div>"
      ],
      "text/plain": [
       "                     time  \\\n",
       "0 2023-05-03 21:10:38.630   \n",
       "\n",
       "                                                                                                                              in.dense_16_input  \\\n",
       "0  [0.02675675, 0.0, 0.02677953, 0.0, 0.0010046, 0.00951931, 0.14795322, 0.0027145, 0.03550877, 0.98536841, 0.02988655, 0.04031725, 0.04298041]   \n",
       "\n",
       "  out.dense_19  check_failures  \n",
       "0  [10.349834]               0  "
      ]
     },
     "metadata": {},
     "output_type": "display_data"
    }
   ],
   "source": [
    "test_input = pd.DataFrame.from_records({\"dense_16_input\":{\"0\":[0.02675675,0.0,0.02677953,0.0,0.0010046,0.00951931,0.14795322,0.0027145,0.03550877,0.98536841,0.02988655,0.04031725,0.04298041]}})\n",
    "\n",
    "response_int = intpipeline.infer(test_input)\n",
    "response_float = floatpipeline.infer(test_input)\n",
    "display(response_int)\n",
    "display(response_float)"
   ]
  },
  {
   "cell_type": "code",
   "execution_count": 10,
   "metadata": {},
   "outputs": [
    {
     "data": {
      "text/html": [
       "<div>\n",
       "<style scoped>\n",
       "    .dataframe tbody tr th:only-of-type {\n",
       "        vertical-align: middle;\n",
       "    }\n",
       "\n",
       "    .dataframe tbody tr th {\n",
       "        vertical-align: top;\n",
       "    }\n",
       "\n",
       "    .dataframe thead th {\n",
       "        text-align: right;\n",
       "    }\n",
       "</style>\n",
       "<table border=\"1\" class=\"dataframe\">\n",
       "  <thead>\n",
       "    <tr style=\"text-align: right;\">\n",
       "      <th></th>\n",
       "      <th>time</th>\n",
       "      <th>in.dense_16_input</th>\n",
       "      <th>out.dense_19</th>\n",
       "      <th>check_failures</th>\n",
       "    </tr>\n",
       "  </thead>\n",
       "  <tbody>\n",
       "    <tr>\n",
       "      <th>0</th>\n",
       "      <td>2023-05-03 21:10:39.044</td>\n",
       "      <td>[0.02675675, 0.0, 0.02677953, 0.0, 0.0010046, 0.00951931, 0.14795322, 0.0027145, 2.0, 0.98536841, 0.02988655, 0.04031725, 0.04298041]</td>\n",
       "      <td>[350.46994]</td>\n",
       "      <td>1</td>\n",
       "    </tr>\n",
       "  </tbody>\n",
       "</table>\n",
       "</div>"
      ],
      "text/plain": [
       "                     time  \\\n",
       "0 2023-05-03 21:10:39.044   \n",
       "\n",
       "                                                                                                                       in.dense_16_input  \\\n",
       "0  [0.02675675, 0.0, 0.02677953, 0.0, 0.0010046, 0.00951931, 0.14795322, 0.0027145, 2.0, 0.98536841, 0.02988655, 0.04031725, 0.04298041]   \n",
       "\n",
       "  out.dense_19  check_failures  \n",
       "0  [350.46994]               1  "
      ]
     },
     "metadata": {},
     "output_type": "display_data"
    },
    {
     "data": {
      "text/html": [
       "<div>\n",
       "<style scoped>\n",
       "    .dataframe tbody tr th:only-of-type {\n",
       "        vertical-align: middle;\n",
       "    }\n",
       "\n",
       "    .dataframe tbody tr th {\n",
       "        vertical-align: top;\n",
       "    }\n",
       "\n",
       "    .dataframe thead th {\n",
       "        text-align: right;\n",
       "    }\n",
       "</style>\n",
       "<table border=\"1\" class=\"dataframe\">\n",
       "  <thead>\n",
       "    <tr style=\"text-align: right;\">\n",
       "      <th></th>\n",
       "      <th>time</th>\n",
       "      <th>in.dense_16_input</th>\n",
       "      <th>out.dense_19</th>\n",
       "      <th>check_failures</th>\n",
       "    </tr>\n",
       "  </thead>\n",
       "  <tbody>\n",
       "    <tr>\n",
       "      <th>0</th>\n",
       "      <td>2023-05-03 21:10:39.425</td>\n",
       "      <td>[0.02675675, 0.0, 0.02677953, 0.0, 0.0010046, 0.00951931, 0.14795322, 0.0027145, 2.0, 0.98536841, 0.02988655, 0.04031725, 0.04298041]</td>\n",
       "      <td>[350.46994]</td>\n",
       "      <td>1</td>\n",
       "    </tr>\n",
       "  </tbody>\n",
       "</table>\n",
       "</div>"
      ],
      "text/plain": [
       "                     time  \\\n",
       "0 2023-05-03 21:10:39.425   \n",
       "\n",
       "                                                                                                                       in.dense_16_input  \\\n",
       "0  [0.02675675, 0.0, 0.02677953, 0.0, 0.0010046, 0.00951931, 0.14795322, 0.0027145, 2.0, 0.98536841, 0.02988655, 0.04031725, 0.04298041]   \n",
       "\n",
       "  out.dense_19  check_failures  \n",
       "0  [350.46994]               1  "
      ]
     },
     "metadata": {},
     "output_type": "display_data"
    }
   ],
   "source": [
    "test_input = pd.DataFrame.from_records({\"dense_16_input\":{\"0\":[0.02675675,0.0,0.02677953,0.0,0.0010046,0.00951931,0.14795322,0.0027145,2,0.98536841,0.02988655,0.04031725,0.04298041]}})\n",
    "\n",
    "response_int = intpipeline.infer(test_input)\n",
    "response_float = floatpipeline.infer(test_input)\n",
    "display(response_int)\n",
    "display(response_float)"
   ]
  },
  {
   "cell_type": "markdown",
   "metadata": {},
   "source": [
    "### Undeploy The Pipeline\n",
    "\n",
    "With the example complete, we undeploy the pipeline to return the resources back to the Wallaroo instance."
   ]
  },
  {
   "cell_type": "code",
   "execution_count": 12,
   "metadata": {},
   "outputs": [
    {
     "data": {
      "text/html": [
       "<table><tr><th>name</th> <td>floatpipeline</td></tr><tr><th>created</th> <td>2023-05-03 21:10:15.346191+00:00</td></tr><tr><th>last_updated</th> <td>2023-05-03 21:10:27.456869+00:00</td></tr><tr><th>deployed</th> <td>False</td></tr><tr><th>tags</th> <td></td></tr><tr><th>versions</th> <td>9cf8bddb-0eb5-43fc-81ee-7a1ef5a63bf9, b4fbce01-703d-4b9b-acda-4b19e0ab5da8</td></tr><tr><th>steps</th> <td>anomaly-housing-model</td></tr></table>"
      ],
      "text/plain": [
       "{'name': 'floatpipeline', 'create_time': datetime.datetime(2023, 5, 3, 21, 10, 15, 346191, tzinfo=tzutc()), 'definition': '[{\\'ModelInference\\': {\\'models\\': [{\\'name\\': \\'anomaly-housing-model\\', \\'version\\': \\'d06f27b2-addd-4df6-81c8-ef0d82eee1e1\\', \\'sha\\': \\'0d03d638f7100827288c808c2cc6e5dae127f5f31e7f0f97ef70aa2078f11cc1\\'}]}}, {\\'Check\\': {\\'tree\\': [\\'{\"values\": {\"price too high\": {\"root\": {\"node\": \"binop\", \"op\": \"<\", \"left\": {\"node\": \"variable\", \"variant_id\": {\"name\": \"anomaly-housing-model\"}, \"position\": \"output\", \"key\": [0, 0]}, \"right\": {\"node\": \"literal\", \"float\": 100.0}}, \"required_data\": [{\"name\": \"anomaly-housing-model\"}]}}, \"gauges\": [], \"validations\": [\"price too high\"]}\\']}}]'}"
      ]
     },
     "execution_count": 12,
     "metadata": {},
     "output_type": "execute_result"
    }
   ],
   "source": [
    "intpipeline.undeploy()\n",
    "floatpipeline.undeploy()"
   ]
  },
  {
   "cell_type": "code",
   "execution_count": null,
   "metadata": {},
   "outputs": [],
   "source": []
  }
 ],
 "metadata": {
  "kernelspec": {
   "display_name": "Python 3 (ipykernel)",
   "language": "python",
   "name": "python3"
  },
  "language_info": {
   "codemirror_mode": {
    "name": "ipython",
    "version": 3
   },
   "file_extension": ".py",
   "mimetype": "text/x-python",
   "name": "python",
   "nbconvert_exporter": "python",
   "pygments_lexer": "ipython3",
   "version": "3.9.16"
  },
  "vscode": {
   "interpreter": {
    "hash": "7dda4bf3640b7fafcd1648658b879b4cc9f6ba6084e8fb356fdaaa1a461d1690"
   }
  }
 },
 "nbformat": 4,
 "nbformat_minor": 4
}
