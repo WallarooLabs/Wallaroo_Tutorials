{
 "cells": [
  {
   "attachments": {},
   "cell_type": "markdown",
   "metadata": {},
   "source": [
    "This tutorial and the assets can be downloaded as part of the [Wallaroo Tutorials repository](https://github.com/WallarooLabs/Wallaroo_Tutorials/tree/main/wallaroo-testing-tutorials/abtesting).\n",
    "\n",
    "## A/B Testing\n",
    "\n",
    "A/B testing is a method that provides the ability to test out ML models for performance, accuracy or other useful benchmarks.  A/B testing is contrasted with the Wallaroo Shadow Deployment feature.  In both cases, two sets of models are added to a pipeline step:\n",
    "\n",
    "* Control or Champion model:  The model currently used for inferences.\n",
    "* Challenger model(s): One or more models that are to be compared to the champion model.\n",
    "\n",
    "The two feature are different in this way:\n",
    "\n",
    "| Feature | Description |\n",
    "|---|---|\n",
    "| A/B Testing | A subset of inferences are submitted to either the champion ML model or a challenger ML model. |\n",
    "| Shadow Deploy | All inferences are submitted to the champion model and one or more challenger models. |\n",
    "\n",
    "So to repeat:  A/B testing submits *some* of the inference requests to the champion model, some to the challenger model with one set of outputs, while shadow testing submits *all* of the inference requests to champion and shadow models, and has separate outputs.\n",
    "\n",
    "This tutorial demonstrate how to conduct A/B testing in Wallaroo.  For this example we will be using an open source model that uses an [Aloha CNN LSTM model](https://www.researchgate.net/publication/348920204_Using_Auxiliary_Inputs_in_Deep_Learning_Models_for_Detecting_DGA-based_Domain_Names) for classifying Domain names as being either legitimate or being used for nefarious purposes such as malware distribution.  \n",
    "\n",
    "For our example, we will perform the following:\n",
    "\n",
    "* Create a workspace for our work.\n",
    "* Upload the Aloha model and a challenger model.\n",
    "* Create a pipeline that can ingest our submitted data with the champion model and the challenger model set into a A/B step.\n",
    "* Run a series of sample inferences to display inferences that are run through the champion model versus the challenger model, then determine which is more efficient.\n",
    "\n",
    "All sample data and models are available through the [Wallaroo Quick Start Guide Samples repository](https://github.com/WallarooLabs/quickstartguide_samples)."
   ]
  },
  {
   "attachments": {},
   "cell_type": "markdown",
   "metadata": {},
   "source": [
    "## Steps\n",
    "\n",
    "### Import libraries\n",
    "\n",
    "Here we will import the libraries needed for this notebook."
   ]
  },
  {
   "cell_type": "code",
   "execution_count": 5,
   "metadata": {},
   "outputs": [],
   "source": [
    "import wallaroo\n",
    "from wallaroo.object import EntityNotFoundError\n",
    "import os\n",
    "import pandas as pd\n",
    "import json\n",
    "from IPython.display import display\n",
    "\n",
    "# used to display dataframe information without truncating\n",
    "from IPython.display import display\n",
    "pd.set_option('display.max_colwidth', None)"
   ]
  },
  {
   "cell_type": "code",
   "execution_count": 6,
   "metadata": {},
   "outputs": [
    {
     "data": {
      "text/plain": [
       "'2023.1.0rc1'"
      ]
     },
     "execution_count": 6,
     "metadata": {},
     "output_type": "execute_result"
    }
   ],
   "source": [
    "wallaroo.__version__"
   ]
  },
  {
   "attachments": {},
   "cell_type": "markdown",
   "metadata": {},
   "source": [
    "### Arrow Support\n",
    "\n",
    "As of the 2023.1 release, Wallaroo provides support for dataframe and Arrow for inference inputs.  This tutorial allows users to adjust their experience based on whether they have enabled Arrow support in their Wallaroo instance or not.\n",
    "\n",
    "If Arrow support has been enabled, `arrowEnabled=True`. If disabled or you're not sure, set it to `arrowEnabled=False`\n",
    "\n",
    "The examples below will be shown in an arrow enabled environment."
   ]
  },
  {
   "cell_type": "code",
   "execution_count": 7,
   "metadata": {},
   "outputs": [
    {
     "name": "stdout",
     "output_type": "stream",
     "text": [
      "True\n"
     ]
    }
   ],
   "source": [
    "import os\n",
    "# Only set the below to make the OS environment ARROW_ENABLED to TRUE.  Otherwise, leave as is.\n",
    "os.environ[\"ARROW_ENABLED\"]=\"True\"\n",
    "\n",
    "if \"ARROW_ENABLED\" not in os.environ or os.environ[\"ARROW_ENABLED\"].casefold() == \"False\".casefold():\n",
    "    arrowEnabled = False\n",
    "else:\n",
    "    arrowEnabled = True\n",
    "print(arrowEnabled)"
   ]
  },
  {
   "cell_type": "markdown",
   "metadata": {},
   "source": [
    "### Connect to the Wallaroo Instance\n",
    "\n",
    "This command will be used to set up a connection to the Wallaroo cluster and allow creating and use of Wallaroo inference engines."
   ]
  },
  {
   "cell_type": "code",
   "execution_count": 8,
   "metadata": {},
   "outputs": [
    {
     "name": "stderr",
     "output_type": "stream",
     "text": [
      "ERROR:root:Keycloak token refresh got error: 400 - {\"error\":\"invalid_grant\",\"error_description\":\"Invalid refresh token\"}\n"
     ]
    },
    {
     "name": "stdout",
     "output_type": "stream",
     "text": [
      "Please log into the following URL in a web browser:\n",
      "\n",
      "\thttps://doc-test.keycloak.wallaroocommunity.ninja/auth/realms/master/device?user_code=FOAN-WGMH\n",
      "\n",
      "Login successful!\n"
     ]
    }
   ],
   "source": [
    "# Client connection from local Wallaroo instance\n",
    "\n",
    "# wl = wallaroo.Client()\n",
    "\n",
    "# SSO login through keycloak\n",
    "\n",
    "wallarooPrefix = \"doc-test\"\n",
    "wallarooSuffix = \"wallaroocommunity.ninja\"\n",
    "\n",
    "wl = wallaroo.Client(api_endpoint=f\"https://{wallarooPrefix}.api.{wallarooSuffix}\", \n",
    "                    auth_endpoint=f\"https://{wallarooPrefix}.keycloak.{wallarooSuffix}\", \n",
    "                    auth_type=\"sso\")"
   ]
  },
  {
   "attachments": {},
   "cell_type": "markdown",
   "metadata": {},
   "source": [
    "### Create Workspace\n",
    "\n",
    "We will create a workspace to manage our pipeline and models.  The following variables will set the name of our sample workspace then set it as the current workspace for all other commands.\n",
    "\n",
    "To allow this tutorial to be run multiple times or by multiple users in the same Wallaroo instance, a random 4 character prefix will be added to the workspace, pipeline, and model."
   ]
  },
  {
   "cell_type": "code",
   "execution_count": 9,
   "metadata": {},
   "outputs": [],
   "source": [
    "workspace_name = 'abtestingworkspace'\n"
   ]
  },
  {
   "cell_type": "code",
   "execution_count": 10,
   "metadata": {},
   "outputs": [],
   "source": [
    "def get_workspace(name):\n",
    "    workspace = None\n",
    "    for ws in wl.list_workspaces():\n",
    "        if ws.name() == name:\n",
    "            workspace= ws\n",
    "    if(workspace == None):\n",
    "        workspace = wl.create_workspace(name)\n",
    "    return workspace"
   ]
  },
  {
   "cell_type": "code",
   "execution_count": 11,
   "metadata": {},
   "outputs": [
    {
     "data": {
      "text/plain": [
       "{'name': 'abtestingworkspace', 'id': 5, 'archived': False, 'created_by': '42247718-e3c7-41eb-9b23-a3639ff77fd5', 'created_at': '2023-03-01T19:29:35.565813+00:00', 'models': [], 'pipelines': []}"
      ]
     },
     "execution_count": 11,
     "metadata": {},
     "output_type": "execute_result"
    }
   ],
   "source": [
    "workspace = get_workspace(workspace_name)\n",
    "\n",
    "wl.set_current_workspace(workspace)"
   ]
  },
  {
   "cell_type": "markdown",
   "metadata": {},
   "source": [
    "### Set Up the Champion and Challenger Models\n",
    "\n",
    "Now we upload the Champion and Challenger models to our workspace.  We will use two models:\n",
    "\n",
    "1. `aloha-cnn-lstm` model.\n",
    "2. `aloha-cnn-lstm-new` (a retrained version)"
   ]
  },
  {
   "cell_type": "markdown",
   "metadata": {},
   "source": [
    "### Set the Champion Model\n",
    "\n",
    "We upload our champion model, labeled as `control`."
   ]
  },
  {
   "cell_type": "code",
   "execution_count": 12,
   "metadata": {},
   "outputs": [],
   "source": [
    "control =  wl.upload_model(\"aloha-control\",   'models/aloha-cnn-lstm.zip').configure('tensorflow')"
   ]
  },
  {
   "cell_type": "markdown",
   "metadata": {},
   "source": [
    "### Set the Challenger Model\n",
    "\n",
    "Now we upload the Challenger model, labeled as `challenger`."
   ]
  },
  {
   "cell_type": "code",
   "execution_count": 13,
   "metadata": {},
   "outputs": [],
   "source": [
    "challenger = wl.upload_model(\"aloha-challenger\",   'models/aloha-cnn-lstm-new.zip').configure('tensorflow')"
   ]
  },
  {
   "cell_type": "markdown",
   "metadata": {},
   "source": [
    "### Define The Pipeline\n",
    "\n",
    "Here we will configure a pipeline with two models and set the control model with a random split chance of receiving 2/3 of the data.  Because this is a random split, it is possible for one model or the other to receive more inferences than a strict 2:1 ratio, but the more inferences are run, the more likely it is for the proper ratio split."
   ]
  },
  {
   "cell_type": "code",
   "execution_count": 14,
   "metadata": {},
   "outputs": [],
   "source": [
    "pipeline = (wl.build_pipeline(\"randomsplitpipeline-demo\")\n",
    "            .add_random_split([(2, control), (1, challenger)], \"session_id\"))"
   ]
  },
  {
   "cell_type": "markdown",
   "metadata": {},
   "source": [
    "### Deploy the pipeline\n",
    "\n",
    "Now we deploy the pipeline so we can run our inference through it."
   ]
  },
  {
   "cell_type": "code",
   "execution_count": 15,
   "metadata": {},
   "outputs": [],
   "source": [
    "experiment_pipeline = pipeline.deploy()"
   ]
  },
  {
   "cell_type": "code",
   "execution_count": 16,
   "metadata": {},
   "outputs": [
    {
     "data": {
      "text/plain": [
       "{'status': 'Running',\n",
       " 'details': [],\n",
       " 'engines': [{'ip': '10.244.13.15',\n",
       "   'name': 'engine-6cd755545-778dc',\n",
       "   'status': 'Running',\n",
       "   'reason': None,\n",
       "   'details': [],\n",
       "   'pipeline_statuses': {'pipelines': [{'id': 'randomsplitpipeline-demo',\n",
       "      'status': 'Running'}]},\n",
       "   'model_statuses': {'models': [{'name': 'aloha-control',\n",
       "      'version': '65e28c87-aaa8-451e-9a0a-be587f0d500c',\n",
       "      'sha': 'fd998cd5e4964bbbb4f8d29d245a8ac67df81b62be767afbceb96a03d1a01520',\n",
       "      'status': 'Running'},\n",
       "     {'name': 'aloha-challenger',\n",
       "      'version': '74ce34c9-2e52-45b1-9e50-2d5e0c1be000',\n",
       "      'sha': '223d26869d24976942f53ccb40b432e8b7c39f9ffcf1f719f3929d7595bceaf3',\n",
       "      'status': 'Running'}]}}],\n",
       " 'engine_lbs': [{'ip': '10.244.15.48',\n",
       "   'name': 'engine-lb-ddd995646-8wc2v',\n",
       "   'status': 'Running',\n",
       "   'reason': None,\n",
       "   'details': []}],\n",
       " 'sidekicks': []}"
      ]
     },
     "execution_count": 16,
     "metadata": {},
     "output_type": "execute_result"
    }
   ],
   "source": [
    "experiment_pipeline.status()"
   ]
  },
  {
   "cell_type": "markdown",
   "metadata": {},
   "source": [
    "# Run a single inference\n",
    "Now we have our deployment set up let's run a single inference. In the results we will be able to see the inference results as well as which model the inference went to under model_id.  We'll run the inference request 5 times, with the odds are that the challenger model being run at least once."
   ]
  },
  {
   "cell_type": "code",
   "execution_count": 17,
   "metadata": {},
   "outputs": [
    {
     "data": {
      "text/html": [
       "<div>\n",
       "<style scoped>\n",
       "    .dataframe tbody tr th:only-of-type {\n",
       "        vertical-align: middle;\n",
       "    }\n",
       "\n",
       "    .dataframe tbody tr th {\n",
       "        vertical-align: top;\n",
       "    }\n",
       "\n",
       "    .dataframe thead th {\n",
       "        text-align: right;\n",
       "    }\n",
       "</style>\n",
       "<table border=\"1\" class=\"dataframe\">\n",
       "  <thead>\n",
       "    <tr style=\"text-align: right;\">\n",
       "      <th></th>\n",
       "      <th>model_name</th>\n",
       "      <th>model_version</th>\n",
       "      <th>pipeline_name</th>\n",
       "      <th>outputs</th>\n",
       "      <th>elapsed</th>\n",
       "      <th>time</th>\n",
       "      <th>original_data</th>\n",
       "      <th>check_failures</th>\n",
       "      <th>shadow_data</th>\n",
       "    </tr>\n",
       "  </thead>\n",
       "  <tbody>\n",
       "    <tr>\n",
       "      <th>0</th>\n",
       "      <td>aloha-control</td>\n",
       "      <td>65e28c87-aaa8-451e-9a0a-be587f0d500c</td>\n",
       "      <td>randomsplitpipeline-demo</td>\n",
       "      <td>[{'Float': {'v': 1, 'dim': [1, 1], 'data': [0.0015195842133834958]}}, {'Float': {'v': 1, 'dim': [1, 1], 'data': [0.9829147458076477]}}, {'Float': {'v': 1, 'dim': [1, 1], 'data': [0.012099549174308777]}}, {'Float': {'v': 1, 'dim': [1, 1], 'data': [4.759115836350247e-05]}}, {'Float': {'v': 1, 'dim': [1, 1], 'data': [2.028934977715835e-05]}}, {'Float': {'v': 1, 'dim': [1, 1], 'data': [0.00031977228354662657]}}, {'Float': {'v': 1, 'dim': [1, 1], 'data': [0.011029261164367199]}}, {'Float': {'v': 1, 'dim': [1, 1], 'data': [0.9975640177726746]}}, {'Float': {'v': 1, 'dim': [1, 1], 'data': [0.010341613553464413]}}, {'Float': {'v': 1, 'dim': [1, 1], 'data': [0.008038961328566074]}}, {'Float': {'v': 1, 'dim': [1, 1], 'data': [0.016155054792761803]}}, {'Float': {'v': 1, 'dim': [1, 1], 'data': [0.0062362332828342915]}}, {'Float': {'v': 1, 'dim': [1, 1], 'data': [0.0009985746582970023]}}, {'Float': {'v': 1, 'dim': [1, 1], 'data': [1.79333675513837e-26]}}, {'Float': {'v': 1, 'dim': [1, 1], 'data': [1.388984431455466e-27]}}, {'String': {'v': 1, 'dim': [1, 1], 'data': ['{\"name\":\"aloha-control\",\"version\":\"65e28c87-aaa8-451e-9a0a-be587f0d500c\",\"sha\":\"fd998cd5e4964bbbb4f8d29d245a8ac67df81b62be767afbceb96a03d1a01520\"}']}}]</td>\n",
       "      <td>230640288</td>\n",
       "      <td>2023-03-01 19:30:01.241</td>\n",
       "      <td>None</td>\n",
       "      <td>0</td>\n",
       "      <td>{}</td>\n",
       "    </tr>\n",
       "  </tbody>\n",
       "</table>\n",
       "</div>"
      ],
      "text/plain": [
       "      model_name                         model_version  \\\n",
       "0  aloha-control  65e28c87-aaa8-451e-9a0a-be587f0d500c   \n",
       "\n",
       "              pipeline_name  \\\n",
       "0  randomsplitpipeline-demo   \n",
       "\n",
       "                                                                                                                                                                                                                                                                                                                                                                                                                                                                                                                                                                                                                                                                                                                                                                                                                                                                                                                                                                                                                                                                                                                                                                                                                                                                 outputs  \\\n",
       "0  [{'Float': {'v': 1, 'dim': [1, 1], 'data': [0.0015195842133834958]}}, {'Float': {'v': 1, 'dim': [1, 1], 'data': [0.9829147458076477]}}, {'Float': {'v': 1, 'dim': [1, 1], 'data': [0.012099549174308777]}}, {'Float': {'v': 1, 'dim': [1, 1], 'data': [4.759115836350247e-05]}}, {'Float': {'v': 1, 'dim': [1, 1], 'data': [2.028934977715835e-05]}}, {'Float': {'v': 1, 'dim': [1, 1], 'data': [0.00031977228354662657]}}, {'Float': {'v': 1, 'dim': [1, 1], 'data': [0.011029261164367199]}}, {'Float': {'v': 1, 'dim': [1, 1], 'data': [0.9975640177726746]}}, {'Float': {'v': 1, 'dim': [1, 1], 'data': [0.010341613553464413]}}, {'Float': {'v': 1, 'dim': [1, 1], 'data': [0.008038961328566074]}}, {'Float': {'v': 1, 'dim': [1, 1], 'data': [0.016155054792761803]}}, {'Float': {'v': 1, 'dim': [1, 1], 'data': [0.0062362332828342915]}}, {'Float': {'v': 1, 'dim': [1, 1], 'data': [0.0009985746582970023]}}, {'Float': {'v': 1, 'dim': [1, 1], 'data': [1.79333675513837e-26]}}, {'Float': {'v': 1, 'dim': [1, 1], 'data': [1.388984431455466e-27]}}, {'String': {'v': 1, 'dim': [1, 1], 'data': ['{\"name\":\"aloha-control\",\"version\":\"65e28c87-aaa8-451e-9a0a-be587f0d500c\",\"sha\":\"fd998cd5e4964bbbb4f8d29d245a8ac67df81b62be767afbceb96a03d1a01520\"}']}}]   \n",
       "\n",
       "     elapsed                    time original_data  check_failures shadow_data  \n",
       "0  230640288 2023-03-01 19:30:01.241          None               0          {}  "
      ]
     },
     "metadata": {},
     "output_type": "display_data"
    },
    {
     "data": {
      "text/html": [
       "<div>\n",
       "<style scoped>\n",
       "    .dataframe tbody tr th:only-of-type {\n",
       "        vertical-align: middle;\n",
       "    }\n",
       "\n",
       "    .dataframe tbody tr th {\n",
       "        vertical-align: top;\n",
       "    }\n",
       "\n",
       "    .dataframe thead th {\n",
       "        text-align: right;\n",
       "    }\n",
       "</style>\n",
       "<table border=\"1\" class=\"dataframe\">\n",
       "  <thead>\n",
       "    <tr style=\"text-align: right;\">\n",
       "      <th></th>\n",
       "      <th>model_name</th>\n",
       "      <th>model_version</th>\n",
       "      <th>pipeline_name</th>\n",
       "      <th>outputs</th>\n",
       "      <th>elapsed</th>\n",
       "      <th>time</th>\n",
       "      <th>original_data</th>\n",
       "      <th>check_failures</th>\n",
       "      <th>shadow_data</th>\n",
       "    </tr>\n",
       "  </thead>\n",
       "  <tbody>\n",
       "    <tr>\n",
       "      <th>0</th>\n",
       "      <td>aloha-control</td>\n",
       "      <td>65e28c87-aaa8-451e-9a0a-be587f0d500c</td>\n",
       "      <td>randomsplitpipeline-demo</td>\n",
       "      <td>[{'Float': {'v': 1, 'dim': [1, 1], 'data': [0.0015195842133834958]}}, {'Float': {'v': 1, 'dim': [1, 1], 'data': [0.9829147458076477]}}, {'Float': {'v': 1, 'dim': [1, 1], 'data': [0.012099549174308777]}}, {'Float': {'v': 1, 'dim': [1, 1], 'data': [4.759115836350247e-05]}}, {'Float': {'v': 1, 'dim': [1, 1], 'data': [2.028934977715835e-05]}}, {'Float': {'v': 1, 'dim': [1, 1], 'data': [0.00031977228354662657]}}, {'Float': {'v': 1, 'dim': [1, 1], 'data': [0.011029261164367199]}}, {'Float': {'v': 1, 'dim': [1, 1], 'data': [0.9975640177726746]}}, {'Float': {'v': 1, 'dim': [1, 1], 'data': [0.010341613553464413]}}, {'Float': {'v': 1, 'dim': [1, 1], 'data': [0.008038961328566074]}}, {'Float': {'v': 1, 'dim': [1, 1], 'data': [0.016155054792761803]}}, {'Float': {'v': 1, 'dim': [1, 1], 'data': [0.0062362332828342915]}}, {'Float': {'v': 1, 'dim': [1, 1], 'data': [0.0009985746582970023]}}, {'Float': {'v': 1, 'dim': [1, 1], 'data': [1.79333675513837e-26]}}, {'Float': {'v': 1, 'dim': [1, 1], 'data': [1.388984431455466e-27]}}, {'String': {'v': 1, 'dim': [1, 1], 'data': ['{\"name\":\"aloha-control\",\"version\":\"65e28c87-aaa8-451e-9a0a-be587f0d500c\",\"sha\":\"fd998cd5e4964bbbb4f8d29d245a8ac67df81b62be767afbceb96a03d1a01520\"}']}}]</td>\n",
       "      <td>185191185</td>\n",
       "      <td>2023-03-01 19:30:01.859</td>\n",
       "      <td>None</td>\n",
       "      <td>0</td>\n",
       "      <td>{}</td>\n",
       "    </tr>\n",
       "  </tbody>\n",
       "</table>\n",
       "</div>"
      ],
      "text/plain": [
       "      model_name                         model_version  \\\n",
       "0  aloha-control  65e28c87-aaa8-451e-9a0a-be587f0d500c   \n",
       "\n",
       "              pipeline_name  \\\n",
       "0  randomsplitpipeline-demo   \n",
       "\n",
       "                                                                                                                                                                                                                                                                                                                                                                                                                                                                                                                                                                                                                                                                                                                                                                                                                                                                                                                                                                                                                                                                                                                                                                                                                                                                 outputs  \\\n",
       "0  [{'Float': {'v': 1, 'dim': [1, 1], 'data': [0.0015195842133834958]}}, {'Float': {'v': 1, 'dim': [1, 1], 'data': [0.9829147458076477]}}, {'Float': {'v': 1, 'dim': [1, 1], 'data': [0.012099549174308777]}}, {'Float': {'v': 1, 'dim': [1, 1], 'data': [4.759115836350247e-05]}}, {'Float': {'v': 1, 'dim': [1, 1], 'data': [2.028934977715835e-05]}}, {'Float': {'v': 1, 'dim': [1, 1], 'data': [0.00031977228354662657]}}, {'Float': {'v': 1, 'dim': [1, 1], 'data': [0.011029261164367199]}}, {'Float': {'v': 1, 'dim': [1, 1], 'data': [0.9975640177726746]}}, {'Float': {'v': 1, 'dim': [1, 1], 'data': [0.010341613553464413]}}, {'Float': {'v': 1, 'dim': [1, 1], 'data': [0.008038961328566074]}}, {'Float': {'v': 1, 'dim': [1, 1], 'data': [0.016155054792761803]}}, {'Float': {'v': 1, 'dim': [1, 1], 'data': [0.0062362332828342915]}}, {'Float': {'v': 1, 'dim': [1, 1], 'data': [0.0009985746582970023]}}, {'Float': {'v': 1, 'dim': [1, 1], 'data': [1.79333675513837e-26]}}, {'Float': {'v': 1, 'dim': [1, 1], 'data': [1.388984431455466e-27]}}, {'String': {'v': 1, 'dim': [1, 1], 'data': ['{\"name\":\"aloha-control\",\"version\":\"65e28c87-aaa8-451e-9a0a-be587f0d500c\",\"sha\":\"fd998cd5e4964bbbb4f8d29d245a8ac67df81b62be767afbceb96a03d1a01520\"}']}}]   \n",
       "\n",
       "     elapsed                    time original_data  check_failures shadow_data  \n",
       "0  185191185 2023-03-01 19:30:01.859          None               0          {}  "
      ]
     },
     "metadata": {},
     "output_type": "display_data"
    },
    {
     "data": {
      "text/html": [
       "<div>\n",
       "<style scoped>\n",
       "    .dataframe tbody tr th:only-of-type {\n",
       "        vertical-align: middle;\n",
       "    }\n",
       "\n",
       "    .dataframe tbody tr th {\n",
       "        vertical-align: top;\n",
       "    }\n",
       "\n",
       "    .dataframe thead th {\n",
       "        text-align: right;\n",
       "    }\n",
       "</style>\n",
       "<table border=\"1\" class=\"dataframe\">\n",
       "  <thead>\n",
       "    <tr style=\"text-align: right;\">\n",
       "      <th></th>\n",
       "      <th>model_name</th>\n",
       "      <th>model_version</th>\n",
       "      <th>pipeline_name</th>\n",
       "      <th>outputs</th>\n",
       "      <th>elapsed</th>\n",
       "      <th>time</th>\n",
       "      <th>original_data</th>\n",
       "      <th>check_failures</th>\n",
       "      <th>shadow_data</th>\n",
       "    </tr>\n",
       "  </thead>\n",
       "  <tbody>\n",
       "    <tr>\n",
       "      <th>0</th>\n",
       "      <td>aloha-challenger</td>\n",
       "      <td>74ce34c9-2e52-45b1-9e50-2d5e0c1be000</td>\n",
       "      <td>randomsplitpipeline-demo</td>\n",
       "      <td>[{'Float': {'v': 1, 'dim': [1, 1], 'data': [0.0015195842133834958]}}, {'Float': {'v': 1, 'dim': [1, 1], 'data': [0.9829147458076477]}}, {'Float': {'v': 1, 'dim': [1, 1], 'data': [0.012099549174308777]}}, {'Float': {'v': 1, 'dim': [1, 1], 'data': [4.759115836350247e-05]}}, {'Float': {'v': 1, 'dim': [1, 1], 'data': [2.028934977715835e-05]}}, {'Float': {'v': 1, 'dim': [1, 1], 'data': [0.00031977228354662657]}}, {'Float': {'v': 1, 'dim': [1, 1], 'data': [0.011029261164367199]}}, {'Float': {'v': 1, 'dim': [1, 1], 'data': [0.9975640177726746]}}, {'Float': {'v': 1, 'dim': [1, 1], 'data': [0.010341613553464413]}}, {'Float': {'v': 1, 'dim': [1, 1], 'data': [0.008038961328566074]}}, {'Float': {'v': 1, 'dim': [1, 1], 'data': [0.016155054792761803]}}, {'Float': {'v': 1, 'dim': [1, 1], 'data': [0.0062362332828342915]}}, {'Float': {'v': 1, 'dim': [1, 1], 'data': [0.0009985746582970023]}}, {'Float': {'v': 1, 'dim': [1, 1], 'data': [1.79333675513837e-26]}}, {'Float': {'v': 1, 'dim': [1, 1], 'data': [1.388984431455466e-27]}}, {'String': {'v': 1, 'dim': [1, 1], 'data': ['{\"name\":\"aloha-challenger\",\"version\":\"74ce34c9-2e52-45b1-9e50-2d5e0c1be000\",\"sha\":\"223d26869d24976942f53ccb40b432e8b7c39f9ffcf1f719f3929d7595bceaf3\"}']}}]</td>\n",
       "      <td>186747119</td>\n",
       "      <td>2023-03-01 19:30:02.438</td>\n",
       "      <td>None</td>\n",
       "      <td>0</td>\n",
       "      <td>{}</td>\n",
       "    </tr>\n",
       "  </tbody>\n",
       "</table>\n",
       "</div>"
      ],
      "text/plain": [
       "         model_name                         model_version  \\\n",
       "0  aloha-challenger  74ce34c9-2e52-45b1-9e50-2d5e0c1be000   \n",
       "\n",
       "              pipeline_name  \\\n",
       "0  randomsplitpipeline-demo   \n",
       "\n",
       "                                                                                                                                                                                                                                                                                                                                                                                                                                                                                                                                                                                                                                                                                                                                                                                                                                                                                                                                                                                                                                                                                                                                                                                                                                                                    outputs  \\\n",
       "0  [{'Float': {'v': 1, 'dim': [1, 1], 'data': [0.0015195842133834958]}}, {'Float': {'v': 1, 'dim': [1, 1], 'data': [0.9829147458076477]}}, {'Float': {'v': 1, 'dim': [1, 1], 'data': [0.012099549174308777]}}, {'Float': {'v': 1, 'dim': [1, 1], 'data': [4.759115836350247e-05]}}, {'Float': {'v': 1, 'dim': [1, 1], 'data': [2.028934977715835e-05]}}, {'Float': {'v': 1, 'dim': [1, 1], 'data': [0.00031977228354662657]}}, {'Float': {'v': 1, 'dim': [1, 1], 'data': [0.011029261164367199]}}, {'Float': {'v': 1, 'dim': [1, 1], 'data': [0.9975640177726746]}}, {'Float': {'v': 1, 'dim': [1, 1], 'data': [0.010341613553464413]}}, {'Float': {'v': 1, 'dim': [1, 1], 'data': [0.008038961328566074]}}, {'Float': {'v': 1, 'dim': [1, 1], 'data': [0.016155054792761803]}}, {'Float': {'v': 1, 'dim': [1, 1], 'data': [0.0062362332828342915]}}, {'Float': {'v': 1, 'dim': [1, 1], 'data': [0.0009985746582970023]}}, {'Float': {'v': 1, 'dim': [1, 1], 'data': [1.79333675513837e-26]}}, {'Float': {'v': 1, 'dim': [1, 1], 'data': [1.388984431455466e-27]}}, {'String': {'v': 1, 'dim': [1, 1], 'data': ['{\"name\":\"aloha-challenger\",\"version\":\"74ce34c9-2e52-45b1-9e50-2d5e0c1be000\",\"sha\":\"223d26869d24976942f53ccb40b432e8b7c39f9ffcf1f719f3929d7595bceaf3\"}']}}]   \n",
       "\n",
       "     elapsed                    time original_data  check_failures shadow_data  \n",
       "0  186747119 2023-03-01 19:30:02.438          None               0          {}  "
      ]
     },
     "metadata": {},
     "output_type": "display_data"
    },
    {
     "data": {
      "text/html": [
       "<div>\n",
       "<style scoped>\n",
       "    .dataframe tbody tr th:only-of-type {\n",
       "        vertical-align: middle;\n",
       "    }\n",
       "\n",
       "    .dataframe tbody tr th {\n",
       "        vertical-align: top;\n",
       "    }\n",
       "\n",
       "    .dataframe thead th {\n",
       "        text-align: right;\n",
       "    }\n",
       "</style>\n",
       "<table border=\"1\" class=\"dataframe\">\n",
       "  <thead>\n",
       "    <tr style=\"text-align: right;\">\n",
       "      <th></th>\n",
       "      <th>model_name</th>\n",
       "      <th>model_version</th>\n",
       "      <th>pipeline_name</th>\n",
       "      <th>outputs</th>\n",
       "      <th>elapsed</th>\n",
       "      <th>time</th>\n",
       "      <th>original_data</th>\n",
       "      <th>check_failures</th>\n",
       "      <th>shadow_data</th>\n",
       "    </tr>\n",
       "  </thead>\n",
       "  <tbody>\n",
       "    <tr>\n",
       "      <th>0</th>\n",
       "      <td>aloha-control</td>\n",
       "      <td>65e28c87-aaa8-451e-9a0a-be587f0d500c</td>\n",
       "      <td>randomsplitpipeline-demo</td>\n",
       "      <td>[{'Float': {'v': 1, 'dim': [1, 1], 'data': [0.0015195842133834958]}}, {'Float': {'v': 1, 'dim': [1, 1], 'data': [0.9829147458076477]}}, {'Float': {'v': 1, 'dim': [1, 1], 'data': [0.012099549174308777]}}, {'Float': {'v': 1, 'dim': [1, 1], 'data': [4.759115836350247e-05]}}, {'Float': {'v': 1, 'dim': [1, 1], 'data': [2.028934977715835e-05]}}, {'Float': {'v': 1, 'dim': [1, 1], 'data': [0.00031977228354662657]}}, {'Float': {'v': 1, 'dim': [1, 1], 'data': [0.011029261164367199]}}, {'Float': {'v': 1, 'dim': [1, 1], 'data': [0.9975640177726746]}}, {'Float': {'v': 1, 'dim': [1, 1], 'data': [0.010341613553464413]}}, {'Float': {'v': 1, 'dim': [1, 1], 'data': [0.008038961328566074]}}, {'Float': {'v': 1, 'dim': [1, 1], 'data': [0.016155054792761803]}}, {'Float': {'v': 1, 'dim': [1, 1], 'data': [0.0062362332828342915]}}, {'Float': {'v': 1, 'dim': [1, 1], 'data': [0.0009985746582970023]}}, {'Float': {'v': 1, 'dim': [1, 1], 'data': [1.79333675513837e-26]}}, {'Float': {'v': 1, 'dim': [1, 1], 'data': [1.388984431455466e-27]}}, {'String': {'v': 1, 'dim': [1, 1], 'data': ['{\"name\":\"aloha-control\",\"version\":\"65e28c87-aaa8-451e-9a0a-be587f0d500c\",\"sha\":\"fd998cd5e4964bbbb4f8d29d245a8ac67df81b62be767afbceb96a03d1a01520\"}']}}]</td>\n",
       "      <td>10970042</td>\n",
       "      <td>2023-03-01 19:30:03.027</td>\n",
       "      <td>None</td>\n",
       "      <td>0</td>\n",
       "      <td>{}</td>\n",
       "    </tr>\n",
       "  </tbody>\n",
       "</table>\n",
       "</div>"
      ],
      "text/plain": [
       "      model_name                         model_version  \\\n",
       "0  aloha-control  65e28c87-aaa8-451e-9a0a-be587f0d500c   \n",
       "\n",
       "              pipeline_name  \\\n",
       "0  randomsplitpipeline-demo   \n",
       "\n",
       "                                                                                                                                                                                                                                                                                                                                                                                                                                                                                                                                                                                                                                                                                                                                                                                                                                                                                                                                                                                                                                                                                                                                                                                                                                                                 outputs  \\\n",
       "0  [{'Float': {'v': 1, 'dim': [1, 1], 'data': [0.0015195842133834958]}}, {'Float': {'v': 1, 'dim': [1, 1], 'data': [0.9829147458076477]}}, {'Float': {'v': 1, 'dim': [1, 1], 'data': [0.012099549174308777]}}, {'Float': {'v': 1, 'dim': [1, 1], 'data': [4.759115836350247e-05]}}, {'Float': {'v': 1, 'dim': [1, 1], 'data': [2.028934977715835e-05]}}, {'Float': {'v': 1, 'dim': [1, 1], 'data': [0.00031977228354662657]}}, {'Float': {'v': 1, 'dim': [1, 1], 'data': [0.011029261164367199]}}, {'Float': {'v': 1, 'dim': [1, 1], 'data': [0.9975640177726746]}}, {'Float': {'v': 1, 'dim': [1, 1], 'data': [0.010341613553464413]}}, {'Float': {'v': 1, 'dim': [1, 1], 'data': [0.008038961328566074]}}, {'Float': {'v': 1, 'dim': [1, 1], 'data': [0.016155054792761803]}}, {'Float': {'v': 1, 'dim': [1, 1], 'data': [0.0062362332828342915]}}, {'Float': {'v': 1, 'dim': [1, 1], 'data': [0.0009985746582970023]}}, {'Float': {'v': 1, 'dim': [1, 1], 'data': [1.79333675513837e-26]}}, {'Float': {'v': 1, 'dim': [1, 1], 'data': [1.388984431455466e-27]}}, {'String': {'v': 1, 'dim': [1, 1], 'data': ['{\"name\":\"aloha-control\",\"version\":\"65e28c87-aaa8-451e-9a0a-be587f0d500c\",\"sha\":\"fd998cd5e4964bbbb4f8d29d245a8ac67df81b62be767afbceb96a03d1a01520\"}']}}]   \n",
       "\n",
       "    elapsed                    time original_data  check_failures shadow_data  \n",
       "0  10970042 2023-03-01 19:30:03.027          None               0          {}  "
      ]
     },
     "metadata": {},
     "output_type": "display_data"
    },
    {
     "data": {
      "text/html": [
       "<div>\n",
       "<style scoped>\n",
       "    .dataframe tbody tr th:only-of-type {\n",
       "        vertical-align: middle;\n",
       "    }\n",
       "\n",
       "    .dataframe tbody tr th {\n",
       "        vertical-align: top;\n",
       "    }\n",
       "\n",
       "    .dataframe thead th {\n",
       "        text-align: right;\n",
       "    }\n",
       "</style>\n",
       "<table border=\"1\" class=\"dataframe\">\n",
       "  <thead>\n",
       "    <tr style=\"text-align: right;\">\n",
       "      <th></th>\n",
       "      <th>model_name</th>\n",
       "      <th>model_version</th>\n",
       "      <th>pipeline_name</th>\n",
       "      <th>outputs</th>\n",
       "      <th>elapsed</th>\n",
       "      <th>time</th>\n",
       "      <th>original_data</th>\n",
       "      <th>check_failures</th>\n",
       "      <th>shadow_data</th>\n",
       "    </tr>\n",
       "  </thead>\n",
       "  <tbody>\n",
       "    <tr>\n",
       "      <th>0</th>\n",
       "      <td>aloha-control</td>\n",
       "      <td>65e28c87-aaa8-451e-9a0a-be587f0d500c</td>\n",
       "      <td>randomsplitpipeline-demo</td>\n",
       "      <td>[{'Float': {'v': 1, 'dim': [1, 1], 'data': [0.0015195842133834958]}}, {'Float': {'v': 1, 'dim': [1, 1], 'data': [0.9829147458076477]}}, {'Float': {'v': 1, 'dim': [1, 1], 'data': [0.012099549174308777]}}, {'Float': {'v': 1, 'dim': [1, 1], 'data': [4.759115836350247e-05]}}, {'Float': {'v': 1, 'dim': [1, 1], 'data': [2.028934977715835e-05]}}, {'Float': {'v': 1, 'dim': [1, 1], 'data': [0.00031977228354662657]}}, {'Float': {'v': 1, 'dim': [1, 1], 'data': [0.011029261164367199]}}, {'Float': {'v': 1, 'dim': [1, 1], 'data': [0.9975640177726746]}}, {'Float': {'v': 1, 'dim': [1, 1], 'data': [0.010341613553464413]}}, {'Float': {'v': 1, 'dim': [1, 1], 'data': [0.008038961328566074]}}, {'Float': {'v': 1, 'dim': [1, 1], 'data': [0.016155054792761803]}}, {'Float': {'v': 1, 'dim': [1, 1], 'data': [0.0062362332828342915]}}, {'Float': {'v': 1, 'dim': [1, 1], 'data': [0.0009985746582970023]}}, {'Float': {'v': 1, 'dim': [1, 1], 'data': [1.79333675513837e-26]}}, {'Float': {'v': 1, 'dim': [1, 1], 'data': [1.388984431455466e-27]}}, {'String': {'v': 1, 'dim': [1, 1], 'data': ['{\"name\":\"aloha-control\",\"version\":\"65e28c87-aaa8-451e-9a0a-be587f0d500c\",\"sha\":\"fd998cd5e4964bbbb4f8d29d245a8ac67df81b62be767afbceb96a03d1a01520\"}']}}]</td>\n",
       "      <td>11199847</td>\n",
       "      <td>2023-03-01 19:30:03.448</td>\n",
       "      <td>None</td>\n",
       "      <td>0</td>\n",
       "      <td>{}</td>\n",
       "    </tr>\n",
       "  </tbody>\n",
       "</table>\n",
       "</div>"
      ],
      "text/plain": [
       "      model_name                         model_version  \\\n",
       "0  aloha-control  65e28c87-aaa8-451e-9a0a-be587f0d500c   \n",
       "\n",
       "              pipeline_name  \\\n",
       "0  randomsplitpipeline-demo   \n",
       "\n",
       "                                                                                                                                                                                                                                                                                                                                                                                                                                                                                                                                                                                                                                                                                                                                                                                                                                                                                                                                                                                                                                                                                                                                                                                                                                                                 outputs  \\\n",
       "0  [{'Float': {'v': 1, 'dim': [1, 1], 'data': [0.0015195842133834958]}}, {'Float': {'v': 1, 'dim': [1, 1], 'data': [0.9829147458076477]}}, {'Float': {'v': 1, 'dim': [1, 1], 'data': [0.012099549174308777]}}, {'Float': {'v': 1, 'dim': [1, 1], 'data': [4.759115836350247e-05]}}, {'Float': {'v': 1, 'dim': [1, 1], 'data': [2.028934977715835e-05]}}, {'Float': {'v': 1, 'dim': [1, 1], 'data': [0.00031977228354662657]}}, {'Float': {'v': 1, 'dim': [1, 1], 'data': [0.011029261164367199]}}, {'Float': {'v': 1, 'dim': [1, 1], 'data': [0.9975640177726746]}}, {'Float': {'v': 1, 'dim': [1, 1], 'data': [0.010341613553464413]}}, {'Float': {'v': 1, 'dim': [1, 1], 'data': [0.008038961328566074]}}, {'Float': {'v': 1, 'dim': [1, 1], 'data': [0.016155054792761803]}}, {'Float': {'v': 1, 'dim': [1, 1], 'data': [0.0062362332828342915]}}, {'Float': {'v': 1, 'dim': [1, 1], 'data': [0.0009985746582970023]}}, {'Float': {'v': 1, 'dim': [1, 1], 'data': [1.79333675513837e-26]}}, {'Float': {'v': 1, 'dim': [1, 1], 'data': [1.388984431455466e-27]}}, {'String': {'v': 1, 'dim': [1, 1], 'data': ['{\"name\":\"aloha-control\",\"version\":\"65e28c87-aaa8-451e-9a0a-be587f0d500c\",\"sha\":\"fd998cd5e4964bbbb4f8d29d245a8ac67df81b62be767afbceb96a03d1a01520\"}']}}]   \n",
       "\n",
       "    elapsed                    time original_data  check_failures shadow_data  \n",
       "0  11199847 2023-03-01 19:30:03.448          None               0          {}  "
      ]
     },
     "metadata": {},
     "output_type": "display_data"
    }
   ],
   "source": [
    "results = []\n",
    "if arrowEnabled is True:\n",
    "    # use dataframe JSON files\n",
    "    for x in range(5):\n",
    "        result = experiment_pipeline.infer_from_file(\"data/data-1.df.json\")\n",
    "        #display(result.loc[:,[\"model_name\",\"outputs\"]])\n",
    "        display(result)       \n",
    "else:\n",
    "    # use Wallaroo JSON files\n",
    "    results.append(experiment_pipeline.infer_from_file(\"data/data-1.json\"))\n",
    "    results.append(experiment_pipeline.infer_from_file(\"data/data-1.json\"))\n",
    "    results.append(experiment_pipeline.infer_from_file(\"data/data-1.json\"))\n",
    "    results.append(experiment_pipeline.infer_from_file(\"data/data-1.json\"))\n",
    "    results.append(experiment_pipeline.infer_from_file(\"data/data-1.json\"))\n",
    "    for result in results:\n",
    "        print(result[0].model())\n",
    "        print(result[0].data()[7])"
   ]
  },
  {
   "cell_type": "markdown",
   "metadata": {},
   "source": [
    "### Run Inference Batch\n",
    "\n",
    "We will submit 1000 rows of test data through the pipeline, then loop through the responses and display which model each inference was performed in.  The results between the control and challenger should be approximately 2:1."
   ]
  },
  {
   "cell_type": "code",
   "execution_count": 18,
   "metadata": {},
   "outputs": [
    {
     "data": {
      "text/plain": [
       "aloha-control       685\n",
       "aloha-challenger    315\n",
       "Name: model_name, dtype: int64"
      ]
     },
     "metadata": {},
     "output_type": "display_data"
    }
   ],
   "source": [
    "if arrowEnabled is True:\n",
    "    #Read in the test data as one dataframe\n",
    "    test_data = pd.read_json('data/data-1k.df.json')\n",
    "    # For each row, submit that row as a separate dataframe\n",
    "    # Add the results to the responses array\n",
    "    df = pd.DataFrame()\n",
    "    for index, row in test_data.head(1000).iterrows():\n",
    "        df = df.append(experiment_pipeline.infer(row.to_frame('text_input').reset_index()))\n",
    "    display(df.model_name.value_counts())\n",
    "else:\n",
    "    l = []\n",
    "    responses =[]\n",
    "    from data import test_data\n",
    "    for nth in range(1000):\n",
    "        responses.extend(experiment_pipeline.infer(test_data.data[nth]))\n",
    "    l = [r.raw['model_name'] for r in responses]\n",
    "    df = pd.DataFrame({'model': l})\n",
    "    display(df.model.value_counts())"
   ]
  },
  {
   "cell_type": "markdown",
   "metadata": {},
   "source": [
    "### Test Challenger\n",
    "\n",
    "Now we have run a large amount of data we can compare the results.\n",
    "\n",
    "For this experiment we are looking for a significant change in the fraction of inferences that predicted a probability of the seventh category being high than 0.5 so we can determine whether our challenger model is more \"successful\" than the champion model at identifying category 7."
   ]
  },
  {
   "cell_type": "code",
   "execution_count": 19,
   "metadata": {},
   "outputs": [
    {
     "name": "stdout",
     "output_type": "stream",
     "text": [
      "control class 7 prediction rate: 0.9766423357664233\n",
      "challenger class 7 prediction rate: 0.9777777777777777\n"
     ]
    }
   ],
   "source": [
    "control_count = 0\n",
    "challenger_count = 0\n",
    "\n",
    "control_success = 0\n",
    "challenger_success = 0\n",
    "\n",
    "if arrowEnabled is True:\n",
    "    # do nothing\n",
    "    for index, row in df.iterrows():\n",
    "        if row[\"model_name\"] == \"aloha-control\":\n",
    "            # display(row[\"model_name\"])\n",
    "            control_count += 1\n",
    "            if row[\"outputs\"][7]['Float']['data'][0] > .5:\n",
    "                control_success += 1\n",
    "        else:\n",
    "            challenger_count += 1\n",
    "            if row[\"outputs\"][7]['Float']['data'][0] > .5:\n",
    "                challenger_success += 1\n",
    "else:\n",
    "    for r in responses:\n",
    "        if r.raw['model_name'] == \"aloha-control\":\n",
    "            control_count += 1\n",
    "            if(r.raw['outputs'][7]['Float']['data'][0] > .5):\n",
    "                control_success += 1\n",
    "        else:\n",
    "            challenger_count +=1\n",
    "            if(r.raw['outputs'][7]['Float']['data'][0] > .5):\n",
    "                challenger_success += 1\n",
    "           \n",
    "            \n",
    "print(\"control class 7 prediction rate: \" + str(control_success/control_count))\n",
    "print(\"challenger class 7 prediction rate: \" + str(challenger_success/challenger_count))"
   ]
  },
  {
   "attachments": {},
   "cell_type": "markdown",
   "metadata": {},
   "source": [
    "### Logs\n",
    "\n",
    "Logs can be viewed with the Pipeline method `logs()`.\n",
    "\n",
    "In Arrow enabled Wallaroo environments, logs are returned as a Pandas DataFrame object.\n",
    "\n",
    "In Arrow disabled Wallaroo environments, logs are returned as the Wallaroo Log object.\n",
    "\n",
    "In either case, only the first 5 logs will be shown."
   ]
  },
  {
   "cell_type": "code",
   "execution_count": 23,
   "metadata": {},
   "outputs": [
    {
     "data": {
      "text/html": [
       "<div>\n",
       "<style scoped>\n",
       "    .dataframe tbody tr th:only-of-type {\n",
       "        vertical-align: middle;\n",
       "    }\n",
       "\n",
       "    .dataframe tbody tr th {\n",
       "        vertical-align: top;\n",
       "    }\n",
       "\n",
       "    .dataframe thead th {\n",
       "        text-align: right;\n",
       "    }\n",
       "</style>\n",
       "<table border=\"1\" class=\"dataframe\">\n",
       "  <thead>\n",
       "    <tr style=\"text-align: right;\">\n",
       "      <th></th>\n",
       "      <th>time</th>\n",
       "      <th>message</th>\n",
       "    </tr>\n",
       "  </thead>\n",
       "  <tbody>\n",
       "    <tr>\n",
       "      <th>0</th>\n",
       "      <td>2023-03-01 20:57:02.548</td>\n",
       "      <td>{\"model_name\":\"anomaly-housing-model\",\"model_version\":\"4354ad0b-d1c8-4b7f-a4b3-52837f4ffdcb\",\"pipeline_name\":\"anomaly-housing-pipeline3\",\"outputs\":[{\"Float\":{\"v\":1,\"dim\":[1,1],\"data\":[28.64939308166504]}}],\"elapsed\":326218,\"time\":1677704220674,\"original_data\":null,\"check_failures\":[[]],\"shadow_data\":{}}</td>\n",
       "    </tr>\n",
       "    <tr>\n",
       "      <th>1</th>\n",
       "      <td>2023-03-01 20:57:02.548</td>\n",
       "      <td>{\"model_name\":\"anomaly-housing-model\",\"model_version\":\"4354ad0b-d1c8-4b7f-a4b3-52837f4ffdcb\",\"pipeline_name\":\"anomaly-housing-pipeline3\",\"outputs\":[{\"Float\":{\"v\":1,\"dim\":[1,1],\"data\":[27.588991165161133]}}],\"elapsed\":296016,\"time\":1677704221094,\"original_data\":null,\"check_failures\":[[]],\"shadow_data\":{}}</td>\n",
       "    </tr>\n",
       "    <tr>\n",
       "      <th>2</th>\n",
       "      <td>2023-03-01 20:57:02.548</td>\n",
       "      <td>{\"model_name\":\"anomaly-housing-model\",\"model_version\":\"4354ad0b-d1c8-4b7f-a4b3-52837f4ffdcb\",\"pipeline_name\":\"anomaly-housing-pipeline3\",\"outputs\":[{\"Float\":{\"v\":1,\"dim\":[1,1],\"data\":[23.101274490356445]}}],\"elapsed\":307917,\"time\":1677704221538,\"original_data\":null,\"check_failures\":[[]],\"shadow_data\":{}}</td>\n",
       "    </tr>\n",
       "    <tr>\n",
       "      <th>3</th>\n",
       "      <td>2023-03-01 20:59:55.650</td>\n",
       "      <td>{\"model_name\":\"anomaly-housing-model\",\"model_version\":\"4354ad0b-d1c8-4b7f-a4b3-52837f4ffdcb\",\"pipeline_name\":\"anomaly-housing-pipeline3\",\"outputs\":[{\"Float\":{\"v\":1,\"dim\":[1,1],\"data\":[350.46990966796875]}}],\"elapsed\":348312,\"time\":1677704394641,\"original_data\":null,\"check_failures\":[[{\"False\":{\"expr\":\"anomaly-housing-model.outputs[0][0] &lt; 100\"}}]],\"shadow_data\":{}}</td>\n",
       "    </tr>\n",
       "    <tr>\n",
       "      <th>4</th>\n",
       "      <td>2023-03-01 21:00:24.111</td>\n",
       "      <td>{\"model_name\":\"anomaly-housing-model\",\"model_version\":\"4354ad0b-d1c8-4b7f-a4b3-52837f4ffdcb\",\"pipeline_name\":\"anomaly-housing-pipeline3\",\"outputs\":[{\"Float\":{\"v\":1,\"dim\":[1,1],\"data\":[350.46990966796875]}}],\"elapsed\":336412,\"time\":1677704423102,\"original_data\":null,\"check_failures\":[[{\"False\":{\"expr\":\"anomaly-housing-model.outputs[0][0] &lt; 100\"}}]],\"shadow_data\":{}}</td>\n",
       "    </tr>\n",
       "  </tbody>\n",
       "</table>\n",
       "</div>"
      ],
      "text/plain": [
       "                     time  \\\n",
       "0 2023-03-01 20:57:02.548   \n",
       "1 2023-03-01 20:57:02.548   \n",
       "2 2023-03-01 20:57:02.548   \n",
       "3 2023-03-01 20:59:55.650   \n",
       "4 2023-03-01 21:00:24.111   \n",
       "\n",
       "                                                                                                                                                                                                                                                                                                                                                                           message  \n",
       "0                                                                 {\"model_name\":\"anomaly-housing-model\",\"model_version\":\"4354ad0b-d1c8-4b7f-a4b3-52837f4ffdcb\",\"pipeline_name\":\"anomaly-housing-pipeline3\",\"outputs\":[{\"Float\":{\"v\":1,\"dim\":[1,1],\"data\":[28.64939308166504]}}],\"elapsed\":326218,\"time\":1677704220674,\"original_data\":null,\"check_failures\":[[]],\"shadow_data\":{}}  \n",
       "1                                                                {\"model_name\":\"anomaly-housing-model\",\"model_version\":\"4354ad0b-d1c8-4b7f-a4b3-52837f4ffdcb\",\"pipeline_name\":\"anomaly-housing-pipeline3\",\"outputs\":[{\"Float\":{\"v\":1,\"dim\":[1,1],\"data\":[27.588991165161133]}}],\"elapsed\":296016,\"time\":1677704221094,\"original_data\":null,\"check_failures\":[[]],\"shadow_data\":{}}  \n",
       "2                                                                {\"model_name\":\"anomaly-housing-model\",\"model_version\":\"4354ad0b-d1c8-4b7f-a4b3-52837f4ffdcb\",\"pipeline_name\":\"anomaly-housing-pipeline3\",\"outputs\":[{\"Float\":{\"v\":1,\"dim\":[1,1],\"data\":[23.101274490356445]}}],\"elapsed\":307917,\"time\":1677704221538,\"original_data\":null,\"check_failures\":[[]],\"shadow_data\":{}}  \n",
       "3  {\"model_name\":\"anomaly-housing-model\",\"model_version\":\"4354ad0b-d1c8-4b7f-a4b3-52837f4ffdcb\",\"pipeline_name\":\"anomaly-housing-pipeline3\",\"outputs\":[{\"Float\":{\"v\":1,\"dim\":[1,1],\"data\":[350.46990966796875]}}],\"elapsed\":348312,\"time\":1677704394641,\"original_data\":null,\"check_failures\":[[{\"False\":{\"expr\":\"anomaly-housing-model.outputs[0][0] < 100\"}}]],\"shadow_data\":{}}  \n",
       "4  {\"model_name\":\"anomaly-housing-model\",\"model_version\":\"4354ad0b-d1c8-4b7f-a4b3-52837f4ffdcb\",\"pipeline_name\":\"anomaly-housing-pipeline3\",\"outputs\":[{\"Float\":{\"v\":1,\"dim\":[1,1],\"data\":[350.46990966796875]}}],\"elapsed\":336412,\"time\":1677704423102,\"original_data\":null,\"check_failures\":[[{\"False\":{\"expr\":\"anomaly-housing-model.outputs[0][0] < 100\"}}]],\"shadow_data\":{}}  "
      ]
     },
     "metadata": {},
     "output_type": "display_data"
    }
   ],
   "source": [
    "logs = experiment_pipeline.logs(limit=5)\n",
    "display(logs)"
   ]
  },
  {
   "cell_type": "markdown",
   "metadata": {
    "tags": []
   },
   "source": [
    "### Undeploy Pipeline\n",
    "\n",
    "With the testing complete, we undeploy the pipeline to return the resources back to the environment."
   ]
  },
  {
   "cell_type": "code",
   "execution_count": 21,
   "metadata": {},
   "outputs": [
    {
     "data": {
      "text/html": [
       "<table><tr><th>name</th> <td>randomsplitpipeline-demo</td></tr><tr><th>created</th> <td>2023-03-01 19:29:40.280260+00:00</td></tr><tr><th>last_updated</th> <td>2023-03-01 19:29:41.631810+00:00</td></tr><tr><th>deployed</th> <td>False</td></tr><tr><th>tags</th> <td></td></tr><tr><th>versions</th> <td>10964262-1ef6-4e2e-a4ab-7477717a9daa, 661856be-d9e8-402d-b25a-5e0e389eecdf</td></tr><tr><th>steps</th> <td>aloha-control</td></tr></table>"
      ],
      "text/plain": [
       "{'name': 'randomsplitpipeline-demo', 'create_time': datetime.datetime(2023, 3, 1, 19, 29, 40, 280260, tzinfo=tzutc()), 'definition': \"[{'RandomSplit': {'hash_key': 'session_id', 'weights': [{'model': {'name': 'aloha-control', 'version': '65e28c87-aaa8-451e-9a0a-be587f0d500c', 'sha': 'fd998cd5e4964bbbb4f8d29d245a8ac67df81b62be767afbceb96a03d1a01520'}, 'weight': 2}, {'model': {'name': 'aloha-challenger', 'version': '74ce34c9-2e52-45b1-9e50-2d5e0c1be000', 'sha': '223d26869d24976942f53ccb40b432e8b7c39f9ffcf1f719f3929d7595bceaf3'}, 'weight': 1}]}}]\"}"
      ]
     },
     "execution_count": 21,
     "metadata": {},
     "output_type": "execute_result"
    }
   ],
   "source": [
    "experiment_pipeline.undeploy()\n"
   ]
  }
 ],
 "metadata": {
  "kernelspec": {
   "display_name": "arrowtests",
   "language": "python",
   "name": "python3"
  },
  "language_info": {
   "codemirror_mode": {
    "name": "ipython",
    "version": 3
   },
   "file_extension": ".py",
   "mimetype": "text/x-python",
   "name": "python",
   "nbconvert_exporter": "python",
   "pygments_lexer": "ipython3",
   "version": "3.8.12"
  },
  "vscode": {
   "interpreter": {
    "hash": "7dda4bf3640b7fafcd1648658b879b4cc9f6ba6084e8fb356fdaaa1a461d1690"
   }
  }
 },
 "nbformat": 4,
 "nbformat_minor": 4
}
