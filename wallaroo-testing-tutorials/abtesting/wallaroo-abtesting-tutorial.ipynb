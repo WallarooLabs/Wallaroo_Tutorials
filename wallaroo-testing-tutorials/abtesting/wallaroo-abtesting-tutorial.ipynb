{
 "cells": [
  {
   "cell_type": "markdown",
   "metadata": {},
   "source": [
    "This tutorial and the assets can be downloaded as part of the [Wallaroo Tutorials repository](https://github.com/WallarooLabs/Wallaroo_Tutorials/tree/main/wallaroo-testing-tutorials/abtesting).\n",
    "\n",
    "## A/B Testing\n",
    "\n",
    "A/B testing is a method that provides the ability to test out ML models for performance, accuracy or other useful benchmarks.  A/B testing is contrasted with the Wallaroo Shadow Deployment feature.  In both cases, two sets of models are added to a pipeline step:\n",
    "\n",
    "* Control or Champion model:  The model currently used for inferences.\n",
    "* Challenger model(s): One or more models that are to be compared to the champion model.\n",
    "\n",
    "The two feature are different in this way:\n",
    "\n",
    "| Feature | Description |\n",
    "|---|---|\n",
    "| A/B Testing | A subset of inferences are submitted to either the champion ML model or a challenger ML model, and the results of each are output as part of the `InferenceResult` `output` attribute. |\n",
    "| Shadow Deploy | All inferences are submitted to the champion model and one or more challenger models.  The results for the champion model are output as part of the `InferenceResult` `output` attribute, while the results for the challenger models are output as part of the `InferenceResult` `shadow_data` attribute. |\n",
    "\n",
    "So to repeat:  A/B testing submits *some* of the inference requests to the champion model, some to the challenger model with one set of outputs, while shadow testing submits *all* of the inference requests to champion and shadow models, and has separate outputs.\n",
    "\n",
    "This tutorial demonstrate how to conduct A/B testing in Wallaroo.  For this example we will be using an open source model that uses an [Aloha CNN LSTM model](https://www.researchgate.net/publication/348920204_Using_Auxiliary_Inputs_in_Deep_Learning_Models_for_Detecting_DGA-based_Domain_Names) for classifying Domain names as being either legitimate or being used for nefarious purposes such as malware distribution.  \n",
    "\n",
    "For our example, we will perform the following:\n",
    "\n",
    "* Create a workspace for our work.\n",
    "* Upload the Aloha model and a challenger model.\n",
    "* Create a pipeline that can ingest our submitted data with the champion model and the challenger model set into a A/B step.\n",
    "* Run a series of sample inferences to display inferences that are run through the champion model versus the challenger model, then determine which is more efficient.\n",
    "\n",
    "All sample data and models are available through the [Wallaroo Quick Start Guide Samples repository](https://github.com/WallarooLabs/quickstartguide_samples)."
   ]
  },
  {
   "cell_type": "markdown",
   "metadata": {},
   "source": [
    "## Steps\n",
    "\n",
    "### Import libraries\n",
    "\n",
    "Here we will import the libraries needed for this notebook.\n",
    "\n",
    "[Arrow support](https://arrow.apache.org/) is an early preview feature of Wallaroo version 2023.1.  The variable `arrowEnabled` is used for later inference requests to submit either the Wallaroo JSON is Arrow support is disabled, or to pass either dataframe tables or Arrow data for inference requests.\n",
    "\n",
    "Set the `os.environ[\"ARROW_ENABLED\"]` to either `True` if Arrow support is enabled in the Wallaroo instance, or `False` if Arrow support has not been abled.  For more information on Arrow support, see the [Wallaroo Documentation site](https://docs.wallaroo.ai)."
   ]
  },
  {
   "cell_type": "code",
   "execution_count": 1,
   "metadata": {},
   "outputs": [],
   "source": [
    "import wallaroo\n",
    "from wallaroo.object import EntityNotFoundError\n",
    "import os\n",
    "import pandas as pd\n",
    "# Check if arrow support is abled.\n",
    "\n",
    "import os\n",
    "os.environ[\"ARROW_ENABLED\"]=\"True\"\n",
    "if \"ARROW_ENABLED\" in os.environ:\n",
    "    arrowEnabled = os.environ[\"ARROW_ENABLED\"]\n",
    "else:\n",
    "    arrowEnabled = False"
   ]
  },
  {
   "cell_type": "markdown",
   "metadata": {},
   "source": [
    "### Connect to the Wallaroo Instance\n",
    "\n",
    "This command will be used to set up a connection to the Wallaroo cluster and allow creating and use of Wallaroo inference engines."
   ]
  },
  {
   "cell_type": "code",
   "execution_count": 2,
   "metadata": {},
   "outputs": [],
   "source": [
    "# SSO login through keycloak.  Uncomment to use.\n",
    "\n",
    "#wallarooPrefix = \"YOUR PREFIX\"\n",
    "#wallarooSuffix = \"YOUR SUFFIX\"\n",
    "\n",
    "\n",
    "#wl = wallaroo.Client(api_endpoint=f\"https://{wallarooPrefix}.api.{wallarooSuffix}\", \n",
    "#                auth_endpoint=f\"https://{wallarooPrefix}.keycloak.{wallarooSuffix}\", \n",
    "#                auth_type=\"sso\")\n",
    "\n",
    "# Login from within the Wallaroo JupyterHub service.  Uncomment to use.\n",
    "\n",
    "wl = wallaroo.Client()"
   ]
  },
  {
   "cell_type": "markdown",
   "metadata": {},
   "source": [
    "### Create Workspace\n",
    "\n",
    "We will create a workspace to manage our pipeline and models.  The following variables will set the name of our sample workspace then set it as the current workspace for all other commands."
   ]
  },
  {
   "cell_type": "code",
   "execution_count": 3,
   "metadata": {},
   "outputs": [],
   "source": [
    "prefix = \"jch-\"\n",
    "workspace_name = f'{prefix}abtestworkspace'\n",
    "pipeline_name = f'{prefix}abtestpipeline'\n",
    "model_name = f'{prefix}alohamodel'"
   ]
  },
  {
   "cell_type": "code",
   "execution_count": 4,
   "metadata": {},
   "outputs": [
    {
     "data": {
      "text/plain": [
       "{'name': 'jch-abtestworkspace', 'id': 22, 'archived': False, 'created_by': '39bf22e5-bb55-40ce-b1ab-36eed7a29150', 'created_at': '2023-02-09T15:56:46.633626+00:00', 'models': [], 'pipelines': []}"
      ]
     },
     "execution_count": 4,
     "metadata": {},
     "output_type": "execute_result"
    }
   ],
   "source": [
    "def get_workspace(name):\n",
    "    workspace = None\n",
    "    for ws in wl.list_workspaces():\n",
    "        if ws.name() == name:\n",
    "            workspace= ws\n",
    "    if(workspace == None):\n",
    "        workspace = wl.create_workspace(name)\n",
    "    return workspace\n",
    "\n",
    "workspace = get_workspace(workspace_name)\n",
    "\n",
    "wl.set_current_workspace(workspace)"
   ]
  },
  {
   "cell_type": "markdown",
   "metadata": {},
   "source": [
    "### Set Up the Champion and Challenger Models\n",
    "\n",
    "Now we upload the Champion and Challenger models to our workspace.  We will use two models:\n",
    "\n",
    "1. `aloha-cnn-lstm` model.\n",
    "2. `aloha-cnn-lstm-new` (a retrained version)"
   ]
  },
  {
   "cell_type": "markdown",
   "metadata": {},
   "source": [
    "### Set the Champion Model\n",
    "\n",
    "We upload our champion model, labeled as `control`."
   ]
  },
  {
   "cell_type": "code",
   "execution_count": 5,
   "metadata": {},
   "outputs": [],
   "source": [
    "control =  wl.upload_model(\"aloha-control\",   'models/aloha-cnn-lstm.zip').configure('tensorflow')"
   ]
  },
  {
   "cell_type": "markdown",
   "metadata": {},
   "source": [
    "### Set the Challenger Model\n",
    "\n",
    "Now we upload the Challenger model, labeled as `challenger`."
   ]
  },
  {
   "cell_type": "code",
   "execution_count": 6,
   "metadata": {},
   "outputs": [],
   "source": [
    "challenger = wl.upload_model(\"aloha-challenger\",   'models/aloha-cnn-lstm-new.zip').configure('tensorflow')"
   ]
  },
  {
   "cell_type": "markdown",
   "metadata": {},
   "source": [
    "### Define The Pipeline\n",
    "\n",
    "Here we will configure a pipeline with two models and set the control model with a random split chance of receiving 2/3 of the data.  Because this is a random split, it is possible for one model or the other to receive more inferences than a strict 2:1 ratio, but the more inferences are run, the more likely it is for the proper ratio split."
   ]
  },
  {
   "cell_type": "code",
   "execution_count": 7,
   "metadata": {},
   "outputs": [],
   "source": [
    "pipeline = (wl.build_pipeline(\"randomsplitpipeline-demo\")\n",
    "            .add_random_split([(2, control), (1, challenger)], \"session_id\"))"
   ]
  },
  {
   "cell_type": "markdown",
   "metadata": {},
   "source": [
    "### Deploy the pipeline\n",
    "\n",
    "Now we deploy the pipeline so we can run our inference through it."
   ]
  },
  {
   "cell_type": "code",
   "execution_count": 8,
   "metadata": {},
   "outputs": [
    {
     "name": "stdout",
     "output_type": "stream",
     "text": [
      "Waiting for deployment - this will take up to 45s .............. ok\n"
     ]
    }
   ],
   "source": [
    "experiment_pipeline = pipeline.deploy()"
   ]
  },
  {
   "cell_type": "markdown",
   "metadata": {},
   "source": [
    "# Run a single inference\n",
    "Now we have our deployment set up let's run a single inference. In the results we will be able to see the inference results as well as which model the inference went to under model_id.  We'll run the inference request 5 times, with the odds are that the challenger model being run at least once."
   ]
  },
  {
   "cell_type": "code",
   "execution_count": 45,
   "metadata": {},
   "outputs": [],
   "source": [
    "pd.set_option('display.max_colwidth', None)"
   ]
  },
  {
   "cell_type": "code",
   "execution_count": 70,
   "metadata": {},
   "outputs": [
    {
     "name": "stdout",
     "output_type": "stream",
     "text": [
      "['{\"name\":\"aloha-challenger\",\"version\":\"fe3ee1ec-9b6a-4f3a-b90d-67947452f72c\",\"sha\":\"223d26869d24976942f53ccb40b432e8b7c39f9ffcf1f719f3929d7595bceaf3\"}']\n",
      "                                                                                                                                                 out.split  \\\n",
      "0  [{\"name\":\"aloha-challenger\",\"version\":\"fe3ee1ec-9b6a-4f3a-b90d-67947452f72c\",\"sha\":\"223d26869d24976942f53ccb40b432e8b7c39f9ffcf1f719f3929d7595bceaf3\"}]   \n",
      "\n",
      "          out.gozi   out.corebot      out.ramnit    out.main       out.kraken  \\\n",
      "0  [2.0289332e-05]  [0.98291475]  [0.0009985747]  [0.997564]  [0.00031977228]   \n",
      "\n",
      "      out.pykspa out.cryptolocker      out.locky     out.qakbot  \\\n",
      "0  [0.008038961]    [0.012099553]  [0.011029261]  [0.016155045]   \n",
      "\n",
      "      out.suppobox     out.dircrypt       out.ramdo        out.simda  \\\n",
      "0  [1.3889844e-27]  [4.7591206e-05]  [0.0062362333]  [1.7933435e-26]   \n",
      "\n",
      "      out.matsnu     out.banjori  \n",
      "0  [0.010341614]  [0.0015195842]  \n",
      "['{\"name\":\"aloha-control\",\"version\":\"f900d492-f17f-494e-ad5a-948d4f053506\",\"sha\":\"fd998cd5e4964bbbb4f8d29d245a8ac67df81b62be767afbceb96a03d1a01520\"}']\n",
      "    out.corebot     out.suppobox     out.banjori     out.pykspa  \\\n",
      "0  [0.98291475]  [1.3889844e-27]  [0.0015195842]  [0.008038961]   \n",
      "\n",
      "      out.matsnu     out.qakbot  \\\n",
      "0  [0.010341614]  [0.016155045]   \n",
      "\n",
      "                                                                                                                                              out.split  \\\n",
      "0  [{\"name\":\"aloha-control\",\"version\":\"f900d492-f17f-494e-ad5a-948d4f053506\",\"sha\":\"fd998cd5e4964bbbb4f8d29d245a8ac67df81b62be767afbceb96a03d1a01520\"}]   \n",
      "\n",
      "       out.ramnit         out.gozi        out.simda out.cryptolocker  \\\n",
      "0  [0.0009985747]  [2.0289332e-05]  [1.7933435e-26]    [0.012099553]   \n",
      "\n",
      "     out.main       out.kraken      out.locky       out.ramdo     out.dircrypt  \n",
      "0  [0.997564]  [0.00031977228]  [0.011029261]  [0.0062362333]  [4.7591206e-05]  \n",
      "['{\"name\":\"aloha-challenger\",\"version\":\"fe3ee1ec-9b6a-4f3a-b90d-67947452f72c\",\"sha\":\"223d26869d24976942f53ccb40b432e8b7c39f9ffcf1f719f3929d7595bceaf3\"}']\n",
      "      out.suppobox  \\\n",
      "0  [1.3889844e-27]   \n",
      "\n",
      "                                                                                                                                                 out.split  \\\n",
      "0  [{\"name\":\"aloha-challenger\",\"version\":\"fe3ee1ec-9b6a-4f3a-b90d-67947452f72c\",\"sha\":\"223d26869d24976942f53ccb40b432e8b7c39f9ffcf1f719f3929d7595bceaf3\"}]   \n",
      "\n",
      "    out.corebot        out.simda     out.banjori       out.ramdo  \\\n",
      "0  [0.98291475]  [1.7933435e-26]  [0.0015195842]  [0.0062362333]   \n",
      "\n",
      "       out.locky    out.main     out.dircrypt out.cryptolocker     out.pykspa  \\\n",
      "0  [0.011029261]  [0.997564]  [4.7591206e-05]    [0.012099553]  [0.008038961]   \n",
      "\n",
      "      out.qakbot      out.ramnit     out.matsnu         out.gozi  \\\n",
      "0  [0.016155045]  [0.0009985747]  [0.010341614]  [2.0289332e-05]   \n",
      "\n",
      "        out.kraken  \n",
      "0  [0.00031977228]  \n",
      "['{\"name\":\"aloha-control\",\"version\":\"f900d492-f17f-494e-ad5a-948d4f053506\",\"sha\":\"fd998cd5e4964bbbb4f8d29d245a8ac67df81b62be767afbceb96a03d1a01520\"}']\n",
      "        out.kraken  \\\n",
      "0  [0.00031977228]   \n",
      "\n",
      "                                                                                                                                              out.split  \\\n",
      "0  [{\"name\":\"aloha-control\",\"version\":\"f900d492-f17f-494e-ad5a-948d4f053506\",\"sha\":\"fd998cd5e4964bbbb4f8d29d245a8ac67df81b62be767afbceb96a03d1a01520\"}]   \n",
      "\n",
      "        out.ramdo     out.pykspa     out.matsnu        out.simda  \\\n",
      "0  [0.0062362333]  [0.008038961]  [0.010341614]  [1.7933435e-26]   \n",
      "\n",
      "       out.locky     out.banjori     out.dircrypt      out.ramnit  \\\n",
      "0  [0.011029261]  [0.0015195842]  [4.7591206e-05]  [0.0009985747]   \n",
      "\n",
      "      out.qakbot   out.corebot    out.main     out.suppobox out.cryptolocker  \\\n",
      "0  [0.016155045]  [0.98291475]  [0.997564]  [1.3889844e-27]    [0.012099553]   \n",
      "\n",
      "          out.gozi  \n",
      "0  [2.0289332e-05]  \n",
      "['{\"name\":\"aloha-control\",\"version\":\"f900d492-f17f-494e-ad5a-948d4f053506\",\"sha\":\"fd998cd5e4964bbbb4f8d29d245a8ac67df81b62be767afbceb96a03d1a01520\"}']\n",
      "      out.banjori      out.ramnit   out.corebot  \\\n",
      "0  [0.0015195842]  [0.0009985747]  [0.98291475]   \n",
      "\n",
      "                                                                                                                                              out.split  \\\n",
      "0  [{\"name\":\"aloha-control\",\"version\":\"f900d492-f17f-494e-ad5a-948d4f053506\",\"sha\":\"fd998cd5e4964bbbb4f8d29d245a8ac67df81b62be767afbceb96a03d1a01520\"}]   \n",
      "\n",
      "      out.suppobox     out.matsnu       out.ramdo        out.simda  \\\n",
      "0  [1.3889844e-27]  [0.010341614]  [0.0062362333]  [1.7933435e-26]   \n",
      "\n",
      "          out.gozi    out.main     out.qakbot out.cryptolocker  \\\n",
      "0  [2.0289332e-05]  [0.997564]  [0.016155045]    [0.012099553]   \n",
      "\n",
      "      out.dircrypt       out.kraken     out.pykspa      out.locky  \n",
      "0  [4.7591206e-05]  [0.00031977228]  [0.008038961]  [0.011029261]  \n"
     ]
    }
   ],
   "source": [
    "import json\n",
    "results = []\n",
    "if(arrowEnabled):\n",
    "    # use dataframe JSON files\n",
    "    for x in range(5):\n",
    "        result = experiment_pipeline.infer_from_file(\"data/data-1.df.json\")\n",
    "        print(result.loc[0][\"out.split\"])\n",
    "        # display the data output\n",
    "        #print(result.loc[0][\"out.main\"])\n",
    "        print(result.filter(like='out.'))     \n",
    "else:\n",
    "    # use Wallaroo JSON files\n",
    "    results.append(experiment_pipeline.infer_from_file(\"data/data-1.json\"))\n",
    "    results.append(experiment_pipeline.infer_from_file(\"data/data-1.json\"))\n",
    "    results.append(experiment_pipeline.infer_from_file(\"data/data-1.json\"))\n",
    "    results.append(experiment_pipeline.infer_from_file(\"data/data-1.json\"))\n",
    "    results.append(experiment_pipeline.infer_from_file(\"data/data-1.json\"))\n",
    "    for result in results:\n",
    "        print(result[0].model())\n",
    "        print(result[0].data())"
   ]
  },
  {
   "cell_type": "markdown",
   "metadata": {},
   "source": [
    "### Run Inference Batch\n",
    "\n",
    "We will submit 1000 rows of test data through the pipeline, then loop through the responses and display which model each inference was performed in.  The results between the control and challenger should be approximately 2:1."
   ]
  },
  {
   "cell_type": "code",
   "execution_count": 68,
   "metadata": {},
   "outputs": [
    {
     "name": "stdout",
     "output_type": "stream",
     "text": [
      "              time     out.dircrypt     out.suppobox      out.locky  \\\n",
      "0    1675961116038  [4.7591115e-05]   [1.388995e-27]  [0.011029262]   \n",
      "1    1675961116038   [6.150966e-10]   [6.570557e-23]  [0.022038758]   \n",
      "2    1675961116038  [2.0693407e-15]  [3.6129874e-29]  [0.073321395]   \n",
      "3    1675961116038  [1.6081854e-09]  [5.6750776e-37]   [0.24250229]   \n",
      "4    1675961116038  [1.9806076e-10]   [8.360769e-30]   [0.03709711]   \n",
      "..             ...              ...              ...            ...   \n",
      "995  1675961116038  [8.3120476e-08]            [0.0]   [0.07365251]   \n",
      "996  1675961116038  [6.0391613e-07]   [4.358661e-21]   [0.15874198]   \n",
      "997  1675961116038  [6.8554013e-16]  [1.1339277e-21]    [0.0521531]   \n",
      "998  1675961116038  [5.6732154e-11]  [4.5956004e-25]   [0.05455697]   \n",
      "999  1675961116038  [2.2757316e-08]            [0.0]   [0.11627986]   \n",
      "\n",
      "         out.main      out.banjori      out.corebot out.cryptolocker  \\\n",
      "0      [0.997564]   [0.0015195814]     [0.98291475]    [0.012099549]   \n",
      "1     [0.9885122]   [2.837503e-05]  [1.2753118e-05]    [0.025435215]   \n",
      "2     [0.9993358]  [3.0770573e-07]    [4.86675e-05]    [0.036468606]   \n",
      "3    [0.99999857]  [8.8228285e-13]  [3.5226062e-06]    [0.100503676]   \n",
      "4     [0.9984837]  [5.4870607e-06]   [0.0029785605]   [0.0143616935]   \n",
      "..            ...              ...              ...              ...   \n",
      "995   [0.9999754]  [2.0416806e-12]   [7.744161e-09]    [0.011983096]   \n",
      "996   [0.9999727]  [5.5039258e-11]  [2.5695294e-07]     [0.10195666]   \n",
      "997  [0.66066873]    [0.011286308]     [0.06214513]     [0.09424207]   \n",
      "998   [0.9998954]  [5.6315566e-06]  [3.3642746e-06]     [0.13612257]   \n",
      "999  [0.99999803]  [1.3068625e-12]  [1.1029468e-09]    [0.014839977]   \n",
      "\n",
      "         out.ramdo  \\\n",
      "0     [0.00623623]   \n",
      "1    [0.018284446]   \n",
      "2    [0.041695543]   \n",
      "3     [0.16115357]   \n",
      "4    [0.017085439]   \n",
      "..             ...   \n",
      "995   [0.07321706]   \n",
      "996  [0.034435842]   \n",
      "997  [0.019907918]   \n",
      "998  [0.016495932]   \n",
      "999   [0.12739345]   \n",
      "\n",
      "                                                                                                                                                out.split  \\\n",
      "0    [{\"name\":\"aloha-control\",\"version\":\"f900d492-f17f-494e-ad5a-948d4f053506\",\"sha\":\"fd998cd5e4964bbbb4f8d29d245a8ac67df81b62be767afbceb96a03d1a01520\"}]   \n",
      "1    [{\"name\":\"aloha-control\",\"version\":\"f900d492-f17f-494e-ad5a-948d4f053506\",\"sha\":\"fd998cd5e4964bbbb4f8d29d245a8ac67df81b62be767afbceb96a03d1a01520\"}]   \n",
      "2    [{\"name\":\"aloha-control\",\"version\":\"f900d492-f17f-494e-ad5a-948d4f053506\",\"sha\":\"fd998cd5e4964bbbb4f8d29d245a8ac67df81b62be767afbceb96a03d1a01520\"}]   \n",
      "3    [{\"name\":\"aloha-control\",\"version\":\"f900d492-f17f-494e-ad5a-948d4f053506\",\"sha\":\"fd998cd5e4964bbbb4f8d29d245a8ac67df81b62be767afbceb96a03d1a01520\"}]   \n",
      "4    [{\"name\":\"aloha-control\",\"version\":\"f900d492-f17f-494e-ad5a-948d4f053506\",\"sha\":\"fd998cd5e4964bbbb4f8d29d245a8ac67df81b62be767afbceb96a03d1a01520\"}]   \n",
      "..                                                                                                                                                    ...   \n",
      "995  [{\"name\":\"aloha-control\",\"version\":\"f900d492-f17f-494e-ad5a-948d4f053506\",\"sha\":\"fd998cd5e4964bbbb4f8d29d245a8ac67df81b62be767afbceb96a03d1a01520\"}]   \n",
      "996  [{\"name\":\"aloha-control\",\"version\":\"f900d492-f17f-494e-ad5a-948d4f053506\",\"sha\":\"fd998cd5e4964bbbb4f8d29d245a8ac67df81b62be767afbceb96a03d1a01520\"}]   \n",
      "997  [{\"name\":\"aloha-control\",\"version\":\"f900d492-f17f-494e-ad5a-948d4f053506\",\"sha\":\"fd998cd5e4964bbbb4f8d29d245a8ac67df81b62be767afbceb96a03d1a01520\"}]   \n",
      "998  [{\"name\":\"aloha-control\",\"version\":\"f900d492-f17f-494e-ad5a-948d4f053506\",\"sha\":\"fd998cd5e4964bbbb4f8d29d245a8ac67df81b62be767afbceb96a03d1a01520\"}]   \n",
      "999  [{\"name\":\"aloha-control\",\"version\":\"f900d492-f17f-494e-ad5a-948d4f053506\",\"sha\":\"fd998cd5e4964bbbb4f8d29d245a8ac67df81b62be767afbceb96a03d1a01520\"}]   \n",
      "\n",
      "          out.ramnit     out.pykspa        out.simda       out.kraken  \\\n",
      "0     [0.0009985747]  [0.008038961]  [1.7933434e-26]  [0.00031977257]   \n",
      "1    [0.00016227343]  [0.017496044]     [2.9736e-26]    [0.051351104]   \n",
      "2      [0.052203804]    [0.0527945]  [4.6102867e-37]     [0.09667879]   \n",
      "3      [0.038542073]   [0.13984609]  [2.5434677e-31]     [0.15465459]   \n",
      "4     [0.0009147275]  [0.021504985]            [0.0]    [0.014699642]   \n",
      "..               ...            ...              ...              ...   \n",
      "995   [0.0018467624]  [0.057467848]   [3.284046e-36]    [0.123229906]   \n",
      "996     [0.25794983]  [0.060710385]   [8.326947e-27]    [0.031199494]   \n",
      "997    [0.040248252]  [0.026172414]  [9.4758866e-27]    [0.013521446]   \n",
      "998    [0.014340238]  [0.021166842]   [1.683203e-30]   [0.0025221605]   \n",
      "999    [0.007844242]   [0.10407086]  [2.8263536e-35]     [0.30495816]   \n",
      "\n",
      "            out.gozi       out.qakbot     out.matsnu check_failures  \\\n",
      "0    [2.0289312e-05]    [0.016155047]  [0.010341609]             []   \n",
      "1     [2.321774e-10]     [0.07612714]  [0.023624167]             []   \n",
      "2    [7.2607375e-18]  [2.7352993e-07]    [0.0913113]             []   \n",
      "3     [3.923381e-17]  [2.9986824e-05]   [0.25655058]             []   \n",
      "4     [3.051769e-10]   [0.0007605833]  [0.036889926]             []   \n",
      "..               ...              ...            ...            ...   \n",
      "995  [7.3397146e-14]  [0.00017084264]   [0.10082034]             []   \n",
      "996   [5.471229e-18]  [1.0149461e-07]   [0.10557272]             []   \n",
      "997   [0.0031474212]    [0.015154914]  [0.039717037]             []   \n",
      "998  [2.7730684e-08]    [0.000873619]   [0.03288219]             []   \n",
      "999   [8.438438e-15]   [6.763152e-07]   [0.14364219]             []   \n",
      "\n",
      "                                                                                               metadata.last_model  \n",
      "0    {\"model_name\":\"aloha-control\",\"model_sha\":\"fd998cd5e4964bbbb4f8d29d245a8ac67df81b62be767afbceb96a03d1a01520\"}  \n",
      "1    {\"model_name\":\"aloha-control\",\"model_sha\":\"fd998cd5e4964bbbb4f8d29d245a8ac67df81b62be767afbceb96a03d1a01520\"}  \n",
      "2    {\"model_name\":\"aloha-control\",\"model_sha\":\"fd998cd5e4964bbbb4f8d29d245a8ac67df81b62be767afbceb96a03d1a01520\"}  \n",
      "3    {\"model_name\":\"aloha-control\",\"model_sha\":\"fd998cd5e4964bbbb4f8d29d245a8ac67df81b62be767afbceb96a03d1a01520\"}  \n",
      "4    {\"model_name\":\"aloha-control\",\"model_sha\":\"fd998cd5e4964bbbb4f8d29d245a8ac67df81b62be767afbceb96a03d1a01520\"}  \n",
      "..                                                                                                             ...  \n",
      "995  {\"model_name\":\"aloha-control\",\"model_sha\":\"fd998cd5e4964bbbb4f8d29d245a8ac67df81b62be767afbceb96a03d1a01520\"}  \n",
      "996  {\"model_name\":\"aloha-control\",\"model_sha\":\"fd998cd5e4964bbbb4f8d29d245a8ac67df81b62be767afbceb96a03d1a01520\"}  \n",
      "997  {\"model_name\":\"aloha-control\",\"model_sha\":\"fd998cd5e4964bbbb4f8d29d245a8ac67df81b62be767afbceb96a03d1a01520\"}  \n",
      "998  {\"model_name\":\"aloha-control\",\"model_sha\":\"fd998cd5e4964bbbb4f8d29d245a8ac67df81b62be767afbceb96a03d1a01520\"}  \n",
      "999  {\"model_name\":\"aloha-control\",\"model_sha\":\"fd998cd5e4964bbbb4f8d29d245a8ac67df81b62be767afbceb96a03d1a01520\"}  \n",
      "\n",
      "[1000 rows x 19 columns]\n"
     ]
    }
   ],
   "source": [
    "if(arrowEnabled):\n",
    "    test_data = pd.read_json('data/data-1k.df.json')\n",
    "    # how do we submit each row as a separate dataframe for inferencing?\n",
    "else:\n",
    "    \n",
    "    from data import test_data\n",
    "    responses =[]\n",
    "    for nth in range(1000):\n",
    "        responses.extend(experiment_pipeline.infer(test_data.data[nth]))\n",
    "    l = [r.raw['model_name'] for r in responses]\n",
    "    df = pd.DataFrame({'model': l})\n",
    "    df.model.value_counts()"
   ]
  },
  {
   "cell_type": "code",
   "execution_count": null,
   "metadata": {},
   "outputs": [],
   "source": []
  },
  {
   "cell_type": "markdown",
   "metadata": {},
   "source": [
    "### Test Challenger\n",
    "\n",
    "Now we have run a large amount of data we can compare the results.\n",
    "\n",
    "For this experiment we are looking for a significant change in the fraction of inferences that predicted a probability of the seventh category being high than 0.5 so we can determine whether our challenger model is more \"successful\" than the champion model at identifying category 7."
   ]
  },
  {
   "cell_type": "code",
   "execution_count": null,
   "metadata": {},
   "outputs": [],
   "source": [
    "control_count = 0\n",
    "challenger_count = 0\n",
    "\n",
    "control_success = 0\n",
    "challenger_success = 0\n",
    "\n",
    "for r in responses:\n",
    "    if r.raw['model_name'] == \"aloha-control\":\n",
    "        control_count += 1\n",
    "        if(r.raw['outputs'][7]['Float']['data'][0] > .5):\n",
    "            control_success += 1\n",
    "    else:\n",
    "        challenger_count +=1\n",
    "        if(r.raw['outputs'][7]['Float']['data'][0] > .5):\n",
    "            challenger_success += 1\n",
    "print(\"control class 7 prediction rate: \" + str(control_success/control_count))\n",
    "print(\"challenger class 7 prediction rate: \" + str(challenger_success/challenger_count))"
   ]
  },
  {
   "cell_type": "markdown",
   "metadata": {
    "tags": []
   },
   "source": [
    "### Undeploy Pipeline\n",
    "\n",
    "With the testing complete, we undeploy the pipeline to return the resources back to the environment."
   ]
  },
  {
   "cell_type": "code",
   "execution_count": null,
   "metadata": {},
   "outputs": [],
   "source": [
    "experiment_pipeline.undeploy()\n"
   ]
  },
  {
   "cell_type": "code",
   "execution_count": null,
   "metadata": {},
   "outputs": [],
   "source": []
  }
 ],
 "metadata": {
  "kernelspec": {
   "display_name": "Python 3 (ipykernel)",
   "language": "python",
   "name": "python3"
  },
  "language_info": {
   "codemirror_mode": {
    "name": "ipython",
    "version": 3
   },
   "file_extension": ".py",
   "mimetype": "text/x-python",
   "name": "python",
   "nbconvert_exporter": "python",
   "pygments_lexer": "ipython3",
   "version": "3.9.13"
  },
  "vscode": {
   "interpreter": {
    "hash": "e951b583e3fbbcadfc15df61f9ed97fb9a76f59b2130f2cdf4d0033aa05e7e64"
   }
  }
 },
 "nbformat": 4,
 "nbformat_minor": 4
}
