{
 "cells": [
  {
   "cell_type": "markdown",
   "metadata": {},
   "source": [
    "This tutorial and the assets can be downloaded as part of the [Wallaroo Tutorials repository](https://github.com/WallarooLabs/Wallaroo_Tutorials/tree/main/wallaroo-testing-tutorials/abtesting).\n",
    "\n",
    "## A/B Testing\n",
    "\n",
    "A/B testing is a method that provides the ability to test out ML models for performance, accuracy or other useful benchmarks.  A/B testing is contrasted with the Wallaroo Shadow Deployment feature.  In both cases, two sets of models are added to a pipeline step:\n",
    "\n",
    "* Control or Champion model:  The model currently used for inferences.\n",
    "* Challenger model(s): One or more models that are to be compared to the champion model.\n",
    "\n",
    "The two feature are different in this way:\n",
    "\n",
    "| Feature | Description |\n",
    "|---|---|\n",
    "| A/B Testing | A subset of inferences are submitted to either the champion ML model or a challenger ML model, and the results of each are output as part of the `InferenceResult` `output` attribute. |\n",
    "| Shadow Deploy | All inferences are submitted to the champion model and one or more challenger models.  The results for the champion model are output as part of the `InferenceResult` `output` attribute, while the results for the challenger models are output as part of the `InferenceResult` `shadow_data` attribute. |\n",
    "\n",
    "So to repeat:  A/B testing submits *some* of the inference requests to the champion model, some to the challenger model with one set of outputs, while shadow testing submits *all* of the inference requests to champion and shadow models, and has separate outputs.\n",
    "\n",
    "This tutorial demonstrate how to conduct A/B testing in Wallaroo.  For this example we will be using an open source model that uses an [Aloha CNN LSTM model](https://www.researchgate.net/publication/348920204_Using_Auxiliary_Inputs_in_Deep_Learning_Models_for_Detecting_DGA-based_Domain_Names) for classifying Domain names as being either legitimate or being used for nefarious purposes such as malware distribution.  \n",
    "\n",
    "For our example, we will perform the following:\n",
    "\n",
    "* Create a workspace for our work.\n",
    "* Upload the Aloha model and a challenger model.\n",
    "* Create a pipeline that can ingest our submitted data with the champion model and the challenger model set into a A/B step.\n",
    "* Run a series of sample inferences to display inferences that are run through the champion model versus the challenger model, then determine which is more efficient.\n",
    "\n",
    "All sample data and models are available through the [Wallaroo Quick Start Guide Samples repository](https://github.com/WallarooLabs/quickstartguide_samples)."
   ]
  },
  {
   "cell_type": "markdown",
   "metadata": {},
   "source": [
    "## Steps\n",
    "\n",
    "### Import libraries\n",
    "\n",
    "Here we will import the libraries needed for this notebook.\n",
    "\n",
    "[Arrow support](https://arrow.apache.org/) is an early preview feature of Wallaroo version 2023.1.  The variable `arrowEnabled` is used for later inference requests to submit either the Wallaroo JSON is Arrow support is disabled, or to pass either dataframe tables or Arrow data for inference requests.\n",
    "\n",
    "Set the `os.environ[\"ARROW_ENABLED\"]` to either `True` if Arrow support is enabled in the Wallaroo instance, or `False` if Arrow support has not been abled.  For more information on Arrow support, see the [Wallaroo Documentation site](https://docs.wallaroo.ai)."
   ]
  },
  {
   "cell_type": "code",
   "execution_count": 1,
   "metadata": {},
   "outputs": [],
   "source": [
    "import wallaroo\n",
    "from wallaroo.object import EntityNotFoundError\n",
    "import os\n",
    "import pandas as pd\n",
    "# Check if arrow support is abled.\n",
    "\n",
    "import os\n",
    "os.environ[\"ARROW_ENABLED\"]=\"True\"\n",
    "if \"ARROW_ENABLED\" in os.environ:\n",
    "    arrowEnabled = os.environ[\"ARROW_ENABLED\"]\n",
    "else:\n",
    "    arrowEnabled = False"
   ]
  },
  {
   "cell_type": "markdown",
   "metadata": {},
   "source": [
    "### Connect to the Wallaroo Instance\n",
    "\n",
    "This command will be used to set up a connection to the Wallaroo cluster and allow creating and use of Wallaroo inference engines."
   ]
  },
  {
   "cell_type": "code",
   "execution_count": 2,
   "metadata": {},
   "outputs": [],
   "source": [
    "# SSO login through keycloak.  Uncomment to use.\n",
    "\n",
    "wallarooPrefix = \"sparkly-apple-3026\"\n",
    "wallarooSuffix = \"wallaroo.community\"\n",
    "\n",
    "\n",
    "wl = wallaroo.Client(api_endpoint=f\"https://{wallarooPrefix}.api.{wallarooSuffix}\", \n",
    "               auth_endpoint=f\"https://{wallarooPrefix}.keycloak.{wallarooSuffix}\", \n",
    "               auth_type=\"sso\")\n",
    "\n",
    "# Login from within the Wallaroo JupyterHub service.  Uncomment to use.\n",
    "\n",
    "#wl = wallaroo.Client()"
   ]
  },
  {
   "cell_type": "markdown",
   "metadata": {},
   "source": [
    "### Create Workspace\n",
    "\n",
    "We will create a workspace to manage our pipeline and models.  The following variables will set the name of our sample workspace then set it as the current workspace for all other commands."
   ]
  },
  {
   "cell_type": "code",
   "execution_count": 3,
   "metadata": {},
   "outputs": [],
   "source": [
    "prefix = \"jch-\"\n",
    "workspace_name = f'{prefix}abtestworkspace'\n",
    "pipeline_name = f'{prefix}abtestpipeline'"
   ]
  },
  {
   "cell_type": "code",
   "execution_count": 4,
   "metadata": {},
   "outputs": [
    {
     "data": {
      "text/plain": [
       "{'name': 'jch-abtestworkspace', 'id': 22, 'archived': False, 'created_by': '39bf22e5-bb55-40ce-b1ab-36eed7a29150', 'created_at': '2023-02-09T15:56:46.633626+00:00', 'models': [], 'pipelines': []}"
      ]
     },
     "execution_count": 4,
     "metadata": {},
     "output_type": "execute_result"
    }
   ],
   "source": [
    "def get_workspace(name):\n",
    "    workspace = None\n",
    "    for ws in wl.list_workspaces():\n",
    "        if ws.name() == name:\n",
    "            workspace= ws\n",
    "    if(workspace == None):\n",
    "        workspace = wl.create_workspace(name)\n",
    "    return workspace\n",
    "\n",
    "workspace = get_workspace(workspace_name)\n",
    "\n",
    "wl.set_current_workspace(workspace)"
   ]
  },
  {
   "cell_type": "markdown",
   "metadata": {},
   "source": [
    "### Set Up the Champion and Challenger Models\n",
    "\n",
    "Now we upload the Champion and Challenger models to our workspace.  We will use two models:\n",
    "\n",
    "1. `aloha-cnn-lstm` model.\n",
    "2. `aloha-cnn-lstm-new` (a retrained version)"
   ]
  },
  {
   "cell_type": "markdown",
   "metadata": {},
   "source": [
    "### Set the Champion Model\n",
    "\n",
    "We upload our champion model, labeled as `control`."
   ]
  },
  {
   "cell_type": "code",
   "execution_count": 5,
   "metadata": {},
   "outputs": [],
   "source": [
    "control =  wl.upload_model(\"aloha-control\",   'models/aloha-cnn-lstm.zip').configure('tensorflow')"
   ]
  },
  {
   "cell_type": "markdown",
   "metadata": {},
   "source": [
    "### Set the Challenger Model\n",
    "\n",
    "Now we upload the Challenger model, labeled as `challenger`."
   ]
  },
  {
   "cell_type": "code",
   "execution_count": 6,
   "metadata": {},
   "outputs": [],
   "source": [
    "challenger = wl.upload_model(\"aloha-challenger\",   'models/aloha-cnn-lstm-new.zip').configure('tensorflow')"
   ]
  },
  {
   "cell_type": "markdown",
   "metadata": {},
   "source": [
    "### Define The Pipeline\n",
    "\n",
    "Here we will configure a pipeline with two models and set the control model with a random split chance of receiving 2/3 of the data.  Because this is a random split, it is possible for one model or the other to receive more inferences than a strict 2:1 ratio, but the more inferences are run, the more likely it is for the proper ratio split."
   ]
  },
  {
   "cell_type": "code",
   "execution_count": 7,
   "metadata": {},
   "outputs": [],
   "source": [
    "pipeline = (wl.build_pipeline(\"randomsplitpipeline-demo\")\n",
    "            .add_random_split([(2, control), (1, challenger)], \"session_id\"))"
   ]
  },
  {
   "cell_type": "markdown",
   "metadata": {},
   "source": [
    "### Deploy the pipeline\n",
    "\n",
    "Now we deploy the pipeline so we can run our inference through it."
   ]
  },
  {
   "cell_type": "code",
   "execution_count": 8,
   "metadata": {},
   "outputs": [
    {
     "name": "stdout",
     "output_type": "stream",
     "text": [
      "Waiting for deployment - this will take up to 45s .............. ok\n"
     ]
    }
   ],
   "source": [
    "experiment_pipeline = pipeline.deploy()"
   ]
  },
  {
   "cell_type": "code",
   "execution_count": 73,
   "metadata": {},
   "outputs": [
    {
     "data": {
      "text/plain": [
       "{'status': 'Running',\n",
       " 'details': [],\n",
       " 'engines': [{'ip': '10.48.2.212',\n",
       "   'name': 'engine-557bcffb79-79mxb',\n",
       "   'status': 'Running',\n",
       "   'reason': None,\n",
       "   'details': [],\n",
       "   'pipeline_statuses': {'pipelines': [{'id': 'randomsplitpipeline-demo',\n",
       "      'status': 'Running'}]},\n",
       "   'model_statuses': {'models': [{'name': 'aloha-control',\n",
       "      'version': 'f900d492-f17f-494e-ad5a-948d4f053506',\n",
       "      'sha': 'fd998cd5e4964bbbb4f8d29d245a8ac67df81b62be767afbceb96a03d1a01520',\n",
       "      'status': 'Running'},\n",
       "     {'name': 'aloha-challenger',\n",
       "      'version': 'fe3ee1ec-9b6a-4f3a-b90d-67947452f72c',\n",
       "      'sha': '223d26869d24976942f53ccb40b432e8b7c39f9ffcf1f719f3929d7595bceaf3',\n",
       "      'status': 'Running'}]}}],\n",
       " 'engine_lbs': [{'ip': '10.48.2.211',\n",
       "   'name': 'engine-lb-74b4969486-6szp5',\n",
       "   'status': 'Running',\n",
       "   'reason': None,\n",
       "   'details': []}],\n",
       " 'sidekicks': []}"
      ]
     },
     "execution_count": 73,
     "metadata": {},
     "output_type": "execute_result"
    }
   ],
   "source": [
    "experiment_pipeline.status()"
   ]
  },
  {
   "cell_type": "markdown",
   "metadata": {},
   "source": [
    "# Run a single inference\n",
    "Now we have our deployment set up let's run a single inference. In the results we will be able to see the inference results as well as which model the inference went to under model_id.  We'll run the inference request 5 times, with the odds are that the challenger model being run at least once."
   ]
  },
  {
   "cell_type": "code",
   "execution_count": 45,
   "metadata": {},
   "outputs": [],
   "source": [
    "pd.set_option('display.max_colwidth', None)"
   ]
  },
  {
   "cell_type": "code",
   "execution_count": 124,
   "metadata": {},
   "outputs": [
    {
     "data": {
      "text/plain": [
       "['aloha-control', 0.997564]"
      ]
     },
     "metadata": {},
     "output_type": "display_data"
    },
    {
     "data": {
      "text/plain": [
       "['aloha-challenger', 0.997564]"
      ]
     },
     "metadata": {},
     "output_type": "display_data"
    },
    {
     "data": {
      "text/plain": [
       "['aloha-control', 0.997564]"
      ]
     },
     "metadata": {},
     "output_type": "display_data"
    },
    {
     "data": {
      "text/plain": [
       "['aloha-challenger', 0.997564]"
      ]
     },
     "metadata": {},
     "output_type": "display_data"
    },
    {
     "data": {
      "text/plain": [
       "['aloha-challenger', 0.997564]"
      ]
     },
     "metadata": {},
     "output_type": "display_data"
    }
   ],
   "source": [
    "import json\n",
    "from IPython.display import display\n",
    "\n",
    "results = []\n",
    "if(arrowEnabled):\n",
    "    # use dataframe JSON files\n",
    "    for x in range(5):\n",
    "        result = experiment_pipeline.infer_from_file(\"data/data-1.df.json\")\n",
    "        display([json.loads(result.loc[0][\"out.split\"][0])[\"name\"],result.loc[0][\"out.main\"][0]])        \n",
    "else:\n",
    "    # use Wallaroo JSON files\n",
    "    results.append(experiment_pipeline.infer_from_file(\"data/data-1.json\"))\n",
    "    results.append(experiment_pipeline.infer_from_file(\"data/data-1.json\"))\n",
    "    results.append(experiment_pipeline.infer_from_file(\"data/data-1.json\"))\n",
    "    results.append(experiment_pipeline.infer_from_file(\"data/data-1.json\"))\n",
    "    results.append(experiment_pipeline.infer_from_file(\"data/data-1.json\"))\n",
    "    for result in results:\n",
    "        print(result[0].model())\n",
    "        print(result[0].data())"
   ]
  },
  {
   "cell_type": "markdown",
   "metadata": {},
   "source": [
    "### Run Inference Batch\n",
    "\n",
    "We will submit 1000 rows of test data through the pipeline, then loop through the responses and display which model each inference was performed in.  The results between the control and challenger should be approximately 2:1."
   ]
  },
  {
   "cell_type": "code",
   "execution_count": 118,
   "metadata": {},
   "outputs": [
    {
     "data": {
      "text/plain": [
       "aloha-control       651\n",
       "aloha-challenger    349\n",
       "Name: model, dtype: int64"
      ]
     },
     "metadata": {},
     "output_type": "display_data"
    }
   ],
   "source": [
    "l = []\n",
    "responses =[]\n",
    "if(arrowEnabled):\n",
    "    #Read in the test data as one dataframe\n",
    "    test_data = pd.read_json('data/data-1k.df.json')\n",
    "    # For each row, submit that row as a separate dataframe\n",
    "    # Add the results to the responses array\n",
    "    for index, row in test_data.iterrows():\n",
    "        #display(row.to_frame('text_input').reset_index())\n",
    "        responses.append(experiment_pipeline.infer(row.to_frame('text_input').reset_index()))\n",
    "        #print(json.loads(result.loc[0][\"out.split\"][0])[\"name\"])\n",
    "        #l.append(json.loads(result.loc[0][\"out.split\"][0])[\"name\"])\n",
    "    #print(l)\n",
    "    #now get our responses for each row\n",
    "    # each r is a dataframe, then get the result from out.split into json and get the model name\n",
    "    l = [json.loads(r.loc[0][\"out.split\"][0])[\"name\"] for r in responses]\n",
    "    df = pd.DataFrame({'model': l})\n",
    "    display(df.model.value_counts())\n",
    "else:\n",
    "    from data import test_data\n",
    "    for nth in range(1000):\n",
    "        responses.extend(experiment_pipeline.infer(test_data.data[nth]))\n",
    "    l = [r.raw['model_name'] for r in responses]\n",
    "    df = pd.DataFrame({'model': l})\n",
    "    df.model.value_counts()"
   ]
  },
  {
   "cell_type": "code",
   "execution_count": null,
   "metadata": {},
   "outputs": [],
   "source": []
  },
  {
   "cell_type": "markdown",
   "metadata": {},
   "source": [
    "### Test Challenger\n",
    "\n",
    "Now we have run a large amount of data we can compare the results.\n",
    "\n",
    "For this experiment we are looking for a significant change in the fraction of inferences that predicted a probability of the seventh category being high than 0.5 so we can determine whether our challenger model is more \"successful\" than the champion model at identifying category 7."
   ]
  },
  {
   "cell_type": "code",
   "execution_count": 122,
   "metadata": {},
   "outputs": [
    {
     "name": "stdout",
     "output_type": "stream",
     "text": [
      "control class 7 prediction rate: 0.978494623655914\n",
      "challenger class 7 prediction rate: 0.9742120343839542\n"
     ]
    }
   ],
   "source": [
    "control_count = 0\n",
    "challenger_count = 0\n",
    "\n",
    "control_success = 0\n",
    "challenger_success = 0\n",
    "\n",
    "if(arrowEnabled):\n",
    "    # do nothing\n",
    "    for r in responses:\n",
    "        if json.loads(r.loc[0][\"out.split\"][0])[\"name\"] == \"aloha-control\":\n",
    "            control_count += 1\n",
    "            if(r.loc[0][\"out.main\"][0] > .5):\n",
    "                control_success += 1\n",
    "        else:\n",
    "            challenger_count += 1\n",
    "            if(r.loc[0][\"out.main\"][0] > .5):\n",
    "               challenger_success += 1\n",
    "else:\n",
    "    for r in responses:\n",
    "        if r.raw['model_name'] == \"aloha-control\":\n",
    "            control_count += 1\n",
    "            if(r.raw['outputs'][7]['Float']['data'][0] > .5):\n",
    "                control_success += 1\n",
    "        else:\n",
    "            challenger_count +=1\n",
    "            if(r.raw['outputs'][7]['Float']['data'][0] > .5):\n",
    "                challenger_success += 1\n",
    "           \n",
    "            \n",
    "print(\"control class 7 prediction rate: \" + str(control_success/control_count))\n",
    "print(\"challenger class 7 prediction rate: \" + str(challenger_success/challenger_count))"
   ]
  },
  {
   "cell_type": "markdown",
   "metadata": {
    "tags": []
   },
   "source": [
    "### Undeploy Pipeline\n",
    "\n",
    "With the testing complete, we undeploy the pipeline to return the resources back to the environment."
   ]
  },
  {
   "cell_type": "code",
   "execution_count": null,
   "metadata": {},
   "outputs": [],
   "source": [
    "experiment_pipeline.undeploy()\n"
   ]
  },
  {
   "cell_type": "code",
   "execution_count": null,
   "metadata": {},
   "outputs": [],
   "source": []
  }
 ],
 "metadata": {
  "kernelspec": {
   "display_name": "Python 3 (ipykernel)",
   "language": "python",
   "name": "python3"
  },
  "language_info": {
   "codemirror_mode": {
    "name": "ipython",
    "version": 3
   },
   "file_extension": ".py",
   "mimetype": "text/x-python",
   "name": "python",
   "nbconvert_exporter": "python",
   "pygments_lexer": "ipython3",
   "version": "3.8.15 (default, Nov 24 2022, 08:57:44) \n[Clang 14.0.6 ]"
  },
  "vscode": {
   "interpreter": {
    "hash": "e951b583e3fbbcadfc15df61f9ed97fb9a76f59b2130f2cdf4d0033aa05e7e64"
   }
  }
 },
 "nbformat": 4,
 "nbformat_minor": 4
}
