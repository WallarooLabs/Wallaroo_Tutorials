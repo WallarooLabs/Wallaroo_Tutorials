{
 "cells": [
  {
   "cell_type": "markdown",
   "metadata": {},
   "source": [
    "This tutorial and the assets can be downloaded as part of the [Wallaroo Tutorials repository](https://github.com/WallarooLabs/Wallaroo_Tutorials/tree/main/wallaroo-testing-tutorials/abtesting).\n",
    "\n",
    "## A/B Testing\n",
    "\n",
    "A/B testing is a method that provides the ability to test out ML models for performance, accuracy or other useful benchmarks.  A/B testing is contrasted with the Wallaroo Shadow Deployment feature.  In both cases, two sets of models are added to a pipeline step:\n",
    "\n",
    "* Control or Champion model:  The model currently used for inferences.\n",
    "* Challenger model(s): One or more models that are to be compared to the champion model.\n",
    "\n",
    "The two feature are different in this way:\n",
    "\n",
    "| Feature | Description |\n",
    "|---|---|\n",
    "| A/B Testing | A subset of inferences are submitted to either the champion ML model or a challenger ML model. |\n",
    "| Shadow Deploy | All inferences are submitted to the champion model and one or more challenger models. |\n",
    "\n",
    "So to repeat:  A/B testing submits *some* of the inference requests to the champion model, some to the challenger model with one set of outputs, while shadow testing submits *all* of the inference requests to champion and shadow models, and has separate outputs.\n",
    "\n",
    "This tutorial demonstrate how to conduct A/B testing in Wallaroo.  For this example we will be using an open source model that uses an [Aloha CNN LSTM model](https://www.researchgate.net/publication/348920204_Using_Auxiliary_Inputs_in_Deep_Learning_Models_for_Detecting_DGA-based_Domain_Names) for classifying Domain names as being either legitimate or being used for nefarious purposes such as malware distribution.  \n",
    "\n",
    "For our example, we will perform the following:\n",
    "\n",
    "* Create a workspace for our work.\n",
    "* Upload the Aloha model and a challenger model.\n",
    "* Create a pipeline that can ingest our submitted data with the champion model and the challenger model set into a A/B step.\n",
    "* Run a series of sample inferences to display inferences that are run through the champion model versus the challenger model, then determine which is more efficient.\n",
    "\n",
    "All sample data and models are available through the [Wallaroo Quick Start Guide Samples repository](https://github.com/WallarooLabs/quickstartguide_samples)."
   ]
  },
  {
   "cell_type": "markdown",
   "metadata": {},
   "source": [
    "## Steps\n",
    "\n",
    "### Import libraries\n",
    "\n",
    "Here we will import the libraries needed for this notebook."
   ]
  },
  {
   "cell_type": "code",
   "execution_count": 15,
   "metadata": {},
   "outputs": [],
   "source": [
    "import wallaroo\n",
    "from wallaroo.object import EntityNotFoundError\n",
    "import os\n",
    "import pandas as pd\n",
    "import json\n",
    "from IPython.display import display\n",
    "\n",
    "# used to display dataframe information without truncating\n",
    "from IPython.display import display\n",
    "pd.set_option('display.max_colwidth', None)"
   ]
  },
  {
   "cell_type": "code",
   "execution_count": 16,
   "metadata": {},
   "outputs": [
    {
     "data": {
      "text/plain": [
       "'2023.1.0'"
      ]
     },
     "execution_count": 16,
     "metadata": {},
     "output_type": "execute_result"
    }
   ],
   "source": [
    "wallaroo.__version__"
   ]
  },
  {
   "cell_type": "markdown",
   "metadata": {},
   "source": [
    "### Arrow Support\n",
    "\n",
    "As of the 2023.1 release, Wallaroo provides support for dataframe and Arrow for inference inputs.  This tutorial allows users to adjust their experience based on whether they have enabled Arrow support in their Wallaroo instance or not.\n",
    "\n",
    "If Arrow support has been enabled, `arrowEnabled=True`. If disabled or you're not sure, set it to `arrowEnabled=False`\n",
    "\n",
    "The examples below will be shown in an arrow enabled environment."
   ]
  },
  {
   "cell_type": "code",
   "execution_count": 27,
   "metadata": {},
   "outputs": [
    {
     "name": "stdout",
     "output_type": "stream",
     "text": [
      "True\n"
     ]
    }
   ],
   "source": [
    "import os\n",
    "# Only set the below to make the OS environment ARROW_ENABLED to TRUE.  Otherwise, leave as is.\n",
    "os.environ[\"ARROW_ENABLED\"]=\"True\"\n",
    "\n",
    "if \"ARROW_ENABLED\" not in os.environ or os.environ[\"ARROW_ENABLED\"].casefold() == \"False\".casefold():\n",
    "    arrowEnabled = False\n",
    "else:\n",
    "    arrowEnabled = True\n",
    "print(arrowEnabled)"
   ]
  },
  {
   "cell_type": "markdown",
   "metadata": {},
   "source": [
    "### Connect to the Wallaroo Instance\n",
    "\n",
    "This command will be used to set up a connection to the Wallaroo cluster and allow creating and use of Wallaroo inference engines."
   ]
  },
  {
   "cell_type": "code",
   "execution_count": 18,
   "metadata": {},
   "outputs": [],
   "source": [
    "# Client connection from local Wallaroo instance\n",
    "\n",
    "# wl = wallaroo.Client()\n",
    "\n",
    "# SSO login through keycloak\n",
    "\n",
    "wallarooPrefix = \"YOUR PREFIX\"\n",
    "wallarooSuffix = \"YOUR SUFFIX\"\n",
    "\n",
    "wl = wallaroo.Client(api_endpoint=f\"https://{wallarooPrefix}.api.{wallarooSuffix}\", \n",
    "                    auth_endpoint=f\"https://{wallarooPrefix}.keycloak.{wallarooSuffix}\", \n",
    "                    auth_type=\"sso\")"
   ]
  },
  {
   "cell_type": "markdown",
   "metadata": {},
   "source": [
    "### Create Workspace\n",
    "\n",
    "We will create a workspace to manage our pipeline and models.  The following variables will set the name of our sample workspace then set it as the current workspace for all other commands.\n",
    "\n",
    "To allow this tutorial to be run multiple times or by multiple users in the same Wallaroo instance, a random 4 character prefix will be added to the workspace, pipeline, and model."
   ]
  },
  {
   "cell_type": "code",
   "execution_count": 19,
   "metadata": {},
   "outputs": [],
   "source": [
    "workspace_name = 'abhousetesting'"
   ]
  },
  {
   "cell_type": "code",
   "execution_count": 20,
   "metadata": {},
   "outputs": [],
   "source": [
    "def get_workspace(name):\n",
    "    workspace = None\n",
    "    for ws in wl.list_workspaces():\n",
    "        if ws.name() == name:\n",
    "            workspace= ws\n",
    "    if(workspace == None):\n",
    "        workspace = wl.create_workspace(name)\n",
    "    return workspace"
   ]
  },
  {
   "cell_type": "code",
   "execution_count": 21,
   "metadata": {},
   "outputs": [
    {
     "data": {
      "text/plain": [
       "{'name': 'abhousetesting', 'id': 149, 'archived': False, 'created_by': '138bd7e6-4dc8-4dc1-a760-c9e721ef3c37', 'created_at': '2023-03-10T19:47:57.006484+00:00', 'models': [], 'pipelines': []}"
      ]
     },
     "execution_count": 21,
     "metadata": {},
     "output_type": "execute_result"
    }
   ],
   "source": [
    "workspace = get_workspace(workspace_name)\n",
    "\n",
    "wl.set_current_workspace(workspace)"
   ]
  },
  {
   "cell_type": "markdown",
   "metadata": {},
   "source": [
    "### Set Up the Champion and Challenger Models\n",
    "\n",
    "Now we upload the Champion and Challenger models to our workspace.  We will use two models:\n",
    "\n",
    "1. `aloha-cnn-lstm` model.\n",
    "2. `aloha-cnn-lstm-new` (a retrained version)"
   ]
  },
  {
   "cell_type": "markdown",
   "metadata": {},
   "source": [
    "### Set the Champion Model\n",
    "\n",
    "We upload our champion model, labeled as `control`."
   ]
  },
  {
   "cell_type": "code",
   "execution_count": 41,
   "metadata": {},
   "outputs": [],
   "source": [
    "#control =  wl.upload_model(\"aloha-control\",   'models/aloha-cnn-lstm.zip').configure('tensorflow')\n",
    "control = wl.upload_model(\"houseprice-control\",'models/housing_control.zip').configure('tensorflow')"
   ]
  },
  {
   "cell_type": "markdown",
   "metadata": {},
   "source": [
    "### Set the Challenger Model\n",
    "\n",
    "Now we upload the Challenger model, labeled as `challenger`."
   ]
  },
  {
   "cell_type": "code",
   "execution_count": 23,
   "metadata": {},
   "outputs": [],
   "source": [
    "#challenger = wl.upload_model(\"aloha-challenger\",   'models/aloha-cnn-lstm-new.zip').configure('tensorflow')\n",
    "challenger = wl.upload_model(\"houseprice-challenger\",'models/housing_challenger.zip').configure('tensorflow')"
   ]
  },
  {
   "cell_type": "markdown",
   "metadata": {},
   "source": [
    "### Define The Pipeline\n",
    "\n",
    "Here we will configure a pipeline with two models and set the control model with a random split chance of receiving 2/3 of the data.  Because this is a random split, it is possible for one model or the other to receive more inferences than a strict 2:1 ratio, but the more inferences are run, the more likely it is for the proper ratio split."
   ]
  },
  {
   "cell_type": "code",
   "execution_count": 42,
   "metadata": {},
   "outputs": [],
   "source": [
    "pipeline = (wl.build_pipeline(\"randomsplitpipeline-demo\")\n",
    "            .add_random_split([(2, control), (1, challenger)], \"session_id\"))"
   ]
  },
  {
   "cell_type": "code",
   "execution_count": 31,
   "metadata": {},
   "outputs": [],
   "source": [
    "# for d in wl.list_deployments(): d.undeploy()"
   ]
  },
  {
   "cell_type": "markdown",
   "metadata": {},
   "source": [
    "### Deploy the pipeline\n",
    "\n",
    "Now we deploy the pipeline so we can run our inference through it."
   ]
  },
  {
   "cell_type": "code",
   "execution_count": 43,
   "metadata": {},
   "outputs": [],
   "source": [
    "experiment_pipeline = pipeline.deploy()"
   ]
  },
  {
   "cell_type": "code",
   "execution_count": 33,
   "metadata": {},
   "outputs": [
    {
     "data": {
      "text/plain": [
       "{'status': 'Running',\n",
       " 'details': [],\n",
       " 'engines': [{'ip': '10.48.1.13',\n",
       "   'name': 'engine-578f4f8694-x9f6k',\n",
       "   'status': 'Running',\n",
       "   'reason': None,\n",
       "   'details': [],\n",
       "   'pipeline_statuses': {'pipelines': [{'id': 'randomsplitpipeline-demo',\n",
       "      'status': 'Running'}]},\n",
       "   'model_statuses': {'models': [{'name': 'houseprice-challenger',\n",
       "      'version': '9332b9fb-ad9e-4569-9f48-fa25a54a5f7e',\n",
       "      'sha': '0d03d638f7100827288c808c2cc6e5dae127f5f31e7f0f97ef70aa2078f11cc1',\n",
       "      'status': 'Running'}]}}],\n",
       " 'engine_lbs': [{'ip': '10.48.1.14',\n",
       "   'name': 'engine-lb-86bc6bd77b-brv44',\n",
       "   'status': 'Running',\n",
       "   'reason': None,\n",
       "   'details': []}],\n",
       " 'sidekicks': []}"
      ]
     },
     "execution_count": 33,
     "metadata": {},
     "output_type": "execute_result"
    }
   ],
   "source": [
    "experiment_pipeline.status()"
   ]
  },
  {
   "cell_type": "markdown",
   "metadata": {},
   "source": [
    "# Run a single inference\n",
    "Now we have our deployment set up let's run a single inference. In the results we will be able to see the inference results as well as which model the inference went to under model_id.  We'll run the inference request 5 times, with the odds are that the challenger model being run at least once."
   ]
  },
  {
   "cell_type": "code",
   "execution_count": 48,
   "metadata": {},
   "outputs": [
    {
     "data": {
      "text/html": [
       "<div>\n",
       "<style scoped>\n",
       "    .dataframe tbody tr th:only-of-type {\n",
       "        vertical-align: middle;\n",
       "    }\n",
       "\n",
       "    .dataframe tbody tr th {\n",
       "        vertical-align: top;\n",
       "    }\n",
       "\n",
       "    .dataframe thead th {\n",
       "        text-align: right;\n",
       "    }\n",
       "</style>\n",
       "<table border=\"1\" class=\"dataframe\">\n",
       "  <thead>\n",
       "    <tr style=\"text-align: right;\">\n",
       "      <th></th>\n",
       "      <th>out._model_split</th>\n",
       "      <th>out.dense_19</th>\n",
       "    </tr>\n",
       "  </thead>\n",
       "  <tbody>\n",
       "    <tr>\n",
       "      <th>0</th>\n",
       "      <td>[{\"name\":\"houseprice-challenger\",\"version\":\"9332b9fb-ad9e-4569-9f48-fa25a54a5f7e\",\"sha\":\"0d03d638f7100827288c808c2cc6e5dae127f5f31e7f0f97ef70aa2078f11cc1\"}]</td>\n",
       "      <td>[10.349835]</td>\n",
       "    </tr>\n",
       "  </tbody>\n",
       "</table>\n",
       "</div>"
      ],
      "text/plain": [
       "                                                                                                                                               out._model_split  \\\n",
       "0  [{\"name\":\"houseprice-challenger\",\"version\":\"9332b9fb-ad9e-4569-9f48-fa25a54a5f7e\",\"sha\":\"0d03d638f7100827288c808c2cc6e5dae127f5f31e7f0f97ef70aa2078f11cc1\"}]   \n",
       "\n",
       "  out.dense_19  \n",
       "0  [10.349835]  "
      ]
     },
     "metadata": {},
     "output_type": "display_data"
    },
    {
     "data": {
      "text/html": [
       "<div>\n",
       "<style scoped>\n",
       "    .dataframe tbody tr th:only-of-type {\n",
       "        vertical-align: middle;\n",
       "    }\n",
       "\n",
       "    .dataframe tbody tr th {\n",
       "        vertical-align: top;\n",
       "    }\n",
       "\n",
       "    .dataframe thead th {\n",
       "        text-align: right;\n",
       "    }\n",
       "</style>\n",
       "<table border=\"1\" class=\"dataframe\">\n",
       "  <thead>\n",
       "    <tr style=\"text-align: right;\">\n",
       "      <th></th>\n",
       "      <th>out._model_split</th>\n",
       "      <th>out.dense_19</th>\n",
       "    </tr>\n",
       "  </thead>\n",
       "  <tbody>\n",
       "    <tr>\n",
       "      <th>0</th>\n",
       "      <td>[{\"name\":\"houseprice-challenger\",\"version\":\"9332b9fb-ad9e-4569-9f48-fa25a54a5f7e\",\"sha\":\"0d03d638f7100827288c808c2cc6e5dae127f5f31e7f0f97ef70aa2078f11cc1\"}]</td>\n",
       "      <td>[10.349835]</td>\n",
       "    </tr>\n",
       "  </tbody>\n",
       "</table>\n",
       "</div>"
      ],
      "text/plain": [
       "                                                                                                                                               out._model_split  \\\n",
       "0  [{\"name\":\"houseprice-challenger\",\"version\":\"9332b9fb-ad9e-4569-9f48-fa25a54a5f7e\",\"sha\":\"0d03d638f7100827288c808c2cc6e5dae127f5f31e7f0f97ef70aa2078f11cc1\"}]   \n",
       "\n",
       "  out.dense_19  \n",
       "0  [10.349835]  "
      ]
     },
     "metadata": {},
     "output_type": "display_data"
    },
    {
     "data": {
      "text/html": [
       "<div>\n",
       "<style scoped>\n",
       "    .dataframe tbody tr th:only-of-type {\n",
       "        vertical-align: middle;\n",
       "    }\n",
       "\n",
       "    .dataframe tbody tr th {\n",
       "        vertical-align: top;\n",
       "    }\n",
       "\n",
       "    .dataframe thead th {\n",
       "        text-align: right;\n",
       "    }\n",
       "</style>\n",
       "<table border=\"1\" class=\"dataframe\">\n",
       "  <thead>\n",
       "    <tr style=\"text-align: right;\">\n",
       "      <th></th>\n",
       "      <th>out._model_split</th>\n",
       "      <th>out.dense_19</th>\n",
       "    </tr>\n",
       "  </thead>\n",
       "  <tbody>\n",
       "    <tr>\n",
       "      <th>0</th>\n",
       "      <td>[{\"name\":\"houseprice-control\",\"version\":\"03f649d4-d5d7-4cba-88fe-a1be90f5a917\",\"sha\":\"0d03d638f7100827288c808c2cc6e5dae127f5f31e7f0f97ef70aa2078f11cc1\"}]</td>\n",
       "      <td>[10.349835]</td>\n",
       "    </tr>\n",
       "  </tbody>\n",
       "</table>\n",
       "</div>"
      ],
      "text/plain": [
       "                                                                                                                                            out._model_split  \\\n",
       "0  [{\"name\":\"houseprice-control\",\"version\":\"03f649d4-d5d7-4cba-88fe-a1be90f5a917\",\"sha\":\"0d03d638f7100827288c808c2cc6e5dae127f5f31e7f0f97ef70aa2078f11cc1\"}]   \n",
       "\n",
       "  out.dense_19  \n",
       "0  [10.349835]  "
      ]
     },
     "metadata": {},
     "output_type": "display_data"
    },
    {
     "data": {
      "text/html": [
       "<div>\n",
       "<style scoped>\n",
       "    .dataframe tbody tr th:only-of-type {\n",
       "        vertical-align: middle;\n",
       "    }\n",
       "\n",
       "    .dataframe tbody tr th {\n",
       "        vertical-align: top;\n",
       "    }\n",
       "\n",
       "    .dataframe thead th {\n",
       "        text-align: right;\n",
       "    }\n",
       "</style>\n",
       "<table border=\"1\" class=\"dataframe\">\n",
       "  <thead>\n",
       "    <tr style=\"text-align: right;\">\n",
       "      <th></th>\n",
       "      <th>out._model_split</th>\n",
       "      <th>out.dense_19</th>\n",
       "    </tr>\n",
       "  </thead>\n",
       "  <tbody>\n",
       "    <tr>\n",
       "      <th>0</th>\n",
       "      <td>[{\"name\":\"houseprice-control\",\"version\":\"03f649d4-d5d7-4cba-88fe-a1be90f5a917\",\"sha\":\"0d03d638f7100827288c808c2cc6e5dae127f5f31e7f0f97ef70aa2078f11cc1\"}]</td>\n",
       "      <td>[10.349835]</td>\n",
       "    </tr>\n",
       "  </tbody>\n",
       "</table>\n",
       "</div>"
      ],
      "text/plain": [
       "                                                                                                                                            out._model_split  \\\n",
       "0  [{\"name\":\"houseprice-control\",\"version\":\"03f649d4-d5d7-4cba-88fe-a1be90f5a917\",\"sha\":\"0d03d638f7100827288c808c2cc6e5dae127f5f31e7f0f97ef70aa2078f11cc1\"}]   \n",
       "\n",
       "  out.dense_19  \n",
       "0  [10.349835]  "
      ]
     },
     "metadata": {},
     "output_type": "display_data"
    },
    {
     "data": {
      "text/html": [
       "<div>\n",
       "<style scoped>\n",
       "    .dataframe tbody tr th:only-of-type {\n",
       "        vertical-align: middle;\n",
       "    }\n",
       "\n",
       "    .dataframe tbody tr th {\n",
       "        vertical-align: top;\n",
       "    }\n",
       "\n",
       "    .dataframe thead th {\n",
       "        text-align: right;\n",
       "    }\n",
       "</style>\n",
       "<table border=\"1\" class=\"dataframe\">\n",
       "  <thead>\n",
       "    <tr style=\"text-align: right;\">\n",
       "      <th></th>\n",
       "      <th>out._model_split</th>\n",
       "      <th>out.dense_19</th>\n",
       "    </tr>\n",
       "  </thead>\n",
       "  <tbody>\n",
       "    <tr>\n",
       "      <th>0</th>\n",
       "      <td>[{\"name\":\"houseprice-control\",\"version\":\"03f649d4-d5d7-4cba-88fe-a1be90f5a917\",\"sha\":\"0d03d638f7100827288c808c2cc6e5dae127f5f31e7f0f97ef70aa2078f11cc1\"}]</td>\n",
       "      <td>[10.349835]</td>\n",
       "    </tr>\n",
       "  </tbody>\n",
       "</table>\n",
       "</div>"
      ],
      "text/plain": [
       "                                                                                                                                            out._model_split  \\\n",
       "0  [{\"name\":\"houseprice-control\",\"version\":\"03f649d4-d5d7-4cba-88fe-a1be90f5a917\",\"sha\":\"0d03d638f7100827288c808c2cc6e5dae127f5f31e7f0f97ef70aa2078f11cc1\"}]   \n",
       "\n",
       "  out.dense_19  \n",
       "0  [10.349835]  "
      ]
     },
     "metadata": {},
     "output_type": "display_data"
    }
   ],
   "source": [
    "# results = []\n",
    "# if arrowEnabled is True:\n",
    "#     # use dataframe JSON files\n",
    "#     for x in range(5):\n",
    "#         result = experiment_pipeline.infer_from_file(\"data/data-1.df.json\")\n",
    "#         display(result.loc[:,[\"out._model_split\", \"out.main\"]])    \n",
    "# else:\n",
    "#     # use Wallaroo JSON files\n",
    "#     results.append(experiment_pipeline.infer_from_file(\"data/data-1.json\"))\n",
    "#     results.append(experiment_pipeline.infer_from_file(\"data/data-1.json\"))\n",
    "#     results.append(experiment_pipeline.infer_from_file(\"data/data-1.json\"))\n",
    "#     results.append(experiment_pipeline.infer_from_file(\"data/data-1.json\"))\n",
    "#     results.append(experiment_pipeline.infer_from_file(\"data/data-1.json\"))\n",
    "#     for result in results:\n",
    "#         print(result[0].model())\n",
    "#         print(result[0].data())\n",
    "results = []\n",
    "if arrowEnabled is True:\n",
    "    # use dataframe JSON files\n",
    "    for x in range(5):\n",
    "        result = experiment_pipeline.infer(pd.DataFrame.from_records({\"dense_16_input\":{\"0\":[0.02675675,0.0,0.02677953,0.0,0.0010046,0.00951931,0.14795322,0.0027145,0.03550877,0.98536841,0.02988655,0.04031725,0.04298041]}}))\n",
    "        # display(result)\n",
    "        display(result.loc[:,[\"out._model_split\", \"out.dense_19\"]])    \n",
    "else:\n",
    "    # use Wallaroo JSON files\n",
    "    results.append(experiment_pipeline.infer({\"dense_16_input\":[[0.02675675, 0.0, 0.02677953, 0.0, 0.0010046, 0.00951931, 0.14795322, 0.0027145,  0.03550877, 0.98536841, 0.02988655, 0.04031725, 0.04298041]]}))\n",
    "    results.append(experiment_pipeline.infer({\"dense_16_input\":[[0.02675675, 0.0, 0.02677953, 0.0, 0.0010046, 0.00951931, 0.14795322, 0.0027145,  0.03550877, 0.98536841, 0.02988655, 0.04031725, 0.04298041]]}))\n",
    "    results.append(experiment_pipeline.infer({\"dense_16_input\":[[0.02675675, 0.0, 0.02677953, 0.0, 0.0010046, 0.00951931, 0.14795322, 0.0027145,  0.03550877, 0.98536841, 0.02988655, 0.04031725, 0.04298041]]}))\n",
    "    results.append(experiment_pipeline.infer({\"dense_16_input\":[[0.02675675, 0.0, 0.02677953, 0.0, 0.0010046, 0.00951931, 0.14795322, 0.0027145,  0.03550877, 0.98536841, 0.02988655, 0.04031725, 0.04298041]]}))\n",
    "    results.append(experiment_pipeline.infer({\"dense_16_input\":[[0.02675675, 0.0, 0.02677953, 0.0, 0.0010046, 0.00951931, 0.14795322, 0.0027145,  0.03550877, 0.98536841, 0.02988655, 0.04031725, 0.04298041]]}))\n",
    "    for result in results:\n",
    "        print(result[0].model())\n",
    "        print(result[0].data())"
   ]
  },
  {
   "cell_type": "markdown",
   "metadata": {},
   "source": [
    "### Run Inference Batch\n",
    "\n",
    "We will submit 1000 rows of test data through the pipeline, then loop through the responses and display which model each inference was performed in.  The results between the control and challenger should be approximately 2:1."
   ]
  },
  {
   "cell_type": "code",
   "execution_count": 49,
   "metadata": {},
   "outputs": [
    {
     "data": {
      "text/plain": [
       "houseprice-control       263\n",
       "houseprice-challenger    137\n",
       "Name: model, dtype: int64"
      ]
     },
     "metadata": {},
     "output_type": "display_data"
    }
   ],
   "source": [
    "responses = []\n",
    "if arrowEnabled is True:\n",
    "    test_data = pd.read_json('./data/test_data_anomaly_df.json', orient=\"records\")\n",
    "    responses_anomaly = pd.DataFrame()\n",
    "    # For the first 400 rows, submit that row as a separate DataFrame\n",
    "    # Add the results to the responses_anomaly dataframe\n",
    "    # for index, row in test_data.head(400).iterrows():\n",
    "    # responses = pd.DataFrame()\n",
    "    #Read in the test data as one dataframe\n",
    "    # test_data = pd.read_json('data/test_data_anomaly_df.json')\n",
    "    # For each row, submit that row as a separate dataframe\n",
    "    # Add the results to the responses array\n",
    "    for index, row in test_data.head(400).iterrows():\n",
    "        responses.append(experiment_pipeline.infer(row.to_frame('dense_16_input').reset_index()))\n",
    "        # display(responses)\n",
    "    #now get our responses for each row\n",
    "    # each r is a dataframe, then get the result from out.split into json and get the model name\n",
    "    # for r in responses:\n",
    "    #     display(r.loc[0][\"out.split\"])\n",
    "    l = [json.loads(r.loc[0][\"out._model_split\"][0])[\"name\"] for r in responses]\n",
    "    df = pd.DataFrame({'model': l})\n",
    "    display(df.model.value_counts())\n",
    "else:\n",
    "    l = []\n",
    "    responses =[]\n",
    "    from data import test_data\n",
    "    for nth in range(1000):\n",
    "        responses.extend(experiment_pipeline.infer(test_data.data[nth]))\n",
    "    l = [r.raw['model_name'] for r in responses]\n",
    "    df = pd.DataFrame({'model': l})\n",
    "    display(df.model.value_counts())"
   ]
  },
  {
   "cell_type": "markdown",
   "metadata": {},
   "source": [
    "### Test Challenger\n",
    "\n",
    "Now we have run a large amount of data we can compare the results.\n",
    "\n",
    "For this experiment we are looking for a significant change in the fraction of inferences that predicted a probability of the seventh category being high than 0.5 so we can determine whether our challenger model is more \"successful\" than the champion model at identifying category 7."
   ]
  },
  {
   "cell_type": "code",
   "execution_count": 50,
   "metadata": {},
   "outputs": [
    {
     "name": "stdout",
     "output_type": "stream",
     "text": [
      "control class 7 prediction rate: 1.0\n",
      "challenger class 7 prediction rate: 1.0\n"
     ]
    }
   ],
   "source": [
    "control_count = 0\n",
    "challenger_count = 0\n",
    "\n",
    "control_success = 0\n",
    "challenger_success = 0\n",
    "\n",
    "if arrowEnabled is True:\n",
    "    # do nothing\n",
    "    for r in responses:\n",
    "        if json.loads(r.loc[0][\"out._model_split\"][0])[\"name\"] == \"houseprice-control\":\n",
    "            control_count += 1\n",
    "            if(r.loc[0][\"out.dense_19\"][0] > .5):\n",
    "                control_success += 1\n",
    "        else:\n",
    "            challenger_count += 1\n",
    "            if(r.loc[0][\"out.dense_19\"][0] > .5):\n",
    "               challenger_success += 1\n",
    "else:\n",
    "    for r in responses:\n",
    "        if r.raw['model_name'] == \"aloha-control\":\n",
    "            control_count += 1\n",
    "            if(r.raw['outputs'][7]['Float']['data'][0] > .5):\n",
    "                control_success += 1\n",
    "        else:\n",
    "            challenger_count +=1\n",
    "            if(r.raw['outputs'][7]['Float']['data'][0] > .5):\n",
    "                challenger_success += 1\n",
    "\n",
    "print(\"control class 7 prediction rate: \" + str(control_success/control_count))\n",
    "print(\"challenger class 7 prediction rate: \" + str(challenger_success/challenger_count))"
   ]
  },
  {
   "cell_type": "markdown",
   "metadata": {},
   "source": [
    "### Logs\n",
    "\n",
    "Logs can be viewed with the Pipeline method `logs()`.  For this example, only the first 5 logs will be shown.  For Arrow enabled environments, the model type can be found in the column `out._model_split`."
   ]
  },
  {
   "cell_type": "code",
   "execution_count": 53,
   "metadata": {},
   "outputs": [
    {
     "data": {
      "text/html": [
       "<div>\n",
       "<style scoped>\n",
       "    .dataframe tbody tr th:only-of-type {\n",
       "        vertical-align: middle;\n",
       "    }\n",
       "\n",
       "    .dataframe tbody tr th {\n",
       "        vertical-align: top;\n",
       "    }\n",
       "\n",
       "    .dataframe thead th {\n",
       "        text-align: right;\n",
       "    }\n",
       "</style>\n",
       "<table border=\"1\" class=\"dataframe\">\n",
       "  <thead>\n",
       "    <tr style=\"text-align: right;\">\n",
       "      <th></th>\n",
       "      <th>time</th>\n",
       "      <th>out._model_split</th>\n",
       "      <th>out.dense_19</th>\n",
       "    </tr>\n",
       "  </thead>\n",
       "  <tbody>\n",
       "    <tr>\n",
       "      <th>0</th>\n",
       "      <td>2023-03-10 20:02:52.438</td>\n",
       "      <td>[{\"name\":\"houseprice-challenger\",\"version\":\"78d2b8fc-bf8c-4457-b620-c819c0b5de59\",\"sha\":\"0d03d638f7100827288c808c2cc6e5dae127f5f31e7f0f97ef70aa2078f11cc1\"}]</td>\n",
       "      <td>[16.037834]</td>\n",
       "    </tr>\n",
       "    <tr>\n",
       "      <th>1</th>\n",
       "      <td>2023-03-10 20:02:52.897</td>\n",
       "      <td>[{\"name\":\"houseprice-challenger\",\"version\":\"78d2b8fc-bf8c-4457-b620-c819c0b5de59\",\"sha\":\"0d03d638f7100827288c808c2cc6e5dae127f5f31e7f0f97ef70aa2078f11cc1\"}]</td>\n",
       "      <td>[31.820295]</td>\n",
       "    </tr>\n",
       "    <tr>\n",
       "      <th>2</th>\n",
       "      <td>2023-03-10 20:17:51.424</td>\n",
       "      <td>[{\"name\":\"houseprice-control\",\"version\":\"03f649d4-d5d7-4cba-88fe-a1be90f5a917\",\"sha\":\"0d03d638f7100827288c808c2cc6e5dae127f5f31e7f0f97ef70aa2078f11cc1\"}]</td>\n",
       "      <td>[23.26468]</td>\n",
       "    </tr>\n",
       "    <tr>\n",
       "      <th>3</th>\n",
       "      <td>2023-03-10 20:17:51.758</td>\n",
       "      <td>[{\"name\":\"houseprice-control\",\"version\":\"03f649d4-d5d7-4cba-88fe-a1be90f5a917\",\"sha\":\"0d03d638f7100827288c808c2cc6e5dae127f5f31e7f0f97ef70aa2078f11cc1\"}]</td>\n",
       "      <td>[11.928354]</td>\n",
       "    </tr>\n",
       "  </tbody>\n",
       "</table>\n",
       "</div>"
      ],
      "text/plain": [
       "                     time  \\\n",
       "0 2023-03-10 20:02:52.438   \n",
       "1 2023-03-10 20:02:52.897   \n",
       "2 2023-03-10 20:17:51.424   \n",
       "3 2023-03-10 20:17:51.758   \n",
       "\n",
       "                                                                                                                                               out._model_split  \\\n",
       "0  [{\"name\":\"houseprice-challenger\",\"version\":\"78d2b8fc-bf8c-4457-b620-c819c0b5de59\",\"sha\":\"0d03d638f7100827288c808c2cc6e5dae127f5f31e7f0f97ef70aa2078f11cc1\"}]   \n",
       "1  [{\"name\":\"houseprice-challenger\",\"version\":\"78d2b8fc-bf8c-4457-b620-c819c0b5de59\",\"sha\":\"0d03d638f7100827288c808c2cc6e5dae127f5f31e7f0f97ef70aa2078f11cc1\"}]   \n",
       "2     [{\"name\":\"houseprice-control\",\"version\":\"03f649d4-d5d7-4cba-88fe-a1be90f5a917\",\"sha\":\"0d03d638f7100827288c808c2cc6e5dae127f5f31e7f0f97ef70aa2078f11cc1\"}]   \n",
       "3     [{\"name\":\"houseprice-control\",\"version\":\"03f649d4-d5d7-4cba-88fe-a1be90f5a917\",\"sha\":\"0d03d638f7100827288c808c2cc6e5dae127f5f31e7f0f97ef70aa2078f11cc1\"}]   \n",
       "\n",
       "  out.dense_19  \n",
       "0  [16.037834]  \n",
       "1  [31.820295]  \n",
       "2   [23.26468]  \n",
       "3  [11.928354]  "
      ]
     },
     "metadata": {},
     "output_type": "display_data"
    }
   ],
   "source": [
    "logs = experiment_pipeline.logs(limit=5)\n",
    "\n",
    "if arrowEnabled is True:\n",
    "    # display(logs)\n",
    "    display(logs.loc[:,['time', 'out._model_split', 'out.dense_19']])\n",
    "else:\n",
    "    display(logs)"
   ]
  },
  {
   "cell_type": "markdown",
   "metadata": {
    "tags": []
   },
   "source": [
    "### Undeploy Pipeline\n",
    "\n",
    "With the testing complete, we undeploy the pipeline to return the resources back to the environment."
   ]
  },
  {
   "cell_type": "code",
   "execution_count": 54,
   "metadata": {},
   "outputs": [
    {
     "data": {
      "text/html": [
       "<table><tr><th>name</th> <td>randomsplitpipeline-demo</td></tr><tr><th>created</th> <td>2023-03-10 19:48:03.288037+00:00</td></tr><tr><th>last_updated</th> <td>2023-03-10 20:04:06.158956+00:00</td></tr><tr><th>deployed</th> <td>False</td></tr><tr><th>tags</th> <td></td></tr><tr><th>versions</th> <td>0b637d0d-423f-4507-858a-a1fcc6081a4a, da6de99c-e228-4338-961a-134a4a476f71, ddde66e5-8abf-426e-8c09-ca030c277e38, bf03a0f9-ba6b-4415-ac9a-7f69c2e4b276, 75abdcb8-d63d-48a0-83a3-6ab69865b385</td></tr><tr><th>steps</th> <td>houseprice-challenger</td></tr></table>"
      ],
      "text/plain": [
       "{'name': 'randomsplitpipeline-demo', 'create_time': datetime.datetime(2023, 3, 10, 19, 48, 3, 288037, tzinfo=tzutc()), 'definition': \"[{'RandomSplit': {'hash_key': 'session_id', 'weights': [{'model': {'name': 'houseprice-control', 'version': '03f649d4-d5d7-4cba-88fe-a1be90f5a917', 'sha': '0d03d638f7100827288c808c2cc6e5dae127f5f31e7f0f97ef70aa2078f11cc1'}, 'weight': 2}, {'model': {'name': 'houseprice-challenger', 'version': '9332b9fb-ad9e-4569-9f48-fa25a54a5f7e', 'sha': '0d03d638f7100827288c808c2cc6e5dae127f5f31e7f0f97ef70aa2078f11cc1'}, 'weight': 1}]}}]\"}"
      ]
     },
     "execution_count": 54,
     "metadata": {},
     "output_type": "execute_result"
    }
   ],
   "source": [
    "experiment_pipeline.undeploy()"
   ]
  },
  {
   "cell_type": "code",
   "execution_count": null,
   "metadata": {},
   "outputs": [],
   "source": []
  }
 ],
 "metadata": {
  "kernelspec": {
   "display_name": "Python 3 (ipykernel)",
   "language": "python",
   "name": "python3"
  },
  "language_info": {
   "codemirror_mode": {
    "name": "ipython",
    "version": 3
   },
   "file_extension": ".py",
   "mimetype": "text/x-python",
   "name": "python",
   "nbconvert_exporter": "python",
   "pygments_lexer": "ipython3",
   "version": "3.8.12"
  },
  "vscode": {
   "interpreter": {
    "hash": "7dda4bf3640b7fafcd1648658b879b4cc9f6ba6084e8fb356fdaaa1a461d1690"
   }
  }
 },
 "nbformat": 4,
 "nbformat_minor": 4
}
