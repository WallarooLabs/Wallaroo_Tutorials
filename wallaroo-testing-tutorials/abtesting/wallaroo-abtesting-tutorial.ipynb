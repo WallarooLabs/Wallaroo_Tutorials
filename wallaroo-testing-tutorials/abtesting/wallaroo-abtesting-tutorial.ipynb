{
 "cells": [
  {
   "attachments": {},
   "cell_type": "markdown",
   "metadata": {},
   "source": [
    "This tutorial and the assets can be downloaded as part of the [Wallaroo Tutorials repository](https://github.com/WallarooLabs/Wallaroo_Tutorials/tree/main/wallaroo-testing-tutorials/abtesting).\n",
    "\n",
    "## A/B Testing\n",
    "\n",
    "A/B testing is a method that provides the ability to test out ML models for performance, accuracy or other useful benchmarks.  A/B testing is contrasted with the Wallaroo Shadow Deployment feature.  In both cases, two sets of models are added to a pipeline step:\n",
    "\n",
    "* Control or Champion model:  The model currently used for inferences.\n",
    "* Challenger model(s): One or more models that are to be compared to the champion model.\n",
    "\n",
    "The two feature are different in this way:\n",
    "\n",
    "| Feature | Description |\n",
    "|---|---|\n",
    "| A/B Testing | A subset of inferences are submitted to either the champion ML model or a challenger ML model. |\n",
    "| Shadow Deploy | All inferences are submitted to the champion model and one or more challenger models. |\n",
    "\n",
    "So to repeat:  A/B testing submits *some* of the inference requests to the champion model, some to the challenger model with one set of outputs, while shadow testing submits *all* of the inference requests to champion and shadow models, and has separate outputs.\n",
    "\n",
    "This tutorial demonstrate how to conduct A/B testing in Wallaroo.  For this example we will be using an open source model that uses an [Aloha CNN LSTM model](https://www.researchgate.net/publication/348920204_Using_Auxiliary_Inputs_in_Deep_Learning_Models_for_Detecting_DGA-based_Domain_Names) for classifying Domain names as being either legitimate or being used for nefarious purposes such as malware distribution.  \n",
    "\n",
    "For our example, we will perform the following:\n",
    "\n",
    "* Create a workspace for our work.\n",
    "* Upload the Aloha model and a challenger model.\n",
    "* Create a pipeline that can ingest our submitted data with the champion model and the challenger model set into a A/B step.\n",
    "* Run a series of sample inferences to display inferences that are run through the champion model versus the challenger model, then determine which is more efficient.\n",
    "\n",
    "All sample data and models are available through the [Wallaroo Quick Start Guide Samples repository](https://github.com/WallarooLabs/quickstartguide_samples)."
   ]
  },
  {
   "attachments": {},
   "cell_type": "markdown",
   "metadata": {},
   "source": [
    "## Steps\n",
    "\n",
    "### Import libraries\n",
    "\n",
    "Here we will import the libraries needed for this notebook."
   ]
  },
  {
   "cell_type": "code",
   "execution_count": 37,
   "metadata": {},
   "outputs": [],
   "source": [
    "import wallaroo\n",
    "from wallaroo.object import EntityNotFoundError\n",
    "import os\n",
    "import pandas as pd\n",
    "import json\n",
    "from IPython.display import display\n",
    "\n",
    "# used to display dataframe information without truncating\n",
    "from IPython.display import display\n",
    "pd.set_option('display.max_colwidth', None)"
   ]
  },
  {
   "cell_type": "code",
   "execution_count": 38,
   "metadata": {},
   "outputs": [
    {
     "data": {
      "text/plain": [
       "'2023.1.0rc1'"
      ]
     },
     "execution_count": 38,
     "metadata": {},
     "output_type": "execute_result"
    }
   ],
   "source": [
    "wallaroo.__version__"
   ]
  },
  {
   "attachments": {},
   "cell_type": "markdown",
   "metadata": {},
   "source": [
    "### Arrow Support\n",
    "\n",
    "As of the 2023.1 release, Wallaroo provides support for dataframe and Arrow for inference inputs.  This tutorial allows users to adjust their experience based on whether they have enabled Arrow support in their Wallaroo instance or not.\n",
    "\n",
    "If Arrow support has been enabled, `arrowEnabled=True`. If disabled or you're not sure, set it to `arrowEnabled=False`\n",
    "\n",
    "The examples below will be shown in an arrow enabled environment."
   ]
  },
  {
   "cell_type": "code",
   "execution_count": 39,
   "metadata": {},
   "outputs": [
    {
     "name": "stdout",
     "output_type": "stream",
     "text": [
      "True\n"
     ]
    }
   ],
   "source": [
    "import os\n",
    "# Only set the below to make the OS environment ARROW_ENABLED to TRUE.  Otherwise, leave as is.\n",
    "# os.environ[\"ARROW_ENABLED\"]=\"True\"\n",
    "\n",
    "if \"ARROW_ENABLED\" not in os.environ or os.environ[\"ARROW_ENABLED\"].casefold() == \"False\".casefold():\n",
    "    arrowEnabled = False\n",
    "else:\n",
    "    arrowEnabled = True\n",
    "print(arrowEnabled)"
   ]
  },
  {
   "cell_type": "markdown",
   "metadata": {},
   "source": [
    "### Connect to the Wallaroo Instance\n",
    "\n",
    "This command will be used to set up a connection to the Wallaroo cluster and allow creating and use of Wallaroo inference engines."
   ]
  },
  {
   "cell_type": "code",
   "execution_count": 40,
   "metadata": {},
   "outputs": [],
   "source": [
    "# Client connection from local Wallaroo instance\n",
    "\n",
    "wl = wallaroo.Client()\n",
    "\n",
    "# SSO login through keycloak\n",
    "\n",
    "# wallarooPrefix = \"YOUR PREFIX\"\n",
    "# wallarooSuffix = \"YOUR SUFFIX\"\n",
    "\n",
    "# wl = wallaroo.Client(api_endpoint=f\"https://{wallarooPrefix}.api.{wallarooSuffix}\", \n",
    "#                     auth_endpoint=f\"https://{wallarooPrefix}.keycloak.{wallarooSuffix}\", \n",
    "#                     auth_type=\"sso\")"
   ]
  },
  {
   "attachments": {},
   "cell_type": "markdown",
   "metadata": {},
   "source": [
    "### Create Workspace\n",
    "\n",
    "We will create a workspace to manage our pipeline and models.  The following variables will set the name of our sample workspace then set it as the current workspace for all other commands.\n",
    "\n",
    "To allow this tutorial to be run multiple times or by multiple users in the same Wallaroo instance, a random 4 character prefix will be added to the workspace, pipeline, and model."
   ]
  },
  {
   "cell_type": "code",
   "execution_count": 41,
   "metadata": {},
   "outputs": [],
   "source": [
    "workspace_name = 'abtestingworkspace2'"
   ]
  },
  {
   "cell_type": "code",
   "execution_count": 42,
   "metadata": {},
   "outputs": [],
   "source": [
    "def get_workspace(name):\n",
    "    workspace = None\n",
    "    for ws in wl.list_workspaces():\n",
    "        if ws.name() == name:\n",
    "            workspace= ws\n",
    "    if(workspace == None):\n",
    "        workspace = wl.create_workspace(name)\n",
    "    return workspace"
   ]
  },
  {
   "cell_type": "code",
   "execution_count": 43,
   "metadata": {},
   "outputs": [
    {
     "data": {
      "text/plain": [
       "{'name': 'abtestingworkspace2', 'id': 117, 'archived': False, 'created_by': '138bd7e6-4dc8-4dc1-a760-c9e721ef3c37', 'created_at': '2023-03-01T22:17:22.345321+00:00', 'models': [], 'pipelines': []}"
      ]
     },
     "execution_count": 43,
     "metadata": {},
     "output_type": "execute_result"
    }
   ],
   "source": [
    "workspace = get_workspace(workspace_name)\n",
    "\n",
    "wl.set_current_workspace(workspace)"
   ]
  },
  {
   "cell_type": "markdown",
   "metadata": {},
   "source": [
    "### Set Up the Champion and Challenger Models\n",
    "\n",
    "Now we upload the Champion and Challenger models to our workspace.  We will use two models:\n",
    "\n",
    "1. `aloha-cnn-lstm` model.\n",
    "2. `aloha-cnn-lstm-new` (a retrained version)"
   ]
  },
  {
   "cell_type": "markdown",
   "metadata": {},
   "source": [
    "### Set the Champion Model\n",
    "\n",
    "We upload our champion model, labeled as `control`."
   ]
  },
  {
   "cell_type": "code",
   "execution_count": 44,
   "metadata": {},
   "outputs": [],
   "source": [
    "control =  wl.upload_model(\"aloha-control\",   'models/aloha-cnn-lstm.zip').configure('tensorflow')"
   ]
  },
  {
   "cell_type": "markdown",
   "metadata": {},
   "source": [
    "### Set the Challenger Model\n",
    "\n",
    "Now we upload the Challenger model, labeled as `challenger`."
   ]
  },
  {
   "cell_type": "code",
   "execution_count": 45,
   "metadata": {},
   "outputs": [],
   "source": [
    "challenger = wl.upload_model(\"aloha-challenger\",   'models/aloha-cnn-lstm-new.zip').configure('tensorflow')"
   ]
  },
  {
   "cell_type": "markdown",
   "metadata": {},
   "source": [
    "### Define The Pipeline\n",
    "\n",
    "Here we will configure a pipeline with two models and set the control model with a random split chance of receiving 2/3 of the data.  Because this is a random split, it is possible for one model or the other to receive more inferences than a strict 2:1 ratio, but the more inferences are run, the more likely it is for the proper ratio split."
   ]
  },
  {
   "cell_type": "code",
   "execution_count": 46,
   "metadata": {},
   "outputs": [],
   "source": [
    "pipeline = (wl.build_pipeline(\"randomsplitpipeline-demo\")\n",
    "            .add_random_split([(2, control), (1, challenger)], \"session_id\"))"
   ]
  },
  {
   "cell_type": "markdown",
   "metadata": {},
   "source": [
    "### Deploy the pipeline\n",
    "\n",
    "Now we deploy the pipeline so we can run our inference through it."
   ]
  },
  {
   "cell_type": "code",
   "execution_count": 47,
   "metadata": {},
   "outputs": [],
   "source": [
    "experiment_pipeline = pipeline.deploy()"
   ]
  },
  {
   "cell_type": "code",
   "execution_count": 48,
   "metadata": {},
   "outputs": [
    {
     "data": {
      "text/plain": [
       "{'status': 'Running',\n",
       " 'details': [],\n",
       " 'engines': [{'ip': '10.48.1.20',\n",
       "   'name': 'engine-6d97d6595-nzvwm',\n",
       "   'status': 'Running',\n",
       "   'reason': None,\n",
       "   'details': [],\n",
       "   'pipeline_statuses': {'pipelines': [{'id': 'randomsplitpipeline-demo',\n",
       "      'status': 'Running'}]},\n",
       "   'model_statuses': {'models': [{'name': 'aloha-challenger',\n",
       "      'version': '63dcded6-af06-45ed-b208-3cfbc5dec28b',\n",
       "      'sha': '223d26869d24976942f53ccb40b432e8b7c39f9ffcf1f719f3929d7595bceaf3',\n",
       "      'status': 'Running'},\n",
       "     {'name': 'aloha-control',\n",
       "      'version': '82f54e30-0614-4909-9545-2323a918e306',\n",
       "      'sha': 'fd998cd5e4964bbbb4f8d29d245a8ac67df81b62be767afbceb96a03d1a01520',\n",
       "      'status': 'Running'}]}}],\n",
       " 'engine_lbs': [{'ip': '10.48.2.97',\n",
       "   'name': 'engine-lb-86bc6bd77b-75mtk',\n",
       "   'status': 'Running',\n",
       "   'reason': None,\n",
       "   'details': []}],\n",
       " 'sidekicks': []}"
      ]
     },
     "execution_count": 48,
     "metadata": {},
     "output_type": "execute_result"
    }
   ],
   "source": [
    "experiment_pipeline.status()"
   ]
  },
  {
   "cell_type": "markdown",
   "metadata": {},
   "source": [
    "# Run a single inference\n",
    "Now we have our deployment set up let's run a single inference. In the results we will be able to see the inference results as well as which model the inference went to under model_id.  We'll run the inference request 5 times, with the odds are that the challenger model being run at least once."
   ]
  },
  {
   "cell_type": "code",
   "execution_count": 51,
   "metadata": {},
   "outputs": [
    {
     "data": {
      "text/html": [
       "<div>\n",
       "<style scoped>\n",
       "    .dataframe tbody tr th:only-of-type {\n",
       "        vertical-align: middle;\n",
       "    }\n",
       "\n",
       "    .dataframe tbody tr th {\n",
       "        vertical-align: top;\n",
       "    }\n",
       "\n",
       "    .dataframe thead th {\n",
       "        text-align: right;\n",
       "    }\n",
       "</style>\n",
       "<table border=\"1\" class=\"dataframe\">\n",
       "  <thead>\n",
       "    <tr style=\"text-align: right;\">\n",
       "      <th></th>\n",
       "      <th>out.split</th>\n",
       "      <th>out.main</th>\n",
       "    </tr>\n",
       "  </thead>\n",
       "  <tbody>\n",
       "    <tr>\n",
       "      <th>0</th>\n",
       "      <td>[{\"name\":\"aloha-control\",\"version\":\"82f54e30-0614-4909-9545-2323a918e306\",\"sha\":\"fd998cd5e4964bbbb4f8d29d245a8ac67df81b62be767afbceb96a03d1a01520\"}]</td>\n",
       "      <td>[0.997564]</td>\n",
       "    </tr>\n",
       "  </tbody>\n",
       "</table>\n",
       "</div>"
      ],
      "text/plain": [
       "                                                                                                                                              out.split  \\\n",
       "0  [{\"name\":\"aloha-control\",\"version\":\"82f54e30-0614-4909-9545-2323a918e306\",\"sha\":\"fd998cd5e4964bbbb4f8d29d245a8ac67df81b62be767afbceb96a03d1a01520\"}]   \n",
       "\n",
       "     out.main  \n",
       "0  [0.997564]  "
      ]
     },
     "metadata": {},
     "output_type": "display_data"
    },
    {
     "data": {
      "text/html": [
       "<div>\n",
       "<style scoped>\n",
       "    .dataframe tbody tr th:only-of-type {\n",
       "        vertical-align: middle;\n",
       "    }\n",
       "\n",
       "    .dataframe tbody tr th {\n",
       "        vertical-align: top;\n",
       "    }\n",
       "\n",
       "    .dataframe thead th {\n",
       "        text-align: right;\n",
       "    }\n",
       "</style>\n",
       "<table border=\"1\" class=\"dataframe\">\n",
       "  <thead>\n",
       "    <tr style=\"text-align: right;\">\n",
       "      <th></th>\n",
       "      <th>out.split</th>\n",
       "      <th>out.main</th>\n",
       "    </tr>\n",
       "  </thead>\n",
       "  <tbody>\n",
       "    <tr>\n",
       "      <th>0</th>\n",
       "      <td>[{\"name\":\"aloha-challenger\",\"version\":\"63dcded6-af06-45ed-b208-3cfbc5dec28b\",\"sha\":\"223d26869d24976942f53ccb40b432e8b7c39f9ffcf1f719f3929d7595bceaf3\"}]</td>\n",
       "      <td>[0.997564]</td>\n",
       "    </tr>\n",
       "  </tbody>\n",
       "</table>\n",
       "</div>"
      ],
      "text/plain": [
       "                                                                                                                                                 out.split  \\\n",
       "0  [{\"name\":\"aloha-challenger\",\"version\":\"63dcded6-af06-45ed-b208-3cfbc5dec28b\",\"sha\":\"223d26869d24976942f53ccb40b432e8b7c39f9ffcf1f719f3929d7595bceaf3\"}]   \n",
       "\n",
       "     out.main  \n",
       "0  [0.997564]  "
      ]
     },
     "metadata": {},
     "output_type": "display_data"
    },
    {
     "data": {
      "text/html": [
       "<div>\n",
       "<style scoped>\n",
       "    .dataframe tbody tr th:only-of-type {\n",
       "        vertical-align: middle;\n",
       "    }\n",
       "\n",
       "    .dataframe tbody tr th {\n",
       "        vertical-align: top;\n",
       "    }\n",
       "\n",
       "    .dataframe thead th {\n",
       "        text-align: right;\n",
       "    }\n",
       "</style>\n",
       "<table border=\"1\" class=\"dataframe\">\n",
       "  <thead>\n",
       "    <tr style=\"text-align: right;\">\n",
       "      <th></th>\n",
       "      <th>out.split</th>\n",
       "      <th>out.main</th>\n",
       "    </tr>\n",
       "  </thead>\n",
       "  <tbody>\n",
       "    <tr>\n",
       "      <th>0</th>\n",
       "      <td>[{\"name\":\"aloha-challenger\",\"version\":\"63dcded6-af06-45ed-b208-3cfbc5dec28b\",\"sha\":\"223d26869d24976942f53ccb40b432e8b7c39f9ffcf1f719f3929d7595bceaf3\"}]</td>\n",
       "      <td>[0.997564]</td>\n",
       "    </tr>\n",
       "  </tbody>\n",
       "</table>\n",
       "</div>"
      ],
      "text/plain": [
       "                                                                                                                                                 out.split  \\\n",
       "0  [{\"name\":\"aloha-challenger\",\"version\":\"63dcded6-af06-45ed-b208-3cfbc5dec28b\",\"sha\":\"223d26869d24976942f53ccb40b432e8b7c39f9ffcf1f719f3929d7595bceaf3\"}]   \n",
       "\n",
       "     out.main  \n",
       "0  [0.997564]  "
      ]
     },
     "metadata": {},
     "output_type": "display_data"
    },
    {
     "data": {
      "text/html": [
       "<div>\n",
       "<style scoped>\n",
       "    .dataframe tbody tr th:only-of-type {\n",
       "        vertical-align: middle;\n",
       "    }\n",
       "\n",
       "    .dataframe tbody tr th {\n",
       "        vertical-align: top;\n",
       "    }\n",
       "\n",
       "    .dataframe thead th {\n",
       "        text-align: right;\n",
       "    }\n",
       "</style>\n",
       "<table border=\"1\" class=\"dataframe\">\n",
       "  <thead>\n",
       "    <tr style=\"text-align: right;\">\n",
       "      <th></th>\n",
       "      <th>out.split</th>\n",
       "      <th>out.main</th>\n",
       "    </tr>\n",
       "  </thead>\n",
       "  <tbody>\n",
       "    <tr>\n",
       "      <th>0</th>\n",
       "      <td>[{\"name\":\"aloha-control\",\"version\":\"82f54e30-0614-4909-9545-2323a918e306\",\"sha\":\"fd998cd5e4964bbbb4f8d29d245a8ac67df81b62be767afbceb96a03d1a01520\"}]</td>\n",
       "      <td>[0.997564]</td>\n",
       "    </tr>\n",
       "  </tbody>\n",
       "</table>\n",
       "</div>"
      ],
      "text/plain": [
       "                                                                                                                                              out.split  \\\n",
       "0  [{\"name\":\"aloha-control\",\"version\":\"82f54e30-0614-4909-9545-2323a918e306\",\"sha\":\"fd998cd5e4964bbbb4f8d29d245a8ac67df81b62be767afbceb96a03d1a01520\"}]   \n",
       "\n",
       "     out.main  \n",
       "0  [0.997564]  "
      ]
     },
     "metadata": {},
     "output_type": "display_data"
    },
    {
     "data": {
      "text/html": [
       "<div>\n",
       "<style scoped>\n",
       "    .dataframe tbody tr th:only-of-type {\n",
       "        vertical-align: middle;\n",
       "    }\n",
       "\n",
       "    .dataframe tbody tr th {\n",
       "        vertical-align: top;\n",
       "    }\n",
       "\n",
       "    .dataframe thead th {\n",
       "        text-align: right;\n",
       "    }\n",
       "</style>\n",
       "<table border=\"1\" class=\"dataframe\">\n",
       "  <thead>\n",
       "    <tr style=\"text-align: right;\">\n",
       "      <th></th>\n",
       "      <th>out.split</th>\n",
       "      <th>out.main</th>\n",
       "    </tr>\n",
       "  </thead>\n",
       "  <tbody>\n",
       "    <tr>\n",
       "      <th>0</th>\n",
       "      <td>[{\"name\":\"aloha-control\",\"version\":\"82f54e30-0614-4909-9545-2323a918e306\",\"sha\":\"fd998cd5e4964bbbb4f8d29d245a8ac67df81b62be767afbceb96a03d1a01520\"}]</td>\n",
       "      <td>[0.997564]</td>\n",
       "    </tr>\n",
       "  </tbody>\n",
       "</table>\n",
       "</div>"
      ],
      "text/plain": [
       "                                                                                                                                              out.split  \\\n",
       "0  [{\"name\":\"aloha-control\",\"version\":\"82f54e30-0614-4909-9545-2323a918e306\",\"sha\":\"fd998cd5e4964bbbb4f8d29d245a8ac67df81b62be767afbceb96a03d1a01520\"}]   \n",
       "\n",
       "     out.main  \n",
       "0  [0.997564]  "
      ]
     },
     "metadata": {},
     "output_type": "display_data"
    }
   ],
   "source": [
    "results = []\n",
    "if arrowEnabled is True:\n",
    "    # use dataframe JSON files\n",
    "    for x in range(5):\n",
    "        result = experiment_pipeline.infer_from_file(\"data/data-1.df.json\")\n",
    "        display(result.loc[:,[\"out.split\", \"out.main\"]])        \n",
    "else:\n",
    "    # use Wallaroo JSON files\n",
    "    results.append(experiment_pipeline.infer_from_file(\"data/data-1.json\"))\n",
    "    results.append(experiment_pipeline.infer_from_file(\"data/data-1.json\"))\n",
    "    results.append(experiment_pipeline.infer_from_file(\"data/data-1.json\"))\n",
    "    results.append(experiment_pipeline.infer_from_file(\"data/data-1.json\"))\n",
    "    results.append(experiment_pipeline.infer_from_file(\"data/data-1.json\"))\n",
    "    for result in results:\n",
    "        print(result[0].model())\n",
    "        print(result[0].data())"
   ]
  },
  {
   "cell_type": "markdown",
   "metadata": {},
   "source": [
    "### Run Inference Batch\n",
    "\n",
    "We will submit 1000 rows of test data through the pipeline, then loop through the responses and display which model each inference was performed in.  The results between the control and challenger should be approximately 2:1."
   ]
  },
  {
   "cell_type": "code",
   "execution_count": 56,
   "metadata": {},
   "outputs": [
    {
     "data": {
      "text/plain": [
       "aloha-control       689\n",
       "aloha-challenger    311\n",
       "Name: model, dtype: int64"
      ]
     },
     "metadata": {},
     "output_type": "display_data"
    }
   ],
   "source": [
    "l = []\n",
    "responses =[]\n",
    "if arrowEnabled is True:\n",
    "    #Read in the test data as one dataframe\n",
    "    test_data = pd.read_json('data/data-1k.df.json')\n",
    "    # For each row, submit that row as a separate dataframe\n",
    "    # Add the results to the responses array\n",
    "    for index, row in test_data.head(1000).iterrows():\n",
    "        responses.append(experiment_pipeline.infer(row.to_frame('text_input').reset_index()))\n",
    "    #now get our responses for each row\n",
    "    # each r is a dataframe, then get the result from out.split into json and get the model name\n",
    "    l = [json.loads(r.loc[0][\"out.split\"][0])[\"name\"] for r in responses]\n",
    "    df = pd.DataFrame({'model': l})\n",
    "    display(df.model.value_counts())\n",
    "else:\n",
    "    from data import test_data\n",
    "    for nth in range(100):\n",
    "        responses.extend(experiment_pipeline.infer(test_data.data[nth]))\n",
    "    l = [r.raw['model_name'] for r in responses]\n",
    "    df = pd.DataFrame({'model': l})\n",
    "    display(df.model.value_counts())"
   ]
  },
  {
   "cell_type": "markdown",
   "metadata": {},
   "source": [
    "### Test Challenger\n",
    "\n",
    "Now we have run a large amount of data we can compare the results.\n",
    "\n",
    "For this experiment we are looking for a significant change in the fraction of inferences that predicted a probability of the seventh category being high than 0.5 so we can determine whether our challenger model is more \"successful\" than the champion model at identifying category 7."
   ]
  },
  {
   "cell_type": "code",
   "execution_count": 57,
   "metadata": {},
   "outputs": [
    {
     "name": "stdout",
     "output_type": "stream",
     "text": [
      "control class 7 prediction rate: 0.9796806966618288\n",
      "challenger class 7 prediction rate: 0.9710610932475884\n"
     ]
    }
   ],
   "source": [
    "control_count = 0\n",
    "challenger_count = 0\n",
    "\n",
    "control_success = 0\n",
    "challenger_success = 0\n",
    "\n",
    "if arrowEnabled is True:\n",
    "    # do nothing\n",
    "    for r in responses:\n",
    "        if json.loads(r.loc[0][\"out.split\"][0])[\"name\"] == \"aloha-control\":\n",
    "            control_count += 1\n",
    "            if(r.loc[0][\"out.main\"][0] > .5):\n",
    "                control_success += 1\n",
    "        else:\n",
    "            challenger_count += 1\n",
    "            if(r.loc[0][\"out.main\"][0] > .5):\n",
    "               challenger_success += 1\n",
    "else:\n",
    "    for r in responses:\n",
    "        if r.raw['model_name'] == \"aloha-control\":\n",
    "            control_count += 1\n",
    "            if(r.raw['outputs'][7]['Float']['data'][0] > .5):\n",
    "                control_success += 1\n",
    "        else:\n",
    "            challenger_count +=1\n",
    "            if(r.raw['outputs'][7]['Float']['data'][0] > .5):\n",
    "                challenger_success += 1\n",
    "           \n",
    "            \n",
    "print(\"control class 7 prediction rate: \" + str(control_success/control_count))\n",
    "print(\"challenger class 7 prediction rate: \" + str(challenger_success/challenger_count))"
   ]
  },
  {
   "attachments": {},
   "cell_type": "markdown",
   "metadata": {},
   "source": [
    "### Logs\n",
    "\n",
    "Logs can be viewed with the Pipeline method `logs()`.  For this example, only the first 5 logs will be shown."
   ]
  },
  {
   "cell_type": "code",
   "execution_count": 58,
   "metadata": {},
   "outputs": [
    {
     "data": {
      "text/html": [
       "<div>\n",
       "<style scoped>\n",
       "    .dataframe tbody tr th:only-of-type {\n",
       "        vertical-align: middle;\n",
       "    }\n",
       "\n",
       "    .dataframe tbody tr th {\n",
       "        vertical-align: top;\n",
       "    }\n",
       "\n",
       "    .dataframe thead th {\n",
       "        text-align: right;\n",
       "    }\n",
       "</style>\n",
       "<table border=\"1\" class=\"dataframe\">\n",
       "  <thead>\n",
       "    <tr style=\"text-align: right;\">\n",
       "      <th></th>\n",
       "      <th>time</th>\n",
       "      <th>in.index</th>\n",
       "      <th>in.text_input</th>\n",
       "      <th>out.banjori</th>\n",
       "      <th>out.corebot</th>\n",
       "      <th>out.cryptolocker</th>\n",
       "      <th>out.dircrypt</th>\n",
       "      <th>out.gozi</th>\n",
       "      <th>out.kraken</th>\n",
       "      <th>out.locky</th>\n",
       "      <th>out.main</th>\n",
       "      <th>out.matsnu</th>\n",
       "      <th>out.pykspa</th>\n",
       "      <th>out.qakbot</th>\n",
       "      <th>out.ramdo</th>\n",
       "      <th>out.ramnit</th>\n",
       "      <th>out.simda</th>\n",
       "      <th>out.split</th>\n",
       "      <th>out.suppobox</th>\n",
       "      <th>check_failures</th>\n",
       "    </tr>\n",
       "  </thead>\n",
       "  <tbody>\n",
       "    <tr>\n",
       "      <th>0</th>\n",
       "      <td>2023-03-01 22:34:07.594</td>\n",
       "      <td>text_input</td>\n",
       "      <td>[0, 0, 0, 0, 0, 0, 0, 0, 0, 0, 0, 0, 0, 0, 0, 0, 0, 0, 0, 0, 0, 0, 0, 0, 0, 0, 0, 0, 0, 0, 0, 0, 0, 0, 22, 31, 35, 13, 14, 25, 23, 14, 21, 20, 32, 14, 32, 29, 16, 33]</td>\n",
       "      <td>[2.0416728e-12]</td>\n",
       "      <td>[7.744146e-09]</td>\n",
       "      <td>[0.011983096]</td>\n",
       "      <td>[8.3120476e-08]</td>\n",
       "      <td>[7.339659e-14]</td>\n",
       "      <td>[0.12322993]</td>\n",
       "      <td>[0.07365253]</td>\n",
       "      <td>[0.9999754]</td>\n",
       "      <td>[0.10082036]</td>\n",
       "      <td>[0.057467874]</td>\n",
       "      <td>[0.00017084264]</td>\n",
       "      <td>[0.07321707]</td>\n",
       "      <td>[0.0018467659]</td>\n",
       "      <td>[3.283996e-36]</td>\n",
       "      <td>[{\"name\":\"aloha-control\",\"version\":\"82f54e30-0614-4909-9545-2323a918e306\",\"sha\":\"fd998cd5e4964bbbb4f8d29d245a8ac67df81b62be767afbceb96a03d1a01520\"}]</td>\n",
       "      <td>[0.0]</td>\n",
       "      <td>0</td>\n",
       "    </tr>\n",
       "    <tr>\n",
       "      <th>1</th>\n",
       "      <td>2023-03-01 22:34:07.908</td>\n",
       "      <td>text_input</td>\n",
       "      <td>[0, 0, 0, 0, 0, 0, 0, 0, 0, 0, 0, 0, 0, 0, 0, 0, 0, 0, 0, 0, 0, 0, 0, 0, 0, 0, 0, 0, 0, 0, 0, 0, 0, 0, 0, 0, 0, 0, 0, 0, 0, 25, 20, 29, 23, 14, 12, 27, 35, 34]</td>\n",
       "      <td>[5.503905e-11]</td>\n",
       "      <td>[2.5695294e-07]</td>\n",
       "      <td>[0.10195669]</td>\n",
       "      <td>[6.0391613e-07]</td>\n",
       "      <td>[5.4712294e-18]</td>\n",
       "      <td>[0.031199487]</td>\n",
       "      <td>[0.158742]</td>\n",
       "      <td>[0.9999727]</td>\n",
       "      <td>[0.105572745]</td>\n",
       "      <td>[0.060710385]</td>\n",
       "      <td>[1.01494415e-07]</td>\n",
       "      <td>[0.034435842]</td>\n",
       "      <td>[0.25794995]</td>\n",
       "      <td>[8.326852e-27]</td>\n",
       "      <td>[{\"name\":\"aloha-control\",\"version\":\"82f54e30-0614-4909-9545-2323a918e306\",\"sha\":\"fd998cd5e4964bbbb4f8d29d245a8ac67df81b62be767afbceb96a03d1a01520\"}]</td>\n",
       "      <td>[4.358661e-21]</td>\n",
       "      <td>0</td>\n",
       "    </tr>\n",
       "    <tr>\n",
       "      <th>2</th>\n",
       "      <td>2023-03-01 22:34:08.234</td>\n",
       "      <td>text_input</td>\n",
       "      <td>[0, 0, 0, 0, 0, 0, 0, 0, 0, 0, 0, 0, 0, 0, 0, 0, 0, 0, 0, 0, 0, 0, 0, 0, 0, 0, 0, 0, 0, 0, 0, 0, 0, 0, 0, 0, 0, 0, 0, 0, 0, 0, 16, 28, 19, 19, 28, 15, 12, 18]</td>\n",
       "      <td>[0.011286307]</td>\n",
       "      <td>[0.062145207]</td>\n",
       "      <td>[0.09424212]</td>\n",
       "      <td>[6.8554013e-16]</td>\n",
       "      <td>[0.003147427]</td>\n",
       "      <td>[0.013521439]</td>\n",
       "      <td>[0.05215311]</td>\n",
       "      <td>[0.6606688]</td>\n",
       "      <td>[0.039717045]</td>\n",
       "      <td>[0.026172414]</td>\n",
       "      <td>[0.015154899]</td>\n",
       "      <td>[0.019907918]</td>\n",
       "      <td>[0.040248312]</td>\n",
       "      <td>[9.4758866e-27]</td>\n",
       "      <td>[{\"name\":\"aloha-challenger\",\"version\":\"63dcded6-af06-45ed-b208-3cfbc5dec28b\",\"sha\":\"223d26869d24976942f53ccb40b432e8b7c39f9ffcf1f719f3929d7595bceaf3\"}]</td>\n",
       "      <td>[1.1339406e-21]</td>\n",
       "      <td>0</td>\n",
       "    </tr>\n",
       "    <tr>\n",
       "      <th>3</th>\n",
       "      <td>2023-03-01 22:34:08.561</td>\n",
       "      <td>text_input</td>\n",
       "      <td>[0, 0, 0, 0, 0, 0, 0, 0, 0, 0, 0, 0, 0, 0, 0, 0, 0, 0, 0, 0, 0, 0, 0, 0, 0, 0, 0, 0, 0, 0, 0, 0, 0, 0, 0, 0, 0, 0, 0, 0, 0, 0, 29, 12, 19, 35, 16, 35, 27, 16]</td>\n",
       "      <td>[5.6315675e-06]</td>\n",
       "      <td>[3.364268e-06]</td>\n",
       "      <td>[0.1361225]</td>\n",
       "      <td>[5.6732154e-11]</td>\n",
       "      <td>[2.7730684e-08]</td>\n",
       "      <td>[0.0025221559]</td>\n",
       "      <td>[0.054556932]</td>\n",
       "      <td>[0.9998954]</td>\n",
       "      <td>[0.032882173]</td>\n",
       "      <td>[0.021166824]</td>\n",
       "      <td>[0.0008736198]</td>\n",
       "      <td>[0.016495917]</td>\n",
       "      <td>[0.014340231]</td>\n",
       "      <td>[1.6831902e-30]</td>\n",
       "      <td>[{\"name\":\"aloha-control\",\"version\":\"82f54e30-0614-4909-9545-2323a918e306\",\"sha\":\"fd998cd5e4964bbbb4f8d29d245a8ac67df81b62be767afbceb96a03d1a01520\"}]</td>\n",
       "      <td>[4.595618e-25]</td>\n",
       "      <td>0</td>\n",
       "    </tr>\n",
       "    <tr>\n",
       "      <th>4</th>\n",
       "      <td>2023-03-01 22:34:08.874</td>\n",
       "      <td>text_input</td>\n",
       "      <td>[0, 0, 0, 0, 0, 0, 0, 0, 0, 0, 0, 0, 0, 0, 0, 0, 0, 0, 0, 0, 0, 0, 0, 0, 0, 0, 0, 0, 0, 0, 0, 0, 25, 12, 28, 30, 19, 34, 26, 18, 31, 25, 13, 29, 17, 24, 29, 14, 36, 13]</td>\n",
       "      <td>[1.3068775e-12]</td>\n",
       "      <td>[1.102951e-09]</td>\n",
       "      <td>[0.014839984]</td>\n",
       "      <td>[2.2757447e-08]</td>\n",
       "      <td>[8.43847e-15]</td>\n",
       "      <td>[0.30495825]</td>\n",
       "      <td>[0.11627993]</td>\n",
       "      <td>[0.99999803]</td>\n",
       "      <td>[0.14364228]</td>\n",
       "      <td>[0.104070894]</td>\n",
       "      <td>[6.7631646e-07]</td>\n",
       "      <td>[0.12739351]</td>\n",
       "      <td>[0.007844242]</td>\n",
       "      <td>[2.8263106e-35]</td>\n",
       "      <td>[{\"name\":\"aloha-control\",\"version\":\"82f54e30-0614-4909-9545-2323a918e306\",\"sha\":\"fd998cd5e4964bbbb4f8d29d245a8ac67df81b62be767afbceb96a03d1a01520\"}]</td>\n",
       "      <td>[0.0]</td>\n",
       "      <td>0</td>\n",
       "    </tr>\n",
       "  </tbody>\n",
       "</table>\n",
       "</div>"
      ],
      "text/plain": [
       "                     time    in.index  \\\n",
       "0 2023-03-01 22:34:07.594  text_input   \n",
       "1 2023-03-01 22:34:07.908  text_input   \n",
       "2 2023-03-01 22:34:08.234  text_input   \n",
       "3 2023-03-01 22:34:08.561  text_input   \n",
       "4 2023-03-01 22:34:08.874  text_input   \n",
       "\n",
       "                                                                                                                                                              in.text_input  \\\n",
       "0    [0, 0, 0, 0, 0, 0, 0, 0, 0, 0, 0, 0, 0, 0, 0, 0, 0, 0, 0, 0, 0, 0, 0, 0, 0, 0, 0, 0, 0, 0, 0, 0, 0, 0, 22, 31, 35, 13, 14, 25, 23, 14, 21, 20, 32, 14, 32, 29, 16, 33]   \n",
       "1           [0, 0, 0, 0, 0, 0, 0, 0, 0, 0, 0, 0, 0, 0, 0, 0, 0, 0, 0, 0, 0, 0, 0, 0, 0, 0, 0, 0, 0, 0, 0, 0, 0, 0, 0, 0, 0, 0, 0, 0, 0, 25, 20, 29, 23, 14, 12, 27, 35, 34]   \n",
       "2            [0, 0, 0, 0, 0, 0, 0, 0, 0, 0, 0, 0, 0, 0, 0, 0, 0, 0, 0, 0, 0, 0, 0, 0, 0, 0, 0, 0, 0, 0, 0, 0, 0, 0, 0, 0, 0, 0, 0, 0, 0, 0, 16, 28, 19, 19, 28, 15, 12, 18]   \n",
       "3            [0, 0, 0, 0, 0, 0, 0, 0, 0, 0, 0, 0, 0, 0, 0, 0, 0, 0, 0, 0, 0, 0, 0, 0, 0, 0, 0, 0, 0, 0, 0, 0, 0, 0, 0, 0, 0, 0, 0, 0, 0, 0, 29, 12, 19, 35, 16, 35, 27, 16]   \n",
       "4  [0, 0, 0, 0, 0, 0, 0, 0, 0, 0, 0, 0, 0, 0, 0, 0, 0, 0, 0, 0, 0, 0, 0, 0, 0, 0, 0, 0, 0, 0, 0, 0, 25, 12, 28, 30, 19, 34, 26, 18, 31, 25, 13, 29, 17, 24, 29, 14, 36, 13]   \n",
       "\n",
       "       out.banjori      out.corebot out.cryptolocker     out.dircrypt  \\\n",
       "0  [2.0416728e-12]   [7.744146e-09]    [0.011983096]  [8.3120476e-08]   \n",
       "1   [5.503905e-11]  [2.5695294e-07]     [0.10195669]  [6.0391613e-07]   \n",
       "2    [0.011286307]    [0.062145207]     [0.09424212]  [6.8554013e-16]   \n",
       "3  [5.6315675e-06]   [3.364268e-06]      [0.1361225]  [5.6732154e-11]   \n",
       "4  [1.3068775e-12]   [1.102951e-09]    [0.014839984]  [2.2757447e-08]   \n",
       "\n",
       "          out.gozi      out.kraken      out.locky      out.main  \\\n",
       "0   [7.339659e-14]    [0.12322993]   [0.07365253]   [0.9999754]   \n",
       "1  [5.4712294e-18]   [0.031199487]     [0.158742]   [0.9999727]   \n",
       "2    [0.003147427]   [0.013521439]   [0.05215311]   [0.6606688]   \n",
       "3  [2.7730684e-08]  [0.0025221559]  [0.054556932]   [0.9998954]   \n",
       "4    [8.43847e-15]    [0.30495825]   [0.11627993]  [0.99999803]   \n",
       "\n",
       "      out.matsnu     out.pykspa        out.qakbot      out.ramdo  \\\n",
       "0   [0.10082036]  [0.057467874]   [0.00017084264]   [0.07321707]   \n",
       "1  [0.105572745]  [0.060710385]  [1.01494415e-07]  [0.034435842]   \n",
       "2  [0.039717045]  [0.026172414]     [0.015154899]  [0.019907918]   \n",
       "3  [0.032882173]  [0.021166824]    [0.0008736198]  [0.016495917]   \n",
       "4   [0.14364228]  [0.104070894]   [6.7631646e-07]   [0.12739351]   \n",
       "\n",
       "       out.ramnit        out.simda  \\\n",
       "0  [0.0018467659]   [3.283996e-36]   \n",
       "1    [0.25794995]   [8.326852e-27]   \n",
       "2   [0.040248312]  [9.4758866e-27]   \n",
       "3   [0.014340231]  [1.6831902e-30]   \n",
       "4   [0.007844242]  [2.8263106e-35]   \n",
       "\n",
       "                                                                                                                                                 out.split  \\\n",
       "0     [{\"name\":\"aloha-control\",\"version\":\"82f54e30-0614-4909-9545-2323a918e306\",\"sha\":\"fd998cd5e4964bbbb4f8d29d245a8ac67df81b62be767afbceb96a03d1a01520\"}]   \n",
       "1     [{\"name\":\"aloha-control\",\"version\":\"82f54e30-0614-4909-9545-2323a918e306\",\"sha\":\"fd998cd5e4964bbbb4f8d29d245a8ac67df81b62be767afbceb96a03d1a01520\"}]   \n",
       "2  [{\"name\":\"aloha-challenger\",\"version\":\"63dcded6-af06-45ed-b208-3cfbc5dec28b\",\"sha\":\"223d26869d24976942f53ccb40b432e8b7c39f9ffcf1f719f3929d7595bceaf3\"}]   \n",
       "3     [{\"name\":\"aloha-control\",\"version\":\"82f54e30-0614-4909-9545-2323a918e306\",\"sha\":\"fd998cd5e4964bbbb4f8d29d245a8ac67df81b62be767afbceb96a03d1a01520\"}]   \n",
       "4     [{\"name\":\"aloha-control\",\"version\":\"82f54e30-0614-4909-9545-2323a918e306\",\"sha\":\"fd998cd5e4964bbbb4f8d29d245a8ac67df81b62be767afbceb96a03d1a01520\"}]   \n",
       "\n",
       "      out.suppobox  check_failures  \n",
       "0            [0.0]               0  \n",
       "1   [4.358661e-21]               0  \n",
       "2  [1.1339406e-21]               0  \n",
       "3   [4.595618e-25]               0  \n",
       "4            [0.0]               0  "
      ]
     },
     "metadata": {},
     "output_type": "display_data"
    }
   ],
   "source": [
    "logs = experiment_pipeline.logs(limit=5)\n",
    "display(logs)"
   ]
  },
  {
   "cell_type": "markdown",
   "metadata": {
    "tags": []
   },
   "source": [
    "### Undeploy Pipeline\n",
    "\n",
    "With the testing complete, we undeploy the pipeline to return the resources back to the environment."
   ]
  },
  {
   "cell_type": "code",
   "execution_count": 60,
   "metadata": {},
   "outputs": [
    {
     "data": {
      "text/html": [
       "<table><tr><th>name</th> <td>randomsplitpipeline-demo</td></tr><tr><th>created</th> <td>2023-03-01 22:17:32.031906+00:00</td></tr><tr><th>last_updated</th> <td>2023-03-01 22:17:32.995729+00:00</td></tr><tr><th>deployed</th> <td>False</td></tr><tr><th>tags</th> <td></td></tr><tr><th>versions</th> <td>6c758266-07b8-48f1-80aa-a75d6858cd98, 9f8a5207-f94a-4ddc-8dc2-f4bed91833b3</td></tr><tr><th>steps</th> <td>aloha-control</td></tr></table>"
      ],
      "text/plain": [
       "{'name': 'randomsplitpipeline-demo', 'create_time': datetime.datetime(2023, 3, 1, 22, 17, 32, 31906, tzinfo=tzutc()), 'definition': \"[{'RandomSplit': {'hash_key': 'session_id', 'weights': [{'model': {'name': 'aloha-control', 'version': '82f54e30-0614-4909-9545-2323a918e306', 'sha': 'fd998cd5e4964bbbb4f8d29d245a8ac67df81b62be767afbceb96a03d1a01520'}, 'weight': 2}, {'model': {'name': 'aloha-challenger', 'version': '63dcded6-af06-45ed-b208-3cfbc5dec28b', 'sha': '223d26869d24976942f53ccb40b432e8b7c39f9ffcf1f719f3929d7595bceaf3'}, 'weight': 1}]}}]\"}"
      ]
     },
     "execution_count": 60,
     "metadata": {},
     "output_type": "execute_result"
    }
   ],
   "source": [
    "experiment_pipeline.undeploy()"
   ]
  }
 ],
 "metadata": {
  "kernelspec": {
   "display_name": "arrowtests",
   "language": "python",
   "name": "python3"
  },
  "language_info": {
   "codemirror_mode": {
    "name": "ipython",
    "version": 3
   },
   "file_extension": ".py",
   "mimetype": "text/x-python",
   "name": "python",
   "nbconvert_exporter": "python",
   "pygments_lexer": "ipython3",
   "version": "3.8.12"
  },
  "vscode": {
   "interpreter": {
    "hash": "7dda4bf3640b7fafcd1648658b879b4cc9f6ba6084e8fb356fdaaa1a461d1690"
   }
  }
 },
 "nbformat": 4,
 "nbformat_minor": 4
}
