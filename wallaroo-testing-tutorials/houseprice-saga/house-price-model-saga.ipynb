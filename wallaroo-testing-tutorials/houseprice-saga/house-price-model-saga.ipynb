{
 "cells": [
  {
   "attachments": {},
   "cell_type": "markdown",
   "metadata": {},
   "source": [
    "This tutorial and the assets can be downloaded as part of the [Wallaroo Tutorials repository](https://github.com/WallarooLabs/Wallaroo_Tutorials/tree/main/wallaroo-testing-tutorials/anomaly_detection).\n",
    "\n",
    "## Anomaly Detection\n",
    "\n",
    "Wallaroo provides multiple methods of analytical analysis to verify that the data received and generated during an inference is accurate.  This tutorial will demonstrate how to use anomaly detection to track the outputs from a sample model to verify that the model is outputting acceptable results.\n",
    "\n",
    "Anomaly detection allows organizations to set validation parameters in a pipeline.  A **validation** is added to a pipeline to test data based on an expression, and flag any inferences where the validation failed to the [InferenceResult](https://docs.wallaroo.ai/wallaroo-developer-guides/wallaroo-sdk-guides/wallaroo-sdk-essentials-guide/#inferenceresult-object) object and the pipeline logs.\n",
    "\n",
    "This tutorial will follow this process in setting up a validation to a pipeline and examining the results:\n",
    "\n",
    "1. Create a workspace and upload the sample model.\n",
    "1. Establish a pipeline and add the model as a step.\n",
    "1. Add a validation to the pipeline.\n",
    "1. Perform inferences and display anomalies through the `InferenceResult` object and the pipeline log files.\n",
    "\n",
    "This tutorial provides the following:\n",
    "\n",
    "* Housing model: `./models/housingprice.onnx` - a pretrained model used to determine standard home prices.\n",
    "* Test Data:  `./data` - sample data.\n",
    "\n",
    "This demonstration assumes that a Wallaroo instance has been installed."
   ]
  },
  {
   "cell_type": "markdown",
   "metadata": {},
   "source": [
    "## Steps\n",
    "\n",
    "### Import libraries\n",
    "\n",
    "The first step is to import the libraries needed for this notebook."
   ]
  },
  {
   "cell_type": "code",
   "execution_count": 2,
   "metadata": {},
   "outputs": [],
   "source": [
    "import wallaroo\n",
    "from wallaroo.object import EntityNotFoundError\n",
    "import os\n",
    "import json\n",
    "\n",
    "from IPython.display import display\n",
    "\n",
    "# used to display dataframe information without truncating\n",
    "from IPython.display import display\n",
    "import pandas as pd\n",
    "pd.set_option('display.max_colwidth', None)"
   ]
  },
  {
   "cell_type": "markdown",
   "metadata": {},
   "source": [
    "### Connect to Wallaroo Instance\n",
    "\n",
    "The following command will create a connection to the Wallaroo instance and store it in the variable `wl`."
   ]
  },
  {
   "cell_type": "code",
   "execution_count": 3,
   "metadata": {},
   "outputs": [],
   "source": [
    "# Client connection from local Wallaroo instance\n",
    "\n",
    "# wl = wallaroo.Client()\n",
    "\n",
    "# SSO login through keycloak\n",
    "\n",
    "wallarooPrefix = \"YOUR PREFIX\"\n",
    "wallarooSuffix = \"YOUR SUFFIX\"\n",
    "\n",
    "wallarooPrefix = \"sparkly-apple-3026\"\n",
    "wallarooSuffix = \"wallaroo.community\"\n",
    "\n",
    "wl = wallaroo.Client(api_endpoint=f\"https://{wallarooPrefix}.api.{wallarooSuffix}\", \n",
    "                    auth_endpoint=f\"https://{wallarooPrefix}.keycloak.{wallarooSuffix}\", \n",
    "                    auth_type=\"sso\")"
   ]
  },
  {
   "cell_type": "code",
   "execution_count": 4,
   "metadata": {},
   "outputs": [
    {
     "name": "stdout",
     "output_type": "stream",
     "text": [
      "True\n"
     ]
    }
   ],
   "source": [
    "import os\n",
    "# Only set the below to make the OS environment ARROW_ENABLED to TRUE.  Otherwise, leave as is.\n",
    "os.environ[\"ARROW_ENABLED\"]=\"True\"\n",
    "\n",
    "if \"ARROW_ENABLED\" not in os.environ or os.environ[\"ARROW_ENABLED\"].casefold() == \"False\".casefold():\n",
    "    arrowEnabled = False\n",
    "else:\n",
    "    arrowEnabled = True\n",
    "print(arrowEnabled)"
   ]
  },
  {
   "cell_type": "markdown",
   "metadata": {},
   "source": [
    "### Create Workspace\n",
    "\n",
    "We will create a workspace to manage our pipeline and models.  The following variables will set the name of our sample workspace then set it as the current workspace."
   ]
  },
  {
   "cell_type": "code",
   "execution_count": 6,
   "metadata": {},
   "outputs": [],
   "source": [
    "workspace_name = 'houseprice'\n",
    "main_pipeline_name = 'housepricingpipeline'\n",
    "ab_pipeline_name = 'housepriceabtesting'\n",
    "shadow_pipeline_name = 'housepriceshadowtesting'\n",
    "model_name_control = 'housingcontrol'\n",
    "model_name_challenger_01 = 'housingchallenger01'\n",
    "model_name_challenger_02 = 'housingchallenger02'\n",
    "model_file_name_control = './models/rf_model.onnx'\n",
    "model_file_name_challenger_01 = './models/xgb_model.onnx'\n",
    "model_file_name_challenger_02 = './models/gbr_model.onnx'"
   ]
  },
  {
   "cell_type": "code",
   "execution_count": 7,
   "metadata": {},
   "outputs": [],
   "source": [
    "def get_workspace(name):\n",
    "    workspace = None\n",
    "    for ws in wl.list_workspaces():\n",
    "        if ws.name() == name:\n",
    "            workspace= ws\n",
    "    if(workspace == None):\n",
    "        workspace = wl.create_workspace(name)\n",
    "    return workspace"
   ]
  },
  {
   "cell_type": "code",
   "execution_count": 8,
   "metadata": {},
   "outputs": [
    {
     "data": {
      "text/plain": [
       "{'name': 'houseprice', 'id': 152, 'archived': False, 'created_by': '138bd7e6-4dc8-4dc1-a760-c9e721ef3c37', 'created_at': '2023-03-13T20:43:33.923135+00:00', 'models': [{'name': 'anomalyhousingcontrol', 'versions': 6, 'owner_id': '\"\"', 'last_update_time': datetime.datetime(2023, 3, 14, 14, 46, 29, 85602, tzinfo=tzutc()), 'created_at': datetime.datetime(2023, 3, 13, 20, 43, 36, 960968, tzinfo=tzutc())}, {'name': 'anomalyhousingchallenger', 'versions': 2, 'owner_id': '\"\"', 'last_update_time': datetime.datetime(2023, 3, 14, 14, 46, 30, 142854, tzinfo=tzutc()), 'created_at': datetime.datetime(2023, 3, 13, 22, 25, 27, 993199, tzinfo=tzutc())}, {'name': 'housingcontrol', 'versions': 1, 'owner_id': '\"\"', 'last_update_time': datetime.datetime(2023, 3, 14, 15, 31, 46, 695685, tzinfo=tzutc()), 'created_at': datetime.datetime(2023, 3, 14, 15, 31, 46, 695685, tzinfo=tzutc())}, {'name': 'housingchallenger01', 'versions': 1, 'owner_id': '\"\"', 'last_update_time': datetime.datetime(2023, 3, 14, 15, 31, 47, 759521, tzinfo=tzutc()), 'created_at': datetime.datetime(2023, 3, 14, 15, 31, 47, 759521, tzinfo=tzutc())}, {'name': 'housingchallenger02', 'versions': 1, 'owner_id': '\"\"', 'last_update_time': datetime.datetime(2023, 3, 14, 15, 31, 48, 786495, tzinfo=tzutc()), 'created_at': datetime.datetime(2023, 3, 14, 15, 31, 48, 786495, tzinfo=tzutc())}], 'pipelines': [{'name': 'housepricesanomaly', 'create_time': datetime.datetime(2023, 3, 14, 14, 37, 6, 328884, tzinfo=tzutc()), 'definition': '[]'}, {'name': 'housepriceabtest', 'create_time': datetime.datetime(2023, 3, 13, 22, 25, 51, 153652, tzinfo=tzutc()), 'definition': '[]'}, {'name': 'housepriceanomaly', 'create_time': datetime.datetime(2023, 3, 13, 20, 43, 52, 9192, tzinfo=tzutc()), 'definition': '[]'}, {'name': 'housepricingpipeline', 'create_time': datetime.datetime(2023, 3, 14, 15, 31, 57, 26034, tzinfo=tzutc()), 'definition': '[]'}]}"
      ]
     },
     "execution_count": 8,
     "metadata": {},
     "output_type": "execute_result"
    }
   ],
   "source": [
    "workspace = get_workspace(workspace_name)\n",
    "\n",
    "wl.set_current_workspace(workspace)"
   ]
  },
  {
   "attachments": {},
   "cell_type": "markdown",
   "metadata": {},
   "source": [
    "## Upload The Models\n",
    "\n",
    "For our example, we will upload three models, all pre-trained to determine housing prices based on various variables.\n",
    "\n",
    "The assumption is that we have a pipeline deployed that has been determining house prices for some time using \n",
    "\n",
    "* `rf_model.onnx`: The champion model that has been used in this environment for some time.\n",
    "* `xgb_model.onnx` and `models/gbr_model.onnx`: Rival models that will be tested against the champion.\n",
    "\n",
    "We will upload all three models into our workspace, then deploy a pipeline with just `rf_model.onnx` and perform some sample inferences."
   ]
  },
  {
   "cell_type": "code",
   "execution_count": 73,
   "metadata": {},
   "outputs": [],
   "source": [
    "housing_model_control = wl.upload_model(model_name_control, model_file_name_control).configure()\n",
    "housing_model_challenger01 = wl.upload_model(model_name_challenger_01, model_file_name_challenger_01).configure()\n",
    "housing_model_challenger02 = wl.upload_model(model_name_challenger_02, model_file_name_challenger_02).configure()"
   ]
  },
  {
   "attachments": {},
   "cell_type": "markdown",
   "metadata": {},
   "source": [
    "### Build the Control Sample Pipeline\n",
    "\n",
    "This pipeline is made to be an example of an existing situation where a model is deployed and being used for inferences in a production environment.  We'll call it `housepricingpipeline`, set `rf_model.onnx` as a pipeline step as set in the variable declarations above, and run a few sample inferences."
   ]
  },
  {
   "cell_type": "code",
   "execution_count": 74,
   "metadata": {},
   "outputs": [],
   "source": [
    "mainpipeline = wl.build_pipeline(main_pipeline_name).add_model_step(housing_model_control).deploy()"
   ]
  },
  {
   "attachments": {},
   "cell_type": "markdown",
   "metadata": {},
   "source": [
    "### Testing\n",
    "\n",
    "We'll use two inferences as a quick sample test - one that has a house that should be determined around $700k, the other with a house determined to be around $1.5 million."
   ]
  },
  {
   "cell_type": "code",
   "execution_count": 75,
   "metadata": {},
   "outputs": [
    {
     "data": {
      "text/html": [
       "<div>\n",
       "<style scoped>\n",
       "    .dataframe tbody tr th:only-of-type {\n",
       "        vertical-align: middle;\n",
       "    }\n",
       "\n",
       "    .dataframe tbody tr th {\n",
       "        vertical-align: top;\n",
       "    }\n",
       "\n",
       "    .dataframe thead th {\n",
       "        text-align: right;\n",
       "    }\n",
       "</style>\n",
       "<table border=\"1\" class=\"dataframe\">\n",
       "  <thead>\n",
       "    <tr style=\"text-align: right;\">\n",
       "      <th></th>\n",
       "      <th>time</th>\n",
       "      <th>in.tensor</th>\n",
       "      <th>out.variable</th>\n",
       "      <th>check_failures</th>\n",
       "    </tr>\n",
       "  </thead>\n",
       "  <tbody>\n",
       "    <tr>\n",
       "      <th>0</th>\n",
       "      <td>2023-03-14 16:51:29.889</td>\n",
       "      <td>[4.0, 2.5, 2900.0, 5505.0, 2.0, 0.0, 0.0, 3.0, 8.0, 2900.0, 0.0, 47.6063, -122.02, 2970.0, 5251.0, 12.0, 0.0, 0.0]</td>\n",
       "      <td>[718013.7]</td>\n",
       "      <td>0</td>\n",
       "    </tr>\n",
       "  </tbody>\n",
       "</table>\n",
       "</div>"
      ],
      "text/plain": [
       "                     time  \\\n",
       "0 2023-03-14 16:51:29.889   \n",
       "\n",
       "                                                                                                            in.tensor  \\\n",
       "0  [4.0, 2.5, 2900.0, 5505.0, 2.0, 0.0, 0.0, 3.0, 8.0, 2900.0, 0.0, 47.6063, -122.02, 2970.0, 5251.0, 12.0, 0.0, 0.0]   \n",
       "\n",
       "  out.variable  check_failures  \n",
       "0   [718013.7]               0  "
      ]
     },
     "metadata": {},
     "output_type": "display_data"
    }
   ],
   "source": [
    "if arrowEnabled is True:\n",
    "    normal_input = pd.DataFrame.from_records({\"tensor\": [[4.0, 2.5, 2900.0, 5505.0, 2.0, 0.0, 0.0, 3.0, 8.0, 2900.0, 0.0, 47.6063, -122.02, 2970.0, 5251.0, 12.0, 0.0, 0.0]]})\n",
    "else:\n",
    "    normal_input = {\"tensor\": [[4.0, 2.5, 2900.0, 5505.0, 2.0, 0.0, 0.0, 3.0, 8.0, 2900.0, 0.0, 47.6063, -122.02, 2970.0, 5251.0, 12.0, 0.0, 0.0]]}\n",
    "result = mainpipeline.infer(normal_input)\n",
    "display(result)"
   ]
  },
  {
   "cell_type": "code",
   "execution_count": 12,
   "metadata": {},
   "outputs": [
    {
     "data": {
      "text/html": [
       "<div>\n",
       "<style scoped>\n",
       "    .dataframe tbody tr th:only-of-type {\n",
       "        vertical-align: middle;\n",
       "    }\n",
       "\n",
       "    .dataframe tbody tr th {\n",
       "        vertical-align: top;\n",
       "    }\n",
       "\n",
       "    .dataframe thead th {\n",
       "        text-align: right;\n",
       "    }\n",
       "</style>\n",
       "<table border=\"1\" class=\"dataframe\">\n",
       "  <thead>\n",
       "    <tr style=\"text-align: right;\">\n",
       "      <th></th>\n",
       "      <th>time</th>\n",
       "      <th>in.tensor</th>\n",
       "      <th>out.variable</th>\n",
       "      <th>check_failures</th>\n",
       "    </tr>\n",
       "  </thead>\n",
       "  <tbody>\n",
       "    <tr>\n",
       "      <th>0</th>\n",
       "      <td>2023-03-14 15:52:02.720</td>\n",
       "      <td>[4.0, 3.0, 3710.0, 20000.0, 2.0, 0.0, 2.0, 5.0, 10.0, 2760.0, 950.0, 47.6696, -122.261, 3970.0, 20000.0, 79.0, 0.0, 0.0]</td>\n",
       "      <td>[1514079.4]</td>\n",
       "      <td>0</td>\n",
       "    </tr>\n",
       "  </tbody>\n",
       "</table>\n",
       "</div>"
      ],
      "text/plain": [
       "                     time  \\\n",
       "0 2023-03-14 15:52:02.720   \n",
       "\n",
       "                                                                                                                  in.tensor  \\\n",
       "0  [4.0, 3.0, 3710.0, 20000.0, 2.0, 0.0, 2.0, 5.0, 10.0, 2760.0, 950.0, 47.6696, -122.261, 3970.0, 20000.0, 79.0, 0.0, 0.0]   \n",
       "\n",
       "  out.variable  check_failures  \n",
       "0  [1514079.4]               0  "
      ]
     },
     "metadata": {},
     "output_type": "display_data"
    }
   ],
   "source": [
    "if arrowEnabled is True:\n",
    "    large_house_input = pd.DataFrame.from_records({'tensor': [[4.0, 3.0, 3710.0, 20000.0, 2.0, 0.0, 2.0, 5.0, 10.0, 2760.0, 950.0, 47.6696, -122.261, 3970.0, 20000.0, 79.0, 0.0, 0.0]]})\n",
    "else:\n",
    "    large_house_input = {'tensor': [[4.0, 3.0, 3710.0, 20000.0, 2.0, 0.0, 2.0, 5.0, 10.0, 2760.0, 950.0, 47.6696, -122.261, 3970.0, 20000.0, 79.0, 0.0, 0.0]]}\n",
    "\n",
    "large_house_result = mainpipeline.infer(large_house_input)\n",
    "display(large_house_result)"
   ]
  },
  {
   "attachments": {},
   "cell_type": "markdown",
   "metadata": {},
   "source": [
    "As one last sample, we'll run through roughly 1,000 inferences at once and show a few of the results."
   ]
  },
  {
   "cell_type": "code",
   "execution_count": 13,
   "metadata": {},
   "outputs": [
    {
     "data": {
      "text/html": [
       "<div>\n",
       "<style scoped>\n",
       "    .dataframe tbody tr th:only-of-type {\n",
       "        vertical-align: middle;\n",
       "    }\n",
       "\n",
       "    .dataframe tbody tr th {\n",
       "        vertical-align: top;\n",
       "    }\n",
       "\n",
       "    .dataframe thead th {\n",
       "        text-align: right;\n",
       "    }\n",
       "</style>\n",
       "<table border=\"1\" class=\"dataframe\">\n",
       "  <thead>\n",
       "    <tr style=\"text-align: right;\">\n",
       "      <th></th>\n",
       "      <th>time</th>\n",
       "      <th>in.tensor</th>\n",
       "      <th>out.variable</th>\n",
       "      <th>check_failures</th>\n",
       "    </tr>\n",
       "  </thead>\n",
       "  <tbody>\n",
       "    <tr>\n",
       "      <th>0</th>\n",
       "      <td>2023-03-14 15:52:03.334</td>\n",
       "      <td>[4.0, 2.5, 2900.0, 5505.0, 2.0, 0.0, 0.0, 3.0, 8.0, 2900.0, 0.0, 47.6063, -122.02, 2970.0, 5251.0, 12.0, 0.0, 0.0]</td>\n",
       "      <td>[718013.75]</td>\n",
       "      <td>0</td>\n",
       "    </tr>\n",
       "    <tr>\n",
       "      <th>1</th>\n",
       "      <td>2023-03-14 15:52:03.334</td>\n",
       "      <td>[2.0, 2.5, 2170.0, 6361.0, 1.0, 0.0, 2.0, 3.0, 8.0, 2170.0, 0.0, 47.7109, -122.017, 2310.0, 7419.0, 6.0, 0.0, 0.0]</td>\n",
       "      <td>[615094.56]</td>\n",
       "      <td>0</td>\n",
       "    </tr>\n",
       "    <tr>\n",
       "      <th>2</th>\n",
       "      <td>2023-03-14 15:52:03.334</td>\n",
       "      <td>[3.0, 2.5, 1300.0, 812.0, 2.0, 0.0, 0.0, 3.0, 8.0, 880.0, 420.0, 47.5893, -122.317, 1300.0, 824.0, 6.0, 0.0, 0.0]</td>\n",
       "      <td>[448627.72]</td>\n",
       "      <td>0</td>\n",
       "    </tr>\n",
       "    <tr>\n",
       "      <th>3</th>\n",
       "      <td>2023-03-14 15:52:03.334</td>\n",
       "      <td>[4.0, 2.5, 2500.0, 8540.0, 2.0, 0.0, 0.0, 3.0, 9.0, 2500.0, 0.0, 47.5759, -121.994, 2560.0, 8475.0, 24.0, 0.0, 0.0]</td>\n",
       "      <td>[758714.2]</td>\n",
       "      <td>0</td>\n",
       "    </tr>\n",
       "    <tr>\n",
       "      <th>4</th>\n",
       "      <td>2023-03-14 15:52:03.334</td>\n",
       "      <td>[3.0, 1.75, 2200.0, 11520.0, 1.0, 0.0, 0.0, 4.0, 7.0, 2200.0, 0.0, 47.7659, -122.341, 1690.0, 8038.0, 62.0, 0.0, 0.0]</td>\n",
       "      <td>[513264.7]</td>\n",
       "      <td>0</td>\n",
       "    </tr>\n",
       "  </tbody>\n",
       "</table>\n",
       "</div>"
      ],
      "text/plain": [
       "                     time  \\\n",
       "0 2023-03-14 15:52:03.334   \n",
       "1 2023-03-14 15:52:03.334   \n",
       "2 2023-03-14 15:52:03.334   \n",
       "3 2023-03-14 15:52:03.334   \n",
       "4 2023-03-14 15:52:03.334   \n",
       "\n",
       "                                                                                                               in.tensor  \\\n",
       "0     [4.0, 2.5, 2900.0, 5505.0, 2.0, 0.0, 0.0, 3.0, 8.0, 2900.0, 0.0, 47.6063, -122.02, 2970.0, 5251.0, 12.0, 0.0, 0.0]   \n",
       "1     [2.0, 2.5, 2170.0, 6361.0, 1.0, 0.0, 2.0, 3.0, 8.0, 2170.0, 0.0, 47.7109, -122.017, 2310.0, 7419.0, 6.0, 0.0, 0.0]   \n",
       "2      [3.0, 2.5, 1300.0, 812.0, 2.0, 0.0, 0.0, 3.0, 8.0, 880.0, 420.0, 47.5893, -122.317, 1300.0, 824.0, 6.0, 0.0, 0.0]   \n",
       "3    [4.0, 2.5, 2500.0, 8540.0, 2.0, 0.0, 0.0, 3.0, 9.0, 2500.0, 0.0, 47.5759, -121.994, 2560.0, 8475.0, 24.0, 0.0, 0.0]   \n",
       "4  [3.0, 1.75, 2200.0, 11520.0, 1.0, 0.0, 0.0, 4.0, 7.0, 2200.0, 0.0, 47.7659, -122.341, 1690.0, 8038.0, 62.0, 0.0, 0.0]   \n",
       "\n",
       "  out.variable  check_failures  \n",
       "0  [718013.75]               0  \n",
       "1  [615094.56]               0  \n",
       "2  [448627.72]               0  \n",
       "3   [758714.2]               0  \n",
       "4   [513264.7]               0  "
      ]
     },
     "metadata": {},
     "output_type": "display_data"
    }
   ],
   "source": [
    "if arrowEnabled is True:\n",
    "    large_inference_result = mainpipeline.infer_from_file(\"./data/xtest-1k.df.json\")\n",
    "    display(large_inference_result.head(5))\n",
    "else:\n",
    "    large_inference_result = mainpipeline.infer_from_file(\"./data/xtest-1k.json\")\n",
    "    display(large_inference_result)"
   ]
  },
  {
   "attachments": {},
   "cell_type": "markdown",
   "metadata": {},
   "source": [
    "## A/B Testing\n",
    "\n",
    "Now that we have our main pipeline set, let's experiment with other models using two methods:  A/B Testing, and Shadow Deployment.  We'll use A/B testing first.\n",
    "\n",
    "A/B Testing takes one champion or control model and pits it against one or more challenger models.  In this case, the inference data is split between the champion and control models based on a ratio we provide.  For our example, we will be using a random split, so there is a random weighted chance whether inference data is submitted to a champion or the challenger models.  Results are shown in the same `out.variable` as for the champion model, and we can determine which model received the input data based on the `out._model_split` column.\n",
    "\n",
    "Shadow deploy works much the same way, only **all** inference data is submitted to **all** models equally, with only the results of the champion model displayed in the `out.variable` column.  We'll demonstrate that in a later example."
   ]
  },
  {
   "attachments": {},
   "cell_type": "markdown",
   "metadata": {},
   "source": [
    "### Define The A/B Testing Pipeline\n",
    "\n",
    "Here we will configure a pipeline with two models and set the control model with a random split chance of receiving 2/3 of the data.  Because this is a random split, it is possible for one model or the other to receive more inferences than a strict 2:1 ratio, but the more inferences are run, the more likely it is for the proper ratio split.\n",
    "\n",
    "We'll use the pipeline `housepriceabtesting` for our sample pipeline, then deploy it."
   ]
  },
  {
   "cell_type": "code",
   "execution_count": 76,
   "metadata": {},
   "outputs": [],
   "source": [
    "abpipeline = (wl.build_pipeline(ab_pipeline_name)\n",
    "            .add_random_split([(2, housing_model_control), (1, housing_model_challenger01 )], \"session_id\")).deploy()"
   ]
  },
  {
   "attachments": {},
   "cell_type": "markdown",
   "metadata": {},
   "source": [
    "### A/B Testing Single Inference\n",
    "\n",
    "Now we have our deployment set up let's run a single inference. In the results we will be able to see the inference results as well as which model the inference went to under model_id.  We'll run the inference request 5 times, with the odds are that the challenger model being run at least once."
   ]
  },
  {
   "cell_type": "code",
   "execution_count": 79,
   "metadata": {},
   "outputs": [
    {
     "data": {
      "text/html": [
       "<div>\n",
       "<style scoped>\n",
       "    .dataframe tbody tr th:only-of-type {\n",
       "        vertical-align: middle;\n",
       "    }\n",
       "\n",
       "    .dataframe tbody tr th {\n",
       "        vertical-align: top;\n",
       "    }\n",
       "\n",
       "    .dataframe thead th {\n",
       "        text-align: right;\n",
       "    }\n",
       "</style>\n",
       "<table border=\"1\" class=\"dataframe\">\n",
       "  <thead>\n",
       "    <tr style=\"text-align: right;\">\n",
       "      <th></th>\n",
       "      <th>out._model_split</th>\n",
       "      <th>out.variable</th>\n",
       "    </tr>\n",
       "  </thead>\n",
       "  <tbody>\n",
       "    <tr>\n",
       "      <th>0</th>\n",
       "      <td>[{\"name\":\"housingchallenger01\",\"version\":\"db7ae792-9308-4de1-90ed-e233e6c28c94\",\"sha\":\"31e92d6ccb27b041a324a7ac22cf95d9d6cc3aa7e8263a229f7c4aec4938657c\"}]</td>\n",
       "      <td>[659806.0]</td>\n",
       "    </tr>\n",
       "  </tbody>\n",
       "</table>\n",
       "</div>"
      ],
      "text/plain": [
       "                                                                                                                                             out._model_split  \\\n",
       "0  [{\"name\":\"housingchallenger01\",\"version\":\"db7ae792-9308-4de1-90ed-e233e6c28c94\",\"sha\":\"31e92d6ccb27b041a324a7ac22cf95d9d6cc3aa7e8263a229f7c4aec4938657c\"}]   \n",
       "\n",
       "  out.variable  \n",
       "0   [659806.0]  "
      ]
     },
     "metadata": {},
     "output_type": "display_data"
    },
    {
     "data": {
      "text/html": [
       "<div>\n",
       "<style scoped>\n",
       "    .dataframe tbody tr th:only-of-type {\n",
       "        vertical-align: middle;\n",
       "    }\n",
       "\n",
       "    .dataframe tbody tr th {\n",
       "        vertical-align: top;\n",
       "    }\n",
       "\n",
       "    .dataframe thead th {\n",
       "        text-align: right;\n",
       "    }\n",
       "</style>\n",
       "<table border=\"1\" class=\"dataframe\">\n",
       "  <thead>\n",
       "    <tr style=\"text-align: right;\">\n",
       "      <th></th>\n",
       "      <th>out._model_split</th>\n",
       "      <th>out.variable</th>\n",
       "    </tr>\n",
       "  </thead>\n",
       "  <tbody>\n",
       "    <tr>\n",
       "      <th>0</th>\n",
       "      <td>[{\"name\":\"housingcontrol\",\"version\":\"a9c0ab70-6534-41ab-a502-9e2234a8da12\",\"sha\":\"e22a0831aafd9917f3cc87a15ed267797f80e2afa12ad7d8810ca58f173b8cc6\"}]</td>\n",
       "      <td>[718013.7]</td>\n",
       "    </tr>\n",
       "  </tbody>\n",
       "</table>\n",
       "</div>"
      ],
      "text/plain": [
       "                                                                                                                                        out._model_split  \\\n",
       "0  [{\"name\":\"housingcontrol\",\"version\":\"a9c0ab70-6534-41ab-a502-9e2234a8da12\",\"sha\":\"e22a0831aafd9917f3cc87a15ed267797f80e2afa12ad7d8810ca58f173b8cc6\"}]   \n",
       "\n",
       "  out.variable  \n",
       "0   [718013.7]  "
      ]
     },
     "metadata": {},
     "output_type": "display_data"
    },
    {
     "data": {
      "text/html": [
       "<div>\n",
       "<style scoped>\n",
       "    .dataframe tbody tr th:only-of-type {\n",
       "        vertical-align: middle;\n",
       "    }\n",
       "\n",
       "    .dataframe tbody tr th {\n",
       "        vertical-align: top;\n",
       "    }\n",
       "\n",
       "    .dataframe thead th {\n",
       "        text-align: right;\n",
       "    }\n",
       "</style>\n",
       "<table border=\"1\" class=\"dataframe\">\n",
       "  <thead>\n",
       "    <tr style=\"text-align: right;\">\n",
       "      <th></th>\n",
       "      <th>out._model_split</th>\n",
       "      <th>out.variable</th>\n",
       "    </tr>\n",
       "  </thead>\n",
       "  <tbody>\n",
       "    <tr>\n",
       "      <th>0</th>\n",
       "      <td>[{\"name\":\"housingchallenger01\",\"version\":\"db7ae792-9308-4de1-90ed-e233e6c28c94\",\"sha\":\"31e92d6ccb27b041a324a7ac22cf95d9d6cc3aa7e8263a229f7c4aec4938657c\"}]</td>\n",
       "      <td>[659806.0]</td>\n",
       "    </tr>\n",
       "  </tbody>\n",
       "</table>\n",
       "</div>"
      ],
      "text/plain": [
       "                                                                                                                                             out._model_split  \\\n",
       "0  [{\"name\":\"housingchallenger01\",\"version\":\"db7ae792-9308-4de1-90ed-e233e6c28c94\",\"sha\":\"31e92d6ccb27b041a324a7ac22cf95d9d6cc3aa7e8263a229f7c4aec4938657c\"}]   \n",
       "\n",
       "  out.variable  \n",
       "0   [659806.0]  "
      ]
     },
     "metadata": {},
     "output_type": "display_data"
    },
    {
     "data": {
      "text/html": [
       "<div>\n",
       "<style scoped>\n",
       "    .dataframe tbody tr th:only-of-type {\n",
       "        vertical-align: middle;\n",
       "    }\n",
       "\n",
       "    .dataframe tbody tr th {\n",
       "        vertical-align: top;\n",
       "    }\n",
       "\n",
       "    .dataframe thead th {\n",
       "        text-align: right;\n",
       "    }\n",
       "</style>\n",
       "<table border=\"1\" class=\"dataframe\">\n",
       "  <thead>\n",
       "    <tr style=\"text-align: right;\">\n",
       "      <th></th>\n",
       "      <th>out._model_split</th>\n",
       "      <th>out.variable</th>\n",
       "    </tr>\n",
       "  </thead>\n",
       "  <tbody>\n",
       "    <tr>\n",
       "      <th>0</th>\n",
       "      <td>[{\"name\":\"housingcontrol\",\"version\":\"a9c0ab70-6534-41ab-a502-9e2234a8da12\",\"sha\":\"e22a0831aafd9917f3cc87a15ed267797f80e2afa12ad7d8810ca58f173b8cc6\"}]</td>\n",
       "      <td>[718013.7]</td>\n",
       "    </tr>\n",
       "  </tbody>\n",
       "</table>\n",
       "</div>"
      ],
      "text/plain": [
       "                                                                                                                                        out._model_split  \\\n",
       "0  [{\"name\":\"housingcontrol\",\"version\":\"a9c0ab70-6534-41ab-a502-9e2234a8da12\",\"sha\":\"e22a0831aafd9917f3cc87a15ed267797f80e2afa12ad7d8810ca58f173b8cc6\"}]   \n",
       "\n",
       "  out.variable  \n",
       "0   [718013.7]  "
      ]
     },
     "metadata": {},
     "output_type": "display_data"
    },
    {
     "data": {
      "text/html": [
       "<div>\n",
       "<style scoped>\n",
       "    .dataframe tbody tr th:only-of-type {\n",
       "        vertical-align: middle;\n",
       "    }\n",
       "\n",
       "    .dataframe tbody tr th {\n",
       "        vertical-align: top;\n",
       "    }\n",
       "\n",
       "    .dataframe thead th {\n",
       "        text-align: right;\n",
       "    }\n",
       "</style>\n",
       "<table border=\"1\" class=\"dataframe\">\n",
       "  <thead>\n",
       "    <tr style=\"text-align: right;\">\n",
       "      <th></th>\n",
       "      <th>out._model_split</th>\n",
       "      <th>out.variable</th>\n",
       "    </tr>\n",
       "  </thead>\n",
       "  <tbody>\n",
       "    <tr>\n",
       "      <th>0</th>\n",
       "      <td>[{\"name\":\"housingchallenger01\",\"version\":\"db7ae792-9308-4de1-90ed-e233e6c28c94\",\"sha\":\"31e92d6ccb27b041a324a7ac22cf95d9d6cc3aa7e8263a229f7c4aec4938657c\"}]</td>\n",
       "      <td>[659806.0]</td>\n",
       "    </tr>\n",
       "  </tbody>\n",
       "</table>\n",
       "</div>"
      ],
      "text/plain": [
       "                                                                                                                                             out._model_split  \\\n",
       "0  [{\"name\":\"housingchallenger01\",\"version\":\"db7ae792-9308-4de1-90ed-e233e6c28c94\",\"sha\":\"31e92d6ccb27b041a324a7ac22cf95d9d6cc3aa7e8263a229f7c4aec4938657c\"}]   \n",
       "\n",
       "  out.variable  \n",
       "0   [659806.0]  "
      ]
     },
     "metadata": {},
     "output_type": "display_data"
    }
   ],
   "source": [
    "results = []\n",
    "if arrowEnabled is True:\n",
    "    # use dataframe JSON files\n",
    "    for x in range(5):\n",
    "        result = abpipeline.infer_from_file(\"data/xtest-1.df.json\")\n",
    "        display(result.loc[:,[\"out._model_split\", \"out.variable\"]])        \n",
    "else:\n",
    "    # use Wallaroo JSON files\n",
    "    for x in range(5):\n",
    "        results.append(abpipeline.infer_from_file(\"data/xtest-1.json\"))\n",
    "    for result in results:\n",
    "        print(result[0].model())\n",
    "        print(result[0].data())"
   ]
  },
  {
   "attachments": {},
   "cell_type": "markdown",
   "metadata": {},
   "source": [
    "### Run Inference Batch\n",
    "\n",
    "We will submit 1000 rows of test data through the pipeline, then loop through the responses and display which model each inference was performed in.  The results between the control and challenger should be approximately 2:1.\n",
    "\n",
    "The sample code will be shown below.  Since this splits a single inference request into 1,000 pieces and submits them serially, this can take a few minutes to run.  We'll just go to the results for our demonstration, but users can use the code below as a sample exercise."
   ]
  },
  {
   "cell_type": "code",
   "execution_count": 80,
   "metadata": {},
   "outputs": [
    {
     "data": {
      "text/plain": [
       "housingcontrol         702\n",
       "housingchallenger01    298\n",
       "Name: model, dtype: int64"
      ]
     },
     "metadata": {},
     "output_type": "display_data"
    }
   ],
   "source": [
    "\n",
    "# if arrowEnabled is True:\n",
    "#     responses = pd.DataFrame()\n",
    "#     #Read in the test data as one dataframe\n",
    "#     test_data = pd.read_json('data/xtest-1k.df.json')\n",
    "#     # For each row, submit that row as a separate dataframe\n",
    "#     # Add the results to the responses array\n",
    "#     for index, row in test_data.head(1000).iterrows():\n",
    "#         responses = responses.append(abpipeline.infer(row.to_frame('tensor').reset_index(drop=True)))\n",
    "#     #now get our responses for each row\n",
    "#     # each r is a dataframe, then get the result from out.split into json and get the model name\n",
    "#     l = [json.loads(row['out._model_split'][0])['name'] for index, row in responses.iterrows()]\n",
    "#     df = pd.DataFrame({'model': l})\n",
    "#     display(df.model.value_counts())\n",
    "# else:\n",
    "#     l = []\n",
    "#     responses =[]\n",
    "#     from data import test_data\n",
    "#     for nth in range(1000):\n",
    "#         responses.extend(abpipeline.infer(test_data.data[nth]))\n",
    "#     l = [r.raw['model_name'] for r in responses]\n",
    "#     df = pd.DataFrame({'model': l})\n",
    "#     display(df.model.value_counts())"
   ]
  },
  {
   "cell_type": "code",
   "execution_count": 83,
   "metadata": {},
   "outputs": [
    {
     "data": {
      "text/plain": [
       "housingcontrol         702\n",
       "housingchallenger01    298\n",
       "Name: model, dtype: int64"
      ]
     },
     "metadata": {},
     "output_type": "display_data"
    }
   ],
   "source": [
    "# load the inference result data from a/b testing\n",
    "responses = pd.read_json('./data/abtestingresults.df.json', orient=\"records\")\n",
    "l = [json.loads(row['out._model_split'][0])['name'] for index, row in responses.iterrows()]\n",
    "df = pd.DataFrame({'model': l})\n",
    "display(df.model.value_counts())"
   ]
  },
  {
   "attachments": {},
   "cell_type": "markdown",
   "metadata": {},
   "source": [
    "### Compare A/B Testing Results\n",
    "\n",
    "### Test Challenger\n",
    "\n",
    "Now we have run a large amount of data we can compare the results.\n",
    "\n",
    "For this experiment we are looking for a significant change average predicted price between the two models."
   ]
  },
  {
   "cell_type": "code",
   "execution_count": 84,
   "metadata": {},
   "outputs": [
    {
     "name": "stdout",
     "output_type": "stream",
     "text": [
      "control mean price prediction: 523799.4716239315\n",
      "challenger mean price prediction: 576765.7087248319\n"
     ]
    }
   ],
   "source": [
    "control_count = df.model.value_counts()['housingcontrol']\n",
    "challenger_count = df.model.value_counts()['housingchallenger01']\n",
    "\n",
    "control_sum = 0\n",
    "challenger_sum = 0\n",
    "\n",
    "if arrowEnabled is True:\n",
    "    for index, row in responses2.iterrows():\n",
    "        if json.loads(row['out._model_split'][0])['name'] == 'housingcontrol':\n",
    "            control_sum += row['out.variable'][0]\n",
    "        else:\n",
    "            challenger_sum += row['out.variable'][0]\n",
    "else:\n",
    "    for r in responses2:\n",
    "        if r.raw['model_name'] == \"housing-control\":\n",
    "            control_count += 1\n",
    "            control_sum += r.raw['outputs'][0]['Float']['data'][0]\n",
    "        else:\n",
    "            challenger_count +=1\n",
    "            challenger_sum += r.raw['outputs'][0]['Float']['data'][0]\n",
    "\n",
    "print(\"control mean price prediction: \" + str(control_sum/control_count))\n",
    "print(\"challenger mean price prediction: \" + str(challenger_sum/challenger_count))"
   ]
  },
  {
   "attachments": {},
   "cell_type": "markdown",
   "metadata": {},
   "source": [
    "### View A/B Logs\n",
    "\n",
    "Logs can be viewed with the Pipeline method `logs()`.  For this example, only the first 5 logs will be shown.  For Arrow enabled environments, the model type can be found in the column `out._model_split`."
   ]
  },
  {
   "cell_type": "code",
   "execution_count": 85,
   "metadata": {},
   "outputs": [
    {
     "data": {
      "text/html": [
       "<div>\n",
       "<style scoped>\n",
       "    .dataframe tbody tr th:only-of-type {\n",
       "        vertical-align: middle;\n",
       "    }\n",
       "\n",
       "    .dataframe tbody tr th {\n",
       "        vertical-align: top;\n",
       "    }\n",
       "\n",
       "    .dataframe thead th {\n",
       "        text-align: right;\n",
       "    }\n",
       "</style>\n",
       "<table border=\"1\" class=\"dataframe\">\n",
       "  <thead>\n",
       "    <tr style=\"text-align: right;\">\n",
       "      <th></th>\n",
       "      <th>time</th>\n",
       "      <th>in.tensor</th>\n",
       "      <th>out._model_split</th>\n",
       "      <th>out.variable</th>\n",
       "      <th>check_failures</th>\n",
       "    </tr>\n",
       "  </thead>\n",
       "  <tbody>\n",
       "    <tr>\n",
       "      <th>0</th>\n",
       "      <td>2023-03-14 16:57:17.212</td>\n",
       "      <td>[3.0, 1.0, 1600.0, 3200.0, 1.5, 0.0, 0.0, 3.0, 7.0, 1600.0, 0.0, 47.653, -122.331, 1860.0, 3420.0, 105.0, 0.0, 0.0]</td>\n",
       "      <td>[{\"name\":\"housingchallenger01\",\"version\":\"db7ae792-9308-4de1-90ed-e233e6c28c94\",\"sha\":\"31e92d6ccb27b041a324a7ac22cf95d9d6cc3aa7e8263a229f7c4aec4938657c\"}]</td>\n",
       "      <td>[651217.1]</td>\n",
       "      <td>0</td>\n",
       "    </tr>\n",
       "    <tr>\n",
       "      <th>1</th>\n",
       "      <td>2023-03-14 16:57:17.518</td>\n",
       "      <td>[2.0, 1.0, 980.0, 5110.0, 1.0, 0.0, 0.0, 4.0, 7.0, 780.0, 200.0, 47.7002, -122.314, 1430.0, 5110.0, 75.0, 0.0, 0.0]</td>\n",
       "      <td>[{\"name\":\"housingchallenger01\",\"version\":\"db7ae792-9308-4de1-90ed-e233e6c28c94\",\"sha\":\"31e92d6ccb27b041a324a7ac22cf95d9d6cc3aa7e8263a229f7c4aec4938657c\"}]</td>\n",
       "      <td>[411594.66]</td>\n",
       "      <td>0</td>\n",
       "    </tr>\n",
       "    <tr>\n",
       "      <th>2</th>\n",
       "      <td>2023-03-14 16:57:17.798</td>\n",
       "      <td>[3.0, 2.0, 2100.0, 31550.0, 1.0, 0.0, 0.0, 3.0, 8.0, 2100.0, 0.0, 47.6907, -121.917, 1860.0, 18452.0, 4.0, 0.0, 0.0]</td>\n",
       "      <td>[{\"name\":\"housingcontrol\",\"version\":\"a9c0ab70-6534-41ab-a502-9e2234a8da12\",\"sha\":\"e22a0831aafd9917f3cc87a15ed267797f80e2afa12ad7d8810ca58f173b8cc6\"}]</td>\n",
       "      <td>[641162.2]</td>\n",
       "      <td>0</td>\n",
       "    </tr>\n",
       "    <tr>\n",
       "      <th>3</th>\n",
       "      <td>2023-03-14 16:57:18.066</td>\n",
       "      <td>[3.0, 2.25, 1460.0, 1353.0, 2.0, 0.0, 0.0, 3.0, 8.0, 1050.0, 410.0, 47.5774, -122.412, 1690.0, 3776.0, 2.0, 0.0, 0.0]</td>\n",
       "      <td>[{\"name\":\"housingcontrol\",\"version\":\"a9c0ab70-6534-41ab-a502-9e2234a8da12\",\"sha\":\"e22a0831aafd9917f3cc87a15ed267797f80e2afa12ad7d8810ca58f173b8cc6\"}]</td>\n",
       "      <td>[499651.56]</td>\n",
       "      <td>0</td>\n",
       "    </tr>\n",
       "    <tr>\n",
       "      <th>4</th>\n",
       "      <td>2023-03-14 16:57:18.346</td>\n",
       "      <td>[3.0, 1.75, 1360.0, 18123.0, 1.0, 0.0, 0.0, 3.0, 8.0, 1360.0, 0.0, 47.4716, -121.756, 1570.0, 16817.0, 31.0, 0.0, 0.0]</td>\n",
       "      <td>[{\"name\":\"housingcontrol\",\"version\":\"a9c0ab70-6534-41ab-a502-9e2234a8da12\",\"sha\":\"e22a0831aafd9917f3cc87a15ed267797f80e2afa12ad7d8810ca58f173b8cc6\"}]</td>\n",
       "      <td>[252192.9]</td>\n",
       "      <td>0</td>\n",
       "    </tr>\n",
       "  </tbody>\n",
       "</table>\n",
       "</div>"
      ],
      "text/plain": [
       "                     time  \\\n",
       "0 2023-03-14 16:57:17.212   \n",
       "1 2023-03-14 16:57:17.518   \n",
       "2 2023-03-14 16:57:17.798   \n",
       "3 2023-03-14 16:57:18.066   \n",
       "4 2023-03-14 16:57:18.346   \n",
       "\n",
       "                                                                                                                in.tensor  \\\n",
       "0     [3.0, 1.0, 1600.0, 3200.0, 1.5, 0.0, 0.0, 3.0, 7.0, 1600.0, 0.0, 47.653, -122.331, 1860.0, 3420.0, 105.0, 0.0, 0.0]   \n",
       "1     [2.0, 1.0, 980.0, 5110.0, 1.0, 0.0, 0.0, 4.0, 7.0, 780.0, 200.0, 47.7002, -122.314, 1430.0, 5110.0, 75.0, 0.0, 0.0]   \n",
       "2    [3.0, 2.0, 2100.0, 31550.0, 1.0, 0.0, 0.0, 3.0, 8.0, 2100.0, 0.0, 47.6907, -121.917, 1860.0, 18452.0, 4.0, 0.0, 0.0]   \n",
       "3   [3.0, 2.25, 1460.0, 1353.0, 2.0, 0.0, 0.0, 3.0, 8.0, 1050.0, 410.0, 47.5774, -122.412, 1690.0, 3776.0, 2.0, 0.0, 0.0]   \n",
       "4  [3.0, 1.75, 1360.0, 18123.0, 1.0, 0.0, 0.0, 3.0, 8.0, 1360.0, 0.0, 47.4716, -121.756, 1570.0, 16817.0, 31.0, 0.0, 0.0]   \n",
       "\n",
       "                                                                                                                                             out._model_split  \\\n",
       "0  [{\"name\":\"housingchallenger01\",\"version\":\"db7ae792-9308-4de1-90ed-e233e6c28c94\",\"sha\":\"31e92d6ccb27b041a324a7ac22cf95d9d6cc3aa7e8263a229f7c4aec4938657c\"}]   \n",
       "1  [{\"name\":\"housingchallenger01\",\"version\":\"db7ae792-9308-4de1-90ed-e233e6c28c94\",\"sha\":\"31e92d6ccb27b041a324a7ac22cf95d9d6cc3aa7e8263a229f7c4aec4938657c\"}]   \n",
       "2       [{\"name\":\"housingcontrol\",\"version\":\"a9c0ab70-6534-41ab-a502-9e2234a8da12\",\"sha\":\"e22a0831aafd9917f3cc87a15ed267797f80e2afa12ad7d8810ca58f173b8cc6\"}]   \n",
       "3       [{\"name\":\"housingcontrol\",\"version\":\"a9c0ab70-6534-41ab-a502-9e2234a8da12\",\"sha\":\"e22a0831aafd9917f3cc87a15ed267797f80e2afa12ad7d8810ca58f173b8cc6\"}]   \n",
       "4       [{\"name\":\"housingcontrol\",\"version\":\"a9c0ab70-6534-41ab-a502-9e2234a8da12\",\"sha\":\"e22a0831aafd9917f3cc87a15ed267797f80e2afa12ad7d8810ca58f173b8cc6\"}]   \n",
       "\n",
       "  out.variable  check_failures  \n",
       "0   [651217.1]               0  \n",
       "1  [411594.66]               0  \n",
       "2   [641162.2]               0  \n",
       "3  [499651.56]               0  \n",
       "4   [252192.9]               0  "
      ]
     },
     "metadata": {},
     "output_type": "display_data"
    }
   ],
   "source": [
    "if arrowEnabled is True:\n",
    "    logs = abpipeline.logs().head(5)\n",
    "else:\n",
    "    logs = abpipeline.logs(limit=5)\n",
    "display(logs)"
   ]
  },
  {
   "attachments": {},
   "cell_type": "markdown",
   "metadata": {},
   "source": [
    "### Undeploy The A/B Pipeline\n",
    "\n",
    "With the example complete, we undeploy the pipeline to return the resources back to the Wallaroo instance."
   ]
  },
  {
   "cell_type": "code",
   "execution_count": 86,
   "metadata": {},
   "outputs": [
    {
     "data": {
      "text/html": [
       "<table><tr><th>name</th> <td>housepriceabtesting</td></tr><tr><th>created</th> <td>2023-03-14 15:52:10.722286+00:00</td></tr><tr><th>last_updated</th> <td>2023-03-14 16:51:31.324771+00:00</td></tr><tr><th>deployed</th> <td>False</td></tr><tr><th>tags</th> <td></td></tr><tr><th>versions</th> <td>977ed457-e0da-438d-bfa1-5a0c92c5eadb, 04edcc6a-a178-407e-b699-69b4f4804ade, 00460662-1d18-49a7-a7b4-0846673e9a5b, 51f995de-89d2-49f8-aae2-b803a2331ed9</td></tr><tr><th>steps</th> <td>housingcontrol</td></tr></table>"
      ],
      "text/plain": [
       "{'name': 'housepriceabtesting', 'create_time': datetime.datetime(2023, 3, 14, 15, 52, 10, 722286, tzinfo=tzutc()), 'definition': \"[{'RandomSplit': {'hash_key': 'session_id', 'weights': [{'model': {'name': 'housingcontrol', 'version': 'a9c0ab70-6534-41ab-a502-9e2234a8da12', 'sha': 'e22a0831aafd9917f3cc87a15ed267797f80e2afa12ad7d8810ca58f173b8cc6'}, 'weight': 2}, {'model': {'name': 'housingchallenger01', 'version': 'db7ae792-9308-4de1-90ed-e233e6c28c94', 'sha': '31e92d6ccb27b041a324a7ac22cf95d9d6cc3aa7e8263a229f7c4aec4938657c'}, 'weight': 1}]}}]\"}"
      ]
     },
     "execution_count": 86,
     "metadata": {},
     "output_type": "execute_result"
    }
   ],
   "source": [
    "abpipeline.undeploy()"
   ]
  },
  {
   "attachments": {},
   "cell_type": "markdown",
   "metadata": {},
   "source": [
    "## Shadow Deploy\n",
    "\n",
    "The other method for comparing models is Shadow Deploy.  In Shadow Deploy, the pipeline step is added with the `add_shadow_deploy` method, with the champion model listed first, then an array of challenger models after.  **All** inference data is fed to **all** models, with the champion results displayed in the `out.variable` column, and the shadow results in the format `out_{model name}.variable`.  For example, since we named our challenger models `housingchallenger01` and `housingchallenger02`, the columns `out_housingchallenger01.variable` and `out_housingchallenger02.variable` have the shadow deployed model results.\n",
    "\n",
    "Here, we'll create a new pipeline called `housepriceshadowtesting`, then add `rf_model.onnx` as our champion, and models `xgb_model.onnx` and `gbr_model.onnx` as the challengers.  We'll deploy the pipeline and prepare it for sample inferences."
   ]
  },
  {
   "cell_type": "code",
   "execution_count": 88,
   "metadata": {},
   "outputs": [],
   "source": [
    "shadow_pipeline = wl.build_pipeline(shadow_pipeline_name).add_shadow_deploy(housing_model_control, [housing_model_challenger01, housing_model_challenger02]).deploy()"
   ]
  },
  {
   "attachments": {},
   "cell_type": "markdown",
   "metadata": {},
   "source": [
    "### Shadow Deploy Sample Inference\n",
    "\n",
    "We'll now use our same sample data for an inference to our shadow deployed pipeline."
   ]
  },
  {
   "cell_type": "code",
   "execution_count": 90,
   "metadata": {},
   "outputs": [
    {
     "data": {
      "text/html": [
       "<div>\n",
       "<style scoped>\n",
       "    .dataframe tbody tr th:only-of-type {\n",
       "        vertical-align: middle;\n",
       "    }\n",
       "\n",
       "    .dataframe tbody tr th {\n",
       "        vertical-align: top;\n",
       "    }\n",
       "\n",
       "    .dataframe thead th {\n",
       "        text-align: right;\n",
       "    }\n",
       "</style>\n",
       "<table border=\"1\" class=\"dataframe\">\n",
       "  <thead>\n",
       "    <tr style=\"text-align: right;\">\n",
       "      <th></th>\n",
       "      <th>time</th>\n",
       "      <th>in.tensor</th>\n",
       "      <th>out.variable</th>\n",
       "      <th>check_failures</th>\n",
       "      <th>out_housingchallenger01.variable</th>\n",
       "      <th>out_housingchallenger02.variable</th>\n",
       "    </tr>\n",
       "  </thead>\n",
       "  <tbody>\n",
       "    <tr>\n",
       "      <th>0</th>\n",
       "      <td>2023-03-14 17:05:10.211</td>\n",
       "      <td>[4.0, 2.5, 2900.0, 5505.0, 2.0, 0.0, 0.0, 3.0, 8.0, 2900.0, 0.0, 47.6063, -122.02, 2970.0, 5251.0, 12.0, 0.0, 0.0]</td>\n",
       "      <td>[718013.7]</td>\n",
       "      <td>0</td>\n",
       "      <td>[659806.0]</td>\n",
       "      <td>[704901.9]</td>\n",
       "    </tr>\n",
       "  </tbody>\n",
       "</table>\n",
       "</div>"
      ],
      "text/plain": [
       "                     time  \\\n",
       "0 2023-03-14 17:05:10.211   \n",
       "\n",
       "                                                                                                            in.tensor  \\\n",
       "0  [4.0, 2.5, 2900.0, 5505.0, 2.0, 0.0, 0.0, 3.0, 8.0, 2900.0, 0.0, 47.6063, -122.02, 2970.0, 5251.0, 12.0, 0.0, 0.0]   \n",
       "\n",
       "  out.variable  check_failures out_housingchallenger01.variable  \\\n",
       "0   [718013.7]               0                       [659806.0]   \n",
       "\n",
       "  out_housingchallenger02.variable  \n",
       "0                       [704901.9]  "
      ]
     },
     "metadata": {},
     "output_type": "display_data"
    }
   ],
   "source": [
    "if arrowEnabled is True:\n",
    "    shadow_result = shadow_pipeline.infer_from_file('./data/xtest-1.df.json')\n",
    "else:\n",
    "    shadow_result = shadow_pipeline.infer_from_file('./data/xtest-1.json')\n",
    "display(shadow_result)"
   ]
  },
  {
   "attachments": {},
   "cell_type": "markdown",
   "metadata": {},
   "source": [
    "### Shadow Deploy Batch Inference\n",
    "\n",
    "We can also perform batch inferences with shadow deployed pipelines.  Here we'll pass 1,000 inference requests at once, then display the results."
   ]
  },
  {
   "cell_type": "code",
   "execution_count": 97,
   "metadata": {},
   "outputs": [
    {
     "data": {
      "text/html": [
       "<div>\n",
       "<style scoped>\n",
       "    .dataframe tbody tr th:only-of-type {\n",
       "        vertical-align: middle;\n",
       "    }\n",
       "\n",
       "    .dataframe tbody tr th {\n",
       "        vertical-align: top;\n",
       "    }\n",
       "\n",
       "    .dataframe thead th {\n",
       "        text-align: right;\n",
       "    }\n",
       "</style>\n",
       "<table border=\"1\" class=\"dataframe\">\n",
       "  <thead>\n",
       "    <tr style=\"text-align: right;\">\n",
       "      <th></th>\n",
       "      <th>out.variable</th>\n",
       "      <th>out_housingchallenger01.variable</th>\n",
       "      <th>out_housingchallenger02.variable</th>\n",
       "    </tr>\n",
       "  </thead>\n",
       "  <tbody>\n",
       "    <tr>\n",
       "      <th>0</th>\n",
       "      <td>[718013.75]</td>\n",
       "      <td>[659806.0]</td>\n",
       "      <td>[704901.9]</td>\n",
       "    </tr>\n",
       "    <tr>\n",
       "      <th>1</th>\n",
       "      <td>[615094.56]</td>\n",
       "      <td>[732883.5]</td>\n",
       "      <td>[695994.44]</td>\n",
       "    </tr>\n",
       "    <tr>\n",
       "      <th>2</th>\n",
       "      <td>[448627.72]</td>\n",
       "      <td>[419508.84]</td>\n",
       "      <td>[416164.8]</td>\n",
       "    </tr>\n",
       "    <tr>\n",
       "      <th>3</th>\n",
       "      <td>[758714.2]</td>\n",
       "      <td>[634028.8]</td>\n",
       "      <td>[655277.2]</td>\n",
       "    </tr>\n",
       "    <tr>\n",
       "      <th>4</th>\n",
       "      <td>[513264.7]</td>\n",
       "      <td>[427209.44]</td>\n",
       "      <td>[426854.66]</td>\n",
       "    </tr>\n",
       "    <tr>\n",
       "      <th>...</th>\n",
       "      <td>...</td>\n",
       "      <td>...</td>\n",
       "      <td>...</td>\n",
       "    </tr>\n",
       "    <tr>\n",
       "      <th>995</th>\n",
       "      <td>[827411.0]</td>\n",
       "      <td>[743487.94]</td>\n",
       "      <td>[787589.25]</td>\n",
       "    </tr>\n",
       "    <tr>\n",
       "      <th>996</th>\n",
       "      <td>[441960.38]</td>\n",
       "      <td>[381577.16]</td>\n",
       "      <td>[411258.3]</td>\n",
       "    </tr>\n",
       "    <tr>\n",
       "      <th>997</th>\n",
       "      <td>[1060847.5]</td>\n",
       "      <td>[1520770.0]</td>\n",
       "      <td>[1491293.8]</td>\n",
       "    </tr>\n",
       "    <tr>\n",
       "      <th>998</th>\n",
       "      <td>[706823.56]</td>\n",
       "      <td>[663008.75]</td>\n",
       "      <td>[594914.2]</td>\n",
       "    </tr>\n",
       "    <tr>\n",
       "      <th>999</th>\n",
       "      <td>[581003.0]</td>\n",
       "      <td>[573391.1]</td>\n",
       "      <td>[596933.5]</td>\n",
       "    </tr>\n",
       "  </tbody>\n",
       "</table>\n",
       "<p>1000 rows × 3 columns</p>\n",
       "</div>"
      ],
      "text/plain": [
       "    out.variable out_housingchallenger01.variable  \\\n",
       "0    [718013.75]                       [659806.0]   \n",
       "1    [615094.56]                       [732883.5]   \n",
       "2    [448627.72]                      [419508.84]   \n",
       "3     [758714.2]                       [634028.8]   \n",
       "4     [513264.7]                      [427209.44]   \n",
       "..           ...                              ...   \n",
       "995   [827411.0]                      [743487.94]   \n",
       "996  [441960.38]                      [381577.16]   \n",
       "997  [1060847.5]                      [1520770.0]   \n",
       "998  [706823.56]                      [663008.75]   \n",
       "999   [581003.0]                       [573391.1]   \n",
       "\n",
       "    out_housingchallenger02.variable  \n",
       "0                         [704901.9]  \n",
       "1                        [695994.44]  \n",
       "2                         [416164.8]  \n",
       "3                         [655277.2]  \n",
       "4                        [426854.66]  \n",
       "..                               ...  \n",
       "995                      [787589.25]  \n",
       "996                       [411258.3]  \n",
       "997                      [1491293.8]  \n",
       "998                       [594914.2]  \n",
       "999                       [596933.5]  \n",
       "\n",
       "[1000 rows x 3 columns]"
      ]
     },
     "metadata": {},
     "output_type": "display_data"
    }
   ],
   "source": [
    "if arrowEnabled is True:\n",
    "    shadow_results = shadow_pipeline.infer_from_file('./data/xtest-1k.df.json')\n",
    "    display(shadow_results.loc[:,['out.variable','out_housingchallenger01.variable','out_housingchallenger02.variable']])\n",
    "else:\n",
    "    shadow_results = shadow_pipeline.infer_from_file('./data/xtest-1k.json')\n",
    "    display(shadow_results)"
   ]
  },
  {
   "attachments": {},
   "cell_type": "markdown",
   "metadata": {},
   "source": [
    "### Shadow Deploy Logs\n",
    "\n",
    "Shadow deployed results are also displayed in the log files.  For Arrow enabled Wallaroo instances, it's just the pipeline `logs` method.  For Arrow disabled environments, the command `logs_shadow_deploy()` displays the shadow deployed model information."
   ]
  },
  {
   "cell_type": "code",
   "execution_count": 101,
   "metadata": {},
   "outputs": [
    {
     "data": {
      "text/html": [
       "<div>\n",
       "<style scoped>\n",
       "    .dataframe tbody tr th:only-of-type {\n",
       "        vertical-align: middle;\n",
       "    }\n",
       "\n",
       "    .dataframe tbody tr th {\n",
       "        vertical-align: top;\n",
       "    }\n",
       "\n",
       "    .dataframe thead th {\n",
       "        text-align: right;\n",
       "    }\n",
       "</style>\n",
       "<table border=\"1\" class=\"dataframe\">\n",
       "  <thead>\n",
       "    <tr style=\"text-align: right;\">\n",
       "      <th></th>\n",
       "      <th>out.variable</th>\n",
       "      <th>out_housingchallenger01.variable</th>\n",
       "      <th>out_housingchallenger02.variable</th>\n",
       "    </tr>\n",
       "  </thead>\n",
       "  <tbody>\n",
       "    <tr>\n",
       "      <th>0</th>\n",
       "      <td>[448627.72]</td>\n",
       "      <td>[445568.9]</td>\n",
       "      <td>[461039.66]</td>\n",
       "    </tr>\n",
       "    <tr>\n",
       "      <th>1</th>\n",
       "      <td>[1208638.0]</td>\n",
       "      <td>[1103661.8]</td>\n",
       "      <td>[1126173.8]</td>\n",
       "    </tr>\n",
       "    <tr>\n",
       "      <th>2</th>\n",
       "      <td>[437177.84]</td>\n",
       "      <td>[421732.38]</td>\n",
       "      <td>[403378.1]</td>\n",
       "    </tr>\n",
       "    <tr>\n",
       "      <th>3</th>\n",
       "      <td>[981676.6]</td>\n",
       "      <td>[873592.25]</td>\n",
       "      <td>[917436.4]</td>\n",
       "    </tr>\n",
       "    <tr>\n",
       "      <th>4</th>\n",
       "      <td>[435628.56]</td>\n",
       "      <td>[391048.06]</td>\n",
       "      <td>[359483.9]</td>\n",
       "    </tr>\n",
       "    <tr>\n",
       "      <th>...</th>\n",
       "      <td>...</td>\n",
       "      <td>...</td>\n",
       "      <td>...</td>\n",
       "    </tr>\n",
       "    <tr>\n",
       "      <th>95</th>\n",
       "      <td>[827411.0]</td>\n",
       "      <td>[743487.94]</td>\n",
       "      <td>[787589.25]</td>\n",
       "    </tr>\n",
       "    <tr>\n",
       "      <th>96</th>\n",
       "      <td>[441960.38]</td>\n",
       "      <td>[381577.16]</td>\n",
       "      <td>[411258.3]</td>\n",
       "    </tr>\n",
       "    <tr>\n",
       "      <th>97</th>\n",
       "      <td>[1060847.5]</td>\n",
       "      <td>[1520770.0]</td>\n",
       "      <td>[1491293.8]</td>\n",
       "    </tr>\n",
       "    <tr>\n",
       "      <th>98</th>\n",
       "      <td>[706823.56]</td>\n",
       "      <td>[663008.75]</td>\n",
       "      <td>[594914.2]</td>\n",
       "    </tr>\n",
       "    <tr>\n",
       "      <th>99</th>\n",
       "      <td>[581003.0]</td>\n",
       "      <td>[573391.1]</td>\n",
       "      <td>[596933.5]</td>\n",
       "    </tr>\n",
       "  </tbody>\n",
       "</table>\n",
       "<p>100 rows × 3 columns</p>\n",
       "</div>"
      ],
      "text/plain": [
       "   out.variable out_housingchallenger01.variable  \\\n",
       "0   [448627.72]                       [445568.9]   \n",
       "1   [1208638.0]                      [1103661.8]   \n",
       "2   [437177.84]                      [421732.38]   \n",
       "3    [981676.6]                      [873592.25]   \n",
       "4   [435628.56]                      [391048.06]   \n",
       "..          ...                              ...   \n",
       "95   [827411.0]                      [743487.94]   \n",
       "96  [441960.38]                      [381577.16]   \n",
       "97  [1060847.5]                      [1520770.0]   \n",
       "98  [706823.56]                      [663008.75]   \n",
       "99   [581003.0]                       [573391.1]   \n",
       "\n",
       "   out_housingchallenger02.variable  \n",
       "0                       [461039.66]  \n",
       "1                       [1126173.8]  \n",
       "2                        [403378.1]  \n",
       "3                        [917436.4]  \n",
       "4                        [359483.9]  \n",
       "..                              ...  \n",
       "95                      [787589.25]  \n",
       "96                       [411258.3]  \n",
       "97                      [1491293.8]  \n",
       "98                       [594914.2]  \n",
       "99                       [596933.5]  \n",
       "\n",
       "[100 rows x 3 columns]"
      ]
     },
     "metadata": {},
     "output_type": "display_data"
    }
   ],
   "source": [
    "if arrowEnabled is True:\n",
    "    logs = shadow_pipeline.logs()\n",
    "    display(logs.loc[:,['out.variable','out_housingchallenger01.variable','out_housingchallenger02.variable']])\n",
    "else:\n",
    "    logs = shadow_pipeline.logs()\n",
    "    display([(log.model_name, log.output) for log in logs])\n",
    "    shadow_logs = shadow_pipeline.logs_shadow_deploy()\n",
    "    display(shadow_logs)"
   ]
  },
  {
   "cell_type": "markdown",
   "metadata": {},
   "source": [
    "### Undeploy Shadow Pipeline\n",
    "\n",
    "We can now undeploy the shadow deployed pipeline to return the resources back to the Wallaroo instance."
   ]
  },
  {
   "cell_type": "code",
   "execution_count": 102,
   "metadata": {},
   "outputs": [
    {
     "data": {
      "text/html": [
       "<table><tr><th>name</th> <td>housepriceshadowtesting</td></tr><tr><th>created</th> <td>2023-03-14 17:03:17.045793+00:00</td></tr><tr><th>last_updated</th> <td>2023-03-14 17:03:17.642834+00:00</td></tr><tr><th>deployed</th> <td>False</td></tr><tr><th>tags</th> <td></td></tr><tr><th>versions</th> <td>b28d11a4-2f03-4d43-bfdf-7d5ffd570920, ff47eeff-510a-497a-b5f0-285d9d227d5a</td></tr><tr><th>steps</th> <td>housingcontrol</td></tr></table>"
      ],
      "text/plain": [
       "{'name': 'housepriceshadowtesting', 'create_time': datetime.datetime(2023, 3, 14, 17, 3, 17, 45793, tzinfo=tzutc()), 'definition': \"[{'ModelInference': {'models': [{'name': 'housingcontrol', 'version': 'a9c0ab70-6534-41ab-a502-9e2234a8da12', 'sha': 'e22a0831aafd9917f3cc87a15ed267797f80e2afa12ad7d8810ca58f173b8cc6'}, {'name': 'housingchallenger01', 'version': 'db7ae792-9308-4de1-90ed-e233e6c28c94', 'sha': '31e92d6ccb27b041a324a7ac22cf95d9d6cc3aa7e8263a229f7c4aec4938657c'}, {'name': 'housingchallenger02', 'version': '1fe13abb-28e9-438b-a351-070d3f2cccca', 'sha': 'ed6065a79d841f7e96307bb20d5ef22840f15da0b587efb51425c7ad60589d6a'}]}}, {'AuditResults': {'from': 1, 'to': None}}, {'MultiOut': {}}]\"}"
      ]
     },
     "execution_count": 102,
     "metadata": {},
     "output_type": "execute_result"
    }
   ],
   "source": [
    "shadow_pipeline.undeploy()"
   ]
  },
  {
   "attachments": {},
   "cell_type": "markdown",
   "metadata": {},
   "source": [
    "## Model Swap\n",
    "\n",
    "Now that we've completed our testing, we can swap our deployed model in the original `housepricingpipeline` with one we feel works better.  This is one with the pipeline `replace_with_model_step` method, where we specify the pipeline step and the model to replace it with.  This pipeline had only one step with the `rf_model.onnx` model, and we'll swap it out with the `gbr_model.onnx` model.\n",
    "\n",
    "The model swap capability makes updating a pipeline with new models a quick production process.  \n",
    "\n",
    "We'll start with sending 1,000 separate inference requests to the pipeline while we swap the model in and out.  This way we can show updates to the log files, and how the inferences are performing in the Wallaroo Dashboard."
   ]
  },
  {
   "cell_type": "code",
   "execution_count": 107,
   "metadata": {},
   "outputs": [],
   "source": [
    "# inferences in the background\n",
    "\n",
    "import multiprocessing\n",
    "\n",
    "if arrowEnabled is True:\n",
    "    def background_inferences():\n",
    "        #Read in the test data as one dataframe\n",
    "        test_data = pd.read_json('data/xtest-1k.df.json')\n",
    "        # For each row, submit that row as a separate dataframe\n",
    "        # Add the results to the responses array\n",
    "        for index, row in test_data.head(1000).iterrows():\n",
    "            mainpipeline.infer(row.to_frame('tensor').reset_index(drop=True))\n",
    "else:\n",
    "    def background_inferences():\n",
    "        from data import test_data\n",
    "        for nth in range(1000):\n",
    "            mainpipeline.infer(test_data.data[nth])\n"
   ]
  },
  {
   "cell_type": "code",
   "execution_count": 108,
   "metadata": {},
   "outputs": [
    {
     "name": "stderr",
     "output_type": "stream",
     "text": [
      "Traceback (most recent call last):\n",
      "  File \"<string>\", line 1, in <module>\n",
      "  File \"/opt/homebrew/anaconda3/envs/arrowtests/lib/python3.8/multiprocessing/spawn.py\", line 116, in spawn_main\n",
      "    exitcode = _main(fd, parent_sentinel)\n",
      "  File \"/opt/homebrew/anaconda3/envs/arrowtests/lib/python3.8/multiprocessing/spawn.py\", line 126, in _main\n",
      "    self = reduction.pickle.load(from_parent)\n",
      "AttributeError: Can't get attribute 'background_inferences' on <module '__main__' (built-in)>\n"
     ]
    }
   ],
   "source": [
    "multiprocessing.Process(target=background_inferences).start()"
   ]
  },
  {
   "cell_type": "code",
   "execution_count": 104,
   "metadata": {},
   "outputs": [
    {
     "data": {
      "text/html": [
       "<table><tr><th>name</th> <td>housepricingpipeline</td></tr><tr><th>created</th> <td>2023-03-14 15:31:57.026034+00:00</td></tr><tr><th>last_updated</th> <td>2023-03-14 17:27:17.271175+00:00</td></tr><tr><th>deployed</th> <td>True</td></tr><tr><th>tags</th> <td></td></tr><tr><th>versions</th> <td>7569d299-d105-4e2d-92a1-ea9878ce80c2, 30aba9c8-e09e-42e0-b2d5-086168623c44, 7f92d873-6140-4639-9cd0-e3259a9d57c9, bb221c3e-61e6-4074-912a-c57ba6bf0d34, 39aa0a7e-2d6d-4849-a3d5-6726995ed7de, c2289074-2445-4e49-8ffd-b8ec4a8c8317, fc8561c5-f338-4c8e-a15b-b23ed11fd137</td></tr><tr><th>steps</th> <td>housingcontrol</td></tr></table>"
      ],
      "text/plain": [
       "{'name': 'housepricingpipeline', 'create_time': datetime.datetime(2023, 3, 14, 15, 31, 57, 26034, tzinfo=tzutc()), 'definition': \"[{'ModelInference': {'models': [{'name': 'housingchallenger01', 'version': 'db7ae792-9308-4de1-90ed-e233e6c28c94', 'sha': '31e92d6ccb27b041a324a7ac22cf95d9d6cc3aa7e8263a229f7c4aec4938657c'}]}}]\"}"
      ]
     },
     "execution_count": 104,
     "metadata": {},
     "output_type": "execute_result"
    }
   ],
   "source": [
    "# Swap the model with a new one, then redeploy the pipeline\n",
    "\n",
    "mainpipeline.replace_with_model_step(0, housing_model_challenger01).deploy()"
   ]
  },
  {
   "cell_type": "code",
   "execution_count": null,
   "metadata": {},
   "outputs": [],
   "source": []
  },
  {
   "cell_type": "code",
   "execution_count": 105,
   "metadata": {},
   "outputs": [
    {
     "data": {
      "text/html": [
       "<div>\n",
       "<style scoped>\n",
       "    .dataframe tbody tr th:only-of-type {\n",
       "        vertical-align: middle;\n",
       "    }\n",
       "\n",
       "    .dataframe tbody tr th {\n",
       "        vertical-align: top;\n",
       "    }\n",
       "\n",
       "    .dataframe thead th {\n",
       "        text-align: right;\n",
       "    }\n",
       "</style>\n",
       "<table border=\"1\" class=\"dataframe\">\n",
       "  <thead>\n",
       "    <tr style=\"text-align: right;\">\n",
       "      <th></th>\n",
       "      <th>time</th>\n",
       "      <th>in.tensor</th>\n",
       "      <th>out.variable</th>\n",
       "      <th>check_failures</th>\n",
       "    </tr>\n",
       "  </thead>\n",
       "  <tbody>\n",
       "    <tr>\n",
       "      <th>0</th>\n",
       "      <td>2023-03-14 17:27:37.629</td>\n",
       "      <td>[4.0, 2.5, 2900.0, 5505.0, 2.0, 0.0, 0.0, 3.0, 8.0, 2900.0, 0.0, 47.6063, -122.02, 2970.0, 5251.0, 12.0, 0.0, 0.0]</td>\n",
       "      <td>[659806.0]</td>\n",
       "      <td>0</td>\n",
       "    </tr>\n",
       "  </tbody>\n",
       "</table>\n",
       "</div>"
      ],
      "text/plain": [
       "                     time  \\\n",
       "0 2023-03-14 17:27:37.629   \n",
       "\n",
       "                                                                                                            in.tensor  \\\n",
       "0  [4.0, 2.5, 2900.0, 5505.0, 2.0, 0.0, 0.0, 3.0, 8.0, 2900.0, 0.0, 47.6063, -122.02, 2970.0, 5251.0, 12.0, 0.0, 0.0]   \n",
       "\n",
       "  out.variable  check_failures  \n",
       "0   [659806.0]               0  "
      ]
     },
     "metadata": {},
     "output_type": "display_data"
    }
   ],
   "source": [
    "# show log reults\n",
    "\n",
    "display(mainpipeline.logs())"
   ]
  },
  {
   "cell_type": "code",
   "execution_count": null,
   "metadata": {},
   "outputs": [],
   "source": []
  }
 ],
 "metadata": {
  "kernelspec": {
   "display_name": "Python 3 (ipykernel)",
   "language": "python",
   "name": "python3"
  },
  "language_info": {
   "codemirror_mode": {
    "name": "ipython",
    "version": 3
   },
   "file_extension": ".py",
   "mimetype": "text/x-python",
   "name": "python",
   "nbconvert_exporter": "python",
   "pygments_lexer": "ipython3",
   "version": "3.8.12"
  },
  "vscode": {
   "interpreter": {
    "hash": "7dda4bf3640b7fafcd1648658b879b4cc9f6ba6084e8fb356fdaaa1a461d1690"
   }
  }
 },
 "nbformat": 4,
 "nbformat_minor": 4
}
