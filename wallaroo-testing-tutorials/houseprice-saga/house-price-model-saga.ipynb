{
 "cells": [
  {
   "attachments": {},
   "cell_type": "markdown",
   "metadata": {},
   "source": [
    "This tutorial and the assets can be downloaded as part of the [Wallaroo Tutorials repository](https://github.com/WallarooLabs/Wallaroo_Tutorials/tree/main/wallaroo-testing-tutorials/anomaly_detection).\n",
    "\n",
    "## House Price Testing Saga\n",
    "\n",
    "This tutorial simulates using Wallaroo assays to detect model or data drift, and Wallaroo Shadow Deploy to compare different models to determine which one is most fit for an organization's needs.  These two features allow organizations to monitor model performance and accuracy, then swap them out as needed.\n",
    "\n",
    "* **IMPORTANT NOTE**: This tutorial assumes that historical data is available for the assays functionality.  The code for creating and using assays has been commented out, but is made available for examination and as examples.\n",
    "\n",
    "This tutorial will demonstrate how to:\n",
    "\n",
    "1. Select or create a workspace, pipeline and upload the champion model.\n",
    "1. Add a pipeline step with the champion model, then deploy the pipeline and perform sample inferences.\n",
    "1. Create an assay baseline and display \n",
    "1. Establish a pipeline and add the model as a step.\n",
    "1. Create an assay with baseline data and display anomalies.\n",
    "1. Swap out the pipeline step with the champion model with a shadow deploy step that compares the champion model against two competitors.\n",
    "1. Evaluate the results of the champion versus competitor models.\n",
    "1. Swap out the shadow deploy pipeline step with the new challenger model.\n",
    "1. Undeploy the pipeline.\n",
    "\n",
    "This tutorial provides the following:\n",
    "\n",
    "* Models:\n",
    "  * `models/rf_model.onnx`: The champion model that has been used in this environment for some time.\n",
    "  * `models/xgb_model.onnx` and `models/gbr_model.onnx`: Rival models that will be tested against the champion.\n",
    "* Data:\n",
    "  * `data/xtest-1.df.json` and `data/xtest-1k.df.json`:  DataFrame JSON inference inputs with 1 input and 1,000 inputs.\n",
    "  * `data/xtest-1k.arrow`:  Apache Arrow inference inputs with 1 input and 1,000 inputs.\n",
    "\n",
    "## Prerequisites\n",
    "\n",
    "* A deployed Wallaroo instance\n",
    "* The following Python libraries installed:\n",
    "  * [`wallaroo`](https://pypi.org/project/wallaroo/): The Wallaroo SDK. Included with the Wallaroo JupyterHub service by default.\n",
    "  * [`pandas`](https://pypi.org/project/pandas/): Pandas, mainly used for Pandas DataFrame\n",
    "  * [`polars`](https://pypi.org/project/polars/): Polars for DataFrame with native Apache Arrow support"
   ]
  },
  {
   "attachments": {},
   "cell_type": "markdown",
   "metadata": {},
   "source": [
    "## Initial Steps\n",
    "\n",
    "### Import libraries\n",
    "\n",
    "The first step is to import the libraries needed for this notebook."
   ]
  },
  {
   "cell_type": "code",
   "execution_count": 161,
   "metadata": {},
   "outputs": [],
   "source": [
    "import wallaroo\n",
    "from wallaroo.object import EntityNotFoundError\n",
    "\n",
    "from IPython.display import display\n",
    "\n",
    "# used to display DataFrame information without truncating\n",
    "from IPython.display import display\n",
    "import pandas as pd\n",
    "pd.set_option('display.max_colwidth', None)\n",
    "\n",
    "import os\n",
    "# For Wallaroo SDK 2023.1\n",
    "os.environ[\"ARROW_ENABLED\"]=\"True\"\n",
    "\n",
    "import datetime\n",
    "import time"
   ]
  },
  {
   "cell_type": "markdown",
   "metadata": {},
   "source": [
    "### Connect to Wallaroo Instance\n",
    "\n",
    "The following command will create a connection to the Wallaroo instance and store it in the variable `wl`."
   ]
  },
  {
   "cell_type": "code",
   "execution_count": 162,
   "metadata": {},
   "outputs": [],
   "source": [
    "# Login through local Wallaroo instance\n",
    "\n",
    "# wl = wallaroo.Client()\n",
    "\n",
    "# SSO login through keycloak\n",
    "\n",
    "wallarooPrefix = \"YOUR PREFIX\"\n",
    "wallarooSuffix = \"YOUR PREFIX\"\n",
    "\n",
    "os.environ[\"WALLAROO_SDK_CREDENTIALS\"] = './creds.json.example'\n",
    "\n",
    "# wallarooPrefix = \"docreleasetest\"\n",
    "# wallarooSuffix = \"wallaroocommunity.ninja\"\n",
    "\n",
    "wallarooPrefix = \"doc-test\"\n",
    "wallarooSuffix = \"wallaroocommunity.ninja\"\n",
    "\n",
    "# wallarooPrefix = \"sparkly-apple-3026\"\n",
    "# wallarooSuffix = \"wallaroo.community\"\n",
    "\n",
    "# wl = wallaroo.Client(api_endpoint=f\"https://{wallarooPrefix}.api.{wallarooSuffix}\", \n",
    "#                     auth_endpoint=f\"https://{wallarooPrefix}.keycloak.{wallarooSuffix}\", \n",
    "#                     auth_type=\"sso\")\n",
    "\n",
    "wl = wallaroo.Client(api_endpoint=f\"https://{wallarooPrefix}.api.{wallarooSuffix}\", \n",
    "                    auth_endpoint=f\"https://{wallarooPrefix}.keycloak.{wallarooSuffix}\", \n",
    "                    auth_type=\"user_password\")"
   ]
  },
  {
   "cell_type": "markdown",
   "metadata": {},
   "source": [
    "### Create Workspace\n",
    "\n",
    "We will create a workspace to manage our pipeline and models.  The following variables will set the name of our sample workspace then set it as the current workspace."
   ]
  },
  {
   "cell_type": "code",
   "execution_count": 163,
   "metadata": {},
   "outputs": [],
   "source": [
    "workspace_name = 'housepricesagaworkspace'\n",
    "main_pipeline_name = 'housepricesagapipeline'\n",
    "model_name_control = 'housepricesagacontrol'\n",
    "model_file_name_control = './models/rf_model.onnx'"
   ]
  },
  {
   "cell_type": "code",
   "execution_count": 164,
   "metadata": {},
   "outputs": [],
   "source": [
    "def get_workspace(name):\n",
    "    workspace = None\n",
    "    for ws in wl.list_workspaces():\n",
    "        if ws.name() == name:\n",
    "            workspace= ws\n",
    "    if(workspace == None):\n",
    "        workspace = wl.create_workspace(name)\n",
    "    return workspace"
   ]
  },
  {
   "cell_type": "code",
   "execution_count": 165,
   "metadata": {},
   "outputs": [
    {
     "data": {
      "text/plain": [
       "{'name': 'housepricesagaworkspace', 'id': 1, 'archived': False, 'created_by': 'bed53c89-7e30-496b-a5d2-4d9289cb5eb4', 'created_at': '2023-04-26T14:28:15.796778+00:00', 'models': [], 'pipelines': []}"
      ]
     },
     "execution_count": 165,
     "metadata": {},
     "output_type": "execute_result"
    }
   ],
   "source": [
    "workspace = get_workspace(workspace_name)\n",
    "\n",
    "wl.set_current_workspace(workspace)"
   ]
  },
  {
   "attachments": {},
   "cell_type": "markdown",
   "metadata": {},
   "source": [
    "### Upload The Champion Model\n",
    "\n",
    "For our example, we will upload the champion model that has been trained to derive house prices from a variety of inputs.  The model file is `rf_model.onnx`, and is uploaded with the name `housingcontrol`."
   ]
  },
  {
   "cell_type": "code",
   "execution_count": 166,
   "metadata": {},
   "outputs": [],
   "source": [
    "housing_model_control = wl.upload_model(model_name_control, model_file_name_control).configure()"
   ]
  },
  {
   "attachments": {},
   "cell_type": "markdown",
   "metadata": {},
   "source": [
    "## Standard Pipeline Steps\n",
    "\n",
    "### Build the Pipeline\n",
    "\n",
    "This pipeline is made to be an example of an existing situation where a model is deployed and being used for inferences in a production environment.  We'll call it `housepricepipeline`, set `housingcontrol` as a pipeline step, then run a few sample inferences.\n",
    "\n",
    "This pipeline will be a simple one - just a single pipeline step."
   ]
  },
  {
   "cell_type": "code",
   "execution_count": 167,
   "metadata": {},
   "outputs": [],
   "source": [
    "mainpipeline = wl.build_pipeline(main_pipeline_name).add_model_step(housing_model_control).deploy()"
   ]
  },
  {
   "attachments": {},
   "cell_type": "markdown",
   "metadata": {},
   "source": [
    "### Testing\n",
    "\n",
    "We'll use two inferences as a quick sample test - one that has a house that should be determined around $700k, the other with a house determined to be around $1.5 million.  We'll also save the start and end periods for these events to for later log functionality."
   ]
  },
  {
   "cell_type": "code",
   "execution_count": 168,
   "metadata": {},
   "outputs": [
    {
     "data": {
      "text/html": [
       "<div>\n",
       "<style scoped>\n",
       "    .dataframe tbody tr th:only-of-type {\n",
       "        vertical-align: middle;\n",
       "    }\n",
       "\n",
       "    .dataframe tbody tr th {\n",
       "        vertical-align: top;\n",
       "    }\n",
       "\n",
       "    .dataframe thead th {\n",
       "        text-align: right;\n",
       "    }\n",
       "</style>\n",
       "<table border=\"1\" class=\"dataframe\">\n",
       "  <thead>\n",
       "    <tr style=\"text-align: right;\">\n",
       "      <th></th>\n",
       "      <th>time</th>\n",
       "      <th>in.tensor</th>\n",
       "      <th>out.variable</th>\n",
       "      <th>check_failures</th>\n",
       "    </tr>\n",
       "  </thead>\n",
       "  <tbody>\n",
       "    <tr>\n",
       "      <th>0</th>\n",
       "      <td>2023-04-26 14:28:57.607</td>\n",
       "      <td>[4.0, 2.5, 2900.0, 5505.0, 2.0, 0.0, 0.0, 3.0, 8.0, 2900.0, 0.0, 47.6063, -122.02, 2970.0, 5251.0, 12.0, 0.0, 0.0]</td>\n",
       "      <td>[718013.7]</td>\n",
       "      <td>0</td>\n",
       "    </tr>\n",
       "  </tbody>\n",
       "</table>\n",
       "</div>"
      ],
      "text/plain": [
       "                     time  \\\n",
       "0 2023-04-26 14:28:57.607   \n",
       "\n",
       "                                                                                                            in.tensor  \\\n",
       "0  [4.0, 2.5, 2900.0, 5505.0, 2.0, 0.0, 0.0, 3.0, 8.0, 2900.0, 0.0, 47.6063, -122.02, 2970.0, 5251.0, 12.0, 0.0, 0.0]   \n",
       "\n",
       "  out.variable  check_failures  \n",
       "0   [718013.7]               0  "
      ]
     },
     "metadata": {},
     "output_type": "display_data"
    }
   ],
   "source": [
    "normal_input = pd.DataFrame.from_records({\"tensor\": [[4.0, 2.5, 2900.0, 5505.0, 2.0, 0.0, 0.0, 3.0, 8.0, 2900.0, 0.0, 47.6063, -122.02, 2970.0, 5251.0, 12.0, 0.0, 0.0]]})\n",
    "result = mainpipeline.infer(normal_input)\n",
    "display(result)"
   ]
  },
  {
   "cell_type": "code",
   "execution_count": 169,
   "metadata": {},
   "outputs": [
    {
     "data": {
      "text/html": [
       "<div>\n",
       "<style scoped>\n",
       "    .dataframe tbody tr th:only-of-type {\n",
       "        vertical-align: middle;\n",
       "    }\n",
       "\n",
       "    .dataframe tbody tr th {\n",
       "        vertical-align: top;\n",
       "    }\n",
       "\n",
       "    .dataframe thead th {\n",
       "        text-align: right;\n",
       "    }\n",
       "</style>\n",
       "<table border=\"1\" class=\"dataframe\">\n",
       "  <thead>\n",
       "    <tr style=\"text-align: right;\">\n",
       "      <th></th>\n",
       "      <th>time</th>\n",
       "      <th>in.tensor</th>\n",
       "      <th>out.variable</th>\n",
       "      <th>check_failures</th>\n",
       "    </tr>\n",
       "  </thead>\n",
       "  <tbody>\n",
       "    <tr>\n",
       "      <th>0</th>\n",
       "      <td>2023-04-26 14:28:58.138</td>\n",
       "      <td>[4.0, 3.0, 3710.0, 20000.0, 2.0, 0.0, 2.0, 5.0, 10.0, 2760.0, 950.0, 47.6696, -122.261, 3970.0, 20000.0, 79.0, 0.0, 0.0]</td>\n",
       "      <td>[1514079.4]</td>\n",
       "      <td>0</td>\n",
       "    </tr>\n",
       "  </tbody>\n",
       "</table>\n",
       "</div>"
      ],
      "text/plain": [
       "                     time  \\\n",
       "0 2023-04-26 14:28:58.138   \n",
       "\n",
       "                                                                                                                  in.tensor  \\\n",
       "0  [4.0, 3.0, 3710.0, 20000.0, 2.0, 0.0, 2.0, 5.0, 10.0, 2760.0, 950.0, 47.6696, -122.261, 3970.0, 20000.0, 79.0, 0.0, 0.0]   \n",
       "\n",
       "  out.variable  check_failures  \n",
       "0  [1514079.4]               0  "
      ]
     },
     "metadata": {},
     "output_type": "display_data"
    }
   ],
   "source": [
    "large_house_input = pd.DataFrame.from_records({'tensor': [[4.0, 3.0, 3710.0, 20000.0, 2.0, 0.0, 2.0, 5.0, 10.0, 2760.0, 950.0, 47.6696, -122.261, 3970.0, 20000.0, 79.0, 0.0, 0.0]]})\n",
    "large_house_result = mainpipeline.infer(large_house_input)\n",
    "display(large_house_result)"
   ]
  },
  {
   "attachments": {},
   "cell_type": "markdown",
   "metadata": {},
   "source": [
    "As one last sample, we'll run through roughly 1,000 inferences at once and show a few of the results.  For this example we'll use an Apache Arrow table, which has a smaller file size compared to uploading a pandas DataFrame JSON file.  The inference result is returned as an arrow table, which we'll convert into a pandas DataFrame to display the first 20 results."
   ]
  },
  {
   "cell_type": "code",
   "execution_count": 170,
   "metadata": {},
   "outputs": [
    {
     "data": {
      "text/html": [
       "<div>\n",
       "<style scoped>\n",
       "    .dataframe tbody tr th:only-of-type {\n",
       "        vertical-align: middle;\n",
       "    }\n",
       "\n",
       "    .dataframe tbody tr th {\n",
       "        vertical-align: top;\n",
       "    }\n",
       "\n",
       "    .dataframe thead th {\n",
       "        text-align: right;\n",
       "    }\n",
       "</style>\n",
       "<table border=\"1\" class=\"dataframe\">\n",
       "  <thead>\n",
       "    <tr style=\"text-align: right;\">\n",
       "      <th></th>\n",
       "      <th>time</th>\n",
       "      <th>in.tensor</th>\n",
       "      <th>out.variable</th>\n",
       "      <th>check_failures</th>\n",
       "    </tr>\n",
       "  </thead>\n",
       "  <tbody>\n",
       "    <tr>\n",
       "      <th>0</th>\n",
       "      <td>2023-04-26 14:28:58.582</td>\n",
       "      <td>[4.0, 2.5, 2900.0, 5505.0, 2.0, 0.0, 0.0, 3.0, 8.0, 2900.0, 0.0, 47.6063, -122.02, 2970.0, 5251.0, 12.0, 0.0, 0.0]</td>\n",
       "      <td>[718013.75]</td>\n",
       "      <td>0</td>\n",
       "    </tr>\n",
       "    <tr>\n",
       "      <th>1</th>\n",
       "      <td>2023-04-26 14:28:58.582</td>\n",
       "      <td>[2.0, 2.5, 2170.0, 6361.0, 1.0, 0.0, 2.0, 3.0, 8.0, 2170.0, 0.0, 47.7109, -122.017, 2310.0, 7419.0, 6.0, 0.0, 0.0]</td>\n",
       "      <td>[615094.56]</td>\n",
       "      <td>0</td>\n",
       "    </tr>\n",
       "    <tr>\n",
       "      <th>2</th>\n",
       "      <td>2023-04-26 14:28:58.582</td>\n",
       "      <td>[3.0, 2.5, 1300.0, 812.0, 2.0, 0.0, 0.0, 3.0, 8.0, 880.0, 420.0, 47.5893, -122.317, 1300.0, 824.0, 6.0, 0.0, 0.0]</td>\n",
       "      <td>[448627.72]</td>\n",
       "      <td>0</td>\n",
       "    </tr>\n",
       "    <tr>\n",
       "      <th>3</th>\n",
       "      <td>2023-04-26 14:28:58.582</td>\n",
       "      <td>[4.0, 2.5, 2500.0, 8540.0, 2.0, 0.0, 0.0, 3.0, 9.0, 2500.0, 0.0, 47.5759, -121.994, 2560.0, 8475.0, 24.0, 0.0, 0.0]</td>\n",
       "      <td>[758714.2]</td>\n",
       "      <td>0</td>\n",
       "    </tr>\n",
       "    <tr>\n",
       "      <th>4</th>\n",
       "      <td>2023-04-26 14:28:58.582</td>\n",
       "      <td>[3.0, 1.75, 2200.0, 11520.0, 1.0, 0.0, 0.0, 4.0, 7.0, 2200.0, 0.0, 47.7659, -122.341, 1690.0, 8038.0, 62.0, 0.0, 0.0]</td>\n",
       "      <td>[513264.7]</td>\n",
       "      <td>0</td>\n",
       "    </tr>\n",
       "    <tr>\n",
       "      <th>5</th>\n",
       "      <td>2023-04-26 14:28:58.582</td>\n",
       "      <td>[3.0, 2.0, 2140.0, 4923.0, 1.0, 0.0, 0.0, 4.0, 8.0, 1070.0, 1070.0, 47.6902, -122.339, 1470.0, 4923.0, 86.0, 0.0, 0.0]</td>\n",
       "      <td>[668288.0]</td>\n",
       "      <td>0</td>\n",
       "    </tr>\n",
       "    <tr>\n",
       "      <th>6</th>\n",
       "      <td>2023-04-26 14:28:58.582</td>\n",
       "      <td>[4.0, 3.5, 3590.0, 5334.0, 2.0, 0.0, 2.0, 3.0, 9.0, 3140.0, 450.0, 47.6763, -122.267, 2100.0, 6250.0, 9.0, 0.0, 0.0]</td>\n",
       "      <td>[1004846.5]</td>\n",
       "      <td>0</td>\n",
       "    </tr>\n",
       "    <tr>\n",
       "      <th>7</th>\n",
       "      <td>2023-04-26 14:28:58.582</td>\n",
       "      <td>[3.0, 2.0, 1280.0, 960.0, 2.0, 0.0, 0.0, 3.0, 9.0, 1040.0, 240.0, 47.602, -122.311, 1280.0, 1173.0, 0.0, 0.0, 0.0]</td>\n",
       "      <td>[684577.2]</td>\n",
       "      <td>0</td>\n",
       "    </tr>\n",
       "    <tr>\n",
       "      <th>8</th>\n",
       "      <td>2023-04-26 14:28:58.582</td>\n",
       "      <td>[4.0, 2.5, 2820.0, 15000.0, 2.0, 0.0, 0.0, 4.0, 9.0, 2820.0, 0.0, 47.7255, -122.101, 2440.0, 15000.0, 29.0, 0.0, 0.0]</td>\n",
       "      <td>[727898.1]</td>\n",
       "      <td>0</td>\n",
       "    </tr>\n",
       "    <tr>\n",
       "      <th>9</th>\n",
       "      <td>2023-04-26 14:28:58.582</td>\n",
       "      <td>[3.0, 2.25, 1790.0, 11393.0, 1.0, 0.0, 0.0, 3.0, 8.0, 1790.0, 0.0, 47.6297, -122.099, 2290.0, 11894.0, 36.0, 0.0, 0.0]</td>\n",
       "      <td>[559631.1]</td>\n",
       "      <td>0</td>\n",
       "    </tr>\n",
       "    <tr>\n",
       "      <th>10</th>\n",
       "      <td>2023-04-26 14:28:58.582</td>\n",
       "      <td>[3.0, 1.5, 1010.0, 7683.0, 1.5, 0.0, 0.0, 5.0, 7.0, 1010.0, 0.0, 47.72, -122.318, 1550.0, 7271.0, 61.0, 0.0, 0.0]</td>\n",
       "      <td>[340764.53]</td>\n",
       "      <td>0</td>\n",
       "    </tr>\n",
       "    <tr>\n",
       "      <th>11</th>\n",
       "      <td>2023-04-26 14:28:58.582</td>\n",
       "      <td>[3.0, 2.0, 1270.0, 1323.0, 3.0, 0.0, 0.0, 3.0, 8.0, 1270.0, 0.0, 47.6934, -122.342, 1330.0, 1323.0, 8.0, 0.0, 0.0]</td>\n",
       "      <td>[442168.06]</td>\n",
       "      <td>0</td>\n",
       "    </tr>\n",
       "    <tr>\n",
       "      <th>12</th>\n",
       "      <td>2023-04-26 14:28:58.582</td>\n",
       "      <td>[4.0, 1.75, 2070.0, 9120.0, 1.0, 0.0, 0.0, 4.0, 7.0, 1250.0, 820.0, 47.6045, -122.123, 1650.0, 8400.0, 57.0, 0.0, 0.0]</td>\n",
       "      <td>[630865.6]</td>\n",
       "      <td>0</td>\n",
       "    </tr>\n",
       "    <tr>\n",
       "      <th>13</th>\n",
       "      <td>2023-04-26 14:28:58.582</td>\n",
       "      <td>[4.0, 1.0, 1620.0, 4080.0, 1.5, 0.0, 0.0, 3.0, 7.0, 1620.0, 0.0, 47.6696, -122.324, 1760.0, 4080.0, 91.0, 0.0, 0.0]</td>\n",
       "      <td>[559631.1]</td>\n",
       "      <td>0</td>\n",
       "    </tr>\n",
       "    <tr>\n",
       "      <th>14</th>\n",
       "      <td>2023-04-26 14:28:58.582</td>\n",
       "      <td>[4.0, 3.25, 3990.0, 9786.0, 2.0, 0.0, 0.0, 3.0, 9.0, 3990.0, 0.0, 47.6784, -122.026, 3920.0, 8200.0, 10.0, 0.0, 0.0]</td>\n",
       "      <td>[909441.1]</td>\n",
       "      <td>0</td>\n",
       "    </tr>\n",
       "    <tr>\n",
       "      <th>15</th>\n",
       "      <td>2023-04-26 14:28:58.582</td>\n",
       "      <td>[4.0, 2.0, 1780.0, 19843.0, 1.0, 0.0, 0.0, 3.0, 7.0, 1780.0, 0.0, 47.4414, -122.154, 2210.0, 13500.0, 52.0, 0.0, 0.0]</td>\n",
       "      <td>[313096.0]</td>\n",
       "      <td>0</td>\n",
       "    </tr>\n",
       "    <tr>\n",
       "      <th>16</th>\n",
       "      <td>2023-04-26 14:28:58.582</td>\n",
       "      <td>[4.0, 2.5, 2130.0, 6003.0, 2.0, 0.0, 0.0, 3.0, 8.0, 2130.0, 0.0, 47.4518, -122.12, 1940.0, 4529.0, 11.0, 0.0, 0.0]</td>\n",
       "      <td>[404040.8]</td>\n",
       "      <td>0</td>\n",
       "    </tr>\n",
       "    <tr>\n",
       "      <th>17</th>\n",
       "      <td>2023-04-26 14:28:58.582</td>\n",
       "      <td>[3.0, 1.75, 1660.0, 10440.0, 1.0, 0.0, 0.0, 3.0, 7.0, 1040.0, 620.0, 47.4448, -121.77, 1240.0, 10380.0, 36.0, 0.0, 0.0]</td>\n",
       "      <td>[292859.5]</td>\n",
       "      <td>0</td>\n",
       "    </tr>\n",
       "    <tr>\n",
       "      <th>18</th>\n",
       "      <td>2023-04-26 14:28:58.582</td>\n",
       "      <td>[3.0, 2.5, 2110.0, 4118.0, 2.0, 0.0, 0.0, 3.0, 8.0, 2110.0, 0.0, 47.3878, -122.153, 2110.0, 4044.0, 25.0, 0.0, 0.0]</td>\n",
       "      <td>[338357.88]</td>\n",
       "      <td>0</td>\n",
       "    </tr>\n",
       "    <tr>\n",
       "      <th>19</th>\n",
       "      <td>2023-04-26 14:28:58.582</td>\n",
       "      <td>[4.0, 2.25, 2200.0, 11250.0, 1.5, 0.0, 0.0, 5.0, 7.0, 1300.0, 900.0, 47.6845, -122.201, 2320.0, 10814.0, 94.0, 0.0, 0.0]</td>\n",
       "      <td>[682284.6]</td>\n",
       "      <td>0</td>\n",
       "    </tr>\n",
       "  </tbody>\n",
       "</table>\n",
       "</div>"
      ],
      "text/plain": [
       "                      time  \\\n",
       "0  2023-04-26 14:28:58.582   \n",
       "1  2023-04-26 14:28:58.582   \n",
       "2  2023-04-26 14:28:58.582   \n",
       "3  2023-04-26 14:28:58.582   \n",
       "4  2023-04-26 14:28:58.582   \n",
       "5  2023-04-26 14:28:58.582   \n",
       "6  2023-04-26 14:28:58.582   \n",
       "7  2023-04-26 14:28:58.582   \n",
       "8  2023-04-26 14:28:58.582   \n",
       "9  2023-04-26 14:28:58.582   \n",
       "10 2023-04-26 14:28:58.582   \n",
       "11 2023-04-26 14:28:58.582   \n",
       "12 2023-04-26 14:28:58.582   \n",
       "13 2023-04-26 14:28:58.582   \n",
       "14 2023-04-26 14:28:58.582   \n",
       "15 2023-04-26 14:28:58.582   \n",
       "16 2023-04-26 14:28:58.582   \n",
       "17 2023-04-26 14:28:58.582   \n",
       "18 2023-04-26 14:28:58.582   \n",
       "19 2023-04-26 14:28:58.582   \n",
       "\n",
       "                                                                                                                   in.tensor  \\\n",
       "0         [4.0, 2.5, 2900.0, 5505.0, 2.0, 0.0, 0.0, 3.0, 8.0, 2900.0, 0.0, 47.6063, -122.02, 2970.0, 5251.0, 12.0, 0.0, 0.0]   \n",
       "1         [2.0, 2.5, 2170.0, 6361.0, 1.0, 0.0, 2.0, 3.0, 8.0, 2170.0, 0.0, 47.7109, -122.017, 2310.0, 7419.0, 6.0, 0.0, 0.0]   \n",
       "2          [3.0, 2.5, 1300.0, 812.0, 2.0, 0.0, 0.0, 3.0, 8.0, 880.0, 420.0, 47.5893, -122.317, 1300.0, 824.0, 6.0, 0.0, 0.0]   \n",
       "3        [4.0, 2.5, 2500.0, 8540.0, 2.0, 0.0, 0.0, 3.0, 9.0, 2500.0, 0.0, 47.5759, -121.994, 2560.0, 8475.0, 24.0, 0.0, 0.0]   \n",
       "4      [3.0, 1.75, 2200.0, 11520.0, 1.0, 0.0, 0.0, 4.0, 7.0, 2200.0, 0.0, 47.7659, -122.341, 1690.0, 8038.0, 62.0, 0.0, 0.0]   \n",
       "5     [3.0, 2.0, 2140.0, 4923.0, 1.0, 0.0, 0.0, 4.0, 8.0, 1070.0, 1070.0, 47.6902, -122.339, 1470.0, 4923.0, 86.0, 0.0, 0.0]   \n",
       "6       [4.0, 3.5, 3590.0, 5334.0, 2.0, 0.0, 2.0, 3.0, 9.0, 3140.0, 450.0, 47.6763, -122.267, 2100.0, 6250.0, 9.0, 0.0, 0.0]   \n",
       "7         [3.0, 2.0, 1280.0, 960.0, 2.0, 0.0, 0.0, 3.0, 9.0, 1040.0, 240.0, 47.602, -122.311, 1280.0, 1173.0, 0.0, 0.0, 0.0]   \n",
       "8      [4.0, 2.5, 2820.0, 15000.0, 2.0, 0.0, 0.0, 4.0, 9.0, 2820.0, 0.0, 47.7255, -122.101, 2440.0, 15000.0, 29.0, 0.0, 0.0]   \n",
       "9     [3.0, 2.25, 1790.0, 11393.0, 1.0, 0.0, 0.0, 3.0, 8.0, 1790.0, 0.0, 47.6297, -122.099, 2290.0, 11894.0, 36.0, 0.0, 0.0]   \n",
       "10         [3.0, 1.5, 1010.0, 7683.0, 1.5, 0.0, 0.0, 5.0, 7.0, 1010.0, 0.0, 47.72, -122.318, 1550.0, 7271.0, 61.0, 0.0, 0.0]   \n",
       "11        [3.0, 2.0, 1270.0, 1323.0, 3.0, 0.0, 0.0, 3.0, 8.0, 1270.0, 0.0, 47.6934, -122.342, 1330.0, 1323.0, 8.0, 0.0, 0.0]   \n",
       "12    [4.0, 1.75, 2070.0, 9120.0, 1.0, 0.0, 0.0, 4.0, 7.0, 1250.0, 820.0, 47.6045, -122.123, 1650.0, 8400.0, 57.0, 0.0, 0.0]   \n",
       "13       [4.0, 1.0, 1620.0, 4080.0, 1.5, 0.0, 0.0, 3.0, 7.0, 1620.0, 0.0, 47.6696, -122.324, 1760.0, 4080.0, 91.0, 0.0, 0.0]   \n",
       "14      [4.0, 3.25, 3990.0, 9786.0, 2.0, 0.0, 0.0, 3.0, 9.0, 3990.0, 0.0, 47.6784, -122.026, 3920.0, 8200.0, 10.0, 0.0, 0.0]   \n",
       "15     [4.0, 2.0, 1780.0, 19843.0, 1.0, 0.0, 0.0, 3.0, 7.0, 1780.0, 0.0, 47.4414, -122.154, 2210.0, 13500.0, 52.0, 0.0, 0.0]   \n",
       "16        [4.0, 2.5, 2130.0, 6003.0, 2.0, 0.0, 0.0, 3.0, 8.0, 2130.0, 0.0, 47.4518, -122.12, 1940.0, 4529.0, 11.0, 0.0, 0.0]   \n",
       "17   [3.0, 1.75, 1660.0, 10440.0, 1.0, 0.0, 0.0, 3.0, 7.0, 1040.0, 620.0, 47.4448, -121.77, 1240.0, 10380.0, 36.0, 0.0, 0.0]   \n",
       "18       [3.0, 2.5, 2110.0, 4118.0, 2.0, 0.0, 0.0, 3.0, 8.0, 2110.0, 0.0, 47.3878, -122.153, 2110.0, 4044.0, 25.0, 0.0, 0.0]   \n",
       "19  [4.0, 2.25, 2200.0, 11250.0, 1.5, 0.0, 0.0, 5.0, 7.0, 1300.0, 900.0, 47.6845, -122.201, 2320.0, 10814.0, 94.0, 0.0, 0.0]   \n",
       "\n",
       "   out.variable  check_failures  \n",
       "0   [718013.75]               0  \n",
       "1   [615094.56]               0  \n",
       "2   [448627.72]               0  \n",
       "3    [758714.2]               0  \n",
       "4    [513264.7]               0  \n",
       "5    [668288.0]               0  \n",
       "6   [1004846.5]               0  \n",
       "7    [684577.2]               0  \n",
       "8    [727898.1]               0  \n",
       "9    [559631.1]               0  \n",
       "10  [340764.53]               0  \n",
       "11  [442168.06]               0  \n",
       "12   [630865.6]               0  \n",
       "13   [559631.1]               0  \n",
       "14   [909441.1]               0  \n",
       "15   [313096.0]               0  \n",
       "16   [404040.8]               0  \n",
       "17   [292859.5]               0  \n",
       "18  [338357.88]               0  \n",
       "19   [682284.6]               0  "
      ]
     },
     "metadata": {},
     "output_type": "display_data"
    }
   ],
   "source": [
    "control_model_start = datetime.datetime.now()\n",
    "batch_inferences = mainpipeline.infer_from_file('./data/xtest-1k.arrow')\n",
    "\n",
    "large_inference_result =  batch_inferences.to_pandas()\n",
    "display(large_inference_result.head(20))"
   ]
  },
  {
   "attachments": {},
   "cell_type": "markdown",
   "metadata": {},
   "source": [
    "### Graph of Prices\n",
    "\n",
    "Here's a distribution plot of the inferences to view the values, with the X axis being the house price in millions, and the Y axis the number of houses fitting in a bin grouping.  The majority of houses are in the $250,000 to $500,000 range, with some outliers in the far end."
   ]
  },
  {
   "cell_type": "code",
   "execution_count": 171,
   "metadata": {},
   "outputs": [
    {
     "data": {
      "image/png": "[encoded data removed]",
      "text/plain": [
       "<Figure size 1200x800 with 1 Axes>"
      ]
     },
     "metadata": {},
     "output_type": "display_data"
    }
   ],
   "source": [
    "import matplotlib.pyplot as plt\n",
    "houseprices = pd.DataFrame({'sell_price': large_inference_result['out.variable'].apply(lambda x: x[0])})\n",
    "\n",
    "houseprices.hist(column='sell_price', bins=75, grid=False, figsize=(12,8))\n",
    "plt.axvline(x=40, color='gray', ls='--')\n",
    "_ = plt.title('Distribution of predicted home sales price')\n",
    "control_model_end = datetime.datetime.now()"
   ]
  },
  {
   "attachments": {},
   "cell_type": "markdown",
   "metadata": {},
   "source": [
    "### Pipeline Logs\n",
    "\n",
    "Pipeline logs with standard pipeline steps are retrieved either with:\n",
    "\n",
    "* Pipeline `logs` which returns either a pandas DataFrame or Apache Arrow table.\n",
    "* Pipeline `export_logs` which saves the logs either a pandas DataFrame JSON file or Apache Arrow table.\n",
    "\n",
    "For full details, see the Wallaroo Documentation Pipeline Log Management guide."
   ]
  },
  {
   "attachments": {},
   "cell_type": "markdown",
   "metadata": {},
   "source": [
    "#### Pipeline Log Methods\n",
    "\n",
    "The Pipeline `logs` method accepts the following parameters.\n",
    "\n",
    "| `limit` | **Int** (*Optional*) | Limits how many log records to display.  Defaults to `100`.  If there are more pipeline logs than are being displayed, the **Warning** message `Pipeline log record limit exceeded` will be displayed.  For example, if 100 log files were requested and there are a total of 1,000, the warning message will be displayed. |\n",
    "| `stastart_datetimert` and `end_datetime` | **DateTime** (*Optional*) | Limits logs to all logs between the `start_datetime` and `end_datetime` DateTime parameters.  **Both parameters must be provided**. Submitting a `logs()` request with only `start_datetime` or `end_datetime` will generate an exception.<br />If `start_datetime` and `end_datetime` are provided as parameters, then the records are returned in **chronological** order, with the oldest record displayed first. |\n",
    "| `arrow` | **Boolean** (*Optional*) | Defaults to **False**.  If `arrow` is set to `True`, then the logs are returned as an [Apache Arrow table](https://arrow.apache.org/).  If `arrow=False`, then the logs are returned as a pandas DataFrame. |\n",
    "\n",
    "The following examples demonstrate displaying the logs, then displaying the logs between the `control_model_start` and `control_model_end` periods, then again retrieved as an Arrow table."
   ]
  },
  {
   "cell_type": "code",
   "execution_count": 172,
   "metadata": {},
   "outputs": [
    {
     "name": "stderr",
     "output_type": "stream",
     "text": [
      "Warning: There are more logs available. Please set a larger limit or request a file using export_logs."
     ]
    },
    {
     "data": {
      "text/html": [
       "<div>\n",
       "<style scoped>\n",
       "    .dataframe tbody tr th:only-of-type {\n",
       "        vertical-align: middle;\n",
       "    }\n",
       "\n",
       "    .dataframe tbody tr th {\n",
       "        vertical-align: top;\n",
       "    }\n",
       "\n",
       "    .dataframe thead th {\n",
       "        text-align: right;\n",
       "    }\n",
       "</style>\n",
       "<table border=\"1\" class=\"dataframe\">\n",
       "  <thead>\n",
       "    <tr style=\"text-align: right;\">\n",
       "      <th></th>\n",
       "      <th>time</th>\n",
       "      <th>in.tensor</th>\n",
       "      <th>out.variable</th>\n",
       "      <th>check_failures</th>\n",
       "    </tr>\n",
       "  </thead>\n",
       "  <tbody>\n",
       "    <tr>\n",
       "      <th>0</th>\n",
       "      <td>2023-04-26 14:28:58.582</td>\n",
       "      <td>[3.0, 2.5, 1700.0, 7496.0, 2.0, 0.0, 0.0, 3.0, 8.0, 1700.0, 0.0, 47.432, -122.189, 2280.0, 7496.0, 20.0, 0.0, 0.0]</td>\n",
       "      <td>[310992.97]</td>\n",
       "      <td>0</td>\n",
       "    </tr>\n",
       "    <tr>\n",
       "      <th>1</th>\n",
       "      <td>2023-04-26 14:28:58.582</td>\n",
       "      <td>[4.0, 1.75, 2710.0, 11400.0, 1.0, 0.0, 0.0, 4.0, 9.0, 1430.0, 1280.0, 47.561, -122.153, 2640.0, 11000.0, 38.0, 0.0, 0.0]</td>\n",
       "      <td>[772048.0]</td>\n",
       "      <td>0</td>\n",
       "    </tr>\n",
       "    <tr>\n",
       "      <th>2</th>\n",
       "      <td>2023-04-26 14:28:58.582</td>\n",
       "      <td>[3.0, 3.5, 2760.0, 4500.0, 2.0, 0.0, 0.0, 3.0, 9.0, 2120.0, 640.0, 47.6529, -122.372, 1950.0, 6000.0, 10.0, 0.0, 0.0]</td>\n",
       "      <td>[798188.94]</td>\n",
       "      <td>0</td>\n",
       "    </tr>\n",
       "    <tr>\n",
       "      <th>3</th>\n",
       "      <td>2023-04-26 14:28:58.582</td>\n",
       "      <td>[2.0, 1.0, 1120.0, 9912.0, 1.0, 0.0, 0.0, 4.0, 6.0, 1120.0, 0.0, 47.3735, -122.43, 1540.0, 9750.0, 34.0, 0.0, 0.0]</td>\n",
       "      <td>[309800.75]</td>\n",
       "      <td>0</td>\n",
       "    </tr>\n",
       "    <tr>\n",
       "      <th>4</th>\n",
       "      <td>2023-04-26 14:28:58.582</td>\n",
       "      <td>[4.0, 2.5, 2800.0, 246114.0, 2.0, 0.0, 0.0, 3.0, 9.0, 2800.0, 0.0, 47.6586, -121.962, 2750.0, 60351.0, 15.0, 0.0, 0.0]</td>\n",
       "      <td>[765468.75]</td>\n",
       "      <td>0</td>\n",
       "    </tr>\n",
       "    <tr>\n",
       "      <th>...</th>\n",
       "      <td>...</td>\n",
       "      <td>...</td>\n",
       "      <td>...</td>\n",
       "      <td>...</td>\n",
       "    </tr>\n",
       "    <tr>\n",
       "      <th>95</th>\n",
       "      <td>2023-04-26 14:28:58.582</td>\n",
       "      <td>[4.0, 2.5, 2990.0, 6037.0, 2.0, 0.0, 0.0, 3.0, 9.0, 2990.0, 0.0, 47.4766, -121.735, 2990.0, 5992.0, 2.0, 0.0, 0.0]</td>\n",
       "      <td>[524275.53]</td>\n",
       "      <td>0</td>\n",
       "    </tr>\n",
       "    <tr>\n",
       "      <th>96</th>\n",
       "      <td>2023-04-26 14:28:58.582</td>\n",
       "      <td>[3.0, 2.25, 2780.0, 6000.0, 1.0, 0.0, 3.0, 4.0, 9.0, 1670.0, 1110.0, 47.6442, -122.406, 2780.0, 6000.0, 66.0, 0.0, 0.0]</td>\n",
       "      <td>[998351.2]</td>\n",
       "      <td>0</td>\n",
       "    </tr>\n",
       "    <tr>\n",
       "      <th>97</th>\n",
       "      <td>2023-04-26 14:28:58.582</td>\n",
       "      <td>[4.0, 1.75, 1920.0, 7500.0, 1.0, 0.0, 0.0, 4.0, 7.0, 1920.0, 0.0, 47.4222, -122.318, 1490.0, 8000.0, 52.0, 0.0, 0.0]</td>\n",
       "      <td>[303936.84]</td>\n",
       "      <td>0</td>\n",
       "    </tr>\n",
       "    <tr>\n",
       "      <th>98</th>\n",
       "      <td>2023-04-26 14:28:58.582</td>\n",
       "      <td>[2.0, 1.5, 1670.0, 9880.0, 1.0, 0.0, 0.0, 4.0, 7.0, 1670.0, 0.0, 47.4864, -122.348, 1670.0, 9807.0, 73.0, 1.0, 22.0]</td>\n",
       "      <td>[299854.8]</td>\n",
       "      <td>0</td>\n",
       "    </tr>\n",
       "    <tr>\n",
       "      <th>99</th>\n",
       "      <td>2023-04-26 14:28:58.582</td>\n",
       "      <td>[3.0, 2.0, 2080.0, 11375.0, 1.0, 0.0, 0.0, 3.0, 8.0, 2080.0, 0.0, 47.214, -121.993, 1080.0, 12899.0, 12.0, 0.0, 0.0]</td>\n",
       "      <td>[337248.38]</td>\n",
       "      <td>0</td>\n",
       "    </tr>\n",
       "  </tbody>\n",
       "</table>\n",
       "<p>100 rows × 4 columns</p>\n",
       "</div>"
      ],
      "text/plain": [
       "                      time  \\\n",
       "0  2023-04-26 14:28:58.582   \n",
       "1  2023-04-26 14:28:58.582   \n",
       "2  2023-04-26 14:28:58.582   \n",
       "3  2023-04-26 14:28:58.582   \n",
       "4  2023-04-26 14:28:58.582   \n",
       "..                     ...   \n",
       "95 2023-04-26 14:28:58.582   \n",
       "96 2023-04-26 14:28:58.582   \n",
       "97 2023-04-26 14:28:58.582   \n",
       "98 2023-04-26 14:28:58.582   \n",
       "99 2023-04-26 14:28:58.582   \n",
       "\n",
       "                                                                                                                   in.tensor  \\\n",
       "0         [3.0, 2.5, 1700.0, 7496.0, 2.0, 0.0, 0.0, 3.0, 8.0, 1700.0, 0.0, 47.432, -122.189, 2280.0, 7496.0, 20.0, 0.0, 0.0]   \n",
       "1   [4.0, 1.75, 2710.0, 11400.0, 1.0, 0.0, 0.0, 4.0, 9.0, 1430.0, 1280.0, 47.561, -122.153, 2640.0, 11000.0, 38.0, 0.0, 0.0]   \n",
       "2      [3.0, 3.5, 2760.0, 4500.0, 2.0, 0.0, 0.0, 3.0, 9.0, 2120.0, 640.0, 47.6529, -122.372, 1950.0, 6000.0, 10.0, 0.0, 0.0]   \n",
       "3         [2.0, 1.0, 1120.0, 9912.0, 1.0, 0.0, 0.0, 4.0, 6.0, 1120.0, 0.0, 47.3735, -122.43, 1540.0, 9750.0, 34.0, 0.0, 0.0]   \n",
       "4     [4.0, 2.5, 2800.0, 246114.0, 2.0, 0.0, 0.0, 3.0, 9.0, 2800.0, 0.0, 47.6586, -121.962, 2750.0, 60351.0, 15.0, 0.0, 0.0]   \n",
       "..                                                                                                                       ...   \n",
       "95        [4.0, 2.5, 2990.0, 6037.0, 2.0, 0.0, 0.0, 3.0, 9.0, 2990.0, 0.0, 47.4766, -121.735, 2990.0, 5992.0, 2.0, 0.0, 0.0]   \n",
       "96   [3.0, 2.25, 2780.0, 6000.0, 1.0, 0.0, 3.0, 4.0, 9.0, 1670.0, 1110.0, 47.6442, -122.406, 2780.0, 6000.0, 66.0, 0.0, 0.0]   \n",
       "97      [4.0, 1.75, 1920.0, 7500.0, 1.0, 0.0, 0.0, 4.0, 7.0, 1920.0, 0.0, 47.4222, -122.318, 1490.0, 8000.0, 52.0, 0.0, 0.0]   \n",
       "98      [2.0, 1.5, 1670.0, 9880.0, 1.0, 0.0, 0.0, 4.0, 7.0, 1670.0, 0.0, 47.4864, -122.348, 1670.0, 9807.0, 73.0, 1.0, 22.0]   \n",
       "99      [3.0, 2.0, 2080.0, 11375.0, 1.0, 0.0, 0.0, 3.0, 8.0, 2080.0, 0.0, 47.214, -121.993, 1080.0, 12899.0, 12.0, 0.0, 0.0]   \n",
       "\n",
       "   out.variable  check_failures  \n",
       "0   [310992.97]               0  \n",
       "1    [772048.0]               0  \n",
       "2   [798188.94]               0  \n",
       "3   [309800.75]               0  \n",
       "4   [765468.75]               0  \n",
       "..          ...             ...  \n",
       "95  [524275.53]               0  \n",
       "96   [998351.2]               0  \n",
       "97  [303936.84]               0  \n",
       "98   [299854.8]               0  \n",
       "99  [337248.38]               0  \n",
       "\n",
       "[100 rows x 4 columns]"
      ]
     },
     "metadata": {},
     "output_type": "display_data"
    },
    {
     "name": "stderr",
     "output_type": "stream",
     "text": [
      "Warning: Pipeline log size limit exceeded. Only displaying 509 log messages. Please request a file using export_logs."
     ]
    },
    {
     "data": {
      "text/html": [
       "<div>\n",
       "<style scoped>\n",
       "    .dataframe tbody tr th:only-of-type {\n",
       "        vertical-align: middle;\n",
       "    }\n",
       "\n",
       "    .dataframe tbody tr th {\n",
       "        vertical-align: top;\n",
       "    }\n",
       "\n",
       "    .dataframe thead th {\n",
       "        text-align: right;\n",
       "    }\n",
       "</style>\n",
       "<table border=\"1\" class=\"dataframe\">\n",
       "  <thead>\n",
       "    <tr style=\"text-align: right;\">\n",
       "      <th></th>\n",
       "      <th>time</th>\n",
       "      <th>in.tensor</th>\n",
       "      <th>out.variable</th>\n",
       "      <th>check_failures</th>\n",
       "    </tr>\n",
       "  </thead>\n",
       "  <tbody>\n",
       "    <tr>\n",
       "      <th>0</th>\n",
       "      <td>2023-04-26 14:28:58.582</td>\n",
       "      <td>[4.0, 2.5, 2900.0, 5505.0, 2.0, 0.0, 0.0, 3.0, 8.0, 2900.0, 0.0, 47.6063, -122.02, 2970.0, 5251.0, 12.0, 0.0, 0.0]</td>\n",
       "      <td>[718013.75]</td>\n",
       "      <td>0</td>\n",
       "    </tr>\n",
       "    <tr>\n",
       "      <th>1</th>\n",
       "      <td>2023-04-26 14:28:58.582</td>\n",
       "      <td>[2.0, 2.5, 2170.0, 6361.0, 1.0, 0.0, 2.0, 3.0, 8.0, 2170.0, 0.0, 47.7109, -122.017, 2310.0, 7419.0, 6.0, 0.0, 0.0]</td>\n",
       "      <td>[615094.56]</td>\n",
       "      <td>0</td>\n",
       "    </tr>\n",
       "    <tr>\n",
       "      <th>2</th>\n",
       "      <td>2023-04-26 14:28:58.582</td>\n",
       "      <td>[3.0, 2.5, 1300.0, 812.0, 2.0, 0.0, 0.0, 3.0, 8.0, 880.0, 420.0, 47.5893, -122.317, 1300.0, 824.0, 6.0, 0.0, 0.0]</td>\n",
       "      <td>[448627.72]</td>\n",
       "      <td>0</td>\n",
       "    </tr>\n",
       "    <tr>\n",
       "      <th>3</th>\n",
       "      <td>2023-04-26 14:28:58.582</td>\n",
       "      <td>[4.0, 2.5, 2500.0, 8540.0, 2.0, 0.0, 0.0, 3.0, 9.0, 2500.0, 0.0, 47.5759, -121.994, 2560.0, 8475.0, 24.0, 0.0, 0.0]</td>\n",
       "      <td>[758714.2]</td>\n",
       "      <td>0</td>\n",
       "    </tr>\n",
       "    <tr>\n",
       "      <th>4</th>\n",
       "      <td>2023-04-26 14:28:58.582</td>\n",
       "      <td>[3.0, 1.75, 2200.0, 11520.0, 1.0, 0.0, 0.0, 4.0, 7.0, 2200.0, 0.0, 47.7659, -122.341, 1690.0, 8038.0, 62.0, 0.0, 0.0]</td>\n",
       "      <td>[513264.7]</td>\n",
       "      <td>0</td>\n",
       "    </tr>\n",
       "    <tr>\n",
       "      <th>...</th>\n",
       "      <td>...</td>\n",
       "      <td>...</td>\n",
       "      <td>...</td>\n",
       "      <td>...</td>\n",
       "    </tr>\n",
       "    <tr>\n",
       "      <th>504</th>\n",
       "      <td>2023-04-26 14:28:58.582</td>\n",
       "      <td>[4.0, 2.5, 2800.0, 246114.0, 2.0, 0.0, 0.0, 3.0, 9.0, 2800.0, 0.0, 47.6586, -121.962, 2750.0, 60351.0, 15.0, 0.0, 0.0]</td>\n",
       "      <td>[765468.75]</td>\n",
       "      <td>0</td>\n",
       "    </tr>\n",
       "    <tr>\n",
       "      <th>505</th>\n",
       "      <td>2023-04-26 14:28:58.582</td>\n",
       "      <td>[2.0, 1.0, 1120.0, 9912.0, 1.0, 0.0, 0.0, 4.0, 6.0, 1120.0, 0.0, 47.3735, -122.43, 1540.0, 9750.0, 34.0, 0.0, 0.0]</td>\n",
       "      <td>[309800.75]</td>\n",
       "      <td>0</td>\n",
       "    </tr>\n",
       "    <tr>\n",
       "      <th>506</th>\n",
       "      <td>2023-04-26 14:28:58.582</td>\n",
       "      <td>[3.0, 3.5, 2760.0, 4500.0, 2.0, 0.0, 0.0, 3.0, 9.0, 2120.0, 640.0, 47.6529, -122.372, 1950.0, 6000.0, 10.0, 0.0, 0.0]</td>\n",
       "      <td>[798188.94]</td>\n",
       "      <td>0</td>\n",
       "    </tr>\n",
       "    <tr>\n",
       "      <th>507</th>\n",
       "      <td>2023-04-26 14:28:58.582</td>\n",
       "      <td>[4.0, 1.75, 2710.0, 11400.0, 1.0, 0.0, 0.0, 4.0, 9.0, 1430.0, 1280.0, 47.561, -122.153, 2640.0, 11000.0, 38.0, 0.0, 0.0]</td>\n",
       "      <td>[772048.0]</td>\n",
       "      <td>0</td>\n",
       "    </tr>\n",
       "    <tr>\n",
       "      <th>508</th>\n",
       "      <td>2023-04-26 14:28:58.582</td>\n",
       "      <td>[3.0, 2.5, 1700.0, 7496.0, 2.0, 0.0, 0.0, 3.0, 8.0, 1700.0, 0.0, 47.432, -122.189, 2280.0, 7496.0, 20.0, 0.0, 0.0]</td>\n",
       "      <td>[310992.97]</td>\n",
       "      <td>0</td>\n",
       "    </tr>\n",
       "  </tbody>\n",
       "</table>\n",
       "<p>509 rows × 4 columns</p>\n",
       "</div>"
      ],
      "text/plain": [
       "                       time  \\\n",
       "0   2023-04-26 14:28:58.582   \n",
       "1   2023-04-26 14:28:58.582   \n",
       "2   2023-04-26 14:28:58.582   \n",
       "3   2023-04-26 14:28:58.582   \n",
       "4   2023-04-26 14:28:58.582   \n",
       "..                      ...   \n",
       "504 2023-04-26 14:28:58.582   \n",
       "505 2023-04-26 14:28:58.582   \n",
       "506 2023-04-26 14:28:58.582   \n",
       "507 2023-04-26 14:28:58.582   \n",
       "508 2023-04-26 14:28:58.582   \n",
       "\n",
       "                                                                                                                    in.tensor  \\\n",
       "0          [4.0, 2.5, 2900.0, 5505.0, 2.0, 0.0, 0.0, 3.0, 8.0, 2900.0, 0.0, 47.6063, -122.02, 2970.0, 5251.0, 12.0, 0.0, 0.0]   \n",
       "1          [2.0, 2.5, 2170.0, 6361.0, 1.0, 0.0, 2.0, 3.0, 8.0, 2170.0, 0.0, 47.7109, -122.017, 2310.0, 7419.0, 6.0, 0.0, 0.0]   \n",
       "2           [3.0, 2.5, 1300.0, 812.0, 2.0, 0.0, 0.0, 3.0, 8.0, 880.0, 420.0, 47.5893, -122.317, 1300.0, 824.0, 6.0, 0.0, 0.0]   \n",
       "3         [4.0, 2.5, 2500.0, 8540.0, 2.0, 0.0, 0.0, 3.0, 9.0, 2500.0, 0.0, 47.5759, -121.994, 2560.0, 8475.0, 24.0, 0.0, 0.0]   \n",
       "4       [3.0, 1.75, 2200.0, 11520.0, 1.0, 0.0, 0.0, 4.0, 7.0, 2200.0, 0.0, 47.7659, -122.341, 1690.0, 8038.0, 62.0, 0.0, 0.0]   \n",
       "..                                                                                                                        ...   \n",
       "504    [4.0, 2.5, 2800.0, 246114.0, 2.0, 0.0, 0.0, 3.0, 9.0, 2800.0, 0.0, 47.6586, -121.962, 2750.0, 60351.0, 15.0, 0.0, 0.0]   \n",
       "505        [2.0, 1.0, 1120.0, 9912.0, 1.0, 0.0, 0.0, 4.0, 6.0, 1120.0, 0.0, 47.3735, -122.43, 1540.0, 9750.0, 34.0, 0.0, 0.0]   \n",
       "506     [3.0, 3.5, 2760.0, 4500.0, 2.0, 0.0, 0.0, 3.0, 9.0, 2120.0, 640.0, 47.6529, -122.372, 1950.0, 6000.0, 10.0, 0.0, 0.0]   \n",
       "507  [4.0, 1.75, 2710.0, 11400.0, 1.0, 0.0, 0.0, 4.0, 9.0, 1430.0, 1280.0, 47.561, -122.153, 2640.0, 11000.0, 38.0, 0.0, 0.0]   \n",
       "508        [3.0, 2.5, 1700.0, 7496.0, 2.0, 0.0, 0.0, 3.0, 8.0, 1700.0, 0.0, 47.432, -122.189, 2280.0, 7496.0, 20.0, 0.0, 0.0]   \n",
       "\n",
       "    out.variable  check_failures  \n",
       "0    [718013.75]               0  \n",
       "1    [615094.56]               0  \n",
       "2    [448627.72]               0  \n",
       "3     [758714.2]               0  \n",
       "4     [513264.7]               0  \n",
       "..           ...             ...  \n",
       "504  [765468.75]               0  \n",
       "505  [309800.75]               0  \n",
       "506  [798188.94]               0  \n",
       "507   [772048.0]               0  \n",
       "508  [310992.97]               0  \n",
       "\n",
       "[509 rows x 4 columns]"
      ]
     },
     "metadata": {},
     "output_type": "display_data"
    },
    {
     "name": "stderr",
     "output_type": "stream",
     "text": [
      "Warning: There are more logs available. Please set a larger limit or request a file using export_logs."
     ]
    },
    {
     "data": {
      "text/plain": [
       "pyarrow.Table\n",
       "time: timestamp[ms]\n",
       "in.tensor: list<item: float> not null\n",
       "  child 0, item: float\n",
       "out.variable: list<inner: float not null> not null\n",
       "  child 0, inner: float not null\n",
       "check_failures: int8\n",
       "----\n",
       "time: [[2023-04-26 14:28:58.582,2023-04-26 14:28:58.582,2023-04-26 14:28:58.582,2023-04-26 14:28:58.582,2023-04-26 14:28:58.582]]\n",
       "in.tensor: [[[3,2,2005,7000,1,...,1750,4500,34,0,0],[3,1.75,2910,37461,1,...,2520,18295,47,0,0],...,[4,1.75,2700,7875,1.5,...,2220,7875,46,0,0],[3,2.5,2900,23550,1,...,2900,19604,27,0,0]]]\n",
       "out.variable: [[[581003],[706823.56],...,[441960.38],[827411]]]\n",
       "check_failures: [[0,0,0,0,0]]"
      ]
     },
     "metadata": {},
     "output_type": "display_data"
    }
   ],
   "source": [
    "# pipeline log retrieval - reverse chronological order\n",
    "\n",
    "display(mainpipeline.logs())\n",
    "\n",
    "# pipeline log retrieval between two dates - chronological order\n",
    "\n",
    "display(mainpipeline.logs(start_datetime=control_model_start, end_datetime=control_model_end))\n",
    "\n",
    "# pipeline log retrieval limited to the last 5 an an arrow table\n",
    "\n",
    "display(mainpipeline.logs(limit=5, arrow=True))"
   ]
  },
  {
   "attachments": {},
   "cell_type": "markdown",
   "metadata": {},
   "source": [
    "## Assays\n",
    "\n",
    "Create a baseline\n",
    "\n",
    "Display assay results over the last whatever\n",
    "\n",
    "get some charts\n",
    "\n"
   ]
  },
  {
   "cell_type": "code",
   "execution_count": 195,
   "metadata": {},
   "outputs": [],
   "source": [
    "small_houses_inputs = pd.read_json('./data/smallinputs.df.json')\n",
    "\n",
    "baseline_start = datetime.datetime.now()\n",
    "\n",
    "# # These inputs will be random samples of small priced houses\n",
    "small_houses_30k = small_houses_inputs.sample(30000, replace=True).reset_index(drop=True)\n",
    "\n",
    "\n",
    "mainpipeline.infer(small_houses_30k)\n",
    "# giving enough time for the assay logs to settle with a 1 minute window\n",
    "time.sleep(30)\n",
    "\n",
    "# # display(small_houses_30k.head(10))\n",
    "# # \n",
    "# count = 0\n",
    "# for index, row in small_houses_30k.head(1000).iterrows():\n",
    "#     mainpipeline.infer(row.to_frame('tensor').reset_index(drop=True))\n",
    "#     count = count + 1\n",
    "#     if count % 100 == 0:\n",
    "#         display(count)\n",
    "\n",
    "# display(mainpipeline.logs(limit=5))\n",
    "\n",
    "baseline_end = datetime.datetime.now()\n",
    "\n",
    "assay_name=\"small houses test\"\n",
    "\n",
    "assay_builder = wl.build_assay(assay_name, mainpipeline, model_name_control, baseline_start, baseline_end\n",
    "                               ).add_iopath(\"output variable 0\")"
   ]
  },
  {
   "cell_type": "code",
   "execution_count": 196,
   "metadata": {},
   "outputs": [],
   "source": [
    "# assay_name=\"first test3\"\n",
    "\n",
    "# assay_builder = wl.build_assay(assay_name, mainpipeline, model_name_control, control_model_start, control_model_end\n",
    "#                                ).add_iopath(\"output variable 0\")"
   ]
  },
  {
   "cell_type": "code",
   "execution_count": 197,
   "metadata": {},
   "outputs": [],
   "source": [
    "baseline_run = assay_builder.build().interactive_baseline_run()"
   ]
  },
  {
   "cell_type": "code",
   "execution_count": 198,
   "metadata": {},
   "outputs": [
    {
     "data": {
      "text/html": [
       "<div>\n",
       "<style scoped>\n",
       "    .dataframe tbody tr th:only-of-type {\n",
       "        vertical-align: middle;\n",
       "    }\n",
       "\n",
       "    .dataframe tbody tr th {\n",
       "        vertical-align: top;\n",
       "    }\n",
       "\n",
       "    .dataframe thead th {\n",
       "        text-align: right;\n",
       "    }\n",
       "</style>\n",
       "<table border=\"1\" class=\"dataframe\">\n",
       "  <thead>\n",
       "    <tr style=\"text-align: right;\">\n",
       "      <th></th>\n",
       "      <th>Baseline</th>\n",
       "    </tr>\n",
       "  </thead>\n",
       "  <tbody>\n",
       "    <tr>\n",
       "      <th>count</th>\n",
       "      <td>375</td>\n",
       "    </tr>\n",
       "    <tr>\n",
       "      <th>min</th>\n",
       "      <td>236238.65625</td>\n",
       "    </tr>\n",
       "    <tr>\n",
       "      <th>max</th>\n",
       "      <td>1489624.5</td>\n",
       "    </tr>\n",
       "    <tr>\n",
       "      <th>mean</th>\n",
       "      <td>500289.626833</td>\n",
       "    </tr>\n",
       "    <tr>\n",
       "      <th>median</th>\n",
       "      <td>448627.71875</td>\n",
       "    </tr>\n",
       "    <tr>\n",
       "      <th>std</th>\n",
       "      <td>210558.441249</td>\n",
       "    </tr>\n",
       "    <tr>\n",
       "      <th>start</th>\n",
       "      <td>2023-04-26T15:14:51.202761Z</td>\n",
       "    </tr>\n",
       "    <tr>\n",
       "      <th>end</th>\n",
       "      <td>2023-04-26T15:15:24.557899Z</td>\n",
       "    </tr>\n",
       "  </tbody>\n",
       "</table>\n",
       "</div>"
      ],
      "text/plain": [
       "                           Baseline\n",
       "count                           375\n",
       "min                    236238.65625\n",
       "max                       1489624.5\n",
       "mean                  500289.626833\n",
       "median                 448627.71875\n",
       "std                   210558.441249\n",
       "start   2023-04-26T15:14:51.202761Z\n",
       "end     2023-04-26T15:15:24.557899Z"
      ]
     },
     "execution_count": 198,
     "metadata": {},
     "output_type": "execute_result"
    }
   ],
   "source": [
    "baseline_run.baseline_stats()"
   ]
  },
  {
   "cell_type": "code",
   "execution_count": 199,
   "metadata": {},
   "outputs": [],
   "source": [
    "# mainpipeline.status()"
   ]
  },
  {
   "cell_type": "code",
   "execution_count": 207,
   "metadata": {},
   "outputs": [],
   "source": [
    "# spreading the small houses vs big houses \n",
    "# The assay window shortest time period is 1 minute.  \n",
    "# So we'll generate a series of small houses at 30 second intervals,\n",
    "# Then a big house after a 2 minute interval, then generate our assays for an interactive run.\n",
    "# So total time will be 5 minutes, but until we get assays even shorter, this is the best way I know.\n",
    "\n",
    "\n",
    "\n",
    "## Now run some big houses\n",
    "\n",
    "regular_houses_inputs = pd.read_json('./data/xtest-1k.df.json', orient=\"records\")\n",
    "# mainpipeline.infer(regular_houses_inputs)\n",
    "# # display(regular_houses_inputs.head(5))\n",
    "\n",
    "big_houses_inputs = pd.read_json('./data/biginputs.df.json', orient=\"records\")\n",
    "# display(big_houses_inputs.head(5))\n",
    "# mainpipeline.infer(big_houses_inputs)\n",
    "# big_houses_inputs.to_json('./data/biginputs.df.json', orient=\"records\")\n",
    "regular_houses_30k = regular_houses_inputs.sample(30000, replace=True).reset_index(drop=True)\n",
    "big_houses_30k = big_houses_inputs.sample(30000, replace=True).reset_index(drop=True)\n",
    "\n",
    "assay_window_start = datetime.datetime.now()\n",
    "\n",
    "for x in range(5):\n",
    "    mainpipeline.infer(small_houses_30k)\n",
    "    time.sleep(30)\n",
    "\n",
    "# Now run a big house range|\n",
    "time.sleep(120)\n",
    "mainpipeline.infer(big_houses_30k)\n",
    "\n",
    "\n",
    "\n",
    "assay_window_end = datetime.datetime.now()\n",
    "\n",
    "# big_houses_30k = big_houses_inputs.sample(500, replace=True).reset_index(drop=True)\n",
    "# # mainpipeline.infer(big_houses_30k)\n",
    "# # # display(big_houses_30k.head(10))\n",
    "\n",
    "\n",
    "# # mainpipeline.infer(regular_houses_30k)\n",
    "\n",
    "\n",
    "# # # # # now add in some regular houses into the mix\n",
    "# big_houses_30k = big_houses_30k.append(regular_houses_30k)\n",
    "# # mainpipeline.infer(big_houses_30k)\n",
    "# # display(big_houses_30k.head(10))\n",
    "# # display(big_houses_30k.tail(10))\n",
    "\n",
    "# assay_window_start = datetime.datetime.now()\n",
    "# count = 0\n",
    "# for index, row in big_houses_30k.head(1000).iterrows():\n",
    "#     mainpipeline.infer(row.to_frame('tensor').reset_index(drop=True))\n",
    "#     count = count + 1\n",
    "#     if count % 100 == 0:\n",
    "#         display(count)\n",
    "\n",
    "# assay_window_end = datetime.datetime.now()"
   ]
  },
  {
   "cell_type": "code",
   "execution_count": null,
   "metadata": {},
   "outputs": [
    {
     "data": {
      "text/plain": [
       "datetime.datetime(2023, 4, 26, 9, 19, 40, 512619)"
      ]
     },
     "metadata": {},
     "output_type": "display_data"
    },
    {
     "data": {
      "text/plain": [
       "datetime.datetime(2023, 4, 26, 9, 20, 51, 989114)"
      ]
     },
     "metadata": {},
     "output_type": "display_data"
    }
   ],
   "source": [
    "# now set up our interactive assay based on the window set above.\n",
    "\n",
    "display(assay_window_start)\n",
    "display(assay_window_end)\n",
    "\n",
    "# assay_builder = wl.build_assay(assay_name, mainpipeline, model_name_control, control_model_start, control_model_end\n",
    "#                                ).add_iopath(\"output variable 0\")\n",
    "\n",
    "assay_builder = assay_builder.add_run_until(assay_window_end)\n",
    "\n",
    "\n",
    "# We don't have many records at the moment, so set the width to 1 minute\n",
    "assay_builder.window_builder().add_width(minutes=1)\n",
    "\n",
    "assay_config = assay_builder.build()\n",
    "\n",
    "assay_results = assay_config.interactive_run()\n",
    "# assay_results = assay_config.interactive_run()"
   ]
  },
  {
   "cell_type": "code",
   "execution_count": null,
   "metadata": {},
   "outputs": [
    {
     "name": "stdout",
     "output_type": "stream",
     "text": [
      "Generated 1 analyses\n"
     ]
    }
   ],
   "source": [
    "print(f\"Generated {len(assay_results)} analyses\")"
   ]
  },
  {
   "cell_type": "code",
   "execution_count": null,
   "metadata": {},
   "outputs": [
    {
     "data": {
      "image/png": "[encoded data removed]",
      "text/plain": [
       "<Figure size 640x480 with 1 Axes>"
      ]
     },
     "metadata": {},
     "output_type": "display_data"
    }
   ],
   "source": [
    "assay_results.chart_scores()"
   ]
  },
  {
   "cell_type": "code",
   "execution_count": 206,
   "metadata": {},
   "outputs": [
    {
     "data": {
      "text/html": [
       "<div>\n",
       "<style scoped>\n",
       "    .dataframe tbody tr th:only-of-type {\n",
       "        vertical-align: middle;\n",
       "    }\n",
       "\n",
       "    .dataframe tbody tr th {\n",
       "        vertical-align: top;\n",
       "    }\n",
       "\n",
       "    .dataframe thead th {\n",
       "        text-align: right;\n",
       "    }\n",
       "</style>\n",
       "<table border=\"1\" class=\"dataframe\">\n",
       "  <thead>\n",
       "    <tr style=\"text-align: right;\">\n",
       "      <th></th>\n",
       "      <th>assay_id</th>\n",
       "      <th>name</th>\n",
       "      <th>iopath</th>\n",
       "      <th>score</th>\n",
       "      <th>start</th>\n",
       "      <th>min</th>\n",
       "      <th>max</th>\n",
       "      <th>mean</th>\n",
       "      <th>median</th>\n",
       "      <th>std</th>\n",
       "      <th>warning_threshold</th>\n",
       "      <th>alert_threshold</th>\n",
       "      <th>status</th>\n",
       "    </tr>\n",
       "  </thead>\n",
       "  <tbody>\n",
       "    <tr>\n",
       "      <th>0</th>\n",
       "      <td>None</td>\n",
       "      <td></td>\n",
       "      <td>output variable 0</td>\n",
       "      <td>0.0</td>\n",
       "      <td>2023-04-26T15:19:24.557899+00:00</td>\n",
       "      <td>236238.65625</td>\n",
       "      <td>1489624.5</td>\n",
       "      <td>500289.626833</td>\n",
       "      <td>448627.71875</td>\n",
       "      <td>210558.441249</td>\n",
       "      <td>None</td>\n",
       "      <td>0.25</td>\n",
       "      <td>Ok</td>\n",
       "    </tr>\n",
       "  </tbody>\n",
       "</table>\n",
       "</div>"
      ],
      "text/plain": [
       "  assay_id name             iopath  score                             start  \\\n",
       "0     None       output variable 0    0.0  2023-04-26T15:19:24.557899+00:00   \n",
       "\n",
       "            min        max           mean        median            std  \\\n",
       "0  236238.65625  1489624.5  500289.626833  448627.71875  210558.441249   \n",
       "\n",
       "  warning_threshold  alert_threshold status  \n",
       "0              None             0.25     Ok  "
      ]
     },
     "metadata": {},
     "output_type": "display_data"
    }
   ],
   "source": [
    "display(assay_results.to_dataframe())"
   ]
  },
  {
   "attachments": {},
   "cell_type": "markdown",
   "metadata": {},
   "source": [
    "## Shadow Deploy\n",
    "\n",
    "Let's assume that after analyzing the assay information we want to test two challenger models to our control.  We do that with the Shadow Deploy pipeline step.\n",
    "\n",
    "In Shadow Deploy, the pipeline step is added with the `add_shadow_deploy` method, with the champion model listed first, then an array of challenger models after.  **All** inference data is fed to **all** models, with the champion results displayed in the `out.variable` column, and the shadow results in the format `out_{model name}.variable`.  For example, since we named our challenger models `housingchallenger01` and `housingchallenger02`, the columns `out_housingchallenger01.variable` and `out_housingchallenger02.variable` have the shadow deployed model results.\n",
    "\n",
    "For this example, we will remove the previous pipeline step, then replace it with a shadow deploy step with `rf_model.onnx` as our champion, and models `xgb_model.onnx` and `gbr_model.onnx` as the challengers.  We'll deploy the pipeline and prepare it for sample inferences."
   ]
  },
  {
   "cell_type": "code",
   "execution_count": null,
   "metadata": {},
   "outputs": [],
   "source": []
  },
  {
   "cell_type": "code",
   "execution_count": null,
   "metadata": {},
   "outputs": [],
   "source": [
    "# Upload the challenger models\n",
    "\n",
    "model_name_challenger01 = 'housingchallenger01'\n",
    "model_file_name_challenger01 = './models/xgb_model.onnx'\n",
    "\n",
    "model_name_challenger02 = 'housingchallenger02'\n",
    "model_file_name_challenger02 = './models/gbr_model.onnx'\n",
    "\n",
    "housing_model_challenger01 = wl.upload_model(model_name_challenger01, model_file_name_challenger01).configure()\n",
    "housing_model_challenger02 = wl.upload_model(model_name_challenger02, model_file_name_challenger02).configure()\n"
   ]
  },
  {
   "cell_type": "code",
   "execution_count": null,
   "metadata": {},
   "outputs": [],
   "source": [
    "# Undeploy the pipeline\n",
    "mainpipeline.undeploy()\n",
    "\n",
    "# Add the new shadow deploy step with our challenger models\n",
    "mainpipeline.replace_with_shadow_deploy(0, housing_model_control, [housing_model_challenger01, housing_model_challenger02])\n",
    "\n",
    "# Deploy the pipeline with the new shadow step\n",
    "mainpipeline.deploy()"
   ]
  },
  {
   "attachments": {},
   "cell_type": "markdown",
   "metadata": {},
   "source": [
    "### Shadow Deploy Sample Inference\n",
    "\n",
    "We'll now use our same sample data for an inference to our shadow deployed pipeline, then display the first 20 results with just the comparative outputs."
   ]
  },
  {
   "cell_type": "code",
   "execution_count": null,
   "metadata": {},
   "outputs": [],
   "source": [
    "shadow_result = mainpipeline.infer_from_file('./data/xtest-1k.arrow')\n",
    "\n",
    "shadow_outputs =  shadow_result.to_pandas()\n",
    "display(shadow_outputs.loc[0:20,['out.variable','out_housingchallenger01.variable','out_housingchallenger02.variable']])"
   ]
  },
  {
   "attachments": {},
   "cell_type": "markdown",
   "metadata": {},
   "source": [
    "### Shadow Deploy Logs\n",
    "\n",
    "Pipelines with a shadow deployed step include the shadow inference result in the same format as the inference result:  inference results from shadow deployed models are displayed as `out_{model name}.{output variable}`."
   ]
  },
  {
   "cell_type": "code",
   "execution_count": null,
   "metadata": {},
   "outputs": [],
   "source": [
    "# display logs with shadow deployed steps\n",
    "\n",
    "display(mainpipeline.logs())"
   ]
  },
  {
   "attachments": {},
   "cell_type": "markdown",
   "metadata": {},
   "source": [
    "## Model Swap\n",
    "\n",
    "Now that we've completed our testing, we can swap our deployed model in the original `housepricingpipeline` with one we feel works better.  For shadow deploy pipeline steps, this will mean removing all of the pipeline steps, then adding a new pipeline step with the `gbr_model.onnx` model.\n",
    "\n",
    "Once done, we'll perform a new inference to display results with the new model.  Note that previously, the inference through the original model returned `[718013.7]`."
   ]
  },
  {
   "cell_type": "code",
   "execution_count": null,
   "metadata": {},
   "outputs": [],
   "source": [
    "mainpipeline.undeploy()\n",
    "\n",
    "# remove the steps\n",
    "mainpipeline.remove_step(2)\n",
    "mainpipeline.remove_step(1)\n",
    "mainpipeline.remove_step(0)\n",
    "\n",
    "mainpipeline.add_model_step(housing_model_challenger02).deploy()\n"
   ]
  },
  {
   "cell_type": "code",
   "execution_count": null,
   "metadata": {},
   "outputs": [],
   "source": [
    "# inference after model swap\n",
    "\n",
    "normal_input = pd.DataFrame.from_records({\"tensor\": [[4.0, 2.5, 2900.0, 5505.0, 2.0, 0.0, 0.0, 3.0, 8.0, 2900.0, 0.0, 47.6063, -122.02, 2970.0, 5251.0, 12.0, 0.0, 0.0]]})\n",
    "result = mainpipeline.infer(normal_input)\n",
    "display(result)"
   ]
  },
  {
   "attachments": {},
   "cell_type": "markdown",
   "metadata": {},
   "source": [
    "### Undeploy Main Pipeline\n",
    "\n",
    "With the examples and tutorial complete, we will undeploy the main pipeline and return the resources back to the Wallaroo instance."
   ]
  },
  {
   "cell_type": "code",
   "execution_count": null,
   "metadata": {},
   "outputs": [],
   "source": [
    "mainpipeline.undeploy()"
   ]
  },
  {
   "cell_type": "code",
   "execution_count": null,
   "metadata": {},
   "outputs": [],
   "source": []
  }
 ],
 "metadata": {
  "kernelspec": {
   "display_name": "Python 3 (ipykernel)",
   "language": "python",
   "name": "python3"
  },
  "language_info": {
   "codemirror_mode": {
    "name": "ipython",
    "version": 3
   },
   "file_extension": ".py",
   "mimetype": "text/x-python",
   "name": "python",
   "nbconvert_exporter": "python",
   "pygments_lexer": "ipython3",
   "version": "3.9.16"
  },
  "vscode": {
   "interpreter": {
    "hash": "7dda4bf3640b7fafcd1648658b879b4cc9f6ba6084e8fb356fdaaa1a461d1690"
   }
  }
 },
 "nbformat": 4,
 "nbformat_minor": 4
}
