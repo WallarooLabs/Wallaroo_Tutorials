{
 "cells": [
  {
   "attachments": {},
   "cell_type": "markdown",
   "metadata": {},
   "source": [
    "This tutorial and the assets can be downloaded as part of the [Wallaroo Tutorials repository](https://github.com/WallarooLabs/Wallaroo_Tutorials/tree/main/wallaroo-testing-tutorials/anomaly_detection).\n",
    "\n",
    "## Anomaly Detection\n",
    "\n",
    "Wallaroo provides multiple methods of analytical analysis to verify that the data received and generated during an inference is accurate.  This tutorial will demonstrate how to use anomaly detection to track the outputs from a sample model to verify that the model is outputting acceptable results.\n",
    "\n",
    "Anomaly detection allows organizations to set validation parameters in a pipeline.  A **validation** is added to a pipeline to test data based on an expression, and flag any inferences where the validation failed to the [InferenceResult](https://docs.wallaroo.ai/wallaroo-developer-guides/wallaroo-sdk-guides/wallaroo-sdk-essentials-guide/#inferenceresult-object) object and the pipeline logs.\n",
    "\n",
    "This tutorial will follow this process in setting up a validation to a pipeline and examining the results:\n",
    "\n",
    "1. Create a workspace and upload the sample model.\n",
    "1. Establish a pipeline and add the model as a step.\n",
    "1. Add a validation to the pipeline.\n",
    "1. Perform inferences and display anomalies through the `InferenceResult` object and the pipeline log files.\n",
    "\n",
    "This tutorial provides the following:\n",
    "\n",
    "* Models:\n",
    "  * `rf_model.onnx`: The champion model that has been used in this environment for some time.\n",
    "  * `xgb_model.onnx` and `models/gbr_model.onnx`: Rival models that will be tested against the champion.\n",
    "* Data:\n",
    "  * xtest-1.df.json and xtest-1k.df.json:  DataFrame JSON inference inputs with 1 input and 1,000 inputs.\n",
    "  * xtest-1.arrow and xtest-1k.arrow:  Apache Arrow inference inputs with 1 input and 1,000 inputs.\n",
    "\n",
    "## Prerequisites\n",
    "\n",
    "* A deployed Wallaroo instance\n",
    "* The following Python libraries installed:\n",
    "  * `os`\n",
    "  * `json`\n",
    "  * [`wallaroo`](https://pypi.org/project/wallaroo/): The Wallaroo SDK. Included with the Wallaroo JupyterHub service by default.\n",
    "  * [`pandas`](https://pypi.org/project/pandas/): Pandas, mainly used for Pandas DataFrame\n",
    "  * [`polars`](https://pypi.org/project/polars/): Polars for DataFrame with native Apache Arrow support"
   ]
  },
  {
   "cell_type": "markdown",
   "metadata": {},
   "source": [
    "## Steps\n",
    "\n",
    "### Import libraries\n",
    "\n",
    "The first step is to import the libraries needed for this notebook."
   ]
  },
  {
   "cell_type": "code",
   "execution_count": 70,
   "metadata": {},
   "outputs": [],
   "source": [
    "import wallaroo\n",
    "from wallaroo.object import EntityNotFoundError\n",
    "import os\n",
    "import json\n",
    "\n",
    "from IPython.display import display\n",
    "\n",
    "# used to display dataframe information without truncating\n",
    "from IPython.display import display\n",
    "import pandas as pd\n",
    "pd.set_option('display.max_colwidth', None)\n",
    "\n",
    "import polars\n",
    "\n",
    "import os\n",
    "# For Wallaroo SDK 2023.1\n",
    "os.environ[\"ARROW_ENABLED\"]=\"True\""
   ]
  },
  {
   "cell_type": "markdown",
   "metadata": {},
   "source": [
    "### Connect to Wallaroo Instance\n",
    "\n",
    "The following command will create a connection to the Wallaroo instance and store it in the variable `wl`."
   ]
  },
  {
   "cell_type": "code",
   "execution_count": 99,
   "metadata": {},
   "outputs": [],
   "source": [
    "# Client connection from local Wallaroo instance\n",
    "\n",
    "# wl = wallaroo.Client()\n",
    "\n",
    "# SSO login through keycloak\n",
    "\n",
    "# wallarooPrefix = \"YOUR PREFIX\"\n",
    "# wallarooSuffix = \"YOUR SUFFIX\"\n",
    "\n",
    "wallarooPrefix = \"doc-test\"\n",
    "wallarooSuffix = \"wallaroocommunity.ninja\"\n",
    "\n",
    "wl = wallaroo.Client(api_endpoint=f\"https://{wallarooPrefix}.api.{wallarooSuffix}\", \n",
    "                    auth_endpoint=f\"https://{wallarooPrefix}.keycloak.{wallarooSuffix}\", \n",
    "                    auth_type=\"sso\")"
   ]
  },
  {
   "cell_type": "markdown",
   "metadata": {},
   "source": [
    "### Create Workspace\n",
    "\n",
    "We will create a workspace to manage our pipeline and models.  The following variables will set the name of our sample workspace then set it as the current workspace."
   ]
  },
  {
   "cell_type": "code",
   "execution_count": 72,
   "metadata": {},
   "outputs": [],
   "source": [
    "workspace_name = 'houseprice'\n",
    "main_pipeline_name = 'housepricepipeline'\n",
    "model_name_control = 'housingcontrol'\n",
    "model_file_name_control = './models/rf_model.onnx'\n",
    "model_name_challenger_01 = 'housingchallenger01'\n",
    "model_name_challenger_02 = 'housingchallenger02'"
   ]
  },
  {
   "cell_type": "code",
   "execution_count": 73,
   "metadata": {},
   "outputs": [],
   "source": [
    "def get_workspace(name):\n",
    "    workspace = None\n",
    "    for ws in wl.list_workspaces():\n",
    "        if ws.name() == name:\n",
    "            workspace= ws\n",
    "    if(workspace == None):\n",
    "        workspace = wl.create_workspace(name)\n",
    "    return workspace"
   ]
  },
  {
   "cell_type": "code",
   "execution_count": 74,
   "metadata": {},
   "outputs": [
    {
     "data": {
      "text/plain": [
       "{'name': 'houseprice', 'id': 24, 'archived': False, 'created_by': '56d97480-bb64-4575-acb6-f93d05652e86', 'created_at': '2023-03-29T17:26:54.314916+00:00', 'models': [{'name': 'housingcontrol', 'versions': 7, 'owner_id': '\"\"', 'last_update_time': datetime.datetime(2023, 3, 29, 19, 42, 25, 629658, tzinfo=tzutc()), 'created_at': datetime.datetime(2023, 3, 29, 17, 26, 56, 389116, tzinfo=tzutc())}, {'name': 'housingchallenger01', 'versions': 5, 'owner_id': '\"\"', 'last_update_time': datetime.datetime(2023, 3, 29, 19, 42, 46, 787792, tzinfo=tzutc()), 'created_at': datetime.datetime(2023, 3, 29, 17, 45, 39, 264722, tzinfo=tzutc())}, {'name': 'housingchallenger02', 'versions': 5, 'owner_id': '\"\"', 'last_update_time': datetime.datetime(2023, 3, 29, 19, 42, 48, 922411, tzinfo=tzutc()), 'created_at': datetime.datetime(2023, 3, 29, 17, 45, 40, 666008, tzinfo=tzutc())}], 'pipelines': [{'name': 'housepriceshadowtesting', 'create_time': datetime.datetime(2023, 3, 29, 19, 31, 26, 274598, tzinfo=tzutc()), 'definition': '[]'}, {'name': 'housepricepipeline', 'create_time': datetime.datetime(2023, 3, 29, 17, 27, 50, 527879, tzinfo=tzutc()), 'definition': '[]'}, {'name': 'housepriceabtesting', 'create_time': datetime.datetime(2023, 3, 29, 17, 45, 41, 678930, tzinfo=tzutc()), 'definition': '[]'}]}"
      ]
     },
     "execution_count": 74,
     "metadata": {},
     "output_type": "execute_result"
    }
   ],
   "source": [
    "workspace = get_workspace(workspace_name)\n",
    "\n",
    "wl.set_current_workspace(workspace)"
   ]
  },
  {
   "attachments": {},
   "cell_type": "markdown",
   "metadata": {},
   "source": [
    "## Upload The Models\n",
    "\n",
    "For our example, we will upload three models, all pre-trained to determine housing prices based on various variables.\n",
    "\n",
    "The assumption is that we have a pipeline deployed that has been determining house prices for some time using \n",
    "\n",
    "* `rf_model.onnx`: The champion model that has been used in this environment for some time.\n",
    "* `xgb_model.onnx` and `models/gbr_model.onnx`: Rival models that will be tested against the champion.\n",
    "\n",
    "We will upload our control model into our workspace, then deploy a pipeline with the `rf_model.onnx` and perform some sample inferences."
   ]
  },
  {
   "cell_type": "code",
   "execution_count": 75,
   "metadata": {},
   "outputs": [],
   "source": [
    "housing_model_control = wl.upload_model(model_name_control, model_file_name_control).configure()"
   ]
  },
  {
   "attachments": {},
   "cell_type": "markdown",
   "metadata": {},
   "source": [
    "### Build the Control Sample Pipeline\n",
    "\n",
    "This pipeline is made to be an example of an existing situation where a model is deployed and being used for inferences in a production environment.  We'll call it `housepricepipeline`, set `rf_model.onnx` as a pipeline step as set in the variable declarations above, and run a few sample inferences."
   ]
  },
  {
   "cell_type": "code",
   "execution_count": 76,
   "metadata": {},
   "outputs": [],
   "source": [
    "mainpipeline = wl.build_pipeline(main_pipeline_name).add_model_step(housing_model_control).deploy()"
   ]
  },
  {
   "attachments": {},
   "cell_type": "markdown",
   "metadata": {},
   "source": [
    "### Testing\n",
    "\n",
    "We'll use two inferences as a quick sample test - one that has a house that should be determined around $700k, the other with a house determined to be around $1.5 million."
   ]
  },
  {
   "cell_type": "code",
   "execution_count": 77,
   "metadata": {},
   "outputs": [
    {
     "data": {
      "text/html": [
       "<div>\n",
       "<style scoped>\n",
       "    .dataframe tbody tr th:only-of-type {\n",
       "        vertical-align: middle;\n",
       "    }\n",
       "\n",
       "    .dataframe tbody tr th {\n",
       "        vertical-align: top;\n",
       "    }\n",
       "\n",
       "    .dataframe thead th {\n",
       "        text-align: right;\n",
       "    }\n",
       "</style>\n",
       "<table border=\"1\" class=\"dataframe\">\n",
       "  <thead>\n",
       "    <tr style=\"text-align: right;\">\n",
       "      <th></th>\n",
       "      <th>time</th>\n",
       "      <th>in.tensor</th>\n",
       "      <th>out.variable</th>\n",
       "      <th>check_failures</th>\n",
       "    </tr>\n",
       "  </thead>\n",
       "  <tbody>\n",
       "    <tr>\n",
       "      <th>0</th>\n",
       "      <td>2023-03-29 20:23:44.614</td>\n",
       "      <td>[4.0, 2.5, 2900.0, 5505.0, 2.0, 0.0, 0.0, 3.0, 8.0, 2900.0, 0.0, 47.6063, -122.02, 2970.0, 5251.0, 12.0, 0.0, 0.0]</td>\n",
       "      <td>[718013.7]</td>\n",
       "      <td>0</td>\n",
       "    </tr>\n",
       "  </tbody>\n",
       "</table>\n",
       "</div>"
      ],
      "text/plain": [
       "                     time  \\\n",
       "0 2023-03-29 20:23:44.614   \n",
       "\n",
       "                                                                                                            in.tensor  \\\n",
       "0  [4.0, 2.5, 2900.0, 5505.0, 2.0, 0.0, 0.0, 3.0, 8.0, 2900.0, 0.0, 47.6063, -122.02, 2970.0, 5251.0, 12.0, 0.0, 0.0]   \n",
       "\n",
       "  out.variable  check_failures  \n",
       "0   [718013.7]               0  "
      ]
     },
     "metadata": {},
     "output_type": "display_data"
    }
   ],
   "source": [
    "normal_input = pd.DataFrame.from_records({\"tensor\": [[4.0, 2.5, 2900.0, 5505.0, 2.0, 0.0, 0.0, 3.0, 8.0, 2900.0, 0.0, 47.6063, -122.02, 2970.0, 5251.0, 12.0, 0.0, 0.0]]})\n",
    "result = mainpipeline.infer(normal_input)\n",
    "display(result)"
   ]
  },
  {
   "cell_type": "code",
   "execution_count": 78,
   "metadata": {},
   "outputs": [
    {
     "data": {
      "text/html": [
       "<div>\n",
       "<style scoped>\n",
       "    .dataframe tbody tr th:only-of-type {\n",
       "        vertical-align: middle;\n",
       "    }\n",
       "\n",
       "    .dataframe tbody tr th {\n",
       "        vertical-align: top;\n",
       "    }\n",
       "\n",
       "    .dataframe thead th {\n",
       "        text-align: right;\n",
       "    }\n",
       "</style>\n",
       "<table border=\"1\" class=\"dataframe\">\n",
       "  <thead>\n",
       "    <tr style=\"text-align: right;\">\n",
       "      <th></th>\n",
       "      <th>time</th>\n",
       "      <th>in.tensor</th>\n",
       "      <th>out.variable</th>\n",
       "      <th>check_failures</th>\n",
       "    </tr>\n",
       "  </thead>\n",
       "  <tbody>\n",
       "    <tr>\n",
       "      <th>0</th>\n",
       "      <td>2023-03-29 20:23:45.050</td>\n",
       "      <td>[4.0, 3.0, 3710.0, 20000.0, 2.0, 0.0, 2.0, 5.0, 10.0, 2760.0, 950.0, 47.6696, -122.261, 3970.0, 20000.0, 79.0, 0.0, 0.0]</td>\n",
       "      <td>[1514079.4]</td>\n",
       "      <td>0</td>\n",
       "    </tr>\n",
       "  </tbody>\n",
       "</table>\n",
       "</div>"
      ],
      "text/plain": [
       "                     time  \\\n",
       "0 2023-03-29 20:23:45.050   \n",
       "\n",
       "                                                                                                                  in.tensor  \\\n",
       "0  [4.0, 3.0, 3710.0, 20000.0, 2.0, 0.0, 2.0, 5.0, 10.0, 2760.0, 950.0, 47.6696, -122.261, 3970.0, 20000.0, 79.0, 0.0, 0.0]   \n",
       "\n",
       "  out.variable  check_failures  \n",
       "0  [1514079.4]               0  "
      ]
     },
     "metadata": {},
     "output_type": "display_data"
    }
   ],
   "source": [
    "large_house_input = pd.DataFrame.from_records({'tensor': [[4.0, 3.0, 3710.0, 20000.0, 2.0, 0.0, 2.0, 5.0, 10.0, 2760.0, 950.0, 47.6696, -122.261, 3970.0, 20000.0, 79.0, 0.0, 0.0]]})\n",
    "large_house_result = mainpipeline.infer(large_house_input)\n",
    "display(large_house_result)"
   ]
  },
  {
   "attachments": {},
   "cell_type": "markdown",
   "metadata": {},
   "source": [
    "As one last sample, we'll run through roughly 1,000 inferences at once and show a few of the results."
   ]
  },
  {
   "cell_type": "code",
   "execution_count": 79,
   "metadata": {},
   "outputs": [
    {
     "data": {
      "text/html": [
       "<div>\n",
       "<style scoped>\n",
       "    .dataframe tbody tr th:only-of-type {\n",
       "        vertical-align: middle;\n",
       "    }\n",
       "\n",
       "    .dataframe tbody tr th {\n",
       "        vertical-align: top;\n",
       "    }\n",
       "\n",
       "    .dataframe thead th {\n",
       "        text-align: right;\n",
       "    }\n",
       "</style>\n",
       "<table border=\"1\" class=\"dataframe\">\n",
       "  <thead>\n",
       "    <tr style=\"text-align: right;\">\n",
       "      <th></th>\n",
       "      <th>time</th>\n",
       "      <th>in.tensor</th>\n",
       "      <th>out.variable</th>\n",
       "      <th>check_failures</th>\n",
       "    </tr>\n",
       "  </thead>\n",
       "  <tbody>\n",
       "    <tr>\n",
       "      <th>0</th>\n",
       "      <td>2023-03-29 20:23:45.725</td>\n",
       "      <td>[4.0, 2.5, 2900.0, 5505.0, 2.0, 0.0, 0.0, 3.0, 8.0, 2900.0, 0.0, 47.6063, -122.02, 2970.0, 5251.0, 12.0, 0.0, 0.0]</td>\n",
       "      <td>[718013.75]</td>\n",
       "      <td>0</td>\n",
       "    </tr>\n",
       "    <tr>\n",
       "      <th>1</th>\n",
       "      <td>2023-03-29 20:23:45.725</td>\n",
       "      <td>[2.0, 2.5, 2170.0, 6361.0, 1.0, 0.0, 2.0, 3.0, 8.0, 2170.0, 0.0, 47.7109, -122.017, 2310.0, 7419.0, 6.0, 0.0, 0.0]</td>\n",
       "      <td>[615094.56]</td>\n",
       "      <td>0</td>\n",
       "    </tr>\n",
       "    <tr>\n",
       "      <th>2</th>\n",
       "      <td>2023-03-29 20:23:45.725</td>\n",
       "      <td>[3.0, 2.5, 1300.0, 812.0, 2.0, 0.0, 0.0, 3.0, 8.0, 880.0, 420.0, 47.5893, -122.317, 1300.0, 824.0, 6.0, 0.0, 0.0]</td>\n",
       "      <td>[448627.72]</td>\n",
       "      <td>0</td>\n",
       "    </tr>\n",
       "    <tr>\n",
       "      <th>3</th>\n",
       "      <td>2023-03-29 20:23:45.725</td>\n",
       "      <td>[4.0, 2.5, 2500.0, 8540.0, 2.0, 0.0, 0.0, 3.0, 9.0, 2500.0, 0.0, 47.5759, -121.994, 2560.0, 8475.0, 24.0, 0.0, 0.0]</td>\n",
       "      <td>[758714.2]</td>\n",
       "      <td>0</td>\n",
       "    </tr>\n",
       "    <tr>\n",
       "      <th>4</th>\n",
       "      <td>2023-03-29 20:23:45.725</td>\n",
       "      <td>[3.0, 1.75, 2200.0, 11520.0, 1.0, 0.0, 0.0, 4.0, 7.0, 2200.0, 0.0, 47.7659, -122.341, 1690.0, 8038.0, 62.0, 0.0, 0.0]</td>\n",
       "      <td>[513264.7]</td>\n",
       "      <td>0</td>\n",
       "    </tr>\n",
       "  </tbody>\n",
       "</table>\n",
       "</div>"
      ],
      "text/plain": [
       "                     time  \\\n",
       "0 2023-03-29 20:23:45.725   \n",
       "1 2023-03-29 20:23:45.725   \n",
       "2 2023-03-29 20:23:45.725   \n",
       "3 2023-03-29 20:23:45.725   \n",
       "4 2023-03-29 20:23:45.725   \n",
       "\n",
       "                                                                                                               in.tensor  \\\n",
       "0     [4.0, 2.5, 2900.0, 5505.0, 2.0, 0.0, 0.0, 3.0, 8.0, 2900.0, 0.0, 47.6063, -122.02, 2970.0, 5251.0, 12.0, 0.0, 0.0]   \n",
       "1     [2.0, 2.5, 2170.0, 6361.0, 1.0, 0.0, 2.0, 3.0, 8.0, 2170.0, 0.0, 47.7109, -122.017, 2310.0, 7419.0, 6.0, 0.0, 0.0]   \n",
       "2      [3.0, 2.5, 1300.0, 812.0, 2.0, 0.0, 0.0, 3.0, 8.0, 880.0, 420.0, 47.5893, -122.317, 1300.0, 824.0, 6.0, 0.0, 0.0]   \n",
       "3    [4.0, 2.5, 2500.0, 8540.0, 2.0, 0.0, 0.0, 3.0, 9.0, 2500.0, 0.0, 47.5759, -121.994, 2560.0, 8475.0, 24.0, 0.0, 0.0]   \n",
       "4  [3.0, 1.75, 2200.0, 11520.0, 1.0, 0.0, 0.0, 4.0, 7.0, 2200.0, 0.0, 47.7659, -122.341, 1690.0, 8038.0, 62.0, 0.0, 0.0]   \n",
       "\n",
       "  out.variable  check_failures  \n",
       "0  [718013.75]               0  \n",
       "1  [615094.56]               0  \n",
       "2  [448627.72]               0  \n",
       "3   [758714.2]               0  \n",
       "4   [513264.7]               0  "
      ]
     },
     "metadata": {},
     "output_type": "display_data"
    }
   ],
   "source": [
    "large_inference_result = mainpipeline.infer_from_file(\"./data/xtest-1k.df.json\")\n",
    "display(large_inference_result.head(5))"
   ]
  },
  {
   "attachments": {},
   "cell_type": "markdown",
   "metadata": {},
   "source": [
    "## A/B Testing\n",
    "\n",
    "Now that we have our main pipeline set, let's experiment with other models using two methods:  A/B Testing, and Shadow Deployment.  We'll use A/B testing first.\n",
    "\n",
    "A/B Testing takes one champion or control model and pits it against one or more challenger models.  In this case, the inference data is split between the champion and control models based on a ratio we provide.  For our example, we will be using a random split, so there is a random weighted chance whether inference data is submitted to a champion or the challenger models.  Results are shown in the same `out.variable` as for the champion model, and we can determine which model received the input data based on the `out._model_split` column.\n",
    "\n",
    "Shadow deploy works much the same way, only **all** inference data is submitted to **all** models equally, with only the results of the champion model displayed in the `out.variable` column.  We'll demonstrate that in a later example."
   ]
  },
  {
   "attachments": {},
   "cell_type": "markdown",
   "metadata": {},
   "source": [
    "### Define The A/B Testing Pipeline\n",
    "\n",
    "Here we will configure a pipeline with two models and set the control model with a random split chance of receiving 2/3 of the data.  Because this is a random split, it is possible for one model or the other to receive more inferences than a strict 2:1 ratio, but the more inferences are run, the more likely it is for the proper ratio split.\n",
    "\n",
    "We'll upload our challenger models, then create the pipeline `housepriceabtesting` for our sample pipeline, then deploy it."
   ]
  },
  {
   "cell_type": "code",
   "execution_count": 80,
   "metadata": {},
   "outputs": [],
   "source": [
    "ab_pipeline_name = 'housepriceabtesting'\n",
    "model_file_name_challenger_01 = './models/xgb_model.onnx'\n",
    "model_file_name_challenger_02 = './models/gbr_model.onnx'\n",
    "\n",
    "\n",
    "housing_model_challenger01 = wl.upload_model(model_name_challenger_01, model_file_name_challenger_01).configure()\n",
    "housing_model_challenger02 = wl.upload_model(model_name_challenger_02, model_file_name_challenger_02).configure()\n",
    "\n",
    "abpipeline = (wl.build_pipeline(ab_pipeline_name)\n",
    "            .add_random_split([(2, housing_model_control), (1, housing_model_challenger01 )], \"session_id\")).deploy()"
   ]
  },
  {
   "attachments": {},
   "cell_type": "markdown",
   "metadata": {},
   "source": [
    "### A/B Testing Single Inference\n",
    "\n",
    "Now we have our deployment set up let's run a single inference. In the results we will be able to see the inference results as well as which model the inference went to under model_id.  We'll run the inference request 5 times, with the odds are that the challenger model being run at least once."
   ]
  },
  {
   "cell_type": "code",
   "execution_count": 81,
   "metadata": {},
   "outputs": [
    {
     "data": {
      "text/html": [
       "<div>\n",
       "<style scoped>\n",
       "    .dataframe tbody tr th:only-of-type {\n",
       "        vertical-align: middle;\n",
       "    }\n",
       "\n",
       "    .dataframe tbody tr th {\n",
       "        vertical-align: top;\n",
       "    }\n",
       "\n",
       "    .dataframe thead th {\n",
       "        text-align: right;\n",
       "    }\n",
       "</style>\n",
       "<table border=\"1\" class=\"dataframe\">\n",
       "  <thead>\n",
       "    <tr style=\"text-align: right;\">\n",
       "      <th></th>\n",
       "      <th>out._model_split</th>\n",
       "      <th>out.variable</th>\n",
       "    </tr>\n",
       "  </thead>\n",
       "  <tbody>\n",
       "    <tr>\n",
       "      <th>0</th>\n",
       "      <td>[{\"name\":\"housingcontrol\",\"version\":\"e88fae0a-f6c1-4f61-825a-ba43a35e12a7\",\"sha\":\"e22a0831aafd9917f3cc87a15ed267797f80e2afa12ad7d8810ca58f173b8cc6\"}]</td>\n",
       "      <td>[718013.7]</td>\n",
       "    </tr>\n",
       "  </tbody>\n",
       "</table>\n",
       "</div>"
      ],
      "text/plain": [
       "                                                                                                                                        out._model_split  \\\n",
       "0  [{\"name\":\"housingcontrol\",\"version\":\"e88fae0a-f6c1-4f61-825a-ba43a35e12a7\",\"sha\":\"e22a0831aafd9917f3cc87a15ed267797f80e2afa12ad7d8810ca58f173b8cc6\"}]   \n",
       "\n",
       "  out.variable  \n",
       "0   [718013.7]  "
      ]
     },
     "metadata": {},
     "output_type": "display_data"
    },
    {
     "data": {
      "text/html": [
       "<div>\n",
       "<style scoped>\n",
       "    .dataframe tbody tr th:only-of-type {\n",
       "        vertical-align: middle;\n",
       "    }\n",
       "\n",
       "    .dataframe tbody tr th {\n",
       "        vertical-align: top;\n",
       "    }\n",
       "\n",
       "    .dataframe thead th {\n",
       "        text-align: right;\n",
       "    }\n",
       "</style>\n",
       "<table border=\"1\" class=\"dataframe\">\n",
       "  <thead>\n",
       "    <tr style=\"text-align: right;\">\n",
       "      <th></th>\n",
       "      <th>out._model_split</th>\n",
       "      <th>out.variable</th>\n",
       "    </tr>\n",
       "  </thead>\n",
       "  <tbody>\n",
       "    <tr>\n",
       "      <th>0</th>\n",
       "      <td>[{\"name\":\"housingchallenger01\",\"version\":\"419f15fa-4256-48f5-9a2c-9d2393f5f787\",\"sha\":\"31e92d6ccb27b041a324a7ac22cf95d9d6cc3aa7e8263a229f7c4aec4938657c\"}]</td>\n",
       "      <td>[659806.0]</td>\n",
       "    </tr>\n",
       "  </tbody>\n",
       "</table>\n",
       "</div>"
      ],
      "text/plain": [
       "                                                                                                                                             out._model_split  \\\n",
       "0  [{\"name\":\"housingchallenger01\",\"version\":\"419f15fa-4256-48f5-9a2c-9d2393f5f787\",\"sha\":\"31e92d6ccb27b041a324a7ac22cf95d9d6cc3aa7e8263a229f7c4aec4938657c\"}]   \n",
       "\n",
       "  out.variable  \n",
       "0   [659806.0]  "
      ]
     },
     "metadata": {},
     "output_type": "display_data"
    },
    {
     "data": {
      "text/html": [
       "<div>\n",
       "<style scoped>\n",
       "    .dataframe tbody tr th:only-of-type {\n",
       "        vertical-align: middle;\n",
       "    }\n",
       "\n",
       "    .dataframe tbody tr th {\n",
       "        vertical-align: top;\n",
       "    }\n",
       "\n",
       "    .dataframe thead th {\n",
       "        text-align: right;\n",
       "    }\n",
       "</style>\n",
       "<table border=\"1\" class=\"dataframe\">\n",
       "  <thead>\n",
       "    <tr style=\"text-align: right;\">\n",
       "      <th></th>\n",
       "      <th>out._model_split</th>\n",
       "      <th>out.variable</th>\n",
       "    </tr>\n",
       "  </thead>\n",
       "  <tbody>\n",
       "    <tr>\n",
       "      <th>0</th>\n",
       "      <td>[{\"name\":\"housingchallenger01\",\"version\":\"419f15fa-4256-48f5-9a2c-9d2393f5f787\",\"sha\":\"31e92d6ccb27b041a324a7ac22cf95d9d6cc3aa7e8263a229f7c4aec4938657c\"}]</td>\n",
       "      <td>[659806.0]</td>\n",
       "    </tr>\n",
       "  </tbody>\n",
       "</table>\n",
       "</div>"
      ],
      "text/plain": [
       "                                                                                                                                             out._model_split  \\\n",
       "0  [{\"name\":\"housingchallenger01\",\"version\":\"419f15fa-4256-48f5-9a2c-9d2393f5f787\",\"sha\":\"31e92d6ccb27b041a324a7ac22cf95d9d6cc3aa7e8263a229f7c4aec4938657c\"}]   \n",
       "\n",
       "  out.variable  \n",
       "0   [659806.0]  "
      ]
     },
     "metadata": {},
     "output_type": "display_data"
    },
    {
     "data": {
      "text/html": [
       "<div>\n",
       "<style scoped>\n",
       "    .dataframe tbody tr th:only-of-type {\n",
       "        vertical-align: middle;\n",
       "    }\n",
       "\n",
       "    .dataframe tbody tr th {\n",
       "        vertical-align: top;\n",
       "    }\n",
       "\n",
       "    .dataframe thead th {\n",
       "        text-align: right;\n",
       "    }\n",
       "</style>\n",
       "<table border=\"1\" class=\"dataframe\">\n",
       "  <thead>\n",
       "    <tr style=\"text-align: right;\">\n",
       "      <th></th>\n",
       "      <th>out._model_split</th>\n",
       "      <th>out.variable</th>\n",
       "    </tr>\n",
       "  </thead>\n",
       "  <tbody>\n",
       "    <tr>\n",
       "      <th>0</th>\n",
       "      <td>[{\"name\":\"housingcontrol\",\"version\":\"e88fae0a-f6c1-4f61-825a-ba43a35e12a7\",\"sha\":\"e22a0831aafd9917f3cc87a15ed267797f80e2afa12ad7d8810ca58f173b8cc6\"}]</td>\n",
       "      <td>[718013.7]</td>\n",
       "    </tr>\n",
       "  </tbody>\n",
       "</table>\n",
       "</div>"
      ],
      "text/plain": [
       "                                                                                                                                        out._model_split  \\\n",
       "0  [{\"name\":\"housingcontrol\",\"version\":\"e88fae0a-f6c1-4f61-825a-ba43a35e12a7\",\"sha\":\"e22a0831aafd9917f3cc87a15ed267797f80e2afa12ad7d8810ca58f173b8cc6\"}]   \n",
       "\n",
       "  out.variable  \n",
       "0   [718013.7]  "
      ]
     },
     "metadata": {},
     "output_type": "display_data"
    },
    {
     "data": {
      "text/html": [
       "<div>\n",
       "<style scoped>\n",
       "    .dataframe tbody tr th:only-of-type {\n",
       "        vertical-align: middle;\n",
       "    }\n",
       "\n",
       "    .dataframe tbody tr th {\n",
       "        vertical-align: top;\n",
       "    }\n",
       "\n",
       "    .dataframe thead th {\n",
       "        text-align: right;\n",
       "    }\n",
       "</style>\n",
       "<table border=\"1\" class=\"dataframe\">\n",
       "  <thead>\n",
       "    <tr style=\"text-align: right;\">\n",
       "      <th></th>\n",
       "      <th>out._model_split</th>\n",
       "      <th>out.variable</th>\n",
       "    </tr>\n",
       "  </thead>\n",
       "  <tbody>\n",
       "    <tr>\n",
       "      <th>0</th>\n",
       "      <td>[{\"name\":\"housingcontrol\",\"version\":\"e88fae0a-f6c1-4f61-825a-ba43a35e12a7\",\"sha\":\"e22a0831aafd9917f3cc87a15ed267797f80e2afa12ad7d8810ca58f173b8cc6\"}]</td>\n",
       "      <td>[718013.7]</td>\n",
       "    </tr>\n",
       "  </tbody>\n",
       "</table>\n",
       "</div>"
      ],
      "text/plain": [
       "                                                                                                                                        out._model_split  \\\n",
       "0  [{\"name\":\"housingcontrol\",\"version\":\"e88fae0a-f6c1-4f61-825a-ba43a35e12a7\",\"sha\":\"e22a0831aafd9917f3cc87a15ed267797f80e2afa12ad7d8810ca58f173b8cc6\"}]   \n",
       "\n",
       "  out.variable  \n",
       "0   [718013.7]  "
      ]
     },
     "metadata": {},
     "output_type": "display_data"
    }
   ],
   "source": [
    "results = []\n",
    "\n",
    "for x in range(5):\n",
    "    result = abpipeline.infer_from_file(\"data/xtest-1.df.json\")\n",
    "    display(result.loc[:,[\"out._model_split\", \"out.variable\"]])"
   ]
  },
  {
   "attachments": {},
   "cell_type": "markdown",
   "metadata": {},
   "source": [
    "### Run Inference Batch\n",
    "\n",
    "We will submit 1000 rows of test data through the pipeline, then loop through the responses and display which model each inference was performed in.  The results between the control and challenger should be approximately 2:1.\n",
    "\n",
    "The sample code will be shown below.  Since this splits a single inference request into 1,000 pieces and submits them serially, this can take a few minutes to run.  We'll just go to the results for our demonstration, but users can use the code below as a sample exercise."
   ]
  },
  {
   "cell_type": "code",
   "execution_count": null,
   "metadata": {},
   "outputs": [],
   "source": [
    "# for index, row in test_data.head(1000).iterrows():\n",
    "#     responses = responses.append(abpipeline.infer(row.to_frame('tensor').reset_index(drop=True)))\n",
    "\n",
    "# #now get our responses for each row\n",
    "# # each r is a dataframe, then get the result from out.split into json and get the model name\n",
    "# l = [json.loads(row['out._model_split'][0])['name'] for index, row in responses.iterrows()]\n",
    "# df = pd.DataFrame({'model': l})\n",
    "# display(df.model.value_counts())"
   ]
  },
  {
   "cell_type": "code",
   "execution_count": 86,
   "metadata": {},
   "outputs": [
    {
     "data": {
      "text/plain": [
       "housingcontrol         702\n",
       "housingchallenger01    298\n",
       "Name: model, dtype: int64"
      ]
     },
     "metadata": {},
     "output_type": "display_data"
    }
   ],
   "source": [
    "# load the inference result data from a/b testing\n",
    "responses = pd.read_json('./data/abtestingresults.df.json', orient=\"records\")\n",
    "l = [json.loads(row['out._model_split'][0])['name'] for index, row in responses.iterrows()]\n",
    "df = pd.DataFrame({'model': l})\n",
    "display(df.model.value_counts())"
   ]
  },
  {
   "attachments": {},
   "cell_type": "markdown",
   "metadata": {},
   "source": [
    "### Compare A/B Testing Results\n",
    "\n",
    "### Test Challenger\n",
    "\n",
    "Now we have run a large amount of data we can compare the results.\n",
    "\n",
    "For this experiment we are looking for a significant change average predicted price between the two models."
   ]
  },
  {
   "cell_type": "code",
   "execution_count": 87,
   "metadata": {},
   "outputs": [
    {
     "name": "stdout",
     "output_type": "stream",
     "text": [
      "control mean price prediction: 541388.8181339029\n",
      "challenger mean price prediction: 539660.27885906\n"
     ]
    }
   ],
   "source": [
    "control_count = df.model.value_counts()['housingcontrol']\n",
    "challenger_count = df.model.value_counts()['housingchallenger01']\n",
    "\n",
    "control_sum = 0\n",
    "challenger_sum = 0\n",
    "\n",
    "for index, row in responses.iterrows():\n",
    "    if json.loads(row['out._model_split'][0])['name'] == 'housingcontrol':\n",
    "        control_sum += row['out.variable'][0]\n",
    "    else:\n",
    "        challenger_sum += row['out.variable'][0]\n",
    "\n",
    "print(\"control mean price prediction: \" + str(control_sum/control_count))\n",
    "print(\"challenger mean price prediction: \" + str(challenger_sum/challenger_count))"
   ]
  },
  {
   "attachments": {},
   "cell_type": "markdown",
   "metadata": {},
   "source": [
    "### View A/B Logs\n",
    "\n",
    "Logs can be viewed with the Pipeline method `logs()`.  For this example, only the first 5 logs will be shown.  For Arrow enabled environments, the model type can be found in the column `out._model_split`."
   ]
  },
  {
   "cell_type": "code",
   "execution_count": 88,
   "metadata": {},
   "outputs": [
    {
     "data": {
      "text/html": [
       "<div>\n",
       "<style scoped>\n",
       "    .dataframe tbody tr th:only-of-type {\n",
       "        vertical-align: middle;\n",
       "    }\n",
       "\n",
       "    .dataframe tbody tr th {\n",
       "        vertical-align: top;\n",
       "    }\n",
       "\n",
       "    .dataframe thead th {\n",
       "        text-align: right;\n",
       "    }\n",
       "</style>\n",
       "<table border=\"1\" class=\"dataframe\">\n",
       "  <thead>\n",
       "    <tr style=\"text-align: right;\">\n",
       "      <th></th>\n",
       "      <th>time</th>\n",
       "      <th>in.tensor</th>\n",
       "      <th>out._model_split</th>\n",
       "      <th>out.variable</th>\n",
       "      <th>check_failures</th>\n",
       "    </tr>\n",
       "  </thead>\n",
       "  <tbody>\n",
       "    <tr>\n",
       "      <th>0</th>\n",
       "      <td>2023-03-29 20:10:42.532</td>\n",
       "      <td>[3.0, 2.0, 2140.0, 4923.0, 1.0, 0.0, 0.0, 4.0, 8.0, 1070.0, 1070.0, 47.6902, -122.339, 1470.0, 4923.0, 86.0, 0.0, 0.0]</td>\n",
       "      <td>[{\"name\":\"housingchallenger01\",\"version\":\"b2316d64-c6fb-4a5e-a607-ffd442dfdecb\",\"sha\":\"31e92d6ccb27b041a324a7ac22cf95d9d6cc3aa7e8263a229f7c4aec4938657c\"}]</td>\n",
       "      <td>[615501.9]</td>\n",
       "      <td>0</td>\n",
       "    </tr>\n",
       "    <tr>\n",
       "      <th>1</th>\n",
       "      <td>2023-03-29 20:10:42.935</td>\n",
       "      <td>[4.0, 3.5, 3590.0, 5334.0, 2.0, 0.0, 2.0, 3.0, 9.0, 3140.0, 450.0, 47.6763, -122.267, 2100.0, 6250.0, 9.0, 0.0, 0.0]</td>\n",
       "      <td>[{\"name\":\"housingcontrol\",\"version\":\"87a75b3f-1cbc-46bb-9aca-066c42162bdc\",\"sha\":\"e22a0831aafd9917f3cc87a15ed267797f80e2afa12ad7d8810ca58f173b8cc6\"}]</td>\n",
       "      <td>[1004846.56]</td>\n",
       "      <td>0</td>\n",
       "    </tr>\n",
       "    <tr>\n",
       "      <th>2</th>\n",
       "      <td>2023-03-29 20:10:43.343</td>\n",
       "      <td>[3.0, 2.0, 1280.0, 960.0, 2.0, 0.0, 0.0, 3.0, 9.0, 1040.0, 240.0, 47.602, -122.311, 1280.0, 1173.0, 0.0, 0.0, 0.0]</td>\n",
       "      <td>[{\"name\":\"housingcontrol\",\"version\":\"87a75b3f-1cbc-46bb-9aca-066c42162bdc\",\"sha\":\"e22a0831aafd9917f3cc87a15ed267797f80e2afa12ad7d8810ca58f173b8cc6\"}]</td>\n",
       "      <td>[684577.25]</td>\n",
       "      <td>0</td>\n",
       "    </tr>\n",
       "    <tr>\n",
       "      <th>3</th>\n",
       "      <td>2023-03-29 20:10:43.794</td>\n",
       "      <td>[4.0, 2.5, 2820.0, 15000.0, 2.0, 0.0, 0.0, 4.0, 9.0, 2820.0, 0.0, 47.7255, -122.101, 2440.0, 15000.0, 29.0, 0.0, 0.0]</td>\n",
       "      <td>[{\"name\":\"housingcontrol\",\"version\":\"87a75b3f-1cbc-46bb-9aca-066c42162bdc\",\"sha\":\"e22a0831aafd9917f3cc87a15ed267797f80e2afa12ad7d8810ca58f173b8cc6\"}]</td>\n",
       "      <td>[727898.25]</td>\n",
       "      <td>0</td>\n",
       "    </tr>\n",
       "    <tr>\n",
       "      <th>4</th>\n",
       "      <td>2023-03-29 20:10:44.182</td>\n",
       "      <td>[3.0, 2.25, 1790.0, 11393.0, 1.0, 0.0, 0.0, 3.0, 8.0, 1790.0, 0.0, 47.6297, -122.099, 2290.0, 11894.0, 36.0, 0.0, 0.0]</td>\n",
       "      <td>[{\"name\":\"housingchallenger01\",\"version\":\"b2316d64-c6fb-4a5e-a607-ffd442dfdecb\",\"sha\":\"31e92d6ccb27b041a324a7ac22cf95d9d6cc3aa7e8263a229f7c4aec4938657c\"}]</td>\n",
       "      <td>[525746.44]</td>\n",
       "      <td>0</td>\n",
       "    </tr>\n",
       "  </tbody>\n",
       "</table>\n",
       "</div>"
      ],
      "text/plain": [
       "                     time  \\\n",
       "0 2023-03-29 20:10:42.532   \n",
       "1 2023-03-29 20:10:42.935   \n",
       "2 2023-03-29 20:10:43.343   \n",
       "3 2023-03-29 20:10:43.794   \n",
       "4 2023-03-29 20:10:44.182   \n",
       "\n",
       "                                                                                                                in.tensor  \\\n",
       "0  [3.0, 2.0, 2140.0, 4923.0, 1.0, 0.0, 0.0, 4.0, 8.0, 1070.0, 1070.0, 47.6902, -122.339, 1470.0, 4923.0, 86.0, 0.0, 0.0]   \n",
       "1    [4.0, 3.5, 3590.0, 5334.0, 2.0, 0.0, 2.0, 3.0, 9.0, 3140.0, 450.0, 47.6763, -122.267, 2100.0, 6250.0, 9.0, 0.0, 0.0]   \n",
       "2      [3.0, 2.0, 1280.0, 960.0, 2.0, 0.0, 0.0, 3.0, 9.0, 1040.0, 240.0, 47.602, -122.311, 1280.0, 1173.0, 0.0, 0.0, 0.0]   \n",
       "3   [4.0, 2.5, 2820.0, 15000.0, 2.0, 0.0, 0.0, 4.0, 9.0, 2820.0, 0.0, 47.7255, -122.101, 2440.0, 15000.0, 29.0, 0.0, 0.0]   \n",
       "4  [3.0, 2.25, 1790.0, 11393.0, 1.0, 0.0, 0.0, 3.0, 8.0, 1790.0, 0.0, 47.6297, -122.099, 2290.0, 11894.0, 36.0, 0.0, 0.0]   \n",
       "\n",
       "                                                                                                                                             out._model_split  \\\n",
       "0  [{\"name\":\"housingchallenger01\",\"version\":\"b2316d64-c6fb-4a5e-a607-ffd442dfdecb\",\"sha\":\"31e92d6ccb27b041a324a7ac22cf95d9d6cc3aa7e8263a229f7c4aec4938657c\"}]   \n",
       "1       [{\"name\":\"housingcontrol\",\"version\":\"87a75b3f-1cbc-46bb-9aca-066c42162bdc\",\"sha\":\"e22a0831aafd9917f3cc87a15ed267797f80e2afa12ad7d8810ca58f173b8cc6\"}]   \n",
       "2       [{\"name\":\"housingcontrol\",\"version\":\"87a75b3f-1cbc-46bb-9aca-066c42162bdc\",\"sha\":\"e22a0831aafd9917f3cc87a15ed267797f80e2afa12ad7d8810ca58f173b8cc6\"}]   \n",
       "3       [{\"name\":\"housingcontrol\",\"version\":\"87a75b3f-1cbc-46bb-9aca-066c42162bdc\",\"sha\":\"e22a0831aafd9917f3cc87a15ed267797f80e2afa12ad7d8810ca58f173b8cc6\"}]   \n",
       "4  [{\"name\":\"housingchallenger01\",\"version\":\"b2316d64-c6fb-4a5e-a607-ffd442dfdecb\",\"sha\":\"31e92d6ccb27b041a324a7ac22cf95d9d6cc3aa7e8263a229f7c4aec4938657c\"}]   \n",
       "\n",
       "   out.variable  check_failures  \n",
       "0    [615501.9]               0  \n",
       "1  [1004846.56]               0  \n",
       "2   [684577.25]               0  \n",
       "3   [727898.25]               0  \n",
       "4   [525746.44]               0  "
      ]
     },
     "metadata": {},
     "output_type": "display_data"
    }
   ],
   "source": [
    "logs = abpipeline.logs().head(5)\n",
    "\n",
    "display(logs)"
   ]
  },
  {
   "attachments": {},
   "cell_type": "markdown",
   "metadata": {},
   "source": [
    "### Undeploy The A/B Pipeline\n",
    "\n",
    "With the example complete, we undeploy the pipeline to return the resources back to the Wallaroo instance."
   ]
  },
  {
   "cell_type": "code",
   "execution_count": 89,
   "metadata": {},
   "outputs": [
    {
     "data": {
      "text/html": [
       "<table><tr><th>name</th> <td>housepriceabtesting</td></tr><tr><th>created</th> <td>2023-03-29 17:45:41.678930+00:00</td></tr><tr><th>last_updated</th> <td>2023-03-29 20:23:49.763417+00:00</td></tr><tr><th>deployed</th> <td>False</td></tr><tr><th>tags</th> <td></td></tr><tr><th>versions</th> <td>c9caccac-10a0-4863-914b-265ce214f829, c58d8f85-e521-4062-8462-f11b238c06c6, a41c735b-e923-4551-a7ce-1b01d0985930, 8c07776c-cf2c-45ad-9255-2dee47f5894e, 0b7a8792-1d23-4e58-a62b-580f6be991ae, 7efe7092-01dc-4710-a69c-472c6e19fa32, 233e7f44-4b22-49de-8b4c-34980a050ab3, aeaf7cbc-9fae-4476-9497-5d666443d30e, f741c176-a929-4883-a5bf-8b8b29e0f929, 6506d5e6-fc33-4e55-913b-45250a74b601, a83d6964-95a2-4436-a0ec-93f1edcfffa3, 400c4272-9e85-467c-b564-da67637cc4e8, f7a7bc32-b7d6-4d4e-9b4e-222440c36477</td></tr><tr><th>steps</th> <td>housingcontrol</td></tr></table>"
      ],
      "text/plain": [
       "{'name': 'housepriceabtesting', 'create_time': datetime.datetime(2023, 3, 29, 17, 45, 41, 678930, tzinfo=tzutc()), 'definition': \"[{'RandomSplit': {'hash_key': 'session_id', 'weights': [{'model': {'name': 'housingcontrol', 'version': 'e88fae0a-f6c1-4f61-825a-ba43a35e12a7', 'sha': 'e22a0831aafd9917f3cc87a15ed267797f80e2afa12ad7d8810ca58f173b8cc6'}, 'weight': 2}, {'model': {'name': 'housingchallenger01', 'version': '419f15fa-4256-48f5-9a2c-9d2393f5f787', 'sha': '31e92d6ccb27b041a324a7ac22cf95d9d6cc3aa7e8263a229f7c4aec4938657c'}, 'weight': 1}]}}]\"}"
      ]
     },
     "execution_count": 89,
     "metadata": {},
     "output_type": "execute_result"
    }
   ],
   "source": [
    "abpipeline.undeploy()"
   ]
  },
  {
   "attachments": {},
   "cell_type": "markdown",
   "metadata": {},
   "source": [
    "## Shadow Deploy\n",
    "\n",
    "The other method for comparing models is Shadow Deploy.  In Shadow Deploy, the pipeline step is added with the `add_shadow_deploy` method, with the champion model listed first, then an array of challenger models after.  **All** inference data is fed to **all** models, with the champion results displayed in the `out.variable` column, and the shadow results in the format `out_{model name}.variable`.  For example, since we named our challenger models `housingchallenger01` and `housingchallenger02`, the columns `out_housingchallenger01.variable` and `out_housingchallenger02.variable` have the shadow deployed model results.\n",
    "\n",
    "Here, we'll create a new pipeline called `housepriceshadowtesting`, then add `rf_model.onnx` as our champion, and models `xgb_model.onnx` and `gbr_model.onnx` as the challengers.  We'll deploy the pipeline and prepare it for sample inferences."
   ]
  },
  {
   "cell_type": "code",
   "execution_count": 90,
   "metadata": {},
   "outputs": [],
   "source": [
    "shadow_pipeline_name = 'housepriceshadowtesting'\n",
    "shadow_pipeline = wl.build_pipeline(shadow_pipeline_name).add_shadow_deploy(housing_model_control, [housing_model_challenger01, housing_model_challenger02]).deploy()"
   ]
  },
  {
   "attachments": {},
   "cell_type": "markdown",
   "metadata": {},
   "source": [
    "### Shadow Deploy Sample Inference\n",
    "\n",
    "We'll now use our same sample data for an inference to our shadow deployed pipeline."
   ]
  },
  {
   "cell_type": "code",
   "execution_count": 91,
   "metadata": {},
   "outputs": [
    {
     "data": {
      "text/html": [
       "<div>\n",
       "<style scoped>\n",
       "    .dataframe tbody tr th:only-of-type {\n",
       "        vertical-align: middle;\n",
       "    }\n",
       "\n",
       "    .dataframe tbody tr th {\n",
       "        vertical-align: top;\n",
       "    }\n",
       "\n",
       "    .dataframe thead th {\n",
       "        text-align: right;\n",
       "    }\n",
       "</style>\n",
       "<table border=\"1\" class=\"dataframe\">\n",
       "  <thead>\n",
       "    <tr style=\"text-align: right;\">\n",
       "      <th></th>\n",
       "      <th>time</th>\n",
       "      <th>in.tensor</th>\n",
       "      <th>out.variable</th>\n",
       "      <th>check_failures</th>\n",
       "      <th>out_housingchallenger01.variable</th>\n",
       "      <th>out_housingchallenger02.variable</th>\n",
       "    </tr>\n",
       "  </thead>\n",
       "  <tbody>\n",
       "    <tr>\n",
       "      <th>0</th>\n",
       "      <td>2023-03-29 20:27:05.104</td>\n",
       "      <td>[4.0, 2.5, 2900.0, 5505.0, 2.0, 0.0, 0.0, 3.0, 8.0, 2900.0, 0.0, 47.6063, -122.02, 2970.0, 5251.0, 12.0, 0.0, 0.0]</td>\n",
       "      <td>[718013.7]</td>\n",
       "      <td>0</td>\n",
       "      <td>[659806.0]</td>\n",
       "      <td>[704901.9]</td>\n",
       "    </tr>\n",
       "  </tbody>\n",
       "</table>\n",
       "</div>"
      ],
      "text/plain": [
       "                     time  \\\n",
       "0 2023-03-29 20:27:05.104   \n",
       "\n",
       "                                                                                                            in.tensor  \\\n",
       "0  [4.0, 2.5, 2900.0, 5505.0, 2.0, 0.0, 0.0, 3.0, 8.0, 2900.0, 0.0, 47.6063, -122.02, 2970.0, 5251.0, 12.0, 0.0, 0.0]   \n",
       "\n",
       "  out.variable  check_failures out_housingchallenger01.variable  \\\n",
       "0   [718013.7]               0                       [659806.0]   \n",
       "\n",
       "  out_housingchallenger02.variable  \n",
       "0                       [704901.9]  "
      ]
     },
     "metadata": {},
     "output_type": "display_data"
    }
   ],
   "source": [
    "shadow_result = shadow_pipeline.infer_from_file('./data/xtest-1.df.json')\n",
    "\n",
    "display(shadow_result)"
   ]
  },
  {
   "attachments": {},
   "cell_type": "markdown",
   "metadata": {},
   "source": [
    "### Shadow Deploy Batch Inference\n",
    "\n",
    "We can also perform batch inferences with shadow deployed pipelines.  Here we'll pass 1,000 inference requests at once, then display the results."
   ]
  },
  {
   "cell_type": "code",
   "execution_count": 92,
   "metadata": {},
   "outputs": [
    {
     "data": {
      "text/html": [
       "<div>\n",
       "<style scoped>\n",
       "    .dataframe tbody tr th:only-of-type {\n",
       "        vertical-align: middle;\n",
       "    }\n",
       "\n",
       "    .dataframe tbody tr th {\n",
       "        vertical-align: top;\n",
       "    }\n",
       "\n",
       "    .dataframe thead th {\n",
       "        text-align: right;\n",
       "    }\n",
       "</style>\n",
       "<table border=\"1\" class=\"dataframe\">\n",
       "  <thead>\n",
       "    <tr style=\"text-align: right;\">\n",
       "      <th></th>\n",
       "      <th>out.variable</th>\n",
       "      <th>out_housingchallenger01.variable</th>\n",
       "      <th>out_housingchallenger02.variable</th>\n",
       "    </tr>\n",
       "  </thead>\n",
       "  <tbody>\n",
       "    <tr>\n",
       "      <th>0</th>\n",
       "      <td>[718013.75]</td>\n",
       "      <td>[659806.0]</td>\n",
       "      <td>[704901.9]</td>\n",
       "    </tr>\n",
       "    <tr>\n",
       "      <th>1</th>\n",
       "      <td>[615094.56]</td>\n",
       "      <td>[732883.5]</td>\n",
       "      <td>[695994.44]</td>\n",
       "    </tr>\n",
       "    <tr>\n",
       "      <th>2</th>\n",
       "      <td>[448627.72]</td>\n",
       "      <td>[419508.84]</td>\n",
       "      <td>[416164.8]</td>\n",
       "    </tr>\n",
       "    <tr>\n",
       "      <th>3</th>\n",
       "      <td>[758714.2]</td>\n",
       "      <td>[634028.8]</td>\n",
       "      <td>[655277.2]</td>\n",
       "    </tr>\n",
       "    <tr>\n",
       "      <th>4</th>\n",
       "      <td>[513264.7]</td>\n",
       "      <td>[427209.44]</td>\n",
       "      <td>[426854.66]</td>\n",
       "    </tr>\n",
       "    <tr>\n",
       "      <th>...</th>\n",
       "      <td>...</td>\n",
       "      <td>...</td>\n",
       "      <td>...</td>\n",
       "    </tr>\n",
       "    <tr>\n",
       "      <th>995</th>\n",
       "      <td>[827411.0]</td>\n",
       "      <td>[743487.94]</td>\n",
       "      <td>[787589.25]</td>\n",
       "    </tr>\n",
       "    <tr>\n",
       "      <th>996</th>\n",
       "      <td>[441960.38]</td>\n",
       "      <td>[381577.16]</td>\n",
       "      <td>[411258.3]</td>\n",
       "    </tr>\n",
       "    <tr>\n",
       "      <th>997</th>\n",
       "      <td>[1060847.5]</td>\n",
       "      <td>[1520770.0]</td>\n",
       "      <td>[1491293.8]</td>\n",
       "    </tr>\n",
       "    <tr>\n",
       "      <th>998</th>\n",
       "      <td>[706823.56]</td>\n",
       "      <td>[663008.75]</td>\n",
       "      <td>[594914.2]</td>\n",
       "    </tr>\n",
       "    <tr>\n",
       "      <th>999</th>\n",
       "      <td>[581003.0]</td>\n",
       "      <td>[573391.1]</td>\n",
       "      <td>[596933.5]</td>\n",
       "    </tr>\n",
       "  </tbody>\n",
       "</table>\n",
       "<p>1000 rows × 3 columns</p>\n",
       "</div>"
      ],
      "text/plain": [
       "    out.variable out_housingchallenger01.variable  \\\n",
       "0    [718013.75]                       [659806.0]   \n",
       "1    [615094.56]                       [732883.5]   \n",
       "2    [448627.72]                      [419508.84]   \n",
       "3     [758714.2]                       [634028.8]   \n",
       "4     [513264.7]                      [427209.44]   \n",
       "..           ...                              ...   \n",
       "995   [827411.0]                      [743487.94]   \n",
       "996  [441960.38]                      [381577.16]   \n",
       "997  [1060847.5]                      [1520770.0]   \n",
       "998  [706823.56]                      [663008.75]   \n",
       "999   [581003.0]                       [573391.1]   \n",
       "\n",
       "    out_housingchallenger02.variable  \n",
       "0                         [704901.9]  \n",
       "1                        [695994.44]  \n",
       "2                         [416164.8]  \n",
       "3                         [655277.2]  \n",
       "4                        [426854.66]  \n",
       "..                               ...  \n",
       "995                      [787589.25]  \n",
       "996                       [411258.3]  \n",
       "997                      [1491293.8]  \n",
       "998                       [594914.2]  \n",
       "999                       [596933.5]  \n",
       "\n",
       "[1000 rows x 3 columns]"
      ]
     },
     "metadata": {},
     "output_type": "display_data"
    }
   ],
   "source": [
    "shadow_results = shadow_pipeline.infer_from_file('./data/xtest-1k.arrow')\n",
    "\n",
    "outputs =  shadow_results.to_pandas()\n",
    "\n",
    "display(outputs.loc[:,['out.variable','out_housingchallenger01.variable','out_housingchallenger02.variable']])"
   ]
  },
  {
   "attachments": {},
   "cell_type": "markdown",
   "metadata": {},
   "source": [
    "### Shadow Deploy Logs\n",
    "\n",
    "Shadow deployed results are also displayed in the log files.  For Arrow enabled Wallaroo instances, it's just the pipeline `logs` method.  For Arrow disabled environments, the command `logs_shadow_deploy()` displays the shadow deployed model information."
   ]
  },
  {
   "cell_type": "code",
   "execution_count": 93,
   "metadata": {},
   "outputs": [
    {
     "data": {
      "text/html": [
       "<div>\n",
       "<style scoped>\n",
       "    .dataframe tbody tr th:only-of-type {\n",
       "        vertical-align: middle;\n",
       "    }\n",
       "\n",
       "    .dataframe tbody tr th {\n",
       "        vertical-align: top;\n",
       "    }\n",
       "\n",
       "    .dataframe thead th {\n",
       "        text-align: right;\n",
       "    }\n",
       "</style>\n",
       "<table border=\"1\" class=\"dataframe\">\n",
       "  <thead>\n",
       "    <tr style=\"text-align: right;\">\n",
       "      <th></th>\n",
       "      <th>out.variable</th>\n",
       "      <th>out_housingchallenger01.variable</th>\n",
       "      <th>out_housingchallenger02.variable</th>\n",
       "    </tr>\n",
       "  </thead>\n",
       "  <tbody>\n",
       "    <tr>\n",
       "      <th>0</th>\n",
       "      <td>[937281.75]</td>\n",
       "      <td>[779282.94]</td>\n",
       "      <td>[1074469.5]</td>\n",
       "    </tr>\n",
       "    <tr>\n",
       "      <th>1</th>\n",
       "      <td>[450996.25]</td>\n",
       "      <td>[431373.0]</td>\n",
       "      <td>[433386.56]</td>\n",
       "    </tr>\n",
       "    <tr>\n",
       "      <th>2</th>\n",
       "      <td>[266405.6]</td>\n",
       "      <td>[308694.3]</td>\n",
       "      <td>[277806.5]</td>\n",
       "    </tr>\n",
       "    <tr>\n",
       "      <th>3</th>\n",
       "      <td>[727923.1]</td>\n",
       "      <td>[612911.25]</td>\n",
       "      <td>[521321.47]</td>\n",
       "    </tr>\n",
       "    <tr>\n",
       "      <th>4</th>\n",
       "      <td>[480151.5]</td>\n",
       "      <td>[712661.25]</td>\n",
       "      <td>[605705.8]</td>\n",
       "    </tr>\n",
       "    <tr>\n",
       "      <th>...</th>\n",
       "      <td>...</td>\n",
       "      <td>...</td>\n",
       "      <td>...</td>\n",
       "    </tr>\n",
       "    <tr>\n",
       "      <th>95</th>\n",
       "      <td>[236238.66]</td>\n",
       "      <td>[158358.28]</td>\n",
       "      <td>[180559.94]</td>\n",
       "    </tr>\n",
       "    <tr>\n",
       "      <th>96</th>\n",
       "      <td>[581003.0]</td>\n",
       "      <td>[651141.75]</td>\n",
       "      <td>[647863.06]</td>\n",
       "    </tr>\n",
       "    <tr>\n",
       "      <th>97</th>\n",
       "      <td>[446768.88]</td>\n",
       "      <td>[451848.2]</td>\n",
       "      <td>[397378.5]</td>\n",
       "    </tr>\n",
       "    <tr>\n",
       "      <th>98</th>\n",
       "      <td>[400628.5]</td>\n",
       "      <td>[392271.75]</td>\n",
       "      <td>[368913.88]</td>\n",
       "    </tr>\n",
       "    <tr>\n",
       "      <th>99</th>\n",
       "      <td>[546632.0]</td>\n",
       "      <td>[510557.38]</td>\n",
       "      <td>[509433.75]</td>\n",
       "    </tr>\n",
       "  </tbody>\n",
       "</table>\n",
       "<p>100 rows × 3 columns</p>\n",
       "</div>"
      ],
      "text/plain": [
       "   out.variable out_housingchallenger01.variable  \\\n",
       "0   [937281.75]                      [779282.94]   \n",
       "1   [450996.25]                       [431373.0]   \n",
       "2    [266405.6]                       [308694.3]   \n",
       "3    [727923.1]                      [612911.25]   \n",
       "4    [480151.5]                      [712661.25]   \n",
       "..          ...                              ...   \n",
       "95  [236238.66]                      [158358.28]   \n",
       "96   [581003.0]                      [651141.75]   \n",
       "97  [446768.88]                       [451848.2]   \n",
       "98   [400628.5]                      [392271.75]   \n",
       "99   [546632.0]                      [510557.38]   \n",
       "\n",
       "   out_housingchallenger02.variable  \n",
       "0                       [1074469.5]  \n",
       "1                       [433386.56]  \n",
       "2                        [277806.5]  \n",
       "3                       [521321.47]  \n",
       "4                        [605705.8]  \n",
       "..                              ...  \n",
       "95                      [180559.94]  \n",
       "96                      [647863.06]  \n",
       "97                       [397378.5]  \n",
       "98                      [368913.88]  \n",
       "99                      [509433.75]  \n",
       "\n",
       "[100 rows x 3 columns]"
      ]
     },
     "metadata": {},
     "output_type": "display_data"
    }
   ],
   "source": [
    "logs = shadow_pipeline.logs()\n",
    "display(logs.loc[:,['out.variable','out_housingchallenger01.variable','out_housingchallenger02.variable']])"
   ]
  },
  {
   "cell_type": "markdown",
   "metadata": {},
   "source": [
    "### Undeploy Shadow Pipeline\n",
    "\n",
    "We can now undeploy the shadow deployed pipeline to return the resources back to the Wallaroo instance."
   ]
  },
  {
   "cell_type": "code",
   "execution_count": 94,
   "metadata": {},
   "outputs": [
    {
     "data": {
      "text/html": [
       "<table><tr><th>name</th> <td>housepriceshadowtesting</td></tr><tr><th>created</th> <td>2023-03-29 19:31:26.274598+00:00</td></tr><tr><th>last_updated</th> <td>2023-03-29 20:26:53.952065+00:00</td></tr><tr><th>deployed</th> <td>False</td></tr><tr><th>tags</th> <td></td></tr><tr><th>versions</th> <td>31dcab61-21ac-4dc6-8de8-755caf994edf, cbe5c049-6ad8-443c-b905-9420cf1f930e, d46ddeac-9bd0-4020-b111-8320445b5e7d, dec7c584-ce2f-44ed-af37-9cb3785f4929</td></tr><tr><th>steps</th> <td>housingcontrol</td></tr></table>"
      ],
      "text/plain": [
       "{'name': 'housepriceshadowtesting', 'create_time': datetime.datetime(2023, 3, 29, 19, 31, 26, 274598, tzinfo=tzutc()), 'definition': \"[{'ModelInference': {'models': [{'name': 'housingcontrol', 'version': 'e88fae0a-f6c1-4f61-825a-ba43a35e12a7', 'sha': 'e22a0831aafd9917f3cc87a15ed267797f80e2afa12ad7d8810ca58f173b8cc6'}, {'name': 'housingchallenger01', 'version': '419f15fa-4256-48f5-9a2c-9d2393f5f787', 'sha': '31e92d6ccb27b041a324a7ac22cf95d9d6cc3aa7e8263a229f7c4aec4938657c'}, {'name': 'housingchallenger02', 'version': 'ee1e0f96-3825-417d-ac4d-ecc46c28ba90', 'sha': 'ed6065a79d841f7e96307bb20d5ef22840f15da0b587efb51425c7ad60589d6a'}]}}, {'AuditResults': {'from': 1, 'to': None}}, {'MultiOut': {}}]\"}"
      ]
     },
     "execution_count": 94,
     "metadata": {},
     "output_type": "execute_result"
    }
   ],
   "source": [
    "shadow_pipeline.undeploy()"
   ]
  },
  {
   "attachments": {},
   "cell_type": "markdown",
   "metadata": {},
   "source": [
    "## Model Swap\n",
    "\n",
    "Now that we've completed our testing, we can swap our deployed model in the original `housepricingpipeline` with one we feel works better.  This is one with the pipeline `replace_with_model_step` method, where we specify the pipeline step and the model to replace it with.  This pipeline had only one step with the `rf_model.onnx` model, and we'll swap it out with the `gbr_model.onnx` model.\n",
    "\n",
    "The model swap capability makes updating a pipeline with new models a quick production process.  \n",
    "\n",
    "We'll do an inference with the current model, then swap out the old for the new, then another inference check."
   ]
  },
  {
   "cell_type": "code",
   "execution_count": 95,
   "metadata": {},
   "outputs": [
    {
     "data": {
      "text/plain": [
       "{'status': 'Running',\n",
       " 'details': [],\n",
       " 'engines': [{'ip': '10.244.2.19',\n",
       "   'name': 'engine-646bff55b5-nj9gj',\n",
       "   'status': 'Running',\n",
       "   'reason': None,\n",
       "   'details': [],\n",
       "   'pipeline_statuses': {'pipelines': [{'id': 'housepricepipeline',\n",
       "      'status': 'Running'}]},\n",
       "   'model_statuses': {'models': [{'name': 'housingcontrol',\n",
       "      'version': '87a75b3f-1cbc-46bb-9aca-066c42162bdc',\n",
       "      'sha': 'e22a0831aafd9917f3cc87a15ed267797f80e2afa12ad7d8810ca58f173b8cc6',\n",
       "      'status': 'Running'}]}}],\n",
       " 'engine_lbs': [{'ip': '10.244.2.20',\n",
       "   'name': 'engine-lb-ddd995646-p8b7j',\n",
       "   'status': 'Running',\n",
       "   'reason': None,\n",
       "   'details': []}],\n",
       " 'sidekicks': []}"
      ]
     },
     "metadata": {},
     "output_type": "display_data"
    },
    {
     "data": {
      "text/html": [
       "<div>\n",
       "<style scoped>\n",
       "    .dataframe tbody tr th:only-of-type {\n",
       "        vertical-align: middle;\n",
       "    }\n",
       "\n",
       "    .dataframe tbody tr th {\n",
       "        vertical-align: top;\n",
       "    }\n",
       "\n",
       "    .dataframe thead th {\n",
       "        text-align: right;\n",
       "    }\n",
       "</style>\n",
       "<table border=\"1\" class=\"dataframe\">\n",
       "  <thead>\n",
       "    <tr style=\"text-align: right;\">\n",
       "      <th></th>\n",
       "      <th>time</th>\n",
       "      <th>in.tensor</th>\n",
       "      <th>out.variable</th>\n",
       "      <th>check_failures</th>\n",
       "    </tr>\n",
       "  </thead>\n",
       "  <tbody>\n",
       "    <tr>\n",
       "      <th>0</th>\n",
       "      <td>2023-03-29 20:27:48.941</td>\n",
       "      <td>[4.0, 2.5, 2900.0, 5505.0, 2.0, 0.0, 0.0, 3.0, 8.0, 2900.0, 0.0, 47.6063, -122.02, 2970.0, 5251.0, 12.0, 0.0, 0.0]</td>\n",
       "      <td>[718013.7]</td>\n",
       "      <td>0</td>\n",
       "    </tr>\n",
       "  </tbody>\n",
       "</table>\n",
       "</div>"
      ],
      "text/plain": [
       "                     time  \\\n",
       "0 2023-03-29 20:27:48.941   \n",
       "\n",
       "                                                                                                            in.tensor  \\\n",
       "0  [4.0, 2.5, 2900.0, 5505.0, 2.0, 0.0, 0.0, 3.0, 8.0, 2900.0, 0.0, 47.6063, -122.02, 2970.0, 5251.0, 12.0, 0.0, 0.0]   \n",
       "\n",
       "  out.variable  check_failures  \n",
       "0   [718013.7]               0  "
      ]
     },
     "metadata": {},
     "output_type": "display_data"
    }
   ],
   "source": [
    "# inference before model swap\n",
    "\n",
    "display(mainpipeline.status())\n",
    "swapinference = mainpipeline.infer_from_file('./data/xtest-1.df.json')\n",
    "display(swapinference)"
   ]
  },
  {
   "cell_type": "code",
   "execution_count": 96,
   "metadata": {},
   "outputs": [
    {
     "data": {
      "text/html": [
       "<table><tr><th>name</th> <td>housepricepipeline</td></tr><tr><th>created</th> <td>2023-03-29 17:27:50.527879+00:00</td></tr><tr><th>last_updated</th> <td>2023-03-29 20:27:49.364409+00:00</td></tr><tr><th>deployed</th> <td>True</td></tr><tr><th>tags</th> <td></td></tr><tr><th>versions</th> <td>00ad5db7-68f8-4c9a-b8d3-e11ecac82fe4, c65cbc00-e018-494f-83df-753fcf5fcd6b, 6140d071-f271-444c-a1b9-e2bbe8d00e92, 4859b778-52de-4c94-8230-4eaaf596ce32, 63c53886-9d38-44d0-a4df-a5ced0d2af98, 660af202-adff-4e23-966b-2b20e4138663, b0ffbd14-b58b-43f7-888d-37e0709cd90a, 6c9a282b-85fb-46e8-8e2e-3e804022b243, 2c1fe269-52d5-4288-9941-72cbbc3f8a45, 745e6ec4-9264-4f4b-8780-f9237cdd2569, 950430fd-2319-4e79-b3fe-986c50e219cf, 9a40b7d7-c65a-46fc-9b29-134fd65cf34b, 24de628e-c2b7-4a98-a81b-25c66d69f57a, d759b5b8-ee4d-408c-902a-022d6a773d0a, c3c67191-79b7-4690-a04c-0ee72eef2de5, 0245d76a-0221-496f-8e3f-9bff780a8dbe</td></tr><tr><th>steps</th> <td>housingcontrol</td></tr></table>"
      ],
      "text/plain": [
       "{'name': 'housepricepipeline', 'create_time': datetime.datetime(2023, 3, 29, 17, 27, 50, 527879, tzinfo=tzutc()), 'definition': \"[{'ModelInference': {'models': [{'name': 'housingchallenger01', 'version': '419f15fa-4256-48f5-9a2c-9d2393f5f787', 'sha': '31e92d6ccb27b041a324a7ac22cf95d9d6cc3aa7e8263a229f7c4aec4938657c'}]}}]\"}"
      ]
     },
     "execution_count": 96,
     "metadata": {},
     "output_type": "execute_result"
    }
   ],
   "source": [
    "# Swap the model with a new one, then redeploy the pipeline\n",
    "mainpipeline.replace_with_model_step(0, housing_model_challenger01).deploy()"
   ]
  },
  {
   "cell_type": "code",
   "execution_count": 97,
   "metadata": {},
   "outputs": [
    {
     "data": {
      "text/plain": [
       "{'status': 'Running',\n",
       " 'details': [],\n",
       " 'engines': [{'ip': '10.244.2.19',\n",
       "   'name': 'engine-646bff55b5-nj9gj',\n",
       "   'status': 'Running',\n",
       "   'reason': None,\n",
       "   'details': [],\n",
       "   'pipeline_statuses': {'pipelines': [{'id': 'housepricepipeline',\n",
       "      'status': 'Running'}]},\n",
       "   'model_statuses': {'models': [{'name': 'housingchallenger01',\n",
       "      'version': '419f15fa-4256-48f5-9a2c-9d2393f5f787',\n",
       "      'sha': '31e92d6ccb27b041a324a7ac22cf95d9d6cc3aa7e8263a229f7c4aec4938657c',\n",
       "      'status': 'Running'}]}}],\n",
       " 'engine_lbs': [{'ip': '10.244.2.20',\n",
       "   'name': 'engine-lb-ddd995646-p8b7j',\n",
       "   'status': 'Running',\n",
       "   'reason': None,\n",
       "   'details': []}],\n",
       " 'sidekicks': []}"
      ]
     },
     "metadata": {},
     "output_type": "display_data"
    },
    {
     "data": {
      "text/html": [
       "<div>\n",
       "<style scoped>\n",
       "    .dataframe tbody tr th:only-of-type {\n",
       "        vertical-align: middle;\n",
       "    }\n",
       "\n",
       "    .dataframe tbody tr th {\n",
       "        vertical-align: top;\n",
       "    }\n",
       "\n",
       "    .dataframe thead th {\n",
       "        text-align: right;\n",
       "    }\n",
       "</style>\n",
       "<table border=\"1\" class=\"dataframe\">\n",
       "  <thead>\n",
       "    <tr style=\"text-align: right;\">\n",
       "      <th></th>\n",
       "      <th>time</th>\n",
       "      <th>in.tensor</th>\n",
       "      <th>out.variable</th>\n",
       "      <th>check_failures</th>\n",
       "    </tr>\n",
       "  </thead>\n",
       "  <tbody>\n",
       "    <tr>\n",
       "      <th>0</th>\n",
       "      <td>2023-03-29 20:27:58.480</td>\n",
       "      <td>[4.0, 2.5, 2900.0, 5505.0, 2.0, 0.0, 0.0, 3.0, 8.0, 2900.0, 0.0, 47.6063, -122.02, 2970.0, 5251.0, 12.0, 0.0, 0.0]</td>\n",
       "      <td>[659806.0]</td>\n",
       "      <td>0</td>\n",
       "    </tr>\n",
       "  </tbody>\n",
       "</table>\n",
       "</div>"
      ],
      "text/plain": [
       "                     time  \\\n",
       "0 2023-03-29 20:27:58.480   \n",
       "\n",
       "                                                                                                            in.tensor  \\\n",
       "0  [4.0, 2.5, 2900.0, 5505.0, 2.0, 0.0, 0.0, 3.0, 8.0, 2900.0, 0.0, 47.6063, -122.02, 2970.0, 5251.0, 12.0, 0.0, 0.0]   \n",
       "\n",
       "  out.variable  check_failures  \n",
       "0   [659806.0]               0  "
      ]
     },
     "metadata": {},
     "output_type": "display_data"
    }
   ],
   "source": [
    "# inference after model swap\n",
    "\n",
    "display(mainpipeline.status())\n",
    "swapinference = mainpipeline.infer_from_file('./data/xtest-1.df.json')\n",
    "display(swapinference)"
   ]
  },
  {
   "attachments": {},
   "cell_type": "markdown",
   "metadata": {},
   "source": [
    "### Undeploy Main Pipeline\n",
    "\n",
    "With the examples and tutorial complete, we will undeploy the main pipeline and return the resources back to the Wallaroo instance."
   ]
  },
  {
   "cell_type": "code",
   "execution_count": 98,
   "metadata": {},
   "outputs": [
    {
     "data": {
      "text/html": [
       "<table><tr><th>name</th> <td>housepricepipeline</td></tr><tr><th>created</th> <td>2023-03-29 17:27:50.527879+00:00</td></tr><tr><th>last_updated</th> <td>2023-03-29 20:27:49.364409+00:00</td></tr><tr><th>deployed</th> <td>False</td></tr><tr><th>tags</th> <td></td></tr><tr><th>versions</th> <td>00ad5db7-68f8-4c9a-b8d3-e11ecac82fe4, c65cbc00-e018-494f-83df-753fcf5fcd6b, 6140d071-f271-444c-a1b9-e2bbe8d00e92, 4859b778-52de-4c94-8230-4eaaf596ce32, 63c53886-9d38-44d0-a4df-a5ced0d2af98, 660af202-adff-4e23-966b-2b20e4138663, b0ffbd14-b58b-43f7-888d-37e0709cd90a, 6c9a282b-85fb-46e8-8e2e-3e804022b243, 2c1fe269-52d5-4288-9941-72cbbc3f8a45, 745e6ec4-9264-4f4b-8780-f9237cdd2569, 950430fd-2319-4e79-b3fe-986c50e219cf, 9a40b7d7-c65a-46fc-9b29-134fd65cf34b, 24de628e-c2b7-4a98-a81b-25c66d69f57a, d759b5b8-ee4d-408c-902a-022d6a773d0a, c3c67191-79b7-4690-a04c-0ee72eef2de5, 0245d76a-0221-496f-8e3f-9bff780a8dbe</td></tr><tr><th>steps</th> <td>housingcontrol</td></tr></table>"
      ],
      "text/plain": [
       "{'name': 'housepricepipeline', 'create_time': datetime.datetime(2023, 3, 29, 17, 27, 50, 527879, tzinfo=tzutc()), 'definition': \"[{'ModelInference': {'models': [{'name': 'housingchallenger01', 'version': '419f15fa-4256-48f5-9a2c-9d2393f5f787', 'sha': '31e92d6ccb27b041a324a7ac22cf95d9d6cc3aa7e8263a229f7c4aec4938657c'}]}}]\"}"
      ]
     },
     "execution_count": 98,
     "metadata": {},
     "output_type": "execute_result"
    }
   ],
   "source": [
    "mainpipeline.undeploy()"
   ]
  }
 ],
 "metadata": {
  "kernelspec": {
   "display_name": "Python 3 (ipykernel)",
   "language": "python",
   "name": "python3"
  },
  "language_info": {
   "codemirror_mode": {
    "name": "ipython",
    "version": 3
   },
   "file_extension": ".py",
   "mimetype": "text/x-python",
   "name": "python",
   "nbconvert_exporter": "python",
   "pygments_lexer": "ipython3",
   "version": "3.8.12"
  },
  "vscode": {
   "interpreter": {
    "hash": "7dda4bf3640b7fafcd1648658b879b4cc9f6ba6084e8fb356fdaaa1a461d1690"
   }
  }
 },
 "nbformat": 4,
 "nbformat_minor": 4
}
