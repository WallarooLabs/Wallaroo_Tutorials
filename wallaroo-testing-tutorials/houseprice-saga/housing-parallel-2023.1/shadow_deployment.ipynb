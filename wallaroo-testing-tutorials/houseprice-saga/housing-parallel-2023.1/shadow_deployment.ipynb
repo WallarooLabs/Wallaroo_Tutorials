{
 "cells": [
  {
   "cell_type": "markdown",
   "metadata": {},
   "source": [
    "## Steps\n",
    "\n",
    "### Import libraries\n",
    "\n",
    "The first step is to import the libraries required.\n"
   ]
  },
  {
   "cell_type": "code",
   "execution_count": 1,
   "metadata": {},
   "outputs": [],
   "source": [
    "import wallaroo\n",
    "from wallaroo.object import EntityNotFoundError\n",
    "\n",
    "# used to display dataframe information without truncating\n",
    "from IPython.display import display\n",
    "import pandas as pd\n",
    "pd.set_option('display.max_colwidth', None)"
   ]
  },
  {
   "cell_type": "markdown",
   "metadata": {},
   "source": [
    "### Connect to Wallaroo\n",
    "\n",
    "Connect to your Wallaroo instance and save the connection as the variable `wl`."
   ]
  },
  {
   "cell_type": "code",
   "execution_count": 2,
   "metadata": {},
   "outputs": [],
   "source": [
    "# Login through local Wallaroo instance\n",
    "\n",
    "wl = wallaroo.Client()\n",
    "\n",
    "# SSO login through keycloak\n",
    "\n",
    "# wallarooPrefix = \"YOUR PREFIX\"\n",
    "# wallarooSuffix = \"YOUR SUFFIX\"\n",
    "\n",
    "# wl = wallaroo.Client(api_endpoint=f\"https://{wallarooPrefix}.api.{wallarooSuffix}\", \n",
    "#                     auth_endpoint=f\"https://{wallarooPrefix}.keycloak.{wallarooSuffix}\", \n",
    "#                     auth_type=\"sso\")"
   ]
  },
  {
   "cell_type": "markdown",
   "metadata": {},
   "source": [
    "### Arrow Support\n",
    "\n",
    "As of the 2023.1 release, Wallaroo provides support for dataframe and Arrow for inference inputs.  This tutorial allows users to adjust their experience based on whether they have enabled Arrow support in their Wallaroo instance or not.\n",
    "\n",
    "If Arrow support has been enabled, `arrowEnabled=True`. If disabled or you're not sure, set it to `arrowEnabled=False`\n",
    "\n",
    "The examples below will be shown in an arrow enabled environment."
   ]
  },
  {
   "cell_type": "code",
   "execution_count": 3,
   "metadata": {},
   "outputs": [
    {
     "name": "stdout",
     "output_type": "stream",
     "text": [
      "False\n"
     ]
    }
   ],
   "source": [
    "import os\n",
    "# Only set the below to make the OS environment ARROW_ENABLED to TRUE.  Otherwise, leave as is.\n",
    "# os.environ[\"ARROW_ENABLED\"]=\"True\"\n",
    "\n",
    "if \"ARROW_ENABLED\" not in os.environ or os.environ[\"ARROW_ENABLED\"].casefold() == \"False\".casefold():\n",
    "    arrowEnabled = False\n",
    "else:\n",
    "    arrowEnabled = True\n",
    "print(arrowEnabled)"
   ]
  },
  {
   "cell_type": "markdown",
   "metadata": {},
   "source": [
    "### Set Variables\n",
    "\n",
    "The following variables are used to create or use existing workspaces, pipelines, and upload the models.  Adjust them based on your Wallaroo instance and organization requirements."
   ]
  },
  {
   "cell_type": "code",
   "execution_count": 4,
   "metadata": {},
   "outputs": [],
   "source": [
    "workspace_name = 'housing-shadow-nbz'\n",
    "pipeline_name = 'hp-shadow'\n",
    "champion_model_name = 'housing-rf'\n",
    "champion_model_file = 'models/rf_model.onnx'\n",
    "shadow_model_01_name = 'housing-xgb'\n",
    "shadow_model_01_file = 'models/xgb_model.onnx'\n",
    "shadow_model_02_name = 'housing-gbr'\n",
    "shadow_model_02_file = 'models/gbr_model.onnx'"
   ]
  },
  {
   "cell_type": "markdown",
   "metadata": {},
   "source": [
    "### Workspace and Pipeline\n",
    "\n",
    "The following creates or connects to an existing workspace based on the variable `workspace_name`, and creates or connects to a pipeline based on the variable `pipeline_name`."
   ]
  },
  {
   "cell_type": "code",
   "execution_count": 5,
   "metadata": {},
   "outputs": [],
   "source": [
    "def get_workspace(name):\n",
    "    workspace = None\n",
    "    for ws in wl.list_workspaces():\n",
    "        if ws.name() == name:\n",
    "            workspace= ws\n",
    "    if(workspace == None):\n",
    "        workspace = wl.create_workspace(name)\n",
    "    return workspace\n",
    "\n",
    "def get_pipeline(name):\n",
    "    try:\n",
    "        pipeline = wl.pipelines_by_name(pipeline_name)[0]\n",
    "    except EntityNotFoundError:\n",
    "        pipeline = wl.build_pipeline(pipeline_name)\n",
    "    return pipeline"
   ]
  },
  {
   "cell_type": "code",
   "execution_count": 6,
   "metadata": {},
   "outputs": [
    {
     "data": {
      "text/html": [
       "<table><tr><th>name</th> <td>hp-shadow</td></tr><tr><th>created</th> <td>2023-03-14 00:54:59.178748+00:00</td></tr><tr><th>last_updated</th> <td>2023-03-14 00:54:59.178748+00:00</td></tr><tr><th>deployed</th> <td>(none)</td></tr><tr><th>tags</th> <td></td></tr><tr><th>versions</th> <td>10d62450-7b81-4787-8286-0fd551827dc8</td></tr><tr><th>steps</th> <td></td></tr></table>"
      ],
      "text/plain": [
       "{'name': 'hp-shadow', 'create_time': datetime.datetime(2023, 3, 14, 0, 54, 59, 178748, tzinfo=tzutc()), 'definition': '[]'}"
      ]
     },
     "execution_count": 6,
     "metadata": {},
     "output_type": "execute_result"
    }
   ],
   "source": [
    "workspace = get_workspace(workspace_name)\n",
    "\n",
    "wl.set_current_workspace(workspace)\n",
    "\n",
    "pipeline = get_pipeline(pipeline_name)\n",
    "pipeline\n"
   ]
  },
  {
   "cell_type": "markdown",
   "metadata": {},
   "source": [
    "### Load the Models\n",
    "\n",
    "The models will be uploaded into the current workspace based on the variable names set earlier and listed as the `champion`, `model2` and `model3`."
   ]
  },
  {
   "cell_type": "code",
   "execution_count": 7,
   "metadata": {},
   "outputs": [],
   "source": [
    "champion = wl.upload_model(champion_model_name, champion_model_file).configure()\n",
    "model2 = wl.upload_model(shadow_model_01_name, shadow_model_01_file).configure()\n",
    "model3 = wl.upload_model(shadow_model_02_name, shadow_model_02_file).configure()"
   ]
  },
  {
   "cell_type": "markdown",
   "metadata": {},
   "source": [
    "### Create Shadow Deployment\n",
    "\n",
    "A shadow deployment is created using the `add_shadow_deploy(champion, challengers[])` method where:\n",
    "\n",
    "* `champion`: The model that will be primarily used for inferences run through the pipeline.  Inference results will be returned through the Inference Object's `data` element.\n",
    "* `challengers[]`: An array of models that will be used for inferences iteratively.  Inference results will be returned through the Inference Object's `shadow_data` element."
   ]
  },
  {
   "cell_type": "code",
   "execution_count": 8,
   "metadata": {},
   "outputs": [
    {
     "data": {
      "text/html": [
       "<table><tr><th>name</th> <td>hp-shadow</td></tr><tr><th>created</th> <td>2023-03-14 00:54:59.178748+00:00</td></tr><tr><th>last_updated</th> <td>2023-03-14 00:54:59.178748+00:00</td></tr><tr><th>deployed</th> <td>(none)</td></tr><tr><th>tags</th> <td></td></tr><tr><th>versions</th> <td>10d62450-7b81-4787-8286-0fd551827dc8</td></tr><tr><th>steps</th> <td></td></tr></table>"
      ],
      "text/plain": [
       "{'name': 'hp-shadow', 'create_time': datetime.datetime(2023, 3, 14, 0, 54, 59, 178748, tzinfo=tzutc()), 'definition': \"[{'ModelInference': {'models': [{'name': 'housing-rf', 'version': 'b4e0daf2-9070-43b9-b757-dc2a3d204087', 'sha': 'e22a0831aafd9917f3cc87a15ed267797f80e2afa12ad7d8810ca58f173b8cc6'}, {'name': 'housing-xgb', 'version': '18fc5f4c-468c-4fbf-be3d-daf5d83021de', 'sha': '31e92d6ccb27b041a324a7ac22cf95d9d6cc3aa7e8263a229f7c4aec4938657c'}, {'name': 'housing-gbr', 'version': '4a3ed894-ec64-4e86-862e-3a3741dd9297', 'sha': 'ed6065a79d841f7e96307bb20d5ef22840f15da0b587efb51425c7ad60589d6a'}]}}, {'AuditResults': {'from': 1, 'to': None}}, {'MultiOut': {}}]\"}"
      ]
     },
     "execution_count": 8,
     "metadata": {},
     "output_type": "execute_result"
    }
   ],
   "source": [
    "pipeline.add_shadow_deploy(champion, [model2, model3])"
   ]
  },
  {
   "cell_type": "code",
   "execution_count": 9,
   "metadata": {},
   "outputs": [
    {
     "name": "stdout",
     "output_type": "stream",
     "text": [
      "Waiting for deployment - this will take up to 45s ............. ok\n"
     ]
    },
    {
     "data": {
      "text/html": [
       "<table><tr><th>name</th> <td>hp-shadow</td></tr><tr><th>created</th> <td>2023-03-14 00:54:59.178748+00:00</td></tr><tr><th>last_updated</th> <td>2023-03-14 00:55:14.819430+00:00</td></tr><tr><th>deployed</th> <td>True</td></tr><tr><th>tags</th> <td></td></tr><tr><th>versions</th> <td>4cbc99fb-9946-420e-981d-fe0ef29a7606, 10d62450-7b81-4787-8286-0fd551827dc8</td></tr><tr><th>steps</th> <td>housing-rf</td></tr></table>"
      ],
      "text/plain": [
       "{'name': 'hp-shadow', 'create_time': datetime.datetime(2023, 3, 14, 0, 54, 59, 178748, tzinfo=tzutc()), 'definition': \"[{'ModelInference': {'models': [{'name': 'housing-rf', 'version': 'b4e0daf2-9070-43b9-b757-dc2a3d204087', 'sha': 'e22a0831aafd9917f3cc87a15ed267797f80e2afa12ad7d8810ca58f173b8cc6'}, {'name': 'housing-xgb', 'version': '18fc5f4c-468c-4fbf-be3d-daf5d83021de', 'sha': '31e92d6ccb27b041a324a7ac22cf95d9d6cc3aa7e8263a229f7c4aec4938657c'}, {'name': 'housing-gbr', 'version': '4a3ed894-ec64-4e86-862e-3a3741dd9297', 'sha': 'ed6065a79d841f7e96307bb20d5ef22840f15da0b587efb51425c7ad60589d6a'}]}}, {'AuditResults': {'from': 1, 'to': None}}, {'MultiOut': {}}]\"}"
      ]
     },
     "execution_count": 9,
     "metadata": {},
     "output_type": "execute_result"
    }
   ],
   "source": [
    "pipeline.deploy()"
   ]
  },
  {
   "cell_type": "markdown",
   "metadata": {},
   "source": [
    "### Run Test Inference\n",
    "\n",
    "Using the data from `sample_data_file`, a test inference will be made."
   ]
  },
  {
   "cell_type": "code",
   "execution_count": 11,
   "metadata": {},
   "outputs": [
    {
     "data": {
      "text/plain": [
       "[InferenceResult({'check_failures': [],\n",
       "  'elapsed': 216622,\n",
       "  'model_name': 'housing-rf',\n",
       "  'model_version': 'b4e0daf2-9070-43b9-b757-dc2a3d204087',\n",
       "  'original_data': {'tensor': [[4.0,\n",
       "                                2.5,\n",
       "                                2900.0,\n",
       "                                5505.0,\n",
       "                                2.0,\n",
       "                                0.0,\n",
       "                                0.0,\n",
       "                                3.0,\n",
       "                                8.0,\n",
       "                                2900.0,\n",
       "                                0.0,\n",
       "                                47.6063,\n",
       "                                -122.02,\n",
       "                                2970.0,\n",
       "                                5251.0,\n",
       "                                12.0,\n",
       "                                0.0,\n",
       "                                0.0]]},\n",
       "  'outputs': [{'Float': {'data': [718013.6875],\n",
       "                         'dim': [1, 1],\n",
       "                         'dtype': 'Float',\n",
       "                         'v': 1}}],\n",
       "  'pipeline_name': 'hp-shadow',\n",
       "  'shadow_data': {'housing-gbr': [{'Float': {'data': [704901.875],\n",
       "                                             'dim': [1, 1],\n",
       "                                             'v': 1}}],\n",
       "                  'housing-xgb': [{'Float': {'data': [659806.0],\n",
       "                                             'dim': [1, 1],\n",
       "                                             'v': 1}}]},\n",
       "  'time': 1678755433131})]"
      ]
     },
     "metadata": {},
     "output_type": "display_data"
    }
   ],
   "source": [
    "if arrowEnabled is True:\n",
    "    sample_data_file = 'data/xtest-1.df.json'\n",
    "    response = pipeline.infer_from_file(sample_data_file)\n",
    "else:\n",
    "    sample_data_file = 'data/xtest-1.json'\n",
    "    response = pipeline.infer_from_file(sample_data_file)\n",
    "display(response)"
   ]
  },
  {
   "cell_type": "markdown",
   "metadata": {},
   "source": [
    "### View Pipeline Logs\n",
    "\n",
    "With the inferences complete, we can retrieve the log data from the pipeline with the pipeline `logs` method.  Note that for **each** inference request, the logs return **one entry per model**.  For this example, for one inference request three log entries will be created."
   ]
  },
  {
   "cell_type": "code",
   "execution_count": 12,
   "metadata": {},
   "outputs": [
    {
     "data": {
      "text/html": [
       "\n",
       "        <table>\n",
       "            <tr>\n",
       "                <th>Timestamp</th>\n",
       "                <th>Output</th>\n",
       "                <th>Input</th>\n",
       "                <th>Anomalies</th>\n",
       "            </tr>\n",
       "            \n",
       "        <tr style=\"\">\n",
       "            <td>2023-14-Mar 00:57:13</td>\n",
       "            <td>[array([[659806.]])]</td>\n",
       "            <td>[[4.0, 2.5, 2900.0, 5505.0, 2.0, 0.0, 0.0, 3.0, 8.0, 2900.0, 0.0, 47.6063, -122.02, 2970.0, 5251.0, 12.0, 0.0, 0.0]]</td>\n",
       "            <td>0</td>\n",
       "        </tr>\n",
       "        \n",
       "\n",
       "        <tr style=\"\">\n",
       "            <td>2023-14-Mar 00:57:13</td>\n",
       "            <td>[array([[704901.875]])]</td>\n",
       "            <td>[[4.0, 2.5, 2900.0, 5505.0, 2.0, 0.0, 0.0, 3.0, 8.0, 2900.0, 0.0, 47.6063, -122.02, 2970.0, 5251.0, 12.0, 0.0, 0.0]]</td>\n",
       "            <td>0</td>\n",
       "        </tr>\n",
       "        \n",
       "\n",
       "        <tr style=\"\">\n",
       "            <td>2023-14-Mar 00:57:13</td>\n",
       "            <td>[array([[718013.6875]])]</td>\n",
       "            <td>[[4.0, 2.5, 2900.0, 5505.0, 2.0, 0.0, 0.0, 3.0, 8.0, 2900.0, 0.0, 47.6063, -122.02, 2970.0, 5251.0, 12.0, 0.0, 0.0]]</td>\n",
       "            <td>0</td>\n",
       "        </tr>\n",
       "        \n",
       "        </table>\n",
       "        "
      ],
      "text/plain": [
       "[<wallaroo.logs.LogEntry at 0x7fb2ebc46d00>,\n",
       " <wallaroo.logs.LogEntry at 0x7fb368657190>,\n",
       " <wallaroo.logs.LogEntry at 0x7fb28f90b4f0>]"
      ]
     },
     "execution_count": 12,
     "metadata": {},
     "output_type": "execute_result"
    }
   ],
   "source": [
    "pipeline.logs()"
   ]
  },
  {
   "cell_type": "markdown",
   "metadata": {},
   "source": [
    "### View Logs Per Model\n",
    "\n",
    "Another way of displaying the logs would be to specify the model.\n",
    "\n",
    "For Arrow enabled Wallaroo instances, the log files are returned as a DataFrame, and the models can be specified by rows.  The following code will display the log data based based on the model name and the inference output for that specific model.\n",
    "\n",
    "For arrow disabled Wallaroo instances, to view the inputs and results for the shadow deployed models, use the pipeline `logs_shadow_deploy()` method.  The results will be grouped by the inputs."
   ]
  },
  {
   "cell_type": "code",
   "execution_count": 13,
   "metadata": {},
   "outputs": [
    {
     "data": {
      "text/plain": [
       "'housing-xgb'"
      ]
     },
     "metadata": {},
     "output_type": "display_data"
    },
    {
     "data": {
      "text/plain": [
       "[array([[659806.]])]"
      ]
     },
     "metadata": {},
     "output_type": "display_data"
    },
    {
     "data": {
      "text/plain": [
       "'housing-gbr'"
      ]
     },
     "metadata": {},
     "output_type": "display_data"
    },
    {
     "data": {
      "text/plain": [
       "[array([[704901.875]])]"
      ]
     },
     "metadata": {},
     "output_type": "display_data"
    },
    {
     "data": {
      "text/plain": [
       "'housing-rf'"
      ]
     },
     "metadata": {},
     "output_type": "display_data"
    },
    {
     "data": {
      "text/plain": [
       "[array([[718013.6875]])]"
      ]
     },
     "metadata": {},
     "output_type": "display_data"
    },
    {
     "data": {
      "text/html": [
       "\n",
       "                <h2>Shadow Deploy Logs</h2>\n",
       "                <p>\n",
       "                    <em>Logs from a shadow pipeline, grouped by their input.</em>\n",
       "                </p>\n",
       "                <table>\n",
       "                    <tbody>\n",
       "                        \n",
       "                    <tr><td colspan='6'>Log Entry 0</td></tr>\n",
       "                    <tr><td colspan='6'></td></tr>\n",
       "                    <tr>\n",
       "\t\t\t<td>\n",
       "\t\t\t\t<strong><em>Input</em></strong>\n",
       "\t\t\t</td>\n",
       "                        <td colspan='6'>[[4.0, 2.5, 2900.0, 5505.0, 2.0, 0.0, 0.0, 3.0, 8.0, 2900.0, 0.0, 47.6063, -122.02, 2970.0, 5251.0, 12.0, 0.0, 0.0]]</td>\n",
       "                    </tr>\n",
       "                \n",
       "                    <tr>\n",
       "                        <td>Model Type</td>\n",
       "                        <td>\n",
       "                            <strong>Model Name</strong>\n",
       "                        </td>\n",
       "                        <td>\n",
       "                            <strong>Output</strong>\n",
       "                        </td>\n",
       "                        <td>\n",
       "                            <strong>Timestamp</strong>\n",
       "                        </td>\n",
       "                        <td>\n",
       "                            <strong>Model Version</strong>\n",
       "                        </td>\n",
       "                        <td>\n",
       "                            <strong>Elapsed</strong>\n",
       "                        </td>\n",
       "                    </tr>\n",
       "                    <tr>\n",
       "                        <td><strong><em>Primary</em></strong></td>\n",
       "                        <td>housing-rf</td>\n",
       "                        <td>[array([[718013.6875]])]</td>\n",
       "                        <td>2023-03-14T00:57:13.131000</td>\n",
       "                        <td>b4e0daf2-9070-43b9-b757-dc2a3d204087</td>\n",
       "                        <td>216622</td>\n",
       "                    </tr>\n",
       "                \n",
       "                    <tr>\n",
       "                        <td><strong><em>Challenger</em></strong></td>\n",
       "                        <td>housing-gbr</td>\n",
       "                        <td>[{'Float': {'v': 1, 'dim': [1, 1], 'data': [704901.875]}}]</td>\n",
       "                        <td colspan=3></td>\n",
       "                    </tr>\n",
       "                \n",
       "                    <tr>\n",
       "                        <td><strong><em>Challenger</em></strong></td>\n",
       "                        <td>housing-xgb</td>\n",
       "                        <td>[{'Float': {'v': 1, 'dim': [1, 1], 'data': [659806.0]}}]</td>\n",
       "                        <td colspan=3></td>\n",
       "                    </tr>\n",
       "                \n",
       "                    </tbody>\n",
       "                <table>\n",
       "            "
      ],
      "text/plain": [
       "[]"
      ]
     },
     "metadata": {},
     "output_type": "display_data"
    }
   ],
   "source": [
    "import json\n",
    "if arrowEnabled is True:\n",
    "    logs = pipeline.logs()\n",
    "    for index, row in logs.iterrows():\n",
    "        convertedjson = json.loads(row['message'])\n",
    "        displayModelName = convertedjson['model_name']\n",
    "        displayOutputs = str(convertedjson['outputs'][0]['Float']['data'][0])\n",
    "        display([displayModelName,displayOutputs])\n",
    "else:\n",
    "    logs = pipeline.logs()\n",
    "    for log in logs:\n",
    "        display(log.model_name, log.output) \n",
    "    shadow_logs = pipeline.logs_shadow_deploy()\n",
    "    display(shadow_logs)"
   ]
  },
  {
   "cell_type": "markdown",
   "metadata": {},
   "source": [
    "### Undeploy the Pipeline\n",
    "\n",
    "With the tutorial complete, we undeploy the pipeline and return the resources back to the system."
   ]
  },
  {
   "cell_type": "code",
   "execution_count": 14,
   "metadata": {},
   "outputs": [
    {
     "name": "stdout",
     "output_type": "stream",
     "text": [
      "Waiting for undeployment - this will take up to 45s ..................................... ok\n"
     ]
    },
    {
     "data": {
      "text/html": [
       "<table><tr><th>name</th> <td>hp-shadow</td></tr><tr><th>created</th> <td>2023-03-14 00:54:59.178748+00:00</td></tr><tr><th>last_updated</th> <td>2023-03-14 00:55:14.819430+00:00</td></tr><tr><th>deployed</th> <td>False</td></tr><tr><th>tags</th> <td></td></tr><tr><th>versions</th> <td>4cbc99fb-9946-420e-981d-fe0ef29a7606, 10d62450-7b81-4787-8286-0fd551827dc8</td></tr><tr><th>steps</th> <td>housing-rf</td></tr></table>"
      ],
      "text/plain": [
       "{'name': 'hp-shadow', 'create_time': datetime.datetime(2023, 3, 14, 0, 54, 59, 178748, tzinfo=tzutc()), 'definition': \"[{'ModelInference': {'models': [{'name': 'housing-rf', 'version': 'b4e0daf2-9070-43b9-b757-dc2a3d204087', 'sha': 'e22a0831aafd9917f3cc87a15ed267797f80e2afa12ad7d8810ca58f173b8cc6'}, {'name': 'housing-xgb', 'version': '18fc5f4c-468c-4fbf-be3d-daf5d83021de', 'sha': '31e92d6ccb27b041a324a7ac22cf95d9d6cc3aa7e8263a229f7c4aec4938657c'}, {'name': 'housing-gbr', 'version': '4a3ed894-ec64-4e86-862e-3a3741dd9297', 'sha': 'ed6065a79d841f7e96307bb20d5ef22840f15da0b587efb51425c7ad60589d6a'}]}}, {'AuditResults': {'from': 1, 'to': None}}, {'MultiOut': {}}]\"}"
      ]
     },
     "execution_count": 14,
     "metadata": {},
     "output_type": "execute_result"
    }
   ],
   "source": [
    "pipeline.undeploy()"
   ]
  },
  {
   "cell_type": "code",
   "execution_count": null,
   "metadata": {},
   "outputs": [],
   "source": []
  }
 ],
 "metadata": {
  "kernelspec": {
   "display_name": "Python 3 (ipykernel)",
   "language": "python",
   "name": "python3"
  },
  "language_info": {
   "codemirror_mode": {
    "name": "ipython",
    "version": 3
   },
   "file_extension": ".py",
   "mimetype": "text/x-python",
   "name": "python",
   "nbconvert_exporter": "python",
   "pygments_lexer": "ipython3",
   "version": "3.9.13"
  },
  "vscode": {
   "interpreter": {
    "hash": "7dda4bf3640b7fafcd1648658b879b4cc9f6ba6084e8fb356fdaaa1a461d1690"
   }
  }
 },
 "nbformat": 4,
 "nbformat_minor": 4
}
