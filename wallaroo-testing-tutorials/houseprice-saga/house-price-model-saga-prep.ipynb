{
 "cells": [
  {
   "cell_type": "markdown",
   "metadata": {},
   "source": [
    "This tutorial and the assets can be downloaded as part of the [Wallaroo Tutorials repository](https://github.com/WallarooLabs/Wallaroo_Tutorials/tree/main/wallaroo-testing-tutorials/anomaly_detection).\n",
    "\n",
    "## House Price Testing Life Cycle Preparation\n",
    "\n",
    "This notebook is used in preparation for the House Price Life Cycle tutorial.  This includes:\n",
    "\n",
    "* Setting up a workspace, pipeline, and model for deriving the price of a house based on inputs.\n",
    "* Creating an assay from a sample of inferences.\n",
    "* Display the inference result and upload the assay to the Wallaroo instance where it can be referenced later.\n",
    "\n",
    "This preparation is used for the House Price Life Cycle Comprehensive and Short tutorials, included in this folder.\n",
    "\n",
    "This tutorial provides the following:\n",
    "\n",
    "* Models:\n",
    "  * `models/rf_model.onnx`: The champion model that has been used in this environment for some time.\n",
    "  * `models/xgb_model.onnx` and `models/gbr_model.onnx`: Rival models that will be tested against the champion.\n",
    "* Data:\n",
    "  * `data/xtest-1.df.json` and `data/xtest-1k.df.json`:  DataFrame JSON inference inputs with 1 input and 1,000 inputs.\n",
    "  * `data/xtest-1k.arrow`:  Apache Arrow inference inputs with 1 input and 1,000 inputs.\n",
    "\n",
    "## Prerequisites\n",
    "\n",
    "* A deployed Wallaroo instance\n",
    "* The following Python libraries installed:\n",
    "  * [`wallaroo`](https://pypi.org/project/wallaroo/): The Wallaroo SDK. Included with the Wallaroo JupyterHub service by default.\n",
    "  * [`pandas`](https://pypi.org/project/pandas/): Pandas, mainly used for Pandas DataFrame\n",
    "\n",
    "## Preparation\n",
    "\n",
    "It is recommended that this preparation is run at least an hour or so before a demonstration of the House Price Saga Comprehensive and Short tutorials.\n",
    "\n",
    "This will require that the same workspace, pipeline, model name, and assay name are used from this preparation notebook to the tutorial.  Those variables are stored directly below.  "
   ]
  },
  {
   "cell_type": "code",
   "execution_count": 1,
   "metadata": {},
   "outputs": [],
   "source": [
    "suffix='jch'\n",
    "\n",
    "workspace_name = f'housepricesagaworkspace{suffix}'\n",
    "main_pipeline_name = f'housepricesagapipeline'\n",
    "model_name_control = f'housepricesagacontrol'\n",
    "model_file_name_control = './models/rf_model.onnx'\n",
    "\n",
    "# Set the name of the assay\n",
    "assay_name=f\"house price test{suffix}\""
   ]
  },
  {
   "cell_type": "code",
   "execution_count": 2,
   "metadata": {},
   "outputs": [],
   "source": [
    "def get_workspace(name):\n",
    "    workspace = None\n",
    "    for ws in wl.list_workspaces():\n",
    "        if ws.name() == name:\n",
    "            workspace= ws\n",
    "    if(workspace == None):\n",
    "        workspace = wl.create_workspace(name)\n",
    "    return workspace\n",
    "\n",
    "def get_pipeline(name, workspace):\n",
    "    pipelines = workspace.pipelines()\n",
    "    pipe_filter = filter(lambda x: x.name() == name, pipelines)\n",
    "    pipes = list(pipe_filter)\n",
    "    # we can't have a pipe in the workspace with the same name, so it's always the first\n",
    "    if pipes:\n",
    "        pipeline = pipes[0]\n",
    "    else:\n",
    "        pipeline = wl.build_pipeline(name)\n",
    "    return pipeline"
   ]
  },
  {
   "cell_type": "markdown",
   "metadata": {},
   "source": [
    "## Initial Steps\n",
    "\n",
    "### Import libraries\n",
    "\n",
    "The first step is to import the libraries needed for this notebook."
   ]
  },
  {
   "cell_type": "code",
   "execution_count": 3,
   "metadata": {},
   "outputs": [],
   "source": [
    "import wallaroo\n",
    "from wallaroo.object import EntityNotFoundError\n",
    "from wallaroo.framework import Framework\n",
    "\n",
    "from IPython.display import display\n",
    "\n",
    "# used to display DataFrame information without truncating\n",
    "from IPython.display import display\n",
    "import pandas as pd\n",
    "pd.set_option('display.max_colwidth', None)\n",
    "\n",
    "import datetime\n",
    "import time\n",
    "\n",
    "# used for unique connection names\n",
    "\n",
    "import string\n",
    "import random\n",
    "\n",
    "suffix= ''.join(random.choice(string.ascii_lowercase) for i in range(4))"
   ]
  },
  {
   "cell_type": "markdown",
   "metadata": {},
   "source": [
    "### Connect to the Wallaroo Instance\n",
    "\n",
    "The first step is to connect to Wallaroo through the Wallaroo client.  The Python library is included in the Wallaroo install and available through the Jupyter Hub interface provided with your Wallaroo environment.\n",
    "\n",
    "This is accomplished using the `wallaroo.Client()` command, which provides a URL to grant the SDK permission to your specific Wallaroo environment.  When displayed, enter the URL into a browser and confirm permissions.  Store the connection into a variable that can be referenced later.\n",
    "\n",
    "If logging into the Wallaroo instance through the internal JupyterHub service, use `wl = wallaroo.Client()`.  For more information on Wallaroo Client settings, see the [Client Connection guide](https://docs.wallaroo.ai/wallaroo-developer-guides/wallaroo-sdk-guides/wallaroo-sdk-essentials-guide/wallaroo-sdk-essentials-client/)."
   ]
  },
  {
   "cell_type": "code",
   "execution_count": 4,
   "metadata": {},
   "outputs": [
    {
     "name": "stdout",
     "output_type": "stream",
     "text": [
      "Please log into the following URL in a web browser:\n",
      "\n",
      "\thttps://keycloak.autoscale-uat-ee.wallaroo.dev/auth/realms/master/device?user_code=RSUI-LVIQ\n",
      "\n",
      "Login successful!\n"
     ]
    }
   ],
   "source": [
    "# Login through local Wallaroo instance\n",
    "\n",
    "wl = wallaroo.Client()"
   ]
  },
  {
   "cell_type": "markdown",
   "metadata": {},
   "source": [
    "### Create Workspace\n",
    "\n",
    "We will create a workspace to manage our pipeline and models.  The following variables will set the name of our sample workspace then set it as the current workspace.\n",
    "\n",
    "Workspace, pipeline, and model names should be unique to each user, so we'll add in a randomly generated suffix so multiple people can run this tutorial in a Wallaroo instance without effecting each other."
   ]
  },
  {
   "cell_type": "code",
   "execution_count": 5,
   "metadata": {},
   "outputs": [
    {
     "data": {
      "text/plain": [
       "{'name': 'housepricesagaworkspacejch', 'id': 93, 'archived': False, 'created_by': '96f248bc-0ea2-4c05-b6dd-e5351d89b2e4', 'created_at': '2023-10-16T15:40:16.382676+00:00', 'models': [], 'pipelines': []}"
      ]
     },
     "execution_count": 5,
     "metadata": {},
     "output_type": "execute_result"
    }
   ],
   "source": [
    "workspace = get_workspace(workspace_name)\n",
    "\n",
    "wl.set_current_workspace(workspace)"
   ]
  },
  {
   "cell_type": "markdown",
   "metadata": {},
   "source": [
    "### Upload The Champion Model\n",
    "\n",
    "For our example, we will upload the champion model that has been trained to derive house prices from a variety of inputs.  The model file is `rf_model.onnx`, and is uploaded with the name `housingcontrol`."
   ]
  },
  {
   "cell_type": "code",
   "execution_count": 228,
   "metadata": {},
   "outputs": [],
   "source": [
    "housing_model_control = (wl.upload_model(model_name_control, \n",
    "                                        model_file_name_control, \n",
    "                                        framework=Framework.ONNX)\n",
    "                                        .configure(tensor_fields=[\"tensor\"])\n",
    "                        )"
   ]
  },
  {
   "cell_type": "markdown",
   "metadata": {},
   "source": [
    "## Standard Pipeline Steps\n",
    "\n",
    "### Build the Pipeline\n",
    "\n",
    "This pipeline is made to be an example of an existing situation where a model is deployed and being used for inferences in a production environment.  We'll call it `housepricepipeline`, set `housingcontrol` as a pipeline step, then run a few sample inferences.\n",
    "\n",
    "This pipeline will be a simple one - just a single pipeline step."
   ]
  },
  {
   "cell_type": "code",
   "execution_count": 229,
   "metadata": {},
   "outputs": [
    {
     "name": "stdout",
     "output_type": "stream",
     "text": [
      " ok\n"
     ]
    },
    {
     "data": {
      "text/html": [
       "<table><tr><th>name</th> <td>housepricesagapipeline</td></tr><tr><th>created</th> <td>2023-10-16 15:40:16.732820+00:00</td></tr><tr><th>last_updated</th> <td>2023-10-16 22:10:54.235613+00:00</td></tr><tr><th>deployed</th> <td>True</td></tr><tr><th>tags</th> <td></td></tr><tr><th>versions</th> <td>ca0b9d7b-ec84-4be4-8c50-f3c3afb8584a, 11af088b-fb7e-49df-a52b-a878c90e82d8, 804877a5-0b3c-48df-b529-0e6ac431123e, b62aa586-01f5-4c09-a827-4501cd9c07c1</td></tr><tr><th>steps</th> <td>housepricesagacontrol</td></tr><tr><th>published</th> <td>False</td></tr></table>"
      ],
      "text/plain": [
       "{'name': 'housepricesagapipeline', 'create_time': datetime.datetime(2023, 10, 16, 15, 40, 16, 732820, tzinfo=tzutc()), 'definition': \"[{'ModelInference': {'models': [{'name': 'housepricesagacontrol', 'version': '7b650c72-61ca-4c7d-bb5d-bb9b95dad5d5', 'sha': 'e22a0831aafd9917f3cc87a15ed267797f80e2afa12ad7d8810ca58f173b8cc6'}]}}]\"}"
      ]
     },
     "execution_count": 229,
     "metadata": {},
     "output_type": "execute_result"
    }
   ],
   "source": [
    "mainpipeline = get_pipeline(main_pipeline_name, workspace)\n",
    "mainpipeline.clear()\n",
    "\n",
    "mainpipeline.add_model_step(housing_model_control).deploy()"
   ]
  },
  {
   "cell_type": "markdown",
   "metadata": {},
   "source": [
    "### Testing\n",
    "\n",
    "We'll use two inferences as a quick sample test - one that has a house that should be determined around $700k, the other with a house determined to be around $1.5 million.  We'll also save the start and end periods for these events to for later log functionality."
   ]
  },
  {
   "cell_type": "code",
   "execution_count": 9,
   "metadata": {},
   "outputs": [
    {
     "name": "stdout",
     "output_type": "stream",
     "text": [
      "Inputs:  ['float_input']\n",
      "Outputs:  ['variable']\n"
     ]
    }
   ],
   "source": [
    "# import onnx\n",
    "\n",
    "# model = onnx.load(model_file_name_control)\n",
    "# output =[node.name for node in model.graph.output]\n",
    "\n",
    "# input_all = [node.name for node in model.graph.input]\n",
    "# input_initializer =  [node.name for node in model.graph.initializer]\n",
    "# net_feed_input = list(set(input_all)  - set(input_initializer))\n",
    "\n",
    "# print('Inputs: ', net_feed_input)\n",
    "# print('Outputs: ', output)"
   ]
  },
  {
   "cell_type": "code",
   "execution_count": 230,
   "metadata": {},
   "outputs": [
    {
     "data": {
      "text/html": [
       "<div>\n",
       "<style scoped>\n",
       "    .dataframe tbody tr th:only-of-type {\n",
       "        vertical-align: middle;\n",
       "    }\n",
       "\n",
       "    .dataframe tbody tr th {\n",
       "        vertical-align: top;\n",
       "    }\n",
       "\n",
       "    .dataframe thead th {\n",
       "        text-align: right;\n",
       "    }\n",
       "</style>\n",
       "<table border=\"1\" class=\"dataframe\">\n",
       "  <thead>\n",
       "    <tr style=\"text-align: right;\">\n",
       "      <th></th>\n",
       "      <th>time</th>\n",
       "      <th>in.tensor</th>\n",
       "      <th>out.variable</th>\n",
       "      <th>check_failures</th>\n",
       "    </tr>\n",
       "  </thead>\n",
       "  <tbody>\n",
       "    <tr>\n",
       "      <th>0</th>\n",
       "      <td>2023-10-16 22:11:07.261</td>\n",
       "      <td>[4.0, 2.5, 2900.0, 5505.0, 2.0, 0.0, 0.0, 3.0, 8.0, 2900.0, 0.0, 47.6063, -122.02, 2970.0, 5251.0, 12.0, 0.0, 0.0]</td>\n",
       "      <td>[718013.7]</td>\n",
       "      <td>0</td>\n",
       "    </tr>\n",
       "  </tbody>\n",
       "</table>\n",
       "</div>"
      ],
      "text/plain": [
       "                     time  \\\n",
       "0 2023-10-16 22:11:07.261   \n",
       "\n",
       "                                                                                                            in.tensor  \\\n",
       "0  [4.0, 2.5, 2900.0, 5505.0, 2.0, 0.0, 0.0, 3.0, 8.0, 2900.0, 0.0, 47.6063, -122.02, 2970.0, 5251.0, 12.0, 0.0, 0.0]   \n",
       "\n",
       "  out.variable  check_failures  \n",
       "0   [718013.7]               0  "
      ]
     },
     "metadata": {},
     "output_type": "display_data"
    }
   ],
   "source": [
    "normal_input = pd.DataFrame.from_records({\"tensor\": [[4.0, 2.5, 2900.0, 5505.0, 2.0, 0.0, 0.0, 3.0, 8.0, 2900.0, 0.0, 47.6063, -122.02, 2970.0, 5251.0, 12.0, 0.0, 0.0]]})\n",
    "result = mainpipeline.infer(normal_input)\n",
    "display(result)"
   ]
  },
  {
   "cell_type": "code",
   "execution_count": 231,
   "metadata": {},
   "outputs": [
    {
     "data": {
      "text/html": [
       "<div>\n",
       "<style scoped>\n",
       "    .dataframe tbody tr th:only-of-type {\n",
       "        vertical-align: middle;\n",
       "    }\n",
       "\n",
       "    .dataframe tbody tr th {\n",
       "        vertical-align: top;\n",
       "    }\n",
       "\n",
       "    .dataframe thead th {\n",
       "        text-align: right;\n",
       "    }\n",
       "</style>\n",
       "<table border=\"1\" class=\"dataframe\">\n",
       "  <thead>\n",
       "    <tr style=\"text-align: right;\">\n",
       "      <th></th>\n",
       "      <th>time</th>\n",
       "      <th>in.tensor</th>\n",
       "      <th>out.variable</th>\n",
       "      <th>check_failures</th>\n",
       "    </tr>\n",
       "  </thead>\n",
       "  <tbody>\n",
       "    <tr>\n",
       "      <th>0</th>\n",
       "      <td>2023-10-16 22:11:11.215</td>\n",
       "      <td>[4.0, 3.0, 3710.0, 20000.0, 2.0, 0.0, 2.0, 5.0, 10.0, 2760.0, 950.0, 47.6696, -122.261, 3970.0, 20000.0, 79.0, 0.0, 0.0]</td>\n",
       "      <td>[1514079.4]</td>\n",
       "      <td>0</td>\n",
       "    </tr>\n",
       "  </tbody>\n",
       "</table>\n",
       "</div>"
      ],
      "text/plain": [
       "                     time  \\\n",
       "0 2023-10-16 22:11:11.215   \n",
       "\n",
       "                                                                                                                  in.tensor  \\\n",
       "0  [4.0, 3.0, 3710.0, 20000.0, 2.0, 0.0, 2.0, 5.0, 10.0, 2760.0, 950.0, 47.6696, -122.261, 3970.0, 20000.0, 79.0, 0.0, 0.0]   \n",
       "\n",
       "  out.variable  check_failures  \n",
       "0  [1514079.4]               0  "
      ]
     },
     "metadata": {},
     "output_type": "display_data"
    }
   ],
   "source": [
    "large_house_input = pd.DataFrame.from_records({'tensor': [[4.0, 3.0, 3710.0, 20000.0, 2.0, 0.0, 2.0, 5.0, 10.0, 2760.0, 950.0, 47.6696, -122.261, 3970.0, 20000.0, 79.0, 0.0, 0.0]]})\n",
    "large_house_result = mainpipeline.infer(large_house_input)\n",
    "display(large_house_result)"
   ]
  },
  {
   "cell_type": "markdown",
   "metadata": {},
   "source": [
    "## Assays\n",
    "\n",
    "Wallaroo assays provide a method for detecting input or model drift.  These can be triggered either when unexpected input is provided for the inference, or when the model needs to be retrained from changing environment conditions.\n",
    "\n",
    "Wallaroo assays can track either an input field and its index, or an output field and its index.  For full details, see the [Wallaroo Assays Management Guide](https://docs.wallaroo.ai/wallaroo-operations-guide/wallaroo-pipeline-management/wallaroo-pipeline-assays/).\n",
    "\n",
    "For this example, we will:\n",
    "\n",
    "* Perform sample inferences based on lower priced houses.\n",
    "* Create an assay with the baseline set off those lower priced houses.\n",
    "* Generate inferences spread across all house values, plus specific set of high priced houses to trigger the assay alert.\n",
    "* Run an interactive assay to show the detection of values outside the established baseline."
   ]
  },
  {
   "cell_type": "markdown",
   "metadata": {},
   "source": [
    "### Assay Generation\n",
    "\n",
    "To start the demonstration, we'll create a baseline of values from houses with small estimated prices and set that as our baseline. Assays are typically run on a 24 hours interval based on a 24 hour window of data, but we'll bypass that by setting our baseline time even shorter."
   ]
  },
  {
   "cell_type": "code",
   "execution_count": null,
   "metadata": {},
   "outputs": [],
   "source": [
    "small_houses_inputs = pd.read_json('./data/smallinputs.df.json')\n",
    "baseline_size = 500\n",
    "\n",
    "# Where the baseline data will start\n",
    "assay_baseline_start = datetime.datetime.now()\n",
    "\n",
    "# These inputs will be random samples of small priced houses.  Around 30,000 is a good number\n",
    "small_houses = small_houses_inputs.sample(baseline_size, replace=True).reset_index(drop=True)\n",
    "\n",
    "# Wait 30 seconds to set this data apart from the rest\n",
    "time.sleep(30)\n",
    "small_results = mainpipeline.infer(small_houses)\n",
    "\n",
    "# Set the baseline end\n",
    "\n",
    "assay_baseline_end = datetime.datetime.now()\n",
    "\n",
    "# Now build the assay, based on the start and end of our baseline time, \n",
    "# and tracking the output variable index 0\n",
    "# assay_builder = wl.build_assay(assay_name, mainpipeline, model_name_control, baseline_start, baseline_end\n",
    "#                                ).add_iopath(\"output variable 0\")"
   ]
  },
  {
   "cell_type": "code",
   "execution_count": 155,
   "metadata": {},
   "outputs": [
    {
     "data": {
      "text/html": [
       "<div>\n",
       "<style scoped>\n",
       "    .dataframe tbody tr th:only-of-type {\n",
       "        vertical-align: middle;\n",
       "    }\n",
       "\n",
       "    .dataframe tbody tr th {\n",
       "        vertical-align: top;\n",
       "    }\n",
       "\n",
       "    .dataframe thead th {\n",
       "        text-align: right;\n",
       "    }\n",
       "</style>\n",
       "<table border=\"1\" class=\"dataframe\">\n",
       "  <thead>\n",
       "    <tr style=\"text-align: right;\">\n",
       "      <th></th>\n",
       "      <th>time</th>\n",
       "      <th>in.float_input</th>\n",
       "      <th>out.variable</th>\n",
       "      <th>check_failures</th>\n",
       "    </tr>\n",
       "  </thead>\n",
       "  <tbody>\n",
       "    <tr>\n",
       "      <th>0</th>\n",
       "      <td>2023-10-16 19:56:55.942</td>\n",
       "      <td>[4.0, 2.5, 1850.0, 8310.0, 1.0, 0.0, 0.0, 3.0, 7.0, 1200.0, 650.0, 47.7717018127, -122.2900009155, 1840.0, 10080.0, 53.0, 0.0, 0.0]</td>\n",
       "      <td>[437753.4]</td>\n",
       "      <td>0</td>\n",
       "    </tr>\n",
       "    <tr>\n",
       "      <th>1</th>\n",
       "      <td>2023-10-16 19:56:55.942</td>\n",
       "      <td>[3.0, 1.75, 1050.0, 9871.0, 1.0, 0.0, 0.0, 5.0, 7.0, 1050.0, 0.0, 47.3815994263, -122.0869979858, 1300.0, 10794.0, 46.0, 0.0, 0.0]</td>\n",
       "      <td>[236238.67]</td>\n",
       "      <td>0</td>\n",
       "    </tr>\n",
       "    <tr>\n",
       "      <th>2</th>\n",
       "      <td>2023-10-16 19:56:55.942</td>\n",
       "      <td>[4.0, 2.5, 1710.0, 5000.0, 1.0, 0.0, 0.0, 3.0, 8.0, 1110.0, 600.0, 47.6772003174, -122.2850036621, 1750.0, 5304.0, 36.0, 0.0, 0.0]</td>\n",
       "      <td>[559631.06]</td>\n",
       "      <td>0</td>\n",
       "    </tr>\n",
       "    <tr>\n",
       "      <th>3</th>\n",
       "      <td>2023-10-16 19:56:55.942</td>\n",
       "      <td>[3.0, 2.25, 1780.0, 9969.0, 1.0, 0.0, 0.0, 3.0, 8.0, 1450.0, 330.0, 47.7285995483, -122.1679992676, 1950.0, 7974.0, 29.0, 0.0, 0.0]</td>\n",
       "      <td>[437177.97]</td>\n",
       "      <td>0</td>\n",
       "    </tr>\n",
       "    <tr>\n",
       "      <th>4</th>\n",
       "      <td>2023-10-16 19:56:55.942</td>\n",
       "      <td>[3.0, 2.25, 1850.0, 2575.0, 2.0, 0.0, 0.0, 3.0, 9.0, 1850.0, 0.0, 47.5525016785, -122.2730026245, 1080.0, 4120.0, 1.0, 0.0, 0.0]</td>\n",
       "      <td>[723934.9]</td>\n",
       "      <td>0</td>\n",
       "    </tr>\n",
       "    <tr>\n",
       "      <th>...</th>\n",
       "      <td>...</td>\n",
       "      <td>...</td>\n",
       "      <td>...</td>\n",
       "      <td>...</td>\n",
       "    </tr>\n",
       "    <tr>\n",
       "      <th>495</th>\n",
       "      <td>2023-10-16 19:56:55.942</td>\n",
       "      <td>[3.0, 2.5, 1620.0, 1171.0, 3.0, 0.0, 4.0, 3.0, 8.0, 1470.0, 150.0, 47.6680984497, -122.3550033569, 1620.0, 1505.0, 6.0, 0.0, 0.0]</td>\n",
       "      <td>[557391.25]</td>\n",
       "      <td>0</td>\n",
       "    </tr>\n",
       "    <tr>\n",
       "      <th>496</th>\n",
       "      <td>2023-10-16 19:56:55.942</td>\n",
       "      <td>[5.0, 3.5, 3760.0, 10207.0, 2.0, 0.0, 0.0, 3.0, 10.0, 3150.0, 610.0, 47.5605010986, -122.2249984741, 3550.0, 12118.0, 46.0, 0.0, 0.0]</td>\n",
       "      <td>[1489624.3]</td>\n",
       "      <td>0</td>\n",
       "    </tr>\n",
       "    <tr>\n",
       "      <th>497</th>\n",
       "      <td>2023-10-16 19:56:55.942</td>\n",
       "      <td>[3.0, 1.5, 1580.0, 5000.0, 1.0, 0.0, 0.0, 3.0, 8.0, 1290.0, 290.0, 47.6870002747, -122.3860015869, 1570.0, 4500.0, 75.0, 0.0, 0.0]</td>\n",
       "      <td>[557391.25]</td>\n",
       "      <td>0</td>\n",
       "    </tr>\n",
       "    <tr>\n",
       "      <th>498</th>\n",
       "      <td>2023-10-16 19:56:55.942</td>\n",
       "      <td>[3.0, 1.75, 1350.0, 10125.0, 1.0, 0.0, 0.0, 3.0, 8.0, 1350.0, 0.0, 47.3334007263, -122.297996521, 1520.0, 9720.0, 48.0, 0.0, 0.0]</td>\n",
       "      <td>[248495.05]</td>\n",
       "      <td>0</td>\n",
       "    </tr>\n",
       "    <tr>\n",
       "      <th>499</th>\n",
       "      <td>2023-10-16 19:56:55.942</td>\n",
       "      <td>[3.0, 2.5, 2830.0, 3750.0, 3.0, 0.0, 0.0, 3.0, 10.0, 2830.0, 0.0, 47.679901123, -122.3850021362, 1780.0, 5000.0, 0.0, 0.0, 0.0]</td>\n",
       "      <td>[937359.6]</td>\n",
       "      <td>0</td>\n",
       "    </tr>\n",
       "  </tbody>\n",
       "</table>\n",
       "<p>500 rows × 4 columns</p>\n",
       "</div>"
      ],
      "text/plain": [
       "                       time  \\\n",
       "0   2023-10-16 19:56:55.942   \n",
       "1   2023-10-16 19:56:55.942   \n",
       "2   2023-10-16 19:56:55.942   \n",
       "3   2023-10-16 19:56:55.942   \n",
       "4   2023-10-16 19:56:55.942   \n",
       "..                      ...   \n",
       "495 2023-10-16 19:56:55.942   \n",
       "496 2023-10-16 19:56:55.942   \n",
       "497 2023-10-16 19:56:55.942   \n",
       "498 2023-10-16 19:56:55.942   \n",
       "499 2023-10-16 19:56:55.942   \n",
       "\n",
       "                                                                                                                            in.float_input  \\\n",
       "0      [4.0, 2.5, 1850.0, 8310.0, 1.0, 0.0, 0.0, 3.0, 7.0, 1200.0, 650.0, 47.7717018127, -122.2900009155, 1840.0, 10080.0, 53.0, 0.0, 0.0]   \n",
       "1       [3.0, 1.75, 1050.0, 9871.0, 1.0, 0.0, 0.0, 5.0, 7.0, 1050.0, 0.0, 47.3815994263, -122.0869979858, 1300.0, 10794.0, 46.0, 0.0, 0.0]   \n",
       "2       [4.0, 2.5, 1710.0, 5000.0, 1.0, 0.0, 0.0, 3.0, 8.0, 1110.0, 600.0, 47.6772003174, -122.2850036621, 1750.0, 5304.0, 36.0, 0.0, 0.0]   \n",
       "3      [3.0, 2.25, 1780.0, 9969.0, 1.0, 0.0, 0.0, 3.0, 8.0, 1450.0, 330.0, 47.7285995483, -122.1679992676, 1950.0, 7974.0, 29.0, 0.0, 0.0]   \n",
       "4         [3.0, 2.25, 1850.0, 2575.0, 2.0, 0.0, 0.0, 3.0, 9.0, 1850.0, 0.0, 47.5525016785, -122.2730026245, 1080.0, 4120.0, 1.0, 0.0, 0.0]   \n",
       "..                                                                                                                                     ...   \n",
       "495      [3.0, 2.5, 1620.0, 1171.0, 3.0, 0.0, 4.0, 3.0, 8.0, 1470.0, 150.0, 47.6680984497, -122.3550033569, 1620.0, 1505.0, 6.0, 0.0, 0.0]   \n",
       "496  [5.0, 3.5, 3760.0, 10207.0, 2.0, 0.0, 0.0, 3.0, 10.0, 3150.0, 610.0, 47.5605010986, -122.2249984741, 3550.0, 12118.0, 46.0, 0.0, 0.0]   \n",
       "497     [3.0, 1.5, 1580.0, 5000.0, 1.0, 0.0, 0.0, 3.0, 8.0, 1290.0, 290.0, 47.6870002747, -122.3860015869, 1570.0, 4500.0, 75.0, 0.0, 0.0]   \n",
       "498      [3.0, 1.75, 1350.0, 10125.0, 1.0, 0.0, 0.0, 3.0, 8.0, 1350.0, 0.0, 47.3334007263, -122.297996521, 1520.0, 9720.0, 48.0, 0.0, 0.0]   \n",
       "499        [3.0, 2.5, 2830.0, 3750.0, 3.0, 0.0, 0.0, 3.0, 10.0, 2830.0, 0.0, 47.679901123, -122.3850021362, 1780.0, 5000.0, 0.0, 0.0, 0.0]   \n",
       "\n",
       "    out.variable  check_failures  \n",
       "0     [437753.4]               0  \n",
       "1    [236238.67]               0  \n",
       "2    [559631.06]               0  \n",
       "3    [437177.97]               0  \n",
       "4     [723934.9]               0  \n",
       "..           ...             ...  \n",
       "495  [557391.25]               0  \n",
       "496  [1489624.3]               0  \n",
       "497  [557391.25]               0  \n",
       "498  [248495.05]               0  \n",
       "499   [937359.6]               0  \n",
       "\n",
       "[500 rows x 4 columns]"
      ]
     },
     "metadata": {},
     "output_type": "display_data"
    }
   ],
   "source": [
    "display(small_results)"
   ]
  },
  {
   "cell_type": "code",
   "execution_count": null,
   "metadata": {},
   "outputs": [],
   "source": [
    "# set the results to a non-array value\n",
    "small_results['out.variable']=small_results['out.variable'].map(lambda x: x[0])\n",
    "small_results"
   ]
  },
  {
   "cell_type": "code",
   "execution_count": 210,
   "metadata": {},
   "outputs": [],
   "source": [
    "# method 1:  Export the inferences as a csv\n",
    "small_results.to_csv('./data/small_results_inference.csv')"
   ]
  },
  {
   "cell_type": "code",
   "execution_count": null,
   "metadata": {},
   "outputs": [],
   "source": [
    "#import the csv and get the numpy array values\n",
    "\n",
    "df = pd.read_csv(\"./data/small_results_inference.csv\")\n",
    "small_results_baseline_from_csv = df['out.variable'].to_numpy()\n",
    "small_results_baseline_from_csv"
   ]
  },
  {
   "cell_type": "code",
   "execution_count": 206,
   "metadata": {},
   "outputs": [],
   "source": [
    "# method 2: conver the inference dataframe to a numpy baseline that can be imported through the UI\n",
    "\n",
    "# # export to file\n",
    "\n",
    "small_results_baseline = small_results['out.variable'].map(lambda x:x[0]).to_numpy()\n",
    "small_results_baseline\n",
    "\n",
    "import os\n",
    "\n",
    "# save the file, then delete the last carriage return and comma\n",
    "with open('./data/small_results_baseline.csv', 'w') as fout:\n",
    "    NEWLINE_SIZE_IN_BYTES = 1 # 2 on Windows?\n",
    "    np.savetxt(fout, small_results_baseline, newline=',\\n', fmt=\"%.3f\") # Use np.savetxt.\n",
    "    fout.seek(0, os.SEEK_END) # Go to the end of the file.\n",
    "    # Go backwards one byte from the end of the file.\n",
    "    fout.seek(fout.tell() - (NEWLINE_SIZE_IN_BYTES+1), os.SEEK_SET)\n",
    "    fout.truncate() # Truncate the file to this point."
   ]
  },
  {
   "cell_type": "code",
   "execution_count": 213,
   "metadata": {},
   "outputs": [],
   "source": [
    "# assay builder by baseline\n",
    "assay_builder = wl.build_assay(assay_name=\"houseprice by baseline values\", \n",
    "                               pipeline=mainpipeline, \n",
    "                               model_name=model_name_control, \n",
    "                               iopath=\"output variable 0\", \n",
    "                               baseline_data = small_results_baseline_from_csv)"
   ]
  },
  {
   "cell_type": "code",
   "execution_count": 214,
   "metadata": {},
   "outputs": [
    {
     "data": {
      "text/html": [
       "<div>\n",
       "<style scoped>\n",
       "    .dataframe tbody tr th:only-of-type {\n",
       "        vertical-align: middle;\n",
       "    }\n",
       "\n",
       "    .dataframe tbody tr th {\n",
       "        vertical-align: top;\n",
       "    }\n",
       "\n",
       "    .dataframe thead th {\n",
       "        text-align: right;\n",
       "    }\n",
       "</style>\n",
       "<table border=\"1\" class=\"dataframe\">\n",
       "  <thead>\n",
       "    <tr style=\"text-align: right;\">\n",
       "      <th></th>\n",
       "      <th>output_variable_0</th>\n",
       "    </tr>\n",
       "  </thead>\n",
       "  <tbody>\n",
       "    <tr>\n",
       "      <th>0</th>\n",
       "      <td>437753.40</td>\n",
       "    </tr>\n",
       "    <tr>\n",
       "      <th>1</th>\n",
       "      <td>236238.67</td>\n",
       "    </tr>\n",
       "    <tr>\n",
       "      <th>2</th>\n",
       "      <td>559631.06</td>\n",
       "    </tr>\n",
       "    <tr>\n",
       "      <th>3</th>\n",
       "      <td>437177.97</td>\n",
       "    </tr>\n",
       "    <tr>\n",
       "      <th>4</th>\n",
       "      <td>723934.90</td>\n",
       "    </tr>\n",
       "    <tr>\n",
       "      <th>...</th>\n",
       "      <td>...</td>\n",
       "    </tr>\n",
       "    <tr>\n",
       "      <th>495</th>\n",
       "      <td>557391.25</td>\n",
       "    </tr>\n",
       "    <tr>\n",
       "      <th>496</th>\n",
       "      <td>1489624.30</td>\n",
       "    </tr>\n",
       "    <tr>\n",
       "      <th>497</th>\n",
       "      <td>557391.25</td>\n",
       "    </tr>\n",
       "    <tr>\n",
       "      <th>498</th>\n",
       "      <td>248495.05</td>\n",
       "    </tr>\n",
       "    <tr>\n",
       "      <th>499</th>\n",
       "      <td>937359.60</td>\n",
       "    </tr>\n",
       "  </tbody>\n",
       "</table>\n",
       "<p>500 rows × 1 columns</p>\n",
       "</div>"
      ],
      "text/plain": [
       "     output_variable_0\n",
       "0            437753.40\n",
       "1            236238.67\n",
       "2            559631.06\n",
       "3            437177.97\n",
       "4            723934.90\n",
       "..                 ...\n",
       "495          557391.25\n",
       "496         1489624.30\n",
       "497          557391.25\n",
       "498          248495.05\n",
       "499          937359.60\n",
       "\n",
       "[500 rows x 1 columns]"
      ]
     },
     "execution_count": 214,
     "metadata": {},
     "output_type": "execute_result"
    }
   ],
   "source": [
    "assay_builder.baseline_dataframe()"
   ]
  },
  {
   "cell_type": "code",
   "execution_count": 215,
   "metadata": {},
   "outputs": [
    {
     "data": {
      "image/png": "[encoded data removed]",
      "text/plain": [
       "<Figure size 432x288 with 1 Axes>"
      ]
     },
     "metadata": {
      "needs_background": "light"
     },
     "output_type": "display_data"
    }
   ],
   "source": [
    "assay_builder.baseline_histogram()"
   ]
  },
  {
   "cell_type": "code",
   "execution_count": 216,
   "metadata": {},
   "outputs": [
    {
     "data": {
      "image/png": "[encoded data removed]",
      "text/plain": [
       "<Figure size 432x288 with 1 Axes>"
      ]
     },
     "metadata": {
      "needs_background": "light"
     },
     "output_type": "display_data"
    }
   ],
   "source": [
    "assay_builder.baseline_kde()"
   ]
  },
  {
   "cell_type": "code",
   "execution_count": 217,
   "metadata": {},
   "outputs": [
    {
     "name": "stdout",
     "output_type": "stream",
     "text": [
      "Please log into the following URL in a web browser:\n",
      "\n",
      "\thttps://keycloak.autoscale-uat-ee.wallaroo.dev/auth/realms/master/device?user_code=RVVY-IDKW\n",
      "\n",
      "Login successful!\n",
      "{\n",
      "    \"name\": \"houseprice by baseline values\",\n",
      "    \"pipeline_id\": 205,\n",
      "    \"pipeline_name\": \"housepricesagapipeline\",\n",
      "    \"active\": true,\n",
      "    \"status\": \"created\",\n",
      "    \"baseline\": {\n",
      "        \"static\": {\n",
      "            \"count\": 500,\n",
      "            \"min\": 236238.67,\n",
      "            \"max\": 1489624.3,\n",
      "            \"mean\": 512830.75258000026,\n",
      "            \"median\": 450867.7,\n",
      "            \"std\": 228280.22220663528,\n",
      "            \"edges\": [\n",
      "                236238.67,\n",
      "                316231.84,\n",
      "                431929.2,\n",
      "                513583.06,\n",
      "                687786.44,\n",
      "                1489624.3,\n",
      "                null\n",
      "            ],\n",
      "            \"edge_names\": [\n",
      "                \"left_outlier\",\n",
      "                \"q_20\",\n",
      "                \"q_40\",\n",
      "                \"q_60\",\n",
      "                \"q_80\",\n",
      "                \"q_100\",\n",
      "                \"right_outlier\"\n",
      "            ],\n",
      "            \"aggregated_values\": [\n",
      "                0.0,\n",
      "                0.2,\n",
      "                0.2,\n",
      "                0.2,\n",
      "                0.2,\n",
      "                0.2,\n",
      "                0.0\n",
      "            ],\n",
      "            \"aggregation\": \"Density\",\n",
      "            \"start_at\": null,\n",
      "            \"end_at\": null\n",
      "        }\n",
      "    },\n",
      "    \"window\": {\n",
      "        \"pipeline_name\": \"housepricesagapipeline\",\n",
      "        \"model_name\": \"housepricesagacontrol\",\n",
      "        \"width\": \"24 hours\",\n",
      "        \"start\": \"2023-10-16T15:43:06.482000+00:00\",\n",
      "        \"interval\": null,\n",
      "        \"path\": \"output variable 0\",\n",
      "        \"workspace_id\": 93\n",
      "    },\n",
      "    \"summarizer\": {\n",
      "        \"type\": \"UnivariateContinuous\",\n",
      "        \"bin_mode\": \"Quantile\",\n",
      "        \"aggregation\": \"Density\",\n",
      "        \"metric\": \"PSI\",\n",
      "        \"num_bins\": 5,\n",
      "        \"bin_weights\": null,\n",
      "        \"bin_width\": null,\n",
      "        \"provided_edges\": null,\n",
      "        \"add_outlier_edges\": true\n",
      "    },\n",
      "    \"warning_threshold\": null,\n",
      "    \"alert_threshold\": 0.25,\n",
      "    \"run_until\": null,\n",
      "    \"workspace_id\": 93\n",
      "}\n"
     ]
    }
   ],
   "source": [
    "assay_config = assay_builder.build()\n",
    "print(assay_config.to_json())"
   ]
  },
  {
   "cell_type": "markdown",
   "metadata": {},
   "source": [
    "Now we'll perform some inferences with a spread of values, then a larger set with a set of larger house values to trigger our assay alert.\n",
    "\n",
    "Because our assay windows are 1 minutes, we'll need to stagger our inference values to be set into the proper windows.  This will take about 4 minutes."
   ]
  },
  {
   "cell_type": "code",
   "execution_count": 150,
   "metadata": {},
   "outputs": [
    {
     "name": "stdout",
     "output_type": "stream",
     "text": [
      "Waiting for deployment - this will take up to 45s ......... ok\n"
     ]
    },
    {
     "data": {
      "text/html": [
       "<table><tr><th>name</th> <td>housepricesagapipeline</td></tr><tr><th>created</th> <td>2023-10-16 15:40:16.732820+00:00</td></tr><tr><th>last_updated</th> <td>2023-10-16 19:46:04.535243+00:00</td></tr><tr><th>deployed</th> <td>True</td></tr><tr><th>tags</th> <td></td></tr><tr><th>versions</th> <td>11af088b-fb7e-49df-a52b-a878c90e82d8, 804877a5-0b3c-48df-b529-0e6ac431123e, b62aa586-01f5-4c09-a827-4501cd9c07c1</td></tr><tr><th>steps</th> <td>housepricesagacontrol</td></tr><tr><th>published</th> <td>False</td></tr></table>"
      ],
      "text/plain": [
       "{'name': 'housepricesagapipeline', 'create_time': datetime.datetime(2023, 10, 16, 15, 40, 16, 732820, tzinfo=tzutc()), 'definition': \"[{'ModelInference': {'models': [{'name': 'housepricesagacontrol', 'version': 'cb80b7bb-3a5c-4427-b962-ee2b0ebd10be', 'sha': 'e22a0831aafd9917f3cc87a15ed267797f80e2afa12ad7d8810ca58f173b8cc6'}]}}]\"}"
      ]
     },
     "execution_count": 150,
     "metadata": {},
     "output_type": "execute_result"
    }
   ],
   "source": [
    "deploy_config = wallaroo.DeploymentConfigBuilder().replica_count(1).cpus(0.5).memory(\"1Gi\").build()\n",
    "\n",
    "mainpipeline.deploy(deployment_config = deploy_config)"
   ]
  },
  {
   "cell_type": "code",
   "execution_count": 221,
   "metadata": {},
   "outputs": [
    {
     "data": {
      "text/plain": [
       "{'status': 'Running',\n",
       " 'details': [],\n",
       " 'engines': [{'ip': '10.244.0.163',\n",
       "   'name': 'engine-84f9b4d885-wwvvt',\n",
       "   'status': 'Running',\n",
       "   'reason': None,\n",
       "   'details': [],\n",
       "   'pipeline_statuses': {'pipelines': [{'id': 'housepricesagapipeline',\n",
       "      'status': 'Running'}]},\n",
       "   'model_statuses': {'models': [{'name': 'housepricesagacontrol',\n",
       "      'version': 'cb80b7bb-3a5c-4427-b962-ee2b0ebd10be',\n",
       "      'sha': 'e22a0831aafd9917f3cc87a15ed267797f80e2afa12ad7d8810ca58f173b8cc6',\n",
       "      'status': 'Running'}]}}],\n",
       " 'engine_lbs': [{'ip': '10.244.0.164',\n",
       "   'name': 'engine-lb-584f54c899-hgrqz',\n",
       "   'status': 'Running',\n",
       "   'reason': None,\n",
       "   'details': []}],\n",
       " 'sidekicks': []}"
      ]
     },
     "execution_count": 221,
     "metadata": {},
     "output_type": "execute_result"
    }
   ],
   "source": [
    "mainpipeline.status()"
   ]
  },
  {
   "cell_type": "code",
   "execution_count": 224,
   "metadata": {},
   "outputs": [],
   "source": [
    "# Get a spread of house values\n",
    "\n",
    "# regular_houses_inputs = pd.read_json('./data/xtest-1k.df.json', orient=\"records\")\n",
    "inference_size = 1000\n",
    "\n",
    "# regular_houses = regular_houses_inputs.sample(inference_size, replace=True).reset_index(drop=True)\n",
    "\n",
    "# And a spread of large house values\n",
    "\n",
    "big_houses_inputs = pd.read_json('./data/biginputs.df.json', orient=\"records\")\n",
    "big_houses = big_houses_inputs.sample(inference_size, replace=True).reset_index(drop=True)\n",
    "\n",
    "# Set the start for our assay window period.\n",
    "assay_window_start = datetime.datetime.now()\n",
    "\n",
    "# time.sleep(35)\n",
    "mainpipeline.infer(big_houses)\n",
    "# time.sleep(35)\n",
    "\n",
    "# Run a set of regular house values, spread across 90 seconds\n",
    "# for x in range(3):\n",
    "    # mainpipeline.infer(regular_houses)\n",
    "    # time.sleep(35)\n",
    "    # mainpipeline.infer(big_houses)\n",
    "    # time.sleep(35)\n",
    "\n",
    "# End our assay window period\n",
    "assay_window_end = datetime.datetime.now()"
   ]
  },
  {
   "cell_type": "code",
   "execution_count": 225,
   "metadata": {},
   "outputs": [],
   "source": [
    "# now set up our interactive assay based on the window set above.\n",
    "\n",
    "assay_builder = assay_builder.add_run_until(assay_window_end)\n",
    "\n",
    "# We don't have many records at the moment, so set the width to 1 minute so it'll slice each \n",
    "# one minute interval into a window to analyze\n",
    "assay_builder.window_builder().add_width(minutes=1).add_interval(minutes=1)\n",
    "\n",
    "# Build the assay and then do an interactive run rather than waiting for the next interval\n",
    "assay_config = assay_builder.build()\n",
    "assay_results = assay_config.interactive_run()"
   ]
  },
  {
   "cell_type": "code",
   "execution_count": 226,
   "metadata": {},
   "outputs": [
    {
     "name": "stdout",
     "output_type": "stream",
     "text": [
      "Generated 7 analyses\n"
     ]
    },
    {
     "data": {
      "image/png": "[encoded data removed]",
      "text/plain": [
       "<Figure size 432x288 with 1 Axes>"
      ]
     },
     "metadata": {
      "needs_background": "light"
     },
     "output_type": "display_data"
    }
   ],
   "source": [
    "# Show how many assay windows were analyzed, then show the chart\n",
    "print(f\"Generated {len(assay_results)} analyses\")\n",
    "assay_results.chart_scores()"
   ]
  },
  {
   "cell_type": "code",
   "execution_count": 227,
   "metadata": {},
   "outputs": [
    {
     "data": {
      "text/html": [
       "<div>\n",
       "<style scoped>\n",
       "    .dataframe tbody tr th:only-of-type {\n",
       "        vertical-align: middle;\n",
       "    }\n",
       "\n",
       "    .dataframe tbody tr th {\n",
       "        vertical-align: top;\n",
       "    }\n",
       "\n",
       "    .dataframe thead th {\n",
       "        text-align: right;\n",
       "    }\n",
       "</style>\n",
       "<table border=\"1\" class=\"dataframe\">\n",
       "  <thead>\n",
       "    <tr style=\"text-align: right;\">\n",
       "      <th></th>\n",
       "      <th>score</th>\n",
       "      <th>start</th>\n",
       "      <th>alert_threshold</th>\n",
       "      <th>status</th>\n",
       "    </tr>\n",
       "  </thead>\n",
       "  <tbody>\n",
       "    <tr>\n",
       "      <th>0</th>\n",
       "      <td>5.431772</td>\n",
       "      <td>2023-10-16T15:43:06.482000+00:00</td>\n",
       "      <td>0.25</td>\n",
       "      <td>Alert</td>\n",
       "    </tr>\n",
       "    <tr>\n",
       "      <th>1</th>\n",
       "      <td>0.025529</td>\n",
       "      <td>2023-10-16T15:56:06.482000+00:00</td>\n",
       "      <td>0.25</td>\n",
       "      <td>Ok</td>\n",
       "    </tr>\n",
       "    <tr>\n",
       "      <th>2</th>\n",
       "      <td>0.014434</td>\n",
       "      <td>2023-10-16T17:25:06.482000+00:00</td>\n",
       "      <td>0.25</td>\n",
       "      <td>Ok</td>\n",
       "    </tr>\n",
       "    <tr>\n",
       "      <th>3</th>\n",
       "      <td>0.023169</td>\n",
       "      <td>2023-10-16T18:05:06.482000+00:00</td>\n",
       "      <td>0.25</td>\n",
       "      <td>Ok</td>\n",
       "    </tr>\n",
       "    <tr>\n",
       "      <th>4</th>\n",
       "      <td>0.036520</td>\n",
       "      <td>2023-10-16T18:07:06.482000+00:00</td>\n",
       "      <td>0.25</td>\n",
       "      <td>Ok</td>\n",
       "    </tr>\n",
       "    <tr>\n",
       "      <th>5</th>\n",
       "      <td>0.000520</td>\n",
       "      <td>2023-10-16T19:56:06.482000+00:00</td>\n",
       "      <td>0.25</td>\n",
       "      <td>Ok</td>\n",
       "    </tr>\n",
       "    <tr>\n",
       "      <th>6</th>\n",
       "      <td>0.002604</td>\n",
       "      <td>2023-10-16T22:03:06.482000+00:00</td>\n",
       "      <td>0.25</td>\n",
       "      <td>Ok</td>\n",
       "    </tr>\n",
       "  </tbody>\n",
       "</table>\n",
       "</div>"
      ],
      "text/plain": [
       "      score                             start  alert_threshold status\n",
       "0  5.431772  2023-10-16T15:43:06.482000+00:00             0.25  Alert\n",
       "1  0.025529  2023-10-16T15:56:06.482000+00:00             0.25     Ok\n",
       "2  0.014434  2023-10-16T17:25:06.482000+00:00             0.25     Ok\n",
       "3  0.023169  2023-10-16T18:05:06.482000+00:00             0.25     Ok\n",
       "4  0.036520  2023-10-16T18:07:06.482000+00:00             0.25     Ok\n",
       "5  0.000520  2023-10-16T19:56:06.482000+00:00             0.25     Ok\n",
       "6  0.002604  2023-10-16T22:03:06.482000+00:00             0.25     Ok"
      ]
     },
     "metadata": {},
     "output_type": "display_data"
    }
   ],
   "source": [
    "# Display the results as a DataFrame - we're mainly interested in the score and whether the \n",
    "# alert threshold was triggered\n",
    "display(assay_results.to_dataframe().loc[:, [\"score\", \"start\", \"alert_threshold\", \"status\"]])"
   ]
  },
  {
   "cell_type": "markdown",
   "metadata": {},
   "source": [
    "### Upload Assay\n",
    "\n",
    "With the assay created and fully tested, we will upload it to the Wallaroo instance.  This will make it available for future demonstrations and visible through the Wallaroo UI."
   ]
  },
  {
   "cell_type": "code",
   "execution_count": 28,
   "metadata": {},
   "outputs": [
    {
     "data": {
      "text/plain": [
       "4"
      ]
     },
     "execution_count": 28,
     "metadata": {},
     "output_type": "execute_result"
    }
   ],
   "source": [
    "assay_builder.upload()"
   ]
  },
  {
   "cell_type": "markdown",
   "metadata": {},
   "source": [
    "The assay is now visible through the Wallaroo UI by selecting the workspace, then the pipeline, then **Insights**.\n",
    "\n",
    "![Sample assay in the UI](./images/housepricesaga-sample-assay.png)"
   ]
  },
  {
   "cell_type": "markdown",
   "metadata": {},
   "source": [
    "### Undeploy Main Pipeline\n",
    "\n",
    "With the examples and tutorial complete, we will undeploy the main pipeline and return the resources back to the Wallaroo instance."
   ]
  },
  {
   "cell_type": "code",
   "execution_count": 29,
   "metadata": {},
   "outputs": [
    {
     "data": {
      "text/html": [
       "<table><tr><th>name</th> <td>housepricesagapipeline</td></tr><tr><th>created</th> <td>2023-07-19 19:40:14.556167+00:00</td></tr><tr><th>last_updated</th> <td>2023-07-26 16:24:36.821419+00:00</td></tr><tr><th>deployed</th> <td>False</td></tr><tr><th>tags</th> <td></td></tr><tr><th>versions</th> <td>98e71425-1842-46d3-bc4e-1b1f88cedf42, 3170fb20-b0e4-4fdf-89d2-ca1444c1bcf8, 75ca4917-af81-4b47-884a-98ad67fa138f, 23f98d7c-27d7-456d-b85f-b69be85b6ebe, 57cd5d2b-316a-4ed6-8730-4a88ee251d93, 2513fed6-ad9e-48da-9830-716d81bd2f42, 34fbdbd2-37b6-4c87-a73b-2bc37356f107, 85f43a06-6a2d-445e-9ba7-6511a7c8300c, 6f21cab0-689d-4c7a-be9a-317786a1173d, ee06f9e2-56d8-413d-8245-0fb37dc377ed, ccad17d0-8121-42ac-9311-14777667ae61, a77de963-1df0-4f2f-92d7-cc010277e726, 44f668f8-938c-4542-8c79-13128891171c, 423875eb-d31a-48fa-bcc5-a3fe4d45e4d9</td></tr><tr><th>steps</th> <td>housepricesagacontrol</td></tr></table>"
      ],
      "text/plain": [
       "{'name': 'housepricesagapipeline', 'create_time': datetime.datetime(2023, 7, 19, 19, 40, 14, 556167, tzinfo=tzutc()), 'definition': \"[{'ModelInference': {'models': [{'name': 'housepricesagacontrol', 'version': 'b6ebb7f4-e0ac-4051-9708-ed38a9296f29', 'sha': 'e22a0831aafd9917f3cc87a15ed267797f80e2afa12ad7d8810ca58f173b8cc6'}]}}]\"}"
      ]
     },
     "execution_count": 29,
     "metadata": {},
     "output_type": "execute_result"
    }
   ],
   "source": [
    "mainpipeline.undeploy()"
   ]
  }
 ],
 "metadata": {
  "kernelspec": {
   "display_name": "Python 3 (ipykernel)",
   "language": "python",
   "name": "python3"
  },
  "language_info": {
   "codemirror_mode": {
    "name": "ipython",
    "version": 3
   },
   "file_extension": ".py",
   "mimetype": "text/x-python",
   "name": "python",
   "nbconvert_exporter": "python",
   "pygments_lexer": "ipython3",
   "version": "3.9.13"
  },
  "vscode": {
   "interpreter": {
    "hash": "7dda4bf3640b7fafcd1648658b879b4cc9f6ba6084e8fb356fdaaa1a461d1690"
   }
  }
 },
 "nbformat": 4,
 "nbformat_minor": 4
}
