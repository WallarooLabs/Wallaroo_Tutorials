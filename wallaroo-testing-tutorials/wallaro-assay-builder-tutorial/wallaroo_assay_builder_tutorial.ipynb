{
 "cells": [
  {
   "cell_type": "markdown",
   "metadata": {},
   "source": [
    "This tutorial and the assets can be downloaded as part of the [Wallaroo Tutorials repository](https://github.com/WallarooLabs/Wallaroo_Tutorials/blob/main/wallaroo-testing-tutorials/wallaro-assay-builder-tutorial).\n",
    "\n",
    "## Wallaroo Assay Builder Tutorial\n",
    "\n",
    "The Model Insights feature lets you monitor how the environment that your model operates within may be changing in ways that affect it's predictions so that you can intervene (retrain) in an efficient and timely manner. Changes in the inputs, **data drift**, can occur due to errors in the data processing pipeline or due to changes in the environment such as user preference or behavior. \n",
    "\n",
    "The [validation framework](https://docs.wallaroo.ai/wallaroo-developer-guides/wallaroo-sdk-guides/wallaroo-sdk-essentials-guide/wallaroo-sdk-essentials-pipeline/#anomaly-testing) performs per inference range checks with count frequency based thresholds for alerts and is ideal for catching many errors in input and output data.\n",
    "\n",
    "In complement to the validation framework model insights focuses on the differences in the distributions of data in a time based window measured against a baseline for a given pipeline and can detect situations where values are still within the expected range but the distribution has shifted. For example, if your model predicts housing prices you might expect the predictions to be between \\\\$200,000 and \\\\$1,000,000 with a distribution centered around \\\\$400,000. If your model suddenly starts predicting prices centered around \\\\$250,000 or \\\\$750,000 the predictions may still be within the expected range but the shift may signal something has changed that should be investigated.\n",
    "\n",
    "Ideally we'd also monitor the _quality_ of the predictions, **concept drift**. However this can be difficult as true labels are often not available or are severely delayed in practice. That is there may be a signficant lag between the time the prediction is made and the true (sale price) value is observed.\n",
    "\n",
    "Consequently, model insights uses data drift detection techniques on both inputs and outputs to detect changes in the distributions of the data.\n",
    "\n",
    "There are many useful statistical tests for calculating the difference between distributions; however, they typically require assumptions about the underlying distributions or confusing and expensive calculations. We've implemented a data drift framework that is easy to understand, fast to compute, runs in an automated fashion and is extensible to many specific use cases.\n",
    "\n",
    "The methodology currently revolves around calculating the specific percentile-based bins of the baseline distribution and measuring how future distributions fall into these bins. This approach is both visually intuitive and supports an easy to calculate difference score between distributions. Users can tune the scoring mechanism to emphasize different regions of the distribution: for example, you may only care if there is a change in the top 20th percentile of the distribution, compared to the baseline.\n",
    "\n",
    "You can specify the inputs or outputs that you want to monitor and the data to use for your baselines. You can also specify how often you want to monitor distributions and set parameters to define what constitutes a meaningful change in a distribution for your application. \n",
    "\n",
    "Once you've set up a monitoring task, called an assay, comparisons against your baseline are then run automatically on a scheduled basis. You can be notified if the system notices any abnormally different behavior. The framework also allows you to quickly investigate the cause of any unexpected drifts in your predictions.\n",
    "\n",
    "The rest of this notebook will shows how to create assays to monitor your pipelines.\n",
    "\n",
    "For full details see the [Wallaroo Assays Management](https://docs.wallaroo.ai/wallaroo-operations-guide/wallaroo-pipeline-management/wallaroo-pipeline-assays/).\n",
    "\n",
    "### Resources\n",
    "\n",
    "This tutorial provides the following:\n",
    "\n",
    "* Models:\n",
    "  * `models/rf_model.onnx`: The champion model that has been used in this environment for some time.\n",
    "  * `models/xgb_model.onnx` and `models/gbr_model.onnx`: Rival models that will be tested against the champion.\n",
    "* Data:\n",
    "  * `data/xtest-1.df.json` and `data/xtest-1k.df.json`:  DataFrame JSON inference inputs with 1 input and 1,000 inputs.\n",
    "  * `data/xtest-1k.arrow`:  Apache Arrow inference inputs with 1 input and 1,000 inputs.\n",
    "\n",
    "### Prerequisites\n",
    "\n",
    "* A deployed Wallaroo instance\n",
    "* The following Python libraries installed:\n",
    "  * [`wallaroo`](https://pypi.org/project/wallaroo/): The Wallaroo SDK. Included with the Wallaroo JupyterHub service by default.\n",
    "  * [`pandas`](https://pypi.org/project/pandas/): Pandas, mainly used for Pandas DataFrame\n"
   ]
  },
  {
   "cell_type": "markdown",
   "metadata": {},
   "source": [
    "## Steps\n",
    "\n",
    "* Deploying a sample ML model used to determine house prices based on a set of input parameters.\n",
    "* Creating an Assay from a set of baseline start and end dates, and an Assay from baseline data from a numpy array.\n",
    "* Perform an interactive assay run and display statistics about that assay.\n",
    "* Display results for each assay window in the interactive assay.\n",
    "* Upload the assay.\n",
    "\n",
    "### Import Libraries\n",
    "\n",
    "The first step will be to import our libraries, and set variables used through this tutorial."
   ]
  },
  {
   "cell_type": "code",
   "execution_count": 2,
   "metadata": {},
   "outputs": [],
   "source": [
    "import wallaroo\n",
    "from wallaroo.object import EntityNotFoundError\n",
    "from wallaroo.framework import Framework\n",
    "\n",
    "from IPython.display import display\n",
    "\n",
    "# used to display DataFrame information without truncating\n",
    "from IPython.display import display\n",
    "import pandas as pd\n",
    "pd.set_option('display.max_colwidth', None)\n",
    "\n",
    "import datetime\n",
    "import time\n",
    "\n",
    "\n",
    "\n",
    "# used for unique connection names\n",
    "\n",
    "import string\n",
    "import random\n",
    "\n",
    "suffix= ''.join(random.choice(string.ascii_lowercase) for i in range(4))\n",
    "suffix=''\n",
    "\n",
    "# used to make a unique workspace\n",
    "suffix='baseline-examples'\n",
    "\n",
    "workspace_name = f'assay-demonstration-tutorial{suffix}'\n",
    "main_pipeline_name = f'assay-demonstration-tutorial'\n",
    "model_name_control = f'housepricesagacontrol'\n",
    "model_file_name_control = './models/rf_model.onnx'\n",
    "\n",
    "# Set the name of the assay\n",
    "assay_name=f\"house price test{suffix}\""
   ]
  },
  {
   "cell_type": "code",
   "execution_count": 3,
   "metadata": {},
   "outputs": [],
   "source": [
    "def get_workspace(name):\n",
    "    workspace = None\n",
    "    for ws in wl.list_workspaces():\n",
    "        if ws.name() == name:\n",
    "            workspace= ws\n",
    "    if(workspace == None):\n",
    "        workspace = wl.create_workspace(name)\n",
    "    return workspace\n",
    "\n",
    "def get_pipeline(name, workspace):\n",
    "    pipelines = workspace.pipelines()\n",
    "    pipe_filter = filter(lambda x: x.name() == name, pipelines)\n",
    "    pipes = list(pipe_filter)\n",
    "    # we can't have a pipe in the workspace with the same name, so it's always the first\n",
    "    if pipes:\n",
    "        pipeline = pipes[0]\n",
    "    else:\n",
    "        pipeline = wl.build_pipeline(name)\n",
    "    return pipeline"
   ]
  },
  {
   "cell_type": "markdown",
   "metadata": {},
   "source": [
    "### Connect to the Wallaroo Instance\n",
    "\n",
    "The first step is to connect to Wallaroo through the Wallaroo client.  The Python library is included in the Wallaroo install and available through the Jupyter Hub interface provided with your Wallaroo environment.\n",
    "\n",
    "This is accomplished using the `wallaroo.Client()` command, which provides a URL to grant the SDK permission to your specific Wallaroo environment.  When displayed, enter the URL into a browser and confirm permissions.  Store the connection into a variable that can be referenced later.\n",
    "\n",
    "If logging into the Wallaroo instance through the internal JupyterHub service, use `wl = wallaroo.Client()`.  For more information on Wallaroo Client settings, see the [Client Connection guide](https://docs.wallaroo.ai/wallaroo-developer-guides/wallaroo-sdk-guides/wallaroo-sdk-essentials-guide/wallaroo-sdk-essentials-client/)."
   ]
  },
  {
   "cell_type": "code",
   "execution_count": 4,
   "metadata": {},
   "outputs": [],
   "source": [
    "# Login through local Wallaroo instance\n",
    "\n",
    "wl = wallaroo.Client()\n",
    "\n",
    "wl = wallaroo.Client()\n",
    "\n",
    "wallarooPrefix = \"doc-test.\"\n",
    "wallarooSuffix = \"wallaroocommunity.ninja\"\n",
    "\n",
    "wl = wallaroo.Client(api_endpoint=f\"https://{wallarooPrefix}api.{wallarooSuffix}\", \n",
    "                    auth_endpoint=f\"https://{wallarooPrefix}keycloak.{wallarooSuffix}\", \n",
    "                    auth_type=\"sso\")"
   ]
  },
  {
   "cell_type": "markdown",
   "metadata": {},
   "source": [
    "### Create Workspace\n",
    "\n",
    "We will create a workspace to manage our pipeline and models.  The following variables will set the name of our sample workspace then set it as the current workspace.\n",
    "\n",
    "Workspace, pipeline, and model names should be unique to each user, so we'll add in a randomly generated suffix so multiple people can run this tutorial in a Wallaroo instance without effecting each other."
   ]
  },
  {
   "cell_type": "code",
   "execution_count": 5,
   "metadata": {},
   "outputs": [
    {
     "data": {
      "text/plain": [
       "{'name': 'assay-demonstration-tutorialbaseline-examples', 'id': 26, 'archived': False, 'created_by': 'df2b4a6c-b749-466a-95b4-60cf14fc354d', 'created_at': '2024-01-31T18:37:49.312045+00:00', 'models': [], 'pipelines': []}"
      ]
     },
     "execution_count": 5,
     "metadata": {},
     "output_type": "execute_result"
    }
   ],
   "source": [
    "workspace = get_workspace(workspace_name)\n",
    "\n",
    "wl.set_current_workspace(workspace)"
   ]
  },
  {
   "cell_type": "markdown",
   "metadata": {},
   "source": [
    "### Upload The Champion Model\n",
    "\n",
    "For our example, we will upload the champion model that has been trained to derive house prices from a variety of inputs.  The model file is `rf_model.onnx`, and is uploaded with the name `housingcontrol`."
   ]
  },
  {
   "cell_type": "code",
   "execution_count": 6,
   "metadata": {},
   "outputs": [],
   "source": [
    "housing_model_control = (wl.upload_model(model_name_control, \n",
    "                                        model_file_name_control, \n",
    "                                        framework=Framework.ONNX)\n",
    "                                        .configure(tensor_fields=[\"tensor\"])\n",
    "                        )"
   ]
  },
  {
   "cell_type": "markdown",
   "metadata": {},
   "source": [
    "## Standard Pipeline Steps\n",
    "\n",
    "### Build the Pipeline\n",
    "\n",
    "This pipeline is made to be an example of an existing situation where a model is deployed and being used for inferences in a production environment.  We'll call it `housepricepipeline`, set `housingcontrol` as a pipeline step, then run a few sample inferences.\n",
    "\n",
    "This pipeline will be a simple one - just a single pipeline step."
   ]
  },
  {
   "cell_type": "code",
   "execution_count": 7,
   "metadata": {},
   "outputs": [
    {
     "data": {
      "text/html": [
       "<table><tr><th>name</th> <td>assay-demonstration-tutorial</td></tr><tr><th>created</th> <td>2024-01-31 18:37:52.760861+00:00</td></tr><tr><th>last_updated</th> <td>2024-01-31 18:37:53.486139+00:00</td></tr><tr><th>deployed</th> <td>True</td></tr><tr><th>arch</th> <td>None</td></tr><tr><th>tags</th> <td></td></tr><tr><th>versions</th> <td>53ad0c4c-456f-4171-97e7-22fa4a3e950c, bb6c24d3-a6b7-42b4-a01f-f7b21cec6770</td></tr><tr><th>steps</th> <td>housepricesagacontrol</td></tr><tr><th>published</th> <td>False</td></tr></table>"
      ],
      "text/plain": [
       "{'name': 'assay-demonstration-tutorial', 'create_time': datetime.datetime(2024, 1, 31, 18, 37, 52, 760861, tzinfo=tzutc()), 'definition': \"[{'ModelInference': {'models': [{'name': 'housepricesagacontrol', 'version': '4926346c-aa35-4829-b2c8-20db02da5b6a', 'sha': 'e22a0831aafd9917f3cc87a15ed267797f80e2afa12ad7d8810ca58f173b8cc6'}]}}]\"}"
      ]
     },
     "execution_count": 7,
     "metadata": {},
     "output_type": "execute_result"
    }
   ],
   "source": [
    "mainpipeline = get_pipeline(main_pipeline_name, workspace)\n",
    "mainpipeline.clear()\n",
    "\n",
    "mainpipeline.add_model_step(housing_model_control)\n",
    "\n",
    "#minimum deployment config\n",
    "deploy_config = wallaroo.DeploymentConfigBuilder().replica_count(1).cpus(0.5).memory(\"1Gi\").build()\n",
    "\n",
    "mainpipeline.deploy(deployment_config = deploy_config)"
   ]
  },
  {
   "cell_type": "markdown",
   "metadata": {},
   "source": [
    "### Testing\n",
    "\n",
    "We'll use two inferences as a quick sample test - one that has a house that should be determined around `$700k`, the other with a house determined to be around `$1.5` million.  We'll also save the start and end periods for these events to for later log functionality."
   ]
  },
  {
   "cell_type": "code",
   "execution_count": 8,
   "metadata": {},
   "outputs": [
    {
     "data": {
      "text/html": [
       "<div>\n",
       "<style scoped>\n",
       "    .dataframe tbody tr th:only-of-type {\n",
       "        vertical-align: middle;\n",
       "    }\n",
       "\n",
       "    .dataframe tbody tr th {\n",
       "        vertical-align: top;\n",
       "    }\n",
       "\n",
       "    .dataframe thead th {\n",
       "        text-align: right;\n",
       "    }\n",
       "</style>\n",
       "<table border=\"1\" class=\"dataframe\">\n",
       "  <thead>\n",
       "    <tr style=\"text-align: right;\">\n",
       "      <th></th>\n",
       "      <th>time</th>\n",
       "      <th>in.tensor</th>\n",
       "      <th>out.variable</th>\n",
       "      <th>check_failures</th>\n",
       "    </tr>\n",
       "  </thead>\n",
       "  <tbody>\n",
       "    <tr>\n",
       "      <th>0</th>\n",
       "      <td>2024-01-31 18:38:10.344</td>\n",
       "      <td>[4.0, 2.5, 2900.0, 5505.0, 2.0, 0.0, 0.0, 3.0, 8.0, 2900.0, 0.0, 47.6063, -122.02, 2970.0, 5251.0, 12.0, 0.0, 0.0]</td>\n",
       "      <td>[718013.7]</td>\n",
       "      <td>0</td>\n",
       "    </tr>\n",
       "  </tbody>\n",
       "</table>\n",
       "</div>"
      ],
      "text/plain": [
       "                     time  \\\n",
       "0 2024-01-31 18:38:10.344   \n",
       "\n",
       "                                                                                                            in.tensor  \\\n",
       "0  [4.0, 2.5, 2900.0, 5505.0, 2.0, 0.0, 0.0, 3.0, 8.0, 2900.0, 0.0, 47.6063, -122.02, 2970.0, 5251.0, 12.0, 0.0, 0.0]   \n",
       "\n",
       "  out.variable  check_failures  \n",
       "0   [718013.7]               0  "
      ]
     },
     "metadata": {},
     "output_type": "display_data"
    }
   ],
   "source": [
    "normal_input = pd.DataFrame.from_records({\"tensor\": [[4.0, 2.5, 2900.0, 5505.0, 2.0, 0.0, 0.0, 3.0, 8.0, 2900.0, 0.0, 47.6063, -122.02, 2970.0, 5251.0, 12.0, 0.0, 0.0]]})\n",
    "result = mainpipeline.infer(normal_input)\n",
    "display(result)"
   ]
  },
  {
   "cell_type": "code",
   "execution_count": 9,
   "metadata": {},
   "outputs": [
    {
     "data": {
      "text/html": [
       "<div>\n",
       "<style scoped>\n",
       "    .dataframe tbody tr th:only-of-type {\n",
       "        vertical-align: middle;\n",
       "    }\n",
       "\n",
       "    .dataframe tbody tr th {\n",
       "        vertical-align: top;\n",
       "    }\n",
       "\n",
       "    .dataframe thead th {\n",
       "        text-align: right;\n",
       "    }\n",
       "</style>\n",
       "<table border=\"1\" class=\"dataframe\">\n",
       "  <thead>\n",
       "    <tr style=\"text-align: right;\">\n",
       "      <th></th>\n",
       "      <th>time</th>\n",
       "      <th>in.tensor</th>\n",
       "      <th>out.variable</th>\n",
       "      <th>check_failures</th>\n",
       "    </tr>\n",
       "  </thead>\n",
       "  <tbody>\n",
       "    <tr>\n",
       "      <th>0</th>\n",
       "      <td>2024-01-31 18:38:10.673</td>\n",
       "      <td>[4.0, 3.0, 3710.0, 20000.0, 2.0, 0.0, 2.0, 5.0, 10.0, 2760.0, 950.0, 47.6696, -122.261, 3970.0, 20000.0, 79.0, 0.0, 0.0]</td>\n",
       "      <td>[1514079.4]</td>\n",
       "      <td>0</td>\n",
       "    </tr>\n",
       "  </tbody>\n",
       "</table>\n",
       "</div>"
      ],
      "text/plain": [
       "                     time  \\\n",
       "0 2024-01-31 18:38:10.673   \n",
       "\n",
       "                                                                                                                  in.tensor  \\\n",
       "0  [4.0, 3.0, 3710.0, 20000.0, 2.0, 0.0, 2.0, 5.0, 10.0, 2760.0, 950.0, 47.6696, -122.261, 3970.0, 20000.0, 79.0, 0.0, 0.0]   \n",
       "\n",
       "  out.variable  check_failures  \n",
       "0  [1514079.4]               0  "
      ]
     },
     "metadata": {},
     "output_type": "display_data"
    }
   ],
   "source": [
    "large_house_input = pd.DataFrame.from_records({'tensor': [[4.0, 3.0, 3710.0, 20000.0, 2.0, 0.0, 2.0, 5.0, 10.0, 2760.0, 950.0, 47.6696, -122.261, 3970.0, 20000.0, 79.0, 0.0, 0.0]]})\n",
    "large_house_result = mainpipeline.infer(large_house_input)\n",
    "display(large_house_result)"
   ]
  },
  {
   "cell_type": "markdown",
   "metadata": {},
   "source": [
    "## Assays\n",
    "\n",
    "Wallaroo assays provide a method for detecting input or model drift.  These can be triggered either when unexpected input is provided for the inference, or when the model needs to be retrained from changing environment conditions.\n",
    "\n",
    "Wallaroo assays can track either an input field and its index, or an output field and its index.  For full details, see the [Wallaroo Assays Management Guide](https://docs.wallaroo.ai/wallaroo-operations-guide/wallaroo-pipeline-management/wallaroo-pipeline-assays/).\n",
    "\n",
    "For this example, we will:\n",
    "\n",
    "* Perform sample inferences based on lower priced houses.\n",
    "* Create an assay with the baseline set off those lower priced houses.\n",
    "* Generate inferences spread across all house values, plus specific set of high priced houses to trigger the assay alert.\n",
    "* Run an interactive assay to show the detection of values outside the established baseline."
   ]
  },
  {
   "cell_type": "markdown",
   "metadata": {},
   "source": [
    "### Inference Results History Generation\n",
    "\n",
    "To start the demonstration, we'll create a baseline of values from houses with small estimated prices and set that as our baseline. Assays are typically run on a 24 hours interval based on a 24 hour window of data, but we'll bypass that by setting our baseline time even shorter."
   ]
  },
  {
   "cell_type": "code",
   "execution_count": 10,
   "metadata": {},
   "outputs": [],
   "source": [
    "small_houses_inputs = pd.read_json('./data/smallinputs.df.json')\n",
    "baseline_size = 500\n",
    "\n",
    "# Where the baseline data will start\n",
    "assay_baseline_start = datetime.datetime.now()\n",
    "\n",
    "# These inputs will be random samples of small priced houses.  Around 30,000 is a good number\n",
    "small_houses = small_houses_inputs.sample(baseline_size, replace=True).reset_index(drop=True)\n",
    "\n",
    "# Wait 30 seconds to set this data apart from the rest\n",
    "time.sleep(30)\n",
    "small_results = mainpipeline.infer(small_houses)\n",
    "\n",
    "# Set the baseline end\n",
    "\n",
    "assay_baseline_end = datetime.datetime.now()"
   ]
  },
  {
   "cell_type": "code",
   "execution_count": 11,
   "metadata": {},
   "outputs": [
    {
     "data": {
      "text/html": [
       "<div>\n",
       "<style scoped>\n",
       "    .dataframe tbody tr th:only-of-type {\n",
       "        vertical-align: middle;\n",
       "    }\n",
       "\n",
       "    .dataframe tbody tr th {\n",
       "        vertical-align: top;\n",
       "    }\n",
       "\n",
       "    .dataframe thead th {\n",
       "        text-align: right;\n",
       "    }\n",
       "</style>\n",
       "<table border=\"1\" class=\"dataframe\">\n",
       "  <thead>\n",
       "    <tr style=\"text-align: right;\">\n",
       "      <th></th>\n",
       "      <th>time</th>\n",
       "      <th>in.tensor</th>\n",
       "      <th>out.variable</th>\n",
       "      <th>check_failures</th>\n",
       "    </tr>\n",
       "  </thead>\n",
       "  <tbody>\n",
       "    <tr>\n",
       "      <th>0</th>\n",
       "      <td>2024-01-31 18:38:41.539</td>\n",
       "      <td>[3.0, 2.5, 1880.0, 4499.0, 2.0, 0.0, 0.0, 3.0, 8.0, 1880.0, 0.0, 47.5663986206, -121.9990005493, 2130.0, 5114.0, 22.0, 0.0, 0.0]</td>\n",
       "      <td>[553463.25]</td>\n",
       "      <td>0</td>\n",
       "    </tr>\n",
       "    <tr>\n",
       "      <th>1</th>\n",
       "      <td>2024-01-31 18:38:41.539</td>\n",
       "      <td>[3.0, 2.25, 2800.0, 17300.0, 1.0, 0.0, 0.0, 4.0, 8.0, 1420.0, 1380.0, 47.5716018677, -122.1279983521, 2140.0, 12650.0, 44.0, 0.0, 0.0]</td>\n",
       "      <td>[706407.4]</td>\n",
       "      <td>0</td>\n",
       "    </tr>\n",
       "    <tr>\n",
       "      <th>2</th>\n",
       "      <td>2024-01-31 18:38:41.539</td>\n",
       "      <td>[4.0, 2.5, 2610.0, 5866.0, 2.0, 0.0, 0.0, 3.0, 8.0, 2610.0, 0.0, 47.3441009521, -122.0400009155, 2480.0, 5188.0, 9.0, 0.0, 0.0]</td>\n",
       "      <td>[358668.2]</td>\n",
       "      <td>0</td>\n",
       "    </tr>\n",
       "    <tr>\n",
       "      <th>3</th>\n",
       "      <td>2024-01-31 18:38:41.539</td>\n",
       "      <td>[4.0, 2.5, 3670.0, 54450.0, 2.0, 0.0, 0.0, 3.0, 10.0, 3670.0, 0.0, 47.6211013794, -122.0159988403, 2900.0, 49658.0, 15.0, 0.0, 0.0]</td>\n",
       "      <td>[921695.4]</td>\n",
       "      <td>0</td>\n",
       "    </tr>\n",
       "    <tr>\n",
       "      <th>4</th>\n",
       "      <td>2024-01-31 18:38:41.539</td>\n",
       "      <td>[3.0, 3.5, 2800.0, 7694.0, 1.0, 0.0, 0.0, 3.0, 9.0, 2800.0, 0.0, 47.7094993591, -122.0220031738, 2420.0, 7694.0, 10.0, 0.0, 0.0]</td>\n",
       "      <td>[759983.6]</td>\n",
       "      <td>0</td>\n",
       "    </tr>\n",
       "    <tr>\n",
       "      <th>...</th>\n",
       "      <td>...</td>\n",
       "      <td>...</td>\n",
       "      <td>...</td>\n",
       "      <td>...</td>\n",
       "    </tr>\n",
       "    <tr>\n",
       "      <th>495</th>\n",
       "      <td>2024-01-31 18:38:41.539</td>\n",
       "      <td>[4.0, 3.5, 3660.0, 4903.0, 2.0, 0.0, 0.0, 3.0, 9.0, 2760.0, 900.0, 47.7183990479, -122.15599823, 3630.0, 4992.0, 0.0, 0.0, 0.0]</td>\n",
       "      <td>[873848.44]</td>\n",
       "      <td>0</td>\n",
       "    </tr>\n",
       "    <tr>\n",
       "      <th>496</th>\n",
       "      <td>2024-01-31 18:38:41.539</td>\n",
       "      <td>[4.0, 1.0, 2000.0, 4800.0, 2.0, 0.0, 0.0, 4.0, 7.0, 2000.0, 0.0, 47.6582984924, -122.3509979248, 1260.0, 1452.0, 104.0, 0.0, 0.0]</td>\n",
       "      <td>[581002.94]</td>\n",
       "      <td>0</td>\n",
       "    </tr>\n",
       "    <tr>\n",
       "      <th>497</th>\n",
       "      <td>2024-01-31 18:38:41.539</td>\n",
       "      <td>[5.0, 2.0, 3540.0, 9970.0, 2.0, 0.0, 3.0, 3.0, 9.0, 3540.0, 0.0, 47.7108001709, -122.2770004272, 2280.0, 7195.0, 44.0, 0.0, 0.0]</td>\n",
       "      <td>[1085835.4]</td>\n",
       "      <td>0</td>\n",
       "    </tr>\n",
       "    <tr>\n",
       "      <th>498</th>\n",
       "      <td>2024-01-31 18:38:41.539</td>\n",
       "      <td>[4.0, 2.5, 2130.0, 9100.0, 1.0, 0.0, 0.0, 3.0, 8.0, 1290.0, 840.0, 47.3815002441, -122.1689987183, 1770.0, 7700.0, 36.0, 0.0, 0.0]</td>\n",
       "      <td>[334257.7]</td>\n",
       "      <td>0</td>\n",
       "    </tr>\n",
       "    <tr>\n",
       "      <th>499</th>\n",
       "      <td>2024-01-31 18:38:41.539</td>\n",
       "      <td>[2.0, 1.75, 1260.0, 5300.0, 1.0, 0.0, 0.0, 4.0, 7.0, 840.0, 420.0, 47.6809005737, -122.3479995728, 1280.0, 3000.0, 64.0, 0.0, 0.0]</td>\n",
       "      <td>[448627.8]</td>\n",
       "      <td>0</td>\n",
       "    </tr>\n",
       "  </tbody>\n",
       "</table>\n",
       "<p>500 rows × 4 columns</p>\n",
       "</div>"
      ],
      "text/plain": [
       "                       time  \\\n",
       "0   2024-01-31 18:38:41.539   \n",
       "1   2024-01-31 18:38:41.539   \n",
       "2   2024-01-31 18:38:41.539   \n",
       "3   2024-01-31 18:38:41.539   \n",
       "4   2024-01-31 18:38:41.539   \n",
       "..                      ...   \n",
       "495 2024-01-31 18:38:41.539   \n",
       "496 2024-01-31 18:38:41.539   \n",
       "497 2024-01-31 18:38:41.539   \n",
       "498 2024-01-31 18:38:41.539   \n",
       "499 2024-01-31 18:38:41.539   \n",
       "\n",
       "                                                                                                                                  in.tensor  \\\n",
       "0          [3.0, 2.5, 1880.0, 4499.0, 2.0, 0.0, 0.0, 3.0, 8.0, 1880.0, 0.0, 47.5663986206, -121.9990005493, 2130.0, 5114.0, 22.0, 0.0, 0.0]   \n",
       "1    [3.0, 2.25, 2800.0, 17300.0, 1.0, 0.0, 0.0, 4.0, 8.0, 1420.0, 1380.0, 47.5716018677, -122.1279983521, 2140.0, 12650.0, 44.0, 0.0, 0.0]   \n",
       "2           [4.0, 2.5, 2610.0, 5866.0, 2.0, 0.0, 0.0, 3.0, 8.0, 2610.0, 0.0, 47.3441009521, -122.0400009155, 2480.0, 5188.0, 9.0, 0.0, 0.0]   \n",
       "3       [4.0, 2.5, 3670.0, 54450.0, 2.0, 0.0, 0.0, 3.0, 10.0, 3670.0, 0.0, 47.6211013794, -122.0159988403, 2900.0, 49658.0, 15.0, 0.0, 0.0]   \n",
       "4          [3.0, 3.5, 2800.0, 7694.0, 1.0, 0.0, 0.0, 3.0, 9.0, 2800.0, 0.0, 47.7094993591, -122.0220031738, 2420.0, 7694.0, 10.0, 0.0, 0.0]   \n",
       "..                                                                                                                                      ...   \n",
       "495         [4.0, 3.5, 3660.0, 4903.0, 2.0, 0.0, 0.0, 3.0, 9.0, 2760.0, 900.0, 47.7183990479, -122.15599823, 3630.0, 4992.0, 0.0, 0.0, 0.0]   \n",
       "496       [4.0, 1.0, 2000.0, 4800.0, 2.0, 0.0, 0.0, 4.0, 7.0, 2000.0, 0.0, 47.6582984924, -122.3509979248, 1260.0, 1452.0, 104.0, 0.0, 0.0]   \n",
       "497        [5.0, 2.0, 3540.0, 9970.0, 2.0, 0.0, 3.0, 3.0, 9.0, 3540.0, 0.0, 47.7108001709, -122.2770004272, 2280.0, 7195.0, 44.0, 0.0, 0.0]   \n",
       "498      [4.0, 2.5, 2130.0, 9100.0, 1.0, 0.0, 0.0, 3.0, 8.0, 1290.0, 840.0, 47.3815002441, -122.1689987183, 1770.0, 7700.0, 36.0, 0.0, 0.0]   \n",
       "499      [2.0, 1.75, 1260.0, 5300.0, 1.0, 0.0, 0.0, 4.0, 7.0, 840.0, 420.0, 47.6809005737, -122.3479995728, 1280.0, 3000.0, 64.0, 0.0, 0.0]   \n",
       "\n",
       "    out.variable  check_failures  \n",
       "0    [553463.25]               0  \n",
       "1     [706407.4]               0  \n",
       "2     [358668.2]               0  \n",
       "3     [921695.4]               0  \n",
       "4     [759983.6]               0  \n",
       "..           ...             ...  \n",
       "495  [873848.44]               0  \n",
       "496  [581002.94]               0  \n",
       "497  [1085835.4]               0  \n",
       "498   [334257.7]               0  \n",
       "499   [448627.8]               0  \n",
       "\n",
       "[500 rows x 4 columns]"
      ]
     },
     "metadata": {},
     "output_type": "display_data"
    }
   ],
   "source": [
    "display(small_results)"
   ]
  },
  {
   "cell_type": "markdown",
   "metadata": {},
   "source": [
    "This process will generate a numpy array of the inference results used in later Assay builder steps."
   ]
  },
  {
   "cell_type": "code",
   "execution_count": 12,
   "metadata": {},
   "outputs": [
    {
     "data": {
      "text/plain": [
       "array([ 553463.25,  706407.4 ,  358668.2 ,  921695.4 ,  759983.6 ,\n",
       "        380009.28,  680620.7 ,  236238.67,  448627.8 ,  246901.14,\n",
       "        684577.25,  416774.6 ,  718445.7 ,  557391.25,  338357.88,\n",
       "        288798.1 ,  706823.6 ,  236238.67,  999203.06,  736751.3 ,\n",
       "       1082353.1 ,  432908.6 ,  380009.28,  557391.25,  544392.06,\n",
       "        385561.78, 1160512.8 ,  524275.4 ,  290323.1 ,  448627.8 ,\n",
       "        300480.3 ,  393833.97,  448627.8 ,  442856.4 ,  252539.6 ,\n",
       "        429876.3 ,  379076.28,  546631.94,  987157.25, 1108000.  ,\n",
       "        657905.75,  376762.4 ,  784103.56,  296202.7 ,  293808.03,\n",
       "        598725.  ,  274207.16,  480151.44,  448627.8 ,  542342.  ,\n",
       "        795841.06,  557391.25,  252539.6 ,  236238.67,  291239.75,\n",
       "        544392.06,  244351.92,  448180.78,  334257.7 , 1052897.9 ,\n",
       "        423382.72,  249455.83,  437177.97,  404484.53,  291857.06,\n",
       "        695842.7 ,  675545.44,  341649.34, 1082353.1 ,  249227.83,\n",
       "        296202.7 ,  299854.75,  718588.94,  338357.88,  241330.17,\n",
       "        684577.25,  438346.38,  682181.9 ,  784103.56,  291239.75,\n",
       "        435628.72,  236238.67,  559631.06,  358668.2 ,  341472.13,\n",
       "        713979.  ,  316231.84,  836481.  ,  252192.9 ,  713003.4 ,\n",
       "       1004846.56,  424966.6 ,  300446.66,  553463.25,  657905.75,\n",
       "        530288.94,  557391.25,  291239.75,  508926.25,  296411.7 ,\n",
       "        516278.63,  964052.6 ,  353912.  ,  403520.16,  313096.  ,\n",
       "        700294.25,  937359.6 ,  424966.6 ,  340764.53,  423382.72,\n",
       "        450867.7 ,  267013.97,  508746.63,  300446.66,  236238.67,\n",
       "        726181.75,  529302.44,  795841.06,  236238.67,  829775.3 ,\n",
       "        444408.  ,  244380.27,  268856.88,  284845.34,  435628.72,\n",
       "        713485.7 ,  291903.97,  987157.25,  263051.63,  416774.6 ,\n",
       "        239734.08,  562676.6 ,  340764.53,  879092.9 ,  341649.34,\n",
       "       1322835.6 ,  384558.4 ,  313096.  ,  725184.1 ,  438346.38,\n",
       "        778197.7 ,  450867.7 ,  530288.94,  236238.67,  239734.08,\n",
       "        879092.9 ,  340764.53,  704672.25,  498579.5 ,  450867.7 ,\n",
       "        363491.63,  598725.  ,  313096.  ,  448627.8 ,  274207.16,\n",
       "        277145.63,  713485.7 ,  559923.9 ,  340764.53,  258321.66,\n",
       "        765468.9 ,  682284.56,  557391.25,  700271.56,  310992.94,\n",
       "        879092.9 , 1060847.5 ,  349102.75,  300480.3 ,  236238.67,\n",
       "        349100.53,  450867.7 ,  324875.06,  879092.9 ,  559631.06,\n",
       "        261886.94,  435628.72,  340764.53,  572709.94,  430252.3 ,\n",
       "        513264.66,  252192.9 ,  448627.8 ,  300446.66,  921695.4 ,\n",
       "        261886.94,  680620.7 ,  987149.6 ,  434534.22,  904378.7 ,\n",
       "        379076.28,  435628.72,  448627.8 ,  559923.9 ,  474010.4 ,\n",
       "       1227073.8 ,  447192.22,  450996.34,  765468.9 ,  444885.6 ,\n",
       "        379076.28,  450867.7 ,  352864.1 ,  450867.7 ,  416617.38,\n",
       "        359947.78,  559631.06,  519346.94,  320863.72,  530288.94,\n",
       "        682284.56,  703282.7 ,  513264.66,  673288.6 ,  450867.7 ,\n",
       "        448627.8 ,  544392.06,  811666.7 ,  281823.13,  349100.53,\n",
       "        461279.1 ,  474010.4 ,  243063.13,  259333.97,  758714.3 ,\n",
       "        292859.44,  721143.6 ,  296202.7 ,  239734.08,  317132.63,\n",
       "        713979.  ,  290323.1 ,  291857.06,  243300.83,  559631.06,\n",
       "        431929.2 ,  675545.44,  637377.  ,  236238.67,  276709.06,\n",
       "        680620.7 , 1295531.8 ,  837085.5 ,  557391.25,  340764.53,\n",
       "        284336.47,  921695.4 ,  711565.44,  437002.88,  424966.6 ,\n",
       "        450867.7 ,  437177.97,  317132.63,  416774.6 , 1052897.9 ,\n",
       "        288798.1 ,  721518.44,  950176.7 ,  634865.7 ,  536371.2 ,\n",
       "        758714.3 ,  924823.8 ,  450867.7 ,  846775.06,  324875.06,\n",
       "        400561.2 ,  502022.94,  421402.1 ,  513583.06,  293560.06,\n",
       "        381737.6 ,  712309.9 ,  291239.75,  684577.25,  236238.67,\n",
       "        538436.75,  400561.2 ,  448627.8 ,  317765.63,  513583.06,\n",
       "        340764.53,  430252.3 ,  464060.2 ,  637377.  ,  260603.88,\n",
       "        404676.1 ,  340764.53,  559631.06,  713358.8 ,  597475.75,\n",
       "        260603.88,  536175.7 ,  441512.72,  306159.38,  516278.63,\n",
       "        300446.66,  450867.7 ,  241809.88,  461279.1 ,  513583.06,\n",
       "        240212.22,  435628.72,  886958.6 ,  448627.8 ,  450867.7 ,\n",
       "        559631.06,  513083.8 ,  686890.94,  964052.6 ,  723934.9 ,\n",
       "        448627.8 ,  680620.7 ,  352864.1 ,  711565.44,  342604.47,\n",
       "        715530.06,  725184.1 ,  682284.56,  421402.1 ,  536371.2 ,\n",
       "        340764.53, 1077279.1 ,  242591.38,  431992.22,  508926.25,\n",
       "        309800.8 ,  358668.2 ,  288798.1 ,  700294.25,  536371.2 ,\n",
       "        546631.94,  557391.25,  340764.53,  448627.8 ,  721518.44,\n",
       "        424966.6 ,  437177.97, 1207859.  ,  904204.06,  675545.44,\n",
       "        689450.3 ,  348323.9 ,  682284.56,  239734.08,  404484.53,\n",
       "        275884.44,  879092.9 ,  450867.7 ,  581002.94,  340764.53,\n",
       "        448627.8 ,  236238.67, 1156651.3 ,  393833.97, 1122811.6 ,\n",
       "        695842.7 ,  559631.06,  244380.27,  418823.38,  278475.66,\n",
       "       1039781.2 ,  557391.25, 1085835.4 ,  335398.94,  437177.97,\n",
       "        732735.94,  303002.25,  921695.4 ,  449229.97,  437929.84,\n",
       "        448627.8 ,  557391.25,  340764.53,  403520.16,  721143.6 ,\n",
       "        557391.25,  328513.6 ,  721518.44,  532234.1 ,  320863.72,\n",
       "        285253.13,  343304.63,  437177.97,  879092.9 ,  516278.63,\n",
       "        779810.06,  385561.78,  444931.28,  921695.4 ,  450867.7 ,\n",
       "        276709.06,  444931.28,  448627.8 ,  482485.6 ,  718445.7 ,\n",
       "        779810.06, 1489624.3 ,  340764.53, 1160512.8 ,  546631.94,\n",
       "        291903.97,  530288.94,  597475.75,  683869.56,  937359.6 ,\n",
       "        293560.06,  400561.2 ,  546631.94,  879092.9 , 1156651.3 ,\n",
       "        536371.2 ,  241330.17, 1227073.8 ,  448627.8 , 1160512.8 ,\n",
       "        252192.9 , 1207859.  ,  735392.9 ,  563844.44, 1322835.6 ,\n",
       "        410291.72,  784103.56,  381737.6 ,  413013.38,  300988.8 ,\n",
       "        778197.7 ,  379076.28,  340764.53,  555231.94,  513583.06,\n",
       "        675545.44,  236238.67,  385561.78,  350835.9 ,  241330.17,\n",
       "        450867.7 ,  444933.25,  291239.75,  551223.44,  300988.8 ,\n",
       "        700271.56,  303002.25,  343304.63,  252192.9 ,  758714.3 ,\n",
       "        340764.53,  340764.53, 1100884.3 ,  236238.67,  448627.8 ,\n",
       "        334257.7 ,  548006.06,  340764.53, 1085835.4 ,  293560.06,\n",
       "        435628.72,  382005.63,  475971.5 ,  435628.72,  706407.4 ,\n",
       "        244380.27,  289359.47,  349102.75,  758714.3 ,  379752.2 ,\n",
       "       1103101.3 ,  772048.1 ,  340764.53,  241330.17,  519346.94,\n",
       "        784103.56,  340764.53,  793214.3 ,  382005.63, 1325960.8 ,\n",
       "        721518.44,  464057.38,  448627.8 ,  987157.25,  546631.94,\n",
       "        765468.9 , 1115275.  ,  559631.06,  475270.97,  324875.06,\n",
       "        846775.06,  359947.78,  288798.1 ,  300446.66,  713358.8 ,\n",
       "        630865.5 ,  400561.2 ,  243585.28,  415964.3 ,  559631.06,\n",
       "        873848.44,  581002.94, 1085835.4 ,  334257.7 ,  448627.8 ])"
      ]
     },
     "execution_count": 12,
     "metadata": {},
     "output_type": "execute_result"
    }
   ],
   "source": [
    "# get the numpy values\n",
    "\n",
    "# set the results to a non-array value\n",
    "small_results_baseline_df = small_results.copy()\n",
    "small_results_baseline_df['variable']=small_results['out.variable'].map(lambda x: x[0])\n",
    "small_results_baseline_df\n",
    "\n",
    "# set the numpy array\n",
    "small_results_baseline = small_results_baseline_df['variable'].to_numpy()\n",
    "small_results_baseline"
   ]
  },
  {
   "cell_type": "markdown",
   "metadata": {},
   "source": [
    "### Build Assay\n",
    "\n",
    "We will now build two assays.  One from the start and end dates for our baseline data run earlier, and second from a numpy array as our baseline data.\n",
    "\n",
    "* **IMPORTANT NOTE**:  Assay names **must** be unique across the Wallaroo.\n",
    "\n",
    "Once each assay is generated, we will show some statistics from each."
   ]
  },
  {
   "cell_type": "code",
   "execution_count": 13,
   "metadata": {},
   "outputs": [],
   "source": [
    "# Now build the assay, based on the start and end of our baseline time, \n",
    "# and tracking the output variable index 0\n",
    "assay_builder_from_dates = wl.build_assay(assay_name=\"assays from date baseline\", \n",
    "                                          pipeline=mainpipeline, \n",
    "                                          model_name=\"housepricesagacontrol\", \n",
    "                                          iopath=\"output variable 0\",\n",
    "                                          baseline_start=assay_baseline_start, \n",
    "                                          baseline_end=assay_baseline_end)\n",
    "\n",
    "# assay builder by baseline\n",
    "assay_builder_from_numpy = wl.build_assay(assay_name=\"assays from numpy\", \n",
    "                               pipeline=mainpipeline, \n",
    "                               model_name=model_name_control, \n",
    "                               iopath=\"output variable 0\", \n",
    "                               baseline_data = small_results_baseline)"
   ]
  },
  {
   "cell_type": "markdown",
   "metadata": {},
   "source": [
    "### Assay Builder Reports\n",
    "\n",
    "The following reports display information based on the data generated from building an assay.\n",
    "\n",
    "#### Get Assay Builder Baseline Histogram Chart\n",
    "\n",
    "The method [`wallaroo.assay_config.AssayBuilder.baseline_histogram`](https://docs.wallaroo.ai/wallaroo-developer-guides/wallaroo-sdk-guides/wallaroo-sdk-reference-guide/assay_config/#AssayBuilder.baseline_dataframe) returns a histogram chart of the assay baseline generated from the provided parameters."
   ]
  },
  {
   "cell_type": "code",
   "execution_count": 14,
   "metadata": {},
   "outputs": [
    {
     "data": {
      "image/png": "[encoded data removed]",
      "text/plain": [
       "<Figure size 640x480 with 1 Axes>"
      ]
     },
     "metadata": {},
     "output_type": "display_data"
    }
   ],
   "source": [
    "# get the assay builder histogram\n",
    "assay_builder_from_dates.baseline_histogram()"
   ]
  },
  {
   "cell_type": "code",
   "execution_count": 15,
   "metadata": {},
   "outputs": [
    {
     "data": {
      "image/png": "[encoded data removed]",
      "text/plain": [
       "<Figure size 640x480 with 1 Axes>"
      ]
     },
     "metadata": {},
     "output_type": "display_data"
    }
   ],
   "source": [
    "# get the assay builder histogram\n",
    "assay_builder_from_numpy.baseline_histogram()"
   ]
  },
  {
   "cell_type": "markdown",
   "metadata": {},
   "source": [
    "#### Get Assay Builder Baseline ECDF Chart\n",
    "\n",
    "The method [`wallaroo.assay_config.AssayBuilder.baseline_ecdf`](https://docs.wallaroo.ai/wallaroo-developer-guides/wallaroo-sdk-guides/wallaroo-sdk-reference-guide/assay_config/#AssayBuilder.baseline_dataframe) returns a Empirical Cumulative Distribution Function (CDF) chart of the assay baseline generated from the provided parameters."
   ]
  },
  {
   "cell_type": "code",
   "execution_count": 16,
   "metadata": {},
   "outputs": [
    {
     "data": {
      "image/png": "[encoded data removed]",
      "text/plain": [
       "<Figure size 640x480 with 1 Axes>"
      ]
     },
     "metadata": {},
     "output_type": "display_data"
    }
   ],
   "source": [
    "assay_builder_from_dates.baseline_ecdf()"
   ]
  },
  {
   "cell_type": "code",
   "execution_count": 17,
   "metadata": {},
   "outputs": [
    {
     "data": {
      "image/png": "[encoded data removed]",
      "text/plain": [
       "<Figure size 640x480 with 1 Axes>"
      ]
     },
     "metadata": {},
     "output_type": "display_data"
    }
   ],
   "source": [
    "assay_builder_from_numpy.baseline_ecdf()"
   ]
  },
  {
   "cell_type": "markdown",
   "metadata": {},
   "source": [
    "#### Get Assay Builder Baseline KDE Chart\n",
    "\n",
    "The method [`wallaroo.assay_config.AssayBuilder.baseline_kde`](https://docs.wallaroo.ai/wallaroo-developer-guides/wallaroo-sdk-guides/wallaroo-sdk-reference-guide/assay_config/#AssayBuilder.baseline_dataframe) returns a Kernel Density Estimation (KDE) chart of the assay baseline generated from the provided parameters."
   ]
  },
  {
   "cell_type": "code",
   "execution_count": 18,
   "metadata": {},
   "outputs": [
    {
     "data": {
      "image/png": "[encoded data removed]",
      "text/plain": [
       "<Figure size 640x480 with 1 Axes>"
      ]
     },
     "metadata": {},
     "output_type": "display_data"
    }
   ],
   "source": [
    "assay_builder_from_dates.baseline_kde()"
   ]
  },
  {
   "cell_type": "code",
   "execution_count": 19,
   "metadata": {},
   "outputs": [
    {
     "data": {
      "image/png": "[encoded data removed]",
      "text/plain": [
       "<Figure size 640x480 with 1 Axes>"
      ]
     },
     "metadata": {},
     "output_type": "display_data"
    }
   ],
   "source": [
    "assay_builder_from_numpy.baseline_kde()"
   ]
  },
  {
   "cell_type": "markdown",
   "metadata": {},
   "source": [
    "#### Get Assay Builder Baseline DataFrame\n",
    "\n",
    "The method [`wallaroo.assay_config.AssayBuilder.baseline_ecdf`](https://docs.wallaroo.ai/wallaroo-developer-guides/wallaroo-sdk-guides/wallaroo-sdk-reference-guide/assay_config/#AssayBuilder.baseline_dataframe) returns a dataframe of the assay baseline generated from the provided parameters.  This includes:\n",
    "\n",
    "* metadata:  The inference metadata with the model information, inference time, and other related factors.\n",
    "* `in` data:  Each input field assigned with the label `in.{input field name}`.\n",
    "* `out` data:  Each output field assigned with the label `out.{output field name}`\n",
    "\n",
    "Note that for assays generated from numpy values, there is only the output variable based on the supplied baseline data."
   ]
  },
  {
   "cell_type": "code",
   "execution_count": 24,
   "metadata": {},
   "outputs": [
    {
     "data": {
      "text/html": [
       "<div>\n",
       "<style scoped>\n",
       "    .dataframe tbody tr th:only-of-type {\n",
       "        vertical-align: middle;\n",
       "    }\n",
       "\n",
       "    .dataframe tbody tr th {\n",
       "        vertical-align: top;\n",
       "    }\n",
       "\n",
       "    .dataframe thead th {\n",
       "        text-align: right;\n",
       "    }\n",
       "</style>\n",
       "<table border=\"1\" class=\"dataframe\">\n",
       "  <thead>\n",
       "    <tr style=\"text-align: right;\">\n",
       "      <th></th>\n",
       "      <th>time</th>\n",
       "      <th>output_variable_0</th>\n",
       "    </tr>\n",
       "  </thead>\n",
       "  <tbody>\n",
       "    <tr>\n",
       "      <th>0</th>\n",
       "      <td>1706726290673</td>\n",
       "      <td>1.514079e+06</td>\n",
       "    </tr>\n",
       "    <tr>\n",
       "      <th>1</th>\n",
       "      <td>1706726321539</td>\n",
       "      <td>5.534632e+05</td>\n",
       "    </tr>\n",
       "    <tr>\n",
       "      <th>2</th>\n",
       "      <td>1706726321539</td>\n",
       "      <td>7.064074e+05</td>\n",
       "    </tr>\n",
       "    <tr>\n",
       "      <th>3</th>\n",
       "      <td>1706726321539</td>\n",
       "      <td>3.586682e+05</td>\n",
       "    </tr>\n",
       "    <tr>\n",
       "      <th>4</th>\n",
       "      <td>1706726321539</td>\n",
       "      <td>9.216954e+05</td>\n",
       "    </tr>\n",
       "    <tr>\n",
       "      <th>...</th>\n",
       "      <td>...</td>\n",
       "      <td>...</td>\n",
       "    </tr>\n",
       "    <tr>\n",
       "      <th>496</th>\n",
       "      <td>1706726321539</td>\n",
       "      <td>8.738484e+05</td>\n",
       "    </tr>\n",
       "    <tr>\n",
       "      <th>497</th>\n",
       "      <td>1706726321539</td>\n",
       "      <td>5.810029e+05</td>\n",
       "    </tr>\n",
       "    <tr>\n",
       "      <th>498</th>\n",
       "      <td>1706726321539</td>\n",
       "      <td>1.085835e+06</td>\n",
       "    </tr>\n",
       "    <tr>\n",
       "      <th>499</th>\n",
       "      <td>1706726321539</td>\n",
       "      <td>3.342577e+05</td>\n",
       "    </tr>\n",
       "    <tr>\n",
       "      <th>500</th>\n",
       "      <td>1706726321539</td>\n",
       "      <td>4.486278e+05</td>\n",
       "    </tr>\n",
       "  </tbody>\n",
       "</table>\n",
       "<p>501 rows × 2 columns</p>\n",
       "</div>"
      ],
      "text/plain": [
       "              time  output_variable_0\n",
       "0    1706726290673       1.514079e+06\n",
       "1    1706726321539       5.534632e+05\n",
       "2    1706726321539       7.064074e+05\n",
       "3    1706726321539       3.586682e+05\n",
       "4    1706726321539       9.216954e+05\n",
       "..             ...                ...\n",
       "496  1706726321539       8.738484e+05\n",
       "497  1706726321539       5.810029e+05\n",
       "498  1706726321539       1.085835e+06\n",
       "499  1706726321539       3.342577e+05\n",
       "500  1706726321539       4.486278e+05\n",
       "\n",
       "[501 rows x 2 columns]"
      ]
     },
     "execution_count": 24,
     "metadata": {},
     "output_type": "execute_result"
    }
   ],
   "source": [
    "# get the assay dataframe\n",
    "assay_builder_from_dates.baseline_dataframe().loc[:, ['time', 'output_variable_0']]"
   ]
  },
  {
   "cell_type": "code",
   "execution_count": 22,
   "metadata": {},
   "outputs": [
    {
     "data": {
      "text/html": [
       "<div>\n",
       "<style scoped>\n",
       "    .dataframe tbody tr th:only-of-type {\n",
       "        vertical-align: middle;\n",
       "    }\n",
       "\n",
       "    .dataframe tbody tr th {\n",
       "        vertical-align: top;\n",
       "    }\n",
       "\n",
       "    .dataframe thead th {\n",
       "        text-align: right;\n",
       "    }\n",
       "</style>\n",
       "<table border=\"1\" class=\"dataframe\">\n",
       "  <thead>\n",
       "    <tr style=\"text-align: right;\">\n",
       "      <th></th>\n",
       "      <th>output_variable_0</th>\n",
       "    </tr>\n",
       "  </thead>\n",
       "  <tbody>\n",
       "    <tr>\n",
       "      <th>0</th>\n",
       "      <td>553463.25</td>\n",
       "    </tr>\n",
       "    <tr>\n",
       "      <th>1</th>\n",
       "      <td>706407.40</td>\n",
       "    </tr>\n",
       "    <tr>\n",
       "      <th>2</th>\n",
       "      <td>358668.20</td>\n",
       "    </tr>\n",
       "    <tr>\n",
       "      <th>3</th>\n",
       "      <td>921695.40</td>\n",
       "    </tr>\n",
       "    <tr>\n",
       "      <th>4</th>\n",
       "      <td>759983.60</td>\n",
       "    </tr>\n",
       "    <tr>\n",
       "      <th>...</th>\n",
       "      <td>...</td>\n",
       "    </tr>\n",
       "    <tr>\n",
       "      <th>495</th>\n",
       "      <td>873848.44</td>\n",
       "    </tr>\n",
       "    <tr>\n",
       "      <th>496</th>\n",
       "      <td>581002.94</td>\n",
       "    </tr>\n",
       "    <tr>\n",
       "      <th>497</th>\n",
       "      <td>1085835.40</td>\n",
       "    </tr>\n",
       "    <tr>\n",
       "      <th>498</th>\n",
       "      <td>334257.70</td>\n",
       "    </tr>\n",
       "    <tr>\n",
       "      <th>499</th>\n",
       "      <td>448627.80</td>\n",
       "    </tr>\n",
       "  </tbody>\n",
       "</table>\n",
       "<p>500 rows × 1 columns</p>\n",
       "</div>"
      ],
      "text/plain": [
       "     output_variable_0\n",
       "0            553463.25\n",
       "1            706407.40\n",
       "2            358668.20\n",
       "3            921695.40\n",
       "4            759983.60\n",
       "..                 ...\n",
       "495          873848.44\n",
       "496          581002.94\n",
       "497         1085835.40\n",
       "498          334257.70\n",
       "499          448627.80\n",
       "\n",
       "[500 rows x 1 columns]"
      ]
     },
     "execution_count": 22,
     "metadata": {},
     "output_type": "execute_result"
    }
   ],
   "source": [
    "# get the assay dataframe\n",
    "assay_builder_from_numpy.baseline_dataframe()"
   ]
  },
  {
   "cell_type": "markdown",
   "metadata": {},
   "source": [
    "### Assay Testing\n",
    "\n",
    "Now we'll perform some inferences with a spread of values, then a larger set with a set of larger house values to trigger our assay alert.  We'll use our assay created from the numpy baseline values to demonstrate.\n",
    "\n",
    "Because our assay windows are 1 minutes, we'll need to stagger our inference values to be set into the proper windows.  This will take about 2 minutes."
   ]
  },
  {
   "cell_type": "code",
   "execution_count": 25,
   "metadata": {},
   "outputs": [],
   "source": [
    "# Get a spread of house values\n",
    "\n",
    "# Set the start for our assay window period.\n",
    "assay_window_start = datetime.datetime.now()\n",
    "\n",
    "time.sleep(65)\n",
    "inference_size = 1000\n",
    "\n",
    "# And a spread of large house values\n",
    "\n",
    "big_houses_inputs = pd.read_json('./data/biginputs.df.json', orient=\"records\")\n",
    "big_houses = big_houses_inputs.sample(inference_size, replace=True).reset_index(drop=True)\n",
    "\n",
    "mainpipeline.infer(big_houses)\n",
    "\n",
    "time.sleep(65)"
   ]
  },
  {
   "cell_type": "markdown",
   "metadata": {},
   "source": [
    "### Interactive Assay Runs\n",
    "\n",
    "By default the assay builder creates an assay that runs a new analysis for every 24 hours starting at the end of the baseline period.  We can perform an interactive run to collect the data currently available and evaluate the details.\n",
    "\n",
    "This requires two methods be used:\n",
    "\n",
    "* `wallaroo.assay_config.add_run_until(run_until: datetime.datetime)`: Sets how long the assay should run to limit the number of analyses.  This is used to narrow down the number of records.  Typically the datetime is set to `datetime.now()` to run the assay until the current time.\n",
    "* [`wallaroo.assay_config.AssayBuilder.window_builder.add_start`](https://docs.wallaroo.ai/wallaroo-developer-guides/wallaroo-sdk-guides/wallaroo-sdk-reference-guide/assay_config/#WindowBuilder.add_start): Sets the starting period for collecting data for the interactive run.\n",
    "* `wallaroo.assay_config.interactive_run()`: Runs this assay interactively and returns a  [`wallaroo.assay.AssayAnalysisList`](https://docs.wallaroo.ai/wallaroo-developer-guides/wallaroo-sdk-guides/wallaroo-sdk-reference-guide/assay/#AssayAnalysisList) object.  Each Assay Analysis contains the assay results per window. The assay is not saved to the Wallaroo database nor are analysis records saved to a Plateau topic. Useful for exploring pipeline inference data and experimenting with thresholds."
   ]
  },
  {
   "cell_type": "code",
   "execution_count": 28,
   "metadata": {},
   "outputs": [
    {
     "data": {
      "text/plain": [
       "2"
      ]
     },
     "execution_count": 28,
     "metadata": {},
     "output_type": "execute_result"
    }
   ],
   "source": [
    "# set the width, interval, and time period for the assay interactive run\n",
    "assay_builder_from_dates.add_run_until(datetime.datetime.now())\n",
    "assay_builder_from_dates.window_builder().add_width(minutes=1).add_interval(minutes=1).add_start(assay_baseline_start)\n",
    "assay_config_from_dates = assay_builder_from_dates.build()\n",
    "assay_analysis_from_dates = assay_config_from_dates.interactive_run()\n",
    "len(assay_analysis_from_dates)"
   ]
  },
  {
   "cell_type": "markdown",
   "metadata": {},
   "source": [
    "### Assay Analysis List Data\n",
    "\n",
    "Each `wallaroo.assay.AssayAnalysisList` element `wallaroo.assay.AssayAnalysis` contains the assay baseline, which is then displayed and compared against the assay window.\n",
    "\n",
    "The `wallaroo.assay.AssayAnalysisList` provides a set of data analysis tools to retrieve aggregate information for all of the `AssayAnalysis` elements."
   ]
  },
  {
   "cell_type": "markdown",
   "metadata": {},
   "source": [
    "#### Get Assay Analysis List DataFrame\n",
    "\n",
    "A DataFrame from `wallaroo.assay.AssayAnalysisList.to_dataframe()` shows the results generated from an Assay Interactive Run for each `AssayAnalysis` element in the `AssayAnalysisList`.  This DataFrame  contains the following fields:\n",
    "\n",
    "| Field | Type | Description |\n",
    "|---|---|---|\n",
    "| assay_id | **Integer/None** | The assay id.  If this is from an interactive run and not an uploaded assay, the id is `None`.\n",
    "| name | **String/None** | The name of the assay.  If this is from an interactive run and not an uploaded assay, the name is `None`.\n",
    "| iopath | **String/None** | The iopath of the assay.  If this is from an interactive run and not an uploaded assay, the iopath is `None`.\n",
    "| score | **Float** | The assay score. |\n",
    "| start | **DateTime** | The DateTime start of the assay window.\n",
    "| min | **Float** | The minimum value in the assay window.\n",
    "| max  | **Float** | The maximum value in the assay window.\n",
    "| mean | **Float** | The mean value in the assay window.\n",
    "| median | **Float** | The median value in the assay window.\n",
    "| std | **Float** | The standard deviation value in the assay window.\n",
    "| warning_threshold | **Float/None** | The warning threshold of the assay window.\n",
    "| alert_threshold | **Float/None** | The alert threshold of the assay window.\n",
    "| status | **String** | The assay window status.  Values are:  <ul><li>`OK`: The score is within accepted thresholds.</li><li>`Warning`: The score has triggered the `warning_threshold` if exists, but not the `alert_threshold`.</li><li>`Alert`: The score has triggered the the `alert_threshold`.</li></ul> |\n",
    "\n",
    "For this example, the assay analysis list DataFrame is listed from an interactive run.  For space reasons, only the `score`, `start`, `alert_threshold` and `status` are shown."
   ]
  },
  {
   "cell_type": "code",
   "execution_count": 29,
   "metadata": {},
   "outputs": [
    {
     "data": {
      "text/html": [
       "<div>\n",
       "<style scoped>\n",
       "    .dataframe tbody tr th:only-of-type {\n",
       "        vertical-align: middle;\n",
       "    }\n",
       "\n",
       "    .dataframe tbody tr th {\n",
       "        vertical-align: top;\n",
       "    }\n",
       "\n",
       "    .dataframe thead th {\n",
       "        text-align: right;\n",
       "    }\n",
       "</style>\n",
       "<table border=\"1\" class=\"dataframe\">\n",
       "  <thead>\n",
       "    <tr style=\"text-align: right;\">\n",
       "      <th></th>\n",
       "      <th>score</th>\n",
       "      <th>start</th>\n",
       "      <th>alert_threshold</th>\n",
       "      <th>status</th>\n",
       "    </tr>\n",
       "  </thead>\n",
       "  <tbody>\n",
       "    <tr>\n",
       "      <th>0</th>\n",
       "      <td>0.000000</td>\n",
       "      <td>2024-01-31T18:38:10.607556+00:00</td>\n",
       "      <td>0.25</td>\n",
       "      <td>Ok</td>\n",
       "    </tr>\n",
       "    <tr>\n",
       "      <th>1</th>\n",
       "      <td>8.868532</td>\n",
       "      <td>2024-01-31T18:48:10.607556+00:00</td>\n",
       "      <td>0.25</td>\n",
       "      <td>Alert</td>\n",
       "    </tr>\n",
       "  </tbody>\n",
       "</table>\n",
       "</div>"
      ],
      "text/plain": [
       "      score                             start  alert_threshold status\n",
       "0  0.000000  2024-01-31T18:38:10.607556+00:00             0.25     Ok\n",
       "1  8.868532  2024-01-31T18:48:10.607556+00:00             0.25  Alert"
      ]
     },
     "execution_count": 29,
     "metadata": {},
     "output_type": "execute_result"
    }
   ],
   "source": [
    "# get the dataframe from the interactive run\n",
    "assay_analysis_from_dates.to_dataframe().loc[:, ['score', 'start', 'alert_threshold', 'status']]"
   ]
  },
  {
   "cell_type": "markdown",
   "metadata": {},
   "source": [
    "#### Get Assay Analysis List Chart Scores\n",
    "\n",
    "Assay chart scores show the assay scores for each assay result interval.  Values that are outside of the alert threshold are colored red, while scores within the alert threshold are green.\n",
    "\n",
    "Assay chart scores are displayed with the method [`wallaroo.assay.AssayAnalysisList.chart_scores(title: Optional[str] = None)`](https://docs.wallaroo.ai/wallaroo-developer-guides/wallaroo-sdk-guides/wallaroo-sdk-reference-guide/assay/#AssayAnalysisList.chart_scores), with ability to display an optional title with the chart.\n",
    "\n",
    "The following example shows retrieving the assay results and displaying the chart scores."
   ]
  },
  {
   "cell_type": "code",
   "execution_count": 31,
   "metadata": {},
   "outputs": [
    {
     "data": {
      "image/png": "[encoded data removed]",
      "text/plain": [
       "<Figure size 640x480 with 1 Axes>"
      ]
     },
     "metadata": {},
     "output_type": "display_data"
    }
   ],
   "source": [
    "assay_analysis_from_dates.chart_scores()"
   ]
  },
  {
   "cell_type": "markdown",
   "metadata": {},
   "source": [
    "#### Get Assay Analysis List Full DataFrame\n",
    "\n",
    "[`wallaroo.assay.AssayAnalysisList.to_full_dataframe`](https://docs.wallaroo.ai/wallaroo-developer-guides/wallaroo-sdk-guides/wallaroo-sdk-reference-guide/assay/#AssayAnalysisList.to_full_dataframe) returns a DataFrame with all values including inputs and outputs from the assay results.\n",
    "\n",
    "The following example demonstrates displaying a summary of assay values as a DataFrame, and displaying a subset of those values."
   ]
  },
  {
   "cell_type": "code",
   "execution_count": 36,
   "metadata": {},
   "outputs": [
    {
     "data": {
      "text/html": [
       "<div>\n",
       "<style scoped>\n",
       "    .dataframe tbody tr th:only-of-type {\n",
       "        vertical-align: middle;\n",
       "    }\n",
       "\n",
       "    .dataframe tbody tr th {\n",
       "        vertical-align: top;\n",
       "    }\n",
       "\n",
       "    .dataframe thead th {\n",
       "        text-align: right;\n",
       "    }\n",
       "</style>\n",
       "<table border=\"1\" class=\"dataframe\">\n",
       "  <thead>\n",
       "    <tr style=\"text-align: right;\">\n",
       "      <th></th>\n",
       "      <th>window_start</th>\n",
       "      <th>baseline_summary_count</th>\n",
       "      <th>status</th>\n",
       "    </tr>\n",
       "  </thead>\n",
       "  <tbody>\n",
       "    <tr>\n",
       "      <th>0</th>\n",
       "      <td>2024-01-31T18:38:10.607556+00:00</td>\n",
       "      <td>501</td>\n",
       "      <td>Ok</td>\n",
       "    </tr>\n",
       "    <tr>\n",
       "      <th>1</th>\n",
       "      <td>2024-01-31T18:48:10.607556+00:00</td>\n",
       "      <td>501</td>\n",
       "      <td>Alert</td>\n",
       "    </tr>\n",
       "  </tbody>\n",
       "</table>\n",
       "</div>"
      ],
      "text/plain": [
       "                       window_start  baseline_summary_count status\n",
       "0  2024-01-31T18:38:10.607556+00:00                     501     Ok\n",
       "1  2024-01-31T18:48:10.607556+00:00                     501  Alert"
      ]
     },
     "execution_count": 36,
     "metadata": {},
     "output_type": "execute_result"
    }
   ],
   "source": [
    "assay_df = assay_analysis_from_dates.to_full_dataframe()\n",
    "\n",
    "assay_df.loc[:, ['window_start', 'baseline_summary_count', 'status']]"
   ]
  },
  {
   "cell_type": "markdown",
   "metadata": {},
   "source": [
    "### Assay Analysis Data\n",
    "\n",
    "Data generated from either an interactive run or a scheduled assay run [`wallaroo.assay.AssayAnalysis`](https://docs.wallaroo.ai/wallaroo-developer-guides/wallaroo-sdk-guides/wallaroo-sdk-reference-guide/assay/#AssayAnalysis) is displayed with the following methods.\n",
    "\n",
    "From our interactive assay run, we will use the second element which contains our test inferences from earlier to show the `AssayAnalysis` for that assay window."
   ]
  },
  {
   "cell_type": "code",
   "execution_count": 38,
   "metadata": {},
   "outputs": [],
   "source": [
    "assay_analysis = assay_analysis_from_dates[1]"
   ]
  },
  {
   "cell_type": "markdown",
   "metadata": {},
   "source": [
    "#### Get Assay Analysis Chart\n",
    "\n",
    "The method `wallaroo.assay.AssayAnalysis.chart()` displays a baseline and the assay analysis window statistics chart with the following fields.\n",
    "\n",
    "| Field | Type | Description |\n",
    "|---|---|---|\n",
    "| **baseline mean** | **Float** | The mean of the baseline values. |\n",
    "| **window mean** | **Float** | The mean of the window values. |\n",
    "| **baseline median** | **Float** | The median of the baseline values. |\n",
    "| **window median** | **Float** | The median of the window values. |\n",
    "| **bin_mode** | **String** | The binning mode used for the assay. |\n",
    "| **aggregation** | **String** | The aggregation mode used for the assay. |\n",
    "| **metric** | **String** | The metric mode used for the assay. |\n",
    "| **weighted** | **Bool** | Whether the bins were manually weighted. |\n",
    "| **score** | **Float** | The score from the assay window. |\n",
    "| **scores** | **List(Float)** | The score from each assay window bin. |\n",
    "| **index** | **Integer/None** | The window index.  Interactive assay runs are `None`. |"
   ]
  },
  {
   "cell_type": "code",
   "execution_count": 39,
   "metadata": {},
   "outputs": [
    {
     "name": "stdout",
     "output_type": "stream",
     "text": [
      "baseline mean = 529427.3240706088\n",
      "window mean = 1865735.835875\n",
      "baseline median = 448627.8125\n",
      "window median = 1946437.75\n",
      "bin_mode = Quantile\n",
      "aggregation = Density\n",
      "metric = PSI\n",
      "weighted = False\n",
      "score = 8.868532111536265\n",
      "scores = [0.0, 0.7174700740703411, 0.7361208231835864, 0.7174700740703411, 0.7081752864263594, 0.7174700740703411, 5.2718257797152965]\n",
      "index = None\n"
     ]
    },
    {
     "data": {
      "image/png": "[encoded data removed]",
      "text/plain": [
       "<Figure size 640x480 with 1 Axes>"
      ]
     },
     "metadata": {},
     "output_type": "display_data"
    }
   ],
   "source": [
    "assay_analysis.chart()"
   ]
  },
  {
   "cell_type": "markdown",
   "metadata": {},
   "source": [
    "#### Get Assay Analysis Baseline Stats\n",
    "\n",
    "The method `wallaroo.assay.AssayAnalysis.baseline_stats()` returns a `pandas.core.frame.DataFrame` of the baseline stats.\n",
    "\n",
    "The following example shows the baseline from the created assay."
   ]
  },
  {
   "cell_type": "code",
   "execution_count": 40,
   "metadata": {},
   "outputs": [
    {
     "data": {
      "text/html": [
       "<div>\n",
       "<style scoped>\n",
       "    .dataframe tbody tr th:only-of-type {\n",
       "        vertical-align: middle;\n",
       "    }\n",
       "\n",
       "    .dataframe tbody tr th {\n",
       "        vertical-align: top;\n",
       "    }\n",
       "\n",
       "    .dataframe thead th {\n",
       "        text-align: right;\n",
       "    }\n",
       "</style>\n",
       "<table border=\"1\" class=\"dataframe\">\n",
       "  <thead>\n",
       "    <tr style=\"text-align: right;\">\n",
       "      <th></th>\n",
       "      <th>Baseline</th>\n",
       "    </tr>\n",
       "  </thead>\n",
       "  <tbody>\n",
       "    <tr>\n",
       "      <th>count</th>\n",
       "      <td>501</td>\n",
       "    </tr>\n",
       "    <tr>\n",
       "      <th>min</th>\n",
       "      <td>236238.671875</td>\n",
       "    </tr>\n",
       "    <tr>\n",
       "      <th>max</th>\n",
       "      <td>1514079.375</td>\n",
       "    </tr>\n",
       "    <tr>\n",
       "      <th>mean</th>\n",
       "      <td>529427.324071</td>\n",
       "    </tr>\n",
       "    <tr>\n",
       "      <th>median</th>\n",
       "      <td>448627.8125</td>\n",
       "    </tr>\n",
       "    <tr>\n",
       "      <th>std</th>\n",
       "      <td>249672.942723</td>\n",
       "    </tr>\n",
       "    <tr>\n",
       "      <th>start</th>\n",
       "      <td>None</td>\n",
       "    </tr>\n",
       "    <tr>\n",
       "      <th>end</th>\n",
       "      <td>None</td>\n",
       "    </tr>\n",
       "  </tbody>\n",
       "</table>\n",
       "</div>"
      ],
      "text/plain": [
       "             Baseline\n",
       "count             501\n",
       "min     236238.671875\n",
       "max       1514079.375\n",
       "mean    529427.324071\n",
       "median    448627.8125\n",
       "std     249672.942723\n",
       "start            None\n",
       "end              None"
      ]
     },
     "execution_count": 40,
     "metadata": {},
     "output_type": "execute_result"
    }
   ],
   "source": [
    "# get the baseline stats\n",
    "assay_analysis.baseline_stats()"
   ]
  },
  {
   "cell_type": "markdown",
   "metadata": {},
   "source": [
    "#### Get Assay Analysis Baseline Bins\n",
    "\n",
    "The method `wallaroo.assay.AssayAnalysis.baseline_stats()` returns a `pandas.core.frame.DataFrame` of the baseline binning schemes.\n",
    "\n",
    "The following example shows the baseline bins and binning schemes from the created assay."
   ]
  },
  {
   "cell_type": "code",
   "execution_count": 42,
   "metadata": {},
   "outputs": [
    {
     "data": {
      "text/html": [
       "<div>\n",
       "<style scoped>\n",
       "    .dataframe tbody tr th:only-of-type {\n",
       "        vertical-align: middle;\n",
       "    }\n",
       "\n",
       "    .dataframe tbody tr th {\n",
       "        vertical-align: top;\n",
       "    }\n",
       "\n",
       "    .dataframe thead th {\n",
       "        text-align: right;\n",
       "    }\n",
       "</style>\n",
       "<table border=\"1\" class=\"dataframe\">\n",
       "  <thead>\n",
       "    <tr style=\"text-align: right;\">\n",
       "      <th></th>\n",
       "      <th>b_edges</th>\n",
       "      <th>b_edge_names</th>\n",
       "      <th>b_aggregated_values</th>\n",
       "      <th>b_aggregation</th>\n",
       "    </tr>\n",
       "  </thead>\n",
       "  <tbody>\n",
       "    <tr>\n",
       "      <th>0</th>\n",
       "      <td>2.362387e+05</td>\n",
       "      <td>left_outlier</td>\n",
       "      <td>0.000000</td>\n",
       "      <td>Density</td>\n",
       "    </tr>\n",
       "    <tr>\n",
       "      <th>1</th>\n",
       "      <td>3.109929e+05</td>\n",
       "      <td>q_20</td>\n",
       "      <td>0.199601</td>\n",
       "      <td>Density</td>\n",
       "    </tr>\n",
       "    <tr>\n",
       "      <th>2</th>\n",
       "      <td>4.249666e+05</td>\n",
       "      <td>q_40</td>\n",
       "      <td>0.203593</td>\n",
       "      <td>Density</td>\n",
       "    </tr>\n",
       "    <tr>\n",
       "      <th>3</th>\n",
       "      <td>5.302889e+05</td>\n",
       "      <td>q_60</td>\n",
       "      <td>0.199601</td>\n",
       "      <td>Density</td>\n",
       "    </tr>\n",
       "    <tr>\n",
       "      <th>4</th>\n",
       "      <td>7.155301e+05</td>\n",
       "      <td>q_80</td>\n",
       "      <td>0.197605</td>\n",
       "      <td>Density</td>\n",
       "    </tr>\n",
       "    <tr>\n",
       "      <th>5</th>\n",
       "      <td>1.514079e+06</td>\n",
       "      <td>q_100</td>\n",
       "      <td>0.199601</td>\n",
       "      <td>Density</td>\n",
       "    </tr>\n",
       "    <tr>\n",
       "      <th>6</th>\n",
       "      <td>inf</td>\n",
       "      <td>right_outlier</td>\n",
       "      <td>0.000000</td>\n",
       "      <td>Density</td>\n",
       "    </tr>\n",
       "  </tbody>\n",
       "</table>\n",
       "</div>"
      ],
      "text/plain": [
       "        b_edges   b_edge_names  b_aggregated_values b_aggregation\n",
       "0  2.362387e+05   left_outlier             0.000000       Density\n",
       "1  3.109929e+05           q_20             0.199601       Density\n",
       "2  4.249666e+05           q_40             0.203593       Density\n",
       "3  5.302889e+05           q_60             0.199601       Density\n",
       "4  7.155301e+05           q_80             0.197605       Density\n",
       "5  1.514079e+06          q_100             0.199601       Density\n",
       "6           inf  right_outlier             0.000000       Density"
      ]
     },
     "execution_count": 42,
     "metadata": {},
     "output_type": "execute_result"
    }
   ],
   "source": [
    "# get the baseline bins\n",
    "assay_analysis.baseline_bins()"
   ]
  },
  {
   "cell_type": "markdown",
   "metadata": {},
   "source": [
    "#### Get Assay Analysis Compare Bins\n",
    "\n",
    "The method `wallaroo.assay.AssayAnalysis.compare_bins()` returns a simple DataFrame to compare the bin/edge information of baseline and window."
   ]
  },
  {
   "cell_type": "code",
   "execution_count": 44,
   "metadata": {},
   "outputs": [
    {
     "data": {
      "text/html": [
       "<div>\n",
       "<style scoped>\n",
       "    .dataframe tbody tr th:only-of-type {\n",
       "        vertical-align: middle;\n",
       "    }\n",
       "\n",
       "    .dataframe tbody tr th {\n",
       "        vertical-align: top;\n",
       "    }\n",
       "\n",
       "    .dataframe thead th {\n",
       "        text-align: right;\n",
       "    }\n",
       "</style>\n",
       "<table border=\"1\" class=\"dataframe\">\n",
       "  <thead>\n",
       "    <tr style=\"text-align: right;\">\n",
       "      <th></th>\n",
       "      <th>b_edges</th>\n",
       "      <th>b_edge_names</th>\n",
       "      <th>b_aggregated_values</th>\n",
       "      <th>b_aggregation</th>\n",
       "      <th>w_edges</th>\n",
       "      <th>w_edge_names</th>\n",
       "      <th>w_aggregated_values</th>\n",
       "      <th>diff_in_pcts</th>\n",
       "    </tr>\n",
       "  </thead>\n",
       "  <tbody>\n",
       "    <tr>\n",
       "      <th>0</th>\n",
       "      <td>2.362387e+05</td>\n",
       "      <td>left_outlier</td>\n",
       "      <td>0.000000</td>\n",
       "      <td>Density</td>\n",
       "      <td>2.362387e+05</td>\n",
       "      <td>left_outlier</td>\n",
       "      <td>0.0</td>\n",
       "      <td>0.000000</td>\n",
       "    </tr>\n",
       "    <tr>\n",
       "      <th>1</th>\n",
       "      <td>3.109929e+05</td>\n",
       "      <td>q_20</td>\n",
       "      <td>0.199601</td>\n",
       "      <td>Density</td>\n",
       "      <td>3.109929e+05</td>\n",
       "      <td>e_3.11e5</td>\n",
       "      <td>0.0</td>\n",
       "      <td>-0.199601</td>\n",
       "    </tr>\n",
       "    <tr>\n",
       "      <th>2</th>\n",
       "      <td>4.249666e+05</td>\n",
       "      <td>q_40</td>\n",
       "      <td>0.203593</td>\n",
       "      <td>Density</td>\n",
       "      <td>4.249666e+05</td>\n",
       "      <td>e_4.25e5</td>\n",
       "      <td>0.0</td>\n",
       "      <td>-0.203593</td>\n",
       "    </tr>\n",
       "    <tr>\n",
       "      <th>3</th>\n",
       "      <td>5.302889e+05</td>\n",
       "      <td>q_60</td>\n",
       "      <td>0.199601</td>\n",
       "      <td>Density</td>\n",
       "      <td>5.302889e+05</td>\n",
       "      <td>e_5.30e5</td>\n",
       "      <td>0.0</td>\n",
       "      <td>-0.199601</td>\n",
       "    </tr>\n",
       "    <tr>\n",
       "      <th>4</th>\n",
       "      <td>7.155301e+05</td>\n",
       "      <td>q_80</td>\n",
       "      <td>0.197605</td>\n",
       "      <td>Density</td>\n",
       "      <td>7.155301e+05</td>\n",
       "      <td>e_7.16e5</td>\n",
       "      <td>0.0</td>\n",
       "      <td>-0.197605</td>\n",
       "    </tr>\n",
       "    <tr>\n",
       "      <th>5</th>\n",
       "      <td>1.514079e+06</td>\n",
       "      <td>q_100</td>\n",
       "      <td>0.199601</td>\n",
       "      <td>Density</td>\n",
       "      <td>1.514079e+06</td>\n",
       "      <td>e_1.51e6</td>\n",
       "      <td>0.0</td>\n",
       "      <td>-0.199601</td>\n",
       "    </tr>\n",
       "    <tr>\n",
       "      <th>6</th>\n",
       "      <td>NaN</td>\n",
       "      <td>right_outlier</td>\n",
       "      <td>0.000000</td>\n",
       "      <td>Density</td>\n",
       "      <td>NaN</td>\n",
       "      <td>right_outlier</td>\n",
       "      <td>1.0</td>\n",
       "      <td>1.000000</td>\n",
       "    </tr>\n",
       "  </tbody>\n",
       "</table>\n",
       "</div>"
      ],
      "text/plain": [
       "        b_edges   b_edge_names  b_aggregated_values b_aggregation  \\\n",
       "0  2.362387e+05   left_outlier             0.000000       Density   \n",
       "1  3.109929e+05           q_20             0.199601       Density   \n",
       "2  4.249666e+05           q_40             0.203593       Density   \n",
       "3  5.302889e+05           q_60             0.199601       Density   \n",
       "4  7.155301e+05           q_80             0.197605       Density   \n",
       "5  1.514079e+06          q_100             0.199601       Density   \n",
       "6           NaN  right_outlier             0.000000       Density   \n",
       "\n",
       "        w_edges   w_edge_names  w_aggregated_values  diff_in_pcts  \n",
       "0  2.362387e+05   left_outlier                  0.0      0.000000  \n",
       "1  3.109929e+05       e_3.11e5                  0.0     -0.199601  \n",
       "2  4.249666e+05       e_4.25e5                  0.0     -0.203593  \n",
       "3  5.302889e+05       e_5.30e5                  0.0     -0.199601  \n",
       "4  7.155301e+05       e_7.16e5                  0.0     -0.197605  \n",
       "5  1.514079e+06       e_1.51e6                  0.0     -0.199601  \n",
       "6           NaN  right_outlier                  1.0      1.000000  "
      ]
     },
     "metadata": {},
     "output_type": "display_data"
    }
   ],
   "source": [
    "# get the baseline bins\n",
    "assay_bins = assay_analysis.compare_bins()\n",
    "display(assay_bins.loc[:, assay_bins.columns!='w_aggregation'])"
   ]
  },
  {
   "cell_type": "markdown",
   "metadata": {},
   "source": [
    "#### Get Assay Analysis Compare Basic Stats\n",
    "\n",
    "The method `wallaroo.assay.AssayAnalysis.compare_basic_stats` returns a DataFrame with basic stats for the baseline and window data."
   ]
  },
  {
   "cell_type": "code",
   "execution_count": 45,
   "metadata": {},
   "outputs": [
    {
     "data": {
      "text/html": [
       "<div>\n",
       "<style scoped>\n",
       "    .dataframe tbody tr th:only-of-type {\n",
       "        vertical-align: middle;\n",
       "    }\n",
       "\n",
       "    .dataframe tbody tr th {\n",
       "        vertical-align: top;\n",
       "    }\n",
       "\n",
       "    .dataframe thead th {\n",
       "        text-align: right;\n",
       "    }\n",
       "</style>\n",
       "<table border=\"1\" class=\"dataframe\">\n",
       "  <thead>\n",
       "    <tr style=\"text-align: right;\">\n",
       "      <th></th>\n",
       "      <th>Baseline</th>\n",
       "      <th>Window</th>\n",
       "      <th>diff</th>\n",
       "      <th>pct_diff</th>\n",
       "    </tr>\n",
       "  </thead>\n",
       "  <tbody>\n",
       "    <tr>\n",
       "      <th>count</th>\n",
       "      <td>501.0</td>\n",
       "      <td>1000.0</td>\n",
       "      <td>4.990000e+02</td>\n",
       "      <td>99.600798</td>\n",
       "    </tr>\n",
       "    <tr>\n",
       "      <th>min</th>\n",
       "      <td>236238.671875</td>\n",
       "      <td>1514079.375</td>\n",
       "      <td>1.277841e+06</td>\n",
       "      <td>540.910890</td>\n",
       "    </tr>\n",
       "    <tr>\n",
       "      <th>max</th>\n",
       "      <td>1514079.375</td>\n",
       "      <td>2016006.125</td>\n",
       "      <td>5.019268e+05</td>\n",
       "      <td>33.150623</td>\n",
       "    </tr>\n",
       "    <tr>\n",
       "      <th>mean</th>\n",
       "      <td>529427.324071</td>\n",
       "      <td>1865735.835875</td>\n",
       "      <td>1.336309e+06</td>\n",
       "      <td>252.406412</td>\n",
       "    </tr>\n",
       "    <tr>\n",
       "      <th>median</th>\n",
       "      <td>448627.8125</td>\n",
       "      <td>1946437.75</td>\n",
       "      <td>1.497810e+06</td>\n",
       "      <td>333.864708</td>\n",
       "    </tr>\n",
       "    <tr>\n",
       "      <th>std</th>\n",
       "      <td>249672.942723</td>\n",
       "      <td>171092.617396</td>\n",
       "      <td>-7.858033e+04</td>\n",
       "      <td>-31.473304</td>\n",
       "    </tr>\n",
       "    <tr>\n",
       "      <th>start</th>\n",
       "      <td>None</td>\n",
       "      <td>2024-01-31T18:48:10.607556+00:00</td>\n",
       "      <td>NaN</td>\n",
       "      <td>NaN</td>\n",
       "    </tr>\n",
       "    <tr>\n",
       "      <th>end</th>\n",
       "      <td>None</td>\n",
       "      <td>2024-01-31T18:49:10.607556+00:00</td>\n",
       "      <td>NaN</td>\n",
       "      <td>NaN</td>\n",
       "    </tr>\n",
       "  </tbody>\n",
       "</table>\n",
       "</div>"
      ],
      "text/plain": [
       "             Baseline                            Window          diff  \\\n",
       "count           501.0                            1000.0  4.990000e+02   \n",
       "min     236238.671875                       1514079.375  1.277841e+06   \n",
       "max       1514079.375                       2016006.125  5.019268e+05   \n",
       "mean    529427.324071                    1865735.835875  1.336309e+06   \n",
       "median    448627.8125                        1946437.75  1.497810e+06   \n",
       "std     249672.942723                     171092.617396 -7.858033e+04   \n",
       "start            None  2024-01-31T18:48:10.607556+00:00           NaN   \n",
       "end              None  2024-01-31T18:49:10.607556+00:00           NaN   \n",
       "\n",
       "          pct_diff  \n",
       "count    99.600798  \n",
       "min     540.910890  \n",
       "max      33.150623  \n",
       "mean    252.406412  \n",
       "median  333.864708  \n",
       "std     -31.473304  \n",
       "start          NaN  \n",
       "end            NaN  "
      ]
     },
     "execution_count": 45,
     "metadata": {},
     "output_type": "execute_result"
    }
   ],
   "source": [
    "assay_analysis.compare_basic_stats()"
   ]
  },
  {
   "cell_type": "markdown",
   "metadata": {},
   "source": [
    "### Upload Assay\n",
    "\n",
    "With the assay created and fully tested, we will upload it to the Wallaroo instance.  This will make it available for future demonstrations and visible through the Wallaroo UI."
   ]
  },
  {
   "cell_type": "code",
   "execution_count": 46,
   "metadata": {},
   "outputs": [
    {
     "data": {
      "text/plain": [
       "1"
      ]
     },
     "execution_count": 46,
     "metadata": {},
     "output_type": "execute_result"
    }
   ],
   "source": [
    "assay_builder_from_numpy.upload()"
   ]
  },
  {
   "cell_type": "markdown",
   "metadata": {},
   "source": [
    "The assay is now visible through the Wallaroo UI by selecting the workspace, then the pipeline, then **Insights**.\n",
    "\n",
    "![Sample assay in the UI](images/housepricesaga-sample-assay.png)"
   ]
  },
  {
   "cell_type": "markdown",
   "metadata": {},
   "source": [
    "### Undeploy Main Pipeline\n",
    "\n",
    "With the examples and tutorial complete, we will undeploy the main pipeline and return the resources back to the Wallaroo instance."
   ]
  },
  {
   "cell_type": "code",
   "execution_count": 47,
   "metadata": {},
   "outputs": [
    {
     "data": {
      "text/html": [
       "<table><tr><th>name</th> <td>assay-demonstration-tutorial</td></tr><tr><th>created</th> <td>2024-01-31 18:37:52.760861+00:00</td></tr><tr><th>last_updated</th> <td>2024-01-31 18:37:53.486139+00:00</td></tr><tr><th>deployed</th> <td>False</td></tr><tr><th>arch</th> <td>None</td></tr><tr><th>tags</th> <td></td></tr><tr><th>versions</th> <td>53ad0c4c-456f-4171-97e7-22fa4a3e950c, bb6c24d3-a6b7-42b4-a01f-f7b21cec6770</td></tr><tr><th>steps</th> <td>housepricesagacontrol</td></tr><tr><th>published</th> <td>False</td></tr></table>"
      ],
      "text/plain": [
       "{'name': 'assay-demonstration-tutorial', 'create_time': datetime.datetime(2024, 1, 31, 18, 37, 52, 760861, tzinfo=tzutc()), 'definition': \"[{'ModelInference': {'models': [{'name': 'housepricesagacontrol', 'version': '4926346c-aa35-4829-b2c8-20db02da5b6a', 'sha': 'e22a0831aafd9917f3cc87a15ed267797f80e2afa12ad7d8810ca58f173b8cc6'}]}}]\"}"
      ]
     },
     "execution_count": 47,
     "metadata": {},
     "output_type": "execute_result"
    }
   ],
   "source": [
    "mainpipeline.undeploy()"
   ]
  }
 ],
 "metadata": {
  "kernelspec": {
   "display_name": "Python 3 (ipykernel)",
   "language": "python",
   "name": "python3"
  },
  "language_info": {
   "codemirror_mode": {
    "name": "ipython",
    "version": 3
   },
   "file_extension": ".py",
   "mimetype": "text/x-python",
   "name": "python",
   "nbconvert_exporter": "python",
   "pygments_lexer": "ipython3",
   "version": "3.8.18"
  },
  "vscode": {
   "interpreter": {
    "hash": "7dda4bf3640b7fafcd1648658b879b4cc9f6ba6084e8fb356fdaaa1a461d1690"
   }
  }
 },
 "nbformat": 4,
 "nbformat_minor": 4
}
