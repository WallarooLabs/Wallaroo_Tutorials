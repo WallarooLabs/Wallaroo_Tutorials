{
 "cells": [
  {
   "cell_type": "code",
   "execution_count": null,
   "id": "2d0e288c-c533-4598-957e-c2f438e690c5",
   "metadata": {},
   "outputs": [],
   "source": [
    "import datetime as dt\n",
    "from datetime import datetime, timedelta, timezone, tzinfo\n",
    "import joblib\n",
    "import pytz\n",
    "import json\n",
    "import wallaroo\n",
    "import wallaroo.assay_config\n",
    "from wallaroo.object import EntityNotFoundError\n",
    "\n",
    "import wallaroo.assay\n",
    "from wallaroo.assay_config import BinMode, Aggregation, Metric\n",
    "\n",
    "import numpy as np\n",
    "import pandas as pd\n",
    "import matplotlib.pyplot as plt\n",
    "import matplotlib.patches as mpatches\n",
    "\n",
    "import seaborn as sns\n",
    "import requests\n",
    "import uuid\n",
    "\n",
    "plt.rcParams[\"figure.figsize\"] = (12,6)\n",
    "pd.options.display.float_format = '{:,.2f}'.format"
   ]
  },
  {
   "cell_type": "code",
   "execution_count": null,
   "id": "368b5cf6-8ad1-4316-b188-fec10a6d3603",
   "metadata": {},
   "outputs": [],
   "source": [
    "def status_color(status):\n",
    "    if status == \"Ok\":\n",
    "        return \"green\"\n",
    "    elif status == \"Warning\":\n",
    "        return \"orange\"\n",
    "    else:\n",
    "        return \"red\"\n",
    "    \n",
    "def create_legend():\n",
    "    ok_patch = mpatches.Patch(color='green', label='Status Ok')\n",
    "    warning_patch = mpatches.Patch(color='orange', label='Warning')\n",
    "    alert_patch = mpatches.Patch(color='red', label='Alert')\n",
    "    plt.legend(handles=[ok_patch, warning_patch, alert_patch])\n",
    "    \n",
    "def pick_colors(s):\n",
    "    return [status_color(status) for status in s]\n",
    "\n",
    "def extract_arrow_prediction(t):\n",
    "    return t['out']['dense_2'][0]\n",
    "\n",
    "def extract_arrow_prediction_nested(t):\n",
    "    return t['out.dense_2'][0][0]"
   ]
  },
  {
   "cell_type": "code",
   "execution_count": null,
   "id": "bd8f4802-ec0e-4e9a-8c05-0e2fbc76a6b5",
   "metadata": {},
   "outputs": [],
   "source": [
    "import os\n",
    "os.environ['DEPLOYMENT_CONFIG'] = json.dumps({\"cpus\": 0.1, \"replica_count\": 1, \"memory\": \"100Mi\"})\n",
    "if os.environ.get(\"WALLAROO_SDK_CREDENTIALS\"):\n",
    "    auth_type=\"user_password\"\n",
    "else:\n",
    "    auth_type=\"none\"\n",
    "auth_type = \"sso\"\n",
    "client = wallaroo.Client(auth_type=auth_type, request_timeout=90, interactive=True)"
   ]
  },
  {
   "cell_type": "code",
   "execution_count": null,
   "id": "0e1c4237-ec38-4f53-a140-10d96e0c6968",
   "metadata": {},
   "outputs": [],
   "source": [
    "# Deploy a model/pipeline\n",
    "\n",
    "rand_id = f\"{np.random.randint(10000):05d}\"\n",
    "pipeline_name = 'modelinsightse2e' + rand_id\n",
    "model_name = 'baseline' + rand_id\n",
    "\n",
    "onnx_file_model_name = \"house_price_keras.onnx\"\n",
    "\n",
    "fraud = (client.upload_model(model_name, \n",
    "                             onnx_file_model_name, \n",
    "                             framework=wallaroo.framework.Framework.ONNX)\n",
    "                             .configure(tensor_fields=[\"tensor\"])\n",
    "        )\n",
    "    \n",
    "pipeline = client.build_pipeline(pipeline_name)\n",
    "pipeline = pipeline.add_model_step(fraud)\n",
    "deployment = pipeline.deploy()"
   ]
  },
  {
   "cell_type": "code",
   "execution_count": null,
   "id": "48872468-0920-43d0-ad9b-908982f4380f",
   "metadata": {},
   "outputs": [],
   "source": [
    "topic = client.get_topic_name(pipeline.id())\n",
    "topic"
   ]
  },
  {
   "cell_type": "code",
   "execution_count": null,
   "id": "3f020ddf-3d8d-4539-88f5-738ea722ca1d",
   "metadata": {},
   "outputs": [],
   "source": [
    "#Load some test data for inference\n",
    "X_val = joblib.load(\"X_val.pkl\")\n",
    "assert isinstance(X_val, np.ndarray)"
   ]
  },
  {
   "cell_type": "markdown",
   "id": "a2b96e02-5702-404a-a5ad-a2435dd5ae19",
   "metadata": {},
   "source": [
    "### Do some test inferences"
   ]
  },
  {
   "cell_type": "code",
   "execution_count": null,
   "id": "f9bbe843-465c-4784-ba90-4f0690e72287",
   "metadata": {},
   "outputs": [],
   "source": [
    "num_test_inferences = 1000\n",
    "inference_start = dt.datetime.now()\n",
    "for i in range(num_test_inferences):\n",
    "    data = pd.DataFrame.from_dict({\"tensor\": [X_val[i].tolist()]})\n",
    "    res = deployment.infer(data)"
   ]
  },
  {
   "cell_type": "code",
   "execution_count": null,
   "id": "cb762553-9939-423f-85b1-34c4b39c1c0a",
   "metadata": {},
   "outputs": [],
   "source": [
    "inference_start"
   ]
  },
  {
   "cell_type": "markdown",
   "id": "34c0527a-1f1f-4c58-9b79-1c1e2544ae66",
   "metadata": {},
   "source": [
    "### check that we can query that data \n",
    "\n",
    "## Note: set correct dates"
   ]
  },
  {
   "cell_type": "code",
   "execution_count": null,
   "id": "f11b3dfe-d8d7-4e47-b246-6f3ea9b83ee5",
   "metadata": {},
   "outputs": [],
   "source": [
    "\n",
    "day1 = dt.datetime(2023, 10,10, 0, 0, 0, 0, pytz.UTC)\n",
    "day2 = dt.datetime(2023, 10,12, 0, 0, 0, 0, pytz.UTC)"
   ]
  },
  {
   "cell_type": "code",
   "execution_count": null,
   "id": "34066bf2-8ba8-4ded-9c49-dc63a10a30d5",
   "metadata": {},
   "outputs": [],
   "source": [
    "pipeline.logs(start_datetime=day1, end_datetime=day2, dataset=[\"time\", \"in\", \"out\", \"metadata\", \"check_failures\"])"
   ]
  },
  {
   "cell_type": "markdown",
   "id": "163817fb-88b7-4cee-b584-10c070021bfd",
   "metadata": {},
   "source": [
    "### Read baseline data from csv and extract the column that you want the assay to analyze."
   ]
  },
  {
   "cell_type": "code",
   "execution_count": null,
   "id": "32aebac1-3199-4d5a-9032-5fc1afc72a12",
   "metadata": {},
   "outputs": [],
   "source": [
    "baseline_data = pd.read_csv(\"baseline_data.csv\")\n",
    "baseline_np_array = baseline_data[\"output_dense_2_0\"].to_numpy()\n",
    "baseline_np_array"
   ]
  },
  {
   "cell_type": "code",
   "execution_count": null,
   "id": "86e3f6b4-d742-4d5f-a737-2228bbc333f4",
   "metadata": {},
   "outputs": [],
   "source": [
    "# iopath is required\n",
    "# either provide baseline_data or baseline start and end dates.\n",
    "assay_name = f\"Test Assay test2\"\n",
    "assay_builder = client.build_assay(assay_name, pipeline, model_name, iopath=\"output dense_2 0\", baseline_start=day1, baseline_end=day2)"
   ]
  },
  {
   "cell_type": "code",
   "execution_count": null,
   "id": "2b98150a-80fa-4065-a399-75c3ca616099",
   "metadata": {},
   "outputs": [],
   "source": [
    "assay_builder.baseline_dataframe()"
   ]
  },
  {
   "cell_type": "code",
   "execution_count": null,
   "id": "45e27c79-1fde-4e94-8399-319f23e4c320",
   "metadata": {},
   "outputs": [],
   "source": [
    "assay_builder.baseline_histogram()"
   ]
  },
  {
   "cell_type": "code",
   "execution_count": null,
   "id": "aa4465a7-91c5-47b1-84db-158a42f4e057",
   "metadata": {},
   "outputs": [],
   "source": [
    "assay_builder.baseline_kde()"
   ]
  },
  {
   "cell_type": "code",
   "execution_count": null,
   "id": "181d1527-b997-462a-ae47-be18949add4b",
   "metadata": {},
   "outputs": [],
   "source": [
    "assay_config = assay_builder.build()\n",
    "print(assay_config.to_json())"
   ]
  },
  {
   "cell_type": "code",
   "execution_count": null,
   "id": "c2a8c55e-0d38-4388-953c-2934d5b30878",
   "metadata": {},
   "outputs": [],
   "source": [
    "assay_id = assay_builder.upload()\n",
    "assay_id"
   ]
  },
  {
   "cell_type": "code",
   "execution_count": null,
   "id": "ee4715eb-ad58-4679-8895-5a0e8c995c92",
   "metadata": {},
   "outputs": [],
   "source": [
    "ardf = assay_config.interactive_run()\n",
    "ardf"
   ]
  },
  {
   "cell_type": "code",
   "execution_count": null,
   "id": "bd4867a5-3d8b-4fd7-be9e-e3792d9345a6",
   "metadata": {},
   "outputs": [],
   "source": [
    "ardf[0].__dict__"
   ]
  },
  {
   "cell_type": "markdown",
   "id": "d5220725-1676-4207-b3de-1d687b72e425",
   "metadata": {},
   "source": [
    "### Building assays with baseline_start and baseline_end dates"
   ]
  },
  {
   "cell_type": "code",
   "execution_count": null,
   "id": "e43b930a-2cad-40f1-bb20-54d4b4878a4a",
   "metadata": {},
   "outputs": [],
   "source": [
    "assay_name = f\"Test Assay 2222\"\n",
    "assay_builder = client.build_assay(assay_name, pipeline, model_name, \"output dense_2 0\", day1, day2)\n",
    "assay_builder.__dict__"
   ]
  },
  {
   "cell_type": "code",
   "execution_count": null,
   "id": "0d31b43f-2847-43de-9986-b43a4f357f2c",
   "metadata": {},
   "outputs": [],
   "source": [
    "assay_config = assay_builder.build()\n",
    "print(assay_config.to_json())"
   ]
  },
  {
   "cell_type": "code",
   "execution_count": null,
   "id": "f663fda6-9103-4455-b0cd-4de78080f9f0",
   "metadata": {},
   "outputs": [],
   "source": [
    "assay_id = assay_builder.upload()\n",
    "assay_id"
   ]
  },
  {
   "cell_type": "code",
   "execution_count": null,
   "id": "5fd1951e-7f39-4ef4-a036-5e8dfec871e1",
   "metadata": {},
   "outputs": [],
   "source": [
    "ardf = assay_config.interactive_run()\n",
    "ardf"
   ]
  },
  {
   "cell_type": "code",
   "execution_count": null,
   "id": "6adb6fe8-59b6-4d91-9e66-b0a0d23ddc6d",
   "metadata": {},
   "outputs": [],
   "source": [
    "ardf[0].__dict__"
   ]
  },
  {
   "cell_type": "code",
   "execution_count": null,
   "id": "ee5eff63-9394-4a85-a876-3fde998b6231",
   "metadata": {},
   "outputs": [],
   "source": []
  },
  {
   "cell_type": "code",
   "execution_count": null,
   "id": "c7f217b6-ce14-4c9d-874f-a8947195f114",
   "metadata": {},
   "outputs": [],
   "source": []
  },
  {
   "cell_type": "code",
   "execution_count": null,
   "id": "112c6b8d-9e3d-4225-a688-a541c080f5fc",
   "metadata": {},
   "outputs": [],
   "source": []
  },
  {
   "cell_type": "code",
   "execution_count": null,
   "id": "b874fd1c-ebdb-446e-b453-f98fa438c472",
   "metadata": {},
   "outputs": [],
   "source": [
    "pipeline.undeploy()"
   ]
  }
 ],
 "metadata": {
  "kernelspec": {
   "display_name": "Python 3 (ipykernel)",
   "language": "python",
   "name": "python3"
  },
  "language_info": {
   "codemirror_mode": {
    "name": "ipython",
    "version": 3
   },
   "file_extension": ".py",
   "mimetype": "text/x-python",
   "name": "python",
   "nbconvert_exporter": "python",
   "pygments_lexer": "ipython3",
   "version": "3.9.13"
  }
 },
 "nbformat": 4,
 "nbformat_minor": 5
}
