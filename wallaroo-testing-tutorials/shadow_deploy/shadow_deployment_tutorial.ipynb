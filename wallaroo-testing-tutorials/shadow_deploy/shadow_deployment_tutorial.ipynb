{
 "cells": [
  {
   "attachments": {},
   "cell_type": "markdown",
   "metadata": {},
   "source": [
    "This tutorial and the assets can be downloaded as part of the [Wallaroo Tutorials repository](https://github.com/WallarooLabs/Wallaroo_Tutorials/tree/main/wallaroo-testing-tutorials/shadow_deploy).\n",
    "\n",
    "## Shadow Deployment Tutorial\n",
    "\n",
    "Wallaroo provides a method of testing the same data against two different models or sets of models at the same time through **shadow deployments** otherwise known as **parallel deployments**.  This allows data to be submitted to a pipeline with inferences running on two different sets of models.  Typically this is performed on a model that is known to provide accurate results - the **champion** - and a model that is being tested to see if it provides more accurate or faster responses depending on the criteria known as the **challengers**.  Multiple challengers can be tested against a single champion.\n",
    "\n",
    "As described in the Wallaroo blog post [The What, Why, and How of Model A/B Testing](https://www.wallaroo.ai/blog/the-what-why-and-how-of-a/b-testing):\n",
    "\n",
    "> In data science, A/B tests can also be used to choose between two models in production, by measuring which model performs better in the real world. In this formulation, the control is often an existing model that is currently in production, sometimes called the champion. The treatment is a new model being considered to replace the old one. This new model is sometimes called the challenger....\n",
    "\n",
    "> Keep in mind that in machine learning, the terms experiments and trials also often refer to the process of finding a training configuration that works best for the problem at hand (this is sometimes called hyperparameter optimization).\n",
    "\n",
    "For Arrow enabled Wallaroo instances the inference result is returned as a pandas DataFrame.  The shadow results from the models is stored in the `out_{model name}.variable` column.  For example, the model above named `ccfraudrf` would have its results in the column `out_ccfraudrf.variable`.\n",
    "\n",
    "For non-Arrow enabled Wallaroo instances, the inference result is as a Wallaroo InferenceResult object.  The inference results from the `champion` model will be available in the returned InferenceResult Object's `data` element, while inference results from each of the `challenger` models will be in the returned InferenceResult Object's `shadow_data` element.\n",
    "\n",
    "The following tutorial will demonstrate how:\n",
    "\n",
    "* Upload champion and challenger models into a Wallaroo instance.\n",
    "* Create a shadow deployment in a Wallaroo pipeline.\n",
    "* Perform an inference through a pipeline with a shadow deployment.\n",
    "* View the `data` and `shadow_data` results from the InferenceResult Object.\n",
    "* View the pipeline logs and pipeline shadow logs.\n",
    "\n",
    "This tutorial provides the following:\n",
    "\n",
    "* `dev_smoke_test.json`:  Sample test data used for the inference testing.\n",
    "* `models/keras_ccfraud.onnx`:  The champion model.\n",
    "* `models/modelA.onnx`: A challenger model.\n",
    "* `models/xgboost_ccfraud.onnx`: A challenger model.\n",
    "\n",
    "All models are similar to the ones used for the Wallaroo-101 example included in the [Wallaroo Tutorials repository](https://github.com/WallarooLabs/Wallaroo_Tutorials)."
   ]
  },
  {
   "cell_type": "markdown",
   "metadata": {},
   "source": [
    "## Steps\n",
    "\n",
    "### Import libraries\n",
    "\n",
    "The first step is to import the libraries required.\n"
   ]
  },
  {
   "cell_type": "code",
   "execution_count": 40,
   "metadata": {},
   "outputs": [],
   "source": [
    "import wallaroo\n",
    "from wallaroo.object import EntityNotFoundError\n",
    "\n",
    "# used to display dataframe information without truncating\n",
    "from IPython.display import display\n",
    "import pandas as pd\n",
    "pd.set_option('display.max_colwidth', None)"
   ]
  },
  {
   "cell_type": "markdown",
   "metadata": {},
   "source": [
    "### Connect to Wallaroo\n",
    "\n",
    "Connect to your Wallaroo instance and save the connection as the variable `wl`."
   ]
  },
  {
   "cell_type": "code",
   "execution_count": null,
   "metadata": {},
   "outputs": [],
   "source": [
    "# Login through local Wallaroo instance\n",
    "\n",
    "wl = wallaroo.Client()\n",
    "\n",
    "# SSO login through keycloak\n",
    "\n",
    "# wallarooPrefix = \"YOUR PREFIX\"\n",
    "# wallarooSuffix = \"YOUR SUFFIX\"\n",
    "\n",
    "# wl = wallaroo.Client(api_endpoint=f\"https://{wallarooPrefix}.api.{wallarooSuffix}\", \n",
    "#                     auth_endpoint=f\"https://{wallarooPrefix}.keycloak.{wallarooSuffix}\", \n",
    "#                     auth_type=\"sso\")"
   ]
  },
  {
   "attachments": {},
   "cell_type": "markdown",
   "metadata": {},
   "source": [
    "### Arrow Support\n",
    "\n",
    "As of the 2023.1 release, Wallaroo provides support for dataframe and Arrow for inference inputs.  This tutorial allows users to adjust their experience based on whether they have enabled Arrow support in their Wallaroo instance or not.\n",
    "\n",
    "If Arrow support has been enabled, `arrowEnabled=True`. If disabled or you're not sure, set it to `arrowEnabled=False`\n",
    "\n",
    "The examples below will be shown in an arrow enabled environment."
   ]
  },
  {
   "cell_type": "code",
   "execution_count": 52,
   "metadata": {},
   "outputs": [
    {
     "name": "stdout",
     "output_type": "stream",
     "text": [
      "True\n"
     ]
    }
   ],
   "source": [
    "import os\n",
    "# Only set the below to make the OS environment ARROW_ENABLED to TRUE.  Otherwise, leave as is.\n",
    "# os.environ[\"ARROW_ENABLED\"]=\"True\"\n",
    "\n",
    "if \"ARROW_ENABLED\" not in os.environ or os.environ[\"ARROW_ENABLED\"].casefold() == \"False\".casefold():\n",
    "    arrowEnabled = False\n",
    "else:\n",
    "    arrowEnabled = True\n",
    "print(arrowEnabled)"
   ]
  },
  {
   "cell_type": "markdown",
   "metadata": {},
   "source": [
    "### Set Variables\n",
    "\n",
    "The following variables are used to create or use existing workspaces, pipelines, and upload the models.  Adjust them based on your Wallaroo instance and organization requirements."
   ]
  },
  {
   "cell_type": "code",
   "execution_count": 43,
   "metadata": {},
   "outputs": [],
   "source": [
    "workspace_name = 'ccfraudcomparisondemo'\n",
    "pipeline_name = 'cc-shadow'\n",
    "champion_model_name = 'ccfraudlstm'\n",
    "champion_model_file = 'models/keras_ccfraud.onnx'\n",
    "shadow_model_01_name = 'ccfraudxgb'\n",
    "shadow_model_01_file = 'models/xgboost_ccfraud.onnx'\n",
    "shadow_model_02_name = 'ccfraudrf'\n",
    "shadow_model_02_file = 'models/modelA.onnx'"
   ]
  },
  {
   "cell_type": "markdown",
   "metadata": {},
   "source": [
    "### Workspace and Pipeline\n",
    "\n",
    "The following creates or connects to an existing workspace based on the variable `workspace_name`, and creates or connects to a pipeline based on the variable `pipeline_name`."
   ]
  },
  {
   "cell_type": "code",
   "execution_count": 44,
   "metadata": {},
   "outputs": [],
   "source": [
    "def get_workspace(name):\n",
    "    workspace = None\n",
    "    for ws in wl.list_workspaces():\n",
    "        if ws.name() == name:\n",
    "            workspace= ws\n",
    "    if(workspace == None):\n",
    "        workspace = wl.create_workspace(name)\n",
    "    return workspace\n",
    "\n",
    "def get_pipeline(name):\n",
    "    try:\n",
    "        pipeline = wl.pipelines_by_name(pipeline_name)[0]\n",
    "    except EntityNotFoundError:\n",
    "        pipeline = wl.build_pipeline(pipeline_name)\n",
    "    return pipeline"
   ]
  },
  {
   "cell_type": "code",
   "execution_count": 45,
   "metadata": {},
   "outputs": [
    {
     "data": {
      "text/html": [
       "<table><tr><th>name</th> <td>cc-shadow</td></tr><tr><th>created</th> <td>2023-03-01 16:25:41.018456+00:00</td></tr><tr><th>last_updated</th> <td>2023-03-01 16:25:46.047893+00:00</td></tr><tr><th>deployed</th> <td>False</td></tr><tr><th>tags</th> <td></td></tr><tr><th>versions</th> <td>5c41223a-6c99-4ac6-b43e-ece3d560c31f, fde69c6a-4d25-41c8-bf07-19d798ba8ca7</td></tr><tr><th>steps</th> <td>ccfraudlstm</td></tr></table>"
      ],
      "text/plain": [
       "{'name': 'cc-shadow', 'create_time': datetime.datetime(2023, 3, 1, 16, 25, 41, 18456, tzinfo=tzutc()), 'definition': '[]'}"
      ]
     },
     "execution_count": 45,
     "metadata": {},
     "output_type": "execute_result"
    }
   ],
   "source": [
    "workspace = get_workspace(workspace_name)\n",
    "\n",
    "wl.set_current_workspace(workspace)\n",
    "\n",
    "pipeline = get_pipeline(pipeline_name)\n",
    "pipeline\n"
   ]
  },
  {
   "cell_type": "markdown",
   "metadata": {},
   "source": [
    "### Load the Models\n",
    "\n",
    "The models will be uploaded into the current workspace based on the variable names set earlier and listed as the `champion`, `model2` and `model3`."
   ]
  },
  {
   "cell_type": "code",
   "execution_count": 46,
   "metadata": {},
   "outputs": [],
   "source": [
    "champion = wl.upload_model(champion_model_name, champion_model_file).configure()\n",
    "model2 = wl.upload_model(shadow_model_01_name, shadow_model_01_file).configure()\n",
    "model3 = wl.upload_model(shadow_model_02_name, shadow_model_02_file).configure()"
   ]
  },
  {
   "cell_type": "markdown",
   "metadata": {},
   "source": [
    "### Create Shadow Deployment\n",
    "\n",
    "A shadow deployment is created using the `add_shadow_deploy(champion, challengers[])` method where:\n",
    "\n",
    "* `champion`: The model that will be primarily used for inferences run through the pipeline.  Inference results will be returned through the Inference Object's `data` element.\n",
    "* `challengers[]`: An array of models that will be used for inferences iteratively.  Inference results will be returned through the Inference Object's `shadow_data` element."
   ]
  },
  {
   "cell_type": "code",
   "execution_count": 47,
   "metadata": {},
   "outputs": [
    {
     "data": {
      "text/html": [
       "<table><tr><th>name</th> <td>cc-shadow</td></tr><tr><th>created</th> <td>2023-03-01 16:25:41.018456+00:00</td></tr><tr><th>last_updated</th> <td>2023-03-01 16:25:46.047893+00:00</td></tr><tr><th>deployed</th> <td>False</td></tr><tr><th>tags</th> <td></td></tr><tr><th>versions</th> <td>5c41223a-6c99-4ac6-b43e-ece3d560c31f, fde69c6a-4d25-41c8-bf07-19d798ba8ca7</td></tr><tr><th>steps</th> <td>ccfraudlstm</td></tr></table>"
      ],
      "text/plain": [
       "{'name': 'cc-shadow', 'create_time': datetime.datetime(2023, 3, 1, 16, 25, 41, 18456, tzinfo=tzutc()), 'definition': \"[{'ModelInference': {'models': [{'name': 'ccfraudlstm', 'version': 'f514b9d4-7405-4d9c-a082-99f5c2d4fd82', 'sha': 'bc85ce596945f876256f41515c7501c399fd97ebcb9ab3dd41bf03f8937b4507'}, {'name': 'ccfraudxgb', 'version': '19bba2e3-1c3b-4228-8766-b1f97a099722', 'sha': '054810e3e3ebbdd34438d9c1a08ed6a6680ef10bf97b9223f78ebf38e14b3b52'}, {'name': 'ccfraudrf', 'version': '057afcc1-e2e4-4ce1-ba36-55aff6956cc5', 'sha': '438cd2762590b712106235dc4d635ca50b21304f42ee9529c7acd0b0aecac624'}]}}, {'AuditResults': {'from': 1, 'to': None}}, {'MultiOut': {}}]\"}"
      ]
     },
     "execution_count": 47,
     "metadata": {},
     "output_type": "execute_result"
    }
   ],
   "source": [
    "pipeline.add_shadow_deploy(champion, [model2, model3])"
   ]
  },
  {
   "cell_type": "code",
   "execution_count": 48,
   "metadata": {},
   "outputs": [
    {
     "data": {
      "text/html": [
       "<table><tr><th>name</th> <td>cc-shadow</td></tr><tr><th>created</th> <td>2023-03-01 16:25:41.018456+00:00</td></tr><tr><th>last_updated</th> <td>2023-03-01 16:56:07.447688+00:00</td></tr><tr><th>deployed</th> <td>True</td></tr><tr><th>tags</th> <td></td></tr><tr><th>versions</th> <td>c608e01a-0a28-4b2a-b064-57086f704ab9, 5c41223a-6c99-4ac6-b43e-ece3d560c31f, fde69c6a-4d25-41c8-bf07-19d798ba8ca7</td></tr><tr><th>steps</th> <td>ccfraudlstm</td></tr></table>"
      ],
      "text/plain": [
       "{'name': 'cc-shadow', 'create_time': datetime.datetime(2023, 3, 1, 16, 25, 41, 18456, tzinfo=tzutc()), 'definition': \"[{'ModelInference': {'models': [{'name': 'ccfraudlstm', 'version': 'f514b9d4-7405-4d9c-a082-99f5c2d4fd82', 'sha': 'bc85ce596945f876256f41515c7501c399fd97ebcb9ab3dd41bf03f8937b4507'}, {'name': 'ccfraudxgb', 'version': '19bba2e3-1c3b-4228-8766-b1f97a099722', 'sha': '054810e3e3ebbdd34438d9c1a08ed6a6680ef10bf97b9223f78ebf38e14b3b52'}, {'name': 'ccfraudrf', 'version': '057afcc1-e2e4-4ce1-ba36-55aff6956cc5', 'sha': '438cd2762590b712106235dc4d635ca50b21304f42ee9529c7acd0b0aecac624'}]}}, {'AuditResults': {'from': 1, 'to': None}}, {'MultiOut': {}}]\"}"
      ]
     },
     "execution_count": 48,
     "metadata": {},
     "output_type": "execute_result"
    }
   ],
   "source": [
    "pipeline.deploy()"
   ]
  },
  {
   "attachments": {},
   "cell_type": "markdown",
   "metadata": {},
   "source": [
    "### Run Test Inference\n",
    "\n",
    "Using the data from `sample_data_file`, a test inference will be made."
   ]
  },
  {
   "cell_type": "code",
   "execution_count": 53,
   "metadata": {},
   "outputs": [
    {
     "data": {
      "text/html": [
       "<div>\n",
       "<style scoped>\n",
       "    .dataframe tbody tr th:only-of-type {\n",
       "        vertical-align: middle;\n",
       "    }\n",
       "\n",
       "    .dataframe tbody tr th {\n",
       "        vertical-align: top;\n",
       "    }\n",
       "\n",
       "    .dataframe thead th {\n",
       "        text-align: right;\n",
       "    }\n",
       "</style>\n",
       "<table border=\"1\" class=\"dataframe\">\n",
       "  <thead>\n",
       "    <tr style=\"text-align: right;\">\n",
       "      <th></th>\n",
       "      <th>model_name</th>\n",
       "      <th>model_version</th>\n",
       "      <th>pipeline_name</th>\n",
       "      <th>outputs</th>\n",
       "      <th>elapsed</th>\n",
       "      <th>time</th>\n",
       "      <th>original_data</th>\n",
       "      <th>check_failures</th>\n",
       "      <th>shadow_data</th>\n",
       "    </tr>\n",
       "  </thead>\n",
       "  <tbody>\n",
       "    <tr>\n",
       "      <th>0</th>\n",
       "      <td>ccfraudlstm</td>\n",
       "      <td>f514b9d4-7405-4d9c-a082-99f5c2d4fd82</td>\n",
       "      <td>cc-shadow</td>\n",
       "      <td>[{'Float': {'v': 1, 'dim': [1, 1], 'data': [0.001497417688369751]}}]</td>\n",
       "      <td>95200</td>\n",
       "      <td>2023-03-01 16:56:45.896</td>\n",
       "      <td>None</td>\n",
       "      <td>0</td>\n",
       "      <td>{'ccfraudrf': [{'Float': {'v': 1, 'dim': [1, 1], 'data': [1.0]}}], 'ccfraudxgb': [{'Float': {'v': 1, 'dim': [1, 1], 'data': [0.0005066990852355957]}}]}</td>\n",
       "    </tr>\n",
       "  </tbody>\n",
       "</table>\n",
       "</div>"
      ],
      "text/plain": [
       "    model_name                         model_version pipeline_name  \\\n",
       "0  ccfraudlstm  f514b9d4-7405-4d9c-a082-99f5c2d4fd82     cc-shadow   \n",
       "\n",
       "                                                                outputs  \\\n",
       "0  [{'Float': {'v': 1, 'dim': [1, 1], 'data': [0.001497417688369751]}}]   \n",
       "\n",
       "   elapsed                    time original_data  check_failures  \\\n",
       "0    95200 2023-03-01 16:56:45.896          None               0   \n",
       "\n",
       "                                                                                                                                               shadow_data  \n",
       "0  {'ccfraudrf': [{'Float': {'v': 1, 'dim': [1, 1], 'data': [1.0]}}], 'ccfraudxgb': [{'Float': {'v': 1, 'dim': [1, 1], 'data': [0.0005066990852355957]}}]}  "
      ]
     },
     "metadata": {},
     "output_type": "display_data"
    }
   ],
   "source": [
    "if arrowEnabled is True:\n",
    "    sample_data_file = './smoke_test.df.json'\n",
    "    response = pipeline.infer_from_file(sample_data_file)\n",
    "else:\n",
    "    sample_data_file = './smoke_test.json'\n",
    "    response = pipeline.infer_from_file(sample_data_file)\n",
    "display(response)"
   ]
  },
  {
   "cell_type": "markdown",
   "metadata": {},
   "source": [
    "### View Pipeline Logs\n",
    "\n",
    "With the inferences complete, we can retrieve the log data from the pipeline with the pipeline `logs` method.  Note that for **each** inference request, the logs return **one entry per model**.  For this example, for one inference request three log entries will be created."
   ]
  },
  {
   "cell_type": "code",
   "execution_count": 54,
   "metadata": {},
   "outputs": [
    {
     "data": {
      "text/html": [
       "<div>\n",
       "<style scoped>\n",
       "    .dataframe tbody tr th:only-of-type {\n",
       "        vertical-align: middle;\n",
       "    }\n",
       "\n",
       "    .dataframe tbody tr th {\n",
       "        vertical-align: top;\n",
       "    }\n",
       "\n",
       "    .dataframe thead th {\n",
       "        text-align: right;\n",
       "    }\n",
       "</style>\n",
       "<table border=\"1\" class=\"dataframe\">\n",
       "  <thead>\n",
       "    <tr style=\"text-align: right;\">\n",
       "      <th></th>\n",
       "      <th>time</th>\n",
       "      <th>message</th>\n",
       "    </tr>\n",
       "  </thead>\n",
       "  <tbody>\n",
       "    <tr>\n",
       "      <th>0</th>\n",
       "      <td>2023-03-01 16:56:22.782</td>\n",
       "      <td>{\"model_name\":\"ccfraudxgb\",\"model_version\":\"19bba2e3-1c3b-4228-8766-b1f97a099722\",\"pipeline_name\":\"cc-shadow\",\"outputs\":[{\"Float\":{\"v\":1,\"dim\":[1,1],\"data\":[0.0005066990852355957]}}],\"elapsed\":181202,\"time\":1677689780864,\"original_data\":{\"tensor\":[[1.0678324729342086,0.21778102664937624,-1.7115145261843976,0.6822857209662413,1.0138553066742804,-0.43350000129006655,0.7395859436561657,-0.28828395953577357,-0.44726268795990787,0.5146124987725894,0.3791316964287545,0.5190619748123175,-0.4904593221655364,1.1656456468728569,-0.9776307444180006,-0.6322198962519854,-0.6891477694494687,0.17833178574255615,0.1397992467197424,-0.35542206494183326,0.4394217876939808,1.4588397511627804,-0.3886829614721505,0.4353492889350186,1.7420053483337177,-0.4434654615252943,-0.15157478906219238,-0.26684517248765616,-1.454961775612449]]},\"check_failures\":[],\"shadow_data\":{}}</td>\n",
       "    </tr>\n",
       "    <tr>\n",
       "      <th>1</th>\n",
       "      <td>2023-03-01 16:56:22.782</td>\n",
       "      <td>{\"model_name\":\"ccfraudrf\",\"model_version\":\"057afcc1-e2e4-4ce1-ba36-55aff6956cc5\",\"pipeline_name\":\"cc-shadow\",\"outputs\":[{\"Float\":{\"v\":1,\"dim\":[1,1],\"data\":[1.0]}}],\"elapsed\":152602,\"time\":1677689780864,\"original_data\":{\"tensor\":[[1.0678324729342086,0.21778102664937624,-1.7115145261843976,0.6822857209662413,1.0138553066742804,-0.43350000129006655,0.7395859436561657,-0.28828395953577357,-0.44726268795990787,0.5146124987725894,0.3791316964287545,0.5190619748123175,-0.4904593221655364,1.1656456468728569,-0.9776307444180006,-0.6322198962519854,-0.6891477694494687,0.17833178574255615,0.1397992467197424,-0.35542206494183326,0.4394217876939808,1.4588397511627804,-0.3886829614721505,0.4353492889350186,1.7420053483337177,-0.4434654615252943,-0.15157478906219238,-0.26684517248765616,-1.454961775612449]]},\"check_failures\":[],\"shadow_data\":{}}</td>\n",
       "    </tr>\n",
       "    <tr>\n",
       "      <th>2</th>\n",
       "      <td>2023-03-01 16:56:22.782</td>\n",
       "      <td>{\"model_name\":\"ccfraudlstm\",\"model_version\":\"f514b9d4-7405-4d9c-a082-99f5c2d4fd82\",\"pipeline_name\":\"cc-shadow\",\"outputs\":[{\"Float\":{\"v\":1,\"dim\":[1,1],\"data\":[0.001497417688369751]}}],\"elapsed\":124101,\"time\":1677689780864,\"original_data\":{\"tensor\":[[1.0678324729342086,0.21778102664937624,-1.7115145261843976,0.6822857209662413,1.0138553066742804,-0.43350000129006655,0.7395859436561657,-0.28828395953577357,-0.44726268795990787,0.5146124987725894,0.3791316964287545,0.5190619748123175,-0.4904593221655364,1.1656456468728569,-0.9776307444180006,-0.6322198962519854,-0.6891477694494687,0.17833178574255615,0.1397992467197424,-0.35542206494183326,0.4394217876939808,1.4588397511627804,-0.3886829614721505,0.4353492889350186,1.7420053483337177,-0.4434654615252943,-0.15157478906219238,-0.26684517248765616,-1.454961775612449]]},\"check_failures\":[],\"shadow_data\":{\"ccfraudrf\":[{\"Float\":{\"v\":1,\"dim\":[1,1],\"data\":[1.0]}}],\"ccfraudxgb\":[{\"Float\":{\"v\":1,\"dim\":[1,1],\"data\":[0.0005066990852355957]}}]}}</td>\n",
       "    </tr>\n",
       "    <tr>\n",
       "      <th>3</th>\n",
       "      <td>2023-03-01 16:56:47.689</td>\n",
       "      <td>{\"model_name\":\"ccfraudxgb\",\"model_version\":\"19bba2e3-1c3b-4228-8766-b1f97a099722\",\"pipeline_name\":\"cc-shadow\",\"outputs\":[{\"Float\":{\"v\":1,\"dim\":[1,1],\"data\":[0.0005066990852355957]}}],\"elapsed\":208502,\"time\":1677689805896,\"original_data\":null,\"check_failures\":[],\"shadow_data\":{}}</td>\n",
       "    </tr>\n",
       "    <tr>\n",
       "      <th>4</th>\n",
       "      <td>2023-03-01 16:56:47.689</td>\n",
       "      <td>{\"model_name\":\"ccfraudrf\",\"model_version\":\"057afcc1-e2e4-4ce1-ba36-55aff6956cc5\",\"pipeline_name\":\"cc-shadow\",\"outputs\":[{\"Float\":{\"v\":1,\"dim\":[1,1],\"data\":[1.0]}}],\"elapsed\":660206,\"time\":1677689805896,\"original_data\":null,\"check_failures\":[],\"shadow_data\":{}}</td>\n",
       "    </tr>\n",
       "    <tr>\n",
       "      <th>5</th>\n",
       "      <td>2023-03-01 16:56:47.689</td>\n",
       "      <td>{\"model_name\":\"ccfraudlstm\",\"model_version\":\"f514b9d4-7405-4d9c-a082-99f5c2d4fd82\",\"pipeline_name\":\"cc-shadow\",\"outputs\":[{\"Float\":{\"v\":1,\"dim\":[1,1],\"data\":[0.001497417688369751]}}],\"elapsed\":95200,\"time\":1677689805896,\"original_data\":null,\"check_failures\":[],\"shadow_data\":{\"ccfraudrf\":[{\"Float\":{\"v\":1,\"dim\":[1,1],\"data\":[1.0]}}],\"ccfraudxgb\":[{\"Float\":{\"v\":1,\"dim\":[1,1],\"data\":[0.0005066990852355957]}}]}}</td>\n",
       "    </tr>\n",
       "    <tr>\n",
       "      <th>6</th>\n",
       "      <td>2023-03-01 16:26:16.553</td>\n",
       "      <td>{\"model_name\":\"ccfraudxgb\",\"model_version\":\"3426c73e-8955-4c11-b982-5cd331875617\",\"pipeline_name\":\"cc-shadow\",\"outputs\":[{\"Float\":{\"v\":1,\"dim\":[1,1],\"data\":[0.0005066990852355957]}}],\"elapsed\":178702,\"time\":1677687975551,\"original_data\":null,\"check_failures\":[],\"shadow_data\":{}}</td>\n",
       "    </tr>\n",
       "    <tr>\n",
       "      <th>7</th>\n",
       "      <td>2023-03-01 16:26:16.553</td>\n",
       "      <td>{\"model_name\":\"ccfraudrf\",\"model_version\":\"f2f7b1aa-1beb-4b5c-894a-6b8375e59c31\",\"pipeline_name\":\"cc-shadow\",\"outputs\":[{\"Float\":{\"v\":1,\"dim\":[1,1],\"data\":[1.0]}}],\"elapsed\":150701,\"time\":1677687975551,\"original_data\":null,\"check_failures\":[],\"shadow_data\":{}}</td>\n",
       "    </tr>\n",
       "    <tr>\n",
       "      <th>8</th>\n",
       "      <td>2023-03-01 16:26:16.553</td>\n",
       "      <td>{\"model_name\":\"ccfraudlstm\",\"model_version\":\"94c50bec-2062-402e-a0e0-f0e35262b258\",\"pipeline_name\":\"cc-shadow\",\"outputs\":[{\"Float\":{\"v\":1,\"dim\":[1,1],\"data\":[0.001497417688369751]}}],\"elapsed\":149901,\"time\":1677687975551,\"original_data\":null,\"check_failures\":[],\"shadow_data\":{\"ccfraudrf\":[{\"Float\":{\"v\":1,\"dim\":[1,1],\"data\":[1.0]}}],\"ccfraudxgb\":[{\"Float\":{\"v\":1,\"dim\":[1,1],\"data\":[0.0005066990852355957]}}]}}</td>\n",
       "    </tr>\n",
       "  </tbody>\n",
       "</table>\n",
       "</div>"
      ],
      "text/plain": [
       "                     time  \\\n",
       "0 2023-03-01 16:56:22.782   \n",
       "1 2023-03-01 16:56:22.782   \n",
       "2 2023-03-01 16:56:22.782   \n",
       "3 2023-03-01 16:56:47.689   \n",
       "4 2023-03-01 16:56:47.689   \n",
       "5 2023-03-01 16:56:47.689   \n",
       "6 2023-03-01 16:26:16.553   \n",
       "7 2023-03-01 16:26:16.553   \n",
       "8 2023-03-01 16:26:16.553   \n",
       "\n",
       "                                                                                                                                                                                                                                                                                                                                                                                                                                                                                                                                                                                                                                                                                                                                                                                                                                                                                                                                                                                                                             message  \n",
       "0                                                                                                                                      {\"model_name\":\"ccfraudxgb\",\"model_version\":\"19bba2e3-1c3b-4228-8766-b1f97a099722\",\"pipeline_name\":\"cc-shadow\",\"outputs\":[{\"Float\":{\"v\":1,\"dim\":[1,1],\"data\":[0.0005066990852355957]}}],\"elapsed\":181202,\"time\":1677689780864,\"original_data\":{\"tensor\":[[1.0678324729342086,0.21778102664937624,-1.7115145261843976,0.6822857209662413,1.0138553066742804,-0.43350000129006655,0.7395859436561657,-0.28828395953577357,-0.44726268795990787,0.5146124987725894,0.3791316964287545,0.5190619748123175,-0.4904593221655364,1.1656456468728569,-0.9776307444180006,-0.6322198962519854,-0.6891477694494687,0.17833178574255615,0.1397992467197424,-0.35542206494183326,0.4394217876939808,1.4588397511627804,-0.3886829614721505,0.4353492889350186,1.7420053483337177,-0.4434654615252943,-0.15157478906219238,-0.26684517248765616,-1.454961775612449]]},\"check_failures\":[],\"shadow_data\":{}}  \n",
       "1                                                                                                                                                         {\"model_name\":\"ccfraudrf\",\"model_version\":\"057afcc1-e2e4-4ce1-ba36-55aff6956cc5\",\"pipeline_name\":\"cc-shadow\",\"outputs\":[{\"Float\":{\"v\":1,\"dim\":[1,1],\"data\":[1.0]}}],\"elapsed\":152602,\"time\":1677689780864,\"original_data\":{\"tensor\":[[1.0678324729342086,0.21778102664937624,-1.7115145261843976,0.6822857209662413,1.0138553066742804,-0.43350000129006655,0.7395859436561657,-0.28828395953577357,-0.44726268795990787,0.5146124987725894,0.3791316964287545,0.5190619748123175,-0.4904593221655364,1.1656456468728569,-0.9776307444180006,-0.6322198962519854,-0.6891477694494687,0.17833178574255615,0.1397992467197424,-0.35542206494183326,0.4394217876939808,1.4588397511627804,-0.3886829614721505,0.4353492889350186,1.7420053483337177,-0.4434654615252943,-0.15157478906219238,-0.26684517248765616,-1.454961775612449]]},\"check_failures\":[],\"shadow_data\":{}}  \n",
       "2  {\"model_name\":\"ccfraudlstm\",\"model_version\":\"f514b9d4-7405-4d9c-a082-99f5c2d4fd82\",\"pipeline_name\":\"cc-shadow\",\"outputs\":[{\"Float\":{\"v\":1,\"dim\":[1,1],\"data\":[0.001497417688369751]}}],\"elapsed\":124101,\"time\":1677689780864,\"original_data\":{\"tensor\":[[1.0678324729342086,0.21778102664937624,-1.7115145261843976,0.6822857209662413,1.0138553066742804,-0.43350000129006655,0.7395859436561657,-0.28828395953577357,-0.44726268795990787,0.5146124987725894,0.3791316964287545,0.5190619748123175,-0.4904593221655364,1.1656456468728569,-0.9776307444180006,-0.6322198962519854,-0.6891477694494687,0.17833178574255615,0.1397992467197424,-0.35542206494183326,0.4394217876939808,1.4588397511627804,-0.3886829614721505,0.4353492889350186,1.7420053483337177,-0.4434654615252943,-0.15157478906219238,-0.26684517248765616,-1.454961775612449]]},\"check_failures\":[],\"shadow_data\":{\"ccfraudrf\":[{\"Float\":{\"v\":1,\"dim\":[1,1],\"data\":[1.0]}}],\"ccfraudxgb\":[{\"Float\":{\"v\":1,\"dim\":[1,1],\"data\":[0.0005066990852355957]}}]}}  \n",
       "3                                                                                                                                                                                                                                                                                                                                                                                                                                                                                                                                                                                                                                                                                                                                            {\"model_name\":\"ccfraudxgb\",\"model_version\":\"19bba2e3-1c3b-4228-8766-b1f97a099722\",\"pipeline_name\":\"cc-shadow\",\"outputs\":[{\"Float\":{\"v\":1,\"dim\":[1,1],\"data\":[0.0005066990852355957]}}],\"elapsed\":208502,\"time\":1677689805896,\"original_data\":null,\"check_failures\":[],\"shadow_data\":{}}  \n",
       "4                                                                                                                                                                                                                                                                                                                                                                                                                                                                                                                                                                                                                                                                                                                                                               {\"model_name\":\"ccfraudrf\",\"model_version\":\"057afcc1-e2e4-4ce1-ba36-55aff6956cc5\",\"pipeline_name\":\"cc-shadow\",\"outputs\":[{\"Float\":{\"v\":1,\"dim\":[1,1],\"data\":[1.0]}}],\"elapsed\":660206,\"time\":1677689805896,\"original_data\":null,\"check_failures\":[],\"shadow_data\":{}}  \n",
       "5                                                                                                                                                                                                                                                                                                                                                                                                                                                                                                                                                                                                         {\"model_name\":\"ccfraudlstm\",\"model_version\":\"f514b9d4-7405-4d9c-a082-99f5c2d4fd82\",\"pipeline_name\":\"cc-shadow\",\"outputs\":[{\"Float\":{\"v\":1,\"dim\":[1,1],\"data\":[0.001497417688369751]}}],\"elapsed\":95200,\"time\":1677689805896,\"original_data\":null,\"check_failures\":[],\"shadow_data\":{\"ccfraudrf\":[{\"Float\":{\"v\":1,\"dim\":[1,1],\"data\":[1.0]}}],\"ccfraudxgb\":[{\"Float\":{\"v\":1,\"dim\":[1,1],\"data\":[0.0005066990852355957]}}]}}  \n",
       "6                                                                                                                                                                                                                                                                                                                                                                                                                                                                                                                                                                                                                                                                                                                                            {\"model_name\":\"ccfraudxgb\",\"model_version\":\"3426c73e-8955-4c11-b982-5cd331875617\",\"pipeline_name\":\"cc-shadow\",\"outputs\":[{\"Float\":{\"v\":1,\"dim\":[1,1],\"data\":[0.0005066990852355957]}}],\"elapsed\":178702,\"time\":1677687975551,\"original_data\":null,\"check_failures\":[],\"shadow_data\":{}}  \n",
       "7                                                                                                                                                                                                                                                                                                                                                                                                                                                                                                                                                                                                                                                                                                                                                               {\"model_name\":\"ccfraudrf\",\"model_version\":\"f2f7b1aa-1beb-4b5c-894a-6b8375e59c31\",\"pipeline_name\":\"cc-shadow\",\"outputs\":[{\"Float\":{\"v\":1,\"dim\":[1,1],\"data\":[1.0]}}],\"elapsed\":150701,\"time\":1677687975551,\"original_data\":null,\"check_failures\":[],\"shadow_data\":{}}  \n",
       "8                                                                                                                                                                                                                                                                                                                                                                                                                                                                                                                                                                                                        {\"model_name\":\"ccfraudlstm\",\"model_version\":\"94c50bec-2062-402e-a0e0-f0e35262b258\",\"pipeline_name\":\"cc-shadow\",\"outputs\":[{\"Float\":{\"v\":1,\"dim\":[1,1],\"data\":[0.001497417688369751]}}],\"elapsed\":149901,\"time\":1677687975551,\"original_data\":null,\"check_failures\":[],\"shadow_data\":{\"ccfraudrf\":[{\"Float\":{\"v\":1,\"dim\":[1,1],\"data\":[1.0]}}],\"ccfraudxgb\":[{\"Float\":{\"v\":1,\"dim\":[1,1],\"data\":[0.0005066990852355957]}}]}}  "
      ]
     },
     "execution_count": 54,
     "metadata": {},
     "output_type": "execute_result"
    }
   ],
   "source": [
    "pipeline.logs()"
   ]
  },
  {
   "attachments": {},
   "cell_type": "markdown",
   "metadata": {},
   "source": [
    "### View Logs Per Model\n",
    "\n",
    "Another way of displaying the logs would be to specify the model.\n",
    "\n",
    "For Arrow enabled Wallaroo instances, the log files are returned as a DataFrame, and the models can be specified by rows.  The following code will display the log data based based on the model name and the inference output for that specific model.\n",
    "\n",
    "For arrow disabled Wallaroo instances, to view the inputs and results for the shadow deployed models, use the pipeline `logs_shadow_deploy()` method.  The results will be grouped by the inputs."
   ]
  },
  {
   "cell_type": "code",
   "execution_count": 55,
   "metadata": {},
   "outputs": [
    {
     "data": {
      "text/plain": [
       "['ccfraudxgb', '0.0005066990852355957']"
      ]
     },
     "metadata": {},
     "output_type": "display_data"
    },
    {
     "data": {
      "text/plain": [
       "['ccfraudrf', '1.0']"
      ]
     },
     "metadata": {},
     "output_type": "display_data"
    },
    {
     "data": {
      "text/plain": [
       "['ccfraudlstm', '0.001497417688369751']"
      ]
     },
     "metadata": {},
     "output_type": "display_data"
    },
    {
     "data": {
      "text/plain": [
       "['ccfraudxgb', '0.0005066990852355957']"
      ]
     },
     "metadata": {},
     "output_type": "display_data"
    },
    {
     "data": {
      "text/plain": [
       "['ccfraudrf', '1.0']"
      ]
     },
     "metadata": {},
     "output_type": "display_data"
    },
    {
     "data": {
      "text/plain": [
       "['ccfraudlstm', '0.001497417688369751']"
      ]
     },
     "metadata": {},
     "output_type": "display_data"
    },
    {
     "data": {
      "text/plain": [
       "['ccfraudxgb', '0.0005066990852355957']"
      ]
     },
     "metadata": {},
     "output_type": "display_data"
    },
    {
     "data": {
      "text/plain": [
       "['ccfraudrf', '1.0']"
      ]
     },
     "metadata": {},
     "output_type": "display_data"
    },
    {
     "data": {
      "text/plain": [
       "['ccfraudlstm', '0.001497417688369751']"
      ]
     },
     "metadata": {},
     "output_type": "display_data"
    }
   ],
   "source": [
    "import json\n",
    "if arrowEnabled is True:\n",
    "    logs = pipeline.logs()\n",
    "    for index, row in logs.iterrows():\n",
    "        convertedjson = json.loads(row['message'])\n",
    "        displayModelName = convertedjson['model_name']\n",
    "        displayOutputs = str(convertedjson['outputs'][0]['Float']['data'][0])\n",
    "        display([displayModelName,displayOutputs])\n",
    "else:\n",
    "    logs = pipeline.logs()\n",
    "    for log in logs:\n",
    "        display(log.model_name, log.output) \n",
    "    shadow_logs = pipeline.logs_shadow_deploy()\n",
    "    display(shadow_logs)"
   ]
  },
  {
   "cell_type": "markdown",
   "metadata": {},
   "source": [
    "### Undeploy the Pipeline\n",
    "\n",
    "With the tutorial complete, we undeploy the pipeline and return the resources back to the system."
   ]
  },
  {
   "cell_type": "code",
   "execution_count": 56,
   "metadata": {},
   "outputs": [
    {
     "data": {
      "text/html": [
       "<table><tr><th>name</th> <td>cc-shadow</td></tr><tr><th>created</th> <td>2023-03-01 16:25:41.018456+00:00</td></tr><tr><th>last_updated</th> <td>2023-03-01 16:56:07.447688+00:00</td></tr><tr><th>deployed</th> <td>False</td></tr><tr><th>tags</th> <td></td></tr><tr><th>versions</th> <td>c608e01a-0a28-4b2a-b064-57086f704ab9, 5c41223a-6c99-4ac6-b43e-ece3d560c31f, fde69c6a-4d25-41c8-bf07-19d798ba8ca7</td></tr><tr><th>steps</th> <td>ccfraudlstm</td></tr></table>"
      ],
      "text/plain": [
       "{'name': 'cc-shadow', 'create_time': datetime.datetime(2023, 3, 1, 16, 25, 41, 18456, tzinfo=tzutc()), 'definition': \"[{'ModelInference': {'models': [{'name': 'ccfraudlstm', 'version': 'f514b9d4-7405-4d9c-a082-99f5c2d4fd82', 'sha': 'bc85ce596945f876256f41515c7501c399fd97ebcb9ab3dd41bf03f8937b4507'}, {'name': 'ccfraudxgb', 'version': '19bba2e3-1c3b-4228-8766-b1f97a099722', 'sha': '054810e3e3ebbdd34438d9c1a08ed6a6680ef10bf97b9223f78ebf38e14b3b52'}, {'name': 'ccfraudrf', 'version': '057afcc1-e2e4-4ce1-ba36-55aff6956cc5', 'sha': '438cd2762590b712106235dc4d635ca50b21304f42ee9529c7acd0b0aecac624'}]}}, {'AuditResults': {'from': 1, 'to': None}}, {'MultiOut': {}}]\"}"
      ]
     },
     "execution_count": 56,
     "metadata": {},
     "output_type": "execute_result"
    }
   ],
   "source": [
    "pipeline.undeploy()"
   ]
  }
 ],
 "metadata": {
  "kernelspec": {
   "display_name": "arrowtests",
   "language": "python",
   "name": "python3"
  },
  "language_info": {
   "codemirror_mode": {
    "name": "ipython",
    "version": 3
   },
   "file_extension": ".py",
   "mimetype": "text/x-python",
   "name": "python",
   "nbconvert_exporter": "python",
   "pygments_lexer": "ipython3",
   "version": "3.8.12"
  },
  "vscode": {
   "interpreter": {
    "hash": "7dda4bf3640b7fafcd1648658b879b4cc9f6ba6084e8fb356fdaaa1a461d1690"
   }
  }
 },
 "nbformat": 4,
 "nbformat_minor": 4
}
