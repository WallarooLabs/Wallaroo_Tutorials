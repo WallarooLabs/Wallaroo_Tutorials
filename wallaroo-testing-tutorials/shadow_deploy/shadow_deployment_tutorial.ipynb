{
 "cells": [
  {
   "attachments": {},
   "cell_type": "markdown",
   "metadata": {},
   "source": [
    "This tutorial and the assets can be downloaded as part of the [Wallaroo Tutorials repository](https://github.com/WallarooLabs/Wallaroo_Tutorials/tree/main/wallaroo-testing-tutorials/shadow_deploy).\n",
    "\n",
    "## Shadow Deployment Tutorial\n",
    "\n",
    "Wallaroo provides a method of testing the same data against two different models or sets of models at the same time through **shadow deployments** otherwise known as **parallel deployments**.  This allows data to be submitted to a pipeline with inferences running on two different sets of models.  Typically this is performed on a model that is known to provide accurate results - the **champion** - and a model that is being tested to see if it provides more accurate or faster responses depending on the criteria known as the **challengers**.  Multiple challengers can be tested against a single champion.\n",
    "\n",
    "As described in the Wallaroo blog post [The What, Why, and How of Model A/B Testing](https://www.wallaroo.ai/blog/the-what-why-and-how-of-a/b-testing):\n",
    "\n",
    "> In data science, A/B tests can also be used to choose between two models in production, by measuring which model performs better in the real world. In this formulation, the control is often an existing model that is currently in production, sometimes called the champion. The treatment is a new model being considered to replace the old one. This new model is sometimes called the challenger....\n",
    "\n",
    "> Keep in mind that in machine learning, the terms experiments and trials also often refer to the process of finding a training configuration that works best for the problem at hand (this is sometimes called hyperparameter optimization).\n",
    "\n",
    "For Arrow enabled Wallaroo instances the inference result is returned as a pandas DataFrame.  The shadow results from the models is stored in the `out_{model name}.variable` column.  For example, the model above named `ccfraudrf` would have its results in the column `out_ccfraudrf.variable`.\n",
    "\n",
    "For non-Arrow enabled Wallaroo instances, the inference result is as a Wallaroo InferenceResult object.  The inference results from the `champion` model will be available in the returned InferenceResult Object's `data` element, while inference results from each of the `challenger` models will be in the returned InferenceResult Object's `shadow_data` element.\n",
    "\n",
    "The following tutorial will demonstrate how:\n",
    "\n",
    "* Upload champion and challenger models into a Wallaroo instance.\n",
    "* Create a shadow deployment in a Wallaroo pipeline.\n",
    "* Perform an inference through a pipeline with a shadow deployment.\n",
    "* View the `data` and `shadow_data` results from the InferenceResult Object.\n",
    "* View the pipeline logs and pipeline shadow logs.\n",
    "\n",
    "This tutorial provides the following:\n",
    "\n",
    "* `dev_smoke_test.json`:  Sample test data used for the inference testing.\n",
    "* `models/keras_ccfraud.onnx`:  The champion model.\n",
    "* `models/modelA.onnx`: A challenger model.\n",
    "* `models/xgboost_ccfraud.onnx`: A challenger model.\n",
    "\n",
    "All models are similar to the ones used for the Wallaroo-101 example included in the [Wallaroo Tutorials repository](https://github.com/WallarooLabs/Wallaroo_Tutorials)."
   ]
  },
  {
   "cell_type": "markdown",
   "metadata": {},
   "source": [
    "## Steps\n",
    "\n",
    "### Import libraries\n",
    "\n",
    "The first step is to import the libraries required.\n"
   ]
  },
  {
   "cell_type": "code",
   "execution_count": 48,
   "metadata": {},
   "outputs": [],
   "source": [
    "import wallaroo\n",
    "from wallaroo.object import EntityNotFoundError\n",
    "\n",
    "# used to display dataframe information without truncating\n",
    "from IPython.display import display\n",
    "import pandas as pd\n",
    "pd.set_option('display.max_colwidth', None)"
   ]
  },
  {
   "cell_type": "markdown",
   "metadata": {},
   "source": [
    "### Connect to Wallaroo\n",
    "\n",
    "Connect to your Wallaroo instance and save the connection as the variable `wl`."
   ]
  },
  {
   "cell_type": "code",
   "execution_count": 49,
   "metadata": {},
   "outputs": [],
   "source": [
    "# Login through local Wallaroo instance\n",
    "\n",
    "wl = wallaroo.Client()\n",
    "\n",
    "# SSO login through keycloak\n",
    "\n",
    "# wallarooPrefix = \"YOUR PREFIX\"\n",
    "# wallarooSuffix = \"YOUR SUFFIX\"\n",
    "\n",
    "# wl = wallaroo.Client(api_endpoint=f\"https://{wallarooPrefix}.api.{wallarooSuffix}\", \n",
    "#                     auth_endpoint=f\"https://{wallarooPrefix}.keycloak.{wallarooSuffix}\", \n",
    "#                     auth_type=\"sso\")"
   ]
  },
  {
   "attachments": {},
   "cell_type": "markdown",
   "metadata": {},
   "source": [
    "### Arrow Support\n",
    "\n",
    "As of the 2023.1 release, Wallaroo provides support for dataframe and Arrow for inference inputs.  This tutorial allows users to adjust their experience based on whether they have enabled Arrow support in their Wallaroo instance or not.\n",
    "\n",
    "If Arrow support has been enabled, `arrowEnabled=True`. If disabled or you're not sure, set it to `arrowEnabled=False`\n",
    "\n",
    "The examples below will be shown in an arrow enabled environment."
   ]
  },
  {
   "cell_type": "code",
   "execution_count": 50,
   "metadata": {},
   "outputs": [
    {
     "name": "stdout",
     "output_type": "stream",
     "text": [
      "True\n"
     ]
    }
   ],
   "source": [
    "import os\n",
    "# Only set the below to make the OS environment ARROW_ENABLED to TRUE.  Otherwise, leave as is.\n",
    "# os.environ[\"ARROW_ENABLED\"]=\"True\"\n",
    "\n",
    "if \"ARROW_ENABLED\" not in os.environ or os.environ[\"ARROW_ENABLED\"].casefold() == \"False\".casefold():\n",
    "    arrowEnabled = False\n",
    "else:\n",
    "    arrowEnabled = True\n",
    "print(arrowEnabled)"
   ]
  },
  {
   "cell_type": "markdown",
   "metadata": {},
   "source": [
    "### Set Variables\n",
    "\n",
    "The following variables are used to create or use existing workspaces, pipelines, and upload the models.  Adjust them based on your Wallaroo instance and organization requirements."
   ]
  },
  {
   "cell_type": "code",
   "execution_count": 51,
   "metadata": {},
   "outputs": [],
   "source": [
    "workspace_name = 'ccfraudcomparisondemo'\n",
    "pipeline_name = 'cc-shadow'\n",
    "champion_model_name = 'ccfraudlstm'\n",
    "champion_model_file = 'models/keras_ccfraud.onnx'\n",
    "shadow_model_01_name = 'ccfraudxgb'\n",
    "shadow_model_01_file = 'models/xgboost_ccfraud.onnx'\n",
    "shadow_model_02_name = 'ccfraudrf'\n",
    "shadow_model_02_file = 'models/modelA.onnx'"
   ]
  },
  {
   "cell_type": "markdown",
   "metadata": {},
   "source": [
    "### Workspace and Pipeline\n",
    "\n",
    "The following creates or connects to an existing workspace based on the variable `workspace_name`, and creates or connects to a pipeline based on the variable `pipeline_name`."
   ]
  },
  {
   "cell_type": "code",
   "execution_count": 52,
   "metadata": {},
   "outputs": [],
   "source": [
    "def get_workspace(name):\n",
    "    workspace = None\n",
    "    for ws in wl.list_workspaces():\n",
    "        if ws.name() == name:\n",
    "            workspace= ws\n",
    "    if(workspace == None):\n",
    "        workspace = wl.create_workspace(name)\n",
    "    return workspace\n",
    "\n",
    "def get_pipeline(name):\n",
    "    try:\n",
    "        pipeline = wl.pipelines_by_name(pipeline_name)[0]\n",
    "    except EntityNotFoundError:\n",
    "        pipeline = wl.build_pipeline(pipeline_name)\n",
    "    return pipeline"
   ]
  },
  {
   "cell_type": "code",
   "execution_count": 53,
   "metadata": {},
   "outputs": [
    {
     "data": {
      "text/html": [
       "<table><tr><th>name</th> <td>cc-shadow</td></tr><tr><th>created</th> <td>2023-02-21 18:31:11.386647+00:00</td></tr><tr><th>last_updated</th> <td>2023-03-01 16:52:33.782159+00:00</td></tr><tr><th>deployed</th> <td>False</td></tr><tr><th>tags</th> <td></td></tr><tr><th>versions</th> <td>91e7c8d8-857e-46a6-8436-0a58389d4370, c285295c-931b-44e5-a880-b6fcb71c174d, 75103104-a9af-4e26-8d82-20d3e2cc97dd, 44d856cb-c8b6-4c86-b5cd-b5475d4e5cab, f02cfeb6-11df-4377-ab17-1c579f683a16, 47432474-5313-46ce-a890-ca67088d2651, 88ed5b3c-ede5-441c-94a6-cf5ebbd926e2, b9579512-de67-4aeb-98e8-a115343b774c</td></tr><tr><th>steps</th> <td>ccfraudlstm</td></tr></table>"
      ],
      "text/plain": [
       "{'name': 'cc-shadow', 'create_time': datetime.datetime(2023, 2, 21, 18, 31, 11, 386647, tzinfo=tzutc()), 'definition': '[]'}"
      ]
     },
     "execution_count": 53,
     "metadata": {},
     "output_type": "execute_result"
    }
   ],
   "source": [
    "workspace = get_workspace(workspace_name)\n",
    "\n",
    "wl.set_current_workspace(workspace)\n",
    "\n",
    "pipeline = get_pipeline(pipeline_name)\n",
    "pipeline\n"
   ]
  },
  {
   "cell_type": "markdown",
   "metadata": {},
   "source": [
    "### Load the Models\n",
    "\n",
    "The models will be uploaded into the current workspace based on the variable names set earlier and listed as the `champion`, `model2` and `model3`."
   ]
  },
  {
   "cell_type": "code",
   "execution_count": 54,
   "metadata": {},
   "outputs": [],
   "source": [
    "champion = wl.upload_model(champion_model_name, champion_model_file).configure()\n",
    "model2 = wl.upload_model(shadow_model_01_name, shadow_model_01_file).configure()\n",
    "model3 = wl.upload_model(shadow_model_02_name, shadow_model_02_file).configure()"
   ]
  },
  {
   "cell_type": "markdown",
   "metadata": {},
   "source": [
    "### Create Shadow Deployment\n",
    "\n",
    "A shadow deployment is created using the `add_shadow_deploy(champion, challengers[])` method where:\n",
    "\n",
    "* `champion`: The model that will be primarily used for inferences run through the pipeline.  Inference results will be returned through the Inference Object's `data` element.\n",
    "* `challengers[]`: An array of models that will be used for inferences iteratively.  Inference results will be returned through the Inference Object's `shadow_data` element."
   ]
  },
  {
   "cell_type": "code",
   "execution_count": 55,
   "metadata": {},
   "outputs": [
    {
     "data": {
      "text/html": [
       "<table><tr><th>name</th> <td>cc-shadow</td></tr><tr><th>created</th> <td>2023-02-21 18:31:11.386647+00:00</td></tr><tr><th>last_updated</th> <td>2023-03-01 16:52:33.782159+00:00</td></tr><tr><th>deployed</th> <td>False</td></tr><tr><th>tags</th> <td></td></tr><tr><th>versions</th> <td>91e7c8d8-857e-46a6-8436-0a58389d4370, c285295c-931b-44e5-a880-b6fcb71c174d, 75103104-a9af-4e26-8d82-20d3e2cc97dd, 44d856cb-c8b6-4c86-b5cd-b5475d4e5cab, f02cfeb6-11df-4377-ab17-1c579f683a16, 47432474-5313-46ce-a890-ca67088d2651, 88ed5b3c-ede5-441c-94a6-cf5ebbd926e2, b9579512-de67-4aeb-98e8-a115343b774c</td></tr><tr><th>steps</th> <td>ccfraudlstm</td></tr></table>"
      ],
      "text/plain": [
       "{'name': 'cc-shadow', 'create_time': datetime.datetime(2023, 2, 21, 18, 31, 11, 386647, tzinfo=tzutc()), 'definition': \"[{'ModelInference': {'models': [{'name': 'ccfraudlstm', 'version': 'cd40f808-bfb4-4f14-a31a-29787c7dc0ea', 'sha': 'bc85ce596945f876256f41515c7501c399fd97ebcb9ab3dd41bf03f8937b4507'}, {'name': 'ccfraudxgb', 'version': 'ec521d72-f295-45c1-b396-7cc38ace9eac', 'sha': '054810e3e3ebbdd34438d9c1a08ed6a6680ef10bf97b9223f78ebf38e14b3b52'}, {'name': 'ccfraudrf', 'version': '43ae7f17-31ef-49bd-8b0f-77aa317d0fe1', 'sha': '438cd2762590b712106235dc4d635ca50b21304f42ee9529c7acd0b0aecac624'}]}}, {'AuditResults': {'from': 1, 'to': None}}, {'MultiOut': {}}]\"}"
      ]
     },
     "execution_count": 55,
     "metadata": {},
     "output_type": "execute_result"
    }
   ],
   "source": [
    "pipeline.add_shadow_deploy(champion, [model2, model3])"
   ]
  },
  {
   "cell_type": "code",
   "execution_count": 56,
   "metadata": {},
   "outputs": [
    {
     "data": {
      "text/html": [
       "<table><tr><th>name</th> <td>cc-shadow</td></tr><tr><th>created</th> <td>2023-02-21 18:31:11.386647+00:00</td></tr><tr><th>last_updated</th> <td>2023-03-01 22:07:40.091421+00:00</td></tr><tr><th>deployed</th> <td>True</td></tr><tr><th>tags</th> <td></td></tr><tr><th>versions</th> <td>d71f7de6-571c-4e1a-b2cc-2f60ec9eb9d9, 91e7c8d8-857e-46a6-8436-0a58389d4370, c285295c-931b-44e5-a880-b6fcb71c174d, 75103104-a9af-4e26-8d82-20d3e2cc97dd, 44d856cb-c8b6-4c86-b5cd-b5475d4e5cab, f02cfeb6-11df-4377-ab17-1c579f683a16, 47432474-5313-46ce-a890-ca67088d2651, 88ed5b3c-ede5-441c-94a6-cf5ebbd926e2, b9579512-de67-4aeb-98e8-a115343b774c</td></tr><tr><th>steps</th> <td>ccfraudlstm</td></tr></table>"
      ],
      "text/plain": [
       "{'name': 'cc-shadow', 'create_time': datetime.datetime(2023, 2, 21, 18, 31, 11, 386647, tzinfo=tzutc()), 'definition': \"[{'ModelInference': {'models': [{'name': 'ccfraudlstm', 'version': 'cd40f808-bfb4-4f14-a31a-29787c7dc0ea', 'sha': 'bc85ce596945f876256f41515c7501c399fd97ebcb9ab3dd41bf03f8937b4507'}, {'name': 'ccfraudxgb', 'version': 'ec521d72-f295-45c1-b396-7cc38ace9eac', 'sha': '054810e3e3ebbdd34438d9c1a08ed6a6680ef10bf97b9223f78ebf38e14b3b52'}, {'name': 'ccfraudrf', 'version': '43ae7f17-31ef-49bd-8b0f-77aa317d0fe1', 'sha': '438cd2762590b712106235dc4d635ca50b21304f42ee9529c7acd0b0aecac624'}]}}, {'AuditResults': {'from': 1, 'to': None}}, {'MultiOut': {}}]\"}"
      ]
     },
     "execution_count": 56,
     "metadata": {},
     "output_type": "execute_result"
    }
   ],
   "source": [
    "pipeline.deploy()"
   ]
  },
  {
   "attachments": {},
   "cell_type": "markdown",
   "metadata": {},
   "source": [
    "### Run Test Inference\n",
    "\n",
    "Using the data from `sample_data_file`, a test inference will be made."
   ]
  },
  {
   "cell_type": "code",
   "execution_count": 57,
   "metadata": {},
   "outputs": [
    {
     "data": {
      "text/html": [
       "<div>\n",
       "<style scoped>\n",
       "    .dataframe tbody tr th:only-of-type {\n",
       "        vertical-align: middle;\n",
       "    }\n",
       "\n",
       "    .dataframe tbody tr th {\n",
       "        vertical-align: top;\n",
       "    }\n",
       "\n",
       "    .dataframe thead th {\n",
       "        text-align: right;\n",
       "    }\n",
       "</style>\n",
       "<table border=\"1\" class=\"dataframe\">\n",
       "  <thead>\n",
       "    <tr style=\"text-align: right;\">\n",
       "      <th></th>\n",
       "      <th>time</th>\n",
       "      <th>in.tensor</th>\n",
       "      <th>out.dense_1</th>\n",
       "      <th>check_failures</th>\n",
       "      <th>out_ccfraudrf.variable</th>\n",
       "      <th>out_ccfraudxgb.variable</th>\n",
       "    </tr>\n",
       "  </thead>\n",
       "  <tbody>\n",
       "    <tr>\n",
       "      <th>0</th>\n",
       "      <td>2023-03-01 22:07:57.855</td>\n",
       "      <td>[1.0678324729, 0.2177810266, -1.7115145262, 0.682285721, 1.0138553067, -0.4335000013, 0.7395859437, -0.2882839595, -0.447262688, 0.5146124988, 0.3791316964, 0.5190619748, -0.4904593222, 1.1656456469, -0.9776307444, -0.6322198963, -0.6891477694, 0.1783317857, 0.1397992467, -0.3554220649, 0.4394217877, 1.4588397512, -0.3886829615, 0.4353492889, 1.7420053483, -0.4434654615, -0.1515747891, -0.2668451725, -1.4549617756]</td>\n",
       "      <td>[0.0014974177]</td>\n",
       "      <td>0</td>\n",
       "      <td>[1.0]</td>\n",
       "      <td>[0.0005066991]</td>\n",
       "    </tr>\n",
       "  </tbody>\n",
       "</table>\n",
       "</div>"
      ],
      "text/plain": [
       "                     time  \\\n",
       "0 2023-03-01 22:07:57.855   \n",
       "\n",
       "                                                                                                                                                                                                                                                                                                                                                                                                                            in.tensor  \\\n",
       "0  [1.0678324729, 0.2177810266, -1.7115145262, 0.682285721, 1.0138553067, -0.4335000013, 0.7395859437, -0.2882839595, -0.447262688, 0.5146124988, 0.3791316964, 0.5190619748, -0.4904593222, 1.1656456469, -0.9776307444, -0.6322198963, -0.6891477694, 0.1783317857, 0.1397992467, -0.3554220649, 0.4394217877, 1.4588397512, -0.3886829615, 0.4353492889, 1.7420053483, -0.4434654615, -0.1515747891, -0.2668451725, -1.4549617756]   \n",
       "\n",
       "      out.dense_1  check_failures out_ccfraudrf.variable  \\\n",
       "0  [0.0014974177]               0                  [1.0]   \n",
       "\n",
       "  out_ccfraudxgb.variable  \n",
       "0          [0.0005066991]  "
      ]
     },
     "metadata": {},
     "output_type": "display_data"
    }
   ],
   "source": [
    "if arrowEnabled is True:\n",
    "    sample_data_file = './smoke_test.df.json'\n",
    "    response = pipeline.infer_from_file(sample_data_file)\n",
    "else:\n",
    "    sample_data_file = './smoke_test.json'\n",
    "    response = pipeline.infer_from_file(sample_data_file)\n",
    "display(response)"
   ]
  },
  {
   "cell_type": "markdown",
   "metadata": {},
   "source": [
    "### View Pipeline Logs\n",
    "\n",
    "With the inferences complete, we can retrieve the log data from the pipeline with the pipeline `logs` method.  Note that for **each** inference request, the logs return **one entry per model**.  For this example, for one inference request three log entries will be created."
   ]
  },
  {
   "cell_type": "code",
   "execution_count": 58,
   "metadata": {},
   "outputs": [
    {
     "data": {
      "text/html": [
       "<div>\n",
       "<style scoped>\n",
       "    .dataframe tbody tr th:only-of-type {\n",
       "        vertical-align: middle;\n",
       "    }\n",
       "\n",
       "    .dataframe tbody tr th {\n",
       "        vertical-align: top;\n",
       "    }\n",
       "\n",
       "    .dataframe thead th {\n",
       "        text-align: right;\n",
       "    }\n",
       "</style>\n",
       "<table border=\"1\" class=\"dataframe\">\n",
       "  <thead>\n",
       "    <tr style=\"text-align: right;\">\n",
       "      <th></th>\n",
       "      <th>time</th>\n",
       "      <th>message</th>\n",
       "    </tr>\n",
       "  </thead>\n",
       "  <tbody>\n",
       "    <tr>\n",
       "      <th>0</th>\n",
       "      <td>2023-02-21 18:35:07.475</td>\n",
       "      <td>{\"model_name\":\"ccfraudxgb\",\"model_version\":\"58626694-7866-4130-90ca-5c734f165ca0\",\"pipeline_name\":\"cc-shadow\",\"outputs\":[{\"Float\":{\"v\":1,\"dim\":[1,1],\"data\":[0.0005066990852355957]}}],\"elapsed\":85791,\"time\":1677004506471,\"original_data\":null,\"check_failures\":[],\"shadow_data\":{}}</td>\n",
       "    </tr>\n",
       "    <tr>\n",
       "      <th>1</th>\n",
       "      <td>2023-02-21 18:35:07.475</td>\n",
       "      <td>{\"model_name\":\"ccfraudrf\",\"model_version\":\"4c304304-c980-41da-ac43-64b32522388d\",\"pipeline_name\":\"cc-shadow\",\"outputs\":[{\"Float\":{\"v\":1,\"dim\":[1,1],\"data\":[1.0]}}],\"elapsed\":208060,\"time\":1677004506471,\"original_data\":null,\"check_failures\":[],\"shadow_data\":{}}</td>\n",
       "    </tr>\n",
       "    <tr>\n",
       "      <th>2</th>\n",
       "      <td>2023-02-28 19:52:39.752</td>\n",
       "      <td>{\"model_name\":\"ccfraudxgb\",\"model_version\":\"fbba3bba-3a5b-4915-a72c-c44e0abc4a50\",\"pipeline_name\":\"cc-shadow\",\"outputs\":[{\"Float\":{\"v\":1,\"dim\":[1,1],\"data\":[0.0005066990852355957]}}],\"elapsed\":43014438,\"time\":1677613958703,\"original_data\":null,\"check_failures\":[],\"shadow_data\":{}}</td>\n",
       "    </tr>\n",
       "    <tr>\n",
       "      <th>3</th>\n",
       "      <td>2023-02-28 19:52:39.752</td>\n",
       "      <td>{\"model_name\":\"ccfraudrf\",\"model_version\":\"21a697c0-0a81-43be-b9f3-7f08bc9e130c\",\"pipeline_name\":\"cc-shadow\",\"outputs\":[{\"Float\":{\"v\":1,\"dim\":[1,1],\"data\":[1.0]}}],\"elapsed\":11392050,\"time\":1677613958703,\"original_data\":null,\"check_failures\":[],\"shadow_data\":{}}</td>\n",
       "    </tr>\n",
       "    <tr>\n",
       "      <th>4</th>\n",
       "      <td>2023-02-21 19:16:19.256</td>\n",
       "      <td>{\"model_name\":\"ccfraudxgb\",\"model_version\":\"e887ffe9-1333-4e28-8104-f4d31a025866\",\"pipeline_name\":\"cc-shadow\",\"outputs\":[{\"Float\":{\"v\":1,\"dim\":[1,1],\"data\":[0.0005066990852355957]}}],\"elapsed\":128140,\"time\":1677006978253,\"original_data\":null,\"check_failures\":[],\"shadow_data\":{}}</td>\n",
       "    </tr>\n",
       "    <tr>\n",
       "      <th>5</th>\n",
       "      <td>2023-02-21 19:16:19.256</td>\n",
       "      <td>{\"model_name\":\"ccfraudrf\",\"model_version\":\"5d33c57f-8bc4-4191-b040-d796529f2973\",\"pipeline_name\":\"cc-shadow\",\"outputs\":[{\"Float\":{\"v\":1,\"dim\":[1,1],\"data\":[1.0]}}],\"elapsed\":189089,\"time\":1677006978253,\"original_data\":null,\"check_failures\":[],\"shadow_data\":{}}</td>\n",
       "    </tr>\n",
       "  </tbody>\n",
       "</table>\n",
       "</div>"
      ],
      "text/plain": [
       "                     time  \\\n",
       "0 2023-02-21 18:35:07.475   \n",
       "1 2023-02-21 18:35:07.475   \n",
       "2 2023-02-28 19:52:39.752   \n",
       "3 2023-02-28 19:52:39.752   \n",
       "4 2023-02-21 19:16:19.256   \n",
       "5 2023-02-21 19:16:19.256   \n",
       "\n",
       "                                                                                                                                                                                                                                                                                     message  \n",
       "0     {\"model_name\":\"ccfraudxgb\",\"model_version\":\"58626694-7866-4130-90ca-5c734f165ca0\",\"pipeline_name\":\"cc-shadow\",\"outputs\":[{\"Float\":{\"v\":1,\"dim\":[1,1],\"data\":[0.0005066990852355957]}}],\"elapsed\":85791,\"time\":1677004506471,\"original_data\":null,\"check_failures\":[],\"shadow_data\":{}}  \n",
       "1                       {\"model_name\":\"ccfraudrf\",\"model_version\":\"4c304304-c980-41da-ac43-64b32522388d\",\"pipeline_name\":\"cc-shadow\",\"outputs\":[{\"Float\":{\"v\":1,\"dim\":[1,1],\"data\":[1.0]}}],\"elapsed\":208060,\"time\":1677004506471,\"original_data\":null,\"check_failures\":[],\"shadow_data\":{}}  \n",
       "2  {\"model_name\":\"ccfraudxgb\",\"model_version\":\"fbba3bba-3a5b-4915-a72c-c44e0abc4a50\",\"pipeline_name\":\"cc-shadow\",\"outputs\":[{\"Float\":{\"v\":1,\"dim\":[1,1],\"data\":[0.0005066990852355957]}}],\"elapsed\":43014438,\"time\":1677613958703,\"original_data\":null,\"check_failures\":[],\"shadow_data\":{}}  \n",
       "3                     {\"model_name\":\"ccfraudrf\",\"model_version\":\"21a697c0-0a81-43be-b9f3-7f08bc9e130c\",\"pipeline_name\":\"cc-shadow\",\"outputs\":[{\"Float\":{\"v\":1,\"dim\":[1,1],\"data\":[1.0]}}],\"elapsed\":11392050,\"time\":1677613958703,\"original_data\":null,\"check_failures\":[],\"shadow_data\":{}}  \n",
       "4    {\"model_name\":\"ccfraudxgb\",\"model_version\":\"e887ffe9-1333-4e28-8104-f4d31a025866\",\"pipeline_name\":\"cc-shadow\",\"outputs\":[{\"Float\":{\"v\":1,\"dim\":[1,1],\"data\":[0.0005066990852355957]}}],\"elapsed\":128140,\"time\":1677006978253,\"original_data\":null,\"check_failures\":[],\"shadow_data\":{}}  \n",
       "5                       {\"model_name\":\"ccfraudrf\",\"model_version\":\"5d33c57f-8bc4-4191-b040-d796529f2973\",\"pipeline_name\":\"cc-shadow\",\"outputs\":[{\"Float\":{\"v\":1,\"dim\":[1,1],\"data\":[1.0]}}],\"elapsed\":189089,\"time\":1677006978253,\"original_data\":null,\"check_failures\":[],\"shadow_data\":{}}  "
      ]
     },
     "execution_count": 58,
     "metadata": {},
     "output_type": "execute_result"
    }
   ],
   "source": [
    "pipeline.logs()"
   ]
  },
  {
   "attachments": {},
   "cell_type": "markdown",
   "metadata": {},
   "source": [
    "### View Logs Per Model\n",
    "\n",
    "Another way of displaying the logs would be to specify the model.\n",
    "\n",
    "For Arrow enabled Wallaroo instances, the log files are returned as a DataFrame, and the models can be specified by rows.  The following code will display the log data based based on the model name and the inference output for that specific model.\n",
    "\n",
    "For arrow disabled Wallaroo instances, to view the inputs and results for the shadow deployed models, use the pipeline `logs_shadow_deploy()` method.  The results will be grouped by the inputs."
   ]
  },
  {
   "cell_type": "code",
   "execution_count": 59,
   "metadata": {},
   "outputs": [
    {
     "data": {
      "text/plain": [
       "['ccfraudxgb', '0.0005066990852355957']"
      ]
     },
     "metadata": {},
     "output_type": "display_data"
    },
    {
     "data": {
      "text/plain": [
       "['ccfraudrf', '1.0']"
      ]
     },
     "metadata": {},
     "output_type": "display_data"
    },
    {
     "data": {
      "text/plain": [
       "['ccfraudxgb', '0.0005066990852355957']"
      ]
     },
     "metadata": {},
     "output_type": "display_data"
    },
    {
     "data": {
      "text/plain": [
       "['ccfraudrf', '1.0']"
      ]
     },
     "metadata": {},
     "output_type": "display_data"
    },
    {
     "data": {
      "text/plain": [
       "['ccfraudxgb', '0.0005066990852355957']"
      ]
     },
     "metadata": {},
     "output_type": "display_data"
    },
    {
     "data": {
      "text/plain": [
       "['ccfraudrf', '1.0']"
      ]
     },
     "metadata": {},
     "output_type": "display_data"
    }
   ],
   "source": [
    "import json\n",
    "if arrowEnabled is True:\n",
    "    logs = pipeline.logs()\n",
    "    for index, row in logs.iterrows():\n",
    "        convertedjson = json.loads(row['message'])\n",
    "        displayModelName = convertedjson['model_name']\n",
    "        displayOutputs = str(convertedjson['outputs'][0]['Float']['data'][0])\n",
    "        display([displayModelName,displayOutputs])\n",
    "else:\n",
    "    logs = pipeline.logs()\n",
    "    for log in logs:\n",
    "        display(log.model_name, log.output) \n",
    "    shadow_logs = pipeline.logs_shadow_deploy()\n",
    "    display(shadow_logs)"
   ]
  },
  {
   "cell_type": "markdown",
   "metadata": {},
   "source": [
    "### Undeploy the Pipeline\n",
    "\n",
    "With the tutorial complete, we undeploy the pipeline and return the resources back to the system."
   ]
  },
  {
   "cell_type": "code",
   "execution_count": 61,
   "metadata": {},
   "outputs": [
    {
     "data": {
      "text/html": [
       "<table><tr><th>name</th> <td>cc-shadow</td></tr><tr><th>created</th> <td>2023-02-21 18:31:11.386647+00:00</td></tr><tr><th>last_updated</th> <td>2023-03-01 22:07:40.091421+00:00</td></tr><tr><th>deployed</th> <td>False</td></tr><tr><th>tags</th> <td></td></tr><tr><th>versions</th> <td>d71f7de6-571c-4e1a-b2cc-2f60ec9eb9d9, 91e7c8d8-857e-46a6-8436-0a58389d4370, c285295c-931b-44e5-a880-b6fcb71c174d, 75103104-a9af-4e26-8d82-20d3e2cc97dd, 44d856cb-c8b6-4c86-b5cd-b5475d4e5cab, f02cfeb6-11df-4377-ab17-1c579f683a16, 47432474-5313-46ce-a890-ca67088d2651, 88ed5b3c-ede5-441c-94a6-cf5ebbd926e2, b9579512-de67-4aeb-98e8-a115343b774c</td></tr><tr><th>steps</th> <td>ccfraudrf</td></tr></table>"
      ],
      "text/plain": [
       "{'name': 'cc-shadow', 'create_time': datetime.datetime(2023, 2, 21, 18, 31, 11, 386647, tzinfo=tzutc()), 'definition': \"[{'ModelInference': {'models': [{'name': 'ccfraudlstm', 'version': 'cd40f808-bfb4-4f14-a31a-29787c7dc0ea', 'sha': 'bc85ce596945f876256f41515c7501c399fd97ebcb9ab3dd41bf03f8937b4507'}, {'name': 'ccfraudxgb', 'version': 'ec521d72-f295-45c1-b396-7cc38ace9eac', 'sha': '054810e3e3ebbdd34438d9c1a08ed6a6680ef10bf97b9223f78ebf38e14b3b52'}, {'name': 'ccfraudrf', 'version': '43ae7f17-31ef-49bd-8b0f-77aa317d0fe1', 'sha': '438cd2762590b712106235dc4d635ca50b21304f42ee9529c7acd0b0aecac624'}]}}, {'AuditResults': {'from': 1, 'to': None}}, {'MultiOut': {}}]\"}"
      ]
     },
     "execution_count": 61,
     "metadata": {},
     "output_type": "execute_result"
    }
   ],
   "source": [
    "pipeline.undeploy()"
   ]
  }
 ],
 "metadata": {
  "kernelspec": {
   "display_name": "arrowtests",
   "language": "python",
   "name": "python3"
  },
  "language_info": {
   "codemirror_mode": {
    "name": "ipython",
    "version": 3
   },
   "file_extension": ".py",
   "mimetype": "text/x-python",
   "name": "python",
   "nbconvert_exporter": "python",
   "pygments_lexer": "ipython3",
   "version": "3.8.12"
  },
  "vscode": {
   "interpreter": {
    "hash": "7dda4bf3640b7fafcd1648658b879b4cc9f6ba6084e8fb356fdaaa1a461d1690"
   }
  }
 },
 "nbformat": 4,
 "nbformat_minor": 4
}
