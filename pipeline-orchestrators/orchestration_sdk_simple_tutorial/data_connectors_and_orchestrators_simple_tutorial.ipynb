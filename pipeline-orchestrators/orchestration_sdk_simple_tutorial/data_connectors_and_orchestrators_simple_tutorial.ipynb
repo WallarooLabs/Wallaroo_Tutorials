{
 "cells": [
  {
   "attachments": {},
   "cell_type": "markdown",
   "id": "54d6daff",
   "metadata": {},
   "source": [
    "This can be downloaded as part of the [Wallaroo Tutorials repository](https://github.com/WallarooLabs/quickstartguide_samples/blob/20230314_2023.2_updates/pipeline-orchestrators/orchestration_sdk_simple_tutorial).\n",
    "\n",
    "## Pipeline Orchestrations Simple Tutorial\n",
    "\n",
    "This tutorial provides a quick set of methods and examples regarding Wallaroo Connections and Wallaroo ML Workload Orchestration.  For full details, see the Wallaroo Documentation site.\n",
    "\n",
    "Wallaroo provides Data Connections and ML Workload Orchestrations to provide organizations with a method of creating and managing automated tasks that can either be run on demand or a regular schedule.\n",
    "\n",
    "## Definitions\n",
    "\n",
    "* **Orchestration**: A set of instructions written as a python script with a requirements library.  Orchestrations are uploaded to the Wallaroo instance as a .zip file.\n",
    "* **Task**: An implementation of an orchestration.  Tasks are run either once when requested, on a repeating schedule, or as a service.\n",
    "* **Connection**: Definitions set by MLOps engineers that are used by other Wallaroo users for connection information to a data source.  Usually paired with orchestrations.\n",
    "\n",
    "## Tutorial Goals\n",
    "\n",
    "The tutorial will demonstrate the following:\n",
    "\n",
    "1. Create a Wallaroo connection to retrieving information from an external source.\n",
    "1. Upload Wallaroo ML Workload Orchestration.\n",
    "1. Run the orchestration once as a Run Once Task and verify that the information was saved the pipeline logs.\n",
    "1. Schedule the orchestration as a Scheduled Task and verify that the information was saved to the pipeline logs."
   ]
  },
  {
   "attachments": {},
   "cell_type": "markdown",
   "id": "67e1bb26",
   "metadata": {},
   "source": [
    "## Prerequisites\n",
    "\n",
    "* An installed Wallaroo instance.\n",
    "* The following Python libraries installed.  These are included by default in a Wallaroo instance's JupyterHub service.\n",
    "  * `os`\n",
    "  * [`wallaroo`](https://pypi.org/project/wallaroo/): The Wallaroo SDK. Included with the Wallaroo JupyterHub service by default.\n",
    "  * [`pandas`](https://pypi.org/project/pandas/): Pandas, mainly used for Pandas DataFrame\n",
    "  * [`pyarrow`](https://pypi.org/project/pyarrow/): PyArrow for Apache Arrow support"
   ]
  },
  {
   "attachments": {},
   "cell_type": "markdown",
   "id": "a2b09330-0408-45eb-b321-b48b65041789",
   "metadata": {},
   "source": [
    "## Initial Steps\n",
    "\n",
    "For this tutorial, we'll create a workspace, upload our sample model and deploy a pipeline.  We'll perform some quick sample inferences to verify that everything it working.\n",
    "\n",
    "### Load Libraries\n",
    "\n",
    "Here we'll import the various libraries we'll use for the tutorial."
   ]
  },
  {
   "cell_type": "code",
   "execution_count": 1,
   "id": "43ee5f42",
   "metadata": {},
   "outputs": [],
   "source": [
    "import wallaroo\n",
    "from wallaroo.object import EntityNotFoundError, RequiredAttributeMissing\n",
    "\n",
    "# to display dataframe tables\n",
    "from IPython.display import display\n",
    "# used to display dataframe information without truncating\n",
    "import pandas as pd\n",
    "pd.set_option('display.max_colwidth', None)\n",
    "import pyarrow as pa\n",
    "\n",
    "import os\n",
    "# Used for the Wallaroo SDK version 2023.1\n",
    "os.environ[\"ARROW_ENABLED\"]=\"True\"\n",
    "\n",
    "import time"
   ]
  },
  {
   "attachments": {},
   "cell_type": "markdown",
   "id": "ae645fd0",
   "metadata": {},
   "source": [
    "### Connect to the Wallaroo Instance\n",
    "\n",
    "The first step is to connect to Wallaroo through the Wallaroo client.  The Python library is included in the Wallaroo install and available through the Jupyter Hub interface provided with your Wallaroo environment.\n",
    "\n",
    "This is accomplished using the `wallaroo.Client()` command, which provides a URL to grant the SDK permission to your specific Wallaroo environment.  When displayed, enter the URL into a browser and confirm permissions.  Store the connection into a variable that can be referenced later.\n",
    "\n",
    "If logging into the Wallaroo instance through the internal JupyterHub service, use `wl = wallaroo.Client()`.  If logging in externally, update the `wallarooPrefix` and `wallarooSuffix` variables with the proper DNS information.  For more information on Wallaroo DNS settings, see the [Wallaroo DNS Integration Guide](https://docs.wallaroo.ai/wallaroo-operations-guide/wallaroo-configuration/wallaroo-dns-guide/)."
   ]
  },
  {
   "cell_type": "code",
   "execution_count": 2,
   "id": "e9d19a6e",
   "metadata": {},
   "outputs": [],
   "source": [
    "# Login through local Wallaroo instance\n",
    "\n",
    "# wl = wallaroo.Client()"
   ]
  },
  {
   "cell_type": "code",
   "execution_count": 4,
   "id": "06a981ef",
   "metadata": {},
   "outputs": [],
   "source": [
    "# Setting variables for later steps\n",
    "\n",
    "workspace_name = 'simpleorchestrationworkspace'\n",
    "pipeline_name = 'simpleorchestrationpipeline'\n",
    "model_name = 'simpleorchestrationmodel'\n",
    "model_file_name = './models/rf_model.onnx'\n",
    "\n",
    "inference_connection_name = \"external_inference_connection\"\n",
    "inference_connection_type = \"HTTP\"\n",
    "inference_connection_argument = {'host':'https://github.com/WallarooLabs/Wallaroo_Tutorials/blob/20230314_2023.2_updates/wallaroo-testing-tutorials/houseprice-saga/data/xtest-1k.arrow?raw=true'}"
   ]
  },
  {
   "cell_type": "code",
   "execution_count": 5,
   "id": "e47b239e",
   "metadata": {},
   "outputs": [
    {
     "name": "stdout",
     "output_type": "stream",
     "text": [
      "Please log into the following URL in a web browser:\n",
      "\n",
      "\thttps://doc-test.keycloak.wallaroocommunity.ninja/auth/realms/master/device?user_code=ZGMT-JHQB\n",
      "\n",
      "Login successful!\n"
     ]
    }
   ],
   "source": [
    "wallarooPrefix = \"doc-test\"\n",
    "wallarooSuffix = \"wallaroocommunity.ninja\"\n",
    "\n",
    "wl = wallaroo.Client(api_endpoint=f\"https://{wallarooPrefix}.api.{wallarooSuffix}\", \n",
    "                    auth_endpoint=f\"https://{wallarooPrefix}.keycloak.{wallarooSuffix}\", \n",
    "                    auth_type=\"sso\")"
   ]
  },
  {
   "attachments": {},
   "cell_type": "markdown",
   "id": "9c46c722",
   "metadata": {},
   "source": [
    "### Helper Methods\n",
    "\n",
    "The following helper methods are used to either create or get workspaces, pipelines, and connections."
   ]
  },
  {
   "cell_type": "code",
   "execution_count": 6,
   "id": "0361a9db",
   "metadata": {},
   "outputs": [],
   "source": [
    "# helper methods to retrieve workspaces and pipelines\n",
    "\n",
    "def get_workspace(name):\n",
    "    workspace = None\n",
    "    for ws in wl.list_workspaces():\n",
    "        if ws.name() == name:\n",
    "            workspace= ws\n",
    "    if(workspace == None):\n",
    "        workspace = wl.create_workspace(name)\n",
    "    return workspace\n",
    "\n",
    "def get_pipeline(name):\n",
    "    try:\n",
    "        pipeline = wl.pipelines_by_name(name)[0]\n",
    "    except EntityNotFoundError:\n",
    "        pipeline = wl.build_pipeline(name)\n",
    "    return pipeline\n",
    "\n",
    "def get_connection(name, connection_type, connection_arguments):\n",
    "    try:\n",
    "        connection = wl.get_connection(name)\n",
    "    except RequiredAttributeMissing:\n",
    "        connection =wl.create_connection(name, \n",
    "                  connection_type, \n",
    "                  connection_arguments)\n",
    "    return connection\n"
   ]
  },
  {
   "attachments": {},
   "cell_type": "markdown",
   "id": "98b78cf9",
   "metadata": {},
   "source": [
    "### Create the Workspace and Pipeline\n",
    "\n",
    "We'll now create our workspace and pipeline for the tutorial.  If this tutorial has been run previously, then this will retrieve the existing ones with the assumption they're for us with this tutorial.\n",
    "\n",
    "We'll set the retrieved workspace as the current workspace in the SDK, so all commands will default to that workspace."
   ]
  },
  {
   "cell_type": "code",
   "execution_count": 7,
   "id": "59aa845d",
   "metadata": {},
   "outputs": [],
   "source": [
    "workspace = get_workspace(workspace_name)\n",
    "wl.set_current_workspace(workspace)\n",
    "\n",
    "pipeline = get_pipeline(pipeline_name)"
   ]
  },
  {
   "attachments": {},
   "cell_type": "markdown",
   "id": "8a9fc274",
   "metadata": {},
   "source": [
    "### Upload the Model and Deploy Pipeline\n",
    "\n",
    "We'll upload our model into our sample workspace, then add it as a pipeline step before deploying the pipeline to it's ready to accept inference requests."
   ]
  },
  {
   "cell_type": "code",
   "execution_count": 8,
   "id": "f6a69610",
   "metadata": {},
   "outputs": [
    {
     "data": {
      "text/html": [
       "<table><tr><th>name</th> <td>simpleorchestrationpipeline</td></tr><tr><th>created</th> <td>2023-05-17 14:02:37.838948+00:00</td></tr><tr><th>last_updated</th> <td>2023-05-17 14:02:37.838948+00:00</td></tr><tr><th>deployed</th> <td>(none)</td></tr><tr><th>tags</th> <td></td></tr><tr><th>versions</th> <td>966ead9a-4af4-4cb1-bc79-73264c14f5df</td></tr><tr><th>steps</th> <td></td></tr></table>"
      ],
      "text/plain": [
       "{'name': 'simpleorchestrationpipeline', 'create_time': datetime.datetime(2023, 5, 17, 14, 2, 37, 838948, tzinfo=tzutc()), 'definition': \"[{'ModelInference': {'models': [{'name': 'simpleorchestrationmodel', 'version': '16f080ac-0d0a-486b-a653-a22f9604d6dd', 'sha': 'e22a0831aafd9917f3cc87a15ed267797f80e2afa12ad7d8810ca58f173b8cc6'}]}}]\"}"
      ]
     },
     "execution_count": 8,
     "metadata": {},
     "output_type": "execute_result"
    }
   ],
   "source": [
    "# Upload the model\n",
    "\n",
    "housing_model_control = wl.upload_model(model_name, model_file_name).configure()\n",
    "\n",
    "# Add the model as a pipeline step\n",
    "\n",
    "pipeline.add_model_step(housing_model_control)"
   ]
  },
  {
   "cell_type": "code",
   "execution_count": 9,
   "id": "a484796e",
   "metadata": {},
   "outputs": [
    {
     "data": {
      "text/html": [
       "<table><tr><th>name</th> <td>simpleorchestrationpipeline</td></tr><tr><th>created</th> <td>2023-05-17 14:02:37.838948+00:00</td></tr><tr><th>last_updated</th> <td>2023-05-17 14:02:40.594072+00:00</td></tr><tr><th>deployed</th> <td>True</td></tr><tr><th>tags</th> <td></td></tr><tr><th>versions</th> <td>559c19e7-6921-4d25-ba1d-4f70e76186e8, 966ead9a-4af4-4cb1-bc79-73264c14f5df</td></tr><tr><th>steps</th> <td>simpleorchestrationmodel</td></tr></table>"
      ],
      "text/plain": [
       "{'name': 'simpleorchestrationpipeline', 'create_time': datetime.datetime(2023, 5, 17, 14, 2, 37, 838948, tzinfo=tzutc()), 'definition': \"[{'ModelInference': {'models': [{'name': 'simpleorchestrationmodel', 'version': '16f080ac-0d0a-486b-a653-a22f9604d6dd', 'sha': 'e22a0831aafd9917f3cc87a15ed267797f80e2afa12ad7d8810ca58f173b8cc6'}]}}]\"}"
      ]
     },
     "execution_count": 9,
     "metadata": {},
     "output_type": "execute_result"
    }
   ],
   "source": [
    "#deploy the pipeline\n",
    "pipeline.deploy()"
   ]
  },
  {
   "attachments": {},
   "cell_type": "markdown",
   "id": "573bc347",
   "metadata": {},
   "source": [
    "## Create Connections\n",
    "\n",
    "We will create the data source connection via the Wallaroo client command `create_connection`.\n",
    "\n",
    "Connections are created with the Wallaroo client command [`create_connection`](https://staging.docs.wallaroo.ai/wallaroo-developer-guides/wallaroo-sdk-guides/wallaroo-sdk-essentials-guide/wallaroo-sdk-essentials-ml-workload-orchestration/#create-orchestration) with the following parameters.\n",
    "\n",
    "| Parameter | Type | Description |\n",
    "| --- | --- | ---|\n",
    "| **name** | string (Required) | The name of the connection. This must be unique - **if submitting the name of an existing** connection it will return an error. |\n",
    "| **type** | string (Required) | The user defined type of connection. |\n",
    "| **details** | Dict (Required) | User defined configuration details for the data connection.  These can be `{'username':'dataperson', 'password':'datapassword', 'port': 3339}`, or `{'token':'abcde123==', 'host':'example.com', 'port:1234'}`, or other user defined combinations.  |\n",
    "\n",
    "* **IMPORTANT NOTE**:  Data connections names **must** be unique.  Attempting to create a data connection with the same `name` as an existing data connection will result in an error.\n",
    "\n",
    "We'll also create a data connection named `inference_results_connection` with our helper function `get_connection` that will either create **or** retrieve a connection if it already exists.  From there we'll create out connections:  \n",
    "\n",
    "* `houseprice_arrow_table`: An Apache Arrow file stored on GitHub that will be used for our inference input."
   ]
  },
  {
   "cell_type": "code",
   "execution_count": 10,
   "id": "5c10ee71",
   "metadata": {},
   "outputs": [
    {
     "data": {
      "text/html": [
       "\n",
       "        <table>\n",
       "          <tr>\n",
       "            <th>Field</th>\n",
       "            <th>Value</th>\n",
       "          </tr>\n",
       "          <tr>\n",
       "            <td>Name</td><td>external_inference_connection</td>\n",
       "          </tr>\n",
       "          <tr>\n",
       "            <td>Connection Type</td><td>HTTP</td>\n",
       "          </tr>\n",
       "          <tr>\n",
       "            <td>Details</td><td>*****</td>\n",
       "          </tr>\n",
       "          <tr>\n",
       "            <td>Created At</td><td>2023-05-17T14:03:08.288200+00:00</td>\n",
       "          </tr>\n",
       "        </table>\n",
       "        "
      ],
      "text/plain": [
       "<wallaroo.connection.Connection at 0x17f732c40>"
      ]
     },
     "execution_count": 10,
     "metadata": {},
     "output_type": "execute_result"
    }
   ],
   "source": [
    "get_connection(inference_connection_name, inference_connection_type, inference_connection_argument)"
   ]
  },
  {
   "attachments": {},
   "cell_type": "markdown",
   "id": "6caf6e64",
   "metadata": {},
   "source": [
    "### Get Connection by Name\n",
    "\n",
    "The Wallaroo client method `get_connection(name)` retrieves the connection that matches the `name` parameter.  We'll retrieve our connection and store it as `inference_source_connection`."
   ]
  },
  {
   "cell_type": "code",
   "execution_count": 11,
   "id": "6cc80cd3",
   "metadata": {},
   "outputs": [
    {
     "data": {
      "text/html": [
       "\n",
       "        <table>\n",
       "          <tr>\n",
       "            <th>Field</th>\n",
       "            <th>Value</th>\n",
       "          </tr>\n",
       "          <tr>\n",
       "            <td>Name</td><td>external_inference_connection</td>\n",
       "          </tr>\n",
       "          <tr>\n",
       "            <td>Connection Type</td><td>HTTP</td>\n",
       "          </tr>\n",
       "          <tr>\n",
       "            <td>Details</td><td>*****</td>\n",
       "          </tr>\n",
       "          <tr>\n",
       "            <td>Created At</td><td>2023-05-17T14:03:08.288200+00:00</td>\n",
       "          </tr>\n",
       "        </table>\n",
       "        "
      ],
      "text/plain": [
       "<wallaroo.connection.Connection at 0x17ebb1190>"
      ]
     },
     "metadata": {},
     "output_type": "display_data"
    }
   ],
   "source": [
    "inference_source_connection = wl.get_connection(name=\"external_inference_connection\")\n",
    "display(inference_source_connection)"
   ]
  },
  {
   "attachments": {},
   "cell_type": "markdown",
   "id": "884d3171",
   "metadata": {},
   "source": [
    "### Add Connection to Workspace\n",
    "\n",
    "The method Workspace [`add_connection(connection_name)`](https://staging.docs.wallaroo.ai/wallaroo-developer-guides/wallaroo-sdk-guides/wallaroo-sdk-essentials-guide/wallaroo-sdk-essentials-dataconnectors/#add-data-connection-to-workspace) adds a Data Connection to a workspace, and takes the following parameters.\n",
    "\n",
    "| Parameter | Type | Description |\n",
    "| --- | --- | ---|\n",
    "| **name** | string (Required) | The name of the Data Connection |\n",
    "\n",
    "We'll add both connections to our sample workspace, then list the connections available to the workspace to confirm."
   ]
  },
  {
   "cell_type": "code",
   "execution_count": 12,
   "id": "6d674d81",
   "metadata": {},
   "outputs": [
    {
     "data": {
      "text/html": [
       "<table><tr><th>name</th><th>connection type</th><th>details</th><th>created at</th></tr><tr><td>external_inference_connection</td><td>HTTP</td><td>*****</td><td>2023-05-17T14:03:08.288200+00:00</td></tr></table>"
      ],
      "text/plain": [
       "[<wallaroo.connection.Connection at 0x17f7697c0>]"
      ]
     },
     "execution_count": 12,
     "metadata": {},
     "output_type": "execute_result"
    }
   ],
   "source": [
    "workspace.add_connection(\"external_inference_connection\")\n",
    "workspace.list_connections()"
   ]
  },
  {
   "attachments": {},
   "cell_type": "markdown",
   "id": "b8d44dc7",
   "metadata": {},
   "source": [
    "## Wallaroo ML Workload Orchestration Example\n",
    "\n",
    "With the pipeline deployed and our connections set, we will now generate our ML Workload Orchestration.  See the [Wallaroo ML Workload Orchestrations guide](https://staging.docs.wallaroo.ai/wallaroo-developer-guides/wallaroo-sdk-guides/wallaroo-sdk-essentials-guide/wallaroo-sdk-essentials-ml-workload-orchestration/) for full details.\n",
    "\n",
    "Orchestrations are uploaded to the Wallaroo instance as a ZIP file with the following requirements:\n",
    "\n",
    "| Parameter | Type | Description |\n",
    "|---|---|---|\n",
    "| **User Code** | (*Required*) Python script as `.py` files | If `main.py` exists, then that will be used as the task entrypoint. Otherwise, the **first** `main.py` found in any subdirectory will be used as the entrypoint. |\n",
    "| Python Library Requirements | (*Optional*) `requirements.txt` file in the [requirements file format](https://pip.pypa.io/en/stable/reference/requirements-file-format/).  A standard Python requirements.txt for any dependencies to be provided in the task environment. The Wallaroo SDK will already be present and **should not be included in the requirements.txt**. Multiple requirements.txt files are not allowed. |\n",
    "| Other artifacts | &nbsp; | Other artifacts such as files, data, or code to support the orchestration.\n",
    "\n",
    "For our example, our orchestration will:\n",
    "\n",
    "1. Use the `inference_results_connection` to open a HTTP Get connection to the inference data file and use it in an inference request in the deployed pipeline.\n",
    "1. Submit the inference results to the location specified in the `external_inference_connection`.\n",
    "\n",
    "This sample script is stored in `remote_inference/main.py` with an empty `requirements.txt` file, and packaged into the orchestration as `./remote_inference/remote_inference.zip`.  We'll display the steps in uploading the orchestration to the Wallaroo instance.\n",
    "\n",
    "Note that the orchestration assumes the pipeline is already deployed."
   ]
  },
  {
   "attachments": {},
   "cell_type": "markdown",
   "id": "c54d9602",
   "metadata": {},
   "source": [
    "### Upload the Orchestration\n",
    "\n",
    "Orchestrations are uploaded with the Wallaroo client `upload_orchestration(path)` method with the following parameters.\n",
    "\n",
    "| Parameter | Type | Description |\n",
    "| --- | --- | ---|\n",
    "| **path** | string (Required) | The path to the ZIP file to be uploaded. |\n",
    "\n",
    "Once uploaded, the deployment will be prepared and any requirements will be downloaded and installed.\n",
    "\n",
    "\n",
    "For this example, the orchestration `./remote_inference/remote_inference.zip` will be uploaded and saved to the variable `orchestration`.\n",
    "\n",
    "### Orchestration Status\n",
    "\n",
    "We will loop until the uploaded orchestration's `status` displays `ready`."
   ]
  },
  {
   "cell_type": "code",
   "execution_count": 34,
   "id": "00e6e6e5",
   "metadata": {},
   "outputs": [
    {
     "name": "stdout",
     "output_type": "stream",
     "text": [
      "pending_packaging\n",
      "packaging\n",
      "packaging\n",
      "packaging\n",
      "packaging\n",
      "packaging\n",
      "packaging\n",
      "packaging\n"
     ]
    }
   ],
   "source": [
    "orchestration = wl.upload_orchestration(path=\"./remote_inference/remote_inference.zip\")\n",
    "\n",
    "while orchestration.status() != 'ready':\n",
    "    print(orchestration.status())\n",
    "    time.sleep(5)"
   ]
  },
  {
   "cell_type": "code",
   "execution_count": 35,
   "id": "45beade8",
   "metadata": {},
   "outputs": [
    {
     "data": {
      "text/html": [
       "<table><tr><th>id</th><th>name</th><th>status</th><th>filename</th><th>sha</th><th>created at</th><th>updated at</th></tr><tr><td>2c823bf7-8a54-490b-9d8e-b58ff4fe5967</td><td>test</td><td>ready</td><td>remote_inference.zip</td><td>0c4e0e...8ad198</td><td>2023-17-May 14:05:06</td><td>2023-17-May 14:05:56</td></tr><tr><td>546dd685-70f8-46b4-8fac-a6f56c58dc75</td><td>byteupload</td><td>ready</td><td>inference_test.zip</td><td>0c4e0e...8ad198</td><td>2023-17-May 14:10:22</td><td>2023-17-May 14:11:11</td></tr><tr><td>69017c39-df42-4701-b2a2-40753328f9e0</td><td>nofilename</td><td>ready</td><td>_</td><td>0c4e0e...8ad198</td><td>2023-17-May 14:11:41</td><td>2023-17-May 14:12:28</td></tr><tr><td>af5e35d0-aedc-407e-94c2-0886c4cff95d</td><td>uploadedbytesdemo</td><td>ready</td><td>inferencetest.zip</td><td>0c4e0e...8ad198</td><td>2023-17-May 14:13:43</td><td>2023-17-May 14:14:30</td></tr><tr><td>ec0777d0-695c-4f91-8000-53be6ded2ed3</td><td>noarrow</td><td>ready</td><td>remote_inference.zip</td><td>4cfab7...e0bde3</td><td>2023-17-May 14:26:34</td><td>2023-17-May 14:27:19</td></tr><tr><td>75d75d27-d48d-409e-b77c-4dbbf491dda3</td><td>None</td><td>ready</td><td>remote_inference.zip</td><td>4cfab7...e0bde3</td><td>2023-17-May 14:28:49</td><td>2023-17-May 14:29:33</td></tr><tr><td>fcd721b5-b080-4632-bbe9-b2f092831787</td><td>None</td><td>ready</td><td>remote_inference.zip</td><td>f93de5...34231d</td><td>2023-17-May 14:40:36</td><td>2023-17-May 14:41:19</td></tr></table>"
      ],
      "text/plain": [
       "[<wallaroo.orchestration.Orchestration at 0x17f769c10>,\n",
       " <wallaroo.orchestration.Orchestration at 0x17f6af1c0>,\n",
       " <wallaroo.orchestration.Orchestration at 0x17f6f53a0>,\n",
       " <wallaroo.orchestration.Orchestration at 0x17f9a8a90>,\n",
       " <wallaroo.orchestration.Orchestration at 0x17f9a8fa0>,\n",
       " <wallaroo.orchestration.Orchestration at 0x17f9a8a30>,\n",
       " <wallaroo.orchestration.Orchestration at 0x17f9a8ac0>]"
      ]
     },
     "execution_count": 35,
     "metadata": {},
     "output_type": "execute_result"
    }
   ],
   "source": [
    "wl.list_orchestrations()"
   ]
  },
  {
   "attachments": {},
   "cell_type": "markdown",
   "id": "7f394154",
   "metadata": {},
   "source": [
    "### Upload Orchestration via File Object\n",
    "\n",
    "Another method to upload the orchestration is as a file object.  For that, we will open the zip file as a binary, then upload it using the `bytes_buffer` parameter to specify the file object, and the `file_name` to give it a new name."
   ]
  },
  {
   "cell_type": "code",
   "execution_count": 24,
   "id": "4cebe286",
   "metadata": {},
   "outputs": [
    {
     "data": {
      "text/html": [
       "\n",
       "        <table>\n",
       "          <tr>\n",
       "            <th>Field</th>\n",
       "            <th>Value</th>\n",
       "          </tr>\n",
       "          <tr>\n",
       "            <td>ID</td><td>af5e35d0-aedc-407e-94c2-0886c4cff95d</td>\n",
       "          </tr>\n",
       "          <tr>\n",
       "            <td>Name</td><td>uploadedbytesdemo</td>\n",
       "          </tr>\n",
       "          <tr>\n",
       "            <td>File Name</td><td>inferencetest.zip</td>\n",
       "          </tr>\n",
       "          <tr>\n",
       "            <td>SHA</td><td>0c4e0ec761d23ef2e15de16ddc903142acfdbce3b64fa408187b6773588ad198</td>\n",
       "          </tr>\n",
       "          <tr>\n",
       "            <td>Status</td><td>pending_packaging</td>\n",
       "          </tr>\n",
       "          <tr>\n",
       "            <td>Created At</td><td>2023-17-May 14:13:43</td>\n",
       "          </tr>\n",
       "          <tr>\n",
       "            <td>Updated At</td><td>2023-17-May 14:13:43</td>\n",
       "          </tr>\n",
       "        </table>\n",
       "        "
      ],
      "text/plain": [
       "<wallaroo.orchestration.Orchestration at 0x17f738be0>"
      ]
     },
     "execution_count": 24,
     "metadata": {},
     "output_type": "execute_result"
    }
   ],
   "source": [
    "zipfile = open(\"./remote_inference/remote_inference.zip\", \"rb\").read()\n",
    "\n",
    "wl.upload_orchestration(bytes_buffer=zipfile, file_name=\"inferencetest.zip\", name=\"uploadedbytesdemo\")"
   ]
  },
  {
   "cell_type": "code",
   "execution_count": 56,
   "id": "48ff89c0",
   "metadata": {},
   "outputs": [
    {
     "data": {
      "text/html": [
       "<table><tr><th>id</th><th>name</th><th>status</th><th>filename</th><th>sha</th><th>created at</th><th>updated at</th></tr><tr><td>2c823bf7-8a54-490b-9d8e-b58ff4fe5967</td><td>test</td><td>ready</td><td>remote_inference.zip</td><td>0c4e0e...8ad198</td><td>2023-17-May 14:05:06</td><td>2023-17-May 14:05:56</td></tr><tr><td>546dd685-70f8-46b4-8fac-a6f56c58dc75</td><td>byteupload</td><td>ready</td><td>inference_test.zip</td><td>0c4e0e...8ad198</td><td>2023-17-May 14:10:22</td><td>2023-17-May 14:11:11</td></tr><tr><td>69017c39-df42-4701-b2a2-40753328f9e0</td><td>nofilename</td><td>ready</td><td>_</td><td>0c4e0e...8ad198</td><td>2023-17-May 14:11:41</td><td>2023-17-May 14:12:28</td></tr><tr><td>af5e35d0-aedc-407e-94c2-0886c4cff95d</td><td>uploadedbytesdemo</td><td>ready</td><td>inferencetest.zip</td><td>0c4e0e...8ad198</td><td>2023-17-May 14:13:43</td><td>2023-17-May 14:14:30</td></tr><tr><td>ec0777d0-695c-4f91-8000-53be6ded2ed3</td><td>noarrow</td><td>ready</td><td>remote_inference.zip</td><td>4cfab7...e0bde3</td><td>2023-17-May 14:26:34</td><td>2023-17-May 14:27:19</td></tr><tr><td>75d75d27-d48d-409e-b77c-4dbbf491dda3</td><td>None</td><td>ready</td><td>remote_inference.zip</td><td>4cfab7...e0bde3</td><td>2023-17-May 14:28:49</td><td>2023-17-May 14:29:33</td></tr><tr><td>fcd721b5-b080-4632-bbe9-b2f092831787</td><td>None</td><td>ready</td><td>remote_inference.zip</td><td>f93de5...34231d</td><td>2023-17-May 14:40:36</td><td>2023-17-May 14:41:19</td></tr></table>"
      ],
      "text/plain": [
       "[<wallaroo.orchestration.Orchestration at 0x128045fa0>,\n",
       " <wallaroo.orchestration.Orchestration at 0x1283b6130>,\n",
       " <wallaroo.orchestration.Orchestration at 0x17f689be0>,\n",
       " <wallaroo.orchestration.Orchestration at 0x128392220>,\n",
       " <wallaroo.orchestration.Orchestration at 0x1283921c0>,\n",
       " <wallaroo.orchestration.Orchestration at 0x1283923d0>,\n",
       " <wallaroo.orchestration.Orchestration at 0x128392460>]"
      ]
     },
     "execution_count": 56,
     "metadata": {},
     "output_type": "execute_result"
    }
   ],
   "source": [
    "wl.list_orchestrations()"
   ]
  },
  {
   "attachments": {},
   "cell_type": "markdown",
   "id": "bf028e54",
   "metadata": {},
   "source": [
    "## Task Management Tutorial\n",
    "\n",
    "Once an Orchestration has the status `ready`, it can be run as a task.  Tasks have three run options.\n",
    "\n",
    "| Type | SDK Call |  How triggered |\n",
    "|---|---|:---|\n",
    "| Once       | `orchestration.run_once(name, json_args, timeout)` | Task runs once and exits.| Single batch, experimentation. |\n",
    "| Scheduled  | `orchestration.run_scheduled(name, schedule, timeout, json_args)` | User provides schedule. Task runs exits whenever schedule dictates. | Recurrent batch. |"
   ]
  },
  {
   "attachments": {},
   "cell_type": "markdown",
   "id": "de1423fb",
   "metadata": {},
   "source": [
    "### Run Task Once\n",
    "\n",
    "We'll do both a Run Once task and generate our Run Once Task from our orchestration.\n",
    "\n",
    "Tasks are generated and run once with the Orchestration `run_once(name, json_args, timeout)` method.  Any arguments for the orchestration are passed in as a `Dict`.  If there are no arguments, then an empty set `{}` is passed."
   ]
  },
  {
   "cell_type": "code",
   "execution_count": 38,
   "id": "67eac3ea",
   "metadata": {},
   "outputs": [
    {
     "data": {
      "text/html": [
       "\n",
       "        <table>\n",
       "          <tr>\n",
       "            <th>Field</th>\n",
       "            <th>Value</th>\n",
       "          </tr>\n",
       "          <tr>\n",
       "            <td>ID</td><td>fcd721b5-b080-4632-bbe9-b2f092831787</td>\n",
       "          </tr>\n",
       "          <tr>\n",
       "            <td>Name</td><td>None</td>\n",
       "          </tr>\n",
       "          <tr>\n",
       "            <td>File Name</td><td>remote_inference.zip</td>\n",
       "          </tr>\n",
       "          <tr>\n",
       "            <td>SHA</td><td>f93de52bea1868736f673fda2eda667665c5fd760dc182df57bb38547a34231d</td>\n",
       "          </tr>\n",
       "          <tr>\n",
       "            <td>Status</td><td>ready</td>\n",
       "          </tr>\n",
       "          <tr>\n",
       "            <td>Created At</td><td>2023-17-May 14:40:36</td>\n",
       "          </tr>\n",
       "          <tr>\n",
       "            <td>Updated At</td><td>2023-17-May 14:41:19</td>\n",
       "          </tr>\n",
       "        </table>\n",
       "        "
      ],
      "text/plain": [
       "<wallaroo.orchestration.Orchestration at 0x17f774be0>"
      ]
     },
     "execution_count": 38,
     "metadata": {},
     "output_type": "execute_result"
    }
   ],
   "source": [
    "orchestration"
   ]
  },
  {
   "cell_type": "code",
   "execution_count": 45,
   "id": "e53d7731",
   "metadata": {},
   "outputs": [
    {
     "data": {
      "text/html": [
       "\n",
       "        <table>\n",
       "          <tr>\n",
       "            <th>Field</th>\n",
       "            <th>Value</th>\n",
       "          </tr>\n",
       "          <tr>\n",
       "            <td>ID</td><td>349f6e06-11e5-4a00-9526-449201367d76</td>\n",
       "          </tr>\n",
       "          <tr>\n",
       "            <td>Name</td><td>simpletaskdemo</td>\n",
       "          </tr>\n",
       "          <tr>\n",
       "            <td>Status</td><td>pending</td>\n",
       "          </tr>\n",
       "          <tr>\n",
       "            <td>Type</td><td>Temporary Run</td>\n",
       "          </tr>\n",
       "          <tr>\n",
       "            <td>Created At</td><td>2023-17-May 15:05:29</td>\n",
       "          </tr>\n",
       "          <tr>\n",
       "            <td>Updated At</td><td>2023-17-May 15:05:29</td>\n",
       "          </tr>\n",
       "        </table>\n",
       "        "
      ],
      "text/plain": [
       "<wallaroo.task.Task at 0x17f720910>"
      ]
     },
     "execution_count": 45,
     "metadata": {},
     "output_type": "execute_result"
    }
   ],
   "source": [
    "# Example: run once\n",
    "\n",
    "import datetime\n",
    "task_start = datetime.datetime.now()\n",
    "task = orchestration.run_once(name=\"simpletaskdemo\", json_args={})"
   ]
  },
  {
   "attachments": {},
   "cell_type": "markdown",
   "id": "0dcbc1d4",
   "metadata": {},
   "source": [
    "### Task Status\n",
    "\n",
    "The list of tasks in the Wallaroo instance is retrieves through the Wallaroo Client `list_tasks()` method.  This returns an array list of the following.\n",
    "\n",
    "| Parameter | Type | Description |\n",
    "| --- | --- | ---|\n",
    "| **id** | string | The UUID identifier for the task. |\n",
    "| **status** | enum | The status of the task.  Values are: <br><ul><li>`pending`: The task has not been started.</li><li>`started`: The task has been scheduled to execute.</li><li>`pending_kill`: The task kill command has been issued and the task is scheduled to be stopped.</li></ul> |\n",
    "| **type** | string | The type of the task.  Values are: <br><ul><li>`Temporary Run`: The task runs once then stop.</li><li>`Scheduled Run`: The task repeats on a `cron` like schedule.</li></ul> |\n",
    "| **created at** | DateTime | The date and time the task was started. |\n",
    "| **updated at** | DateTime | The date and time the task was updated. |\n",
    "\n",
    "For this example, the status of the previously created task will be generated, then looped until it has reached status `started`."
   ]
  },
  {
   "cell_type": "code",
   "execution_count": 46,
   "id": "a05a299f",
   "metadata": {},
   "outputs": [],
   "source": [
    "while task.status() != \"started\":\n",
    "    display(task.status())\n",
    "    time.sleep(5)"
   ]
  },
  {
   "attachments": {},
   "cell_type": "markdown",
   "id": "7bd6a79a",
   "metadata": {},
   "source": [
    "### Task Results\n",
    "\n",
    "We can view the inferences from our logs and verify that new entries were added from our task.  We can do that with the task `logs()` method.\n",
    "\n",
    "\n",
    "In our case, we'll assume the task once started takes about 1 minute to run (deploy the pipeline, run the inference, undeploy the pipeline).  We'll add in a wait of 1 minute, then display the logs during the time period the task was running."
   ]
  },
  {
   "cell_type": "code",
   "execution_count": 47,
   "id": "818b5f3d",
   "metadata": {},
   "outputs": [
    {
     "data": {
      "text/plain": [
       "datetime.datetime(2023, 5, 17, 9, 6, 36, 329100)"
      ]
     },
     "metadata": {},
     "output_type": "display_data"
    },
    {
     "name": "stderr",
     "output_type": "stream",
     "text": [
      "Warning: Pipeline log size limit exceeded. Please request logs using export_logs"
     ]
    },
    {
     "data": {
      "text/html": [
       "<div>\n",
       "<style scoped>\n",
       "    .dataframe tbody tr th:only-of-type {\n",
       "        vertical-align: middle;\n",
       "    }\n",
       "\n",
       "    .dataframe tbody tr th {\n",
       "        vertical-align: top;\n",
       "    }\n",
       "\n",
       "    .dataframe thead th {\n",
       "        text-align: right;\n",
       "    }\n",
       "</style>\n",
       "<table border=\"1\" class=\"dataframe\">\n",
       "  <thead>\n",
       "    <tr style=\"text-align: right;\">\n",
       "      <th></th>\n",
       "      <th>time</th>\n",
       "      <th>in.tensor</th>\n",
       "      <th>out.variable</th>\n",
       "      <th>check_failures</th>\n",
       "    </tr>\n",
       "  </thead>\n",
       "  <tbody>\n",
       "    <tr>\n",
       "      <th>0</th>\n",
       "      <td>2023-05-17 15:05:36.746</td>\n",
       "      <td>[4.0, 2.5, 2900.0, 5505.0, 2.0, 0.0, 0.0, 3.0, 8.0, 2900.0, 0.0, 47.6063, -122.02, 2970.0, 5251.0, 12.0, 0.0, 0.0]</td>\n",
       "      <td>[718013.75]</td>\n",
       "      <td>0</td>\n",
       "    </tr>\n",
       "    <tr>\n",
       "      <th>1</th>\n",
       "      <td>2023-05-17 15:05:36.746</td>\n",
       "      <td>[2.0, 2.5, 2170.0, 6361.0, 1.0, 0.0, 2.0, 3.0, 8.0, 2170.0, 0.0, 47.7109, -122.017, 2310.0, 7419.0, 6.0, 0.0, 0.0]</td>\n",
       "      <td>[615094.56]</td>\n",
       "      <td>0</td>\n",
       "    </tr>\n",
       "    <tr>\n",
       "      <th>2</th>\n",
       "      <td>2023-05-17 15:05:36.746</td>\n",
       "      <td>[3.0, 2.5, 1300.0, 812.0, 2.0, 0.0, 0.0, 3.0, 8.0, 880.0, 420.0, 47.5893, -122.317, 1300.0, 824.0, 6.0, 0.0, 0.0]</td>\n",
       "      <td>[448627.72]</td>\n",
       "      <td>0</td>\n",
       "    </tr>\n",
       "    <tr>\n",
       "      <th>3</th>\n",
       "      <td>2023-05-17 15:05:36.746</td>\n",
       "      <td>[4.0, 2.5, 2500.0, 8540.0, 2.0, 0.0, 0.0, 3.0, 9.0, 2500.0, 0.0, 47.5759, -121.994, 2560.0, 8475.0, 24.0, 0.0, 0.0]</td>\n",
       "      <td>[758714.2]</td>\n",
       "      <td>0</td>\n",
       "    </tr>\n",
       "    <tr>\n",
       "      <th>4</th>\n",
       "      <td>2023-05-17 15:05:36.746</td>\n",
       "      <td>[3.0, 1.75, 2200.0, 11520.0, 1.0, 0.0, 0.0, 4.0, 7.0, 2200.0, 0.0, 47.7659, -122.341, 1690.0, 8038.0, 62.0, 0.0, 0.0]</td>\n",
       "      <td>[513264.7]</td>\n",
       "      <td>0</td>\n",
       "    </tr>\n",
       "    <tr>\n",
       "      <th>...</th>\n",
       "      <td>...</td>\n",
       "      <td>...</td>\n",
       "      <td>...</td>\n",
       "      <td>...</td>\n",
       "    </tr>\n",
       "    <tr>\n",
       "      <th>496</th>\n",
       "      <td>2023-05-17 15:05:36.746</td>\n",
       "      <td>[4.0, 2.5, 2510.0, 47044.0, 2.0, 0.0, 0.0, 3.0, 9.0, 2510.0, 0.0, 47.7699, -122.085, 2600.0, 42612.0, 27.0, 0.0, 0.0]</td>\n",
       "      <td>[721143.6]</td>\n",
       "      <td>0</td>\n",
       "    </tr>\n",
       "    <tr>\n",
       "      <th>497</th>\n",
       "      <td>2023-05-17 15:05:36.746</td>\n",
       "      <td>[4.0, 2.5, 4090.0, 11225.0, 2.0, 0.0, 0.0, 3.0, 10.0, 4090.0, 0.0, 47.581, -121.971, 3510.0, 8762.0, 9.0, 0.0, 0.0]</td>\n",
       "      <td>[1048372.4]</td>\n",
       "      <td>0</td>\n",
       "    </tr>\n",
       "    <tr>\n",
       "      <th>498</th>\n",
       "      <td>2023-05-17 15:05:36.746</td>\n",
       "      <td>[2.0, 1.0, 720.0, 5000.0, 1.0, 0.0, 0.0, 5.0, 6.0, 720.0, 0.0, 47.5195, -122.374, 810.0, 5000.0, 63.0, 0.0, 0.0]</td>\n",
       "      <td>[244566.38]</td>\n",
       "      <td>0</td>\n",
       "    </tr>\n",
       "    <tr>\n",
       "      <th>499</th>\n",
       "      <td>2023-05-17 15:05:36.746</td>\n",
       "      <td>[4.0, 2.75, 2930.0, 22000.0, 1.0, 0.0, 3.0, 4.0, 9.0, 1580.0, 1350.0, 47.3227, -122.384, 2930.0, 9758.0, 36.0, 0.0, 0.0]</td>\n",
       "      <td>[518869.0]</td>\n",
       "      <td>0</td>\n",
       "    </tr>\n",
       "    <tr>\n",
       "      <th>500</th>\n",
       "      <td>2023-05-17 15:05:36.746</td>\n",
       "      <td>[2.0, 1.0, 850.0, 5000.0, 1.0, 0.0, 0.0, 3.0, 6.0, 850.0, 0.0, 47.3817, -122.314, 1160.0, 5000.0, 39.0, 0.0, 0.0]</td>\n",
       "      <td>[236238.66]</td>\n",
       "      <td>0</td>\n",
       "    </tr>\n",
       "  </tbody>\n",
       "</table>\n",
       "<p>501 rows × 4 columns</p>\n",
       "</div>"
      ],
      "text/plain": [
       "                       time  \\\n",
       "0   2023-05-17 15:05:36.746   \n",
       "1   2023-05-17 15:05:36.746   \n",
       "2   2023-05-17 15:05:36.746   \n",
       "3   2023-05-17 15:05:36.746   \n",
       "4   2023-05-17 15:05:36.746   \n",
       "..                      ...   \n",
       "496 2023-05-17 15:05:36.746   \n",
       "497 2023-05-17 15:05:36.746   \n",
       "498 2023-05-17 15:05:36.746   \n",
       "499 2023-05-17 15:05:36.746   \n",
       "500 2023-05-17 15:05:36.746   \n",
       "\n",
       "                                                                                                                    in.tensor  \\\n",
       "0          [4.0, 2.5, 2900.0, 5505.0, 2.0, 0.0, 0.0, 3.0, 8.0, 2900.0, 0.0, 47.6063, -122.02, 2970.0, 5251.0, 12.0, 0.0, 0.0]   \n",
       "1          [2.0, 2.5, 2170.0, 6361.0, 1.0, 0.0, 2.0, 3.0, 8.0, 2170.0, 0.0, 47.7109, -122.017, 2310.0, 7419.0, 6.0, 0.0, 0.0]   \n",
       "2           [3.0, 2.5, 1300.0, 812.0, 2.0, 0.0, 0.0, 3.0, 8.0, 880.0, 420.0, 47.5893, -122.317, 1300.0, 824.0, 6.0, 0.0, 0.0]   \n",
       "3         [4.0, 2.5, 2500.0, 8540.0, 2.0, 0.0, 0.0, 3.0, 9.0, 2500.0, 0.0, 47.5759, -121.994, 2560.0, 8475.0, 24.0, 0.0, 0.0]   \n",
       "4       [3.0, 1.75, 2200.0, 11520.0, 1.0, 0.0, 0.0, 4.0, 7.0, 2200.0, 0.0, 47.7659, -122.341, 1690.0, 8038.0, 62.0, 0.0, 0.0]   \n",
       "..                                                                                                                        ...   \n",
       "496     [4.0, 2.5, 2510.0, 47044.0, 2.0, 0.0, 0.0, 3.0, 9.0, 2510.0, 0.0, 47.7699, -122.085, 2600.0, 42612.0, 27.0, 0.0, 0.0]   \n",
       "497       [4.0, 2.5, 4090.0, 11225.0, 2.0, 0.0, 0.0, 3.0, 10.0, 4090.0, 0.0, 47.581, -121.971, 3510.0, 8762.0, 9.0, 0.0, 0.0]   \n",
       "498          [2.0, 1.0, 720.0, 5000.0, 1.0, 0.0, 0.0, 5.0, 6.0, 720.0, 0.0, 47.5195, -122.374, 810.0, 5000.0, 63.0, 0.0, 0.0]   \n",
       "499  [4.0, 2.75, 2930.0, 22000.0, 1.0, 0.0, 3.0, 4.0, 9.0, 1580.0, 1350.0, 47.3227, -122.384, 2930.0, 9758.0, 36.0, 0.0, 0.0]   \n",
       "500         [2.0, 1.0, 850.0, 5000.0, 1.0, 0.0, 0.0, 3.0, 6.0, 850.0, 0.0, 47.3817, -122.314, 1160.0, 5000.0, 39.0, 0.0, 0.0]   \n",
       "\n",
       "    out.variable  check_failures  \n",
       "0    [718013.75]               0  \n",
       "1    [615094.56]               0  \n",
       "2    [448627.72]               0  \n",
       "3     [758714.2]               0  \n",
       "4     [513264.7]               0  \n",
       "..           ...             ...  \n",
       "496   [721143.6]               0  \n",
       "497  [1048372.4]               0  \n",
       "498  [244566.38]               0  \n",
       "499   [518869.0]               0  \n",
       "500  [236238.66]               0  \n",
       "\n",
       "[501 rows x 4 columns]"
      ]
     },
     "execution_count": 47,
     "metadata": {},
     "output_type": "execute_result"
    }
   ],
   "source": [
    "time.sleep(60)\n",
    "\n",
    "task_end = datetime.datetime.now()\n",
    "display(task_end)\n",
    "\n",
    "pipeline.logs(start_datetime = task_start, end_datetime = task_end)"
   ]
  },
  {
   "attachments": {},
   "cell_type": "markdown",
   "id": "24d22c9a",
   "metadata": {},
   "source": [
    "## Scheduled Run Task Example\n",
    "\n",
    "The other method of using tasks is as a **scheduled run** through the Orchestration `run_scheduled(name, schedule, timeout, json_args)`.  This sets up a task to run on an regular schedule as defined by the `schedule` parameter in the `cron` service format.  For example:\n",
    "\n",
    "```python\n",
    "schedule={'42 * * * *'}\n",
    "```\n",
    "\n",
    "Runs on the 42nd minute of every hour.\n",
    "\n",
    "For our example, we will create a scheduled task to run every 1 minute, display the inference results, then use the Orchestration `kill` task to keep the task from running any further."
   ]
  },
  {
   "cell_type": "code",
   "execution_count": 48,
   "id": "5cabe1e7",
   "metadata": {},
   "outputs": [],
   "source": [
    "scheduled_task_start = datetime.datetime.now()"
   ]
  },
  {
   "cell_type": "code",
   "execution_count": 49,
   "id": "8ab45fdc",
   "metadata": {},
   "outputs": [],
   "source": [
    "\n",
    "scheduled_task = orchestration.run_scheduled(name=\"simple_inference_schedule\", schedule=\"*/1 * * * *\", timeout=120, json_args={})"
   ]
  },
  {
   "cell_type": "code",
   "execution_count": 50,
   "id": "efac60c3",
   "metadata": {},
   "outputs": [],
   "source": [
    "while scheduled_task.status() != \"started\":\n",
    "    display(scheduled_task.status())\n",
    "    time.sleep(5)"
   ]
  },
  {
   "cell_type": "code",
   "execution_count": 51,
   "id": "98668880",
   "metadata": {},
   "outputs": [
    {
     "name": "stderr",
     "output_type": "stream",
     "text": [
      "Warning: Pipeline log size limit exceeded. Please request logs using export_logs"
     ]
    },
    {
     "data": {
      "text/html": [
       "<div>\n",
       "<style scoped>\n",
       "    .dataframe tbody tr th:only-of-type {\n",
       "        vertical-align: middle;\n",
       "    }\n",
       "\n",
       "    .dataframe tbody tr th {\n",
       "        vertical-align: top;\n",
       "    }\n",
       "\n",
       "    .dataframe thead th {\n",
       "        text-align: right;\n",
       "    }\n",
       "</style>\n",
       "<table border=\"1\" class=\"dataframe\">\n",
       "  <thead>\n",
       "    <tr style=\"text-align: right;\">\n",
       "      <th></th>\n",
       "      <th>time</th>\n",
       "      <th>in.tensor</th>\n",
       "      <th>out.variable</th>\n",
       "      <th>check_failures</th>\n",
       "    </tr>\n",
       "  </thead>\n",
       "  <tbody>\n",
       "    <tr>\n",
       "      <th>0</th>\n",
       "      <td>2023-05-17 15:07:06.853</td>\n",
       "      <td>[4.0, 2.5, 2900.0, 5505.0, 2.0, 0.0, 0.0, 3.0, 8.0, 2900.0, 0.0, 47.6063, -122.02, 2970.0, 5251.0, 12.0, 0.0, 0.0]</td>\n",
       "      <td>[718013.75]</td>\n",
       "      <td>0</td>\n",
       "    </tr>\n",
       "    <tr>\n",
       "      <th>1</th>\n",
       "      <td>2023-05-17 15:07:06.853</td>\n",
       "      <td>[2.0, 2.5, 2170.0, 6361.0, 1.0, 0.0, 2.0, 3.0, 8.0, 2170.0, 0.0, 47.7109, -122.017, 2310.0, 7419.0, 6.0, 0.0, 0.0]</td>\n",
       "      <td>[615094.56]</td>\n",
       "      <td>0</td>\n",
       "    </tr>\n",
       "    <tr>\n",
       "      <th>2</th>\n",
       "      <td>2023-05-17 15:07:06.853</td>\n",
       "      <td>[3.0, 2.5, 1300.0, 812.0, 2.0, 0.0, 0.0, 3.0, 8.0, 880.0, 420.0, 47.5893, -122.317, 1300.0, 824.0, 6.0, 0.0, 0.0]</td>\n",
       "      <td>[448627.72]</td>\n",
       "      <td>0</td>\n",
       "    </tr>\n",
       "    <tr>\n",
       "      <th>3</th>\n",
       "      <td>2023-05-17 15:07:06.853</td>\n",
       "      <td>[4.0, 2.5, 2500.0, 8540.0, 2.0, 0.0, 0.0, 3.0, 9.0, 2500.0, 0.0, 47.5759, -121.994, 2560.0, 8475.0, 24.0, 0.0, 0.0]</td>\n",
       "      <td>[758714.2]</td>\n",
       "      <td>0</td>\n",
       "    </tr>\n",
       "    <tr>\n",
       "      <th>4</th>\n",
       "      <td>2023-05-17 15:07:06.853</td>\n",
       "      <td>[3.0, 1.75, 2200.0, 11520.0, 1.0, 0.0, 0.0, 4.0, 7.0, 2200.0, 0.0, 47.7659, -122.341, 1690.0, 8038.0, 62.0, 0.0, 0.0]</td>\n",
       "      <td>[513264.7]</td>\n",
       "      <td>0</td>\n",
       "    </tr>\n",
       "    <tr>\n",
       "      <th>...</th>\n",
       "      <td>...</td>\n",
       "      <td>...</td>\n",
       "      <td>...</td>\n",
       "      <td>...</td>\n",
       "    </tr>\n",
       "    <tr>\n",
       "      <th>496</th>\n",
       "      <td>2023-05-17 15:07:06.853</td>\n",
       "      <td>[4.0, 2.5, 2510.0, 47044.0, 2.0, 0.0, 0.0, 3.0, 9.0, 2510.0, 0.0, 47.7699, -122.085, 2600.0, 42612.0, 27.0, 0.0, 0.0]</td>\n",
       "      <td>[721143.6]</td>\n",
       "      <td>0</td>\n",
       "    </tr>\n",
       "    <tr>\n",
       "      <th>497</th>\n",
       "      <td>2023-05-17 15:07:06.853</td>\n",
       "      <td>[4.0, 2.5, 4090.0, 11225.0, 2.0, 0.0, 0.0, 3.0, 10.0, 4090.0, 0.0, 47.581, -121.971, 3510.0, 8762.0, 9.0, 0.0, 0.0]</td>\n",
       "      <td>[1048372.4]</td>\n",
       "      <td>0</td>\n",
       "    </tr>\n",
       "    <tr>\n",
       "      <th>498</th>\n",
       "      <td>2023-05-17 15:07:06.853</td>\n",
       "      <td>[2.0, 1.0, 720.0, 5000.0, 1.0, 0.0, 0.0, 5.0, 6.0, 720.0, 0.0, 47.5195, -122.374, 810.0, 5000.0, 63.0, 0.0, 0.0]</td>\n",
       "      <td>[244566.38]</td>\n",
       "      <td>0</td>\n",
       "    </tr>\n",
       "    <tr>\n",
       "      <th>499</th>\n",
       "      <td>2023-05-17 15:07:06.853</td>\n",
       "      <td>[4.0, 2.75, 2930.0, 22000.0, 1.0, 0.0, 3.0, 4.0, 9.0, 1580.0, 1350.0, 47.3227, -122.384, 2930.0, 9758.0, 36.0, 0.0, 0.0]</td>\n",
       "      <td>[518869.0]</td>\n",
       "      <td>0</td>\n",
       "    </tr>\n",
       "    <tr>\n",
       "      <th>500</th>\n",
       "      <td>2023-05-17 15:07:06.853</td>\n",
       "      <td>[2.0, 1.0, 850.0, 5000.0, 1.0, 0.0, 0.0, 3.0, 6.0, 850.0, 0.0, 47.3817, -122.314, 1160.0, 5000.0, 39.0, 0.0, 0.0]</td>\n",
       "      <td>[236238.66]</td>\n",
       "      <td>0</td>\n",
       "    </tr>\n",
       "  </tbody>\n",
       "</table>\n",
       "<p>501 rows × 4 columns</p>\n",
       "</div>"
      ],
      "text/plain": [
       "                       time  \\\n",
       "0   2023-05-17 15:07:06.853   \n",
       "1   2023-05-17 15:07:06.853   \n",
       "2   2023-05-17 15:07:06.853   \n",
       "3   2023-05-17 15:07:06.853   \n",
       "4   2023-05-17 15:07:06.853   \n",
       "..                      ...   \n",
       "496 2023-05-17 15:07:06.853   \n",
       "497 2023-05-17 15:07:06.853   \n",
       "498 2023-05-17 15:07:06.853   \n",
       "499 2023-05-17 15:07:06.853   \n",
       "500 2023-05-17 15:07:06.853   \n",
       "\n",
       "                                                                                                                    in.tensor  \\\n",
       "0          [4.0, 2.5, 2900.0, 5505.0, 2.0, 0.0, 0.0, 3.0, 8.0, 2900.0, 0.0, 47.6063, -122.02, 2970.0, 5251.0, 12.0, 0.0, 0.0]   \n",
       "1          [2.0, 2.5, 2170.0, 6361.0, 1.0, 0.0, 2.0, 3.0, 8.0, 2170.0, 0.0, 47.7109, -122.017, 2310.0, 7419.0, 6.0, 0.0, 0.0]   \n",
       "2           [3.0, 2.5, 1300.0, 812.0, 2.0, 0.0, 0.0, 3.0, 8.0, 880.0, 420.0, 47.5893, -122.317, 1300.0, 824.0, 6.0, 0.0, 0.0]   \n",
       "3         [4.0, 2.5, 2500.0, 8540.0, 2.0, 0.0, 0.0, 3.0, 9.0, 2500.0, 0.0, 47.5759, -121.994, 2560.0, 8475.0, 24.0, 0.0, 0.0]   \n",
       "4       [3.0, 1.75, 2200.0, 11520.0, 1.0, 0.0, 0.0, 4.0, 7.0, 2200.0, 0.0, 47.7659, -122.341, 1690.0, 8038.0, 62.0, 0.0, 0.0]   \n",
       "..                                                                                                                        ...   \n",
       "496     [4.0, 2.5, 2510.0, 47044.0, 2.0, 0.0, 0.0, 3.0, 9.0, 2510.0, 0.0, 47.7699, -122.085, 2600.0, 42612.0, 27.0, 0.0, 0.0]   \n",
       "497       [4.0, 2.5, 4090.0, 11225.0, 2.0, 0.0, 0.0, 3.0, 10.0, 4090.0, 0.0, 47.581, -121.971, 3510.0, 8762.0, 9.0, 0.0, 0.0]   \n",
       "498          [2.0, 1.0, 720.0, 5000.0, 1.0, 0.0, 0.0, 5.0, 6.0, 720.0, 0.0, 47.5195, -122.374, 810.0, 5000.0, 63.0, 0.0, 0.0]   \n",
       "499  [4.0, 2.75, 2930.0, 22000.0, 1.0, 0.0, 3.0, 4.0, 9.0, 1580.0, 1350.0, 47.3227, -122.384, 2930.0, 9758.0, 36.0, 0.0, 0.0]   \n",
       "500         [2.0, 1.0, 850.0, 5000.0, 1.0, 0.0, 0.0, 3.0, 6.0, 850.0, 0.0, 47.3817, -122.314, 1160.0, 5000.0, 39.0, 0.0, 0.0]   \n",
       "\n",
       "    out.variable  check_failures  \n",
       "0    [718013.75]               0  \n",
       "1    [615094.56]               0  \n",
       "2    [448627.72]               0  \n",
       "3     [758714.2]               0  \n",
       "4     [513264.7]               0  \n",
       "..           ...             ...  \n",
       "496   [721143.6]               0  \n",
       "497  [1048372.4]               0  \n",
       "498  [244566.38]               0  \n",
       "499   [518869.0]               0  \n",
       "500  [236238.66]               0  \n",
       "\n",
       "[501 rows x 4 columns]"
      ]
     },
     "execution_count": 51,
     "metadata": {},
     "output_type": "execute_result"
    }
   ],
   "source": [
    "#wait 120 seconds to give the scheduled event time to finish\n",
    "time.sleep(120)\n",
    "scheduled_task_end = datetime.datetime.now()\n",
    "\n",
    "pipeline.logs(start_datetime = scheduled_task_start, end_datetime = scheduled_task_end)"
   ]
  },
  {
   "attachments": {},
   "cell_type": "markdown",
   "id": "e957bfc7",
   "metadata": {},
   "source": [
    "## Kill Task\n",
    "\n",
    "With our testing complete, we will kill the scheduled task so it will not run again.  First we'll show all the tasks to verify that our task is there, then issue it the kill command."
   ]
  },
  {
   "cell_type": "code",
   "execution_count": 52,
   "id": "7ee4c475",
   "metadata": {},
   "outputs": [
    {
     "data": {
      "text/html": [
       "<table><tr><th>id</th><th>name</th><th>status</th><th>type</th><th>created at</th><th>updated at</th></tr><tr><td>433d4539-0abb-4ec9-b1fb-268c1b939041</td><td>testrun</td><td>started</td><td>Temporary Run</td><td>2023-17-May 14:42:32</td><td>2023-17-May 14:42:42</td></tr><tr><td>349f6e06-11e5-4a00-9526-449201367d76</td><td>simpletaskdemo</td><td>started</td><td>Temporary Run</td><td>2023-17-May 15:05:29</td><td>2023-17-May 15:05:35</td></tr><tr><td>bdb06bb2-d5f5-41b0-bed8-5c1ea2d02d51</td><td>simple_inference_schedule</td><td>started</td><td>Scheduled Run</td><td>2023-17-May 15:06:38</td><td>2023-17-May 15:06:39</td></tr></table>"
      ],
      "text/plain": [
       "[<wallaroo.task.Task at 0x17f6dfee0>,\n",
       " <wallaroo.task.Task at 0x128392c10>,\n",
       " <wallaroo.task.Task at 0x1283b0fd0>]"
      ]
     },
     "execution_count": 52,
     "metadata": {},
     "output_type": "execute_result"
    }
   ],
   "source": [
    "wl.list_tasks()"
   ]
  },
  {
   "cell_type": "code",
   "execution_count": 53,
   "id": "1e9eda3a",
   "metadata": {},
   "outputs": [
    {
     "data": {
      "text/plain": [
       "<ArbexStatus.PENDING_KILL: 'pending_kill'>"
      ]
     },
     "execution_count": 53,
     "metadata": {},
     "output_type": "execute_result"
    }
   ],
   "source": [
    "scheduled_task.kill()"
   ]
  },
  {
   "cell_type": "code",
   "execution_count": 54,
   "id": "c2ffb60a",
   "metadata": {},
   "outputs": [
    {
     "data": {
      "text/html": [
       "<table><tr><th>id</th><th>name</th><th>status</th><th>type</th><th>created at</th><th>updated at</th></tr><tr><td>433d4539-0abb-4ec9-b1fb-268c1b939041</td><td>testrun</td><td>started</td><td>Temporary Run</td><td>2023-17-May 14:42:32</td><td>2023-17-May 14:42:42</td></tr><tr><td>349f6e06-11e5-4a00-9526-449201367d76</td><td>simpletaskdemo</td><td>started</td><td>Temporary Run</td><td>2023-17-May 15:05:29</td><td>2023-17-May 15:05:35</td></tr></table>"
      ],
      "text/plain": [
       "[<wallaroo.task.Task at 0x17f757400>, <wallaroo.task.Task at 0x12801ae80>]"
      ]
     },
     "execution_count": 54,
     "metadata": {},
     "output_type": "execute_result"
    }
   ],
   "source": [
    "wl.list_tasks()"
   ]
  },
  {
   "attachments": {},
   "cell_type": "markdown",
   "id": "58207f04",
   "metadata": {},
   "source": [
    "## Cleanup\n",
    "\n",
    "With the tutorial complete, we can undeploy the pipeline and return the resources back to the Wallaroo instance."
   ]
  },
  {
   "cell_type": "code",
   "execution_count": 55,
   "id": "bb96a086",
   "metadata": {},
   "outputs": [
    {
     "data": {
      "text/html": [
       "<table><tr><th>name</th> <td>simpleorchestrationpipeline</td></tr><tr><th>created</th> <td>2023-05-17 14:02:37.838948+00:00</td></tr><tr><th>last_updated</th> <td>2023-05-17 14:02:40.594072+00:00</td></tr><tr><th>deployed</th> <td>False</td></tr><tr><th>tags</th> <td></td></tr><tr><th>versions</th> <td>559c19e7-6921-4d25-ba1d-4f70e76186e8, 966ead9a-4af4-4cb1-bc79-73264c14f5df</td></tr><tr><th>steps</th> <td>simpleorchestrationmodel</td></tr></table>"
      ],
      "text/plain": [
       "{'name': 'simpleorchestrationpipeline', 'create_time': datetime.datetime(2023, 5, 17, 14, 2, 37, 838948, tzinfo=tzutc()), 'definition': \"[{'ModelInference': {'models': [{'name': 'simpleorchestrationmodel', 'version': '16f080ac-0d0a-486b-a653-a22f9604d6dd', 'sha': 'e22a0831aafd9917f3cc87a15ed267797f80e2afa12ad7d8810ca58f173b8cc6'}]}}]\"}"
      ]
     },
     "execution_count": 55,
     "metadata": {},
     "output_type": "execute_result"
    }
   ],
   "source": [
    "pipeline.undeploy()"
   ]
  }
 ],
 "metadata": {
  "kernelspec": {
   "display_name": "Python 3 (ipykernel)",
   "language": "python",
   "name": "python3"
  },
  "language_info": {
   "codemirror_mode": {
    "name": "ipython",
    "version": 3
   },
   "file_extension": ".py",
   "mimetype": "text/x-python",
   "name": "python",
   "nbconvert_exporter": "python",
   "pygments_lexer": "ipython3",
   "version": "3.9.16"
  }
 },
 "nbformat": 4,
 "nbformat_minor": 5
}
