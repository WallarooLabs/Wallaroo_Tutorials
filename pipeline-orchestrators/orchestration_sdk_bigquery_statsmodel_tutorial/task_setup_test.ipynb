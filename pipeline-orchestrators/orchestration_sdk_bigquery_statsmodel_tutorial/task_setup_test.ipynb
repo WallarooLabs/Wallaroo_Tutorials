{
 "cells": [
  {
   "cell_type": "code",
   "execution_count": 1,
   "metadata": {},
   "outputs": [],
   "source": [
    "# Set up a workspace and pipeline for testing\n",
    "\n",
    "import wallaroo\n",
    "from wallaroo.object import EntityNotFoundError, RequiredAttributeMissing\n",
    "\n",
    "# to display dataframe tables\n",
    "from IPython.display import display\n",
    "# used to display dataframe information without truncating\n",
    "import pandas as pd\n",
    "pd.set_option('display.max_colwidth', None)\n",
    "import pyarrow as pa\n",
    "\n",
    "import os\n",
    "# Used for the Wallaroo SDK version 2023.1\n",
    "os.environ[\"ARROW_ENABLED\"]=\"True\"\n",
    "\n",
    "import time\n",
    "import json\n",
    "\n",
    "# for Big Query connections\n",
    "from google.cloud import bigquery\n",
    "from google.oauth2 import service_account\n",
    "import db_dtypes\n",
    "\n",
    "# Login through local Wallaroo instance\n",
    "\n",
    "# wl = wallaroo.Client()\n",
    "\n",
    "# # SSO login through keycloak\n",
    "\n",
    "# wallarooPrefix = \"product-uat-ee\"\n",
    "# wallarooSuffix = \"wallaroocommunity.ninja\"\n",
    "\n",
    "wallarooPrefix = \"doc-test\"\n",
    "wallarooSuffix = \"wallaroocommunity.ninja\"\n",
    "\n",
    "wl = wallaroo.Client(api_endpoint=f\"https://{wallarooPrefix}.api.{wallarooSuffix}\", \n",
    "                    auth_endpoint=f\"https://{wallarooPrefix}.keycloak.{wallarooSuffix}\", \n",
    "                    auth_type=\"sso\")\n",
    "\n",
    "# Setting variables for later steps\n",
    "\n",
    "workspace_name = 'bigquerystatsmodelworkspace'\n",
    "pipeline_name = 'bigquerystatsmodelpipeline03'\n",
    "model_name = 'bigquerystatsmodelmodel2'\n",
    "model_file_name = './models/bike_day_model.pkl'\n",
    "\n",
    "bigquery_connection_input_name = \"bigqueryforecastinputs2\"\n",
    "bigquery_connection_input_type = \"BIGQUERY\"\n",
    "bigquery_connection_input_argument = json.load(open('./resources/bigquery_service_account_input_key.json.example'))\n",
    "\n",
    "bigquery_connection_output_name = \"bigqueryforecastoutputs2\"\n",
    "bigquery_connection_output_type = \"BIGQUERY\"\n",
    "bigquery_connection_output_argument = json.load(open('./resources/bigquery_service_account_output_key.json.example'))\n",
    "\n",
    "# helper methods to retrieve workspaces and pipelines\n",
    "\n",
    "def get_workspace(name):\n",
    "    workspace = None\n",
    "    for ws in wl.list_workspaces():\n",
    "        if ws.name() == name:\n",
    "            workspace= ws\n",
    "    if(workspace == None):\n",
    "        workspace = wl.create_workspace(name)\n",
    "    return workspace\n",
    "\n",
    "def get_pipeline(name):\n",
    "    try:\n",
    "        pipeline = wl.pipelines_by_name(name)[0]\n",
    "    except EntityNotFoundError:\n",
    "        pipeline = wl.build_pipeline(name)\n",
    "    return pipeline\n",
    "\n",
    "def get_connection(name, connection_type, connection_arguments):\n",
    "    try:\n",
    "        connection = wl.get_connection(name)\n",
    "    except RequiredAttributeMissing:\n",
    "        connection =wl.create_connection(name, \n",
    "                  connection_type, \n",
    "                  connection_arguments)\n",
    "    return connection\n",
    "\n",
    "\n",
    "workspace = get_workspace(workspace_name)\n",
    "wl.set_current_workspace(workspace)\n",
    "\n",
    "pipeline = get_pipeline(pipeline_name)\n",
    "\n",
    "# Upload the model\n",
    "\n",
    "bike_day_model = wl.upload_model(model_name, model_file_name).configure(runtime=\"python\")\n",
    "\n",
    "# Add the model as a pipeline step\n",
    "\n",
    "pipeline.add_model_step(bike_day_model)\n",
    "\n",
    "connection_input = get_connection(bigquery_connection_input_name, bigquery_connection_input_type, bigquery_connection_input_argument)\n",
    "connection_output = get_connection(bigquery_connection_output_name, bigquery_connection_output_type, bigquery_connection_output_argument)\n"
   ]
  },
  {
   "attachments": {},
   "cell_type": "markdown",
   "metadata": {},
   "source": [
    "Now we'll create our tasks with the custom parameters from existing orchestrations."
   ]
  },
  {
   "cell_type": "code",
   "execution_count": 13,
   "metadata": {},
   "outputs": [
    {
     "data": {
      "text/html": [
       "<table><tr><th>id</th><th>status</th><th>name</th><th>sha</th><th>created at</th><th>updated at</th></tr><tr><td>5bb2372b-e7af-40e9-8edd-be09b128f716</td><td>ready</td><td>bigquery_statsmodel_remote_inference.zip</td><td>6f9c76cfce70afae13b7486a92210f49644149696f47b307b48edd1caee10f15</td><td>2023-11-May 19:17:05</td><td>2023-11-May 19:17:51</td></tr><tr><td>ed3c00e6-90e6-484d-9425-4511addb798b</td><td>ready</td><td>bigquery_statsmodel_remote_inference.zip</td><td>b94bae4a94b443b5d8f5fac19849805b47dbf5d10d24a09cfa40900187bda161</td><td>2023-11-May 19:23:19</td><td>2023-11-May 19:24:05</td></tr></table>"
      ],
      "text/plain": [
       "[<wallaroo.orchestration.Orchestration at 0x2865faa00>,\n",
       " <wallaroo.orchestration.Orchestration at 0x2865fa310>]"
      ]
     },
     "execution_count": 13,
     "metadata": {},
     "output_type": "execute_result"
    }
   ],
   "source": [
    "wl.list_orchestrations()"
   ]
  },
  {
   "cell_type": "code",
   "execution_count": 20,
   "metadata": {},
   "outputs": [
    {
     "data": {
      "text/html": [
       "<table><tr><th>id</th><th>status</th><th>name</th><th>sha</th><th>created at</th><th>updated at</th></tr><tr><td>5bb2372b-e7af-40e9-8edd-be09b128f716</td><td>ready</td><td>bigquery_statsmodel_remote_inference.zip</td><td>6f9c76cfce70afae13b7486a92210f49644149696f47b307b48edd1caee10f15</td><td>2023-11-May 19:17:05</td><td>2023-11-May 19:17:51</td></tr><tr><td>ed3c00e6-90e6-484d-9425-4511addb798b</td><td>ready</td><td>bigquery_statsmodel_remote_inference.zip</td><td>b94bae4a94b443b5d8f5fac19849805b47dbf5d10d24a09cfa40900187bda161</td><td>2023-11-May 19:23:19</td><td>2023-11-May 19:24:05</td></tr><tr><td>96915dce-ede9-4ea6-b7a7-850de26c6e84</td><td>ready</td><td>bigquery_statsmodel_remote_inference.zip</td><td>7e9cafd2a624fba4ea91c4e995eccbdf0ed03e94891fffaf01e7ea15f07cb60c</td><td>2023-11-May 19:26:40</td><td>2023-11-May 19:27:26</td></tr><tr><td>779ec014-90f3-46c7-a7bd-288f9ec34a69</td><td>error</td><td>bigquery_statsmodel_remote_inference.zip</td><td>1ba67b04bf70d6546d6a9bc39ca1ec74a1302f538297d639d609afeccea11b19</td><td>2023-11-May 19:32:24</td><td>2023-11-May 19:32:34</td></tr><tr><td>2b96c913-1209-4970-8b58-45bd912c5804</td><td>pending_packaging</td><td>bigquery_statsmodel_remote_inference.zip</td><td>1ba67b04bf70d6546d6a9bc39ca1ec74a1302f538297d639d609afeccea11b19</td><td>2023-11-May 19:33:43</td><td>2023-11-May 19:33:43</td></tr></table>"
      ],
      "text/plain": [
       "[<wallaroo.orchestration.Orchestration at 0x2876c4e50>,\n",
       " <wallaroo.orchestration.Orchestration at 0x2876c4a90>,\n",
       " <wallaroo.orchestration.Orchestration at 0x2865bf7f0>,\n",
       " <wallaroo.orchestration.Orchestration at 0x2865bf130>,\n",
       " <wallaroo.orchestration.Orchestration at 0x2865bf460>]"
      ]
     },
     "execution_count": 20,
     "metadata": {},
     "output_type": "execute_result"
    }
   ],
   "source": [
    "orchestration = wl.upload_orchestration(path=\"./bigquery_statsmodel_remote_inference/bigquery_statsmodel_remote_inference.zip\")\n",
    "wl.list_orchestrations()"
   ]
  },
  {
   "cell_type": "code",
   "execution_count": 21,
   "metadata": {},
   "outputs": [
    {
     "name": "stdout",
     "output_type": "stream",
     "text": [
      "packaging\n",
      "packaging\n",
      "packaging\n",
      "packaging\n",
      "packaging\n",
      "packaging\n",
      "packaging\n"
     ]
    }
   ],
   "source": [
    "while orchestration.status() != 'ready':\n",
    "    print(orchestration.status())\n",
    "    time.sleep(5)"
   ]
  },
  {
   "cell_type": "code",
   "execution_count": 29,
   "metadata": {},
   "outputs": [
    {
     "data": {
      "text/html": [
       "\n",
       "        <table>\n",
       "          <tr>\n",
       "            <th>Field</th>\n",
       "            <th>Value</th>\n",
       "          </tr>\n",
       "          <tr>\n",
       "            <td>ID</td><td>d26baaa7-29b5-4fdb-9d99-367d9b4f9b50</td>\n",
       "          </tr>\n",
       "          <tr>\n",
       "            <td>Status</td><td>pending</td>\n",
       "          </tr>\n",
       "          <tr>\n",
       "            <td>Type</td><td>Temporary Run</td>\n",
       "          </tr>\n",
       "          <tr>\n",
       "            <td>Created At</td><td>2023-11-May 19:41:01</td>\n",
       "          </tr>\n",
       "          <tr>\n",
       "            <td>Updated At</td><td>2023-11-May 19:41:01</td>\n",
       "          </tr>\n",
       "        </table>\n",
       "        "
      ],
      "text/plain": [
       "<wallaroo.task.Task at 0x2865ec3d0>"
      ]
     },
     "metadata": {},
     "output_type": "display_data"
    }
   ],
   "source": [
    "task = orchestration.run_once({\n",
    "    \"workspace_name\": workspace_name,\n",
    "    \"pipeline_name\": pipeline_name,\n",
    "    \"bigquery_connection_input_name\": bigquery_connection_input_name,\n",
    "    \"bigquery_connection_output_name\": bigquery_connection_output_name\n",
    "})\n",
    "display(task)"
   ]
  },
  {
   "cell_type": "code",
   "execution_count": 30,
   "metadata": {},
   "outputs": [
    {
     "data": {
      "text/plain": [
       "'pending'"
      ]
     },
     "metadata": {},
     "output_type": "display_data"
    }
   ],
   "source": [
    "while task.status() != \"started\":\n",
    "    display(task.status())\n",
    "    time.sleep(5)"
   ]
  },
  {
   "cell_type": "code",
   "execution_count": null,
   "metadata": {},
   "outputs": [
    {
     "data": {
      "text/html": [
       "<div>\n",
       "<style scoped>\n",
       "    .dataframe tbody tr th:only-of-type {\n",
       "        vertical-align: middle;\n",
       "    }\n",
       "\n",
       "    .dataframe tbody tr th {\n",
       "        vertical-align: top;\n",
       "    }\n",
       "\n",
       "    .dataframe thead th {\n",
       "        text-align: right;\n",
       "    }\n",
       "</style>\n",
       "<table border=\"1\" class=\"dataframe\">\n",
       "  <thead>\n",
       "    <tr style=\"text-align: right;\">\n",
       "      <th></th>\n",
       "    </tr>\n",
       "  </thead>\n",
       "  <tbody>\n",
       "  </tbody>\n",
       "</table>\n",
       "</div>"
      ],
      "text/plain": [
       "Empty DataFrame\n",
       "Columns: []\n",
       "Index: []"
      ]
     },
     "execution_count": 8,
     "metadata": {},
     "output_type": "execute_result"
    }
   ],
   "source": [
    "pipeline.logs()"
   ]
  },
  {
   "cell_type": "code",
   "execution_count": null,
   "metadata": {},
   "outputs": [],
   "source": []
  }
 ],
 "metadata": {
  "kernelspec": {
   "display_name": "wallaroosdk202302preview",
   "language": "python",
   "name": "python3"
  },
  "language_info": {
   "codemirror_mode": {
    "name": "ipython",
    "version": 3
   },
   "file_extension": ".py",
   "mimetype": "text/x-python",
   "name": "python",
   "nbconvert_exporter": "python",
   "pygments_lexer": "ipython3",
   "version": "3.9.16"
  },
  "orig_nbformat": 4
 },
 "nbformat": 4,
 "nbformat_minor": 2
}
