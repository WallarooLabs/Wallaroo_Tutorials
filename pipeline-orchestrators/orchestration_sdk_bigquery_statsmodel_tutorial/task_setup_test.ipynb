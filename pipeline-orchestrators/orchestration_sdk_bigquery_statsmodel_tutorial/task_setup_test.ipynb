{
 "cells": [
  {
   "cell_type": "code",
   "execution_count": 43,
   "metadata": {},
   "outputs": [],
   "source": [
    "# Set up a workspace and pipeline for testing\n",
    "\n",
    "import wallaroo\n",
    "from wallaroo.object import EntityNotFoundError, RequiredAttributeMissing\n",
    "\n",
    "# to display dataframe tables\n",
    "from IPython.display import display\n",
    "# used to display dataframe information without truncating\n",
    "import pandas as pd\n",
    "pd.set_option('display.max_colwidth', None)\n",
    "import pyarrow as pa\n",
    "\n",
    "import os\n",
    "# Used for the Wallaroo SDK version 2023.1\n",
    "os.environ[\"ARROW_ENABLED\"]=\"True\"\n",
    "\n",
    "import time\n",
    "import json\n",
    "\n",
    "# for Big Query connections\n",
    "from google.cloud import bigquery\n",
    "from google.oauth2 import service_account\n",
    "import db_dtypes\n",
    "\n",
    "# Login through local Wallaroo instance\n",
    "\n",
    "# wl = wallaroo.Client()\n",
    "\n",
    "# # SSO login through keycloak\n",
    "\n",
    "# wallarooPrefix = \"product-uat-ee\"\n",
    "# wallarooSuffix = \"wallaroocommunity.ninja\"\n",
    "\n",
    "wallarooPrefix = \"doc-test\"\n",
    "wallarooSuffix = \"wallaroocommunity.ninja\"\n",
    "\n",
    "wl = wallaroo.Client(api_endpoint=f\"https://{wallarooPrefix}.api.{wallarooSuffix}\", \n",
    "                    auth_endpoint=f\"https://{wallarooPrefix}.keycloak.{wallarooSuffix}\", \n",
    "                    auth_type=\"sso\")\n",
    "\n",
    "# Setting variables for later steps\n",
    "\n",
    "workspace_name = 'bigquerystatsmodelworkspace'\n",
    "pipeline_name = 'bigquerystatsmodelpipeline04'\n",
    "model_name = 'bigquerystatsmodelmodel2'\n",
    "model_file_name = './models/bike_day_model.pkl'\n",
    "\n",
    "bigquery_connection_input_name = \"bigqueryforecastinputs2\"\n",
    "bigquery_connection_input_type = \"BIGQUERY\"\n",
    "bigquery_connection_input_argument = json.load(open('./resources/bigquery_service_account_input_key.json.example'))\n",
    "\n",
    "bigquery_connection_output_name = \"bigqueryforecastoutputs2\"\n",
    "bigquery_connection_output_type = \"BIGQUERY\"\n",
    "bigquery_connection_output_argument = json.load(open('./resources/bigquery_service_account_output_key.json.example'))\n",
    "\n",
    "# helper methods to retrieve workspaces and pipelines\n",
    "\n",
    "def get_workspace(name):\n",
    "    workspace = None\n",
    "    for ws in wl.list_workspaces():\n",
    "        if ws.name() == name:\n",
    "            workspace= ws\n",
    "    if(workspace == None):\n",
    "        workspace = wl.create_workspace(name)\n",
    "    return workspace\n",
    "\n",
    "def get_pipeline(name):\n",
    "    try:\n",
    "        pipeline = wl.pipelines_by_name(name)[0]\n",
    "    except EntityNotFoundError:\n",
    "        pipeline = wl.build_pipeline(name)\n",
    "    return pipeline\n",
    "\n",
    "def get_connection(name, connection_type, connection_arguments):\n",
    "    try:\n",
    "        connection = wl.get_connection(name)\n",
    "    except RequiredAttributeMissing:\n",
    "        connection =wl.create_connection(name, \n",
    "                  connection_type, \n",
    "                  connection_arguments)\n",
    "    return connection\n",
    "\n",
    "\n",
    "workspace = get_workspace(workspace_name)\n",
    "wl.set_current_workspace(workspace)\n",
    "\n",
    "pipeline = get_pipeline(pipeline_name)\n",
    "\n",
    "# Upload the model\n",
    "\n",
    "bike_day_model = wl.upload_model(model_name, model_file_name).configure(runtime=\"python\")\n",
    "\n",
    "# Add the model as a pipeline step\n",
    "\n",
    "pipeline.add_model_step(bike_day_model)\n",
    "\n",
    "connection_input = get_connection(bigquery_connection_input_name, bigquery_connection_input_type, bigquery_connection_input_argument)\n",
    "connection_output = get_connection(bigquery_connection_output_name, bigquery_connection_output_type, bigquery_connection_output_argument)\n"
   ]
  },
  {
   "cell_type": "code",
   "execution_count": 44,
   "metadata": {},
   "outputs": [
    {
     "data": {
      "text/html": [
       "<table><tr><th>name</th> <td>bigquerystatsmodelpipeline04</td></tr><tr><th>created</th> <td>2023-05-11 20:35:53.367690+00:00</td></tr><tr><th>last_updated</th> <td>2023-05-11 20:35:53.367690+00:00</td></tr><tr><th>deployed</th> <td>(none)</td></tr><tr><th>tags</th> <td></td></tr><tr><th>versions</th> <td>95070db1-c5f9-4900-8146-d2a5516aef9c</td></tr><tr><th>steps</th> <td></td></tr></table>"
      ],
      "text/plain": [
       "{'name': 'bigquerystatsmodelpipeline04', 'create_time': datetime.datetime(2023, 5, 11, 20, 35, 53, 367690, tzinfo=tzutc()), 'definition': \"[{'ModelInference': {'models': [{'name': 'bigquerystatsmodelmodel2', 'version': '42d3809e-9e61-4367-be49-fb398fb2e5bf', 'sha': '2e55c7381d9774eb72ca9f80759d6be54e1807e920a7628c9b90b7a289a1433b'}]}}]\"}"
      ]
     },
     "execution_count": 44,
     "metadata": {},
     "output_type": "execute_result"
    }
   ],
   "source": [
    "pipeline"
   ]
  },
  {
   "attachments": {},
   "cell_type": "markdown",
   "metadata": {},
   "source": [
    "Now we'll create our tasks with the custom parameters from existing orchestrations."
   ]
  },
  {
   "cell_type": "code",
   "execution_count": 45,
   "metadata": {},
   "outputs": [
    {
     "data": {
      "text/html": [
       "<table><tr><th>id</th><th>status</th><th>name</th><th>sha</th><th>created at</th><th>updated at</th></tr><tr><td>78779772-c674-481b-8753-3d4378d86ea3</td><td>ready</td><td>bigquery_statsmodel_remote_inference.zip</td><td>1ba67b04bf70d6546d6a9bc39ca1ec74a1302f538297d639d609afeccea11b19</td><td>2023-11-May 20:08:24</td><td>2023-11-May 20:09:11</td></tr><tr><td>66d64672-c764-4c3d-95de-70e407aafb37</td><td>pending_packaging</td><td>bigquery_statsmodel_remote_inference.zip</td><td>35ccbc981ece6426e73520eaccdd7802ff42730b721154c7b1b99bf5ec031aaf</td><td>2023-11-May 20:36:24</td><td>2023-11-May 20:36:24</td></tr><tr><td>30d171eb-c225-4dd5-9902-6d1c34e2f457</td><td>ready</td><td>bigquery_statsmodel_remote_inference.zip</td><td>6f9c76cfce70afae13b7486a92210f49644149696f47b307b48edd1caee10f15</td><td>2023-11-May 19:04:55</td><td>2023-11-May 19:05:42</td></tr></table>"
      ],
      "text/plain": [
       "[<wallaroo.orchestration.Orchestration at 0x11105c070>,\n",
       " <wallaroo.orchestration.Orchestration at 0x287a7c730>,\n",
       " <wallaroo.orchestration.Orchestration at 0x1110abeb0>]"
      ]
     },
     "execution_count": 45,
     "metadata": {},
     "output_type": "execute_result"
    }
   ],
   "source": [
    "orchestration = wl.upload_orchestration(path=\"./bigquery_statsmodel_remote_inference/bigquery_statsmodel_remote_inference.zip\")\n",
    "wl.list_orchestrations()"
   ]
  },
  {
   "cell_type": "code",
   "execution_count": 46,
   "metadata": {},
   "outputs": [
    {
     "name": "stdout",
     "output_type": "stream",
     "text": [
      "pending_packaging\n",
      "packaging\n",
      "packaging\n",
      "packaging\n",
      "packaging\n",
      "packaging\n",
      "packaging\n",
      "packaging\n"
     ]
    }
   ],
   "source": [
    "while orchestration.status() != 'ready':\n",
    "    print(orchestration.status())\n",
    "    time.sleep(5)"
   ]
  },
  {
   "cell_type": "code",
   "execution_count": 39,
   "metadata": {},
   "outputs": [
    {
     "data": {
      "text/html": [
       "<table><tr><th>name</th> <td>bigquerystatsmodelpipeline03</td></tr><tr><th>created</th> <td>2023-05-11 20:08:05.069839+00:00</td></tr><tr><th>last_updated</th> <td>2023-05-11 20:09:46.328966+00:00</td></tr><tr><th>deployed</th> <td>False</td></tr><tr><th>tags</th> <td></td></tr><tr><th>versions</th> <td>f429497b-ac51-4cc6-a0d8-3b35f5f804e7, 51c65a05-7ac8-4542-94dd-3def2f8b4c9a</td></tr><tr><th>steps</th> <td>bigquerystatsmodelmodel2</td></tr></table>"
      ],
      "text/plain": [
       "{'name': 'bigquerystatsmodelpipeline03', 'create_time': datetime.datetime(2023, 5, 11, 20, 8, 5, 69839, tzinfo=tzutc()), 'definition': \"[{'ModelInference': {'models': [{'name': 'bigquerystatsmodelmodel2', 'version': 'ee9f0549-6c9c-4879-bfe4-f513bce530da', 'sha': '2e55c7381d9774eb72ca9f80759d6be54e1807e920a7628c9b90b7a289a1433b'}]}}]\"}"
      ]
     },
     "execution_count": 39,
     "metadata": {},
     "output_type": "execute_result"
    }
   ],
   "source": [
    "# Without these, the task will fail\n",
    "\n",
    "# pipeline.deploy()\n",
    "# pipeline.undeploy()"
   ]
  },
  {
   "cell_type": "code",
   "execution_count": 47,
   "metadata": {},
   "outputs": [
    {
     "data": {
      "text/html": [
       "\n",
       "        <table>\n",
       "          <tr>\n",
       "            <th>Field</th>\n",
       "            <th>Value</th>\n",
       "          </tr>\n",
       "          <tr>\n",
       "            <td>ID</td><td>0d8225f0-5d98-43a6-b530-f7f8083a9547</td>\n",
       "          </tr>\n",
       "          <tr>\n",
       "            <td>Status</td><td>pending</td>\n",
       "          </tr>\n",
       "          <tr>\n",
       "            <td>Type</td><td>Temporary Run</td>\n",
       "          </tr>\n",
       "          <tr>\n",
       "            <td>Created At</td><td>2023-11-May 20:37:14</td>\n",
       "          </tr>\n",
       "          <tr>\n",
       "            <td>Updated At</td><td>2023-11-May 20:37:14</td>\n",
       "          </tr>\n",
       "        </table>\n",
       "        "
      ],
      "text/plain": [
       "<wallaroo.task.Task at 0x1105ba730>"
      ]
     },
     "metadata": {},
     "output_type": "display_data"
    }
   ],
   "source": [
    "task = orchestration.run_once({\n",
    "    \"pipeline_name\": pipeline_name\n",
    "})\n",
    "display(task)"
   ]
  },
  {
   "cell_type": "code",
   "execution_count": 48,
   "metadata": {},
   "outputs": [
    {
     "data": {
      "text/plain": [
       "'pending'"
      ]
     },
     "metadata": {},
     "output_type": "display_data"
    }
   ],
   "source": [
    "while task.status() != \"started\":\n",
    "    display(task.status())\n",
    "    time.sleep(5)"
   ]
  },
  {
   "cell_type": "code",
   "execution_count": 42,
   "metadata": {},
   "outputs": [
    {
     "data": {
      "text/html": [
       "<div>\n",
       "<style scoped>\n",
       "    .dataframe tbody tr th:only-of-type {\n",
       "        vertical-align: middle;\n",
       "    }\n",
       "\n",
       "    .dataframe tbody tr th {\n",
       "        vertical-align: top;\n",
       "    }\n",
       "\n",
       "    .dataframe thead th {\n",
       "        text-align: right;\n",
       "    }\n",
       "</style>\n",
       "<table border=\"1\" class=\"dataframe\">\n",
       "  <thead>\n",
       "    <tr style=\"text-align: right;\">\n",
       "      <th></th>\n",
       "      <th>time</th>\n",
       "      <th>in.json</th>\n",
       "      <th>out.json</th>\n",
       "      <th>check_failures</th>\n",
       "    </tr>\n",
       "  </thead>\n",
       "  <tbody>\n",
       "    <tr>\n",
       "      <th>0</th>\n",
       "      <td>2023-05-11 20:11:03.953</td>\n",
       "      <td>{\"temp\":{\"0\":0.291304,\"1\":0.243333,\"2\":0.254167,\"3\":0.253333,\"4\":0.253333,\"5\":0.255833,\"6\":0.215833},\"holiday\":{\"0\":1,\"1\":0,\"2\":0,\"3\":0,\"4\":0,\"5\":0,\"6\":0},\"workingday\":{\"0\":0,\"1\":1,\"2\":1,\"3\":1,\"4\":0,\"5\":0,\"6\":1},\"windspeed\":{\"0\":0.168726,\"1\":0.316546,\"2\":0.350133,\"3\":0.155471,\"4\":0.124383,\"5\":0.350754,\"6\":0.154846}}</td>\n",
       "      <td>{\"forecast\":[1231.2556997246595,1627.3643469089343,1674.3769827243134,1621.9273295873882,1140.7465817903185,1211.5223974364667,1457.1896450382922]}</td>\n",
       "      <td>0</td>\n",
       "    </tr>\n",
       "  </tbody>\n",
       "</table>\n",
       "</div>"
      ],
      "text/plain": [
       "                     time  \\\n",
       "0 2023-05-11 20:11:03.953   \n",
       "\n",
       "                                                                                                                                                                                                                                                                                                                         in.json  \\\n",
       "0  {\"temp\":{\"0\":0.291304,\"1\":0.243333,\"2\":0.254167,\"3\":0.253333,\"4\":0.253333,\"5\":0.255833,\"6\":0.215833},\"holiday\":{\"0\":1,\"1\":0,\"2\":0,\"3\":0,\"4\":0,\"5\":0,\"6\":0},\"workingday\":{\"0\":0,\"1\":1,\"2\":1,\"3\":1,\"4\":0,\"5\":0,\"6\":1},\"windspeed\":{\"0\":0.168726,\"1\":0.316546,\"2\":0.350133,\"3\":0.155471,\"4\":0.124383,\"5\":0.350754,\"6\":0.154846}}   \n",
       "\n",
       "                                                                                                                                              out.json  \\\n",
       "0  {\"forecast\":[1231.2556997246595,1627.3643469089343,1674.3769827243134,1621.9273295873882,1140.7465817903185,1211.5223974364667,1457.1896450382922]}   \n",
       "\n",
       "   check_failures  \n",
       "0               0  "
      ]
     },
     "execution_count": 42,
     "metadata": {},
     "output_type": "execute_result"
    }
   ],
   "source": [
    "# deploy/undeploy\n",
    "\n",
    "pipeline.deploy()\n",
    "pipeline.undeploy()"
   ]
  },
  {
   "cell_type": "code",
   "execution_count": null,
   "metadata": {},
   "outputs": [],
   "source": [
    "task = orchestration.run_once({\n",
    "    \"pipeline_name\": pipeline_name\n",
    "})\n",
    "display(task)"
   ]
  },
  {
   "cell_type": "code",
   "execution_count": null,
   "metadata": {},
   "outputs": [],
   "source": [
    "# the task should now succeed\n",
    "\n",
    "while task.status() != \"started\":\n",
    "    display(task.status())\n",
    "    time.sleep(5)"
   ]
  }
 ],
 "metadata": {
  "kernelspec": {
   "display_name": "wallaroosdk202302preview",
   "language": "python",
   "name": "python3"
  },
  "language_info": {
   "codemirror_mode": {
    "name": "ipython",
    "version": 3
   },
   "file_extension": ".py",
   "mimetype": "text/x-python",
   "name": "python",
   "nbconvert_exporter": "python",
   "pygments_lexer": "ipython3",
   "version": "3.9.16"
  },
  "orig_nbformat": 4
 },
 "nbformat": 4,
 "nbformat_minor": 2
}
