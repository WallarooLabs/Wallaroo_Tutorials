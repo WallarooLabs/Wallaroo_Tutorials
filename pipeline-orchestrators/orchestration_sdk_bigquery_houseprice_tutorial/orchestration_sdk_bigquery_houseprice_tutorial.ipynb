{
 "cells": [
  {
   "attachments": {},
   "cell_type": "markdown",
   "id": "54d6daff",
   "metadata": {},
   "source": [
    "This can be downloaded as part of the [Wallaroo Tutorials repository](https://github.com/WallarooLabs/Wallaroo_Tutorials/blob/20230314_2023.2_updates/pipeline-orchestrators/orchestration_sdk_bigquery_houseprice_tutorial).\n",
    "\n",
    "## Wallaroo ML Workload Orchestration House Price Model Tutorial\n",
    "\n",
    "This tutorial provides a quick set of methods and examples regarding Wallaroo Connections and Wallaroo ML Workload Orchestration.  For full details, see the Wallaroo Documentation site.\n",
    "\n",
    "Wallaroo provides Data Connections and ML Workload Orchestrations to provide organizations with a method of creating and managing automated tasks that can either be run on demand or a regular schedule.\n",
    "\n",
    "## Definitions\n",
    "\n",
    "* **Orchestration**: A set of instructions written as a python script with a requirements library.  Orchestrations are uploaded to the Wallaroo instance as a .zip file.\n",
    "* **Task**: An implementation of an orchestration.  Tasks are run either once when requested, on a repeating schedule, or as a service.\n",
    "* **Connection**: Definitions set by MLOps engineers that are used by other Wallaroo users for connection information to a data source.  Usually paired with orchestrations.\n",
    "\n",
    "This tutorial will focus on using Google BigQuery as the data source.\n",
    "\n",
    "## Tutorial Goals\n",
    "\n",
    "The tutorial will demonstrate the following:\n",
    "\n",
    "1. Create a Wallaroo connection to retrieving information from a Google BigQuery source table.\n",
    "1. Create a Wallaroo connection to store inference results into a Google BigQuery destination table.\n",
    "1. Upload Wallaroo ML Workload Orchestration that supports BigQuery connections with the connection details.\n",
    "1. Run the orchestration once as a Run Once Task and verify that the inference request succeeded and the inference results were saved to the external data store.\n",
    "1. Schedule the orchestration as a Scheduled Task and verify that the inference request succeeded and the inference results were saved to the external data store."
   ]
  },
  {
   "attachments": {},
   "cell_type": "markdown",
   "id": "67e1bb26",
   "metadata": {},
   "source": [
    "## Prerequisites\n",
    "\n",
    "* An installed Wallaroo instance.\n",
    "* The following Python libraries installed.  These are included by default in a Wallaroo instance's JupyterHub service.\n",
    "  * `os`\n",
    "  * [`wallaroo`](https://pypi.org/project/wallaroo/): The Wallaroo SDK. Included with the Wallaroo JupyterHub service by default.\n",
    "  * [`pandas`](https://pypi.org/project/pandas/): Pandas, mainly used for Pandas DataFrame\n",
    "  * [`pyarrow`](https://pypi.org/project/pyarrow/): PyArrow for Apache Arrow support\n",
    "* The following Python libraries.  These are **not** included in a Wallaroo instance's JupyterHub service.\n",
    "  * [`google-cloud-bigquery`](https://pypi.org/project/google-cloud-bigquery/): Specifically for its support for Google BigQuery.\n",
    "  * [`google-auth`](https://pypi.org/project/google-auth/): Used to authenticate for bigquery.\n",
    "  * [`db-dtypes`](https://pypi.org/project/db-dtypes/): Converts the BigQuery results to Apache Arrow table or pandas DataFrame.\n",
    "\n",
    "## Tutorial Resources\n",
    "\n",
    "* Models:\n",
    "  * `models/rf_model.onnx`: A model that predicts house price values.\n",
    "* Data:\n",
    "  * `data/xtest-1.df.json` and `data/xtest-1k.df.json`:  DataFrame JSON inference inputs with 1 input and 1,000 inputs.\n",
    "  * `data/xtest-1k.arrow`:  Apache Arrow inference inputs with 1 input and 1,000 inputs.\n",
    "  * Sample inference inputs in `CSV` that can be imported into Google BigQuery.\n",
    "    * `data/xtest-1k.df.json`: Random sample housing prices.\n",
    "    * `data/smallinputs.df.json`: Sample housing prices that return results lower than $1.5 million.\n",
    "    * `data/biginputs.df.json`: Sample housing prices that return results higher than $1.5 million.\n",
    "  * SQL queries to create the inputs/outputs tables with schema.\n",
    "    * `./resources/create_inputs_table.sql`: Inputs table with schema.\n",
    "    * `./resources/create_outputs_table.sql`: Outputs table with schema.\n",
    "    * `./resources/housrpricesga_inputs.avro`: Avro container of inputs table.\n"
   ]
  },
  {
   "attachments": {},
   "cell_type": "markdown",
   "id": "a2b09330-0408-45eb-b321-b48b65041789",
   "metadata": {},
   "source": [
    "## Initial Steps\n",
    "\n",
    "For this tutorial, we'll create a workspace, upload our sample model and deploy a pipeline.  We'll perform some quick sample inferences to verify that everything it working.\n",
    "\n",
    "### Load Libraries\n",
    "\n",
    "Here we'll import the various libraries we'll use for the tutorial."
   ]
  },
  {
   "cell_type": "code",
   "execution_count": 8,
   "id": "43ee5f42",
   "metadata": {},
   "outputs": [],
   "source": [
    "import wallaroo\n",
    "from wallaroo.object import EntityNotFoundError, RequiredAttributeMissing\n",
    "\n",
    "# to display dataframe tables\n",
    "from IPython.display import display\n",
    "# used to display dataframe information without truncating\n",
    "import pandas as pd\n",
    "pd.set_option('display.max_colwidth', None)\n",
    "import pyarrow as pa\n",
    "\n",
    "import os\n",
    "# Used for the Wallaroo SDK version 2023.1\n",
    "os.environ[\"ARROW_ENABLED\"]=\"True\"\n",
    "\n",
    "import time\n",
    "import json\n",
    "\n",
    "# for Big Query connections\n",
    "from google.cloud import bigquery\n",
    "from google.oauth2 import service_account\n",
    "import db_dtypes"
   ]
  },
  {
   "cell_type": "code",
   "execution_count": 9,
   "id": "bae92d93",
   "metadata": {},
   "outputs": [
    {
     "data": {
      "text/plain": [
       "'2023.2.0rc3'"
      ]
     },
     "execution_count": 9,
     "metadata": {},
     "output_type": "execute_result"
    }
   ],
   "source": [
    "wallaroo.__version__"
   ]
  },
  {
   "attachments": {},
   "cell_type": "markdown",
   "id": "ae645fd0",
   "metadata": {},
   "source": [
    "### Connect to the Wallaroo Instance\n",
    "\n",
    "The first step is to connect to Wallaroo through the Wallaroo client.  The Python library is included in the Wallaroo install and available through the Jupyter Hub interface provided with your Wallaroo environment.\n",
    "\n",
    "This is accomplished using the `wallaroo.Client()` command, which provides a URL to grant the SDK permission to your specific Wallaroo environment.  When displayed, enter the URL into a browser and confirm permissions.  Store the connection into a variable that can be referenced later.\n",
    "\n",
    "If logging into the Wallaroo instance through the internal JupyterHub service, use `wl = wallaroo.Client()`.  If logging in externally, update the `wallarooPrefix` and `wallarooSuffix` variables with the proper DNS information.  For more information on Wallaroo DNS settings, see the [Wallaroo DNS Integration Guide](https://docs.wallaroo.ai/wallaroo-operations-guide/wallaroo-configuration/wallaroo-dns-guide/)."
   ]
  },
  {
   "cell_type": "code",
   "execution_count": 10,
   "id": "e9d19a6e",
   "metadata": {},
   "outputs": [],
   "source": [
    "# Login through local Wallaroo instance\n",
    "\n",
    "# wl = wallaroo.Client()"
   ]
  },
  {
   "cell_type": "code",
   "execution_count": 11,
   "id": "bd9a7b3d",
   "metadata": {},
   "outputs": [],
   "source": [
    "# Setting variables for later steps\n",
    "\n",
    "wallarooPrefix = \"doc-test\"\n",
    "# wallarooPrefix = \"product-uat-ee\"\n",
    "wallarooSuffix = \"wallaroocommunity.ninja\"\n",
    "\n",
    "wl = wallaroo.Client(api_endpoint=f\"https://{wallarooPrefix}.api.{wallarooSuffix}\", \n",
    "                    auth_endpoint=f\"https://{wallarooPrefix}.keycloak.{wallarooSuffix}\", \n",
    "                    auth_type=\"sso\")\n"
   ]
  },
  {
   "attachments": {},
   "cell_type": "markdown",
   "id": "4a8340b1",
   "metadata": {},
   "source": [
    "## Variable Declaration\n",
    "\n",
    "The following variables will be used for our big query testing.  \n",
    "\n",
    "We'll use two connections:\n",
    "\n",
    "* bigquery_input_connection: The connection that will draw inference input data from a BigQuery table.\n",
    "* bigquery_output_connection:  The connection that will upload inference results into a BigQuery table.\n",
    "\n",
    "Not that for the connection arguments, we'll retrieve the information from the files `./bigquery_service_account_input_key.json` and `./bigquery_service_account_output_key.json` that include the  [service account key file(SAK)](https://cloud.google.com/bigquery/docs/authentication/service-account-file) information, as well as the dataset and table used.\n",
    "\n",
    "| Field | Included in SAK | \n",
    "|---|---|\n",
    "| type | √ | \n",
    "| project_id | √ |\n",
    "| private_key_id | √ |\n",
    "| private_key | √ |\n",
    "| client_email | √ |\n",
    "| auth_uri | √ |\n",
    "| token_uri | √ |\n",
    "| auth_provider_x509_cert_url | √ |\n",
    "| client_x509_cert_url | √ |\n",
    "| database | 🚫 |\n",
    "| table | 🚫 |\n"
   ]
  },
  {
   "cell_type": "code",
   "execution_count": 12,
   "id": "06a981ef",
   "metadata": {},
   "outputs": [],
   "source": [
    "# Setting variables for later steps\n",
    "\n",
    "workspace_name = 'bigqueryworkspace'\n",
    "pipeline_name = 'bigquerypipeline'\n",
    "model_name = 'bigquerymodel'\n",
    "model_file_name = './models/rf_model.onnx'\n",
    "\n",
    "bigquery_connection_input_name = \"bigqueryhouseinputs\"\n",
    "bigquery_connection_input_type = \"BIGQUERY\"\n",
    "bigquery_connection_input_argument = json.load(open('./bigquery_service_account_input_key.json.example'))\n",
    "\n",
    "bigquery_connection_output_name = \"bigqueryhouseoutputs\"\n",
    "bigquery_connection_output_type = \"BIGQUERY\"\n",
    "bigquery_connection_output_argument = json.load(open('./bigquery_service_account_output_key.json.example'))"
   ]
  },
  {
   "cell_type": "code",
   "execution_count": 32,
   "id": "bcafb3c3",
   "metadata": {},
   "outputs": [
    {
     "data": {
      "text/plain": [
       "{'name': 'bigqueryworkspace', 'id': 6, 'archived': False, 'created_by': '3aac9f67-3050-4502-915f-fc2f871ee350', 'created_at': '2023-05-16T14:46:37.341605+00:00', 'models': [{'name': 'bigquerymodel', 'versions': 1, 'owner_id': '\"\"', 'last_update_time': datetime.datetime(2023, 5, 16, 14, 46, 39, 120083, tzinfo=tzutc()), 'created_at': datetime.datetime(2023, 5, 16, 14, 46, 39, 120083, tzinfo=tzutc())}], 'pipelines': [{'name': 'bigquerypipeline', 'create_time': datetime.datetime(2023, 5, 16, 14, 46, 38, 369870, tzinfo=tzutc()), 'definition': '[]'}]}"
      ]
     },
     "execution_count": 32,
     "metadata": {},
     "output_type": "execute_result"
    }
   ],
   "source": [
    "workspace"
   ]
  },
  {
   "attachments": {},
   "cell_type": "markdown",
   "id": "9c46c722",
   "metadata": {},
   "source": [
    "### Helper Methods\n",
    "\n",
    "The following helper methods are used to either create or get workspaces, pipelines, and connections."
   ]
  },
  {
   "cell_type": "code",
   "execution_count": 13,
   "id": "0361a9db",
   "metadata": {},
   "outputs": [],
   "source": [
    "# helper methods to retrieve workspaces and pipelines\n",
    "\n",
    "def get_workspace(name):\n",
    "    workspace = None\n",
    "    for ws in wl.list_workspaces():\n",
    "        if ws.name() == name:\n",
    "            workspace= ws\n",
    "    if(workspace == None):\n",
    "        workspace = wl.create_workspace(name)\n",
    "    return workspace\n",
    "\n",
    "def get_pipeline(name):\n",
    "    try:\n",
    "        pipeline = wl.pipelines_by_name(name)[0]\n",
    "    except EntityNotFoundError:\n",
    "        pipeline = wl.build_pipeline(name)\n",
    "    return pipeline\n",
    "\n",
    "def get_connection(name, connection_type, connection_arguments):\n",
    "    try:\n",
    "        connection = wl.get_connection(name)\n",
    "    except RequiredAttributeMissing:\n",
    "        connection =wl.create_connection(name, \n",
    "                  connection_type, \n",
    "                  connection_arguments)\n",
    "    return connection\n"
   ]
  },
  {
   "attachments": {},
   "cell_type": "markdown",
   "id": "98b78cf9",
   "metadata": {},
   "source": [
    "### Create the Workspace and Pipeline\n",
    "\n",
    "We'll now create our workspace and pipeline for the tutorial.  If this tutorial has been run previously, then this will retrieve the existing ones with the assumption they're for us with this tutorial.\n",
    "\n",
    "We'll set the retrieved workspace as the current workspace in the SDK, so all commands will default to that workspace."
   ]
  },
  {
   "cell_type": "code",
   "execution_count": 14,
   "id": "59aa845d",
   "metadata": {},
   "outputs": [],
   "source": [
    "workspace = get_workspace(workspace_name)\n",
    "wl.set_current_workspace(workspace)\n",
    "\n",
    "pipeline = get_pipeline(pipeline_name)"
   ]
  },
  {
   "attachments": {},
   "cell_type": "markdown",
   "id": "8a9fc274",
   "metadata": {},
   "source": [
    "### Upload the Model and Deploy Pipeline\n",
    "\n",
    "We'll upload our model into our sample workspace, then add it as a pipeline step before deploying the pipeline to it's ready to accept inference requests."
   ]
  },
  {
   "cell_type": "code",
   "execution_count": 15,
   "id": "f6a69610",
   "metadata": {},
   "outputs": [
    {
     "data": {
      "text/html": [
       "<table><tr><th>name</th> <td>bigquerypipeline</td></tr><tr><th>created</th> <td>2023-05-16 14:46:38.369870+00:00</td></tr><tr><th>last_updated</th> <td>2023-05-16 14:46:38.369870+00:00</td></tr><tr><th>deployed</th> <td>(none)</td></tr><tr><th>tags</th> <td></td></tr><tr><th>versions</th> <td>26135618-f119-4530-8974-c8e7c534d2cf</td></tr><tr><th>steps</th> <td></td></tr></table>"
      ],
      "text/plain": [
       "{'name': 'bigquerypipeline', 'create_time': datetime.datetime(2023, 5, 16, 14, 46, 38, 369870, tzinfo=tzutc()), 'definition': \"[{'ModelInference': {'models': [{'name': 'bigquerymodel', 'version': '584aa8c3-2e50-4ec6-bbbe-443568642276', 'sha': 'e22a0831aafd9917f3cc87a15ed267797f80e2afa12ad7d8810ca58f173b8cc6'}]}}]\"}"
      ]
     },
     "execution_count": 15,
     "metadata": {},
     "output_type": "execute_result"
    }
   ],
   "source": [
    "# Upload the model\n",
    "\n",
    "housing_model_control = wl.upload_model(model_name, model_file_name).configure()\n",
    "\n",
    "# Add the model as a pipeline step\n",
    "\n",
    "pipeline.add_model_step(housing_model_control)"
   ]
  },
  {
   "cell_type": "code",
   "execution_count": 16,
   "id": "a484796e",
   "metadata": {},
   "outputs": [
    {
     "data": {
      "text/html": [
       "<table><tr><th>name</th> <td>bigquerypipeline</td></tr><tr><th>created</th> <td>2023-05-16 14:46:38.369870+00:00</td></tr><tr><th>last_updated</th> <td>2023-05-16 14:46:41.190864+00:00</td></tr><tr><th>deployed</th> <td>True</td></tr><tr><th>tags</th> <td></td></tr><tr><th>versions</th> <td>ffac9347-5967-4051-b0f3-b8646acb9371, 26135618-f119-4530-8974-c8e7c534d2cf</td></tr><tr><th>steps</th> <td>bigquerymodel</td></tr></table>"
      ],
      "text/plain": [
       "{'name': 'bigquerypipeline', 'create_time': datetime.datetime(2023, 5, 16, 14, 46, 38, 369870, tzinfo=tzutc()), 'definition': \"[{'ModelInference': {'models': [{'name': 'bigquerymodel', 'version': '584aa8c3-2e50-4ec6-bbbe-443568642276', 'sha': 'e22a0831aafd9917f3cc87a15ed267797f80e2afa12ad7d8810ca58f173b8cc6'}]}}]\"}"
      ]
     },
     "execution_count": 16,
     "metadata": {},
     "output_type": "execute_result"
    }
   ],
   "source": [
    "#deploy the pipeline\n",
    "pipeline.deploy()"
   ]
  },
  {
   "attachments": {},
   "cell_type": "markdown",
   "id": "573bc347",
   "metadata": {},
   "source": [
    "## Create Connections\n",
    "\n",
    "We will create the data source connection via the Wallaroo client command `create_connection`.\n",
    "\n",
    "Connections are created with the Wallaroo client command [`create_connection`](https://staging.docs.wallaroo.ai/wallaroo-developer-guides/wallaroo-sdk-guides/wallaroo-sdk-essentials-guide/wallaroo-sdk-essentials-ml-workload-orchestration/#create-orchestration) with the following parameters.\n",
    "\n",
    "| Parameter | Type | Description |\n",
    "| --- | --- | ---|\n",
    "| **name** | string (Required) | The name of the connection. This must be unique - **if submitting the name of an existing** connection it will return an error. |\n",
    "| **type** | string (Required) | The user defined type of connection. |\n",
    "| **details** | Dict (Required) | User defined configuration details for the data connection.  These can be `{'username':'dataperson', 'password':'datapassword', 'port': 3339}`, or `{'token':'abcde123==', 'host':'example.com', 'port:1234'}`, or other user defined combinations.  |\n",
    "\n",
    "* **IMPORTANT NOTE**:  Data connections names **must** be unique.  Attempting to create a data connection with the same `name` as an existing data connection will result in an error.\n"
   ]
  },
  {
   "cell_type": "code",
   "execution_count": 17,
   "id": "f0925aeb",
   "metadata": {},
   "outputs": [
    {
     "data": {
      "text/html": [
       "<table><tr><th>name</th><th>connection type</th><th>details</th><th>created at</th></tr><tr><td>bigqueryhouseinputs</td><td>BIGQUERY</td><td>*****</td><td>2023-05-16T14:46:56.946532+00:00</td></tr><tr><td>bigqueryhouseoutputs</td><td>BIGQUERY</td><td>*****</td><td>2023-05-16T14:46:57.545493+00:00</td></tr></table>"
      ],
      "text/plain": [
       "[<wallaroo.connection.Connection at 0x157cc00d0>,\n",
       " <wallaroo.connection.Connection at 0x157cc0190>]"
      ]
     },
     "execution_count": 17,
     "metadata": {},
     "output_type": "execute_result"
    }
   ],
   "source": [
    "connection_input = get_connection(bigquery_connection_input_name, bigquery_connection_input_type, bigquery_connection_input_argument)\n",
    "connection_output = get_connection(bigquery_connection_output_name, bigquery_connection_output_type, bigquery_connection_output_argument)\n",
    "wl.list_connections()"
   ]
  },
  {
   "attachments": {},
   "cell_type": "markdown",
   "id": "6caf6e64",
   "metadata": {},
   "source": [
    "### Get Connection by Name\n",
    "\n",
    "The Wallaroo client method `get_connection(name)` retrieves the connection that matches the `name` parameter.  We'll retrieve our connection and store it as `inference_source_connection`."
   ]
  },
  {
   "cell_type": "code",
   "execution_count": 18,
   "id": "6cc80cd3",
   "metadata": {},
   "outputs": [
    {
     "data": {
      "text/html": [
       "\n",
       "        <table>\n",
       "          <tr>\n",
       "            <th>Field</th>\n",
       "            <th>Value</th>\n",
       "          </tr>\n",
       "          <tr>\n",
       "            <td>Name</td><td>bigqueryhouseinputs</td>\n",
       "          </tr>\n",
       "          <tr>\n",
       "            <td>Connection Type</td><td>BIGQUERY</td>\n",
       "          </tr>\n",
       "          <tr>\n",
       "            <td>Details</td><td>*****</td>\n",
       "          </tr>\n",
       "          <tr>\n",
       "            <td>Created At</td><td>2023-05-16T14:46:56.946532+00:00</td>\n",
       "          </tr>\n",
       "        </table>\n",
       "        "
      ],
      "text/plain": [
       "<wallaroo.connection.Connection at 0x1548a61f0>"
      ]
     },
     "metadata": {},
     "output_type": "display_data"
    },
    {
     "data": {
      "text/html": [
       "\n",
       "        <table>\n",
       "          <tr>\n",
       "            <th>Field</th>\n",
       "            <th>Value</th>\n",
       "          </tr>\n",
       "          <tr>\n",
       "            <td>Name</td><td>bigqueryhouseoutputs</td>\n",
       "          </tr>\n",
       "          <tr>\n",
       "            <td>Connection Type</td><td>BIGQUERY</td>\n",
       "          </tr>\n",
       "          <tr>\n",
       "            <td>Details</td><td>*****</td>\n",
       "          </tr>\n",
       "          <tr>\n",
       "            <td>Created At</td><td>2023-05-16T14:46:57.545493+00:00</td>\n",
       "          </tr>\n",
       "        </table>\n",
       "        "
      ],
      "text/plain": [
       "<wallaroo.connection.Connection at 0x108b2d5b0>"
      ]
     },
     "metadata": {},
     "output_type": "display_data"
    }
   ],
   "source": [
    "big_query_input_connection = wl.get_connection(name=bigquery_connection_input_name)\n",
    "big_query_output_connection = wl.get_connection(name=bigquery_connection_output_name)\n",
    "display(big_query_input_connection)\n",
    "display(big_query_output_connection)"
   ]
  },
  {
   "attachments": {},
   "cell_type": "markdown",
   "id": "884d3171",
   "metadata": {},
   "source": [
    "### Add Connection to Workspace\n",
    "\n",
    "The method Workspace [`add_connection(connection_name)`](https://staging.docs.wallaroo.ai/wallaroo-developer-guides/wallaroo-sdk-guides/wallaroo-sdk-essentials-guide/wallaroo-sdk-essentials-dataconnectors/#add-data-connection-to-workspace) adds a Data Connection to a workspace, and takes the following parameters.\n",
    "\n",
    "| Parameter | Type | Description |\n",
    "| --- | --- | ---|\n",
    "| **name** | string (Required) | The name of the Data Connection |\n",
    "\n",
    "We'll add both connections to our sample workspace, then list the connections available to the workspace to confirm."
   ]
  },
  {
   "cell_type": "code",
   "execution_count": 19,
   "id": "6d674d81",
   "metadata": {},
   "outputs": [
    {
     "data": {
      "text/html": [
       "<table><tr><th>name</th><th>connection type</th><th>details</th><th>created at</th></tr><tr><td>bigqueryhouseinputs</td><td>BIGQUERY</td><td>*****</td><td>2023-05-16T14:46:56.946532+00:00</td></tr><tr><td>bigqueryhouseoutputs</td><td>BIGQUERY</td><td>*****</td><td>2023-05-16T14:46:57.545493+00:00</td></tr></table>"
      ],
      "text/plain": [
       "[<wallaroo.connection.Connection at 0x157bc64c0>,\n",
       " <wallaroo.connection.Connection at 0x157bc6820>]"
      ]
     },
     "execution_count": 19,
     "metadata": {},
     "output_type": "execute_result"
    }
   ],
   "source": [
    "workspace.add_connection(bigquery_connection_input_name)\n",
    "workspace.add_connection(bigquery_connection_output_name)\n",
    "\n",
    "\n",
    "workspace.list_connections()"
   ]
  },
  {
   "attachments": {},
   "cell_type": "markdown",
   "id": "b9f60bbf",
   "metadata": {},
   "source": [
    "## Big Query Connection Inference Example\n",
    "\n",
    "We can test the BigQuery connection with a simple inference to our deployed pipeline.  We'll request the data, format the table into a pandas DataFrame, then submit it for an inference request.\n",
    "\n",
    "### Create Google Credentials\n",
    "\n",
    "From our BigQuery request, we'll create the credentials for our BigQuery connection."
   ]
  },
  {
   "cell_type": "code",
   "execution_count": 20,
   "id": "0c4b88ec",
   "metadata": {},
   "outputs": [],
   "source": [
    "bigquery_input_credentials = service_account.Credentials.from_service_account_info(\n",
    "    big_query_input_connection.details())\n",
    "\n",
    "bigquery_output_credentials = service_account.Credentials.from_service_account_info(\n",
    "    big_query_output_connection.details())"
   ]
  },
  {
   "attachments": {},
   "cell_type": "markdown",
   "id": "4d316530",
   "metadata": {},
   "source": [
    "### Connect to Google BigQuery\n",
    "\n",
    "We can now generate a client from our connection details, specifying the project that was included in the `big_query_connection` details."
   ]
  },
  {
   "cell_type": "code",
   "execution_count": 21,
   "id": "7fe2e8d0",
   "metadata": {},
   "outputs": [],
   "source": [
    "bigqueryinputclient = bigquery.Client(\n",
    "    credentials=bigquery_input_credentials, \n",
    "    project=big_query_input_connection.details()['project_id']\n",
    ")\n",
    "bigqueryoutputclient = bigquery.Client(\n",
    "    credentials=bigquery_output_credentials, \n",
    "    project=big_query_output_connection.details()['project_id']\n",
    ")"
   ]
  },
  {
   "attachments": {},
   "cell_type": "markdown",
   "id": "05f91f2b",
   "metadata": {},
   "source": [
    "### Query Data\n",
    "\n",
    "Now we'll create our query and retrieve information from out dataset and table as defined in the file `bigquery_service_account_key.json`.  The table is expected to be in the format of the file `./data/xtest-1k.df.json`."
   ]
  },
  {
   "cell_type": "code",
   "execution_count": 22,
   "id": "bf4a7e40",
   "metadata": {},
   "outputs": [],
   "source": [
    "inference_dataframe_input = bigqueryinputclient.query(\n",
    "        f\"\"\"\n",
    "        SELECT tensor\n",
    "        FROM {big_query_input_connection.details()['dataset']}.{big_query_input_connection.details()['table']}\"\"\"\n",
    "    ).to_dataframe()"
   ]
  },
  {
   "cell_type": "code",
   "execution_count": 23,
   "id": "4924489d",
   "metadata": {},
   "outputs": [
    {
     "data": {
      "text/html": [
       "<div>\n",
       "<style scoped>\n",
       "    .dataframe tbody tr th:only-of-type {\n",
       "        vertical-align: middle;\n",
       "    }\n",
       "\n",
       "    .dataframe tbody tr th {\n",
       "        vertical-align: top;\n",
       "    }\n",
       "\n",
       "    .dataframe thead th {\n",
       "        text-align: right;\n",
       "    }\n",
       "</style>\n",
       "<table border=\"1\" class=\"dataframe\">\n",
       "  <thead>\n",
       "    <tr style=\"text-align: right;\">\n",
       "      <th></th>\n",
       "      <th>tensor</th>\n",
       "    </tr>\n",
       "  </thead>\n",
       "  <tbody>\n",
       "    <tr>\n",
       "      <th>0</th>\n",
       "      <td>[4.0, 2.5, 2900.0, 5505.0, 2.0, 0.0, 0.0, 3.0, 8.0, 2900.0, 0.0, 47.6063, -122.02, 2970.0, 5251.0, 12.0, 0.0, 0.0]</td>\n",
       "    </tr>\n",
       "    <tr>\n",
       "      <th>1</th>\n",
       "      <td>[2.0, 2.5, 2170.0, 6361.0, 1.0, 0.0, 2.0, 3.0, 8.0, 2170.0, 0.0, 47.7109, -122.017, 2310.0, 7419.0, 6.0, 0.0, 0.0]</td>\n",
       "    </tr>\n",
       "    <tr>\n",
       "      <th>2</th>\n",
       "      <td>[3.0, 2.5, 1300.0, 812.0, 2.0, 0.0, 0.0, 3.0, 8.0, 880.0, 420.0, 47.5893, -122.317, 1300.0, 824.0, 6.0, 0.0, 0.0]</td>\n",
       "    </tr>\n",
       "    <tr>\n",
       "      <th>3</th>\n",
       "      <td>[4.0, 2.5, 2500.0, 8540.0, 2.0, 0.0, 0.0, 3.0, 9.0, 2500.0, 0.0, 47.5759, -121.994, 2560.0, 8475.0, 24.0, 0.0, 0.0]</td>\n",
       "    </tr>\n",
       "    <tr>\n",
       "      <th>4</th>\n",
       "      <td>[3.0, 1.75, 2200.0, 11520.0, 1.0, 0.0, 0.0, 4.0, 7.0, 2200.0, 0.0, 47.7659, -122.341, 1690.0, 8038.0, 62.0, 0.0, 0.0]</td>\n",
       "    </tr>\n",
       "  </tbody>\n",
       "</table>\n",
       "</div>"
      ],
      "text/plain": [
       "                                                                                                                  tensor\n",
       "0     [4.0, 2.5, 2900.0, 5505.0, 2.0, 0.0, 0.0, 3.0, 8.0, 2900.0, 0.0, 47.6063, -122.02, 2970.0, 5251.0, 12.0, 0.0, 0.0]\n",
       "1     [2.0, 2.5, 2170.0, 6361.0, 1.0, 0.0, 2.0, 3.0, 8.0, 2170.0, 0.0, 47.7109, -122.017, 2310.0, 7419.0, 6.0, 0.0, 0.0]\n",
       "2      [3.0, 2.5, 1300.0, 812.0, 2.0, 0.0, 0.0, 3.0, 8.0, 880.0, 420.0, 47.5893, -122.317, 1300.0, 824.0, 6.0, 0.0, 0.0]\n",
       "3    [4.0, 2.5, 2500.0, 8540.0, 2.0, 0.0, 0.0, 3.0, 9.0, 2500.0, 0.0, 47.5759, -121.994, 2560.0, 8475.0, 24.0, 0.0, 0.0]\n",
       "4  [3.0, 1.75, 2200.0, 11520.0, 1.0, 0.0, 0.0, 4.0, 7.0, 2200.0, 0.0, 47.7659, -122.341, 1690.0, 8038.0, 62.0, 0.0, 0.0]"
      ]
     },
     "execution_count": 23,
     "metadata": {},
     "output_type": "execute_result"
    }
   ],
   "source": [
    "inference_dataframe_input.head(5)"
   ]
  },
  {
   "attachments": {},
   "cell_type": "markdown",
   "id": "c1eedb4f",
   "metadata": {},
   "source": [
    "### Sample Inference\n",
    "\n",
    "With our data retrieved, we'll perform an inference and display the results."
   ]
  },
  {
   "cell_type": "code",
   "execution_count": 24,
   "id": "9b8ab22d",
   "metadata": {},
   "outputs": [
    {
     "data": {
      "text/html": [
       "<div>\n",
       "<style scoped>\n",
       "    .dataframe tbody tr th:only-of-type {\n",
       "        vertical-align: middle;\n",
       "    }\n",
       "\n",
       "    .dataframe tbody tr th {\n",
       "        vertical-align: top;\n",
       "    }\n",
       "\n",
       "    .dataframe thead th {\n",
       "        text-align: right;\n",
       "    }\n",
       "</style>\n",
       "<table border=\"1\" class=\"dataframe\">\n",
       "  <thead>\n",
       "    <tr style=\"text-align: right;\">\n",
       "      <th></th>\n",
       "      <th>time</th>\n",
       "      <th>in.tensor</th>\n",
       "      <th>out.variable</th>\n",
       "      <th>check_failures</th>\n",
       "    </tr>\n",
       "  </thead>\n",
       "  <tbody>\n",
       "    <tr>\n",
       "      <th>0</th>\n",
       "      <td>2023-05-16 14:47:04.284</td>\n",
       "      <td>[4.0, 2.5, 2900.0, 5505.0, 2.0, 0.0, 0.0, 3.0, 8.0, 2900.0, 0.0, 47.6063, -122.02, 2970.0, 5251.0, 12.0, 0.0, 0.0]</td>\n",
       "      <td>[718013.75]</td>\n",
       "      <td>0</td>\n",
       "    </tr>\n",
       "    <tr>\n",
       "      <th>1</th>\n",
       "      <td>2023-05-16 14:47:04.284</td>\n",
       "      <td>[2.0, 2.5, 2170.0, 6361.0, 1.0, 0.0, 2.0, 3.0, 8.0, 2170.0, 0.0, 47.7109, -122.017, 2310.0, 7419.0, 6.0, 0.0, 0.0]</td>\n",
       "      <td>[615094.56]</td>\n",
       "      <td>0</td>\n",
       "    </tr>\n",
       "    <tr>\n",
       "      <th>2</th>\n",
       "      <td>2023-05-16 14:47:04.284</td>\n",
       "      <td>[3.0, 2.5, 1300.0, 812.0, 2.0, 0.0, 0.0, 3.0, 8.0, 880.0, 420.0, 47.5893, -122.317, 1300.0, 824.0, 6.0, 0.0, 0.0]</td>\n",
       "      <td>[448627.72]</td>\n",
       "      <td>0</td>\n",
       "    </tr>\n",
       "    <tr>\n",
       "      <th>3</th>\n",
       "      <td>2023-05-16 14:47:04.284</td>\n",
       "      <td>[4.0, 2.5, 2500.0, 8540.0, 2.0, 0.0, 0.0, 3.0, 9.0, 2500.0, 0.0, 47.5759, -121.994, 2560.0, 8475.0, 24.0, 0.0, 0.0]</td>\n",
       "      <td>[758714.2]</td>\n",
       "      <td>0</td>\n",
       "    </tr>\n",
       "    <tr>\n",
       "      <th>4</th>\n",
       "      <td>2023-05-16 14:47:04.284</td>\n",
       "      <td>[3.0, 1.75, 2200.0, 11520.0, 1.0, 0.0, 0.0, 4.0, 7.0, 2200.0, 0.0, 47.7659, -122.341, 1690.0, 8038.0, 62.0, 0.0, 0.0]</td>\n",
       "      <td>[513264.7]</td>\n",
       "      <td>0</td>\n",
       "    </tr>\n",
       "  </tbody>\n",
       "</table>\n",
       "</div>"
      ],
      "text/plain": [
       "                     time  \\\n",
       "0 2023-05-16 14:47:04.284   \n",
       "1 2023-05-16 14:47:04.284   \n",
       "2 2023-05-16 14:47:04.284   \n",
       "3 2023-05-16 14:47:04.284   \n",
       "4 2023-05-16 14:47:04.284   \n",
       "\n",
       "                                                                                                               in.tensor  \\\n",
       "0     [4.0, 2.5, 2900.0, 5505.0, 2.0, 0.0, 0.0, 3.0, 8.0, 2900.0, 0.0, 47.6063, -122.02, 2970.0, 5251.0, 12.0, 0.0, 0.0]   \n",
       "1     [2.0, 2.5, 2170.0, 6361.0, 1.0, 0.0, 2.0, 3.0, 8.0, 2170.0, 0.0, 47.7109, -122.017, 2310.0, 7419.0, 6.0, 0.0, 0.0]   \n",
       "2      [3.0, 2.5, 1300.0, 812.0, 2.0, 0.0, 0.0, 3.0, 8.0, 880.0, 420.0, 47.5893, -122.317, 1300.0, 824.0, 6.0, 0.0, 0.0]   \n",
       "3    [4.0, 2.5, 2500.0, 8540.0, 2.0, 0.0, 0.0, 3.0, 9.0, 2500.0, 0.0, 47.5759, -121.994, 2560.0, 8475.0, 24.0, 0.0, 0.0]   \n",
       "4  [3.0, 1.75, 2200.0, 11520.0, 1.0, 0.0, 0.0, 4.0, 7.0, 2200.0, 0.0, 47.7659, -122.341, 1690.0, 8038.0, 62.0, 0.0, 0.0]   \n",
       "\n",
       "  out.variable  check_failures  \n",
       "0  [718013.75]               0  \n",
       "1  [615094.56]               0  \n",
       "2  [448627.72]               0  \n",
       "3   [758714.2]               0  \n",
       "4   [513264.7]               0  "
      ]
     },
     "metadata": {},
     "output_type": "display_data"
    }
   ],
   "source": [
    "result = pipeline.infer(inference_dataframe_input)\n",
    "display(result.head(5))"
   ]
  },
  {
   "attachments": {},
   "cell_type": "markdown",
   "id": "a7620230",
   "metadata": {},
   "source": [
    "### Upload the Results\n",
    "\n",
    "With the query complete, we'll upload the results back to the BigQuery dataset."
   ]
  },
  {
   "cell_type": "code",
   "execution_count": 25,
   "id": "9fe1115f",
   "metadata": {},
   "outputs": [
    {
     "data": {
      "text/plain": [
       "[[], []]"
      ]
     },
     "execution_count": 25,
     "metadata": {},
     "output_type": "execute_result"
    }
   ],
   "source": [
    "output_table = bigqueryoutputclient.get_table(f\"{big_query_output_connection.details()['dataset']}.{big_query_output_connection.details()['table']}\")\n",
    "\n",
    "bigqueryoutputclient.insert_rows_from_dataframe(\n",
    "    output_table, \n",
    "    dataframe=result.rename(columns={\"in.tensor\":\"in_tensor\", \"out.variable\":\"out_variable\"})\n",
    ")"
   ]
  },
  {
   "attachments": {},
   "cell_type": "markdown",
   "id": "b8d44dc7",
   "metadata": {},
   "source": [
    "## Wallaroo ML Workload Orchestration Example\n",
    "\n",
    "With the pipeline deployed and our connections set, we will now generate our ML Workload Orchestration.  See the [Wallaroo ML Workload Orchestrations guide](https://staging.docs.wallaroo.ai/wallaroo-developer-guides/wallaroo-sdk-guides/wallaroo-sdk-essentials-guide/wallaroo-sdk-essentials-ml-workload-orchestration/) for full details.\n",
    "\n",
    "Orchestrations are uploaded to the Wallaroo instance as a ZIP file with the following requirements:\n",
    "\n",
    "| Parameter | Type | Description |\n",
    "|---|---|---|\n",
    "| **User Code** | (*Required*) Python script as `.py` files | If `main.py` exists, then that will be used as the task entrypoint. Otherwise, the **first** `main.py` found in any subdirectory will be used as the entrypoint. |\n",
    "| Python Library Requirements | (*Optional*) `requirements.txt` file in the [requirements file format](https://pip.pypa.io/en/stable/reference/requirements-file-format/).  A standard Python requirements.txt for any dependencies to be provided in the task environment. The Wallaroo SDK will already be present and **should not be included in the requirements.txt**. Multiple requirements.txt files are not allowed. |\n",
    "| Other artifacts | &nbsp; | Other artifacts such as files, data, or code to support the orchestration.\n",
    "\n",
    "For our example, our orchestration will:\n",
    "\n",
    "1. Use the `bigquery_remote_inference` to open a connection to the input and output tables.\n",
    "1. Deploy the pipeline.\n",
    "1. Perform an inference with the input data.\n",
    "1. Save the inference results to the output table.\n",
    "1. Undeploy the pipeline.\n",
    "\n",
    "This sample script is stored in `bigquery_remote_inference/main.py` with an `requirements.txt` file having the specific libraries for the Google BigQuery connection., and packaged into the orchestration as `./bigquery_remote_inference/bigquery_remote_inference.zip`.  We'll display the steps in uploading the orchestration to the Wallaroo instance.\n",
    "\n",
    "Note that the orchestration assumes the pipeline is already deployed."
   ]
  },
  {
   "attachments": {},
   "cell_type": "markdown",
   "id": "c54d9602",
   "metadata": {},
   "source": [
    "### Upload the Orchestration\n",
    "\n",
    "Orchestrations are uploaded with the Wallaroo client `upload_orchestration(path)` method with the following parameters.\n",
    "\n",
    "| Parameter | Type | Description |\n",
    "| --- | --- | ---|\n",
    "| **path** | string (Required) | The path to the ZIP file to be uploaded. |\n",
    "\n",
    "Once uploaded, the deployment will be prepared and any requirements will be downloaded and installed.\n",
    "\n",
    "\n",
    "For this example, the orchestration `./bigquery_remote_inference/bigquery_remote_inference.zi` will be uploaded and saved to the variable `orchestration`.  Then we will loop until the uploaded orchestration's `status` displays `ready`."
   ]
  },
  {
   "cell_type": "code",
   "execution_count": 30,
   "id": "00e6e6e5",
   "metadata": {},
   "outputs": [
    {
     "name": "stdout",
     "output_type": "stream",
     "text": [
      "pending_packaging\n",
      "pending_packaging\n",
      "packaging\n",
      "packaging\n",
      "packaging\n",
      "packaging\n",
      "packaging\n",
      "packaging\n",
      "packaging\n",
      "packaging\n"
     ]
    }
   ],
   "source": [
    "orchestration = wl.upload_orchestration(path=\"./bigquery_remote_inference/bigquery_remote_inference.zip\")\n",
    "\n",
    "while orchestration.status() != 'ready':\n",
    "    print(orchestration.status())\n",
    "    time.sleep(5)"
   ]
  },
  {
   "cell_type": "code",
   "execution_count": 31,
   "id": "45beade8",
   "metadata": {},
   "outputs": [
    {
     "data": {
      "text/html": [
       "<table><tr><th>id</th><th>name</th><th>status</th><th>filename</th><th>sha</th><th>created at</th><th>updated at</th></tr><tr><td>edbadf30-0a6b-475d-9def-5dec63bdd174</td><td>None</td><td>ready</td><td>bigquery_remote_inference.zip</td><td>ff31c7...77a6a1</td><td>2023-16-May 14:58:42</td><td>2023-16-May 14:59:37</td></tr></table>"
      ],
      "text/plain": [
       "[<wallaroo.orchestration.Orchestration at 0x157bd15e0>]"
      ]
     },
     "execution_count": 31,
     "metadata": {},
     "output_type": "execute_result"
    }
   ],
   "source": [
    "wl.list_orchestrations()"
   ]
  },
  {
   "attachments": {},
   "cell_type": "markdown",
   "id": "bf028e54",
   "metadata": {},
   "source": [
    "## Task Management Tutorial\n",
    "\n",
    "Once an Orchestration has the status `ready`, it can be run as a task.  Tasks have three run options.\n",
    "\n",
    "| Type | SDK Call |  How triggered |\n",
    "|---|---|:---|\n",
    "| Once       | `orchestration.run_once(name, json_args, timeout)` | Task runs once and exits.| Single batch, experimentation. |\n",
    "| Scheduled  | `orchestration.run_scheduled(name, schedule, timeout, json_args)` | User provides schedule. Task runs exits whenever schedule dictates. | Recurrent batch. |"
   ]
  },
  {
   "attachments": {},
   "cell_type": "markdown",
   "id": "de1423fb",
   "metadata": {},
   "source": [
    "### Run Task Once\n",
    "\n",
    "We'll do both a Run Once task and generate our Run Once Task from our orchestration.\n",
    "\n",
    "Tasks are generated and run once with the Orchestration `run_once(name, json_args, timeout)` method.  Any arguments for the orchestration are passed in as a `Dict`.  If there are no arguments, then an empty set `{}` is passed.\n",
    "\n",
    "We'll display the last 5 rows of our BigQuery output table, then start the task that will perform the same inference we did above."
   ]
  },
  {
   "cell_type": "code",
   "execution_count": null,
   "id": "a3c66529",
   "metadata": {},
   "outputs": [],
   "source": [
    "task_inference_results = bigqueryoutputclient.query(\n",
    "        f\"\"\"\n",
    "        SELECT *\n",
    "        FROM {big_query_output_connection.details()['dataset']}.{big_query_output_connection.details()['table']}\n",
    "        ORDER BY time DESC\n",
    "        LIMIT 5\n",
    "        \"\"\"\n",
    "    ).to_dataframe()\n",
    "\n",
    "display(task_inference_results)"
   ]
  },
  {
   "cell_type": "code",
   "execution_count": null,
   "id": "e53d7731",
   "metadata": {},
   "outputs": [],
   "source": [
    "# Example: run once\n",
    "\n",
    "import datetime\n",
    "task_start = datetime.datetime.now()\n",
    "\n",
    "task = orchestration.run_once(name=\"big query single run\", json_args={})\n",
    "task"
   ]
  },
  {
   "attachments": {},
   "cell_type": "markdown",
   "id": "0dcbc1d4",
   "metadata": {},
   "source": [
    "### Task Status\n",
    "\n",
    "The list of tasks in the Wallaroo instance is retrieves through the Wallaroo Client `list_tasks()` method.  This returns an array list of the following.\n",
    "\n",
    "| Parameter | Type | Description |\n",
    "| --- | --- | ---|\n",
    "| **id** | string | The UUID identifier for the task. |\n",
    "| **status** | enum | The status of the task.  Values are: <br><ul><li>`pending`: The task has not been started.</li><li>`started`: The task has been scheduled to execute.</li><li>`pending_kill`: The task kill command has been issued and the task is scheduled to be stopped.</li></ul> |\n",
    "| **type** | string | The type of the task.  Values are: <br><ul><li>`Temporary Run`: The task runs once then stop.</li><li>`Scheduled Run`: The task repeats on a `cron` like schedule.</li></ul> |\n",
    "| **created at** | DateTime | The date and time the task was started. |\n",
    "| **updated at** | DateTime | The date and time the task was updated. |\n",
    "\n",
    "For this example, the status of the previously created task will be generated, then looped until it has reached status `started`."
   ]
  },
  {
   "cell_type": "code",
   "execution_count": null,
   "id": "a05a299f",
   "metadata": {},
   "outputs": [],
   "source": [
    "while task.status() != \"started\":\n",
    "    display(task.status())\n",
    "    time.sleep(5)"
   ]
  },
  {
   "cell_type": "code",
   "execution_count": null,
   "id": "d29ea0bf",
   "metadata": {},
   "outputs": [],
   "source": [
    "wl.list_tasks()"
   ]
  },
  {
   "attachments": {},
   "cell_type": "markdown",
   "id": "7bd6a79a",
   "metadata": {},
   "source": [
    "### Task Results\n",
    "\n",
    "We can view the inferences from our logs and verify that new entries were added from our task.  We'll query the last 5 rows of our inference output table after a wait of 60 seconds."
   ]
  },
  {
   "cell_type": "code",
   "execution_count": null,
   "id": "818b5f3d",
   "metadata": {},
   "outputs": [],
   "source": [
    "time.sleep(60)\n",
    "\n",
    "task_inference_results = bigqueryoutputclient.query(\n",
    "        f\"\"\"\n",
    "        SELECT *\n",
    "        FROM {big_query_output_connection.details()['dataset']}.{big_query_output_connection.details()['table']}\n",
    "        ORDER BY time DESC LIMIT 5\"\"\"\n",
    "    ).to_dataframe()\n",
    "\n",
    "display(task_inference_results)"
   ]
  },
  {
   "attachments": {},
   "cell_type": "markdown",
   "id": "24d22c9a",
   "metadata": {},
   "source": [
    "## Scheduled Run Task Example\n",
    "\n",
    "The other method of using tasks is as a **scheduled run** through the Orchestration `run_scheduled(name, schedule, timeout, json_args)`.  This sets up a task to run on an regular schedule as defined by the `schedule` parameter in the `cron` service format.  For example:\n",
    "\n",
    "```python\n",
    "schedule={'42 * * * *'}\n",
    "```\n",
    "\n",
    "Runs on the 42nd minute of every hour.\n",
    "\n",
    "For our example, we will create a scheduled task to run every 1 minute, display the inference results, then use the Orchestration `kill` task to keep the task from running any further."
   ]
  },
  {
   "cell_type": "code",
   "execution_count": null,
   "id": "8ab45fdc",
   "metadata": {},
   "outputs": [],
   "source": [
    "task_inference_results = bigqueryoutputclient.query(\n",
    "        f\"\"\"\n",
    "        SELECT *\n",
    "        FROM {big_query_output_connection.details()['dataset']}.{big_query_output_connection.details()['table']}\n",
    "        ORDER BY time DESC LIMIT 5\"\"\"\n",
    "    ).to_dataframe()\n",
    "\n",
    "display(task_inference_results.tail(5))\n",
    "\n",
    "scheduled_task = orchestration.run_scheduled(name=\"simple_inference_schedule\", schedule=\"*/1 * * * *\", timeout=120, json_args={})"
   ]
  },
  {
   "cell_type": "code",
   "execution_count": null,
   "id": "efac60c3",
   "metadata": {},
   "outputs": [],
   "source": [
    "while scheduled_task.status() != \"started\":\n",
    "    display(scheduled_task.status())\n",
    "    time.sleep(5)"
   ]
  },
  {
   "cell_type": "code",
   "execution_count": null,
   "id": "98668880",
   "metadata": {},
   "outputs": [],
   "source": [
    "#wait 120 seconds to give the scheduled event time to finish\n",
    "time.sleep(120)\n",
    "task_inference_results = bigqueryoutputclient.query(\n",
    "        f\"\"\"\n",
    "        SELECT *\n",
    "        FROM {big_query_output_connection.details()['dataset']}.{big_query_output_connection.details()['table']}\n",
    "        ORDER BY time DESC LIMIT 5\"\"\"\n",
    "    ).to_dataframe()\n",
    "\n",
    "display(task_inference_results.tail(5))"
   ]
  },
  {
   "attachments": {},
   "cell_type": "markdown",
   "id": "e957bfc7",
   "metadata": {},
   "source": [
    "## Kill Task\n",
    "\n",
    "With our testing complete, we will kill the scheduled task so it will not run again.  First we'll show all the tasks to verify that our task is there, then issue it the kill command."
   ]
  },
  {
   "cell_type": "code",
   "execution_count": null,
   "id": "1e9eda3a",
   "metadata": {},
   "outputs": [],
   "source": [
    "scheduled_task.kill()"
   ]
  },
  {
   "attachments": {},
   "cell_type": "markdown",
   "id": "58207f04",
   "metadata": {},
   "source": [
    "## Cleanup\n",
    "\n",
    "With the tutorial complete, we can undeploy the pipeline and return the resources back to the Wallaroo instance."
   ]
  },
  {
   "cell_type": "code",
   "execution_count": null,
   "id": "bb96a086",
   "metadata": {},
   "outputs": [],
   "source": [
    "pipeline.undeploy()"
   ]
  }
 ],
 "metadata": {
  "kernelspec": {
   "display_name": "Python 3 (ipykernel)",
   "language": "python",
   "name": "python3"
  },
  "language_info": {
   "codemirror_mode": {
    "name": "ipython",
    "version": 3
   },
   "file_extension": ".py",
   "mimetype": "text/x-python",
   "name": "python",
   "nbconvert_exporter": "python",
   "pygments_lexer": "ipython3",
   "version": "3.9.16"
  }
 },
 "nbformat": 4,
 "nbformat_minor": 5
}
