{
 "cells": [
  {
   "attachments": {},
   "cell_type": "markdown",
   "id": "54d6daff",
   "metadata": {},
   "source": [
    "This can be downloaded as part of the [Wallaroo Tutorials repository](https://github.com/WallarooLabs/quickstartguide_samples/blob/20230314_2023.2_updates/pipeline-orchestrators/orchestration_sdk_comprehensive_tutorial).\n",
    "\n",
    "## Pipeline Orchestration Comprehensive Tutorial\n",
    "\n",
    "This tutorial provides a complete set of methods and examples regarding Wallaroo Connections and Wallaroo ML Workload Orchestration.\n",
    "\n",
    "Wallaroo provides data connections, orchestrations, and tasks to provide organizations with a method of creating and managing automated tasks that can either be run on demand, on a regular schedule, or as a service so they respond to requests.\n",
    "\n",
    "| Object | Description |\n",
    "|---|---|\n",
    "| Orchestration | A set of instructions written as a python script with a requirements library.  Orchestrations are uploaded to the Wallaroo instance |\n",
    "| Task | An implementation of an orchestration.  Tasks are run either once when requested, on a repeating schedule, or as a service. |\n",
    "| Connection | Definitions set by MLOps engineers that are used by other Wallaroo users for connection information to a data source.  Usually paired with orchestrations. |\n",
    "\n",
    "A typical flow in the orchestration, task and connection life cycle is:\n",
    "\n",
    "1. (Optional) A connection is defined with information such as username, connection URL, tokens, etc.\n",
    "1. One or more connections are applied to a workspace for users to implement in their code or orchestrations.\n",
    "1. An orchestration is created to perform some set instructions.  For example:\n",
    "    1. Deploy a pipeline, request data from an external service, store the results in an external database, then undeploy the pipeline.\n",
    "    1. Download a ML Model then replace a current pipeline step with the new version.\n",
    "    1. Collect log files from a deployed pipeline once every hour and submit it to a Kafka or other service.\n",
    "1. A task is created that specifies the orchestration to perform and the schedule:\n",
    "    1. Run once.\n",
    "    1. Run on a schedule (based on `cron` like settings).\n",
    "    1. Run as a service to be run whenever requested.\n",
    "1. Once the use for a task is complete, it is killed and its schedule or service removed.\n",
    "\n",
    "## Tutorial Goals\n",
    "\n",
    "The tutorial will demonstrate the following:\n",
    "\n",
    "1. Create a simple connection to retrieve an Apache Arrow table file from a GitHub registry.\n",
    "1. Create an orchestration that retrieves the Apache Arrow table file from the location defined by the connection, deploy a pipeline, perform an inference, then undeploys the pipeline.\n",
    "1. Implement the orchestration as a task that runs every minute.\n",
    "1. Display the logs from the pipeline after 5 minutes to verify the task is running."
   ]
  },
  {
   "attachments": {},
   "cell_type": "markdown",
   "id": "67e1bb26",
   "metadata": {},
   "source": [
    "## Tutorial Required Libraries\n",
    "\n",
    "The following libraries are required for this tutorial, and included by default in a Wallaroo instance's JupyterHub service.\n",
    "\n",
    "* **IMPORTANT NOTE**:  These libraries are already installed in the Wallaroo JupyterHub service.  Do not uninstall and reinstall the Wallaroo SDK with the command below.\n",
    "\n",
    "* [wallaroo](https://pypi.org/project/wallaroo/):  The Wallaroo SDK.\n",
    "* [pandas](https://pypi.org/project/pandas/): The pandas data analysis library.\n",
    "* [pyarrow](https://pypi.org/project/pyarrow/): The Apache Arrow Python library.\n",
    "\n",
    "The specific versions used are set in the file `./resources/requirements.txt`.  Supported libraries are automatically installed with the `pypi` or `conda` commands.  For example, from the root of this tutorials folder:\n",
    "\n",
    "```python\n",
    "pip install -r ./resources/requirements.txt\n",
    "```"
   ]
  },
  {
   "attachments": {},
   "cell_type": "markdown",
   "id": "a2b09330-0408-45eb-b321-b48b65041789",
   "metadata": {},
   "source": [
    "## Initialization\n",
    "\n",
    "The first step is to connect to a Wallaroo instance.  We'll load the libraries and set our client connection settings\n",
    "\n",
    "### Workspace, Model and Pipeline Setup\n",
    "\n",
    "For this tutorial, we'll create a workspace, upload our sample model and deploy a pipeline.  We'll perform some quick sample inferences to verify that everything it working."
   ]
  },
  {
   "cell_type": "code",
   "execution_count": 67,
   "id": "43ee5f42",
   "metadata": {},
   "outputs": [],
   "source": [
    "import wallaroo\n",
    "from wallaroo.object import EntityNotFoundError\n",
    "\n",
    "# to display dataframe tables\n",
    "from IPython.display import display\n",
    "# used to display dataframe information without truncating\n",
    "import pandas as pd\n",
    "pd.set_option('display.max_colwidth', None)\n",
    "import pyarrow as pa\n",
    "\n",
    "import os\n",
    "# Used for the Wallaroo SDK version 2023.1\n",
    "os.environ[\"ARROW_ENABLED\"]=\"True\"\n",
    "\n",
    "import requests"
   ]
  },
  {
   "attachments": {},
   "cell_type": "markdown",
   "id": "5505facb",
   "metadata": {},
   "source": [
    "### Connect to the Wallaroo Instance\n",
    "\n",
    "The first step is to connect to Wallaroo through the Wallaroo client.  The Python library is included in the Wallaroo install and available through the Jupyter Hub interface provided with your Wallaroo environment.\n",
    "\n",
    "This is accomplished using the `wallaroo.Client()` command, which provides a URL to grant the SDK permission to your specific Wallaroo environment.  When displayed, enter the URL into a browser and confirm permissions.  Store the connection into a variable that can be referenced later.\n",
    "\n",
    "If logging into the Wallaroo instance through the internal JupyterHub service, use `wl = wallaroo.Client()`.  If logging in externally, update the `wallarooPrefix` and `wallarooSuffix` variables with the proper DNS information.  For more information on Wallaroo DNS settings, see the [Wallaroo DNS Integration Guide](https://docs.wallaroo.ai/wallaroo-operations-guide/wallaroo-configuration/wallaroo-dns-guide/)."
   ]
  },
  {
   "cell_type": "code",
   "execution_count": null,
   "id": "e9d19a6e",
   "metadata": {},
   "outputs": [],
   "source": [
    "# Login through local Wallaroo instance\n",
    "\n",
    "wl = wallaroo.Client()"
   ]
  },
  {
   "cell_type": "code",
   "execution_count": 69,
   "id": "06a981ef",
   "metadata": {},
   "outputs": [],
   "source": [
    "# Setting variables for later steps\n",
    "\n",
    "workspace_name = 'orchestrationworkspace'\n",
    "pipeline_name = 'orchestrationpipeline'\n",
    "model_name = 'orchestrationmodel'\n",
    "model_file_name = './models/rf_model.onnx'\n",
    "connection_name = \"houseprice_arrow_table\""
   ]
  },
  {
   "attachments": {},
   "cell_type": "markdown",
   "id": "9c46c722",
   "metadata": {},
   "source": [
    "### Helper Methods\n",
    "\n",
    "The following helper methods are used to either create or get workspaces and pipelines."
   ]
  },
  {
   "cell_type": "code",
   "execution_count": 70,
   "id": "0361a9db",
   "metadata": {},
   "outputs": [],
   "source": [
    "# helper methods to retrieve workspaces and pipelines\n",
    "\n",
    "def get_workspace(name):\n",
    "    workspace = None\n",
    "    for ws in wl.list_workspaces():\n",
    "        if ws.name() == name:\n",
    "            workspace= ws\n",
    "    if(workspace == None):\n",
    "        workspace = wl.create_workspace(name)\n",
    "    return workspace\n",
    "\n",
    "def get_pipeline(name):\n",
    "    try:\n",
    "        pipeline = wl.pipelines_by_name(name)[0]\n",
    "    except EntityNotFoundError:\n",
    "        pipeline = wl.build_pipeline(name)\n",
    "    return pipeline"
   ]
  },
  {
   "attachments": {},
   "cell_type": "markdown",
   "id": "98b78cf9",
   "metadata": {},
   "source": [
    "### Create the Workspace and Pipeline\n",
    "\n",
    "We'll now create our workspace and pipeline for the tutorial.  If this tutorial has been run previously, then this will retrieve the existing ones with the assumption they're for us with this tutorial.\n",
    "\n",
    "We'll set the retrieved workspace as the current workspace in the SDK, so all commands will default to that workspace."
   ]
  },
  {
   "cell_type": "code",
   "execution_count": 71,
   "id": "59aa845d",
   "metadata": {},
   "outputs": [],
   "source": [
    "workspace = get_workspace(workspace_name)\n",
    "wl.set_current_workspace(workspace)\n",
    "\n",
    "pipeline = get_pipeline(pipeline_name)"
   ]
  },
  {
   "attachments": {},
   "cell_type": "markdown",
   "id": "8a9fc274",
   "metadata": {},
   "source": [
    "### Upload the Model and Deploy Pipeline\n",
    "\n",
    "We'll upload our model into our sample workspace, then add it as a pipeline step before deploying the pipeline to it's ready to accept inference requests."
   ]
  },
  {
   "cell_type": "code",
   "execution_count": 72,
   "id": "f6a69610",
   "metadata": {},
   "outputs": [
    {
     "data": {
      "text/html": [
       "<table><tr><th>name</th> <td>orchestrationpipeline</td></tr><tr><th>created</th> <td>2023-05-08 14:07:18.486170+00:00</td></tr><tr><th>last_updated</th> <td>2023-05-08 15:41:32.287178+00:00</td></tr><tr><th>deployed</th> <td>False</td></tr><tr><th>tags</th> <td></td></tr><tr><th>versions</th> <td>c31ac61b-5a76-4068-9567-5a2043274977, 81c12725-5eb3-4de1-8ad4-6104880bfd60, c84daf0d-c716-45fe-b0f1-301af11da662, b7b03f69-5587-402b-9e87-83579204f61f, fc251456-f327-4b4b-914b-52705980f180, c0dc16d9-36cb-47d8-b414-ab3992134cb6, 37e737a6-5d90-4ca0-b69f-284aca23b914, cf055237-8c2c-4817-b6a5-37f477c2cbbe, 661f255e-837b-44d8-b98f-4c209dfb8d3f, 41d4e748-c9ee-4c06-aa75-67753f54a73b, 22be445d-e2e5-4ead-9bec-861ed427f8ab, 97d72228-1873-4c4d-9626-610e4bdbadcb, c36a26c3-44d5-49c3-af15-3cebf557c794, 114df7f2-20b6-4018-8ced-cba2385f8cc1, bede7ddd-dfb6-42df-b968-f9f0bf0fceb0, 89d6045a-cc5f-4e40-8de9-09f0c8203ba1, d33a9765-060f-4fa2-bf67-6e1270b5a2c5, 8e998ca6-0064-4c9f-bb7c-5936d0b80770, db8c5b44-02f3-4e11-b6e2-cc65c7fb9703, 0a514bc3-733b-4a5c-9932-d5bde1e22d5c, 222d851a-4522-4deb-9a58-edb074708485, 2f9322fc-ead9-4db2-b1a1-f1786c5879e1, b123486a-35e9-4500-862b-b1ae39f3407d, 45de61c8-6cad-4c39-a7c6-f84c422a2894, d3dc5292-4fc6-420f-b60b-50fc3d40a58c, 993c4363-d1b8-4218-a4a2-1c2670b0f8d8, d3026397-604a-4f1f-8a51-9adf3aab3e46, ec35d9d2-8d98-42f3-97be-502f8d266d27, f4cd9c34-73d4-4415-a72f-eaa31c1d49ad, cb2d155e-e287-4d6d-90ee-0fc53e5727ea, 53911c17-f497-4e5b-a607-48ad5abb9cd5, 6aa6421a-3dda-4824-b937-a6b4453905d5, 3e9b930d-db25-46d9-b8bf-e4896d267b91, 45a9896b-4180-4352-8ea0-36792e3fa3fa, 6a9a50ee-7705-418c-8621-9e2981944434, 183443ee-2215-4371-8da1-b54153ff6798, 51c01c4b-b826-4e1c-aa63-8a8894e7fac9, 553266fd-853f-4191-9087-37c396805138</td></tr><tr><th>steps</th> <td>orchestrationmodel</td></tr></table>"
      ],
      "text/plain": [
       "{'name': 'orchestrationpipeline', 'create_time': datetime.datetime(2023, 5, 8, 14, 7, 18, 486170, tzinfo=tzutc()), 'definition': \"[{'ModelInference': {'models': [{'name': 'orchestrationmodel', 'version': '6775d7f6-69fd-400e-bbe7-5404a39d15b3', 'sha': 'e22a0831aafd9917f3cc87a15ed267797f80e2afa12ad7d8810ca58f173b8cc6'}]}}]\"}"
      ]
     },
     "execution_count": 72,
     "metadata": {},
     "output_type": "execute_result"
    }
   ],
   "source": [
    "# Upload the model\n",
    "\n",
    "housing_model_control = wl.upload_model(model_name, model_file_name).configure()\n",
    "\n",
    "# Add the model as a pipeline step\n",
    "\n",
    "pipeline.add_model_step(housing_model_control)"
   ]
  },
  {
   "cell_type": "code",
   "execution_count": 93,
   "id": "a484796e",
   "metadata": {},
   "outputs": [
    {
     "data": {
      "text/html": [
       "<table><tr><th>name</th> <td>orchestrationpipeline</td></tr><tr><th>created</th> <td>2023-05-08 14:07:18.486170+00:00</td></tr><tr><th>last_updated</th> <td>2023-05-08 17:58:29.880626+00:00</td></tr><tr><th>deployed</th> <td>True</td></tr><tr><th>tags</th> <td></td></tr><tr><th>versions</th> <td>60d16f3f-8e47-49c9-81ca-0a5f322fee5e, 6f3a04c7-51b9-4a79-97ef-2d652b317049, c31ac61b-5a76-4068-9567-5a2043274977, 81c12725-5eb3-4de1-8ad4-6104880bfd60, c84daf0d-c716-45fe-b0f1-301af11da662, b7b03f69-5587-402b-9e87-83579204f61f, fc251456-f327-4b4b-914b-52705980f180, c0dc16d9-36cb-47d8-b414-ab3992134cb6, 37e737a6-5d90-4ca0-b69f-284aca23b914, cf055237-8c2c-4817-b6a5-37f477c2cbbe, 661f255e-837b-44d8-b98f-4c209dfb8d3f, 41d4e748-c9ee-4c06-aa75-67753f54a73b, 22be445d-e2e5-4ead-9bec-861ed427f8ab, 97d72228-1873-4c4d-9626-610e4bdbadcb, c36a26c3-44d5-49c3-af15-3cebf557c794, 114df7f2-20b6-4018-8ced-cba2385f8cc1, bede7ddd-dfb6-42df-b968-f9f0bf0fceb0, 89d6045a-cc5f-4e40-8de9-09f0c8203ba1, d33a9765-060f-4fa2-bf67-6e1270b5a2c5, 8e998ca6-0064-4c9f-bb7c-5936d0b80770, db8c5b44-02f3-4e11-b6e2-cc65c7fb9703, 0a514bc3-733b-4a5c-9932-d5bde1e22d5c, 222d851a-4522-4deb-9a58-edb074708485, 2f9322fc-ead9-4db2-b1a1-f1786c5879e1, b123486a-35e9-4500-862b-b1ae39f3407d, 45de61c8-6cad-4c39-a7c6-f84c422a2894, d3dc5292-4fc6-420f-b60b-50fc3d40a58c, 993c4363-d1b8-4218-a4a2-1c2670b0f8d8, d3026397-604a-4f1f-8a51-9adf3aab3e46, ec35d9d2-8d98-42f3-97be-502f8d266d27, f4cd9c34-73d4-4415-a72f-eaa31c1d49ad, cb2d155e-e287-4d6d-90ee-0fc53e5727ea, 53911c17-f497-4e5b-a607-48ad5abb9cd5, 6aa6421a-3dda-4824-b937-a6b4453905d5, 3e9b930d-db25-46d9-b8bf-e4896d267b91, 45a9896b-4180-4352-8ea0-36792e3fa3fa, 6a9a50ee-7705-418c-8621-9e2981944434, 183443ee-2215-4371-8da1-b54153ff6798, 51c01c4b-b826-4e1c-aa63-8a8894e7fac9, 553266fd-853f-4191-9087-37c396805138</td></tr><tr><th>steps</th> <td>orchestrationmodel</td></tr></table>"
      ],
      "text/plain": [
       "{'name': 'orchestrationpipeline', 'create_time': datetime.datetime(2023, 5, 8, 14, 7, 18, 486170, tzinfo=tzutc()), 'definition': \"[{'ModelInference': {'models': [{'name': 'orchestrationmodel', 'version': '6775d7f6-69fd-400e-bbe7-5404a39d15b3', 'sha': 'e22a0831aafd9917f3cc87a15ed267797f80e2afa12ad7d8810ca58f173b8cc6'}]}}]\"}"
      ]
     },
     "execution_count": 93,
     "metadata": {},
     "output_type": "execute_result"
    }
   ],
   "source": [
    "#deploy the pipeline\n",
    "pipeline.deploy()"
   ]
  },
  {
   "attachments": {},
   "cell_type": "markdown",
   "id": "573bc347",
   "metadata": {},
   "source": [
    "### Sample Inferences\n",
    "\n",
    "We'll perform some quick sample inferences using an Apache Arrow table as the input.  Once that's finished, we'll undeploy the pipeline and return the resources back to the Wallaroo instance."
   ]
  },
  {
   "cell_type": "code",
   "execution_count": 94,
   "id": "f5a9e266",
   "metadata": {},
   "outputs": [
    {
     "data": {
      "text/html": [
       "<div>\n",
       "<style scoped>\n",
       "    .dataframe tbody tr th:only-of-type {\n",
       "        vertical-align: middle;\n",
       "    }\n",
       "\n",
       "    .dataframe tbody tr th {\n",
       "        vertical-align: top;\n",
       "    }\n",
       "\n",
       "    .dataframe thead th {\n",
       "        text-align: right;\n",
       "    }\n",
       "</style>\n",
       "<table border=\"1\" class=\"dataframe\">\n",
       "  <thead>\n",
       "    <tr style=\"text-align: right;\">\n",
       "      <th></th>\n",
       "      <th>time</th>\n",
       "      <th>in.tensor</th>\n",
       "      <th>out.variable</th>\n",
       "      <th>check_failures</th>\n",
       "    </tr>\n",
       "  </thead>\n",
       "  <tbody>\n",
       "    <tr>\n",
       "      <th>0</th>\n",
       "      <td>2023-05-08 17:58:45.118</td>\n",
       "      <td>[4.0, 2.5, 2900.0, 5505.0, 2.0, 0.0, 0.0, 3.0, 8.0, 2900.0, 0.0, 47.6063, -122.02, 2970.0, 5251.0, 12.0, 0.0, 0.0]</td>\n",
       "      <td>[718013.75]</td>\n",
       "      <td>0</td>\n",
       "    </tr>\n",
       "    <tr>\n",
       "      <th>1</th>\n",
       "      <td>2023-05-08 17:58:45.118</td>\n",
       "      <td>[2.0, 2.5, 2170.0, 6361.0, 1.0, 0.0, 2.0, 3.0, 8.0, 2170.0, 0.0, 47.7109, -122.017, 2310.0, 7419.0, 6.0, 0.0, 0.0]</td>\n",
       "      <td>[615094.56]</td>\n",
       "      <td>0</td>\n",
       "    </tr>\n",
       "    <tr>\n",
       "      <th>2</th>\n",
       "      <td>2023-05-08 17:58:45.118</td>\n",
       "      <td>[3.0, 2.5, 1300.0, 812.0, 2.0, 0.0, 0.0, 3.0, 8.0, 880.0, 420.0, 47.5893, -122.317, 1300.0, 824.0, 6.0, 0.0, 0.0]</td>\n",
       "      <td>[448627.72]</td>\n",
       "      <td>0</td>\n",
       "    </tr>\n",
       "    <tr>\n",
       "      <th>3</th>\n",
       "      <td>2023-05-08 17:58:45.118</td>\n",
       "      <td>[4.0, 2.5, 2500.0, 8540.0, 2.0, 0.0, 0.0, 3.0, 9.0, 2500.0, 0.0, 47.5759, -121.994, 2560.0, 8475.0, 24.0, 0.0, 0.0]</td>\n",
       "      <td>[758714.2]</td>\n",
       "      <td>0</td>\n",
       "    </tr>\n",
       "    <tr>\n",
       "      <th>4</th>\n",
       "      <td>2023-05-08 17:58:45.118</td>\n",
       "      <td>[3.0, 1.75, 2200.0, 11520.0, 1.0, 0.0, 0.0, 4.0, 7.0, 2200.0, 0.0, 47.7659, -122.341, 1690.0, 8038.0, 62.0, 0.0, 0.0]</td>\n",
       "      <td>[513264.7]</td>\n",
       "      <td>0</td>\n",
       "    </tr>\n",
       "    <tr>\n",
       "      <th>5</th>\n",
       "      <td>2023-05-08 17:58:45.118</td>\n",
       "      <td>[3.0, 2.0, 2140.0, 4923.0, 1.0, 0.0, 0.0, 4.0, 8.0, 1070.0, 1070.0, 47.6902, -122.339, 1470.0, 4923.0, 86.0, 0.0, 0.0]</td>\n",
       "      <td>[668288.0]</td>\n",
       "      <td>0</td>\n",
       "    </tr>\n",
       "    <tr>\n",
       "      <th>6</th>\n",
       "      <td>2023-05-08 17:58:45.118</td>\n",
       "      <td>[4.0, 3.5, 3590.0, 5334.0, 2.0, 0.0, 2.0, 3.0, 9.0, 3140.0, 450.0, 47.6763, -122.267, 2100.0, 6250.0, 9.0, 0.0, 0.0]</td>\n",
       "      <td>[1004846.5]</td>\n",
       "      <td>0</td>\n",
       "    </tr>\n",
       "    <tr>\n",
       "      <th>7</th>\n",
       "      <td>2023-05-08 17:58:45.118</td>\n",
       "      <td>[3.0, 2.0, 1280.0, 960.0, 2.0, 0.0, 0.0, 3.0, 9.0, 1040.0, 240.0, 47.602, -122.311, 1280.0, 1173.0, 0.0, 0.0, 0.0]</td>\n",
       "      <td>[684577.2]</td>\n",
       "      <td>0</td>\n",
       "    </tr>\n",
       "    <tr>\n",
       "      <th>8</th>\n",
       "      <td>2023-05-08 17:58:45.118</td>\n",
       "      <td>[4.0, 2.5, 2820.0, 15000.0, 2.0, 0.0, 0.0, 4.0, 9.0, 2820.0, 0.0, 47.7255, -122.101, 2440.0, 15000.0, 29.0, 0.0, 0.0]</td>\n",
       "      <td>[727898.1]</td>\n",
       "      <td>0</td>\n",
       "    </tr>\n",
       "    <tr>\n",
       "      <th>9</th>\n",
       "      <td>2023-05-08 17:58:45.118</td>\n",
       "      <td>[3.0, 2.25, 1790.0, 11393.0, 1.0, 0.0, 0.0, 3.0, 8.0, 1790.0, 0.0, 47.6297, -122.099, 2290.0, 11894.0, 36.0, 0.0, 0.0]</td>\n",
       "      <td>[559631.1]</td>\n",
       "      <td>0</td>\n",
       "    </tr>\n",
       "    <tr>\n",
       "      <th>10</th>\n",
       "      <td>2023-05-08 17:58:45.118</td>\n",
       "      <td>[3.0, 1.5, 1010.0, 7683.0, 1.5, 0.0, 0.0, 5.0, 7.0, 1010.0, 0.0, 47.72, -122.318, 1550.0, 7271.0, 61.0, 0.0, 0.0]</td>\n",
       "      <td>[340764.53]</td>\n",
       "      <td>0</td>\n",
       "    </tr>\n",
       "    <tr>\n",
       "      <th>11</th>\n",
       "      <td>2023-05-08 17:58:45.118</td>\n",
       "      <td>[3.0, 2.0, 1270.0, 1323.0, 3.0, 0.0, 0.0, 3.0, 8.0, 1270.0, 0.0, 47.6934, -122.342, 1330.0, 1323.0, 8.0, 0.0, 0.0]</td>\n",
       "      <td>[442168.06]</td>\n",
       "      <td>0</td>\n",
       "    </tr>\n",
       "    <tr>\n",
       "      <th>12</th>\n",
       "      <td>2023-05-08 17:58:45.118</td>\n",
       "      <td>[4.0, 1.75, 2070.0, 9120.0, 1.0, 0.0, 0.0, 4.0, 7.0, 1250.0, 820.0, 47.6045, -122.123, 1650.0, 8400.0, 57.0, 0.0, 0.0]</td>\n",
       "      <td>[630865.6]</td>\n",
       "      <td>0</td>\n",
       "    </tr>\n",
       "    <tr>\n",
       "      <th>13</th>\n",
       "      <td>2023-05-08 17:58:45.118</td>\n",
       "      <td>[4.0, 1.0, 1620.0, 4080.0, 1.5, 0.0, 0.0, 3.0, 7.0, 1620.0, 0.0, 47.6696, -122.324, 1760.0, 4080.0, 91.0, 0.0, 0.0]</td>\n",
       "      <td>[559631.1]</td>\n",
       "      <td>0</td>\n",
       "    </tr>\n",
       "    <tr>\n",
       "      <th>14</th>\n",
       "      <td>2023-05-08 17:58:45.118</td>\n",
       "      <td>[4.0, 3.25, 3990.0, 9786.0, 2.0, 0.0, 0.0, 3.0, 9.0, 3990.0, 0.0, 47.6784, -122.026, 3920.0, 8200.0, 10.0, 0.0, 0.0]</td>\n",
       "      <td>[909441.1]</td>\n",
       "      <td>0</td>\n",
       "    </tr>\n",
       "    <tr>\n",
       "      <th>15</th>\n",
       "      <td>2023-05-08 17:58:45.118</td>\n",
       "      <td>[4.0, 2.0, 1780.0, 19843.0, 1.0, 0.0, 0.0, 3.0, 7.0, 1780.0, 0.0, 47.4414, -122.154, 2210.0, 13500.0, 52.0, 0.0, 0.0]</td>\n",
       "      <td>[313096.0]</td>\n",
       "      <td>0</td>\n",
       "    </tr>\n",
       "    <tr>\n",
       "      <th>16</th>\n",
       "      <td>2023-05-08 17:58:45.118</td>\n",
       "      <td>[4.0, 2.5, 2130.0, 6003.0, 2.0, 0.0, 0.0, 3.0, 8.0, 2130.0, 0.0, 47.4518, -122.12, 1940.0, 4529.0, 11.0, 0.0, 0.0]</td>\n",
       "      <td>[404040.8]</td>\n",
       "      <td>0</td>\n",
       "    </tr>\n",
       "    <tr>\n",
       "      <th>17</th>\n",
       "      <td>2023-05-08 17:58:45.118</td>\n",
       "      <td>[3.0, 1.75, 1660.0, 10440.0, 1.0, 0.0, 0.0, 3.0, 7.0, 1040.0, 620.0, 47.4448, -121.77, 1240.0, 10380.0, 36.0, 0.0, 0.0]</td>\n",
       "      <td>[292859.5]</td>\n",
       "      <td>0</td>\n",
       "    </tr>\n",
       "    <tr>\n",
       "      <th>18</th>\n",
       "      <td>2023-05-08 17:58:45.118</td>\n",
       "      <td>[3.0, 2.5, 2110.0, 4118.0, 2.0, 0.0, 0.0, 3.0, 8.0, 2110.0, 0.0, 47.3878, -122.153, 2110.0, 4044.0, 25.0, 0.0, 0.0]</td>\n",
       "      <td>[338357.88]</td>\n",
       "      <td>0</td>\n",
       "    </tr>\n",
       "    <tr>\n",
       "      <th>19</th>\n",
       "      <td>2023-05-08 17:58:45.118</td>\n",
       "      <td>[4.0, 2.25, 2200.0, 11250.0, 1.5, 0.0, 0.0, 5.0, 7.0, 1300.0, 900.0, 47.6845, -122.201, 2320.0, 10814.0, 94.0, 0.0, 0.0]</td>\n",
       "      <td>[682284.6]</td>\n",
       "      <td>0</td>\n",
       "    </tr>\n",
       "  </tbody>\n",
       "</table>\n",
       "</div>"
      ],
      "text/plain": [
       "                      time  \\\n",
       "0  2023-05-08 17:58:45.118   \n",
       "1  2023-05-08 17:58:45.118   \n",
       "2  2023-05-08 17:58:45.118   \n",
       "3  2023-05-08 17:58:45.118   \n",
       "4  2023-05-08 17:58:45.118   \n",
       "5  2023-05-08 17:58:45.118   \n",
       "6  2023-05-08 17:58:45.118   \n",
       "7  2023-05-08 17:58:45.118   \n",
       "8  2023-05-08 17:58:45.118   \n",
       "9  2023-05-08 17:58:45.118   \n",
       "10 2023-05-08 17:58:45.118   \n",
       "11 2023-05-08 17:58:45.118   \n",
       "12 2023-05-08 17:58:45.118   \n",
       "13 2023-05-08 17:58:45.118   \n",
       "14 2023-05-08 17:58:45.118   \n",
       "15 2023-05-08 17:58:45.118   \n",
       "16 2023-05-08 17:58:45.118   \n",
       "17 2023-05-08 17:58:45.118   \n",
       "18 2023-05-08 17:58:45.118   \n",
       "19 2023-05-08 17:58:45.118   \n",
       "\n",
       "                                                                                                                   in.tensor  \\\n",
       "0         [4.0, 2.5, 2900.0, 5505.0, 2.0, 0.0, 0.0, 3.0, 8.0, 2900.0, 0.0, 47.6063, -122.02, 2970.0, 5251.0, 12.0, 0.0, 0.0]   \n",
       "1         [2.0, 2.5, 2170.0, 6361.0, 1.0, 0.0, 2.0, 3.0, 8.0, 2170.0, 0.0, 47.7109, -122.017, 2310.0, 7419.0, 6.0, 0.0, 0.0]   \n",
       "2          [3.0, 2.5, 1300.0, 812.0, 2.0, 0.0, 0.0, 3.0, 8.0, 880.0, 420.0, 47.5893, -122.317, 1300.0, 824.0, 6.0, 0.0, 0.0]   \n",
       "3        [4.0, 2.5, 2500.0, 8540.0, 2.0, 0.0, 0.0, 3.0, 9.0, 2500.0, 0.0, 47.5759, -121.994, 2560.0, 8475.0, 24.0, 0.0, 0.0]   \n",
       "4      [3.0, 1.75, 2200.0, 11520.0, 1.0, 0.0, 0.0, 4.0, 7.0, 2200.0, 0.0, 47.7659, -122.341, 1690.0, 8038.0, 62.0, 0.0, 0.0]   \n",
       "5     [3.0, 2.0, 2140.0, 4923.0, 1.0, 0.0, 0.0, 4.0, 8.0, 1070.0, 1070.0, 47.6902, -122.339, 1470.0, 4923.0, 86.0, 0.0, 0.0]   \n",
       "6       [4.0, 3.5, 3590.0, 5334.0, 2.0, 0.0, 2.0, 3.0, 9.0, 3140.0, 450.0, 47.6763, -122.267, 2100.0, 6250.0, 9.0, 0.0, 0.0]   \n",
       "7         [3.0, 2.0, 1280.0, 960.0, 2.0, 0.0, 0.0, 3.0, 9.0, 1040.0, 240.0, 47.602, -122.311, 1280.0, 1173.0, 0.0, 0.0, 0.0]   \n",
       "8      [4.0, 2.5, 2820.0, 15000.0, 2.0, 0.0, 0.0, 4.0, 9.0, 2820.0, 0.0, 47.7255, -122.101, 2440.0, 15000.0, 29.0, 0.0, 0.0]   \n",
       "9     [3.0, 2.25, 1790.0, 11393.0, 1.0, 0.0, 0.0, 3.0, 8.0, 1790.0, 0.0, 47.6297, -122.099, 2290.0, 11894.0, 36.0, 0.0, 0.0]   \n",
       "10         [3.0, 1.5, 1010.0, 7683.0, 1.5, 0.0, 0.0, 5.0, 7.0, 1010.0, 0.0, 47.72, -122.318, 1550.0, 7271.0, 61.0, 0.0, 0.0]   \n",
       "11        [3.0, 2.0, 1270.0, 1323.0, 3.0, 0.0, 0.0, 3.0, 8.0, 1270.0, 0.0, 47.6934, -122.342, 1330.0, 1323.0, 8.0, 0.0, 0.0]   \n",
       "12    [4.0, 1.75, 2070.0, 9120.0, 1.0, 0.0, 0.0, 4.0, 7.0, 1250.0, 820.0, 47.6045, -122.123, 1650.0, 8400.0, 57.0, 0.0, 0.0]   \n",
       "13       [4.0, 1.0, 1620.0, 4080.0, 1.5, 0.0, 0.0, 3.0, 7.0, 1620.0, 0.0, 47.6696, -122.324, 1760.0, 4080.0, 91.0, 0.0, 0.0]   \n",
       "14      [4.0, 3.25, 3990.0, 9786.0, 2.0, 0.0, 0.0, 3.0, 9.0, 3990.0, 0.0, 47.6784, -122.026, 3920.0, 8200.0, 10.0, 0.0, 0.0]   \n",
       "15     [4.0, 2.0, 1780.0, 19843.0, 1.0, 0.0, 0.0, 3.0, 7.0, 1780.0, 0.0, 47.4414, -122.154, 2210.0, 13500.0, 52.0, 0.0, 0.0]   \n",
       "16        [4.0, 2.5, 2130.0, 6003.0, 2.0, 0.0, 0.0, 3.0, 8.0, 2130.0, 0.0, 47.4518, -122.12, 1940.0, 4529.0, 11.0, 0.0, 0.0]   \n",
       "17   [3.0, 1.75, 1660.0, 10440.0, 1.0, 0.0, 0.0, 3.0, 7.0, 1040.0, 620.0, 47.4448, -121.77, 1240.0, 10380.0, 36.0, 0.0, 0.0]   \n",
       "18       [3.0, 2.5, 2110.0, 4118.0, 2.0, 0.0, 0.0, 3.0, 8.0, 2110.0, 0.0, 47.3878, -122.153, 2110.0, 4044.0, 25.0, 0.0, 0.0]   \n",
       "19  [4.0, 2.25, 2200.0, 11250.0, 1.5, 0.0, 0.0, 5.0, 7.0, 1300.0, 900.0, 47.6845, -122.201, 2320.0, 10814.0, 94.0, 0.0, 0.0]   \n",
       "\n",
       "   out.variable  check_failures  \n",
       "0   [718013.75]               0  \n",
       "1   [615094.56]               0  \n",
       "2   [448627.72]               0  \n",
       "3    [758714.2]               0  \n",
       "4    [513264.7]               0  \n",
       "5    [668288.0]               0  \n",
       "6   [1004846.5]               0  \n",
       "7    [684577.2]               0  \n",
       "8    [727898.1]               0  \n",
       "9    [559631.1]               0  \n",
       "10  [340764.53]               0  \n",
       "11  [442168.06]               0  \n",
       "12   [630865.6]               0  \n",
       "13   [559631.1]               0  \n",
       "14   [909441.1]               0  \n",
       "15   [313096.0]               0  \n",
       "16   [404040.8]               0  \n",
       "17   [292859.5]               0  \n",
       "18  [338357.88]               0  \n",
       "19   [682284.6]               0  "
      ]
     },
     "metadata": {},
     "output_type": "display_data"
    }
   ],
   "source": [
    "# sample inferences\n",
    "\n",
    "batch_inferences = pipeline.infer_from_file('./data/xtest-1k.arrow')\n",
    "\n",
    "large_inference_result =  batch_inferences.to_pandas()\n",
    "display(large_inference_result.head(20))"
   ]
  },
  {
   "cell_type": "code",
   "execution_count": 95,
   "id": "bf77c0ec",
   "metadata": {},
   "outputs": [
    {
     "data": {
      "text/html": [
       "<table><tr><th>name</th> <td>orchestrationpipeline</td></tr><tr><th>created</th> <td>2023-05-08 14:07:18.486170+00:00</td></tr><tr><th>last_updated</th> <td>2023-05-08 17:58:29.880626+00:00</td></tr><tr><th>deployed</th> <td>False</td></tr><tr><th>tags</th> <td></td></tr><tr><th>versions</th> <td>60d16f3f-8e47-49c9-81ca-0a5f322fee5e, 6f3a04c7-51b9-4a79-97ef-2d652b317049, c31ac61b-5a76-4068-9567-5a2043274977, 81c12725-5eb3-4de1-8ad4-6104880bfd60, c84daf0d-c716-45fe-b0f1-301af11da662, b7b03f69-5587-402b-9e87-83579204f61f, fc251456-f327-4b4b-914b-52705980f180, c0dc16d9-36cb-47d8-b414-ab3992134cb6, 37e737a6-5d90-4ca0-b69f-284aca23b914, cf055237-8c2c-4817-b6a5-37f477c2cbbe, 661f255e-837b-44d8-b98f-4c209dfb8d3f, 41d4e748-c9ee-4c06-aa75-67753f54a73b, 22be445d-e2e5-4ead-9bec-861ed427f8ab, 97d72228-1873-4c4d-9626-610e4bdbadcb, c36a26c3-44d5-49c3-af15-3cebf557c794, 114df7f2-20b6-4018-8ced-cba2385f8cc1, bede7ddd-dfb6-42df-b968-f9f0bf0fceb0, 89d6045a-cc5f-4e40-8de9-09f0c8203ba1, d33a9765-060f-4fa2-bf67-6e1270b5a2c5, 8e998ca6-0064-4c9f-bb7c-5936d0b80770, db8c5b44-02f3-4e11-b6e2-cc65c7fb9703, 0a514bc3-733b-4a5c-9932-d5bde1e22d5c, 222d851a-4522-4deb-9a58-edb074708485, 2f9322fc-ead9-4db2-b1a1-f1786c5879e1, b123486a-35e9-4500-862b-b1ae39f3407d, 45de61c8-6cad-4c39-a7c6-f84c422a2894, d3dc5292-4fc6-420f-b60b-50fc3d40a58c, 993c4363-d1b8-4218-a4a2-1c2670b0f8d8, d3026397-604a-4f1f-8a51-9adf3aab3e46, ec35d9d2-8d98-42f3-97be-502f8d266d27, f4cd9c34-73d4-4415-a72f-eaa31c1d49ad, cb2d155e-e287-4d6d-90ee-0fc53e5727ea, 53911c17-f497-4e5b-a607-48ad5abb9cd5, 6aa6421a-3dda-4824-b937-a6b4453905d5, 3e9b930d-db25-46d9-b8bf-e4896d267b91, 45a9896b-4180-4352-8ea0-36792e3fa3fa, 6a9a50ee-7705-418c-8621-9e2981944434, 183443ee-2215-4371-8da1-b54153ff6798, 51c01c4b-b826-4e1c-aa63-8a8894e7fac9, 553266fd-853f-4191-9087-37c396805138</td></tr><tr><th>steps</th> <td>orchestrationmodel</td></tr></table>"
      ],
      "text/plain": [
       "{'name': 'orchestrationpipeline', 'create_time': datetime.datetime(2023, 5, 8, 14, 7, 18, 486170, tzinfo=tzutc()), 'definition': \"[{'ModelInference': {'models': [{'name': 'orchestrationmodel', 'version': '6775d7f6-69fd-400e-bbe7-5404a39d15b3', 'sha': 'e22a0831aafd9917f3cc87a15ed267797f80e2afa12ad7d8810ca58f173b8cc6'}]}}]\"}"
      ]
     },
     "execution_count": 95,
     "metadata": {},
     "output_type": "execute_result"
    }
   ],
   "source": [
    "# undeploy the pipeline\n",
    "\n",
    "pipeline.undeploy()"
   ]
  },
  {
   "attachments": {},
   "cell_type": "markdown",
   "id": "b7fc12cb",
   "metadata": {},
   "source": [
    "## Create Wallaroo Connection\n",
    "\n"
   ]
  },
  {
   "attachments": {},
   "cell_type": "markdown",
   "id": "f37027c1",
   "metadata": {},
   "source": [
    "\n",
    "Connections are created at the Wallaroo instance level, typically by a MLOps or DevOps engineer, then applied to a workspace.\n",
    "\n",
    "For this section:\n",
    "\n",
    "1. We will create a sample connection that just has a URL to the same Arrow table file we used in the previous step.\n",
    "1. We'll apply the data connection to the workspace above.\n",
    "1. For a quick demonstration, we'll use the connection to retrieve the Arrow table file and use it for a quick sample inference."
   ]
  },
  {
   "attachments": {},
   "cell_type": "markdown",
   "id": "da10ec00",
   "metadata": {},
   "source": [
    "### Create Connection\n",
    "\n",
    "Connections are created with the Wallaroo client command [`create_connection`](https://staging.docs.wallaroo.ai/wallaroo-developer-guides/wallaroo-sdk-guides/wallaroo-sdk-essentials-guide/wallaroo-sdk-essentials-dataconnectors/#create-data-connection) with the following parameters.\n",
    "\n",
    "| Parameter | Type | Description |\n",
    "| --- | --- | ---|\n",
    "| **name** | string (Required) | The name of the connection. This must be unique - if submitting the name of an existing connection it will return an error. |\n",
    "| **type** | string (Required) | The user defined type of connection. |\n",
    "| **details** | Dict (Requires) | User defined configuration details for the data connection.  These can be `{'username':'dataperson', 'password':'datapassword', 'port': 3339}`, or `{'token':'abcde123==', 'host':'example.com', 'port:1234'}`, or other user defined combinations.  |\n",
    "\n",
    "We'll create the connection named `houseprice_arrow_table`, set it to the type `HTTPFILE`, and provide the details as `'host':'https://github.com/WallarooLabs/Wallaroo_Tutorials/blob/20230314_2023.2_updates/wallaroo-testing-tutorials/houseprice-saga/data/xtest-1k.arrow?raw=true'` - the location for our sample Arrow table inference input."
   ]
  },
  {
   "cell_type": "code",
   "execution_count": 101,
   "id": "5c10ee71",
   "metadata": {},
   "outputs": [
    {
     "data": {
      "text/html": [
       "\n",
       "        <table>\n",
       "          <tr>\n",
       "            <th>Field</th>\n",
       "            <th>Value</th>\n",
       "          </tr>\n",
       "          <tr>\n",
       "            <td>Name</td><td>houseprice_arrow_table2</td>\n",
       "          </tr>\n",
       "          <tr>\n",
       "            <td>Connection Type</td><td>HTTPFILE</td>\n",
       "          </tr>\n",
       "          <tr>\n",
       "            <td>Details</td><td>*****</td>\n",
       "          </tr>\n",
       "          <tr>\n",
       "            <td>Created At</td><td>2023-05-08T18:04:35.499796+00:00</td>\n",
       "          </tr>\n",
       "        </table>\n",
       "        "
      ],
      "text/plain": [
       "<wallaroo.connection.Connection at 0x177f8beb0>"
      ]
     },
     "execution_count": 101,
     "metadata": {},
     "output_type": "execute_result"
    }
   ],
   "source": [
    "wl.create_connection(\"houseprice_arrow_table2\", \n",
    "                  \"HTTPFILE\", \n",
    "                  {'host':'https://github.com/WallarooLabs/Wallaroo_Tutorials/blob/20230314_2023.2_updates/wallaroo-testing-tutorials/houseprice-saga/data/xtest-1k.arrow?raw=true'}\n",
    "                  )"
   ]
  },
  {
   "cell_type": "code",
   "execution_count": 102,
   "id": "cfd3d0b8",
   "metadata": {},
   "outputs": [
    {
     "data": {
      "text/html": [
       "\n",
       "        <table>\n",
       "          <tr>\n",
       "            <th>Field</th>\n",
       "            <th>Value</th>\n",
       "          </tr>\n",
       "          <tr>\n",
       "            <td>Name</td><td>houseprice_arrow_table3</td>\n",
       "          </tr>\n",
       "          <tr>\n",
       "            <td>Connection Type</td><td>HTTPFILE</td>\n",
       "          </tr>\n",
       "          <tr>\n",
       "            <td>Details</td><td>*****</td>\n",
       "          </tr>\n",
       "          <tr>\n",
       "            <td>Created At</td><td>2023-05-08T18:06:53.711490+00:00</td>\n",
       "          </tr>\n",
       "        </table>\n",
       "        "
      ],
      "text/plain": [
       "<wallaroo.connection.Connection at 0x177ef1310>"
      ]
     },
     "execution_count": 102,
     "metadata": {},
     "output_type": "execute_result"
    }
   ],
   "source": [
    "wl.create_connection(\"houseprice_arrow_table3\", \n",
    "                  \"HTTPFILE\", \n",
    "                  {'bob':'https://github.com/WallarooLabs/Wallaroo_Tutorials/blob/20230314_2023.2_updates/wallaroo-testing-tutorials/houseprice-saga/data/xtest-1k.arrow?raw=true'}\n",
    "                  )"
   ]
  },
  {
   "attachments": {},
   "cell_type": "markdown",
   "id": "fc3baa09",
   "metadata": {},
   "source": [
    "### List Data Connections\n",
    "\n",
    "The Wallaroo Client [`list_connections()`](https://staging.docs.wallaroo.ai/wallaroo-developer-guides/wallaroo-sdk-guides/wallaroo-sdk-essentials-guide/wallaroo-sdk-essentials-dataconnectors/#list-data-connections) method lists all connections for the Wallaroo instance.\n"
   ]
  },
  {
   "cell_type": "code",
   "execution_count": 97,
   "id": "6cc80cd3",
   "metadata": {},
   "outputs": [
    {
     "data": {
      "text/html": [
       "<table><tr><th>name</th><th>connection type</th><th>details</th><th>created at</th></tr><tr><td>houseprice_arrow_table</td><td>HTTPFILE</td><td>*****</td><td>2023-05-08T15:36:56.086376+00:00</td></tr></table>"
      ],
      "text/plain": [
       "[<wallaroo.connection.Connection at 0x177f97550>]"
      ]
     },
     "execution_count": 97,
     "metadata": {},
     "output_type": "execute_result"
    }
   ],
   "source": [
    "wl.list_connections()"
   ]
  },
  {
   "cell_type": "code",
   "execution_count": 98,
   "id": "773fa82d",
   "metadata": {},
   "outputs": [],
   "source": [
    "connection = wl.list_connections()[0]"
   ]
  },
  {
   "cell_type": "code",
   "execution_count": 99,
   "id": "734e43bc",
   "metadata": {},
   "outputs": [
    {
     "data": {
      "text/plain": [
       "{'host': 'https://github.com/WallarooLabs/Wallaroo_Tutorials/blob/20230314_2023.2_updates/wallaroo-testing-tutorials/houseprice-saga/data/xtest-1k.arrow?raw=true'}"
      ]
     },
     "execution_count": 99,
     "metadata": {},
     "output_type": "execute_result"
    }
   ],
   "source": [
    "connection.details()"
   ]
  },
  {
   "attachments": {},
   "cell_type": "markdown",
   "id": "884d3171",
   "metadata": {},
   "source": [
    "### Add Connection to Workspace\n",
    "\n",
    "The method Workspace [`add_connection(connection_name)`](https://staging.docs.wallaroo.ai/wallaroo-developer-guides/wallaroo-sdk-guides/wallaroo-sdk-essentials-guide/wallaroo-sdk-essentials-dataconnectors/#add-data-connection-to-workspace) adds a Data Connection to a workspace, and takes the following parameters.\n",
    "\n",
    "| Parameter | Type | Description |\n",
    "| --- | --- | ---|\n",
    "| **name** | string (Required) | The name of the Data Connection |\n",
    "\n",
    "We'll add this connection to our sample workspace."
   ]
  },
  {
   "cell_type": "code",
   "execution_count": null,
   "id": "6d674d81",
   "metadata": {},
   "outputs": [],
   "source": [
    "workspace.add_connection(connection_name)"
   ]
  },
  {
   "attachments": {},
   "cell_type": "markdown",
   "id": "5994ccee",
   "metadata": {},
   "source": [
    "### List Connections in a Workspace\n",
    "\n",
    "The method Workspace `list_connections()` displays a list of connections attached to the workspace.  By default the `details` field is obfuscated.  We'll list the connections in our sample workspace, then use that to retrieve our specific connection."
   ]
  },
  {
   "cell_type": "code",
   "execution_count": null,
   "id": "782825b0",
   "metadata": {},
   "outputs": [
    {
     "data": {
      "text/html": [
       "<table><tr><th>name</th><th>connection type</th><th>details</th><th>created at</th></tr><tr><td>houseprice_arrow_table</td><td>HTTPFILE</td><td>*****</td><td>2023-05-08T15:18:04.900770+00:00</td></tr></table>"
      ],
      "text/plain": [
       "[<wallaroo.connection.Connection at 0x7f12123a9dc0>]"
      ]
     },
     "metadata": {},
     "output_type": "display_data"
    }
   ],
   "source": [
    "connections = workspace.list_connections()\n",
    "display(connections)\n"
   ]
  },
  {
   "cell_type": "code",
   "execution_count": null,
   "id": "aeb01a93",
   "metadata": {},
   "outputs": [
    {
     "data": {
      "text/html": [
       "\n",
       "        <table>\n",
       "          <tr>\n",
       "            <th>Field</th>\n",
       "            <th>Value</th>\n",
       "          </tr>\n",
       "          <tr>\n",
       "            <td>Name</td><td>houseprice_arrow_table</td>\n",
       "          </tr>\n",
       "          <tr>\n",
       "            <td>Connection Type</td><td>HTTPFILE</td>\n",
       "          </tr>\n",
       "          <tr>\n",
       "            <td>Details</td><td>*****</td>\n",
       "          </tr>\n",
       "          <tr>\n",
       "            <td>Created At</td><td>2023-05-08T15:18:04.900770+00:00</td>\n",
       "          </tr>\n",
       "        </table>\n",
       "        "
      ],
      "text/plain": [
       "<wallaroo.connection.Connection at 0x7f12123a9dc0>"
      ]
     },
     "metadata": {},
     "output_type": "display_data"
    }
   ],
   "source": [
    "connection = connections[0]\n",
    "display(connection)"
   ]
  },
  {
   "attachments": {},
   "cell_type": "markdown",
   "id": "f2eeac50",
   "metadata": {},
   "source": [
    "### Connection Details\n",
    "\n",
    "The Connection method `details()` retrieves a the connection `details()` as a `dict`."
   ]
  },
  {
   "cell_type": "code",
   "execution_count": 45,
   "id": "bf30876c",
   "metadata": {},
   "outputs": [
    {
     "data": {
      "text/plain": [
       "{'host': 'https://github.com/WallarooLabs/Wallaroo_Tutorials/blob/20230314_2023.2_updates/wallaroo-testing-tutorials/houseprice-saga/data/xtest-1k.arrow?raw=true'}"
      ]
     },
     "metadata": {},
     "output_type": "display_data"
    }
   ],
   "source": [
    "display(connection.details())"
   ]
  },
  {
   "attachments": {},
   "cell_type": "markdown",
   "id": "b8d44dc7",
   "metadata": {},
   "source": [
    "### Using a Connection Example\n",
    "\n",
    "For this example, the connection will be used to retrieve the Apache Arrow file referenced in the connection, and use that to turn it into an Apache Arrow table, then use that for a sample inference."
   ]
  },
  {
   "cell_type": "code",
   "execution_count": 46,
   "id": "8031e8e3",
   "metadata": {},
   "outputs": [
    {
     "name": "stdout",
     "output_type": "stream",
     "text": [
      "Waiting for deployment - this will take up to 45s ............. ok\n"
     ]
    },
    {
     "data": {
      "text/html": [
       "<div>\n",
       "<style scoped>\n",
       "    .dataframe tbody tr th:only-of-type {\n",
       "        vertical-align: middle;\n",
       "    }\n",
       "\n",
       "    .dataframe tbody tr th {\n",
       "        vertical-align: top;\n",
       "    }\n",
       "\n",
       "    .dataframe thead th {\n",
       "        text-align: right;\n",
       "    }\n",
       "</style>\n",
       "<table border=\"1\" class=\"dataframe\">\n",
       "  <thead>\n",
       "    <tr style=\"text-align: right;\">\n",
       "      <th></th>\n",
       "      <th>time</th>\n",
       "      <th>in.tensor</th>\n",
       "      <th>out.variable</th>\n",
       "      <th>check_failures</th>\n",
       "    </tr>\n",
       "  </thead>\n",
       "  <tbody>\n",
       "    <tr>\n",
       "      <th>0</th>\n",
       "      <td>2023-05-08 15:34:11.292</td>\n",
       "      <td>[4.0, 2.5, 2900.0, 5505.0, 2.0, 0.0, 0.0, 3.0, 8.0, 2900.0, 0.0, 47.6063, -122.02, 2970.0, 5251.0, 12.0, 0.0, 0.0]</td>\n",
       "      <td>[718013.75]</td>\n",
       "      <td>0</td>\n",
       "    </tr>\n",
       "    <tr>\n",
       "      <th>1</th>\n",
       "      <td>2023-05-08 15:34:11.292</td>\n",
       "      <td>[2.0, 2.5, 2170.0, 6361.0, 1.0, 0.0, 2.0, 3.0, 8.0, 2170.0, 0.0, 47.7109, -122.017, 2310.0, 7419.0, 6.0, 0.0, 0.0]</td>\n",
       "      <td>[615094.56]</td>\n",
       "      <td>0</td>\n",
       "    </tr>\n",
       "    <tr>\n",
       "      <th>2</th>\n",
       "      <td>2023-05-08 15:34:11.292</td>\n",
       "      <td>[3.0, 2.5, 1300.0, 812.0, 2.0, 0.0, 0.0, 3.0, 8.0, 880.0, 420.0, 47.5893, -122.317, 1300.0, 824.0, 6.0, 0.0, 0.0]</td>\n",
       "      <td>[448627.72]</td>\n",
       "      <td>0</td>\n",
       "    </tr>\n",
       "    <tr>\n",
       "      <th>3</th>\n",
       "      <td>2023-05-08 15:34:11.292</td>\n",
       "      <td>[4.0, 2.5, 2500.0, 8540.0, 2.0, 0.0, 0.0, 3.0, 9.0, 2500.0, 0.0, 47.5759, -121.994, 2560.0, 8475.0, 24.0, 0.0, 0.0]</td>\n",
       "      <td>[758714.2]</td>\n",
       "      <td>0</td>\n",
       "    </tr>\n",
       "    <tr>\n",
       "      <th>4</th>\n",
       "      <td>2023-05-08 15:34:11.292</td>\n",
       "      <td>[3.0, 1.75, 2200.0, 11520.0, 1.0, 0.0, 0.0, 4.0, 7.0, 2200.0, 0.0, 47.7659, -122.341, 1690.0, 8038.0, 62.0, 0.0, 0.0]</td>\n",
       "      <td>[513264.7]</td>\n",
       "      <td>0</td>\n",
       "    </tr>\n",
       "    <tr>\n",
       "      <th>5</th>\n",
       "      <td>2023-05-08 15:34:11.292</td>\n",
       "      <td>[3.0, 2.0, 2140.0, 4923.0, 1.0, 0.0, 0.0, 4.0, 8.0, 1070.0, 1070.0, 47.6902, -122.339, 1470.0, 4923.0, 86.0, 0.0, 0.0]</td>\n",
       "      <td>[668288.0]</td>\n",
       "      <td>0</td>\n",
       "    </tr>\n",
       "    <tr>\n",
       "      <th>6</th>\n",
       "      <td>2023-05-08 15:34:11.292</td>\n",
       "      <td>[4.0, 3.5, 3590.0, 5334.0, 2.0, 0.0, 2.0, 3.0, 9.0, 3140.0, 450.0, 47.6763, -122.267, 2100.0, 6250.0, 9.0, 0.0, 0.0]</td>\n",
       "      <td>[1004846.5]</td>\n",
       "      <td>0</td>\n",
       "    </tr>\n",
       "    <tr>\n",
       "      <th>7</th>\n",
       "      <td>2023-05-08 15:34:11.292</td>\n",
       "      <td>[3.0, 2.0, 1280.0, 960.0, 2.0, 0.0, 0.0, 3.0, 9.0, 1040.0, 240.0, 47.602, -122.311, 1280.0, 1173.0, 0.0, 0.0, 0.0]</td>\n",
       "      <td>[684577.2]</td>\n",
       "      <td>0</td>\n",
       "    </tr>\n",
       "    <tr>\n",
       "      <th>8</th>\n",
       "      <td>2023-05-08 15:34:11.292</td>\n",
       "      <td>[4.0, 2.5, 2820.0, 15000.0, 2.0, 0.0, 0.0, 4.0, 9.0, 2820.0, 0.0, 47.7255, -122.101, 2440.0, 15000.0, 29.0, 0.0, 0.0]</td>\n",
       "      <td>[727898.1]</td>\n",
       "      <td>0</td>\n",
       "    </tr>\n",
       "    <tr>\n",
       "      <th>9</th>\n",
       "      <td>2023-05-08 15:34:11.292</td>\n",
       "      <td>[3.0, 2.25, 1790.0, 11393.0, 1.0, 0.0, 0.0, 3.0, 8.0, 1790.0, 0.0, 47.6297, -122.099, 2290.0, 11894.0, 36.0, 0.0, 0.0]</td>\n",
       "      <td>[559631.1]</td>\n",
       "      <td>0</td>\n",
       "    </tr>\n",
       "    <tr>\n",
       "      <th>10</th>\n",
       "      <td>2023-05-08 15:34:11.292</td>\n",
       "      <td>[3.0, 1.5, 1010.0, 7683.0, 1.5, 0.0, 0.0, 5.0, 7.0, 1010.0, 0.0, 47.72, -122.318, 1550.0, 7271.0, 61.0, 0.0, 0.0]</td>\n",
       "      <td>[340764.53]</td>\n",
       "      <td>0</td>\n",
       "    </tr>\n",
       "    <tr>\n",
       "      <th>11</th>\n",
       "      <td>2023-05-08 15:34:11.292</td>\n",
       "      <td>[3.0, 2.0, 1270.0, 1323.0, 3.0, 0.0, 0.0, 3.0, 8.0, 1270.0, 0.0, 47.6934, -122.342, 1330.0, 1323.0, 8.0, 0.0, 0.0]</td>\n",
       "      <td>[442168.06]</td>\n",
       "      <td>0</td>\n",
       "    </tr>\n",
       "    <tr>\n",
       "      <th>12</th>\n",
       "      <td>2023-05-08 15:34:11.292</td>\n",
       "      <td>[4.0, 1.75, 2070.0, 9120.0, 1.0, 0.0, 0.0, 4.0, 7.0, 1250.0, 820.0, 47.6045, -122.123, 1650.0, 8400.0, 57.0, 0.0, 0.0]</td>\n",
       "      <td>[630865.6]</td>\n",
       "      <td>0</td>\n",
       "    </tr>\n",
       "    <tr>\n",
       "      <th>13</th>\n",
       "      <td>2023-05-08 15:34:11.292</td>\n",
       "      <td>[4.0, 1.0, 1620.0, 4080.0, 1.5, 0.0, 0.0, 3.0, 7.0, 1620.0, 0.0, 47.6696, -122.324, 1760.0, 4080.0, 91.0, 0.0, 0.0]</td>\n",
       "      <td>[559631.1]</td>\n",
       "      <td>0</td>\n",
       "    </tr>\n",
       "    <tr>\n",
       "      <th>14</th>\n",
       "      <td>2023-05-08 15:34:11.292</td>\n",
       "      <td>[4.0, 3.25, 3990.0, 9786.0, 2.0, 0.0, 0.0, 3.0, 9.0, 3990.0, 0.0, 47.6784, -122.026, 3920.0, 8200.0, 10.0, 0.0, 0.0]</td>\n",
       "      <td>[909441.1]</td>\n",
       "      <td>0</td>\n",
       "    </tr>\n",
       "    <tr>\n",
       "      <th>15</th>\n",
       "      <td>2023-05-08 15:34:11.292</td>\n",
       "      <td>[4.0, 2.0, 1780.0, 19843.0, 1.0, 0.0, 0.0, 3.0, 7.0, 1780.0, 0.0, 47.4414, -122.154, 2210.0, 13500.0, 52.0, 0.0, 0.0]</td>\n",
       "      <td>[313096.0]</td>\n",
       "      <td>0</td>\n",
       "    </tr>\n",
       "    <tr>\n",
       "      <th>16</th>\n",
       "      <td>2023-05-08 15:34:11.292</td>\n",
       "      <td>[4.0, 2.5, 2130.0, 6003.0, 2.0, 0.0, 0.0, 3.0, 8.0, 2130.0, 0.0, 47.4518, -122.12, 1940.0, 4529.0, 11.0, 0.0, 0.0]</td>\n",
       "      <td>[404040.8]</td>\n",
       "      <td>0</td>\n",
       "    </tr>\n",
       "    <tr>\n",
       "      <th>17</th>\n",
       "      <td>2023-05-08 15:34:11.292</td>\n",
       "      <td>[3.0, 1.75, 1660.0, 10440.0, 1.0, 0.0, 0.0, 3.0, 7.0, 1040.0, 620.0, 47.4448, -121.77, 1240.0, 10380.0, 36.0, 0.0, 0.0]</td>\n",
       "      <td>[292859.5]</td>\n",
       "      <td>0</td>\n",
       "    </tr>\n",
       "    <tr>\n",
       "      <th>18</th>\n",
       "      <td>2023-05-08 15:34:11.292</td>\n",
       "      <td>[3.0, 2.5, 2110.0, 4118.0, 2.0, 0.0, 0.0, 3.0, 8.0, 2110.0, 0.0, 47.3878, -122.153, 2110.0, 4044.0, 25.0, 0.0, 0.0]</td>\n",
       "      <td>[338357.88]</td>\n",
       "      <td>0</td>\n",
       "    </tr>\n",
       "    <tr>\n",
       "      <th>19</th>\n",
       "      <td>2023-05-08 15:34:11.292</td>\n",
       "      <td>[4.0, 2.25, 2200.0, 11250.0, 1.5, 0.0, 0.0, 5.0, 7.0, 1300.0, 900.0, 47.6845, -122.201, 2320.0, 10814.0, 94.0, 0.0, 0.0]</td>\n",
       "      <td>[682284.6]</td>\n",
       "      <td>0</td>\n",
       "    </tr>\n",
       "  </tbody>\n",
       "</table>\n",
       "</div>"
      ],
      "text/plain": [
       "                      time  \\\n",
       "0  2023-05-08 15:34:11.292   \n",
       "1  2023-05-08 15:34:11.292   \n",
       "2  2023-05-08 15:34:11.292   \n",
       "3  2023-05-08 15:34:11.292   \n",
       "4  2023-05-08 15:34:11.292   \n",
       "5  2023-05-08 15:34:11.292   \n",
       "6  2023-05-08 15:34:11.292   \n",
       "7  2023-05-08 15:34:11.292   \n",
       "8  2023-05-08 15:34:11.292   \n",
       "9  2023-05-08 15:34:11.292   \n",
       "10 2023-05-08 15:34:11.292   \n",
       "11 2023-05-08 15:34:11.292   \n",
       "12 2023-05-08 15:34:11.292   \n",
       "13 2023-05-08 15:34:11.292   \n",
       "14 2023-05-08 15:34:11.292   \n",
       "15 2023-05-08 15:34:11.292   \n",
       "16 2023-05-08 15:34:11.292   \n",
       "17 2023-05-08 15:34:11.292   \n",
       "18 2023-05-08 15:34:11.292   \n",
       "19 2023-05-08 15:34:11.292   \n",
       "\n",
       "                                                                                                                   in.tensor  \\\n",
       "0         [4.0, 2.5, 2900.0, 5505.0, 2.0, 0.0, 0.0, 3.0, 8.0, 2900.0, 0.0, 47.6063, -122.02, 2970.0, 5251.0, 12.0, 0.0, 0.0]   \n",
       "1         [2.0, 2.5, 2170.0, 6361.0, 1.0, 0.0, 2.0, 3.0, 8.0, 2170.0, 0.0, 47.7109, -122.017, 2310.0, 7419.0, 6.0, 0.0, 0.0]   \n",
       "2          [3.0, 2.5, 1300.0, 812.0, 2.0, 0.0, 0.0, 3.0, 8.0, 880.0, 420.0, 47.5893, -122.317, 1300.0, 824.0, 6.0, 0.0, 0.0]   \n",
       "3        [4.0, 2.5, 2500.0, 8540.0, 2.0, 0.0, 0.0, 3.0, 9.0, 2500.0, 0.0, 47.5759, -121.994, 2560.0, 8475.0, 24.0, 0.0, 0.0]   \n",
       "4      [3.0, 1.75, 2200.0, 11520.0, 1.0, 0.0, 0.0, 4.0, 7.0, 2200.0, 0.0, 47.7659, -122.341, 1690.0, 8038.0, 62.0, 0.0, 0.0]   \n",
       "5     [3.0, 2.0, 2140.0, 4923.0, 1.0, 0.0, 0.0, 4.0, 8.0, 1070.0, 1070.0, 47.6902, -122.339, 1470.0, 4923.0, 86.0, 0.0, 0.0]   \n",
       "6       [4.0, 3.5, 3590.0, 5334.0, 2.0, 0.0, 2.0, 3.0, 9.0, 3140.0, 450.0, 47.6763, -122.267, 2100.0, 6250.0, 9.0, 0.0, 0.0]   \n",
       "7         [3.0, 2.0, 1280.0, 960.0, 2.0, 0.0, 0.0, 3.0, 9.0, 1040.0, 240.0, 47.602, -122.311, 1280.0, 1173.0, 0.0, 0.0, 0.0]   \n",
       "8      [4.0, 2.5, 2820.0, 15000.0, 2.0, 0.0, 0.0, 4.0, 9.0, 2820.0, 0.0, 47.7255, -122.101, 2440.0, 15000.0, 29.0, 0.0, 0.0]   \n",
       "9     [3.0, 2.25, 1790.0, 11393.0, 1.0, 0.0, 0.0, 3.0, 8.0, 1790.0, 0.0, 47.6297, -122.099, 2290.0, 11894.0, 36.0, 0.0, 0.0]   \n",
       "10         [3.0, 1.5, 1010.0, 7683.0, 1.5, 0.0, 0.0, 5.0, 7.0, 1010.0, 0.0, 47.72, -122.318, 1550.0, 7271.0, 61.0, 0.0, 0.0]   \n",
       "11        [3.0, 2.0, 1270.0, 1323.0, 3.0, 0.0, 0.0, 3.0, 8.0, 1270.0, 0.0, 47.6934, -122.342, 1330.0, 1323.0, 8.0, 0.0, 0.0]   \n",
       "12    [4.0, 1.75, 2070.0, 9120.0, 1.0, 0.0, 0.0, 4.0, 7.0, 1250.0, 820.0, 47.6045, -122.123, 1650.0, 8400.0, 57.0, 0.0, 0.0]   \n",
       "13       [4.0, 1.0, 1620.0, 4080.0, 1.5, 0.0, 0.0, 3.0, 7.0, 1620.0, 0.0, 47.6696, -122.324, 1760.0, 4080.0, 91.0, 0.0, 0.0]   \n",
       "14      [4.0, 3.25, 3990.0, 9786.0, 2.0, 0.0, 0.0, 3.0, 9.0, 3990.0, 0.0, 47.6784, -122.026, 3920.0, 8200.0, 10.0, 0.0, 0.0]   \n",
       "15     [4.0, 2.0, 1780.0, 19843.0, 1.0, 0.0, 0.0, 3.0, 7.0, 1780.0, 0.0, 47.4414, -122.154, 2210.0, 13500.0, 52.0, 0.0, 0.0]   \n",
       "16        [4.0, 2.5, 2130.0, 6003.0, 2.0, 0.0, 0.0, 3.0, 8.0, 2130.0, 0.0, 47.4518, -122.12, 1940.0, 4529.0, 11.0, 0.0, 0.0]   \n",
       "17   [3.0, 1.75, 1660.0, 10440.0, 1.0, 0.0, 0.0, 3.0, 7.0, 1040.0, 620.0, 47.4448, -121.77, 1240.0, 10380.0, 36.0, 0.0, 0.0]   \n",
       "18       [3.0, 2.5, 2110.0, 4118.0, 2.0, 0.0, 0.0, 3.0, 8.0, 2110.0, 0.0, 47.3878, -122.153, 2110.0, 4044.0, 25.0, 0.0, 0.0]   \n",
       "19  [4.0, 2.25, 2200.0, 11250.0, 1.5, 0.0, 0.0, 5.0, 7.0, 1300.0, 900.0, 47.6845, -122.201, 2320.0, 10814.0, 94.0, 0.0, 0.0]   \n",
       "\n",
       "   out.variable  check_failures  \n",
       "0   [718013.75]               0  \n",
       "1   [615094.56]               0  \n",
       "2   [448627.72]               0  \n",
       "3    [758714.2]               0  \n",
       "4    [513264.7]               0  \n",
       "5    [668288.0]               0  \n",
       "6   [1004846.5]               0  \n",
       "7    [684577.2]               0  \n",
       "8    [727898.1]               0  \n",
       "9    [559631.1]               0  \n",
       "10  [340764.53]               0  \n",
       "11  [442168.06]               0  \n",
       "12   [630865.6]               0  \n",
       "13   [559631.1]               0  \n",
       "14   [909441.1]               0  \n",
       "15   [313096.0]               0  \n",
       "16   [404040.8]               0  \n",
       "17   [292859.5]               0  \n",
       "18  [338357.88]               0  \n",
       "19   [682284.6]               0  "
      ]
     },
     "metadata": {},
     "output_type": "display_data"
    },
    {
     "name": "stdout",
     "output_type": "stream",
     "text": [
      "Waiting for undeployment - this will take up to 45s ................................... ok\n"
     ]
    },
    {
     "data": {
      "text/html": [
       "<table><tr><th>name</th> <td>orchestrationpipeline</td></tr><tr><th>created</th> <td>2023-05-08 14:07:18.486170+00:00</td></tr><tr><th>last_updated</th> <td>2023-05-08 15:33:55.892537+00:00</td></tr><tr><th>deployed</th> <td>False</td></tr><tr><th>tags</th> <td></td></tr><tr><th>versions</th> <td>fc251456-f327-4b4b-914b-52705980f180, c0dc16d9-36cb-47d8-b414-ab3992134cb6, 37e737a6-5d90-4ca0-b69f-284aca23b914, cf055237-8c2c-4817-b6a5-37f477c2cbbe, 661f255e-837b-44d8-b98f-4c209dfb8d3f, 41d4e748-c9ee-4c06-aa75-67753f54a73b, 22be445d-e2e5-4ead-9bec-861ed427f8ab, 97d72228-1873-4c4d-9626-610e4bdbadcb, c36a26c3-44d5-49c3-af15-3cebf557c794, 114df7f2-20b6-4018-8ced-cba2385f8cc1, bede7ddd-dfb6-42df-b968-f9f0bf0fceb0, 89d6045a-cc5f-4e40-8de9-09f0c8203ba1, d33a9765-060f-4fa2-bf67-6e1270b5a2c5, 8e998ca6-0064-4c9f-bb7c-5936d0b80770, db8c5b44-02f3-4e11-b6e2-cc65c7fb9703, 0a514bc3-733b-4a5c-9932-d5bde1e22d5c, 222d851a-4522-4deb-9a58-edb074708485, 2f9322fc-ead9-4db2-b1a1-f1786c5879e1, b123486a-35e9-4500-862b-b1ae39f3407d, 45de61c8-6cad-4c39-a7c6-f84c422a2894, d3dc5292-4fc6-420f-b60b-50fc3d40a58c, 993c4363-d1b8-4218-a4a2-1c2670b0f8d8, d3026397-604a-4f1f-8a51-9adf3aab3e46, ec35d9d2-8d98-42f3-97be-502f8d266d27, f4cd9c34-73d4-4415-a72f-eaa31c1d49ad, cb2d155e-e287-4d6d-90ee-0fc53e5727ea, 53911c17-f497-4e5b-a607-48ad5abb9cd5, 6aa6421a-3dda-4824-b937-a6b4453905d5, 3e9b930d-db25-46d9-b8bf-e4896d267b91, 45a9896b-4180-4352-8ea0-36792e3fa3fa, 6a9a50ee-7705-418c-8621-9e2981944434, 183443ee-2215-4371-8da1-b54153ff6798, 51c01c4b-b826-4e1c-aa63-8a8894e7fac9, 553266fd-853f-4191-9087-37c396805138</td></tr><tr><th>steps</th> <td>orchestrationmodel</td></tr></table>"
      ],
      "text/plain": [
       "{'name': 'orchestrationpipeline', 'create_time': datetime.datetime(2023, 5, 8, 14, 7, 18, 486170, tzinfo=tzutc()), 'definition': \"[{'ModelInference': {'models': [{'name': 'orchestrationmodel', 'version': 'f78f68d4-2e39-4d89-bfc5-ce2845080f5d', 'sha': 'e22a0831aafd9917f3cc87a15ed267797f80e2afa12ad7d8810ca58f173b8cc6'}]}}]\"}"
      ]
     },
     "execution_count": 46,
     "metadata": {},
     "output_type": "execute_result"
    }
   ],
   "source": [
    "# Deploy the pipeline \n",
    "pipeline.deploy()\n",
    "\n",
    "# Retrieve the file\n",
    "# set accept as apache arrow table\n",
    "headers = {\n",
    "    'Accept': 'application/vnd.apache.arrow.file'\n",
    "}\n",
    "\n",
    "response = requests.get(\n",
    "                    connection.details()['host'], \n",
    "                    headers=headers\n",
    "                )\n",
    "\n",
    "# Arrow table is retrieved \n",
    "with pa.ipc.open_file(response.content) as reader:\n",
    "    arrow_table = reader.read_all()\n",
    "\n",
    "results = pipeline.infer(arrow_table)\n",
    "\n",
    "result_table = results.to_pandas()\n",
    "display(result_table.head(20))\n",
    "\n",
    "# Undeploy the pipeline and return the resources back to the Wallaroo instance\n",
    "pipeline.undeploy()"
   ]
  },
  {
   "attachments": {},
   "cell_type": "markdown",
   "id": "894da865",
   "metadata": {},
   "source": [
    "### Remove Connection from Workspace\n",
    "\n",
    "The Workspace method `remove_connection(connection_name)` removes the connection from the workspace, but does not delete the connection from the Wallaroo instance.  This method takes the following parameters.\n",
    "\n",
    "| Parameter | Type | Description |\n",
    "|---|---|---|\n",
    "| **name** | String (Required) | The name of the connection to be removed \n",
    "\n",
    "The previous connection will be removed from the workspace, then the workspace connections displayed to verify it has been removed."
   ]
  },
  {
   "cell_type": "code",
   "execution_count": 47,
   "id": "5a70f461",
   "metadata": {},
   "outputs": [
    {
     "data": {
      "text/html": [
       "(no connections)"
      ],
      "text/plain": [
       "[]"
      ]
     },
     "metadata": {},
     "output_type": "display_data"
    }
   ],
   "source": [
    "workspace.remove_connection(connection_name)\n",
    "\n",
    "display(workspace.list_connections())"
   ]
  },
  {
   "attachments": {},
   "cell_type": "markdown",
   "id": "d01056b3",
   "metadata": {},
   "source": [
    "### Delete Connection\n",
    "\n",
    "The Connection method `delete_connection()` removes the connection from the Wallaroo instance, and all attachments in workspaces they were connected to."
   ]
  },
  {
   "cell_type": "code",
   "execution_count": 48,
   "id": "e993a3d9",
   "metadata": {},
   "outputs": [
    {
     "data": {
      "text/html": [
       "(no connections)"
      ],
      "text/plain": [
       "[]"
      ]
     },
     "execution_count": 48,
     "metadata": {},
     "output_type": "execute_result"
    }
   ],
   "source": [
    "connection.delete_connection()\n",
    "\n",
    "wl.list_connections()"
   ]
  },
  {
   "attachments": {},
   "cell_type": "markdown",
   "id": "4a0660b2",
   "metadata": {},
   "source": [
    "## Orchestration Tutorial\n",
    "\n",
    "The next series of examples will build on what we just did.  So far we have:\n",
    "\n",
    "* Deployed a pipeline, performed sample inferences with a local Apache Arrow file, displayed the results, then undeployed the pipeline.\n",
    "* Deployed a pipeline, use a Wallaroo connection details to retrieve a remote Apache Arrow file, performed inferences and displayed the results, then undeployed the pipeline.\n",
    "\n",
    "For the orchestration tutorial, we'll do the same thing only package it into a separate python script and upload it to the Wallaroo instance, then create a task from that orchestration and perform our sample inferences again.\n",
    "\n",
    "### Orchestration Requirements\n",
    "\n",
    "Orchestrations are uploaded to the Wallaroo instance as a ZIP file with the following requirements:\n",
    "\n",
    "* The ZIP file should not contain any directories - only files at the top level.\n",
    "\n",
    "| Parameter | Type | Description |\n",
    "|---|---|---|\n",
    "| **User Code** | (**Required**) Python script as `.py` files | Python scripts for the orchestration to run.  If the file `main.py` exists, that will be the entrypoint.  Otherwise, if only one .py exists, then that will be the entrypoint. |\n",
    "| Python Library Requirements | (**Required**) `requirements.txt` file in the [requirements file format](https://pip.pypa.io/en/stable/reference/requirements-file-format/).  This is in the root of the zip file, and there can only be one `requirements.txt` file for the orchestration. |\n",
    "| Other artifacts | &nbsp; | Other artifacts such as files, data, or code to support the orchestration.\n",
    "\n",
    "#### Zip Instructions\n",
    "\n",
    "In a terminal with the `zip` command, assemble artifacts as above and then create the archive.  The `zip` command is included by default with the Wallaroo JupyterHub service.\n",
    "\n",
    "`zip` commands take the following format, with `{zipfilename}.zip` as the zip file to save the artifacts to, and each file thereafter as the files to add to the archive.\n",
    "\n",
    "```bash\n",
    "zip {zipfilename}.zip file1, file2, file3....\n",
    "```\n",
    "\n",
    "For example, the following command will add the files `main.py` and `requirements.txt` into the file `hello.zip`.\n",
    "\n",
    "```shell\n",
    "$ zip hello.zip main.py requirements.txt \n",
    "  adding: main.py (deflated 47%)\n",
    "  adding: requirements.txt (deflated 52%)\n",
    "```\n",
    "\n",
    "### Orchestration Recommendations\n",
    "\n",
    "The following recommendations will make using Wallaroo orchestrations \n",
    "\n",
    "* The version of Python used should match the same version as in the Wallaroo JupyterHub service.\n",
    "* The same version of the [Wallaroo SDK](https://pypi.org/project/wallaroo/) should match the server.  For a 2023.2 Wallaroo instance, use the Wallaroo SDK version 2023.2.\n",
    "* Specify the version of `pip` dependencies.\n",
    "* The `wallaroo.Client` constructor `auth_type` argument is ignored.  Using `wallaroo.Client()` is sufficient.\n",
    "* The following methods will assist with orchestrations:\n",
    "  * `wallaroo.in_task()` :  Returns `True` if the code is running within an Orchestrator task.\n",
    "  * `wallaroo.task_args()`:  Returns a `Dict` of invocation-specific arguments passed to the `run_` calls.\n",
    "* Use `print` commands so outputs are saved to the task's log files.\n",
    "\n",
    "### Example requirements.txt file\n",
    "\n",
    "```python\n",
    "dbt-bigquery==1.4.3\n",
    "dbt-core==1.4.5\n",
    "dbt-extractor==0.4.1\n",
    "dbt-postgres==1.4.5\n",
    "google-api-core==2.8.2\n",
    "google-auth==2.11.0\n",
    "google-auth-oauthlib==0.4.6\n",
    "google-cloud-bigquery==3.3.2\n",
    "google-cloud-bigquery-storage==2.15.0\n",
    "google-cloud-core==2.3.2\n",
    "google-cloud-storage==2.5.0\n",
    "google-crc32c==1.5.0\n",
    "google-pasta==0.2.0\n",
    "google-resumable-media==2.3.3\n",
    "googleapis-common-protos==1.56.4\n",
    "```"
   ]
  },
  {
   "attachments": {},
   "cell_type": "markdown",
   "id": "596b2e52",
   "metadata": {},
   "source": [
    "### Sample Orchestrator\n",
    "\n",
    "The following orchestrator artifacts are in the directory `./remote_inference` and includes the file `main.py` with the following code:\n",
    "\n",
    "```python\n",
    "import wallaroo\n",
    "from wallaroo.object import EntityNotFoundError\n",
    "import pandas as pd\n",
    "import pyarrow as pa\n",
    "import requests\n",
    "\n",
    "wl = wallaroo.Client()\n",
    "\n",
    "# Setting variables for later steps\n",
    "\n",
    "workspace_name = 'orchestrationworkspace'\n",
    "pipeline_name = 'orchestrationpipeline'\n",
    "model_name = 'orchestrationmodel'\n",
    "model_file_name = './models/rf_model.onnx'\n",
    "connection_name = \"houseprice_arrow_table\"\n",
    "\n",
    "# helper methods to retrieve workspaces and pipelines\n",
    "\n",
    "def get_workspace(name):\n",
    "    workspace = None\n",
    "    for ws in wl.list_workspaces():\n",
    "        if ws.name() == name:\n",
    "            workspace= ws\n",
    "    if(workspace == None):\n",
    "        workspace = wl.create_workspace(name)\n",
    "    return workspace\n",
    "\n",
    "def get_pipeline(name):\n",
    "    try:\n",
    "        pipeline = wl.pipelines_by_name(name)[0]\n",
    "    except EntityNotFoundError:\n",
    "        pipeline = wl.build_pipeline(name)\n",
    "    return pipeline\n",
    "\n",
    "workspace = get_workspace(workspace_name)\n",
    "wl.set_current_workspace(workspace)\n",
    "\n",
    "pipeline = get_pipeline(pipeline_name)\n",
    "\n",
    "#deploy the pipeline\n",
    "pipeline.deploy()\n",
    "\n",
    "# Get the connection - assuming it will be the only one\n",
    "\n",
    "connection = workspace.list_connections()[0]\n",
    "\n",
    "# Deploy the pipeline \n",
    "pipeline.deploy()\n",
    "\n",
    "# Retrieve the file\n",
    "# set accept as apache arrow table\n",
    "headers = {\n",
    "    'Accept': 'application/vnd.apache.arrow.file'\n",
    "}\n",
    "\n",
    "response = requests.get(\n",
    "                    connection.details()['host'], \n",
    "                    headers=headers\n",
    "                )\n",
    "\n",
    "# Arrow table is retrieved \n",
    "with pa.ipc.open_file(response.content) as reader:\n",
    "    arrow_table = reader.read_all()\n",
    "\n",
    "# Perform the inference\n",
    "results = pipeline.infer(arrow_table)\n",
    "\n",
    "# Undeploy the pipeline and return the resources back to the Wallaroo instance\n",
    "pipeline.undeploy()\n",
    "```\n",
    "\n",
    "This is saved to the file `./remote_inference/remote_inference.zip`."
   ]
  },
  {
   "attachments": {},
   "cell_type": "markdown",
   "id": "21d7be2b",
   "metadata": {},
   "source": [
    "### Preparing the Wallaroo Instance\n",
    "\n",
    "To prepare the Wallaroo instance, we'll once again create the Wallaroo connection `houseprice_arrow_table` and apply it to the workspace."
   ]
  },
  {
   "cell_type": "code",
   "execution_count": 105,
   "id": "514db67e",
   "metadata": {},
   "outputs": [],
   "source": [
    "connection = wl.list_connections()[0]"
   ]
  },
  {
   "cell_type": "code",
   "execution_count": 49,
   "id": "c1cc5fec",
   "metadata": {},
   "outputs": [],
   "source": [
    "wl.create_connection(connection_name, \n",
    "                  \"HTTPFILE\", \n",
    "                  {'host':'https://github.com/WallarooLabs/Wallaroo_Tutorials/blob/20230314_2023.2_updates/wallaroo-testing-tutorials/houseprice-saga/data/xtest-1k.arrow?raw=true'}\n",
    "                  )\n",
    "\n",
    "workspace.add_connection(connection_name)"
   ]
  },
  {
   "attachments": {},
   "cell_type": "markdown",
   "id": "c54d9602",
   "metadata": {},
   "source": [
    "### Upload the Orchestration\n",
    "\n",
    "Orchestrations are uploaded with the Wallaroo client `upload_orchestration(path)` method with the following parameters.\n",
    "\n",
    "| Parameter | Type | Description |\n",
    "| --- | --- | ---|\n",
    "| **path** | string (Required) | The path to the ZIP file to be uploaded. |\n",
    "\n",
    "Once uploaded, the deployment will be prepared and any requirements will be downloaded and installed.\n",
    "\n",
    "\n",
    "For this example, the orchestration `./remote_inference/remote_inference.zip` will be uploaded and saved to the variable `orchestration`."
   ]
  },
  {
   "cell_type": "code",
   "execution_count": null,
   "id": "00e6e6e5",
   "metadata": {},
   "outputs": [],
   "source": [
    "orchestration_names = wl.upload_orchestration(name=\"test\", up)"
   ]
  },
  {
   "cell_type": "code",
   "execution_count": 106,
   "id": "c8332ee5",
   "metadata": {},
   "outputs": [],
   "source": [
    "orchestration = wl.upload_orchestration(path=\"./remote_inference/remote_inference.zip\")"
   ]
  },
  {
   "attachments": {},
   "cell_type": "markdown",
   "id": "bffd7b14",
   "metadata": {},
   "source": [
    "### Orchestration Status\n",
    "\n",
    "The Orchestration method `status()` displays the current status of the uploaded orchestration.\n",
    "\n",
    "| Status | Description |\n",
    "|---|---|\n",
    "|---|---|\n",
    "| `pending_packaging` | The orchestration is uploaded, but packaging hasn't started yet. |\n",
    "| `packaging` | The orchestration is being packaged for use with the Wallaroo instance. |\n",
    "| `ready` | The orchestration is ready for use. |\n",
    "\n",
    "For this example, the status of the orchestration will be displayed then looped until it has reached status `ready`."
   ]
  },
  {
   "cell_type": "code",
   "execution_count": 107,
   "id": "e4eb26f8",
   "metadata": {},
   "outputs": [
    {
     "name": "stdout",
     "output_type": "stream",
     "text": [
      "pending_packaging\n",
      "packaging\n",
      "packaging\n",
      "packaging\n",
      "packaging\n",
      "packaging\n",
      "packaging\n"
     ]
    }
   ],
   "source": [
    "import time\n",
    "\n",
    "while orchestration.status() != 'ready':\n",
    "    print(orchestration.status())\n",
    "    time.sleep(5)"
   ]
  },
  {
   "attachments": {},
   "cell_type": "markdown",
   "id": "de1423fb",
   "metadata": {},
   "source": [
    "### List Orchestrations\n",
    "\n",
    "Orchestrations are listed with the Wallaroo Client `list_orchestrations()` which returns a list of available orchestrations."
   ]
  },
  {
   "cell_type": "code",
   "execution_count": 108,
   "id": "e53d7731",
   "metadata": {},
   "outputs": [
    {
     "data": {
      "text/html": [
       "<table><tr><th>id</th><th>status</th><th>name</th><th>sha</th><th>created at</th><th>updated at</th></tr><tr><td>8eb961b3-2ac3-495a-90b4-38a40dd255f0</td><td>ready</td><td>remote_inference.zip</td><td>8c9145c27570508d8f2532a040a5a07d34cbb6ed6a8f210a9dcdb73e277fd938</td><td>2023-08-May 14:09:05</td><td>2023-08-May 14:09:57</td></tr><tr><td>b3098e16-cd4c-49c2-bd06-7c5d89c098f9</td><td>ready</td><td>remote_inference.zip</td><td>cb38b08970ba7fb5e04db1d99443c65a2e8cc78f1c5700e3696c16ea2e44d932</td><td>2023-08-May 14:15:41</td><td>2023-08-May 14:16:39</td></tr><tr><td>8a884816-4c72-4d7e-bc28-8de46d3a9bea</td><td>ready</td><td>remote_inference.zip</td><td>a77de512c78a31672b58fe7961ba7522c47ec5ba0e948db32b33f8c0f6b815f1</td><td>2023-08-May 14:25:22</td><td>2023-08-May 14:26:24</td></tr><tr><td>b35e7b7e-d214-4309-afb3-8979b0659e4e</td><td>ready</td><td>remote_inference2.zip</td><td>74660ce936494f57ef10f45f6ac8a9e701d6c7911c774fa99abf3654726d5e24</td><td>2023-08-May 14:38:36</td><td>2023-08-May 14:39:21</td></tr><tr><td>0f81c52a-b3b4-44b1-99d5-09191bae5f52</td><td>ready</td><td>remote_inference.zip</td><td>a77de512c78a31672b58fe7961ba7522c47ec5ba0e948db32b33f8c0f6b815f1</td><td>2023-08-May 15:36:57</td><td>2023-08-May 15:37:41</td></tr></table>"
      ],
      "text/plain": [
       "[<wallaroo.orchestration.Orchestration at 0x17709e490>,\n",
       " <wallaroo.orchestration.Orchestration at 0x177fc2370>,\n",
       " <wallaroo.orchestration.Orchestration at 0x177ff7940>,\n",
       " <wallaroo.orchestration.Orchestration at 0x177f97610>,\n",
       " <wallaroo.orchestration.Orchestration at 0x177f97d30>]"
      ]
     },
     "execution_count": 108,
     "metadata": {},
     "output_type": "execute_result"
    }
   ],
   "source": [
    "wl.list_orchestrations()"
   ]
  },
  {
   "attachments": {},
   "cell_type": "markdown",
   "id": "bf028e54",
   "metadata": {},
   "source": [
    "## Task Management Tutorial\n",
    "\n",
    "Once an Orchestration has the status `ready`, it can be run as a task.  Tasks have three run options.\n",
    "\n",
    "| Type       | SDK Call |  How triggered                                                               | Purpose                                                       |\n",
    "|------------|----------|:------------------------------------------------------------------------------|:---------------------------------------------------------------|\n",
    "| Once       | `orchestration.run_once(name, json_args, timeout)` | Task runs once and exits.| Single batch, experimentation                                 |\n",
    "| Scheduled  | `orchestration.run_scheduled()` | User provides schedule. Task runs exits whenever schedule dictates. | Recurrent batch ETL.|"
   ]
  },
  {
   "attachments": {},
   "cell_type": "markdown",
   "id": "6fc05481-4378-499e-8cea-60d37150f41b",
   "metadata": {},
   "source": [
    "### Task Run Once\n",
    "\n",
    "Tasks are generated and run once with the Orchestration `run_once(name, json_args, timeout)` method.  Any arguments for the orchestration are passed in as a `Dict`.  If there are no arguments, then an empty set `{}` is passed."
   ]
  },
  {
   "cell_type": "code",
   "execution_count": 109,
   "id": "f2b73d28-7169-41da-a434-afafde39af3d",
   "metadata": {},
   "outputs": [
    {
     "data": {
      "text/html": [
       "\n",
       "        <table>\n",
       "          <tr>\n",
       "            <th>Field</th>\n",
       "            <th>Value</th>\n",
       "          </tr>\n",
       "          <tr>\n",
       "            <td>ID</td><td>41266ca4-c78e-47de-981e-693271a3c65b</td>\n",
       "          </tr>\n",
       "          <tr>\n",
       "            <td>Status</td><td>pending</td>\n",
       "          </tr>\n",
       "          <tr>\n",
       "            <td>Type</td><td>Temporary Run</td>\n",
       "          </tr>\n",
       "          <tr>\n",
       "            <td>Created At</td><td>2023-08-May 18:21:55</td>\n",
       "          </tr>\n",
       "          <tr>\n",
       "            <td>Updated At</td><td>2023-08-May 18:21:55</td>\n",
       "          </tr>\n",
       "        </table>\n",
       "        "
      ],
      "text/plain": [
       "<wallaroo.task.Task at 0x28a6fe3d0>"
      ]
     },
     "execution_count": 109,
     "metadata": {},
     "output_type": "execute_result"
    }
   ],
   "source": [
    "# Example: run once\n",
    "\n",
    "import datetime\n",
    "task_start = datetime.datetime.now()\n",
    "\n",
    "task = orchestration.run_once(name=\"house price run once task\", json_args={})\n",
    "task"
   ]
  },
  {
   "attachments": {},
   "cell_type": "markdown",
   "id": "0dcbc1d4",
   "metadata": {},
   "source": [
    "### Task Status\n",
    "\n",
    "The list of tasks in the Wallaroo instance is retrieves through the Wallaroo Client `list_tasks()` method.  This returns an array list of the following.\n",
    "\n",
    "| Parameter | Type | Description |\n",
    "| --- | --- | ---|\n",
    "| **id** | string | The UUID identifier for the task. |\n",
    "| **status** | enum | The status of the task.  Values are: <br><ul><li>`pending`: The task has not been started.</li><li>`started`: The task has been scheduled to execute.</li><li>`pending_kill`: The task kill command has been issued and the task is scheduled to be stopped.</li></ul> |\n",
    "| **type** | string | The type of the task.  Values are: <br><ul><li>`Temporary Run`: The task runs once then stop.</li><li>`Scheduled Run`: The task repeats on a `cron` like schedule.</li><li>`Service Run`: The task runs as a service and executes when its service port is activated. |\n",
    "| **created at** | DateTime | The date and time the task was started. |\n",
    "| **updated at** | DateTime | The date and time the task was updated. |\n",
    "\n",
    "For this example, the status of the previously created task will be generated, then looped until it has reached status `started`."
   ]
  },
  {
   "cell_type": "code",
   "execution_count": 110,
   "id": "a05a299f",
   "metadata": {},
   "outputs": [],
   "source": [
    "while task.status() != \"started\":\n",
    "    display(task.status())\n",
    "    time.sleep(5)"
   ]
  },
  {
   "cell_type": "code",
   "execution_count": 113,
   "id": "f3664d64-87ab-4c90-a597-f6d112e8bf8e",
   "metadata": {},
   "outputs": [
    {
     "data": {
      "text/html": [
       "<table><tr><th>id</th><th>status</th><th>type</th><th>created at</th><th>updated at</th></tr><tr><td>5348df7b-3357-4eb0-b2a7-db05c11d6965</td><td>started</td><td>Temporary Run</td><td>2023-08-May 14:28:14</td><td>2023-08-May 14:28:18</td></tr><tr><td>7071ebd0-7a44-4187-a756-dbfaefc20be6</td><td>started</td><td>Temporary Run</td><td>2023-08-May 14:44:31</td><td>2023-08-May 14:44:35</td></tr><tr><td>0e391394-fa99-476d-988d-5ed6da5b1854</td><td>started</td><td>Temporary Run</td><td>2023-08-May 14:50:24</td><td>2023-08-May 14:50:29</td></tr></table>"
      ],
      "text/plain": [
       "[<wallaroo.task.Task at 0x288315b80>,\n",
       " <wallaroo.task.Task at 0x28803eac0>,\n",
       " <wallaroo.task.Task at 0x177f901f0>]"
      ]
     },
     "execution_count": 113,
     "metadata": {},
     "output_type": "execute_result"
    }
   ],
   "source": [
    "wl.list_tasks()"
   ]
  },
  {
   "cell_type": "code",
   "execution_count": 112,
   "id": "2ec928a5",
   "metadata": {},
   "outputs": [
    {
     "data": {
      "text/plain": [
       "'started'"
      ]
     },
     "execution_count": 112,
     "metadata": {},
     "output_type": "execute_result"
    }
   ],
   "source": [
    "task.status()"
   ]
  },
  {
   "cell_type": "code",
   "execution_count": 117,
   "id": "1f521203",
   "metadata": {},
   "outputs": [],
   "source": [
    "task_scheduled = orchestration.run_scheduled(name=\"schedul_test\", timeout=600, schedule=\"*, 5, *, *, *\", json_args={})"
   ]
  },
  {
   "cell_type": "code",
   "execution_count": 122,
   "id": "90566463",
   "metadata": {},
   "outputs": [
    {
     "data": {
      "text/plain": [
       "'started'"
      ]
     },
     "execution_count": 122,
     "metadata": {},
     "output_type": "execute_result"
    }
   ],
   "source": [
    "task_scheduled.status()"
   ]
  },
  {
   "cell_type": "code",
   "execution_count": 125,
   "id": "6c8ee061",
   "metadata": {},
   "outputs": [
    {
     "data": {
      "text/html": [
       "<table><tr><th>id</th><th>status</th><th>type</th><th>created at</th><th>updated at</th></tr><tr><td>5348df7b-3357-4eb0-b2a7-db05c11d6965</td><td>started</td><td>Temporary Run</td><td>2023-08-May 14:28:14</td><td>2023-08-May 14:28:18</td></tr><tr><td>7071ebd0-7a44-4187-a756-dbfaefc20be6</td><td>started</td><td>Temporary Run</td><td>2023-08-May 14:44:31</td><td>2023-08-May 14:44:35</td></tr><tr><td>0e391394-fa99-476d-988d-5ed6da5b1854</td><td>started</td><td>Temporary Run</td><td>2023-08-May 14:50:24</td><td>2023-08-May 14:50:29</td></tr></table>"
      ],
      "text/plain": [
       "[<wallaroo.task.Task at 0x2884ae130>,\n",
       " <wallaroo.task.Task at 0x177ec6d60>,\n",
       " <wallaroo.task.Task at 0x177f089d0>]"
      ]
     },
     "execution_count": 125,
     "metadata": {},
     "output_type": "execute_result"
    }
   ],
   "source": [
    "wl.list_tasks()"
   ]
  },
  {
   "cell_type": "code",
   "execution_count": null,
   "id": "e5ee2034",
   "metadata": {},
   "outputs": [],
   "source": [
    "orchestration.run_scheduled()"
   ]
  },
  {
   "attachments": {},
   "cell_type": "markdown",
   "id": "7bd6a79a",
   "metadata": {},
   "source": [
    "### Task Results\n",
    "\n",
    "We can view the inferences from our logs and verify that new entries were added from our task.  In our case, we'll assume the task once started takes about 1 minute to run (deploy the pipeline, run the inference, undeploy the pipeline).  We'll add in a wait of 1 minute, then display the logs during the time period the task was running."
   ]
  },
  {
   "cell_type": "code",
   "execution_count": 127,
   "id": "818b5f3d",
   "metadata": {},
   "outputs": [
    {
     "data": {
      "text/plain": [
       "datetime.datetime(2023, 5, 8, 12, 35, 32, 614348)"
      ]
     },
     "metadata": {},
     "output_type": "display_data"
    },
    {
     "ename": "ValueError",
     "evalue": "The truth value of a DataFrame is ambiguous. Use a.empty, a.bool(), a.item(), a.any() or a.all().",
     "output_type": "error",
     "traceback": [
      "\u001b[0;31m---------------------------------------------------------------------------\u001b[0m",
      "\u001b[0;31mValueError\u001b[0m                                Traceback (most recent call last)",
      "\u001b[0;32m/var/folders/jf/_cj0q9d51s365wksymljdz4h0000gn/T/ipykernel_62824/431370523.py\u001b[0m in \u001b[0;36m<module>\u001b[0;34m\u001b[0m\n\u001b[1;32m      4\u001b[0m \u001b[0mdisplay\u001b[0m\u001b[0;34m(\u001b[0m\u001b[0mtask_end\u001b[0m\u001b[0;34m)\u001b[0m\u001b[0;34m\u001b[0m\u001b[0;34m\u001b[0m\u001b[0m\n\u001b[1;32m      5\u001b[0m \u001b[0;34m\u001b[0m\u001b[0m\n\u001b[0;32m----> 6\u001b[0;31m \u001b[0mpipeline\u001b[0m\u001b[0;34m.\u001b[0m\u001b[0mlogs\u001b[0m\u001b[0;34m(\u001b[0m\u001b[0mstart_datetime\u001b[0m \u001b[0;34m=\u001b[0m \u001b[0mtask_start\u001b[0m\u001b[0;34m,\u001b[0m \u001b[0mend_datetime\u001b[0m \u001b[0;34m=\u001b[0m \u001b[0mtask_end\u001b[0m\u001b[0;34m)\u001b[0m\u001b[0;34m\u001b[0m\u001b[0;34m\u001b[0m\u001b[0m\n\u001b[0m",
      "\u001b[0;32m/opt/homebrew/anaconda3/envs/orchestrationstest/lib/python3.9/site-packages/wallaroo/pipeline.py\u001b[0m in \u001b[0;36mlogs\u001b[0;34m(self, limit, start_datetime, end_datetime, valid, dataset, dataset_exclude, dataset_separator, arrow)\u001b[0m\n\u001b[1;32m    413\u001b[0m             \u001b[0;32mif\u001b[0m \u001b[0mself\u001b[0m\u001b[0;34m.\u001b[0m\u001b[0m_last_infer_time\u001b[0m \u001b[0;32mis\u001b[0m \u001b[0;32mnot\u001b[0m \u001b[0;32mNone\u001b[0m\u001b[0;34m:\u001b[0m\u001b[0;34m\u001b[0m\u001b[0;34m\u001b[0m\u001b[0m\n\u001b[1;32m    414\u001b[0m                 \u001b[0;32mfor\u001b[0m \u001b[0mix\u001b[0m \u001b[0;32min\u001b[0m \u001b[0mrange\u001b[0m\u001b[0;34m(\u001b[0m\u001b[0;36m5\u001b[0m\u001b[0;34m)\u001b[0m\u001b[0;34m:\u001b[0m\u001b[0;34m\u001b[0m\u001b[0;34m\u001b[0m\u001b[0m\n\u001b[0;32m--> 415\u001b[0;31m                     if entries and self._last_infer_time <= max(\n\u001b[0m\u001b[1;32m    416\u001b[0m                         \u001b[0me\u001b[0m\u001b[0;34m.\u001b[0m\u001b[0mtimestamp\u001b[0m \u001b[0;32mfor\u001b[0m \u001b[0me\u001b[0m \u001b[0;32min\u001b[0m \u001b[0mentries\u001b[0m\u001b[0;34m\u001b[0m\u001b[0;34m\u001b[0m\u001b[0m\n\u001b[1;32m    417\u001b[0m                     ):\n",
      "\u001b[0;32m/opt/homebrew/anaconda3/envs/orchestrationstest/lib/python3.9/site-packages/pandas/core/generic.py\u001b[0m in \u001b[0;36m__nonzero__\u001b[0;34m(self)\u001b[0m\n\u001b[1;32m   1535\u001b[0m     \u001b[0;34m@\u001b[0m\u001b[0mfinal\u001b[0m\u001b[0;34m\u001b[0m\u001b[0;34m\u001b[0m\u001b[0m\n\u001b[1;32m   1536\u001b[0m     \u001b[0;32mdef\u001b[0m \u001b[0m__nonzero__\u001b[0m\u001b[0;34m(\u001b[0m\u001b[0mself\u001b[0m\u001b[0;34m)\u001b[0m\u001b[0;34m:\u001b[0m\u001b[0;34m\u001b[0m\u001b[0;34m\u001b[0m\u001b[0m\n\u001b[0;32m-> 1537\u001b[0;31m         raise ValueError(\n\u001b[0m\u001b[1;32m   1538\u001b[0m             \u001b[0;34mf\"The truth value of a {type(self).__name__} is ambiguous. \"\u001b[0m\u001b[0;34m\u001b[0m\u001b[0;34m\u001b[0m\u001b[0m\n\u001b[1;32m   1539\u001b[0m             \u001b[0;34m\"Use a.empty, a.bool(), a.item(), a.any() or a.all().\"\u001b[0m\u001b[0;34m\u001b[0m\u001b[0;34m\u001b[0m\u001b[0m\n",
      "\u001b[0;31mValueError\u001b[0m: The truth value of a DataFrame is ambiguous. Use a.empty, a.bool(), a.item(), a.any() or a.all()."
     ]
    }
   ],
   "source": [
    "# time.sleep(60)\n",
    "\n",
    "task_end = datetime.datetime.now()\n",
    "display(task_end)\n",
    "\n",
    "pipeline.logs(start_datetime = task_start, end_datetime = task_end)"
   ]
  },
  {
   "attachments": {},
   "cell_type": "markdown",
   "id": "417d4d85",
   "metadata": {},
   "source": [
    "### Kill a Task\n",
    "\n",
    "Killing a task removes the schedule or removes it from a service.  Tasks are killed with the Task `kill()` method, and returns a message with the status of the kill procedure.\n",
    "\n",
    "If necessary, all tasks can be killed through the following script.\n",
    "\n",
    "* **IMPORTANT NOTE**:  This command will kill all running tasks - scheduled or otherwise.  Only use this if required.\n",
    "\n",
    "```python\n",
    "# Kill all tasks\n",
    "for t in wl.list_tasks(): t.kill()\n",
    "```"
   ]
  },
  {
   "cell_type": "code",
   "execution_count": 60,
   "id": "a489a6bc-da89-4a86-8d38-1eeb5bb2237c",
   "metadata": {},
   "outputs": [
    {
     "data": {
      "text/plain": [
       "<ArbexStatus.PENDING_KILL: 'pending_kill'>"
      ]
     },
     "execution_count": 60,
     "metadata": {},
     "output_type": "execute_result"
    }
   ],
   "source": [
    "task.kill()"
   ]
  },
  {
   "cell_type": "code",
   "execution_count": 124,
   "id": "08db47ad-c384-46c1-868e-01ebd81f4312",
   "metadata": {},
   "outputs": [
    {
     "data": {
      "text/plain": [
       "'started'"
      ]
     },
     "execution_count": 124,
     "metadata": {},
     "output_type": "execute_result"
    }
   ],
   "source": [
    "task.status()"
   ]
  },
  {
   "cell_type": "code",
   "execution_count": null,
   "id": "1d780833",
   "metadata": {},
   "outputs": [],
   "source": []
  }
 ],
 "metadata": {
  "kernelspec": {
   "display_name": "Python 3 (ipykernel)",
   "language": "python",
   "name": "python3"
  },
  "language_info": {
   "codemirror_mode": {
    "name": "ipython",
    "version": 3
   },
   "file_extension": ".py",
   "mimetype": "text/x-python",
   "name": "python",
   "nbconvert_exporter": "python",
   "pygments_lexer": "ipython3",
   "version": "3.9.13"
  }
 },
 "nbformat": 4,
 "nbformat_minor": 5
}
