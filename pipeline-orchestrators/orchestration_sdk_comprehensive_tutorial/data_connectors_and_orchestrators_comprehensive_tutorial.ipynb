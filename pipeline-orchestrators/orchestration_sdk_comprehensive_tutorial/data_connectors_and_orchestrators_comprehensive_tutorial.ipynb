{
 "cells": [
  {
   "attachments": {},
   "cell_type": "markdown",
   "id": "54d6daff",
   "metadata": {},
   "source": [
    "This can be downloaded as part of the [Wallaroo Tutorials repository](https://github.com/WallarooLabs/Wallaroo_Tutorials/tree/main/pipeline-orchestrators/orchestration_sdk_comprehensive_tutorial).\n",
    "\n",
    "## Pipeline Orchestration Comprehensive Tutorial\n",
    "\n",
    "This tutorial provides a complete set of methods and examples regarding Wallaroo Connections and Wallaroo ML Workload Orchestration.\n",
    "\n",
    "Wallaroo provides data connections, orchestrations, and tasks to provide organizations with a method of creating and managing automated tasks that can either be run on demand, on a regular schedule, or as a service so they respond to requests.\n",
    "\n",
    "| Object | Description |\n",
    "|---|---|\n",
    "| Orchestration | A set of instructions written as a python script with a requirements library.  Orchestrations are uploaded to the Wallaroo instance |\n",
    "| Task | An implementation of an orchestration.  Tasks are run either once when requested, on a repeating schedule, or as a service. |\n",
    "| Connection | Definitions set by MLOps engineers that are used by other Wallaroo users for connection information to a data source.  Usually paired with orchestrations. |\n",
    "\n",
    "A typical flow in the orchestration, task and connection life cycle is:\n",
    "\n",
    "1. (Optional) A connection is defined with information such as username, connection URL, tokens, etc.\n",
    "1. One or more connections are applied to a workspace for users to implement in their code or orchestrations.\n",
    "1. An orchestration is created to perform some set instructions.  For example:\n",
    "    1. Deploy a pipeline, request data from an external service, store the results in an external database, then undeploy the pipeline.\n",
    "    1. Download a ML Model then replace a current pipeline step with the new version.\n",
    "    1. Collect log files from a deployed pipeline once every hour and submit it to a Kafka or other service.\n",
    "1. A task is created that specifies the orchestration to perform and the schedule:\n",
    "    1. Run once.\n",
    "    1. Run on a schedule (based on `cron` like settings).\n",
    "    1. Run as a service to be run whenever requested.\n",
    "1. Once the use for a task is complete, it is killed and its schedule or service removed.\n",
    "\n",
    "## Tutorial Goals\n",
    "\n",
    "The tutorial will demonstrate the following:\n",
    "\n",
    "1. Create a simple connection to retrieve an Apache Arrow table file from a GitHub registry.\n",
    "1. Create an orchestration that retrieves the Apache Arrow table file from the location defined by the connection, deploy a pipeline, perform an inference, then undeploys the pipeline.\n",
    "1. Implement the orchestration as a task that runs every minute.\n",
    "1. Display the logs from the pipeline after 5 minutes to verify the task is running."
   ]
  },
  {
   "attachments": {},
   "cell_type": "markdown",
   "id": "67e1bb26",
   "metadata": {},
   "source": [
    "## Tutorial Required Libraries\n",
    "\n",
    "The following libraries are required for this tutorial, and included by default in a Wallaroo instance's JupyterHub service.\n",
    "\n",
    "* **IMPORTANT NOTE**:  These libraries are already installed in the Wallaroo JupyterHub service.  Do not uninstall and reinstall the Wallaroo SDK with the command below.\n",
    "\n",
    "* [wallaroo](https://pypi.org/project/wallaroo/):  The Wallaroo SDK.\n",
    "* [pandas](https://pypi.org/project/pandas/): The pandas data analysis library.\n",
    "* [pyarrow](https://pypi.org/project/pyarrow/): The Apache Arrow Python library.\n",
    "\n",
    "The specific versions used are set in the file `./resources/requirements.txt`.  Supported libraries are automatically installed with the `pypi` or `conda` commands.  For example, from the root of this tutorials folder:\n",
    "\n",
    "```python\n",
    "pip install -r ./resources/requirements.txt\n",
    "```"
   ]
  },
  {
   "attachments": {},
   "cell_type": "markdown",
   "id": "a2b09330-0408-45eb-b321-b48b65041789",
   "metadata": {},
   "source": [
    "## Initialization\n",
    "\n",
    "The first step is to connect to a Wallaroo instance.  We'll load the libraries and set our client connection settings\n",
    "\n",
    "### Workspace, Model and Pipeline Setup\n",
    "\n",
    "For this tutorial, we'll create a workspace, upload our sample model and deploy a pipeline.  We'll perform some quick sample inferences to verify that everything it working."
   ]
  },
  {
   "cell_type": "code",
   "execution_count": 65,
   "id": "43ee5f42",
   "metadata": {},
   "outputs": [
    {
     "data": {
      "text/plain": [
       "'mrhh'"
      ]
     },
     "metadata": {},
     "output_type": "display_data"
    }
   ],
   "source": [
    "import wallaroo\n",
    "from wallaroo.object import EntityNotFoundError\n",
    "\n",
    "# to display dataframe tables\n",
    "from IPython.display import display\n",
    "# used to display dataframe information without truncating\n",
    "import pandas as pd\n",
    "pd.set_option('display.max_colwidth', None)\n",
    "import pyarrow as pa\n",
    "\n",
    "import requests\n",
    "\n",
    "# Used to create unique workspace and pipeline names\n",
    "import string\n",
    "import random\n",
    "\n",
    "# make a random 4 character prefix\n",
    "suffix= ''.join(random.choice(string.ascii_lowercase) for i in range(4))\n",
    "display(suffix)"
   ]
  },
  {
   "attachments": {},
   "cell_type": "markdown",
   "id": "5505facb",
   "metadata": {},
   "source": [
    "### Connect to the Wallaroo Instance\n",
    "\n",
    "The first step is to connect to Wallaroo through the Wallaroo client.  The Python library is included in the Wallaroo install and available through the Jupyter Hub interface provided with your Wallaroo environment.\n",
    "\n",
    "This is accomplished using the `wallaroo.Client()` command, which provides a URL to grant the SDK permission to your specific Wallaroo environment.  When displayed, enter the URL into a browser and confirm permissions.  Store the connection into a variable that can be referenced later.\n",
    "\n",
    "If logging into the Wallaroo instance through the internal JupyterHub service, use `wl = wallaroo.Client()`.  If logging in externally, update the `wallarooPrefix` and `wallarooSuffix` variables with the proper DNS information.  For more information on Wallaroo DNS settings, see the [Wallaroo DNS Integration Guide](https://docs.wallaroo.ai/wallaroo-operations-guide/wallaroo-configuration/wallaroo-dns-guide/)."
   ]
  },
  {
   "cell_type": "code",
   "execution_count": null,
   "id": "e9d19a6e",
   "metadata": {},
   "outputs": [],
   "source": [
    "# Login through local Wallaroo instance\n",
    "\n",
    "wl = wallaroo.Client()"
   ]
  },
  {
   "cell_type": "code",
   "execution_count": 67,
   "id": "06a981ef",
   "metadata": {},
   "outputs": [],
   "source": [
    "# Setting variables for later steps\n",
    "\n",
    "workspace_name = f'orchestrationworkspace{suffix}'\n",
    "pipeline_name = f'orchestrationpipeline{suffix}'\n",
    "model_name = f'orchestrationmodel{suffix}'\n",
    "model_file_name = './models/rf_model.onnx'\n",
    "connection_name = f'houseprice_arrow_table{suffix}'"
   ]
  },
  {
   "attachments": {},
   "cell_type": "markdown",
   "id": "9c46c722",
   "metadata": {},
   "source": [
    "### Helper Methods\n",
    "\n",
    "The following helper methods are used to either create or get workspaces and pipelines."
   ]
  },
  {
   "cell_type": "code",
   "execution_count": 68,
   "id": "0361a9db",
   "metadata": {},
   "outputs": [],
   "source": [
    "# helper methods to retrieve workspaces and pipelines\n",
    "\n",
    "def get_workspace(name):\n",
    "    workspace = None\n",
    "    for ws in wl.list_workspaces():\n",
    "        if ws.name() == name:\n",
    "            workspace= ws\n",
    "    if(workspace == None):\n",
    "        workspace = wl.create_workspace(name)\n",
    "    return workspace\n",
    "\n",
    "def get_pipeline(name):\n",
    "    try:\n",
    "        pipeline = wl.pipelines_by_name(name)[0]\n",
    "    except EntityNotFoundError:\n",
    "        pipeline = wl.build_pipeline(name)\n",
    "    return pipeline"
   ]
  },
  {
   "attachments": {},
   "cell_type": "markdown",
   "id": "98b78cf9",
   "metadata": {},
   "source": [
    "### Create the Workspace and Pipeline\n",
    "\n",
    "We'll now create our workspace and pipeline for the tutorial.  If this tutorial has been run previously, then this will retrieve the existing ones with the assumption they're for us with this tutorial.\n",
    "\n",
    "We'll set the retrieved workspace as the current workspace in the SDK, so all commands will default to that workspace."
   ]
  },
  {
   "cell_type": "code",
   "execution_count": 69,
   "id": "59aa845d",
   "metadata": {},
   "outputs": [],
   "source": [
    "workspace = get_workspace(workspace_name)\n",
    "wl.set_current_workspace(workspace)\n",
    "\n",
    "pipeline = get_pipeline(pipeline_name)"
   ]
  },
  {
   "attachments": {},
   "cell_type": "markdown",
   "id": "8a9fc274",
   "metadata": {},
   "source": [
    "### Upload the Model and Deploy Pipeline\n",
    "\n",
    "We'll upload our model into our sample workspace, then add it as a pipeline step before deploying the pipeline to it's ready to accept inference requests."
   ]
  },
  {
   "cell_type": "code",
   "execution_count": 70,
   "id": "f6a69610",
   "metadata": {},
   "outputs": [
    {
     "data": {
      "text/html": [
       "<table><tr><th>name</th> <td>orchestrationpipelinemrhh</td></tr><tr><th>created</th> <td>2023-05-19 20:50:05.233902+00:00</td></tr><tr><th>last_updated</th> <td>2023-05-19 20:50:05.233902+00:00</td></tr><tr><th>deployed</th> <td>(none)</td></tr><tr><th>tags</th> <td></td></tr><tr><th>versions</th> <td>1382876a-eeb4-4f50-817b-5bf0604f21d4</td></tr><tr><th>steps</th> <td></td></tr></table>"
      ],
      "text/plain": [
       "{'name': 'orchestrationpipelinemrhh', 'create_time': datetime.datetime(2023, 5, 19, 20, 50, 5, 233902, tzinfo=tzutc()), 'definition': \"[{'ModelInference': {'models': [{'name': 'orchestrationmodelmrhh', 'version': '88ebad5a-c5f6-4e41-be53-3ff912f703eb', 'sha': 'e22a0831aafd9917f3cc87a15ed267797f80e2afa12ad7d8810ca58f173b8cc6'}]}}]\"}"
      ]
     },
     "execution_count": 70,
     "metadata": {},
     "output_type": "execute_result"
    }
   ],
   "source": [
    "# Upload the model\n",
    "\n",
    "housing_model_control = wl.upload_model(model_name, model_file_name).configure()\n",
    "\n",
    "# Add the model as a pipeline step\n",
    "\n",
    "pipeline.add_model_step(housing_model_control)"
   ]
  },
  {
   "cell_type": "code",
   "execution_count": 71,
   "id": "a484796e",
   "metadata": {},
   "outputs": [
    {
     "data": {
      "text/html": [
       "<table><tr><th>name</th> <td>orchestrationpipelinemrhh</td></tr><tr><th>created</th> <td>2023-05-19 20:50:05.233902+00:00</td></tr><tr><th>last_updated</th> <td>2023-05-19 20:50:08.177531+00:00</td></tr><tr><th>deployed</th> <td>True</td></tr><tr><th>tags</th> <td></td></tr><tr><th>versions</th> <td>9a5c2d59-48da-40ff-b7ae-9f3a529b9aaf, 1382876a-eeb4-4f50-817b-5bf0604f21d4</td></tr><tr><th>steps</th> <td>orchestrationmodelmrhh</td></tr></table>"
      ],
      "text/plain": [
       "{'name': 'orchestrationpipelinemrhh', 'create_time': datetime.datetime(2023, 5, 19, 20, 50, 5, 233902, tzinfo=tzutc()), 'definition': \"[{'ModelInference': {'models': [{'name': 'orchestrationmodelmrhh', 'version': '88ebad5a-c5f6-4e41-be53-3ff912f703eb', 'sha': 'e22a0831aafd9917f3cc87a15ed267797f80e2afa12ad7d8810ca58f173b8cc6'}]}}]\"}"
      ]
     },
     "execution_count": 71,
     "metadata": {},
     "output_type": "execute_result"
    }
   ],
   "source": [
    "#deploy the pipeline\n",
    "pipeline.deploy()"
   ]
  },
  {
   "attachments": {},
   "cell_type": "markdown",
   "id": "573bc347",
   "metadata": {},
   "source": [
    "### Sample Inferences\n",
    "\n",
    "We'll perform some quick sample inferences using an Apache Arrow table as the input.  Once that's finished, we'll undeploy the pipeline and return the resources back to the Wallaroo instance."
   ]
  },
  {
   "cell_type": "code",
   "execution_count": 72,
   "id": "f5a9e266",
   "metadata": {},
   "outputs": [
    {
     "data": {
      "text/html": [
       "<div>\n",
       "<style scoped>\n",
       "    .dataframe tbody tr th:only-of-type {\n",
       "        vertical-align: middle;\n",
       "    }\n",
       "\n",
       "    .dataframe tbody tr th {\n",
       "        vertical-align: top;\n",
       "    }\n",
       "\n",
       "    .dataframe thead th {\n",
       "        text-align: right;\n",
       "    }\n",
       "</style>\n",
       "<table border=\"1\" class=\"dataframe\">\n",
       "  <thead>\n",
       "    <tr style=\"text-align: right;\">\n",
       "      <th></th>\n",
       "      <th>time</th>\n",
       "      <th>in.tensor</th>\n",
       "      <th>out.variable</th>\n",
       "      <th>check_failures</th>\n",
       "    </tr>\n",
       "  </thead>\n",
       "  <tbody>\n",
       "    <tr>\n",
       "      <th>0</th>\n",
       "      <td>2023-05-19 20:50:24.194</td>\n",
       "      <td>[4.0, 2.5, 2900.0, 5505.0, 2.0, 0.0, 0.0, 3.0, 8.0, 2900.0, 0.0, 47.6063, -122.02, 2970.0, 5251.0, 12.0, 0.0, 0.0]</td>\n",
       "      <td>[718013.75]</td>\n",
       "      <td>0</td>\n",
       "    </tr>\n",
       "    <tr>\n",
       "      <th>1</th>\n",
       "      <td>2023-05-19 20:50:24.194</td>\n",
       "      <td>[2.0, 2.5, 2170.0, 6361.0, 1.0, 0.0, 2.0, 3.0, 8.0, 2170.0, 0.0, 47.7109, -122.017, 2310.0, 7419.0, 6.0, 0.0, 0.0]</td>\n",
       "      <td>[615094.56]</td>\n",
       "      <td>0</td>\n",
       "    </tr>\n",
       "    <tr>\n",
       "      <th>2</th>\n",
       "      <td>2023-05-19 20:50:24.194</td>\n",
       "      <td>[3.0, 2.5, 1300.0, 812.0, 2.0, 0.0, 0.0, 3.0, 8.0, 880.0, 420.0, 47.5893, -122.317, 1300.0, 824.0, 6.0, 0.0, 0.0]</td>\n",
       "      <td>[448627.72]</td>\n",
       "      <td>0</td>\n",
       "    </tr>\n",
       "    <tr>\n",
       "      <th>3</th>\n",
       "      <td>2023-05-19 20:50:24.194</td>\n",
       "      <td>[4.0, 2.5, 2500.0, 8540.0, 2.0, 0.0, 0.0, 3.0, 9.0, 2500.0, 0.0, 47.5759, -121.994, 2560.0, 8475.0, 24.0, 0.0, 0.0]</td>\n",
       "      <td>[758714.2]</td>\n",
       "      <td>0</td>\n",
       "    </tr>\n",
       "    <tr>\n",
       "      <th>4</th>\n",
       "      <td>2023-05-19 20:50:24.194</td>\n",
       "      <td>[3.0, 1.75, 2200.0, 11520.0, 1.0, 0.0, 0.0, 4.0, 7.0, 2200.0, 0.0, 47.7659, -122.341, 1690.0, 8038.0, 62.0, 0.0, 0.0]</td>\n",
       "      <td>[513264.7]</td>\n",
       "      <td>0</td>\n",
       "    </tr>\n",
       "    <tr>\n",
       "      <th>5</th>\n",
       "      <td>2023-05-19 20:50:24.194</td>\n",
       "      <td>[3.0, 2.0, 2140.0, 4923.0, 1.0, 0.0, 0.0, 4.0, 8.0, 1070.0, 1070.0, 47.6902, -122.339, 1470.0, 4923.0, 86.0, 0.0, 0.0]</td>\n",
       "      <td>[668288.0]</td>\n",
       "      <td>0</td>\n",
       "    </tr>\n",
       "    <tr>\n",
       "      <th>6</th>\n",
       "      <td>2023-05-19 20:50:24.194</td>\n",
       "      <td>[4.0, 3.5, 3590.0, 5334.0, 2.0, 0.0, 2.0, 3.0, 9.0, 3140.0, 450.0, 47.6763, -122.267, 2100.0, 6250.0, 9.0, 0.0, 0.0]</td>\n",
       "      <td>[1004846.5]</td>\n",
       "      <td>0</td>\n",
       "    </tr>\n",
       "    <tr>\n",
       "      <th>7</th>\n",
       "      <td>2023-05-19 20:50:24.194</td>\n",
       "      <td>[3.0, 2.0, 1280.0, 960.0, 2.0, 0.0, 0.0, 3.0, 9.0, 1040.0, 240.0, 47.602, -122.311, 1280.0, 1173.0, 0.0, 0.0, 0.0]</td>\n",
       "      <td>[684577.2]</td>\n",
       "      <td>0</td>\n",
       "    </tr>\n",
       "    <tr>\n",
       "      <th>8</th>\n",
       "      <td>2023-05-19 20:50:24.194</td>\n",
       "      <td>[4.0, 2.5, 2820.0, 15000.0, 2.0, 0.0, 0.0, 4.0, 9.0, 2820.0, 0.0, 47.7255, -122.101, 2440.0, 15000.0, 29.0, 0.0, 0.0]</td>\n",
       "      <td>[727898.1]</td>\n",
       "      <td>0</td>\n",
       "    </tr>\n",
       "    <tr>\n",
       "      <th>9</th>\n",
       "      <td>2023-05-19 20:50:24.194</td>\n",
       "      <td>[3.0, 2.25, 1790.0, 11393.0, 1.0, 0.0, 0.0, 3.0, 8.0, 1790.0, 0.0, 47.6297, -122.099, 2290.0, 11894.0, 36.0, 0.0, 0.0]</td>\n",
       "      <td>[559631.1]</td>\n",
       "      <td>0</td>\n",
       "    </tr>\n",
       "    <tr>\n",
       "      <th>10</th>\n",
       "      <td>2023-05-19 20:50:24.194</td>\n",
       "      <td>[3.0, 1.5, 1010.0, 7683.0, 1.5, 0.0, 0.0, 5.0, 7.0, 1010.0, 0.0, 47.72, -122.318, 1550.0, 7271.0, 61.0, 0.0, 0.0]</td>\n",
       "      <td>[340764.53]</td>\n",
       "      <td>0</td>\n",
       "    </tr>\n",
       "    <tr>\n",
       "      <th>11</th>\n",
       "      <td>2023-05-19 20:50:24.194</td>\n",
       "      <td>[3.0, 2.0, 1270.0, 1323.0, 3.0, 0.0, 0.0, 3.0, 8.0, 1270.0, 0.0, 47.6934, -122.342, 1330.0, 1323.0, 8.0, 0.0, 0.0]</td>\n",
       "      <td>[442168.06]</td>\n",
       "      <td>0</td>\n",
       "    </tr>\n",
       "    <tr>\n",
       "      <th>12</th>\n",
       "      <td>2023-05-19 20:50:24.194</td>\n",
       "      <td>[4.0, 1.75, 2070.0, 9120.0, 1.0, 0.0, 0.0, 4.0, 7.0, 1250.0, 820.0, 47.6045, -122.123, 1650.0, 8400.0, 57.0, 0.0, 0.0]</td>\n",
       "      <td>[630865.6]</td>\n",
       "      <td>0</td>\n",
       "    </tr>\n",
       "    <tr>\n",
       "      <th>13</th>\n",
       "      <td>2023-05-19 20:50:24.194</td>\n",
       "      <td>[4.0, 1.0, 1620.0, 4080.0, 1.5, 0.0, 0.0, 3.0, 7.0, 1620.0, 0.0, 47.6696, -122.324, 1760.0, 4080.0, 91.0, 0.0, 0.0]</td>\n",
       "      <td>[559631.1]</td>\n",
       "      <td>0</td>\n",
       "    </tr>\n",
       "    <tr>\n",
       "      <th>14</th>\n",
       "      <td>2023-05-19 20:50:24.194</td>\n",
       "      <td>[4.0, 3.25, 3990.0, 9786.0, 2.0, 0.0, 0.0, 3.0, 9.0, 3990.0, 0.0, 47.6784, -122.026, 3920.0, 8200.0, 10.0, 0.0, 0.0]</td>\n",
       "      <td>[909441.1]</td>\n",
       "      <td>0</td>\n",
       "    </tr>\n",
       "    <tr>\n",
       "      <th>15</th>\n",
       "      <td>2023-05-19 20:50:24.194</td>\n",
       "      <td>[4.0, 2.0, 1780.0, 19843.0, 1.0, 0.0, 0.0, 3.0, 7.0, 1780.0, 0.0, 47.4414, -122.154, 2210.0, 13500.0, 52.0, 0.0, 0.0]</td>\n",
       "      <td>[313096.0]</td>\n",
       "      <td>0</td>\n",
       "    </tr>\n",
       "    <tr>\n",
       "      <th>16</th>\n",
       "      <td>2023-05-19 20:50:24.194</td>\n",
       "      <td>[4.0, 2.5, 2130.0, 6003.0, 2.0, 0.0, 0.0, 3.0, 8.0, 2130.0, 0.0, 47.4518, -122.12, 1940.0, 4529.0, 11.0, 0.0, 0.0]</td>\n",
       "      <td>[404040.8]</td>\n",
       "      <td>0</td>\n",
       "    </tr>\n",
       "    <tr>\n",
       "      <th>17</th>\n",
       "      <td>2023-05-19 20:50:24.194</td>\n",
       "      <td>[3.0, 1.75, 1660.0, 10440.0, 1.0, 0.0, 0.0, 3.0, 7.0, 1040.0, 620.0, 47.4448, -121.77, 1240.0, 10380.0, 36.0, 0.0, 0.0]</td>\n",
       "      <td>[292859.5]</td>\n",
       "      <td>0</td>\n",
       "    </tr>\n",
       "    <tr>\n",
       "      <th>18</th>\n",
       "      <td>2023-05-19 20:50:24.194</td>\n",
       "      <td>[3.0, 2.5, 2110.0, 4118.0, 2.0, 0.0, 0.0, 3.0, 8.0, 2110.0, 0.0, 47.3878, -122.153, 2110.0, 4044.0, 25.0, 0.0, 0.0]</td>\n",
       "      <td>[338357.88]</td>\n",
       "      <td>0</td>\n",
       "    </tr>\n",
       "    <tr>\n",
       "      <th>19</th>\n",
       "      <td>2023-05-19 20:50:24.194</td>\n",
       "      <td>[4.0, 2.25, 2200.0, 11250.0, 1.5, 0.0, 0.0, 5.0, 7.0, 1300.0, 900.0, 47.6845, -122.201, 2320.0, 10814.0, 94.0, 0.0, 0.0]</td>\n",
       "      <td>[682284.6]</td>\n",
       "      <td>0</td>\n",
       "    </tr>\n",
       "  </tbody>\n",
       "</table>\n",
       "</div>"
      ],
      "text/plain": [
       "                      time  \\\n",
       "0  2023-05-19 20:50:24.194   \n",
       "1  2023-05-19 20:50:24.194   \n",
       "2  2023-05-19 20:50:24.194   \n",
       "3  2023-05-19 20:50:24.194   \n",
       "4  2023-05-19 20:50:24.194   \n",
       "5  2023-05-19 20:50:24.194   \n",
       "6  2023-05-19 20:50:24.194   \n",
       "7  2023-05-19 20:50:24.194   \n",
       "8  2023-05-19 20:50:24.194   \n",
       "9  2023-05-19 20:50:24.194   \n",
       "10 2023-05-19 20:50:24.194   \n",
       "11 2023-05-19 20:50:24.194   \n",
       "12 2023-05-19 20:50:24.194   \n",
       "13 2023-05-19 20:50:24.194   \n",
       "14 2023-05-19 20:50:24.194   \n",
       "15 2023-05-19 20:50:24.194   \n",
       "16 2023-05-19 20:50:24.194   \n",
       "17 2023-05-19 20:50:24.194   \n",
       "18 2023-05-19 20:50:24.194   \n",
       "19 2023-05-19 20:50:24.194   \n",
       "\n",
       "                                                                                                                   in.tensor  \\\n",
       "0         [4.0, 2.5, 2900.0, 5505.0, 2.0, 0.0, 0.0, 3.0, 8.0, 2900.0, 0.0, 47.6063, -122.02, 2970.0, 5251.0, 12.0, 0.0, 0.0]   \n",
       "1         [2.0, 2.5, 2170.0, 6361.0, 1.0, 0.0, 2.0, 3.0, 8.0, 2170.0, 0.0, 47.7109, -122.017, 2310.0, 7419.0, 6.0, 0.0, 0.0]   \n",
       "2          [3.0, 2.5, 1300.0, 812.0, 2.0, 0.0, 0.0, 3.0, 8.0, 880.0, 420.0, 47.5893, -122.317, 1300.0, 824.0, 6.0, 0.0, 0.0]   \n",
       "3        [4.0, 2.5, 2500.0, 8540.0, 2.0, 0.0, 0.0, 3.0, 9.0, 2500.0, 0.0, 47.5759, -121.994, 2560.0, 8475.0, 24.0, 0.0, 0.0]   \n",
       "4      [3.0, 1.75, 2200.0, 11520.0, 1.0, 0.0, 0.0, 4.0, 7.0, 2200.0, 0.0, 47.7659, -122.341, 1690.0, 8038.0, 62.0, 0.0, 0.0]   \n",
       "5     [3.0, 2.0, 2140.0, 4923.0, 1.0, 0.0, 0.0, 4.0, 8.0, 1070.0, 1070.0, 47.6902, -122.339, 1470.0, 4923.0, 86.0, 0.0, 0.0]   \n",
       "6       [4.0, 3.5, 3590.0, 5334.0, 2.0, 0.0, 2.0, 3.0, 9.0, 3140.0, 450.0, 47.6763, -122.267, 2100.0, 6250.0, 9.0, 0.0, 0.0]   \n",
       "7         [3.0, 2.0, 1280.0, 960.0, 2.0, 0.0, 0.0, 3.0, 9.0, 1040.0, 240.0, 47.602, -122.311, 1280.0, 1173.0, 0.0, 0.0, 0.0]   \n",
       "8      [4.0, 2.5, 2820.0, 15000.0, 2.0, 0.0, 0.0, 4.0, 9.0, 2820.0, 0.0, 47.7255, -122.101, 2440.0, 15000.0, 29.0, 0.0, 0.0]   \n",
       "9     [3.0, 2.25, 1790.0, 11393.0, 1.0, 0.0, 0.0, 3.0, 8.0, 1790.0, 0.0, 47.6297, -122.099, 2290.0, 11894.0, 36.0, 0.0, 0.0]   \n",
       "10         [3.0, 1.5, 1010.0, 7683.0, 1.5, 0.0, 0.0, 5.0, 7.0, 1010.0, 0.0, 47.72, -122.318, 1550.0, 7271.0, 61.0, 0.0, 0.0]   \n",
       "11        [3.0, 2.0, 1270.0, 1323.0, 3.0, 0.0, 0.0, 3.0, 8.0, 1270.0, 0.0, 47.6934, -122.342, 1330.0, 1323.0, 8.0, 0.0, 0.0]   \n",
       "12    [4.0, 1.75, 2070.0, 9120.0, 1.0, 0.0, 0.0, 4.0, 7.0, 1250.0, 820.0, 47.6045, -122.123, 1650.0, 8400.0, 57.0, 0.0, 0.0]   \n",
       "13       [4.0, 1.0, 1620.0, 4080.0, 1.5, 0.0, 0.0, 3.0, 7.0, 1620.0, 0.0, 47.6696, -122.324, 1760.0, 4080.0, 91.0, 0.0, 0.0]   \n",
       "14      [4.0, 3.25, 3990.0, 9786.0, 2.0, 0.0, 0.0, 3.0, 9.0, 3990.0, 0.0, 47.6784, -122.026, 3920.0, 8200.0, 10.0, 0.0, 0.0]   \n",
       "15     [4.0, 2.0, 1780.0, 19843.0, 1.0, 0.0, 0.0, 3.0, 7.0, 1780.0, 0.0, 47.4414, -122.154, 2210.0, 13500.0, 52.0, 0.0, 0.0]   \n",
       "16        [4.0, 2.5, 2130.0, 6003.0, 2.0, 0.0, 0.0, 3.0, 8.0, 2130.0, 0.0, 47.4518, -122.12, 1940.0, 4529.0, 11.0, 0.0, 0.0]   \n",
       "17   [3.0, 1.75, 1660.0, 10440.0, 1.0, 0.0, 0.0, 3.0, 7.0, 1040.0, 620.0, 47.4448, -121.77, 1240.0, 10380.0, 36.0, 0.0, 0.0]   \n",
       "18       [3.0, 2.5, 2110.0, 4118.0, 2.0, 0.0, 0.0, 3.0, 8.0, 2110.0, 0.0, 47.3878, -122.153, 2110.0, 4044.0, 25.0, 0.0, 0.0]   \n",
       "19  [4.0, 2.25, 2200.0, 11250.0, 1.5, 0.0, 0.0, 5.0, 7.0, 1300.0, 900.0, 47.6845, -122.201, 2320.0, 10814.0, 94.0, 0.0, 0.0]   \n",
       "\n",
       "   out.variable  check_failures  \n",
       "0   [718013.75]               0  \n",
       "1   [615094.56]               0  \n",
       "2   [448627.72]               0  \n",
       "3    [758714.2]               0  \n",
       "4    [513264.7]               0  \n",
       "5    [668288.0]               0  \n",
       "6   [1004846.5]               0  \n",
       "7    [684577.2]               0  \n",
       "8    [727898.1]               0  \n",
       "9    [559631.1]               0  \n",
       "10  [340764.53]               0  \n",
       "11  [442168.06]               0  \n",
       "12   [630865.6]               0  \n",
       "13   [559631.1]               0  \n",
       "14   [909441.1]               0  \n",
       "15   [313096.0]               0  \n",
       "16   [404040.8]               0  \n",
       "17   [292859.5]               0  \n",
       "18  [338357.88]               0  \n",
       "19   [682284.6]               0  "
      ]
     },
     "metadata": {},
     "output_type": "display_data"
    }
   ],
   "source": [
    "# sample inferences\n",
    "\n",
    "batch_inferences = pipeline.infer_from_file('./data/xtest-1k.arrow')\n",
    "\n",
    "large_inference_result =  batch_inferences.to_pandas()\n",
    "display(large_inference_result.head(20))"
   ]
  },
  {
   "attachments": {},
   "cell_type": "markdown",
   "id": "b7fc12cb",
   "metadata": {},
   "source": [
    "## Create Wallaroo Connection\n",
    "\n"
   ]
  },
  {
   "attachments": {},
   "cell_type": "markdown",
   "id": "f37027c1",
   "metadata": {},
   "source": [
    "\n",
    "Connections are created at the Wallaroo instance level, typically by a MLOps or DevOps engineer, then applied to a workspace.\n",
    "\n",
    "For this section:\n",
    "\n",
    "1. We will create a sample connection that just has a URL to the same Arrow table file we used in the previous step.\n",
    "1. We'll apply the data connection to the workspace above.\n",
    "1. For a quick demonstration, we'll use the connection to retrieve the Arrow table file and use it for a quick sample inference."
   ]
  },
  {
   "attachments": {},
   "cell_type": "markdown",
   "id": "da10ec00",
   "metadata": {},
   "source": [
    "### Create Connection\n",
    "\n",
    "Connections are created with the Wallaroo client command [`create_connection`](https://staging.docs.wallaroo.ai/wallaroo-developer-guides/wallaroo-sdk-guides/wallaroo-sdk-essentials-guide/wallaroo-sdk-essentials-dataconnectors/#create-data-connection) with the following parameters.\n",
    "\n",
    "| Parameter | Type | Description |\n",
    "| --- | --- | ---|\n",
    "| **name** | string (Required) | The name of the connection. This must be unique - if submitting the name of an existing connection it will return an error. |\n",
    "| **type** | string (Required) | The user defined type of connection. |\n",
    "| **details** | Dict (Requires) | User defined configuration details for the data connection.  These can be `{'username':'dataperson', 'password':'datapassword', 'port': 3339}`, or `{'token':'abcde123==', 'host':'example.com', 'port:1234'}`, or other user defined combinations.  |\n",
    "\n",
    "We'll create the connection named `houseprice_arrow_table`, set it to the type `HTTPFILE`, and provide the details as `'host':'https://github.com/WallarooLabs/Wallaroo_Tutorials/tree/main/wallaroo-testing-tutorials/houseprice-saga/data/xtest-1k.arrow?raw=true'` - the location for our sample Arrow table inference input."
   ]
  },
  {
   "cell_type": "code",
   "execution_count": 73,
   "id": "5c10ee71",
   "metadata": {},
   "outputs": [
    {
     "data": {
      "text/html": [
       "\n",
       "        <table>\n",
       "          <tr>\n",
       "            <th>Field</th>\n",
       "            <th>Value</th>\n",
       "          </tr>\n",
       "          <tr>\n",
       "            <td>Name</td><td>houseprice_arrow_tablemrhh</td>\n",
       "          </tr>\n",
       "          <tr>\n",
       "            <td>Connection Type</td><td>HTTPFILE</td>\n",
       "          </tr>\n",
       "          <tr>\n",
       "            <td>Details</td><td>*****</td>\n",
       "          </tr>\n",
       "          <tr>\n",
       "            <td>Created At</td><td>2023-05-19T20:50:24.878300+00:00</td>\n",
       "          </tr>\n",
       "          <tr>\n",
       "            <td>Linked Workspaces</td><td>[]</td>\n",
       "          </tr>\n",
       "        </table>\n",
       "        "
      ],
      "text/plain": [
       "<wallaroo.connection.Connection at 0x15fe81970>"
      ]
     },
     "execution_count": 73,
     "metadata": {},
     "output_type": "execute_result"
    }
   ],
   "source": [
    "wl.create_connection(connection_name, \n",
    "                  \"HTTPFILE\", \n",
    "                  {'host':'https://github.com/WallarooLabs/Wallaroo_Tutorials/tree/main/wallaroo-testing-tutorials/houseprice-saga/data/xtest-1k.arrow?raw=true'}\n",
    "                  )"
   ]
  },
  {
   "attachments": {},
   "cell_type": "markdown",
   "id": "fc3baa09",
   "metadata": {},
   "source": [
    "### List Data Connections\n",
    "\n",
    "The Wallaroo Client [`list_connections()`](https://staging.docs.wallaroo.ai/wallaroo-developer-guides/wallaroo-sdk-guides/wallaroo-sdk-essentials-guide/wallaroo-sdk-essentials-dataconnectors/#list-data-connections) method lists all connections for the Wallaroo instance.\n"
   ]
  },
  {
   "cell_type": "code",
   "execution_count": 74,
   "id": "6cc80cd3",
   "metadata": {},
   "outputs": [
    {
     "data": {
      "text/html": [
       "<table><tr><th>name</th><th>connection type</th><th>details</th><th>created at</th><th>linked workspaces</th></tr><tr><td>houseprice_arrow_tablemrhh</td><td>HTTPFILE</td><td>*****</td><td>2023-05-19T20:50:24.878300+00:00</td><td>[]</td></tr></table>"
      ],
      "text/plain": [
       "[<wallaroo.connection.Connection at 0x16c166be0>]"
      ]
     },
     "execution_count": 74,
     "metadata": {},
     "output_type": "execute_result"
    }
   ],
   "source": [
    "wl.list_connections()"
   ]
  },
  {
   "attachments": {},
   "cell_type": "markdown",
   "id": "884d3171",
   "metadata": {},
   "source": [
    "### Add Connection to Workspace\n",
    "\n",
    "The method Workspace [`add_connection(connection_name)`](https://staging.docs.wallaroo.ai/wallaroo-developer-guides/wallaroo-sdk-guides/wallaroo-sdk-essentials-guide/wallaroo-sdk-essentials-dataconnectors/#add-data-connection-to-workspace) adds a Data Connection to a workspace, and takes the following parameters.\n",
    "\n",
    "| Parameter | Type | Description |\n",
    "| --- | --- | ---|\n",
    "| **name** | string (Required) | The name of the Data Connection |\n",
    "\n",
    "We'll add this connection to our sample workspace."
   ]
  },
  {
   "cell_type": "code",
   "execution_count": 75,
   "id": "6d674d81",
   "metadata": {},
   "outputs": [],
   "source": [
    "workspace.add_connection(connection_name)"
   ]
  },
  {
   "attachments": {},
   "cell_type": "markdown",
   "id": "5994ccee",
   "metadata": {},
   "source": [
    "### List Connections in a Workspace\n",
    "\n",
    "The method Workspace `list_connections()` displays a list of connections attached to the workspace.  By default the `details` field is obfuscated.  We'll list the connections in our sample workspace, then use that to retrieve our specific connection."
   ]
  },
  {
   "cell_type": "code",
   "execution_count": 76,
   "id": "782825b0",
   "metadata": {},
   "outputs": [
    {
     "data": {
      "text/html": [
       "<table><tr><th>name</th><th>connection type</th><th>details</th><th>created at</th><th>linked workspaces</th></tr><tr><td>houseprice_arrow_tablemrhh</td><td>HTTPFILE</td><td>*****</td><td>2023-05-19T20:50:24.878300+00:00</td><td>['orchestrationworkspacemrhh']</td></tr></table>"
      ],
      "text/plain": [
       "[<wallaroo.connection.Connection at 0x17f5466a0>]"
      ]
     },
     "execution_count": 76,
     "metadata": {},
     "output_type": "execute_result"
    }
   ],
   "source": [
    "workspace.list_connections()"
   ]
  },
  {
   "attachments": {},
   "cell_type": "markdown",
   "id": "ea8eea26",
   "metadata": {},
   "source": [
    "### Get Connection\n",
    "\n",
    "Connections are retrieved by the Wallaroo Client `get_connection(name)` method."
   ]
  },
  {
   "cell_type": "code",
   "execution_count": 77,
   "id": "1a56ad0a",
   "metadata": {},
   "outputs": [],
   "source": [
    "connection = wl.get_connection(connection_name)"
   ]
  },
  {
   "attachments": {},
   "cell_type": "markdown",
   "id": "f2eeac50",
   "metadata": {},
   "source": [
    "### Connection Details\n",
    "\n",
    "The Connection method `details()` retrieves a the connection `details()` as a `dict`."
   ]
  },
  {
   "cell_type": "code",
   "execution_count": 78,
   "id": "bf30876c",
   "metadata": {},
   "outputs": [
    {
     "data": {
      "text/plain": [
       "{'host': 'https://github.com/WallarooLabs/Wallaroo_Tutorials/blob/20230314_2023.2_updates/wallaroo-testing-tutorials/houseprice-saga/data/xtest-1k.arrow?raw=true'}"
      ]
     },
     "metadata": {},
     "output_type": "display_data"
    }
   ],
   "source": [
    "display(connection.details())"
   ]
  },
  {
   "attachments": {},
   "cell_type": "markdown",
   "id": "b8d44dc7",
   "metadata": {},
   "source": [
    "### Using a Connection Example\n",
    "\n",
    "For this example, the connection will be used to retrieve the Apache Arrow file referenced in the connection, and use that to turn it into an Apache Arrow table, then use that for a sample inference."
   ]
  },
  {
   "cell_type": "code",
   "execution_count": 79,
   "id": "8031e8e3",
   "metadata": {},
   "outputs": [
    {
     "data": {
      "text/html": [
       "<div>\n",
       "<style scoped>\n",
       "    .dataframe tbody tr th:only-of-type {\n",
       "        vertical-align: middle;\n",
       "    }\n",
       "\n",
       "    .dataframe tbody tr th {\n",
       "        vertical-align: top;\n",
       "    }\n",
       "\n",
       "    .dataframe thead th {\n",
       "        text-align: right;\n",
       "    }\n",
       "</style>\n",
       "<table border=\"1\" class=\"dataframe\">\n",
       "  <thead>\n",
       "    <tr style=\"text-align: right;\">\n",
       "      <th></th>\n",
       "      <th>time</th>\n",
       "      <th>in.tensor</th>\n",
       "      <th>out.variable</th>\n",
       "      <th>check_failures</th>\n",
       "    </tr>\n",
       "  </thead>\n",
       "  <tbody>\n",
       "    <tr>\n",
       "      <th>0</th>\n",
       "      <td>2023-05-19 20:50:30.348</td>\n",
       "      <td>[4.0, 2.5, 2900.0, 5505.0, 2.0, 0.0, 0.0, 3.0, 8.0, 2900.0, 0.0, 47.6063, -122.02, 2970.0, 5251.0, 12.0, 0.0, 0.0]</td>\n",
       "      <td>[718013.75]</td>\n",
       "      <td>0</td>\n",
       "    </tr>\n",
       "    <tr>\n",
       "      <th>1</th>\n",
       "      <td>2023-05-19 20:50:30.348</td>\n",
       "      <td>[2.0, 2.5, 2170.0, 6361.0, 1.0, 0.0, 2.0, 3.0, 8.0, 2170.0, 0.0, 47.7109, -122.017, 2310.0, 7419.0, 6.0, 0.0, 0.0]</td>\n",
       "      <td>[615094.56]</td>\n",
       "      <td>0</td>\n",
       "    </tr>\n",
       "    <tr>\n",
       "      <th>2</th>\n",
       "      <td>2023-05-19 20:50:30.348</td>\n",
       "      <td>[3.0, 2.5, 1300.0, 812.0, 2.0, 0.0, 0.0, 3.0, 8.0, 880.0, 420.0, 47.5893, -122.317, 1300.0, 824.0, 6.0, 0.0, 0.0]</td>\n",
       "      <td>[448627.72]</td>\n",
       "      <td>0</td>\n",
       "    </tr>\n",
       "    <tr>\n",
       "      <th>3</th>\n",
       "      <td>2023-05-19 20:50:30.348</td>\n",
       "      <td>[4.0, 2.5, 2500.0, 8540.0, 2.0, 0.0, 0.0, 3.0, 9.0, 2500.0, 0.0, 47.5759, -121.994, 2560.0, 8475.0, 24.0, 0.0, 0.0]</td>\n",
       "      <td>[758714.2]</td>\n",
       "      <td>0</td>\n",
       "    </tr>\n",
       "    <tr>\n",
       "      <th>4</th>\n",
       "      <td>2023-05-19 20:50:30.348</td>\n",
       "      <td>[3.0, 1.75, 2200.0, 11520.0, 1.0, 0.0, 0.0, 4.0, 7.0, 2200.0, 0.0, 47.7659, -122.341, 1690.0, 8038.0, 62.0, 0.0, 0.0]</td>\n",
       "      <td>[513264.7]</td>\n",
       "      <td>0</td>\n",
       "    </tr>\n",
       "    <tr>\n",
       "      <th>5</th>\n",
       "      <td>2023-05-19 20:50:30.348</td>\n",
       "      <td>[3.0, 2.0, 2140.0, 4923.0, 1.0, 0.0, 0.0, 4.0, 8.0, 1070.0, 1070.0, 47.6902, -122.339, 1470.0, 4923.0, 86.0, 0.0, 0.0]</td>\n",
       "      <td>[668288.0]</td>\n",
       "      <td>0</td>\n",
       "    </tr>\n",
       "    <tr>\n",
       "      <th>6</th>\n",
       "      <td>2023-05-19 20:50:30.348</td>\n",
       "      <td>[4.0, 3.5, 3590.0, 5334.0, 2.0, 0.0, 2.0, 3.0, 9.0, 3140.0, 450.0, 47.6763, -122.267, 2100.0, 6250.0, 9.0, 0.0, 0.0]</td>\n",
       "      <td>[1004846.5]</td>\n",
       "      <td>0</td>\n",
       "    </tr>\n",
       "    <tr>\n",
       "      <th>7</th>\n",
       "      <td>2023-05-19 20:50:30.348</td>\n",
       "      <td>[3.0, 2.0, 1280.0, 960.0, 2.0, 0.0, 0.0, 3.0, 9.0, 1040.0, 240.0, 47.602, -122.311, 1280.0, 1173.0, 0.0, 0.0, 0.0]</td>\n",
       "      <td>[684577.2]</td>\n",
       "      <td>0</td>\n",
       "    </tr>\n",
       "    <tr>\n",
       "      <th>8</th>\n",
       "      <td>2023-05-19 20:50:30.348</td>\n",
       "      <td>[4.0, 2.5, 2820.0, 15000.0, 2.0, 0.0, 0.0, 4.0, 9.0, 2820.0, 0.0, 47.7255, -122.101, 2440.0, 15000.0, 29.0, 0.0, 0.0]</td>\n",
       "      <td>[727898.1]</td>\n",
       "      <td>0</td>\n",
       "    </tr>\n",
       "    <tr>\n",
       "      <th>9</th>\n",
       "      <td>2023-05-19 20:50:30.348</td>\n",
       "      <td>[3.0, 2.25, 1790.0, 11393.0, 1.0, 0.0, 0.0, 3.0, 8.0, 1790.0, 0.0, 47.6297, -122.099, 2290.0, 11894.0, 36.0, 0.0, 0.0]</td>\n",
       "      <td>[559631.1]</td>\n",
       "      <td>0</td>\n",
       "    </tr>\n",
       "    <tr>\n",
       "      <th>10</th>\n",
       "      <td>2023-05-19 20:50:30.348</td>\n",
       "      <td>[3.0, 1.5, 1010.0, 7683.0, 1.5, 0.0, 0.0, 5.0, 7.0, 1010.0, 0.0, 47.72, -122.318, 1550.0, 7271.0, 61.0, 0.0, 0.0]</td>\n",
       "      <td>[340764.53]</td>\n",
       "      <td>0</td>\n",
       "    </tr>\n",
       "    <tr>\n",
       "      <th>11</th>\n",
       "      <td>2023-05-19 20:50:30.348</td>\n",
       "      <td>[3.0, 2.0, 1270.0, 1323.0, 3.0, 0.0, 0.0, 3.0, 8.0, 1270.0, 0.0, 47.6934, -122.342, 1330.0, 1323.0, 8.0, 0.0, 0.0]</td>\n",
       "      <td>[442168.06]</td>\n",
       "      <td>0</td>\n",
       "    </tr>\n",
       "    <tr>\n",
       "      <th>12</th>\n",
       "      <td>2023-05-19 20:50:30.348</td>\n",
       "      <td>[4.0, 1.75, 2070.0, 9120.0, 1.0, 0.0, 0.0, 4.0, 7.0, 1250.0, 820.0, 47.6045, -122.123, 1650.0, 8400.0, 57.0, 0.0, 0.0]</td>\n",
       "      <td>[630865.6]</td>\n",
       "      <td>0</td>\n",
       "    </tr>\n",
       "    <tr>\n",
       "      <th>13</th>\n",
       "      <td>2023-05-19 20:50:30.348</td>\n",
       "      <td>[4.0, 1.0, 1620.0, 4080.0, 1.5, 0.0, 0.0, 3.0, 7.0, 1620.0, 0.0, 47.6696, -122.324, 1760.0, 4080.0, 91.0, 0.0, 0.0]</td>\n",
       "      <td>[559631.1]</td>\n",
       "      <td>0</td>\n",
       "    </tr>\n",
       "    <tr>\n",
       "      <th>14</th>\n",
       "      <td>2023-05-19 20:50:30.348</td>\n",
       "      <td>[4.0, 3.25, 3990.0, 9786.0, 2.0, 0.0, 0.0, 3.0, 9.0, 3990.0, 0.0, 47.6784, -122.026, 3920.0, 8200.0, 10.0, 0.0, 0.0]</td>\n",
       "      <td>[909441.1]</td>\n",
       "      <td>0</td>\n",
       "    </tr>\n",
       "    <tr>\n",
       "      <th>15</th>\n",
       "      <td>2023-05-19 20:50:30.348</td>\n",
       "      <td>[4.0, 2.0, 1780.0, 19843.0, 1.0, 0.0, 0.0, 3.0, 7.0, 1780.0, 0.0, 47.4414, -122.154, 2210.0, 13500.0, 52.0, 0.0, 0.0]</td>\n",
       "      <td>[313096.0]</td>\n",
       "      <td>0</td>\n",
       "    </tr>\n",
       "    <tr>\n",
       "      <th>16</th>\n",
       "      <td>2023-05-19 20:50:30.348</td>\n",
       "      <td>[4.0, 2.5, 2130.0, 6003.0, 2.0, 0.0, 0.0, 3.0, 8.0, 2130.0, 0.0, 47.4518, -122.12, 1940.0, 4529.0, 11.0, 0.0, 0.0]</td>\n",
       "      <td>[404040.8]</td>\n",
       "      <td>0</td>\n",
       "    </tr>\n",
       "    <tr>\n",
       "      <th>17</th>\n",
       "      <td>2023-05-19 20:50:30.348</td>\n",
       "      <td>[3.0, 1.75, 1660.0, 10440.0, 1.0, 0.0, 0.0, 3.0, 7.0, 1040.0, 620.0, 47.4448, -121.77, 1240.0, 10380.0, 36.0, 0.0, 0.0]</td>\n",
       "      <td>[292859.5]</td>\n",
       "      <td>0</td>\n",
       "    </tr>\n",
       "    <tr>\n",
       "      <th>18</th>\n",
       "      <td>2023-05-19 20:50:30.348</td>\n",
       "      <td>[3.0, 2.5, 2110.0, 4118.0, 2.0, 0.0, 0.0, 3.0, 8.0, 2110.0, 0.0, 47.3878, -122.153, 2110.0, 4044.0, 25.0, 0.0, 0.0]</td>\n",
       "      <td>[338357.88]</td>\n",
       "      <td>0</td>\n",
       "    </tr>\n",
       "    <tr>\n",
       "      <th>19</th>\n",
       "      <td>2023-05-19 20:50:30.348</td>\n",
       "      <td>[4.0, 2.25, 2200.0, 11250.0, 1.5, 0.0, 0.0, 5.0, 7.0, 1300.0, 900.0, 47.6845, -122.201, 2320.0, 10814.0, 94.0, 0.0, 0.0]</td>\n",
       "      <td>[682284.6]</td>\n",
       "      <td>0</td>\n",
       "    </tr>\n",
       "  </tbody>\n",
       "</table>\n",
       "</div>"
      ],
      "text/plain": [
       "                      time  \\\n",
       "0  2023-05-19 20:50:30.348   \n",
       "1  2023-05-19 20:50:30.348   \n",
       "2  2023-05-19 20:50:30.348   \n",
       "3  2023-05-19 20:50:30.348   \n",
       "4  2023-05-19 20:50:30.348   \n",
       "5  2023-05-19 20:50:30.348   \n",
       "6  2023-05-19 20:50:30.348   \n",
       "7  2023-05-19 20:50:30.348   \n",
       "8  2023-05-19 20:50:30.348   \n",
       "9  2023-05-19 20:50:30.348   \n",
       "10 2023-05-19 20:50:30.348   \n",
       "11 2023-05-19 20:50:30.348   \n",
       "12 2023-05-19 20:50:30.348   \n",
       "13 2023-05-19 20:50:30.348   \n",
       "14 2023-05-19 20:50:30.348   \n",
       "15 2023-05-19 20:50:30.348   \n",
       "16 2023-05-19 20:50:30.348   \n",
       "17 2023-05-19 20:50:30.348   \n",
       "18 2023-05-19 20:50:30.348   \n",
       "19 2023-05-19 20:50:30.348   \n",
       "\n",
       "                                                                                                                   in.tensor  \\\n",
       "0         [4.0, 2.5, 2900.0, 5505.0, 2.0, 0.0, 0.0, 3.0, 8.0, 2900.0, 0.0, 47.6063, -122.02, 2970.0, 5251.0, 12.0, 0.0, 0.0]   \n",
       "1         [2.0, 2.5, 2170.0, 6361.0, 1.0, 0.0, 2.0, 3.0, 8.0, 2170.0, 0.0, 47.7109, -122.017, 2310.0, 7419.0, 6.0, 0.0, 0.0]   \n",
       "2          [3.0, 2.5, 1300.0, 812.0, 2.0, 0.0, 0.0, 3.0, 8.0, 880.0, 420.0, 47.5893, -122.317, 1300.0, 824.0, 6.0, 0.0, 0.0]   \n",
       "3        [4.0, 2.5, 2500.0, 8540.0, 2.0, 0.0, 0.0, 3.0, 9.0, 2500.0, 0.0, 47.5759, -121.994, 2560.0, 8475.0, 24.0, 0.0, 0.0]   \n",
       "4      [3.0, 1.75, 2200.0, 11520.0, 1.0, 0.0, 0.0, 4.0, 7.0, 2200.0, 0.0, 47.7659, -122.341, 1690.0, 8038.0, 62.0, 0.0, 0.0]   \n",
       "5     [3.0, 2.0, 2140.0, 4923.0, 1.0, 0.0, 0.0, 4.0, 8.0, 1070.0, 1070.0, 47.6902, -122.339, 1470.0, 4923.0, 86.0, 0.0, 0.0]   \n",
       "6       [4.0, 3.5, 3590.0, 5334.0, 2.0, 0.0, 2.0, 3.0, 9.0, 3140.0, 450.0, 47.6763, -122.267, 2100.0, 6250.0, 9.0, 0.0, 0.0]   \n",
       "7         [3.0, 2.0, 1280.0, 960.0, 2.0, 0.0, 0.0, 3.0, 9.0, 1040.0, 240.0, 47.602, -122.311, 1280.0, 1173.0, 0.0, 0.0, 0.0]   \n",
       "8      [4.0, 2.5, 2820.0, 15000.0, 2.0, 0.0, 0.0, 4.0, 9.0, 2820.0, 0.0, 47.7255, -122.101, 2440.0, 15000.0, 29.0, 0.0, 0.0]   \n",
       "9     [3.0, 2.25, 1790.0, 11393.0, 1.0, 0.0, 0.0, 3.0, 8.0, 1790.0, 0.0, 47.6297, -122.099, 2290.0, 11894.0, 36.0, 0.0, 0.0]   \n",
       "10         [3.0, 1.5, 1010.0, 7683.0, 1.5, 0.0, 0.0, 5.0, 7.0, 1010.0, 0.0, 47.72, -122.318, 1550.0, 7271.0, 61.0, 0.0, 0.0]   \n",
       "11        [3.0, 2.0, 1270.0, 1323.0, 3.0, 0.0, 0.0, 3.0, 8.0, 1270.0, 0.0, 47.6934, -122.342, 1330.0, 1323.0, 8.0, 0.0, 0.0]   \n",
       "12    [4.0, 1.75, 2070.0, 9120.0, 1.0, 0.0, 0.0, 4.0, 7.0, 1250.0, 820.0, 47.6045, -122.123, 1650.0, 8400.0, 57.0, 0.0, 0.0]   \n",
       "13       [4.0, 1.0, 1620.0, 4080.0, 1.5, 0.0, 0.0, 3.0, 7.0, 1620.0, 0.0, 47.6696, -122.324, 1760.0, 4080.0, 91.0, 0.0, 0.0]   \n",
       "14      [4.0, 3.25, 3990.0, 9786.0, 2.0, 0.0, 0.0, 3.0, 9.0, 3990.0, 0.0, 47.6784, -122.026, 3920.0, 8200.0, 10.0, 0.0, 0.0]   \n",
       "15     [4.0, 2.0, 1780.0, 19843.0, 1.0, 0.0, 0.0, 3.0, 7.0, 1780.0, 0.0, 47.4414, -122.154, 2210.0, 13500.0, 52.0, 0.0, 0.0]   \n",
       "16        [4.0, 2.5, 2130.0, 6003.0, 2.0, 0.0, 0.0, 3.0, 8.0, 2130.0, 0.0, 47.4518, -122.12, 1940.0, 4529.0, 11.0, 0.0, 0.0]   \n",
       "17   [3.0, 1.75, 1660.0, 10440.0, 1.0, 0.0, 0.0, 3.0, 7.0, 1040.0, 620.0, 47.4448, -121.77, 1240.0, 10380.0, 36.0, 0.0, 0.0]   \n",
       "18       [3.0, 2.5, 2110.0, 4118.0, 2.0, 0.0, 0.0, 3.0, 8.0, 2110.0, 0.0, 47.3878, -122.153, 2110.0, 4044.0, 25.0, 0.0, 0.0]   \n",
       "19  [4.0, 2.25, 2200.0, 11250.0, 1.5, 0.0, 0.0, 5.0, 7.0, 1300.0, 900.0, 47.6845, -122.201, 2320.0, 10814.0, 94.0, 0.0, 0.0]   \n",
       "\n",
       "   out.variable  check_failures  \n",
       "0   [718013.75]               0  \n",
       "1   [615094.56]               0  \n",
       "2   [448627.72]               0  \n",
       "3    [758714.2]               0  \n",
       "4    [513264.7]               0  \n",
       "5    [668288.0]               0  \n",
       "6   [1004846.5]               0  \n",
       "7    [684577.2]               0  \n",
       "8    [727898.1]               0  \n",
       "9    [559631.1]               0  \n",
       "10  [340764.53]               0  \n",
       "11  [442168.06]               0  \n",
       "12   [630865.6]               0  \n",
       "13   [559631.1]               0  \n",
       "14   [909441.1]               0  \n",
       "15   [313096.0]               0  \n",
       "16   [404040.8]               0  \n",
       "17   [292859.5]               0  \n",
       "18  [338357.88]               0  \n",
       "19   [682284.6]               0  "
      ]
     },
     "metadata": {},
     "output_type": "display_data"
    }
   ],
   "source": [
    "# Deploy the pipeline \n",
    "pipeline.deploy()\n",
    "\n",
    "# Retrieve the file\n",
    "# set accept as apache arrow table\n",
    "headers = {\n",
    "    'Accept': 'application/vnd.apache.arrow.file'\n",
    "}\n",
    "\n",
    "response = requests.get(\n",
    "                    connection.details()['host'], \n",
    "                    headers=headers\n",
    "                )\n",
    "\n",
    "# Arrow table is retrieved \n",
    "with pa.ipc.open_file(response.content) as reader:\n",
    "    arrow_table = reader.read_all()\n",
    "\n",
    "results = pipeline.infer(arrow_table)\n",
    "\n",
    "result_table = results.to_pandas()\n",
    "display(result_table.head(20))"
   ]
  },
  {
   "attachments": {},
   "cell_type": "markdown",
   "id": "894da865",
   "metadata": {},
   "source": [
    "### Remove Connection from Workspace\n",
    "\n",
    "The Workspace method `remove_connection(connection_name)` removes the connection from the workspace, but does not delete the connection from the Wallaroo instance.  This method takes the following parameters.\n",
    "\n",
    "| Parameter | Type | Description |\n",
    "|---|---|---|\n",
    "| **name** | String (Required) | The name of the connection to be removed \n",
    "\n",
    "The previous connection will be removed from the workspace, then the workspace connections displayed to verify it has been removed."
   ]
  },
  {
   "cell_type": "code",
   "execution_count": 80,
   "id": "5a70f461",
   "metadata": {},
   "outputs": [
    {
     "data": {
      "text/html": [
       "(no connections)"
      ],
      "text/plain": [
       "[]"
      ]
     },
     "metadata": {},
     "output_type": "display_data"
    }
   ],
   "source": [
    "workspace.remove_connection(connection_name)\n",
    "\n",
    "display(workspace.list_connections())"
   ]
  },
  {
   "attachments": {},
   "cell_type": "markdown",
   "id": "d01056b3",
   "metadata": {},
   "source": [
    "### Delete Connection\n",
    "\n",
    "The Connection method `delete_connection()` removes the connection from the Wallaroo instance, and all attachments in workspaces they were connected to."
   ]
  },
  {
   "cell_type": "code",
   "execution_count": 81,
   "id": "e993a3d9",
   "metadata": {},
   "outputs": [
    {
     "data": {
      "text/html": [
       "(no connections)"
      ],
      "text/plain": [
       "[]"
      ]
     },
     "execution_count": 81,
     "metadata": {},
     "output_type": "execute_result"
    }
   ],
   "source": [
    "connection.delete_connection()\n",
    "\n",
    "wl.list_connections()"
   ]
  },
  {
   "attachments": {},
   "cell_type": "markdown",
   "id": "4a0660b2",
   "metadata": {},
   "source": [
    "## Orchestration Tutorial\n",
    "\n",
    "The next series of examples will build on what we just did.  So far we have:\n",
    "\n",
    "* Deployed a pipeline, performed sample inferences with a local Apache Arrow file, displayed the results, then undeployed the pipeline.\n",
    "* Deployed a pipeline, use a Wallaroo connection details to retrieve a remote Apache Arrow file, performed inferences and displayed the results, then undeployed the pipeline.\n",
    "\n",
    "For the orchestration tutorial, we'll do the same thing only package it into a separate python script and upload it to the Wallaroo instance, then create a task from that orchestration and perform our sample inferences again.\n",
    "\n",
    "### Orchestration Requirements\n",
    "\n",
    "Orchestrations are uploaded to the Wallaroo instance as a ZIP file with the following requirements:\n",
    "\n",
    "* The ZIP file should not contain any directories - only files at the top level.\n",
    "\n",
    "| Parameter | Type | Description |\n",
    "|---|---|---|\n",
    "| **User Code** | (**Required**) Python script as `.py` files | Python scripts for the orchestration to run.  If the file `main.py` exists, that will be the entrypoint.  Otherwise, if only one .py exists, then that will be the entrypoint. |\n",
    "| Python Library Requirements | (**Required**) `requirements.txt` file in the [requirements file format](https://pip.pypa.io/en/stable/reference/requirements-file-format/).  This is in the root of the zip file, and there can only be one `requirements.txt` file for the orchestration. |\n",
    "| Other artifacts | &nbsp; | Other artifacts such as files, data, or code to support the orchestration.\n",
    "\n",
    "#### Zip Instructions\n",
    "\n",
    "In a terminal with the `zip` command, assemble artifacts as above and then create the archive.  The `zip` command is included by default with the Wallaroo JupyterHub service.\n",
    "\n",
    "`zip` commands take the following format, with `{zipfilename}.zip` as the zip file to save the artifacts to, and each file thereafter as the files to add to the archive.\n",
    "\n",
    "```bash\n",
    "zip {zipfilename}.zip file1, file2, file3....\n",
    "```\n",
    "\n",
    "For example, the following command will add the files `main.py` and `requirements.txt` into the file `hello.zip`.\n",
    "\n",
    "```shell\n",
    "$ zip hello.zip main.py requirements.txt \n",
    "  adding: main.py (deflated 47%)\n",
    "  adding: requirements.txt (deflated 52%)\n",
    "```\n",
    "\n",
    "### Orchestration Recommendations\n",
    "\n",
    "The following recommendations will make using Wallaroo orchestrations \n",
    "\n",
    "* The version of Python used should match the same version as in the Wallaroo JupyterHub service.\n",
    "* The same version of the [Wallaroo SDK](https://pypi.org/project/wallaroo/) should match the server.  For a 2023.2 Wallaroo instance, use the Wallaroo SDK version 2023.2.\n",
    "* Specify the version of `pip` dependencies.\n",
    "* The `wallaroo.Client` constructor `auth_type` argument is ignored.  Using `wallaroo.Client()` is sufficient.\n",
    "* The following methods will assist with orchestrations:\n",
    "  * `wallaroo.in_task()` :  Returns `True` if the code is running within an Orchestrator task.\n",
    "  * `wallaroo.task_args()`:  Returns a `Dict` of invocation-specific arguments passed to the `run_` calls.\n",
    "* Use `print` commands so outputs are saved to the task's log files.\n",
    "\n",
    "### Example requirements.txt file\n",
    "\n",
    "```python\n",
    "dbt-bigquery==1.4.3\n",
    "dbt-core==1.4.5\n",
    "dbt-extractor==0.4.1\n",
    "dbt-postgres==1.4.5\n",
    "google-api-core==2.8.2\n",
    "google-auth==2.11.0\n",
    "google-auth-oauthlib==0.4.6\n",
    "google-cloud-bigquery==3.3.2\n",
    "google-cloud-bigquery-storage==2.15.0\n",
    "google-cloud-core==2.3.2\n",
    "google-cloud-storage==2.5.0\n",
    "google-crc32c==1.5.0\n",
    "google-pasta==0.2.0\n",
    "google-resumable-media==2.3.3\n",
    "googleapis-common-protos==1.56.4\n",
    "```"
   ]
  },
  {
   "attachments": {},
   "cell_type": "markdown",
   "id": "596b2e52",
   "metadata": {},
   "source": [
    "### Sample Orchestrator\n",
    "\n",
    "The following orchestrator artifacts are in the directory `./remote_inference` and includes the file `main.py` with the following code:\n",
    "\n",
    "```python\n",
    "import wallaroo\n",
    "from wallaroo.object import EntityNotFoundError\n",
    "import pandas as pd\n",
    "import pyarrow as pa\n",
    "import requests\n",
    "\n",
    "wl = wallaroo.Client()\n",
    "\n",
    "# Setting variables for later steps\n",
    "\n",
    "# get the arguments\n",
    "arguments = wl.task_args()\n",
    "\n",
    "if \"workspace_name\" in arguments:\n",
    "    workspace_name = arguments['workspace_name']\n",
    "else:\n",
    "    workspace_name=\"orchestrationworkspace\"\n",
    "\n",
    "if \"pipeline_name\" in arguments:\n",
    "    pipeline_name = arguments['pipeline_name']\n",
    "else:\n",
    "    pipeline_name=\"orchestrationpipeline\"\n",
    "\n",
    "if \"connection_name\" in arguments:\n",
    "    connection_name = arguments['connection_name']\n",
    "else:\n",
    "    connection_name = \"houseprice_arrow_table\"\n",
    "\n",
    "\n",
    "# helper methods to retrieve workspaces and pipelines\n",
    "\n",
    "def get_workspace(name):\n",
    "    workspace = None\n",
    "    for ws in wl.list_workspaces():\n",
    "        if ws.name() == name:\n",
    "            workspace= ws\n",
    "    if(workspace == None):\n",
    "        workspace = wl.create_workspace(name)\n",
    "    return workspace\n",
    "\n",
    "def get_pipeline(name):\n",
    "    try:\n",
    "        pipeline = wl.pipelines_by_name(name)[0]\n",
    "    except EntityNotFoundError:\n",
    "        pipeline = wl.build_pipeline(name)\n",
    "    return pipeline\n",
    "\n",
    "print(f\"Getting the workspace {workspace_name}\")\n",
    "workspace = get_workspace(workspace_name)\n",
    "wl.set_current_workspace(workspace)\n",
    "\n",
    "\n",
    "print(f\"Getting the pipeline {pipeline_name}\")\n",
    "pipeline = get_pipeline(pipeline_name)\n",
    "pipeline.deploy()\n",
    "# Get the connection - assuming it will be the only one\n",
    "\n",
    "inference_source_connection = wl.get_connection(name=connection_name)\n",
    "\n",
    "print(f\"Getting arrow table file\")\n",
    "# Retrieve the file\n",
    "# set accept as apache arrow table\n",
    "headers = {\n",
    "    'Accept': 'application/vnd.apache.arrow.file'\n",
    "}\n",
    "\n",
    "response = requests.get(\n",
    "                    inference_source_connection.details()['host'], \n",
    "                    headers=headers\n",
    "                )\n",
    "\n",
    "# Arrow table is retrieved \n",
    "with pa.ipc.open_file(response.content) as reader:\n",
    "    arrow_table = reader.read_all()\n",
    "\n",
    "print(\"Inference time.  Displaying results after.\")\n",
    "# Perform the inference\n",
    "result = pipeline.infer(arrow_table)\n",
    "print(result)\n",
    "\n",
    "pipeline.undeploy()\n",
    "```\n",
    "\n",
    "This is saved to the file `./remote_inference/remote_inference.zip`."
   ]
  },
  {
   "attachments": {},
   "cell_type": "markdown",
   "id": "21d7be2b",
   "metadata": {},
   "source": [
    "### Preparing the Wallaroo Instance\n",
    "\n",
    "To prepare the Wallaroo instance, we'll once again create the Wallaroo connection `houseprice_arrow_table` and apply it to the workspace."
   ]
  },
  {
   "cell_type": "code",
   "execution_count": 82,
   "id": "c1cc5fec",
   "metadata": {},
   "outputs": [],
   "source": [
    "wl.create_connection(connection_name, \n",
    "                  \"HTTPFILE\", \n",
    "                  {'host':'https://github.com/WallarooLabs/Wallaroo_Tutorials/tree/main/wallaroo-testing-tutorials/houseprice-saga/data/xtest-1k.arrow?raw=true'}\n",
    "                  )\n",
    "\n",
    "workspace.add_connection(connection_name)"
   ]
  },
  {
   "attachments": {},
   "cell_type": "markdown",
   "id": "c54d9602",
   "metadata": {},
   "source": [
    "### Upload the Orchestration\n",
    "\n",
    "Orchestrations are uploaded with the Wallaroo client `upload_orchestration(path)` method with the following parameters.\n",
    "\n",
    "| Parameter | Type | Description |\n",
    "| --- | --- | ---|\n",
    "| **path** | string (Required) | The path to the ZIP file to be uploaded. |\n",
    "\n",
    "Once uploaded, the deployment will be prepared and any requirements will be downloaded and installed.\n",
    "\n",
    "\n",
    "For this example, the orchestration `./remote_inference/remote_inference.zip` will be uploaded and saved to the variable `orchestration`."
   ]
  },
  {
   "cell_type": "code",
   "execution_count": 83,
   "id": "c8332ee5",
   "metadata": {},
   "outputs": [],
   "source": [
    "orchestration = wl.upload_orchestration(name=\"comprehensive sample\", path=\"./remote_inference/remote_inference.zip\")"
   ]
  },
  {
   "attachments": {},
   "cell_type": "markdown",
   "id": "bffd7b14",
   "metadata": {},
   "source": [
    "### Orchestration Status\n",
    "\n",
    "The Orchestration method `status()` displays the current status of the uploaded orchestration.\n",
    "\n",
    "| Status | Description |\n",
    "|---|---|\n",
    "|---|---|\n",
    "| `pending_packaging` | The orchestration is uploaded, but packaging hasn't started yet. |\n",
    "| `packaging` | The orchestration is being packaged for use with the Wallaroo instance. |\n",
    "| `ready` | The orchestration is ready for use. |\n",
    "\n",
    "For this example, the status of the orchestration will be displayed then looped until it has reached status `ready`."
   ]
  },
  {
   "cell_type": "code",
   "execution_count": 84,
   "id": "e4eb26f8",
   "metadata": {},
   "outputs": [
    {
     "name": "stdout",
     "output_type": "stream",
     "text": [
      "pending_packaging\n",
      "pending_packaging\n",
      "packaging\n",
      "packaging\n",
      "packaging\n",
      "packaging\n",
      "packaging\n",
      "packaging\n",
      "packaging\n",
      "packaging\n"
     ]
    }
   ],
   "source": [
    "import time\n",
    "\n",
    "while orchestration.status() != 'ready':\n",
    "    print(orchestration.status())\n",
    "    time.sleep(5)"
   ]
  },
  {
   "attachments": {},
   "cell_type": "markdown",
   "id": "de1423fb",
   "metadata": {},
   "source": [
    "### List Orchestrations\n",
    "\n",
    "Orchestrations are listed with the Wallaroo Client `list_orchestrations()` which returns a list of available orchestrations."
   ]
  },
  {
   "cell_type": "code",
   "execution_count": 85,
   "id": "e53d7731",
   "metadata": {},
   "outputs": [
    {
     "data": {
      "text/html": [
       "<table><tr><th>id</th><th>name</th><th>status</th><th>filename</th><th>sha</th><th>created at</th><th>updated at</th></tr><tr><td>9534a646-254e-4d86-a577-5c40e5defeb3</td><td>comprehensive sample</td><td>ready</td><td>remote_inference.zip</td><td>b88e93...2396fb</td><td>2023-19-May 20:50:33</td><td>2023-19-May 20:51:24</td></tr></table>"
      ],
      "text/plain": [
       "[<wallaroo.orchestration.Orchestration at 0x15fff4ac0>]"
      ]
     },
     "execution_count": 85,
     "metadata": {},
     "output_type": "execute_result"
    }
   ],
   "source": [
    "wl.list_orchestrations()"
   ]
  },
  {
   "attachments": {},
   "cell_type": "markdown",
   "id": "bf028e54",
   "metadata": {},
   "source": [
    "## Task Management Tutorial\n",
    "\n",
    "Once an Orchestration has the status `ready`, it can be run as a task.  Tasks have three run options.\n",
    "\n",
    "| Type       | SDK Call |  How triggered                                                               | Purpose                                                       |\n",
    "|------------|----------|:------------------------------------------------------------------------------|:---------------------------------------------------------------|\n",
    "| Once       | `orchestration.run_once(name, json_args, timeout)` | Task runs once and exits.| Single batch, experimentation                                 |\n",
    "| Scheduled  | `orchestration.run_scheduled()` | User provides schedule. Task runs exits whenever schedule dictates. | Recurrent batch ETL.|"
   ]
  },
  {
   "attachments": {},
   "cell_type": "markdown",
   "id": "6fc05481-4378-499e-8cea-60d37150f41b",
   "metadata": {},
   "source": [
    "### Task Run Once\n",
    "\n",
    "Tasks are generated and run once with the Orchestration `run_once(name, json_args, timeout)` method.  Any arguments for the orchestration are passed in as a `Dict`.  If there are no arguments, then an empty set `{}` is passed.\n",
    "\n",
    "For our example, we will pass the workspace, pipeline, and connection into our task."
   ]
  },
  {
   "cell_type": "code",
   "execution_count": 86,
   "id": "f2b73d28-7169-41da-a434-afafde39af3d",
   "metadata": {},
   "outputs": [
    {
     "data": {
      "text/html": [
       "\n",
       "        <table>\n",
       "          <tr>\n",
       "            <th>Field</th>\n",
       "            <th>Value</th>\n",
       "          </tr>\n",
       "          <tr>\n",
       "            <td>ID</td><td>7bce29ee-70c7-4c59-b7ec-0c9941073883</td>\n",
       "          </tr>\n",
       "          <tr>\n",
       "            <td>Name</td><td>house price run once</td>\n",
       "          </tr>\n",
       "          <tr>\n",
       "            <td>Status</td><td>pending</td>\n",
       "          </tr>\n",
       "          <tr>\n",
       "            <td>Type</td><td>Temporary Run</td>\n",
       "          </tr>\n",
       "          <tr>\n",
       "            <td>Created At</td><td>2023-19-May 20:51:31</td>\n",
       "          </tr>\n",
       "          <tr>\n",
       "            <td>Updated At</td><td>2023-19-May 20:51:31</td>\n",
       "          </tr>\n",
       "        </table>\n",
       "        "
      ],
      "text/plain": [
       "<wallaroo.task.Task at 0x16c28eeb0>"
      ]
     },
     "execution_count": 86,
     "metadata": {},
     "output_type": "execute_result"
    }
   ],
   "source": [
    "# Example: run once\n",
    "\n",
    "import datetime\n",
    "task_start = datetime.datetime.now()\n",
    "\n",
    "task = orchestration.run_once(name=\"house price run once\", json_args={\"workspace_name\": workspace_name, \n",
    "                                                                           \"pipeline_name\":pipeline_name,\n",
    "                                                                           \"connection_name\": connection_name\n",
    "                                                                           }\n",
    "                            )\n",
    "task"
   ]
  },
  {
   "attachments": {},
   "cell_type": "markdown",
   "id": "0dcbc1d4",
   "metadata": {},
   "source": [
    "### Task Status\n",
    "\n",
    "The list of tasks in the Wallaroo instance is retrieves through the Wallaroo Client `list_tasks()` method.  This returns an array list of the following.\n",
    "\n",
    "| Parameter | Type | Description |\n",
    "| --- | --- | ---|\n",
    "| **id** | string | The UUID identifier for the task. |\n",
    "| **status** | enum | The status of the task.  Values are: <br><ul><li>`pending`: The task has not been started.</li><li>`started`: The task has been scheduled to execute.</li><li>`pending_kill`: The task kill command has been issued and the task is scheduled to be stopped.</li></ul> |\n",
    "| **type** | string | The type of the task.  Values are: <br><ul><li>`Temporary Run`: The task runs once then stop.</li><li>`Scheduled Run`: The task repeats on a `cron` like schedule.</li><li>`Service Run`: The task runs as a service and executes when its service port is activated. |\n",
    "| **created at** | DateTime | The date and time the task was started. |\n",
    "| **updated at** | DateTime | The date and time the task was updated. |\n",
    "\n",
    "For this example, the status of the previously created task will be generated, then looped until it has reached status `started`."
   ]
  },
  {
   "cell_type": "code",
   "execution_count": 87,
   "id": "a05a299f",
   "metadata": {},
   "outputs": [
    {
     "data": {
      "text/plain": [
       "'pending'"
      ]
     },
     "metadata": {},
     "output_type": "display_data"
    },
    {
     "data": {
      "text/plain": [
       "'pending'"
      ]
     },
     "metadata": {},
     "output_type": "display_data"
    }
   ],
   "source": [
    "while task.status() != \"started\":\n",
    "    display(task.status())\n",
    "    time.sleep(5)"
   ]
  },
  {
   "attachments": {},
   "cell_type": "markdown",
   "id": "7bd6a79a",
   "metadata": {},
   "source": [
    "### Task Results\n",
    "\n",
    "We can view the inferences from our logs and verify that new entries were added from our task.  In our case, we'll assume the task once started takes about 1 minute to run (deploy the pipeline, run the inference, undeploy the pipeline).  We'll add in a wait of 1 minute, then display the logs during the time period the task was running."
   ]
  },
  {
   "cell_type": "code",
   "execution_count": 88,
   "id": "818b5f3d",
   "metadata": {},
   "outputs": [
    {
     "data": {
      "text/plain": [
       "datetime.datetime(2023, 5, 19, 14, 52, 43, 243562)"
      ]
     },
     "metadata": {},
     "output_type": "display_data"
    },
    {
     "name": "stderr",
     "output_type": "stream",
     "text": [
      "Warning: Pipeline log size limit exceeded. Please request logs using export_logs"
     ]
    },
    {
     "data": {
      "text/html": [
       "<div>\n",
       "<style scoped>\n",
       "    .dataframe tbody tr th:only-of-type {\n",
       "        vertical-align: middle;\n",
       "    }\n",
       "\n",
       "    .dataframe tbody tr th {\n",
       "        vertical-align: top;\n",
       "    }\n",
       "\n",
       "    .dataframe thead th {\n",
       "        text-align: right;\n",
       "    }\n",
       "</style>\n",
       "<table border=\"1\" class=\"dataframe\">\n",
       "  <thead>\n",
       "    <tr style=\"text-align: right;\">\n",
       "      <th></th>\n",
       "      <th>time</th>\n",
       "      <th>in.tensor</th>\n",
       "      <th>out.variable</th>\n",
       "      <th>check_failures</th>\n",
       "    </tr>\n",
       "  </thead>\n",
       "  <tbody>\n",
       "    <tr>\n",
       "      <th>0</th>\n",
       "      <td>2023-05-19 20:51:43.045</td>\n",
       "      <td>[4.0, 2.5, 2900.0, 5505.0, 2.0, 0.0, 0.0, 3.0, 8.0, 2900.0, 0.0, 47.6063, -122.02, 2970.0, 5251.0, 12.0, 0.0, 0.0]</td>\n",
       "      <td>[718013.75]</td>\n",
       "      <td>0</td>\n",
       "    </tr>\n",
       "    <tr>\n",
       "      <th>1</th>\n",
       "      <td>2023-05-19 20:51:43.045</td>\n",
       "      <td>[2.0, 2.5, 2170.0, 6361.0, 1.0, 0.0, 2.0, 3.0, 8.0, 2170.0, 0.0, 47.7109, -122.017, 2310.0, 7419.0, 6.0, 0.0, 0.0]</td>\n",
       "      <td>[615094.56]</td>\n",
       "      <td>0</td>\n",
       "    </tr>\n",
       "    <tr>\n",
       "      <th>2</th>\n",
       "      <td>2023-05-19 20:51:43.045</td>\n",
       "      <td>[3.0, 2.5, 1300.0, 812.0, 2.0, 0.0, 0.0, 3.0, 8.0, 880.0, 420.0, 47.5893, -122.317, 1300.0, 824.0, 6.0, 0.0, 0.0]</td>\n",
       "      <td>[448627.72]</td>\n",
       "      <td>0</td>\n",
       "    </tr>\n",
       "    <tr>\n",
       "      <th>3</th>\n",
       "      <td>2023-05-19 20:51:43.045</td>\n",
       "      <td>[4.0, 2.5, 2500.0, 8540.0, 2.0, 0.0, 0.0, 3.0, 9.0, 2500.0, 0.0, 47.5759, -121.994, 2560.0, 8475.0, 24.0, 0.0, 0.0]</td>\n",
       "      <td>[758714.2]</td>\n",
       "      <td>0</td>\n",
       "    </tr>\n",
       "    <tr>\n",
       "      <th>4</th>\n",
       "      <td>2023-05-19 20:51:43.045</td>\n",
       "      <td>[3.0, 1.75, 2200.0, 11520.0, 1.0, 0.0, 0.0, 4.0, 7.0, 2200.0, 0.0, 47.7659, -122.341, 1690.0, 8038.0, 62.0, 0.0, 0.0]</td>\n",
       "      <td>[513264.7]</td>\n",
       "      <td>0</td>\n",
       "    </tr>\n",
       "    <tr>\n",
       "      <th>...</th>\n",
       "      <td>...</td>\n",
       "      <td>...</td>\n",
       "      <td>...</td>\n",
       "      <td>...</td>\n",
       "    </tr>\n",
       "    <tr>\n",
       "      <th>501</th>\n",
       "      <td>2023-05-19 20:51:43.045</td>\n",
       "      <td>[3.0, 2.5, 1570.0, 1433.0, 3.0, 0.0, 0.0, 3.0, 8.0, 1570.0, 0.0, 47.6858, -122.336, 1570.0, 2652.0, 4.0, 0.0, 0.0]</td>\n",
       "      <td>[557391.25]</td>\n",
       "      <td>0</td>\n",
       "    </tr>\n",
       "    <tr>\n",
       "      <th>502</th>\n",
       "      <td>2023-05-19 20:51:43.045</td>\n",
       "      <td>[3.0, 2.5, 2390.0, 15669.0, 2.0, 0.0, 0.0, 3.0, 9.0, 2390.0, 0.0, 47.7446, -122.193, 2640.0, 12500.0, 24.0, 0.0, 0.0]</td>\n",
       "      <td>[741973.6]</td>\n",
       "      <td>0</td>\n",
       "    </tr>\n",
       "    <tr>\n",
       "      <th>503</th>\n",
       "      <td>2023-05-19 20:51:43.045</td>\n",
       "      <td>[3.0, 0.75, 920.0, 20412.0, 1.0, 1.0, 2.0, 5.0, 6.0, 920.0, 0.0, 47.4781, -122.49, 1162.0, 54705.0, 64.0, 0.0, 0.0]</td>\n",
       "      <td>[338418.8]</td>\n",
       "      <td>0</td>\n",
       "    </tr>\n",
       "    <tr>\n",
       "      <th>504</th>\n",
       "      <td>2023-05-19 20:51:43.045</td>\n",
       "      <td>[4.0, 2.5, 2800.0, 246114.0, 2.0, 0.0, 0.0, 3.0, 9.0, 2800.0, 0.0, 47.6586, -121.962, 2750.0, 60351.0, 15.0, 0.0, 0.0]</td>\n",
       "      <td>[765468.75]</td>\n",
       "      <td>0</td>\n",
       "    </tr>\n",
       "    <tr>\n",
       "      <th>505</th>\n",
       "      <td>2023-05-19 20:51:43.045</td>\n",
       "      <td>[2.0, 1.0, 1120.0, 9912.0, 1.0, 0.0, 0.0, 4.0, 6.0, 1120.0, 0.0, 47.3735, -122.43, 1540.0, 9750.0, 34.0, 0.0, 0.0]</td>\n",
       "      <td>[309800.75]</td>\n",
       "      <td>0</td>\n",
       "    </tr>\n",
       "  </tbody>\n",
       "</table>\n",
       "<p>506 rows × 4 columns</p>\n",
       "</div>"
      ],
      "text/plain": [
       "                       time  \\\n",
       "0   2023-05-19 20:51:43.045   \n",
       "1   2023-05-19 20:51:43.045   \n",
       "2   2023-05-19 20:51:43.045   \n",
       "3   2023-05-19 20:51:43.045   \n",
       "4   2023-05-19 20:51:43.045   \n",
       "..                      ...   \n",
       "501 2023-05-19 20:51:43.045   \n",
       "502 2023-05-19 20:51:43.045   \n",
       "503 2023-05-19 20:51:43.045   \n",
       "504 2023-05-19 20:51:43.045   \n",
       "505 2023-05-19 20:51:43.045   \n",
       "\n",
       "                                                                                                                  in.tensor  \\\n",
       "0        [4.0, 2.5, 2900.0, 5505.0, 2.0, 0.0, 0.0, 3.0, 8.0, 2900.0, 0.0, 47.6063, -122.02, 2970.0, 5251.0, 12.0, 0.0, 0.0]   \n",
       "1        [2.0, 2.5, 2170.0, 6361.0, 1.0, 0.0, 2.0, 3.0, 8.0, 2170.0, 0.0, 47.7109, -122.017, 2310.0, 7419.0, 6.0, 0.0, 0.0]   \n",
       "2         [3.0, 2.5, 1300.0, 812.0, 2.0, 0.0, 0.0, 3.0, 8.0, 880.0, 420.0, 47.5893, -122.317, 1300.0, 824.0, 6.0, 0.0, 0.0]   \n",
       "3       [4.0, 2.5, 2500.0, 8540.0, 2.0, 0.0, 0.0, 3.0, 9.0, 2500.0, 0.0, 47.5759, -121.994, 2560.0, 8475.0, 24.0, 0.0, 0.0]   \n",
       "4     [3.0, 1.75, 2200.0, 11520.0, 1.0, 0.0, 0.0, 4.0, 7.0, 2200.0, 0.0, 47.7659, -122.341, 1690.0, 8038.0, 62.0, 0.0, 0.0]   \n",
       "..                                                                                                                      ...   \n",
       "501      [3.0, 2.5, 1570.0, 1433.0, 3.0, 0.0, 0.0, 3.0, 8.0, 1570.0, 0.0, 47.6858, -122.336, 1570.0, 2652.0, 4.0, 0.0, 0.0]   \n",
       "502   [3.0, 2.5, 2390.0, 15669.0, 2.0, 0.0, 0.0, 3.0, 9.0, 2390.0, 0.0, 47.7446, -122.193, 2640.0, 12500.0, 24.0, 0.0, 0.0]   \n",
       "503     [3.0, 0.75, 920.0, 20412.0, 1.0, 1.0, 2.0, 5.0, 6.0, 920.0, 0.0, 47.4781, -122.49, 1162.0, 54705.0, 64.0, 0.0, 0.0]   \n",
       "504  [4.0, 2.5, 2800.0, 246114.0, 2.0, 0.0, 0.0, 3.0, 9.0, 2800.0, 0.0, 47.6586, -121.962, 2750.0, 60351.0, 15.0, 0.0, 0.0]   \n",
       "505      [2.0, 1.0, 1120.0, 9912.0, 1.0, 0.0, 0.0, 4.0, 6.0, 1120.0, 0.0, 47.3735, -122.43, 1540.0, 9750.0, 34.0, 0.0, 0.0]   \n",
       "\n",
       "    out.variable  check_failures  \n",
       "0    [718013.75]               0  \n",
       "1    [615094.56]               0  \n",
       "2    [448627.72]               0  \n",
       "3     [758714.2]               0  \n",
       "4     [513264.7]               0  \n",
       "..           ...             ...  \n",
       "501  [557391.25]               0  \n",
       "502   [741973.6]               0  \n",
       "503   [338418.8]               0  \n",
       "504  [765468.75]               0  \n",
       "505  [309800.75]               0  \n",
       "\n",
       "[506 rows x 4 columns]"
      ]
     },
     "execution_count": 88,
     "metadata": {},
     "output_type": "execute_result"
    }
   ],
   "source": [
    "time.sleep(60)\n",
    "\n",
    "task_end = datetime.datetime.now()\n",
    "display(task_end)\n",
    "\n",
    "pipeline.logs(start_datetime = task_start, end_datetime = task_end)"
   ]
  },
  {
   "attachments": {},
   "cell_type": "markdown",
   "id": "2296f5fc",
   "metadata": {},
   "source": [
    "### Scheduled Tasks\n",
    "\n",
    "Scheduled tasks are run with the Orchestration `run_scheduled` method.  We'll set it up to run every 5 minutes, then check the results.\n",
    "\n",
    "It is recommended that orchestrations that have pipeline deploy or undeploy commands be spaced out no less than 5 minutes to prevent colliding with other tasks that use the same pipeline."
   ]
  },
  {
   "cell_type": "code",
   "execution_count": 89,
   "id": "1f521203",
   "metadata": {},
   "outputs": [
    {
     "data": {
      "text/html": [
       "\n",
       "        <table>\n",
       "          <tr>\n",
       "            <th>Field</th>\n",
       "            <th>Value</th>\n",
       "          </tr>\n",
       "          <tr>\n",
       "            <td>ID</td><td>487fe7c0-c818-4156-b238-71da4aa9da87</td>\n",
       "          </tr>\n",
       "          <tr>\n",
       "            <td>Name</td><td>schedule example</td>\n",
       "          </tr>\n",
       "          <tr>\n",
       "            <td>Status</td><td>started</td>\n",
       "          </tr>\n",
       "          <tr>\n",
       "            <td>Type</td><td>Scheduled Run</td>\n",
       "          </tr>\n",
       "          <tr>\n",
       "            <td>Created At</td><td>2023-19-May 20:52:44</td>\n",
       "          </tr>\n",
       "          <tr>\n",
       "            <td>Updated At</td><td>2023-19-May 20:52:45</td>\n",
       "          </tr>\n",
       "        </table>\n",
       "        "
      ],
      "text/plain": [
       "<wallaroo.task.Task at 0x17f5c46a0>"
      ]
     },
     "execution_count": 89,
     "metadata": {},
     "output_type": "execute_result"
    }
   ],
   "source": [
    "task_start = datetime.datetime.now()\n",
    "schedule = \"*/5 * * * *\"\n",
    "task_scheduled = orchestration.run_scheduled(name=\"schedule example\", \n",
    "                                             timeout=600, \n",
    "                                             schedule=schedule, \n",
    "                                             json_args={\"workspace_name\": workspace_name, \n",
    "                                                        \"pipeline_name\": pipeline_name,\n",
    "                                                        \"connection_name\": connection_name\n",
    "                                            })\n",
    "while task_scheduled.status() != \"started\":\n",
    "    display(task_scheduled.status())\n",
    "    time.sleep(5)\n",
    "task_scheduled"
   ]
  },
  {
   "cell_type": "code",
   "execution_count": 90,
   "id": "0c05718d",
   "metadata": {},
   "outputs": [
    {
     "data": {
      "text/plain": [
       "datetime.datetime(2023, 5, 19, 14, 59, 45, 925180)"
      ]
     },
     "metadata": {},
     "output_type": "display_data"
    },
    {
     "name": "stderr",
     "output_type": "stream",
     "text": [
      "Warning: Pipeline log size limit exceeded. Please request logs using export_logs"
     ]
    },
    {
     "data": {
      "text/html": [
       "<div>\n",
       "<style scoped>\n",
       "    .dataframe tbody tr th:only-of-type {\n",
       "        vertical-align: middle;\n",
       "    }\n",
       "\n",
       "    .dataframe tbody tr th {\n",
       "        vertical-align: top;\n",
       "    }\n",
       "\n",
       "    .dataframe thead th {\n",
       "        text-align: right;\n",
       "    }\n",
       "</style>\n",
       "<table border=\"1\" class=\"dataframe\">\n",
       "  <thead>\n",
       "    <tr style=\"text-align: right;\">\n",
       "      <th></th>\n",
       "      <th>time</th>\n",
       "      <th>in.tensor</th>\n",
       "      <th>out.variable</th>\n",
       "      <th>check_failures</th>\n",
       "    </tr>\n",
       "  </thead>\n",
       "  <tbody>\n",
       "    <tr>\n",
       "      <th>0</th>\n",
       "      <td>2023-05-19 20:55:19.922</td>\n",
       "      <td>[4.0, 2.5, 2900.0, 5505.0, 2.0, 0.0, 0.0, 3.0, 8.0, 2900.0, 0.0, 47.6063, -122.02, 2970.0, 5251.0, 12.0, 0.0, 0.0]</td>\n",
       "      <td>[718013.75]</td>\n",
       "      <td>0</td>\n",
       "    </tr>\n",
       "    <tr>\n",
       "      <th>1</th>\n",
       "      <td>2023-05-19 20:55:19.922</td>\n",
       "      <td>[2.0, 2.5, 2170.0, 6361.0, 1.0, 0.0, 2.0, 3.0, 8.0, 2170.0, 0.0, 47.7109, -122.017, 2310.0, 7419.0, 6.0, 0.0, 0.0]</td>\n",
       "      <td>[615094.56]</td>\n",
       "      <td>0</td>\n",
       "    </tr>\n",
       "    <tr>\n",
       "      <th>2</th>\n",
       "      <td>2023-05-19 20:55:19.922</td>\n",
       "      <td>[3.0, 2.5, 1300.0, 812.0, 2.0, 0.0, 0.0, 3.0, 8.0, 880.0, 420.0, 47.5893, -122.317, 1300.0, 824.0, 6.0, 0.0, 0.0]</td>\n",
       "      <td>[448627.72]</td>\n",
       "      <td>0</td>\n",
       "    </tr>\n",
       "    <tr>\n",
       "      <th>3</th>\n",
       "      <td>2023-05-19 20:55:19.922</td>\n",
       "      <td>[4.0, 2.5, 2500.0, 8540.0, 2.0, 0.0, 0.0, 3.0, 9.0, 2500.0, 0.0, 47.5759, -121.994, 2560.0, 8475.0, 24.0, 0.0, 0.0]</td>\n",
       "      <td>[758714.2]</td>\n",
       "      <td>0</td>\n",
       "    </tr>\n",
       "    <tr>\n",
       "      <th>4</th>\n",
       "      <td>2023-05-19 20:55:19.922</td>\n",
       "      <td>[3.0, 1.75, 2200.0, 11520.0, 1.0, 0.0, 0.0, 4.0, 7.0, 2200.0, 0.0, 47.7659, -122.341, 1690.0, 8038.0, 62.0, 0.0, 0.0]</td>\n",
       "      <td>[513264.7]</td>\n",
       "      <td>0</td>\n",
       "    </tr>\n",
       "    <tr>\n",
       "      <th>...</th>\n",
       "      <td>...</td>\n",
       "      <td>...</td>\n",
       "      <td>...</td>\n",
       "      <td>...</td>\n",
       "    </tr>\n",
       "    <tr>\n",
       "      <th>501</th>\n",
       "      <td>2023-05-19 20:55:19.922</td>\n",
       "      <td>[3.0, 2.5, 1570.0, 1433.0, 3.0, 0.0, 0.0, 3.0, 8.0, 1570.0, 0.0, 47.6858, -122.336, 1570.0, 2652.0, 4.0, 0.0, 0.0]</td>\n",
       "      <td>[557391.25]</td>\n",
       "      <td>0</td>\n",
       "    </tr>\n",
       "    <tr>\n",
       "      <th>502</th>\n",
       "      <td>2023-05-19 20:55:19.922</td>\n",
       "      <td>[3.0, 2.5, 2390.0, 15669.0, 2.0, 0.0, 0.0, 3.0, 9.0, 2390.0, 0.0, 47.7446, -122.193, 2640.0, 12500.0, 24.0, 0.0, 0.0]</td>\n",
       "      <td>[741973.6]</td>\n",
       "      <td>0</td>\n",
       "    </tr>\n",
       "    <tr>\n",
       "      <th>503</th>\n",
       "      <td>2023-05-19 20:55:19.922</td>\n",
       "      <td>[3.0, 0.75, 920.0, 20412.0, 1.0, 1.0, 2.0, 5.0, 6.0, 920.0, 0.0, 47.4781, -122.49, 1162.0, 54705.0, 64.0, 0.0, 0.0]</td>\n",
       "      <td>[338418.8]</td>\n",
       "      <td>0</td>\n",
       "    </tr>\n",
       "    <tr>\n",
       "      <th>504</th>\n",
       "      <td>2023-05-19 20:55:19.922</td>\n",
       "      <td>[4.0, 2.5, 2800.0, 246114.0, 2.0, 0.0, 0.0, 3.0, 9.0, 2800.0, 0.0, 47.6586, -121.962, 2750.0, 60351.0, 15.0, 0.0, 0.0]</td>\n",
       "      <td>[765468.75]</td>\n",
       "      <td>0</td>\n",
       "    </tr>\n",
       "    <tr>\n",
       "      <th>505</th>\n",
       "      <td>2023-05-19 20:55:19.922</td>\n",
       "      <td>[2.0, 1.0, 1120.0, 9912.0, 1.0, 0.0, 0.0, 4.0, 6.0, 1120.0, 0.0, 47.3735, -122.43, 1540.0, 9750.0, 34.0, 0.0, 0.0]</td>\n",
       "      <td>[309800.75]</td>\n",
       "      <td>0</td>\n",
       "    </tr>\n",
       "  </tbody>\n",
       "</table>\n",
       "<p>506 rows × 4 columns</p>\n",
       "</div>"
      ],
      "text/plain": [
       "                       time  \\\n",
       "0   2023-05-19 20:55:19.922   \n",
       "1   2023-05-19 20:55:19.922   \n",
       "2   2023-05-19 20:55:19.922   \n",
       "3   2023-05-19 20:55:19.922   \n",
       "4   2023-05-19 20:55:19.922   \n",
       "..                      ...   \n",
       "501 2023-05-19 20:55:19.922   \n",
       "502 2023-05-19 20:55:19.922   \n",
       "503 2023-05-19 20:55:19.922   \n",
       "504 2023-05-19 20:55:19.922   \n",
       "505 2023-05-19 20:55:19.922   \n",
       "\n",
       "                                                                                                                  in.tensor  \\\n",
       "0        [4.0, 2.5, 2900.0, 5505.0, 2.0, 0.0, 0.0, 3.0, 8.0, 2900.0, 0.0, 47.6063, -122.02, 2970.0, 5251.0, 12.0, 0.0, 0.0]   \n",
       "1        [2.0, 2.5, 2170.0, 6361.0, 1.0, 0.0, 2.0, 3.0, 8.0, 2170.0, 0.0, 47.7109, -122.017, 2310.0, 7419.0, 6.0, 0.0, 0.0]   \n",
       "2         [3.0, 2.5, 1300.0, 812.0, 2.0, 0.0, 0.0, 3.0, 8.0, 880.0, 420.0, 47.5893, -122.317, 1300.0, 824.0, 6.0, 0.0, 0.0]   \n",
       "3       [4.0, 2.5, 2500.0, 8540.0, 2.0, 0.0, 0.0, 3.0, 9.0, 2500.0, 0.0, 47.5759, -121.994, 2560.0, 8475.0, 24.0, 0.0, 0.0]   \n",
       "4     [3.0, 1.75, 2200.0, 11520.0, 1.0, 0.0, 0.0, 4.0, 7.0, 2200.0, 0.0, 47.7659, -122.341, 1690.0, 8038.0, 62.0, 0.0, 0.0]   \n",
       "..                                                                                                                      ...   \n",
       "501      [3.0, 2.5, 1570.0, 1433.0, 3.0, 0.0, 0.0, 3.0, 8.0, 1570.0, 0.0, 47.6858, -122.336, 1570.0, 2652.0, 4.0, 0.0, 0.0]   \n",
       "502   [3.0, 2.5, 2390.0, 15669.0, 2.0, 0.0, 0.0, 3.0, 9.0, 2390.0, 0.0, 47.7446, -122.193, 2640.0, 12500.0, 24.0, 0.0, 0.0]   \n",
       "503     [3.0, 0.75, 920.0, 20412.0, 1.0, 1.0, 2.0, 5.0, 6.0, 920.0, 0.0, 47.4781, -122.49, 1162.0, 54705.0, 64.0, 0.0, 0.0]   \n",
       "504  [4.0, 2.5, 2800.0, 246114.0, 2.0, 0.0, 0.0, 3.0, 9.0, 2800.0, 0.0, 47.6586, -121.962, 2750.0, 60351.0, 15.0, 0.0, 0.0]   \n",
       "505      [2.0, 1.0, 1120.0, 9912.0, 1.0, 0.0, 0.0, 4.0, 6.0, 1120.0, 0.0, 47.3735, -122.43, 1540.0, 9750.0, 34.0, 0.0, 0.0]   \n",
       "\n",
       "    out.variable  check_failures  \n",
       "0    [718013.75]               0  \n",
       "1    [615094.56]               0  \n",
       "2    [448627.72]               0  \n",
       "3     [758714.2]               0  \n",
       "4     [513264.7]               0  \n",
       "..           ...             ...  \n",
       "501  [557391.25]               0  \n",
       "502   [741973.6]               0  \n",
       "503   [338418.8]               0  \n",
       "504  [765468.75]               0  \n",
       "505  [309800.75]               0  \n",
       "\n",
       "[506 rows x 4 columns]"
      ]
     },
     "execution_count": 90,
     "metadata": {},
     "output_type": "execute_result"
    }
   ],
   "source": [
    "time.sleep(420)\n",
    "\n",
    "task_end = datetime.datetime.now()\n",
    "display(task_end)\n",
    "\n",
    "pipeline.logs(start_datetime = task_start, end_datetime = task_end)"
   ]
  },
  {
   "attachments": {},
   "cell_type": "markdown",
   "id": "417d4d85",
   "metadata": {},
   "source": [
    "### Kill a Task\n",
    "\n",
    "Killing a task removes the schedule or removes it from a service.  Tasks are killed with the Task `kill()` method, and returns a message with the status of the kill procedure.\n",
    "\n",
    "If necessary, all tasks can be killed through the following script.\n",
    "\n",
    "* **IMPORTANT NOTE**:  This command will kill all running tasks - scheduled or otherwise.  Only use this if required.\n",
    "\n",
    "```python\n",
    "# Kill all tasks\n",
    "for t in wl.list_tasks(): t.kill()\n",
    "```"
   ]
  },
  {
   "cell_type": "code",
   "execution_count": 91,
   "id": "a489a6bc-da89-4a86-8d38-1eeb5bb2237c",
   "metadata": {},
   "outputs": [
    {
     "data": {
      "text/plain": [
       "<ArbexStatus.PENDING_KILL: 'pending_kill'>"
      ]
     },
     "execution_count": 91,
     "metadata": {},
     "output_type": "execute_result"
    }
   ],
   "source": [
    "task_scheduled.kill()"
   ]
  },
  {
   "attachments": {},
   "cell_type": "markdown",
   "id": "1d780833",
   "metadata": {},
   "source": [
    "## Cleaning Up\n",
    "\n",
    "With the tutorial complete we will undeploy the pipeline and ensure the resources are returned back to the Wallaroo instance."
   ]
  },
  {
   "cell_type": "code",
   "execution_count": 92,
   "id": "aaa5cb60",
   "metadata": {},
   "outputs": [
    {
     "data": {
      "text/html": [
       "<table><tr><th>name</th> <td>orchestrationpipelinemrhh</td></tr><tr><th>created</th> <td>2023-05-19 20:50:05.233902+00:00</td></tr><tr><th>last_updated</th> <td>2023-05-19 20:50:27.486572+00:00</td></tr><tr><th>deployed</th> <td>False</td></tr><tr><th>tags</th> <td></td></tr><tr><th>versions</th> <td>b72281d7-e501-4d45-8a79-4c724b639c2f, 9a5c2d59-48da-40ff-b7ae-9f3a529b9aaf, 1382876a-eeb4-4f50-817b-5bf0604f21d4</td></tr><tr><th>steps</th> <td>orchestrationmodelmrhh</td></tr></table>"
      ],
      "text/plain": [
       "{'name': 'orchestrationpipelinemrhh', 'create_time': datetime.datetime(2023, 5, 19, 20, 50, 5, 233902, tzinfo=tzutc()), 'definition': \"[{'ModelInference': {'models': [{'name': 'orchestrationmodelmrhh', 'version': '88ebad5a-c5f6-4e41-be53-3ff912f703eb', 'sha': 'e22a0831aafd9917f3cc87a15ed267797f80e2afa12ad7d8810ca58f173b8cc6'}]}}]\"}"
      ]
     },
     "execution_count": 92,
     "metadata": {},
     "output_type": "execute_result"
    }
   ],
   "source": [
    "pipeline.undeploy()"
   ]
  }
 ],
 "metadata": {
  "kernelspec": {
   "display_name": "Python 3 (ipykernel)",
   "language": "python",
   "name": "python3"
  },
  "language_info": {
   "codemirror_mode": {
    "name": "ipython",
    "version": 3
   },
   "file_extension": ".py",
   "mimetype": "text/x-python",
   "name": "python",
   "nbconvert_exporter": "python",
   "pygments_lexer": "ipython3",
   "version": "3.9.16"
  }
 },
 "nbformat": 4,
 "nbformat_minor": 5
}
