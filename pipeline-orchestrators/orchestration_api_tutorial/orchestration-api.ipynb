{
 "cells": [
  {
   "cell_type": "code",
   "execution_count": 1,
   "id": "48eb6e9e-25bb-4f96-8e1c-a2a4455d0ee2",
   "metadata": {},
   "outputs": [],
   "source": [
    "import requests\n",
    "import os\n",
    "import wallaroo\n",
    "import time\n",
    "\n",
    "if os.getenv(\"DEBUG\"):\n",
    "    import logging\n",
    "    import http.client as http_client\n",
    "\n",
    "    http_client.HTTPConnection.debuglevel = 1\n",
    "\n",
    "## Call the API directly, no SDK. We'll use the WL constructor to just obtain auth and url.\n",
    "\n",
    "os.environ[\"WALLAROO_SDK_CREDENTIALS\"] = \"creds.json\"\n",
    "\n",
    "wl = wallaroo.Client(auth_type=\"user_password\")\n",
    "ws = wl.get_current_workspace()\n",
    "wsid = wl.get_current_workspace().id()\n",
    "data = {\"workspace_id\": wsid}\n",
    "headers = {\n",
    "    \"Authorization\": wl.auth._bearer_token_str(),\n",
    "    \"Content-Type\": \"application/json\"\n",
    "}"
   ]
  },
  {
   "cell_type": "markdown",
   "id": "6f819b73-551a-4491-b234-4af61a8dab47",
   "metadata": {},
   "source": [
    "## API "
   ]
  },
  {
   "cell_type": "code",
   "execution_count": null,
   "id": "1b50b6b9-7c79-4ca8-b684-59abcc4f5b22",
   "metadata": {},
   "outputs": [],
   "source": [
    "# Pipeline Orchestration\n",
    "\n",
    "url = f\"{wl.api_endpoint}/v1/api/orchestration/upload\"\n",
    "\n",
    "fp = open(\"hello.zip\", \"rb\")\n",
    "resp = requests.post(\n",
    "    url,\n",
    "    headers={\n",
    "    \"Authorization\": wl.auth._bearer_token_str(), },\n",
    "    files=[(\"file\", (\"hello2.zip\", fp, \"application/octet-stream\")), \n",
    "         (\"metadata\", (\"metadata\", '{\"workspace_id\": 1}', \"application/json\"))],\n",
    ")\n",
    "\n",
    "assert resp.status_code == 202\n",
    "(resp.status_code, resp.text)"
   ]
  },
  {
   "cell_type": "code",
   "execution_count": null,
   "id": "d04e84ec-3911-40f1-8248-bec180b525a3",
   "metadata": {},
   "outputs": [],
   "source": [
    "url=f\"{wl.api_endpoint}/v1/api/orchestration/list\"\n",
    "resp=requests.post(url, headers=headers, json={'workspace_id':wsid})\n",
    "assert resp.status_code == 200\n",
    "assert resp.text == '[]'"
   ]
  },
  {
   "cell_type": "code",
   "execution_count": null,
   "id": "4e8969e6-7716-4ccc-b9cc-9654ba94a83d",
   "metadata": {},
   "outputs": [],
   "source": [
    "url=f\"{wl.api_endpoint}/v1/api/orchestration/list\"\n",
    "resp=requests.post(url, headers=headers)\n",
    "#assert resp.status_code == 422"
   ]
  },
  {
   "cell_type": "code",
   "execution_count": null,
   "id": "0dde79b3-3801-41bc-be23-626ccbcfa52f",
   "metadata": {},
   "outputs": [],
   "source": [
    "resp.text"
   ]
  },
  {
   "cell_type": "code",
   "execution_count": null,
   "id": "fa134725-b12e-4804-b980-ee0c3625c777",
   "metadata": {},
   "outputs": [],
   "source": [
    "data = {\"workspace_id\": wsid, \"orch_id\": orchid, \"json\": {\"aa\":\"bb\"}}\n",
    "url=f\"{wl.api_endpoint}/v1/api/orchestration/task/run_once\"\n",
    "resp=requests.post(url, headers=headers, json=data)\n",
    "resp.json()"
   ]
  }
 ],
 "metadata": {
  "kernelspec": {
   "display_name": "Python 3 (ipykernel)",
   "language": "python",
   "name": "python3"
  },
  "language_info": {
   "codemirror_mode": {
    "name": "ipython",
    "version": 3
   },
   "file_extension": ".py",
   "mimetype": "text/x-python",
   "name": "python",
   "nbconvert_exporter": "python",
   "pygments_lexer": "ipython3",
   "version": "3.9.13"
  }
 },
 "nbformat": 4,
 "nbformat_minor": 5
}
