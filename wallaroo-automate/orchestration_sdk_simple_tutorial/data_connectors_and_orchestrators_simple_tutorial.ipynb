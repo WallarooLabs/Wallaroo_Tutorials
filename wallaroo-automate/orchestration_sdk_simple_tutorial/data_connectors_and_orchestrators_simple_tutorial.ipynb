{
 "cells": [
  {
   "cell_type": "markdown",
   "id": "54d6daff",
   "metadata": {},
   "source": [
    "This can be downloaded as part of the [Wallaroo Tutorials repository](https://github.com/WallarooLabs/Wallaroo_Tutorials/blob/wallaroo2024.2_tutorials/wallaroo-automate/orchestration_sdk_simple_tutorial).\n",
    "\n",
    "## Wallaroo Connection and ML Workload Orchestration Simple Tutorial\n",
    "\n",
    "This tutorial provides a quick set of methods and examples regarding Wallaroo Connections and Wallaroo ML Workload Orchestration.  For full details, see the Wallaroo Documentation site.\n",
    "\n",
    "Wallaroo provides Data Connections and ML Workload Orchestrations to provide organizations with a method of creating and managing automated tasks that can either be run on demand or a regular schedule.\n",
    "\n",
    "## Definitions\n",
    "\n",
    "* **Orchestration**: A set of instructions written as a python script with a requirements library.  Orchestrations are uploaded to the Wallaroo instance as a .zip file.\n",
    "* **Task**: An implementation of an orchestration.  Tasks are run either once when requested, on a repeating schedule, or as a service.\n",
    "* **Connection**: Definitions set by MLOps engineers that are used by other Wallaroo users for connection information to a data source.  Usually paired with orchestrations.\n",
    "\n",
    "## Tutorial Goals\n",
    "\n",
    "The tutorial will demonstrate the following:\n",
    "\n",
    "1. Create a Wallaroo connection to retrieving information from an external source.\n",
    "1. Upload Wallaroo ML Workload Orchestration.\n",
    "1. Run the orchestration once as a Run Once Task and verify that the information was saved the pipeline logs.\n",
    "1. Schedule the orchestration as a Scheduled Task and verify that the information was saved to the pipeline logs."
   ]
  },
  {
   "cell_type": "markdown",
   "id": "67e1bb26",
   "metadata": {},
   "source": [
    "## Prerequisites\n",
    "\n",
    "* An installed Wallaroo instance.\n",
    "* The following Python libraries installed.  These are included by default in a Wallaroo instance's JupyterHub service.\n",
    "  * `os`\n",
    "  * [`wallaroo`](https://pypi.org/project/wallaroo/): The Wallaroo SDK. Included with the Wallaroo JupyterHub service by default.\n",
    "  * [`pandas`](https://pypi.org/project/pandas/): Pandas, mainly used for Pandas DataFrame\n",
    "  * [`pyarrow`](https://pypi.org/project/pyarrow/): PyArrow for Apache Arrow support"
   ]
  },
  {
   "cell_type": "markdown",
   "id": "a2b09330-0408-45eb-b321-b48b65041789",
   "metadata": {},
   "source": [
    "## Initial Steps\n",
    "\n",
    "For this tutorial, we'll create a workspace, upload our sample model and deploy a pipeline.  We'll perform some quick sample inferences to verify that everything it working.\n",
    "\n",
    "### Load Libraries\n",
    "\n",
    "Here we'll import the various libraries we'll use for the tutorial."
   ]
  },
  {
   "cell_type": "code",
   "execution_count": 1,
   "id": "43ee5f42",
   "metadata": {},
   "outputs": [],
   "source": [
    "import wallaroo\n",
    "from wallaroo.object import EntityNotFoundError, RequiredAttributeMissing\n",
    "\n",
    "# to display dataframe tables\n",
    "from IPython.display import display\n",
    "# used to display dataframe information without truncating\n",
    "import pandas as pd\n",
    "pd.set_option('display.max_colwidth', None)\n",
    "import pyarrow as pa\n",
    "\n",
    "import time"
   ]
  },
  {
   "cell_type": "markdown",
   "id": "ae645fd0",
   "metadata": {},
   "source": [
    "### Connect to the Wallaroo Instance\n",
    "\n",
    "The first step is to connect to Wallaroo through the Wallaroo client.  The Python library is included in the Wallaroo install and available through the Jupyter Hub interface provided with your Wallaroo environment.\n",
    "\n",
    "This is accomplished using the `wallaroo.Client()` command, which provides a URL to grant the SDK permission to your specific Wallaroo environment.  When displayed, enter the URL into a browser and confirm permissions.  Store the connection into a variable that can be referenced later.\n",
    "\n",
    "If logging into the Wallaroo instance through the internal JupyterHub service, use `wl = wallaroo.Client()`.  For more information on Wallaroo Client settings, see the [Client Connection guide](https://docs.wallaroo.ai/wallaroo-developer-guides/wallaroo-sdk-guides/wallaroo-sdk-essentials-guide/wallaroo-sdk-essentials-client/)."
   ]
  },
  {
   "cell_type": "code",
   "execution_count": 2,
   "id": "e9d19a6e",
   "metadata": {},
   "outputs": [],
   "source": [
    "# Login through local Wallaroo instance\n",
    "\n",
    "wl = wallaroo.Client()"
   ]
  },
  {
   "cell_type": "code",
   "execution_count": 65,
   "id": "06a981ef",
   "metadata": {},
   "outputs": [],
   "source": [
    "# Setting variables for later steps\n",
    "\n",
    "workspace_name = f'simpleorchestrationworkspace2'\n",
    "pipeline_name = f'simpleorchestrationpipeline'\n",
    "model_name = f'simpleorchestrationmodel'\n",
    "model_file_name = './models/rf_model.onnx'\n",
    "\n",
    "inference_connection_name = f'external_inference_connection_sample_2'\n",
    "inference_connection_type = \"HTTP\"\n",
    "inference_connection_argument = {'host':'https://github.com/WallarooLabs/Wallaroo_Tutorials/raw/main/wallaroo-automate/orchestration_sdk_simple_tutorial/data/xtest-1k.arrow'}"
   ]
  },
  {
   "cell_type": "markdown",
   "id": "98b78cf9",
   "metadata": {},
   "source": [
    "### Create the Workspace and Pipeline\n",
    "\n",
    "We'll now create our workspace and pipeline for the tutorial.  If this tutorial has been run previously, then this will retrieve the existing ones with the assumption they're for us with this tutorial.\n",
    "\n",
    "We'll set the retrieved workspace as the current workspace in the SDK, so all commands will default to that workspace."
   ]
  },
  {
   "cell_type": "code",
   "execution_count": 66,
   "id": "59aa845d",
   "metadata": {},
   "outputs": [],
   "source": [
    "workspace = wl.get_workspace(name=workspace_name, create_if_not_exist=True)\n",
    "wl.set_current_workspace(workspace)\n",
    "\n",
    "pipeline = wl.build_pipeline(pipeline_name)"
   ]
  },
  {
   "cell_type": "markdown",
   "id": "8a9fc274",
   "metadata": {},
   "source": [
    "### Upload the Model and Deploy Pipeline\n",
    "\n",
    "We'll upload our model into our sample workspace, then add it as a pipeline step before deploying the pipeline to it's ready to accept inference requests."
   ]
  },
  {
   "cell_type": "code",
   "execution_count": 67,
   "id": "f6a69610",
   "metadata": {},
   "outputs": [
    {
     "data": {
      "text/html": [
       "<table><tr><th>name</th> <td>simpleorchestrationpipeline</td></tr><tr><th>created</th> <td>2024-07-16 19:26:39.121263+00:00</td></tr><tr><th>last_updated</th> <td>2024-07-16 19:26:39.121263+00:00</td></tr><tr><th>deployed</th> <td>(none)</td></tr><tr><th>workspace_id</th> <td>30</td></tr><tr><th>workspace_name</th> <td>simpleorchestrationworkspace2</td></tr><tr><th>arch</th> <td>None</td></tr><tr><th>accel</th> <td>None</td></tr><tr><th>tags</th> <td></td></tr><tr><th>versions</th> <td>8ff2e9bc-c2e4-4cb1-8e3a-e0733544a76d</td></tr><tr><th>steps</th> <td></td></tr><tr><th>published</th> <td>False</td></tr></table>"
      ],
      "text/plain": [
       "{'name': 'simpleorchestrationpipeline', 'create_time': datetime.datetime(2024, 7, 16, 19, 26, 39, 121263, tzinfo=tzutc()), 'definition': \"[{'ModelInference': {'models': [{'name': 'simpleorchestrationmodel', 'version': '20bc3b06-2b30-4b96-95dc-abd816ca4d0d', 'sha': 'e22a0831aafd9917f3cc87a15ed267797f80e2afa12ad7d8810ca58f173b8cc6'}]}}]\"}"
      ]
     },
     "execution_count": 67,
     "metadata": {},
     "output_type": "execute_result"
    }
   ],
   "source": [
    "# Upload the model\n",
    "\n",
    "housing_model_control = (wl.upload_model(model_name, \n",
    "                                         model_file_name, \n",
    "                                         framework=wallaroo.framework.Framework.ONNX)\n",
    "                                         .configure(tensor_fields=[\"tensor\"])\n",
    "                        )\n",
    "\n",
    "# Add the model as a pipeline step\n",
    "\n",
    "pipeline.add_model_step(housing_model_control)"
   ]
  },
  {
   "cell_type": "code",
   "execution_count": 70,
   "id": "a484796e",
   "metadata": {},
   "outputs": [
    {
     "name": "stdout",
     "output_type": "stream",
     "text": [
      "Waiting for deployment - this will take up to 45s ................ ok\n"
     ]
    },
    {
     "data": {
      "text/html": [
       "<table><tr><th>name</th> <td>simpleorchestrationpipeline</td></tr><tr><th>created</th> <td>2024-07-16 19:26:39.121263+00:00</td></tr><tr><th>last_updated</th> <td>2024-07-16 19:29:21.586912+00:00</td></tr><tr><th>deployed</th> <td>True</td></tr><tr><th>workspace_id</th> <td>30</td></tr><tr><th>workspace_name</th> <td>simpleorchestrationworkspace2</td></tr><tr><th>arch</th> <td>x86</td></tr><tr><th>accel</th> <td>none</td></tr><tr><th>tags</th> <td></td></tr><tr><th>versions</th> <td>13df2432-20e2-4b3f-bc9a-cee6cb95ec30, 7dbc9c22-7389-4749-bb39-9030c8a2f001, 8ff2e9bc-c2e4-4cb1-8e3a-e0733544a76d</td></tr><tr><th>steps</th> <td>simpleorchestrationmodel</td></tr><tr><th>published</th> <td>False</td></tr></table>"
      ],
      "text/plain": [
       "{'name': 'simpleorchestrationpipeline', 'create_time': datetime.datetime(2024, 7, 16, 19, 26, 39, 121263, tzinfo=tzutc()), 'definition': \"[{'ModelInference': {'models': [{'name': 'simpleorchestrationmodel', 'version': '20bc3b06-2b30-4b96-95dc-abd816ca4d0d', 'sha': 'e22a0831aafd9917f3cc87a15ed267797f80e2afa12ad7d8810ca58f173b8cc6'}]}}]\"}"
      ]
     },
     "execution_count": 70,
     "metadata": {},
     "output_type": "execute_result"
    }
   ],
   "source": [
    "#deploy the pipeline\n",
    "pipeline.deploy()"
   ]
  },
  {
   "cell_type": "markdown",
   "id": "573bc347",
   "metadata": {},
   "source": [
    "## Create Connections\n",
    "\n",
    "We will create the data source connection via the Wallaroo client command `create_connection`.\n",
    "\n",
    "Connections are created with the Wallaroo client command [`create_connection`](https://docs.wallaroo.ai/wallaroo-developer-guides/wallaroo-sdk-guides/wallaroo-sdk-essentials-guide/wallaroo-sdk-essentials-ml-workload-orchestration/#create-orchestration) with the following parameters.\n",
    "\n",
    "| Parameter | Type | Description |\n",
    "| --- | --- | ---|\n",
    "| **name** | string (Required) | The name of the connection. This must be unique - **if submitting the name of an existing** connection it will return an error. |\n",
    "| **type** | string (Required) | The user defined type of connection. |\n",
    "| **details** | Dict (Required) | User defined configuration details for the data connection.  These can be `{'username':'dataperson', 'password':'datapassword', 'port': 3339}`, or `{'token':'abcde123==', 'host':'example.com', 'port:1234'}`, or other user defined combinations.  |\n",
    "\n",
    "* **IMPORTANT NOTE**:  Data connections names **must** be unique.  Attempting to create a data connection with the same `name` as an existing data connection will result in an error.\n",
    "\n",
    "We'll also create a data connection named `inference_results_connection` with our helper function `get_connection` that will either create **or** retrieve a connection if it already exists.  From there we'll create out connections:  \n",
    "\n",
    "* `houseprice_arrow_table`: An Apache Arrow file stored on GitHub that will be used for our inference input."
   ]
  },
  {
   "cell_type": "code",
   "execution_count": null,
   "id": "5c10ee71",
   "metadata": {},
   "outputs": [],
   "source": [
    "wl.create_connection(inference_connection_name, inference_connection_type, inference_connection_argument)"
   ]
  },
  {
   "cell_type": "markdown",
   "id": "6caf6e64",
   "metadata": {},
   "source": [
    "### Get Connection by Name\n",
    "\n",
    "The Wallaroo client method `get_connection(name)` retrieves the connection that matches the `name` parameter.  We'll retrieve our connection and store it as `inference_source_connection`."
   ]
  },
  {
   "cell_type": "code",
   "execution_count": null,
   "id": "6cc80cd3",
   "metadata": {},
   "outputs": [],
   "source": [
    "inference_source_connection = wl.get_connection(name=inference_connection_name)\n",
    "display(inference_source_connection)"
   ]
  },
  {
   "cell_type": "markdown",
   "id": "884d3171",
   "metadata": {},
   "source": [
    "### Add Connection to Workspace\n",
    "\n",
    "The method Workspace [`add_connection(connection_name)`](https://docs.wallaroo.ai/wallaroo-developer-guides/wallaroo-sdk-guides/wallaroo-sdk-essentials-guide/wallaroo-sdk-essentials-dataconnections/#add-data-connection-to-workspace) adds a Data Connection to a workspace, and takes the following parameters.\n",
    "\n",
    "| Parameter | Type | Description |\n",
    "| --- | --- | ---|\n",
    "| **name** | string (Required) | The name of the Data Connection |\n",
    "\n",
    "We'll add both connections to our sample workspace, then list the connections available to the workspace to confirm."
   ]
  },
  {
   "cell_type": "code",
   "execution_count": null,
   "id": "6d674d81",
   "metadata": {},
   "outputs": [],
   "source": [
    "workspace.add_connection(inference_connection_name)\n",
    "workspace.list_connections()"
   ]
  },
  {
   "cell_type": "markdown",
   "id": "b8d44dc7",
   "metadata": {},
   "source": [
    "## Wallaroo ML Workload Orchestration Example\n",
    "\n",
    "With the pipeline deployed and our connections set, we will now generate our ML Workload Orchestration.  See the [Wallaroo ML Workload Orchestrations guide](https://docs.wallaroo.ai/wallaroo-developer-guides/wallaroo-sdk-guides/wallaroo-sdk-essentials-guide/wallaroo-sdk-essentials-ml-workload-orchestration/) for full details.\n",
    "\n",
    "Orchestrations are uploaded to the Wallaroo instance as a ZIP file with the following requirements:\n",
    "\n",
    "| Parameter | Type | Description |\n",
    "|---|---|---|\n",
    "| **User Code** | (*Required*) Python script as `.py` files | If `main.py` exists, then that will be used as the task entrypoint. Otherwise, the **first** `main.py` found in any subdirectory will be used as the entrypoint. |\n",
    "| Python Library Requirements | (*Optional*) `requirements.txt` file in the [requirements file format](https://pip.pypa.io/en/stable/reference/requirements-file-format/).  A standard Python requirements.txt for any dependencies to be provided in the task environment. The Wallaroo SDK will already be present and **should not be included in the requirements.txt**. Multiple requirements.txt files are not allowed. |\n",
    "| Other artifacts | &nbsp; | Other artifacts such as files, data, or code to support the orchestration.\n",
    "\n",
    "For our example, our orchestration will:\n",
    "\n",
    "1. Use the `inference_results_connection` to open a HTTP Get connection to the inference data file and use it in an inference request in the deployed pipeline.\n",
    "1. Submit the inference results to the location specified in the `external_inference_connection`.\n",
    "\n",
    "This sample script is stored in `remote_inference/main.py` with an empty `requirements.txt` file, and packaged into the orchestration as `./remote_inference/remote_inference.zip`.  We'll display the steps in uploading the orchestration to the Wallaroo instance.\n",
    "\n",
    "Note that the orchestration assumes the pipeline is already deployed."
   ]
  },
  {
   "cell_type": "markdown",
   "id": "c54d9602",
   "metadata": {},
   "source": [
    "### Upload the Orchestration\n",
    "\n",
    "Orchestrations are uploaded with the Wallaroo client `upload_orchestration(path)` method with the following parameters.\n",
    "\n",
    "| Parameter | Type | Description |\n",
    "| --- | --- | ---|\n",
    "| **path** | string (Required) | The path to the ZIP file to be uploaded. |\n",
    "\n",
    "Once uploaded, the deployment will be prepared and any requirements will be downloaded and installed.\n",
    "\n",
    "\n",
    "For this example, the orchestration `./remote_inference/remote_inference.zip` will be uploaded and saved to the variable `orchestration`.\n",
    "\n",
    "### Orchestration Status\n",
    "\n",
    "We will loop until the uploaded orchestration's `status` displays `ready`."
   ]
  },
  {
   "cell_type": "code",
   "execution_count": 71,
   "id": "00e6e6e5",
   "metadata": {},
   "outputs": [
    {
     "name": "stdout",
     "output_type": "stream",
     "text": [
      "pending_packaging\n",
      "pending_packaging\n",
      "packaging\n",
      "packaging\n",
      "packaging\n",
      "packaging\n",
      "packaging\n",
      "packaging\n",
      "packaging\n",
      "packaging\n",
      "packaging\n"
     ]
    }
   ],
   "source": [
    "orchestration = wl.upload_orchestration(path=\"./remote_inference/remote_inference.zip\")\n",
    "\n",
    "while orchestration.status() != 'ready':\n",
    "    print(orchestration.status())\n",
    "    time.sleep(5)"
   ]
  },
  {
   "cell_type": "code",
   "execution_count": null,
   "id": "45beade8",
   "metadata": {},
   "outputs": [],
   "source": [
    "wl.list_orchestrations()"
   ]
  },
  {
   "cell_type": "markdown",
   "id": "7f394154",
   "metadata": {},
   "source": [
    "### Upload Orchestration via File Object\n",
    "\n",
    "Another method to upload the orchestration is as a file object.  For that, we will open the zip file as a binary, then upload it using the `bytes_buffer` parameter to specify the file object, and the `file_name` to give it a new name."
   ]
  },
  {
   "cell_type": "code",
   "execution_count": 21,
   "id": "4cebe286",
   "metadata": {},
   "outputs": [
    {
     "data": {
      "text/html": [
       "\n",
       "        <table>\n",
       "          <tr>\n",
       "            <th>Field</th>\n",
       "            <th>Value</th>\n",
       "          </tr>\n",
       "          <tr>\n",
       "            <td>ID</td><td>b4d4254e-58fc-432a-b98c-9e805415b913</td>\n",
       "          </tr>\n",
       "          <tr>\n",
       "            <td>Name</td><td>uploadedbytesdemo</td>\n",
       "          </tr>\n",
       "          <tr>\n",
       "            <td>File Name</td><td>inferencetest.zip</td>\n",
       "          </tr>\n",
       "          <tr>\n",
       "            <td>SHA</td><td>d8419bbb28a997c0b42470605ae3df0e8aeea16f9b502069a8020d9aed259f19</td>\n",
       "          </tr>\n",
       "          <tr>\n",
       "            <td>Status</td><td>pending_packaging</td>\n",
       "          </tr>\n",
       "          <tr>\n",
       "            <td>Created At</td><td>2024-16-Jul 19:03:04</td>\n",
       "          </tr>\n",
       "          <tr>\n",
       "            <td>Updated At</td><td>2024-16-Jul 19:03:04</td>\n",
       "          </tr>\n",
       "          <tr>\n",
       "            <td>Workspace ID</td><td>28</td>\n",
       "          </tr>\n",
       "          <tr>\n",
       "            <td>Workspace Name</td><td>simpleorchestrationworkspace</td>\n",
       "          </tr>\n",
       "        </table>\n",
       "        "
      ],
      "text/plain": [
       "<wallaroo.orchestration.Orchestration at 0x794f8633ff40>"
      ]
     },
     "execution_count": 21,
     "metadata": {},
     "output_type": "execute_result"
    }
   ],
   "source": [
    "zipfile = open(\"./remote_inference/remote_inference.zip\", \"rb\").read()\n",
    "\n",
    "wl.upload_orchestration(bytes_buffer=zipfile, file_name=\"inferencetest.zip\", name=\"uploadedbytesdemo\")"
   ]
  },
  {
   "cell_type": "code",
   "execution_count": 72,
   "id": "48ff89c0",
   "metadata": {},
   "outputs": [
    {
     "data": {
      "text/html": [
       "<table><tr><th>id</th><th>name</th><th>status</th><th>filename</th><th>sha</th><th>created at</th><th>updated at</th><th>workspace id</th><th>workspace name</th></tr><tr><td>d9fa4b3b-d4bf-4e45-8c1a-a4318e0869c1</td><td>None</td><td>ready</td><td>remote_inference.zip</td><td>d8419b...259f19</td><td>2024-16-Jul 19:01:58</td><td>2024-16-Jul 19:03:00</td><td>28</td><td>simpleorchestrationworkspace</td></tr><tr><td>b4d4254e-58fc-432a-b98c-9e805415b913</td><td>uploadedbytesdemo</td><td>ready</td><td>inferencetest.zip</td><td>d8419b...259f19</td><td>2024-16-Jul 19:03:04</td><td>2024-16-Jul 19:03:59</td><td>28</td><td>simpleorchestrationworkspace</td></tr><tr><td>b6333bc8-ae2e-4574-856f-7c63338edc47</td><td>None</td><td>ready</td><td>remote_inference.zip</td><td>d8419b...259f19</td><td>2024-16-Jul 19:29:50</td><td>2024-16-Jul 19:30:44</td><td>30</td><td>simpleorchestrationworkspace2</td></tr></table>"
      ],
      "text/plain": [
       "[<wallaroo.orchestration.Orchestration at 0x794f86289250>,\n",
       " <wallaroo.orchestration.Orchestration at 0x794f8645f220>,\n",
       " <wallaroo.orchestration.Orchestration at 0x794f8645f8b0>]"
      ]
     },
     "execution_count": 72,
     "metadata": {},
     "output_type": "execute_result"
    }
   ],
   "source": [
    "wl.list_orchestrations()"
   ]
  },
  {
   "cell_type": "markdown",
   "id": "bf028e54",
   "metadata": {},
   "source": [
    "## Task Management Tutorial\n",
    "\n",
    "Once an Orchestration has the status `ready`, it can be run as a task.  Tasks have three run options.\n",
    "\n",
    "| Type | SDK Call |  How triggered |\n",
    "|---|---|:---|\n",
    "| Once       | `orchestration.run_once(name, json_args, timeout)` | Task runs once and exits.| Single batch, experimentation. |\n",
    "| Scheduled  | `orchestration.run_scheduled(name, schedule, timeout, json_args)` | User provides schedule. Task runs exits whenever schedule dictates. | Recurrent batch. |"
   ]
  },
  {
   "cell_type": "markdown",
   "id": "de1423fb",
   "metadata": {},
   "source": [
    "### Run Task Once\n",
    "\n",
    "We'll do both a Run Once task and generate our Run Once Task from our orchestration.\n",
    "\n",
    "Tasks are generated and run once with the Orchestration `run_once(name, json_args, timeout)` method.  Any arguments for the orchestration are passed in as a `Dict`.  If there are no arguments, then an empty set `{}` is passed."
   ]
  },
  {
   "cell_type": "code",
   "execution_count": 76,
   "id": "e53d7731",
   "metadata": {},
   "outputs": [],
   "source": [
    "# Example: run once\n",
    "\n",
    "import datetime\n",
    "task_start = datetime.datetime.now()\n",
    "task = orchestration.run_once(name=\"simpletaskdemo\", \n",
    "                              json_args={\"workspace_name\": workspace_name, \n",
    "                                         \"pipeline_name\": pipeline_name,\n",
    "                                         \"connection_name\": inference_connection_name\n",
    "                                            })"
   ]
  },
  {
   "cell_type": "markdown",
   "id": "0dcbc1d4",
   "metadata": {},
   "source": [
    "### Task Status\n",
    "\n",
    "The list of tasks in the Wallaroo instance is retrieves through the Wallaroo Client `list_tasks()` method.  This returns an array list of the following.\n",
    "\n",
    "| Parameter | Type | Description |\n",
    "| --- | --- | ---|\n",
    "| **id** | string | The UUID identifier for the task. |\n",
    "| **last run status** | string | The last reported status the task.  Values are: <br><ul><li>`pending`: The task has not been started.</li><li>`started`: The task has been scheduled to execute.</li><li>`pending_kill`: The task kill command has been issued and the task is scheduled to be stopped.</li></ul> |\n",
    "| **type** | string | The type of the task.  Values are: <br><ul><li>`Temporary Run`: The task runs once then stop.</li><li>`Scheduled Run`: The task repeats on a `cron` like schedule.</li></ul> |\n",
    "| **created at** | DateTime | The date and time the task was started. |\n",
    "| **updated at** | DateTime | The date and time the task was updated. |\n",
    "\n",
    "For this example, the status of the previously created task will be generated, then looped until it has reached status `started`."
   ]
  },
  {
   "cell_type": "code",
   "execution_count": 44,
   "id": "a05a299f",
   "metadata": {},
   "outputs": [
    {
     "data": {
      "text/plain": [
       "'pending'"
      ]
     },
     "metadata": {},
     "output_type": "display_data"
    }
   ],
   "source": [
    "while task.status() != \"started\":\n",
    "    display(task.status())\n",
    "    time.sleep(5)"
   ]
  },
  {
   "cell_type": "markdown",
   "id": "7bd6a79a",
   "metadata": {},
   "source": [
    "### Task Results\n",
    "\n",
    "We can view the inferences from our logs and verify that new entries were added from our task.  We can do that with the task `last_runs()` method to see the list of task runs executed, then show the log from the last completed task run."
   ]
  },
  {
   "cell_type": "code",
   "execution_count": 56,
   "id": "818b5f3d",
   "metadata": {},
   "outputs": [
    {
     "data": {
      "text/html": [
       "\n",
       "            <table>\n",
       "              <tr><th>Field</th><th>Value</th></tr>\n",
       "              <tr><td>Task</td><td>2de50c93-dbe3-45af-ae9d-657540275405</td></tr>\n",
       "              <tr><td>Pod ID</td><td>d4b436c1-0b7c-49d0-9e1b-224303ff983a</td></tr>\n",
       "              <tr><td>Status</td><td>success</td></tr>\n",
       "              <tr><td>Created At</td><td>2024-16-Jul 19:15:49</td></tr>\n",
       "              <tr><td>Updated At</td><td>2024-16-Jul 19:15:49</td></tr>\n",
       "            </table>\n",
       "            "
      ],
      "text/plain": [
       "<wallaroo.task_run.TaskRun at 0x794f862725e0>"
      ]
     },
     "execution_count": 56,
     "metadata": {},
     "output_type": "execute_result"
    }
   ],
   "source": [
    "task.last_runs()[0]"
   ]
  },
  {
   "cell_type": "code",
   "execution_count": 57,
   "id": "f3084671-9f4b-4d0e-80cd-065a42805223",
   "metadata": {},
   "outputs": [
    {
     "data": {
      "text/html": [
       "<pre><code>2024-16-Jul 19:17:39 Getting the workspace simpleorchestrationworkspace\n",
       "2024-16-Jul 19:17:39 Getting the pipeline simpleorchestrationpipeline\n",
       "2024-16-Jul 19:17:39 Getting arrow table file\n",
       "2024-16-Jul 19:17:39 Inference time.  Displaying results after.\n",
       "2024-16-Jul 19:17:39                      time  ... anomaly.count\n",
       "2024-16-Jul 19:17:39 0 2024-07-16 19:17:39.153  ...             0\n",
       "2024-16-Jul 19:17:39 3 2024-07-16 19:17:39.153  ...             0\n",
       "2024-16-Jul 19:17:39 2 2024-07-16 19:17:39.153  ...             0\n",
       "2024-16-Jul 19:17:39 1 2024-07-16 19:17:39.153  ...             0\n",
       "2024-16-Jul 19:17:39 4 2024-07-16 19:17:39.153  ...             0\n",
       "2024-16-Jul 19:17:39 \n",
       "2024-16-Jul 19:17:39 [5 rows x 4 columns]</code></pre>"
      ],
      "text/plain": [
       "['2024-07-16T19:17:39.176365069Z stdout F Getting the workspace simpleorchestrationworkspace',\n",
       " '2024-07-16T19:17:39.176474099Z stdout F Getting the pipeline simpleorchestrationpipeline',\n",
       " '2024-07-16T19:17:39.176486109Z stdout F Getting arrow table file',\n",
       " '2024-07-16T19:17:39.176494309Z stdout F Inference time.  Displaying results after.',\n",
       " '2024-07-16T19:17:39.176501999Z stdout F                      time  ... anomaly.count',\n",
       " '2024-07-16T19:17:39.176508079Z stdout F 0 2024-07-16 19:17:39.153  ...             0',\n",
       " '2024-07-16T19:17:39.176526659Z stdout F 3 2024-07-16 19:17:39.153  ...             0',\n",
       " '2024-07-16T19:17:39.176520569Z stdout F 2 2024-07-16 19:17:39.153  ...             0',\n",
       " '2024-07-16T19:17:39.176514349Z stdout F 1 2024-07-16 19:17:39.153  ...             0',\n",
       " '2024-07-16T19:17:39.176533389Z stdout F 4 2024-07-16 19:17:39.153  ...             0',\n",
       " '2024-07-16T19:17:39.176539589Z stdout F ',\n",
       " '2024-07-16T19:17:39.176545299Z stdout F [5 rows x 4 columns]']"
      ]
     },
     "execution_count": 57,
     "metadata": {},
     "output_type": "execute_result"
    }
   ],
   "source": [
    "task.last_runs()[0].logs()"
   ]
  },
  {
   "cell_type": "markdown",
   "id": "24d22c9a",
   "metadata": {},
   "source": [
    "## Scheduled Run Task Example\n",
    "\n",
    "The other method of using tasks is as a **scheduled run** through the Orchestration `run_scheduled(name, schedule, timeout, json_args)`.  This sets up a task to run on an regular schedule as defined by the `schedule` parameter in the `cron` service format.  For example:\n",
    "\n",
    "```python\n",
    "schedule={'42 * * * *'}\n",
    "```\n",
    "\n",
    "Runs on the 42nd minute of every hour.\n",
    "\n",
    "The following schedule runs every day at 12 noon from February 1 to February 15 2024 - and then ends.\n",
    "\n",
    "```python\n",
    "schedule={'0 0 12 1-15 2 2024'}\n",
    "```\n",
    "\n",
    "For our example, we will create a scheduled task to run every 5 minutes, display the inference results, then use the Orchestration `kill` task to keep the task from running any further.\n",
    "\n",
    "It is recommended that orchestrations that have pipeline deploy or undeploy commands be spaced out no less than 5 minutes to prevent colliding with other tasks that use the same pipeline."
   ]
  },
  {
   "cell_type": "code",
   "execution_count": 58,
   "id": "8ab45fdc",
   "metadata": {},
   "outputs": [],
   "source": [
    "scheduled_task = orchestration.run_scheduled(name=\"simple_inference_schedule\", \n",
    "                                             schedule=\"*/5 * * * *\", \n",
    "                                             timeout=120, \n",
    "                                             json_args={\"workspace_name\": workspace_name, \n",
    "                                                        \"pipeline_name\": pipeline_name,\n",
    "                                                        \"connection_name\": inference_connection_name\n",
    "                                            })"
   ]
  },
  {
   "cell_type": "code",
   "execution_count": 59,
   "id": "efac60c3",
   "metadata": {},
   "outputs": [],
   "source": [
    "while scheduled_task.status() != \"started\":\n",
    "    display(scheduled_task.status())\n",
    "    time.sleep(5)"
   ]
  },
  {
   "cell_type": "code",
   "execution_count": 61,
   "id": "98668880",
   "metadata": {},
   "outputs": [
    {
     "data": {
      "text/html": [
       "<pre><code>2024-16-Jul 19:25:08 Getting the workspace simpleorchestrationworkspace\n",
       "2024-16-Jul 19:25:08 Getting the pipeline simpleorchestrationpipeline\n",
       "2024-16-Jul 19:25:08 Getting arrow table file\n",
       "2024-16-Jul 19:25:08 Inference time.  Displaying results after.\n",
       "2024-16-Jul 19:25:08                      time  ... anomaly.count\n",
       "2024-16-Jul 19:25:08 0 2024-07-16 19:25:08.812  ...             0\n",
       "2024-16-Jul 19:25:08 2 2024-07-16 19:25:08.812  ...             0\n",
       "2024-16-Jul 19:25:08 1 2024-07-16 19:25:08.812  ...             0\n",
       "2024-16-Jul 19:25:08 3 2024-07-16 19:25:08.812  ...             0\n",
       "2024-16-Jul 19:25:08 4 2024-07-16 19:25:08.812  ...             0\n",
       "2024-16-Jul 19:25:08 \n",
       "2024-16-Jul 19:25:08 [5 rows x 4 columns]</code></pre>"
      ],
      "text/plain": [
       "['2024-07-16T19:25:08.83379238Z stdout F Getting the workspace simpleorchestrationworkspace',\n",
       " '2024-07-16T19:25:08.83387575Z stdout F Getting the pipeline simpleorchestrationpipeline',\n",
       " '2024-07-16T19:25:08.833885181Z stdout F Getting arrow table file',\n",
       " '2024-07-16T19:25:08.833891181Z stdout F Inference time.  Displaying results after.',\n",
       " '2024-07-16T19:25:08.83389667Z stdout F                      time  ... anomaly.count',\n",
       " '2024-07-16T19:25:08.833902141Z stdout F 0 2024-07-16 19:25:08.812  ...             0',\n",
       " '2024-07-16T19:25:08.833912681Z stdout F 2 2024-07-16 19:25:08.812  ...             0',\n",
       " '2024-07-16T19:25:08.833907421Z stdout F 1 2024-07-16 19:25:08.812  ...             0',\n",
       " '2024-07-16T19:25:08.833924081Z stdout F 3 2024-07-16 19:25:08.812  ...             0',\n",
       " '2024-07-16T19:25:08.83393167Z stdout F 4 2024-07-16 19:25:08.812  ...             0',\n",
       " '2024-07-16T19:25:08.83393755Z stdout F ',\n",
       " '2024-07-16T19:25:08.83394373Z stdout F [5 rows x 4 columns]']"
      ]
     },
     "execution_count": 61,
     "metadata": {},
     "output_type": "execute_result"
    }
   ],
   "source": [
    "#wait 420 seconds to give the scheduled event time to finish\n",
    "time.sleep(420)\n",
    "scheduled_task.last_runs()[0].logs()"
   ]
  },
  {
   "cell_type": "markdown",
   "id": "e957bfc7",
   "metadata": {},
   "source": [
    "## Kill Task\n",
    "\n",
    "With our testing complete, we will kill the scheduled task so it will not run again.  First we'll show all the tasks to verify that our task is there, then issue it the kill command."
   ]
  },
  {
   "cell_type": "code",
   "execution_count": 30,
   "id": "7ee4c475",
   "metadata": {},
   "outputs": [
    {
     "data": {
      "text/html": [
       "<table><tr><th>id</th><th>name</th><th>last run status</th><th>type</th><th>active</th><th>schedule</th><th>created at</th><th>updated at</th><th>workspace id</th><th>workspace name</th></tr><tr><td>6bc26e40-6585-46eb-bfa5-8408860c182a</td><td>simple_inference_schedule</td><td>failure</td><td>Scheduled Run</td><td>True</td><td>*/5 * * * *</td><td>2024-16-Jul 19:04:31</td><td>2024-16-Jul 19:04:31</td><td>28</td><td>simpleorchestrationworkspace</td></tr><tr><td>01e13d2e-a402-4b43-b790-ab76148bba51</td><td>simpletaskdemo</td><td>failure</td><td>Temporary Run</td><td>True</td><td>-</td><td>2024-16-Jul 19:03:05</td><td>2024-16-Jul 19:03:32</td><td>28</td><td>simpleorchestrationworkspace</td></tr></table>"
      ],
      "text/plain": [
       "[<wallaroo.task.Task at 0x794f865cbcd0>,\n",
       " <wallaroo.task.Task at 0x794f865cb130>]"
      ]
     },
     "execution_count": 30,
     "metadata": {},
     "output_type": "execute_result"
    }
   ],
   "source": [
    "wl.list_tasks()"
   ]
  },
  {
   "cell_type": "code",
   "execution_count": null,
   "id": "1e9eda3a",
   "metadata": {},
   "outputs": [],
   "source": [
    "scheduled_task.kill()"
   ]
  },
  {
   "cell_type": "code",
   "execution_count": 32,
   "id": "c2ffb60a",
   "metadata": {},
   "outputs": [
    {
     "data": {
      "text/html": [
       "<table><tr><th>id</th><th>name</th><th>last run status</th><th>type</th><th>active</th><th>schedule</th><th>created at</th><th>updated at</th><th>workspace id</th><th>workspace name</th></tr><tr><td>6bc26e40-6585-46eb-bfa5-8408860c182a</td><td>simple_inference_schedule</td><td>failure</td><td>Scheduled Run</td><td>True</td><td>*/5 * * * *</td><td>2024-16-Jul 19:04:31</td><td>2024-16-Jul 19:11:37</td><td>28</td><td>simpleorchestrationworkspace</td></tr><tr><td>01e13d2e-a402-4b43-b790-ab76148bba51</td><td>simpletaskdemo</td><td>failure</td><td>Temporary Run</td><td>True</td><td>-</td><td>2024-16-Jul 19:03:05</td><td>2024-16-Jul 19:03:32</td><td>28</td><td>simpleorchestrationworkspace</td></tr></table>"
      ],
      "text/plain": [
       "[<wallaroo.task.Task at 0x794f86352790>,\n",
       " <wallaroo.task.Task at 0x794f86352a30>]"
      ]
     },
     "execution_count": 32,
     "metadata": {},
     "output_type": "execute_result"
    }
   ],
   "source": [
    "wl.list_tasks()"
   ]
  },
  {
   "cell_type": "markdown",
   "id": "58207f04",
   "metadata": {},
   "source": [
    "## Cleanup\n",
    "\n",
    "With the tutorial complete, we can undeploy the pipeline and return the resources back to the Wallaroo instance."
   ]
  },
  {
   "cell_type": "code",
   "execution_count": 33,
   "id": "bb96a086",
   "metadata": {},
   "outputs": [
    {
     "name": "stdout",
     "output_type": "stream",
     "text": [
      "Waiting for undeployment - this will take up to 45s ..................................... ok\n"
     ]
    },
    {
     "data": {
      "text/html": [
       "<table><tr><th>name</th> <td>simpleorchestrationpipeline</td></tr><tr><th>created</th> <td>2024-07-16 17:03:26.173063+00:00</td></tr><tr><th>last_updated</th> <td>2024-07-16 18:54:35.533749+00:00</td></tr><tr><th>deployed</th> <td>False</td></tr><tr><th>workspace_id</th> <td>28</td></tr><tr><th>workspace_name</th> <td>simpleorchestrationworkspace</td></tr><tr><th>arch</th> <td>x86</td></tr><tr><th>accel</th> <td>none</td></tr><tr><th>tags</th> <td></td></tr><tr><th>versions</th> <td>0e242d98-40ae-482f-8b30-06dbe3dd0fe9, cb8c8b68-01fa-496c-aee4-65b9425c02cf, 55a93554-4c25-4504-9fe4-e87a26f531a0, bd16b23b-1c11-457a-871f-cb79491ad51a</td></tr><tr><th>steps</th> <td>simpleorchestrationmodel</td></tr><tr><th>published</th> <td>False</td></tr></table>"
      ],
      "text/plain": [
       "{'name': 'simpleorchestrationpipeline', 'create_time': datetime.datetime(2024, 7, 16, 17, 3, 26, 173063, tzinfo=tzutc()), 'definition': \"[{'ModelInference': {'models': [{'name': 'simpleorchestrationmodel', 'version': '11a829cf-ac0c-4ff5-8f11-7299cfa35a90', 'sha': 'e22a0831aafd9917f3cc87a15ed267797f80e2afa12ad7d8810ca58f173b8cc6'}]}}]\"}"
      ]
     },
     "execution_count": 33,
     "metadata": {},
     "output_type": "execute_result"
    }
   ],
   "source": [
    "pipeline.undeploy()"
   ]
  },
  {
   "cell_type": "markdown",
   "id": "aebf8006-bd21-48c6-ba71-77397cabb2db",
   "metadata": {},
   "source": [
    "## View Orchestrations with Filter\n",
    "\n",
    "The following examples show listing and retrieving orchestrations and tasks with additional filters.\n",
    "\n",
    "### List Orchestrations\n",
    "\n",
    "List all orchestrations available across workspaces, then filtered by workspace id, then filtered by workspace name."
   ]
  },
  {
   "cell_type": "code",
   "execution_count": 73,
   "id": "40e3e32e-ba13-4447-b719-8a057e19dde0",
   "metadata": {},
   "outputs": [
    {
     "data": {
      "text/html": [
       "<table><tr><th>id</th><th>name</th><th>status</th><th>filename</th><th>sha</th><th>created at</th><th>updated at</th><th>workspace id</th><th>workspace name</th></tr><tr><td>d9fa4b3b-d4bf-4e45-8c1a-a4318e0869c1</td><td>None</td><td>ready</td><td>remote_inference.zip</td><td>d8419b...259f19</td><td>2024-16-Jul 19:01:58</td><td>2024-16-Jul 19:03:00</td><td>28</td><td>simpleorchestrationworkspace</td></tr><tr><td>b4d4254e-58fc-432a-b98c-9e805415b913</td><td>uploadedbytesdemo</td><td>ready</td><td>inferencetest.zip</td><td>d8419b...259f19</td><td>2024-16-Jul 19:03:04</td><td>2024-16-Jul 19:03:59</td><td>28</td><td>simpleorchestrationworkspace</td></tr><tr><td>b6333bc8-ae2e-4574-856f-7c63338edc47</td><td>None</td><td>ready</td><td>remote_inference.zip</td><td>d8419b...259f19</td><td>2024-16-Jul 19:29:50</td><td>2024-16-Jul 19:30:44</td><td>30</td><td>simpleorchestrationworkspace2</td></tr></table>"
      ],
      "text/plain": [
       "[<wallaroo.orchestration.Orchestration at 0x794f8617ffd0>,\n",
       " <wallaroo.orchestration.Orchestration at 0x794f86223220>,\n",
       " <wallaroo.orchestration.Orchestration at 0x794f862230d0>]"
      ]
     },
     "execution_count": 73,
     "metadata": {},
     "output_type": "execute_result"
    }
   ],
   "source": [
    "wl.list_orchestrations()"
   ]
  },
  {
   "cell_type": "code",
   "execution_count": 74,
   "id": "76db271a-ec4c-45e8-bf90-7b6979765580",
   "metadata": {},
   "outputs": [
    {
     "data": {
      "text/html": [
       "<table><tr><th>id</th><th>name</th><th>status</th><th>filename</th><th>sha</th><th>created at</th><th>updated at</th><th>workspace id</th><th>workspace name</th></tr><tr><td>b6333bc8-ae2e-4574-856f-7c63338edc47</td><td>None</td><td>ready</td><td>remote_inference.zip</td><td>d8419b...259f19</td><td>2024-16-Jul 19:29:50</td><td>2024-16-Jul 19:30:44</td><td>30</td><td>simpleorchestrationworkspace2</td></tr></table>"
      ],
      "text/plain": [
       "[<wallaroo.orchestration.Orchestration at 0x794f8617ff70>]"
      ]
     },
     "execution_count": 74,
     "metadata": {},
     "output_type": "execute_result"
    }
   ],
   "source": [
    "wl.list_orchestrations(workspace_id=30)"
   ]
  },
  {
   "cell_type": "code",
   "execution_count": 75,
   "id": "17b36d96-183a-4b47-b7da-da34983fa941",
   "metadata": {},
   "outputs": [
    {
     "data": {
      "text/html": [
       "<table><tr><th>id</th><th>name</th><th>status</th><th>filename</th><th>sha</th><th>created at</th><th>updated at</th><th>workspace id</th><th>workspace name</th></tr><tr><td>d9fa4b3b-d4bf-4e45-8c1a-a4318e0869c1</td><td>None</td><td>ready</td><td>remote_inference.zip</td><td>d8419b...259f19</td><td>2024-16-Jul 19:01:58</td><td>2024-16-Jul 19:03:00</td><td>28</td><td>simpleorchestrationworkspace</td></tr><tr><td>b4d4254e-58fc-432a-b98c-9e805415b913</td><td>uploadedbytesdemo</td><td>ready</td><td>inferencetest.zip</td><td>d8419b...259f19</td><td>2024-16-Jul 19:03:04</td><td>2024-16-Jul 19:03:59</td><td>28</td><td>simpleorchestrationworkspace</td></tr></table>"
      ],
      "text/plain": [
       "[<wallaroo.orchestration.Orchestration at 0x794f8640b130>,\n",
       " <wallaroo.orchestration.Orchestration at 0x794f865fcd30>]"
      ]
     },
     "execution_count": 75,
     "metadata": {},
     "output_type": "execute_result"
    }
   ],
   "source": [
    "wl.list_orchestrations(workspace_name=\"simpleorchestrationworkspace\")"
   ]
  },
  {
   "cell_type": "markdown",
   "id": "a4683f40-f54b-420a-b550-0f79f6529581",
   "metadata": {},
   "source": [
    "### List Tasks\n",
    "\n",
    "Lists all tasks available across workspaces, then filtered by workspace id, then filtered by workspace name."
   ]
  },
  {
   "cell_type": "code",
   "execution_count": 77,
   "id": "afac727e-7066-475e-afb9-2d718df830f7",
   "metadata": {},
   "outputs": [
    {
     "data": {
      "text/html": [
       "<table><tr><th>id</th><th>name</th><th>last run status</th><th>type</th><th>active</th><th>schedule</th><th>created at</th><th>updated at</th><th>workspace id</th><th>workspace name</th></tr><tr><td>e44070f4-2638-4778-9d87-b13d457181ec</td><td>simpletaskdemo</td><td>running</td><td>Temporary Run</td><td>True</td><td>-</td><td>2024-16-Jul 19:31:38</td><td>2024-16-Jul 19:31:44</td><td>30</td><td>simpleorchestrationworkspace2</td></tr><tr><td>5cd594fe-36fd-4db5-9000-8b090a8fa9e3</td><td>simple_inference_schedule</td><td>running</td><td>Scheduled Run</td><td>True</td><td>*/5 * * * *</td><td>2024-16-Jul 19:18:07</td><td>2024-16-Jul 19:18:08</td><td>28</td><td>simpleorchestrationworkspace</td></tr><tr><td>2de50c93-dbe3-45af-ae9d-657540275405</td><td>simpletaskdemo</td><td>success</td><td>Temporary Run</td><td>True</td><td>-</td><td>2024-16-Jul 19:15:47</td><td>2024-16-Jul 19:17:39</td><td>28</td><td>simpleorchestrationworkspace</td></tr><tr><td>01e13d2e-a402-4b43-b790-ab76148bba51</td><td>simpletaskdemo</td><td>failure</td><td>Temporary Run</td><td>True</td><td>-</td><td>2024-16-Jul 19:03:05</td><td>2024-16-Jul 19:03:32</td><td>28</td><td>simpleorchestrationworkspace</td></tr></table>"
      ],
      "text/plain": [
       "[<wallaroo.task.Task at 0x794f861d9e50>,\n",
       " <wallaroo.task.Task at 0x794f861d9190>,\n",
       " <wallaroo.task.Task at 0x794f861d9100>,\n",
       " <wallaroo.task.Task at 0x794f861d9940>]"
      ]
     },
     "execution_count": 77,
     "metadata": {},
     "output_type": "execute_result"
    }
   ],
   "source": [
    "wl.list_tasks()"
   ]
  },
  {
   "cell_type": "code",
   "execution_count": 80,
   "id": "06e6dbc3-fba7-4f74-a16a-a102cd17c9c1",
   "metadata": {},
   "outputs": [
    {
     "data": {
      "text/html": [
       "<table><tr><th>id</th><th>name</th><th>last run status</th><th>type</th><th>active</th><th>schedule</th><th>created at</th><th>updated at</th><th>workspace id</th><th>workspace name</th></tr><tr><td>e44070f4-2638-4778-9d87-b13d457181ec</td><td>simpletaskdemo</td><td>failure</td><td>Temporary Run</td><td>True</td><td>-</td><td>2024-16-Jul 19:31:38</td><td>2024-16-Jul 19:31:49</td><td>30</td><td>simpleorchestrationworkspace2</td></tr></table>"
      ],
      "text/plain": [
       "[<wallaroo.task.Task at 0x794f8640b640>]"
      ]
     },
     "execution_count": 80,
     "metadata": {},
     "output_type": "execute_result"
    }
   ],
   "source": [
    "wl.list_tasks(workspace_id=30)"
   ]
  },
  {
   "cell_type": "code",
   "execution_count": 79,
   "id": "40008460-14e4-4b04-a128-351886a51311",
   "metadata": {},
   "outputs": [
    {
     "data": {
      "text/html": [
       "<table><tr><th>id</th><th>name</th><th>last run status</th><th>type</th><th>active</th><th>schedule</th><th>created at</th><th>updated at</th><th>workspace id</th><th>workspace name</th></tr><tr><td>5cd594fe-36fd-4db5-9000-8b090a8fa9e3</td><td>simple_inference_schedule</td><td>running</td><td>Scheduled Run</td><td>True</td><td>*/5 * * * *</td><td>2024-16-Jul 19:18:07</td><td>2024-16-Jul 19:18:08</td><td>28</td><td>simpleorchestrationworkspace</td></tr><tr><td>2de50c93-dbe3-45af-ae9d-657540275405</td><td>simpletaskdemo</td><td>success</td><td>Temporary Run</td><td>True</td><td>-</td><td>2024-16-Jul 19:15:47</td><td>2024-16-Jul 19:17:39</td><td>28</td><td>simpleorchestrationworkspace</td></tr><tr><td>01e13d2e-a402-4b43-b790-ab76148bba51</td><td>simpletaskdemo</td><td>failure</td><td>Temporary Run</td><td>True</td><td>-</td><td>2024-16-Jul 19:03:05</td><td>2024-16-Jul 19:03:32</td><td>28</td><td>simpleorchestrationworkspace</td></tr></table>"
      ],
      "text/plain": [
       "[<wallaroo.task.Task at 0x794f86211ca0>,\n",
       " <wallaroo.task.Task at 0x794f86211af0>,\n",
       " <wallaroo.task.Task at 0x794f862110a0>]"
      ]
     },
     "execution_count": 79,
     "metadata": {},
     "output_type": "execute_result"
    }
   ],
   "source": [
    "wl.list_tasks(workspace_name=\"simpleorchestrationworkspace\")"
   ]
  }
 ],
 "metadata": {
  "kernelspec": {
   "display_name": "Python 3 (ipykernel)",
   "language": "python",
   "name": "python3"
  },
  "language_info": {
   "codemirror_mode": {
    "name": "ipython",
    "version": 3
   },
   "file_extension": ".py",
   "mimetype": "text/x-python",
   "name": "python",
   "nbconvert_exporter": "python",
   "pygments_lexer": "ipython3",
   "version": "3.9.13"
  }
 },
 "nbformat": 4,
 "nbformat_minor": 5
}
