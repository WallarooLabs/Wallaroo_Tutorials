{
 "cells": [
  {
   "attachments": {},
   "cell_type": "markdown",
   "id": "54d6daff",
   "metadata": {},
   "source": [
    "This can be downloaded as part of the [Wallaroo Tutorials repository](https://github.com/WallarooLabs/Wallaroo_Tutorials/blob/wallaroo2024.2_tutorials/wallaroo-automate/orchestration_api_simple_tutorial).\n",
    "\n",
    "## Wallaroo Connection and ML Workload Orchestration API Tutorial\n",
    "\n",
    "This tutorial provides a quick set of methods and examples regarding Wallaroo Connections and Wallaroo ML Workload Orchestration.  For full details, see the Wallaroo Documentation site.\n",
    "\n",
    "Wallaroo provides Data Connections and ML Workload Orchestrations to provide organizations with a method of creating and managing automated tasks that can either be run on demand or a regular schedule.\n",
    "\n",
    "## Definitions\n",
    "\n",
    "* **Orchestration**: A set of instructions written as a python script with a requirements library.  Orchestrations are uploaded to the Wallaroo instance as a .zip file.\n",
    "* **Task**: An implementation of an orchestration.  Tasks are run either once when requested, on a repeating schedule, or as a service.\n",
    "* **Connection**: Definitions set by MLOps engineers that are used by other Wallaroo users for connection information to a data source.  Usually paired with orchestrations.\n",
    "\n",
    "## Tutorial Goals\n",
    "\n",
    "The tutorial will demonstrate the following:\n",
    "\n",
    "1. Create a workspace and pipeline with a sample model.\n",
    "1. Upload Wallaroo ML Workload Orchestration through the Wallaroo MLOps API.\n",
    "1. List available orchestrations through the Wallaroo MLOps API.\n",
    "1. Run the orchestration once as a Run Once Task through the Wallaroo MLOps API and verify that the information was saved the pipeline logs."
   ]
  },
  {
   "attachments": {},
   "cell_type": "markdown",
   "id": "67e1bb26",
   "metadata": {},
   "source": [
    "## Prerequisites\n",
    "\n",
    "* An installed Wallaroo instance.\n",
    "* The following Python libraries installed.  These are included by default in a Wallaroo instance's JupyterHub service.\n",
    "  * `os`\n",
    "  * [`wallaroo`](https://pypi.org/project/wallaroo/): The Wallaroo SDK. Included with the Wallaroo JupyterHub service by default.\n",
    "  * [`pandas`](https://pypi.org/project/pandas/): Pandas, mainly used for Pandas DataFrame\n",
    "  * [`pyarrow`](https://pypi.org/project/pyarrow/): PyArrow for Apache Arrow support"
   ]
  },
  {
   "attachments": {},
   "cell_type": "markdown",
   "id": "a2b09330-0408-45eb-b321-b48b65041789",
   "metadata": {},
   "source": [
    "## Initial Steps\n",
    "\n",
    "For this tutorial, we'll create a workspace, upload our sample model and deploy a pipeline.  We'll perform some quick sample inferences to verify that everything it working.\n",
    "\n",
    "### Load Libraries\n",
    "\n",
    "Here we'll import the various libraries we'll use for the tutorial."
   ]
  },
  {
   "cell_type": "code",
   "execution_count": 27,
   "id": "43ee5f42",
   "metadata": {},
   "outputs": [],
   "source": [
    "import wallaroo\n",
    "from wallaroo.object import EntityNotFoundError, RequiredAttributeMissing\n",
    "\n",
    "# to display dataframe tables\n",
    "from IPython.display import display\n",
    "# used to display dataframe information without truncating\n",
    "import pandas as pd\n",
    "pd.set_option('display.max_colwidth', None)\n",
    "import pyarrow as pa\n",
    "\n",
    "import time\n",
    "import json\n",
    "\n",
    "import requests\n"
   ]
  },
  {
   "attachments": {},
   "cell_type": "markdown",
   "id": "ae645fd0",
   "metadata": {},
   "source": [
    "### Connect to the Wallaroo Instance\n",
    "\n",
    "The first step is to connect to Wallaroo through the Wallaroo client.  The Python library is included in the Wallaroo install and available through the Jupyter Hub interface provided with your Wallaroo environment.\n",
    "\n",
    "This is accomplished using the `wallaroo.Client()` command, which provides a URL to grant the SDK permission to your specific Wallaroo environment.  When displayed, enter the URL into a browser and confirm permissions.  Store the connection into a variable that can be referenced later.\n",
    "\n",
    "If logging into the Wallaroo instance through the internal JupyterHub service, use `wl = wallaroo.Client()`. For more information on Wallaroo Client settings, see the [Client Connection guide](https://docs.wallaroo.ai/wallaroo-developer-guides/wallaroo-sdk-guides/wallaroo-sdk-essentials-guide/wallaroo-sdk-essentials-client/)."
   ]
  },
  {
   "cell_type": "code",
   "execution_count": 28,
   "id": "e9d19a6e",
   "metadata": {},
   "outputs": [],
   "source": [
    "# Login through local Wallaroo instance\n",
    "\n",
    "wl = wallaroo.Client()"
   ]
  },
  {
   "attachments": {},
   "cell_type": "markdown",
   "id": "c1d87a1b",
   "metadata": {},
   "source": [
    "### API URL and Tutorial Variables\n",
    "\n",
    "The variable `wl.api_endpoint` is used to specify the connection to the Wallaroo instance's MLOps API URL, and is composed of the Wallaroo DNS prefix and suffix.  For full details, see the [Wallaroo API Connection Guide](https://docs.wallaroo.ai/wallaroo-developer-guides/wallaroo-api-guide/wallaroo-mlops-connection-guide/).\n",
    "\n",
    "The other variables set for workspace, model name, and pipeline are set so this tutorial can be executed with custom user settings."
   ]
  },
  {
   "cell_type": "code",
   "execution_count": 29,
   "id": "06a981ef",
   "metadata": {},
   "outputs": [
    {
     "data": {
      "text/plain": [
       "'https://doc-test.api.wallaroocommunity.ninja'"
      ]
     },
     "metadata": {},
     "output_type": "display_data"
    }
   ],
   "source": [
    "# Setting variables for later steps\n",
    "\n",
    "display(wl.api_endpoint)\n",
    "\n",
    "workspace_name = f'apiorchestrationworkspace'\n",
    "pipeline_name = f'apipipeline'\n",
    "model_name = f'apiorchestrationmodel'\n",
    "model_file_name = './models/rf_model.onnx'"
   ]
  },
  {
   "attachments": {},
   "cell_type": "markdown",
   "id": "98b78cf9",
   "metadata": {},
   "source": [
    "### Create the Workspace and Pipeline\n",
    "\n",
    "We'll now create our workspace and pipeline for the tutorial.  If this tutorial has been run previously, then this will retrieve the existing ones with the assumption they're for us with this tutorial.\n",
    "\n",
    "We'll set the retrieved workspace as the current workspace in the SDK, so all commands will default to that workspace."
   ]
  },
  {
   "cell_type": "code",
   "execution_count": 30,
   "id": "59aa845d",
   "metadata": {},
   "outputs": [],
   "source": [
    "workspace = wl.get_workspace(name=workspace_name, create_if_not_exist=True)\n",
    "wl.set_current_workspace(workspace)\n",
    "\n",
    "workspace_id = workspace.id()\n",
    "\n",
    "pipeline = wl.build_pipeline(pipeline_name)"
   ]
  },
  {
   "attachments": {},
   "cell_type": "markdown",
   "id": "8a9fc274",
   "metadata": {},
   "source": [
    "### Upload the Model and Deploy Pipeline\n",
    "\n",
    "We'll upload our model into our sample workspace, then add it as a pipeline step before deploying the pipeline to it's ready to accept inference requests."
   ]
  },
  {
   "cell_type": "code",
   "execution_count": 31,
   "id": "f6a69610",
   "metadata": {},
   "outputs": [
    {
     "data": {
      "text/html": [
       "<table><tr><th>name</th> <td>apipipeline</td></tr><tr><th>created</th> <td>2024-04-17 15:24:07.339055+00:00</td></tr><tr><th>last_updated</th> <td>2024-04-17 16:00:10.312051+00:00</td></tr><tr><th>deployed</th> <td>False</td></tr><tr><th>arch</th> <td>x86</td></tr><tr><th>accel</th> <td>none</td></tr><tr><th>tags</th> <td></td></tr><tr><th>versions</th> <td>fb5e3da5-bbe5-49ef-845f-118f9ea06a87, a5dff8e6-168a-48be-a2ef-a2daf7d440de, f5d3e376-0cdc-43ca-a77b-11d92ed71033</td></tr><tr><th>steps</th> <td>apiorchestrationmodel</td></tr><tr><th>published</th> <td>False</td></tr></table>"
      ],
      "text/plain": [
       "{'name': 'apipipeline', 'create_time': datetime.datetime(2024, 4, 17, 15, 24, 7, 339055, tzinfo=tzutc()), 'definition': \"[{'ModelInference': {'models': [{'name': 'apiorchestrationmodel', 'version': '446f7a1f-5e31-43f5-a4d2-122c6e920fbf', 'sha': 'e22a0831aafd9917f3cc87a15ed267797f80e2afa12ad7d8810ca58f173b8cc6'}]}}]\"}"
      ]
     },
     "execution_count": 31,
     "metadata": {},
     "output_type": "execute_result"
    }
   ],
   "source": [
    "# Upload the model\n",
    "\n",
    "housing_model_control = (wl.upload_model(model_name, \n",
    "                                         model_file_name, \n",
    "                                         framework=wallaroo.framework.Framework.ONNX)\n",
    "                                         .configure(tensor_fields=[\"tensor\"])\n",
    "                        )\n",
    "\n",
    "# Add the model as a pipeline step\n",
    "\n",
    "pipeline.add_model_step(housing_model_control)"
   ]
  },
  {
   "cell_type": "code",
   "execution_count": 32,
   "id": "a484796e",
   "metadata": {},
   "outputs": [
    {
     "data": {
      "text/html": [
       "<table><tr><th>name</th> <td>apipipeline</td></tr><tr><th>created</th> <td>2024-04-17 15:24:07.339055+00:00</td></tr><tr><th>last_updated</th> <td>2024-04-17 16:00:16.674235+00:00</td></tr><tr><th>deployed</th> <td>True</td></tr><tr><th>arch</th> <td>x86</td></tr><tr><th>accel</th> <td>none</td></tr><tr><th>tags</th> <td></td></tr><tr><th>versions</th> <td>37c27029-bf45-4f3b-b14b-65e722752ad5, fb5e3da5-bbe5-49ef-845f-118f9ea06a87, a5dff8e6-168a-48be-a2ef-a2daf7d440de, f5d3e376-0cdc-43ca-a77b-11d92ed71033</td></tr><tr><th>steps</th> <td>apiorchestrationmodel</td></tr><tr><th>published</th> <td>False</td></tr></table>"
      ],
      "text/plain": [
       "{'name': 'apipipeline', 'create_time': datetime.datetime(2024, 4, 17, 15, 24, 7, 339055, tzinfo=tzutc()), 'definition': \"[{'ModelInference': {'models': [{'name': 'apiorchestrationmodel', 'version': '446f7a1f-5e31-43f5-a4d2-122c6e920fbf', 'sha': 'e22a0831aafd9917f3cc87a15ed267797f80e2afa12ad7d8810ca58f173b8cc6'}]}}]\"}"
      ]
     },
     "execution_count": 32,
     "metadata": {},
     "output_type": "execute_result"
    }
   ],
   "source": [
    "#deploy the pipeline\n",
    "pipeline.deploy()"
   ]
  },
  {
   "attachments": {},
   "cell_type": "markdown",
   "id": "b8d44dc7",
   "metadata": {},
   "source": [
    "## Wallaroo ML Workload Orchestration Example\n",
    "\n",
    "With the pipeline deployed and our connections set, we will now generate our ML Workload Orchestration.  See the [Wallaroo ML Workload Orchestrations guide](https://docs.wallaroo.ai/wallaroo-developer-guides/wallaroo-sdk-guides/wallaroo-sdk-essentials-guide/wallaroo-sdk-essentials-ml-workload-orchestration/) for full details.\n",
    "\n",
    "Orchestrations are uploaded to the Wallaroo instance as a ZIP file with the following requirements:\n",
    "\n",
    "| Parameter | Type | Description |\n",
    "|---|---|---|\n",
    "| **User Code** | (*Required*) Python script as `.py` files | If `main.py` exists, then that will be used as the task entrypoint. Otherwise, the **first** `main.py` found in any subdirectory will be used as the entrypoint. |\n",
    "| Python Library Requirements | (*Optional*) `requirements.txt` file in the [requirements file format](https://pip.pypa.io/en/stable/reference/requirements-file-format/).  A standard Python requirements.txt for any dependencies to be provided in the task environment. The Wallaroo SDK will already be present and **should not be included in the requirements.txt**. Multiple requirements.txt files are not allowed. |\n",
    "| Other artifacts | &nbsp; | Other artifacts such as files, data, or code to support the orchestration.\n",
    "\n",
    "For our example, our orchestration will:\n",
    "\n",
    "1. Use the `inference_results_connection` to open a HTTP Get connection to the inference data file and use it in an inference request in the deployed pipeline.\n",
    "1. Submit the inference results to the location specified in the `external_inference_connection`.\n",
    "\n",
    "This sample script is stored in `remote_inference/main.py` with an empty `requirements.txt` file, and packaged into the orchestration as `./remote_inference/remote_inference.zip`.  We'll display the steps in uploading the orchestration to the Wallaroo instance.\n",
    "\n",
    "Note that the orchestration assumes the pipeline is already deployed."
   ]
  },
  {
   "attachments": {},
   "cell_type": "markdown",
   "id": "c54d9602",
   "metadata": {},
   "source": [
    "### API Upload the Orchestration\n",
    "\n",
    "Orchestrations are uploaded via POST as a `application/octet-stream` with MLOps API route:\n",
    "\n",
    "* **REQUEST**\n",
    "  * POST `/v1/api/orchestration/upload`\n",
    "  * Content-Type `multipart/form-data`\n",
    "* **PARAMETERS**\n",
    "  * `file`: The file uploaded as Content-Type as `application/octet-stream`.\n",
    "  * `metadata`: Included as Content-Type as `application/json` with:\n",
    "    * workspace_id: The numerical id of the workspace to upload the orchestration to.\n",
    "    * name:  The name of the orchestration.\n",
    "    * The metadata specifying the workspace id and Content-Type as `application/json`.\n",
    "\n",
    "Once uploaded, the deployment will be prepared and any requirements will be downloaded and installed."
   ]
  },
  {
   "cell_type": "code",
   "execution_count": 33,
   "id": "00e6e6e5",
   "metadata": {},
   "outputs": [
    {
     "data": {
      "text/plain": [
       "{'id': 'a74bb333-e4bf-495d-b500-fc5d1146ba2b'}"
      ]
     },
     "metadata": {},
     "output_type": "display_data"
    }
   ],
   "source": [
    "# retrieve the authorization token\n",
    "headers = wl.auth.auth_header()\n",
    "\n",
    "\n",
    "url = f\"{wl.api_endpoint}/v1/api/orchestration/upload\"\n",
    "\n",
    "fp = open(\"./api_inference_orchestration.zip\", \"rb\")\n",
    "\n",
    "metadata = json.dumps({\n",
    "        \"workspace_id\": workspace_id,\n",
    "        \"name\": \"apiorchestrationsample_001\"\n",
    "    })\n",
    "\n",
    "response = requests.post(\n",
    "    url,\n",
    "    headers=headers,\n",
    "    files=[\n",
    "        (\"file\", \n",
    "            (\"api_inference_orchestration.zip\", fp, \"application/octet-stream\")\n",
    "        ),\n",
    "        (\"metadata\", \n",
    "            (\"metadata\", metadata, \"application/json\")\n",
    "        )\n",
    "    ],\n",
    ").json()\n",
    "\n",
    "display(response)\n",
    "orchestration_id = response['id']"
   ]
  },
  {
   "attachments": {},
   "cell_type": "markdown",
   "id": "8efa8c85",
   "metadata": {},
   "source": [
    "### API List Orchestrations\n",
    "\n",
    "A list of orchestrations retrieved via POST MLOps API route:\n",
    "\n",
    "* **REQUEST**\n",
    "  * POST `/v1/api/orchestration/list`\n",
    "* **PARAMETERS**\n",
    "  * **workspace_id**:  The numerical identifier of the workspace associated with the orchestration."
   ]
  },
  {
   "cell_type": "code",
   "execution_count": 34,
   "id": "a3245c81",
   "metadata": {},
   "outputs": [
    {
     "data": {
      "text/plain": [
       "[{'id': 'a74bb333-e4bf-495d-b500-fc5d1146ba2b',\n",
       "  'workspace_id': 33,\n",
       "  'sha': 'd3b93c9f280734106376e684792aa8b4285d527092fe87d89c74ec804f8e169e',\n",
       "  'name': 'apiorchestrationsample_001',\n",
       "  'file_name': 'api_inference_orchestration.zip',\n",
       "  'task_id': '82008f80-8430-4e45-a446-e1c8ecf266f1',\n",
       "  'owner_id': '65124b18-8382-49af-b3c8-ada3b9df3330',\n",
       "  'status': 'pending_packaging',\n",
       "  'created_at': '2024-04-17T16:00:33.935691+00:00',\n",
       "  'updated_at': '2024-04-17T16:00:33.935691+00:00',\n",
       "  'image_path': 'proxy.replicated.com/proxy/wallaroo/ghcr.io/wallaroolabs/arbex-orch-deploy:v2024.1.0-main-4921',\n",
       "  'created_on_version': '2024.1.0'}]"
      ]
     },
     "metadata": {},
     "output_type": "display_data"
    }
   ],
   "source": [
    "# retrieve the authorization token\n",
    "headers = wl.auth.auth_header()\n",
    "\n",
    "url = f\"{wl.api_endpoint}/v1/api/orchestration/list\"\n",
    "\n",
    "data = {\n",
    "    'workspace_id': workspace_id\n",
    "}\n",
    "\n",
    "response=requests.post(url, headers=headers, json=data)\n",
    "display(response.json())\n"
   ]
  },
  {
   "attachments": {},
   "cell_type": "markdown",
   "id": "06c3b56d",
   "metadata": {},
   "source": [
    "### API Get Orchestration\n",
    "\n",
    "A list of orchestrations retrieved via POST MLOps API route:\n",
    "\n",
    "* **REQUEST**\n",
    "  * POST `/v1/api/orchestration/get_by_id`\n",
    "* **PARAMETERS**\n",
    "  * **id**:  The UUID of the orchestration being retrieved.\n",
    "* **RETURNS**\n",
    "  * id: The ID of the orchestration in UUID format.\n",
    "  * workspace_id: Numerical value of the workspace the orchestration was uploaded to.\n",
    "  * sha: The SHA hash value of the orchestration.\n",
    "  * file_name: The file name the orchestration was uploaded as.\n",
    "  * task_id: The task id in UUID format for unpacking and preparing the orchestration.\n",
    "  * owner_id: The Keycloak ID of the user that uploaded the orchestration.\n",
    "  * status: The status of the orchestration.  Status values are:\n",
    "    * `packing`: Preparing the orchestration to be used as a task.\n",
    "    * `ready`:  The orchestration is ready to be deployed as a task."
   ]
  },
  {
   "cell_type": "code",
   "execution_count": 35,
   "id": "406c0c8c",
   "metadata": {},
   "outputs": [
    {
     "data": {
      "text/plain": [
       "{'id': 'a74bb333-e4bf-495d-b500-fc5d1146ba2b',\n",
       " 'name': 'apiorchestrationsample_001',\n",
       " 'created_at': '2024-04-17T16:00:33.935691+00:00',\n",
       " 'workspace_id': 33,\n",
       " 'sha': 'd3b93c9f280734106376e684792aa8b4285d527092fe87d89c74ec804f8e169e',\n",
       " 'file_name': 'api_inference_orchestration.zip',\n",
       " 'task_id': '82008f80-8430-4e45-a446-e1c8ecf266f1',\n",
       " 'owner_id': '65124b18-8382-49af-b3c8-ada3b9df3330',\n",
       " 'status': 'pending_packaging'}"
      ]
     },
     "metadata": {},
     "output_type": "display_data"
    },
    {
     "data": {
      "text/plain": [
       "{'id': 'a74bb333-e4bf-495d-b500-fc5d1146ba2b',\n",
       " 'name': 'apiorchestrationsample_001',\n",
       " 'created_at': '2024-04-17T16:00:33.935691+00:00',\n",
       " 'workspace_id': 33,\n",
       " 'sha': 'd3b93c9f280734106376e684792aa8b4285d527092fe87d89c74ec804f8e169e',\n",
       " 'file_name': 'api_inference_orchestration.zip',\n",
       " 'task_id': '82008f80-8430-4e45-a446-e1c8ecf266f1',\n",
       " 'owner_id': '65124b18-8382-49af-b3c8-ada3b9df3330',\n",
       " 'status': 'packaging'}"
      ]
     },
     "metadata": {},
     "output_type": "display_data"
    },
    {
     "data": {
      "text/plain": [
       "{'id': 'a74bb333-e4bf-495d-b500-fc5d1146ba2b',\n",
       " 'name': 'apiorchestrationsample_001',\n",
       " 'created_at': '2024-04-17T16:00:33.935691+00:00',\n",
       " 'workspace_id': 33,\n",
       " 'sha': 'd3b93c9f280734106376e684792aa8b4285d527092fe87d89c74ec804f8e169e',\n",
       " 'file_name': 'api_inference_orchestration.zip',\n",
       " 'task_id': '82008f80-8430-4e45-a446-e1c8ecf266f1',\n",
       " 'owner_id': '65124b18-8382-49af-b3c8-ada3b9df3330',\n",
       " 'status': 'packaging'}"
      ]
     },
     "metadata": {},
     "output_type": "display_data"
    },
    {
     "data": {
      "text/plain": [
       "{'id': 'a74bb333-e4bf-495d-b500-fc5d1146ba2b',\n",
       " 'name': 'apiorchestrationsample_001',\n",
       " 'created_at': '2024-04-17T16:00:33.935691+00:00',\n",
       " 'workspace_id': 33,\n",
       " 'sha': 'd3b93c9f280734106376e684792aa8b4285d527092fe87d89c74ec804f8e169e',\n",
       " 'file_name': 'api_inference_orchestration.zip',\n",
       " 'task_id': '82008f80-8430-4e45-a446-e1c8ecf266f1',\n",
       " 'owner_id': '65124b18-8382-49af-b3c8-ada3b9df3330',\n",
       " 'status': 'packaging'}"
      ]
     },
     "metadata": {},
     "output_type": "display_data"
    },
    {
     "data": {
      "text/plain": [
       "{'id': 'a74bb333-e4bf-495d-b500-fc5d1146ba2b',\n",
       " 'name': 'apiorchestrationsample_001',\n",
       " 'created_at': '2024-04-17T16:00:33.935691+00:00',\n",
       " 'workspace_id': 33,\n",
       " 'sha': 'd3b93c9f280734106376e684792aa8b4285d527092fe87d89c74ec804f8e169e',\n",
       " 'file_name': 'api_inference_orchestration.zip',\n",
       " 'task_id': '82008f80-8430-4e45-a446-e1c8ecf266f1',\n",
       " 'owner_id': '65124b18-8382-49af-b3c8-ada3b9df3330',\n",
       " 'status': 'packaging'}"
      ]
     },
     "metadata": {},
     "output_type": "display_data"
    },
    {
     "data": {
      "text/plain": [
       "{'id': 'a74bb333-e4bf-495d-b500-fc5d1146ba2b',\n",
       " 'name': 'apiorchestrationsample_001',\n",
       " 'created_at': '2024-04-17T16:00:33.935691+00:00',\n",
       " 'workspace_id': 33,\n",
       " 'sha': 'd3b93c9f280734106376e684792aa8b4285d527092fe87d89c74ec804f8e169e',\n",
       " 'file_name': 'api_inference_orchestration.zip',\n",
       " 'task_id': '82008f80-8430-4e45-a446-e1c8ecf266f1',\n",
       " 'owner_id': '65124b18-8382-49af-b3c8-ada3b9df3330',\n",
       " 'status': 'packaging'}"
      ]
     },
     "metadata": {},
     "output_type": "display_data"
    },
    {
     "data": {
      "text/plain": [
       "{'id': 'a74bb333-e4bf-495d-b500-fc5d1146ba2b',\n",
       " 'name': 'apiorchestrationsample_001',\n",
       " 'created_at': '2024-04-17T16:00:33.935691+00:00',\n",
       " 'workspace_id': 33,\n",
       " 'sha': 'd3b93c9f280734106376e684792aa8b4285d527092fe87d89c74ec804f8e169e',\n",
       " 'file_name': 'api_inference_orchestration.zip',\n",
       " 'task_id': '82008f80-8430-4e45-a446-e1c8ecf266f1',\n",
       " 'owner_id': '65124b18-8382-49af-b3c8-ada3b9df3330',\n",
       " 'status': 'packaging'}"
      ]
     },
     "metadata": {},
     "output_type": "display_data"
    },
    {
     "data": {
      "text/plain": [
       "{'id': 'a74bb333-e4bf-495d-b500-fc5d1146ba2b',\n",
       " 'name': 'apiorchestrationsample_001',\n",
       " 'created_at': '2024-04-17T16:00:33.935691+00:00',\n",
       " 'workspace_id': 33,\n",
       " 'sha': 'd3b93c9f280734106376e684792aa8b4285d527092fe87d89c74ec804f8e169e',\n",
       " 'file_name': 'api_inference_orchestration.zip',\n",
       " 'task_id': '82008f80-8430-4e45-a446-e1c8ecf266f1',\n",
       " 'owner_id': '65124b18-8382-49af-b3c8-ada3b9df3330',\n",
       " 'status': 'ready'}"
      ]
     },
     "metadata": {},
     "output_type": "display_data"
    }
   ],
   "source": [
    "# retrieve the authorization token\n",
    "headers = wl.auth.auth_header()\n",
    "\n",
    "url = f\"{wl.api_endpoint}/v1/api/orchestration/get_by_id\"\n",
    "\n",
    "data = {\n",
    "    'id': orchestration_id\n",
    "}\n",
    "\n",
    "# loop until status is ready\n",
    "status = None\n",
    "\n",
    "while status != 'ready':\n",
    "    response=requests.post(url, headers=headers, json=data).json()\n",
    "    display(response)\n",
    "    status = response['status']\n",
    "    time.sleep(10)\n",
    "\n",
    "orchestration_sha = response['sha']"
   ]
  },
  {
   "attachments": {},
   "cell_type": "markdown",
   "id": "bf028e54",
   "metadata": {},
   "source": [
    "## Task Management Tutorial\n",
    "\n",
    "Once an Orchestration has the status `ready`, it can be run as a task.  Tasks have three run options.\n",
    "\n",
    "| Type | SDK Call |  How triggered |\n",
    "|---|---|:---|\n",
    "| Once       | `orchestration.run_once(name, json_args, timeout)` | Task runs once and exits.| Single batch, experimentation. |\n",
    "| Scheduled  | `orchestration.run_scheduled(name, schedule, timeout, json_args)` | User provides schedule. Task runs exits whenever schedule dictates. | Recurrent batch. |"
   ]
  },
  {
   "attachments": {},
   "cell_type": "markdown",
   "id": "de1423fb",
   "metadata": {},
   "source": [
    "\n",
    "### Run Task Once via API\n",
    "\n",
    "We'll do both a Run Once task and generate our Run Once Task from our orchestration.  Orchestrations are started as a run once task with the following request:\n",
    "\n",
    "* **REQUEST**\n",
    "  * POST `/v1/api/orchestration/task/run_once`\n",
    "* **PARAMETERS**\n",
    "  * **name** (*String* *Required*): The name to assign to the task.\n",
    "  * **workspace_id** (*Integer* *Required*):  The numerical identifier of the workspace associated with the orchestration.\n",
    "  * **orch_id**(*String* *Required*):  The orchestration ID represented by a UUID.\n",
    "  * **json**(*Dict* *Required*):  The parameters to pass to the task.\n",
    "\n",
    "Tasks are generated and run once with the Orchestration `run_once` method.  Any arguments for the orchestration are passed in as a `Dict`.  If there are no arguments, then an empty set `{}` is passed."
   ]
  },
  {
   "cell_type": "code",
   "execution_count": 36,
   "id": "b5cf9203",
   "metadata": {},
   "outputs": [
    {
     "data": {
      "text/plain": [
       "{'id': 'f2c1e08a-1c33-4d24-87d3-c64cdd5610eb'}"
      ]
     },
     "metadata": {},
     "output_type": "display_data"
    }
   ],
   "source": [
    "# retrieve the authorization token\n",
    "headers = wl.auth.auth_header()\n",
    "\n",
    "data = {\n",
    "    \"name\": \"api run once task\",\n",
    "    \"workspace_id\": workspace_id,\n",
    "    \"orch_id\": orchestration_id,\n",
    "    \"json\": {\n",
    "        \"workspace_name\": workspace_name,\n",
    "        \"pipeline_name\": pipeline_name\n",
    "    }\n",
    "}\n",
    "\n",
    "import datetime\n",
    "task_start = datetime.datetime.now()\n",
    "\n",
    "url=f\"{wl.api_endpoint}/v1/api/task/run_once\"\n",
    "\n",
    "response=requests.post(url, headers=headers, json=data).json()\n",
    "display(response)\n",
    "task_id = response['id']"
   ]
  },
  {
   "attachments": {},
   "cell_type": "markdown",
   "id": "0dcbc1d4",
   "metadata": {},
   "source": [
    "### Task Status via API\n",
    "\n",
    "The list of tasks in the Wallaroo instance is retrieves through the Wallaroo MLOPs API request:\n",
    "\n",
    "* **REQUEST**\n",
    "  * POST `/v1/api/task/get_by_id`\n",
    "* **PARAMETERS**\n",
    "  * **task**:  The numerical identifier of the workspace associated with the orchestration.\n",
    "  * **orch_id**:  The orchestration ID represented by a UUID.\n",
    "  * **json**:  The parameters to pass to the task.\n",
    "\n",
    "For this example, the status of the previously created task will be generated, then looped until it has reached status `started`."
   ]
  },
  {
   "cell_type": "code",
   "execution_count": 39,
   "id": "d070781e",
   "metadata": {},
   "outputs": [
    {
     "data": {
      "text/plain": [
       "{'name': 'api run once task',\n",
       " 'id': 'c868aa44-f7fe-4e3d-b11d-e1e6af3ec150',\n",
       " 'image': 'proxy.replicated.com/proxy/wallaroo/ghcr.io/wallaroolabs/arbex-orch-deploy',\n",
       " 'image_tag': 'v2023.2.0-main-3271',\n",
       " 'bind_secrets': ['minio'],\n",
       " 'extra_env_vars': {'MINIO_URL': 'http://minio.wallaroo.svc.cluster.local:9000',\n",
       "  'ORCH_OWNER_ID': 'a6857628-b0aa-451e-a0a0-bbc1d6eea6e0',\n",
       "  'ORCH_SHA': 'd3b93c9f280734106376e684792aa8b4285d527092fe87d89c74ec804f8e169e',\n",
       "  'TASK_DEBUG': 'false',\n",
       "  'TASK_ID': 'c868aa44-f7fe-4e3d-b11d-e1e6af3ec150'},\n",
       " 'auth_init': True,\n",
       " 'workspace_id': 8,\n",
       " 'flavor': 'exec_orch_oneshot',\n",
       " 'reap_threshold_secs': 900,\n",
       " 'exec_type': 'job',\n",
       " 'status': 'pending',\n",
       " 'input_data': {'pipeline_name': 'apipipelinegsze',\n",
       "  'workspace_name': 'apiorchestrationworkspacegsze'},\n",
       " 'killed': False,\n",
       " 'created_at': '2023-05-22T21:08:31.099447+00:00',\n",
       " 'updated_at': '2023-05-22T21:08:31.105312+00:00',\n",
       " 'last_runs': []}"
      ]
     },
     "metadata": {},
     "output_type": "display_data"
    },
    {
     "data": {
      "text/plain": [
       "{'name': 'api run once task',\n",
       " 'id': 'c868aa44-f7fe-4e3d-b11d-e1e6af3ec150',\n",
       " 'image': 'proxy.replicated.com/proxy/wallaroo/ghcr.io/wallaroolabs/arbex-orch-deploy',\n",
       " 'image_tag': 'v2023.2.0-main-3271',\n",
       " 'bind_secrets': ['minio'],\n",
       " 'extra_env_vars': {'MINIO_URL': 'http://minio.wallaroo.svc.cluster.local:9000',\n",
       "  'ORCH_OWNER_ID': 'a6857628-b0aa-451e-a0a0-bbc1d6eea6e0',\n",
       "  'ORCH_SHA': 'd3b93c9f280734106376e684792aa8b4285d527092fe87d89c74ec804f8e169e',\n",
       "  'TASK_DEBUG': 'false',\n",
       "  'TASK_ID': 'c868aa44-f7fe-4e3d-b11d-e1e6af3ec150'},\n",
       " 'auth_init': True,\n",
       " 'workspace_id': 8,\n",
       " 'flavor': 'exec_orch_oneshot',\n",
       " 'reap_threshold_secs': 900,\n",
       " 'exec_type': 'job',\n",
       " 'status': 'started',\n",
       " 'input_data': {'pipeline_name': 'apipipelinegsze',\n",
       "  'workspace_name': 'apiorchestrationworkspacegsze'},\n",
       " 'killed': False,\n",
       " 'created_at': '2023-05-22T21:08:31.099447+00:00',\n",
       " 'updated_at': '2023-05-22T21:08:36.585775+00:00',\n",
       " 'last_runs': [{'run_id': '96a7f85f-e30c-40b5-9185-0dee5bd1a15e',\n",
       "   'status': 'running',\n",
       "   'created_at': '2023-05-22T21:08:33.112805+00:00',\n",
       "   'updated_at': '2023-05-22T21:08:33.112805+00:00'}]}"
      ]
     },
     "metadata": {},
     "output_type": "display_data"
    }
   ],
   "source": [
    "# retrieve the authorization token\n",
    "headers = wl.auth.auth_header()\n",
    "\n",
    "url=f\"{wl.api_endpoint}/v1/api/task/get_by_id\"\n",
    "\n",
    "data = {\n",
    "    \"id\": task_id\n",
    "}\n",
    "\n",
    "status = None\n",
    "\n",
    "while status != 'started':\n",
    "    response=requests.post(url, headers=headers, json=data).json()\n",
    "    display(response)\n",
    "    status = response['status']\n",
    "    time.sleep(10)"
   ]
  },
  {
   "attachments": {},
   "cell_type": "markdown",
   "id": "7bd6a79a",
   "metadata": {},
   "source": [
    "### Task Results\n",
    "\n",
    "We can view the inferences from our logs and verify that new entries were added from our task.  In our case, we'll assume the task once started takes about 1 minute to run (deploy the pipeline, run the inference, undeploy the pipeline).  We'll add in a wait of 1 minute, then display the logs during the time period the task was running."
   ]
  },
  {
   "cell_type": "code",
   "execution_count": 37,
   "id": "818b5f3d",
   "metadata": {},
   "outputs": [
    {
     "data": {
      "text/plain": [
       "datetime.datetime(2024, 4, 17, 10, 3, 9, 493952)"
      ]
     },
     "metadata": {},
     "output_type": "display_data"
    },
    {
     "data": {
      "text/html": [
       "<div>\n",
       "<style scoped>\n",
       "    .dataframe tbody tr th:only-of-type {\n",
       "        vertical-align: middle;\n",
       "    }\n",
       "\n",
       "    .dataframe tbody tr th {\n",
       "        vertical-align: top;\n",
       "    }\n",
       "\n",
       "    .dataframe thead th {\n",
       "        text-align: right;\n",
       "    }\n",
       "</style>\n",
       "<table border=\"1\" class=\"dataframe\">\n",
       "  <thead>\n",
       "    <tr style=\"text-align: right;\">\n",
       "      <th></th>\n",
       "      <th>time</th>\n",
       "      <th>in.tensor</th>\n",
       "      <th>out.variable</th>\n",
       "      <th>anomaly.count</th>\n",
       "    </tr>\n",
       "  </thead>\n",
       "  <tbody>\n",
       "    <tr>\n",
       "      <th>0</th>\n",
       "      <td>2024-04-17 16:02:42.943</td>\n",
       "      <td>[4.0, 2.5, 2900.0, 5505.0, 2.0, 0.0, 0.0, 3.0, 8.0, 2900.0, 0.0, 47.6063, -122.02, 2970.0, 5251.0, 12.0, 0.0, 0.0]</td>\n",
       "      <td>[718013.7]</td>\n",
       "      <td>0</td>\n",
       "    </tr>\n",
       "  </tbody>\n",
       "</table>\n",
       "</div>"
      ],
      "text/plain": [
       "                     time  \\\n",
       "0 2024-04-17 16:02:42.943   \n",
       "\n",
       "                                                                                                            in.tensor  \\\n",
       "0  [4.0, 2.5, 2900.0, 5505.0, 2.0, 0.0, 0.0, 3.0, 8.0, 2900.0, 0.0, 47.6063, -122.02, 2970.0, 5251.0, 12.0, 0.0, 0.0]   \n",
       "\n",
       "  out.variable  anomaly.count  \n",
       "0   [718013.7]              0  "
      ]
     },
     "execution_count": 37,
     "metadata": {},
     "output_type": "execute_result"
    }
   ],
   "source": [
    "time.sleep(30)\n",
    "\n",
    "task_end = datetime.datetime.now()\n",
    "display(task_end)\n",
    "\n",
    "pipeline.logs(start_datetime = task_start, end_datetime = task_end)"
   ]
  },
  {
   "attachments": {},
   "cell_type": "markdown",
   "id": "97fbd394-1d68-42e3-9465-ba57beb79b45",
   "metadata": {},
   "source": [
    "### Get Tasks by Orchestration SHA\n",
    "\n",
    "Tasks tied to the same orchestration are retrieved through the following request.\n",
    "\n",
    "* **REQUEST**\n",
    "  * POST `/v1/api/task/get_tasks_by_orch_sha`\n",
    "* **PARAMETERS**\n",
    "  * **sha**:  The orchestrations SHA hash.\n",
    "* **RETURNS**\n",
    "  * `ids`: List[string] List of tasks by UUID."
   ]
  },
  {
   "cell_type": "code",
   "execution_count": 38,
   "id": "71797575-5cad-414f-b4f0-da217c94cd6e",
   "metadata": {},
   "outputs": [
    {
     "data": {
      "text/plain": [
       "{'ids': ['f2c1e08a-1c33-4d24-87d3-c64cdd5610eb']}"
      ]
     },
     "metadata": {},
     "output_type": "display_data"
    }
   ],
   "source": [
    "# retrieve the authorization token\n",
    "headers = wl.auth.auth_header()\n",
    "\n",
    "url=f\"{wl.api_endpoint}/v1/api/task/get_tasks_by_orch_sha\"\n",
    "\n",
    "data = {\n",
    "    \"sha\": orchestration_sha\n",
    "}\n",
    "\n",
    "response=requests.post(url, headers=headers, json=data).json()\n",
    "display(response)"
   ]
  },
  {
   "attachments": {},
   "cell_type": "markdown",
   "id": "1535d789-a75f-4655-a040-7bb34106127f",
   "metadata": {},
   "source": [
    "### Task Last Runs History\n",
    "\n",
    "The history of a task, which each deployment of the task is known as a **task run** is retrieved with the Task `last_runs` method that takes the following arguments.  It returns the reverse chronological order of tasks runs listed by `updated_at`.\n",
    "\n",
    "* **REQUEST**\n",
    "  * POST `/v1/api/task/list_task_runs`\n",
    "* **PARAMETERS**\n",
    "  * **task_id**:  The numerical identifier of the task.\n",
    "  * **status**:  Filters the task history by the `status`.  If `all`, returns all statuses.  Status values are: \n",
    "    * `running`: The task has started.\n",
    "    * `failure`: The task failed.\n",
    "    * `success`: The task completed.\n",
    "  * **limit**:  The number of tasks runs to display.\n",
    "* **RETURNS**\n",
    "  * ids: List of task runs ids in UUID.\n"
   ]
  },
  {
   "cell_type": "code",
   "execution_count": 39,
   "id": "b4e29e21-d807-4656-a18b-b33ae0d9613f",
   "metadata": {},
   "outputs": [
    {
     "data": {
      "text/plain": [
       "[{'task': 'f2c1e08a-1c33-4d24-87d3-c64cdd5610eb',\n",
       "  'run_id': '4ac28b96-005c-4ae4-a288-707c419401aa',\n",
       "  'status': 'success',\n",
       "  'created_at': '2024-04-17T16:02:34.45439+00:00',\n",
       "  'updated_at': '2024-04-17T16:02:34.45439+00:00'}]"
      ]
     },
     "metadata": {},
     "output_type": "display_data"
    }
   ],
   "source": [
    "# retrieve the authorization token\n",
    "headers = wl.auth.auth_header()\n",
    "\n",
    "url=f\"{wl.api_endpoint}/v1/api/task/list_task_runs\"\n",
    "\n",
    "data = {\n",
    "    \"task_id\": task_id\n",
    "}\n",
    "\n",
    "response=requests.post(url, headers=headers, json=data).json()\n",
    "task_run_id = response[0]['run_id']\n",
    "display(response)"
   ]
  },
  {
   "attachments": {},
   "cell_type": "markdown",
   "id": "3f0b5848-175e-472a-a604-4b4d01d87a7c",
   "metadata": {},
   "source": [
    "### Get Task Run Logs\n",
    "\n",
    "Logs for a task run are retrieved through the following process. \n",
    "\n",
    "* **REQUEST**\n",
    "  * POST `/v1/api/task/get_logs_for_run`\n",
    "* **PARAMETERS**\n",
    "  * **id**:  The numerical identifier of the task run associated with the orchestration.\n",
    "  * **lines**:  The number of log lines to retrieve starting from the end of the log.\n",
    "* **RETURNS**\n",
    "  * **logs**: Array of log entries."
   ]
  },
  {
   "cell_type": "code",
   "execution_count": 40,
   "id": "de50e0c2-9b8b-4398-be27-e576c6c67614",
   "metadata": {},
   "outputs": [
    {
     "data": {
      "text/plain": [
       "{'logs': [\"2024-04-17T16:03:19.756251122Z stdout F {'pipeline_name': 'apipipeline', 'workspace_name': 'apiorchestrationworkspace'}\",\n",
       "  '2024-04-17T16:03:19.756440433Z stdout F Getting the workspace apiorchestrationworkspace',\n",
       "  '2024-04-17T16:03:19.756451353Z stdout F Getting the pipeline apipipeline',\n",
       "  '2024-04-17T16:03:19.756458473Z stdout F Deploying the pipeline.',\n",
       "  '2024-04-17T16:03:19.756463673Z stdout F Performing sample inference.',\n",
       "  '2024-04-17T16:03:19.756473662Z stdout F                      time  ... anomaly.count',\n",
       "  '2024-04-17T16:03:19.756486613Z stdout F ',\n",
       "  '2024-04-17T16:03:19.756481193Z stdout F 0 2024-04-17 16:02:42.943  ...             0',\n",
       "  '2024-04-17T16:03:19.756491122Z stdout F [1 rows x 4 columns]',\n",
       "  '2024-04-17T16:03:19.756495402Z stdout F Undeploying the pipeline']}"
      ]
     },
     "metadata": {},
     "output_type": "display_data"
    }
   ],
   "source": [
    "# retrieve the authorization token\n",
    "headers = wl.auth.auth_header()\n",
    "\n",
    "url=f\"{wl.api_endpoint}/v1/api/task/get_logs_for_run\"\n",
    "\n",
    "data = {\n",
    "    \"id\": task_run_id\n",
    "}\n",
    "\n",
    "response=requests.post(url, headers=headers, json=data).json()\n",
    "display(response)"
   ]
  },
  {
   "attachments": {},
   "cell_type": "markdown",
   "id": "346d44cc",
   "metadata": {},
   "source": [
    "### Run Task Scheduled via API\n",
    "\n",
    "The other method of using tasks is as a **scheduled run** through the Orchestration `run_scheduled(name, schedule, timeout, json_args)`.  This sets up a task to run on an regular schedule as defined by the `schedule` parameter in the `cron` service format.  For example:\n",
    "\n",
    "```python\n",
    "schedule={'42 * * * *'}\n",
    "```\n",
    "\n",
    "Runs on the 42nd minute of every hour.\n",
    "\n",
    "The following schedule runs every day at 12 noon from February 1 to February 15 2024 - and then ends.\n",
    "\n",
    "```python\n",
    "schedule={'0 0 12 1-15 2 2024'}\n",
    "```\n",
    "\n",
    "The Run Scheduled Task request is available at the following address:\n",
    "\n",
    "`/v1/api/task/run_scheduled`\n",
    "\n",
    "And takes the following parameters.\n",
    "\n",
    "* **name** (*String* *Required*): The name to assign to the task.\n",
    "* **orch_id** (*String* *Required*): The UUID orchestration ID to create the task from.\n",
    "* **workspace_id**  (*Integer* *Required*):  The numberical identifier for the workspace.\n",
    "* **schedule** (*String* *Required*): The schedule as a single string in `cron` format.\n",
    "* **timeout**(*Integer* *Optional*):  The timeout to complete the task in seconds.\n",
    "* **json** (*String* *Required*): The arguments to pass to the task.\n",
    "\n",
    "For our example, we will create a scheduled task to run every 5 minutes, display the inference results, then use the Orchestration `kill` task to keep the task from running any further.\n",
    "\n",
    "It is recommended that orchestrations that have pipeline deploy or undeploy commands be spaced out no less than 5 minutes to prevent colliding with other tasks that use the same pipeline."
   ]
  },
  {
   "cell_type": "code",
   "execution_count": 41,
   "id": "a06c12ec",
   "metadata": {},
   "outputs": [
    {
     "data": {
      "text/plain": [
       "{'id': '168f6d90-2861-4896-85b4-53ffa26f09fc'}"
      ]
     },
     "metadata": {},
     "output_type": "display_data"
    }
   ],
   "source": [
    "# retrieve the authorization token\n",
    "headers = wl.auth.auth_header()\n",
    "\n",
    "data = {\n",
    "    \"name\": \"scheduled api task\",\n",
    "    \"workspace_id\": workspace_id,\n",
    "    \"orch_id\": orchestration_id,\n",
    "    \"schedule\": \"*/5 * * * *\",\n",
    "    \"json\": {\n",
    "        \"workspace_name\": workspace_name,\n",
    "        \"pipeline_name\": pipeline_name\n",
    "    }\n",
    "}\n",
    "\n",
    "import datetime\n",
    "task_start = datetime.datetime.now()\n",
    "\n",
    "url=f\"{wl.api_endpoint}/v1/api/task/run_scheduled\"\n",
    "\n",
    "response=requests.post(url, headers=headers, json=data).json()\n",
    "display(response)\n",
    "scheduled_task_id = response['id']"
   ]
  },
  {
   "cell_type": "code",
   "execution_count": 42,
   "id": "c2f4f7eb",
   "metadata": {},
   "outputs": [
    {
     "data": {
      "text/plain": [
       "{'id': '168f6d90-2861-4896-85b4-53ffa26f09fc',\n",
       " 'name': 'scheduled api task',\n",
       " 'run_type': 'CronJob',\n",
       " 'image': 'proxy.replicated.com/proxy/wallaroo/ghcr.io/wallaroolabs/arbex-orch-deploy',\n",
       " 'image_tag': 'v2024.1.0-main-4921',\n",
       " 'arch': 'x86',\n",
       " 'bind_secrets': ['minio'],\n",
       " 'extra_env_vars': {'MINIO_URL': 'http://minio.wallaroo.svc.cluster.local:9000',\n",
       "  'ORCH_ID': 'a74bb333-e4bf-495d-b500-fc5d1146ba2b',\n",
       "  'ORCH_OWNER_ID': '65124b18-8382-49af-b3c8-ada3b9df3330',\n",
       "  'ORCH_SHA': 'd3b93c9f280734106376e684792aa8b4285d527092fe87d89c74ec804f8e169e',\n",
       "  'TASK_DEBUG': 'false',\n",
       "  'TASK_ID': '168f6d90-2861-4896-85b4-53ffa26f09fc'},\n",
       " 'auth_init': True,\n",
       " 'workspace_id': 33,\n",
       " 'schedule': '*/5 * * * *',\n",
       " 'reap_threshold_secs': 900,\n",
       " 'ns_prefix': None,\n",
       " 'status': 'started',\n",
       " 'input_data': {'pipeline_name': 'apipipeline',\n",
       "  'workspace_name': 'apiorchestrationworkspace'},\n",
       " 'killed': False,\n",
       " 'created_at': '2024-04-17T16:03:50.202818+00:00',\n",
       " 'updated_at': '2024-04-17T16:03:52.006625+00:00',\n",
       " 'last_runs': []}"
      ]
     },
     "metadata": {},
     "output_type": "display_data"
    }
   ],
   "source": [
    "# loop until the task is started\n",
    "\n",
    "# retrieve the authorization token\n",
    "headers = wl.auth.auth_header()\n",
    "\n",
    "url=f\"{wl.api_endpoint}/v1/api/task/get_by_id\"\n",
    "\n",
    "data = {\n",
    "    \"id\": scheduled_task_id\n",
    "}\n",
    "\n",
    "status = None\n",
    "\n",
    "while status != 'started':\n",
    "    response=requests.post(url, headers=headers, json=data).json()\n",
    "    display(response)\n",
    "    status = response['status']\n",
    "    time.sleep(10)"
   ]
  },
  {
   "cell_type": "code",
   "execution_count": 44,
   "id": "b7bf971a-27a2-4afc-87b8-31b1c3895c7f",
   "metadata": {},
   "outputs": [
    {
     "data": {
      "text/plain": [
       "[{'task': '168f6d90-2861-4896-85b4-53ffa26f09fc',\n",
       "  'run_id': '085070a1-9ece-4f85-87bf-17675de64655',\n",
       "  'status': 'running',\n",
       "  'created_at': '2024-04-17T16:05:01.670602+00:00',\n",
       "  'updated_at': '2024-04-17T16:05:01.670602+00:00'}]"
      ]
     },
     "metadata": {},
     "output_type": "display_data"
    }
   ],
   "source": [
    "# retrieve the authorization token\n",
    "headers = wl.auth.auth_header()\n",
    "\n",
    "url=f\"{wl.api_endpoint}/v1/api/task/list_task_runs\"\n",
    "\n",
    "data = {\n",
    "    \"task_id\": scheduled_task_id\n",
    "}\n",
    "\n",
    "# loop until we have a single run task\n",
    "length = 0\n",
    "while length == 0:\n",
    "    response=requests.post(url, headers=headers, json=data).json()\n",
    "    display(response)\n",
    "    length = len(response)\n",
    "    time.sleep(60)\n",
    "task_run_id = response[0]['run_id']"
   ]
  },
  {
   "cell_type": "code",
   "execution_count": 45,
   "id": "7a6eefc5-cc0a-49b8-b1b6-22651f36abd6",
   "metadata": {},
   "outputs": [
    {
     "data": {
      "text/plain": [
       "{'logs': [\"2024-04-17T16:06:06.469755892Z stdout F {'pipeline_name': 'apipipeline', 'workspace_name': 'apiorchestrationworkspace'}\",\n",
       "  '2024-04-17T16:06:06.469876442Z stdout F Getting the workspace apiorchestrationworkspace',\n",
       "  '2024-04-17T16:06:06.469886242Z stdout F Getting the pipeline apipipeline',\n",
       "  '2024-04-17T16:06:06.469890692Z stdout F Deploying the pipeline.',\n",
       "  '2024-04-17T16:06:06.469893762Z stdout F Performing sample inference.',\n",
       "  '2024-04-17T16:06:06.469896982Z stdout F                      time  ... anomaly.count',\n",
       "  '2024-04-17T16:06:06.469903512Z stdout F ',\n",
       "  '2024-04-17T16:06:06.469906612Z stdout F [1 rows x 4 columns]',\n",
       "  '2024-04-17T16:06:06.469900582Z stdout F 0 2024-04-17 16:05:28.132  ...             0',\n",
       "  '2024-04-17T16:06:06.469910382Z stdout F Undeploying the pipeline']}"
      ]
     },
     "metadata": {},
     "output_type": "display_data"
    }
   ],
   "source": [
    "# retrieve the authorization token\n",
    "headers = wl.auth.auth_header()\n",
    "\n",
    "url=f\"{wl.api_endpoint}/v1/api/task/get_logs_for_run\"\n",
    "\n",
    "data = {\n",
    "    \"id\": task_run_id\n",
    "}\n",
    "\n",
    "# loop until we get a log\n",
    "response=requests.post(url, headers=headers, json=data).json()\n",
    "display(response)"
   ]
  },
  {
   "attachments": {},
   "cell_type": "markdown",
   "id": "58207f04",
   "metadata": {},
   "source": [
    "## Cleanup\n",
    "\n",
    "With the tutorial complete, we can undeploy the pipeline and return the resources back to the Wallaroo instance."
   ]
  },
  {
   "attachments": {},
   "cell_type": "markdown",
   "id": "b53defd1",
   "metadata": {},
   "source": [
    "### Kill Task via API\n",
    "\n",
    "Started tasks are killed through the following request:\n",
    "\n",
    "`/v1/api/task/kill`\n",
    "\n",
    "And takes the following parameters.\n",
    "\n",
    "* **orch_id** (*String* *Required*): The UUID orchestration ID to create the task from."
   ]
  },
  {
   "cell_type": "code",
   "execution_count": 46,
   "id": "f234ae6f",
   "metadata": {},
   "outputs": [
    {
     "data": {
      "text/plain": [
       "{'id': '168f6d90-2861-4896-85b4-53ffa26f09fc',\n",
       " 'name': 'scheduled api task',\n",
       " 'run_type': 'CronJob',\n",
       " 'image': 'proxy.replicated.com/proxy/wallaroo/ghcr.io/wallaroolabs/arbex-orch-deploy',\n",
       " 'image_tag': 'v2024.1.0-main-4921',\n",
       " 'arch': 'x86',\n",
       " 'bind_secrets': ['minio'],\n",
       " 'extra_env_vars': {'MINIO_URL': 'http://minio.wallaroo.svc.cluster.local:9000',\n",
       "  'ORCH_ID': 'a74bb333-e4bf-495d-b500-fc5d1146ba2b',\n",
       "  'ORCH_OWNER_ID': '65124b18-8382-49af-b3c8-ada3b9df3330',\n",
       "  'ORCH_SHA': 'd3b93c9f280734106376e684792aa8b4285d527092fe87d89c74ec804f8e169e',\n",
       "  'TASK_DEBUG': 'false',\n",
       "  'TASK_ID': '168f6d90-2861-4896-85b4-53ffa26f09fc'},\n",
       " 'auth_init': True,\n",
       " 'workspace_id': 33,\n",
       " 'schedule': '*/5 * * * *',\n",
       " 'reap_threshold_secs': 900,\n",
       " 'ns_prefix': None,\n",
       " 'status': 'pending_kill',\n",
       " 'input_data': {'pipeline_name': 'apipipeline',\n",
       "  'workspace_name': 'apiorchestrationworkspace'},\n",
       " 'killed': False,\n",
       " 'created_at': '2024-04-17T16:03:50.202818+00:00',\n",
       " 'updated_at': '2024-04-17T16:03:52.006625+00:00',\n",
       " 'last_runs': [{'run_id': '085070a1-9ece-4f85-87bf-17675de64655',\n",
       "   'status': 'success',\n",
       "   'created_at': '2024-04-17T16:05:01.670602+00:00',\n",
       "   'updated_at': '2024-04-17T16:05:01.670602+00:00'}]}"
      ]
     },
     "metadata": {},
     "output_type": "display_data"
    }
   ],
   "source": [
    "# retrieve the authorization token\n",
    "headers = wl.auth.auth_header()\n",
    "\n",
    "url=f\"{wl.api_endpoint}/v1/api/task/kill\"\n",
    "\n",
    "data = {\n",
    "    \"id\": scheduled_task_id\n",
    "}\n",
    "\n",
    "response=requests.post(url, headers=headers, json=data).json()\n",
    "display(response)"
   ]
  },
  {
   "attachments": {},
   "cell_type": "markdown",
   "id": "f33d5d02",
   "metadata": {},
   "source": [
    "## Close Resources\n",
    "\n",
    "With the tutorial complete, we'll verify the pipeline is closed so the resources are assigned back to the Wallaroo instance."
   ]
  },
  {
   "cell_type": "code",
   "execution_count": 47,
   "id": "bb96a086",
   "metadata": {},
   "outputs": [
    {
     "data": {
      "text/html": [
       "<table><tr><th>name</th> <td>apipipeline</td></tr><tr><th>created</th> <td>2024-04-17 15:24:07.339055+00:00</td></tr><tr><th>last_updated</th> <td>2024-04-17 16:00:16.674235+00:00</td></tr><tr><th>deployed</th> <td>False</td></tr><tr><th>arch</th> <td>x86</td></tr><tr><th>accel</th> <td>none</td></tr><tr><th>tags</th> <td></td></tr><tr><th>versions</th> <td>37c27029-bf45-4f3b-b14b-65e722752ad5, fb5e3da5-bbe5-49ef-845f-118f9ea06a87, a5dff8e6-168a-48be-a2ef-a2daf7d440de, f5d3e376-0cdc-43ca-a77b-11d92ed71033</td></tr><tr><th>steps</th> <td>apiorchestrationmodel</td></tr><tr><th>published</th> <td>False</td></tr></table>"
      ],
      "text/plain": [
       "{'name': 'apipipeline', 'create_time': datetime.datetime(2024, 4, 17, 15, 24, 7, 339055, tzinfo=tzutc()), 'definition': \"[{'ModelInference': {'models': [{'name': 'apiorchestrationmodel', 'version': '446f7a1f-5e31-43f5-a4d2-122c6e920fbf', 'sha': 'e22a0831aafd9917f3cc87a15ed267797f80e2afa12ad7d8810ca58f173b8cc6'}]}}]\"}"
      ]
     },
     "execution_count": 47,
     "metadata": {},
     "output_type": "execute_result"
    }
   ],
   "source": [
    "pipeline.undeploy()"
   ]
  }
 ],
 "metadata": {
  "kernelspec": {
   "display_name": "wallaroosdk.2024.1",
   "language": "python",
   "name": "wallaroosdk.2024.1"
  },
  "language_info": {
   "codemirror_mode": {
    "name": "ipython",
    "version": 3
   },
   "file_extension": ".py",
   "mimetype": "text/x-python",
   "name": "python",
   "nbconvert_exporter": "python",
   "pygments_lexer": "ipython3",
   "version": "3.8.19"
  }
 },
 "nbformat": 4,
 "nbformat_minor": 5
}
