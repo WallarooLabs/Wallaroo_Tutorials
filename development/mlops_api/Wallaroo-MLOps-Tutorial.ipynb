{
 "cells": [
  {
   "attachments": {},
   "cell_type": "markdown",
   "id": "2e523b51-d933-4774-9dd7-317a7d183489",
   "metadata": {},
   "source": [
    "This tutorial and the assets are available as part of the [Wallaroo Tutorials repository](https://github.com/WallarooLabs/Wallaroo_Tutorials/tree/main/development/mlops_api).\n",
    "\n",
    "## Wallaroo MLOps API Tutorial\n",
    "\n",
    "The Wallaroo MLOps API allows organizations to submit requests to their Wallaroo instance to perform such actions as:\n",
    "\n",
    "* Create a new user and invite them to the instance.\n",
    "* Create workspaces and list their configuration details.\n",
    "* Upload a model.\n",
    "* Deploy and undeploy a pipeline.\n",
    "\n",
    "The following examples will show how to submit queries to the Wallaroo MLOps API and the types of responses returned.\n",
    "\n",
    "### References\n",
    "\n",
    "The following references are available for more information about Wallaroo and the Wallaroo MLOps API:\n",
    "\n",
    "* [Wallaroo Documentation Site](https://docs.wallaroo.ai):  The Wallaroo Documentation Site\n",
    "* Wallaroo MLOps API Documentation from a Wallaroo instance:  A Swagger UI based documentation is available from your Wallaroo instance at `https://{Wallaroo Prefix}.api.{Wallaroo Suffix}/v1/api/docs`.  For example, if the Wallaroo Instance is YOUR SUFFIX with the prefix `{lovely-rhino-5555}`, then the Wallaroo MLOps API Documentation would be available at `https://lovely-rhino-5555.api.example.wallaroo.ai/v1/api/docs`.  For another example, a Wallaroo Enterprise users who do not use a prefix and has the suffix `wallaroo.example.wallaroo.ai`, the the Wallaroo MLOps API Documentation would be available at `https://api.wallaroo.example.wallaroo.ai/v1/api/docs`.  For more information, see the [Wallaroo Documentation Site](https://docs.wallaroo.ai).\n",
    "\n",
    "**IMPORTANT NOTE**:  The Wallaroo MLOps API is provided as an early access features.  Future iterations may adjust the methods and returns to provide a better user experience.  Please refer to this guide for updates.\n",
    "\n",
    "## Prerequisites\n",
    "\n",
    "* An installed Wallaroo instance.\n",
    "* The following Python libraries installed:\n",
    "  * `requests`\n",
    "  * `json`\n",
    "  * [`wallaroo`](https://pypi.org/project/wallaroo/): The Wallaroo SDK. Included with the Wallaroo JupyterHub service by default."
   ]
  },
  {
   "cell_type": "markdown",
   "id": "de7a7d6e-579c-4d78-a72a-eeca1eb2ceee",
   "metadata": {},
   "source": [
    "## OpenAPI Steps\n",
    "\n",
    "The following demonstrates how to use each command in the Wallaroo MLOps API, and can be modified as best fits your organization's needs."
   ]
  },
  {
   "attachments": {},
   "cell_type": "markdown",
   "id": "51ebe37c-5e4f-49fa-8716-d83cea80d078",
   "metadata": {},
   "source": [
    "### Import Libraries\n",
    "\n",
    "For the examples, the Python `requests` library will be used to make the REST HTTP(S) connections."
   ]
  },
  {
   "cell_type": "code",
   "execution_count": 41,
   "id": "b5bea68b-4137-44c6-b16c-30c8248572c5",
   "metadata": {},
   "outputs": [],
   "source": [
    "# Requires requests and requests-toolbelt with either:\n",
    "# pip install requests-toolbelt\n",
    "# conda install -c conda-forge requests-toolbelt\n",
    "\n",
    "import requests\n",
    "import json\n",
    "from requests.auth import HTTPBasicAuth"
   ]
  },
  {
   "attachments": {},
   "cell_type": "markdown",
   "id": "58579428",
   "metadata": {},
   "source": [
    "## Retrieve Credentials\n",
    "\n",
    "### Through Keycloak\n",
    "\n",
    "Wallaroo comes pre-installed with a confidential OpenID Connect client.  The default client is `api-client`, but other clients may be created and configured.\n",
    "\n",
    "As it is a confidential client, api-client requires its secret to be supplied when requesting a token. Administrators may obtain their API client credentials from Keycloak from the Keycloak Service URL as listed above and the prefix `/auth/admin/master/console/#/realms/master/clients`.\n",
    "\n",
    "For example, if the YOUR SUFFIX instance DNS address is `https://magical-rhino-5555.example.wallaroo.ai`, then the direct path to the Keycloak API client credentials would be:\n",
    "\n",
    "`https://magical-rhino-5555.keycloak.example.wallaroo.ai/auth/admin/master/console/#/realms/master/clients`\n",
    "\n",
    "Then select the client, in this case **api-client**, then **Credentials**.\n",
    "\n",
    "![Wallaroo Keycloak Service](./images/wallaroo-developer-guides/wallaroo-api/wallaroo-api-keycloak-service.png)\n",
    "\n",
    "![Wallaroo Components](./images/wallaroo-developer-guides/wallaroo-api/wallaroo-api-keycloak-credentials.png)\n",
    "\n",
    "By default, tokens issued for api-client are valid for up to 60 minutes. Refresh tokens are supported.\n",
    "\n",
    "### Through the Wallaroo SDK\n",
    "\n",
    "The API token is retrieved using the [Wallaroo SDK](https://docs.wallaroo.ai/wallaroo-developer-guides/wallaroo-sdk-guides/wallaroo-sdk-install-guide) through the `wallaroo.client.mlops()` command. In the following example, the token will be retrieved and stored to the variable `TOKEN`:\n",
    "\n",
    "```python\n",
    "connection =wl.mlops().__dict__\n",
    "TOKEN = connection['token']\n",
    "print(TOKEN)\n",
    "'eyJhbGciOiJSUzI1NiIsInR5cCIgOiAiSldUIiwia2lkIiA6ICJnTHBSY1B6QkhjQ1k1RTFHTVZoTlQtelI0VDY2YUM0QWh2eXVORmpVOTBjIn0.eyJleHAiOjE2NzEwMzMzMzUsImlhdCI6MTY3MTAzMzI3NSwiYXV0aF90aW1lIjoxNjcxMDMyODgyLCJqdGkiOiJiNDk3YmM3Yy1kMTc5LTRhYWQtODdmZC0yZGJiYTBlZDI4ZDYiLCJpc3MiOiJodHRwczovL21hZ2ljYWwtYmVhci0zNzgyLmtleWNsb2FrLndhbGxhcm9vLmNvbW11bml0eS9hdXRoL3JlYWxtcy9tYXN0ZXIiLCJhdWQiOlsibWFzdGVyLXJlYWxtIiwiYWNjb3VudCJdLCJzdWIiOiJmMWYzMmJkZi05YmQ5LTQ1OTUtYTUzMS1hY2E1Nzc4Y2VhZjAiLCJ0eXAiOiJCZWFyZXIiLCJhenAiOiJzZGstY2xpZW50Iiwic2Vzc2lvbl9zdGF0ZSI6IjYzYzNiZjYwLTNmNjMtNDBjNC05NmI1LWNiYTk4ZjZhOGNmNyIsImFjciI6IjEiLCJyZWFsbV9hY2Nlc3MiOnsicm9sZXMiOlsiY3JlYXRlLXJlYWxtIiwiZGVmYXVsdC1yb2xlcy1tYXN0ZXIiLCJvZmZsaW5lX2FjY2VzcyIsImFkbWluIiwidW1hX2F1dGhvcml6YXRpb24iXX0sInJlc291cmNlX2FjY2VzcyI6eyJtYXN0ZXItcmVhbG0iOnsicm9sZXMiOlsidmlldy1pZGVudGl0eS1wcm92aWRlcnMiLCJ2aWV3LXJlYWxtIiwibWFuYWdlLWlkZW50aXR5LXByb3ZpZGVycyIsImltcGVyc29uYXRpb24iLCJjcmVhdGUtY2xpZW50IiwibWFuYWdlLXVzZXJzIiwicXVlcnktcmVhbG1zIiwidmlldy1hdXRob3JpemF0aW9uIiwicXVlcnktY2xpZW50cyIsInF1ZXJ5LXVzZXJzIiwibWFuYWdlLWV2ZW50cyIsIm1hbmFnZS1yZWFsbSIsInZpZXctZXZlbnRzIiwidmlldy11c2VycyIsInZpZXctY2xpZW50cyIsIm1hbmFnZS1hdXRob3JpemF0aW9uIiwibWFuYWdlLWNsaWVudHMiLCJxdWVyeS1ncm91cHMiXX0sImFjY291bnQiOnsicm9sZXMiOlsibWFuYWdlLWFjY291bnQiLCJtYW5hZ2UtYWNjb3VudC1saW5rcyIsInZpZXctcHJvZmlsZSJdfX0sInNjb3BlIjoiZW1haWwgcHJvZmlsZSIsInNpZCI6IjYzYzNiZjYwLTNmNjMtNDBjNC05NmI1LWNiYTk4ZjZhOGNmNyIsImVtYWlsX3ZlcmlmaWVkIjp0cnVlLCJodHRwczovL2hhc3VyYS5pby9qd3QvY2xhaW1zIjp7IngtaGFzdXJhLXVzZXItaWQiOiJmMWYzMmJkZi05YmQ5LTQ1OTUtYTUzMS1hY2E1Nzc4Y2VhZjAiLCJ4LWhhc3VyYS1kZWZhdWx0LXJvbGUiOiJ1c2VyIiwieC1oYXN1cmEtYWxsb3dlZC1yb2xlcyI6WyJ1c2VyIl0sIngtaGFzdXJhLXVzZXItZ3JvdXBzIjoie30ifSwicHJlZmVycmVkX3VzZXJuYW1lIjoiam9obi5oYW5zYXJpY2tAd2FsbGFyb28uYWkiLCJlbWFpbCI6ImpvaG4uaGFuc2FyaWNrQHdhbGxhcm9vLmFpIn0.EEt9UK1jxvO1DYg_hiy1ne4s9iK8mJtqbVfE7MPQfMRYhzXqDU4gFpP3Nwzlo0iW9fSLDiCxPg303Rz-l4it3oPFu5SaS1S8pQpqvtMAJqy8V_CNPp5H5ggQFYm4Z50aAPdPzOOOkVQOZUhupRsEeUERvK1-eFqtG1bb-IUV6DpQO_XaRVcQbIVubFi48C0_im5Tb3i4WFCNA_1pRrEBKFbZLWgzSCu8fglBQ27mODqfmRQVbTeXLjxsQX5O8meErSfibEGmsJKQytGCJ3NYdnXfal3YhWEqp6A4dG0tkoRW1eD-aKBpsHf9nKKzxcSsjeXDQF6iQAONCGmC40oqHQ'\n",
    "```"
   ]
  },
  {
   "attachments": {},
   "cell_type": "markdown",
   "id": "b49322a1-e63a-4fe4-a3f8-b0597eb1cc5d",
   "metadata": {},
   "source": [
    "### Set Variables\n",
    "\n",
    "The following variables are used for the example and should be modified to fit your organization."
   ]
  },
  {
   "cell_type": "code",
   "execution_count": 10,
   "id": "96f02d3e-3290-4e15-9596-00b73529ecdb",
   "metadata": {},
   "outputs": [],
   "source": [
    "## Variables\n",
    "\n",
    "URLPREFIX='YOURPREFIX'\n",
    "URLSUFFIX='YOURSUFFIX'\n",
    "SECRET=\"YOUR SECRET\"\n",
    "TOKENURL=f'https://{URLPREFIX}.keycloak.{URLSUFFIX}/auth/realms/master/protocol/openid-connect/token'\n",
    "CLIENT=\"api-client\"\n",
    "USERNAME=\"YOUR EMAIL\"\n",
    "PASSWORD=\"YOUR PASSWORD\"\n",
    "APIURL=f\"https://{URLPREFIX}.api.{URLSUFFIX}/v1/api\"\n",
    "newUser=\"NEW USER EMAIL\"\n",
    "newPassword=\"NEW USER PASSWORD\""
   ]
  },
  {
   "cell_type": "markdown",
   "id": "658317a8-868e-4726-963c-0ee989fe052e",
   "metadata": {},
   "source": [
    "The following is an output of the `TOKENURL` variable to verify it matches your Wallaroo instance's Keycloak API client credentials URL."
   ]
  },
  {
   "cell_type": "code",
   "execution_count": null,
   "id": "9db6e319-c66a-4e6a-a6ae-87eeceaef59e",
   "metadata": {},
   "outputs": [],
   "source": [
    "TOKENURL"
   ]
  },
  {
   "cell_type": "markdown",
   "id": "8593a5df-438a-4d13-a466-d0b3ff8f2f8c",
   "metadata": {},
   "source": [
    "### API Example Methods\n",
    "\n",
    "The following methods are used to retrieve the MLOPs API Token from the Wallaroo instance's Keycloak service, and submit MLOps API requests through the Wallaroo instance's MLOps API.\n",
    "\n",
    "MLOps API requests are always `POST`, and are either submitted as `'Content-Type':'application/json'` or as a multipart submission including a file."
   ]
  },
  {
   "cell_type": "code",
   "execution_count": 12,
   "id": "4d12b478-b250-4a02-8c56-1a27b59a0386",
   "metadata": {},
   "outputs": [],
   "source": [
    "def get_jwt_token(url, client, secret, username, password):\n",
    "    auth = HTTPBasicAuth(client, secret)\n",
    "    data = {\n",
    "        'grant_type': 'password',\n",
    "        'username': username,\n",
    "        'password': password\n",
    "    }\n",
    "    response = requests.post(url, auth=auth, data=data, verify=True)\n",
    "    return response.json()['access_token']\n",
    "\n",
    "\n",
    "# This can either submit a plain POST request ('Content-Type':'application/json'), or with a file.\n",
    "\n",
    "def get_wallaroo_response(url, api_request, token, data, files=None, contentType='application/json', params=None):\n",
    "    apiUrl=f\"{url}{api_request}\"\n",
    "    if files is None:\n",
    "        # Regular POST request\n",
    "        headers= {\n",
    "            'Authorization': 'Bearer ' + token,\n",
    "            'Content-Type':contentType\n",
    "        }\n",
    "        response = requests.post(apiUrl, json=data, headers=headers, verify=True)\n",
    "    elif contentType == 'application/octet-stream':\n",
    "        # Post request as octet-stream\n",
    "        headers= {\n",
    "            'Authorization': 'Bearer ' + token,\n",
    "            'Content-Type':contentType\n",
    "        }\n",
    "        response = requests.post(apiUrl, data=files, headers=headers, params=params)\n",
    "        #response = requests.post(apiUrl, data=data, headers=headers, files=files, verify=True)\n",
    "    else:\n",
    "        # POST request with file\n",
    "        headers= {\n",
    "            'Authorization': 'Bearer ' + token\n",
    "        }\n",
    "        response = requests.post(apiUrl, data=data, headers=headers, files=files, verify=True)\n",
    "    return response.json()\n"
   ]
  },
  {
   "cell_type": "markdown",
   "id": "f10d09d9-9094-4a0c-b5cd-b94293253f8f",
   "metadata": {},
   "source": [
    "### Retrieve MLOps API Token\n",
    "\n",
    "To retrieve an API token for a specific user with the Client Secret, request the token from the Wallaroo instance using the client secret and provide the following:\n",
    "\n",
    "* Token Request URL: The Keycloak token retrieval URL.\n",
    "* OpenID Connect client name: The name of the OpenID Connect client.\n",
    "* OpenID Connect client Secret:  The secret for the OpenID Connect client.\n",
    "* UserName:  The username of the Wallaroo instance user, usually their email address.\n",
    "* Password:  The password of the Wallaroo instance user.\n",
    "\n",
    "The following sample uses the variables set above to request the token, then displays it."
   ]
  },
  {
   "cell_type": "code",
   "execution_count": 13,
   "id": "0efb96a8-9e15-4078-b58d-6fa12c14dfb9",
   "metadata": {},
   "outputs": [],
   "source": [
    "TOKEN=get_jwt_token(TOKENURL, CLIENT, SECRET, USERNAME, PASSWORD)"
   ]
  },
  {
   "cell_type": "code",
   "execution_count": 14,
   "id": "e1f0f0fa-88a1-4ed2-b65e-4042f7fdf634",
   "metadata": {},
   "outputs": [
    {
     "data": {
      "text/plain": [
       "'eyJhbGciOiJSUzI1NiIsInR5cCIgOiAiSldUIiwia2lkIiA6ICJKaDZyX3BKUGhheVhSSlc0U1F3ckc0QUEwUmkyMHNBMTNxYmNhTVJ1d1hrIn0.eyJleHAiOjE2Nzc3ODk4MzEsImlhdCI6MTY3Nzc4NjIzMSwianRpIjoiMjg1MTU1NmItZjhkNC00OWZkLWJjMjEtOGFlNDI2OTJiM2FiIiwiaXNzIjoiaHR0cHM6Ly9kb2MtdGVzdC5rZXljbG9hay53YWxsYXJvb2NvbW11bml0eS5uaW5qYS9hdXRoL3JlYWxtcy9tYXN0ZXIiLCJhdWQiOlsibWFzdGVyLXJlYWxtIiwiYWNjb3VudCJdLCJzdWIiOiJjYTdkNzA0My04ZTk0LTQyZDUtOWYzYS04ZjU1YzJlNDI4MTQiLCJ0eXAiOiJCZWFyZXIiLCJhenAiOiJhcGktY2xpZW50Iiwic2Vzc2lvbl9zdGF0ZSI6IjFiNTEyOTZiLTMwNjAtNGUwYy1hZDMwLTNhYjczYmNiMDYzNyIsImFjciI6IjEiLCJhbGxvd2VkLW9yaWdpbnMiOlsiKiJdLCJyZWFsbV9hY2Nlc3MiOnsicm9sZXMiOlsiZGVmYXVsdC1yb2xlcy1tYXN0ZXIiLCJvZmZsaW5lX2FjY2VzcyIsInVtYV9hdXRob3JpemF0aW9uIl19LCJyZXNvdXJjZV9hY2Nlc3MiOnsibWFzdGVyLXJlYWxtIjp7InJvbGVzIjpbIm1hbmFnZS11c2VycyIsInZpZXctdXNlcnMiLCJxdWVyeS1ncm91cHMiLCJxdWVyeS11c2VycyJdfSwiYWNjb3VudCI6eyJyb2xlcyI6WyJtYW5hZ2UtYWNjb3VudCIsIm1hbmFnZS1hY2NvdW50LWxpbmtzIiwidmlldy1wcm9maWxlIl19fSwic2NvcGUiOiJwcm9maWxlIGVtYWlsIiwic2lkIjoiMWI1MTI5NmItMzA2MC00ZTBjLWFkMzAtM2FiNzNiY2IwNjM3IiwiZW1haWxfdmVyaWZpZWQiOmZhbHNlLCJodHRwczovL2hhc3VyYS5pby9qd3QvY2xhaW1zIjp7IngtaGFzdXJhLXVzZXItaWQiOiJjYTdkNzA0My04ZTk0LTQyZDUtOWYzYS04ZjU1YzJlNDI4MTQiLCJ4LWhhc3VyYS1kZWZhdWx0LXJvbGUiOiJ1c2VyIiwieC1oYXN1cmEtYWxsb3dlZC1yb2xlcyI6WyJ1c2VyIl0sIngtaGFzdXJhLXVzZXItZ3JvdXBzIjoie30ifSwibmFtZSI6IkpvaG4gSGFuc2FyaWNrIiwicHJlZmVycmVkX3VzZXJuYW1lIjoiam9obi5odW1tZWxAd2FsbGFyb28uYWkiLCJnaXZlbl9uYW1lIjoiSm9obiIsImZhbWlseV9uYW1lIjoiSGFuc2FyaWNrIiwiZW1haWwiOiJqb2huLmh1bW1lbEB3YWxsYXJvby5haSJ9.Qxhsu1lbhWpVZyUjKLqsr47j-ybjVB28jEXPcyb8m4NlzYDSfWHH2Wc7i1RMLV4IUe4td8ujPQJjkan2zatoHhSNqWYwEziwgFwIcP-uYqDcBhIIkNIu3Shw8f9FxAt3UtEc0twTXNED4ak2cfTs9nNwF2v_ZRcKMsrWObAfm2Iuly2tKuu6TlK_3Nbi6DTip4rXTO5AavIhjqKZn7ofuJ-NhOBh9s9gZPIZpWQ-klk-zeM7mzzulD8THBTCITvEpmMSJf9qI24-QXQWhpRFEpmUh8gy6GkQs1lEcjvt8NzLP5mf9L7fmgQZCgvETLwuA9dmp7BPYS_G3pamDGqDoA'"
      ]
     },
     "execution_count": 14,
     "metadata": {},
     "output_type": "execute_result"
    }
   ],
   "source": [
    "TOKEN"
   ]
  },
  {
   "cell_type": "markdown",
   "id": "a38d7358-b108-4f6b-b10d-e5855e26f87e",
   "metadata": {},
   "source": [
    "## Users\n",
    "\n",
    "### Get Users\n",
    "\n",
    "Users can be retrieved either by their Keycloak user id, or return all users if an empty set `{}` is submitted.\n",
    "\n",
    "* **Parameters**\n",
    "  * `{}`: Empty set, returns all users.\n",
    "  * **user_ids** *Array[Keycloak user ids]*: An array of Keycloak user ids, typically in UUID format.\n",
    "\n",
    "Example:  The first example will submit an empty set `{}` to return all users, then submit the first user's user id and request only that user's details."
   ]
  },
  {
   "cell_type": "code",
   "execution_count": 15,
   "id": "033e35b3-0e80-400c-8b79-da6ddcc6afe8",
   "metadata": {},
   "outputs": [
    {
     "data": {
      "text/plain": [
       "{'users': {'9727c4a8-d6fc-4aad-894f-9ee69801d2dd': {'access': {'manageGroupMembership': True,\n",
       "    'impersonate': False,\n",
       "    'view': True,\n",
       "    'mapRoles': True,\n",
       "    'manage': True},\n",
       "   'createdTimestamp': 1677704075554,\n",
       "   'disableableCredentialTypes': [],\n",
       "   'emailVerified': False,\n",
       "   'enabled': True,\n",
       "   'id': '9727c4a8-d6fc-4aad-894f-9ee69801d2dd',\n",
       "   'notBefore': 0,\n",
       "   'requiredActions': [],\n",
       "   'username': 'admin'},\n",
       "  'ca7d7043-8e94-42d5-9f3a-8f55c2e42814': {'access': {'impersonate': False,\n",
       "    'manage': True,\n",
       "    'mapRoles': True,\n",
       "    'manageGroupMembership': True,\n",
       "    'view': True},\n",
       "   'createdTimestamp': 1677704179667,\n",
       "   'disableableCredentialTypes': [],\n",
       "   'email': 'john.hummel@wallaroo.ai',\n",
       "   'emailVerified': False,\n",
       "   'enabled': True,\n",
       "   'firstName': 'John',\n",
       "   'id': 'ca7d7043-8e94-42d5-9f3a-8f55c2e42814',\n",
       "   'lastName': 'Hansarick',\n",
       "   'notBefore': 0,\n",
       "   'requiredActions': [],\n",
       "   'username': 'john.hummel@wallaroo.ai'}}}"
      ]
     },
     "execution_count": 15,
     "metadata": {},
     "output_type": "execute_result"
    }
   ],
   "source": [
    "# Get all users\n",
    "\n",
    "TOKEN=get_jwt_token(TOKENURL, CLIENT, SECRET, USERNAME, PASSWORD)\n",
    "\n",
    "apiRequest = \"/users/query\"\n",
    "data = {\n",
    "}\n",
    "\n",
    "response = get_wallaroo_response(APIURL, apiRequest, TOKEN, data)\n",
    "response"
   ]
  },
  {
   "cell_type": "code",
   "execution_count": 16,
   "id": "7655f019-894c-46af-9059-765e4bec6bf4",
   "metadata": {},
   "outputs": [
    {
     "data": {
      "text/plain": [
       "{'users': {'ca7d7043-8e94-42d5-9f3a-8f55c2e42814': {'access': {'impersonate': False,\n",
       "    'view': True,\n",
       "    'mapRoles': True,\n",
       "    'manage': True,\n",
       "    'manageGroupMembership': True},\n",
       "   'createdTimestamp': 1677704179667,\n",
       "   'disableableCredentialTypes': [],\n",
       "   'email': 'john.hummel@wallaroo.ai',\n",
       "   'emailVerified': False,\n",
       "   'enabled': True,\n",
       "   'federatedIdentities': [{'identityProvider': 'google',\n",
       "     'userId': '117610299312093432527',\n",
       "     'userName': 'john.hummel@wallaroo.ai'}],\n",
       "   'firstName': 'John',\n",
       "   'id': 'ca7d7043-8e94-42d5-9f3a-8f55c2e42814',\n",
       "   'lastName': 'Hansarick',\n",
       "   'notBefore': 0,\n",
       "   'requiredActions': [],\n",
       "   'username': 'john.hummel@wallaroo.ai'}}}"
      ]
     },
     "execution_count": 16,
     "metadata": {},
     "output_type": "execute_result"
    }
   ],
   "source": [
    "# Get first user Keycloak id\n",
    "TOKEN=get_jwt_token(TOKENURL, CLIENT, SECRET, USERNAME, PASSWORD)\n",
    "firstUserKeycloak = list(response['users'])[1]\n",
    "\n",
    "apiRequest = \"/users/query\"\n",
    "data = {\n",
    "  \"user_ids\": [\n",
    "    firstUserKeycloak\n",
    "  ]\n",
    "}\n",
    "\n",
    "response = get_wallaroo_response(APIURL, apiRequest, TOKEN, data)\n",
    "response"
   ]
  },
  {
   "attachments": {},
   "cell_type": "markdown",
   "id": "9f7c0489-d1b2-4539-aa93-c23a5950c87c",
   "metadata": {},
   "source": [
    "### Invite Users\n",
    "\n",
    "**IMPORTANT NOTE**:  This command is for YOUR SUFFIX only.  For more details on user management, see [Wallaroo User Management](https://docs.wallaroo.ai/wallaroo-operations-guide/wallaroo-user-management/).\n",
    "\n",
    "Users are invited through `/users/invite`.  When using YOUR SUFFIX, this will send an invitation email to the email address listed.  Note that the user must not already be a member of the Wallaroo instance, and email addresses must be unique.  If the email address is already in use for another user, the request will generate an error.\n",
    "\n",
    "* **Parameters**\n",
    "  * **email** *(REQUIRED string): The email address of the new user to invite.\n",
    "  * **password** *(OPTIONAL string)*: The assigned password of the new user to invite.  If not provided, the Wallaroo instance will provide the new user a temporary password that must be changed upon initial login.\n",
    "\n",
    "Example:  In this example, a new user will be invited to the Wallaroo instance and assigned a password."
   ]
  },
  {
   "cell_type": "code",
   "execution_count": null,
   "id": "946e6189-58b0-4df0-8798-8886f7c9ce77",
   "metadata": {},
   "outputs": [],
   "source": [
    "# invite users\n",
    "TOKEN=get_jwt_token(TOKENURL, CLIENT, SECRET, USERNAME, PASSWORD)\n",
    "apiRequest = \"/users/invite\"\n",
    "data = {\n",
    "    \"email\": newUser,\n",
    "    \"password\":newPassword\n",
    "}\n",
    "\n",
    "response = get_wallaroo_response(APIURL, apiRequest, TOKEN, data)\n",
    "response"
   ]
  },
  {
   "cell_type": "markdown",
   "id": "f019f4a7-fbf2-4dcd-a73f-bb6160fadfc1",
   "metadata": {},
   "source": [
    "### Deactivate User\n",
    "\n",
    "Users can be deactivated so they can not login to their Wallaroo instance.  Deactivated users do not count against the Wallaroo license count.\n",
    "\n",
    "* **Parameters**\n",
    "  * **email** (*REQUIRED string*):  The email address of the user to deactivate.\n",
    "\n",
    "Example:  In this example, the `newUser` will be deactivated."
   ]
  },
  {
   "cell_type": "code",
   "execution_count": null,
   "id": "320d7d7c-4ad9-408b-a663-9e162096e2d3",
   "metadata": {},
   "outputs": [],
   "source": [
    "# Deactivate users\n",
    "TOKEN=get_jwt_token(TOKENURL, CLIENT, SECRET, USERNAME, PASSWORD)\n",
    "apiRequest = \"/users/deactivate\"\n",
    "\n",
    "data = {\n",
    "    \"email\": newUser\n",
    "}"
   ]
  },
  {
   "cell_type": "code",
   "execution_count": null,
   "id": "6b512ced-8e44-4b42-9a0e-2fc0a52fcd4b",
   "metadata": {},
   "outputs": [],
   "source": [
    "response = get_wallaroo_response(APIURL, apiRequest, TOKEN, data)\n",
    "response"
   ]
  },
  {
   "attachments": {},
   "cell_type": "markdown",
   "id": "b0072579-58ab-4758-bed0-da62dd67630c",
   "metadata": {},
   "source": [
    "### Activate User\n",
    "\n",
    "A deactivated user can be reactivated to allow them access to their Wallaroo instance.  Activated users count against the Wallaroo license count.\n",
    "\n",
    "* **Parameters**\n",
    "  * **email** (*REQUIRED string*):  The email address of the user to activate.\n",
    "\n",
    "Example:  In this example, the `newUser` will be activated."
   ]
  },
  {
   "cell_type": "code",
   "execution_count": null,
   "id": "94259866-4f96-4f7f-8cc8-e7b712169f69",
   "metadata": {},
   "outputs": [],
   "source": [
    "# Activate users\n",
    "TOKEN=get_jwt_token(TOKENURL, CLIENT, SECRET, USERNAME, PASSWORD)\n",
    "apiRequest = \"/users/activate\"\n",
    "\n",
    "data = {\n",
    "    \"email\": newUser\n",
    "}\n",
    "\n",
    "response = get_wallaroo_response(APIURL, apiRequest, TOKEN, data)\n",
    "response"
   ]
  },
  {
   "cell_type": "markdown",
   "id": "6fcf4618-609a-4cf9-9d3c-b05cf679916a",
   "metadata": {},
   "source": [
    "## Workspaces\n",
    "\n",
    "### List Workspaces\n",
    "\n",
    "List the workspaces for a specific user.\n",
    "\n",
    "* **Parameters**\n",
    "  * **user_id** - (*OPTIONAL string*): The Keycloak ID.\n",
    "  \n",
    "Example:  In this example, the workspaces for the a specific user will be displayed, then workspaces for all users will be displayed."
   ]
  },
  {
   "cell_type": "code",
   "execution_count": 17,
   "id": "e43d9b80-936e-4c6d-912d-f68dc6a0b545",
   "metadata": {},
   "outputs": [
    {
     "data": {
      "text/plain": [
       "{'workspaces': [{'id': 1,\n",
       "   'name': 'john.hummel@wallaroo.ai - Default Workspace',\n",
       "   'created_at': '2023-03-01T20:56:22.658436+00:00',\n",
       "   'created_by': 'ca7d7043-8e94-42d5-9f3a-8f55c2e42814',\n",
       "   'archived': False,\n",
       "   'models': [],\n",
       "   'pipelines': []},\n",
       "  {'id': 4,\n",
       "   'name': 'anomalyexampletest3',\n",
       "   'created_at': '2023-03-01T20:56:32.632146+00:00',\n",
       "   'created_by': 'ca7d7043-8e94-42d5-9f3a-8f55c2e42814',\n",
       "   'archived': False,\n",
       "   'models': [1],\n",
       "   'pipelines': [1]},\n",
       "  {'id': 5,\n",
       "   'name': 'ccfraudcomparisondemo',\n",
       "   'created_at': '2023-03-01T21:02:40.955593+00:00',\n",
       "   'created_by': 'ca7d7043-8e94-42d5-9f3a-8f55c2e42814',\n",
       "   'archived': False,\n",
       "   'models': [2, 3, 4],\n",
       "   'pipelines': [3]},\n",
       "  {'id': 6,\n",
       "   'name': 'rlhxccfraudworkspace',\n",
       "   'created_at': '2023-03-01T21:30:28.848609+00:00',\n",
       "   'created_by': 'ca7d7043-8e94-42d5-9f3a-8f55c2e42814',\n",
       "   'archived': False,\n",
       "   'models': [5],\n",
       "   'pipelines': [5]},\n",
       "  {'id': 7,\n",
       "   'name': 'mlflowstatsmodelworkspace',\n",
       "   'created_at': '2023-03-02T18:06:42.074341+00:00',\n",
       "   'created_by': 'ca7d7043-8e94-42d5-9f3a-8f55c2e42814',\n",
       "   'archived': False,\n",
       "   'models': [6, 7],\n",
       "   'pipelines': [8]},\n",
       "  {'id': 8,\n",
       "   'name': 'mobilenetworkspace',\n",
       "   'created_at': '2023-03-02T18:24:27.304478+00:00',\n",
       "   'created_by': 'ca7d7043-8e94-42d5-9f3a-8f55c2e42814',\n",
       "   'archived': False,\n",
       "   'models': [8, 9],\n",
       "   'pipelines': [10]},\n",
       "  {'id': 9,\n",
       "   'name': 'mobilenetworkspacetest',\n",
       "   'created_at': '2023-03-02T19:21:36.309503+00:00',\n",
       "   'created_by': 'ca7d7043-8e94-42d5-9f3a-8f55c2e42814',\n",
       "   'archived': False,\n",
       "   'models': [10, 12],\n",
       "   'pipelines': [13]},\n",
       "  {'id': 10,\n",
       "   'name': 'resnetworkspace',\n",
       "   'created_at': '2023-03-02T19:22:28.371499+00:00',\n",
       "   'created_by': 'ca7d7043-8e94-42d5-9f3a-8f55c2e42814',\n",
       "   'archived': False,\n",
       "   'models': [11],\n",
       "   'pipelines': [14]},\n",
       "  {'id': 11,\n",
       "   'name': 'resnetworkspacetest',\n",
       "   'created_at': '2023-03-02T19:35:30.236438+00:00',\n",
       "   'created_by': 'ca7d7043-8e94-42d5-9f3a-8f55c2e42814',\n",
       "   'archived': False,\n",
       "   'models': [13],\n",
       "   'pipelines': [18]},\n",
       "  {'id': 12,\n",
       "   'name': 'shadowimageworkspacetest',\n",
       "   'created_at': '2023-03-02T19:37:23.348346+00:00',\n",
       "   'created_by': 'ca7d7043-8e94-42d5-9f3a-8f55c2e42814',\n",
       "   'archived': False,\n",
       "   'models': [14, 15],\n",
       "   'pipelines': [20]}]}"
      ]
     },
     "execution_count": 17,
     "metadata": {},
     "output_type": "execute_result"
    }
   ],
   "source": [
    "# List workspaces by user id\n",
    "TOKEN=get_jwt_token(TOKENURL, CLIENT, SECRET, USERNAME, PASSWORD)\n",
    "apiRequest = \"/workspaces/list\"\n",
    "\n",
    "data = {\n",
    "    \"user_id\":firstUserKeycloak\n",
    "}\n",
    "\n",
    "response = get_wallaroo_response(APIURL, apiRequest, TOKEN, data)\n",
    "response"
   ]
  },
  {
   "cell_type": "code",
   "execution_count": 18,
   "id": "d3f5ecd9-0a0e-4506-96bc-13a497be0688",
   "metadata": {},
   "outputs": [
    {
     "data": {
      "text/plain": [
       "{'workspaces': [{'id': 1,\n",
       "   'name': 'john.hummel@wallaroo.ai - Default Workspace',\n",
       "   'created_at': '2023-03-01T20:56:22.658436+00:00',\n",
       "   'created_by': 'ca7d7043-8e94-42d5-9f3a-8f55c2e42814',\n",
       "   'archived': False,\n",
       "   'models': [],\n",
       "   'pipelines': []},\n",
       "  {'id': 4,\n",
       "   'name': 'anomalyexampletest3',\n",
       "   'created_at': '2023-03-01T20:56:32.632146+00:00',\n",
       "   'created_by': 'ca7d7043-8e94-42d5-9f3a-8f55c2e42814',\n",
       "   'archived': False,\n",
       "   'models': [1],\n",
       "   'pipelines': [1]},\n",
       "  {'id': 5,\n",
       "   'name': 'ccfraudcomparisondemo',\n",
       "   'created_at': '2023-03-01T21:02:40.955593+00:00',\n",
       "   'created_by': 'ca7d7043-8e94-42d5-9f3a-8f55c2e42814',\n",
       "   'archived': False,\n",
       "   'models': [2, 3, 4],\n",
       "   'pipelines': [3]},\n",
       "  {'id': 6,\n",
       "   'name': 'rlhxccfraudworkspace',\n",
       "   'created_at': '2023-03-01T21:30:28.848609+00:00',\n",
       "   'created_by': 'ca7d7043-8e94-42d5-9f3a-8f55c2e42814',\n",
       "   'archived': False,\n",
       "   'models': [5],\n",
       "   'pipelines': [5]},\n",
       "  {'id': 7,\n",
       "   'name': 'mlflowstatsmodelworkspace',\n",
       "   'created_at': '2023-03-02T18:06:42.074341+00:00',\n",
       "   'created_by': 'ca7d7043-8e94-42d5-9f3a-8f55c2e42814',\n",
       "   'archived': False,\n",
       "   'models': [6, 7],\n",
       "   'pipelines': [8]},\n",
       "  {'id': 8,\n",
       "   'name': 'mobilenetworkspace',\n",
       "   'created_at': '2023-03-02T18:24:27.304478+00:00',\n",
       "   'created_by': 'ca7d7043-8e94-42d5-9f3a-8f55c2e42814',\n",
       "   'archived': False,\n",
       "   'models': [8, 9],\n",
       "   'pipelines': [10]},\n",
       "  {'id': 9,\n",
       "   'name': 'mobilenetworkspacetest',\n",
       "   'created_at': '2023-03-02T19:21:36.309503+00:00',\n",
       "   'created_by': 'ca7d7043-8e94-42d5-9f3a-8f55c2e42814',\n",
       "   'archived': False,\n",
       "   'models': [10, 12],\n",
       "   'pipelines': [13]},\n",
       "  {'id': 10,\n",
       "   'name': 'resnetworkspace',\n",
       "   'created_at': '2023-03-02T19:22:28.371499+00:00',\n",
       "   'created_by': 'ca7d7043-8e94-42d5-9f3a-8f55c2e42814',\n",
       "   'archived': False,\n",
       "   'models': [11],\n",
       "   'pipelines': [14]},\n",
       "  {'id': 11,\n",
       "   'name': 'resnetworkspacetest',\n",
       "   'created_at': '2023-03-02T19:35:30.236438+00:00',\n",
       "   'created_by': 'ca7d7043-8e94-42d5-9f3a-8f55c2e42814',\n",
       "   'archived': False,\n",
       "   'models': [13],\n",
       "   'pipelines': [18]},\n",
       "  {'id': 12,\n",
       "   'name': 'shadowimageworkspacetest',\n",
       "   'created_at': '2023-03-02T19:37:23.348346+00:00',\n",
       "   'created_by': 'ca7d7043-8e94-42d5-9f3a-8f55c2e42814',\n",
       "   'archived': False,\n",
       "   'models': [14, 15],\n",
       "   'pipelines': [20]}]}"
      ]
     },
     "execution_count": 18,
     "metadata": {},
     "output_type": "execute_result"
    }
   ],
   "source": [
    "# List workspaces\n",
    "TOKEN=get_jwt_token(TOKENURL, CLIENT, SECRET, USERNAME, PASSWORD)\n",
    "apiRequest = \"/workspaces/list\"\n",
    "\n",
    "data = {\n",
    "}\n",
    "\n",
    "response = get_wallaroo_response(APIURL, apiRequest, TOKEN, data)\n",
    "response"
   ]
  },
  {
   "attachments": {},
   "cell_type": "markdown",
   "id": "571cffc9-5932-406b-99c3-f7bf01dd56bb",
   "metadata": {},
   "source": [
    "### Create Workspace\n",
    "\n",
    "A new workspace will be created in the Wallaroo instance.  Upon creating, the workspace owner will be assigned as the user making the MLOps API request.\n",
    "\n",
    "* **Parameters**:\n",
    "  * **workspace_name** - (*REQUIRED string*):  The name of the new workspace.\n",
    "* **Returns**:\n",
    "  * **workspace_id** - (*int*):  The ID of the new workspace.\n",
    "  \n",
    "Example:  In this example, a workspace with the name `testapiworkspace` will be created, and the newly created workspace's `workspace_id` saved as the variable `exampleWorkspaceId` for use in other code examples.  After the request is complete, the [List Workspaces](#list-workspaces) command will be issued to demonstrate the new workspace has been created."
   ]
  },
  {
   "cell_type": "code",
   "execution_count": 19,
   "id": "8fac2fd6-b7fa-43c4-9bf8-84692eec7871",
   "metadata": {},
   "outputs": [
    {
     "data": {
      "text/plain": [
       "{'workspace_id': 13}"
      ]
     },
     "execution_count": 19,
     "metadata": {},
     "output_type": "execute_result"
    }
   ],
   "source": [
    "# Create workspace\n",
    "TOKEN=get_jwt_token(TOKENURL, CLIENT, SECRET, USERNAME, PASSWORD)\n",
    "apiRequest = \"/workspaces/create\"\n",
    "\n",
    "exampleWorkspaceName = \"testapiworkspace\"\n",
    "\n",
    "data = {\n",
    "  \"workspace_name\": exampleWorkspaceName\n",
    "}\n",
    "\n",
    "response = get_wallaroo_response(APIURL, apiRequest, TOKEN, data)\n",
    "# Stored for future examples\n",
    "exampleWorkspaceId = response['workspace_id']\n",
    "response"
   ]
  },
  {
   "cell_type": "code",
   "execution_count": 20,
   "id": "d4820b9f",
   "metadata": {},
   "outputs": [
    {
     "data": {
      "text/plain": [
       "{'workspaces': [{'id': 1,\n",
       "   'name': 'john.hummel@wallaroo.ai - Default Workspace',\n",
       "   'created_at': '2023-03-01T20:56:22.658436+00:00',\n",
       "   'created_by': 'ca7d7043-8e94-42d5-9f3a-8f55c2e42814',\n",
       "   'archived': False,\n",
       "   'models': [],\n",
       "   'pipelines': []},\n",
       "  {'id': 4,\n",
       "   'name': 'anomalyexampletest3',\n",
       "   'created_at': '2023-03-01T20:56:32.632146+00:00',\n",
       "   'created_by': 'ca7d7043-8e94-42d5-9f3a-8f55c2e42814',\n",
       "   'archived': False,\n",
       "   'models': [1],\n",
       "   'pipelines': [1]},\n",
       "  {'id': 5,\n",
       "   'name': 'ccfraudcomparisondemo',\n",
       "   'created_at': '2023-03-01T21:02:40.955593+00:00',\n",
       "   'created_by': 'ca7d7043-8e94-42d5-9f3a-8f55c2e42814',\n",
       "   'archived': False,\n",
       "   'models': [2, 3, 4],\n",
       "   'pipelines': [3]},\n",
       "  {'id': 6,\n",
       "   'name': 'rlhxccfraudworkspace',\n",
       "   'created_at': '2023-03-01T21:30:28.848609+00:00',\n",
       "   'created_by': 'ca7d7043-8e94-42d5-9f3a-8f55c2e42814',\n",
       "   'archived': False,\n",
       "   'models': [5],\n",
       "   'pipelines': [5]},\n",
       "  {'id': 7,\n",
       "   'name': 'mlflowstatsmodelworkspace',\n",
       "   'created_at': '2023-03-02T18:06:42.074341+00:00',\n",
       "   'created_by': 'ca7d7043-8e94-42d5-9f3a-8f55c2e42814',\n",
       "   'archived': False,\n",
       "   'models': [6, 7],\n",
       "   'pipelines': [8]},\n",
       "  {'id': 8,\n",
       "   'name': 'mobilenetworkspace',\n",
       "   'created_at': '2023-03-02T18:24:27.304478+00:00',\n",
       "   'created_by': 'ca7d7043-8e94-42d5-9f3a-8f55c2e42814',\n",
       "   'archived': False,\n",
       "   'models': [8, 9],\n",
       "   'pipelines': [10]},\n",
       "  {'id': 9,\n",
       "   'name': 'mobilenetworkspacetest',\n",
       "   'created_at': '2023-03-02T19:21:36.309503+00:00',\n",
       "   'created_by': 'ca7d7043-8e94-42d5-9f3a-8f55c2e42814',\n",
       "   'archived': False,\n",
       "   'models': [10, 12],\n",
       "   'pipelines': [13]},\n",
       "  {'id': 10,\n",
       "   'name': 'resnetworkspace',\n",
       "   'created_at': '2023-03-02T19:22:28.371499+00:00',\n",
       "   'created_by': 'ca7d7043-8e94-42d5-9f3a-8f55c2e42814',\n",
       "   'archived': False,\n",
       "   'models': [11],\n",
       "   'pipelines': [14]},\n",
       "  {'id': 11,\n",
       "   'name': 'resnetworkspacetest',\n",
       "   'created_at': '2023-03-02T19:35:30.236438+00:00',\n",
       "   'created_by': 'ca7d7043-8e94-42d5-9f3a-8f55c2e42814',\n",
       "   'archived': False,\n",
       "   'models': [13],\n",
       "   'pipelines': [18]},\n",
       "  {'id': 12,\n",
       "   'name': 'shadowimageworkspacetest',\n",
       "   'created_at': '2023-03-02T19:37:23.348346+00:00',\n",
       "   'created_by': 'ca7d7043-8e94-42d5-9f3a-8f55c2e42814',\n",
       "   'archived': False,\n",
       "   'models': [14, 15],\n",
       "   'pipelines': [20]},\n",
       "  {'id': 13,\n",
       "   'name': 'testapiworkspace',\n",
       "   'created_at': '2023-03-02T19:44:20.279346+00:00',\n",
       "   'created_by': 'ca7d7043-8e94-42d5-9f3a-8f55c2e42814',\n",
       "   'archived': False,\n",
       "   'models': [],\n",
       "   'pipelines': []}]}"
      ]
     },
     "execution_count": 20,
     "metadata": {},
     "output_type": "execute_result"
    }
   ],
   "source": [
    "# List workspaces\n",
    "TOKEN=get_jwt_token(TOKENURL, CLIENT, SECRET, USERNAME, PASSWORD)\n",
    "apiRequest = \"/workspaces/list\"\n",
    "\n",
    "data = {\n",
    "}\n",
    "\n",
    "response = get_wallaroo_response(APIURL, apiRequest, TOKEN, data)\n",
    "response"
   ]
  },
  {
   "cell_type": "markdown",
   "id": "6670a0ef-52d9-4fd2-8fb3-4ef2304bdfa2",
   "metadata": {},
   "source": [
    "### Add User to Workspace\n",
    "\n",
    "Existing users of the Wallaroo instance can be added to an existing workspace.\n",
    "\n",
    "* **Parameters**\n",
    "  * **email** - (*REQUIRED string*):  The email address of the user to add to the workspace.\n",
    "  * **workspace_id** - (*REQUIRED int*): The id of the workspace.\n",
    "  \n",
    "Example:  The following example adds the user created in Invite Users request to the workspace created in the [Create Workspace](#create-workspace) request."
   ]
  },
  {
   "cell_type": "code",
   "execution_count": null,
   "id": "a130de1e-f1ae-434b-ac29-8782e3278334",
   "metadata": {},
   "outputs": [],
   "source": [
    "# Add existing user to existing workspace\n",
    "TOKEN=get_jwt_token(TOKENURL, CLIENT, SECRET, USERNAME, PASSWORD)\n",
    "apiRequest = \"/workspaces/add_user\"\n",
    "\n",
    "data = {\n",
    "  \"email\":newUser,\n",
    "  \"workspace_id\": exampleWorkspaceId\n",
    "}\n",
    "\n",
    "response = get_wallaroo_response(APIURL, apiRequest, TOKEN, data)\n",
    "response"
   ]
  },
  {
   "cell_type": "markdown",
   "id": "d894179b",
   "metadata": {},
   "source": [
    "### List Users in a Workspace\n",
    "\n",
    "Lists the users who are either owners or collaborators of a workspace.\n",
    "\n",
    "* **Parameters**\n",
    "  * **workspace_id** - (*REQUIRED int*): The id of the workspace.\n",
    "* **Returns**\n",
    "  * **user_id**:  The user's identification.\n",
    "  * **user_type**:  The user's workspace type (owner, co-owner, etc).\n",
    "  \n",
    "Example:  The following example will list all users part of the workspace created in the [Create Workspace](#create-workspace) request."
   ]
  },
  {
   "cell_type": "code",
   "execution_count": 22,
   "id": "a130de1e-f1ae-434b-ac29-8782e3278334",
   "metadata": {},
   "outputs": [
    {
     "data": {
      "text/plain": [
       "{'users': [{'user_id': 'ca7d7043-8e94-42d5-9f3a-8f55c2e42814',\n",
       "   'user_type': 'OWNER'}]}"
      ]
     },
     "execution_count": 22,
     "metadata": {},
     "output_type": "execute_result"
    }
   ],
   "source": [
    "# List users in a workspace\n",
    "TOKEN=get_jwt_token(TOKENURL, CLIENT, SECRET, USERNAME, PASSWORD)\n",
    "apiRequest = \"/workspaces/list_users\"\n",
    "\n",
    "data = {\n",
    "  \"workspace_id\": exampleWorkspaceId\n",
    "}\n",
    "\n",
    "response = get_wallaroo_response(APIURL, apiRequest, TOKEN, data)\n",
    "response"
   ]
  },
  {
   "cell_type": "markdown",
   "id": "d894179b",
   "metadata": {},
   "source": [
    "### Remove User from a Workspace\n",
    "\n",
    "Removes the user from the given workspace.  In this request, either the user's Keycloak ID is required **OR** the user's email address is required.\n",
    "\n",
    "* **Parameters**\n",
    "  * **workspace_id** - (*REQUIRED int*): The id of the workspace.\n",
    "  * **user_id** - (*string*): The Keycloak ID of the user.  If `email` is not provided, then this parameter is **REQUIRED**.\n",
    "  * **email** - (*string*): The user's email address.  If `user_id` is not provided, then this parameter is **REQUIRED**.\n",
    "* **Returns**\n",
    "  * **user_id**:  The user's identification.\n",
    "  * **user_type**:  The user's workspace type (owner, co-owner, etc).\n",
    "  \n",
    "Example:  The following example will remove the `newUser` from workspace created in the [Create Workspace](#create-workspace) request.  Then the users for that workspace will be listed to verify `newUser` has been removed."
   ]
  },
  {
   "cell_type": "code",
   "execution_count": null,
   "id": "a130de1e-f1ae-434b-ac29-8782e3278334",
   "metadata": {},
   "outputs": [],
   "source": [
    "# Remove existing user from an existing workspace\n",
    "TOKEN=get_jwt_token(TOKENURL, CLIENT, SECRET, USERNAME, PASSWORD)\n",
    "apiRequest = \"/workspaces/remove_user\"\n",
    "\n",
    "data = {\n",
    "  \"email\":newUser,\n",
    "  \"workspace_id\": exampleWorkspaceId\n",
    "}\n",
    "\n",
    "response = get_wallaroo_response(APIURL, apiRequest, TOKEN, data)\n",
    "response"
   ]
  },
  {
   "cell_type": "code",
   "execution_count": 14,
   "id": "d560b63c",
   "metadata": {},
   "outputs": [
    {
     "data": {
      "text/plain": [
       "{'users': [{'user_id': '5abe33ef-90d2-49bd-8f6a-21ef20c383e8',\n",
       "   'user_type': 'OWNER'}]}"
      ]
     },
     "execution_count": 14,
     "metadata": {},
     "output_type": "execute_result"
    }
   ],
   "source": [
    "# List users in a workspace\n",
    "TOKEN=get_jwt_token(TOKENURL, CLIENT, SECRET, USERNAME, PASSWORD)\n",
    "apiRequest = \"/workspaces/list_users\"\n",
    "\n",
    "data = {\n",
    "  \"workspace_id\": exampleWorkspaceId\n",
    "}\n",
    "\n",
    "response = get_wallaroo_response(APIURL, apiRequest, TOKEN, data)\n",
    "response"
   ]
  },
  {
   "attachments": {},
   "cell_type": "markdown",
   "id": "f5adfe3e-a667-44dd-94e0-6936031e11fe",
   "metadata": {},
   "source": [
    "## Models\n",
    "\n",
    "### Upload Model to Workspace\n",
    "\n",
    "Uploads a ML Model to a Wallaroo workspace via POST with `Content-Type: multipart/form-data`.\n",
    "\n",
    "* **Parameters**\n",
    "  * **name** - (*REQUIRED string*): Name of the model\n",
    "  * **visibility** - (*OPTIONAL string*): The visibility of the model as either `public` or `private`.\n",
    "  * **workspace_id** - (*REQUIRED int*): The numerical id of the workspace to upload the model to.\n",
    "  \n",
    "Example:  This example will upload the sample file `ccfraud.onnx` to the workspace created in the [Create Workspace](#create-workspace) step as `apitestmodel`.  The model name will be saved as `exampleModelName` for use in other examples.  The id of the uploaded model will be saved as `exampleModelId` for use in later examples."
   ]
  },
  {
   "cell_type": "code",
   "execution_count": 23,
   "id": "a11158eb-b459-4be7-837a-01efecfbef3a",
   "metadata": {},
   "outputs": [
    {
     "data": {
      "text/plain": [
       "{'insert_models': {'returning': [{'models': [{'id': 16}]}]}}"
      ]
     },
     "execution_count": 23,
     "metadata": {},
     "output_type": "execute_result"
    }
   ],
   "source": [
    "# upload model - uses multiform data through a Python `request`\n",
    "TOKEN=get_jwt_token(TOKENURL, CLIENT, SECRET, USERNAME, PASSWORD)\n",
    "apiRequest = \"/models/upload\"\n",
    "\n",
    "exampleModelName = \"apitestmodel\"\n",
    "\n",
    "data = {\n",
    "    \"name\":exampleModelName,\n",
    "    \"visibility\":\"public\",\n",
    "    \"workspace_id\": exampleWorkspaceId\n",
    "}\n",
    "\n",
    "files = {\n",
    "    \"file\": ('ccfraud.onnx', open('./models/ccfraud.onnx','rb'))\n",
    "}\n",
    "\n",
    "response = get_wallaroo_response(APIURL, apiRequest, TOKEN, data, files)\n",
    "response"
   ]
  },
  {
   "cell_type": "code",
   "execution_count": 24,
   "id": "e4180cc1-8121-4b96-9f14-893985b211a7",
   "metadata": {},
   "outputs": [
    {
     "data": {
      "text/plain": [
       "16"
      ]
     },
     "execution_count": 24,
     "metadata": {},
     "output_type": "execute_result"
    }
   ],
   "source": [
    "exampleModelId=response['insert_models']['returning'][0]['models'][0]['id']\n",
    "exampleModelId"
   ]
  },
  {
   "attachments": {},
   "cell_type": "markdown",
   "id": "57203b35",
   "metadata": {},
   "source": [
    "### Stream Upload Model to Workspace\n",
    "\n",
    "Streams a potentially large ML Model to a Wallaroo workspace via POST with `Content-Type: multipart/form-data`.\n",
    "\n",
    "* **Parameters**\n",
    "  * **name** - (*REQUIRED string*): Name of the model\n",
    "  * **filename** - (*REQUIRED string*): Name of the file being uploaded.\n",
    "  * **visibility** - (*OPTIONAL string*): The visibility of the model as either `public` or `private`.\n",
    "  * **workspace_id** - (*REQUIRED int*): The numerical id of the workspace to upload the model to.\n",
    "  \n",
    "Example:  This example will upload the sample file `ccfraud.onnx` to the workspace created in the [Create Workspace](#create-workspace) step as `apitestmodel`."
   ]
  },
  {
   "cell_type": "code",
   "execution_count": 25,
   "id": "6473baf9",
   "metadata": {},
   "outputs": [
    {
     "data": {
      "text/plain": [
       "{'insert_models': {'returning': [{'models': [{'id': 17}]}]}}"
      ]
     },
     "execution_count": 25,
     "metadata": {},
     "output_type": "execute_result"
    }
   ],
   "source": [
    "# stream upload model - next test is adding arbitrary chunks to the stream\n",
    "TOKEN=get_jwt_token(TOKENURL, CLIENT, SECRET, USERNAME, PASSWORD)\n",
    "apiRequest = \"/models/upload_stream\"\n",
    "exampleModelName = \"apitestmodelstream\"\n",
    "filename = 'streamfile.onnx'\n",
    "\n",
    "data = {\n",
    "    \"name\":exampleModelName,\n",
    "    \"filename\": 'streamfile.onnx',\n",
    "    \"visibility\":\"public\",\n",
    "    \"workspace_id\": exampleWorkspaceId\n",
    "}\n",
    "\n",
    "contentType='application/octet-stream'\n",
    "\n",
    "file = open('./models/ccfraud.onnx','rb')\n",
    "\n",
    "response = get_wallaroo_response(APIURL, apiRequest, TOKEN, data=None, files=file, contentType='application/octet-stream', params=data)\n",
    "response"
   ]
  },
  {
   "attachments": {},
   "cell_type": "markdown",
   "id": "a938e735-61dd-4805-a356-81829b9593e6",
   "metadata": {},
   "source": [
    "### List Models in Workspace\n",
    "\n",
    "Returns a list of models added to a specific workspace.\n",
    "\n",
    "* **Parameters**\n",
    "  * **workspace_id** - (*REQUIRED int*): The workspace id to list.\n",
    "  \n",
    "Example:  Display the models for the workspace used in the Upload Model to Workspace step.  The model id and model name will be saved as `exampleModelId` and `exampleModelName` variables for other examples."
   ]
  },
  {
   "cell_type": "code",
   "execution_count": 26,
   "id": "f60cc5b9-00bd-4526-8216-bc38e2e145d6",
   "metadata": {},
   "outputs": [
    {
     "data": {
      "text/plain": [
       "{'models': [{'id': 17,\n",
       "   'name': 'apitestmodelstream',\n",
       "   'owner_id': '\"\"',\n",
       "   'created_at': '2023-03-02T19:44:56.549555+00:00',\n",
       "   'updated_at': '2023-03-02T19:44:56.549555+00:00'},\n",
       "  {'id': 16,\n",
       "   'name': 'apitestmodel',\n",
       "   'owner_id': '\"\"',\n",
       "   'created_at': '2023-03-02T19:44:53.173913+00:00',\n",
       "   'updated_at': '2023-03-02T19:44:53.173913+00:00'}]}"
      ]
     },
     "execution_count": 26,
     "metadata": {},
     "output_type": "execute_result"
    }
   ],
   "source": [
    "# List models in a workspace\n",
    "TOKEN=get_jwt_token(TOKENURL, CLIENT, SECRET, USERNAME, PASSWORD)\n",
    "apiRequest = \"/models/list\"\n",
    "\n",
    "data = {\n",
    "  \"workspace_id\": exampleWorkspaceId\n",
    "}\n",
    "\n",
    "response = get_wallaroo_response(APIURL, apiRequest, TOKEN, data)\n",
    "response"
   ]
  },
  {
   "cell_type": "code",
   "execution_count": 27,
   "id": "f88835d7-ed73-454c-9b7e-cadc5a0e90b3",
   "metadata": {},
   "outputs": [],
   "source": [
    "exampleModelId = response['models'][0]['id']\n",
    "exampleModelName = response['models'][0]['name']"
   ]
  },
  {
   "attachments": {},
   "cell_type": "markdown",
   "id": "d22fdb15-73e7-4118-afab-04de5f41dd3c",
   "metadata": {},
   "source": [
    "### Get Model Details By ID\n",
    "\n",
    "Returns the model details by the specific model id.\n",
    "\n",
    "* **Parameters**\n",
    "  * **workspace_id** - (*REQUIRED int*): The workspace id to list.\n",
    "* **Returns**\n",
    "  * **id** - (*int*):  Numerical id of the model.\n",
    "  * **owner_id** - (*string*): Id of the owner of the model.\n",
    "  * **workspace_id** - (*int*): Numerical of the id the model is in.\n",
    "  * **name** - (*string*): Name of the model.\n",
    "  * **updated_at** - (*DateTime*): Date and time of the model's last update.\n",
    "  * **created_at** - (*DateTime*): Date and time of the model's creation.\n",
    "  * **model_config** - (*string*): Details of the model's configuration.\n",
    "  \n",
    "Example:  Retrieve the details for the model uploaded in the Upload Model to Workspace step."
   ]
  },
  {
   "cell_type": "code",
   "execution_count": 28,
   "id": "e8c969c0-8737-4ce4-891e-deeaae8710e6",
   "metadata": {},
   "outputs": [
    {
     "data": {
      "text/plain": [
       "{'id': 17,\n",
       " 'owner_id': '\"\"',\n",
       " 'workspace_id': 13,\n",
       " 'name': 'apitestmodelstream',\n",
       " 'updated_at': '2023-03-02T19:44:56.549555+00:00',\n",
       " 'created_at': '2023-03-02T19:44:56.549555+00:00',\n",
       " 'model_config': None}"
      ]
     },
     "execution_count": 28,
     "metadata": {},
     "output_type": "execute_result"
    }
   ],
   "source": [
    "# Get model details by id\n",
    "TOKEN=get_jwt_token(TOKENURL, CLIENT, SECRET, USERNAME, PASSWORD)\n",
    "apiRequest = \"/models/get_by_id\"\n",
    "\n",
    "data = {\n",
    "  \"id\": exampleModelId\n",
    "}\n",
    "\n",
    "response = get_wallaroo_response(APIURL, apiRequest, TOKEN, data)\n",
    "response"
   ]
  },
  {
   "attachments": {},
   "cell_type": "markdown",
   "id": "6306d882",
   "metadata": {},
   "source": [
    "### Get Model Versions\n",
    "\n",
    "Retrieves all versions of a model based on either the name of the model or the `model_pk_id`.\n",
    "\n",
    "* **Parameters**\n",
    "  * **model_id** - (*REQUIRED String*): The model name.\n",
    "  * **models_pk_id** - (*REQUIRED int*): The model integer pk id.\n",
    "* **Returns**\n",
    "  * Array(Model Details)\n",
    "    * **sha** - (*String*): The `sha` hash of the model version.\n",
    "    * **models_pk_id**- (*int*): The pk id of the model.\n",
    "    * **model_version** - (*String*): The UUID identifier of the model version.\n",
    "    * **owner_id** - (*String*): The Keycloak user id of the model's owner.\n",
    "    * **model_id** - (*String*): The name of the model.\n",
    "    * **id** - (*int*): The integer id of the model.\n",
    "    * **file_name** - (*String*): The filename used when uploading the model.\n",
    "    * **image_path** - (*String*): The image path of the model.\n",
    "\n",
    "\n",
    "Example:  Retrieve the versions for a previously uploaded model. The variables `exampleModelVersion` and `exampleModelSha` will store the model's version and SHA values for use in other examples."
   ]
  },
  {
   "cell_type": "code",
   "execution_count": 29,
   "id": "eaf6ee35",
   "metadata": {},
   "outputs": [
    {
     "data": {
      "text/plain": [
       "[{'sha': 'bc85ce596945f876256f41515c7501c399fd97ebcb9ab3dd41bf03f8937b4507',\n",
       "  'models_pk_id': 17,\n",
       "  'model_version': '0396de99-0a55-4880-9f53-8fdcd1b3357a',\n",
       "  'owner_id': '\"\"',\n",
       "  'model_id': 'apitestmodelstream',\n",
       "  'id': 17,\n",
       "  'file_name': 'streamfile.onnx',\n",
       "  'image_path': None}]"
      ]
     },
     "execution_count": 29,
     "metadata": {},
     "output_type": "execute_result"
    }
   ],
   "source": [
    "# List models in a workspace\n",
    "TOKEN=get_jwt_token(TOKENURL, CLIENT, SECRET, USERNAME, PASSWORD)\n",
    "apiRequest = \"/models/list_versions\"\n",
    "\n",
    "data = {\n",
    "  \"model_id\": exampleModelName,\n",
    "  \"models_pk_id\": exampleModelId\n",
    "}\n",
    "\n",
    "response = get_wallaroo_response(APIURL, apiRequest, TOKEN, data)\n",
    "response"
   ]
  },
  {
   "cell_type": "code",
   "execution_count": 30,
   "id": "82203f7d",
   "metadata": {},
   "outputs": [],
   "source": [
    "# Stored for future examples\n",
    "\n",
    "exampleModelVersion = response[0]['model_version']\n",
    "exampleModelSha = response[0]['sha']"
   ]
  },
  {
   "cell_type": "markdown",
   "id": "9ae2fd46-768c-4523-a377-97c5b8d2ec00",
   "metadata": {},
   "source": [
    "### Get Model Configuration by Id\n",
    "\n",
    "Returns the model's configuration details.\n",
    "\n",
    "* **Parameters**\n",
    "  * **model_id** - (*REQUIRED int*): The numerical value of the model's id.\n",
    "  \n",
    "Example:  Submit the model id for the model uploaded in the Upload Model to Workspace step to retrieve configuration details."
   ]
  },
  {
   "cell_type": "code",
   "execution_count": 31,
   "id": "78c07fa3-5538-4336-b6ff-96b1ea06e8cf",
   "metadata": {},
   "outputs": [
    {
     "data": {
      "text/plain": [
       "{'model_config': None}"
      ]
     },
     "execution_count": 31,
     "metadata": {},
     "output_type": "execute_result"
    }
   ],
   "source": [
    "# Get model config by id\n",
    "TOKEN=get_jwt_token(TOKENURL, CLIENT, SECRET, USERNAME, PASSWORD)\n",
    "apiRequest = \"/models/get_config_by_id\"\n",
    "\n",
    "data = {\n",
    "  \"model_id\": exampleModelId\n",
    "}\n",
    "\n",
    "response = get_wallaroo_response(APIURL, apiRequest, TOKEN, data)\n",
    "response"
   ]
  },
  {
   "cell_type": "markdown",
   "id": "d0b997b9",
   "metadata": {},
   "source": [
    "### Get Model Details\n",
    "\n",
    "Returns details regarding a single model, including versions.\n",
    "\n",
    "Returns the model's configuration details.\n",
    "\n",
    "* **Parameters**\n",
    "  * **model_id** - (*REQUIRED int*): The numerical value of the model's id.\n",
    "  \n",
    "Example:  Submit the model id for the model uploaded in the Upload Model to Workspace step to retrieve configuration details."
   ]
  },
  {
   "cell_type": "code",
   "execution_count": 32,
   "id": "d07853c6",
   "metadata": {},
   "outputs": [
    {
     "data": {
      "text/plain": [
       "{'id': 17,\n",
       " 'name': 'apitestmodelstream',\n",
       " 'owner_id': '\"\"',\n",
       " 'created_at': '2023-03-02T19:44:56.549555+00:00',\n",
       " 'updated_at': '2023-03-02T19:44:56.549555+00:00',\n",
       " 'models': [{'sha': 'bc85ce596945f876256f41515c7501c399fd97ebcb9ab3dd41bf03f8937b4507',\n",
       "   'models_pk_id': 17,\n",
       "   'model_version': '0396de99-0a55-4880-9f53-8fdcd1b3357a',\n",
       "   'owner_id': '\"\"',\n",
       "   'model_id': 'apitestmodelstream',\n",
       "   'id': 17,\n",
       "   'file_name': 'streamfile.onnx',\n",
       "   'image_path': None}]}"
      ]
     },
     "execution_count": 32,
     "metadata": {},
     "output_type": "execute_result"
    }
   ],
   "source": [
    "# Get model config by id\n",
    "TOKEN=get_jwt_token(TOKENURL, CLIENT, SECRET, USERNAME, PASSWORD)\n",
    "apiRequest = \"/models/get\"\n",
    "\n",
    "data = {\n",
    "  \"id\": exampleModelId\n",
    "}\n",
    "\n",
    "response = get_wallaroo_response(APIURL, apiRequest, TOKEN, data)\n",
    "response"
   ]
  },
  {
   "attachments": {},
   "cell_type": "markdown",
   "id": "b082e6fd",
   "metadata": {},
   "source": [
    "## Pipeline Management\n",
    "\n",
    "Pipelines are managed through the Wallaroo API or the Wallaroo SDK.  Pipelines are the vehicle used for deploying, serving, and monitoring ML models.  For more information, see the [Wallaroo Glossary](https://docs.wallaroo.ai/wallaroo-glossary/)."
   ]
  },
  {
   "attachments": {},
   "cell_type": "markdown",
   "id": "1c200c67-6797-43b1-9d1c-6b47338ca815",
   "metadata": {},
   "source": [
    "### Create Pipeline in a Workspace\n",
    "\n",
    "Creates a new pipeline in the specified workspace.\n",
    "\n",
    "* **Parameters**\n",
    "  * **pipeline_id** - (REQUIRED string): Name of the new pipeline.\n",
    "  * **workspace_id** - (REQUIRED int): Numerical id of the workspace for the new pipeline.\n",
    "  * **definition** - (REQUIRED string): Pipeline definitions, can be `{}` for none.\n",
    "\n",
    "Example:  Two pipelines are created in the workspace created in the step Create Workspace.  One will be an empty pipeline without any models, the other will be created using the uploaded models in the Upload Model to Workspace step and no configuration details.  The pipeline id, variant id, and variant version of each pipeline will be stored for later examples.\n",
    "\n",
    "The variable `exampleWorkspaceId` was created in a previous example."
   ]
  },
  {
   "cell_type": "code",
   "execution_count": 33,
   "id": "cbb36662-fc0b-4489-9294-b6ecd9971c43",
   "metadata": {},
   "outputs": [
    {
     "data": {
      "text/plain": [
       "{'pipeline_pk_id': 22,\n",
       " 'pipeline_variant_pk_id': 22,\n",
       " 'pipeline_variant_version': 'e4c3a3dc-97ee-4020-88ce-3bf059b772ef'}"
      ]
     },
     "execution_count": 33,
     "metadata": {},
     "output_type": "execute_result"
    }
   ],
   "source": [
    "# Create pipeline in a workspace\n",
    "TOKEN=get_jwt_token(TOKENURL, CLIENT, SECRET, USERNAME, PASSWORD)\n",
    "apiRequest = \"/pipelines/create\"\n",
    "\n",
    "exampleEmptyPipelineName=\"emptypipeline\"\n",
    "\n",
    "data = {\n",
    "  \"pipeline_id\": exampleEmptyPipelineName,\n",
    "  \"workspace_id\": exampleWorkspaceId,\n",
    "  \"definition\": {}\n",
    "}\n",
    "\n",
    "response = get_wallaroo_response(APIURL, apiRequest, TOKEN, data)\n",
    "exampleEmptyPipelineId = response['pipeline_pk_id']\n",
    "exampleEmptyPipelineVariantId=response['pipeline_variant_pk_id']\n",
    "emptyExamplePipelineVariantVersion=['pipeline_variant_version']\n",
    "response"
   ]
  },
  {
   "cell_type": "code",
   "execution_count": 66,
   "id": "3dbc54d0-0f95-41e4-af11-592f2cf454dc",
   "metadata": {},
   "outputs": [
    {
     "data": {
      "text/plain": [
       "{'pipeline_pk_id': 25,\n",
       " 'pipeline_variant_pk_id': 25,\n",
       " 'pipeline_variant_version': '8eaa146e-1bfb-4786-9969-4264877db7d2'}"
      ]
     },
     "execution_count": 66,
     "metadata": {},
     "output_type": "execute_result"
    }
   ],
   "source": [
    "# Create pipeline in a workspace with models\n",
    "TOKEN=get_jwt_token(TOKENURL, CLIENT, SECRET, USERNAME, PASSWORD)\n",
    "apiRequest = \"/pipelines/create\"\n",
    "\n",
    "exampleModelPipelineName=\"pipelinewithmodel\"\n",
    "\n",
    "data = {\n",
    "  \"pipeline_id\": exampleModelPipelineName,\n",
    "  \"workspace_id\": exampleWorkspaceId,\n",
    "  \"definition\": {}\n",
    "}\n",
    "\n",
    "response = get_wallaroo_response(APIURL, apiRequest, TOKEN, data)\n",
    "exampleModelPipelineId = response['pipeline_pk_id']\n",
    "exampleModelPipelineVariantId=response['pipeline_variant_pk_id']\n",
    "emptyModelPipelineVariantVersion=['pipeline_variant_version']\n",
    "response"
   ]
  },
  {
   "attachments": {},
   "cell_type": "markdown",
   "id": "39d79170-541b-44f1-874f-9eebd221e36c",
   "metadata": {},
   "source": [
    "### Deploy a Pipeline\n",
    "\n",
    "Deploy a an existing pipeline.  Note that for any pipeline that has model steps, they must be included either in `model_configs`, `model_ids` or `models`.\n",
    "\n",
    "* **Parameters**\n",
    "  * **deploy_id** (*REQUIRED string*): The name for the pipeline deployment.\n",
    "  * **engine_config** (*OPTIONAL string*): Additional configuration options for the pipeline.\n",
    "  * **pipeline_version_pk_id** (*REQUIRED int*): Pipeline version id.\n",
    "  * **model_configs** (*OPTIONAL Array int*): Ids of model configs to apply.\n",
    "  * **model_ids** (*OPTIONAL Array int*): Ids of models to apply to the pipeline.  If passed in, model_configs will be created automatically.\n",
    "  * **models** (*OPTIONAL Array models*):  If the model ids are not available as a pipeline step, the models' data can be passed to it through this method.  The options below are only required if `models` are provided as a parameter.\n",
    "    * **name** (*REQUIRED string*): Name of the uploaded model that is in the same workspace as the pipeline.\n",
    "    * **version** (*REQUIRED string*): Version of the model to use.\n",
    "    * **sha** (*REQUIRED string*): SHA value of the model.\n",
    "  * **pipeline_id** (*REQUIRED int*): Numerical value of the pipeline to deploy.\n",
    "* **Returns**\n",
    "  * **id** (*int*): The deployment id.\n",
    "\n",
    "Examples:  Both the empty pipeline and pipeline with model created in the step [Create Pipeline in a Workspace](#create-pipeline-in-a-workspace) will be deployed and their deployment information saved for later examples.\n"
   ]
  },
  {
   "cell_type": "code",
   "execution_count": 35,
   "id": "7f941b8c-8055-41fb-af38-edbde560c76a",
   "metadata": {},
   "outputs": [
    {
     "data": {
      "text/plain": [
       "{'id': 14}"
      ]
     },
     "execution_count": 35,
     "metadata": {},
     "output_type": "execute_result"
    }
   ],
   "source": [
    "# Deploy empty pipeline\n",
    "TOKEN=get_jwt_token(TOKENURL, CLIENT, SECRET, USERNAME, PASSWORD)\n",
    "apiRequest = \"/pipelines/deploy\"\n",
    "\n",
    "exampleEmptyDeployId = \"emptydeploy\"\n",
    "\n",
    "data = {\n",
    "    \"deploy_id\": exampleEmptyDeployId,\n",
    "    \"pipeline_version_pk_id\": exampleEmptyPipelineVariantId,\n",
    "    \"pipeline_id\": exampleEmptyPipelineId\n",
    "}\n",
    "\n",
    "response = get_wallaroo_response(APIURL, apiRequest, TOKEN, data)\n",
    "exampleEmptyDeploymentId=response['id']\n",
    "response\n"
   ]
  },
  {
   "cell_type": "code",
   "execution_count": 67,
   "id": "1d808303-8db7-402f-b2d1-84fc89652a26",
   "metadata": {},
   "outputs": [
    {
     "data": {
      "text/plain": [
       "{'id': 17}"
      ]
     },
     "execution_count": 67,
     "metadata": {},
     "output_type": "execute_result"
    }
   ],
   "source": [
    "# Deploy a pipeline with models\n",
    "TOKEN=get_jwt_token(TOKENURL, CLIENT, SECRET, USERNAME, PASSWORD)\n",
    "apiRequest = \"/pipelines/deploy\"\n",
    "exampleModelDeployId=\"modeldeploy\"\n",
    "\n",
    "data = {\n",
    "    \"deploy_id\": exampleModelDeployId,\n",
    "    \"pipeline_version_pk_id\": exampleModelPipelineVariantId,\n",
    "    \"models\": [\n",
    "        {\n",
    "            \"name\":exampleModelName,\n",
    "            \"version\":exampleModelVersion,\n",
    "            \"sha\":exampleModelSha\n",
    "        }\n",
    "    ],\n",
    "    \"pipeline_id\": exampleModelPipelineId\n",
    "}\n",
    "\n",
    "\n",
    "response = get_wallaroo_response(APIURL, apiRequest, TOKEN, data)\n",
    "exampleModelDeploymentId=response['id']\n",
    "response"
   ]
  },
  {
   "cell_type": "markdown",
   "id": "9d5b90ba-0da4-451b-b7d1-7274c3bc4fa2",
   "metadata": {},
   "source": [
    "### Get Deployment Status\n",
    "\n",
    "Returns the deployment status.\n",
    "\n",
    "* **Parameters**\n",
    "  * **name** - (REQUIRED string): The deployment in the format {deployment_name}-{deploymnent-id}.\n",
    "  \n",
    "Example: The deployed empty and model pipelines status will be displayed."
   ]
  },
  {
   "cell_type": "code",
   "execution_count": 37,
   "id": "4e9cc4fe-7236-42c6-8a04-c23197748ec5",
   "metadata": {},
   "outputs": [
    {
     "data": {
      "text/plain": [
       "{'status': 'Starting',\n",
       " 'details': [],\n",
       " 'engines': [{'ip': None,\n",
       "   'name': 'engine-7c44d857cb-995p7',\n",
       "   'status': 'Pending',\n",
       "   'reason': None,\n",
       "   'details': ['containers with unready status: [engine]',\n",
       "    'containers with unready status: [engine]'],\n",
       "   'pipeline_statuses': None,\n",
       "   'model_statuses': None}],\n",
       " 'engine_lbs': [{'ip': '10.244.12.53',\n",
       "   'name': 'engine-lb-ddd995646-vjz7f',\n",
       "   'status': 'Running',\n",
       "   'reason': None,\n",
       "   'details': []}],\n",
       " 'sidekicks': []}"
      ]
     },
     "execution_count": 37,
     "metadata": {},
     "output_type": "execute_result"
    }
   ],
   "source": [
    "# Get empty pipeline deployment\n",
    "TOKEN=get_jwt_token(TOKENURL, CLIENT, SECRET, USERNAME, PASSWORD)\n",
    "apiRequest = \"/status/get_deployment\"\n",
    "\n",
    "data = {\n",
    "  \"name\": f\"{exampleEmptyDeployId}-{exampleEmptyDeploymentId}\"\n",
    "}\n",
    "\n",
    "response = get_wallaroo_response(APIURL, apiRequest, TOKEN, data)\n",
    "response"
   ]
  },
  {
   "cell_type": "code",
   "execution_count": 80,
   "id": "1b2d6289-4a0f-4fa2-b7ed-0354100d13ed",
   "metadata": {},
   "outputs": [
    {
     "data": {
      "text/plain": [
       "{'status': 'Running',\n",
       " 'details': [],\n",
       " 'engines': [{'ip': '10.244.13.27',\n",
       "   'name': 'engine-7df9567698-m7zdx',\n",
       "   'status': 'Running',\n",
       "   'reason': None,\n",
       "   'details': [],\n",
       "   'pipeline_statuses': {'pipelines': [{'id': 'pipelinewithmodel',\n",
       "      'status': 'Running'}]},\n",
       "   'model_statuses': {'models': [{'name': 'apitestmodelstream',\n",
       "      'version': '0396de99-0a55-4880-9f53-8fdcd1b3357a',\n",
       "      'sha': 'bc85ce596945f876256f41515c7501c399fd97ebcb9ab3dd41bf03f8937b4507',\n",
       "      'status': 'Running'}]}}],\n",
       " 'engine_lbs': [{'ip': '10.244.12.55',\n",
       "   'name': 'engine-lb-ddd995646-qk6tj',\n",
       "   'status': 'Running',\n",
       "   'reason': None,\n",
       "   'details': []}],\n",
       " 'sidekicks': []}"
      ]
     },
     "execution_count": 80,
     "metadata": {},
     "output_type": "execute_result"
    }
   ],
   "source": [
    "# Get model pipeline deployment\n",
    "\n",
    "apiRequest = \"/status/get_deployment\"\n",
    "\n",
    "data = {\n",
    "  \"name\": f\"{exampleModelDeployId}-{exampleModelDeploymentId}\"\n",
    "}\n",
    "\n",
    "response = get_wallaroo_response(APIURL, apiRequest, TOKEN, data)\n",
    "response"
   ]
  },
  {
   "attachments": {},
   "cell_type": "markdown",
   "id": "eefdaa60",
   "metadata": {},
   "source": [
    "### Get External Inference URL\n",
    "\n",
    "The API command `/admin/get_pipeline_external_url` retrieves the external inference URL for a specific pipeline in a workspace.\n",
    "\n",
    "* **Parameters**\n",
    "  * **workspace_id** (*REQUIRED integer*):  The workspace integer id.\n",
    "  * **pipeline_name** (*REQUIRED string*): The name of the deployment.\n",
    "\n",
    "In this example, a list of the workspaces will be retrieved.  Based on the setup from the Internal Pipeline Deployment URL Tutorial, the workspace matching `urlworkspace` will have it's **workspace id** stored and used for the `/admin/get_pipeline_external_url` request with the pipeline `urlpipeline`.\n",
    "\n",
    "The External Inference URL will be stored as a variable for the next step."
   ]
  },
  {
   "cell_type": "code",
   "execution_count": 81,
   "id": "d969a878",
   "metadata": {},
   "outputs": [
    {
     "name": "stdout",
     "output_type": "stream",
     "text": [
      "{'url': 'https://wallaroo.api.example.com/v1/api/pipelines/infer/modeldeploy-15'}\n"
     ]
    },
    {
     "data": {
      "text/plain": [
       "'https://wallaroo.api.example.com/v1/api/pipelines/infer/modeldeploy-15'"
      ]
     },
     "execution_count": 81,
     "metadata": {},
     "output_type": "execute_result"
    }
   ],
   "source": [
    "## Retrieve the pipeline's External Inference URL\n",
    "TOKEN=get_jwt_token(TOKENURL, CLIENT, SECRET, USERNAME, PASSWORD)\n",
    "\n",
    "apiRequest = \"/admin/get_pipeline_external_url\"\n",
    "\n",
    "data = {\n",
    "    \"workspace_id\": exampleWorkspaceId,\n",
    "    \"pipeline_name\": exampleModelDeployId\n",
    "}\n",
    "\n",
    "response = get_wallaroo_response(APIURL, apiRequest, TOKEN, data)\n",
    "print(response)\n",
    "externalUrl = response['url']\n",
    "externalUrl"
   ]
  },
  {
   "attachments": {},
   "cell_type": "markdown",
   "id": "54d07891",
   "metadata": {},
   "source": [
    "### Perform Inference Through External URL\n",
    "\n",
    "The inference can now be performed through the External Inference URL.  This URL will accept the same inference data file that is used with the Wallaroo SDK, or with an Internal Inference URL as used in the Internal Pipeline Inference URL Tutorial.\n",
    "\n",
    "Deployed pipelines have their own Inference URL that accepts HTTP POST submissions.\n",
    "\n",
    "For connections that are external to the Kubernetes cluster hosting the Wallaroo instance, [model endpoints must be enabled](https://docs.wallaroo.ai/wallaroo-operations-guide/wallaroo-configuration/wallaroo-model-endpoints-guide/).\n",
    "\n",
    "## HTTP Headers\n",
    "\n",
    "The following headers are required for connecting the the Pipeline Deployment URL:\n",
    "\n",
    "* **Authorization**: This requires the JWT token in the format `'Bearer ' + token`.  For example:\n",
    "\n",
    "    ```bash\n",
    "    Authorization: Bearer abcdefg==\n",
    "    ```\n",
    "\n",
    "* **Content-Type**:\n",
    "* For DataFrame formatted JSON:\n",
    "\n",
    "    ```bash\n",
    "    Content-Type:application/json; format=pandas-records\n",
    "    ```\n",
    "\n",
    "* For Arrow binary files, the `Content-Type` is `application/vnd.apache.arrow.file`.\n",
    "\n",
    "    ```bash\n",
    "    Content-Type:application/vnd.apache.arrow.file\n",
    "    ```"
   ]
  },
  {
   "cell_type": "code",
   "execution_count": 19,
   "id": "f29d8494",
   "metadata": {},
   "outputs": [
    {
     "name": "stdout",
     "output_type": "stream",
     "text": [
      "[{\"time\": 1677788050393, \"in\": {\"tensor\": [-1.0603297501, 2.3544967095, -3.5638788326, 5.1387348926, -1.2308457019, -0.7687824608, -3.5881228109, 1.8880837663, -3.2789674274, -3.9563254554, 4.0993439118, -5.6539176395, -0.8775733373, -9.131571192, -0.6093537873, -3.7480276773, -5.0309125017, -0.8748\n"
     ]
    }
   ],
   "source": [
    "TOKEN=get_jwt_token(TOKENURL, CLIENT, SECRET, USERNAME, PASSWORD)\n",
    "\n",
    "dataFile = './data/cc_data_1k.df.json'\n",
    "data = json.load(open('./data/cc_data_1k.df.json','rb'))\n",
    "contentType=\"application/json; format=pandas-records\"\n",
    "\n",
    "# set the headers\n",
    "headers= {\n",
    "    'Authorization': 'Bearer ' + TOKEN,\n",
    "    'Content-Type': contentType\n",
    "}\n",
    "\n",
    "# submit the request via POST\n",
    "response = requests.post(externalUrl, json=data, headers=headers)\n",
    "\n",
    "# Only the first 300 characters will be displayed for brevity\n",
    "printResponse = json.dumps(response.json())\n",
    "print(printResponse[0:300])\n"
   ]
  },
  {
   "cell_type": "markdown",
   "id": "990e2be0-8f8c-4cd4-a27a-4780a44af678",
   "metadata": {},
   "source": [
    "### Undeploy a Pipeline\n",
    "\n",
    "Undeploys a deployed pipeline.\n",
    "\n",
    "* **Parameters**\n",
    "  * **pipeline_id** - (*REQUIRED int*): The numerical id of the pipeline.\n",
    "  * **deployment_id** - (*REQUIRED int*): The numerical id of the deployment.\n",
    "* **Returns**\n",
    "  * Nothing if the call is successful.\n",
    "\n",
    "Example:  Both the empty pipeline and pipeline with models deployed in the step Deploy a Pipeline will be undeployed."
   ]
  },
  {
   "cell_type": "code",
   "execution_count": 83,
   "id": "f87d44ed-f71c-43a2-b860-39aa8a5eb79f",
   "metadata": {},
   "outputs": [],
   "source": [
    "# Undeploy an empty pipeline\n",
    "TOKEN=get_jwt_token(TOKENURL, CLIENT, SECRET, USERNAME, PASSWORD)\n",
    "apiRequest = \"/pipelines/undeploy\"\n",
    "\n",
    "data = {\n",
    "    \"pipeline_id\": exampleEmptyPipelineId,\n",
    "    \"deployment_id\":exampleEmptyDeploymentId\n",
    "}\n",
    "\n",
    "response = get_wallaroo_response(APIURL, apiRequest, TOKEN, data)\n",
    "response"
   ]
  },
  {
   "cell_type": "code",
   "execution_count": 84,
   "id": "f059c83f-8101-4411-ac0d-feaf7823fd93",
   "metadata": {},
   "outputs": [],
   "source": [
    "# Undeploy pipeline with models\n",
    "TOKEN=get_jwt_token(TOKENURL, CLIENT, SECRET, USERNAME, PASSWORD)\n",
    "apiRequest = \"/pipelines/undeploy\"\n",
    "\n",
    "data = {\n",
    "    \"pipeline_id\": exampleModelPipelineId,\n",
    "    \"deployment_id\":exampleModelDeploymentId\n",
    "}\n",
    "\n",
    "response = get_wallaroo_response(APIURL, apiRequest, TOKEN, data)\n",
    "response"
   ]
  },
  {
   "cell_type": "markdown",
   "id": "b90b5718-204a-44b1-a4ba-6ff28e3d93ce",
   "metadata": {},
   "source": [
    "### Copy a Pipeline\n",
    "\n",
    "Copies an existing pipeline into a new one in the same workspace.  A new engine configuration can be set for the copied pipeline.\n",
    "\n",
    "* **Parameters**\n",
    "  * **name** - (REQUIRED string): The name of the new pipeline.\n",
    "  * **workspace_id** - (REQUIRED int): The numerical id of the workspace to copy the source pipeline from.\n",
    "  * **source_pipeline** - (REQUIRED int): The numerical id of the pipeline to copy from.\n",
    "  * **deploy** - (OPTIONAL string): Name of the deployment.\n",
    "  * **engine_config** - (OPTIONAL string): Engine configuration options.\n",
    "  * **pipeline_version** - (OPTIONAL string): Optional version of the copied pipeline to create.\n",
    "\n",
    "Example:  The pipeline with models created in the step Create Pipeline in a Workspace will be copied into a new one.\n"
   ]
  },
  {
   "cell_type": "code",
   "execution_count": 86,
   "id": "23ce3f2a-a214-4d17-a131-1f9d4e4609ad",
   "metadata": {},
   "outputs": [
    {
     "data": {
      "text/plain": [
       "{'pipeline_pk_id': 26,\n",
       " 'pipeline_variant_pk_id': 26,\n",
       " 'pipeline_version': None,\n",
       " 'deployment': None}"
      ]
     },
     "execution_count": 86,
     "metadata": {},
     "output_type": "execute_result"
    }
   ],
   "source": [
    "# Copy a pipeline\n",
    "TOKEN=get_jwt_token(TOKENURL, CLIENT, SECRET, USERNAME, PASSWORD)\n",
    "apiRequest = \"/pipelines/copy\"\n",
    "\n",
    "exampleCopiedPipelineName=\"copiedmodelpipeline\"\n",
    "\n",
    "data = {\n",
    "  \"name\": exampleCopiedPipelineName,\n",
    "  \"workspace_id\": exampleWorkspaceId,\n",
    "  \"source_pipeline\": exampleModelPipelineId\n",
    "}\n",
    "\n",
    "response = get_wallaroo_response(APIURL, apiRequest, TOKEN, data)\n",
    "response"
   ]
  },
  {
   "cell_type": "markdown",
   "id": "1b0178bc-491b-4309-9f4d-5e1b80314a0e",
   "metadata": {},
   "source": [
    "## List Enablement Features\n",
    "\n",
    "Lists the enablement features for the Wallaroo instance.\n",
    "\n",
    "* **PARAMETERS**\n",
    "  * null:  An empty set `{}`\n",
    "* **RETURNS**\n",
    "  * **features** - (*string*): Enabled features.\n",
    "  * **name** - (*string*): Name of the Wallaroo instance.\n",
    "  * **is_auth_enabled** - (*bool*): Whether authentication is enabled."
   ]
  },
  {
   "cell_type": "code",
   "execution_count": 88,
   "id": "8983b258-32db-4f48-bc4e-9a883abeddd4",
   "metadata": {},
   "outputs": [
    {
     "data": {
      "text/plain": [
       "{'features': {'plateau': 'true'},\n",
       " 'name': 'Wallaroo Dev',\n",
       " 'is_auth_enabled': True}"
      ]
     },
     "execution_count": 88,
     "metadata": {},
     "output_type": "execute_result"
    }
   ],
   "source": [
    "# List enablement features\n",
    "TOKEN=get_jwt_token(TOKENURL, CLIENT, SECRET, USERNAME, PASSWORD)\n",
    "apiRequest = \"/features/list\"\n",
    "\n",
    "data = {\n",
    "}\n",
    "\n",
    "response = get_wallaroo_response(APIURL, apiRequest, TOKEN, data)\n",
    "response"
   ]
  },
  {
   "attachments": {},
   "cell_type": "markdown",
   "id": "e87bb348-b2b2-4083-9c8b-a8ca10bf34e3",
   "metadata": {},
   "source": [
    "## Assays\n",
    "\n",
    "**IMPORTANT NOTE**: These assays were run in a Wallaroo environment with canned historical data.  See the [Wallaroo Assay Tutorial](https://github.com/WallarooLabs/Wallaroo_Tutorials/tree/main/model_insights) for details on setting up this environment.  This historical data is **required** for these examples."
   ]
  },
  {
   "attachments": {},
   "cell_type": "markdown",
   "id": "dd0a1eae-1b07-4ce0-9044-581c806f9d67",
   "metadata": {},
   "source": [
    "### Create Assay\n",
    "\n",
    "Create a new array in a specified pipeline.\n",
    "\n",
    "* **PARAMETERS**\n",
    "  * **id** - (*OPTIONAL int*):  The numerical identifier for the assay.\n",
    "  * **name** - (*REQUIRED string*): The name of the assay.\n",
    "  * **pipeline_id** - (*REQUIRED int*): The numerical idenfifier the assay will be placed into.\n",
    "  * **pipeline_name** - (*REQUIRED string*): The name of the pipeline\n",
    "  * **active** - (*REQUIRED bool*): Indicates whether the assay will be active upon creation or not.\n",
    "  * **status** - (*REQUIRED string*): The status of the assay upon creation.\n",
    "  * **iopath** - (*REQUIRED string*): The iopath of the assay.\n",
    "  * **baseline** - (*REQUIRED baseline*): The baseline for the assay.\n",
    "    * **Fixed** - (*REQUIRED AssayFixConfiguration*): The fixed configuration for the assay.\n",
    "      * **pipeline** - (*REQUIRED string*): The name of the pipeline with the baseline data.\n",
    "      * **model** - (*REQUIRED string*): The name of the model used.\n",
    "      * **start_at** - (*REQUIRED string*): The DateTime of the baseline start date.\n",
    "      * **end_at** - (*REQUIRED string*): The DateTime of the baseline end date.\n",
    "  * **window** (*REQUIRED AssayWindow*): Assay window.\n",
    "    * **pipeline** - (*REQUIRED string*): The name of the pipeline for the assay window.\n",
    "    * **model** - (*REQUIRED string*): The name of the model used for the assay window.\n",
    "    * **width** - (*REQUIRED string*): The width of the assay window.\n",
    "    * **start** - (*OPTIONAL string*): The DateTime of when to start the assay window.\n",
    "    * **interval** - (*OPTIONAL string*): The assay window interval.\n",
    "  * **summarizer** - (*REQUIRED AssaySummerizer*): The summarizer type for the array aka \"advanced settings\" in the Wallaroo Dashboard UI.\n",
    "    * **type** - (*REQUIRED string*): Type of summarizer.\n",
    "    * **bin_mode** - (*REQUIRED string*): The binning model type.  Values can be:\n",
    "      * Quantile\n",
    "      * Equal\n",
    "    * **aggregation** - (*REQUIRED string*): Aggregation type.\n",
    "    * **metric** - (*REQUIRED string*): Metric type.  Values can be:\n",
    "      * PSI\n",
    "      * Maximum Difference of Bins\n",
    "      * Sum of the Difference of Bins\n",
    "    * **num_bins** - (*REQUIRED int*): The number of bins.  Recommanded values are between 5 and 14.\n",
    "    * **bin_weights** - (*OPTIONAL AssayBinWeight*): The weights assigned to the assay bins.\n",
    "    * **bin_width** - (*OPTIONAL AssayBinWidth*): The width assigned to the assay bins.\n",
    "    * **provided_edges** - (*OPTIONAL AssayProvidedEdges*): The edges used for the assay bins.\n",
    "    * **add_outlier_edges** - (*REQUIRED bool*): Indicates whether to add outlier edges or not.\n",
    "  * **warning_threshold** - (*OPTIONAL number*): Optional warning threshold.\n",
    "  * **alert_threshold** - (*REQUIRED number*): Alert threshold.\n",
    "  * **run_until** - (*OPTIONAL string*): DateTime of when to end the assay.\n",
    "  * **workspace_id** - (*REQUIRED integer*): The workspace the assay is part of.\n",
    "  * **model_insights_url** - (*OPTIONAL string*): URL for model insights.\n",
    "* **RETURNS**\n",
    "  * **assay_id** - (*integer*): The id of the new assay.\n",
    "\n",
    "As noted this example requires the [Wallaroo Assay Tutorial](https://github.com/WallarooLabs/Wallaroo_Tutorials/tree/main/model_insights) for historical data.  Before running this example, set the sample pipeline id, pipeline, name, model name, and workspace id in the code sample below.  For more information on retrieving this information, see the [Wallaroo Developer Guides](https://docs.wallaroo.ai/wallaroo-developer-guides/)."
   ]
  },
  {
   "cell_type": "code",
   "execution_count": null,
   "id": "6310b708-7689-4c4e-8cab-10d5bc2bb435",
   "metadata": {},
   "outputs": [],
   "source": [
    "# Create assay\n",
    "\n",
    "apiRequest = \"/assays/create\"\n",
    "\n",
    "exampleAssayName = \"api_assay_test2\"\n",
    "\n",
    "## Now get all of the assays for the pipeline in workspace 4 `housepricedrift`\n",
    "\n",
    "exampleAssayPipelineId = 4\n",
    "exampleAssayPipelineName = \"housepricepipe\"\n",
    "exampleAssayModelName = \"housepricemodel\"\n",
    "exampleAssayWorkspaceId = 4\n",
    "\n",
    "# iopath can be input 00 or output 0 0\n",
    "data = {\n",
    "    'name': exampleAssayName,\n",
    "    'pipeline_id': exampleAssayPipelineId,\n",
    "    'pipeline_name': exampleAssayPipelineName,\n",
    "    'active': True,\n",
    "    'status': 'active',\n",
    "    'iopath': \"input 0 0\",\n",
    "    'baseline': {\n",
    "        'Fixed': {\n",
    "            'pipeline': exampleAssayPipelineName,\n",
    "            'model': 'houseprice-model-yns',\n",
    "            'start_at': '2022-01-01T00:00:00-05:00',\n",
    "            'end_at': '2022-01-02T00:00:00-05:00'\n",
    "        }\n",
    "    },\n",
    "    'window': {\n",
    "        'pipeline': exampleAssayPipelineName,\n",
    "        'model': exampleAssayModelName,\n",
    "        'width': '24 hours',\n",
    "        'start': None,\n",
    "        'interval': None\n",
    "    },\n",
    "    'summarizer': {\n",
    "        'type': 'UnivariateContinuous',\n",
    "        'bin_mode': 'Quantile',\n",
    "        'aggregation': 'Density',\n",
    "        'metric': 'PSI',\n",
    "        'num_bins': 5,\n",
    "        'bin_weights': None,\n",
    "        'bin_width': None,\n",
    "        'provided_edges': None,\n",
    "        'add_outlier_edges': True\n",
    "    },\n",
    "    'warning_threshold': 0,\n",
    "    'alert_threshold': 0.1,\n",
    "    'run_until': None,\n",
    "    'workspace_id': exampleAssayWorkspaceId\n",
    "}\n",
    "\n",
    "response = get_wallaroo_response(APIURL, apiRequest, TOKEN, data)\n",
    "example_assay_id = response['assay_id']\n",
    "response"
   ]
  },
  {
   "cell_type": "markdown",
   "id": "75f174e8-6319-402e-8273-45bbf9b7553d",
   "metadata": {},
   "source": [
    "### List Assays\n",
    "\n",
    "Lists all assays in the specified pipeline.\n",
    "\n",
    "* **PARAMETERS**\n",
    "  * **pipeline_id** - (*REQUIRED int*):  The numerical ID of the pipeline.\n",
    "* **RETURNS**\n",
    "  * **assays** - (*Array assays*): A list of all assays.\n",
    "\n",
    "Example:  Display a list of all assays in a workspace.  This will assume we have a workspace with an existing Assay and the associated data has been upload.  See the tutorial [Wallaroo Assays Tutorial](https://github.com/WallarooLabs/Wallaroo_Tutorials/tree/main/model_insights).\n",
    "\n",
    "For this reason, these values are hard coded for now."
   ]
  },
  {
   "cell_type": "code",
   "execution_count": null,
   "id": "2de679fb-84ad-40d1-80ff-fff78f45031f",
   "metadata": {},
   "outputs": [],
   "source": [
    "## First list all of the workspaces and the list of pipelines\n",
    "\n",
    "# List workspaces\n",
    "\n",
    "apiRequest = \"/workspaces/list\"\n",
    "\n",
    "data = {\n",
    "}\n",
    "\n",
    "response = get_wallaroo_response(APIURL, apiRequest, TOKEN, data)\n",
    "response"
   ]
  },
  {
   "cell_type": "code",
   "execution_count": null,
   "id": "8ae8d44a-e773-4f29-8530-a24dd7c3c2d0",
   "metadata": {},
   "outputs": [],
   "source": [
    "# Get assays\n",
    "\n",
    "apiRequest = \"/assays/list\"\n",
    "\n",
    "data = {\n",
    "    \"pipeline_id\": exampleAssayPipelineId\n",
    "}\n",
    "\n",
    "response = get_wallaroo_response(APIURL, apiRequest, TOKEN, data)\n",
    "response"
   ]
  },
  {
   "cell_type": "markdown",
   "id": "54853332-fc35-410b-a127-8715da9b06db",
   "metadata": {},
   "source": [
    "## Activate or Deactivate Assay\n",
    "\n",
    "Activates or deactivates an existing assay.\n",
    "\n",
    "* **Parameters**\n",
    "  * **id** - (*REQUIRED int*): The numerical id of the assay.\n",
    "  * **active** - (*REQUIRED bool*): True to activate the assay, False to deactivate it.\n",
    "* **Returns**\n",
    "  * * **id** - (*integer*): The numerical id of the assay.\n",
    "  * **active** - (*bool*): True to activate the assay, False to deactivate it.\n",
    "\n",
    "Example:  Assay 8 \"House Output Assay\" will be deactivated then activated."
   ]
  },
  {
   "cell_type": "code",
   "execution_count": null,
   "id": "d2e1b1e5-8078-4365-9708-45793642bd1a",
   "metadata": {},
   "outputs": [],
   "source": [
    "# Deactivate assay\n",
    "\n",
    "apiRequest = \"/assays/set_active\"\n",
    "\n",
    "data = {\n",
    "    'id': example_assay_id,\n",
    "    'active': False\n",
    "}\n",
    "\n",
    "response = get_wallaroo_response(APIURL, apiRequest, TOKEN, data)\n",
    "response"
   ]
  },
  {
   "cell_type": "code",
   "execution_count": null,
   "id": "3f9a4069-4418-41e6-b3a3-b0223f997d31",
   "metadata": {},
   "outputs": [],
   "source": [
    "# Activate assay\n",
    "\n",
    "apiRequest = \"/assays/set_active\"\n",
    "\n",
    "data = {\n",
    "    'id': example_assay_id,\n",
    "    'active': True\n",
    "}\n",
    "\n",
    "response = get_wallaroo_response(APIURL, apiRequest, TOKEN, data)\n",
    "response"
   ]
  },
  {
   "cell_type": "markdown",
   "id": "a7a17339-017e-40df-a0ec-b1217c58d4d3",
   "metadata": {},
   "source": [
    "### Create Interactive Baseline\n",
    "\n",
    "Creates an interactive assay baseline.\n",
    "\n",
    "* **PARAMETERS**\n",
    "  * **id** - (*REQUIRED int*):  The numerical identifier for the assay.\n",
    "  * **name** - (*REQUIRED string*): The name of the assay.\n",
    "  * **pipeline_id** - (*REQUIRED int*): The numerical idenfifier the assay will be placed into.\n",
    "  * **pipeline_name** - (*REQUIRED string*): The name of the pipeline\n",
    "  * **active** - (*REQUIRED bool*): Indicates whether the assay will be active upon creation or not.\n",
    "  * **status** - (*REQUIRED string*): The status of the assay upon creation.\n",
    "  * **iopath** - (*REQUIRED string*): The iopath of the assay.\n",
    "  * **baseline** - (*REQUIRED baseline*): The baseline for the assay.\n",
    "    * **Fixed** - (*REQUIRED AssayFixConfiguration*): The fixed configuration for the assay.\n",
    "      * **pipeline** - (*REQUIRED string*): The name of the pipeline with the baseline data.\n",
    "      * **model** - (*REQUIRED string*): The name of the model used.\n",
    "      * **start_at** - (*REQUIRED string*): The DateTime of the baseline start date.\n",
    "      * **end_at** - (*REQUIRED string*): The DateTime of the baseline end date.\n",
    "  * **window** (*REQUIRED AssayWindow*): Assay window.\n",
    "    * **pipeline** - (*REQUIRED string*): The name of the pipeline for the assay window.\n",
    "    * **model** - (*REQUIRED string*): The name of the model used for the assay window.\n",
    "    * **width** - (*REQUIRED string*): The width of the assay window.\n",
    "    * **start** - (*OPTIONAL string*): The DateTime of when to start the assay window.\n",
    "    * **interval** - (*OPTIONAL string*): The assay window interval.\n",
    "  * **summarizer** - (*REQUIRED AssaySummerizer*): The summarizer type for the array aka \"advanced settings\" in the Wallaroo Dashboard UI.\n",
    "    * **type** - (*REQUIRED string*): Type of summarizer.\n",
    "    * **bin_mode** - (*REQUIRED string*): The binning model type.  Values can be:\n",
    "      * Quantile\n",
    "      * Equal\n",
    "    * **aggregation** - (*REQUIRED string*): Aggregation type.\n",
    "    * **metric** - (*REQUIRED string*): Metric type.  Values can be:\n",
    "      * PSI\n",
    "      * Maximum Difference of Bins\n",
    "      * Sum of the Difference of Bins\n",
    "    * **num_bins** - (*REQUIRED int*): The number of bins.  Recommanded values are between 5 and 14.\n",
    "    * **bin_weights** - (*OPTIONAL AssayBinWeight*): The weights assigned to the assay bins.\n",
    "    * **bin_width** - (*OPTIONAL AssayBinWidth*): The width assigned to the assay bins.\n",
    "    * **provided_edges** - (*OPTIONAL AssayProvidedEdges*): The edges used for the assay bins.\n",
    "    * **add_outlier_edges** - (*REQUIRED bool*): Indicates whether to add outlier edges or not.\n",
    "  * **warning_threshold** - (*OPTIONAL number*): Optional warning threshold.\n",
    "  * **alert_threshold** - (*REQUIRED number*): Alert threshold.\n",
    "  * **run_until** - (*OPTIONAL string*): DateTime of when to end the assay.\n",
    "  * **workspace_id** - (*REQUIRED integer*): The workspace the assay is part of.\n",
    "  * **model_insights_url** - (*OPTIONAL string*): URL for model insights.\n",
    "* **RETURNS**\n",
    "  * {} when successful.\n",
    "\n",
    "Example:  An interactive assay baseline will be set for the assay \"Test Assay\" on Pipeline 4."
   ]
  },
  {
   "cell_type": "code",
   "execution_count": null,
   "id": "e693fb43-2396-40fc-bc57-dbca5e1e97ae",
   "metadata": {},
   "outputs": [],
   "source": [
    "# Run interactive baseline\n",
    "\n",
    "apiRequest = \"/assays/run_interactive_baseline\"\n",
    "\n",
    "exampleAssayPipelineId = 4\n",
    "exampleAssayPipelineName = \"housepricepipe\"\n",
    "exampleAssayModelName = \"housepricemodel\"\n",
    "exampleAssayWorkspaceId = 4\n",
    "exampleAssayId = 3\n",
    "exampleAssayName = \"example assay\"\n",
    "\n",
    "data = {\n",
    "    'id': exampleAssayId,\n",
    "    'name': exampleAssayName,\n",
    "    'pipeline_id': exampleAssayPipelineId,\n",
    "    'pipeline_name': exampleAssayPipelineName,\n",
    "    'active': True,\n",
    "    'status': 'active',\n",
    "    'iopath': \"input 0 0\",\n",
    "    'baseline': {\n",
    "        'Fixed': {\n",
    "            'pipeline': exampleAssayPipelineName,\n",
    "            'model': exampleAssayModelName,\n",
    "            'start_at': '2022-01-01T00:00:00-05:00',\n",
    "            'end_at': '2022-01-02T00:00:00-05:00'\n",
    "        }\n",
    "    },\n",
    "    'window': {\n",
    "        'pipeline': exampleAssayPipelineName,\n",
    "        'model': exampleAssayModelName,\n",
    "        'width': '24 hours',\n",
    "        'start': None,\n",
    "        'interval': None\n",
    "    },\n",
    "    'summarizer': {\n",
    "        'type': 'UnivariateContinuous',\n",
    "        'bin_mode': 'Quantile',\n",
    "        'aggregation': 'Density',\n",
    "        'metric': 'PSI',\n",
    "        'num_bins': 5,\n",
    "        'bin_weights': None,\n",
    "        'bin_width': None,\n",
    "        'provided_edges': None,\n",
    "        'add_outlier_edges': True\n",
    "    },\n",
    "    'warning_threshold': 0,\n",
    "    'alert_threshold': 0.1,\n",
    "    'run_until': None,\n",
    "    'workspace_id': exampleAssayWorkspaceId\n",
    "}\n",
    "\n",
    "response = get_wallaroo_response(APIURL, apiRequest, TOKEN, data)\n",
    "response"
   ]
  },
  {
   "cell_type": "markdown",
   "id": "15eb29db-6ea7-4442-a11a-946bd561de32",
   "metadata": {},
   "source": [
    "### Get Assay Baseline\n",
    "\n",
    "Retrieve an assay baseline.\n",
    "\n",
    "* **Parameters**\n",
    "  * **workspace_id** - (*REQUIRED integer*): Numerical id for the workspace the assay is in.\n",
    "  * **pipeline_name** - (*REQUIRED string*): Name of the pipeline the assay is in.\n",
    "  * **start** - (*OPTIONAL string*): DateTime for when the baseline starts.\n",
    "  * **end** - (*OPTIONAL string*): DateTime for when the baseline ends.\n",
    "  * **model_name** - (*OPTIONAL string*): Name of the model.\n",
    "  * **limit** - (*OPTIONAL integer*): Maximum number of baselines to return.\n",
    "* **Returns**\n",
    "  * Assay Baseline\n",
    "  \n",
    "Example:  3 assay baselines for Workspace 6 and pipeline `houseprice-pipe-yns` will be retrieved."
   ]
  },
  {
   "cell_type": "code",
   "execution_count": null,
   "id": "f52bd3e4-e6ab-4a49-b0e9-cd645bbbe605",
   "metadata": {},
   "outputs": [],
   "source": [
    "# Get Assay Baseline\n",
    "\n",
    "apiRequest = \"/assays/get_baseline\"\n",
    "\n",
    "data = {\n",
    "    'workspace_id': exampleAssayWorkspaceId,\n",
    "    'pipeline_name': exampleAssayPipelineName,\n",
    "    'limit': 3\n",
    "}\n",
    "\n",
    "response = get_wallaroo_response(APIURL, apiRequest, TOKEN, data)\n",
    "response"
   ]
  },
  {
   "cell_type": "markdown",
   "id": "68e6117f-94ba-4e4a-89ba-ffa8519d6709",
   "metadata": {},
   "source": [
    "### Run Assay Interactively\n",
    "\n",
    "Runs an assay.\n",
    "\n",
    "* **Parameters**\n",
    "  * **id** - (*REQUIRED int*):  The numerical identifier for the assay.\n",
    "  * **name** - (*REQUIRED string*): The name of the assay.\n",
    "  * **pipeline_id** - (*REQUIRED int*): The numerical idenfifier the assay will be placed into.\n",
    "  * **pipeline_name** - (*REQUIRED string*): The name of the pipeline\n",
    "  * **active** - (*REQUIRED bool*): Indicates whether the assay will be active upon creation or not.\n",
    "  * **status** - (*REQUIRED string*): The status of the assay upon creation.\n",
    "  * **iopath** - (*REQUIRED string*): The iopath of the assay.\n",
    "  * **baseline** - (*REQUIRED baseline*): The baseline for the assay.\n",
    "    * **Fixed** - (*REQUIRED AssayFixConfiguration*): The fixed configuration for the assay.\n",
    "      * **pipeline** - (*REQUIRED string*): The name of the pipeline with the baseline data.\n",
    "      * **model** - (*REQUIRED string*): The name of the model used.\n",
    "      * **start_at** - (*REQUIRED string*): The DateTime of the baseline start date.\n",
    "      * **end_at** - (*REQUIRED string*): The DateTime of the baseline end date.\n",
    "  * **window** (*REQUIRED AssayWindow*): Assay window.\n",
    "    * **pipeline** - (*REQUIRED string*): The name of the pipeline for the assay window.\n",
    "    * **model** - (*REQUIRED string*): The name of the model used for the assay window.\n",
    "    * **width** - (*REQUIRED string*): The width of the assay window.\n",
    "    * **start** - (*OPTIONAL string*): The DateTime of when to start the assay window.\n",
    "    * **interval** - (*OPTIONAL string*): The assay window interval.\n",
    "  * **summarizer** - (*REQUIRED AssaySummerizer*): The summarizer type for the array aka \"advanced settings\" in the Wallaroo Dashboard UI.\n",
    "    * **type** - (*REQUIRED string*): Type of summarizer.\n",
    "    * **bin_mode** - (*REQUIRED string*): The binning model type.  Values can be:\n",
    "      * Quantile\n",
    "      * Equal\n",
    "    * **aggregation** - (*REQUIRED string*): Aggregation type.\n",
    "    * **metric** - (*REQUIRED string*): Metric type.  Values can be:\n",
    "      * PSI\n",
    "      * Maximum Difference of Bins\n",
    "      * Sum of the Difference of Bins\n",
    "    * **num_bins** - (*REQUIRED int*): The number of bins.  Recommanded values are between 5 and 14.\n",
    "    * **bin_weights** - (*OPTIONAL AssayBinWeight*): The weights assigned to the assay bins.\n",
    "    * **bin_width** - (*OPTIONAL AssayBinWidth*): The width assigned to the assay bins.\n",
    "    * **provided_edges** - (*OPTIONAL AssayProvidedEdges*): The edges used for the assay bins.\n",
    "    * **add_outlier_edges** - (*REQUIRED bool*): Indicates whether to add outlier edges or not.\n",
    "  * **warning_threshold** - (*OPTIONAL number*): Optional warning threshold.\n",
    "  * **alert_threshold** - (*REQUIRED number*): Alert threshold.\n",
    "  * **run_until** - (*OPTIONAL string*): DateTime of when to end the assay.\n",
    "  * **workspace_id** - (*REQUIRED integer*): The workspace the assay is part of.\n",
    "  * **model_insights_url** - (*OPTIONAL string*): URL for model insights.\n",
    "* **Returns**\n",
    "  * Assay\n",
    "  \n",
    "Example:  An interactive assay will be run for Assay exampleAssayId exampleAssayName.  Depending on the number of assay results and the data window, this may take some time.  This returns *all* of the results for this assay at this time.  The total number of responses will be displayed after."
   ]
  },
  {
   "cell_type": "code",
   "execution_count": null,
   "id": "61b02cc4-2f31-4cef-a0a1-e36f8ede50ca",
   "metadata": {},
   "outputs": [],
   "source": [
    "# Run interactive assay\n",
    "\n",
    "apiRequest = \"/assays/run_interactive\"\n",
    "\n",
    "data = {\n",
    "    'id': exampleAssayId,\n",
    "    'name': exampleAssayName,\n",
    "    'pipeline_id': exampleAssayPipelineId,\n",
    "    'pipeline_name': exampleAssayPipelineName,\n",
    "    'active': True,\n",
    "    'status': 'active',\n",
    "    'iopath': \"input 0 0\",\n",
    "    'baseline': {\n",
    "        'Fixed': {\n",
    "            'pipeline': exampleAssayPipelineName,\n",
    "            'model': exampleAssayModelName,\n",
    "            'start_at': '2022-01-01T00:00:00-05:00',\n",
    "            'end_at': '2022-01-02T00:00:00-05:00'\n",
    "        }\n",
    "    },\n",
    "    'window': {\n",
    "        'pipeline': exampleAssayPipelineName,\n",
    "        'model': exampleAssayModelName,\n",
    "        'width': '24 hours',\n",
    "        'start': None,\n",
    "        'interval': None\n",
    "    },\n",
    "    'summarizer': {\n",
    "        'type': 'UnivariateContinuous',\n",
    "        'bin_mode': 'Quantile',\n",
    "        'aggregation': 'Density',\n",
    "        'metric': 'PSI',\n",
    "        'num_bins': 5,\n",
    "        'bin_weights': None,\n",
    "        'bin_width': None,\n",
    "        'provided_edges': None,\n",
    "        'add_outlier_edges': True\n",
    "    },\n",
    "    'warning_threshold': 0,\n",
    "    'alert_threshold': 0.1,\n",
    "    'run_until': None,\n",
    "    'workspace_id': exampleAssayWorkspaceId\n",
    "}\n",
    "\n",
    "response = get_wallaroo_response(APIURL, apiRequest, TOKEN, data)\n",
    "response[0]"
   ]
  },
  {
   "cell_type": "code",
   "execution_count": null,
   "id": "151cc344-f280-4364-bb69-fbb5327afd76",
   "metadata": {},
   "outputs": [],
   "source": [
    "print(len(response))"
   ]
  },
  {
   "cell_type": "markdown",
   "id": "fce5043c-002c-4b9e-9728-b5c00aff2458",
   "metadata": {},
   "source": [
    "### Get Assay Results\n",
    "\n",
    "Retrieve the results for an assay.\n",
    "\n",
    "* **Parameters**\n",
    "  * **assay_id** - (*REQUIRED integer*): Numerical id for the assay.\n",
    "  * **start** - (*OPTIONAL string*): DateTime for when the baseline starts.\n",
    "  * **end** - (*OPTIONAL string*): DateTime for when the baseline ends.\n",
    "  * **limit** - (*OPTIONAL integer*): Maximum number of results to return.\n",
    "  * **pipeline_id** - (*OPTIONAL integer*): Numerical id of the pipeline the assay is in.\n",
    "* **Returns**\n",
    "  * Assay Baseline\n",
    "  \n",
    "Example:  Results for Assay 3 \"example assay\" will be retrieved for January 2 to January 3.  For the sake of time, only the first record will be displayed."
   ]
  },
  {
   "cell_type": "code",
   "execution_count": null,
   "id": "c913a82a-81bd-4e6a-8101-453023d0cafa",
   "metadata": {},
   "outputs": [],
   "source": [
    "# Get Assay Results\n",
    "\n",
    "apiRequest = \"/assays/get_results\"\n",
    "\n",
    "data = {\n",
    "    'assay_id': exampleAssayId,\n",
    "    'pipeline_id': exampleAssayPipelineId\n",
    "}\n",
    "\n",
    "response = get_wallaroo_response(APIURL, apiRequest, TOKEN, data)\n",
    "response"
   ]
  }
 ],
 "metadata": {
  "kernelspec": {
   "display_name": "arrowtests",
   "language": "python",
   "name": "python3"
  },
  "language_info": {
   "codemirror_mode": {
    "name": "ipython",
    "version": 3
   },
   "file_extension": ".py",
   "mimetype": "text/x-python",
   "name": "python",
   "nbconvert_exporter": "python",
   "pygments_lexer": "ipython3",
   "version": "3.8.12"
  },
  "vscode": {
   "interpreter": {
    "hash": "7dda4bf3640b7fafcd1648658b879b4cc9f6ba6084e8fb356fdaaa1a461d1690"
   }
  }
 },
 "nbformat": 4,
 "nbformat_minor": 5
}
