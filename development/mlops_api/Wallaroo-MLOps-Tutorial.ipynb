{
 "cells": [
  {
   "attachments": {},
   "cell_type": "markdown",
   "id": "2e523b51-d933-4774-9dd7-317a7d183489",
   "metadata": {},
   "source": [
    "This tutorial and the assets are available as part of the [Wallaroo Tutorials repository](https://github.com/WallarooLabs/Wallaroo_Tutorials/tree/main/development/mlops_api).\n",
    "\n",
    "## Wallaroo MLOps API Tutorial\n",
    "\n",
    "The Wallaroo MLOps API allows organizations to submit requests to their Wallaroo instance to perform such actions as:\n",
    "\n",
    "* Create a new user and invite them to the instance.\n",
    "* Create workspaces and list their configuration details.\n",
    "* Upload a model.\n",
    "* Deploy and undeploy a pipeline.\n",
    "\n",
    "The following examples will show how to submit queries to the Wallaroo MLOps API and the types of responses returned.\n",
    "\n",
    "### References\n",
    "\n",
    "The following references are available for more information about Wallaroo and the Wallaroo MLOps API:\n",
    "\n",
    "* [Wallaroo Documentation Site](https://docs.wallaroo.ai):  The Wallaroo Documentation Site\n",
    "* Wallaroo MLOps API Documentation from a Wallaroo instance:  A Swagger UI based documentation is available from your Wallaroo instance at `https://{Wallaroo Prefix}.api.{Wallaroo Suffix}/v1/api/docs`.  For example, if the Wallaroo Instance is YOUR SUFFIX with the prefix `{lovely-rhino-5555}`, then the Wallaroo MLOps API Documentation would be available at `https://lovely-rhino-5555.api.example.wallaroo.ai/v1/api/docs`.  For another example, a Wallaroo Enterprise users who do not use a prefix and has the suffix `wallaroo.example.wallaroo.ai`, the the Wallaroo MLOps API Documentation would be available at `https://api.wallaroo.example.wallaroo.ai/v1/api/docs`.  For more information, see the [Wallaroo Documentation Site](https://docs.wallaroo.ai).\n",
    "\n",
    "**IMPORTANT NOTE**:  The Wallaroo MLOps API is provided as an early access features.  Future iterations may adjust the methods and returns to provide a better user experience.  Please refer to this guide for updates.\n",
    "\n",
    "## Prerequisites\n",
    "\n",
    "* An installed Wallaroo instance.\n",
    "* The following Python libraries installed:\n",
    "  * `requests`\n",
    "  * `json`\n",
    "  * [`wallaroo`](https://pypi.org/project/wallaroo/): The Wallaroo SDK. Included with the Wallaroo JupyterHub service by default.\n",
    "  * [`pandas`](https://pypi.org/project/pandas/): Pandas, mainly used for Pandas DataFrame.  Included with the Wallaroo JupyterHub service by default.\n",
    "  * [`pyarrow`](https://pypi.org/project/pyarrow/): PyArrow for Apache Arrow support.  Included with the Wallaroo JupyterHub service by default.\n",
    "  * [`polars`](https://pypi.org/project/polars/): Polars for DataFrame with native Apache Arrow support"
   ]
  },
  {
   "attachments": {},
   "cell_type": "markdown",
   "id": "de7a7d6e-579c-4d78-a72a-eeca1eb2ceee",
   "metadata": {},
   "source": [
    "## OpenAPI Steps\n",
    "\n",
    "The following demonstrates how to use each command in the Wallaroo MLOps API, and can be modified as best fits your organization's needs."
   ]
  },
  {
   "attachments": {},
   "cell_type": "markdown",
   "id": "51ebe37c-5e4f-49fa-8716-d83cea80d078",
   "metadata": {},
   "source": [
    "### Import Libraries\n",
    "\n",
    "For the examples, the Python `requests` library will be used to make the REST HTTP(S) connections."
   ]
  },
  {
   "cell_type": "code",
   "execution_count": 1,
   "id": "b5bea68b-4137-44c6-b16c-30c8248572c5",
   "metadata": {},
   "outputs": [],
   "source": [
    "import wallaroo\n",
    "from wallaroo.object import EntityNotFoundError\n",
    "import pandas as pd\n",
    "import os\n",
    "\n",
    "import pyarrow as pa\n",
    "\n",
    "import requests\n",
    "from requests.auth import HTTPBasicAuth\n",
    "\n",
    "import json\n",
    "\n",
    "# used to display dataframe information without truncating\n",
    "from IPython.display import display\n",
    "pd.set_option('display.max_colwidth', None)"
   ]
  },
  {
   "attachments": {},
   "cell_type": "markdown",
   "id": "07ee7a3d",
   "metadata": {},
   "source": [
    "## Notes About This Guide\n",
    "\n",
    "The following guide was established with set names for workspaces, pipelines, and models.  Note that some commands, such as creating a workspace, will fail **if another workspace is already created with the same name**.  Similar, if a user is already established with the same email address as in the examples below, etc.\n",
    "\n",
    "To reduce errors, the following variables are declared.  Please change them as required to avoid issues in an established Wallaroo environment."
   ]
  },
  {
   "cell_type": "code",
   "execution_count": 41,
   "id": "d5cb57cd",
   "metadata": {},
   "outputs": [],
   "source": [
    "## Sample Variables List\n",
    "\n",
    "new_user = \"john.hansarick@wallaroo.ai\"\n",
    "new_user_password = \"Snugglebunnies\"\n",
    "\n",
    "example_workspace_name = \"apiworkspaces\"\n",
    "model_name = \"apimodel\"\n",
    "model_file_name = \"./models/ccfraud.onnx\"\n",
    "\n",
    "stream_model_name = \"apiteststreammodel\"\n",
    "stream_model_file_name = \"./models/ccfraud.onnx\"\n",
    "\n",
    "empty_pipeline_name=\"pipelinenomodel\"\n",
    "\n",
    "model_pipeline_name=\"pipelinemodels\"\n",
    "\n",
    "example_copied_pipeline_name=\"copiedmodelpipeline\"\n",
    "\n",
    "wallarooPrefix = \"docreleasetest\"\n",
    "wallarooSuffix = \"wallaroocommunity.ninja\"\n",
    "\n",
    "# Retrieving login data through credential file\n",
    "f = open('./creds.json.example')\n",
    "login_data = json.load(f)"
   ]
  },
  {
   "attachments": {},
   "cell_type": "markdown",
   "id": "58579428",
   "metadata": {},
   "source": [
    "## Retrieve Credentials\n",
    "\n",
    "### Through Keycloak\n",
    "\n",
    "Wallaroo comes pre-installed with a confidential OpenID Connect client.  The default client is `api-client`, but other clients may be created and configured.\n",
    "\n",
    "Confidential clients require its secret to be supplied when requesting a token. Administrators may obtain their API client credentials from Keycloak from the Keycloak Service URL as listed above and the prefix `/auth/admin/master/console/#/realms/master/clients`.\n",
    "\n",
    "For example, if the Wallaroo DNS address is in the format `https://{WALLAROO PREFIX}.{WALLAROO SUFFIX}`, then the direct path to the Keycloak API client credentials would be:\n",
    "\n",
    "`https://{WALLAROO PREFIX}.keycloak.{WALLAROO SUFFIX}/auth/admin/master/console/#/realms/master/clients`\n",
    "\n",
    "Then select the client, in this case **api-client**, then **Credentials**.\n",
    "\n",
    "![Wallaroo Keycloak Service](./images/wallaroo-developer-guides/wallaroo-api/wallaroo-api-keycloak-service.png)\n",
    "\n",
    "![Wallaroo Components](./images/wallaroo-developer-guides/wallaroo-api/wallaroo-api-keycloak-credentials.png)\n",
    "\n",
    "By default, tokens issued for api-client are valid for up to 60 minutes. Refresh tokens are supported."
   ]
  },
  {
   "attachments": {},
   "cell_type": "markdown",
   "id": "c33467ac",
   "metadata": {},
   "source": [
    "### Token Types\n",
    "\n",
    "There are two tokens used with Wallaroo API services:\n",
    "\n",
    "* MLOps tokens:  User tokens are generated with the confidential client credentials and the username/password of the Wallaroo user making the MLOps API request and requires:\n",
    "  * The Wallaroo instance Keycloak address.\n",
    "  * The confidential client, `api-client` by default.\n",
    "  * The confidential client secret.\n",
    "  * The Wallaroo username making the MLOps API request.\n",
    "  * The Wallaroo user's password.\n",
    "\n",
    "    This request return includes the `access_token` and the `refresh_token`.  The `access_token` is used to authenticate.  The `refresh_token` can be used to create a new token without submitting the original username and password.\n",
    "\n",
    "    A sample `curl` version of that request is:\n",
    "\n",
    "    ```bash\n",
    "    eval $(curl \"https://${URL_PREFIX}.keycloak.${URL_SUFFIX}/auth/realms/master/protocol/openid-connect/token\" -u \"${CONFIDENTIAL_CLIENT}:${CONFIDENTIAL_CLIENT_SECRET}\" -d \"grant_type=password&username=${USERNAME}&password=${PASSWORD}&scope=offline_access' -s | jq -r '\"TOKEN=\\(.access_token) REFRESH=\\(.refresh_token)\"')\n",
    "    ```\n",
    "\n",
    "    * Tokens can be refreshed via a refresh request and require:\n",
    "      * The confidential client, `api-client` by default.\n",
    "      * The confidential client secret.\n",
    "      * The refresh token retrieved from the initial access token request.  A `curl` version of that request is:\n",
    "\n",
    "        ```bash\n",
    "        TOKEN=$(curl \"https://${URL_PREFIX}.keycloak.${URL_SUFFIX}/auth/realms/master/protocol/openid-connect/token\" -u \"${CONFIDENTIAL_CLIENT}:${CONFIDENTIAL_CLIENT_SECRET}\" -d \"grant_type=refresh_token&refresh_token=${REFRESH}\" -s | jq -r '.access_token')\n",
    "        ```\n",
    "\n",
    "* Inference Token:  Tokens used as part of a Pipeline Inference URL request.  These do **not** require a Wallaroo user credentials.  Inference token request require the following:\n",
    "  * The Wallaroo instance Keycloak address.\n",
    "  * The confidential client, `api-client` by default.\n",
    "  * The confidential client secret.\n",
    "\n",
    "    A `curl` version of that command is:\n",
    "\n",
    "    ```bash\n",
    "    TOKEN=$(curl \"https://${URL_PREFIX}.keycloak.${URL_SUFFIX}/auth/realms/master/protocol/openid-connect/token\" -u \"${CONFIDENTIAL_CLIENT}:${CONFIDENTIAL_CLIENT_SECRET}\" -d 'grant_type=client_credentials' -s | jq -r '.access_token')\n",
    "    ```\n",
    "\n",
    "The following examples demonstrate:\n",
    "\n",
    "* Generating a MLOps API token with the confidential client, client secret, username, and password.\n",
    "* Refreshing a MLOps API token with the confidential client and client secret (the username and password are not required for refreshing the token).\n",
    "* Generate a Pipeline Inference URl token with the confidential client and client secret (username and password are not required).\n",
    "\n",
    "The username and password for the user are stored in the file `./creds.json` to prevent them from being displayed in a demonstration.\n"
   ]
  },
  {
   "cell_type": "code",
   "execution_count": 42,
   "id": "5bc38c25",
   "metadata": {},
   "outputs": [
    {
     "data": {
      "text/plain": [
       "'eyJhbGciOiJSUzI1NiIsInR5cCIgOiAiSldUIiwia2lkIiA6ICJhNWxvdjgwYlNsU0pkaGNoaXctNE5HMUZaWUVPYUo1ZUFqNDR5eHFscDF3In0.eyJleHAiOjE2ODMxMzkyOTMsImlhdCI6MTY4MzEzNTY5MywianRpIjoiZDQyMTM0NDMtMDRiMC00ZWZiLTlkNTctMGFkYjljOTc3NDIxIiwiaXNzIjoiaHR0cHM6Ly9kb2NyZWxlYXNldGVzdC5rZXljbG9hay53YWxsYXJvb2NvbW11bml0eS5uaW5qYS9hdXRoL3JlYWxtcy9tYXN0ZXIiLCJhdWQiOlsibWFzdGVyLXJlYWxtIiwiYWNjb3VudCJdLCJzdWIiOiJlOGUzNGEzZS1kYjc1LTQ5ZTMtYTI5NC1hYzY5ZjE3YmMxNzciLCJ0eXAiOiJCZWFyZXIiLCJhenAiOiJhcGktY2xpZW50Iiwic2Vzc2lvbl9zdGF0ZSI6ImMxMjQ0MzFhLWY2MzgtNGI0Mi1iNDhhLTg4ZmZiMDIwZGNiOCIsImFjciI6IjEiLCJhbGxvd2VkLW9yaWdpbnMiOlsiKiJdLCJyZWFsbV9hY2Nlc3MiOnsicm9sZXMiOlsiZGVmYXVsdC1yb2xlcy1tYXN0ZXIiLCJvZmZsaW5lX2FjY2VzcyIsInVtYV9hdXRob3JpemF0aW9uIl19LCJyZXNvdXJjZV9hY2Nlc3MiOnsibWFzdGVyLXJlYWxtIjp7InJvbGVzIjpbIm1hbmFnZS11c2VycyIsInZpZXctdXNlcnMiLCJxdWVyeS1ncm91cHMiLCJxdWVyeS11c2VycyJdfSwiYWNjb3VudCI6eyJyb2xlcyI6WyJtYW5hZ2UtYWNjb3VudCIsIm1hbmFnZS1hY2NvdW50LWxpbmtzIiwidmlldy1wcm9maWxlIl19fSwic2NvcGUiOiJlbWFpbCBwcm9maWxlIiwic2lkIjoiYzEyNDQzMWEtZjYzOC00YjQyLWI0OGEtODhmZmIwMjBkY2I4IiwiZW1haWxfdmVyaWZpZWQiOmZhbHNlLCJodHRwczovL2hhc3VyYS5pby9qd3QvY2xhaW1zIjp7IngtaGFzdXJhLXVzZXItaWQiOiJlOGUzNGEzZS1kYjc1LTQ5ZTMtYTI5NC1hYzY5ZjE3YmMxNzciLCJ4LWhhc3VyYS1kZWZhdWx0LXJvbGUiOiJ1c2VyIiwieC1oYXN1cmEtYWxsb3dlZC1yb2xlcyI6WyJ1c2VyIl0sIngtaGFzdXJhLXVzZXItZ3JvdXBzIjoie30ifSwibmFtZSI6IkpvaG4gSGFuc2FyaWNrIiwicHJlZmVycmVkX3VzZXJuYW1lIjoiam9obi5odW1tZWxAd2FsbGFyb28uYWkiLCJnaXZlbl9uYW1lIjoiSm9obiIsImZhbWlseV9uYW1lIjoiSGFuc2FyaWNrIiwiZW1haWwiOiJqb2huLmh1bW1lbEB3YWxsYXJvby5haSJ9.emRA4pxdDKbaeipTp0j13W94iFBmGPRtW8DCZVM1n7aDQBizw9yKQUPMYWoEnZmYSZPj-ULEYvlCZHVUe-LrtJ0Dn03hjOxn7Xe6ayU6tHN037z9IrRf3Lk7kNsAmYTJqnBRie1T9PcC0kK5dH1oAGJbAuc4tUb7t6GkTUW4efAaFkUpDKNCUhU5AtTIKvDDCpaypQUFumIrPVn1V32DpptaprB_UWghBfJNroKzQUC4ouhF7Wmj68cTFKuheiJiJX279-fYTxHI88Sbb-ZniVfY2FQyciQ-zOfR22q8S-R9wZoyrIOIcgUcmI47iDOyNDmDKal056VQITI_0hnQ3Q'"
      ]
     },
     "metadata": {},
     "output_type": "display_data"
    }
   ],
   "source": [
    "## Generating token with confidential client, client secret, username, password\n",
    "\n",
    "TOKENURL=f'https://{wallarooPrefix}.keycloak.{wallarooSuffix}/auth/realms/master/protocol/openid-connect/token'\n",
    "\n",
    "USERNAME = login_data[\"username\"]\n",
    "PASSWORD = login_data[\"password\"]\n",
    "CONFIDENTIAL_CLIENT=login_data[\"confidentialClient\"]\n",
    "CONFIDENTIAL_CLIENT_SECRET=login_data[\"confidentialPassword\"]\n",
    "\n",
    "auth = HTTPBasicAuth(CONFIDENTIAL_CLIENT, CONFIDENTIAL_CLIENT_SECRET)\n",
    "data = {\n",
    "    'grant_type': 'password',\n",
    "    'username': USERNAME,\n",
    "    'password': PASSWORD\n",
    "}\n",
    "response = requests.post(TOKENURL, auth=auth, data=data, verify=True)\n",
    "access_token = response.json()['access_token']\n",
    "refresh_token = response.json()['refresh_token']\n",
    "display(access_token)"
   ]
  },
  {
   "cell_type": "code",
   "execution_count": 43,
   "id": "ccabb32a",
   "metadata": {},
   "outputs": [
    {
     "data": {
      "text/plain": [
       "'eyJhbGciOiJSUzI1NiIsInR5cCIgOiAiSldUIiwia2lkIiA6ICJhNWxvdjgwYlNsU0pkaGNoaXctNE5HMUZaWUVPYUo1ZUFqNDR5eHFscDF3In0.eyJleHAiOjE2ODMxMzkyOTYsImlhdCI6MTY4MzEzNTY5NiwianRpIjoiNGNmOGRmZDAtMjBlNC00YTFiLWEyM2UtMmRkYjcyMTI2YTgwIiwiaXNzIjoiaHR0cHM6Ly9kb2NyZWxlYXNldGVzdC5rZXljbG9hay53YWxsYXJvb2NvbW11bml0eS5uaW5qYS9hdXRoL3JlYWxtcy9tYXN0ZXIiLCJhdWQiOlsibWFzdGVyLXJlYWxtIiwiYWNjb3VudCJdLCJzdWIiOiJlOGUzNGEzZS1kYjc1LTQ5ZTMtYTI5NC1hYzY5ZjE3YmMxNzciLCJ0eXAiOiJCZWFyZXIiLCJhenAiOiJhcGktY2xpZW50Iiwic2Vzc2lvbl9zdGF0ZSI6ImMxMjQ0MzFhLWY2MzgtNGI0Mi1iNDhhLTg4ZmZiMDIwZGNiOCIsImFjciI6IjEiLCJhbGxvd2VkLW9yaWdpbnMiOlsiKiJdLCJyZWFsbV9hY2Nlc3MiOnsicm9sZXMiOlsiZGVmYXVsdC1yb2xlcy1tYXN0ZXIiLCJvZmZsaW5lX2FjY2VzcyIsInVtYV9hdXRob3JpemF0aW9uIl19LCJyZXNvdXJjZV9hY2Nlc3MiOnsibWFzdGVyLXJlYWxtIjp7InJvbGVzIjpbIm1hbmFnZS11c2VycyIsInZpZXctdXNlcnMiLCJxdWVyeS1ncm91cHMiLCJxdWVyeS11c2VycyJdfSwiYWNjb3VudCI6eyJyb2xlcyI6WyJtYW5hZ2UtYWNjb3VudCIsIm1hbmFnZS1hY2NvdW50LWxpbmtzIiwidmlldy1wcm9maWxlIl19fSwic2NvcGUiOiJlbWFpbCBwcm9maWxlIiwic2lkIjoiYzEyNDQzMWEtZjYzOC00YjQyLWI0OGEtODhmZmIwMjBkY2I4IiwiZW1haWxfdmVyaWZpZWQiOmZhbHNlLCJodHRwczovL2hhc3VyYS5pby9qd3QvY2xhaW1zIjp7IngtaGFzdXJhLXVzZXItaWQiOiJlOGUzNGEzZS1kYjc1LTQ5ZTMtYTI5NC1hYzY5ZjE3YmMxNzciLCJ4LWhhc3VyYS1kZWZhdWx0LXJvbGUiOiJ1c2VyIiwieC1oYXN1cmEtYWxsb3dlZC1yb2xlcyI6WyJ1c2VyIl0sIngtaGFzdXJhLXVzZXItZ3JvdXBzIjoie30ifSwibmFtZSI6IkpvaG4gSGFuc2FyaWNrIiwicHJlZmVycmVkX3VzZXJuYW1lIjoiam9obi5odW1tZWxAd2FsbGFyb28uYWkiLCJnaXZlbl9uYW1lIjoiSm9obiIsImZhbWlseV9uYW1lIjoiSGFuc2FyaWNrIiwiZW1haWwiOiJqb2huLmh1bW1lbEB3YWxsYXJvby5haSJ9.RtGVrwLuVyvvkmXuvgLGFupESHp373j97PJxEx3kkvnB89ogu0OEPdZtuOVa0CQwKlmzfgL14xn2ClKqyXw7HsvFd9n7VepCbNh-SjNzPvu2ZElIBU4my_AWe639aq8y730L85UWjY9cos9dwohCEntNNkxxCrOYSf3OYvvffIswg39a_4sK3uJI9M4jRFh65Ub4__1mkdP8BGgvY27Bb0yLEBd5e2641o5Pid20QQy9GJxecKyoJ1YoSUKORXM4NP_Iz4q3eU8IN-xTTQhx2hCZB1tvA7-CtZCG9eIzw1sYZVDnDRPPHFIeqeJYYmfv-OMxQFN-hPS1ODBAwyPivg'"
      ]
     },
     "metadata": {},
     "output_type": "display_data"
    }
   ],
   "source": [
    "## Refresh the token\n",
    "\n",
    "TOKENURL=f'https://{wallarooPrefix}.keycloak.{wallarooSuffix}/auth/realms/master/protocol/openid-connect/token'\n",
    "\n",
    "# Retrieving through os environmental variables \n",
    "f = open('./creds.json.example')\n",
    "login_data = json.load(f)\n",
    "\n",
    "CONFIDENTIAL_CLIENT=login_data[\"confidentialClient\"]\n",
    "CONFIDENTIAL_CLIENT_SECRET=login_data[\"confidentialPassword\"]\n",
    "\n",
    "\n",
    "auth = HTTPBasicAuth(CONFIDENTIAL_CLIENT, CONFIDENTIAL_CLIENT_SECRET)\n",
    "data = {\n",
    "    'grant_type': 'refresh_token',\n",
    "    'refresh_token': refresh_token\n",
    "}\n",
    "response = requests.post(TOKENURL, auth=auth, data=data, verify=True)\n",
    "access_token = response.json()['access_token']\n",
    "refresh_token = response.json()['refresh_token']\n",
    "display(access_token)"
   ]
  },
  {
   "cell_type": "code",
   "execution_count": 44,
   "id": "2208ef1b",
   "metadata": {},
   "outputs": [
    {
     "data": {
      "text/plain": [
       "'eyJhbGciOiJSUzI1NiIsInR5cCIgOiAiSldUIiwia2lkIiA6ICJhNWxvdjgwYlNsU0pkaGNoaXctNE5HMUZaWUVPYUo1ZUFqNDR5eHFscDF3In0.eyJleHAiOjE2ODMxMzkyOTcsImlhdCI6MTY4MzEzNTY5NywianRpIjoiOWQyNjBlNGUtYTdiNi00ZTFhLTliYTEtYTRlYWE2ZDNiMjdmIiwiaXNzIjoiaHR0cHM6Ly9kb2NyZWxlYXNldGVzdC5rZXljbG9hay53YWxsYXJvb2NvbW11bml0eS5uaW5qYS9hdXRoL3JlYWxtcy9tYXN0ZXIiLCJhdWQiOlsibWFzdGVyLXJlYWxtIiwiYWNjb3VudCJdLCJzdWIiOiJiNDc5MzBlMS1iM2UyLTRmYTYtYTE5Ni0zMGNlYjhkODdiN2YiLCJ0eXAiOiJCZWFyZXIiLCJhenAiOiJhcGktY2xpZW50IiwiYWNyIjoiMSIsImFsbG93ZWQtb3JpZ2lucyI6WyIqIl0sInJlYWxtX2FjY2VzcyI6eyJyb2xlcyI6WyJkZWZhdWx0LXJvbGVzLW1hc3RlciIsIm9mZmxpbmVfYWNjZXNzIiwidW1hX2F1dGhvcml6YXRpb24iXX0sInJlc291cmNlX2FjY2VzcyI6eyJtYXN0ZXItcmVhbG0iOnsicm9sZXMiOlsiaW1wZXJzb25hdGlvbiIsIm1hbmFnZS11c2VycyIsInZpZXctdXNlcnMiLCJxdWVyeS1ncm91cHMiLCJxdWVyeS11c2VycyJdfSwiYWNjb3VudCI6eyJyb2xlcyI6WyJtYW5hZ2UtYWNjb3VudCIsIm1hbmFnZS1hY2NvdW50LWxpbmtzIiwidmlldy1wcm9maWxlIl19fSwic2NvcGUiOiJlbWFpbCBwcm9maWxlIiwiZW1haWxfdmVyaWZpZWQiOmZhbHNlLCJjbGllbnRJZCI6ImFwaS1jbGllbnQiLCJjbGllbnRIb3N0IjoiMTAuMjQ0LjEuNjEiLCJodHRwczovL2hhc3VyYS5pby9qd3QvY2xhaW1zIjp7IngtaGFzdXJhLXVzZXItaWQiOiJiNDc5MzBlMS1iM2UyLTRmYTYtYTE5Ni0zMGNlYjhkODdiN2YiLCJ4LWhhc3VyYS1kZWZhdWx0LXJvbGUiOiJ1c2VyIiwieC1oYXN1cmEtYWxsb3dlZC1yb2xlcyI6WyJ1c2VyIl0sIngtaGFzdXJhLXVzZXItZ3JvdXBzIjoie30ifSwicHJlZmVycmVkX3VzZXJuYW1lIjoic2VydmljZS1hY2NvdW50LWFwaS1jbGllbnQiLCJjbGllbnRBZGRyZXNzIjoiMTAuMjQ0LjEuNjEifQ.ZIM_Ck9JgttfVo_-PFwP5se3pxsJqzdpiJcSE2YVFQaeRfP0frmE7Uc15bpaP3UqWK4TmnK6KfU0ooSSMIlRzoP3CM013PDIWAJeFnDYlOoyacp6_Fi2mooUBcEPH1c4cRPXg5Xmi8Nm9F0T4BYKz8nsmj2VhrtjhE3qVIW9C5-VBFR1mR9YK3_3Z9VfN-iRAceMsg0V1oWHeNyYb4XdZWYQjOMS3SwEzfSVJ5AZOrKY9uK5NkfgZehzB0OAjd9ttoU2YjQscOLbyaCW5wuM-51hFF8Il6EZynSFHr1uwdhR9Sv8ZZJMH3EZEC_ZzHOjJHAiOGQzK6bis9pD0vKH2Q'"
      ]
     },
     "metadata": {},
     "output_type": "display_data"
    }
   ],
   "source": [
    "## Pipeline Inference URL token - does not require Wallaroo username/password.\n",
    "\n",
    "TOKENURL=f'https://{wallarooPrefix}.keycloak.{wallarooSuffix}/auth/realms/master/protocol/openid-connect/token'\n",
    "\n",
    "# Retrieving through os environmental variables \n",
    "f = open('./creds.json.example')\n",
    "login_data = json.load(f)\n",
    "\n",
    "CONFIDENTIAL_CLIENT=login_data[\"confidentialClient\"]\n",
    "CLIENT_SECRET=login_data[\"confidentialPassword\"]\n",
    "\n",
    "auth = HTTPBasicAuth(CONFIDENTIAL_CLIENT, CLIENT_SECRET)\n",
    "data = {\n",
    "    'grant_type': 'client_credentials'\n",
    "}\n",
    "response = requests.post(TOKENURL, auth=auth, data=data, verify=True)\n",
    "inference_access_token = response.json()['access_token']\n",
    "display(inference_access_token)"
   ]
  },
  {
   "attachments": {},
   "cell_type": "markdown",
   "id": "1750bf46",
   "metadata": {},
   "source": [
    "### Through the Wallaroo SDK\n",
    "\n",
    "The Wallaroo SDK method Wallaroo Client `wl.auth.auth_header()` method provides the token with the `Authorization` header.\n",
    "\n",
    "```python\n",
    "# Retrieve the token\n",
    "headers = wl.auth.auth_header()\n",
    "display(headers)\n",
    "\n",
    "{'Authorization': 'Bearer abcdefg'}\n",
    "```"
   ]
  },
  {
   "attachments": {},
   "cell_type": "markdown",
   "id": "aeb772b1",
   "metadata": {},
   "source": [
    "### Connect to Wallaroo\n",
    "\n",
    "For this example, a connection to the Wallaroo SDK is used.  This will be used to retrieve the JWT token for the MLOps API calls.  \n",
    "\n",
    "This example will store the user's credentials into the file `./creds.json` which contains the following:\n",
    "\n",
    "```json\n",
    "{\n",
    "    \"username\": \"{Connecting User's Username}\", \n",
    "    \"password\": \"{Connecting User's Password}\", \n",
    "    \"email\": \"{Connecting User's Email Address}\"\n",
    "}\n",
    "```\n",
    "\n",
    "Replace the `username`, `password`, and `email` fields with the user account connecting to the Wallaroo instance.  This allows a seamless connection to the Wallaroo instance and bypasses the standard browser based confirmation link.  For more information, see the [Wallaroo SDK Essentials Guide:  Client Connection](https://docs.wallaroo.ai/wallaroo-developer-guides/wallaroo-sdk-guides/wallaroo-sdk-essentials-guide/wallaroo-sdk-essentials-client/).\n",
    "\n",
    "Update `wallarooPrefix = \"YOUR PREFIX\"` and `wallarooSuffix = \"YOUR SUFFIX\"` to match the Wallaroo instance used for this demonstration."
   ]
  },
  {
   "cell_type": "code",
   "execution_count": 4,
   "id": "37751dc8",
   "metadata": {},
   "outputs": [],
   "source": [
    "# Retrieve the login credentials.\n",
    "os.environ[\"WALLAROO_SDK_CREDENTIALS\"] = './creds.json.example'\n",
    "\n",
    "# Client connection from local Wallaroo instance\n",
    "\n",
    "wl = wallaroo.Client(auth_type=\"user_password\")"
   ]
  },
  {
   "attachments": {},
   "cell_type": "markdown",
   "id": "a558058b",
   "metadata": {},
   "source": [
    "### API URL\n",
    "\n",
    "The variable `APIURL` is used to specify the connection to the Wallaroo instance's MLOps API URL."
   ]
  },
  {
   "cell_type": "code",
   "execution_count": 5,
   "id": "11b04fa2",
   "metadata": {},
   "outputs": [
    {
     "data": {
      "text/plain": [
       "'https://docreleasetest.api.wallaroocommunity.ninja'"
      ]
     },
     "metadata": {},
     "output_type": "display_data"
    }
   ],
   "source": [
    "APIURL=f\"https://{wallarooPrefix}.api.{wallarooSuffix}\"\n",
    "display(APIURL)"
   ]
  },
  {
   "attachments": {},
   "cell_type": "markdown",
   "id": "8593a5df-438a-4d13-a466-d0b3ff8f2f8c",
   "metadata": {},
   "source": [
    "### API Request Methods\n",
    "\n",
    "This tutorial relies on the Python `requests` library, and the Wallaroo Wallaroo Client `wl.auth.auth_header()` method.\n",
    "\n",
    "MLOps API requests are always `POST`.  Most are submitted with the header `'Content-Type':'application/json'` unless specified otherwise."
   ]
  },
  {
   "attachments": {},
   "cell_type": "markdown",
   "id": "a38d7358-b108-4f6b-b10d-e5855e26f87e",
   "metadata": {},
   "source": [
    "## Users\n",
    "\n",
    "### Get Users\n",
    "\n",
    "Users can be retrieved either by their Keycloak user id, or return all users if an empty set `{}` is submitted.\n",
    "\n",
    "* **Parameters**\n",
    "  * `{}`: Empty set, returns all users.\n",
    "  * **user_ids** *Array[Keycloak user ids]*: An array of Keycloak user ids, typically in UUID format.\n",
    "\n",
    "Example:  The first example will submit an empty set `{}` to return all users, then submit the first user's user id and request only that user's details."
   ]
  },
  {
   "cell_type": "code",
   "execution_count": 6,
   "id": "033e35b3-0e80-400c-8b79-da6ddcc6afe8",
   "metadata": {},
   "outputs": [
    {
     "data": {
      "text/plain": [
       "{'users': {'e8e34a3e-db75-49e3-a294-ac69f17bc177': {'access': {'impersonate': False,\n",
       "    'manageGroupMembership': True,\n",
       "    'mapRoles': True,\n",
       "    'manage': True,\n",
       "    'view': True},\n",
       "   'createdTimestamp': 1683134872833,\n",
       "   'disableableCredentialTypes': [],\n",
       "   'email': 'john.hummel@wallaroo.ai',\n",
       "   'emailVerified': False,\n",
       "   'enabled': True,\n",
       "   'firstName': 'John',\n",
       "   'id': 'e8e34a3e-db75-49e3-a294-ac69f17bc177',\n",
       "   'lastName': 'Hansarick',\n",
       "   'notBefore': 0,\n",
       "   'requiredActions': [],\n",
       "   'username': 'john.hummel@wallaroo.ai'},\n",
       "  '78b52698-225a-481c-9ec2-ed2b8351e975': {'access': {'manageGroupMembership': True,\n",
       "    'manage': True,\n",
       "    'view': True,\n",
       "    'mapRoles': True,\n",
       "    'impersonate': False},\n",
       "   'createdTimestamp': 1683134266337,\n",
       "   'disableableCredentialTypes': [],\n",
       "   'emailVerified': False,\n",
       "   'enabled': True,\n",
       "   'id': '78b52698-225a-481c-9ec2-ed2b8351e975',\n",
       "   'notBefore': 0,\n",
       "   'requiredActions': [],\n",
       "   'username': 'admin'}}}"
      ]
     },
     "execution_count": 6,
     "metadata": {},
     "output_type": "execute_result"
    }
   ],
   "source": [
    "# Get all users\n",
    "\n",
    "# Retrieve the token \n",
    "headers = wl.auth.auth_header()\n",
    "\n",
    "api_request = f\"{APIURL}/v1/api/users/query\"\n",
    "data = {\n",
    "}\n",
    "\n",
    "response = requests.post(api_request, json=data, headers=headers, verify=True).json()\n",
    "response"
   ]
  },
  {
   "cell_type": "code",
   "execution_count": 7,
   "id": "7655f019-894c-46af-9059-765e4bec6bf4",
   "metadata": {},
   "outputs": [
    {
     "data": {
      "text/plain": [
       "{'users': {'e8e34a3e-db75-49e3-a294-ac69f17bc177': {'access': {'manageGroupMembership': True,\n",
       "    'view': True,\n",
       "    'manage': True,\n",
       "    'mapRoles': True,\n",
       "    'impersonate': False},\n",
       "   'createdTimestamp': 1683134872833,\n",
       "   'disableableCredentialTypes': [],\n",
       "   'email': 'john.hummel@wallaroo.ai',\n",
       "   'emailVerified': False,\n",
       "   'enabled': True,\n",
       "   'federatedIdentities': [{'identityProvider': 'google',\n",
       "     'userId': '117610299312093432527',\n",
       "     'userName': 'john.hummel@wallaroo.ai'}],\n",
       "   'firstName': 'John',\n",
       "   'id': 'e8e34a3e-db75-49e3-a294-ac69f17bc177',\n",
       "   'lastName': 'Hansarick',\n",
       "   'notBefore': 0,\n",
       "   'requiredActions': [],\n",
       "   'username': 'john.hummel@wallaroo.ai'}}}"
      ]
     },
     "execution_count": 7,
     "metadata": {},
     "output_type": "execute_result"
    }
   ],
   "source": [
    "# Get first user Keycloak id\n",
    "# Retrieve the token \n",
    "headers = wl.auth.auth_header()\n",
    "\n",
    "# retrieved from the previous request\n",
    "first_user_keycloak = list(response['users'])[0]\n",
    "\n",
    "api_request = f\"{APIURL}/v1/api/users/query\"\n",
    "\n",
    "data = {\n",
    "  \"user_ids\": [\n",
    "    first_user_keycloak\n",
    "  ]\n",
    "}\n",
    "\n",
    "response = requests.post(api_request, json=data, headers=headers, verify=True).json()\n",
    "response"
   ]
  },
  {
   "attachments": {},
   "cell_type": "markdown",
   "id": "9f7c0489-d1b2-4539-aa93-c23a5950c87c",
   "metadata": {},
   "source": [
    "### Invite Users\n",
    "\n",
    "**IMPORTANT NOTE**:  This command is for YOUR SUFFIX only.  For more details on user management, see [Wallaroo User Management](https://docs.wallaroo.ai/wallaroo-operations-guide/wallaroo-user-management/).\n",
    "\n",
    "Users are invited through `/users/invite`.  When using YOUR SUFFIX, this will send an invitation email to the email address listed.  Note that the user must not already be a member of the Wallaroo instance, and email addresses must be unique.  If the email address is already in use for another user, the request will generate an error.\n",
    "\n",
    "* **Parameters**\n",
    "  * **email** *(REQUIRED string): The email address of the new user to invite.\n",
    "  * **password** *(OPTIONAL string)*: The assigned password of the new user to invite.  If not provided, the Wallaroo instance will provide the new user a temporary password that must be changed upon initial login.\n",
    "\n",
    "Example:  In this example, a new user will be invited to the Wallaroo instance and assigned a password."
   ]
  },
  {
   "cell_type": "code",
   "execution_count": null,
   "id": "946e6189-58b0-4df0-8798-8886f7c9ce77",
   "metadata": {},
   "outputs": [],
   "source": [
    "## invite users\n",
    "\n",
    "# Retrieve the token \n",
    "# headers = wl.auth.auth_header()\n",
    "\n",
    "# api_request = f\"{APIURL}/v1/api/users/invite\"\n",
    "\n",
    "# data = {\n",
    "#     \"email\": new_user,\n",
    "#     \"password\":new_user_password\n",
    "# }\n",
    "\n",
    "# response = requests.post(api_request, json=data, headers=headers, verify=True).json()\n",
    "# response"
   ]
  },
  {
   "attachments": {},
   "cell_type": "markdown",
   "id": "f019f4a7-fbf2-4dcd-a73f-bb6160fadfc1",
   "metadata": {},
   "source": [
    "### Deactivate User\n",
    "\n",
    "Users can be deactivated so they can not login to their Wallaroo instance.  Deactivated users do not count against the Wallaroo license count.\n",
    "\n",
    "* **Parameters**\n",
    "  * **email** (*REQUIRED string*):  The email address of the user to deactivate.\n",
    "\n",
    "Example:  In this example, the `deactivated_user` will be deactivated."
   ]
  },
  {
   "cell_type": "code",
   "execution_count": 10,
   "id": "320d7d7c-4ad9-408b-a663-9e162096e2d3",
   "metadata": {},
   "outputs": [
    {
     "data": {
      "text/plain": [
       "{}"
      ]
     },
     "execution_count": 10,
     "metadata": {},
     "output_type": "execute_result"
    }
   ],
   "source": [
    "## Deactivate users\n",
    "\n",
    "# Retrieve the token \n",
    "headers = wl.auth.auth_header()\n",
    "\n",
    "api_request = f\"{APIURL}/v1/api/users/deactivate\"\n",
    "\n",
    "data = {\n",
    "    \"email\": new_user\n",
    "}\n",
    "\n",
    "response = requests.post(api_request, json=data, headers=headers, verify=True).json()\n",
    "response"
   ]
  },
  {
   "attachments": {},
   "cell_type": "markdown",
   "id": "b0072579-58ab-4758-bed0-da62dd67630c",
   "metadata": {},
   "source": [
    "### Activate User\n",
    "\n",
    "A deactivated user can be reactivated to allow them access to their Wallaroo instance.  Activated users count against the Wallaroo license count.\n",
    "\n",
    "* **Parameters**\n",
    "  * **email** (*REQUIRED string*):  The email address of the user to activate.\n",
    "\n",
    "Example:  In this example, the `activated_user` will be activated."
   ]
  },
  {
   "cell_type": "code",
   "execution_count": 11,
   "id": "94259866-4f96-4f7f-8cc8-e7b712169f69",
   "metadata": {},
   "outputs": [
    {
     "data": {
      "text/plain": [
       "{}"
      ]
     },
     "execution_count": 11,
     "metadata": {},
     "output_type": "execute_result"
    }
   ],
   "source": [
    "## Activate users\n",
    "\n",
    "# Retrieve the token \n",
    "headers = wl.auth.auth_header()\n",
    "api_request = f\"{APIURL}/v1/api/users/activate\"\n",
    "\n",
    "data = {\n",
    "    \"email\": new_user\n",
    "}\n",
    "\n",
    "response = requests.post(api_request, json=data, headers=headers, verify=True).json()\n",
    "response"
   ]
  },
  {
   "attachments": {},
   "cell_type": "markdown",
   "id": "6fcf4618-609a-4cf9-9d3c-b05cf679916a",
   "metadata": {},
   "source": [
    "## Workspaces\n",
    "\n",
    "### List Workspaces\n",
    "\n",
    "List the workspaces for a specific user.\n",
    "\n",
    "* **Parameters**\n",
    "  * **user_id** - (*OPTIONAL string*): The Keycloak ID.\n",
    "  \n",
    "Example:  In this example, the workspaces for all users will be displayed."
   ]
  },
  {
   "cell_type": "code",
   "execution_count": 12,
   "id": "d3f5ecd9-0a0e-4506-96bc-13a497be0688",
   "metadata": {},
   "outputs": [
    {
     "data": {
      "text/plain": [
       "{'workspaces': [{'id': 1,\n",
       "   'name': 'uojiapiinferenceexampleworkspace',\n",
       "   'created_at': '2023-05-03T17:30:51.990078+00:00',\n",
       "   'created_by': 'e8e34a3e-db75-49e3-a294-ac69f17bc177',\n",
       "   'archived': False,\n",
       "   'models': [1],\n",
       "   'pipelines': [1]}]}"
      ]
     },
     "execution_count": 12,
     "metadata": {},
     "output_type": "execute_result"
    }
   ],
   "source": [
    "# List workspaces\n",
    "\n",
    "# Retrieve the token \n",
    "headers = wl.auth.auth_header()\n",
    "\n",
    "api_request = f\"{APIURL}/v1/api/workspaces/list\"\n",
    "\n",
    "data = {\n",
    "}\n",
    "\n",
    "response = requests.post(api_request, json=data, headers=headers, verify=True).json()\n",
    "response"
   ]
  },
  {
   "attachments": {},
   "cell_type": "markdown",
   "id": "571cffc9-5932-406b-99c3-f7bf01dd56bb",
   "metadata": {},
   "source": [
    "### Create Workspace\n",
    "\n",
    "A new workspace will be created in the Wallaroo instance.  Upon creating, the workspace owner will be assigned as the user making the MLOps API request.\n",
    "\n",
    "* **Parameters**:\n",
    "  * **workspace_name** - (*REQUIRED string*):  The name of the new workspace with the following requirements:\n",
    "    * Must be unique.\n",
    "    * DNS compliant with only lowercase characters.\n",
    "* **Returns**:\n",
    "  * **workspace_id** - (*int*):  The ID of the new workspace.\n",
    "  \n",
    "Example:  In this example, a workspace with the name `testapiworkspace` will be created, and the newly created workspace's `workspace_id` saved as the variable `example_workspace_id` for use in other code examples.  After the request is complete, the [List Workspaces](#list-workspaces) command will be issued to demonstrate the new workspace has been created."
   ]
  },
  {
   "cell_type": "code",
   "execution_count": 13,
   "id": "8fac2fd6-b7fa-43c4-9bf8-84692eec7871",
   "metadata": {},
   "outputs": [
    {
     "data": {
      "text/plain": [
       "{'workspace_id': 2}"
      ]
     },
     "metadata": {},
     "output_type": "display_data"
    }
   ],
   "source": [
    "# Create workspace\n",
    "# Retrieve the token \n",
    "headers = wl.auth.auth_header()\n",
    "\n",
    "api_request = f\"{APIURL}/v1/api/workspaces/create\"\n",
    "\n",
    "data = {\n",
    "  \"workspace_name\": example_workspace_name\n",
    "}\n",
    "\n",
    "response = requests.post(api_request, json=data, headers=headers, verify=True).json()\n",
    "display(response)\n",
    "# Stored for future examples\n",
    "example_workspace_id = response['workspace_id']"
   ]
  },
  {
   "cell_type": "code",
   "execution_count": 14,
   "id": "d4820b9f",
   "metadata": {},
   "outputs": [
    {
     "data": {
      "text/plain": [
       "{'workspaces': [{'id': 1,\n",
       "   'name': 'uojiapiinferenceexampleworkspace',\n",
       "   'created_at': '2023-05-03T17:30:51.990078+00:00',\n",
       "   'created_by': 'e8e34a3e-db75-49e3-a294-ac69f17bc177',\n",
       "   'archived': False,\n",
       "   'models': [1],\n",
       "   'pipelines': [1]},\n",
       "  {'id': 2,\n",
       "   'name': 'apiworkspaces',\n",
       "   'created_at': '2023-05-03T17:33:47.232831+00:00',\n",
       "   'created_by': 'e8e34a3e-db75-49e3-a294-ac69f17bc177',\n",
       "   'archived': False,\n",
       "   'models': [],\n",
       "   'pipelines': []}]}"
      ]
     },
     "execution_count": 14,
     "metadata": {},
     "output_type": "execute_result"
    }
   ],
   "source": [
    "## List workspaces\n",
    "\n",
    "# Retrieve the token \n",
    "headers = wl.auth.auth_header()\n",
    "\n",
    "api_request = f\"{APIURL}/v1/api/workspaces/list\"\n",
    "\n",
    "data = {\n",
    "}\n",
    "\n",
    "response = requests.post(api_request, json=data, headers=headers, verify=True).json()\n",
    "response"
   ]
  },
  {
   "attachments": {},
   "cell_type": "markdown",
   "id": "6670a0ef-52d9-4fd2-8fb3-4ef2304bdfa2",
   "metadata": {},
   "source": [
    "### Add User to Workspace\n",
    "\n",
    "Existing users of the Wallaroo instance can be added to an existing workspace.\n",
    "\n",
    "* **Parameters**\n",
    "  * **email** - (*REQUIRED string*):  The email address of the user to add to the workspace.  This user must already exist in the Wallaroo instance.\n",
    "  * **workspace_id** - (*REQUIRED int*): The id of the workspace.\n",
    "  \n",
    "Example:  The following example adds the user created in Invite Users request to the workspace created in the [Create Workspace](#create-workspace) request."
   ]
  },
  {
   "cell_type": "code",
   "execution_count": 15,
   "id": "a130de1e-f1ae-434b-ac29-8782e3278334",
   "metadata": {},
   "outputs": [
    {
     "data": {
      "text/plain": [
       "{}"
      ]
     },
     "execution_count": 15,
     "metadata": {},
     "output_type": "execute_result"
    }
   ],
   "source": [
    "# Add existing user to existing workspace\n",
    "\n",
    "# Retrieve the token \n",
    "headers = wl.auth.auth_header()\n",
    "\n",
    "api_request = f\"{APIURL}/v1/api/workspaces/add_user\"\n",
    "\n",
    "data = {\n",
    "  \"email\":new_user,\n",
    "  \"workspace_id\": example_workspace_id\n",
    "}\n",
    "\n",
    "response = requests.post(api_request, json=data, headers=headers, verify=True).json()\n",
    "response"
   ]
  },
  {
   "attachments": {},
   "cell_type": "markdown",
   "id": "d894179b",
   "metadata": {},
   "source": [
    "### List Users in a Workspace\n",
    "\n",
    "Lists the users who are either owners or collaborators of a workspace.\n",
    "\n",
    "* **Parameters**\n",
    "  * **workspace_id** - (*REQUIRED int*): The id of the workspace.\n",
    "* **Returns**\n",
    "  * **user_id**:  The user's Keycloak identification.\n",
    "  * **user_type**:  The user's workspace type (owner, co-owner, etc).\n",
    "  \n",
    "Example:  The following example will list all users part of the workspace created in the [Create Workspace](#create-workspace) request."
   ]
  },
  {
   "cell_type": "code",
   "execution_count": 16,
   "id": "a130de1e-f1ae-434b-ac29-8782e3278334",
   "metadata": {},
   "outputs": [
    {
     "data": {
      "text/plain": [
       "{'users': [{'user_id': 'e8e34a3e-db75-49e3-a294-ac69f17bc177',\n",
       "   'user_type': 'OWNER'},\n",
       "  {'user_id': '0d00a51d-a48e-4643-b07a-2d68facfeac5',\n",
       "   'user_type': 'COLLABORATOR'}]}"
      ]
     },
     "execution_count": 16,
     "metadata": {},
     "output_type": "execute_result"
    }
   ],
   "source": [
    "# List users in a workspace\n",
    "\n",
    "# Retrieve the token \n",
    "\n",
    "headers = wl.auth.auth_header()\n",
    "\n",
    "api_request = f\"{APIURL}/v1/api/workspaces/list_users\"\n",
    "\n",
    "data = {\n",
    "  \"workspace_id\": example_workspace_id\n",
    "}\n",
    "\n",
    "response = requests.post(api_request, json=data, headers=headers, verify=True).json()\n",
    "response"
   ]
  },
  {
   "attachments": {},
   "cell_type": "markdown",
   "id": "d894179b",
   "metadata": {},
   "source": [
    "### Remove User from a Workspace\n",
    "\n",
    "Removes the user from the given workspace.  In this request, either the user's Keycloak ID is required **OR** the user's email address is required.\n",
    "\n",
    "* **Parameters**\n",
    "  * **workspace_id** - (*REQUIRED int*): The id of the workspace.\n",
    "  * **user_id** - (*string*): The Keycloak ID of the user.  If `email` is not provided, then this parameter is **REQUIRED**.\n",
    "  * **email** - (*string*): The user's email address.  If `user_id` is not provided, then this parameter is **REQUIRED**.\n",
    "* **Returns**\n",
    "  * **user_id**:  The user's identification.\n",
    "  * **user_type**:  The user's workspace type (owner, co-owner, etc).\n",
    "  \n",
    "Example:  The following example will remove the `newUser` from workspace created in the [Create Workspace](#create-workspace) request.  Then the users for that workspace will be listed to verify `newUser` has been removed."
   ]
  },
  {
   "cell_type": "code",
   "execution_count": 17,
   "id": "a130de1e-f1ae-434b-ac29-8782e3278334",
   "metadata": {},
   "outputs": [
    {
     "data": {
      "text/plain": [
       "{'affected_rows': 1}"
      ]
     },
     "execution_count": 17,
     "metadata": {},
     "output_type": "execute_result"
    }
   ],
   "source": [
    "# Remove existing user from an existing workspace\n",
    "\n",
    "# Retrieve the token \n",
    "headers = wl.auth.auth_header()\n",
    "\n",
    "api_request = f\"{APIURL}/v1/api/workspaces/remove_user\"\n",
    "\n",
    "data = {\n",
    "  \"email\":new_user,\n",
    "  \"workspace_id\": example_workspace_id\n",
    "}\n",
    "\n",
    "response = requests.post(api_request, json=data, headers=headers, verify=True).json()\n",
    "response"
   ]
  },
  {
   "cell_type": "code",
   "execution_count": 18,
   "id": "d560b63c",
   "metadata": {},
   "outputs": [
    {
     "data": {
      "text/plain": [
       "{'users': {'0d00a51d-a48e-4643-b07a-2d68facfeac5': {'access': {'impersonate': False,\n",
       "    'mapRoles': True,\n",
       "    'view': True,\n",
       "    'manage': True,\n",
       "    'manageGroupMembership': True},\n",
       "   'createdTimestamp': 1683135209186,\n",
       "   'disableableCredentialTypes': [],\n",
       "   'email': 'john.hansarick@wallaroo.ai',\n",
       "   'emailVerified': True,\n",
       "   'enabled': True,\n",
       "   'firstName': 'John',\n",
       "   'id': '0d00a51d-a48e-4643-b07a-2d68facfeac5',\n",
       "   'lastName': 'Hansarick',\n",
       "   'notBefore': 0,\n",
       "   'requiredActions': [],\n",
       "   'username': 'john.hansarick@wallaroo.ai'},\n",
       "  '78b52698-225a-481c-9ec2-ed2b8351e975': {'access': {'manageGroupMembership': True,\n",
       "    'impersonate': False,\n",
       "    'view': True,\n",
       "    'manage': True,\n",
       "    'mapRoles': True},\n",
       "   'createdTimestamp': 1683134266337,\n",
       "   'disableableCredentialTypes': [],\n",
       "   'emailVerified': False,\n",
       "   'enabled': True,\n",
       "   'id': '78b52698-225a-481c-9ec2-ed2b8351e975',\n",
       "   'notBefore': 0,\n",
       "   'requiredActions': [],\n",
       "   'username': 'admin'},\n",
       "  'e8e34a3e-db75-49e3-a294-ac69f17bc177': {'access': {'view': True,\n",
       "    'impersonate': False,\n",
       "    'manage': True,\n",
       "    'manageGroupMembership': True,\n",
       "    'mapRoles': True},\n",
       "   'createdTimestamp': 1683134872833,\n",
       "   'disableableCredentialTypes': [],\n",
       "   'email': 'john.hummel@wallaroo.ai',\n",
       "   'emailVerified': False,\n",
       "   'enabled': True,\n",
       "   'firstName': 'John',\n",
       "   'id': 'e8e34a3e-db75-49e3-a294-ac69f17bc177',\n",
       "   'lastName': 'Hansarick',\n",
       "   'notBefore': 0,\n",
       "   'requiredActions': [],\n",
       "   'username': 'john.hummel@wallaroo.ai'}}}"
      ]
     },
     "execution_count": 18,
     "metadata": {},
     "output_type": "execute_result"
    }
   ],
   "source": [
    "## List users in a workspace\n",
    "\n",
    "# Retrieve the token \n",
    "headers = wl.auth.auth_header()\n",
    "\n",
    "api_request = f\"{APIURL}/v1/api/users/query\"\n",
    "\n",
    "data = {\n",
    "  \"workspace_id\": example_workspace_id\n",
    "}\n",
    "\n",
    "response = requests.post(api_request, json=data, headers=headers, verify=True).json()\n",
    "response"
   ]
  },
  {
   "attachments": {},
   "cell_type": "markdown",
   "id": "f5adfe3e-a667-44dd-94e0-6936031e11fe",
   "metadata": {},
   "source": [
    "## Models\n",
    "\n",
    "### Upload Model to Workspace\n",
    "\n",
    "Uploads a ML Model to a Wallaroo workspace via POST with `Content-Type: multipart/form-data`.\n",
    "\n",
    "* **Parameters**\n",
    "  * **name** - (*REQUIRED string*): Name of the model\n",
    "  * **visibility** - (*OPTIONAL string*): The visibility of the model as either `public` or `private`.\n",
    "  * **workspace_id** - (*REQUIRED int*): The numerical id of the workspace to upload the model to.\n",
    "  \n",
    "Example:  This example will upload the sample file `ccfraud.onnx` to the workspace created in the [Create Workspace](#create-workspace) step as `apitestmodel`.  The model name will be saved as `exampleModelName` for use in other examples.  The id of the uploaded model will be saved as `example_model_id` for use in later examples."
   ]
  },
  {
   "cell_type": "code",
   "execution_count": 19,
   "id": "a11158eb-b459-4be7-837a-01efecfbef3a",
   "metadata": {},
   "outputs": [
    {
     "data": {
      "text/plain": [
       "'Sample model name: apimodel'"
      ]
     },
     "metadata": {},
     "output_type": "display_data"
    },
    {
     "data": {
      "text/plain": [
       "'Sample model file: ./models/ccfraud.onnx'"
      ]
     },
     "metadata": {},
     "output_type": "display_data"
    },
    {
     "data": {
      "text/plain": [
       "{'insert_models': {'returning': [{'models': [{'id': 2}]}]}}"
      ]
     },
     "metadata": {},
     "output_type": "display_data"
    }
   ],
   "source": [
    "## upload model\n",
    "\n",
    "# Retrieve the token\n",
    "headers = wl.auth.auth_header()\n",
    "\n",
    "apiRequest = f\"{APIURL}/v1/api/models/upload\"\n",
    "\n",
    "# Model name and file to use\n",
    "display(f\"Sample model name: {model_name}\")\n",
    "display(f\"Sample model file: {model_file_name}\")\n",
    "\n",
    "\n",
    "data = {\n",
    "    \"name\":model_name,\n",
    "    \"visibility\": \"public\",\n",
    "    \"workspace_id\": example_workspace_id\n",
    "}\n",
    "\n",
    "files = {\n",
    "    'file': (model_name, open(model_file_name, 'rb'))\n",
    "    }\n",
    "\n",
    "\n",
    "response = requests.post(apiRequest, files=files, data=data, headers=headers).json()\n",
    "display(response)"
   ]
  },
  {
   "attachments": {},
   "cell_type": "markdown",
   "id": "57203b35",
   "metadata": {},
   "source": [
    "### Stream Upload Model to Workspace\n",
    "\n",
    "Streams a potentially large ML Model to a Wallaroo workspace via POST with `Content-Type: multipart/form-data`.\n",
    "\n",
    "* **Parameters**\n",
    "  * **name** - (*REQUIRED string*): Name of the model\n",
    "  * **filename** - (*REQUIRED string*): Name of the file being uploaded.\n",
    "  * **visibility** - (*OPTIONAL string*): The visibility of the model as either `public` or `private`.\n",
    "  * **workspace_id** - (*REQUIRED int*): The numerical id of the workspace to upload the model to.\n",
    "  \n",
    "Example:  This example will upload the sample file `ccfraud.onnx` to the workspace created in the [Create Workspace](#create-workspace) step as `apitestmodel`."
   ]
  },
  {
   "cell_type": "code",
   "execution_count": 20,
   "id": "6473baf9",
   "metadata": {},
   "outputs": [
    {
     "data": {
      "text/plain": [
       "'Sample stream model name: apiteststreammodel'"
      ]
     },
     "metadata": {},
     "output_type": "display_data"
    },
    {
     "data": {
      "text/plain": [
       "'Sample model file: ./models/ccfraud.onnx'"
      ]
     },
     "metadata": {},
     "output_type": "display_data"
    },
    {
     "data": {
      "text/plain": [
       "{'insert_models': {'returning': [{'models': [{'id': 3}]}]}}"
      ]
     },
     "execution_count": 20,
     "metadata": {},
     "output_type": "execute_result"
    }
   ],
   "source": [
    "# stream upload model - next test is adding arbitrary chunks to the stream\n",
    "\n",
    "# Retrieve the token \n",
    "headers = wl.auth.auth_header()\n",
    "\n",
    "# Set the contentType\n",
    "headers['contentType']='application/octet-stream'\n",
    "\n",
    "api_request = f\"{APIURL}/v1/api/models/upload_stream\"\n",
    "\n",
    "# Model name and file to use\n",
    "display(f\"Sample stream model name: {stream_model_name}\")\n",
    "display(f\"Sample model file: {stream_model_file_name}\")\n",
    "\n",
    "data = {\n",
    "    \"name\":stream_model_name,\n",
    "    \"filename\": stream_model_file_name,\n",
    "    \"visibility\":\"public\",\n",
    "    \"workspace_id\": example_workspace_id\n",
    "}\n",
    "\n",
    "files = {\n",
    "    'file': (stream_model_name, open(stream_model_file_name, 'rb'))\n",
    "    }\n",
    "\n",
    "response = requests.post(apiRequest, files=files, data=data, headers=headers).json()\n",
    "response"
   ]
  },
  {
   "attachments": {},
   "cell_type": "markdown",
   "id": "a938e735-61dd-4805-a356-81829b9593e6",
   "metadata": {},
   "source": [
    "### List Models in Workspace\n",
    "\n",
    "Returns a list of models added to a specific workspace.\n",
    "\n",
    "* **Parameters**\n",
    "  * **workspace_id** - (*REQUIRED int*): The workspace id to list.\n",
    "  \n",
    "Example:  Display the models for the workspace used in the Upload Model to Workspace step.  The model id and model name will be saved as `example_model_id` and `exampleModelName` variables for other examples."
   ]
  },
  {
   "cell_type": "code",
   "execution_count": 21,
   "id": "f60cc5b9-00bd-4526-8216-bc38e2e145d6",
   "metadata": {},
   "outputs": [
    {
     "data": {
      "text/plain": [
       "{'models': [{'id': 3,\n",
       "   'name': 'apiteststreammodel',\n",
       "   'owner_id': '\"\"',\n",
       "   'created_at': '2023-05-03T17:33:53.694798+00:00',\n",
       "   'updated_at': '2023-05-03T17:33:53.694798+00:00'},\n",
       "  {'id': 2,\n",
       "   'name': 'apimodel',\n",
       "   'owner_id': '\"\"',\n",
       "   'created_at': '2023-05-03T17:33:52.746854+00:00',\n",
       "   'updated_at': '2023-05-03T17:33:52.746854+00:00'}]}"
      ]
     },
     "execution_count": 21,
     "metadata": {},
     "output_type": "execute_result"
    }
   ],
   "source": [
    "# List models in a workspace\n",
    "# Retrieve the token \n",
    "headers = wl.auth.auth_header()\n",
    "\n",
    "api_request = f\"{APIURL}/v1/api/models/list\"\n",
    "\n",
    "data = {\n",
    "  \"workspace_id\": example_workspace_id\n",
    "}\n",
    "\n",
    "response = requests.post(api_request, json=data, headers=headers, verify=True).json()\n",
    "response"
   ]
  },
  {
   "cell_type": "code",
   "execution_count": 22,
   "id": "a397d514",
   "metadata": {},
   "outputs": [],
   "source": [
    "model = next(model for model in response[\"models\"] if model[\"name\"] == \"apimodel\")\n",
    "example_model_id = model['id']"
   ]
  },
  {
   "attachments": {},
   "cell_type": "markdown",
   "id": "d22fdb15-73e7-4118-afab-04de5f41dd3c",
   "metadata": {},
   "source": [
    "### Get Model Details By ID\n",
    "\n",
    "Returns the model details by the specific model id.\n",
    "\n",
    "* **Parameters**\n",
    "  * **workspace_id** - (*REQUIRED int*): The workspace id to list.\n",
    "* **Returns**\n",
    "  * **id** - (*int*):  Numerical id of the model.\n",
    "  * **owner_id** - (*string*): Id of the owner of the model.\n",
    "  * **workspace_id** - (*int*): Numerical of the id the model is in.\n",
    "  * **name** - (*string*): Name of the model.\n",
    "  * **updated_at** - (*DateTime*): Date and time of the model's last update.\n",
    "  * **created_at** - (*DateTime*): Date and time of the model's creation.\n",
    "  * **model_config** - (*string*): Details of the model's configuration.\n",
    "  \n",
    "Example:  Retrieve the details for the model uploaded in the Upload Model to Workspace step."
   ]
  },
  {
   "cell_type": "code",
   "execution_count": 23,
   "id": "e8c969c0-8737-4ce4-891e-deeaae8710e6",
   "metadata": {},
   "outputs": [
    {
     "data": {
      "text/plain": [
       "{'id': 2,\n",
       " 'owner_id': '\"\"',\n",
       " 'workspace_id': 2,\n",
       " 'name': 'apimodel',\n",
       " 'updated_at': '2023-05-03T17:33:52.746854+00:00',\n",
       " 'created_at': '2023-05-03T17:33:52.746854+00:00',\n",
       " 'model_config': None}"
      ]
     },
     "execution_count": 23,
     "metadata": {},
     "output_type": "execute_result"
    }
   ],
   "source": [
    "# Get model details by id\n",
    "# Retrieve the token \n",
    "headers = wl.auth.auth_header()\n",
    "\n",
    "api_request = f\"{APIURL}/v1/api/models/get_by_id\"\n",
    "\n",
    "data = {\n",
    "  \"id\": example_model_id\n",
    "}\n",
    "\n",
    "response = requests.post(api_request, json=data, headers=headers, verify=True).json()\n",
    "response"
   ]
  },
  {
   "attachments": {},
   "cell_type": "markdown",
   "id": "6306d882",
   "metadata": {},
   "source": [
    "### Get Model Versions\n",
    "\n",
    "Retrieves all versions of a model based on either the name of the model or the `model_pk_id`.\n",
    "\n",
    "* **Parameters**\n",
    "  * **model_id** - (*REQUIRED String*): The model name.\n",
    "  * **models_pk_id** - (*REQUIRED int*): The model integer pk id.\n",
    "* **Returns**\n",
    "  * Array(Model Details)\n",
    "    * **sha** - (*String*): The `sha` hash of the model version.\n",
    "    * **models_pk_id**- (*int*): The pk id of the model.\n",
    "    * **model_version** - (*String*): The UUID identifier of the model version.\n",
    "    * **owner_id** - (*String*): The Keycloak user id of the model's owner.\n",
    "    * **model_id** - (*String*): The name of the model.\n",
    "    * **id** - (*int*): The integer id of the model.\n",
    "    * **file_name** - (*String*): The filename used when uploading the model.\n",
    "    * **image_path** - (*String*): The image path of the model.\n",
    "\n",
    "\n",
    "Example:  Retrieve the versions for a previously uploaded model. The variables `example_model_version` and `example_model_sha` will store the model's version and SHA values for use in other examples."
   ]
  },
  {
   "cell_type": "code",
   "execution_count": 24,
   "id": "eaf6ee35",
   "metadata": {},
   "outputs": [
    {
     "data": {
      "text/plain": [
       "[{'sha': 'bc85ce596945f876256f41515c7501c399fd97ebcb9ab3dd41bf03f8937b4507',\n",
       "  'models_pk_id': 2,\n",
       "  'model_version': '7401afd0-6b13-4866-aca9-581a39ac817a',\n",
       "  'owner_id': '\"\"',\n",
       "  'model_id': 'apimodel',\n",
       "  'id': 2,\n",
       "  'file_name': 'apimodel',\n",
       "  'image_path': None,\n",
       "  'status': 'ready'}]"
      ]
     },
     "execution_count": 24,
     "metadata": {},
     "output_type": "execute_result"
    }
   ],
   "source": [
    "## List model versions\n",
    "\n",
    "# Retrieve the token \n",
    "headers = wl.auth.auth_header()\n",
    "api_request = f\"{APIURL}/v1/api/models/list_versions\"\n",
    "\n",
    "data = {\n",
    "  \"model_id\": model_name,\n",
    "  \"models_pk_id\": example_model_id\n",
    "}\n",
    "\n",
    "response = requests.post(api_request, json=data, headers=headers, verify=True).json()\n",
    "response"
   ]
  },
  {
   "cell_type": "code",
   "execution_count": 25,
   "id": "82203f7d",
   "metadata": {},
   "outputs": [],
   "source": [
    "# Stored for future examples\n",
    "\n",
    "example_model_version = response[-1]['model_version']\n",
    "example_model_sha = response[-1]['sha']"
   ]
  },
  {
   "attachments": {},
   "cell_type": "markdown",
   "id": "9ae2fd46-768c-4523-a377-97c5b8d2ec00",
   "metadata": {},
   "source": [
    "### Get Model Configuration by Id\n",
    "\n",
    "Returns the model's configuration details.\n",
    "\n",
    "* **Parameters**\n",
    "  * **model_id** - (*REQUIRED int*): The numerical value of the model's id.\n",
    "  \n",
    "Example:  Submit the model id for the model uploaded in the Upload Model to Workspace step to retrieve configuration details."
   ]
  },
  {
   "cell_type": "code",
   "execution_count": 26,
   "id": "78c07fa3-5538-4336-b6ff-96b1ea06e8cf",
   "metadata": {},
   "outputs": [
    {
     "data": {
      "text/plain": [
       "{'model_config': None}"
      ]
     },
     "execution_count": 26,
     "metadata": {},
     "output_type": "execute_result"
    }
   ],
   "source": [
    "## Get model config by id\n",
    "\n",
    "# Retrieve the token \n",
    "headers = wl.auth.auth_header()\n",
    "api_request = f\"{APIURL}/v1/api/models/get_config_by_id\"\n",
    "\n",
    "data = {\n",
    "  \"model_id\": example_model_id\n",
    "}\n",
    "\n",
    "response = requests.post(api_request, json=data, headers=headers, verify=True).json()\n",
    "response"
   ]
  },
  {
   "attachments": {},
   "cell_type": "markdown",
   "id": "d0b997b9",
   "metadata": {},
   "source": [
    "### Get Model Details\n",
    "\n",
    "Returns details regarding a single model, including versions.\n",
    "\n",
    "Returns the model's configuration details.\n",
    "\n",
    "* **Parameters**\n",
    "  * **model_id** - (*REQUIRED int*): The numerical value of the model's id.\n",
    "  \n",
    "Example:  Submit the model id for the model uploaded in the Upload Model to Workspace step to retrieve configuration details."
   ]
  },
  {
   "cell_type": "code",
   "execution_count": 27,
   "id": "d07853c6",
   "metadata": {},
   "outputs": [
    {
     "data": {
      "text/plain": [
       "{'id': 2,\n",
       " 'name': 'apimodel',\n",
       " 'owner_id': '\"\"',\n",
       " 'created_at': '2023-05-03T17:33:52.746854+00:00',\n",
       " 'updated_at': '2023-05-03T17:33:52.746854+00:00',\n",
       " 'models': [{'sha': 'bc85ce596945f876256f41515c7501c399fd97ebcb9ab3dd41bf03f8937b4507',\n",
       "   'models_pk_id': 2,\n",
       "   'model_version': '7401afd0-6b13-4866-aca9-581a39ac817a',\n",
       "   'owner_id': '\"\"',\n",
       "   'model_id': 'apimodel',\n",
       "   'id': 2,\n",
       "   'file_name': 'apimodel',\n",
       "   'image_path': None}]}"
      ]
     },
     "execution_count": 27,
     "metadata": {},
     "output_type": "execute_result"
    }
   ],
   "source": [
    "# Get model config by id\n",
    "# Retrieve the token \n",
    "headers = wl.auth.auth_header()\n",
    "api_request = f\"{APIURL}/v1/api/models/get\"\n",
    "\n",
    "data = {\n",
    "  \"id\": example_model_id\n",
    "}\n",
    "\n",
    "response = requests.post(api_request, json=data, headers=headers, verify=True).json()\n",
    "response"
   ]
  },
  {
   "attachments": {},
   "cell_type": "markdown",
   "id": "b082e6fd",
   "metadata": {},
   "source": [
    "## Pipeline Management\n",
    "\n",
    "Pipelines are managed through the Wallaroo API or the Wallaroo SDK.  Pipelines are the vehicle used for deploying, serving, and monitoring ML models.  For more information, see the [Wallaroo Glossary](https://docs.wallaroo.ai/wallaroo-glossary/)."
   ]
  },
  {
   "attachments": {},
   "cell_type": "markdown",
   "id": "1c200c67-6797-43b1-9d1c-6b47338ca815",
   "metadata": {},
   "source": [
    "### Create Pipeline in a Workspace\n",
    "\n",
    "Creates a new pipeline in the specified workspace.\n",
    "\n",
    "* **Parameters**\n",
    "  * **pipeline_id** - (REQUIRED string): Name of the new pipeline.\n",
    "  * **workspace_id** - (REQUIRED int): Numerical id of the workspace for the new pipeline.\n",
    "  * **definition** - (REQUIRED string): Pipeline definitions, can be `{}` for none.\n",
    "\n",
    "Example:  Two pipelines are created in the workspace created in the step Create Workspace.  One will be an empty pipeline without any models, the other will be created using the uploaded models in the Upload Model to Workspace step and no configuration details.  The pipeline id, variant id, and variant version of each pipeline will be stored for later examples.\n",
    "\n",
    "The variable `example_workspace_id` was created in a previous example."
   ]
  },
  {
   "cell_type": "code",
   "execution_count": 28,
   "id": "cbb36662-fc0b-4489-9294-b6ecd9971c43",
   "metadata": {},
   "outputs": [
    {
     "data": {
      "text/plain": [
       "{'pipeline_pk_id': 2,\n",
       " 'pipeline_variant_pk_id': 2,\n",
       " 'pipeline_variant_version': 'ebeb88cb-21a4-4caf-83fd-f96e4b04866e'}"
      ]
     },
     "execution_count": 28,
     "metadata": {},
     "output_type": "execute_result"
    }
   ],
   "source": [
    "# Create pipeline in a workspace\n",
    "# Retrieve the token \n",
    "headers = wl.auth.auth_header()\n",
    "\n",
    "api_request = f\"{APIURL}/v1/api/pipelines/create\"\n",
    "\n",
    "data = {\n",
    "  \"pipeline_id\": empty_pipeline_name,\n",
    "  \"workspace_id\": example_workspace_id,\n",
    "  \"definition\": {}\n",
    "}\n",
    "\n",
    "response = requests.post(api_request, json=data, headers=headers, verify=True).json()\n",
    "\n",
    "empty_pipeline_id = response['pipeline_pk_id']\n",
    "empty_pipeline_variant_id=response['pipeline_variant_pk_id']\n",
    "example_pipeline_variant_version=['pipeline_variant_version']\n",
    "response"
   ]
  },
  {
   "cell_type": "code",
   "execution_count": 29,
   "id": "3dbc54d0-0f95-41e4-af11-592f2cf454dc",
   "metadata": {},
   "outputs": [
    {
     "data": {
      "text/plain": [
       "{'pipeline_pk_id': 3,\n",
       " 'pipeline_variant_pk_id': 3,\n",
       " 'pipeline_variant_version': '01b7af10-bd40-4ba1-ab84-adfdf154eed0'}"
      ]
     },
     "execution_count": 29,
     "metadata": {},
     "output_type": "execute_result"
    }
   ],
   "source": [
    "# Create pipeline in a workspace with models\n",
    "# Retrieve the token \n",
    "headers = wl.auth.auth_header()\n",
    "api_request = f\"{APIURL}/v1/api/pipelines/create\"\n",
    "\n",
    "data = {\n",
    "  \"pipeline_id\": model_pipeline_name,\n",
    "  \"workspace_id\": example_workspace_id,\n",
    "  \"definition\": {\n",
    "      'steps': [\n",
    "          {\n",
    "            'ModelInference': \n",
    "              {\n",
    "                  'models': \n",
    "                    [\n",
    "                        {\n",
    "                            'name': model_name, \n",
    "                            'version': example_model_version, \n",
    "                            'sha': example_model_sha\n",
    "                        }\n",
    "                    ]\n",
    "              }\n",
    "          }\n",
    "        ]\n",
    "      }\n",
    "    }\n",
    "\n",
    "response = requests.post(api_request, json=data, headers=headers, verify=True).json()\n",
    "model_pipeline_id = response['pipeline_pk_id']\n",
    "model_pipeline_variant_id=response['pipeline_variant_pk_id']\n",
    "model_pipeline_variant_version=['pipeline_variant_version']\n",
    "response"
   ]
  },
  {
   "attachments": {},
   "cell_type": "markdown",
   "id": "39d79170-541b-44f1-874f-9eebd221e36c",
   "metadata": {},
   "source": [
    "### Deploy a Pipeline\n",
    "\n",
    "Deploy a an existing pipeline.  Note that for any pipeline that has model steps, they must be included either in `model_configs`, `model_ids` or `models`.\n",
    "\n",
    "* **Parameters**\n",
    "  * **deploy_id** (*REQUIRED string*): The name for the pipeline deployment.  This **must** match the name of the pipeline being deployed.\n",
    "  * **engine_config** (*OPTIONAL string*): Additional configuration options for the pipeline.\n",
    "  * **pipeline_version_pk_id** (*REQUIRED int*): Pipeline version id.\n",
    "  * **model_configs** (*OPTIONAL Array int*): Ids of model configs to apply.\n",
    "  * **model_ids** (*OPTIONAL Array int*): Ids of models to apply to the pipeline.  If passed in, model_configs will be created automatically.\n",
    "  * **models** (*OPTIONAL Array models*):  If the model ids are not available as a pipeline step, the models' data can be passed to it through this method.  The options below are only required if `models` are provided as a parameter.\n",
    "    * **name** (*REQUIRED string*): Name of the uploaded model that is in the same workspace as the pipeline.\n",
    "    * **version** (*REQUIRED string*): Version of the model to use.\n",
    "    * **sha** (*REQUIRED string*): SHA value of the model.\n",
    "  * **pipeline_id** (*REQUIRED int*): Numerical value of the pipeline to deploy.\n",
    "* **Returns**\n",
    "  * **id** (*int*): The deployment id.\n",
    "\n",
    "Examples:  Both the pipeline with model created in the step [Create Pipeline in a Workspace](#create-pipeline-in-a-workspace) will be deployed and their deployment information saved for later examples.\n"
   ]
  },
  {
   "cell_type": "code",
   "execution_count": 30,
   "id": "1d808303-8db7-402f-b2d1-84fc89652a26",
   "metadata": {},
   "outputs": [
    {
     "data": {
      "text/plain": [
       "{'id': 2}"
      ]
     },
     "metadata": {},
     "output_type": "display_data"
    }
   ],
   "source": [
    "# Deploy a pipeline with models\n",
    "\n",
    "# Retrieve the token \n",
    "headers = wl.auth.auth_header()\n",
    "api_request = f\"{APIURL}/v1/api/pipelines/deploy\"\n",
    "\n",
    "model_deploy_id=model_pipeline_name\n",
    "\n",
    "# example_model_deploy_id=\"test deployment name\"\n",
    "\n",
    "data = {\n",
    "    \"deploy_id\": model_deploy_id,\n",
    "    \"pipeline_version_pk_id\": model_pipeline_variant_id,\n",
    "    \"models\": [\n",
    "        {\n",
    "            \"name\": model_name,\n",
    "            \"version\":example_model_version,\n",
    "            \"sha\":example_model_sha\n",
    "        }\n",
    "    ],\n",
    "    \"pipeline_id\": model_pipeline_id\n",
    "}\n",
    "\n",
    "\n",
    "response = requests.post(api_request, json=data, headers=headers, verify=True).json()\n",
    "display(response)\n",
    "model_deployment_id=response['id']\n",
    "\n",
    "# wait 45 seconds for the pipeline to complete deployment\n",
    "import time\n",
    "time.sleep(45)\n"
   ]
  },
  {
   "attachments": {},
   "cell_type": "markdown",
   "id": "9d5b90ba-0da4-451b-b7d1-7274c3bc4fa2",
   "metadata": {},
   "source": [
    "### Get Deployment Status\n",
    "\n",
    "Returns the deployment status.\n",
    "\n",
    "* **Parameters**\n",
    "  * **name** - (REQUIRED string): The deployment in the format {deployment_name}-{deploymnent-id}.\n",
    "  \n",
    "Example: The deployed empty and model pipelines status will be displayed."
   ]
  },
  {
   "cell_type": "code",
   "execution_count": 32,
   "id": "1b2d6289-4a0f-4fa2-b7ed-0354100d13ed",
   "metadata": {},
   "outputs": [
    {
     "data": {
      "text/plain": [
       "{'status': 'Running',\n",
       " 'details': [],\n",
       " 'engines': [{'ip': '10.244.1.83',\n",
       "   'name': 'engine-86849d8cbd-77qmv',\n",
       "   'status': 'Running',\n",
       "   'reason': None,\n",
       "   'details': [],\n",
       "   'pipeline_statuses': {'pipelines': [{'id': 'pipelinemodels',\n",
       "      'status': 'Running'}]},\n",
       "   'model_statuses': {'models': [{'name': 'apimodel',\n",
       "      'version': '7401afd0-6b13-4866-aca9-581a39ac817a',\n",
       "      'sha': 'bc85ce596945f876256f41515c7501c399fd97ebcb9ab3dd41bf03f8937b4507',\n",
       "      'status': 'Running'}]}}],\n",
       " 'engine_lbs': [{'ip': '10.244.1.82',\n",
       "   'name': 'engine-lb-7866867b55-m4797',\n",
       "   'status': 'Running',\n",
       "   'reason': None,\n",
       "   'details': []}],\n",
       " 'sidekicks': []}"
      ]
     },
     "execution_count": 32,
     "metadata": {},
     "output_type": "execute_result"
    }
   ],
   "source": [
    "# Retrieve the token \n",
    "headers = wl.auth.auth_header()\n",
    "\n",
    "# Get model pipeline deployment\n",
    "\n",
    "api_request = f\"{APIURL}/v1/api/status/get_deployment\"\n",
    "\n",
    "data = {\n",
    "  \"name\": f\"{model_deploy_id}-{model_deployment_id}\"\n",
    "}\n",
    "\n",
    "response = requests.post(api_request, json=data, headers=headers, verify=True).json()\n",
    "response"
   ]
  },
  {
   "attachments": {},
   "cell_type": "markdown",
   "id": "eefdaa60",
   "metadata": {},
   "source": [
    "### Get External Inference URL\n",
    "\n",
    "The API command `/admin/get_pipeline_external_url` retrieves the external inference URL for a specific pipeline in a workspace.\n",
    "\n",
    "* **Parameters**\n",
    "  * **workspace_id** (*REQUIRED integer*):  The workspace integer id.\n",
    "  * **pipeline_name** (*REQUIRED string*): The name of the deployment.\n",
    "\n",
    "In this example, a list of the workspaces will be retrieved.  Based on the setup from the Internal Pipeline Deployment URL Tutorial, the workspace matching `urlworkspace` will have it's **workspace id** stored and used for the `/admin/get_pipeline_external_url` request with the pipeline `urlpipeline`.\n",
    "\n",
    "The External Inference URL will be stored as a variable for the next step."
   ]
  },
  {
   "cell_type": "code",
   "execution_count": 35,
   "id": "d969a878",
   "metadata": {},
   "outputs": [
    {
     "name": "stdout",
     "output_type": "stream",
     "text": [
      "{'url': 'https://docreleasetest.api.wallaroocommunity.ninja/v1/api/pipelines/infer/pipelinemodels-2/pipelinemodels'}\n"
     ]
    }
   ],
   "source": [
    "## Retrieve the pipeline's External Inference URL\n",
    "\n",
    "# Retrieve the token \n",
    "headers = wl.auth.auth_header()\n",
    "\n",
    "api_request = f\"{APIURL}/v1/api/admin/get_pipeline_external_url\"\n",
    "\n",
    "data = {\n",
    "    \"workspace_id\": example_workspace_id,\n",
    "    \"pipeline_name\": model_pipeline_name\n",
    "}\n",
    "\n",
    "response = requests.post(api_request, json=data, headers=headers, verify=True).json()\n",
    "print(response)\n",
    "deployurl = response['url']"
   ]
  },
  {
   "attachments": {},
   "cell_type": "markdown",
   "id": "54d07891",
   "metadata": {},
   "source": [
    "### Perform Inference Through External URL\n",
    "\n",
    "The inference can now be performed through the External Inference URL.  This URL will accept the same inference data file that is used with the Wallaroo SDK, or with an Internal Inference URL as used in the Internal Pipeline Inference URL Tutorial.\n",
    "\n",
    "Deployed pipelines have their own Inference URL that accepts HTTP POST submissions.\n",
    "\n",
    "For connections that are external to the Kubernetes cluster hosting the Wallaroo instance, [model endpoints must be enabled](https://docs.wallaroo.ai/wallaroo-operations-guide/wallaroo-configuration/wallaroo-model-endpoints-guide/).\n",
    "\n",
    "## HTTP Headers\n",
    "\n",
    "The following headers are required for connecting the the Pipeline Deployment URL:\n",
    "\n",
    "* **Authorization**: This requires the JWT token in the format `'Bearer ' + token`.  For example:\n",
    "\n",
    "    ```bash\n",
    "    Authorization: Bearer abcdefg==\n",
    "    ```\n",
    "\n",
    "* **Content-Type**:\n",
    "* For DataFrame formatted JSON:\n",
    "\n",
    "    ```bash\n",
    "    Content-Type:application/json; format=pandas-records\n",
    "    ```\n",
    "\n",
    "* For Arrow binary files, the `Content-Type` is `application/vnd.apache.arrow.file`.\n",
    "\n",
    "    ```bash\n",
    "    Content-Type:application/vnd.apache.arrow.file\n",
    "    ```\n",
    "\n",
    "* **IMPORTANT NOTE**:  Verify that the pipeline deployed has status `Running` before attempting an inference."
   ]
  },
  {
   "cell_type": "code",
   "execution_count": 36,
   "id": "f29d8494",
   "metadata": {},
   "outputs": [
    {
     "data": {
      "text/html": [
       "<div>\n",
       "<style scoped>\n",
       "    .dataframe tbody tr th:only-of-type {\n",
       "        vertical-align: middle;\n",
       "    }\n",
       "\n",
       "    .dataframe tbody tr th {\n",
       "        vertical-align: top;\n",
       "    }\n",
       "\n",
       "    .dataframe thead th {\n",
       "        text-align: right;\n",
       "    }\n",
       "</style>\n",
       "<table border=\"1\" class=\"dataframe\">\n",
       "  <thead>\n",
       "    <tr style=\"text-align: right;\">\n",
       "      <th></th>\n",
       "      <th>time</th>\n",
       "      <th>in</th>\n",
       "      <th>out</th>\n",
       "      <th>check_failures</th>\n",
       "      <th>metadata</th>\n",
       "    </tr>\n",
       "  </thead>\n",
       "  <tbody>\n",
       "    <tr>\n",
       "      <th>0</th>\n",
       "      <td>1683135510331</td>\n",
       "      <td>{'tensor': [1.0678324729, 0.2177810266, -1.7115145262, 0.682285721, 1.0138553067, -0.4335000013, 0.7395859437, -0.2882839595, -0.447262688, 0.5146124988, 0.3791316964, 0.5190619748, -0.4904593222, 1.1656456469, -0.9776307444, -0.6322198963, -0.6891477694, 0.1783317857, 0.1397992467, -0.3554220649, 0.4394217877, 1.4588397512, -0.3886829615, 0.4353492889, 1.7420053483, -0.4434654615, -0.1515747891, -0.2668451725, -1.4549617756]}</td>\n",
       "      <td>{'dense_1': [0.0014974177]}</td>\n",
       "      <td>[]</td>\n",
       "      <td>{'last_model': '{\"model_name\":\"apimodel\",\"model_sha\":\"bc85ce596945f876256f41515c7501c399fd97ebcb9ab3dd41bf03f8937b4507\"}', 'elapsed': [157703, 260305]}</td>\n",
       "    </tr>\n",
       "  </tbody>\n",
       "</table>\n",
       "</div>"
      ],
      "text/plain": [
       "            time  \\\n",
       "0  1683135510331   \n",
       "\n",
       "                                                                                                                                                                                                                                                                                                                                                                                                                                               in  \\\n",
       "0  {'tensor': [1.0678324729, 0.2177810266, -1.7115145262, 0.682285721, 1.0138553067, -0.4335000013, 0.7395859437, -0.2882839595, -0.447262688, 0.5146124988, 0.3791316964, 0.5190619748, -0.4904593222, 1.1656456469, -0.9776307444, -0.6322198963, -0.6891477694, 0.1783317857, 0.1397992467, -0.3554220649, 0.4394217877, 1.4588397512, -0.3886829615, 0.4353492889, 1.7420053483, -0.4434654615, -0.1515747891, -0.2668451725, -1.4549617756]}   \n",
       "\n",
       "                           out check_failures  \\\n",
       "0  {'dense_1': [0.0014974177]}             []   \n",
       "\n",
       "                                                                                                                                                  metadata  \n",
       "0  {'last_model': '{\"model_name\":\"apimodel\",\"model_sha\":\"bc85ce596945f876256f41515c7501c399fd97ebcb9ab3dd41bf03f8937b4507\"}', 'elapsed': [157703, 260305]}  "
      ]
     },
     "metadata": {},
     "output_type": "display_data"
    }
   ],
   "source": [
    "# Retrieve the token\n",
    "headers = wl.auth.auth_header()\n",
    "\n",
    "# set Content-Type type\n",
    "headers['Content-Type']='application/json; format=pandas-records'\n",
    "\n",
    "## Inference through external URL using dataframe\n",
    "\n",
    "# retrieve the json data to submit\n",
    "data = [\n",
    "    {\n",
    "        \"tensor\":[\n",
    "            1.0678324729,\n",
    "            0.2177810266,\n",
    "            -1.7115145262,\n",
    "            0.682285721,\n",
    "            1.0138553067,\n",
    "            -0.4335000013,\n",
    "            0.7395859437,\n",
    "            -0.2882839595,\n",
    "            -0.447262688,\n",
    "            0.5146124988,\n",
    "            0.3791316964,\n",
    "            0.5190619748,\n",
    "            -0.4904593222,\n",
    "            1.1656456469,\n",
    "            -0.9776307444,\n",
    "            -0.6322198963,\n",
    "            -0.6891477694,\n",
    "            0.1783317857,\n",
    "            0.1397992467,\n",
    "            -0.3554220649,\n",
    "            0.4394217877,\n",
    "            1.4588397512,\n",
    "            -0.3886829615,\n",
    "            0.4353492889,\n",
    "            1.7420053483,\n",
    "            -0.4434654615,\n",
    "            -0.1515747891,\n",
    "            -0.2668451725,\n",
    "            -1.4549617756\n",
    "        ]\n",
    "    }\n",
    "]\n",
    "\n",
    "# submit the request via POST, import as pandas DataFrame\n",
    "response = pd.DataFrame.from_records(\n",
    "    requests.post(\n",
    "        deployurl, \n",
    "        json=data, \n",
    "        headers=headers)\n",
    "        .json()\n",
    "    )\n",
    "\n",
    "display(response)"
   ]
  },
  {
   "attachments": {},
   "cell_type": "markdown",
   "id": "990e2be0-8f8c-4cd4-a27a-4780a44af678",
   "metadata": {},
   "source": [
    "### Undeploy a Pipeline\n",
    "\n",
    "Undeploys a deployed pipeline.\n",
    "\n",
    "* **Parameters**\n",
    "  * **pipeline_id** - (*REQUIRED int*): The numerical id of the pipeline.\n",
    "  * **deployment_id** - (*REQUIRED int*): The numerical id of the deployment.\n",
    "* **Returns**\n",
    "  * Nothing if the call is successful.\n",
    "\n",
    "Example:  Both the empty pipeline and pipeline with models deployed in the step Deploy a Pipeline will be undeployed."
   ]
  },
  {
   "cell_type": "code",
   "execution_count": 37,
   "id": "f059c83f-8101-4411-ac0d-feaf7823fd93",
   "metadata": {},
   "outputs": [],
   "source": [
    "# Undeploy pipeline with models\n",
    "# Retrieve the token \n",
    "headers = wl.auth.auth_header()\n",
    "api_request = f\"{APIURL}/v1/api/pipelines/undeploy\"\n",
    "\n",
    "data = {\n",
    "    \"pipeline_id\": model_pipeline_id,\n",
    "    \"deployment_id\":model_deployment_id\n",
    "}\n",
    "\n",
    "response = requests.post(api_request, json=data, headers=headers, verify=True).json()\n",
    "response"
   ]
  },
  {
   "attachments": {},
   "cell_type": "markdown",
   "id": "b90b5718-204a-44b1-a4ba-6ff28e3d93ce",
   "metadata": {},
   "source": [
    "### Copy a Pipeline\n",
    "\n",
    "Copies an existing pipeline into a new one in the same workspace.  A new engine configuration can be set for the copied pipeline.\n",
    "\n",
    "* **Parameters**\n",
    "  * **name** - (REQUIRED string): The name of the new pipeline.\n",
    "  * **workspace_id** - (REQUIRED int): The numerical id of the workspace to copy the source pipeline from.\n",
    "  * **source_pipeline** - (REQUIRED int): The numerical id of the pipeline to copy from.\n",
    "  * **deploy** - (OPTIONAL string): Name of the deployment.\n",
    "  * **engine_config** - (OPTIONAL string): Engine configuration options.\n",
    "  * **pipeline_version** - (OPTIONAL string): Optional version of the copied pipeline to create.\n",
    "\n",
    "Example:  The pipeline with models created in the step Create Pipeline in a Workspace will be copied into a new one.\n"
   ]
  },
  {
   "cell_type": "code",
   "execution_count": 38,
   "id": "23ce3f2a-a214-4d17-a131-1f9d4e4609ad",
   "metadata": {},
   "outputs": [
    {
     "data": {
      "text/plain": [
       "{'pipeline_pk_id': 4,\n",
       " 'pipeline_variant_pk_id': 4,\n",
       " 'pipeline_version': None,\n",
       " 'deployment': None}"
      ]
     },
     "execution_count": 38,
     "metadata": {},
     "output_type": "execute_result"
    }
   ],
   "source": [
    "## Copy a pipeline\n",
    "\n",
    "# Retrieve the token \n",
    "headers = wl.auth.auth_header()\n",
    "\n",
    "api_request = f\"{APIURL}/v1/api/pipelines/copy\"\n",
    "\n",
    "\n",
    "\n",
    "data = {\n",
    "  \"name\": example_copied_pipeline_name,\n",
    "  \"workspace_id\": example_workspace_id,\n",
    "  \"source_pipeline\": model_pipeline_id\n",
    "}\n",
    "\n",
    "response = requests.post(api_request, json=data, headers=headers, verify=True).json()\n",
    "response"
   ]
  },
  {
   "attachments": {},
   "cell_type": "markdown",
   "id": "1b0178bc-491b-4309-9f4d-5e1b80314a0e",
   "metadata": {},
   "source": [
    "## List Enablement Features\n",
    "\n",
    "Lists the enablement features for the Wallaroo instance.\n",
    "\n",
    "* **PARAMETERS**\n",
    "  * null:  An empty set `{}`\n",
    "* **RETURNS**\n",
    "  * **features** - (*string*): Enabled features.\n",
    "  * **name** - (*string*): Name of the Wallaroo instance.\n",
    "  * **is_auth_enabled** - (*bool*): Whether authentication is enabled."
   ]
  },
  {
   "cell_type": "code",
   "execution_count": 39,
   "id": "8983b258-32db-4f48-bc4e-9a883abeddd4",
   "metadata": {},
   "outputs": [
    {
     "data": {
      "text/plain": [
       "{'features': {'plateau': 'true'},\n",
       " 'name': 'Wallaroo Dev',\n",
       " 'is_auth_enabled': True}"
      ]
     },
     "execution_count": 39,
     "metadata": {},
     "output_type": "execute_result"
    }
   ],
   "source": [
    "# List enablement features\n",
    "# Retrieve the token \n",
    "headers = wl.auth.auth_header()\n",
    "api_request = f\"{APIURL}/v1/api/features/list\"\n",
    "\n",
    "data = {\n",
    "}\n",
    "\n",
    "response = requests.post(api_request, json=data, headers=headers, verify=True).json()\n",
    "response"
   ]
  },
  {
   "attachments": {},
   "cell_type": "markdown",
   "id": "e87bb348-b2b2-4083-9c8b-a8ca10bf34e3",
   "metadata": {},
   "source": [
    "## Assays\n",
    "\n",
    "**IMPORTANT NOTE**: These assays were run in a Wallaroo environment with canned historical data.  See the [Wallaroo Assay Tutorial](https://github.com/WallarooLabs/Wallaroo_Tutorials/tree/main/model_insights) for details on setting up this environment.  This historical data is **required** for these examples."
   ]
  },
  {
   "attachments": {},
   "cell_type": "markdown",
   "id": "dd0a1eae-1b07-4ce0-9044-581c806f9d67",
   "metadata": {},
   "source": [
    "### Create Assay\n",
    "\n",
    "Create a new array in a specified pipeline.\n",
    "\n",
    "* **PARAMETERS**\n",
    "  * **id** - (*OPTIONAL int*):  The numerical identifier for the assay.\n",
    "  * **name** - (*REQUIRED string*): The name of the assay.\n",
    "  * **pipeline_id** - (*REQUIRED int*): The numerical idenfifier the assay will be placed into.\n",
    "  * **pipeline_name** - (*REQUIRED string*): The name of the pipeline\n",
    "  * **active** - (*REQUIRED bool*): Indicates whether the assay will be active upon creation or not.\n",
    "  * **status** - (*REQUIRED string*): The status of the assay upon creation.\n",
    "  * **iopath** - (*REQUIRED string*): The iopath of the assay in the format `\"input|output field_name field_index`.\n",
    "  * **baseline** - (*REQUIRED baseline*): The baseline for the assay.\n",
    "    * **Fixed** - (*REQUIRED AssayFixConfiguration*): The fixed configuration for the assay.\n",
    "      * **pipeline** - (*REQUIRED string*): The name of the pipeline with the baseline data.\n",
    "      * **model** - (*REQUIRED string*): The name of the model used.\n",
    "      * **start_at** - (*REQUIRED string*): The DateTime of the baseline start date.\n",
    "      * **end_at** - (*REQUIRED string*): The DateTime of the baseline end date.\n",
    "  * **window** (*REQUIRED AssayWindow*): Assay window.\n",
    "    * **pipeline** - (*REQUIRED string*): The name of the pipeline for the assay window.\n",
    "    * **model** - (*REQUIRED string*): The name of the model used for the assay window.\n",
    "    * **width** - (*REQUIRED string*): The width of the assay window.\n",
    "    * **start** - (*OPTIONAL string*): The DateTime of when to start the assay window.\n",
    "    * **interval** - (*OPTIONAL string*): The assay window interval.\n",
    "  * **summarizer** - (*REQUIRED AssaySummerizer*): The summarizer type for the array aka \"advanced settings\" in the Wallaroo Dashboard UI.\n",
    "    * **type** - (*REQUIRED string*): Type of summarizer.\n",
    "    * **bin_mode** - (*REQUIRED string*): The binning model type.  Values can be:\n",
    "      * Quantile\n",
    "      * Equal\n",
    "    * **aggregation** - (*REQUIRED string*): Aggregation type.\n",
    "    * **metric** - (*REQUIRED string*): Metric type.  Values can be:\n",
    "      * PSI\n",
    "      * Maximum Difference of Bins\n",
    "      * Sum of the Difference of Bins\n",
    "    * **num_bins** - (*REQUIRED int*): The number of bins.  Recommanded values are between 5 and 14.\n",
    "    * **bin_weights** - (*OPTIONAL AssayBinWeight*): The weights assigned to the assay bins.\n",
    "    * **bin_width** - (*OPTIONAL AssayBinWidth*): The width assigned to the assay bins.\n",
    "    * **provided_edges** - (*OPTIONAL AssayProvidedEdges*): The edges used for the assay bins.\n",
    "    * **add_outlier_edges** - (*REQUIRED bool*): Indicates whether to add outlier edges or not.\n",
    "  * **warning_threshold** - (*OPTIONAL number*): Optional warning threshold.\n",
    "  * **alert_threshold** - (*REQUIRED number*): Alert threshold.\n",
    "  * **run_until** - (*OPTIONAL string*): DateTime of when to end the assay.\n",
    "  * **workspace_id** - (*REQUIRED integer*): The workspace the assay is part of.\n",
    "  * **model_insights_url** - (*OPTIONAL string*): URL for model insights.\n",
    "* **RETURNS**\n",
    "  * **assay_id** - (*integer*): The id of the new assay.\n",
    "\n",
    "As noted this example requires the [Wallaroo Assay Tutorial](https://github.com/WallarooLabs/Wallaroo_Tutorials/tree/main/model_insights) for historical data.  Before running this example, set the sample pipeline id, pipeline, name, model name, and workspace id in the code sample below.\n",
    "\n",
    "For our example, we will be using the output of the field `dense_2` at the index 0 for the iopath.\n",
    "\n",
    "For more information on retrieving this information, see the [Wallaroo Developer Guides](https://docs.wallaroo.ai/wallaroo-developer-guides/)."
   ]
  },
  {
   "cell_type": "code",
   "execution_count": 45,
   "id": "9934088b",
   "metadata": {},
   "outputs": [],
   "source": [
    "# Retrieve information for the housepricedrift workspace\n",
    "\n",
    "# List workspaces\n",
    "\n",
    "# Retrieve the token \n",
    "headers = wl.auth.auth_header()\n",
    "\n",
    "api_request = f\"{APIURL}/v1/api/workspaces/list\"\n",
    "\n",
    "data = {\n",
    "}\n",
    "\n",
    "response = requests.post(api_request, json=data, headers=headers, verify=True).json()\n",
    "\n"
   ]
  },
  {
   "cell_type": "code",
   "execution_count": 48,
   "id": "443fa877",
   "metadata": {},
   "outputs": [],
   "source": [
    "assay_workspace = next(workspace for workspace in response[\"workspaces\"] if workspace[\"name\"] == \"housepricedrift\")\n",
    "assay_workspace_id = assay_workspace['id']\n",
    "assay_pipeline_id = assay_workspace['pipelines'][0]"
   ]
  },
  {
   "cell_type": "code",
   "execution_count": 50,
   "id": "6310b708-7689-4c4e-8cab-10d5bc2bb435",
   "metadata": {},
   "outputs": [
    {
     "data": {
      "text/plain": [
       "{'assay_id': 1}"
      ]
     },
     "execution_count": 50,
     "metadata": {},
     "output_type": "execute_result"
    }
   ],
   "source": [
    "## Create assay\n",
    "\n",
    "# Retrieve the token \n",
    "headers = wl.auth.auth_header()\n",
    "\n",
    "api_request = f\"{APIURL}/v1/api/assays/create\"\n",
    "\n",
    "exampleAssayName = \"api_assay\"\n",
    "\n",
    "## Now get all of the assays for the pipeline in workspace 4 `housepricedrift`\n",
    "\n",
    "exampleAssayPipelineId = assay_pipeline_id\n",
    "exampleAssayPipelineName = \"housepricepipe\"\n",
    "exampleAssayModelName = \"housepricemodel\"\n",
    "exampleAssayWorkspaceId = assay_workspace_id\n",
    "\n",
    "# iopath can be input 00 or output 0 0\n",
    "data = {\n",
    "    'name': exampleAssayName,\n",
    "    'pipeline_id': exampleAssayPipelineId,\n",
    "    'pipeline_name': exampleAssayPipelineName,\n",
    "    'active': True,\n",
    "    'status': 'active',\n",
    "    'iopath': \"output dense_2 0\",\n",
    "    'baseline': {\n",
    "        'Fixed': {\n",
    "            'pipeline': exampleAssayPipelineName,\n",
    "            'model': exampleAssayModelName,\n",
    "            'start_at': '2023-01-01T00:00:00-05:00',\n",
    "            'end_at': '2023-01-02T00:00:00-05:00'\n",
    "        }\n",
    "    },\n",
    "    'window': {\n",
    "        'pipeline': exampleAssayPipelineName,\n",
    "        'model': exampleAssayModelName,\n",
    "        'width': '24 hours',\n",
    "        'start': None,\n",
    "        'interval': None\n",
    "    },\n",
    "    'summarizer': {\n",
    "        'type': 'UnivariateContinuous',\n",
    "        'bin_mode': 'Quantile',\n",
    "        'aggregation': 'Density',\n",
    "        'metric': 'PSI',\n",
    "        'num_bins': 5,\n",
    "        'bin_weights': None,\n",
    "        'bin_width': None,\n",
    "        'provided_edges': None,\n",
    "        'add_outlier_edges': True\n",
    "    },\n",
    "    'warning_threshold': 0,\n",
    "    'alert_threshold': 0.1,\n",
    "    'run_until': None,\n",
    "    'workspace_id': exampleAssayWorkspaceId\n",
    "}\n",
    "\n",
    "response = requests.post(api_request, json=data, headers=headers, verify=True).json()\n",
    "example_assay_id = response['assay_id']\n",
    "response"
   ]
  },
  {
   "attachments": {},
   "cell_type": "markdown",
   "id": "75f174e8-6319-402e-8273-45bbf9b7553d",
   "metadata": {},
   "source": [
    "### List Assays\n",
    "\n",
    "Lists all assays in the specified pipeline.\n",
    "\n",
    "* **PARAMETERS**\n",
    "  * **pipeline_id** - (*REQUIRED int*):  The numerical ID of the pipeline.\n",
    "* **RETURNS**\n",
    "  * **assays** - (*Array assays*): A list of all assays.\n",
    "\n",
    "Example:  Display a list of all assays in a workspace.  This will assume we have a workspace with an existing Assay and the associated data has been upload.  See the tutorial [Wallaroo Assays Tutorial](https://github.com/WallarooLabs/Wallaroo_Tutorials/tree/main/model_insights).\n",
    "\n",
    "For this reason, these values are hard coded for now."
   ]
  },
  {
   "cell_type": "code",
   "execution_count": 51,
   "id": "8ae8d44a-e773-4f29-8530-a24dd7c3c2d0",
   "metadata": {},
   "outputs": [
    {
     "data": {
      "text/plain": [
       "[{'id': 1,\n",
       "  'name': 'api_assay',\n",
       "  'active': True,\n",
       "  'status': '{\"run_at\": \"2023-05-03T17:49:04.896148066+00:00\",  \"num_ok\": 0, \"num_warnings\": 9, \"num_alerts\": 1}',\n",
       "  'warning_threshold': 0.0,\n",
       "  'alert_threshold': 0.1,\n",
       "  'pipeline_id': 5,\n",
       "  'pipeline_name': 'housepricepipe',\n",
       "  'last_run': '2023-05-03T17:49:04.896148+00:00',\n",
       "  'next_run': '2023-05-03T05:00:00+00:00',\n",
       "  'run_until': None,\n",
       "  'updated_at': '2023-05-03T17:49:04.51746+00:00',\n",
       "  'baseline': {'Fixed': {'pipeline': 'housepricepipe',\n",
       "    'model': 'housepricemodel',\n",
       "    'start_at': '2023-01-01T00:00:00-05:00',\n",
       "    'end_at': '2023-01-02T00:00:00-05:00'}},\n",
       "  'window': {'pipeline': 'housepricepipe',\n",
       "   'model': 'housepricemodel',\n",
       "   'width': '24 hours',\n",
       "   'start': None,\n",
       "   'interval': None},\n",
       "  'summarizer': {'type': 'UnivariateContinuous',\n",
       "   'bin_mode': 'Quantile',\n",
       "   'aggregation': 'Density',\n",
       "   'metric': 'PSI',\n",
       "   'num_bins': 5,\n",
       "   'bin_weights': None,\n",
       "   'provided_edges': None}}]"
      ]
     },
     "execution_count": 51,
     "metadata": {},
     "output_type": "execute_result"
    }
   ],
   "source": [
    "# Get assays\n",
    "# Retrieve the token \n",
    "headers = wl.auth.auth_header()\n",
    "\n",
    "api_request = f\"{APIURL}/v1/api/assays/list\"\n",
    "\n",
    "data = {\n",
    "    \"pipeline_id\": exampleAssayPipelineId\n",
    "}\n",
    "\n",
    "response = requests.post(api_request, json=data, headers=headers, verify=True).json()\n",
    "response"
   ]
  },
  {
   "attachments": {},
   "cell_type": "markdown",
   "id": "54853332-fc35-410b-a127-8715da9b06db",
   "metadata": {},
   "source": [
    "## Activate or Deactivate Assay\n",
    "\n",
    "Activates or deactivates an existing assay.\n",
    "\n",
    "* **Parameters**\n",
    "  * **id** - (*REQUIRED int*): The numerical id of the assay.\n",
    "  * **active** - (*REQUIRED bool*): True to activate the assay, False to deactivate it.\n",
    "* **Returns**\n",
    "  * * **id** - (*integer*): The numerical id of the assay.\n",
    "  * **active** - (*bool*): True to activate the assay, False to deactivate it.\n",
    "\n",
    "Example:  Assay 8 \"House Output Assay\" will be deactivated then activated."
   ]
  },
  {
   "cell_type": "code",
   "execution_count": 52,
   "id": "d2e1b1e5-8078-4365-9708-45793642bd1a",
   "metadata": {},
   "outputs": [
    {
     "data": {
      "text/plain": [
       "{'id': 1, 'active': False}"
      ]
     },
     "execution_count": 52,
     "metadata": {},
     "output_type": "execute_result"
    }
   ],
   "source": [
    "# Deactivate assay\n",
    "\n",
    "# Retrieve the token \n",
    "headers = wl.auth.auth_header()\n",
    "\n",
    "api_request = f\"{APIURL}/v1/api/assays/set_active\"\n",
    "\n",
    "data = {\n",
    "    'id': example_assay_id,\n",
    "    'active': False\n",
    "}\n",
    "\n",
    "response = requests.post(api_request, json=data, headers=headers, verify=True).json()\n",
    "response"
   ]
  },
  {
   "cell_type": "code",
   "execution_count": 53,
   "id": "3f9a4069-4418-41e6-b3a3-b0223f997d31",
   "metadata": {},
   "outputs": [
    {
     "data": {
      "text/plain": [
       "{'id': 1, 'active': True}"
      ]
     },
     "execution_count": 53,
     "metadata": {},
     "output_type": "execute_result"
    }
   ],
   "source": [
    "# Activate assay\n",
    "\n",
    "# Retrieve the token \n",
    "headers = wl.auth.auth_header()\n",
    "\n",
    "api_request = f\"{APIURL}/v1/api/assays/set_active\"\n",
    "\n",
    "data = {\n",
    "    'id': example_assay_id,\n",
    "    'active': True\n",
    "}\n",
    "\n",
    "response = requests.post(api_request, json=data, headers=headers, verify=True).json()\n",
    "response"
   ]
  },
  {
   "attachments": {},
   "cell_type": "markdown",
   "id": "a7a17339-017e-40df-a0ec-b1217c58d4d3",
   "metadata": {},
   "source": [
    "### Create Interactive Baseline\n",
    "\n",
    "Creates an interactive assay baseline.\n",
    "\n",
    "* **PARAMETERS**\n",
    "  * **id** - (*REQUIRED int*):  The numerical identifier for the assay.\n",
    "  * **name** - (*REQUIRED string*): The name of the assay.\n",
    "  * **pipeline_id** - (*REQUIRED int*): The numerical idenfifier the assay will be placed into.\n",
    "  * **pipeline_name** - (*REQUIRED string*): The name of the pipeline\n",
    "  * **active** - (*REQUIRED bool*): Indicates whether the assay will be active upon creation or not.\n",
    "  * **status** - (*REQUIRED string*): The status of the assay upon creation.\n",
    "  * **iopath** - (*REQUIRED string*): The iopath of the assay.\n",
    "  * **baseline** - (*REQUIRED baseline*): The baseline for the assay.\n",
    "    * **Fixed** - (*REQUIRED AssayFixConfiguration*): The fixed configuration for the assay.\n",
    "      * **pipeline** - (*REQUIRED string*): The name of the pipeline with the baseline data.\n",
    "      * **model** - (*REQUIRED string*): The name of the model used.\n",
    "      * **start_at** - (*REQUIRED string*): The DateTime of the baseline start date.\n",
    "      * **end_at** - (*REQUIRED string*): The DateTime of the baseline end date.\n",
    "  * **window** (*REQUIRED AssayWindow*): Assay window.\n",
    "    * **pipeline** - (*REQUIRED string*): The name of the pipeline for the assay window.\n",
    "    * **model** - (*REQUIRED string*): The name of the model used for the assay window.\n",
    "    * **width** - (*REQUIRED string*): The width of the assay window.\n",
    "    * **start** - (*OPTIONAL string*): The DateTime of when to start the assay window.\n",
    "    * **interval** - (*OPTIONAL string*): The assay window interval.\n",
    "  * **summarizer** - (*REQUIRED AssaySummerizer*): The summarizer type for the array aka \"advanced settings\" in the Wallaroo Dashboard UI.\n",
    "    * **type** - (*REQUIRED string*): Type of summarizer.\n",
    "    * **bin_mode** - (*REQUIRED string*): The binning model type.  Values can be:\n",
    "      * Quantile\n",
    "      * Equal\n",
    "    * **aggregation** - (*REQUIRED string*): Aggregation type.\n",
    "    * **metric** - (*REQUIRED string*): Metric type.  Values can be:\n",
    "      * PSI\n",
    "      * Maximum Difference of Bins\n",
    "      * Sum of the Difference of Bins\n",
    "    * **num_bins** - (*REQUIRED int*): The number of bins.  Recommanded values are between 5 and 14.\n",
    "    * **bin_weights** - (*OPTIONAL AssayBinWeight*): The weights assigned to the assay bins.\n",
    "    * **bin_width** - (*OPTIONAL AssayBinWidth*): The width assigned to the assay bins.\n",
    "    * **provided_edges** - (*OPTIONAL AssayProvidedEdges*): The edges used for the assay bins.\n",
    "    * **add_outlier_edges** - (*REQUIRED bool*): Indicates whether to add outlier edges or not.\n",
    "  * **warning_threshold** - (*OPTIONAL number*): Optional warning threshold.\n",
    "  * **alert_threshold** - (*REQUIRED number*): Alert threshold.\n",
    "  * **run_until** - (*OPTIONAL string*): DateTime of when to end the assay.\n",
    "  * **workspace_id** - (*REQUIRED integer*): The workspace the assay is part of.\n",
    "  * **model_insights_url** - (*OPTIONAL string*): URL for model insights.\n",
    "* **RETURNS**\n",
    "  * {} when successful.\n",
    "\n",
    "Example:  An interactive assay baseline will be set for the assay \"Test Assay\" on Pipeline 4."
   ]
  },
  {
   "cell_type": "code",
   "execution_count": 54,
   "id": "e693fb43-2396-40fc-bc57-dbca5e1e97ae",
   "metadata": {},
   "outputs": [
    {
     "data": {
      "text/plain": [
       "{'id': None,\n",
       " 'assay_id': 1,\n",
       " 'window_start': '2023-01-01T05:00:00Z',\n",
       " 'analyzed_at': '2023-05-03T17:51:05.044306798Z',\n",
       " 'elapsed_millis': 0,\n",
       " 'iopath': 'output dense_2 0',\n",
       " 'pipeline_id': None,\n",
       " 'baseline_summary': {'count': 181,\n",
       "  'min': 12.002464294433594,\n",
       "  'max': 14.095687866210938,\n",
       "  'mean': 12.892810610776449,\n",
       "  'median': 12.862584114074709,\n",
       "  'std': 0.4259400394014014,\n",
       "  'edges': [12.002464294433594,\n",
       "   12.525982856750488,\n",
       "   12.772802352905272,\n",
       "   12.960931777954102,\n",
       "   13.246906280517578,\n",
       "   14.095687866210938,\n",
       "   None],\n",
       "  'edge_names': ['left_outlier',\n",
       "   'q_20',\n",
       "   'q_40',\n",
       "   'q_60',\n",
       "   'q_80',\n",
       "   'q_100',\n",
       "   'right_outlier'],\n",
       "  'aggregated_values': [0.0,\n",
       "   0.19889502762430936,\n",
       "   0.19889502762430936,\n",
       "   0.20441988950276244,\n",
       "   0.19889502762430936,\n",
       "   0.19889502762430936,\n",
       "   0.0],\n",
       "  'aggregation': 'Density',\n",
       "  'start': '2023-01-01T05:00:00Z',\n",
       "  'end': '2023-01-02T05:00:00Z'},\n",
       " 'window_summary': {'count': 181,\n",
       "  'min': 12.002464294433594,\n",
       "  'max': 14.095687866210938,\n",
       "  'mean': 12.892810610776449,\n",
       "  'median': 12.862584114074709,\n",
       "  'std': 0.4259400394014014,\n",
       "  'edges': [12.002464294433594,\n",
       "   12.525982856750488,\n",
       "   12.772802352905272,\n",
       "   12.960931777954102,\n",
       "   13.246906280517578,\n",
       "   14.095687866210938,\n",
       "   None],\n",
       "  'edge_names': ['left_outlier',\n",
       "   'e_1.25e1',\n",
       "   'e_1.28e1',\n",
       "   'e_1.30e1',\n",
       "   'e_1.32e1',\n",
       "   'e_1.41e1',\n",
       "   'right_outlier'],\n",
       "  'aggregated_values': [0.0,\n",
       "   0.19889502762430936,\n",
       "   0.19889502762430936,\n",
       "   0.20441988950276244,\n",
       "   0.19889502762430936,\n",
       "   0.19889502762430936,\n",
       "   0.0],\n",
       "  'aggregation': 'Density',\n",
       "  'start': '2023-01-01T05:00:00Z',\n",
       "  'end': '2023-01-02T05:00:00Z'},\n",
       " 'warning_threshold': 0.0,\n",
       " 'alert_threshold': 0.1,\n",
       " 'score': 0.0,\n",
       " 'scores': [0.0, 0.0, 0.0, 0.0, 0.0, 0.0, 0.0],\n",
       " 'bin_index': None,\n",
       " 'summarizer': {'type': 'UnivariateContinuous',\n",
       "  'bin_mode': 'Quantile',\n",
       "  'aggregation': 'Density',\n",
       "  'metric': 'PSI',\n",
       "  'num_bins': 5,\n",
       "  'bin_weights': None,\n",
       "  'provided_edges': None},\n",
       " 'status': 'BaselineRun',\n",
       " 'created_at': None}"
      ]
     },
     "execution_count": 54,
     "metadata": {},
     "output_type": "execute_result"
    }
   ],
   "source": [
    "## Run interactive baseline\n",
    "\n",
    "# Retrieve the token \n",
    "headers = wl.auth.auth_header()\n",
    "\n",
    "api_request = f\"{APIURL}/v1/api/assays/run_interactive_baseline\"\n",
    "\n",
    "data = {\n",
    "    'id': example_assay_id,\n",
    "    'name': exampleAssayName,\n",
    "    'pipeline_id': exampleAssayPipelineId,\n",
    "    'pipeline_name': exampleAssayPipelineName,\n",
    "    'active': True,\n",
    "    'status': 'active',\n",
    "    'iopath': \"output dense_2 0\",\n",
    "    'baseline': {\n",
    "        'Fixed': {\n",
    "            'pipeline': exampleAssayPipelineName,\n",
    "            'model': exampleAssayModelName,\n",
    "            'start_at': '2023-01-01T00:00:00-05:00',\n",
    "            'end_at': '2023-01-02T00:00:00-05:00'\n",
    "        }\n",
    "    },\n",
    "    'window': {\n",
    "        'pipeline': exampleAssayPipelineName,\n",
    "        'model': exampleAssayModelName,\n",
    "        'width': '24 hours',\n",
    "        'start': None,\n",
    "        'interval': None\n",
    "    },\n",
    "    'summarizer': {\n",
    "        'type': 'UnivariateContinuous',\n",
    "        'bin_mode': 'Quantile',\n",
    "        'aggregation': 'Density',\n",
    "        'metric': 'PSI',\n",
    "        'num_bins': 5,\n",
    "        'bin_weights': None,\n",
    "        'bin_width': None,\n",
    "        'provided_edges': None,\n",
    "        'add_outlier_edges': True\n",
    "    },\n",
    "    'warning_threshold': 0,\n",
    "    'alert_threshold': 0.1,\n",
    "    'run_until': None,\n",
    "    'workspace_id': exampleAssayWorkspaceId\n",
    "}\n",
    "\n",
    "response = requests.post(api_request, json=data, headers=headers, verify=True).json()\n",
    "response"
   ]
  },
  {
   "attachments": {},
   "cell_type": "markdown",
   "id": "15eb29db-6ea7-4442-a11a-946bd561de32",
   "metadata": {},
   "source": [
    "### Get Assay Baseline\n",
    "\n",
    "Retrieve an assay baseline.\n",
    "\n",
    "* **Parameters**\n",
    "  * **workspace_id** - (*REQUIRED integer*): Numerical id for the workspace the assay is in.\n",
    "  * **pipeline_name** - (*REQUIRED string*): Name of the pipeline the assay is in.\n",
    "  * **start** - (*OPTIONAL string*): DateTime for when the baseline starts.\n",
    "  * **end** - (*OPTIONAL string*): DateTime for when the baseline ends.\n",
    "  * **model_name** - (*OPTIONAL string*): Name of the model.\n",
    "  * **limit** - (*OPTIONAL integer*): Maximum number of baselines to return.\n",
    "* **Returns**\n",
    "  * Assay Baseline\n",
    "  \n",
    "Example:  3 assay baselines for Workspace 6 and pipeline `houseprice-pipe-yns` will be retrieved."
   ]
  },
  {
   "cell_type": "code",
   "execution_count": 55,
   "id": "f52bd3e4-e6ab-4a49-b0e9-cd645bbbe605",
   "metadata": {},
   "outputs": [
    {
     "data": {
      "text/plain": [
       "[{'time': 1672531200000,\n",
       "  'in.tensor': [0.6752651953165153,\n",
       "   -0.4732014898144956,\n",
       "   -1.0785881334179752,\n",
       "   0.25006446993148707,\n",
       "   -0.08666382440547035,\n",
       "   0.012211745933432551,\n",
       "   -0.1904726364343265,\n",
       "   -0.9179715198382244,\n",
       "   -0.305653139057544,\n",
       "   0.905425782569012,\n",
       "   -0.5584151415472702,\n",
       "   -0.8905121321380776,\n",
       "   1.7014907488187343,\n",
       "   -0.03617359856638,\n",
       "   -0.20817781526102327,\n",
       "   -0.4017891748132812,\n",
       "   -0.19176790501742016],\n",
       "  'out.dense_2': [12.529610633850098],\n",
       "  'metadata.last_model': '{\"model_name\": \"housepricemodel\", \"model_sha\": \"test_version\"}',\n",
       "  'metadata.profile': '{\"elapsed_ns\": 151}'},\n",
       " {'time': 1672531676753,\n",
       "  'in.tensor': [-0.39764636440424433,\n",
       "   -0.4732014898144956,\n",
       "   0.5769261528142077,\n",
       "   0.07215545493232875,\n",
       "   -0.08666382440547035,\n",
       "   0.5668723158705202,\n",
       "   0.0035716408873876734,\n",
       "   -0.9179715198382244,\n",
       "   -0.305653139057544,\n",
       "   0.905425782569012,\n",
       "   0.29288456205300767,\n",
       "   -0.10763168763453018,\n",
       "   1.3841294506067472,\n",
       "   -0.13822039562434324,\n",
       "   -0.20817781526102327,\n",
       "   1.392623186456163,\n",
       "   0.0831911918963078],\n",
       "  'out.dense_2': [13.355737686157228],\n",
       "  'metadata.last_model': '{\"model_name\": \"housepricemodel\", \"model_sha\": \"test_version\"}',\n",
       "  'metadata.profile': '{\"elapsed_ns\": 337}'},\n",
       " {'time': 1672532153506,\n",
       "  'in.tensor': [-0.39764636440424433,\n",
       "   -0.797580068788302,\n",
       "   1.5335578271524664,\n",
       "   -0.959716832063214,\n",
       "   -0.08666382440547035,\n",
       "   -0.6838328908503637,\n",
       "   -0.19300982625286353,\n",
       "   -0.9179715198382244,\n",
       "   -0.305653139057544,\n",
       "   -0.6285378875598833,\n",
       "   -0.5584151415472702,\n",
       "   -0.4087395509051253,\n",
       "   -0.65605032361317,\n",
       "   -0.3423139897402697,\n",
       "   -0.20817781526102327,\n",
       "   -0.7956845711895005,\n",
       "   -0.1995480269764917],\n",
       "  'out.dense_2': [12.80009937286377],\n",
       "  'metadata.last_model': '{\"model_name\": \"housepricemodel\", \"model_sha\": \"test_version\"}',\n",
       "  'metadata.profile': '{\"elapsed_ns\": 79}'}]"
      ]
     },
     "execution_count": 55,
     "metadata": {},
     "output_type": "execute_result"
    }
   ],
   "source": [
    "## Get Assay Baseline\n",
    "\n",
    "# Retrieve the token \n",
    "headers = wl.auth.auth_header()\n",
    "\n",
    "api_request = f\"{APIURL}/v1/api/assays/get_baseline\"\n",
    "\n",
    "data = {\n",
    "    'workspace_id': exampleAssayWorkspaceId,\n",
    "    'pipeline_name': exampleAssayPipelineName,\n",
    "    'limit': 3\n",
    "}\n",
    "\n",
    "response = requests.post(api_request, json=data, headers=headers, verify=True).json()\n",
    "response"
   ]
  },
  {
   "attachments": {},
   "cell_type": "markdown",
   "id": "68e6117f-94ba-4e4a-89ba-ffa8519d6709",
   "metadata": {},
   "source": [
    "### Run Assay Interactively\n",
    "\n",
    "Runs an assay.\n",
    "\n",
    "* **Parameters**\n",
    "  * **id** - (*REQUIRED int*):  The numerical identifier for the assay.\n",
    "  * **name** - (*REQUIRED string*): The name of the assay.\n",
    "  * **pipeline_id** - (*REQUIRED int*): The numerical idenfifier the assay will be placed into.\n",
    "  * **pipeline_name** - (*REQUIRED string*): The name of the pipeline\n",
    "  * **active** - (*REQUIRED bool*): Indicates whether the assay will be active upon creation or not.\n",
    "  * **status** - (*REQUIRED string*): The status of the assay upon creation.\n",
    "  * **iopath** - (*REQUIRED string*): The iopath of the assay.\n",
    "  * **baseline** - (*REQUIRED baseline*): The baseline for the assay.\n",
    "    * **Fixed** - (*REQUIRED AssayFixConfiguration*): The fixed configuration for the assay.\n",
    "      * **pipeline** - (*REQUIRED string*): The name of the pipeline with the baseline data.\n",
    "      * **model** - (*REQUIRED string*): The name of the model used.\n",
    "      * **start_at** - (*REQUIRED string*): The DateTime of the baseline start date.\n",
    "      * **end_at** - (*REQUIRED string*): The DateTime of the baseline end date.\n",
    "  * **window** (*REQUIRED AssayWindow*): Assay window.\n",
    "    * **pipeline** - (*REQUIRED string*): The name of the pipeline for the assay window.\n",
    "    * **model** - (*REQUIRED string*): The name of the model used for the assay window.\n",
    "    * **width** - (*REQUIRED string*): The width of the assay window.\n",
    "    * **start** - (*OPTIONAL string*): The DateTime of when to start the assay window.\n",
    "    * **interval** - (*OPTIONAL string*): The assay window interval.\n",
    "  * **summarizer** - (*REQUIRED AssaySummerizer*): The summarizer type for the array aka \"advanced settings\" in the Wallaroo Dashboard UI.\n",
    "    * **type** - (*REQUIRED string*): Type of summarizer.\n",
    "    * **bin_mode** - (*REQUIRED string*): The binning model type.  Values can be:\n",
    "      * Quantile\n",
    "      * Equal\n",
    "    * **aggregation** - (*REQUIRED string*): Aggregation type.\n",
    "    * **metric** - (*REQUIRED string*): Metric type.  Values can be:\n",
    "      * PSI\n",
    "      * Maximum Difference of Bins\n",
    "      * Sum of the Difference of Bins\n",
    "    * **num_bins** - (*REQUIRED int*): The number of bins.  Recommanded values are between 5 and 14.\n",
    "    * **bin_weights** - (*OPTIONAL AssayBinWeight*): The weights assigned to the assay bins.\n",
    "    * **bin_width** - (*OPTIONAL AssayBinWidth*): The width assigned to the assay bins.\n",
    "    * **provided_edges** - (*OPTIONAL AssayProvidedEdges*): The edges used for the assay bins.\n",
    "    * **add_outlier_edges** - (*REQUIRED bool*): Indicates whether to add outlier edges or not.\n",
    "  * **warning_threshold** - (*OPTIONAL number*): Optional warning threshold.\n",
    "  * **alert_threshold** - (*REQUIRED number*): Alert threshold.\n",
    "  * **run_until** - (*OPTIONAL string*): DateTime of when to end the assay.\n",
    "  * **workspace_id** - (*REQUIRED integer*): The workspace the assay is part of.\n",
    "  * **model_insights_url** - (*OPTIONAL string*): URL for model insights.\n",
    "* **Returns**\n",
    "  * Assay\n",
    "  \n",
    "Example:  An interactive assay will be run for Assay exampleAssayId exampleAssayName.  Depending on the number of assay results and the data window, this may take some time.  This returns *all* of the results for this assay at this time.  The total number of responses will be displayed after."
   ]
  },
  {
   "cell_type": "code",
   "execution_count": 56,
   "id": "61b02cc4-2f31-4cef-a0a1-e36f8ede50ca",
   "metadata": {},
   "outputs": [
    {
     "data": {
      "text/plain": [
       "{'id': None,\n",
       " 'assay_id': 1,\n",
       " 'window_start': '2023-01-02T05:00:00Z',\n",
       " 'analyzed_at': '2023-05-03T17:52:01.666648597Z',\n",
       " 'elapsed_millis': 150,\n",
       " 'iopath': 'output dense_2 0',\n",
       " 'pipeline_id': None,\n",
       " 'baseline_summary': {'count': 181,\n",
       "  'min': 12.002464294433594,\n",
       "  'max': 14.095687866210938,\n",
       "  'mean': 12.892810610776449,\n",
       "  'median': 12.862584114074709,\n",
       "  'std': 0.4259400394014014,\n",
       "  'edges': [12.002464294433594,\n",
       "   12.525982856750488,\n",
       "   12.772802352905272,\n",
       "   12.960931777954102,\n",
       "   13.246906280517578,\n",
       "   14.095687866210938,\n",
       "   None],\n",
       "  'edge_names': ['left_outlier',\n",
       "   'q_20',\n",
       "   'q_40',\n",
       "   'q_60',\n",
       "   'q_80',\n",
       "   'q_100',\n",
       "   'right_outlier'],\n",
       "  'aggregated_values': [0.0,\n",
       "   0.19889502762430936,\n",
       "   0.19889502762430936,\n",
       "   0.20441988950276244,\n",
       "   0.19889502762430936,\n",
       "   0.19889502762430936,\n",
       "   0.0],\n",
       "  'aggregation': 'Density',\n",
       "  'start': '2023-01-01T05:00:00Z',\n",
       "  'end': '2023-01-02T05:00:00Z'},\n",
       " 'window_summary': {'count': 182,\n",
       "  'min': 12.037200927734377,\n",
       "  'max': 14.712774276733398,\n",
       "  'mean': 12.966292286967184,\n",
       "  'median': 12.895143508911133,\n",
       "  'std': 0.4705339357836451,\n",
       "  'edges': [12.002464294433594,\n",
       "   12.525982856750488,\n",
       "   12.772802352905272,\n",
       "   12.960931777954102,\n",
       "   13.246906280517578,\n",
       "   14.095687866210938,\n",
       "   None],\n",
       "  'edge_names': ['left_outlier',\n",
       "   'e_1.25e1',\n",
       "   'e_1.28e1',\n",
       "   'e_1.30e1',\n",
       "   'e_1.32e1',\n",
       "   'e_1.41e1',\n",
       "   'right_outlier'],\n",
       "  'aggregated_values': [0.0,\n",
       "   0.17032967032967034,\n",
       "   0.17582417582417584,\n",
       "   0.23626373626373623,\n",
       "   0.1978021978021978,\n",
       "   0.1978021978021978,\n",
       "   0.02197802197802198],\n",
       "  'aggregation': 'Density',\n",
       "  'start': '2023-01-02T05:00:00Z',\n",
       "  'end': '2023-01-03T05:00:00Z'},\n",
       " 'warning_threshold': 0.0,\n",
       " 'alert_threshold': 0.1,\n",
       " 'score': 0.037033182069201614,\n",
       " 'scores': [0.0,\n",
       "  0.0044288126945783235,\n",
       "  0.00284446741288289,\n",
       "  0.004610114809454446,\n",
       "  6.021116179797982e-06,\n",
       "  6.021116179797982e-06,\n",
       "  0.02513774491992636],\n",
       " 'bin_index': None,\n",
       " 'summarizer': {'type': 'UnivariateContinuous',\n",
       "  'bin_mode': 'Quantile',\n",
       "  'aggregation': 'Density',\n",
       "  'metric': 'PSI',\n",
       "  'num_bins': 5,\n",
       "  'bin_weights': None,\n",
       "  'provided_edges': None},\n",
       " 'status': 'Warning',\n",
       " 'created_at': None}"
      ]
     },
     "execution_count": 56,
     "metadata": {},
     "output_type": "execute_result"
    }
   ],
   "source": [
    "## Run interactive assay\n",
    "\n",
    "# Retrieve the token \n",
    "headers = wl.auth.auth_header()\n",
    "\n",
    "api_request = f\"{APIURL}/v1/api/assays/run_interactive\"\n",
    "\n",
    "data = {\n",
    "    'id': example_assay_id,\n",
    "    'name': exampleAssayName,\n",
    "    'pipeline_id': exampleAssayPipelineId,\n",
    "    'pipeline_name': exampleAssayPipelineName,\n",
    "    'active': True,\n",
    "    'status': 'active',\n",
    "    'iopath': \"output dense_2 0\",\n",
    "    'baseline': {\n",
    "        'Fixed': {\n",
    "            'pipeline': exampleAssayPipelineName,\n",
    "            'model': exampleAssayModelName,\n",
    "            'start_at': '2023-01-01T00:00:00-05:00',\n",
    "            'end_at': '2023-01-02T00:00:00-05:00'\n",
    "        }\n",
    "    },\n",
    "    'window': {\n",
    "        'pipeline': exampleAssayPipelineName,\n",
    "        'model': exampleAssayModelName,\n",
    "        'width': '24 hours',\n",
    "        'start': None,\n",
    "        'interval': None\n",
    "    },\n",
    "    'summarizer': {\n",
    "        'type': 'UnivariateContinuous',\n",
    "        'bin_mode': 'Quantile',\n",
    "        'aggregation': 'Density',\n",
    "        'metric': 'PSI',\n",
    "        'num_bins': 5,\n",
    "        'bin_weights': None,\n",
    "        'bin_width': None,\n",
    "        'provided_edges': None,\n",
    "        'add_outlier_edges': True\n",
    "    },\n",
    "    'warning_threshold': 0,\n",
    "    'alert_threshold': 0.1,\n",
    "    'run_until': None,\n",
    "    'workspace_id': exampleAssayWorkspaceId\n",
    "}\n",
    "\n",
    "response = requests.post(api_request, json=data, headers=headers, verify=True).json()\n",
    "response[0]"
   ]
  },
  {
   "cell_type": "code",
   "execution_count": 57,
   "id": "151cc344-f280-4364-bb69-fbb5327afd76",
   "metadata": {},
   "outputs": [
    {
     "name": "stdout",
     "output_type": "stream",
     "text": [
      "14\n"
     ]
    }
   ],
   "source": [
    "print(len(response))"
   ]
  },
  {
   "attachments": {},
   "cell_type": "markdown",
   "id": "fce5043c-002c-4b9e-9728-b5c00aff2458",
   "metadata": {},
   "source": [
    "### Get Assay Results\n",
    "\n",
    "Retrieve the results for an assay.\n",
    "\n",
    "* **Parameters**\n",
    "  * **assay_id** - (*REQUIRED integer*): Numerical id for the assay.\n",
    "  * **start** - (*OPTIONAL string*): DateTime for when the baseline starts.\n",
    "  * **end** - (*OPTIONAL string*): DateTime for when the baseline ends.\n",
    "  * **limit** - (*OPTIONAL integer*): Maximum number of results to return.\n",
    "  * **pipeline_id** - (*OPTIONAL integer*): Numerical id of the pipeline the assay is in.\n",
    "* **Returns**\n",
    "  * Assay Baseline\n"
   ]
  },
  {
   "cell_type": "code",
   "execution_count": null,
   "id": "c913a82a-81bd-4e6a-8101-453023d0cafa",
   "metadata": {},
   "outputs": [],
   "source": [
    "# Get Assay Results\n",
    "\n",
    "# Retrieve the token \n",
    "headers = wl.auth.auth_header()\n",
    "\n",
    "api_request = f\"{APIURL}/v1/api/assays/get_results\"\n",
    "\n",
    "data = {\n",
    "    'assay_id': example_assay_id,\n",
    "    'pipeline_id': exampleAssayPipelineId\n",
    "}\n",
    "\n",
    "response = requests.post(api_request, json=data, headers=headers, verify=True).json()\n",
    "response"
   ]
  },
  {
   "attachments": {},
   "cell_type": "markdown",
   "id": "f4223c8a",
   "metadata": {},
   "source": [
    "## Data Connection Management\n",
    "\n",
    "Organizations can define data connections to provide pre-configured settings for connecting to ODBC databases, Kafka, or other data sources to transmit or receive data used.\n",
    "\n",
    "Connections are created at the Wallaroo instance level, and are attached to workspaces for workspace owners and collaborators to use."
   ]
  },
  {
   "attachments": {},
   "cell_type": "markdown",
   "id": "d918f69e",
   "metadata": {},
   "source": [
    "### Create Connections\n",
    "\n",
    "Request URL: `/v1/api/connections/create`\n",
    "\n",
    "Create a new Connection in the Wallaroo instance.\n",
    "\n",
    "* **Parameters**\n",
    "  * `name` (*Required* String): The name of the connection.\n",
    "  * `type` (*Required* String): The user defined connection type.\n",
    "  * `details` (dict): The user defined connection details, which typically include host name, port, username, password, etc.  When constructing the connection details, the developer must take the connection type in mind.\n",
    "* **Returns**\n",
    "  * `id` (String): The numerical identifier for the connection.\n",
    "\n",
    "In this example, a set of different connections will be created."
   ]
  },
  {
   "cell_type": "code",
   "execution_count": null,
   "id": "17d89bd5",
   "metadata": {},
   "outputs": [],
   "source": [
    "## Create Connection\n",
    "\n",
    "# @TODO:  Create a connection"
   ]
  },
  {
   "attachments": {},
   "cell_type": "markdown",
   "id": "87d4259d",
   "metadata": {},
   "source": [
    "### List Connections\n",
    "\n",
    "Request URL: `/v1/api/connections/list`\n",
    "\n",
    "List Connections provides a list of all defined functions in a Wallaroo instance.\n",
    "\n",
    "* **Parameters**\n",
    "  * None\n",
    "* **Returns**\n",
    "  * `connections` (List(connections)): The list of connections being returned with the following values.\n",
    "    * `id` (String): The numerical identifier for the connection.\n",
    "    * `name` (String): The name of the connection.\n",
    "    * `connection_type` (String): The type of connection as defined when created.\n",
    "    * `details` (dict): The connection details.  The details are defined during connection creation.\n",
    "    * `workspace_names` (List(String)): The names of the workspaces the connection attached to.\n",
    "\n",
    "In this example, a list of all connections from the Wallaroo instance will be displayed."
   ]
  },
  {
   "cell_type": "code",
   "execution_count": null,
   "id": "02707f02",
   "metadata": {},
   "outputs": [],
   "source": [
    "## List Connections\n",
    "\n",
    "# @TODO: Create a list of connections and display them."
   ]
  },
  {
   "attachments": {},
   "cell_type": "markdown",
   "id": "f2fa1543",
   "metadata": {},
   "source": [
    "### Get Connection Details\n",
    "\n",
    "Request URL: `/v1/api/connections/list`\n",
    "\n",
    "List Connections provides a list of all defined functions in a Wallaroo instance.\n",
    "\n",
    "* **Parameters**\n",
    "  * \"name\" (*Required* String): The name of the connection.\n",
    "* **Returns**\n",
    "  * `connections` (List(connections)): The list of connections being returned with the following values.\n",
    "    * `id` (String): The numerical identifier for the connection.\n",
    "    * `name` (String): The name of the connection.\n",
    "    * `connection_type` (String): The type of connection as defined when created.\n",
    "    * `details` (dict): The connection details.\n",
    "    * `workspace_names` (List(String)): The names of the workspaces the connection attached to.\n",
    "\n",
    "In this example, the details of a specific connection will be retrieved."
   ]
  },
  {
   "cell_type": "code",
   "execution_count": null,
   "id": "988982e3",
   "metadata": {},
   "outputs": [],
   "source": [
    "## Get Connection Details\n",
    "\n",
    "# @TODO: Retrieve the connection details from a previous creation."
   ]
  },
  {
   "attachments": {},
   "cell_type": "markdown",
   "id": "e383161e",
   "metadata": {},
   "source": [
    "### Add Connection to Workspace\n",
    "\n",
    "Request URL: `/v1/api/connections/add_to_workspace`\n",
    "\n",
    "Adds a connection to a workspace to make it available to workspace owners and collaborators.\n",
    "\n",
    "* **Parameters**\n",
    "  * `connection_id` (*Required String*): The numerical identifier of the connection.\n",
    "  * `workspace_id` (*Required String*): The numerical identifier of the workspace.\n",
    "* **Returns**\n",
    "  * `id` (String): Numerical ID of the created workspace connection.\n",
    "\n",
    "In this example a connection will be added to a workspace."
   ]
  },
  {
   "cell_type": "code",
   "execution_count": null,
   "id": "57f1272a",
   "metadata": {},
   "outputs": [],
   "source": [
    "## Add connection to workspace\n",
    "\n",
    "# @TODO: Add a connection to a sample workspace"
   ]
  },
  {
   "attachments": {},
   "cell_type": "markdown",
   "id": "d47bce01",
   "metadata": {},
   "source": [
    "### Remove Connection from Workspace\n",
    "\n",
    "Request URL: `/v1/api/connections/remove_from_workspace`\n",
    "\n",
    "Adds a connection to a workspace to make it available to workspace owners and collaborators.\n",
    "\n",
    "* **Parameters**\n",
    "  * `connection_id` (*Required String*): The numerical identifier of the connection.\n",
    "  * `workspace_id` (*Required String*): The numerical identifier of the workspace.\n",
    "* **Returns**\n",
    "  * `id` (String): Numerical ID of the created workspace connection.\n",
    "\n",
    "In this example a connection be removed from a workspace."
   ]
  },
  {
   "cell_type": "code",
   "execution_count": null,
   "id": "f55d50d9",
   "metadata": {},
   "outputs": [],
   "source": [
    "## Remove connection from a workspace\n",
    "\n",
    "# @TODO: Remove a connection from a workspace"
   ]
  },
  {
   "attachments": {},
   "cell_type": "markdown",
   "id": "7e6d848a",
   "metadata": {},
   "source": [
    "### Delete Connection\n",
    "\n",
    "Request URL: `/v1/api/connections/delete`\n",
    "\n",
    "Removes a connection from the Wallaroo instance.\n",
    "\n",
    "* **Parameters**\n",
    "  * \"connection_name\" (*Required* String): The name of the connection.\n",
    "* **Returns**\n",
    "  * None\n",
    "\n",
    "In this example, a previously created connection will be deleted from the Wallaroo instance."
   ]
  },
  {
   "cell_type": "code",
   "execution_count": null,
   "id": "8394153a",
   "metadata": {},
   "outputs": [],
   "source": [
    "## Delete Connection\n",
    "\n",
    "# @TODO: Delete the previous connection"
   ]
  }
 ],
 "metadata": {
  "kernelspec": {
   "display_name": "arrowtests",
   "language": "python",
   "name": "python3"
  },
  "language_info": {
   "codemirror_mode": {
    "name": "ipython",
    "version": 3
   },
   "file_extension": ".py",
   "mimetype": "text/x-python",
   "name": "python",
   "nbconvert_exporter": "python",
   "pygments_lexer": "ipython3",
   "version": "3.9.16"
  },
  "vscode": {
   "interpreter": {
    "hash": "7dda4bf3640b7fafcd1648658b879b4cc9f6ba6084e8fb356fdaaa1a461d1690"
   }
  }
 },
 "nbformat": 4,
 "nbformat_minor": 5
}
