{
 "cells": [
  {
   "attachments": {},
   "cell_type": "markdown",
   "id": "2e523b51-d933-4774-9dd7-317a7d183489",
   "metadata": {},
   "source": [
    "This tutorial and the assets are available as part of the [Wallaroo Tutorials repository](https://github.com/WallarooLabs/Wallaroo_Tutorials/tree/main/development/mlops_api).\n",
    "\n",
    "## Wallaroo MLOps API Tutorial\n",
    "\n",
    "The Wallaroo MLOps API allows organizations to submit requests to their Wallaroo instance to perform such actions as:\n",
    "\n",
    "* Create a new user and invite them to the instance.\n",
    "* Create workspaces and list their configuration details.\n",
    "* Upload a model.\n",
    "* Deploy and undeploy a pipeline.\n",
    "\n",
    "The following examples will show how to submit queries to the Wallaroo MLOps API and the types of responses returned.\n",
    "\n",
    "### References\n",
    "\n",
    "The following references are available for more information about Wallaroo and the Wallaroo MLOps API:\n",
    "\n",
    "* [Wallaroo Documentation Site](https://docs.wallaroo.ai):  The Wallaroo Documentation Site\n",
    "* Wallaroo MLOps API Documentation from a Wallaroo instance:  A Swagger UI based documentation is available from your Wallaroo instance at `https://{Wallaroo Prefix}.api.{Wallaroo Suffix}/v1/api/docs`.  For example, if the Wallaroo Instance is YOUR SUFFIX with the prefix `{lovely-rhino-5555}`, then the Wallaroo MLOps API Documentation would be available at `https://lovely-rhino-5555.api.example.wallaroo.ai/v1/api/docs`.  For another example, a Wallaroo Enterprise users who do not use a prefix and has the suffix `wallaroo.example.wallaroo.ai`, the the Wallaroo MLOps API Documentation would be available at `https://api.wallaroo.example.wallaroo.ai/v1/api/docs`.  For more information, see the [Wallaroo Documentation Site](https://docs.wallaroo.ai).\n",
    "\n",
    "**IMPORTANT NOTE**:  The Wallaroo MLOps API is provided as an early access features.  Future iterations may adjust the methods and returns to provide a better user experience.  Please refer to this guide for updates.\n",
    "\n",
    "## Prerequisites\n",
    "\n",
    "* An installed Wallaroo instance.\n",
    "* The following Python libraries installed:\n",
    "  * `requests`\n",
    "  * `json`\n",
    "  * [`wallaroo`](https://pypi.org/project/wallaroo/): The Wallaroo SDK. Included with the Wallaroo JupyterHub service by default.\n",
    "  * [`pandas`](https://pypi.org/project/pandas/): Pandas, mainly used for Pandas DataFrame.  Included with the Wallaroo JupyterHub service by default.\n",
    "  * [`pyarrow`](https://pypi.org/project/pyarrow/): PyArrow for Apache Arrow support.  Included with the Wallaroo JupyterHub service by default.\n",
    "  * [`polars`](https://pypi.org/project/polars/): Polars for DataFrame with native Apache Arrow support"
   ]
  },
  {
   "cell_type": "markdown",
   "id": "de7a7d6e-579c-4d78-a72a-eeca1eb2ceee",
   "metadata": {},
   "source": [
    "## OpenAPI Steps\n",
    "\n",
    "The following demonstrates how to use each command in the Wallaroo MLOps API, and can be modified as best fits your organization's needs."
   ]
  },
  {
   "attachments": {},
   "cell_type": "markdown",
   "id": "51ebe37c-5e4f-49fa-8716-d83cea80d078",
   "metadata": {},
   "source": [
    "### Import Libraries\n",
    "\n",
    "For the examples, the Python `requests` library will be used to make the REST HTTP(S) connections."
   ]
  },
  {
   "cell_type": "code",
   "execution_count": 1,
   "id": "b5bea68b-4137-44c6-b16c-30c8248572c5",
   "metadata": {},
   "outputs": [],
   "source": [
    "import wallaroo\n",
    "from wallaroo.object import EntityNotFoundError\n",
    "import pandas as pd\n",
    "import os\n",
    "\n",
    "import polars as pl\n",
    "\n",
    "import pyarrow as pa\n",
    "\n",
    "import requests\n",
    "from requests.auth import HTTPBasicAuth\n",
    "\n",
    "import json\n",
    "\n",
    "# used to display dataframe information without truncating\n",
    "from IPython.display import display\n",
    "pd.set_option('display.max_colwidth', None)"
   ]
  },
  {
   "attachments": {},
   "cell_type": "markdown",
   "id": "07ee7a3d",
   "metadata": {},
   "source": [
    "## Notes About This Guide\n",
    "\n",
    "The following guide was established with set names for workspaces, pipelines, and models.  Note that some commands, such as creating a workspace, will fail **if another workspace is already created with the same name**.  Similar, if a user is already established with the same email address as in the examples below, etc.\n",
    "\n",
    "To reduce errors, the following variables are declared.  Please change them as required to avoid issues in an established Wallaroo environment."
   ]
  },
  {
   "cell_type": "code",
   "execution_count": 4,
   "id": "d5cb57cd",
   "metadata": {},
   "outputs": [],
   "source": [
    "## Sample Variables List\n",
    "\n",
    "new_user = \"john.hansarick@wallaroo.ai\"\n",
    "new_user_password = \"Snugglebunnies\"\n",
    "\n",
    "example_workspace_name = \"apiworkspace\"\n",
    "model_name = \"apimodel\"\n",
    "model_file_name = \"./models/ccfraud.onnx\"\n",
    "\n",
    "stream_model_name = \"apiteststreammodel\"\n",
    "stream_model_file_name = \"./models/ccfraud.onnx\"\n",
    "\n",
    "empty_pipeline_name=\"pipelinenomodel\"\n",
    "\n",
    "model_pipeline_name=\"pipelinewithmodel\"\n",
    "\n",
    "example_copied_pipeline_name=\"copiedmodelpipeline\"\n",
    "\n",
    "wallarooPrefix = \"docreleasetest\"\n",
    "wallarooSuffix = \"wallaroocommunity.ninja\"\n",
    "\n",
    "# Retrieving login data through credential file\n",
    "f = open('./creds.json.example')\n",
    "login_data = json.load(f)"
   ]
  },
  {
   "attachments": {},
   "cell_type": "markdown",
   "id": "58579428",
   "metadata": {},
   "source": [
    "## Retrieve Credentials\n",
    "\n",
    "### Through Keycloak\n",
    "\n",
    "Wallaroo comes pre-installed with a confidential OpenID Connect client.  The default client is `api-client`, but other clients may be created and configured.\n",
    "\n",
    "Confidential clients require its secret to be supplied when requesting a token. Administrators may obtain their API client credentials from Keycloak from the Keycloak Service URL as listed above and the prefix `/auth/admin/master/console/#/realms/master/clients`.\n",
    "\n",
    "For example, if the Wallaroo DNS address is in the format `https://{WALLAROO PREFIX}.{WALLAROO SUFFIX}`, then the direct path to the Keycloak API client credentials would be:\n",
    "\n",
    "`https://{WALLAROO PREFIX}.keycloak.{WALLAROO SUFFIX}/auth/admin/master/console/#/realms/master/clients`\n",
    "\n",
    "Then select the client, in this case **api-client**, then **Credentials**.\n",
    "\n",
    "![Wallaroo Keycloak Service](./images/wallaroo-developer-guides/wallaroo-api/wallaroo-api-keycloak-service.png)\n",
    "\n",
    "![Wallaroo Components](./images/wallaroo-developer-guides/wallaroo-api/wallaroo-api-keycloak-credentials.png)\n",
    "\n",
    "By default, tokens issued for api-client are valid for up to 60 minutes. Refresh tokens are supported."
   ]
  },
  {
   "attachments": {},
   "cell_type": "markdown",
   "id": "c33467ac",
   "metadata": {},
   "source": [
    "### Token Types\n",
    "\n",
    "There are two tokens used with Wallaroo API services:\n",
    "\n",
    "* MLOps tokens:  User tokens are generated with the confidential client credentials and the username/password of the Wallaroo user making the MLOps API request and requires:\n",
    "  * The Wallaroo instance Keycloak address.\n",
    "  * The confidential client, `api-client` by default.\n",
    "  * The confidential client secret.\n",
    "  * The Wallaroo username making the MLOps API request.\n",
    "  * The Wallaroo user's password.\n",
    "\n",
    "    This request return includes the `access_token` and the `refresh_token`.  The `access_token` is used to authenticate.  The `refresh_token` can be used to create a new token without submitting the original username and password.\n",
    "\n",
    "    A sample `curl` version of that request is:\n",
    "\n",
    "    ```bash\n",
    "    eval $(curl \"https://${URL_PREFIX}.keycloak.${URL_SUFFIX}/auth/realms/master/protocol/openid-connect/token\" -u \"${CONFIDENTIAL_CLIENT}:${CONFIDENTIAL_CLIENT_SECRET}\" -d \"grant_type=password&username=${USERNAME}&password=${PASSWORD}&scope=offline_access' -s | jq -r '\"TOKEN=\\(.access_token) REFRESH=\\(.refresh_token)\"')\n",
    "    ```\n",
    "\n",
    "    * Tokens can be refreshed via a refresh request and require:\n",
    "      * The confidential client, `api-client` by default.\n",
    "      * The confidential client secret.\n",
    "      * The refresh token retrieved from the initial access token request.  A `curl` version of that request is:\n",
    "\n",
    "        ```bash\n",
    "        TOKEN=$(curl \"https://${URL_PREFIX}.keycloak.${URL_SUFFIX}/auth/realms/master/protocol/openid-connect/token\" -u \"${CONFIDENTIAL_CLIENT}:${CONFIDENTIAL_CLIENT_SECRET}\" -d \"grant_type=refresh_token&refresh_token=${REFRESH}\" -s | jq -r '.access_token')\n",
    "        ```\n",
    "\n",
    "* Inference Token:  Tokens used as part of a Pipeline Inference URL request.  These do **not** require a Wallaroo user credentials.  Inference token request require the following:\n",
    "  * The Wallaroo instance Keycloak address.\n",
    "  * The confidential client, `api-client` by default.\n",
    "  * The confidential client secret.\n",
    "\n",
    "    A `curl` version of that command is:\n",
    "\n",
    "    ```bash\n",
    "    TOKEN=$(curl \"https://${URL_PREFIX}.keycloak.${URL_SUFFIX}/auth/realms/master/protocol/openid-connect/token\" -u \"${CONFIDENTIAL_CLIENT}:${CONFIDENTIAL_CLIENT_SECRET}\" -d 'grant_type=client_credentials' -s | jq -r '.access_token')\n",
    "    ```\n",
    "\n",
    "The following examples demonstrate:\n",
    "\n",
    "* Generating a MLOps API token with the confidential client, client secret, username, and password.\n",
    "* Refreshing a MLOps API token with the confidential client and client secret (the username and password are not required for refreshing the token).\n",
    "* Generate a Pipeline Inference URl token with the confidential client and client secret (username and password are not required).\n",
    "\n",
    "The username and password for the user are stored in the file `./creds.json` to prevent them from being displayed in a demonstration.\n"
   ]
  },
  {
   "cell_type": "code",
   "execution_count": 5,
   "id": "5bc38c25",
   "metadata": {},
   "outputs": [
    {
     "data": {
      "text/plain": [
       "'eyJhbGciOiJSUzI1NiIsInR5cCIgOiAiSldUIiwia2lkIiA6ICJMbGxLZzBpSk15MWRPX2hIeEQ2MUtiVkU5dWl0aUYwU0J1bTZNNW9zSjBVIn0.eyJleHAiOjE2ODI2MjgzNzIsImlhdCI6MTY4MjYyNDc3MiwianRpIjoiMDI3NTEyZDItZGU5Yy00ZTQ1LWE5NDItZjBkZTc1YmIwMWU1IiwiaXNzIjoiaHR0cHM6Ly9kb2NyZWxlYXNldGVzdC5rZXljbG9hay53YWxsYXJvb2NvbW11bml0eS5uaW5qYS9hdXRoL3JlYWxtcy9tYXN0ZXIiLCJhdWQiOlsibWFzdGVyLXJlYWxtIiwiYWNjb3VudCJdLCJzdWIiOiIxZTNlYTFiYi01YTQwLTRkY2ItYjViNy1jMzJmMjUzNjg4NDgiLCJ0eXAiOiJCZWFyZXIiLCJhenAiOiJhcGktY2xpZW50Iiwic2Vzc2lvbl9zdGF0ZSI6ImQ3ZGRkNDcyLWUxZmMtNGYxOS1iNjE2LWI3YjQ0ZDdlN2M0MCIsImFjciI6IjEiLCJhbGxvd2VkLW9yaWdpbnMiOlsiKiJdLCJyZWFsbV9hY2Nlc3MiOnsicm9sZXMiOlsiZGVmYXVsdC1yb2xlcy1tYXN0ZXIiLCJvZmZsaW5lX2FjY2VzcyIsInVtYV9hdXRob3JpemF0aW9uIl19LCJyZXNvdXJjZV9hY2Nlc3MiOnsibWFzdGVyLXJlYWxtIjp7InJvbGVzIjpbIm1hbmFnZS11c2VycyIsInZpZXctdXNlcnMiLCJxdWVyeS1ncm91cHMiLCJxdWVyeS11c2VycyJdfSwiYWNjb3VudCI6eyJyb2xlcyI6WyJtYW5hZ2UtYWNjb3VudCIsIm1hbmFnZS1hY2NvdW50LWxpbmtzIiwidmlldy1wcm9maWxlIl19fSwic2NvcGUiOiJwcm9maWxlIGVtYWlsIiwic2lkIjoiZDdkZGQ0NzItZTFmYy00ZjE5LWI2MTYtYjdiNDRkN2U3YzQwIiwiZW1haWxfdmVyaWZpZWQiOmZhbHNlLCJodHRwczovL2hhc3VyYS5pby9qd3QvY2xhaW1zIjp7IngtaGFzdXJhLXVzZXItaWQiOiIxZTNlYTFiYi01YTQwLTRkY2ItYjViNy1jMzJmMjUzNjg4NDgiLCJ4LWhhc3VyYS1kZWZhdWx0LXJvbGUiOiJ1c2VyIiwieC1oYXN1cmEtYWxsb3dlZC1yb2xlcyI6WyJ1c2VyIl0sIngtaGFzdXJhLXVzZXItZ3JvdXBzIjoie30ifSwibmFtZSI6IkpvaG4gSGFuc2FyaWNrIiwicHJlZmVycmVkX3VzZXJuYW1lIjoiam9obi5odW1tZWxAd2FsbGFyb28uYWkiLCJnaXZlbl9uYW1lIjoiSm9obiIsImZhbWlseV9uYW1lIjoiSGFuc2FyaWNrIiwiZW1haWwiOiJqb2huLmh1bW1lbEB3YWxsYXJvby5haSJ9.CUSJrD1370nDRnfUAUmBKNlRRHf8HGt-M5QGBzU2IiuJbeg9omadEUycu9gysXxx7scH-s6J02rs5SpGEwPUrXG0ZVOdgGOBv5Od399Ezf91S49IN8Ad4hycebswRe0u0y8GAMj0gX08Bk-aL88VFf8sGbXrCms01HwpJaVS29hltXNV45BW8kCfQbQziai0Z6myonv_zNVqvuErBzxpOZa42dviGbucasdVVwWjqqC5Bri2p8r8EyOuqAMCW1kfuqwJJoXjtUJLgQGsemKG1iF-NdtRSC_pv5wj6HrmxGmTSmD2uIu5FDqAoowG5IrdibQh2iYX4pOSj2gFoiATXQ'"
      ]
     },
     "metadata": {},
     "output_type": "display_data"
    }
   ],
   "source": [
    "## Generating token with confidential client, client secret, username, password\n",
    "\n",
    "TOKENURL=f'https://{wallarooPrefix}.keycloak.{wallarooSuffix}/auth/realms/master/protocol/openid-connect/token'\n",
    "\n",
    "USERNAME = login_data[\"username\"]\n",
    "PASSWORD = login_data[\"password\"]\n",
    "CONFIDENTIAL_CLIENT=login_data[\"confidentialClient\"]\n",
    "CONFIDENTIAL_CLIENT_SECRET=login_data[\"confidentialPassword\"]\n",
    "\n",
    "auth = HTTPBasicAuth(CONFIDENTIAL_CLIENT, CONFIDENTIAL_CLIENT_SECRET)\n",
    "data = {\n",
    "    'grant_type': 'password',\n",
    "    'username': USERNAME,\n",
    "    'password': PASSWORD\n",
    "}\n",
    "response = requests.post(TOKENURL, auth=auth, data=data, verify=True)\n",
    "access_token = response.json()['access_token']\n",
    "refresh_token = response.json()['refresh_token']\n",
    "display(access_token)"
   ]
  },
  {
   "cell_type": "code",
   "execution_count": 6,
   "id": "ccabb32a",
   "metadata": {},
   "outputs": [
    {
     "data": {
      "text/plain": [
       "'eyJhbGciOiJSUzI1NiIsInR5cCIgOiAiSldUIiwia2lkIiA6ICJMbGxLZzBpSk15MWRPX2hIeEQ2MUtiVkU5dWl0aUYwU0J1bTZNNW9zSjBVIn0.eyJleHAiOjE2ODI2MjgzNzQsImlhdCI6MTY4MjYyNDc3NCwianRpIjoiMzQ4ZmFmYmEtZmNlZS00N2QzLTgyNmYtMzM5YzYyOTEwN2VlIiwiaXNzIjoiaHR0cHM6Ly9kb2NyZWxlYXNldGVzdC5rZXljbG9hay53YWxsYXJvb2NvbW11bml0eS5uaW5qYS9hdXRoL3JlYWxtcy9tYXN0ZXIiLCJhdWQiOlsibWFzdGVyLXJlYWxtIiwiYWNjb3VudCJdLCJzdWIiOiIxZTNlYTFiYi01YTQwLTRkY2ItYjViNy1jMzJmMjUzNjg4NDgiLCJ0eXAiOiJCZWFyZXIiLCJhenAiOiJhcGktY2xpZW50Iiwic2Vzc2lvbl9zdGF0ZSI6ImQ3ZGRkNDcyLWUxZmMtNGYxOS1iNjE2LWI3YjQ0ZDdlN2M0MCIsImFjciI6IjEiLCJhbGxvd2VkLW9yaWdpbnMiOlsiKiJdLCJyZWFsbV9hY2Nlc3MiOnsicm9sZXMiOlsiZGVmYXVsdC1yb2xlcy1tYXN0ZXIiLCJvZmZsaW5lX2FjY2VzcyIsInVtYV9hdXRob3JpemF0aW9uIl19LCJyZXNvdXJjZV9hY2Nlc3MiOnsibWFzdGVyLXJlYWxtIjp7InJvbGVzIjpbIm1hbmFnZS11c2VycyIsInZpZXctdXNlcnMiLCJxdWVyeS1ncm91cHMiLCJxdWVyeS11c2VycyJdfSwiYWNjb3VudCI6eyJyb2xlcyI6WyJtYW5hZ2UtYWNjb3VudCIsIm1hbmFnZS1hY2NvdW50LWxpbmtzIiwidmlldy1wcm9maWxlIl19fSwic2NvcGUiOiJwcm9maWxlIGVtYWlsIiwic2lkIjoiZDdkZGQ0NzItZTFmYy00ZjE5LWI2MTYtYjdiNDRkN2U3YzQwIiwiZW1haWxfdmVyaWZpZWQiOmZhbHNlLCJodHRwczovL2hhc3VyYS5pby9qd3QvY2xhaW1zIjp7IngtaGFzdXJhLXVzZXItaWQiOiIxZTNlYTFiYi01YTQwLTRkY2ItYjViNy1jMzJmMjUzNjg4NDgiLCJ4LWhhc3VyYS1kZWZhdWx0LXJvbGUiOiJ1c2VyIiwieC1oYXN1cmEtYWxsb3dlZC1yb2xlcyI6WyJ1c2VyIl0sIngtaGFzdXJhLXVzZXItZ3JvdXBzIjoie30ifSwibmFtZSI6IkpvaG4gSGFuc2FyaWNrIiwicHJlZmVycmVkX3VzZXJuYW1lIjoiam9obi5odW1tZWxAd2FsbGFyb28uYWkiLCJnaXZlbl9uYW1lIjoiSm9obiIsImZhbWlseV9uYW1lIjoiSGFuc2FyaWNrIiwiZW1haWwiOiJqb2huLmh1bW1lbEB3YWxsYXJvby5haSJ9.VrbuzBtr-hbW7BSGOQXsETKHp26X_XA0ZhqwO8gDeIPfOrT9yBQnUrpwX9QjDqrn5aHHi7xa8nFWuJm69UmXFWrQjHciuc89amqAaeg931zehsKI37w6CxHmPYMLH0il47fSOIWWbqOTR-uf2WfFdwtigWjvZzKzSW2ZvhEHPWhlwl98OLVEo-VvxaebWpZsk2Yc-Pku1VvjoXf_5X1gF1viZzQkthE8mgf579wJ6_y9XljJkO6wygdBbcKB3G0bGPLxUBTPK9D0LOE428glPEd7gQoa0b_iCKEPiAjxZp1Go1xb7s1JQgH9m1lnjTOaLFfnk87apaUpubsoXRSLag'"
      ]
     },
     "metadata": {},
     "output_type": "display_data"
    }
   ],
   "source": [
    "## Refresh the token\n",
    "\n",
    "TOKENURL=f'https://{wallarooPrefix}.keycloak.{wallarooSuffix}/auth/realms/master/protocol/openid-connect/token'\n",
    "\n",
    "# Retrieving through os environmental variables \n",
    "f = open('./creds.json.example')\n",
    "login_data = json.load(f)\n",
    "\n",
    "CONFIDENTIAL_CLIENT=login_data[\"confidentialClient\"]\n",
    "CONFIDENTIAL_CLIENT_SECRET=login_data[\"confidentialPassword\"]\n",
    "\n",
    "\n",
    "auth = HTTPBasicAuth(CONFIDENTIAL_CLIENT, CONFIDENTIAL_CLIENT_SECRET)\n",
    "data = {\n",
    "    'grant_type': 'refresh_token',\n",
    "    'refresh_token': refresh_token\n",
    "}\n",
    "response = requests.post(TOKENURL, auth=auth, data=data, verify=True)\n",
    "access_token = response.json()['access_token']\n",
    "refresh_token = response.json()['refresh_token']\n",
    "display(access_token)"
   ]
  },
  {
   "cell_type": "code",
   "execution_count": 26,
   "id": "2208ef1b",
   "metadata": {},
   "outputs": [
    {
     "data": {
      "text/plain": [
       "'eyJhbGciOiJSUzI1NiIsInR5cCIgOiAiSldUIiwia2lkIiA6ICJ3TllsbXBic1ctZ1RkMzdfTjR6cEphTTNIcEo4eW1DSWNnZWV3eTJxbmhjIn0.eyJleHAiOjE2ODIwMTczMzYsImlhdCI6MTY4MjAxMzczNiwianRpIjoiOWQ1MTA4Y2ItYzE1Ny00MGQwLTg3YTItNjQ2OWUzM2Q5ZTcyIiwiaXNzIjoiaHR0cHM6Ly9zcGFya2x5LWFwcGxlLTMwMjYua2V5Y2xvYWsud2FsbGFyb28uY29tbXVuaXR5L2F1dGgvcmVhbG1zL21hc3RlciIsImF1ZCI6WyJtYXN0ZXItcmVhbG0iLCJhY2NvdW50Il0sInN1YiI6IjEwNGQwMGM3LTQ1ZTctNDVjZi04Yjk5LTlkMjYwOTFhYzMxNCIsInR5cCI6IkJlYXJlciIsImF6cCI6ImFwaS1jbGllbnQiLCJhY3IiOiIxIiwiYWxsb3dlZC1vcmlnaW5zIjpbIioiXSwicmVhbG1fYWNjZXNzIjp7InJvbGVzIjpbImRlZmF1bHQtcm9sZXMtbWFzdGVyIiwib2ZmbGluZV9hY2Nlc3MiLCJ1bWFfYXV0aG9yaXphdGlvbiJdfSwicmVzb3VyY2VfYWNjZXNzIjp7Im1hc3Rlci1yZWFsbSI6eyJyb2xlcyI6WyJpbXBlcnNvbmF0aW9uIiwibWFuYWdlLXVzZXJzIiwidmlldy11c2VycyIsInF1ZXJ5LWdyb3VwcyIsInF1ZXJ5LXVzZXJzIl19LCJhY2NvdW50Ijp7InJvbGVzIjpbIm1hbmFnZS1hY2NvdW50IiwibWFuYWdlLWFjY291bnQtbGlua3MiLCJ2aWV3LXByb2ZpbGUiXX19LCJzY29wZSI6InByb2ZpbGUgZW1haWwiLCJlbWFpbF92ZXJpZmllZCI6ZmFsc2UsImNsaWVudEhvc3QiOiIxMC40OC40LjE0NiIsImNsaWVudElkIjoiYXBpLWNsaWVudCIsImh0dHBzOi8vaGFzdXJhLmlvL2p3dC9jbGFpbXMiOnsieC1oYXN1cmEtdXNlci1pZCI6IjEwNGQwMGM3LTQ1ZTctNDVjZi04Yjk5LTlkMjYwOTFhYzMxNCIsIngtaGFzdXJhLWRlZmF1bHQtcm9sZSI6InVzZXIiLCJ4LWhhc3VyYS1hbGxvd2VkLXJvbGVzIjpbInVzZXIiXSwieC1oYXN1cmEtdXNlci1ncm91cHMiOiJ7fSJ9LCJwcmVmZXJyZWRfdXNlcm5hbWUiOiJzZXJ2aWNlLWFjY291bnQtYXBpLWNsaWVudCIsImNsaWVudEFkZHJlc3MiOiIxMC40OC40LjE0NiJ9.p7YJfmfFHk4MPPo4H-BXWYrilE-ZZ0fVID85ZPcDbpHjJMDC3GjSErsfVyjIwnq-wnsfn3z_6ZDX0FPEm1eKF-i78cvGjHFklg5dpRPSN5YjwX2xsxo4S8CtBlzDGIBjiYbx34ZaASQjG-sMxG9CfE7HDQZybngtnj4oH5XAOqxDsqQ7yZqaSYD7Hrz28fZbjrJhwLmlgCW9FFQFk39fnY_u4AKer-ElP_uftbpLi0c6bQZK58wqHgUFnXbZxea_4CYGsN8ak0dhSxreZaE4-WFoie9h0SZ4t2E8uquS0siocelvvVQlLROJIzgw_DzlN0vG1av19EjPBpP5wgrgTw'"
      ]
     },
     "metadata": {},
     "output_type": "display_data"
    }
   ],
   "source": [
    "## Pipeline Inference URL token - does not require Wallaroo username/password.\n",
    "\n",
    "TOKENURL=f'https://{wallarooPrefix}.keycloak.{wallarooSuffix}/auth/realms/master/protocol/openid-connect/token'\n",
    "\n",
    "# Retrieving through os environmental variables \n",
    "f = open('./creds.json.example')\n",
    "login_data = json.load(f)\n",
    "\n",
    "CONFIDENTIAL_CLIENT=login_data[\"confidentialClient\"]\n",
    "CLIENT_SECRET=login_data[\"confidentialPassword\"]\n",
    "\n",
    "auth = HTTPBasicAuth(CONFIDENTIAL_CLIENT, CLIENT_SECRET)\n",
    "data = {\n",
    "    'grant_type': 'client_credentials'\n",
    "}\n",
    "response = requests.post(TOKENURL, auth=auth, data=data, verify=True)\n",
    "inference_access_token = response.json()['access_token']\n",
    "display(inference_access_token)"
   ]
  },
  {
   "attachments": {},
   "cell_type": "markdown",
   "id": "1750bf46",
   "metadata": {},
   "source": [
    "### Through the Wallaroo SDK\n",
    "\n",
    "The Wallaroo SDK method Wallaroo Client `wl.auth.auth_header()` method provides the token with the `Authorization` header.\n",
    "\n",
    "```python\n",
    "# Retrieve the token\n",
    "headers = wl.auth.auth_header()\n",
    "display(headers)\n",
    "\n",
    "{'Authorization': 'Bearer abcdefg'}\n",
    "```"
   ]
  },
  {
   "attachments": {},
   "cell_type": "markdown",
   "id": "aeb772b1",
   "metadata": {},
   "source": [
    "### Connect to Wallaroo\n",
    "\n",
    "For this example, a connection to the Wallaroo SDK is used.  This will be used to retrieve the JWT token for the MLOps API calls.  \n",
    "\n",
    "This example will store the user's credentials into the file `./creds.json` which contains the following:\n",
    "\n",
    "```json\n",
    "{\n",
    "    \"username\": \"{Connecting User's Username}\", \n",
    "    \"password\": \"{Connecting User's Password}\", \n",
    "    \"email\": \"{Connecting User's Email Address}\"\n",
    "}\n",
    "```\n",
    "\n",
    "Replace the `username`, `password`, and `email` fields with the user account connecting to the Wallaroo instance.  This allows a seamless connection to the Wallaroo instance and bypasses the standard browser based confirmation link.  For more information, see the [Wallaroo SDK Essentials Guide:  Client Connection](https://docs.wallaroo.ai/wallaroo-developer-guides/wallaroo-sdk-guides/wallaroo-sdk-essentials-guide/wallaroo-sdk-essentials-client/).\n",
    "\n",
    "Update `wallarooPrefix = \"YOUR PREFIX\"` and `wallarooSuffix = \"YOUR SUFFIX\"` to match the Wallaroo instance used for this demonstration."
   ]
  },
  {
   "cell_type": "code",
   "execution_count": 8,
   "id": "37751dc8",
   "metadata": {},
   "outputs": [],
   "source": [
    "# Retrieve the login credentials.\n",
    "os.environ[\"WALLAROO_SDK_CREDENTIALS\"] = './creds.json.example'\n",
    "\n",
    "# Client connection from local Wallaroo instance\n",
    "\n",
    "# wl = wallaroo.Client(auth_type=\"user_password\")\n",
    "\n",
    "# Login from external connection\n",
    "\n",
    "wallarooPrefix = \"YOUR PREFIX\"\n",
    "wallarooSuffix = \"YOUR SUFFIX\"\n",
    "\n",
    "wallarooPrefix = \"docreleasetest\"\n",
    "wallarooSuffix = \"wallaroocommunity.ninja\"\n",
    "\n",
    "# wallarooPrefix = \"sparkly-apple-3026\"\n",
    "# wallarooSuffix = \"wallaroo.community\"\n",
    "\n",
    "wl = wallaroo.Client(api_endpoint=f\"https://{wallarooPrefix}.api.{wallarooSuffix}\", \n",
    "                    auth_endpoint=f\"https://{wallarooPrefix}.keycloak.{wallarooSuffix}\", \n",
    "                    auth_type=\"user_password\")"
   ]
  },
  {
   "attachments": {},
   "cell_type": "markdown",
   "id": "a558058b",
   "metadata": {},
   "source": [
    "### API URL\n",
    "\n",
    "The variable `APIURL` is used to specify the connection to the Wallaroo instance's MLOps API URL."
   ]
  },
  {
   "cell_type": "code",
   "execution_count": 9,
   "id": "11b04fa2",
   "metadata": {},
   "outputs": [
    {
     "data": {
      "text/plain": [
       "'https://docreleasetest.api.wallaroocommunity.ninja'"
      ]
     },
     "metadata": {},
     "output_type": "display_data"
    }
   ],
   "source": [
    "APIURL=f\"https://{wallarooPrefix}.api.{wallarooSuffix}\"\n",
    "display(APIURL)"
   ]
  },
  {
   "attachments": {},
   "cell_type": "markdown",
   "id": "8593a5df-438a-4d13-a466-d0b3ff8f2f8c",
   "metadata": {},
   "source": [
    "### API Request Methods\n",
    "\n",
    "This tutorial relies on the Python `requests` library, and the Wallaroo Wallaroo Client `wl.auth.auth_header()` method.\n",
    "\n",
    "MLOps API requests are always `POST`.  Most are submitted with the header `'Content-Type':'application/json'` unless specified otherwise."
   ]
  },
  {
   "cell_type": "markdown",
   "id": "a38d7358-b108-4f6b-b10d-e5855e26f87e",
   "metadata": {},
   "source": [
    "## Users\n",
    "\n",
    "### Get Users\n",
    "\n",
    "Users can be retrieved either by their Keycloak user id, or return all users if an empty set `{}` is submitted.\n",
    "\n",
    "* **Parameters**\n",
    "  * `{}`: Empty set, returns all users.\n",
    "  * **user_ids** *Array[Keycloak user ids]*: An array of Keycloak user ids, typically in UUID format.\n",
    "\n",
    "Example:  The first example will submit an empty set `{}` to return all users, then submit the first user's user id and request only that user's details."
   ]
  },
  {
   "cell_type": "code",
   "execution_count": 21,
   "id": "033e35b3-0e80-400c-8b79-da6ddcc6afe8",
   "metadata": {},
   "outputs": [
    {
     "data": {
      "text/plain": [
       "{'users': {'7d020f4c-e344-419d-83be-c19119f71d8c': {'access': {'mapRoles': True,\n",
       "    'manage': True,\n",
       "    'manageGroupMembership': True,\n",
       "    'view': True,\n",
       "    'impersonate': False},\n",
       "   'createdTimestamp': 1682624828069,\n",
       "   'disableableCredentialTypes': [],\n",
       "   'email': 'john.hansarick@wallaroo.ai',\n",
       "   'emailVerified': True,\n",
       "   'enabled': True,\n",
       "   'firstName': 'John',\n",
       "   'id': '7d020f4c-e344-419d-83be-c19119f71d8c',\n",
       "   'lastName': 'Hansarick',\n",
       "   'notBefore': 0,\n",
       "   'requiredActions': [],\n",
       "   'username': 'john.hansarick@wallaroo.ai'},\n",
       "  '1e3ea1bb-5a40-4dcb-b5b7-c32f25368848': {'access': {'view': True,\n",
       "    'mapRoles': True,\n",
       "    'impersonate': False,\n",
       "    'manageGroupMembership': True,\n",
       "    'manage': True},\n",
       "   'createdTimestamp': 1682459382718,\n",
       "   'disableableCredentialTypes': [],\n",
       "   'email': 'john.hummel@wallaroo.ai',\n",
       "   'emailVerified': False,\n",
       "   'enabled': True,\n",
       "   'firstName': 'John',\n",
       "   'id': '1e3ea1bb-5a40-4dcb-b5b7-c32f25368848',\n",
       "   'lastName': 'Hansarick',\n",
       "   'notBefore': 0,\n",
       "   'requiredActions': [],\n",
       "   'username': 'john.hummel@wallaroo.ai'},\n",
       "  '9a4b5729-0794-4fb8-8b24-057f3dcf142b': {'access': {'manageGroupMembership': True,\n",
       "    'manage': True,\n",
       "    'impersonate': False,\n",
       "    'mapRoles': True,\n",
       "    'view': True},\n",
       "   'createdTimestamp': 1682456987778,\n",
       "   'disableableCredentialTypes': [],\n",
       "   'emailVerified': False,\n",
       "   'enabled': True,\n",
       "   'id': '9a4b5729-0794-4fb8-8b24-057f3dcf142b',\n",
       "   'notBefore': 0,\n",
       "   'requiredActions': [],\n",
       "   'username': 'admin'}}}"
      ]
     },
     "execution_count": 21,
     "metadata": {},
     "output_type": "execute_result"
    }
   ],
   "source": [
    "# Get all users\n",
    "\n",
    "# Retrieve the token \n",
    "headers = wl.auth.auth_header()\n",
    "\n",
    "api_request = f\"{APIURL}/v1/api/users/query\"\n",
    "data = {\n",
    "}\n",
    "\n",
    "response = requests.post(api_request, json=data, headers=headers, verify=True).json()\n",
    "response"
   ]
  },
  {
   "cell_type": "code",
   "execution_count": 22,
   "id": "7655f019-894c-46af-9059-765e4bec6bf4",
   "metadata": {},
   "outputs": [
    {
     "data": {
      "text/plain": [
       "{'users': {'7d020f4c-e344-419d-83be-c19119f71d8c': {'access': {'impersonate': False,\n",
       "    'manageGroupMembership': True,\n",
       "    'mapRoles': True,\n",
       "    'manage': True,\n",
       "    'view': True},\n",
       "   'createdTimestamp': 1682624828069,\n",
       "   'disableableCredentialTypes': [],\n",
       "   'email': 'john.hansarick@wallaroo.ai',\n",
       "   'emailVerified': True,\n",
       "   'enabled': True,\n",
       "   'federatedIdentities': [],\n",
       "   'firstName': 'John',\n",
       "   'id': '7d020f4c-e344-419d-83be-c19119f71d8c',\n",
       "   'lastName': 'Hansarick',\n",
       "   'notBefore': 0,\n",
       "   'requiredActions': [],\n",
       "   'username': 'john.hansarick@wallaroo.ai'}}}"
      ]
     },
     "execution_count": 22,
     "metadata": {},
     "output_type": "execute_result"
    }
   ],
   "source": [
    "# Get first user Keycloak id\n",
    "# Retrieve the token \n",
    "headers = wl.auth.auth_header()\n",
    "\n",
    "# retrieved from the previous request\n",
    "first_user_keycloak = list(response['users'])[0]\n",
    "\n",
    "api_request = f\"{APIURL}/v1/api/users/query\"\n",
    "\n",
    "data = {\n",
    "  \"user_ids\": [\n",
    "    first_user_keycloak\n",
    "  ]\n",
    "}\n",
    "\n",
    "response = requests.post(api_request, json=data, headers=headers, verify=True).json()\n",
    "response"
   ]
  },
  {
   "attachments": {},
   "cell_type": "markdown",
   "id": "9f7c0489-d1b2-4539-aa93-c23a5950c87c",
   "metadata": {},
   "source": [
    "### Invite Users\n",
    "\n",
    "**IMPORTANT NOTE**:  This command is for YOUR SUFFIX only.  For more details on user management, see [Wallaroo User Management](https://docs.wallaroo.ai/wallaroo-operations-guide/wallaroo-user-management/).\n",
    "\n",
    "Users are invited through `/users/invite`.  When using YOUR SUFFIX, this will send an invitation email to the email address listed.  Note that the user must not already be a member of the Wallaroo instance, and email addresses must be unique.  If the email address is already in use for another user, the request will generate an error.\n",
    "\n",
    "* **Parameters**\n",
    "  * **email** *(REQUIRED string): The email address of the new user to invite.\n",
    "  * **password** *(OPTIONAL string)*: The assigned password of the new user to invite.  If not provided, the Wallaroo instance will provide the new user a temporary password that must be changed upon initial login.\n",
    "\n",
    "Example:  In this example, a new user will be invited to the Wallaroo instance and assigned a password."
   ]
  },
  {
   "cell_type": "code",
   "execution_count": null,
   "id": "946e6189-58b0-4df0-8798-8886f7c9ce77",
   "metadata": {},
   "outputs": [],
   "source": [
    "## invite users\n",
    "\n",
    "# Retrieve the token \n",
    "headers = wl.auth.auth_header()\n",
    "\n",
    "api_request = f\"{APIURL}/v1/api/users/invite\"\n",
    "\n",
    "data = {\n",
    "    \"email\": new_user,\n",
    "    \"password\":new_user_password\n",
    "}\n",
    "\n",
    "response = requests.post(api_request, json=data, headers=headers, verify=True).json()\n",
    "response"
   ]
  },
  {
   "attachments": {},
   "cell_type": "markdown",
   "id": "f019f4a7-fbf2-4dcd-a73f-bb6160fadfc1",
   "metadata": {},
   "source": [
    "### Deactivate User\n",
    "\n",
    "Users can be deactivated so they can not login to their Wallaroo instance.  Deactivated users do not count against the Wallaroo license count.\n",
    "\n",
    "* **Parameters**\n",
    "  * **email** (*REQUIRED string*):  The email address of the user to deactivate.\n",
    "\n",
    "Example:  In this example, the `deactivated_user` will be deactivated."
   ]
  },
  {
   "cell_type": "code",
   "execution_count": 23,
   "id": "320d7d7c-4ad9-408b-a663-9e162096e2d3",
   "metadata": {},
   "outputs": [
    {
     "data": {
      "text/plain": [
       "{}"
      ]
     },
     "execution_count": 23,
     "metadata": {},
     "output_type": "execute_result"
    }
   ],
   "source": [
    "## Deactivate users\n",
    "\n",
    "# Retrieve the token \n",
    "headers = wl.auth.auth_header()\n",
    "\n",
    "api_request = f\"{APIURL}/v1/api/users/deactivate\"\n",
    "\n",
    "data = {\n",
    "    \"email\": new_user\n",
    "}\n",
    "\n",
    "response = requests.post(api_request, json=data, headers=headers, verify=True).json()\n",
    "response"
   ]
  },
  {
   "attachments": {},
   "cell_type": "markdown",
   "id": "b0072579-58ab-4758-bed0-da62dd67630c",
   "metadata": {},
   "source": [
    "### Activate User\n",
    "\n",
    "A deactivated user can be reactivated to allow them access to their Wallaroo instance.  Activated users count against the Wallaroo license count.\n",
    "\n",
    "* **Parameters**\n",
    "  * **email** (*REQUIRED string*):  The email address of the user to activate.\n",
    "\n",
    "Example:  In this example, the `activated_user` will be activated."
   ]
  },
  {
   "cell_type": "code",
   "execution_count": 24,
   "id": "94259866-4f96-4f7f-8cc8-e7b712169f69",
   "metadata": {},
   "outputs": [
    {
     "data": {
      "text/plain": [
       "{}"
      ]
     },
     "execution_count": 24,
     "metadata": {},
     "output_type": "execute_result"
    }
   ],
   "source": [
    "## Activate users\n",
    "\n",
    "# Retrieve the token \n",
    "headers = wl.auth.auth_header()\n",
    "api_request = f\"{APIURL}/v1/api/users/activate\"\n",
    "\n",
    "data = {\n",
    "    \"email\": new_user\n",
    "}\n",
    "\n",
    "response = requests.post(api_request, json=data, headers=headers, verify=True).json()\n",
    "response"
   ]
  },
  {
   "attachments": {},
   "cell_type": "markdown",
   "id": "6fcf4618-609a-4cf9-9d3c-b05cf679916a",
   "metadata": {},
   "source": [
    "## Workspaces\n",
    "\n",
    "### List Workspaces\n",
    "\n",
    "List the workspaces for a specific user.\n",
    "\n",
    "* **Parameters**\n",
    "  * **user_id** - (*OPTIONAL string*): The Keycloak ID.\n",
    "  \n",
    "Example:  In this example, the workspaces for all users will be displayed."
   ]
  },
  {
   "cell_type": "code",
   "execution_count": 25,
   "id": "d3f5ecd9-0a0e-4506-96bc-13a497be0688",
   "metadata": {},
   "outputs": [
    {
     "data": {
      "text/plain": [
       "{'workspaces': [{'id': 1,\n",
       "   'name': 'housepricesagaworkspace',\n",
       "   'created_at': '2023-04-25T21:50:28.682984+00:00',\n",
       "   'created_by': '1e3ea1bb-5a40-4dcb-b5b7-c32f25368848',\n",
       "   'archived': False,\n",
       "   'models': [1],\n",
       "   'pipelines': [1]},\n",
       "  {'id': 2,\n",
       "   'name': 'john.hummel@wallaroo.ai - Default Workspace',\n",
       "   'created_at': '2023-04-25T21:51:05.264251+00:00',\n",
       "   'created_by': '1e3ea1bb-5a40-4dcb-b5b7-c32f25368848',\n",
       "   'archived': False,\n",
       "   'models': [],\n",
       "   'pipelines': []},\n",
       "  {'id': 8,\n",
       "   'name': 'logworkspace',\n",
       "   'created_at': '2023-04-27T18:28:12.005202+00:00',\n",
       "   'created_by': '1e3ea1bb-5a40-4dcb-b5b7-c32f25368848',\n",
       "   'archived': False,\n",
       "   'models': [2, 3, 4],\n",
       "   'pipelines': [3]},\n",
       "  {'id': 9,\n",
       "   'name': 'mobilenetworkspacetest',\n",
       "   'created_at': '2023-04-27T19:14:39.935502+00:00',\n",
       "   'created_by': '1e3ea1bb-5a40-4dcb-b5b7-c32f25368848',\n",
       "   'archived': False,\n",
       "   'models': [],\n",
       "   'pipelines': [9]}]}"
      ]
     },
     "execution_count": 25,
     "metadata": {},
     "output_type": "execute_result"
    }
   ],
   "source": [
    "# List workspaces\n",
    "\n",
    "# Retrieve the token \n",
    "headers = wl.auth.auth_header()\n",
    "\n",
    "api_request = f\"{APIURL}/v1/api/workspaces/list\"\n",
    "\n",
    "data = {\n",
    "}\n",
    "\n",
    "response = requests.post(api_request, json=data, headers=headers, verify=True).json()\n",
    "response"
   ]
  },
  {
   "attachments": {},
   "cell_type": "markdown",
   "id": "571cffc9-5932-406b-99c3-f7bf01dd56bb",
   "metadata": {},
   "source": [
    "### Create Workspace\n",
    "\n",
    "A new workspace will be created in the Wallaroo instance.  Upon creating, the workspace owner will be assigned as the user making the MLOps API request.\n",
    "\n",
    "* **Parameters**:\n",
    "  * **workspace_name** - (*REQUIRED string*):  The name of the new workspace with the following requirements:\n",
    "    * Must be unique.\n",
    "    * DNS compliant with only lowercase characters.\n",
    "* **Returns**:\n",
    "  * **workspace_id** - (*int*):  The ID of the new workspace.\n",
    "  \n",
    "Example:  In this example, a workspace with the name `testapiworkspace` will be created, and the newly created workspace's `workspace_id` saved as the variable `example_workspace_id` for use in other code examples.  After the request is complete, the [List Workspaces](#list-workspaces) command will be issued to demonstrate the new workspace has been created."
   ]
  },
  {
   "cell_type": "code",
   "execution_count": 26,
   "id": "8fac2fd6-b7fa-43c4-9bf8-84692eec7871",
   "metadata": {},
   "outputs": [
    {
     "data": {
      "text/plain": [
       "{'workspace_id': 10}"
      ]
     },
     "metadata": {},
     "output_type": "display_data"
    }
   ],
   "source": [
    "# Create workspace\n",
    "# Retrieve the token \n",
    "headers = wl.auth.auth_header()\n",
    "\n",
    "api_request = f\"{APIURL}/v1/api/workspaces/create\"\n",
    "\n",
    "data = {\n",
    "  \"workspace_name\": example_workspace_name\n",
    "}\n",
    "\n",
    "response = requests.post(api_request, json=data, headers=headers, verify=True).json()\n",
    "display(response)\n",
    "# Stored for future examples\n",
    "example_workspace_id = response['workspace_id']"
   ]
  },
  {
   "cell_type": "code",
   "execution_count": 27,
   "id": "d4820b9f",
   "metadata": {},
   "outputs": [
    {
     "data": {
      "text/plain": [
       "{'workspaces': [{'id': 1,\n",
       "   'name': 'housepricesagaworkspace',\n",
       "   'created_at': '2023-04-25T21:50:28.682984+00:00',\n",
       "   'created_by': '1e3ea1bb-5a40-4dcb-b5b7-c32f25368848',\n",
       "   'archived': False,\n",
       "   'models': [1],\n",
       "   'pipelines': [1]},\n",
       "  {'id': 2,\n",
       "   'name': 'john.hummel@wallaroo.ai - Default Workspace',\n",
       "   'created_at': '2023-04-25T21:51:05.264251+00:00',\n",
       "   'created_by': '1e3ea1bb-5a40-4dcb-b5b7-c32f25368848',\n",
       "   'archived': False,\n",
       "   'models': [],\n",
       "   'pipelines': []},\n",
       "  {'id': 8,\n",
       "   'name': 'logworkspace',\n",
       "   'created_at': '2023-04-27T18:28:12.005202+00:00',\n",
       "   'created_by': '1e3ea1bb-5a40-4dcb-b5b7-c32f25368848',\n",
       "   'archived': False,\n",
       "   'models': [2, 3, 4],\n",
       "   'pipelines': [3]},\n",
       "  {'id': 9,\n",
       "   'name': 'mobilenetworkspacetest',\n",
       "   'created_at': '2023-04-27T19:14:39.935502+00:00',\n",
       "   'created_by': '1e3ea1bb-5a40-4dcb-b5b7-c32f25368848',\n",
       "   'archived': False,\n",
       "   'models': [],\n",
       "   'pipelines': [9]},\n",
       "  {'id': 10,\n",
       "   'name': 'apiworkspace',\n",
       "   'created_at': '2023-04-27T19:50:01.580316+00:00',\n",
       "   'created_by': '1e3ea1bb-5a40-4dcb-b5b7-c32f25368848',\n",
       "   'archived': False,\n",
       "   'models': [],\n",
       "   'pipelines': []}]}"
      ]
     },
     "execution_count": 27,
     "metadata": {},
     "output_type": "execute_result"
    }
   ],
   "source": [
    "## List workspaces\n",
    "\n",
    "# Retrieve the token \n",
    "headers = wl.auth.auth_header()\n",
    "\n",
    "api_request = f\"{APIURL}/v1/api/workspaces/list\"\n",
    "\n",
    "data = {\n",
    "}\n",
    "\n",
    "response = requests.post(api_request, json=data, headers=headers, verify=True).json()\n",
    "response"
   ]
  },
  {
   "attachments": {},
   "cell_type": "markdown",
   "id": "6670a0ef-52d9-4fd2-8fb3-4ef2304bdfa2",
   "metadata": {},
   "source": [
    "### Add User to Workspace\n",
    "\n",
    "Existing users of the Wallaroo instance can be added to an existing workspace.\n",
    "\n",
    "* **Parameters**\n",
    "  * **email** - (*REQUIRED string*):  The email address of the user to add to the workspace.  This user must already exist in the Wallaroo instance.\n",
    "  * **workspace_id** - (*REQUIRED int*): The id of the workspace.\n",
    "  \n",
    "Example:  The following example adds the user created in Invite Users request to the workspace created in the [Create Workspace](#create-workspace) request."
   ]
  },
  {
   "cell_type": "code",
   "execution_count": 28,
   "id": "a130de1e-f1ae-434b-ac29-8782e3278334",
   "metadata": {},
   "outputs": [
    {
     "data": {
      "text/plain": [
       "{}"
      ]
     },
     "execution_count": 28,
     "metadata": {},
     "output_type": "execute_result"
    }
   ],
   "source": [
    "# Add existing user to existing workspace\n",
    "\n",
    "# Retrieve the token \n",
    "headers = wl.auth.auth_header()\n",
    "\n",
    "api_request = f\"{APIURL}/v1/api/workspaces/add_user\"\n",
    "\n",
    "data = {\n",
    "  \"email\":new_user,\n",
    "  \"workspace_id\": example_workspace_id\n",
    "}\n",
    "\n",
    "response = requests.post(api_request, json=data, headers=headers, verify=True).json()\n",
    "response"
   ]
  },
  {
   "attachments": {},
   "cell_type": "markdown",
   "id": "d894179b",
   "metadata": {},
   "source": [
    "### List Users in a Workspace\n",
    "\n",
    "Lists the users who are either owners or collaborators of a workspace.\n",
    "\n",
    "* **Parameters**\n",
    "  * **workspace_id** - (*REQUIRED int*): The id of the workspace.\n",
    "* **Returns**\n",
    "  * **user_id**:  The user's Keycloak identification.\n",
    "  * **user_type**:  The user's workspace type (owner, co-owner, etc).\n",
    "  \n",
    "Example:  The following example will list all users part of the workspace created in the [Create Workspace](#create-workspace) request."
   ]
  },
  {
   "cell_type": "code",
   "execution_count": 29,
   "id": "a130de1e-f1ae-434b-ac29-8782e3278334",
   "metadata": {},
   "outputs": [
    {
     "data": {
      "text/plain": [
       "{'users': [{'user_id': '1e3ea1bb-5a40-4dcb-b5b7-c32f25368848',\n",
       "   'user_type': 'OWNER'},\n",
       "  {'user_id': '7d020f4c-e344-419d-83be-c19119f71d8c',\n",
       "   'user_type': 'COLLABORATOR'}]}"
      ]
     },
     "execution_count": 29,
     "metadata": {},
     "output_type": "execute_result"
    }
   ],
   "source": [
    "# List users in a workspace\n",
    "\n",
    "# Retrieve the token \n",
    "\n",
    "headers = wl.auth.auth_header()\n",
    "\n",
    "api_request = f\"{APIURL}/v1/api/workspaces/list_users\"\n",
    "\n",
    "data = {\n",
    "  \"workspace_id\": example_workspace_id\n",
    "}\n",
    "\n",
    "response = requests.post(api_request, json=data, headers=headers, verify=True).json()\n",
    "response"
   ]
  },
  {
   "cell_type": "markdown",
   "id": "d894179b",
   "metadata": {},
   "source": [
    "### Remove User from a Workspace\n",
    "\n",
    "Removes the user from the given workspace.  In this request, either the user's Keycloak ID is required **OR** the user's email address is required.\n",
    "\n",
    "* **Parameters**\n",
    "  * **workspace_id** - (*REQUIRED int*): The id of the workspace.\n",
    "  * **user_id** - (*string*): The Keycloak ID of the user.  If `email` is not provided, then this parameter is **REQUIRED**.\n",
    "  * **email** - (*string*): The user's email address.  If `user_id` is not provided, then this parameter is **REQUIRED**.\n",
    "* **Returns**\n",
    "  * **user_id**:  The user's identification.\n",
    "  * **user_type**:  The user's workspace type (owner, co-owner, etc).\n",
    "  \n",
    "Example:  The following example will remove the `newUser` from workspace created in the [Create Workspace](#create-workspace) request.  Then the users for that workspace will be listed to verify `newUser` has been removed."
   ]
  },
  {
   "cell_type": "code",
   "execution_count": 30,
   "id": "a130de1e-f1ae-434b-ac29-8782e3278334",
   "metadata": {},
   "outputs": [
    {
     "data": {
      "text/plain": [
       "{'affected_rows': 1}"
      ]
     },
     "execution_count": 30,
     "metadata": {},
     "output_type": "execute_result"
    }
   ],
   "source": [
    "# Remove existing user from an existing workspace\n",
    "\n",
    "# Retrieve the token \n",
    "headers = wl.auth.auth_header()\n",
    "\n",
    "api_request = f\"{APIURL}/v1/api/workspaces/remove_user\"\n",
    "\n",
    "data = {\n",
    "  \"email\":new_user,\n",
    "  \"workspace_id\": example_workspace_id\n",
    "}\n",
    "\n",
    "response = requests.post(api_request, json=data, headers=headers, verify=True).json()\n",
    "response"
   ]
  },
  {
   "cell_type": "code",
   "execution_count": 31,
   "id": "d560b63c",
   "metadata": {},
   "outputs": [
    {
     "data": {
      "text/plain": [
       "{'users': {'9a4b5729-0794-4fb8-8b24-057f3dcf142b': {'access': {'manage': True,\n",
       "    'manageGroupMembership': True,\n",
       "    'view': True,\n",
       "    'impersonate': False,\n",
       "    'mapRoles': True},\n",
       "   'createdTimestamp': 1682456987778,\n",
       "   'disableableCredentialTypes': [],\n",
       "   'emailVerified': False,\n",
       "   'enabled': True,\n",
       "   'id': '9a4b5729-0794-4fb8-8b24-057f3dcf142b',\n",
       "   'notBefore': 0,\n",
       "   'requiredActions': [],\n",
       "   'username': 'admin'},\n",
       "  '7d020f4c-e344-419d-83be-c19119f71d8c': {'access': {'manageGroupMembership': True,\n",
       "    'mapRoles': True,\n",
       "    'impersonate': False,\n",
       "    'manage': True,\n",
       "    'view': True},\n",
       "   'createdTimestamp': 1682624828069,\n",
       "   'disableableCredentialTypes': [],\n",
       "   'email': 'john.hansarick@wallaroo.ai',\n",
       "   'emailVerified': True,\n",
       "   'enabled': True,\n",
       "   'firstName': 'John',\n",
       "   'id': '7d020f4c-e344-419d-83be-c19119f71d8c',\n",
       "   'lastName': 'Hansarick',\n",
       "   'notBefore': 0,\n",
       "   'requiredActions': [],\n",
       "   'username': 'john.hansarick@wallaroo.ai'},\n",
       "  '1e3ea1bb-5a40-4dcb-b5b7-c32f25368848': {'access': {'manage': True,\n",
       "    'impersonate': False,\n",
       "    'view': True,\n",
       "    'mapRoles': True,\n",
       "    'manageGroupMembership': True},\n",
       "   'createdTimestamp': 1682459382718,\n",
       "   'disableableCredentialTypes': [],\n",
       "   'email': 'john.hummel@wallaroo.ai',\n",
       "   'emailVerified': False,\n",
       "   'enabled': True,\n",
       "   'firstName': 'John',\n",
       "   'id': '1e3ea1bb-5a40-4dcb-b5b7-c32f25368848',\n",
       "   'lastName': 'Hansarick',\n",
       "   'notBefore': 0,\n",
       "   'requiredActions': [],\n",
       "   'username': 'john.hummel@wallaroo.ai'}}}"
      ]
     },
     "execution_count": 31,
     "metadata": {},
     "output_type": "execute_result"
    }
   ],
   "source": [
    "## List users in a workspace\n",
    "\n",
    "# Retrieve the token \n",
    "headers = wl.auth.auth_header()\n",
    "\n",
    "api_request = f\"{APIURL}/v1/api/users/query\"\n",
    "\n",
    "data = {\n",
    "  \"workspace_id\": example_workspace_id\n",
    "}\n",
    "\n",
    "response = requests.post(api_request, json=data, headers=headers, verify=True).json()\n",
    "response"
   ]
  },
  {
   "attachments": {},
   "cell_type": "markdown",
   "id": "f5adfe3e-a667-44dd-94e0-6936031e11fe",
   "metadata": {},
   "source": [
    "## Models\n",
    "\n",
    "### Upload Model to Workspace\n",
    "\n",
    "Uploads a ML Model to a Wallaroo workspace via POST with `Content-Type: multipart/form-data`.\n",
    "\n",
    "* **Parameters**\n",
    "  * **name** - (*REQUIRED string*): Name of the model\n",
    "  * **visibility** - (*OPTIONAL string*): The visibility of the model as either `public` or `private`.\n",
    "  * **workspace_id** - (*REQUIRED int*): The numerical id of the workspace to upload the model to.\n",
    "  \n",
    "Example:  This example will upload the sample file `ccfraud.onnx` to the workspace created in the [Create Workspace](#create-workspace) step as `apitestmodel`.  The model name will be saved as `exampleModelName` for use in other examples.  The id of the uploaded model will be saved as `example_model_id` for use in later examples."
   ]
  },
  {
   "cell_type": "code",
   "execution_count": 32,
   "id": "a11158eb-b459-4be7-837a-01efecfbef3a",
   "metadata": {},
   "outputs": [
    {
     "data": {
      "text/plain": [
       "'Sample model name: apimodel'"
      ]
     },
     "metadata": {},
     "output_type": "display_data"
    },
    {
     "data": {
      "text/plain": [
       "'Sample model file: ./models/ccfraud.onnx'"
      ]
     },
     "metadata": {},
     "output_type": "display_data"
    },
    {
     "data": {
      "text/plain": [
       "{'insert_models': {'returning': [{'models': [{'id': 5}]}]}}"
      ]
     },
     "metadata": {},
     "output_type": "display_data"
    }
   ],
   "source": [
    "## upload model\n",
    "\n",
    "# Retrieve the token\n",
    "headers = wl.auth.auth_header()\n",
    "\n",
    "apiRequest = f\"{APIURL}/v1/api/models/upload\"\n",
    "\n",
    "# Model name and file to use\n",
    "display(f\"Sample model name: {model_name}\")\n",
    "display(f\"Sample model file: {model_file_name}\")\n",
    "\n",
    "\n",
    "data = {\n",
    "    \"name\":model_name,\n",
    "    \"visibility\":\"public\",\n",
    "    \"workspace_id\": example_workspace_id\n",
    "}\n",
    "\n",
    "files = {\n",
    "    'file': (model_name, open(model_file_name, 'rb'))\n",
    "    }\n",
    "\n",
    "\n",
    "response = requests.post(apiRequest, files=files, data=data, headers=headers).json()\n",
    "display(response)"
   ]
  },
  {
   "cell_type": "code",
   "execution_count": 33,
   "id": "e4180cc1-8121-4b96-9f14-893985b211a7",
   "metadata": {},
   "outputs": [
    {
     "data": {
      "text/plain": [
       "5"
      ]
     },
     "execution_count": 33,
     "metadata": {},
     "output_type": "execute_result"
    }
   ],
   "source": [
    "example_model_id=response['insert_models']['returning'][0]['models'][0]['id']\n",
    "example_model_id"
   ]
  },
  {
   "attachments": {},
   "cell_type": "markdown",
   "id": "57203b35",
   "metadata": {},
   "source": [
    "### Stream Upload Model to Workspace\n",
    "\n",
    "Streams a potentially large ML Model to a Wallaroo workspace via POST with `Content-Type: multipart/form-data`.\n",
    "\n",
    "* **Parameters**\n",
    "  * **name** - (*REQUIRED string*): Name of the model\n",
    "  * **filename** - (*REQUIRED string*): Name of the file being uploaded.\n",
    "  * **visibility** - (*OPTIONAL string*): The visibility of the model as either `public` or `private`.\n",
    "  * **workspace_id** - (*REQUIRED int*): The numerical id of the workspace to upload the model to.\n",
    "  \n",
    "Example:  This example will upload the sample file `ccfraud.onnx` to the workspace created in the [Create Workspace](#create-workspace) step as `apitestmodel`."
   ]
  },
  {
   "cell_type": "code",
   "execution_count": 34,
   "id": "6473baf9",
   "metadata": {},
   "outputs": [
    {
     "data": {
      "text/plain": [
       "'Sample stream model name: apiteststreammodel'"
      ]
     },
     "metadata": {},
     "output_type": "display_data"
    },
    {
     "data": {
      "text/plain": [
       "'Sample model file: ./models/ccfraud.onnx'"
      ]
     },
     "metadata": {},
     "output_type": "display_data"
    },
    {
     "data": {
      "text/plain": [
       "{'insert_models': {'returning': [{'models': [{'id': 6}]}]}}"
      ]
     },
     "execution_count": 34,
     "metadata": {},
     "output_type": "execute_result"
    }
   ],
   "source": [
    "# stream upload model - next test is adding arbitrary chunks to the stream\n",
    "\n",
    "# Retrieve the token \n",
    "headers = wl.auth.auth_header()\n",
    "\n",
    "# Set the contentType\n",
    "headers['contentType']='application/octet-stream'\n",
    "\n",
    "api_request = f\"{APIURL}/v1/api/models/upload_stream\"\n",
    "\n",
    "# Model name and file to use\n",
    "display(f\"Sample stream model name: {stream_model_name}\")\n",
    "display(f\"Sample model file: {stream_model_file_name}\")\n",
    "\n",
    "data = {\n",
    "    \"name\":stream_model_name,\n",
    "    \"filename\": stream_model_file_name,\n",
    "    \"visibility\":\"public\",\n",
    "    \"workspace_id\": example_workspace_id\n",
    "}\n",
    "\n",
    "files = {\n",
    "    'file': (stream_model_name, open(stream_model_file_name, 'rb'))\n",
    "    }\n",
    "\n",
    "response = requests.post(apiRequest, files=files, data=data, headers=headers).json()\n",
    "response"
   ]
  },
  {
   "attachments": {},
   "cell_type": "markdown",
   "id": "a938e735-61dd-4805-a356-81829b9593e6",
   "metadata": {},
   "source": [
    "### List Models in Workspace\n",
    "\n",
    "Returns a list of models added to a specific workspace.\n",
    "\n",
    "* **Parameters**\n",
    "  * **workspace_id** - (*REQUIRED int*): The workspace id to list.\n",
    "  \n",
    "Example:  Display the models for the workspace used in the Upload Model to Workspace step.  The model id and model name will be saved as `example_model_id` and `exampleModelName` variables for other examples."
   ]
  },
  {
   "cell_type": "code",
   "execution_count": 35,
   "id": "f60cc5b9-00bd-4526-8216-bc38e2e145d6",
   "metadata": {},
   "outputs": [
    {
     "data": {
      "text/plain": [
       "{'models': [{'id': 6,\n",
       "   'name': 'apiteststreammodel',\n",
       "   'owner_id': '\"\"',\n",
       "   'created_at': '2023-04-27T19:50:22.609013+00:00',\n",
       "   'updated_at': '2023-04-27T19:50:22.609013+00:00'},\n",
       "  {'id': 5,\n",
       "   'name': 'apimodel',\n",
       "   'owner_id': '\"\"',\n",
       "   'created_at': '2023-04-27T19:50:16.270396+00:00',\n",
       "   'updated_at': '2023-04-27T19:50:16.270396+00:00'}]}"
      ]
     },
     "execution_count": 35,
     "metadata": {},
     "output_type": "execute_result"
    }
   ],
   "source": [
    "# List models in a workspace\n",
    "# Retrieve the token \n",
    "headers = wl.auth.auth_header()\n",
    "\n",
    "api_request = f\"{APIURL}/v1/api/models/list\"\n",
    "\n",
    "data = {\n",
    "  \"workspace_id\": example_workspace_id\n",
    "}\n",
    "\n",
    "response = requests.post(api_request, json=data, headers=headers, verify=True).json()\n",
    "response"
   ]
  },
  {
   "cell_type": "code",
   "execution_count": 36,
   "id": "f88835d7-ed73-454c-9b7e-cadc5a0e90b3",
   "metadata": {},
   "outputs": [],
   "source": [
    "example_model_id = response['models'][0]['id']\n",
    "example_model_name = response['models'][0]['name']"
   ]
  },
  {
   "attachments": {},
   "cell_type": "markdown",
   "id": "d22fdb15-73e7-4118-afab-04de5f41dd3c",
   "metadata": {},
   "source": [
    "### Get Model Details By ID\n",
    "\n",
    "Returns the model details by the specific model id.\n",
    "\n",
    "* **Parameters**\n",
    "  * **workspace_id** - (*REQUIRED int*): The workspace id to list.\n",
    "* **Returns**\n",
    "  * **id** - (*int*):  Numerical id of the model.\n",
    "  * **owner_id** - (*string*): Id of the owner of the model.\n",
    "  * **workspace_id** - (*int*): Numerical of the id the model is in.\n",
    "  * **name** - (*string*): Name of the model.\n",
    "  * **updated_at** - (*DateTime*): Date and time of the model's last update.\n",
    "  * **created_at** - (*DateTime*): Date and time of the model's creation.\n",
    "  * **model_config** - (*string*): Details of the model's configuration.\n",
    "  \n",
    "Example:  Retrieve the details for the model uploaded in the Upload Model to Workspace step."
   ]
  },
  {
   "cell_type": "code",
   "execution_count": 37,
   "id": "e8c969c0-8737-4ce4-891e-deeaae8710e6",
   "metadata": {},
   "outputs": [
    {
     "data": {
      "text/plain": [
       "{'id': 6,\n",
       " 'owner_id': '\"\"',\n",
       " 'workspace_id': 10,\n",
       " 'name': 'apiteststreammodel',\n",
       " 'updated_at': '2023-04-27T19:50:22.609013+00:00',\n",
       " 'created_at': '2023-04-27T19:50:22.609013+00:00',\n",
       " 'model_config': None}"
      ]
     },
     "execution_count": 37,
     "metadata": {},
     "output_type": "execute_result"
    }
   ],
   "source": [
    "# Get model details by id\n",
    "# Retrieve the token \n",
    "headers = wl.auth.auth_header()\n",
    "\n",
    "api_request = f\"{APIURL}/v1/api/models/get_by_id\"\n",
    "\n",
    "data = {\n",
    "  \"id\": example_model_id\n",
    "}\n",
    "\n",
    "response = requests.post(api_request, json=data, headers=headers, verify=True).json()\n",
    "response"
   ]
  },
  {
   "attachments": {},
   "cell_type": "markdown",
   "id": "6306d882",
   "metadata": {},
   "source": [
    "### Get Model Versions\n",
    "\n",
    "Retrieves all versions of a model based on either the name of the model or the `model_pk_id`.\n",
    "\n",
    "* **Parameters**\n",
    "  * **model_id** - (*REQUIRED String*): The model name.\n",
    "  * **models_pk_id** - (*REQUIRED int*): The model integer pk id.\n",
    "* **Returns**\n",
    "  * Array(Model Details)\n",
    "    * **sha** - (*String*): The `sha` hash of the model version.\n",
    "    * **models_pk_id**- (*int*): The pk id of the model.\n",
    "    * **model_version** - (*String*): The UUID identifier of the model version.\n",
    "    * **owner_id** - (*String*): The Keycloak user id of the model's owner.\n",
    "    * **model_id** - (*String*): The name of the model.\n",
    "    * **id** - (*int*): The integer id of the model.\n",
    "    * **file_name** - (*String*): The filename used when uploading the model.\n",
    "    * **image_path** - (*String*): The image path of the model.\n",
    "\n",
    "\n",
    "Example:  Retrieve the versions for a previously uploaded model. The variables `example_model_version` and `example_model_sha` will store the model's version and SHA values for use in other examples."
   ]
  },
  {
   "cell_type": "code",
   "execution_count": 38,
   "id": "eaf6ee35",
   "metadata": {},
   "outputs": [
    {
     "data": {
      "text/plain": [
       "[{'sha': 'bc85ce596945f876256f41515c7501c399fd97ebcb9ab3dd41bf03f8937b4507',\n",
       "  'models_pk_id': 6,\n",
       "  'model_version': '3221dc1b-3bb4-490b-9924-22ed08f620f1',\n",
       "  'owner_id': '\"\"',\n",
       "  'model_id': 'apiteststreammodel',\n",
       "  'id': 6,\n",
       "  'file_name': 'apiteststreammodel',\n",
       "  'image_path': None,\n",
       "  'status': 'ready'}]"
      ]
     },
     "execution_count": 38,
     "metadata": {},
     "output_type": "execute_result"
    }
   ],
   "source": [
    "## List models in a workspace\n",
    "\n",
    "# Retrieve the token \n",
    "headers = wl.auth.auth_header()\n",
    "api_request = f\"{APIURL}/v1/api/models/list_versions\"\n",
    "\n",
    "data = {\n",
    "  \"model_id\": example_model_name,\n",
    "  \"models_pk_id\": example_model_id\n",
    "}\n",
    "\n",
    "response = requests.post(api_request, json=data, headers=headers, verify=True).json()\n",
    "response"
   ]
  },
  {
   "cell_type": "code",
   "execution_count": 39,
   "id": "82203f7d",
   "metadata": {},
   "outputs": [],
   "source": [
    "# Stored for future examples\n",
    "\n",
    "example_model_version = response[0]['model_version']\n",
    "example_model_sha = response[0]['sha']"
   ]
  },
  {
   "cell_type": "markdown",
   "id": "9ae2fd46-768c-4523-a377-97c5b8d2ec00",
   "metadata": {},
   "source": [
    "### Get Model Configuration by Id\n",
    "\n",
    "Returns the model's configuration details.\n",
    "\n",
    "* **Parameters**\n",
    "  * **model_id** - (*REQUIRED int*): The numerical value of the model's id.\n",
    "  \n",
    "Example:  Submit the model id for the model uploaded in the Upload Model to Workspace step to retrieve configuration details."
   ]
  },
  {
   "cell_type": "code",
   "execution_count": 40,
   "id": "78c07fa3-5538-4336-b6ff-96b1ea06e8cf",
   "metadata": {},
   "outputs": [
    {
     "data": {
      "text/plain": [
       "{'model_config': None}"
      ]
     },
     "execution_count": 40,
     "metadata": {},
     "output_type": "execute_result"
    }
   ],
   "source": [
    "## Get model config by id\n",
    "\n",
    "# Retrieve the token \n",
    "headers = wl.auth.auth_header()\n",
    "api_request = f\"{APIURL}/v1/api/models/get_config_by_id\"\n",
    "\n",
    "data = {\n",
    "  \"model_id\": example_model_id\n",
    "}\n",
    "\n",
    "response = requests.post(api_request, json=data, headers=headers, verify=True).json()\n",
    "response"
   ]
  },
  {
   "cell_type": "markdown",
   "id": "d0b997b9",
   "metadata": {},
   "source": [
    "### Get Model Details\n",
    "\n",
    "Returns details regarding a single model, including versions.\n",
    "\n",
    "Returns the model's configuration details.\n",
    "\n",
    "* **Parameters**\n",
    "  * **model_id** - (*REQUIRED int*): The numerical value of the model's id.\n",
    "  \n",
    "Example:  Submit the model id for the model uploaded in the Upload Model to Workspace step to retrieve configuration details."
   ]
  },
  {
   "cell_type": "code",
   "execution_count": 41,
   "id": "d07853c6",
   "metadata": {},
   "outputs": [
    {
     "data": {
      "text/plain": [
       "{'id': 6,\n",
       " 'name': 'apiteststreammodel',\n",
       " 'owner_id': '\"\"',\n",
       " 'created_at': '2023-04-27T19:50:22.609013+00:00',\n",
       " 'updated_at': '2023-04-27T19:50:22.609013+00:00',\n",
       " 'models': [{'sha': 'bc85ce596945f876256f41515c7501c399fd97ebcb9ab3dd41bf03f8937b4507',\n",
       "   'models_pk_id': 6,\n",
       "   'model_version': '3221dc1b-3bb4-490b-9924-22ed08f620f1',\n",
       "   'owner_id': '\"\"',\n",
       "   'model_id': 'apiteststreammodel',\n",
       "   'id': 6,\n",
       "   'file_name': 'apiteststreammodel',\n",
       "   'image_path': None}]}"
      ]
     },
     "execution_count": 41,
     "metadata": {},
     "output_type": "execute_result"
    }
   ],
   "source": [
    "# Get model config by id\n",
    "# Retrieve the token \n",
    "headers = wl.auth.auth_header()\n",
    "api_request = f\"{APIURL}/v1/api/models/get\"\n",
    "\n",
    "data = {\n",
    "  \"id\": example_model_id\n",
    "}\n",
    "\n",
    "response = requests.post(api_request, json=data, headers=headers, verify=True).json()\n",
    "response"
   ]
  },
  {
   "attachments": {},
   "cell_type": "markdown",
   "id": "b082e6fd",
   "metadata": {},
   "source": [
    "## Pipeline Management\n",
    "\n",
    "Pipelines are managed through the Wallaroo API or the Wallaroo SDK.  Pipelines are the vehicle used for deploying, serving, and monitoring ML models.  For more information, see the [Wallaroo Glossary](https://docs.wallaroo.ai/wallaroo-glossary/)."
   ]
  },
  {
   "attachments": {},
   "cell_type": "markdown",
   "id": "1c200c67-6797-43b1-9d1c-6b47338ca815",
   "metadata": {},
   "source": [
    "### Create Pipeline in a Workspace\n",
    "\n",
    "Creates a new pipeline in the specified workspace.\n",
    "\n",
    "* **Parameters**\n",
    "  * **pipeline_id** - (REQUIRED string): Name of the new pipeline.\n",
    "  * **workspace_id** - (REQUIRED int): Numerical id of the workspace for the new pipeline.\n",
    "  * **definition** - (REQUIRED string): Pipeline definitions, can be `{}` for none.\n",
    "\n",
    "Example:  Two pipelines are created in the workspace created in the step Create Workspace.  One will be an empty pipeline without any models, the other will be created using the uploaded models in the Upload Model to Workspace step and no configuration details.  The pipeline id, variant id, and variant version of each pipeline will be stored for later examples.\n",
    "\n",
    "The variable `example_workspace_id` was created in a previous example."
   ]
  },
  {
   "cell_type": "code",
   "execution_count": 42,
   "id": "cbb36662-fc0b-4489-9294-b6ecd9971c43",
   "metadata": {},
   "outputs": [
    {
     "data": {
      "text/plain": [
       "{'pipeline_pk_id': 10,\n",
       " 'pipeline_variant_pk_id': 10,\n",
       " 'pipeline_variant_version': '2f4837aa-0eb4-4c21-887e-4e79f03bba00'}"
      ]
     },
     "execution_count": 42,
     "metadata": {},
     "output_type": "execute_result"
    }
   ],
   "source": [
    "# Create pipeline in a workspace\n",
    "# Retrieve the token \n",
    "headers = wl.auth.auth_header()\n",
    "\n",
    "api_request = f\"{APIURL}/v1/api/pipelines/create\"\n",
    "\n",
    "data = {\n",
    "  \"pipeline_id\": empty_pipeline_name,\n",
    "  \"workspace_id\": example_workspace_id,\n",
    "  \"definition\": {}\n",
    "}\n",
    "\n",
    "response = requests.post(api_request, json=data, headers=headers, verify=True).json()\n",
    "\n",
    "empty_pipeline_id = response['pipeline_pk_id']\n",
    "empty_pipeline_variant_id=response['pipeline_variant_pk_id']\n",
    "example_pipeline_variant_version=['pipeline_variant_version']\n",
    "response"
   ]
  },
  {
   "cell_type": "code",
   "execution_count": 43,
   "id": "3dbc54d0-0f95-41e4-af11-592f2cf454dc",
   "metadata": {},
   "outputs": [
    {
     "data": {
      "text/plain": [
       "{'pipeline_pk_id': 11,\n",
       " 'pipeline_variant_pk_id': 11,\n",
       " 'pipeline_variant_version': '3deb92eb-b11c-4743-b02a-053ed08c4961'}"
      ]
     },
     "execution_count": 43,
     "metadata": {},
     "output_type": "execute_result"
    }
   ],
   "source": [
    "# Create pipeline in a workspace with models\n",
    "# Retrieve the token \n",
    "headers = wl.auth.auth_header()\n",
    "api_request = f\"{APIURL}/v1/api/pipelines/create\"\n",
    "\n",
    "data = {\n",
    "  \"pipeline_id\": model_pipeline_name,\n",
    "  \"workspace_id\": example_workspace_id,\n",
    "  \"definition\": {}\n",
    "}\n",
    "\n",
    "response = requests.post(api_request, json=data, headers=headers, verify=True).json()\n",
    "model_pipeline_id = response['pipeline_pk_id']\n",
    "model_pipeline_variant_id=response['pipeline_variant_pk_id']\n",
    "model_pipeline_variant_version=['pipeline_variant_version']\n",
    "response"
   ]
  },
  {
   "attachments": {},
   "cell_type": "markdown",
   "id": "39d79170-541b-44f1-874f-9eebd221e36c",
   "metadata": {},
   "source": [
    "### Deploy a Pipeline\n",
    "\n",
    "Deploy a an existing pipeline.  Note that for any pipeline that has model steps, they must be included either in `model_configs`, `model_ids` or `models`.\n",
    "\n",
    "* **Parameters**\n",
    "  * **deploy_id** (*REQUIRED string*): The name for the pipeline deployment.  This **must** match the name of the pipeline being deployed.\n",
    "  * **engine_config** (*OPTIONAL string*): Additional configuration options for the pipeline.\n",
    "  * **pipeline_version_pk_id** (*REQUIRED int*): Pipeline version id.\n",
    "  * **model_configs** (*OPTIONAL Array int*): Ids of model configs to apply.\n",
    "  * **model_ids** (*OPTIONAL Array int*): Ids of models to apply to the pipeline.  If passed in, model_configs will be created automatically.\n",
    "  * **models** (*OPTIONAL Array models*):  If the model ids are not available as a pipeline step, the models' data can be passed to it through this method.  The options below are only required if `models` are provided as a parameter.\n",
    "    * **name** (*REQUIRED string*): Name of the uploaded model that is in the same workspace as the pipeline.\n",
    "    * **version** (*REQUIRED string*): Version of the model to use.\n",
    "    * **sha** (*REQUIRED string*): SHA value of the model.\n",
    "  * **pipeline_id** (*REQUIRED int*): Numerical value of the pipeline to deploy.\n",
    "* **Returns**\n",
    "  * **id** (*int*): The deployment id.\n",
    "\n",
    "Examples:  Both the pipeline with model created in the step [Create Pipeline in a Workspace](#create-pipeline-in-a-workspace) will be deployed and their deployment information saved for later examples.\n"
   ]
  },
  {
   "cell_type": "code",
   "execution_count": 44,
   "id": "1d808303-8db7-402f-b2d1-84fc89652a26",
   "metadata": {},
   "outputs": [
    {
     "data": {
      "text/plain": [
       "{'id': 7}"
      ]
     },
     "metadata": {},
     "output_type": "display_data"
    }
   ],
   "source": [
    "# Deploy a pipeline with models\n",
    "# Retrieve the token \n",
    "headers = wl.auth.auth_header()\n",
    "api_request = f\"{APIURL}/v1/api/pipelines/deploy\"\n",
    "\n",
    "model_deploy_id=model_pipeline_name\n",
    "\n",
    "# example_model_deploy_id=\"test deployment name\"\n",
    "\n",
    "data = {\n",
    "    \"deploy_id\": model_deploy_id,\n",
    "    \"pipeline_version_pk_id\": model_pipeline_variant_id,\n",
    "    \"models\": [\n",
    "        {\n",
    "            \"name\":example_model_name,\n",
    "            \"version\":example_model_version,\n",
    "            \"sha\":example_model_sha\n",
    "        }\n",
    "    ],\n",
    "    \"pipeline_id\": model_pipeline_id\n",
    "}\n",
    "\n",
    "\n",
    "response = requests.post(api_request, json=data, headers=headers, verify=True).json()\n",
    "display(response)\n",
    "model_deployment_id=response['id']\n"
   ]
  },
  {
   "cell_type": "markdown",
   "id": "9d5b90ba-0da4-451b-b7d1-7274c3bc4fa2",
   "metadata": {},
   "source": [
    "### Get Deployment Status\n",
    "\n",
    "Returns the deployment status.\n",
    "\n",
    "* **Parameters**\n",
    "  * **name** - (REQUIRED string): The deployment in the format {deployment_name}-{deploymnent-id}.\n",
    "  \n",
    "Example: The deployed empty and model pipelines status will be displayed."
   ]
  },
  {
   "cell_type": "code",
   "execution_count": 45,
   "id": "1b2d6289-4a0f-4fa2-b7ed-0354100d13ed",
   "metadata": {},
   "outputs": [
    {
     "data": {
      "text/plain": [
       "{'status': 'Starting',\n",
       " 'details': [],\n",
       " 'engines': [],\n",
       " 'engine_lbs': [],\n",
       " 'sidekicks': []}"
      ]
     },
     "execution_count": 45,
     "metadata": {},
     "output_type": "execute_result"
    }
   ],
   "source": [
    "# Get model pipeline deployment\n",
    "\n",
    "api_request = f\"{APIURL}/v1/api/status/get_deployment\"\n",
    "\n",
    "data = {\n",
    "  \"name\": f\"{model_deploy_id}-{model_deployment_id}\"\n",
    "}\n",
    "\n",
    "response = requests.post(api_request, json=data, headers=headers, verify=True).json()\n",
    "response"
   ]
  },
  {
   "attachments": {},
   "cell_type": "markdown",
   "id": "eefdaa60",
   "metadata": {},
   "source": [
    "### Get External Inference URL\n",
    "\n",
    "The API command `/admin/get_pipeline_external_url` retrieves the external inference URL for a specific pipeline in a workspace.\n",
    "\n",
    "* **Parameters**\n",
    "  * **workspace_id** (*REQUIRED integer*):  The workspace integer id.\n",
    "  * **pipeline_name** (*REQUIRED string*): The name of the deployment.\n",
    "\n",
    "In this example, a list of the workspaces will be retrieved.  Based on the setup from the Internal Pipeline Deployment URL Tutorial, the workspace matching `urlworkspace` will have it's **workspace id** stored and used for the `/admin/get_pipeline_external_url` request with the pipeline `urlpipeline`.\n",
    "\n",
    "The External Inference URL will be stored as a variable for the next step."
   ]
  },
  {
   "cell_type": "code",
   "execution_count": 46,
   "id": "d969a878",
   "metadata": {},
   "outputs": [
    {
     "name": "stdout",
     "output_type": "stream",
     "text": [
      "{'url': 'https://docreleasetest.api.wallaroocommunity.ninja/v1/api/pipelines/infer/pipelinewithmodel-7/pipelinewithmodel'}\n"
     ]
    },
    {
     "data": {
      "text/plain": [
       "'https://docreleasetest.api.wallaroocommunity.ninja/v1/api/pipelines/infer/pipelinewithmodel-7/pipelinewithmodel'"
      ]
     },
     "execution_count": 46,
     "metadata": {},
     "output_type": "execute_result"
    }
   ],
   "source": [
    "## Retrieve the pipeline's External Inference URL\n",
    "\n",
    "# Retrieve the token \n",
    "headers = wl.auth.auth_header()\n",
    "\n",
    "api_request = f\"{APIURL}/v1/api/admin/get_pipeline_external_url\"\n",
    "\n",
    "data = {\n",
    "    \"workspace_id\": example_workspace_id,\n",
    "    \"pipeline_name\": model_pipeline_name\n",
    "}\n",
    "\n",
    "response = requests.post(api_request, json=data, headers=headers, verify=True).json()\n",
    "print(response)\n",
    "externalUrl = response['url']\n",
    "externalUrl"
   ]
  },
  {
   "attachments": {},
   "cell_type": "markdown",
   "id": "54d07891",
   "metadata": {},
   "source": [
    "### Perform Inference Through External URL\n",
    "\n",
    "The inference can now be performed through the External Inference URL.  This URL will accept the same inference data file that is used with the Wallaroo SDK, or with an Internal Inference URL as used in the Internal Pipeline Inference URL Tutorial.\n",
    "\n",
    "Deployed pipelines have their own Inference URL that accepts HTTP POST submissions.\n",
    "\n",
    "For connections that are external to the Kubernetes cluster hosting the Wallaroo instance, [model endpoints must be enabled](https://docs.wallaroo.ai/wallaroo-operations-guide/wallaroo-configuration/wallaroo-model-endpoints-guide/).\n",
    "\n",
    "## HTTP Headers\n",
    "\n",
    "The following headers are required for connecting the the Pipeline Deployment URL:\n",
    "\n",
    "* **Authorization**: This requires the JWT token in the format `'Bearer ' + token`.  For example:\n",
    "\n",
    "    ```bash\n",
    "    Authorization: Bearer abcdefg==\n",
    "    ```\n",
    "\n",
    "* **Content-Type**:\n",
    "* For DataFrame formatted JSON:\n",
    "\n",
    "    ```bash\n",
    "    Content-Type:application/json; format=pandas-records\n",
    "    ```\n",
    "\n",
    "* For Arrow binary files, the `Content-Type` is `application/vnd.apache.arrow.file`.\n",
    "\n",
    "    ```bash\n",
    "    Content-Type:application/vnd.apache.arrow.file\n",
    "    ```\n",
    "\n",
    "* **IMPORTANT NOTE**:  Verify that the pipeline deployed has status `Running` before attempting an inference."
   ]
  },
  {
   "cell_type": "code",
   "execution_count": 49,
   "id": "f29d8494",
   "metadata": {},
   "outputs": [
    {
     "name": "stdout",
     "output_type": "stream",
     "text": [
      "[[{\"tensor\": [-1.0603297501, 2.3544967095, -3.5638788326, 5.1387348926, -1.2308457019, -0.7687824608, -3.5881228109, 1.8880837663, -3.2789674274, -3.9563254554, 4.0993439118, -5.6539176395, -0.8775733373, -9.131571192, -0.6093537873, -3.7480276773, -5.0309125017, -0.8748149526, 1.9870535692, 0.70054\n"
     ]
    }
   ],
   "source": [
    "# Retrieve the token \n",
    "headers = wl.auth.auth_header()\n",
    "headers['contentType']=\"application/json; format=pandas-records\"\n",
    "\n",
    "\n",
    "dataFile = './data/cc_data_1k.df.json'\n",
    "data = json.load(open('./data/cc_data_1k.df.json','rb'))\n",
    "\n",
    "# submit the request via POST\n",
    "response = requests.post(externalUrl, json=data, headers=headers)\n",
    "\n",
    "# Only the first 300 characters will be displayed for brevity\n",
    "printResponse = json.dumps(response.json())\n",
    "print(printResponse[0:300])\n"
   ]
  },
  {
   "cell_type": "markdown",
   "id": "990e2be0-8f8c-4cd4-a27a-4780a44af678",
   "metadata": {},
   "source": [
    "### Undeploy a Pipeline\n",
    "\n",
    "Undeploys a deployed pipeline.\n",
    "\n",
    "* **Parameters**\n",
    "  * **pipeline_id** - (*REQUIRED int*): The numerical id of the pipeline.\n",
    "  * **deployment_id** - (*REQUIRED int*): The numerical id of the deployment.\n",
    "* **Returns**\n",
    "  * Nothing if the call is successful.\n",
    "\n",
    "Example:  Both the empty pipeline and pipeline with models deployed in the step Deploy a Pipeline will be undeployed."
   ]
  },
  {
   "cell_type": "code",
   "execution_count": 50,
   "id": "f059c83f-8101-4411-ac0d-feaf7823fd93",
   "metadata": {},
   "outputs": [],
   "source": [
    "# Undeploy pipeline with models\n",
    "# Retrieve the token \n",
    "headers = wl.auth.auth_header()\n",
    "api_request = f\"{APIURL}/v1/api/pipelines/undeploy\"\n",
    "\n",
    "data = {\n",
    "    \"pipeline_id\": model_pipeline_id,\n",
    "    \"deployment_id\":model_deployment_id\n",
    "}\n",
    "\n",
    "response = requests.post(api_request, json=data, headers=headers, verify=True).json()\n",
    "response"
   ]
  },
  {
   "cell_type": "markdown",
   "id": "b90b5718-204a-44b1-a4ba-6ff28e3d93ce",
   "metadata": {},
   "source": [
    "### Copy a Pipeline\n",
    "\n",
    "Copies an existing pipeline into a new one in the same workspace.  A new engine configuration can be set for the copied pipeline.\n",
    "\n",
    "* **Parameters**\n",
    "  * **name** - (REQUIRED string): The name of the new pipeline.\n",
    "  * **workspace_id** - (REQUIRED int): The numerical id of the workspace to copy the source pipeline from.\n",
    "  * **source_pipeline** - (REQUIRED int): The numerical id of the pipeline to copy from.\n",
    "  * **deploy** - (OPTIONAL string): Name of the deployment.\n",
    "  * **engine_config** - (OPTIONAL string): Engine configuration options.\n",
    "  * **pipeline_version** - (OPTIONAL string): Optional version of the copied pipeline to create.\n",
    "\n",
    "Example:  The pipeline with models created in the step Create Pipeline in a Workspace will be copied into a new one.\n"
   ]
  },
  {
   "cell_type": "code",
   "execution_count": 51,
   "id": "23ce3f2a-a214-4d17-a131-1f9d4e4609ad",
   "metadata": {},
   "outputs": [
    {
     "data": {
      "text/plain": [
       "{'pipeline_pk_id': 12,\n",
       " 'pipeline_variant_pk_id': 12,\n",
       " 'pipeline_version': None,\n",
       " 'deployment': None}"
      ]
     },
     "execution_count": 51,
     "metadata": {},
     "output_type": "execute_result"
    }
   ],
   "source": [
    "## Copy a pipeline\n",
    "\n",
    "# Retrieve the token \n",
    "headers = wl.auth.auth_header()\n",
    "\n",
    "api_request = f\"{APIURL}/v1/api/pipelines/copy\"\n",
    "\n",
    "\n",
    "\n",
    "data = {\n",
    "  \"name\": example_copied_pipeline_name,\n",
    "  \"workspace_id\": example_workspace_id,\n",
    "  \"source_pipeline\": model_pipeline_id\n",
    "}\n",
    "\n",
    "response = requests.post(api_request, json=data, headers=headers, verify=True).json()\n",
    "response"
   ]
  },
  {
   "cell_type": "markdown",
   "id": "1b0178bc-491b-4309-9f4d-5e1b80314a0e",
   "metadata": {},
   "source": [
    "## List Enablement Features\n",
    "\n",
    "Lists the enablement features for the Wallaroo instance.\n",
    "\n",
    "* **PARAMETERS**\n",
    "  * null:  An empty set `{}`\n",
    "* **RETURNS**\n",
    "  * **features** - (*string*): Enabled features.\n",
    "  * **name** - (*string*): Name of the Wallaroo instance.\n",
    "  * **is_auth_enabled** - (*bool*): Whether authentication is enabled."
   ]
  },
  {
   "cell_type": "code",
   "execution_count": 52,
   "id": "8983b258-32db-4f48-bc4e-9a883abeddd4",
   "metadata": {},
   "outputs": [
    {
     "data": {
      "text/plain": [
       "{'features': {'plateau': 'true'},\n",
       " 'name': 'Wallaroo Dev',\n",
       " 'is_auth_enabled': True}"
      ]
     },
     "execution_count": 52,
     "metadata": {},
     "output_type": "execute_result"
    }
   ],
   "source": [
    "# List enablement features\n",
    "# Retrieve the token \n",
    "headers = wl.auth.auth_header()\n",
    "api_request = f\"{APIURL}/v1/api/features/list\"\n",
    "\n",
    "data = {\n",
    "}\n",
    "\n",
    "response = requests.post(api_request, json=data, headers=headers, verify=True).json()\n",
    "response"
   ]
  },
  {
   "attachments": {},
   "cell_type": "markdown",
   "id": "e87bb348-b2b2-4083-9c8b-a8ca10bf34e3",
   "metadata": {},
   "source": [
    "## Assays\n",
    "\n",
    "**IMPORTANT NOTE**: These assays were run in a Wallaroo environment with canned historical data.  See the [Wallaroo Assay Tutorial](https://github.com/WallarooLabs/Wallaroo_Tutorials/tree/main/model_insights) for details on setting up this environment.  This historical data is **required** for these examples."
   ]
  },
  {
   "attachments": {},
   "cell_type": "markdown",
   "id": "dd0a1eae-1b07-4ce0-9044-581c806f9d67",
   "metadata": {},
   "source": [
    "### Create Assay\n",
    "\n",
    "Create a new array in a specified pipeline.\n",
    "\n",
    "* **PARAMETERS**\n",
    "  * **id** - (*OPTIONAL int*):  The numerical identifier for the assay.\n",
    "  * **name** - (*REQUIRED string*): The name of the assay.\n",
    "  * **pipeline_id** - (*REQUIRED int*): The numerical idenfifier the assay will be placed into.\n",
    "  * **pipeline_name** - (*REQUIRED string*): The name of the pipeline\n",
    "  * **active** - (*REQUIRED bool*): Indicates whether the assay will be active upon creation or not.\n",
    "  * **status** - (*REQUIRED string*): The status of the assay upon creation.\n",
    "  * **iopath** - (*REQUIRED string*): The iopath of the assay.\n",
    "  * **baseline** - (*REQUIRED baseline*): The baseline for the assay.\n",
    "    * **Fixed** - (*REQUIRED AssayFixConfiguration*): The fixed configuration for the assay.\n",
    "      * **pipeline** - (*REQUIRED string*): The name of the pipeline with the baseline data.\n",
    "      * **model** - (*REQUIRED string*): The name of the model used.\n",
    "      * **start_at** - (*REQUIRED string*): The DateTime of the baseline start date.\n",
    "      * **end_at** - (*REQUIRED string*): The DateTime of the baseline end date.\n",
    "  * **window** (*REQUIRED AssayWindow*): Assay window.\n",
    "    * **pipeline** - (*REQUIRED string*): The name of the pipeline for the assay window.\n",
    "    * **model** - (*REQUIRED string*): The name of the model used for the assay window.\n",
    "    * **width** - (*REQUIRED string*): The width of the assay window.\n",
    "    * **start** - (*OPTIONAL string*): The DateTime of when to start the assay window.\n",
    "    * **interval** - (*OPTIONAL string*): The assay window interval.\n",
    "  * **summarizer** - (*REQUIRED AssaySummerizer*): The summarizer type for the array aka \"advanced settings\" in the Wallaroo Dashboard UI.\n",
    "    * **type** - (*REQUIRED string*): Type of summarizer.\n",
    "    * **bin_mode** - (*REQUIRED string*): The binning model type.  Values can be:\n",
    "      * Quantile\n",
    "      * Equal\n",
    "    * **aggregation** - (*REQUIRED string*): Aggregation type.\n",
    "    * **metric** - (*REQUIRED string*): Metric type.  Values can be:\n",
    "      * PSI\n",
    "      * Maximum Difference of Bins\n",
    "      * Sum of the Difference of Bins\n",
    "    * **num_bins** - (*REQUIRED int*): The number of bins.  Recommanded values are between 5 and 14.\n",
    "    * **bin_weights** - (*OPTIONAL AssayBinWeight*): The weights assigned to the assay bins.\n",
    "    * **bin_width** - (*OPTIONAL AssayBinWidth*): The width assigned to the assay bins.\n",
    "    * **provided_edges** - (*OPTIONAL AssayProvidedEdges*): The edges used for the assay bins.\n",
    "    * **add_outlier_edges** - (*REQUIRED bool*): Indicates whether to add outlier edges or not.\n",
    "  * **warning_threshold** - (*OPTIONAL number*): Optional warning threshold.\n",
    "  * **alert_threshold** - (*REQUIRED number*): Alert threshold.\n",
    "  * **run_until** - (*OPTIONAL string*): DateTime of when to end the assay.\n",
    "  * **workspace_id** - (*REQUIRED integer*): The workspace the assay is part of.\n",
    "  * **model_insights_url** - (*OPTIONAL string*): URL for model insights.\n",
    "* **RETURNS**\n",
    "  * **assay_id** - (*integer*): The id of the new assay.\n",
    "\n",
    "As noted this example requires the [Wallaroo Assay Tutorial](https://github.com/WallarooLabs/Wallaroo_Tutorials/tree/main/model_insights) for historical data.  Before running this example, set the sample pipeline id, pipeline, name, model name, and workspace id in the code sample below.  For more information on retrieving this information, see the [Wallaroo Developer Guides](https://docs.wallaroo.ai/wallaroo-developer-guides/)."
   ]
  },
  {
   "cell_type": "code",
   "execution_count": null,
   "id": "6310b708-7689-4c4e-8cab-10d5bc2bb435",
   "metadata": {},
   "outputs": [],
   "source": [
    "## Create assay\n",
    "\n",
    "# Retrieve the token \n",
    "headers = wl.auth.auth_header()\n",
    "\n",
    "api_request = f\"{APIURL}/v1/api/assays/create\"\n",
    "\n",
    "exampleAssayName = f\"{prefix}api_assay\"\n",
    "\n",
    "## Now get all of the assays for the pipeline in workspace 4 `housepricedrift`\n",
    "\n",
    "exampleAssayPipelineId = 4\n",
    "exampleAssayPipelineName = \"housepricepipe\"\n",
    "exampleAssayModelName = \"housepricemodel\"\n",
    "exampleAssayWorkspaceId = 4\n",
    "\n",
    "# iopath can be input 00 or output 0 0\n",
    "data = {\n",
    "    'name': exampleAssayName,\n",
    "    'pipeline_id': exampleAssayPipelineId,\n",
    "    'pipeline_name': exampleAssayPipelineName,\n",
    "    'active': True,\n",
    "    'status': 'active',\n",
    "    'iopath': \"input 0 0\",\n",
    "    'baseline': {\n",
    "        'Fixed': {\n",
    "            'pipeline': exampleAssayPipelineName,\n",
    "            'model': 'houseprice-model-yns',\n",
    "            'start_at': '2022-01-01T00:00:00-05:00',\n",
    "            'end_at': '2022-01-02T00:00:00-05:00'\n",
    "        }\n",
    "    },\n",
    "    'window': {\n",
    "        'pipeline': exampleAssayPipelineName,\n",
    "        'model': exampleAssayModelName,\n",
    "        'width': '24 hours',\n",
    "        'start': None,\n",
    "        'interval': None\n",
    "    },\n",
    "    'summarizer': {\n",
    "        'type': 'UnivariateContinuous',\n",
    "        'bin_mode': 'Quantile',\n",
    "        'aggregation': 'Density',\n",
    "        'metric': 'PSI',\n",
    "        'num_bins': 5,\n",
    "        'bin_weights': None,\n",
    "        'bin_width': None,\n",
    "        'provided_edges': None,\n",
    "        'add_outlier_edges': True\n",
    "    },\n",
    "    'warning_threshold': 0,\n",
    "    'alert_threshold': 0.1,\n",
    "    'run_until': None,\n",
    "    'workspace_id': exampleAssayWorkspaceId\n",
    "}\n",
    "\n",
    "response = requests.post(api_request, json=data, headers=headers, verify=True).json()\n",
    "example_assay_id = response['assay_id']\n",
    "response"
   ]
  },
  {
   "cell_type": "markdown",
   "id": "75f174e8-6319-402e-8273-45bbf9b7553d",
   "metadata": {},
   "source": [
    "### List Assays\n",
    "\n",
    "Lists all assays in the specified pipeline.\n",
    "\n",
    "* **PARAMETERS**\n",
    "  * **pipeline_id** - (*REQUIRED int*):  The numerical ID of the pipeline.\n",
    "* **RETURNS**\n",
    "  * **assays** - (*Array assays*): A list of all assays.\n",
    "\n",
    "Example:  Display a list of all assays in a workspace.  This will assume we have a workspace with an existing Assay and the associated data has been upload.  See the tutorial [Wallaroo Assays Tutorial](https://github.com/WallarooLabs/Wallaroo_Tutorials/tree/main/model_insights).\n",
    "\n",
    "For this reason, these values are hard coded for now."
   ]
  },
  {
   "cell_type": "code",
   "execution_count": null,
   "id": "2de679fb-84ad-40d1-80ff-fff78f45031f",
   "metadata": {},
   "outputs": [],
   "source": [
    "## First list all of the workspaces and the list of pipelines\n",
    "\n",
    "# List workspaces\n",
    "# Retrieve the token \n",
    "headers = wl.auth.auth_header()\n",
    "\n",
    "api_request = f\"{APIURL}/v1/api/workspaces/list\"\n",
    "\n",
    "data = {\n",
    "}\n",
    "\n",
    "response = requests.post(api_request, json=data, headers=headers, verify=True).json()\n",
    "response"
   ]
  },
  {
   "cell_type": "code",
   "execution_count": null,
   "id": "8ae8d44a-e773-4f29-8530-a24dd7c3c2d0",
   "metadata": {},
   "outputs": [],
   "source": [
    "# Get assays\n",
    "# Retrieve the token \n",
    "headers = wl.auth.auth_header()\n",
    "\n",
    "api_request = f\"{APIURL}/v1/api/assays/list\"\n",
    "\n",
    "data = {\n",
    "    \"pipeline_id\": exampleAssayPipelineId\n",
    "}\n",
    "\n",
    "response = requests.post(api_request, json=data, headers=headers, verify=True).json()\n",
    "response"
   ]
  },
  {
   "cell_type": "markdown",
   "id": "54853332-fc35-410b-a127-8715da9b06db",
   "metadata": {},
   "source": [
    "## Activate or Deactivate Assay\n",
    "\n",
    "Activates or deactivates an existing assay.\n",
    "\n",
    "* **Parameters**\n",
    "  * **id** - (*REQUIRED int*): The numerical id of the assay.\n",
    "  * **active** - (*REQUIRED bool*): True to activate the assay, False to deactivate it.\n",
    "* **Returns**\n",
    "  * * **id** - (*integer*): The numerical id of the assay.\n",
    "  * **active** - (*bool*): True to activate the assay, False to deactivate it.\n",
    "\n",
    "Example:  Assay 8 \"House Output Assay\" will be deactivated then activated."
   ]
  },
  {
   "cell_type": "code",
   "execution_count": null,
   "id": "d2e1b1e5-8078-4365-9708-45793642bd1a",
   "metadata": {},
   "outputs": [],
   "source": [
    "# Deactivate assay\n",
    "\n",
    "# Retrieve the token \n",
    "headers = wl.auth.auth_header()\n",
    "\n",
    "api_request = f\"{APIURL}/v1/api/assays/set_active\"\n",
    "\n",
    "data = {\n",
    "    'id': example_assay_id,\n",
    "    'active': False\n",
    "}\n",
    "\n",
    "response = requests.post(api_request, json=data, headers=headers, verify=True).json()\n",
    "response"
   ]
  },
  {
   "cell_type": "code",
   "execution_count": null,
   "id": "3f9a4069-4418-41e6-b3a3-b0223f997d31",
   "metadata": {},
   "outputs": [],
   "source": [
    "# Activate assay\n",
    "\n",
    "# Retrieve the token \n",
    "headers = wl.auth.auth_header()\n",
    "\n",
    "api_request = f\"{APIURL}/v1/api/assays/set_active\"\n",
    "\n",
    "data = {\n",
    "    'id': example_assay_id,\n",
    "    'active': True\n",
    "}\n",
    "\n",
    "response = requests.post(api_request, json=data, headers=headers, verify=True).json()\n",
    "response"
   ]
  },
  {
   "cell_type": "markdown",
   "id": "a7a17339-017e-40df-a0ec-b1217c58d4d3",
   "metadata": {},
   "source": [
    "### Create Interactive Baseline\n",
    "\n",
    "Creates an interactive assay baseline.\n",
    "\n",
    "* **PARAMETERS**\n",
    "  * **id** - (*REQUIRED int*):  The numerical identifier for the assay.\n",
    "  * **name** - (*REQUIRED string*): The name of the assay.\n",
    "  * **pipeline_id** - (*REQUIRED int*): The numerical idenfifier the assay will be placed into.\n",
    "  * **pipeline_name** - (*REQUIRED string*): The name of the pipeline\n",
    "  * **active** - (*REQUIRED bool*): Indicates whether the assay will be active upon creation or not.\n",
    "  * **status** - (*REQUIRED string*): The status of the assay upon creation.\n",
    "  * **iopath** - (*REQUIRED string*): The iopath of the assay.\n",
    "  * **baseline** - (*REQUIRED baseline*): The baseline for the assay.\n",
    "    * **Fixed** - (*REQUIRED AssayFixConfiguration*): The fixed configuration for the assay.\n",
    "      * **pipeline** - (*REQUIRED string*): The name of the pipeline with the baseline data.\n",
    "      * **model** - (*REQUIRED string*): The name of the model used.\n",
    "      * **start_at** - (*REQUIRED string*): The DateTime of the baseline start date.\n",
    "      * **end_at** - (*REQUIRED string*): The DateTime of the baseline end date.\n",
    "  * **window** (*REQUIRED AssayWindow*): Assay window.\n",
    "    * **pipeline** - (*REQUIRED string*): The name of the pipeline for the assay window.\n",
    "    * **model** - (*REQUIRED string*): The name of the model used for the assay window.\n",
    "    * **width** - (*REQUIRED string*): The width of the assay window.\n",
    "    * **start** - (*OPTIONAL string*): The DateTime of when to start the assay window.\n",
    "    * **interval** - (*OPTIONAL string*): The assay window interval.\n",
    "  * **summarizer** - (*REQUIRED AssaySummerizer*): The summarizer type for the array aka \"advanced settings\" in the Wallaroo Dashboard UI.\n",
    "    * **type** - (*REQUIRED string*): Type of summarizer.\n",
    "    * **bin_mode** - (*REQUIRED string*): The binning model type.  Values can be:\n",
    "      * Quantile\n",
    "      * Equal\n",
    "    * **aggregation** - (*REQUIRED string*): Aggregation type.\n",
    "    * **metric** - (*REQUIRED string*): Metric type.  Values can be:\n",
    "      * PSI\n",
    "      * Maximum Difference of Bins\n",
    "      * Sum of the Difference of Bins\n",
    "    * **num_bins** - (*REQUIRED int*): The number of bins.  Recommanded values are between 5 and 14.\n",
    "    * **bin_weights** - (*OPTIONAL AssayBinWeight*): The weights assigned to the assay bins.\n",
    "    * **bin_width** - (*OPTIONAL AssayBinWidth*): The width assigned to the assay bins.\n",
    "    * **provided_edges** - (*OPTIONAL AssayProvidedEdges*): The edges used for the assay bins.\n",
    "    * **add_outlier_edges** - (*REQUIRED bool*): Indicates whether to add outlier edges or not.\n",
    "  * **warning_threshold** - (*OPTIONAL number*): Optional warning threshold.\n",
    "  * **alert_threshold** - (*REQUIRED number*): Alert threshold.\n",
    "  * **run_until** - (*OPTIONAL string*): DateTime of when to end the assay.\n",
    "  * **workspace_id** - (*REQUIRED integer*): The workspace the assay is part of.\n",
    "  * **model_insights_url** - (*OPTIONAL string*): URL for model insights.\n",
    "* **RETURNS**\n",
    "  * {} when successful.\n",
    "\n",
    "Example:  An interactive assay baseline will be set for the assay \"Test Assay\" on Pipeline 4."
   ]
  },
  {
   "cell_type": "code",
   "execution_count": null,
   "id": "e693fb43-2396-40fc-bc57-dbca5e1e97ae",
   "metadata": {},
   "outputs": [],
   "source": [
    "## Run interactive baseline\n",
    "\n",
    "# Retrieve the token \n",
    "headers = wl.auth.auth_header()\n",
    "\n",
    "api_request = f\"{APIURL}/v1/api/assays/run_interactive_baseline\"\n",
    "\n",
    "exampleAssayPipelineId = 4\n",
    "exampleAssayPipelineName = \"housepricepipe\"\n",
    "exampleAssayModelName = \"housepricemodel\"\n",
    "exampleAssayWorkspaceId = 4\n",
    "exampleAssayId = 3\n",
    "exampleAssayName = \"example assay\"\n",
    "\n",
    "data = {\n",
    "    'id': exampleAssayId,\n",
    "    'name': exampleAssayName,\n",
    "    'pipeline_id': exampleAssayPipelineId,\n",
    "    'pipeline_name': exampleAssayPipelineName,\n",
    "    'active': True,\n",
    "    'status': 'active',\n",
    "    'iopath': \"input 0 0\",\n",
    "    'baseline': {\n",
    "        'Fixed': {\n",
    "            'pipeline': exampleAssayPipelineName,\n",
    "            'model': exampleAssayModelName,\n",
    "            'start_at': '2022-01-01T00:00:00-05:00',\n",
    "            'end_at': '2022-01-02T00:00:00-05:00'\n",
    "        }\n",
    "    },\n",
    "    'window': {\n",
    "        'pipeline': exampleAssayPipelineName,\n",
    "        'model': exampleAssayModelName,\n",
    "        'width': '24 hours',\n",
    "        'start': None,\n",
    "        'interval': None\n",
    "    },\n",
    "    'summarizer': {\n",
    "        'type': 'UnivariateContinuous',\n",
    "        'bin_mode': 'Quantile',\n",
    "        'aggregation': 'Density',\n",
    "        'metric': 'PSI',\n",
    "        'num_bins': 5,\n",
    "        'bin_weights': None,\n",
    "        'bin_width': None,\n",
    "        'provided_edges': None,\n",
    "        'add_outlier_edges': True\n",
    "    },\n",
    "    'warning_threshold': 0,\n",
    "    'alert_threshold': 0.1,\n",
    "    'run_until': None,\n",
    "    'workspace_id': exampleAssayWorkspaceId\n",
    "}\n",
    "\n",
    "response = requests.post(api_request, json=data, headers=headers, verify=True).json()\n",
    "response"
   ]
  },
  {
   "cell_type": "markdown",
   "id": "15eb29db-6ea7-4442-a11a-946bd561de32",
   "metadata": {},
   "source": [
    "### Get Assay Baseline\n",
    "\n",
    "Retrieve an assay baseline.\n",
    "\n",
    "* **Parameters**\n",
    "  * **workspace_id** - (*REQUIRED integer*): Numerical id for the workspace the assay is in.\n",
    "  * **pipeline_name** - (*REQUIRED string*): Name of the pipeline the assay is in.\n",
    "  * **start** - (*OPTIONAL string*): DateTime for when the baseline starts.\n",
    "  * **end** - (*OPTIONAL string*): DateTime for when the baseline ends.\n",
    "  * **model_name** - (*OPTIONAL string*): Name of the model.\n",
    "  * **limit** - (*OPTIONAL integer*): Maximum number of baselines to return.\n",
    "* **Returns**\n",
    "  * Assay Baseline\n",
    "  \n",
    "Example:  3 assay baselines for Workspace 6 and pipeline `houseprice-pipe-yns` will be retrieved."
   ]
  },
  {
   "cell_type": "code",
   "execution_count": null,
   "id": "f52bd3e4-e6ab-4a49-b0e9-cd645bbbe605",
   "metadata": {},
   "outputs": [],
   "source": [
    "## Get Assay Baseline\n",
    "\n",
    "# Retrieve the token \n",
    "headers = wl.auth.auth_header()\n",
    "\n",
    "api_request = f\"{APIURL}/v1/api/assays/get_baseline\"\n",
    "\n",
    "data = {\n",
    "    'workspace_id': exampleAssayWorkspaceId,\n",
    "    'pipeline_name': exampleAssayPipelineName,\n",
    "    'limit': 3\n",
    "}\n",
    "\n",
    "response = requests.post(api_request, json=data, headers=headers, verify=True).json()\n",
    "response"
   ]
  },
  {
   "cell_type": "markdown",
   "id": "68e6117f-94ba-4e4a-89ba-ffa8519d6709",
   "metadata": {},
   "source": [
    "### Run Assay Interactively\n",
    "\n",
    "Runs an assay.\n",
    "\n",
    "* **Parameters**\n",
    "  * **id** - (*REQUIRED int*):  The numerical identifier for the assay.\n",
    "  * **name** - (*REQUIRED string*): The name of the assay.\n",
    "  * **pipeline_id** - (*REQUIRED int*): The numerical idenfifier the assay will be placed into.\n",
    "  * **pipeline_name** - (*REQUIRED string*): The name of the pipeline\n",
    "  * **active** - (*REQUIRED bool*): Indicates whether the assay will be active upon creation or not.\n",
    "  * **status** - (*REQUIRED string*): The status of the assay upon creation.\n",
    "  * **iopath** - (*REQUIRED string*): The iopath of the assay.\n",
    "  * **baseline** - (*REQUIRED baseline*): The baseline for the assay.\n",
    "    * **Fixed** - (*REQUIRED AssayFixConfiguration*): The fixed configuration for the assay.\n",
    "      * **pipeline** - (*REQUIRED string*): The name of the pipeline with the baseline data.\n",
    "      * **model** - (*REQUIRED string*): The name of the model used.\n",
    "      * **start_at** - (*REQUIRED string*): The DateTime of the baseline start date.\n",
    "      * **end_at** - (*REQUIRED string*): The DateTime of the baseline end date.\n",
    "  * **window** (*REQUIRED AssayWindow*): Assay window.\n",
    "    * **pipeline** - (*REQUIRED string*): The name of the pipeline for the assay window.\n",
    "    * **model** - (*REQUIRED string*): The name of the model used for the assay window.\n",
    "    * **width** - (*REQUIRED string*): The width of the assay window.\n",
    "    * **start** - (*OPTIONAL string*): The DateTime of when to start the assay window.\n",
    "    * **interval** - (*OPTIONAL string*): The assay window interval.\n",
    "  * **summarizer** - (*REQUIRED AssaySummerizer*): The summarizer type for the array aka \"advanced settings\" in the Wallaroo Dashboard UI.\n",
    "    * **type** - (*REQUIRED string*): Type of summarizer.\n",
    "    * **bin_mode** - (*REQUIRED string*): The binning model type.  Values can be:\n",
    "      * Quantile\n",
    "      * Equal\n",
    "    * **aggregation** - (*REQUIRED string*): Aggregation type.\n",
    "    * **metric** - (*REQUIRED string*): Metric type.  Values can be:\n",
    "      * PSI\n",
    "      * Maximum Difference of Bins\n",
    "      * Sum of the Difference of Bins\n",
    "    * **num_bins** - (*REQUIRED int*): The number of bins.  Recommanded values are between 5 and 14.\n",
    "    * **bin_weights** - (*OPTIONAL AssayBinWeight*): The weights assigned to the assay bins.\n",
    "    * **bin_width** - (*OPTIONAL AssayBinWidth*): The width assigned to the assay bins.\n",
    "    * **provided_edges** - (*OPTIONAL AssayProvidedEdges*): The edges used for the assay bins.\n",
    "    * **add_outlier_edges** - (*REQUIRED bool*): Indicates whether to add outlier edges or not.\n",
    "  * **warning_threshold** - (*OPTIONAL number*): Optional warning threshold.\n",
    "  * **alert_threshold** - (*REQUIRED number*): Alert threshold.\n",
    "  * **run_until** - (*OPTIONAL string*): DateTime of when to end the assay.\n",
    "  * **workspace_id** - (*REQUIRED integer*): The workspace the assay is part of.\n",
    "  * **model_insights_url** - (*OPTIONAL string*): URL for model insights.\n",
    "* **Returns**\n",
    "  * Assay\n",
    "  \n",
    "Example:  An interactive assay will be run for Assay exampleAssayId exampleAssayName.  Depending on the number of assay results and the data window, this may take some time.  This returns *all* of the results for this assay at this time.  The total number of responses will be displayed after."
   ]
  },
  {
   "cell_type": "code",
   "execution_count": null,
   "id": "61b02cc4-2f31-4cef-a0a1-e36f8ede50ca",
   "metadata": {},
   "outputs": [],
   "source": [
    "## Run interactive assay\n",
    "\n",
    "# Retrieve the token \n",
    "headers = wl.auth.auth_header()\n",
    "\n",
    "api_request = f\"{APIURL}/v1/api/assays/run_interactive\"\n",
    "\n",
    "data = {\n",
    "    'id': exampleAssayId,\n",
    "    'name': exampleAssayName,\n",
    "    'pipeline_id': exampleAssayPipelineId,\n",
    "    'pipeline_name': exampleAssayPipelineName,\n",
    "    'active': True,\n",
    "    'status': 'active',\n",
    "    'iopath': \"input 0 0\",\n",
    "    'baseline': {\n",
    "        'Fixed': {\n",
    "            'pipeline': exampleAssayPipelineName,\n",
    "            'model': exampleAssayModelName,\n",
    "            'start_at': '2022-01-01T00:00:00-05:00',\n",
    "            'end_at': '2022-01-02T00:00:00-05:00'\n",
    "        }\n",
    "    },\n",
    "    'window': {\n",
    "        'pipeline': exampleAssayPipelineName,\n",
    "        'model': exampleAssayModelName,\n",
    "        'width': '24 hours',\n",
    "        'start': None,\n",
    "        'interval': None\n",
    "    },\n",
    "    'summarizer': {\n",
    "        'type': 'UnivariateContinuous',\n",
    "        'bin_mode': 'Quantile',\n",
    "        'aggregation': 'Density',\n",
    "        'metric': 'PSI',\n",
    "        'num_bins': 5,\n",
    "        'bin_weights': None,\n",
    "        'bin_width': None,\n",
    "        'provided_edges': None,\n",
    "        'add_outlier_edges': True\n",
    "    },\n",
    "    'warning_threshold': 0,\n",
    "    'alert_threshold': 0.1,\n",
    "    'run_until': None,\n",
    "    'workspace_id': exampleAssayWorkspaceId\n",
    "}\n",
    "\n",
    "response = requests.post(api_request, json=data, headers=headers, verify=True).json()\n",
    "response[0]"
   ]
  },
  {
   "cell_type": "code",
   "execution_count": null,
   "id": "151cc344-f280-4364-bb69-fbb5327afd76",
   "metadata": {},
   "outputs": [],
   "source": [
    "print(len(response))"
   ]
  },
  {
   "cell_type": "markdown",
   "id": "fce5043c-002c-4b9e-9728-b5c00aff2458",
   "metadata": {},
   "source": [
    "### Get Assay Results\n",
    "\n",
    "Retrieve the results for an assay.\n",
    "\n",
    "* **Parameters**\n",
    "  * **assay_id** - (*REQUIRED integer*): Numerical id for the assay.\n",
    "  * **start** - (*OPTIONAL string*): DateTime for when the baseline starts.\n",
    "  * **end** - (*OPTIONAL string*): DateTime for when the baseline ends.\n",
    "  * **limit** - (*OPTIONAL integer*): Maximum number of results to return.\n",
    "  * **pipeline_id** - (*OPTIONAL integer*): Numerical id of the pipeline the assay is in.\n",
    "* **Returns**\n",
    "  * Assay Baseline\n",
    "  \n",
    "Example:  Results for Assay 3 \"example assay\" will be retrieved for January 2 to January 3.  For the sake of time, only the first record will be displayed."
   ]
  },
  {
   "cell_type": "code",
   "execution_count": null,
   "id": "c913a82a-81bd-4e6a-8101-453023d0cafa",
   "metadata": {},
   "outputs": [],
   "source": [
    "# Get Assay Results\n",
    "\n",
    "# Retrieve the token \n",
    "headers = wl.auth.auth_header()\n",
    "\n",
    "api_request = f\"{APIURL}/v1/api/assays/get_results\"\n",
    "\n",
    "data = {\n",
    "    'assay_id': exampleAssayId,\n",
    "    'pipeline_id': exampleAssayPipelineId\n",
    "}\n",
    "\n",
    "response = requests.post(api_request, json=data, headers=headers, verify=True).json()\n",
    "response"
   ]
  },
  {
   "attachments": {},
   "cell_type": "markdown",
   "id": "f4223c8a",
   "metadata": {},
   "source": [
    "## Data Connection Management\n",
    "\n",
    "Organizations can define data connections to provide pre-configured settings for connecting to ODBC databases, Kafka, or other data sources to transmit or receive data used.\n",
    "\n",
    "Connections are created at the Wallaroo instance level, and are attached to workspaces for workspace owners and collaborators to use."
   ]
  },
  {
   "attachments": {},
   "cell_type": "markdown",
   "id": "d918f69e",
   "metadata": {},
   "source": [
    "### Create Connections\n",
    "\n",
    "Request URL: `/v1/api/connections/create`\n",
    "\n",
    "Create a new Connection in the Wallaroo instance.\n",
    "\n",
    "* **Parameters**\n",
    "  * `name` (*Required* String): The name of the connection.\n",
    "  * `type` (*Required* String): The user defined connection type.\n",
    "  * `details` (dict): The user defined connection details, which typically include host name, port, username, password, etc.  When constructing the connection details, the developer must take the connection type in mind.\n",
    "* **Returns**\n",
    "  * `id` (String): The numerical identifier for the connection.\n",
    "\n",
    "In this example, a set of different connections will be created."
   ]
  },
  {
   "cell_type": "code",
   "execution_count": null,
   "id": "17d89bd5",
   "metadata": {},
   "outputs": [],
   "source": [
    "## Create Connection\n",
    "\n",
    "# @TODO:  Create a connection"
   ]
  },
  {
   "attachments": {},
   "cell_type": "markdown",
   "id": "87d4259d",
   "metadata": {},
   "source": [
    "### List Connections\n",
    "\n",
    "Request URL: `/v1/api/connections/list`\n",
    "\n",
    "List Connections provides a list of all defined functions in a Wallaroo instance.\n",
    "\n",
    "* **Parameters**\n",
    "  * None\n",
    "* **Returns**\n",
    "  * `connections` (List(connections)): The list of connections being returned with the following values.\n",
    "    * `id` (String): The numerical identifier for the connection.\n",
    "    * `name` (String): The name of the connection.\n",
    "    * `connection_type` (String): The type of connection as defined when created.\n",
    "    * `details` (dict): The connection details.  The details are defined during connection creation.\n",
    "    * `workspace_names` (List(String)): The names of the workspaces the connection attached to.\n",
    "\n",
    "In this example, a list of all connections from the Wallaroo instance will be displayed."
   ]
  },
  {
   "cell_type": "code",
   "execution_count": null,
   "id": "02707f02",
   "metadata": {},
   "outputs": [],
   "source": [
    "## List Connections\n",
    "\n",
    "# @TODO: Create a list of connections and display them."
   ]
  },
  {
   "attachments": {},
   "cell_type": "markdown",
   "id": "f2fa1543",
   "metadata": {},
   "source": [
    "### Get Connection Details\n",
    "\n",
    "Request URL: `/v1/api/connections/list`\n",
    "\n",
    "List Connections provides a list of all defined functions in a Wallaroo instance.\n",
    "\n",
    "* **Parameters**\n",
    "  * \"name\" (*Required* String): The name of the connection.\n",
    "* **Returns**\n",
    "  * `connections` (List(connections)): The list of connections being returned with the following values.\n",
    "    * `id` (String): The numerical identifier for the connection.\n",
    "    * `name` (String): The name of the connection.\n",
    "    * `connection_type` (String): The type of connection as defined when created.\n",
    "    * `details` (dict): The connection details.\n",
    "    * `workspace_names` (List(String)): The names of the workspaces the connection attached to.\n",
    "\n",
    "In this example, the details of a specific connection will be retrieved."
   ]
  },
  {
   "cell_type": "code",
   "execution_count": null,
   "id": "988982e3",
   "metadata": {},
   "outputs": [],
   "source": [
    "## Get Connection Details\n",
    "\n",
    "# @TODO: Retrieve the connection details from a previous creation."
   ]
  },
  {
   "attachments": {},
   "cell_type": "markdown",
   "id": "e383161e",
   "metadata": {},
   "source": [
    "### Add Connection to Workspace\n",
    "\n",
    "Request URL: `/v1/api/connections/add_to_workspace`\n",
    "\n",
    "Adds a connection to a workspace to make it available to workspace owners and collaborators.\n",
    "\n",
    "* **Parameters**\n",
    "  * `connection_id` (*Required String*): The numerical identifier of the connection.\n",
    "  * `workspace_id` (*Required String*): The numerical identifier of the workspace.\n",
    "* **Returns**\n",
    "  * `id` (String): Numerical ID of the created workspace connection.\n",
    "\n",
    "In this example a connection will be added to a workspace."
   ]
  },
  {
   "cell_type": "code",
   "execution_count": null,
   "id": "57f1272a",
   "metadata": {},
   "outputs": [],
   "source": [
    "## Add connection to workspace\n",
    "\n",
    "# @TODO: Add a connection to a sample workspace"
   ]
  },
  {
   "attachments": {},
   "cell_type": "markdown",
   "id": "d47bce01",
   "metadata": {},
   "source": [
    "### Remove Connection from Workspace\n",
    "\n",
    "Request URL: `/v1/api/connections/remove_from_workspace`\n",
    "\n",
    "Adds a connection to a workspace to make it available to workspace owners and collaborators.\n",
    "\n",
    "* **Parameters**\n",
    "  * `connection_id` (*Required String*): The numerical identifier of the connection.\n",
    "  * `workspace_id` (*Required String*): The numerical identifier of the workspace.\n",
    "* **Returns**\n",
    "  * `id` (String): Numerical ID of the created workspace connection.\n",
    "\n",
    "In this example a connection be removed from a workspace."
   ]
  },
  {
   "cell_type": "code",
   "execution_count": null,
   "id": "f55d50d9",
   "metadata": {},
   "outputs": [],
   "source": [
    "## Remove connection from a workspace\n",
    "\n",
    "# @TODO: Remove a connection from a workspace"
   ]
  },
  {
   "attachments": {},
   "cell_type": "markdown",
   "id": "7e6d848a",
   "metadata": {},
   "source": [
    "### Delete Connection\n",
    "\n",
    "Request URL: `/v1/api/connections/delete`\n",
    "\n",
    "Removes a connection from the Wallaroo instance.\n",
    "\n",
    "* **Parameters**\n",
    "  * \"connection_name\" (*Required* String): The name of the connection.\n",
    "* **Returns**\n",
    "  * None\n",
    "\n",
    "In this example, a previously created connection will be deleted from the Wallaroo instance."
   ]
  },
  {
   "cell_type": "code",
   "execution_count": null,
   "id": "8394153a",
   "metadata": {},
   "outputs": [],
   "source": [
    "## Delete Connection\n",
    "\n",
    "# @TODO: Delete the previous connection"
   ]
  }
 ],
 "metadata": {
  "kernelspec": {
   "display_name": "arrowtests",
   "language": "python",
   "name": "python3"
  },
  "language_info": {
   "codemirror_mode": {
    "name": "ipython",
    "version": 3
   },
   "file_extension": ".py",
   "mimetype": "text/x-python",
   "name": "python",
   "nbconvert_exporter": "python",
   "pygments_lexer": "ipython3",
   "version": "3.9.16"
  },
  "vscode": {
   "interpreter": {
    "hash": "7dda4bf3640b7fafcd1648658b879b4cc9f6ba6084e8fb356fdaaa1a461d1690"
   }
  }
 },
 "nbformat": 4,
 "nbformat_minor": 5
}
