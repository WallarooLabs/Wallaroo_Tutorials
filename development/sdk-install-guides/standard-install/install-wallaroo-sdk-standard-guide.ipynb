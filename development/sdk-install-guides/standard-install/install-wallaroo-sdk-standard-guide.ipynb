{
 "cells": [
  {
   "attachments": {},
   "cell_type": "markdown",
   "metadata": {},
   "source": [
    "This tutorial and the assets can be downloaded as part of the [Wallaroo Tutorials repository](https://github.com/WallarooLabs/Wallaroo_Tutorials/tree/main/development/sdk-install-guides/standard-install).\n",
    "\n",
    "## Installing the Wallaroo SDK\n",
    "\n",
    "Organizations that develop machine learning models can deploy models to Wallaroo from their local systems to a Wallaroo instance through the [Wallaroo SDK](https://docs.wallaroo.ai/wallaroo-developer-guides/wallaroo-sdk-guides/).  The following guide is created to assist users with installing the Wallaroo SDK and making a standard connection to a Wallaroo instance.\n",
    "\n",
    "These instructions are based on the on the [Connect to Wallaroo](https://docs.wallaroo.ai/wallaroo-developer-guides/wallaroo-sdk-guides/wallaroo-sdk-essentials-guide/) guides.\n",
    "\n",
    "This tutorial provides the following:\n",
    "\n",
    "* `aloha-cnn-lstm.zip`: A pre-trained open source model that uses an [Aloha CNN LSTM model](https://www.researchgate.net/publication/348920204_Using_Auxiliary_Inputs_in_Deep_Learning_Models_for_Detecting_DGA-based_Domain_Names) for classifying Domain names as being either legitimate or being used for nefarious purposes such as malware distribution.\n",
    "* Test Data Files:\n",
    "  * `data-1.json`: 1 record\n",
    "  * `data-1k.json`: 1,000 records\n",
    "  * `data-25k.json`: 25,000 records\n",
    "\n",
    "For this example, a virtual python environment will be used.  This will set the necessary libraries and specific Python version required.\n",
    "\n",
    "## Prerequisites\n",
    "\n",
    "The following is required for this tutorial:\n",
    "\n",
    "* A Wallaroo instance version 2022.4 or later.\n",
    "* Python 3.8.6 or later installed locally.\n",
    "* [Conda](https://docs.conda.io/en/latest/):  Used for managing python virtual environments.\n",
    "\n",
    "## General Steps\n",
    "\n",
    "For our example, we will perform the following:\n",
    "\n",
    "* Wallaroo SDK Install\n",
    "  * Set up a Python virtual environment through `conda` with the libraries that enable the virtual environment for use in a Jupyter Hub environment.\n",
    "  * Install the Wallaroo SDK.\n",
    "* Wallaroo SDK from remote JupyterHub Demonstration (Optional):  The following steps are an optional exercise to demonstrate using the Wallaroo SDK from a remote connection.  The entire tutorial can be found on the [Wallaroo Tutorials repository](https://github.com/WallarooLabs/Wallaroo_Tutorials/tree/main/sdk-install-guides/standard-install).\n",
    "  * Connect to a remote Wallaroo instance.\n",
    "  * Create a workspace for our work.\n",
    "  * Upload the Aloha model.\n",
    "  * Create a pipeline that can ingest our submitted data, submit it to the model, and export the results\n",
    "  * Run a sample inference through our pipeline by loading a file\n",
    "  * Retrieve the external deployment URL.  This sample Wallaroo instance has been configured to create external inference URLs for pipelines.  For more information, see the [External Inference URL Guide](https://docs.wallaroo.aiwallaroo-operations-guide/wallaroo-configuration/wallaroo-model-endpoints-guide/).\n",
    "  * Run a sample inference through our pipeline's external URL and store the results in a file.  This assumes that the External Inference URLs have been enabled for the target Wallaroo instance.\n",
    "  * Undeploy the pipeline and return resources back to the Wallaroo instance's Kubernetes environment."
   ]
  },
  {
   "attachments": {},
   "cell_type": "markdown",
   "metadata": {},
   "source": [
    "## Install Wallaroo SDK\n",
    "\n",
    "### Set Up Virtual Python Environment\n",
    "\n",
    "To set up the Python virtual environment for use of the Wallaroo SDK:\n",
    "\n",
    "1. From a terminal shell, create the Python virtual environment with `conda`.  Replace `wallaroosdk` with the name of the virtual environment as required by your organization.  Note that Python 3.8.6 and above is specified as a requirement for Python libraries used with the Wallaroo SDK.  The following will install the latest version of Python 3.8.\n",
    "\n",
    "    ```bash\n",
    "    conda create -n wallaroosdk python=3.8\n",
    "    ```\n",
    "\n",
    "1. Activate the new environment.\n",
    "\n",
    "    ```bash\n",
    "    conda activate wallaroosdk\n",
    "    ```\n",
    "\n",
    "1. (Optional) For organizations who want to use the Wallaroo SDk from within Jupyter and similar environments:\n",
    "    1. Install the `ipykernel` library.  This allows the JupyterHub notebooks to access the Python virtual environment as a kernel, and it required for the second part of this tutorial.\n",
    "\n",
    "        ```bash\n",
    "        conda install ipykernel\n",
    "        ```\n",
    "    \n",
    "    1. Install the new virtual environment as a python kernel.\n",
    "\n",
    "        ```bash\n",
    "        ipython kernel install --user --name=wallaroosdk\n",
    "        ```\n",
    "    \n",
    "1. Install the Wallaroo SDK.  This process may take several minutes while the other required Python libraries are added to the virtual environment.\n",
    "\n",
    "    ```bash\n",
    "    pip install wallaroo\n",
    "    ```"
   ]
  },
  {
   "attachments": {},
   "cell_type": "markdown",
   "metadata": {},
   "source": [
    "For organizations who will be using the Wallaroo SDK with Jupyter or similar services, the conda virtual environment has been installed, it can either be selected as a new Jupyter Notebook kernel, or the Notebook's kernel can be set to an existing Jupyter notebook.\n",
    "\n",
    "![](./images/wallaroo-developer-guides/wallaroo-sdk-guides/wallaroo-sdk-install-guides/wallaroo-select-kernel.png)\n",
    "\n",
    "To use a new Notebook:\n",
    "\n",
    "1. From the main menu, select **File->New-Notebook**.\n",
    "1. From the Kernel selection dropbox, select the new virtual environment - in this case, **wallaroosdk**.\n",
    "\n",
    "To update an existing Notebook to use the new virtual environment as a kernel:\n",
    "\n",
    "1. From the main menu, select **Kernel->Change Kernel**.\n",
    "1. Select the new kernel.\n"
   ]
  },
  {
   "attachments": {},
   "cell_type": "markdown",
   "metadata": {},
   "source": [
    "## Sample Wallaroo Connection\n",
    "\n",
    "With the Wallaroo Python SDK installed, remote commands and inferences can be performed through the following steps.\n",
    "\n",
    "### Open a Connection to Wallaroo\n",
    "\n",
    "The first step is to connect to Wallaroo through the Wallaroo client.\n",
    "\n",
    "This is accomplished using the `wallaroo.Client(api_endpoint, auth_endpoint, auth_type command)` command that connects to the Wallaroo instance services.\n",
    "\n",
    "The `Client` method takes the following parameters:\n",
    "\n",
    "* **api_endpoint** (*String*): The URL to the Wallaroo instance API service.\n",
    "* **auth_endpoint** (*String*): The URL to the Wallaroo instance Keycloak service.\n",
    "* **auth_type command** (*String*): The authorization type.  In this case, `SSO`.\n",
    "\n",
    "The URLs are based on the Wallaroo Prefix and Wallaroo Suffix for the Wallaroo instance.  For more information, see the [DNS Integration Guide](https://docs.wallaroo.ai/wallaroo-operations-guide/wallaroo-configuration/wallaroo-dns-guide/).  In the example below, replace \"YOUR PREFIX\" and \"YOUR SUFFIX\" with the Wallaroo Prefix and Suffix, respectively.\n",
    "\n",
    "Once run, the `wallaroo.Client` command provides a URL to grant the SDK permission to your specific Wallaroo environment.  When displayed, enter the URL into a browser and confirm permissions.  Depending on the configuration of the Wallaroo instance, the user will either be presented with a login request to the Wallaroo instance or be authenticated through a broker such as Google, Github, etc.  To use the broker, select it from the list under the username/password login forms.  For more information on Wallaroo authentication configurations, see the [Wallaroo Authentication Configuration Guides](https://docs.wallaroo.ai/wallaroo-operations-guide/wallaroo-configuration/wallaroo-sso-authentication/).\n",
    "\n",
    "![Wallaroo Login](./images/wallaroo-developer-guides/wallaroo-sdk-guides/wallaroo-sdk-install-guides/wallaroo-sdk-login.png)\n",
    "\n",
    "Once authenticated, the user will verify adding the device the user is establishing the connection from.  Once both steps are complete, then the connection is granted.\n",
    "\n",
    "![Device Registration](./images/wallaroo-developer-guides/wallaroo-sdk-guides/wallaroo-sdk-install-guides/wallaroo-device-access.png)\n",
    "\n",
    "The connection is stored in the variable `wl` for use in all other Wallaroo calls."
   ]
  },
  {
   "cell_type": "code",
   "execution_count": 13,
   "metadata": {},
   "outputs": [],
   "source": [
    "import wallaroo\n",
    "from wallaroo.object import EntityNotFoundError"
   ]
  },
  {
   "cell_type": "code",
   "execution_count": 14,
   "metadata": {},
   "outputs": [
    {
     "data": {
      "text/plain": [
       "'2022.4.0rc3'"
      ]
     },
     "execution_count": 14,
     "metadata": {},
     "output_type": "execute_result"
    }
   ],
   "source": [
    "wallaroo.__version__"
   ]
  },
  {
   "cell_type": "code",
   "execution_count": 15,
   "metadata": {},
   "outputs": [],
   "source": [
    "# SSO login through keycloak\n",
    "\n",
    "wallarooPrefix = \"YOUR PREFIX\"\n",
    "wallarooSuffix = \"YOUR SUFFIX\"\n",
    "\n",
    "wl = wallaroo.Client(api_endpoint=f\"https://{wallarooPrefix}.api.{wallarooSuffix}\", \n",
    "                auth_endpoint=f\"https://{wallarooPrefix}.keycloak.{wallarooSuffix}\", \n",
    "                auth_type=\"sso\")"
   ]
  },
  {
   "cell_type": "markdown",
   "metadata": {},
   "source": [
    "## Wallaroo Remote SDK Examples\n",
    "\n",
    "The following examples can be used by an organization to test using the Wallaroo SDK from a remote location from their Wallaroo instance.  These examples show how to create workspaces, deploy pipelines, and perform inferences through the SDK and API."
   ]
  },
  {
   "attachments": {},
   "cell_type": "markdown",
   "metadata": {},
   "source": [
    "### Create the Workspace\n",
    "\n",
    "We will create a workspace to work in and call it the `sdkworkspace`, then set it as current workspace environment.  We'll also create our pipeline in advance as `sdkpipeline`.\n",
    "\n",
    "* **IMPORTANT NOTE**:  For this example, the Aloha model is stored in the file `alohacnnlstm.zip`.  When using tensor based models, the zip file **must** match the name of the tensor directory.  For example, if the tensor directory is `alohacnnlstm`, then the .zip file must be named `alohacnnlstm.zip`."
   ]
  },
  {
   "cell_type": "code",
   "execution_count": 16,
   "metadata": {},
   "outputs": [],
   "source": [
    "workspace_name = 'sdkquickworkspace2'\n",
    "pipeline_name = 'sdkquickpipeline2'\n",
    "model_name = 'sdkquickmodel2'\n",
    "model_file_name = './alohacnnlstm.zip'"
   ]
  },
  {
   "cell_type": "code",
   "execution_count": 17,
   "metadata": {},
   "outputs": [],
   "source": [
    "def get_workspace(name):\n",
    "    workspace = None\n",
    "    for ws in wl.list_workspaces():\n",
    "        if ws.name() == name:\n",
    "            workspace= ws\n",
    "    if(workspace == None):\n",
    "        workspace = wl.create_workspace(name)\n",
    "    return workspace\n",
    "\n",
    "def get_pipeline(name):\n",
    "    try:\n",
    "        pipeline = wl.pipelines_by_name(pipeline_name)[0]\n",
    "    except EntityNotFoundError:\n",
    "        pipeline = wl.build_pipeline(pipeline_name)\n",
    "    return pipeline"
   ]
  },
  {
   "cell_type": "code",
   "execution_count": 18,
   "metadata": {},
   "outputs": [
    {
     "data": {
      "text/html": [
       "<table><tr><th>name</th> <td>sdkquickpipeline2</td></tr><tr><th>created</th> <td>2023-02-07 16:19:45.872839+00:00</td></tr><tr><th>last_updated</th> <td>2023-02-07 16:19:45.872839+00:00</td></tr><tr><th>deployed</th> <td>(none)</td></tr><tr><th>tags</th> <td></td></tr><tr><th>versions</th> <td>a5c70cd2-73fa-4fc6-aa7d-1a5b9514e856</td></tr><tr><th>steps</th> <td></td></tr></table>"
      ],
      "text/plain": [
       "{'name': 'sdkquickpipeline2', 'create_time': datetime.datetime(2023, 2, 7, 16, 19, 45, 872839, tzinfo=tzutc()), 'definition': '[]'}"
      ]
     },
     "execution_count": 18,
     "metadata": {},
     "output_type": "execute_result"
    }
   ],
   "source": [
    "workspace = get_workspace(workspace_name)\n",
    "\n",
    "wl.set_current_workspace(workspace)\n",
    "\n",
    "pipeline = get_pipeline(pipeline_name)\n",
    "pipeline"
   ]
  },
  {
   "cell_type": "markdown",
   "metadata": {},
   "source": [
    "We can verify the workspace is created the current default workspace with the `get_current_workspace()` command."
   ]
  },
  {
   "cell_type": "code",
   "execution_count": 19,
   "metadata": {},
   "outputs": [
    {
     "data": {
      "text/plain": [
       "{'name': 'sdkquickworkspace2', 'id': 10, 'archived': False, 'created_by': '3547815c-b48d-4e69-bfbd-fff9d525c5d7', 'created_at': '2023-02-07T16:19:44.456655+00:00', 'models': [], 'pipelines': [{'name': 'sdkquickpipeline2', 'create_time': datetime.datetime(2023, 2, 7, 16, 19, 45, 872839, tzinfo=tzutc()), 'definition': '[]'}]}"
      ]
     },
     "execution_count": 19,
     "metadata": {},
     "output_type": "execute_result"
    }
   ],
   "source": [
    "wl.get_current_workspace()"
   ]
  },
  {
   "cell_type": "markdown",
   "metadata": {},
   "source": [
    "### Upload the Models\n",
    "\n",
    "Now we will upload our model.  Note that for this example we are applying the model from a .ZIP file.  The Aloha model is a [protobuf](https://developers.google.com/protocol-buffers) file that has been defined for evaluating web pages, and we will configure it to use data in the `tensorflow` format."
   ]
  },
  {
   "cell_type": "code",
   "execution_count": 20,
   "metadata": {},
   "outputs": [],
   "source": [
    "model = wl.upload_model(model_name, model_file_name).configure(\"tensorflow\")"
   ]
  },
  {
   "cell_type": "markdown",
   "metadata": {},
   "source": [
    "### Deploy a Model\n",
    "\n",
    "Now that we have a model that we want to use we will create a deployment for it. \n",
    "\n",
    "We will tell the deployment we are using a tensorflow model and give the deployment name and the configuration we want for the deployment.\n",
    "\n",
    "To do this, we'll create our pipeline that can ingest the data, pass the data to our Aloha model, and give us a final output.  We'll call our pipeline `externalsdkpipeline`, then deploy it so it's ready to receive data.  The deployment process usually takes about 45 seconds."
   ]
  },
  {
   "cell_type": "code",
   "execution_count": 21,
   "metadata": {},
   "outputs": [
    {
     "data": {
      "text/html": [
       "<table><tr><th>name</th> <td>sdkquickpipeline2</td></tr><tr><th>created</th> <td>2023-02-07 16:19:45.872839+00:00</td></tr><tr><th>last_updated</th> <td>2023-02-07 16:19:45.872839+00:00</td></tr><tr><th>deployed</th> <td>(none)</td></tr><tr><th>tags</th> <td></td></tr><tr><th>versions</th> <td>a5c70cd2-73fa-4fc6-aa7d-1a5b9514e856</td></tr><tr><th>steps</th> <td></td></tr></table>"
      ],
      "text/plain": [
       "{'name': 'sdkquickpipeline2', 'create_time': datetime.datetime(2023, 2, 7, 16, 19, 45, 872839, tzinfo=tzutc()), 'definition': \"[{'ModelInference': {'models': [{'name': 'sdkquickmodel2', 'version': '46addcc2-8a44-4495-8741-6c2b6536d6c6', 'sha': 'd71d9ffc61aaac58c2b1ed70a2db13d1416fb9d3f5b891e5e4e2e97180fe22f8'}]}}]\"}"
      ]
     },
     "execution_count": 21,
     "metadata": {},
     "output_type": "execute_result"
    }
   ],
   "source": [
    "pipeline.add_model_step(model)"
   ]
  },
  {
   "cell_type": "code",
   "execution_count": 22,
   "metadata": {},
   "outputs": [
    {
     "data": {
      "text/html": [
       "<table><tr><th>name</th> <td>sdkquickpipeline2</td></tr><tr><th>created</th> <td>2023-02-07 16:19:45.872839+00:00</td></tr><tr><th>last_updated</th> <td>2023-02-07 16:19:45.872839+00:00</td></tr><tr><th>deployed</th> <td>(none)</td></tr><tr><th>tags</th> <td></td></tr><tr><th>versions</th> <td>a5c70cd2-73fa-4fc6-aa7d-1a5b9514e856</td></tr><tr><th>steps</th> <td></td></tr></table>"
      ],
      "text/plain": [
       "{'name': 'sdkquickpipeline2', 'create_time': datetime.datetime(2023, 2, 7, 16, 19, 45, 872839, tzinfo=tzutc()), 'definition': \"[{'ModelInference': {'models': [{'name': 'sdkquickmodel2', 'version': '46addcc2-8a44-4495-8741-6c2b6536d6c6', 'sha': 'd71d9ffc61aaac58c2b1ed70a2db13d1416fb9d3f5b891e5e4e2e97180fe22f8'}]}}]\"}"
      ]
     },
     "execution_count": 22,
     "metadata": {},
     "output_type": "execute_result"
    }
   ],
   "source": [
    "pipeline"
   ]
  },
  {
   "cell_type": "code",
   "execution_count": 23,
   "metadata": {},
   "outputs": [
    {
     "data": {
      "text/html": [
       "<table><tr><th>name</th> <td>sdkquickpipeline2</td></tr><tr><th>created</th> <td>2023-02-07 16:19:45.872839+00:00</td></tr><tr><th>last_updated</th> <td>2023-02-07 16:19:51.594068+00:00</td></tr><tr><th>deployed</th> <td>True</td></tr><tr><th>tags</th> <td></td></tr><tr><th>versions</th> <td>1c2e3c0c-0445-44cc-b924-bd531ddfd9a5, a5c70cd2-73fa-4fc6-aa7d-1a5b9514e856</td></tr><tr><th>steps</th> <td>sdkquickmodel2</td></tr></table>"
      ],
      "text/plain": [
       "{'name': 'sdkquickpipeline2', 'create_time': datetime.datetime(2023, 2, 7, 16, 19, 45, 872839, tzinfo=tzutc()), 'definition': \"[{'ModelInference': {'models': [{'name': 'sdkquickmodel2', 'version': '46addcc2-8a44-4495-8741-6c2b6536d6c6', 'sha': 'd71d9ffc61aaac58c2b1ed70a2db13d1416fb9d3f5b891e5e4e2e97180fe22f8'}]}}]\"}"
      ]
     },
     "execution_count": 23,
     "metadata": {},
     "output_type": "execute_result"
    }
   ],
   "source": [
    "pipeline.deploy()"
   ]
  },
  {
   "cell_type": "markdown",
   "metadata": {},
   "source": [
    "We can verify that the pipeline is running and list what models are associated with it."
   ]
  },
  {
   "cell_type": "code",
   "execution_count": 24,
   "metadata": {},
   "outputs": [
    {
     "data": {
      "text/plain": [
       "{'status': 'Running',\n",
       " 'details': [],\n",
       " 'engines': [{'ip': '10.244.2.52',\n",
       "   'name': 'engine-776f8bc-mfv6l',\n",
       "   'status': 'Running',\n",
       "   'reason': None,\n",
       "   'details': [],\n",
       "   'pipeline_statuses': {'pipelines': [{'id': 'sdkquickpipeline2',\n",
       "      'status': 'Running'}]},\n",
       "   'model_statuses': {'models': [{'name': 'sdkquickmodel2',\n",
       "      'version': '46addcc2-8a44-4495-8741-6c2b6536d6c6',\n",
       "      'sha': 'd71d9ffc61aaac58c2b1ed70a2db13d1416fb9d3f5b891e5e4e2e97180fe22f8',\n",
       "      'status': 'Running'}]}}],\n",
       " 'engine_lbs': [{'ip': '10.244.0.32',\n",
       "   'name': 'engine-lb-74b4969486-7x8sx',\n",
       "   'status': 'Running',\n",
       "   'reason': None,\n",
       "   'details': []}],\n",
       " 'sidekicks': []}"
      ]
     },
     "execution_count": 24,
     "metadata": {},
     "output_type": "execute_result"
    }
   ],
   "source": [
    "pipeline.status()"
   ]
  },
  {
   "cell_type": "markdown",
   "metadata": {},
   "source": [
    "## Interferences\n",
    "\n",
    "### Infer 1 row\n",
    "\n",
    "Now that the pipeline is deployed and our Aloha model is in place, we'll perform a smoke test to verify the pipeline is up and running properly.  We'll use the `infer_from_file` command to load a single encoded URL into the inference engine and print the results back out.\n",
    "\n",
    "The result should tell us that the tokenized URL is legitimate (0) or fraud (1).  This sample data should return close to 0."
   ]
  },
  {
   "cell_type": "code",
   "execution_count": 25,
   "metadata": {},
   "outputs": [
    {
     "name": "stdout",
     "output_type": "stream",
     "text": [
      "[InferenceResult({'check_failures': [],\n",
      " 'elapsed': 220243870,\n",
      " 'model_name': 'sdkquickmodel2',\n",
      " 'model_version': '46addcc2-8a44-4495-8741-6c2b6536d6c6',\n",
      " 'original_data': {'text_input': [[0,\n",
      "                                   0,\n",
      "                                   0,\n",
      "                                   0,\n",
      "                                   0,\n",
      "                                   0,\n",
      "                                   0,\n",
      "                                   0,\n",
      "                                   0,\n",
      "                                   0,\n",
      "                                   0,\n",
      "                                   0,\n",
      "                                   0,\n",
      "                                   0,\n",
      "                                   0,\n",
      "                                   0,\n",
      "                                   0,\n",
      "                                   0,\n",
      "                                   0,\n",
      "                                   0,\n",
      "                                   0,\n",
      "                                   0,\n",
      "                                   0,\n",
      "                                   0,\n",
      "                                   0,\n",
      "                                   0,\n",
      "                                   0,\n",
      "                                   0,\n",
      "                                   0,\n",
      "                                   0,\n",
      "                                   0,\n",
      "                                   0,\n",
      "                                   0,\n",
      "                                   0,\n",
      "                                   0,\n",
      "                                   0,\n",
      "                                   0,\n",
      "                                   0,\n",
      "                                   0,\n",
      "                                   0,\n",
      "                                   28,\n",
      "                                   16,\n",
      "                                   32,\n",
      "                                   23,\n",
      "                                   29,\n",
      "                                   32,\n",
      "                                   30,\n",
      "                                   19,\n",
      "                                   26,\n",
      "                                   17]]},\n",
      " 'outputs': [{'Float': {'data': [0.0015195857267826796],\n",
      "                        'dim': [1, 1],\n",
      "                        'dtype': 'Float',\n",
      "                        'v': 1}},\n",
      "             {'Float': {'data': [0.9829148054122925],\n",
      "                        'dim': [1, 1],\n",
      "                        'dtype': 'Float',\n",
      "                        'v': 1}},\n",
      "             {'Float': {'data': [0.012099565006792545],\n",
      "                        'dim': [1, 1],\n",
      "                        'dtype': 'Float',\n",
      "                        'v': 1}},\n",
      "             {'Float': {'data': [4.759129660669714e-05],\n",
      "                        'dim': [1, 1],\n",
      "                        'dtype': 'Float',\n",
      "                        'v': 1}},\n",
      "             {'Float': {'data': [2.0289371605031192e-05],\n",
      "                        'dim': [1, 1],\n",
      "                        'dtype': 'Float',\n",
      "                        'v': 1}},\n",
      "             {'Float': {'data': [0.0003197726036887616],\n",
      "                        'dim': [1, 1],\n",
      "                        'dtype': 'Float',\n",
      "                        'v': 1}},\n",
      "             {'Float': {'data': [0.011029282584786415],\n",
      "                        'dim': [1, 1],\n",
      "                        'dtype': 'Float',\n",
      "                        'v': 1}},\n",
      "             {'Float': {'data': [0.9975640177726746],\n",
      "                        'dim': [1, 1],\n",
      "                        'dtype': 'Float',\n",
      "                        'v': 1}},\n",
      "             {'Float': {'data': [0.010341615416109562],\n",
      "                        'dim': [1, 1],\n",
      "                        'dtype': 'Float',\n",
      "                        'v': 1}},\n",
      "             {'Float': {'data': [0.008038961328566074],\n",
      "                        'dim': [1, 1],\n",
      "                        'dtype': 'Float',\n",
      "                        'v': 1}},\n",
      "             {'Float': {'data': [0.0161550622433424],\n",
      "                        'dim': [1, 1],\n",
      "                        'dtype': 'Float',\n",
      "                        'v': 1}},\n",
      "             {'Float': {'data': [0.006236232817173004],\n",
      "                        'dim': [1, 1],\n",
      "                        'dtype': 'Float',\n",
      "                        'v': 1}},\n",
      "             {'Float': {'data': [0.0009985751239582896],\n",
      "                        'dim': [1, 1],\n",
      "                        'dtype': 'Float',\n",
      "                        'v': 1}},\n",
      "             {'Float': {'data': [1.7933780470763777e-26],\n",
      "                        'dim': [1, 1],\n",
      "                        'dtype': 'Float',\n",
      "                        'v': 1}},\n",
      "             {'Float': {'data': [1.3889951203666574e-27],\n",
      "                        'dim': [1, 1],\n",
      "                        'dtype': 'Float',\n",
      "                        'v': 1}}],\n",
      " 'pipeline_name': 'sdkquickpipeline2',\n",
      " 'shadow_data': {},\n",
      " 'time': 1675786803000})]\n"
     ]
    }
   ],
   "source": [
    "## Demonstrate via straight infer\n",
    "\n",
    "import json\n",
    "\n",
    "file = open('./data-1.json')\n",
    "\n",
    "data = json.load(file)\n",
    "\n",
    "result = pipeline.infer(data)\n",
    "print(result)"
   ]
  },
  {
   "cell_type": "code",
   "execution_count": 26,
   "metadata": {},
   "outputs": [],
   "source": [
    "# Demonstrate from infer_from_file\n",
    "result = pipeline.infer_from_file(\"./data-1.json\")"
   ]
  },
  {
   "cell_type": "code",
   "execution_count": 27,
   "metadata": {},
   "outputs": [
    {
     "data": {
      "text/plain": [
       "[array([[0.00151959]]),\n",
       " array([[0.98291481]]),\n",
       " array([[0.01209957]]),\n",
       " array([[4.75912966e-05]]),\n",
       " array([[2.02893716e-05]]),\n",
       " array([[0.00031977]]),\n",
       " array([[0.01102928]]),\n",
       " array([[0.99756402]]),\n",
       " array([[0.01034162]]),\n",
       " array([[0.00803896]]),\n",
       " array([[0.01615506]]),\n",
       " array([[0.00623623]]),\n",
       " array([[0.00099858]]),\n",
       " array([[1.79337805e-26]]),\n",
       " array([[1.38899512e-27]])]"
      ]
     },
     "execution_count": 27,
     "metadata": {},
     "output_type": "execute_result"
    }
   ],
   "source": [
    "result[0].data()"
   ]
  },
  {
   "cell_type": "markdown",
   "metadata": {},
   "source": [
    "### Batch Inference\n",
    "\n",
    "Now that our smoke test is successful, let's really give it some data.  We have two inference files we can use:\n",
    "\n",
    "* `data-1k.json`:  Contains 10,000 inferences\n",
    "* `data-25k.json`: Contains 25,000 inferences\n",
    "\n",
    "We'll pipe the `data-25k.json` file through the `pipeline` deployment URL, and place the results in a file named `response.txt`.  We'll also display the time this takes.  Note that for larger batches of 50,000 inferences or more can be difficult to view in Juypter Hub because of its size.\n",
    "\n",
    "When retrieving the pipeline inference URL through an external SDK connection, the External Inference URL will be returned.  This URL will function provided that the **Enable external URL inference endpoints** is enabled.  For more information, see the [Wallaroo Model Endpoints Guide](https://docs.wallaroo.ai/wallaroo-operations-guide/wallaroo-configuration/wallaroo-model-endpoints-guide/)."
   ]
  },
  {
   "cell_type": "code",
   "execution_count": 28,
   "metadata": {},
   "outputs": [
    {
     "data": {
      "text/html": [
       "<table><tr><th>name</th> <td>sdkquickpipeline2</td></tr><tr><th>created</th> <td>2023-02-07 16:19:45.872839+00:00</td></tr><tr><th>last_updated</th> <td>2023-02-07 16:20:05.001577+00:00</td></tr><tr><th>deployed</th> <td>True</td></tr><tr><th>tags</th> <td></td></tr><tr><th>versions</th> <td>ba601a21-9261-4b5d-9a72-d7cf656c62ff, 1c2e3c0c-0445-44cc-b924-bd531ddfd9a5, a5c70cd2-73fa-4fc6-aa7d-1a5b9514e856</td></tr><tr><th>steps</th> <td>sdkquickmodel2</td></tr></table>"
      ],
      "text/plain": [
       "{'name': 'sdkquickpipeline2', 'create_time': datetime.datetime(2023, 2, 7, 16, 19, 45, 872839, tzinfo=tzutc()), 'definition': \"[{'ModelInference': {'models': [{'name': 'sdkquickmodel2', 'version': '46addcc2-8a44-4495-8741-6c2b6536d6c6', 'sha': 'd71d9ffc61aaac58c2b1ed70a2db13d1416fb9d3f5b891e5e4e2e97180fe22f8'}]}}]\"}"
      ]
     },
     "execution_count": 28,
     "metadata": {},
     "output_type": "execute_result"
    }
   ],
   "source": [
    "pipeline.deploy()"
   ]
  },
  {
   "cell_type": "code",
   "execution_count": 29,
   "metadata": {},
   "outputs": [
    {
     "data": {
      "text/plain": [
       "'https://magical-bear-3782.api.wallaroo.community/v1/api/pipelines/infer/sdkquickpipeline2-13'"
      ]
     },
     "execution_count": 29,
     "metadata": {},
     "output_type": "execute_result"
    }
   ],
   "source": [
    "external_url = pipeline._deployment._url()\n",
    "external_url"
   ]
  },
  {
   "cell_type": "markdown",
   "metadata": {},
   "source": [
    "The API connection details can be retrieved through the Wallaroo client `mlops()` command.  This will display the connection URL, bearer token, and other information.  The bearer token is available for one hour before it expires.\n",
    "\n",
    "For this example, the API connection details will be retrieved, then used to submit an inference request through the external inference URL retrieved earlier."
   ]
  },
  {
   "cell_type": "code",
   "execution_count": 30,
   "metadata": {},
   "outputs": [
    {
     "data": {
      "text/plain": [
       "'eyJhbGciOiJSUzI1NiIsInR5cCIgOiAiSldUIiwia2lkIiA6ICJybE5MSVg4QllTaEJEM3A1cWRCd0FVMHN5d3NmSTFBWUUyTUZKMEdUVldZIn0.eyJleHAiOjE2NzU3ODY4NDMsImlhdCI6MTY3NTc4Njc4MywiYXV0aF90aW1lIjoxNjc1Nzg1MzM4LCJqdGkiOiI4NGRhNWMxZC03ODU1LTQ0MzktOGJhZS0yMGE3NjViZmQ4ZDMiLCJpc3MiOiJodHRwczovL21hZ2ljYWwtYmVhci0zNzgyLmtleWNsb2FrLndhbGxhcm9vLmNvbW11bml0eS9hdXRoL3JlYWxtcy9tYXN0ZXIiLCJhdWQiOlsibWFzdGVyLXJlYWxtIiwiYWNjb3VudCJdLCJzdWIiOiIzNTQ3ODE1Yy1iNDhkLTRlNjktYmZiZC1mZmY5ZDUyNWM1ZDciLCJ0eXAiOiJCZWFyZXIiLCJhenAiOiJzZGstY2xpZW50Iiwic2Vzc2lvbl9zdGF0ZSI6Ijc3YjI2ZjRhLWQ0M2MtNDJlOC04OTM0LTc2OWQxN2UzYzRkYyIsImFjciI6IjAiLCJyZWFsbV9hY2Nlc3MiOnsicm9sZXMiOlsiY3JlYXRlLXJlYWxtIiwiZGVmYXVsdC1yb2xlcy1tYXN0ZXIiLCJvZmZsaW5lX2FjY2VzcyIsImFkbWluIiwidW1hX2F1dGhvcml6YXRpb24iXX0sInJlc291cmNlX2FjY2VzcyI6eyJtYXN0ZXItcmVhbG0iOnsicm9sZXMiOlsidmlldy1yZWFsbSIsInZpZXctaWRlbnRpdHktcHJvdmlkZXJzIiwibWFuYWdlLWlkZW50aXR5LXByb3ZpZGVycyIsImltcGVyc29uYXRpb24iLCJjcmVhdGUtY2xpZW50IiwibWFuYWdlLXVzZXJzIiwicXVlcnktcmVhbG1zIiwidmlldy1hdXRob3JpemF0aW9uIiwicXVlcnktY2xpZW50cyIsInF1ZXJ5LXVzZXJzIiwibWFuYWdlLWV2ZW50cyIsIm1hbmFnZS1yZWFsbSIsInZpZXctZXZlbnRzIiwidmlldy11c2VycyIsInZpZXctY2xpZW50cyIsIm1hbmFnZS1hdXRob3JpemF0aW9uIiwibWFuYWdlLWNsaWVudHMiLCJxdWVyeS1ncm91cHMiXX0sImFjY291bnQiOnsicm9sZXMiOlsibWFuYWdlLWFjY291bnQiLCJtYW5hZ2UtYWNjb3VudC1saW5rcyIsInZpZXctcHJvZmlsZSJdfX0sInNjb3BlIjoiZW1haWwgcHJvZmlsZSIsInNpZCI6Ijc3YjI2ZjRhLWQ0M2MtNDJlOC04OTM0LTc2OWQxN2UzYzRkYyIsImVtYWlsX3ZlcmlmaWVkIjp0cnVlLCJodHRwczovL2hhc3VyYS5pby9qd3QvY2xhaW1zIjp7IngtaGFzdXJhLXVzZXItaWQiOiIzNTQ3ODE1Yy1iNDhkLTRlNjktYmZiZC1mZmY5ZDUyNWM1ZDciLCJ4LWhhc3VyYS1kZWZhdWx0LXJvbGUiOiJ1c2VyIiwieC1oYXN1cmEtYWxsb3dlZC1yb2xlcyI6WyJ1c2VyIl0sIngtaGFzdXJhLXVzZXItZ3JvdXBzIjoie30ifSwicHJlZmVycmVkX3VzZXJuYW1lIjoiam9obi5odW1tZWxAd2FsbGFyb28uYWkiLCJlbWFpbCI6ImpvaG4uaHVtbWVsQHdhbGxhcm9vLmFpIn0.li1jSC7DiKkhTrmrJr--EQLydUr8hMB0OYM8VBRwJZAIaBJnqJHQl5-gB_mPKUXCwIBR3-sldPnN0e9o7HIxAi_lvz9gZk8fkp3Ez6Nvd27p-ADwb3UnfM3QtkKx34yYUp4uvlFV-0HPCXhfBMgm_ztBgx3v1D76SRDRZZFjiMFBoZL0J2NX2nWE4pl9QRKAjipOA9QPYh99CJioEx6AmrVHJOUA0Llz9RHx87Z8oX0HUEd2tkki3sckIoeRcn0AkElRmtpV-V9AzfGiWdKwBKZ7UUFuC6dIRZNE1TLyD-gkD06nqe5gyb-J5XdHMqaw7leYCaGJDdgWNebwS44-LQ'"
      ]
     },
     "execution_count": 30,
     "metadata": {},
     "output_type": "execute_result"
    }
   ],
   "source": [
    "connection =wl.mlops().__dict__\n",
    "token = connection['token']\n",
    "token"
   ]
  },
  {
   "cell_type": "code",
   "execution_count": 31,
   "metadata": {},
   "outputs": [
    {
     "name": "stdout",
     "output_type": "stream",
     "text": [
      "  % Total    % Received % Xferd  Average Speed   Time    Time     Time  Current\n",
      "                                 Dload  Upload   Total   Spent    Left  Speed\n",
      "100 13.0M  100 10.1M  100 2886k   893k   247k  0:00:11  0:00:11 --:--:-- 2333k\n"
     ]
    }
   ],
   "source": [
    "!curl -X POST {external_url} -H \"Content-Type:application/json\" -H \"Authorization: Bearer {token}\" --data @data-25k.json > curl_response.txt"
   ]
  },
  {
   "cell_type": "markdown",
   "metadata": {},
   "source": [
    "## Undeploy Pipeline\n",
    "\n",
    "When finished with our tests, we will undeploy the pipeline so we have the Kubernetes resources back for other tasks.  Note that if the deployment variable is unchanged pipeline.deploy() will restart the inference engine in the same configuration as before."
   ]
  },
  {
   "cell_type": "code",
   "execution_count": 32,
   "metadata": {},
   "outputs": [
    {
     "data": {
      "text/html": [
       "<table><tr><th>name</th> <td>sdkquickpipeline2</td></tr><tr><th>created</th> <td>2023-02-07 16:19:45.872839+00:00</td></tr><tr><th>last_updated</th> <td>2023-02-07 16:20:05.001577+00:00</td></tr><tr><th>deployed</th> <td>False</td></tr><tr><th>tags</th> <td></td></tr><tr><th>versions</th> <td>ba601a21-9261-4b5d-9a72-d7cf656c62ff, 1c2e3c0c-0445-44cc-b924-bd531ddfd9a5, a5c70cd2-73fa-4fc6-aa7d-1a5b9514e856</td></tr><tr><th>steps</th> <td>sdkquickmodel2</td></tr></table>"
      ],
      "text/plain": [
       "{'name': 'sdkquickpipeline2', 'create_time': datetime.datetime(2023, 2, 7, 16, 19, 45, 872839, tzinfo=tzutc()), 'definition': \"[{'ModelInference': {'models': [{'name': 'sdkquickmodel2', 'version': '46addcc2-8a44-4495-8741-6c2b6536d6c6', 'sha': 'd71d9ffc61aaac58c2b1ed70a2db13d1416fb9d3f5b891e5e4e2e97180fe22f8'}]}}]\"}"
      ]
     },
     "execution_count": 32,
     "metadata": {},
     "output_type": "execute_result"
    }
   ],
   "source": [
    "pipeline.undeploy()"
   ]
  },
  {
   "cell_type": "code",
   "execution_count": null,
   "metadata": {},
   "outputs": [],
   "source": []
  }
 ],
 "metadata": {
  "environment": {
   "kernel": "wallaroosdk",
   "name": "common-cpu.m100",
   "type": "gcloud",
   "uri": "gcr.io/deeplearning-platform-release/base-cpu:m100"
  },
  "kernelspec": {
   "display_name": "wallaroosdk",
   "language": "python",
   "name": "wallaroosdk"
  },
  "language_info": {
   "codemirror_mode": {
    "name": "ipython",
    "version": 3
   },
   "file_extension": ".py",
   "mimetype": "text/x-python",
   "name": "python",
   "nbconvert_exporter": "python",
   "pygments_lexer": "ipython3",
   "version": "3.8.15"
  },
  "vscode": {
   "interpreter": {
    "hash": "38cca0c38332a56087b24af0bc80247f4fced29cb4f7f437d91dc159adec9c4e"
   }
  }
 },
 "nbformat": 4,
 "nbformat_minor": 4
}
