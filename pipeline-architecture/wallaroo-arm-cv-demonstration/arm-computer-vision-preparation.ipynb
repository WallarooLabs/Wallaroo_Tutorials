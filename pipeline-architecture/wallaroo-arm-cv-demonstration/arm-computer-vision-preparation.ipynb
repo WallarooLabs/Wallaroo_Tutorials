{
 "cells": [
  {
   "attachments": {},
   "cell_type": "markdown",
   "metadata": {},
   "source": [
    "This tutorial and the assets can be downloaded as part of the [Wallaroo Tutorials repository](https://github.com/WallarooLabs/Wallaroo_Tutorials/tree/main/wallaroo-model-cookbooks/computer-vision).\n",
    "\n",
    "## Step 00: Introduction and Setup\n",
    "\n",
    "This tutorial demonstrates how to use the Wallaroo combined with ARM processors to perform inferences with pre-trained computer vision ML models.  This demonstration assumes that:\n",
    "\n",
    "* A Wallaroo version 2023.3 or above instance is installed.\n",
    "* A nodepools with ARM architecture virtual machines are part of the Kubernetes cluster.  For example, Azure supports Ampere® Altra® Arm-based processor included with the following virtual machines:\n",
    "  * [Dpsv5 and Dpdsv5-series](https://learn.microsoft.com/en-us/azure/virtual-machines/dpsv5-dpdsv5-series)\n",
    "  * [Epsv5 and Epdsv5-series](https://learn.microsoft.com/en-us/azure/virtual-machines/epsv5-epdsv5-series)\n",
    "* The applications and modules specified in this preparation notebook.\n",
    "\n",
    "This tutorial demonstrates the following:\n",
    "\n",
    "* How to deploy a Wallaroo pipeline with ARM architecture support, then use that to perform perform sample inferences with a resnet ML model to detect objects in pictures, then display those objects.\n",
    "* Compare performance between a x86 virtual machine nodepool against the ARM nodepool.  For this example, we will be applying 15 cpus with 16Gi RAM to the pipeline to perform its inferences."
   ]
  },
  {
   "attachments": {},
   "cell_type": "markdown",
   "metadata": {},
   "source": [
    "This demonstration should be run within a Wallaroo JupyterHub instance for best results.\n",
    "\n",
    "## Prerequisites"
   ]
  },
  {
   "attachments": {},
   "cell_type": "markdown",
   "metadata": {},
   "source": [
    "The included OpenCV class is included in this demonstration as `CVDemoUtils.py`, and requires the following dependencies:\n",
    "\n",
    "* ffmpeg\n",
    "* libsm\n",
    "* libxext\n",
    "\n",
    "\n",
    "### Internal JupyterHub Service\n",
    "\n",
    "To install these dependencies in the Wallaroo JupyterHub service, use the following commands from a terminal shell via the following procedure:\n",
    "\n",
    "1. Launch the JupyterHub Service within the Wallaroo install.\n",
    "1. Select **File->New->Terminal**.\n",
    "1. Enter the following:\n",
    "\n",
    "    ```bash\n",
    "    sudo apt-get update\n",
    "    ```\n",
    "\n",
    "    ```bash\n",
    "    sudo apt-get install ffmpeg libsm6 libxext6  -y\n",
    "    ```\n",
    "\n",
    "### External SDK Users\n",
    "\n",
    "For users using the Wallaroo SDK to connect with a remote Wallaroo instance, the following commands will install the required dependancies:\n",
    "\n",
    "For Linux users, this can be installed with:\n",
    "\n",
    "```bash\n",
    "sudo apt-get update\n",
    "sudo apt-get install ffmpeg libsm6 libxext6  -y\n",
    "```\n",
    "\n",
    "MacOS users can prepare their environments using a package manager such as [Brew](https://brew.sh/) with the following:\n",
    "\n",
    "```bash\n",
    "brew install ffmpeg libsm libxext\n",
    "```"
   ]
  },
  {
   "attachments": {},
   "cell_type": "markdown",
   "metadata": {},
   "source": [
    "### Libraries and Dependencies\n",
    "\n",
    "1. Import the following Python libraries into your environment:\n",
    "    1. [torch](https://pypi.org/project/torch/)\n",
    "    1. [wallaroo](https://pypi.org/project/wallaroo/)\n",
    "    1. [torchvision](https://pypi.org/project/torchvision/)\n",
    "    1. [opencv-python](https://pypi.org/project/opencv-python/)\n",
    "    1. [onnx](https://pypi.org/project/onnx/)\n",
    "    1. [onnxruntime](https://pypi.org/project/onnxruntime/)\n",
    "    1. [imutils](https://pypi.org/project/imutils/)\n",
    "    1. [pytz](https://pypi.org/project/pytz/)\n",
    "    1. [ipywidgets](https://pypi.org/project/ipywidgets/)\n",
    "\n",
    "These can be installed by running the command below in the Wallaroo JupyterHub service.  Note the use of `pip install torch --no-cache-dir` for low memory environments."
   ]
  },
  {
   "cell_type": "code",
   "execution_count": null,
   "metadata": {},
   "outputs": [],
   "source": [
    "!pip install torchvision\n",
    "!pip install torch --no-cache-dir\n",
    "!pip install opencv-python\n",
    "!pip install onnx\n",
    "!pip install onnxruntime\n",
    "!pip install imutils\n",
    "!pip install pytz\n",
    "!pip install ipywidgets"
   ]
  },
  {
   "attachments": {},
   "cell_type": "markdown",
   "metadata": {},
   "source": [
    "The rest of the tutorials will rely on these libraries and applications, so finish their installation before running the tutorials in this series."
   ]
  },
  {
   "attachments": {},
   "cell_type": "markdown",
   "metadata": {},
   "source": [
    "### Models for Wallaroo Computer Vision Tutorials\n",
    "\n",
    "In order for the wallaroo tutorial notebooks to run properly, models must be downloaded to the models directory.  As they are too large for Git to contain without extra steps, this tutorial and all models are available as a separate download.  These are downloaded via the following procedure:\n",
    "\n",
    "1. Go to https://github.com/WallarooLabs/Wallaroo_Tutorials/releases.\n",
    "1. Select the most recent release.\n",
    "1. Download the file `computer_vision.zip`.\n",
    "\n",
    "This contains the entire tutorial, plus the model files.\n",
    "\n",
    "The other option for `gcloud` users is to download them directly from the Google storage with the following command:\n",
    "\n",
    "```bash\n",
    "gcloud storage cp \"gs://wallaroo-model-zoo/open-source/computer-vision/models/*\" .\n",
    "```\n"
   ]
  }
 ],
 "metadata": {
  "kernelspec": {
   "display_name": "computervisiontutorials",
   "language": "python",
   "name": "python3"
  },
  "language_info": {
   "codemirror_mode": {
    "name": "ipython",
    "version": 3
   },
   "file_extension": ".py",
   "mimetype": "text/x-python",
   "name": "python",
   "nbconvert_exporter": "python",
   "pygments_lexer": "ipython3",
   "version": "3.9.16"
  },
  "vscode": {
   "interpreter": {
    "hash": "cb2d5a211cf7fee4614d0b9047a0972c7d6bf7ecea2ecd0ade6beeb12bbc9c8a"
   }
  }
 },
 "nbformat": 4,
 "nbformat_minor": 4
}
