{
 "cells": [
  {
   "cell_type": "markdown",
   "metadata": {
    "jp-MarkdownHeadingCollapsed": true,
    "tags": []
   },
   "source": [
    "The Wallaroo 101 tutorial can be downloaded as part of the [Wallaroo Tutorials repository](https://github.com/WallarooLabs/Wallaroo_Tutorials/tree/main/wallaroo-101).\n",
    "\n",
    "## Introduction\n",
    "\n",
    "Welcome to the Wallaroo, the fastest, easiest, and most efficient production ready machine learning system.\n",
    "\n",
    "This tutorial is created to help you get started with Wallaroo right away.  We'll start with a brief explanation of how Wallaroo works, then provide the credit card fraud detection model so you can see it working.\n",
    "\n",
    "This guide assumes that you've installed Wallaroo in your cloud Kubernetes cluster.  This can be either:\n",
    "\n",
    "* Amazon Web Services (AWS)\n",
    "* Microsoft Azure\n",
    "* Google Cloud Platform\n",
    "\n",
    "For instructions on setting up your cloud Kubernetes environment, check out the [Wallaroo Environment Setup Guides](https://docs.wallaroo.ai/wallaroo-operations-guide/wallaroo-setup-environment/) for your particular cloud provider.\n",
    "\n",
    "### How to Use This Notebook\n",
    "\n",
    "It is recommended that you run this notebook command at a time so you can see the results and make any changes you need based on your own environment.\n",
    "\n",
    "## Prerequisites\n",
    "\n",
    "* An installed Wallaroo instance.\n",
    "* The following Python libraries installed:\n",
    "  * `os`\n",
    "  * [`wallaroo`](https://pypi.org/project/wallaroo/): The Wallaroo SDK. Included with the Wallaroo JupyterHub service by default.\n",
    "  * [`pandas`](https://pypi.org/project/pandas/): Pandas, mainly used for Pandas DataFrame\n",
    "  * [`pyarrow`](https://pypi.org/project/pyarrow/): PyArrow for Apache Arrow support\n",
    "  * [`polars`](https://pypi.org/project/polars/): Polars for DataFrame with native Apache Arrow support"
   ]
  },
  {
   "cell_type": "markdown",
   "metadata": {},
   "source": [
    "## SDK Introduction\n",
    "\n",
    "The Wallaroo SDK lets you quickly get your models working with your data and getting results.  The typical flow follows these steps:\n",
    "\n",
    "* **Connect**:  Connect to your Wallaroo Instance.\n",
    "* **Create or Connect to a Workspace**:  Create a new workspace that will contain your models and pipelines, or connect to an existing one.\n",
    "* **Upload or Use Existing Models**:  Upload your models to your workspace, or use ones that have already been uploaded.\n",
    "* **Create or Use Existing Pipelines**:  Create or use an existing pipeline.  This is where you'll set the **steps** that will ingest your data, submit it through each successive model, then return a result.\n",
    "* **Deploy Your Pipeline**:  Deploying a pipeline allocates resources from your Kubernetes environment for your models.\n",
    "* **Run an Inference**:  This is where it all comes together.  Submit data through your pipeline either as a file or to your pipeline's deployment url, and get results.\n",
    "* **Undeploy Your Pipeline**:  This returns the Kubernetes resources your pipeline used back to the Kubernetes environment.\n",
    "\n",
    "For a more detailed rundown of the Wallaroo SDK, see the [Wallaroo SDK Essentials Guide](https://docs.wallaroo.ai/wallaroo-sdk/wallaroo-sdk-essentials-guide/)."
   ]
  },
  {
   "cell_type": "markdown",
   "metadata": {},
   "source": [
    "### Introduction to Workspaces\n",
    "\n",
    "A Wallaroo **Workspace** allows you to manage a set of models and pipelines.  You can assign users to a workspace as either an **owner** or **collaborator**.\n",
    "\n",
    "When working within the Wallaroo SDK, the first thing you'll do after connecting is either create a workspace or set an existing workspace your **current workspace**.  From that point on, all models uploaded and pipelines created or used will be in the context of the current workspace."
   ]
  },
  {
   "cell_type": "markdown",
   "metadata": {},
   "source": [
    "### Introduction to Models\n",
    "\n",
    "A Wallaroo **model** is a trained Machine Learning model that is uploaded to your current workspace.  These are the engines that take in data, run it through whatever process they have been trained for, and return a result.\n",
    "\n",
    "Models don't work in a vacuum - they are allocated to a pipeline as detailed in the next step."
   ]
  },
  {
   "cell_type": "markdown",
   "metadata": {},
   "source": [
    "### Introduction to Pipelines\n",
    "\n",
    "A Wallaroo **pipeline** is where the real work occurs.  A pipeline contains a series of **steps** - sequential sets of models which take in the data from the preceding step, process it through the model, then return a result.  Some models can be simple, such as the `cc_fraud` example listed below where the pipeline has only one step:\n",
    "\n",
    "* Step 0: Take in data\n",
    "* Step 1: Submit data to the model `ccfraudModel`.\n",
    "* Step Final:  Return a result\n",
    "\n",
    "Some models can be more complex with a whole series of models - and those results can be submitted to still other pipeline.  You can make pipelines as simple or complex as long as it meets your needs.\n",
    "\n",
    "Once a step is created you can add additional steps, remove a step, or swap one out until everything is running perfectly.\n",
    "\n",
    "**Note**: The Community Edition of Wallaroo limits users to two active pipelines, with a maximum of five steps per pipeline."
   ]
  },
  {
   "cell_type": "markdown",
   "metadata": {},
   "source": [
    "With all of that introduction out of the way, let's proceed to our Credit Card Detection Model.\n",
    "\n",
    "This example will demonstrate how to use Wallaroo to detect credit card fraud through a trained model and sample data.  By the end of this example, you'll be able to:\n",
    "\n",
    "* Start the Wallaroo client.\n",
    "* Create a workspace.\n",
    "* Upload the credit card fraud detection model to the workspace.\n",
    "* Create a new pipeline and set it to our credit card fraud detection model.\n",
    "* Run a smoke test to verify the pipeline and model is working properly.\n",
    "* Perform a bulk inference and display the results.\n",
    "* Undeploy the pipeline to get back the resources from our Kubernetes cluster.\n",
    "\n",
    "This example and sample data comes from the Machine Learning Group's demonstration on [Credit Card Fraud detection](https://www.kaggle.com/datasets/mlg-ulb/creditcardfraud)."
   ]
  },
  {
   "cell_type": "markdown",
   "metadata": {},
   "source": [
    "## Open a Connection to Wallaroo\n",
    "\n",
    "The first step is to connect to Wallaroo through the Wallaroo client.  The Python library is included in the Wallaroo install and available through the Jupyter Hub interface provided with your Wallaroo environment.\n",
    "\n",
    "This is accomplished using the `wallaroo.Client()` command, which provides a URL to grant the SDK permission to your specific Wallaroo environment.  When displayed, enter the URL into a browser and confirm permissions.  Store the connection into a variable that can be referenced later.\n",
    "\n",
    "If logging into the Wallaroo instance through the internal JupyterHub service, use `wl = wallaroo.Client()`.  If logging in externally, update the `wallarooPrefix` and `wallarooSuffix` variables with the proper DNS information.  For more information on Wallaroo DNS settings, see the [Wallaroo DNS Integration Guide](https://docs.wallaroo.ai/wallaroo-operations-guide/wallaroo-configuration/wallaroo-dns-guide/)."
   ]
  },
  {
   "cell_type": "code",
   "execution_count": 1,
   "metadata": {},
   "outputs": [],
   "source": [
    "import wallaroo\n",
    "from wallaroo.object import EntityNotFoundError\n",
    "\n",
    "import pyarrow as pa\n",
    "\n",
    "# used to display dataframe information without truncating\n",
    "from IPython.display import display\n",
    "import pandas as pd\n",
    "pd.set_option('display.max_colwidth', None)"
   ]
  },
  {
   "cell_type": "code",
   "execution_count": 2,
   "metadata": {},
   "outputs": [
    {
     "data": {
      "text/plain": [
       "'2023.3.0+d466f08d4'"
      ]
     },
     "execution_count": 2,
     "metadata": {},
     "output_type": "execute_result"
    }
   ],
   "source": [
    "wallaroo.__version__"
   ]
  },
  {
   "cell_type": "code",
   "execution_count": 4,
   "metadata": {},
   "outputs": [],
   "source": [
    "# Login through local Wallaroo instance\n",
    "\n",
    "wl = wallaroo.Client()"
   ]
  },
  {
   "cell_type": "code",
   "execution_count": 5,
   "metadata": {},
   "outputs": [
    {
     "data": {
      "text/html": [
       "\n",
       "        <table>\n",
       "            <tr>\n",
       "                <th>Name</th>\n",
       "                <th>Created At</th>\n",
       "                <th>Users</th>\n",
       "                <th>Models</th>\n",
       "                <th>Pipelines</th>\n",
       "            </tr>\n",
       "            \n",
       "        <tr >\n",
       "            <td>undefined - Default Workspace</td>\n",
       "            <td>2023-07-26 13:38:06</td>\n",
       "            <td>['peter.nehrer+admin@wallaroo.ai']</td>\n",
       "            <td>18</td>\n",
       "            <td>19</td>\n",
       "        </tr>\n",
       "        \n",
       "        </table>\n",
       "        "
      ],
      "text/plain": [
       "[{'name': 'undefined - Default Workspace', 'id': 1, 'archived': False, 'created_by': '1ac7f1ef-2efe-4dda-b98c-c6f04dfac423', 'created_at': '2023-07-26T13:38:06.475806+00:00', 'models': [{'name': 'qjjoccfraudmodel', 'versions': 3, 'owner_id': '\"\"', 'last_update_time': datetime.datetime(2023, 7, 26, 14, 3, 9, 94054, tzinfo=tzutc()), 'created_at': datetime.datetime(2023, 7, 26, 13, 44, 11, 220280, tzinfo=tzutc())}, {'name': 'asyxccfraudmodel', 'versions': 1, 'owner_id': '\"\"', 'last_update_time': datetime.datetime(2023, 7, 26, 14, 5, 20, 774230, tzinfo=tzutc()), 'created_at': datetime.datetime(2023, 7, 26, 14, 5, 20, 774230, tzinfo=tzutc())}, {'name': 'wbvlccfraudmodel', 'versions': 1, 'owner_id': '\"\"', 'last_update_time': datetime.datetime(2023, 7, 26, 16, 59, 0, 232534, tzinfo=tzutc()), 'created_at': datetime.datetime(2023, 7, 26, 16, 59, 0, 232534, tzinfo=tzutc())}, {'name': 'djpsccfraudmodel', 'versions': 1, 'owner_id': '\"\"', 'last_update_time': datetime.datetime(2023, 7, 26, 17, 57, 56, 85512, tzinfo=tzutc()), 'created_at': datetime.datetime(2023, 7, 26, 17, 57, 56, 85512, tzinfo=tzutc())}, {'name': 'dmcsccfraudmodel', 'versions': 1, 'owner_id': '\"\"', 'last_update_time': datetime.datetime(2023, 7, 27, 2, 22, 12, 600552, tzinfo=tzutc()), 'created_at': datetime.datetime(2023, 7, 27, 2, 22, 12, 600552, tzinfo=tzutc())}, {'name': 'tzrzccfraudmodel', 'versions': 1, 'owner_id': '\"\"', 'last_update_time': datetime.datetime(2023, 7, 27, 11, 54, 11, 932798, tzinfo=tzutc()), 'created_at': datetime.datetime(2023, 7, 27, 11, 54, 11, 932798, tzinfo=tzutc())}, {'name': 'ipjyccfraudmodel', 'versions': 1, 'owner_id': '\"\"', 'last_update_time': datetime.datetime(2023, 7, 27, 16, 8, 3, 722868, tzinfo=tzutc()), 'created_at': datetime.datetime(2023, 7, 27, 16, 8, 3, 722868, tzinfo=tzutc())}, {'name': 'qdfmccfraudmodel', 'versions': 1, 'owner_id': '\"\"', 'last_update_time': datetime.datetime(2023, 7, 27, 18, 19, 36, 840331, tzinfo=tzutc()), 'created_at': datetime.datetime(2023, 7, 27, 18, 19, 36, 840331, tzinfo=tzutc())}, {'name': 'nvwiccfraudmodel', 'versions': 1, 'owner_id': '\"\"', 'last_update_time': datetime.datetime(2023, 7, 27, 20, 10, 58, 323579, tzinfo=tzutc()), 'created_at': datetime.datetime(2023, 7, 27, 20, 10, 58, 323579, tzinfo=tzutc())}, {'name': 'jkymccfraudmodel', 'versions': 1, 'owner_id': '\"\"', 'last_update_time': datetime.datetime(2023, 7, 28, 14, 30, 9, 174754, tzinfo=tzutc()), 'created_at': datetime.datetime(2023, 7, 28, 14, 30, 9, 174754, tzinfo=tzutc())}, {'name': 'uxwiccfraudmodel', 'versions': 1, 'owner_id': '\"\"', 'last_update_time': datetime.datetime(2023, 7, 31, 14, 34, 17, 201485, tzinfo=tzutc()), 'created_at': datetime.datetime(2023, 7, 31, 14, 34, 17, 201485, tzinfo=tzutc())}, {'name': 'gvzdccfraudmodel', 'versions': 1, 'owner_id': '\"\"', 'last_update_time': datetime.datetime(2023, 7, 31, 18, 47, 53, 669913, tzinfo=tzutc()), 'created_at': datetime.datetime(2023, 7, 31, 18, 47, 53, 669913, tzinfo=tzutc())}, {'name': 'llluccfraudmodel', 'versions': 1, 'owner_id': '\"\"', 'last_update_time': datetime.datetime(2023, 7, 31, 18, 56, 50, 160908, tzinfo=tzutc()), 'created_at': datetime.datetime(2023, 7, 31, 18, 56, 50, 160908, tzinfo=tzutc())}, {'name': 'wdwiccfraudmodel', 'versions': 1, 'owner_id': '\"\"', 'last_update_time': datetime.datetime(2023, 7, 31, 20, 19, 50, 889155, tzinfo=tzutc()), 'created_at': datetime.datetime(2023, 7, 31, 20, 19, 50, 889155, tzinfo=tzutc())}, {'name': 'urjwccfraudmodel', 'versions': 1, 'owner_id': '\"\"', 'last_update_time': datetime.datetime(2023, 7, 31, 21, 19, 10, 483343, tzinfo=tzutc()), 'created_at': datetime.datetime(2023, 7, 31, 21, 19, 10, 483343, tzinfo=tzutc())}, {'name': 'alohamodelwwgn', 'versions': 1, 'owner_id': '\"\"', 'last_update_time': datetime.datetime(2023, 7, 31, 21, 25, 28, 41266, tzinfo=tzutc()), 'created_at': datetime.datetime(2023, 7, 31, 21, 25, 28, 41266, tzinfo=tzutc())}, {'name': 'ydtqccfraudmodel', 'versions': 1, 'owner_id': '\"\"', 'last_update_time': datetime.datetime(2023, 8, 8, 17, 25, 22, 905557, tzinfo=tzutc()), 'created_at': datetime.datetime(2023, 8, 8, 17, 25, 22, 905557, tzinfo=tzutc())}, {'name': 'alohamodelkogp', 'versions': 1, 'owner_id': '\"\"', 'last_update_time': datetime.datetime(2023, 8, 8, 17, 29, 31, 303093, tzinfo=tzutc()), 'created_at': datetime.datetime(2023, 8, 8, 17, 29, 31, 303093, tzinfo=tzutc())}], 'pipelines': [{'name': 'qjjoccfraudpipeline', 'create_time': datetime.datetime(2023, 7, 26, 13, 44, 18, 314555, tzinfo=tzutc()), 'definition': '[]'}, {'name': 'asyxccfraudpipeline', 'create_time': datetime.datetime(2023, 7, 26, 14, 5, 26, 49882, tzinfo=tzutc()), 'definition': '[]'}, {'name': 'wbvlccfraudpipeline', 'create_time': datetime.datetime(2023, 7, 26, 16, 59, 9, 75356, tzinfo=tzutc()), 'definition': '[]'}, {'name': 'djpsccfraudpipeline', 'create_time': datetime.datetime(2023, 7, 26, 17, 58, 0, 874669, tzinfo=tzutc()), 'definition': '[]'}, {'name': 'dmcsccfraudpipeline', 'create_time': datetime.datetime(2023, 7, 27, 2, 22, 17, 639947, tzinfo=tzutc()), 'definition': '[]'}, {'name': 'tzrzccfraudpipeline', 'create_time': datetime.datetime(2023, 7, 27, 11, 54, 16, 849818, tzinfo=tzutc()), 'definition': '[]'}, {'name': 'ipjyccfraudpipeline', 'create_time': datetime.datetime(2023, 7, 27, 16, 8, 7, 217406, tzinfo=tzutc()), 'definition': '[]'}, {'name': 'qdfmccfraudpipeline', 'create_time': datetime.datetime(2023, 7, 27, 18, 19, 38, 237331, tzinfo=tzutc()), 'definition': '[]'}, {'name': 'nvwiccfraudpipeline', 'create_time': datetime.datetime(2023, 7, 27, 20, 10, 59, 606886, tzinfo=tzutc()), 'definition': '[]'}, {'name': 'jkymccfraudpipeline', 'create_time': datetime.datetime(2023, 7, 28, 14, 30, 12, 577929, tzinfo=tzutc()), 'definition': '[]'}, {'name': 'uxwiccfraudpipeline', 'create_time': datetime.datetime(2023, 7, 31, 14, 34, 21, 566950, tzinfo=tzutc()), 'definition': '[]'}, {'name': 'gvzdccfraudpipeline', 'create_time': datetime.datetime(2023, 7, 31, 18, 47, 57, 101536, tzinfo=tzutc()), 'definition': '[]'}, {'name': 'llluccfraudpipeline', 'create_time': datetime.datetime(2023, 7, 31, 18, 56, 54, 836795, tzinfo=tzutc()), 'definition': '[]'}, {'name': 'wdwiccfraudpipeline', 'create_time': datetime.datetime(2023, 7, 31, 20, 19, 56, 701865, tzinfo=tzutc()), 'definition': '[]'}, {'name': 'wdwiccfraudpipeline-18', 'create_time': datetime.datetime(2023, 7, 31, 20, 27, 47, 846866, tzinfo=tzutc()), 'definition': '[]'}, {'name': 'urjwccfraudpipeline', 'create_time': datetime.datetime(2023, 7, 31, 21, 19, 15, 192404, tzinfo=tzutc()), 'definition': '[]'}, {'name': 'alohapipelinewwgn', 'create_time': datetime.datetime(2023, 7, 31, 21, 25, 6, 398555, tzinfo=tzutc()), 'definition': '[]'}, {'name': 'ydtqccfraudpipeline', 'create_time': datetime.datetime(2023, 8, 8, 17, 25, 30, 333898, tzinfo=tzutc()), 'definition': '[]'}, {'name': 'alohapipelinekogp', 'create_time': datetime.datetime(2023, 8, 8, 17, 29, 21, 211275, tzinfo=tzutc()), 'definition': '[]'}]}]"
      ]
     },
     "execution_count": 5,
     "metadata": {},
     "output_type": "execute_result"
    }
   ],
   "source": [
    "wl.list_workspaces()"
   ]
  },
  {
   "cell_type": "markdown",
   "metadata": {},
   "source": [
    "## Create a New Workspace\n",
    "\n",
    "Next we're going to create a new workspace called `ccfraudworkspace` for our model, then set it as our current workspace context.  We'll be doing this through the SDK, but here's an example of doing it through the Wallaroo dashboard.\n",
    "\n",
    "The method we'll introduce below will either **create** a new workspace if it doesn't exist, or **select** an existing workspace.  So if you create the workspace `ccfraudworkspace` then you're covered either way.\n",
    "\n",
    "The first part is to return to your Wallaroo Dashboard.  In the top navigation panel next to your user name there's a drop down with your workspaces.  In this example it just has \"My Workspace\".  Select **View Workspaces**.\n",
    "\n",
    "![Select View Workspaces](./images/wallaroo-101/wallaroo-dashboard-select-view-workspaces.png)"
   ]
  },
  {
   "cell_type": "markdown",
   "metadata": {},
   "source": [
    "From here, enter the name of our new workspace as `ccfraud-workspace`.  If it already exists, you can skip this step.\n",
    "\n",
    "* **IMPORTANT NOTE**:  Workspaces do not have forced unique names.  It is highly recommended to use an existing workspace when possible, or establish a naming convention for your workspaces to keep their names unique to remove confusion with teams.\n",
    "\n",
    "![Create ccfraud-workspace](./images/wallaroo-101/wallaroo-dashboard-create-workspace-ccfraud.png)"
   ]
  },
  {
   "cell_type": "markdown",
   "metadata": {},
   "source": [
    "Once complete, you'll be able to select the workspace from the drop down list in your dashboard.\n",
    "\n",
    "![ccfraud-workspace exists](./images/wallaroo-101/wallaroo-dashboard-ccfraud-workspace-exists.png)"
   ]
  },
  {
   "cell_type": "markdown",
   "metadata": {},
   "source": [
    "Just for the sake of this tutorial, we'll use the SDK below to create our workspace , assign as our **current workspace**, then display all of the workspaces we have at the moment.  We'll also set up for our models and pipelines down the road, so we have one spot to change names to whatever fits your organization's standards best.\n",
    "\n",
    "To allow this tutorial to be run multiple times or by multiple users in the same Wallaroo instance, a random 4 character prefix will be added to the workspace, pipeline, and model.\n",
    "\n",
    "When we create our new workspace, we'll save it in the Python variable `workspace` so we can refer to it as needed."
   ]
  },
  {
   "cell_type": "code",
   "execution_count": 6,
   "metadata": {},
   "outputs": [
    {
     "data": {
      "text/html": [
       "<table><tr><th>name</th><th>created</th><th>last_updated</th><th>deployed</th><th>tags</th><th>versions</th><th>steps</th></tr><tr><td>alohapipelinekogp</td><td>2023-08-Aug 17:29:21</td><td>2023-08-Aug 17:29:42</td><td>False</td><td></td><td>c207c099-b5de-449a-86db-24dc71badd02, 36cc5aff-af45-4230-9a52-5f6cdaca2f1f</td><td>alohamodelkogp</td></tr><tr><td>ydtqccfraudpipeline</td><td>2023-08-Aug 17:25:30</td><td>2023-08-Aug 17:25:43</td><td>False</td><td></td><td>9febbaa6-9503-4a5c-8acf-4816e747face, ccc5a154-511a-4542-96f3-568c7d64392e</td><td>ydtqccfraudmodel</td></tr><tr><td>alohapipelinewwgn</td><td>2023-31-Jul 21:25:06</td><td>2023-31-Jul 21:26:24</td><td>False</td><td></td><td>fd36d36c-d863-4bbe-ae6b-8078a589aefe, 9cdc6f60-aab2-417a-ba13-aafe088c78e6</td><td>alohamodelwwgn</td></tr><tr><td>urjwccfraudpipeline</td><td>2023-31-Jul 21:19:15</td><td>2023-31-Jul 21:19:34</td><td>False</td><td></td><td>8d8f8162-1215-4076-b727-8b85fdec42ff, 4c7e2165-5953-44f6-a3b3-81d74e39006c</td><td>urjwccfraudmodel</td></tr><tr><td>wdwiccfraudpipeline-18</td><td>2023-31-Jul 20:27:47</td><td>2023-31-Jul 20:27:47</td><td>(unknown)</td><td></td><td>48a23529-dd55-460e-9648-da2034eb78dc</td><td></td></tr><tr><td>wdwiccfraudpipeline</td><td>2023-31-Jul 20:19:56</td><td>2023-31-Jul 20:20:30</td><td>False</td><td></td><td>7a5aa87c-82fa-4706-95a0-9df5a3091475, f6903b82-a558-45c2-a109-74a490ec1d42</td><td>wdwiccfraudmodel</td></tr><tr><td>llluccfraudpipeline</td><td>2023-31-Jul 18:56:54</td><td>2023-31-Jul 18:57:44</td><td>False</td><td></td><td>0f77ea44-7006-4b71-b637-80fc10b462d4, 95ce10c7-6390-4dd9-ac13-ba5630e244ce</td><td>llluccfraudmodel</td></tr><tr><td>gvzdccfraudpipeline</td><td>2023-31-Jul 18:47:57</td><td>2023-31-Jul 18:47:57</td><td>(unknown)</td><td></td><td>6731d838-832c-4aee-9da9-a5866d2cd290</td><td></td></tr><tr><td>uxwiccfraudpipeline</td><td>2023-31-Jul 14:34:21</td><td>2023-31-Jul 14:35:04</td><td>False</td><td></td><td>064fd2b5-f93f-424b-b808-dae0937ebc6e, d4e0d770-2dc8-4bc8-a671-894571ca51c5</td><td>uxwiccfraudmodel</td></tr><tr><td>jkymccfraudpipeline</td><td>2023-28-Jul 14:30:12</td><td>2023-28-Jul 14:30:17</td><td>False</td><td></td><td>ee4fbfab-1060-4dad-a5d6-02a80a841e9f, 653b2687-78fd-4bc6-8d0b-b530748445f6</td><td>jkymccfraudmodel</td></tr><tr><td>nvwiccfraudpipeline</td><td>2023-27-Jul 20:10:59</td><td>2023-27-Jul 20:11:02</td><td>False</td><td></td><td>9e4fc0cd-e681-4bb2-abc2-4cd8185ea242, c22428a6-046c-4638-a20a-f51d081dbfa8</td><td>nvwiccfraudmodel</td></tr><tr><td>qdfmccfraudpipeline</td><td>2023-27-Jul 18:19:38</td><td>2023-27-Jul 18:19:41</td><td>False</td><td></td><td>a9c44eba-f50c-4ccc-a4eb-5c5d2df8b146, 34930d8c-e867-4e0d-a1c9-b458de7a8f57</td><td>qdfmccfraudmodel</td></tr><tr><td>ipjyccfraudpipeline</td><td>2023-27-Jul 16:08:07</td><td>2023-27-Jul 16:08:13</td><td>False</td><td></td><td>497afa9d-d268-488a-a7ad-2c9a9d2e13f1, 00226eb5-9a8a-4e87-9acd-2558e098ea55</td><td>ipjyccfraudmodel</td></tr><tr><td>tzrzccfraudpipeline</td><td>2023-27-Jul 11:54:16</td><td>2023-27-Jul 11:54:22</td><td>False</td><td></td><td>979d4ca1-1c85-4ca2-b5d9-5b0f809d267b, ba8d947c-a754-4b57-a82e-a1c3fa38f568</td><td>tzrzccfraudmodel</td></tr><tr><td>dmcsccfraudpipeline</td><td>2023-27-Jul 02:22:17</td><td>2023-27-Jul 11:53:09</td><td>False</td><td></td><td>4529f4bb-2b1c-47ff-8771-c7c5cf2ec149, 517b5b91-ca88-4c7a-84cd-57174d338a33, e914224b-6a5b-4b6d-a14d-a9ca9bf2a47b</td><td>dmcsccfraudmodel</td></tr><tr><td>djpsccfraudpipeline</td><td>2023-26-Jul 17:58:00</td><td>2023-26-Jul 17:58:07</td><td>False</td><td></td><td>d19e80cb-8e4d-400a-84da-c75dbbc99b85, a65c2a76-06ef-4a62-8016-77649b664ec9</td><td>djpsccfraudmodel</td></tr><tr><td>wbvlccfraudpipeline</td><td>2023-26-Jul 16:59:09</td><td>2023-26-Jul 16:59:21</td><td>False</td><td></td><td>dc8b2898-e8ee-4723-855b-f7de9b1cc329, 5e6a9408-2d83-47f5-8d28-bb7b77e317f7</td><td>wbvlccfraudmodel</td></tr><tr><td>asyxccfraudpipeline</td><td>2023-26-Jul 14:05:26</td><td>2023-26-Jul 14:48:14</td><td>False</td><td></td><td>d04f7d72-e431-4fa0-a7d5-f2dee8e7d7c4, 27af6a12-89fe-41f4-b2f4-f36ac6e48ec3, e6ec118f-11a6-4085-b243-6624f1464303, 77c9d857-db5c-46b3-84a4-5f8bde55c5f2</td><td>asyxccfraudmodel</td></tr><tr><td>qjjoccfraudpipeline</td><td>2023-26-Jul 13:44:18</td><td>2023-26-Jul 14:03:34</td><td>False</td><td></td><td>e70e4030-bc68-4b0e-bbc8-50936474a201, 0eb3d473-6320-4654-b0b6-4ec6b6010ab1, 3c28fafd-8a69-4991-ba11-570f83f14d30, 177b109d-8a24-478d-a66f-cdfdeb74544f</td><td>qjjoccfraudmodel</td></tr></table>"
      ],
      "text/plain": [
       "[{'name': 'alohapipelinekogp', 'create_time': datetime.datetime(2023, 8, 8, 17, 29, 21, 211275, tzinfo=tzutc()), 'definition': '[]'},\n",
       " {'name': 'ydtqccfraudpipeline', 'create_time': datetime.datetime(2023, 8, 8, 17, 25, 30, 333898, tzinfo=tzutc()), 'definition': '[]'},\n",
       " {'name': 'alohapipelinewwgn', 'create_time': datetime.datetime(2023, 7, 31, 21, 25, 6, 398555, tzinfo=tzutc()), 'definition': '[]'},\n",
       " {'name': 'urjwccfraudpipeline', 'create_time': datetime.datetime(2023, 7, 31, 21, 19, 15, 192404, tzinfo=tzutc()), 'definition': '[]'},\n",
       " {'name': 'wdwiccfraudpipeline-18', 'create_time': datetime.datetime(2023, 7, 31, 20, 27, 47, 846866, tzinfo=tzutc()), 'definition': '[]'},\n",
       " {'name': 'wdwiccfraudpipeline', 'create_time': datetime.datetime(2023, 7, 31, 20, 19, 56, 701865, tzinfo=tzutc()), 'definition': '[]'},\n",
       " {'name': 'llluccfraudpipeline', 'create_time': datetime.datetime(2023, 7, 31, 18, 56, 54, 836795, tzinfo=tzutc()), 'definition': '[]'},\n",
       " {'name': 'gvzdccfraudpipeline', 'create_time': datetime.datetime(2023, 7, 31, 18, 47, 57, 101536, tzinfo=tzutc()), 'definition': '[]'},\n",
       " {'name': 'uxwiccfraudpipeline', 'create_time': datetime.datetime(2023, 7, 31, 14, 34, 21, 566950, tzinfo=tzutc()), 'definition': '[]'},\n",
       " {'name': 'jkymccfraudpipeline', 'create_time': datetime.datetime(2023, 7, 28, 14, 30, 12, 577929, tzinfo=tzutc()), 'definition': '[]'},\n",
       " {'name': 'nvwiccfraudpipeline', 'create_time': datetime.datetime(2023, 7, 27, 20, 10, 59, 606886, tzinfo=tzutc()), 'definition': '[]'},\n",
       " {'name': 'qdfmccfraudpipeline', 'create_time': datetime.datetime(2023, 7, 27, 18, 19, 38, 237331, tzinfo=tzutc()), 'definition': '[]'},\n",
       " {'name': 'ipjyccfraudpipeline', 'create_time': datetime.datetime(2023, 7, 27, 16, 8, 7, 217406, tzinfo=tzutc()), 'definition': '[]'},\n",
       " {'name': 'tzrzccfraudpipeline', 'create_time': datetime.datetime(2023, 7, 27, 11, 54, 16, 849818, tzinfo=tzutc()), 'definition': '[]'},\n",
       " {'name': 'dmcsccfraudpipeline', 'create_time': datetime.datetime(2023, 7, 27, 2, 22, 17, 639947, tzinfo=tzutc()), 'definition': '[]'},\n",
       " {'name': 'djpsccfraudpipeline', 'create_time': datetime.datetime(2023, 7, 26, 17, 58, 0, 874669, tzinfo=tzutc()), 'definition': '[]'},\n",
       " {'name': 'wbvlccfraudpipeline', 'create_time': datetime.datetime(2023, 7, 26, 16, 59, 9, 75356, tzinfo=tzutc()), 'definition': '[]'},\n",
       " {'name': 'asyxccfraudpipeline', 'create_time': datetime.datetime(2023, 7, 26, 14, 5, 26, 49882, tzinfo=tzutc()), 'definition': '[]'},\n",
       " {'name': 'qjjoccfraudpipeline', 'create_time': datetime.datetime(2023, 7, 26, 13, 44, 18, 314555, tzinfo=tzutc()), 'definition': '[]'}]"
      ]
     },
     "execution_count": 6,
     "metadata": {},
     "output_type": "execute_result"
    }
   ],
   "source": [
    "wl.list_pipelines()"
   ]
  },
  {
   "cell_type": "code",
   "execution_count": 7,
   "metadata": {},
   "outputs": [],
   "source": [
    "import string\n",
    "import random\n",
    "\n",
    "# make a random 4 character prefix\n",
    "prefix= ''.join(random.choice(string.ascii_lowercase) for i in range(4))\n",
    "workspace_name = f'{prefix}ccfraudworkspace'\n",
    "# workspace_name = \"qjjoccfraudworkspace\"\n",
    "pipeline_name = f'{prefix}ccfraudpipeline'\n",
    "# pipeline_name = \"qjjoccfraudpipeline\"\n",
    "model_name = f'{prefix}ccfraudmodel'\n",
    "# model_name = \"qjjoccfraudmodel\"\n",
    "model_file_name = './ccfraud.onnx'"
   ]
  },
  {
   "cell_type": "code",
   "execution_count": 8,
   "metadata": {},
   "outputs": [],
   "source": [
    "def get_workspace(name):\n",
    "    workspace = None\n",
    "    for ws in wl.list_workspaces():\n",
    "        if ws.name() == name:\n",
    "            workspace= ws\n",
    "    if(workspace == None):\n",
    "        workspace = wl.create_workspace(name)\n",
    "    return workspace\n",
    "\n",
    "def get_pipeline(name):\n",
    "    try:\n",
    "        pipeline = wl.pipelines_by_name(name)[0]\n",
    "    except EntityNotFoundError:\n",
    "        pipeline = wl.build_pipeline(name)\n",
    "    return pipeline"
   ]
  },
  {
   "cell_type": "code",
   "execution_count": 8,
   "metadata": {},
   "outputs": [],
   "source": [
    "workspace = get_workspace(workspace_name)\n",
    "\n",
    "#wl.set_current_workspace(workspace)"
   ]
  },
  {
   "cell_type": "code",
   "execution_count": 9,
   "metadata": {},
   "outputs": [
    {
     "data": {
      "text/html": [
       "\n",
       "        <table>\n",
       "            <tr>\n",
       "                <th>Name</th>\n",
       "                <th>Created At</th>\n",
       "                <th>Users</th>\n",
       "                <th>Models</th>\n",
       "                <th>Pipelines</th>\n",
       "            </tr>\n",
       "            \n",
       "        <tr >\n",
       "            <td>undefined - Default Workspace</td>\n",
       "            <td>2023-07-26 13:38:06</td>\n",
       "            <td>['peter.nehrer+admin@wallaroo.ai']</td>\n",
       "            <td>0</td>\n",
       "            <td>0</td>\n",
       "        </tr>\n",
       "        \n",
       "        </table>\n",
       "        "
      ],
      "text/plain": [
       "[{'name': 'undefined - Default Workspace', 'id': 1, 'archived': False, 'created_by': '1ac7f1ef-2efe-4dda-b98c-c6f04dfac423', 'created_at': '2023-07-26T13:38:06.475806+00:00', 'models': [], 'pipelines': []}]"
      ]
     },
     "execution_count": 9,
     "metadata": {},
     "output_type": "execute_result"
    }
   ],
   "source": [
    "wl.list_workspaces()"
   ]
  },
  {
   "cell_type": "markdown",
   "metadata": {},
   "source": [
    "Just to make sure, let's list our current workspace.  If everything is going right, it will show us we're in the `ccfraud-workspace` with the appropriate prefix."
   ]
  },
  {
   "cell_type": "code",
   "execution_count": 10,
   "metadata": {},
   "outputs": [
    {
     "data": {
      "text/plain": [
       "{'name': 'qjjoccfraudworkspace', 'id': 18, 'archived': False, 'created_by': '028c8b48-c39b-4578-9110-0b5bdd3824da', 'created_at': '2023-05-17T21:31:31.410613+00:00', 'models': [], 'pipelines': []}"
      ]
     },
     "execution_count": 10,
     "metadata": {},
     "output_type": "execute_result"
    }
   ],
   "source": [
    "wl.set_current_workspace(workspace)\n",
    "wl.get_current_workspace()"
   ]
  },
  {
   "cell_type": "markdown",
   "metadata": {},
   "source": [
    "## Upload a model\n",
    "\n",
    "Our workspace is created.  Let's upload our credit card fraud model to it.  This is the file name `ccfraud.onnx`, and we'll upload it as `ccfraudmodel`.  The credit card fraud model is trained to detect credit card fraud based on a 0 to 1 model:  The closer to 0 the less likely the transactions indicate fraud, while the closer to 1 the more likely the transactions indicate fraud.\n",
    "\n",
    "\n",
    "Since we're already in our default workspace `ccfraudworkspace`, it'll be uploaded right to there.  Once that's done uploading, we'll list out all of the models currently deployed so we can see it included."
   ]
  },
  {
   "cell_type": "code",
   "execution_count": 9,
   "metadata": {},
   "outputs": [],
   "source": [
    "ccfraud_model = wl.upload_model(model_name, model_file_name, wallaroo.framework.Framework.ONNX).configure()"
   ]
  },
  {
   "cell_type": "markdown",
   "metadata": {},
   "source": [
    "We can verify that our model was uploaded by listing the models uploaded to our Wallaroo instance with the `list_models()` command.  Note that since we uploaded this model before, we now have different versions of it we can use for our testing."
   ]
  },
  {
   "cell_type": "code",
   "execution_count": 10,
   "metadata": {},
   "outputs": [
    {
     "data": {
      "text/html": [
       "\n",
       "          <table>\n",
       "            <tr>\n",
       "              <th>Name</th>\n",
       "              <th># of Versions</th>\n",
       "              <th>Owner ID</th>\n",
       "              <th>Last Updated</th>\n",
       "              <th>Created At</th>\n",
       "            </tr>\n",
       "            \n",
       "            <tr>\n",
       "              <td>vpzfccfraudmodel</td>\n",
       "              <td>1</td>\n",
       "              <td>\"\"</td>\n",
       "              <td>2023-08-09 19:33:23.844571+00:00</td>\n",
       "              <td>2023-08-09 19:33:23.844571+00:00</td>\n",
       "            </tr>\n",
       "           \n",
       "            <tr>\n",
       "              <td>alohamodelkogp</td>\n",
       "              <td>1</td>\n",
       "              <td>\"\"</td>\n",
       "              <td>2023-08-08 17:29:31.303093+00:00</td>\n",
       "              <td>2023-08-08 17:29:31.303093+00:00</td>\n",
       "            </tr>\n",
       "           \n",
       "            <tr>\n",
       "              <td>ydtqccfraudmodel</td>\n",
       "              <td>1</td>\n",
       "              <td>\"\"</td>\n",
       "              <td>2023-08-08 17:25:22.905557+00:00</td>\n",
       "              <td>2023-08-08 17:25:22.905557+00:00</td>\n",
       "            </tr>\n",
       "           \n",
       "            <tr>\n",
       "              <td>alohamodelwwgn</td>\n",
       "              <td>1</td>\n",
       "              <td>\"\"</td>\n",
       "              <td>2023-07-31 21:25:28.041266+00:00</td>\n",
       "              <td>2023-07-31 21:25:28.041266+00:00</td>\n",
       "            </tr>\n",
       "           \n",
       "            <tr>\n",
       "              <td>urjwccfraudmodel</td>\n",
       "              <td>1</td>\n",
       "              <td>\"\"</td>\n",
       "              <td>2023-07-31 21:19:10.483343+00:00</td>\n",
       "              <td>2023-07-31 21:19:10.483343+00:00</td>\n",
       "            </tr>\n",
       "           \n",
       "            <tr>\n",
       "              <td>wdwiccfraudmodel</td>\n",
       "              <td>1</td>\n",
       "              <td>\"\"</td>\n",
       "              <td>2023-07-31 20:19:50.889155+00:00</td>\n",
       "              <td>2023-07-31 20:19:50.889155+00:00</td>\n",
       "            </tr>\n",
       "           \n",
       "            <tr>\n",
       "              <td>llluccfraudmodel</td>\n",
       "              <td>1</td>\n",
       "              <td>\"\"</td>\n",
       "              <td>2023-07-31 18:56:50.160908+00:00</td>\n",
       "              <td>2023-07-31 18:56:50.160908+00:00</td>\n",
       "            </tr>\n",
       "           \n",
       "            <tr>\n",
       "              <td>gvzdccfraudmodel</td>\n",
       "              <td>1</td>\n",
       "              <td>\"\"</td>\n",
       "              <td>2023-07-31 18:47:53.669913+00:00</td>\n",
       "              <td>2023-07-31 18:47:53.669913+00:00</td>\n",
       "            </tr>\n",
       "           \n",
       "            <tr>\n",
       "              <td>uxwiccfraudmodel</td>\n",
       "              <td>1</td>\n",
       "              <td>\"\"</td>\n",
       "              <td>2023-07-31 14:34:17.201485+00:00</td>\n",
       "              <td>2023-07-31 14:34:17.201485+00:00</td>\n",
       "            </tr>\n",
       "           \n",
       "            <tr>\n",
       "              <td>jkymccfraudmodel</td>\n",
       "              <td>1</td>\n",
       "              <td>\"\"</td>\n",
       "              <td>2023-07-28 14:30:09.174754+00:00</td>\n",
       "              <td>2023-07-28 14:30:09.174754+00:00</td>\n",
       "            </tr>\n",
       "           \n",
       "            <tr>\n",
       "              <td>nvwiccfraudmodel</td>\n",
       "              <td>1</td>\n",
       "              <td>\"\"</td>\n",
       "              <td>2023-07-27 20:10:58.323579+00:00</td>\n",
       "              <td>2023-07-27 20:10:58.323579+00:00</td>\n",
       "            </tr>\n",
       "           \n",
       "            <tr>\n",
       "              <td>qdfmccfraudmodel</td>\n",
       "              <td>1</td>\n",
       "              <td>\"\"</td>\n",
       "              <td>2023-07-27 18:19:36.840331+00:00</td>\n",
       "              <td>2023-07-27 18:19:36.840331+00:00</td>\n",
       "            </tr>\n",
       "           \n",
       "            <tr>\n",
       "              <td>ipjyccfraudmodel</td>\n",
       "              <td>1</td>\n",
       "              <td>\"\"</td>\n",
       "              <td>2023-07-27 16:08:03.722868+00:00</td>\n",
       "              <td>2023-07-27 16:08:03.722868+00:00</td>\n",
       "            </tr>\n",
       "           \n",
       "            <tr>\n",
       "              <td>tzrzccfraudmodel</td>\n",
       "              <td>1</td>\n",
       "              <td>\"\"</td>\n",
       "              <td>2023-07-27 11:54:11.932798+00:00</td>\n",
       "              <td>2023-07-27 11:54:11.932798+00:00</td>\n",
       "            </tr>\n",
       "           \n",
       "            <tr>\n",
       "              <td>dmcsccfraudmodel</td>\n",
       "              <td>1</td>\n",
       "              <td>\"\"</td>\n",
       "              <td>2023-07-27 02:22:12.600552+00:00</td>\n",
       "              <td>2023-07-27 02:22:12.600552+00:00</td>\n",
       "            </tr>\n",
       "           \n",
       "            <tr>\n",
       "              <td>djpsccfraudmodel</td>\n",
       "              <td>1</td>\n",
       "              <td>\"\"</td>\n",
       "              <td>2023-07-26 17:57:56.085512+00:00</td>\n",
       "              <td>2023-07-26 17:57:56.085512+00:00</td>\n",
       "            </tr>\n",
       "           \n",
       "            <tr>\n",
       "              <td>wbvlccfraudmodel</td>\n",
       "              <td>1</td>\n",
       "              <td>\"\"</td>\n",
       "              <td>2023-07-26 16:59:00.232534+00:00</td>\n",
       "              <td>2023-07-26 16:59:00.232534+00:00</td>\n",
       "            </tr>\n",
       "           \n",
       "            <tr>\n",
       "              <td>asyxccfraudmodel</td>\n",
       "              <td>1</td>\n",
       "              <td>\"\"</td>\n",
       "              <td>2023-07-26 14:05:20.774230+00:00</td>\n",
       "              <td>2023-07-26 14:05:20.774230+00:00</td>\n",
       "            </tr>\n",
       "           \n",
       "            <tr>\n",
       "              <td>qjjoccfraudmodel</td>\n",
       "              <td>3</td>\n",
       "              <td>\"\"</td>\n",
       "              <td>2023-07-26 14:03:09.094054+00:00</td>\n",
       "              <td>2023-07-26 13:44:11.220280+00:00</td>\n",
       "            </tr>\n",
       "          \n",
       "          </table>\n",
       "        "
      ],
      "text/plain": [
       "[{'name': 'vpzfccfraudmodel', 'versions': 1, 'owner_id': '\"\"', 'last_update_time': datetime.datetime(2023, 8, 9, 19, 33, 23, 844571, tzinfo=tzutc()), 'created_at': datetime.datetime(2023, 8, 9, 19, 33, 23, 844571, tzinfo=tzutc())},\n",
       " {'name': 'alohamodelkogp', 'versions': 1, 'owner_id': '\"\"', 'last_update_time': datetime.datetime(2023, 8, 8, 17, 29, 31, 303093, tzinfo=tzutc()), 'created_at': datetime.datetime(2023, 8, 8, 17, 29, 31, 303093, tzinfo=tzutc())},\n",
       " {'name': 'ydtqccfraudmodel', 'versions': 1, 'owner_id': '\"\"', 'last_update_time': datetime.datetime(2023, 8, 8, 17, 25, 22, 905557, tzinfo=tzutc()), 'created_at': datetime.datetime(2023, 8, 8, 17, 25, 22, 905557, tzinfo=tzutc())},\n",
       " {'name': 'alohamodelwwgn', 'versions': 1, 'owner_id': '\"\"', 'last_update_time': datetime.datetime(2023, 7, 31, 21, 25, 28, 41266, tzinfo=tzutc()), 'created_at': datetime.datetime(2023, 7, 31, 21, 25, 28, 41266, tzinfo=tzutc())},\n",
       " {'name': 'urjwccfraudmodel', 'versions': 1, 'owner_id': '\"\"', 'last_update_time': datetime.datetime(2023, 7, 31, 21, 19, 10, 483343, tzinfo=tzutc()), 'created_at': datetime.datetime(2023, 7, 31, 21, 19, 10, 483343, tzinfo=tzutc())},\n",
       " {'name': 'wdwiccfraudmodel', 'versions': 1, 'owner_id': '\"\"', 'last_update_time': datetime.datetime(2023, 7, 31, 20, 19, 50, 889155, tzinfo=tzutc()), 'created_at': datetime.datetime(2023, 7, 31, 20, 19, 50, 889155, tzinfo=tzutc())},\n",
       " {'name': 'llluccfraudmodel', 'versions': 1, 'owner_id': '\"\"', 'last_update_time': datetime.datetime(2023, 7, 31, 18, 56, 50, 160908, tzinfo=tzutc()), 'created_at': datetime.datetime(2023, 7, 31, 18, 56, 50, 160908, tzinfo=tzutc())},\n",
       " {'name': 'gvzdccfraudmodel', 'versions': 1, 'owner_id': '\"\"', 'last_update_time': datetime.datetime(2023, 7, 31, 18, 47, 53, 669913, tzinfo=tzutc()), 'created_at': datetime.datetime(2023, 7, 31, 18, 47, 53, 669913, tzinfo=tzutc())},\n",
       " {'name': 'uxwiccfraudmodel', 'versions': 1, 'owner_id': '\"\"', 'last_update_time': datetime.datetime(2023, 7, 31, 14, 34, 17, 201485, tzinfo=tzutc()), 'created_at': datetime.datetime(2023, 7, 31, 14, 34, 17, 201485, tzinfo=tzutc())},\n",
       " {'name': 'jkymccfraudmodel', 'versions': 1, 'owner_id': '\"\"', 'last_update_time': datetime.datetime(2023, 7, 28, 14, 30, 9, 174754, tzinfo=tzutc()), 'created_at': datetime.datetime(2023, 7, 28, 14, 30, 9, 174754, tzinfo=tzutc())},\n",
       " {'name': 'nvwiccfraudmodel', 'versions': 1, 'owner_id': '\"\"', 'last_update_time': datetime.datetime(2023, 7, 27, 20, 10, 58, 323579, tzinfo=tzutc()), 'created_at': datetime.datetime(2023, 7, 27, 20, 10, 58, 323579, tzinfo=tzutc())},\n",
       " {'name': 'qdfmccfraudmodel', 'versions': 1, 'owner_id': '\"\"', 'last_update_time': datetime.datetime(2023, 7, 27, 18, 19, 36, 840331, tzinfo=tzutc()), 'created_at': datetime.datetime(2023, 7, 27, 18, 19, 36, 840331, tzinfo=tzutc())},\n",
       " {'name': 'ipjyccfraudmodel', 'versions': 1, 'owner_id': '\"\"', 'last_update_time': datetime.datetime(2023, 7, 27, 16, 8, 3, 722868, tzinfo=tzutc()), 'created_at': datetime.datetime(2023, 7, 27, 16, 8, 3, 722868, tzinfo=tzutc())},\n",
       " {'name': 'tzrzccfraudmodel', 'versions': 1, 'owner_id': '\"\"', 'last_update_time': datetime.datetime(2023, 7, 27, 11, 54, 11, 932798, tzinfo=tzutc()), 'created_at': datetime.datetime(2023, 7, 27, 11, 54, 11, 932798, tzinfo=tzutc())},\n",
       " {'name': 'dmcsccfraudmodel', 'versions': 1, 'owner_id': '\"\"', 'last_update_time': datetime.datetime(2023, 7, 27, 2, 22, 12, 600552, tzinfo=tzutc()), 'created_at': datetime.datetime(2023, 7, 27, 2, 22, 12, 600552, tzinfo=tzutc())},\n",
       " {'name': 'djpsccfraudmodel', 'versions': 1, 'owner_id': '\"\"', 'last_update_time': datetime.datetime(2023, 7, 26, 17, 57, 56, 85512, tzinfo=tzutc()), 'created_at': datetime.datetime(2023, 7, 26, 17, 57, 56, 85512, tzinfo=tzutc())},\n",
       " {'name': 'wbvlccfraudmodel', 'versions': 1, 'owner_id': '\"\"', 'last_update_time': datetime.datetime(2023, 7, 26, 16, 59, 0, 232534, tzinfo=tzutc()), 'created_at': datetime.datetime(2023, 7, 26, 16, 59, 0, 232534, tzinfo=tzutc())},\n",
       " {'name': 'asyxccfraudmodel', 'versions': 1, 'owner_id': '\"\"', 'last_update_time': datetime.datetime(2023, 7, 26, 14, 5, 20, 774230, tzinfo=tzutc()), 'created_at': datetime.datetime(2023, 7, 26, 14, 5, 20, 774230, tzinfo=tzutc())},\n",
       " {'name': 'qjjoccfraudmodel', 'versions': 3, 'owner_id': '\"\"', 'last_update_time': datetime.datetime(2023, 7, 26, 14, 3, 9, 94054, tzinfo=tzutc()), 'created_at': datetime.datetime(2023, 7, 26, 13, 44, 11, 220280, tzinfo=tzutc())}]"
      ]
     },
     "execution_count": 10,
     "metadata": {},
     "output_type": "execute_result"
    }
   ],
   "source": [
    "wl.list_models()"
   ]
  },
  {
   "cell_type": "markdown",
   "metadata": {},
   "source": [
    "## Create a Pipeline\n",
    "\n",
    "With our model uploaded, time to create our pipeline and deploy it so it can accept data and process it through our `ccfraudmodel`.  We'll call our pipeline `ccfraudpipeline`.\n",
    "\n",
    "* **NOTE**:  Pipeline names must be unique.  If two pipelines are assigned the same name, the new pipeline is created as a new **version** of the pipeline."
   ]
  },
  {
   "cell_type": "code",
   "execution_count": 11,
   "metadata": {},
   "outputs": [
    {
     "data": {
      "text/html": [
       "<table><tr><th>name</th> <td>vpzfccfraudpipeline</td></tr><tr><th>created</th> <td>2023-08-09 19:33:35.076256+00:00</td></tr><tr><th>last_updated</th> <td>2023-08-09 19:33:35.076256+00:00</td></tr><tr><th>deployed</th> <td>(none)</td></tr><tr><th>tags</th> <td></td></tr><tr><th>versions</th> <td>020505b3-f203-41f5-9c71-3e227ec20ac1</td></tr><tr><th>steps</th> <td></td></tr></table>"
      ],
      "text/plain": [
       "{'name': 'vpzfccfraudpipeline', 'create_time': datetime.datetime(2023, 8, 9, 19, 33, 35, 76256, tzinfo=tzutc()), 'definition': '[]'}"
      ]
     },
     "execution_count": 11,
     "metadata": {},
     "output_type": "execute_result"
    }
   ],
   "source": [
    "ccfraud_pipeline = get_pipeline(pipeline_name)\n",
    "ccfraud_pipeline.clear()"
   ]
  },
  {
   "cell_type": "markdown",
   "metadata": {},
   "source": [
    "Now our pipeline is set.  Let's add a single **step** to it - in this case, our `ccfraud_model` that we uploaded to our workspace."
   ]
  },
  {
   "cell_type": "code",
   "execution_count": 12,
   "metadata": {},
   "outputs": [
    {
     "data": {
      "text/html": [
       "<table><tr><th>name</th> <td>vpzfccfraudpipeline</td></tr><tr><th>created</th> <td>2023-08-09 19:33:35.076256+00:00</td></tr><tr><th>last_updated</th> <td>2023-08-09 19:33:35.076256+00:00</td></tr><tr><th>deployed</th> <td>(none)</td></tr><tr><th>tags</th> <td></td></tr><tr><th>versions</th> <td>020505b3-f203-41f5-9c71-3e227ec20ac1</td></tr><tr><th>steps</th> <td></td></tr></table>"
      ],
      "text/plain": [
       "{'name': 'vpzfccfraudpipeline', 'create_time': datetime.datetime(2023, 8, 9, 19, 33, 35, 76256, tzinfo=tzutc()), 'definition': \"[{'ModelInference': {'models': [{'name': 'vpzfccfraudmodel', 'version': 'b4aed6c6-dd44-4bb1-b992-685d361536df', 'sha': 'bc85ce596945f876256f41515c7501c399fd97ebcb9ab3dd41bf03f8937b4507'}]}}]\"}"
      ]
     },
     "execution_count": 12,
     "metadata": {},
     "output_type": "execute_result"
    }
   ],
   "source": [
    "ccfraud_pipeline.add_model_step(ccfraud_model)"
   ]
  },
  {
   "cell_type": "markdown",
   "metadata": {},
   "source": [
    "And now we can deploy our pipeline and assign resources to it.  This typically takes about 45 seconds once the command is issued."
   ]
  },
  {
   "cell_type": "code",
   "execution_count": 14,
   "metadata": {},
   "outputs": [
    {
     "data": {
      "text/plain": [
       "{'engine': {'cpu': 1,\n",
       "  'resources': {'limits': {'cpu': 1, 'memory': '1Gi'},\n",
       "   'requests': {'cpu': 1, 'memory': '1Gi'}},\n",
       "  'arch': 'arm'},\n",
       " 'enginelb': {},\n",
       " 'engineAux': {'images': {}},\n",
       " 'node_selector': {}}"
      ]
     },
     "execution_count": 14,
     "metadata": {},
     "output_type": "execute_result"
    }
   ],
   "source": [
    "from wallaroo.engine_config import Architecture\n",
    "deployment_config = wallaroo.deployment_config.DeploymentConfigBuilder().cpus(1).memory('1Gi').arch(Architecture.ARM).build()\n",
    "deployment_config"
   ]
  },
  {
   "cell_type": "code",
   "execution_count": 15,
   "metadata": {},
   "outputs": [
    {
     "name": "stdout",
     "output_type": "stream",
     "text": [
      "Waiting for deployment - this will take up to 45s .......... ok\n"
     ]
    },
    {
     "data": {
      "text/html": [
       "<table><tr><th>name</th> <td>vpzfccfraudpipeline</td></tr><tr><th>created</th> <td>2023-08-09 19:33:35.076256+00:00</td></tr><tr><th>last_updated</th> <td>2023-08-09 19:35:08.065724+00:00</td></tr><tr><th>deployed</th> <td>True</td></tr><tr><th>tags</th> <td></td></tr><tr><th>versions</th> <td>76bd9d2c-677c-4a2e-ad9c-994545c87a40, 020505b3-f203-41f5-9c71-3e227ec20ac1</td></tr><tr><th>steps</th> <td>vpzfccfraudmodel</td></tr></table>"
      ],
      "text/plain": [
       "{'name': 'vpzfccfraudpipeline', 'create_time': datetime.datetime(2023, 8, 9, 19, 33, 35, 76256, tzinfo=tzutc()), 'definition': \"[{'ModelInference': {'models': [{'name': 'vpzfccfraudmodel', 'version': 'b4aed6c6-dd44-4bb1-b992-685d361536df', 'sha': 'bc85ce596945f876256f41515c7501c399fd97ebcb9ab3dd41bf03f8937b4507'}]}}]\"}"
      ]
     },
     "execution_count": 15,
     "metadata": {},
     "output_type": "execute_result"
    }
   ],
   "source": [
    "ccfraud_pipeline.deploy(deployment_config=deployment_config)"
   ]
  },
  {
   "cell_type": "markdown",
   "metadata": {},
   "source": [
    "We can see our new pipeline with the `status()` command."
   ]
  },
  {
   "cell_type": "code",
   "execution_count": 17,
   "metadata": {},
   "outputs": [
    {
     "data": {
      "text/plain": [
       "{'status': 'Running',\n",
       " 'details': [],\n",
       " 'engines': [{'ip': '10.244.10.8',\n",
       "   'name': 'engine-5c579d77b5-fgjf2',\n",
       "   'status': 'Running',\n",
       "   'reason': None,\n",
       "   'details': [],\n",
       "   'pipeline_statuses': {'pipelines': [{'id': 'vpzfccfraudpipeline',\n",
       "      'status': 'Running'}]},\n",
       "   'model_statuses': {'models': [{'name': 'vpzfccfraudmodel',\n",
       "      'version': 'b4aed6c6-dd44-4bb1-b992-685d361536df',\n",
       "      'sha': 'bc85ce596945f876256f41515c7501c399fd97ebcb9ab3dd41bf03f8937b4507',\n",
       "      'status': 'Running'}]}}],\n",
       " 'engine_lbs': [{'ip': '10.244.10.9',\n",
       "   'name': 'engine-lb-584f54c899-4xbs9',\n",
       "   'status': 'Running',\n",
       "   'reason': None,\n",
       "   'details': []}],\n",
       " 'sidekicks': []}"
      ]
     },
     "execution_count": 17,
     "metadata": {},
     "output_type": "execute_result"
    }
   ],
   "source": [
    "ccfraud_pipeline.status()"
   ]
  },
  {
   "cell_type": "markdown",
   "metadata": {},
   "source": [
    "## Running Interfences\n",
    "\n",
    "With our pipeline deployed, let's run a smoke test to make sure it's working right.  We'll run an inference through our pipeline from the variable `smoke_test` and see the results.  This should give us a result near 0 - not likely a fraudulent activity.\n",
    "\n",
    "Wallaroo accepts the following inputs for inferences:\n",
    "\n",
    "* [Apache Arrow tables](https://arrow.apache.org/) (Default):  Wallaroo highly encourages organizations to use Apache Arrow as their default inference input method for speed and accuracy.  This requires the Arrow table schema matches what the model expects.\n",
    "* [Pandas DataFrame](https://pandas.pydata.org/): DataFrame inputs are highly useful for data scientists to recognize what data is being input into the pipeline before finalizing to Arrow format.\n",
    "\n",
    "This first two examples will use a pandas DataFrame record to display a sample input.  The rest of the examples will use Arrow tables."
   ]
  },
  {
   "cell_type": "code",
   "execution_count": 18,
   "metadata": {},
   "outputs": [
    {
     "data": {
      "text/html": [
       "<div>\n",
       "<style scoped>\n",
       "    .dataframe tbody tr th:only-of-type {\n",
       "        vertical-align: middle;\n",
       "    }\n",
       "\n",
       "    .dataframe tbody tr th {\n",
       "        vertical-align: top;\n",
       "    }\n",
       "\n",
       "    .dataframe thead th {\n",
       "        text-align: right;\n",
       "    }\n",
       "</style>\n",
       "<table border=\"1\" class=\"dataframe\">\n",
       "  <thead>\n",
       "    <tr style=\"text-align: right;\">\n",
       "      <th></th>\n",
       "      <th>time</th>\n",
       "      <th>in.tensor</th>\n",
       "      <th>out.dense_1</th>\n",
       "      <th>check_failures</th>\n",
       "    </tr>\n",
       "  </thead>\n",
       "  <tbody>\n",
       "    <tr>\n",
       "      <th>0</th>\n",
       "      <td>2023-08-09 19:37:01.166</td>\n",
       "      <td>[1.0678324729, 0.2177810266, -1.7115145262, 0.682285721, 1.0138553067, -0.4335000013, 0.7395859437, -0.2882839595, -0.447262688, 0.5146124988, 0.3791316964, 0.5190619748, -0.4904593222, 1.1656456469, -0.9776307444, -0.6322198963, -0.6891477694, 0.1783317857, 0.1397992467, -0.3554220649, 0.4394217877, 1.4588397512, -0.3886829615, 0.4353492889, 1.7420053483, -0.4434654615, -0.1515747891, -0.2668451725, -1.4549617756]</td>\n",
       "      <td>[0.0014974177]</td>\n",
       "      <td>0</td>\n",
       "    </tr>\n",
       "  </tbody>\n",
       "</table>\n",
       "</div>"
      ],
      "text/plain": [
       "                     time  \\\n",
       "0 2023-08-09 19:37:01.166   \n",
       "\n",
       "                                                                                                                                                                                                                                                                                                                                                                                                                            in.tensor  \\\n",
       "0  [1.0678324729, 0.2177810266, -1.7115145262, 0.682285721, 1.0138553067, -0.4335000013, 0.7395859437, -0.2882839595, -0.447262688, 0.5146124988, 0.3791316964, 0.5190619748, -0.4904593222, 1.1656456469, -0.9776307444, -0.6322198963, -0.6891477694, 0.1783317857, 0.1397992467, -0.3554220649, 0.4394217877, 1.4588397512, -0.3886829615, 0.4353492889, 1.7420053483, -0.4434654615, -0.1515747891, -0.2668451725, -1.4549617756]   \n",
       "\n",
       "      out.dense_1  check_failures  \n",
       "0  [0.0014974177]               0  "
      ]
     },
     "metadata": {},
     "output_type": "display_data"
    }
   ],
   "source": [
    "smoke_test = pd.DataFrame.from_records([\n",
    "    {\n",
    "        \"tensor\":[\n",
    "            1.0678324729,\n",
    "            0.2177810266,\n",
    "            -1.7115145262,\n",
    "            0.682285721,\n",
    "            1.0138553067,\n",
    "            -0.4335000013,\n",
    "            0.7395859437,\n",
    "            -0.2882839595,\n",
    "            -0.447262688,\n",
    "            0.5146124988,\n",
    "            0.3791316964,\n",
    "            0.5190619748,\n",
    "            -0.4904593222,\n",
    "            1.1656456469,\n",
    "            -0.9776307444,\n",
    "            -0.6322198963,\n",
    "            -0.6891477694,\n",
    "            0.1783317857,\n",
    "            0.1397992467,\n",
    "            -0.3554220649,\n",
    "            0.4394217877,\n",
    "            1.4588397512,\n",
    "            -0.3886829615,\n",
    "            0.4353492889,\n",
    "            1.7420053483,\n",
    "            -0.4434654615,\n",
    "            -0.1515747891,\n",
    "            -0.2668451725,\n",
    "            -1.4549617756\n",
    "        ]\n",
    "    }\n",
    "])\n",
    "result = ccfraud_pipeline.infer(smoke_test)\n",
    "display(result)"
   ]
  },
  {
   "cell_type": "markdown",
   "metadata": {},
   "source": [
    "Looks good!  Time to run the real test on some real data.  Run another inference this time from the file `high_fraud.json` and let's see the results.  This should give us an output that indicates a high level of fraud - well over 90%."
   ]
  },
  {
   "cell_type": "code",
   "execution_count": 19,
   "metadata": {},
   "outputs": [
    {
     "data": {
      "text/html": [
       "<div>\n",
       "<style scoped>\n",
       "    .dataframe tbody tr th:only-of-type {\n",
       "        vertical-align: middle;\n",
       "    }\n",
       "\n",
       "    .dataframe tbody tr th {\n",
       "        vertical-align: top;\n",
       "    }\n",
       "\n",
       "    .dataframe thead th {\n",
       "        text-align: right;\n",
       "    }\n",
       "</style>\n",
       "<table border=\"1\" class=\"dataframe\">\n",
       "  <thead>\n",
       "    <tr style=\"text-align: right;\">\n",
       "      <th></th>\n",
       "      <th>time</th>\n",
       "      <th>in.tensor</th>\n",
       "      <th>out.dense_1</th>\n",
       "      <th>check_failures</th>\n",
       "    </tr>\n",
       "  </thead>\n",
       "  <tbody>\n",
       "    <tr>\n",
       "      <th>0</th>\n",
       "      <td>2023-08-09 19:37:06.578</td>\n",
       "      <td>[1.0678324729, 18.1555563975, -1.6589551058, 5.2111788045, 2.3452470645, 10.4670835778, 5.0925820522, 12.8295153637, 4.9536770468, 2.3934736228, 23.912131818, 1.759956831, 0.8561037518, 1.1656456469, 0.5395988814, 0.7784221343, 6.7580610727, 3.9274118477, 12.4621782767, 12.3075382165, 13.7879519066, 1.4588397512, 3.6818346868, 1.753914366, 8.4843550037, 14.6454097667, 26.8523774363, 2.7165292377, 3.0611957069]</td>\n",
       "      <td>[0.981199]</td>\n",
       "      <td>0</td>\n",
       "    </tr>\n",
       "  </tbody>\n",
       "</table>\n",
       "</div>"
      ],
      "text/plain": [
       "                     time  \\\n",
       "0 2023-08-09 19:37:06.578   \n",
       "\n",
       "                                                                                                                                                                                                                                                                                                                                                                                                                       in.tensor  \\\n",
       "0  [1.0678324729, 18.1555563975, -1.6589551058, 5.2111788045, 2.3452470645, 10.4670835778, 5.0925820522, 12.8295153637, 4.9536770468, 2.3934736228, 23.912131818, 1.759956831, 0.8561037518, 1.1656456469, 0.5395988814, 0.7784221343, 6.7580610727, 3.9274118477, 12.4621782767, 12.3075382165, 13.7879519066, 1.4588397512, 3.6818346868, 1.753914366, 8.4843550037, 14.6454097667, 26.8523774363, 2.7165292377, 3.0611957069]   \n",
       "\n",
       "  out.dense_1  check_failures  \n",
       "0  [0.981199]               0  "
      ]
     },
     "metadata": {},
     "output_type": "display_data"
    }
   ],
   "source": [
    "high_fraud = pd.DataFrame.from_records([\n",
    "    {\n",
    "        \"tensor\":[\n",
    "            1.0678324729,\n",
    "            18.1555563975,\n",
    "            -1.6589551058,\n",
    "            5.2111788045,\n",
    "            2.3452470645,\n",
    "            10.4670835778,\n",
    "            5.0925820522,\n",
    "            12.8295153637,\n",
    "            4.9536770468,\n",
    "            2.3934736228,\n",
    "            23.912131818,\n",
    "            1.759956831,\n",
    "            0.8561037518,\n",
    "            1.1656456469,\n",
    "            0.5395988814,\n",
    "            0.7784221343,\n",
    "            6.7580610727,\n",
    "            3.9274118477,\n",
    "            12.4621782767,\n",
    "            12.3075382165,\n",
    "            13.7879519066,\n",
    "            1.4588397512,\n",
    "            3.6818346868,\n",
    "            1.753914366,\n",
    "            8.4843550037,\n",
    "            14.6454097667,\n",
    "            26.8523774363,\n",
    "            2.7165292377,\n",
    "            3.0611957069\n",
    "        ]\n",
    "    }\n",
    "])\n",
    "\n",
    "result = ccfraud_pipeline.infer(high_fraud)\n",
    "display(result)"
   ]
  },
  {
   "cell_type": "markdown",
   "metadata": {},
   "source": [
    "Now that we've tested our pipeline, let's run it with something larger.  We have two batch files - `cc_data_1k.arrow` that contains 1,000 credit card records to test for fraud.  The other is `cc_data_10k.arrow` which has 10,000 credit card records to test.\n",
    "\n",
    "First let's run a batch result for `cc_data_10k.arrow` and see the results.  \n",
    "\n",
    "With the inference result we'll output just the cases likely to be fraud."
   ]
  },
  {
   "cell_type": "code",
   "execution_count": 20,
   "metadata": {},
   "outputs": [
    {
     "data": {
      "text/plain": [
       "pyarrow.Table\n",
       "time: timestamp[ms]\n",
       "in.tensor: list<item: float> not null\n",
       "  child 0, item: float\n",
       "out.dense_1: list<inner: float not null> not null\n",
       "  child 0, inner: float not null\n",
       "check_failures: int8\n",
       "----\n",
       "time: [[2023-08-09 19:37:10.155,2023-08-09 19:37:10.155,2023-08-09 19:37:10.155,2023-08-09 19:37:10.155,2023-08-09 19:37:10.155,...,2023-08-09 19:37:10.155,2023-08-09 19:37:10.155,2023-08-09 19:37:10.155,2023-08-09 19:37:10.155,2023-08-09 19:37:10.155]]\n",
       "in.tensor: [[[-1.0603298,2.3544967,-3.5638788,5.138735,-1.2308457,...,0.038412016,1.0993439,1.2603409,-0.14662448,-1.4463212],[-1.0603298,2.3544967,-3.5638788,5.138735,-1.2308457,...,0.038412016,1.0993439,1.2603409,-0.14662448,-1.4463212],...,[-2.1694233,-3.1647356,1.2038506,-0.2649221,0.0899006,...,1.8174038,-0.19327773,0.94089776,0.825025,1.6242892],[-0.12405868,0.73698884,1.0311689,0.59917533,0.11831961,...,-0.36567155,-0.87004745,0.41288367,0.49470216,-0.6710689]]]\n",
       "out.dense_1: [[[0.99300325],[0.99300325],...,[0.00024175644],[0.0010648072]]]\n",
       "check_failures: [[0,0,0,0,0,...,0,0,0,0,0]]"
      ]
     },
     "metadata": {},
     "output_type": "display_data"
    },
    {
     "data": {
      "text/html": [
       "<div>\n",
       "<style scoped>\n",
       "    .dataframe tbody tr th:only-of-type {\n",
       "        vertical-align: middle;\n",
       "    }\n",
       "\n",
       "    .dataframe tbody tr th {\n",
       "        vertical-align: top;\n",
       "    }\n",
       "\n",
       "    .dataframe thead th {\n",
       "        text-align: right;\n",
       "    }\n",
       "</style>\n",
       "<table border=\"1\" class=\"dataframe\">\n",
       "  <thead>\n",
       "    <tr style=\"text-align: right;\">\n",
       "      <th></th>\n",
       "      <th>time</th>\n",
       "      <th>in.tensor</th>\n",
       "      <th>out.dense_1</th>\n",
       "      <th>check_failures</th>\n",
       "    </tr>\n",
       "  </thead>\n",
       "  <tbody>\n",
       "    <tr>\n",
       "      <th>0</th>\n",
       "      <td>2023-08-09 19:37:10.155</td>\n",
       "      <td>[-1.0603298, 2.3544967, -3.5638788, 5.138735, -1.2308457, -0.76878244, -3.5881228, 1.8880838, -3.2789674, -3.9563255, 4.099344, -5.653918, -0.8775733, -9.131571, -0.6093538, -3.7480276, -5.0309124, -0.8748149, 1.9870535, 0.7005486, 0.9204423, -0.10414918, 0.32295644, -0.74181414, 0.038412016, 1.0993439, 1.2603409, -0.14662448, -1.4463212]</td>\n",
       "      <td>[0.99300325]</td>\n",
       "      <td>0</td>\n",
       "    </tr>\n",
       "    <tr>\n",
       "      <th>1</th>\n",
       "      <td>2023-08-09 19:37:10.155</td>\n",
       "      <td>[-1.0603298, 2.3544967, -3.5638788, 5.138735, -1.2308457, -0.76878244, -3.5881228, 1.8880838, -3.2789674, -3.9563255, 4.099344, -5.653918, -0.8775733, -9.131571, -0.6093538, -3.7480276, -5.0309124, -0.8748149, 1.9870535, 0.7005486, 0.9204423, -0.10414918, 0.32295644, -0.74181414, 0.038412016, 1.0993439, 1.2603409, -0.14662448, -1.4463212]</td>\n",
       "      <td>[0.99300325]</td>\n",
       "      <td>0</td>\n",
       "    </tr>\n",
       "    <tr>\n",
       "      <th>2</th>\n",
       "      <td>2023-08-09 19:37:10.155</td>\n",
       "      <td>[-1.0603298, 2.3544967, -3.5638788, 5.138735, -1.2308457, -0.76878244, -3.5881228, 1.8880838, -3.2789674, -3.9563255, 4.099344, -5.653918, -0.8775733, -9.131571, -0.6093538, -3.7480276, -5.0309124, -0.8748149, 1.9870535, 0.7005486, 0.9204423, -0.10414918, 0.32295644, -0.74181414, 0.038412016, 1.0993439, 1.2603409, -0.14662448, -1.4463212]</td>\n",
       "      <td>[0.99300325]</td>\n",
       "      <td>0</td>\n",
       "    </tr>\n",
       "    <tr>\n",
       "      <th>3</th>\n",
       "      <td>2023-08-09 19:37:10.155</td>\n",
       "      <td>[-1.0603298, 2.3544967, -3.5638788, 5.138735, -1.2308457, -0.76878244, -3.5881228, 1.8880838, -3.2789674, -3.9563255, 4.099344, -5.653918, -0.8775733, -9.131571, -0.6093538, -3.7480276, -5.0309124, -0.8748149, 1.9870535, 0.7005486, 0.9204423, -0.10414918, 0.32295644, -0.74181414, 0.038412016, 1.0993439, 1.2603409, -0.14662448, -1.4463212]</td>\n",
       "      <td>[0.99300325]</td>\n",
       "      <td>0</td>\n",
       "    </tr>\n",
       "    <tr>\n",
       "      <th>161</th>\n",
       "      <td>2023-08-09 19:37:10.155</td>\n",
       "      <td>[-9.716793, 9.174981, -14.450761, 8.653825, -11.039951, 0.6602411, -22.825525, -9.919395, -8.064324, -16.737926, 4.852197, -12.563343, -1.0762653, -7.524591, -3.2938414, -9.62102, -15.6501045, -7.089741, 1.7687134, 5.044906, -11.365625, 4.5987034, 4.4777045, 0.31702697, -2.2731977, 0.07944675, -10.052058, -2.024108, -1.0611985]</td>\n",
       "      <td>[1.0]</td>\n",
       "      <td>0</td>\n",
       "    </tr>\n",
       "    <tr>\n",
       "      <th>941</th>\n",
       "      <td>2023-08-09 19:37:10.155</td>\n",
       "      <td>[-0.50492376, 1.9348029, -3.4217603, 2.2165704, -0.6545315, -1.9004827, -1.6786858, 0.5380051, -2.7229102, -5.265194, 3.504164, -5.4661765, 0.68954825, -8.725291, 2.0267954, -5.4717045, -4.9123807, -1.6131229, 3.8021576, 1.3881834, 1.0676425, 0.28200775, -0.30759808, -0.48498034, 0.9507336, 1.5118006, 1.6385275, 1.072455, 0.7959132]</td>\n",
       "      <td>[0.9873102]</td>\n",
       "      <td>0</td>\n",
       "    </tr>\n",
       "    <tr>\n",
       "      <th>1445</th>\n",
       "      <td>2023-08-09 19:37:10.155</td>\n",
       "      <td>[-7.615594, 4.659706, -12.057331, 7.975307, -5.1068773, -1.6116138, -12.146941, -0.5952333, -6.4605103, -12.535655, 10.017626, -14.839381, 0.34900802, -14.953928, -0.3901092, -9.342014, -14.285043, -5.758632, 0.7512068, 1.4632998, -3.3777077, 0.9950705, -0.5855211, -1.6528498, 1.9089833, 1.6860862, 5.5044003, -3.703297, -1.4715525]</td>\n",
       "      <td>[1.0]</td>\n",
       "      <td>0</td>\n",
       "    </tr>\n",
       "    <tr>\n",
       "      <th>2092</th>\n",
       "      <td>2023-08-09 19:37:10.155</td>\n",
       "      <td>[-14.115489, 9.905631, -18.67885, 4.602589, -15.404288, -3.7169847, -15.887272, 15.616176, -3.2883947, -7.0224414, 4.086536, -5.7809114, 1.2251061, -5.4301147, -0.14021407, -6.0200763, -12.957546, -5.545689, 0.86074656, 2.2463796, 2.492611, -2.9649208, -2.265674, 0.27490455, 3.9263225, -0.43438172, 3.1642237, 1.2085277, 0.8223642]</td>\n",
       "      <td>[0.99999]</td>\n",
       "      <td>0</td>\n",
       "    </tr>\n",
       "    <tr>\n",
       "      <th>2220</th>\n",
       "      <td>2023-08-09 19:37:10.155</td>\n",
       "      <td>[-0.1098309, 2.5842443, -3.5887418, 4.63558, 1.1825614, -1.2139517, -0.7632139, 0.6071841, -3.7244265, -3.501917, 4.3637576, -4.612757, -0.44275254, -10.346612, 0.66243565, -0.33048683, 1.5961986, 2.5439718, 0.8787973, 0.7406088, 0.34268215, -0.68495077, -0.48357907, -1.9404846, -0.059520483, 1.1553137, 0.9918434, 0.7067319, -1.6016251]</td>\n",
       "      <td>[0.91080534]</td>\n",
       "      <td>0</td>\n",
       "    </tr>\n",
       "    <tr>\n",
       "      <th>4135</th>\n",
       "      <td>2023-08-09 19:37:10.155</td>\n",
       "      <td>[-0.547029, 2.2944348, -4.149202, 2.8648357, -0.31232587, -1.5427867, -2.1489344, 0.9471863, -2.663241, -4.2572775, 2.1116028, -6.2264414, -1.1307784, -6.9296007, 1.0049651, -5.876498, -5.6855297, -1.5800936, 3.567338, 0.5962099, 1.6361043, 1.8584082, -0.08202618, 0.46620172, -2.234368, -0.18116793, 1.744976, 2.1414309, -1.6081295]</td>\n",
       "      <td>[0.98877275]</td>\n",
       "      <td>0</td>\n",
       "    </tr>\n",
       "    <tr>\n",
       "      <th>4236</th>\n",
       "      <td>2023-08-09 19:37:10.155</td>\n",
       "      <td>[-3.135635, -1.483817, -3.0833669, 1.6626456, -0.59695035, -0.30199608, -3.316563, 1.869609, -1.8006078, -4.5662026, 2.8778172, -4.0887237, -0.43401834, -3.5816982, 0.45171788, -5.725131, -8.982029, -4.0279546, 0.89264476, 0.24721873, 1.8289508, 1.6895254, -2.5555577, -2.4714024, -0.4500012, 0.23333028, 2.2119386, -2.041805, 1.1568314]</td>\n",
       "      <td>[0.95601666]</td>\n",
       "      <td>0</td>\n",
       "    </tr>\n",
       "    <tr>\n",
       "      <th>5658</th>\n",
       "      <td>2023-08-09 19:37:10.155</td>\n",
       "      <td>[-5.4078765, 3.9039962, -8.98522, 5.128742, -7.373224, -2.946234, -11.033238, 5.914019, -5.669241, -12.041053, 6.950792, -12.488795, 1.2236942, -14.178565, 1.6514667, -12.47019, -22.350504, -8.928755, 4.54775, -0.11478994, 3.130207, -0.70128506, -0.40275285, 0.7511918, -0.1856308, 0.92282087, 0.146656, -1.3761806, 0.42997098]</td>\n",
       "      <td>[1.0]</td>\n",
       "      <td>0</td>\n",
       "    </tr>\n",
       "    <tr>\n",
       "      <th>6768</th>\n",
       "      <td>2023-08-09 19:37:10.155</td>\n",
       "      <td>[-16.900557, 11.7940855, -21.349983, 4.746453, -17.54182, -3.415758, -19.897173, 13.8569145, -3.570626, -7.388376, 3.0761156, -4.0583425, 1.2901028, -2.7997534, -0.4298746, -4.777225, -11.371295, -5.2725616, 0.0964799, 4.2148075, -0.8343371, -2.3663573, -1.6571938, 0.2110055, 4.438088, -0.49057993, 2.342008, 1.4479793, -1.4715525]</td>\n",
       "      <td>[0.9999745]</td>\n",
       "      <td>0</td>\n",
       "    </tr>\n",
       "    <tr>\n",
       "      <th>6780</th>\n",
       "      <td>2023-08-09 19:37:10.155</td>\n",
       "      <td>[-0.74893713, 1.3893062, -3.7477517, 2.4144504, -0.11061429, -1.0737498, -3.1504633, 1.2081385, -1.332872, -4.604276, 4.438548, -7.687688, 1.1683422, -5.3296027, -0.19838685, -5.294243, -5.4928794, -1.3254275, 4.387228, 0.68643385, 0.87228596, -0.1154091, -0.8364338, -0.61202216, 0.10518055, 2.2618086, 1.1435078, -0.32623357, -1.6081295]</td>\n",
       "      <td>[0.9852645]</td>\n",
       "      <td>0</td>\n",
       "    </tr>\n",
       "    <tr>\n",
       "      <th>7133</th>\n",
       "      <td>2023-08-09 19:37:10.155</td>\n",
       "      <td>[-7.5131927, 6.507386, -12.439463, 5.7453, -9.513038, -1.4236209, -17.402607, -3.0903268, -5.378041, -15.169325, 5.7585907, -13.448207, -0.45244268, -8.495097, -2.2323692, -11.429063, -19.578058, -8.367617, 1.8869618, 2.1813896, -4.799091, 2.4388566, 2.9503248, 0.6293566, -2.6906652, -2.1116931, -6.4196434, -1.4523355, -1.4715525]</td>\n",
       "      <td>[1.0]</td>\n",
       "      <td>0</td>\n",
       "    </tr>\n",
       "    <tr>\n",
       "      <th>7566</th>\n",
       "      <td>2023-08-09 19:37:10.155</td>\n",
       "      <td>[-2.1804514, 1.0243497, -4.3890443, 3.4924, -3.7609894, 0.023624033, -2.7677023, 1.1786921, -2.9450424, -6.8823, 6.1294384, -9.564066, -1.6273017, -10.940607, 0.3062539, -8.854589, -15.382658, -5.419305, 3.2210033, -0.7381137, 0.9632334, 0.6612066, 2.1337948, -0.90536207, 0.7498649, -0.019404415, 5.5950212, 0.26602694, 1.7534728]</td>\n",
       "      <td>[0.9999705]</td>\n",
       "      <td>0</td>\n",
       "    </tr>\n",
       "    <tr>\n",
       "      <th>7911</th>\n",
       "      <td>2023-08-09 19:37:10.155</td>\n",
       "      <td>[-1.594454, 1.8545462, -2.6311765, 2.759316, -2.6988854, -0.08155677, -3.8566258, -0.04912437, -1.9640644, -4.2058415, 3.391933, -6.471933, -0.9877536, -6.188904, 1.2249585, -8.652863, -11.170872, -6.134417, 2.5400054, -0.29327056, 3.591464, 0.3057127, -0.052313827, 0.06196331, -0.82863224, -0.2595842, 1.0207018, 0.019899422, 1.0935433]</td>\n",
       "      <td>[0.9980203]</td>\n",
       "      <td>0</td>\n",
       "    </tr>\n",
       "    <tr>\n",
       "      <th>8921</th>\n",
       "      <td>2023-08-09 19:37:10.155</td>\n",
       "      <td>[-0.21756083, 1.786712, -3.4240367, 2.7769134, -1.420116, -2.1018193, -3.4615245, 0.7367844, -2.3844852, -6.3140697, 4.382665, -8.348951, -1.6409378, -10.611383, 1.1813216, -6.251184, -10.577264, -3.5184007, 0.7997489, 0.97915924, 1.081642, -0.7852368, -0.4761941, -0.10635195, 2.066527, -0.4103488, 2.8288178, 1.9340333, -1.4715525]</td>\n",
       "      <td>[0.99950194]</td>\n",
       "      <td>0</td>\n",
       "    </tr>\n",
       "    <tr>\n",
       "      <th>9244</th>\n",
       "      <td>2023-08-09 19:37:10.155</td>\n",
       "      <td>[-3.314442, 2.4431305, -6.1724143, 3.6737356, -3.81542, -1.5950849, -4.8292923, 2.9850774, -4.22416, -7.5519834, 6.1932964, -8.59886, 0.25443414, -11.834097, -0.39583337, -6.015362, -13.532762, -4.226845, 1.1153877, 0.17989528, 1.3166595, -0.64433384, 0.2305495, -0.5776498, 0.7609739, 2.2197483, 4.01189, -1.2347667, 1.2847253]</td>\n",
       "      <td>[0.9999876]</td>\n",
       "      <td>0</td>\n",
       "    </tr>\n",
       "    <tr>\n",
       "      <th>10176</th>\n",
       "      <td>2023-08-09 19:37:10.155</td>\n",
       "      <td>[-5.0815525, 3.9294617, -8.4077635, 6.373701, -7.391173, -2.1574461, -10.345097, 5.5896044, -6.3736906, -11.330594, 6.618754, -12.93748, 1.1884484, -13.9628935, 1.0340953, -12.278127, -23.333889, -8.886669, 3.5720036, -0.3243157, 3.4229393, 0.493529, 0.08469851, 0.791218, 0.30968663, 0.6811129, 0.39306796, -1.5204874, 0.9061435]</td>\n",
       "      <td>[1.0]</td>\n",
       "      <td>0</td>\n",
       "    </tr>\n",
       "  </tbody>\n",
       "</table>\n",
       "</div>"
      ],
      "text/plain": [
       "                         time  \\\n",
       "0     2023-08-09 19:37:10.155   \n",
       "1     2023-08-09 19:37:10.155   \n",
       "2     2023-08-09 19:37:10.155   \n",
       "3     2023-08-09 19:37:10.155   \n",
       "161   2023-08-09 19:37:10.155   \n",
       "941   2023-08-09 19:37:10.155   \n",
       "1445  2023-08-09 19:37:10.155   \n",
       "2092  2023-08-09 19:37:10.155   \n",
       "2220  2023-08-09 19:37:10.155   \n",
       "4135  2023-08-09 19:37:10.155   \n",
       "4236  2023-08-09 19:37:10.155   \n",
       "5658  2023-08-09 19:37:10.155   \n",
       "6768  2023-08-09 19:37:10.155   \n",
       "6780  2023-08-09 19:37:10.155   \n",
       "7133  2023-08-09 19:37:10.155   \n",
       "7566  2023-08-09 19:37:10.155   \n",
       "7911  2023-08-09 19:37:10.155   \n",
       "8921  2023-08-09 19:37:10.155   \n",
       "9244  2023-08-09 19:37:10.155   \n",
       "10176 2023-08-09 19:37:10.155   \n",
       "\n",
       "                                                                                                                                                                                                                                                                                                                                                  in.tensor  \\\n",
       "0      [-1.0603298, 2.3544967, -3.5638788, 5.138735, -1.2308457, -0.76878244, -3.5881228, 1.8880838, -3.2789674, -3.9563255, 4.099344, -5.653918, -0.8775733, -9.131571, -0.6093538, -3.7480276, -5.0309124, -0.8748149, 1.9870535, 0.7005486, 0.9204423, -0.10414918, 0.32295644, -0.74181414, 0.038412016, 1.0993439, 1.2603409, -0.14662448, -1.4463212]   \n",
       "1      [-1.0603298, 2.3544967, -3.5638788, 5.138735, -1.2308457, -0.76878244, -3.5881228, 1.8880838, -3.2789674, -3.9563255, 4.099344, -5.653918, -0.8775733, -9.131571, -0.6093538, -3.7480276, -5.0309124, -0.8748149, 1.9870535, 0.7005486, 0.9204423, -0.10414918, 0.32295644, -0.74181414, 0.038412016, 1.0993439, 1.2603409, -0.14662448, -1.4463212]   \n",
       "2      [-1.0603298, 2.3544967, -3.5638788, 5.138735, -1.2308457, -0.76878244, -3.5881228, 1.8880838, -3.2789674, -3.9563255, 4.099344, -5.653918, -0.8775733, -9.131571, -0.6093538, -3.7480276, -5.0309124, -0.8748149, 1.9870535, 0.7005486, 0.9204423, -0.10414918, 0.32295644, -0.74181414, 0.038412016, 1.0993439, 1.2603409, -0.14662448, -1.4463212]   \n",
       "3      [-1.0603298, 2.3544967, -3.5638788, 5.138735, -1.2308457, -0.76878244, -3.5881228, 1.8880838, -3.2789674, -3.9563255, 4.099344, -5.653918, -0.8775733, -9.131571, -0.6093538, -3.7480276, -5.0309124, -0.8748149, 1.9870535, 0.7005486, 0.9204423, -0.10414918, 0.32295644, -0.74181414, 0.038412016, 1.0993439, 1.2603409, -0.14662448, -1.4463212]   \n",
       "161               [-9.716793, 9.174981, -14.450761, 8.653825, -11.039951, 0.6602411, -22.825525, -9.919395, -8.064324, -16.737926, 4.852197, -12.563343, -1.0762653, -7.524591, -3.2938414, -9.62102, -15.6501045, -7.089741, 1.7687134, 5.044906, -11.365625, 4.5987034, 4.4777045, 0.31702697, -2.2731977, 0.07944675, -10.052058, -2.024108, -1.0611985]   \n",
       "941          [-0.50492376, 1.9348029, -3.4217603, 2.2165704, -0.6545315, -1.9004827, -1.6786858, 0.5380051, -2.7229102, -5.265194, 3.504164, -5.4661765, 0.68954825, -8.725291, 2.0267954, -5.4717045, -4.9123807, -1.6131229, 3.8021576, 1.3881834, 1.0676425, 0.28200775, -0.30759808, -0.48498034, 0.9507336, 1.5118006, 1.6385275, 1.072455, 0.7959132]   \n",
       "1445          [-7.615594, 4.659706, -12.057331, 7.975307, -5.1068773, -1.6116138, -12.146941, -0.5952333, -6.4605103, -12.535655, 10.017626, -14.839381, 0.34900802, -14.953928, -0.3901092, -9.342014, -14.285043, -5.758632, 0.7512068, 1.4632998, -3.3777077, 0.9950705, -0.5855211, -1.6528498, 1.9089833, 1.6860862, 5.5044003, -3.703297, -1.4715525]   \n",
       "2092           [-14.115489, 9.905631, -18.67885, 4.602589, -15.404288, -3.7169847, -15.887272, 15.616176, -3.2883947, -7.0224414, 4.086536, -5.7809114, 1.2251061, -5.4301147, -0.14021407, -6.0200763, -12.957546, -5.545689, 0.86074656, 2.2463796, 2.492611, -2.9649208, -2.265674, 0.27490455, 3.9263225, -0.43438172, 3.1642237, 1.2085277, 0.8223642]   \n",
       "2220     [-0.1098309, 2.5842443, -3.5887418, 4.63558, 1.1825614, -1.2139517, -0.7632139, 0.6071841, -3.7244265, -3.501917, 4.3637576, -4.612757, -0.44275254, -10.346612, 0.66243565, -0.33048683, 1.5961986, 2.5439718, 0.8787973, 0.7406088, 0.34268215, -0.68495077, -0.48357907, -1.9404846, -0.059520483, 1.1553137, 0.9918434, 0.7067319, -1.6016251]   \n",
       "4135          [-0.547029, 2.2944348, -4.149202, 2.8648357, -0.31232587, -1.5427867, -2.1489344, 0.9471863, -2.663241, -4.2572775, 2.1116028, -6.2264414, -1.1307784, -6.9296007, 1.0049651, -5.876498, -5.6855297, -1.5800936, 3.567338, 0.5962099, 1.6361043, 1.8584082, -0.08202618, 0.46620172, -2.234368, -0.18116793, 1.744976, 2.1414309, -1.6081295]   \n",
       "4236      [-3.135635, -1.483817, -3.0833669, 1.6626456, -0.59695035, -0.30199608, -3.316563, 1.869609, -1.8006078, -4.5662026, 2.8778172, -4.0887237, -0.43401834, -3.5816982, 0.45171788, -5.725131, -8.982029, -4.0279546, 0.89264476, 0.24721873, 1.8289508, 1.6895254, -2.5555577, -2.4714024, -0.4500012, 0.23333028, 2.2119386, -2.041805, 1.1568314]   \n",
       "5658                [-5.4078765, 3.9039962, -8.98522, 5.128742, -7.373224, -2.946234, -11.033238, 5.914019, -5.669241, -12.041053, 6.950792, -12.488795, 1.2236942, -14.178565, 1.6514667, -12.47019, -22.350504, -8.928755, 4.54775, -0.11478994, 3.130207, -0.70128506, -0.40275285, 0.7511918, -0.1856308, 0.92282087, 0.146656, -1.3761806, 0.42997098]   \n",
       "6768           [-16.900557, 11.7940855, -21.349983, 4.746453, -17.54182, -3.415758, -19.897173, 13.8569145, -3.570626, -7.388376, 3.0761156, -4.0583425, 1.2901028, -2.7997534, -0.4298746, -4.777225, -11.371295, -5.2725616, 0.0964799, 4.2148075, -0.8343371, -2.3663573, -1.6571938, 0.2110055, 4.438088, -0.49057993, 2.342008, 1.4479793, -1.4715525]   \n",
       "6780    [-0.74893713, 1.3893062, -3.7477517, 2.4144504, -0.11061429, -1.0737498, -3.1504633, 1.2081385, -1.332872, -4.604276, 4.438548, -7.687688, 1.1683422, -5.3296027, -0.19838685, -5.294243, -5.4928794, -1.3254275, 4.387228, 0.68643385, 0.87228596, -0.1154091, -0.8364338, -0.61202216, 0.10518055, 2.2618086, 1.1435078, -0.32623357, -1.6081295]   \n",
       "7133           [-7.5131927, 6.507386, -12.439463, 5.7453, -9.513038, -1.4236209, -17.402607, -3.0903268, -5.378041, -15.169325, 5.7585907, -13.448207, -0.45244268, -8.495097, -2.2323692, -11.429063, -19.578058, -8.367617, 1.8869618, 2.1813896, -4.799091, 2.4388566, 2.9503248, 0.6293566, -2.6906652, -2.1116931, -6.4196434, -1.4523355, -1.4715525]   \n",
       "7566            [-2.1804514, 1.0243497, -4.3890443, 3.4924, -3.7609894, 0.023624033, -2.7677023, 1.1786921, -2.9450424, -6.8823, 6.1294384, -9.564066, -1.6273017, -10.940607, 0.3062539, -8.854589, -15.382658, -5.419305, 3.2210033, -0.7381137, 0.9632334, 0.6612066, 2.1337948, -0.90536207, 0.7498649, -0.019404415, 5.5950212, 0.26602694, 1.7534728]   \n",
       "7911     [-1.594454, 1.8545462, -2.6311765, 2.759316, -2.6988854, -0.08155677, -3.8566258, -0.04912437, -1.9640644, -4.2058415, 3.391933, -6.471933, -0.9877536, -6.188904, 1.2249585, -8.652863, -11.170872, -6.134417, 2.5400054, -0.29327056, 3.591464, 0.3057127, -0.052313827, 0.06196331, -0.82863224, -0.2595842, 1.0207018, 0.019899422, 1.0935433]   \n",
       "8921          [-0.21756083, 1.786712, -3.4240367, 2.7769134, -1.420116, -2.1018193, -3.4615245, 0.7367844, -2.3844852, -6.3140697, 4.382665, -8.348951, -1.6409378, -10.611383, 1.1813216, -6.251184, -10.577264, -3.5184007, 0.7997489, 0.97915924, 1.081642, -0.7852368, -0.4761941, -0.10635195, 2.066527, -0.4103488, 2.8288178, 1.9340333, -1.4715525]   \n",
       "9244               [-3.314442, 2.4431305, -6.1724143, 3.6737356, -3.81542, -1.5950849, -4.8292923, 2.9850774, -4.22416, -7.5519834, 6.1932964, -8.59886, 0.25443414, -11.834097, -0.39583337, -6.015362, -13.532762, -4.226845, 1.1153877, 0.17989528, 1.3166595, -0.64433384, 0.2305495, -0.5776498, 0.7609739, 2.2197483, 4.01189, -1.2347667, 1.2847253]   \n",
       "10176            [-5.0815525, 3.9294617, -8.4077635, 6.373701, -7.391173, -2.1574461, -10.345097, 5.5896044, -6.3736906, -11.330594, 6.618754, -12.93748, 1.1884484, -13.9628935, 1.0340953, -12.278127, -23.333889, -8.886669, 3.5720036, -0.3243157, 3.4229393, 0.493529, 0.08469851, 0.791218, 0.30968663, 0.6811129, 0.39306796, -1.5204874, 0.9061435]   \n",
       "\n",
       "        out.dense_1  check_failures  \n",
       "0      [0.99300325]               0  \n",
       "1      [0.99300325]               0  \n",
       "2      [0.99300325]               0  \n",
       "3      [0.99300325]               0  \n",
       "161           [1.0]               0  \n",
       "941     [0.9873102]               0  \n",
       "1445          [1.0]               0  \n",
       "2092      [0.99999]               0  \n",
       "2220   [0.91080534]               0  \n",
       "4135   [0.98877275]               0  \n",
       "4236   [0.95601666]               0  \n",
       "5658          [1.0]               0  \n",
       "6768    [0.9999745]               0  \n",
       "6780    [0.9852645]               0  \n",
       "7133          [1.0]               0  \n",
       "7566    [0.9999705]               0  \n",
       "7911    [0.9980203]               0  \n",
       "8921   [0.99950194]               0  \n",
       "9244    [0.9999876]               0  \n",
       "10176         [1.0]               0  "
      ]
     },
     "metadata": {},
     "output_type": "display_data"
    }
   ],
   "source": [
    "result = ccfraud_pipeline.infer_from_file('./cc_data_10k.arrow')\n",
    "\n",
    "display(result)\n",
    "\n",
    "# using pandas conversion, display only the results with > 0.75\n",
    "\n",
    "list = [0.75]\n",
    "\n",
    "outputs =  result.to_pandas()\n",
    "# display(outputs)\n",
    "filter = [elt[0] > 0.75 for elt in outputs['out.dense_1']]\n",
    "outputs = outputs.loc[filter]\n",
    "display(outputs)"
   ]
  },
  {
   "cell_type": "markdown",
   "metadata": {},
   "source": [
    "We can view the inputs either through the `in.tensor` column from our DataFrame for Arrow enabled environments, or with the InferenceResult object through the `input_data()` for non-Arrow enabled environments.  We'll display just the first row in either case."
   ]
  },
  {
   "cell_type": "markdown",
   "metadata": {},
   "source": [
    "## Batch Deployment through a Pipeline Deployment URL\n",
    "\n",
    "This next step requires some manual use.  We're going to have `ccfraud_pipeline` display its deployment url - this allows us to submit data through a HTTP interface and get the results back.\n",
    "\n",
    "First we'll request the url with the `_deployment._url()` method.\n",
    "\n",
    "* **IMPORTANT NOTE**:  The `_deployment._url()` method will return an **internal** URL when using Python commands from within the Wallaroo instance - for example, the Wallaroo JupyterHub service.  When connecting via an external connection, `_deployment._url()` returns an **external** URL.\n",
    "  * External URL connections requires [the authentication be included in the HTTP request](https://docs.wallaroo.ai/wallaroo-developer-guides/wallaroo-api-guide/), and [Model Endpoints](https://docs.wallaroo.ai/wallaroo-operations-guide/wallaroo-configuration/wallaroo-model-endpoints-guide/) are enabled in the Wallaroo configuration options."
   ]
  },
  {
   "cell_type": "markdown",
   "metadata": {},
   "source": [
    "The API connection details can be retrieved through the Wallaroo client `auth.auth_header()` command.  This will display the connection URL, bearer token, and other information.  The bearer token is available for one hour before it expires.\n",
    "\n",
    "For this example, the API connection details will be retrieved, then used to submit an inference request through the external inference URL retrieved earlier."
   ]
  },
  {
   "cell_type": "markdown",
   "metadata": {},
   "source": [
    "The `deploy_url` variable will be used to access the pipeline inference URL, Content-Type and Accept parameters will set the submitted values first as a DataFrame record, then the second will use the Python `requests` library to submit the inference as an Apache Arrow file, and the received values as a Pandas DataFrame."
   ]
  },
  {
   "cell_type": "code",
   "execution_count": 21,
   "metadata": {},
   "outputs": [],
   "source": [
    "\n",
    "deploy_url = ccfraud_pipeline._deployment._url()\n",
    "\n",
    "headers = wl.auth.auth_header()\n",
    "# dataFile=\"./data/cc_data_1k.arrow\"\n",
    "dataFile=\"./cc_data_10k.df.json\"\n",
    "# set Content-Type type\n",
    "# headers['Content-Type']='application/vnd.apache.arrow.file'\n",
    "headers['Content-Type']='application/json; format=pandas-records'\n",
    "headers['Accept']='application/json; format=pandas-records'\n",
    "# contentType=\"application/vnd.apache.arrow.file\"\n",
    "\n",
    "# !curl -X POST {deploy_url} -H \"Authorization:{headers['Authorization']}\" -H \"Content-Type:{headers['Content-Type']}\" -H \"Accept:{headers['Accept']}\" --data @{dataFile} > curl_response.df"
   ]
  },
  {
   "cell_type": "code",
   "execution_count": 22,
   "metadata": {},
   "outputs": [
    {
     "name": "stdout",
     "output_type": "stream",
     "text": [
      "  % Total    % Received % Xferd  Average Speed   Time    Time     Time  Current\n",
      "                                 Dload  Upload   Total   Spent    Left  Speed\n",
      "100 14.3M  100 6966k  100 7743k  40.7M  45.2M --:--:-- --:--:-- --:--:-- 86.0M\n"
     ]
    }
   ],
   "source": [
    "!curl -X POST {deploy_url} -H \"Authorization:{headers['Authorization']}\" -H \"Content-Type:{headers['Content-Type']}\" -H \"Accept:{headers['Accept']}\" --data @{dataFile} > curl_response.df"
   ]
  },
  {
   "cell_type": "code",
   "execution_count": 23,
   "metadata": {},
   "outputs": [
    {
     "data": {
      "text/html": [
       "<div>\n",
       "<style scoped>\n",
       "    .dataframe tbody tr th:only-of-type {\n",
       "        vertical-align: middle;\n",
       "    }\n",
       "\n",
       "    .dataframe tbody tr th {\n",
       "        vertical-align: top;\n",
       "    }\n",
       "\n",
       "    .dataframe thead th {\n",
       "        text-align: right;\n",
       "    }\n",
       "</style>\n",
       "<table border=\"1\" class=\"dataframe\">\n",
       "  <thead>\n",
       "    <tr style=\"text-align: right;\">\n",
       "      <th></th>\n",
       "      <th>time</th>\n",
       "      <th>in</th>\n",
       "      <th>out</th>\n",
       "      <th>check_failures</th>\n",
       "      <th>metadata</th>\n",
       "    </tr>\n",
       "  </thead>\n",
       "  <tbody>\n",
       "    <tr>\n",
       "      <th>0</th>\n",
       "      <td>1691609839548</td>\n",
       "      <td>{'tensor': [-1.0603297501, 2.3544967095000002, -3.5638788326, 5.1387348926, -1.2308457019, -0.7687824608, -3.5881228109, 1.8880837663, -3.2789674274, -3.9563254554, 4.0993439118, -5.6539176395, -0.8775733373, -9.131571192, -0.6093537873, -3.7480276773, -5.0309125017, -0.8748149526000001, 1.9870535692, 0.7005485718000001, 0.9204422758, -0.1041491809, 0.3229564351, -0.7418141657, 0.0384120159, 1.0993439146, 1.2603409756000001, -0.1466244739, -1.4463212439]}</td>\n",
       "      <td>{'dense_1': [0.99300325]}</td>\n",
       "      <td>[]</td>\n",
       "      <td>{'last_model': '{\"model_name\":\"vpzfccfraudmodel\",\"model_sha\":\"bc85ce596945f876256f41515c7501c399fd97ebcb9ab3dd41bf03f8937b4507\"}', 'pipeline_version': '', 'elapsed': [49404450, 3242923], 'dropped': []}</td>\n",
       "    </tr>\n",
       "    <tr>\n",
       "      <th>1</th>\n",
       "      <td>1691609839548</td>\n",
       "      <td>{'tensor': [-1.0603297501, 2.3544967095000002, -3.5638788326, 5.1387348926, -1.2308457019, -0.7687824608, -3.5881228109, 1.8880837663, -3.2789674274, -3.9563254554, 4.0993439118, -5.6539176395, -0.8775733373, -9.131571192, -0.6093537873, -3.7480276773, -5.0309125017, -0.8748149526000001, 1.9870535692, 0.7005485718000001, 0.9204422758, -0.1041491809, 0.3229564351, -0.7418141657, 0.0384120159, 1.0993439146, 1.2603409756000001, -0.1466244739, -1.4463212439]}</td>\n",
       "      <td>{'dense_1': [0.99300325]}</td>\n",
       "      <td>[]</td>\n",
       "      <td>{'last_model': '{\"model_name\":\"vpzfccfraudmodel\",\"model_sha\":\"bc85ce596945f876256f41515c7501c399fd97ebcb9ab3dd41bf03f8937b4507\"}', 'pipeline_version': '', 'elapsed': [49404450, 3242923], 'dropped': []}</td>\n",
       "    </tr>\n",
       "    <tr>\n",
       "      <th>2</th>\n",
       "      <td>1691609839548</td>\n",
       "      <td>{'tensor': [-1.0603297501, 2.3544967095000002, -3.5638788326, 5.1387348926, -1.2308457019, -0.7687824608, -3.5881228109, 1.8880837663, -3.2789674274, -3.9563254554, 4.0993439118, -5.6539176395, -0.8775733373, -9.131571192, -0.6093537873, -3.7480276773, -5.0309125017, -0.8748149526000001, 1.9870535692, 0.7005485718000001, 0.9204422758, -0.1041491809, 0.3229564351, -0.7418141657, 0.0384120159, 1.0993439146, 1.2603409756000001, -0.1466244739, -1.4463212439]}</td>\n",
       "      <td>{'dense_1': [0.99300325]}</td>\n",
       "      <td>[]</td>\n",
       "      <td>{'last_model': '{\"model_name\":\"vpzfccfraudmodel\",\"model_sha\":\"bc85ce596945f876256f41515c7501c399fd97ebcb9ab3dd41bf03f8937b4507\"}', 'pipeline_version': '', 'elapsed': [49404450, 3242923], 'dropped': []}</td>\n",
       "    </tr>\n",
       "    <tr>\n",
       "      <th>3</th>\n",
       "      <td>1691609839548</td>\n",
       "      <td>{'tensor': [-1.0603297501, 2.3544967095000002, -3.5638788326, 5.1387348926, -1.2308457019, -0.7687824608, -3.5881228109, 1.8880837663, -3.2789674274, -3.9563254554, 4.0993439118, -5.6539176395, -0.8775733373, -9.131571192, -0.6093537873, -3.7480276773, -5.0309125017, -0.8748149526000001, 1.9870535692, 0.7005485718000001, 0.9204422758, -0.1041491809, 0.3229564351, -0.7418141657, 0.0384120159, 1.0993439146, 1.2603409756000001, -0.1466244739, -1.4463212439]}</td>\n",
       "      <td>{'dense_1': [0.99300325]}</td>\n",
       "      <td>[]</td>\n",
       "      <td>{'last_model': '{\"model_name\":\"vpzfccfraudmodel\",\"model_sha\":\"bc85ce596945f876256f41515c7501c399fd97ebcb9ab3dd41bf03f8937b4507\"}', 'pipeline_version': '', 'elapsed': [49404450, 3242923], 'dropped': []}</td>\n",
       "    </tr>\n",
       "    <tr>\n",
       "      <th>4</th>\n",
       "      <td>1691609839548</td>\n",
       "      <td>{'tensor': [0.5817662108, 0.09788155100000001, 0.1546819424, 0.4754101949, -0.19788623060000002, -0.45043448540000003, 0.016654044700000002, -0.0256070551, 0.0920561602, -0.2783917153, 0.059329944100000004, -0.0196585416, -0.4225083157, -0.12175388770000001, 1.5473094894, 0.2391622864, 0.3553974881, -0.7685165301, -0.7000849355000001, -0.1190043285, -0.3450517133, -1.1065114108, 0.2523411195, 0.0209441826, 0.2199267436, 0.2540689265, -0.0450225094, 0.10867738980000001, 0.2547179311]}</td>\n",
       "      <td>{'dense_1': [0.0010916889]}</td>\n",
       "      <td>[]</td>\n",
       "      <td>{'last_model': '{\"model_name\":\"vpzfccfraudmodel\",\"model_sha\":\"bc85ce596945f876256f41515c7501c399fd97ebcb9ab3dd41bf03f8937b4507\"}', 'pipeline_version': '', 'elapsed': [49404450, 3242923], 'dropped': []}</td>\n",
       "    </tr>\n",
       "  </tbody>\n",
       "</table>\n",
       "</div>"
      ],
      "text/plain": [
       "            time  \\\n",
       "0  1691609839548   \n",
       "1  1691609839548   \n",
       "2  1691609839548   \n",
       "3  1691609839548   \n",
       "4  1691609839548   \n",
       "\n",
       "                                                                                                                                                                                                                                                                                                                                                                                                                                                                                                         in  \\\n",
       "0                               {'tensor': [-1.0603297501, 2.3544967095000002, -3.5638788326, 5.1387348926, -1.2308457019, -0.7687824608, -3.5881228109, 1.8880837663, -3.2789674274, -3.9563254554, 4.0993439118, -5.6539176395, -0.8775733373, -9.131571192, -0.6093537873, -3.7480276773, -5.0309125017, -0.8748149526000001, 1.9870535692, 0.7005485718000001, 0.9204422758, -0.1041491809, 0.3229564351, -0.7418141657, 0.0384120159, 1.0993439146, 1.2603409756000001, -0.1466244739, -1.4463212439]}   \n",
       "1                               {'tensor': [-1.0603297501, 2.3544967095000002, -3.5638788326, 5.1387348926, -1.2308457019, -0.7687824608, -3.5881228109, 1.8880837663, -3.2789674274, -3.9563254554, 4.0993439118, -5.6539176395, -0.8775733373, -9.131571192, -0.6093537873, -3.7480276773, -5.0309125017, -0.8748149526000001, 1.9870535692, 0.7005485718000001, 0.9204422758, -0.1041491809, 0.3229564351, -0.7418141657, 0.0384120159, 1.0993439146, 1.2603409756000001, -0.1466244739, -1.4463212439]}   \n",
       "2                               {'tensor': [-1.0603297501, 2.3544967095000002, -3.5638788326, 5.1387348926, -1.2308457019, -0.7687824608, -3.5881228109, 1.8880837663, -3.2789674274, -3.9563254554, 4.0993439118, -5.6539176395, -0.8775733373, -9.131571192, -0.6093537873, -3.7480276773, -5.0309125017, -0.8748149526000001, 1.9870535692, 0.7005485718000001, 0.9204422758, -0.1041491809, 0.3229564351, -0.7418141657, 0.0384120159, 1.0993439146, 1.2603409756000001, -0.1466244739, -1.4463212439]}   \n",
       "3                               {'tensor': [-1.0603297501, 2.3544967095000002, -3.5638788326, 5.1387348926, -1.2308457019, -0.7687824608, -3.5881228109, 1.8880837663, -3.2789674274, -3.9563254554, 4.0993439118, -5.6539176395, -0.8775733373, -9.131571192, -0.6093537873, -3.7480276773, -5.0309125017, -0.8748149526000001, 1.9870535692, 0.7005485718000001, 0.9204422758, -0.1041491809, 0.3229564351, -0.7418141657, 0.0384120159, 1.0993439146, 1.2603409756000001, -0.1466244739, -1.4463212439]}   \n",
       "4  {'tensor': [0.5817662108, 0.09788155100000001, 0.1546819424, 0.4754101949, -0.19788623060000002, -0.45043448540000003, 0.016654044700000002, -0.0256070551, 0.0920561602, -0.2783917153, 0.059329944100000004, -0.0196585416, -0.4225083157, -0.12175388770000001, 1.5473094894, 0.2391622864, 0.3553974881, -0.7685165301, -0.7000849355000001, -0.1190043285, -0.3450517133, -1.1065114108, 0.2523411195, 0.0209441826, 0.2199267436, 0.2540689265, -0.0450225094, 0.10867738980000001, 0.2547179311]}   \n",
       "\n",
       "                           out check_failures  \\\n",
       "0    {'dense_1': [0.99300325]}             []   \n",
       "1    {'dense_1': [0.99300325]}             []   \n",
       "2    {'dense_1': [0.99300325]}             []   \n",
       "3    {'dense_1': [0.99300325]}             []   \n",
       "4  {'dense_1': [0.0010916889]}             []   \n",
       "\n",
       "                                                                                                                                                                                                    metadata  \n",
       "0  {'last_model': '{\"model_name\":\"vpzfccfraudmodel\",\"model_sha\":\"bc85ce596945f876256f41515c7501c399fd97ebcb9ab3dd41bf03f8937b4507\"}', 'pipeline_version': '', 'elapsed': [49404450, 3242923], 'dropped': []}  \n",
       "1  {'last_model': '{\"model_name\":\"vpzfccfraudmodel\",\"model_sha\":\"bc85ce596945f876256f41515c7501c399fd97ebcb9ab3dd41bf03f8937b4507\"}', 'pipeline_version': '', 'elapsed': [49404450, 3242923], 'dropped': []}  \n",
       "2  {'last_model': '{\"model_name\":\"vpzfccfraudmodel\",\"model_sha\":\"bc85ce596945f876256f41515c7501c399fd97ebcb9ab3dd41bf03f8937b4507\"}', 'pipeline_version': '', 'elapsed': [49404450, 3242923], 'dropped': []}  \n",
       "3  {'last_model': '{\"model_name\":\"vpzfccfraudmodel\",\"model_sha\":\"bc85ce596945f876256f41515c7501c399fd97ebcb9ab3dd41bf03f8937b4507\"}', 'pipeline_version': '', 'elapsed': [49404450, 3242923], 'dropped': []}  \n",
       "4  {'last_model': '{\"model_name\":\"vpzfccfraudmodel\",\"model_sha\":\"bc85ce596945f876256f41515c7501c399fd97ebcb9ab3dd41bf03f8937b4507\"}', 'pipeline_version': '', 'elapsed': [49404450, 3242923], 'dropped': []}  "
      ]
     },
     "metadata": {},
     "output_type": "display_data"
    }
   ],
   "source": [
    "cc_data_from_file =  pd.read_json('./curl_response.df', orient=\"records\")\n",
    "display(cc_data_from_file.head(5))"
   ]
  },
  {
   "cell_type": "code",
   "execution_count": 24,
   "metadata": {},
   "outputs": [
    {
     "data": {
      "text/html": [
       "<div>\n",
       "<style scoped>\n",
       "    .dataframe tbody tr th:only-of-type {\n",
       "        vertical-align: middle;\n",
       "    }\n",
       "\n",
       "    .dataframe tbody tr th {\n",
       "        vertical-align: top;\n",
       "    }\n",
       "\n",
       "    .dataframe thead th {\n",
       "        text-align: right;\n",
       "    }\n",
       "</style>\n",
       "<table border=\"1\" class=\"dataframe\">\n",
       "  <thead>\n",
       "    <tr style=\"text-align: right;\">\n",
       "      <th></th>\n",
       "      <th>time</th>\n",
       "      <th>out</th>\n",
       "    </tr>\n",
       "  </thead>\n",
       "  <tbody>\n",
       "    <tr>\n",
       "      <th>0</th>\n",
       "      <td>1691609843411</td>\n",
       "      <td>{'dense_1': [0.99300325]}</td>\n",
       "    </tr>\n",
       "    <tr>\n",
       "      <th>1</th>\n",
       "      <td>1691609843411</td>\n",
       "      <td>{'dense_1': [0.99300325]}</td>\n",
       "    </tr>\n",
       "    <tr>\n",
       "      <th>2</th>\n",
       "      <td>1691609843411</td>\n",
       "      <td>{'dense_1': [0.99300325]}</td>\n",
       "    </tr>\n",
       "    <tr>\n",
       "      <th>3</th>\n",
       "      <td>1691609843411</td>\n",
       "      <td>{'dense_1': [0.99300325]}</td>\n",
       "    </tr>\n",
       "    <tr>\n",
       "      <th>4</th>\n",
       "      <td>1691609843411</td>\n",
       "      <td>{'dense_1': [0.0010916889]}</td>\n",
       "    </tr>\n",
       "  </tbody>\n",
       "</table>\n",
       "</div>"
      ],
      "text/plain": [
       "            time                          out\n",
       "0  1691609843411    {'dense_1': [0.99300325]}\n",
       "1  1691609843411    {'dense_1': [0.99300325]}\n",
       "2  1691609843411    {'dense_1': [0.99300325]}\n",
       "3  1691609843411    {'dense_1': [0.99300325]}\n",
       "4  1691609843411  {'dense_1': [0.0010916889]}"
      ]
     },
     "metadata": {},
     "output_type": "display_data"
    }
   ],
   "source": [
    "import requests\n",
    "\n",
    "# Again with Arrow and requests\n",
    "\n",
    "# Retrieve the token\n",
    "headers = wl.auth.auth_header()\n",
    "\n",
    "# set Content-Type type\n",
    "headers['Content-Type']='application/vnd.apache.arrow.file'\n",
    "\n",
    "# set accept as pandas-records\n",
    "headers['Accept']=\"application/vnd.apache.arrow.file\"\n",
    "\n",
    "# Submit arrow file\n",
    "dataFile=\"./cc_data_10k.arrow\"\n",
    "\n",
    "data = open(dataFile,'rb').read()\n",
    "\n",
    "response = requests.post(\n",
    "                    deploy_url, \n",
    "                    headers=headers, \n",
    "                    data=data, \n",
    "                    verify=True\n",
    "                )\n",
    "\n",
    "# Arrow table is retrieved \n",
    "with pa.ipc.open_file(response.content) as reader:\n",
    "    arrow_table = reader.read_all()\n",
    "\n",
    "# convert to Polars DataFrame and display the first 5 rows\n",
    "display(arrow_table.to_pandas().head(5).loc[:,[\"time\", \"out\"]])"
   ]
  },
  {
   "cell_type": "markdown",
   "metadata": {},
   "source": [
    "With the arrow file returned, we'll show the first five rows for comparison."
   ]
  },
  {
   "cell_type": "markdown",
   "metadata": {},
   "source": [
    "With our work in the pipeline done, we'll undeploy it to get back our resources from the Kubernetes cluster.  If we keep the same settings we can redeploy the pipeline with the same configuration in the future."
   ]
  },
  {
   "cell_type": "code",
   "execution_count": 25,
   "metadata": {},
   "outputs": [
    {
     "name": "stderr",
     "output_type": "stream",
     "text": [
      "Warning: There are more logs available. Please set a larger limit or request a file using export_logs."
     ]
    },
    {
     "data": {
      "text/html": [
       "<div>\n",
       "<style scoped>\n",
       "    .dataframe tbody tr th:only-of-type {\n",
       "        vertical-align: middle;\n",
       "    }\n",
       "\n",
       "    .dataframe tbody tr th {\n",
       "        vertical-align: top;\n",
       "    }\n",
       "\n",
       "    .dataframe thead th {\n",
       "        text-align: right;\n",
       "    }\n",
       "</style>\n",
       "<table border=\"1\" class=\"dataframe\">\n",
       "  <thead>\n",
       "    <tr style=\"text-align: right;\">\n",
       "      <th></th>\n",
       "      <th>time</th>\n",
       "      <th>in.tensor</th>\n",
       "      <th>out.dense_1</th>\n",
       "      <th>check_failures</th>\n",
       "    </tr>\n",
       "  </thead>\n",
       "  <tbody>\n",
       "    <tr>\n",
       "      <th>0</th>\n",
       "      <td>2023-08-09 19:37:23.411</td>\n",
       "      <td>[-0.12405868, 0.73698884, 1.0311689, 0.59917533, 0.11831961, -0.47327134, 0.67207795, -0.16058543, -0.77808416, -0.2683532, -0.22364272, 0.64049035, 1.5038015, 0.004768592, 1.0683576, -0.3107394, -0.3427847, -0.078522496, 0.5455177, 0.1297957, 0.10491481, 0.4318976, -0.25777233, 0.701442, -0.36567155, -0.87004745, 0.41288367, 0.49470216, -0.6710689]</td>\n",
       "      <td>[0.0010648072]</td>\n",
       "      <td>0</td>\n",
       "    </tr>\n",
       "    <tr>\n",
       "      <th>1</th>\n",
       "      <td>2023-08-09 19:37:23.411</td>\n",
       "      <td>[-2.1694233, -3.1647356, 1.2038506, -0.2649221, 0.0899006, -0.18928011, -0.3495527, 0.17693162, 0.70965016, 0.19469678, -1.4288249, -1.5722991, -1.8213876, -1.2968907, -0.95062584, 0.8917047, 0.751387, -1.5475872, 0.3787144, 0.7525444, -0.03103788, 0.5858543, 2.6022773, -0.5311059, 1.8174038, -0.19327773, 0.94089776, 0.825025, 1.6242892]</td>\n",
       "      <td>[0.00024175644]</td>\n",
       "      <td>0</td>\n",
       "    </tr>\n",
       "    <tr>\n",
       "      <th>2</th>\n",
       "      <td>2023-08-09 19:37:23.411</td>\n",
       "      <td>[-0.24798988, 0.40499672, 0.49408177, -0.37252557, -0.412961, -0.38151076, -0.042232547, 0.293104, -2.1088455, 0.49807099, 0.8488427, -0.9078823, -0.89734304, 0.8601335, 0.6696, 0.48890257, 1.0623674, -0.5090369, 3.616667, 0.29580164, 0.43410888, 0.8741068, -0.6503351, 0.034938015, 0.96057385, 0.43238926, -0.1975937, -0.04551184, -0.12277038]</td>\n",
       "      <td>[0.00150159]</td>\n",
       "      <td>0</td>\n",
       "    </tr>\n",
       "    <tr>\n",
       "      <th>3</th>\n",
       "      <td>2023-08-09 19:37:23.411</td>\n",
       "      <td>[-0.2260837, 0.12802614, -0.8732004, -2.089788, 1.8722432, 2.05272, 0.09746246, 0.49692878, -1.0799059, 0.80176145, -0.26333216, -1.0224636, -0.056668393, -0.060779527, -0.20089072, 1.2798951, -0.55411917, -1.270442, 0.41811302, 0.2239133, 0.3109173, 1.0051724, 0.07736663, 1.7022146, -0.93862903, -0.99493766, -0.68271357, -0.71875495, -1.4715525]</td>\n",
       "      <td>[0.00037947297]</td>\n",
       "      <td>0</td>\n",
       "    </tr>\n",
       "    <tr>\n",
       "      <th>4</th>\n",
       "      <td>2023-08-09 19:37:23.411</td>\n",
       "      <td>[-0.90164274, -0.50116056, 1.2045985, 0.4078851, 0.2981652, -0.26469636, 0.4460249, 0.16928293, -0.15559517, -0.7641287, -0.8956279, -0.6098771, -0.87228906, 0.158441, 0.7461226, 0.43037805, -0.7037308, 0.7927367, -1.111509, 0.83980113, 0.6249728, 0.7301589, 0.5632024, 1.7966471, 1.5083653, -1.0206859, -0.11091206, 0.37982145, 1.2463697]</td>\n",
       "      <td>[0.0001988411]</td>\n",
       "      <td>0</td>\n",
       "    </tr>\n",
       "    <tr>\n",
       "      <th>...</th>\n",
       "      <td>...</td>\n",
       "      <td>...</td>\n",
       "      <td>...</td>\n",
       "      <td>...</td>\n",
       "    </tr>\n",
       "    <tr>\n",
       "      <th>95</th>\n",
       "      <td>2023-08-09 19:37:23.411</td>\n",
       "      <td>[-0.1093998, -0.031678658, 0.9885652, -0.6860291, -0.6046543, 0.6653355, -0.6293921, -1.1772763, 1.4608942, -1.1322296, -1.9279546, 1.4049336, 1.2282782, -1.4884002, -3.115575, 0.41227773, -0.47484678, -0.9897973, -1.1200552, -0.66070575, 1.6864017, -1.4189101, -0.70692146, -0.5732528, 1.981664, 1.7516811, 0.28014255, 0.30193287, 0.80388844]</td>\n",
       "      <td>[0.00020942092]</td>\n",
       "      <td>0</td>\n",
       "    </tr>\n",
       "    <tr>\n",
       "      <th>96</th>\n",
       "      <td>2023-08-09 19:37:23.411</td>\n",
       "      <td>[0.44973943, -0.35288164, 0.5224735, 0.910402, -0.72067416, -0.050270014, -0.3414758, 0.10386056, 0.6459101, -0.019469967, -1.1449441, -0.7871593, -1.2093763, 0.26724637, 1.7972686, 1.0460316, -0.9273358, 0.91270906, -0.69702125, 0.19257616, 0.23213731, 0.08892933, -0.34931126, -0.31643763, 0.583289, -0.6749049, 0.0472516, 0.20378655, 1.0983771]</td>\n",
       "      <td>[0.00031492114]</td>\n",
       "      <td>0</td>\n",
       "    </tr>\n",
       "    <tr>\n",
       "      <th>97</th>\n",
       "      <td>2023-08-09 19:37:23.411</td>\n",
       "      <td>[0.82174337, -0.50793207, -1.358988, 0.37136176, 0.19260807, -0.60984015, 0.63114387, -0.31723085, 0.34576818, 0.015056487, -0.9967559, -0.037889328, -0.68294096, 0.6202497, -0.32679954, -0.6409717, -0.0055463314, -0.8609782, 0.119142644, 0.3092495, 0.1808159, -0.019580727, -0.20877448, 1.1818781, 0.2868476, 1.1510639, -0.37393016, -0.094152406, 1.2670404]</td>\n",
       "      <td>[0.00081187487]</td>\n",
       "      <td>0</td>\n",
       "    </tr>\n",
       "    <tr>\n",
       "      <th>98</th>\n",
       "      <td>2023-08-09 19:37:23.411</td>\n",
       "      <td>[1.0252348, 0.37717652, -1.4182774, 0.7057443, 0.36312255, -1.3660663, 0.17341496, -0.3454704, 1.7643102, -1.3501495, 0.9257918, -3.374893, 0.3617876, -0.8583969, 0.5060873, 0.8873245, 2.925866, 2.0265691, -1.1160102, -0.36432365, -0.0936597, 0.25772303, -0.02305712, -0.45073295, 0.37329674, -0.2838264, -0.0411118, 0.006249274, -1.4715525]</td>\n",
       "      <td>[0.001860708]</td>\n",
       "      <td>0</td>\n",
       "    </tr>\n",
       "    <tr>\n",
       "      <th>99</th>\n",
       "      <td>2023-08-09 19:37:23.411</td>\n",
       "      <td>[-0.36498702, 0.11005125, 0.7734325, 1.0163404, -0.38190573, 0.41608095, 1.4093872, -0.12511922, -0.14253987, -0.093657725, -0.6349157, -0.41843006, -0.91369456, -0.0038188277, 0.3744724, -1.3620936, 0.6263981, -0.57914644, 0.82675296, 0.9850866, 0.08680151, 0.28205827, 0.7979858, 0.065717764, -0.052254554, -0.53277296, 0.40100586, 0.0075293095, 1.3380127]</td>\n",
       "      <td>[0.00064843893]</td>\n",
       "      <td>0</td>\n",
       "    </tr>\n",
       "  </tbody>\n",
       "</table>\n",
       "<p>100 rows × 4 columns</p>\n",
       "</div>"
      ],
      "text/plain": [
       "                      time  \\\n",
       "0  2023-08-09 19:37:23.411   \n",
       "1  2023-08-09 19:37:23.411   \n",
       "2  2023-08-09 19:37:23.411   \n",
       "3  2023-08-09 19:37:23.411   \n",
       "4  2023-08-09 19:37:23.411   \n",
       "..                     ...   \n",
       "95 2023-08-09 19:37:23.411   \n",
       "96 2023-08-09 19:37:23.411   \n",
       "97 2023-08-09 19:37:23.411   \n",
       "98 2023-08-09 19:37:23.411   \n",
       "99 2023-08-09 19:37:23.411   \n",
       "\n",
       "                                                                                                                                                                                                                                                                                                                                                                 in.tensor  \\\n",
       "0          [-0.12405868, 0.73698884, 1.0311689, 0.59917533, 0.11831961, -0.47327134, 0.67207795, -0.16058543, -0.77808416, -0.2683532, -0.22364272, 0.64049035, 1.5038015, 0.004768592, 1.0683576, -0.3107394, -0.3427847, -0.078522496, 0.5455177, 0.1297957, 0.10491481, 0.4318976, -0.25777233, 0.701442, -0.36567155, -0.87004745, 0.41288367, 0.49470216, -0.6710689]   \n",
       "1                      [-2.1694233, -3.1647356, 1.2038506, -0.2649221, 0.0899006, -0.18928011, -0.3495527, 0.17693162, 0.70965016, 0.19469678, -1.4288249, -1.5722991, -1.8213876, -1.2968907, -0.95062584, 0.8917047, 0.751387, -1.5475872, 0.3787144, 0.7525444, -0.03103788, 0.5858543, 2.6022773, -0.5311059, 1.8174038, -0.19327773, 0.94089776, 0.825025, 1.6242892]   \n",
       "2                 [-0.24798988, 0.40499672, 0.49408177, -0.37252557, -0.412961, -0.38151076, -0.042232547, 0.293104, -2.1088455, 0.49807099, 0.8488427, -0.9078823, -0.89734304, 0.8601335, 0.6696, 0.48890257, 1.0623674, -0.5090369, 3.616667, 0.29580164, 0.43410888, 0.8741068, -0.6503351, 0.034938015, 0.96057385, 0.43238926, -0.1975937, -0.04551184, -0.12277038]   \n",
       "3             [-0.2260837, 0.12802614, -0.8732004, -2.089788, 1.8722432, 2.05272, 0.09746246, 0.49692878, -1.0799059, 0.80176145, -0.26333216, -1.0224636, -0.056668393, -0.060779527, -0.20089072, 1.2798951, -0.55411917, -1.270442, 0.41811302, 0.2239133, 0.3109173, 1.0051724, 0.07736663, 1.7022146, -0.93862903, -0.99493766, -0.68271357, -0.71875495, -1.4715525]   \n",
       "4                      [-0.90164274, -0.50116056, 1.2045985, 0.4078851, 0.2981652, -0.26469636, 0.4460249, 0.16928293, -0.15559517, -0.7641287, -0.8956279, -0.6098771, -0.87228906, 0.158441, 0.7461226, 0.43037805, -0.7037308, 0.7927367, -1.111509, 0.83980113, 0.6249728, 0.7301589, 0.5632024, 1.7966471, 1.5083653, -1.0206859, -0.11091206, 0.37982145, 1.2463697]   \n",
       "..                                                                                                                                                                                                                                                                                                                                                                     ...   \n",
       "95                 [-0.1093998, -0.031678658, 0.9885652, -0.6860291, -0.6046543, 0.6653355, -0.6293921, -1.1772763, 1.4608942, -1.1322296, -1.9279546, 1.4049336, 1.2282782, -1.4884002, -3.115575, 0.41227773, -0.47484678, -0.9897973, -1.1200552, -0.66070575, 1.6864017, -1.4189101, -0.70692146, -0.5732528, 1.981664, 1.7516811, 0.28014255, 0.30193287, 0.80388844]   \n",
       "96             [0.44973943, -0.35288164, 0.5224735, 0.910402, -0.72067416, -0.050270014, -0.3414758, 0.10386056, 0.6459101, -0.019469967, -1.1449441, -0.7871593, -1.2093763, 0.26724637, 1.7972686, 1.0460316, -0.9273358, 0.91270906, -0.69702125, 0.19257616, 0.23213731, 0.08892933, -0.34931126, -0.31643763, 0.583289, -0.6749049, 0.0472516, 0.20378655, 1.0983771]   \n",
       "97  [0.82174337, -0.50793207, -1.358988, 0.37136176, 0.19260807, -0.60984015, 0.63114387, -0.31723085, 0.34576818, 0.015056487, -0.9967559, -0.037889328, -0.68294096, 0.6202497, -0.32679954, -0.6409717, -0.0055463314, -0.8609782, 0.119142644, 0.3092495, 0.1808159, -0.019580727, -0.20877448, 1.1818781, 0.2868476, 1.1510639, -0.37393016, -0.094152406, 1.2670404]   \n",
       "98                   [1.0252348, 0.37717652, -1.4182774, 0.7057443, 0.36312255, -1.3660663, 0.17341496, -0.3454704, 1.7643102, -1.3501495, 0.9257918, -3.374893, 0.3617876, -0.8583969, 0.5060873, 0.8873245, 2.925866, 2.0265691, -1.1160102, -0.36432365, -0.0936597, 0.25772303, -0.02305712, -0.45073295, 0.37329674, -0.2838264, -0.0411118, 0.006249274, -1.4715525]   \n",
       "99  [-0.36498702, 0.11005125, 0.7734325, 1.0163404, -0.38190573, 0.41608095, 1.4093872, -0.12511922, -0.14253987, -0.093657725, -0.6349157, -0.41843006, -0.91369456, -0.0038188277, 0.3744724, -1.3620936, 0.6263981, -0.57914644, 0.82675296, 0.9850866, 0.08680151, 0.28205827, 0.7979858, 0.065717764, -0.052254554, -0.53277296, 0.40100586, 0.0075293095, 1.3380127]   \n",
       "\n",
       "        out.dense_1  check_failures  \n",
       "0    [0.0010648072]               0  \n",
       "1   [0.00024175644]               0  \n",
       "2      [0.00150159]               0  \n",
       "3   [0.00037947297]               0  \n",
       "4    [0.0001988411]               0  \n",
       "..              ...             ...  \n",
       "95  [0.00020942092]               0  \n",
       "96  [0.00031492114]               0  \n",
       "97  [0.00081187487]               0  \n",
       "98    [0.001860708]               0  \n",
       "99  [0.00064843893]               0  \n",
       "\n",
       "[100 rows x 4 columns]"
      ]
     },
     "execution_count": 25,
     "metadata": {},
     "output_type": "execute_result"
    }
   ],
   "source": [
    "ccfraud_pipeline.logs()"
   ]
  },
  {
   "cell_type": "code",
   "execution_count": 26,
   "metadata": {},
   "outputs": [
    {
     "name": "stdout",
     "output_type": "stream",
     "text": [
      "Waiting for undeployment - this will take up to 45s ..................................... ok\n"
     ]
    },
    {
     "data": {
      "text/html": [
       "<table><tr><th>name</th> <td>vpzfccfraudpipeline</td></tr><tr><th>created</th> <td>2023-08-09 19:33:35.076256+00:00</td></tr><tr><th>last_updated</th> <td>2023-08-09 19:35:08.065724+00:00</td></tr><tr><th>deployed</th> <td>False</td></tr><tr><th>tags</th> <td></td></tr><tr><th>versions</th> <td>76bd9d2c-677c-4a2e-ad9c-994545c87a40, 020505b3-f203-41f5-9c71-3e227ec20ac1</td></tr><tr><th>steps</th> <td>vpzfccfraudmodel</td></tr></table>"
      ],
      "text/plain": [
       "{'name': 'vpzfccfraudpipeline', 'create_time': datetime.datetime(2023, 8, 9, 19, 33, 35, 76256, tzinfo=tzutc()), 'definition': \"[{'ModelInference': {'models': [{'name': 'vpzfccfraudmodel', 'version': 'b4aed6c6-dd44-4bb1-b992-685d361536df', 'sha': 'bc85ce596945f876256f41515c7501c399fd97ebcb9ab3dd41bf03f8937b4507'}]}}]\"}"
      ]
     },
     "execution_count": 26,
     "metadata": {},
     "output_type": "execute_result"
    }
   ],
   "source": [
    "ccfraud_pipeline.undeploy()"
   ]
  },
  {
   "cell_type": "markdown",
   "metadata": {},
   "source": [
    "And there we have it!  Feel free to use this as a template for other models, inferences and pipelines that you want to deploy with Wallaroo!"
   ]
  }
 ],
 "metadata": {
  "kernelspec": {
   "display_name": "Python 3 (ipykernel)",
   "language": "python",
   "name": "python3"
  },
  "language_info": {
   "codemirror_mode": {
    "name": "ipython",
    "version": 3
   },
   "file_extension": ".py",
   "mimetype": "text/x-python",
   "name": "python",
   "nbconvert_exporter": "python",
   "pygments_lexer": "ipython3",
   "version": "3.9.13"
  }
 },
 "nbformat": 4,
 "nbformat_minor": 4
}
