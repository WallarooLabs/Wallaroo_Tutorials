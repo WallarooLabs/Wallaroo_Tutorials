{
 "cells": [
  {
   "cell_type": "markdown",
   "metadata": {},
   "source": [
    "This tutorial is available on the [Wallaroo Tutorials repository](https://github.com/WallarooLabs/Wallaroo_Tutorials/blob/2023.3.0-updates/pipeline-architecture/wallaroo-arm-cv-demonstration).\n",
    "\n",
    "This tutorial demonstrates how to use the Wallaroo combined with ARM processors to perform inferences with pre-trained computer vision ML models.  This demonstration assumes that:\n",
    "\n",
    "* A Wallaroo version 2023.3 or above instance is installed.\n",
    "* A nodepools with ARM architecture virtual machines are part of the Kubernetes cluster.  For example, Azure supports Ampere® Altra® Arm-based processor included with the following virtual machines:\n",
    "  * [Dpsv5 and Dpdsv5-series](https://learn.microsoft.com/en-us/azure/virtual-machines/dpsv5-dpdsv5-series)\n",
    "  * [Epsv5 and Epdsv5-series](https://learn.microsoft.com/en-us/azure/virtual-machines/epsv5-epdsv5-series)\n",
    "* The applications and modules specified in the notebook `arm-computer-vision-preparation.ipynb` are complete.\n",
    "\n",
    "### Tutorial Goals\n",
    "\n",
    "For our example, we will perform the following:\n",
    "\n",
    "* Create a workspace for our work.\n",
    "* Upload the the resnet computer vision model model.\n",
    "* Create a pipeline using the default architecture that can ingest our submitted data, submit it to the model, and export the results while tracking how long the inference took.\n",
    "* Redeploy the same pipeline on the ARM architecture, then perform the same inference on the same data and model and track how long the inference took.\n",
    "* Compare the inference timing through the default architecture versus the ARM architecture."
   ]
  },
  {
   "cell_type": "markdown",
   "metadata": {},
   "source": [
    "## Steps\n",
    "\n",
    "### Import Libraries\n",
    "\n",
    "The first step will be to import our libraries."
   ]
  },
  {
   "cell_type": "code",
   "execution_count": 16,
   "metadata": {},
   "outputs": [],
   "source": [
    "import torch\n",
    "import pickle\n",
    "import wallaroo\n",
    "from wallaroo.object import EntityNotFoundError\n",
    "from wallaroo.framework import Framework\n",
    "\n",
    "import numpy as np\n",
    "import json\n",
    "import requests\n",
    "import time\n",
    "import pandas as pd\n",
    "\n",
    "# used to display dataframe information without truncating\n",
    "from IPython.display import display\n",
    "import pandas as pd\n",
    "pd.set_option('display.max_colwidth', None)\n",
    "\n",
    "# used for unique connection names\n",
    "\n",
    "import string\n",
    "import random\n",
    "suffix= ''.join(random.choice(string.ascii_lowercase) for i in range(4))"
   ]
  },
  {
   "cell_type": "markdown",
   "metadata": {},
   "source": [
    "### Connect to the Wallaroo Instance\n",
    "\n",
    "The first step is to connect to Wallaroo through the Wallaroo client.  The Python library is included in the Wallaroo install and available through the Jupyter Hub interface provided with your Wallaroo environment.\n",
    "\n",
    "This is accomplished using the `wallaroo.Client()` command, which provides a URL to grant the SDK permission to your specific Wallaroo environment.  When displayed, enter the URL into a browser and confirm permissions.  Store the connection into a variable that can be referenced later.\n",
    "\n",
    "If logging into the Wallaroo instance through the internal JupyterHub service, use `wl = wallaroo.Client()`.  For more information on Wallaroo Client settings, see the [Client Connection guide](https://docs.wallaroo.ai/wallaroo-developer-guides/wallaroo-sdk-guides/wallaroo-sdk-essentials-guide/wallaroo-sdk-essentials-client/)."
   ]
  },
  {
   "cell_type": "code",
   "execution_count": 17,
   "metadata": {},
   "outputs": [],
   "source": [
    "# Login through local service\n",
    "\n",
    "wl = wallaroo.Client()\n",
    "\n",
    "wl = wallaroo.Client()\n",
    "\n",
    "wallarooPrefix = \"product-uat-ee.\"\n",
    "wallarooSuffix = \"wallaroocommunity.ninja\"\n",
    "\n",
    "wl = wallaroo.Client(api_endpoint=f\"https://{wallarooPrefix}api.{wallarooSuffix}\", \n",
    "                    auth_endpoint=f\"https://{wallarooPrefix}keycloak.{wallarooSuffix}\", \n",
    "                    auth_type=\"sso\")"
   ]
  },
  {
   "cell_type": "markdown",
   "metadata": {},
   "source": [
    "### Set Variables\n",
    "\n",
    "The following variables and methods are used later to create or connect to an existing workspace, pipeline, and model.\n",
    "\n",
    "The `suffix` is used to ensure unique workspace names across the Wallaroo instance.  Set this to '' if not required."
   ]
  },
  {
   "cell_type": "code",
   "execution_count": 18,
   "metadata": {},
   "outputs": [],
   "source": [
    "suffix=''\n",
    "\n",
    "workspace_name = f'cv-arm-example{suffix}'\n",
    "pipeline_name = 'cv-sample'\n",
    "\n",
    "resnet_model_name = 'resnet50'\n",
    "resnet_model_file_name = 'models/resnet50_v1.onnx'"
   ]
  },
  {
   "cell_type": "code",
   "execution_count": 19,
   "metadata": {},
   "outputs": [],
   "source": [
    "def get_workspace(name):\n",
    "    workspace = None\n",
    "    for ws in wl.list_workspaces():\n",
    "        if ws.name() == name:\n",
    "            workspace= ws\n",
    "    if(workspace == None):\n",
    "        workspace = wl.create_workspace(name)\n",
    "    return workspace\n",
    "\n",
    "def get_pipeline(name):\n",
    "    try:\n",
    "        pipeline = wl.pipelines_by_name(name)[0]\n",
    "    except EntityNotFoundError:\n",
    "        pipeline = wl.build_pipeline(name)\n",
    "    return pipeline"
   ]
  },
  {
   "cell_type": "markdown",
   "metadata": {},
   "source": [
    "### Create Workspace\n",
    "\n",
    "The workspace will be created or connected to, and set as the default workspace for this session.  Once that is done, then all models and pipelines will be set in that workspace."
   ]
  },
  {
   "cell_type": "code",
   "execution_count": 20,
   "metadata": {},
   "outputs": [
    {
     "data": {
      "text/plain": [
       "{'name': 'cv-arm-example', 'id': 80, 'archived': False, 'created_by': '6d75da2e-3913-4acd-b1bb-06dd1eb3d0df', 'created_at': '2023-09-07T15:41:47.832442+00:00', 'models': [{'name': 'resnet50', 'versions': 1, 'owner_id': '\"\"', 'last_update_time': datetime.datetime(2023, 9, 7, 15, 41, 59, 385816, tzinfo=tzutc()), 'created_at': datetime.datetime(2023, 9, 7, 15, 41, 59, 385816, tzinfo=tzutc())}], 'pipelines': [{'name': 'cv-sample', 'create_time': datetime.datetime(2023, 9, 7, 15, 41, 49, 429383, tzinfo=tzutc()), 'definition': '[]'}]}"
      ]
     },
     "execution_count": 20,
     "metadata": {},
     "output_type": "execute_result"
    }
   ],
   "source": [
    "workspace = get_workspace(workspace_name)\n",
    "wl.set_current_workspace(workspace)\n",
    "wl.get_current_workspace()"
   ]
  },
  {
   "cell_type": "markdown",
   "metadata": {},
   "source": [
    "### Create Pipeline and Upload Model\n",
    "\n",
    "We will now create or connect to our pipeline and add our CV model as a pipeline step."
   ]
  },
  {
   "cell_type": "code",
   "execution_count": 21,
   "metadata": {},
   "outputs": [],
   "source": [
    "pipeline = get_pipeline(pipeline_name)\n",
    "\n",
    "resnet_model = wl.upload_model(resnet_model_name, resnet_model_file_name, framework=Framework.ONNX)"
   ]
  },
  {
   "cell_type": "markdown",
   "metadata": {},
   "source": [
    "### Deploy Pipeline\n",
    "\n",
    "With the model uploaded, we can add it is as a step in the pipeline, then deploy it.\n",
    "\n",
    "For this deployment we will be using the default deployment which uses the x86 architecture.\n",
    "\n",
    "\n",
    "Once deployed, resources from the Wallaroo instance will be reserved and the pipeline will be ready to use the model to perform inference requests. "
   ]
  },
  {
   "cell_type": "code",
   "execution_count": 29,
   "metadata": {},
   "outputs": [
    {
     "data": {
      "text/html": [
       "<table><tr><th>name</th> <td>cv-sample</td></tr><tr><th>created</th> <td>2023-09-07 15:41:49.429383+00:00</td></tr><tr><th>last_updated</th> <td>2023-09-07 15:48:05.234992+00:00</td></tr><tr><th>deployed</th> <td>True</td></tr><tr><th>tags</th> <td></td></tr><tr><th>versions</th> <td>9c4adfd4-ac05-4e4c-990c-9187a441aaed, 0d0d2880-5b62-4923-ba63-ed9f04244741, c7129597-3add-40c3-98e9-337ab09d32f5, 41d08c07-923c-4a68-983c-5053611708e5, 246a23c6-c667-49b3-9726-684b46cc8114, 496b517f-d1c9-4a26-8a76-8315621d5b1f, 84512dae-ed10-4ace-b0a6-a024a478b9d8, 916718f4-e367-4fb6-a9d5-ada948c0d0a7</td></tr><tr><th>steps</th> <td>resnet50</td></tr><tr><th>published</th> <td>False</td></tr></table>"
      ],
      "text/plain": [
       "{'name': 'cv-sample', 'create_time': datetime.datetime(2023, 9, 7, 15, 41, 49, 429383, tzinfo=tzutc()), 'definition': \"[{'ModelInference': {'models': [{'name': 'resnet50', 'version': '3dfb2793-fe98-4ea8-9366-5cbab60bb1f7', 'sha': 'c6c8869645962e7711132a7e17aced2ac0f60dcdc2c7faa79b2de73847a87984'}]}}]\"}"
      ]
     },
     "execution_count": 29,
     "metadata": {},
     "output_type": "execute_result"
    }
   ],
   "source": [
    "x86_deployment_config = (wallaroo.deployment_config\n",
    "                            .DeploymentConfigBuilder()\n",
    "                            .cpus(2)\n",
    "                            .memory('2Gi')\n",
    "                            .build()\n",
    "                        )\n",
    "# clear previous steps\n",
    "pipeline.clear()\n",
    "pipeline.add_model_step(resnet_model)\n",
    "\n",
    "pipeline.deploy(deployment_config = x86_deployment_config)"
   ]
  },
  {
   "cell_type": "code",
   "execution_count": 30,
   "metadata": {},
   "outputs": [
    {
     "data": {
      "text/plain": [
       "{'status': 'Running',\n",
       " 'details': [],\n",
       " 'engines': [{'ip': '10.244.8.5',\n",
       "   'name': 'engine-766b9f76f-9jbjm',\n",
       "   'status': 'Running',\n",
       "   'reason': None,\n",
       "   'details': [],\n",
       "   'pipeline_statuses': {'pipelines': [{'id': 'cv-sample',\n",
       "      'status': 'Running'}]},\n",
       "   'model_statuses': {'models': [{'name': 'resnet50',\n",
       "      'version': '3dfb2793-fe98-4ea8-9366-5cbab60bb1f7',\n",
       "      'sha': 'c6c8869645962e7711132a7e17aced2ac0f60dcdc2c7faa79b2de73847a87984',\n",
       "      'status': 'Running'}]}}],\n",
       " 'engine_lbs': [{'ip': '10.244.8.4',\n",
       "   'name': 'engine-lb-584f54c899-9k748',\n",
       "   'status': 'Running',\n",
       "   'reason': None,\n",
       "   'details': []}],\n",
       " 'sidekicks': []}"
      ]
     },
     "execution_count": 30,
     "metadata": {},
     "output_type": "execute_result"
    }
   ],
   "source": [
    "pipeline.status()"
   ]
  },
  {
   "cell_type": "markdown",
   "metadata": {
    "tags": []
   },
   "source": [
    "### Run Inference\n",
    "\n",
    "With that done, we can have the model detect the objects on the image by running an inference through the pipeline.  For this example, we will use a prepared Apache Arrow table `./data/image_224x224.arrow`"
   ]
  },
  {
   "cell_type": "code",
   "execution_count": 31,
   "metadata": {},
   "outputs": [],
   "source": [
    "startTime = time.time()\n",
    "# pass the table in \n",
    "results = pipeline.infer_from_file('./data/image_224x224.arrow')\n",
    "endTime = time.time()\n",
    "x86_time = endTime-startTime"
   ]
  },
  {
   "cell_type": "markdown",
   "metadata": {},
   "source": [
    "### Deploy with ARM\n",
    "\n",
    "We have demonstrated performing our sample inference using a standard pipeline deployment.  Now we will redeploy the same pipeline with the ARM architecture with the Wallaroo deployment setting `wallaroo.engine_config.Architecture.ARM` setting and applying it to the deployment configurations `arch` parameter."
   ]
  },
  {
   "cell_type": "code",
   "execution_count": 32,
   "metadata": {},
   "outputs": [
    {
     "data": {
      "text/html": [
       "<table><tr><th>name</th> <td>cv-sample</td></tr><tr><th>created</th> <td>2023-09-07 15:41:49.429383+00:00</td></tr><tr><th>last_updated</th> <td>2023-09-07 15:49:23.096003+00:00</td></tr><tr><th>deployed</th> <td>True</td></tr><tr><th>tags</th> <td></td></tr><tr><th>versions</th> <td>47bfbb13-41c2-4ad5-90aa-db2ab9a39fa4, cb17541b-8d71-4579-be07-f9e5cf2f15c7, 9c4adfd4-ac05-4e4c-990c-9187a441aaed, 0d0d2880-5b62-4923-ba63-ed9f04244741, c7129597-3add-40c3-98e9-337ab09d32f5, 41d08c07-923c-4a68-983c-5053611708e5, 246a23c6-c667-49b3-9726-684b46cc8114, 496b517f-d1c9-4a26-8a76-8315621d5b1f, 84512dae-ed10-4ace-b0a6-a024a478b9d8, 916718f4-e367-4fb6-a9d5-ada948c0d0a7</td></tr><tr><th>steps</th> <td>resnet50</td></tr><tr><th>published</th> <td>False</td></tr></table>"
      ],
      "text/plain": [
       "{'name': 'cv-sample', 'create_time': datetime.datetime(2023, 9, 7, 15, 41, 49, 429383, tzinfo=tzutc()), 'definition': \"[{'ModelInference': {'models': [{'name': 'resnet50', 'version': '3dfb2793-fe98-4ea8-9366-5cbab60bb1f7', 'sha': 'c6c8869645962e7711132a7e17aced2ac0f60dcdc2c7faa79b2de73847a87984'}]}}]\"}"
      ]
     },
     "execution_count": 32,
     "metadata": {},
     "output_type": "execute_result"
    }
   ],
   "source": [
    "from wallaroo.engine_config import Architecture\n",
    "arm_deployment_config = (wallaroo.deployment_config\n",
    "                            .DeploymentConfigBuilder()\n",
    "                            .cpus(2)\n",
    "                            .memory('2Gi')\n",
    "                            .arch(Architecture.ARM)\n",
    "                            .build()\n",
    "                        )\n",
    "\n",
    "pipeline.undeploy()\n",
    "pipeline.deploy(deployment_config=arm_deployment_config)\n",
    "pipeline.deploy()"
   ]
  },
  {
   "cell_type": "code",
   "execution_count": 36,
   "metadata": {},
   "outputs": [
    {
     "data": {
      "text/plain": [
       "{'status': 'Running',\n",
       " 'details': [],\n",
       " 'engines': [{'ip': '10.244.2.35',\n",
       "   'name': 'engine-766dfc9974-pr4gk',\n",
       "   'status': 'Running',\n",
       "   'reason': None,\n",
       "   'details': [],\n",
       "   'pipeline_statuses': {'pipelines': [{'id': 'cv-sample',\n",
       "      'status': 'Running'}]},\n",
       "   'model_statuses': {'models': [{'name': 'resnet50',\n",
       "      'version': '3dfb2793-fe98-4ea8-9366-5cbab60bb1f7',\n",
       "      'sha': 'c6c8869645962e7711132a7e17aced2ac0f60dcdc2c7faa79b2de73847a87984',\n",
       "      'status': 'Running'}]}},\n",
       "  {'ip': '10.244.8.7',\n",
       "   'name': 'engine-7cc8fbdcbb-jt2nq',\n",
       "   'status': 'Running',\n",
       "   'reason': None,\n",
       "   'details': [],\n",
       "   'pipeline_statuses': {'pipelines': [{'id': 'cv-sample',\n",
       "      'status': 'Running'}]},\n",
       "   'model_statuses': {'models': [{'name': 'resnet50',\n",
       "      'version': '3dfb2793-fe98-4ea8-9366-5cbab60bb1f7',\n",
       "      'sha': 'c6c8869645962e7711132a7e17aced2ac0f60dcdc2c7faa79b2de73847a87984',\n",
       "      'status': 'Running'}]}}],\n",
       " 'engine_lbs': [{'ip': '10.244.8.6',\n",
       "   'name': 'engine-lb-584f54c899-jtw9h',\n",
       "   'status': 'Running',\n",
       "   'reason': None,\n",
       "   'details': []}],\n",
       " 'sidekicks': []}"
      ]
     },
     "execution_count": 36,
     "metadata": {},
     "output_type": "execute_result"
    }
   ],
   "source": [
    "pipeline.status()"
   ]
  },
  {
   "cell_type": "markdown",
   "metadata": {},
   "source": [
    "### ARM Inference\n",
    "\n",
    "We will now perform the same inference we did with the standard deployment architecture, only this time through the ARM virtual machines."
   ]
  },
  {
   "cell_type": "code",
   "execution_count": 37,
   "metadata": {},
   "outputs": [],
   "source": [
    "startTime = time.time()\n",
    "# pass the table in \n",
    "results = pipeline.infer_from_file('./data/image_224x224.arrow')\n",
    "endTime = time.time()\n",
    "arm_time = endTime-startTime"
   ]
  },
  {
   "cell_type": "markdown",
   "metadata": {},
   "source": [
    "### Compare Standard against Arm\n",
    "\n",
    "With the two inferences complete, we'll compare the standard deployment architecture against the ARM architecture."
   ]
  },
  {
   "cell_type": "code",
   "execution_count": 38,
   "metadata": {},
   "outputs": [
    {
     "data": {
      "text/plain": [
       "'Standard architecture: 1.881904125213623'"
      ]
     },
     "metadata": {},
     "output_type": "display_data"
    },
    {
     "data": {
      "text/plain": [
       "'ARM architecture: 0.8074312210083008'"
      ]
     },
     "metadata": {},
     "output_type": "display_data"
    }
   ],
   "source": [
    "display(f\"Standard architecture: {x86_time}\")\n",
    "display(f\"ARM architecture: {arm_time}\")"
   ]
  },
  {
   "cell_type": "markdown",
   "metadata": {},
   "source": [
    "### Undeploy the Pipeline\n",
    "\n",
    "With the inference complete, we can undeploy the pipeline and return the resources back to the Wallaroo instance."
   ]
  },
  {
   "cell_type": "code",
   "execution_count": 39,
   "metadata": {},
   "outputs": [
    {
     "data": {
      "text/html": [
       "<table><tr><th>name</th> <td>cv-sample</td></tr><tr><th>created</th> <td>2023-09-07 15:41:49.429383+00:00</td></tr><tr><th>last_updated</th> <td>2023-09-07 15:49:23.096003+00:00</td></tr><tr><th>deployed</th> <td>False</td></tr><tr><th>tags</th> <td></td></tr><tr><th>versions</th> <td>47bfbb13-41c2-4ad5-90aa-db2ab9a39fa4, cb17541b-8d71-4579-be07-f9e5cf2f15c7, 9c4adfd4-ac05-4e4c-990c-9187a441aaed, 0d0d2880-5b62-4923-ba63-ed9f04244741, c7129597-3add-40c3-98e9-337ab09d32f5, 41d08c07-923c-4a68-983c-5053611708e5, 246a23c6-c667-49b3-9726-684b46cc8114, 496b517f-d1c9-4a26-8a76-8315621d5b1f, 84512dae-ed10-4ace-b0a6-a024a478b9d8, 916718f4-e367-4fb6-a9d5-ada948c0d0a7</td></tr><tr><th>steps</th> <td>resnet50</td></tr><tr><th>published</th> <td>False</td></tr></table>"
      ],
      "text/plain": [
       "{'name': 'cv-sample', 'create_time': datetime.datetime(2023, 9, 7, 15, 41, 49, 429383, tzinfo=tzutc()), 'definition': \"[{'ModelInference': {'models': [{'name': 'resnet50', 'version': '3dfb2793-fe98-4ea8-9366-5cbab60bb1f7', 'sha': 'c6c8869645962e7711132a7e17aced2ac0f60dcdc2c7faa79b2de73847a87984'}]}}]\"}"
      ]
     },
     "execution_count": 39,
     "metadata": {},
     "output_type": "execute_result"
    }
   ],
   "source": [
    "pipeline.undeploy()"
   ]
  }
 ],
 "metadata": {
  "kernelspec": {
   "display_name": "Python 3 (ipykernel)",
   "language": "python",
   "name": "python3"
  },
  "language_info": {
   "codemirror_mode": {
    "name": "ipython",
    "version": 3
   },
   "file_extension": ".py",
   "mimetype": "text/x-python",
   "name": "python",
   "nbconvert_exporter": "python",
   "pygments_lexer": "ipython3",
   "version": "3.8.17"
  },
  "vscode": {
   "interpreter": {
    "hash": "cb2d5a211cf7fee4614d0b9047a0972c7d6bf7ecea2ecd0ade6beeb12bbc9c8a"
   }
  }
 },
 "nbformat": 4,
 "nbformat_minor": 4
}
