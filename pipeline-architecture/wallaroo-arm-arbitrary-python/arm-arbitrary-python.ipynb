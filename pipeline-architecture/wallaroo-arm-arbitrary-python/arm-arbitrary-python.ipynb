{
 "cells": [
  {
   "cell_type": "markdown",
   "metadata": {},
   "source": [
    "This tutorial is available on the [Wallaroo Tutorials repository](https://github.com/WallarooLabs/Wallaroo_Tutorials/blob/2023.3.0-updates/pipeline-architecture/wallaroo-arm-classification-finserv).\n",
    "\n",
    "## Arbitrary Python with Arm Architecture\n",
    "\n",
    "This tutorial demonstrates how to use the Wallaroo combined with ARM processors to perform inferences with an Arbitrary Python model focused on a pre-trained `VGG16` model on `cifar10` as a feature extractor.  The Python entry points used for Wallaroo deployment will be added and described.\n",
    "\n",
    "This demonstration assumes that:\n",
    "\n",
    "* A Wallaroo version 2023.3 or above instance is installed.\n",
    "* A nodepools with ARM architecture virtual machines are part of the Kubernetes cluster.  For example, Azure supports Ampere® Altra® Arm-based processor included with the following virtual machines:\n",
    "  * [Dpsv5 and Dpdsv5-series](https://learn.microsoft.com/en-us/azure/virtual-machines/dpsv5-dpdsv5-series)\n",
    "  * [Epsv5 and Epdsv5-series](https://learn.microsoft.com/en-us/azure/virtual-machines/epsv5-epdsv5-series)\n",
    "\n",
    "In this notebook we will the example model and sample data from the Machine Learning Group's demonstration on [Credit Card Fraud detection](https://www.kaggle.com/datasets/mlg-ulb/creditcardfraud).\n",
    "\n",
    "### Tutorial Goals\n",
    "\n",
    "For our example, we will perform the following:\n",
    "\n",
    "* Create a workspace for our work.\n",
    "* Upload the Arbitrary Python model.\n",
    "* Create a pipeline using the default architecture that can ingest our submitted data, submit it to the model, and export the results while tracking how long the inference took.\n",
    "* Redeploy the same pipeline on the ARM architecture, then perform the same inference on the same data and model and track how long the inference took.\n",
    "* Compare the inference timing through the default architecture versus the ARM architecture.\n",
    "\n",
    "### Arbitrary Python Script Requirements\n",
    "\n",
    "The entry point of the arbitrary python model is any python script that **must** include the following.\n",
    "\n",
    "* `class ImageClustering(Inference)`:  The default inference class.  This is used to perform the actual inferences.  Wallaroo uses the `_predict` method to receive the inference data and call the appropriate functions for the inference.\n",
    "  * `def __init__`:  Used to initialize this class and load in any other classes or other required settings.\n",
    "  * `def expected_model_types`: Used by Wallaroo to anticipate what model types are used by the script.\n",
    "  * `def model(self, model)`: Defines the model used for the inference.  Accepts the model instance used in the inference.\n",
    "    * `self._raise_error_if_model_is_wrong_type(model)`: Returns the error if the wrong model type is used.  This verifies that only the anticipated model type is used for the inference.\n",
    "    * `self._model = model`: Sets the submitted model as the model for this class, provided `_raise_error_if_model_is_wrong_type` is not raised.\n",
    "  * `def _predict(self, input_data: InferenceData)`:  This is the entry point for Wallaroo to perform the inference.  This will receive the inference data, then perform whatever steps and return a dictionary of numpy arrays.\n",
    "* `class ImageClusteringBuilder(InferenceBuilder)`: Loads the model and prepares it for inferencing.\n",
    "  * `def inference(self) -> ImageClustering`: Sets the inference class being used for the inferences.\n",
    "  * `def create(self, config: CustomInferenceConfig) -> ImageClustering`: Creates an inference subclass, assigning the model and any attributes required for it to function.\n",
    "\n",
    "All other methods used for the functioning of these classes are optional, as long as they meet the requirements listed above.\n",
    "\n",
    "### Tutorial Prerequisites\n",
    "\n",
    "* A Wallaroo version 2023.2.1 or above instance.\n",
    "\n",
    "### References\n",
    "\n",
    "* [Wallaroo SDK Essentials Guide: Model Uploads and Registrations: Arbitrary Python](https://docs.wallaroo.ai/wallaroo-developer-guides/wallaroo-sdk-guides/wallaroo-sdk-essentials-guide/wallaroo-sdk-model-uploads/wallaroo-sdk-model-arbitrary-python/)"
   ]
  },
  {
   "cell_type": "code",
   "execution_count": 15,
   "metadata": {},
   "outputs": [],
   "source": [
    "import wallaroo\n",
    "from wallaroo.object import EntityNotFoundError\n",
    "\n",
    "import numpy as np\n",
    "import pandas as pd\n",
    "import pyarrow as pa\n",
    "\n",
    "from wallaroo.framework import Framework\n",
    "\n",
    "# used to display dataframe information without truncating\n",
    "from IPython.display import display\n",
    "pd.set_option('display.max_colwidth', None)\n",
    "import time"
   ]
  },
  {
   "cell_type": "code",
   "execution_count": 2,
   "metadata": {},
   "outputs": [
    {
     "data": {
      "text/plain": [
       "'2023.3.0b0'"
      ]
     },
     "execution_count": 2,
     "metadata": {},
     "output_type": "execute_result"
    }
   ],
   "source": [
    "wallaroo.__version__"
   ]
  },
  {
   "cell_type": "markdown",
   "metadata": {},
   "source": [
    "### Connect to the Wallaroo Instance through the User Interface\n",
    "\n",
    "The next step is to connect to Wallaroo through the Wallaroo client.  The Python library is included in the Wallaroo install and available through the Jupyter Hub interface provided with your Wallaroo environment.\n",
    "\n",
    "This is accomplished using the `wallaroo.Client()` command, which provides a URL to grant the SDK permission to your specific Wallaroo environment.  When displayed, enter the URL into a browser and confirm permissions.  Store the connection into a variable that can be referenced later.\n",
    "\n",
    "If logging into the Wallaroo instance through the internal JupyterHub service, use `wl = wallaroo.Client()`.  For more information on Wallaroo Client settings, see the [Client Connection guide](https://docs.wallaroo.ai/wallaroo-developer-guides/wallaroo-sdk-guides/wallaroo-sdk-essentials-guide/wallaroo-sdk-essentials-client/)."
   ]
  },
  {
   "cell_type": "code",
   "execution_count": 3,
   "metadata": {},
   "outputs": [
    {
     "name": "stdout",
     "output_type": "stream",
     "text": [
      "Please log into the following URL in a web browser:\n",
      "\n",
      "\thttps://product-uat-ee.keycloak.wallaroocommunity.ninja/auth/realms/master/device?user_code=ZNFY-ZZLN\n",
      "\n",
      "Login successful!\n"
     ]
    }
   ],
   "source": [
    "# Login through local Wallaroo instance\n",
    "\n",
    "wl = wallaroo.Client()\n",
    "\n",
    "wallarooPrefix = \"product-uat-ee.\"\n",
    "wallarooSuffix = \"wallaroocommunity.ninja\"\n",
    "\n",
    "wl = wallaroo.Client(api_endpoint=f\"https://{wallarooPrefix}api.{wallarooSuffix}\", \n",
    "                    auth_endpoint=f\"https://{wallarooPrefix}keycloak.{wallarooSuffix}\", \n",
    "                    auth_type=\"sso\")"
   ]
  },
  {
   "cell_type": "markdown",
   "metadata": {},
   "source": [
    "### Create Workspace\n",
    "\n",
    "Now we'll use the SDK below to create our workspace , assign as our **current workspace**, then display all of the workspaces we have at the moment.  We'll also set up for our models and pipelines down the road, so we have one spot to change names to whatever fits your organization's standards best.\n",
    "\n",
    "To allow this tutorial to be run multiple times or by multiple users in the same Wallaroo instance, a random 4 character prefix will be added to the workspace.  Feel free to change this `suffix` variable to `''` if not required.\n",
    "\n",
    "When we create our new workspace, we'll save it in the Python variable `workspace` so we can refer to it as needed.\n",
    "\n",
    "For more information, see the [Wallaroo SDK Essentials Guide: Workspace Management](https://docs.wallaroo.ai/wallaroo-developer-guides/wallaroo-sdk-guides/wallaroo-sdk-essentials-guide/wallaroo-sdk-essentials-workspace/)."
   ]
  },
  {
   "cell_type": "code",
   "execution_count": 4,
   "metadata": {},
   "outputs": [],
   "source": [
    "import string\n",
    "import random\n",
    "\n",
    "# make a random 4 character prefix\n",
    "suffix= ''.join(random.choice(string.ascii_lowercase) for i in range(4))\n",
    "\n",
    "suffix='john'\n",
    "\n",
    "workspace_name = f'arm-arbitrary-python{suffix}'\n",
    "pipeline_name = 'arm-arbitrary-python-example'\n",
    "model_name = 'vgg16-clustering'\n",
    "model_file_name = './models/model-auto-conversion-BYOP-vgg16-clustering.zip'"
   ]
  },
  {
   "cell_type": "code",
   "execution_count": 5,
   "metadata": {},
   "outputs": [],
   "source": [
    "def get_workspace(name):\n",
    "    workspace = None\n",
    "    for ws in wl.list_workspaces():\n",
    "        if ws.name() == name:\n",
    "            workspace= ws\n",
    "    if(workspace == None):\n",
    "        workspace = wl.create_workspace(name)\n",
    "    return workspace\n",
    "\n",
    "def get_pipeline(name):\n",
    "    try:\n",
    "        pipeline = wl.pipelines_by_name(name)[0]\n",
    "    except EntityNotFoundError:\n",
    "        pipeline = wl.build_pipeline(name)\n",
    "    return pipeline"
   ]
  },
  {
   "cell_type": "code",
   "execution_count": 6,
   "metadata": {},
   "outputs": [
    {
     "data": {
      "text/plain": [
       "{'name': 'arm-arbitrary-pythonjohn', 'id': 50, 'archived': False, 'created_by': '6d75da2e-3913-4acd-b1bb-06dd1eb3d0df', 'created_at': '2023-08-29T16:03:29.808122+00:00', 'models': [], 'pipelines': []}"
      ]
     },
     "execution_count": 6,
     "metadata": {},
     "output_type": "execute_result"
    }
   ],
   "source": [
    "workspace = get_workspace(workspace_name)\n",
    "\n",
    "wl.set_current_workspace(workspace)"
   ]
  },
  {
   "cell_type": "markdown",
   "metadata": {},
   "source": [
    "### Upload Arbitrary Python Model\n",
    "\n",
    "Arbitrary Python models are uploaded to Wallaroo through the Wallaroo Client `upload_model` method.\n",
    "\n",
    "#### Upload Arbitrary Python Model Parameters\n",
    "\n",
    "The following parameters are required for Arbitrary Python models.  Note that while some fields are considered as **optional** for the `upload_model` method, they are required for proper uploading of a Arbitrary Python model to Wallaroo.\n",
    "\n",
    "| Parameter | Type | Description |\n",
    "|---|---|---|\n",
    "|`name` | `string` (*Required*) | The name of the model.  Model names are unique per workspace.  Models that are uploaded with the same name are assigned as a new **version** of the model. |\n",
    "|`path` | `string` (*Required*) | The path to the model file being uploaded. |\n",
    "|`framework` |`string` (*Upload Method Optional, Arbitrary Python model Required*) | Set as `Framework.CUSTOM`. |\n",
    "|`input_schema` | `pyarrow.lib.Schema` (*Upload Method Optional, Arbitrary Python model Required*) | The input schema in Apache Arrow schema format. |\n",
    "|`output_schema` | `pyarrow.lib.Schema` (*Upload Method Optional, Arbitrary Python model Required*) | The output schema in Apache Arrow schema format. |\n",
    "| `convert_wait` | `bool` (*Upload Method Optional, Arbitrary Python model Optional*) (*Default: True*) | <ul><li>**True**: Waits in the script for the model conversion completion.</li><li>**False**:  Proceeds with the script without waiting for the model conversion process to display complete. |\n",
    "\n",
    "Once the upload process starts, the model is containerized by the Wallaroo instance.  This process may take up to 10 minutes.\n",
    "\n",
    "#### Upload Arbitrary Python Model Return\n",
    "\n",
    "The following is returned with a successful model upload and conversion.\n",
    "\n",
    "| Field | Type | Description |\n",
    "|---|---|---|\n",
    "| `name` | string | The name of the model. |\n",
    "| `version` | string | The model version as a unique UUID. |\n",
    "| `file_name` | string | The file name of the model as stored in Wallaroo. |\n",
    "| `image_path` | string | The image used to deploy the model in the Wallaroo engine. |\n",
    "| `last_update_time` | DateTime | When the model was last updated. |\n",
    "\n",
    "For our example, we'll start with setting the `input_schema` and `output_schema` that is expected by our `ImageClustering._predict()` method."
   ]
  },
  {
   "cell_type": "code",
   "execution_count": 7,
   "metadata": {},
   "outputs": [],
   "source": [
    "input_schema = pa.schema([\n",
    "    pa.field('images', pa.list_(\n",
    "        pa.list_(\n",
    "            pa.list_(\n",
    "                pa.int64(),\n",
    "                list_size=3\n",
    "            ),\n",
    "            list_size=32\n",
    "        ),\n",
    "        list_size=32\n",
    "    )),\n",
    "])\n",
    "\n",
    "output_schema = pa.schema([\n",
    "    pa.field('predictions', pa.int64()),\n",
    "])"
   ]
  },
  {
   "cell_type": "markdown",
   "metadata": {},
   "source": [
    "### Upload Model\n",
    "\n",
    "Now we'll upload our model.  The framework is `Framework.CUSTOM` for arbitrary Python models, and we'll specify the input and output schemas for the upload."
   ]
  },
  {
   "cell_type": "code",
   "execution_count": 9,
   "metadata": {},
   "outputs": [
    {
     "name": "stdout",
     "output_type": "stream",
     "text": [
      "Waiting for model loading - this will take up to 10.0min.\n",
      "Model is pending loading to a container runtime...\n",
      "Model is attempting loading to a container runtime.....................successful\n",
      "\n",
      "Ready\n"
     ]
    },
    {
     "data": {
      "text/html": [
       "<table>\n",
       "        <tr>\n",
       "          <td>Name</td>\n",
       "          <td>vgg16-clustering</td>\n",
       "        </tr>\n",
       "        <tr>\n",
       "          <td>Version</td>\n",
       "          <td>45e99bd0-565b-415e-b602-a541798e44d3</td>\n",
       "        </tr>\n",
       "        <tr>\n",
       "          <td>File Name</td>\n",
       "          <td>model-auto-conversion-BYOP-vgg16-clustering.zip</td>\n",
       "        </tr>\n",
       "        <tr>\n",
       "          <td>SHA</td>\n",
       "          <td>7bb3362b1768c92ea7e593451b2b8913d3b7616c19fd8d25b73fb6990f9283e0</td>\n",
       "        </tr>\n",
       "        <tr>\n",
       "          <td>Status</td>\n",
       "          <td>ready</td>\n",
       "        </tr>\n",
       "        <tr>\n",
       "          <td>Image Path</td>\n",
       "          <td>proxy.replicated.com/proxy/wallaroo/ghcr.io/wallaroolabs/mlflow-deploy:v2023.3.0-main-3731</td>\n",
       "        </tr>\n",
       "        <tr>\n",
       "          <td>Updated At</td>\n",
       "          <td>2023-29-Aug 16:06:09</td>\n",
       "        </tr>\n",
       "      </table>"
      ],
      "text/plain": [
       "{'name': 'vgg16-clustering', 'version': '45e99bd0-565b-415e-b602-a541798e44d3', 'file_name': 'model-auto-conversion-BYOP-vgg16-clustering.zip', 'image_path': 'proxy.replicated.com/proxy/wallaroo/ghcr.io/wallaroolabs/mlflow-deploy:v2023.3.0-main-3731', 'last_update_time': datetime.datetime(2023, 8, 29, 16, 6, 9, 734778, tzinfo=tzutc())}"
      ]
     },
     "execution_count": 9,
     "metadata": {},
     "output_type": "execute_result"
    }
   ],
   "source": [
    "model = wl.upload_model(model_name, \n",
    "                        model_file_name, \n",
    "                        framework=Framework.CUSTOM, \n",
    "                        input_schema=input_schema, \n",
    "                        output_schema=output_schema, \n",
    "                        convert_wait=True)\n",
    "model"
   ]
  },
  {
   "cell_type": "markdown",
   "metadata": {},
   "source": [
    "We can verify that our model was uploaded by listing the models uploaded to our Wallaroo instance with the `list_models()` command.  Note that since we uploaded this model before, we now have different versions of it we can use for our testing."
   ]
  },
  {
   "cell_type": "markdown",
   "metadata": {},
   "source": [
    "### Create a Pipeline\n",
    "\n",
    "With our model uploaded, time to create our pipeline and deploy it.\n",
    "\n",
    "* **NOTE**:  Pipeline names must be unique within the workspace.  If two pipelines are assigned the same name, the new pipeline is created as a new **version** of the pipeline.\n",
    "\n",
    "For more information, see the [Wallaroo SDK Essentials Guide: Pipeline Management](https://docs.wallaroo.ai/wallaroo-developer-guides/wallaroo-sdk-guides/wallaroo-sdk-essentials-guide/wallaroo-sdk-essentials-pipelines/wallaroo-sdk-essentials-pipeline/)"
   ]
  },
  {
   "cell_type": "code",
   "execution_count": 10,
   "metadata": {},
   "outputs": [
    {
     "data": {
      "text/html": [
       "<table><tr><th>name</th> <td>arm-arbitrary-python-example</td></tr><tr><th>created</th> <td>2023-08-29 16:06:12.420072+00:00</td></tr><tr><th>last_updated</th> <td>2023-08-29 16:06:12.420072+00:00</td></tr><tr><th>deployed</th> <td>(none)</td></tr><tr><th>tags</th> <td></td></tr><tr><th>versions</th> <td>024a04f4-fc51-4b52-9006-6bb8c372a996</td></tr><tr><th>steps</th> <td></td></tr><tr><th>published</th> <td>False</td></tr></table>"
      ],
      "text/plain": [
       "{'name': 'arm-arbitrary-python-example', 'create_time': datetime.datetime(2023, 8, 29, 16, 6, 12, 420072, tzinfo=tzutc()), 'definition': '[]'}"
      ]
     },
     "execution_count": 10,
     "metadata": {},
     "output_type": "execute_result"
    }
   ],
   "source": [
    "pipeline = get_pipeline(pipeline_name)\n",
    "pipeline.clear()"
   ]
  },
  {
   "cell_type": "markdown",
   "metadata": {},
   "source": [
    "Now our pipeline is set.  Let's add a single **step** to it - in this case, our `ccfraud_model` that we uploaded to our workspace."
   ]
  },
  {
   "cell_type": "code",
   "execution_count": 11,
   "metadata": {},
   "outputs": [
    {
     "data": {
      "text/html": [
       "<table><tr><th>name</th> <td>arm-arbitrary-python-example</td></tr><tr><th>created</th> <td>2023-08-29 16:06:12.420072+00:00</td></tr><tr><th>last_updated</th> <td>2023-08-29 16:06:12.420072+00:00</td></tr><tr><th>deployed</th> <td>(none)</td></tr><tr><th>tags</th> <td></td></tr><tr><th>versions</th> <td>024a04f4-fc51-4b52-9006-6bb8c372a996</td></tr><tr><th>steps</th> <td></td></tr><tr><th>published</th> <td>False</td></tr></table>"
      ],
      "text/plain": [
       "{'name': 'arm-arbitrary-python-example', 'create_time': datetime.datetime(2023, 8, 29, 16, 6, 12, 420072, tzinfo=tzutc()), 'definition': \"[{'ModelInference': {'models': [{'name': 'vgg16-clustering', 'version': '45e99bd0-565b-415e-b602-a541798e44d3', 'sha': '7bb3362b1768c92ea7e593451b2b8913d3b7616c19fd8d25b73fb6990f9283e0'}]}}]\"}"
      ]
     },
     "execution_count": 11,
     "metadata": {},
     "output_type": "execute_result"
    }
   ],
   "source": [
    "pipeline.add_model_step(model)"
   ]
  },
  {
   "cell_type": "markdown",
   "metadata": {},
   "source": [
    "### Set Standard Pipeline Deployment Architecture\n",
    "\n",
    "Now we can set our pipeline deployment architecture with the `arch(wallaroo.engine_config.Architecture)` parameter.  By default, the deployment configuration architecture default to `wallaroo.engine_config.Architecture.X86`.\n",
    "\n",
    "For this example, we will create a pipeline deployment and leave the `arch` out so it will default to `X86`.\n",
    "\n",
    "This deployment will be applied to the pipeline deployment.\n",
    "\n",
    "For more information, see the [Wallaroo SDK Essentials Guide: Pipeline Deployment Configuration](https://docs.wallaroo.ai/wallaroo-developer-guides/wallaroo-sdk-guides/wallaroo-sdk-essentials-guide/wallaroo-sdk-essentials-pipelines/wallaroo-sdk-essentials-pipeline-deployment-config/)."
   ]
  },
  {
   "cell_type": "code",
   "execution_count": 38,
   "metadata": {},
   "outputs": [
    {
     "data": {
      "text/plain": [
       "{'engine': {'cpu': 0.25,\n",
       "  'resources': {'limits': {'cpu': 0.25, 'memory': '1Gi'},\n",
       "   'requests': {'cpu': 0.25, 'memory': '1Gi'}}},\n",
       " 'enginelb': {},\n",
       " 'engineAux': {'images': {'vgg16-clustering-13': {'resources': {'limits': {'cpu': 1,\n",
       "      'memory': '4Gi'},\n",
       "     'requests': {'cpu': 1, 'memory': '4Gi'}}}}},\n",
       " 'node_selector': {}}"
      ]
     },
     "execution_count": 38,
     "metadata": {},
     "output_type": "execute_result"
    }
   ],
   "source": [
    "\n",
    "deployment_config = (wallaroo.deployment_config\n",
    "                     .DeploymentConfigBuilder()\n",
    "                     .cpus(0.25)\n",
    "                     .memory('1Gi')\n",
    "                     .sidekick_cpus(model, 1)\n",
    "                     .sidekick_memory(model, '4Gi')\n",
    "                     .build()\n",
    "                     )\n",
    "deployment_config"
   ]
  },
  {
   "cell_type": "code",
   "execution_count": 41,
   "metadata": {},
   "outputs": [
    {
     "data": {
      "text/html": [
       "<table><tr><th>name</th> <td>arm-arbitrary-python-example</td></tr><tr><th>created</th> <td>2023-08-29 16:06:12.420072+00:00</td></tr><tr><th>last_updated</th> <td>2023-08-29 16:22:39.677269+00:00</td></tr><tr><th>deployed</th> <td>True</td></tr><tr><th>tags</th> <td></td></tr><tr><th>versions</th> <td>c4fa348b-3be0-4c6e-b660-f261686d9bff, 4e3aa3b9-9a07-4290-8f27-24626b77eef3, 632b94ae-d35b-462e-8788-9aef683df034, 71769fd7-ff90-4193-ac95-5387cf16c003, 61aef8d3-9cb2-4519-88ea-fcfbdab051be, 5280795c-172b-4614-a166-5b8eac70888c, 024a04f4-fc51-4b52-9006-6bb8c372a996</td></tr><tr><th>steps</th> <td>vgg16-clustering</td></tr><tr><th>published</th> <td>False</td></tr></table>"
      ],
      "text/plain": [
       "{'name': 'arm-arbitrary-python-example', 'create_time': datetime.datetime(2023, 8, 29, 16, 6, 12, 420072, tzinfo=tzutc()), 'definition': \"[{'ModelInference': {'models': [{'name': 'vgg16-clustering', 'version': '45e99bd0-565b-415e-b602-a541798e44d3', 'sha': '7bb3362b1768c92ea7e593451b2b8913d3b7616c19fd8d25b73fb6990f9283e0'}]}}]\"}"
      ]
     },
     "execution_count": 41,
     "metadata": {},
     "output_type": "execute_result"
    }
   ],
   "source": [
    "pipeline.deploy(deployment_config=deployment_config)"
   ]
  },
  {
   "cell_type": "markdown",
   "metadata": {},
   "source": [
    "### Inference on Standard Architecture\n",
    "\n",
    "We will now perform an inference with a randomly generated dataframe, and store that for use later in our testing.\n",
    "\n",
    "For more information, see the [Wallaroo SDK Essentials Guide: Inference Management](https://docs.wallaroo.ai/wallaroo-developer-guides/wallaroo-sdk-guides/wallaroo-sdk-essentials-guide/wallaroo-sdk-essentials-inferences/)"
   ]
  },
  {
   "cell_type": "code",
   "execution_count": 42,
   "metadata": {},
   "outputs": [],
   "source": [
    "input_data = {\n",
    "        \"images\": [np.random.randint(0, 256, (32, 32, 3), dtype=np.uint8)] * 2,\n",
    "}\n",
    "dataframe = pd.DataFrame(input_data)"
   ]
  },
  {
   "cell_type": "code",
   "execution_count": 43,
   "metadata": {},
   "outputs": [
    {
     "data": {
      "text/html": [
       "<div>\n",
       "<style scoped>\n",
       "    .dataframe tbody tr th:only-of-type {\n",
       "        vertical-align: middle;\n",
       "    }\n",
       "\n",
       "    .dataframe tbody tr th {\n",
       "        vertical-align: top;\n",
       "    }\n",
       "\n",
       "    .dataframe thead th {\n",
       "        text-align: right;\n",
       "    }\n",
       "</style>\n",
       "<table border=\"1\" class=\"dataframe\">\n",
       "  <thead>\n",
       "    <tr style=\"text-align: right;\">\n",
       "      <th></th>\n",
       "      <th>time</th>\n",
       "      <th>in.images</th>\n",
       "      <th>out.predictions</th>\n",
       "      <th>check_failures</th>\n",
       "    </tr>\n",
       "  </thead>\n",
       "  <tbody>\n",
       "    <tr>\n",
       "      <th>0</th>\n",
       "      <td>2023-08-29 16:23:08.136</td>\n",
       "      <td>[91, 219, 82, 126, 100, 125, 82, 116, 63, 108, 73, 180, 65, 36, 47, 157, 226, 41, 230, 159, 212, 9, 31, 183, 234, 227, 148, 86, 98, 187, 147, 21, 41, 171, 251, 86, 57, 223, 205, 96, 132, 84, 248, 41, 65, 36, 128, 60, 229, 218, 150, 96, 138, 145, 230, 83, 231, 240, 176, 131, 174, 251, 49, 100, 20, 112, 63, 161, 56, 145, 155, 201, 4, 182, 211, 151, 169, 62, 77, 127, 188, 232, 188, 115, 219, 241, 31, 191, 29, 58, 233, 28, 241, 161, 174, 134, 21, 3, 18, 6, ...]</td>\n",
       "      <td>1</td>\n",
       "      <td>0</td>\n",
       "    </tr>\n",
       "    <tr>\n",
       "      <th>1</th>\n",
       "      <td>2023-08-29 16:23:08.136</td>\n",
       "      <td>[91, 219, 82, 126, 100, 125, 82, 116, 63, 108, 73, 180, 65, 36, 47, 157, 226, 41, 230, 159, 212, 9, 31, 183, 234, 227, 148, 86, 98, 187, 147, 21, 41, 171, 251, 86, 57, 223, 205, 96, 132, 84, 248, 41, 65, 36, 128, 60, 229, 218, 150, 96, 138, 145, 230, 83, 231, 240, 176, 131, 174, 251, 49, 100, 20, 112, 63, 161, 56, 145, 155, 201, 4, 182, 211, 151, 169, 62, 77, 127, 188, 232, 188, 115, 219, 241, 31, 191, 29, 58, 233, 28, 241, 161, 174, 134, 21, 3, 18, 6, ...]</td>\n",
       "      <td>1</td>\n",
       "      <td>0</td>\n",
       "    </tr>\n",
       "  </tbody>\n",
       "</table>\n",
       "</div>"
      ],
      "text/plain": [
       "                     time  \\\n",
       "0 2023-08-29 16:23:08.136   \n",
       "1 2023-08-29 16:23:08.136   \n",
       "\n",
       "                                                                                                                                                                                                                                                                                                                                                                                                                                                                       in.images  \\\n",
       "0  [91, 219, 82, 126, 100, 125, 82, 116, 63, 108, 73, 180, 65, 36, 47, 157, 226, 41, 230, 159, 212, 9, 31, 183, 234, 227, 148, 86, 98, 187, 147, 21, 41, 171, 251, 86, 57, 223, 205, 96, 132, 84, 248, 41, 65, 36, 128, 60, 229, 218, 150, 96, 138, 145, 230, 83, 231, 240, 176, 131, 174, 251, 49, 100, 20, 112, 63, 161, 56, 145, 155, 201, 4, 182, 211, 151, 169, 62, 77, 127, 188, 232, 188, 115, 219, 241, 31, 191, 29, 58, 233, 28, 241, 161, 174, 134, 21, 3, 18, 6, ...]   \n",
       "1  [91, 219, 82, 126, 100, 125, 82, 116, 63, 108, 73, 180, 65, 36, 47, 157, 226, 41, 230, 159, 212, 9, 31, 183, 234, 227, 148, 86, 98, 187, 147, 21, 41, 171, 251, 86, 57, 223, 205, 96, 132, 84, 248, 41, 65, 36, 128, 60, 229, 218, 150, 96, 138, 145, 230, 83, 231, 240, 176, 131, 174, 251, 49, 100, 20, 112, 63, 161, 56, 145, 155, 201, 4, 182, 211, 151, 169, 62, 77, 127, 188, 232, 188, 115, 219, 241, 31, 191, 29, 58, 233, 28, 241, 161, 174, 134, 21, 3, 18, 6, ...]   \n",
       "\n",
       "   out.predictions  check_failures  \n",
       "0                1               0  \n",
       "1                1               0  "
      ]
     },
     "metadata": {},
     "output_type": "display_data"
    }
   ],
   "source": [
    "start_time = time.time()\n",
    "outputs = pipeline.infer(dataframe)\n",
    "end_time = time.time()\n",
    "x86_time = end_time - start_time\n",
    "\n",
    "display(outputs)"
   ]
  },
  {
   "cell_type": "markdown",
   "metadata": {},
   "source": [
    "### Set Arm Pipeline Deployment Architecture\n",
    "\n",
    "Now we can set our pipeline deployment architecture with the `arch(wallaroo.engine_config.Architecture)` parameter to `wallaroo.engine_config.Architecture.ARM`, then redeploy our pipeline.  This will allocate ARM based virtual machines with the same configuration as earlier in the number of CPUs and RAM - the only difference will be the underlying architecture."
   ]
  },
  {
   "cell_type": "code",
   "execution_count": 34,
   "metadata": {},
   "outputs": [
    {
     "data": {
      "text/plain": [
       "{'engine': {'cpu': 0.25,\n",
       "  'resources': {'limits': {'cpu': 0.25, 'memory': '1Gi'},\n",
       "   'requests': {'cpu': 0.25, 'memory': '1Gi'}}},\n",
       " 'enginelb': {},\n",
       " 'engineAux': {'images': {'vgg16-clustering-13': {'resources': {'limits': {'cpu': 1,\n",
       "      'memory': '4Gi'},\n",
       "     'requests': {'cpu': 1, 'memory': '4Gi'}},\n",
       "    'arch': 'arm'}}},\n",
       " 'node_selector': {}}"
      ]
     },
     "execution_count": 34,
     "metadata": {},
     "output_type": "execute_result"
    }
   ],
   "source": [
    "from wallaroo.engine_config import Architecture\n",
    "deployment_config_arm = (wallaroo.deployment_config\n",
    "                         .DeploymentConfigBuilder()\n",
    "                         .cpus(0.25)\n",
    "                         .memory('1Gi')\n",
    "                         .sidekick_cpus(model, 1)\n",
    "                         .sidekick_memory(model, '4Gi')\n",
    "                         .sidekick_arch(model, Architecture.ARM)\n",
    "                         .build()\n",
    "                         )\n",
    "deployment_config_arm"
   ]
  },
  {
   "cell_type": "code",
   "execution_count": 45,
   "metadata": {},
   "outputs": [
    {
     "data": {
      "text/html": [
       "<strong>*** An error occurred while deploying your pipeline.</strong>"
      ],
      "text/plain": [
       "<IPython.core.display.HTML object>"
      ]
     },
     "metadata": {},
     "output_type": "display_data"
    },
    {
     "ename": "WaitForDeployError",
     "evalue": "Deployment failed. See status for details.\nStatus: {'status': 'Error', 'details': [], 'engines': [{'ip': '10.244.3.13', 'name': 'engine-79d4985cf5-kjdkv', 'status': 'Running', 'reason': None, 'details': [], 'pipeline_statuses': {'pipelines': [{'id': 'arm-arbitrary-python-example', 'status': 'Running'}]}, 'model_statuses': {'models': [{'name': 'vgg16-clustering', 'version': '45e99bd0-565b-415e-b602-a541798e44d3', 'sha': '7bb3362b1768c92ea7e593451b2b8913d3b7616c19fd8d25b73fb6990f9283e0', 'status': 'Running'}]}}], 'engine_lbs': [{'ip': '10.244.3.12', 'name': 'engine-lb-584f54c899-7gxlv', 'status': 'Running', 'reason': None, 'details': []}], 'sidekicks': [{'ip': '10.244.2.9', 'name': 'engine-sidekick-vgg16-clustering-13-74ccbbcc8c-gjmxl', 'status': 'Failed', 'reason': 'CrashLoopBackOff', 'details': ['containers with unready status: [engine-sidekick-vgg16-clustering-13]', 'containers with unready status: [engine-sidekick-vgg16-clustering-13]'], 'statuses': None}]}",
     "output_type": "error",
     "traceback": [
      "Deployment failed. See status for details.\nStatus: {'status': 'Error', 'details': [], 'engines': [{'ip': '10.244.3.13', 'name': 'engine-79d4985cf5-kjdkv', 'status': 'Running', 'reason': None, 'details': [], 'pipeline_statuses': {'pipelines': [{'id': 'arm-arbitrary-python-example', 'status': 'Running'}]}, 'model_statuses': {'models': [{'name': 'vgg16-clustering', 'version': '45e99bd0-565b-415e-b602-a541798e44d3', 'sha': '7bb3362b1768c92ea7e593451b2b8913d3b7616c19fd8d25b73fb6990f9283e0', 'status': 'Running'}]}}], 'engine_lbs': [{'ip': '10.244.3.12', 'name': 'engine-lb-584f54c899-7gxlv', 'status': 'Running', 'reason': None, 'details': []}], 'sidekicks': [{'ip': '10.244.2.9', 'name': 'engine-sidekick-vgg16-clustering-13-74ccbbcc8c-gjmxl', 'status': 'Failed', 'reason': 'CrashLoopBackOff', 'details': ['containers with unready status: [engine-sidekick-vgg16-clustering-13]', 'containers with unready status: [engine-sidekick-vgg16-clustering-13]'], 'statuses': None}]}"
     ]
    }
   ],
   "source": [
    "pipeline.undeploy()\n",
    "pipeline.deploy(deployment_config=deployment_config_arm)"
   ]
  },
  {
   "cell_type": "code",
   "execution_count": 47,
   "metadata": {},
   "outputs": [
    {
     "data": {
      "text/plain": [
       "{'status': 'Error',\n",
       " 'details': [],\n",
       " 'engines': [{'ip': '10.244.3.13',\n",
       "   'name': 'engine-79d4985cf5-kjdkv',\n",
       "   'status': 'Running',\n",
       "   'reason': None,\n",
       "   'details': [],\n",
       "   'pipeline_statuses': {'pipelines': [{'id': 'arm-arbitrary-python-example',\n",
       "      'status': 'Running'}]},\n",
       "   'model_statuses': {'models': [{'name': 'vgg16-clustering',\n",
       "      'version': '45e99bd0-565b-415e-b602-a541798e44d3',\n",
       "      'sha': '7bb3362b1768c92ea7e593451b2b8913d3b7616c19fd8d25b73fb6990f9283e0',\n",
       "      'status': 'Running'}]}}],\n",
       " 'engine_lbs': [{'ip': '10.244.3.12',\n",
       "   'name': 'engine-lb-584f54c899-7gxlv',\n",
       "   'status': 'Running',\n",
       "   'reason': None,\n",
       "   'details': []}],\n",
       " 'sidekicks': [{'ip': '10.244.2.9',\n",
       "   'name': 'engine-sidekick-vgg16-clustering-13-74ccbbcc8c-gjmxl',\n",
       "   'status': 'Failed',\n",
       "   'reason': 'CrashLoopBackOff',\n",
       "   'details': ['containers with unready status: [engine-sidekick-vgg16-clustering-13]',\n",
       "    'containers with unready status: [engine-sidekick-vgg16-clustering-13]'],\n",
       "   'statuses': None}]}"
      ]
     },
     "execution_count": 47,
     "metadata": {},
     "output_type": "execute_result"
    }
   ],
   "source": [
    "pipeline.status()"
   ]
  },
  {
   "cell_type": "markdown",
   "metadata": {},
   "source": [
    "### Inference with ARM\n",
    "\n",
    "We'll do the exact same inference with the exact same file and display the same results, storing how long it takes to perform the inference under the arm processors."
   ]
  },
  {
   "cell_type": "code",
   "execution_count": null,
   "metadata": {},
   "outputs": [
    {
     "data": {
      "text/html": [
       "<div>\n",
       "<style scoped>\n",
       "    .dataframe tbody tr th:only-of-type {\n",
       "        vertical-align: middle;\n",
       "    }\n",
       "\n",
       "    .dataframe tbody tr th {\n",
       "        vertical-align: top;\n",
       "    }\n",
       "\n",
       "    .dataframe thead th {\n",
       "        text-align: right;\n",
       "    }\n",
       "</style>\n",
       "<table border=\"1\" class=\"dataframe\">\n",
       "  <thead>\n",
       "    <tr style=\"text-align: right;\">\n",
       "      <th></th>\n",
       "      <th>time</th>\n",
       "      <th>in.images</th>\n",
       "      <th>out.predictions</th>\n",
       "      <th>check_failures</th>\n",
       "    </tr>\n",
       "  </thead>\n",
       "  <tbody>\n",
       "    <tr>\n",
       "      <th>0</th>\n",
       "      <td>2023-08-29 16:09:55.944</td>\n",
       "      <td>[117, 100, 246, 212, 24, 191, 40, 173, 123, 180, 4, 221, 68, 51, 28, 201, 90, 117, 244, 74, 163, 202, 47, 223, 38, 143, 149, 208, 43, 111, 251, 168, 67, 211, 187, 18, 118, 164, 86, 115, 115, 144, 37, 34, 108, 84, 252, 102, 126, 125, 70, 65, 120, 193, 196, 33, 11, 25, 30, 126, 48, 150, 196, 212, 197, 106, 29, 161, 104, 43, 150, 110, 18, 170, 54, 72, 17, 236, 155, 185, 212, 102, 240, 12, 146, 45, 129, 55, 139, 33, 67, 242, 236, 18, 180, 211, 245, 171, 36, 182, ...]</td>\n",
       "      <td>1</td>\n",
       "      <td>0</td>\n",
       "    </tr>\n",
       "    <tr>\n",
       "      <th>1</th>\n",
       "      <td>2023-08-29 16:09:55.944</td>\n",
       "      <td>[117, 100, 246, 212, 24, 191, 40, 173, 123, 180, 4, 221, 68, 51, 28, 201, 90, 117, 244, 74, 163, 202, 47, 223, 38, 143, 149, 208, 43, 111, 251, 168, 67, 211, 187, 18, 118, 164, 86, 115, 115, 144, 37, 34, 108, 84, 252, 102, 126, 125, 70, 65, 120, 193, 196, 33, 11, 25, 30, 126, 48, 150, 196, 212, 197, 106, 29, 161, 104, 43, 150, 110, 18, 170, 54, 72, 17, 236, 155, 185, 212, 102, 240, 12, 146, 45, 129, 55, 139, 33, 67, 242, 236, 18, 180, 211, 245, 171, 36, 182, ...]</td>\n",
       "      <td>1</td>\n",
       "      <td>0</td>\n",
       "    </tr>\n",
       "  </tbody>\n",
       "</table>\n",
       "</div>"
      ],
      "text/plain": [
       "                     time  \\\n",
       "0 2023-08-29 16:09:55.944   \n",
       "1 2023-08-29 16:09:55.944   \n",
       "\n",
       "                                                                                                                                                                                                                                                                                                                                                                                                                                                                             in.images  \\\n",
       "0  [117, 100, 246, 212, 24, 191, 40, 173, 123, 180, 4, 221, 68, 51, 28, 201, 90, 117, 244, 74, 163, 202, 47, 223, 38, 143, 149, 208, 43, 111, 251, 168, 67, 211, 187, 18, 118, 164, 86, 115, 115, 144, 37, 34, 108, 84, 252, 102, 126, 125, 70, 65, 120, 193, 196, 33, 11, 25, 30, 126, 48, 150, 196, 212, 197, 106, 29, 161, 104, 43, 150, 110, 18, 170, 54, 72, 17, 236, 155, 185, 212, 102, 240, 12, 146, 45, 129, 55, 139, 33, 67, 242, 236, 18, 180, 211, 245, 171, 36, 182, ...]   \n",
       "1  [117, 100, 246, 212, 24, 191, 40, 173, 123, 180, 4, 221, 68, 51, 28, 201, 90, 117, 244, 74, 163, 202, 47, 223, 38, 143, 149, 208, 43, 111, 251, 168, 67, 211, 187, 18, 118, 164, 86, 115, 115, 144, 37, 34, 108, 84, 252, 102, 126, 125, 70, 65, 120, 193, 196, 33, 11, 25, 30, 126, 48, 150, 196, 212, 197, 106, 29, 161, 104, 43, 150, 110, 18, 170, 54, 72, 17, 236, 155, 185, 212, 102, 240, 12, 146, 45, 129, 55, 139, 33, 67, 242, 236, 18, 180, 211, 245, 171, 36, 182, ...]   \n",
       "\n",
       "   out.predictions  check_failures  \n",
       "0                1               0  \n",
       "1                1               0  "
      ]
     },
     "metadata": {},
     "output_type": "display_data"
    }
   ],
   "source": [
    "start_time = time.time()\n",
    "outputs = pipeline.infer(dataframe)\n",
    "end_time = time.time()\n",
    "arm_time = end_time - start_time\n",
    "\n",
    "display(outputs)"
   ]
  },
  {
   "cell_type": "markdown",
   "metadata": {},
   "source": [
    "### Compare Differences\n",
    "\n",
    "We will now compare the results on the standard architecture versus ARM.  Typically, ARM delivers a 15% improvement on inference times while requireing less power and cost requirements."
   ]
  },
  {
   "cell_type": "code",
   "execution_count": null,
   "metadata": {},
   "outputs": [
    {
     "data": {
      "text/plain": [
       "'Standard architecture: 0.377669095993042'"
      ]
     },
     "metadata": {},
     "output_type": "display_data"
    },
    {
     "data": {
      "text/plain": [
       "'ARM architecture: 0.5871620178222656'"
      ]
     },
     "metadata": {},
     "output_type": "display_data"
    }
   ],
   "source": [
    "display(f\"Standard architecture: {x86_time}\")\n",
    "display(f\"ARM architecture: {arm_time}\")"
   ]
  },
  {
   "cell_type": "markdown",
   "metadata": {},
   "source": [
    "With our work in the pipeline done, we'll undeploy it to get back our resources from the Kubernetes cluster.  If we keep the same settings we can redeploy the pipeline with the same configuration in the future."
   ]
  },
  {
   "cell_type": "code",
   "execution_count": null,
   "metadata": {},
   "outputs": [],
   "source": [
    "pipeline.undeploy()"
   ]
  }
 ],
 "metadata": {
  "kernelspec": {
   "display_name": "Python 3 (ipykernel)",
   "language": "python",
   "name": "python3"
  },
  "language_info": {
   "codemirror_mode": {
    "name": "ipython",
    "version": 3
   },
   "file_extension": ".py",
   "mimetype": "text/x-python",
   "name": "python",
   "nbconvert_exporter": "python",
   "pygments_lexer": "ipython3",
   "version": "3.8.17"
  }
 },
 "nbformat": 4,
 "nbformat_minor": 4
}
