{
 "cells": [
  {
   "cell_type": "markdown",
   "metadata": {
    "tags": []
   },
   "source": [
    "# A Simple Linear Regression Model Notebook for the Wallaroo Platform\n",
    "This model will predict whether or not the room is occupied based on the data from sensors to detect people in a room.\n",
    "\n",
    "## A Comprehensive Tutorial for:\n",
    "\n",
    "1. Building a Linear Regression Model\n",
    "2. Deploying the Model into Wallaroo\n",
    "3. Using Wallaroo's Monitoring Capabilities to Analyze the Model.\n",
    "\n",
    "### The data was used from Globecom (GC) Workshops\n",
    "\n",
    "https://archive.ics.uci.edu/ml/datasets/Room+Occupancy+Estimation\n",
    "\n",
    "Adarsh Pal Singh, Vivek Jain, Sachin Chaudhari, Frank Alexander Kraemer, Stefan Werner and Vishal Garg, \"Machine Learning-Based Occupancy Estimation Using Multivariate Sensor Nodes,\" in 2018 IEEE Globecom Workshops (GC Wkshps), 2018. "
   ]
  },
  {
   "cell_type": "markdown",
   "id": "4105e716",
   "metadata": {},
   "source": [
    "### Table of Contents\n",
    "* [Building a Simple Linear Regression Model](#build)\n",
    "    * [Sensors used to collect data](#sensor)\n",
    "    * [Importing the Necessary Python Libraries](#pylib)\n",
    "    * [Importing the Data Set using Pandas](#data)\n",
    "    * [Pulling our Independent (x) and Dependent (y) Variables from the DataFrame](#variable)\n",
    "    * [Splitting the Data Set into Testing and Training Subsets](#test_train)\n",
    "    * [Creating the Linear Regression Model using Sklearn and Fitting our Training Data to the Model](#make_model)\n",
    "    * [Predicting the Room Occupancy from our Independent Variable Test Set](#predict)\n",
    "    * [Finding the Metrics to Analyze the Prediction](#metrics)\n",
    "    * [Plotting the Linear Regression](#plot)\n",
    "* [Deploying the Model into Wallaroo](#wallaroo)\n",
    "    * [Converting the Sklearn Model into Onnx for use on the Wallaroo Platform](#onnx)\n",
    "    * [Implementing into Wallaroo](#implement)\n",
    "    * [Creating a Pipeline and Uploading the Model](#pipeline)\n",
    "    * [Adding Validation to the model](#validation)\n",
    "    * [Adding Post-Process](#postprocess)\n",
    "* [Using Wallaroo's Monitoring Capabilities to Analyze the Model.](#analyze)\n",
    "    * [Deploying the Model](#deploy)\n",
    "    * [Checking the deployment](#check)\n",
    "    * [Making an Inference](#inference)\n",
    "    * [Extracting data](#extract)\n",
    "    * [Getting Single Datums](#datums)\n",
    "    * [Making the inference](#makeinference)\n",
    "    * [Interpreting the Inference](#interpret)\n",
    "    * [Format Results](#results)\n",
    "    * [Undeploy the pipeline](#undeploy)\n",
    "    * [Logs](#logs)"
   ]
  },
  {
   "cell_type": "markdown",
   "metadata": {},
   "source": [
    "## Steps\n",
    "\n",
    "### Building a Simple Linear Regression Model <a class=\"anchor\" id=\"build\"></a>\n",
    "\n",
    "This model will be built from a data set of sensor values and the occupancy of the room the sensors are in.\n",
    "\n",
    "The goal is to use the sensor data to predict the room occupancy."
   ]
  },
  {
   "cell_type": "markdown",
   "id": "c99f3c9a",
   "metadata": {},
   "source": [
    "#### Sensors used to collect data <a class=\"anchor\" id=\"sensor\"></a>\n",
    "- `Temperature` - Four sensors that measured temperature in the room\n",
    "- `Light` -  Four sensors that measured light in the room\n",
    "- `Sound` - Four sensors that measured sounds in the room\n",
    "- `CO2` - Two sensors that measured carbon dioxide in the room\n",
    "- `PIR` - Two sensors that measured motion in the room"
   ]
  },
  {
   "cell_type": "markdown",
   "metadata": {},
   "source": [
    "#### Importing the Necessary Python Libraries <a class=\"anchor\" id=\"pylib\"></a>\n",
    "- `matplotlib` - for data visualization\n",
    "- `numpy` - for data tuning\n",
    "- `sklearn` - for creating the linear regression model and metrics of the model\n",
    "- `pandas` - for csv importing\n",
    "- `onnx` - for converting model"
   ]
  },
  {
   "cell_type": "code",
   "execution_count": 1,
   "metadata": {},
   "outputs": [],
   "source": [
    "# Code Source: Us\n",
    "\n",
    "# Needed for data visualization\n",
    "import matplotlib.pyplot as plt\n",
    "\n",
    "# Needed for data tuning\n",
    "import numpy as np\n",
    "\n",
    "# Needed for creating the linear regression model\n",
    "from sklearn import linear_model\n",
    "\n",
    "# Needed for metrics of the model\n",
    "from sklearn.metrics import mean_squared_error, r2_score\n",
    "\n",
    "# Needed for csv importing\n",
    "import pandas as pd"
   ]
  },
  {
   "cell_type": "markdown",
   "metadata": {},
   "source": [
    "#### Importing the Data Set using Pandas <a class=\"anchor\" id=\"data\"></a>\n",
    "The first step creating a linear regression model is read in the dataset using the pandas library.  \n",
    "\n",
    "The `read_csv` method is responsible for reading in the data and `head()` method accesses the first few rows in the data.\n",
    "\n",
    "When picking a variable from the data we'll use `.corr()` which is used to find which variable has the best correlation between the variables in the dataset."
   ]
  },
  {
   "cell_type": "code",
   "execution_count": 2,
   "metadata": {},
   "outputs": [
    {
     "data": {
      "text/html": [
       "<div>\n",
       "<style scoped>\n",
       "    .dataframe tbody tr th:only-of-type {\n",
       "        vertical-align: middle;\n",
       "    }\n",
       "\n",
       "    .dataframe tbody tr th {\n",
       "        vertical-align: top;\n",
       "    }\n",
       "\n",
       "    .dataframe thead th {\n",
       "        text-align: right;\n",
       "    }\n",
       "</style>\n",
       "<table border=\"1\" class=\"dataframe\">\n",
       "  <thead>\n",
       "    <tr style=\"text-align: right;\">\n",
       "      <th></th>\n",
       "      <th>Date</th>\n",
       "      <th>Time</th>\n",
       "      <th>S1_Temp</th>\n",
       "      <th>S2_Temp</th>\n",
       "      <th>S3_Temp</th>\n",
       "      <th>S4_Temp</th>\n",
       "      <th>S1_Light</th>\n",
       "      <th>S2_Light</th>\n",
       "      <th>S3_Light</th>\n",
       "      <th>S4_Light</th>\n",
       "      <th>S1_Sound</th>\n",
       "      <th>S2_Sound</th>\n",
       "      <th>S3_Sound</th>\n",
       "      <th>S4_Sound</th>\n",
       "      <th>S5_CO2</th>\n",
       "      <th>S5_CO2_Slope</th>\n",
       "      <th>S6_PIR</th>\n",
       "      <th>S7_PIR</th>\n",
       "      <th>Room_Occupancy_Count</th>\n",
       "    </tr>\n",
       "  </thead>\n",
       "  <tbody>\n",
       "    <tr>\n",
       "      <th>0</th>\n",
       "      <td>2017/12/22</td>\n",
       "      <td>10:49:41</td>\n",
       "      <td>24.94</td>\n",
       "      <td>24.75</td>\n",
       "      <td>24.56</td>\n",
       "      <td>25.38</td>\n",
       "      <td>121</td>\n",
       "      <td>34</td>\n",
       "      <td>53</td>\n",
       "      <td>40</td>\n",
       "      <td>0.08</td>\n",
       "      <td>0.19</td>\n",
       "      <td>0.06</td>\n",
       "      <td>0.06</td>\n",
       "      <td>390</td>\n",
       "      <td>0.769231</td>\n",
       "      <td>0</td>\n",
       "      <td>0</td>\n",
       "      <td>1</td>\n",
       "    </tr>\n",
       "    <tr>\n",
       "      <th>1</th>\n",
       "      <td>2017/12/22</td>\n",
       "      <td>10:50:12</td>\n",
       "      <td>24.94</td>\n",
       "      <td>24.75</td>\n",
       "      <td>24.56</td>\n",
       "      <td>25.44</td>\n",
       "      <td>121</td>\n",
       "      <td>33</td>\n",
       "      <td>53</td>\n",
       "      <td>40</td>\n",
       "      <td>0.93</td>\n",
       "      <td>0.05</td>\n",
       "      <td>0.06</td>\n",
       "      <td>0.06</td>\n",
       "      <td>390</td>\n",
       "      <td>0.646154</td>\n",
       "      <td>0</td>\n",
       "      <td>0</td>\n",
       "      <td>1</td>\n",
       "    </tr>\n",
       "    <tr>\n",
       "      <th>2</th>\n",
       "      <td>2017/12/22</td>\n",
       "      <td>10:50:42</td>\n",
       "      <td>25.00</td>\n",
       "      <td>24.75</td>\n",
       "      <td>24.50</td>\n",
       "      <td>25.44</td>\n",
       "      <td>121</td>\n",
       "      <td>34</td>\n",
       "      <td>53</td>\n",
       "      <td>40</td>\n",
       "      <td>0.43</td>\n",
       "      <td>0.11</td>\n",
       "      <td>0.08</td>\n",
       "      <td>0.06</td>\n",
       "      <td>390</td>\n",
       "      <td>0.519231</td>\n",
       "      <td>0</td>\n",
       "      <td>0</td>\n",
       "      <td>1</td>\n",
       "    </tr>\n",
       "    <tr>\n",
       "      <th>3</th>\n",
       "      <td>2017/12/22</td>\n",
       "      <td>10:51:13</td>\n",
       "      <td>25.00</td>\n",
       "      <td>24.75</td>\n",
       "      <td>24.56</td>\n",
       "      <td>25.44</td>\n",
       "      <td>121</td>\n",
       "      <td>34</td>\n",
       "      <td>53</td>\n",
       "      <td>40</td>\n",
       "      <td>0.41</td>\n",
       "      <td>0.10</td>\n",
       "      <td>0.10</td>\n",
       "      <td>0.09</td>\n",
       "      <td>390</td>\n",
       "      <td>0.388462</td>\n",
       "      <td>0</td>\n",
       "      <td>0</td>\n",
       "      <td>1</td>\n",
       "    </tr>\n",
       "    <tr>\n",
       "      <th>4</th>\n",
       "      <td>2017/12/22</td>\n",
       "      <td>10:51:44</td>\n",
       "      <td>25.00</td>\n",
       "      <td>24.75</td>\n",
       "      <td>24.56</td>\n",
       "      <td>25.44</td>\n",
       "      <td>121</td>\n",
       "      <td>34</td>\n",
       "      <td>54</td>\n",
       "      <td>40</td>\n",
       "      <td>0.18</td>\n",
       "      <td>0.06</td>\n",
       "      <td>0.06</td>\n",
       "      <td>0.06</td>\n",
       "      <td>390</td>\n",
       "      <td>0.253846</td>\n",
       "      <td>0</td>\n",
       "      <td>0</td>\n",
       "      <td>1</td>\n",
       "    </tr>\n",
       "  </tbody>\n",
       "</table>\n",
       "</div>"
      ],
      "text/plain": [
       "         Date      Time  S1_Temp  S2_Temp  S3_Temp  S4_Temp  S1_Light  \\\n",
       "0  2017/12/22  10:49:41    24.94    24.75    24.56    25.38       121   \n",
       "1  2017/12/22  10:50:12    24.94    24.75    24.56    25.44       121   \n",
       "2  2017/12/22  10:50:42    25.00    24.75    24.50    25.44       121   \n",
       "3  2017/12/22  10:51:13    25.00    24.75    24.56    25.44       121   \n",
       "4  2017/12/22  10:51:44    25.00    24.75    24.56    25.44       121   \n",
       "\n",
       "   S2_Light  S3_Light  S4_Light  S1_Sound  S2_Sound  S3_Sound  S4_Sound  \\\n",
       "0        34        53        40      0.08      0.19      0.06      0.06   \n",
       "1        33        53        40      0.93      0.05      0.06      0.06   \n",
       "2        34        53        40      0.43      0.11      0.08      0.06   \n",
       "3        34        53        40      0.41      0.10      0.10      0.09   \n",
       "4        34        54        40      0.18      0.06      0.06      0.06   \n",
       "\n",
       "   S5_CO2  S5_CO2_Slope  S6_PIR  S7_PIR  Room_Occupancy_Count  \n",
       "0     390      0.769231       0       0                     1  \n",
       "1     390      0.646154       0       0                     1  \n",
       "2     390      0.519231       0       0                     1  \n",
       "3     390      0.388462       0       0                     1  \n",
       "4     390      0.253846       0       0                     1  "
      ]
     },
     "execution_count": 2,
     "metadata": {},
     "output_type": "execute_result"
    }
   ],
   "source": [
    "# Reading and displaying the dataset\n",
    "data = pd.read_csv('Occupancy_Estimation.csv')\n",
    "data.head()"
   ]
  },
  {
   "cell_type": "code",
   "execution_count": 3,
   "metadata": {},
   "outputs": [
    {
     "data": {
      "text/html": [
       "<div>\n",
       "<style scoped>\n",
       "    .dataframe tbody tr th:only-of-type {\n",
       "        vertical-align: middle;\n",
       "    }\n",
       "\n",
       "    .dataframe tbody tr th {\n",
       "        vertical-align: top;\n",
       "    }\n",
       "\n",
       "    .dataframe thead th {\n",
       "        text-align: right;\n",
       "    }\n",
       "</style>\n",
       "<table border=\"1\" class=\"dataframe\">\n",
       "  <thead>\n",
       "    <tr style=\"text-align: right;\">\n",
       "      <th></th>\n",
       "      <th>S1_Temp</th>\n",
       "      <th>S2_Temp</th>\n",
       "      <th>S3_Temp</th>\n",
       "      <th>S4_Temp</th>\n",
       "      <th>S1_Light</th>\n",
       "      <th>S2_Light</th>\n",
       "      <th>S3_Light</th>\n",
       "      <th>S4_Light</th>\n",
       "      <th>S1_Sound</th>\n",
       "      <th>S2_Sound</th>\n",
       "      <th>S3_Sound</th>\n",
       "      <th>S4_Sound</th>\n",
       "      <th>S5_CO2</th>\n",
       "      <th>S5_CO2_Slope</th>\n",
       "      <th>S6_PIR</th>\n",
       "      <th>S7_PIR</th>\n",
       "      <th>Room_Occupancy_Count</th>\n",
       "    </tr>\n",
       "  </thead>\n",
       "  <tbody>\n",
       "    <tr>\n",
       "      <th>Room_Occupancy_Count</th>\n",
       "      <td>0.700868</td>\n",
       "      <td>0.671263</td>\n",
       "      <td>0.652047</td>\n",
       "      <td>0.526509</td>\n",
       "      <td>0.849058</td>\n",
       "      <td>0.788764</td>\n",
       "      <td>0.793081</td>\n",
       "      <td>0.355715</td>\n",
       "      <td>0.573748</td>\n",
       "      <td>0.557853</td>\n",
       "      <td>0.531685</td>\n",
       "      <td>0.460287</td>\n",
       "      <td>0.660144</td>\n",
       "      <td>0.601105</td>\n",
       "      <td>0.633133</td>\n",
       "      <td>0.695138</td>\n",
       "      <td>1.0</td>\n",
       "    </tr>\n",
       "  </tbody>\n",
       "</table>\n",
       "</div>"
      ],
      "text/plain": [
       "                       S1_Temp   S2_Temp   S3_Temp   S4_Temp  S1_Light  \\\n",
       "Room_Occupancy_Count  0.700868  0.671263  0.652047  0.526509  0.849058   \n",
       "\n",
       "                      S2_Light  S3_Light  S4_Light  S1_Sound  S2_Sound  \\\n",
       "Room_Occupancy_Count  0.788764  0.793081  0.355715  0.573748  0.557853   \n",
       "\n",
       "                      S3_Sound  S4_Sound    S5_CO2  S5_CO2_Slope    S6_PIR  \\\n",
       "Room_Occupancy_Count  0.531685  0.460287  0.660144      0.601105  0.633133   \n",
       "\n",
       "                        S7_PIR  Room_Occupancy_Count  \n",
       "Room_Occupancy_Count  0.695138                   1.0  "
      ]
     },
     "execution_count": 3,
     "metadata": {},
     "output_type": "execute_result"
    }
   ],
   "source": [
    "# Displays the correlations between each and every variables\n",
    "correlations = data.corr()\n",
    "correlations[-1:]"
   ]
  },
  {
   "cell_type": "markdown",
   "metadata": {},
   "source": [
    "#### Pulling our Independent (x) and Dependent (y) Variables from the DataFrame <a class=\"anchor\" id=\"variable\"></a>\n",
    "Next we are going to access the Independent variable `S1_Light` and Dependent variable `Room_Occupancy_Count` to be stored in the x and y value.\n",
    "\n",
    "We picked the `S1_Light` because it has the best correlation compared to all the variables and we like lights.\n",
    "\n",
    "The `values` function accesses the values in the dataset at the index of the given variable name."
   ]
  },
  {
   "cell_type": "code",
   "execution_count": 4,
   "metadata": {},
   "outputs": [
    {
     "name": "stdout",
     "output_type": "stream",
     "text": [
      "S1_Light Values:\n",
      "[[121]\n",
      " [121]\n",
      " [121]\n",
      " ...\n",
      " [  6]\n",
      " [  6]\n",
      " [  6]]\n",
      "\n",
      "Room_Occupancy_Count Values:\n",
      "[1 1 1 ... 0 0 0]\n"
     ]
    }
   ],
   "source": [
    "# Matrix of features x and prints data x\n",
    "x = data[['S1_Light']].values\n",
    "print('S1_Light Values:')\n",
    "print(x)\n",
    "\n",
    "# Array of independent variable y and prints data y\n",
    "y = data['Room_Occupancy_Count'].values\n",
    "print('\\nRoom_Occupancy_Count Values:')\n",
    "print(y)"
   ]
  },
  {
   "cell_type": "markdown",
   "metadata": {},
   "source": [
    "#### Splitting the Data Set into Testing and Training Subsets <a class=\"anchor\" id=\"test_train\"></a>\n",
    "Next we use the `train_test_split()` method in the sklearn library to split the data into test and train sets. \n",
    "\n",
    "Then we use train_test_split which sets test/train data into x and y. \n",
    "\n",
    "Create test and train datasets with 0.2 (20%) of the dataset being test data.\n",
    "\n",
    "The `random_state` decides which indices of data to pull from.\n"
   ]
  },
  {
   "cell_type": "code",
   "execution_count": 5,
   "metadata": {},
   "outputs": [],
   "source": [
    "from sklearn.model_selection import train_test_split\n",
    "\n",
    "# The train_test_split gives test/train data to x and y\n",
    "# Create test and train datasets with 0.2 (20%) of the dataset being test data\n",
    "# The random_state decides which indices of data to pull from\n",
    "x_train, x_test, y_train, y_test = train_test_split(x, y, test_size = 0.2, random_state = 3)"
   ]
  },
  {
   "cell_type": "markdown",
   "metadata": {},
   "source": [
    "#### Creating the Linear Regression Model using Sklearn and Fitting our Training Data to the Model <a class=\"anchor\" id=\"make_model\"></a>\n",
    "Now using `LinearRegression()` method we create a linear regression object which we call `regr`.\n",
    "\n",
    "Then we take `.fit(x_train, y_train)` method uses x and y train data as parameters to see how well it fits the model."
   ]
  },
  {
   "cell_type": "code",
   "execution_count": 6,
   "metadata": {},
   "outputs": [
    {
     "data": {
      "text/plain": [
       "LinearRegression()"
      ]
     },
     "execution_count": 6,
     "metadata": {},
     "output_type": "execute_result"
    }
   ],
   "source": [
    "from sklearn.linear_model import LinearRegression\n",
    "\n",
    "# Creating the linear regression object\n",
    "regr = LinearRegression()\n",
    "\n",
    "# The regr.fit() measures how well the x and y train data fit the model\n",
    "regr.fit(x_train, y_train)"
   ]
  },
  {
   "cell_type": "markdown",
   "metadata": {},
   "source": [
    "#### Predicting the Room Occupancy from our Independent Variable Test Set <a class=\"anchor\" id=\"predict\"></a>\n",
    "In this step we take in the independent variable test set for the parameter in the `predict()` method in order to predict the outcome for the dependent variable."
   ]
  },
  {
   "cell_type": "code",
   "execution_count": 7,
   "metadata": {},
   "outputs": [],
   "source": [
    "# The regr.predict() creates a prediction based on the x test data\n",
    "y_pred = regr.predict(x_test)"
   ]
  },
  {
   "cell_type": "markdown",
   "metadata": {},
   "source": [
    "#### Finding the Metrics to Analyze the Prediction <a class=\"anchor\" id=\"metrics\"></a>\n",
    "In this step we use various functions and methods in order to see how well our linear regression model is predicting our data. \n",
    "\n",
    "The  `coef_` function tells us the **correlation coefficient**, which shows in what way our variables correlate with each other. \n",
    "\n",
    "Next up we have the `mean_squared_error()` method, which shows us the distance from the estimated values and the true values; The best possible score would be 0.\n",
    "\n",
    "Lastly there's the `r2_score()` method which is responsible for displaying how well our data fits the current model, with an R^2 score of 1."
   ]
  },
  {
   "cell_type": "code",
   "execution_count": 8,
   "metadata": {},
   "outputs": [],
   "source": [
    "from sklearn.metrics import mean_squared_error, r2_score"
   ]
  },
  {
   "cell_type": "code",
   "execution_count": 9,
   "metadata": {},
   "outputs": [
    {
     "name": "stdout",
     "output_type": "stream",
     "text": [
      "Coefficients: \n",
      " [0.01485442]\n",
      "Root mean squared error: 0.46\n",
      "Coefficient of determination: 0.73\n"
     ]
    }
   ],
   "source": [
    "# Prints the coefficients\n",
    "print(\"Coefficients: \\n\", regr.coef_)\n",
    "\n",
    "# Prints the mean squared error\n",
    "print(\"Root mean squared error: %.2f\" % mean_squared_error(y_test, y_pred, squared=False))\n",
    "\n",
    "# Prints the coefficient of determination: 1 is perfect prediction\n",
    "print(\"Coefficient of determination: %.2f\" % r2_score(y_test, y_pred))"
   ]
  },
  {
   "cell_type": "markdown",
   "metadata": {},
   "source": [
    "#### Plotting the Linear Regression <a class=\"anchor\" id=\"plot\"></a>\n",
    "Using `plt` in **matplotlib** library we can plot out the different aspects of our linear regression graph."
   ]
  },
  {
   "cell_type": "code",
   "execution_count": 10,
   "metadata": {},
   "outputs": [
    {
     "data": {
      "image/png": "[encoded data removed]",
      "text/plain": [
       "<Figure size 640x480 with 1 Axes>"
      ]
     },
     "metadata": {},
     "output_type": "display_data"
    }
   ],
   "source": [
    "# The plt.scatter() plots the x and y test points in the linear regression model\n",
    "plt.scatter(x_test, y_test, color=\"black\")\n",
    "\n",
    "# The plt.plot() creates the line of best fit\n",
    "plt.plot(x_test, y_pred, color=\"blue\", linewidth=3)\n",
    "\n",
    "# Sets the x-axis, y-axis, and title of the model\n",
    "plt.xlabel('S1_Light')\n",
    "plt.ylabel('Room Occupancy')\n",
    "plt.title('Room Occupancy VS S1_Light Sensor')\n",
    "\n",
    "# The plt.show() displays the model\n",
    "plt.show()"
   ]
  },
  {
   "cell_type": "markdown",
   "metadata": {},
   "source": [
    "### Deploying the Model into Wallaroo <a class=\"anchor\" id=\"wallaroo\"></a>\n",
    "The model that was created will now be deployed into the Wallaroo platform."
   ]
  },
  {
   "cell_type": "markdown",
   "metadata": {},
   "source": [
    "#### Converting the Sklearn Model into Onnx for use on the Wallaroo Platform <a class=\"anchor\" id=\"onnx\"></a>\n",
    "For the next step refer to [sklearn-regression-to-onnx tutorial](https://docs.wallaroo.ai/wallaroo-tutorials/conversion-tutorials/sklearn-regression-to-onnx/) in the wallaroo documentation for how to convert file to onnx."
   ]
  },
  {
   "cell_type": "code",
   "execution_count": 11,
   "metadata": {},
   "outputs": [],
   "source": [
    "# Used for the conversion process\n",
    "import onnx, skl2onnx, onnxmltools\n",
    "from skl2onnx.common.data_types import FloatTensorType\n",
    "from skl2onnx.common.data_types import DoubleTensorType"
   ]
  },
  {
   "cell_type": "code",
   "execution_count": 12,
   "metadata": {},
   "outputs": [],
   "source": [
    "# The model_to_onnx converts the model to onnx to be upload to Wallaroo Platfrom\n",
    "# For more detailed steps refer to \"model_conversion\"\n",
    "def model_to_onnx(model, cols, *, input_type='Double'):\n",
    "    input_type_lower=input_type.lower()\n",
    "    # How to manage float values\n",
    "    if input_type=='Double':\n",
    "        tensor_type=DoubleTensorType\n",
    "    elif input_type=='Float':\n",
    "        tensor_type=FloatTensorType\n",
    "    else:\n",
    "        raise ValueError(\"bad input type\")\n",
    "    tensor_size=cols\n",
    "    initial_type=[(f'{input_type_lower}_input', tensor_type([None, tensor_size]))]\n",
    "    onnx_model=onnxmltools.convert_sklearn(model,initial_types=initial_type)\n",
    "    return onnx_model"
   ]
  },
  {
   "cell_type": "code",
   "execution_count": 13,
   "metadata": {},
   "outputs": [],
   "source": [
    "# The model_to_onnx() takes the pickle file and converts it to onnx\n",
    "onnx_model_converted = model_to_onnx(regr, 1)\n",
    "\n",
    "# The onnx.save_model() saves the converted model into a file\n",
    "onnx.save_model(onnx_model_converted, \"occupancy_model.onnx\")"
   ]
  },
  {
   "cell_type": "markdown",
   "metadata": {},
   "source": [
    "#### Implementing into Wallaroo  <a class=\"anchor\" id=\"implement\"></a>\n",
    "Reference the [Wallaroo 101 Tutorial](https://docs.wallaroo.ai/wallaroo-101/) for how to access the wallaroo platform."
   ]
  },
  {
   "cell_type": "code",
   "execution_count": 16,
   "metadata": {},
   "outputs": [],
   "source": [
    "# Needed for the use of Wallaroo\n",
    "import wallaroo\n",
    "\n",
    "# The wallaroo.Client() allows the file to access wallaroo platform\n",
    "wl = wallaroo.Client()"
   ]
  },
  {
   "cell_type": "code",
   "execution_count": 17,
   "metadata": {},
   "outputs": [],
   "source": [
    "# Creates the name for workspace, pipeline, and model\n",
    "workspace_name = 'msuproject'\n",
    "pipeline_name = 'occupancypipeline'\n",
    "model_name = 'occupancymodel'\n",
    "\n",
    "# Created to fetch the model\n",
    "model_file_name = 'occupancy_model.onnx'"
   ]
  },
  {
   "cell_type": "code",
   "execution_count": 18,
   "metadata": {},
   "outputs": [],
   "source": [
    "# The get_workspace() gets/create the workspace when needed\n",
    "# For more detailed steps refer to \"wallaroo-101\"\n",
    "def get_workspace(name):\n",
    "    workspace = None\n",
    "    for ws in wl.list_workspaces():\n",
    "        if ws.name() == name:\n",
    "            workspace= ws\n",
    "    if(workspace == None):\n",
    "        workspace = wl.create_workspace(name)\n",
    "    return workspace\n",
    "\n",
    "# The get_pipeline() gets/create the pipeline when needed\n",
    "# For more detailed steps refer to \"wallaroo-101\"\n",
    "def get_pipeline(name):\n",
    "    try:\n",
    "        pipeline = wl.pipelines_by_name(pipeline_name)[0]\n",
    "    except EntityNotFoundError:\n",
    "        pipeline = wl.build_pipeline(pipeline_name)\n",
    "    return pipeline"
   ]
  },
  {
   "cell_type": "code",
   "execution_count": 19,
   "metadata": {},
   "outputs": [],
   "source": [
    "# Calls function to create workspace\n",
    "workspace = get_workspace(workspace_name)\n",
    "\n",
    "# The wl.set_current_workspace() sets the workspace to currently being worked on\n",
    "set_workspace = wl.set_current_workspace(workspace)"
   ]
  },
  {
   "cell_type": "code",
   "execution_count": 20,
   "metadata": {},
   "outputs": [
    {
     "data": {
      "text/html": [
       "\n",
       "        <table>\n",
       "            <tr>\n",
       "                <th>Name</th>\n",
       "                <th>Created At</th>\n",
       "                <th>Users</th>\n",
       "                <th>Models</th>\n",
       "                <th>Pipelines</th>\n",
       "            </tr>\n",
       "            \n",
       "        <tr >\n",
       "            <td>v-nathaniel.bursch@wallaroo.ai - Default Workspace</td>\n",
       "            <td>2022-10-25 20:01:52</td>\n",
       "            <td>['v-nathaniel.bursch@wallaroo.ai']</td>\n",
       "            <td>0</td>\n",
       "            <td>0</td>\n",
       "        </tr>\n",
       "        \n",
       "\n",
       "        <tr >\n",
       "            <td>test1</td>\n",
       "            <td>2022-10-26 15:27:40</td>\n",
       "            <td>['v-nathaniel.bursch@wallaroo.ai']</td>\n",
       "            <td>2</td>\n",
       "            <td>1</td>\n",
       "        </tr>\n",
       "        \n",
       "\n",
       "        <tr >\n",
       "            <td>msuproject</td>\n",
       "            <td>2022-10-26 16:55:55</td>\n",
       "            <td>['v-nathaniel.bursch@wallaroo.ai']</td>\n",
       "            <td>5</td>\n",
       "            <td>1</td>\n",
       "        </tr>\n",
       "        \n",
       "\n",
       "        <tr >\n",
       "            <td>msuproject1</td>\n",
       "            <td>2022-11-02 17:09:46</td>\n",
       "            <td>['v-nathaniel.bursch@wallaroo.ai']</td>\n",
       "            <td>4</td>\n",
       "            <td>1</td>\n",
       "        </tr>\n",
       "        \n",
       "\n",
       "        <tr >\n",
       "            <td>msuproject2</td>\n",
       "            <td>2022-11-04 02:33:17</td>\n",
       "            <td>['v-nathaniel.bursch@wallaroo.ai']</td>\n",
       "            <td>2</td>\n",
       "            <td>1</td>\n",
       "        </tr>\n",
       "        \n",
       "\n",
       "        <tr >\n",
       "            <td>msuproject3</td>\n",
       "            <td>2022-11-04 02:38:26</td>\n",
       "            <td>['v-nathaniel.bursch@wallaroo.ai']</td>\n",
       "            <td>12</td>\n",
       "            <td>2</td>\n",
       "        </tr>\n",
       "        \n",
       "\n",
       "        <tr >\n",
       "            <td>msuproject6</td>\n",
       "            <td>2022-11-04 15:26:05</td>\n",
       "            <td>['v-nathaniel.bursch@wallaroo.ai']</td>\n",
       "            <td>0</td>\n",
       "            <td>0</td>\n",
       "        </tr>\n",
       "        \n",
       "        </table>\n",
       "        "
      ],
      "text/plain": [
       "[{'name': 'v-nathaniel.bursch@wallaroo.ai - Default Workspace', 'id': 3, 'archived': False, 'created_by': 'ec47d6e6-d400-4026-8e96-56597e156591', 'created_at': '2022-10-25T20:01:52.476551+00:00', 'models': [], 'pipelines': []},\n",
       " {'name': 'test1', 'id': 9, 'archived': False, 'created_by': 'ec47d6e6-d400-4026-8e96-56597e156591', 'created_at': '2022-10-26T15:27:40.995917+00:00', 'models': [{'name': 'test1model', 'version': '1446e06c-6f2d-409d-a739-d4be094673d2', 'file_name': 'occupancy_model.onnx', 'image_path': None, 'last_update_time': datetime.datetime(2022, 10, 26, 15, 28, 55, 924995, tzinfo=tzutc())}, {'name': 'postprocess', 'version': '7ac865f7-9f1d-4baa-a5ff-2bc359f23598', 'file_name': 'postprocess.py', 'image_path': None, 'last_update_time': datetime.datetime(2022, 10, 26, 15, 28, 56, 21292, tzinfo=tzutc())}], 'pipelines': [{'name': 'test1pipeline', 'create_time': datetime.datetime(2022, 10, 26, 15, 28, 58, 568435, tzinfo=tzutc()), 'definition': '[]'}]},\n",
       " {'name': 'msuproject', 'id': 10, 'archived': False, 'created_by': 'ec47d6e6-d400-4026-8e96-56597e156591', 'created_at': '2022-10-26T16:55:55.848881+00:00', 'models': [{'name': 'occupancymodel', 'version': '21bc2047-ff3c-45a2-a8ff-9d60ac09311c', 'file_name': 'occupancy_model.onnx', 'image_path': None, 'last_update_time': datetime.datetime(2022, 10, 26, 16, 57, 47, 15814, tzinfo=tzutc())}, {'name': 'occupancymodel', 'version': '5dc3bf9f-5df8-4b43-b337-e1415284e665', 'file_name': 'occupancy_model.onnx', 'image_path': None, 'last_update_time': datetime.datetime(2022, 10, 26, 17, 4, 42, 506525, tzinfo=tzutc())}, {'name': 'occupancymodel', 'version': '2344c808-48b6-4b98-a066-f30502727239', 'file_name': 'occupancy_model.onnx', 'image_path': None, 'last_update_time': datetime.datetime(2022, 11, 2, 16, 57, 52, 960111, tzinfo=tzutc())}, {'name': 'postprocess', 'version': '2c2f7020-526a-4111-a127-8d25628358fe', 'file_name': 'postprocess.py', 'image_path': None, 'last_update_time': datetime.datetime(2022, 10, 26, 16, 57, 50, 465387, tzinfo=tzutc())}, {'name': 'postprocess', 'version': 'db68d841-013e-4dc9-bd64-81f3d0d3160d', 'file_name': 'postprocess.py', 'image_path': None, 'last_update_time': datetime.datetime(2022, 11, 2, 16, 57, 53, 76073, tzinfo=tzutc())}], 'pipelines': [{'name': 'occupancypipeline', 'create_time': datetime.datetime(2022, 10, 26, 16, 57, 45, 500585, tzinfo=tzutc()), 'definition': '[]'}]},\n",
       " {'name': 'msuproject1', 'id': 17, 'archived': False, 'created_by': 'ec47d6e6-d400-4026-8e96-56597e156591', 'created_at': '2022-11-02T17:09:46.469007+00:00', 'models': [{'name': 'occupancymodel', 'version': 'aff4c341-433d-4cee-9f35-244f8549d871', 'file_name': 'occupancy_model.onnx', 'image_path': None, 'last_update_time': datetime.datetime(2022, 11, 2, 17, 9, 47, 74302, tzinfo=tzutc())}, {'name': 'occupancymodel', 'version': 'a494a74a-cd70-4fc2-b66f-047dddd6e013', 'file_name': 'occupancy_model.onnx', 'image_path': None, 'last_update_time': datetime.datetime(2022, 11, 4, 2, 17, 19, 136631, tzinfo=tzutc())}, {'name': 'postprocess', 'version': '4feb87ab-a179-4383-8661-541b62f077fa', 'file_name': 'postprocess.py', 'image_path': None, 'last_update_time': datetime.datetime(2022, 11, 2, 17, 9, 47, 189158, tzinfo=tzutc())}, {'name': 'postprocess', 'version': '1c2735db-14c3-4b49-adb8-3de5e7890e97', 'file_name': 'postprocess.py', 'image_path': None, 'last_update_time': datetime.datetime(2022, 11, 4, 2, 17, 19, 273080, tzinfo=tzutc())}], 'pipelines': [{'name': 'occupancypipeline', 'create_time': datetime.datetime(2022, 11, 2, 17, 9, 47, 56539, tzinfo=tzutc()), 'definition': '[]'}]},\n",
       " {'name': 'msuproject2', 'id': 18, 'archived': False, 'created_by': 'ec47d6e6-d400-4026-8e96-56597e156591', 'created_at': '2022-11-04T02:33:17.160923+00:00', 'models': [{'name': 'occupancymodel', 'version': '90d21b95-6cca-4d9a-a4d9-48dc29ef3b61', 'file_name': 'occupancy_model.onnx', 'image_path': None, 'last_update_time': datetime.datetime(2022, 11, 4, 2, 33, 17, 898126, tzinfo=tzutc())}, {'name': 'postprocess', 'version': 'ae88bb0d-fb9d-4872-8c4a-b63a15a2d536', 'file_name': 'postprocess.py', 'image_path': None, 'last_update_time': datetime.datetime(2022, 11, 4, 2, 33, 18, 12022, tzinfo=tzutc())}], 'pipelines': [{'name': 'occupancypipeline', 'create_time': datetime.datetime(2022, 11, 4, 2, 33, 17, 881677, tzinfo=tzutc()), 'definition': '[]'}]},\n",
       " {'name': 'msuproject3', 'id': 19, 'archived': False, 'created_by': 'ec47d6e6-d400-4026-8e96-56597e156591', 'created_at': '2022-11-04T02:38:26.84028+00:00', 'models': [{'name': 'occupancymodel1', 'version': '568fc924-5371-4df6-a102-8dbfd0ade619', 'file_name': 'occupancy_model.onnx', 'image_path': None, 'last_update_time': datetime.datetime(2022, 11, 4, 2, 38, 27, 670865, tzinfo=tzutc())}, {'name': 'occupancymodel2', 'version': '76157f09-2e91-4b5a-8987-90724c8c23a3', 'file_name': 'occupancy_model.onnx', 'image_path': None, 'last_update_time': datetime.datetime(2022, 11, 4, 2, 42, 21, 931606, tzinfo=tzutc())}, {'name': 'occupancymodel2', 'version': '5f4c90ca-1948-47d6-8cba-82a3786eb4fd', 'file_name': 'occupancy_model.onnx', 'image_path': None, 'last_update_time': datetime.datetime(2022, 11, 4, 2, 45, 2, 566397, tzinfo=tzutc())}, {'name': 'occupancymodel2', 'version': 'df6b352c-fcff-487c-8c5d-ff4e3e7259df', 'file_name': 'occupancy_model.onnx', 'image_path': None, 'last_update_time': datetime.datetime(2022, 11, 4, 2, 46, 24, 263598, tzinfo=tzutc())}, {'name': 'occupancymodel2', 'version': '80e842ab-a149-4e7a-ad5f-6da00e990c68', 'file_name': 'occupancy_model.onnx', 'image_path': None, 'last_update_time': datetime.datetime(2022, 11, 4, 2, 50, 58, 459106, tzinfo=tzutc())}, {'name': 'occupancymodel2', 'version': '0dab2774-70e1-41fb-af0b-6f568251ff1c', 'file_name': 'occupancy_model.onnx', 'image_path': None, 'last_update_time': datetime.datetime(2022, 11, 4, 3, 9, 40, 302546, tzinfo=tzutc())}, {'name': 'postprocess', 'version': 'ed5debc0-b84f-42b5-8d5d-2c023d901807', 'file_name': 'postprocess.py', 'image_path': None, 'last_update_time': datetime.datetime(2022, 11, 4, 2, 38, 27, 772312, tzinfo=tzutc())}, {'name': 'postprocess', 'version': 'a58d95f9-c6bc-4a4f-beab-3c2a42803cd0', 'file_name': 'postprocess.py', 'image_path': None, 'last_update_time': datetime.datetime(2022, 11, 4, 2, 42, 22, 39627, tzinfo=tzutc())}, {'name': 'postprocess', 'version': 'f2b87f49-6ebb-4e2f-9fe6-c10417c92d9a', 'file_name': 'postprocess.py', 'image_path': None, 'last_update_time': datetime.datetime(2022, 11, 4, 2, 45, 2, 670748, tzinfo=tzutc())}, {'name': 'postprocess', 'version': 'f8188ef2-5393-4d88-bfb7-9a493a00c505', 'file_name': 'postprocess.py', 'image_path': None, 'last_update_time': datetime.datetime(2022, 11, 4, 2, 46, 24, 360090, tzinfo=tzutc())}, {'name': 'postprocess', 'version': '75e7a9c9-07d3-4fe5-95a1-74dc825ab469', 'file_name': 'postprocess.py', 'image_path': None, 'last_update_time': datetime.datetime(2022, 11, 4, 2, 50, 58, 567669, tzinfo=tzutc())}, {'name': 'postprocess', 'version': 'bb7208c1-bc58-43e8-97b5-908d008032e8', 'file_name': 'postprocess.py', 'image_path': None, 'last_update_time': datetime.datetime(2022, 11, 4, 3, 9, 40, 420752, tzinfo=tzutc())}], 'pipelines': [{'name': 'occupancypipeline1', 'create_time': datetime.datetime(2022, 11, 4, 2, 38, 27, 656046, tzinfo=tzutc()), 'definition': '[]'}, {'name': 'occupancypipeline2', 'create_time': datetime.datetime(2022, 11, 4, 2, 42, 21, 913633, tzinfo=tzutc()), 'definition': '[]'}]},\n",
       " {'name': 'msuproject6', 'id': 20, 'archived': False, 'created_by': 'ec47d6e6-d400-4026-8e96-56597e156591', 'created_at': '2022-11-04T15:26:05.104127+00:00', 'models': [], 'pipelines': []}]"
      ]
     },
     "execution_count": 20,
     "metadata": {},
     "output_type": "execute_result"
    }
   ],
   "source": [
    "# Thw wl.list_workspaces() prints the lists of the workspaces\n",
    "wl.list_workspaces()"
   ]
  },
  {
   "cell_type": "code",
   "execution_count": 21,
   "metadata": {},
   "outputs": [
    {
     "data": {
      "text/plain": [
       "{'name': 'msuproject6', 'id': 20, 'archived': False, 'created_by': 'ec47d6e6-d400-4026-8e96-56597e156591', 'created_at': '2022-11-04T15:26:05.104127+00:00', 'models': [], 'pipelines': []}"
      ]
     },
     "execution_count": 21,
     "metadata": {},
     "output_type": "execute_result"
    }
   ],
   "source": [
    "wl.set_current_workspace(workspace)\n",
    "#gw = wl.get_current_workspace()\n",
    "# wl.list_models()"
   ]
  },
  {
   "cell_type": "markdown",
   "metadata": {},
   "source": [
    "#### Creating a Pipeline and Uploading the Model <a class=\"anchor\" id=\"pipeline\"></a>\n",
    "In this step we are using `build_pipeline()`. Here we create the pipeline by giving the method a string. We defined `pipeline_name` earlier.\n",
    "\n",
    "To upload the model we use `upload_model()`. Here we need give a string, and a file. Both we defined earlier in the tutorial.\n",
    "\n",
    "Lastly, we add the model as a step to the pipeline using `add_model_step()`. All we have to give here is give the function our model we used earlier."
   ]
  },
  {
   "cell_type": "code",
   "execution_count": 22,
   "metadata": {},
   "outputs": [],
   "source": [
    "# The wl.get_pipeline() creates the pipeline\n",
    "occupancy_pipeline = wl.build_pipeline(pipeline_name)\n",
    "\n",
    "# The wl.upload_model() uploads the model to the platform\n",
    "occupancy_model = wl.upload_model(model_name, model_file_name).configure()\n",
    "\n",
    "# The occuupancy_pipeline.add_model_step() adds the model to pipeline to be deployed\n",
    "occupancy_pipeline = occupancy_pipeline.add_model_step(occupancy_model)"
   ]
  },
  {
   "cell_type": "markdown",
   "metadata": {},
   "source": [
    "#### Adding Validation to the model  <a class=\"anchor\" id=\"validation\"></a>\n",
    "The `add_validation()` takes in two parameters.  \n",
    "\n",
    "**add_validation**(**string** name, **bool** condition)  \n",
    "\n",
    "**Parameters:**\n",
    "* **Name**: This must be lower-case. It is an arbitrary name used to name the condition.  \n",
    "* **Condition**: This describes the condition you want to **NOT** mark as an anomaly. First, give the output values and if greater/less/equal to a chosen value.  \n",
    "\n",
    "The validation step must be implemented before deploying the pipeline and before adding a post process step (In the current version of Wallaroo, this is a work-around to a known issue).  \n",
    "\n",
    "In our code, we name our validation as `no_negative_people`. The condition takes in our `occupancy_model` outputs and compares it to the `float(0)`. This needs to be a float because `occupancy_model` will output floats. So we are only allowing the values greater than or equal to 0.0 to not be marked as an anomaly.\n"
   ]
  },
  {
   "cell_type": "code",
   "execution_count": 54,
   "metadata": {},
   "outputs": [],
   "source": [
    "occupancy_pipeline = occupancy_pipeline.add_validation(\n",
    "                                        'no_negative_people',\n",
    "                                        occupancy_model.outputs[0][0] >= float(0)\n",
    "                                        )"
   ]
  },
  {
   "cell_type": "markdown",
   "metadata": {},
   "source": [
    "#### Adding Post-Process <a class=\"anchor\" id=\"postprocess\"></a>\n",
    "The post process step formats the data. We are able to implement whatever formatting rules we want.\n",
    "\n",
    "In this tutorial, since we cannot have a fraction of a person, we implement rounding.\n",
    "\n",
    "Here we are uploading another \"model\" to our pipeline.\n",
    "\n",
    "First, we must take our `postproccess.py` file and upload it to Wallaroo using `wl.upload_model()`. We are naming this model `postprocess`. We are also sending our `postprocess.py` file. This time we must also configure it as a python file. \n",
    "\n",
    "We then need to add the model to our pipeline using `add_model_step()` as we did before with our model.\n",
    "Except this time, we upload `module_post`."
   ]
  },
  {
   "cell_type": "code",
   "execution_count": 24,
   "metadata": {},
   "outputs": [],
   "source": [
    "module_post = wl.upload_model(\"postprocess\", \"./postprocess.py\").configure('python')\n",
    "\n",
    "occupancy_pipeline = occupancy_pipeline.add_model_step(module_post)"
   ]
  },
  {
   "cell_type": "markdown",
   "id": "5d487e51",
   "metadata": {},
   "source": [
    "### Using Wallaroo's Monitoring Capabilities to Analyze the Model <a class=\"anchor\" id=\"analyze\"></a>\n",
    "Since the model is now deployed we will continue to monitor it and analyze it."
   ]
  },
  {
   "cell_type": "markdown",
   "metadata": {},
   "source": [
    "#### Deploying the Model <a class=\"anchor\" id=\"deploy\"></a>\n",
    "We are close to the final step now. Here we utilize Wallaroo's amazing cluster to run our pipeline."
   ]
  },
  {
   "cell_type": "code",
   "execution_count": 34,
   "metadata": {},
   "outputs": [
    {
     "name": "stdout",
     "output_type": "stream",
     "text": [
      "Waiting for deployment - this will take up to 45s ...... ok\n"
     ]
    },
    {
     "data": {
      "text/html": [
       "<table><tr><th>name</th> <td>occupancypipeline6</td></tr><tr><th>created</th> <td>2022-11-04 15:26:20.130601+00:00</td></tr><tr><th>last_updated</th> <td>2022-11-04 15:30:21.668033+00:00</td></tr><tr><th>deployed</th> <td>True</td></tr><tr><th>tags</th> <td></td></tr><tr><th>steps</th> <td>occupancymodel6</td></tr></table>"
      ],
      "text/plain": [
       "{'name': 'occupancypipeline6', 'create_time': datetime.datetime(2022, 11, 4, 15, 26, 20, 130601, tzinfo=tzutc()), 'definition': '[{\\'ModelInference\\': {\\'models\\': [{\\'name\\': \\'occupancymodel6\\', \\'version\\': \\'8ecdda92-7343-448d-b24a-a43a9061ba40\\', \\'sha\\': \\'7c4bb53e4f53064b8c72bbfc2f4df6b2688cbe729493b8cf01a39972f2fdaf6c\\'}]}}, {\\'Check\\': {\\'tree\\': [\\'{\"values\": {\"no_negative_people\": {\"root\": {\"node\": \"binop\", \"op\": \">=\", \"left\": {\"node\": \"variable\", \"variant_id\": {\"name\": \"occupancymodel6\"}, \"position\": \"output\", \"key\": [0, 0]}, \"right\": {\"node\": \"literal\", \"float\": 0.0}}, \"required_data\": [{\"name\": \"occupancymodel6\"}]}}, \"gauges\": [], \"validations\": [\"no_negative_people\"]}\\']}}, {\\'ModelInference\\': {\\'models\\': [{\\'name\\': \\'postprocess\\', \\'version\\': \\'f0210b20-52ea-4520-a9e0-0a257e31546e\\', \\'sha\\': \\'3d73b36d950f4349938ae479b507141608dd1c22a9f60ae748b7a93f90a272ea\\'}]}}]'}"
      ]
     },
     "execution_count": 34,
     "metadata": {},
     "output_type": "execute_result"
    }
   ],
   "source": [
    "# The occupancy_pipeline.deploy() activating the pipeline\n",
    "occupancy_pipeline.deploy()"
   ]
  },
  {
   "cell_type": "markdown",
   "metadata": {},
   "source": [
    "#### Checking the deployment <a class=\"anchor\" id=\"check\"></a>\n",
    "This can be a usefull line of code, to ensure that the pipeline is running succesfully!"
   ]
  },
  {
   "cell_type": "code",
   "execution_count": 26,
   "metadata": {},
   "outputs": [
    {
     "data": {
      "text/plain": [
       "{'status': 'Running',\n",
       " 'details': None,\n",
       " 'engines': [{'ip': '10.244.3.86',\n",
       "   'name': 'engine-78bc948846-2lm5m',\n",
       "   'status': 'Running',\n",
       "   'reason': None,\n",
       "   'pipeline_statuses': {'pipelines': [{'id': 'occupancypipeline6',\n",
       "      'status': 'Running'}]},\n",
       "   'model_statuses': {'models': [{'name': 'postprocess',\n",
       "      'version': 'f0210b20-52ea-4520-a9e0-0a257e31546e',\n",
       "      'sha': '3d73b36d950f4349938ae479b507141608dd1c22a9f60ae748b7a93f90a272ea',\n",
       "      'status': 'Running'},\n",
       "     {'name': 'occupancymodel6',\n",
       "      'version': '8ecdda92-7343-448d-b24a-a43a9061ba40',\n",
       "      'sha': '7c4bb53e4f53064b8c72bbfc2f4df6b2688cbe729493b8cf01a39972f2fdaf6c',\n",
       "      'status': 'Running'}]}}],\n",
       " 'engine_lbs': [{'ip': '10.244.2.21',\n",
       "   'name': 'engine-lb-67c854cc86-j6hzb',\n",
       "   'status': 'Running',\n",
       "   'reason': None}]}"
      ]
     },
     "execution_count": 26,
     "metadata": {},
     "output_type": "execute_result"
    }
   ],
   "source": [
    "# The occupancy_pipeline.status() displays the status of the pipeline\n",
    "occupancy_pipeline.status()"
   ]
  },
  {
   "cell_type": "markdown",
   "metadata": {},
   "source": [
    "#### Making an Inference <a class=\"anchor\" id=\"inference\"></a>\n",
    "\n",
    "Finally, we get to utilize all of our work and put it into production.\n",
    "\n",
    "In this first box, we are just implementing a function that will format our data into a dictionary format. This format is needed in order to properly run inferences."
   ]
  },
  {
   "cell_type": "code",
   "execution_count": 27,
   "metadata": {},
   "outputs": [],
   "source": [
    "# Needed for the infrences\n",
    "import json\n",
    "from wallaroo.object import EntityNotFoundError\n",
    "\n",
    "# The pandas_to_dict() converts the values into dictionary for infrences\n",
    "def pandas_to_dict(df):\n",
    "    input_dict = {\n",
    "    'tensor': df.to_numpy().tolist()\n",
    "    }\n",
    "    return input_dict"
   ]
  },
  {
   "cell_type": "markdown",
   "metadata": {},
   "source": [
    "#### Getting Single Datums <a class=\"anchor\" id=\"datums\"></a>\n",
    "\n",
    "Here we just need to grab the data from our .csv that we want to infer upon.\n",
    "\n",
    "In our setting, we will pretend that our sensors are sending our pipeline a single datum at a time. In our scenrio, we will send a good datum (something that won't trigger a validation error) and we will also send a bad datum (something that will trigger a validation error)."
   ]
  },
  {
   "cell_type": "code",
   "execution_count": 45,
   "metadata": {},
   "outputs": [
    {
     "name": "stdout",
     "output_type": "stream",
     "text": [
      "{'tensor': [[121]]}\n",
      "{'tensor': [[-121]]}\n"
     ]
    }
   ],
   "source": [
    "good_data = pandas_to_dict(pd.read_csv('Good_Datum.csv').iloc[:,6:7])\n",
    "bad_data = pandas_to_dict(pd.read_csv('Bad_Datum.csv').iloc[:,6:7])\n",
    "\n",
    "print(good_data)\n",
    "print(bad_data)"
   ]
  },
  {
   "cell_type": "markdown",
   "metadata": {},
   "source": [
    "#### Making the inference <a class=\"anchor\" id=\"makeinference\"></a>\n",
    "\n",
    "`occupancy_pipeline.infer()`  \n",
    "This method takes our input data that we pulled from our data, and creates the inference. \n",
    "\n",
    "The result shows the data we placed in, the outputs from the inference, and lastly, our post process step that rounds the numbers."
   ]
  },
  {
   "cell_type": "code",
   "execution_count": 46,
   "metadata": {},
   "outputs": [],
   "source": [
    "# The occupancy_pipeline.infer() creates a result based on data given\n",
    "good_result = occupancy_pipeline.infer(good_data)\n",
    "bad_result = occupancy_pipeline.infer(bad_data)"
   ]
  },
  {
   "cell_type": "markdown",
   "metadata": {},
   "source": [
    "#### Interpreting the Inference <a class=\"anchor\" id=\"interpret\"></a>\n",
    "\n",
    "By printing `good_result` and `bad_result` we can see the actual output. On the first line `InferenceResult` it shows `check_failures`.\n",
    "\n",
    "In our `good_result`, we see that there are no failures. However in `bad_result`, we see that the validation step found a failure.\n",
    "\n",
    "This result also shows the information that was run. You can find the following information:  \n",
    "`model_name` - name of the model.  \n",
    "`orginal_data` - the data we placed into the inference.  \n",
    "`outputs` - the raw output.  \n",
    "`prediction` - the output after it has been processed.\n",
    "\n"
   ]
  },
  {
   "cell_type": "code",
   "execution_count": 52,
   "metadata": {},
   "outputs": [
    {
     "name": "stdout",
     "output_type": "stream",
     "text": [
      "[InferenceResult({'check_failures': [],\n",
      " 'elapsed': 297604,\n",
      " 'model_name': 'postprocess',\n",
      " 'model_version': 'f0210b20-52ea-4520-a9e0-0a257e31546e',\n",
      " 'original_data': {'tensor': [[121]]},\n",
      " 'outputs': [{'Json': {'data': [{'original': {'outputs': [{'Double': {'data': [1.8181524064645576],\n",
      "                                                                      'dim': [1,\n",
      "                                                                              1],\n",
      "                                                                      'v': 1}}]},\n",
      "                                 'prediction': [2.0]}],\n",
      "                       'dim': [1],\n",
      "                       'v': 1}}],\n",
      " 'pipeline_name': 'occupancypipeline6',\n",
      " 'shadow_data': {},\n",
      " 'time': 1667577872362})]\n",
      "----------------------------------------------------------------------------------------------------\n",
      "[InferenceResult({'check_failures': [{'False': {'expr': 'occupancymodel6.outputs[0][0] >= 0'}}],\n",
      " 'elapsed': 264003,\n",
      " 'model_name': 'postprocess',\n",
      " 'model_version': 'f0210b20-52ea-4520-a9e0-0a257e31546e',\n",
      " 'original_data': {'tensor': [[-121]]},\n",
      " 'outputs': [{'Json': {'data': [{'original': {'outputs': [{'Double': {'data': [-1.776617515968567],\n",
      "                                                                      'dim': [1,\n",
      "                                                                              1],\n",
      "                                                                      'v': 1}}]},\n",
      "                                 'prediction': [-2.0]}],\n",
      "                       'dim': [1],\n",
      "                       'v': 1}}],\n",
      " 'pipeline_name': 'occupancypipeline6',\n",
      " 'shadow_data': {},\n",
      " 'time': 1667577872368})]\n"
     ]
    }
   ],
   "source": [
    "print(good_result)\n",
    "print(\"-\"*100)\n",
    "print(bad_result)"
   ]
  },
  {
   "cell_type": "markdown",
   "metadata": {},
   "source": [
    "#### Format Results <a class=\"anchor\" id=\"results\"></a>\n",
    "\n",
    "`result[0].data()[0].tolist()`  \n",
    "This will show the prediction of our inference result."
   ]
  },
  {
   "cell_type": "code",
   "execution_count": 53,
   "metadata": {},
   "outputs": [
    {
     "name": "stdout",
     "output_type": "stream",
     "text": [
      "Finalized Data\n",
      "--------------------\n",
      "Good Result : [2.0]\n",
      "Bad Result : [-2.0]\n"
     ]
    }
   ],
   "source": [
    "# Show the results in a nicely formatted way.\n",
    "print(\"Finalized Data\\n--------------------\")\n",
    "print(\"Good Result :\",good_result[0].data()[0].tolist())\n",
    "print(\"Bad Result :\",bad_result[0].data()[0].tolist())"
   ]
  },
  {
   "cell_type": "markdown",
   "metadata": {},
   "source": [
    "#### Undeploy the pipeline <a class=\"anchor\" id=\"undeploy\"></a>\n",
    "\n",
    "This part is crucial, you do not want take up more resources than you meant to. "
   ]
  },
  {
   "cell_type": "code",
   "execution_count": 32,
   "metadata": {},
   "outputs": [
    {
     "name": "stdout",
     "output_type": "stream",
     "text": [
      "Waiting for undeployment - this will take up to 45s ..................................... ok\n"
     ]
    },
    {
     "data": {
      "text/html": [
       "<table><tr><th>name</th> <td>occupancypipeline6</td></tr><tr><th>created</th> <td>2022-11-04 15:26:20.130601+00:00</td></tr><tr><th>last_updated</th> <td>2022-11-04 15:27:10.174464+00:00</td></tr><tr><th>deployed</th> <td>False</td></tr><tr><th>tags</th> <td></td></tr><tr><th>steps</th> <td>occupancymodel6</td></tr></table>"
      ],
      "text/plain": [
       "{'name': 'occupancypipeline6', 'create_time': datetime.datetime(2022, 11, 4, 15, 26, 20, 130601, tzinfo=tzutc()), 'definition': '[{\\'ModelInference\\': {\\'models\\': [{\\'name\\': \\'occupancymodel6\\', \\'version\\': \\'8ecdda92-7343-448d-b24a-a43a9061ba40\\', \\'sha\\': \\'7c4bb53e4f53064b8c72bbfc2f4df6b2688cbe729493b8cf01a39972f2fdaf6c\\'}]}}, {\\'Check\\': {\\'tree\\': [\\'{\"values\": {\"no_negative_people\": {\"root\": {\"node\": \"binop\", \"op\": \">=\", \"left\": {\"node\": \"variable\", \"variant_id\": {\"name\": \"occupancymodel6\"}, \"position\": \"output\", \"key\": [0, 0]}, \"right\": {\"node\": \"literal\", \"float\": 0.0}}, \"required_data\": [{\"name\": \"occupancymodel6\"}]}}, \"gauges\": [], \"validations\": [\"no_negative_people\"]}\\']}}, {\\'ModelInference\\': {\\'models\\': [{\\'name\\': \\'postprocess\\', \\'version\\': \\'f0210b20-52ea-4520-a9e0-0a257e31546e\\', \\'sha\\': \\'3d73b36d950f4349938ae479b507141608dd1c22a9f60ae748b7a93f90a272ea\\'}]}}]'}"
      ]
     },
     "execution_count": 32,
     "metadata": {},
     "output_type": "execute_result"
    }
   ],
   "source": [
    "# The occupancy_pipeline.undeploy() deactivates the pipeline\n",
    "occupancy_pipeline.undeploy()"
   ]
  },
  {
   "cell_type": "markdown",
   "metadata": {},
   "source": [
    "#### Logs <a class=\"anchor\" id=\"logs\"></a>\n",
    "\n",
    "`.logs()`\n",
    "\n",
    "Lastly, the pipeline logs can be deployed, even after the pipeline is undeployed.\n",
    "\n",
    "We can see both good and bad datums being represented in the logs.  \n",
    "A log without an anomaly will be shown in white.  \n",
    "A log with an anomaly will be shown in red. It will also list how many anomalies were found in the last column."
   ]
  },
  {
   "cell_type": "code",
   "execution_count": 33,
   "metadata": {},
   "outputs": [
    {
     "data": {
      "text/html": [
       "\n",
       "        <table>\n",
       "            <tr>\n",
       "                <th>Timestamp</th>\n",
       "                <th>Output</th>\n",
       "                <th>Input</th>\n",
       "                <th>Anomalies</th>\n",
       "            </tr>\n",
       "            \n",
       "        <tr style=\"\">\n",
       "            <td>2022-04-Nov 15:28:16</td>\n",
       "            <td>[array([2.])]</td>\n",
       "            <td>[[121]]</td>\n",
       "            <td>0</td>\n",
       "        </tr>\n",
       "        \n",
       "\n",
       "        <tr style=\"color: red;\">\n",
       "            <td>2022-04-Nov 15:28:24</td>\n",
       "            <td>[array([-2.])]</td>\n",
       "            <td>[[-121]]</td>\n",
       "            <td>1</td>\n",
       "        </tr>\n",
       "        \n",
       "        </table>\n",
       "        "
      ],
      "text/plain": [
       "[<wallaroo.logs.LogEntry at 0x7f5e069a3e50>,\n",
       " <wallaroo.logs.LogEntry at 0x7f5df563ed90>]"
      ]
     },
     "execution_count": 33,
     "metadata": {},
     "output_type": "execute_result"
    }
   ],
   "source": [
    "logs = occupancy_pipeline.logs()\n",
    "logs"
   ]
  }
 ],
 "metadata": {
  "kernelspec": {
   "display_name": "Python 3.8.5 32-bit",
   "language": "python",
   "name": "python3"
  },
  "language_info": {
   "codemirror_mode": {
    "name": "ipython",
    "version": 3
   },
   "file_extension": ".py",
   "mimetype": "text/x-python",
   "name": "python",
   "nbconvert_exporter": "python",
   "pygments_lexer": "ipython3",
   "version": "3.8.5"
  },
  "vscode": {
   "interpreter": {
    "hash": "a455151eaa177e2032de9a4d2e8948b068618360c02abe53a3688b732acfc327"
   }
  }
 },
 "nbformat": 4,
 "nbformat_minor": 5
}
