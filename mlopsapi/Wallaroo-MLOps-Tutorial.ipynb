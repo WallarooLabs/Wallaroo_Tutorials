{
 "cells": [
  {
   "cell_type": "markdown",
   "id": "2e523b51-d933-4774-9dd7-317a7d183489",
   "metadata": {},
   "source": [
    "## Introduction\n",
    "\n",
    "The Wallaroo MLOps API allows organizations to submit requests to their Wallaroo instance to perform such actions as:\n",
    "\n",
    "* Create a new user and invite them to the instance.\n",
    "* Create workspaces and list their configuration details.\n",
    "* Upload a model.\n",
    "* Deploy and undeploy a pipeline.\n",
    "\n",
    "The following examples will show how to submit queries to the Wallaroo MLOps API and the types of responses returned.\n",
    "\n",
    "### References\n",
    "\n",
    "The following references are available for more information about Wallaroo and the Wallaroo MLOps API:\n",
    "\n",
    "* [Wallaroo Documentation Site](https://docs.wallaroo.ai):  The Wallaroo Documentation Site\n",
    "* Wallaroo MLOps API Documentation from a Wallaroo instance:  A Swagger UI based documentation is available from your Wallaroo instance at `https://{Wallaroo Prefix}.api.{Wallaroo Suffix}/v1/api/docs`.  For example, if the Wallaroo Instance is Wallaroo Community with the prefix `{lovely-rhino-5555}`, then the Wallaroo MLOps API Documentation would be available at `https://lovely-rhino-5555.api.wallaroo.community/v1/api/docs`.  For another example, a Wallaroo Enterprise users who do not use a prefix and has the suffix `wallaroo.example.com`, the the Wallaroo MLOps API Documentation would be available at `https://api.wallaroo.example.com/v1/api/docs`.  For more information, see the [Wallaroo Documentation Site](https://docs.wallaroo.ai).\n",
    "\n",
    "**IMPORTANT NOTE**:  This tutorial is in beta while the MLOps API is updated.  Some commands may not work as currently documented and will be updated in an upcoming release.  Other commands may undergo changes to be more user friendly."
   ]
  },
  {
   "cell_type": "markdown",
   "id": "de7a7d6e-579c-4d78-a72a-eeca1eb2ceee",
   "metadata": {},
   "source": [
    "## OpenAPI Steps\n",
    "\n",
    "The following demonstrates how to use each command in the Wallaroo MLOps API, and can be modified as best fits your organization's needs."
   ]
  },
  {
   "cell_type": "markdown",
   "id": "51ebe37c-5e4f-49fa-8716-d83cea80d078",
   "metadata": {},
   "source": [
    "### Import Libraries\n",
    "\n",
    "For the examples, the Python `requests` library will be used."
   ]
  },
  {
   "cell_type": "code",
   "execution_count": 1,
   "id": "b5bea68b-4137-44c6-b16c-30c8248572c5",
   "metadata": {},
   "outputs": [],
   "source": [
    "import requests\n",
    "from requests.auth import HTTPBasicAuth"
   ]
  },
  {
   "cell_type": "markdown",
   "id": "b49322a1-e63a-4fe4-a3f8-b0597eb1cc5d",
   "metadata": {},
   "source": [
    "### Set Variables\n",
    "\n",
    "The following variables are used for the example and should be modified to fit your organization.\n",
    "\n",
    "Wallaroo comes pre-installed with a confidential OpenID Connect client.  The default client is `api-client`, but other clients may be created and configured.\n",
    "\n",
    "As it is a confidential client, api-client requires its secret to be supplied when requesting a token. Administrators may obtain their API client credentials from Keycloak from the Keycloak Service URL as listed above and the prefix `/auth/admin/master/console/#/realms/master/clients`.\n",
    "\n",
    "For example, if the Wallaroo Community instance DNS address is `https://magical-rhino-5555.wallaroo.community`, then the direct path to the Keycloak API client credentials would be:\n",
    "\n",
    "`https://magical-rhino-5555.keycloak.wallaroo.community/auth/admin/master/console/#/realms/master/clients`\n",
    "\n",
    "Then select the client, in this case **api-client**, then **Credentials**.\n",
    "\n",
    "![Wallaroo Keycloak Service](./images/wallaroo-api/wallaroo-api-keycloak-service.png)\n",
    "\n",
    "![Wallaroo Components](./images/wallaroo-api/wallaroo-api-keycloak-credentials.png)\n",
    "\n",
    "By default, tokens issued for api-client are valid for up to 60 minutes. Refresh tokens are supported."
   ]
  },
  {
   "cell_type": "code",
   "execution_count": 2,
   "id": "96f02d3e-3290-4e15-9596-00b73529ecdb",
   "metadata": {},
   "outputs": [],
   "source": [
    "## Variables\n",
    "\n",
    "URLPREFIX='magical-bear-3782'\n",
    "URLSUFFIX='wallaroo.community'\n",
    "TOKENURL=f'https://{URLPREFIX}.keycloak.{URLSUFFIX}/auth/realms/master/protocol/openid-connect/token'\n",
    "CLIENT=\"api-client\"\n",
    "SECRET=\"yoursecrethere\"\n",
    "USERNAME=\"your user email here\"\n",
    "PASSWORD=\"insertyourpasswordhere\"\n",
    "APIURL=f\"https://{URLPREFIX}.api.{URLSUFFIX}/v1/api\"\n",
    "newUser=\"your new user email here\"\n",
    "newPassword=\"new user password here\""
   ]
  },
  {
   "cell_type": "markdown",
   "id": "658317a8-868e-4726-963c-0ee989fe052e",
   "metadata": {},
   "source": [
    "The following is an output of the `TOKENURL` variable to verify it matches your Wallaroo instance's Keycloak API client credentials URL."
   ]
  },
  {
   "cell_type": "code",
   "execution_count": 3,
   "id": "9db6e319-c66a-4e6a-a6ae-87eeceaef59e",
   "metadata": {},
   "outputs": [
    {
     "data": {
      "text/plain": [
       "'https://magical-bear-3782.keycloak.wallaroo.community/auth/realms/master/protocol/openid-connect/token'"
      ]
     },
     "execution_count": 3,
     "metadata": {},
     "output_type": "execute_result"
    }
   ],
   "source": [
    "TOKENURL"
   ]
  },
  {
   "cell_type": "markdown",
   "id": "8593a5df-438a-4d13-a466-d0b3ff8f2f8c",
   "metadata": {},
   "source": [
    "### API Example Methods\n",
    "\n",
    "The following methods are used to retrieve the MLOPs API Token from the Wallaroo instance's Keycloak service, and submit MLOps API requests through the Wallaroo instance's MLOps API.\n",
    "\n",
    "MLOps API requests are always `POST`, and are either submitted as `'Content-Type':'application/json'` or as a multipart submission including a file."
   ]
  },
  {
   "cell_type": "code",
   "execution_count": 4,
   "id": "4d12b478-b250-4a02-8c56-1a27b59a0386",
   "metadata": {},
   "outputs": [],
   "source": [
    "def get_jwt_token(url, client, secret, username, password):\n",
    "    auth = HTTPBasicAuth(client, secret)\n",
    "    data = {\n",
    "        'grant_type': 'password',\n",
    "        'username': username,\n",
    "        'password': password\n",
    "    }\n",
    "    response = requests.post(url, auth=auth, data=data, verify=True)\n",
    "    return response.json()['access_token']\n",
    "\n",
    "\n",
    "# This can either submit a plain POST request ('Content-Type':'application/json'), or with a file.\n",
    "\n",
    "def get_wallaroo_response(url, api_request, token, data, files=None):\n",
    "    apiUrl=f\"{url}{api_request}\"\n",
    "    if files is None:\n",
    "        # Regular POST request\n",
    "        headers= {\n",
    "            'Authorization': 'Bearer ' + token,\n",
    "            'Content-Type':'application/json'\n",
    "        }\n",
    "        response = requests.post(apiUrl, json=data, headers=headers, verify=True)\n",
    "    else:\n",
    "        # POST request with file\n",
    "        headers= {\n",
    "            'Authorization': 'Bearer ' + token\n",
    "        }\n",
    "        response = requests.post(apiUrl, data=data, headers=headers, files=files, verify=True)\n",
    "    return response.json()"
   ]
  },
  {
   "cell_type": "markdown",
   "id": "f10d09d9-9094-4a0c-b5cd-b94293253f8f",
   "metadata": {},
   "source": [
    "### Retrieve MLOps API Token\n",
    "\n",
    "To retrieve an API token for a specific user with the Client Secret, request the token from the Wallaroo instance using the client secret and provide the following:\n",
    "\n",
    "* Token Request URL: The Keycloak token retrieval URL.\n",
    "* OpenID Connect client name: The name of the OpenID Connect client.\n",
    "* OpenID Connect client Secret:  The secret for the OpenID Connect client.\n",
    "* UserName:  The username of the Wallaroo instance user, usually their email address.\n",
    "* Password:  The password of the Wallaroo instance user.\n",
    "\n",
    "The following sample uses the variables set above to request the token, then displays it."
   ]
  },
  {
   "cell_type": "code",
   "execution_count": 5,
   "id": "0efb96a8-9e15-4078-b58d-6fa12c14dfb9",
   "metadata": {},
   "outputs": [],
   "source": [
    "TOKEN=get_jwt_token(TOKENURL, CLIENT, SECRET, USERNAME, PASSWORD)"
   ]
  },
  {
   "cell_type": "code",
   "execution_count": 6,
   "id": "e1f0f0fa-88a1-4ed2-b65e-4042f7fdf634",
   "metadata": {},
   "outputs": [
    {
     "data": {
      "text/plain": [
       "'eyJhbGciOiJSUzI1NiIsInR5cCIgOiAiSldUIiwia2lkIiA6ICJ1UTNmY2xMTlktWjREcVJhbmxlczMwZU1wUjJaR1pnVlhfMVlkTWJjRmdrIn0.eyJleHAiOjE2NjM2OTg2MDUsImlhdCI6MTY2MzY5NTAwNSwianRpIjoiMjg2NmU1MjgtYzEwYy00ZWQwLWExMDAtMzI2ODk3MDZlNDk2IiwiaXNzIjoiaHR0cHM6Ly9tYWdpY2FsLWJlYXItMzc4Mi5rZXljbG9hay53YWxsYXJvby5jb21tdW5pdHkvYXV0aC9yZWFsbXMvbWFzdGVyIiwiYXVkIjpbIm1hc3Rlci1yZWFsbSIsImFjY291bnQiXSwic3ViIjoiMzI0MDlhYmYtZjkyNy00ZDFhLWEzZDctNjdmZmJmMTc3ZDlmIiwidHlwIjoiQmVhcmVyIiwiYXpwIjoiYXBpLWNsaWVudCIsInNlc3Npb25fc3RhdGUiOiI4MzIxOTA0Zi1lZWYxLTRlZDAtODE0ZS1mZjJkODJhMzcwNzEiLCJhY3IiOiIxIiwiYWxsb3dlZC1vcmlnaW5zIjpbIioiXSwicmVhbG1fYWNjZXNzIjp7InJvbGVzIjpbImNyZWF0ZS1yZWFsbSIsImRlZmF1bHQtcm9sZXMtbWFzdGVyIiwib2ZmbGluZV9hY2Nlc3MiLCJhZG1pbiIsInVtYV9hdXRob3JpemF0aW9uIl19LCJyZXNvdXJjZV9hY2Nlc3MiOnsibWFzdGVyLXJlYWxtIjp7InJvbGVzIjpbInZpZXctcmVhbG0iLCJ2aWV3LWlkZW50aXR5LXByb3ZpZGVycyIsIm1hbmFnZS1pZGVudGl0eS1wcm92aWRlcnMiLCJpbXBlcnNvbmF0aW9uIiwiY3JlYXRlLWNsaWVudCIsIm1hbmFnZS11c2VycyIsInF1ZXJ5LXJlYWxtcyIsInZpZXctYXV0aG9yaXphdGlvbiIsInF1ZXJ5LWNsaWVudHMiLCJxdWVyeS11c2VycyIsIm1hbmFnZS1ldmVudHMiLCJtYW5hZ2UtcmVhbG0iLCJ2aWV3LWV2ZW50cyIsInZpZXctdXNlcnMiLCJ2aWV3LWNsaWVudHMiLCJtYW5hZ2UtYXV0aG9yaXphdGlvbiIsIm1hbmFnZS1jbGllbnRzIiwicXVlcnktZ3JvdXBzIl19LCJhY2NvdW50Ijp7InJvbGVzIjpbIm1hbmFnZS1hY2NvdW50IiwibWFuYWdlLWFjY291bnQtbGlua3MiLCJ2aWV3LXByb2ZpbGUiXX19LCJzY29wZSI6InByb2ZpbGUgZW1haWwiLCJlbWFpbF92ZXJpZmllZCI6dHJ1ZSwiaHR0cHM6Ly9oYXN1cmEuaW8vand0L2NsYWltcyI6eyJ4LWhhc3VyYS11c2VyLWlkIjoiMzI0MDlhYmYtZjkyNy00ZDFhLWEzZDctNjdmZmJmMTc3ZDlmIiwieC1oYXN1cmEtZGVmYXVsdC1yb2xlIjoidXNlciIsIngtaGFzdXJhLWFsbG93ZWQtcm9sZXMiOlsidXNlciJdLCJ4LWhhc3VyYS11c2VyLWdyb3VwcyI6Int9In0sInByZWZlcnJlZF91c2VybmFtZSI6ImpvaG4uaGFuc2FyaWNrQHdhbGxhcm9vLmFpIiwiZW1haWwiOiJqb2huLmhhbnNhcmlja0B3YWxsYXJvby5haSJ9.uRmYjDQQzn3G6wYb3A38jegashth3EsXXpPCh0WndF223KZ0tjeSn1qdGVpIV6GbSbs9aIG5Oazsbk2Ku_LRMRDbpIwTs9XZ9ov4IS4vY-w1Hi42Kb6HSi2PFzLaWttXWr5QgQOfN3oaBbGr1VBoWn5tG0N3pR09bXSY1uxI4H4xDUyZQxrBrGVRdU6_f8--ud1pnmg0--wEiSb7qgY57hxPKWkbsbC1850tGGj7LnWwMi1vAqHDUAbTS-V8zy3Cc8DIUgKXgdsIdQ04_OOmOd9kdDguLJryUnClkgu6pvM4sAEA5H_T35uRlzeF5SMOKnVK0qfNiyon8w0HgiyopQ'"
      ]
     },
     "execution_count": 6,
     "metadata": {},
     "output_type": "execute_result"
    }
   ],
   "source": [
    "TOKEN"
   ]
  },
  {
   "cell_type": "markdown",
   "id": "a38d7358-b108-4f6b-b10d-e5855e26f87e",
   "metadata": {},
   "source": [
    "### Get Users\n",
    "\n",
    "Users can be retrieved either by their Keycloak user id, or return all users if an empty set `{}` is submitted.\n",
    "\n",
    "* **Parameters**\n",
    "  * **user_ids** - (OPTIONAL *Array[Keycloak user ids]*): An array of Keycloak user ids, typically in UUID format.  If an empty set `{}` is submitted then all users are returned.\n",
    "* **Returns**\n",
    "  * **users** (List user): List of Wallaroo users listed with their Keycloak ID as the JSON key.  Each user contains the following attributes.\n",
    "    * **id** (string): Keycloak id of the user.\n",
    "    * **createdTimestamp**': 1663694386025,\n",
    "    * **username** (string): Username of the user, usually their email address.\n",
    "    * **enabled** (Bool): Whether the user is enabled or not.\n",
    "    * **totp** (Bool): Whether to use Time Based (TOTP) and Counter Based (HOTP) for the One Time Password (OTP).\n",
    "    * **emailVerified** (Bool): Whether the user's email address has been verified.\n",
    "    * **email** (string): The user's email address.\n",
    "    * **disableableCredentialTypes** (Array): \n",
    "    * **requiredActions** (Array): Actions the users must complete before they can log in.\n",
    "    * **notBefore**\n",
    "    * **access** (object): Levels of access the user is granted.\n",
    "    *   * **manageGroupMembership** (Bool)\n",
    "        * **view** (Bool)\n",
    "        * **mapRoles** (Bool)\n",
    "        * **impersonate** (Bool)\n",
    "        * **manage** (Bool)\n",
    "\n",
    "Example:  The first example will submit an empty set `{}` to return all users, then submit the first user's user id and request only that user's details."
   ]
  },
  {
   "cell_type": "code",
   "execution_count": 7,
   "id": "033e35b3-0e80-400c-8b79-da6ddcc6afe8",
   "metadata": {},
   "outputs": [
    {
     "data": {
      "text/plain": [
       "{'users': {'32409abf-f927-4d1a-a3d7-67ffbf177d9f': {'id': '32409abf-f927-4d1a-a3d7-67ffbf177d9f',\n",
       "   'createdTimestamp': 1663694386025,\n",
       "   'username': 'john.hansarick@wallaroo.ai',\n",
       "   'enabled': True,\n",
       "   'totp': False,\n",
       "   'emailVerified': True,\n",
       "   'email': 'john.hansarick@wallaroo.ai',\n",
       "   'disableableCredentialTypes': [],\n",
       "   'requiredActions': [],\n",
       "   'notBefore': 0,\n",
       "   'access': {'manageGroupMembership': True,\n",
       "    'view': True,\n",
       "    'mapRoles': True,\n",
       "    'impersonate': True,\n",
       "    'manage': True}}}}"
      ]
     },
     "execution_count": 7,
     "metadata": {},
     "output_type": "execute_result"
    }
   ],
   "source": [
    "# Get all users\n",
    "\n",
    "apiRequest = \"/users/query\"\n",
    "data = {\n",
    "}\n",
    "\n",
    "response = get_wallaroo_response(APIURL, apiRequest, TOKEN, data)\n",
    "response"
   ]
  },
  {
   "cell_type": "code",
   "execution_count": 8,
   "id": "7655f019-894c-46af-9059-765e4bec6bf4",
   "metadata": {},
   "outputs": [
    {
     "data": {
      "text/plain": [
       "{'users': {'32409abf-f927-4d1a-a3d7-67ffbf177d9f': {'id': '32409abf-f927-4d1a-a3d7-67ffbf177d9f',\n",
       "   'createdTimestamp': 1663694386025,\n",
       "   'username': 'john.hansarick@wallaroo.ai',\n",
       "   'enabled': True,\n",
       "   'totp': False,\n",
       "   'emailVerified': True,\n",
       "   'email': 'john.hansarick@wallaroo.ai',\n",
       "   'disableableCredentialTypes': [],\n",
       "   'requiredActions': [],\n",
       "   'notBefore': 0,\n",
       "   'access': {'manageGroupMembership': True,\n",
       "    'view': True,\n",
       "    'mapRoles': True,\n",
       "    'impersonate': True,\n",
       "    'manage': True}}}}"
      ]
     },
     "execution_count": 8,
     "metadata": {},
     "output_type": "execute_result"
    }
   ],
   "source": [
    "# Get first user Keycloak id\n",
    "firstUserKeycloak = list(response['users'])[0]\n",
    "\n",
    "apiRequest = \"/users/query\"\n",
    "data = {\n",
    "  \"user_ids\": [\n",
    "    firstUserKeycloak\n",
    "  ]\n",
    "}\n",
    "\n",
    "response = get_wallaroo_response(APIURL, apiRequest, TOKEN, data)\n",
    "response"
   ]
  },
  {
   "cell_type": "markdown",
   "id": "9f7c0489-d1b2-4539-aa93-c23a5950c87c",
   "metadata": {},
   "source": [
    "### Invite Users\n",
    "\n",
    "Users can be invited through `/users/invite`.\n",
    "\n",
    "* **Parameters**\n",
    "  * **email** (*REQUIRED string*): The email address of the new user to invite.\n",
    "  * **password** (*OPTIONAL string*): The assigned password of the new user to invite.  If not provided, the Wallaroo instance will provide the new user a temporary password that must be changed upon initial login.\n",
    "* **Returns**\n",
    "  * **id** (string): The Keycloak id of the new user.\n",
    "  * **password** (string):  The password of the new user **if** a password was specified during creation.\n",
    "\n",
    "Example:  In this example, a new user will be invited to the Wallaroo instance and assigned a password."
   ]
  },
  {
   "cell_type": "code",
   "execution_count": 9,
   "id": "946e6189-58b0-4df0-8798-8886f7c9ce77",
   "metadata": {},
   "outputs": [
    {
     "data": {
      "text/plain": [
       "{'id': '0aba1f11-7736-48f9-b81b-fce71ab33f98', 'password': 'Snugglebunnies?'}"
      ]
     },
     "execution_count": 9,
     "metadata": {},
     "output_type": "execute_result"
    }
   ],
   "source": [
    "# invite users\n",
    "apiRequest = \"/users/invite\"\n",
    "data = {\n",
    "    \"email\": newUser,\n",
    "    \"password\":newPassword\n",
    "}\n",
    "\n",
    "response = get_wallaroo_response(APIURL, apiRequest, TOKEN, data)\n",
    "response"
   ]
  },
  {
   "cell_type": "markdown",
   "id": "f019f4a7-fbf2-4dcd-a73f-bb6160fadfc1",
   "metadata": {},
   "source": [
    "### Deactivate User\n",
    "\n",
    "Users can be deactivated so they can not login to their Wallaroo instance.  Deactivated users do not count against the Wallaroo license count.\n",
    "\n",
    "* **Parameters**\n",
    "  * **email** (*REQUIRED string*):  The email address of the user to deactivate.\n",
    "\n",
    "**NOTE:** Disabled for now until further testing is done."
   ]
  },
  {
   "cell_type": "code",
   "execution_count": 10,
   "id": "320d7d7c-4ad9-408b-a663-9e162096e2d3",
   "metadata": {},
   "outputs": [],
   "source": [
    "# Deactivate users\n",
    "\n",
    "# apiRequest = \"/users/deactivate\"\n",
    "\n",
    "#data = {\n",
    "#    \"email\": \"kilvin.mitchell@wallaroo.ai\"\n",
    "#}\n",
    "\n",
    "#response = get_wallaroo_response(APIURL, apiRequest, TOKEN, data)\n",
    "#response"
   ]
  },
  {
   "cell_type": "markdown",
   "id": "b0072579-58ab-4758-bed0-da62dd67630c",
   "metadata": {},
   "source": [
    "### Activate User\n",
    "\n",
    "A deactivated user can be reactivated to allow them access to their Wallaroo instance.  Activated users count against the Wallaroo license count.\n",
    "\n",
    "* **Parameters**\n",
    "  * **email** (*REQUIRED string*):  The email address of the user to activate.\n",
    "  \n",
    "**NOTE:** Disabled for now until further testing is done."
   ]
  },
  {
   "cell_type": "code",
   "execution_count": 11,
   "id": "94259866-4f96-4f7f-8cc8-e7b712169f69",
   "metadata": {},
   "outputs": [],
   "source": [
    "# Activate users\n",
    "\n",
    "#apiRequest = \"/users/activate\"\n",
    "\n",
    "#data = {\n",
    "#    \"email\": \"john.hummel@wallaroo.ai\"\n",
    "#}\n",
    "\n",
    "#response = get_wallaroo_response(APIURL, apiRequest, TOKEN, data)"
   ]
  },
  {
   "cell_type": "markdown",
   "id": "6fcf4618-609a-4cf9-9d3c-b05cf679916a",
   "metadata": {},
   "source": [
    "### List Workspaces\n",
    "\n",
    "List the workspaces for a specific user.\n",
    "\n",
    "* **Parameters**\n",
    "  * **user_id** - (*OPTIONAL string*): The email address of the user.\n",
    "  \n",
    "Example:  In this example, the workspaces for the a specific user will be displayed, then workspaces for all users will be displayed.\n",
    "\n",
    "**NOTE**:  In Mustang release there is a bug that still shows all workspaces whether a `user_id` is supplied or not."
   ]
  },
  {
   "cell_type": "code",
   "execution_count": 12,
   "id": "e43d9b80-936e-4c6d-912d-f68dc6a0b545",
   "metadata": {},
   "outputs": [
    {
     "data": {
      "text/plain": [
       "{'workspaces': [{'id': 1,\n",
       "   'name': 'john.hansarick@wallaroo.ai - Default Workspace',\n",
       "   'created_at': '2022-09-20T17:19:46.625381+00:00',\n",
       "   'created_by': '32409abf-f927-4d1a-a3d7-67ffbf177d9f',\n",
       "   'archived': False,\n",
       "   'models': [],\n",
       "   'pipelines': []}]}"
      ]
     },
     "execution_count": 12,
     "metadata": {},
     "output_type": "execute_result"
    }
   ],
   "source": [
    "# List workspaces by user id\n",
    "\n",
    "apiRequest = \"/workspaces/list\"\n",
    "\n",
    "data = {\n",
    "    \"user_id\":newUser\n",
    "}\n",
    "\n",
    "response = get_wallaroo_response(APIURL, apiRequest, TOKEN, data)\n",
    "response"
   ]
  },
  {
   "cell_type": "code",
   "execution_count": 13,
   "id": "d3f5ecd9-0a0e-4506-96bc-13a497be0688",
   "metadata": {},
   "outputs": [
    {
     "data": {
      "text/plain": [
       "{'workspaces': [{'id': 1,\n",
       "   'name': 'john.hansarick@wallaroo.ai - Default Workspace',\n",
       "   'created_at': '2022-09-20T17:19:46.625381+00:00',\n",
       "   'created_by': '32409abf-f927-4d1a-a3d7-67ffbf177d9f',\n",
       "   'archived': False,\n",
       "   'models': [],\n",
       "   'pipelines': []}]}"
      ]
     },
     "execution_count": 13,
     "metadata": {},
     "output_type": "execute_result"
    }
   ],
   "source": [
    "# List workspaces\n",
    "\n",
    "apiRequest = \"/workspaces/list\"\n",
    "\n",
    "data = {\n",
    "}\n",
    "\n",
    "response = get_wallaroo_response(APIURL, apiRequest, TOKEN, data)\n",
    "response"
   ]
  },
  {
   "cell_type": "markdown",
   "id": "571cffc9-5932-406b-99c3-f7bf01dd56bb",
   "metadata": {},
   "source": [
    "### Create Workspace\n",
    "\n",
    "A new workspace will be created in the Wallaroo instance.  Upon creating, it's owner will be assigned as the user making the MLOps API request.\n",
    "\n",
    "* **Parameters**:\n",
    "  * **workspace_name** - (*REQUIRED string*):  The name of the new workspace.\n",
    "* **Returns**:\n",
    "  * **workspace_id** - (*int*):  The ID of the new workspace.\n",
    "  \n",
    "Example:  In this example, a workspace with the name `ccfraudapi` will be created, and it's `workspace_id` saved for use in other code examples.  After the request is complete, the List Workspaces command will be issued to demonstrate the new workspace has been created."
   ]
  },
  {
   "cell_type": "code",
   "execution_count": 14,
   "id": "8fac2fd6-b7fa-43c4-9bf8-84692eec7871",
   "metadata": {},
   "outputs": [
    {
     "data": {
      "text/plain": [
       "{'workspace_id': 3}"
      ]
     },
     "execution_count": 14,
     "metadata": {},
     "output_type": "execute_result"
    }
   ],
   "source": [
    "# Create workspace\n",
    "\n",
    "apiRequest = \"/workspaces/create\"\n",
    "\n",
    "exampleWorkspaceName = \"testapiworkspace\"\n",
    "data = {\n",
    "  \"workspace_name\": exampleWorkspaceName\n",
    "}\n",
    "\n",
    "response = get_wallaroo_response(APIURL, apiRequest, TOKEN, data)\n",
    "exampleWorkspaceId = response['workspace_id']\n",
    "response"
   ]
  },
  {
   "cell_type": "markdown",
   "id": "6670a0ef-52d9-4fd2-8fb3-4ef2304bdfa2",
   "metadata": {},
   "source": [
    "### Add User to Workspace\n",
    "\n",
    "Existing users of the Wallaroo instance can be added to an existing workspace.\n",
    "\n",
    "* **Parameters**\n",
    "  * **email** - (*REQUIRED string*):  The email address of the user to add to the workspace.\n",
    "  * **workspace_id** - (*REQUIRED int*): The id of the workspace.\n",
    "  \n",
    "Example:  The following example adds the user created in Invite Users request to the workspace created in the Create Workspace request."
   ]
  },
  {
   "cell_type": "code",
   "execution_count": 15,
   "id": "a130de1e-f1ae-434b-ac29-8782e3278334",
   "metadata": {},
   "outputs": [
    {
     "data": {
      "text/plain": [
       "{}"
      ]
     },
     "execution_count": 15,
     "metadata": {},
     "output_type": "execute_result"
    }
   ],
   "source": [
    "# Add existing user to existing workspace\n",
    "\n",
    "apiRequest = \"/workspaces/add_user\"\n",
    "\n",
    "data = {\n",
    "  \"email\":newUser,\n",
    "  \"workspace_id\": exampleWorkspaceId\n",
    "}\n",
    "\n",
    "response = get_wallaroo_response(APIURL, apiRequest, TOKEN, data)\n",
    "response"
   ]
  },
  {
   "cell_type": "markdown",
   "id": "a63d33b5-9d38-4f30-9df6-3fb7ae011f29",
   "metadata": {},
   "source": [
    "### List Workspaces\n",
    "\n",
    "Lists of workspaces either for all or by user_id.\n",
    "\n",
    "* **Paramters**\n",
    "  * **user_id** - (*OPTIONAL string*): The email address of the specific user to request workspaces for.\n",
    "* **Returns**\n",
    "  * **users** - (Array)\n",
    "    * **user_id** -  (*string*): The email address of the user.\n",
    "    * **user_type**\" (*string*): The type of user, either `co-owner` or `collaborator`.\n",
    "\n",
    "Example:  An empty set will be submitted to return all workspaces and their users, then only the user added to a workspace from the step Add User to Workspace.\n",
    "\n",
    "**IMPORTANT NOTE**:  The filter by `user_id` currently is not working as documented, and will be address in a future release."
   ]
  },
  {
   "cell_type": "code",
   "execution_count": 16,
   "id": "6de5e4e4-0fce-4e4a-b7b1-de7f56f21ad0",
   "metadata": {},
   "outputs": [
    {
     "data": {
      "text/plain": [
       "{'workspaces': [{'id': 1,\n",
       "   'name': 'john.hansarick@wallaroo.ai - Default Workspace',\n",
       "   'created_at': '2022-09-20T17:19:46.625381+00:00',\n",
       "   'created_by': '32409abf-f927-4d1a-a3d7-67ffbf177d9f',\n",
       "   'archived': False,\n",
       "   'models': [],\n",
       "   'pipelines': []},\n",
       "  {'id': 3,\n",
       "   'name': 'testapiworkspace',\n",
       "   'created_at': '2022-09-20T17:30:07.656704+00:00',\n",
       "   'created_by': '32409abf-f927-4d1a-a3d7-67ffbf177d9f',\n",
       "   'archived': False,\n",
       "   'models': [],\n",
       "   'pipelines': []}]}"
      ]
     },
     "execution_count": 16,
     "metadata": {},
     "output_type": "execute_result"
    }
   ],
   "source": [
    "# List all workspaces\n",
    "\n",
    "apiRequest = \"/workspaces/list\"\n",
    "\n",
    "data = {\n",
    "}\n",
    "\n",
    "response = get_wallaroo_response(APIURL, apiRequest, TOKEN, data)\n",
    "response"
   ]
  },
  {
   "cell_type": "code",
   "execution_count": 17,
   "id": "738d22b2-d087-4870-ac7b-24613ce4d91e",
   "metadata": {},
   "outputs": [
    {
     "data": {
      "text/plain": [
       "{'workspaces': [{'id': 1,\n",
       "   'name': 'john.hansarick@wallaroo.ai - Default Workspace',\n",
       "   'created_at': '2022-09-20T17:19:46.625381+00:00',\n",
       "   'created_by': '32409abf-f927-4d1a-a3d7-67ffbf177d9f',\n",
       "   'archived': False,\n",
       "   'models': [],\n",
       "   'pipelines': []},\n",
       "  {'id': 3,\n",
       "   'name': 'testapiworkspace',\n",
       "   'created_at': '2022-09-20T17:30:07.656704+00:00',\n",
       "   'created_by': '32409abf-f927-4d1a-a3d7-67ffbf177d9f',\n",
       "   'archived': False,\n",
       "   'models': [],\n",
       "   'pipelines': []}]}"
      ]
     },
     "execution_count": 17,
     "metadata": {},
     "output_type": "execute_result"
    }
   ],
   "source": [
    "# List specific workspace\n",
    "\n",
    "apiRequest = \"/workspaces/list\"\n",
    "\n",
    "data = {\n",
    "    \"user_id\":newUser\n",
    "}\n",
    "\n",
    "response = get_wallaroo_response(APIURL, apiRequest, TOKEN, data)\n",
    "response"
   ]
  },
  {
   "cell_type": "markdown",
   "id": "f5adfe3e-a667-44dd-94e0-6936031e11fe",
   "metadata": {},
   "source": [
    "### Upload Model to Workspace\n",
    "\n",
    "Uploads a ML Model to a Wallaroo workspace as a POST with `Content-Type: multipart/form-data`.\n",
    "\n",
    "* **Parameters**\n",
    "  * **name** - (*REQUIRED string*): Name of the model\n",
    "  * **visibility** - (*OPTIONAL string*): The visibility of the model as either `public` or `private`.\n",
    "  * **workspace_id** - (*REQUIRED int*): The numerical id of the workspace to upload the model to.\n",
    "  \n",
    "Example:  This example will upload the sample file `ccfraud.onnx` to the workspace created in the Create Workspace step as `apitestmodel`.  The id of the uploaded model will be saved for later examples."
   ]
  },
  {
   "cell_type": "code",
   "execution_count": 18,
   "id": "a11158eb-b459-4be7-837a-01efecfbef3a",
   "metadata": {},
   "outputs": [
    {
     "data": {
      "text/plain": [
       "{'insert_models': {'returning': [{'models': [{'id': 1}]}]}}"
      ]
     },
     "execution_count": 18,
     "metadata": {},
     "output_type": "execute_result"
    }
   ],
   "source": [
    "# upload model - have a multiform data through Python\n",
    "\n",
    "apiRequest = \"/models/upload\"\n",
    "\n",
    "exampleModelName = \"apitestmodel\"\n",
    "\n",
    "data = {\n",
    "    \"name\":exampleModelName,\n",
    "    \"visibility\":\"public\",\n",
    "    \"workspace_id\": exampleWorkspaceId\n",
    "}\n",
    "\n",
    "files = {\n",
    "    \"file\": ('ccfraud.onnx', open('ccfraud.onnx','rb'))\n",
    "}\n",
    "\n",
    "response = get_wallaroo_response(APIURL, apiRequest, TOKEN, data, files)\n",
    "response"
   ]
  },
  {
   "cell_type": "code",
   "execution_count": 19,
   "id": "e4180cc1-8121-4b96-9f14-893985b211a7",
   "metadata": {},
   "outputs": [
    {
     "data": {
      "text/plain": [
       "1"
      ]
     },
     "execution_count": 19,
     "metadata": {},
     "output_type": "execute_result"
    }
   ],
   "source": [
    "exampleModelId=response['insert_models']['returning'][0]['models'][0]['id']\n",
    "exampleModelId"
   ]
  },
  {
   "cell_type": "markdown",
   "id": "a938e735-61dd-4805-a356-81829b9593e6",
   "metadata": {},
   "source": [
    "### List Models in Workspace\n",
    "\n",
    "Returns a list of models added to a specific workspace.\n",
    "\n",
    "* **Parameters**\n",
    "  * **workspace_id** - (*REQUIRED int*): The workspace id to list.\n",
    "  \n",
    "Example:  Display the models for the workspace used in the Upload Model to Workspace step.  The details of the models will be saved as variables for other examples."
   ]
  },
  {
   "cell_type": "code",
   "execution_count": 20,
   "id": "f60cc5b9-00bd-4526-8216-bc38e2e145d6",
   "metadata": {},
   "outputs": [
    {
     "data": {
      "text/plain": [
       "{'models': [{'id': 1,\n",
       "   'models': {'sha': 'bc85ce596945f876256f41515c7501c399fd97ebcb9ab3dd41bf03f8937b4507',\n",
       "    'models_pk_id': 1,\n",
       "    'model_version': 'fe1ad4de-6b1c-4d73-99a9-fe19e276115a',\n",
       "    'owner_id': '\"\"',\n",
       "    'model_id': 'apitestmodel',\n",
       "    'id': 1,\n",
       "    'file_name': 'ccfraud.onnx',\n",
       "    'image_path': None}}]}"
      ]
     },
     "execution_count": 20,
     "metadata": {},
     "output_type": "execute_result"
    }
   ],
   "source": [
    "# List models in a workspace\n",
    "\n",
    "apiRequest = \"/models/list\"\n",
    "\n",
    "data = {\n",
    "  \"workspace_id\": exampleWorkspaceId\n",
    "}\n",
    "\n",
    "response = get_wallaroo_response(APIURL, apiRequest, TOKEN, data)\n",
    "response"
   ]
  },
  {
   "cell_type": "code",
   "execution_count": 21,
   "id": "f88835d7-ed73-454c-9b7e-cadc5a0e90b3",
   "metadata": {},
   "outputs": [],
   "source": [
    "exampleModelSha = response['models'][0]['models']['sha']\n",
    "exampleModelVersion = response['models'][0]['models']['model_version']"
   ]
  },
  {
   "cell_type": "markdown",
   "id": "d22fdb15-73e7-4118-afab-04de5f41dd3c",
   "metadata": {},
   "source": [
    "### Get Model Details\n",
    "\n",
    "Returns the model details by the specific model id.\n",
    "\n",
    "* **Parameters**\n",
    "  * **workspace_id** - (*REQUIRED int*): The workspace id to list.\n",
    "* **Returns**\n",
    "  * **id** - (*int*):  Numerical id of the model.\n",
    "  * **owner_id** - (*string*): Id of the owner of the model.\n",
    "  * **workspace_id** - (*int*): Numberical of the id the model is in.\n",
    "  * **name** - (*string*): Name of the model.\n",
    "  * **updated_at** - (*DateTime*): Date and time of the model's last update.\n",
    "  * **created_at** - (*DateTime*): Date and time of the model's creation.\n",
    "  * **model_config** - (*string*): Details of the model's configuration.\n",
    "  \n",
    "Example:  Retrieve the details for the model uploaded in the Upload Model to Workspace step."
   ]
  },
  {
   "cell_type": "code",
   "execution_count": 22,
   "id": "e8c969c0-8737-4ce4-891e-deeaae8710e6",
   "metadata": {},
   "outputs": [
    {
     "data": {
      "text/plain": [
       "{'id': 1,\n",
       " 'owner_id': '\"\"',\n",
       " 'workspace_id': 3,\n",
       " 'name': 'apitestmodel',\n",
       " 'updated_at': '2022-09-20T17:30:09.368426+00:00',\n",
       " 'created_at': '2022-09-20T17:30:09.368426+00:00',\n",
       " 'model_config': None}"
      ]
     },
     "execution_count": 22,
     "metadata": {},
     "output_type": "execute_result"
    }
   ],
   "source": [
    "# Get model details by id\n",
    "\n",
    "apiRequest = \"/models/get_by_id\"\n",
    "\n",
    "data = {\n",
    "  \"id\": exampleModelId\n",
    "}\n",
    "\n",
    "response = get_wallaroo_response(APIURL, apiRequest, TOKEN, data)\n",
    "response"
   ]
  },
  {
   "cell_type": "markdown",
   "id": "9ae2fd46-768c-4523-a377-97c5b8d2ec00",
   "metadata": {},
   "source": [
    "### Get Model Configuration by Id\n",
    "\n",
    "Returns the model's configuration details.\n",
    "\n",
    "* **Parameters**\n",
    "  * **model_id** - (*REQUIRED int*): The numerical value of the model's id.\n",
    "  \n",
    "Example:  Submit the model id for the model uploaded in the Upload Model to Workspace step."
   ]
  },
  {
   "cell_type": "code",
   "execution_count": 23,
   "id": "78c07fa3-5538-4336-b6ff-96b1ea06e8cf",
   "metadata": {},
   "outputs": [
    {
     "data": {
      "text/plain": [
       "{'model_config': None}"
      ]
     },
     "execution_count": 23,
     "metadata": {},
     "output_type": "execute_result"
    }
   ],
   "source": [
    "# Get model config by id\n",
    "\n",
    "apiRequest = \"/models/get_config_by_id\"\n",
    "\n",
    "data = {\n",
    "  \"model_id\": exampleModelId\n",
    "}\n",
    "\n",
    "response = get_wallaroo_response(APIURL, apiRequest, TOKEN, data)\n",
    "response"
   ]
  },
  {
   "cell_type": "markdown",
   "id": "1c200c67-6797-43b1-9d1c-6b47338ca815",
   "metadata": {},
   "source": [
    "### Create Pipeline in a Workspace\n",
    "\n",
    "Creates a new pipeline in the specified workspace.\n",
    "\n",
    "* **Parameters**\n",
    "  * **pipeline_id** - (REQUIRED string): Name of the new pipeline.\n",
    "  * **workspace_id** - (REQUIRED int): Numberical id of the workspace for the new pipeline.\n",
    "  * **definition** - (REQUIRED string): Pipeline definitions, can be `{}` for none.\n",
    "\n",
    "Example:  Two pipelines are created in the workspace created in the step Create Workspace.  One will be an empty pipeline without any models, the other will be created using the uploaded models in the Upload Model to Workspace step and no configuration details.  The pipeline details will be stored for later examples."
   ]
  },
  {
   "cell_type": "code",
   "execution_count": 27,
   "id": "cbb36662-fc0b-4489-9294-b6ecd9971c43",
   "metadata": {},
   "outputs": [
    {
     "data": {
      "text/plain": [
       "{'pipeline_pk_id': 3,\n",
       " 'pipeline_variant_pk_id': 3,\n",
       " 'pipeline_variant_version': 'e88776c0-0b7e-468f-be3a-7fc86c1efd50'}"
      ]
     },
     "execution_count": 27,
     "metadata": {},
     "output_type": "execute_result"
    }
   ],
   "source": [
    "# Create pipeline in a workspace\n",
    "\n",
    "apiRequest = \"/pipelines/create\"\n",
    "\n",
    "emptyPipelineId=\"emptypipeline\"\n",
    "\n",
    "data = {\n",
    "  \"pipeline_id\": emptyPipelineId,\n",
    "  \"workspace_id\": exampleWorkspaceId,\n",
    "  \"definition\": {}\n",
    "}\n",
    "\n",
    "response = get_wallaroo_response(APIURL, apiRequest, TOKEN, data)\n",
    "exampleEmptyPipelineId = response['pipeline_pk_id']\n",
    "exampleEmptyPipelineVariantId=response['pipeline_variant_pk_id']\n",
    "emptyExamplePipelineVariantVersion=['pipeline_variant_version']\n",
    "response"
   ]
  },
  {
   "cell_type": "code",
   "execution_count": 25,
   "id": "75cb0213-b165-48a9-b5e4-c275ebe5b776",
   "metadata": {},
   "outputs": [
    {
     "data": {
      "text/plain": [
       "{'msg': 'A pipeline was created but variant creation failed', 'code': 500}"
      ]
     },
     "execution_count": 25,
     "metadata": {},
     "output_type": "execute_result"
    }
   ],
   "source": [
    "response"
   ]
  },
  {
   "cell_type": "code",
   "execution_count": 26,
   "id": "3dbc54d0-0f95-41e4-af11-592f2cf454dc",
   "metadata": {},
   "outputs": [
    {
     "data": {
      "text/plain": [
       "{'pipeline_pk_id': 2,\n",
       " 'pipeline_variant_pk_id': 2,\n",
       " 'pipeline_variant_version': 'cfa11514-2c35-4fad-bd2b-251b10daca79'}"
      ]
     },
     "execution_count": 26,
     "metadata": {},
     "output_type": "execute_result"
    }
   ],
   "source": [
    "# Create pipeline in a workspace with models\n",
    "\n",
    "apiRequest = \"/pipelines/create\"\n",
    "\n",
    "modelPipelineId=\"pipelinewithmodel\"\n",
    "\n",
    "data = {\n",
    "  \"pipeline_id\": modelPipelineId,\n",
    "  \"workspace_id\": exampleWorkspaceId,\n",
    "  \"definition\": {\n",
    "      \"id\":\"ccfrauddeploytest\",\n",
    "      \"steps\":\n",
    "      [\n",
    "          {\n",
    "          \"ModelInference\":\n",
    "          {\n",
    "              \"models\": [\n",
    "                    {\n",
    "                        \"name\":exampleModelName,\n",
    "                        \"version\":exampleModelVersion,\n",
    "                        \"sha\":exampleModelSha\n",
    "                    }\n",
    "                ]\n",
    "          }\n",
    "          }\n",
    "      ]\n",
    "  }\n",
    "}\n",
    "\n",
    "response = get_wallaroo_response(APIURL, apiRequest, TOKEN, data)\n",
    "exampleModelPipelineId = response['pipeline_pk_id']\n",
    "exampleModelPipelineVariantId=response['pipeline_variant_pk_id']\n",
    "emptyModelPipelineVariantVersion=['pipeline_variant_version']\n",
    "response"
   ]
  },
  {
   "cell_type": "markdown",
   "id": "39d79170-541b-44f1-874f-9eebd221e36c",
   "metadata": {},
   "source": [
    "### Deploy a Pipeline\n",
    "\n",
    "Deploy a an existing pipeline.  Note that for any pipeline that has model steps, they must be included either in `model_configs`, `model_ids` or `models`.\n",
    "\n",
    "* **Parameters**\n",
    "  * **deploy_id** (*REQUIRED string*): The name for the pipeline deployment.\n",
    "  * **engine_config** (*OPTIONAL string*): Additional configuration options for the pipeline.\n",
    "  * **pipeline_version_pk_id** (*REQUIRED int*): Pipeline version id.\n",
    "  * **model_configs** (*OPTIONALArray int*): Ids of model configs to apply.\n",
    "  * **model_ids** (*OPTIONALArray int*): Ids of models to apply to the pipeline.  If passed in, model_configs will be created automatically.\n",
    "  * **models** (*OPTIONAL Array models*):  If the model ids are not available as a pipeline step, the models' data can be passed to it through this method.  The options below are only required if `models` are provided as a parameter.\n",
    "    * **name** (*REQUIRED string*): Name of the uploaded model that is in the same workspace as the pipeline.\n",
    "    * **version** (*REQUIRED string*): Version of the model to use.\n",
    "    * **sha** (*REQUIRED string*): SHA value of the model.\n",
    "  * **pipeline_id** (*REQUIRED int*): Numerical value of the pipeline to deploy.\n",
    "* **Returns**\n",
    "  * **id** (*int*): The deployment id.\n",
    "\n",
    "Examples:  Both the empty pipeline and pipeline with model created in the step Create Pipeline in a Workspace will be deployed and their deployment information saved for later examples.\n"
   ]
  },
  {
   "cell_type": "code",
   "execution_count": 29,
   "id": "7f941b8c-8055-41fb-af38-edbde560c76a",
   "metadata": {},
   "outputs": [
    {
     "data": {
      "text/plain": [
       "{'id': 1}"
      ]
     },
     "execution_count": 29,
     "metadata": {},
     "output_type": "execute_result"
    }
   ],
   "source": [
    "# Deploy empty pipeline\n",
    "\n",
    "apiRequest = \"/pipelines/deploy\"\n",
    "\n",
    "exampleEmptyDeployId = \"emptydeploy\"\n",
    "\n",
    "data = {\n",
    "    \"deploy_id\": exampleEmptyDeployId,\n",
    "    \"pipeline_version_pk_id\": exampleEmptyPipelineVariantId,\n",
    "    \"pipeline_id\": exampleEmptyPipelineId\n",
    "}\n",
    "\n",
    "response = get_wallaroo_response(APIURL, apiRequest, TOKEN, data)\n",
    "exampleEmptyDeploymentId=response['id']\n",
    "response\n"
   ]
  },
  {
   "cell_type": "code",
   "execution_count": 30,
   "id": "1d808303-8db7-402f-b2d1-84fc89652a26",
   "metadata": {},
   "outputs": [
    {
     "data": {
      "text/plain": [
       "{'id': 2}"
      ]
     },
     "execution_count": 30,
     "metadata": {},
     "output_type": "execute_result"
    }
   ],
   "source": [
    "# Deploy a pipeline with models\n",
    "\n",
    "apiRequest = \"/pipelines/deploy\"\n",
    "exampleModelDeployId=\"modeldeploy\"\n",
    "\n",
    "data = {\n",
    "    \"deploy_id\": exampleModelDeployId,\n",
    "    \"pipeline_version_pk_id\": exampleModelPipelineVariantId,\n",
    "    \"models\": [\n",
    "        {\n",
    "            \"name\":exampleModelName,\n",
    "            \"version\":exampleModelVersion,\n",
    "            \"sha\":exampleModelSha\n",
    "        }\n",
    "    ],\n",
    "    \"pipeline_id\": exampleModelPipelineId\n",
    "}\n",
    "\n",
    "\n",
    "response = get_wallaroo_response(APIURL, apiRequest, TOKEN, data)\n",
    "exampleModelDeploymentId=response['id']\n",
    "response"
   ]
  },
  {
   "cell_type": "markdown",
   "id": "9d5b90ba-0da4-451b-b7d1-7274c3bc4fa2",
   "metadata": {},
   "source": [
    "## Get Deployment Status\n",
    "\n",
    "Returns the deployment status.\n",
    "\n",
    "* **Parameters**\n",
    "  * **name** - (REQUIRED string): The deployment in the format {deployment_name}-{deploymnent-id}.\n",
    "  \n",
    "Example: The deployed empty and model pipelines status will be displayed."
   ]
  },
  {
   "cell_type": "code",
   "execution_count": 31,
   "id": "4e9cc4fe-7236-42c6-8a04-c23197748ec5",
   "metadata": {},
   "outputs": [
    {
     "data": {
      "text/plain": [
       "{'status': 'Running',\n",
       " 'details': None,\n",
       " 'engines': [{'ip': '10.244.2.24',\n",
       "   'name': 'engine-6d57d66b4c-ssn6p',\n",
       "   'status': 'Running',\n",
       "   'reason': None,\n",
       "   'pipeline_statuses': {'pipelines': [{'id': 'emptypipeline',\n",
       "      'status': 'Running'}]},\n",
       "   'model_statuses': {'models': []}}],\n",
       " 'engine_lbs': [{'ip': '10.244.2.25',\n",
       "   'name': 'engine-lb-67c854cc86-ffn4w',\n",
       "   'status': 'Running',\n",
       "   'reason': None}]}"
      ]
     },
     "execution_count": 31,
     "metadata": {},
     "output_type": "execute_result"
    }
   ],
   "source": [
    "# Get empty pipeline deployment\n",
    "\n",
    "apiRequest = \"/status/get_deployment\"\n",
    "\n",
    "data = {\n",
    "  \"name\": f\"{exampleEmptyDeployId}-{exampleEmptyDeploymentId}\"\n",
    "}\n",
    "\n",
    "response = get_wallaroo_response(APIURL, apiRequest, TOKEN, data)\n",
    "response"
   ]
  },
  {
   "cell_type": "code",
   "execution_count": 32,
   "id": "1b2d6289-4a0f-4fa2-b7ed-0354100d13ed",
   "metadata": {},
   "outputs": [
    {
     "data": {
      "text/plain": [
       "{'status': 'Running',\n",
       " 'details': None,\n",
       " 'engines': [{'ip': '10.244.1.25',\n",
       "   'name': 'engine-6cc4cdc9db-rblzt',\n",
       "   'status': 'Running',\n",
       "   'reason': None,\n",
       "   'pipeline_statuses': {'pipelines': [{'id': 'pipelinewithmodel',\n",
       "      'status': 'Running'}]},\n",
       "   'model_statuses': {'models': [{'name': 'apitestmodel',\n",
       "      'version': 'fe1ad4de-6b1c-4d73-99a9-fe19e276115a',\n",
       "      'sha': 'bc85ce596945f876256f41515c7501c399fd97ebcb9ab3dd41bf03f8937b4507',\n",
       "      'status': 'Running'}]}}],\n",
       " 'engine_lbs': [{'ip': '10.244.1.24',\n",
       "   'name': 'engine-lb-67c854cc86-tqst9',\n",
       "   'status': 'Running',\n",
       "   'reason': None}]}"
      ]
     },
     "execution_count": 32,
     "metadata": {},
     "output_type": "execute_result"
    }
   ],
   "source": [
    "# Get model pipeline deployment\n",
    "\n",
    "apiRequest = \"/status/get_deployment\"\n",
    "\n",
    "data = {\n",
    "  \"name\": f\"{exampleModelDeployId}-{exampleModelDeploymentId}\"\n",
    "}\n",
    "\n",
    "response = get_wallaroo_response(APIURL, apiRequest, TOKEN, data)\n",
    "response"
   ]
  },
  {
   "cell_type": "markdown",
   "id": "990e2be0-8f8c-4cd4-a27a-4780a44af678",
   "metadata": {},
   "source": [
    "### Undeploy a Pipeline\n",
    "\n",
    "Undeploys a deployed pipeline.\n",
    "\n",
    "* **Parameters**\n",
    "  * **pipeline_id** - (*REQUIRED int*): The numerical id of the pipeline.\n",
    "  * **deployment_id** - (*REQUIRED int*): The numerical id of the deployment.\n",
    "* **Returns**\n",
    "  * Nothing if the call is successful.\n",
    "\n",
    "Example:  Both the empty pipeline and pipeline with models deployed in the step Deploy a Pipeline will be undeployed."
   ]
  },
  {
   "cell_type": "code",
   "execution_count": 34,
   "id": "f87d44ed-f71c-43a2-b860-39aa8a5eb79f",
   "metadata": {},
   "outputs": [],
   "source": [
    "# Undeploy an empty pipeline\n",
    "\n",
    "apiRequest = \"/pipelines/undeploy\"\n",
    "\n",
    "data = {\n",
    "    \"pipeline_id\": exampleEmptyPipelineId,\n",
    "    \"deployment_id\":exampleEmptyDeploymentId\n",
    "}\n",
    "\n",
    "response = get_wallaroo_response(APIURL, apiRequest, TOKEN, data)\n",
    "response"
   ]
  },
  {
   "cell_type": "code",
   "execution_count": 35,
   "id": "f059c83f-8101-4411-ac0d-feaf7823fd93",
   "metadata": {},
   "outputs": [],
   "source": [
    "# Undeploy pipeline with models\n",
    "\n",
    "apiRequest = \"/pipelines/undeploy\"\n",
    "\n",
    "data = {\n",
    "    \"pipeline_id\": exampleModelPipelineId,\n",
    "    \"deployment_id\":exampleModelDeploymentId\n",
    "}\n",
    "\n",
    "response = get_wallaroo_response(APIURL, apiRequest, TOKEN, data)\n",
    "response"
   ]
  },
  {
   "cell_type": "markdown",
   "id": "b90b5718-204a-44b1-a4ba-6ff28e3d93ce",
   "metadata": {},
   "source": [
    "### Copy a Pipeline\n",
    "\n",
    "Copies an existing pipeline into a new one in the same workspace.  A new engine configuration can be set for the copied pipeline.\n",
    "\n",
    "* **Parameters**\n",
    "  * **name** - (REQUIRED string): The name of the new pipeline.\n",
    "  * **workspace_id** - (REQUIRED int): The numerical id of the workspace to copy the source pipeline from.\n",
    "  * **source_pipeline** - (REQUIRED int): The numerical id of the pipeline to copy from.\n",
    "  * **deploy** - (OPTIONAL string): Name of the deployment.\n",
    "  * **engine_config** - (OPTIONAL string): Engine configuration options.\n",
    "  * **pipeline_version** - (OPTIONAL string): Optional version of the copied pipeline to create.\n",
    "\n",
    "Example:  The pipeline with models created in the step Create Pipeline in a Workspace will be copied into a new one.\n"
   ]
  },
  {
   "cell_type": "code",
   "execution_count": 36,
   "id": "23ce3f2a-a214-4d17-a131-1f9d4e4609ad",
   "metadata": {},
   "outputs": [
    {
     "data": {
      "text/plain": [
       "{'pipeline_pk_id': 4,\n",
       " 'pipeline_variant_pk_id': 4,\n",
       " 'pipeline_version': None,\n",
       " 'deployment': None}"
      ]
     },
     "execution_count": 36,
     "metadata": {},
     "output_type": "execute_result"
    }
   ],
   "source": [
    "# Copy a pipeline\n",
    "\n",
    "apiRequest = \"/pipelines/copy\"\n",
    "\n",
    "exampleCopiedPipelineName=\"copiedmodelpipeline\"\n",
    "\n",
    "data = {\n",
    "  \"name\": exampleCopiedPipelineName,\n",
    "  \"workspace_id\": exampleWorkspaceId,\n",
    "  \"source_pipeline\": exampleModelPipelineId\n",
    "}\n",
    "\n",
    "response = get_wallaroo_response(APIURL, apiRequest, TOKEN, data)\n",
    "response"
   ]
  },
  {
   "cell_type": "markdown",
   "id": "1b0178bc-491b-4309-9f4d-5e1b80314a0e",
   "metadata": {},
   "source": [
    "## List Enablement Features\n",
    "\n",
    "Lists the enablemane features for the Wallaroo instance.\n",
    "\n",
    "* **PARAMETERS**\n",
    "  * null:  An empty set `{}`\n",
    "* **RETURNS**\n",
    "  * **features** - (*string*): Enabled features.\n",
    "  * **name** - (*string*): Name of the Wallaroo instance.\n",
    "  * **is_auth_enabled** - (*bool*): Whether authentication is enabled."
   ]
  },
  {
   "cell_type": "code",
   "execution_count": 37,
   "id": "8983b258-32db-4f48-bc4e-9a883abeddd4",
   "metadata": {},
   "outputs": [
    {
     "data": {
      "text/plain": [
       "{'features': {'plateau': 'true'},\n",
       " 'name': 'Wallaroo Dev',\n",
       " 'is_auth_enabled': True}"
      ]
     },
     "execution_count": 37,
     "metadata": {},
     "output_type": "execute_result"
    }
   ],
   "source": [
    "# List enablement features\n",
    "\n",
    "apiRequest = \"/features/list\"\n",
    "\n",
    "data = {\n",
    "}\n",
    "\n",
    "response = get_wallaroo_response(APIURL, apiRequest, TOKEN, data)\n",
    "response"
   ]
  }
 ],
 "metadata": {
  "kernelspec": {
   "display_name": "Python 3.10.6 64-bit",
   "language": "python",
   "name": "python3"
  },
  "language_info": {
   "codemirror_mode": {
    "name": "ipython",
    "version": 3
   },
   "file_extension": ".py",
   "mimetype": "text/x-python",
   "name": "python",
   "nbconvert_exporter": "python",
   "pygments_lexer": "ipython3",
   "version": "3.10.6"
  },
  "vscode": {
   "interpreter": {
    "hash": "b0fa6594d8f4cbf19f97940f81e996739fb7646882a419484c72d19e05852a7e"
   }
  }
 },
 "nbformat": 4,
 "nbformat_minor": 5
}
